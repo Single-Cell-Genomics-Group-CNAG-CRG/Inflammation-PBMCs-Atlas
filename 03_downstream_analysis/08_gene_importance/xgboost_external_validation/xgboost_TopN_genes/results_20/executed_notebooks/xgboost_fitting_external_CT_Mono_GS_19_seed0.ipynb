{
 "cells": [
  {
   "cell_type": "code",
   "execution_count": 1,
   "id": "a6b1b118",
   "metadata": {
    "editable": true,
    "execution": {
     "iopub.execute_input": "2025-05-15T16:00:22.486935Z",
     "iopub.status.busy": "2025-05-15T16:00:22.486795Z",
     "iopub.status.idle": "2025-05-15T16:00:22.489404Z",
     "shell.execute_reply": "2025-05-15T16:00:22.489104Z"
    },
    "papermill": {
     "duration": 0.041429,
     "end_time": "2025-05-15T16:00:22.490278",
     "exception": false,
     "start_time": "2025-05-15T16:00:22.448849",
     "status": "completed"
    },
    "slideshow": {
     "slide_type": ""
    },
    "tags": [
     "parameters"
    ]
   },
   "outputs": [],
   "source": [
    "CELL_TYPE = 'pDC'\n",
    "N_GENES: int = 20\n",
    "SEED = 'shap_studyID' #'disease_NOstudy' 'study_NOdisease' or 'int' or 'shap_studyID'\n",
    "TEST_SPLIT_IDX: int = 1 #[0,4]"
   ]
  },
  {
   "cell_type": "code",
   "execution_count": 2,
   "id": "ee3a176a",
   "metadata": {
    "execution": {
     "iopub.execute_input": "2025-05-15T16:00:22.523196Z",
     "iopub.status.busy": "2025-05-15T16:00:22.522805Z",
     "iopub.status.idle": "2025-05-15T16:00:22.524913Z",
     "shell.execute_reply": "2025-05-15T16:00:22.524628Z"
    },
    "papermill": {
     "duration": 0.008921,
     "end_time": "2025-05-15T16:00:22.525680",
     "exception": false,
     "start_time": "2025-05-15T16:00:22.516759",
     "status": "completed"
    },
    "tags": [
     "injected-parameters"
    ]
   },
   "outputs": [],
   "source": [
    "# Parameters\n",
    "CELL_TYPE = \"Mono\"\n",
    "SEED = 19\n",
    "TEST_SPLIT_IDX = 0\n"
   ]
  },
  {
   "cell_type": "code",
   "execution_count": 3,
   "id": "1c5bc5fa",
   "metadata": {
    "execution": {
     "iopub.execute_input": "2025-05-15T16:00:22.580387Z",
     "iopub.status.busy": "2025-05-15T16:00:22.580255Z",
     "iopub.status.idle": "2025-05-15T16:00:22.582326Z",
     "shell.execute_reply": "2025-05-15T16:00:22.582035Z"
    },
    "papermill": {
     "duration": 0.026715,
     "end_time": "2025-05-15T16:00:22.583107",
     "exception": false,
     "start_time": "2025-05-15T16:00:22.556392",
     "status": "completed"
    },
    "tags": []
   },
   "outputs": [],
   "source": [
    "N_SPLITS: int = 5\n",
    "N_TRIALS: int = 50"
   ]
  },
  {
   "cell_type": "code",
   "execution_count": 4,
   "id": "c8806585",
   "metadata": {
    "execution": {
     "iopub.execute_input": "2025-05-15T16:00:22.659598Z",
     "iopub.status.busy": "2025-05-15T16:00:22.659140Z",
     "iopub.status.idle": "2025-05-15T16:00:23.965978Z",
     "shell.execute_reply": "2025-05-15T16:00:23.965532Z"
    },
    "papermill": {
     "duration": 1.324062,
     "end_time": "2025-05-15T16:00:23.967138",
     "exception": false,
     "start_time": "2025-05-15T16:00:22.643076",
     "status": "completed"
    },
    "tags": []
   },
   "outputs": [],
   "source": [
    "import os\n",
    "import sys\n",
    "from pyprojroot.here import here\n",
    "import pandas as pd\n",
    "import anndata as ad\n",
    "import numpy as np\n",
    "import math\n",
    "from sklearn.model_selection import StratifiedGroupKFold\n",
    "from sklearn.preprocessing import LabelEncoder\n",
    "from sklearn.metrics import f1_score\n",
    "import matplotlib.pyplot as plt\n",
    "import seaborn as sns\n",
    "from itertools import product\n",
    "from sklearn.metrics import balanced_accuracy_score, f1_score\n",
    "import optuna\n",
    "\n",
    "import joblib\n",
    "import pickle\n",
    "import datetime\n",
    "\n",
    "import collections\n",
    "\n",
    "import xgboost\n",
    "from sklearn.preprocessing import LabelEncoder\n",
    "\n",
    "import scipy.sparse as ssp\n",
    "import joblib\n",
    "\n",
    "from dotenv import load_dotenv"
   ]
  },
  {
   "cell_type": "code",
   "execution_count": 5,
   "id": "3f2a031e",
   "metadata": {
    "execution": {
     "iopub.execute_input": "2025-05-15T16:00:23.993944Z",
     "iopub.status.busy": "2025-05-15T16:00:23.993636Z",
     "iopub.status.idle": "2025-05-15T16:00:23.999045Z",
     "shell.execute_reply": "2025-05-15T16:00:23.998726Z"
    },
    "papermill": {
     "duration": 0.026117,
     "end_time": "2025-05-15T16:00:23.999889",
     "exception": false,
     "start_time": "2025-05-15T16:00:23.973772",
     "status": "completed"
    },
    "tags": []
   },
   "outputs": [
    {
     "data": {
      "text/plain": [
       "True"
      ]
     },
     "execution_count": 5,
     "metadata": {},
     "output_type": "execute_result"
    }
   ],
   "source": [
    "load_dotenv()"
   ]
  },
  {
   "cell_type": "markdown",
   "id": "12c718e3",
   "metadata": {
    "papermill": {
     "duration": 0.025477,
     "end_time": "2025-05-15T16:00:24.031415",
     "exception": false,
     "start_time": "2025-05-15T16:00:24.005938",
     "status": "completed"
    },
    "tags": []
   },
   "source": [
    "# LOAD DATASET"
   ]
  },
  {
   "cell_type": "code",
   "execution_count": 6,
   "id": "4d132cf1",
   "metadata": {
    "execution": {
     "iopub.execute_input": "2025-05-15T16:00:24.051275Z",
     "iopub.status.busy": "2025-05-15T16:00:24.050871Z",
     "iopub.status.idle": "2025-05-15T16:00:25.216634Z",
     "shell.execute_reply": "2025-05-15T16:00:25.216243Z"
    },
    "papermill": {
     "duration": 1.173756,
     "end_time": "2025-05-15T16:00:25.217691",
     "exception": false,
     "start_time": "2025-05-15T16:00:24.043935",
     "status": "completed"
    },
    "tags": []
   },
   "outputs": [],
   "source": [
    "train_adata = ad.read_h5ad(\n",
    "    here(f'03_downstream_analysis/08_gene_importance/xgboost_external_validation/xgboost_TopN_genes/data_cellTypes/EXTERNAL_{CELL_TYPE}.filtered.log1p.h5ad')\n",
    ")"
   ]
  },
  {
   "cell_type": "code",
   "execution_count": 7,
   "id": "717a9f6f",
   "metadata": {
    "execution": {
     "iopub.execute_input": "2025-05-15T16:00:25.256733Z",
     "iopub.status.busy": "2025-05-15T16:00:25.256218Z",
     "iopub.status.idle": "2025-05-15T16:00:25.289459Z",
     "shell.execute_reply": "2025-05-15T16:00:25.289114Z"
    },
    "papermill": {
     "duration": 0.063755,
     "end_time": "2025-05-15T16:00:25.290308",
     "exception": false,
     "start_time": "2025-05-15T16:00:25.226553",
     "status": "completed"
    },
    "tags": []
   },
   "outputs": [
    {
     "name": "stdout",
     "output_type": "stream",
     "text": [
      "['ENSG00000169385' 'ENSG00000170458' 'ENSG00000113615' 'ENSG00000170525'\n",
      " 'ENSG00000167705' 'ENSG00000121879' 'ENSG00000265972' 'ENSG00000145287'\n",
      " 'ENSG00000138802' 'ENSG00000168394' 'ENSG00000113916' 'ENSG00000133872'\n",
      " 'ENSG00000100100' 'ENSG00000141574' 'ENSG00000100911' 'ENSG00000240065'\n",
      " 'ENSG00000100368' 'ENSG00000116171' 'ENSG00000167004' 'ENSG00000102524'\n",
      " 'ENSG00000162434' 'ENSG00000177721' 'ENSG00000147168' 'ENSG00000101608'\n",
      " 'ENSG00000185291' 'ENSG00000175203' 'ENSG00000075785' 'ENSG00000160712'\n",
      " 'ENSG00000131196' 'ENSG00000129757' 'ENSG00000197746' 'ENSG00000126267'\n",
      " 'ENSG00000197766' 'ENSG00000140749' 'ENSG00000140968' 'ENSG00000112137'\n",
      " 'ENSG00000166710' 'ENSG00000119917' 'ENSG00000171608' 'ENSG00000137801'\n",
      " 'ENSG00000030582' 'ENSG00000227507' 'ENSG00000136003' 'ENSG00000196735'\n",
      " 'ENSG00000138674' 'ENSG00000197747' 'ENSG00000125534' 'ENSG00000163220'\n",
      " 'ENSG00000134352' 'ENSG00000127528' 'ENSG00000130724' 'ENSG00000125148'\n",
      " 'ENSG00000135968' 'ENSG00000169403' 'ENSG00000183020' 'ENSG00000090863'\n",
      " 'ENSG00000120889' 'ENSG00000146592' 'ENSG00000175567' 'ENSG00000160710'\n",
      " 'ENSG00000169564' 'ENSG00000185215' 'ENSG00000027697' 'ENSG00000057657'\n",
      " 'ENSG00000144746' 'ENSG00000175768' 'ENSG00000165092' 'ENSG00000141505'\n",
      " 'ENSG00000143110' 'ENSG00000178695' 'ENSG00000130066' 'ENSG00000101336'\n",
      " 'ENSG00000177606' 'ENSG00000140264' 'ENSG00000179295' 'ENSG00000173757'\n",
      " 'ENSG00000139318' 'ENSG00000183019' 'ENSG00000143575' 'ENSG00000147443'\n",
      " 'ENSG00000137100' 'ENSG00000136869' 'ENSG00000111348' 'ENSG00000104964'\n",
      " 'ENSG00000123358' 'ENSG00000140564' 'ENSG00000242574' 'ENSG00000106803'\n",
      " 'ENSG00000152219' 'ENSG00000123685' 'ENSG00000018280' 'ENSG00000176788'\n",
      " 'ENSG00000026297' 'ENSG00000165168' 'ENSG00000163660' 'ENSG00000264364'\n",
      " 'ENSG00000170296' 'ENSG00000092820' 'ENSG00000121316' 'ENSG00000082074'\n",
      " 'ENSG00000019582' 'ENSG00000172183' 'ENSG00000066136' 'ENSG00000113732'\n",
      " 'ENSG00000085514' 'ENSG00000156411' 'ENSG00000066294' 'ENSG00000137331'\n",
      " 'ENSG00000042753' 'ENSG00000108622' 'ENSG00000150337' 'ENSG00000197405'\n",
      " 'ENSG00000102265' 'ENSG00000118508']\n"
     ]
    }
   ],
   "source": [
    "if SEED != 'all':\n",
    "    gene_subset = np.load(here(f'03_downstream_analysis/08_gene_importance/xgboost_external_validation/shap_gene_selection/gene_subsets_{N_GENES}/{CELL_TYPE}_{SEED}.npy'), allow_pickle=True)\n",
    "    train_adata = train_adata[:,gene_subset]\n",
    "    print(gene_subset)\n",
    "elif SEED == 'all':\n",
    "    print('Using all genes')\n",
    "else:\n",
    "    raise ValueError()"
   ]
  },
  {
   "cell_type": "code",
   "execution_count": 8,
   "id": "4a932cb5",
   "metadata": {
    "execution": {
     "iopub.execute_input": "2025-05-15T16:00:25.302709Z",
     "iopub.status.busy": "2025-05-15T16:00:25.302557Z",
     "iopub.status.idle": "2025-05-15T16:00:25.305399Z",
     "shell.execute_reply": "2025-05-15T16:00:25.305100Z"
    },
    "papermill": {
     "duration": 0.00989,
     "end_time": "2025-05-15T16:00:25.306253",
     "exception": false,
     "start_time": "2025-05-15T16:00:25.296363",
     "status": "completed"
    },
    "tags": []
   },
   "outputs": [
    {
     "data": {
      "text/plain": [
       "(137435, 114)"
      ]
     },
     "execution_count": 8,
     "metadata": {},
     "output_type": "execute_result"
    }
   ],
   "source": [
    "train_adata.shape"
   ]
  },
  {
   "cell_type": "code",
   "execution_count": 9,
   "id": "54a54064",
   "metadata": {
    "execution": {
     "iopub.execute_input": "2025-05-15T16:00:25.358326Z",
     "iopub.status.busy": "2025-05-15T16:00:25.358186Z",
     "iopub.status.idle": "2025-05-15T16:00:25.362019Z",
     "shell.execute_reply": "2025-05-15T16:00:25.361720Z"
    },
    "papermill": {
     "duration": 0.011344,
     "end_time": "2025-05-15T16:00:25.362811",
     "exception": false,
     "start_time": "2025-05-15T16:00:25.351467",
     "status": "completed"
    },
    "tags": []
   },
   "outputs": [
    {
     "data": {
      "text/plain": [
       "['RA', 'healthy', 'COVID', 'HIV', 'cirrhosis', 'CD', 'SLE', 'sepsis']\n",
       "Categories (8, object): ['CD', 'COVID', 'HIV', 'RA', 'SLE', 'cirrhosis', 'healthy', 'sepsis']"
      ]
     },
     "execution_count": 9,
     "metadata": {},
     "output_type": "execute_result"
    }
   ],
   "source": [
    "train_adata.obs.disease.unique()"
   ]
  },
  {
   "cell_type": "code",
   "execution_count": 10,
   "id": "8d37a626",
   "metadata": {
    "execution": {
     "iopub.execute_input": "2025-05-15T16:00:25.409893Z",
     "iopub.status.busy": "2025-05-15T16:00:25.409753Z",
     "iopub.status.idle": "2025-05-15T16:00:25.413461Z",
     "shell.execute_reply": "2025-05-15T16:00:25.413166Z"
    },
    "papermill": {
     "duration": 0.026315,
     "end_time": "2025-05-15T16:00:25.414273",
     "exception": false,
     "start_time": "2025-05-15T16:00:25.387958",
     "status": "completed"
    },
    "tags": []
   },
   "outputs": [
    {
     "data": {
      "text/plain": [
       "['SCGT00val_I0364_T0', 'SCGT00val_I036028_T0', 'SCGT00val_I036024_T0', 'SCGT00val_I036023_T0', 'SCGT00val_I036019_T0', ..., '10XGenomics_10XHC2_T0', '10XGenomics_10XHC3_T0', '10XGenomics_10XHC5_T0', '10XGenomics_10XHC7_T0', '10XGenomics_10XHC8_T0']\n",
       "Length: 86\n",
       "Categories (86, object): ['10XGenomics_10XHC1_T0', '10XGenomics_10XHC2_T0', '10XGenomics_10XHC3_T0', '10XGenomics_10XHC4_T0', ..., 'Savage2021_BRISL6_T0', 'Savage2021_BRISL7_T0', 'Savage2021_PIDA_T0', 'Savage2021_PIDB_T0']"
      ]
     },
     "execution_count": 10,
     "metadata": {},
     "output_type": "execute_result"
    }
   ],
   "source": [
    "train_adata.obs.sampleID.unique()"
   ]
  },
  {
   "cell_type": "code",
   "execution_count": 11,
   "id": "12a8b745",
   "metadata": {
    "execution": {
     "iopub.execute_input": "2025-05-15T16:00:25.444811Z",
     "iopub.status.busy": "2025-05-15T16:00:25.444441Z",
     "iopub.status.idle": "2025-05-15T16:00:25.770540Z",
     "shell.execute_reply": "2025-05-15T16:00:25.770157Z"
    },
    "papermill": {
     "duration": 0.333637,
     "end_time": "2025-05-15T16:00:25.771600",
     "exception": false,
     "start_time": "2025-05-15T16:00:25.437963",
     "status": "completed"
    },
    "tags": []
   },
   "outputs": [],
   "source": [
    "all_idxs = np.arange(train_adata.obs.shape[0])\n",
    "left_out_splits = [s[1] for s in StratifiedGroupKFold(n_splits=N_SPLITS).split(all_idxs, train_adata.obs.disease, train_adata.obs.sampleID)]"
   ]
  },
  {
   "cell_type": "code",
   "execution_count": 12,
   "id": "03b28d7c",
   "metadata": {
    "execution": {
     "iopub.execute_input": "2025-05-15T16:00:25.823855Z",
     "iopub.status.busy": "2025-05-15T16:00:25.823698Z",
     "iopub.status.idle": "2025-05-15T16:00:25.826910Z",
     "shell.execute_reply": "2025-05-15T16:00:25.826601Z"
    },
    "papermill": {
     "duration": 0.017779,
     "end_time": "2025-05-15T16:00:25.827680",
     "exception": false,
     "start_time": "2025-05-15T16:00:25.809901",
     "status": "completed"
    },
    "tags": []
   },
   "outputs": [
    {
     "data": {
      "text/plain": [
       "([2, 3, 4], 1, 0)"
      ]
     },
     "execution_count": 12,
     "metadata": {},
     "output_type": "execute_result"
    }
   ],
   "source": [
    "TRAIN_SPLIT_IDXS = [0,1,2,3,4]\n",
    "VAL_SPLIT_IDX = (TEST_SPLIT_IDX + 1) % 5\n",
    "TRAIN_SPLIT_IDXS.remove(TEST_SPLIT_IDX)\n",
    "TRAIN_SPLIT_IDXS.remove(VAL_SPLIT_IDX)\n",
    "TRAIN_SPLIT_IDXS, VAL_SPLIT_IDX, TEST_SPLIT_IDX"
   ]
  },
  {
   "cell_type": "code",
   "execution_count": 13,
   "id": "01aa5482",
   "metadata": {
    "execution": {
     "iopub.execute_input": "2025-05-15T16:00:25.851727Z",
     "iopub.status.busy": "2025-05-15T16:00:25.851586Z",
     "iopub.status.idle": "2025-05-15T16:00:25.853948Z",
     "shell.execute_reply": "2025-05-15T16:00:25.853647Z"
    },
    "papermill": {
     "duration": 0.020742,
     "end_time": "2025-05-15T16:00:25.854701",
     "exception": false,
     "start_time": "2025-05-15T16:00:25.833959",
     "status": "completed"
    },
    "tags": []
   },
   "outputs": [],
   "source": [
    "train_idxs = np.concatenate([left_out_splits[idx] for idx in TRAIN_SPLIT_IDXS])\n",
    "val_idxs = left_out_splits[VAL_SPLIT_IDX]\n",
    "test_idxs = left_out_splits[TEST_SPLIT_IDX]"
   ]
  },
  {
   "cell_type": "markdown",
   "id": "a0c0ef95",
   "metadata": {
    "papermill": {
     "duration": 0.006594,
     "end_time": "2025-05-15T16:00:25.878746",
     "exception": false,
     "start_time": "2025-05-15T16:00:25.872152",
     "status": "completed"
    },
    "tags": []
   },
   "source": [
    "### SUBSET DATASET INTO TRAIN/TEST/VAL SPLITS"
   ]
  },
  {
   "cell_type": "code",
   "execution_count": 14,
   "id": "5b6f69f7",
   "metadata": {
    "execution": {
     "iopub.execute_input": "2025-05-15T16:00:25.918039Z",
     "iopub.status.busy": "2025-05-15T16:00:25.917723Z",
     "iopub.status.idle": "2025-05-15T16:00:26.372571Z",
     "shell.execute_reply": "2025-05-15T16:00:26.372230Z"
    },
    "papermill": {
     "duration": 0.462375,
     "end_time": "2025-05-15T16:00:26.373390",
     "exception": false,
     "start_time": "2025-05-15T16:00:25.911015",
     "status": "completed"
    },
    "tags": []
   },
   "outputs": [
    {
     "data": {
      "text/plain": [
       "((82534, 114), (27414, 114), (27487, 114))"
      ]
     },
     "execution_count": 14,
     "metadata": {},
     "output_type": "execute_result"
    }
   ],
   "source": [
    "X_train = train_adata.X[train_idxs]\n",
    "X_test = train_adata.X[test_idxs]\n",
    "X_val = train_adata.X[val_idxs]\n",
    "X_train.shape, X_test.shape, X_val.shape"
   ]
  },
  {
   "cell_type": "code",
   "execution_count": 15,
   "id": "e214278b",
   "metadata": {
    "execution": {
     "iopub.execute_input": "2025-05-15T16:00:26.395659Z",
     "iopub.status.busy": "2025-05-15T16:00:26.395498Z",
     "iopub.status.idle": "2025-05-15T16:00:26.407407Z",
     "shell.execute_reply": "2025-05-15T16:00:26.407065Z"
    },
    "papermill": {
     "duration": 0.028306,
     "end_time": "2025-05-15T16:00:26.408269",
     "exception": false,
     "start_time": "2025-05-15T16:00:26.379963",
     "status": "completed"
    },
    "tags": []
   },
   "outputs": [
    {
     "data": {
      "text/plain": [
       "((82534,), (27414,), (27487,))"
      ]
     },
     "execution_count": 15,
     "metadata": {},
     "output_type": "execute_result"
    }
   ],
   "source": [
    "y_train = train_adata.obs.iloc[train_idxs].disease.values.astype(str)\n",
    "y_test = train_adata.obs.iloc[test_idxs].disease.values.astype(str)\n",
    "y_val = train_adata.obs.iloc[val_idxs].disease.values.astype(str)\n",
    "y_train.shape, y_test.shape, y_val.shape"
   ]
  },
  {
   "cell_type": "code",
   "execution_count": 16,
   "id": "72838adc",
   "metadata": {
    "execution": {
     "iopub.execute_input": "2025-05-15T16:00:26.478476Z",
     "iopub.status.busy": "2025-05-15T16:00:26.478327Z",
     "iopub.status.idle": "2025-05-15T16:00:26.508649Z",
     "shell.execute_reply": "2025-05-15T16:00:26.508190Z"
    },
    "papermill": {
     "duration": 0.038124,
     "end_time": "2025-05-15T16:00:26.509662",
     "exception": false,
     "start_time": "2025-05-15T16:00:26.471538",
     "status": "completed"
    },
    "tags": []
   },
   "outputs": [],
   "source": [
    "lenc = LabelEncoder()\n",
    "y_train_enc = lenc.fit_transform(y_train)\n",
    "y_val_enc = lenc.transform(y_val)\n",
    "y_test_enc = lenc.transform(y_test)"
   ]
  },
  {
   "cell_type": "markdown",
   "id": "90d15106",
   "metadata": {
    "papermill": {
     "duration": 0.009828,
     "end_time": "2025-05-15T16:00:26.526705",
     "exception": false,
     "start_time": "2025-05-15T16:00:26.516877",
     "status": "completed"
    },
    "tags": []
   },
   "source": [
    "### GENERATE F1 "
   ]
  },
  {
   "cell_type": "code",
   "execution_count": 17,
   "id": "cc0bae8c",
   "metadata": {
    "execution": {
     "iopub.execute_input": "2025-05-15T16:00:26.588505Z",
     "iopub.status.busy": "2025-05-15T16:00:26.588333Z",
     "iopub.status.idle": "2025-05-15T16:00:26.591119Z",
     "shell.execute_reply": "2025-05-15T16:00:26.590734Z"
    },
    "papermill": {
     "duration": 0.037322,
     "end_time": "2025-05-15T16:00:26.592266",
     "exception": false,
     "start_time": "2025-05-15T16:00:26.554944",
     "status": "completed"
    },
    "tags": []
   },
   "outputs": [],
   "source": [
    "def custom_f1_score(y_true, y_pred):\n",
    "    return -f1_score(y_true, y_pred.argmax(1), average='weighted')"
   ]
  },
  {
   "cell_type": "code",
   "execution_count": 18,
   "id": "41160211",
   "metadata": {
    "execution": {
     "iopub.execute_input": "2025-05-15T16:00:26.667129Z",
     "iopub.status.busy": "2025-05-15T16:00:26.666948Z",
     "iopub.status.idle": "2025-05-15T16:00:26.670848Z",
     "shell.execute_reply": "2025-05-15T16:00:26.670486Z"
    },
    "papermill": {
     "duration": 0.072921,
     "end_time": "2025-05-15T16:00:26.671762",
     "exception": false,
     "start_time": "2025-05-15T16:00:26.598841",
     "status": "completed"
    },
    "tags": []
   },
   "outputs": [],
   "source": [
    "eval_metric=custom_f1_score\n",
    "eval_metric_name='custom_f1_score'\n",
    "\n",
    "def objective(trial):\n",
    "    params = {\n",
    "        'n_estimators': 1500,\n",
    "        'max_depth': trial.suggest_int('max_depth', 3, 20),\n",
    "        'min_child_weight': trial.suggest_int('min_child_weight', 1, 250),\n",
    "        'subsample': trial.suggest_float('subsample', 0.1, 1.0),\n",
    "        'colsample_bynode': trial.suggest_float('colsample_bynode', 0.1, 1.0),\n",
    "        'learning_rate': trial.suggest_float('learning_rate', 1e-3, 5e-1, log=True),\n",
    "    }\n",
    "    pruning_callback = optuna.integration.XGBoostPruningCallback(trial, f'validation_0-{eval_metric_name}')\n",
    "    es_callback = xgboost.callback.EarlyStopping(20, min_delta=0.001)\n",
    "    xgb = xgboost.XGBClassifier(\n",
    "        eval_metric=eval_metric,\n",
    "        callbacks=[pruning_callback, es_callback],\n",
    "        n_jobs=5,\n",
    "        **params\n",
    "    )\n",
    "    xgb.fit(\n",
    "        X_train, \n",
    "        y_train_enc, \n",
    "        verbose=0,\n",
    "        eval_set=[(X_val, y_val_enc)],\n",
    "    )\n",
    "    trial.set_user_attr('best_iteration', xgb.best_iteration)\n",
    "\n",
    "    return xgb.best_score"
   ]
  },
  {
   "cell_type": "code",
   "execution_count": 19,
   "id": "0dab6053",
   "metadata": {
    "execution": {
     "iopub.execute_input": "2025-05-15T16:00:26.739216Z",
     "iopub.status.busy": "2025-05-15T16:00:26.739047Z",
     "iopub.status.idle": "2025-05-15T16:22:36.602751Z",
     "shell.execute_reply": "2025-05-15T16:22:36.602301Z"
    },
    "papermill": {
     "duration": 1329.897492,
     "end_time": "2025-05-15T16:22:36.603781",
     "exception": false,
     "start_time": "2025-05-15T16:00:26.706289",
     "status": "completed"
    },
    "scrolled": true,
    "tags": []
   },
   "outputs": [
    {
     "name": "stderr",
     "output_type": "stream",
     "text": [
      "[I 2025-05-15 18:00:26,740] A new study created in memory with name: no-name-0c2a73eb-b481-4588-9f26-06cac76bc0e0\n"
     ]
    },
    {
     "name": "stderr",
     "output_type": "stream",
     "text": [
      "[I 2025-05-15 18:00:35,174] Trial 0 finished with value: -0.607757 and parameters: {'max_depth': 9, 'min_child_weight': 238, 'subsample': 0.7587945476302645, 'colsample_bynode': 0.6387926357773329, 'learning_rate': 0.0026368755339723046}. Best is trial 0 with value: -0.607757.\n"
     ]
    },
    {
     "name": "stderr",
     "output_type": "stream",
     "text": [
      "[I 2025-05-15 18:01:49,646] Trial 1 finished with value: -0.709524 and parameters: {'max_depth': 5, 'min_child_weight': 15, 'subsample': 0.8795585311974417, 'colsample_bynode': 0.6410035105688879, 'learning_rate': 0.08148293210105287}. Best is trial 1 with value: -0.709524.\n"
     ]
    },
    {
     "name": "stderr",
     "output_type": "stream",
     "text": [
      "[I 2025-05-15 18:02:02,748] Trial 2 finished with value: -0.56614 and parameters: {'max_depth': 3, 'min_child_weight': 243, 'subsample': 0.8491983767203796, 'colsample_bynode': 0.29110519961044856, 'learning_rate': 0.003095566460242371}. Best is trial 1 with value: -0.709524.\n"
     ]
    },
    {
     "name": "stderr",
     "output_type": "stream",
     "text": [
      "[I 2025-05-15 18:02:09,375] Trial 3 finished with value: -0.620332 and parameters: {'max_depth': 6, 'min_child_weight': 77, 'subsample': 0.5722807884690141, 'colsample_bynode': 0.48875051677790415, 'learning_rate': 0.006109683510122491}. Best is trial 1 with value: -0.709524.\n"
     ]
    },
    {
     "name": "stderr",
     "output_type": "stream",
     "text": [
      "[I 2025-05-15 18:05:23,090] Trial 4 finished with value: -0.701704 and parameters: {'max_depth': 14, 'min_child_weight': 35, 'subsample': 0.3629301836816964, 'colsample_bynode': 0.4297256589643226, 'learning_rate': 0.01701841881702917}. Best is trial 1 with value: -0.709524.\n"
     ]
    },
    {
     "name": "stderr",
     "output_type": "stream",
     "text": [
      "[I 2025-05-15 18:05:32,246] Trial 5 finished with value: -0.624323 and parameters: {'max_depth': 17, 'min_child_weight': 50, 'subsample': 0.5628109945722505, 'colsample_bynode': 0.6331731119758383, 'learning_rate': 0.0013346527038305934}. Best is trial 1 with value: -0.709524.\n"
     ]
    },
    {
     "name": "stderr",
     "output_type": "stream",
     "text": [
      "[I 2025-05-15 18:05:32,986] Trial 6 pruned. Trial was pruned at iteration 0.\n"
     ]
    },
    {
     "name": "stderr",
     "output_type": "stream",
     "text": [
      "[I 2025-05-15 18:05:33,711] Trial 7 pruned. Trial was pruned at iteration 0.\n"
     ]
    },
    {
     "name": "stderr",
     "output_type": "stream",
     "text": [
      "[I 2025-05-15 18:05:34,405] Trial 8 pruned. Trial was pruned at iteration 0.\n"
     ]
    },
    {
     "name": "stderr",
     "output_type": "stream",
     "text": [
      "[I 2025-05-15 18:05:35,197] Trial 9 pruned. Trial was pruned at iteration 0.\n"
     ]
    },
    {
     "name": "stderr",
     "output_type": "stream",
     "text": [
      "[I 2025-05-15 18:05:36,136] Trial 10 pruned. Trial was pruned at iteration 0.\n"
     ]
    },
    {
     "name": "stderr",
     "output_type": "stream",
     "text": [
      "[I 2025-05-15 18:07:26,921] Trial 11 finished with value: -0.712444 and parameters: {'max_depth': 10, 'min_child_weight': 3, 'subsample': 0.34014304150377095, 'colsample_bynode': 0.40131565860091256, 'learning_rate': 0.057899203666416425}. Best is trial 11 with value: -0.712444.\n"
     ]
    },
    {
     "name": "stderr",
     "output_type": "stream",
     "text": [
      "[I 2025-05-15 18:08:48,382] Trial 12 finished with value: -0.711889 and parameters: {'max_depth': 8, 'min_child_weight': 3, 'subsample': 0.3693916175642251, 'colsample_bynode': 0.351751713087183, 'learning_rate': 0.07220195396446884}. Best is trial 11 with value: -0.712444.\n"
     ]
    },
    {
     "name": "stderr",
     "output_type": "stream",
     "text": [
      "[I 2025-05-15 18:08:49,139] Trial 13 pruned. Trial was pruned at iteration 0.\n"
     ]
    },
    {
     "name": "stderr",
     "output_type": "stream",
     "text": [
      "[I 2025-05-15 18:08:49,898] Trial 14 pruned. Trial was pruned at iteration 0.\n"
     ]
    },
    {
     "name": "stderr",
     "output_type": "stream",
     "text": [
      "[I 2025-05-15 18:10:32,618] Trial 15 finished with value: -0.713294 and parameters: {'max_depth': 20, 'min_child_weight': 2, 'subsample': 0.27832770865353873, 'colsample_bynode': 0.17061614647010237, 'learning_rate': 0.10438411522099604}. Best is trial 15 with value: -0.713294.\n"
     ]
    },
    {
     "name": "stderr",
     "output_type": "stream",
     "text": [
      "[I 2025-05-15 18:10:33,390] Trial 16 pruned. Trial was pruned at iteration 0.\n"
     ]
    },
    {
     "name": "stderr",
     "output_type": "stream",
     "text": [
      "[I 2025-05-15 18:10:34,164] Trial 17 pruned. Trial was pruned at iteration 0.\n"
     ]
    },
    {
     "name": "stderr",
     "output_type": "stream",
     "text": [
      "[I 2025-05-15 18:11:34,342] Trial 18 finished with value: -0.723162 and parameters: {'max_depth': 11, 'min_child_weight': 37, 'subsample': 0.663856845060101, 'colsample_bynode': 0.44647111281014773, 'learning_rate': 0.16384379577990202}. Best is trial 18 with value: -0.723162.\n"
     ]
    },
    {
     "name": "stderr",
     "output_type": "stream",
     "text": [
      "[I 2025-05-15 18:11:35,290] Trial 19 pruned. Trial was pruned at iteration 0.\n"
     ]
    },
    {
     "name": "stderr",
     "output_type": "stream",
     "text": [
      "[I 2025-05-15 18:12:37,852] Trial 20 finished with value: -0.719996 and parameters: {'max_depth': 12, 'min_child_weight': 32, 'subsample': 0.7034906283443978, 'colsample_bynode': 0.7932377975869973, 'learning_rate': 0.15105154618922081}. Best is trial 18 with value: -0.723162.\n"
     ]
    },
    {
     "name": "stderr",
     "output_type": "stream",
     "text": [
      "[I 2025-05-15 18:13:47,425] Trial 21 finished with value: -0.722401 and parameters: {'max_depth': 12, 'min_child_weight': 30, 'subsample': 0.677437394015147, 'colsample_bynode': 0.7873726554233677, 'learning_rate': 0.15118624353009463}. Best is trial 18 with value: -0.723162.\n"
     ]
    },
    {
     "name": "stderr",
     "output_type": "stream",
     "text": [
      "[I 2025-05-15 18:13:48,287] Trial 22 pruned. Trial was pruned at iteration 0.\n"
     ]
    },
    {
     "name": "stderr",
     "output_type": "stream",
     "text": [
      "[I 2025-05-15 18:13:49,227] Trial 23 pruned. Trial was pruned at iteration 0.\n"
     ]
    },
    {
     "name": "stderr",
     "output_type": "stream",
     "text": [
      "[I 2025-05-15 18:13:50,186] Trial 24 pruned. Trial was pruned at iteration 0.\n"
     ]
    },
    {
     "name": "stderr",
     "output_type": "stream",
     "text": [
      "[I 2025-05-15 18:14:57,435] Trial 25 finished with value: -0.718185 and parameters: {'max_depth': 12, 'min_child_weight': 28, 'subsample': 0.48739983732246656, 'colsample_bynode': 0.5116453783457127, 'learning_rate': 0.10935455406320087}. Best is trial 18 with value: -0.723162.\n"
     ]
    },
    {
     "name": "stderr",
     "output_type": "stream",
     "text": [
      "[I 2025-05-15 18:14:58,264] Trial 26 pruned. Trial was pruned at iteration 0.\n"
     ]
    },
    {
     "name": "stderr",
     "output_type": "stream",
     "text": [
      "[I 2025-05-15 18:14:59,108] Trial 27 pruned. Trial was pruned at iteration 0.\n"
     ]
    },
    {
     "name": "stderr",
     "output_type": "stream",
     "text": [
      "[I 2025-05-15 18:16:09,056] Trial 28 finished with value: -0.721508 and parameters: {'max_depth': 13, 'min_child_weight': 21, 'subsample': 0.6217530514942389, 'colsample_bynode': 0.7318817621448669, 'learning_rate': 0.1447636529337498}. Best is trial 18 with value: -0.723162.\n"
     ]
    },
    {
     "name": "stderr",
     "output_type": "stream",
     "text": [
      "[I 2025-05-15 18:16:11,754] Trial 29 pruned. Trial was pruned at iteration 0.\n"
     ]
    },
    {
     "name": "stderr",
     "output_type": "stream",
     "text": [
      "[I 2025-05-15 18:16:12,544] Trial 30 pruned. Trial was pruned at iteration 0.\n"
     ]
    },
    {
     "name": "stderr",
     "output_type": "stream",
     "text": [
      "[I 2025-05-15 18:17:27,307] Trial 31 finished with value: -0.722721 and parameters: {'max_depth': 12, 'min_child_weight': 23, 'subsample': 0.6350563475470846, 'colsample_bynode': 0.8687416598931788, 'learning_rate': 0.14409530854779837}. Best is trial 18 with value: -0.723162.\n"
     ]
    },
    {
     "name": "stderr",
     "output_type": "stream",
     "text": [
      "[I 2025-05-15 18:18:10,176] Trial 32 finished with value: -0.723443 and parameters: {'max_depth': 13, 'min_child_weight': 22, 'subsample': 0.6166327350848416, 'colsample_bynode': 0.8659118953350515, 'learning_rate': 0.2945569055159961}. Best is trial 32 with value: -0.723443.\n"
     ]
    },
    {
     "name": "stderr",
     "output_type": "stream",
     "text": [
      "[I 2025-05-15 18:18:54,399] Trial 33 finished with value: -0.722002 and parameters: {'max_depth': 10, 'min_child_weight': 18, 'subsample': 0.8072473091172331, 'colsample_bynode': 0.875691158536414, 'learning_rate': 0.29533514123473714}. Best is trial 32 with value: -0.723443.\n"
     ]
    },
    {
     "name": "stderr",
     "output_type": "stream",
     "text": [
      "[I 2025-05-15 18:18:55,191] Trial 34 pruned. Trial was pruned at iteration 0.\n"
     ]
    },
    {
     "name": "stderr",
     "output_type": "stream",
     "text": [
      "[I 2025-05-15 18:19:39,047] Trial 35 finished with value: -0.719443 and parameters: {'max_depth': 14, 'min_child_weight': 17, 'subsample': 0.5080334823277528, 'colsample_bynode': 0.8596289941808412, 'learning_rate': 0.24873565948263954}. Best is trial 32 with value: -0.723443.\n"
     ]
    },
    {
     "name": "stderr",
     "output_type": "stream",
     "text": [
      "[I 2025-05-15 18:19:39,808] Trial 36 pruned. Trial was pruned at iteration 0.\n"
     ]
    },
    {
     "name": "stderr",
     "output_type": "stream",
     "text": [
      "[I 2025-05-15 18:19:40,508] Trial 37 pruned. Trial was pruned at iteration 0.\n"
     ]
    },
    {
     "name": "stderr",
     "output_type": "stream",
     "text": [
      "[I 2025-05-15 18:19:41,133] Trial 38 pruned. Trial was pruned at iteration 0.\n"
     ]
    },
    {
     "name": "stderr",
     "output_type": "stream",
     "text": [
      "[I 2025-05-15 18:19:41,905] Trial 39 pruned. Trial was pruned at iteration 0.\n"
     ]
    },
    {
     "name": "stderr",
     "output_type": "stream",
     "text": [
      "[I 2025-05-15 18:19:42,647] Trial 40 pruned. Trial was pruned at iteration 0.\n"
     ]
    },
    {
     "name": "stderr",
     "output_type": "stream",
     "text": [
      "[I 2025-05-15 18:20:27,411] Trial 41 finished with value: -0.720335 and parameters: {'max_depth': 10, 'min_child_weight': 17, 'subsample': 0.8216249808726194, 'colsample_bynode': 0.8703106999316865, 'learning_rate': 0.22582305453256693}. Best is trial 32 with value: -0.723443.\n"
     ]
    },
    {
     "name": "stderr",
     "output_type": "stream",
     "text": [
      "[I 2025-05-15 18:21:04,603] Trial 42 finished with value: -0.722603 and parameters: {'max_depth': 10, 'min_child_weight': 21, 'subsample': 0.7975272622772591, 'colsample_bynode': 0.8982433312695682, 'learning_rate': 0.48322120003030333}. Best is trial 32 with value: -0.723443.\n"
     ]
    },
    {
     "name": "stderr",
     "output_type": "stream",
     "text": [
      "[I 2025-05-15 18:21:05,421] Trial 43 pruned. Trial was pruned at iteration 0.\n"
     ]
    },
    {
     "name": "stderr",
     "output_type": "stream",
     "text": [
      "[I 2025-05-15 18:21:20,048] Trial 44 pruned. Trial was pruned at iteration 31.\n"
     ]
    },
    {
     "name": "stderr",
     "output_type": "stream",
     "text": [
      "[I 2025-05-15 18:21:55,982] Trial 45 finished with value: -0.721411 and parameters: {'max_depth': 11, 'min_child_weight': 12, 'subsample': 0.7960861928727062, 'colsample_bynode': 0.7724617028839799, 'learning_rate': 0.4961858681474356}. Best is trial 32 with value: -0.723443.\n"
     ]
    },
    {
     "name": "stderr",
     "output_type": "stream",
     "text": [
      "[I 2025-05-15 18:21:56,794] Trial 46 pruned. Trial was pruned at iteration 0.\n"
     ]
    },
    {
     "name": "stderr",
     "output_type": "stream",
     "text": [
      "[I 2025-05-15 18:22:33,133] Trial 47 finished with value: -0.717327 and parameters: {'max_depth': 8, 'min_child_weight': 9, 'subsample': 0.6558758377655838, 'colsample_bynode': 0.9120196110796508, 'learning_rate': 0.30106924533066687}. Best is trial 32 with value: -0.723443.\n"
     ]
    },
    {
     "name": "stderr",
     "output_type": "stream",
     "text": [
      "[I 2025-05-15 18:22:33,850] Trial 48 pruned. Trial was pruned at iteration 0.\n"
     ]
    },
    {
     "name": "stderr",
     "output_type": "stream",
     "text": [
      "[I 2025-05-15 18:22:36,521] Trial 49 pruned. Trial was pruned at iteration 3.\n"
     ]
    }
   ],
   "source": [
    "sampler = optuna.samplers.TPESampler(seed=42)\n",
    "study = optuna.create_study(direction='minimize', sampler=sampler)\n",
    "study.optimize(objective, n_trials=N_TRIALS, gc_after_trial=True)"
   ]
  },
  {
   "cell_type": "code",
   "execution_count": 20,
   "id": "641e004d",
   "metadata": {
    "execution": {
     "iopub.execute_input": "2025-05-15T16:22:36.621325Z",
     "iopub.status.busy": "2025-05-15T16:22:36.621131Z",
     "iopub.status.idle": "2025-05-15T16:22:36.649309Z",
     "shell.execute_reply": "2025-05-15T16:22:36.648895Z"
    },
    "papermill": {
     "duration": 0.037392,
     "end_time": "2025-05-15T16:22:36.650111",
     "exception": false,
     "start_time": "2025-05-15T16:22:36.612719",
     "status": "completed"
    },
    "tags": []
   },
   "outputs": [
    {
     "data": {
      "text/plain": [
       "['/scratch_isilon/groups/singlecell/shared/projects/Inflammation-PBMCs-Atlas/03_downstream_analysis/08_gene_importance/xgboost_external_validation/xgboost_TopN_genes/results_20/study/Mono_19_0_xgboost.pkl']"
      ]
     },
     "execution_count": 20,
     "metadata": {},
     "output_type": "execute_result"
    }
   ],
   "source": [
    "out_dir = here(f'03_downstream_analysis/08_gene_importance/xgboost_external_validation/xgboost_TopN_genes/results_{N_GENES}/study')\n",
    "\n",
    "if not os.path.exists(out_dir):\n",
    "    os.makedirs(out_dir)\n",
    "    \n",
    "joblib.dump(study,os.path.join(out_dir, f'{CELL_TYPE}_{SEED}_{TEST_SPLIT_IDX}_xgboost.pkl'))"
   ]
  },
  {
   "cell_type": "code",
   "execution_count": 21,
   "id": "81a7c84b",
   "metadata": {
    "execution": {
     "iopub.execute_input": "2025-05-15T16:22:36.666614Z",
     "iopub.status.busy": "2025-05-15T16:22:36.666207Z",
     "iopub.status.idle": "2025-05-15T16:22:58.293435Z",
     "shell.execute_reply": "2025-05-15T16:22:58.293103Z"
    },
    "papermill": {
     "duration": 21.636445,
     "end_time": "2025-05-15T16:22:58.294316",
     "exception": false,
     "start_time": "2025-05-15T16:22:36.657871",
     "status": "completed"
    },
    "tags": []
   },
   "outputs": [
    {
     "data": {
      "text/html": [
       "<style>#sk-container-id-1 {\n",
       "  /* Definition of color scheme common for light and dark mode */\n",
       "  --sklearn-color-text: black;\n",
       "  --sklearn-color-line: gray;\n",
       "  /* Definition of color scheme for unfitted estimators */\n",
       "  --sklearn-color-unfitted-level-0: #fff5e6;\n",
       "  --sklearn-color-unfitted-level-1: #f6e4d2;\n",
       "  --sklearn-color-unfitted-level-2: #ffe0b3;\n",
       "  --sklearn-color-unfitted-level-3: chocolate;\n",
       "  /* Definition of color scheme for fitted estimators */\n",
       "  --sklearn-color-fitted-level-0: #f0f8ff;\n",
       "  --sklearn-color-fitted-level-1: #d4ebff;\n",
       "  --sklearn-color-fitted-level-2: #b3dbfd;\n",
       "  --sklearn-color-fitted-level-3: cornflowerblue;\n",
       "\n",
       "  /* Specific color for light theme */\n",
       "  --sklearn-color-text-on-default-background: var(--sg-text-color, var(--theme-code-foreground, var(--jp-content-font-color1, black)));\n",
       "  --sklearn-color-background: var(--sg-background-color, var(--theme-background, var(--jp-layout-color0, white)));\n",
       "  --sklearn-color-border-box: var(--sg-text-color, var(--theme-code-foreground, var(--jp-content-font-color1, black)));\n",
       "  --sklearn-color-icon: #696969;\n",
       "\n",
       "  @media (prefers-color-scheme: dark) {\n",
       "    /* Redefinition of color scheme for dark theme */\n",
       "    --sklearn-color-text-on-default-background: var(--sg-text-color, var(--theme-code-foreground, var(--jp-content-font-color1, white)));\n",
       "    --sklearn-color-background: var(--sg-background-color, var(--theme-background, var(--jp-layout-color0, #111)));\n",
       "    --sklearn-color-border-box: var(--sg-text-color, var(--theme-code-foreground, var(--jp-content-font-color1, white)));\n",
       "    --sklearn-color-icon: #878787;\n",
       "  }\n",
       "}\n",
       "\n",
       "#sk-container-id-1 {\n",
       "  color: var(--sklearn-color-text);\n",
       "}\n",
       "\n",
       "#sk-container-id-1 pre {\n",
       "  padding: 0;\n",
       "}\n",
       "\n",
       "#sk-container-id-1 input.sk-hidden--visually {\n",
       "  border: 0;\n",
       "  clip: rect(1px 1px 1px 1px);\n",
       "  clip: rect(1px, 1px, 1px, 1px);\n",
       "  height: 1px;\n",
       "  margin: -1px;\n",
       "  overflow: hidden;\n",
       "  padding: 0;\n",
       "  position: absolute;\n",
       "  width: 1px;\n",
       "}\n",
       "\n",
       "#sk-container-id-1 div.sk-dashed-wrapped {\n",
       "  border: 1px dashed var(--sklearn-color-line);\n",
       "  margin: 0 0.4em 0.5em 0.4em;\n",
       "  box-sizing: border-box;\n",
       "  padding-bottom: 0.4em;\n",
       "  background-color: var(--sklearn-color-background);\n",
       "}\n",
       "\n",
       "#sk-container-id-1 div.sk-container {\n",
       "  /* jupyter's `normalize.less` sets `[hidden] { display: none; }`\n",
       "     but bootstrap.min.css set `[hidden] { display: none !important; }`\n",
       "     so we also need the `!important` here to be able to override the\n",
       "     default hidden behavior on the sphinx rendered scikit-learn.org.\n",
       "     See: https://github.com/scikit-learn/scikit-learn/issues/21755 */\n",
       "  display: inline-block !important;\n",
       "  position: relative;\n",
       "}\n",
       "\n",
       "#sk-container-id-1 div.sk-text-repr-fallback {\n",
       "  display: none;\n",
       "}\n",
       "\n",
       "div.sk-parallel-item,\n",
       "div.sk-serial,\n",
       "div.sk-item {\n",
       "  /* draw centered vertical line to link estimators */\n",
       "  background-image: linear-gradient(var(--sklearn-color-text-on-default-background), var(--sklearn-color-text-on-default-background));\n",
       "  background-size: 2px 100%;\n",
       "  background-repeat: no-repeat;\n",
       "  background-position: center center;\n",
       "}\n",
       "\n",
       "/* Parallel-specific style estimator block */\n",
       "\n",
       "#sk-container-id-1 div.sk-parallel-item::after {\n",
       "  content: \"\";\n",
       "  width: 100%;\n",
       "  border-bottom: 2px solid var(--sklearn-color-text-on-default-background);\n",
       "  flex-grow: 1;\n",
       "}\n",
       "\n",
       "#sk-container-id-1 div.sk-parallel {\n",
       "  display: flex;\n",
       "  align-items: stretch;\n",
       "  justify-content: center;\n",
       "  background-color: var(--sklearn-color-background);\n",
       "  position: relative;\n",
       "}\n",
       "\n",
       "#sk-container-id-1 div.sk-parallel-item {\n",
       "  display: flex;\n",
       "  flex-direction: column;\n",
       "}\n",
       "\n",
       "#sk-container-id-1 div.sk-parallel-item:first-child::after {\n",
       "  align-self: flex-end;\n",
       "  width: 50%;\n",
       "}\n",
       "\n",
       "#sk-container-id-1 div.sk-parallel-item:last-child::after {\n",
       "  align-self: flex-start;\n",
       "  width: 50%;\n",
       "}\n",
       "\n",
       "#sk-container-id-1 div.sk-parallel-item:only-child::after {\n",
       "  width: 0;\n",
       "}\n",
       "\n",
       "/* Serial-specific style estimator block */\n",
       "\n",
       "#sk-container-id-1 div.sk-serial {\n",
       "  display: flex;\n",
       "  flex-direction: column;\n",
       "  align-items: center;\n",
       "  background-color: var(--sklearn-color-background);\n",
       "  padding-right: 1em;\n",
       "  padding-left: 1em;\n",
       "}\n",
       "\n",
       "\n",
       "/* Toggleable style: style used for estimator/Pipeline/ColumnTransformer box that is\n",
       "clickable and can be expanded/collapsed.\n",
       "- Pipeline and ColumnTransformer use this feature and define the default style\n",
       "- Estimators will overwrite some part of the style using the `sk-estimator` class\n",
       "*/\n",
       "\n",
       "/* Pipeline and ColumnTransformer style (default) */\n",
       "\n",
       "#sk-container-id-1 div.sk-toggleable {\n",
       "  /* Default theme specific background. It is overwritten whether we have a\n",
       "  specific estimator or a Pipeline/ColumnTransformer */\n",
       "  background-color: var(--sklearn-color-background);\n",
       "}\n",
       "\n",
       "/* Toggleable label */\n",
       "#sk-container-id-1 label.sk-toggleable__label {\n",
       "  cursor: pointer;\n",
       "  display: block;\n",
       "  width: 100%;\n",
       "  margin-bottom: 0;\n",
       "  padding: 0.5em;\n",
       "  box-sizing: border-box;\n",
       "  text-align: center;\n",
       "}\n",
       "\n",
       "#sk-container-id-1 label.sk-toggleable__label-arrow:before {\n",
       "  /* Arrow on the left of the label */\n",
       "  content: \"▸\";\n",
       "  float: left;\n",
       "  margin-right: 0.25em;\n",
       "  color: var(--sklearn-color-icon);\n",
       "}\n",
       "\n",
       "#sk-container-id-1 label.sk-toggleable__label-arrow:hover:before {\n",
       "  color: var(--sklearn-color-text);\n",
       "}\n",
       "\n",
       "/* Toggleable content - dropdown */\n",
       "\n",
       "#sk-container-id-1 div.sk-toggleable__content {\n",
       "  max-height: 0;\n",
       "  max-width: 0;\n",
       "  overflow: hidden;\n",
       "  text-align: left;\n",
       "  /* unfitted */\n",
       "  background-color: var(--sklearn-color-unfitted-level-0);\n",
       "}\n",
       "\n",
       "#sk-container-id-1 div.sk-toggleable__content.fitted {\n",
       "  /* fitted */\n",
       "  background-color: var(--sklearn-color-fitted-level-0);\n",
       "}\n",
       "\n",
       "#sk-container-id-1 div.sk-toggleable__content pre {\n",
       "  margin: 0.2em;\n",
       "  border-radius: 0.25em;\n",
       "  color: var(--sklearn-color-text);\n",
       "  /* unfitted */\n",
       "  background-color: var(--sklearn-color-unfitted-level-0);\n",
       "}\n",
       "\n",
       "#sk-container-id-1 div.sk-toggleable__content.fitted pre {\n",
       "  /* unfitted */\n",
       "  background-color: var(--sklearn-color-fitted-level-0);\n",
       "}\n",
       "\n",
       "#sk-container-id-1 input.sk-toggleable__control:checked~div.sk-toggleable__content {\n",
       "  /* Expand drop-down */\n",
       "  max-height: 200px;\n",
       "  max-width: 100%;\n",
       "  overflow: auto;\n",
       "}\n",
       "\n",
       "#sk-container-id-1 input.sk-toggleable__control:checked~label.sk-toggleable__label-arrow:before {\n",
       "  content: \"▾\";\n",
       "}\n",
       "\n",
       "/* Pipeline/ColumnTransformer-specific style */\n",
       "\n",
       "#sk-container-id-1 div.sk-label input.sk-toggleable__control:checked~label.sk-toggleable__label {\n",
       "  color: var(--sklearn-color-text);\n",
       "  background-color: var(--sklearn-color-unfitted-level-2);\n",
       "}\n",
       "\n",
       "#sk-container-id-1 div.sk-label.fitted input.sk-toggleable__control:checked~label.sk-toggleable__label {\n",
       "  background-color: var(--sklearn-color-fitted-level-2);\n",
       "}\n",
       "\n",
       "/* Estimator-specific style */\n",
       "\n",
       "/* Colorize estimator box */\n",
       "#sk-container-id-1 div.sk-estimator input.sk-toggleable__control:checked~label.sk-toggleable__label {\n",
       "  /* unfitted */\n",
       "  background-color: var(--sklearn-color-unfitted-level-2);\n",
       "}\n",
       "\n",
       "#sk-container-id-1 div.sk-estimator.fitted input.sk-toggleable__control:checked~label.sk-toggleable__label {\n",
       "  /* fitted */\n",
       "  background-color: var(--sklearn-color-fitted-level-2);\n",
       "}\n",
       "\n",
       "#sk-container-id-1 div.sk-label label.sk-toggleable__label,\n",
       "#sk-container-id-1 div.sk-label label {\n",
       "  /* The background is the default theme color */\n",
       "  color: var(--sklearn-color-text-on-default-background);\n",
       "}\n",
       "\n",
       "/* On hover, darken the color of the background */\n",
       "#sk-container-id-1 div.sk-label:hover label.sk-toggleable__label {\n",
       "  color: var(--sklearn-color-text);\n",
       "  background-color: var(--sklearn-color-unfitted-level-2);\n",
       "}\n",
       "\n",
       "/* Label box, darken color on hover, fitted */\n",
       "#sk-container-id-1 div.sk-label.fitted:hover label.sk-toggleable__label.fitted {\n",
       "  color: var(--sklearn-color-text);\n",
       "  background-color: var(--sklearn-color-fitted-level-2);\n",
       "}\n",
       "\n",
       "/* Estimator label */\n",
       "\n",
       "#sk-container-id-1 div.sk-label label {\n",
       "  font-family: monospace;\n",
       "  font-weight: bold;\n",
       "  display: inline-block;\n",
       "  line-height: 1.2em;\n",
       "}\n",
       "\n",
       "#sk-container-id-1 div.sk-label-container {\n",
       "  text-align: center;\n",
       "}\n",
       "\n",
       "/* Estimator-specific */\n",
       "#sk-container-id-1 div.sk-estimator {\n",
       "  font-family: monospace;\n",
       "  border: 1px dotted var(--sklearn-color-border-box);\n",
       "  border-radius: 0.25em;\n",
       "  box-sizing: border-box;\n",
       "  margin-bottom: 0.5em;\n",
       "  /* unfitted */\n",
       "  background-color: var(--sklearn-color-unfitted-level-0);\n",
       "}\n",
       "\n",
       "#sk-container-id-1 div.sk-estimator.fitted {\n",
       "  /* fitted */\n",
       "  background-color: var(--sklearn-color-fitted-level-0);\n",
       "}\n",
       "\n",
       "/* on hover */\n",
       "#sk-container-id-1 div.sk-estimator:hover {\n",
       "  /* unfitted */\n",
       "  background-color: var(--sklearn-color-unfitted-level-2);\n",
       "}\n",
       "\n",
       "#sk-container-id-1 div.sk-estimator.fitted:hover {\n",
       "  /* fitted */\n",
       "  background-color: var(--sklearn-color-fitted-level-2);\n",
       "}\n",
       "\n",
       "/* Specification for estimator info (e.g. \"i\" and \"?\") */\n",
       "\n",
       "/* Common style for \"i\" and \"?\" */\n",
       "\n",
       ".sk-estimator-doc-link,\n",
       "a:link.sk-estimator-doc-link,\n",
       "a:visited.sk-estimator-doc-link {\n",
       "  float: right;\n",
       "  font-size: smaller;\n",
       "  line-height: 1em;\n",
       "  font-family: monospace;\n",
       "  background-color: var(--sklearn-color-background);\n",
       "  border-radius: 1em;\n",
       "  height: 1em;\n",
       "  width: 1em;\n",
       "  text-decoration: none !important;\n",
       "  margin-left: 1ex;\n",
       "  /* unfitted */\n",
       "  border: var(--sklearn-color-unfitted-level-1) 1pt solid;\n",
       "  color: var(--sklearn-color-unfitted-level-1);\n",
       "}\n",
       "\n",
       ".sk-estimator-doc-link.fitted,\n",
       "a:link.sk-estimator-doc-link.fitted,\n",
       "a:visited.sk-estimator-doc-link.fitted {\n",
       "  /* fitted */\n",
       "  border: var(--sklearn-color-fitted-level-1) 1pt solid;\n",
       "  color: var(--sklearn-color-fitted-level-1);\n",
       "}\n",
       "\n",
       "/* On hover */\n",
       "div.sk-estimator:hover .sk-estimator-doc-link:hover,\n",
       ".sk-estimator-doc-link:hover,\n",
       "div.sk-label-container:hover .sk-estimator-doc-link:hover,\n",
       ".sk-estimator-doc-link:hover {\n",
       "  /* unfitted */\n",
       "  background-color: var(--sklearn-color-unfitted-level-3);\n",
       "  color: var(--sklearn-color-background);\n",
       "  text-decoration: none;\n",
       "}\n",
       "\n",
       "div.sk-estimator.fitted:hover .sk-estimator-doc-link.fitted:hover,\n",
       ".sk-estimator-doc-link.fitted:hover,\n",
       "div.sk-label-container:hover .sk-estimator-doc-link.fitted:hover,\n",
       ".sk-estimator-doc-link.fitted:hover {\n",
       "  /* fitted */\n",
       "  background-color: var(--sklearn-color-fitted-level-3);\n",
       "  color: var(--sklearn-color-background);\n",
       "  text-decoration: none;\n",
       "}\n",
       "\n",
       "/* Span, style for the box shown on hovering the info icon */\n",
       ".sk-estimator-doc-link span {\n",
       "  display: none;\n",
       "  z-index: 9999;\n",
       "  position: relative;\n",
       "  font-weight: normal;\n",
       "  right: .2ex;\n",
       "  padding: .5ex;\n",
       "  margin: .5ex;\n",
       "  width: min-content;\n",
       "  min-width: 20ex;\n",
       "  max-width: 50ex;\n",
       "  color: var(--sklearn-color-text);\n",
       "  box-shadow: 2pt 2pt 4pt #999;\n",
       "  /* unfitted */\n",
       "  background: var(--sklearn-color-unfitted-level-0);\n",
       "  border: .5pt solid var(--sklearn-color-unfitted-level-3);\n",
       "}\n",
       "\n",
       ".sk-estimator-doc-link.fitted span {\n",
       "  /* fitted */\n",
       "  background: var(--sklearn-color-fitted-level-0);\n",
       "  border: var(--sklearn-color-fitted-level-3);\n",
       "}\n",
       "\n",
       ".sk-estimator-doc-link:hover span {\n",
       "  display: block;\n",
       "}\n",
       "\n",
       "/* \"?\"-specific style due to the `<a>` HTML tag */\n",
       "\n",
       "#sk-container-id-1 a.estimator_doc_link {\n",
       "  float: right;\n",
       "  font-size: 1rem;\n",
       "  line-height: 1em;\n",
       "  font-family: monospace;\n",
       "  background-color: var(--sklearn-color-background);\n",
       "  border-radius: 1rem;\n",
       "  height: 1rem;\n",
       "  width: 1rem;\n",
       "  text-decoration: none;\n",
       "  /* unfitted */\n",
       "  color: var(--sklearn-color-unfitted-level-1);\n",
       "  border: var(--sklearn-color-unfitted-level-1) 1pt solid;\n",
       "}\n",
       "\n",
       "#sk-container-id-1 a.estimator_doc_link.fitted {\n",
       "  /* fitted */\n",
       "  border: var(--sklearn-color-fitted-level-1) 1pt solid;\n",
       "  color: var(--sklearn-color-fitted-level-1);\n",
       "}\n",
       "\n",
       "/* On hover */\n",
       "#sk-container-id-1 a.estimator_doc_link:hover {\n",
       "  /* unfitted */\n",
       "  background-color: var(--sklearn-color-unfitted-level-3);\n",
       "  color: var(--sklearn-color-background);\n",
       "  text-decoration: none;\n",
       "}\n",
       "\n",
       "#sk-container-id-1 a.estimator_doc_link.fitted:hover {\n",
       "  /* fitted */\n",
       "  background-color: var(--sklearn-color-fitted-level-3);\n",
       "}\n",
       "</style><div id=\"sk-container-id-1\" class=\"sk-top-container\"><div class=\"sk-text-repr-fallback\"><pre>XGBClassifier(base_score=None, booster=None, callbacks=None,\n",
       "              colsample_bylevel=None, colsample_bynode=0.8659118953350515,\n",
       "              colsample_bytree=None, device=None, early_stopping_rounds=None,\n",
       "              enable_categorical=False,\n",
       "              eval_metric=&lt;function custom_f1_score at 0x7f4720e64680&gt;,\n",
       "              feature_types=None, gamma=None, grow_policy=None,\n",
       "              importance_type=None, interaction_constraints=None,\n",
       "              learning_rate=0.2945569055159961, max_bin=None,\n",
       "              max_cat_threshold=None, max_cat_to_onehot=None,\n",
       "              max_delta_step=None, max_depth=13, max_leaves=None,\n",
       "              min_child_weight=22, missing=nan, monotone_constraints=None,\n",
       "              multi_strategy=None, n_estimators=106, n_jobs=None,\n",
       "              num_parallel_tree=None, objective=&#x27;multi:softprob&#x27;, ...)</pre><b>In a Jupyter environment, please rerun this cell to show the HTML representation or trust the notebook. <br />On GitHub, the HTML representation is unable to render, please try loading this page with nbviewer.org.</b></div><div class=\"sk-container\" hidden><div class=\"sk-item\"><div class=\"sk-estimator fitted sk-toggleable\"><input class=\"sk-toggleable__control sk-hidden--visually\" id=\"sk-estimator-id-1\" type=\"checkbox\" checked><label for=\"sk-estimator-id-1\" class=\"sk-toggleable__label fitted sk-toggleable__label-arrow fitted\">&nbsp;XGBClassifier<span class=\"sk-estimator-doc-link fitted\">i<span>Fitted</span></span></label><div class=\"sk-toggleable__content fitted\"><pre>XGBClassifier(base_score=None, booster=None, callbacks=None,\n",
       "              colsample_bylevel=None, colsample_bynode=0.8659118953350515,\n",
       "              colsample_bytree=None, device=None, early_stopping_rounds=None,\n",
       "              enable_categorical=False,\n",
       "              eval_metric=&lt;function custom_f1_score at 0x7f4720e64680&gt;,\n",
       "              feature_types=None, gamma=None, grow_policy=None,\n",
       "              importance_type=None, interaction_constraints=None,\n",
       "              learning_rate=0.2945569055159961, max_bin=None,\n",
       "              max_cat_threshold=None, max_cat_to_onehot=None,\n",
       "              max_delta_step=None, max_depth=13, max_leaves=None,\n",
       "              min_child_weight=22, missing=nan, monotone_constraints=None,\n",
       "              multi_strategy=None, n_estimators=106, n_jobs=None,\n",
       "              num_parallel_tree=None, objective=&#x27;multi:softprob&#x27;, ...)</pre></div> </div></div></div></div>"
      ],
      "text/plain": [
       "XGBClassifier(base_score=None, booster=None, callbacks=None,\n",
       "              colsample_bylevel=None, colsample_bynode=0.8659118953350515,\n",
       "              colsample_bytree=None, device=None, early_stopping_rounds=None,\n",
       "              enable_categorical=False,\n",
       "              eval_metric=<function custom_f1_score at 0x7f4720e64680>,\n",
       "              feature_types=None, gamma=None, grow_policy=None,\n",
       "              importance_type=None, interaction_constraints=None,\n",
       "              learning_rate=0.2945569055159961, max_bin=None,\n",
       "              max_cat_threshold=None, max_cat_to_onehot=None,\n",
       "              max_delta_step=None, max_depth=13, max_leaves=None,\n",
       "              min_child_weight=22, missing=nan, monotone_constraints=None,\n",
       "              multi_strategy=None, n_estimators=106, n_jobs=None,\n",
       "              num_parallel_tree=None, objective='multi:softprob', ...)"
      ]
     },
     "execution_count": 21,
     "metadata": {},
     "output_type": "execute_result"
    }
   ],
   "source": [
    "n_estimators = int(study.best_trial.user_attrs['best_iteration']*1.2)\n",
    "xgb = xgboost.XGBClassifier(\n",
    "        eval_metric=eval_metric,\n",
    "        n_estimators=n_estimators,\n",
    "        **study.best_trial.params\n",
    "    )\n",
    "xgb.fit(\n",
    "    ssp.vstack((X_train, X_val)), \n",
    "    np.concatenate((y_train_enc, y_val_enc)),\n",
    "    verbose=1,\n",
    ")"
   ]
  },
  {
   "cell_type": "code",
   "execution_count": 22,
   "id": "bfa0550c",
   "metadata": {
    "execution": {
     "iopub.execute_input": "2025-05-15T16:22:58.312693Z",
     "iopub.status.busy": "2025-05-15T16:22:58.312494Z",
     "iopub.status.idle": "2025-05-15T16:22:58.389796Z",
     "shell.execute_reply": "2025-05-15T16:22:58.389457Z"
    },
    "papermill": {
     "duration": 0.086864,
     "end_time": "2025-05-15T16:22:58.390583",
     "exception": false,
     "start_time": "2025-05-15T16:22:58.303719",
     "status": "completed"
    },
    "tags": []
   },
   "outputs": [
    {
     "data": {
      "text/plain": [
       "['/scratch_isilon/groups/singlecell/shared/projects/Inflammation-PBMCs-Atlas/03_downstream_analysis/08_gene_importance/xgboost_external_validation/xgboost_TopN_genes/results_20/best_model/Mono_19_0_xgb.json']"
      ]
     },
     "execution_count": 22,
     "metadata": {},
     "output_type": "execute_result"
    }
   ],
   "source": [
    "out_dir = here(f'03_downstream_analysis/08_gene_importance/xgboost_external_validation/xgboost_TopN_genes/results_{N_GENES}/best_model')\n",
    "\n",
    "if not os.path.exists(out_dir):\n",
    "    os.makedirs(out_dir)\n",
    "    \n",
    "joblib.dump(xgb, os.path.join(out_dir, f'{CELL_TYPE}_{SEED}_{TEST_SPLIT_IDX}_xgb.json'))"
   ]
  },
  {
   "cell_type": "code",
   "execution_count": 23,
   "id": "12b8186d",
   "metadata": {
    "execution": {
     "iopub.execute_input": "2025-05-15T16:22:58.408787Z",
     "iopub.status.busy": "2025-05-15T16:22:58.408525Z",
     "iopub.status.idle": "2025-05-15T16:22:59.072615Z",
     "shell.execute_reply": "2025-05-15T16:22:59.072233Z"
    },
    "papermill": {
     "duration": 0.674218,
     "end_time": "2025-05-15T16:22:59.073710",
     "exception": false,
     "start_time": "2025-05-15T16:22:58.399492",
     "status": "completed"
    },
    "tags": []
   },
   "outputs": [],
   "source": [
    "df_pred_test = pd.DataFrame(dict(\n",
    "    cell_id=train_adata.obs.iloc[test_idxs].index.values,\n",
    "    y_true=y_test, \n",
    "    y_true_code=y_test_enc, \n",
    "    y_pred=xgb.predict(X_test))).set_index('cell_id')"
   ]
  },
  {
   "cell_type": "code",
   "execution_count": 24,
   "id": "f1293829",
   "metadata": {
    "execution": {
     "iopub.execute_input": "2025-05-15T16:22:59.092454Z",
     "iopub.status.busy": "2025-05-15T16:22:59.092068Z",
     "iopub.status.idle": "2025-05-15T16:22:59.325184Z",
     "shell.execute_reply": "2025-05-15T16:22:59.324812Z"
    },
    "papermill": {
     "duration": 0.243128,
     "end_time": "2025-05-15T16:22:59.325995",
     "exception": false,
     "start_time": "2025-05-15T16:22:59.082867",
     "status": "completed"
    },
    "tags": []
   },
   "outputs": [],
   "source": [
    "out_dir = here(f'03_downstream_analysis/08_gene_importance/xgboost_external_validation/xgboost_TopN_genes/results_{N_GENES}/predictions')\n",
    "\n",
    "if not os.path.exists(out_dir):\n",
    "    os.makedirs(out_dir)\n",
    "    \n",
    "df_pred_test.to_csv(os.path.join(out_dir, f'{CELL_TYPE}_{SEED}_{TEST_SPLIT_IDX}_pred_test.zip'))"
   ]
  },
  {
   "cell_type": "code",
   "execution_count": 25,
   "id": "5d51e25d",
   "metadata": {
    "execution": {
     "iopub.execute_input": "2025-05-15T16:22:59.343094Z",
     "iopub.status.busy": "2025-05-15T16:22:59.342876Z",
     "iopub.status.idle": "2025-05-15T16:22:59.358891Z",
     "shell.execute_reply": "2025-05-15T16:22:59.358574Z"
    },
    "papermill": {
     "duration": 0.025389,
     "end_time": "2025-05-15T16:22:59.359657",
     "exception": false,
     "start_time": "2025-05-15T16:22:59.334268",
     "status": "completed"
    },
    "tags": []
   },
   "outputs": [],
   "source": [
    "metrics_dict = dict(\n",
    "    BAS=balanced_accuracy_score(y_true=df_pred_test.y_true_code, y_pred=df_pred_test.y_pred), WF1=f1_score(y_true=df_pred_test.y_true_code, y_pred=df_pred_test.y_pred,average='weighted'))"
   ]
  },
  {
   "cell_type": "code",
   "execution_count": 26,
   "id": "2b36e2b5",
   "metadata": {
    "execution": {
     "iopub.execute_input": "2025-05-15T16:22:59.376902Z",
     "iopub.status.busy": "2025-05-15T16:22:59.376622Z",
     "iopub.status.idle": "2025-05-15T16:22:59.379166Z",
     "shell.execute_reply": "2025-05-15T16:22:59.378878Z"
    },
    "papermill": {
     "duration": 0.011953,
     "end_time": "2025-05-15T16:22:59.379929",
     "exception": false,
     "start_time": "2025-05-15T16:22:59.367976",
     "status": "completed"
    },
    "tags": []
   },
   "outputs": [
    {
     "data": {
      "text/plain": [
       "{'BAS': 0.6679743529305286, 'WF1': 0.8348111624036777}"
      ]
     },
     "execution_count": 26,
     "metadata": {},
     "output_type": "execute_result"
    }
   ],
   "source": [
    "metrics_dict"
   ]
  },
  {
   "cell_type": "code",
   "execution_count": 27,
   "id": "9dac57d1",
   "metadata": {
    "execution": {
     "iopub.execute_input": "2025-05-15T16:22:59.401539Z",
     "iopub.status.busy": "2025-05-15T16:22:59.401275Z",
     "iopub.status.idle": "2025-05-15T16:22:59.409465Z",
     "shell.execute_reply": "2025-05-15T16:22:59.409179Z"
    },
    "papermill": {
     "duration": 0.021059,
     "end_time": "2025-05-15T16:22:59.410259",
     "exception": false,
     "start_time": "2025-05-15T16:22:59.389200",
     "status": "completed"
    },
    "tags": []
   },
   "outputs": [
    {
     "data": {
      "text/html": [
       "<div>\n",
       "<style scoped>\n",
       "    .dataframe tbody tr th:only-of-type {\n",
       "        vertical-align: middle;\n",
       "    }\n",
       "\n",
       "    .dataframe tbody tr th {\n",
       "        vertical-align: top;\n",
       "    }\n",
       "\n",
       "    .dataframe thead th {\n",
       "        text-align: right;\n",
       "    }\n",
       "</style>\n",
       "<table border=\"1\" class=\"dataframe\">\n",
       "  <thead>\n",
       "    <tr style=\"text-align: right;\">\n",
       "      <th></th>\n",
       "      <th>BAS</th>\n",
       "      <th>WF1</th>\n",
       "      <th>split_idx</th>\n",
       "      <th>gene_set_seed</th>\n",
       "      <th>cell_type</th>\n",
       "    </tr>\n",
       "  </thead>\n",
       "  <tbody>\n",
       "    <tr>\n",
       "      <th>0</th>\n",
       "      <td>0.667974</td>\n",
       "      <td>0.834811</td>\n",
       "      <td>0</td>\n",
       "      <td>19</td>\n",
       "      <td>Mono</td>\n",
       "    </tr>\n",
       "  </tbody>\n",
       "</table>\n",
       "</div>"
      ],
      "text/plain": [
       "        BAS       WF1  split_idx  gene_set_seed cell_type\n",
       "0  0.667974  0.834811          0             19      Mono"
      ]
     },
     "execution_count": 27,
     "metadata": {},
     "output_type": "execute_result"
    }
   ],
   "source": [
    "metrics_df = pd.DataFrame.from_dict([metrics_dict]).assign(split_idx=TEST_SPLIT_IDX, gene_set_seed=SEED, cell_type=CELL_TYPE)\n",
    "metrics_df"
   ]
  },
  {
   "cell_type": "code",
   "execution_count": 28,
   "id": "8160e62a",
   "metadata": {
    "execution": {
     "iopub.execute_input": "2025-05-15T16:22:59.428389Z",
     "iopub.status.busy": "2025-05-15T16:22:59.428194Z",
     "iopub.status.idle": "2025-05-15T16:22:59.435602Z",
     "shell.execute_reply": "2025-05-15T16:22:59.435300Z"
    },
    "papermill": {
     "duration": 0.017326,
     "end_time": "2025-05-15T16:22:59.436349",
     "exception": false,
     "start_time": "2025-05-15T16:22:59.419023",
     "status": "completed"
    },
    "tags": []
   },
   "outputs": [],
   "source": [
    "out_dir = here(f'03_downstream_analysis/08_gene_importance/xgboost_external_validation/xgboost_TopN_genes/results_{N_GENES}/metrics')\n",
    "\n",
    "if not os.path.exists(out_dir):\n",
    "    os.makedirs(out_dir)\n",
    "    \n",
    "metrics_df.to_csv(os.path.join(out_dir, f'{CELL_TYPE}_{SEED}_{TEST_SPLIT_IDX}_metrics.zip'))"
   ]
  }
 ],
 "metadata": {
  "kernelspec": {
   "display_name": "Python 3 (ipykernel)",
   "language": "python",
   "name": "python3"
  },
  "language_info": {
   "codemirror_mode": {
    "name": "ipython",
    "version": 3
   },
   "file_extension": ".py",
   "mimetype": "text/x-python",
   "name": "python",
   "nbconvert_exporter": "python",
   "pygments_lexer": "ipython3",
   "version": "3.12.5"
  },
  "papermill": {
   "default_parameters": {},
   "duration": 1358.786545,
   "end_time": "2025-05-15T16:23:00.059783",
   "environment_variables": {},
   "exception": null,
   "input_path": "02_xgboost_fitting_external_20genes.ipynb",
   "output_path": "results_20/executed_notebooks/xgboost_fitting_external_CT_Mono_GS_19_seed0.ipynb",
   "parameters": {
    "CELL_TYPE": "Mono",
    "SEED": 19,
    "TEST_SPLIT_IDX": 0
   },
   "start_time": "2025-05-15T16:00:21.273238",
   "version": "2.6.0"
  }
 },
 "nbformat": 4,
 "nbformat_minor": 5
}