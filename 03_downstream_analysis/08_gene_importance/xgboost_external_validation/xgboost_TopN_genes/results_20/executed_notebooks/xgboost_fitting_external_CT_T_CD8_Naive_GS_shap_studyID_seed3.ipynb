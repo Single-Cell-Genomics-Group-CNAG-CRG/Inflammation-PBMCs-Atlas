{
 "cells": [
  {
   "cell_type": "code",
   "execution_count": 1,
   "id": "706c5d63",
   "metadata": {
    "editable": true,
    "execution": {
     "iopub.execute_input": "2025-05-14T16:08:20.078513Z",
     "iopub.status.busy": "2025-05-14T16:08:20.078376Z",
     "iopub.status.idle": "2025-05-14T16:08:20.080908Z",
     "shell.execute_reply": "2025-05-14T16:08:20.080615Z"
    },
    "papermill": {
     "duration": 0.01118,
     "end_time": "2025-05-14T16:08:20.081775",
     "exception": false,
     "start_time": "2025-05-14T16:08:20.070595",
     "status": "completed"
    },
    "slideshow": {
     "slide_type": ""
    },
    "tags": [
     "parameters"
    ]
   },
   "outputs": [],
   "source": [
    "CELL_TYPE = 'pDC'\n",
    "N_GENES: int = 20\n",
    "SEED = 'shap_studyID' #'disease_NOstudy' 'study_NOdisease' or 'int' or 'shap_studyID'\n",
    "TEST_SPLIT_IDX: int = 1 #[0,4]"
   ]
  },
  {
   "cell_type": "code",
   "execution_count": 2,
   "id": "4633cc22",
   "metadata": {
    "execution": {
     "iopub.execute_input": "2025-05-14T16:08:20.093346Z",
     "iopub.status.busy": "2025-05-14T16:08:20.093216Z",
     "iopub.status.idle": "2025-05-14T16:08:20.095303Z",
     "shell.execute_reply": "2025-05-14T16:08:20.095025Z"
    },
    "papermill": {
     "duration": 0.008269,
     "end_time": "2025-05-14T16:08:20.096093",
     "exception": false,
     "start_time": "2025-05-14T16:08:20.087824",
     "status": "completed"
    },
    "tags": [
     "injected-parameters"
    ]
   },
   "outputs": [],
   "source": [
    "# Parameters\n",
    "CELL_TYPE = \"T_CD8_Naive\"\n",
    "SEED = \"shap_studyID\"\n",
    "TEST_SPLIT_IDX = 3\n"
   ]
  },
  {
   "cell_type": "code",
   "execution_count": 3,
   "id": "1e48d6c9",
   "metadata": {
    "execution": {
     "iopub.execute_input": "2025-05-14T16:08:20.106606Z",
     "iopub.status.busy": "2025-05-14T16:08:20.106330Z",
     "iopub.status.idle": "2025-05-14T16:08:20.108213Z",
     "shell.execute_reply": "2025-05-14T16:08:20.107928Z"
    },
    "papermill": {
     "duration": 0.008136,
     "end_time": "2025-05-14T16:08:20.108954",
     "exception": false,
     "start_time": "2025-05-14T16:08:20.100818",
     "status": "completed"
    },
    "tags": []
   },
   "outputs": [],
   "source": [
    "N_SPLITS: int = 5\n",
    "N_TRIALS: int = 50"
   ]
  },
  {
   "cell_type": "code",
   "execution_count": 4,
   "id": "122425c1",
   "metadata": {
    "execution": {
     "iopub.execute_input": "2025-05-14T16:08:20.120778Z",
     "iopub.status.busy": "2025-05-14T16:08:20.120498Z",
     "iopub.status.idle": "2025-05-14T16:08:21.483868Z",
     "shell.execute_reply": "2025-05-14T16:08:21.483396Z"
    },
    "papermill": {
     "duration": 1.371187,
     "end_time": "2025-05-14T16:08:21.485142",
     "exception": false,
     "start_time": "2025-05-14T16:08:20.113955",
     "status": "completed"
    },
    "tags": []
   },
   "outputs": [],
   "source": [
    "import os\n",
    "import sys\n",
    "from pyprojroot.here import here\n",
    "import pandas as pd\n",
    "import anndata as ad\n",
    "import numpy as np\n",
    "import math\n",
    "from sklearn.model_selection import StratifiedGroupKFold\n",
    "from sklearn.preprocessing import LabelEncoder\n",
    "from sklearn.metrics import f1_score\n",
    "import matplotlib.pyplot as plt\n",
    "import seaborn as sns\n",
    "from itertools import product\n",
    "from sklearn.metrics import balanced_accuracy_score, f1_score\n",
    "import optuna\n",
    "\n",
    "import joblib\n",
    "import pickle\n",
    "import datetime\n",
    "\n",
    "import collections\n",
    "\n",
    "import xgboost\n",
    "from sklearn.preprocessing import LabelEncoder\n",
    "\n",
    "import scipy.sparse as ssp\n",
    "import joblib\n",
    "\n",
    "from dotenv import load_dotenv"
   ]
  },
  {
   "cell_type": "code",
   "execution_count": 5,
   "id": "f0c27a7f",
   "metadata": {
    "execution": {
     "iopub.execute_input": "2025-05-14T16:08:21.496942Z",
     "iopub.status.busy": "2025-05-14T16:08:21.496630Z",
     "iopub.status.idle": "2025-05-14T16:08:21.501923Z",
     "shell.execute_reply": "2025-05-14T16:08:21.501632Z"
    },
    "papermill": {
     "duration": 0.011903,
     "end_time": "2025-05-14T16:08:21.502750",
     "exception": false,
     "start_time": "2025-05-14T16:08:21.490847",
     "status": "completed"
    },
    "tags": []
   },
   "outputs": [
    {
     "data": {
      "text/plain": [
       "True"
      ]
     },
     "execution_count": 5,
     "metadata": {},
     "output_type": "execute_result"
    }
   ],
   "source": [
    "load_dotenv()"
   ]
  },
  {
   "cell_type": "markdown",
   "id": "ee94ee2f",
   "metadata": {
    "papermill": {
     "duration": 0.005006,
     "end_time": "2025-05-14T16:08:21.512765",
     "exception": false,
     "start_time": "2025-05-14T16:08:21.507759",
     "status": "completed"
    },
    "tags": []
   },
   "source": [
    "# LOAD DATASET"
   ]
  },
  {
   "cell_type": "code",
   "execution_count": 6,
   "id": "376e903c",
   "metadata": {
    "execution": {
     "iopub.execute_input": "2025-05-14T16:08:21.523566Z",
     "iopub.status.busy": "2025-05-14T16:08:21.523227Z",
     "iopub.status.idle": "2025-05-14T16:08:21.777431Z",
     "shell.execute_reply": "2025-05-14T16:08:21.776976Z"
    },
    "papermill": {
     "duration": 0.261015,
     "end_time": "2025-05-14T16:08:21.778721",
     "exception": false,
     "start_time": "2025-05-14T16:08:21.517706",
     "status": "completed"
    },
    "tags": []
   },
   "outputs": [],
   "source": [
    "train_adata = ad.read_h5ad(\n",
    "    here(f'03_downstream_analysis/08_gene_importance/xgboost_external_validation/xgboost_TopN_genes/data_cellTypes/EXTERNAL_{CELL_TYPE}.filtered.log1p.h5ad')\n",
    ")"
   ]
  },
  {
   "cell_type": "code",
   "execution_count": 7,
   "id": "f73c90f7",
   "metadata": {
    "execution": {
     "iopub.execute_input": "2025-05-14T16:08:21.791712Z",
     "iopub.status.busy": "2025-05-14T16:08:21.791248Z",
     "iopub.status.idle": "2025-05-14T16:08:21.806509Z",
     "shell.execute_reply": "2025-05-14T16:08:21.806162Z"
    },
    "papermill": {
     "duration": 0.021785,
     "end_time": "2025-05-14T16:08:21.807397",
     "exception": false,
     "start_time": "2025-05-14T16:08:21.785612",
     "status": "completed"
    },
    "tags": []
   },
   "outputs": [
    {
     "name": "stdout",
     "output_type": "stream",
     "text": [
      "['ENSG00000138107' 'ENSG00000115073' 'ENSG00000105221' 'ENSG00000117020'\n",
      " 'ENSG00000122359' 'ENSG00000166747' 'ENSG00000072958' 'ENSG00000182287'\n",
      " 'ENSG00000006125' 'ENSG00000161203' 'ENSG00000042753' 'ENSG00000165527'\n",
      " 'ENSG00000111348' 'ENSG00000152219' 'ENSG00000170540' 'ENSG00000144746'\n",
      " 'ENSG00000123268' 'ENSG00000152234' 'ENSG00000099624' 'ENSG00000167283'\n",
      " 'ENSG00000185883' 'ENSG00000113732' 'ENSG00000166710' 'ENSG00000127152'\n",
      " 'ENSG00000133134' 'ENSG00000015475' 'ENSG00000135441' 'ENSG00000133639'\n",
      " 'ENSG00000143110' 'ENSG00000198668' 'ENSG00000143933' 'ENSG00000110395'\n",
      " 'ENSG00000126353' 'ENSG00000104894' 'ENSG00000169442' 'ENSG00000143119'\n",
      " 'ENSG00000135404' 'ENSG00000019582' 'ENSG00000002586' 'ENSG00000118260'\n",
      " 'ENSG00000005339' 'ENSG00000213145' 'ENSG00000101439' 'ENSG00000117984'\n",
      " 'ENSG00000051523' 'ENSG00000104671' 'ENSG00000089737' 'ENSG00000132002'\n",
      " 'ENSG00000079805' 'ENSG00000120129' 'ENSG00000197102' 'ENSG00000088986'\n",
      " 'ENSG00000264364' 'ENSG00000107223' 'ENSG00000254772' 'ENSG00000142227'\n",
      " 'ENSG00000134954' 'ENSG00000170345' 'ENSG00000125740' 'ENSG00000170296'\n",
      " 'ENSG00000090863' 'ENSG00000242616' 'ENSG00000115523' 'ENSG00000177885'\n",
      " 'ENSG00000148834' 'ENSG00000184897' 'ENSG00000132475' 'ENSG00000206503'\n",
      " 'ENSG00000234745' 'ENSG00000231389' 'ENSG00000223865' 'ENSG00000204287'\n",
      " 'ENSG00000196126' 'ENSG00000204592' 'ENSG00000164104' 'ENSG00000108622'\n",
      " 'ENSG00000115738' 'ENSG00000216490' 'ENSG00000126709' 'ENSG00000185885'\n",
      " 'ENSG00000142089' 'ENSG00000142166' 'ENSG00000159110' 'ENSG00000243646'\n",
      " 'ENSG00000147168' 'ENSG00000008517' 'ENSG00000125347' 'ENSG00000213928'\n",
      " 'ENSG00000115232' 'ENSG00000005844' 'ENSG00000136156' 'ENSG00000143543'\n",
      " 'ENSG00000177606' 'ENSG00000171223' 'ENSG00000121774' 'ENSG00000079616'\n",
      " 'ENSG00000068796' 'ENSG00000127528' 'ENSG00000002549' 'ENSG00000111716'\n",
      " 'ENSG00000138795' 'ENSG00000104660' 'ENSG00000203896' 'ENSG00000189067'\n",
      " 'ENSG00000204482' 'ENSG00000090382' 'ENSG00000007264' 'ENSG00000172936'\n",
      " 'ENSG00000152082' 'ENSG00000158517' 'ENSG00000184752' 'ENSG00000066136'\n",
      " 'ENSG00000243678' 'ENSG00000153234' 'ENSG00000169564' 'ENSG00000197111'\n",
      " 'ENSG00000167004' 'ENSG00000078043' 'ENSG00000146278' 'ENSG00000175482'\n",
      " 'ENSG00000125534' 'ENSG00000197746' 'ENSG00000129084' 'ENSG00000106588'\n",
      " 'ENSG00000184007' 'ENSG00000196396' 'ENSG00000175354' 'ENSG00000108774'\n",
      " 'ENSG00000173039' 'ENSG00000219200' 'ENSG00000143546' 'ENSG00000163220'\n",
      " 'ENSG00000170989' 'ENSG00000157020' 'ENSG00000138674' 'ENSG00000140264'\n",
      " 'ENSG00000120742' 'ENSG00000142669' 'ENSG00000183172' 'ENSG00000184557'\n",
      " 'ENSG00000115875' 'ENSG00000168610' 'ENSG00000126561' 'ENSG00000166888'\n",
      " 'ENSG00000168394' 'ENSG00000081059' 'ENSG00000105329' 'ENSG00000104964'\n",
      " 'ENSG00000243749' 'ENSG00000205542' 'ENSG00000239697' 'ENSG00000106952'\n",
      " 'ENSG00000277734' 'ENSG00000009790' 'ENSG00000181029' 'ENSG00000123416'\n",
      " 'ENSG00000265972' 'ENSG00000025708' 'ENSG00000011600' 'ENSG00000244687'\n",
      " 'ENSG00000118640' 'ENSG00000165280' 'ENSG00000105583' 'ENSG00000146457'\n",
      " 'ENSG00000065978' 'ENSG00000185650']\n"
     ]
    }
   ],
   "source": [
    "if SEED != 'all':\n",
    "    gene_subset = np.load(here(f'03_downstream_analysis/08_gene_importance/xgboost_external_validation/shap_gene_selection/gene_subsets_{N_GENES}/{CELL_TYPE}_{SEED}.npy'), allow_pickle=True)\n",
    "    train_adata = train_adata[:,gene_subset]\n",
    "    print(gene_subset)\n",
    "elif SEED == 'all':\n",
    "    print('Using all genes')\n",
    "else:\n",
    "    raise ValueError()"
   ]
  },
  {
   "cell_type": "code",
   "execution_count": 8,
   "id": "d16d1f5d",
   "metadata": {
    "execution": {
     "iopub.execute_input": "2025-05-14T16:08:21.818453Z",
     "iopub.status.busy": "2025-05-14T16:08:21.818090Z",
     "iopub.status.idle": "2025-05-14T16:08:21.821010Z",
     "shell.execute_reply": "2025-05-14T16:08:21.820699Z"
    },
    "papermill": {
     "duration": 0.009247,
     "end_time": "2025-05-14T16:08:21.821809",
     "exception": false,
     "start_time": "2025-05-14T16:08:21.812562",
     "status": "completed"
    },
    "tags": []
   },
   "outputs": [
    {
     "data": {
      "text/plain": [
       "(37072, 166)"
      ]
     },
     "execution_count": 8,
     "metadata": {},
     "output_type": "execute_result"
    }
   ],
   "source": [
    "train_adata.shape"
   ]
  },
  {
   "cell_type": "code",
   "execution_count": 9,
   "id": "934c96ba",
   "metadata": {
    "execution": {
     "iopub.execute_input": "2025-05-14T16:08:21.832838Z",
     "iopub.status.busy": "2025-05-14T16:08:21.832546Z",
     "iopub.status.idle": "2025-05-14T16:08:21.835930Z",
     "shell.execute_reply": "2025-05-14T16:08:21.835629Z"
    },
    "papermill": {
     "duration": 0.009938,
     "end_time": "2025-05-14T16:08:21.836752",
     "exception": false,
     "start_time": "2025-05-14T16:08:21.826814",
     "status": "completed"
    },
    "tags": []
   },
   "outputs": [
    {
     "data": {
      "text/plain": [
       "['RA', 'COVID', 'healthy', 'HIV', 'cirrhosis', 'CD', 'SLE', 'sepsis']\n",
       "Categories (8, object): ['CD', 'COVID', 'HIV', 'RA', 'SLE', 'cirrhosis', 'healthy', 'sepsis']"
      ]
     },
     "execution_count": 9,
     "metadata": {},
     "output_type": "execute_result"
    }
   ],
   "source": [
    "train_adata.obs.disease.unique()"
   ]
  },
  {
   "cell_type": "code",
   "execution_count": 10,
   "id": "92bb0c4e",
   "metadata": {
    "execution": {
     "iopub.execute_input": "2025-05-14T16:08:21.847850Z",
     "iopub.status.busy": "2025-05-14T16:08:21.847550Z",
     "iopub.status.idle": "2025-05-14T16:08:21.850897Z",
     "shell.execute_reply": "2025-05-14T16:08:21.850601Z"
    },
    "papermill": {
     "duration": 0.009803,
     "end_time": "2025-05-14T16:08:21.851724",
     "exception": false,
     "start_time": "2025-05-14T16:08:21.841921",
     "status": "completed"
    },
    "tags": []
   },
   "outputs": [
    {
     "data": {
      "text/plain": [
       "['SCGT00val_I036024_T0', 'SCGT00val_I0364_T0', 'SCGT00val_I036019_T0', 'SCGT00val_I036028_T0', 'SCGT00val_I036021_T0', ..., '10XGenomics_10XHC2_T0', '10XGenomics_10XHC3_T0', '10XGenomics_10XHC5_T0', '10XGenomics_10XHC7_T0', '10XGenomics_10XHC8_T0']\n",
       "Length: 86\n",
       "Categories (86, object): ['10XGenomics_10XHC1_T0', '10XGenomics_10XHC2_T0', '10XGenomics_10XHC3_T0', '10XGenomics_10XHC4_T0', ..., 'Savage2021_BRISL6_T0', 'Savage2021_BRISL7_T0', 'Savage2021_PIDA_T0', 'Savage2021_PIDB_T0']"
      ]
     },
     "execution_count": 10,
     "metadata": {},
     "output_type": "execute_result"
    }
   ],
   "source": [
    "train_adata.obs.sampleID.unique()"
   ]
  },
  {
   "cell_type": "code",
   "execution_count": 11,
   "id": "40bcbe8d",
   "metadata": {
    "execution": {
     "iopub.execute_input": "2025-05-14T16:08:21.862658Z",
     "iopub.status.busy": "2025-05-14T16:08:21.862389Z",
     "iopub.status.idle": "2025-05-14T16:08:21.967406Z",
     "shell.execute_reply": "2025-05-14T16:08:21.967028Z"
    },
    "papermill": {
     "duration": 0.111714,
     "end_time": "2025-05-14T16:08:21.968342",
     "exception": false,
     "start_time": "2025-05-14T16:08:21.856628",
     "status": "completed"
    },
    "tags": []
   },
   "outputs": [],
   "source": [
    "all_idxs = np.arange(train_adata.obs.shape[0])\n",
    "left_out_splits = [s[1] for s in StratifiedGroupKFold(n_splits=N_SPLITS).split(all_idxs, train_adata.obs.disease, train_adata.obs.sampleID)]"
   ]
  },
  {
   "cell_type": "code",
   "execution_count": 12,
   "id": "14628e3d",
   "metadata": {
    "execution": {
     "iopub.execute_input": "2025-05-14T16:08:21.980414Z",
     "iopub.status.busy": "2025-05-14T16:08:21.980183Z",
     "iopub.status.idle": "2025-05-14T16:08:21.983482Z",
     "shell.execute_reply": "2025-05-14T16:08:21.983161Z"
    },
    "papermill": {
     "duration": 0.01014,
     "end_time": "2025-05-14T16:08:21.984372",
     "exception": false,
     "start_time": "2025-05-14T16:08:21.974232",
     "status": "completed"
    },
    "tags": []
   },
   "outputs": [
    {
     "data": {
      "text/plain": [
       "([0, 1, 2], 4, 3)"
      ]
     },
     "execution_count": 12,
     "metadata": {},
     "output_type": "execute_result"
    }
   ],
   "source": [
    "TRAIN_SPLIT_IDXS = [0,1,2,3,4]\n",
    "VAL_SPLIT_IDX = (TEST_SPLIT_IDX + 1) % 5\n",
    "TRAIN_SPLIT_IDXS.remove(TEST_SPLIT_IDX)\n",
    "TRAIN_SPLIT_IDXS.remove(VAL_SPLIT_IDX)\n",
    "TRAIN_SPLIT_IDXS, VAL_SPLIT_IDX, TEST_SPLIT_IDX"
   ]
  },
  {
   "cell_type": "code",
   "execution_count": 13,
   "id": "3ab23df9",
   "metadata": {
    "execution": {
     "iopub.execute_input": "2025-05-14T16:08:21.995843Z",
     "iopub.status.busy": "2025-05-14T16:08:21.995705Z",
     "iopub.status.idle": "2025-05-14T16:08:21.998143Z",
     "shell.execute_reply": "2025-05-14T16:08:21.997835Z"
    },
    "papermill": {
     "duration": 0.009176,
     "end_time": "2025-05-14T16:08:21.998966",
     "exception": false,
     "start_time": "2025-05-14T16:08:21.989790",
     "status": "completed"
    },
    "tags": []
   },
   "outputs": [],
   "source": [
    "train_idxs = np.concatenate([left_out_splits[idx] for idx in TRAIN_SPLIT_IDXS])\n",
    "val_idxs = left_out_splits[VAL_SPLIT_IDX]\n",
    "test_idxs = left_out_splits[TEST_SPLIT_IDX]"
   ]
  },
  {
   "cell_type": "markdown",
   "id": "46a0b7d2",
   "metadata": {
    "papermill": {
     "duration": 0.005763,
     "end_time": "2025-05-14T16:08:22.009909",
     "exception": false,
     "start_time": "2025-05-14T16:08:22.004146",
     "status": "completed"
    },
    "tags": []
   },
   "source": [
    "### SUBSET DATASET INTO TRAIN/TEST/VAL SPLITS"
   ]
  },
  {
   "cell_type": "code",
   "execution_count": 14,
   "id": "189c3564",
   "metadata": {
    "execution": {
     "iopub.execute_input": "2025-05-14T16:08:22.022560Z",
     "iopub.status.busy": "2025-05-14T16:08:22.022195Z",
     "iopub.status.idle": "2025-05-14T16:08:22.166464Z",
     "shell.execute_reply": "2025-05-14T16:08:22.166110Z"
    },
    "papermill": {
     "duration": 0.15133,
     "end_time": "2025-05-14T16:08:22.167379",
     "exception": false,
     "start_time": "2025-05-14T16:08:22.016049",
     "status": "completed"
    },
    "tags": []
   },
   "outputs": [
    {
     "data": {
      "text/plain": [
       "((22845, 166), (7486, 166), (6741, 166))"
      ]
     },
     "execution_count": 14,
     "metadata": {},
     "output_type": "execute_result"
    }
   ],
   "source": [
    "X_train = train_adata.X[train_idxs]\n",
    "X_test = train_adata.X[test_idxs]\n",
    "X_val = train_adata.X[val_idxs]\n",
    "X_train.shape, X_test.shape, X_val.shape"
   ]
  },
  {
   "cell_type": "code",
   "execution_count": 15,
   "id": "d3d133c9",
   "metadata": {
    "execution": {
     "iopub.execute_input": "2025-05-14T16:08:22.181213Z",
     "iopub.status.busy": "2025-05-14T16:08:22.181039Z",
     "iopub.status.idle": "2025-05-14T16:08:22.188547Z",
     "shell.execute_reply": "2025-05-14T16:08:22.188197Z"
    },
    "papermill": {
     "duration": 0.015737,
     "end_time": "2025-05-14T16:08:22.189466",
     "exception": false,
     "start_time": "2025-05-14T16:08:22.173729",
     "status": "completed"
    },
    "tags": []
   },
   "outputs": [
    {
     "data": {
      "text/plain": [
       "((22845,), (7486,), (6741,))"
      ]
     },
     "execution_count": 15,
     "metadata": {},
     "output_type": "execute_result"
    }
   ],
   "source": [
    "y_train = train_adata.obs.iloc[train_idxs].disease.values.astype(str)\n",
    "y_test = train_adata.obs.iloc[test_idxs].disease.values.astype(str)\n",
    "y_val = train_adata.obs.iloc[val_idxs].disease.values.astype(str)\n",
    "y_train.shape, y_test.shape, y_val.shape"
   ]
  },
  {
   "cell_type": "code",
   "execution_count": 16,
   "id": "5ff71b48",
   "metadata": {
    "execution": {
     "iopub.execute_input": "2025-05-14T16:08:22.202961Z",
     "iopub.status.busy": "2025-05-14T16:08:22.202548Z",
     "iopub.status.idle": "2025-05-14T16:08:22.212196Z",
     "shell.execute_reply": "2025-05-14T16:08:22.211845Z"
    },
    "papermill": {
     "duration": 0.017105,
     "end_time": "2025-05-14T16:08:22.213132",
     "exception": false,
     "start_time": "2025-05-14T16:08:22.196027",
     "status": "completed"
    },
    "tags": []
   },
   "outputs": [],
   "source": [
    "lenc = LabelEncoder()\n",
    "y_train_enc = lenc.fit_transform(y_train)\n",
    "y_val_enc = lenc.transform(y_val)\n",
    "y_test_enc = lenc.transform(y_test)"
   ]
  },
  {
   "cell_type": "markdown",
   "id": "ba31f968",
   "metadata": {
    "papermill": {
     "duration": 0.005939,
     "end_time": "2025-05-14T16:08:22.225237",
     "exception": false,
     "start_time": "2025-05-14T16:08:22.219298",
     "status": "completed"
    },
    "tags": []
   },
   "source": [
    "### GENERATE F1 "
   ]
  },
  {
   "cell_type": "code",
   "execution_count": 17,
   "id": "9ed1e52c",
   "metadata": {
    "execution": {
     "iopub.execute_input": "2025-05-14T16:08:22.238183Z",
     "iopub.status.busy": "2025-05-14T16:08:22.237755Z",
     "iopub.status.idle": "2025-05-14T16:08:22.240291Z",
     "shell.execute_reply": "2025-05-14T16:08:22.239989Z"
    },
    "papermill": {
     "duration": 0.010007,
     "end_time": "2025-05-14T16:08:22.241121",
     "exception": false,
     "start_time": "2025-05-14T16:08:22.231114",
     "status": "completed"
    },
    "tags": []
   },
   "outputs": [],
   "source": [
    "def custom_f1_score(y_true, y_pred):\n",
    "    return -f1_score(y_true, y_pred.argmax(1), average='weighted')"
   ]
  },
  {
   "cell_type": "code",
   "execution_count": 18,
   "id": "5eb3257f",
   "metadata": {
    "execution": {
     "iopub.execute_input": "2025-05-14T16:08:22.254167Z",
     "iopub.status.busy": "2025-05-14T16:08:22.254025Z",
     "iopub.status.idle": "2025-05-14T16:08:22.257828Z",
     "shell.execute_reply": "2025-05-14T16:08:22.257526Z"
    },
    "papermill": {
     "duration": 0.011491,
     "end_time": "2025-05-14T16:08:22.258708",
     "exception": false,
     "start_time": "2025-05-14T16:08:22.247217",
     "status": "completed"
    },
    "tags": []
   },
   "outputs": [],
   "source": [
    "eval_metric=custom_f1_score\n",
    "eval_metric_name='custom_f1_score'\n",
    "\n",
    "def objective(trial):\n",
    "    params = {\n",
    "        'n_estimators': 1500,\n",
    "        'max_depth': trial.suggest_int('max_depth', 3, 20),\n",
    "        'min_child_weight': trial.suggest_int('min_child_weight', 1, 250),\n",
    "        'subsample': trial.suggest_float('subsample', 0.1, 1.0),\n",
    "        'colsample_bynode': trial.suggest_float('colsample_bynode', 0.1, 1.0),\n",
    "        'learning_rate': trial.suggest_float('learning_rate', 1e-3, 5e-1, log=True),\n",
    "    }\n",
    "    pruning_callback = optuna.integration.XGBoostPruningCallback(trial, f'validation_0-{eval_metric_name}')\n",
    "    es_callback = xgboost.callback.EarlyStopping(20, min_delta=0.001)\n",
    "    xgb = xgboost.XGBClassifier(\n",
    "        eval_metric=eval_metric,\n",
    "        callbacks=[pruning_callback, es_callback],\n",
    "        n_jobs=5,\n",
    "        **params\n",
    "    )\n",
    "    xgb.fit(\n",
    "        X_train, \n",
    "        y_train_enc, \n",
    "        verbose=0,\n",
    "        eval_set=[(X_val, y_val_enc)],\n",
    "    )\n",
    "    trial.set_user_attr('best_iteration', xgb.best_iteration)\n",
    "\n",
    "    return xgb.best_score"
   ]
  },
  {
   "cell_type": "code",
   "execution_count": 19,
   "id": "f9a9626a",
   "metadata": {
    "execution": {
     "iopub.execute_input": "2025-05-14T16:08:22.271950Z",
     "iopub.status.busy": "2025-05-14T16:08:22.271802Z",
     "iopub.status.idle": "2025-05-14T16:13:00.354818Z",
     "shell.execute_reply": "2025-05-14T16:13:00.354419Z"
    },
    "papermill": {
     "duration": 278.090793,
     "end_time": "2025-05-14T16:13:00.355791",
     "exception": false,
     "start_time": "2025-05-14T16:08:22.264998",
     "status": "completed"
    },
    "scrolled": true,
    "tags": []
   },
   "outputs": [
    {
     "name": "stderr",
     "output_type": "stream",
     "text": [
      "[I 2025-05-14 18:08:22,273] A new study created in memory with name: no-name-040b9e25-5584-4c3c-a4b2-062a3f8489d0\n"
     ]
    },
    {
     "name": "stderr",
     "output_type": "stream",
     "text": [
      "[I 2025-05-14 18:08:27,589] Trial 0 finished with value: -0.710091 and parameters: {'max_depth': 9, 'min_child_weight': 238, 'subsample': 0.7587945476302645, 'colsample_bynode': 0.6387926357773329, 'learning_rate': 0.0026368755339723046}. Best is trial 0 with value: -0.710091.\n"
     ]
    },
    {
     "name": "stderr",
     "output_type": "stream",
     "text": [
      "[I 2025-05-14 18:08:48,395] Trial 1 finished with value: -0.870121 and parameters: {'max_depth': 5, 'min_child_weight': 15, 'subsample': 0.8795585311974417, 'colsample_bynode': 0.6410035105688879, 'learning_rate': 0.08148293210105287}. Best is trial 1 with value: -0.870121.\n"
     ]
    },
    {
     "name": "stderr",
     "output_type": "stream",
     "text": [
      "[I 2025-05-14 18:08:50,044] Trial 2 finished with value: -0.706248 and parameters: {'max_depth': 3, 'min_child_weight': 243, 'subsample': 0.8491983767203796, 'colsample_bynode': 0.29110519961044856, 'learning_rate': 0.003095566460242371}. Best is trial 1 with value: -0.870121.\n"
     ]
    },
    {
     "name": "stderr",
     "output_type": "stream",
     "text": [
      "[I 2025-05-14 18:08:52,669] Trial 3 finished with value: -0.742352 and parameters: {'max_depth': 6, 'min_child_weight': 77, 'subsample': 0.5722807884690141, 'colsample_bynode': 0.48875051677790415, 'learning_rate': 0.006109683510122491}. Best is trial 1 with value: -0.870121.\n"
     ]
    },
    {
     "name": "stderr",
     "output_type": "stream",
     "text": [
      "[I 2025-05-14 18:09:39,399] Trial 4 finished with value: -0.844395 and parameters: {'max_depth': 14, 'min_child_weight': 35, 'subsample': 0.3629301836816964, 'colsample_bynode': 0.4297256589643226, 'learning_rate': 0.01701841881702917}. Best is trial 1 with value: -0.870121.\n"
     ]
    },
    {
     "name": "stderr",
     "output_type": "stream",
     "text": [
      "[I 2025-05-14 18:09:42,390] Trial 5 pruned. Trial was pruned at iteration 25.\n"
     ]
    },
    {
     "name": "stderr",
     "output_type": "stream",
     "text": [
      "[I 2025-05-14 18:09:42,766] Trial 6 pruned. Trial was pruned at iteration 0.\n"
     ]
    },
    {
     "name": "stderr",
     "output_type": "stream",
     "text": [
      "[I 2025-05-14 18:09:43,128] Trial 7 pruned. Trial was pruned at iteration 0.\n"
     ]
    },
    {
     "name": "stderr",
     "output_type": "stream",
     "text": [
      "[I 2025-05-14 18:09:43,467] Trial 8 pruned. Trial was pruned at iteration 0.\n"
     ]
    },
    {
     "name": "stderr",
     "output_type": "stream",
     "text": [
      "[I 2025-05-14 18:09:45,891] Trial 9 finished with value: -0.746591 and parameters: {'max_depth': 14, 'min_child_weight': 78, 'subsample': 0.5680612190600297, 'colsample_bynode': 0.5920392514089517, 'learning_rate': 0.0031543990308330965}. Best is trial 1 with value: -0.870121.\n"
     ]
    },
    {
     "name": "stderr",
     "output_type": "stream",
     "text": [
      "[I 2025-05-14 18:10:03,983] Trial 10 finished with value: -0.863262 and parameters: {'max_depth': 9, 'min_child_weight': 2, 'subsample': 0.9725833997090791, 'colsample_bynode': 0.11616568805333755, 'learning_rate': 0.17780618353487967}. Best is trial 1 with value: -0.870121.\n"
     ]
    },
    {
     "name": "stderr",
     "output_type": "stream",
     "text": [
      "[I 2025-05-14 18:10:23,449] Trial 11 finished with value: -0.865678 and parameters: {'max_depth': 9, 'min_child_weight': 4, 'subsample': 0.9818290990185045, 'colsample_bynode': 0.17702656156719, 'learning_rate': 0.11568531411766632}. Best is trial 1 with value: -0.870121.\n"
     ]
    },
    {
     "name": "stderr",
     "output_type": "stream",
     "text": [
      "[I 2025-05-14 18:10:35,347] Trial 12 pruned. Trial was pruned at iteration 75.\n"
     ]
    },
    {
     "name": "stderr",
     "output_type": "stream",
     "text": [
      "[I 2025-05-14 18:10:35,693] Trial 13 pruned. Trial was pruned at iteration 0.\n"
     ]
    },
    {
     "name": "stderr",
     "output_type": "stream",
     "text": [
      "[I 2025-05-14 18:10:36,049] Trial 14 pruned. Trial was pruned at iteration 0.\n"
     ]
    },
    {
     "name": "stderr",
     "output_type": "stream",
     "text": [
      "[I 2025-05-14 18:10:52,442] Trial 15 finished with value: -0.864384 and parameters: {'max_depth': 20, 'min_child_weight': 1, 'subsample': 0.7012908959710442, 'colsample_bynode': 0.2540835086298475, 'learning_rate': 0.2833114876720916}. Best is trial 1 with value: -0.870121.\n"
     ]
    },
    {
     "name": "stderr",
     "output_type": "stream",
     "text": [
      "[I 2025-05-14 18:10:52,719] Trial 16 pruned. Trial was pruned at iteration 0.\n"
     ]
    },
    {
     "name": "stderr",
     "output_type": "stream",
     "text": [
      "[I 2025-05-14 18:10:53,019] Trial 17 pruned. Trial was pruned at iteration 0.\n"
     ]
    },
    {
     "name": "stderr",
     "output_type": "stream",
     "text": [
      "[I 2025-05-14 18:11:05,196] Trial 18 finished with value: -0.87128 and parameters: {'max_depth': 11, 'min_child_weight': 37, 'subsample': 0.8988001325877066, 'colsample_bynode': 0.3955466156360019, 'learning_rate': 0.13348559174149954}. Best is trial 18 with value: -0.87128.\n"
     ]
    },
    {
     "name": "stderr",
     "output_type": "stream",
     "text": [
      "[I 2025-05-14 18:11:05,553] Trial 19 pruned. Trial was pruned at iteration 0.\n"
     ]
    },
    {
     "name": "stderr",
     "output_type": "stream",
     "text": [
      "[I 2025-05-14 18:11:05,950] Trial 20 pruned. Trial was pruned at iteration 0.\n"
     ]
    },
    {
     "name": "stderr",
     "output_type": "stream",
     "text": [
      "[I 2025-05-14 18:11:09,012] Trial 21 pruned. Trial was pruned at iteration 29.\n"
     ]
    },
    {
     "name": "stderr",
     "output_type": "stream",
     "text": [
      "[I 2025-05-14 18:11:09,367] Trial 22 pruned. Trial was pruned at iteration 0.\n"
     ]
    },
    {
     "name": "stderr",
     "output_type": "stream",
     "text": [
      "[I 2025-05-14 18:11:09,665] Trial 23 pruned. Trial was pruned at iteration 0.\n"
     ]
    },
    {
     "name": "stderr",
     "output_type": "stream",
     "text": [
      "[I 2025-05-14 18:11:14,521] Trial 24 pruned. Trial was pruned at iteration 27.\n"
     ]
    },
    {
     "name": "stderr",
     "output_type": "stream",
     "text": [
      "[I 2025-05-14 18:11:14,892] Trial 25 pruned. Trial was pruned at iteration 0.\n"
     ]
    },
    {
     "name": "stderr",
     "output_type": "stream",
     "text": [
      "[I 2025-05-14 18:11:15,204] Trial 26 pruned. Trial was pruned at iteration 0.\n"
     ]
    },
    {
     "name": "stderr",
     "output_type": "stream",
     "text": [
      "[I 2025-05-14 18:11:15,494] Trial 27 pruned. Trial was pruned at iteration 0.\n"
     ]
    },
    {
     "name": "stderr",
     "output_type": "stream",
     "text": [
      "[I 2025-05-14 18:11:18,237] Trial 28 pruned. Trial was pruned at iteration 22.\n"
     ]
    },
    {
     "name": "stderr",
     "output_type": "stream",
     "text": [
      "[I 2025-05-14 18:11:18,540] Trial 29 pruned. Trial was pruned at iteration 0.\n"
     ]
    },
    {
     "name": "stderr",
     "output_type": "stream",
     "text": [
      "[I 2025-05-14 18:11:18,860] Trial 30 pruned. Trial was pruned at iteration 0.\n"
     ]
    },
    {
     "name": "stderr",
     "output_type": "stream",
     "text": [
      "[I 2025-05-14 18:11:30,514] Trial 31 finished with value: -0.863926 and parameters: {'max_depth': 19, 'min_child_weight': 3, 'subsample': 0.7046475511142666, 'colsample_bynode': 0.24331970385082502, 'learning_rate': 0.2880019321141015}. Best is trial 18 with value: -0.87128.\n"
     ]
    },
    {
     "name": "stderr",
     "output_type": "stream",
     "text": [
      "[I 2025-05-14 18:11:41,432] Trial 32 finished with value: -0.873425 and parameters: {'max_depth': 19, 'min_child_weight': 16, 'subsample': 0.8168896775982382, 'colsample_bynode': 0.28417313913219144, 'learning_rate': 0.19386711159304187}. Best is trial 32 with value: -0.873425.\n"
     ]
    },
    {
     "name": "stderr",
     "output_type": "stream",
     "text": [
      "[I 2025-05-14 18:11:41,845] Trial 33 pruned. Trial was pruned at iteration 0.\n"
     ]
    },
    {
     "name": "stderr",
     "output_type": "stream",
     "text": [
      "[I 2025-05-14 18:11:59,144] Trial 34 finished with value: -0.870177 and parameters: {'max_depth': 13, 'min_child_weight': 15, 'subsample': 0.8162038940253415, 'colsample_bynode': 0.4362038276299781, 'learning_rate': 0.11065469301301047}. Best is trial 32 with value: -0.873425.\n"
     ]
    },
    {
     "name": "stderr",
     "output_type": "stream",
     "text": [
      "[I 2025-05-14 18:11:59,490] Trial 35 pruned. Trial was pruned at iteration 0.\n"
     ]
    },
    {
     "name": "stderr",
     "output_type": "stream",
     "text": [
      "[I 2025-05-14 18:12:10,633] Trial 36 finished with value: -0.868036 and parameters: {'max_depth': 13, 'min_child_weight': 19, 'subsample': 0.8060394058446579, 'colsample_bynode': 0.41473029912017456, 'learning_rate': 0.1589423367046229}. Best is trial 32 with value: -0.873425.\n"
     ]
    },
    {
     "name": "stderr",
     "output_type": "stream",
     "text": [
      "[I 2025-05-14 18:12:10,909] Trial 37 pruned. Trial was pruned at iteration 0.\n"
     ]
    },
    {
     "name": "stderr",
     "output_type": "stream",
     "text": [
      "[I 2025-05-14 18:12:11,204] Trial 38 pruned. Trial was pruned at iteration 0.\n"
     ]
    },
    {
     "name": "stderr",
     "output_type": "stream",
     "text": [
      "[I 2025-05-14 18:12:11,517] Trial 39 pruned. Trial was pruned at iteration 0.\n"
     ]
    },
    {
     "name": "stderr",
     "output_type": "stream",
     "text": [
      "[I 2025-05-14 18:12:11,822] Trial 40 pruned. Trial was pruned at iteration 0.\n"
     ]
    },
    {
     "name": "stderr",
     "output_type": "stream",
     "text": [
      "[I 2025-05-14 18:12:24,329] Trial 41 finished with value: -0.870643 and parameters: {'max_depth': 13, 'min_child_weight': 15, 'subsample': 0.9074882770635965, 'colsample_bynode': 0.4201877895371616, 'learning_rate': 0.18587017368903463}. Best is trial 32 with value: -0.873425.\n"
     ]
    },
    {
     "name": "stderr",
     "output_type": "stream",
     "text": [
      "[I 2025-05-14 18:12:35,575] Trial 42 finished with value: -0.86996 and parameters: {'max_depth': 15, 'min_child_weight': 14, 'subsample': 0.9217082326364253, 'colsample_bynode': 0.5296490679653187, 'learning_rate': 0.22768867959827607}. Best is trial 32 with value: -0.873425.\n"
     ]
    },
    {
     "name": "stderr",
     "output_type": "stream",
     "text": [
      "[I 2025-05-14 18:12:35,906] Trial 43 pruned. Trial was pruned at iteration 0.\n"
     ]
    },
    {
     "name": "stderr",
     "output_type": "stream",
     "text": [
      "[I 2025-05-14 18:12:36,477] Trial 44 pruned. Trial was pruned at iteration 1.\n"
     ]
    },
    {
     "name": "stderr",
     "output_type": "stream",
     "text": [
      "[I 2025-05-14 18:12:36,841] Trial 45 pruned. Trial was pruned at iteration 0.\n"
     ]
    },
    {
     "name": "stderr",
     "output_type": "stream",
     "text": [
      "[I 2025-05-14 18:12:37,176] Trial 46 pruned. Trial was pruned at iteration 0.\n"
     ]
    },
    {
     "name": "stderr",
     "output_type": "stream",
     "text": [
      "[I 2025-05-14 18:12:51,041] Trial 47 finished with value: -0.872004 and parameters: {'max_depth': 19, 'min_child_weight': 8, 'subsample': 0.8153661493792566, 'colsample_bynode': 0.6328068350354872, 'learning_rate': 0.3381786214632714}. Best is trial 32 with value: -0.873425.\n"
     ]
    },
    {
     "name": "stderr",
     "output_type": "stream",
     "text": [
      "[I 2025-05-14 18:12:51,347] Trial 48 pruned. Trial was pruned at iteration 0.\n"
     ]
    },
    {
     "name": "stderr",
     "output_type": "stream",
     "text": [
      "[I 2025-05-14 18:13:00,282] Trial 49 finished with value: -0.870183 and parameters: {'max_depth': 19, 'min_child_weight': 11, 'subsample': 0.8953405850267802, 'colsample_bynode': 0.2645608210006327, 'learning_rate': 0.32428659239067387}. Best is trial 32 with value: -0.873425.\n"
     ]
    }
   ],
   "source": [
    "sampler = optuna.samplers.TPESampler(seed=42)\n",
    "study = optuna.create_study(direction='minimize', sampler=sampler)\n",
    "study.optimize(objective, n_trials=N_TRIALS, gc_after_trial=True)"
   ]
  },
  {
   "cell_type": "code",
   "execution_count": 20,
   "id": "6d48f4b8",
   "metadata": {
    "execution": {
     "iopub.execute_input": "2025-05-14T16:13:00.396929Z",
     "iopub.status.busy": "2025-05-14T16:13:00.396779Z",
     "iopub.status.idle": "2025-05-14T16:13:00.453187Z",
     "shell.execute_reply": "2025-05-14T16:13:00.452884Z"
    },
    "papermill": {
     "duration": 0.082643,
     "end_time": "2025-05-14T16:13:00.453969",
     "exception": false,
     "start_time": "2025-05-14T16:13:00.371326",
     "status": "completed"
    },
    "tags": []
   },
   "outputs": [
    {
     "data": {
      "text/plain": [
       "['/scratch_isilon/groups/singlecell/shared/projects/Inflammation-PBMCs-Atlas/03_downstream_analysis/08_gene_importance/xgboost_external_validation/xgboost_TopN_genes/results_20/study/T_CD8_Naive_shap_studyID_3_xgboost.pkl']"
      ]
     },
     "execution_count": 20,
     "metadata": {},
     "output_type": "execute_result"
    }
   ],
   "source": [
    "out_dir = here(f'03_downstream_analysis/08_gene_importance/xgboost_external_validation/xgboost_TopN_genes/results_{N_GENES}/study')\n",
    "\n",
    "if not os.path.exists(out_dir):\n",
    "    os.makedirs(out_dir)\n",
    "    \n",
    "joblib.dump(study,os.path.join(out_dir, f'{CELL_TYPE}_{SEED}_{TEST_SPLIT_IDX}_xgboost.pkl'))"
   ]
  },
  {
   "cell_type": "code",
   "execution_count": 21,
   "id": "9c21e481",
   "metadata": {
    "execution": {
     "iopub.execute_input": "2025-05-14T16:13:00.490596Z",
     "iopub.status.busy": "2025-05-14T16:13:00.490248Z",
     "iopub.status.idle": "2025-05-14T16:13:08.507514Z",
     "shell.execute_reply": "2025-05-14T16:13:08.507180Z"
    },
    "papermill": {
     "duration": 8.026544,
     "end_time": "2025-05-14T16:13:08.508359",
     "exception": false,
     "start_time": "2025-05-14T16:13:00.481815",
     "status": "completed"
    },
    "tags": []
   },
   "outputs": [
    {
     "data": {
      "text/html": [
       "<style>#sk-container-id-1 {\n",
       "  /* Definition of color scheme common for light and dark mode */\n",
       "  --sklearn-color-text: black;\n",
       "  --sklearn-color-line: gray;\n",
       "  /* Definition of color scheme for unfitted estimators */\n",
       "  --sklearn-color-unfitted-level-0: #fff5e6;\n",
       "  --sklearn-color-unfitted-level-1: #f6e4d2;\n",
       "  --sklearn-color-unfitted-level-2: #ffe0b3;\n",
       "  --sklearn-color-unfitted-level-3: chocolate;\n",
       "  /* Definition of color scheme for fitted estimators */\n",
       "  --sklearn-color-fitted-level-0: #f0f8ff;\n",
       "  --sklearn-color-fitted-level-1: #d4ebff;\n",
       "  --sklearn-color-fitted-level-2: #b3dbfd;\n",
       "  --sklearn-color-fitted-level-3: cornflowerblue;\n",
       "\n",
       "  /* Specific color for light theme */\n",
       "  --sklearn-color-text-on-default-background: var(--sg-text-color, var(--theme-code-foreground, var(--jp-content-font-color1, black)));\n",
       "  --sklearn-color-background: var(--sg-background-color, var(--theme-background, var(--jp-layout-color0, white)));\n",
       "  --sklearn-color-border-box: var(--sg-text-color, var(--theme-code-foreground, var(--jp-content-font-color1, black)));\n",
       "  --sklearn-color-icon: #696969;\n",
       "\n",
       "  @media (prefers-color-scheme: dark) {\n",
       "    /* Redefinition of color scheme for dark theme */\n",
       "    --sklearn-color-text-on-default-background: var(--sg-text-color, var(--theme-code-foreground, var(--jp-content-font-color1, white)));\n",
       "    --sklearn-color-background: var(--sg-background-color, var(--theme-background, var(--jp-layout-color0, #111)));\n",
       "    --sklearn-color-border-box: var(--sg-text-color, var(--theme-code-foreground, var(--jp-content-font-color1, white)));\n",
       "    --sklearn-color-icon: #878787;\n",
       "  }\n",
       "}\n",
       "\n",
       "#sk-container-id-1 {\n",
       "  color: var(--sklearn-color-text);\n",
       "}\n",
       "\n",
       "#sk-container-id-1 pre {\n",
       "  padding: 0;\n",
       "}\n",
       "\n",
       "#sk-container-id-1 input.sk-hidden--visually {\n",
       "  border: 0;\n",
       "  clip: rect(1px 1px 1px 1px);\n",
       "  clip: rect(1px, 1px, 1px, 1px);\n",
       "  height: 1px;\n",
       "  margin: -1px;\n",
       "  overflow: hidden;\n",
       "  padding: 0;\n",
       "  position: absolute;\n",
       "  width: 1px;\n",
       "}\n",
       "\n",
       "#sk-container-id-1 div.sk-dashed-wrapped {\n",
       "  border: 1px dashed var(--sklearn-color-line);\n",
       "  margin: 0 0.4em 0.5em 0.4em;\n",
       "  box-sizing: border-box;\n",
       "  padding-bottom: 0.4em;\n",
       "  background-color: var(--sklearn-color-background);\n",
       "}\n",
       "\n",
       "#sk-container-id-1 div.sk-container {\n",
       "  /* jupyter's `normalize.less` sets `[hidden] { display: none; }`\n",
       "     but bootstrap.min.css set `[hidden] { display: none !important; }`\n",
       "     so we also need the `!important` here to be able to override the\n",
       "     default hidden behavior on the sphinx rendered scikit-learn.org.\n",
       "     See: https://github.com/scikit-learn/scikit-learn/issues/21755 */\n",
       "  display: inline-block !important;\n",
       "  position: relative;\n",
       "}\n",
       "\n",
       "#sk-container-id-1 div.sk-text-repr-fallback {\n",
       "  display: none;\n",
       "}\n",
       "\n",
       "div.sk-parallel-item,\n",
       "div.sk-serial,\n",
       "div.sk-item {\n",
       "  /* draw centered vertical line to link estimators */\n",
       "  background-image: linear-gradient(var(--sklearn-color-text-on-default-background), var(--sklearn-color-text-on-default-background));\n",
       "  background-size: 2px 100%;\n",
       "  background-repeat: no-repeat;\n",
       "  background-position: center center;\n",
       "}\n",
       "\n",
       "/* Parallel-specific style estimator block */\n",
       "\n",
       "#sk-container-id-1 div.sk-parallel-item::after {\n",
       "  content: \"\";\n",
       "  width: 100%;\n",
       "  border-bottom: 2px solid var(--sklearn-color-text-on-default-background);\n",
       "  flex-grow: 1;\n",
       "}\n",
       "\n",
       "#sk-container-id-1 div.sk-parallel {\n",
       "  display: flex;\n",
       "  align-items: stretch;\n",
       "  justify-content: center;\n",
       "  background-color: var(--sklearn-color-background);\n",
       "  position: relative;\n",
       "}\n",
       "\n",
       "#sk-container-id-1 div.sk-parallel-item {\n",
       "  display: flex;\n",
       "  flex-direction: column;\n",
       "}\n",
       "\n",
       "#sk-container-id-1 div.sk-parallel-item:first-child::after {\n",
       "  align-self: flex-end;\n",
       "  width: 50%;\n",
       "}\n",
       "\n",
       "#sk-container-id-1 div.sk-parallel-item:last-child::after {\n",
       "  align-self: flex-start;\n",
       "  width: 50%;\n",
       "}\n",
       "\n",
       "#sk-container-id-1 div.sk-parallel-item:only-child::after {\n",
       "  width: 0;\n",
       "}\n",
       "\n",
       "/* Serial-specific style estimator block */\n",
       "\n",
       "#sk-container-id-1 div.sk-serial {\n",
       "  display: flex;\n",
       "  flex-direction: column;\n",
       "  align-items: center;\n",
       "  background-color: var(--sklearn-color-background);\n",
       "  padding-right: 1em;\n",
       "  padding-left: 1em;\n",
       "}\n",
       "\n",
       "\n",
       "/* Toggleable style: style used for estimator/Pipeline/ColumnTransformer box that is\n",
       "clickable and can be expanded/collapsed.\n",
       "- Pipeline and ColumnTransformer use this feature and define the default style\n",
       "- Estimators will overwrite some part of the style using the `sk-estimator` class\n",
       "*/\n",
       "\n",
       "/* Pipeline and ColumnTransformer style (default) */\n",
       "\n",
       "#sk-container-id-1 div.sk-toggleable {\n",
       "  /* Default theme specific background. It is overwritten whether we have a\n",
       "  specific estimator or a Pipeline/ColumnTransformer */\n",
       "  background-color: var(--sklearn-color-background);\n",
       "}\n",
       "\n",
       "/* Toggleable label */\n",
       "#sk-container-id-1 label.sk-toggleable__label {\n",
       "  cursor: pointer;\n",
       "  display: block;\n",
       "  width: 100%;\n",
       "  margin-bottom: 0;\n",
       "  padding: 0.5em;\n",
       "  box-sizing: border-box;\n",
       "  text-align: center;\n",
       "}\n",
       "\n",
       "#sk-container-id-1 label.sk-toggleable__label-arrow:before {\n",
       "  /* Arrow on the left of the label */\n",
       "  content: \"▸\";\n",
       "  float: left;\n",
       "  margin-right: 0.25em;\n",
       "  color: var(--sklearn-color-icon);\n",
       "}\n",
       "\n",
       "#sk-container-id-1 label.sk-toggleable__label-arrow:hover:before {\n",
       "  color: var(--sklearn-color-text);\n",
       "}\n",
       "\n",
       "/* Toggleable content - dropdown */\n",
       "\n",
       "#sk-container-id-1 div.sk-toggleable__content {\n",
       "  max-height: 0;\n",
       "  max-width: 0;\n",
       "  overflow: hidden;\n",
       "  text-align: left;\n",
       "  /* unfitted */\n",
       "  background-color: var(--sklearn-color-unfitted-level-0);\n",
       "}\n",
       "\n",
       "#sk-container-id-1 div.sk-toggleable__content.fitted {\n",
       "  /* fitted */\n",
       "  background-color: var(--sklearn-color-fitted-level-0);\n",
       "}\n",
       "\n",
       "#sk-container-id-1 div.sk-toggleable__content pre {\n",
       "  margin: 0.2em;\n",
       "  border-radius: 0.25em;\n",
       "  color: var(--sklearn-color-text);\n",
       "  /* unfitted */\n",
       "  background-color: var(--sklearn-color-unfitted-level-0);\n",
       "}\n",
       "\n",
       "#sk-container-id-1 div.sk-toggleable__content.fitted pre {\n",
       "  /* unfitted */\n",
       "  background-color: var(--sklearn-color-fitted-level-0);\n",
       "}\n",
       "\n",
       "#sk-container-id-1 input.sk-toggleable__control:checked~div.sk-toggleable__content {\n",
       "  /* Expand drop-down */\n",
       "  max-height: 200px;\n",
       "  max-width: 100%;\n",
       "  overflow: auto;\n",
       "}\n",
       "\n",
       "#sk-container-id-1 input.sk-toggleable__control:checked~label.sk-toggleable__label-arrow:before {\n",
       "  content: \"▾\";\n",
       "}\n",
       "\n",
       "/* Pipeline/ColumnTransformer-specific style */\n",
       "\n",
       "#sk-container-id-1 div.sk-label input.sk-toggleable__control:checked~label.sk-toggleable__label {\n",
       "  color: var(--sklearn-color-text);\n",
       "  background-color: var(--sklearn-color-unfitted-level-2);\n",
       "}\n",
       "\n",
       "#sk-container-id-1 div.sk-label.fitted input.sk-toggleable__control:checked~label.sk-toggleable__label {\n",
       "  background-color: var(--sklearn-color-fitted-level-2);\n",
       "}\n",
       "\n",
       "/* Estimator-specific style */\n",
       "\n",
       "/* Colorize estimator box */\n",
       "#sk-container-id-1 div.sk-estimator input.sk-toggleable__control:checked~label.sk-toggleable__label {\n",
       "  /* unfitted */\n",
       "  background-color: var(--sklearn-color-unfitted-level-2);\n",
       "}\n",
       "\n",
       "#sk-container-id-1 div.sk-estimator.fitted input.sk-toggleable__control:checked~label.sk-toggleable__label {\n",
       "  /* fitted */\n",
       "  background-color: var(--sklearn-color-fitted-level-2);\n",
       "}\n",
       "\n",
       "#sk-container-id-1 div.sk-label label.sk-toggleable__label,\n",
       "#sk-container-id-1 div.sk-label label {\n",
       "  /* The background is the default theme color */\n",
       "  color: var(--sklearn-color-text-on-default-background);\n",
       "}\n",
       "\n",
       "/* On hover, darken the color of the background */\n",
       "#sk-container-id-1 div.sk-label:hover label.sk-toggleable__label {\n",
       "  color: var(--sklearn-color-text);\n",
       "  background-color: var(--sklearn-color-unfitted-level-2);\n",
       "}\n",
       "\n",
       "/* Label box, darken color on hover, fitted */\n",
       "#sk-container-id-1 div.sk-label.fitted:hover label.sk-toggleable__label.fitted {\n",
       "  color: var(--sklearn-color-text);\n",
       "  background-color: var(--sklearn-color-fitted-level-2);\n",
       "}\n",
       "\n",
       "/* Estimator label */\n",
       "\n",
       "#sk-container-id-1 div.sk-label label {\n",
       "  font-family: monospace;\n",
       "  font-weight: bold;\n",
       "  display: inline-block;\n",
       "  line-height: 1.2em;\n",
       "}\n",
       "\n",
       "#sk-container-id-1 div.sk-label-container {\n",
       "  text-align: center;\n",
       "}\n",
       "\n",
       "/* Estimator-specific */\n",
       "#sk-container-id-1 div.sk-estimator {\n",
       "  font-family: monospace;\n",
       "  border: 1px dotted var(--sklearn-color-border-box);\n",
       "  border-radius: 0.25em;\n",
       "  box-sizing: border-box;\n",
       "  margin-bottom: 0.5em;\n",
       "  /* unfitted */\n",
       "  background-color: var(--sklearn-color-unfitted-level-0);\n",
       "}\n",
       "\n",
       "#sk-container-id-1 div.sk-estimator.fitted {\n",
       "  /* fitted */\n",
       "  background-color: var(--sklearn-color-fitted-level-0);\n",
       "}\n",
       "\n",
       "/* on hover */\n",
       "#sk-container-id-1 div.sk-estimator:hover {\n",
       "  /* unfitted */\n",
       "  background-color: var(--sklearn-color-unfitted-level-2);\n",
       "}\n",
       "\n",
       "#sk-container-id-1 div.sk-estimator.fitted:hover {\n",
       "  /* fitted */\n",
       "  background-color: var(--sklearn-color-fitted-level-2);\n",
       "}\n",
       "\n",
       "/* Specification for estimator info (e.g. \"i\" and \"?\") */\n",
       "\n",
       "/* Common style for \"i\" and \"?\" */\n",
       "\n",
       ".sk-estimator-doc-link,\n",
       "a:link.sk-estimator-doc-link,\n",
       "a:visited.sk-estimator-doc-link {\n",
       "  float: right;\n",
       "  font-size: smaller;\n",
       "  line-height: 1em;\n",
       "  font-family: monospace;\n",
       "  background-color: var(--sklearn-color-background);\n",
       "  border-radius: 1em;\n",
       "  height: 1em;\n",
       "  width: 1em;\n",
       "  text-decoration: none !important;\n",
       "  margin-left: 1ex;\n",
       "  /* unfitted */\n",
       "  border: var(--sklearn-color-unfitted-level-1) 1pt solid;\n",
       "  color: var(--sklearn-color-unfitted-level-1);\n",
       "}\n",
       "\n",
       ".sk-estimator-doc-link.fitted,\n",
       "a:link.sk-estimator-doc-link.fitted,\n",
       "a:visited.sk-estimator-doc-link.fitted {\n",
       "  /* fitted */\n",
       "  border: var(--sklearn-color-fitted-level-1) 1pt solid;\n",
       "  color: var(--sklearn-color-fitted-level-1);\n",
       "}\n",
       "\n",
       "/* On hover */\n",
       "div.sk-estimator:hover .sk-estimator-doc-link:hover,\n",
       ".sk-estimator-doc-link:hover,\n",
       "div.sk-label-container:hover .sk-estimator-doc-link:hover,\n",
       ".sk-estimator-doc-link:hover {\n",
       "  /* unfitted */\n",
       "  background-color: var(--sklearn-color-unfitted-level-3);\n",
       "  color: var(--sklearn-color-background);\n",
       "  text-decoration: none;\n",
       "}\n",
       "\n",
       "div.sk-estimator.fitted:hover .sk-estimator-doc-link.fitted:hover,\n",
       ".sk-estimator-doc-link.fitted:hover,\n",
       "div.sk-label-container:hover .sk-estimator-doc-link.fitted:hover,\n",
       ".sk-estimator-doc-link.fitted:hover {\n",
       "  /* fitted */\n",
       "  background-color: var(--sklearn-color-fitted-level-3);\n",
       "  color: var(--sklearn-color-background);\n",
       "  text-decoration: none;\n",
       "}\n",
       "\n",
       "/* Span, style for the box shown on hovering the info icon */\n",
       ".sk-estimator-doc-link span {\n",
       "  display: none;\n",
       "  z-index: 9999;\n",
       "  position: relative;\n",
       "  font-weight: normal;\n",
       "  right: .2ex;\n",
       "  padding: .5ex;\n",
       "  margin: .5ex;\n",
       "  width: min-content;\n",
       "  min-width: 20ex;\n",
       "  max-width: 50ex;\n",
       "  color: var(--sklearn-color-text);\n",
       "  box-shadow: 2pt 2pt 4pt #999;\n",
       "  /* unfitted */\n",
       "  background: var(--sklearn-color-unfitted-level-0);\n",
       "  border: .5pt solid var(--sklearn-color-unfitted-level-3);\n",
       "}\n",
       "\n",
       ".sk-estimator-doc-link.fitted span {\n",
       "  /* fitted */\n",
       "  background: var(--sklearn-color-fitted-level-0);\n",
       "  border: var(--sklearn-color-fitted-level-3);\n",
       "}\n",
       "\n",
       ".sk-estimator-doc-link:hover span {\n",
       "  display: block;\n",
       "}\n",
       "\n",
       "/* \"?\"-specific style due to the `<a>` HTML tag */\n",
       "\n",
       "#sk-container-id-1 a.estimator_doc_link {\n",
       "  float: right;\n",
       "  font-size: 1rem;\n",
       "  line-height: 1em;\n",
       "  font-family: monospace;\n",
       "  background-color: var(--sklearn-color-background);\n",
       "  border-radius: 1rem;\n",
       "  height: 1rem;\n",
       "  width: 1rem;\n",
       "  text-decoration: none;\n",
       "  /* unfitted */\n",
       "  color: var(--sklearn-color-unfitted-level-1);\n",
       "  border: var(--sklearn-color-unfitted-level-1) 1pt solid;\n",
       "}\n",
       "\n",
       "#sk-container-id-1 a.estimator_doc_link.fitted {\n",
       "  /* fitted */\n",
       "  border: var(--sklearn-color-fitted-level-1) 1pt solid;\n",
       "  color: var(--sklearn-color-fitted-level-1);\n",
       "}\n",
       "\n",
       "/* On hover */\n",
       "#sk-container-id-1 a.estimator_doc_link:hover {\n",
       "  /* unfitted */\n",
       "  background-color: var(--sklearn-color-unfitted-level-3);\n",
       "  color: var(--sklearn-color-background);\n",
       "  text-decoration: none;\n",
       "}\n",
       "\n",
       "#sk-container-id-1 a.estimator_doc_link.fitted:hover {\n",
       "  /* fitted */\n",
       "  background-color: var(--sklearn-color-fitted-level-3);\n",
       "}\n",
       "</style><div id=\"sk-container-id-1\" class=\"sk-top-container\"><div class=\"sk-text-repr-fallback\"><pre>XGBClassifier(base_score=None, booster=None, callbacks=None,\n",
       "              colsample_bylevel=None, colsample_bynode=0.28417313913219144,\n",
       "              colsample_bytree=None, device=None, early_stopping_rounds=None,\n",
       "              enable_categorical=False,\n",
       "              eval_metric=&lt;function custom_f1_score at 0x7f1748e44680&gt;,\n",
       "              feature_types=None, gamma=None, grow_policy=None,\n",
       "              importance_type=None, interaction_constraints=None,\n",
       "              learning_rate=0.19386711159304187, max_bin=None,\n",
       "              max_cat_threshold=None, max_cat_to_onehot=None,\n",
       "              max_delta_step=None, max_depth=19, max_leaves=None,\n",
       "              min_child_weight=16, missing=nan, monotone_constraints=None,\n",
       "              multi_strategy=None, n_estimators=99, n_jobs=None,\n",
       "              num_parallel_tree=None, objective=&#x27;multi:softprob&#x27;, ...)</pre><b>In a Jupyter environment, please rerun this cell to show the HTML representation or trust the notebook. <br />On GitHub, the HTML representation is unable to render, please try loading this page with nbviewer.org.</b></div><div class=\"sk-container\" hidden><div class=\"sk-item\"><div class=\"sk-estimator fitted sk-toggleable\"><input class=\"sk-toggleable__control sk-hidden--visually\" id=\"sk-estimator-id-1\" type=\"checkbox\" checked><label for=\"sk-estimator-id-1\" class=\"sk-toggleable__label fitted sk-toggleable__label-arrow fitted\">&nbsp;XGBClassifier<span class=\"sk-estimator-doc-link fitted\">i<span>Fitted</span></span></label><div class=\"sk-toggleable__content fitted\"><pre>XGBClassifier(base_score=None, booster=None, callbacks=None,\n",
       "              colsample_bylevel=None, colsample_bynode=0.28417313913219144,\n",
       "              colsample_bytree=None, device=None, early_stopping_rounds=None,\n",
       "              enable_categorical=False,\n",
       "              eval_metric=&lt;function custom_f1_score at 0x7f1748e44680&gt;,\n",
       "              feature_types=None, gamma=None, grow_policy=None,\n",
       "              importance_type=None, interaction_constraints=None,\n",
       "              learning_rate=0.19386711159304187, max_bin=None,\n",
       "              max_cat_threshold=None, max_cat_to_onehot=None,\n",
       "              max_delta_step=None, max_depth=19, max_leaves=None,\n",
       "              min_child_weight=16, missing=nan, monotone_constraints=None,\n",
       "              multi_strategy=None, n_estimators=99, n_jobs=None,\n",
       "              num_parallel_tree=None, objective=&#x27;multi:softprob&#x27;, ...)</pre></div> </div></div></div></div>"
      ],
      "text/plain": [
       "XGBClassifier(base_score=None, booster=None, callbacks=None,\n",
       "              colsample_bylevel=None, colsample_bynode=0.28417313913219144,\n",
       "              colsample_bytree=None, device=None, early_stopping_rounds=None,\n",
       "              enable_categorical=False,\n",
       "              eval_metric=<function custom_f1_score at 0x7f1748e44680>,\n",
       "              feature_types=None, gamma=None, grow_policy=None,\n",
       "              importance_type=None, interaction_constraints=None,\n",
       "              learning_rate=0.19386711159304187, max_bin=None,\n",
       "              max_cat_threshold=None, max_cat_to_onehot=None,\n",
       "              max_delta_step=None, max_depth=19, max_leaves=None,\n",
       "              min_child_weight=16, missing=nan, monotone_constraints=None,\n",
       "              multi_strategy=None, n_estimators=99, n_jobs=None,\n",
       "              num_parallel_tree=None, objective='multi:softprob', ...)"
      ]
     },
     "execution_count": 21,
     "metadata": {},
     "output_type": "execute_result"
    }
   ],
   "source": [
    "n_estimators = int(study.best_trial.user_attrs['best_iteration']*1.2)\n",
    "xgb = xgboost.XGBClassifier(\n",
    "        eval_metric=eval_metric,\n",
    "        n_estimators=n_estimators,\n",
    "        **study.best_trial.params\n",
    "    )\n",
    "xgb.fit(\n",
    "    ssp.vstack((X_train, X_val)), \n",
    "    np.concatenate((y_train_enc, y_val_enc)),\n",
    "    verbose=1,\n",
    ")"
   ]
  },
  {
   "cell_type": "code",
   "execution_count": 22,
   "id": "46db4bc7",
   "metadata": {
    "execution": {
     "iopub.execute_input": "2025-05-14T16:13:08.567678Z",
     "iopub.status.busy": "2025-05-14T16:13:08.567304Z",
     "iopub.status.idle": "2025-05-14T16:13:08.628491Z",
     "shell.execute_reply": "2025-05-14T16:13:08.628160Z"
    },
    "papermill": {
     "duration": 0.11024,
     "end_time": "2025-05-14T16:13:08.629261",
     "exception": false,
     "start_time": "2025-05-14T16:13:08.519021",
     "status": "completed"
    },
    "tags": []
   },
   "outputs": [
    {
     "data": {
      "text/plain": [
       "['/scratch_isilon/groups/singlecell/shared/projects/Inflammation-PBMCs-Atlas/03_downstream_analysis/08_gene_importance/xgboost_external_validation/xgboost_TopN_genes/results_20/best_model/T_CD8_Naive_shap_studyID_3_xgb.json']"
      ]
     },
     "execution_count": 22,
     "metadata": {},
     "output_type": "execute_result"
    }
   ],
   "source": [
    "out_dir = here(f'03_downstream_analysis/08_gene_importance/xgboost_external_validation/xgboost_TopN_genes/results_{N_GENES}/best_model')\n",
    "\n",
    "if not os.path.exists(out_dir):\n",
    "    os.makedirs(out_dir)\n",
    "    \n",
    "joblib.dump(xgb, os.path.join(out_dir, f'{CELL_TYPE}_{SEED}_{TEST_SPLIT_IDX}_xgb.json'))"
   ]
  },
  {
   "cell_type": "code",
   "execution_count": 23,
   "id": "f54f0f36",
   "metadata": {
    "execution": {
     "iopub.execute_input": "2025-05-14T16:13:08.648405Z",
     "iopub.status.busy": "2025-05-14T16:13:08.648031Z",
     "iopub.status.idle": "2025-05-14T16:13:08.791236Z",
     "shell.execute_reply": "2025-05-14T16:13:08.790766Z"
    },
    "papermill": {
     "duration": 0.153349,
     "end_time": "2025-05-14T16:13:08.792093",
     "exception": false,
     "start_time": "2025-05-14T16:13:08.638744",
     "status": "completed"
    },
    "tags": []
   },
   "outputs": [],
   "source": [
    "df_pred_test = pd.DataFrame(dict(\n",
    "    cell_id=train_adata.obs.iloc[test_idxs].index.values,\n",
    "    y_true=y_test, \n",
    "    y_true_code=y_test_enc, \n",
    "    y_pred=xgb.predict(X_test))).set_index('cell_id')"
   ]
  },
  {
   "cell_type": "code",
   "execution_count": 24,
   "id": "9d3fb41d",
   "metadata": {
    "execution": {
     "iopub.execute_input": "2025-05-14T16:13:08.810593Z",
     "iopub.status.busy": "2025-05-14T16:13:08.810157Z",
     "iopub.status.idle": "2025-05-14T16:13:08.871487Z",
     "shell.execute_reply": "2025-05-14T16:13:08.871175Z"
    },
    "papermill": {
     "duration": 0.071136,
     "end_time": "2025-05-14T16:13:08.872285",
     "exception": false,
     "start_time": "2025-05-14T16:13:08.801149",
     "status": "completed"
    },
    "tags": []
   },
   "outputs": [],
   "source": [
    "out_dir = here(f'03_downstream_analysis/08_gene_importance/xgboost_external_validation/xgboost_TopN_genes/results_{N_GENES}/predictions')\n",
    "\n",
    "if not os.path.exists(out_dir):\n",
    "    os.makedirs(out_dir)\n",
    "    \n",
    "df_pred_test.to_csv(os.path.join(out_dir, f'{CELL_TYPE}_{SEED}_{TEST_SPLIT_IDX}_pred_test.zip'))"
   ]
  },
  {
   "cell_type": "code",
   "execution_count": 25,
   "id": "f2491321",
   "metadata": {
    "execution": {
     "iopub.execute_input": "2025-05-14T16:13:08.911002Z",
     "iopub.status.busy": "2025-05-14T16:13:08.910671Z",
     "iopub.status.idle": "2025-05-14T16:13:08.927545Z",
     "shell.execute_reply": "2025-05-14T16:13:08.927201Z"
    },
    "papermill": {
     "duration": 0.047309,
     "end_time": "2025-05-14T16:13:08.928310",
     "exception": false,
     "start_time": "2025-05-14T16:13:08.881001",
     "status": "completed"
    },
    "tags": []
   },
   "outputs": [],
   "source": [
    "metrics_dict = dict(\n",
    "    BAS=balanced_accuracy_score(y_true=df_pred_test.y_true_code, y_pred=df_pred_test.y_pred), WF1=f1_score(y_true=df_pred_test.y_true_code, y_pred=df_pred_test.y_pred,average='weighted'))"
   ]
  },
  {
   "cell_type": "code",
   "execution_count": 26,
   "id": "98ca2704",
   "metadata": {
    "execution": {
     "iopub.execute_input": "2025-05-14T16:13:08.956082Z",
     "iopub.status.busy": "2025-05-14T16:13:08.955751Z",
     "iopub.status.idle": "2025-05-14T16:13:08.958534Z",
     "shell.execute_reply": "2025-05-14T16:13:08.958244Z"
    },
    "papermill": {
     "duration": 0.022041,
     "end_time": "2025-05-14T16:13:08.959293",
     "exception": false,
     "start_time": "2025-05-14T16:13:08.937252",
     "status": "completed"
    },
    "tags": []
   },
   "outputs": [
    {
     "data": {
      "text/plain": [
       "{'BAS': 0.7208629885516024, 'WF1': 0.7860978644904326}"
      ]
     },
     "execution_count": 26,
     "metadata": {},
     "output_type": "execute_result"
    }
   ],
   "source": [
    "metrics_dict"
   ]
  },
  {
   "cell_type": "code",
   "execution_count": 27,
   "id": "20693c8b",
   "metadata": {
    "execution": {
     "iopub.execute_input": "2025-05-14T16:13:08.996896Z",
     "iopub.status.busy": "2025-05-14T16:13:08.996549Z",
     "iopub.status.idle": "2025-05-14T16:13:09.005237Z",
     "shell.execute_reply": "2025-05-14T16:13:09.004949Z"
    },
    "papermill": {
     "duration": 0.02788,
     "end_time": "2025-05-14T16:13:09.006047",
     "exception": false,
     "start_time": "2025-05-14T16:13:08.978167",
     "status": "completed"
    },
    "tags": []
   },
   "outputs": [
    {
     "data": {
      "text/html": [
       "<div>\n",
       "<style scoped>\n",
       "    .dataframe tbody tr th:only-of-type {\n",
       "        vertical-align: middle;\n",
       "    }\n",
       "\n",
       "    .dataframe tbody tr th {\n",
       "        vertical-align: top;\n",
       "    }\n",
       "\n",
       "    .dataframe thead th {\n",
       "        text-align: right;\n",
       "    }\n",
       "</style>\n",
       "<table border=\"1\" class=\"dataframe\">\n",
       "  <thead>\n",
       "    <tr style=\"text-align: right;\">\n",
       "      <th></th>\n",
       "      <th>BAS</th>\n",
       "      <th>WF1</th>\n",
       "      <th>split_idx</th>\n",
       "      <th>gene_set_seed</th>\n",
       "      <th>cell_type</th>\n",
       "    </tr>\n",
       "  </thead>\n",
       "  <tbody>\n",
       "    <tr>\n",
       "      <th>0</th>\n",
       "      <td>0.720863</td>\n",
       "      <td>0.786098</td>\n",
       "      <td>3</td>\n",
       "      <td>shap_studyID</td>\n",
       "      <td>T_CD8_Naive</td>\n",
       "    </tr>\n",
       "  </tbody>\n",
       "</table>\n",
       "</div>"
      ],
      "text/plain": [
       "        BAS       WF1  split_idx gene_set_seed    cell_type\n",
       "0  0.720863  0.786098          3  shap_studyID  T_CD8_Naive"
      ]
     },
     "execution_count": 27,
     "metadata": {},
     "output_type": "execute_result"
    }
   ],
   "source": [
    "metrics_df = pd.DataFrame.from_dict([metrics_dict]).assign(split_idx=TEST_SPLIT_IDX, gene_set_seed=SEED, cell_type=CELL_TYPE)\n",
    "metrics_df"
   ]
  },
  {
   "cell_type": "code",
   "execution_count": 28,
   "id": "358eafc6",
   "metadata": {
    "execution": {
     "iopub.execute_input": "2025-05-14T16:13:09.046694Z",
     "iopub.status.busy": "2025-05-14T16:13:09.046453Z",
     "iopub.status.idle": "2025-05-14T16:13:09.053995Z",
     "shell.execute_reply": "2025-05-14T16:13:09.053684Z"
    },
    "papermill": {
     "duration": 0.017471,
     "end_time": "2025-05-14T16:13:09.054752",
     "exception": false,
     "start_time": "2025-05-14T16:13:09.037281",
     "status": "completed"
    },
    "tags": []
   },
   "outputs": [],
   "source": [
    "out_dir = here(f'03_downstream_analysis/08_gene_importance/xgboost_external_validation/xgboost_TopN_genes/results_{N_GENES}/metrics')\n",
    "\n",
    "if not os.path.exists(out_dir):\n",
    "    os.makedirs(out_dir)\n",
    "    \n",
    "metrics_df.to_csv(os.path.join(out_dir, f'{CELL_TYPE}_{SEED}_{TEST_SPLIT_IDX}_metrics.zip'))"
   ]
  }
 ],
 "metadata": {
  "kernelspec": {
   "display_name": "Python 3 (ipykernel)",
   "language": "python",
   "name": "python3"
  },
  "language_info": {
   "codemirror_mode": {
    "name": "ipython",
    "version": 3
   },
   "file_extension": ".py",
   "mimetype": "text/x-python",
   "name": "python",
   "nbconvert_exporter": "python",
   "pygments_lexer": "ipython3",
   "version": "3.12.5"
  },
  "papermill": {
   "default_parameters": {},
   "duration": 290.886799,
   "end_time": "2025-05-14T16:13:09.779522",
   "environment_variables": {},
   "exception": null,
   "input_path": "02_xgboost_fitting_external_20genes.ipynb",
   "output_path": "results_20/executed_notebooks/xgboost_fitting_external_CT_T_CD8_Naive_GS_shap_studyID_seed3.ipynb",
   "parameters": {
    "CELL_TYPE": "T_CD8_Naive",
    "SEED": "shap_studyID",
    "TEST_SPLIT_IDX": 3
   },
   "start_time": "2025-05-14T16:08:18.892723",
   "version": "2.6.0"
  }
 },
 "nbformat": 4,
 "nbformat_minor": 5
}