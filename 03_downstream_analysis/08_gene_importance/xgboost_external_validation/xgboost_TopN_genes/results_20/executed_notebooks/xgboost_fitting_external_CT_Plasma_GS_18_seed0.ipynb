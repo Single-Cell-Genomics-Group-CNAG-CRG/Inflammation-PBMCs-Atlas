{
 "cells": [
  {
   "cell_type": "code",
   "execution_count": 1,
   "id": "d9d50a0e",
   "metadata": {
    "editable": true,
    "execution": {
     "iopub.execute_input": "2025-05-15T16:15:47.261306Z",
     "iopub.status.busy": "2025-05-15T16:15:47.260992Z",
     "iopub.status.idle": "2025-05-15T16:15:47.264080Z",
     "shell.execute_reply": "2025-05-15T16:15:47.263710Z"
    },
    "papermill": {
     "duration": 0.023171,
     "end_time": "2025-05-15T16:15:47.264958",
     "exception": false,
     "start_time": "2025-05-15T16:15:47.241787",
     "status": "completed"
    },
    "slideshow": {
     "slide_type": ""
    },
    "tags": [
     "parameters"
    ]
   },
   "outputs": [],
   "source": [
    "CELL_TYPE = 'pDC'\n",
    "N_GENES: int = 20\n",
    "SEED = 'shap_studyID' #'disease_NOstudy' 'study_NOdisease' or 'int' or 'shap_studyID'\n",
    "TEST_SPLIT_IDX: int = 1 #[0,4]"
   ]
  },
  {
   "cell_type": "code",
   "execution_count": 2,
   "id": "bbe6ed5a",
   "metadata": {
    "execution": {
     "iopub.execute_input": "2025-05-15T16:15:47.275788Z",
     "iopub.status.busy": "2025-05-15T16:15:47.275566Z",
     "iopub.status.idle": "2025-05-15T16:15:47.277771Z",
     "shell.execute_reply": "2025-05-15T16:15:47.277425Z"
    },
    "papermill": {
     "duration": 0.008507,
     "end_time": "2025-05-15T16:15:47.278579",
     "exception": false,
     "start_time": "2025-05-15T16:15:47.270072",
     "status": "completed"
    },
    "tags": [
     "injected-parameters"
    ]
   },
   "outputs": [],
   "source": [
    "# Parameters\n",
    "CELL_TYPE = \"Plasma\"\n",
    "SEED = 18\n",
    "TEST_SPLIT_IDX = 0\n"
   ]
  },
  {
   "cell_type": "code",
   "execution_count": 3,
   "id": "b61603e9",
   "metadata": {
    "execution": {
     "iopub.execute_input": "2025-05-15T16:15:47.289538Z",
     "iopub.status.busy": "2025-05-15T16:15:47.289331Z",
     "iopub.status.idle": "2025-05-15T16:15:47.291516Z",
     "shell.execute_reply": "2025-05-15T16:15:47.291161Z"
    },
    "papermill": {
     "duration": 0.008688,
     "end_time": "2025-05-15T16:15:47.292345",
     "exception": false,
     "start_time": "2025-05-15T16:15:47.283657",
     "status": "completed"
    },
    "tags": []
   },
   "outputs": [],
   "source": [
    "N_SPLITS: int = 5\n",
    "N_TRIALS: int = 50"
   ]
  },
  {
   "cell_type": "code",
   "execution_count": 4,
   "id": "b92ddd3b",
   "metadata": {
    "execution": {
     "iopub.execute_input": "2025-05-15T16:15:47.303675Z",
     "iopub.status.busy": "2025-05-15T16:15:47.303410Z",
     "iopub.status.idle": "2025-05-15T16:15:48.999586Z",
     "shell.execute_reply": "2025-05-15T16:15:48.998940Z"
    },
    "papermill": {
     "duration": 1.703883,
     "end_time": "2025-05-15T16:15:49.000994",
     "exception": false,
     "start_time": "2025-05-15T16:15:47.297111",
     "status": "completed"
    },
    "tags": []
   },
   "outputs": [],
   "source": [
    "import os\n",
    "import sys\n",
    "from pyprojroot.here import here\n",
    "import pandas as pd\n",
    "import anndata as ad\n",
    "import numpy as np\n",
    "import math\n",
    "from sklearn.model_selection import StratifiedGroupKFold\n",
    "from sklearn.preprocessing import LabelEncoder\n",
    "from sklearn.metrics import f1_score\n",
    "import matplotlib.pyplot as plt\n",
    "import seaborn as sns\n",
    "from itertools import product\n",
    "from sklearn.metrics import balanced_accuracy_score, f1_score\n",
    "import optuna\n",
    "\n",
    "import joblib\n",
    "import pickle\n",
    "import datetime\n",
    "\n",
    "import collections\n",
    "\n",
    "import xgboost\n",
    "from sklearn.preprocessing import LabelEncoder\n",
    "\n",
    "import scipy.sparse as ssp\n",
    "import joblib\n",
    "\n",
    "from dotenv import load_dotenv"
   ]
  },
  {
   "cell_type": "code",
   "execution_count": 5,
   "id": "96ee376a",
   "metadata": {
    "execution": {
     "iopub.execute_input": "2025-05-15T16:15:49.014262Z",
     "iopub.status.busy": "2025-05-15T16:15:49.013714Z",
     "iopub.status.idle": "2025-05-15T16:15:49.021356Z",
     "shell.execute_reply": "2025-05-15T16:15:49.020839Z"
    },
    "papermill": {
     "duration": 0.015065,
     "end_time": "2025-05-15T16:15:49.022199",
     "exception": false,
     "start_time": "2025-05-15T16:15:49.007134",
     "status": "completed"
    },
    "tags": []
   },
   "outputs": [
    {
     "data": {
      "text/plain": [
       "True"
      ]
     },
     "execution_count": 5,
     "metadata": {},
     "output_type": "execute_result"
    }
   ],
   "source": [
    "load_dotenv()"
   ]
  },
  {
   "cell_type": "markdown",
   "id": "64e7d873",
   "metadata": {
    "papermill": {
     "duration": 0.004809,
     "end_time": "2025-05-15T16:15:49.032044",
     "exception": false,
     "start_time": "2025-05-15T16:15:49.027235",
     "status": "completed"
    },
    "tags": []
   },
   "source": [
    "# LOAD DATASET"
   ]
  },
  {
   "cell_type": "code",
   "execution_count": 6,
   "id": "113df1e9",
   "metadata": {
    "execution": {
     "iopub.execute_input": "2025-05-15T16:15:49.042960Z",
     "iopub.status.busy": "2025-05-15T16:15:49.042549Z",
     "iopub.status.idle": "2025-05-15T16:15:49.103244Z",
     "shell.execute_reply": "2025-05-15T16:15:49.102481Z"
    },
    "papermill": {
     "duration": 0.067431,
     "end_time": "2025-05-15T16:15:49.104312",
     "exception": false,
     "start_time": "2025-05-15T16:15:49.036881",
     "status": "completed"
    },
    "tags": []
   },
   "outputs": [],
   "source": [
    "train_adata = ad.read_h5ad(\n",
    "    here(f'03_downstream_analysis/08_gene_importance/xgboost_external_validation/xgboost_TopN_genes/data_cellTypes/EXTERNAL_{CELL_TYPE}.filtered.log1p.h5ad')\n",
    ")"
   ]
  },
  {
   "cell_type": "code",
   "execution_count": 7,
   "id": "8ac9492a",
   "metadata": {
    "execution": {
     "iopub.execute_input": "2025-05-15T16:15:49.116330Z",
     "iopub.status.busy": "2025-05-15T16:15:49.115980Z",
     "iopub.status.idle": "2025-05-15T16:15:49.129653Z",
     "shell.execute_reply": "2025-05-15T16:15:49.129185Z"
    },
    "papermill": {
     "duration": 0.020977,
     "end_time": "2025-05-15T16:15:49.130509",
     "exception": false,
     "start_time": "2025-05-15T16:15:49.109532",
     "status": "completed"
    },
    "tags": []
   },
   "outputs": [
    {
     "name": "stdout",
     "output_type": "stream",
     "text": [
      "['ENSG00000132965' 'ENSG00000114423' 'ENSG00000143119' 'ENSG00000175567'\n",
      " 'ENSG00000134107' 'ENSG00000042753' 'ENSG00000171608' 'ENSG00000066336'\n",
      " 'ENSG00000133639' 'ENSG00000140264' 'ENSG00000104689' 'ENSG00000203747'\n",
      " 'ENSG00000258315' 'ENSG00000105835' 'ENSG00000004468' 'ENSG00000265972'\n",
      " 'ENSG00000140105' 'ENSG00000130724' 'ENSG00000160888' 'ENSG00000184752'\n",
      " 'ENSG00000163513' 'ENSG00000090554' 'ENSG00000100368' 'ENSG00000126353'\n",
      " 'ENSG00000198846' 'ENSG00000104894' 'ENSG00000135114' 'ENSG00000081059'\n",
      " 'ENSG00000100906' 'ENSG00000008517' 'ENSG00000156587' 'ENSG00000115232'\n",
      " 'ENSG00000090863' 'ENSG00000137193' 'ENSG00000090266' 'ENSG00000168894'\n",
      " 'ENSG00000197102' 'ENSG00000164308' 'ENSG00000172543' 'ENSG00000099204'\n",
      " 'ENSG00000198355' 'ENSG00000110848' 'ENSG00000115875' 'ENSG00000118971'\n",
      " 'ENSG00000101096' 'ENSG00000175104' 'ENSG00000011590' 'ENSG00000142669'\n",
      " 'ENSG00000164307' 'ENSG00000147443' 'ENSG00000155380' 'ENSG00000125534'\n",
      " 'ENSG00000168610' 'ENSG00000145850' 'ENSG00000162772' 'ENSG00000120742'\n",
      " 'ENSG00000090339' 'ENSG00000152219' 'ENSG00000143110' 'ENSG00000183172'\n",
      " 'ENSG00000121858' 'ENSG00000118503' 'ENSG00000139192' 'ENSG00000152778'\n",
      " 'ENSG00000142634' 'ENSG00000127540' 'ENSG00000103187' 'ENSG00000204257'\n",
      " 'ENSG00000143575' 'ENSG00000122359' 'ENSG00000167283' 'ENSG00000173039'\n",
      " 'ENSG00000137441' 'ENSG00000163660' 'ENSG00000196396' 'ENSG00000100280'\n",
      " 'ENSG00000131143' 'ENSG00000156411' 'ENSG00000204843' 'ENSG00000065978'\n",
      " 'ENSG00000137965' 'ENSG00000089737' 'ENSG00000163220' 'ENSG00000121316'\n",
      " 'ENSG00000163563' 'ENSG00000158517' 'ENSG00000121774' 'ENSG00000180008'\n",
      " 'ENSG00000120129' 'ENSG00000168811' 'ENSG00000106367' 'ENSG00000170581'\n",
      " 'ENSG00000042980' 'ENSG00000168389' 'ENSG00000184007' 'ENSG00000173757'\n",
      " 'ENSG00000101608' 'ENSG00000169564' 'ENSG00000104998' 'ENSG00000113615'\n",
      " 'ENSG00000105583' 'ENSG00000206503' 'ENSG00000145287' 'ENSG00000143933'\n",
      " 'ENSG00000160075' 'ENSG00000163131' 'ENSG00000142089']\n"
     ]
    }
   ],
   "source": [
    "if SEED != 'all':\n",
    "    gene_subset = np.load(here(f'03_downstream_analysis/08_gene_importance/xgboost_external_validation/shap_gene_selection/gene_subsets_{N_GENES}/{CELL_TYPE}_{SEED}.npy'), allow_pickle=True)\n",
    "    train_adata = train_adata[:,gene_subset]\n",
    "    print(gene_subset)\n",
    "elif SEED == 'all':\n",
    "    print('Using all genes')\n",
    "else:\n",
    "    raise ValueError()"
   ]
  },
  {
   "cell_type": "code",
   "execution_count": 8,
   "id": "30dba96f",
   "metadata": {
    "execution": {
     "iopub.execute_input": "2025-05-15T16:15:49.142424Z",
     "iopub.status.busy": "2025-05-15T16:15:49.142035Z",
     "iopub.status.idle": "2025-05-15T16:15:49.145528Z",
     "shell.execute_reply": "2025-05-15T16:15:49.145197Z"
    },
    "papermill": {
     "duration": 0.010936,
     "end_time": "2025-05-15T16:15:49.146352",
     "exception": false,
     "start_time": "2025-05-15T16:15:49.135416",
     "status": "completed"
    },
    "tags": []
   },
   "outputs": [
    {
     "data": {
      "text/plain": [
       "(542, 107)"
      ]
     },
     "execution_count": 8,
     "metadata": {},
     "output_type": "execute_result"
    }
   ],
   "source": [
    "train_adata.shape"
   ]
  },
  {
   "cell_type": "code",
   "execution_count": 9,
   "id": "45afe6d7",
   "metadata": {
    "execution": {
     "iopub.execute_input": "2025-05-15T16:15:49.157670Z",
     "iopub.status.busy": "2025-05-15T16:15:49.157219Z",
     "iopub.status.idle": "2025-05-15T16:15:49.161777Z",
     "shell.execute_reply": "2025-05-15T16:15:49.161479Z"
    },
    "papermill": {
     "duration": 0.011119,
     "end_time": "2025-05-15T16:15:49.162563",
     "exception": false,
     "start_time": "2025-05-15T16:15:49.151444",
     "status": "completed"
    },
    "tags": []
   },
   "outputs": [
    {
     "data": {
      "text/plain": [
       "['RA', 'COVID', 'healthy', 'HIV', 'cirrhosis', 'CD', 'SLE', 'sepsis']\n",
       "Categories (8, object): ['CD', 'COVID', 'HIV', 'RA', 'SLE', 'cirrhosis', 'healthy', 'sepsis']"
      ]
     },
     "execution_count": 9,
     "metadata": {},
     "output_type": "execute_result"
    }
   ],
   "source": [
    "train_adata.obs.disease.unique()"
   ]
  },
  {
   "cell_type": "code",
   "execution_count": 10,
   "id": "b25839ac",
   "metadata": {
    "execution": {
     "iopub.execute_input": "2025-05-15T16:15:49.173418Z",
     "iopub.status.busy": "2025-05-15T16:15:49.173180Z",
     "iopub.status.idle": "2025-05-15T16:15:49.176852Z",
     "shell.execute_reply": "2025-05-15T16:15:49.176562Z"
    },
    "papermill": {
     "duration": 0.009957,
     "end_time": "2025-05-15T16:15:49.177651",
     "exception": false,
     "start_time": "2025-05-15T16:15:49.167694",
     "status": "completed"
    },
    "tags": []
   },
   "outputs": [
    {
     "data": {
      "text/plain": [
       "['SCGT00val_I0364_T0', 'SCGT00val_I036019_T0', 'SCGT00val_I036028_T0', 'SCGT00val_I036024_T0', 'SCGT00val_I036016_T0', ..., '10XGenomics_10XHC2_T0', '10XGenomics_10XHC3_T0', '10XGenomics_10XHC5_T0', '10XGenomics_10XHC7_T0', '10XGenomics_10XHC8_T0']\n",
       "Length: 74\n",
       "Categories (74, object): ['10XGenomics_10XHC1_T0', '10XGenomics_10XHC2_T0', '10XGenomics_10XHC3_T0', '10XGenomics_10XHC4_T0', ..., 'Savage2021_BRISL6_T0', 'Savage2021_BRISL7_T0', 'Savage2021_PIDA_T0', 'Savage2021_PIDB_T0']"
      ]
     },
     "execution_count": 10,
     "metadata": {},
     "output_type": "execute_result"
    }
   ],
   "source": [
    "train_adata.obs.sampleID.unique()"
   ]
  },
  {
   "cell_type": "code",
   "execution_count": 11,
   "id": "8539fdf0",
   "metadata": {
    "execution": {
     "iopub.execute_input": "2025-05-15T16:15:49.189208Z",
     "iopub.status.busy": "2025-05-15T16:15:49.188836Z",
     "iopub.status.idle": "2025-05-15T16:15:49.223373Z",
     "shell.execute_reply": "2025-05-15T16:15:49.222761Z"
    },
    "papermill": {
     "duration": 0.041484,
     "end_time": "2025-05-15T16:15:49.224222",
     "exception": false,
     "start_time": "2025-05-15T16:15:49.182738",
     "status": "completed"
    },
    "tags": []
   },
   "outputs": [],
   "source": [
    "all_idxs = np.arange(train_adata.obs.shape[0])\n",
    "left_out_splits = [s[1] for s in StratifiedGroupKFold(n_splits=N_SPLITS).split(all_idxs, train_adata.obs.disease, train_adata.obs.sampleID)]"
   ]
  },
  {
   "cell_type": "code",
   "execution_count": 12,
   "id": "518b0b68",
   "metadata": {
    "execution": {
     "iopub.execute_input": "2025-05-15T16:15:49.236698Z",
     "iopub.status.busy": "2025-05-15T16:15:49.236310Z",
     "iopub.status.idle": "2025-05-15T16:15:49.240125Z",
     "shell.execute_reply": "2025-05-15T16:15:49.239800Z"
    },
    "papermill": {
     "duration": 0.011248,
     "end_time": "2025-05-15T16:15:49.240926",
     "exception": false,
     "start_time": "2025-05-15T16:15:49.229678",
     "status": "completed"
    },
    "tags": []
   },
   "outputs": [
    {
     "data": {
      "text/plain": [
       "([2, 3, 4], 1, 0)"
      ]
     },
     "execution_count": 12,
     "metadata": {},
     "output_type": "execute_result"
    }
   ],
   "source": [
    "TRAIN_SPLIT_IDXS = [0,1,2,3,4]\n",
    "VAL_SPLIT_IDX = (TEST_SPLIT_IDX + 1) % 5\n",
    "TRAIN_SPLIT_IDXS.remove(TEST_SPLIT_IDX)\n",
    "TRAIN_SPLIT_IDXS.remove(VAL_SPLIT_IDX)\n",
    "TRAIN_SPLIT_IDXS, VAL_SPLIT_IDX, TEST_SPLIT_IDX"
   ]
  },
  {
   "cell_type": "code",
   "execution_count": 13,
   "id": "08a0cdb4",
   "metadata": {
    "execution": {
     "iopub.execute_input": "2025-05-15T16:15:49.252911Z",
     "iopub.status.busy": "2025-05-15T16:15:49.252491Z",
     "iopub.status.idle": "2025-05-15T16:15:49.255626Z",
     "shell.execute_reply": "2025-05-15T16:15:49.255301Z"
    },
    "papermill": {
     "duration": 0.01021,
     "end_time": "2025-05-15T16:15:49.256420",
     "exception": false,
     "start_time": "2025-05-15T16:15:49.246210",
     "status": "completed"
    },
    "tags": []
   },
   "outputs": [],
   "source": [
    "train_idxs = np.concatenate([left_out_splits[idx] for idx in TRAIN_SPLIT_IDXS])\n",
    "val_idxs = left_out_splits[VAL_SPLIT_IDX]\n",
    "test_idxs = left_out_splits[TEST_SPLIT_IDX]"
   ]
  },
  {
   "cell_type": "markdown",
   "id": "afb0ea3c",
   "metadata": {
    "papermill": {
     "duration": 0.006046,
     "end_time": "2025-05-15T16:15:49.267779",
     "exception": false,
     "start_time": "2025-05-15T16:15:49.261733",
     "status": "completed"
    },
    "tags": []
   },
   "source": [
    "### SUBSET DATASET INTO TRAIN/TEST/VAL SPLITS"
   ]
  },
  {
   "cell_type": "code",
   "execution_count": 14,
   "id": "21be69ff",
   "metadata": {
    "execution": {
     "iopub.execute_input": "2025-05-15T16:15:49.279590Z",
     "iopub.status.busy": "2025-05-15T16:15:49.279215Z",
     "iopub.status.idle": "2025-05-15T16:15:49.288073Z",
     "shell.execute_reply": "2025-05-15T16:15:49.287702Z"
    },
    "papermill": {
     "duration": 0.015647,
     "end_time": "2025-05-15T16:15:49.288870",
     "exception": false,
     "start_time": "2025-05-15T16:15:49.273223",
     "status": "completed"
    },
    "tags": []
   },
   "outputs": [
    {
     "data": {
      "text/plain": [
       "((317, 107), (118, 107), (107, 107))"
      ]
     },
     "execution_count": 14,
     "metadata": {},
     "output_type": "execute_result"
    }
   ],
   "source": [
    "X_train = train_adata.X[train_idxs]\n",
    "X_test = train_adata.X[test_idxs]\n",
    "X_val = train_adata.X[val_idxs]\n",
    "X_train.shape, X_test.shape, X_val.shape"
   ]
  },
  {
   "cell_type": "code",
   "execution_count": 15,
   "id": "fb40b7f3",
   "metadata": {
    "execution": {
     "iopub.execute_input": "2025-05-15T16:15:49.300614Z",
     "iopub.status.busy": "2025-05-15T16:15:49.300242Z",
     "iopub.status.idle": "2025-05-15T16:15:49.305666Z",
     "shell.execute_reply": "2025-05-15T16:15:49.305372Z"
    },
    "papermill": {
     "duration": 0.012314,
     "end_time": "2025-05-15T16:15:49.306440",
     "exception": false,
     "start_time": "2025-05-15T16:15:49.294126",
     "status": "completed"
    },
    "tags": []
   },
   "outputs": [
    {
     "data": {
      "text/plain": [
       "((317,), (118,), (107,))"
      ]
     },
     "execution_count": 15,
     "metadata": {},
     "output_type": "execute_result"
    }
   ],
   "source": [
    "y_train = train_adata.obs.iloc[train_idxs].disease.values.astype(str)\n",
    "y_test = train_adata.obs.iloc[test_idxs].disease.values.astype(str)\n",
    "y_val = train_adata.obs.iloc[val_idxs].disease.values.astype(str)\n",
    "y_train.shape, y_test.shape, y_val.shape"
   ]
  },
  {
   "cell_type": "code",
   "execution_count": 16,
   "id": "1c29569b",
   "metadata": {
    "execution": {
     "iopub.execute_input": "2025-05-15T16:15:49.317944Z",
     "iopub.status.busy": "2025-05-15T16:15:49.317493Z",
     "iopub.status.idle": "2025-05-15T16:15:49.320668Z",
     "shell.execute_reply": "2025-05-15T16:15:49.320286Z"
    },
    "papermill": {
     "duration": 0.009762,
     "end_time": "2025-05-15T16:15:49.321448",
     "exception": false,
     "start_time": "2025-05-15T16:15:49.311686",
     "status": "completed"
    },
    "tags": []
   },
   "outputs": [],
   "source": [
    "lenc = LabelEncoder()\n",
    "y_train_enc = lenc.fit_transform(y_train)\n",
    "y_val_enc = lenc.transform(y_val)\n",
    "y_test_enc = lenc.transform(y_test)"
   ]
  },
  {
   "cell_type": "markdown",
   "id": "5cdb523c",
   "metadata": {
    "papermill": {
     "duration": 0.005434,
     "end_time": "2025-05-15T16:15:49.332334",
     "exception": false,
     "start_time": "2025-05-15T16:15:49.326900",
     "status": "completed"
    },
    "tags": []
   },
   "source": [
    "### GENERATE F1 "
   ]
  },
  {
   "cell_type": "code",
   "execution_count": 17,
   "id": "accf6fe4",
   "metadata": {
    "execution": {
     "iopub.execute_input": "2025-05-15T16:15:49.344031Z",
     "iopub.status.busy": "2025-05-15T16:15:49.343642Z",
     "iopub.status.idle": "2025-05-15T16:15:49.346596Z",
     "shell.execute_reply": "2025-05-15T16:15:49.346272Z"
    },
    "papermill": {
     "duration": 0.009885,
     "end_time": "2025-05-15T16:15:49.347424",
     "exception": false,
     "start_time": "2025-05-15T16:15:49.337539",
     "status": "completed"
    },
    "tags": []
   },
   "outputs": [],
   "source": [
    "def custom_f1_score(y_true, y_pred):\n",
    "    return -f1_score(y_true, y_pred.argmax(1), average='weighted')"
   ]
  },
  {
   "cell_type": "code",
   "execution_count": 18,
   "id": "74bf8b09",
   "metadata": {
    "execution": {
     "iopub.execute_input": "2025-05-15T16:15:49.359691Z",
     "iopub.status.busy": "2025-05-15T16:15:49.359259Z",
     "iopub.status.idle": "2025-05-15T16:15:49.365125Z",
     "shell.execute_reply": "2025-05-15T16:15:49.363996Z"
    },
    "papermill": {
     "duration": 0.01312,
     "end_time": "2025-05-15T16:15:49.365958",
     "exception": false,
     "start_time": "2025-05-15T16:15:49.352838",
     "status": "completed"
    },
    "tags": []
   },
   "outputs": [],
   "source": [
    "eval_metric=custom_f1_score\n",
    "eval_metric_name='custom_f1_score'\n",
    "\n",
    "def objective(trial):\n",
    "    params = {\n",
    "        'n_estimators': 1500,\n",
    "        'max_depth': trial.suggest_int('max_depth', 3, 20),\n",
    "        'min_child_weight': trial.suggest_int('min_child_weight', 1, 250),\n",
    "        'subsample': trial.suggest_float('subsample', 0.1, 1.0),\n",
    "        'colsample_bynode': trial.suggest_float('colsample_bynode', 0.1, 1.0),\n",
    "        'learning_rate': trial.suggest_float('learning_rate', 1e-3, 5e-1, log=True),\n",
    "    }\n",
    "    pruning_callback = optuna.integration.XGBoostPruningCallback(trial, f'validation_0-{eval_metric_name}')\n",
    "    es_callback = xgboost.callback.EarlyStopping(20, min_delta=0.001)\n",
    "    xgb = xgboost.XGBClassifier(\n",
    "        eval_metric=eval_metric,\n",
    "        callbacks=[pruning_callback, es_callback],\n",
    "        n_jobs=5,\n",
    "        **params\n",
    "    )\n",
    "    xgb.fit(\n",
    "        X_train, \n",
    "        y_train_enc, \n",
    "        verbose=0,\n",
    "        eval_set=[(X_val, y_val_enc)],\n",
    "    )\n",
    "    trial.set_user_attr('best_iteration', xgb.best_iteration)\n",
    "\n",
    "    return xgb.best_score"
   ]
  },
  {
   "cell_type": "code",
   "execution_count": 19,
   "id": "7e7d585c",
   "metadata": {
    "execution": {
     "iopub.execute_input": "2025-05-15T16:15:49.378182Z",
     "iopub.status.busy": "2025-05-15T16:15:49.377804Z",
     "iopub.status.idle": "2025-05-15T16:16:05.350789Z",
     "shell.execute_reply": "2025-05-15T16:16:05.349895Z"
    },
    "papermill": {
     "duration": 15.980458,
     "end_time": "2025-05-15T16:16:05.351877",
     "exception": false,
     "start_time": "2025-05-15T16:15:49.371419",
     "status": "completed"
    },
    "scrolled": true,
    "tags": []
   },
   "outputs": [
    {
     "name": "stderr",
     "output_type": "stream",
     "text": [
      "[I 2025-05-15 18:15:49,380] A new study created in memory with name: no-name-e1926d84-7600-499f-ab6d-490fa9a91ac0\n"
     ]
    },
    {
     "name": "stderr",
     "output_type": "stream",
     "text": [
      "[I 2025-05-15 18:15:51,967] Trial 0 finished with value: -0.019167 and parameters: {'max_depth': 9, 'min_child_weight': 238, 'subsample': 0.7587945476302645, 'colsample_bynode': 0.6387926357773329, 'learning_rate': 0.0026368755339723046}. Best is trial 0 with value: -0.019167.\n"
     ]
    },
    {
     "name": "stderr",
     "output_type": "stream",
     "text": [
      "[I 2025-05-15 18:15:52,513] Trial 1 finished with value: -0.492684 and parameters: {'max_depth': 5, 'min_child_weight': 15, 'subsample': 0.8795585311974417, 'colsample_bynode': 0.6410035105688879, 'learning_rate': 0.08148293210105287}. Best is trial 1 with value: -0.492684.\n"
     ]
    },
    {
     "name": "stderr",
     "output_type": "stream",
     "text": [
      "[I 2025-05-15 18:15:52,699] Trial 2 finished with value: -0.019167 and parameters: {'max_depth': 3, 'min_child_weight': 243, 'subsample': 0.8491983767203796, 'colsample_bynode': 0.29110519961044856, 'learning_rate': 0.003095566460242371}. Best is trial 1 with value: -0.492684.\n"
     ]
    },
    {
     "name": "stderr",
     "output_type": "stream",
     "text": [
      "[I 2025-05-15 18:15:52,894] Trial 3 finished with value: -0.019167 and parameters: {'max_depth': 6, 'min_child_weight': 77, 'subsample': 0.5722807884690141, 'colsample_bynode': 0.48875051677790415, 'learning_rate': 0.006109683510122491}. Best is trial 1 with value: -0.492684.\n"
     ]
    },
    {
     "name": "stderr",
     "output_type": "stream",
     "text": [
      "[I 2025-05-15 18:15:53,082] Trial 4 finished with value: -0.019167 and parameters: {'max_depth': 14, 'min_child_weight': 35, 'subsample': 0.3629301836816964, 'colsample_bynode': 0.4297256589643226, 'learning_rate': 0.01701841881702917}. Best is trial 1 with value: -0.492684.\n"
     ]
    },
    {
     "name": "stderr",
     "output_type": "stream",
     "text": [
      "[I 2025-05-15 18:15:53,286] Trial 5 finished with value: -0.019167 and parameters: {'max_depth': 17, 'min_child_weight': 50, 'subsample': 0.5628109945722505, 'colsample_bynode': 0.6331731119758383, 'learning_rate': 0.0013346527038305934}. Best is trial 1 with value: -0.492684.\n"
     ]
    },
    {
     "name": "stderr",
     "output_type": "stream",
     "text": [
      "[I 2025-05-15 18:15:53,494] Trial 6 finished with value: -0.019167 and parameters: {'max_depth': 13, 'min_child_weight': 43, 'subsample': 0.1585464336867516, 'colsample_bynode': 0.9539969835279999, 'learning_rate': 0.4038423798071558}. Best is trial 1 with value: -0.492684.\n"
     ]
    },
    {
     "name": "stderr",
     "output_type": "stream",
     "text": [
      "[I 2025-05-15 18:15:53,693] Trial 7 finished with value: -0.019167 and parameters: {'max_depth': 17, 'min_child_weight': 77, 'subsample': 0.1879049026057455, 'colsample_bynode': 0.7158097238609412, 'learning_rate': 0.015415527060141935}. Best is trial 1 with value: -0.492684.\n"
     ]
    },
    {
     "name": "stderr",
     "output_type": "stream",
     "text": [
      "[I 2025-05-15 18:15:53,895] Trial 8 finished with value: -0.019167 and parameters: {'max_depth': 5, 'min_child_weight': 124, 'subsample': 0.13094966900369656, 'colsample_bynode': 0.9183883618709039, 'learning_rate': 0.004993895014755658}. Best is trial 1 with value: -0.492684.\n"
     ]
    },
    {
     "name": "stderr",
     "output_type": "stream",
     "text": [
      "[I 2025-05-15 18:15:54,087] Trial 9 finished with value: -0.019167 and parameters: {'max_depth': 14, 'min_child_weight': 78, 'subsample': 0.5680612190600297, 'colsample_bynode': 0.5920392514089517, 'learning_rate': 0.0031543990308330965}. Best is trial 1 with value: -0.492684.\n"
     ]
    },
    {
     "name": "stderr",
     "output_type": "stream",
     "text": [
      "[I 2025-05-15 18:15:54,533] Trial 10 finished with value: -0.54308 and parameters: {'max_depth': 9, 'min_child_weight': 2, 'subsample': 0.9725833997090791, 'colsample_bynode': 0.11616568805333755, 'learning_rate': 0.17780618353487967}. Best is trial 10 with value: -0.54308.\n"
     ]
    },
    {
     "name": "stderr",
     "output_type": "stream",
     "text": [
      "[I 2025-05-15 18:15:55,109] Trial 11 finished with value: -0.594538 and parameters: {'max_depth': 9, 'min_child_weight': 4, 'subsample': 0.9818290990185045, 'colsample_bynode': 0.17702656156719, 'learning_rate': 0.11568531411766632}. Best is trial 11 with value: -0.594538.\n"
     ]
    },
    {
     "name": "stderr",
     "output_type": "stream",
     "text": [
      "[I 2025-05-15 18:15:55,713] Trial 12 finished with value: -0.558632 and parameters: {'max_depth': 9, 'min_child_weight': 2, 'subsample': 0.9762317723681219, 'colsample_bynode': 0.1303670507685675, 'learning_rate': 0.14353293664472047}. Best is trial 11 with value: -0.594538.\n"
     ]
    },
    {
     "name": "stderr",
     "output_type": "stream",
     "text": [
      "[I 2025-05-15 18:15:55,919] Trial 13 finished with value: -0.019167 and parameters: {'max_depth': 10, 'min_child_weight': 173, 'subsample': 0.9983199992874873, 'colsample_bynode': 0.10704152171942566, 'learning_rate': 0.05919442728092993}. Best is trial 11 with value: -0.594538.\n"
     ]
    },
    {
     "name": "stderr",
     "output_type": "stream",
     "text": [
      "[I 2025-05-15 18:15:56,132] Trial 14 finished with value: -0.019167 and parameters: {'max_depth': 7, 'min_child_weight': 127, 'subsample': 0.7205729667945842, 'colsample_bynode': 0.2618040655423697, 'learning_rate': 0.049429871639666105}. Best is trial 11 with value: -0.594538.\n"
     ]
    },
    {
     "name": "stderr",
     "output_type": "stream",
     "text": [
      "[I 2025-05-15 18:15:56,550] Trial 15 pruned. Trial was pruned at iteration 29.\n"
     ]
    },
    {
     "name": "stderr",
     "output_type": "stream",
     "text": [
      "[I 2025-05-15 18:15:56,774] Trial 16 finished with value: -0.019167 and parameters: {'max_depth': 11, 'min_child_weight': 117, 'subsample': 0.8785451661735078, 'colsample_bynode': 0.3643631000822881, 'learning_rate': 0.15311904677040797}. Best is trial 11 with value: -0.594538.\n"
     ]
    },
    {
     "name": "stderr",
     "output_type": "stream",
     "text": [
      "[I 2025-05-15 18:15:56,978] Trial 17 finished with value: -0.019167 and parameters: {'max_depth': 8, 'min_child_weight': 183, 'subsample': 0.37310167079970213, 'colsample_bynode': 0.17923299126282838, 'learning_rate': 0.1887648905476116}. Best is trial 11 with value: -0.594538.\n"
     ]
    },
    {
     "name": "stderr",
     "output_type": "stream",
     "text": [
      "[I 2025-05-15 18:15:57,199] Trial 18 finished with value: -0.153245 and parameters: {'max_depth': 12, 'min_child_weight': 37, 'subsample': 0.8084316829255552, 'colsample_bynode': 0.20881338811221334, 'learning_rate': 0.028429642789761466}. Best is trial 11 with value: -0.594538.\n"
     ]
    },
    {
     "name": "stderr",
     "output_type": "stream",
     "text": [
      "[I 2025-05-15 18:15:57,397] Trial 19 finished with value: -0.019167 and parameters: {'max_depth': 11, 'min_child_weight': 99, 'subsample': 0.9723428668438461, 'colsample_bynode': 0.3419036565182698, 'learning_rate': 0.12265320134904224}. Best is trial 11 with value: -0.594538.\n"
     ]
    },
    {
     "name": "stderr",
     "output_type": "stream",
     "text": [
      "[I 2025-05-15 18:15:57,622] Trial 20 pruned. Trial was pruned at iteration 21.\n"
     ]
    },
    {
     "name": "stderr",
     "output_type": "stream",
     "text": [
      "[I 2025-05-15 18:15:58,060] Trial 21 pruned. Trial was pruned at iteration 21.\n"
     ]
    },
    {
     "name": "stderr",
     "output_type": "stream",
     "text": [
      "[I 2025-05-15 18:15:58,280] Trial 22 pruned. Trial was pruned at iteration 21.\n"
     ]
    },
    {
     "name": "stderr",
     "output_type": "stream",
     "text": [
      "[I 2025-05-15 18:15:58,520] Trial 23 pruned. Trial was pruned at iteration 21.\n"
     ]
    },
    {
     "name": "stderr",
     "output_type": "stream",
     "text": [
      "[I 2025-05-15 18:15:58,911] Trial 24 pruned. Trial was pruned at iteration 24.\n"
     ]
    },
    {
     "name": "stderr",
     "output_type": "stream",
     "text": [
      "[I 2025-05-15 18:15:59,118] Trial 25 finished with value: -0.019167 and parameters: {'max_depth': 7, 'min_child_weight': 62, 'subsample': 0.41419357059636985, 'colsample_bynode': 0.3533411793683221, 'learning_rate': 0.2935265484485481}. Best is trial 11 with value: -0.594538.\n"
     ]
    },
    {
     "name": "stderr",
     "output_type": "stream",
     "text": [
      "[I 2025-05-15 18:15:59,352] Trial 26 pruned. Trial was pruned at iteration 21.\n"
     ]
    },
    {
     "name": "stderr",
     "output_type": "stream",
     "text": [
      "[I 2025-05-15 18:15:59,551] Trial 27 finished with value: -0.019167 and parameters: {'max_depth': 5, 'min_child_weight': 144, 'subsample': 0.9216526203861075, 'colsample_bynode': 0.18760597264693385, 'learning_rate': 0.039839395194545865}. Best is trial 11 with value: -0.594538.\n"
     ]
    },
    {
     "name": "stderr",
     "output_type": "stream",
     "text": [
      "[I 2025-05-15 18:15:59,767] Trial 28 finished with value: -0.019167 and parameters: {'max_depth': 8, 'min_child_weight': 97, 'subsample': 0.9966028459647209, 'colsample_bynode': 0.29264193584122156, 'learning_rate': 0.010626708364920924}. Best is trial 11 with value: -0.594538.\n"
     ]
    },
    {
     "name": "stderr",
     "output_type": "stream",
     "text": [
      "[I 2025-05-15 18:15:59,978] Trial 29 finished with value: -0.019167 and parameters: {'max_depth': 10, 'min_child_weight': 217, 'subsample': 0.7797109075276074, 'colsample_bynode': 0.41232146842405126, 'learning_rate': 0.09517919198560379}. Best is trial 11 with value: -0.594538.\n"
     ]
    },
    {
     "name": "stderr",
     "output_type": "stream",
     "text": [
      "[I 2025-05-15 18:16:00,182] Trial 30 finished with value: -0.019167 and parameters: {'max_depth': 15, 'min_child_weight': 63, 'subsample': 0.48408877480742074, 'colsample_bynode': 0.15289590049633228, 'learning_rate': 0.027140510012803577}. Best is trial 11 with value: -0.594538.\n"
     ]
    },
    {
     "name": "stderr",
     "output_type": "stream",
     "text": [
      "[I 2025-05-15 18:16:00,474] Trial 31 pruned. Trial was pruned at iteration 21.\n"
     ]
    },
    {
     "name": "stderr",
     "output_type": "stream",
     "text": [
      "[I 2025-05-15 18:16:00,759] Trial 32 pruned. Trial was pruned at iteration 21.\n"
     ]
    },
    {
     "name": "stderr",
     "output_type": "stream",
     "text": [
      "[I 2025-05-15 18:16:00,991] Trial 33 pruned. Trial was pruned at iteration 21.\n"
     ]
    },
    {
     "name": "stderr",
     "output_type": "stream",
     "text": [
      "[I 2025-05-15 18:16:01,221] Trial 34 pruned. Trial was pruned at iteration 21.\n"
     ]
    },
    {
     "name": "stderr",
     "output_type": "stream",
     "text": [
      "[I 2025-05-15 18:16:01,498] Trial 35 pruned. Trial was pruned at iteration 21.\n"
     ]
    },
    {
     "name": "stderr",
     "output_type": "stream",
     "text": [
      "[I 2025-05-15 18:16:01,709] Trial 36 finished with value: -0.019167 and parameters: {'max_depth': 6, 'min_child_weight': 46, 'subsample': 0.2547641867017203, 'colsample_bynode': 0.31392158723409286, 'learning_rate': 0.30337637008954804}. Best is trial 11 with value: -0.594538.\n"
     ]
    },
    {
     "name": "stderr",
     "output_type": "stream",
     "text": [
      "[I 2025-05-15 18:16:02,119] Trial 37 pruned. Trial was pruned at iteration 25.\n"
     ]
    },
    {
     "name": "stderr",
     "output_type": "stream",
     "text": [
      "[I 2025-05-15 18:16:02,317] Trial 38 finished with value: -0.153245 and parameters: {'max_depth': 3, 'min_child_weight': 47, 'subsample': 0.8051154884577554, 'colsample_bynode': 0.14740578730612292, 'learning_rate': 0.10916431220499631}. Best is trial 11 with value: -0.594538.\n"
     ]
    },
    {
     "name": "stderr",
     "output_type": "stream",
     "text": [
      "[I 2025-05-15 18:16:02,527] Trial 39 finished with value: -0.019167 and parameters: {'max_depth': 13, 'min_child_weight': 75, 'subsample': 0.9491900391829308, 'colsample_bynode': 0.6786637089558478, 'learning_rate': 0.06032937665469522}. Best is trial 11 with value: -0.594538.\n"
     ]
    },
    {
     "name": "stderr",
     "output_type": "stream",
     "text": [
      "[I 2025-05-15 18:16:02,753] Trial 40 pruned. Trial was pruned at iteration 21.\n"
     ]
    },
    {
     "name": "stderr",
     "output_type": "stream",
     "text": [
      "[I 2025-05-15 18:16:02,963] Trial 41 finished with value: -0.153245 and parameters: {'max_depth': 12, 'min_child_weight': 38, 'subsample': 0.8123889581843633, 'colsample_bynode': 0.2128887451467121, 'learning_rate': 0.026671972033155213}. Best is trial 11 with value: -0.594538.\n"
     ]
    },
    {
     "name": "stderr",
     "output_type": "stream",
     "text": [
      "[I 2025-05-15 18:16:03,221] Trial 42 pruned. Trial was pruned at iteration 21.\n"
     ]
    },
    {
     "name": "stderr",
     "output_type": "stream",
     "text": [
      "[I 2025-05-15 18:16:03,515] Trial 43 pruned. Trial was pruned at iteration 21.\n"
     ]
    },
    {
     "name": "stderr",
     "output_type": "stream",
     "text": [
      "[I 2025-05-15 18:16:03,732] Trial 44 pruned. Trial was pruned at iteration 21.\n"
     ]
    },
    {
     "name": "stderr",
     "output_type": "stream",
     "text": [
      "[I 2025-05-15 18:16:03,916] Trial 45 finished with value: -0.153245 and parameters: {'max_depth': 9, 'min_child_weight': 27, 'subsample': 0.7011865974452429, 'colsample_bynode': 0.20949023361165453, 'learning_rate': 0.0019052765514747637}. Best is trial 11 with value: -0.594538.\n"
     ]
    },
    {
     "name": "stderr",
     "output_type": "stream",
     "text": [
      "[I 2025-05-15 18:16:04,166] Trial 46 pruned. Trial was pruned at iteration 21.\n"
     ]
    },
    {
     "name": "stderr",
     "output_type": "stream",
     "text": [
      "[I 2025-05-15 18:16:04,399] Trial 47 finished with value: -0.153245 and parameters: {'max_depth': 17, 'min_child_weight': 53, 'subsample': 0.9663697534003696, 'colsample_bynode': 0.49707569416042485, 'learning_rate': 0.020463945966838898}. Best is trial 11 with value: -0.594538.\n"
     ]
    },
    {
     "name": "stderr",
     "output_type": "stream",
     "text": [
      "[I 2025-05-15 18:16:04,624] Trial 48 finished with value: -0.019167 and parameters: {'max_depth': 8, 'min_child_weight': 70, 'subsample': 0.8419065673088526, 'colsample_bynode': 0.31360147306338465, 'learning_rate': 0.01178955141036375}. Best is trial 11 with value: -0.594538.\n"
     ]
    },
    {
     "name": "stderr",
     "output_type": "stream",
     "text": [
      "[I 2025-05-15 18:16:05,204] Trial 49 pruned. Trial was pruned at iteration 21.\n"
     ]
    }
   ],
   "source": [
    "sampler = optuna.samplers.TPESampler(seed=42)\n",
    "study = optuna.create_study(direction='minimize', sampler=sampler)\n",
    "study.optimize(objective, n_trials=N_TRIALS, gc_after_trial=True)"
   ]
  },
  {
   "cell_type": "code",
   "execution_count": 20,
   "id": "15c6b955",
   "metadata": {
    "execution": {
     "iopub.execute_input": "2025-05-15T16:16:05.372028Z",
     "iopub.status.busy": "2025-05-15T16:16:05.371662Z",
     "iopub.status.idle": "2025-05-15T16:16:05.397796Z",
     "shell.execute_reply": "2025-05-15T16:16:05.397338Z"
    },
    "papermill": {
     "duration": 0.036788,
     "end_time": "2025-05-15T16:16:05.398718",
     "exception": false,
     "start_time": "2025-05-15T16:16:05.361930",
     "status": "completed"
    },
    "tags": []
   },
   "outputs": [
    {
     "data": {
      "text/plain": [
       "['/scratch_isilon/groups/singlecell/shared/projects/Inflammation-PBMCs-Atlas/03_downstream_analysis/08_gene_importance/xgboost_external_validation/xgboost_TopN_genes/results_20/study/Plasma_18_0_xgboost.pkl']"
      ]
     },
     "execution_count": 20,
     "metadata": {},
     "output_type": "execute_result"
    }
   ],
   "source": [
    "out_dir = here(f'03_downstream_analysis/08_gene_importance/xgboost_external_validation/xgboost_TopN_genes/results_{N_GENES}/study')\n",
    "\n",
    "if not os.path.exists(out_dir):\n",
    "    os.makedirs(out_dir)\n",
    "    \n",
    "joblib.dump(study,os.path.join(out_dir, f'{CELL_TYPE}_{SEED}_{TEST_SPLIT_IDX}_xgboost.pkl'))"
   ]
  },
  {
   "cell_type": "code",
   "execution_count": 21,
   "id": "950a13af",
   "metadata": {
    "execution": {
     "iopub.execute_input": "2025-05-15T16:16:05.416999Z",
     "iopub.status.busy": "2025-05-15T16:16:05.416764Z",
     "iopub.status.idle": "2025-05-15T16:16:05.781593Z",
     "shell.execute_reply": "2025-05-15T16:16:05.781125Z"
    },
    "papermill": {
     "duration": 0.374781,
     "end_time": "2025-05-15T16:16:05.782579",
     "exception": false,
     "start_time": "2025-05-15T16:16:05.407798",
     "status": "completed"
    },
    "tags": []
   },
   "outputs": [
    {
     "data": {
      "text/html": [
       "<style>#sk-container-id-1 {\n",
       "  /* Definition of color scheme common for light and dark mode */\n",
       "  --sklearn-color-text: black;\n",
       "  --sklearn-color-line: gray;\n",
       "  /* Definition of color scheme for unfitted estimators */\n",
       "  --sklearn-color-unfitted-level-0: #fff5e6;\n",
       "  --sklearn-color-unfitted-level-1: #f6e4d2;\n",
       "  --sklearn-color-unfitted-level-2: #ffe0b3;\n",
       "  --sklearn-color-unfitted-level-3: chocolate;\n",
       "  /* Definition of color scheme for fitted estimators */\n",
       "  --sklearn-color-fitted-level-0: #f0f8ff;\n",
       "  --sklearn-color-fitted-level-1: #d4ebff;\n",
       "  --sklearn-color-fitted-level-2: #b3dbfd;\n",
       "  --sklearn-color-fitted-level-3: cornflowerblue;\n",
       "\n",
       "  /* Specific color for light theme */\n",
       "  --sklearn-color-text-on-default-background: var(--sg-text-color, var(--theme-code-foreground, var(--jp-content-font-color1, black)));\n",
       "  --sklearn-color-background: var(--sg-background-color, var(--theme-background, var(--jp-layout-color0, white)));\n",
       "  --sklearn-color-border-box: var(--sg-text-color, var(--theme-code-foreground, var(--jp-content-font-color1, black)));\n",
       "  --sklearn-color-icon: #696969;\n",
       "\n",
       "  @media (prefers-color-scheme: dark) {\n",
       "    /* Redefinition of color scheme for dark theme */\n",
       "    --sklearn-color-text-on-default-background: var(--sg-text-color, var(--theme-code-foreground, var(--jp-content-font-color1, white)));\n",
       "    --sklearn-color-background: var(--sg-background-color, var(--theme-background, var(--jp-layout-color0, #111)));\n",
       "    --sklearn-color-border-box: var(--sg-text-color, var(--theme-code-foreground, var(--jp-content-font-color1, white)));\n",
       "    --sklearn-color-icon: #878787;\n",
       "  }\n",
       "}\n",
       "\n",
       "#sk-container-id-1 {\n",
       "  color: var(--sklearn-color-text);\n",
       "}\n",
       "\n",
       "#sk-container-id-1 pre {\n",
       "  padding: 0;\n",
       "}\n",
       "\n",
       "#sk-container-id-1 input.sk-hidden--visually {\n",
       "  border: 0;\n",
       "  clip: rect(1px 1px 1px 1px);\n",
       "  clip: rect(1px, 1px, 1px, 1px);\n",
       "  height: 1px;\n",
       "  margin: -1px;\n",
       "  overflow: hidden;\n",
       "  padding: 0;\n",
       "  position: absolute;\n",
       "  width: 1px;\n",
       "}\n",
       "\n",
       "#sk-container-id-1 div.sk-dashed-wrapped {\n",
       "  border: 1px dashed var(--sklearn-color-line);\n",
       "  margin: 0 0.4em 0.5em 0.4em;\n",
       "  box-sizing: border-box;\n",
       "  padding-bottom: 0.4em;\n",
       "  background-color: var(--sklearn-color-background);\n",
       "}\n",
       "\n",
       "#sk-container-id-1 div.sk-container {\n",
       "  /* jupyter's `normalize.less` sets `[hidden] { display: none; }`\n",
       "     but bootstrap.min.css set `[hidden] { display: none !important; }`\n",
       "     so we also need the `!important` here to be able to override the\n",
       "     default hidden behavior on the sphinx rendered scikit-learn.org.\n",
       "     See: https://github.com/scikit-learn/scikit-learn/issues/21755 */\n",
       "  display: inline-block !important;\n",
       "  position: relative;\n",
       "}\n",
       "\n",
       "#sk-container-id-1 div.sk-text-repr-fallback {\n",
       "  display: none;\n",
       "}\n",
       "\n",
       "div.sk-parallel-item,\n",
       "div.sk-serial,\n",
       "div.sk-item {\n",
       "  /* draw centered vertical line to link estimators */\n",
       "  background-image: linear-gradient(var(--sklearn-color-text-on-default-background), var(--sklearn-color-text-on-default-background));\n",
       "  background-size: 2px 100%;\n",
       "  background-repeat: no-repeat;\n",
       "  background-position: center center;\n",
       "}\n",
       "\n",
       "/* Parallel-specific style estimator block */\n",
       "\n",
       "#sk-container-id-1 div.sk-parallel-item::after {\n",
       "  content: \"\";\n",
       "  width: 100%;\n",
       "  border-bottom: 2px solid var(--sklearn-color-text-on-default-background);\n",
       "  flex-grow: 1;\n",
       "}\n",
       "\n",
       "#sk-container-id-1 div.sk-parallel {\n",
       "  display: flex;\n",
       "  align-items: stretch;\n",
       "  justify-content: center;\n",
       "  background-color: var(--sklearn-color-background);\n",
       "  position: relative;\n",
       "}\n",
       "\n",
       "#sk-container-id-1 div.sk-parallel-item {\n",
       "  display: flex;\n",
       "  flex-direction: column;\n",
       "}\n",
       "\n",
       "#sk-container-id-1 div.sk-parallel-item:first-child::after {\n",
       "  align-self: flex-end;\n",
       "  width: 50%;\n",
       "}\n",
       "\n",
       "#sk-container-id-1 div.sk-parallel-item:last-child::after {\n",
       "  align-self: flex-start;\n",
       "  width: 50%;\n",
       "}\n",
       "\n",
       "#sk-container-id-1 div.sk-parallel-item:only-child::after {\n",
       "  width: 0;\n",
       "}\n",
       "\n",
       "/* Serial-specific style estimator block */\n",
       "\n",
       "#sk-container-id-1 div.sk-serial {\n",
       "  display: flex;\n",
       "  flex-direction: column;\n",
       "  align-items: center;\n",
       "  background-color: var(--sklearn-color-background);\n",
       "  padding-right: 1em;\n",
       "  padding-left: 1em;\n",
       "}\n",
       "\n",
       "\n",
       "/* Toggleable style: style used for estimator/Pipeline/ColumnTransformer box that is\n",
       "clickable and can be expanded/collapsed.\n",
       "- Pipeline and ColumnTransformer use this feature and define the default style\n",
       "- Estimators will overwrite some part of the style using the `sk-estimator` class\n",
       "*/\n",
       "\n",
       "/* Pipeline and ColumnTransformer style (default) */\n",
       "\n",
       "#sk-container-id-1 div.sk-toggleable {\n",
       "  /* Default theme specific background. It is overwritten whether we have a\n",
       "  specific estimator or a Pipeline/ColumnTransformer */\n",
       "  background-color: var(--sklearn-color-background);\n",
       "}\n",
       "\n",
       "/* Toggleable label */\n",
       "#sk-container-id-1 label.sk-toggleable__label {\n",
       "  cursor: pointer;\n",
       "  display: block;\n",
       "  width: 100%;\n",
       "  margin-bottom: 0;\n",
       "  padding: 0.5em;\n",
       "  box-sizing: border-box;\n",
       "  text-align: center;\n",
       "}\n",
       "\n",
       "#sk-container-id-1 label.sk-toggleable__label-arrow:before {\n",
       "  /* Arrow on the left of the label */\n",
       "  content: \"▸\";\n",
       "  float: left;\n",
       "  margin-right: 0.25em;\n",
       "  color: var(--sklearn-color-icon);\n",
       "}\n",
       "\n",
       "#sk-container-id-1 label.sk-toggleable__label-arrow:hover:before {\n",
       "  color: var(--sklearn-color-text);\n",
       "}\n",
       "\n",
       "/* Toggleable content - dropdown */\n",
       "\n",
       "#sk-container-id-1 div.sk-toggleable__content {\n",
       "  max-height: 0;\n",
       "  max-width: 0;\n",
       "  overflow: hidden;\n",
       "  text-align: left;\n",
       "  /* unfitted */\n",
       "  background-color: var(--sklearn-color-unfitted-level-0);\n",
       "}\n",
       "\n",
       "#sk-container-id-1 div.sk-toggleable__content.fitted {\n",
       "  /* fitted */\n",
       "  background-color: var(--sklearn-color-fitted-level-0);\n",
       "}\n",
       "\n",
       "#sk-container-id-1 div.sk-toggleable__content pre {\n",
       "  margin: 0.2em;\n",
       "  border-radius: 0.25em;\n",
       "  color: var(--sklearn-color-text);\n",
       "  /* unfitted */\n",
       "  background-color: var(--sklearn-color-unfitted-level-0);\n",
       "}\n",
       "\n",
       "#sk-container-id-1 div.sk-toggleable__content.fitted pre {\n",
       "  /* unfitted */\n",
       "  background-color: var(--sklearn-color-fitted-level-0);\n",
       "}\n",
       "\n",
       "#sk-container-id-1 input.sk-toggleable__control:checked~div.sk-toggleable__content {\n",
       "  /* Expand drop-down */\n",
       "  max-height: 200px;\n",
       "  max-width: 100%;\n",
       "  overflow: auto;\n",
       "}\n",
       "\n",
       "#sk-container-id-1 input.sk-toggleable__control:checked~label.sk-toggleable__label-arrow:before {\n",
       "  content: \"▾\";\n",
       "}\n",
       "\n",
       "/* Pipeline/ColumnTransformer-specific style */\n",
       "\n",
       "#sk-container-id-1 div.sk-label input.sk-toggleable__control:checked~label.sk-toggleable__label {\n",
       "  color: var(--sklearn-color-text);\n",
       "  background-color: var(--sklearn-color-unfitted-level-2);\n",
       "}\n",
       "\n",
       "#sk-container-id-1 div.sk-label.fitted input.sk-toggleable__control:checked~label.sk-toggleable__label {\n",
       "  background-color: var(--sklearn-color-fitted-level-2);\n",
       "}\n",
       "\n",
       "/* Estimator-specific style */\n",
       "\n",
       "/* Colorize estimator box */\n",
       "#sk-container-id-1 div.sk-estimator input.sk-toggleable__control:checked~label.sk-toggleable__label {\n",
       "  /* unfitted */\n",
       "  background-color: var(--sklearn-color-unfitted-level-2);\n",
       "}\n",
       "\n",
       "#sk-container-id-1 div.sk-estimator.fitted input.sk-toggleable__control:checked~label.sk-toggleable__label {\n",
       "  /* fitted */\n",
       "  background-color: var(--sklearn-color-fitted-level-2);\n",
       "}\n",
       "\n",
       "#sk-container-id-1 div.sk-label label.sk-toggleable__label,\n",
       "#sk-container-id-1 div.sk-label label {\n",
       "  /* The background is the default theme color */\n",
       "  color: var(--sklearn-color-text-on-default-background);\n",
       "}\n",
       "\n",
       "/* On hover, darken the color of the background */\n",
       "#sk-container-id-1 div.sk-label:hover label.sk-toggleable__label {\n",
       "  color: var(--sklearn-color-text);\n",
       "  background-color: var(--sklearn-color-unfitted-level-2);\n",
       "}\n",
       "\n",
       "/* Label box, darken color on hover, fitted */\n",
       "#sk-container-id-1 div.sk-label.fitted:hover label.sk-toggleable__label.fitted {\n",
       "  color: var(--sklearn-color-text);\n",
       "  background-color: var(--sklearn-color-fitted-level-2);\n",
       "}\n",
       "\n",
       "/* Estimator label */\n",
       "\n",
       "#sk-container-id-1 div.sk-label label {\n",
       "  font-family: monospace;\n",
       "  font-weight: bold;\n",
       "  display: inline-block;\n",
       "  line-height: 1.2em;\n",
       "}\n",
       "\n",
       "#sk-container-id-1 div.sk-label-container {\n",
       "  text-align: center;\n",
       "}\n",
       "\n",
       "/* Estimator-specific */\n",
       "#sk-container-id-1 div.sk-estimator {\n",
       "  font-family: monospace;\n",
       "  border: 1px dotted var(--sklearn-color-border-box);\n",
       "  border-radius: 0.25em;\n",
       "  box-sizing: border-box;\n",
       "  margin-bottom: 0.5em;\n",
       "  /* unfitted */\n",
       "  background-color: var(--sklearn-color-unfitted-level-0);\n",
       "}\n",
       "\n",
       "#sk-container-id-1 div.sk-estimator.fitted {\n",
       "  /* fitted */\n",
       "  background-color: var(--sklearn-color-fitted-level-0);\n",
       "}\n",
       "\n",
       "/* on hover */\n",
       "#sk-container-id-1 div.sk-estimator:hover {\n",
       "  /* unfitted */\n",
       "  background-color: var(--sklearn-color-unfitted-level-2);\n",
       "}\n",
       "\n",
       "#sk-container-id-1 div.sk-estimator.fitted:hover {\n",
       "  /* fitted */\n",
       "  background-color: var(--sklearn-color-fitted-level-2);\n",
       "}\n",
       "\n",
       "/* Specification for estimator info (e.g. \"i\" and \"?\") */\n",
       "\n",
       "/* Common style for \"i\" and \"?\" */\n",
       "\n",
       ".sk-estimator-doc-link,\n",
       "a:link.sk-estimator-doc-link,\n",
       "a:visited.sk-estimator-doc-link {\n",
       "  float: right;\n",
       "  font-size: smaller;\n",
       "  line-height: 1em;\n",
       "  font-family: monospace;\n",
       "  background-color: var(--sklearn-color-background);\n",
       "  border-radius: 1em;\n",
       "  height: 1em;\n",
       "  width: 1em;\n",
       "  text-decoration: none !important;\n",
       "  margin-left: 1ex;\n",
       "  /* unfitted */\n",
       "  border: var(--sklearn-color-unfitted-level-1) 1pt solid;\n",
       "  color: var(--sklearn-color-unfitted-level-1);\n",
       "}\n",
       "\n",
       ".sk-estimator-doc-link.fitted,\n",
       "a:link.sk-estimator-doc-link.fitted,\n",
       "a:visited.sk-estimator-doc-link.fitted {\n",
       "  /* fitted */\n",
       "  border: var(--sklearn-color-fitted-level-1) 1pt solid;\n",
       "  color: var(--sklearn-color-fitted-level-1);\n",
       "}\n",
       "\n",
       "/* On hover */\n",
       "div.sk-estimator:hover .sk-estimator-doc-link:hover,\n",
       ".sk-estimator-doc-link:hover,\n",
       "div.sk-label-container:hover .sk-estimator-doc-link:hover,\n",
       ".sk-estimator-doc-link:hover {\n",
       "  /* unfitted */\n",
       "  background-color: var(--sklearn-color-unfitted-level-3);\n",
       "  color: var(--sklearn-color-background);\n",
       "  text-decoration: none;\n",
       "}\n",
       "\n",
       "div.sk-estimator.fitted:hover .sk-estimator-doc-link.fitted:hover,\n",
       ".sk-estimator-doc-link.fitted:hover,\n",
       "div.sk-label-container:hover .sk-estimator-doc-link.fitted:hover,\n",
       ".sk-estimator-doc-link.fitted:hover {\n",
       "  /* fitted */\n",
       "  background-color: var(--sklearn-color-fitted-level-3);\n",
       "  color: var(--sklearn-color-background);\n",
       "  text-decoration: none;\n",
       "}\n",
       "\n",
       "/* Span, style for the box shown on hovering the info icon */\n",
       ".sk-estimator-doc-link span {\n",
       "  display: none;\n",
       "  z-index: 9999;\n",
       "  position: relative;\n",
       "  font-weight: normal;\n",
       "  right: .2ex;\n",
       "  padding: .5ex;\n",
       "  margin: .5ex;\n",
       "  width: min-content;\n",
       "  min-width: 20ex;\n",
       "  max-width: 50ex;\n",
       "  color: var(--sklearn-color-text);\n",
       "  box-shadow: 2pt 2pt 4pt #999;\n",
       "  /* unfitted */\n",
       "  background: var(--sklearn-color-unfitted-level-0);\n",
       "  border: .5pt solid var(--sklearn-color-unfitted-level-3);\n",
       "}\n",
       "\n",
       ".sk-estimator-doc-link.fitted span {\n",
       "  /* fitted */\n",
       "  background: var(--sklearn-color-fitted-level-0);\n",
       "  border: var(--sklearn-color-fitted-level-3);\n",
       "}\n",
       "\n",
       ".sk-estimator-doc-link:hover span {\n",
       "  display: block;\n",
       "}\n",
       "\n",
       "/* \"?\"-specific style due to the `<a>` HTML tag */\n",
       "\n",
       "#sk-container-id-1 a.estimator_doc_link {\n",
       "  float: right;\n",
       "  font-size: 1rem;\n",
       "  line-height: 1em;\n",
       "  font-family: monospace;\n",
       "  background-color: var(--sklearn-color-background);\n",
       "  border-radius: 1rem;\n",
       "  height: 1rem;\n",
       "  width: 1rem;\n",
       "  text-decoration: none;\n",
       "  /* unfitted */\n",
       "  color: var(--sklearn-color-unfitted-level-1);\n",
       "  border: var(--sklearn-color-unfitted-level-1) 1pt solid;\n",
       "}\n",
       "\n",
       "#sk-container-id-1 a.estimator_doc_link.fitted {\n",
       "  /* fitted */\n",
       "  border: var(--sklearn-color-fitted-level-1) 1pt solid;\n",
       "  color: var(--sklearn-color-fitted-level-1);\n",
       "}\n",
       "\n",
       "/* On hover */\n",
       "#sk-container-id-1 a.estimator_doc_link:hover {\n",
       "  /* unfitted */\n",
       "  background-color: var(--sklearn-color-unfitted-level-3);\n",
       "  color: var(--sklearn-color-background);\n",
       "  text-decoration: none;\n",
       "}\n",
       "\n",
       "#sk-container-id-1 a.estimator_doc_link.fitted:hover {\n",
       "  /* fitted */\n",
       "  background-color: var(--sklearn-color-fitted-level-3);\n",
       "}\n",
       "</style><div id=\"sk-container-id-1\" class=\"sk-top-container\"><div class=\"sk-text-repr-fallback\"><pre>XGBClassifier(base_score=None, booster=None, callbacks=None,\n",
       "              colsample_bylevel=None, colsample_bynode=0.17702656156719,\n",
       "              colsample_bytree=None, device=None, early_stopping_rounds=None,\n",
       "              enable_categorical=False,\n",
       "              eval_metric=&lt;function custom_f1_score at 0x7ff77c7d0540&gt;,\n",
       "              feature_types=None, gamma=None, grow_policy=None,\n",
       "              importance_type=None, interaction_constraints=None,\n",
       "              learning_rate=0.11568531411766632, max_bin=None,\n",
       "              max_cat_threshold=None, max_cat_to_onehot=None,\n",
       "              max_delta_step=None, max_depth=9, max_leaves=None,\n",
       "              min_child_weight=4, missing=nan, monotone_constraints=None,\n",
       "              multi_strategy=None, n_estimators=36, n_jobs=None,\n",
       "              num_parallel_tree=None, objective=&#x27;multi:softprob&#x27;, ...)</pre><b>In a Jupyter environment, please rerun this cell to show the HTML representation or trust the notebook. <br />On GitHub, the HTML representation is unable to render, please try loading this page with nbviewer.org.</b></div><div class=\"sk-container\" hidden><div class=\"sk-item\"><div class=\"sk-estimator fitted sk-toggleable\"><input class=\"sk-toggleable__control sk-hidden--visually\" id=\"sk-estimator-id-1\" type=\"checkbox\" checked><label for=\"sk-estimator-id-1\" class=\"sk-toggleable__label fitted sk-toggleable__label-arrow fitted\">&nbsp;XGBClassifier<span class=\"sk-estimator-doc-link fitted\">i<span>Fitted</span></span></label><div class=\"sk-toggleable__content fitted\"><pre>XGBClassifier(base_score=None, booster=None, callbacks=None,\n",
       "              colsample_bylevel=None, colsample_bynode=0.17702656156719,\n",
       "              colsample_bytree=None, device=None, early_stopping_rounds=None,\n",
       "              enable_categorical=False,\n",
       "              eval_metric=&lt;function custom_f1_score at 0x7ff77c7d0540&gt;,\n",
       "              feature_types=None, gamma=None, grow_policy=None,\n",
       "              importance_type=None, interaction_constraints=None,\n",
       "              learning_rate=0.11568531411766632, max_bin=None,\n",
       "              max_cat_threshold=None, max_cat_to_onehot=None,\n",
       "              max_delta_step=None, max_depth=9, max_leaves=None,\n",
       "              min_child_weight=4, missing=nan, monotone_constraints=None,\n",
       "              multi_strategy=None, n_estimators=36, n_jobs=None,\n",
       "              num_parallel_tree=None, objective=&#x27;multi:softprob&#x27;, ...)</pre></div> </div></div></div></div>"
      ],
      "text/plain": [
       "XGBClassifier(base_score=None, booster=None, callbacks=None,\n",
       "              colsample_bylevel=None, colsample_bynode=0.17702656156719,\n",
       "              colsample_bytree=None, device=None, early_stopping_rounds=None,\n",
       "              enable_categorical=False,\n",
       "              eval_metric=<function custom_f1_score at 0x7ff77c7d0540>,\n",
       "              feature_types=None, gamma=None, grow_policy=None,\n",
       "              importance_type=None, interaction_constraints=None,\n",
       "              learning_rate=0.11568531411766632, max_bin=None,\n",
       "              max_cat_threshold=None, max_cat_to_onehot=None,\n",
       "              max_delta_step=None, max_depth=9, max_leaves=None,\n",
       "              min_child_weight=4, missing=nan, monotone_constraints=None,\n",
       "              multi_strategy=None, n_estimators=36, n_jobs=None,\n",
       "              num_parallel_tree=None, objective='multi:softprob', ...)"
      ]
     },
     "execution_count": 21,
     "metadata": {},
     "output_type": "execute_result"
    }
   ],
   "source": [
    "n_estimators = int(study.best_trial.user_attrs['best_iteration']*1.2)\n",
    "xgb = xgboost.XGBClassifier(\n",
    "        eval_metric=eval_metric,\n",
    "        n_estimators=n_estimators,\n",
    "        **study.best_trial.params\n",
    "    )\n",
    "xgb.fit(\n",
    "    ssp.vstack((X_train, X_val)), \n",
    "    np.concatenate((y_train_enc, y_val_enc)),\n",
    "    verbose=1,\n",
    ")"
   ]
  },
  {
   "cell_type": "code",
   "execution_count": 22,
   "id": "3438f28c",
   "metadata": {
    "execution": {
     "iopub.execute_input": "2025-05-15T16:16:05.802745Z",
     "iopub.status.busy": "2025-05-15T16:16:05.802294Z",
     "iopub.status.idle": "2025-05-15T16:16:05.847499Z",
     "shell.execute_reply": "2025-05-15T16:16:05.846860Z"
    },
    "papermill": {
     "duration": 0.055869,
     "end_time": "2025-05-15T16:16:05.848417",
     "exception": false,
     "start_time": "2025-05-15T16:16:05.792548",
     "status": "completed"
    },
    "tags": []
   },
   "outputs": [
    {
     "data": {
      "text/plain": [
       "['/scratch_isilon/groups/singlecell/shared/projects/Inflammation-PBMCs-Atlas/03_downstream_analysis/08_gene_importance/xgboost_external_validation/xgboost_TopN_genes/results_20/best_model/Plasma_18_0_xgb.json']"
      ]
     },
     "execution_count": 22,
     "metadata": {},
     "output_type": "execute_result"
    }
   ],
   "source": [
    "out_dir = here(f'03_downstream_analysis/08_gene_importance/xgboost_external_validation/xgboost_TopN_genes/results_{N_GENES}/best_model')\n",
    "\n",
    "if not os.path.exists(out_dir):\n",
    "    os.makedirs(out_dir)\n",
    "    \n",
    "joblib.dump(xgb, os.path.join(out_dir, f'{CELL_TYPE}_{SEED}_{TEST_SPLIT_IDX}_xgb.json'))"
   ]
  },
  {
   "cell_type": "code",
   "execution_count": 23,
   "id": "a5b38d91",
   "metadata": {
    "execution": {
     "iopub.execute_input": "2025-05-15T16:16:05.886644Z",
     "iopub.status.busy": "2025-05-15T16:16:05.886042Z",
     "iopub.status.idle": "2025-05-15T16:16:05.893433Z",
     "shell.execute_reply": "2025-05-15T16:16:05.892827Z"
    },
    "papermill": {
     "duration": 0.02141,
     "end_time": "2025-05-15T16:16:05.897007",
     "exception": false,
     "start_time": "2025-05-15T16:16:05.875597",
     "status": "completed"
    },
    "tags": []
   },
   "outputs": [],
   "source": [
    "df_pred_test = pd.DataFrame(dict(\n",
    "    cell_id=train_adata.obs.iloc[test_idxs].index.values,\n",
    "    y_true=y_test, \n",
    "    y_true_code=y_test_enc, \n",
    "    y_pred=xgb.predict(X_test))).set_index('cell_id')"
   ]
  },
  {
   "cell_type": "code",
   "execution_count": 24,
   "id": "cc038178",
   "metadata": {
    "execution": {
     "iopub.execute_input": "2025-05-15T16:16:05.921026Z",
     "iopub.status.busy": "2025-05-15T16:16:05.919743Z",
     "iopub.status.idle": "2025-05-15T16:16:05.939582Z",
     "shell.execute_reply": "2025-05-15T16:16:05.939038Z"
    },
    "papermill": {
     "duration": 0.034643,
     "end_time": "2025-05-15T16:16:05.940739",
     "exception": false,
     "start_time": "2025-05-15T16:16:05.906096",
     "status": "completed"
    },
    "tags": []
   },
   "outputs": [],
   "source": [
    "out_dir = here(f'03_downstream_analysis/08_gene_importance/xgboost_external_validation/xgboost_TopN_genes/results_{N_GENES}/predictions')\n",
    "\n",
    "if not os.path.exists(out_dir):\n",
    "    os.makedirs(out_dir)\n",
    "    \n",
    "df_pred_test.to_csv(os.path.join(out_dir, f'{CELL_TYPE}_{SEED}_{TEST_SPLIT_IDX}_pred_test.zip'))"
   ]
  },
  {
   "cell_type": "code",
   "execution_count": 25,
   "id": "3ea19b10",
   "metadata": {
    "execution": {
     "iopub.execute_input": "2025-05-15T16:16:05.979240Z",
     "iopub.status.busy": "2025-05-15T16:16:05.978682Z",
     "iopub.status.idle": "2025-05-15T16:16:05.989367Z",
     "shell.execute_reply": "2025-05-15T16:16:05.988782Z"
    },
    "papermill": {
     "duration": 0.021749,
     "end_time": "2025-05-15T16:16:05.990236",
     "exception": false,
     "start_time": "2025-05-15T16:16:05.968487",
     "status": "completed"
    },
    "tags": []
   },
   "outputs": [
    {
     "name": "stderr",
     "output_type": "stream",
     "text": [
      "/scratch_isilon/groups/singlecell/shared/conda_env/xgboost-cpu/lib/python3.12/site-packages/sklearn/metrics/_classification.py:2466: UserWarning: y_pred contains classes not in y_true\n",
      "  warnings.warn(\"y_pred contains classes not in y_true\")\n"
     ]
    }
   ],
   "source": [
    "metrics_dict = dict(\n",
    "    BAS=balanced_accuracy_score(y_true=df_pred_test.y_true_code, y_pred=df_pred_test.y_pred), WF1=f1_score(y_true=df_pred_test.y_true_code, y_pred=df_pred_test.y_pred,average='weighted'))"
   ]
  },
  {
   "cell_type": "code",
   "execution_count": 26,
   "id": "55d080e1",
   "metadata": {
    "execution": {
     "iopub.execute_input": "2025-05-15T16:16:06.064832Z",
     "iopub.status.busy": "2025-05-15T16:16:06.064146Z",
     "iopub.status.idle": "2025-05-15T16:16:06.069041Z",
     "shell.execute_reply": "2025-05-15T16:16:06.068545Z"
    },
    "papermill": {
     "duration": 0.052903,
     "end_time": "2025-05-15T16:16:06.069958",
     "exception": false,
     "start_time": "2025-05-15T16:16:06.017055",
     "status": "completed"
    },
    "tags": []
   },
   "outputs": [
    {
     "data": {
      "text/plain": [
       "{'BAS': 0.6716375142714428, 'WF1': 0.5778957287812658}"
      ]
     },
     "execution_count": 26,
     "metadata": {},
     "output_type": "execute_result"
    }
   ],
   "source": [
    "metrics_dict"
   ]
  },
  {
   "cell_type": "code",
   "execution_count": 27,
   "id": "4c3c8fbe",
   "metadata": {
    "execution": {
     "iopub.execute_input": "2025-05-15T16:16:06.404065Z",
     "iopub.status.busy": "2025-05-15T16:16:06.403372Z",
     "iopub.status.idle": "2025-05-15T16:16:06.489577Z",
     "shell.execute_reply": "2025-05-15T16:16:06.489235Z"
    },
    "papermill": {
     "duration": 0.22736,
     "end_time": "2025-05-15T16:16:06.490466",
     "exception": false,
     "start_time": "2025-05-15T16:16:06.263106",
     "status": "completed"
    },
    "tags": []
   },
   "outputs": [
    {
     "data": {
      "text/html": [
       "<div>\n",
       "<style scoped>\n",
       "    .dataframe tbody tr th:only-of-type {\n",
       "        vertical-align: middle;\n",
       "    }\n",
       "\n",
       "    .dataframe tbody tr th {\n",
       "        vertical-align: top;\n",
       "    }\n",
       "\n",
       "    .dataframe thead th {\n",
       "        text-align: right;\n",
       "    }\n",
       "</style>\n",
       "<table border=\"1\" class=\"dataframe\">\n",
       "  <thead>\n",
       "    <tr style=\"text-align: right;\">\n",
       "      <th></th>\n",
       "      <th>BAS</th>\n",
       "      <th>WF1</th>\n",
       "      <th>split_idx</th>\n",
       "      <th>gene_set_seed</th>\n",
       "      <th>cell_type</th>\n",
       "    </tr>\n",
       "  </thead>\n",
       "  <tbody>\n",
       "    <tr>\n",
       "      <th>0</th>\n",
       "      <td>0.671638</td>\n",
       "      <td>0.577896</td>\n",
       "      <td>0</td>\n",
       "      <td>18</td>\n",
       "      <td>Plasma</td>\n",
       "    </tr>\n",
       "  </tbody>\n",
       "</table>\n",
       "</div>"
      ],
      "text/plain": [
       "        BAS       WF1  split_idx  gene_set_seed cell_type\n",
       "0  0.671638  0.577896          0             18    Plasma"
      ]
     },
     "execution_count": 27,
     "metadata": {},
     "output_type": "execute_result"
    }
   ],
   "source": [
    "metrics_df = pd.DataFrame.from_dict([metrics_dict]).assign(split_idx=TEST_SPLIT_IDX, gene_set_seed=SEED, cell_type=CELL_TYPE)\n",
    "metrics_df"
   ]
  },
  {
   "cell_type": "code",
   "execution_count": 28,
   "id": "53021621",
   "metadata": {
    "execution": {
     "iopub.execute_input": "2025-05-15T16:16:06.511442Z",
     "iopub.status.busy": "2025-05-15T16:16:06.510810Z",
     "iopub.status.idle": "2025-05-15T16:16:06.523727Z",
     "shell.execute_reply": "2025-05-15T16:16:06.523230Z"
    },
    "papermill": {
     "duration": 0.024879,
     "end_time": "2025-05-15T16:16:06.524942",
     "exception": false,
     "start_time": "2025-05-15T16:16:06.500063",
     "status": "completed"
    },
    "tags": []
   },
   "outputs": [],
   "source": [
    "out_dir = here(f'03_downstream_analysis/08_gene_importance/xgboost_external_validation/xgboost_TopN_genes/results_{N_GENES}/metrics')\n",
    "\n",
    "if not os.path.exists(out_dir):\n",
    "    os.makedirs(out_dir)\n",
    "    \n",
    "metrics_df.to_csv(os.path.join(out_dir, f'{CELL_TYPE}_{SEED}_{TEST_SPLIT_IDX}_metrics.zip'))"
   ]
  }
 ],
 "metadata": {
  "kernelspec": {
   "display_name": "Python 3 (ipykernel)",
   "language": "python",
   "name": "python3"
  },
  "language_info": {
   "codemirror_mode": {
    "name": "ipython",
    "version": 3
   },
   "file_extension": ".py",
   "mimetype": "text/x-python",
   "name": "python",
   "nbconvert_exporter": "python",
   "pygments_lexer": "ipython3",
   "version": "3.12.5"
  },
  "papermill": {
   "default_parameters": {},
   "duration": 21.486264,
   "end_time": "2025-05-15T16:16:07.451950",
   "environment_variables": {},
   "exception": null,
   "input_path": "02_xgboost_fitting_external_20genes.ipynb",
   "output_path": "results_20/executed_notebooks/xgboost_fitting_external_CT_Plasma_GS_18_seed0.ipynb",
   "parameters": {
    "CELL_TYPE": "Plasma",
    "SEED": 18,
    "TEST_SPLIT_IDX": 0
   },
   "start_time": "2025-05-15T16:15:45.965686",
   "version": "2.6.0"
  }
 },
 "nbformat": 4,
 "nbformat_minor": 5
}