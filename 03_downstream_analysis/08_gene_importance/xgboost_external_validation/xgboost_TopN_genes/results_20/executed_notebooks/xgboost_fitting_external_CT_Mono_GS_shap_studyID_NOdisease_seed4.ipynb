{
 "cells": [
  {
   "cell_type": "code",
   "execution_count": 1,
   "id": "890cd80b",
   "metadata": {
    "editable": true,
    "execution": {
     "iopub.execute_input": "2025-05-14T16:07:25.850936Z",
     "iopub.status.busy": "2025-05-14T16:07:25.850696Z",
     "iopub.status.idle": "2025-05-14T16:07:25.853294Z",
     "shell.execute_reply": "2025-05-14T16:07:25.853000Z"
    },
    "papermill": {
     "duration": 0.009932,
     "end_time": "2025-05-14T16:07:25.854173",
     "exception": false,
     "start_time": "2025-05-14T16:07:25.844241",
     "status": "completed"
    },
    "slideshow": {
     "slide_type": ""
    },
    "tags": [
     "parameters"
    ]
   },
   "outputs": [],
   "source": [
    "CELL_TYPE = 'pDC'\n",
    "N_GENES: int = 20\n",
    "SEED = 'shap_studyID' #'disease_NOstudy' 'study_NOdisease' or 'int' or 'shap_studyID'\n",
    "TEST_SPLIT_IDX: int = 1 #[0,4]"
   ]
  },
  {
   "cell_type": "code",
   "execution_count": 2,
   "id": "b0713cc2",
   "metadata": {
    "execution": {
     "iopub.execute_input": "2025-05-14T16:07:25.867766Z",
     "iopub.status.busy": "2025-05-14T16:07:25.867513Z",
     "iopub.status.idle": "2025-05-14T16:07:25.869540Z",
     "shell.execute_reply": "2025-05-14T16:07:25.869264Z"
    },
    "papermill": {
     "duration": 0.010973,
     "end_time": "2025-05-14T16:07:25.870317",
     "exception": false,
     "start_time": "2025-05-14T16:07:25.859344",
     "status": "completed"
    },
    "tags": [
     "injected-parameters"
    ]
   },
   "outputs": [],
   "source": [
    "# Parameters\n",
    "CELL_TYPE = \"Mono\"\n",
    "SEED = \"shap_studyID_NOdisease\"\n",
    "TEST_SPLIT_IDX = 4\n"
   ]
  },
  {
   "cell_type": "code",
   "execution_count": 3,
   "id": "7deec391",
   "metadata": {
    "execution": {
     "iopub.execute_input": "2025-05-14T16:07:25.880791Z",
     "iopub.status.busy": "2025-05-14T16:07:25.880403Z",
     "iopub.status.idle": "2025-05-14T16:07:25.882396Z",
     "shell.execute_reply": "2025-05-14T16:07:25.882120Z"
    },
    "papermill": {
     "duration": 0.007899,
     "end_time": "2025-05-14T16:07:25.883160",
     "exception": false,
     "start_time": "2025-05-14T16:07:25.875261",
     "status": "completed"
    },
    "tags": []
   },
   "outputs": [],
   "source": [
    "N_SPLITS: int = 5\n",
    "N_TRIALS: int = 50"
   ]
  },
  {
   "cell_type": "code",
   "execution_count": 4,
   "id": "16b5ee73",
   "metadata": {
    "execution": {
     "iopub.execute_input": "2025-05-14T16:07:25.894233Z",
     "iopub.status.busy": "2025-05-14T16:07:25.894019Z",
     "iopub.status.idle": "2025-05-14T16:07:46.939152Z",
     "shell.execute_reply": "2025-05-14T16:07:46.938731Z"
    },
    "papermill": {
     "duration": 21.052474,
     "end_time": "2025-05-14T16:07:46.940352",
     "exception": false,
     "start_time": "2025-05-14T16:07:25.887878",
     "status": "completed"
    },
    "tags": []
   },
   "outputs": [],
   "source": [
    "import os\n",
    "import sys\n",
    "from pyprojroot.here import here\n",
    "import pandas as pd\n",
    "import anndata as ad\n",
    "import numpy as np\n",
    "import math\n",
    "from sklearn.model_selection import StratifiedGroupKFold\n",
    "from sklearn.preprocessing import LabelEncoder\n",
    "from sklearn.metrics import f1_score\n",
    "import matplotlib.pyplot as plt\n",
    "import seaborn as sns\n",
    "from itertools import product\n",
    "from sklearn.metrics import balanced_accuracy_score, f1_score\n",
    "import optuna\n",
    "\n",
    "import joblib\n",
    "import pickle\n",
    "import datetime\n",
    "\n",
    "import collections\n",
    "\n",
    "import xgboost\n",
    "from sklearn.preprocessing import LabelEncoder\n",
    "\n",
    "import scipy.sparse as ssp\n",
    "import joblib\n",
    "\n",
    "from dotenv import load_dotenv"
   ]
  },
  {
   "cell_type": "code",
   "execution_count": 5,
   "id": "b10d0dea",
   "metadata": {
    "execution": {
     "iopub.execute_input": "2025-05-14T16:07:46.952865Z",
     "iopub.status.busy": "2025-05-14T16:07:46.952276Z",
     "iopub.status.idle": "2025-05-14T16:07:46.958281Z",
     "shell.execute_reply": "2025-05-14T16:07:46.957987Z"
    },
    "papermill": {
     "duration": 0.012319,
     "end_time": "2025-05-14T16:07:46.959108",
     "exception": false,
     "start_time": "2025-05-14T16:07:46.946789",
     "status": "completed"
    },
    "tags": []
   },
   "outputs": [
    {
     "data": {
      "text/plain": [
       "True"
      ]
     },
     "execution_count": 5,
     "metadata": {},
     "output_type": "execute_result"
    }
   ],
   "source": [
    "load_dotenv()"
   ]
  },
  {
   "cell_type": "markdown",
   "id": "fccb41ac",
   "metadata": {
    "papermill": {
     "duration": 0.006855,
     "end_time": "2025-05-14T16:07:46.970981",
     "exception": false,
     "start_time": "2025-05-14T16:07:46.964126",
     "status": "completed"
    },
    "tags": []
   },
   "source": [
    "# LOAD DATASET"
   ]
  },
  {
   "cell_type": "code",
   "execution_count": 6,
   "id": "6a9abd7a",
   "metadata": {
    "execution": {
     "iopub.execute_input": "2025-05-14T16:07:46.983024Z",
     "iopub.status.busy": "2025-05-14T16:07:46.982586Z",
     "iopub.status.idle": "2025-05-14T16:07:48.304801Z",
     "shell.execute_reply": "2025-05-14T16:07:48.304347Z"
    },
    "papermill": {
     "duration": 1.328883,
     "end_time": "2025-05-14T16:07:48.305748",
     "exception": false,
     "start_time": "2025-05-14T16:07:46.976865",
     "status": "completed"
    },
    "tags": []
   },
   "outputs": [],
   "source": [
    "train_adata = ad.read_h5ad(\n",
    "    here(f'03_downstream_analysis/08_gene_importance/xgboost_external_validation/xgboost_TopN_genes/data_cellTypes/EXTERNAL_{CELL_TYPE}.filtered.log1p.h5ad')\n",
    ")"
   ]
  },
  {
   "cell_type": "code",
   "execution_count": 7,
   "id": "df6f9786",
   "metadata": {
    "execution": {
     "iopub.execute_input": "2025-05-14T16:07:48.327145Z",
     "iopub.status.busy": "2025-05-14T16:07:48.326713Z",
     "iopub.status.idle": "2025-05-14T16:07:48.359362Z",
     "shell.execute_reply": "2025-05-14T16:07:48.358865Z"
    },
    "papermill": {
     "duration": 0.048404,
     "end_time": "2025-05-14T16:07:48.360228",
     "exception": false,
     "start_time": "2025-05-14T16:07:48.311824",
     "status": "completed"
    },
    "tags": []
   },
   "outputs": [
    {
     "name": "stdout",
     "output_type": "stream",
     "text": [
      "['ENSG00000002586' 'ENSG00000005339' 'ENSG00000006125' 'ENSG00000008394'\n",
      " 'ENSG00000010327' 'ENSG00000018280' 'ENSG00000019169' 'ENSG00000019582'\n",
      " 'ENSG00000026025' 'ENSG00000028137' 'ENSG00000033800' 'ENSG00000038427'\n",
      " 'ENSG00000042753' 'ENSG00000051382' 'ENSG00000057657' 'ENSG00000059728'\n",
      " 'ENSG00000068831' 'ENSG00000075785' 'ENSG00000076944' 'ENSG00000077150'\n",
      " 'ENSG00000077238' 'ENSG00000078043' 'ENSG00000082074' 'ENSG00000085514'\n",
      " 'ENSG00000089737' 'ENSG00000090863' 'ENSG00000092820' 'ENSG00000099624'\n",
      " 'ENSG00000100079' 'ENSG00000100100' 'ENSG00000100300' 'ENSG00000100365'\n",
      " 'ENSG00000100368' 'ENSG00000100393' 'ENSG00000100664' 'ENSG00000100906'\n",
      " 'ENSG00000100911' 'ENSG00000101350' 'ENSG00000101608' 'ENSG00000101695'\n",
      " 'ENSG00000104093' 'ENSG00000104904' 'ENSG00000104964' 'ENSG00000104998'\n",
      " 'ENSG00000105851' 'ENSG00000106367' 'ENSG00000106803' 'ENSG00000108639'\n",
      " 'ENSG00000109743' 'ENSG00000110395' 'ENSG00000110876' 'ENSG00000111348'\n",
      " 'ENSG00000111640' 'ENSG00000111716' 'ENSG00000112561' 'ENSG00000113070'\n",
      " 'ENSG00000113441' 'ENSG00000113615' 'ENSG00000115073' 'ENSG00000116171'\n",
      " 'ENSG00000116701' 'ENSG00000116815' 'ENSG00000117602' 'ENSG00000118640'\n",
      " 'ENSG00000118971' 'ENSG00000119655' 'ENSG00000119922' 'ENSG00000120594'\n",
      " 'ENSG00000121316' 'ENSG00000121879' 'ENSG00000124882' 'ENSG00000125538'\n",
      " 'ENSG00000125743' 'ENSG00000127022' 'ENSG00000127314' 'ENSG00000127507'\n",
      " 'ENSG00000128524' 'ENSG00000130755' 'ENSG00000131018' 'ENSG00000131042'\n",
      " 'ENSG00000131143' 'ENSG00000131196' 'ENSG00000131981' 'ENSG00000132912'\n",
      " 'ENSG00000135046' 'ENSG00000135441' 'ENSG00000135720' 'ENSG00000135821'\n",
      " 'ENSG00000135968' 'ENSG00000136156' 'ENSG00000137100' 'ENSG00000138674'\n",
      " 'ENSG00000139192' 'ENSG00000140379' 'ENSG00000141574' 'ENSG00000142208'\n",
      " 'ENSG00000142546' 'ENSG00000143119' 'ENSG00000143390' 'ENSG00000143924'\n",
      " 'ENSG00000144746' 'ENSG00000144802' 'ENSG00000147443' 'ENSG00000148908'\n",
      " 'ENSG00000150093' 'ENSG00000150782' 'ENSG00000160075' 'ENSG00000160213'\n",
      " 'ENSG00000160883' 'ENSG00000161921' 'ENSG00000163191' 'ENSG00000163220'\n",
      " 'ENSG00000163513' 'ENSG00000163660' 'ENSG00000163931' 'ENSG00000164307'\n",
      " 'ENSG00000165140' 'ENSG00000166710' 'ENSG00000166927' 'ENSG00000166949'\n",
      " 'ENSG00000167004' 'ENSG00000169896' 'ENSG00000170017' 'ENSG00000173757'\n",
      " 'ENSG00000175203' 'ENSG00000175489' 'ENSG00000176986' 'ENSG00000177556'\n",
      " 'ENSG00000177663' 'ENSG00000178695' 'ENSG00000179218' 'ENSG00000179295'\n",
      " 'ENSG00000180008' 'ENSG00000182578' 'ENSG00000183023' 'ENSG00000184007'\n",
      " 'ENSG00000184752' 'ENSG00000185215' 'ENSG00000185291' 'ENSG00000185745'\n",
      " 'ENSG00000185950' 'ENSG00000188906' 'ENSG00000196126' 'ENSG00000196735'\n",
      " 'ENSG00000197102' 'ENSG00000197329' 'ENSG00000197471' 'ENSG00000197632'\n",
      " 'ENSG00000197746' 'ENSG00000197956' 'ENSG00000197965' 'ENSG00000198520'\n",
      " 'ENSG00000203747' 'ENSG00000204264' 'ENSG00000204287' 'ENSG00000204472'\n",
      " 'ENSG00000204843' 'ENSG00000213145' 'ENSG00000223865' 'ENSG00000242574'\n",
      " 'ENSG00000271503' 'ENSG00000277791']\n"
     ]
    }
   ],
   "source": [
    "if SEED != 'all':\n",
    "    gene_subset = np.load(here(f'03_downstream_analysis/08_gene_importance/xgboost_external_validation/shap_gene_selection/gene_subsets_{N_GENES}/{CELL_TYPE}_{SEED}.npy'), allow_pickle=True)\n",
    "    train_adata = train_adata[:,gene_subset]\n",
    "    print(gene_subset)\n",
    "elif SEED == 'all':\n",
    "    print('Using all genes')\n",
    "else:\n",
    "    raise ValueError()"
   ]
  },
  {
   "cell_type": "code",
   "execution_count": 8,
   "id": "23c7341d",
   "metadata": {
    "execution": {
     "iopub.execute_input": "2025-05-14T16:07:48.374152Z",
     "iopub.status.busy": "2025-05-14T16:07:48.374002Z",
     "iopub.status.idle": "2025-05-14T16:07:48.377242Z",
     "shell.execute_reply": "2025-05-14T16:07:48.376856Z"
    },
    "papermill": {
     "duration": 0.011232,
     "end_time": "2025-05-14T16:07:48.378025",
     "exception": false,
     "start_time": "2025-05-14T16:07:48.366793",
     "status": "completed"
    },
    "tags": []
   },
   "outputs": [
    {
     "data": {
      "text/plain": [
       "(137435, 162)"
      ]
     },
     "execution_count": 8,
     "metadata": {},
     "output_type": "execute_result"
    }
   ],
   "source": [
    "train_adata.shape"
   ]
  },
  {
   "cell_type": "code",
   "execution_count": 9,
   "id": "05738af0",
   "metadata": {
    "execution": {
     "iopub.execute_input": "2025-05-14T16:07:48.389131Z",
     "iopub.status.busy": "2025-05-14T16:07:48.388992Z",
     "iopub.status.idle": "2025-05-14T16:07:48.392874Z",
     "shell.execute_reply": "2025-05-14T16:07:48.392498Z"
    },
    "papermill": {
     "duration": 0.010291,
     "end_time": "2025-05-14T16:07:48.393710",
     "exception": false,
     "start_time": "2025-05-14T16:07:48.383419",
     "status": "completed"
    },
    "tags": []
   },
   "outputs": [
    {
     "data": {
      "text/plain": [
       "['RA', 'healthy', 'COVID', 'HIV', 'cirrhosis', 'CD', 'SLE', 'sepsis']\n",
       "Categories (8, object): ['CD', 'COVID', 'HIV', 'RA', 'SLE', 'cirrhosis', 'healthy', 'sepsis']"
      ]
     },
     "execution_count": 9,
     "metadata": {},
     "output_type": "execute_result"
    }
   ],
   "source": [
    "train_adata.obs.disease.unique()"
   ]
  },
  {
   "cell_type": "code",
   "execution_count": 10,
   "id": "8874e2e9",
   "metadata": {
    "execution": {
     "iopub.execute_input": "2025-05-14T16:07:48.405538Z",
     "iopub.status.busy": "2025-05-14T16:07:48.405124Z",
     "iopub.status.idle": "2025-05-14T16:07:48.409267Z",
     "shell.execute_reply": "2025-05-14T16:07:48.408928Z"
    },
    "papermill": {
     "duration": 0.010949,
     "end_time": "2025-05-14T16:07:48.410113",
     "exception": false,
     "start_time": "2025-05-14T16:07:48.399164",
     "status": "completed"
    },
    "tags": []
   },
   "outputs": [
    {
     "data": {
      "text/plain": [
       "['SCGT00val_I0364_T0', 'SCGT00val_I036028_T0', 'SCGT00val_I036024_T0', 'SCGT00val_I036023_T0', 'SCGT00val_I036019_T0', ..., '10XGenomics_10XHC2_T0', '10XGenomics_10XHC3_T0', '10XGenomics_10XHC5_T0', '10XGenomics_10XHC7_T0', '10XGenomics_10XHC8_T0']\n",
       "Length: 86\n",
       "Categories (86, object): ['10XGenomics_10XHC1_T0', '10XGenomics_10XHC2_T0', '10XGenomics_10XHC3_T0', '10XGenomics_10XHC4_T0', ..., 'Savage2021_BRISL6_T0', 'Savage2021_BRISL7_T0', 'Savage2021_PIDA_T0', 'Savage2021_PIDB_T0']"
      ]
     },
     "execution_count": 10,
     "metadata": {},
     "output_type": "execute_result"
    }
   ],
   "source": [
    "train_adata.obs.sampleID.unique()"
   ]
  },
  {
   "cell_type": "code",
   "execution_count": 11,
   "id": "3667126e",
   "metadata": {
    "execution": {
     "iopub.execute_input": "2025-05-14T16:07:48.421752Z",
     "iopub.status.busy": "2025-05-14T16:07:48.421288Z",
     "iopub.status.idle": "2025-05-14T16:07:48.742161Z",
     "shell.execute_reply": "2025-05-14T16:07:48.741698Z"
    },
    "papermill": {
     "duration": 0.327931,
     "end_time": "2025-05-14T16:07:48.743378",
     "exception": false,
     "start_time": "2025-05-14T16:07:48.415447",
     "status": "completed"
    },
    "tags": []
   },
   "outputs": [],
   "source": [
    "all_idxs = np.arange(train_adata.obs.shape[0])\n",
    "left_out_splits = [s[1] for s in StratifiedGroupKFold(n_splits=N_SPLITS).split(all_idxs, train_adata.obs.disease, train_adata.obs.sampleID)]"
   ]
  },
  {
   "cell_type": "code",
   "execution_count": 12,
   "id": "41b92728",
   "metadata": {
    "execution": {
     "iopub.execute_input": "2025-05-14T16:07:48.755304Z",
     "iopub.status.busy": "2025-05-14T16:07:48.755111Z",
     "iopub.status.idle": "2025-05-14T16:07:48.758604Z",
     "shell.execute_reply": "2025-05-14T16:07:48.758292Z"
    },
    "papermill": {
     "duration": 0.010237,
     "end_time": "2025-05-14T16:07:48.759462",
     "exception": false,
     "start_time": "2025-05-14T16:07:48.749225",
     "status": "completed"
    },
    "tags": []
   },
   "outputs": [
    {
     "data": {
      "text/plain": [
       "([1, 2, 3], 0, 4)"
      ]
     },
     "execution_count": 12,
     "metadata": {},
     "output_type": "execute_result"
    }
   ],
   "source": [
    "TRAIN_SPLIT_IDXS = [0,1,2,3,4]\n",
    "VAL_SPLIT_IDX = (TEST_SPLIT_IDX + 1) % 5\n",
    "TRAIN_SPLIT_IDXS.remove(TEST_SPLIT_IDX)\n",
    "TRAIN_SPLIT_IDXS.remove(VAL_SPLIT_IDX)\n",
    "TRAIN_SPLIT_IDXS, VAL_SPLIT_IDX, TEST_SPLIT_IDX"
   ]
  },
  {
   "cell_type": "code",
   "execution_count": 13,
   "id": "d5f7f097",
   "metadata": {
    "execution": {
     "iopub.execute_input": "2025-05-14T16:07:48.771508Z",
     "iopub.status.busy": "2025-05-14T16:07:48.771118Z",
     "iopub.status.idle": "2025-05-14T16:07:48.773501Z",
     "shell.execute_reply": "2025-05-14T16:07:48.773211Z"
    },
    "papermill": {
     "duration": 0.009317,
     "end_time": "2025-05-14T16:07:48.774325",
     "exception": false,
     "start_time": "2025-05-14T16:07:48.765008",
     "status": "completed"
    },
    "tags": []
   },
   "outputs": [],
   "source": [
    "train_idxs = np.concatenate([left_out_splits[idx] for idx in TRAIN_SPLIT_IDXS])\n",
    "val_idxs = left_out_splits[VAL_SPLIT_IDX]\n",
    "test_idxs = left_out_splits[TEST_SPLIT_IDX]"
   ]
  },
  {
   "cell_type": "markdown",
   "id": "7a89f9f1",
   "metadata": {
    "papermill": {
     "duration": 0.009251,
     "end_time": "2025-05-14T16:07:48.789038",
     "exception": false,
     "start_time": "2025-05-14T16:07:48.779787",
     "status": "completed"
    },
    "tags": []
   },
   "source": [
    "### SUBSET DATASET INTO TRAIN/TEST/VAL SPLITS"
   ]
  },
  {
   "cell_type": "code",
   "execution_count": 14,
   "id": "5c8e473c",
   "metadata": {
    "execution": {
     "iopub.execute_input": "2025-05-14T16:07:48.809071Z",
     "iopub.status.busy": "2025-05-14T16:07:48.808512Z",
     "iopub.status.idle": "2025-05-14T16:07:49.392273Z",
     "shell.execute_reply": "2025-05-14T16:07:49.391812Z"
    },
    "papermill": {
     "duration": 0.59107,
     "end_time": "2025-05-14T16:07:49.393232",
     "exception": false,
     "start_time": "2025-05-14T16:07:48.802162",
     "status": "completed"
    },
    "tags": []
   },
   "outputs": [
    {
     "data": {
      "text/plain": [
       "((82984, 162), (27037, 162), (27414, 162))"
      ]
     },
     "execution_count": 14,
     "metadata": {},
     "output_type": "execute_result"
    }
   ],
   "source": [
    "X_train = train_adata.X[train_idxs]\n",
    "X_test = train_adata.X[test_idxs]\n",
    "X_val = train_adata.X[val_idxs]\n",
    "X_train.shape, X_test.shape, X_val.shape"
   ]
  },
  {
   "cell_type": "code",
   "execution_count": 15,
   "id": "1238423b",
   "metadata": {
    "execution": {
     "iopub.execute_input": "2025-05-14T16:07:49.416086Z",
     "iopub.status.busy": "2025-05-14T16:07:49.415866Z",
     "iopub.status.idle": "2025-05-14T16:07:49.431649Z",
     "shell.execute_reply": "2025-05-14T16:07:49.431192Z"
    },
    "papermill": {
     "duration": 0.023338,
     "end_time": "2025-05-14T16:07:49.432596",
     "exception": false,
     "start_time": "2025-05-14T16:07:49.409258",
     "status": "completed"
    },
    "tags": []
   },
   "outputs": [
    {
     "data": {
      "text/plain": [
       "((82984,), (27037,), (27414,))"
      ]
     },
     "execution_count": 15,
     "metadata": {},
     "output_type": "execute_result"
    }
   ],
   "source": [
    "y_train = train_adata.obs.iloc[train_idxs].disease.values.astype(str)\n",
    "y_test = train_adata.obs.iloc[test_idxs].disease.values.astype(str)\n",
    "y_val = train_adata.obs.iloc[val_idxs].disease.values.astype(str)\n",
    "y_train.shape, y_test.shape, y_val.shape"
   ]
  },
  {
   "cell_type": "code",
   "execution_count": 16,
   "id": "f44922c3",
   "metadata": {
    "execution": {
     "iopub.execute_input": "2025-05-14T16:07:49.445938Z",
     "iopub.status.busy": "2025-05-14T16:07:49.445734Z",
     "iopub.status.idle": "2025-05-14T16:07:49.477205Z",
     "shell.execute_reply": "2025-05-14T16:07:49.476798Z"
    },
    "papermill": {
     "duration": 0.038946,
     "end_time": "2025-05-14T16:07:49.478216",
     "exception": false,
     "start_time": "2025-05-14T16:07:49.439270",
     "status": "completed"
    },
    "tags": []
   },
   "outputs": [],
   "source": [
    "lenc = LabelEncoder()\n",
    "y_train_enc = lenc.fit_transform(y_train)\n",
    "y_val_enc = lenc.transform(y_val)\n",
    "y_test_enc = lenc.transform(y_test)"
   ]
  },
  {
   "cell_type": "markdown",
   "id": "cdcb926c",
   "metadata": {
    "papermill": {
     "duration": 0.005954,
     "end_time": "2025-05-14T16:07:49.490300",
     "exception": false,
     "start_time": "2025-05-14T16:07:49.484346",
     "status": "completed"
    },
    "tags": []
   },
   "source": [
    "### GENERATE F1 "
   ]
  },
  {
   "cell_type": "code",
   "execution_count": 17,
   "id": "4174fc6a",
   "metadata": {
    "execution": {
     "iopub.execute_input": "2025-05-14T16:07:49.533769Z",
     "iopub.status.busy": "2025-05-14T16:07:49.533551Z",
     "iopub.status.idle": "2025-05-14T16:07:49.536142Z",
     "shell.execute_reply": "2025-05-14T16:07:49.535823Z"
    },
    "papermill": {
     "duration": 0.025771,
     "end_time": "2025-05-14T16:07:49.537055",
     "exception": false,
     "start_time": "2025-05-14T16:07:49.511284",
     "status": "completed"
    },
    "tags": []
   },
   "outputs": [],
   "source": [
    "def custom_f1_score(y_true, y_pred):\n",
    "    return -f1_score(y_true, y_pred.argmax(1), average='weighted')"
   ]
  },
  {
   "cell_type": "code",
   "execution_count": 18,
   "id": "59992171",
   "metadata": {
    "execution": {
     "iopub.execute_input": "2025-05-14T16:07:49.550729Z",
     "iopub.status.busy": "2025-05-14T16:07:49.550271Z",
     "iopub.status.idle": "2025-05-14T16:07:49.554198Z",
     "shell.execute_reply": "2025-05-14T16:07:49.553863Z"
    },
    "papermill": {
     "duration": 0.011182,
     "end_time": "2025-05-14T16:07:49.555043",
     "exception": false,
     "start_time": "2025-05-14T16:07:49.543861",
     "status": "completed"
    },
    "tags": []
   },
   "outputs": [],
   "source": [
    "eval_metric=custom_f1_score\n",
    "eval_metric_name='custom_f1_score'\n",
    "\n",
    "def objective(trial):\n",
    "    params = {\n",
    "        'n_estimators': 1500,\n",
    "        'max_depth': trial.suggest_int('max_depth', 3, 20),\n",
    "        'min_child_weight': trial.suggest_int('min_child_weight', 1, 250),\n",
    "        'subsample': trial.suggest_float('subsample', 0.1, 1.0),\n",
    "        'colsample_bynode': trial.suggest_float('colsample_bynode', 0.1, 1.0),\n",
    "        'learning_rate': trial.suggest_float('learning_rate', 1e-3, 5e-1, log=True),\n",
    "    }\n",
    "    pruning_callback = optuna.integration.XGBoostPruningCallback(trial, f'validation_0-{eval_metric_name}')\n",
    "    es_callback = xgboost.callback.EarlyStopping(20, min_delta=0.001)\n",
    "    xgb = xgboost.XGBClassifier(\n",
    "        eval_metric=eval_metric,\n",
    "        callbacks=[pruning_callback, es_callback],\n",
    "        n_jobs=5,\n",
    "        **params\n",
    "    )\n",
    "    xgb.fit(\n",
    "        X_train, \n",
    "        y_train_enc, \n",
    "        verbose=0,\n",
    "        eval_set=[(X_val, y_val_enc)],\n",
    "    )\n",
    "    trial.set_user_attr('best_iteration', xgb.best_iteration)\n",
    "\n",
    "    return xgb.best_score"
   ]
  },
  {
   "cell_type": "code",
   "execution_count": 19,
   "id": "201978b4",
   "metadata": {
    "execution": {
     "iopub.execute_input": "2025-05-14T16:07:49.573172Z",
     "iopub.status.busy": "2025-05-14T16:07:49.572890Z",
     "iopub.status.idle": "2025-05-14T16:43:10.898304Z",
     "shell.execute_reply": "2025-05-14T16:43:10.897808Z"
    },
    "papermill": {
     "duration": 2121.338186,
     "end_time": "2025-05-14T16:43:10.899591",
     "exception": false,
     "start_time": "2025-05-14T16:07:49.561405",
     "status": "completed"
    },
    "scrolled": true,
    "tags": []
   },
   "outputs": [
    {
     "name": "stderr",
     "output_type": "stream",
     "text": [
      "[I 2025-05-14 18:07:49,574] A new study created in memory with name: no-name-421dc5ae-49a3-440d-ad33-102d1e7e5674\n"
     ]
    },
    {
     "name": "stderr",
     "output_type": "stream",
     "text": [
      "[I 2025-05-14 18:10:23,686] Trial 0 finished with value: -0.697423 and parameters: {'max_depth': 9, 'min_child_weight': 238, 'subsample': 0.7587945476302645, 'colsample_bynode': 0.6387926357773329, 'learning_rate': 0.0026368755339723046}. Best is trial 0 with value: -0.697423.\n"
     ]
    },
    {
     "name": "stderr",
     "output_type": "stream",
     "text": [
      "[I 2025-05-14 18:12:18,594] Trial 1 finished with value: -0.838241 and parameters: {'max_depth': 5, 'min_child_weight': 15, 'subsample': 0.8795585311974417, 'colsample_bynode': 0.6410035105688879, 'learning_rate': 0.08148293210105287}. Best is trial 1 with value: -0.838241.\n"
     ]
    },
    {
     "name": "stderr",
     "output_type": "stream",
     "text": [
      "[I 2025-05-14 18:12:26,586] Trial 2 finished with value: -0.601389 and parameters: {'max_depth': 3, 'min_child_weight': 243, 'subsample': 0.8491983767203796, 'colsample_bynode': 0.29110519961044856, 'learning_rate': 0.003095566460242371}. Best is trial 1 with value: -0.838241.\n"
     ]
    },
    {
     "name": "stderr",
     "output_type": "stream",
     "text": [
      "[I 2025-05-14 18:16:30,131] Trial 3 finished with value: -0.761911 and parameters: {'max_depth': 6, 'min_child_weight': 77, 'subsample': 0.5722807884690141, 'colsample_bynode': 0.48875051677790415, 'learning_rate': 0.006109683510122491}. Best is trial 1 with value: -0.838241.\n"
     ]
    },
    {
     "name": "stderr",
     "output_type": "stream",
     "text": [
      "[I 2025-05-14 18:21:09,946] Trial 4 finished with value: -0.825135 and parameters: {'max_depth': 14, 'min_child_weight': 35, 'subsample': 0.3629301836816964, 'colsample_bynode': 0.4297256589643226, 'learning_rate': 0.01701841881702917}. Best is trial 1 with value: -0.838241.\n"
     ]
    },
    {
     "name": "stderr",
     "output_type": "stream",
     "text": [
      "[I 2025-05-14 18:21:29,446] Trial 5 pruned. Trial was pruned at iteration 37.\n"
     ]
    },
    {
     "name": "stderr",
     "output_type": "stream",
     "text": [
      "[I 2025-05-14 18:21:30,414] Trial 6 pruned. Trial was pruned at iteration 0.\n"
     ]
    },
    {
     "name": "stderr",
     "output_type": "stream",
     "text": [
      "[I 2025-05-14 18:21:31,305] Trial 7 pruned. Trial was pruned at iteration 0.\n"
     ]
    },
    {
     "name": "stderr",
     "output_type": "stream",
     "text": [
      "[I 2025-05-14 18:21:32,154] Trial 8 pruned. Trial was pruned at iteration 0.\n"
     ]
    },
    {
     "name": "stderr",
     "output_type": "stream",
     "text": [
      "[I 2025-05-14 18:21:45,076] Trial 9 pruned. Trial was pruned at iteration 28.\n"
     ]
    },
    {
     "name": "stderr",
     "output_type": "stream",
     "text": [
      "[I 2025-05-14 18:23:02,026] Trial 10 finished with value: -0.831732 and parameters: {'max_depth': 9, 'min_child_weight': 2, 'subsample': 0.9725833997090791, 'colsample_bynode': 0.11616568805333755, 'learning_rate': 0.17780618353487967}. Best is trial 1 with value: -0.838241.\n"
     ]
    },
    {
     "name": "stderr",
     "output_type": "stream",
     "text": [
      "[I 2025-05-14 18:24:17,184] Trial 11 finished with value: -0.828429 and parameters: {'max_depth': 9, 'min_child_weight': 4, 'subsample': 0.9818290990185045, 'colsample_bynode': 0.17702656156719, 'learning_rate': 0.11568531411766632}. Best is trial 1 with value: -0.838241.\n"
     ]
    },
    {
     "name": "stderr",
     "output_type": "stream",
     "text": [
      "[I 2025-05-14 18:26:16,729] Trial 12 finished with value: -0.829555 and parameters: {'max_depth': 9, 'min_child_weight': 3, 'subsample': 0.9754570370311046, 'colsample_bynode': 0.14672783827498995, 'learning_rate': 0.08954997670613858}. Best is trial 1 with value: -0.838241.\n"
     ]
    },
    {
     "name": "stderr",
     "output_type": "stream",
     "text": [
      "[I 2025-05-14 18:26:17,608] Trial 13 pruned. Trial was pruned at iteration 0.\n"
     ]
    },
    {
     "name": "stderr",
     "output_type": "stream",
     "text": [
      "[I 2025-05-14 18:26:18,534] Trial 14 pruned. Trial was pruned at iteration 0.\n"
     ]
    },
    {
     "name": "stderr",
     "output_type": "stream",
     "text": [
      "[I 2025-05-14 18:29:29,976] Trial 15 pruned. Trial was pruned at iteration 91.\n"
     ]
    },
    {
     "name": "stderr",
     "output_type": "stream",
     "text": [
      "[I 2025-05-14 18:29:30,880] Trial 16 pruned. Trial was pruned at iteration 0.\n"
     ]
    },
    {
     "name": "stderr",
     "output_type": "stream",
     "text": [
      "[I 2025-05-14 18:29:31,715] Trial 17 pruned. Trial was pruned at iteration 0.\n"
     ]
    },
    {
     "name": "stderr",
     "output_type": "stream",
     "text": [
      "[I 2025-05-14 18:30:34,096] Trial 18 finished with value: -0.841148 and parameters: {'max_depth': 11, 'min_child_weight': 37, 'subsample': 0.9135233791821833, 'colsample_bynode': 0.24900065324684006, 'learning_rate': 0.16384379577990202}. Best is trial 18 with value: -0.841148.\n"
     ]
    },
    {
     "name": "stderr",
     "output_type": "stream",
     "text": [
      "[I 2025-05-14 18:30:35,449] Trial 19 pruned. Trial was pruned at iteration 1.\n"
     ]
    },
    {
     "name": "stderr",
     "output_type": "stream",
     "text": [
      "[I 2025-05-14 18:31:43,827] Trial 20 finished with value: -0.846125 and parameters: {'max_depth': 16, 'min_child_weight': 36, 'subsample': 0.6673964375642997, 'colsample_bynode': 0.8651467877814526, 'learning_rate': 0.2221537505158567}. Best is trial 20 with value: -0.846125.\n"
     ]
    },
    {
     "name": "stderr",
     "output_type": "stream",
     "text": [
      "[I 2025-05-14 18:32:40,958] Trial 21 finished with value: -0.841373 and parameters: {'max_depth': 17, 'min_child_weight': 32, 'subsample': 0.6742977978825961, 'colsample_bynode': 0.8564834725554809, 'learning_rate': 0.20901104055631745}. Best is trial 20 with value: -0.846125.\n"
     ]
    },
    {
     "name": "stderr",
     "output_type": "stream",
     "text": [
      "[I 2025-05-14 18:33:51,108] Trial 22 finished with value: -0.845533 and parameters: {'max_depth': 17, 'min_child_weight': 34, 'subsample': 0.6581340170061017, 'colsample_bynode': 0.8523299130140582, 'learning_rate': 0.23804272499382256}. Best is trial 20 with value: -0.846125.\n"
     ]
    },
    {
     "name": "stderr",
     "output_type": "stream",
     "text": [
      "[I 2025-05-14 18:35:00,301] Trial 23 finished with value: -0.847909 and parameters: {'max_depth': 17, 'min_child_weight': 59, 'subsample': 0.6603362616200772, 'colsample_bynode': 0.8878013102377844, 'learning_rate': 0.27118907699584244}. Best is trial 23 with value: -0.847909.\n"
     ]
    },
    {
     "name": "stderr",
     "output_type": "stream",
     "text": [
      "[I 2025-05-14 18:35:01,366] Trial 24 pruned. Trial was pruned at iteration 0.\n"
     ]
    },
    {
     "name": "stderr",
     "output_type": "stream",
     "text": [
      "[I 2025-05-14 18:35:03,884] Trial 25 pruned. Trial was pruned at iteration 3.\n"
     ]
    },
    {
     "name": "stderr",
     "output_type": "stream",
     "text": [
      "[I 2025-05-14 18:35:32,954] Trial 26 finished with value: -0.839647 and parameters: {'max_depth': 16, 'min_child_weight': 60, 'subsample': 0.4861251112150538, 'colsample_bynode': 0.7142251606872252, 'learning_rate': 0.4756093669950587}. Best is trial 23 with value: -0.847909.\n"
     ]
    },
    {
     "name": "stderr",
     "output_type": "stream",
     "text": [
      "[I 2025-05-14 18:35:34,625] Trial 27 pruned. Trial was pruned at iteration 1.\n"
     ]
    },
    {
     "name": "stderr",
     "output_type": "stream",
     "text": [
      "[I 2025-05-14 18:35:35,604] Trial 28 pruned. Trial was pruned at iteration 0.\n"
     ]
    },
    {
     "name": "stderr",
     "output_type": "stream",
     "text": [
      "[I 2025-05-14 18:35:36,595] Trial 29 pruned. Trial was pruned at iteration 0.\n"
     ]
    },
    {
     "name": "stderr",
     "output_type": "stream",
     "text": [
      "[I 2025-05-14 18:36:41,458] Trial 30 finished with value: -0.848489 and parameters: {'max_depth': 13, 'min_child_weight': 63, 'subsample': 0.6226058071364482, 'colsample_bynode': 0.8607481127175765, 'learning_rate': 0.2672954251092415}. Best is trial 30 with value: -0.848489.\n"
     ]
    },
    {
     "name": "stderr",
     "output_type": "stream",
     "text": [
      "[I 2025-05-14 18:36:43,586] Trial 31 pruned. Trial was pruned at iteration 1.\n"
     ]
    },
    {
     "name": "stderr",
     "output_type": "stream",
     "text": [
      "[I 2025-05-14 18:37:59,650] Trial 32 finished with value: -0.839228 and parameters: {'max_depth': 18, 'min_child_weight': 18, 'subsample': 0.7303655447162924, 'colsample_bynode': 0.9166669306652131, 'learning_rate': 0.24217319970478254}. Best is trial 30 with value: -0.848489.\n"
     ]
    },
    {
     "name": "stderr",
     "output_type": "stream",
     "text": [
      "[I 2025-05-14 18:38:00,684] Trial 33 pruned. Trial was pruned at iteration 0.\n"
     ]
    },
    {
     "name": "stderr",
     "output_type": "stream",
     "text": [
      "[I 2025-05-14 18:38:01,674] Trial 34 pruned. Trial was pruned at iteration 0.\n"
     ]
    },
    {
     "name": "stderr",
     "output_type": "stream",
     "text": [
      "[I 2025-05-14 18:38:53,920] Trial 35 finished with value: -0.845561 and parameters: {'max_depth': 16, 'min_child_weight': 49, 'subsample': 0.6596377772713055, 'colsample_bynode': 0.7686694060616387, 'learning_rate': 0.2788802021988866}. Best is trial 30 with value: -0.848489.\n"
     ]
    },
    {
     "name": "stderr",
     "output_type": "stream",
     "text": [
      "[I 2025-05-14 18:39:48,459] Trial 36 finished with value: -0.844974 and parameters: {'max_depth': 16, 'min_child_weight': 50, 'subsample': 0.8042302118127929, 'colsample_bynode': 0.7787141206112864, 'learning_rate': 0.31037666455044993}. Best is trial 30 with value: -0.848489.\n"
     ]
    },
    {
     "name": "stderr",
     "output_type": "stream",
     "text": [
      "[I 2025-05-14 18:39:49,493] Trial 37 pruned. Trial was pruned at iteration 0.\n"
     ]
    },
    {
     "name": "stderr",
     "output_type": "stream",
     "text": [
      "[I 2025-05-14 18:40:02,702] Trial 38 pruned. Trial was pruned at iteration 15.\n"
     ]
    },
    {
     "name": "stderr",
     "output_type": "stream",
     "text": [
      "[I 2025-05-14 18:40:03,845] Trial 39 pruned. Trial was pruned at iteration 0.\n"
     ]
    },
    {
     "name": "stderr",
     "output_type": "stream",
     "text": [
      "[I 2025-05-14 18:40:04,793] Trial 40 pruned. Trial was pruned at iteration 0.\n"
     ]
    },
    {
     "name": "stderr",
     "output_type": "stream",
     "text": [
      "[I 2025-05-14 18:41:22,103] Trial 41 finished with value: -0.84636 and parameters: {'max_depth': 18, 'min_child_weight': 33, 'subsample': 0.6576015860613726, 'colsample_bynode': 0.8595413090118013, 'learning_rate': 0.2512129052425192}. Best is trial 30 with value: -0.848489.\n"
     ]
    },
    {
     "name": "stderr",
     "output_type": "stream",
     "text": [
      "[I 2025-05-14 18:41:23,200] Trial 42 pruned. Trial was pruned at iteration 0.\n"
     ]
    },
    {
     "name": "stderr",
     "output_type": "stream",
     "text": [
      "[I 2025-05-14 18:41:24,296] Trial 43 pruned. Trial was pruned at iteration 0.\n"
     ]
    },
    {
     "name": "stderr",
     "output_type": "stream",
     "text": [
      "[I 2025-05-14 18:41:25,454] Trial 44 pruned. Trial was pruned at iteration 0.\n"
     ]
    },
    {
     "name": "stderr",
     "output_type": "stream",
     "text": [
      "[I 2025-05-14 18:41:37,236] Trial 45 pruned. Trial was pruned at iteration 11.\n"
     ]
    },
    {
     "name": "stderr",
     "output_type": "stream",
     "text": [
      "[I 2025-05-14 18:42:31,824] Trial 46 finished with value: -0.843337 and parameters: {'max_depth': 17, 'min_child_weight': 44, 'subsample': 0.5652115283858778, 'colsample_bynode': 0.8800453262152869, 'learning_rate': 0.3560619445421461}. Best is trial 30 with value: -0.848489.\n"
     ]
    },
    {
     "name": "stderr",
     "output_type": "stream",
     "text": [
      "[I 2025-05-14 18:43:05,634] Trial 47 pruned. Trial was pruned at iteration 53.\n"
     ]
    },
    {
     "name": "stderr",
     "output_type": "stream",
     "text": [
      "[I 2025-05-14 18:43:07,167] Trial 48 pruned. Trial was pruned at iteration 1.\n"
     ]
    },
    {
     "name": "stderr",
     "output_type": "stream",
     "text": [
      "[I 2025-05-14 18:43:10,808] Trial 49 pruned. Trial was pruned at iteration 3.\n"
     ]
    }
   ],
   "source": [
    "sampler = optuna.samplers.TPESampler(seed=42)\n",
    "study = optuna.create_study(direction='minimize', sampler=sampler)\n",
    "study.optimize(objective, n_trials=N_TRIALS, gc_after_trial=True)"
   ]
  },
  {
   "cell_type": "code",
   "execution_count": 20,
   "id": "75b1fc37",
   "metadata": {
    "execution": {
     "iopub.execute_input": "2025-05-14T16:43:10.928551Z",
     "iopub.status.busy": "2025-05-14T16:43:10.928349Z",
     "iopub.status.idle": "2025-05-14T16:43:10.982425Z",
     "shell.execute_reply": "2025-05-14T16:43:10.982113Z"
    },
    "papermill": {
     "duration": 0.074344,
     "end_time": "2025-05-14T16:43:10.983276",
     "exception": false,
     "start_time": "2025-05-14T16:43:10.908932",
     "status": "completed"
    },
    "tags": []
   },
   "outputs": [
    {
     "data": {
      "text/plain": [
       "['/scratch_isilon/groups/singlecell/shared/projects/Inflammation-PBMCs-Atlas/03_downstream_analysis/08_gene_importance/xgboost_external_validation/xgboost_TopN_genes/results_20/study/Mono_shap_studyID_NOdisease_4_xgboost.pkl']"
      ]
     },
     "execution_count": 20,
     "metadata": {},
     "output_type": "execute_result"
    }
   ],
   "source": [
    "out_dir = here(f'03_downstream_analysis/08_gene_importance/xgboost_external_validation/xgboost_TopN_genes/results_{N_GENES}/study')\n",
    "\n",
    "if not os.path.exists(out_dir):\n",
    "    os.makedirs(out_dir)\n",
    "    \n",
    "joblib.dump(study,os.path.join(out_dir, f'{CELL_TYPE}_{SEED}_{TEST_SPLIT_IDX}_xgboost.pkl'))"
   ]
  },
  {
   "cell_type": "code",
   "execution_count": 21,
   "id": "4e2c8e93",
   "metadata": {
    "execution": {
     "iopub.execute_input": "2025-05-14T16:43:11.008568Z",
     "iopub.status.busy": "2025-05-14T16:43:11.008383Z",
     "iopub.status.idle": "2025-05-14T16:43:47.469600Z",
     "shell.execute_reply": "2025-05-14T16:43:47.469242Z"
    },
    "papermill": {
     "duration": 36.481841,
     "end_time": "2025-05-14T16:43:47.481232",
     "exception": false,
     "start_time": "2025-05-14T16:43:10.999391",
     "status": "completed"
    },
    "tags": []
   },
   "outputs": [
    {
     "data": {
      "text/html": [
       "<style>#sk-container-id-1 {\n",
       "  /* Definition of color scheme common for light and dark mode */\n",
       "  --sklearn-color-text: black;\n",
       "  --sklearn-color-line: gray;\n",
       "  /* Definition of color scheme for unfitted estimators */\n",
       "  --sklearn-color-unfitted-level-0: #fff5e6;\n",
       "  --sklearn-color-unfitted-level-1: #f6e4d2;\n",
       "  --sklearn-color-unfitted-level-2: #ffe0b3;\n",
       "  --sklearn-color-unfitted-level-3: chocolate;\n",
       "  /* Definition of color scheme for fitted estimators */\n",
       "  --sklearn-color-fitted-level-0: #f0f8ff;\n",
       "  --sklearn-color-fitted-level-1: #d4ebff;\n",
       "  --sklearn-color-fitted-level-2: #b3dbfd;\n",
       "  --sklearn-color-fitted-level-3: cornflowerblue;\n",
       "\n",
       "  /* Specific color for light theme */\n",
       "  --sklearn-color-text-on-default-background: var(--sg-text-color, var(--theme-code-foreground, var(--jp-content-font-color1, black)));\n",
       "  --sklearn-color-background: var(--sg-background-color, var(--theme-background, var(--jp-layout-color0, white)));\n",
       "  --sklearn-color-border-box: var(--sg-text-color, var(--theme-code-foreground, var(--jp-content-font-color1, black)));\n",
       "  --sklearn-color-icon: #696969;\n",
       "\n",
       "  @media (prefers-color-scheme: dark) {\n",
       "    /* Redefinition of color scheme for dark theme */\n",
       "    --sklearn-color-text-on-default-background: var(--sg-text-color, var(--theme-code-foreground, var(--jp-content-font-color1, white)));\n",
       "    --sklearn-color-background: var(--sg-background-color, var(--theme-background, var(--jp-layout-color0, #111)));\n",
       "    --sklearn-color-border-box: var(--sg-text-color, var(--theme-code-foreground, var(--jp-content-font-color1, white)));\n",
       "    --sklearn-color-icon: #878787;\n",
       "  }\n",
       "}\n",
       "\n",
       "#sk-container-id-1 {\n",
       "  color: var(--sklearn-color-text);\n",
       "}\n",
       "\n",
       "#sk-container-id-1 pre {\n",
       "  padding: 0;\n",
       "}\n",
       "\n",
       "#sk-container-id-1 input.sk-hidden--visually {\n",
       "  border: 0;\n",
       "  clip: rect(1px 1px 1px 1px);\n",
       "  clip: rect(1px, 1px, 1px, 1px);\n",
       "  height: 1px;\n",
       "  margin: -1px;\n",
       "  overflow: hidden;\n",
       "  padding: 0;\n",
       "  position: absolute;\n",
       "  width: 1px;\n",
       "}\n",
       "\n",
       "#sk-container-id-1 div.sk-dashed-wrapped {\n",
       "  border: 1px dashed var(--sklearn-color-line);\n",
       "  margin: 0 0.4em 0.5em 0.4em;\n",
       "  box-sizing: border-box;\n",
       "  padding-bottom: 0.4em;\n",
       "  background-color: var(--sklearn-color-background);\n",
       "}\n",
       "\n",
       "#sk-container-id-1 div.sk-container {\n",
       "  /* jupyter's `normalize.less` sets `[hidden] { display: none; }`\n",
       "     but bootstrap.min.css set `[hidden] { display: none !important; }`\n",
       "     so we also need the `!important` here to be able to override the\n",
       "     default hidden behavior on the sphinx rendered scikit-learn.org.\n",
       "     See: https://github.com/scikit-learn/scikit-learn/issues/21755 */\n",
       "  display: inline-block !important;\n",
       "  position: relative;\n",
       "}\n",
       "\n",
       "#sk-container-id-1 div.sk-text-repr-fallback {\n",
       "  display: none;\n",
       "}\n",
       "\n",
       "div.sk-parallel-item,\n",
       "div.sk-serial,\n",
       "div.sk-item {\n",
       "  /* draw centered vertical line to link estimators */\n",
       "  background-image: linear-gradient(var(--sklearn-color-text-on-default-background), var(--sklearn-color-text-on-default-background));\n",
       "  background-size: 2px 100%;\n",
       "  background-repeat: no-repeat;\n",
       "  background-position: center center;\n",
       "}\n",
       "\n",
       "/* Parallel-specific style estimator block */\n",
       "\n",
       "#sk-container-id-1 div.sk-parallel-item::after {\n",
       "  content: \"\";\n",
       "  width: 100%;\n",
       "  border-bottom: 2px solid var(--sklearn-color-text-on-default-background);\n",
       "  flex-grow: 1;\n",
       "}\n",
       "\n",
       "#sk-container-id-1 div.sk-parallel {\n",
       "  display: flex;\n",
       "  align-items: stretch;\n",
       "  justify-content: center;\n",
       "  background-color: var(--sklearn-color-background);\n",
       "  position: relative;\n",
       "}\n",
       "\n",
       "#sk-container-id-1 div.sk-parallel-item {\n",
       "  display: flex;\n",
       "  flex-direction: column;\n",
       "}\n",
       "\n",
       "#sk-container-id-1 div.sk-parallel-item:first-child::after {\n",
       "  align-self: flex-end;\n",
       "  width: 50%;\n",
       "}\n",
       "\n",
       "#sk-container-id-1 div.sk-parallel-item:last-child::after {\n",
       "  align-self: flex-start;\n",
       "  width: 50%;\n",
       "}\n",
       "\n",
       "#sk-container-id-1 div.sk-parallel-item:only-child::after {\n",
       "  width: 0;\n",
       "}\n",
       "\n",
       "/* Serial-specific style estimator block */\n",
       "\n",
       "#sk-container-id-1 div.sk-serial {\n",
       "  display: flex;\n",
       "  flex-direction: column;\n",
       "  align-items: center;\n",
       "  background-color: var(--sklearn-color-background);\n",
       "  padding-right: 1em;\n",
       "  padding-left: 1em;\n",
       "}\n",
       "\n",
       "\n",
       "/* Toggleable style: style used for estimator/Pipeline/ColumnTransformer box that is\n",
       "clickable and can be expanded/collapsed.\n",
       "- Pipeline and ColumnTransformer use this feature and define the default style\n",
       "- Estimators will overwrite some part of the style using the `sk-estimator` class\n",
       "*/\n",
       "\n",
       "/* Pipeline and ColumnTransformer style (default) */\n",
       "\n",
       "#sk-container-id-1 div.sk-toggleable {\n",
       "  /* Default theme specific background. It is overwritten whether we have a\n",
       "  specific estimator or a Pipeline/ColumnTransformer */\n",
       "  background-color: var(--sklearn-color-background);\n",
       "}\n",
       "\n",
       "/* Toggleable label */\n",
       "#sk-container-id-1 label.sk-toggleable__label {\n",
       "  cursor: pointer;\n",
       "  display: block;\n",
       "  width: 100%;\n",
       "  margin-bottom: 0;\n",
       "  padding: 0.5em;\n",
       "  box-sizing: border-box;\n",
       "  text-align: center;\n",
       "}\n",
       "\n",
       "#sk-container-id-1 label.sk-toggleable__label-arrow:before {\n",
       "  /* Arrow on the left of the label */\n",
       "  content: \"▸\";\n",
       "  float: left;\n",
       "  margin-right: 0.25em;\n",
       "  color: var(--sklearn-color-icon);\n",
       "}\n",
       "\n",
       "#sk-container-id-1 label.sk-toggleable__label-arrow:hover:before {\n",
       "  color: var(--sklearn-color-text);\n",
       "}\n",
       "\n",
       "/* Toggleable content - dropdown */\n",
       "\n",
       "#sk-container-id-1 div.sk-toggleable__content {\n",
       "  max-height: 0;\n",
       "  max-width: 0;\n",
       "  overflow: hidden;\n",
       "  text-align: left;\n",
       "  /* unfitted */\n",
       "  background-color: var(--sklearn-color-unfitted-level-0);\n",
       "}\n",
       "\n",
       "#sk-container-id-1 div.sk-toggleable__content.fitted {\n",
       "  /* fitted */\n",
       "  background-color: var(--sklearn-color-fitted-level-0);\n",
       "}\n",
       "\n",
       "#sk-container-id-1 div.sk-toggleable__content pre {\n",
       "  margin: 0.2em;\n",
       "  border-radius: 0.25em;\n",
       "  color: var(--sklearn-color-text);\n",
       "  /* unfitted */\n",
       "  background-color: var(--sklearn-color-unfitted-level-0);\n",
       "}\n",
       "\n",
       "#sk-container-id-1 div.sk-toggleable__content.fitted pre {\n",
       "  /* unfitted */\n",
       "  background-color: var(--sklearn-color-fitted-level-0);\n",
       "}\n",
       "\n",
       "#sk-container-id-1 input.sk-toggleable__control:checked~div.sk-toggleable__content {\n",
       "  /* Expand drop-down */\n",
       "  max-height: 200px;\n",
       "  max-width: 100%;\n",
       "  overflow: auto;\n",
       "}\n",
       "\n",
       "#sk-container-id-1 input.sk-toggleable__control:checked~label.sk-toggleable__label-arrow:before {\n",
       "  content: \"▾\";\n",
       "}\n",
       "\n",
       "/* Pipeline/ColumnTransformer-specific style */\n",
       "\n",
       "#sk-container-id-1 div.sk-label input.sk-toggleable__control:checked~label.sk-toggleable__label {\n",
       "  color: var(--sklearn-color-text);\n",
       "  background-color: var(--sklearn-color-unfitted-level-2);\n",
       "}\n",
       "\n",
       "#sk-container-id-1 div.sk-label.fitted input.sk-toggleable__control:checked~label.sk-toggleable__label {\n",
       "  background-color: var(--sklearn-color-fitted-level-2);\n",
       "}\n",
       "\n",
       "/* Estimator-specific style */\n",
       "\n",
       "/* Colorize estimator box */\n",
       "#sk-container-id-1 div.sk-estimator input.sk-toggleable__control:checked~label.sk-toggleable__label {\n",
       "  /* unfitted */\n",
       "  background-color: var(--sklearn-color-unfitted-level-2);\n",
       "}\n",
       "\n",
       "#sk-container-id-1 div.sk-estimator.fitted input.sk-toggleable__control:checked~label.sk-toggleable__label {\n",
       "  /* fitted */\n",
       "  background-color: var(--sklearn-color-fitted-level-2);\n",
       "}\n",
       "\n",
       "#sk-container-id-1 div.sk-label label.sk-toggleable__label,\n",
       "#sk-container-id-1 div.sk-label label {\n",
       "  /* The background is the default theme color */\n",
       "  color: var(--sklearn-color-text-on-default-background);\n",
       "}\n",
       "\n",
       "/* On hover, darken the color of the background */\n",
       "#sk-container-id-1 div.sk-label:hover label.sk-toggleable__label {\n",
       "  color: var(--sklearn-color-text);\n",
       "  background-color: var(--sklearn-color-unfitted-level-2);\n",
       "}\n",
       "\n",
       "/* Label box, darken color on hover, fitted */\n",
       "#sk-container-id-1 div.sk-label.fitted:hover label.sk-toggleable__label.fitted {\n",
       "  color: var(--sklearn-color-text);\n",
       "  background-color: var(--sklearn-color-fitted-level-2);\n",
       "}\n",
       "\n",
       "/* Estimator label */\n",
       "\n",
       "#sk-container-id-1 div.sk-label label {\n",
       "  font-family: monospace;\n",
       "  font-weight: bold;\n",
       "  display: inline-block;\n",
       "  line-height: 1.2em;\n",
       "}\n",
       "\n",
       "#sk-container-id-1 div.sk-label-container {\n",
       "  text-align: center;\n",
       "}\n",
       "\n",
       "/* Estimator-specific */\n",
       "#sk-container-id-1 div.sk-estimator {\n",
       "  font-family: monospace;\n",
       "  border: 1px dotted var(--sklearn-color-border-box);\n",
       "  border-radius: 0.25em;\n",
       "  box-sizing: border-box;\n",
       "  margin-bottom: 0.5em;\n",
       "  /* unfitted */\n",
       "  background-color: var(--sklearn-color-unfitted-level-0);\n",
       "}\n",
       "\n",
       "#sk-container-id-1 div.sk-estimator.fitted {\n",
       "  /* fitted */\n",
       "  background-color: var(--sklearn-color-fitted-level-0);\n",
       "}\n",
       "\n",
       "/* on hover */\n",
       "#sk-container-id-1 div.sk-estimator:hover {\n",
       "  /* unfitted */\n",
       "  background-color: var(--sklearn-color-unfitted-level-2);\n",
       "}\n",
       "\n",
       "#sk-container-id-1 div.sk-estimator.fitted:hover {\n",
       "  /* fitted */\n",
       "  background-color: var(--sklearn-color-fitted-level-2);\n",
       "}\n",
       "\n",
       "/* Specification for estimator info (e.g. \"i\" and \"?\") */\n",
       "\n",
       "/* Common style for \"i\" and \"?\" */\n",
       "\n",
       ".sk-estimator-doc-link,\n",
       "a:link.sk-estimator-doc-link,\n",
       "a:visited.sk-estimator-doc-link {\n",
       "  float: right;\n",
       "  font-size: smaller;\n",
       "  line-height: 1em;\n",
       "  font-family: monospace;\n",
       "  background-color: var(--sklearn-color-background);\n",
       "  border-radius: 1em;\n",
       "  height: 1em;\n",
       "  width: 1em;\n",
       "  text-decoration: none !important;\n",
       "  margin-left: 1ex;\n",
       "  /* unfitted */\n",
       "  border: var(--sklearn-color-unfitted-level-1) 1pt solid;\n",
       "  color: var(--sklearn-color-unfitted-level-1);\n",
       "}\n",
       "\n",
       ".sk-estimator-doc-link.fitted,\n",
       "a:link.sk-estimator-doc-link.fitted,\n",
       "a:visited.sk-estimator-doc-link.fitted {\n",
       "  /* fitted */\n",
       "  border: var(--sklearn-color-fitted-level-1) 1pt solid;\n",
       "  color: var(--sklearn-color-fitted-level-1);\n",
       "}\n",
       "\n",
       "/* On hover */\n",
       "div.sk-estimator:hover .sk-estimator-doc-link:hover,\n",
       ".sk-estimator-doc-link:hover,\n",
       "div.sk-label-container:hover .sk-estimator-doc-link:hover,\n",
       ".sk-estimator-doc-link:hover {\n",
       "  /* unfitted */\n",
       "  background-color: var(--sklearn-color-unfitted-level-3);\n",
       "  color: var(--sklearn-color-background);\n",
       "  text-decoration: none;\n",
       "}\n",
       "\n",
       "div.sk-estimator.fitted:hover .sk-estimator-doc-link.fitted:hover,\n",
       ".sk-estimator-doc-link.fitted:hover,\n",
       "div.sk-label-container:hover .sk-estimator-doc-link.fitted:hover,\n",
       ".sk-estimator-doc-link.fitted:hover {\n",
       "  /* fitted */\n",
       "  background-color: var(--sklearn-color-fitted-level-3);\n",
       "  color: var(--sklearn-color-background);\n",
       "  text-decoration: none;\n",
       "}\n",
       "\n",
       "/* Span, style for the box shown on hovering the info icon */\n",
       ".sk-estimator-doc-link span {\n",
       "  display: none;\n",
       "  z-index: 9999;\n",
       "  position: relative;\n",
       "  font-weight: normal;\n",
       "  right: .2ex;\n",
       "  padding: .5ex;\n",
       "  margin: .5ex;\n",
       "  width: min-content;\n",
       "  min-width: 20ex;\n",
       "  max-width: 50ex;\n",
       "  color: var(--sklearn-color-text);\n",
       "  box-shadow: 2pt 2pt 4pt #999;\n",
       "  /* unfitted */\n",
       "  background: var(--sklearn-color-unfitted-level-0);\n",
       "  border: .5pt solid var(--sklearn-color-unfitted-level-3);\n",
       "}\n",
       "\n",
       ".sk-estimator-doc-link.fitted span {\n",
       "  /* fitted */\n",
       "  background: var(--sklearn-color-fitted-level-0);\n",
       "  border: var(--sklearn-color-fitted-level-3);\n",
       "}\n",
       "\n",
       ".sk-estimator-doc-link:hover span {\n",
       "  display: block;\n",
       "}\n",
       "\n",
       "/* \"?\"-specific style due to the `<a>` HTML tag */\n",
       "\n",
       "#sk-container-id-1 a.estimator_doc_link {\n",
       "  float: right;\n",
       "  font-size: 1rem;\n",
       "  line-height: 1em;\n",
       "  font-family: monospace;\n",
       "  background-color: var(--sklearn-color-background);\n",
       "  border-radius: 1rem;\n",
       "  height: 1rem;\n",
       "  width: 1rem;\n",
       "  text-decoration: none;\n",
       "  /* unfitted */\n",
       "  color: var(--sklearn-color-unfitted-level-1);\n",
       "  border: var(--sklearn-color-unfitted-level-1) 1pt solid;\n",
       "}\n",
       "\n",
       "#sk-container-id-1 a.estimator_doc_link.fitted {\n",
       "  /* fitted */\n",
       "  border: var(--sklearn-color-fitted-level-1) 1pt solid;\n",
       "  color: var(--sklearn-color-fitted-level-1);\n",
       "}\n",
       "\n",
       "/* On hover */\n",
       "#sk-container-id-1 a.estimator_doc_link:hover {\n",
       "  /* unfitted */\n",
       "  background-color: var(--sklearn-color-unfitted-level-3);\n",
       "  color: var(--sklearn-color-background);\n",
       "  text-decoration: none;\n",
       "}\n",
       "\n",
       "#sk-container-id-1 a.estimator_doc_link.fitted:hover {\n",
       "  /* fitted */\n",
       "  background-color: var(--sklearn-color-fitted-level-3);\n",
       "}\n",
       "</style><div id=\"sk-container-id-1\" class=\"sk-top-container\"><div class=\"sk-text-repr-fallback\"><pre>XGBClassifier(base_score=None, booster=None, callbacks=None,\n",
       "              colsample_bylevel=None, colsample_bynode=0.8607481127175765,\n",
       "              colsample_bytree=None, device=None, early_stopping_rounds=None,\n",
       "              enable_categorical=False,\n",
       "              eval_metric=&lt;function custom_f1_score at 0x7faf70e34720&gt;,\n",
       "              feature_types=None, gamma=None, grow_policy=None,\n",
       "              importance_type=None, interaction_constraints=None,\n",
       "              learning_rate=0.2672954251092415, max_bin=None,\n",
       "              max_cat_threshold=None, max_cat_to_onehot=None,\n",
       "              max_delta_step=None, max_depth=13, max_leaves=None,\n",
       "              min_child_weight=63, missing=nan, monotone_constraints=None,\n",
       "              multi_strategy=None, n_estimators=175, n_jobs=None,\n",
       "              num_parallel_tree=None, objective=&#x27;multi:softprob&#x27;, ...)</pre><b>In a Jupyter environment, please rerun this cell to show the HTML representation or trust the notebook. <br />On GitHub, the HTML representation is unable to render, please try loading this page with nbviewer.org.</b></div><div class=\"sk-container\" hidden><div class=\"sk-item\"><div class=\"sk-estimator fitted sk-toggleable\"><input class=\"sk-toggleable__control sk-hidden--visually\" id=\"sk-estimator-id-1\" type=\"checkbox\" checked><label for=\"sk-estimator-id-1\" class=\"sk-toggleable__label fitted sk-toggleable__label-arrow fitted\">&nbsp;XGBClassifier<span class=\"sk-estimator-doc-link fitted\">i<span>Fitted</span></span></label><div class=\"sk-toggleable__content fitted\"><pre>XGBClassifier(base_score=None, booster=None, callbacks=None,\n",
       "              colsample_bylevel=None, colsample_bynode=0.8607481127175765,\n",
       "              colsample_bytree=None, device=None, early_stopping_rounds=None,\n",
       "              enable_categorical=False,\n",
       "              eval_metric=&lt;function custom_f1_score at 0x7faf70e34720&gt;,\n",
       "              feature_types=None, gamma=None, grow_policy=None,\n",
       "              importance_type=None, interaction_constraints=None,\n",
       "              learning_rate=0.2672954251092415, max_bin=None,\n",
       "              max_cat_threshold=None, max_cat_to_onehot=None,\n",
       "              max_delta_step=None, max_depth=13, max_leaves=None,\n",
       "              min_child_weight=63, missing=nan, monotone_constraints=None,\n",
       "              multi_strategy=None, n_estimators=175, n_jobs=None,\n",
       "              num_parallel_tree=None, objective=&#x27;multi:softprob&#x27;, ...)</pre></div> </div></div></div></div>"
      ],
      "text/plain": [
       "XGBClassifier(base_score=None, booster=None, callbacks=None,\n",
       "              colsample_bylevel=None, colsample_bynode=0.8607481127175765,\n",
       "              colsample_bytree=None, device=None, early_stopping_rounds=None,\n",
       "              enable_categorical=False,\n",
       "              eval_metric=<function custom_f1_score at 0x7faf70e34720>,\n",
       "              feature_types=None, gamma=None, grow_policy=None,\n",
       "              importance_type=None, interaction_constraints=None,\n",
       "              learning_rate=0.2672954251092415, max_bin=None,\n",
       "              max_cat_threshold=None, max_cat_to_onehot=None,\n",
       "              max_delta_step=None, max_depth=13, max_leaves=None,\n",
       "              min_child_weight=63, missing=nan, monotone_constraints=None,\n",
       "              multi_strategy=None, n_estimators=175, n_jobs=None,\n",
       "              num_parallel_tree=None, objective='multi:softprob', ...)"
      ]
     },
     "execution_count": 21,
     "metadata": {},
     "output_type": "execute_result"
    }
   ],
   "source": [
    "n_estimators = int(study.best_trial.user_attrs['best_iteration']*1.2)\n",
    "xgb = xgboost.XGBClassifier(\n",
    "        eval_metric=eval_metric,\n",
    "        n_estimators=n_estimators,\n",
    "        **study.best_trial.params\n",
    "    )\n",
    "xgb.fit(\n",
    "    ssp.vstack((X_train, X_val)), \n",
    "    np.concatenate((y_train_enc, y_val_enc)),\n",
    "    verbose=1,\n",
    ")"
   ]
  },
  {
   "cell_type": "code",
   "execution_count": 22,
   "id": "0e4586b3",
   "metadata": {
    "execution": {
     "iopub.execute_input": "2025-05-14T16:43:47.524399Z",
     "iopub.status.busy": "2025-05-14T16:43:47.524174Z",
     "iopub.status.idle": "2025-05-14T16:43:47.612201Z",
     "shell.execute_reply": "2025-05-14T16:43:47.611842Z"
    },
    "papermill": {
     "duration": 0.101117,
     "end_time": "2025-05-14T16:43:47.613086",
     "exception": false,
     "start_time": "2025-05-14T16:43:47.511969",
     "status": "completed"
    },
    "tags": []
   },
   "outputs": [
    {
     "data": {
      "text/plain": [
       "['/scratch_isilon/groups/singlecell/shared/projects/Inflammation-PBMCs-Atlas/03_downstream_analysis/08_gene_importance/xgboost_external_validation/xgboost_TopN_genes/results_20/best_model/Mono_shap_studyID_NOdisease_4_xgb.json']"
      ]
     },
     "execution_count": 22,
     "metadata": {},
     "output_type": "execute_result"
    }
   ],
   "source": [
    "out_dir = here(f'03_downstream_analysis/08_gene_importance/xgboost_external_validation/xgboost_TopN_genes/results_{N_GENES}/best_model')\n",
    "\n",
    "if not os.path.exists(out_dir):\n",
    "    os.makedirs(out_dir)\n",
    "    \n",
    "joblib.dump(xgb, os.path.join(out_dir, f'{CELL_TYPE}_{SEED}_{TEST_SPLIT_IDX}_xgb.json'))"
   ]
  },
  {
   "cell_type": "code",
   "execution_count": 23,
   "id": "ef082b8c",
   "metadata": {
    "execution": {
     "iopub.execute_input": "2025-05-14T16:43:47.656739Z",
     "iopub.status.busy": "2025-05-14T16:43:47.656582Z",
     "iopub.status.idle": "2025-05-14T16:43:48.722751Z",
     "shell.execute_reply": "2025-05-14T16:43:48.722248Z"
    },
    "papermill": {
     "duration": 1.090399,
     "end_time": "2025-05-14T16:43:48.724004",
     "exception": false,
     "start_time": "2025-05-14T16:43:47.633605",
     "status": "completed"
    },
    "tags": []
   },
   "outputs": [],
   "source": [
    "df_pred_test = pd.DataFrame(dict(\n",
    "    cell_id=train_adata.obs.iloc[test_idxs].index.values,\n",
    "    y_true=y_test, \n",
    "    y_true_code=y_test_enc, \n",
    "    y_pred=xgb.predict(X_test))).set_index('cell_id')"
   ]
  },
  {
   "cell_type": "code",
   "execution_count": 24,
   "id": "90399df8",
   "metadata": {
    "execution": {
     "iopub.execute_input": "2025-05-14T16:43:48.768095Z",
     "iopub.status.busy": "2025-05-14T16:43:48.767878Z",
     "iopub.status.idle": "2025-05-14T16:43:49.788676Z",
     "shell.execute_reply": "2025-05-14T16:43:49.788194Z"
    },
    "papermill": {
     "duration": 1.056122,
     "end_time": "2025-05-14T16:43:49.789882",
     "exception": false,
     "start_time": "2025-05-14T16:43:48.733760",
     "status": "completed"
    },
    "tags": []
   },
   "outputs": [],
   "source": [
    "out_dir = here(f'03_downstream_analysis/08_gene_importance/xgboost_external_validation/xgboost_TopN_genes/results_{N_GENES}/predictions')\n",
    "\n",
    "if not os.path.exists(out_dir):\n",
    "    os.makedirs(out_dir)\n",
    "    \n",
    "df_pred_test.to_csv(os.path.join(out_dir, f'{CELL_TYPE}_{SEED}_{TEST_SPLIT_IDX}_pred_test.zip'))"
   ]
  },
  {
   "cell_type": "code",
   "execution_count": 25,
   "id": "675884e5",
   "metadata": {
    "execution": {
     "iopub.execute_input": "2025-05-14T16:43:49.851674Z",
     "iopub.status.busy": "2025-05-14T16:43:49.851481Z",
     "iopub.status.idle": "2025-05-14T16:43:50.036826Z",
     "shell.execute_reply": "2025-05-14T16:43:50.036491Z"
    },
    "papermill": {
     "duration": 0.218247,
     "end_time": "2025-05-14T16:43:50.038105",
     "exception": false,
     "start_time": "2025-05-14T16:43:49.819858",
     "status": "completed"
    },
    "tags": []
   },
   "outputs": [],
   "source": [
    "metrics_dict = dict(\n",
    "    BAS=balanced_accuracy_score(y_true=df_pred_test.y_true_code, y_pred=df_pred_test.y_pred), WF1=f1_score(y_true=df_pred_test.y_true_code, y_pred=df_pred_test.y_pred,average='weighted'))"
   ]
  },
  {
   "cell_type": "code",
   "execution_count": 26,
   "id": "92838be4",
   "metadata": {
    "execution": {
     "iopub.execute_input": "2025-05-14T16:43:50.082599Z",
     "iopub.status.busy": "2025-05-14T16:43:50.082361Z",
     "iopub.status.idle": "2025-05-14T16:43:50.085440Z",
     "shell.execute_reply": "2025-05-14T16:43:50.085129Z"
    },
    "papermill": {
     "duration": 0.028538,
     "end_time": "2025-05-14T16:43:50.086317",
     "exception": false,
     "start_time": "2025-05-14T16:43:50.057779",
     "status": "completed"
    },
    "tags": []
   },
   "outputs": [
    {
     "data": {
      "text/plain": [
       "{'BAS': 0.4732564353390204, 'WF1': 0.7376158807564699}"
      ]
     },
     "execution_count": 26,
     "metadata": {},
     "output_type": "execute_result"
    }
   ],
   "source": [
    "metrics_dict"
   ]
  },
  {
   "cell_type": "code",
   "execution_count": 27,
   "id": "653c1d60",
   "metadata": {
    "execution": {
     "iopub.execute_input": "2025-05-14T16:43:50.475937Z",
     "iopub.status.busy": "2025-05-14T16:43:50.475730Z",
     "iopub.status.idle": "2025-05-14T16:43:50.726081Z",
     "shell.execute_reply": "2025-05-14T16:43:50.725674Z"
    },
    "papermill": {
     "duration": 0.406938,
     "end_time": "2025-05-14T16:43:50.727069",
     "exception": false,
     "start_time": "2025-05-14T16:43:50.320131",
     "status": "completed"
    },
    "tags": []
   },
   "outputs": [
    {
     "data": {
      "text/html": [
       "<div>\n",
       "<style scoped>\n",
       "    .dataframe tbody tr th:only-of-type {\n",
       "        vertical-align: middle;\n",
       "    }\n",
       "\n",
       "    .dataframe tbody tr th {\n",
       "        vertical-align: top;\n",
       "    }\n",
       "\n",
       "    .dataframe thead th {\n",
       "        text-align: right;\n",
       "    }\n",
       "</style>\n",
       "<table border=\"1\" class=\"dataframe\">\n",
       "  <thead>\n",
       "    <tr style=\"text-align: right;\">\n",
       "      <th></th>\n",
       "      <th>BAS</th>\n",
       "      <th>WF1</th>\n",
       "      <th>split_idx</th>\n",
       "      <th>gene_set_seed</th>\n",
       "      <th>cell_type</th>\n",
       "    </tr>\n",
       "  </thead>\n",
       "  <tbody>\n",
       "    <tr>\n",
       "      <th>0</th>\n",
       "      <td>0.473256</td>\n",
       "      <td>0.737616</td>\n",
       "      <td>4</td>\n",
       "      <td>shap_studyID_NOdisease</td>\n",
       "      <td>Mono</td>\n",
       "    </tr>\n",
       "  </tbody>\n",
       "</table>\n",
       "</div>"
      ],
      "text/plain": [
       "        BAS       WF1  split_idx           gene_set_seed cell_type\n",
       "0  0.473256  0.737616          4  shap_studyID_NOdisease      Mono"
      ]
     },
     "execution_count": 27,
     "metadata": {},
     "output_type": "execute_result"
    }
   ],
   "source": [
    "metrics_df = pd.DataFrame.from_dict([metrics_dict]).assign(split_idx=TEST_SPLIT_IDX, gene_set_seed=SEED, cell_type=CELL_TYPE)\n",
    "metrics_df"
   ]
  },
  {
   "cell_type": "code",
   "execution_count": 28,
   "id": "6b56c731",
   "metadata": {
    "execution": {
     "iopub.execute_input": "2025-05-14T16:43:50.748571Z",
     "iopub.status.busy": "2025-05-14T16:43:50.748327Z",
     "iopub.status.idle": "2025-05-14T16:43:50.760728Z",
     "shell.execute_reply": "2025-05-14T16:43:50.760321Z"
    },
    "papermill": {
     "duration": 0.022836,
     "end_time": "2025-05-14T16:43:50.761659",
     "exception": false,
     "start_time": "2025-05-14T16:43:50.738823",
     "status": "completed"
    },
    "tags": []
   },
   "outputs": [],
   "source": [
    "out_dir = here(f'03_downstream_analysis/08_gene_importance/xgboost_external_validation/xgboost_TopN_genes/results_{N_GENES}/metrics')\n",
    "\n",
    "if not os.path.exists(out_dir):\n",
    "    os.makedirs(out_dir)\n",
    "    \n",
    "metrics_df.to_csv(os.path.join(out_dir, f'{CELL_TYPE}_{SEED}_{TEST_SPLIT_IDX}_metrics.zip'))"
   ]
  }
 ],
 "metadata": {
  "kernelspec": {
   "display_name": "Python 3 (ipykernel)",
   "language": "python",
   "name": "python3"
  },
  "language_info": {
   "codemirror_mode": {
    "name": "ipython",
    "version": 3
   },
   "file_extension": ".py",
   "mimetype": "text/x-python",
   "name": "python",
   "nbconvert_exporter": "python",
   "pygments_lexer": "ipython3",
   "version": "3.12.5"
  },
  "papermill": {
   "default_parameters": {},
   "duration": 2189.209914,
   "end_time": "2025-05-14T16:43:53.625440",
   "environment_variables": {},
   "exception": null,
   "input_path": "02_xgboost_fitting_external_20genes.ipynb",
   "output_path": "results_20/executed_notebooks/xgboost_fitting_external_CT_Mono_GS_shap_studyID_NOdisease_seed4.ipynb",
   "parameters": {
    "CELL_TYPE": "Mono",
    "SEED": "shap_studyID_NOdisease",
    "TEST_SPLIT_IDX": 4
   },
   "start_time": "2025-05-14T16:07:24.415526",
   "version": "2.6.0"
  }
 },
 "nbformat": 4,
 "nbformat_minor": 5
}