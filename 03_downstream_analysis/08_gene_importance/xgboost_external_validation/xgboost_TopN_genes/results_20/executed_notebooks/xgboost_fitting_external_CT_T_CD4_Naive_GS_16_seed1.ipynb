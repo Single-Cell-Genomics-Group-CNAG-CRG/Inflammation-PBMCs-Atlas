{
 "cells": [
  {
   "cell_type": "code",
   "execution_count": 1,
   "id": "e205d652",
   "metadata": {
    "editable": true,
    "execution": {
     "iopub.execute_input": "2025-05-15T16:01:46.410396Z",
     "iopub.status.busy": "2025-05-15T16:01:46.410193Z",
     "iopub.status.idle": "2025-05-15T16:01:46.413357Z",
     "shell.execute_reply": "2025-05-15T16:01:46.413046Z"
    },
    "papermill": {
     "duration": 0.012317,
     "end_time": "2025-05-15T16:01:46.414324",
     "exception": false,
     "start_time": "2025-05-15T16:01:46.402007",
     "status": "completed"
    },
    "slideshow": {
     "slide_type": ""
    },
    "tags": [
     "parameters"
    ]
   },
   "outputs": [],
   "source": [
    "CELL_TYPE = 'pDC'\n",
    "N_GENES: int = 20\n",
    "SEED = 'shap_studyID' #'disease_NOstudy' 'study_NOdisease' or 'int' or 'shap_studyID'\n",
    "TEST_SPLIT_IDX: int = 1 #[0,4]"
   ]
  },
  {
   "cell_type": "code",
   "execution_count": 2,
   "id": "45572b41",
   "metadata": {
    "execution": {
     "iopub.execute_input": "2025-05-15T16:01:46.427925Z",
     "iopub.status.busy": "2025-05-15T16:01:46.427676Z",
     "iopub.status.idle": "2025-05-15T16:01:46.429700Z",
     "shell.execute_reply": "2025-05-15T16:01:46.429402Z"
    },
    "papermill": {
     "duration": 0.009782,
     "end_time": "2025-05-15T16:01:46.430467",
     "exception": false,
     "start_time": "2025-05-15T16:01:46.420685",
     "status": "completed"
    },
    "tags": [
     "injected-parameters"
    ]
   },
   "outputs": [],
   "source": [
    "# Parameters\n",
    "CELL_TYPE = \"T_CD4_Naive\"\n",
    "SEED = 16\n",
    "TEST_SPLIT_IDX = 1\n"
   ]
  },
  {
   "cell_type": "code",
   "execution_count": 3,
   "id": "40e35b27",
   "metadata": {
    "execution": {
     "iopub.execute_input": "2025-05-15T16:01:46.463174Z",
     "iopub.status.busy": "2025-05-15T16:01:46.462953Z",
     "iopub.status.idle": "2025-05-15T16:01:46.464810Z",
     "shell.execute_reply": "2025-05-15T16:01:46.464518Z"
    },
    "papermill": {
     "duration": 0.019301,
     "end_time": "2025-05-15T16:01:46.466163",
     "exception": false,
     "start_time": "2025-05-15T16:01:46.446862",
     "status": "completed"
    },
    "tags": []
   },
   "outputs": [],
   "source": [
    "N_SPLITS: int = 5\n",
    "N_TRIALS: int = 50"
   ]
  },
  {
   "cell_type": "code",
   "execution_count": 4,
   "id": "e5a45de2",
   "metadata": {
    "execution": {
     "iopub.execute_input": "2025-05-15T16:01:46.480920Z",
     "iopub.status.busy": "2025-05-15T16:01:46.480688Z",
     "iopub.status.idle": "2025-05-15T16:01:52.908263Z",
     "shell.execute_reply": "2025-05-15T16:01:52.907809Z"
    },
    "papermill": {
     "duration": 6.437638,
     "end_time": "2025-05-15T16:01:52.909842",
     "exception": false,
     "start_time": "2025-05-15T16:01:46.472204",
     "status": "completed"
    },
    "tags": []
   },
   "outputs": [],
   "source": [
    "import os\n",
    "import sys\n",
    "from pyprojroot.here import here\n",
    "import pandas as pd\n",
    "import anndata as ad\n",
    "import numpy as np\n",
    "import math\n",
    "from sklearn.model_selection import StratifiedGroupKFold\n",
    "from sklearn.preprocessing import LabelEncoder\n",
    "from sklearn.metrics import f1_score\n",
    "import matplotlib.pyplot as plt\n",
    "import seaborn as sns\n",
    "from itertools import product\n",
    "from sklearn.metrics import balanced_accuracy_score, f1_score\n",
    "import optuna\n",
    "\n",
    "import joblib\n",
    "import pickle\n",
    "import datetime\n",
    "\n",
    "import collections\n",
    "\n",
    "import xgboost\n",
    "from sklearn.preprocessing import LabelEncoder\n",
    "\n",
    "import scipy.sparse as ssp\n",
    "import joblib\n",
    "\n",
    "from dotenv import load_dotenv"
   ]
  },
  {
   "cell_type": "code",
   "execution_count": 5,
   "id": "b3caae00",
   "metadata": {
    "execution": {
     "iopub.execute_input": "2025-05-15T16:01:52.947012Z",
     "iopub.status.busy": "2025-05-15T16:01:52.946555Z",
     "iopub.status.idle": "2025-05-15T16:01:52.955658Z",
     "shell.execute_reply": "2025-05-15T16:01:52.955360Z"
    },
    "papermill": {
     "duration": 0.028183,
     "end_time": "2025-05-15T16:01:52.956467",
     "exception": false,
     "start_time": "2025-05-15T16:01:52.928284",
     "status": "completed"
    },
    "tags": []
   },
   "outputs": [
    {
     "data": {
      "text/plain": [
       "True"
      ]
     },
     "execution_count": 5,
     "metadata": {},
     "output_type": "execute_result"
    }
   ],
   "source": [
    "load_dotenv()"
   ]
  },
  {
   "cell_type": "markdown",
   "id": "559bd782",
   "metadata": {
    "papermill": {
     "duration": 0.006756,
     "end_time": "2025-05-15T16:01:52.969070",
     "exception": false,
     "start_time": "2025-05-15T16:01:52.962314",
     "status": "completed"
    },
    "tags": []
   },
   "source": [
    "# LOAD DATASET"
   ]
  },
  {
   "cell_type": "code",
   "execution_count": 6,
   "id": "f8f35e6a",
   "metadata": {
    "execution": {
     "iopub.execute_input": "2025-05-15T16:01:52.981629Z",
     "iopub.status.busy": "2025-05-15T16:01:52.981358Z",
     "iopub.status.idle": "2025-05-15T16:01:53.508928Z",
     "shell.execute_reply": "2025-05-15T16:01:53.508438Z"
    },
    "papermill": {
     "duration": 0.535351,
     "end_time": "2025-05-15T16:01:53.510241",
     "exception": false,
     "start_time": "2025-05-15T16:01:52.974890",
     "status": "completed"
    },
    "tags": []
   },
   "outputs": [],
   "source": [
    "train_adata = ad.read_h5ad(\n",
    "    here(f'03_downstream_analysis/08_gene_importance/xgboost_external_validation/xgboost_TopN_genes/data_cellTypes/EXTERNAL_{CELL_TYPE}.filtered.log1p.h5ad')\n",
    ")"
   ]
  },
  {
   "cell_type": "code",
   "execution_count": 7,
   "id": "1cced573",
   "metadata": {
    "execution": {
     "iopub.execute_input": "2025-05-15T16:01:53.523457Z",
     "iopub.status.busy": "2025-05-15T16:01:53.523184Z",
     "iopub.status.idle": "2025-05-15T16:01:53.551020Z",
     "shell.execute_reply": "2025-05-15T16:01:53.550704Z"
    },
    "papermill": {
     "duration": 0.035495,
     "end_time": "2025-05-15T16:01:53.551871",
     "exception": false,
     "start_time": "2025-05-15T16:01:53.516376",
     "status": "completed"
    },
    "tags": []
   },
   "outputs": [
    {
     "name": "stdout",
     "output_type": "stream",
     "text": [
      "['ENSG00000177663' 'ENSG00000100100' 'ENSG00000189283' 'ENSG00000277734'\n",
      " 'ENSG00000119655' 'ENSG00000197540' 'ENSG00000228474' 'ENSG00000205542'\n",
      " 'ENSG00000127314' 'ENSG00000158869' 'ENSG00000110324' 'ENSG00000205220'\n",
      " 'ENSG00000198832' 'ENSG00000231389' 'ENSG00000204642' 'ENSG00000142166'\n",
      " 'ENSG00000132965' 'ENSG00000068796' 'ENSG00000002586' 'ENSG00000105373'\n",
      " 'ENSG00000169564' 'ENSG00000244687' 'ENSG00000127184' 'ENSG00000172531'\n",
      " 'ENSG00000159128' 'ENSG00000264364' 'ENSG00000005339' 'ENSG00000152700'\n",
      " 'ENSG00000100300' 'ENSG00000160932' 'ENSG00000239697' 'ENSG00000143110'\n",
      " 'ENSG00000111348' 'ENSG00000121858' 'ENSG00000118971' 'ENSG00000011600'\n",
      " 'ENSG00000091409' 'ENSG00000072958' 'ENSG00000271503' 'ENSG00000227507'\n",
      " 'ENSG00000178719' 'ENSG00000168394' 'ENSG00000142634' 'ENSG00000100664'\n",
      " 'ENSG00000115738' 'ENSG00000185950' 'ENSG00000149311' 'ENSG00000033800'\n",
      " 'ENSG00000135404' 'ENSG00000082074' 'ENSG00000133639' 'ENSG00000167664'\n",
      " 'ENSG00000197329' 'ENSG00000204472' 'ENSG00000155368' 'ENSG00000075624'\n",
      " 'ENSG00000008517' 'ENSG00000120742' 'ENSG00000143575' 'ENSG00000122359'\n",
      " 'ENSG00000215788' 'ENSG00000110395' 'ENSG00000152778' 'ENSG00000066294'\n",
      " 'ENSG00000090863' 'ENSG00000100911' 'ENSG00000118640' 'ENSG00000132432'\n",
      " 'ENSG00000126214' 'ENSG00000160710' 'ENSG00000166747' 'ENSG00000100393'\n",
      " 'ENSG00000182866' 'ENSG00000162434' 'ENSG00000117450' 'ENSG00000139192'\n",
      " 'ENSG00000182287' 'ENSG00000135968' 'ENSG00000166710' 'ENSG00000085265'\n",
      " 'ENSG00000157514' 'ENSG00000152234' 'ENSG00000160712' 'ENSG00000108518'\n",
      " 'ENSG00000106803' 'ENSG00000101695' 'ENSG00000142089' 'ENSG00000175203'\n",
      " 'ENSG00000104998' 'ENSG00000152219' 'ENSG00000172183' 'ENSG00000179295'\n",
      " 'ENSG00000196126' 'ENSG00000170296' 'ENSG00000104660' 'ENSG00000147443'\n",
      " 'ENSG00000100097' 'ENSG00000198520' 'ENSG00000117984' 'ENSG00000125743'\n",
      " 'ENSG00000204267']\n"
     ]
    }
   ],
   "source": [
    "if SEED != 'all':\n",
    "    gene_subset = np.load(here(f'03_downstream_analysis/08_gene_importance/xgboost_external_validation/shap_gene_selection/gene_subsets_{N_GENES}/{CELL_TYPE}_{SEED}.npy'), allow_pickle=True)\n",
    "    train_adata = train_adata[:,gene_subset]\n",
    "    print(gene_subset)\n",
    "elif SEED == 'all':\n",
    "    print('Using all genes')\n",
    "else:\n",
    "    raise ValueError()"
   ]
  },
  {
   "cell_type": "code",
   "execution_count": 8,
   "id": "a5a7c5ae",
   "metadata": {
    "execution": {
     "iopub.execute_input": "2025-05-15T16:01:53.564238Z",
     "iopub.status.busy": "2025-05-15T16:01:53.563987Z",
     "iopub.status.idle": "2025-05-15T16:01:53.566901Z",
     "shell.execute_reply": "2025-05-15T16:01:53.566609Z"
    },
    "papermill": {
     "duration": 0.01027,
     "end_time": "2025-05-15T16:01:53.567697",
     "exception": false,
     "start_time": "2025-05-15T16:01:53.557427",
     "status": "completed"
    },
    "tags": []
   },
   "outputs": [
    {
     "data": {
      "text/plain": [
       "(85497, 101)"
      ]
     },
     "execution_count": 8,
     "metadata": {},
     "output_type": "execute_result"
    }
   ],
   "source": [
    "train_adata.shape"
   ]
  },
  {
   "cell_type": "code",
   "execution_count": 9,
   "id": "28a41d86",
   "metadata": {
    "execution": {
     "iopub.execute_input": "2025-05-15T16:01:53.583110Z",
     "iopub.status.busy": "2025-05-15T16:01:53.582856Z",
     "iopub.status.idle": "2025-05-15T16:01:53.586590Z",
     "shell.execute_reply": "2025-05-15T16:01:53.586296Z"
    },
    "papermill": {
     "duration": 0.013158,
     "end_time": "2025-05-15T16:01:53.587362",
     "exception": false,
     "start_time": "2025-05-15T16:01:53.574204",
     "status": "completed"
    },
    "tags": []
   },
   "outputs": [
    {
     "data": {
      "text/plain": [
       "['RA', 'COVID', 'healthy', 'HIV', 'cirrhosis', 'CD', 'SLE', 'sepsis']\n",
       "Categories (8, object): ['CD', 'COVID', 'HIV', 'RA', 'SLE', 'cirrhosis', 'healthy', 'sepsis']"
      ]
     },
     "execution_count": 9,
     "metadata": {},
     "output_type": "execute_result"
    }
   ],
   "source": [
    "train_adata.obs.disease.unique()"
   ]
  },
  {
   "cell_type": "code",
   "execution_count": 10,
   "id": "1b747eb5",
   "metadata": {
    "execution": {
     "iopub.execute_input": "2025-05-15T16:01:53.600564Z",
     "iopub.status.busy": "2025-05-15T16:01:53.600307Z",
     "iopub.status.idle": "2025-05-15T16:01:53.604068Z",
     "shell.execute_reply": "2025-05-15T16:01:53.603784Z"
    },
    "papermill": {
     "duration": 0.011818,
     "end_time": "2025-05-15T16:01:53.604878",
     "exception": false,
     "start_time": "2025-05-15T16:01:53.593060",
     "status": "completed"
    },
    "tags": []
   },
   "outputs": [
    {
     "data": {
      "text/plain": [
       "['SCGT00val_I036016_T0', 'SCGT00val_I036019_T0', 'SCGT00val_I036023_T0', 'SCGT00val_I036015_T0', 'SCGT00val_I036028_T0', ..., '10XGenomics_10XHC2_T0', '10XGenomics_10XHC3_T0', '10XGenomics_10XHC5_T0', '10XGenomics_10XHC7_T0', '10XGenomics_10XHC8_T0']\n",
       "Length: 86\n",
       "Categories (86, object): ['10XGenomics_10XHC1_T0', '10XGenomics_10XHC2_T0', '10XGenomics_10XHC3_T0', '10XGenomics_10XHC4_T0', ..., 'Savage2021_BRISL6_T0', 'Savage2021_BRISL7_T0', 'Savage2021_PIDA_T0', 'Savage2021_PIDB_T0']"
      ]
     },
     "execution_count": 10,
     "metadata": {},
     "output_type": "execute_result"
    }
   ],
   "source": [
    "train_adata.obs.sampleID.unique()"
   ]
  },
  {
   "cell_type": "code",
   "execution_count": 11,
   "id": "07468b90",
   "metadata": {
    "execution": {
     "iopub.execute_input": "2025-05-15T16:01:53.634741Z",
     "iopub.status.busy": "2025-05-15T16:01:53.634492Z",
     "iopub.status.idle": "2025-05-15T16:01:53.841610Z",
     "shell.execute_reply": "2025-05-15T16:01:53.841194Z"
    },
    "papermill": {
     "duration": 0.214375,
     "end_time": "2025-05-15T16:01:53.842521",
     "exception": false,
     "start_time": "2025-05-15T16:01:53.628146",
     "status": "completed"
    },
    "tags": []
   },
   "outputs": [],
   "source": [
    "all_idxs = np.arange(train_adata.obs.shape[0])\n",
    "left_out_splits = [s[1] for s in StratifiedGroupKFold(n_splits=N_SPLITS).split(all_idxs, train_adata.obs.disease, train_adata.obs.sampleID)]"
   ]
  },
  {
   "cell_type": "code",
   "execution_count": 12,
   "id": "664fe515",
   "metadata": {
    "execution": {
     "iopub.execute_input": "2025-05-15T16:01:53.855202Z",
     "iopub.status.busy": "2025-05-15T16:01:53.854945Z",
     "iopub.status.idle": "2025-05-15T16:01:53.858152Z",
     "shell.execute_reply": "2025-05-15T16:01:53.857867Z"
    },
    "papermill": {
     "duration": 0.010568,
     "end_time": "2025-05-15T16:01:53.858954",
     "exception": false,
     "start_time": "2025-05-15T16:01:53.848386",
     "status": "completed"
    },
    "tags": []
   },
   "outputs": [
    {
     "data": {
      "text/plain": [
       "([0, 3, 4], 2, 1)"
      ]
     },
     "execution_count": 12,
     "metadata": {},
     "output_type": "execute_result"
    }
   ],
   "source": [
    "TRAIN_SPLIT_IDXS = [0,1,2,3,4]\n",
    "VAL_SPLIT_IDX = (TEST_SPLIT_IDX + 1) % 5\n",
    "TRAIN_SPLIT_IDXS.remove(TEST_SPLIT_IDX)\n",
    "TRAIN_SPLIT_IDXS.remove(VAL_SPLIT_IDX)\n",
    "TRAIN_SPLIT_IDXS, VAL_SPLIT_IDX, TEST_SPLIT_IDX"
   ]
  },
  {
   "cell_type": "code",
   "execution_count": 13,
   "id": "4a46d25a",
   "metadata": {
    "execution": {
     "iopub.execute_input": "2025-05-15T16:01:53.872459Z",
     "iopub.status.busy": "2025-05-15T16:01:53.872221Z",
     "iopub.status.idle": "2025-05-15T16:01:53.874469Z",
     "shell.execute_reply": "2025-05-15T16:01:53.874183Z"
    },
    "papermill": {
     "duration": 0.010134,
     "end_time": "2025-05-15T16:01:53.875244",
     "exception": false,
     "start_time": "2025-05-15T16:01:53.865110",
     "status": "completed"
    },
    "tags": []
   },
   "outputs": [],
   "source": [
    "train_idxs = np.concatenate([left_out_splits[idx] for idx in TRAIN_SPLIT_IDXS])\n",
    "val_idxs = left_out_splits[VAL_SPLIT_IDX]\n",
    "test_idxs = left_out_splits[TEST_SPLIT_IDX]"
   ]
  },
  {
   "cell_type": "markdown",
   "id": "fdb91d09",
   "metadata": {
    "papermill": {
     "duration": 0.005982,
     "end_time": "2025-05-15T16:01:53.887207",
     "exception": false,
     "start_time": "2025-05-15T16:01:53.881225",
     "status": "completed"
    },
    "tags": []
   },
   "source": [
    "### SUBSET DATASET INTO TRAIN/TEST/VAL SPLITS"
   ]
  },
  {
   "cell_type": "code",
   "execution_count": 14,
   "id": "94d92738",
   "metadata": {
    "execution": {
     "iopub.execute_input": "2025-05-15T16:01:53.899974Z",
     "iopub.status.busy": "2025-05-15T16:01:53.899740Z",
     "iopub.status.idle": "2025-05-15T16:01:54.119885Z",
     "shell.execute_reply": "2025-05-15T16:01:54.119495Z"
    },
    "papermill": {
     "duration": 0.227548,
     "end_time": "2025-05-15T16:01:54.120728",
     "exception": false,
     "start_time": "2025-05-15T16:01:53.893180",
     "status": "completed"
    },
    "tags": []
   },
   "outputs": [
    {
     "data": {
      "text/plain": [
       "((51828, 101), (17016, 101), (16653, 101))"
      ]
     },
     "execution_count": 14,
     "metadata": {},
     "output_type": "execute_result"
    }
   ],
   "source": [
    "X_train = train_adata.X[train_idxs]\n",
    "X_test = train_adata.X[test_idxs]\n",
    "X_val = train_adata.X[val_idxs]\n",
    "X_train.shape, X_test.shape, X_val.shape"
   ]
  },
  {
   "cell_type": "code",
   "execution_count": 15,
   "id": "cb7d81fd",
   "metadata": {
    "execution": {
     "iopub.execute_input": "2025-05-15T16:01:54.134751Z",
     "iopub.status.busy": "2025-05-15T16:01:54.134489Z",
     "iopub.status.idle": "2025-05-15T16:01:54.146593Z",
     "shell.execute_reply": "2025-05-15T16:01:54.146229Z"
    },
    "papermill": {
     "duration": 0.019986,
     "end_time": "2025-05-15T16:01:54.147383",
     "exception": false,
     "start_time": "2025-05-15T16:01:54.127397",
     "status": "completed"
    },
    "tags": []
   },
   "outputs": [
    {
     "data": {
      "text/plain": [
       "((51828,), (17016,), (16653,))"
      ]
     },
     "execution_count": 15,
     "metadata": {},
     "output_type": "execute_result"
    }
   ],
   "source": [
    "y_train = train_adata.obs.iloc[train_idxs].disease.values.astype(str)\n",
    "y_test = train_adata.obs.iloc[test_idxs].disease.values.astype(str)\n",
    "y_val = train_adata.obs.iloc[val_idxs].disease.values.astype(str)\n",
    "y_train.shape, y_test.shape, y_val.shape"
   ]
  },
  {
   "cell_type": "code",
   "execution_count": 16,
   "id": "97f1eb4a",
   "metadata": {
    "execution": {
     "iopub.execute_input": "2025-05-15T16:01:54.160113Z",
     "iopub.status.busy": "2025-05-15T16:01:54.159852Z",
     "iopub.status.idle": "2025-05-15T16:01:54.179728Z",
     "shell.execute_reply": "2025-05-15T16:01:54.179383Z"
    },
    "papermill": {
     "duration": 0.027298,
     "end_time": "2025-05-15T16:01:54.180582",
     "exception": false,
     "start_time": "2025-05-15T16:01:54.153284",
     "status": "completed"
    },
    "tags": []
   },
   "outputs": [],
   "source": [
    "lenc = LabelEncoder()\n",
    "y_train_enc = lenc.fit_transform(y_train)\n",
    "y_val_enc = lenc.transform(y_val)\n",
    "y_test_enc = lenc.transform(y_test)"
   ]
  },
  {
   "cell_type": "markdown",
   "id": "6f9316a1",
   "metadata": {
    "papermill": {
     "duration": 0.00579,
     "end_time": "2025-05-15T16:01:54.192436",
     "exception": false,
     "start_time": "2025-05-15T16:01:54.186646",
     "status": "completed"
    },
    "tags": []
   },
   "source": [
    "### GENERATE F1 "
   ]
  },
  {
   "cell_type": "code",
   "execution_count": 17,
   "id": "552f8974",
   "metadata": {
    "execution": {
     "iopub.execute_input": "2025-05-15T16:01:54.205596Z",
     "iopub.status.busy": "2025-05-15T16:01:54.205325Z",
     "iopub.status.idle": "2025-05-15T16:01:54.207551Z",
     "shell.execute_reply": "2025-05-15T16:01:54.207252Z"
    },
    "papermill": {
     "duration": 0.009939,
     "end_time": "2025-05-15T16:01:54.208332",
     "exception": false,
     "start_time": "2025-05-15T16:01:54.198393",
     "status": "completed"
    },
    "tags": []
   },
   "outputs": [],
   "source": [
    "def custom_f1_score(y_true, y_pred):\n",
    "    return -f1_score(y_true, y_pred.argmax(1), average='weighted')"
   ]
  },
  {
   "cell_type": "code",
   "execution_count": 18,
   "id": "790f989f",
   "metadata": {
    "execution": {
     "iopub.execute_input": "2025-05-15T16:01:54.220694Z",
     "iopub.status.busy": "2025-05-15T16:01:54.220429Z",
     "iopub.status.idle": "2025-05-15T16:01:54.224021Z",
     "shell.execute_reply": "2025-05-15T16:01:54.223734Z"
    },
    "papermill": {
     "duration": 0.0114,
     "end_time": "2025-05-15T16:01:54.225364",
     "exception": false,
     "start_time": "2025-05-15T16:01:54.213964",
     "status": "completed"
    },
    "tags": []
   },
   "outputs": [],
   "source": [
    "eval_metric=custom_f1_score\n",
    "eval_metric_name='custom_f1_score'\n",
    "\n",
    "def objective(trial):\n",
    "    params = {\n",
    "        'n_estimators': 1500,\n",
    "        'max_depth': trial.suggest_int('max_depth', 3, 20),\n",
    "        'min_child_weight': trial.suggest_int('min_child_weight', 1, 250),\n",
    "        'subsample': trial.suggest_float('subsample', 0.1, 1.0),\n",
    "        'colsample_bynode': trial.suggest_float('colsample_bynode', 0.1, 1.0),\n",
    "        'learning_rate': trial.suggest_float('learning_rate', 1e-3, 5e-1, log=True),\n",
    "    }\n",
    "    pruning_callback = optuna.integration.XGBoostPruningCallback(trial, f'validation_0-{eval_metric_name}')\n",
    "    es_callback = xgboost.callback.EarlyStopping(20, min_delta=0.001)\n",
    "    xgb = xgboost.XGBClassifier(\n",
    "        eval_metric=eval_metric,\n",
    "        callbacks=[pruning_callback, es_callback],\n",
    "        n_jobs=5,\n",
    "        **params\n",
    "    )\n",
    "    xgb.fit(\n",
    "        X_train, \n",
    "        y_train_enc, \n",
    "        verbose=0,\n",
    "        eval_set=[(X_val, y_val_enc)],\n",
    "    )\n",
    "    trial.set_user_attr('best_iteration', xgb.best_iteration)\n",
    "\n",
    "    return xgb.best_score"
   ]
  },
  {
   "cell_type": "code",
   "execution_count": 19,
   "id": "81fc0e5e",
   "metadata": {
    "execution": {
     "iopub.execute_input": "2025-05-15T16:01:54.240776Z",
     "iopub.status.busy": "2025-05-15T16:01:54.240630Z",
     "iopub.status.idle": "2025-05-15T16:09:49.784382Z",
     "shell.execute_reply": "2025-05-15T16:09:49.783811Z"
    },
    "papermill": {
     "duration": 475.553362,
     "end_time": "2025-05-15T16:09:49.785615",
     "exception": false,
     "start_time": "2025-05-15T16:01:54.232253",
     "status": "completed"
    },
    "scrolled": true,
    "tags": []
   },
   "outputs": [
    {
     "name": "stderr",
     "output_type": "stream",
     "text": [
      "[I 2025-05-15 18:01:54,242] A new study created in memory with name: no-name-0c584604-d49a-4472-a397-699a1c3ffe91\n"
     ]
    },
    {
     "name": "stderr",
     "output_type": "stream",
     "text": [
      "[I 2025-05-15 18:01:58,912] Trial 0 finished with value: -0.655455 and parameters: {'max_depth': 9, 'min_child_weight': 238, 'subsample': 0.7587945476302645, 'colsample_bynode': 0.6387926357773329, 'learning_rate': 0.0026368755339723046}. Best is trial 0 with value: -0.655455.\n"
     ]
    },
    {
     "name": "stderr",
     "output_type": "stream",
     "text": [
      "[I 2025-05-15 18:02:32,838] Trial 1 finished with value: -0.72947 and parameters: {'max_depth': 5, 'min_child_weight': 15, 'subsample': 0.8795585311974417, 'colsample_bynode': 0.6410035105688879, 'learning_rate': 0.08148293210105287}. Best is trial 1 with value: -0.72947.\n"
     ]
    },
    {
     "name": "stderr",
     "output_type": "stream",
     "text": [
      "[I 2025-05-15 18:02:40,786] Trial 2 finished with value: -0.640828 and parameters: {'max_depth': 3, 'min_child_weight': 243, 'subsample': 0.8491983767203796, 'colsample_bynode': 0.29110519961044856, 'learning_rate': 0.003095566460242371}. Best is trial 1 with value: -0.72947.\n"
     ]
    },
    {
     "name": "stderr",
     "output_type": "stream",
     "text": [
      "[I 2025-05-15 18:02:54,628] Trial 3 finished with value: -0.670288 and parameters: {'max_depth': 6, 'min_child_weight': 77, 'subsample': 0.5722807884690141, 'colsample_bynode': 0.48875051677790415, 'learning_rate': 0.006109683510122491}. Best is trial 1 with value: -0.72947.\n"
     ]
    },
    {
     "name": "stderr",
     "output_type": "stream",
     "text": [
      "[I 2025-05-15 18:03:45,936] Trial 4 finished with value: -0.711514 and parameters: {'max_depth': 14, 'min_child_weight': 35, 'subsample': 0.3629301836816964, 'colsample_bynode': 0.4297256589643226, 'learning_rate': 0.01701841881702917}. Best is trial 1 with value: -0.72947.\n"
     ]
    },
    {
     "name": "stderr",
     "output_type": "stream",
     "text": [
      "[I 2025-05-15 18:03:53,079] Trial 5 pruned. Trial was pruned at iteration 28.\n"
     ]
    },
    {
     "name": "stderr",
     "output_type": "stream",
     "text": [
      "[I 2025-05-15 18:03:53,576] Trial 6 pruned. Trial was pruned at iteration 0.\n"
     ]
    },
    {
     "name": "stderr",
     "output_type": "stream",
     "text": [
      "[I 2025-05-15 18:03:54,016] Trial 7 pruned. Trial was pruned at iteration 0.\n"
     ]
    },
    {
     "name": "stderr",
     "output_type": "stream",
     "text": [
      "[I 2025-05-15 18:03:54,427] Trial 8 pruned. Trial was pruned at iteration 0.\n"
     ]
    },
    {
     "name": "stderr",
     "output_type": "stream",
     "text": [
      "[I 2025-05-15 18:03:59,629] Trial 9 pruned. Trial was pruned at iteration 22.\n"
     ]
    },
    {
     "name": "stderr",
     "output_type": "stream",
     "text": [
      "[I 2025-05-15 18:04:32,798] Trial 10 finished with value: -0.730946 and parameters: {'max_depth': 9, 'min_child_weight': 2, 'subsample': 0.9725833997090791, 'colsample_bynode': 0.11616568805333755, 'learning_rate': 0.17780618353487967}. Best is trial 10 with value: -0.730946.\n"
     ]
    },
    {
     "name": "stderr",
     "output_type": "stream",
     "text": [
      "[I 2025-05-15 18:05:18,241] Trial 11 finished with value: -0.7346 and parameters: {'max_depth': 9, 'min_child_weight': 4, 'subsample': 0.9818290990185045, 'colsample_bynode': 0.17702656156719, 'learning_rate': 0.11568531411766632}. Best is trial 11 with value: -0.7346.\n"
     ]
    },
    {
     "name": "stderr",
     "output_type": "stream",
     "text": [
      "[I 2025-05-15 18:06:36,722] Trial 12 finished with value: -0.735987 and parameters: {'max_depth': 9, 'min_child_weight': 2, 'subsample': 0.9762317723681219, 'colsample_bynode': 0.1303670507685675, 'learning_rate': 0.14353293664472047}. Best is trial 12 with value: -0.735987.\n"
     ]
    },
    {
     "name": "stderr",
     "output_type": "stream",
     "text": [
      "[I 2025-05-15 18:06:37,305] Trial 13 pruned. Trial was pruned at iteration 0.\n"
     ]
    },
    {
     "name": "stderr",
     "output_type": "stream",
     "text": [
      "[I 2025-05-15 18:06:37,733] Trial 14 pruned. Trial was pruned at iteration 0.\n"
     ]
    },
    {
     "name": "stderr",
     "output_type": "stream",
     "text": [
      "[I 2025-05-15 18:06:58,912] Trial 15 finished with value: -0.730843 and parameters: {'max_depth': 20, 'min_child_weight': 1, 'subsample': 0.7300199336663715, 'colsample_bynode': 0.2687793682900305, 'learning_rate': 0.46839194821741}. Best is trial 12 with value: -0.735987.\n"
     ]
    },
    {
     "name": "stderr",
     "output_type": "stream",
     "text": [
      "[I 2025-05-15 18:06:59,376] Trial 16 pruned. Trial was pruned at iteration 0.\n"
     ]
    },
    {
     "name": "stderr",
     "output_type": "stream",
     "text": [
      "[I 2025-05-15 18:06:59,788] Trial 17 pruned. Trial was pruned at iteration 0.\n"
     ]
    },
    {
     "name": "stderr",
     "output_type": "stream",
     "text": [
      "[I 2025-05-15 18:07:00,292] Trial 18 pruned. Trial was pruned at iteration 0.\n"
     ]
    },
    {
     "name": "stderr",
     "output_type": "stream",
     "text": [
      "[I 2025-05-15 18:07:00,764] Trial 19 pruned. Trial was pruned at iteration 0.\n"
     ]
    },
    {
     "name": "stderr",
     "output_type": "stream",
     "text": [
      "[I 2025-05-15 18:07:20,945] Trial 20 finished with value: -0.740252 and parameters: {'max_depth': 7, 'min_child_weight': 23, 'subsample': 0.6483339605894612, 'colsample_bynode': 0.46764670662958435, 'learning_rate': 0.256275891626007}. Best is trial 20 with value: -0.740252.\n"
     ]
    },
    {
     "name": "stderr",
     "output_type": "stream",
     "text": [
      "[I 2025-05-15 18:07:21,386] Trial 21 pruned. Trial was pruned at iteration 0.\n"
     ]
    },
    {
     "name": "stderr",
     "output_type": "stream",
     "text": [
      "[I 2025-05-15 18:07:21,853] Trial 22 pruned. Trial was pruned at iteration 0.\n"
     ]
    },
    {
     "name": "stderr",
     "output_type": "stream",
     "text": [
      "[I 2025-05-15 18:07:22,591] Trial 23 pruned. Trial was pruned at iteration 1.\n"
     ]
    },
    {
     "name": "stderr",
     "output_type": "stream",
     "text": [
      "[I 2025-05-15 18:07:23,056] Trial 24 pruned. Trial was pruned at iteration 0.\n"
     ]
    },
    {
     "name": "stderr",
     "output_type": "stream",
     "text": [
      "[I 2025-05-15 18:07:23,611] Trial 25 pruned. Trial was pruned at iteration 0.\n"
     ]
    },
    {
     "name": "stderr",
     "output_type": "stream",
     "text": [
      "[I 2025-05-15 18:07:43,375] Trial 26 finished with value: -0.740815 and parameters: {'max_depth': 10, 'min_child_weight': 23, 'subsample': 0.4861251112150538, 'colsample_bynode': 0.8348817412094831, 'learning_rate': 0.2382945561669217}. Best is trial 26 with value: -0.740815.\n"
     ]
    },
    {
     "name": "stderr",
     "output_type": "stream",
     "text": [
      "[I 2025-05-15 18:07:43,850] Trial 27 pruned. Trial was pruned at iteration 0.\n"
     ]
    },
    {
     "name": "stderr",
     "output_type": "stream",
     "text": [
      "[I 2025-05-15 18:07:59,907] Trial 28 finished with value: -0.743515 and parameters: {'max_depth': 10, 'min_child_weight': 28, 'subsample': 0.49338881881617835, 'colsample_bynode': 0.855915786492984, 'learning_rate': 0.49591221912839645}. Best is trial 28 with value: -0.743515.\n"
     ]
    },
    {
     "name": "stderr",
     "output_type": "stream",
     "text": [
      "[I 2025-05-15 18:08:00,420] Trial 29 pruned. Trial was pruned at iteration 0.\n"
     ]
    },
    {
     "name": "stderr",
     "output_type": "stream",
     "text": [
      "[I 2025-05-15 18:08:00,951] Trial 30 pruned. Trial was pruned at iteration 0.\n"
     ]
    },
    {
     "name": "stderr",
     "output_type": "stream",
     "text": [
      "[I 2025-05-15 18:08:20,793] Trial 31 finished with value: -0.73966 and parameters: {'max_depth': 10, 'min_child_weight': 27, 'subsample': 0.31486187994526404, 'colsample_bynode': 0.9758972276194435, 'learning_rate': 0.19299776063514315}. Best is trial 28 with value: -0.743515.\n"
     ]
    },
    {
     "name": "stderr",
     "output_type": "stream",
     "text": [
      "[I 2025-05-15 18:08:21,390] Trial 32 pruned. Trial was pruned at iteration 0.\n"
     ]
    },
    {
     "name": "stderr",
     "output_type": "stream",
     "text": [
      "[I 2025-05-15 18:08:21,918] Trial 33 pruned. Trial was pruned at iteration 0.\n"
     ]
    },
    {
     "name": "stderr",
     "output_type": "stream",
     "text": [
      "[I 2025-05-15 18:08:22,430] Trial 34 pruned. Trial was pruned at iteration 0.\n"
     ]
    },
    {
     "name": "stderr",
     "output_type": "stream",
     "text": [
      "[I 2025-05-15 18:08:23,244] Trial 35 pruned. Trial was pruned at iteration 1.\n"
     ]
    },
    {
     "name": "stderr",
     "output_type": "stream",
     "text": [
      "[I 2025-05-15 18:08:23,784] Trial 36 pruned. Trial was pruned at iteration 0.\n"
     ]
    },
    {
     "name": "stderr",
     "output_type": "stream",
     "text": [
      "[I 2025-05-15 18:08:24,250] Trial 37 pruned. Trial was pruned at iteration 0.\n"
     ]
    },
    {
     "name": "stderr",
     "output_type": "stream",
     "text": [
      "[I 2025-05-15 18:08:39,241] Trial 38 finished with value: -0.742391 and parameters: {'max_depth': 8, 'min_child_weight': 33, 'subsample': 0.5308665740405903, 'colsample_bynode': 0.6609897929039068, 'learning_rate': 0.3601685613637409}. Best is trial 28 with value: -0.743515.\n"
     ]
    },
    {
     "name": "stderr",
     "output_type": "stream",
     "text": [
      "[I 2025-05-15 18:08:39,743] Trial 39 pruned. Trial was pruned at iteration 0.\n"
     ]
    },
    {
     "name": "stderr",
     "output_type": "stream",
     "text": [
      "[I 2025-05-15 18:08:40,484] Trial 40 pruned. Trial was pruned at iteration 1.\n"
     ]
    },
    {
     "name": "stderr",
     "output_type": "stream",
     "text": [
      "[I 2025-05-15 18:08:57,621] Trial 41 finished with value: -0.740455 and parameters: {'max_depth': 10, 'min_child_weight': 27, 'subsample': 0.6118184418203193, 'colsample_bynode': 0.7683941468074567, 'learning_rate': 0.38276882570529347}. Best is trial 28 with value: -0.743515.\n"
     ]
    },
    {
     "name": "stderr",
     "output_type": "stream",
     "text": [
      "[I 2025-05-15 18:09:16,173] Trial 42 finished with value: -0.739273 and parameters: {'max_depth': 8, 'min_child_weight': 18, 'subsample': 0.6090460138708557, 'colsample_bynode': 0.7633192950629205, 'learning_rate': 0.3375339211556179}. Best is trial 28 with value: -0.743515.\n"
     ]
    },
    {
     "name": "stderr",
     "output_type": "stream",
     "text": [
      "[I 2025-05-15 18:09:31,892] Trial 43 finished with value: -0.742499 and parameters: {'max_depth': 13, 'min_child_weight': 34, 'subsample': 0.5295576979868166, 'colsample_bynode': 0.6527513766840657, 'learning_rate': 0.3756547342303748}. Best is trial 28 with value: -0.743515.\n"
     ]
    },
    {
     "name": "stderr",
     "output_type": "stream",
     "text": [
      "[I 2025-05-15 18:09:45,317] Trial 44 finished with value: -0.740466 and parameters: {'max_depth': 13, 'min_child_weight': 42, 'subsample': 0.5247889260256854, 'colsample_bynode': 0.6697447263405624, 'learning_rate': 0.40986757556876513}. Best is trial 28 with value: -0.743515.\n"
     ]
    },
    {
     "name": "stderr",
     "output_type": "stream",
     "text": [
      "[I 2025-05-15 18:09:45,854] Trial 45 pruned. Trial was pruned at iteration 0.\n"
     ]
    },
    {
     "name": "stderr",
     "output_type": "stream",
     "text": [
      "[I 2025-05-15 18:09:46,357] Trial 46 pruned. Trial was pruned at iteration 0.\n"
     ]
    },
    {
     "name": "stderr",
     "output_type": "stream",
     "text": [
      "[I 2025-05-15 18:09:46,933] Trial 47 pruned. Trial was pruned at iteration 0.\n"
     ]
    },
    {
     "name": "stderr",
     "output_type": "stream",
     "text": [
      "[I 2025-05-15 18:09:47,417] Trial 48 pruned. Trial was pruned at iteration 0.\n"
     ]
    },
    {
     "name": "stderr",
     "output_type": "stream",
     "text": [
      "[I 2025-05-15 18:09:49,659] Trial 49 pruned. Trial was pruned at iteration 5.\n"
     ]
    }
   ],
   "source": [
    "sampler = optuna.samplers.TPESampler(seed=42)\n",
    "study = optuna.create_study(direction='minimize', sampler=sampler)\n",
    "study.optimize(objective, n_trials=N_TRIALS, gc_after_trial=True)"
   ]
  },
  {
   "cell_type": "code",
   "execution_count": 20,
   "id": "fca96337",
   "metadata": {
    "execution": {
     "iopub.execute_input": "2025-05-15T16:09:49.808005Z",
     "iopub.status.busy": "2025-05-15T16:09:49.807644Z",
     "iopub.status.idle": "2025-05-15T16:09:49.833951Z",
     "shell.execute_reply": "2025-05-15T16:09:49.833609Z"
    },
    "papermill": {
     "duration": 0.037534,
     "end_time": "2025-05-15T16:09:49.834942",
     "exception": false,
     "start_time": "2025-05-15T16:09:49.797408",
     "status": "completed"
    },
    "tags": []
   },
   "outputs": [
    {
     "data": {
      "text/plain": [
       "['/scratch_isilon/groups/singlecell/shared/projects/Inflammation-PBMCs-Atlas/03_downstream_analysis/08_gene_importance/xgboost_external_validation/xgboost_TopN_genes/results_20/study/T_CD4_Naive_16_1_xgboost.pkl']"
      ]
     },
     "execution_count": 20,
     "metadata": {},
     "output_type": "execute_result"
    }
   ],
   "source": [
    "out_dir = here(f'03_downstream_analysis/08_gene_importance/xgboost_external_validation/xgboost_TopN_genes/results_{N_GENES}/study')\n",
    "\n",
    "if not os.path.exists(out_dir):\n",
    "    os.makedirs(out_dir)\n",
    "    \n",
    "joblib.dump(study,os.path.join(out_dir, f'{CELL_TYPE}_{SEED}_{TEST_SPLIT_IDX}_xgboost.pkl'))"
   ]
  },
  {
   "cell_type": "code",
   "execution_count": 21,
   "id": "4bdf00c1",
   "metadata": {
    "execution": {
     "iopub.execute_input": "2025-05-15T16:09:49.885043Z",
     "iopub.status.busy": "2025-05-15T16:09:49.884558Z",
     "iopub.status.idle": "2025-05-15T16:09:57.378766Z",
     "shell.execute_reply": "2025-05-15T16:09:57.378336Z"
    },
    "papermill": {
     "duration": 7.508615,
     "end_time": "2025-05-15T16:09:57.380453",
     "exception": false,
     "start_time": "2025-05-15T16:09:49.871838",
     "status": "completed"
    },
    "tags": []
   },
   "outputs": [
    {
     "data": {
      "text/html": [
       "<style>#sk-container-id-1 {\n",
       "  /* Definition of color scheme common for light and dark mode */\n",
       "  --sklearn-color-text: black;\n",
       "  --sklearn-color-line: gray;\n",
       "  /* Definition of color scheme for unfitted estimators */\n",
       "  --sklearn-color-unfitted-level-0: #fff5e6;\n",
       "  --sklearn-color-unfitted-level-1: #f6e4d2;\n",
       "  --sklearn-color-unfitted-level-2: #ffe0b3;\n",
       "  --sklearn-color-unfitted-level-3: chocolate;\n",
       "  /* Definition of color scheme for fitted estimators */\n",
       "  --sklearn-color-fitted-level-0: #f0f8ff;\n",
       "  --sklearn-color-fitted-level-1: #d4ebff;\n",
       "  --sklearn-color-fitted-level-2: #b3dbfd;\n",
       "  --sklearn-color-fitted-level-3: cornflowerblue;\n",
       "\n",
       "  /* Specific color for light theme */\n",
       "  --sklearn-color-text-on-default-background: var(--sg-text-color, var(--theme-code-foreground, var(--jp-content-font-color1, black)));\n",
       "  --sklearn-color-background: var(--sg-background-color, var(--theme-background, var(--jp-layout-color0, white)));\n",
       "  --sklearn-color-border-box: var(--sg-text-color, var(--theme-code-foreground, var(--jp-content-font-color1, black)));\n",
       "  --sklearn-color-icon: #696969;\n",
       "\n",
       "  @media (prefers-color-scheme: dark) {\n",
       "    /* Redefinition of color scheme for dark theme */\n",
       "    --sklearn-color-text-on-default-background: var(--sg-text-color, var(--theme-code-foreground, var(--jp-content-font-color1, white)));\n",
       "    --sklearn-color-background: var(--sg-background-color, var(--theme-background, var(--jp-layout-color0, #111)));\n",
       "    --sklearn-color-border-box: var(--sg-text-color, var(--theme-code-foreground, var(--jp-content-font-color1, white)));\n",
       "    --sklearn-color-icon: #878787;\n",
       "  }\n",
       "}\n",
       "\n",
       "#sk-container-id-1 {\n",
       "  color: var(--sklearn-color-text);\n",
       "}\n",
       "\n",
       "#sk-container-id-1 pre {\n",
       "  padding: 0;\n",
       "}\n",
       "\n",
       "#sk-container-id-1 input.sk-hidden--visually {\n",
       "  border: 0;\n",
       "  clip: rect(1px 1px 1px 1px);\n",
       "  clip: rect(1px, 1px, 1px, 1px);\n",
       "  height: 1px;\n",
       "  margin: -1px;\n",
       "  overflow: hidden;\n",
       "  padding: 0;\n",
       "  position: absolute;\n",
       "  width: 1px;\n",
       "}\n",
       "\n",
       "#sk-container-id-1 div.sk-dashed-wrapped {\n",
       "  border: 1px dashed var(--sklearn-color-line);\n",
       "  margin: 0 0.4em 0.5em 0.4em;\n",
       "  box-sizing: border-box;\n",
       "  padding-bottom: 0.4em;\n",
       "  background-color: var(--sklearn-color-background);\n",
       "}\n",
       "\n",
       "#sk-container-id-1 div.sk-container {\n",
       "  /* jupyter's `normalize.less` sets `[hidden] { display: none; }`\n",
       "     but bootstrap.min.css set `[hidden] { display: none !important; }`\n",
       "     so we also need the `!important` here to be able to override the\n",
       "     default hidden behavior on the sphinx rendered scikit-learn.org.\n",
       "     See: https://github.com/scikit-learn/scikit-learn/issues/21755 */\n",
       "  display: inline-block !important;\n",
       "  position: relative;\n",
       "}\n",
       "\n",
       "#sk-container-id-1 div.sk-text-repr-fallback {\n",
       "  display: none;\n",
       "}\n",
       "\n",
       "div.sk-parallel-item,\n",
       "div.sk-serial,\n",
       "div.sk-item {\n",
       "  /* draw centered vertical line to link estimators */\n",
       "  background-image: linear-gradient(var(--sklearn-color-text-on-default-background), var(--sklearn-color-text-on-default-background));\n",
       "  background-size: 2px 100%;\n",
       "  background-repeat: no-repeat;\n",
       "  background-position: center center;\n",
       "}\n",
       "\n",
       "/* Parallel-specific style estimator block */\n",
       "\n",
       "#sk-container-id-1 div.sk-parallel-item::after {\n",
       "  content: \"\";\n",
       "  width: 100%;\n",
       "  border-bottom: 2px solid var(--sklearn-color-text-on-default-background);\n",
       "  flex-grow: 1;\n",
       "}\n",
       "\n",
       "#sk-container-id-1 div.sk-parallel {\n",
       "  display: flex;\n",
       "  align-items: stretch;\n",
       "  justify-content: center;\n",
       "  background-color: var(--sklearn-color-background);\n",
       "  position: relative;\n",
       "}\n",
       "\n",
       "#sk-container-id-1 div.sk-parallel-item {\n",
       "  display: flex;\n",
       "  flex-direction: column;\n",
       "}\n",
       "\n",
       "#sk-container-id-1 div.sk-parallel-item:first-child::after {\n",
       "  align-self: flex-end;\n",
       "  width: 50%;\n",
       "}\n",
       "\n",
       "#sk-container-id-1 div.sk-parallel-item:last-child::after {\n",
       "  align-self: flex-start;\n",
       "  width: 50%;\n",
       "}\n",
       "\n",
       "#sk-container-id-1 div.sk-parallel-item:only-child::after {\n",
       "  width: 0;\n",
       "}\n",
       "\n",
       "/* Serial-specific style estimator block */\n",
       "\n",
       "#sk-container-id-1 div.sk-serial {\n",
       "  display: flex;\n",
       "  flex-direction: column;\n",
       "  align-items: center;\n",
       "  background-color: var(--sklearn-color-background);\n",
       "  padding-right: 1em;\n",
       "  padding-left: 1em;\n",
       "}\n",
       "\n",
       "\n",
       "/* Toggleable style: style used for estimator/Pipeline/ColumnTransformer box that is\n",
       "clickable and can be expanded/collapsed.\n",
       "- Pipeline and ColumnTransformer use this feature and define the default style\n",
       "- Estimators will overwrite some part of the style using the `sk-estimator` class\n",
       "*/\n",
       "\n",
       "/* Pipeline and ColumnTransformer style (default) */\n",
       "\n",
       "#sk-container-id-1 div.sk-toggleable {\n",
       "  /* Default theme specific background. It is overwritten whether we have a\n",
       "  specific estimator or a Pipeline/ColumnTransformer */\n",
       "  background-color: var(--sklearn-color-background);\n",
       "}\n",
       "\n",
       "/* Toggleable label */\n",
       "#sk-container-id-1 label.sk-toggleable__label {\n",
       "  cursor: pointer;\n",
       "  display: block;\n",
       "  width: 100%;\n",
       "  margin-bottom: 0;\n",
       "  padding: 0.5em;\n",
       "  box-sizing: border-box;\n",
       "  text-align: center;\n",
       "}\n",
       "\n",
       "#sk-container-id-1 label.sk-toggleable__label-arrow:before {\n",
       "  /* Arrow on the left of the label */\n",
       "  content: \"▸\";\n",
       "  float: left;\n",
       "  margin-right: 0.25em;\n",
       "  color: var(--sklearn-color-icon);\n",
       "}\n",
       "\n",
       "#sk-container-id-1 label.sk-toggleable__label-arrow:hover:before {\n",
       "  color: var(--sklearn-color-text);\n",
       "}\n",
       "\n",
       "/* Toggleable content - dropdown */\n",
       "\n",
       "#sk-container-id-1 div.sk-toggleable__content {\n",
       "  max-height: 0;\n",
       "  max-width: 0;\n",
       "  overflow: hidden;\n",
       "  text-align: left;\n",
       "  /* unfitted */\n",
       "  background-color: var(--sklearn-color-unfitted-level-0);\n",
       "}\n",
       "\n",
       "#sk-container-id-1 div.sk-toggleable__content.fitted {\n",
       "  /* fitted */\n",
       "  background-color: var(--sklearn-color-fitted-level-0);\n",
       "}\n",
       "\n",
       "#sk-container-id-1 div.sk-toggleable__content pre {\n",
       "  margin: 0.2em;\n",
       "  border-radius: 0.25em;\n",
       "  color: var(--sklearn-color-text);\n",
       "  /* unfitted */\n",
       "  background-color: var(--sklearn-color-unfitted-level-0);\n",
       "}\n",
       "\n",
       "#sk-container-id-1 div.sk-toggleable__content.fitted pre {\n",
       "  /* unfitted */\n",
       "  background-color: var(--sklearn-color-fitted-level-0);\n",
       "}\n",
       "\n",
       "#sk-container-id-1 input.sk-toggleable__control:checked~div.sk-toggleable__content {\n",
       "  /* Expand drop-down */\n",
       "  max-height: 200px;\n",
       "  max-width: 100%;\n",
       "  overflow: auto;\n",
       "}\n",
       "\n",
       "#sk-container-id-1 input.sk-toggleable__control:checked~label.sk-toggleable__label-arrow:before {\n",
       "  content: \"▾\";\n",
       "}\n",
       "\n",
       "/* Pipeline/ColumnTransformer-specific style */\n",
       "\n",
       "#sk-container-id-1 div.sk-label input.sk-toggleable__control:checked~label.sk-toggleable__label {\n",
       "  color: var(--sklearn-color-text);\n",
       "  background-color: var(--sklearn-color-unfitted-level-2);\n",
       "}\n",
       "\n",
       "#sk-container-id-1 div.sk-label.fitted input.sk-toggleable__control:checked~label.sk-toggleable__label {\n",
       "  background-color: var(--sklearn-color-fitted-level-2);\n",
       "}\n",
       "\n",
       "/* Estimator-specific style */\n",
       "\n",
       "/* Colorize estimator box */\n",
       "#sk-container-id-1 div.sk-estimator input.sk-toggleable__control:checked~label.sk-toggleable__label {\n",
       "  /* unfitted */\n",
       "  background-color: var(--sklearn-color-unfitted-level-2);\n",
       "}\n",
       "\n",
       "#sk-container-id-1 div.sk-estimator.fitted input.sk-toggleable__control:checked~label.sk-toggleable__label {\n",
       "  /* fitted */\n",
       "  background-color: var(--sklearn-color-fitted-level-2);\n",
       "}\n",
       "\n",
       "#sk-container-id-1 div.sk-label label.sk-toggleable__label,\n",
       "#sk-container-id-1 div.sk-label label {\n",
       "  /* The background is the default theme color */\n",
       "  color: var(--sklearn-color-text-on-default-background);\n",
       "}\n",
       "\n",
       "/* On hover, darken the color of the background */\n",
       "#sk-container-id-1 div.sk-label:hover label.sk-toggleable__label {\n",
       "  color: var(--sklearn-color-text);\n",
       "  background-color: var(--sklearn-color-unfitted-level-2);\n",
       "}\n",
       "\n",
       "/* Label box, darken color on hover, fitted */\n",
       "#sk-container-id-1 div.sk-label.fitted:hover label.sk-toggleable__label.fitted {\n",
       "  color: var(--sklearn-color-text);\n",
       "  background-color: var(--sklearn-color-fitted-level-2);\n",
       "}\n",
       "\n",
       "/* Estimator label */\n",
       "\n",
       "#sk-container-id-1 div.sk-label label {\n",
       "  font-family: monospace;\n",
       "  font-weight: bold;\n",
       "  display: inline-block;\n",
       "  line-height: 1.2em;\n",
       "}\n",
       "\n",
       "#sk-container-id-1 div.sk-label-container {\n",
       "  text-align: center;\n",
       "}\n",
       "\n",
       "/* Estimator-specific */\n",
       "#sk-container-id-1 div.sk-estimator {\n",
       "  font-family: monospace;\n",
       "  border: 1px dotted var(--sklearn-color-border-box);\n",
       "  border-radius: 0.25em;\n",
       "  box-sizing: border-box;\n",
       "  margin-bottom: 0.5em;\n",
       "  /* unfitted */\n",
       "  background-color: var(--sklearn-color-unfitted-level-0);\n",
       "}\n",
       "\n",
       "#sk-container-id-1 div.sk-estimator.fitted {\n",
       "  /* fitted */\n",
       "  background-color: var(--sklearn-color-fitted-level-0);\n",
       "}\n",
       "\n",
       "/* on hover */\n",
       "#sk-container-id-1 div.sk-estimator:hover {\n",
       "  /* unfitted */\n",
       "  background-color: var(--sklearn-color-unfitted-level-2);\n",
       "}\n",
       "\n",
       "#sk-container-id-1 div.sk-estimator.fitted:hover {\n",
       "  /* fitted */\n",
       "  background-color: var(--sklearn-color-fitted-level-2);\n",
       "}\n",
       "\n",
       "/* Specification for estimator info (e.g. \"i\" and \"?\") */\n",
       "\n",
       "/* Common style for \"i\" and \"?\" */\n",
       "\n",
       ".sk-estimator-doc-link,\n",
       "a:link.sk-estimator-doc-link,\n",
       "a:visited.sk-estimator-doc-link {\n",
       "  float: right;\n",
       "  font-size: smaller;\n",
       "  line-height: 1em;\n",
       "  font-family: monospace;\n",
       "  background-color: var(--sklearn-color-background);\n",
       "  border-radius: 1em;\n",
       "  height: 1em;\n",
       "  width: 1em;\n",
       "  text-decoration: none !important;\n",
       "  margin-left: 1ex;\n",
       "  /* unfitted */\n",
       "  border: var(--sklearn-color-unfitted-level-1) 1pt solid;\n",
       "  color: var(--sklearn-color-unfitted-level-1);\n",
       "}\n",
       "\n",
       ".sk-estimator-doc-link.fitted,\n",
       "a:link.sk-estimator-doc-link.fitted,\n",
       "a:visited.sk-estimator-doc-link.fitted {\n",
       "  /* fitted */\n",
       "  border: var(--sklearn-color-fitted-level-1) 1pt solid;\n",
       "  color: var(--sklearn-color-fitted-level-1);\n",
       "}\n",
       "\n",
       "/* On hover */\n",
       "div.sk-estimator:hover .sk-estimator-doc-link:hover,\n",
       ".sk-estimator-doc-link:hover,\n",
       "div.sk-label-container:hover .sk-estimator-doc-link:hover,\n",
       ".sk-estimator-doc-link:hover {\n",
       "  /* unfitted */\n",
       "  background-color: var(--sklearn-color-unfitted-level-3);\n",
       "  color: var(--sklearn-color-background);\n",
       "  text-decoration: none;\n",
       "}\n",
       "\n",
       "div.sk-estimator.fitted:hover .sk-estimator-doc-link.fitted:hover,\n",
       ".sk-estimator-doc-link.fitted:hover,\n",
       "div.sk-label-container:hover .sk-estimator-doc-link.fitted:hover,\n",
       ".sk-estimator-doc-link.fitted:hover {\n",
       "  /* fitted */\n",
       "  background-color: var(--sklearn-color-fitted-level-3);\n",
       "  color: var(--sklearn-color-background);\n",
       "  text-decoration: none;\n",
       "}\n",
       "\n",
       "/* Span, style for the box shown on hovering the info icon */\n",
       ".sk-estimator-doc-link span {\n",
       "  display: none;\n",
       "  z-index: 9999;\n",
       "  position: relative;\n",
       "  font-weight: normal;\n",
       "  right: .2ex;\n",
       "  padding: .5ex;\n",
       "  margin: .5ex;\n",
       "  width: min-content;\n",
       "  min-width: 20ex;\n",
       "  max-width: 50ex;\n",
       "  color: var(--sklearn-color-text);\n",
       "  box-shadow: 2pt 2pt 4pt #999;\n",
       "  /* unfitted */\n",
       "  background: var(--sklearn-color-unfitted-level-0);\n",
       "  border: .5pt solid var(--sklearn-color-unfitted-level-3);\n",
       "}\n",
       "\n",
       ".sk-estimator-doc-link.fitted span {\n",
       "  /* fitted */\n",
       "  background: var(--sklearn-color-fitted-level-0);\n",
       "  border: var(--sklearn-color-fitted-level-3);\n",
       "}\n",
       "\n",
       ".sk-estimator-doc-link:hover span {\n",
       "  display: block;\n",
       "}\n",
       "\n",
       "/* \"?\"-specific style due to the `<a>` HTML tag */\n",
       "\n",
       "#sk-container-id-1 a.estimator_doc_link {\n",
       "  float: right;\n",
       "  font-size: 1rem;\n",
       "  line-height: 1em;\n",
       "  font-family: monospace;\n",
       "  background-color: var(--sklearn-color-background);\n",
       "  border-radius: 1rem;\n",
       "  height: 1rem;\n",
       "  width: 1rem;\n",
       "  text-decoration: none;\n",
       "  /* unfitted */\n",
       "  color: var(--sklearn-color-unfitted-level-1);\n",
       "  border: var(--sklearn-color-unfitted-level-1) 1pt solid;\n",
       "}\n",
       "\n",
       "#sk-container-id-1 a.estimator_doc_link.fitted {\n",
       "  /* fitted */\n",
       "  border: var(--sklearn-color-fitted-level-1) 1pt solid;\n",
       "  color: var(--sklearn-color-fitted-level-1);\n",
       "}\n",
       "\n",
       "/* On hover */\n",
       "#sk-container-id-1 a.estimator_doc_link:hover {\n",
       "  /* unfitted */\n",
       "  background-color: var(--sklearn-color-unfitted-level-3);\n",
       "  color: var(--sklearn-color-background);\n",
       "  text-decoration: none;\n",
       "}\n",
       "\n",
       "#sk-container-id-1 a.estimator_doc_link.fitted:hover {\n",
       "  /* fitted */\n",
       "  background-color: var(--sklearn-color-fitted-level-3);\n",
       "}\n",
       "</style><div id=\"sk-container-id-1\" class=\"sk-top-container\"><div class=\"sk-text-repr-fallback\"><pre>XGBClassifier(base_score=None, booster=None, callbacks=None,\n",
       "              colsample_bylevel=None, colsample_bynode=0.855915786492984,\n",
       "              colsample_bytree=None, device=None, early_stopping_rounds=None,\n",
       "              enable_categorical=False,\n",
       "              eval_metric=&lt;function custom_f1_score at 0x7fb6807637e0&gt;,\n",
       "              feature_types=None, gamma=None, grow_policy=None,\n",
       "              importance_type=None, interaction_constraints=None,\n",
       "              learning_rate=0.49591221912839645, max_bin=None,\n",
       "              max_cat_threshold=None, max_cat_to_onehot=None,\n",
       "              max_delta_step=None, max_depth=10, max_leaves=None,\n",
       "              min_child_weight=28, missing=nan, monotone_constraints=None,\n",
       "              multi_strategy=None, n_estimators=57, n_jobs=None,\n",
       "              num_parallel_tree=None, objective=&#x27;multi:softprob&#x27;, ...)</pre><b>In a Jupyter environment, please rerun this cell to show the HTML representation or trust the notebook. <br />On GitHub, the HTML representation is unable to render, please try loading this page with nbviewer.org.</b></div><div class=\"sk-container\" hidden><div class=\"sk-item\"><div class=\"sk-estimator fitted sk-toggleable\"><input class=\"sk-toggleable__control sk-hidden--visually\" id=\"sk-estimator-id-1\" type=\"checkbox\" checked><label for=\"sk-estimator-id-1\" class=\"sk-toggleable__label fitted sk-toggleable__label-arrow fitted\">&nbsp;XGBClassifier<span class=\"sk-estimator-doc-link fitted\">i<span>Fitted</span></span></label><div class=\"sk-toggleable__content fitted\"><pre>XGBClassifier(base_score=None, booster=None, callbacks=None,\n",
       "              colsample_bylevel=None, colsample_bynode=0.855915786492984,\n",
       "              colsample_bytree=None, device=None, early_stopping_rounds=None,\n",
       "              enable_categorical=False,\n",
       "              eval_metric=&lt;function custom_f1_score at 0x7fb6807637e0&gt;,\n",
       "              feature_types=None, gamma=None, grow_policy=None,\n",
       "              importance_type=None, interaction_constraints=None,\n",
       "              learning_rate=0.49591221912839645, max_bin=None,\n",
       "              max_cat_threshold=None, max_cat_to_onehot=None,\n",
       "              max_delta_step=None, max_depth=10, max_leaves=None,\n",
       "              min_child_weight=28, missing=nan, monotone_constraints=None,\n",
       "              multi_strategy=None, n_estimators=57, n_jobs=None,\n",
       "              num_parallel_tree=None, objective=&#x27;multi:softprob&#x27;, ...)</pre></div> </div></div></div></div>"
      ],
      "text/plain": [
       "XGBClassifier(base_score=None, booster=None, callbacks=None,\n",
       "              colsample_bylevel=None, colsample_bynode=0.855915786492984,\n",
       "              colsample_bytree=None, device=None, early_stopping_rounds=None,\n",
       "              enable_categorical=False,\n",
       "              eval_metric=<function custom_f1_score at 0x7fb6807637e0>,\n",
       "              feature_types=None, gamma=None, grow_policy=None,\n",
       "              importance_type=None, interaction_constraints=None,\n",
       "              learning_rate=0.49591221912839645, max_bin=None,\n",
       "              max_cat_threshold=None, max_cat_to_onehot=None,\n",
       "              max_delta_step=None, max_depth=10, max_leaves=None,\n",
       "              min_child_weight=28, missing=nan, monotone_constraints=None,\n",
       "              multi_strategy=None, n_estimators=57, n_jobs=None,\n",
       "              num_parallel_tree=None, objective='multi:softprob', ...)"
      ]
     },
     "execution_count": 21,
     "metadata": {},
     "output_type": "execute_result"
    }
   ],
   "source": [
    "n_estimators = int(study.best_trial.user_attrs['best_iteration']*1.2)\n",
    "xgb = xgboost.XGBClassifier(\n",
    "        eval_metric=eval_metric,\n",
    "        n_estimators=n_estimators,\n",
    "        **study.best_trial.params\n",
    "    )\n",
    "xgb.fit(\n",
    "    ssp.vstack((X_train, X_val)), \n",
    "    np.concatenate((y_train_enc, y_val_enc)),\n",
    "    verbose=1,\n",
    ")"
   ]
  },
  {
   "cell_type": "code",
   "execution_count": 22,
   "id": "9ab28649",
   "metadata": {
    "execution": {
     "iopub.execute_input": "2025-05-15T16:09:57.429201Z",
     "iopub.status.busy": "2025-05-15T16:09:57.428967Z",
     "iopub.status.idle": "2025-05-15T16:09:57.451186Z",
     "shell.execute_reply": "2025-05-15T16:09:57.450798Z"
    },
    "papermill": {
     "duration": 0.052155,
     "end_time": "2025-05-15T16:09:57.453277",
     "exception": false,
     "start_time": "2025-05-15T16:09:57.401122",
     "status": "completed"
    },
    "tags": []
   },
   "outputs": [
    {
     "data": {
      "text/plain": [
       "['/scratch_isilon/groups/singlecell/shared/projects/Inflammation-PBMCs-Atlas/03_downstream_analysis/08_gene_importance/xgboost_external_validation/xgboost_TopN_genes/results_20/best_model/T_CD4_Naive_16_1_xgb.json']"
      ]
     },
     "execution_count": 22,
     "metadata": {},
     "output_type": "execute_result"
    }
   ],
   "source": [
    "out_dir = here(f'03_downstream_analysis/08_gene_importance/xgboost_external_validation/xgboost_TopN_genes/results_{N_GENES}/best_model')\n",
    "\n",
    "if not os.path.exists(out_dir):\n",
    "    os.makedirs(out_dir)\n",
    "    \n",
    "joblib.dump(xgb, os.path.join(out_dir, f'{CELL_TYPE}_{SEED}_{TEST_SPLIT_IDX}_xgb.json'))"
   ]
  },
  {
   "cell_type": "code",
   "execution_count": 23,
   "id": "3fecaa4b",
   "metadata": {
    "execution": {
     "iopub.execute_input": "2025-05-15T16:09:57.477930Z",
     "iopub.status.busy": "2025-05-15T16:09:57.477395Z",
     "iopub.status.idle": "2025-05-15T16:09:57.715543Z",
     "shell.execute_reply": "2025-05-15T16:09:57.715025Z"
    },
    "papermill": {
     "duration": 0.253152,
     "end_time": "2025-05-15T16:09:57.717785",
     "exception": false,
     "start_time": "2025-05-15T16:09:57.464633",
     "status": "completed"
    },
    "tags": []
   },
   "outputs": [],
   "source": [
    "df_pred_test = pd.DataFrame(dict(\n",
    "    cell_id=train_adata.obs.iloc[test_idxs].index.values,\n",
    "    y_true=y_test, \n",
    "    y_true_code=y_test_enc, \n",
    "    y_pred=xgb.predict(X_test))).set_index('cell_id')"
   ]
  },
  {
   "cell_type": "code",
   "execution_count": 24,
   "id": "d2dcb0c0",
   "metadata": {
    "execution": {
     "iopub.execute_input": "2025-05-15T16:09:57.745909Z",
     "iopub.status.busy": "2025-05-15T16:09:57.745256Z",
     "iopub.status.idle": "2025-05-15T16:09:57.859233Z",
     "shell.execute_reply": "2025-05-15T16:09:57.858701Z"
    },
    "papermill": {
     "duration": 0.129821,
     "end_time": "2025-05-15T16:09:57.861052",
     "exception": false,
     "start_time": "2025-05-15T16:09:57.731231",
     "status": "completed"
    },
    "tags": []
   },
   "outputs": [],
   "source": [
    "out_dir = here(f'03_downstream_analysis/08_gene_importance/xgboost_external_validation/xgboost_TopN_genes/results_{N_GENES}/predictions')\n",
    "\n",
    "if not os.path.exists(out_dir):\n",
    "    os.makedirs(out_dir)\n",
    "    \n",
    "df_pred_test.to_csv(os.path.join(out_dir, f'{CELL_TYPE}_{SEED}_{TEST_SPLIT_IDX}_pred_test.zip'))"
   ]
  },
  {
   "cell_type": "code",
   "execution_count": 25,
   "id": "c73fadcb",
   "metadata": {
    "execution": {
     "iopub.execute_input": "2025-05-15T16:09:57.881782Z",
     "iopub.status.busy": "2025-05-15T16:09:57.881354Z",
     "iopub.status.idle": "2025-05-15T16:09:57.894011Z",
     "shell.execute_reply": "2025-05-15T16:09:57.893611Z"
    },
    "papermill": {
     "duration": 0.023624,
     "end_time": "2025-05-15T16:09:57.894955",
     "exception": false,
     "start_time": "2025-05-15T16:09:57.871331",
     "status": "completed"
    },
    "tags": []
   },
   "outputs": [],
   "source": [
    "metrics_dict = dict(\n",
    "    BAS=balanced_accuracy_score(y_true=df_pred_test.y_true_code, y_pred=df_pred_test.y_pred), WF1=f1_score(y_true=df_pred_test.y_true_code, y_pred=df_pred_test.y_pred,average='weighted'))"
   ]
  },
  {
   "cell_type": "code",
   "execution_count": 26,
   "id": "a741449f",
   "metadata": {
    "execution": {
     "iopub.execute_input": "2025-05-15T16:09:57.914915Z",
     "iopub.status.busy": "2025-05-15T16:09:57.914689Z",
     "iopub.status.idle": "2025-05-15T16:09:57.917881Z",
     "shell.execute_reply": "2025-05-15T16:09:57.917534Z"
    },
    "papermill": {
     "duration": 0.014285,
     "end_time": "2025-05-15T16:09:57.918971",
     "exception": false,
     "start_time": "2025-05-15T16:09:57.904686",
     "status": "completed"
    },
    "tags": []
   },
   "outputs": [
    {
     "data": {
      "text/plain": [
       "{'BAS': 0.6125002644703663, 'WF1': 0.7893732710354379}"
      ]
     },
     "execution_count": 26,
     "metadata": {},
     "output_type": "execute_result"
    }
   ],
   "source": [
    "metrics_dict"
   ]
  },
  {
   "cell_type": "code",
   "execution_count": 27,
   "id": "377d978f",
   "metadata": {
    "execution": {
     "iopub.execute_input": "2025-05-15T16:09:57.965783Z",
     "iopub.status.busy": "2025-05-15T16:09:57.965134Z",
     "iopub.status.idle": "2025-05-15T16:09:57.978980Z",
     "shell.execute_reply": "2025-05-15T16:09:57.978518Z"
    },
    "papermill": {
     "duration": 0.043237,
     "end_time": "2025-05-15T16:09:57.980425",
     "exception": false,
     "start_time": "2025-05-15T16:09:57.937188",
     "status": "completed"
    },
    "tags": []
   },
   "outputs": [
    {
     "data": {
      "text/html": [
       "<div>\n",
       "<style scoped>\n",
       "    .dataframe tbody tr th:only-of-type {\n",
       "        vertical-align: middle;\n",
       "    }\n",
       "\n",
       "    .dataframe tbody tr th {\n",
       "        vertical-align: top;\n",
       "    }\n",
       "\n",
       "    .dataframe thead th {\n",
       "        text-align: right;\n",
       "    }\n",
       "</style>\n",
       "<table border=\"1\" class=\"dataframe\">\n",
       "  <thead>\n",
       "    <tr style=\"text-align: right;\">\n",
       "      <th></th>\n",
       "      <th>BAS</th>\n",
       "      <th>WF1</th>\n",
       "      <th>split_idx</th>\n",
       "      <th>gene_set_seed</th>\n",
       "      <th>cell_type</th>\n",
       "    </tr>\n",
       "  </thead>\n",
       "  <tbody>\n",
       "    <tr>\n",
       "      <th>0</th>\n",
       "      <td>0.6125</td>\n",
       "      <td>0.789373</td>\n",
       "      <td>1</td>\n",
       "      <td>16</td>\n",
       "      <td>T_CD4_Naive</td>\n",
       "    </tr>\n",
       "  </tbody>\n",
       "</table>\n",
       "</div>"
      ],
      "text/plain": [
       "      BAS       WF1  split_idx  gene_set_seed    cell_type\n",
       "0  0.6125  0.789373          1             16  T_CD4_Naive"
      ]
     },
     "execution_count": 27,
     "metadata": {},
     "output_type": "execute_result"
    }
   ],
   "source": [
    "metrics_df = pd.DataFrame.from_dict([metrics_dict]).assign(split_idx=TEST_SPLIT_IDX, gene_set_seed=SEED, cell_type=CELL_TYPE)\n",
    "metrics_df"
   ]
  },
  {
   "cell_type": "code",
   "execution_count": 28,
   "id": "f6e79b94",
   "metadata": {
    "execution": {
     "iopub.execute_input": "2025-05-15T16:09:58.008663Z",
     "iopub.status.busy": "2025-05-15T16:09:58.007997Z",
     "iopub.status.idle": "2025-05-15T16:09:58.019021Z",
     "shell.execute_reply": "2025-05-15T16:09:58.017868Z"
    },
    "papermill": {
     "duration": 0.027801,
     "end_time": "2025-05-15T16:09:58.021002",
     "exception": false,
     "start_time": "2025-05-15T16:09:57.993201",
     "status": "completed"
    },
    "tags": []
   },
   "outputs": [],
   "source": [
    "out_dir = here(f'03_downstream_analysis/08_gene_importance/xgboost_external_validation/xgboost_TopN_genes/results_{N_GENES}/metrics')\n",
    "\n",
    "if not os.path.exists(out_dir):\n",
    "    os.makedirs(out_dir)\n",
    "    \n",
    "metrics_df.to_csv(os.path.join(out_dir, f'{CELL_TYPE}_{SEED}_{TEST_SPLIT_IDX}_metrics.zip'))"
   ]
  }
 ],
 "metadata": {
  "kernelspec": {
   "display_name": "Python 3 (ipykernel)",
   "language": "python",
   "name": "python3"
  },
  "language_info": {
   "codemirror_mode": {
    "name": "ipython",
    "version": 3
   },
   "file_extension": ".py",
   "mimetype": "text/x-python",
   "name": "python",
   "nbconvert_exporter": "python",
   "pygments_lexer": "ipython3",
   "version": "3.12.5"
  },
  "papermill": {
   "default_parameters": {},
   "duration": 494.38784,
   "end_time": "2025-05-15T16:09:58.753795",
   "environment_variables": {},
   "exception": null,
   "input_path": "02_xgboost_fitting_external_20genes.ipynb",
   "output_path": "results_20/executed_notebooks/xgboost_fitting_external_CT_T_CD4_Naive_GS_16_seed1.ipynb",
   "parameters": {
    "CELL_TYPE": "T_CD4_Naive",
    "SEED": 16,
    "TEST_SPLIT_IDX": 1
   },
   "start_time": "2025-05-15T16:01:44.365955",
   "version": "2.6.0"
  }
 },
 "nbformat": 4,
 "nbformat_minor": 5
}