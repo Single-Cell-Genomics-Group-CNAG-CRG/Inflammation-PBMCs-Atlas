{
 "cells": [
  {
   "cell_type": "code",
   "execution_count": 1,
   "id": "844a160d",
   "metadata": {
    "editable": true,
    "execution": {
     "iopub.execute_input": "2025-05-14T16:10:17.278922Z",
     "iopub.status.busy": "2025-05-14T16:10:17.278750Z",
     "iopub.status.idle": "2025-05-14T16:10:17.281509Z",
     "shell.execute_reply": "2025-05-14T16:10:17.281194Z"
    },
    "papermill": {
     "duration": 0.010491,
     "end_time": "2025-05-14T16:10:17.282417",
     "exception": false,
     "start_time": "2025-05-14T16:10:17.271926",
     "status": "completed"
    },
    "slideshow": {
     "slide_type": ""
    },
    "tags": [
     "parameters"
    ]
   },
   "outputs": [],
   "source": [
    "CELL_TYPE = 'pDC'\n",
    "N_GENES: int = 20\n",
    "SEED = 'shap_studyID' #'disease_NOstudy' 'study_NOdisease' or 'int' or 'shap_studyID'\n",
    "TEST_SPLIT_IDX: int = 1 #[0,4]"
   ]
  },
  {
   "cell_type": "code",
   "execution_count": 2,
   "id": "22c3033b",
   "metadata": {
    "execution": {
     "iopub.execute_input": "2025-05-14T16:10:17.293894Z",
     "iopub.status.busy": "2025-05-14T16:10:17.293720Z",
     "iopub.status.idle": "2025-05-14T16:10:17.295797Z",
     "shell.execute_reply": "2025-05-14T16:10:17.295490Z"
    },
    "papermill": {
     "duration": 0.008403,
     "end_time": "2025-05-14T16:10:17.296587",
     "exception": false,
     "start_time": "2025-05-14T16:10:17.288184",
     "status": "completed"
    },
    "tags": [
     "injected-parameters"
    ]
   },
   "outputs": [],
   "source": [
    "# Parameters\n",
    "CELL_TYPE = \"Plasma\"\n",
    "SEED = \"shap_disease_NOstudy\"\n",
    "TEST_SPLIT_IDX = 4\n"
   ]
  },
  {
   "cell_type": "code",
   "execution_count": 3,
   "id": "7ffe691a",
   "metadata": {
    "execution": {
     "iopub.execute_input": "2025-05-14T16:10:17.307564Z",
     "iopub.status.busy": "2025-05-14T16:10:17.307255Z",
     "iopub.status.idle": "2025-05-14T16:10:17.309256Z",
     "shell.execute_reply": "2025-05-14T16:10:17.308950Z"
    },
    "papermill": {
     "duration": 0.008543,
     "end_time": "2025-05-14T16:10:17.310030",
     "exception": false,
     "start_time": "2025-05-14T16:10:17.301487",
     "status": "completed"
    },
    "tags": []
   },
   "outputs": [],
   "source": [
    "N_SPLITS: int = 5\n",
    "N_TRIALS: int = 50"
   ]
  },
  {
   "cell_type": "code",
   "execution_count": 4,
   "id": "d3ce4ded",
   "metadata": {
    "execution": {
     "iopub.execute_input": "2025-05-14T16:10:17.322131Z",
     "iopub.status.busy": "2025-05-14T16:10:17.321932Z",
     "iopub.status.idle": "2025-05-14T16:10:19.173643Z",
     "shell.execute_reply": "2025-05-14T16:10:19.173174Z"
    },
    "papermill": {
     "duration": 1.859821,
     "end_time": "2025-05-14T16:10:19.174884",
     "exception": false,
     "start_time": "2025-05-14T16:10:17.315063",
     "status": "completed"
    },
    "tags": []
   },
   "outputs": [],
   "source": [
    "import os\n",
    "import sys\n",
    "from pyprojroot.here import here\n",
    "import pandas as pd\n",
    "import anndata as ad\n",
    "import numpy as np\n",
    "import math\n",
    "from sklearn.model_selection import StratifiedGroupKFold\n",
    "from sklearn.preprocessing import LabelEncoder\n",
    "from sklearn.metrics import f1_score\n",
    "import matplotlib.pyplot as plt\n",
    "import seaborn as sns\n",
    "from itertools import product\n",
    "from sklearn.metrics import balanced_accuracy_score, f1_score\n",
    "import optuna\n",
    "\n",
    "import joblib\n",
    "import pickle\n",
    "import datetime\n",
    "\n",
    "import collections\n",
    "\n",
    "import xgboost\n",
    "from sklearn.preprocessing import LabelEncoder\n",
    "\n",
    "import scipy.sparse as ssp\n",
    "import joblib\n",
    "\n",
    "from dotenv import load_dotenv"
   ]
  },
  {
   "cell_type": "code",
   "execution_count": 5,
   "id": "1224719a",
   "metadata": {
    "execution": {
     "iopub.execute_input": "2025-05-14T16:10:19.187191Z",
     "iopub.status.busy": "2025-05-14T16:10:19.186852Z",
     "iopub.status.idle": "2025-05-14T16:10:19.193399Z",
     "shell.execute_reply": "2025-05-14T16:10:19.193064Z"
    },
    "papermill": {
     "duration": 0.013516,
     "end_time": "2025-05-14T16:10:19.194311",
     "exception": false,
     "start_time": "2025-05-14T16:10:19.180795",
     "status": "completed"
    },
    "tags": []
   },
   "outputs": [
    {
     "data": {
      "text/plain": [
       "True"
      ]
     },
     "execution_count": 5,
     "metadata": {},
     "output_type": "execute_result"
    }
   ],
   "source": [
    "load_dotenv()"
   ]
  },
  {
   "cell_type": "markdown",
   "id": "f198e16a",
   "metadata": {
    "papermill": {
     "duration": 0.005402,
     "end_time": "2025-05-14T16:10:19.205667",
     "exception": false,
     "start_time": "2025-05-14T16:10:19.200265",
     "status": "completed"
    },
    "tags": []
   },
   "source": [
    "# LOAD DATASET"
   ]
  },
  {
   "cell_type": "code",
   "execution_count": 6,
   "id": "051b15cb",
   "metadata": {
    "execution": {
     "iopub.execute_input": "2025-05-14T16:10:19.216793Z",
     "iopub.status.busy": "2025-05-14T16:10:19.216446Z",
     "iopub.status.idle": "2025-05-14T16:10:19.254852Z",
     "shell.execute_reply": "2025-05-14T16:10:19.254450Z"
    },
    "papermill": {
     "duration": 0.044904,
     "end_time": "2025-05-14T16:10:19.255963",
     "exception": false,
     "start_time": "2025-05-14T16:10:19.211059",
     "status": "completed"
    },
    "tags": []
   },
   "outputs": [],
   "source": [
    "train_adata = ad.read_h5ad(\n",
    "    here(f'03_downstream_analysis/08_gene_importance/xgboost_external_validation/xgboost_TopN_genes/data_cellTypes/EXTERNAL_{CELL_TYPE}.filtered.log1p.h5ad')\n",
    ")"
   ]
  },
  {
   "cell_type": "code",
   "execution_count": 7,
   "id": "dd740eb2",
   "metadata": {
    "execution": {
     "iopub.execute_input": "2025-05-14T16:10:19.268749Z",
     "iopub.status.busy": "2025-05-14T16:10:19.268448Z",
     "iopub.status.idle": "2025-05-14T16:10:19.278106Z",
     "shell.execute_reply": "2025-05-14T16:10:19.277774Z"
    },
    "papermill": {
     "duration": 0.016798,
     "end_time": "2025-05-14T16:10:19.279025",
     "exception": false,
     "start_time": "2025-05-14T16:10:19.262227",
     "status": "completed"
    },
    "tags": []
   },
   "outputs": [
    {
     "name": "stdout",
     "output_type": "stream",
     "text": [
      "['ENSG00000001167' 'ENSG00000002549' 'ENSG00000002586' 'ENSG00000004468'\n",
      " 'ENSG00000005339' 'ENSG00000008517' 'ENSG00000011422' 'ENSG00000011600'\n",
      " 'ENSG00000015475' 'ENSG00000019582' 'ENSG00000026103' 'ENSG00000038427'\n",
      " 'ENSG00000051108' 'ENSG00000068796' 'ENSG00000069399' 'ENSG00000075426'\n",
      " 'ENSG00000076662' 'ENSG00000077380' 'ENSG00000081059' 'ENSG00000100097'\n",
      " 'ENSG00000100280' 'ENSG00000100368' 'ENSG00000100385' 'ENSG00000100453'\n",
      " 'ENSG00000100664' 'ENSG00000100906' 'ENSG00000101350' 'ENSG00000101439'\n",
      " 'ENSG00000102524' 'ENSG00000103522' 'ENSG00000104870' 'ENSG00000105373'\n",
      " 'ENSG00000105851' 'ENSG00000107968' 'ENSG00000108622' 'ENSG00000109321'\n",
      " 'ENSG00000110057' 'ENSG00000111331' 'ENSG00000112137' 'ENSG00000114013'\n",
      " 'ENSG00000115267' 'ENSG00000118503' 'ENSG00000118515' 'ENSG00000119535'\n",
      " 'ENSG00000120738' 'ENSG00000120742' 'ENSG00000121774' 'ENSG00000124762'\n",
      " 'ENSG00000125148' 'ENSG00000126267' 'ENSG00000126353' 'ENSG00000127152'\n",
      " 'ENSG00000130522' 'ENSG00000130830' 'ENSG00000132002' 'ENSG00000132432'\n",
      " 'ENSG00000132465' 'ENSG00000134107' 'ENSG00000134470' 'ENSG00000135404'\n",
      " 'ENSG00000135916' 'ENSG00000136514' 'ENSG00000136732' 'ENSG00000137965'\n",
      " 'ENSG00000139318' 'ENSG00000139514' 'ENSG00000141367' 'ENSG00000141526'\n",
      " 'ENSG00000142208' 'ENSG00000142634' 'ENSG00000143119' 'ENSG00000143774'\n",
      " 'ENSG00000143933' 'ENSG00000144802' 'ENSG00000145220' 'ENSG00000145675'\n",
      " 'ENSG00000150093' 'ENSG00000152495' 'ENSG00000157514' 'ENSG00000157601'\n",
      " 'ENSG00000158517' 'ENSG00000158769' 'ENSG00000159128' 'ENSG00000162772'\n",
      " 'ENSG00000163513' 'ENSG00000163659' 'ENSG00000163660' 'ENSG00000164136'\n",
      " 'ENSG00000164543' 'ENSG00000165527' 'ENSG00000167552' 'ENSG00000168610'\n",
      " 'ENSG00000169442' 'ENSG00000170017' 'ENSG00000170476' 'ENSG00000170540'\n",
      " 'ENSG00000170581' 'ENSG00000170989' 'ENSG00000171608' 'ENSG00000172005'\n",
      " 'ENSG00000175482' 'ENSG00000176533' 'ENSG00000177606' 'ENSG00000179094'\n",
      " 'ENSG00000179218' 'ENSG00000179295' 'ENSG00000179344' 'ENSG00000180008'\n",
      " 'ENSG00000181029' 'ENSG00000182985' 'ENSG00000183508' 'ENSG00000184451'\n",
      " 'ENSG00000184557' 'ENSG00000184897' 'ENSG00000185338' 'ENSG00000186810'\n",
      " 'ENSG00000187608' 'ENSG00000189067' 'ENSG00000189283' 'ENSG00000196126'\n",
      " 'ENSG00000197061' 'ENSG00000198355' 'ENSG00000198502' 'ENSG00000204257'\n",
      " 'ENSG00000204287' 'ENSG00000205220' 'ENSG00000211893' 'ENSG00000211896'\n",
      " 'ENSG00000211897' 'ENSG00000213145' 'ENSG00000213928' 'ENSG00000216490'\n",
      " 'ENSG00000229474' 'ENSG00000234745' 'ENSG00000277443' 'ENSG00000277632']\n"
     ]
    }
   ],
   "source": [
    "if SEED != 'all':\n",
    "    gene_subset = np.load(here(f'03_downstream_analysis/08_gene_importance/xgboost_external_validation/shap_gene_selection/gene_subsets_{N_GENES}/{CELL_TYPE}_{SEED}.npy'), allow_pickle=True)\n",
    "    train_adata = train_adata[:,gene_subset]\n",
    "    print(gene_subset)\n",
    "elif SEED == 'all':\n",
    "    print('Using all genes')\n",
    "else:\n",
    "    raise ValueError()"
   ]
  },
  {
   "cell_type": "code",
   "execution_count": 8,
   "id": "2ccfecab",
   "metadata": {
    "execution": {
     "iopub.execute_input": "2025-05-14T16:10:19.291991Z",
     "iopub.status.busy": "2025-05-14T16:10:19.291706Z",
     "iopub.status.idle": "2025-05-14T16:10:19.294666Z",
     "shell.execute_reply": "2025-05-14T16:10:19.294354Z"
    },
    "papermill": {
     "duration": 0.0107,
     "end_time": "2025-05-14T16:10:19.295511",
     "exception": false,
     "start_time": "2025-05-14T16:10:19.284811",
     "status": "completed"
    },
    "tags": []
   },
   "outputs": [
    {
     "data": {
      "text/plain": [
       "(542, 136)"
      ]
     },
     "execution_count": 8,
     "metadata": {},
     "output_type": "execute_result"
    }
   ],
   "source": [
    "train_adata.shape"
   ]
  },
  {
   "cell_type": "code",
   "execution_count": 9,
   "id": "696c6335",
   "metadata": {
    "execution": {
     "iopub.execute_input": "2025-05-14T16:10:19.308726Z",
     "iopub.status.busy": "2025-05-14T16:10:19.308485Z",
     "iopub.status.idle": "2025-05-14T16:10:19.311998Z",
     "shell.execute_reply": "2025-05-14T16:10:19.311713Z"
    },
    "papermill": {
     "duration": 0.011051,
     "end_time": "2025-05-14T16:10:19.312785",
     "exception": false,
     "start_time": "2025-05-14T16:10:19.301734",
     "status": "completed"
    },
    "tags": []
   },
   "outputs": [
    {
     "data": {
      "text/plain": [
       "['RA', 'COVID', 'healthy', 'HIV', 'cirrhosis', 'CD', 'SLE', 'sepsis']\n",
       "Categories (8, object): ['CD', 'COVID', 'HIV', 'RA', 'SLE', 'cirrhosis', 'healthy', 'sepsis']"
      ]
     },
     "execution_count": 9,
     "metadata": {},
     "output_type": "execute_result"
    }
   ],
   "source": [
    "train_adata.obs.disease.unique()"
   ]
  },
  {
   "cell_type": "code",
   "execution_count": 10,
   "id": "5393b5ea",
   "metadata": {
    "execution": {
     "iopub.execute_input": "2025-05-14T16:10:19.326246Z",
     "iopub.status.busy": "2025-05-14T16:10:19.325979Z",
     "iopub.status.idle": "2025-05-14T16:10:19.329531Z",
     "shell.execute_reply": "2025-05-14T16:10:19.329219Z"
    },
    "papermill": {
     "duration": 0.01161,
     "end_time": "2025-05-14T16:10:19.330519",
     "exception": false,
     "start_time": "2025-05-14T16:10:19.318909",
     "status": "completed"
    },
    "tags": []
   },
   "outputs": [
    {
     "data": {
      "text/plain": [
       "['SCGT00val_I0364_T0', 'SCGT00val_I036019_T0', 'SCGT00val_I036028_T0', 'SCGT00val_I036024_T0', 'SCGT00val_I036016_T0', ..., '10XGenomics_10XHC2_T0', '10XGenomics_10XHC3_T0', '10XGenomics_10XHC5_T0', '10XGenomics_10XHC7_T0', '10XGenomics_10XHC8_T0']\n",
       "Length: 74\n",
       "Categories (74, object): ['10XGenomics_10XHC1_T0', '10XGenomics_10XHC2_T0', '10XGenomics_10XHC3_T0', '10XGenomics_10XHC4_T0', ..., 'Savage2021_BRISL6_T0', 'Savage2021_BRISL7_T0', 'Savage2021_PIDA_T0', 'Savage2021_PIDB_T0']"
      ]
     },
     "execution_count": 10,
     "metadata": {},
     "output_type": "execute_result"
    }
   ],
   "source": [
    "train_adata.obs.sampleID.unique()"
   ]
  },
  {
   "cell_type": "code",
   "execution_count": 11,
   "id": "8a4cd672",
   "metadata": {
    "execution": {
     "iopub.execute_input": "2025-05-14T16:10:19.344665Z",
     "iopub.status.busy": "2025-05-14T16:10:19.344075Z",
     "iopub.status.idle": "2025-05-14T16:10:19.372436Z",
     "shell.execute_reply": "2025-05-14T16:10:19.372050Z"
    },
    "papermill": {
     "duration": 0.035537,
     "end_time": "2025-05-14T16:10:19.373325",
     "exception": false,
     "start_time": "2025-05-14T16:10:19.337788",
     "status": "completed"
    },
    "tags": []
   },
   "outputs": [],
   "source": [
    "all_idxs = np.arange(train_adata.obs.shape[0])\n",
    "left_out_splits = [s[1] for s in StratifiedGroupKFold(n_splits=N_SPLITS).split(all_idxs, train_adata.obs.disease, train_adata.obs.sampleID)]"
   ]
  },
  {
   "cell_type": "code",
   "execution_count": 12,
   "id": "377a3ba0",
   "metadata": {
    "execution": {
     "iopub.execute_input": "2025-05-14T16:10:19.388686Z",
     "iopub.status.busy": "2025-05-14T16:10:19.388212Z",
     "iopub.status.idle": "2025-05-14T16:10:19.391397Z",
     "shell.execute_reply": "2025-05-14T16:10:19.391109Z"
    },
    "papermill": {
     "duration": 0.01121,
     "end_time": "2025-05-14T16:10:19.392158",
     "exception": false,
     "start_time": "2025-05-14T16:10:19.380948",
     "status": "completed"
    },
    "tags": []
   },
   "outputs": [
    {
     "data": {
      "text/plain": [
       "([1, 2, 3], 0, 4)"
      ]
     },
     "execution_count": 12,
     "metadata": {},
     "output_type": "execute_result"
    }
   ],
   "source": [
    "TRAIN_SPLIT_IDXS = [0,1,2,3,4]\n",
    "VAL_SPLIT_IDX = (TEST_SPLIT_IDX + 1) % 5\n",
    "TRAIN_SPLIT_IDXS.remove(TEST_SPLIT_IDX)\n",
    "TRAIN_SPLIT_IDXS.remove(VAL_SPLIT_IDX)\n",
    "TRAIN_SPLIT_IDXS, VAL_SPLIT_IDX, TEST_SPLIT_IDX"
   ]
  },
  {
   "cell_type": "code",
   "execution_count": 13,
   "id": "2bc02537",
   "metadata": {
    "execution": {
     "iopub.execute_input": "2025-05-14T16:10:19.405211Z",
     "iopub.status.busy": "2025-05-14T16:10:19.404956Z",
     "iopub.status.idle": "2025-05-14T16:10:19.407413Z",
     "shell.execute_reply": "2025-05-14T16:10:19.407104Z"
    },
    "papermill": {
     "duration": 0.009699,
     "end_time": "2025-05-14T16:10:19.408179",
     "exception": false,
     "start_time": "2025-05-14T16:10:19.398480",
     "status": "completed"
    },
    "tags": []
   },
   "outputs": [],
   "source": [
    "train_idxs = np.concatenate([left_out_splits[idx] for idx in TRAIN_SPLIT_IDXS])\n",
    "val_idxs = left_out_splits[VAL_SPLIT_IDX]\n",
    "test_idxs = left_out_splits[TEST_SPLIT_IDX]"
   ]
  },
  {
   "cell_type": "markdown",
   "id": "b2e16ffc",
   "metadata": {
    "papermill": {
     "duration": 0.005697,
     "end_time": "2025-05-14T16:10:19.419406",
     "exception": false,
     "start_time": "2025-05-14T16:10:19.413709",
     "status": "completed"
    },
    "tags": []
   },
   "source": [
    "### SUBSET DATASET INTO TRAIN/TEST/VAL SPLITS"
   ]
  },
  {
   "cell_type": "code",
   "execution_count": 14,
   "id": "444ef55f",
   "metadata": {
    "execution": {
     "iopub.execute_input": "2025-05-14T16:10:19.431927Z",
     "iopub.status.busy": "2025-05-14T16:10:19.431523Z",
     "iopub.status.idle": "2025-05-14T16:10:19.437789Z",
     "shell.execute_reply": "2025-05-14T16:10:19.437398Z"
    },
    "papermill": {
     "duration": 0.013162,
     "end_time": "2025-05-14T16:10:19.438587",
     "exception": false,
     "start_time": "2025-05-14T16:10:19.425425",
     "status": "completed"
    },
    "tags": []
   },
   "outputs": [
    {
     "data": {
      "text/plain": [
       "((308, 136), (116, 136), (118, 136))"
      ]
     },
     "execution_count": 14,
     "metadata": {},
     "output_type": "execute_result"
    }
   ],
   "source": [
    "X_train = train_adata.X[train_idxs]\n",
    "X_test = train_adata.X[test_idxs]\n",
    "X_val = train_adata.X[val_idxs]\n",
    "X_train.shape, X_test.shape, X_val.shape"
   ]
  },
  {
   "cell_type": "code",
   "execution_count": 15,
   "id": "ef0ce482",
   "metadata": {
    "execution": {
     "iopub.execute_input": "2025-05-14T16:10:19.450649Z",
     "iopub.status.busy": "2025-05-14T16:10:19.450405Z",
     "iopub.status.idle": "2025-05-14T16:10:19.454965Z",
     "shell.execute_reply": "2025-05-14T16:10:19.454659Z"
    },
    "papermill": {
     "duration": 0.011878,
     "end_time": "2025-05-14T16:10:19.455854",
     "exception": false,
     "start_time": "2025-05-14T16:10:19.443976",
     "status": "completed"
    },
    "tags": []
   },
   "outputs": [
    {
     "data": {
      "text/plain": [
       "((308,), (116,), (118,))"
      ]
     },
     "execution_count": 15,
     "metadata": {},
     "output_type": "execute_result"
    }
   ],
   "source": [
    "y_train = train_adata.obs.iloc[train_idxs].disease.values.astype(str)\n",
    "y_test = train_adata.obs.iloc[test_idxs].disease.values.astype(str)\n",
    "y_val = train_adata.obs.iloc[val_idxs].disease.values.astype(str)\n",
    "y_train.shape, y_test.shape, y_val.shape"
   ]
  },
  {
   "cell_type": "code",
   "execution_count": 16,
   "id": "40a8927b",
   "metadata": {
    "execution": {
     "iopub.execute_input": "2025-05-14T16:10:19.468241Z",
     "iopub.status.busy": "2025-05-14T16:10:19.467910Z",
     "iopub.status.idle": "2025-05-14T16:10:19.470589Z",
     "shell.execute_reply": "2025-05-14T16:10:19.470296Z"
    },
    "papermill": {
     "duration": 0.00966,
     "end_time": "2025-05-14T16:10:19.471399",
     "exception": false,
     "start_time": "2025-05-14T16:10:19.461739",
     "status": "completed"
    },
    "tags": []
   },
   "outputs": [],
   "source": [
    "lenc = LabelEncoder()\n",
    "y_train_enc = lenc.fit_transform(y_train)\n",
    "y_val_enc = lenc.transform(y_val)\n",
    "y_test_enc = lenc.transform(y_test)"
   ]
  },
  {
   "cell_type": "markdown",
   "id": "ee5bc8cf",
   "metadata": {
    "papermill": {
     "duration": 0.006735,
     "end_time": "2025-05-14T16:10:19.483900",
     "exception": false,
     "start_time": "2025-05-14T16:10:19.477165",
     "status": "completed"
    },
    "tags": []
   },
   "source": [
    "### GENERATE F1 "
   ]
  },
  {
   "cell_type": "code",
   "execution_count": 17,
   "id": "13719a10",
   "metadata": {
    "execution": {
     "iopub.execute_input": "2025-05-14T16:10:19.496305Z",
     "iopub.status.busy": "2025-05-14T16:10:19.496093Z",
     "iopub.status.idle": "2025-05-14T16:10:19.498286Z",
     "shell.execute_reply": "2025-05-14T16:10:19.497970Z"
    },
    "papermill": {
     "duration": 0.009237,
     "end_time": "2025-05-14T16:10:19.499129",
     "exception": false,
     "start_time": "2025-05-14T16:10:19.489892",
     "status": "completed"
    },
    "tags": []
   },
   "outputs": [],
   "source": [
    "def custom_f1_score(y_true, y_pred):\n",
    "    return -f1_score(y_true, y_pred.argmax(1), average='weighted')"
   ]
  },
  {
   "cell_type": "code",
   "execution_count": 18,
   "id": "9fb91be2",
   "metadata": {
    "execution": {
     "iopub.execute_input": "2025-05-14T16:10:19.511562Z",
     "iopub.status.busy": "2025-05-14T16:10:19.511311Z",
     "iopub.status.idle": "2025-05-14T16:10:19.514806Z",
     "shell.execute_reply": "2025-05-14T16:10:19.514518Z"
    },
    "papermill": {
     "duration": 0.010581,
     "end_time": "2025-05-14T16:10:19.515664",
     "exception": false,
     "start_time": "2025-05-14T16:10:19.505083",
     "status": "completed"
    },
    "tags": []
   },
   "outputs": [],
   "source": [
    "eval_metric=custom_f1_score\n",
    "eval_metric_name='custom_f1_score'\n",
    "\n",
    "def objective(trial):\n",
    "    params = {\n",
    "        'n_estimators': 1500,\n",
    "        'max_depth': trial.suggest_int('max_depth', 3, 20),\n",
    "        'min_child_weight': trial.suggest_int('min_child_weight', 1, 250),\n",
    "        'subsample': trial.suggest_float('subsample', 0.1, 1.0),\n",
    "        'colsample_bynode': trial.suggest_float('colsample_bynode', 0.1, 1.0),\n",
    "        'learning_rate': trial.suggest_float('learning_rate', 1e-3, 5e-1, log=True),\n",
    "    }\n",
    "    pruning_callback = optuna.integration.XGBoostPruningCallback(trial, f'validation_0-{eval_metric_name}')\n",
    "    es_callback = xgboost.callback.EarlyStopping(20, min_delta=0.001)\n",
    "    xgb = xgboost.XGBClassifier(\n",
    "        eval_metric=eval_metric,\n",
    "        callbacks=[pruning_callback, es_callback],\n",
    "        n_jobs=5,\n",
    "        **params\n",
    "    )\n",
    "    xgb.fit(\n",
    "        X_train, \n",
    "        y_train_enc, \n",
    "        verbose=0,\n",
    "        eval_set=[(X_val, y_val_enc)],\n",
    "    )\n",
    "    trial.set_user_attr('best_iteration', xgb.best_iteration)\n",
    "\n",
    "    return xgb.best_score"
   ]
  },
  {
   "cell_type": "code",
   "execution_count": 19,
   "id": "26543024",
   "metadata": {
    "execution": {
     "iopub.execute_input": "2025-05-14T16:10:19.528165Z",
     "iopub.status.busy": "2025-05-14T16:10:19.527963Z",
     "iopub.status.idle": "2025-05-14T16:10:29.380746Z",
     "shell.execute_reply": "2025-05-14T16:10:29.380308Z"
    },
    "papermill": {
     "duration": 9.860444,
     "end_time": "2025-05-14T16:10:29.381817",
     "exception": false,
     "start_time": "2025-05-14T16:10:19.521373",
     "status": "completed"
    },
    "scrolled": true,
    "tags": []
   },
   "outputs": [
    {
     "name": "stderr",
     "output_type": "stream",
     "text": [
      "[I 2025-05-14 18:10:19,529] A new study created in memory with name: no-name-955fce5f-d394-44c1-a032-051abf8d78fd\n"
     ]
    },
    {
     "name": "stderr",
     "output_type": "stream",
     "text": [
      "[I 2025-05-14 18:10:19,595] Trial 0 finished with value: -0.015898 and parameters: {'max_depth': 9, 'min_child_weight': 238, 'subsample': 0.7587945476302645, 'colsample_bynode': 0.6387926357773329, 'learning_rate': 0.0026368755339723046}. Best is trial 0 with value: -0.015898.\n"
     ]
    },
    {
     "name": "stderr",
     "output_type": "stream",
     "text": [
      "[I 2025-05-14 18:10:19,848] Trial 1 finished with value: -0.390366 and parameters: {'max_depth': 5, 'min_child_weight': 15, 'subsample': 0.8795585311974417, 'colsample_bynode': 0.6410035105688879, 'learning_rate': 0.08148293210105287}. Best is trial 1 with value: -0.390366.\n"
     ]
    },
    {
     "name": "stderr",
     "output_type": "stream",
     "text": [
      "[I 2025-05-14 18:10:19,977] Trial 2 finished with value: -0.015898 and parameters: {'max_depth': 3, 'min_child_weight': 243, 'subsample': 0.8491983767203796, 'colsample_bynode': 0.29110519961044856, 'learning_rate': 0.003095566460242371}. Best is trial 1 with value: -0.390366.\n"
     ]
    },
    {
     "name": "stderr",
     "output_type": "stream",
     "text": [
      "[I 2025-05-14 18:10:20,109] Trial 3 finished with value: -0.015898 and parameters: {'max_depth': 6, 'min_child_weight': 77, 'subsample': 0.5722807884690141, 'colsample_bynode': 0.48875051677790415, 'learning_rate': 0.006109683510122491}. Best is trial 1 with value: -0.390366.\n"
     ]
    },
    {
     "name": "stderr",
     "output_type": "stream",
     "text": [
      "[I 2025-05-14 18:10:20,238] Trial 4 finished with value: -0.015898 and parameters: {'max_depth': 14, 'min_child_weight': 35, 'subsample': 0.3629301836816964, 'colsample_bynode': 0.4297256589643226, 'learning_rate': 0.01701841881702917}. Best is trial 1 with value: -0.390366.\n"
     ]
    },
    {
     "name": "stderr",
     "output_type": "stream",
     "text": [
      "[I 2025-05-14 18:10:20,376] Trial 5 finished with value: -0.015898 and parameters: {'max_depth': 17, 'min_child_weight': 50, 'subsample': 0.5628109945722505, 'colsample_bynode': 0.6331731119758383, 'learning_rate': 0.0013346527038305934}. Best is trial 1 with value: -0.390366.\n"
     ]
    },
    {
     "name": "stderr",
     "output_type": "stream",
     "text": [
      "[I 2025-05-14 18:10:20,518] Trial 6 finished with value: -0.015898 and parameters: {'max_depth': 13, 'min_child_weight': 43, 'subsample': 0.1585464336867516, 'colsample_bynode': 0.9539969835279999, 'learning_rate': 0.4038423798071558}. Best is trial 1 with value: -0.390366.\n"
     ]
    },
    {
     "name": "stderr",
     "output_type": "stream",
     "text": [
      "[I 2025-05-14 18:10:20,658] Trial 7 finished with value: -0.015898 and parameters: {'max_depth': 17, 'min_child_weight': 77, 'subsample': 0.1879049026057455, 'colsample_bynode': 0.7158097238609412, 'learning_rate': 0.015415527060141935}. Best is trial 1 with value: -0.390366.\n"
     ]
    },
    {
     "name": "stderr",
     "output_type": "stream",
     "text": [
      "[I 2025-05-14 18:10:20,798] Trial 8 finished with value: -0.015898 and parameters: {'max_depth': 5, 'min_child_weight': 124, 'subsample': 0.13094966900369656, 'colsample_bynode': 0.9183883618709039, 'learning_rate': 0.004993895014755658}. Best is trial 1 with value: -0.390366.\n"
     ]
    },
    {
     "name": "stderr",
     "output_type": "stream",
     "text": [
      "[I 2025-05-14 18:10:20,930] Trial 9 finished with value: -0.015898 and parameters: {'max_depth': 14, 'min_child_weight': 78, 'subsample': 0.5680612190600297, 'colsample_bynode': 0.5920392514089517, 'learning_rate': 0.0031543990308330965}. Best is trial 1 with value: -0.390366.\n"
     ]
    },
    {
     "name": "stderr",
     "output_type": "stream",
     "text": [
      "[I 2025-05-14 18:10:21,297] Trial 10 finished with value: -0.534055 and parameters: {'max_depth': 9, 'min_child_weight': 2, 'subsample': 0.9725833997090791, 'colsample_bynode': 0.11616568805333755, 'learning_rate': 0.17780618353487967}. Best is trial 10 with value: -0.534055.\n"
     ]
    },
    {
     "name": "stderr",
     "output_type": "stream",
     "text": [
      "[I 2025-05-14 18:10:21,861] Trial 11 finished with value: -0.517467 and parameters: {'max_depth': 9, 'min_child_weight': 4, 'subsample': 0.9818290990185045, 'colsample_bynode': 0.17702656156719, 'learning_rate': 0.11568531411766632}. Best is trial 10 with value: -0.534055.\n"
     ]
    },
    {
     "name": "stderr",
     "output_type": "stream",
     "text": [
      "[I 2025-05-14 18:10:22,204] Trial 12 pruned. Trial was pruned at iteration 26.\n"
     ]
    },
    {
     "name": "stderr",
     "output_type": "stream",
     "text": [
      "[I 2025-05-14 18:10:22,353] Trial 13 finished with value: -0.015898 and parameters: {'max_depth': 10, 'min_child_weight': 173, 'subsample': 0.9990589868255076, 'colsample_bynode': 0.10388397775802007, 'learning_rate': 0.08343244313100631}. Best is trial 10 with value: -0.534055.\n"
     ]
    },
    {
     "name": "stderr",
     "output_type": "stream",
     "text": [
      "[I 2025-05-14 18:10:22,504] Trial 14 finished with value: -0.015898 and parameters: {'max_depth': 7, 'min_child_weight': 132, 'subsample': 0.7251427075087294, 'colsample_bynode': 0.2827065087684573, 'learning_rate': 0.4477473783244542}. Best is trial 10 with value: -0.534055.\n"
     ]
    },
    {
     "name": "stderr",
     "output_type": "stream",
     "text": [
      "[I 2025-05-14 18:10:22,809] Trial 15 finished with value: -0.539314 and parameters: {'max_depth': 20, 'min_child_weight': 2, 'subsample': 0.719264024177087, 'colsample_bynode': 0.2540835086298475, 'learning_rate': 0.03987682305667138}. Best is trial 15 with value: -0.539314.\n"
     ]
    },
    {
     "name": "stderr",
     "output_type": "stream",
     "text": [
      "[I 2025-05-14 18:10:22,956] Trial 16 finished with value: -0.015898 and parameters: {'max_depth': 20, 'min_child_weight': 125, 'subsample': 0.6730263351162008, 'colsample_bynode': 0.31739943968230566, 'learning_rate': 0.044659416366591896}. Best is trial 15 with value: -0.539314.\n"
     ]
    },
    {
     "name": "stderr",
     "output_type": "stream",
     "text": [
      "[I 2025-05-14 18:10:23,100] Trial 17 finished with value: -0.015898 and parameters: {'max_depth': 20, 'min_child_weight': 183, 'subsample': 0.37310167079970213, 'colsample_bynode': 0.22493155379732882, 'learning_rate': 0.23262139091926284}. Best is trial 15 with value: -0.539314.\n"
     ]
    },
    {
     "name": "stderr",
     "output_type": "stream",
     "text": [
      "[I 2025-05-14 18:10:23,251] Trial 18 pruned. Trial was pruned at iteration 21.\n"
     ]
    },
    {
     "name": "stderr",
     "output_type": "stream",
     "text": [
      "[I 2025-05-14 18:10:23,399] Trial 19 finished with value: -0.015898 and parameters: {'max_depth': 17, 'min_child_weight': 102, 'subsample': 0.6654104672965864, 'colsample_bynode': 0.21504189185437605, 'learning_rate': 0.02836884085828114}. Best is trial 15 with value: -0.539314.\n"
     ]
    },
    {
     "name": "stderr",
     "output_type": "stream",
     "text": [
      "[I 2025-05-14 18:10:23,549] Trial 20 finished with value: -0.015898 and parameters: {'max_depth': 15, 'min_child_weight': 60, 'subsample': 0.4338557257751183, 'colsample_bynode': 0.39955810525382657, 'learning_rate': 0.1967644757193227}. Best is trial 15 with value: -0.539314.\n"
     ]
    },
    {
     "name": "stderr",
     "output_type": "stream",
     "text": [
      "[I 2025-05-14 18:10:24,080] Trial 21 finished with value: -0.499809 and parameters: {'max_depth': 11, 'min_child_weight': 1, 'subsample': 0.9284264477593334, 'colsample_bynode': 0.19119727298237837, 'learning_rate': 0.0976273435877206}. Best is trial 15 with value: -0.539314.\n"
     ]
    },
    {
     "name": "stderr",
     "output_type": "stream",
     "text": [
      "[I 2025-05-14 18:10:24,244] Trial 22 pruned. Trial was pruned at iteration 21.\n"
     ]
    },
    {
     "name": "stderr",
     "output_type": "stream",
     "text": [
      "[I 2025-05-14 18:10:24,410] Trial 23 pruned. Trial was pruned at iteration 21.\n"
     ]
    },
    {
     "name": "stderr",
     "output_type": "stream",
     "text": [
      "[I 2025-05-14 18:10:24,703] Trial 24 pruned. Trial was pruned at iteration 21.\n"
     ]
    },
    {
     "name": "stderr",
     "output_type": "stream",
     "text": [
      "[I 2025-05-14 18:10:24,849] Trial 25 finished with value: -0.015898 and parameters: {'max_depth': 3, 'min_child_weight': 62, 'subsample': 0.662757913620045, 'colsample_bynode': 0.24309103730946313, 'learning_rate': 0.11689990711425788}. Best is trial 15 with value: -0.539314.\n"
     ]
    },
    {
     "name": "stderr",
     "output_type": "stream",
     "text": [
      "[I 2025-05-14 18:10:25,014] Trial 26 pruned. Trial was pruned at iteration 21.\n"
     ]
    },
    {
     "name": "stderr",
     "output_type": "stream",
     "text": [
      "[I 2025-05-14 18:10:25,167] Trial 27 finished with value: -0.015898 and parameters: {'max_depth': 12, 'min_child_weight': 100, 'subsample': 0.9910719781336526, 'colsample_bynode': 0.8237370656050002, 'learning_rate': 0.029099115774307918}. Best is trial 15 with value: -0.539314.\n"
     ]
    },
    {
     "name": "stderr",
     "output_type": "stream",
     "text": [
      "[I 2025-05-14 18:10:25,317] Trial 28 finished with value: -0.015898 and parameters: {'max_depth': 7, 'min_child_weight': 161, 'subsample': 0.4700546128616854, 'colsample_bynode': 0.5141574009490943, 'learning_rate': 0.1574663341602851}. Best is trial 15 with value: -0.539314.\n"
     ]
    },
    {
     "name": "stderr",
     "output_type": "stream",
     "text": [
      "[I 2025-05-14 18:10:25,469] Trial 29 finished with value: -0.015898 and parameters: {'max_depth': 9, 'min_child_weight': 217, 'subsample': 0.7310736557469928, 'colsample_bynode': 0.34768103349523005, 'learning_rate': 0.3692960528518318}. Best is trial 15 with value: -0.539314.\n"
     ]
    },
    {
     "name": "stderr",
     "output_type": "stream",
     "text": [
      "[I 2025-05-14 18:10:25,618] Trial 30 finished with value: -0.015898 and parameters: {'max_depth': 16, 'min_child_weight': 220, 'subsample': 0.9221715533988128, 'colsample_bynode': 0.2806627470968155, 'learning_rate': 0.07779664131842105}. Best is trial 15 with value: -0.539314.\n"
     ]
    },
    {
     "name": "stderr",
     "output_type": "stream",
     "text": [
      "[I 2025-05-14 18:10:25,921] Trial 31 pruned. Trial was pruned at iteration 26.\n"
     ]
    },
    {
     "name": "stderr",
     "output_type": "stream",
     "text": [
      "[I 2025-05-14 18:10:26,097] Trial 32 pruned. Trial was pruned at iteration 21.\n"
     ]
    },
    {
     "name": "stderr",
     "output_type": "stream",
     "text": [
      "[I 2025-05-14 18:10:26,375] Trial 33 pruned. Trial was pruned at iteration 21.\n"
     ]
    },
    {
     "name": "stderr",
     "output_type": "stream",
     "text": [
      "[I 2025-05-14 18:10:26,530] Trial 34 pruned. Trial was pruned at iteration 21.\n"
     ]
    },
    {
     "name": "stderr",
     "output_type": "stream",
     "text": [
      "[I 2025-05-14 18:10:26,706] Trial 35 pruned. Trial was pruned at iteration 21.\n"
     ]
    },
    {
     "name": "stderr",
     "output_type": "stream",
     "text": [
      "[I 2025-05-14 18:10:26,852] Trial 36 finished with value: -0.115706 and parameters: {'max_depth': 8, 'min_child_weight': 56, 'subsample': 0.9439895125983835, 'colsample_bynode': 0.14079567995812314, 'learning_rate': 0.10206974598489887}. Best is trial 15 with value: -0.539314.\n"
     ]
    },
    {
     "name": "stderr",
     "output_type": "stream",
     "text": [
      "[I 2025-05-14 18:10:27,006] Trial 37 finished with value: -0.115706 and parameters: {'max_depth': 13, 'min_child_weight': 34, 'subsample': 0.8674003733115164, 'colsample_bynode': 0.2714469446141978, 'learning_rate': 0.018499756738066853}. Best is trial 15 with value: -0.539314.\n"
     ]
    },
    {
     "name": "stderr",
     "output_type": "stream",
     "text": [
      "[I 2025-05-14 18:10:27,155] Trial 38 pruned. Trial was pruned at iteration 21.\n"
     ]
    },
    {
     "name": "stderr",
     "output_type": "stream",
     "text": [
      "[I 2025-05-14 18:10:27,309] Trial 39 finished with value: -0.015898 and parameters: {'max_depth': 13, 'min_child_weight': 70, 'subsample': 0.7542611506081692, 'colsample_bynode': 0.46772844026793237, 'learning_rate': 0.1797534421202072}. Best is trial 15 with value: -0.539314.\n"
     ]
    },
    {
     "name": "stderr",
     "output_type": "stream",
     "text": [
      "[I 2025-05-14 18:10:27,458] Trial 40 finished with value: -0.015898 and parameters: {'max_depth': 9, 'min_child_weight': 46, 'subsample': 0.6135397358527036, 'colsample_bynode': 0.2036171099173147, 'learning_rate': 0.010577307206943332}. Best is trial 15 with value: -0.539314.\n"
     ]
    },
    {
     "name": "stderr",
     "output_type": "stream",
     "text": [
      "[I 2025-05-14 18:10:27,696] Trial 41 finished with value: -0.39989 and parameters: {'max_depth': 4, 'min_child_weight': 12, 'subsample': 0.9598788704396302, 'colsample_bynode': 0.6825588219670029, 'learning_rate': 0.10917175339179477}. Best is trial 15 with value: -0.539314.\n"
     ]
    },
    {
     "name": "stderr",
     "output_type": "stream",
     "text": [
      "[I 2025-05-14 18:10:27,924] Trial 42 finished with value: -0.430143 and parameters: {'max_depth': 3, 'min_child_weight': 13, 'subsample': 0.9724015486363398, 'colsample_bynode': 0.6602089419019065, 'learning_rate': 0.118508364108173}. Best is trial 15 with value: -0.539314.\n"
     ]
    },
    {
     "name": "stderr",
     "output_type": "stream",
     "text": [
      "[I 2025-05-14 18:10:28,087] Trial 43 pruned. Trial was pruned at iteration 21.\n"
     ]
    },
    {
     "name": "stderr",
     "output_type": "stream",
     "text": [
      "[I 2025-05-14 18:10:28,451] Trial 44 pruned. Trial was pruned at iteration 21.\n"
     ]
    },
    {
     "name": "stderr",
     "output_type": "stream",
     "text": [
      "[I 2025-05-14 18:10:28,603] Trial 45 finished with value: -0.015898 and parameters: {'max_depth': 14, 'min_child_weight': 48, 'subsample': 0.5087995164110648, 'colsample_bynode': 0.7794856826875709, 'learning_rate': 0.03942786505215188}. Best is trial 15 with value: -0.539314.\n"
     ]
    },
    {
     "name": "stderr",
     "output_type": "stream",
     "text": [
      "[I 2025-05-14 18:10:28,809] Trial 46 pruned. Trial was pruned at iteration 21.\n"
     ]
    },
    {
     "name": "stderr",
     "output_type": "stream",
     "text": [
      "[I 2025-05-14 18:10:28,965] Trial 47 finished with value: -0.015898 and parameters: {'max_depth': 7, 'min_child_weight': 88, 'subsample': 0.8539833951706737, 'colsample_bynode': 0.8676641705395697, 'learning_rate': 0.20296397962456525}. Best is trial 15 with value: -0.539314.\n"
     ]
    },
    {
     "name": "stderr",
     "output_type": "stream",
     "text": [
      "[I 2025-05-14 18:10:29,119] Trial 48 pruned. Trial was pruned at iteration 21.\n"
     ]
    },
    {
     "name": "stderr",
     "output_type": "stream",
     "text": [
      "[I 2025-05-14 18:10:29,307] Trial 49 pruned. Trial was pruned at iteration 21.\n"
     ]
    }
   ],
   "source": [
    "sampler = optuna.samplers.TPESampler(seed=42)\n",
    "study = optuna.create_study(direction='minimize', sampler=sampler)\n",
    "study.optimize(objective, n_trials=N_TRIALS, gc_after_trial=True)"
   ]
  },
  {
   "cell_type": "code",
   "execution_count": 20,
   "id": "81dc1c17",
   "metadata": {
    "execution": {
     "iopub.execute_input": "2025-05-14T16:10:29.400028Z",
     "iopub.status.busy": "2025-05-14T16:10:29.399762Z",
     "iopub.status.idle": "2025-05-14T16:10:29.420614Z",
     "shell.execute_reply": "2025-05-14T16:10:29.420313Z"
    },
    "papermill": {
     "duration": 0.030268,
     "end_time": "2025-05-14T16:10:29.421426",
     "exception": false,
     "start_time": "2025-05-14T16:10:29.391158",
     "status": "completed"
    },
    "tags": []
   },
   "outputs": [
    {
     "data": {
      "text/plain": [
       "['/scratch_isilon/groups/singlecell/shared/projects/Inflammation-PBMCs-Atlas/03_downstream_analysis/08_gene_importance/xgboost_external_validation/xgboost_TopN_genes/results_20/study/Plasma_shap_disease_NOstudy_4_xgboost.pkl']"
      ]
     },
     "execution_count": 20,
     "metadata": {},
     "output_type": "execute_result"
    }
   ],
   "source": [
    "out_dir = here(f'03_downstream_analysis/08_gene_importance/xgboost_external_validation/xgboost_TopN_genes/results_{N_GENES}/study')\n",
    "\n",
    "if not os.path.exists(out_dir):\n",
    "    os.makedirs(out_dir)\n",
    "    \n",
    "joblib.dump(study,os.path.join(out_dir, f'{CELL_TYPE}_{SEED}_{TEST_SPLIT_IDX}_xgboost.pkl'))"
   ]
  },
  {
   "cell_type": "code",
   "execution_count": 21,
   "id": "3d4676fd",
   "metadata": {
    "execution": {
     "iopub.execute_input": "2025-05-14T16:10:29.461671Z",
     "iopub.status.busy": "2025-05-14T16:10:29.461268Z",
     "iopub.status.idle": "2025-05-14T16:10:29.471766Z",
     "shell.execute_reply": "2025-05-14T16:10:29.471473Z"
    },
    "papermill": {
     "duration": 0.020112,
     "end_time": "2025-05-14T16:10:29.472603",
     "exception": false,
     "start_time": "2025-05-14T16:10:29.452491",
     "status": "completed"
    },
    "tags": []
   },
   "outputs": [
    {
     "data": {
      "text/html": [
       "<style>#sk-container-id-1 {\n",
       "  /* Definition of color scheme common for light and dark mode */\n",
       "  --sklearn-color-text: black;\n",
       "  --sklearn-color-line: gray;\n",
       "  /* Definition of color scheme for unfitted estimators */\n",
       "  --sklearn-color-unfitted-level-0: #fff5e6;\n",
       "  --sklearn-color-unfitted-level-1: #f6e4d2;\n",
       "  --sklearn-color-unfitted-level-2: #ffe0b3;\n",
       "  --sklearn-color-unfitted-level-3: chocolate;\n",
       "  /* Definition of color scheme for fitted estimators */\n",
       "  --sklearn-color-fitted-level-0: #f0f8ff;\n",
       "  --sklearn-color-fitted-level-1: #d4ebff;\n",
       "  --sklearn-color-fitted-level-2: #b3dbfd;\n",
       "  --sklearn-color-fitted-level-3: cornflowerblue;\n",
       "\n",
       "  /* Specific color for light theme */\n",
       "  --sklearn-color-text-on-default-background: var(--sg-text-color, var(--theme-code-foreground, var(--jp-content-font-color1, black)));\n",
       "  --sklearn-color-background: var(--sg-background-color, var(--theme-background, var(--jp-layout-color0, white)));\n",
       "  --sklearn-color-border-box: var(--sg-text-color, var(--theme-code-foreground, var(--jp-content-font-color1, black)));\n",
       "  --sklearn-color-icon: #696969;\n",
       "\n",
       "  @media (prefers-color-scheme: dark) {\n",
       "    /* Redefinition of color scheme for dark theme */\n",
       "    --sklearn-color-text-on-default-background: var(--sg-text-color, var(--theme-code-foreground, var(--jp-content-font-color1, white)));\n",
       "    --sklearn-color-background: var(--sg-background-color, var(--theme-background, var(--jp-layout-color0, #111)));\n",
       "    --sklearn-color-border-box: var(--sg-text-color, var(--theme-code-foreground, var(--jp-content-font-color1, white)));\n",
       "    --sklearn-color-icon: #878787;\n",
       "  }\n",
       "}\n",
       "\n",
       "#sk-container-id-1 {\n",
       "  color: var(--sklearn-color-text);\n",
       "}\n",
       "\n",
       "#sk-container-id-1 pre {\n",
       "  padding: 0;\n",
       "}\n",
       "\n",
       "#sk-container-id-1 input.sk-hidden--visually {\n",
       "  border: 0;\n",
       "  clip: rect(1px 1px 1px 1px);\n",
       "  clip: rect(1px, 1px, 1px, 1px);\n",
       "  height: 1px;\n",
       "  margin: -1px;\n",
       "  overflow: hidden;\n",
       "  padding: 0;\n",
       "  position: absolute;\n",
       "  width: 1px;\n",
       "}\n",
       "\n",
       "#sk-container-id-1 div.sk-dashed-wrapped {\n",
       "  border: 1px dashed var(--sklearn-color-line);\n",
       "  margin: 0 0.4em 0.5em 0.4em;\n",
       "  box-sizing: border-box;\n",
       "  padding-bottom: 0.4em;\n",
       "  background-color: var(--sklearn-color-background);\n",
       "}\n",
       "\n",
       "#sk-container-id-1 div.sk-container {\n",
       "  /* jupyter's `normalize.less` sets `[hidden] { display: none; }`\n",
       "     but bootstrap.min.css set `[hidden] { display: none !important; }`\n",
       "     so we also need the `!important` here to be able to override the\n",
       "     default hidden behavior on the sphinx rendered scikit-learn.org.\n",
       "     See: https://github.com/scikit-learn/scikit-learn/issues/21755 */\n",
       "  display: inline-block !important;\n",
       "  position: relative;\n",
       "}\n",
       "\n",
       "#sk-container-id-1 div.sk-text-repr-fallback {\n",
       "  display: none;\n",
       "}\n",
       "\n",
       "div.sk-parallel-item,\n",
       "div.sk-serial,\n",
       "div.sk-item {\n",
       "  /* draw centered vertical line to link estimators */\n",
       "  background-image: linear-gradient(var(--sklearn-color-text-on-default-background), var(--sklearn-color-text-on-default-background));\n",
       "  background-size: 2px 100%;\n",
       "  background-repeat: no-repeat;\n",
       "  background-position: center center;\n",
       "}\n",
       "\n",
       "/* Parallel-specific style estimator block */\n",
       "\n",
       "#sk-container-id-1 div.sk-parallel-item::after {\n",
       "  content: \"\";\n",
       "  width: 100%;\n",
       "  border-bottom: 2px solid var(--sklearn-color-text-on-default-background);\n",
       "  flex-grow: 1;\n",
       "}\n",
       "\n",
       "#sk-container-id-1 div.sk-parallel {\n",
       "  display: flex;\n",
       "  align-items: stretch;\n",
       "  justify-content: center;\n",
       "  background-color: var(--sklearn-color-background);\n",
       "  position: relative;\n",
       "}\n",
       "\n",
       "#sk-container-id-1 div.sk-parallel-item {\n",
       "  display: flex;\n",
       "  flex-direction: column;\n",
       "}\n",
       "\n",
       "#sk-container-id-1 div.sk-parallel-item:first-child::after {\n",
       "  align-self: flex-end;\n",
       "  width: 50%;\n",
       "}\n",
       "\n",
       "#sk-container-id-1 div.sk-parallel-item:last-child::after {\n",
       "  align-self: flex-start;\n",
       "  width: 50%;\n",
       "}\n",
       "\n",
       "#sk-container-id-1 div.sk-parallel-item:only-child::after {\n",
       "  width: 0;\n",
       "}\n",
       "\n",
       "/* Serial-specific style estimator block */\n",
       "\n",
       "#sk-container-id-1 div.sk-serial {\n",
       "  display: flex;\n",
       "  flex-direction: column;\n",
       "  align-items: center;\n",
       "  background-color: var(--sklearn-color-background);\n",
       "  padding-right: 1em;\n",
       "  padding-left: 1em;\n",
       "}\n",
       "\n",
       "\n",
       "/* Toggleable style: style used for estimator/Pipeline/ColumnTransformer box that is\n",
       "clickable and can be expanded/collapsed.\n",
       "- Pipeline and ColumnTransformer use this feature and define the default style\n",
       "- Estimators will overwrite some part of the style using the `sk-estimator` class\n",
       "*/\n",
       "\n",
       "/* Pipeline and ColumnTransformer style (default) */\n",
       "\n",
       "#sk-container-id-1 div.sk-toggleable {\n",
       "  /* Default theme specific background. It is overwritten whether we have a\n",
       "  specific estimator or a Pipeline/ColumnTransformer */\n",
       "  background-color: var(--sklearn-color-background);\n",
       "}\n",
       "\n",
       "/* Toggleable label */\n",
       "#sk-container-id-1 label.sk-toggleable__label {\n",
       "  cursor: pointer;\n",
       "  display: block;\n",
       "  width: 100%;\n",
       "  margin-bottom: 0;\n",
       "  padding: 0.5em;\n",
       "  box-sizing: border-box;\n",
       "  text-align: center;\n",
       "}\n",
       "\n",
       "#sk-container-id-1 label.sk-toggleable__label-arrow:before {\n",
       "  /* Arrow on the left of the label */\n",
       "  content: \"▸\";\n",
       "  float: left;\n",
       "  margin-right: 0.25em;\n",
       "  color: var(--sklearn-color-icon);\n",
       "}\n",
       "\n",
       "#sk-container-id-1 label.sk-toggleable__label-arrow:hover:before {\n",
       "  color: var(--sklearn-color-text);\n",
       "}\n",
       "\n",
       "/* Toggleable content - dropdown */\n",
       "\n",
       "#sk-container-id-1 div.sk-toggleable__content {\n",
       "  max-height: 0;\n",
       "  max-width: 0;\n",
       "  overflow: hidden;\n",
       "  text-align: left;\n",
       "  /* unfitted */\n",
       "  background-color: var(--sklearn-color-unfitted-level-0);\n",
       "}\n",
       "\n",
       "#sk-container-id-1 div.sk-toggleable__content.fitted {\n",
       "  /* fitted */\n",
       "  background-color: var(--sklearn-color-fitted-level-0);\n",
       "}\n",
       "\n",
       "#sk-container-id-1 div.sk-toggleable__content pre {\n",
       "  margin: 0.2em;\n",
       "  border-radius: 0.25em;\n",
       "  color: var(--sklearn-color-text);\n",
       "  /* unfitted */\n",
       "  background-color: var(--sklearn-color-unfitted-level-0);\n",
       "}\n",
       "\n",
       "#sk-container-id-1 div.sk-toggleable__content.fitted pre {\n",
       "  /* unfitted */\n",
       "  background-color: var(--sklearn-color-fitted-level-0);\n",
       "}\n",
       "\n",
       "#sk-container-id-1 input.sk-toggleable__control:checked~div.sk-toggleable__content {\n",
       "  /* Expand drop-down */\n",
       "  max-height: 200px;\n",
       "  max-width: 100%;\n",
       "  overflow: auto;\n",
       "}\n",
       "\n",
       "#sk-container-id-1 input.sk-toggleable__control:checked~label.sk-toggleable__label-arrow:before {\n",
       "  content: \"▾\";\n",
       "}\n",
       "\n",
       "/* Pipeline/ColumnTransformer-specific style */\n",
       "\n",
       "#sk-container-id-1 div.sk-label input.sk-toggleable__control:checked~label.sk-toggleable__label {\n",
       "  color: var(--sklearn-color-text);\n",
       "  background-color: var(--sklearn-color-unfitted-level-2);\n",
       "}\n",
       "\n",
       "#sk-container-id-1 div.sk-label.fitted input.sk-toggleable__control:checked~label.sk-toggleable__label {\n",
       "  background-color: var(--sklearn-color-fitted-level-2);\n",
       "}\n",
       "\n",
       "/* Estimator-specific style */\n",
       "\n",
       "/* Colorize estimator box */\n",
       "#sk-container-id-1 div.sk-estimator input.sk-toggleable__control:checked~label.sk-toggleable__label {\n",
       "  /* unfitted */\n",
       "  background-color: var(--sklearn-color-unfitted-level-2);\n",
       "}\n",
       "\n",
       "#sk-container-id-1 div.sk-estimator.fitted input.sk-toggleable__control:checked~label.sk-toggleable__label {\n",
       "  /* fitted */\n",
       "  background-color: var(--sklearn-color-fitted-level-2);\n",
       "}\n",
       "\n",
       "#sk-container-id-1 div.sk-label label.sk-toggleable__label,\n",
       "#sk-container-id-1 div.sk-label label {\n",
       "  /* The background is the default theme color */\n",
       "  color: var(--sklearn-color-text-on-default-background);\n",
       "}\n",
       "\n",
       "/* On hover, darken the color of the background */\n",
       "#sk-container-id-1 div.sk-label:hover label.sk-toggleable__label {\n",
       "  color: var(--sklearn-color-text);\n",
       "  background-color: var(--sklearn-color-unfitted-level-2);\n",
       "}\n",
       "\n",
       "/* Label box, darken color on hover, fitted */\n",
       "#sk-container-id-1 div.sk-label.fitted:hover label.sk-toggleable__label.fitted {\n",
       "  color: var(--sklearn-color-text);\n",
       "  background-color: var(--sklearn-color-fitted-level-2);\n",
       "}\n",
       "\n",
       "/* Estimator label */\n",
       "\n",
       "#sk-container-id-1 div.sk-label label {\n",
       "  font-family: monospace;\n",
       "  font-weight: bold;\n",
       "  display: inline-block;\n",
       "  line-height: 1.2em;\n",
       "}\n",
       "\n",
       "#sk-container-id-1 div.sk-label-container {\n",
       "  text-align: center;\n",
       "}\n",
       "\n",
       "/* Estimator-specific */\n",
       "#sk-container-id-1 div.sk-estimator {\n",
       "  font-family: monospace;\n",
       "  border: 1px dotted var(--sklearn-color-border-box);\n",
       "  border-radius: 0.25em;\n",
       "  box-sizing: border-box;\n",
       "  margin-bottom: 0.5em;\n",
       "  /* unfitted */\n",
       "  background-color: var(--sklearn-color-unfitted-level-0);\n",
       "}\n",
       "\n",
       "#sk-container-id-1 div.sk-estimator.fitted {\n",
       "  /* fitted */\n",
       "  background-color: var(--sklearn-color-fitted-level-0);\n",
       "}\n",
       "\n",
       "/* on hover */\n",
       "#sk-container-id-1 div.sk-estimator:hover {\n",
       "  /* unfitted */\n",
       "  background-color: var(--sklearn-color-unfitted-level-2);\n",
       "}\n",
       "\n",
       "#sk-container-id-1 div.sk-estimator.fitted:hover {\n",
       "  /* fitted */\n",
       "  background-color: var(--sklearn-color-fitted-level-2);\n",
       "}\n",
       "\n",
       "/* Specification for estimator info (e.g. \"i\" and \"?\") */\n",
       "\n",
       "/* Common style for \"i\" and \"?\" */\n",
       "\n",
       ".sk-estimator-doc-link,\n",
       "a:link.sk-estimator-doc-link,\n",
       "a:visited.sk-estimator-doc-link {\n",
       "  float: right;\n",
       "  font-size: smaller;\n",
       "  line-height: 1em;\n",
       "  font-family: monospace;\n",
       "  background-color: var(--sklearn-color-background);\n",
       "  border-radius: 1em;\n",
       "  height: 1em;\n",
       "  width: 1em;\n",
       "  text-decoration: none !important;\n",
       "  margin-left: 1ex;\n",
       "  /* unfitted */\n",
       "  border: var(--sklearn-color-unfitted-level-1) 1pt solid;\n",
       "  color: var(--sklearn-color-unfitted-level-1);\n",
       "}\n",
       "\n",
       ".sk-estimator-doc-link.fitted,\n",
       "a:link.sk-estimator-doc-link.fitted,\n",
       "a:visited.sk-estimator-doc-link.fitted {\n",
       "  /* fitted */\n",
       "  border: var(--sklearn-color-fitted-level-1) 1pt solid;\n",
       "  color: var(--sklearn-color-fitted-level-1);\n",
       "}\n",
       "\n",
       "/* On hover */\n",
       "div.sk-estimator:hover .sk-estimator-doc-link:hover,\n",
       ".sk-estimator-doc-link:hover,\n",
       "div.sk-label-container:hover .sk-estimator-doc-link:hover,\n",
       ".sk-estimator-doc-link:hover {\n",
       "  /* unfitted */\n",
       "  background-color: var(--sklearn-color-unfitted-level-3);\n",
       "  color: var(--sklearn-color-background);\n",
       "  text-decoration: none;\n",
       "}\n",
       "\n",
       "div.sk-estimator.fitted:hover .sk-estimator-doc-link.fitted:hover,\n",
       ".sk-estimator-doc-link.fitted:hover,\n",
       "div.sk-label-container:hover .sk-estimator-doc-link.fitted:hover,\n",
       ".sk-estimator-doc-link.fitted:hover {\n",
       "  /* fitted */\n",
       "  background-color: var(--sklearn-color-fitted-level-3);\n",
       "  color: var(--sklearn-color-background);\n",
       "  text-decoration: none;\n",
       "}\n",
       "\n",
       "/* Span, style for the box shown on hovering the info icon */\n",
       ".sk-estimator-doc-link span {\n",
       "  display: none;\n",
       "  z-index: 9999;\n",
       "  position: relative;\n",
       "  font-weight: normal;\n",
       "  right: .2ex;\n",
       "  padding: .5ex;\n",
       "  margin: .5ex;\n",
       "  width: min-content;\n",
       "  min-width: 20ex;\n",
       "  max-width: 50ex;\n",
       "  color: var(--sklearn-color-text);\n",
       "  box-shadow: 2pt 2pt 4pt #999;\n",
       "  /* unfitted */\n",
       "  background: var(--sklearn-color-unfitted-level-0);\n",
       "  border: .5pt solid var(--sklearn-color-unfitted-level-3);\n",
       "}\n",
       "\n",
       ".sk-estimator-doc-link.fitted span {\n",
       "  /* fitted */\n",
       "  background: var(--sklearn-color-fitted-level-0);\n",
       "  border: var(--sklearn-color-fitted-level-3);\n",
       "}\n",
       "\n",
       ".sk-estimator-doc-link:hover span {\n",
       "  display: block;\n",
       "}\n",
       "\n",
       "/* \"?\"-specific style due to the `<a>` HTML tag */\n",
       "\n",
       "#sk-container-id-1 a.estimator_doc_link {\n",
       "  float: right;\n",
       "  font-size: 1rem;\n",
       "  line-height: 1em;\n",
       "  font-family: monospace;\n",
       "  background-color: var(--sklearn-color-background);\n",
       "  border-radius: 1rem;\n",
       "  height: 1rem;\n",
       "  width: 1rem;\n",
       "  text-decoration: none;\n",
       "  /* unfitted */\n",
       "  color: var(--sklearn-color-unfitted-level-1);\n",
       "  border: var(--sklearn-color-unfitted-level-1) 1pt solid;\n",
       "}\n",
       "\n",
       "#sk-container-id-1 a.estimator_doc_link.fitted {\n",
       "  /* fitted */\n",
       "  border: var(--sklearn-color-fitted-level-1) 1pt solid;\n",
       "  color: var(--sklearn-color-fitted-level-1);\n",
       "}\n",
       "\n",
       "/* On hover */\n",
       "#sk-container-id-1 a.estimator_doc_link:hover {\n",
       "  /* unfitted */\n",
       "  background-color: var(--sklearn-color-unfitted-level-3);\n",
       "  color: var(--sklearn-color-background);\n",
       "  text-decoration: none;\n",
       "}\n",
       "\n",
       "#sk-container-id-1 a.estimator_doc_link.fitted:hover {\n",
       "  /* fitted */\n",
       "  background-color: var(--sklearn-color-fitted-level-3);\n",
       "}\n",
       "</style><div id=\"sk-container-id-1\" class=\"sk-top-container\"><div class=\"sk-text-repr-fallback\"><pre>XGBClassifier(base_score=None, booster=None, callbacks=None,\n",
       "              colsample_bylevel=None, colsample_bynode=0.2540835086298475,\n",
       "              colsample_bytree=None, device=None, early_stopping_rounds=None,\n",
       "              enable_categorical=False,\n",
       "              eval_metric=&lt;function custom_f1_score at 0x7fafdf4d74c0&gt;,\n",
       "              feature_types=None, gamma=None, grow_policy=None,\n",
       "              importance_type=None, interaction_constraints=None,\n",
       "              learning_rate=0.03987682305667138, max_bin=None,\n",
       "              max_cat_threshold=None, max_cat_to_onehot=None,\n",
       "              max_delta_step=None, max_depth=20, max_leaves=None,\n",
       "              min_child_weight=2, missing=nan, monotone_constraints=None,\n",
       "              multi_strategy=None, n_estimators=0, n_jobs=None,\n",
       "              num_parallel_tree=None, objective=&#x27;multi:softprob&#x27;, ...)</pre><b>In a Jupyter environment, please rerun this cell to show the HTML representation or trust the notebook. <br />On GitHub, the HTML representation is unable to render, please try loading this page with nbviewer.org.</b></div><div class=\"sk-container\" hidden><div class=\"sk-item\"><div class=\"sk-estimator fitted sk-toggleable\"><input class=\"sk-toggleable__control sk-hidden--visually\" id=\"sk-estimator-id-1\" type=\"checkbox\" checked><label for=\"sk-estimator-id-1\" class=\"sk-toggleable__label fitted sk-toggleable__label-arrow fitted\">&nbsp;XGBClassifier<span class=\"sk-estimator-doc-link fitted\">i<span>Fitted</span></span></label><div class=\"sk-toggleable__content fitted\"><pre>XGBClassifier(base_score=None, booster=None, callbacks=None,\n",
       "              colsample_bylevel=None, colsample_bynode=0.2540835086298475,\n",
       "              colsample_bytree=None, device=None, early_stopping_rounds=None,\n",
       "              enable_categorical=False,\n",
       "              eval_metric=&lt;function custom_f1_score at 0x7fafdf4d74c0&gt;,\n",
       "              feature_types=None, gamma=None, grow_policy=None,\n",
       "              importance_type=None, interaction_constraints=None,\n",
       "              learning_rate=0.03987682305667138, max_bin=None,\n",
       "              max_cat_threshold=None, max_cat_to_onehot=None,\n",
       "              max_delta_step=None, max_depth=20, max_leaves=None,\n",
       "              min_child_weight=2, missing=nan, monotone_constraints=None,\n",
       "              multi_strategy=None, n_estimators=0, n_jobs=None,\n",
       "              num_parallel_tree=None, objective=&#x27;multi:softprob&#x27;, ...)</pre></div> </div></div></div></div>"
      ],
      "text/plain": [
       "XGBClassifier(base_score=None, booster=None, callbacks=None,\n",
       "              colsample_bylevel=None, colsample_bynode=0.2540835086298475,\n",
       "              colsample_bytree=None, device=None, early_stopping_rounds=None,\n",
       "              enable_categorical=False,\n",
       "              eval_metric=<function custom_f1_score at 0x7fafdf4d74c0>,\n",
       "              feature_types=None, gamma=None, grow_policy=None,\n",
       "              importance_type=None, interaction_constraints=None,\n",
       "              learning_rate=0.03987682305667138, max_bin=None,\n",
       "              max_cat_threshold=None, max_cat_to_onehot=None,\n",
       "              max_delta_step=None, max_depth=20, max_leaves=None,\n",
       "              min_child_weight=2, missing=nan, monotone_constraints=None,\n",
       "              multi_strategy=None, n_estimators=0, n_jobs=None,\n",
       "              num_parallel_tree=None, objective='multi:softprob', ...)"
      ]
     },
     "execution_count": 21,
     "metadata": {},
     "output_type": "execute_result"
    }
   ],
   "source": [
    "n_estimators = int(study.best_trial.user_attrs['best_iteration']*1.2)\n",
    "xgb = xgboost.XGBClassifier(\n",
    "        eval_metric=eval_metric,\n",
    "        n_estimators=n_estimators,\n",
    "        **study.best_trial.params\n",
    "    )\n",
    "xgb.fit(\n",
    "    ssp.vstack((X_train, X_val)), \n",
    "    np.concatenate((y_train_enc, y_val_enc)),\n",
    "    verbose=1,\n",
    ")"
   ]
  },
  {
   "cell_type": "code",
   "execution_count": 22,
   "id": "bdd08e99",
   "metadata": {
    "execution": {
     "iopub.execute_input": "2025-05-14T16:10:29.492439Z",
     "iopub.status.busy": "2025-05-14T16:10:29.492183Z",
     "iopub.status.idle": "2025-05-14T16:10:29.510310Z",
     "shell.execute_reply": "2025-05-14T16:10:29.510006Z"
    },
    "papermill": {
     "duration": 0.028381,
     "end_time": "2025-05-14T16:10:29.511202",
     "exception": false,
     "start_time": "2025-05-14T16:10:29.482821",
     "status": "completed"
    },
    "tags": []
   },
   "outputs": [
    {
     "data": {
      "text/plain": [
       "['/scratch_isilon/groups/singlecell/shared/projects/Inflammation-PBMCs-Atlas/03_downstream_analysis/08_gene_importance/xgboost_external_validation/xgboost_TopN_genes/results_20/best_model/Plasma_shap_disease_NOstudy_4_xgb.json']"
      ]
     },
     "execution_count": 22,
     "metadata": {},
     "output_type": "execute_result"
    }
   ],
   "source": [
    "out_dir = here(f'03_downstream_analysis/08_gene_importance/xgboost_external_validation/xgboost_TopN_genes/results_{N_GENES}/best_model')\n",
    "\n",
    "if not os.path.exists(out_dir):\n",
    "    os.makedirs(out_dir)\n",
    "    \n",
    "joblib.dump(xgb, os.path.join(out_dir, f'{CELL_TYPE}_{SEED}_{TEST_SPLIT_IDX}_xgb.json'))"
   ]
  },
  {
   "cell_type": "code",
   "execution_count": 23,
   "id": "2c09cc52",
   "metadata": {
    "execution": {
     "iopub.execute_input": "2025-05-14T16:10:29.529865Z",
     "iopub.status.busy": "2025-05-14T16:10:29.529667Z",
     "iopub.status.idle": "2025-05-14T16:10:29.556416Z",
     "shell.execute_reply": "2025-05-14T16:10:29.555989Z"
    },
    "papermill": {
     "duration": 0.036882,
     "end_time": "2025-05-14T16:10:29.557274",
     "exception": false,
     "start_time": "2025-05-14T16:10:29.520392",
     "status": "completed"
    },
    "tags": []
   },
   "outputs": [],
   "source": [
    "df_pred_test = pd.DataFrame(dict(\n",
    "    cell_id=train_adata.obs.iloc[test_idxs].index.values,\n",
    "    y_true=y_test, \n",
    "    y_true_code=y_test_enc, \n",
    "    y_pred=xgb.predict(X_test))).set_index('cell_id')"
   ]
  },
  {
   "cell_type": "code",
   "execution_count": 24,
   "id": "c7b31c69",
   "metadata": {
    "execution": {
     "iopub.execute_input": "2025-05-14T16:10:29.576462Z",
     "iopub.status.busy": "2025-05-14T16:10:29.576251Z",
     "iopub.status.idle": "2025-05-14T16:10:29.585781Z",
     "shell.execute_reply": "2025-05-14T16:10:29.585475Z"
    },
    "papermill": {
     "duration": 0.02026,
     "end_time": "2025-05-14T16:10:29.586712",
     "exception": false,
     "start_time": "2025-05-14T16:10:29.566452",
     "status": "completed"
    },
    "tags": []
   },
   "outputs": [],
   "source": [
    "out_dir = here(f'03_downstream_analysis/08_gene_importance/xgboost_external_validation/xgboost_TopN_genes/results_{N_GENES}/predictions')\n",
    "\n",
    "if not os.path.exists(out_dir):\n",
    "    os.makedirs(out_dir)\n",
    "    \n",
    "df_pred_test.to_csv(os.path.join(out_dir, f'{CELL_TYPE}_{SEED}_{TEST_SPLIT_IDX}_pred_test.zip'))"
   ]
  },
  {
   "cell_type": "code",
   "execution_count": 25,
   "id": "5e216afc",
   "metadata": {
    "execution": {
     "iopub.execute_input": "2025-05-14T16:10:29.604941Z",
     "iopub.status.busy": "2025-05-14T16:10:29.604673Z",
     "iopub.status.idle": "2025-05-14T16:10:29.609605Z",
     "shell.execute_reply": "2025-05-14T16:10:29.609301Z"
    },
    "papermill": {
     "duration": 0.015123,
     "end_time": "2025-05-14T16:10:29.610399",
     "exception": false,
     "start_time": "2025-05-14T16:10:29.595276",
     "status": "completed"
    },
    "tags": []
   },
   "outputs": [],
   "source": [
    "metrics_dict = dict(\n",
    "    BAS=balanced_accuracy_score(y_true=df_pred_test.y_true_code, y_pred=df_pred_test.y_pred), WF1=f1_score(y_true=df_pred_test.y_true_code, y_pred=df_pred_test.y_pred,average='weighted'))"
   ]
  },
  {
   "cell_type": "code",
   "execution_count": 26,
   "id": "7314dcb5",
   "metadata": {
    "execution": {
     "iopub.execute_input": "2025-05-14T16:10:29.628709Z",
     "iopub.status.busy": "2025-05-14T16:10:29.628511Z",
     "iopub.status.idle": "2025-05-14T16:10:29.631013Z",
     "shell.execute_reply": "2025-05-14T16:10:29.630715Z"
    },
    "papermill": {
     "duration": 0.012899,
     "end_time": "2025-05-14T16:10:29.631872",
     "exception": false,
     "start_time": "2025-05-14T16:10:29.618973",
     "status": "completed"
    },
    "tags": []
   },
   "outputs": [
    {
     "data": {
      "text/plain": [
       "{'BAS': 0.14285714285714285, 'WF1': 0.041688111168296446}"
      ]
     },
     "execution_count": 26,
     "metadata": {},
     "output_type": "execute_result"
    }
   ],
   "source": [
    "metrics_dict"
   ]
  },
  {
   "cell_type": "code",
   "execution_count": 27,
   "id": "5f712e59",
   "metadata": {
    "execution": {
     "iopub.execute_input": "2025-05-14T16:10:29.649987Z",
     "iopub.status.busy": "2025-05-14T16:10:29.649784Z",
     "iopub.status.idle": "2025-05-14T16:10:29.657178Z",
     "shell.execute_reply": "2025-05-14T16:10:29.656893Z"
    },
    "papermill": {
     "duration": 0.017331,
     "end_time": "2025-05-14T16:10:29.658011",
     "exception": false,
     "start_time": "2025-05-14T16:10:29.640680",
     "status": "completed"
    },
    "tags": []
   },
   "outputs": [
    {
     "data": {
      "text/html": [
       "<div>\n",
       "<style scoped>\n",
       "    .dataframe tbody tr th:only-of-type {\n",
       "        vertical-align: middle;\n",
       "    }\n",
       "\n",
       "    .dataframe tbody tr th {\n",
       "        vertical-align: top;\n",
       "    }\n",
       "\n",
       "    .dataframe thead th {\n",
       "        text-align: right;\n",
       "    }\n",
       "</style>\n",
       "<table border=\"1\" class=\"dataframe\">\n",
       "  <thead>\n",
       "    <tr style=\"text-align: right;\">\n",
       "      <th></th>\n",
       "      <th>BAS</th>\n",
       "      <th>WF1</th>\n",
       "      <th>split_idx</th>\n",
       "      <th>gene_set_seed</th>\n",
       "      <th>cell_type</th>\n",
       "    </tr>\n",
       "  </thead>\n",
       "  <tbody>\n",
       "    <tr>\n",
       "      <th>0</th>\n",
       "      <td>0.142857</td>\n",
       "      <td>0.041688</td>\n",
       "      <td>4</td>\n",
       "      <td>shap_disease_NOstudy</td>\n",
       "      <td>Plasma</td>\n",
       "    </tr>\n",
       "  </tbody>\n",
       "</table>\n",
       "</div>"
      ],
      "text/plain": [
       "        BAS       WF1  split_idx         gene_set_seed cell_type\n",
       "0  0.142857  0.041688          4  shap_disease_NOstudy    Plasma"
      ]
     },
     "execution_count": 27,
     "metadata": {},
     "output_type": "execute_result"
    }
   ],
   "source": [
    "metrics_df = pd.DataFrame.from_dict([metrics_dict]).assign(split_idx=TEST_SPLIT_IDX, gene_set_seed=SEED, cell_type=CELL_TYPE)\n",
    "metrics_df"
   ]
  },
  {
   "cell_type": "code",
   "execution_count": 28,
   "id": "df2f54cf",
   "metadata": {
    "execution": {
     "iopub.execute_input": "2025-05-14T16:10:29.676518Z",
     "iopub.status.busy": "2025-05-14T16:10:29.676226Z",
     "iopub.status.idle": "2025-05-14T16:10:29.683423Z",
     "shell.execute_reply": "2025-05-14T16:10:29.683110Z"
    },
    "papermill": {
     "duration": 0.017561,
     "end_time": "2025-05-14T16:10:29.684322",
     "exception": false,
     "start_time": "2025-05-14T16:10:29.666761",
     "status": "completed"
    },
    "tags": []
   },
   "outputs": [],
   "source": [
    "out_dir = here(f'03_downstream_analysis/08_gene_importance/xgboost_external_validation/xgboost_TopN_genes/results_{N_GENES}/metrics')\n",
    "\n",
    "if not os.path.exists(out_dir):\n",
    "    os.makedirs(out_dir)\n",
    "    \n",
    "metrics_df.to_csv(os.path.join(out_dir, f'{CELL_TYPE}_{SEED}_{TEST_SPLIT_IDX}_metrics.zip'))"
   ]
  }
 ],
 "metadata": {
  "kernelspec": {
   "display_name": "Python 3 (ipykernel)",
   "language": "python",
   "name": "python3"
  },
  "language_info": {
   "codemirror_mode": {
    "name": "ipython",
    "version": 3
   },
   "file_extension": ".py",
   "mimetype": "text/x-python",
   "name": "python",
   "nbconvert_exporter": "python",
   "pygments_lexer": "ipython3",
   "version": "3.12.5"
  },
  "papermill": {
   "default_parameters": {},
   "duration": 14.251106,
   "end_time": "2025-05-14T16:10:30.208471",
   "environment_variables": {},
   "exception": null,
   "input_path": "02_xgboost_fitting_external_20genes.ipynb",
   "output_path": "results_20/executed_notebooks/xgboost_fitting_external_CT_Plasma_GS_shap_disease_NOstudy_seed4.ipynb",
   "parameters": {
    "CELL_TYPE": "Plasma",
    "SEED": "shap_disease_NOstudy",
    "TEST_SPLIT_IDX": 4
   },
   "start_time": "2025-05-14T16:10:15.957365",
   "version": "2.6.0"
  }
 },
 "nbformat": 4,
 "nbformat_minor": 5
}