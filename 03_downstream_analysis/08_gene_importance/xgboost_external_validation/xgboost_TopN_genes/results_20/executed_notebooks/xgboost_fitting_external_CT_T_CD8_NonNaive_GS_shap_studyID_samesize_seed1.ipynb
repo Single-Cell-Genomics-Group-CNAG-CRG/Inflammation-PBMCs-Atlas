{
 "cells": [
  {
   "cell_type": "code",
   "execution_count": 1,
   "id": "0e249a4d",
   "metadata": {
    "editable": true,
    "execution": {
     "iopub.execute_input": "2025-06-13T13:04:52.716174Z",
     "iopub.status.busy": "2025-06-13T13:04:52.715832Z",
     "iopub.status.idle": "2025-06-13T13:04:52.718830Z",
     "shell.execute_reply": "2025-06-13T13:04:52.718493Z"
    },
    "papermill": {
     "duration": 0.013145,
     "end_time": "2025-06-13T13:04:52.719844",
     "exception": false,
     "start_time": "2025-06-13T13:04:52.706699",
     "status": "completed"
    },
    "slideshow": {
     "slide_type": ""
    },
    "tags": [
     "parameters"
    ]
   },
   "outputs": [],
   "source": [
    "CELL_TYPE = 'pDC'\n",
    "N_GENES: int = 20\n",
    "SEED = 'shap_studyID' #'disease_NOstudy' 'study_NOdisease' or 'int' or 'shap_studyID'\n",
    "TEST_SPLIT_IDX: int = 1 #[0,4]"
   ]
  },
  {
   "cell_type": "code",
   "execution_count": 2,
   "id": "f78b9a43",
   "metadata": {
    "execution": {
     "iopub.execute_input": "2025-06-13T13:04:52.777136Z",
     "iopub.status.busy": "2025-06-13T13:04:52.776781Z",
     "iopub.status.idle": "2025-06-13T13:04:52.779178Z",
     "shell.execute_reply": "2025-06-13T13:04:52.778822Z"
    },
    "papermill": {
     "duration": 0.029394,
     "end_time": "2025-06-13T13:04:52.780130",
     "exception": false,
     "start_time": "2025-06-13T13:04:52.750736",
     "status": "completed"
    },
    "tags": [
     "injected-parameters"
    ]
   },
   "outputs": [],
   "source": [
    "# Parameters\n",
    "CELL_TYPE = \"T_CD8_NonNaive\"\n",
    "SEED = \"shap_studyID_samesize\"\n",
    "TEST_SPLIT_IDX = 1\n"
   ]
  },
  {
   "cell_type": "code",
   "execution_count": 3,
   "id": "fa8a27df",
   "metadata": {
    "execution": {
     "iopub.execute_input": "2025-06-13T13:04:52.860430Z",
     "iopub.status.busy": "2025-06-13T13:04:52.860199Z",
     "iopub.status.idle": "2025-06-13T13:04:52.862556Z",
     "shell.execute_reply": "2025-06-13T13:04:52.862229Z"
    },
    "papermill": {
     "duration": 0.042097,
     "end_time": "2025-06-13T13:04:52.863440",
     "exception": false,
     "start_time": "2025-06-13T13:04:52.821343",
     "status": "completed"
    },
    "tags": []
   },
   "outputs": [],
   "source": [
    "N_SPLITS: int = 5\n",
    "N_TRIALS: int = 50"
   ]
  },
  {
   "cell_type": "code",
   "execution_count": 4,
   "id": "61e67a8a",
   "metadata": {
    "execution": {
     "iopub.execute_input": "2025-06-13T13:04:52.880209Z",
     "iopub.status.busy": "2025-06-13T13:04:52.880024Z",
     "iopub.status.idle": "2025-06-13T13:05:02.388148Z",
     "shell.execute_reply": "2025-06-13T13:05:02.387556Z"
    },
    "papermill": {
     "duration": 9.516867,
     "end_time": "2025-06-13T13:05:02.389633",
     "exception": false,
     "start_time": "2025-06-13T13:04:52.872766",
     "status": "completed"
    },
    "tags": []
   },
   "outputs": [],
   "source": [
    "import os\n",
    "import sys\n",
    "from pyprojroot.here import here\n",
    "import pandas as pd\n",
    "import anndata as ad\n",
    "import numpy as np\n",
    "import math\n",
    "from sklearn.model_selection import StratifiedGroupKFold\n",
    "from sklearn.preprocessing import LabelEncoder\n",
    "from sklearn.metrics import f1_score\n",
    "import matplotlib.pyplot as plt\n",
    "import seaborn as sns\n",
    "from itertools import product\n",
    "from sklearn.metrics import balanced_accuracy_score, f1_score\n",
    "import optuna\n",
    "\n",
    "import joblib\n",
    "import pickle\n",
    "import datetime\n",
    "\n",
    "import collections\n",
    "\n",
    "import xgboost\n",
    "from sklearn.preprocessing import LabelEncoder\n",
    "\n",
    "import scipy.sparse as ssp\n",
    "import joblib\n",
    "\n",
    "from dotenv import load_dotenv"
   ]
  },
  {
   "cell_type": "code",
   "execution_count": 5,
   "id": "7e69fca1",
   "metadata": {
    "execution": {
     "iopub.execute_input": "2025-06-13T13:05:02.402425Z",
     "iopub.status.busy": "2025-06-13T13:05:02.402059Z",
     "iopub.status.idle": "2025-06-13T13:05:02.407847Z",
     "shell.execute_reply": "2025-06-13T13:05:02.407519Z"
    },
    "papermill": {
     "duration": 0.01301,
     "end_time": "2025-06-13T13:05:02.408765",
     "exception": false,
     "start_time": "2025-06-13T13:05:02.395755",
     "status": "completed"
    },
    "tags": []
   },
   "outputs": [
    {
     "data": {
      "text/plain": [
       "True"
      ]
     },
     "execution_count": 5,
     "metadata": {},
     "output_type": "execute_result"
    }
   ],
   "source": [
    "load_dotenv()"
   ]
  },
  {
   "cell_type": "markdown",
   "id": "4be25cc2",
   "metadata": {
    "papermill": {
     "duration": 0.00541,
     "end_time": "2025-06-13T13:05:02.419267",
     "exception": false,
     "start_time": "2025-06-13T13:05:02.413857",
     "status": "completed"
    },
    "tags": []
   },
   "source": [
    "# LOAD DATASET"
   ]
  },
  {
   "cell_type": "code",
   "execution_count": 6,
   "id": "06d99d45",
   "metadata": {
    "execution": {
     "iopub.execute_input": "2025-06-13T13:05:02.430768Z",
     "iopub.status.busy": "2025-06-13T13:05:02.430535Z",
     "iopub.status.idle": "2025-06-13T13:05:02.892617Z",
     "shell.execute_reply": "2025-06-13T13:05:02.892084Z"
    },
    "papermill": {
     "duration": 0.469491,
     "end_time": "2025-06-13T13:05:02.894042",
     "exception": false,
     "start_time": "2025-06-13T13:05:02.424551",
     "status": "completed"
    },
    "tags": []
   },
   "outputs": [],
   "source": [
    "train_adata = ad.read_h5ad(\n",
    "    here(f'03_downstream_analysis/08_gene_importance/xgboost_external_validation/xgboost_TopN_genes/data_cellTypes/EXTERNAL_{CELL_TYPE}.filtered.log1p.h5ad')\n",
    ")"
   ]
  },
  {
   "cell_type": "code",
   "execution_count": 7,
   "id": "1dee2749",
   "metadata": {
    "execution": {
     "iopub.execute_input": "2025-06-13T13:05:02.907183Z",
     "iopub.status.busy": "2025-06-13T13:05:02.906826Z",
     "iopub.status.idle": "2025-06-13T13:05:02.932198Z",
     "shell.execute_reply": "2025-06-13T13:05:02.931774Z"
    },
    "papermill": {
     "duration": 0.032933,
     "end_time": "2025-06-13T13:05:02.933157",
     "exception": false,
     "start_time": "2025-06-13T13:05:02.900224",
     "status": "completed"
    },
    "tags": []
   },
   "outputs": [
    {
     "name": "stdout",
     "output_type": "stream",
     "text": [
      "['ENSG00000105329' 'ENSG00000165280' 'ENSG00000143761' 'ENSG00000115073'\n",
      " 'ENSG00000119655' 'ENSG00000013297' 'ENSG00000068796' 'ENSG00000170296'\n",
      " 'ENSG00000185650' 'ENSG00000157020' 'ENSG00000117450' 'ENSG00000243749'\n",
      " 'ENSG00000042753' 'ENSG00000181029' 'ENSG00000205220' 'ENSG00000127528'\n",
      " 'ENSG00000163660' 'ENSG00000243678' 'ENSG00000059728' 'ENSG00000152082'\n",
      " 'ENSG00000132465' 'ENSG00000264364' 'ENSG00000076944' 'ENSG00000002549'\n",
      " 'ENSG00000178719' 'ENSG00000185885' 'ENSG00000164308' 'ENSG00000184897'\n",
      " 'ENSG00000243646' 'ENSG00000184007' 'ENSG00000079805' 'ENSG00000108622'\n",
      " 'ENSG00000211895' 'ENSG00000206503' 'ENSG00000177885' 'ENSG00000027697'\n",
      " 'ENSG00000219200' 'ENSG00000104671' 'ENSG00000089327' 'ENSG00000108774'\n",
      " 'ENSG00000179094' 'ENSG00000164307' 'ENSG00000120837' 'ENSG00000213928'\n",
      " 'ENSG00000164104' 'ENSG00000254772' 'ENSG00000244687' 'ENSG00000101439'\n",
      " 'ENSG00000186395' 'ENSG00000173039' 'ENSG00000228474' 'ENSG00000203896'\n",
      " 'ENSG00000099624' 'ENSG00000165527' 'ENSG00000110395' 'ENSG00000197102'\n",
      " 'ENSG00000111716' 'ENSG00000162368' 'ENSG00000152700' 'ENSG00000103490'\n",
      " 'ENSG00000102524' 'ENSG00000123416' 'ENSG00000277734' 'ENSG00000015475'\n",
      " 'ENSG00000143546' 'ENSG00000066136' 'ENSG00000100906' 'ENSG00000234745'\n",
      " 'ENSG00000185883' 'ENSG00000163220' 'ENSG00000165272' 'ENSG00000121774'\n",
      " 'ENSG00000122359' 'ENSG00000118503' 'ENSG00000198668' 'ENSG00000241837'\n",
      " 'ENSG00000159110' 'ENSG00000138674' 'ENSG00000105835' 'ENSG00000126214'\n",
      " 'ENSG00000072958' 'ENSG00000077380' 'ENSG00000143543' 'ENSG00000069399'\n",
      " 'ENSG00000164543' 'ENSG00000161203' 'ENSG00000051523' 'ENSG00000076662'\n",
      " 'ENSG00000163131' 'ENSG00000075785' 'ENSG00000125740' 'ENSG00000160213'\n",
      " 'ENSG00000142227' 'ENSG00000204525' 'ENSG00000164483' 'ENSG00000183020'\n",
      " 'ENSG00000163931' 'ENSG00000009790' 'ENSG00000213145' 'ENSG00000239697'\n",
      " 'ENSG00000105583' 'ENSG00000164674' 'ENSG00000175482' 'ENSG00000132475']\n"
     ]
    }
   ],
   "source": [
    "if SEED != 'all':\n",
    "    gene_subset = np.load(here(f'03_downstream_analysis/08_gene_importance/xgboost_external_validation/shap_gene_selection/gene_subsets_{N_GENES}/{CELL_TYPE}_{SEED}.npy'), allow_pickle=True)\n",
    "    train_adata = train_adata[:,gene_subset]\n",
    "    print(gene_subset)\n",
    "elif SEED == 'all':\n",
    "    print('Using all genes')\n",
    "else:\n",
    "    raise ValueError()"
   ]
  },
  {
   "cell_type": "code",
   "execution_count": 8,
   "id": "284b59b5",
   "metadata": {
    "execution": {
     "iopub.execute_input": "2025-06-13T13:05:02.945286Z",
     "iopub.status.busy": "2025-06-13T13:05:02.945094Z",
     "iopub.status.idle": "2025-06-13T13:05:02.948325Z",
     "shell.execute_reply": "2025-06-13T13:05:02.947997Z"
    },
    "papermill": {
     "duration": 0.010321,
     "end_time": "2025-06-13T13:05:02.949192",
     "exception": false,
     "start_time": "2025-06-13T13:05:02.938871",
     "status": "completed"
    },
    "tags": []
   },
   "outputs": [
    {
     "data": {
      "text/plain": [
       "(72200, 104)"
      ]
     },
     "execution_count": 8,
     "metadata": {},
     "output_type": "execute_result"
    }
   ],
   "source": [
    "train_adata.shape"
   ]
  },
  {
   "cell_type": "code",
   "execution_count": 9,
   "id": "501d7f4c",
   "metadata": {
    "execution": {
     "iopub.execute_input": "2025-06-13T13:05:02.961008Z",
     "iopub.status.busy": "2025-06-13T13:05:02.960576Z",
     "iopub.status.idle": "2025-06-13T13:05:02.964441Z",
     "shell.execute_reply": "2025-06-13T13:05:02.964125Z"
    },
    "papermill": {
     "duration": 0.010765,
     "end_time": "2025-06-13T13:05:02.965313",
     "exception": false,
     "start_time": "2025-06-13T13:05:02.954548",
     "status": "completed"
    },
    "tags": []
   },
   "outputs": [
    {
     "data": {
      "text/plain": [
       "['RA', 'COVID', 'healthy', 'HIV', 'cirrhosis', 'CD', 'SLE', 'sepsis']\n",
       "Categories (8, object): ['CD', 'COVID', 'HIV', 'RA', 'SLE', 'cirrhosis', 'healthy', 'sepsis']"
      ]
     },
     "execution_count": 9,
     "metadata": {},
     "output_type": "execute_result"
    }
   ],
   "source": [
    "train_adata.obs.disease.unique()"
   ]
  },
  {
   "cell_type": "code",
   "execution_count": 10,
   "id": "526b6a1e",
   "metadata": {
    "execution": {
     "iopub.execute_input": "2025-06-13T13:05:02.977139Z",
     "iopub.status.busy": "2025-06-13T13:05:02.976721Z",
     "iopub.status.idle": "2025-06-13T13:05:02.980575Z",
     "shell.execute_reply": "2025-06-13T13:05:02.980269Z"
    },
    "papermill": {
     "duration": 0.010757,
     "end_time": "2025-06-13T13:05:02.981464",
     "exception": false,
     "start_time": "2025-06-13T13:05:02.970707",
     "status": "completed"
    },
    "tags": []
   },
   "outputs": [
    {
     "data": {
      "text/plain": [
       "['SCGT00val_I036016_T0', 'SCGT00val_I036021_T0', 'SCGT00val_I036028_T0', 'SCGT00val_I036015_T0', 'SCGT00val_I0364_T0', ..., '10XGenomics_10XHC2_T0', '10XGenomics_10XHC3_T0', '10XGenomics_10XHC5_T0', '10XGenomics_10XHC7_T0', '10XGenomics_10XHC8_T0']\n",
       "Length: 86\n",
       "Categories (86, object): ['10XGenomics_10XHC1_T0', '10XGenomics_10XHC2_T0', '10XGenomics_10XHC3_T0', '10XGenomics_10XHC4_T0', ..., 'Savage2021_BRISL6_T0', 'Savage2021_BRISL7_T0', 'Savage2021_PIDA_T0', 'Savage2021_PIDB_T0']"
      ]
     },
     "execution_count": 10,
     "metadata": {},
     "output_type": "execute_result"
    }
   ],
   "source": [
    "train_adata.obs.sampleID.unique()"
   ]
  },
  {
   "cell_type": "code",
   "execution_count": 11,
   "id": "16d79852",
   "metadata": {
    "execution": {
     "iopub.execute_input": "2025-06-13T13:05:02.993437Z",
     "iopub.status.busy": "2025-06-13T13:05:02.993172Z",
     "iopub.status.idle": "2025-06-13T13:05:03.189797Z",
     "shell.execute_reply": "2025-06-13T13:05:03.189331Z"
    },
    "papermill": {
     "duration": 0.203958,
     "end_time": "2025-06-13T13:05:03.191012",
     "exception": false,
     "start_time": "2025-06-13T13:05:02.987054",
     "status": "completed"
    },
    "tags": []
   },
   "outputs": [],
   "source": [
    "all_idxs = np.arange(train_adata.obs.shape[0])\n",
    "left_out_splits = [s[1] for s in StratifiedGroupKFold(n_splits=N_SPLITS).split(all_idxs, train_adata.obs.disease, train_adata.obs.sampleID)]"
   ]
  },
  {
   "cell_type": "code",
   "execution_count": 12,
   "id": "297b5e5a",
   "metadata": {
    "execution": {
     "iopub.execute_input": "2025-06-13T13:05:03.204461Z",
     "iopub.status.busy": "2025-06-13T13:05:03.204249Z",
     "iopub.status.idle": "2025-06-13T13:05:03.208035Z",
     "shell.execute_reply": "2025-06-13T13:05:03.207677Z"
    },
    "papermill": {
     "duration": 0.011705,
     "end_time": "2025-06-13T13:05:03.208897",
     "exception": false,
     "start_time": "2025-06-13T13:05:03.197192",
     "status": "completed"
    },
    "tags": []
   },
   "outputs": [
    {
     "data": {
      "text/plain": [
       "([0, 3, 4], 2, 1)"
      ]
     },
     "execution_count": 12,
     "metadata": {},
     "output_type": "execute_result"
    }
   ],
   "source": [
    "TRAIN_SPLIT_IDXS = [0,1,2,3,4]\n",
    "VAL_SPLIT_IDX = (TEST_SPLIT_IDX + 1) % 5\n",
    "TRAIN_SPLIT_IDXS.remove(TEST_SPLIT_IDX)\n",
    "TRAIN_SPLIT_IDXS.remove(VAL_SPLIT_IDX)\n",
    "TRAIN_SPLIT_IDXS, VAL_SPLIT_IDX, TEST_SPLIT_IDX"
   ]
  },
  {
   "cell_type": "code",
   "execution_count": 13,
   "id": "e02dce4e",
   "metadata": {
    "execution": {
     "iopub.execute_input": "2025-06-13T13:05:03.220873Z",
     "iopub.status.busy": "2025-06-13T13:05:03.220511Z",
     "iopub.status.idle": "2025-06-13T13:05:03.223107Z",
     "shell.execute_reply": "2025-06-13T13:05:03.222777Z"
    },
    "papermill": {
     "duration": 0.009665,
     "end_time": "2025-06-13T13:05:03.224009",
     "exception": false,
     "start_time": "2025-06-13T13:05:03.214344",
     "status": "completed"
    },
    "tags": []
   },
   "outputs": [],
   "source": [
    "train_idxs = np.concatenate([left_out_splits[idx] for idx in TRAIN_SPLIT_IDXS])\n",
    "val_idxs = left_out_splits[VAL_SPLIT_IDX]\n",
    "test_idxs = left_out_splits[TEST_SPLIT_IDX]"
   ]
  },
  {
   "cell_type": "markdown",
   "id": "fc3d8d5f",
   "metadata": {
    "papermill": {
     "duration": 0.005669,
     "end_time": "2025-06-13T13:05:03.234950",
     "exception": false,
     "start_time": "2025-06-13T13:05:03.229281",
     "status": "completed"
    },
    "tags": []
   },
   "source": [
    "### SUBSET DATASET INTO TRAIN/TEST/VAL SPLITS"
   ]
  },
  {
   "cell_type": "code",
   "execution_count": 14,
   "id": "7417e0d2",
   "metadata": {
    "execution": {
     "iopub.execute_input": "2025-06-13T13:05:03.247307Z",
     "iopub.status.busy": "2025-06-13T13:05:03.246743Z",
     "iopub.status.idle": "2025-06-13T13:05:03.416863Z",
     "shell.execute_reply": "2025-06-13T13:05:03.416468Z"
    },
    "papermill": {
     "duration": 0.177234,
     "end_time": "2025-06-13T13:05:03.417906",
     "exception": false,
     "start_time": "2025-06-13T13:05:03.240672",
     "status": "completed"
    },
    "tags": []
   },
   "outputs": [
    {
     "data": {
      "text/plain": [
       "((43138, 104), (14524, 104), (14538, 104))"
      ]
     },
     "execution_count": 14,
     "metadata": {},
     "output_type": "execute_result"
    }
   ],
   "source": [
    "X_train = train_adata.X[train_idxs]\n",
    "X_test = train_adata.X[test_idxs]\n",
    "X_val = train_adata.X[val_idxs]\n",
    "X_train.shape, X_test.shape, X_val.shape"
   ]
  },
  {
   "cell_type": "code",
   "execution_count": 15,
   "id": "5f7a035a",
   "metadata": {
    "execution": {
     "iopub.execute_input": "2025-06-13T13:05:03.431219Z",
     "iopub.status.busy": "2025-06-13T13:05:03.431020Z",
     "iopub.status.idle": "2025-06-13T13:05:03.440731Z",
     "shell.execute_reply": "2025-06-13T13:05:03.440368Z"
    },
    "papermill": {
     "duration": 0.017341,
     "end_time": "2025-06-13T13:05:03.441697",
     "exception": false,
     "start_time": "2025-06-13T13:05:03.424356",
     "status": "completed"
    },
    "tags": []
   },
   "outputs": [
    {
     "data": {
      "text/plain": [
       "((43138,), (14524,), (14538,))"
      ]
     },
     "execution_count": 15,
     "metadata": {},
     "output_type": "execute_result"
    }
   ],
   "source": [
    "y_train = train_adata.obs.iloc[train_idxs].disease.values.astype(str)\n",
    "y_test = train_adata.obs.iloc[test_idxs].disease.values.astype(str)\n",
    "y_val = train_adata.obs.iloc[val_idxs].disease.values.astype(str)\n",
    "y_train.shape, y_test.shape, y_val.shape"
   ]
  },
  {
   "cell_type": "code",
   "execution_count": 16,
   "id": "bbc99927",
   "metadata": {
    "execution": {
     "iopub.execute_input": "2025-06-13T13:05:03.454809Z",
     "iopub.status.busy": "2025-06-13T13:05:03.454410Z",
     "iopub.status.idle": "2025-06-13T13:05:03.472105Z",
     "shell.execute_reply": "2025-06-13T13:05:03.471660Z"
    },
    "papermill": {
     "duration": 0.025097,
     "end_time": "2025-06-13T13:05:03.473048",
     "exception": false,
     "start_time": "2025-06-13T13:05:03.447951",
     "status": "completed"
    },
    "tags": []
   },
   "outputs": [],
   "source": [
    "lenc = LabelEncoder()\n",
    "y_train_enc = lenc.fit_transform(y_train)\n",
    "y_val_enc = lenc.transform(y_val)\n",
    "y_test_enc = lenc.transform(y_test)"
   ]
  },
  {
   "cell_type": "markdown",
   "id": "a9060d92",
   "metadata": {
    "papermill": {
     "duration": 0.006178,
     "end_time": "2025-06-13T13:05:03.485867",
     "exception": false,
     "start_time": "2025-06-13T13:05:03.479689",
     "status": "completed"
    },
    "tags": []
   },
   "source": [
    "### GENERATE F1 "
   ]
  },
  {
   "cell_type": "code",
   "execution_count": 17,
   "id": "8c0a2f5c",
   "metadata": {
    "execution": {
     "iopub.execute_input": "2025-06-13T13:05:03.499254Z",
     "iopub.status.busy": "2025-06-13T13:05:03.498874Z",
     "iopub.status.idle": "2025-06-13T13:05:03.501481Z",
     "shell.execute_reply": "2025-06-13T13:05:03.501135Z"
    },
    "papermill": {
     "duration": 0.010307,
     "end_time": "2025-06-13T13:05:03.502388",
     "exception": false,
     "start_time": "2025-06-13T13:05:03.492081",
     "status": "completed"
    },
    "tags": []
   },
   "outputs": [],
   "source": [
    "def custom_f1_score(y_true, y_pred):\n",
    "    return -f1_score(y_true, y_pred.argmax(1), average='weighted')"
   ]
  },
  {
   "cell_type": "code",
   "execution_count": 18,
   "id": "e94af55d",
   "metadata": {
    "execution": {
     "iopub.execute_input": "2025-06-13T13:05:03.516898Z",
     "iopub.status.busy": "2025-06-13T13:05:03.516520Z",
     "iopub.status.idle": "2025-06-13T13:05:03.520368Z",
     "shell.execute_reply": "2025-06-13T13:05:03.520037Z"
    },
    "papermill": {
     "duration": 0.011091,
     "end_time": "2025-06-13T13:05:03.521231",
     "exception": false,
     "start_time": "2025-06-13T13:05:03.510140",
     "status": "completed"
    },
    "tags": []
   },
   "outputs": [],
   "source": [
    "eval_metric=custom_f1_score\n",
    "eval_metric_name='custom_f1_score'\n",
    "\n",
    "def objective(trial):\n",
    "    params = {\n",
    "        'n_estimators': 1500,\n",
    "        'max_depth': trial.suggest_int('max_depth', 3, 20),\n",
    "        'min_child_weight': trial.suggest_int('min_child_weight', 1, 250),\n",
    "        'subsample': trial.suggest_float('subsample', 0.1, 1.0),\n",
    "        'colsample_bynode': trial.suggest_float('colsample_bynode', 0.1, 1.0),\n",
    "        'learning_rate': trial.suggest_float('learning_rate', 1e-3, 5e-1, log=True),\n",
    "    }\n",
    "    pruning_callback = optuna.integration.XGBoostPruningCallback(trial, f'validation_0-{eval_metric_name}')\n",
    "    es_callback = xgboost.callback.EarlyStopping(20, min_delta=0.001)\n",
    "    xgb = xgboost.XGBClassifier(\n",
    "        eval_metric=eval_metric,\n",
    "        callbacks=[pruning_callback, es_callback],\n",
    "        n_jobs=5,\n",
    "        **params\n",
    "    )\n",
    "    xgb.fit(\n",
    "        X_train, \n",
    "        y_train_enc, \n",
    "        verbose=0,\n",
    "        eval_set=[(X_val, y_val_enc)],\n",
    "    )\n",
    "    trial.set_user_attr('best_iteration', xgb.best_iteration)\n",
    "\n",
    "    return xgb.best_score"
   ]
  },
  {
   "cell_type": "code",
   "execution_count": 19,
   "id": "d014b4c3",
   "metadata": {
    "execution": {
     "iopub.execute_input": "2025-06-13T13:05:03.533810Z",
     "iopub.status.busy": "2025-06-13T13:05:03.533553Z",
     "iopub.status.idle": "2025-06-13T13:12:24.634892Z",
     "shell.execute_reply": "2025-06-13T13:12:24.634469Z"
    },
    "papermill": {
     "duration": 441.108617,
     "end_time": "2025-06-13T13:12:24.635885",
     "exception": false,
     "start_time": "2025-06-13T13:05:03.527268",
     "status": "completed"
    },
    "scrolled": true,
    "tags": []
   },
   "outputs": [
    {
     "name": "stderr",
     "output_type": "stream",
     "text": [
      "[I 2025-06-13 15:05:03,535] A new study created in memory with name: no-name-6493b66d-0fd7-4771-bf39-590b5e45b169\n"
     ]
    },
    {
     "name": "stderr",
     "output_type": "stream",
     "text": [
      "[I 2025-06-13 15:05:23,002] Trial 0 finished with value: -0.713482 and parameters: {'max_depth': 9, 'min_child_weight': 238, 'subsample': 0.7587945476302645, 'colsample_bynode': 0.6387926357773329, 'learning_rate': 0.0026368755339723046}. Best is trial 0 with value: -0.713482.\n"
     ]
    },
    {
     "name": "stderr",
     "output_type": "stream",
     "text": [
      "[I 2025-06-13 15:05:52,483] Trial 1 finished with value: -0.848026 and parameters: {'max_depth': 5, 'min_child_weight': 15, 'subsample': 0.8795585311974417, 'colsample_bynode': 0.6410035105688879, 'learning_rate': 0.08148293210105287}. Best is trial 1 with value: -0.848026.\n"
     ]
    },
    {
     "name": "stderr",
     "output_type": "stream",
     "text": [
      "[I 2025-06-13 15:05:56,576] Trial 2 finished with value: -0.666782 and parameters: {'max_depth': 3, 'min_child_weight': 243, 'subsample': 0.8491983767203796, 'colsample_bynode': 0.29110519961044856, 'learning_rate': 0.003095566460242371}. Best is trial 1 with value: -0.848026.\n"
     ]
    },
    {
     "name": "stderr",
     "output_type": "stream",
     "text": [
      "[I 2025-06-13 15:06:17,713] Trial 3 finished with value: -0.749176 and parameters: {'max_depth': 6, 'min_child_weight': 77, 'subsample': 0.5722807884690141, 'colsample_bynode': 0.48875051677790415, 'learning_rate': 0.006109683510122491}. Best is trial 1 with value: -0.848026.\n"
     ]
    },
    {
     "name": "stderr",
     "output_type": "stream",
     "text": [
      "[I 2025-06-13 15:07:36,828] Trial 4 finished with value: -0.842539 and parameters: {'max_depth': 14, 'min_child_weight': 35, 'subsample': 0.3629301836816964, 'colsample_bynode': 0.4297256589643226, 'learning_rate': 0.01701841881702917}. Best is trial 1 with value: -0.848026.\n"
     ]
    },
    {
     "name": "stderr",
     "output_type": "stream",
     "text": [
      "[I 2025-06-13 15:07:43,403] Trial 5 finished with value: -0.747782 and parameters: {'max_depth': 17, 'min_child_weight': 50, 'subsample': 0.5628109945722505, 'colsample_bynode': 0.6331731119758383, 'learning_rate': 0.0013346527038305934}. Best is trial 1 with value: -0.848026.\n"
     ]
    },
    {
     "name": "stderr",
     "output_type": "stream",
     "text": [
      "[I 2025-06-13 15:07:43,857] Trial 6 pruned. Trial was pruned at iteration 0.\n"
     ]
    },
    {
     "name": "stderr",
     "output_type": "stream",
     "text": [
      "[I 2025-06-13 15:07:44,241] Trial 7 pruned. Trial was pruned at iteration 0.\n"
     ]
    },
    {
     "name": "stderr",
     "output_type": "stream",
     "text": [
      "[I 2025-06-13 15:07:44,608] Trial 8 pruned. Trial was pruned at iteration 0.\n"
     ]
    },
    {
     "name": "stderr",
     "output_type": "stream",
     "text": [
      "[I 2025-06-13 15:07:45,007] Trial 9 pruned. Trial was pruned at iteration 0.\n"
     ]
    },
    {
     "name": "stderr",
     "output_type": "stream",
     "text": [
      "[I 2025-06-13 15:07:45,535] Trial 10 pruned. Trial was pruned at iteration 0.\n"
     ]
    },
    {
     "name": "stderr",
     "output_type": "stream",
     "text": [
      "[I 2025-06-13 15:08:27,057] Trial 11 finished with value: -0.847979 and parameters: {'max_depth': 10, 'min_child_weight': 3, 'subsample': 0.34014304150377095, 'colsample_bynode': 0.40131565860091256, 'learning_rate': 0.057899203666416425}. Best is trial 1 with value: -0.848026.\n"
     ]
    },
    {
     "name": "stderr",
     "output_type": "stream",
     "text": [
      "[I 2025-06-13 15:08:58,639] Trial 12 finished with value: -0.849451 and parameters: {'max_depth': 8, 'min_child_weight': 3, 'subsample': 0.3693916175642251, 'colsample_bynode': 0.351751713087183, 'learning_rate': 0.07220195396446884}. Best is trial 12 with value: -0.849451.\n"
     ]
    },
    {
     "name": "stderr",
     "output_type": "stream",
     "text": [
      "[I 2025-06-13 15:08:58,984] Trial 13 pruned. Trial was pruned at iteration 0.\n"
     ]
    },
    {
     "name": "stderr",
     "output_type": "stream",
     "text": [
      "[I 2025-06-13 15:08:59,345] Trial 14 pruned. Trial was pruned at iteration 0.\n"
     ]
    },
    {
     "name": "stderr",
     "output_type": "stream",
     "text": [
      "[I 2025-06-13 15:08:59,675] Trial 15 pruned. Trial was pruned at iteration 0.\n"
     ]
    },
    {
     "name": "stderr",
     "output_type": "stream",
     "text": [
      "[I 2025-06-13 15:09:00,040] Trial 16 pruned. Trial was pruned at iteration 0.\n"
     ]
    },
    {
     "name": "stderr",
     "output_type": "stream",
     "text": [
      "[I 2025-06-13 15:09:00,381] Trial 17 pruned. Trial was pruned at iteration 0.\n"
     ]
    },
    {
     "name": "stderr",
     "output_type": "stream",
     "text": [
      "[I 2025-06-13 15:09:18,644] Trial 18 finished with value: -0.853382 and parameters: {'max_depth': 8, 'min_child_weight': 37, 'subsample': 0.47368595472697, 'colsample_bynode': 0.5260950582681523, 'learning_rate': 0.1892056162835139}. Best is trial 18 with value: -0.853382.\n"
     ]
    },
    {
     "name": "stderr",
     "output_type": "stream",
     "text": [
      "[I 2025-06-13 15:09:19,021] Trial 19 pruned. Trial was pruned at iteration 0.\n"
     ]
    },
    {
     "name": "stderr",
     "output_type": "stream",
     "text": [
      "[I 2025-06-13 15:09:19,449] Trial 20 pruned. Trial was pruned at iteration 0.\n"
     ]
    },
    {
     "name": "stderr",
     "output_type": "stream",
     "text": [
      "[I 2025-06-13 15:09:19,830] Trial 21 pruned. Trial was pruned at iteration 0.\n"
     ]
    },
    {
     "name": "stderr",
     "output_type": "stream",
     "text": [
      "[I 2025-06-13 15:09:20,224] Trial 22 pruned. Trial was pruned at iteration 0.\n"
     ]
    },
    {
     "name": "stderr",
     "output_type": "stream",
     "text": [
      "[I 2025-06-13 15:09:20,581] Trial 23 pruned. Trial was pruned at iteration 0.\n"
     ]
    },
    {
     "name": "stderr",
     "output_type": "stream",
     "text": [
      "[I 2025-06-13 15:09:20,958] Trial 24 pruned. Trial was pruned at iteration 0.\n"
     ]
    },
    {
     "name": "stderr",
     "output_type": "stream",
     "text": [
      "[I 2025-06-13 15:09:27,779] Trial 25 pruned. Trial was pruned at iteration 37.\n"
     ]
    },
    {
     "name": "stderr",
     "output_type": "stream",
     "text": [
      "[I 2025-06-13 15:09:28,134] Trial 26 pruned. Trial was pruned at iteration 0.\n"
     ]
    },
    {
     "name": "stderr",
     "output_type": "stream",
     "text": [
      "[I 2025-06-13 15:09:28,503] Trial 27 pruned. Trial was pruned at iteration 0.\n"
     ]
    },
    {
     "name": "stderr",
     "output_type": "stream",
     "text": [
      "[I 2025-06-13 15:09:28,876] Trial 28 pruned. Trial was pruned at iteration 0.\n"
     ]
    },
    {
     "name": "stderr",
     "output_type": "stream",
     "text": [
      "[I 2025-06-13 15:09:29,221] Trial 29 pruned. Trial was pruned at iteration 0.\n"
     ]
    },
    {
     "name": "stderr",
     "output_type": "stream",
     "text": [
      "[I 2025-06-13 15:09:29,561] Trial 30 pruned. Trial was pruned at iteration 0.\n"
     ]
    },
    {
     "name": "stderr",
     "output_type": "stream",
     "text": [
      "[I 2025-06-13 15:09:56,436] Trial 31 pruned. Trial was pruned at iteration 130.\n"
     ]
    },
    {
     "name": "stderr",
     "output_type": "stream",
     "text": [
      "[I 2025-06-13 15:09:56,840] Trial 32 pruned. Trial was pruned at iteration 0.\n"
     ]
    },
    {
     "name": "stderr",
     "output_type": "stream",
     "text": [
      "[I 2025-06-13 15:09:57,235] Trial 33 pruned. Trial was pruned at iteration 0.\n"
     ]
    },
    {
     "name": "stderr",
     "output_type": "stream",
     "text": [
      "[I 2025-06-13 15:09:57,610] Trial 34 pruned. Trial was pruned at iteration 0.\n"
     ]
    },
    {
     "name": "stderr",
     "output_type": "stream",
     "text": [
      "[I 2025-06-13 15:10:18,575] Trial 35 finished with value: -0.854368 and parameters: {'max_depth': 9, 'min_child_weight': 45, 'subsample': 0.6014934221757714, 'colsample_bynode': 0.5692766093993827, 'learning_rate': 0.11266765449568432}. Best is trial 35 with value: -0.854368.\n"
     ]
    },
    {
     "name": "stderr",
     "output_type": "stream",
     "text": [
      "[I 2025-06-13 15:10:42,264] Trial 36 finished with value: -0.858635 and parameters: {'max_depth': 9, 'min_child_weight': 47, 'subsample': 0.9177529710612561, 'colsample_bynode': 0.5473336349037969, 'learning_rate': 0.17260658049843378}. Best is trial 36 with value: -0.858635.\n"
     ]
    },
    {
     "name": "stderr",
     "output_type": "stream",
     "text": [
      "[I 2025-06-13 15:10:42,667] Trial 37 pruned. Trial was pruned at iteration 0.\n"
     ]
    },
    {
     "name": "stderr",
     "output_type": "stream",
     "text": [
      "[I 2025-06-13 15:11:01,575] Trial 38 finished with value: -0.855066 and parameters: {'max_depth': 9, 'min_child_weight': 49, 'subsample': 0.9134710371310861, 'colsample_bynode': 0.5903867712481853, 'learning_rate': 0.19176446682931447}. Best is trial 36 with value: -0.858635.\n"
     ]
    },
    {
     "name": "stderr",
     "output_type": "stream",
     "text": [
      "[I 2025-06-13 15:11:19,322] Trial 39 finished with value: -0.853805 and parameters: {'max_depth': 13, 'min_child_weight': 48, 'subsample': 0.9211505871111312, 'colsample_bynode': 0.5922007242674445, 'learning_rate': 0.18908212097771246}. Best is trial 36 with value: -0.858635.\n"
     ]
    },
    {
     "name": "stderr",
     "output_type": "stream",
     "text": [
      "[I 2025-06-13 15:11:35,787] Trial 40 finished with value: -0.856408 and parameters: {'max_depth': 15, 'min_child_weight': 53, 'subsample': 0.9274724197186823, 'colsample_bynode': 0.6001317724370911, 'learning_rate': 0.37060149151572125}. Best is trial 36 with value: -0.858635.\n"
     ]
    },
    {
     "name": "stderr",
     "output_type": "stream",
     "text": [
      "[I 2025-06-13 15:11:47,480] Trial 41 finished with value: -0.855099 and parameters: {'max_depth': 16, 'min_child_weight': 54, 'subsample': 0.9355057619262085, 'colsample_bynode': 0.5970673229980592, 'learning_rate': 0.34353586300581707}. Best is trial 36 with value: -0.858635.\n"
     ]
    },
    {
     "name": "stderr",
     "output_type": "stream",
     "text": [
      "[I 2025-06-13 15:11:47,853] Trial 42 pruned. Trial was pruned at iteration 0.\n"
     ]
    },
    {
     "name": "stderr",
     "output_type": "stream",
     "text": [
      "[I 2025-06-13 15:11:48,209] Trial 43 pruned. Trial was pruned at iteration 0.\n"
     ]
    },
    {
     "name": "stderr",
     "output_type": "stream",
     "text": [
      "[I 2025-06-13 15:11:49,275] Trial 44 pruned. Trial was pruned at iteration 4.\n"
     ]
    },
    {
     "name": "stderr",
     "output_type": "stream",
     "text": [
      "[I 2025-06-13 15:12:04,469] Trial 45 finished with value: -0.852314 and parameters: {'max_depth': 17, 'min_child_weight': 45, 'subsample': 0.94427203051732, 'colsample_bynode': 0.7466463444015691, 'learning_rate': 0.23495013514256394}. Best is trial 36 with value: -0.858635.\n"
     ]
    },
    {
     "name": "stderr",
     "output_type": "stream",
     "text": [
      "[I 2025-06-13 15:12:04,793] Trial 46 pruned. Trial was pruned at iteration 0.\n"
     ]
    },
    {
     "name": "stderr",
     "output_type": "stream",
     "text": [
      "[I 2025-06-13 15:12:23,882] Trial 47 finished with value: -0.853663 and parameters: {'max_depth': 18, 'min_child_weight': 31, 'subsample': 0.8990951750346321, 'colsample_bynode': 0.5706437376644291, 'learning_rate': 0.16272253268816045}. Best is trial 36 with value: -0.858635.\n"
     ]
    },
    {
     "name": "stderr",
     "output_type": "stream",
     "text": [
      "[I 2025-06-13 15:12:24,201] Trial 48 pruned. Trial was pruned at iteration 0.\n"
     ]
    },
    {
     "name": "stderr",
     "output_type": "stream",
     "text": [
      "[I 2025-06-13 15:12:24,559] Trial 49 pruned. Trial was pruned at iteration 0.\n"
     ]
    }
   ],
   "source": [
    "sampler = optuna.samplers.TPESampler(seed=42)\n",
    "study = optuna.create_study(direction='minimize', sampler=sampler)\n",
    "study.optimize(objective, n_trials=N_TRIALS, gc_after_trial=True)"
   ]
  },
  {
   "cell_type": "code",
   "execution_count": 20,
   "id": "70eb887b",
   "metadata": {
    "execution": {
     "iopub.execute_input": "2025-06-13T13:12:24.653516Z",
     "iopub.status.busy": "2025-06-13T13:12:24.653327Z",
     "iopub.status.idle": "2025-06-13T13:12:24.680282Z",
     "shell.execute_reply": "2025-06-13T13:12:24.679959Z"
    },
    "papermill": {
     "duration": 0.036248,
     "end_time": "2025-06-13T13:12:24.681079",
     "exception": false,
     "start_time": "2025-06-13T13:12:24.644831",
     "status": "completed"
    },
    "tags": []
   },
   "outputs": [
    {
     "data": {
      "text/plain": [
       "['/scratch_isilon/groups/singlecell/shared/projects/Inflammation-PBMCs-Atlas/03_downstream_analysis/08_gene_importance/xgboost_external_validation/xgboost_TopN_genes/results_20/study/T_CD8_NonNaive_shap_studyID_samesize_1_xgboost.pkl']"
      ]
     },
     "execution_count": 20,
     "metadata": {},
     "output_type": "execute_result"
    }
   ],
   "source": [
    "out_dir = here(f'03_downstream_analysis/08_gene_importance/xgboost_external_validation/xgboost_TopN_genes/results_{N_GENES}/study')\n",
    "\n",
    "if not os.path.exists(out_dir):\n",
    "    os.makedirs(out_dir)\n",
    "    \n",
    "joblib.dump(study,os.path.join(out_dir, f'{CELL_TYPE}_{SEED}_{TEST_SPLIT_IDX}_xgboost.pkl'))"
   ]
  },
  {
   "cell_type": "code",
   "execution_count": 21,
   "id": "64770c08",
   "metadata": {
    "execution": {
     "iopub.execute_input": "2025-06-13T13:12:24.697481Z",
     "iopub.status.busy": "2025-06-13T13:12:24.697251Z",
     "iopub.status.idle": "2025-06-13T13:12:36.616053Z",
     "shell.execute_reply": "2025-06-13T13:12:36.615694Z"
    },
    "papermill": {
     "duration": 11.928198,
     "end_time": "2025-06-13T13:12:36.617240",
     "exception": false,
     "start_time": "2025-06-13T13:12:24.689042",
     "status": "completed"
    },
    "tags": []
   },
   "outputs": [
    {
     "data": {
      "text/html": [
       "<style>#sk-container-id-1 {\n",
       "  /* Definition of color scheme common for light and dark mode */\n",
       "  --sklearn-color-text: black;\n",
       "  --sklearn-color-line: gray;\n",
       "  /* Definition of color scheme for unfitted estimators */\n",
       "  --sklearn-color-unfitted-level-0: #fff5e6;\n",
       "  --sklearn-color-unfitted-level-1: #f6e4d2;\n",
       "  --sklearn-color-unfitted-level-2: #ffe0b3;\n",
       "  --sklearn-color-unfitted-level-3: chocolate;\n",
       "  /* Definition of color scheme for fitted estimators */\n",
       "  --sklearn-color-fitted-level-0: #f0f8ff;\n",
       "  --sklearn-color-fitted-level-1: #d4ebff;\n",
       "  --sklearn-color-fitted-level-2: #b3dbfd;\n",
       "  --sklearn-color-fitted-level-3: cornflowerblue;\n",
       "\n",
       "  /* Specific color for light theme */\n",
       "  --sklearn-color-text-on-default-background: var(--sg-text-color, var(--theme-code-foreground, var(--jp-content-font-color1, black)));\n",
       "  --sklearn-color-background: var(--sg-background-color, var(--theme-background, var(--jp-layout-color0, white)));\n",
       "  --sklearn-color-border-box: var(--sg-text-color, var(--theme-code-foreground, var(--jp-content-font-color1, black)));\n",
       "  --sklearn-color-icon: #696969;\n",
       "\n",
       "  @media (prefers-color-scheme: dark) {\n",
       "    /* Redefinition of color scheme for dark theme */\n",
       "    --sklearn-color-text-on-default-background: var(--sg-text-color, var(--theme-code-foreground, var(--jp-content-font-color1, white)));\n",
       "    --sklearn-color-background: var(--sg-background-color, var(--theme-background, var(--jp-layout-color0, #111)));\n",
       "    --sklearn-color-border-box: var(--sg-text-color, var(--theme-code-foreground, var(--jp-content-font-color1, white)));\n",
       "    --sklearn-color-icon: #878787;\n",
       "  }\n",
       "}\n",
       "\n",
       "#sk-container-id-1 {\n",
       "  color: var(--sklearn-color-text);\n",
       "}\n",
       "\n",
       "#sk-container-id-1 pre {\n",
       "  padding: 0;\n",
       "}\n",
       "\n",
       "#sk-container-id-1 input.sk-hidden--visually {\n",
       "  border: 0;\n",
       "  clip: rect(1px 1px 1px 1px);\n",
       "  clip: rect(1px, 1px, 1px, 1px);\n",
       "  height: 1px;\n",
       "  margin: -1px;\n",
       "  overflow: hidden;\n",
       "  padding: 0;\n",
       "  position: absolute;\n",
       "  width: 1px;\n",
       "}\n",
       "\n",
       "#sk-container-id-1 div.sk-dashed-wrapped {\n",
       "  border: 1px dashed var(--sklearn-color-line);\n",
       "  margin: 0 0.4em 0.5em 0.4em;\n",
       "  box-sizing: border-box;\n",
       "  padding-bottom: 0.4em;\n",
       "  background-color: var(--sklearn-color-background);\n",
       "}\n",
       "\n",
       "#sk-container-id-1 div.sk-container {\n",
       "  /* jupyter's `normalize.less` sets `[hidden] { display: none; }`\n",
       "     but bootstrap.min.css set `[hidden] { display: none !important; }`\n",
       "     so we also need the `!important` here to be able to override the\n",
       "     default hidden behavior on the sphinx rendered scikit-learn.org.\n",
       "     See: https://github.com/scikit-learn/scikit-learn/issues/21755 */\n",
       "  display: inline-block !important;\n",
       "  position: relative;\n",
       "}\n",
       "\n",
       "#sk-container-id-1 div.sk-text-repr-fallback {\n",
       "  display: none;\n",
       "}\n",
       "\n",
       "div.sk-parallel-item,\n",
       "div.sk-serial,\n",
       "div.sk-item {\n",
       "  /* draw centered vertical line to link estimators */\n",
       "  background-image: linear-gradient(var(--sklearn-color-text-on-default-background), var(--sklearn-color-text-on-default-background));\n",
       "  background-size: 2px 100%;\n",
       "  background-repeat: no-repeat;\n",
       "  background-position: center center;\n",
       "}\n",
       "\n",
       "/* Parallel-specific style estimator block */\n",
       "\n",
       "#sk-container-id-1 div.sk-parallel-item::after {\n",
       "  content: \"\";\n",
       "  width: 100%;\n",
       "  border-bottom: 2px solid var(--sklearn-color-text-on-default-background);\n",
       "  flex-grow: 1;\n",
       "}\n",
       "\n",
       "#sk-container-id-1 div.sk-parallel {\n",
       "  display: flex;\n",
       "  align-items: stretch;\n",
       "  justify-content: center;\n",
       "  background-color: var(--sklearn-color-background);\n",
       "  position: relative;\n",
       "}\n",
       "\n",
       "#sk-container-id-1 div.sk-parallel-item {\n",
       "  display: flex;\n",
       "  flex-direction: column;\n",
       "}\n",
       "\n",
       "#sk-container-id-1 div.sk-parallel-item:first-child::after {\n",
       "  align-self: flex-end;\n",
       "  width: 50%;\n",
       "}\n",
       "\n",
       "#sk-container-id-1 div.sk-parallel-item:last-child::after {\n",
       "  align-self: flex-start;\n",
       "  width: 50%;\n",
       "}\n",
       "\n",
       "#sk-container-id-1 div.sk-parallel-item:only-child::after {\n",
       "  width: 0;\n",
       "}\n",
       "\n",
       "/* Serial-specific style estimator block */\n",
       "\n",
       "#sk-container-id-1 div.sk-serial {\n",
       "  display: flex;\n",
       "  flex-direction: column;\n",
       "  align-items: center;\n",
       "  background-color: var(--sklearn-color-background);\n",
       "  padding-right: 1em;\n",
       "  padding-left: 1em;\n",
       "}\n",
       "\n",
       "\n",
       "/* Toggleable style: style used for estimator/Pipeline/ColumnTransformer box that is\n",
       "clickable and can be expanded/collapsed.\n",
       "- Pipeline and ColumnTransformer use this feature and define the default style\n",
       "- Estimators will overwrite some part of the style using the `sk-estimator` class\n",
       "*/\n",
       "\n",
       "/* Pipeline and ColumnTransformer style (default) */\n",
       "\n",
       "#sk-container-id-1 div.sk-toggleable {\n",
       "  /* Default theme specific background. It is overwritten whether we have a\n",
       "  specific estimator or a Pipeline/ColumnTransformer */\n",
       "  background-color: var(--sklearn-color-background);\n",
       "}\n",
       "\n",
       "/* Toggleable label */\n",
       "#sk-container-id-1 label.sk-toggleable__label {\n",
       "  cursor: pointer;\n",
       "  display: block;\n",
       "  width: 100%;\n",
       "  margin-bottom: 0;\n",
       "  padding: 0.5em;\n",
       "  box-sizing: border-box;\n",
       "  text-align: center;\n",
       "}\n",
       "\n",
       "#sk-container-id-1 label.sk-toggleable__label-arrow:before {\n",
       "  /* Arrow on the left of the label */\n",
       "  content: \"▸\";\n",
       "  float: left;\n",
       "  margin-right: 0.25em;\n",
       "  color: var(--sklearn-color-icon);\n",
       "}\n",
       "\n",
       "#sk-container-id-1 label.sk-toggleable__label-arrow:hover:before {\n",
       "  color: var(--sklearn-color-text);\n",
       "}\n",
       "\n",
       "/* Toggleable content - dropdown */\n",
       "\n",
       "#sk-container-id-1 div.sk-toggleable__content {\n",
       "  max-height: 0;\n",
       "  max-width: 0;\n",
       "  overflow: hidden;\n",
       "  text-align: left;\n",
       "  /* unfitted */\n",
       "  background-color: var(--sklearn-color-unfitted-level-0);\n",
       "}\n",
       "\n",
       "#sk-container-id-1 div.sk-toggleable__content.fitted {\n",
       "  /* fitted */\n",
       "  background-color: var(--sklearn-color-fitted-level-0);\n",
       "}\n",
       "\n",
       "#sk-container-id-1 div.sk-toggleable__content pre {\n",
       "  margin: 0.2em;\n",
       "  border-radius: 0.25em;\n",
       "  color: var(--sklearn-color-text);\n",
       "  /* unfitted */\n",
       "  background-color: var(--sklearn-color-unfitted-level-0);\n",
       "}\n",
       "\n",
       "#sk-container-id-1 div.sk-toggleable__content.fitted pre {\n",
       "  /* unfitted */\n",
       "  background-color: var(--sklearn-color-fitted-level-0);\n",
       "}\n",
       "\n",
       "#sk-container-id-1 input.sk-toggleable__control:checked~div.sk-toggleable__content {\n",
       "  /* Expand drop-down */\n",
       "  max-height: 200px;\n",
       "  max-width: 100%;\n",
       "  overflow: auto;\n",
       "}\n",
       "\n",
       "#sk-container-id-1 input.sk-toggleable__control:checked~label.sk-toggleable__label-arrow:before {\n",
       "  content: \"▾\";\n",
       "}\n",
       "\n",
       "/* Pipeline/ColumnTransformer-specific style */\n",
       "\n",
       "#sk-container-id-1 div.sk-label input.sk-toggleable__control:checked~label.sk-toggleable__label {\n",
       "  color: var(--sklearn-color-text);\n",
       "  background-color: var(--sklearn-color-unfitted-level-2);\n",
       "}\n",
       "\n",
       "#sk-container-id-1 div.sk-label.fitted input.sk-toggleable__control:checked~label.sk-toggleable__label {\n",
       "  background-color: var(--sklearn-color-fitted-level-2);\n",
       "}\n",
       "\n",
       "/* Estimator-specific style */\n",
       "\n",
       "/* Colorize estimator box */\n",
       "#sk-container-id-1 div.sk-estimator input.sk-toggleable__control:checked~label.sk-toggleable__label {\n",
       "  /* unfitted */\n",
       "  background-color: var(--sklearn-color-unfitted-level-2);\n",
       "}\n",
       "\n",
       "#sk-container-id-1 div.sk-estimator.fitted input.sk-toggleable__control:checked~label.sk-toggleable__label {\n",
       "  /* fitted */\n",
       "  background-color: var(--sklearn-color-fitted-level-2);\n",
       "}\n",
       "\n",
       "#sk-container-id-1 div.sk-label label.sk-toggleable__label,\n",
       "#sk-container-id-1 div.sk-label label {\n",
       "  /* The background is the default theme color */\n",
       "  color: var(--sklearn-color-text-on-default-background);\n",
       "}\n",
       "\n",
       "/* On hover, darken the color of the background */\n",
       "#sk-container-id-1 div.sk-label:hover label.sk-toggleable__label {\n",
       "  color: var(--sklearn-color-text);\n",
       "  background-color: var(--sklearn-color-unfitted-level-2);\n",
       "}\n",
       "\n",
       "/* Label box, darken color on hover, fitted */\n",
       "#sk-container-id-1 div.sk-label.fitted:hover label.sk-toggleable__label.fitted {\n",
       "  color: var(--sklearn-color-text);\n",
       "  background-color: var(--sklearn-color-fitted-level-2);\n",
       "}\n",
       "\n",
       "/* Estimator label */\n",
       "\n",
       "#sk-container-id-1 div.sk-label label {\n",
       "  font-family: monospace;\n",
       "  font-weight: bold;\n",
       "  display: inline-block;\n",
       "  line-height: 1.2em;\n",
       "}\n",
       "\n",
       "#sk-container-id-1 div.sk-label-container {\n",
       "  text-align: center;\n",
       "}\n",
       "\n",
       "/* Estimator-specific */\n",
       "#sk-container-id-1 div.sk-estimator {\n",
       "  font-family: monospace;\n",
       "  border: 1px dotted var(--sklearn-color-border-box);\n",
       "  border-radius: 0.25em;\n",
       "  box-sizing: border-box;\n",
       "  margin-bottom: 0.5em;\n",
       "  /* unfitted */\n",
       "  background-color: var(--sklearn-color-unfitted-level-0);\n",
       "}\n",
       "\n",
       "#sk-container-id-1 div.sk-estimator.fitted {\n",
       "  /* fitted */\n",
       "  background-color: var(--sklearn-color-fitted-level-0);\n",
       "}\n",
       "\n",
       "/* on hover */\n",
       "#sk-container-id-1 div.sk-estimator:hover {\n",
       "  /* unfitted */\n",
       "  background-color: var(--sklearn-color-unfitted-level-2);\n",
       "}\n",
       "\n",
       "#sk-container-id-1 div.sk-estimator.fitted:hover {\n",
       "  /* fitted */\n",
       "  background-color: var(--sklearn-color-fitted-level-2);\n",
       "}\n",
       "\n",
       "/* Specification for estimator info (e.g. \"i\" and \"?\") */\n",
       "\n",
       "/* Common style for \"i\" and \"?\" */\n",
       "\n",
       ".sk-estimator-doc-link,\n",
       "a:link.sk-estimator-doc-link,\n",
       "a:visited.sk-estimator-doc-link {\n",
       "  float: right;\n",
       "  font-size: smaller;\n",
       "  line-height: 1em;\n",
       "  font-family: monospace;\n",
       "  background-color: var(--sklearn-color-background);\n",
       "  border-radius: 1em;\n",
       "  height: 1em;\n",
       "  width: 1em;\n",
       "  text-decoration: none !important;\n",
       "  margin-left: 1ex;\n",
       "  /* unfitted */\n",
       "  border: var(--sklearn-color-unfitted-level-1) 1pt solid;\n",
       "  color: var(--sklearn-color-unfitted-level-1);\n",
       "}\n",
       "\n",
       ".sk-estimator-doc-link.fitted,\n",
       "a:link.sk-estimator-doc-link.fitted,\n",
       "a:visited.sk-estimator-doc-link.fitted {\n",
       "  /* fitted */\n",
       "  border: var(--sklearn-color-fitted-level-1) 1pt solid;\n",
       "  color: var(--sklearn-color-fitted-level-1);\n",
       "}\n",
       "\n",
       "/* On hover */\n",
       "div.sk-estimator:hover .sk-estimator-doc-link:hover,\n",
       ".sk-estimator-doc-link:hover,\n",
       "div.sk-label-container:hover .sk-estimator-doc-link:hover,\n",
       ".sk-estimator-doc-link:hover {\n",
       "  /* unfitted */\n",
       "  background-color: var(--sklearn-color-unfitted-level-3);\n",
       "  color: var(--sklearn-color-background);\n",
       "  text-decoration: none;\n",
       "}\n",
       "\n",
       "div.sk-estimator.fitted:hover .sk-estimator-doc-link.fitted:hover,\n",
       ".sk-estimator-doc-link.fitted:hover,\n",
       "div.sk-label-container:hover .sk-estimator-doc-link.fitted:hover,\n",
       ".sk-estimator-doc-link.fitted:hover {\n",
       "  /* fitted */\n",
       "  background-color: var(--sklearn-color-fitted-level-3);\n",
       "  color: var(--sklearn-color-background);\n",
       "  text-decoration: none;\n",
       "}\n",
       "\n",
       "/* Span, style for the box shown on hovering the info icon */\n",
       ".sk-estimator-doc-link span {\n",
       "  display: none;\n",
       "  z-index: 9999;\n",
       "  position: relative;\n",
       "  font-weight: normal;\n",
       "  right: .2ex;\n",
       "  padding: .5ex;\n",
       "  margin: .5ex;\n",
       "  width: min-content;\n",
       "  min-width: 20ex;\n",
       "  max-width: 50ex;\n",
       "  color: var(--sklearn-color-text);\n",
       "  box-shadow: 2pt 2pt 4pt #999;\n",
       "  /* unfitted */\n",
       "  background: var(--sklearn-color-unfitted-level-0);\n",
       "  border: .5pt solid var(--sklearn-color-unfitted-level-3);\n",
       "}\n",
       "\n",
       ".sk-estimator-doc-link.fitted span {\n",
       "  /* fitted */\n",
       "  background: var(--sklearn-color-fitted-level-0);\n",
       "  border: var(--sklearn-color-fitted-level-3);\n",
       "}\n",
       "\n",
       ".sk-estimator-doc-link:hover span {\n",
       "  display: block;\n",
       "}\n",
       "\n",
       "/* \"?\"-specific style due to the `<a>` HTML tag */\n",
       "\n",
       "#sk-container-id-1 a.estimator_doc_link {\n",
       "  float: right;\n",
       "  font-size: 1rem;\n",
       "  line-height: 1em;\n",
       "  font-family: monospace;\n",
       "  background-color: var(--sklearn-color-background);\n",
       "  border-radius: 1rem;\n",
       "  height: 1rem;\n",
       "  width: 1rem;\n",
       "  text-decoration: none;\n",
       "  /* unfitted */\n",
       "  color: var(--sklearn-color-unfitted-level-1);\n",
       "  border: var(--sklearn-color-unfitted-level-1) 1pt solid;\n",
       "}\n",
       "\n",
       "#sk-container-id-1 a.estimator_doc_link.fitted {\n",
       "  /* fitted */\n",
       "  border: var(--sklearn-color-fitted-level-1) 1pt solid;\n",
       "  color: var(--sklearn-color-fitted-level-1);\n",
       "}\n",
       "\n",
       "/* On hover */\n",
       "#sk-container-id-1 a.estimator_doc_link:hover {\n",
       "  /* unfitted */\n",
       "  background-color: var(--sklearn-color-unfitted-level-3);\n",
       "  color: var(--sklearn-color-background);\n",
       "  text-decoration: none;\n",
       "}\n",
       "\n",
       "#sk-container-id-1 a.estimator_doc_link.fitted:hover {\n",
       "  /* fitted */\n",
       "  background-color: var(--sklearn-color-fitted-level-3);\n",
       "}\n",
       "</style><div id=\"sk-container-id-1\" class=\"sk-top-container\"><div class=\"sk-text-repr-fallback\"><pre>XGBClassifier(base_score=None, booster=None, callbacks=None,\n",
       "              colsample_bylevel=None, colsample_bynode=0.5473336349037969,\n",
       "              colsample_bytree=None, device=None, early_stopping_rounds=None,\n",
       "              enable_categorical=False,\n",
       "              eval_metric=&lt;function custom_f1_score at 0x7fe4f588c4a0&gt;,\n",
       "              feature_types=None, gamma=None, grow_policy=None,\n",
       "              importance_type=None, interaction_constraints=None,\n",
       "              learning_rate=0.17260658049843378, max_bin=None,\n",
       "              max_cat_threshold=None, max_cat_to_onehot=None,\n",
       "              max_delta_step=None, max_depth=9, max_leaves=None,\n",
       "              min_child_weight=47, missing=nan, monotone_constraints=None,\n",
       "              multi_strategy=None, n_estimators=188, n_jobs=None,\n",
       "              num_parallel_tree=None, objective=&#x27;multi:softprob&#x27;, ...)</pre><b>In a Jupyter environment, please rerun this cell to show the HTML representation or trust the notebook. <br />On GitHub, the HTML representation is unable to render, please try loading this page with nbviewer.org.</b></div><div class=\"sk-container\" hidden><div class=\"sk-item\"><div class=\"sk-estimator fitted sk-toggleable\"><input class=\"sk-toggleable__control sk-hidden--visually\" id=\"sk-estimator-id-1\" type=\"checkbox\" checked><label for=\"sk-estimator-id-1\" class=\"sk-toggleable__label fitted sk-toggleable__label-arrow fitted\">&nbsp;XGBClassifier<span class=\"sk-estimator-doc-link fitted\">i<span>Fitted</span></span></label><div class=\"sk-toggleable__content fitted\"><pre>XGBClassifier(base_score=None, booster=None, callbacks=None,\n",
       "              colsample_bylevel=None, colsample_bynode=0.5473336349037969,\n",
       "              colsample_bytree=None, device=None, early_stopping_rounds=None,\n",
       "              enable_categorical=False,\n",
       "              eval_metric=&lt;function custom_f1_score at 0x7fe4f588c4a0&gt;,\n",
       "              feature_types=None, gamma=None, grow_policy=None,\n",
       "              importance_type=None, interaction_constraints=None,\n",
       "              learning_rate=0.17260658049843378, max_bin=None,\n",
       "              max_cat_threshold=None, max_cat_to_onehot=None,\n",
       "              max_delta_step=None, max_depth=9, max_leaves=None,\n",
       "              min_child_weight=47, missing=nan, monotone_constraints=None,\n",
       "              multi_strategy=None, n_estimators=188, n_jobs=None,\n",
       "              num_parallel_tree=None, objective=&#x27;multi:softprob&#x27;, ...)</pre></div> </div></div></div></div>"
      ],
      "text/plain": [
       "XGBClassifier(base_score=None, booster=None, callbacks=None,\n",
       "              colsample_bylevel=None, colsample_bynode=0.5473336349037969,\n",
       "              colsample_bytree=None, device=None, early_stopping_rounds=None,\n",
       "              enable_categorical=False,\n",
       "              eval_metric=<function custom_f1_score at 0x7fe4f588c4a0>,\n",
       "              feature_types=None, gamma=None, grow_policy=None,\n",
       "              importance_type=None, interaction_constraints=None,\n",
       "              learning_rate=0.17260658049843378, max_bin=None,\n",
       "              max_cat_threshold=None, max_cat_to_onehot=None,\n",
       "              max_delta_step=None, max_depth=9, max_leaves=None,\n",
       "              min_child_weight=47, missing=nan, monotone_constraints=None,\n",
       "              multi_strategy=None, n_estimators=188, n_jobs=None,\n",
       "              num_parallel_tree=None, objective='multi:softprob', ...)"
      ]
     },
     "execution_count": 21,
     "metadata": {},
     "output_type": "execute_result"
    }
   ],
   "source": [
    "n_estimators = int(study.best_trial.user_attrs['best_iteration']*1.2)\n",
    "xgb = xgboost.XGBClassifier(\n",
    "        eval_metric=eval_metric,\n",
    "        n_estimators=n_estimators,\n",
    "        **study.best_trial.params\n",
    "    )\n",
    "xgb.fit(\n",
    "    ssp.vstack((X_train, X_val)), \n",
    "    np.concatenate((y_train_enc, y_val_enc)),\n",
    "    verbose=1,\n",
    ")"
   ]
  },
  {
   "cell_type": "code",
   "execution_count": 22,
   "id": "bfba9464",
   "metadata": {
    "execution": {
     "iopub.execute_input": "2025-06-13T13:12:36.636350Z",
     "iopub.status.busy": "2025-06-13T13:12:36.636085Z",
     "iopub.status.idle": "2025-06-13T13:12:36.680776Z",
     "shell.execute_reply": "2025-06-13T13:12:36.680413Z"
    },
    "papermill": {
     "duration": 0.054779,
     "end_time": "2025-06-13T13:12:36.681627",
     "exception": false,
     "start_time": "2025-06-13T13:12:36.626848",
     "status": "completed"
    },
    "tags": []
   },
   "outputs": [
    {
     "data": {
      "text/plain": [
       "['/scratch_isilon/groups/singlecell/shared/projects/Inflammation-PBMCs-Atlas/03_downstream_analysis/08_gene_importance/xgboost_external_validation/xgboost_TopN_genes/results_20/best_model/T_CD8_NonNaive_shap_studyID_samesize_1_xgb.json']"
      ]
     },
     "execution_count": 22,
     "metadata": {},
     "output_type": "execute_result"
    }
   ],
   "source": [
    "out_dir = here(f'03_downstream_analysis/08_gene_importance/xgboost_external_validation/xgboost_TopN_genes/results_{N_GENES}/best_model')\n",
    "\n",
    "if not os.path.exists(out_dir):\n",
    "    os.makedirs(out_dir)\n",
    "    \n",
    "joblib.dump(xgb, os.path.join(out_dir, f'{CELL_TYPE}_{SEED}_{TEST_SPLIT_IDX}_xgb.json'))"
   ]
  },
  {
   "cell_type": "code",
   "execution_count": 23,
   "id": "2aed209e",
   "metadata": {
    "execution": {
     "iopub.execute_input": "2025-06-13T13:12:36.700705Z",
     "iopub.status.busy": "2025-06-13T13:12:36.700413Z",
     "iopub.status.idle": "2025-06-13T13:12:37.155938Z",
     "shell.execute_reply": "2025-06-13T13:12:37.155573Z"
    },
    "papermill": {
     "duration": 0.465828,
     "end_time": "2025-06-13T13:12:37.156819",
     "exception": false,
     "start_time": "2025-06-13T13:12:36.690991",
     "status": "completed"
    },
    "tags": []
   },
   "outputs": [],
   "source": [
    "df_pred_test = pd.DataFrame(dict(\n",
    "    cell_id=train_adata.obs.iloc[test_idxs].index.values,\n",
    "    y_true=y_test, \n",
    "    y_true_code=y_test_enc, \n",
    "    y_pred=xgb.predict(X_test))).set_index('cell_id')"
   ]
  },
  {
   "cell_type": "code",
   "execution_count": 24,
   "id": "d8b7841b",
   "metadata": {
    "execution": {
     "iopub.execute_input": "2025-06-13T13:12:37.174670Z",
     "iopub.status.busy": "2025-06-13T13:12:37.174496Z",
     "iopub.status.idle": "2025-06-13T13:12:37.262304Z",
     "shell.execute_reply": "2025-06-13T13:12:37.261938Z"
    },
    "papermill": {
     "duration": 0.098137,
     "end_time": "2025-06-13T13:12:37.263592",
     "exception": false,
     "start_time": "2025-06-13T13:12:37.165455",
     "status": "completed"
    },
    "tags": []
   },
   "outputs": [],
   "source": [
    "out_dir = here(f'03_downstream_analysis/08_gene_importance/xgboost_external_validation/xgboost_TopN_genes/results_{N_GENES}/predictions')\n",
    "\n",
    "if not os.path.exists(out_dir):\n",
    "    os.makedirs(out_dir)\n",
    "    \n",
    "df_pred_test.to_csv(os.path.join(out_dir, f'{CELL_TYPE}_{SEED}_{TEST_SPLIT_IDX}_pred_test.zip'))"
   ]
  },
  {
   "cell_type": "code",
   "execution_count": 25,
   "id": "66780b73",
   "metadata": {
    "execution": {
     "iopub.execute_input": "2025-06-13T13:12:37.281673Z",
     "iopub.status.busy": "2025-06-13T13:12:37.281356Z",
     "iopub.status.idle": "2025-06-13T13:12:37.297308Z",
     "shell.execute_reply": "2025-06-13T13:12:37.296987Z"
    },
    "papermill": {
     "duration": 0.025873,
     "end_time": "2025-06-13T13:12:37.298113",
     "exception": false,
     "start_time": "2025-06-13T13:12:37.272240",
     "status": "completed"
    },
    "tags": []
   },
   "outputs": [
    {
     "name": "stderr",
     "output_type": "stream",
     "text": [
      "/scratch_isilon/groups/singlecell/shared/conda_env/xgboost-cpu/lib/python3.12/site-packages/sklearn/metrics/_classification.py:2466: UserWarning: y_pred contains classes not in y_true\n",
      "  warnings.warn(\"y_pred contains classes not in y_true\")\n"
     ]
    }
   ],
   "source": [
    "metrics_dict = dict(\n",
    "    BAS=balanced_accuracy_score(y_true=df_pred_test.y_true_code, y_pred=df_pred_test.y_pred), WF1=f1_score(y_true=df_pred_test.y_true_code, y_pred=df_pred_test.y_pred,average='weighted'))"
   ]
  },
  {
   "cell_type": "code",
   "execution_count": 26,
   "id": "35702fd5",
   "metadata": {
    "execution": {
     "iopub.execute_input": "2025-06-13T13:12:37.316744Z",
     "iopub.status.busy": "2025-06-13T13:12:37.316513Z",
     "iopub.status.idle": "2025-06-13T13:12:37.319131Z",
     "shell.execute_reply": "2025-06-13T13:12:37.318847Z"
    },
    "papermill": {
     "duration": 0.013106,
     "end_time": "2025-06-13T13:12:37.319880",
     "exception": false,
     "start_time": "2025-06-13T13:12:37.306774",
     "status": "completed"
    },
    "tags": []
   },
   "outputs": [
    {
     "data": {
      "text/plain": [
       "{'BAS': 0.5701059552338974, 'WF1': 0.7182903632240139}"
      ]
     },
     "execution_count": 26,
     "metadata": {},
     "output_type": "execute_result"
    }
   ],
   "source": [
    "metrics_dict"
   ]
  },
  {
   "cell_type": "code",
   "execution_count": 27,
   "id": "00aba96d",
   "metadata": {
    "execution": {
     "iopub.execute_input": "2025-06-13T13:12:37.338472Z",
     "iopub.status.busy": "2025-06-13T13:12:37.338205Z",
     "iopub.status.idle": "2025-06-13T13:12:37.346835Z",
     "shell.execute_reply": "2025-06-13T13:12:37.346531Z"
    },
    "papermill": {
     "duration": 0.018921,
     "end_time": "2025-06-13T13:12:37.347636",
     "exception": false,
     "start_time": "2025-06-13T13:12:37.328715",
     "status": "completed"
    },
    "tags": []
   },
   "outputs": [
    {
     "data": {
      "text/html": [
       "<div>\n",
       "<style scoped>\n",
       "    .dataframe tbody tr th:only-of-type {\n",
       "        vertical-align: middle;\n",
       "    }\n",
       "\n",
       "    .dataframe tbody tr th {\n",
       "        vertical-align: top;\n",
       "    }\n",
       "\n",
       "    .dataframe thead th {\n",
       "        text-align: right;\n",
       "    }\n",
       "</style>\n",
       "<table border=\"1\" class=\"dataframe\">\n",
       "  <thead>\n",
       "    <tr style=\"text-align: right;\">\n",
       "      <th></th>\n",
       "      <th>BAS</th>\n",
       "      <th>WF1</th>\n",
       "      <th>split_idx</th>\n",
       "      <th>gene_set_seed</th>\n",
       "      <th>cell_type</th>\n",
       "    </tr>\n",
       "  </thead>\n",
       "  <tbody>\n",
       "    <tr>\n",
       "      <th>0</th>\n",
       "      <td>0.570106</td>\n",
       "      <td>0.71829</td>\n",
       "      <td>1</td>\n",
       "      <td>shap_studyID_samesize</td>\n",
       "      <td>T_CD8_NonNaive</td>\n",
       "    </tr>\n",
       "  </tbody>\n",
       "</table>\n",
       "</div>"
      ],
      "text/plain": [
       "        BAS      WF1  split_idx          gene_set_seed       cell_type\n",
       "0  0.570106  0.71829          1  shap_studyID_samesize  T_CD8_NonNaive"
      ]
     },
     "execution_count": 27,
     "metadata": {},
     "output_type": "execute_result"
    }
   ],
   "source": [
    "metrics_df = pd.DataFrame.from_dict([metrics_dict]).assign(split_idx=TEST_SPLIT_IDX, gene_set_seed=SEED, cell_type=CELL_TYPE)\n",
    "metrics_df"
   ]
  },
  {
   "cell_type": "code",
   "execution_count": 28,
   "id": "411f63f8",
   "metadata": {
    "execution": {
     "iopub.execute_input": "2025-06-13T13:12:37.365747Z",
     "iopub.status.busy": "2025-06-13T13:12:37.365479Z",
     "iopub.status.idle": "2025-06-13T13:12:37.372828Z",
     "shell.execute_reply": "2025-06-13T13:12:37.372524Z"
    },
    "papermill": {
     "duration": 0.017433,
     "end_time": "2025-06-13T13:12:37.373637",
     "exception": false,
     "start_time": "2025-06-13T13:12:37.356204",
     "status": "completed"
    },
    "tags": []
   },
   "outputs": [],
   "source": [
    "out_dir = here(f'03_downstream_analysis/08_gene_importance/xgboost_external_validation/xgboost_TopN_genes/results_{N_GENES}/metrics')\n",
    "\n",
    "if not os.path.exists(out_dir):\n",
    "    os.makedirs(out_dir)\n",
    "    \n",
    "metrics_df.to_csv(os.path.join(out_dir, f'{CELL_TYPE}_{SEED}_{TEST_SPLIT_IDX}_metrics.zip'))"
   ]
  }
 ],
 "metadata": {
  "kernelspec": {
   "display_name": "Python 3 (ipykernel)",
   "language": "python",
   "name": "python3"
  },
  "language_info": {
   "codemirror_mode": {
    "name": "ipython",
    "version": 3
   },
   "file_extension": ".py",
   "mimetype": "text/x-python",
   "name": "python",
   "nbconvert_exporter": "python",
   "pygments_lexer": "ipython3",
   "version": "3.12.5"
  },
  "papermill": {
   "default_parameters": {},
   "duration": 467.090023,
   "end_time": "2025-06-13T13:12:38.098954",
   "environment_variables": {},
   "exception": null,
   "input_path": "02_xgboost_fitting_external_20genes.ipynb",
   "output_path": "results_20/executed_notebooks/xgboost_fitting_external_CT_T_CD8_NonNaive_GS_shap_studyID_samesize_seed1.ipynb",
   "parameters": {
    "CELL_TYPE": "T_CD8_NonNaive",
    "SEED": "shap_studyID_samesize",
    "TEST_SPLIT_IDX": 1
   },
   "start_time": "2025-06-13T13:04:51.008931",
   "version": "2.6.0"
  }
 },
 "nbformat": 4,
 "nbformat_minor": 5
}