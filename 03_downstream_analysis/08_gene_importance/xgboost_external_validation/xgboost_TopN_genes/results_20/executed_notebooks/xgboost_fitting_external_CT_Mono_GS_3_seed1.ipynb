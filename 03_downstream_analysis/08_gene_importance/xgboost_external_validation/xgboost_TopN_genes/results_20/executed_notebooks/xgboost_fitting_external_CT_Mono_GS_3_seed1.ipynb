{
 "cells": [
  {
   "cell_type": "code",
   "execution_count": 1,
   "id": "4eaeaba2",
   "metadata": {
    "editable": true,
    "execution": {
     "iopub.execute_input": "2025-05-15T15:59:04.890831Z",
     "iopub.status.busy": "2025-05-15T15:59:04.890560Z",
     "iopub.status.idle": "2025-05-15T15:59:04.894226Z",
     "shell.execute_reply": "2025-05-15T15:59:04.893812Z"
    },
    "papermill": {
     "duration": 0.012115,
     "end_time": "2025-05-15T15:59:04.895263",
     "exception": false,
     "start_time": "2025-05-15T15:59:04.883148",
     "status": "completed"
    },
    "slideshow": {
     "slide_type": ""
    },
    "tags": [
     "parameters"
    ]
   },
   "outputs": [],
   "source": [
    "CELL_TYPE = 'pDC'\n",
    "N_GENES: int = 20\n",
    "SEED = 'shap_studyID' #'disease_NOstudy' 'study_NOdisease' or 'int' or 'shap_studyID'\n",
    "TEST_SPLIT_IDX: int = 1 #[0,4]"
   ]
  },
  {
   "cell_type": "code",
   "execution_count": 2,
   "id": "8cb4d94b",
   "metadata": {
    "execution": {
     "iopub.execute_input": "2025-05-15T15:59:04.908125Z",
     "iopub.status.busy": "2025-05-15T15:59:04.907262Z",
     "iopub.status.idle": "2025-05-15T15:59:04.910094Z",
     "shell.execute_reply": "2025-05-15T15:59:04.909774Z"
    },
    "papermill": {
     "duration": 0.009582,
     "end_time": "2025-05-15T15:59:04.911063",
     "exception": false,
     "start_time": "2025-05-15T15:59:04.901481",
     "status": "completed"
    },
    "tags": [
     "injected-parameters"
    ]
   },
   "outputs": [],
   "source": [
    "# Parameters\n",
    "CELL_TYPE = \"Mono\"\n",
    "SEED = 3\n",
    "TEST_SPLIT_IDX = 1\n"
   ]
  },
  {
   "cell_type": "code",
   "execution_count": 3,
   "id": "c9324385",
   "metadata": {
    "execution": {
     "iopub.execute_input": "2025-05-15T15:59:04.922878Z",
     "iopub.status.busy": "2025-05-15T15:59:04.922738Z",
     "iopub.status.idle": "2025-05-15T15:59:04.924784Z",
     "shell.execute_reply": "2025-05-15T15:59:04.924468Z"
    },
    "papermill": {
     "duration": 0.009167,
     "end_time": "2025-05-15T15:59:04.925856",
     "exception": false,
     "start_time": "2025-05-15T15:59:04.916689",
     "status": "completed"
    },
    "tags": []
   },
   "outputs": [],
   "source": [
    "N_SPLITS: int = 5\n",
    "N_TRIALS: int = 50"
   ]
  },
  {
   "cell_type": "code",
   "execution_count": 4,
   "id": "4daff9e1",
   "metadata": {
    "execution": {
     "iopub.execute_input": "2025-05-15T15:59:04.939221Z",
     "iopub.status.busy": "2025-05-15T15:59:04.939066Z",
     "iopub.status.idle": "2025-05-15T15:59:06.371450Z",
     "shell.execute_reply": "2025-05-15T15:59:06.371001Z"
    },
    "papermill": {
     "duration": 1.440437,
     "end_time": "2025-05-15T15:59:06.372689",
     "exception": false,
     "start_time": "2025-05-15T15:59:04.932252",
     "status": "completed"
    },
    "tags": []
   },
   "outputs": [],
   "source": [
    "import os\n",
    "import sys\n",
    "from pyprojroot.here import here\n",
    "import pandas as pd\n",
    "import anndata as ad\n",
    "import numpy as np\n",
    "import math\n",
    "from sklearn.model_selection import StratifiedGroupKFold\n",
    "from sklearn.preprocessing import LabelEncoder\n",
    "from sklearn.metrics import f1_score\n",
    "import matplotlib.pyplot as plt\n",
    "import seaborn as sns\n",
    "from itertools import product\n",
    "from sklearn.metrics import balanced_accuracy_score, f1_score\n",
    "import optuna\n",
    "\n",
    "import joblib\n",
    "import pickle\n",
    "import datetime\n",
    "\n",
    "import collections\n",
    "\n",
    "import xgboost\n",
    "from sklearn.preprocessing import LabelEncoder\n",
    "\n",
    "import scipy.sparse as ssp\n",
    "import joblib\n",
    "\n",
    "from dotenv import load_dotenv"
   ]
  },
  {
   "cell_type": "code",
   "execution_count": 5,
   "id": "9a359c25",
   "metadata": {
    "execution": {
     "iopub.execute_input": "2025-05-15T15:59:06.429643Z",
     "iopub.status.busy": "2025-05-15T15:59:06.429331Z",
     "iopub.status.idle": "2025-05-15T15:59:06.434623Z",
     "shell.execute_reply": "2025-05-15T15:59:06.434320Z"
    },
    "papermill": {
     "duration": 0.012982,
     "end_time": "2025-05-15T15:59:06.435421",
     "exception": false,
     "start_time": "2025-05-15T15:59:06.422439",
     "status": "completed"
    },
    "tags": []
   },
   "outputs": [
    {
     "data": {
      "text/plain": [
       "True"
      ]
     },
     "execution_count": 5,
     "metadata": {},
     "output_type": "execute_result"
    }
   ],
   "source": [
    "load_dotenv()"
   ]
  },
  {
   "cell_type": "markdown",
   "id": "96203e75",
   "metadata": {
    "papermill": {
     "duration": 0.006623,
     "end_time": "2025-05-15T15:59:06.447977",
     "exception": false,
     "start_time": "2025-05-15T15:59:06.441354",
     "status": "completed"
    },
    "tags": []
   },
   "source": [
    "# LOAD DATASET"
   ]
  },
  {
   "cell_type": "code",
   "execution_count": 6,
   "id": "52809263",
   "metadata": {
    "execution": {
     "iopub.execute_input": "2025-05-15T15:59:06.459768Z",
     "iopub.status.busy": "2025-05-15T15:59:06.459576Z",
     "iopub.status.idle": "2025-05-15T15:59:07.620500Z",
     "shell.execute_reply": "2025-05-15T15:59:07.620041Z"
    },
    "papermill": {
     "duration": 1.168397,
     "end_time": "2025-05-15T15:59:07.621670",
     "exception": false,
     "start_time": "2025-05-15T15:59:06.453273",
     "status": "completed"
    },
    "tags": []
   },
   "outputs": [],
   "source": [
    "train_adata = ad.read_h5ad(\n",
    "    here(f'03_downstream_analysis/08_gene_importance/xgboost_external_validation/xgboost_TopN_genes/data_cellTypes/EXTERNAL_{CELL_TYPE}.filtered.log1p.h5ad')\n",
    ")"
   ]
  },
  {
   "cell_type": "code",
   "execution_count": 7,
   "id": "672a894e",
   "metadata": {
    "execution": {
     "iopub.execute_input": "2025-05-15T15:59:07.656919Z",
     "iopub.status.busy": "2025-05-15T15:59:07.656742Z",
     "iopub.status.idle": "2025-05-15T15:59:07.688059Z",
     "shell.execute_reply": "2025-05-15T15:59:07.687722Z"
    },
    "papermill": {
     "duration": 0.061564,
     "end_time": "2025-05-15T15:59:07.688908",
     "exception": false,
     "start_time": "2025-05-15T15:59:07.627344",
     "status": "completed"
    },
    "tags": []
   },
   "outputs": [
    {
     "name": "stdout",
     "output_type": "stream",
     "text": [
      "['ENSG00000169429' 'ENSG00000136156' 'ENSG00000160710' 'ENSG00000175768'\n",
      " 'ENSG00000183019' 'ENSG00000100934' 'ENSG00000113441' 'ENSG00000161642'\n",
      " 'ENSG00000115523' 'ENSG00000170296' 'ENSG00000005339' 'ENSG00000179921'\n",
      " 'ENSG00000072958' 'ENSG00000142208' 'ENSG00000117602' 'ENSG00000155368'\n",
      " 'ENSG00000125743' 'ENSG00000197102' 'ENSG00000160932' 'ENSG00000085514'\n",
      " 'ENSG00000137100' 'ENSG00000144746' 'ENSG00000185650' 'ENSG00000156411'\n",
      " 'ENSG00000127314' 'ENSG00000136738' 'ENSG00000140105' 'ENSG00000066336'\n",
      " 'ENSG00000106605' 'ENSG00000121858' 'ENSG00000145912' 'ENSG00000196126'\n",
      " 'ENSG00000104998' 'ENSG00000132510' 'ENSG00000160213' 'ENSG00000115145'\n",
      " 'ENSG00000197965' 'ENSG00000028137' 'ENSG00000239998' 'ENSG00000163660'\n",
      " 'ENSG00000162434' 'ENSG00000165732' 'ENSG00000124762' 'ENSG00000135441'\n",
      " 'ENSG00000146592' 'ENSG00000159128' 'ENSG00000110203' 'ENSG00000204103'\n",
      " 'ENSG00000100368' 'ENSG00000131042' 'ENSG00000185591' 'ENSG00000175538'\n",
      " 'ENSG00000204287' 'ENSG00000110077' 'ENSG00000123358' 'ENSG00000068796'\n",
      " 'ENSG00000179094' 'ENSG00000103187' 'ENSG00000131981' 'ENSG00000115415'\n",
      " 'ENSG00000152219' 'ENSG00000243678' 'ENSG00000178719' 'ENSG00000144802'\n",
      " 'ENSG00000115828' 'ENSG00000106803' 'ENSG00000026103' 'ENSG00000136869'\n",
      " 'ENSG00000161203' 'ENSG00000130755' 'ENSG00000119917' 'ENSG00000141506'\n",
      " 'ENSG00000277443' 'ENSG00000150782' 'ENSG00000165168' 'ENSG00000104918'\n",
      " 'ENSG00000100485' 'ENSG00000002549' 'ENSG00000166710' 'ENSG00000188906'\n",
      " 'ENSG00000076944' 'ENSG00000138678' 'ENSG00000157020' 'ENSG00000152234'\n",
      " 'ENSG00000177606' 'ENSG00000184752' 'ENSG00000108622' 'ENSG00000163131'\n",
      " 'ENSG00000185291' 'ENSG00000198668' 'ENSG00000213928' 'ENSG00000175489'\n",
      " 'ENSG00000100100' 'ENSG00000165527' 'ENSG00000125534' 'ENSG00000182578'\n",
      " 'ENSG00000177575' 'ENSG00000092820' 'ENSG00000228474' 'ENSG00000125810'\n",
      " 'ENSG00000197405' 'ENSG00000111275' 'ENSG00000164308' 'ENSG00000019582'\n",
      " 'ENSG00000158517' 'ENSG00000100393' 'ENSG00000081041' 'ENSG00000213145'\n",
      " 'ENSG00000120594' 'ENSG00000126759' 'ENSG00000198502' 'ENSG00000107223'\n",
      " 'ENSG00000147443' 'ENSG00000113916']\n"
     ]
    }
   ],
   "source": [
    "if SEED != 'all':\n",
    "    gene_subset = np.load(here(f'03_downstream_analysis/08_gene_importance/xgboost_external_validation/shap_gene_selection/gene_subsets_{N_GENES}/{CELL_TYPE}_{SEED}.npy'), allow_pickle=True)\n",
    "    train_adata = train_adata[:,gene_subset]\n",
    "    print(gene_subset)\n",
    "elif SEED == 'all':\n",
    "    print('Using all genes')\n",
    "else:\n",
    "    raise ValueError()"
   ]
  },
  {
   "cell_type": "code",
   "execution_count": 8,
   "id": "53adfbbf",
   "metadata": {
    "execution": {
     "iopub.execute_input": "2025-05-15T15:59:07.725541Z",
     "iopub.status.busy": "2025-05-15T15:59:07.725346Z",
     "iopub.status.idle": "2025-05-15T15:59:07.728259Z",
     "shell.execute_reply": "2025-05-15T15:59:07.727956Z"
    },
    "papermill": {
     "duration": 0.027458,
     "end_time": "2025-05-15T15:59:07.729039",
     "exception": false,
     "start_time": "2025-05-15T15:59:07.701581",
     "status": "completed"
    },
    "tags": []
   },
   "outputs": [
    {
     "data": {
      "text/plain": [
       "(137435, 114)"
      ]
     },
     "execution_count": 8,
     "metadata": {},
     "output_type": "execute_result"
    }
   ],
   "source": [
    "train_adata.shape"
   ]
  },
  {
   "cell_type": "code",
   "execution_count": 9,
   "id": "b8782664",
   "metadata": {
    "execution": {
     "iopub.execute_input": "2025-05-15T15:59:07.768051Z",
     "iopub.status.busy": "2025-05-15T15:59:07.767824Z",
     "iopub.status.idle": "2025-05-15T15:59:07.771516Z",
     "shell.execute_reply": "2025-05-15T15:59:07.771234Z"
    },
    "papermill": {
     "duration": 0.022905,
     "end_time": "2025-05-15T15:59:07.772267",
     "exception": false,
     "start_time": "2025-05-15T15:59:07.749362",
     "status": "completed"
    },
    "tags": []
   },
   "outputs": [
    {
     "data": {
      "text/plain": [
       "['RA', 'healthy', 'COVID', 'HIV', 'cirrhosis', 'CD', 'SLE', 'sepsis']\n",
       "Categories (8, object): ['CD', 'COVID', 'HIV', 'RA', 'SLE', 'cirrhosis', 'healthy', 'sepsis']"
      ]
     },
     "execution_count": 9,
     "metadata": {},
     "output_type": "execute_result"
    }
   ],
   "source": [
    "train_adata.obs.disease.unique()"
   ]
  },
  {
   "cell_type": "code",
   "execution_count": 10,
   "id": "8886d39c",
   "metadata": {
    "execution": {
     "iopub.execute_input": "2025-05-15T15:59:07.795418Z",
     "iopub.status.busy": "2025-05-15T15:59:07.795088Z",
     "iopub.status.idle": "2025-05-15T15:59:07.798752Z",
     "shell.execute_reply": "2025-05-15T15:59:07.798467Z"
    },
    "papermill": {
     "duration": 0.021699,
     "end_time": "2025-05-15T15:59:07.799529",
     "exception": false,
     "start_time": "2025-05-15T15:59:07.777830",
     "status": "completed"
    },
    "tags": []
   },
   "outputs": [
    {
     "data": {
      "text/plain": [
       "['SCGT00val_I0364_T0', 'SCGT00val_I036028_T0', 'SCGT00val_I036024_T0', 'SCGT00val_I036023_T0', 'SCGT00val_I036019_T0', ..., '10XGenomics_10XHC2_T0', '10XGenomics_10XHC3_T0', '10XGenomics_10XHC5_T0', '10XGenomics_10XHC7_T0', '10XGenomics_10XHC8_T0']\n",
       "Length: 86\n",
       "Categories (86, object): ['10XGenomics_10XHC1_T0', '10XGenomics_10XHC2_T0', '10XGenomics_10XHC3_T0', '10XGenomics_10XHC4_T0', ..., 'Savage2021_BRISL6_T0', 'Savage2021_BRISL7_T0', 'Savage2021_PIDA_T0', 'Savage2021_PIDB_T0']"
      ]
     },
     "execution_count": 10,
     "metadata": {},
     "output_type": "execute_result"
    }
   ],
   "source": [
    "train_adata.obs.sampleID.unique()"
   ]
  },
  {
   "cell_type": "code",
   "execution_count": 11,
   "id": "4790cc67",
   "metadata": {
    "execution": {
     "iopub.execute_input": "2025-05-15T15:59:07.811499Z",
     "iopub.status.busy": "2025-05-15T15:59:07.811189Z",
     "iopub.status.idle": "2025-05-15T15:59:08.133214Z",
     "shell.execute_reply": "2025-05-15T15:59:08.132753Z"
    },
    "papermill": {
     "duration": 0.329418,
     "end_time": "2025-05-15T15:59:08.134409",
     "exception": false,
     "start_time": "2025-05-15T15:59:07.804991",
     "status": "completed"
    },
    "tags": []
   },
   "outputs": [],
   "source": [
    "all_idxs = np.arange(train_adata.obs.shape[0])\n",
    "left_out_splits = [s[1] for s in StratifiedGroupKFold(n_splits=N_SPLITS).split(all_idxs, train_adata.obs.disease, train_adata.obs.sampleID)]"
   ]
  },
  {
   "cell_type": "code",
   "execution_count": 12,
   "id": "ece954c6",
   "metadata": {
    "execution": {
     "iopub.execute_input": "2025-05-15T15:59:08.147206Z",
     "iopub.status.busy": "2025-05-15T15:59:08.146968Z",
     "iopub.status.idle": "2025-05-15T15:59:08.149983Z",
     "shell.execute_reply": "2025-05-15T15:59:08.149695Z"
    },
    "papermill": {
     "duration": 0.010052,
     "end_time": "2025-05-15T15:59:08.150769",
     "exception": false,
     "start_time": "2025-05-15T15:59:08.140717",
     "status": "completed"
    },
    "tags": []
   },
   "outputs": [
    {
     "data": {
      "text/plain": [
       "([0, 3, 4], 2, 1)"
      ]
     },
     "execution_count": 12,
     "metadata": {},
     "output_type": "execute_result"
    }
   ],
   "source": [
    "TRAIN_SPLIT_IDXS = [0,1,2,3,4]\n",
    "VAL_SPLIT_IDX = (TEST_SPLIT_IDX + 1) % 5\n",
    "TRAIN_SPLIT_IDXS.remove(TEST_SPLIT_IDX)\n",
    "TRAIN_SPLIT_IDXS.remove(VAL_SPLIT_IDX)\n",
    "TRAIN_SPLIT_IDXS, VAL_SPLIT_IDX, TEST_SPLIT_IDX"
   ]
  },
  {
   "cell_type": "code",
   "execution_count": 13,
   "id": "47f1c2f0",
   "metadata": {
    "execution": {
     "iopub.execute_input": "2025-05-15T15:59:08.165025Z",
     "iopub.status.busy": "2025-05-15T15:59:08.164718Z",
     "iopub.status.idle": "2025-05-15T15:59:08.166998Z",
     "shell.execute_reply": "2025-05-15T15:59:08.166717Z"
    },
    "papermill": {
     "duration": 0.010416,
     "end_time": "2025-05-15T15:59:08.167760",
     "exception": false,
     "start_time": "2025-05-15T15:59:08.157344",
     "status": "completed"
    },
    "tags": []
   },
   "outputs": [],
   "source": [
    "train_idxs = np.concatenate([left_out_splits[idx] for idx in TRAIN_SPLIT_IDXS])\n",
    "val_idxs = left_out_splits[VAL_SPLIT_IDX]\n",
    "test_idxs = left_out_splits[TEST_SPLIT_IDX]"
   ]
  },
  {
   "cell_type": "markdown",
   "id": "56594920",
   "metadata": {
    "papermill": {
     "duration": 0.006059,
     "end_time": "2025-05-15T15:59:08.199769",
     "exception": false,
     "start_time": "2025-05-15T15:59:08.193710",
     "status": "completed"
    },
    "tags": []
   },
   "source": [
    "### SUBSET DATASET INTO TRAIN/TEST/VAL SPLITS"
   ]
  },
  {
   "cell_type": "code",
   "execution_count": 14,
   "id": "2bf6cc48",
   "metadata": {
    "execution": {
     "iopub.execute_input": "2025-05-15T15:59:08.250290Z",
     "iopub.status.busy": "2025-05-15T15:59:08.250128Z",
     "iopub.status.idle": "2025-05-15T15:59:08.700506Z",
     "shell.execute_reply": "2025-05-15T15:59:08.700177Z"
    },
    "papermill": {
     "duration": 0.465674,
     "end_time": "2025-05-15T15:59:08.701447",
     "exception": false,
     "start_time": "2025-05-15T15:59:08.235773",
     "status": "completed"
    },
    "tags": []
   },
   "outputs": [
    {
     "data": {
      "text/plain": [
       "((83097, 114), (27487, 114), (26851, 114))"
      ]
     },
     "execution_count": 14,
     "metadata": {},
     "output_type": "execute_result"
    }
   ],
   "source": [
    "X_train = train_adata.X[train_idxs]\n",
    "X_test = train_adata.X[test_idxs]\n",
    "X_val = train_adata.X[val_idxs]\n",
    "X_train.shape, X_test.shape, X_val.shape"
   ]
  },
  {
   "cell_type": "code",
   "execution_count": 15,
   "id": "eeb6bdd7",
   "metadata": {
    "execution": {
     "iopub.execute_input": "2025-05-15T15:59:08.737335Z",
     "iopub.status.busy": "2025-05-15T15:59:08.737161Z",
     "iopub.status.idle": "2025-05-15T15:59:08.749285Z",
     "shell.execute_reply": "2025-05-15T15:59:08.748907Z"
    },
    "papermill": {
     "duration": 0.035733,
     "end_time": "2025-05-15T15:59:08.750095",
     "exception": false,
     "start_time": "2025-05-15T15:59:08.714362",
     "status": "completed"
    },
    "tags": []
   },
   "outputs": [
    {
     "data": {
      "text/plain": [
       "((83097,), (27487,), (26851,))"
      ]
     },
     "execution_count": 15,
     "metadata": {},
     "output_type": "execute_result"
    }
   ],
   "source": [
    "y_train = train_adata.obs.iloc[train_idxs].disease.values.astype(str)\n",
    "y_test = train_adata.obs.iloc[test_idxs].disease.values.astype(str)\n",
    "y_val = train_adata.obs.iloc[val_idxs].disease.values.astype(str)\n",
    "y_train.shape, y_test.shape, y_val.shape"
   ]
  },
  {
   "cell_type": "code",
   "execution_count": 16,
   "id": "751cffb8",
   "metadata": {
    "execution": {
     "iopub.execute_input": "2025-05-15T15:59:08.777073Z",
     "iopub.status.busy": "2025-05-15T15:59:08.776892Z",
     "iopub.status.idle": "2025-05-15T15:59:08.805667Z",
     "shell.execute_reply": "2025-05-15T15:59:08.805297Z"
    },
    "papermill": {
     "duration": 0.036126,
     "end_time": "2025-05-15T15:59:08.806472",
     "exception": false,
     "start_time": "2025-05-15T15:59:08.770346",
     "status": "completed"
    },
    "tags": []
   },
   "outputs": [],
   "source": [
    "lenc = LabelEncoder()\n",
    "y_train_enc = lenc.fit_transform(y_train)\n",
    "y_val_enc = lenc.transform(y_val)\n",
    "y_test_enc = lenc.transform(y_test)"
   ]
  },
  {
   "cell_type": "markdown",
   "id": "5f8557eb",
   "metadata": {
    "papermill": {
     "duration": 0.011182,
     "end_time": "2025-05-15T15:59:08.823448",
     "exception": false,
     "start_time": "2025-05-15T15:59:08.812266",
     "status": "completed"
    },
    "tags": []
   },
   "source": [
    "### GENERATE F1 "
   ]
  },
  {
   "cell_type": "code",
   "execution_count": 17,
   "id": "06719102",
   "metadata": {
    "execution": {
     "iopub.execute_input": "2025-05-15T15:59:08.836625Z",
     "iopub.status.busy": "2025-05-15T15:59:08.836433Z",
     "iopub.status.idle": "2025-05-15T15:59:08.838702Z",
     "shell.execute_reply": "2025-05-15T15:59:08.838412Z"
    },
    "papermill": {
     "duration": 0.009586,
     "end_time": "2025-05-15T15:59:08.839441",
     "exception": false,
     "start_time": "2025-05-15T15:59:08.829855",
     "status": "completed"
    },
    "tags": []
   },
   "outputs": [],
   "source": [
    "def custom_f1_score(y_true, y_pred):\n",
    "    return -f1_score(y_true, y_pred.argmax(1), average='weighted')"
   ]
  },
  {
   "cell_type": "code",
   "execution_count": 18,
   "id": "710b25ca",
   "metadata": {
    "execution": {
     "iopub.execute_input": "2025-05-15T15:59:08.852561Z",
     "iopub.status.busy": "2025-05-15T15:59:08.852350Z",
     "iopub.status.idle": "2025-05-15T15:59:08.855913Z",
     "shell.execute_reply": "2025-05-15T15:59:08.855620Z"
    },
    "papermill": {
     "duration": 0.010531,
     "end_time": "2025-05-15T15:59:08.856653",
     "exception": false,
     "start_time": "2025-05-15T15:59:08.846122",
     "status": "completed"
    },
    "tags": []
   },
   "outputs": [],
   "source": [
    "eval_metric=custom_f1_score\n",
    "eval_metric_name='custom_f1_score'\n",
    "\n",
    "def objective(trial):\n",
    "    params = {\n",
    "        'n_estimators': 1500,\n",
    "        'max_depth': trial.suggest_int('max_depth', 3, 20),\n",
    "        'min_child_weight': trial.suggest_int('min_child_weight', 1, 250),\n",
    "        'subsample': trial.suggest_float('subsample', 0.1, 1.0),\n",
    "        'colsample_bynode': trial.suggest_float('colsample_bynode', 0.1, 1.0),\n",
    "        'learning_rate': trial.suggest_float('learning_rate', 1e-3, 5e-1, log=True),\n",
    "    }\n",
    "    pruning_callback = optuna.integration.XGBoostPruningCallback(trial, f'validation_0-{eval_metric_name}')\n",
    "    es_callback = xgboost.callback.EarlyStopping(20, min_delta=0.001)\n",
    "    xgb = xgboost.XGBClassifier(\n",
    "        eval_metric=eval_metric,\n",
    "        callbacks=[pruning_callback, es_callback],\n",
    "        n_jobs=5,\n",
    "        **params\n",
    "    )\n",
    "    xgb.fit(\n",
    "        X_train, \n",
    "        y_train_enc, \n",
    "        verbose=0,\n",
    "        eval_set=[(X_val, y_val_enc)],\n",
    "    )\n",
    "    trial.set_user_attr('best_iteration', xgb.best_iteration)\n",
    "\n",
    "    return xgb.best_score"
   ]
  },
  {
   "cell_type": "code",
   "execution_count": 19,
   "id": "534aa273",
   "metadata": {
    "execution": {
     "iopub.execute_input": "2025-05-15T15:59:08.870475Z",
     "iopub.status.busy": "2025-05-15T15:59:08.870141Z",
     "iopub.status.idle": "2025-05-15T16:14:19.969826Z",
     "shell.execute_reply": "2025-05-15T16:14:19.969325Z"
    },
    "papermill": {
     "duration": 911.108016,
     "end_time": "2025-05-15T16:14:19.971284",
     "exception": false,
     "start_time": "2025-05-15T15:59:08.863268",
     "status": "completed"
    },
    "scrolled": true,
    "tags": []
   },
   "outputs": [
    {
     "name": "stderr",
     "output_type": "stream",
     "text": [
      "[I 2025-05-15 17:59:08,871] A new study created in memory with name: no-name-c90d4bbe-6a02-409f-bb6e-8562c67f080b\n"
     ]
    },
    {
     "name": "stderr",
     "output_type": "stream",
     "text": [
      "[I 2025-05-15 17:59:15,403] Trial 0 finished with value: -0.724792 and parameters: {'max_depth': 9, 'min_child_weight': 238, 'subsample': 0.7587945476302645, 'colsample_bynode': 0.6387926357773329, 'learning_rate': 0.0026368755339723046}. Best is trial 0 with value: -0.724792.\n"
     ]
    },
    {
     "name": "stderr",
     "output_type": "stream",
     "text": [
      "[I 2025-05-15 18:00:04,859] Trial 1 finished with value: -0.840186 and parameters: {'max_depth': 5, 'min_child_weight': 15, 'subsample': 0.8795585311974417, 'colsample_bynode': 0.6410035105688879, 'learning_rate': 0.08148293210105287}. Best is trial 1 with value: -0.840186.\n"
     ]
    },
    {
     "name": "stderr",
     "output_type": "stream",
     "text": [
      "[I 2025-05-15 18:00:19,093] Trial 2 finished with value: -0.704272 and parameters: {'max_depth': 3, 'min_child_weight': 243, 'subsample': 0.8491983767203796, 'colsample_bynode': 0.29110519961044856, 'learning_rate': 0.003095566460242371}. Best is trial 1 with value: -0.840186.\n"
     ]
    },
    {
     "name": "stderr",
     "output_type": "stream",
     "text": [
      "[I 2025-05-15 18:02:56,053] Trial 3 finished with value: -0.804454 and parameters: {'max_depth': 6, 'min_child_weight': 77, 'subsample': 0.5722807884690141, 'colsample_bynode': 0.48875051677790415, 'learning_rate': 0.006109683510122491}. Best is trial 1 with value: -0.840186.\n"
     ]
    },
    {
     "name": "stderr",
     "output_type": "stream",
     "text": [
      "[I 2025-05-15 18:04:46,931] Trial 4 finished with value: -0.829305 and parameters: {'max_depth': 14, 'min_child_weight': 35, 'subsample': 0.3629301836816964, 'colsample_bynode': 0.4297256589643226, 'learning_rate': 0.01701841881702917}. Best is trial 1 with value: -0.840186.\n"
     ]
    },
    {
     "name": "stderr",
     "output_type": "stream",
     "text": [
      "[I 2025-05-15 18:04:58,520] Trial 5 finished with value: -0.755807 and parameters: {'max_depth': 17, 'min_child_weight': 50, 'subsample': 0.5628109945722505, 'colsample_bynode': 0.6331731119758383, 'learning_rate': 0.0013346527038305934}. Best is trial 1 with value: -0.840186.\n"
     ]
    },
    {
     "name": "stderr",
     "output_type": "stream",
     "text": [
      "[I 2025-05-15 18:05:24,293] Trial 6 finished with value: -0.841564 and parameters: {'max_depth': 13, 'min_child_weight': 43, 'subsample': 0.1585464336867516, 'colsample_bynode': 0.9539969835279999, 'learning_rate': 0.4038423798071558}. Best is trial 6 with value: -0.841564.\n"
     ]
    },
    {
     "name": "stderr",
     "output_type": "stream",
     "text": [
      "[I 2025-05-15 18:05:25,024] Trial 7 pruned. Trial was pruned at iteration 0.\n"
     ]
    },
    {
     "name": "stderr",
     "output_type": "stream",
     "text": [
      "[I 2025-05-15 18:05:25,742] Trial 8 pruned. Trial was pruned at iteration 0.\n"
     ]
    },
    {
     "name": "stderr",
     "output_type": "stream",
     "text": [
      "[I 2025-05-15 18:05:29,041] Trial 9 pruned. Trial was pruned at iteration 8.\n"
     ]
    },
    {
     "name": "stderr",
     "output_type": "stream",
     "text": [
      "[I 2025-05-15 18:05:29,769] Trial 10 pruned. Trial was pruned at iteration 0.\n"
     ]
    },
    {
     "name": "stderr",
     "output_type": "stream",
     "text": [
      "[I 2025-05-15 18:06:22,739] Trial 11 finished with value: -0.843525 and parameters: {'max_depth': 10, 'min_child_weight': 3, 'subsample': 0.9785259098721957, 'colsample_bynode': 0.8052666590341151, 'learning_rate': 0.2758695468716421}. Best is trial 11 with value: -0.843525.\n"
     ]
    },
    {
     "name": "stderr",
     "output_type": "stream",
     "text": [
      "[I 2025-05-15 18:06:58,149] Trial 12 finished with value: -0.841888 and parameters: {'max_depth': 10, 'min_child_weight': 3, 'subsample': 0.9575013734813995, 'colsample_bynode': 0.8617981444074343, 'learning_rate': 0.48918351051991577}. Best is trial 11 with value: -0.843525.\n"
     ]
    },
    {
     "name": "stderr",
     "output_type": "stream",
     "text": [
      "[I 2025-05-15 18:08:14,403] Trial 13 finished with value: -0.838324 and parameters: {'max_depth': 9, 'min_child_weight': 2, 'subsample': 0.99831866990243, 'colsample_bynode': 0.8228797494499728, 'learning_rate': 0.11321089671237052}. Best is trial 11 with value: -0.843525.\n"
     ]
    },
    {
     "name": "stderr",
     "output_type": "stream",
     "text": [
      "[I 2025-05-15 18:08:15,230] Trial 14 pruned. Trial was pruned at iteration 0.\n"
     ]
    },
    {
     "name": "stderr",
     "output_type": "stream",
     "text": [
      "[I 2025-05-15 18:08:52,481] Trial 15 finished with value: -0.840215 and parameters: {'max_depth': 11, 'min_child_weight': 2, 'subsample': 0.7282341236970885, 'colsample_bynode': 0.17061614647010237, 'learning_rate': 0.23979925579021713}. Best is trial 11 with value: -0.843525.\n"
     ]
    },
    {
     "name": "stderr",
     "output_type": "stream",
     "text": [
      "[I 2025-05-15 18:08:53,252] Trial 16 pruned. Trial was pruned at iteration 0.\n"
     ]
    },
    {
     "name": "stderr",
     "output_type": "stream",
     "text": [
      "[I 2025-05-15 18:08:54,023] Trial 17 pruned. Trial was pruned at iteration 0.\n"
     ]
    },
    {
     "name": "stderr",
     "output_type": "stream",
     "text": [
      "[I 2025-05-15 18:08:55,829] Trial 18 pruned. Trial was pruned at iteration 3.\n"
     ]
    },
    {
     "name": "stderr",
     "output_type": "stream",
     "text": [
      "[I 2025-05-15 18:08:56,673] Trial 19 pruned. Trial was pruned at iteration 0.\n"
     ]
    },
    {
     "name": "stderr",
     "output_type": "stream",
     "text": [
      "[I 2025-05-15 18:09:18,212] Trial 20 finished with value: -0.845865 and parameters: {'max_depth': 11, 'min_child_weight': 60, 'subsample': 0.6483339605894612, 'colsample_bynode': 0.7217713795746155, 'learning_rate': 0.44035016821583806}. Best is trial 20 with value: -0.845865.\n"
     ]
    },
    {
     "name": "stderr",
     "output_type": "stream",
     "text": [
      "[I 2025-05-15 18:09:42,409] Trial 21 finished with value: -0.848323 and parameters: {'max_depth': 11, 'min_child_weight': 27, 'subsample': 0.6633981323438212, 'colsample_bynode': 0.7075702423023762, 'learning_rate': 0.45943658883802896}. Best is trial 21 with value: -0.848323.\n"
     ]
    },
    {
     "name": "stderr",
     "output_type": "stream",
     "text": [
      "[I 2025-05-15 18:09:45,411] Trial 22 pruned. Trial was pruned at iteration 6.\n"
     ]
    },
    {
     "name": "stderr",
     "output_type": "stream",
     "text": [
      "[I 2025-05-15 18:09:46,284] Trial 23 pruned. Trial was pruned at iteration 0.\n"
     ]
    },
    {
     "name": "stderr",
     "output_type": "stream",
     "text": [
      "[I 2025-05-15 18:09:47,100] Trial 24 pruned. Trial was pruned at iteration 0.\n"
     ]
    },
    {
     "name": "stderr",
     "output_type": "stream",
     "text": [
      "[I 2025-05-15 18:09:50,021] Trial 25 pruned. Trial was pruned at iteration 6.\n"
     ]
    },
    {
     "name": "stderr",
     "output_type": "stream",
     "text": [
      "[I 2025-05-15 18:09:50,777] Trial 26 pruned. Trial was pruned at iteration 0.\n"
     ]
    },
    {
     "name": "stderr",
     "output_type": "stream",
     "text": [
      "[I 2025-05-15 18:10:23,744] Trial 27 finished with value: -0.846786 and parameters: {'max_depth': 10, 'min_child_weight': 16, 'subsample': 0.7451869777851525, 'colsample_bynode': 0.9968940581719752, 'learning_rate': 0.31493233036338925}. Best is trial 21 with value: -0.848323.\n"
     ]
    },
    {
     "name": "stderr",
     "output_type": "stream",
     "text": [
      "[I 2025-05-15 18:10:24,588] Trial 28 pruned. Trial was pruned at iteration 0.\n"
     ]
    },
    {
     "name": "stderr",
     "output_type": "stream",
     "text": [
      "[I 2025-05-15 18:10:25,327] Trial 29 pruned. Trial was pruned at iteration 0.\n"
     ]
    },
    {
     "name": "stderr",
     "output_type": "stream",
     "text": [
      "[I 2025-05-15 18:10:26,102] Trial 30 pruned. Trial was pruned at iteration 0.\n"
     ]
    },
    {
     "name": "stderr",
     "output_type": "stream",
     "text": [
      "[I 2025-05-15 18:10:58,754] Trial 31 finished with value: -0.845859 and parameters: {'max_depth': 10, 'min_child_weight': 16, 'subsample': 0.7251005714273716, 'colsample_bynode': 0.8938747202401348, 'learning_rate': 0.31795623863283146}. Best is trial 21 with value: -0.848323.\n"
     ]
    },
    {
     "name": "stderr",
     "output_type": "stream",
     "text": [
      "[I 2025-05-15 18:11:30,629] Trial 32 finished with value: -0.848758 and parameters: {'max_depth': 11, 'min_child_weight': 20, 'subsample': 0.6950244420732948, 'colsample_bynode': 0.9955005339338757, 'learning_rate': 0.33407162264294016}. Best is trial 32 with value: -0.848758.\n"
     ]
    },
    {
     "name": "stderr",
     "output_type": "stream",
     "text": [
      "[I 2025-05-15 18:12:02,308] Trial 33 finished with value: -0.84641 and parameters: {'max_depth': 12, 'min_child_weight': 20, 'subsample': 0.8275581840049625, 'colsample_bynode': 0.9844915997505926, 'learning_rate': 0.4940279610631945}. Best is trial 32 with value: -0.848758.\n"
     ]
    },
    {
     "name": "stderr",
     "output_type": "stream",
     "text": [
      "[I 2025-05-15 18:12:06,051] Trial 34 pruned. Trial was pruned at iteration 4.\n"
     ]
    },
    {
     "name": "stderr",
     "output_type": "stream",
     "text": [
      "[I 2025-05-15 18:12:07,489] Trial 35 pruned. Trial was pruned at iteration 1.\n"
     ]
    },
    {
     "name": "stderr",
     "output_type": "stream",
     "text": [
      "[I 2025-05-15 18:12:10,962] Trial 36 pruned. Trial was pruned at iteration 4.\n"
     ]
    },
    {
     "name": "stderr",
     "output_type": "stream",
     "text": [
      "[I 2025-05-15 18:12:11,781] Trial 37 pruned. Trial was pruned at iteration 0.\n"
     ]
    },
    {
     "name": "stderr",
     "output_type": "stream",
     "text": [
      "[I 2025-05-15 18:12:12,505] Trial 38 pruned. Trial was pruned at iteration 0.\n"
     ]
    },
    {
     "name": "stderr",
     "output_type": "stream",
     "text": [
      "[I 2025-05-15 18:12:13,312] Trial 39 pruned. Trial was pruned at iteration 0.\n"
     ]
    },
    {
     "name": "stderr",
     "output_type": "stream",
     "text": [
      "[I 2025-05-15 18:12:14,245] Trial 40 pruned. Trial was pruned at iteration 0.\n"
     ]
    },
    {
     "name": "stderr",
     "output_type": "stream",
     "text": [
      "[I 2025-05-15 18:12:48,142] Trial 41 finished with value: -0.847353 and parameters: {'max_depth': 11, 'min_child_weight': 16, 'subsample': 0.6762801172308638, 'colsample_bynode': 0.9132271487921098, 'learning_rate': 0.36582813362889566}. Best is trial 32 with value: -0.848758.\n"
     ]
    },
    {
     "name": "stderr",
     "output_type": "stream",
     "text": [
      "[I 2025-05-15 18:13:28,297] Trial 42 finished with value: -0.849362 and parameters: {'max_depth': 11, 'min_child_weight': 14, 'subsample': 0.6842120346727846, 'colsample_bynode': 0.9426016359915897, 'learning_rate': 0.32164660518384525}. Best is trial 42 with value: -0.849362.\n"
     ]
    },
    {
     "name": "stderr",
     "output_type": "stream",
     "text": [
      "[I 2025-05-15 18:13:29,208] Trial 43 pruned. Trial was pruned at iteration 0.\n"
     ]
    },
    {
     "name": "stderr",
     "output_type": "stream",
     "text": [
      "[I 2025-05-15 18:13:33,033] Trial 44 pruned. Trial was pruned at iteration 5.\n"
     ]
    },
    {
     "name": "stderr",
     "output_type": "stream",
     "text": [
      "[I 2025-05-15 18:13:34,079] Trial 45 pruned. Trial was pruned at iteration 0.\n"
     ]
    },
    {
     "name": "stderr",
     "output_type": "stream",
     "text": [
      "[I 2025-05-15 18:13:34,879] Trial 46 pruned. Trial was pruned at iteration 0.\n"
     ]
    },
    {
     "name": "stderr",
     "output_type": "stream",
     "text": [
      "[I 2025-05-15 18:13:35,828] Trial 47 pruned. Trial was pruned at iteration 0.\n"
     ]
    },
    {
     "name": "stderr",
     "output_type": "stream",
     "text": [
      "[I 2025-05-15 18:13:36,732] Trial 48 pruned. Trial was pruned at iteration 0.\n"
     ]
    },
    {
     "name": "stderr",
     "output_type": "stream",
     "text": [
      "[I 2025-05-15 18:14:19,844] Trial 49 finished with value: -0.846613 and parameters: {'max_depth': 13, 'min_child_weight': 11, 'subsample': 0.6716274213320891, 'colsample_bynode': 0.9051353099901052, 'learning_rate': 0.36040809998932644}. Best is trial 42 with value: -0.849362.\n"
     ]
    }
   ],
   "source": [
    "sampler = optuna.samplers.TPESampler(seed=42)\n",
    "study = optuna.create_study(direction='minimize', sampler=sampler)\n",
    "study.optimize(objective, n_trials=N_TRIALS, gc_after_trial=True)"
   ]
  },
  {
   "cell_type": "code",
   "execution_count": 20,
   "id": "8cf81967",
   "metadata": {
    "execution": {
     "iopub.execute_input": "2025-05-15T16:14:19.997344Z",
     "iopub.status.busy": "2025-05-15T16:14:19.997134Z",
     "iopub.status.idle": "2025-05-15T16:14:20.023525Z",
     "shell.execute_reply": "2025-05-15T16:14:20.023210Z"
    },
    "papermill": {
     "duration": 0.043236,
     "end_time": "2025-05-15T16:14:20.024438",
     "exception": false,
     "start_time": "2025-05-15T16:14:19.981202",
     "status": "completed"
    },
    "tags": []
   },
   "outputs": [
    {
     "data": {
      "text/plain": [
       "['/scratch_isilon/groups/singlecell/shared/projects/Inflammation-PBMCs-Atlas/03_downstream_analysis/08_gene_importance/xgboost_external_validation/xgboost_TopN_genes/results_20/study/Mono_3_1_xgboost.pkl']"
      ]
     },
     "execution_count": 20,
     "metadata": {},
     "output_type": "execute_result"
    }
   ],
   "source": [
    "out_dir = here(f'03_downstream_analysis/08_gene_importance/xgboost_external_validation/xgboost_TopN_genes/results_{N_GENES}/study')\n",
    "\n",
    "if not os.path.exists(out_dir):\n",
    "    os.makedirs(out_dir)\n",
    "    \n",
    "joblib.dump(study,os.path.join(out_dir, f'{CELL_TYPE}_{SEED}_{TEST_SPLIT_IDX}_xgboost.pkl'))"
   ]
  },
  {
   "cell_type": "code",
   "execution_count": 21,
   "id": "01599a8c",
   "metadata": {
    "execution": {
     "iopub.execute_input": "2025-05-15T16:14:20.041534Z",
     "iopub.status.busy": "2025-05-15T16:14:20.041037Z",
     "iopub.status.idle": "2025-05-15T16:14:46.415251Z",
     "shell.execute_reply": "2025-05-15T16:14:46.414855Z"
    },
    "papermill": {
     "duration": 26.383913,
     "end_time": "2025-05-15T16:14:46.416361",
     "exception": false,
     "start_time": "2025-05-15T16:14:20.032448",
     "status": "completed"
    },
    "tags": []
   },
   "outputs": [
    {
     "data": {
      "text/html": [
       "<style>#sk-container-id-1 {\n",
       "  /* Definition of color scheme common for light and dark mode */\n",
       "  --sklearn-color-text: black;\n",
       "  --sklearn-color-line: gray;\n",
       "  /* Definition of color scheme for unfitted estimators */\n",
       "  --sklearn-color-unfitted-level-0: #fff5e6;\n",
       "  --sklearn-color-unfitted-level-1: #f6e4d2;\n",
       "  --sklearn-color-unfitted-level-2: #ffe0b3;\n",
       "  --sklearn-color-unfitted-level-3: chocolate;\n",
       "  /* Definition of color scheme for fitted estimators */\n",
       "  --sklearn-color-fitted-level-0: #f0f8ff;\n",
       "  --sklearn-color-fitted-level-1: #d4ebff;\n",
       "  --sklearn-color-fitted-level-2: #b3dbfd;\n",
       "  --sklearn-color-fitted-level-3: cornflowerblue;\n",
       "\n",
       "  /* Specific color for light theme */\n",
       "  --sklearn-color-text-on-default-background: var(--sg-text-color, var(--theme-code-foreground, var(--jp-content-font-color1, black)));\n",
       "  --sklearn-color-background: var(--sg-background-color, var(--theme-background, var(--jp-layout-color0, white)));\n",
       "  --sklearn-color-border-box: var(--sg-text-color, var(--theme-code-foreground, var(--jp-content-font-color1, black)));\n",
       "  --sklearn-color-icon: #696969;\n",
       "\n",
       "  @media (prefers-color-scheme: dark) {\n",
       "    /* Redefinition of color scheme for dark theme */\n",
       "    --sklearn-color-text-on-default-background: var(--sg-text-color, var(--theme-code-foreground, var(--jp-content-font-color1, white)));\n",
       "    --sklearn-color-background: var(--sg-background-color, var(--theme-background, var(--jp-layout-color0, #111)));\n",
       "    --sklearn-color-border-box: var(--sg-text-color, var(--theme-code-foreground, var(--jp-content-font-color1, white)));\n",
       "    --sklearn-color-icon: #878787;\n",
       "  }\n",
       "}\n",
       "\n",
       "#sk-container-id-1 {\n",
       "  color: var(--sklearn-color-text);\n",
       "}\n",
       "\n",
       "#sk-container-id-1 pre {\n",
       "  padding: 0;\n",
       "}\n",
       "\n",
       "#sk-container-id-1 input.sk-hidden--visually {\n",
       "  border: 0;\n",
       "  clip: rect(1px 1px 1px 1px);\n",
       "  clip: rect(1px, 1px, 1px, 1px);\n",
       "  height: 1px;\n",
       "  margin: -1px;\n",
       "  overflow: hidden;\n",
       "  padding: 0;\n",
       "  position: absolute;\n",
       "  width: 1px;\n",
       "}\n",
       "\n",
       "#sk-container-id-1 div.sk-dashed-wrapped {\n",
       "  border: 1px dashed var(--sklearn-color-line);\n",
       "  margin: 0 0.4em 0.5em 0.4em;\n",
       "  box-sizing: border-box;\n",
       "  padding-bottom: 0.4em;\n",
       "  background-color: var(--sklearn-color-background);\n",
       "}\n",
       "\n",
       "#sk-container-id-1 div.sk-container {\n",
       "  /* jupyter's `normalize.less` sets `[hidden] { display: none; }`\n",
       "     but bootstrap.min.css set `[hidden] { display: none !important; }`\n",
       "     so we also need the `!important` here to be able to override the\n",
       "     default hidden behavior on the sphinx rendered scikit-learn.org.\n",
       "     See: https://github.com/scikit-learn/scikit-learn/issues/21755 */\n",
       "  display: inline-block !important;\n",
       "  position: relative;\n",
       "}\n",
       "\n",
       "#sk-container-id-1 div.sk-text-repr-fallback {\n",
       "  display: none;\n",
       "}\n",
       "\n",
       "div.sk-parallel-item,\n",
       "div.sk-serial,\n",
       "div.sk-item {\n",
       "  /* draw centered vertical line to link estimators */\n",
       "  background-image: linear-gradient(var(--sklearn-color-text-on-default-background), var(--sklearn-color-text-on-default-background));\n",
       "  background-size: 2px 100%;\n",
       "  background-repeat: no-repeat;\n",
       "  background-position: center center;\n",
       "}\n",
       "\n",
       "/* Parallel-specific style estimator block */\n",
       "\n",
       "#sk-container-id-1 div.sk-parallel-item::after {\n",
       "  content: \"\";\n",
       "  width: 100%;\n",
       "  border-bottom: 2px solid var(--sklearn-color-text-on-default-background);\n",
       "  flex-grow: 1;\n",
       "}\n",
       "\n",
       "#sk-container-id-1 div.sk-parallel {\n",
       "  display: flex;\n",
       "  align-items: stretch;\n",
       "  justify-content: center;\n",
       "  background-color: var(--sklearn-color-background);\n",
       "  position: relative;\n",
       "}\n",
       "\n",
       "#sk-container-id-1 div.sk-parallel-item {\n",
       "  display: flex;\n",
       "  flex-direction: column;\n",
       "}\n",
       "\n",
       "#sk-container-id-1 div.sk-parallel-item:first-child::after {\n",
       "  align-self: flex-end;\n",
       "  width: 50%;\n",
       "}\n",
       "\n",
       "#sk-container-id-1 div.sk-parallel-item:last-child::after {\n",
       "  align-self: flex-start;\n",
       "  width: 50%;\n",
       "}\n",
       "\n",
       "#sk-container-id-1 div.sk-parallel-item:only-child::after {\n",
       "  width: 0;\n",
       "}\n",
       "\n",
       "/* Serial-specific style estimator block */\n",
       "\n",
       "#sk-container-id-1 div.sk-serial {\n",
       "  display: flex;\n",
       "  flex-direction: column;\n",
       "  align-items: center;\n",
       "  background-color: var(--sklearn-color-background);\n",
       "  padding-right: 1em;\n",
       "  padding-left: 1em;\n",
       "}\n",
       "\n",
       "\n",
       "/* Toggleable style: style used for estimator/Pipeline/ColumnTransformer box that is\n",
       "clickable and can be expanded/collapsed.\n",
       "- Pipeline and ColumnTransformer use this feature and define the default style\n",
       "- Estimators will overwrite some part of the style using the `sk-estimator` class\n",
       "*/\n",
       "\n",
       "/* Pipeline and ColumnTransformer style (default) */\n",
       "\n",
       "#sk-container-id-1 div.sk-toggleable {\n",
       "  /* Default theme specific background. It is overwritten whether we have a\n",
       "  specific estimator or a Pipeline/ColumnTransformer */\n",
       "  background-color: var(--sklearn-color-background);\n",
       "}\n",
       "\n",
       "/* Toggleable label */\n",
       "#sk-container-id-1 label.sk-toggleable__label {\n",
       "  cursor: pointer;\n",
       "  display: block;\n",
       "  width: 100%;\n",
       "  margin-bottom: 0;\n",
       "  padding: 0.5em;\n",
       "  box-sizing: border-box;\n",
       "  text-align: center;\n",
       "}\n",
       "\n",
       "#sk-container-id-1 label.sk-toggleable__label-arrow:before {\n",
       "  /* Arrow on the left of the label */\n",
       "  content: \"▸\";\n",
       "  float: left;\n",
       "  margin-right: 0.25em;\n",
       "  color: var(--sklearn-color-icon);\n",
       "}\n",
       "\n",
       "#sk-container-id-1 label.sk-toggleable__label-arrow:hover:before {\n",
       "  color: var(--sklearn-color-text);\n",
       "}\n",
       "\n",
       "/* Toggleable content - dropdown */\n",
       "\n",
       "#sk-container-id-1 div.sk-toggleable__content {\n",
       "  max-height: 0;\n",
       "  max-width: 0;\n",
       "  overflow: hidden;\n",
       "  text-align: left;\n",
       "  /* unfitted */\n",
       "  background-color: var(--sklearn-color-unfitted-level-0);\n",
       "}\n",
       "\n",
       "#sk-container-id-1 div.sk-toggleable__content.fitted {\n",
       "  /* fitted */\n",
       "  background-color: var(--sklearn-color-fitted-level-0);\n",
       "}\n",
       "\n",
       "#sk-container-id-1 div.sk-toggleable__content pre {\n",
       "  margin: 0.2em;\n",
       "  border-radius: 0.25em;\n",
       "  color: var(--sklearn-color-text);\n",
       "  /* unfitted */\n",
       "  background-color: var(--sklearn-color-unfitted-level-0);\n",
       "}\n",
       "\n",
       "#sk-container-id-1 div.sk-toggleable__content.fitted pre {\n",
       "  /* unfitted */\n",
       "  background-color: var(--sklearn-color-fitted-level-0);\n",
       "}\n",
       "\n",
       "#sk-container-id-1 input.sk-toggleable__control:checked~div.sk-toggleable__content {\n",
       "  /* Expand drop-down */\n",
       "  max-height: 200px;\n",
       "  max-width: 100%;\n",
       "  overflow: auto;\n",
       "}\n",
       "\n",
       "#sk-container-id-1 input.sk-toggleable__control:checked~label.sk-toggleable__label-arrow:before {\n",
       "  content: \"▾\";\n",
       "}\n",
       "\n",
       "/* Pipeline/ColumnTransformer-specific style */\n",
       "\n",
       "#sk-container-id-1 div.sk-label input.sk-toggleable__control:checked~label.sk-toggleable__label {\n",
       "  color: var(--sklearn-color-text);\n",
       "  background-color: var(--sklearn-color-unfitted-level-2);\n",
       "}\n",
       "\n",
       "#sk-container-id-1 div.sk-label.fitted input.sk-toggleable__control:checked~label.sk-toggleable__label {\n",
       "  background-color: var(--sklearn-color-fitted-level-2);\n",
       "}\n",
       "\n",
       "/* Estimator-specific style */\n",
       "\n",
       "/* Colorize estimator box */\n",
       "#sk-container-id-1 div.sk-estimator input.sk-toggleable__control:checked~label.sk-toggleable__label {\n",
       "  /* unfitted */\n",
       "  background-color: var(--sklearn-color-unfitted-level-2);\n",
       "}\n",
       "\n",
       "#sk-container-id-1 div.sk-estimator.fitted input.sk-toggleable__control:checked~label.sk-toggleable__label {\n",
       "  /* fitted */\n",
       "  background-color: var(--sklearn-color-fitted-level-2);\n",
       "}\n",
       "\n",
       "#sk-container-id-1 div.sk-label label.sk-toggleable__label,\n",
       "#sk-container-id-1 div.sk-label label {\n",
       "  /* The background is the default theme color */\n",
       "  color: var(--sklearn-color-text-on-default-background);\n",
       "}\n",
       "\n",
       "/* On hover, darken the color of the background */\n",
       "#sk-container-id-1 div.sk-label:hover label.sk-toggleable__label {\n",
       "  color: var(--sklearn-color-text);\n",
       "  background-color: var(--sklearn-color-unfitted-level-2);\n",
       "}\n",
       "\n",
       "/* Label box, darken color on hover, fitted */\n",
       "#sk-container-id-1 div.sk-label.fitted:hover label.sk-toggleable__label.fitted {\n",
       "  color: var(--sklearn-color-text);\n",
       "  background-color: var(--sklearn-color-fitted-level-2);\n",
       "}\n",
       "\n",
       "/* Estimator label */\n",
       "\n",
       "#sk-container-id-1 div.sk-label label {\n",
       "  font-family: monospace;\n",
       "  font-weight: bold;\n",
       "  display: inline-block;\n",
       "  line-height: 1.2em;\n",
       "}\n",
       "\n",
       "#sk-container-id-1 div.sk-label-container {\n",
       "  text-align: center;\n",
       "}\n",
       "\n",
       "/* Estimator-specific */\n",
       "#sk-container-id-1 div.sk-estimator {\n",
       "  font-family: monospace;\n",
       "  border: 1px dotted var(--sklearn-color-border-box);\n",
       "  border-radius: 0.25em;\n",
       "  box-sizing: border-box;\n",
       "  margin-bottom: 0.5em;\n",
       "  /* unfitted */\n",
       "  background-color: var(--sklearn-color-unfitted-level-0);\n",
       "}\n",
       "\n",
       "#sk-container-id-1 div.sk-estimator.fitted {\n",
       "  /* fitted */\n",
       "  background-color: var(--sklearn-color-fitted-level-0);\n",
       "}\n",
       "\n",
       "/* on hover */\n",
       "#sk-container-id-1 div.sk-estimator:hover {\n",
       "  /* unfitted */\n",
       "  background-color: var(--sklearn-color-unfitted-level-2);\n",
       "}\n",
       "\n",
       "#sk-container-id-1 div.sk-estimator.fitted:hover {\n",
       "  /* fitted */\n",
       "  background-color: var(--sklearn-color-fitted-level-2);\n",
       "}\n",
       "\n",
       "/* Specification for estimator info (e.g. \"i\" and \"?\") */\n",
       "\n",
       "/* Common style for \"i\" and \"?\" */\n",
       "\n",
       ".sk-estimator-doc-link,\n",
       "a:link.sk-estimator-doc-link,\n",
       "a:visited.sk-estimator-doc-link {\n",
       "  float: right;\n",
       "  font-size: smaller;\n",
       "  line-height: 1em;\n",
       "  font-family: monospace;\n",
       "  background-color: var(--sklearn-color-background);\n",
       "  border-radius: 1em;\n",
       "  height: 1em;\n",
       "  width: 1em;\n",
       "  text-decoration: none !important;\n",
       "  margin-left: 1ex;\n",
       "  /* unfitted */\n",
       "  border: var(--sklearn-color-unfitted-level-1) 1pt solid;\n",
       "  color: var(--sklearn-color-unfitted-level-1);\n",
       "}\n",
       "\n",
       ".sk-estimator-doc-link.fitted,\n",
       "a:link.sk-estimator-doc-link.fitted,\n",
       "a:visited.sk-estimator-doc-link.fitted {\n",
       "  /* fitted */\n",
       "  border: var(--sklearn-color-fitted-level-1) 1pt solid;\n",
       "  color: var(--sklearn-color-fitted-level-1);\n",
       "}\n",
       "\n",
       "/* On hover */\n",
       "div.sk-estimator:hover .sk-estimator-doc-link:hover,\n",
       ".sk-estimator-doc-link:hover,\n",
       "div.sk-label-container:hover .sk-estimator-doc-link:hover,\n",
       ".sk-estimator-doc-link:hover {\n",
       "  /* unfitted */\n",
       "  background-color: var(--sklearn-color-unfitted-level-3);\n",
       "  color: var(--sklearn-color-background);\n",
       "  text-decoration: none;\n",
       "}\n",
       "\n",
       "div.sk-estimator.fitted:hover .sk-estimator-doc-link.fitted:hover,\n",
       ".sk-estimator-doc-link.fitted:hover,\n",
       "div.sk-label-container:hover .sk-estimator-doc-link.fitted:hover,\n",
       ".sk-estimator-doc-link.fitted:hover {\n",
       "  /* fitted */\n",
       "  background-color: var(--sklearn-color-fitted-level-3);\n",
       "  color: var(--sklearn-color-background);\n",
       "  text-decoration: none;\n",
       "}\n",
       "\n",
       "/* Span, style for the box shown on hovering the info icon */\n",
       ".sk-estimator-doc-link span {\n",
       "  display: none;\n",
       "  z-index: 9999;\n",
       "  position: relative;\n",
       "  font-weight: normal;\n",
       "  right: .2ex;\n",
       "  padding: .5ex;\n",
       "  margin: .5ex;\n",
       "  width: min-content;\n",
       "  min-width: 20ex;\n",
       "  max-width: 50ex;\n",
       "  color: var(--sklearn-color-text);\n",
       "  box-shadow: 2pt 2pt 4pt #999;\n",
       "  /* unfitted */\n",
       "  background: var(--sklearn-color-unfitted-level-0);\n",
       "  border: .5pt solid var(--sklearn-color-unfitted-level-3);\n",
       "}\n",
       "\n",
       ".sk-estimator-doc-link.fitted span {\n",
       "  /* fitted */\n",
       "  background: var(--sklearn-color-fitted-level-0);\n",
       "  border: var(--sklearn-color-fitted-level-3);\n",
       "}\n",
       "\n",
       ".sk-estimator-doc-link:hover span {\n",
       "  display: block;\n",
       "}\n",
       "\n",
       "/* \"?\"-specific style due to the `<a>` HTML tag */\n",
       "\n",
       "#sk-container-id-1 a.estimator_doc_link {\n",
       "  float: right;\n",
       "  font-size: 1rem;\n",
       "  line-height: 1em;\n",
       "  font-family: monospace;\n",
       "  background-color: var(--sklearn-color-background);\n",
       "  border-radius: 1rem;\n",
       "  height: 1rem;\n",
       "  width: 1rem;\n",
       "  text-decoration: none;\n",
       "  /* unfitted */\n",
       "  color: var(--sklearn-color-unfitted-level-1);\n",
       "  border: var(--sklearn-color-unfitted-level-1) 1pt solid;\n",
       "}\n",
       "\n",
       "#sk-container-id-1 a.estimator_doc_link.fitted {\n",
       "  /* fitted */\n",
       "  border: var(--sklearn-color-fitted-level-1) 1pt solid;\n",
       "  color: var(--sklearn-color-fitted-level-1);\n",
       "}\n",
       "\n",
       "/* On hover */\n",
       "#sk-container-id-1 a.estimator_doc_link:hover {\n",
       "  /* unfitted */\n",
       "  background-color: var(--sklearn-color-unfitted-level-3);\n",
       "  color: var(--sklearn-color-background);\n",
       "  text-decoration: none;\n",
       "}\n",
       "\n",
       "#sk-container-id-1 a.estimator_doc_link.fitted:hover {\n",
       "  /* fitted */\n",
       "  background-color: var(--sklearn-color-fitted-level-3);\n",
       "}\n",
       "</style><div id=\"sk-container-id-1\" class=\"sk-top-container\"><div class=\"sk-text-repr-fallback\"><pre>XGBClassifier(base_score=None, booster=None, callbacks=None,\n",
       "              colsample_bylevel=None, colsample_bynode=0.9426016359915897,\n",
       "              colsample_bytree=None, device=None, early_stopping_rounds=None,\n",
       "              enable_categorical=False,\n",
       "              eval_metric=&lt;function custom_f1_score at 0x7f819a48c4a0&gt;,\n",
       "              feature_types=None, gamma=None, grow_policy=None,\n",
       "              importance_type=None, interaction_constraints=None,\n",
       "              learning_rate=0.32164660518384525, max_bin=None,\n",
       "              max_cat_threshold=None, max_cat_to_onehot=None,\n",
       "              max_delta_step=None, max_depth=11, max_leaves=None,\n",
       "              min_child_weight=14, missing=nan, monotone_constraints=None,\n",
       "              multi_strategy=None, n_estimators=105, n_jobs=None,\n",
       "              num_parallel_tree=None, objective=&#x27;multi:softprob&#x27;, ...)</pre><b>In a Jupyter environment, please rerun this cell to show the HTML representation or trust the notebook. <br />On GitHub, the HTML representation is unable to render, please try loading this page with nbviewer.org.</b></div><div class=\"sk-container\" hidden><div class=\"sk-item\"><div class=\"sk-estimator fitted sk-toggleable\"><input class=\"sk-toggleable__control sk-hidden--visually\" id=\"sk-estimator-id-1\" type=\"checkbox\" checked><label for=\"sk-estimator-id-1\" class=\"sk-toggleable__label fitted sk-toggleable__label-arrow fitted\">&nbsp;XGBClassifier<span class=\"sk-estimator-doc-link fitted\">i<span>Fitted</span></span></label><div class=\"sk-toggleable__content fitted\"><pre>XGBClassifier(base_score=None, booster=None, callbacks=None,\n",
       "              colsample_bylevel=None, colsample_bynode=0.9426016359915897,\n",
       "              colsample_bytree=None, device=None, early_stopping_rounds=None,\n",
       "              enable_categorical=False,\n",
       "              eval_metric=&lt;function custom_f1_score at 0x7f819a48c4a0&gt;,\n",
       "              feature_types=None, gamma=None, grow_policy=None,\n",
       "              importance_type=None, interaction_constraints=None,\n",
       "              learning_rate=0.32164660518384525, max_bin=None,\n",
       "              max_cat_threshold=None, max_cat_to_onehot=None,\n",
       "              max_delta_step=None, max_depth=11, max_leaves=None,\n",
       "              min_child_weight=14, missing=nan, monotone_constraints=None,\n",
       "              multi_strategy=None, n_estimators=105, n_jobs=None,\n",
       "              num_parallel_tree=None, objective=&#x27;multi:softprob&#x27;, ...)</pre></div> </div></div></div></div>"
      ],
      "text/plain": [
       "XGBClassifier(base_score=None, booster=None, callbacks=None,\n",
       "              colsample_bylevel=None, colsample_bynode=0.9426016359915897,\n",
       "              colsample_bytree=None, device=None, early_stopping_rounds=None,\n",
       "              enable_categorical=False,\n",
       "              eval_metric=<function custom_f1_score at 0x7f819a48c4a0>,\n",
       "              feature_types=None, gamma=None, grow_policy=None,\n",
       "              importance_type=None, interaction_constraints=None,\n",
       "              learning_rate=0.32164660518384525, max_bin=None,\n",
       "              max_cat_threshold=None, max_cat_to_onehot=None,\n",
       "              max_delta_step=None, max_depth=11, max_leaves=None,\n",
       "              min_child_weight=14, missing=nan, monotone_constraints=None,\n",
       "              multi_strategy=None, n_estimators=105, n_jobs=None,\n",
       "              num_parallel_tree=None, objective='multi:softprob', ...)"
      ]
     },
     "execution_count": 21,
     "metadata": {},
     "output_type": "execute_result"
    }
   ],
   "source": [
    "n_estimators = int(study.best_trial.user_attrs['best_iteration']*1.2)\n",
    "xgb = xgboost.XGBClassifier(\n",
    "        eval_metric=eval_metric,\n",
    "        n_estimators=n_estimators,\n",
    "        **study.best_trial.params\n",
    "    )\n",
    "xgb.fit(\n",
    "    ssp.vstack((X_train, X_val)), \n",
    "    np.concatenate((y_train_enc, y_val_enc)),\n",
    "    verbose=1,\n",
    ")"
   ]
  },
  {
   "cell_type": "code",
   "execution_count": 22,
   "id": "95d092c6",
   "metadata": {
    "execution": {
     "iopub.execute_input": "2025-05-15T16:14:46.441188Z",
     "iopub.status.busy": "2025-05-15T16:14:46.440963Z",
     "iopub.status.idle": "2025-05-15T16:14:46.503947Z",
     "shell.execute_reply": "2025-05-15T16:14:46.503564Z"
    },
    "papermill": {
     "duration": 0.073523,
     "end_time": "2025-05-15T16:14:46.505065",
     "exception": false,
     "start_time": "2025-05-15T16:14:46.431542",
     "status": "completed"
    },
    "tags": []
   },
   "outputs": [
    {
     "data": {
      "text/plain": [
       "['/scratch_isilon/groups/singlecell/shared/projects/Inflammation-PBMCs-Atlas/03_downstream_analysis/08_gene_importance/xgboost_external_validation/xgboost_TopN_genes/results_20/best_model/Mono_3_1_xgb.json']"
      ]
     },
     "execution_count": 22,
     "metadata": {},
     "output_type": "execute_result"
    }
   ],
   "source": [
    "out_dir = here(f'03_downstream_analysis/08_gene_importance/xgboost_external_validation/xgboost_TopN_genes/results_{N_GENES}/best_model')\n",
    "\n",
    "if not os.path.exists(out_dir):\n",
    "    os.makedirs(out_dir)\n",
    "    \n",
    "joblib.dump(xgb, os.path.join(out_dir, f'{CELL_TYPE}_{SEED}_{TEST_SPLIT_IDX}_xgb.json'))"
   ]
  },
  {
   "cell_type": "code",
   "execution_count": 23,
   "id": "2218e145",
   "metadata": {
    "execution": {
     "iopub.execute_input": "2025-05-15T16:14:46.525622Z",
     "iopub.status.busy": "2025-05-15T16:14:46.525423Z",
     "iopub.status.idle": "2025-05-15T16:14:47.396216Z",
     "shell.execute_reply": "2025-05-15T16:14:47.395767Z"
    },
    "papermill": {
     "duration": 0.883224,
     "end_time": "2025-05-15T16:14:47.397665",
     "exception": false,
     "start_time": "2025-05-15T16:14:46.514441",
     "status": "completed"
    },
    "tags": []
   },
   "outputs": [],
   "source": [
    "df_pred_test = pd.DataFrame(dict(\n",
    "    cell_id=train_adata.obs.iloc[test_idxs].index.values,\n",
    "    y_true=y_test, \n",
    "    y_true_code=y_test_enc, \n",
    "    y_pred=xgb.predict(X_test))).set_index('cell_id')"
   ]
  },
  {
   "cell_type": "code",
   "execution_count": 24,
   "id": "bc1ac490",
   "metadata": {
    "execution": {
     "iopub.execute_input": "2025-05-15T16:14:47.420997Z",
     "iopub.status.busy": "2025-05-15T16:14:47.420765Z",
     "iopub.status.idle": "2025-05-15T16:14:47.684019Z",
     "shell.execute_reply": "2025-05-15T16:14:47.683484Z"
    },
    "papermill": {
     "duration": 0.276177,
     "end_time": "2025-05-15T16:14:47.685541",
     "exception": false,
     "start_time": "2025-05-15T16:14:47.409364",
     "status": "completed"
    },
    "tags": []
   },
   "outputs": [],
   "source": [
    "out_dir = here(f'03_downstream_analysis/08_gene_importance/xgboost_external_validation/xgboost_TopN_genes/results_{N_GENES}/predictions')\n",
    "\n",
    "if not os.path.exists(out_dir):\n",
    "    os.makedirs(out_dir)\n",
    "    \n",
    "df_pred_test.to_csv(os.path.join(out_dir, f'{CELL_TYPE}_{SEED}_{TEST_SPLIT_IDX}_pred_test.zip'))"
   ]
  },
  {
   "cell_type": "code",
   "execution_count": 25,
   "id": "d64b4994",
   "metadata": {
    "execution": {
     "iopub.execute_input": "2025-05-15T16:14:47.705977Z",
     "iopub.status.busy": "2025-05-15T16:14:47.705759Z",
     "iopub.status.idle": "2025-05-15T16:14:47.720542Z",
     "shell.execute_reply": "2025-05-15T16:14:47.720093Z"
    },
    "papermill": {
     "duration": 0.025823,
     "end_time": "2025-05-15T16:14:47.721482",
     "exception": false,
     "start_time": "2025-05-15T16:14:47.695659",
     "status": "completed"
    },
    "tags": []
   },
   "outputs": [],
   "source": [
    "metrics_dict = dict(\n",
    "    BAS=balanced_accuracy_score(y_true=df_pred_test.y_true_code, y_pred=df_pred_test.y_pred), WF1=f1_score(y_true=df_pred_test.y_true_code, y_pred=df_pred_test.y_pred,average='weighted'))"
   ]
  },
  {
   "cell_type": "code",
   "execution_count": 26,
   "id": "9ad9ba06",
   "metadata": {
    "execution": {
     "iopub.execute_input": "2025-05-15T16:14:47.740739Z",
     "iopub.status.busy": "2025-05-15T16:14:47.740382Z",
     "iopub.status.idle": "2025-05-15T16:14:47.743608Z",
     "shell.execute_reply": "2025-05-15T16:14:47.743276Z"
    },
    "papermill": {
     "duration": 0.013681,
     "end_time": "2025-05-15T16:14:47.744515",
     "exception": false,
     "start_time": "2025-05-15T16:14:47.730834",
     "status": "completed"
    },
    "tags": []
   },
   "outputs": [
    {
     "data": {
      "text/plain": [
       "{'BAS': 0.6000948828275201, 'WF1': 0.7648842641311233}"
      ]
     },
     "execution_count": 26,
     "metadata": {},
     "output_type": "execute_result"
    }
   ],
   "source": [
    "metrics_dict"
   ]
  },
  {
   "cell_type": "code",
   "execution_count": 27,
   "id": "a1fe78f2",
   "metadata": {
    "execution": {
     "iopub.execute_input": "2025-05-15T16:14:47.763441Z",
     "iopub.status.busy": "2025-05-15T16:14:47.763293Z",
     "iopub.status.idle": "2025-05-15T16:14:47.773331Z",
     "shell.execute_reply": "2025-05-15T16:14:47.772994Z"
    },
    "papermill": {
     "duration": 0.020561,
     "end_time": "2025-05-15T16:14:47.774214",
     "exception": false,
     "start_time": "2025-05-15T16:14:47.753653",
     "status": "completed"
    },
    "tags": []
   },
   "outputs": [
    {
     "data": {
      "text/html": [
       "<div>\n",
       "<style scoped>\n",
       "    .dataframe tbody tr th:only-of-type {\n",
       "        vertical-align: middle;\n",
       "    }\n",
       "\n",
       "    .dataframe tbody tr th {\n",
       "        vertical-align: top;\n",
       "    }\n",
       "\n",
       "    .dataframe thead th {\n",
       "        text-align: right;\n",
       "    }\n",
       "</style>\n",
       "<table border=\"1\" class=\"dataframe\">\n",
       "  <thead>\n",
       "    <tr style=\"text-align: right;\">\n",
       "      <th></th>\n",
       "      <th>BAS</th>\n",
       "      <th>WF1</th>\n",
       "      <th>split_idx</th>\n",
       "      <th>gene_set_seed</th>\n",
       "      <th>cell_type</th>\n",
       "    </tr>\n",
       "  </thead>\n",
       "  <tbody>\n",
       "    <tr>\n",
       "      <th>0</th>\n",
       "      <td>0.600095</td>\n",
       "      <td>0.764884</td>\n",
       "      <td>1</td>\n",
       "      <td>3</td>\n",
       "      <td>Mono</td>\n",
       "    </tr>\n",
       "  </tbody>\n",
       "</table>\n",
       "</div>"
      ],
      "text/plain": [
       "        BAS       WF1  split_idx  gene_set_seed cell_type\n",
       "0  0.600095  0.764884          1              3      Mono"
      ]
     },
     "execution_count": 27,
     "metadata": {},
     "output_type": "execute_result"
    }
   ],
   "source": [
    "metrics_df = pd.DataFrame.from_dict([metrics_dict]).assign(split_idx=TEST_SPLIT_IDX, gene_set_seed=SEED, cell_type=CELL_TYPE)\n",
    "metrics_df"
   ]
  },
  {
   "cell_type": "code",
   "execution_count": 28,
   "id": "ccb67de7",
   "metadata": {
    "execution": {
     "iopub.execute_input": "2025-05-15T16:14:47.793383Z",
     "iopub.status.busy": "2025-05-15T16:14:47.793026Z",
     "iopub.status.idle": "2025-05-15T16:14:47.802031Z",
     "shell.execute_reply": "2025-05-15T16:14:47.801655Z"
    },
    "papermill": {
     "duration": 0.019572,
     "end_time": "2025-05-15T16:14:47.802970",
     "exception": false,
     "start_time": "2025-05-15T16:14:47.783398",
     "status": "completed"
    },
    "tags": []
   },
   "outputs": [],
   "source": [
    "out_dir = here(f'03_downstream_analysis/08_gene_importance/xgboost_external_validation/xgboost_TopN_genes/results_{N_GENES}/metrics')\n",
    "\n",
    "if not os.path.exists(out_dir):\n",
    "    os.makedirs(out_dir)\n",
    "    \n",
    "metrics_df.to_csv(os.path.join(out_dir, f'{CELL_TYPE}_{SEED}_{TEST_SPLIT_IDX}_metrics.zip'))"
   ]
  }
 ],
 "metadata": {
  "kernelspec": {
   "display_name": "Python 3 (ipykernel)",
   "language": "python",
   "name": "python3"
  },
  "language_info": {
   "codemirror_mode": {
    "name": "ipython",
    "version": 3
   },
   "file_extension": ".py",
   "mimetype": "text/x-python",
   "name": "python",
   "nbconvert_exporter": "python",
   "pygments_lexer": "ipython3",
   "version": "3.12.5"
  },
  "papermill": {
   "default_parameters": {},
   "duration": 944.847291,
   "end_time": "2025-05-15T16:14:48.529182",
   "environment_variables": {},
   "exception": null,
   "input_path": "02_xgboost_fitting_external_20genes.ipynb",
   "output_path": "results_20/executed_notebooks/xgboost_fitting_external_CT_Mono_GS_3_seed1.ipynb",
   "parameters": {
    "CELL_TYPE": "Mono",
    "SEED": 3,
    "TEST_SPLIT_IDX": 1
   },
   "start_time": "2025-05-15T15:59:03.681891",
   "version": "2.6.0"
  }
 },
 "nbformat": 4,
 "nbformat_minor": 5
}