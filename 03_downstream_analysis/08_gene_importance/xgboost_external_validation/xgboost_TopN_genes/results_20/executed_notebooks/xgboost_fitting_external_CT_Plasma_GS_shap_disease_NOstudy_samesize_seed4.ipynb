{
 "cells": [
  {
   "cell_type": "code",
   "execution_count": 1,
   "id": "30dc106f",
   "metadata": {
    "editable": true,
    "execution": {
     "iopub.execute_input": "2025-06-13T13:10:03.656259Z",
     "iopub.status.busy": "2025-06-13T13:10:03.656103Z",
     "iopub.status.idle": "2025-06-13T13:10:03.659062Z",
     "shell.execute_reply": "2025-06-13T13:10:03.658716Z"
    },
    "papermill": {
     "duration": 0.012934,
     "end_time": "2025-06-13T13:10:03.659969",
     "exception": false,
     "start_time": "2025-06-13T13:10:03.647035",
     "status": "completed"
    },
    "slideshow": {
     "slide_type": ""
    },
    "tags": [
     "parameters"
    ]
   },
   "outputs": [],
   "source": [
    "CELL_TYPE = 'pDC'\n",
    "N_GENES: int = 20\n",
    "SEED = 'shap_studyID' #'disease_NOstudy' 'study_NOdisease' or 'int' or 'shap_studyID'\n",
    "TEST_SPLIT_IDX: int = 1 #[0,4]"
   ]
  },
  {
   "cell_type": "code",
   "execution_count": 2,
   "id": "86cc5a9a",
   "metadata": {
    "execution": {
     "iopub.execute_input": "2025-06-13T13:10:03.671030Z",
     "iopub.status.busy": "2025-06-13T13:10:03.670878Z",
     "iopub.status.idle": "2025-06-13T13:10:03.673068Z",
     "shell.execute_reply": "2025-06-13T13:10:03.672766Z"
    },
    "papermill": {
     "duration": 0.008766,
     "end_time": "2025-06-13T13:10:03.673871",
     "exception": false,
     "start_time": "2025-06-13T13:10:03.665105",
     "status": "completed"
    },
    "tags": [
     "injected-parameters"
    ]
   },
   "outputs": [],
   "source": [
    "# Parameters\n",
    "CELL_TYPE = \"Plasma\"\n",
    "SEED = \"shap_disease_NOstudy_samesize\"\n",
    "TEST_SPLIT_IDX = 4\n"
   ]
  },
  {
   "cell_type": "code",
   "execution_count": 3,
   "id": "46f08444",
   "metadata": {
    "execution": {
     "iopub.execute_input": "2025-06-13T13:10:03.684788Z",
     "iopub.status.busy": "2025-06-13T13:10:03.684473Z",
     "iopub.status.idle": "2025-06-13T13:10:03.686549Z",
     "shell.execute_reply": "2025-06-13T13:10:03.686251Z"
    },
    "papermill": {
     "duration": 0.008602,
     "end_time": "2025-06-13T13:10:03.687403",
     "exception": false,
     "start_time": "2025-06-13T13:10:03.678801",
     "status": "completed"
    },
    "tags": []
   },
   "outputs": [],
   "source": [
    "N_SPLITS: int = 5\n",
    "N_TRIALS: int = 50"
   ]
  },
  {
   "cell_type": "code",
   "execution_count": 4,
   "id": "4eb62d0b",
   "metadata": {
    "execution": {
     "iopub.execute_input": "2025-06-13T13:10:03.698772Z",
     "iopub.status.busy": "2025-06-13T13:10:03.698546Z",
     "iopub.status.idle": "2025-06-13T13:10:05.400633Z",
     "shell.execute_reply": "2025-06-13T13:10:05.400187Z"
    },
    "papermill": {
     "duration": 1.709707,
     "end_time": "2025-06-13T13:10:05.402022",
     "exception": false,
     "start_time": "2025-06-13T13:10:03.692315",
     "status": "completed"
    },
    "tags": []
   },
   "outputs": [],
   "source": [
    "import os\n",
    "import sys\n",
    "from pyprojroot.here import here\n",
    "import pandas as pd\n",
    "import anndata as ad\n",
    "import numpy as np\n",
    "import math\n",
    "from sklearn.model_selection import StratifiedGroupKFold\n",
    "from sklearn.preprocessing import LabelEncoder\n",
    "from sklearn.metrics import f1_score\n",
    "import matplotlib.pyplot as plt\n",
    "import seaborn as sns\n",
    "from itertools import product\n",
    "from sklearn.metrics import balanced_accuracy_score, f1_score\n",
    "import optuna\n",
    "\n",
    "import joblib\n",
    "import pickle\n",
    "import datetime\n",
    "\n",
    "import collections\n",
    "\n",
    "import xgboost\n",
    "from sklearn.preprocessing import LabelEncoder\n",
    "\n",
    "import scipy.sparse as ssp\n",
    "import joblib\n",
    "\n",
    "from dotenv import load_dotenv"
   ]
  },
  {
   "cell_type": "code",
   "execution_count": 5,
   "id": "a07f4c8e",
   "metadata": {
    "execution": {
     "iopub.execute_input": "2025-06-13T13:10:05.415689Z",
     "iopub.status.busy": "2025-06-13T13:10:05.415156Z",
     "iopub.status.idle": "2025-06-13T13:10:05.420884Z",
     "shell.execute_reply": "2025-06-13T13:10:05.420568Z"
    },
    "papermill": {
     "duration": 0.01258,
     "end_time": "2025-06-13T13:10:05.421714",
     "exception": false,
     "start_time": "2025-06-13T13:10:05.409134",
     "status": "completed"
    },
    "tags": []
   },
   "outputs": [
    {
     "data": {
      "text/plain": [
       "True"
      ]
     },
     "execution_count": 5,
     "metadata": {},
     "output_type": "execute_result"
    }
   ],
   "source": [
    "load_dotenv()"
   ]
  },
  {
   "cell_type": "markdown",
   "id": "c214624d",
   "metadata": {
    "papermill": {
     "duration": 0.005393,
     "end_time": "2025-06-13T13:10:05.432094",
     "exception": false,
     "start_time": "2025-06-13T13:10:05.426701",
     "status": "completed"
    },
    "tags": []
   },
   "source": [
    "# LOAD DATASET"
   ]
  },
  {
   "cell_type": "code",
   "execution_count": 6,
   "id": "8e30f860",
   "metadata": {
    "execution": {
     "iopub.execute_input": "2025-06-13T13:10:05.443218Z",
     "iopub.status.busy": "2025-06-13T13:10:05.442685Z",
     "iopub.status.idle": "2025-06-13T13:10:05.482754Z",
     "shell.execute_reply": "2025-06-13T13:10:05.482391Z"
    },
    "papermill": {
     "duration": 0.046734,
     "end_time": "2025-06-13T13:10:05.483790",
     "exception": false,
     "start_time": "2025-06-13T13:10:05.437056",
     "status": "completed"
    },
    "tags": []
   },
   "outputs": [],
   "source": [
    "train_adata = ad.read_h5ad(\n",
    "    here(f'03_downstream_analysis/08_gene_importance/xgboost_external_validation/xgboost_TopN_genes/data_cellTypes/EXTERNAL_{CELL_TYPE}.filtered.log1p.h5ad')\n",
    ")"
   ]
  },
  {
   "cell_type": "code",
   "execution_count": 7,
   "id": "cd26a1c7",
   "metadata": {
    "execution": {
     "iopub.execute_input": "2025-06-13T13:10:05.494963Z",
     "iopub.status.busy": "2025-06-13T13:10:05.494670Z",
     "iopub.status.idle": "2025-06-13T13:10:05.503652Z",
     "shell.execute_reply": "2025-06-13T13:10:05.503330Z"
    },
    "papermill": {
     "duration": 0.015553,
     "end_time": "2025-06-13T13:10:05.504448",
     "exception": false,
     "start_time": "2025-06-13T13:10:05.488895",
     "status": "completed"
    },
    "tags": []
   },
   "outputs": [
    {
     "name": "stdout",
     "output_type": "stream",
     "text": [
      "['ENSG00000011422' 'ENSG00000011600' 'ENSG00000015475' 'ENSG00000019582'\n",
      " 'ENSG00000026103' 'ENSG00000038427' 'ENSG00000051108' 'ENSG00000069399'\n",
      " 'ENSG00000075426' 'ENSG00000076662' 'ENSG00000077380' 'ENSG00000100097'\n",
      " 'ENSG00000100280' 'ENSG00000100368' 'ENSG00000100664' 'ENSG00000100906'\n",
      " 'ENSG00000101350' 'ENSG00000101439' 'ENSG00000102524' 'ENSG00000103522'\n",
      " 'ENSG00000104870' 'ENSG00000105373' 'ENSG00000107968' 'ENSG00000108622'\n",
      " 'ENSG00000109321' 'ENSG00000110057' 'ENSG00000111331' 'ENSG00000112137'\n",
      " 'ENSG00000114013' 'ENSG00000118503' 'ENSG00000118515' 'ENSG00000119535'\n",
      " 'ENSG00000120738' 'ENSG00000120742' 'ENSG00000121774' 'ENSG00000124762'\n",
      " 'ENSG00000125148' 'ENSG00000126267' 'ENSG00000130522' 'ENSG00000130830'\n",
      " 'ENSG00000132002' 'ENSG00000132465' 'ENSG00000134107' 'ENSG00000135404'\n",
      " 'ENSG00000135916' 'ENSG00000136514' 'ENSG00000136732' 'ENSG00000137965'\n",
      " 'ENSG00000139318' 'ENSG00000139514' 'ENSG00000141367' 'ENSG00000141526'\n",
      " 'ENSG00000142208' 'ENSG00000142634' 'ENSG00000143774' 'ENSG00000144802'\n",
      " 'ENSG00000145675' 'ENSG00000150093' 'ENSG00000152495' 'ENSG00000157601'\n",
      " 'ENSG00000158517' 'ENSG00000158769' 'ENSG00000163513' 'ENSG00000163659'\n",
      " 'ENSG00000163660' 'ENSG00000164136' 'ENSG00000164543' 'ENSG00000165527'\n",
      " 'ENSG00000167552' 'ENSG00000168610' 'ENSG00000170017' 'ENSG00000170476'\n",
      " 'ENSG00000170540' 'ENSG00000170581' 'ENSG00000170989' 'ENSG00000171608'\n",
      " 'ENSG00000172005' 'ENSG00000175482' 'ENSG00000176533' 'ENSG00000177606'\n",
      " 'ENSG00000179094' 'ENSG00000179344' 'ENSG00000180008' 'ENSG00000181029'\n",
      " 'ENSG00000182985' 'ENSG00000183508' 'ENSG00000184451' 'ENSG00000184557'\n",
      " 'ENSG00000184897' 'ENSG00000185338' 'ENSG00000186810' 'ENSG00000187608'\n",
      " 'ENSG00000189283' 'ENSG00000196126' 'ENSG00000197061' 'ENSG00000198355'\n",
      " 'ENSG00000198502' 'ENSG00000204257' 'ENSG00000205220' 'ENSG00000211893'\n",
      " 'ENSG00000211896' 'ENSG00000213145' 'ENSG00000213928' 'ENSG00000216490'\n",
      " 'ENSG00000229474' 'ENSG00000234745' 'ENSG00000277443' 'ENSG00000277632']\n"
     ]
    }
   ],
   "source": [
    "if SEED != 'all':\n",
    "    gene_subset = np.load(here(f'03_downstream_analysis/08_gene_importance/xgboost_external_validation/shap_gene_selection/gene_subsets_{N_GENES}/{CELL_TYPE}_{SEED}.npy'), allow_pickle=True)\n",
    "    train_adata = train_adata[:,gene_subset]\n",
    "    print(gene_subset)\n",
    "elif SEED == 'all':\n",
    "    print('Using all genes')\n",
    "else:\n",
    "    raise ValueError()"
   ]
  },
  {
   "cell_type": "code",
   "execution_count": 8,
   "id": "bd5dde8f",
   "metadata": {
    "execution": {
     "iopub.execute_input": "2025-06-13T13:10:05.515658Z",
     "iopub.status.busy": "2025-06-13T13:10:05.515350Z",
     "iopub.status.idle": "2025-06-13T13:10:05.518203Z",
     "shell.execute_reply": "2025-06-13T13:10:05.517887Z"
    },
    "papermill": {
     "duration": 0.009294,
     "end_time": "2025-06-13T13:10:05.518982",
     "exception": false,
     "start_time": "2025-06-13T13:10:05.509688",
     "status": "completed"
    },
    "tags": []
   },
   "outputs": [
    {
     "data": {
      "text/plain": [
       "(542, 108)"
      ]
     },
     "execution_count": 8,
     "metadata": {},
     "output_type": "execute_result"
    }
   ],
   "source": [
    "train_adata.shape"
   ]
  },
  {
   "cell_type": "code",
   "execution_count": 9,
   "id": "6a51c698",
   "metadata": {
    "execution": {
     "iopub.execute_input": "2025-06-13T13:10:05.530327Z",
     "iopub.status.busy": "2025-06-13T13:10:05.529912Z",
     "iopub.status.idle": "2025-06-13T13:10:05.533526Z",
     "shell.execute_reply": "2025-06-13T13:10:05.533230Z"
    },
    "papermill": {
     "duration": 0.010078,
     "end_time": "2025-06-13T13:10:05.534289",
     "exception": false,
     "start_time": "2025-06-13T13:10:05.524211",
     "status": "completed"
    },
    "tags": []
   },
   "outputs": [
    {
     "data": {
      "text/plain": [
       "['RA', 'COVID', 'healthy', 'HIV', 'cirrhosis', 'CD', 'SLE', 'sepsis']\n",
       "Categories (8, object): ['CD', 'COVID', 'HIV', 'RA', 'SLE', 'cirrhosis', 'healthy', 'sepsis']"
      ]
     },
     "execution_count": 9,
     "metadata": {},
     "output_type": "execute_result"
    }
   ],
   "source": [
    "train_adata.obs.disease.unique()"
   ]
  },
  {
   "cell_type": "code",
   "execution_count": 10,
   "id": "de358777",
   "metadata": {
    "execution": {
     "iopub.execute_input": "2025-06-13T13:10:05.545613Z",
     "iopub.status.busy": "2025-06-13T13:10:05.545347Z",
     "iopub.status.idle": "2025-06-13T13:10:05.548717Z",
     "shell.execute_reply": "2025-06-13T13:10:05.548414Z"
    },
    "papermill": {
     "duration": 0.010032,
     "end_time": "2025-06-13T13:10:05.549504",
     "exception": false,
     "start_time": "2025-06-13T13:10:05.539472",
     "status": "completed"
    },
    "tags": []
   },
   "outputs": [
    {
     "data": {
      "text/plain": [
       "['SCGT00val_I0364_T0', 'SCGT00val_I036019_T0', 'SCGT00val_I036028_T0', 'SCGT00val_I036024_T0', 'SCGT00val_I036016_T0', ..., '10XGenomics_10XHC2_T0', '10XGenomics_10XHC3_T0', '10XGenomics_10XHC5_T0', '10XGenomics_10XHC7_T0', '10XGenomics_10XHC8_T0']\n",
       "Length: 74\n",
       "Categories (74, object): ['10XGenomics_10XHC1_T0', '10XGenomics_10XHC2_T0', '10XGenomics_10XHC3_T0', '10XGenomics_10XHC4_T0', ..., 'Savage2021_BRISL6_T0', 'Savage2021_BRISL7_T0', 'Savage2021_PIDA_T0', 'Savage2021_PIDB_T0']"
      ]
     },
     "execution_count": 10,
     "metadata": {},
     "output_type": "execute_result"
    }
   ],
   "source": [
    "train_adata.obs.sampleID.unique()"
   ]
  },
  {
   "cell_type": "code",
   "execution_count": 11,
   "id": "6f649797",
   "metadata": {
    "execution": {
     "iopub.execute_input": "2025-06-13T13:10:05.560625Z",
     "iopub.status.busy": "2025-06-13T13:10:05.560356Z",
     "iopub.status.idle": "2025-06-13T13:10:05.588587Z",
     "shell.execute_reply": "2025-06-13T13:10:05.588267Z"
    },
    "papermill": {
     "duration": 0.034806,
     "end_time": "2025-06-13T13:10:05.589417",
     "exception": false,
     "start_time": "2025-06-13T13:10:05.554611",
     "status": "completed"
    },
    "tags": []
   },
   "outputs": [],
   "source": [
    "all_idxs = np.arange(train_adata.obs.shape[0])\n",
    "left_out_splits = [s[1] for s in StratifiedGroupKFold(n_splits=N_SPLITS).split(all_idxs, train_adata.obs.disease, train_adata.obs.sampleID)]"
   ]
  },
  {
   "cell_type": "code",
   "execution_count": 12,
   "id": "e9d7e1cc",
   "metadata": {
    "execution": {
     "iopub.execute_input": "2025-06-13T13:10:05.601000Z",
     "iopub.status.busy": "2025-06-13T13:10:05.600713Z",
     "iopub.status.idle": "2025-06-13T13:10:05.603781Z",
     "shell.execute_reply": "2025-06-13T13:10:05.603488Z"
    },
    "papermill": {
     "duration": 0.009709,
     "end_time": "2025-06-13T13:10:05.604565",
     "exception": false,
     "start_time": "2025-06-13T13:10:05.594856",
     "status": "completed"
    },
    "tags": []
   },
   "outputs": [
    {
     "data": {
      "text/plain": [
       "([1, 2, 3], 0, 4)"
      ]
     },
     "execution_count": 12,
     "metadata": {},
     "output_type": "execute_result"
    }
   ],
   "source": [
    "TRAIN_SPLIT_IDXS = [0,1,2,3,4]\n",
    "VAL_SPLIT_IDX = (TEST_SPLIT_IDX + 1) % 5\n",
    "TRAIN_SPLIT_IDXS.remove(TEST_SPLIT_IDX)\n",
    "TRAIN_SPLIT_IDXS.remove(VAL_SPLIT_IDX)\n",
    "TRAIN_SPLIT_IDXS, VAL_SPLIT_IDX, TEST_SPLIT_IDX"
   ]
  },
  {
   "cell_type": "code",
   "execution_count": 13,
   "id": "5f4329f5",
   "metadata": {
    "execution": {
     "iopub.execute_input": "2025-06-13T13:10:05.622362Z",
     "iopub.status.busy": "2025-06-13T13:10:05.622079Z",
     "iopub.status.idle": "2025-06-13T13:10:05.624299Z",
     "shell.execute_reply": "2025-06-13T13:10:05.624011Z"
    },
    "papermill": {
     "duration": 0.009334,
     "end_time": "2025-06-13T13:10:05.625081",
     "exception": false,
     "start_time": "2025-06-13T13:10:05.615747",
     "status": "completed"
    },
    "tags": []
   },
   "outputs": [],
   "source": [
    "train_idxs = np.concatenate([left_out_splits[idx] for idx in TRAIN_SPLIT_IDXS])\n",
    "val_idxs = left_out_splits[VAL_SPLIT_IDX]\n",
    "test_idxs = left_out_splits[TEST_SPLIT_IDX]"
   ]
  },
  {
   "cell_type": "markdown",
   "id": "4c2633ec",
   "metadata": {
    "papermill": {
     "duration": 0.005487,
     "end_time": "2025-06-13T13:10:05.636322",
     "exception": false,
     "start_time": "2025-06-13T13:10:05.630835",
     "status": "completed"
    },
    "tags": []
   },
   "source": [
    "### SUBSET DATASET INTO TRAIN/TEST/VAL SPLITS"
   ]
  },
  {
   "cell_type": "code",
   "execution_count": 14,
   "id": "8588b799",
   "metadata": {
    "execution": {
     "iopub.execute_input": "2025-06-13T13:10:05.666057Z",
     "iopub.status.busy": "2025-06-13T13:10:05.665768Z",
     "iopub.status.idle": "2025-06-13T13:10:05.671526Z",
     "shell.execute_reply": "2025-06-13T13:10:05.671224Z"
    },
    "papermill": {
     "duration": 0.030595,
     "end_time": "2025-06-13T13:10:05.672320",
     "exception": false,
     "start_time": "2025-06-13T13:10:05.641725",
     "status": "completed"
    },
    "tags": []
   },
   "outputs": [
    {
     "data": {
      "text/plain": [
       "((308, 108), (116, 108), (118, 108))"
      ]
     },
     "execution_count": 14,
     "metadata": {},
     "output_type": "execute_result"
    }
   ],
   "source": [
    "X_train = train_adata.X[train_idxs]\n",
    "X_test = train_adata.X[test_idxs]\n",
    "X_val = train_adata.X[val_idxs]\n",
    "X_train.shape, X_test.shape, X_val.shape"
   ]
  },
  {
   "cell_type": "code",
   "execution_count": 15,
   "id": "61617405",
   "metadata": {
    "execution": {
     "iopub.execute_input": "2025-06-13T13:10:05.684255Z",
     "iopub.status.busy": "2025-06-13T13:10:05.683962Z",
     "iopub.status.idle": "2025-06-13T13:10:05.688467Z",
     "shell.execute_reply": "2025-06-13T13:10:05.688175Z"
    },
    "papermill": {
     "duration": 0.011418,
     "end_time": "2025-06-13T13:10:05.689284",
     "exception": false,
     "start_time": "2025-06-13T13:10:05.677866",
     "status": "completed"
    },
    "tags": []
   },
   "outputs": [
    {
     "data": {
      "text/plain": [
       "((308,), (116,), (118,))"
      ]
     },
     "execution_count": 15,
     "metadata": {},
     "output_type": "execute_result"
    }
   ],
   "source": [
    "y_train = train_adata.obs.iloc[train_idxs].disease.values.astype(str)\n",
    "y_test = train_adata.obs.iloc[test_idxs].disease.values.astype(str)\n",
    "y_val = train_adata.obs.iloc[val_idxs].disease.values.astype(str)\n",
    "y_train.shape, y_test.shape, y_val.shape"
   ]
  },
  {
   "cell_type": "code",
   "execution_count": 16,
   "id": "605fc8ac",
   "metadata": {
    "execution": {
     "iopub.execute_input": "2025-06-13T13:10:05.701234Z",
     "iopub.status.busy": "2025-06-13T13:10:05.700956Z",
     "iopub.status.idle": "2025-06-13T13:10:05.703657Z",
     "shell.execute_reply": "2025-06-13T13:10:05.703361Z"
    },
    "papermill": {
     "duration": 0.009519,
     "end_time": "2025-06-13T13:10:05.704408",
     "exception": false,
     "start_time": "2025-06-13T13:10:05.694889",
     "status": "completed"
    },
    "tags": []
   },
   "outputs": [],
   "source": [
    "lenc = LabelEncoder()\n",
    "y_train_enc = lenc.fit_transform(y_train)\n",
    "y_val_enc = lenc.transform(y_val)\n",
    "y_test_enc = lenc.transform(y_test)"
   ]
  },
  {
   "cell_type": "markdown",
   "id": "c8f94a11",
   "metadata": {
    "papermill": {
     "duration": 0.005441,
     "end_time": "2025-06-13T13:10:05.715674",
     "exception": false,
     "start_time": "2025-06-13T13:10:05.710233",
     "status": "completed"
    },
    "tags": []
   },
   "source": [
    "### GENERATE F1 "
   ]
  },
  {
   "cell_type": "code",
   "execution_count": 17,
   "id": "580acfe6",
   "metadata": {
    "execution": {
     "iopub.execute_input": "2025-06-13T13:10:05.742011Z",
     "iopub.status.busy": "2025-06-13T13:10:05.741772Z",
     "iopub.status.idle": "2025-06-13T13:10:05.743911Z",
     "shell.execute_reply": "2025-06-13T13:10:05.743622Z"
    },
    "papermill": {
     "duration": 0.009227,
     "end_time": "2025-06-13T13:10:05.744701",
     "exception": false,
     "start_time": "2025-06-13T13:10:05.735474",
     "status": "completed"
    },
    "tags": []
   },
   "outputs": [],
   "source": [
    "def custom_f1_score(y_true, y_pred):\n",
    "    return -f1_score(y_true, y_pred.argmax(1), average='weighted')"
   ]
  },
  {
   "cell_type": "code",
   "execution_count": 18,
   "id": "046dc44d",
   "metadata": {
    "execution": {
     "iopub.execute_input": "2025-06-13T13:10:05.756437Z",
     "iopub.status.busy": "2025-06-13T13:10:05.756159Z",
     "iopub.status.idle": "2025-06-13T13:10:05.759755Z",
     "shell.execute_reply": "2025-06-13T13:10:05.759465Z"
    },
    "papermill": {
     "duration": 0.010454,
     "end_time": "2025-06-13T13:10:05.760552",
     "exception": false,
     "start_time": "2025-06-13T13:10:05.750098",
     "status": "completed"
    },
    "tags": []
   },
   "outputs": [],
   "source": [
    "eval_metric=custom_f1_score\n",
    "eval_metric_name='custom_f1_score'\n",
    "\n",
    "def objective(trial):\n",
    "    params = {\n",
    "        'n_estimators': 1500,\n",
    "        'max_depth': trial.suggest_int('max_depth', 3, 20),\n",
    "        'min_child_weight': trial.suggest_int('min_child_weight', 1, 250),\n",
    "        'subsample': trial.suggest_float('subsample', 0.1, 1.0),\n",
    "        'colsample_bynode': trial.suggest_float('colsample_bynode', 0.1, 1.0),\n",
    "        'learning_rate': trial.suggest_float('learning_rate', 1e-3, 5e-1, log=True),\n",
    "    }\n",
    "    pruning_callback = optuna.integration.XGBoostPruningCallback(trial, f'validation_0-{eval_metric_name}')\n",
    "    es_callback = xgboost.callback.EarlyStopping(20, min_delta=0.001)\n",
    "    xgb = xgboost.XGBClassifier(\n",
    "        eval_metric=eval_metric,\n",
    "        callbacks=[pruning_callback, es_callback],\n",
    "        n_jobs=5,\n",
    "        **params\n",
    "    )\n",
    "    xgb.fit(\n",
    "        X_train, \n",
    "        y_train_enc, \n",
    "        verbose=0,\n",
    "        eval_set=[(X_val, y_val_enc)],\n",
    "    )\n",
    "    trial.set_user_attr('best_iteration', xgb.best_iteration)\n",
    "\n",
    "    return xgb.best_score"
   ]
  },
  {
   "cell_type": "code",
   "execution_count": 19,
   "id": "e60d4723",
   "metadata": {
    "execution": {
     "iopub.execute_input": "2025-06-13T13:10:05.772242Z",
     "iopub.status.busy": "2025-06-13T13:10:05.771931Z",
     "iopub.status.idle": "2025-06-13T13:10:15.117729Z",
     "shell.execute_reply": "2025-06-13T13:10:15.117302Z"
    },
    "papermill": {
     "duration": 9.352894,
     "end_time": "2025-06-13T13:10:15.118747",
     "exception": false,
     "start_time": "2025-06-13T13:10:05.765853",
     "status": "completed"
    },
    "scrolled": true,
    "tags": []
   },
   "outputs": [
    {
     "name": "stderr",
     "output_type": "stream",
     "text": [
      "[I 2025-06-13 15:10:05,773] A new study created in memory with name: no-name-d1cb1f18-db24-4fea-a26d-c9a1966e41dc\n"
     ]
    },
    {
     "name": "stderr",
     "output_type": "stream",
     "text": [
      "[I 2025-06-13 15:10:05,890] Trial 0 finished with value: -0.015898 and parameters: {'max_depth': 9, 'min_child_weight': 238, 'subsample': 0.7587945476302645, 'colsample_bynode': 0.6387926357773329, 'learning_rate': 0.0026368755339723046}. Best is trial 0 with value: -0.015898.\n"
     ]
    },
    {
     "name": "stderr",
     "output_type": "stream",
     "text": [
      "[I 2025-06-13 15:10:06,147] Trial 1 finished with value: -0.383296 and parameters: {'max_depth': 5, 'min_child_weight': 15, 'subsample': 0.8795585311974417, 'colsample_bynode': 0.6410035105688879, 'learning_rate': 0.08148293210105287}. Best is trial 1 with value: -0.383296.\n"
     ]
    },
    {
     "name": "stderr",
     "output_type": "stream",
     "text": [
      "[I 2025-06-13 15:10:06,279] Trial 2 finished with value: -0.015898 and parameters: {'max_depth': 3, 'min_child_weight': 243, 'subsample': 0.8491983767203796, 'colsample_bynode': 0.29110519961044856, 'learning_rate': 0.003095566460242371}. Best is trial 1 with value: -0.383296.\n"
     ]
    },
    {
     "name": "stderr",
     "output_type": "stream",
     "text": [
      "[I 2025-06-13 15:10:06,406] Trial 3 finished with value: -0.015898 and parameters: {'max_depth': 6, 'min_child_weight': 77, 'subsample': 0.5722807884690141, 'colsample_bynode': 0.48875051677790415, 'learning_rate': 0.006109683510122491}. Best is trial 1 with value: -0.383296.\n"
     ]
    },
    {
     "name": "stderr",
     "output_type": "stream",
     "text": [
      "[I 2025-06-13 15:10:06,539] Trial 4 finished with value: -0.015898 and parameters: {'max_depth': 14, 'min_child_weight': 35, 'subsample': 0.3629301836816964, 'colsample_bynode': 0.4297256589643226, 'learning_rate': 0.01701841881702917}. Best is trial 1 with value: -0.383296.\n"
     ]
    },
    {
     "name": "stderr",
     "output_type": "stream",
     "text": [
      "[I 2025-06-13 15:10:06,669] Trial 5 finished with value: -0.015898 and parameters: {'max_depth': 17, 'min_child_weight': 50, 'subsample': 0.5628109945722505, 'colsample_bynode': 0.6331731119758383, 'learning_rate': 0.0013346527038305934}. Best is trial 1 with value: -0.383296.\n"
     ]
    },
    {
     "name": "stderr",
     "output_type": "stream",
     "text": [
      "[I 2025-06-13 15:10:06,807] Trial 6 finished with value: -0.015898 and parameters: {'max_depth': 13, 'min_child_weight': 43, 'subsample': 0.1585464336867516, 'colsample_bynode': 0.9539969835279999, 'learning_rate': 0.4038423798071558}. Best is trial 1 with value: -0.383296.\n"
     ]
    },
    {
     "name": "stderr",
     "output_type": "stream",
     "text": [
      "[I 2025-06-13 15:10:06,936] Trial 7 finished with value: -0.015898 and parameters: {'max_depth': 17, 'min_child_weight': 77, 'subsample': 0.1879049026057455, 'colsample_bynode': 0.7158097238609412, 'learning_rate': 0.015415527060141935}. Best is trial 1 with value: -0.383296.\n"
     ]
    },
    {
     "name": "stderr",
     "output_type": "stream",
     "text": [
      "[I 2025-06-13 15:10:07,072] Trial 8 finished with value: -0.015898 and parameters: {'max_depth': 5, 'min_child_weight': 124, 'subsample': 0.13094966900369656, 'colsample_bynode': 0.9183883618709039, 'learning_rate': 0.004993895014755658}. Best is trial 1 with value: -0.383296.\n"
     ]
    },
    {
     "name": "stderr",
     "output_type": "stream",
     "text": [
      "[I 2025-06-13 15:10:07,201] Trial 9 finished with value: -0.015898 and parameters: {'max_depth': 14, 'min_child_weight': 78, 'subsample': 0.5680612190600297, 'colsample_bynode': 0.5920392514089517, 'learning_rate': 0.0031543990308330965}. Best is trial 1 with value: -0.383296.\n"
     ]
    },
    {
     "name": "stderr",
     "output_type": "stream",
     "text": [
      "[I 2025-06-13 15:10:07,522] Trial 10 finished with value: -0.494275 and parameters: {'max_depth': 9, 'min_child_weight': 2, 'subsample': 0.9725833997090791, 'colsample_bynode': 0.11616568805333755, 'learning_rate': 0.17780618353487967}. Best is trial 10 with value: -0.494275.\n"
     ]
    },
    {
     "name": "stderr",
     "output_type": "stream",
     "text": [
      "[I 2025-06-13 15:10:07,915] Trial 11 finished with value: -0.522296 and parameters: {'max_depth': 9, 'min_child_weight': 4, 'subsample': 0.9818290990185045, 'colsample_bynode': 0.17702656156719, 'learning_rate': 0.11568531411766632}. Best is trial 11 with value: -0.522296.\n"
     ]
    },
    {
     "name": "stderr",
     "output_type": "stream",
     "text": [
      "[I 2025-06-13 15:10:08,208] Trial 12 pruned. Trial was pruned at iteration 26.\n"
     ]
    },
    {
     "name": "stderr",
     "output_type": "stream",
     "text": [
      "[I 2025-06-13 15:10:08,355] Trial 13 finished with value: -0.015898 and parameters: {'max_depth': 10, 'min_child_weight': 173, 'subsample': 0.9990589868255076, 'colsample_bynode': 0.10388397775802007, 'learning_rate': 0.08343244313100631}. Best is trial 11 with value: -0.522296.\n"
     ]
    },
    {
     "name": "stderr",
     "output_type": "stream",
     "text": [
      "[I 2025-06-13 15:10:08,500] Trial 14 finished with value: -0.015898 and parameters: {'max_depth': 7, 'min_child_weight': 132, 'subsample': 0.7251427075087294, 'colsample_bynode': 0.2827065087684573, 'learning_rate': 0.4477473783244542}. Best is trial 11 with value: -0.522296.\n"
     ]
    },
    {
     "name": "stderr",
     "output_type": "stream",
     "text": [
      "[I 2025-06-13 15:10:08,766] Trial 15 finished with value: -0.507201 and parameters: {'max_depth': 20, 'min_child_weight': 2, 'subsample': 0.719264024177087, 'colsample_bynode': 0.2540835086298475, 'learning_rate': 0.03987682305667138}. Best is trial 11 with value: -0.522296.\n"
     ]
    },
    {
     "name": "stderr",
     "output_type": "stream",
     "text": [
      "[I 2025-06-13 15:10:08,911] Trial 16 finished with value: -0.015898 and parameters: {'max_depth': 20, 'min_child_weight': 117, 'subsample': 0.6730263351162008, 'colsample_bynode': 0.2703877080693743, 'learning_rate': 0.04110937244314767}. Best is trial 11 with value: -0.522296.\n"
     ]
    },
    {
     "name": "stderr",
     "output_type": "stream",
     "text": [
      "[I 2025-06-13 15:10:09,059] Trial 17 finished with value: -0.015898 and parameters: {'max_depth': 20, 'min_child_weight': 183, 'subsample': 0.37310167079970213, 'colsample_bynode': 0.38835173273745516, 'learning_rate': 0.041262202391515325}. Best is trial 11 with value: -0.522296.\n"
     ]
    },
    {
     "name": "stderr",
     "output_type": "stream",
     "text": [
      "[I 2025-06-13 15:10:09,206] Trial 18 finished with value: -0.115706 and parameters: {'max_depth': 12, 'min_child_weight': 37, 'subsample': 0.8259163781171385, 'colsample_bynode': 0.21488984204344502, 'learning_rate': 0.0311521997998309}. Best is trial 11 with value: -0.522296.\n"
     ]
    },
    {
     "name": "stderr",
     "output_type": "stream",
     "text": [
      "[I 2025-06-13 15:10:09,444] Trial 19 finished with value: -0.015898 and parameters: {'max_depth': 17, 'min_child_weight': 99, 'subsample': 0.664982025414379, 'colsample_bynode': 0.4027887943468127, 'learning_rate': 0.19303118935659103}. Best is trial 11 with value: -0.522296.\n"
     ]
    },
    {
     "name": "stderr",
     "output_type": "stream",
     "text": [
      "[I 2025-06-13 15:10:09,593] Trial 20 finished with value: -0.115706 and parameters: {'max_depth': 15, 'min_child_weight': 23, 'subsample': 0.4239585934277698, 'colsample_bynode': 0.22279278199646296, 'learning_rate': 0.08040955385444452}. Best is trial 11 with value: -0.522296.\n"
     ]
    },
    {
     "name": "stderr",
     "output_type": "stream",
     "text": [
      "[I 2025-06-13 15:10:09,930] Trial 21 finished with value: -0.498924 and parameters: {'max_depth': 11, 'min_child_weight': 1, 'subsample': 0.9284264477593334, 'colsample_bynode': 0.15398277216214265, 'learning_rate': 0.20901104055631745}. Best is trial 11 with value: -0.522296.\n"
     ]
    },
    {
     "name": "stderr",
     "output_type": "stream",
     "text": [
      "[I 2025-06-13 15:10:10,079] Trial 22 pruned. Trial was pruned at iteration 21.\n"
     ]
    },
    {
     "name": "stderr",
     "output_type": "stream",
     "text": [
      "[I 2025-06-13 15:10:10,258] Trial 23 pruned. Trial was pruned at iteration 21.\n"
     ]
    },
    {
     "name": "stderr",
     "output_type": "stream",
     "text": [
      "[I 2025-06-13 15:10:10,406] Trial 24 finished with value: -0.115706 and parameters: {'max_depth': 12, 'min_child_weight': 61, 'subsample': 0.9153877188129658, 'colsample_bynode': 0.3570727728603251, 'learning_rate': 0.05704143999100103}. Best is trial 11 with value: -0.522296.\n"
     ]
    },
    {
     "name": "stderr",
     "output_type": "stream",
     "text": [
      "[I 2025-06-13 15:10:10,709] Trial 25 pruned. Trial was pruned at iteration 41.\n"
     ]
    },
    {
     "name": "stderr",
     "output_type": "stream",
     "text": [
      "[I 2025-06-13 15:10:10,875] Trial 26 pruned. Trial was pruned at iteration 21.\n"
     ]
    },
    {
     "name": "stderr",
     "output_type": "stream",
     "text": [
      "[I 2025-06-13 15:10:11,027] Trial 27 finished with value: -0.015898 and parameters: {'max_depth': 15, 'min_child_weight': 172, 'subsample': 0.7503885473565282, 'colsample_bynode': 0.3348534263790903, 'learning_rate': 0.010970595537193276}. Best is trial 11 with value: -0.522296.\n"
     ]
    },
    {
     "name": "stderr",
     "output_type": "stream",
     "text": [
      "[I 2025-06-13 15:10:11,180] Trial 28 finished with value: -0.015898 and parameters: {'max_depth': 18, 'min_child_weight': 98, 'subsample': 0.8166065174447603, 'colsample_bynode': 0.8094643907024937, 'learning_rate': 0.11466963548920447}. Best is trial 11 with value: -0.522296.\n"
     ]
    },
    {
     "name": "stderr",
     "output_type": "stream",
     "text": [
      "[I 2025-06-13 15:10:11,321] Trial 29 finished with value: -0.015898 and parameters: {'max_depth': 10, 'min_child_weight': 217, 'subsample': 0.48094899820572756, 'colsample_bynode': 0.22625300470203594, 'learning_rate': 0.05250012005665479}. Best is trial 11 with value: -0.522296.\n"
     ]
    },
    {
     "name": "stderr",
     "output_type": "stream",
     "text": [
      "[I 2025-06-13 15:10:11,467] Trial 30 finished with value: -0.015898 and parameters: {'max_depth': 3, 'min_child_weight': 150, 'subsample': 0.7626637791897475, 'colsample_bynode': 0.16837718825904932, 'learning_rate': 0.24099975265928317}. Best is trial 11 with value: -0.522296.\n"
     ]
    },
    {
     "name": "stderr",
     "output_type": "stream",
     "text": [
      "[I 2025-06-13 15:10:11,688] Trial 31 pruned. Trial was pruned at iteration 21.\n"
     ]
    },
    {
     "name": "stderr",
     "output_type": "stream",
     "text": [
      "[I 2025-06-13 15:10:11,855] Trial 32 pruned. Trial was pruned at iteration 21.\n"
     ]
    },
    {
     "name": "stderr",
     "output_type": "stream",
     "text": [
      "[I 2025-06-13 15:10:12,020] Trial 33 pruned. Trial was pruned at iteration 21.\n"
     ]
    },
    {
     "name": "stderr",
     "output_type": "stream",
     "text": [
      "[I 2025-06-13 15:10:12,264] Trial 34 pruned. Trial was pruned at iteration 21.\n"
     ]
    },
    {
     "name": "stderr",
     "output_type": "stream",
     "text": [
      "[I 2025-06-13 15:10:12,415] Trial 35 finished with value: -0.015898 and parameters: {'max_depth': 13, 'min_child_weight': 67, 'subsample': 0.8941517704395849, 'colsample_bynode': 0.3340630607581552, 'learning_rate': 0.1251992744007515}. Best is trial 11 with value: -0.522296.\n"
     ]
    },
    {
     "name": "stderr",
     "output_type": "stream",
     "text": [
      "[I 2025-06-13 15:10:12,566] Trial 36 pruned. Trial was pruned at iteration 21.\n"
     ]
    },
    {
     "name": "stderr",
     "output_type": "stream",
     "text": [
      "[I 2025-06-13 15:10:12,734] Trial 37 pruned. Trial was pruned at iteration 21.\n"
     ]
    },
    {
     "name": "stderr",
     "output_type": "stream",
     "text": [
      "[I 2025-06-13 15:10:12,884] Trial 38 finished with value: -0.015898 and parameters: {'max_depth': 11, 'min_child_weight': 48, 'subsample': 0.25720599485408774, 'colsample_bynode': 0.5353708710577316, 'learning_rate': 0.36644370509178376}. Best is trial 11 with value: -0.522296.\n"
     ]
    },
    {
     "name": "stderr",
     "output_type": "stream",
     "text": [
      "[I 2025-06-13 15:10:13,043] Trial 39 pruned. Trial was pruned at iteration 21.\n"
     ]
    },
    {
     "name": "stderr",
     "output_type": "stream",
     "text": [
      "[I 2025-06-13 15:10:13,206] Trial 40 pruned. Trial was pruned at iteration 21.\n"
     ]
    },
    {
     "name": "stderr",
     "output_type": "stream",
     "text": [
      "[I 2025-06-13 15:10:13,353] Trial 41 pruned. Trial was pruned at iteration 21.\n"
     ]
    },
    {
     "name": "stderr",
     "output_type": "stream",
     "text": [
      "[I 2025-06-13 15:10:13,553] Trial 42 pruned. Trial was pruned at iteration 21.\n"
     ]
    },
    {
     "name": "stderr",
     "output_type": "stream",
     "text": [
      "[I 2025-06-13 15:10:13,711] Trial 43 pruned. Trial was pruned at iteration 21.\n"
     ]
    },
    {
     "name": "stderr",
     "output_type": "stream",
     "text": [
      "[I 2025-06-13 15:10:14,082] Trial 44 finished with value: -0.499222 and parameters: {'max_depth': 5, 'min_child_weight': 1, 'subsample': 0.9574147651305062, 'colsample_bynode': 0.6302401999215841, 'learning_rate': 0.13713111680572979}. Best is trial 11 with value: -0.522296.\n"
     ]
    },
    {
     "name": "stderr",
     "output_type": "stream",
     "text": [
      "[I 2025-06-13 15:10:14,395] Trial 45 finished with value: -0.525666 and parameters: {'max_depth': 4, 'min_child_weight': 1, 'subsample': 0.9617403238519344, 'colsample_bynode': 0.7794856826875709, 'learning_rate': 0.49405791386829095}. Best is trial 45 with value: -0.525666.\n"
     ]
    },
    {
     "name": "stderr",
     "output_type": "stream",
     "text": [
      "[I 2025-06-13 15:10:14,553] Trial 46 pruned. Trial was pruned at iteration 21.\n"
     ]
    },
    {
     "name": "stderr",
     "output_type": "stream",
     "text": [
      "[I 2025-06-13 15:10:14,734] Trial 47 pruned. Trial was pruned at iteration 21.\n"
     ]
    },
    {
     "name": "stderr",
     "output_type": "stream",
     "text": [
      "[I 2025-06-13 15:10:14,889] Trial 48 finished with value: -0.015898 and parameters: {'max_depth': 4, 'min_child_weight': 70, 'subsample': 0.5249724898378656, 'colsample_bynode': 0.6272013289397258, 'learning_rate': 0.38107538465975527}. Best is trial 45 with value: -0.525666.\n"
     ]
    },
    {
     "name": "stderr",
     "output_type": "stream",
     "text": [
      "[I 2025-06-13 15:10:15,043] Trial 49 pruned. Trial was pruned at iteration 21.\n"
     ]
    }
   ],
   "source": [
    "sampler = optuna.samplers.TPESampler(seed=42)\n",
    "study = optuna.create_study(direction='minimize', sampler=sampler)\n",
    "study.optimize(objective, n_trials=N_TRIALS, gc_after_trial=True)"
   ]
  },
  {
   "cell_type": "code",
   "execution_count": 20,
   "id": "741598d0",
   "metadata": {
    "execution": {
     "iopub.execute_input": "2025-06-13T13:10:15.137002Z",
     "iopub.status.busy": "2025-06-13T13:10:15.136836Z",
     "iopub.status.idle": "2025-06-13T13:10:15.158424Z",
     "shell.execute_reply": "2025-06-13T13:10:15.158046Z"
    },
    "papermill": {
     "duration": 0.031255,
     "end_time": "2025-06-13T13:10:15.159303",
     "exception": false,
     "start_time": "2025-06-13T13:10:15.128048",
     "status": "completed"
    },
    "tags": []
   },
   "outputs": [
    {
     "data": {
      "text/plain": [
       "['/scratch_isilon/groups/singlecell/shared/projects/Inflammation-PBMCs-Atlas/03_downstream_analysis/08_gene_importance/xgboost_external_validation/xgboost_TopN_genes/results_20/study/Plasma_shap_disease_NOstudy_samesize_4_xgboost.pkl']"
      ]
     },
     "execution_count": 20,
     "metadata": {},
     "output_type": "execute_result"
    }
   ],
   "source": [
    "out_dir = here(f'03_downstream_analysis/08_gene_importance/xgboost_external_validation/xgboost_TopN_genes/results_{N_GENES}/study')\n",
    "\n",
    "if not os.path.exists(out_dir):\n",
    "    os.makedirs(out_dir)\n",
    "    \n",
    "joblib.dump(study,os.path.join(out_dir, f'{CELL_TYPE}_{SEED}_{TEST_SPLIT_IDX}_xgboost.pkl'))"
   ]
  },
  {
   "cell_type": "code",
   "execution_count": 21,
   "id": "8d8f7da0",
   "metadata": {
    "execution": {
     "iopub.execute_input": "2025-06-13T13:10:15.177078Z",
     "iopub.status.busy": "2025-06-13T13:10:15.176745Z",
     "iopub.status.idle": "2025-06-13T13:10:15.283246Z",
     "shell.execute_reply": "2025-06-13T13:10:15.282906Z"
    },
    "papermill": {
     "duration": 0.116199,
     "end_time": "2025-06-13T13:10:15.284100",
     "exception": false,
     "start_time": "2025-06-13T13:10:15.167901",
     "status": "completed"
    },
    "tags": []
   },
   "outputs": [
    {
     "data": {
      "text/html": [
       "<style>#sk-container-id-1 {\n",
       "  /* Definition of color scheme common for light and dark mode */\n",
       "  --sklearn-color-text: black;\n",
       "  --sklearn-color-line: gray;\n",
       "  /* Definition of color scheme for unfitted estimators */\n",
       "  --sklearn-color-unfitted-level-0: #fff5e6;\n",
       "  --sklearn-color-unfitted-level-1: #f6e4d2;\n",
       "  --sklearn-color-unfitted-level-2: #ffe0b3;\n",
       "  --sklearn-color-unfitted-level-3: chocolate;\n",
       "  /* Definition of color scheme for fitted estimators */\n",
       "  --sklearn-color-fitted-level-0: #f0f8ff;\n",
       "  --sklearn-color-fitted-level-1: #d4ebff;\n",
       "  --sklearn-color-fitted-level-2: #b3dbfd;\n",
       "  --sklearn-color-fitted-level-3: cornflowerblue;\n",
       "\n",
       "  /* Specific color for light theme */\n",
       "  --sklearn-color-text-on-default-background: var(--sg-text-color, var(--theme-code-foreground, var(--jp-content-font-color1, black)));\n",
       "  --sklearn-color-background: var(--sg-background-color, var(--theme-background, var(--jp-layout-color0, white)));\n",
       "  --sklearn-color-border-box: var(--sg-text-color, var(--theme-code-foreground, var(--jp-content-font-color1, black)));\n",
       "  --sklearn-color-icon: #696969;\n",
       "\n",
       "  @media (prefers-color-scheme: dark) {\n",
       "    /* Redefinition of color scheme for dark theme */\n",
       "    --sklearn-color-text-on-default-background: var(--sg-text-color, var(--theme-code-foreground, var(--jp-content-font-color1, white)));\n",
       "    --sklearn-color-background: var(--sg-background-color, var(--theme-background, var(--jp-layout-color0, #111)));\n",
       "    --sklearn-color-border-box: var(--sg-text-color, var(--theme-code-foreground, var(--jp-content-font-color1, white)));\n",
       "    --sklearn-color-icon: #878787;\n",
       "  }\n",
       "}\n",
       "\n",
       "#sk-container-id-1 {\n",
       "  color: var(--sklearn-color-text);\n",
       "}\n",
       "\n",
       "#sk-container-id-1 pre {\n",
       "  padding: 0;\n",
       "}\n",
       "\n",
       "#sk-container-id-1 input.sk-hidden--visually {\n",
       "  border: 0;\n",
       "  clip: rect(1px 1px 1px 1px);\n",
       "  clip: rect(1px, 1px, 1px, 1px);\n",
       "  height: 1px;\n",
       "  margin: -1px;\n",
       "  overflow: hidden;\n",
       "  padding: 0;\n",
       "  position: absolute;\n",
       "  width: 1px;\n",
       "}\n",
       "\n",
       "#sk-container-id-1 div.sk-dashed-wrapped {\n",
       "  border: 1px dashed var(--sklearn-color-line);\n",
       "  margin: 0 0.4em 0.5em 0.4em;\n",
       "  box-sizing: border-box;\n",
       "  padding-bottom: 0.4em;\n",
       "  background-color: var(--sklearn-color-background);\n",
       "}\n",
       "\n",
       "#sk-container-id-1 div.sk-container {\n",
       "  /* jupyter's `normalize.less` sets `[hidden] { display: none; }`\n",
       "     but bootstrap.min.css set `[hidden] { display: none !important; }`\n",
       "     so we also need the `!important` here to be able to override the\n",
       "     default hidden behavior on the sphinx rendered scikit-learn.org.\n",
       "     See: https://github.com/scikit-learn/scikit-learn/issues/21755 */\n",
       "  display: inline-block !important;\n",
       "  position: relative;\n",
       "}\n",
       "\n",
       "#sk-container-id-1 div.sk-text-repr-fallback {\n",
       "  display: none;\n",
       "}\n",
       "\n",
       "div.sk-parallel-item,\n",
       "div.sk-serial,\n",
       "div.sk-item {\n",
       "  /* draw centered vertical line to link estimators */\n",
       "  background-image: linear-gradient(var(--sklearn-color-text-on-default-background), var(--sklearn-color-text-on-default-background));\n",
       "  background-size: 2px 100%;\n",
       "  background-repeat: no-repeat;\n",
       "  background-position: center center;\n",
       "}\n",
       "\n",
       "/* Parallel-specific style estimator block */\n",
       "\n",
       "#sk-container-id-1 div.sk-parallel-item::after {\n",
       "  content: \"\";\n",
       "  width: 100%;\n",
       "  border-bottom: 2px solid var(--sklearn-color-text-on-default-background);\n",
       "  flex-grow: 1;\n",
       "}\n",
       "\n",
       "#sk-container-id-1 div.sk-parallel {\n",
       "  display: flex;\n",
       "  align-items: stretch;\n",
       "  justify-content: center;\n",
       "  background-color: var(--sklearn-color-background);\n",
       "  position: relative;\n",
       "}\n",
       "\n",
       "#sk-container-id-1 div.sk-parallel-item {\n",
       "  display: flex;\n",
       "  flex-direction: column;\n",
       "}\n",
       "\n",
       "#sk-container-id-1 div.sk-parallel-item:first-child::after {\n",
       "  align-self: flex-end;\n",
       "  width: 50%;\n",
       "}\n",
       "\n",
       "#sk-container-id-1 div.sk-parallel-item:last-child::after {\n",
       "  align-self: flex-start;\n",
       "  width: 50%;\n",
       "}\n",
       "\n",
       "#sk-container-id-1 div.sk-parallel-item:only-child::after {\n",
       "  width: 0;\n",
       "}\n",
       "\n",
       "/* Serial-specific style estimator block */\n",
       "\n",
       "#sk-container-id-1 div.sk-serial {\n",
       "  display: flex;\n",
       "  flex-direction: column;\n",
       "  align-items: center;\n",
       "  background-color: var(--sklearn-color-background);\n",
       "  padding-right: 1em;\n",
       "  padding-left: 1em;\n",
       "}\n",
       "\n",
       "\n",
       "/* Toggleable style: style used for estimator/Pipeline/ColumnTransformer box that is\n",
       "clickable and can be expanded/collapsed.\n",
       "- Pipeline and ColumnTransformer use this feature and define the default style\n",
       "- Estimators will overwrite some part of the style using the `sk-estimator` class\n",
       "*/\n",
       "\n",
       "/* Pipeline and ColumnTransformer style (default) */\n",
       "\n",
       "#sk-container-id-1 div.sk-toggleable {\n",
       "  /* Default theme specific background. It is overwritten whether we have a\n",
       "  specific estimator or a Pipeline/ColumnTransformer */\n",
       "  background-color: var(--sklearn-color-background);\n",
       "}\n",
       "\n",
       "/* Toggleable label */\n",
       "#sk-container-id-1 label.sk-toggleable__label {\n",
       "  cursor: pointer;\n",
       "  display: block;\n",
       "  width: 100%;\n",
       "  margin-bottom: 0;\n",
       "  padding: 0.5em;\n",
       "  box-sizing: border-box;\n",
       "  text-align: center;\n",
       "}\n",
       "\n",
       "#sk-container-id-1 label.sk-toggleable__label-arrow:before {\n",
       "  /* Arrow on the left of the label */\n",
       "  content: \"▸\";\n",
       "  float: left;\n",
       "  margin-right: 0.25em;\n",
       "  color: var(--sklearn-color-icon);\n",
       "}\n",
       "\n",
       "#sk-container-id-1 label.sk-toggleable__label-arrow:hover:before {\n",
       "  color: var(--sklearn-color-text);\n",
       "}\n",
       "\n",
       "/* Toggleable content - dropdown */\n",
       "\n",
       "#sk-container-id-1 div.sk-toggleable__content {\n",
       "  max-height: 0;\n",
       "  max-width: 0;\n",
       "  overflow: hidden;\n",
       "  text-align: left;\n",
       "  /* unfitted */\n",
       "  background-color: var(--sklearn-color-unfitted-level-0);\n",
       "}\n",
       "\n",
       "#sk-container-id-1 div.sk-toggleable__content.fitted {\n",
       "  /* fitted */\n",
       "  background-color: var(--sklearn-color-fitted-level-0);\n",
       "}\n",
       "\n",
       "#sk-container-id-1 div.sk-toggleable__content pre {\n",
       "  margin: 0.2em;\n",
       "  border-radius: 0.25em;\n",
       "  color: var(--sklearn-color-text);\n",
       "  /* unfitted */\n",
       "  background-color: var(--sklearn-color-unfitted-level-0);\n",
       "}\n",
       "\n",
       "#sk-container-id-1 div.sk-toggleable__content.fitted pre {\n",
       "  /* unfitted */\n",
       "  background-color: var(--sklearn-color-fitted-level-0);\n",
       "}\n",
       "\n",
       "#sk-container-id-1 input.sk-toggleable__control:checked~div.sk-toggleable__content {\n",
       "  /* Expand drop-down */\n",
       "  max-height: 200px;\n",
       "  max-width: 100%;\n",
       "  overflow: auto;\n",
       "}\n",
       "\n",
       "#sk-container-id-1 input.sk-toggleable__control:checked~label.sk-toggleable__label-arrow:before {\n",
       "  content: \"▾\";\n",
       "}\n",
       "\n",
       "/* Pipeline/ColumnTransformer-specific style */\n",
       "\n",
       "#sk-container-id-1 div.sk-label input.sk-toggleable__control:checked~label.sk-toggleable__label {\n",
       "  color: var(--sklearn-color-text);\n",
       "  background-color: var(--sklearn-color-unfitted-level-2);\n",
       "}\n",
       "\n",
       "#sk-container-id-1 div.sk-label.fitted input.sk-toggleable__control:checked~label.sk-toggleable__label {\n",
       "  background-color: var(--sklearn-color-fitted-level-2);\n",
       "}\n",
       "\n",
       "/* Estimator-specific style */\n",
       "\n",
       "/* Colorize estimator box */\n",
       "#sk-container-id-1 div.sk-estimator input.sk-toggleable__control:checked~label.sk-toggleable__label {\n",
       "  /* unfitted */\n",
       "  background-color: var(--sklearn-color-unfitted-level-2);\n",
       "}\n",
       "\n",
       "#sk-container-id-1 div.sk-estimator.fitted input.sk-toggleable__control:checked~label.sk-toggleable__label {\n",
       "  /* fitted */\n",
       "  background-color: var(--sklearn-color-fitted-level-2);\n",
       "}\n",
       "\n",
       "#sk-container-id-1 div.sk-label label.sk-toggleable__label,\n",
       "#sk-container-id-1 div.sk-label label {\n",
       "  /* The background is the default theme color */\n",
       "  color: var(--sklearn-color-text-on-default-background);\n",
       "}\n",
       "\n",
       "/* On hover, darken the color of the background */\n",
       "#sk-container-id-1 div.sk-label:hover label.sk-toggleable__label {\n",
       "  color: var(--sklearn-color-text);\n",
       "  background-color: var(--sklearn-color-unfitted-level-2);\n",
       "}\n",
       "\n",
       "/* Label box, darken color on hover, fitted */\n",
       "#sk-container-id-1 div.sk-label.fitted:hover label.sk-toggleable__label.fitted {\n",
       "  color: var(--sklearn-color-text);\n",
       "  background-color: var(--sklearn-color-fitted-level-2);\n",
       "}\n",
       "\n",
       "/* Estimator label */\n",
       "\n",
       "#sk-container-id-1 div.sk-label label {\n",
       "  font-family: monospace;\n",
       "  font-weight: bold;\n",
       "  display: inline-block;\n",
       "  line-height: 1.2em;\n",
       "}\n",
       "\n",
       "#sk-container-id-1 div.sk-label-container {\n",
       "  text-align: center;\n",
       "}\n",
       "\n",
       "/* Estimator-specific */\n",
       "#sk-container-id-1 div.sk-estimator {\n",
       "  font-family: monospace;\n",
       "  border: 1px dotted var(--sklearn-color-border-box);\n",
       "  border-radius: 0.25em;\n",
       "  box-sizing: border-box;\n",
       "  margin-bottom: 0.5em;\n",
       "  /* unfitted */\n",
       "  background-color: var(--sklearn-color-unfitted-level-0);\n",
       "}\n",
       "\n",
       "#sk-container-id-1 div.sk-estimator.fitted {\n",
       "  /* fitted */\n",
       "  background-color: var(--sklearn-color-fitted-level-0);\n",
       "}\n",
       "\n",
       "/* on hover */\n",
       "#sk-container-id-1 div.sk-estimator:hover {\n",
       "  /* unfitted */\n",
       "  background-color: var(--sklearn-color-unfitted-level-2);\n",
       "}\n",
       "\n",
       "#sk-container-id-1 div.sk-estimator.fitted:hover {\n",
       "  /* fitted */\n",
       "  background-color: var(--sklearn-color-fitted-level-2);\n",
       "}\n",
       "\n",
       "/* Specification for estimator info (e.g. \"i\" and \"?\") */\n",
       "\n",
       "/* Common style for \"i\" and \"?\" */\n",
       "\n",
       ".sk-estimator-doc-link,\n",
       "a:link.sk-estimator-doc-link,\n",
       "a:visited.sk-estimator-doc-link {\n",
       "  float: right;\n",
       "  font-size: smaller;\n",
       "  line-height: 1em;\n",
       "  font-family: monospace;\n",
       "  background-color: var(--sklearn-color-background);\n",
       "  border-radius: 1em;\n",
       "  height: 1em;\n",
       "  width: 1em;\n",
       "  text-decoration: none !important;\n",
       "  margin-left: 1ex;\n",
       "  /* unfitted */\n",
       "  border: var(--sklearn-color-unfitted-level-1) 1pt solid;\n",
       "  color: var(--sklearn-color-unfitted-level-1);\n",
       "}\n",
       "\n",
       ".sk-estimator-doc-link.fitted,\n",
       "a:link.sk-estimator-doc-link.fitted,\n",
       "a:visited.sk-estimator-doc-link.fitted {\n",
       "  /* fitted */\n",
       "  border: var(--sklearn-color-fitted-level-1) 1pt solid;\n",
       "  color: var(--sklearn-color-fitted-level-1);\n",
       "}\n",
       "\n",
       "/* On hover */\n",
       "div.sk-estimator:hover .sk-estimator-doc-link:hover,\n",
       ".sk-estimator-doc-link:hover,\n",
       "div.sk-label-container:hover .sk-estimator-doc-link:hover,\n",
       ".sk-estimator-doc-link:hover {\n",
       "  /* unfitted */\n",
       "  background-color: var(--sklearn-color-unfitted-level-3);\n",
       "  color: var(--sklearn-color-background);\n",
       "  text-decoration: none;\n",
       "}\n",
       "\n",
       "div.sk-estimator.fitted:hover .sk-estimator-doc-link.fitted:hover,\n",
       ".sk-estimator-doc-link.fitted:hover,\n",
       "div.sk-label-container:hover .sk-estimator-doc-link.fitted:hover,\n",
       ".sk-estimator-doc-link.fitted:hover {\n",
       "  /* fitted */\n",
       "  background-color: var(--sklearn-color-fitted-level-3);\n",
       "  color: var(--sklearn-color-background);\n",
       "  text-decoration: none;\n",
       "}\n",
       "\n",
       "/* Span, style for the box shown on hovering the info icon */\n",
       ".sk-estimator-doc-link span {\n",
       "  display: none;\n",
       "  z-index: 9999;\n",
       "  position: relative;\n",
       "  font-weight: normal;\n",
       "  right: .2ex;\n",
       "  padding: .5ex;\n",
       "  margin: .5ex;\n",
       "  width: min-content;\n",
       "  min-width: 20ex;\n",
       "  max-width: 50ex;\n",
       "  color: var(--sklearn-color-text);\n",
       "  box-shadow: 2pt 2pt 4pt #999;\n",
       "  /* unfitted */\n",
       "  background: var(--sklearn-color-unfitted-level-0);\n",
       "  border: .5pt solid var(--sklearn-color-unfitted-level-3);\n",
       "}\n",
       "\n",
       ".sk-estimator-doc-link.fitted span {\n",
       "  /* fitted */\n",
       "  background: var(--sklearn-color-fitted-level-0);\n",
       "  border: var(--sklearn-color-fitted-level-3);\n",
       "}\n",
       "\n",
       ".sk-estimator-doc-link:hover span {\n",
       "  display: block;\n",
       "}\n",
       "\n",
       "/* \"?\"-specific style due to the `<a>` HTML tag */\n",
       "\n",
       "#sk-container-id-1 a.estimator_doc_link {\n",
       "  float: right;\n",
       "  font-size: 1rem;\n",
       "  line-height: 1em;\n",
       "  font-family: monospace;\n",
       "  background-color: var(--sklearn-color-background);\n",
       "  border-radius: 1rem;\n",
       "  height: 1rem;\n",
       "  width: 1rem;\n",
       "  text-decoration: none;\n",
       "  /* unfitted */\n",
       "  color: var(--sklearn-color-unfitted-level-1);\n",
       "  border: var(--sklearn-color-unfitted-level-1) 1pt solid;\n",
       "}\n",
       "\n",
       "#sk-container-id-1 a.estimator_doc_link.fitted {\n",
       "  /* fitted */\n",
       "  border: var(--sklearn-color-fitted-level-1) 1pt solid;\n",
       "  color: var(--sklearn-color-fitted-level-1);\n",
       "}\n",
       "\n",
       "/* On hover */\n",
       "#sk-container-id-1 a.estimator_doc_link:hover {\n",
       "  /* unfitted */\n",
       "  background-color: var(--sklearn-color-unfitted-level-3);\n",
       "  color: var(--sklearn-color-background);\n",
       "  text-decoration: none;\n",
       "}\n",
       "\n",
       "#sk-container-id-1 a.estimator_doc_link.fitted:hover {\n",
       "  /* fitted */\n",
       "  background-color: var(--sklearn-color-fitted-level-3);\n",
       "}\n",
       "</style><div id=\"sk-container-id-1\" class=\"sk-top-container\"><div class=\"sk-text-repr-fallback\"><pre>XGBClassifier(base_score=None, booster=None, callbacks=None,\n",
       "              colsample_bylevel=None, colsample_bynode=0.7794856826875709,\n",
       "              colsample_bytree=None, device=None, early_stopping_rounds=None,\n",
       "              enable_categorical=False,\n",
       "              eval_metric=&lt;function custom_f1_score at 0x7f3294e54680&gt;,\n",
       "              feature_types=None, gamma=None, grow_policy=None,\n",
       "              importance_type=None, interaction_constraints=None,\n",
       "              learning_rate=0.49405791386829095, max_bin=None,\n",
       "              max_cat_threshold=None, max_cat_to_onehot=None,\n",
       "              max_delta_step=None, max_depth=4, max_leaves=None,\n",
       "              min_child_weight=1, missing=nan, monotone_constraints=None,\n",
       "              multi_strategy=None, n_estimators=8, n_jobs=None,\n",
       "              num_parallel_tree=None, objective=&#x27;multi:softprob&#x27;, ...)</pre><b>In a Jupyter environment, please rerun this cell to show the HTML representation or trust the notebook. <br />On GitHub, the HTML representation is unable to render, please try loading this page with nbviewer.org.</b></div><div class=\"sk-container\" hidden><div class=\"sk-item\"><div class=\"sk-estimator fitted sk-toggleable\"><input class=\"sk-toggleable__control sk-hidden--visually\" id=\"sk-estimator-id-1\" type=\"checkbox\" checked><label for=\"sk-estimator-id-1\" class=\"sk-toggleable__label fitted sk-toggleable__label-arrow fitted\">&nbsp;XGBClassifier<span class=\"sk-estimator-doc-link fitted\">i<span>Fitted</span></span></label><div class=\"sk-toggleable__content fitted\"><pre>XGBClassifier(base_score=None, booster=None, callbacks=None,\n",
       "              colsample_bylevel=None, colsample_bynode=0.7794856826875709,\n",
       "              colsample_bytree=None, device=None, early_stopping_rounds=None,\n",
       "              enable_categorical=False,\n",
       "              eval_metric=&lt;function custom_f1_score at 0x7f3294e54680&gt;,\n",
       "              feature_types=None, gamma=None, grow_policy=None,\n",
       "              importance_type=None, interaction_constraints=None,\n",
       "              learning_rate=0.49405791386829095, max_bin=None,\n",
       "              max_cat_threshold=None, max_cat_to_onehot=None,\n",
       "              max_delta_step=None, max_depth=4, max_leaves=None,\n",
       "              min_child_weight=1, missing=nan, monotone_constraints=None,\n",
       "              multi_strategy=None, n_estimators=8, n_jobs=None,\n",
       "              num_parallel_tree=None, objective=&#x27;multi:softprob&#x27;, ...)</pre></div> </div></div></div></div>"
      ],
      "text/plain": [
       "XGBClassifier(base_score=None, booster=None, callbacks=None,\n",
       "              colsample_bylevel=None, colsample_bynode=0.7794856826875709,\n",
       "              colsample_bytree=None, device=None, early_stopping_rounds=None,\n",
       "              enable_categorical=False,\n",
       "              eval_metric=<function custom_f1_score at 0x7f3294e54680>,\n",
       "              feature_types=None, gamma=None, grow_policy=None,\n",
       "              importance_type=None, interaction_constraints=None,\n",
       "              learning_rate=0.49405791386829095, max_bin=None,\n",
       "              max_cat_threshold=None, max_cat_to_onehot=None,\n",
       "              max_delta_step=None, max_depth=4, max_leaves=None,\n",
       "              min_child_weight=1, missing=nan, monotone_constraints=None,\n",
       "              multi_strategy=None, n_estimators=8, n_jobs=None,\n",
       "              num_parallel_tree=None, objective='multi:softprob', ...)"
      ]
     },
     "execution_count": 21,
     "metadata": {},
     "output_type": "execute_result"
    }
   ],
   "source": [
    "n_estimators = int(study.best_trial.user_attrs['best_iteration']*1.2)\n",
    "xgb = xgboost.XGBClassifier(\n",
    "        eval_metric=eval_metric,\n",
    "        n_estimators=n_estimators,\n",
    "        **study.best_trial.params\n",
    "    )\n",
    "xgb.fit(\n",
    "    ssp.vstack((X_train, X_val)), \n",
    "    np.concatenate((y_train_enc, y_val_enc)),\n",
    "    verbose=1,\n",
    ")"
   ]
  },
  {
   "cell_type": "code",
   "execution_count": 22,
   "id": "b82e5638",
   "metadata": {
    "execution": {
     "iopub.execute_input": "2025-06-13T13:10:15.302591Z",
     "iopub.status.busy": "2025-06-13T13:10:15.302325Z",
     "iopub.status.idle": "2025-06-13T13:10:15.312999Z",
     "shell.execute_reply": "2025-06-13T13:10:15.312657Z"
    },
    "papermill": {
     "duration": 0.021086,
     "end_time": "2025-06-13T13:10:15.314076",
     "exception": false,
     "start_time": "2025-06-13T13:10:15.292990",
     "status": "completed"
    },
    "tags": []
   },
   "outputs": [
    {
     "data": {
      "text/plain": [
       "['/scratch_isilon/groups/singlecell/shared/projects/Inflammation-PBMCs-Atlas/03_downstream_analysis/08_gene_importance/xgboost_external_validation/xgboost_TopN_genes/results_20/best_model/Plasma_shap_disease_NOstudy_samesize_4_xgb.json']"
      ]
     },
     "execution_count": 22,
     "metadata": {},
     "output_type": "execute_result"
    }
   ],
   "source": [
    "out_dir = here(f'03_downstream_analysis/08_gene_importance/xgboost_external_validation/xgboost_TopN_genes/results_{N_GENES}/best_model')\n",
    "\n",
    "if not os.path.exists(out_dir):\n",
    "    os.makedirs(out_dir)\n",
    "    \n",
    "joblib.dump(xgb, os.path.join(out_dir, f'{CELL_TYPE}_{SEED}_{TEST_SPLIT_IDX}_xgb.json'))"
   ]
  },
  {
   "cell_type": "code",
   "execution_count": 23,
   "id": "b6c8a6b6",
   "metadata": {
    "execution": {
     "iopub.execute_input": "2025-06-13T13:10:15.332263Z",
     "iopub.status.busy": "2025-06-13T13:10:15.332034Z",
     "iopub.status.idle": "2025-06-13T13:10:15.340142Z",
     "shell.execute_reply": "2025-06-13T13:10:15.339811Z"
    },
    "papermill": {
     "duration": 0.022051,
     "end_time": "2025-06-13T13:10:15.344686",
     "exception": false,
     "start_time": "2025-06-13T13:10:15.322635",
     "status": "completed"
    },
    "tags": []
   },
   "outputs": [],
   "source": [
    "df_pred_test = pd.DataFrame(dict(\n",
    "    cell_id=train_adata.obs.iloc[test_idxs].index.values,\n",
    "    y_true=y_test, \n",
    "    y_true_code=y_test_enc, \n",
    "    y_pred=xgb.predict(X_test))).set_index('cell_id')"
   ]
  },
  {
   "cell_type": "code",
   "execution_count": 24,
   "id": "ecd75a5e",
   "metadata": {
    "execution": {
     "iopub.execute_input": "2025-06-13T13:10:15.363912Z",
     "iopub.status.busy": "2025-06-13T13:10:15.363653Z",
     "iopub.status.idle": "2025-06-13T13:10:15.382370Z",
     "shell.execute_reply": "2025-06-13T13:10:15.381988Z"
    },
    "papermill": {
     "duration": 0.029653,
     "end_time": "2025-06-13T13:10:15.383352",
     "exception": false,
     "start_time": "2025-06-13T13:10:15.353699",
     "status": "completed"
    },
    "tags": []
   },
   "outputs": [],
   "source": [
    "out_dir = here(f'03_downstream_analysis/08_gene_importance/xgboost_external_validation/xgboost_TopN_genes/results_{N_GENES}/predictions')\n",
    "\n",
    "if not os.path.exists(out_dir):\n",
    "    os.makedirs(out_dir)\n",
    "    \n",
    "df_pred_test.to_csv(os.path.join(out_dir, f'{CELL_TYPE}_{SEED}_{TEST_SPLIT_IDX}_pred_test.zip'))"
   ]
  },
  {
   "cell_type": "code",
   "execution_count": 25,
   "id": "145ba68e",
   "metadata": {
    "execution": {
     "iopub.execute_input": "2025-06-13T13:10:15.401764Z",
     "iopub.status.busy": "2025-06-13T13:10:15.401440Z",
     "iopub.status.idle": "2025-06-13T13:10:15.406865Z",
     "shell.execute_reply": "2025-06-13T13:10:15.406561Z"
    },
    "papermill": {
     "duration": 0.015638,
     "end_time": "2025-06-13T13:10:15.407727",
     "exception": false,
     "start_time": "2025-06-13T13:10:15.392089",
     "status": "completed"
    },
    "tags": []
   },
   "outputs": [],
   "source": [
    "metrics_dict = dict(\n",
    "    BAS=balanced_accuracy_score(y_true=df_pred_test.y_true_code, y_pred=df_pred_test.y_pred), WF1=f1_score(y_true=df_pred_test.y_true_code, y_pred=df_pred_test.y_pred,average='weighted'))"
   ]
  },
  {
   "cell_type": "code",
   "execution_count": 26,
   "id": "b861024f",
   "metadata": {
    "execution": {
     "iopub.execute_input": "2025-06-13T13:10:15.426353Z",
     "iopub.status.busy": "2025-06-13T13:10:15.426068Z",
     "iopub.status.idle": "2025-06-13T13:10:15.428917Z",
     "shell.execute_reply": "2025-06-13T13:10:15.428612Z"
    },
    "papermill": {
     "duration": 0.013251,
     "end_time": "2025-06-13T13:10:15.429794",
     "exception": false,
     "start_time": "2025-06-13T13:10:15.416543",
     "status": "completed"
    },
    "tags": []
   },
   "outputs": [
    {
     "data": {
      "text/plain": [
       "{'BAS': 0.5029380341880342, 'WF1': 0.6561130310629107}"
      ]
     },
     "execution_count": 26,
     "metadata": {},
     "output_type": "execute_result"
    }
   ],
   "source": [
    "metrics_dict"
   ]
  },
  {
   "cell_type": "code",
   "execution_count": 27,
   "id": "050246e6",
   "metadata": {
    "execution": {
     "iopub.execute_input": "2025-06-13T13:10:15.448217Z",
     "iopub.status.busy": "2025-06-13T13:10:15.447746Z",
     "iopub.status.idle": "2025-06-13T13:10:15.456141Z",
     "shell.execute_reply": "2025-06-13T13:10:15.455786Z"
    },
    "papermill": {
     "duration": 0.018617,
     "end_time": "2025-06-13T13:10:15.456920",
     "exception": false,
     "start_time": "2025-06-13T13:10:15.438303",
     "status": "completed"
    },
    "tags": []
   },
   "outputs": [
    {
     "data": {
      "text/html": [
       "<div>\n",
       "<style scoped>\n",
       "    .dataframe tbody tr th:only-of-type {\n",
       "        vertical-align: middle;\n",
       "    }\n",
       "\n",
       "    .dataframe tbody tr th {\n",
       "        vertical-align: top;\n",
       "    }\n",
       "\n",
       "    .dataframe thead th {\n",
       "        text-align: right;\n",
       "    }\n",
       "</style>\n",
       "<table border=\"1\" class=\"dataframe\">\n",
       "  <thead>\n",
       "    <tr style=\"text-align: right;\">\n",
       "      <th></th>\n",
       "      <th>BAS</th>\n",
       "      <th>WF1</th>\n",
       "      <th>split_idx</th>\n",
       "      <th>gene_set_seed</th>\n",
       "      <th>cell_type</th>\n",
       "    </tr>\n",
       "  </thead>\n",
       "  <tbody>\n",
       "    <tr>\n",
       "      <th>0</th>\n",
       "      <td>0.502938</td>\n",
       "      <td>0.656113</td>\n",
       "      <td>4</td>\n",
       "      <td>shap_disease_NOstudy_samesize</td>\n",
       "      <td>Plasma</td>\n",
       "    </tr>\n",
       "  </tbody>\n",
       "</table>\n",
       "</div>"
      ],
      "text/plain": [
       "        BAS       WF1  split_idx                  gene_set_seed cell_type\n",
       "0  0.502938  0.656113          4  shap_disease_NOstudy_samesize    Plasma"
      ]
     },
     "execution_count": 27,
     "metadata": {},
     "output_type": "execute_result"
    }
   ],
   "source": [
    "metrics_df = pd.DataFrame.from_dict([metrics_dict]).assign(split_idx=TEST_SPLIT_IDX, gene_set_seed=SEED, cell_type=CELL_TYPE)\n",
    "metrics_df"
   ]
  },
  {
   "cell_type": "code",
   "execution_count": 28,
   "id": "f7cca646",
   "metadata": {
    "execution": {
     "iopub.execute_input": "2025-06-13T13:10:15.475554Z",
     "iopub.status.busy": "2025-06-13T13:10:15.475263Z",
     "iopub.status.idle": "2025-06-13T13:10:15.484179Z",
     "shell.execute_reply": "2025-06-13T13:10:15.483830Z"
    },
    "papermill": {
     "duration": 0.01932,
     "end_time": "2025-06-13T13:10:15.485010",
     "exception": false,
     "start_time": "2025-06-13T13:10:15.465690",
     "status": "completed"
    },
    "tags": []
   },
   "outputs": [],
   "source": [
    "out_dir = here(f'03_downstream_analysis/08_gene_importance/xgboost_external_validation/xgboost_TopN_genes/results_{N_GENES}/metrics')\n",
    "\n",
    "if not os.path.exists(out_dir):\n",
    "    os.makedirs(out_dir)\n",
    "    \n",
    "metrics_df.to_csv(os.path.join(out_dir, f'{CELL_TYPE}_{SEED}_{TEST_SPLIT_IDX}_metrics.zip'))"
   ]
  }
 ],
 "metadata": {
  "kernelspec": {
   "display_name": "Python 3 (ipykernel)",
   "language": "python",
   "name": "python3"
  },
  "language_info": {
   "codemirror_mode": {
    "name": "ipython",
    "version": 3
   },
   "file_extension": ".py",
   "mimetype": "text/x-python",
   "name": "python",
   "nbconvert_exporter": "python",
   "pygments_lexer": "ipython3",
   "version": "3.12.5"
  },
  "papermill": {
   "default_parameters": {},
   "duration": 13.623915,
   "end_time": "2025-06-13T13:10:16.008900",
   "environment_variables": {},
   "exception": null,
   "input_path": "02_xgboost_fitting_external_20genes.ipynb",
   "output_path": "results_20/executed_notebooks/xgboost_fitting_external_CT_Plasma_GS_shap_disease_NOstudy_samesize_seed4.ipynb",
   "parameters": {
    "CELL_TYPE": "Plasma",
    "SEED": "shap_disease_NOstudy_samesize",
    "TEST_SPLIT_IDX": 4
   },
   "start_time": "2025-06-13T13:10:02.384985",
   "version": "2.6.0"
  }
 },
 "nbformat": 4,
 "nbformat_minor": 5
}