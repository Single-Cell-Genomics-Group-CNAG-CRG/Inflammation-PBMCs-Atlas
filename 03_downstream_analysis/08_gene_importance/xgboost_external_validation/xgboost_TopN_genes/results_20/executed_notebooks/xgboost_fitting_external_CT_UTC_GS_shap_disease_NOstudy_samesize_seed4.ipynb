{
 "cells": [
  {
   "cell_type": "code",
   "execution_count": 1,
   "id": "ed281b28",
   "metadata": {
    "editable": true,
    "execution": {
     "iopub.execute_input": "2025-06-13T13:07:55.199849Z",
     "iopub.status.busy": "2025-06-13T13:07:55.199438Z",
     "iopub.status.idle": "2025-06-13T13:07:55.203425Z",
     "shell.execute_reply": "2025-06-13T13:07:55.203097Z"
    },
    "papermill": {
     "duration": 0.013592,
     "end_time": "2025-06-13T13:07:55.204667",
     "exception": false,
     "start_time": "2025-06-13T13:07:55.191075",
     "status": "completed"
    },
    "slideshow": {
     "slide_type": ""
    },
    "tags": [
     "parameters"
    ]
   },
   "outputs": [],
   "source": [
    "CELL_TYPE = 'pDC'\n",
    "N_GENES: int = 20\n",
    "SEED = 'shap_studyID' #'disease_NOstudy' 'study_NOdisease' or 'int' or 'shap_studyID'\n",
    "TEST_SPLIT_IDX: int = 1 #[0,4]"
   ]
  },
  {
   "cell_type": "code",
   "execution_count": 2,
   "id": "40f8e598",
   "metadata": {
    "execution": {
     "iopub.execute_input": "2025-06-13T13:07:55.218151Z",
     "iopub.status.busy": "2025-06-13T13:07:55.217864Z",
     "iopub.status.idle": "2025-06-13T13:07:55.221279Z",
     "shell.execute_reply": "2025-06-13T13:07:55.220882Z"
    },
    "papermill": {
     "duration": 0.011748,
     "end_time": "2025-06-13T13:07:55.222557",
     "exception": false,
     "start_time": "2025-06-13T13:07:55.210809",
     "status": "completed"
    },
    "tags": [
     "injected-parameters"
    ]
   },
   "outputs": [],
   "source": [
    "# Parameters\n",
    "CELL_TYPE = \"UTC\"\n",
    "SEED = \"shap_disease_NOstudy_samesize\"\n",
    "TEST_SPLIT_IDX = 4\n"
   ]
  },
  {
   "cell_type": "code",
   "execution_count": 3,
   "id": "48f8cb03",
   "metadata": {
    "execution": {
     "iopub.execute_input": "2025-06-13T13:07:55.235489Z",
     "iopub.status.busy": "2025-06-13T13:07:55.235135Z",
     "iopub.status.idle": "2025-06-13T13:07:55.237370Z",
     "shell.execute_reply": "2025-06-13T13:07:55.237023Z"
    },
    "papermill": {
     "duration": 0.010133,
     "end_time": "2025-06-13T13:07:55.238266",
     "exception": false,
     "start_time": "2025-06-13T13:07:55.228133",
     "status": "completed"
    },
    "tags": []
   },
   "outputs": [],
   "source": [
    "N_SPLITS: int = 5\n",
    "N_TRIALS: int = 50"
   ]
  },
  {
   "cell_type": "code",
   "execution_count": 4,
   "id": "8b178b75",
   "metadata": {
    "execution": {
     "iopub.execute_input": "2025-06-13T13:07:55.251581Z",
     "iopub.status.busy": "2025-06-13T13:07:55.251190Z",
     "iopub.status.idle": "2025-06-13T13:07:57.352448Z",
     "shell.execute_reply": "2025-06-13T13:07:57.351993Z"
    },
    "papermill": {
     "duration": 2.110122,
     "end_time": "2025-06-13T13:07:57.353901",
     "exception": false,
     "start_time": "2025-06-13T13:07:55.243779",
     "status": "completed"
    },
    "tags": []
   },
   "outputs": [],
   "source": [
    "import os\n",
    "import sys\n",
    "from pyprojroot.here import here\n",
    "import pandas as pd\n",
    "import anndata as ad\n",
    "import numpy as np\n",
    "import math\n",
    "from sklearn.model_selection import StratifiedGroupKFold\n",
    "from sklearn.preprocessing import LabelEncoder\n",
    "from sklearn.metrics import f1_score\n",
    "import matplotlib.pyplot as plt\n",
    "import seaborn as sns\n",
    "from itertools import product\n",
    "from sklearn.metrics import balanced_accuracy_score, f1_score\n",
    "import optuna\n",
    "\n",
    "import joblib\n",
    "import pickle\n",
    "import datetime\n",
    "\n",
    "import collections\n",
    "\n",
    "import xgboost\n",
    "from sklearn.preprocessing import LabelEncoder\n",
    "\n",
    "import scipy.sparse as ssp\n",
    "import joblib\n",
    "\n",
    "from dotenv import load_dotenv"
   ]
  },
  {
   "cell_type": "code",
   "execution_count": 5,
   "id": "b71876f1",
   "metadata": {
    "execution": {
     "iopub.execute_input": "2025-06-13T13:07:57.366027Z",
     "iopub.status.busy": "2025-06-13T13:07:57.365505Z",
     "iopub.status.idle": "2025-06-13T13:07:57.371724Z",
     "shell.execute_reply": "2025-06-13T13:07:57.371404Z"
    },
    "papermill": {
     "duration": 0.013111,
     "end_time": "2025-06-13T13:07:57.372532",
     "exception": false,
     "start_time": "2025-06-13T13:07:57.359421",
     "status": "completed"
    },
    "tags": []
   },
   "outputs": [
    {
     "data": {
      "text/plain": [
       "True"
      ]
     },
     "execution_count": 5,
     "metadata": {},
     "output_type": "execute_result"
    }
   ],
   "source": [
    "load_dotenv()"
   ]
  },
  {
   "cell_type": "markdown",
   "id": "efcc0cc8",
   "metadata": {
    "papermill": {
     "duration": 0.005739,
     "end_time": "2025-06-13T13:07:57.383369",
     "exception": false,
     "start_time": "2025-06-13T13:07:57.377630",
     "status": "completed"
    },
    "tags": []
   },
   "source": [
    "# LOAD DATASET"
   ]
  },
  {
   "cell_type": "code",
   "execution_count": 6,
   "id": "58dbe095",
   "metadata": {
    "execution": {
     "iopub.execute_input": "2025-06-13T13:07:57.394997Z",
     "iopub.status.busy": "2025-06-13T13:07:57.394564Z",
     "iopub.status.idle": "2025-06-13T13:07:57.524374Z",
     "shell.execute_reply": "2025-06-13T13:07:57.523951Z"
    },
    "papermill": {
     "duration": 0.136904,
     "end_time": "2025-06-13T13:07:57.525482",
     "exception": false,
     "start_time": "2025-06-13T13:07:57.388578",
     "status": "completed"
    },
    "tags": []
   },
   "outputs": [],
   "source": [
    "train_adata = ad.read_h5ad(\n",
    "    here(f'03_downstream_analysis/08_gene_importance/xgboost_external_validation/xgboost_TopN_genes/data_cellTypes/EXTERNAL_{CELL_TYPE}.filtered.log1p.h5ad')\n",
    ")"
   ]
  },
  {
   "cell_type": "code",
   "execution_count": 7,
   "id": "6cdca4d9",
   "metadata": {
    "execution": {
     "iopub.execute_input": "2025-06-13T13:07:57.537264Z",
     "iopub.status.busy": "2025-06-13T13:07:57.536712Z",
     "iopub.status.idle": "2025-06-13T13:07:57.551056Z",
     "shell.execute_reply": "2025-06-13T13:07:57.550657Z"
    },
    "papermill": {
     "duration": 0.020862,
     "end_time": "2025-06-13T13:07:57.551836",
     "exception": false,
     "start_time": "2025-06-13T13:07:57.530974",
     "status": "completed"
    },
    "tags": []
   },
   "outputs": [
    {
     "name": "stdout",
     "output_type": "stream",
     "text": [
      "['ENSG00000002586' 'ENSG00000005339' 'ENSG00000005844' 'ENSG00000007264'\n",
      " 'ENSG00000015475' 'ENSG00000027697' 'ENSG00000030110' 'ENSG00000030582'\n",
      " 'ENSG00000066136' 'ENSG00000069399' 'ENSG00000071073' 'ENSG00000075624'\n",
      " 'ENSG00000076944' 'ENSG00000077380' 'ENSG00000078596' 'ENSG00000089692'\n",
      " 'ENSG00000099624' 'ENSG00000100280' 'ENSG00000101439' 'ENSG00000104660'\n",
      " 'ENSG00000104671' 'ENSG00000104763' 'ENSG00000105374' 'ENSG00000105835'\n",
      " 'ENSG00000107223' 'ENSG00000107968' 'ENSG00000108622' 'ENSG00000110848'\n",
      " 'ENSG00000112149' 'ENSG00000113732' 'ENSG00000114737' 'ENSG00000115415'\n",
      " 'ENSG00000116171' 'ENSG00000117602' 'ENSG00000117984' 'ENSG00000120837'\n",
      " 'ENSG00000123268' 'ENSG00000125347' 'ENSG00000125534' 'ENSG00000125735'\n",
      " 'ENSG00000125740' 'ENSG00000126561' 'ENSG00000127022' 'ENSG00000127152'\n",
      " 'ENSG00000127184' 'ENSG00000130066' 'ENSG00000130429' 'ENSG00000130522'\n",
      " 'ENSG00000132475' 'ENSG00000132965' 'ENSG00000134545' 'ENSG00000135821'\n",
      " 'ENSG00000137959' 'ENSG00000137965' 'ENSG00000139193' 'ENSG00000140105'\n",
      " 'ENSG00000142089' 'ENSG00000143543' 'ENSG00000143933' 'ENSG00000144746'\n",
      " 'ENSG00000145287' 'ENSG00000145912' 'ENSG00000146278' 'ENSG00000148834'\n",
      " 'ENSG00000149357' 'ENSG00000152518' 'ENSG00000157020' 'ENSG00000158050'\n",
      " 'ENSG00000160213' 'ENSG00000160888' 'ENSG00000161203' 'ENSG00000162368'\n",
      " 'ENSG00000162704' 'ENSG00000162739' 'ENSG00000163191' 'ENSG00000163220'\n",
      " 'ENSG00000163508' 'ENSG00000164543' 'ENSG00000167996' 'ENSG00000169583'\n",
      " 'ENSG00000170345' 'ENSG00000170581' 'ENSG00000172215' 'ENSG00000172349'\n",
      " 'ENSG00000172531' 'ENSG00000175104' 'ENSG00000175203' 'ENSG00000175354'\n",
      " 'ENSG00000175390' 'ENSG00000177606' 'ENSG00000177885' 'ENSG00000179144'\n",
      " 'ENSG00000179218' 'ENSG00000179344' 'ENSG00000181029' 'ENSG00000183486'\n",
      " 'ENSG00000183696' 'ENSG00000185201' 'ENSG00000185338' 'ENSG00000186395'\n",
      " 'ENSG00000187608' 'ENSG00000196154' 'ENSG00000196396' 'ENSG00000197111'\n",
      " 'ENSG00000198502' 'ENSG00000198832' 'ENSG00000204264' 'ENSG00000204267'\n",
      " 'ENSG00000204525' 'ENSG00000204592' 'ENSG00000213145' 'ENSG00000213928'\n",
      " 'ENSG00000234745' 'ENSG00000239697' 'ENSG00000240065' 'ENSG00000243749'\n",
      " 'ENSG00000244687' 'ENSG00000264364' 'ENSG00000276070']\n"
     ]
    }
   ],
   "source": [
    "if SEED != 'all':\n",
    "    gene_subset = np.load(here(f'03_downstream_analysis/08_gene_importance/xgboost_external_validation/shap_gene_selection/gene_subsets_{N_GENES}/{CELL_TYPE}_{SEED}.npy'), allow_pickle=True)\n",
    "    train_adata = train_adata[:,gene_subset]\n",
    "    print(gene_subset)\n",
    "elif SEED == 'all':\n",
    "    print('Using all genes')\n",
    "else:\n",
    "    raise ValueError()"
   ]
  },
  {
   "cell_type": "code",
   "execution_count": 8,
   "id": "46750a56",
   "metadata": {
    "execution": {
     "iopub.execute_input": "2025-06-13T13:07:57.563524Z",
     "iopub.status.busy": "2025-06-13T13:07:57.563110Z",
     "iopub.status.idle": "2025-06-13T13:07:57.566367Z",
     "shell.execute_reply": "2025-06-13T13:07:57.566041Z"
    },
    "papermill": {
     "duration": 0.009732,
     "end_time": "2025-06-13T13:07:57.567149",
     "exception": false,
     "start_time": "2025-06-13T13:07:57.557417",
     "status": "completed"
    },
    "tags": []
   },
   "outputs": [
    {
     "data": {
      "text/plain": [
       "(14828, 119)"
      ]
     },
     "execution_count": 8,
     "metadata": {},
     "output_type": "execute_result"
    }
   ],
   "source": [
    "train_adata.shape"
   ]
  },
  {
   "cell_type": "code",
   "execution_count": 9,
   "id": "6dfbe9f1",
   "metadata": {
    "execution": {
     "iopub.execute_input": "2025-06-13T13:07:57.579087Z",
     "iopub.status.busy": "2025-06-13T13:07:57.578513Z",
     "iopub.status.idle": "2025-06-13T13:07:57.582684Z",
     "shell.execute_reply": "2025-06-13T13:07:57.582376Z"
    },
    "papermill": {
     "duration": 0.010892,
     "end_time": "2025-06-13T13:07:57.583460",
     "exception": false,
     "start_time": "2025-06-13T13:07:57.572568",
     "status": "completed"
    },
    "tags": []
   },
   "outputs": [
    {
     "data": {
      "text/plain": [
       "['RA', 'COVID', 'healthy', 'HIV', 'cirrhosis', 'CD', 'SLE', 'sepsis']\n",
       "Categories (8, object): ['CD', 'COVID', 'HIV', 'RA', 'SLE', 'cirrhosis', 'healthy', 'sepsis']"
      ]
     },
     "execution_count": 9,
     "metadata": {},
     "output_type": "execute_result"
    }
   ],
   "source": [
    "train_adata.obs.disease.unique()"
   ]
  },
  {
   "cell_type": "code",
   "execution_count": 10,
   "id": "28ce52d5",
   "metadata": {
    "execution": {
     "iopub.execute_input": "2025-06-13T13:07:57.594841Z",
     "iopub.status.busy": "2025-06-13T13:07:57.594478Z",
     "iopub.status.idle": "2025-06-13T13:07:57.597997Z",
     "shell.execute_reply": "2025-06-13T13:07:57.597715Z"
    },
    "papermill": {
     "duration": 0.010052,
     "end_time": "2025-06-13T13:07:57.598776",
     "exception": false,
     "start_time": "2025-06-13T13:07:57.588724",
     "status": "completed"
    },
    "tags": []
   },
   "outputs": [
    {
     "data": {
      "text/plain": [
       "['SCGT00val_I0364_T0', 'SCGT00val_I036016_T0', 'SCGT00val_I036021_T0', 'SCGT00val_I036015_T0', 'SCGT00val_I036023_T0', ..., '10XGenomics_10XHC2_T0', '10XGenomics_10XHC3_T0', '10XGenomics_10XHC5_T0', '10XGenomics_10XHC7_T0', '10XGenomics_10XHC8_T0']\n",
       "Length: 86\n",
       "Categories (86, object): ['10XGenomics_10XHC1_T0', '10XGenomics_10XHC2_T0', '10XGenomics_10XHC3_T0', '10XGenomics_10XHC4_T0', ..., 'Savage2021_BRISL6_T0', 'Savage2021_BRISL7_T0', 'Savage2021_PIDA_T0', 'Savage2021_PIDB_T0']"
      ]
     },
     "execution_count": 10,
     "metadata": {},
     "output_type": "execute_result"
    }
   ],
   "source": [
    "train_adata.obs.sampleID.unique()"
   ]
  },
  {
   "cell_type": "code",
   "execution_count": 11,
   "id": "fc116584",
   "metadata": {
    "execution": {
     "iopub.execute_input": "2025-06-13T13:07:57.610284Z",
     "iopub.status.busy": "2025-06-13T13:07:57.609901Z",
     "iopub.status.idle": "2025-06-13T13:07:57.669015Z",
     "shell.execute_reply": "2025-06-13T13:07:57.668633Z"
    },
    "papermill": {
     "duration": 0.066038,
     "end_time": "2025-06-13T13:07:57.669963",
     "exception": false,
     "start_time": "2025-06-13T13:07:57.603925",
     "status": "completed"
    },
    "tags": []
   },
   "outputs": [],
   "source": [
    "all_idxs = np.arange(train_adata.obs.shape[0])\n",
    "left_out_splits = [s[1] for s in StratifiedGroupKFold(n_splits=N_SPLITS).split(all_idxs, train_adata.obs.disease, train_adata.obs.sampleID)]"
   ]
  },
  {
   "cell_type": "code",
   "execution_count": 12,
   "id": "5908363b",
   "metadata": {
    "execution": {
     "iopub.execute_input": "2025-06-13T13:07:57.682943Z",
     "iopub.status.busy": "2025-06-13T13:07:57.682451Z",
     "iopub.status.idle": "2025-06-13T13:07:57.686127Z",
     "shell.execute_reply": "2025-06-13T13:07:57.685810Z"
    },
    "papermill": {
     "duration": 0.010598,
     "end_time": "2025-06-13T13:07:57.686895",
     "exception": false,
     "start_time": "2025-06-13T13:07:57.676297",
     "status": "completed"
    },
    "tags": []
   },
   "outputs": [
    {
     "data": {
      "text/plain": [
       "([1, 2, 3], 0, 4)"
      ]
     },
     "execution_count": 12,
     "metadata": {},
     "output_type": "execute_result"
    }
   ],
   "source": [
    "TRAIN_SPLIT_IDXS = [0,1,2,3,4]\n",
    "VAL_SPLIT_IDX = (TEST_SPLIT_IDX + 1) % 5\n",
    "TRAIN_SPLIT_IDXS.remove(TEST_SPLIT_IDX)\n",
    "TRAIN_SPLIT_IDXS.remove(VAL_SPLIT_IDX)\n",
    "TRAIN_SPLIT_IDXS, VAL_SPLIT_IDX, TEST_SPLIT_IDX"
   ]
  },
  {
   "cell_type": "code",
   "execution_count": 13,
   "id": "b934e907",
   "metadata": {
    "execution": {
     "iopub.execute_input": "2025-06-13T13:07:57.698740Z",
     "iopub.status.busy": "2025-06-13T13:07:57.698279Z",
     "iopub.status.idle": "2025-06-13T13:07:57.700958Z",
     "shell.execute_reply": "2025-06-13T13:07:57.700656Z"
    },
    "papermill": {
     "duration": 0.00939,
     "end_time": "2025-06-13T13:07:57.701718",
     "exception": false,
     "start_time": "2025-06-13T13:07:57.692328",
     "status": "completed"
    },
    "tags": []
   },
   "outputs": [],
   "source": [
    "train_idxs = np.concatenate([left_out_splits[idx] for idx in TRAIN_SPLIT_IDXS])\n",
    "val_idxs = left_out_splits[VAL_SPLIT_IDX]\n",
    "test_idxs = left_out_splits[TEST_SPLIT_IDX]"
   ]
  },
  {
   "cell_type": "markdown",
   "id": "1c6492bd",
   "metadata": {
    "papermill": {
     "duration": 0.005077,
     "end_time": "2025-06-13T13:07:57.712597",
     "exception": false,
     "start_time": "2025-06-13T13:07:57.707520",
     "status": "completed"
    },
    "tags": []
   },
   "source": [
    "### SUBSET DATASET INTO TRAIN/TEST/VAL SPLITS"
   ]
  },
  {
   "cell_type": "code",
   "execution_count": 14,
   "id": "5706789d",
   "metadata": {
    "execution": {
     "iopub.execute_input": "2025-06-13T13:07:57.724556Z",
     "iopub.status.busy": "2025-06-13T13:07:57.724037Z",
     "iopub.status.idle": "2025-06-13T13:07:57.771477Z",
     "shell.execute_reply": "2025-06-13T13:07:57.771129Z"
    },
    "papermill": {
     "duration": 0.054373,
     "end_time": "2025-06-13T13:07:57.772285",
     "exception": false,
     "start_time": "2025-06-13T13:07:57.717912",
     "status": "completed"
    },
    "tags": []
   },
   "outputs": [
    {
     "data": {
      "text/plain": [
       "((9045, 119), (2943, 119), (2840, 119))"
      ]
     },
     "execution_count": 14,
     "metadata": {},
     "output_type": "execute_result"
    }
   ],
   "source": [
    "X_train = train_adata.X[train_idxs]\n",
    "X_test = train_adata.X[test_idxs]\n",
    "X_val = train_adata.X[val_idxs]\n",
    "X_train.shape, X_test.shape, X_val.shape"
   ]
  },
  {
   "cell_type": "code",
   "execution_count": 15,
   "id": "478c5628",
   "metadata": {
    "execution": {
     "iopub.execute_input": "2025-06-13T13:07:57.784437Z",
     "iopub.status.busy": "2025-06-13T13:07:57.783989Z",
     "iopub.status.idle": "2025-06-13T13:07:57.790105Z",
     "shell.execute_reply": "2025-06-13T13:07:57.789774Z"
    },
    "papermill": {
     "duration": 0.013009,
     "end_time": "2025-06-13T13:07:57.790949",
     "exception": false,
     "start_time": "2025-06-13T13:07:57.777940",
     "status": "completed"
    },
    "tags": []
   },
   "outputs": [
    {
     "data": {
      "text/plain": [
       "((9045,), (2943,), (2840,))"
      ]
     },
     "execution_count": 15,
     "metadata": {},
     "output_type": "execute_result"
    }
   ],
   "source": [
    "y_train = train_adata.obs.iloc[train_idxs].disease.values.astype(str)\n",
    "y_test = train_adata.obs.iloc[test_idxs].disease.values.astype(str)\n",
    "y_val = train_adata.obs.iloc[val_idxs].disease.values.astype(str)\n",
    "y_train.shape, y_test.shape, y_val.shape"
   ]
  },
  {
   "cell_type": "code",
   "execution_count": 16,
   "id": "363ed958",
   "metadata": {
    "execution": {
     "iopub.execute_input": "2025-06-13T13:07:57.802916Z",
     "iopub.status.busy": "2025-06-13T13:07:57.802553Z",
     "iopub.status.idle": "2025-06-13T13:07:57.808483Z",
     "shell.execute_reply": "2025-06-13T13:07:57.808103Z"
    },
    "papermill": {
     "duration": 0.012899,
     "end_time": "2025-06-13T13:07:57.809333",
     "exception": false,
     "start_time": "2025-06-13T13:07:57.796434",
     "status": "completed"
    },
    "tags": []
   },
   "outputs": [],
   "source": [
    "lenc = LabelEncoder()\n",
    "y_train_enc = lenc.fit_transform(y_train)\n",
    "y_val_enc = lenc.transform(y_val)\n",
    "y_test_enc = lenc.transform(y_test)"
   ]
  },
  {
   "cell_type": "markdown",
   "id": "630515ff",
   "metadata": {
    "papermill": {
     "duration": 0.005435,
     "end_time": "2025-06-13T13:07:57.820206",
     "exception": false,
     "start_time": "2025-06-13T13:07:57.814771",
     "status": "completed"
    },
    "tags": []
   },
   "source": [
    "### GENERATE F1 "
   ]
  },
  {
   "cell_type": "code",
   "execution_count": 17,
   "id": "64fe504c",
   "metadata": {
    "execution": {
     "iopub.execute_input": "2025-06-13T13:07:57.833548Z",
     "iopub.status.busy": "2025-06-13T13:07:57.833111Z",
     "iopub.status.idle": "2025-06-13T13:07:57.835789Z",
     "shell.execute_reply": "2025-06-13T13:07:57.835385Z"
    },
    "papermill": {
     "duration": 0.0108,
     "end_time": "2025-06-13T13:07:57.836894",
     "exception": false,
     "start_time": "2025-06-13T13:07:57.826094",
     "status": "completed"
    },
    "tags": []
   },
   "outputs": [],
   "source": [
    "def custom_f1_score(y_true, y_pred):\n",
    "    return -f1_score(y_true, y_pred.argmax(1), average='weighted')"
   ]
  },
  {
   "cell_type": "code",
   "execution_count": 18,
   "id": "46bef5bd",
   "metadata": {
    "execution": {
     "iopub.execute_input": "2025-06-13T13:07:57.855528Z",
     "iopub.status.busy": "2025-06-13T13:07:57.855143Z",
     "iopub.status.idle": "2025-06-13T13:07:57.858854Z",
     "shell.execute_reply": "2025-06-13T13:07:57.858552Z"
    },
    "papermill": {
     "duration": 0.010808,
     "end_time": "2025-06-13T13:07:57.859650",
     "exception": false,
     "start_time": "2025-06-13T13:07:57.848842",
     "status": "completed"
    },
    "tags": []
   },
   "outputs": [],
   "source": [
    "eval_metric=custom_f1_score\n",
    "eval_metric_name='custom_f1_score'\n",
    "\n",
    "def objective(trial):\n",
    "    params = {\n",
    "        'n_estimators': 1500,\n",
    "        'max_depth': trial.suggest_int('max_depth', 3, 20),\n",
    "        'min_child_weight': trial.suggest_int('min_child_weight', 1, 250),\n",
    "        'subsample': trial.suggest_float('subsample', 0.1, 1.0),\n",
    "        'colsample_bynode': trial.suggest_float('colsample_bynode', 0.1, 1.0),\n",
    "        'learning_rate': trial.suggest_float('learning_rate', 1e-3, 5e-1, log=True),\n",
    "    }\n",
    "    pruning_callback = optuna.integration.XGBoostPruningCallback(trial, f'validation_0-{eval_metric_name}')\n",
    "    es_callback = xgboost.callback.EarlyStopping(20, min_delta=0.001)\n",
    "    xgb = xgboost.XGBClassifier(\n",
    "        eval_metric=eval_metric,\n",
    "        callbacks=[pruning_callback, es_callback],\n",
    "        n_jobs=5,\n",
    "        **params\n",
    "    )\n",
    "    xgb.fit(\n",
    "        X_train, \n",
    "        y_train_enc, \n",
    "        verbose=0,\n",
    "        eval_set=[(X_val, y_val_enc)],\n",
    "    )\n",
    "    trial.set_user_attr('best_iteration', xgb.best_iteration)\n",
    "\n",
    "    return xgb.best_score"
   ]
  },
  {
   "cell_type": "code",
   "execution_count": 19,
   "id": "124dcc65",
   "metadata": {
    "execution": {
     "iopub.execute_input": "2025-06-13T13:07:57.870901Z",
     "iopub.status.busy": "2025-06-13T13:07:57.870626Z",
     "iopub.status.idle": "2025-06-13T13:08:25.091238Z",
     "shell.execute_reply": "2025-06-13T13:08:25.090835Z"
    },
    "papermill": {
     "duration": 27.227215,
     "end_time": "2025-06-13T13:08:25.092136",
     "exception": false,
     "start_time": "2025-06-13T13:07:57.864921",
     "status": "completed"
    },
    "scrolled": true,
    "tags": []
   },
   "outputs": [
    {
     "name": "stderr",
     "output_type": "stream",
     "text": [
      "[I 2025-06-13 15:07:57,872] A new study created in memory with name: no-name-484e8bf4-e565-4f90-8d5b-5f9d6ac69242\n"
     ]
    },
    {
     "name": "stderr",
     "output_type": "stream",
     "text": [
      "[I 2025-06-13 15:07:58,756] Trial 0 finished with value: -0.692923 and parameters: {'max_depth': 9, 'min_child_weight': 238, 'subsample': 0.7587945476302645, 'colsample_bynode': 0.6387926357773329, 'learning_rate': 0.0026368755339723046}. Best is trial 0 with value: -0.692923.\n"
     ]
    },
    {
     "name": "stderr",
     "output_type": "stream",
     "text": [
      "[I 2025-06-13 15:07:59,895] Trial 1 finished with value: -0.736064 and parameters: {'max_depth': 5, 'min_child_weight': 15, 'subsample': 0.8795585311974417, 'colsample_bynode': 0.6410035105688879, 'learning_rate': 0.08148293210105287}. Best is trial 1 with value: -0.736064.\n"
     ]
    },
    {
     "name": "stderr",
     "output_type": "stream",
     "text": [
      "[I 2025-06-13 15:08:00,735] Trial 2 finished with value: -0.71895 and parameters: {'max_depth': 3, 'min_child_weight': 243, 'subsample': 0.8491983767203796, 'colsample_bynode': 0.29110519961044856, 'learning_rate': 0.003095566460242371}. Best is trial 1 with value: -0.736064.\n"
     ]
    },
    {
     "name": "stderr",
     "output_type": "stream",
     "text": [
      "[I 2025-06-13 15:08:01,665] Trial 3 finished with value: -0.713066 and parameters: {'max_depth': 6, 'min_child_weight': 77, 'subsample': 0.5722807884690141, 'colsample_bynode': 0.48875051677790415, 'learning_rate': 0.006109683510122491}. Best is trial 1 with value: -0.736064.\n"
     ]
    },
    {
     "name": "stderr",
     "output_type": "stream",
     "text": [
      "[I 2025-06-13 15:08:03,207] Trial 4 finished with value: -0.747436 and parameters: {'max_depth': 14, 'min_child_weight': 35, 'subsample': 0.3629301836816964, 'colsample_bynode': 0.4297256589643226, 'learning_rate': 0.01701841881702917}. Best is trial 4 with value: -0.747436.\n"
     ]
    },
    {
     "name": "stderr",
     "output_type": "stream",
     "text": [
      "[I 2025-06-13 15:08:03,358] Trial 5 pruned. Trial was pruned at iteration 0.\n"
     ]
    },
    {
     "name": "stderr",
     "output_type": "stream",
     "text": [
      "[I 2025-06-13 15:08:03,495] Trial 6 pruned. Trial was pruned at iteration 0.\n"
     ]
    },
    {
     "name": "stderr",
     "output_type": "stream",
     "text": [
      "[I 2025-06-13 15:08:03,622] Trial 7 pruned. Trial was pruned at iteration 0.\n"
     ]
    },
    {
     "name": "stderr",
     "output_type": "stream",
     "text": [
      "[I 2025-06-13 15:08:03,744] Trial 8 pruned. Trial was pruned at iteration 0.\n"
     ]
    },
    {
     "name": "stderr",
     "output_type": "stream",
     "text": [
      "[I 2025-06-13 15:08:03,881] Trial 9 pruned. Trial was pruned at iteration 0.\n"
     ]
    },
    {
     "name": "stderr",
     "output_type": "stream",
     "text": [
      "[I 2025-06-13 15:08:04,021] Trial 10 pruned. Trial was pruned at iteration 0.\n"
     ]
    },
    {
     "name": "stderr",
     "output_type": "stream",
     "text": [
      "[I 2025-06-13 15:08:07,509] Trial 11 finished with value: -0.741397 and parameters: {'max_depth': 10, 'min_child_weight': 3, 'subsample': 0.9785259098721957, 'colsample_bynode': 0.40131565860091256, 'learning_rate': 0.08587379144532957}. Best is trial 4 with value: -0.747436.\n"
     ]
    },
    {
     "name": "stderr",
     "output_type": "stream",
     "text": [
      "[I 2025-06-13 15:08:07,730] Trial 12 pruned. Trial was pruned at iteration 0.\n"
     ]
    },
    {
     "name": "stderr",
     "output_type": "stream",
     "text": [
      "[I 2025-06-13 15:08:07,879] Trial 13 pruned. Trial was pruned at iteration 0.\n"
     ]
    },
    {
     "name": "stderr",
     "output_type": "stream",
     "text": [
      "[I 2025-06-13 15:08:08,759] Trial 14 finished with value: -0.777971 and parameters: {'max_depth': 15, 'min_child_weight': 35, 'subsample': 0.40296097366910544, 'colsample_bynode': 0.1883312143756394, 'learning_rate': 0.013322475641349621}. Best is trial 14 with value: -0.777971.\n"
     ]
    },
    {
     "name": "stderr",
     "output_type": "stream",
     "text": [
      "[I 2025-06-13 15:08:08,899] Trial 15 pruned. Trial was pruned at iteration 0.\n"
     ]
    },
    {
     "name": "stderr",
     "output_type": "stream",
     "text": [
      "[I 2025-06-13 15:08:09,045] Trial 16 pruned. Trial was pruned at iteration 0.\n"
     ]
    },
    {
     "name": "stderr",
     "output_type": "stream",
     "text": [
      "[I 2025-06-13 15:08:09,181] Trial 17 pruned. Trial was pruned at iteration 0.\n"
     ]
    },
    {
     "name": "stderr",
     "output_type": "stream",
     "text": [
      "[I 2025-06-13 15:08:09,361] Trial 18 pruned. Trial was pruned at iteration 1.\n"
     ]
    },
    {
     "name": "stderr",
     "output_type": "stream",
     "text": [
      "[I 2025-06-13 15:08:09,507] Trial 19 pruned. Trial was pruned at iteration 0.\n"
     ]
    },
    {
     "name": "stderr",
     "output_type": "stream",
     "text": [
      "[I 2025-06-13 15:08:09,650] Trial 20 pruned. Trial was pruned at iteration 0.\n"
     ]
    },
    {
     "name": "stderr",
     "output_type": "stream",
     "text": [
      "[I 2025-06-13 15:08:09,966] Trial 21 pruned. Trial was pruned at iteration 0.\n"
     ]
    },
    {
     "name": "stderr",
     "output_type": "stream",
     "text": [
      "[I 2025-06-13 15:08:11,013] Trial 22 finished with value: -0.758975 and parameters: {'max_depth': 11, 'min_child_weight': 25, 'subsample': 0.4915848193937061, 'colsample_bynode': 0.33282759705047693, 'learning_rate': 0.09186165867110424}. Best is trial 14 with value: -0.777971.\n"
     ]
    },
    {
     "name": "stderr",
     "output_type": "stream",
     "text": [
      "[I 2025-06-13 15:08:11,183] Trial 23 pruned. Trial was pruned at iteration 0.\n"
     ]
    },
    {
     "name": "stderr",
     "output_type": "stream",
     "text": [
      "[I 2025-06-13 15:08:11,326] Trial 24 pruned. Trial was pruned at iteration 0.\n"
     ]
    },
    {
     "name": "stderr",
     "output_type": "stream",
     "text": [
      "[I 2025-06-13 15:08:11,703] Trial 25 pruned. Trial was pruned at iteration 7.\n"
     ]
    },
    {
     "name": "stderr",
     "output_type": "stream",
     "text": [
      "[I 2025-06-13 15:08:11,847] Trial 26 pruned. Trial was pruned at iteration 0.\n"
     ]
    },
    {
     "name": "stderr",
     "output_type": "stream",
     "text": [
      "[I 2025-06-13 15:08:11,990] Trial 27 pruned. Trial was pruned at iteration 0.\n"
     ]
    },
    {
     "name": "stderr",
     "output_type": "stream",
     "text": [
      "[I 2025-06-13 15:08:12,134] Trial 28 pruned. Trial was pruned at iteration 0.\n"
     ]
    },
    {
     "name": "stderr",
     "output_type": "stream",
     "text": [
      "[I 2025-06-13 15:08:12,271] Trial 29 pruned. Trial was pruned at iteration 0.\n"
     ]
    },
    {
     "name": "stderr",
     "output_type": "stream",
     "text": [
      "[I 2025-06-13 15:08:13,926] Trial 30 finished with value: -0.764384 and parameters: {'max_depth': 9, 'min_child_weight': 22, 'subsample': 0.7315242253226676, 'colsample_bynode': 0.24688516078629302, 'learning_rate': 0.005329683199404427}. Best is trial 14 with value: -0.777971.\n"
     ]
    },
    {
     "name": "stderr",
     "output_type": "stream",
     "text": [
      "[I 2025-06-13 15:08:15,724] Trial 31 finished with value: -0.764253 and parameters: {'max_depth': 9, 'min_child_weight': 23, 'subsample': 0.7319909944379982, 'colsample_bynode': 0.24331970385082502, 'learning_rate': 0.004317647528879312}. Best is trial 14 with value: -0.777971.\n"
     ]
    },
    {
     "name": "stderr",
     "output_type": "stream",
     "text": [
      "[I 2025-06-13 15:08:15,893] Trial 32 pruned. Trial was pruned at iteration 0.\n"
     ]
    },
    {
     "name": "stderr",
     "output_type": "stream",
     "text": [
      "[I 2025-06-13 15:08:17,107] Trial 33 finished with value: -0.77254 and parameters: {'max_depth': 7, 'min_child_weight': 18, 'subsample': 0.8141390440642902, 'colsample_bynode': 0.1733253185278428, 'learning_rate': 0.004933841804223371}. Best is trial 14 with value: -0.777971.\n"
     ]
    },
    {
     "name": "stderr",
     "output_type": "stream",
     "text": [
      "[I 2025-06-13 15:08:17,262] Trial 34 pruned. Trial was pruned at iteration 0.\n"
     ]
    },
    {
     "name": "stderr",
     "output_type": "stream",
     "text": [
      "[I 2025-06-13 15:08:17,412] Trial 35 pruned. Trial was pruned at iteration 0.\n"
     ]
    },
    {
     "name": "stderr",
     "output_type": "stream",
     "text": [
      "[I 2025-06-13 15:08:17,557] Trial 36 pruned. Trial was pruned at iteration 0.\n"
     ]
    },
    {
     "name": "stderr",
     "output_type": "stream",
     "text": [
      "[I 2025-06-13 15:08:19,738] Trial 37 finished with value: -0.768934 and parameters: {'max_depth': 9, 'min_child_weight': 12, 'subsample': 0.879551652779598, 'colsample_bynode': 0.14880921587115362, 'learning_rate': 0.0065184930235393295}. Best is trial 14 with value: -0.777971.\n"
     ]
    },
    {
     "name": "stderr",
     "output_type": "stream",
     "text": [
      "[I 2025-06-13 15:08:19,876] Trial 38 pruned. Trial was pruned at iteration 0.\n"
     ]
    },
    {
     "name": "stderr",
     "output_type": "stream",
     "text": [
      "[I 2025-06-13 15:08:20,686] Trial 39 finished with value: -0.785419 and parameters: {'max_depth': 6, 'min_child_weight': 45, 'subsample': 0.8330062617201914, 'colsample_bynode': 0.15796741683206755, 'learning_rate': 0.0023964328271466316}. Best is trial 39 with value: -0.785419.\n"
     ]
    },
    {
     "name": "stderr",
     "output_type": "stream",
     "text": [
      "[I 2025-06-13 15:08:20,840] Trial 40 pruned. Trial was pruned at iteration 0.\n"
     ]
    },
    {
     "name": "stderr",
     "output_type": "stream",
     "text": [
      "[I 2025-06-13 15:08:21,000] Trial 41 pruned. Trial was pruned at iteration 0.\n"
     ]
    },
    {
     "name": "stderr",
     "output_type": "stream",
     "text": [
      "[I 2025-06-13 15:08:21,173] Trial 42 pruned. Trial was pruned at iteration 0.\n"
     ]
    },
    {
     "name": "stderr",
     "output_type": "stream",
     "text": [
      "[I 2025-06-13 15:08:21,536] Trial 43 pruned. Trial was pruned at iteration 7.\n"
     ]
    },
    {
     "name": "stderr",
     "output_type": "stream",
     "text": [
      "[I 2025-06-13 15:08:22,449] Trial 44 finished with value: -0.771602 and parameters: {'max_depth': 7, 'min_child_weight': 50, 'subsample': 0.8608492788477633, 'colsample_bynode': 0.10874444023550452, 'learning_rate': 0.0035661722027976535}. Best is trial 39 with value: -0.785419.\n"
     ]
    },
    {
     "name": "stderr",
     "output_type": "stream",
     "text": [
      "[I 2025-06-13 15:08:24,420] Trial 45 finished with value: -0.774986 and parameters: {'max_depth': 7, 'min_child_weight': 54, 'subsample': 0.8613393502751836, 'colsample_bynode': 0.10931359507218663, 'learning_rate': 0.0014943860891019896}. Best is trial 39 with value: -0.785419.\n"
     ]
    },
    {
     "name": "stderr",
     "output_type": "stream",
     "text": [
      "[I 2025-06-13 15:08:24,563] Trial 46 pruned. Trial was pruned at iteration 0.\n"
     ]
    },
    {
     "name": "stderr",
     "output_type": "stream",
     "text": [
      "[I 2025-06-13 15:08:24,724] Trial 47 pruned. Trial was pruned at iteration 0.\n"
     ]
    },
    {
     "name": "stderr",
     "output_type": "stream",
     "text": [
      "[I 2025-06-13 15:08:24,871] Trial 48 pruned. Trial was pruned at iteration 0.\n"
     ]
    },
    {
     "name": "stderr",
     "output_type": "stream",
     "text": [
      "[I 2025-06-13 15:08:25,013] Trial 49 pruned. Trial was pruned at iteration 0.\n"
     ]
    }
   ],
   "source": [
    "sampler = optuna.samplers.TPESampler(seed=42)\n",
    "study = optuna.create_study(direction='minimize', sampler=sampler)\n",
    "study.optimize(objective, n_trials=N_TRIALS, gc_after_trial=True)"
   ]
  },
  {
   "cell_type": "code",
   "execution_count": 20,
   "id": "fd774979",
   "metadata": {
    "execution": {
     "iopub.execute_input": "2025-06-13T13:08:25.111613Z",
     "iopub.status.busy": "2025-06-13T13:08:25.111468Z",
     "iopub.status.idle": "2025-06-13T13:08:25.131073Z",
     "shell.execute_reply": "2025-06-13T13:08:25.130770Z"
    },
    "papermill": {
     "duration": 0.030013,
     "end_time": "2025-06-13T13:08:25.131916",
     "exception": false,
     "start_time": "2025-06-13T13:08:25.101903",
     "status": "completed"
    },
    "tags": []
   },
   "outputs": [
    {
     "data": {
      "text/plain": [
       "['/scratch_isilon/groups/singlecell/shared/projects/Inflammation-PBMCs-Atlas/03_downstream_analysis/08_gene_importance/xgboost_external_validation/xgboost_TopN_genes/results_20/study/UTC_shap_disease_NOstudy_samesize_4_xgboost.pkl']"
      ]
     },
     "execution_count": 20,
     "metadata": {},
     "output_type": "execute_result"
    }
   ],
   "source": [
    "out_dir = here(f'03_downstream_analysis/08_gene_importance/xgboost_external_validation/xgboost_TopN_genes/results_{N_GENES}/study')\n",
    "\n",
    "if not os.path.exists(out_dir):\n",
    "    os.makedirs(out_dir)\n",
    "    \n",
    "joblib.dump(study,os.path.join(out_dir, f'{CELL_TYPE}_{SEED}_{TEST_SPLIT_IDX}_xgboost.pkl'))"
   ]
  },
  {
   "cell_type": "code",
   "execution_count": 21,
   "id": "dfa6c28a",
   "metadata": {
    "execution": {
     "iopub.execute_input": "2025-06-13T13:08:25.149825Z",
     "iopub.status.busy": "2025-06-13T13:08:25.149544Z",
     "iopub.status.idle": "2025-06-13T13:08:25.344188Z",
     "shell.execute_reply": "2025-06-13T13:08:25.343838Z"
    },
    "papermill": {
     "duration": 0.204525,
     "end_time": "2025-06-13T13:08:25.345026",
     "exception": false,
     "start_time": "2025-06-13T13:08:25.140501",
     "status": "completed"
    },
    "tags": []
   },
   "outputs": [
    {
     "data": {
      "text/html": [
       "<style>#sk-container-id-1 {\n",
       "  /* Definition of color scheme common for light and dark mode */\n",
       "  --sklearn-color-text: black;\n",
       "  --sklearn-color-line: gray;\n",
       "  /* Definition of color scheme for unfitted estimators */\n",
       "  --sklearn-color-unfitted-level-0: #fff5e6;\n",
       "  --sklearn-color-unfitted-level-1: #f6e4d2;\n",
       "  --sklearn-color-unfitted-level-2: #ffe0b3;\n",
       "  --sklearn-color-unfitted-level-3: chocolate;\n",
       "  /* Definition of color scheme for fitted estimators */\n",
       "  --sklearn-color-fitted-level-0: #f0f8ff;\n",
       "  --sklearn-color-fitted-level-1: #d4ebff;\n",
       "  --sklearn-color-fitted-level-2: #b3dbfd;\n",
       "  --sklearn-color-fitted-level-3: cornflowerblue;\n",
       "\n",
       "  /* Specific color for light theme */\n",
       "  --sklearn-color-text-on-default-background: var(--sg-text-color, var(--theme-code-foreground, var(--jp-content-font-color1, black)));\n",
       "  --sklearn-color-background: var(--sg-background-color, var(--theme-background, var(--jp-layout-color0, white)));\n",
       "  --sklearn-color-border-box: var(--sg-text-color, var(--theme-code-foreground, var(--jp-content-font-color1, black)));\n",
       "  --sklearn-color-icon: #696969;\n",
       "\n",
       "  @media (prefers-color-scheme: dark) {\n",
       "    /* Redefinition of color scheme for dark theme */\n",
       "    --sklearn-color-text-on-default-background: var(--sg-text-color, var(--theme-code-foreground, var(--jp-content-font-color1, white)));\n",
       "    --sklearn-color-background: var(--sg-background-color, var(--theme-background, var(--jp-layout-color0, #111)));\n",
       "    --sklearn-color-border-box: var(--sg-text-color, var(--theme-code-foreground, var(--jp-content-font-color1, white)));\n",
       "    --sklearn-color-icon: #878787;\n",
       "  }\n",
       "}\n",
       "\n",
       "#sk-container-id-1 {\n",
       "  color: var(--sklearn-color-text);\n",
       "}\n",
       "\n",
       "#sk-container-id-1 pre {\n",
       "  padding: 0;\n",
       "}\n",
       "\n",
       "#sk-container-id-1 input.sk-hidden--visually {\n",
       "  border: 0;\n",
       "  clip: rect(1px 1px 1px 1px);\n",
       "  clip: rect(1px, 1px, 1px, 1px);\n",
       "  height: 1px;\n",
       "  margin: -1px;\n",
       "  overflow: hidden;\n",
       "  padding: 0;\n",
       "  position: absolute;\n",
       "  width: 1px;\n",
       "}\n",
       "\n",
       "#sk-container-id-1 div.sk-dashed-wrapped {\n",
       "  border: 1px dashed var(--sklearn-color-line);\n",
       "  margin: 0 0.4em 0.5em 0.4em;\n",
       "  box-sizing: border-box;\n",
       "  padding-bottom: 0.4em;\n",
       "  background-color: var(--sklearn-color-background);\n",
       "}\n",
       "\n",
       "#sk-container-id-1 div.sk-container {\n",
       "  /* jupyter's `normalize.less` sets `[hidden] { display: none; }`\n",
       "     but bootstrap.min.css set `[hidden] { display: none !important; }`\n",
       "     so we also need the `!important` here to be able to override the\n",
       "     default hidden behavior on the sphinx rendered scikit-learn.org.\n",
       "     See: https://github.com/scikit-learn/scikit-learn/issues/21755 */\n",
       "  display: inline-block !important;\n",
       "  position: relative;\n",
       "}\n",
       "\n",
       "#sk-container-id-1 div.sk-text-repr-fallback {\n",
       "  display: none;\n",
       "}\n",
       "\n",
       "div.sk-parallel-item,\n",
       "div.sk-serial,\n",
       "div.sk-item {\n",
       "  /* draw centered vertical line to link estimators */\n",
       "  background-image: linear-gradient(var(--sklearn-color-text-on-default-background), var(--sklearn-color-text-on-default-background));\n",
       "  background-size: 2px 100%;\n",
       "  background-repeat: no-repeat;\n",
       "  background-position: center center;\n",
       "}\n",
       "\n",
       "/* Parallel-specific style estimator block */\n",
       "\n",
       "#sk-container-id-1 div.sk-parallel-item::after {\n",
       "  content: \"\";\n",
       "  width: 100%;\n",
       "  border-bottom: 2px solid var(--sklearn-color-text-on-default-background);\n",
       "  flex-grow: 1;\n",
       "}\n",
       "\n",
       "#sk-container-id-1 div.sk-parallel {\n",
       "  display: flex;\n",
       "  align-items: stretch;\n",
       "  justify-content: center;\n",
       "  background-color: var(--sklearn-color-background);\n",
       "  position: relative;\n",
       "}\n",
       "\n",
       "#sk-container-id-1 div.sk-parallel-item {\n",
       "  display: flex;\n",
       "  flex-direction: column;\n",
       "}\n",
       "\n",
       "#sk-container-id-1 div.sk-parallel-item:first-child::after {\n",
       "  align-self: flex-end;\n",
       "  width: 50%;\n",
       "}\n",
       "\n",
       "#sk-container-id-1 div.sk-parallel-item:last-child::after {\n",
       "  align-self: flex-start;\n",
       "  width: 50%;\n",
       "}\n",
       "\n",
       "#sk-container-id-1 div.sk-parallel-item:only-child::after {\n",
       "  width: 0;\n",
       "}\n",
       "\n",
       "/* Serial-specific style estimator block */\n",
       "\n",
       "#sk-container-id-1 div.sk-serial {\n",
       "  display: flex;\n",
       "  flex-direction: column;\n",
       "  align-items: center;\n",
       "  background-color: var(--sklearn-color-background);\n",
       "  padding-right: 1em;\n",
       "  padding-left: 1em;\n",
       "}\n",
       "\n",
       "\n",
       "/* Toggleable style: style used for estimator/Pipeline/ColumnTransformer box that is\n",
       "clickable and can be expanded/collapsed.\n",
       "- Pipeline and ColumnTransformer use this feature and define the default style\n",
       "- Estimators will overwrite some part of the style using the `sk-estimator` class\n",
       "*/\n",
       "\n",
       "/* Pipeline and ColumnTransformer style (default) */\n",
       "\n",
       "#sk-container-id-1 div.sk-toggleable {\n",
       "  /* Default theme specific background. It is overwritten whether we have a\n",
       "  specific estimator or a Pipeline/ColumnTransformer */\n",
       "  background-color: var(--sklearn-color-background);\n",
       "}\n",
       "\n",
       "/* Toggleable label */\n",
       "#sk-container-id-1 label.sk-toggleable__label {\n",
       "  cursor: pointer;\n",
       "  display: block;\n",
       "  width: 100%;\n",
       "  margin-bottom: 0;\n",
       "  padding: 0.5em;\n",
       "  box-sizing: border-box;\n",
       "  text-align: center;\n",
       "}\n",
       "\n",
       "#sk-container-id-1 label.sk-toggleable__label-arrow:before {\n",
       "  /* Arrow on the left of the label */\n",
       "  content: \"▸\";\n",
       "  float: left;\n",
       "  margin-right: 0.25em;\n",
       "  color: var(--sklearn-color-icon);\n",
       "}\n",
       "\n",
       "#sk-container-id-1 label.sk-toggleable__label-arrow:hover:before {\n",
       "  color: var(--sklearn-color-text);\n",
       "}\n",
       "\n",
       "/* Toggleable content - dropdown */\n",
       "\n",
       "#sk-container-id-1 div.sk-toggleable__content {\n",
       "  max-height: 0;\n",
       "  max-width: 0;\n",
       "  overflow: hidden;\n",
       "  text-align: left;\n",
       "  /* unfitted */\n",
       "  background-color: var(--sklearn-color-unfitted-level-0);\n",
       "}\n",
       "\n",
       "#sk-container-id-1 div.sk-toggleable__content.fitted {\n",
       "  /* fitted */\n",
       "  background-color: var(--sklearn-color-fitted-level-0);\n",
       "}\n",
       "\n",
       "#sk-container-id-1 div.sk-toggleable__content pre {\n",
       "  margin: 0.2em;\n",
       "  border-radius: 0.25em;\n",
       "  color: var(--sklearn-color-text);\n",
       "  /* unfitted */\n",
       "  background-color: var(--sklearn-color-unfitted-level-0);\n",
       "}\n",
       "\n",
       "#sk-container-id-1 div.sk-toggleable__content.fitted pre {\n",
       "  /* unfitted */\n",
       "  background-color: var(--sklearn-color-fitted-level-0);\n",
       "}\n",
       "\n",
       "#sk-container-id-1 input.sk-toggleable__control:checked~div.sk-toggleable__content {\n",
       "  /* Expand drop-down */\n",
       "  max-height: 200px;\n",
       "  max-width: 100%;\n",
       "  overflow: auto;\n",
       "}\n",
       "\n",
       "#sk-container-id-1 input.sk-toggleable__control:checked~label.sk-toggleable__label-arrow:before {\n",
       "  content: \"▾\";\n",
       "}\n",
       "\n",
       "/* Pipeline/ColumnTransformer-specific style */\n",
       "\n",
       "#sk-container-id-1 div.sk-label input.sk-toggleable__control:checked~label.sk-toggleable__label {\n",
       "  color: var(--sklearn-color-text);\n",
       "  background-color: var(--sklearn-color-unfitted-level-2);\n",
       "}\n",
       "\n",
       "#sk-container-id-1 div.sk-label.fitted input.sk-toggleable__control:checked~label.sk-toggleable__label {\n",
       "  background-color: var(--sklearn-color-fitted-level-2);\n",
       "}\n",
       "\n",
       "/* Estimator-specific style */\n",
       "\n",
       "/* Colorize estimator box */\n",
       "#sk-container-id-1 div.sk-estimator input.sk-toggleable__control:checked~label.sk-toggleable__label {\n",
       "  /* unfitted */\n",
       "  background-color: var(--sklearn-color-unfitted-level-2);\n",
       "}\n",
       "\n",
       "#sk-container-id-1 div.sk-estimator.fitted input.sk-toggleable__control:checked~label.sk-toggleable__label {\n",
       "  /* fitted */\n",
       "  background-color: var(--sklearn-color-fitted-level-2);\n",
       "}\n",
       "\n",
       "#sk-container-id-1 div.sk-label label.sk-toggleable__label,\n",
       "#sk-container-id-1 div.sk-label label {\n",
       "  /* The background is the default theme color */\n",
       "  color: var(--sklearn-color-text-on-default-background);\n",
       "}\n",
       "\n",
       "/* On hover, darken the color of the background */\n",
       "#sk-container-id-1 div.sk-label:hover label.sk-toggleable__label {\n",
       "  color: var(--sklearn-color-text);\n",
       "  background-color: var(--sklearn-color-unfitted-level-2);\n",
       "}\n",
       "\n",
       "/* Label box, darken color on hover, fitted */\n",
       "#sk-container-id-1 div.sk-label.fitted:hover label.sk-toggleable__label.fitted {\n",
       "  color: var(--sklearn-color-text);\n",
       "  background-color: var(--sklearn-color-fitted-level-2);\n",
       "}\n",
       "\n",
       "/* Estimator label */\n",
       "\n",
       "#sk-container-id-1 div.sk-label label {\n",
       "  font-family: monospace;\n",
       "  font-weight: bold;\n",
       "  display: inline-block;\n",
       "  line-height: 1.2em;\n",
       "}\n",
       "\n",
       "#sk-container-id-1 div.sk-label-container {\n",
       "  text-align: center;\n",
       "}\n",
       "\n",
       "/* Estimator-specific */\n",
       "#sk-container-id-1 div.sk-estimator {\n",
       "  font-family: monospace;\n",
       "  border: 1px dotted var(--sklearn-color-border-box);\n",
       "  border-radius: 0.25em;\n",
       "  box-sizing: border-box;\n",
       "  margin-bottom: 0.5em;\n",
       "  /* unfitted */\n",
       "  background-color: var(--sklearn-color-unfitted-level-0);\n",
       "}\n",
       "\n",
       "#sk-container-id-1 div.sk-estimator.fitted {\n",
       "  /* fitted */\n",
       "  background-color: var(--sklearn-color-fitted-level-0);\n",
       "}\n",
       "\n",
       "/* on hover */\n",
       "#sk-container-id-1 div.sk-estimator:hover {\n",
       "  /* unfitted */\n",
       "  background-color: var(--sklearn-color-unfitted-level-2);\n",
       "}\n",
       "\n",
       "#sk-container-id-1 div.sk-estimator.fitted:hover {\n",
       "  /* fitted */\n",
       "  background-color: var(--sklearn-color-fitted-level-2);\n",
       "}\n",
       "\n",
       "/* Specification for estimator info (e.g. \"i\" and \"?\") */\n",
       "\n",
       "/* Common style for \"i\" and \"?\" */\n",
       "\n",
       ".sk-estimator-doc-link,\n",
       "a:link.sk-estimator-doc-link,\n",
       "a:visited.sk-estimator-doc-link {\n",
       "  float: right;\n",
       "  font-size: smaller;\n",
       "  line-height: 1em;\n",
       "  font-family: monospace;\n",
       "  background-color: var(--sklearn-color-background);\n",
       "  border-radius: 1em;\n",
       "  height: 1em;\n",
       "  width: 1em;\n",
       "  text-decoration: none !important;\n",
       "  margin-left: 1ex;\n",
       "  /* unfitted */\n",
       "  border: var(--sklearn-color-unfitted-level-1) 1pt solid;\n",
       "  color: var(--sklearn-color-unfitted-level-1);\n",
       "}\n",
       "\n",
       ".sk-estimator-doc-link.fitted,\n",
       "a:link.sk-estimator-doc-link.fitted,\n",
       "a:visited.sk-estimator-doc-link.fitted {\n",
       "  /* fitted */\n",
       "  border: var(--sklearn-color-fitted-level-1) 1pt solid;\n",
       "  color: var(--sklearn-color-fitted-level-1);\n",
       "}\n",
       "\n",
       "/* On hover */\n",
       "div.sk-estimator:hover .sk-estimator-doc-link:hover,\n",
       ".sk-estimator-doc-link:hover,\n",
       "div.sk-label-container:hover .sk-estimator-doc-link:hover,\n",
       ".sk-estimator-doc-link:hover {\n",
       "  /* unfitted */\n",
       "  background-color: var(--sklearn-color-unfitted-level-3);\n",
       "  color: var(--sklearn-color-background);\n",
       "  text-decoration: none;\n",
       "}\n",
       "\n",
       "div.sk-estimator.fitted:hover .sk-estimator-doc-link.fitted:hover,\n",
       ".sk-estimator-doc-link.fitted:hover,\n",
       "div.sk-label-container:hover .sk-estimator-doc-link.fitted:hover,\n",
       ".sk-estimator-doc-link.fitted:hover {\n",
       "  /* fitted */\n",
       "  background-color: var(--sklearn-color-fitted-level-3);\n",
       "  color: var(--sklearn-color-background);\n",
       "  text-decoration: none;\n",
       "}\n",
       "\n",
       "/* Span, style for the box shown on hovering the info icon */\n",
       ".sk-estimator-doc-link span {\n",
       "  display: none;\n",
       "  z-index: 9999;\n",
       "  position: relative;\n",
       "  font-weight: normal;\n",
       "  right: .2ex;\n",
       "  padding: .5ex;\n",
       "  margin: .5ex;\n",
       "  width: min-content;\n",
       "  min-width: 20ex;\n",
       "  max-width: 50ex;\n",
       "  color: var(--sklearn-color-text);\n",
       "  box-shadow: 2pt 2pt 4pt #999;\n",
       "  /* unfitted */\n",
       "  background: var(--sklearn-color-unfitted-level-0);\n",
       "  border: .5pt solid var(--sklearn-color-unfitted-level-3);\n",
       "}\n",
       "\n",
       ".sk-estimator-doc-link.fitted span {\n",
       "  /* fitted */\n",
       "  background: var(--sklearn-color-fitted-level-0);\n",
       "  border: var(--sklearn-color-fitted-level-3);\n",
       "}\n",
       "\n",
       ".sk-estimator-doc-link:hover span {\n",
       "  display: block;\n",
       "}\n",
       "\n",
       "/* \"?\"-specific style due to the `<a>` HTML tag */\n",
       "\n",
       "#sk-container-id-1 a.estimator_doc_link {\n",
       "  float: right;\n",
       "  font-size: 1rem;\n",
       "  line-height: 1em;\n",
       "  font-family: monospace;\n",
       "  background-color: var(--sklearn-color-background);\n",
       "  border-radius: 1rem;\n",
       "  height: 1rem;\n",
       "  width: 1rem;\n",
       "  text-decoration: none;\n",
       "  /* unfitted */\n",
       "  color: var(--sklearn-color-unfitted-level-1);\n",
       "  border: var(--sklearn-color-unfitted-level-1) 1pt solid;\n",
       "}\n",
       "\n",
       "#sk-container-id-1 a.estimator_doc_link.fitted {\n",
       "  /* fitted */\n",
       "  border: var(--sklearn-color-fitted-level-1) 1pt solid;\n",
       "  color: var(--sklearn-color-fitted-level-1);\n",
       "}\n",
       "\n",
       "/* On hover */\n",
       "#sk-container-id-1 a.estimator_doc_link:hover {\n",
       "  /* unfitted */\n",
       "  background-color: var(--sklearn-color-unfitted-level-3);\n",
       "  color: var(--sklearn-color-background);\n",
       "  text-decoration: none;\n",
       "}\n",
       "\n",
       "#sk-container-id-1 a.estimator_doc_link.fitted:hover {\n",
       "  /* fitted */\n",
       "  background-color: var(--sklearn-color-fitted-level-3);\n",
       "}\n",
       "</style><div id=\"sk-container-id-1\" class=\"sk-top-container\"><div class=\"sk-text-repr-fallback\"><pre>XGBClassifier(base_score=None, booster=None, callbacks=None,\n",
       "              colsample_bylevel=None, colsample_bynode=0.15796741683206755,\n",
       "              colsample_bytree=None, device=None, early_stopping_rounds=None,\n",
       "              enable_categorical=False,\n",
       "              eval_metric=&lt;function custom_f1_score at 0x7fe9e4788720&gt;,\n",
       "              feature_types=None, gamma=None, grow_policy=None,\n",
       "              importance_type=None, interaction_constraints=None,\n",
       "              learning_rate=0.0023964328271466316, max_bin=None,\n",
       "              max_cat_threshold=None, max_cat_to_onehot=None,\n",
       "              max_delta_step=None, max_depth=6, max_leaves=None,\n",
       "              min_child_weight=45, missing=nan, monotone_constraints=None,\n",
       "              multi_strategy=None, n_estimators=7, n_jobs=None,\n",
       "              num_parallel_tree=None, objective=&#x27;multi:softprob&#x27;, ...)</pre><b>In a Jupyter environment, please rerun this cell to show the HTML representation or trust the notebook. <br />On GitHub, the HTML representation is unable to render, please try loading this page with nbviewer.org.</b></div><div class=\"sk-container\" hidden><div class=\"sk-item\"><div class=\"sk-estimator fitted sk-toggleable\"><input class=\"sk-toggleable__control sk-hidden--visually\" id=\"sk-estimator-id-1\" type=\"checkbox\" checked><label for=\"sk-estimator-id-1\" class=\"sk-toggleable__label fitted sk-toggleable__label-arrow fitted\">&nbsp;XGBClassifier<span class=\"sk-estimator-doc-link fitted\">i<span>Fitted</span></span></label><div class=\"sk-toggleable__content fitted\"><pre>XGBClassifier(base_score=None, booster=None, callbacks=None,\n",
       "              colsample_bylevel=None, colsample_bynode=0.15796741683206755,\n",
       "              colsample_bytree=None, device=None, early_stopping_rounds=None,\n",
       "              enable_categorical=False,\n",
       "              eval_metric=&lt;function custom_f1_score at 0x7fe9e4788720&gt;,\n",
       "              feature_types=None, gamma=None, grow_policy=None,\n",
       "              importance_type=None, interaction_constraints=None,\n",
       "              learning_rate=0.0023964328271466316, max_bin=None,\n",
       "              max_cat_threshold=None, max_cat_to_onehot=None,\n",
       "              max_delta_step=None, max_depth=6, max_leaves=None,\n",
       "              min_child_weight=45, missing=nan, monotone_constraints=None,\n",
       "              multi_strategy=None, n_estimators=7, n_jobs=None,\n",
       "              num_parallel_tree=None, objective=&#x27;multi:softprob&#x27;, ...)</pre></div> </div></div></div></div>"
      ],
      "text/plain": [
       "XGBClassifier(base_score=None, booster=None, callbacks=None,\n",
       "              colsample_bylevel=None, colsample_bynode=0.15796741683206755,\n",
       "              colsample_bytree=None, device=None, early_stopping_rounds=None,\n",
       "              enable_categorical=False,\n",
       "              eval_metric=<function custom_f1_score at 0x7fe9e4788720>,\n",
       "              feature_types=None, gamma=None, grow_policy=None,\n",
       "              importance_type=None, interaction_constraints=None,\n",
       "              learning_rate=0.0023964328271466316, max_bin=None,\n",
       "              max_cat_threshold=None, max_cat_to_onehot=None,\n",
       "              max_delta_step=None, max_depth=6, max_leaves=None,\n",
       "              min_child_weight=45, missing=nan, monotone_constraints=None,\n",
       "              multi_strategy=None, n_estimators=7, n_jobs=None,\n",
       "              num_parallel_tree=None, objective='multi:softprob', ...)"
      ]
     },
     "execution_count": 21,
     "metadata": {},
     "output_type": "execute_result"
    }
   ],
   "source": [
    "n_estimators = int(study.best_trial.user_attrs['best_iteration']*1.2)\n",
    "xgb = xgboost.XGBClassifier(\n",
    "        eval_metric=eval_metric,\n",
    "        n_estimators=n_estimators,\n",
    "        **study.best_trial.params\n",
    "    )\n",
    "xgb.fit(\n",
    "    ssp.vstack((X_train, X_val)), \n",
    "    np.concatenate((y_train_enc, y_val_enc)),\n",
    "    verbose=1,\n",
    ")"
   ]
  },
  {
   "cell_type": "code",
   "execution_count": 22,
   "id": "c312c484",
   "metadata": {
    "execution": {
     "iopub.execute_input": "2025-06-13T13:08:25.370698Z",
     "iopub.status.busy": "2025-06-13T13:08:25.370444Z",
     "iopub.status.idle": "2025-06-13T13:08:25.385824Z",
     "shell.execute_reply": "2025-06-13T13:08:25.385528Z"
    },
    "papermill": {
     "duration": 0.027982,
     "end_time": "2025-06-13T13:08:25.389000",
     "exception": false,
     "start_time": "2025-06-13T13:08:25.361018",
     "status": "completed"
    },
    "tags": []
   },
   "outputs": [
    {
     "data": {
      "text/plain": [
       "['/scratch_isilon/groups/singlecell/shared/projects/Inflammation-PBMCs-Atlas/03_downstream_analysis/08_gene_importance/xgboost_external_validation/xgboost_TopN_genes/results_20/best_model/UTC_shap_disease_NOstudy_samesize_4_xgb.json']"
      ]
     },
     "execution_count": 22,
     "metadata": {},
     "output_type": "execute_result"
    }
   ],
   "source": [
    "out_dir = here(f'03_downstream_analysis/08_gene_importance/xgboost_external_validation/xgboost_TopN_genes/results_{N_GENES}/best_model')\n",
    "\n",
    "if not os.path.exists(out_dir):\n",
    "    os.makedirs(out_dir)\n",
    "    \n",
    "joblib.dump(xgb, os.path.join(out_dir, f'{CELL_TYPE}_{SEED}_{TEST_SPLIT_IDX}_xgb.json'))"
   ]
  },
  {
   "cell_type": "code",
   "execution_count": 23,
   "id": "3e194a8f",
   "metadata": {
    "execution": {
     "iopub.execute_input": "2025-06-13T13:08:25.409120Z",
     "iopub.status.busy": "2025-06-13T13:08:25.408888Z",
     "iopub.status.idle": "2025-06-13T13:08:25.417050Z",
     "shell.execute_reply": "2025-06-13T13:08:25.416750Z"
    },
    "papermill": {
     "duration": 0.01835,
     "end_time": "2025-06-13T13:08:25.417922",
     "exception": false,
     "start_time": "2025-06-13T13:08:25.399572",
     "status": "completed"
    },
    "tags": []
   },
   "outputs": [],
   "source": [
    "df_pred_test = pd.DataFrame(dict(\n",
    "    cell_id=train_adata.obs.iloc[test_idxs].index.values,\n",
    "    y_true=y_test, \n",
    "    y_true_code=y_test_enc, \n",
    "    y_pred=xgb.predict(X_test))).set_index('cell_id')"
   ]
  },
  {
   "cell_type": "code",
   "execution_count": 24,
   "id": "4a90ff60",
   "metadata": {
    "execution": {
     "iopub.execute_input": "2025-06-13T13:08:25.436990Z",
     "iopub.status.busy": "2025-06-13T13:08:25.436857Z",
     "iopub.status.idle": "2025-06-13T13:08:25.461959Z",
     "shell.execute_reply": "2025-06-13T13:08:25.461662Z"
    },
    "papermill": {
     "duration": 0.035797,
     "end_time": "2025-06-13T13:08:25.463091",
     "exception": false,
     "start_time": "2025-06-13T13:08:25.427294",
     "status": "completed"
    },
    "tags": []
   },
   "outputs": [],
   "source": [
    "out_dir = here(f'03_downstream_analysis/08_gene_importance/xgboost_external_validation/xgboost_TopN_genes/results_{N_GENES}/predictions')\n",
    "\n",
    "if not os.path.exists(out_dir):\n",
    "    os.makedirs(out_dir)\n",
    "    \n",
    "df_pred_test.to_csv(os.path.join(out_dir, f'{CELL_TYPE}_{SEED}_{TEST_SPLIT_IDX}_pred_test.zip'))"
   ]
  },
  {
   "cell_type": "code",
   "execution_count": 25,
   "id": "4bdb28c6",
   "metadata": {
    "execution": {
     "iopub.execute_input": "2025-06-13T13:08:25.482584Z",
     "iopub.status.busy": "2025-06-13T13:08:25.482263Z",
     "iopub.status.idle": "2025-06-13T13:08:25.489572Z",
     "shell.execute_reply": "2025-06-13T13:08:25.489268Z"
    },
    "papermill": {
     "duration": 0.01793,
     "end_time": "2025-06-13T13:08:25.490407",
     "exception": false,
     "start_time": "2025-06-13T13:08:25.472477",
     "status": "completed"
    },
    "tags": []
   },
   "outputs": [
    {
     "name": "stderr",
     "output_type": "stream",
     "text": [
      "/scratch_isilon/groups/singlecell/shared/conda_env/xgboost-cpu/lib/python3.12/site-packages/sklearn/metrics/_classification.py:2466: UserWarning: y_pred contains classes not in y_true\n",
      "  warnings.warn(\"y_pred contains classes not in y_true\")\n"
     ]
    }
   ],
   "source": [
    "metrics_dict = dict(\n",
    "    BAS=balanced_accuracy_score(y_true=df_pred_test.y_true_code, y_pred=df_pred_test.y_pred), WF1=f1_score(y_true=df_pred_test.y_true_code, y_pred=df_pred_test.y_pred,average='weighted'))"
   ]
  },
  {
   "cell_type": "code",
   "execution_count": 26,
   "id": "da29b842",
   "metadata": {
    "execution": {
     "iopub.execute_input": "2025-06-13T13:08:25.511943Z",
     "iopub.status.busy": "2025-06-13T13:08:25.511593Z",
     "iopub.status.idle": "2025-06-13T13:08:25.514214Z",
     "shell.execute_reply": "2025-06-13T13:08:25.513935Z"
    },
    "papermill": {
     "duration": 0.01333,
     "end_time": "2025-06-13T13:08:25.514995",
     "exception": false,
     "start_time": "2025-06-13T13:08:25.501665",
     "status": "completed"
    },
    "tags": []
   },
   "outputs": [
    {
     "data": {
      "text/plain": [
       "{'BAS': 0.3206924874961447, 'WF1': 0.5433397816099206}"
      ]
     },
     "execution_count": 26,
     "metadata": {},
     "output_type": "execute_result"
    }
   ],
   "source": [
    "metrics_dict"
   ]
  },
  {
   "cell_type": "code",
   "execution_count": 27,
   "id": "387d440b",
   "metadata": {
    "execution": {
     "iopub.execute_input": "2025-06-13T13:08:25.533907Z",
     "iopub.status.busy": "2025-06-13T13:08:25.533511Z",
     "iopub.status.idle": "2025-06-13T13:08:25.541442Z",
     "shell.execute_reply": "2025-06-13T13:08:25.541137Z"
    },
    "papermill": {
     "duration": 0.017898,
     "end_time": "2025-06-13T13:08:25.542220",
     "exception": false,
     "start_time": "2025-06-13T13:08:25.524322",
     "status": "completed"
    },
    "tags": []
   },
   "outputs": [
    {
     "data": {
      "text/html": [
       "<div>\n",
       "<style scoped>\n",
       "    .dataframe tbody tr th:only-of-type {\n",
       "        vertical-align: middle;\n",
       "    }\n",
       "\n",
       "    .dataframe tbody tr th {\n",
       "        vertical-align: top;\n",
       "    }\n",
       "\n",
       "    .dataframe thead th {\n",
       "        text-align: right;\n",
       "    }\n",
       "</style>\n",
       "<table border=\"1\" class=\"dataframe\">\n",
       "  <thead>\n",
       "    <tr style=\"text-align: right;\">\n",
       "      <th></th>\n",
       "      <th>BAS</th>\n",
       "      <th>WF1</th>\n",
       "      <th>split_idx</th>\n",
       "      <th>gene_set_seed</th>\n",
       "      <th>cell_type</th>\n",
       "    </tr>\n",
       "  </thead>\n",
       "  <tbody>\n",
       "    <tr>\n",
       "      <th>0</th>\n",
       "      <td>0.320692</td>\n",
       "      <td>0.54334</td>\n",
       "      <td>4</td>\n",
       "      <td>shap_disease_NOstudy_samesize</td>\n",
       "      <td>UTC</td>\n",
       "    </tr>\n",
       "  </tbody>\n",
       "</table>\n",
       "</div>"
      ],
      "text/plain": [
       "        BAS      WF1  split_idx                  gene_set_seed cell_type\n",
       "0  0.320692  0.54334          4  shap_disease_NOstudy_samesize       UTC"
      ]
     },
     "execution_count": 27,
     "metadata": {},
     "output_type": "execute_result"
    }
   ],
   "source": [
    "metrics_df = pd.DataFrame.from_dict([metrics_dict]).assign(split_idx=TEST_SPLIT_IDX, gene_set_seed=SEED, cell_type=CELL_TYPE)\n",
    "metrics_df"
   ]
  },
  {
   "cell_type": "code",
   "execution_count": 28,
   "id": "7f9d8e56",
   "metadata": {
    "execution": {
     "iopub.execute_input": "2025-06-13T13:08:25.571017Z",
     "iopub.status.busy": "2025-06-13T13:08:25.570714Z",
     "iopub.status.idle": "2025-06-13T13:08:25.577668Z",
     "shell.execute_reply": "2025-06-13T13:08:25.577305Z"
    },
    "papermill": {
     "duration": 0.027832,
     "end_time": "2025-06-13T13:08:25.578552",
     "exception": false,
     "start_time": "2025-06-13T13:08:25.550720",
     "status": "completed"
    },
    "tags": []
   },
   "outputs": [],
   "source": [
    "out_dir = here(f'03_downstream_analysis/08_gene_importance/xgboost_external_validation/xgboost_TopN_genes/results_{N_GENES}/metrics')\n",
    "\n",
    "if not os.path.exists(out_dir):\n",
    "    os.makedirs(out_dir)\n",
    "    \n",
    "metrics_df.to_csv(os.path.join(out_dir, f'{CELL_TYPE}_{SEED}_{TEST_SPLIT_IDX}_metrics.zip'))"
   ]
  }
 ],
 "metadata": {
  "kernelspec": {
   "display_name": "Python 3 (ipykernel)",
   "language": "python",
   "name": "python3"
  },
  "language_info": {
   "codemirror_mode": {
    "name": "ipython",
    "version": 3
   },
   "file_extension": ".py",
   "mimetype": "text/x-python",
   "name": "python",
   "nbconvert_exporter": "python",
   "pygments_lexer": "ipython3",
   "version": "3.12.5"
  },
  "papermill": {
   "default_parameters": {},
   "duration": 32.288141,
   "end_time": "2025-06-13T13:08:26.104020",
   "environment_variables": {},
   "exception": null,
   "input_path": "02_xgboost_fitting_external_20genes.ipynb",
   "output_path": "results_20/executed_notebooks/xgboost_fitting_external_CT_UTC_GS_shap_disease_NOstudy_samesize_seed4.ipynb",
   "parameters": {
    "CELL_TYPE": "UTC",
    "SEED": "shap_disease_NOstudy_samesize",
    "TEST_SPLIT_IDX": 4
   },
   "start_time": "2025-06-13T13:07:53.815879",
   "version": "2.6.0"
  }
 },
 "nbformat": 4,
 "nbformat_minor": 5
}