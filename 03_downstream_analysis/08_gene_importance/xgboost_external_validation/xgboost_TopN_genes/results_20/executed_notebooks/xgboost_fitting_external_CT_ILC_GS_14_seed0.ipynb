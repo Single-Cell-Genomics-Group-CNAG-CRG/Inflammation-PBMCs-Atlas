{
 "cells": [
  {
   "cell_type": "code",
   "execution_count": 1,
   "id": "140b2766",
   "metadata": {
    "editable": true,
    "execution": {
     "iopub.execute_input": "2025-05-15T16:14:07.807003Z",
     "iopub.status.busy": "2025-05-15T16:14:07.806825Z",
     "iopub.status.idle": "2025-05-15T16:14:07.809907Z",
     "shell.execute_reply": "2025-05-15T16:14:07.809504Z"
    },
    "papermill": {
     "duration": 0.015912,
     "end_time": "2025-05-15T16:14:07.811110",
     "exception": false,
     "start_time": "2025-05-15T16:14:07.795198",
     "status": "completed"
    },
    "slideshow": {
     "slide_type": ""
    },
    "tags": [
     "parameters"
    ]
   },
   "outputs": [],
   "source": [
    "CELL_TYPE = 'pDC'\n",
    "N_GENES: int = 20\n",
    "SEED = 'shap_studyID' #'disease_NOstudy' 'study_NOdisease' or 'int' or 'shap_studyID'\n",
    "TEST_SPLIT_IDX: int = 1 #[0,4]"
   ]
  },
  {
   "cell_type": "code",
   "execution_count": 2,
   "id": "f39373a3",
   "metadata": {
    "execution": {
     "iopub.execute_input": "2025-05-15T16:14:07.829470Z",
     "iopub.status.busy": "2025-05-15T16:14:07.829251Z",
     "iopub.status.idle": "2025-05-15T16:14:07.831492Z",
     "shell.execute_reply": "2025-05-15T16:14:07.831134Z"
    },
    "papermill": {
     "duration": 0.013357,
     "end_time": "2025-05-15T16:14:07.833050",
     "exception": false,
     "start_time": "2025-05-15T16:14:07.819693",
     "status": "completed"
    },
    "tags": [
     "injected-parameters"
    ]
   },
   "outputs": [],
   "source": [
    "# Parameters\n",
    "CELL_TYPE = \"ILC\"\n",
    "SEED = 14\n",
    "TEST_SPLIT_IDX = 0\n"
   ]
  },
  {
   "cell_type": "code",
   "execution_count": 3,
   "id": "10dea66b",
   "metadata": {
    "execution": {
     "iopub.execute_input": "2025-05-15T16:14:07.849683Z",
     "iopub.status.busy": "2025-05-15T16:14:07.849395Z",
     "iopub.status.idle": "2025-05-15T16:14:07.851508Z",
     "shell.execute_reply": "2025-05-15T16:14:07.851160Z"
    },
    "papermill": {
     "duration": 0.011389,
     "end_time": "2025-05-15T16:14:07.852608",
     "exception": false,
     "start_time": "2025-05-15T16:14:07.841219",
     "status": "completed"
    },
    "tags": []
   },
   "outputs": [],
   "source": [
    "N_SPLITS: int = 5\n",
    "N_TRIALS: int = 50"
   ]
  },
  {
   "cell_type": "code",
   "execution_count": 4,
   "id": "ab940c34",
   "metadata": {
    "execution": {
     "iopub.execute_input": "2025-05-15T16:14:07.879852Z",
     "iopub.status.busy": "2025-05-15T16:14:07.879605Z",
     "iopub.status.idle": "2025-05-15T16:14:09.809939Z",
     "shell.execute_reply": "2025-05-15T16:14:09.809404Z"
    },
    "papermill": {
     "duration": 1.950878,
     "end_time": "2025-05-15T16:14:09.811619",
     "exception": false,
     "start_time": "2025-05-15T16:14:07.860741",
     "status": "completed"
    },
    "tags": []
   },
   "outputs": [],
   "source": [
    "import os\n",
    "import sys\n",
    "from pyprojroot.here import here\n",
    "import pandas as pd\n",
    "import anndata as ad\n",
    "import numpy as np\n",
    "import math\n",
    "from sklearn.model_selection import StratifiedGroupKFold\n",
    "from sklearn.preprocessing import LabelEncoder\n",
    "from sklearn.metrics import f1_score\n",
    "import matplotlib.pyplot as plt\n",
    "import seaborn as sns\n",
    "from itertools import product\n",
    "from sklearn.metrics import balanced_accuracy_score, f1_score\n",
    "import optuna\n",
    "\n",
    "import joblib\n",
    "import pickle\n",
    "import datetime\n",
    "\n",
    "import collections\n",
    "\n",
    "import xgboost\n",
    "from sklearn.preprocessing import LabelEncoder\n",
    "\n",
    "import scipy.sparse as ssp\n",
    "import joblib\n",
    "\n",
    "from dotenv import load_dotenv"
   ]
  },
  {
   "cell_type": "code",
   "execution_count": 5,
   "id": "35072861",
   "metadata": {
    "execution": {
     "iopub.execute_input": "2025-05-15T16:14:09.840621Z",
     "iopub.status.busy": "2025-05-15T16:14:09.840248Z",
     "iopub.status.idle": "2025-05-15T16:14:09.846578Z",
     "shell.execute_reply": "2025-05-15T16:14:09.846223Z"
    },
    "papermill": {
     "duration": 0.026268,
     "end_time": "2025-05-15T16:14:09.847877",
     "exception": false,
     "start_time": "2025-05-15T16:14:09.821609",
     "status": "completed"
    },
    "tags": []
   },
   "outputs": [
    {
     "data": {
      "text/plain": [
       "True"
      ]
     },
     "execution_count": 5,
     "metadata": {},
     "output_type": "execute_result"
    }
   ],
   "source": [
    "load_dotenv()"
   ]
  },
  {
   "cell_type": "markdown",
   "id": "4f046dd9",
   "metadata": {
    "papermill": {
     "duration": 0.007603,
     "end_time": "2025-05-15T16:14:09.875241",
     "exception": false,
     "start_time": "2025-05-15T16:14:09.867638",
     "status": "completed"
    },
    "tags": []
   },
   "source": [
    "# LOAD DATASET"
   ]
  },
  {
   "cell_type": "code",
   "execution_count": 6,
   "id": "b5518c6f",
   "metadata": {
    "execution": {
     "iopub.execute_input": "2025-05-15T16:14:09.891207Z",
     "iopub.status.busy": "2025-05-15T16:14:09.890914Z",
     "iopub.status.idle": "2025-05-15T16:14:10.180435Z",
     "shell.execute_reply": "2025-05-15T16:14:10.179898Z"
    },
    "papermill": {
     "duration": 0.299904,
     "end_time": "2025-05-15T16:14:10.182353",
     "exception": false,
     "start_time": "2025-05-15T16:14:09.882449",
     "status": "completed"
    },
    "tags": []
   },
   "outputs": [],
   "source": [
    "train_adata = ad.read_h5ad(\n",
    "    here(f'03_downstream_analysis/08_gene_importance/xgboost_external_validation/xgboost_TopN_genes/data_cellTypes/EXTERNAL_{CELL_TYPE}.filtered.log1p.h5ad')\n",
    ")"
   ]
  },
  {
   "cell_type": "code",
   "execution_count": 7,
   "id": "39e00954",
   "metadata": {
    "execution": {
     "iopub.execute_input": "2025-05-15T16:14:10.199884Z",
     "iopub.status.busy": "2025-05-15T16:14:10.199273Z",
     "iopub.status.idle": "2025-05-15T16:14:10.227636Z",
     "shell.execute_reply": "2025-05-15T16:14:10.227079Z"
    },
    "papermill": {
     "duration": 0.038421,
     "end_time": "2025-05-15T16:14:10.228671",
     "exception": false,
     "start_time": "2025-05-15T16:14:10.190250",
     "status": "completed"
    },
    "tags": []
   },
   "outputs": [
    {
     "name": "stdout",
     "output_type": "stream",
     "text": [
      "['ENSG00000144746' 'ENSG00000117523' 'ENSG00000042753' 'ENSG00000159674'\n",
      " 'ENSG00000163931' 'ENSG00000136156' 'ENSG00000164483' 'ENSG00000163191'\n",
      " 'ENSG00000277734' 'ENSG00000117020' 'ENSG00000075426' 'ENSG00000145220'\n",
      " 'ENSG00000101474' 'ENSG00000180644' 'ENSG00000164543' 'ENSG00000136732'\n",
      " 'ENSG00000179344' 'ENSG00000131981' 'ENSG00000015475' 'ENSG00000025708'\n",
      " 'ENSG00000165732' 'ENSG00000168610' 'ENSG00000197746' 'ENSG00000019582'\n",
      " 'ENSG00000165280' 'ENSG00000143185' 'ENSG00000096996' 'ENSG00000170296'\n",
      " 'ENSG00000088986' 'ENSG00000113732' 'ENSG00000068796' 'ENSG00000142669'\n",
      " 'ENSG00000123416' 'ENSG00000175390' 'ENSG00000107485' 'ENSG00000142089'\n",
      " 'ENSG00000177556' 'ENSG00000110324' 'ENSG00000138378' 'ENSG00000125743'\n",
      " 'ENSG00000235162' 'ENSG00000100934' 'ENSG00000002549' 'ENSG00000151882'\n",
      " 'ENSG00000165140' 'ENSG00000089327' 'ENSG00000111716' 'ENSG00000171700'\n",
      " 'ENSG00000161203' 'ENSG00000172543' 'ENSG00000100280' 'ENSG00000179295'\n",
      " 'ENSG00000162704' 'ENSG00000147443' 'ENSG00000090382' 'ENSG00000135046'\n",
      " 'ENSG00000198846' 'ENSG00000126267' 'ENSG00000100664' 'ENSG00000168394'\n",
      " 'ENSG00000138674' 'ENSG00000132510' 'ENSG00000106605' 'ENSG00000162434'\n",
      " 'ENSG00000057657' 'ENSG00000121879' 'ENSG00000150093' 'ENSG00000172531'\n",
      " 'ENSG00000183020' 'ENSG00000111678' 'ENSG00000100385' 'ENSG00000156587'\n",
      " 'ENSG00000203747' 'ENSG00000254087' 'ENSG00000140678' 'ENSG00000099204'\n",
      " 'ENSG00000183508' 'ENSG00000036448' 'ENSG00000167664' 'ENSG00000163513'\n",
      " 'ENSG00000149357' 'ENSG00000102524' 'ENSG00000160213' 'ENSG00000100321'\n",
      " 'ENSG00000158050' 'ENSG00000277632' 'ENSG00000089127' 'ENSG00000231389'\n",
      " 'ENSG00000184752' 'ENSG00000132432' 'ENSG00000111348' 'ENSG00000103522'\n",
      " 'ENSG00000150687' 'ENSG00000186891' 'ENSG00000073861' 'ENSG00000204287'\n",
      " 'ENSG00000128340' 'ENSG00000110876' 'ENSG00000101608' 'ENSG00000175104']\n"
     ]
    }
   ],
   "source": [
    "if SEED != 'all':\n",
    "    gene_subset = np.load(here(f'03_downstream_analysis/08_gene_importance/xgboost_external_validation/shap_gene_selection/gene_subsets_{N_GENES}/{CELL_TYPE}_{SEED}.npy'), allow_pickle=True)\n",
    "    train_adata = train_adata[:,gene_subset]\n",
    "    print(gene_subset)\n",
    "elif SEED == 'all':\n",
    "    print('Using all genes')\n",
    "else:\n",
    "    raise ValueError()"
   ]
  },
  {
   "cell_type": "code",
   "execution_count": 8,
   "id": "c04d4914",
   "metadata": {
    "execution": {
     "iopub.execute_input": "2025-05-15T16:14:10.244783Z",
     "iopub.status.busy": "2025-05-15T16:14:10.244316Z",
     "iopub.status.idle": "2025-05-15T16:14:10.248388Z",
     "shell.execute_reply": "2025-05-15T16:14:10.247901Z"
    },
    "papermill": {
     "duration": 0.012304,
     "end_time": "2025-05-15T16:14:10.249337",
     "exception": false,
     "start_time": "2025-05-15T16:14:10.237033",
     "status": "completed"
    },
    "tags": []
   },
   "outputs": [
    {
     "data": {
      "text/plain": [
       "(36633, 100)"
      ]
     },
     "execution_count": 8,
     "metadata": {},
     "output_type": "execute_result"
    }
   ],
   "source": [
    "train_adata.shape"
   ]
  },
  {
   "cell_type": "code",
   "execution_count": 9,
   "id": "8c101348",
   "metadata": {
    "execution": {
     "iopub.execute_input": "2025-05-15T16:14:10.265338Z",
     "iopub.status.busy": "2025-05-15T16:14:10.264312Z",
     "iopub.status.idle": "2025-05-15T16:14:10.270310Z",
     "shell.execute_reply": "2025-05-15T16:14:10.269838Z"
    },
    "papermill": {
     "duration": 0.015105,
     "end_time": "2025-05-15T16:14:10.271318",
     "exception": false,
     "start_time": "2025-05-15T16:14:10.256213",
     "status": "completed"
    },
    "tags": []
   },
   "outputs": [
    {
     "data": {
      "text/plain": [
       "['RA', 'COVID', 'healthy', 'HIV', 'cirrhosis', 'CD', 'SLE', 'sepsis']\n",
       "Categories (8, object): ['CD', 'COVID', 'HIV', 'RA', 'SLE', 'cirrhosis', 'healthy', 'sepsis']"
      ]
     },
     "execution_count": 9,
     "metadata": {},
     "output_type": "execute_result"
    }
   ],
   "source": [
    "train_adata.obs.disease.unique()"
   ]
  },
  {
   "cell_type": "code",
   "execution_count": 10,
   "id": "87fb0fab",
   "metadata": {
    "execution": {
     "iopub.execute_input": "2025-05-15T16:14:10.316609Z",
     "iopub.status.busy": "2025-05-15T16:14:10.316057Z",
     "iopub.status.idle": "2025-05-15T16:14:10.320971Z",
     "shell.execute_reply": "2025-05-15T16:14:10.320550Z"
    },
    "papermill": {
     "duration": 0.034041,
     "end_time": "2025-05-15T16:14:10.321948",
     "exception": false,
     "start_time": "2025-05-15T16:14:10.287907",
     "status": "completed"
    },
    "tags": []
   },
   "outputs": [
    {
     "data": {
      "text/plain": [
       "['SCGT00val_I036024_T0', 'SCGT00val_I036016_T0', 'SCGT00val_I036023_T0', 'SCGT00val_I036021_T0', 'SCGT00val_I036028_T0', ..., '10XGenomics_10XHC2_T0', '10XGenomics_10XHC3_T0', '10XGenomics_10XHC5_T0', '10XGenomics_10XHC7_T0', '10XGenomics_10XHC8_T0']\n",
       "Length: 86\n",
       "Categories (86, object): ['10XGenomics_10XHC1_T0', '10XGenomics_10XHC2_T0', '10XGenomics_10XHC3_T0', '10XGenomics_10XHC4_T0', ..., 'Savage2021_BRISL6_T0', 'Savage2021_BRISL7_T0', 'Savage2021_PIDA_T0', 'Savage2021_PIDB_T0']"
      ]
     },
     "execution_count": 10,
     "metadata": {},
     "output_type": "execute_result"
    }
   ],
   "source": [
    "train_adata.obs.sampleID.unique()"
   ]
  },
  {
   "cell_type": "code",
   "execution_count": 11,
   "id": "0f93a591",
   "metadata": {
    "execution": {
     "iopub.execute_input": "2025-05-15T16:14:10.355981Z",
     "iopub.status.busy": "2025-05-15T16:14:10.355653Z",
     "iopub.status.idle": "2025-05-15T16:14:10.477038Z",
     "shell.execute_reply": "2025-05-15T16:14:10.476607Z"
    },
    "papermill": {
     "duration": 0.138449,
     "end_time": "2025-05-15T16:14:10.478282",
     "exception": false,
     "start_time": "2025-05-15T16:14:10.339833",
     "status": "completed"
    },
    "tags": []
   },
   "outputs": [],
   "source": [
    "all_idxs = np.arange(train_adata.obs.shape[0])\n",
    "left_out_splits = [s[1] for s in StratifiedGroupKFold(n_splits=N_SPLITS).split(all_idxs, train_adata.obs.disease, train_adata.obs.sampleID)]"
   ]
  },
  {
   "cell_type": "code",
   "execution_count": 12,
   "id": "df79cab8",
   "metadata": {
    "execution": {
     "iopub.execute_input": "2025-05-15T16:14:10.493566Z",
     "iopub.status.busy": "2025-05-15T16:14:10.493356Z",
     "iopub.status.idle": "2025-05-15T16:14:10.497213Z",
     "shell.execute_reply": "2025-05-15T16:14:10.496884Z"
    },
    "papermill": {
     "duration": 0.013189,
     "end_time": "2025-05-15T16:14:10.498143",
     "exception": false,
     "start_time": "2025-05-15T16:14:10.484954",
     "status": "completed"
    },
    "tags": []
   },
   "outputs": [
    {
     "data": {
      "text/plain": [
       "([2, 3, 4], 1, 0)"
      ]
     },
     "execution_count": 12,
     "metadata": {},
     "output_type": "execute_result"
    }
   ],
   "source": [
    "TRAIN_SPLIT_IDXS = [0,1,2,3,4]\n",
    "VAL_SPLIT_IDX = (TEST_SPLIT_IDX + 1) % 5\n",
    "TRAIN_SPLIT_IDXS.remove(TEST_SPLIT_IDX)\n",
    "TRAIN_SPLIT_IDXS.remove(VAL_SPLIT_IDX)\n",
    "TRAIN_SPLIT_IDXS, VAL_SPLIT_IDX, TEST_SPLIT_IDX"
   ]
  },
  {
   "cell_type": "code",
   "execution_count": 13,
   "id": "a8adad73",
   "metadata": {
    "execution": {
     "iopub.execute_input": "2025-05-15T16:14:10.533126Z",
     "iopub.status.busy": "2025-05-15T16:14:10.532922Z",
     "iopub.status.idle": "2025-05-15T16:14:10.535483Z",
     "shell.execute_reply": "2025-05-15T16:14:10.535119Z"
    },
    "papermill": {
     "duration": 0.019796,
     "end_time": "2025-05-15T16:14:10.536458",
     "exception": false,
     "start_time": "2025-05-15T16:14:10.516662",
     "status": "completed"
    },
    "tags": []
   },
   "outputs": [],
   "source": [
    "train_idxs = np.concatenate([left_out_splits[idx] for idx in TRAIN_SPLIT_IDXS])\n",
    "val_idxs = left_out_splits[VAL_SPLIT_IDX]\n",
    "test_idxs = left_out_splits[TEST_SPLIT_IDX]"
   ]
  },
  {
   "cell_type": "markdown",
   "id": "37dfec04",
   "metadata": {
    "papermill": {
     "duration": 0.024981,
     "end_time": "2025-05-15T16:14:10.568453",
     "exception": false,
     "start_time": "2025-05-15T16:14:10.543472",
     "status": "completed"
    },
    "tags": []
   },
   "source": [
    "### SUBSET DATASET INTO TRAIN/TEST/VAL SPLITS"
   ]
  },
  {
   "cell_type": "code",
   "execution_count": 14,
   "id": "1110bb2f",
   "metadata": {
    "execution": {
     "iopub.execute_input": "2025-05-15T16:14:10.584028Z",
     "iopub.status.busy": "2025-05-15T16:14:10.583703Z",
     "iopub.status.idle": "2025-05-15T16:14:10.692706Z",
     "shell.execute_reply": "2025-05-15T16:14:10.692296Z"
    },
    "papermill": {
     "duration": 0.117701,
     "end_time": "2025-05-15T16:14:10.693888",
     "exception": false,
     "start_time": "2025-05-15T16:14:10.576187",
     "status": "completed"
    },
    "tags": []
   },
   "outputs": [
    {
     "data": {
      "text/plain": [
       "((22507, 100), (6966, 100), (7160, 100))"
      ]
     },
     "execution_count": 14,
     "metadata": {},
     "output_type": "execute_result"
    }
   ],
   "source": [
    "X_train = train_adata.X[train_idxs]\n",
    "X_test = train_adata.X[test_idxs]\n",
    "X_val = train_adata.X[val_idxs]\n",
    "X_train.shape, X_test.shape, X_val.shape"
   ]
  },
  {
   "cell_type": "code",
   "execution_count": 15,
   "id": "7d0438a1",
   "metadata": {
    "execution": {
     "iopub.execute_input": "2025-05-15T16:14:10.734315Z",
     "iopub.status.busy": "2025-05-15T16:14:10.734095Z",
     "iopub.status.idle": "2025-05-15T16:14:10.742002Z",
     "shell.execute_reply": "2025-05-15T16:14:10.741623Z"
    },
    "papermill": {
     "duration": 0.028624,
     "end_time": "2025-05-15T16:14:10.743071",
     "exception": false,
     "start_time": "2025-05-15T16:14:10.714447",
     "status": "completed"
    },
    "tags": []
   },
   "outputs": [
    {
     "data": {
      "text/plain": [
       "((22507,), (6966,), (7160,))"
      ]
     },
     "execution_count": 15,
     "metadata": {},
     "output_type": "execute_result"
    }
   ],
   "source": [
    "y_train = train_adata.obs.iloc[train_idxs].disease.values.astype(str)\n",
    "y_test = train_adata.obs.iloc[test_idxs].disease.values.astype(str)\n",
    "y_val = train_adata.obs.iloc[val_idxs].disease.values.astype(str)\n",
    "y_train.shape, y_test.shape, y_val.shape"
   ]
  },
  {
   "cell_type": "code",
   "execution_count": 16,
   "id": "ddfe6383",
   "metadata": {
    "execution": {
     "iopub.execute_input": "2025-05-15T16:14:10.762516Z",
     "iopub.status.busy": "2025-05-15T16:14:10.762309Z",
     "iopub.status.idle": "2025-05-15T16:14:10.773601Z",
     "shell.execute_reply": "2025-05-15T16:14:10.773249Z"
    },
    "papermill": {
     "duration": 0.021503,
     "end_time": "2025-05-15T16:14:10.774551",
     "exception": false,
     "start_time": "2025-05-15T16:14:10.753048",
     "status": "completed"
    },
    "tags": []
   },
   "outputs": [],
   "source": [
    "lenc = LabelEncoder()\n",
    "y_train_enc = lenc.fit_transform(y_train)\n",
    "y_val_enc = lenc.transform(y_val)\n",
    "y_test_enc = lenc.transform(y_test)"
   ]
  },
  {
   "cell_type": "markdown",
   "id": "dee468e2",
   "metadata": {
    "papermill": {
     "duration": 0.006912,
     "end_time": "2025-05-15T16:14:10.789432",
     "exception": false,
     "start_time": "2025-05-15T16:14:10.782520",
     "status": "completed"
    },
    "tags": []
   },
   "source": [
    "### GENERATE F1 "
   ]
  },
  {
   "cell_type": "code",
   "execution_count": 17,
   "id": "2df9161f",
   "metadata": {
    "execution": {
     "iopub.execute_input": "2025-05-15T16:14:10.805718Z",
     "iopub.status.busy": "2025-05-15T16:14:10.805371Z",
     "iopub.status.idle": "2025-05-15T16:14:10.807785Z",
     "shell.execute_reply": "2025-05-15T16:14:10.807427Z"
    },
    "papermill": {
     "duration": 0.012005,
     "end_time": "2025-05-15T16:14:10.808708",
     "exception": false,
     "start_time": "2025-05-15T16:14:10.796703",
     "status": "completed"
    },
    "tags": []
   },
   "outputs": [],
   "source": [
    "def custom_f1_score(y_true, y_pred):\n",
    "    return -f1_score(y_true, y_pred.argmax(1), average='weighted')"
   ]
  },
  {
   "cell_type": "code",
   "execution_count": 18,
   "id": "a3ae2e98",
   "metadata": {
    "execution": {
     "iopub.execute_input": "2025-05-15T16:14:10.845991Z",
     "iopub.status.busy": "2025-05-15T16:14:10.845792Z",
     "iopub.status.idle": "2025-05-15T16:14:10.849683Z",
     "shell.execute_reply": "2025-05-15T16:14:10.849339Z"
    },
    "papermill": {
     "duration": 0.027123,
     "end_time": "2025-05-15T16:14:10.850631",
     "exception": false,
     "start_time": "2025-05-15T16:14:10.823508",
     "status": "completed"
    },
    "tags": []
   },
   "outputs": [],
   "source": [
    "eval_metric=custom_f1_score\n",
    "eval_metric_name='custom_f1_score'\n",
    "\n",
    "def objective(trial):\n",
    "    params = {\n",
    "        'n_estimators': 1500,\n",
    "        'max_depth': trial.suggest_int('max_depth', 3, 20),\n",
    "        'min_child_weight': trial.suggest_int('min_child_weight', 1, 250),\n",
    "        'subsample': trial.suggest_float('subsample', 0.1, 1.0),\n",
    "        'colsample_bynode': trial.suggest_float('colsample_bynode', 0.1, 1.0),\n",
    "        'learning_rate': trial.suggest_float('learning_rate', 1e-3, 5e-1, log=True),\n",
    "    }\n",
    "    pruning_callback = optuna.integration.XGBoostPruningCallback(trial, f'validation_0-{eval_metric_name}')\n",
    "    es_callback = xgboost.callback.EarlyStopping(20, min_delta=0.001)\n",
    "    xgb = xgboost.XGBClassifier(\n",
    "        eval_metric=eval_metric,\n",
    "        callbacks=[pruning_callback, es_callback],\n",
    "        n_jobs=5,\n",
    "        **params\n",
    "    )\n",
    "    xgb.fit(\n",
    "        X_train, \n",
    "        y_train_enc, \n",
    "        verbose=0,\n",
    "        eval_set=[(X_val, y_val_enc)],\n",
    "    )\n",
    "    trial.set_user_attr('best_iteration', xgb.best_iteration)\n",
    "\n",
    "    return xgb.best_score"
   ]
  },
  {
   "cell_type": "code",
   "execution_count": 19,
   "id": "3ae9c9d5",
   "metadata": {
    "execution": {
     "iopub.execute_input": "2025-05-15T16:14:10.864462Z",
     "iopub.status.busy": "2025-05-15T16:14:10.864278Z",
     "iopub.status.idle": "2025-05-15T16:17:54.967464Z",
     "shell.execute_reply": "2025-05-15T16:17:54.967003Z"
    },
    "papermill": {
     "duration": 224.111669,
     "end_time": "2025-05-15T16:17:54.968824",
     "exception": false,
     "start_time": "2025-05-15T16:14:10.857155",
     "status": "completed"
    },
    "scrolled": true,
    "tags": []
   },
   "outputs": [
    {
     "name": "stderr",
     "output_type": "stream",
     "text": [
      "[I 2025-05-15 18:14:10,866] A new study created in memory with name: no-name-6b072795-f5f7-4954-ab6f-885e67f53136\n"
     ]
    },
    {
     "name": "stderr",
     "output_type": "stream",
     "text": [
      "[I 2025-05-15 18:14:12,708] Trial 0 finished with value: -0.56498 and parameters: {'max_depth': 9, 'min_child_weight': 238, 'subsample': 0.7587945476302645, 'colsample_bynode': 0.6387926357773329, 'learning_rate': 0.0026368755339723046}. Best is trial 0 with value: -0.56498.\n"
     ]
    },
    {
     "name": "stderr",
     "output_type": "stream",
     "text": [
      "[I 2025-05-15 18:14:25,074] Trial 1 finished with value: -0.673133 and parameters: {'max_depth': 5, 'min_child_weight': 15, 'subsample': 0.8795585311974417, 'colsample_bynode': 0.6410035105688879, 'learning_rate': 0.08148293210105287}. Best is trial 1 with value: -0.673133.\n"
     ]
    },
    {
     "name": "stderr",
     "output_type": "stream",
     "text": [
      "[I 2025-05-15 18:14:26,520] Trial 2 finished with value: -0.54037 and parameters: {'max_depth': 3, 'min_child_weight': 243, 'subsample': 0.8491983767203796, 'colsample_bynode': 0.29110519961044856, 'learning_rate': 0.003095566460242371}. Best is trial 1 with value: -0.673133.\n"
     ]
    },
    {
     "name": "stderr",
     "output_type": "stream",
     "text": [
      "[I 2025-05-15 18:14:31,070] Trial 3 finished with value: -0.589418 and parameters: {'max_depth': 6, 'min_child_weight': 77, 'subsample': 0.5722807884690141, 'colsample_bynode': 0.48875051677790415, 'learning_rate': 0.006109683510122491}. Best is trial 1 with value: -0.673133.\n"
     ]
    },
    {
     "name": "stderr",
     "output_type": "stream",
     "text": [
      "[I 2025-05-15 18:14:55,481] Trial 4 finished with value: -0.655354 and parameters: {'max_depth': 14, 'min_child_weight': 35, 'subsample': 0.3629301836816964, 'colsample_bynode': 0.4297256589643226, 'learning_rate': 0.01701841881702917}. Best is trial 1 with value: -0.673133.\n"
     ]
    },
    {
     "name": "stderr",
     "output_type": "stream",
     "text": [
      "[I 2025-05-15 18:14:58,423] Trial 5 pruned. Trial was pruned at iteration 28.\n"
     ]
    },
    {
     "name": "stderr",
     "output_type": "stream",
     "text": [
      "[I 2025-05-15 18:14:58,667] Trial 6 pruned. Trial was pruned at iteration 0.\n"
     ]
    },
    {
     "name": "stderr",
     "output_type": "stream",
     "text": [
      "[I 2025-05-15 18:14:58,894] Trial 7 pruned. Trial was pruned at iteration 0.\n"
     ]
    },
    {
     "name": "stderr",
     "output_type": "stream",
     "text": [
      "[I 2025-05-15 18:14:59,109] Trial 8 pruned. Trial was pruned at iteration 0.\n"
     ]
    },
    {
     "name": "stderr",
     "output_type": "stream",
     "text": [
      "[I 2025-05-15 18:15:00,416] Trial 9 pruned. Trial was pruned at iteration 14.\n"
     ]
    },
    {
     "name": "stderr",
     "output_type": "stream",
     "text": [
      "[I 2025-05-15 18:15:13,395] Trial 10 finished with value: -0.672761 and parameters: {'max_depth': 9, 'min_child_weight': 2, 'subsample': 0.9725833997090791, 'colsample_bynode': 0.11616568805333755, 'learning_rate': 0.17780618353487967}. Best is trial 1 with value: -0.673133.\n"
     ]
    },
    {
     "name": "stderr",
     "output_type": "stream",
     "text": [
      "[I 2025-05-15 18:15:27,360] Trial 11 finished with value: -0.672525 and parameters: {'max_depth': 9, 'min_child_weight': 4, 'subsample': 0.9818290990185045, 'colsample_bynode': 0.17702656156719, 'learning_rate': 0.11568531411766632}. Best is trial 1 with value: -0.673133.\n"
     ]
    },
    {
     "name": "stderr",
     "output_type": "stream",
     "text": [
      "[I 2025-05-15 18:15:35,286] Trial 12 pruned. Trial was pruned at iteration 56.\n"
     ]
    },
    {
     "name": "stderr",
     "output_type": "stream",
     "text": [
      "[I 2025-05-15 18:15:35,560] Trial 13 pruned. Trial was pruned at iteration 0.\n"
     ]
    },
    {
     "name": "stderr",
     "output_type": "stream",
     "text": [
      "[I 2025-05-15 18:15:35,809] Trial 14 pruned. Trial was pruned at iteration 0.\n"
     ]
    },
    {
     "name": "stderr",
     "output_type": "stream",
     "text": [
      "[I 2025-05-15 18:16:07,134] Trial 15 pruned. Trial was pruned at iteration 56.\n"
     ]
    },
    {
     "name": "stderr",
     "output_type": "stream",
     "text": [
      "[I 2025-05-15 18:16:07,410] Trial 16 pruned. Trial was pruned at iteration 0.\n"
     ]
    },
    {
     "name": "stderr",
     "output_type": "stream",
     "text": [
      "[I 2025-05-15 18:16:07,654] Trial 17 pruned. Trial was pruned at iteration 0.\n"
     ]
    },
    {
     "name": "stderr",
     "output_type": "stream",
     "text": [
      "[I 2025-05-15 18:16:18,319] Trial 18 finished with value: -0.686684 and parameters: {'max_depth': 11, 'min_child_weight': 37, 'subsample': 0.9135233791821833, 'colsample_bynode': 0.24900065324684006, 'learning_rate': 0.16384379577990202}. Best is trial 18 with value: -0.686684.\n"
     ]
    },
    {
     "name": "stderr",
     "output_type": "stream",
     "text": [
      "[I 2025-05-15 18:16:18,588] Trial 19 pruned. Trial was pruned at iteration 0.\n"
     ]
    },
    {
     "name": "stderr",
     "output_type": "stream",
     "text": [
      "[I 2025-05-15 18:16:26,729] Trial 20 finished with value: -0.68306 and parameters: {'max_depth': 16, 'min_child_weight': 36, 'subsample': 0.6673964375642997, 'colsample_bynode': 0.8651467877814526, 'learning_rate': 0.2221537505158567}. Best is trial 18 with value: -0.686684.\n"
     ]
    },
    {
     "name": "stderr",
     "output_type": "stream",
     "text": [
      "[I 2025-05-15 18:16:35,856] Trial 21 finished with value: -0.680467 and parameters: {'max_depth': 17, 'min_child_weight': 32, 'subsample': 0.6742977978825961, 'colsample_bynode': 0.8564834725554809, 'learning_rate': 0.20901104055631745}. Best is trial 18 with value: -0.686684.\n"
     ]
    },
    {
     "name": "stderr",
     "output_type": "stream",
     "text": [
      "[I 2025-05-15 18:16:44,673] Trial 22 finished with value: -0.681422 and parameters: {'max_depth': 17, 'min_child_weight': 34, 'subsample': 0.6581340170061017, 'colsample_bynode': 0.8523299130140582, 'learning_rate': 0.23804272499382256}. Best is trial 18 with value: -0.686684.\n"
     ]
    },
    {
     "name": "stderr",
     "output_type": "stream",
     "text": [
      "[I 2025-05-15 18:16:44,958] Trial 23 pruned. Trial was pruned at iteration 0.\n"
     ]
    },
    {
     "name": "stderr",
     "output_type": "stream",
     "text": [
      "[I 2025-05-15 18:16:45,207] Trial 24 pruned. Trial was pruned at iteration 0.\n"
     ]
    },
    {
     "name": "stderr",
     "output_type": "stream",
     "text": [
      "[I 2025-05-15 18:16:59,945] Trial 25 finished with value: -0.683141 and parameters: {'max_depth': 19, 'min_child_weight': 26, 'subsample': 0.6323659038961531, 'colsample_bynode': 0.868743789425749, 'learning_rate': 0.13909485493358723}. Best is trial 18 with value: -0.686684.\n"
     ]
    },
    {
     "name": "stderr",
     "output_type": "stream",
     "text": [
      "[I 2025-05-15 18:17:00,194] Trial 26 pruned. Trial was pruned at iteration 0.\n"
     ]
    },
    {
     "name": "stderr",
     "output_type": "stream",
     "text": [
      "[I 2025-05-15 18:17:00,460] Trial 27 pruned. Trial was pruned at iteration 0.\n"
     ]
    },
    {
     "name": "stderr",
     "output_type": "stream",
     "text": [
      "[I 2025-05-15 18:17:07,265] Trial 28 finished with value: -0.68044 and parameters: {'max_depth': 12, 'min_child_weight': 21, 'subsample': 0.761174911173368, 'colsample_bynode': 0.7175510356750018, 'learning_rate': 0.4933251132612764}. Best is trial 18 with value: -0.686684.\n"
     ]
    },
    {
     "name": "stderr",
     "output_type": "stream",
     "text": [
      "[I 2025-05-15 18:17:07,487] Trial 29 pruned. Trial was pruned at iteration 0.\n"
     ]
    },
    {
     "name": "stderr",
     "output_type": "stream",
     "text": [
      "[I 2025-05-15 18:17:07,756] Trial 30 pruned. Trial was pruned at iteration 0.\n"
     ]
    },
    {
     "name": "stderr",
     "output_type": "stream",
     "text": [
      "[I 2025-05-15 18:17:18,168] Trial 31 finished with value: -0.685531 and parameters: {'max_depth': 18, 'min_child_weight': 27, 'subsample': 0.6453978596299373, 'colsample_bynode': 0.8582172687470753, 'learning_rate': 0.28238871861392895}. Best is trial 18 with value: -0.686684.\n"
     ]
    },
    {
     "name": "stderr",
     "output_type": "stream",
     "text": [
      "[I 2025-05-15 18:17:30,242] Trial 32 finished with value: -0.687747 and parameters: {'max_depth': 18, 'min_child_weight': 24, 'subsample': 0.6278853291248006, 'colsample_bynode': 0.9897967092891895, 'learning_rate': 0.28986301525524527}. Best is trial 32 with value: -0.687747.\n"
     ]
    },
    {
     "name": "stderr",
     "output_type": "stream",
     "text": [
      "[I 2025-05-15 18:17:40,685] Trial 33 finished with value: -0.682953 and parameters: {'max_depth': 19, 'min_child_weight': 20, 'subsample': 0.5128059229364524, 'colsample_bynode': 0.9844915997505926, 'learning_rate': 0.29533514123473714}. Best is trial 32 with value: -0.687747.\n"
     ]
    },
    {
     "name": "stderr",
     "output_type": "stream",
     "text": [
      "[I 2025-05-15 18:17:41,085] Trial 34 pruned. Trial was pruned at iteration 0.\n"
     ]
    },
    {
     "name": "stderr",
     "output_type": "stream",
     "text": [
      "[I 2025-05-15 18:17:41,551] Trial 35 pruned. Trial was pruned at iteration 1.\n"
     ]
    },
    {
     "name": "stderr",
     "output_type": "stream",
     "text": [
      "[I 2025-05-15 18:17:41,798] Trial 36 pruned. Trial was pruned at iteration 0.\n"
     ]
    },
    {
     "name": "stderr",
     "output_type": "stream",
     "text": [
      "[I 2025-05-15 18:17:46,400] Trial 37 pruned. Trial was pruned at iteration 28.\n"
     ]
    },
    {
     "name": "stderr",
     "output_type": "stream",
     "text": [
      "[I 2025-05-15 18:17:46,673] Trial 38 pruned. Trial was pruned at iteration 0.\n"
     ]
    },
    {
     "name": "stderr",
     "output_type": "stream",
     "text": [
      "[I 2025-05-15 18:17:46,923] Trial 39 pruned. Trial was pruned at iteration 0.\n"
     ]
    },
    {
     "name": "stderr",
     "output_type": "stream",
     "text": [
      "[I 2025-05-15 18:17:48,131] Trial 40 pruned. Trial was pruned at iteration 4.\n"
     ]
    },
    {
     "name": "stderr",
     "output_type": "stream",
     "text": [
      "[I 2025-05-15 18:17:48,446] Trial 41 pruned. Trial was pruned at iteration 0.\n"
     ]
    },
    {
     "name": "stderr",
     "output_type": "stream",
     "text": [
      "[I 2025-05-15 18:17:48,772] Trial 42 pruned. Trial was pruned at iteration 0.\n"
     ]
    },
    {
     "name": "stderr",
     "output_type": "stream",
     "text": [
      "[I 2025-05-15 18:17:49,051] Trial 43 pruned. Trial was pruned at iteration 0.\n"
     ]
    },
    {
     "name": "stderr",
     "output_type": "stream",
     "text": [
      "[I 2025-05-15 18:17:53,008] Trial 44 pruned. Trial was pruned at iteration 18.\n"
     ]
    },
    {
     "name": "stderr",
     "output_type": "stream",
     "text": [
      "[I 2025-05-15 18:17:53,351] Trial 45 pruned. Trial was pruned at iteration 0.\n"
     ]
    },
    {
     "name": "stderr",
     "output_type": "stream",
     "text": [
      "[I 2025-05-15 18:17:53,638] Trial 46 pruned. Trial was pruned at iteration 0.\n"
     ]
    },
    {
     "name": "stderr",
     "output_type": "stream",
     "text": [
      "[I 2025-05-15 18:17:54,208] Trial 47 pruned. Trial was pruned at iteration 1.\n"
     ]
    },
    {
     "name": "stderr",
     "output_type": "stream",
     "text": [
      "[I 2025-05-15 18:17:54,480] Trial 48 pruned. Trial was pruned at iteration 0.\n"
     ]
    },
    {
     "name": "stderr",
     "output_type": "stream",
     "text": [
      "[I 2025-05-15 18:17:54,878] Trial 49 pruned. Trial was pruned at iteration 1.\n"
     ]
    }
   ],
   "source": [
    "sampler = optuna.samplers.TPESampler(seed=42)\n",
    "study = optuna.create_study(direction='minimize', sampler=sampler)\n",
    "study.optimize(objective, n_trials=N_TRIALS, gc_after_trial=True)"
   ]
  },
  {
   "cell_type": "code",
   "execution_count": 20,
   "id": "b9eb0fd9",
   "metadata": {
    "execution": {
     "iopub.execute_input": "2025-05-15T16:17:55.003399Z",
     "iopub.status.busy": "2025-05-15T16:17:55.003201Z",
     "iopub.status.idle": "2025-05-15T16:17:55.027937Z",
     "shell.execute_reply": "2025-05-15T16:17:55.027551Z"
    },
    "papermill": {
     "duration": 0.048968,
     "end_time": "2025-05-15T16:17:55.028848",
     "exception": false,
     "start_time": "2025-05-15T16:17:54.979880",
     "status": "completed"
    },
    "tags": []
   },
   "outputs": [
    {
     "data": {
      "text/plain": [
       "['/scratch_isilon/groups/singlecell/shared/projects/Inflammation-PBMCs-Atlas/03_downstream_analysis/08_gene_importance/xgboost_external_validation/xgboost_TopN_genes/results_20/study/ILC_14_0_xgboost.pkl']"
      ]
     },
     "execution_count": 20,
     "metadata": {},
     "output_type": "execute_result"
    }
   ],
   "source": [
    "out_dir = here(f'03_downstream_analysis/08_gene_importance/xgboost_external_validation/xgboost_TopN_genes/results_{N_GENES}/study')\n",
    "\n",
    "if not os.path.exists(out_dir):\n",
    "    os.makedirs(out_dir)\n",
    "    \n",
    "joblib.dump(study,os.path.join(out_dir, f'{CELL_TYPE}_{SEED}_{TEST_SPLIT_IDX}_xgboost.pkl'))"
   ]
  },
  {
   "cell_type": "code",
   "execution_count": 21,
   "id": "2f5d99f2",
   "metadata": {
    "execution": {
     "iopub.execute_input": "2025-05-15T16:17:55.053029Z",
     "iopub.status.busy": "2025-05-15T16:17:55.052834Z",
     "iopub.status.idle": "2025-05-15T16:18:07.057975Z",
     "shell.execute_reply": "2025-05-15T16:18:07.057583Z"
    },
    "papermill": {
     "duration": 12.021659,
     "end_time": "2025-05-15T16:18:07.058953",
     "exception": false,
     "start_time": "2025-05-15T16:17:55.037294",
     "status": "completed"
    },
    "tags": []
   },
   "outputs": [
    {
     "data": {
      "text/html": [
       "<style>#sk-container-id-1 {\n",
       "  /* Definition of color scheme common for light and dark mode */\n",
       "  --sklearn-color-text: black;\n",
       "  --sklearn-color-line: gray;\n",
       "  /* Definition of color scheme for unfitted estimators */\n",
       "  --sklearn-color-unfitted-level-0: #fff5e6;\n",
       "  --sklearn-color-unfitted-level-1: #f6e4d2;\n",
       "  --sklearn-color-unfitted-level-2: #ffe0b3;\n",
       "  --sklearn-color-unfitted-level-3: chocolate;\n",
       "  /* Definition of color scheme for fitted estimators */\n",
       "  --sklearn-color-fitted-level-0: #f0f8ff;\n",
       "  --sklearn-color-fitted-level-1: #d4ebff;\n",
       "  --sklearn-color-fitted-level-2: #b3dbfd;\n",
       "  --sklearn-color-fitted-level-3: cornflowerblue;\n",
       "\n",
       "  /* Specific color for light theme */\n",
       "  --sklearn-color-text-on-default-background: var(--sg-text-color, var(--theme-code-foreground, var(--jp-content-font-color1, black)));\n",
       "  --sklearn-color-background: var(--sg-background-color, var(--theme-background, var(--jp-layout-color0, white)));\n",
       "  --sklearn-color-border-box: var(--sg-text-color, var(--theme-code-foreground, var(--jp-content-font-color1, black)));\n",
       "  --sklearn-color-icon: #696969;\n",
       "\n",
       "  @media (prefers-color-scheme: dark) {\n",
       "    /* Redefinition of color scheme for dark theme */\n",
       "    --sklearn-color-text-on-default-background: var(--sg-text-color, var(--theme-code-foreground, var(--jp-content-font-color1, white)));\n",
       "    --sklearn-color-background: var(--sg-background-color, var(--theme-background, var(--jp-layout-color0, #111)));\n",
       "    --sklearn-color-border-box: var(--sg-text-color, var(--theme-code-foreground, var(--jp-content-font-color1, white)));\n",
       "    --sklearn-color-icon: #878787;\n",
       "  }\n",
       "}\n",
       "\n",
       "#sk-container-id-1 {\n",
       "  color: var(--sklearn-color-text);\n",
       "}\n",
       "\n",
       "#sk-container-id-1 pre {\n",
       "  padding: 0;\n",
       "}\n",
       "\n",
       "#sk-container-id-1 input.sk-hidden--visually {\n",
       "  border: 0;\n",
       "  clip: rect(1px 1px 1px 1px);\n",
       "  clip: rect(1px, 1px, 1px, 1px);\n",
       "  height: 1px;\n",
       "  margin: -1px;\n",
       "  overflow: hidden;\n",
       "  padding: 0;\n",
       "  position: absolute;\n",
       "  width: 1px;\n",
       "}\n",
       "\n",
       "#sk-container-id-1 div.sk-dashed-wrapped {\n",
       "  border: 1px dashed var(--sklearn-color-line);\n",
       "  margin: 0 0.4em 0.5em 0.4em;\n",
       "  box-sizing: border-box;\n",
       "  padding-bottom: 0.4em;\n",
       "  background-color: var(--sklearn-color-background);\n",
       "}\n",
       "\n",
       "#sk-container-id-1 div.sk-container {\n",
       "  /* jupyter's `normalize.less` sets `[hidden] { display: none; }`\n",
       "     but bootstrap.min.css set `[hidden] { display: none !important; }`\n",
       "     so we also need the `!important` here to be able to override the\n",
       "     default hidden behavior on the sphinx rendered scikit-learn.org.\n",
       "     See: https://github.com/scikit-learn/scikit-learn/issues/21755 */\n",
       "  display: inline-block !important;\n",
       "  position: relative;\n",
       "}\n",
       "\n",
       "#sk-container-id-1 div.sk-text-repr-fallback {\n",
       "  display: none;\n",
       "}\n",
       "\n",
       "div.sk-parallel-item,\n",
       "div.sk-serial,\n",
       "div.sk-item {\n",
       "  /* draw centered vertical line to link estimators */\n",
       "  background-image: linear-gradient(var(--sklearn-color-text-on-default-background), var(--sklearn-color-text-on-default-background));\n",
       "  background-size: 2px 100%;\n",
       "  background-repeat: no-repeat;\n",
       "  background-position: center center;\n",
       "}\n",
       "\n",
       "/* Parallel-specific style estimator block */\n",
       "\n",
       "#sk-container-id-1 div.sk-parallel-item::after {\n",
       "  content: \"\";\n",
       "  width: 100%;\n",
       "  border-bottom: 2px solid var(--sklearn-color-text-on-default-background);\n",
       "  flex-grow: 1;\n",
       "}\n",
       "\n",
       "#sk-container-id-1 div.sk-parallel {\n",
       "  display: flex;\n",
       "  align-items: stretch;\n",
       "  justify-content: center;\n",
       "  background-color: var(--sklearn-color-background);\n",
       "  position: relative;\n",
       "}\n",
       "\n",
       "#sk-container-id-1 div.sk-parallel-item {\n",
       "  display: flex;\n",
       "  flex-direction: column;\n",
       "}\n",
       "\n",
       "#sk-container-id-1 div.sk-parallel-item:first-child::after {\n",
       "  align-self: flex-end;\n",
       "  width: 50%;\n",
       "}\n",
       "\n",
       "#sk-container-id-1 div.sk-parallel-item:last-child::after {\n",
       "  align-self: flex-start;\n",
       "  width: 50%;\n",
       "}\n",
       "\n",
       "#sk-container-id-1 div.sk-parallel-item:only-child::after {\n",
       "  width: 0;\n",
       "}\n",
       "\n",
       "/* Serial-specific style estimator block */\n",
       "\n",
       "#sk-container-id-1 div.sk-serial {\n",
       "  display: flex;\n",
       "  flex-direction: column;\n",
       "  align-items: center;\n",
       "  background-color: var(--sklearn-color-background);\n",
       "  padding-right: 1em;\n",
       "  padding-left: 1em;\n",
       "}\n",
       "\n",
       "\n",
       "/* Toggleable style: style used for estimator/Pipeline/ColumnTransformer box that is\n",
       "clickable and can be expanded/collapsed.\n",
       "- Pipeline and ColumnTransformer use this feature and define the default style\n",
       "- Estimators will overwrite some part of the style using the `sk-estimator` class\n",
       "*/\n",
       "\n",
       "/* Pipeline and ColumnTransformer style (default) */\n",
       "\n",
       "#sk-container-id-1 div.sk-toggleable {\n",
       "  /* Default theme specific background. It is overwritten whether we have a\n",
       "  specific estimator or a Pipeline/ColumnTransformer */\n",
       "  background-color: var(--sklearn-color-background);\n",
       "}\n",
       "\n",
       "/* Toggleable label */\n",
       "#sk-container-id-1 label.sk-toggleable__label {\n",
       "  cursor: pointer;\n",
       "  display: block;\n",
       "  width: 100%;\n",
       "  margin-bottom: 0;\n",
       "  padding: 0.5em;\n",
       "  box-sizing: border-box;\n",
       "  text-align: center;\n",
       "}\n",
       "\n",
       "#sk-container-id-1 label.sk-toggleable__label-arrow:before {\n",
       "  /* Arrow on the left of the label */\n",
       "  content: \"▸\";\n",
       "  float: left;\n",
       "  margin-right: 0.25em;\n",
       "  color: var(--sklearn-color-icon);\n",
       "}\n",
       "\n",
       "#sk-container-id-1 label.sk-toggleable__label-arrow:hover:before {\n",
       "  color: var(--sklearn-color-text);\n",
       "}\n",
       "\n",
       "/* Toggleable content - dropdown */\n",
       "\n",
       "#sk-container-id-1 div.sk-toggleable__content {\n",
       "  max-height: 0;\n",
       "  max-width: 0;\n",
       "  overflow: hidden;\n",
       "  text-align: left;\n",
       "  /* unfitted */\n",
       "  background-color: var(--sklearn-color-unfitted-level-0);\n",
       "}\n",
       "\n",
       "#sk-container-id-1 div.sk-toggleable__content.fitted {\n",
       "  /* fitted */\n",
       "  background-color: var(--sklearn-color-fitted-level-0);\n",
       "}\n",
       "\n",
       "#sk-container-id-1 div.sk-toggleable__content pre {\n",
       "  margin: 0.2em;\n",
       "  border-radius: 0.25em;\n",
       "  color: var(--sklearn-color-text);\n",
       "  /* unfitted */\n",
       "  background-color: var(--sklearn-color-unfitted-level-0);\n",
       "}\n",
       "\n",
       "#sk-container-id-1 div.sk-toggleable__content.fitted pre {\n",
       "  /* unfitted */\n",
       "  background-color: var(--sklearn-color-fitted-level-0);\n",
       "}\n",
       "\n",
       "#sk-container-id-1 input.sk-toggleable__control:checked~div.sk-toggleable__content {\n",
       "  /* Expand drop-down */\n",
       "  max-height: 200px;\n",
       "  max-width: 100%;\n",
       "  overflow: auto;\n",
       "}\n",
       "\n",
       "#sk-container-id-1 input.sk-toggleable__control:checked~label.sk-toggleable__label-arrow:before {\n",
       "  content: \"▾\";\n",
       "}\n",
       "\n",
       "/* Pipeline/ColumnTransformer-specific style */\n",
       "\n",
       "#sk-container-id-1 div.sk-label input.sk-toggleable__control:checked~label.sk-toggleable__label {\n",
       "  color: var(--sklearn-color-text);\n",
       "  background-color: var(--sklearn-color-unfitted-level-2);\n",
       "}\n",
       "\n",
       "#sk-container-id-1 div.sk-label.fitted input.sk-toggleable__control:checked~label.sk-toggleable__label {\n",
       "  background-color: var(--sklearn-color-fitted-level-2);\n",
       "}\n",
       "\n",
       "/* Estimator-specific style */\n",
       "\n",
       "/* Colorize estimator box */\n",
       "#sk-container-id-1 div.sk-estimator input.sk-toggleable__control:checked~label.sk-toggleable__label {\n",
       "  /* unfitted */\n",
       "  background-color: var(--sklearn-color-unfitted-level-2);\n",
       "}\n",
       "\n",
       "#sk-container-id-1 div.sk-estimator.fitted input.sk-toggleable__control:checked~label.sk-toggleable__label {\n",
       "  /* fitted */\n",
       "  background-color: var(--sklearn-color-fitted-level-2);\n",
       "}\n",
       "\n",
       "#sk-container-id-1 div.sk-label label.sk-toggleable__label,\n",
       "#sk-container-id-1 div.sk-label label {\n",
       "  /* The background is the default theme color */\n",
       "  color: var(--sklearn-color-text-on-default-background);\n",
       "}\n",
       "\n",
       "/* On hover, darken the color of the background */\n",
       "#sk-container-id-1 div.sk-label:hover label.sk-toggleable__label {\n",
       "  color: var(--sklearn-color-text);\n",
       "  background-color: var(--sklearn-color-unfitted-level-2);\n",
       "}\n",
       "\n",
       "/* Label box, darken color on hover, fitted */\n",
       "#sk-container-id-1 div.sk-label.fitted:hover label.sk-toggleable__label.fitted {\n",
       "  color: var(--sklearn-color-text);\n",
       "  background-color: var(--sklearn-color-fitted-level-2);\n",
       "}\n",
       "\n",
       "/* Estimator label */\n",
       "\n",
       "#sk-container-id-1 div.sk-label label {\n",
       "  font-family: monospace;\n",
       "  font-weight: bold;\n",
       "  display: inline-block;\n",
       "  line-height: 1.2em;\n",
       "}\n",
       "\n",
       "#sk-container-id-1 div.sk-label-container {\n",
       "  text-align: center;\n",
       "}\n",
       "\n",
       "/* Estimator-specific */\n",
       "#sk-container-id-1 div.sk-estimator {\n",
       "  font-family: monospace;\n",
       "  border: 1px dotted var(--sklearn-color-border-box);\n",
       "  border-radius: 0.25em;\n",
       "  box-sizing: border-box;\n",
       "  margin-bottom: 0.5em;\n",
       "  /* unfitted */\n",
       "  background-color: var(--sklearn-color-unfitted-level-0);\n",
       "}\n",
       "\n",
       "#sk-container-id-1 div.sk-estimator.fitted {\n",
       "  /* fitted */\n",
       "  background-color: var(--sklearn-color-fitted-level-0);\n",
       "}\n",
       "\n",
       "/* on hover */\n",
       "#sk-container-id-1 div.sk-estimator:hover {\n",
       "  /* unfitted */\n",
       "  background-color: var(--sklearn-color-unfitted-level-2);\n",
       "}\n",
       "\n",
       "#sk-container-id-1 div.sk-estimator.fitted:hover {\n",
       "  /* fitted */\n",
       "  background-color: var(--sklearn-color-fitted-level-2);\n",
       "}\n",
       "\n",
       "/* Specification for estimator info (e.g. \"i\" and \"?\") */\n",
       "\n",
       "/* Common style for \"i\" and \"?\" */\n",
       "\n",
       ".sk-estimator-doc-link,\n",
       "a:link.sk-estimator-doc-link,\n",
       "a:visited.sk-estimator-doc-link {\n",
       "  float: right;\n",
       "  font-size: smaller;\n",
       "  line-height: 1em;\n",
       "  font-family: monospace;\n",
       "  background-color: var(--sklearn-color-background);\n",
       "  border-radius: 1em;\n",
       "  height: 1em;\n",
       "  width: 1em;\n",
       "  text-decoration: none !important;\n",
       "  margin-left: 1ex;\n",
       "  /* unfitted */\n",
       "  border: var(--sklearn-color-unfitted-level-1) 1pt solid;\n",
       "  color: var(--sklearn-color-unfitted-level-1);\n",
       "}\n",
       "\n",
       ".sk-estimator-doc-link.fitted,\n",
       "a:link.sk-estimator-doc-link.fitted,\n",
       "a:visited.sk-estimator-doc-link.fitted {\n",
       "  /* fitted */\n",
       "  border: var(--sklearn-color-fitted-level-1) 1pt solid;\n",
       "  color: var(--sklearn-color-fitted-level-1);\n",
       "}\n",
       "\n",
       "/* On hover */\n",
       "div.sk-estimator:hover .sk-estimator-doc-link:hover,\n",
       ".sk-estimator-doc-link:hover,\n",
       "div.sk-label-container:hover .sk-estimator-doc-link:hover,\n",
       ".sk-estimator-doc-link:hover {\n",
       "  /* unfitted */\n",
       "  background-color: var(--sklearn-color-unfitted-level-3);\n",
       "  color: var(--sklearn-color-background);\n",
       "  text-decoration: none;\n",
       "}\n",
       "\n",
       "div.sk-estimator.fitted:hover .sk-estimator-doc-link.fitted:hover,\n",
       ".sk-estimator-doc-link.fitted:hover,\n",
       "div.sk-label-container:hover .sk-estimator-doc-link.fitted:hover,\n",
       ".sk-estimator-doc-link.fitted:hover {\n",
       "  /* fitted */\n",
       "  background-color: var(--sklearn-color-fitted-level-3);\n",
       "  color: var(--sklearn-color-background);\n",
       "  text-decoration: none;\n",
       "}\n",
       "\n",
       "/* Span, style for the box shown on hovering the info icon */\n",
       ".sk-estimator-doc-link span {\n",
       "  display: none;\n",
       "  z-index: 9999;\n",
       "  position: relative;\n",
       "  font-weight: normal;\n",
       "  right: .2ex;\n",
       "  padding: .5ex;\n",
       "  margin: .5ex;\n",
       "  width: min-content;\n",
       "  min-width: 20ex;\n",
       "  max-width: 50ex;\n",
       "  color: var(--sklearn-color-text);\n",
       "  box-shadow: 2pt 2pt 4pt #999;\n",
       "  /* unfitted */\n",
       "  background: var(--sklearn-color-unfitted-level-0);\n",
       "  border: .5pt solid var(--sklearn-color-unfitted-level-3);\n",
       "}\n",
       "\n",
       ".sk-estimator-doc-link.fitted span {\n",
       "  /* fitted */\n",
       "  background: var(--sklearn-color-fitted-level-0);\n",
       "  border: var(--sklearn-color-fitted-level-3);\n",
       "}\n",
       "\n",
       ".sk-estimator-doc-link:hover span {\n",
       "  display: block;\n",
       "}\n",
       "\n",
       "/* \"?\"-specific style due to the `<a>` HTML tag */\n",
       "\n",
       "#sk-container-id-1 a.estimator_doc_link {\n",
       "  float: right;\n",
       "  font-size: 1rem;\n",
       "  line-height: 1em;\n",
       "  font-family: monospace;\n",
       "  background-color: var(--sklearn-color-background);\n",
       "  border-radius: 1rem;\n",
       "  height: 1rem;\n",
       "  width: 1rem;\n",
       "  text-decoration: none;\n",
       "  /* unfitted */\n",
       "  color: var(--sklearn-color-unfitted-level-1);\n",
       "  border: var(--sklearn-color-unfitted-level-1) 1pt solid;\n",
       "}\n",
       "\n",
       "#sk-container-id-1 a.estimator_doc_link.fitted {\n",
       "  /* fitted */\n",
       "  border: var(--sklearn-color-fitted-level-1) 1pt solid;\n",
       "  color: var(--sklearn-color-fitted-level-1);\n",
       "}\n",
       "\n",
       "/* On hover */\n",
       "#sk-container-id-1 a.estimator_doc_link:hover {\n",
       "  /* unfitted */\n",
       "  background-color: var(--sklearn-color-unfitted-level-3);\n",
       "  color: var(--sklearn-color-background);\n",
       "  text-decoration: none;\n",
       "}\n",
       "\n",
       "#sk-container-id-1 a.estimator_doc_link.fitted:hover {\n",
       "  /* fitted */\n",
       "  background-color: var(--sklearn-color-fitted-level-3);\n",
       "}\n",
       "</style><div id=\"sk-container-id-1\" class=\"sk-top-container\"><div class=\"sk-text-repr-fallback\"><pre>XGBClassifier(base_score=None, booster=None, callbacks=None,\n",
       "              colsample_bylevel=None, colsample_bynode=0.9897967092891895,\n",
       "              colsample_bytree=None, device=None, early_stopping_rounds=None,\n",
       "              enable_categorical=False,\n",
       "              eval_metric=&lt;function custom_f1_score at 0x7fb23a26fba0&gt;,\n",
       "              feature_types=None, gamma=None, grow_policy=None,\n",
       "              importance_type=None, interaction_constraints=None,\n",
       "              learning_rate=0.28986301525524527, max_bin=None,\n",
       "              max_cat_threshold=None, max_cat_to_onehot=None,\n",
       "              max_delta_step=None, max_depth=18, max_leaves=None,\n",
       "              min_child_weight=24, missing=nan, monotone_constraints=None,\n",
       "              multi_strategy=None, n_estimators=102, n_jobs=None,\n",
       "              num_parallel_tree=None, objective=&#x27;multi:softprob&#x27;, ...)</pre><b>In a Jupyter environment, please rerun this cell to show the HTML representation or trust the notebook. <br />On GitHub, the HTML representation is unable to render, please try loading this page with nbviewer.org.</b></div><div class=\"sk-container\" hidden><div class=\"sk-item\"><div class=\"sk-estimator fitted sk-toggleable\"><input class=\"sk-toggleable__control sk-hidden--visually\" id=\"sk-estimator-id-1\" type=\"checkbox\" checked><label for=\"sk-estimator-id-1\" class=\"sk-toggleable__label fitted sk-toggleable__label-arrow fitted\">&nbsp;XGBClassifier<span class=\"sk-estimator-doc-link fitted\">i<span>Fitted</span></span></label><div class=\"sk-toggleable__content fitted\"><pre>XGBClassifier(base_score=None, booster=None, callbacks=None,\n",
       "              colsample_bylevel=None, colsample_bynode=0.9897967092891895,\n",
       "              colsample_bytree=None, device=None, early_stopping_rounds=None,\n",
       "              enable_categorical=False,\n",
       "              eval_metric=&lt;function custom_f1_score at 0x7fb23a26fba0&gt;,\n",
       "              feature_types=None, gamma=None, grow_policy=None,\n",
       "              importance_type=None, interaction_constraints=None,\n",
       "              learning_rate=0.28986301525524527, max_bin=None,\n",
       "              max_cat_threshold=None, max_cat_to_onehot=None,\n",
       "              max_delta_step=None, max_depth=18, max_leaves=None,\n",
       "              min_child_weight=24, missing=nan, monotone_constraints=None,\n",
       "              multi_strategy=None, n_estimators=102, n_jobs=None,\n",
       "              num_parallel_tree=None, objective=&#x27;multi:softprob&#x27;, ...)</pre></div> </div></div></div></div>"
      ],
      "text/plain": [
       "XGBClassifier(base_score=None, booster=None, callbacks=None,\n",
       "              colsample_bylevel=None, colsample_bynode=0.9897967092891895,\n",
       "              colsample_bytree=None, device=None, early_stopping_rounds=None,\n",
       "              enable_categorical=False,\n",
       "              eval_metric=<function custom_f1_score at 0x7fb23a26fba0>,\n",
       "              feature_types=None, gamma=None, grow_policy=None,\n",
       "              importance_type=None, interaction_constraints=None,\n",
       "              learning_rate=0.28986301525524527, max_bin=None,\n",
       "              max_cat_threshold=None, max_cat_to_onehot=None,\n",
       "              max_delta_step=None, max_depth=18, max_leaves=None,\n",
       "              min_child_weight=24, missing=nan, monotone_constraints=None,\n",
       "              multi_strategy=None, n_estimators=102, n_jobs=None,\n",
       "              num_parallel_tree=None, objective='multi:softprob', ...)"
      ]
     },
     "execution_count": 21,
     "metadata": {},
     "output_type": "execute_result"
    }
   ],
   "source": [
    "n_estimators = int(study.best_trial.user_attrs['best_iteration']*1.2)\n",
    "xgb = xgboost.XGBClassifier(\n",
    "        eval_metric=eval_metric,\n",
    "        n_estimators=n_estimators,\n",
    "        **study.best_trial.params\n",
    "    )\n",
    "xgb.fit(\n",
    "    ssp.vstack((X_train, X_val)), \n",
    "    np.concatenate((y_train_enc, y_val_enc)),\n",
    "    verbose=1,\n",
    ")"
   ]
  },
  {
   "cell_type": "code",
   "execution_count": 22,
   "id": "f620fde4",
   "metadata": {
    "execution": {
     "iopub.execute_input": "2025-05-15T16:18:07.087522Z",
     "iopub.status.busy": "2025-05-15T16:18:07.087316Z",
     "iopub.status.idle": "2025-05-15T16:18:07.141513Z",
     "shell.execute_reply": "2025-05-15T16:18:07.141141Z"
    },
    "papermill": {
     "duration": 0.06512,
     "end_time": "2025-05-15T16:18:07.142649",
     "exception": false,
     "start_time": "2025-05-15T16:18:07.077529",
     "status": "completed"
    },
    "tags": []
   },
   "outputs": [
    {
     "data": {
      "text/plain": [
       "['/scratch_isilon/groups/singlecell/shared/projects/Inflammation-PBMCs-Atlas/03_downstream_analysis/08_gene_importance/xgboost_external_validation/xgboost_TopN_genes/results_20/best_model/ILC_14_0_xgb.json']"
      ]
     },
     "execution_count": 22,
     "metadata": {},
     "output_type": "execute_result"
    }
   ],
   "source": [
    "out_dir = here(f'03_downstream_analysis/08_gene_importance/xgboost_external_validation/xgboost_TopN_genes/results_{N_GENES}/best_model')\n",
    "\n",
    "if not os.path.exists(out_dir):\n",
    "    os.makedirs(out_dir)\n",
    "    \n",
    "joblib.dump(xgb, os.path.join(out_dir, f'{CELL_TYPE}_{SEED}_{TEST_SPLIT_IDX}_xgb.json'))"
   ]
  },
  {
   "cell_type": "code",
   "execution_count": 23,
   "id": "14bc0929",
   "metadata": {
    "execution": {
     "iopub.execute_input": "2025-05-15T16:18:07.172208Z",
     "iopub.status.busy": "2025-05-15T16:18:07.172005Z",
     "iopub.status.idle": "2025-05-15T16:18:07.363341Z",
     "shell.execute_reply": "2025-05-15T16:18:07.362940Z"
    },
    "papermill": {
     "duration": 0.212067,
     "end_time": "2025-05-15T16:18:07.364446",
     "exception": false,
     "start_time": "2025-05-15T16:18:07.152379",
     "status": "completed"
    },
    "tags": []
   },
   "outputs": [],
   "source": [
    "df_pred_test = pd.DataFrame(dict(\n",
    "    cell_id=train_adata.obs.iloc[test_idxs].index.values,\n",
    "    y_true=y_test, \n",
    "    y_true_code=y_test_enc, \n",
    "    y_pred=xgb.predict(X_test))).set_index('cell_id')"
   ]
  },
  {
   "cell_type": "code",
   "execution_count": 24,
   "id": "9193849f",
   "metadata": {
    "execution": {
     "iopub.execute_input": "2025-05-15T16:18:07.389687Z",
     "iopub.status.busy": "2025-05-15T16:18:07.389486Z",
     "iopub.status.idle": "2025-05-15T16:18:07.448022Z",
     "shell.execute_reply": "2025-05-15T16:18:07.447605Z"
    },
    "papermill": {
     "duration": 0.074966,
     "end_time": "2025-05-15T16:18:07.449065",
     "exception": false,
     "start_time": "2025-05-15T16:18:07.374099",
     "status": "completed"
    },
    "tags": []
   },
   "outputs": [],
   "source": [
    "out_dir = here(f'03_downstream_analysis/08_gene_importance/xgboost_external_validation/xgboost_TopN_genes/results_{N_GENES}/predictions')\n",
    "\n",
    "if not os.path.exists(out_dir):\n",
    "    os.makedirs(out_dir)\n",
    "    \n",
    "df_pred_test.to_csv(os.path.join(out_dir, f'{CELL_TYPE}_{SEED}_{TEST_SPLIT_IDX}_pred_test.zip'))"
   ]
  },
  {
   "cell_type": "code",
   "execution_count": 25,
   "id": "92773973",
   "metadata": {
    "execution": {
     "iopub.execute_input": "2025-05-15T16:18:07.469223Z",
     "iopub.status.busy": "2025-05-15T16:18:07.468868Z",
     "iopub.status.idle": "2025-05-15T16:18:07.479339Z",
     "shell.execute_reply": "2025-05-15T16:18:07.478968Z"
    },
    "papermill": {
     "duration": 0.021692,
     "end_time": "2025-05-15T16:18:07.480253",
     "exception": false,
     "start_time": "2025-05-15T16:18:07.458561",
     "status": "completed"
    },
    "tags": []
   },
   "outputs": [],
   "source": [
    "metrics_dict = dict(\n",
    "    BAS=balanced_accuracy_score(y_true=df_pred_test.y_true_code, y_pred=df_pred_test.y_pred), WF1=f1_score(y_true=df_pred_test.y_true_code, y_pred=df_pred_test.y_pred,average='weighted'))"
   ]
  },
  {
   "cell_type": "code",
   "execution_count": 26,
   "id": "59563a0a",
   "metadata": {
    "execution": {
     "iopub.execute_input": "2025-05-15T16:18:07.505161Z",
     "iopub.status.busy": "2025-05-15T16:18:07.504897Z",
     "iopub.status.idle": "2025-05-15T16:18:07.509002Z",
     "shell.execute_reply": "2025-05-15T16:18:07.508657Z"
    },
    "papermill": {
     "duration": 0.020947,
     "end_time": "2025-05-15T16:18:07.509953",
     "exception": false,
     "start_time": "2025-05-15T16:18:07.489006",
     "status": "completed"
    },
    "tags": []
   },
   "outputs": [
    {
     "data": {
      "text/plain": [
       "{'BAS': 0.4619967679137179, 'WF1': 0.6393164372233443}"
      ]
     },
     "execution_count": 26,
     "metadata": {},
     "output_type": "execute_result"
    }
   ],
   "source": [
    "metrics_dict"
   ]
  },
  {
   "cell_type": "code",
   "execution_count": 27,
   "id": "9a6633bc",
   "metadata": {
    "execution": {
     "iopub.execute_input": "2025-05-15T16:18:07.528605Z",
     "iopub.status.busy": "2025-05-15T16:18:07.528194Z",
     "iopub.status.idle": "2025-05-15T16:18:07.537507Z",
     "shell.execute_reply": "2025-05-15T16:18:07.537170Z"
    },
    "papermill": {
     "duration": 0.019674,
     "end_time": "2025-05-15T16:18:07.538354",
     "exception": false,
     "start_time": "2025-05-15T16:18:07.518680",
     "status": "completed"
    },
    "tags": []
   },
   "outputs": [
    {
     "data": {
      "text/html": [
       "<div>\n",
       "<style scoped>\n",
       "    .dataframe tbody tr th:only-of-type {\n",
       "        vertical-align: middle;\n",
       "    }\n",
       "\n",
       "    .dataframe tbody tr th {\n",
       "        vertical-align: top;\n",
       "    }\n",
       "\n",
       "    .dataframe thead th {\n",
       "        text-align: right;\n",
       "    }\n",
       "</style>\n",
       "<table border=\"1\" class=\"dataframe\">\n",
       "  <thead>\n",
       "    <tr style=\"text-align: right;\">\n",
       "      <th></th>\n",
       "      <th>BAS</th>\n",
       "      <th>WF1</th>\n",
       "      <th>split_idx</th>\n",
       "      <th>gene_set_seed</th>\n",
       "      <th>cell_type</th>\n",
       "    </tr>\n",
       "  </thead>\n",
       "  <tbody>\n",
       "    <tr>\n",
       "      <th>0</th>\n",
       "      <td>0.461997</td>\n",
       "      <td>0.639316</td>\n",
       "      <td>0</td>\n",
       "      <td>14</td>\n",
       "      <td>ILC</td>\n",
       "    </tr>\n",
       "  </tbody>\n",
       "</table>\n",
       "</div>"
      ],
      "text/plain": [
       "        BAS       WF1  split_idx  gene_set_seed cell_type\n",
       "0  0.461997  0.639316          0             14       ILC"
      ]
     },
     "execution_count": 27,
     "metadata": {},
     "output_type": "execute_result"
    }
   ],
   "source": [
    "metrics_df = pd.DataFrame.from_dict([metrics_dict]).assign(split_idx=TEST_SPLIT_IDX, gene_set_seed=SEED, cell_type=CELL_TYPE)\n",
    "metrics_df"
   ]
  },
  {
   "cell_type": "code",
   "execution_count": 28,
   "id": "480b6336",
   "metadata": {
    "execution": {
     "iopub.execute_input": "2025-05-15T16:18:07.563165Z",
     "iopub.status.busy": "2025-05-15T16:18:07.562929Z",
     "iopub.status.idle": "2025-05-15T16:18:07.571424Z",
     "shell.execute_reply": "2025-05-15T16:18:07.571030Z"
    },
    "papermill": {
     "duration": 0.01891,
     "end_time": "2025-05-15T16:18:07.572341",
     "exception": false,
     "start_time": "2025-05-15T16:18:07.553431",
     "status": "completed"
    },
    "tags": []
   },
   "outputs": [],
   "source": [
    "out_dir = here(f'03_downstream_analysis/08_gene_importance/xgboost_external_validation/xgboost_TopN_genes/results_{N_GENES}/metrics')\n",
    "\n",
    "if not os.path.exists(out_dir):\n",
    "    os.makedirs(out_dir)\n",
    "    \n",
    "metrics_df.to_csv(os.path.join(out_dir, f'{CELL_TYPE}_{SEED}_{TEST_SPLIT_IDX}_metrics.zip'))"
   ]
  }
 ],
 "metadata": {
  "kernelspec": {
   "display_name": "Python 3 (ipykernel)",
   "language": "python",
   "name": "python3"
  },
  "language_info": {
   "codemirror_mode": {
    "name": "ipython",
    "version": 3
   },
   "file_extension": ".py",
   "mimetype": "text/x-python",
   "name": "python",
   "nbconvert_exporter": "python",
   "pygments_lexer": "ipython3",
   "version": "3.12.5"
  },
  "papermill": {
   "default_parameters": {},
   "duration": 242.112211,
   "end_time": "2025-05-15T16:18:08.338096",
   "environment_variables": {},
   "exception": null,
   "input_path": "02_xgboost_fitting_external_20genes.ipynb",
   "output_path": "results_20/executed_notebooks/xgboost_fitting_external_CT_ILC_GS_14_seed0.ipynb",
   "parameters": {
    "CELL_TYPE": "ILC",
    "SEED": 14,
    "TEST_SPLIT_IDX": 0
   },
   "start_time": "2025-05-15T16:14:06.225885",
   "version": "2.6.0"
  }
 },
 "nbformat": 4,
 "nbformat_minor": 5
}