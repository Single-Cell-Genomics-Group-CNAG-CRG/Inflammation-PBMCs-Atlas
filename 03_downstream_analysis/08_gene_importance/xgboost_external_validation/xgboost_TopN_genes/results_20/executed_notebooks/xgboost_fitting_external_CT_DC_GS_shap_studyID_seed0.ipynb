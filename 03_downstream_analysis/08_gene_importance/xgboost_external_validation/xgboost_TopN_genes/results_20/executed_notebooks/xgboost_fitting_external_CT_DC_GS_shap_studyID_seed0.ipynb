{
 "cells": [
  {
   "cell_type": "code",
   "execution_count": 1,
   "id": "51bda32e",
   "metadata": {
    "editable": true,
    "execution": {
     "iopub.execute_input": "2025-05-14T16:09:55.664628Z",
     "iopub.status.busy": "2025-05-14T16:09:55.664323Z",
     "iopub.status.idle": "2025-05-14T16:09:55.666947Z",
     "shell.execute_reply": "2025-05-14T16:09:55.666645Z"
    },
    "papermill": {
     "duration": 0.010224,
     "end_time": "2025-05-14T16:09:55.667798",
     "exception": false,
     "start_time": "2025-05-14T16:09:55.657574",
     "status": "completed"
    },
    "slideshow": {
     "slide_type": ""
    },
    "tags": [
     "parameters"
    ]
   },
   "outputs": [],
   "source": [
    "CELL_TYPE = 'pDC'\n",
    "N_GENES: int = 20\n",
    "SEED = 'shap_studyID' #'disease_NOstudy' 'study_NOdisease' or 'int' or 'shap_studyID'\n",
    "TEST_SPLIT_IDX: int = 1 #[0,4]"
   ]
  },
  {
   "cell_type": "code",
   "execution_count": 2,
   "id": "99abef05",
   "metadata": {
    "execution": {
     "iopub.execute_input": "2025-05-14T16:09:55.678537Z",
     "iopub.status.busy": "2025-05-14T16:09:55.678320Z",
     "iopub.status.idle": "2025-05-14T16:09:55.680281Z",
     "shell.execute_reply": "2025-05-14T16:09:55.679980Z"
    },
    "papermill": {
     "duration": 0.008217,
     "end_time": "2025-05-14T16:09:55.681055",
     "exception": false,
     "start_time": "2025-05-14T16:09:55.672838",
     "status": "completed"
    },
    "tags": [
     "injected-parameters"
    ]
   },
   "outputs": [],
   "source": [
    "# Parameters\n",
    "CELL_TYPE = \"DC\"\n",
    "SEED = \"shap_studyID\"\n",
    "TEST_SPLIT_IDX = 0\n"
   ]
  },
  {
   "cell_type": "code",
   "execution_count": 3,
   "id": "332a0a73",
   "metadata": {
    "execution": {
     "iopub.execute_input": "2025-05-14T16:09:55.692354Z",
     "iopub.status.busy": "2025-05-14T16:09:55.692040Z",
     "iopub.status.idle": "2025-05-14T16:09:55.694169Z",
     "shell.execute_reply": "2025-05-14T16:09:55.693874Z"
    },
    "papermill": {
     "duration": 0.008909,
     "end_time": "2025-05-14T16:09:55.694942",
     "exception": false,
     "start_time": "2025-05-14T16:09:55.686033",
     "status": "completed"
    },
    "tags": []
   },
   "outputs": [],
   "source": [
    "N_SPLITS: int = 5\n",
    "N_TRIALS: int = 50"
   ]
  },
  {
   "cell_type": "code",
   "execution_count": 4,
   "id": "2ca98b60",
   "metadata": {
    "execution": {
     "iopub.execute_input": "2025-05-14T16:09:55.706832Z",
     "iopub.status.busy": "2025-05-14T16:09:55.706479Z",
     "iopub.status.idle": "2025-05-14T16:09:57.100830Z",
     "shell.execute_reply": "2025-05-14T16:09:57.100387Z"
    },
    "papermill": {
     "duration": 1.401737,
     "end_time": "2025-05-14T16:09:57.102086",
     "exception": false,
     "start_time": "2025-05-14T16:09:55.700349",
     "status": "completed"
    },
    "tags": []
   },
   "outputs": [],
   "source": [
    "import os\n",
    "import sys\n",
    "from pyprojroot.here import here\n",
    "import pandas as pd\n",
    "import anndata as ad\n",
    "import numpy as np\n",
    "import math\n",
    "from sklearn.model_selection import StratifiedGroupKFold\n",
    "from sklearn.preprocessing import LabelEncoder\n",
    "from sklearn.metrics import f1_score\n",
    "import matplotlib.pyplot as plt\n",
    "import seaborn as sns\n",
    "from itertools import product\n",
    "from sklearn.metrics import balanced_accuracy_score, f1_score\n",
    "import optuna\n",
    "\n",
    "import joblib\n",
    "import pickle\n",
    "import datetime\n",
    "\n",
    "import collections\n",
    "\n",
    "import xgboost\n",
    "from sklearn.preprocessing import LabelEncoder\n",
    "\n",
    "import scipy.sparse as ssp\n",
    "import joblib\n",
    "\n",
    "from dotenv import load_dotenv"
   ]
  },
  {
   "cell_type": "code",
   "execution_count": 5,
   "id": "6000c940",
   "metadata": {
    "execution": {
     "iopub.execute_input": "2025-05-14T16:09:57.115671Z",
     "iopub.status.busy": "2025-05-14T16:09:57.115338Z",
     "iopub.status.idle": "2025-05-14T16:09:57.120929Z",
     "shell.execute_reply": "2025-05-14T16:09:57.120636Z"
    },
    "papermill": {
     "duration": 0.012624,
     "end_time": "2025-05-14T16:09:57.121728",
     "exception": false,
     "start_time": "2025-05-14T16:09:57.109104",
     "status": "completed"
    },
    "tags": []
   },
   "outputs": [
    {
     "data": {
      "text/plain": [
       "True"
      ]
     },
     "execution_count": 5,
     "metadata": {},
     "output_type": "execute_result"
    }
   ],
   "source": [
    "load_dotenv()"
   ]
  },
  {
   "cell_type": "markdown",
   "id": "302c994e",
   "metadata": {
    "papermill": {
     "duration": 0.00547,
     "end_time": "2025-05-14T16:09:57.132143",
     "exception": false,
     "start_time": "2025-05-14T16:09:57.126673",
     "status": "completed"
    },
    "tags": []
   },
   "source": [
    "# LOAD DATASET"
   ]
  },
  {
   "cell_type": "code",
   "execution_count": 6,
   "id": "3f70cc95",
   "metadata": {
    "execution": {
     "iopub.execute_input": "2025-05-14T16:09:57.143213Z",
     "iopub.status.busy": "2025-05-14T16:09:57.142955Z",
     "iopub.status.idle": "2025-05-14T16:09:57.239835Z",
     "shell.execute_reply": "2025-05-14T16:09:57.239415Z"
    },
    "papermill": {
     "duration": 0.103697,
     "end_time": "2025-05-14T16:09:57.240987",
     "exception": false,
     "start_time": "2025-05-14T16:09:57.137290",
     "status": "completed"
    },
    "tags": []
   },
   "outputs": [],
   "source": [
    "train_adata = ad.read_h5ad(\n",
    "    here(f'03_downstream_analysis/08_gene_importance/xgboost_external_validation/xgboost_TopN_genes/data_cellTypes/EXTERNAL_{CELL_TYPE}.filtered.log1p.h5ad')\n",
    ")"
   ]
  },
  {
   "cell_type": "code",
   "execution_count": 7,
   "id": "cf6e5eda",
   "metadata": {
    "execution": {
     "iopub.execute_input": "2025-05-14T16:09:57.253274Z",
     "iopub.status.busy": "2025-05-14T16:09:57.252901Z",
     "iopub.status.idle": "2025-05-14T16:09:57.263961Z",
     "shell.execute_reply": "2025-05-14T16:09:57.263588Z"
    },
    "papermill": {
     "duration": 0.017725,
     "end_time": "2025-05-14T16:09:57.264814",
     "exception": false,
     "start_time": "2025-05-14T16:09:57.247089",
     "status": "completed"
    },
    "tags": []
   },
   "outputs": [
    {
     "name": "stdout",
     "output_type": "stream",
     "text": [
      "['ENSG00000138107' 'ENSG00000160710' 'ENSG00000122359' 'ENSG00000072958'\n",
      " 'ENSG00000183020' 'ENSG00000006125' 'ENSG00000143761' 'ENSG00000165527'\n",
      " 'ENSG00000170540' 'ENSG00000144746' 'ENSG00000162704' 'ENSG00000123268'\n",
      " 'ENSG00000152234' 'ENSG00000099624' 'ENSG00000156411' 'ENSG00000241837'\n",
      " 'ENSG00000185883' 'ENSG00000030110' 'ENSG00000069399' 'ENSG00000113916'\n",
      " 'ENSG00000111678' 'ENSG00000108561' 'ENSG00000198668' 'ENSG00000143933'\n",
      " 'ENSG00000114423' 'ENSG00000118971' 'ENSG00000124762' 'ENSG00000179583'\n",
      " 'ENSG00000141367' 'ENSG00000162368' 'ENSG00000103187' 'ENSG00000121966'\n",
      " 'ENSG00000051523' 'ENSG00000166847' 'ENSG00000165732' 'ENSG00000132002'\n",
      " 'ENSG00000120129' 'ENSG00000158050' 'ENSG00000088986' 'ENSG00000107223'\n",
      " 'ENSG00000254772' 'ENSG00000142634' 'ENSG00000100664' 'ENSG00000142227'\n",
      " 'ENSG00000170345' 'ENSG00000125740' 'ENSG00000114861' 'ENSG00000123689'\n",
      " 'ENSG00000170296' 'ENSG00000242616' 'ENSG00000115523' 'ENSG00000177885'\n",
      " 'ENSG00000143774' 'ENSG00000100453' 'ENSG00000184897' 'ENSG00000132475'\n",
      " 'ENSG00000197061' 'ENSG00000237541' 'ENSG00000232629' 'ENSG00000204592'\n",
      " 'ENSG00000108622' 'ENSG00000216490' 'ENSG00000159110' 'ENSG00000027697'\n",
      " 'ENSG00000211895' 'ENSG00000243646' 'ENSG00000147168' 'ENSG00000008517'\n",
      " 'ENSG00000125347' 'ENSG00000213928' 'ENSG00000136003' 'ENSG00000115232'\n",
      " 'ENSG00000132465' 'ENSG00000143543' 'ENSG00000177606' 'ENSG00000171223'\n",
      " 'ENSG00000121774' 'ENSG00000068796' 'ENSG00000075945' 'ENSG00000127528'\n",
      " 'ENSG00000186395' 'ENSG00000111716' 'ENSG00000104660' 'ENSG00000135363'\n",
      " 'ENSG00000107968' 'ENSG00000168389' 'ENSG00000163563' 'ENSG00000152082'\n",
      " 'ENSG00000186010' 'ENSG00000090266' 'ENSG00000172260' 'ENSG00000243678'\n",
      " 'ENSG00000105373' 'ENSG00000123358' 'ENSG00000153234' 'ENSG00000169564'\n",
      " 'ENSG00000197111' 'ENSG00000179094' 'ENSG00000108518' 'ENSG00000139289'\n",
      " 'ENSG00000198355' 'ENSG00000146278' 'ENSG00000175482' 'ENSG00000125534'\n",
      " 'ENSG00000172531' 'ENSG00000129084' 'ENSG00000106588' 'ENSG00000184007'\n",
      " 'ENSG00000175354' 'ENSG00000103490' 'ENSG00000108774' 'ENSG00000127314'\n",
      " 'ENSG00000173039' 'ENSG00000104856' 'ENSG00000219200' 'ENSG00000026297'\n",
      " 'ENSG00000126524' 'ENSG00000157020' 'ENSG00000113811' 'ENSG00000066336'\n",
      " 'ENSG00000136158' 'ENSG00000115875' 'ENSG00000164543' 'ENSG00000081059'\n",
      " 'ENSG00000105329' 'ENSG00000243749' 'ENSG00000205542' 'ENSG00000118503'\n",
      " 'ENSG00000006327' 'ENSG00000146072' 'ENSG00000239697' 'ENSG00000161955'\n",
      " 'ENSG00000102524' 'ENSG00000125657' 'ENSG00000009790' 'ENSG00000175104'\n",
      " 'ENSG00000181029' 'ENSG00000075234' 'ENSG00000167552' 'ENSG00000025708'\n",
      " 'ENSG00000244687' 'ENSG00000110057' 'ENSG00000105583' 'ENSG00000146457'\n",
      " 'ENSG00000065978' 'ENSG00000161642']\n"
     ]
    }
   ],
   "source": [
    "if SEED != 'all':\n",
    "    gene_subset = np.load(here(f'03_downstream_analysis/08_gene_importance/xgboost_external_validation/shap_gene_selection/gene_subsets_{N_GENES}/{CELL_TYPE}_{SEED}.npy'), allow_pickle=True)\n",
    "    train_adata = train_adata[:,gene_subset]\n",
    "    print(gene_subset)\n",
    "elif SEED == 'all':\n",
    "    print('Using all genes')\n",
    "else:\n",
    "    raise ValueError()"
   ]
  },
  {
   "cell_type": "code",
   "execution_count": 8,
   "id": "b0797730",
   "metadata": {
    "execution": {
     "iopub.execute_input": "2025-05-14T16:09:57.276023Z",
     "iopub.status.busy": "2025-05-14T16:09:57.275779Z",
     "iopub.status.idle": "2025-05-14T16:09:57.278656Z",
     "shell.execute_reply": "2025-05-14T16:09:57.278362Z"
    },
    "papermill": {
     "duration": 0.009457,
     "end_time": "2025-05-14T16:09:57.279446",
     "exception": false,
     "start_time": "2025-05-14T16:09:57.269989",
     "status": "completed"
    },
    "tags": []
   },
   "outputs": [
    {
     "data": {
      "text/plain": [
       "(5232, 146)"
      ]
     },
     "execution_count": 8,
     "metadata": {},
     "output_type": "execute_result"
    }
   ],
   "source": [
    "train_adata.shape"
   ]
  },
  {
   "cell_type": "code",
   "execution_count": 9,
   "id": "0af77a42",
   "metadata": {
    "execution": {
     "iopub.execute_input": "2025-05-14T16:09:57.290986Z",
     "iopub.status.busy": "2025-05-14T16:09:57.290753Z",
     "iopub.status.idle": "2025-05-14T16:09:57.294152Z",
     "shell.execute_reply": "2025-05-14T16:09:57.293858Z"
    },
    "papermill": {
     "duration": 0.010191,
     "end_time": "2025-05-14T16:09:57.295046",
     "exception": false,
     "start_time": "2025-05-14T16:09:57.284855",
     "status": "completed"
    },
    "tags": []
   },
   "outputs": [
    {
     "data": {
      "text/plain": [
       "['RA', 'healthy', 'COVID', 'HIV', 'cirrhosis', 'CD', 'SLE', 'sepsis']\n",
       "Categories (8, object): ['CD', 'COVID', 'HIV', 'RA', 'SLE', 'cirrhosis', 'healthy', 'sepsis']"
      ]
     },
     "execution_count": 9,
     "metadata": {},
     "output_type": "execute_result"
    }
   ],
   "source": [
    "train_adata.obs.disease.unique()"
   ]
  },
  {
   "cell_type": "code",
   "execution_count": 10,
   "id": "61141ae3",
   "metadata": {
    "execution": {
     "iopub.execute_input": "2025-05-14T16:09:57.307233Z",
     "iopub.status.busy": "2025-05-14T16:09:57.306877Z",
     "iopub.status.idle": "2025-05-14T16:09:57.310535Z",
     "shell.execute_reply": "2025-05-14T16:09:57.310230Z"
    },
    "papermill": {
     "duration": 0.01064,
     "end_time": "2025-05-14T16:09:57.311412",
     "exception": false,
     "start_time": "2025-05-14T16:09:57.300772",
     "status": "completed"
    },
    "tags": []
   },
   "outputs": [
    {
     "data": {
      "text/plain": [
       "['SCGT00val_I036021_T0', 'SCGT00val_I036023_T0', 'SCGT00val_I036024_T0', 'SCGT00val_I036019_T0', 'SCGT00val_I0364_T0', ..., '10XGenomics_10XHC2_T0', '10XGenomics_10XHC3_T0', '10XGenomics_10XHC5_T0', '10XGenomics_10XHC7_T0', '10XGenomics_10XHC8_T0']\n",
       "Length: 86\n",
       "Categories (86, object): ['10XGenomics_10XHC1_T0', '10XGenomics_10XHC2_T0', '10XGenomics_10XHC3_T0', '10XGenomics_10XHC4_T0', ..., 'Savage2021_BRISL6_T0', 'Savage2021_BRISL7_T0', 'Savage2021_PIDA_T0', 'Savage2021_PIDB_T0']"
      ]
     },
     "execution_count": 10,
     "metadata": {},
     "output_type": "execute_result"
    }
   ],
   "source": [
    "train_adata.obs.sampleID.unique()"
   ]
  },
  {
   "cell_type": "code",
   "execution_count": 11,
   "id": "8e3feab2",
   "metadata": {
    "execution": {
     "iopub.execute_input": "2025-05-14T16:09:57.323630Z",
     "iopub.status.busy": "2025-05-14T16:09:57.323187Z",
     "iopub.status.idle": "2025-05-14T16:09:57.362129Z",
     "shell.execute_reply": "2025-05-14T16:09:57.361798Z"
    },
    "papermill": {
     "duration": 0.045744,
     "end_time": "2025-05-14T16:09:57.363176",
     "exception": false,
     "start_time": "2025-05-14T16:09:57.317432",
     "status": "completed"
    },
    "tags": []
   },
   "outputs": [],
   "source": [
    "all_idxs = np.arange(train_adata.obs.shape[0])\n",
    "left_out_splits = [s[1] for s in StratifiedGroupKFold(n_splits=N_SPLITS).split(all_idxs, train_adata.obs.disease, train_adata.obs.sampleID)]"
   ]
  },
  {
   "cell_type": "code",
   "execution_count": 12,
   "id": "bb247d6c",
   "metadata": {
    "execution": {
     "iopub.execute_input": "2025-05-14T16:09:57.375295Z",
     "iopub.status.busy": "2025-05-14T16:09:57.374850Z",
     "iopub.status.idle": "2025-05-14T16:09:57.378042Z",
     "shell.execute_reply": "2025-05-14T16:09:57.377756Z"
    },
    "papermill": {
     "duration": 0.009746,
     "end_time": "2025-05-14T16:09:57.378843",
     "exception": false,
     "start_time": "2025-05-14T16:09:57.369097",
     "status": "completed"
    },
    "tags": []
   },
   "outputs": [
    {
     "data": {
      "text/plain": [
       "([2, 3, 4], 1, 0)"
      ]
     },
     "execution_count": 12,
     "metadata": {},
     "output_type": "execute_result"
    }
   ],
   "source": [
    "TRAIN_SPLIT_IDXS = [0,1,2,3,4]\n",
    "VAL_SPLIT_IDX = (TEST_SPLIT_IDX + 1) % 5\n",
    "TRAIN_SPLIT_IDXS.remove(TEST_SPLIT_IDX)\n",
    "TRAIN_SPLIT_IDXS.remove(VAL_SPLIT_IDX)\n",
    "TRAIN_SPLIT_IDXS, VAL_SPLIT_IDX, TEST_SPLIT_IDX"
   ]
  },
  {
   "cell_type": "code",
   "execution_count": 13,
   "id": "bb6f19ac",
   "metadata": {
    "execution": {
     "iopub.execute_input": "2025-05-14T16:09:57.406448Z",
     "iopub.status.busy": "2025-05-14T16:09:57.406105Z",
     "iopub.status.idle": "2025-05-14T16:09:57.408378Z",
     "shell.execute_reply": "2025-05-14T16:09:57.408070Z"
    },
    "papermill": {
     "duration": 0.017025,
     "end_time": "2025-05-14T16:09:57.409137",
     "exception": false,
     "start_time": "2025-05-14T16:09:57.392112",
     "status": "completed"
    },
    "tags": []
   },
   "outputs": [],
   "source": [
    "train_idxs = np.concatenate([left_out_splits[idx] for idx in TRAIN_SPLIT_IDXS])\n",
    "val_idxs = left_out_splits[VAL_SPLIT_IDX]\n",
    "test_idxs = left_out_splits[TEST_SPLIT_IDX]"
   ]
  },
  {
   "cell_type": "markdown",
   "id": "accc6033",
   "metadata": {
    "papermill": {
     "duration": 0.146289,
     "end_time": "2025-05-14T16:09:57.568877",
     "exception": false,
     "start_time": "2025-05-14T16:09:57.422588",
     "status": "completed"
    },
    "tags": []
   },
   "source": [
    "### SUBSET DATASET INTO TRAIN/TEST/VAL SPLITS"
   ]
  },
  {
   "cell_type": "code",
   "execution_count": 14,
   "id": "381ca2d6",
   "metadata": {
    "execution": {
     "iopub.execute_input": "2025-05-14T16:09:57.821496Z",
     "iopub.status.busy": "2025-05-14T16:09:57.821190Z",
     "iopub.status.idle": "2025-05-14T16:09:57.852812Z",
     "shell.execute_reply": "2025-05-14T16:09:57.852472Z"
    },
    "papermill": {
     "duration": 0.149465,
     "end_time": "2025-05-14T16:09:57.853693",
     "exception": false,
     "start_time": "2025-05-14T16:09:57.704228",
     "status": "completed"
    },
    "tags": []
   },
   "outputs": [
    {
     "data": {
      "text/plain": [
       "((3132, 146), (1033, 146), (1067, 146))"
      ]
     },
     "execution_count": 14,
     "metadata": {},
     "output_type": "execute_result"
    }
   ],
   "source": [
    "X_train = train_adata.X[train_idxs]\n",
    "X_test = train_adata.X[test_idxs]\n",
    "X_val = train_adata.X[val_idxs]\n",
    "X_train.shape, X_test.shape, X_val.shape"
   ]
  },
  {
   "cell_type": "code",
   "execution_count": 15,
   "id": "77a5fecc",
   "metadata": {
    "execution": {
     "iopub.execute_input": "2025-05-14T16:09:58.132799Z",
     "iopub.status.busy": "2025-05-14T16:09:58.132563Z",
     "iopub.status.idle": "2025-05-14T16:09:58.137441Z",
     "shell.execute_reply": "2025-05-14T16:09:58.137121Z"
    },
    "papermill": {
     "duration": 0.123051,
     "end_time": "2025-05-14T16:09:58.138217",
     "exception": false,
     "start_time": "2025-05-14T16:09:58.015166",
     "status": "completed"
    },
    "tags": []
   },
   "outputs": [
    {
     "data": {
      "text/plain": [
       "((3132,), (1033,), (1067,))"
      ]
     },
     "execution_count": 15,
     "metadata": {},
     "output_type": "execute_result"
    }
   ],
   "source": [
    "y_train = train_adata.obs.iloc[train_idxs].disease.values.astype(str)\n",
    "y_test = train_adata.obs.iloc[test_idxs].disease.values.astype(str)\n",
    "y_val = train_adata.obs.iloc[val_idxs].disease.values.astype(str)\n",
    "y_train.shape, y_test.shape, y_val.shape"
   ]
  },
  {
   "cell_type": "code",
   "execution_count": 16,
   "id": "7ad52ca8",
   "metadata": {
    "execution": {
     "iopub.execute_input": "2025-05-14T16:09:58.397390Z",
     "iopub.status.busy": "2025-05-14T16:09:58.397174Z",
     "iopub.status.idle": "2025-05-14T16:09:58.400517Z",
     "shell.execute_reply": "2025-05-14T16:09:58.400220Z"
    },
    "papermill": {
     "duration": 0.117581,
     "end_time": "2025-05-14T16:09:58.401375",
     "exception": false,
     "start_time": "2025-05-14T16:09:58.283794",
     "status": "completed"
    },
    "tags": []
   },
   "outputs": [],
   "source": [
    "lenc = LabelEncoder()\n",
    "y_train_enc = lenc.fit_transform(y_train)\n",
    "y_val_enc = lenc.transform(y_val)\n",
    "y_test_enc = lenc.transform(y_test)"
   ]
  },
  {
   "cell_type": "markdown",
   "id": "99932585",
   "metadata": {
    "papermill": {
     "duration": 0.006123,
     "end_time": "2025-05-14T16:09:58.542552",
     "exception": false,
     "start_time": "2025-05-14T16:09:58.536429",
     "status": "completed"
    },
    "tags": []
   },
   "source": [
    "### GENERATE F1 "
   ]
  },
  {
   "cell_type": "code",
   "execution_count": 17,
   "id": "d879c4e0",
   "metadata": {
    "execution": {
     "iopub.execute_input": "2025-05-14T16:09:58.555940Z",
     "iopub.status.busy": "2025-05-14T16:09:58.555465Z",
     "iopub.status.idle": "2025-05-14T16:09:58.557783Z",
     "shell.execute_reply": "2025-05-14T16:09:58.557484Z"
    },
    "papermill": {
     "duration": 0.009847,
     "end_time": "2025-05-14T16:09:58.558547",
     "exception": false,
     "start_time": "2025-05-14T16:09:58.548700",
     "status": "completed"
    },
    "tags": []
   },
   "outputs": [],
   "source": [
    "def custom_f1_score(y_true, y_pred):\n",
    "    return -f1_score(y_true, y_pred.argmax(1), average='weighted')"
   ]
  },
  {
   "cell_type": "code",
   "execution_count": 18,
   "id": "d605221d",
   "metadata": {
    "execution": {
     "iopub.execute_input": "2025-05-14T16:09:58.573423Z",
     "iopub.status.busy": "2025-05-14T16:09:58.573066Z",
     "iopub.status.idle": "2025-05-14T16:09:58.576845Z",
     "shell.execute_reply": "2025-05-14T16:09:58.576540Z"
    },
    "papermill": {
     "duration": 0.011307,
     "end_time": "2025-05-14T16:09:58.577636",
     "exception": false,
     "start_time": "2025-05-14T16:09:58.566329",
     "status": "completed"
    },
    "tags": []
   },
   "outputs": [],
   "source": [
    "eval_metric=custom_f1_score\n",
    "eval_metric_name='custom_f1_score'\n",
    "\n",
    "def objective(trial):\n",
    "    params = {\n",
    "        'n_estimators': 1500,\n",
    "        'max_depth': trial.suggest_int('max_depth', 3, 20),\n",
    "        'min_child_weight': trial.suggest_int('min_child_weight', 1, 250),\n",
    "        'subsample': trial.suggest_float('subsample', 0.1, 1.0),\n",
    "        'colsample_bynode': trial.suggest_float('colsample_bynode', 0.1, 1.0),\n",
    "        'learning_rate': trial.suggest_float('learning_rate', 1e-3, 5e-1, log=True),\n",
    "    }\n",
    "    pruning_callback = optuna.integration.XGBoostPruningCallback(trial, f'validation_0-{eval_metric_name}')\n",
    "    es_callback = xgboost.callback.EarlyStopping(20, min_delta=0.001)\n",
    "    xgb = xgboost.XGBClassifier(\n",
    "        eval_metric=eval_metric,\n",
    "        callbacks=[pruning_callback, es_callback],\n",
    "        n_jobs=5,\n",
    "        **params\n",
    "    )\n",
    "    xgb.fit(\n",
    "        X_train, \n",
    "        y_train_enc, \n",
    "        verbose=0,\n",
    "        eval_set=[(X_val, y_val_enc)],\n",
    "    )\n",
    "    trial.set_user_attr('best_iteration', xgb.best_iteration)\n",
    "\n",
    "    return xgb.best_score"
   ]
  },
  {
   "cell_type": "code",
   "execution_count": 19,
   "id": "4de1024b",
   "metadata": {
    "execution": {
     "iopub.execute_input": "2025-05-14T16:09:58.596379Z",
     "iopub.status.busy": "2025-05-14T16:09:58.595977Z",
     "iopub.status.idle": "2025-05-14T16:10:23.647802Z",
     "shell.execute_reply": "2025-05-14T16:10:23.647303Z"
    },
    "papermill": {
     "duration": 25.065161,
     "end_time": "2025-05-14T16:10:23.648853",
     "exception": false,
     "start_time": "2025-05-14T16:09:58.583692",
     "status": "completed"
    },
    "scrolled": true,
    "tags": []
   },
   "outputs": [
    {
     "name": "stderr",
     "output_type": "stream",
     "text": [
      "[I 2025-05-14 18:09:58,597] A new study created in memory with name: no-name-c0c9ff02-8aba-41e7-b31a-61529e5f5f4e\n"
     ]
    },
    {
     "name": "stderr",
     "output_type": "stream",
     "text": [
      "[I 2025-05-14 18:09:58,850] Trial 0 finished with value: -0.58792 and parameters: {'max_depth': 9, 'min_child_weight': 238, 'subsample': 0.7587945476302645, 'colsample_bynode': 0.6387926357773329, 'learning_rate': 0.0026368755339723046}. Best is trial 0 with value: -0.58792.\n"
     ]
    },
    {
     "name": "stderr",
     "output_type": "stream",
     "text": [
      "[I 2025-05-14 18:10:01,315] Trial 1 finished with value: -0.759583 and parameters: {'max_depth': 5, 'min_child_weight': 15, 'subsample': 0.8795585311974417, 'colsample_bynode': 0.6410035105688879, 'learning_rate': 0.08148293210105287}. Best is trial 1 with value: -0.759583.\n"
     ]
    },
    {
     "name": "stderr",
     "output_type": "stream",
     "text": [
      "[I 2025-05-14 18:10:01,763] Trial 2 finished with value: -0.615336 and parameters: {'max_depth': 3, 'min_child_weight': 243, 'subsample': 0.8491983767203796, 'colsample_bynode': 0.29110519961044856, 'learning_rate': 0.003095566460242371}. Best is trial 1 with value: -0.759583.\n"
     ]
    },
    {
     "name": "stderr",
     "output_type": "stream",
     "text": [
      "[I 2025-05-14 18:10:02,731] Trial 3 finished with value: -0.64991 and parameters: {'max_depth': 6, 'min_child_weight': 77, 'subsample': 0.5722807884690141, 'colsample_bynode': 0.48875051677790415, 'learning_rate': 0.006109683510122491}. Best is trial 1 with value: -0.759583.\n"
     ]
    },
    {
     "name": "stderr",
     "output_type": "stream",
     "text": [
      "[I 2025-05-14 18:10:03,990] Trial 4 finished with value: -0.657449 and parameters: {'max_depth': 14, 'min_child_weight': 35, 'subsample': 0.3629301836816964, 'colsample_bynode': 0.4297256589643226, 'learning_rate': 0.01701841881702917}. Best is trial 1 with value: -0.759583.\n"
     ]
    },
    {
     "name": "stderr",
     "output_type": "stream",
     "text": [
      "[I 2025-05-14 18:10:04,163] Trial 5 pruned. Trial was pruned at iteration 0.\n"
     ]
    },
    {
     "name": "stderr",
     "output_type": "stream",
     "text": [
      "[I 2025-05-14 18:10:04,330] Trial 6 pruned. Trial was pruned at iteration 0.\n"
     ]
    },
    {
     "name": "stderr",
     "output_type": "stream",
     "text": [
      "[I 2025-05-14 18:10:04,487] Trial 7 pruned. Trial was pruned at iteration 0.\n"
     ]
    },
    {
     "name": "stderr",
     "output_type": "stream",
     "text": [
      "[I 2025-05-14 18:10:04,624] Trial 8 pruned. Trial was pruned at iteration 0.\n"
     ]
    },
    {
     "name": "stderr",
     "output_type": "stream",
     "text": [
      "[I 2025-05-14 18:10:04,763] Trial 9 pruned. Trial was pruned at iteration 0.\n"
     ]
    },
    {
     "name": "stderr",
     "output_type": "stream",
     "text": [
      "[I 2025-05-14 18:10:06,131] Trial 10 finished with value: -0.766957 and parameters: {'max_depth': 9, 'min_child_weight': 2, 'subsample': 0.9725833997090791, 'colsample_bynode': 0.11616568805333755, 'learning_rate': 0.17780618353487967}. Best is trial 10 with value: -0.766957.\n"
     ]
    },
    {
     "name": "stderr",
     "output_type": "stream",
     "text": [
      "[I 2025-05-14 18:10:08,005] Trial 11 finished with value: -0.770222 and parameters: {'max_depth': 9, 'min_child_weight': 4, 'subsample': 0.9818290990185045, 'colsample_bynode': 0.17702656156719, 'learning_rate': 0.11568531411766632}. Best is trial 11 with value: -0.770222.\n"
     ]
    },
    {
     "name": "stderr",
     "output_type": "stream",
     "text": [
      "[I 2025-05-14 18:10:10,216] Trial 12 finished with value: -0.773407 and parameters: {'max_depth': 9, 'min_child_weight': 2, 'subsample': 0.9762317723681219, 'colsample_bynode': 0.1303670507685675, 'learning_rate': 0.14353293664472047}. Best is trial 12 with value: -0.773407.\n"
     ]
    },
    {
     "name": "stderr",
     "output_type": "stream",
     "text": [
      "[I 2025-05-14 18:10:10,366] Trial 13 pruned. Trial was pruned at iteration 0.\n"
     ]
    },
    {
     "name": "stderr",
     "output_type": "stream",
     "text": [
      "[I 2025-05-14 18:10:10,514] Trial 14 pruned. Trial was pruned at iteration 0.\n"
     ]
    },
    {
     "name": "stderr",
     "output_type": "stream",
     "text": [
      "[I 2025-05-14 18:10:12,522] Trial 15 finished with value: -0.792379 and parameters: {'max_depth': 20, 'min_child_weight': 1, 'subsample': 0.7300199336663715, 'colsample_bynode': 0.2687793682900305, 'learning_rate': 0.46839194821741}. Best is trial 15 with value: -0.792379.\n"
     ]
    },
    {
     "name": "stderr",
     "output_type": "stream",
     "text": [
      "[I 2025-05-14 18:10:12,687] Trial 16 pruned. Trial was pruned at iteration 0.\n"
     ]
    },
    {
     "name": "stderr",
     "output_type": "stream",
     "text": [
      "[I 2025-05-14 18:10:12,845] Trial 17 pruned. Trial was pruned at iteration 0.\n"
     ]
    },
    {
     "name": "stderr",
     "output_type": "stream",
     "text": [
      "[I 2025-05-14 18:10:13,042] Trial 18 pruned. Trial was pruned at iteration 1.\n"
     ]
    },
    {
     "name": "stderr",
     "output_type": "stream",
     "text": [
      "[I 2025-05-14 18:10:13,207] Trial 19 pruned. Trial was pruned at iteration 0.\n"
     ]
    },
    {
     "name": "stderr",
     "output_type": "stream",
     "text": [
      "[I 2025-05-14 18:10:13,367] Trial 20 pruned. Trial was pruned at iteration 0.\n"
     ]
    },
    {
     "name": "stderr",
     "output_type": "stream",
     "text": [
      "[I 2025-05-14 18:10:14,865] Trial 21 pruned. Trial was pruned at iteration 23.\n"
     ]
    },
    {
     "name": "stderr",
     "output_type": "stream",
     "text": [
      "[I 2025-05-14 18:10:15,040] Trial 22 pruned. Trial was pruned at iteration 0.\n"
     ]
    },
    {
     "name": "stderr",
     "output_type": "stream",
     "text": [
      "[I 2025-05-14 18:10:15,235] Trial 23 pruned. Trial was pruned at iteration 1.\n"
     ]
    },
    {
     "name": "stderr",
     "output_type": "stream",
     "text": [
      "[I 2025-05-14 18:10:15,403] Trial 24 pruned. Trial was pruned at iteration 0.\n"
     ]
    },
    {
     "name": "stderr",
     "output_type": "stream",
     "text": [
      "[I 2025-05-14 18:10:15,568] Trial 25 pruned. Trial was pruned at iteration 0.\n"
     ]
    },
    {
     "name": "stderr",
     "output_type": "stream",
     "text": [
      "[I 2025-05-14 18:10:16,436] Trial 26 finished with value: -0.773051 and parameters: {'max_depth': 10, 'min_child_weight': 27, 'subsample': 0.8014853820805108, 'colsample_bynode': 0.8348817412094831, 'learning_rate': 0.48335119578914293}. Best is trial 15 with value: -0.792379.\n"
     ]
    },
    {
     "name": "stderr",
     "output_type": "stream",
     "text": [
      "[I 2025-05-14 18:10:16,650] Trial 27 pruned. Trial was pruned at iteration 0.\n"
     ]
    },
    {
     "name": "stderr",
     "output_type": "stream",
     "text": [
      "[I 2025-05-14 18:10:16,849] Trial 28 pruned. Trial was pruned at iteration 0.\n"
     ]
    },
    {
     "name": "stderr",
     "output_type": "stream",
     "text": [
      "[I 2025-05-14 18:10:17,043] Trial 29 pruned. Trial was pruned at iteration 0.\n"
     ]
    },
    {
     "name": "stderr",
     "output_type": "stream",
     "text": [
      "[I 2025-05-14 18:10:17,237] Trial 30 pruned. Trial was pruned at iteration 0.\n"
     ]
    },
    {
     "name": "stderr",
     "output_type": "stream",
     "text": [
      "[I 2025-05-14 18:10:17,431] Trial 31 pruned. Trial was pruned at iteration 0.\n"
     ]
    },
    {
     "name": "stderr",
     "output_type": "stream",
     "text": [
      "[I 2025-05-14 18:10:17,623] Trial 32 pruned. Trial was pruned at iteration 0.\n"
     ]
    },
    {
     "name": "stderr",
     "output_type": "stream",
     "text": [
      "[I 2025-05-14 18:10:17,855] Trial 33 pruned. Trial was pruned at iteration 1.\n"
     ]
    },
    {
     "name": "stderr",
     "output_type": "stream",
     "text": [
      "[I 2025-05-14 18:10:18,305] Trial 34 pruned. Trial was pruned at iteration 8.\n"
     ]
    },
    {
     "name": "stderr",
     "output_type": "stream",
     "text": [
      "[I 2025-05-14 18:10:18,503] Trial 35 pruned. Trial was pruned at iteration 0.\n"
     ]
    },
    {
     "name": "stderr",
     "output_type": "stream",
     "text": [
      "[I 2025-05-14 18:10:18,677] Trial 36 pruned. Trial was pruned at iteration 0.\n"
     ]
    },
    {
     "name": "stderr",
     "output_type": "stream",
     "text": [
      "[I 2025-05-14 18:10:18,842] Trial 37 pruned. Trial was pruned at iteration 0.\n"
     ]
    },
    {
     "name": "stderr",
     "output_type": "stream",
     "text": [
      "[I 2025-05-14 18:10:19,023] Trial 38 pruned. Trial was pruned at iteration 0.\n"
     ]
    },
    {
     "name": "stderr",
     "output_type": "stream",
     "text": [
      "[I 2025-05-14 18:10:19,205] Trial 39 pruned. Trial was pruned at iteration 0.\n"
     ]
    },
    {
     "name": "stderr",
     "output_type": "stream",
     "text": [
      "[I 2025-05-14 18:10:19,385] Trial 40 pruned. Trial was pruned at iteration 0.\n"
     ]
    },
    {
     "name": "stderr",
     "output_type": "stream",
     "text": [
      "[I 2025-05-14 18:10:21,330] Trial 41 finished with value: -0.775422 and parameters: {'max_depth': 9, 'min_child_weight': 2, 'subsample': 0.9742828560171694, 'colsample_bynode': 0.16044099901520706, 'learning_rate': 0.17579013323537793}. Best is trial 15 with value: -0.792379.\n"
     ]
    },
    {
     "name": "stderr",
     "output_type": "stream",
     "text": [
      "[I 2025-05-14 18:10:21,509] Trial 42 pruned. Trial was pruned at iteration 0.\n"
     ]
    },
    {
     "name": "stderr",
     "output_type": "stream",
     "text": [
      "[I 2025-05-14 18:10:21,829] Trial 43 pruned. Trial was pruned at iteration 8.\n"
     ]
    },
    {
     "name": "stderr",
     "output_type": "stream",
     "text": [
      "[I 2025-05-14 18:10:21,983] Trial 44 pruned. Trial was pruned at iteration 0.\n"
     ]
    },
    {
     "name": "stderr",
     "output_type": "stream",
     "text": [
      "[I 2025-05-14 18:10:22,824] Trial 45 finished with value: -0.778318 and parameters: {'max_depth': 9, 'min_child_weight': 9, 'subsample': 0.9605340099667669, 'colsample_bynode': 0.25543006776571014, 'learning_rate': 0.49771800271714434}. Best is trial 15 with value: -0.792379.\n"
     ]
    },
    {
     "name": "stderr",
     "output_type": "stream",
     "text": [
      "[I 2025-05-14 18:10:23,062] Trial 46 pruned. Trial was pruned at iteration 0.\n"
     ]
    },
    {
     "name": "stderr",
     "output_type": "stream",
     "text": [
      "[I 2025-05-14 18:10:23,228] Trial 47 pruned. Trial was pruned at iteration 0.\n"
     ]
    },
    {
     "name": "stderr",
     "output_type": "stream",
     "text": [
      "[I 2025-05-14 18:10:23,390] Trial 48 pruned. Trial was pruned at iteration 0.\n"
     ]
    },
    {
     "name": "stderr",
     "output_type": "stream",
     "text": [
      "[I 2025-05-14 18:10:23,547] Trial 49 pruned. Trial was pruned at iteration 0.\n"
     ]
    }
   ],
   "source": [
    "sampler = optuna.samplers.TPESampler(seed=42)\n",
    "study = optuna.create_study(direction='minimize', sampler=sampler)\n",
    "study.optimize(objective, n_trials=N_TRIALS, gc_after_trial=True)"
   ]
  },
  {
   "cell_type": "code",
   "execution_count": 20,
   "id": "6d76c5ea",
   "metadata": {
    "execution": {
     "iopub.execute_input": "2025-05-14T16:10:23.668198Z",
     "iopub.status.busy": "2025-05-14T16:10:23.667629Z",
     "iopub.status.idle": "2025-05-14T16:10:23.708370Z",
     "shell.execute_reply": "2025-05-14T16:10:23.707968Z"
    },
    "papermill": {
     "duration": 0.050902,
     "end_time": "2025-05-14T16:10:23.709315",
     "exception": false,
     "start_time": "2025-05-14T16:10:23.658413",
     "status": "completed"
    },
    "tags": []
   },
   "outputs": [
    {
     "data": {
      "text/plain": [
       "['/scratch_isilon/groups/singlecell/shared/projects/Inflammation-PBMCs-Atlas/03_downstream_analysis/08_gene_importance/xgboost_external_validation/xgboost_TopN_genes/results_20/study/DC_shap_studyID_0_xgboost.pkl']"
      ]
     },
     "execution_count": 20,
     "metadata": {},
     "output_type": "execute_result"
    }
   ],
   "source": [
    "out_dir = here(f'03_downstream_analysis/08_gene_importance/xgboost_external_validation/xgboost_TopN_genes/results_{N_GENES}/study')\n",
    "\n",
    "if not os.path.exists(out_dir):\n",
    "    os.makedirs(out_dir)\n",
    "    \n",
    "joblib.dump(study,os.path.join(out_dir, f'{CELL_TYPE}_{SEED}_{TEST_SPLIT_IDX}_xgboost.pkl'))"
   ]
  },
  {
   "cell_type": "code",
   "execution_count": 21,
   "id": "f8901b23",
   "metadata": {
    "execution": {
     "iopub.execute_input": "2025-05-14T16:10:23.727090Z",
     "iopub.status.busy": "2025-05-14T16:10:23.726861Z",
     "iopub.status.idle": "2025-05-14T16:10:25.678824Z",
     "shell.execute_reply": "2025-05-14T16:10:25.678179Z"
    },
    "papermill": {
     "duration": 1.961909,
     "end_time": "2025-05-14T16:10:25.679765",
     "exception": false,
     "start_time": "2025-05-14T16:10:23.717856",
     "status": "completed"
    },
    "tags": []
   },
   "outputs": [
    {
     "data": {
      "text/html": [
       "<style>#sk-container-id-1 {\n",
       "  /* Definition of color scheme common for light and dark mode */\n",
       "  --sklearn-color-text: black;\n",
       "  --sklearn-color-line: gray;\n",
       "  /* Definition of color scheme for unfitted estimators */\n",
       "  --sklearn-color-unfitted-level-0: #fff5e6;\n",
       "  --sklearn-color-unfitted-level-1: #f6e4d2;\n",
       "  --sklearn-color-unfitted-level-2: #ffe0b3;\n",
       "  --sklearn-color-unfitted-level-3: chocolate;\n",
       "  /* Definition of color scheme for fitted estimators */\n",
       "  --sklearn-color-fitted-level-0: #f0f8ff;\n",
       "  --sklearn-color-fitted-level-1: #d4ebff;\n",
       "  --sklearn-color-fitted-level-2: #b3dbfd;\n",
       "  --sklearn-color-fitted-level-3: cornflowerblue;\n",
       "\n",
       "  /* Specific color for light theme */\n",
       "  --sklearn-color-text-on-default-background: var(--sg-text-color, var(--theme-code-foreground, var(--jp-content-font-color1, black)));\n",
       "  --sklearn-color-background: var(--sg-background-color, var(--theme-background, var(--jp-layout-color0, white)));\n",
       "  --sklearn-color-border-box: var(--sg-text-color, var(--theme-code-foreground, var(--jp-content-font-color1, black)));\n",
       "  --sklearn-color-icon: #696969;\n",
       "\n",
       "  @media (prefers-color-scheme: dark) {\n",
       "    /* Redefinition of color scheme for dark theme */\n",
       "    --sklearn-color-text-on-default-background: var(--sg-text-color, var(--theme-code-foreground, var(--jp-content-font-color1, white)));\n",
       "    --sklearn-color-background: var(--sg-background-color, var(--theme-background, var(--jp-layout-color0, #111)));\n",
       "    --sklearn-color-border-box: var(--sg-text-color, var(--theme-code-foreground, var(--jp-content-font-color1, white)));\n",
       "    --sklearn-color-icon: #878787;\n",
       "  }\n",
       "}\n",
       "\n",
       "#sk-container-id-1 {\n",
       "  color: var(--sklearn-color-text);\n",
       "}\n",
       "\n",
       "#sk-container-id-1 pre {\n",
       "  padding: 0;\n",
       "}\n",
       "\n",
       "#sk-container-id-1 input.sk-hidden--visually {\n",
       "  border: 0;\n",
       "  clip: rect(1px 1px 1px 1px);\n",
       "  clip: rect(1px, 1px, 1px, 1px);\n",
       "  height: 1px;\n",
       "  margin: -1px;\n",
       "  overflow: hidden;\n",
       "  padding: 0;\n",
       "  position: absolute;\n",
       "  width: 1px;\n",
       "}\n",
       "\n",
       "#sk-container-id-1 div.sk-dashed-wrapped {\n",
       "  border: 1px dashed var(--sklearn-color-line);\n",
       "  margin: 0 0.4em 0.5em 0.4em;\n",
       "  box-sizing: border-box;\n",
       "  padding-bottom: 0.4em;\n",
       "  background-color: var(--sklearn-color-background);\n",
       "}\n",
       "\n",
       "#sk-container-id-1 div.sk-container {\n",
       "  /* jupyter's `normalize.less` sets `[hidden] { display: none; }`\n",
       "     but bootstrap.min.css set `[hidden] { display: none !important; }`\n",
       "     so we also need the `!important` here to be able to override the\n",
       "     default hidden behavior on the sphinx rendered scikit-learn.org.\n",
       "     See: https://github.com/scikit-learn/scikit-learn/issues/21755 */\n",
       "  display: inline-block !important;\n",
       "  position: relative;\n",
       "}\n",
       "\n",
       "#sk-container-id-1 div.sk-text-repr-fallback {\n",
       "  display: none;\n",
       "}\n",
       "\n",
       "div.sk-parallel-item,\n",
       "div.sk-serial,\n",
       "div.sk-item {\n",
       "  /* draw centered vertical line to link estimators */\n",
       "  background-image: linear-gradient(var(--sklearn-color-text-on-default-background), var(--sklearn-color-text-on-default-background));\n",
       "  background-size: 2px 100%;\n",
       "  background-repeat: no-repeat;\n",
       "  background-position: center center;\n",
       "}\n",
       "\n",
       "/* Parallel-specific style estimator block */\n",
       "\n",
       "#sk-container-id-1 div.sk-parallel-item::after {\n",
       "  content: \"\";\n",
       "  width: 100%;\n",
       "  border-bottom: 2px solid var(--sklearn-color-text-on-default-background);\n",
       "  flex-grow: 1;\n",
       "}\n",
       "\n",
       "#sk-container-id-1 div.sk-parallel {\n",
       "  display: flex;\n",
       "  align-items: stretch;\n",
       "  justify-content: center;\n",
       "  background-color: var(--sklearn-color-background);\n",
       "  position: relative;\n",
       "}\n",
       "\n",
       "#sk-container-id-1 div.sk-parallel-item {\n",
       "  display: flex;\n",
       "  flex-direction: column;\n",
       "}\n",
       "\n",
       "#sk-container-id-1 div.sk-parallel-item:first-child::after {\n",
       "  align-self: flex-end;\n",
       "  width: 50%;\n",
       "}\n",
       "\n",
       "#sk-container-id-1 div.sk-parallel-item:last-child::after {\n",
       "  align-self: flex-start;\n",
       "  width: 50%;\n",
       "}\n",
       "\n",
       "#sk-container-id-1 div.sk-parallel-item:only-child::after {\n",
       "  width: 0;\n",
       "}\n",
       "\n",
       "/* Serial-specific style estimator block */\n",
       "\n",
       "#sk-container-id-1 div.sk-serial {\n",
       "  display: flex;\n",
       "  flex-direction: column;\n",
       "  align-items: center;\n",
       "  background-color: var(--sklearn-color-background);\n",
       "  padding-right: 1em;\n",
       "  padding-left: 1em;\n",
       "}\n",
       "\n",
       "\n",
       "/* Toggleable style: style used for estimator/Pipeline/ColumnTransformer box that is\n",
       "clickable and can be expanded/collapsed.\n",
       "- Pipeline and ColumnTransformer use this feature and define the default style\n",
       "- Estimators will overwrite some part of the style using the `sk-estimator` class\n",
       "*/\n",
       "\n",
       "/* Pipeline and ColumnTransformer style (default) */\n",
       "\n",
       "#sk-container-id-1 div.sk-toggleable {\n",
       "  /* Default theme specific background. It is overwritten whether we have a\n",
       "  specific estimator or a Pipeline/ColumnTransformer */\n",
       "  background-color: var(--sklearn-color-background);\n",
       "}\n",
       "\n",
       "/* Toggleable label */\n",
       "#sk-container-id-1 label.sk-toggleable__label {\n",
       "  cursor: pointer;\n",
       "  display: block;\n",
       "  width: 100%;\n",
       "  margin-bottom: 0;\n",
       "  padding: 0.5em;\n",
       "  box-sizing: border-box;\n",
       "  text-align: center;\n",
       "}\n",
       "\n",
       "#sk-container-id-1 label.sk-toggleable__label-arrow:before {\n",
       "  /* Arrow on the left of the label */\n",
       "  content: \"▸\";\n",
       "  float: left;\n",
       "  margin-right: 0.25em;\n",
       "  color: var(--sklearn-color-icon);\n",
       "}\n",
       "\n",
       "#sk-container-id-1 label.sk-toggleable__label-arrow:hover:before {\n",
       "  color: var(--sklearn-color-text);\n",
       "}\n",
       "\n",
       "/* Toggleable content - dropdown */\n",
       "\n",
       "#sk-container-id-1 div.sk-toggleable__content {\n",
       "  max-height: 0;\n",
       "  max-width: 0;\n",
       "  overflow: hidden;\n",
       "  text-align: left;\n",
       "  /* unfitted */\n",
       "  background-color: var(--sklearn-color-unfitted-level-0);\n",
       "}\n",
       "\n",
       "#sk-container-id-1 div.sk-toggleable__content.fitted {\n",
       "  /* fitted */\n",
       "  background-color: var(--sklearn-color-fitted-level-0);\n",
       "}\n",
       "\n",
       "#sk-container-id-1 div.sk-toggleable__content pre {\n",
       "  margin: 0.2em;\n",
       "  border-radius: 0.25em;\n",
       "  color: var(--sklearn-color-text);\n",
       "  /* unfitted */\n",
       "  background-color: var(--sklearn-color-unfitted-level-0);\n",
       "}\n",
       "\n",
       "#sk-container-id-1 div.sk-toggleable__content.fitted pre {\n",
       "  /* unfitted */\n",
       "  background-color: var(--sklearn-color-fitted-level-0);\n",
       "}\n",
       "\n",
       "#sk-container-id-1 input.sk-toggleable__control:checked~div.sk-toggleable__content {\n",
       "  /* Expand drop-down */\n",
       "  max-height: 200px;\n",
       "  max-width: 100%;\n",
       "  overflow: auto;\n",
       "}\n",
       "\n",
       "#sk-container-id-1 input.sk-toggleable__control:checked~label.sk-toggleable__label-arrow:before {\n",
       "  content: \"▾\";\n",
       "}\n",
       "\n",
       "/* Pipeline/ColumnTransformer-specific style */\n",
       "\n",
       "#sk-container-id-1 div.sk-label input.sk-toggleable__control:checked~label.sk-toggleable__label {\n",
       "  color: var(--sklearn-color-text);\n",
       "  background-color: var(--sklearn-color-unfitted-level-2);\n",
       "}\n",
       "\n",
       "#sk-container-id-1 div.sk-label.fitted input.sk-toggleable__control:checked~label.sk-toggleable__label {\n",
       "  background-color: var(--sklearn-color-fitted-level-2);\n",
       "}\n",
       "\n",
       "/* Estimator-specific style */\n",
       "\n",
       "/* Colorize estimator box */\n",
       "#sk-container-id-1 div.sk-estimator input.sk-toggleable__control:checked~label.sk-toggleable__label {\n",
       "  /* unfitted */\n",
       "  background-color: var(--sklearn-color-unfitted-level-2);\n",
       "}\n",
       "\n",
       "#sk-container-id-1 div.sk-estimator.fitted input.sk-toggleable__control:checked~label.sk-toggleable__label {\n",
       "  /* fitted */\n",
       "  background-color: var(--sklearn-color-fitted-level-2);\n",
       "}\n",
       "\n",
       "#sk-container-id-1 div.sk-label label.sk-toggleable__label,\n",
       "#sk-container-id-1 div.sk-label label {\n",
       "  /* The background is the default theme color */\n",
       "  color: var(--sklearn-color-text-on-default-background);\n",
       "}\n",
       "\n",
       "/* On hover, darken the color of the background */\n",
       "#sk-container-id-1 div.sk-label:hover label.sk-toggleable__label {\n",
       "  color: var(--sklearn-color-text);\n",
       "  background-color: var(--sklearn-color-unfitted-level-2);\n",
       "}\n",
       "\n",
       "/* Label box, darken color on hover, fitted */\n",
       "#sk-container-id-1 div.sk-label.fitted:hover label.sk-toggleable__label.fitted {\n",
       "  color: var(--sklearn-color-text);\n",
       "  background-color: var(--sklearn-color-fitted-level-2);\n",
       "}\n",
       "\n",
       "/* Estimator label */\n",
       "\n",
       "#sk-container-id-1 div.sk-label label {\n",
       "  font-family: monospace;\n",
       "  font-weight: bold;\n",
       "  display: inline-block;\n",
       "  line-height: 1.2em;\n",
       "}\n",
       "\n",
       "#sk-container-id-1 div.sk-label-container {\n",
       "  text-align: center;\n",
       "}\n",
       "\n",
       "/* Estimator-specific */\n",
       "#sk-container-id-1 div.sk-estimator {\n",
       "  font-family: monospace;\n",
       "  border: 1px dotted var(--sklearn-color-border-box);\n",
       "  border-radius: 0.25em;\n",
       "  box-sizing: border-box;\n",
       "  margin-bottom: 0.5em;\n",
       "  /* unfitted */\n",
       "  background-color: var(--sklearn-color-unfitted-level-0);\n",
       "}\n",
       "\n",
       "#sk-container-id-1 div.sk-estimator.fitted {\n",
       "  /* fitted */\n",
       "  background-color: var(--sklearn-color-fitted-level-0);\n",
       "}\n",
       "\n",
       "/* on hover */\n",
       "#sk-container-id-1 div.sk-estimator:hover {\n",
       "  /* unfitted */\n",
       "  background-color: var(--sklearn-color-unfitted-level-2);\n",
       "}\n",
       "\n",
       "#sk-container-id-1 div.sk-estimator.fitted:hover {\n",
       "  /* fitted */\n",
       "  background-color: var(--sklearn-color-fitted-level-2);\n",
       "}\n",
       "\n",
       "/* Specification for estimator info (e.g. \"i\" and \"?\") */\n",
       "\n",
       "/* Common style for \"i\" and \"?\" */\n",
       "\n",
       ".sk-estimator-doc-link,\n",
       "a:link.sk-estimator-doc-link,\n",
       "a:visited.sk-estimator-doc-link {\n",
       "  float: right;\n",
       "  font-size: smaller;\n",
       "  line-height: 1em;\n",
       "  font-family: monospace;\n",
       "  background-color: var(--sklearn-color-background);\n",
       "  border-radius: 1em;\n",
       "  height: 1em;\n",
       "  width: 1em;\n",
       "  text-decoration: none !important;\n",
       "  margin-left: 1ex;\n",
       "  /* unfitted */\n",
       "  border: var(--sklearn-color-unfitted-level-1) 1pt solid;\n",
       "  color: var(--sklearn-color-unfitted-level-1);\n",
       "}\n",
       "\n",
       ".sk-estimator-doc-link.fitted,\n",
       "a:link.sk-estimator-doc-link.fitted,\n",
       "a:visited.sk-estimator-doc-link.fitted {\n",
       "  /* fitted */\n",
       "  border: var(--sklearn-color-fitted-level-1) 1pt solid;\n",
       "  color: var(--sklearn-color-fitted-level-1);\n",
       "}\n",
       "\n",
       "/* On hover */\n",
       "div.sk-estimator:hover .sk-estimator-doc-link:hover,\n",
       ".sk-estimator-doc-link:hover,\n",
       "div.sk-label-container:hover .sk-estimator-doc-link:hover,\n",
       ".sk-estimator-doc-link:hover {\n",
       "  /* unfitted */\n",
       "  background-color: var(--sklearn-color-unfitted-level-3);\n",
       "  color: var(--sklearn-color-background);\n",
       "  text-decoration: none;\n",
       "}\n",
       "\n",
       "div.sk-estimator.fitted:hover .sk-estimator-doc-link.fitted:hover,\n",
       ".sk-estimator-doc-link.fitted:hover,\n",
       "div.sk-label-container:hover .sk-estimator-doc-link.fitted:hover,\n",
       ".sk-estimator-doc-link.fitted:hover {\n",
       "  /* fitted */\n",
       "  background-color: var(--sklearn-color-fitted-level-3);\n",
       "  color: var(--sklearn-color-background);\n",
       "  text-decoration: none;\n",
       "}\n",
       "\n",
       "/* Span, style for the box shown on hovering the info icon */\n",
       ".sk-estimator-doc-link span {\n",
       "  display: none;\n",
       "  z-index: 9999;\n",
       "  position: relative;\n",
       "  font-weight: normal;\n",
       "  right: .2ex;\n",
       "  padding: .5ex;\n",
       "  margin: .5ex;\n",
       "  width: min-content;\n",
       "  min-width: 20ex;\n",
       "  max-width: 50ex;\n",
       "  color: var(--sklearn-color-text);\n",
       "  box-shadow: 2pt 2pt 4pt #999;\n",
       "  /* unfitted */\n",
       "  background: var(--sklearn-color-unfitted-level-0);\n",
       "  border: .5pt solid var(--sklearn-color-unfitted-level-3);\n",
       "}\n",
       "\n",
       ".sk-estimator-doc-link.fitted span {\n",
       "  /* fitted */\n",
       "  background: var(--sklearn-color-fitted-level-0);\n",
       "  border: var(--sklearn-color-fitted-level-3);\n",
       "}\n",
       "\n",
       ".sk-estimator-doc-link:hover span {\n",
       "  display: block;\n",
       "}\n",
       "\n",
       "/* \"?\"-specific style due to the `<a>` HTML tag */\n",
       "\n",
       "#sk-container-id-1 a.estimator_doc_link {\n",
       "  float: right;\n",
       "  font-size: 1rem;\n",
       "  line-height: 1em;\n",
       "  font-family: monospace;\n",
       "  background-color: var(--sklearn-color-background);\n",
       "  border-radius: 1rem;\n",
       "  height: 1rem;\n",
       "  width: 1rem;\n",
       "  text-decoration: none;\n",
       "  /* unfitted */\n",
       "  color: var(--sklearn-color-unfitted-level-1);\n",
       "  border: var(--sklearn-color-unfitted-level-1) 1pt solid;\n",
       "}\n",
       "\n",
       "#sk-container-id-1 a.estimator_doc_link.fitted {\n",
       "  /* fitted */\n",
       "  border: var(--sklearn-color-fitted-level-1) 1pt solid;\n",
       "  color: var(--sklearn-color-fitted-level-1);\n",
       "}\n",
       "\n",
       "/* On hover */\n",
       "#sk-container-id-1 a.estimator_doc_link:hover {\n",
       "  /* unfitted */\n",
       "  background-color: var(--sklearn-color-unfitted-level-3);\n",
       "  color: var(--sklearn-color-background);\n",
       "  text-decoration: none;\n",
       "}\n",
       "\n",
       "#sk-container-id-1 a.estimator_doc_link.fitted:hover {\n",
       "  /* fitted */\n",
       "  background-color: var(--sklearn-color-fitted-level-3);\n",
       "}\n",
       "</style><div id=\"sk-container-id-1\" class=\"sk-top-container\"><div class=\"sk-text-repr-fallback\"><pre>XGBClassifier(base_score=None, booster=None, callbacks=None,\n",
       "              colsample_bylevel=None, colsample_bynode=0.2687793682900305,\n",
       "              colsample_bytree=None, device=None, early_stopping_rounds=None,\n",
       "              enable_categorical=False,\n",
       "              eval_metric=&lt;function custom_f1_score at 0x7f266839f560&gt;,\n",
       "              feature_types=None, gamma=None, grow_policy=None,\n",
       "              importance_type=None, interaction_constraints=None,\n",
       "              learning_rate=0.46839194821741, max_bin=None,\n",
       "              max_cat_threshold=None, max_cat_to_onehot=None,\n",
       "              max_delta_step=None, max_depth=20, max_leaves=None,\n",
       "              min_child_weight=1, missing=nan, monotone_constraints=None,\n",
       "              multi_strategy=None, n_estimators=79, n_jobs=None,\n",
       "              num_parallel_tree=None, objective=&#x27;multi:softprob&#x27;, ...)</pre><b>In a Jupyter environment, please rerun this cell to show the HTML representation or trust the notebook. <br />On GitHub, the HTML representation is unable to render, please try loading this page with nbviewer.org.</b></div><div class=\"sk-container\" hidden><div class=\"sk-item\"><div class=\"sk-estimator fitted sk-toggleable\"><input class=\"sk-toggleable__control sk-hidden--visually\" id=\"sk-estimator-id-1\" type=\"checkbox\" checked><label for=\"sk-estimator-id-1\" class=\"sk-toggleable__label fitted sk-toggleable__label-arrow fitted\">&nbsp;XGBClassifier<span class=\"sk-estimator-doc-link fitted\">i<span>Fitted</span></span></label><div class=\"sk-toggleable__content fitted\"><pre>XGBClassifier(base_score=None, booster=None, callbacks=None,\n",
       "              colsample_bylevel=None, colsample_bynode=0.2687793682900305,\n",
       "              colsample_bytree=None, device=None, early_stopping_rounds=None,\n",
       "              enable_categorical=False,\n",
       "              eval_metric=&lt;function custom_f1_score at 0x7f266839f560&gt;,\n",
       "              feature_types=None, gamma=None, grow_policy=None,\n",
       "              importance_type=None, interaction_constraints=None,\n",
       "              learning_rate=0.46839194821741, max_bin=None,\n",
       "              max_cat_threshold=None, max_cat_to_onehot=None,\n",
       "              max_delta_step=None, max_depth=20, max_leaves=None,\n",
       "              min_child_weight=1, missing=nan, monotone_constraints=None,\n",
       "              multi_strategy=None, n_estimators=79, n_jobs=None,\n",
       "              num_parallel_tree=None, objective=&#x27;multi:softprob&#x27;, ...)</pre></div> </div></div></div></div>"
      ],
      "text/plain": [
       "XGBClassifier(base_score=None, booster=None, callbacks=None,\n",
       "              colsample_bylevel=None, colsample_bynode=0.2687793682900305,\n",
       "              colsample_bytree=None, device=None, early_stopping_rounds=None,\n",
       "              enable_categorical=False,\n",
       "              eval_metric=<function custom_f1_score at 0x7f266839f560>,\n",
       "              feature_types=None, gamma=None, grow_policy=None,\n",
       "              importance_type=None, interaction_constraints=None,\n",
       "              learning_rate=0.46839194821741, max_bin=None,\n",
       "              max_cat_threshold=None, max_cat_to_onehot=None,\n",
       "              max_delta_step=None, max_depth=20, max_leaves=None,\n",
       "              min_child_weight=1, missing=nan, monotone_constraints=None,\n",
       "              multi_strategy=None, n_estimators=79, n_jobs=None,\n",
       "              num_parallel_tree=None, objective='multi:softprob', ...)"
      ]
     },
     "execution_count": 21,
     "metadata": {},
     "output_type": "execute_result"
    }
   ],
   "source": [
    "n_estimators = int(study.best_trial.user_attrs['best_iteration']*1.2)\n",
    "xgb = xgboost.XGBClassifier(\n",
    "        eval_metric=eval_metric,\n",
    "        n_estimators=n_estimators,\n",
    "        **study.best_trial.params\n",
    "    )\n",
    "xgb.fit(\n",
    "    ssp.vstack((X_train, X_val)), \n",
    "    np.concatenate((y_train_enc, y_val_enc)),\n",
    "    verbose=1,\n",
    ")"
   ]
  },
  {
   "cell_type": "code",
   "execution_count": 22,
   "id": "fa9e63f5",
   "metadata": {
    "execution": {
     "iopub.execute_input": "2025-05-14T16:10:25.699318Z",
     "iopub.status.busy": "2025-05-14T16:10:25.698814Z",
     "iopub.status.idle": "2025-05-14T16:10:25.737718Z",
     "shell.execute_reply": "2025-05-14T16:10:25.737226Z"
    },
    "papermill": {
     "duration": 0.04939,
     "end_time": "2025-05-14T16:10:25.738634",
     "exception": false,
     "start_time": "2025-05-14T16:10:25.689244",
     "status": "completed"
    },
    "tags": []
   },
   "outputs": [
    {
     "data": {
      "text/plain": [
       "['/scratch_isilon/groups/singlecell/shared/projects/Inflammation-PBMCs-Atlas/03_downstream_analysis/08_gene_importance/xgboost_external_validation/xgboost_TopN_genes/results_20/best_model/DC_shap_studyID_0_xgb.json']"
      ]
     },
     "execution_count": 22,
     "metadata": {},
     "output_type": "execute_result"
    }
   ],
   "source": [
    "out_dir = here(f'03_downstream_analysis/08_gene_importance/xgboost_external_validation/xgboost_TopN_genes/results_{N_GENES}/best_model')\n",
    "\n",
    "if not os.path.exists(out_dir):\n",
    "    os.makedirs(out_dir)\n",
    "    \n",
    "joblib.dump(xgb, os.path.join(out_dir, f'{CELL_TYPE}_{SEED}_{TEST_SPLIT_IDX}_xgb.json'))"
   ]
  },
  {
   "cell_type": "code",
   "execution_count": 23,
   "id": "6df15a41",
   "metadata": {
    "execution": {
     "iopub.execute_input": "2025-05-14T16:10:25.768787Z",
     "iopub.status.busy": "2025-05-14T16:10:25.768352Z",
     "iopub.status.idle": "2025-05-14T16:10:25.781842Z",
     "shell.execute_reply": "2025-05-14T16:10:25.781292Z"
    },
    "papermill": {
     "duration": 0.038137,
     "end_time": "2025-05-14T16:10:25.785686",
     "exception": false,
     "start_time": "2025-05-14T16:10:25.747549",
     "status": "completed"
    },
    "tags": []
   },
   "outputs": [],
   "source": [
    "df_pred_test = pd.DataFrame(dict(\n",
    "    cell_id=train_adata.obs.iloc[test_idxs].index.values,\n",
    "    y_true=y_test, \n",
    "    y_true_code=y_test_enc, \n",
    "    y_pred=xgb.predict(X_test))).set_index('cell_id')"
   ]
  },
  {
   "cell_type": "code",
   "execution_count": 24,
   "id": "65769569",
   "metadata": {
    "execution": {
     "iopub.execute_input": "2025-05-14T16:10:25.807481Z",
     "iopub.status.busy": "2025-05-14T16:10:25.807186Z",
     "iopub.status.idle": "2025-05-14T16:10:25.824741Z",
     "shell.execute_reply": "2025-05-14T16:10:25.824229Z"
    },
    "papermill": {
     "duration": 0.027929,
     "end_time": "2025-05-14T16:10:25.825762",
     "exception": false,
     "start_time": "2025-05-14T16:10:25.797833",
     "status": "completed"
    },
    "tags": []
   },
   "outputs": [],
   "source": [
    "out_dir = here(f'03_downstream_analysis/08_gene_importance/xgboost_external_validation/xgboost_TopN_genes/results_{N_GENES}/predictions')\n",
    "\n",
    "if not os.path.exists(out_dir):\n",
    "    os.makedirs(out_dir)\n",
    "    \n",
    "df_pred_test.to_csv(os.path.join(out_dir, f'{CELL_TYPE}_{SEED}_{TEST_SPLIT_IDX}_pred_test.zip'))"
   ]
  },
  {
   "cell_type": "code",
   "execution_count": 25,
   "id": "9fc42d94",
   "metadata": {
    "execution": {
     "iopub.execute_input": "2025-05-14T16:10:25.844485Z",
     "iopub.status.busy": "2025-05-14T16:10:25.844119Z",
     "iopub.status.idle": "2025-05-14T16:10:25.850790Z",
     "shell.execute_reply": "2025-05-14T16:10:25.850345Z"
    },
    "papermill": {
     "duration": 0.017254,
     "end_time": "2025-05-14T16:10:25.851707",
     "exception": false,
     "start_time": "2025-05-14T16:10:25.834453",
     "status": "completed"
    },
    "tags": []
   },
   "outputs": [],
   "source": [
    "metrics_dict = dict(\n",
    "    BAS=balanced_accuracy_score(y_true=df_pred_test.y_true_code, y_pred=df_pred_test.y_pred), WF1=f1_score(y_true=df_pred_test.y_true_code, y_pred=df_pred_test.y_pred,average='weighted'))"
   ]
  },
  {
   "cell_type": "code",
   "execution_count": 26,
   "id": "aadd06df",
   "metadata": {
    "execution": {
     "iopub.execute_input": "2025-05-14T16:10:25.871146Z",
     "iopub.status.busy": "2025-05-14T16:10:25.870587Z",
     "iopub.status.idle": "2025-05-14T16:10:25.874191Z",
     "shell.execute_reply": "2025-05-14T16:10:25.873798Z"
    },
    "papermill": {
     "duration": 0.014194,
     "end_time": "2025-05-14T16:10:25.875035",
     "exception": false,
     "start_time": "2025-05-14T16:10:25.860841",
     "status": "completed"
    },
    "tags": []
   },
   "outputs": [
    {
     "data": {
      "text/plain": [
       "{'BAS': 0.6659456789287772, 'WF1': 0.8644257379960806}"
      ]
     },
     "execution_count": 26,
     "metadata": {},
     "output_type": "execute_result"
    }
   ],
   "source": [
    "metrics_dict"
   ]
  },
  {
   "cell_type": "code",
   "execution_count": 27,
   "id": "a0f24b2e",
   "metadata": {
    "execution": {
     "iopub.execute_input": "2025-05-14T16:10:25.893454Z",
     "iopub.status.busy": "2025-05-14T16:10:25.893205Z",
     "iopub.status.idle": "2025-05-14T16:10:25.903510Z",
     "shell.execute_reply": "2025-05-14T16:10:25.903120Z"
    },
    "papermill": {
     "duration": 0.020716,
     "end_time": "2025-05-14T16:10:25.904370",
     "exception": false,
     "start_time": "2025-05-14T16:10:25.883654",
     "status": "completed"
    },
    "tags": []
   },
   "outputs": [
    {
     "data": {
      "text/html": [
       "<div>\n",
       "<style scoped>\n",
       "    .dataframe tbody tr th:only-of-type {\n",
       "        vertical-align: middle;\n",
       "    }\n",
       "\n",
       "    .dataframe tbody tr th {\n",
       "        vertical-align: top;\n",
       "    }\n",
       "\n",
       "    .dataframe thead th {\n",
       "        text-align: right;\n",
       "    }\n",
       "</style>\n",
       "<table border=\"1\" class=\"dataframe\">\n",
       "  <thead>\n",
       "    <tr style=\"text-align: right;\">\n",
       "      <th></th>\n",
       "      <th>BAS</th>\n",
       "      <th>WF1</th>\n",
       "      <th>split_idx</th>\n",
       "      <th>gene_set_seed</th>\n",
       "      <th>cell_type</th>\n",
       "    </tr>\n",
       "  </thead>\n",
       "  <tbody>\n",
       "    <tr>\n",
       "      <th>0</th>\n",
       "      <td>0.665946</td>\n",
       "      <td>0.864426</td>\n",
       "      <td>0</td>\n",
       "      <td>shap_studyID</td>\n",
       "      <td>DC</td>\n",
       "    </tr>\n",
       "  </tbody>\n",
       "</table>\n",
       "</div>"
      ],
      "text/plain": [
       "        BAS       WF1  split_idx gene_set_seed cell_type\n",
       "0  0.665946  0.864426          0  shap_studyID        DC"
      ]
     },
     "execution_count": 27,
     "metadata": {},
     "output_type": "execute_result"
    }
   ],
   "source": [
    "metrics_df = pd.DataFrame.from_dict([metrics_dict]).assign(split_idx=TEST_SPLIT_IDX, gene_set_seed=SEED, cell_type=CELL_TYPE)\n",
    "metrics_df"
   ]
  },
  {
   "cell_type": "code",
   "execution_count": 28,
   "id": "f7839848",
   "metadata": {
    "execution": {
     "iopub.execute_input": "2025-05-14T16:10:25.923687Z",
     "iopub.status.busy": "2025-05-14T16:10:25.923419Z",
     "iopub.status.idle": "2025-05-14T16:10:25.953078Z",
     "shell.execute_reply": "2025-05-14T16:10:25.952446Z"
    },
    "papermill": {
     "duration": 0.040857,
     "end_time": "2025-05-14T16:10:25.954104",
     "exception": false,
     "start_time": "2025-05-14T16:10:25.913247",
     "status": "completed"
    },
    "tags": []
   },
   "outputs": [],
   "source": [
    "out_dir = here(f'03_downstream_analysis/08_gene_importance/xgboost_external_validation/xgboost_TopN_genes/results_{N_GENES}/metrics')\n",
    "\n",
    "if not os.path.exists(out_dir):\n",
    "    os.makedirs(out_dir)\n",
    "    \n",
    "metrics_df.to_csv(os.path.join(out_dir, f'{CELL_TYPE}_{SEED}_{TEST_SPLIT_IDX}_metrics.zip'))"
   ]
  }
 ],
 "metadata": {
  "kernelspec": {
   "display_name": "Python 3 (ipykernel)",
   "language": "python",
   "name": "python3"
  },
  "language_info": {
   "codemirror_mode": {
    "name": "ipython",
    "version": 3
   },
   "file_extension": ".py",
   "mimetype": "text/x-python",
   "name": "python",
   "nbconvert_exporter": "python",
   "pygments_lexer": "ipython3",
   "version": "3.12.5"
  },
  "papermill": {
   "default_parameters": {},
   "duration": 32.211462,
   "end_time": "2025-05-14T16:10:26.699117",
   "environment_variables": {},
   "exception": null,
   "input_path": "02_xgboost_fitting_external_20genes.ipynb",
   "output_path": "results_20/executed_notebooks/xgboost_fitting_external_CT_DC_GS_shap_studyID_seed0.ipynb",
   "parameters": {
    "CELL_TYPE": "DC",
    "SEED": "shap_studyID",
    "TEST_SPLIT_IDX": 0
   },
   "start_time": "2025-05-14T16:09:54.487655",
   "version": "2.6.0"
  }
 },
 "nbformat": 4,
 "nbformat_minor": 5
}