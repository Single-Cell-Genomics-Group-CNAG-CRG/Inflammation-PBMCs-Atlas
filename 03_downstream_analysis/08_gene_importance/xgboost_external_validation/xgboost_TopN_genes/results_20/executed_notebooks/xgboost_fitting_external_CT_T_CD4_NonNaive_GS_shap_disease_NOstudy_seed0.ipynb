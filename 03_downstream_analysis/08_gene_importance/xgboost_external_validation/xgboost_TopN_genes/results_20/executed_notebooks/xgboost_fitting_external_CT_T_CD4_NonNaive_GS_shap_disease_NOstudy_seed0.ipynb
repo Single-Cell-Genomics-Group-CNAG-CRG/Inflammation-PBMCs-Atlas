{
 "cells": [
  {
   "cell_type": "code",
   "execution_count": 1,
   "id": "7eded227",
   "metadata": {
    "editable": true,
    "execution": {
     "iopub.execute_input": "2025-05-14T16:07:52.400171Z",
     "iopub.status.busy": "2025-05-14T16:07:52.399979Z",
     "iopub.status.idle": "2025-05-14T16:07:52.402829Z",
     "shell.execute_reply": "2025-05-14T16:07:52.402415Z"
    },
    "papermill": {
     "duration": 0.011366,
     "end_time": "2025-05-14T16:07:52.403879",
     "exception": false,
     "start_time": "2025-05-14T16:07:52.392513",
     "status": "completed"
    },
    "slideshow": {
     "slide_type": ""
    },
    "tags": [
     "parameters"
    ]
   },
   "outputs": [],
   "source": [
    "CELL_TYPE = 'pDC'\n",
    "N_GENES: int = 20\n",
    "SEED = 'shap_studyID' #'disease_NOstudy' 'study_NOdisease' or 'int' or 'shap_studyID'\n",
    "TEST_SPLIT_IDX: int = 1 #[0,4]"
   ]
  },
  {
   "cell_type": "code",
   "execution_count": 2,
   "id": "1e7b0d7c",
   "metadata": {
    "execution": {
     "iopub.execute_input": "2025-05-14T16:07:52.415048Z",
     "iopub.status.busy": "2025-05-14T16:07:52.414875Z",
     "iopub.status.idle": "2025-05-14T16:07:52.417635Z",
     "shell.execute_reply": "2025-05-14T16:07:52.417307Z"
    },
    "papermill": {
     "duration": 0.009545,
     "end_time": "2025-05-14T16:07:52.418736",
     "exception": false,
     "start_time": "2025-05-14T16:07:52.409191",
     "status": "completed"
    },
    "tags": [
     "injected-parameters"
    ]
   },
   "outputs": [],
   "source": [
    "# Parameters\n",
    "CELL_TYPE = \"T_CD4_NonNaive\"\n",
    "SEED = \"shap_disease_NOstudy\"\n",
    "TEST_SPLIT_IDX = 0\n"
   ]
  },
  {
   "cell_type": "code",
   "execution_count": 3,
   "id": "c739c3fd",
   "metadata": {
    "execution": {
     "iopub.execute_input": "2025-05-14T16:07:52.429841Z",
     "iopub.status.busy": "2025-05-14T16:07:52.429594Z",
     "iopub.status.idle": "2025-05-14T16:07:52.431862Z",
     "shell.execute_reply": "2025-05-14T16:07:52.431431Z"
    },
    "papermill": {
     "duration": 0.008977,
     "end_time": "2025-05-14T16:07:52.432762",
     "exception": false,
     "start_time": "2025-05-14T16:07:52.423785",
     "status": "completed"
    },
    "tags": []
   },
   "outputs": [],
   "source": [
    "N_SPLITS: int = 5\n",
    "N_TRIALS: int = 50"
   ]
  },
  {
   "cell_type": "code",
   "execution_count": 4,
   "id": "d450f906",
   "metadata": {
    "execution": {
     "iopub.execute_input": "2025-05-14T16:07:52.444267Z",
     "iopub.status.busy": "2025-05-14T16:07:52.444040Z",
     "iopub.status.idle": "2025-05-14T16:07:53.937726Z",
     "shell.execute_reply": "2025-05-14T16:07:53.937188Z"
    },
    "papermill": {
     "duration": 1.501365,
     "end_time": "2025-05-14T16:07:53.939103",
     "exception": false,
     "start_time": "2025-05-14T16:07:52.437738",
     "status": "completed"
    },
    "tags": []
   },
   "outputs": [],
   "source": [
    "import os\n",
    "import sys\n",
    "from pyprojroot.here import here\n",
    "import pandas as pd\n",
    "import anndata as ad\n",
    "import numpy as np\n",
    "import math\n",
    "from sklearn.model_selection import StratifiedGroupKFold\n",
    "from sklearn.preprocessing import LabelEncoder\n",
    "from sklearn.metrics import f1_score\n",
    "import matplotlib.pyplot as plt\n",
    "import seaborn as sns\n",
    "from itertools import product\n",
    "from sklearn.metrics import balanced_accuracy_score, f1_score\n",
    "import optuna\n",
    "\n",
    "import joblib\n",
    "import pickle\n",
    "import datetime\n",
    "\n",
    "import collections\n",
    "\n",
    "import xgboost\n",
    "from sklearn.preprocessing import LabelEncoder\n",
    "\n",
    "import scipy.sparse as ssp\n",
    "import joblib\n",
    "\n",
    "from dotenv import load_dotenv"
   ]
  },
  {
   "cell_type": "code",
   "execution_count": 5,
   "id": "ca283053",
   "metadata": {
    "execution": {
     "iopub.execute_input": "2025-05-14T16:07:53.950867Z",
     "iopub.status.busy": "2025-05-14T16:07:53.950464Z",
     "iopub.status.idle": "2025-05-14T16:07:53.956512Z",
     "shell.execute_reply": "2025-05-14T16:07:53.956166Z"
    },
    "papermill": {
     "duration": 0.012806,
     "end_time": "2025-05-14T16:07:53.957500",
     "exception": false,
     "start_time": "2025-05-14T16:07:53.944694",
     "status": "completed"
    },
    "tags": []
   },
   "outputs": [
    {
     "data": {
      "text/plain": [
       "True"
      ]
     },
     "execution_count": 5,
     "metadata": {},
     "output_type": "execute_result"
    }
   ],
   "source": [
    "load_dotenv()"
   ]
  },
  {
   "cell_type": "markdown",
   "id": "93d0d60b",
   "metadata": {
    "papermill": {
     "duration": 0.005233,
     "end_time": "2025-05-14T16:07:53.967662",
     "exception": false,
     "start_time": "2025-05-14T16:07:53.962429",
     "status": "completed"
    },
    "tags": []
   },
   "source": [
    "# LOAD DATASET"
   ]
  },
  {
   "cell_type": "code",
   "execution_count": 6,
   "id": "1bf90af5",
   "metadata": {
    "execution": {
     "iopub.execute_input": "2025-05-14T16:07:53.978399Z",
     "iopub.status.busy": "2025-05-14T16:07:53.978040Z",
     "iopub.status.idle": "2025-05-14T16:07:54.760915Z",
     "shell.execute_reply": "2025-05-14T16:07:54.760372Z"
    },
    "papermill": {
     "duration": 0.789541,
     "end_time": "2025-05-14T16:07:54.762247",
     "exception": false,
     "start_time": "2025-05-14T16:07:53.972706",
     "status": "completed"
    },
    "tags": []
   },
   "outputs": [],
   "source": [
    "train_adata = ad.read_h5ad(\n",
    "    here(f'03_downstream_analysis/08_gene_importance/xgboost_external_validation/xgboost_TopN_genes/data_cellTypes/EXTERNAL_{CELL_TYPE}.filtered.log1p.h5ad')\n",
    ")"
   ]
  },
  {
   "cell_type": "code",
   "execution_count": 7,
   "id": "21fd04d5",
   "metadata": {
    "execution": {
     "iopub.execute_input": "2025-05-14T16:07:54.774691Z",
     "iopub.status.busy": "2025-05-14T16:07:54.774284Z",
     "iopub.status.idle": "2025-05-14T16:07:54.808977Z",
     "shell.execute_reply": "2025-05-14T16:07:54.808560Z"
    },
    "papermill": {
     "duration": 0.041605,
     "end_time": "2025-05-14T16:07:54.809942",
     "exception": false,
     "start_time": "2025-05-14T16:07:54.768337",
     "status": "completed"
    },
    "tags": []
   },
   "outputs": [
    {
     "name": "stdout",
     "output_type": "stream",
     "text": [
      "['ENSG00000006125' 'ENSG00000019582' 'ENSG00000030582' 'ENSG00000065978'\n",
      " 'ENSG00000067182' 'ENSG00000072958' 'ENSG00000076944' 'ENSG00000077380'\n",
      " 'ENSG00000079616' 'ENSG00000079805' 'ENSG00000085265' 'ENSG00000090266'\n",
      " 'ENSG00000090382' 'ENSG00000090863' 'ENSG00000100664' 'ENSG00000104998'\n",
      " 'ENSG00000105373' 'ENSG00000106952' 'ENSG00000108561' 'ENSG00000109787'\n",
      " 'ENSG00000110848' 'ENSG00000110876' 'ENSG00000111348' 'ENSG00000111716'\n",
      " 'ENSG00000112149' 'ENSG00000113732' 'ENSG00000117318' 'ENSG00000118503'\n",
      " 'ENSG00000120129' 'ENSG00000121774' 'ENSG00000121879' 'ENSG00000125347'\n",
      " 'ENSG00000125534' 'ENSG00000125740' 'ENSG00000126524' 'ENSG00000126561'\n",
      " 'ENSG00000126709' 'ENSG00000127152' 'ENSG00000130522' 'ENSG00000132002'\n",
      " 'ENSG00000132465' 'ENSG00000132475' 'ENSG00000134954' 'ENSG00000137959'\n",
      " 'ENSG00000137965' 'ENSG00000138674' 'ENSG00000143119' 'ENSG00000143543'\n",
      " 'ENSG00000143575' 'ENSG00000145247' 'ENSG00000146278' 'ENSG00000146457'\n",
      " 'ENSG00000147168' 'ENSG00000149357' 'ENSG00000152082' 'ENSG00000152234'\n",
      " 'ENSG00000152495' 'ENSG00000152778' 'ENSG00000154589' 'ENSG00000157601'\n",
      " 'ENSG00000158050' 'ENSG00000158517' 'ENSG00000160932' 'ENSG00000162368'\n",
      " 'ENSG00000162739' 'ENSG00000163660' 'ENSG00000164543' 'ENSG00000165280'\n",
      " 'ENSG00000165732' 'ENSG00000166888' 'ENSG00000167552' 'ENSG00000167996'\n",
      " 'ENSG00000169442' 'ENSG00000169564' 'ENSG00000170345' 'ENSG00000170525'\n",
      " 'ENSG00000170989' 'ENSG00000172349' 'ENSG00000172936' 'ENSG00000175354'\n",
      " 'ENSG00000175768' 'ENSG00000176986' 'ENSG00000177606' 'ENSG00000179094'\n",
      " 'ENSG00000179144' 'ENSG00000181029' 'ENSG00000183020' 'ENSG00000183172'\n",
      " 'ENSG00000183508' 'ENSG00000183696' 'ENSG00000184007' 'ENSG00000184897'\n",
      " 'ENSG00000185201' 'ENSG00000185338' 'ENSG00000185650' 'ENSG00000185883'\n",
      " 'ENSG00000186010' 'ENSG00000186395' 'ENSG00000196396' 'ENSG00000197061'\n",
      " 'ENSG00000197102' 'ENSG00000197111' 'ENSG00000197746' 'ENSG00000198355'\n",
      " 'ENSG00000198502' 'ENSG00000203896' 'ENSG00000204267' 'ENSG00000204525'\n",
      " 'ENSG00000211895' 'ENSG00000213145' 'ENSG00000213928' 'ENSG00000229474'\n",
      " 'ENSG00000239697' 'ENSG00000242616' 'ENSG00000243646' 'ENSG00000254772'\n",
      " 'ENSG00000258315' 'ENSG00000264364']\n"
     ]
    }
   ],
   "source": [
    "if SEED != 'all':\n",
    "    gene_subset = np.load(here(f'03_downstream_analysis/08_gene_importance/xgboost_external_validation/shap_gene_selection/gene_subsets_{N_GENES}/{CELL_TYPE}_{SEED}.npy'), allow_pickle=True)\n",
    "    train_adata = train_adata[:,gene_subset]\n",
    "    print(gene_subset)\n",
    "elif SEED == 'all':\n",
    "    print('Using all genes')\n",
    "else:\n",
    "    raise ValueError()"
   ]
  },
  {
   "cell_type": "code",
   "execution_count": 8,
   "id": "d2ae8cbd",
   "metadata": {
    "execution": {
     "iopub.execute_input": "2025-05-14T16:07:54.822066Z",
     "iopub.status.busy": "2025-05-14T16:07:54.821699Z",
     "iopub.status.idle": "2025-05-14T16:07:54.824804Z",
     "shell.execute_reply": "2025-05-14T16:07:54.824445Z"
    },
    "papermill": {
     "duration": 0.0101,
     "end_time": "2025-05-14T16:07:54.825669",
     "exception": false,
     "start_time": "2025-05-14T16:07:54.815569",
     "status": "completed"
    },
    "tags": []
   },
   "outputs": [
    {
     "data": {
      "text/plain": [
       "(124886, 118)"
      ]
     },
     "execution_count": 8,
     "metadata": {},
     "output_type": "execute_result"
    }
   ],
   "source": [
    "train_adata.shape"
   ]
  },
  {
   "cell_type": "code",
   "execution_count": 9,
   "id": "00382553",
   "metadata": {
    "execution": {
     "iopub.execute_input": "2025-05-14T16:07:54.837011Z",
     "iopub.status.busy": "2025-05-14T16:07:54.836796Z",
     "iopub.status.idle": "2025-05-14T16:07:54.840691Z",
     "shell.execute_reply": "2025-05-14T16:07:54.840325Z"
    },
    "papermill": {
     "duration": 0.010538,
     "end_time": "2025-05-14T16:07:54.841552",
     "exception": false,
     "start_time": "2025-05-14T16:07:54.831014",
     "status": "completed"
    },
    "tags": []
   },
   "outputs": [
    {
     "data": {
      "text/plain": [
       "['RA', 'healthy', 'COVID', 'HIV', 'cirrhosis', 'CD', 'SLE', 'sepsis']\n",
       "Categories (8, object): ['CD', 'COVID', 'HIV', 'RA', 'SLE', 'cirrhosis', 'healthy', 'sepsis']"
      ]
     },
     "execution_count": 9,
     "metadata": {},
     "output_type": "execute_result"
    }
   ],
   "source": [
    "train_adata.obs.disease.unique()"
   ]
  },
  {
   "cell_type": "code",
   "execution_count": 10,
   "id": "d751a917",
   "metadata": {
    "execution": {
     "iopub.execute_input": "2025-05-14T16:07:54.853235Z",
     "iopub.status.busy": "2025-05-14T16:07:54.853024Z",
     "iopub.status.idle": "2025-05-14T16:07:54.856909Z",
     "shell.execute_reply": "2025-05-14T16:07:54.856578Z"
    },
    "papermill": {
     "duration": 0.010764,
     "end_time": "2025-05-14T16:07:54.857770",
     "exception": false,
     "start_time": "2025-05-14T16:07:54.847006",
     "status": "completed"
    },
    "tags": []
   },
   "outputs": [
    {
     "data": {
      "text/plain": [
       "['SCGT00val_I036016_T0', 'SCGT00val_I036023_T0', 'SCGT00val_I036015_T0', 'SCGT00val_I036028_T0', 'SCGT00val_I0364_T0', ..., '10XGenomics_10XHC2_T0', '10XGenomics_10XHC3_T0', '10XGenomics_10XHC5_T0', '10XGenomics_10XHC7_T0', '10XGenomics_10XHC8_T0']\n",
       "Length: 86\n",
       "Categories (86, object): ['10XGenomics_10XHC1_T0', '10XGenomics_10XHC2_T0', '10XGenomics_10XHC3_T0', '10XGenomics_10XHC4_T0', ..., 'Savage2021_BRISL6_T0', 'Savage2021_BRISL7_T0', 'Savage2021_PIDA_T0', 'Savage2021_PIDB_T0']"
      ]
     },
     "execution_count": 10,
     "metadata": {},
     "output_type": "execute_result"
    }
   ],
   "source": [
    "train_adata.obs.sampleID.unique()"
   ]
  },
  {
   "cell_type": "code",
   "execution_count": 11,
   "id": "3ab69a0f",
   "metadata": {
    "execution": {
     "iopub.execute_input": "2025-05-14T16:07:54.869321Z",
     "iopub.status.busy": "2025-05-14T16:07:54.869100Z",
     "iopub.status.idle": "2025-05-14T16:07:55.186022Z",
     "shell.execute_reply": "2025-05-14T16:07:55.185499Z"
    },
    "papermill": {
     "duration": 0.324189,
     "end_time": "2025-05-14T16:07:55.187285",
     "exception": false,
     "start_time": "2025-05-14T16:07:54.863096",
     "status": "completed"
    },
    "tags": []
   },
   "outputs": [],
   "source": [
    "all_idxs = np.arange(train_adata.obs.shape[0])\n",
    "left_out_splits = [s[1] for s in StratifiedGroupKFold(n_splits=N_SPLITS).split(all_idxs, train_adata.obs.disease, train_adata.obs.sampleID)]"
   ]
  },
  {
   "cell_type": "code",
   "execution_count": 12,
   "id": "e713d415",
   "metadata": {
    "execution": {
     "iopub.execute_input": "2025-05-14T16:07:55.200022Z",
     "iopub.status.busy": "2025-05-14T16:07:55.199779Z",
     "iopub.status.idle": "2025-05-14T16:07:55.203069Z",
     "shell.execute_reply": "2025-05-14T16:07:55.202765Z"
    },
    "papermill": {
     "duration": 0.010375,
     "end_time": "2025-05-14T16:07:55.204028",
     "exception": false,
     "start_time": "2025-05-14T16:07:55.193653",
     "status": "completed"
    },
    "tags": []
   },
   "outputs": [
    {
     "data": {
      "text/plain": [
       "([2, 3, 4], 1, 0)"
      ]
     },
     "execution_count": 12,
     "metadata": {},
     "output_type": "execute_result"
    }
   ],
   "source": [
    "TRAIN_SPLIT_IDXS = [0,1,2,3,4]\n",
    "VAL_SPLIT_IDX = (TEST_SPLIT_IDX + 1) % 5\n",
    "TRAIN_SPLIT_IDXS.remove(TEST_SPLIT_IDX)\n",
    "TRAIN_SPLIT_IDXS.remove(VAL_SPLIT_IDX)\n",
    "TRAIN_SPLIT_IDXS, VAL_SPLIT_IDX, TEST_SPLIT_IDX"
   ]
  },
  {
   "cell_type": "code",
   "execution_count": 13,
   "id": "b2b239b6",
   "metadata": {
    "execution": {
     "iopub.execute_input": "2025-05-14T16:07:55.216880Z",
     "iopub.status.busy": "2025-05-14T16:07:55.216098Z",
     "iopub.status.idle": "2025-05-14T16:07:55.219061Z",
     "shell.execute_reply": "2025-05-14T16:07:55.218701Z"
    },
    "papermill": {
     "duration": 0.01024,
     "end_time": "2025-05-14T16:07:55.220027",
     "exception": false,
     "start_time": "2025-05-14T16:07:55.209787",
     "status": "completed"
    },
    "tags": []
   },
   "outputs": [],
   "source": [
    "train_idxs = np.concatenate([left_out_splits[idx] for idx in TRAIN_SPLIT_IDXS])\n",
    "val_idxs = left_out_splits[VAL_SPLIT_IDX]\n",
    "test_idxs = left_out_splits[TEST_SPLIT_IDX]"
   ]
  },
  {
   "cell_type": "markdown",
   "id": "c15c1add",
   "metadata": {
    "papermill": {
     "duration": 0.005593,
     "end_time": "2025-05-14T16:07:55.231184",
     "exception": false,
     "start_time": "2025-05-14T16:07:55.225591",
     "status": "completed"
    },
    "tags": []
   },
   "source": [
    "### SUBSET DATASET INTO TRAIN/TEST/VAL SPLITS"
   ]
  },
  {
   "cell_type": "code",
   "execution_count": 14,
   "id": "a015910d",
   "metadata": {
    "execution": {
     "iopub.execute_input": "2025-05-14T16:07:55.245038Z",
     "iopub.status.busy": "2025-05-14T16:07:55.244720Z",
     "iopub.status.idle": "2025-05-14T16:07:55.534176Z",
     "shell.execute_reply": "2025-05-14T16:07:55.533799Z"
    },
    "papermill": {
     "duration": 0.297215,
     "end_time": "2025-05-14T16:07:55.535219",
     "exception": false,
     "start_time": "2025-05-14T16:07:55.238004",
     "status": "completed"
    },
    "tags": []
   },
   "outputs": [
    {
     "data": {
      "text/plain": [
       "((74333, 118), (24277, 118), (26276, 118))"
      ]
     },
     "execution_count": 14,
     "metadata": {},
     "output_type": "execute_result"
    }
   ],
   "source": [
    "X_train = train_adata.X[train_idxs]\n",
    "X_test = train_adata.X[test_idxs]\n",
    "X_val = train_adata.X[val_idxs]\n",
    "X_train.shape, X_test.shape, X_val.shape"
   ]
  },
  {
   "cell_type": "code",
   "execution_count": 15,
   "id": "d81c8fa6",
   "metadata": {
    "execution": {
     "iopub.execute_input": "2025-05-14T16:07:55.549261Z",
     "iopub.status.busy": "2025-05-14T16:07:55.548900Z",
     "iopub.status.idle": "2025-05-14T16:07:55.563435Z",
     "shell.execute_reply": "2025-05-14T16:07:55.563062Z"
    },
    "papermill": {
     "duration": 0.022126,
     "end_time": "2025-05-14T16:07:55.564424",
     "exception": false,
     "start_time": "2025-05-14T16:07:55.542298",
     "status": "completed"
    },
    "tags": []
   },
   "outputs": [
    {
     "data": {
      "text/plain": [
       "((74333,), (24277,), (26276,))"
      ]
     },
     "execution_count": 15,
     "metadata": {},
     "output_type": "execute_result"
    }
   ],
   "source": [
    "y_train = train_adata.obs.iloc[train_idxs].disease.values.astype(str)\n",
    "y_test = train_adata.obs.iloc[test_idxs].disease.values.astype(str)\n",
    "y_val = train_adata.obs.iloc[val_idxs].disease.values.astype(str)\n",
    "y_train.shape, y_test.shape, y_val.shape"
   ]
  },
  {
   "cell_type": "code",
   "execution_count": 16,
   "id": "2c98cece",
   "metadata": {
    "execution": {
     "iopub.execute_input": "2025-05-14T16:07:55.577103Z",
     "iopub.status.busy": "2025-05-14T16:07:55.576877Z",
     "iopub.status.idle": "2025-05-14T16:07:55.605061Z",
     "shell.execute_reply": "2025-05-14T16:07:55.604600Z"
    },
    "papermill": {
     "duration": 0.035872,
     "end_time": "2025-05-14T16:07:55.606189",
     "exception": false,
     "start_time": "2025-05-14T16:07:55.570317",
     "status": "completed"
    },
    "tags": []
   },
   "outputs": [],
   "source": [
    "lenc = LabelEncoder()\n",
    "y_train_enc = lenc.fit_transform(y_train)\n",
    "y_val_enc = lenc.transform(y_val)\n",
    "y_test_enc = lenc.transform(y_test)"
   ]
  },
  {
   "cell_type": "markdown",
   "id": "ddcf8fca",
   "metadata": {
    "papermill": {
     "duration": 0.005635,
     "end_time": "2025-05-14T16:07:55.617982",
     "exception": false,
     "start_time": "2025-05-14T16:07:55.612347",
     "status": "completed"
    },
    "tags": []
   },
   "source": [
    "### GENERATE F1 "
   ]
  },
  {
   "cell_type": "code",
   "execution_count": 17,
   "id": "af860557",
   "metadata": {
    "execution": {
     "iopub.execute_input": "2025-05-14T16:07:55.630446Z",
     "iopub.status.busy": "2025-05-14T16:07:55.630068Z",
     "iopub.status.idle": "2025-05-14T16:07:55.632514Z",
     "shell.execute_reply": "2025-05-14T16:07:55.632216Z"
    },
    "papermill": {
     "duration": 0.009646,
     "end_time": "2025-05-14T16:07:55.633441",
     "exception": false,
     "start_time": "2025-05-14T16:07:55.623795",
     "status": "completed"
    },
    "tags": []
   },
   "outputs": [],
   "source": [
    "def custom_f1_score(y_true, y_pred):\n",
    "    return -f1_score(y_true, y_pred.argmax(1), average='weighted')"
   ]
  },
  {
   "cell_type": "code",
   "execution_count": 18,
   "id": "3b8539a2",
   "metadata": {
    "execution": {
     "iopub.execute_input": "2025-05-14T16:07:55.645579Z",
     "iopub.status.busy": "2025-05-14T16:07:55.645239Z",
     "iopub.status.idle": "2025-05-14T16:07:55.649342Z",
     "shell.execute_reply": "2025-05-14T16:07:55.648983Z"
    },
    "papermill": {
     "duration": 0.011299,
     "end_time": "2025-05-14T16:07:55.650295",
     "exception": false,
     "start_time": "2025-05-14T16:07:55.638996",
     "status": "completed"
    },
    "tags": []
   },
   "outputs": [],
   "source": [
    "eval_metric=custom_f1_score\n",
    "eval_metric_name='custom_f1_score'\n",
    "\n",
    "def objective(trial):\n",
    "    params = {\n",
    "        'n_estimators': 1500,\n",
    "        'max_depth': trial.suggest_int('max_depth', 3, 20),\n",
    "        'min_child_weight': trial.suggest_int('min_child_weight', 1, 250),\n",
    "        'subsample': trial.suggest_float('subsample', 0.1, 1.0),\n",
    "        'colsample_bynode': trial.suggest_float('colsample_bynode', 0.1, 1.0),\n",
    "        'learning_rate': trial.suggest_float('learning_rate', 1e-3, 5e-1, log=True),\n",
    "    }\n",
    "    pruning_callback = optuna.integration.XGBoostPruningCallback(trial, f'validation_0-{eval_metric_name}')\n",
    "    es_callback = xgboost.callback.EarlyStopping(20, min_delta=0.001)\n",
    "    xgb = xgboost.XGBClassifier(\n",
    "        eval_metric=eval_metric,\n",
    "        callbacks=[pruning_callback, es_callback],\n",
    "        n_jobs=5,\n",
    "        **params\n",
    "    )\n",
    "    xgb.fit(\n",
    "        X_train, \n",
    "        y_train_enc, \n",
    "        verbose=0,\n",
    "        eval_set=[(X_val, y_val_enc)],\n",
    "    )\n",
    "    trial.set_user_attr('best_iteration', xgb.best_iteration)\n",
    "\n",
    "    return xgb.best_score"
   ]
  },
  {
   "cell_type": "code",
   "execution_count": 19,
   "id": "3889e23e",
   "metadata": {
    "execution": {
     "iopub.execute_input": "2025-05-14T16:07:55.663209Z",
     "iopub.status.busy": "2025-05-14T16:07:55.662981Z",
     "iopub.status.idle": "2025-05-14T16:28:06.906210Z",
     "shell.execute_reply": "2025-05-14T16:28:06.905468Z"
    },
    "papermill": {
     "duration": 1211.25156,
     "end_time": "2025-05-14T16:28:06.907693",
     "exception": false,
     "start_time": "2025-05-14T16:07:55.656133",
     "status": "completed"
    },
    "scrolled": true,
    "tags": []
   },
   "outputs": [
    {
     "name": "stderr",
     "output_type": "stream",
     "text": [
      "[I 2025-05-14 18:07:55,664] A new study created in memory with name: no-name-c2c17260-1dad-4303-93e3-3a805849d871\n"
     ]
    },
    {
     "name": "stderr",
     "output_type": "stream",
     "text": [
      "[I 2025-05-14 18:08:21,525] Trial 0 finished with value: -0.763462 and parameters: {'max_depth': 9, 'min_child_weight': 238, 'subsample': 0.7587945476302645, 'colsample_bynode': 0.6387926357773329, 'learning_rate': 0.0026368755339723046}. Best is trial 0 with value: -0.763462.\n"
     ]
    },
    {
     "name": "stderr",
     "output_type": "stream",
     "text": [
      "[I 2025-05-14 18:08:39,693] Trial 1 finished with value: -0.784266 and parameters: {'max_depth': 5, 'min_child_weight': 15, 'subsample': 0.8795585311974417, 'colsample_bynode': 0.6410035105688879, 'learning_rate': 0.08148293210105287}. Best is trial 1 with value: -0.784266.\n"
     ]
    },
    {
     "name": "stderr",
     "output_type": "stream",
     "text": [
      "[I 2025-05-14 18:08:49,810] Trial 2 finished with value: -0.644541 and parameters: {'max_depth': 3, 'min_child_weight': 243, 'subsample': 0.8491983767203796, 'colsample_bynode': 0.29110519961044856, 'learning_rate': 0.003095566460242371}. Best is trial 1 with value: -0.784266.\n"
     ]
    },
    {
     "name": "stderr",
     "output_type": "stream",
     "text": [
      "[I 2025-05-14 18:09:39,250] Trial 3 finished with value: -0.767719 and parameters: {'max_depth': 6, 'min_child_weight': 77, 'subsample': 0.5722807884690141, 'colsample_bynode': 0.48875051677790415, 'learning_rate': 0.006109683510122491}. Best is trial 1 with value: -0.784266.\n"
     ]
    },
    {
     "name": "stderr",
     "output_type": "stream",
     "text": [
      "[I 2025-05-14 18:11:56,829] Trial 4 finished with value: -0.841069 and parameters: {'max_depth': 14, 'min_child_weight': 35, 'subsample': 0.3629301836816964, 'colsample_bynode': 0.4297256589643226, 'learning_rate': 0.01701841881702917}. Best is trial 4 with value: -0.841069.\n"
     ]
    },
    {
     "name": "stderr",
     "output_type": "stream",
     "text": [
      "[I 2025-05-14 18:12:13,688] Trial 5 finished with value: -0.791357 and parameters: {'max_depth': 17, 'min_child_weight': 50, 'subsample': 0.5628109945722505, 'colsample_bynode': 0.6331731119758383, 'learning_rate': 0.0013346527038305934}. Best is trial 4 with value: -0.841069.\n"
     ]
    },
    {
     "name": "stderr",
     "output_type": "stream",
     "text": [
      "[I 2025-05-14 18:12:14,395] Trial 6 pruned. Trial was pruned at iteration 0.\n"
     ]
    },
    {
     "name": "stderr",
     "output_type": "stream",
     "text": [
      "[I 2025-05-14 18:12:15,114] Trial 7 pruned. Trial was pruned at iteration 0.\n"
     ]
    },
    {
     "name": "stderr",
     "output_type": "stream",
     "text": [
      "[I 2025-05-14 18:12:15,855] Trial 8 pruned. Trial was pruned at iteration 0.\n"
     ]
    },
    {
     "name": "stderr",
     "output_type": "stream",
     "text": [
      "[I 2025-05-14 18:12:30,428] Trial 9 pruned. Trial was pruned at iteration 38.\n"
     ]
    },
    {
     "name": "stderr",
     "output_type": "stream",
     "text": [
      "[I 2025-05-14 18:12:31,106] Trial 10 pruned. Trial was pruned at iteration 0.\n"
     ]
    },
    {
     "name": "stderr",
     "output_type": "stream",
     "text": [
      "[I 2025-05-14 18:13:25,298] Trial 11 finished with value: -0.817261 and parameters: {'max_depth': 16, 'min_child_weight': 4, 'subsample': 0.3928239981741563, 'colsample_bynode': 0.40131565860091256, 'learning_rate': 0.00103976023725977}. Best is trial 4 with value: -0.841069.\n"
     ]
    },
    {
     "name": "stderr",
     "output_type": "stream",
     "text": [
      "[I 2025-05-14 18:15:08,248] Trial 12 finished with value: -0.836658 and parameters: {'max_depth': 11, 'min_child_weight': 3, 'subsample': 0.3572688776005891, 'colsample_bynode': 0.3630146189517875, 'learning_rate': 0.01887299933487939}. Best is trial 4 with value: -0.841069.\n"
     ]
    },
    {
     "name": "stderr",
     "output_type": "stream",
     "text": [
      "[I 2025-05-14 18:15:08,900] Trial 13 pruned. Trial was pruned at iteration 0.\n"
     ]
    },
    {
     "name": "stderr",
     "output_type": "stream",
     "text": [
      "[I 2025-05-14 18:16:50,741] Trial 14 finished with value: -0.842282 and parameters: {'max_depth': 10, 'min_child_weight': 2, 'subsample': 0.4476408942142059, 'colsample_bynode': 0.3869902878385261, 'learning_rate': 0.026267446078673977}. Best is trial 14 with value: -0.842282.\n"
     ]
    },
    {
     "name": "stderr",
     "output_type": "stream",
     "text": [
      "[I 2025-05-14 18:16:51,449] Trial 15 pruned. Trial was pruned at iteration 0.\n"
     ]
    },
    {
     "name": "stderr",
     "output_type": "stream",
     "text": [
      "[I 2025-05-14 18:16:52,109] Trial 16 pruned. Trial was pruned at iteration 0.\n"
     ]
    },
    {
     "name": "stderr",
     "output_type": "stream",
     "text": [
      "[I 2025-05-14 18:16:53,118] Trial 17 pruned. Trial was pruned at iteration 1.\n"
     ]
    },
    {
     "name": "stderr",
     "output_type": "stream",
     "text": [
      "[I 2025-05-14 18:16:53,737] Trial 18 pruned. Trial was pruned at iteration 0.\n"
     ]
    },
    {
     "name": "stderr",
     "output_type": "stream",
     "text": [
      "[I 2025-05-14 18:16:54,369] Trial 19 pruned. Trial was pruned at iteration 0.\n"
     ]
    },
    {
     "name": "stderr",
     "output_type": "stream",
     "text": [
      "[I 2025-05-14 18:19:17,825] Trial 20 finished with value: -0.850974 and parameters: {'max_depth': 12, 'min_child_weight': 24, 'subsample': 0.6651221570940629, 'colsample_bynode': 0.5240919983267287, 'learning_rate': 0.0334060285624871}. Best is trial 20 with value: -0.850974.\n"
     ]
    },
    {
     "name": "stderr",
     "output_type": "stream",
     "text": [
      "[I 2025-05-14 18:19:33,237] Trial 21 pruned. Trial was pruned at iteration 34.\n"
     ]
    },
    {
     "name": "stderr",
     "output_type": "stream",
     "text": [
      "[I 2025-05-14 18:19:33,964] Trial 22 pruned. Trial was pruned at iteration 0.\n"
     ]
    },
    {
     "name": "stderr",
     "output_type": "stream",
     "text": [
      "[I 2025-05-14 18:19:48,984] Trial 23 pruned. Trial was pruned at iteration 31.\n"
     ]
    },
    {
     "name": "stderr",
     "output_type": "stream",
     "text": [
      "[I 2025-05-14 18:19:49,716] Trial 24 pruned. Trial was pruned at iteration 0.\n"
     ]
    },
    {
     "name": "stderr",
     "output_type": "stream",
     "text": [
      "[I 2025-05-14 18:21:10,708] Trial 25 finished with value: -0.851571 and parameters: {'max_depth': 10, 'min_child_weight': 2, 'subsample': 0.9378803414743301, 'colsample_bynode': 0.5460935069484466, 'learning_rate': 0.10681371191024391}. Best is trial 25 with value: -0.851571.\n"
     ]
    },
    {
     "name": "stderr",
     "output_type": "stream",
     "text": [
      "[I 2025-05-14 18:22:21,141] Trial 26 finished with value: -0.853841 and parameters: {'max_depth': 10, 'min_child_weight': 1, 'subsample': 0.9892177776868588, 'colsample_bynode': 0.5626444932916599, 'learning_rate': 0.20741086925754246}. Best is trial 26 with value: -0.853841.\n"
     ]
    },
    {
     "name": "stderr",
     "output_type": "stream",
     "text": [
      "[I 2025-05-14 18:22:50,772] Trial 27 finished with value: -0.851455 and parameters: {'max_depth': 8, 'min_child_weight': 102, 'subsample': 0.984993330780731, 'colsample_bynode': 0.704248343763386, 'learning_rate': 0.3135065904510734}. Best is trial 26 with value: -0.853841.\n"
     ]
    },
    {
     "name": "stderr",
     "output_type": "stream",
     "text": [
      "[I 2025-05-14 18:22:51,457] Trial 28 pruned. Trial was pruned at iteration 0.\n"
     ]
    },
    {
     "name": "stderr",
     "output_type": "stream",
     "text": [
      "[I 2025-05-14 18:22:52,113] Trial 29 pruned. Trial was pruned at iteration 0.\n"
     ]
    },
    {
     "name": "stderr",
     "output_type": "stream",
     "text": [
      "[I 2025-05-14 18:22:52,789] Trial 30 pruned. Trial was pruned at iteration 0.\n"
     ]
    },
    {
     "name": "stderr",
     "output_type": "stream",
     "text": [
      "[I 2025-05-14 18:23:47,767] Trial 31 finished with value: -0.853027 and parameters: {'max_depth': 10, 'min_child_weight': 19, 'subsample': 0.9201974112979396, 'colsample_bynode': 0.5831871978263257, 'learning_rate': 0.1117329835983026}. Best is trial 26 with value: -0.853841.\n"
     ]
    },
    {
     "name": "stderr",
     "output_type": "stream",
     "text": [
      "[I 2025-05-14 18:24:37,416] Trial 32 finished with value: -0.850209 and parameters: {'max_depth': 10, 'min_child_weight': 10, 'subsample': 0.8993476050146045, 'colsample_bynode': 0.5647245998394455, 'learning_rate': 0.10117504644165137}. Best is trial 26 with value: -0.853841.\n"
     ]
    },
    {
     "name": "stderr",
     "output_type": "stream",
     "text": [
      "[I 2025-05-14 18:25:04,342] Trial 33 finished with value: -0.849265 and parameters: {'max_depth': 8, 'min_child_weight': 18, 'subsample': 0.8275265527646685, 'colsample_bynode': 0.6073966022595099, 'learning_rate': 0.27618195550192615}. Best is trial 26 with value: -0.853841.\n"
     ]
    },
    {
     "name": "stderr",
     "output_type": "stream",
     "text": [
      "[I 2025-05-14 18:25:04,948] Trial 34 pruned. Trial was pruned at iteration 0.\n"
     ]
    },
    {
     "name": "stderr",
     "output_type": "stream",
     "text": [
      "[I 2025-05-14 18:25:05,570] Trial 35 pruned. Trial was pruned at iteration 0.\n"
     ]
    },
    {
     "name": "stderr",
     "output_type": "stream",
     "text": [
      "[I 2025-05-14 18:25:06,284] Trial 36 pruned. Trial was pruned at iteration 0.\n"
     ]
    },
    {
     "name": "stderr",
     "output_type": "stream",
     "text": [
      "[I 2025-05-14 18:25:06,904] Trial 37 pruned. Trial was pruned at iteration 0.\n"
     ]
    },
    {
     "name": "stderr",
     "output_type": "stream",
     "text": [
      "[I 2025-05-14 18:25:41,114] Trial 38 finished with value: -0.85226 and parameters: {'max_depth': 9, 'min_child_weight': 14, 'subsample': 0.7822861131670866, 'colsample_bynode': 0.6966468405049089, 'learning_rate': 0.3194656429568981}. Best is trial 26 with value: -0.853841.\n"
     ]
    },
    {
     "name": "stderr",
     "output_type": "stream",
     "text": [
      "[I 2025-05-14 18:26:04,863] Trial 39 finished with value: -0.847696 and parameters: {'max_depth': 9, 'min_child_weight': 15, 'subsample': 0.7864315771022126, 'colsample_bynode': 0.6275818899610757, 'learning_rate': 0.371986111561007}. Best is trial 26 with value: -0.853841.\n"
     ]
    },
    {
     "name": "stderr",
     "output_type": "stream",
     "text": [
      "[I 2025-05-14 18:26:05,581] Trial 40 pruned. Trial was pruned at iteration 0.\n"
     ]
    },
    {
     "name": "stderr",
     "output_type": "stream",
     "text": [
      "[I 2025-05-14 18:26:36,966] Trial 41 finished with value: -0.852005 and parameters: {'max_depth': 9, 'min_child_weight': 30, 'subsample': 0.9503481400302409, 'colsample_bynode': 0.699462648557955, 'learning_rate': 0.2805810565481325}. Best is trial 26 with value: -0.853841.\n"
     ]
    },
    {
     "name": "stderr",
     "output_type": "stream",
     "text": [
      "[I 2025-05-14 18:26:40,831] Trial 42 pruned. Trial was pruned at iteration 4.\n"
     ]
    },
    {
     "name": "stderr",
     "output_type": "stream",
     "text": [
      "[I 2025-05-14 18:27:02,795] Trial 43 finished with value: -0.848129 and parameters: {'max_depth': 9, 'min_child_weight': 15, 'subsample': 0.8980237589627015, 'colsample_bynode': 0.586210137472482, 'learning_rate': 0.46979231074428857}. Best is trial 26 with value: -0.853841.\n"
     ]
    },
    {
     "name": "stderr",
     "output_type": "stream",
     "text": [
      "[I 2025-05-14 18:27:04,181] Trial 44 pruned. Trial was pruned at iteration 2.\n"
     ]
    },
    {
     "name": "stderr",
     "output_type": "stream",
     "text": [
      "[I 2025-05-14 18:27:04,865] Trial 45 pruned. Trial was pruned at iteration 0.\n"
     ]
    },
    {
     "name": "stderr",
     "output_type": "stream",
     "text": [
      "[I 2025-05-14 18:27:06,056] Trial 46 pruned. Trial was pruned at iteration 1.\n"
     ]
    },
    {
     "name": "stderr",
     "output_type": "stream",
     "text": [
      "[I 2025-05-14 18:28:05,457] Trial 47 finished with value: -0.853077 and parameters: {'max_depth': 10, 'min_child_weight': 13, 'subsample': 0.9495102672759439, 'colsample_bynode': 0.9008512446186483, 'learning_rate': 0.35317893636698605}. Best is trial 26 with value: -0.853841.\n"
     ]
    },
    {
     "name": "stderr",
     "output_type": "stream",
     "text": [
      "[I 2025-05-14 18:28:06,198] Trial 48 pruned. Trial was pruned at iteration 0.\n"
     ]
    },
    {
     "name": "stderr",
     "output_type": "stream",
     "text": [
      "[I 2025-05-14 18:28:06,815] Trial 49 pruned. Trial was pruned at iteration 0.\n"
     ]
    }
   ],
   "source": [
    "sampler = optuna.samplers.TPESampler(seed=42)\n",
    "study = optuna.create_study(direction='minimize', sampler=sampler)\n",
    "study.optimize(objective, n_trials=N_TRIALS, gc_after_trial=True)"
   ]
  },
  {
   "cell_type": "code",
   "execution_count": 20,
   "id": "0a9623c2",
   "metadata": {
    "execution": {
     "iopub.execute_input": "2025-05-14T16:28:06.931150Z",
     "iopub.status.busy": "2025-05-14T16:28:06.930739Z",
     "iopub.status.idle": "2025-05-14T16:28:06.969985Z",
     "shell.execute_reply": "2025-05-14T16:28:06.969329Z"
    },
    "papermill": {
     "duration": 0.052105,
     "end_time": "2025-05-14T16:28:06.971165",
     "exception": false,
     "start_time": "2025-05-14T16:28:06.919060",
     "status": "completed"
    },
    "tags": []
   },
   "outputs": [
    {
     "data": {
      "text/plain": [
       "['/scratch_isilon/groups/singlecell/shared/projects/Inflammation-PBMCs-Atlas/03_downstream_analysis/08_gene_importance/xgboost_external_validation/xgboost_TopN_genes/results_20/study/T_CD4_NonNaive_shap_disease_NOstudy_0_xgboost.pkl']"
      ]
     },
     "execution_count": 20,
     "metadata": {},
     "output_type": "execute_result"
    }
   ],
   "source": [
    "out_dir = here(f'03_downstream_analysis/08_gene_importance/xgboost_external_validation/xgboost_TopN_genes/results_{N_GENES}/study')\n",
    "\n",
    "if not os.path.exists(out_dir):\n",
    "    os.makedirs(out_dir)\n",
    "    \n",
    "joblib.dump(study,os.path.join(out_dir, f'{CELL_TYPE}_{SEED}_{TEST_SPLIT_IDX}_xgboost.pkl'))"
   ]
  },
  {
   "cell_type": "code",
   "execution_count": 21,
   "id": "ec13cef8",
   "metadata": {
    "execution": {
     "iopub.execute_input": "2025-05-14T16:28:06.992215Z",
     "iopub.status.busy": "2025-05-14T16:28:06.991677Z",
     "iopub.status.idle": "2025-05-14T16:28:51.235588Z",
     "shell.execute_reply": "2025-05-14T16:28:51.234908Z"
    },
    "papermill": {
     "duration": 44.266708,
     "end_time": "2025-05-14T16:28:51.247861",
     "exception": false,
     "start_time": "2025-05-14T16:28:06.981153",
     "status": "completed"
    },
    "tags": []
   },
   "outputs": [
    {
     "data": {
      "text/html": [
       "<style>#sk-container-id-1 {\n",
       "  /* Definition of color scheme common for light and dark mode */\n",
       "  --sklearn-color-text: black;\n",
       "  --sklearn-color-line: gray;\n",
       "  /* Definition of color scheme for unfitted estimators */\n",
       "  --sklearn-color-unfitted-level-0: #fff5e6;\n",
       "  --sklearn-color-unfitted-level-1: #f6e4d2;\n",
       "  --sklearn-color-unfitted-level-2: #ffe0b3;\n",
       "  --sklearn-color-unfitted-level-3: chocolate;\n",
       "  /* Definition of color scheme for fitted estimators */\n",
       "  --sklearn-color-fitted-level-0: #f0f8ff;\n",
       "  --sklearn-color-fitted-level-1: #d4ebff;\n",
       "  --sklearn-color-fitted-level-2: #b3dbfd;\n",
       "  --sklearn-color-fitted-level-3: cornflowerblue;\n",
       "\n",
       "  /* Specific color for light theme */\n",
       "  --sklearn-color-text-on-default-background: var(--sg-text-color, var(--theme-code-foreground, var(--jp-content-font-color1, black)));\n",
       "  --sklearn-color-background: var(--sg-background-color, var(--theme-background, var(--jp-layout-color0, white)));\n",
       "  --sklearn-color-border-box: var(--sg-text-color, var(--theme-code-foreground, var(--jp-content-font-color1, black)));\n",
       "  --sklearn-color-icon: #696969;\n",
       "\n",
       "  @media (prefers-color-scheme: dark) {\n",
       "    /* Redefinition of color scheme for dark theme */\n",
       "    --sklearn-color-text-on-default-background: var(--sg-text-color, var(--theme-code-foreground, var(--jp-content-font-color1, white)));\n",
       "    --sklearn-color-background: var(--sg-background-color, var(--theme-background, var(--jp-layout-color0, #111)));\n",
       "    --sklearn-color-border-box: var(--sg-text-color, var(--theme-code-foreground, var(--jp-content-font-color1, white)));\n",
       "    --sklearn-color-icon: #878787;\n",
       "  }\n",
       "}\n",
       "\n",
       "#sk-container-id-1 {\n",
       "  color: var(--sklearn-color-text);\n",
       "}\n",
       "\n",
       "#sk-container-id-1 pre {\n",
       "  padding: 0;\n",
       "}\n",
       "\n",
       "#sk-container-id-1 input.sk-hidden--visually {\n",
       "  border: 0;\n",
       "  clip: rect(1px 1px 1px 1px);\n",
       "  clip: rect(1px, 1px, 1px, 1px);\n",
       "  height: 1px;\n",
       "  margin: -1px;\n",
       "  overflow: hidden;\n",
       "  padding: 0;\n",
       "  position: absolute;\n",
       "  width: 1px;\n",
       "}\n",
       "\n",
       "#sk-container-id-1 div.sk-dashed-wrapped {\n",
       "  border: 1px dashed var(--sklearn-color-line);\n",
       "  margin: 0 0.4em 0.5em 0.4em;\n",
       "  box-sizing: border-box;\n",
       "  padding-bottom: 0.4em;\n",
       "  background-color: var(--sklearn-color-background);\n",
       "}\n",
       "\n",
       "#sk-container-id-1 div.sk-container {\n",
       "  /* jupyter's `normalize.less` sets `[hidden] { display: none; }`\n",
       "     but bootstrap.min.css set `[hidden] { display: none !important; }`\n",
       "     so we also need the `!important` here to be able to override the\n",
       "     default hidden behavior on the sphinx rendered scikit-learn.org.\n",
       "     See: https://github.com/scikit-learn/scikit-learn/issues/21755 */\n",
       "  display: inline-block !important;\n",
       "  position: relative;\n",
       "}\n",
       "\n",
       "#sk-container-id-1 div.sk-text-repr-fallback {\n",
       "  display: none;\n",
       "}\n",
       "\n",
       "div.sk-parallel-item,\n",
       "div.sk-serial,\n",
       "div.sk-item {\n",
       "  /* draw centered vertical line to link estimators */\n",
       "  background-image: linear-gradient(var(--sklearn-color-text-on-default-background), var(--sklearn-color-text-on-default-background));\n",
       "  background-size: 2px 100%;\n",
       "  background-repeat: no-repeat;\n",
       "  background-position: center center;\n",
       "}\n",
       "\n",
       "/* Parallel-specific style estimator block */\n",
       "\n",
       "#sk-container-id-1 div.sk-parallel-item::after {\n",
       "  content: \"\";\n",
       "  width: 100%;\n",
       "  border-bottom: 2px solid var(--sklearn-color-text-on-default-background);\n",
       "  flex-grow: 1;\n",
       "}\n",
       "\n",
       "#sk-container-id-1 div.sk-parallel {\n",
       "  display: flex;\n",
       "  align-items: stretch;\n",
       "  justify-content: center;\n",
       "  background-color: var(--sklearn-color-background);\n",
       "  position: relative;\n",
       "}\n",
       "\n",
       "#sk-container-id-1 div.sk-parallel-item {\n",
       "  display: flex;\n",
       "  flex-direction: column;\n",
       "}\n",
       "\n",
       "#sk-container-id-1 div.sk-parallel-item:first-child::after {\n",
       "  align-self: flex-end;\n",
       "  width: 50%;\n",
       "}\n",
       "\n",
       "#sk-container-id-1 div.sk-parallel-item:last-child::after {\n",
       "  align-self: flex-start;\n",
       "  width: 50%;\n",
       "}\n",
       "\n",
       "#sk-container-id-1 div.sk-parallel-item:only-child::after {\n",
       "  width: 0;\n",
       "}\n",
       "\n",
       "/* Serial-specific style estimator block */\n",
       "\n",
       "#sk-container-id-1 div.sk-serial {\n",
       "  display: flex;\n",
       "  flex-direction: column;\n",
       "  align-items: center;\n",
       "  background-color: var(--sklearn-color-background);\n",
       "  padding-right: 1em;\n",
       "  padding-left: 1em;\n",
       "}\n",
       "\n",
       "\n",
       "/* Toggleable style: style used for estimator/Pipeline/ColumnTransformer box that is\n",
       "clickable and can be expanded/collapsed.\n",
       "- Pipeline and ColumnTransformer use this feature and define the default style\n",
       "- Estimators will overwrite some part of the style using the `sk-estimator` class\n",
       "*/\n",
       "\n",
       "/* Pipeline and ColumnTransformer style (default) */\n",
       "\n",
       "#sk-container-id-1 div.sk-toggleable {\n",
       "  /* Default theme specific background. It is overwritten whether we have a\n",
       "  specific estimator or a Pipeline/ColumnTransformer */\n",
       "  background-color: var(--sklearn-color-background);\n",
       "}\n",
       "\n",
       "/* Toggleable label */\n",
       "#sk-container-id-1 label.sk-toggleable__label {\n",
       "  cursor: pointer;\n",
       "  display: block;\n",
       "  width: 100%;\n",
       "  margin-bottom: 0;\n",
       "  padding: 0.5em;\n",
       "  box-sizing: border-box;\n",
       "  text-align: center;\n",
       "}\n",
       "\n",
       "#sk-container-id-1 label.sk-toggleable__label-arrow:before {\n",
       "  /* Arrow on the left of the label */\n",
       "  content: \"▸\";\n",
       "  float: left;\n",
       "  margin-right: 0.25em;\n",
       "  color: var(--sklearn-color-icon);\n",
       "}\n",
       "\n",
       "#sk-container-id-1 label.sk-toggleable__label-arrow:hover:before {\n",
       "  color: var(--sklearn-color-text);\n",
       "}\n",
       "\n",
       "/* Toggleable content - dropdown */\n",
       "\n",
       "#sk-container-id-1 div.sk-toggleable__content {\n",
       "  max-height: 0;\n",
       "  max-width: 0;\n",
       "  overflow: hidden;\n",
       "  text-align: left;\n",
       "  /* unfitted */\n",
       "  background-color: var(--sklearn-color-unfitted-level-0);\n",
       "}\n",
       "\n",
       "#sk-container-id-1 div.sk-toggleable__content.fitted {\n",
       "  /* fitted */\n",
       "  background-color: var(--sklearn-color-fitted-level-0);\n",
       "}\n",
       "\n",
       "#sk-container-id-1 div.sk-toggleable__content pre {\n",
       "  margin: 0.2em;\n",
       "  border-radius: 0.25em;\n",
       "  color: var(--sklearn-color-text);\n",
       "  /* unfitted */\n",
       "  background-color: var(--sklearn-color-unfitted-level-0);\n",
       "}\n",
       "\n",
       "#sk-container-id-1 div.sk-toggleable__content.fitted pre {\n",
       "  /* unfitted */\n",
       "  background-color: var(--sklearn-color-fitted-level-0);\n",
       "}\n",
       "\n",
       "#sk-container-id-1 input.sk-toggleable__control:checked~div.sk-toggleable__content {\n",
       "  /* Expand drop-down */\n",
       "  max-height: 200px;\n",
       "  max-width: 100%;\n",
       "  overflow: auto;\n",
       "}\n",
       "\n",
       "#sk-container-id-1 input.sk-toggleable__control:checked~label.sk-toggleable__label-arrow:before {\n",
       "  content: \"▾\";\n",
       "}\n",
       "\n",
       "/* Pipeline/ColumnTransformer-specific style */\n",
       "\n",
       "#sk-container-id-1 div.sk-label input.sk-toggleable__control:checked~label.sk-toggleable__label {\n",
       "  color: var(--sklearn-color-text);\n",
       "  background-color: var(--sklearn-color-unfitted-level-2);\n",
       "}\n",
       "\n",
       "#sk-container-id-1 div.sk-label.fitted input.sk-toggleable__control:checked~label.sk-toggleable__label {\n",
       "  background-color: var(--sklearn-color-fitted-level-2);\n",
       "}\n",
       "\n",
       "/* Estimator-specific style */\n",
       "\n",
       "/* Colorize estimator box */\n",
       "#sk-container-id-1 div.sk-estimator input.sk-toggleable__control:checked~label.sk-toggleable__label {\n",
       "  /* unfitted */\n",
       "  background-color: var(--sklearn-color-unfitted-level-2);\n",
       "}\n",
       "\n",
       "#sk-container-id-1 div.sk-estimator.fitted input.sk-toggleable__control:checked~label.sk-toggleable__label {\n",
       "  /* fitted */\n",
       "  background-color: var(--sklearn-color-fitted-level-2);\n",
       "}\n",
       "\n",
       "#sk-container-id-1 div.sk-label label.sk-toggleable__label,\n",
       "#sk-container-id-1 div.sk-label label {\n",
       "  /* The background is the default theme color */\n",
       "  color: var(--sklearn-color-text-on-default-background);\n",
       "}\n",
       "\n",
       "/* On hover, darken the color of the background */\n",
       "#sk-container-id-1 div.sk-label:hover label.sk-toggleable__label {\n",
       "  color: var(--sklearn-color-text);\n",
       "  background-color: var(--sklearn-color-unfitted-level-2);\n",
       "}\n",
       "\n",
       "/* Label box, darken color on hover, fitted */\n",
       "#sk-container-id-1 div.sk-label.fitted:hover label.sk-toggleable__label.fitted {\n",
       "  color: var(--sklearn-color-text);\n",
       "  background-color: var(--sklearn-color-fitted-level-2);\n",
       "}\n",
       "\n",
       "/* Estimator label */\n",
       "\n",
       "#sk-container-id-1 div.sk-label label {\n",
       "  font-family: monospace;\n",
       "  font-weight: bold;\n",
       "  display: inline-block;\n",
       "  line-height: 1.2em;\n",
       "}\n",
       "\n",
       "#sk-container-id-1 div.sk-label-container {\n",
       "  text-align: center;\n",
       "}\n",
       "\n",
       "/* Estimator-specific */\n",
       "#sk-container-id-1 div.sk-estimator {\n",
       "  font-family: monospace;\n",
       "  border: 1px dotted var(--sklearn-color-border-box);\n",
       "  border-radius: 0.25em;\n",
       "  box-sizing: border-box;\n",
       "  margin-bottom: 0.5em;\n",
       "  /* unfitted */\n",
       "  background-color: var(--sklearn-color-unfitted-level-0);\n",
       "}\n",
       "\n",
       "#sk-container-id-1 div.sk-estimator.fitted {\n",
       "  /* fitted */\n",
       "  background-color: var(--sklearn-color-fitted-level-0);\n",
       "}\n",
       "\n",
       "/* on hover */\n",
       "#sk-container-id-1 div.sk-estimator:hover {\n",
       "  /* unfitted */\n",
       "  background-color: var(--sklearn-color-unfitted-level-2);\n",
       "}\n",
       "\n",
       "#sk-container-id-1 div.sk-estimator.fitted:hover {\n",
       "  /* fitted */\n",
       "  background-color: var(--sklearn-color-fitted-level-2);\n",
       "}\n",
       "\n",
       "/* Specification for estimator info (e.g. \"i\" and \"?\") */\n",
       "\n",
       "/* Common style for \"i\" and \"?\" */\n",
       "\n",
       ".sk-estimator-doc-link,\n",
       "a:link.sk-estimator-doc-link,\n",
       "a:visited.sk-estimator-doc-link {\n",
       "  float: right;\n",
       "  font-size: smaller;\n",
       "  line-height: 1em;\n",
       "  font-family: monospace;\n",
       "  background-color: var(--sklearn-color-background);\n",
       "  border-radius: 1em;\n",
       "  height: 1em;\n",
       "  width: 1em;\n",
       "  text-decoration: none !important;\n",
       "  margin-left: 1ex;\n",
       "  /* unfitted */\n",
       "  border: var(--sklearn-color-unfitted-level-1) 1pt solid;\n",
       "  color: var(--sklearn-color-unfitted-level-1);\n",
       "}\n",
       "\n",
       ".sk-estimator-doc-link.fitted,\n",
       "a:link.sk-estimator-doc-link.fitted,\n",
       "a:visited.sk-estimator-doc-link.fitted {\n",
       "  /* fitted */\n",
       "  border: var(--sklearn-color-fitted-level-1) 1pt solid;\n",
       "  color: var(--sklearn-color-fitted-level-1);\n",
       "}\n",
       "\n",
       "/* On hover */\n",
       "div.sk-estimator:hover .sk-estimator-doc-link:hover,\n",
       ".sk-estimator-doc-link:hover,\n",
       "div.sk-label-container:hover .sk-estimator-doc-link:hover,\n",
       ".sk-estimator-doc-link:hover {\n",
       "  /* unfitted */\n",
       "  background-color: var(--sklearn-color-unfitted-level-3);\n",
       "  color: var(--sklearn-color-background);\n",
       "  text-decoration: none;\n",
       "}\n",
       "\n",
       "div.sk-estimator.fitted:hover .sk-estimator-doc-link.fitted:hover,\n",
       ".sk-estimator-doc-link.fitted:hover,\n",
       "div.sk-label-container:hover .sk-estimator-doc-link.fitted:hover,\n",
       ".sk-estimator-doc-link.fitted:hover {\n",
       "  /* fitted */\n",
       "  background-color: var(--sklearn-color-fitted-level-3);\n",
       "  color: var(--sklearn-color-background);\n",
       "  text-decoration: none;\n",
       "}\n",
       "\n",
       "/* Span, style for the box shown on hovering the info icon */\n",
       ".sk-estimator-doc-link span {\n",
       "  display: none;\n",
       "  z-index: 9999;\n",
       "  position: relative;\n",
       "  font-weight: normal;\n",
       "  right: .2ex;\n",
       "  padding: .5ex;\n",
       "  margin: .5ex;\n",
       "  width: min-content;\n",
       "  min-width: 20ex;\n",
       "  max-width: 50ex;\n",
       "  color: var(--sklearn-color-text);\n",
       "  box-shadow: 2pt 2pt 4pt #999;\n",
       "  /* unfitted */\n",
       "  background: var(--sklearn-color-unfitted-level-0);\n",
       "  border: .5pt solid var(--sklearn-color-unfitted-level-3);\n",
       "}\n",
       "\n",
       ".sk-estimator-doc-link.fitted span {\n",
       "  /* fitted */\n",
       "  background: var(--sklearn-color-fitted-level-0);\n",
       "  border: var(--sklearn-color-fitted-level-3);\n",
       "}\n",
       "\n",
       ".sk-estimator-doc-link:hover span {\n",
       "  display: block;\n",
       "}\n",
       "\n",
       "/* \"?\"-specific style due to the `<a>` HTML tag */\n",
       "\n",
       "#sk-container-id-1 a.estimator_doc_link {\n",
       "  float: right;\n",
       "  font-size: 1rem;\n",
       "  line-height: 1em;\n",
       "  font-family: monospace;\n",
       "  background-color: var(--sklearn-color-background);\n",
       "  border-radius: 1rem;\n",
       "  height: 1rem;\n",
       "  width: 1rem;\n",
       "  text-decoration: none;\n",
       "  /* unfitted */\n",
       "  color: var(--sklearn-color-unfitted-level-1);\n",
       "  border: var(--sklearn-color-unfitted-level-1) 1pt solid;\n",
       "}\n",
       "\n",
       "#sk-container-id-1 a.estimator_doc_link.fitted {\n",
       "  /* fitted */\n",
       "  border: var(--sklearn-color-fitted-level-1) 1pt solid;\n",
       "  color: var(--sklearn-color-fitted-level-1);\n",
       "}\n",
       "\n",
       "/* On hover */\n",
       "#sk-container-id-1 a.estimator_doc_link:hover {\n",
       "  /* unfitted */\n",
       "  background-color: var(--sklearn-color-unfitted-level-3);\n",
       "  color: var(--sklearn-color-background);\n",
       "  text-decoration: none;\n",
       "}\n",
       "\n",
       "#sk-container-id-1 a.estimator_doc_link.fitted:hover {\n",
       "  /* fitted */\n",
       "  background-color: var(--sklearn-color-fitted-level-3);\n",
       "}\n",
       "</style><div id=\"sk-container-id-1\" class=\"sk-top-container\"><div class=\"sk-text-repr-fallback\"><pre>XGBClassifier(base_score=None, booster=None, callbacks=None,\n",
       "              colsample_bylevel=None, colsample_bynode=0.5626444932916599,\n",
       "              colsample_bytree=None, device=None, early_stopping_rounds=None,\n",
       "              enable_categorical=False,\n",
       "              eval_metric=&lt;function custom_f1_score at 0x7f1448b83380&gt;,\n",
       "              feature_types=None, gamma=None, grow_policy=None,\n",
       "              importance_type=None, interaction_constraints=None,\n",
       "              learning_rate=0.20741086925754246, max_bin=None,\n",
       "              max_cat_threshold=None, max_cat_to_onehot=None,\n",
       "              max_delta_step=None, max_depth=10, max_leaves=None,\n",
       "              min_child_weight=1, missing=nan, monotone_constraints=None,\n",
       "              multi_strategy=None, n_estimators=152, n_jobs=None,\n",
       "              num_parallel_tree=None, objective=&#x27;multi:softprob&#x27;, ...)</pre><b>In a Jupyter environment, please rerun this cell to show the HTML representation or trust the notebook. <br />On GitHub, the HTML representation is unable to render, please try loading this page with nbviewer.org.</b></div><div class=\"sk-container\" hidden><div class=\"sk-item\"><div class=\"sk-estimator fitted sk-toggleable\"><input class=\"sk-toggleable__control sk-hidden--visually\" id=\"sk-estimator-id-1\" type=\"checkbox\" checked><label for=\"sk-estimator-id-1\" class=\"sk-toggleable__label fitted sk-toggleable__label-arrow fitted\">&nbsp;XGBClassifier<span class=\"sk-estimator-doc-link fitted\">i<span>Fitted</span></span></label><div class=\"sk-toggleable__content fitted\"><pre>XGBClassifier(base_score=None, booster=None, callbacks=None,\n",
       "              colsample_bylevel=None, colsample_bynode=0.5626444932916599,\n",
       "              colsample_bytree=None, device=None, early_stopping_rounds=None,\n",
       "              enable_categorical=False,\n",
       "              eval_metric=&lt;function custom_f1_score at 0x7f1448b83380&gt;,\n",
       "              feature_types=None, gamma=None, grow_policy=None,\n",
       "              importance_type=None, interaction_constraints=None,\n",
       "              learning_rate=0.20741086925754246, max_bin=None,\n",
       "              max_cat_threshold=None, max_cat_to_onehot=None,\n",
       "              max_delta_step=None, max_depth=10, max_leaves=None,\n",
       "              min_child_weight=1, missing=nan, monotone_constraints=None,\n",
       "              multi_strategy=None, n_estimators=152, n_jobs=None,\n",
       "              num_parallel_tree=None, objective=&#x27;multi:softprob&#x27;, ...)</pre></div> </div></div></div></div>"
      ],
      "text/plain": [
       "XGBClassifier(base_score=None, booster=None, callbacks=None,\n",
       "              colsample_bylevel=None, colsample_bynode=0.5626444932916599,\n",
       "              colsample_bytree=None, device=None, early_stopping_rounds=None,\n",
       "              enable_categorical=False,\n",
       "              eval_metric=<function custom_f1_score at 0x7f1448b83380>,\n",
       "              feature_types=None, gamma=None, grow_policy=None,\n",
       "              importance_type=None, interaction_constraints=None,\n",
       "              learning_rate=0.20741086925754246, max_bin=None,\n",
       "              max_cat_threshold=None, max_cat_to_onehot=None,\n",
       "              max_delta_step=None, max_depth=10, max_leaves=None,\n",
       "              min_child_weight=1, missing=nan, monotone_constraints=None,\n",
       "              multi_strategy=None, n_estimators=152, n_jobs=None,\n",
       "              num_parallel_tree=None, objective='multi:softprob', ...)"
      ]
     },
     "execution_count": 21,
     "metadata": {},
     "output_type": "execute_result"
    }
   ],
   "source": [
    "n_estimators = int(study.best_trial.user_attrs['best_iteration']*1.2)\n",
    "xgb = xgboost.XGBClassifier(\n",
    "        eval_metric=eval_metric,\n",
    "        n_estimators=n_estimators,\n",
    "        **study.best_trial.params\n",
    "    )\n",
    "xgb.fit(\n",
    "    ssp.vstack((X_train, X_val)), \n",
    "    np.concatenate((y_train_enc, y_val_enc)),\n",
    "    verbose=1,\n",
    ")"
   ]
  },
  {
   "cell_type": "code",
   "execution_count": 22,
   "id": "7dbcaa4d",
   "metadata": {
    "execution": {
     "iopub.execute_input": "2025-05-14T16:28:51.269065Z",
     "iopub.status.busy": "2025-05-14T16:28:51.268721Z",
     "iopub.status.idle": "2025-05-14T16:28:51.412722Z",
     "shell.execute_reply": "2025-05-14T16:28:51.412126Z"
    },
    "papermill": {
     "duration": 0.156458,
     "end_time": "2025-05-14T16:28:51.414007",
     "exception": false,
     "start_time": "2025-05-14T16:28:51.257549",
     "status": "completed"
    },
    "tags": []
   },
   "outputs": [
    {
     "data": {
      "text/plain": [
       "['/scratch_isilon/groups/singlecell/shared/projects/Inflammation-PBMCs-Atlas/03_downstream_analysis/08_gene_importance/xgboost_external_validation/xgboost_TopN_genes/results_20/best_model/T_CD4_NonNaive_shap_disease_NOstudy_0_xgb.json']"
      ]
     },
     "execution_count": 22,
     "metadata": {},
     "output_type": "execute_result"
    }
   ],
   "source": [
    "out_dir = here(f'03_downstream_analysis/08_gene_importance/xgboost_external_validation/xgboost_TopN_genes/results_{N_GENES}/best_model')\n",
    "\n",
    "if not os.path.exists(out_dir):\n",
    "    os.makedirs(out_dir)\n",
    "    \n",
    "joblib.dump(xgb, os.path.join(out_dir, f'{CELL_TYPE}_{SEED}_{TEST_SPLIT_IDX}_xgb.json'))"
   ]
  },
  {
   "cell_type": "code",
   "execution_count": 23,
   "id": "42f87542",
   "metadata": {
    "execution": {
     "iopub.execute_input": "2025-05-14T16:28:51.434646Z",
     "iopub.status.busy": "2025-05-14T16:28:51.434083Z",
     "iopub.status.idle": "2025-05-14T16:28:53.273531Z",
     "shell.execute_reply": "2025-05-14T16:28:53.272850Z"
    },
    "papermill": {
     "duration": 1.851504,
     "end_time": "2025-05-14T16:28:53.275161",
     "exception": false,
     "start_time": "2025-05-14T16:28:51.423657",
     "status": "completed"
    },
    "tags": []
   },
   "outputs": [],
   "source": [
    "df_pred_test = pd.DataFrame(dict(\n",
    "    cell_id=train_adata.obs.iloc[test_idxs].index.values,\n",
    "    y_true=y_test, \n",
    "    y_true_code=y_test_enc, \n",
    "    y_pred=xgb.predict(X_test))).set_index('cell_id')"
   ]
  },
  {
   "cell_type": "code",
   "execution_count": 24,
   "id": "78730f62",
   "metadata": {
    "execution": {
     "iopub.execute_input": "2025-05-14T16:28:53.295770Z",
     "iopub.status.busy": "2025-05-14T16:28:53.294890Z",
     "iopub.status.idle": "2025-05-14T16:28:53.436010Z",
     "shell.execute_reply": "2025-05-14T16:28:53.435455Z"
    },
    "papermill": {
     "duration": 0.15286,
     "end_time": "2025-05-14T16:28:53.437231",
     "exception": false,
     "start_time": "2025-05-14T16:28:53.284371",
     "status": "completed"
    },
    "tags": []
   },
   "outputs": [],
   "source": [
    "out_dir = here(f'03_downstream_analysis/08_gene_importance/xgboost_external_validation/xgboost_TopN_genes/results_{N_GENES}/predictions')\n",
    "\n",
    "if not os.path.exists(out_dir):\n",
    "    os.makedirs(out_dir)\n",
    "    \n",
    "df_pred_test.to_csv(os.path.join(out_dir, f'{CELL_TYPE}_{SEED}_{TEST_SPLIT_IDX}_pred_test.zip'))"
   ]
  },
  {
   "cell_type": "code",
   "execution_count": 25,
   "id": "044f9c41",
   "metadata": {
    "execution": {
     "iopub.execute_input": "2025-05-14T16:28:53.457796Z",
     "iopub.status.busy": "2025-05-14T16:28:53.457615Z",
     "iopub.status.idle": "2025-05-14T16:28:53.480148Z",
     "shell.execute_reply": "2025-05-14T16:28:53.479740Z"
    },
    "papermill": {
     "duration": 0.034495,
     "end_time": "2025-05-14T16:28:53.481429",
     "exception": false,
     "start_time": "2025-05-14T16:28:53.446934",
     "status": "completed"
    },
    "tags": []
   },
   "outputs": [],
   "source": [
    "metrics_dict = dict(\n",
    "    BAS=balanced_accuracy_score(y_true=df_pred_test.y_true_code, y_pred=df_pred_test.y_pred), WF1=f1_score(y_true=df_pred_test.y_true_code, y_pred=df_pred_test.y_pred,average='weighted'))"
   ]
  },
  {
   "cell_type": "code",
   "execution_count": 26,
   "id": "6b5a7dd9",
   "metadata": {
    "execution": {
     "iopub.execute_input": "2025-05-14T16:28:53.502147Z",
     "iopub.status.busy": "2025-05-14T16:28:53.501616Z",
     "iopub.status.idle": "2025-05-14T16:28:53.505201Z",
     "shell.execute_reply": "2025-05-14T16:28:53.504894Z"
    },
    "papermill": {
     "duration": 0.014692,
     "end_time": "2025-05-14T16:28:53.506169",
     "exception": false,
     "start_time": "2025-05-14T16:28:53.491477",
     "status": "completed"
    },
    "tags": []
   },
   "outputs": [
    {
     "data": {
      "text/plain": [
       "{'BAS': 0.7451653127991639, 'WF1': 0.8526854907459784}"
      ]
     },
     "execution_count": 26,
     "metadata": {},
     "output_type": "execute_result"
    }
   ],
   "source": [
    "metrics_dict"
   ]
  },
  {
   "cell_type": "code",
   "execution_count": 27,
   "id": "9153d5d7",
   "metadata": {
    "execution": {
     "iopub.execute_input": "2025-05-14T16:28:53.526314Z",
     "iopub.status.busy": "2025-05-14T16:28:53.526168Z",
     "iopub.status.idle": "2025-05-14T16:28:53.536844Z",
     "shell.execute_reply": "2025-05-14T16:28:53.536536Z"
    },
    "papermill": {
     "duration": 0.021963,
     "end_time": "2025-05-14T16:28:53.537846",
     "exception": false,
     "start_time": "2025-05-14T16:28:53.515883",
     "status": "completed"
    },
    "tags": []
   },
   "outputs": [
    {
     "data": {
      "text/html": [
       "<div>\n",
       "<style scoped>\n",
       "    .dataframe tbody tr th:only-of-type {\n",
       "        vertical-align: middle;\n",
       "    }\n",
       "\n",
       "    .dataframe tbody tr th {\n",
       "        vertical-align: top;\n",
       "    }\n",
       "\n",
       "    .dataframe thead th {\n",
       "        text-align: right;\n",
       "    }\n",
       "</style>\n",
       "<table border=\"1\" class=\"dataframe\">\n",
       "  <thead>\n",
       "    <tr style=\"text-align: right;\">\n",
       "      <th></th>\n",
       "      <th>BAS</th>\n",
       "      <th>WF1</th>\n",
       "      <th>split_idx</th>\n",
       "      <th>gene_set_seed</th>\n",
       "      <th>cell_type</th>\n",
       "    </tr>\n",
       "  </thead>\n",
       "  <tbody>\n",
       "    <tr>\n",
       "      <th>0</th>\n",
       "      <td>0.745165</td>\n",
       "      <td>0.852685</td>\n",
       "      <td>0</td>\n",
       "      <td>shap_disease_NOstudy</td>\n",
       "      <td>T_CD4_NonNaive</td>\n",
       "    </tr>\n",
       "  </tbody>\n",
       "</table>\n",
       "</div>"
      ],
      "text/plain": [
       "        BAS       WF1  split_idx         gene_set_seed       cell_type\n",
       "0  0.745165  0.852685          0  shap_disease_NOstudy  T_CD4_NonNaive"
      ]
     },
     "execution_count": 27,
     "metadata": {},
     "output_type": "execute_result"
    }
   ],
   "source": [
    "metrics_df = pd.DataFrame.from_dict([metrics_dict]).assign(split_idx=TEST_SPLIT_IDX, gene_set_seed=SEED, cell_type=CELL_TYPE)\n",
    "metrics_df"
   ]
  },
  {
   "cell_type": "code",
   "execution_count": 28,
   "id": "ec362e3d",
   "metadata": {
    "execution": {
     "iopub.execute_input": "2025-05-14T16:28:53.558802Z",
     "iopub.status.busy": "2025-05-14T16:28:53.558659Z",
     "iopub.status.idle": "2025-05-14T16:28:53.568010Z",
     "shell.execute_reply": "2025-05-14T16:28:53.567636Z"
    },
    "papermill": {
     "duration": 0.021057,
     "end_time": "2025-05-14T16:28:53.569238",
     "exception": false,
     "start_time": "2025-05-14T16:28:53.548181",
     "status": "completed"
    },
    "tags": []
   },
   "outputs": [],
   "source": [
    "out_dir = here(f'03_downstream_analysis/08_gene_importance/xgboost_external_validation/xgboost_TopN_genes/results_{N_GENES}/metrics')\n",
    "\n",
    "if not os.path.exists(out_dir):\n",
    "    os.makedirs(out_dir)\n",
    "    \n",
    "metrics_df.to_csv(os.path.join(out_dir, f'{CELL_TYPE}_{SEED}_{TEST_SPLIT_IDX}_metrics.zip'))"
   ]
  }
 ],
 "metadata": {
  "kernelspec": {
   "display_name": "Python 3 (ipykernel)",
   "language": "python",
   "name": "python3"
  },
  "language_info": {
   "codemirror_mode": {
    "name": "ipython",
    "version": 3
   },
   "file_extension": ".py",
   "mimetype": "text/x-python",
   "name": "python",
   "nbconvert_exporter": "python",
   "pygments_lexer": "ipython3",
   "version": "3.12.5"
  },
  "papermill": {
   "default_parameters": {},
   "duration": 1263.766366,
   "end_time": "2025-05-14T16:28:54.897707",
   "environment_variables": {},
   "exception": null,
   "input_path": "02_xgboost_fitting_external_20genes.ipynb",
   "output_path": "results_20/executed_notebooks/xgboost_fitting_external_CT_T_CD4_NonNaive_GS_shap_disease_NOstudy_seed0.ipynb",
   "parameters": {
    "CELL_TYPE": "T_CD4_NonNaive",
    "SEED": "shap_disease_NOstudy",
    "TEST_SPLIT_IDX": 0
   },
   "start_time": "2025-05-14T16:07:51.131341",
   "version": "2.6.0"
  }
 },
 "nbformat": 4,
 "nbformat_minor": 5
}