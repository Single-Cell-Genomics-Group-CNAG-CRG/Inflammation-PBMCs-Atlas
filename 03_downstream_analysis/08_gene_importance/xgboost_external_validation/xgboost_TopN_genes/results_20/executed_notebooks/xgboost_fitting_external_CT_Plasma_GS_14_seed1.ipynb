{
 "cells": [
  {
   "cell_type": "code",
   "execution_count": 1,
   "id": "067747ae",
   "metadata": {
    "editable": true,
    "execution": {
     "iopub.execute_input": "2025-05-15T16:15:44.115868Z",
     "iopub.status.busy": "2025-05-15T16:15:44.115500Z",
     "iopub.status.idle": "2025-05-15T16:15:44.118446Z",
     "shell.execute_reply": "2025-05-15T16:15:44.118089Z"
    },
    "papermill": {
     "duration": 0.012221,
     "end_time": "2025-05-15T16:15:44.119486",
     "exception": false,
     "start_time": "2025-05-15T16:15:44.107265",
     "status": "completed"
    },
    "slideshow": {
     "slide_type": ""
    },
    "tags": [
     "parameters"
    ]
   },
   "outputs": [],
   "source": [
    "CELL_TYPE = 'pDC'\n",
    "N_GENES: int = 20\n",
    "SEED = 'shap_studyID' #'disease_NOstudy' 'study_NOdisease' or 'int' or 'shap_studyID'\n",
    "TEST_SPLIT_IDX: int = 1 #[0,4]"
   ]
  },
  {
   "cell_type": "code",
   "execution_count": 2,
   "id": "14d0e8c8",
   "metadata": {
    "execution": {
     "iopub.execute_input": "2025-05-15T16:15:44.132109Z",
     "iopub.status.busy": "2025-05-15T16:15:44.131919Z",
     "iopub.status.idle": "2025-05-15T16:15:44.134254Z",
     "shell.execute_reply": "2025-05-15T16:15:44.133907Z"
    },
    "papermill": {
     "duration": 0.009504,
     "end_time": "2025-05-15T16:15:44.135202",
     "exception": false,
     "start_time": "2025-05-15T16:15:44.125698",
     "status": "completed"
    },
    "tags": [
     "injected-parameters"
    ]
   },
   "outputs": [],
   "source": [
    "# Parameters\n",
    "CELL_TYPE = \"Plasma\"\n",
    "SEED = 14\n",
    "TEST_SPLIT_IDX = 1\n"
   ]
  },
  {
   "cell_type": "code",
   "execution_count": 3,
   "id": "73b82583",
   "metadata": {
    "execution": {
     "iopub.execute_input": "2025-05-15T16:15:44.148181Z",
     "iopub.status.busy": "2025-05-15T16:15:44.147791Z",
     "iopub.status.idle": "2025-05-15T16:15:44.150094Z",
     "shell.execute_reply": "2025-05-15T16:15:44.149738Z"
    },
    "papermill": {
     "duration": 0.009528,
     "end_time": "2025-05-15T16:15:44.150981",
     "exception": false,
     "start_time": "2025-05-15T16:15:44.141453",
     "status": "completed"
    },
    "tags": []
   },
   "outputs": [],
   "source": [
    "N_SPLITS: int = 5\n",
    "N_TRIALS: int = 50"
   ]
  },
  {
   "cell_type": "code",
   "execution_count": 4,
   "id": "eb9eb51d",
   "metadata": {
    "execution": {
     "iopub.execute_input": "2025-05-15T16:15:44.164403Z",
     "iopub.status.busy": "2025-05-15T16:15:44.163962Z",
     "iopub.status.idle": "2025-05-15T16:15:45.670799Z",
     "shell.execute_reply": "2025-05-15T16:15:45.670277Z"
    },
    "papermill": {
     "duration": 1.515567,
     "end_time": "2025-05-15T16:15:45.672214",
     "exception": false,
     "start_time": "2025-05-15T16:15:44.156647",
     "status": "completed"
    },
    "tags": []
   },
   "outputs": [],
   "source": [
    "import os\n",
    "import sys\n",
    "from pyprojroot.here import here\n",
    "import pandas as pd\n",
    "import anndata as ad\n",
    "import numpy as np\n",
    "import math\n",
    "from sklearn.model_selection import StratifiedGroupKFold\n",
    "from sklearn.preprocessing import LabelEncoder\n",
    "from sklearn.metrics import f1_score\n",
    "import matplotlib.pyplot as plt\n",
    "import seaborn as sns\n",
    "from itertools import product\n",
    "from sklearn.metrics import balanced_accuracy_score, f1_score\n",
    "import optuna\n",
    "\n",
    "import joblib\n",
    "import pickle\n",
    "import datetime\n",
    "\n",
    "import collections\n",
    "\n",
    "import xgboost\n",
    "from sklearn.preprocessing import LabelEncoder\n",
    "\n",
    "import scipy.sparse as ssp\n",
    "import joblib\n",
    "\n",
    "from dotenv import load_dotenv"
   ]
  },
  {
   "cell_type": "code",
   "execution_count": 5,
   "id": "6395dfdb",
   "metadata": {
    "execution": {
     "iopub.execute_input": "2025-05-15T16:15:45.686190Z",
     "iopub.status.busy": "2025-05-15T16:15:45.685823Z",
     "iopub.status.idle": "2025-05-15T16:15:45.691764Z",
     "shell.execute_reply": "2025-05-15T16:15:45.691397Z"
    },
    "papermill": {
     "duration": 0.013681,
     "end_time": "2025-05-15T16:15:45.692737",
     "exception": false,
     "start_time": "2025-05-15T16:15:45.679056",
     "status": "completed"
    },
    "tags": []
   },
   "outputs": [
    {
     "data": {
      "text/plain": [
       "True"
      ]
     },
     "execution_count": 5,
     "metadata": {},
     "output_type": "execute_result"
    }
   ],
   "source": [
    "load_dotenv()"
   ]
  },
  {
   "cell_type": "markdown",
   "id": "8fe794a6",
   "metadata": {
    "papermill": {
     "duration": 0.006132,
     "end_time": "2025-05-15T16:15:45.704744",
     "exception": false,
     "start_time": "2025-05-15T16:15:45.698612",
     "status": "completed"
    },
    "tags": []
   },
   "source": [
    "# LOAD DATASET"
   ]
  },
  {
   "cell_type": "code",
   "execution_count": 6,
   "id": "132f0ce5",
   "metadata": {
    "execution": {
     "iopub.execute_input": "2025-05-15T16:15:45.716901Z",
     "iopub.status.busy": "2025-05-15T16:15:45.716702Z",
     "iopub.status.idle": "2025-05-15T16:15:45.759107Z",
     "shell.execute_reply": "2025-05-15T16:15:45.758680Z"
    },
    "papermill": {
     "duration": 0.049835,
     "end_time": "2025-05-15T16:15:45.760298",
     "exception": false,
     "start_time": "2025-05-15T16:15:45.710463",
     "status": "completed"
    },
    "tags": []
   },
   "outputs": [],
   "source": [
    "train_adata = ad.read_h5ad(\n",
    "    here(f'03_downstream_analysis/08_gene_importance/xgboost_external_validation/xgboost_TopN_genes/data_cellTypes/EXTERNAL_{CELL_TYPE}.filtered.log1p.h5ad')\n",
    ")"
   ]
  },
  {
   "cell_type": "code",
   "execution_count": 7,
   "id": "b017aaa5",
   "metadata": {
    "execution": {
     "iopub.execute_input": "2025-05-15T16:15:45.773140Z",
     "iopub.status.busy": "2025-05-15T16:15:45.772934Z",
     "iopub.status.idle": "2025-05-15T16:15:45.784009Z",
     "shell.execute_reply": "2025-05-15T16:15:45.783657Z"
    },
    "papermill": {
     "duration": 0.018538,
     "end_time": "2025-05-15T16:15:45.785004",
     "exception": false,
     "start_time": "2025-05-15T16:15:45.766466",
     "status": "completed"
    },
    "tags": []
   },
   "outputs": [
    {
     "name": "stdout",
     "output_type": "stream",
     "text": [
      "['ENSG00000123268' 'ENSG00000165280' 'ENSG00000082074' 'ENSG00000204264'\n",
      " 'ENSG00000171476' 'ENSG00000160075' 'ENSG00000178719' 'ENSG00000100600'\n",
      " 'ENSG00000138802' 'ENSG00000125743' 'ENSG00000135114' 'ENSG00000143543'\n",
      " 'ENSG00000157873' 'ENSG00000163931' 'ENSG00000168389' 'ENSG00000111640'\n",
      " 'ENSG00000172183' 'ENSG00000100368' 'ENSG00000035115' 'ENSG00000100911'\n",
      " 'ENSG00000162739' 'ENSG00000163220' 'ENSG00000275302' 'ENSG00000107223'\n",
      " 'ENSG00000116191' 'ENSG00000148834' 'ENSG00000127184' 'ENSG00000167004'\n",
      " 'ENSG00000169442' 'ENSG00000104763' 'ENSG00000106367' 'ENSG00000164307'\n",
      " 'ENSG00000111678' 'ENSG00000112137' 'ENSG00000153283' 'ENSG00000136156'\n",
      " 'ENSG00000185650' 'ENSG00000172531' 'ENSG00000118503' 'ENSG00000277734'\n",
      " 'ENSG00000113811' 'ENSG00000103187' 'ENSG00000131018' 'ENSG00000254087'\n",
      " 'ENSG00000125740' 'ENSG00000165527' 'ENSG00000100300' 'ENSG00000189067'\n",
      " 'ENSG00000145912' 'ENSG00000183172' 'ENSG00000180008' 'ENSG00000198832'\n",
      " 'ENSG00000143774' 'ENSG00000042980' 'ENSG00000142166' 'ENSG00000158517'\n",
      " 'ENSG00000100365' 'ENSG00000121552' 'ENSG00000152518' 'ENSG00000011600'\n",
      " 'ENSG00000162434' 'ENSG00000171791' 'ENSG00000265972' 'ENSG00000068831'\n",
      " 'ENSG00000099204' 'ENSG00000167996' 'ENSG00000173757' 'ENSG00000089280'\n",
      " 'ENSG00000090554' 'ENSG00000164674' 'ENSG00000196961' 'ENSG00000015475'\n",
      " 'ENSG00000101474' 'ENSG00000179218' 'ENSG00000132432' 'ENSG00000075426'\n",
      " 'ENSG00000018280' 'ENSG00000101608' 'ENSG00000197747' 'ENSG00000110395'\n",
      " 'ENSG00000155368' 'ENSG00000185338' 'ENSG00000204267' 'ENSG00000113088'\n",
      " 'ENSG00000059728' 'ENSG00000159958' 'ENSG00000130830' 'ENSG00000136738'\n",
      " 'ENSG00000085265' 'ENSG00000170476' 'ENSG00000048462' 'ENSG00000182117'\n",
      " 'ENSG00000171608' 'ENSG00000149311' 'ENSG00000164543' 'ENSG00000242616'\n",
      " 'ENSG00000241106' 'ENSG00000179144' 'ENSG00000177663' 'ENSG00000100450'\n",
      " 'ENSG00000077984' 'ENSG00000172543' 'ENSG00000111796' 'ENSG00000168685'\n",
      " 'ENSG00000163513' 'ENSG00000184557' 'ENSG00000001167']\n"
     ]
    }
   ],
   "source": [
    "if SEED != 'all':\n",
    "    gene_subset = np.load(here(f'03_downstream_analysis/08_gene_importance/xgboost_external_validation/shap_gene_selection/gene_subsets_{N_GENES}/{CELL_TYPE}_{SEED}.npy'), allow_pickle=True)\n",
    "    train_adata = train_adata[:,gene_subset]\n",
    "    print(gene_subset)\n",
    "elif SEED == 'all':\n",
    "    print('Using all genes')\n",
    "else:\n",
    "    raise ValueError()"
   ]
  },
  {
   "cell_type": "code",
   "execution_count": 8,
   "id": "d87fb953",
   "metadata": {
    "execution": {
     "iopub.execute_input": "2025-05-15T16:15:45.798553Z",
     "iopub.status.busy": "2025-05-15T16:15:45.798261Z",
     "iopub.status.idle": "2025-05-15T16:15:45.801980Z",
     "shell.execute_reply": "2025-05-15T16:15:45.801616Z"
    },
    "papermill": {
     "duration": 0.01136,
     "end_time": "2025-05-15T16:15:45.802968",
     "exception": false,
     "start_time": "2025-05-15T16:15:45.791608",
     "status": "completed"
    },
    "tags": []
   },
   "outputs": [
    {
     "data": {
      "text/plain": [
       "(542, 107)"
      ]
     },
     "execution_count": 8,
     "metadata": {},
     "output_type": "execute_result"
    }
   ],
   "source": [
    "train_adata.shape"
   ]
  },
  {
   "cell_type": "code",
   "execution_count": 9,
   "id": "f576dcb6",
   "metadata": {
    "execution": {
     "iopub.execute_input": "2025-05-15T16:15:45.816229Z",
     "iopub.status.busy": "2025-05-15T16:15:45.816028Z",
     "iopub.status.idle": "2025-05-15T16:15:45.820088Z",
     "shell.execute_reply": "2025-05-15T16:15:45.819735Z"
    },
    "papermill": {
     "duration": 0.011638,
     "end_time": "2025-05-15T16:15:45.821000",
     "exception": false,
     "start_time": "2025-05-15T16:15:45.809362",
     "status": "completed"
    },
    "tags": []
   },
   "outputs": [
    {
     "data": {
      "text/plain": [
       "['RA', 'COVID', 'healthy', 'HIV', 'cirrhosis', 'CD', 'SLE', 'sepsis']\n",
       "Categories (8, object): ['CD', 'COVID', 'HIV', 'RA', 'SLE', 'cirrhosis', 'healthy', 'sepsis']"
      ]
     },
     "execution_count": 9,
     "metadata": {},
     "output_type": "execute_result"
    }
   ],
   "source": [
    "train_adata.obs.disease.unique()"
   ]
  },
  {
   "cell_type": "code",
   "execution_count": 10,
   "id": "1fcccb6f",
   "metadata": {
    "execution": {
     "iopub.execute_input": "2025-05-15T16:15:45.834650Z",
     "iopub.status.busy": "2025-05-15T16:15:45.834205Z",
     "iopub.status.idle": "2025-05-15T16:15:45.838158Z",
     "shell.execute_reply": "2025-05-15T16:15:45.837804Z"
    },
    "papermill": {
     "duration": 0.01174,
     "end_time": "2025-05-15T16:15:45.839165",
     "exception": false,
     "start_time": "2025-05-15T16:15:45.827425",
     "status": "completed"
    },
    "tags": []
   },
   "outputs": [
    {
     "data": {
      "text/plain": [
       "['SCGT00val_I0364_T0', 'SCGT00val_I036019_T0', 'SCGT00val_I036028_T0', 'SCGT00val_I036024_T0', 'SCGT00val_I036016_T0', ..., '10XGenomics_10XHC2_T0', '10XGenomics_10XHC3_T0', '10XGenomics_10XHC5_T0', '10XGenomics_10XHC7_T0', '10XGenomics_10XHC8_T0']\n",
       "Length: 74\n",
       "Categories (74, object): ['10XGenomics_10XHC1_T0', '10XGenomics_10XHC2_T0', '10XGenomics_10XHC3_T0', '10XGenomics_10XHC4_T0', ..., 'Savage2021_BRISL6_T0', 'Savage2021_BRISL7_T0', 'Savage2021_PIDA_T0', 'Savage2021_PIDB_T0']"
      ]
     },
     "execution_count": 10,
     "metadata": {},
     "output_type": "execute_result"
    }
   ],
   "source": [
    "train_adata.obs.sampleID.unique()"
   ]
  },
  {
   "cell_type": "code",
   "execution_count": 11,
   "id": "96a97fd5",
   "metadata": {
    "execution": {
     "iopub.execute_input": "2025-05-15T16:15:45.852729Z",
     "iopub.status.busy": "2025-05-15T16:15:45.852267Z",
     "iopub.status.idle": "2025-05-15T16:15:45.886785Z",
     "shell.execute_reply": "2025-05-15T16:15:45.886348Z"
    },
    "papermill": {
     "duration": 0.042515,
     "end_time": "2025-05-15T16:15:45.887798",
     "exception": false,
     "start_time": "2025-05-15T16:15:45.845283",
     "status": "completed"
    },
    "tags": []
   },
   "outputs": [],
   "source": [
    "all_idxs = np.arange(train_adata.obs.shape[0])\n",
    "left_out_splits = [s[1] for s in StratifiedGroupKFold(n_splits=N_SPLITS).split(all_idxs, train_adata.obs.disease, train_adata.obs.sampleID)]"
   ]
  },
  {
   "cell_type": "code",
   "execution_count": 12,
   "id": "04a54191",
   "metadata": {
    "execution": {
     "iopub.execute_input": "2025-05-15T16:15:45.902860Z",
     "iopub.status.busy": "2025-05-15T16:15:45.902658Z",
     "iopub.status.idle": "2025-05-15T16:15:45.906220Z",
     "shell.execute_reply": "2025-05-15T16:15:45.905861Z"
    },
    "papermill": {
     "duration": 0.011767,
     "end_time": "2025-05-15T16:15:45.907116",
     "exception": false,
     "start_time": "2025-05-15T16:15:45.895349",
     "status": "completed"
    },
    "tags": []
   },
   "outputs": [
    {
     "data": {
      "text/plain": [
       "([0, 3, 4], 2, 1)"
      ]
     },
     "execution_count": 12,
     "metadata": {},
     "output_type": "execute_result"
    }
   ],
   "source": [
    "TRAIN_SPLIT_IDXS = [0,1,2,3,4]\n",
    "VAL_SPLIT_IDX = (TEST_SPLIT_IDX + 1) % 5\n",
    "TRAIN_SPLIT_IDXS.remove(TEST_SPLIT_IDX)\n",
    "TRAIN_SPLIT_IDXS.remove(VAL_SPLIT_IDX)\n",
    "TRAIN_SPLIT_IDXS, VAL_SPLIT_IDX, TEST_SPLIT_IDX"
   ]
  },
  {
   "cell_type": "code",
   "execution_count": 13,
   "id": "b666ca1a",
   "metadata": {
    "execution": {
     "iopub.execute_input": "2025-05-15T16:15:45.920421Z",
     "iopub.status.busy": "2025-05-15T16:15:45.920217Z",
     "iopub.status.idle": "2025-05-15T16:15:45.922813Z",
     "shell.execute_reply": "2025-05-15T16:15:45.922463Z"
    },
    "papermill": {
     "duration": 0.010253,
     "end_time": "2025-05-15T16:15:45.923778",
     "exception": false,
     "start_time": "2025-05-15T16:15:45.913525",
     "status": "completed"
    },
    "tags": []
   },
   "outputs": [],
   "source": [
    "train_idxs = np.concatenate([left_out_splits[idx] for idx in TRAIN_SPLIT_IDXS])\n",
    "val_idxs = left_out_splits[VAL_SPLIT_IDX]\n",
    "test_idxs = left_out_splits[TEST_SPLIT_IDX]"
   ]
  },
  {
   "cell_type": "markdown",
   "id": "80868bab",
   "metadata": {
    "papermill": {
     "duration": 0.006452,
     "end_time": "2025-05-15T16:15:45.937010",
     "exception": false,
     "start_time": "2025-05-15T16:15:45.930558",
     "status": "completed"
    },
    "tags": []
   },
   "source": [
    "### SUBSET DATASET INTO TRAIN/TEST/VAL SPLITS"
   ]
  },
  {
   "cell_type": "code",
   "execution_count": 14,
   "id": "120ea58a",
   "metadata": {
    "execution": {
     "iopub.execute_input": "2025-05-15T16:15:45.950452Z",
     "iopub.status.busy": "2025-05-15T16:15:45.950232Z",
     "iopub.status.idle": "2025-05-15T16:15:45.957055Z",
     "shell.execute_reply": "2025-05-15T16:15:45.956652Z"
    },
    "papermill": {
     "duration": 0.014722,
     "end_time": "2025-05-15T16:15:45.958067",
     "exception": false,
     "start_time": "2025-05-15T16:15:45.943345",
     "status": "completed"
    },
    "tags": []
   },
   "outputs": [
    {
     "data": {
      "text/plain": [
       "((333, 107), (107, 107), (102, 107))"
      ]
     },
     "execution_count": 14,
     "metadata": {},
     "output_type": "execute_result"
    }
   ],
   "source": [
    "X_train = train_adata.X[train_idxs]\n",
    "X_test = train_adata.X[test_idxs]\n",
    "X_val = train_adata.X[val_idxs]\n",
    "X_train.shape, X_test.shape, X_val.shape"
   ]
  },
  {
   "cell_type": "code",
   "execution_count": 15,
   "id": "c88b1913",
   "metadata": {
    "execution": {
     "iopub.execute_input": "2025-05-15T16:15:45.971503Z",
     "iopub.status.busy": "2025-05-15T16:15:45.971261Z",
     "iopub.status.idle": "2025-05-15T16:15:45.976516Z",
     "shell.execute_reply": "2025-05-15T16:15:45.976162Z"
    },
    "papermill": {
     "duration": 0.013207,
     "end_time": "2025-05-15T16:15:45.977482",
     "exception": false,
     "start_time": "2025-05-15T16:15:45.964275",
     "status": "completed"
    },
    "tags": []
   },
   "outputs": [
    {
     "data": {
      "text/plain": [
       "((333,), (107,), (102,))"
      ]
     },
     "execution_count": 15,
     "metadata": {},
     "output_type": "execute_result"
    }
   ],
   "source": [
    "y_train = train_adata.obs.iloc[train_idxs].disease.values.astype(str)\n",
    "y_test = train_adata.obs.iloc[test_idxs].disease.values.astype(str)\n",
    "y_val = train_adata.obs.iloc[val_idxs].disease.values.astype(str)\n",
    "y_train.shape, y_test.shape, y_val.shape"
   ]
  },
  {
   "cell_type": "code",
   "execution_count": 16,
   "id": "a34eacae",
   "metadata": {
    "execution": {
     "iopub.execute_input": "2025-05-15T16:15:45.994262Z",
     "iopub.status.busy": "2025-05-15T16:15:45.993862Z",
     "iopub.status.idle": "2025-05-15T16:15:45.997071Z",
     "shell.execute_reply": "2025-05-15T16:15:45.996727Z"
    },
    "papermill": {
     "duration": 0.014007,
     "end_time": "2025-05-15T16:15:45.998023",
     "exception": false,
     "start_time": "2025-05-15T16:15:45.984016",
     "status": "completed"
    },
    "tags": []
   },
   "outputs": [],
   "source": [
    "lenc = LabelEncoder()\n",
    "y_train_enc = lenc.fit_transform(y_train)\n",
    "y_val_enc = lenc.transform(y_val)\n",
    "y_test_enc = lenc.transform(y_test)"
   ]
  },
  {
   "cell_type": "markdown",
   "id": "2503ee46",
   "metadata": {
    "papermill": {
     "duration": 0.006612,
     "end_time": "2025-05-15T16:15:46.012784",
     "exception": false,
     "start_time": "2025-05-15T16:15:46.006172",
     "status": "completed"
    },
    "tags": []
   },
   "source": [
    "### GENERATE F1 "
   ]
  },
  {
   "cell_type": "code",
   "execution_count": 17,
   "id": "4da8f755",
   "metadata": {
    "execution": {
     "iopub.execute_input": "2025-05-15T16:15:46.034471Z",
     "iopub.status.busy": "2025-05-15T16:15:46.034006Z",
     "iopub.status.idle": "2025-05-15T16:15:46.036572Z",
     "shell.execute_reply": "2025-05-15T16:15:46.036208Z"
    },
    "papermill": {
     "duration": 0.01056,
     "end_time": "2025-05-15T16:15:46.037557",
     "exception": false,
     "start_time": "2025-05-15T16:15:46.026997",
     "status": "completed"
    },
    "tags": []
   },
   "outputs": [],
   "source": [
    "def custom_f1_score(y_true, y_pred):\n",
    "    return -f1_score(y_true, y_pred.argmax(1), average='weighted')"
   ]
  },
  {
   "cell_type": "code",
   "execution_count": 18,
   "id": "f24563a3",
   "metadata": {
    "execution": {
     "iopub.execute_input": "2025-05-15T16:15:46.051157Z",
     "iopub.status.busy": "2025-05-15T16:15:46.050964Z",
     "iopub.status.idle": "2025-05-15T16:15:46.055667Z",
     "shell.execute_reply": "2025-05-15T16:15:46.055302Z"
    },
    "papermill": {
     "duration": 0.012665,
     "end_time": "2025-05-15T16:15:46.056640",
     "exception": false,
     "start_time": "2025-05-15T16:15:46.043975",
     "status": "completed"
    },
    "tags": []
   },
   "outputs": [],
   "source": [
    "eval_metric=custom_f1_score\n",
    "eval_metric_name='custom_f1_score'\n",
    "\n",
    "def objective(trial):\n",
    "    params = {\n",
    "        'n_estimators': 1500,\n",
    "        'max_depth': trial.suggest_int('max_depth', 3, 20),\n",
    "        'min_child_weight': trial.suggest_int('min_child_weight', 1, 250),\n",
    "        'subsample': trial.suggest_float('subsample', 0.1, 1.0),\n",
    "        'colsample_bynode': trial.suggest_float('colsample_bynode', 0.1, 1.0),\n",
    "        'learning_rate': trial.suggest_float('learning_rate', 1e-3, 5e-1, log=True),\n",
    "    }\n",
    "    pruning_callback = optuna.integration.XGBoostPruningCallback(trial, f'validation_0-{eval_metric_name}')\n",
    "    es_callback = xgboost.callback.EarlyStopping(20, min_delta=0.001)\n",
    "    xgb = xgboost.XGBClassifier(\n",
    "        eval_metric=eval_metric,\n",
    "        callbacks=[pruning_callback, es_callback],\n",
    "        n_jobs=5,\n",
    "        **params\n",
    "    )\n",
    "    xgb.fit(\n",
    "        X_train, \n",
    "        y_train_enc, \n",
    "        verbose=0,\n",
    "        eval_set=[(X_val, y_val_enc)],\n",
    "    )\n",
    "    trial.set_user_attr('best_iteration', xgb.best_iteration)\n",
    "\n",
    "    return xgb.best_score"
   ]
  },
  {
   "cell_type": "code",
   "execution_count": 19,
   "id": "06ddad8c",
   "metadata": {
    "execution": {
     "iopub.execute_input": "2025-05-15T16:15:46.070438Z",
     "iopub.status.busy": "2025-05-15T16:15:46.070091Z",
     "iopub.status.idle": "2025-05-15T16:15:59.631342Z",
     "shell.execute_reply": "2025-05-15T16:15:59.630829Z"
    },
    "papermill": {
     "duration": 13.569178,
     "end_time": "2025-05-15T16:15:59.632526",
     "exception": false,
     "start_time": "2025-05-15T16:15:46.063348",
     "status": "completed"
    },
    "scrolled": true,
    "tags": []
   },
   "outputs": [
    {
     "name": "stderr",
     "output_type": "stream",
     "text": [
      "[I 2025-05-15 18:15:46,072] A new study created in memory with name: no-name-490d0e22-208e-494e-a8c9-04d3bc6938c6\n"
     ]
    },
    {
     "name": "stderr",
     "output_type": "stream",
     "text": [
      "[I 2025-05-15 18:15:48,165] Trial 0 finished with value: -0.03313 and parameters: {'max_depth': 9, 'min_child_weight': 238, 'subsample': 0.7587945476302645, 'colsample_bynode': 0.6387926357773329, 'learning_rate': 0.0026368755339723046}. Best is trial 0 with value: -0.03313.\n"
     ]
    },
    {
     "name": "stderr",
     "output_type": "stream",
     "text": [
      "[I 2025-05-15 18:15:48,408] Trial 1 finished with value: -0.396996 and parameters: {'max_depth': 5, 'min_child_weight': 15, 'subsample': 0.8795585311974417, 'colsample_bynode': 0.6410035105688879, 'learning_rate': 0.08148293210105287}. Best is trial 1 with value: -0.396996.\n"
     ]
    },
    {
     "name": "stderr",
     "output_type": "stream",
     "text": [
      "[I 2025-05-15 18:15:48,551] Trial 2 finished with value: -0.03313 and parameters: {'max_depth': 3, 'min_child_weight': 243, 'subsample': 0.8491983767203796, 'colsample_bynode': 0.29110519961044856, 'learning_rate': 0.003095566460242371}. Best is trial 1 with value: -0.396996.\n"
     ]
    },
    {
     "name": "stderr",
     "output_type": "stream",
     "text": [
      "[I 2025-05-15 18:15:48,706] Trial 3 finished with value: -0.03313 and parameters: {'max_depth': 6, 'min_child_weight': 77, 'subsample': 0.5722807884690141, 'colsample_bynode': 0.48875051677790415, 'learning_rate': 0.006109683510122491}. Best is trial 1 with value: -0.396996.\n"
     ]
    },
    {
     "name": "stderr",
     "output_type": "stream",
     "text": [
      "[I 2025-05-15 18:15:48,859] Trial 4 finished with value: -0.03313 and parameters: {'max_depth': 14, 'min_child_weight': 35, 'subsample': 0.3629301836816964, 'colsample_bynode': 0.4297256589643226, 'learning_rate': 0.01701841881702917}. Best is trial 1 with value: -0.396996.\n"
     ]
    },
    {
     "name": "stderr",
     "output_type": "stream",
     "text": [
      "[I 2025-05-15 18:15:49,010] Trial 5 finished with value: -0.03313 and parameters: {'max_depth': 17, 'min_child_weight': 50, 'subsample': 0.5628109945722505, 'colsample_bynode': 0.6331731119758383, 'learning_rate': 0.0013346527038305934}. Best is trial 1 with value: -0.396996.\n"
     ]
    },
    {
     "name": "stderr",
     "output_type": "stream",
     "text": [
      "[I 2025-05-15 18:15:49,163] Trial 6 finished with value: -0.03313 and parameters: {'max_depth': 13, 'min_child_weight': 43, 'subsample': 0.1585464336867516, 'colsample_bynode': 0.9539969835279999, 'learning_rate': 0.4038423798071558}. Best is trial 1 with value: -0.396996.\n"
     ]
    },
    {
     "name": "stderr",
     "output_type": "stream",
     "text": [
      "[I 2025-05-15 18:15:49,323] Trial 7 finished with value: -0.03313 and parameters: {'max_depth': 17, 'min_child_weight': 77, 'subsample': 0.1879049026057455, 'colsample_bynode': 0.7158097238609412, 'learning_rate': 0.015415527060141935}. Best is trial 1 with value: -0.396996.\n"
     ]
    },
    {
     "name": "stderr",
     "output_type": "stream",
     "text": [
      "[I 2025-05-15 18:15:49,477] Trial 8 finished with value: -0.03313 and parameters: {'max_depth': 5, 'min_child_weight': 124, 'subsample': 0.13094966900369656, 'colsample_bynode': 0.9183883618709039, 'learning_rate': 0.004993895014755658}. Best is trial 1 with value: -0.396996.\n"
     ]
    },
    {
     "name": "stderr",
     "output_type": "stream",
     "text": [
      "[I 2025-05-15 18:15:49,640] Trial 9 finished with value: -0.03313 and parameters: {'max_depth': 14, 'min_child_weight': 78, 'subsample': 0.5680612190600297, 'colsample_bynode': 0.5920392514089517, 'learning_rate': 0.0031543990308330965}. Best is trial 1 with value: -0.396996.\n"
     ]
    },
    {
     "name": "stderr",
     "output_type": "stream",
     "text": [
      "[I 2025-05-15 18:15:50,233] Trial 10 finished with value: -0.490096 and parameters: {'max_depth': 9, 'min_child_weight': 2, 'subsample': 0.9725833997090791, 'colsample_bynode': 0.11616568805333755, 'learning_rate': 0.17780618353487967}. Best is trial 10 with value: -0.490096.\n"
     ]
    },
    {
     "name": "stderr",
     "output_type": "stream",
     "text": [
      "[I 2025-05-15 18:15:50,553] Trial 11 finished with value: -0.448659 and parameters: {'max_depth': 9, 'min_child_weight': 4, 'subsample': 0.9818290990185045, 'colsample_bynode': 0.17702656156719, 'learning_rate': 0.11568531411766632}. Best is trial 10 with value: -0.490096.\n"
     ]
    },
    {
     "name": "stderr",
     "output_type": "stream",
     "text": [
      "[I 2025-05-15 18:15:50,950] Trial 12 finished with value: -0.438543 and parameters: {'max_depth': 9, 'min_child_weight': 2, 'subsample': 0.9762317723681219, 'colsample_bynode': 0.1303670507685675, 'learning_rate': 0.14353293664472047}. Best is trial 10 with value: -0.490096.\n"
     ]
    },
    {
     "name": "stderr",
     "output_type": "stream",
     "text": [
      "[I 2025-05-15 18:15:51,119] Trial 13 finished with value: -0.03313 and parameters: {'max_depth': 10, 'min_child_weight': 173, 'subsample': 0.9990589868255076, 'colsample_bynode': 0.10388397775802007, 'learning_rate': 0.08343244313100631}. Best is trial 10 with value: -0.490096.\n"
     ]
    },
    {
     "name": "stderr",
     "output_type": "stream",
     "text": [
      "[I 2025-05-15 18:15:51,281] Trial 14 finished with value: -0.03313 and parameters: {'max_depth': 7, 'min_child_weight': 132, 'subsample': 0.7251427075087294, 'colsample_bynode': 0.2827065087684573, 'learning_rate': 0.4477473783244542}. Best is trial 10 with value: -0.490096.\n"
     ]
    },
    {
     "name": "stderr",
     "output_type": "stream",
     "text": [
      "[I 2025-05-15 18:15:51,821] Trial 15 pruned. Trial was pruned at iteration 46.\n"
     ]
    },
    {
     "name": "stderr",
     "output_type": "stream",
     "text": [
      "[I 2025-05-15 18:15:51,995] Trial 16 finished with value: -0.03313 and parameters: {'max_depth': 11, 'min_child_weight': 125, 'subsample': 0.8815541734801864, 'colsample_bynode': 0.37074095931791284, 'learning_rate': 0.18961687234093502}. Best is trial 10 with value: -0.490096.\n"
     ]
    },
    {
     "name": "stderr",
     "output_type": "stream",
     "text": [
      "[I 2025-05-15 18:15:52,184] Trial 17 finished with value: -0.03313 and parameters: {'max_depth': 8, 'min_child_weight': 183, 'subsample': 0.38147523481218437, 'colsample_bynode': 0.18808734027794596, 'learning_rate': 0.0535465309609203}. Best is trial 10 with value: -0.490096.\n"
     ]
    },
    {
     "name": "stderr",
     "output_type": "stream",
     "text": [
      "[I 2025-05-15 18:15:52,362] Trial 18 pruned. Trial was pruned at iteration 21.\n"
     ]
    },
    {
     "name": "stderr",
     "output_type": "stream",
     "text": [
      "[I 2025-05-15 18:15:52,546] Trial 19 finished with value: -0.03313 and parameters: {'max_depth': 11, 'min_child_weight': 102, 'subsample': 0.9723428668438461, 'colsample_bynode': 0.3679418363674778, 'learning_rate': 0.03827773069548075}. Best is trial 10 with value: -0.490096.\n"
     ]
    },
    {
     "name": "stderr",
     "output_type": "stream",
     "text": [
      "[I 2025-05-15 18:15:52,725] Trial 20 finished with value: -0.03313 and parameters: {'max_depth': 7, 'min_child_weight': 60, 'subsample': 0.6596113500838445, 'colsample_bynode': 0.20927736326660645, 'learning_rate': 0.25272718592857407}. Best is trial 10 with value: -0.490096.\n"
     ]
    },
    {
     "name": "stderr",
     "output_type": "stream",
     "text": [
      "[I 2025-05-15 18:15:53,213] Trial 21 finished with value: -0.464775 and parameters: {'max_depth': 9, 'min_child_weight': 1, 'subsample': 0.9774164828325145, 'colsample_bynode': 0.10489776969766632, 'learning_rate': 0.12154020308087539}. Best is trial 10 with value: -0.490096.\n"
     ]
    },
    {
     "name": "stderr",
     "output_type": "stream",
     "text": [
      "[I 2025-05-15 18:15:53,406] Trial 22 pruned. Trial was pruned at iteration 21.\n"
     ]
    },
    {
     "name": "stderr",
     "output_type": "stream",
     "text": [
      "[I 2025-05-15 18:15:53,587] Trial 23 pruned. Trial was pruned at iteration 21.\n"
     ]
    },
    {
     "name": "stderr",
     "output_type": "stream",
     "text": [
      "[I 2025-05-15 18:15:53,888] Trial 24 finished with value: -0.451194 and parameters: {'max_depth': 10, 'min_child_weight': 4, 'subsample': 0.9371340199057098, 'colsample_bynode': 0.3376633298161329, 'learning_rate': 0.27344287748763757}. Best is trial 10 with value: -0.490096.\n"
     ]
    },
    {
     "name": "stderr",
     "output_type": "stream",
     "text": [
      "[I 2025-05-15 18:15:54,074] Trial 25 finished with value: -0.166667 and parameters: {'max_depth': 12, 'min_child_weight': 62, 'subsample': 0.9115412223312557, 'colsample_bynode': 0.34463289593145946, 'learning_rate': 0.2935265484485481}. Best is trial 10 with value: -0.490096.\n"
     ]
    },
    {
     "name": "stderr",
     "output_type": "stream",
     "text": [
      "[I 2025-05-15 18:15:54,245] Trial 26 pruned. Trial was pruned at iteration 21.\n"
     ]
    },
    {
     "name": "stderr",
     "output_type": "stream",
     "text": [
      "[I 2025-05-15 18:15:54,420] Trial 27 finished with value: -0.03313 and parameters: {'max_depth': 7, 'min_child_weight': 164, 'subsample': 0.6693673534860863, 'colsample_bynode': 0.2576944757475085, 'learning_rate': 0.2697190175910677}. Best is trial 10 with value: -0.490096.\n"
     ]
    },
    {
     "name": "stderr",
     "output_type": "stream",
     "text": [
      "[I 2025-05-15 18:15:54,587] Trial 28 finished with value: -0.03313 and parameters: {'max_depth': 10, 'min_child_weight': 98, 'subsample': 0.8152270640621633, 'colsample_bynode': 0.335146522713757, 'learning_rate': 0.02490686433339173}. Best is trial 10 with value: -0.490096.\n"
     ]
    },
    {
     "name": "stderr",
     "output_type": "stream",
     "text": [
      "[I 2025-05-15 18:15:54,775] Trial 29 finished with value: -0.03313 and parameters: {'max_depth': 10, 'min_child_weight': 217, 'subsample': 0.7782212432451816, 'colsample_bynode': 0.4189494797723615, 'learning_rate': 0.05894449675470754}. Best is trial 10 with value: -0.490096.\n"
     ]
    },
    {
     "name": "stderr",
     "output_type": "stream",
     "text": [
      "[I 2025-05-15 18:15:54,941] Trial 30 pruned. Trial was pruned at iteration 21.\n"
     ]
    },
    {
     "name": "stderr",
     "output_type": "stream",
     "text": [
      "[I 2025-05-15 18:15:55,256] Trial 31 pruned. Trial was pruned at iteration 22.\n"
     ]
    },
    {
     "name": "stderr",
     "output_type": "stream",
     "text": [
      "[I 2025-05-15 18:15:55,460] Trial 32 finished with value: -0.348798 and parameters: {'max_depth': 8, 'min_child_weight': 16, 'subsample': 0.9335755017824964, 'colsample_bynode': 0.21398943410820365, 'learning_rate': 0.10079782722115888}. Best is trial 10 with value: -0.490096.\n"
     ]
    },
    {
     "name": "stderr",
     "output_type": "stream",
     "text": [
      "[I 2025-05-15 18:15:55,652] Trial 33 pruned. Trial was pruned at iteration 22.\n"
     ]
    },
    {
     "name": "stderr",
     "output_type": "stream",
     "text": [
      "[I 2025-05-15 18:15:56,048] Trial 34 finished with value: -0.449997 and parameters: {'max_depth': 10, 'min_child_weight': 1, 'subsample': 0.8826922848583124, 'colsample_bynode': 0.23749739483633633, 'learning_rate': 0.1617258955239202}. Best is trial 10 with value: -0.490096.\n"
     ]
    },
    {
     "name": "stderr",
     "output_type": "stream",
     "text": [
      "[I 2025-05-15 18:15:56,234] Trial 35 pruned. Trial was pruned at iteration 21.\n"
     ]
    },
    {
     "name": "stderr",
     "output_type": "stream",
     "text": [
      "[I 2025-05-15 18:15:56,397] Trial 36 finished with value: -0.166667 and parameters: {'max_depth': 13, 'min_child_weight': 37, 'subsample': 0.6407524616314901, 'colsample_bynode': 0.2359731055318824, 'learning_rate': 0.05757732705286284}. Best is trial 10 with value: -0.490096.\n"
     ]
    },
    {
     "name": "stderr",
     "output_type": "stream",
     "text": [
      "[I 2025-05-15 18:15:56,647] Trial 37 pruned. Trial was pruned at iteration 21.\n"
     ]
    },
    {
     "name": "stderr",
     "output_type": "stream",
     "text": [
      "[I 2025-05-15 18:15:56,800] Trial 38 finished with value: -0.03313 and parameters: {'max_depth': 10, 'min_child_weight': 57, 'subsample': 0.4776034465520765, 'colsample_bynode': 0.10070560506766824, 'learning_rate': 0.33700056696973707}. Best is trial 10 with value: -0.490096.\n"
     ]
    },
    {
     "name": "stderr",
     "output_type": "stream",
     "text": [
      "[I 2025-05-15 18:15:56,994] Trial 39 pruned. Trial was pruned at iteration 21.\n"
     ]
    },
    {
     "name": "stderr",
     "output_type": "stream",
     "text": [
      "[I 2025-05-15 18:15:57,157] Trial 40 pruned. Trial was pruned at iteration 21.\n"
     ]
    },
    {
     "name": "stderr",
     "output_type": "stream",
     "text": [
      "[I 2025-05-15 18:15:57,555] Trial 41 finished with value: -0.425731 and parameters: {'max_depth': 9, 'min_child_weight': 3, 'subsample': 0.9483413111414586, 'colsample_bynode': 0.17864280753857614, 'learning_rate': 0.08379313828020425}. Best is trial 10 with value: -0.490096.\n"
     ]
    },
    {
     "name": "stderr",
     "output_type": "stream",
     "text": [
      "[I 2025-05-15 18:15:57,738] Trial 42 pruned. Trial was pruned at iteration 21.\n"
     ]
    },
    {
     "name": "stderr",
     "output_type": "stream",
     "text": [
      "[I 2025-05-15 18:15:58,146] Trial 43 finished with value: -0.499303 and parameters: {'max_depth': 6, 'min_child_weight': 10, 'subsample': 0.9962303907624817, 'colsample_bynode': 0.15026529384405907, 'learning_rate': 0.3837660202213872}. Best is trial 43 with value: -0.499303.\n"
     ]
    },
    {
     "name": "stderr",
     "output_type": "stream",
     "text": [
      "[I 2025-05-15 18:15:58,335] Trial 44 pruned. Trial was pruned at iteration 21.\n"
     ]
    },
    {
     "name": "stderr",
     "output_type": "stream",
     "text": [
      "[I 2025-05-15 18:15:58,498] Trial 45 finished with value: -0.03313 and parameters: {'max_depth': 7, 'min_child_weight': 74, 'subsample': 0.9607936948543947, 'colsample_bynode': 0.2730170399597075, 'learning_rate': 0.4912482275475063}. Best is trial 43 with value: -0.499303.\n"
     ]
    },
    {
     "name": "stderr",
     "output_type": "stream",
     "text": [
      "[I 2025-05-15 18:15:58,785] Trial 46 finished with value: -0.429354 and parameters: {'max_depth': 6, 'min_child_weight': 12, 'subsample': 0.8414322927568068, 'colsample_bynode': 0.6840660681057265, 'learning_rate': 0.3033615407005966}. Best is trial 43 with value: -0.499303.\n"
     ]
    },
    {
     "name": "stderr",
     "output_type": "stream",
     "text": [
      "[I 2025-05-15 18:15:58,964] Trial 47 pruned. Trial was pruned at iteration 21.\n"
     ]
    },
    {
     "name": "stderr",
     "output_type": "stream",
     "text": [
      "[I 2025-05-15 18:15:59,174] Trial 48 pruned. Trial was pruned at iteration 21.\n"
     ]
    },
    {
     "name": "stderr",
     "output_type": "stream",
     "text": [
      "[I 2025-05-15 18:15:59,538] Trial 49 finished with value: -0.51523 and parameters: {'max_depth': 10, 'min_child_weight': 1, 'subsample': 0.8881146987756425, 'colsample_bynode': 0.2238346931915145, 'learning_rate': 0.20788980553537192}. Best is trial 49 with value: -0.51523.\n"
     ]
    }
   ],
   "source": [
    "sampler = optuna.samplers.TPESampler(seed=42)\n",
    "study = optuna.create_study(direction='minimize', sampler=sampler)\n",
    "study.optimize(objective, n_trials=N_TRIALS, gc_after_trial=True)"
   ]
  },
  {
   "cell_type": "code",
   "execution_count": 20,
   "id": "a976d58c",
   "metadata": {
    "execution": {
     "iopub.execute_input": "2025-05-15T16:15:59.652143Z",
     "iopub.status.busy": "2025-05-15T16:15:59.651922Z",
     "iopub.status.idle": "2025-05-15T16:15:59.676152Z",
     "shell.execute_reply": "2025-05-15T16:15:59.675797Z"
    },
    "papermill": {
     "duration": 0.034352,
     "end_time": "2025-05-15T16:15:59.677120",
     "exception": false,
     "start_time": "2025-05-15T16:15:59.642768",
     "status": "completed"
    },
    "tags": []
   },
   "outputs": [
    {
     "data": {
      "text/plain": [
       "['/scratch_isilon/groups/singlecell/shared/projects/Inflammation-PBMCs-Atlas/03_downstream_analysis/08_gene_importance/xgboost_external_validation/xgboost_TopN_genes/results_20/study/Plasma_14_1_xgboost.pkl']"
      ]
     },
     "execution_count": 20,
     "metadata": {},
     "output_type": "execute_result"
    }
   ],
   "source": [
    "out_dir = here(f'03_downstream_analysis/08_gene_importance/xgboost_external_validation/xgboost_TopN_genes/results_{N_GENES}/study')\n",
    "\n",
    "if not os.path.exists(out_dir):\n",
    "    os.makedirs(out_dir)\n",
    "    \n",
    "joblib.dump(study,os.path.join(out_dir, f'{CELL_TYPE}_{SEED}_{TEST_SPLIT_IDX}_xgboost.pkl'))"
   ]
  },
  {
   "cell_type": "code",
   "execution_count": 21,
   "id": "1dee9dac",
   "metadata": {
    "execution": {
     "iopub.execute_input": "2025-05-15T16:15:59.701979Z",
     "iopub.status.busy": "2025-05-15T16:15:59.701574Z",
     "iopub.status.idle": "2025-05-15T16:15:59.730909Z",
     "shell.execute_reply": "2025-05-15T16:15:59.730512Z"
    },
    "papermill": {
     "duration": 0.039323,
     "end_time": "2025-05-15T16:15:59.732005",
     "exception": false,
     "start_time": "2025-05-15T16:15:59.692682",
     "status": "completed"
    },
    "tags": []
   },
   "outputs": [
    {
     "data": {
      "text/html": [
       "<style>#sk-container-id-1 {\n",
       "  /* Definition of color scheme common for light and dark mode */\n",
       "  --sklearn-color-text: black;\n",
       "  --sklearn-color-line: gray;\n",
       "  /* Definition of color scheme for unfitted estimators */\n",
       "  --sklearn-color-unfitted-level-0: #fff5e6;\n",
       "  --sklearn-color-unfitted-level-1: #f6e4d2;\n",
       "  --sklearn-color-unfitted-level-2: #ffe0b3;\n",
       "  --sklearn-color-unfitted-level-3: chocolate;\n",
       "  /* Definition of color scheme for fitted estimators */\n",
       "  --sklearn-color-fitted-level-0: #f0f8ff;\n",
       "  --sklearn-color-fitted-level-1: #d4ebff;\n",
       "  --sklearn-color-fitted-level-2: #b3dbfd;\n",
       "  --sklearn-color-fitted-level-3: cornflowerblue;\n",
       "\n",
       "  /* Specific color for light theme */\n",
       "  --sklearn-color-text-on-default-background: var(--sg-text-color, var(--theme-code-foreground, var(--jp-content-font-color1, black)));\n",
       "  --sklearn-color-background: var(--sg-background-color, var(--theme-background, var(--jp-layout-color0, white)));\n",
       "  --sklearn-color-border-box: var(--sg-text-color, var(--theme-code-foreground, var(--jp-content-font-color1, black)));\n",
       "  --sklearn-color-icon: #696969;\n",
       "\n",
       "  @media (prefers-color-scheme: dark) {\n",
       "    /* Redefinition of color scheme for dark theme */\n",
       "    --sklearn-color-text-on-default-background: var(--sg-text-color, var(--theme-code-foreground, var(--jp-content-font-color1, white)));\n",
       "    --sklearn-color-background: var(--sg-background-color, var(--theme-background, var(--jp-layout-color0, #111)));\n",
       "    --sklearn-color-border-box: var(--sg-text-color, var(--theme-code-foreground, var(--jp-content-font-color1, white)));\n",
       "    --sklearn-color-icon: #878787;\n",
       "  }\n",
       "}\n",
       "\n",
       "#sk-container-id-1 {\n",
       "  color: var(--sklearn-color-text);\n",
       "}\n",
       "\n",
       "#sk-container-id-1 pre {\n",
       "  padding: 0;\n",
       "}\n",
       "\n",
       "#sk-container-id-1 input.sk-hidden--visually {\n",
       "  border: 0;\n",
       "  clip: rect(1px 1px 1px 1px);\n",
       "  clip: rect(1px, 1px, 1px, 1px);\n",
       "  height: 1px;\n",
       "  margin: -1px;\n",
       "  overflow: hidden;\n",
       "  padding: 0;\n",
       "  position: absolute;\n",
       "  width: 1px;\n",
       "}\n",
       "\n",
       "#sk-container-id-1 div.sk-dashed-wrapped {\n",
       "  border: 1px dashed var(--sklearn-color-line);\n",
       "  margin: 0 0.4em 0.5em 0.4em;\n",
       "  box-sizing: border-box;\n",
       "  padding-bottom: 0.4em;\n",
       "  background-color: var(--sklearn-color-background);\n",
       "}\n",
       "\n",
       "#sk-container-id-1 div.sk-container {\n",
       "  /* jupyter's `normalize.less` sets `[hidden] { display: none; }`\n",
       "     but bootstrap.min.css set `[hidden] { display: none !important; }`\n",
       "     so we also need the `!important` here to be able to override the\n",
       "     default hidden behavior on the sphinx rendered scikit-learn.org.\n",
       "     See: https://github.com/scikit-learn/scikit-learn/issues/21755 */\n",
       "  display: inline-block !important;\n",
       "  position: relative;\n",
       "}\n",
       "\n",
       "#sk-container-id-1 div.sk-text-repr-fallback {\n",
       "  display: none;\n",
       "}\n",
       "\n",
       "div.sk-parallel-item,\n",
       "div.sk-serial,\n",
       "div.sk-item {\n",
       "  /* draw centered vertical line to link estimators */\n",
       "  background-image: linear-gradient(var(--sklearn-color-text-on-default-background), var(--sklearn-color-text-on-default-background));\n",
       "  background-size: 2px 100%;\n",
       "  background-repeat: no-repeat;\n",
       "  background-position: center center;\n",
       "}\n",
       "\n",
       "/* Parallel-specific style estimator block */\n",
       "\n",
       "#sk-container-id-1 div.sk-parallel-item::after {\n",
       "  content: \"\";\n",
       "  width: 100%;\n",
       "  border-bottom: 2px solid var(--sklearn-color-text-on-default-background);\n",
       "  flex-grow: 1;\n",
       "}\n",
       "\n",
       "#sk-container-id-1 div.sk-parallel {\n",
       "  display: flex;\n",
       "  align-items: stretch;\n",
       "  justify-content: center;\n",
       "  background-color: var(--sklearn-color-background);\n",
       "  position: relative;\n",
       "}\n",
       "\n",
       "#sk-container-id-1 div.sk-parallel-item {\n",
       "  display: flex;\n",
       "  flex-direction: column;\n",
       "}\n",
       "\n",
       "#sk-container-id-1 div.sk-parallel-item:first-child::after {\n",
       "  align-self: flex-end;\n",
       "  width: 50%;\n",
       "}\n",
       "\n",
       "#sk-container-id-1 div.sk-parallel-item:last-child::after {\n",
       "  align-self: flex-start;\n",
       "  width: 50%;\n",
       "}\n",
       "\n",
       "#sk-container-id-1 div.sk-parallel-item:only-child::after {\n",
       "  width: 0;\n",
       "}\n",
       "\n",
       "/* Serial-specific style estimator block */\n",
       "\n",
       "#sk-container-id-1 div.sk-serial {\n",
       "  display: flex;\n",
       "  flex-direction: column;\n",
       "  align-items: center;\n",
       "  background-color: var(--sklearn-color-background);\n",
       "  padding-right: 1em;\n",
       "  padding-left: 1em;\n",
       "}\n",
       "\n",
       "\n",
       "/* Toggleable style: style used for estimator/Pipeline/ColumnTransformer box that is\n",
       "clickable and can be expanded/collapsed.\n",
       "- Pipeline and ColumnTransformer use this feature and define the default style\n",
       "- Estimators will overwrite some part of the style using the `sk-estimator` class\n",
       "*/\n",
       "\n",
       "/* Pipeline and ColumnTransformer style (default) */\n",
       "\n",
       "#sk-container-id-1 div.sk-toggleable {\n",
       "  /* Default theme specific background. It is overwritten whether we have a\n",
       "  specific estimator or a Pipeline/ColumnTransformer */\n",
       "  background-color: var(--sklearn-color-background);\n",
       "}\n",
       "\n",
       "/* Toggleable label */\n",
       "#sk-container-id-1 label.sk-toggleable__label {\n",
       "  cursor: pointer;\n",
       "  display: block;\n",
       "  width: 100%;\n",
       "  margin-bottom: 0;\n",
       "  padding: 0.5em;\n",
       "  box-sizing: border-box;\n",
       "  text-align: center;\n",
       "}\n",
       "\n",
       "#sk-container-id-1 label.sk-toggleable__label-arrow:before {\n",
       "  /* Arrow on the left of the label */\n",
       "  content: \"▸\";\n",
       "  float: left;\n",
       "  margin-right: 0.25em;\n",
       "  color: var(--sklearn-color-icon);\n",
       "}\n",
       "\n",
       "#sk-container-id-1 label.sk-toggleable__label-arrow:hover:before {\n",
       "  color: var(--sklearn-color-text);\n",
       "}\n",
       "\n",
       "/* Toggleable content - dropdown */\n",
       "\n",
       "#sk-container-id-1 div.sk-toggleable__content {\n",
       "  max-height: 0;\n",
       "  max-width: 0;\n",
       "  overflow: hidden;\n",
       "  text-align: left;\n",
       "  /* unfitted */\n",
       "  background-color: var(--sklearn-color-unfitted-level-0);\n",
       "}\n",
       "\n",
       "#sk-container-id-1 div.sk-toggleable__content.fitted {\n",
       "  /* fitted */\n",
       "  background-color: var(--sklearn-color-fitted-level-0);\n",
       "}\n",
       "\n",
       "#sk-container-id-1 div.sk-toggleable__content pre {\n",
       "  margin: 0.2em;\n",
       "  border-radius: 0.25em;\n",
       "  color: var(--sklearn-color-text);\n",
       "  /* unfitted */\n",
       "  background-color: var(--sklearn-color-unfitted-level-0);\n",
       "}\n",
       "\n",
       "#sk-container-id-1 div.sk-toggleable__content.fitted pre {\n",
       "  /* unfitted */\n",
       "  background-color: var(--sklearn-color-fitted-level-0);\n",
       "}\n",
       "\n",
       "#sk-container-id-1 input.sk-toggleable__control:checked~div.sk-toggleable__content {\n",
       "  /* Expand drop-down */\n",
       "  max-height: 200px;\n",
       "  max-width: 100%;\n",
       "  overflow: auto;\n",
       "}\n",
       "\n",
       "#sk-container-id-1 input.sk-toggleable__control:checked~label.sk-toggleable__label-arrow:before {\n",
       "  content: \"▾\";\n",
       "}\n",
       "\n",
       "/* Pipeline/ColumnTransformer-specific style */\n",
       "\n",
       "#sk-container-id-1 div.sk-label input.sk-toggleable__control:checked~label.sk-toggleable__label {\n",
       "  color: var(--sklearn-color-text);\n",
       "  background-color: var(--sklearn-color-unfitted-level-2);\n",
       "}\n",
       "\n",
       "#sk-container-id-1 div.sk-label.fitted input.sk-toggleable__control:checked~label.sk-toggleable__label {\n",
       "  background-color: var(--sklearn-color-fitted-level-2);\n",
       "}\n",
       "\n",
       "/* Estimator-specific style */\n",
       "\n",
       "/* Colorize estimator box */\n",
       "#sk-container-id-1 div.sk-estimator input.sk-toggleable__control:checked~label.sk-toggleable__label {\n",
       "  /* unfitted */\n",
       "  background-color: var(--sklearn-color-unfitted-level-2);\n",
       "}\n",
       "\n",
       "#sk-container-id-1 div.sk-estimator.fitted input.sk-toggleable__control:checked~label.sk-toggleable__label {\n",
       "  /* fitted */\n",
       "  background-color: var(--sklearn-color-fitted-level-2);\n",
       "}\n",
       "\n",
       "#sk-container-id-1 div.sk-label label.sk-toggleable__label,\n",
       "#sk-container-id-1 div.sk-label label {\n",
       "  /* The background is the default theme color */\n",
       "  color: var(--sklearn-color-text-on-default-background);\n",
       "}\n",
       "\n",
       "/* On hover, darken the color of the background */\n",
       "#sk-container-id-1 div.sk-label:hover label.sk-toggleable__label {\n",
       "  color: var(--sklearn-color-text);\n",
       "  background-color: var(--sklearn-color-unfitted-level-2);\n",
       "}\n",
       "\n",
       "/* Label box, darken color on hover, fitted */\n",
       "#sk-container-id-1 div.sk-label.fitted:hover label.sk-toggleable__label.fitted {\n",
       "  color: var(--sklearn-color-text);\n",
       "  background-color: var(--sklearn-color-fitted-level-2);\n",
       "}\n",
       "\n",
       "/* Estimator label */\n",
       "\n",
       "#sk-container-id-1 div.sk-label label {\n",
       "  font-family: monospace;\n",
       "  font-weight: bold;\n",
       "  display: inline-block;\n",
       "  line-height: 1.2em;\n",
       "}\n",
       "\n",
       "#sk-container-id-1 div.sk-label-container {\n",
       "  text-align: center;\n",
       "}\n",
       "\n",
       "/* Estimator-specific */\n",
       "#sk-container-id-1 div.sk-estimator {\n",
       "  font-family: monospace;\n",
       "  border: 1px dotted var(--sklearn-color-border-box);\n",
       "  border-radius: 0.25em;\n",
       "  box-sizing: border-box;\n",
       "  margin-bottom: 0.5em;\n",
       "  /* unfitted */\n",
       "  background-color: var(--sklearn-color-unfitted-level-0);\n",
       "}\n",
       "\n",
       "#sk-container-id-1 div.sk-estimator.fitted {\n",
       "  /* fitted */\n",
       "  background-color: var(--sklearn-color-fitted-level-0);\n",
       "}\n",
       "\n",
       "/* on hover */\n",
       "#sk-container-id-1 div.sk-estimator:hover {\n",
       "  /* unfitted */\n",
       "  background-color: var(--sklearn-color-unfitted-level-2);\n",
       "}\n",
       "\n",
       "#sk-container-id-1 div.sk-estimator.fitted:hover {\n",
       "  /* fitted */\n",
       "  background-color: var(--sklearn-color-fitted-level-2);\n",
       "}\n",
       "\n",
       "/* Specification for estimator info (e.g. \"i\" and \"?\") */\n",
       "\n",
       "/* Common style for \"i\" and \"?\" */\n",
       "\n",
       ".sk-estimator-doc-link,\n",
       "a:link.sk-estimator-doc-link,\n",
       "a:visited.sk-estimator-doc-link {\n",
       "  float: right;\n",
       "  font-size: smaller;\n",
       "  line-height: 1em;\n",
       "  font-family: monospace;\n",
       "  background-color: var(--sklearn-color-background);\n",
       "  border-radius: 1em;\n",
       "  height: 1em;\n",
       "  width: 1em;\n",
       "  text-decoration: none !important;\n",
       "  margin-left: 1ex;\n",
       "  /* unfitted */\n",
       "  border: var(--sklearn-color-unfitted-level-1) 1pt solid;\n",
       "  color: var(--sklearn-color-unfitted-level-1);\n",
       "}\n",
       "\n",
       ".sk-estimator-doc-link.fitted,\n",
       "a:link.sk-estimator-doc-link.fitted,\n",
       "a:visited.sk-estimator-doc-link.fitted {\n",
       "  /* fitted */\n",
       "  border: var(--sklearn-color-fitted-level-1) 1pt solid;\n",
       "  color: var(--sklearn-color-fitted-level-1);\n",
       "}\n",
       "\n",
       "/* On hover */\n",
       "div.sk-estimator:hover .sk-estimator-doc-link:hover,\n",
       ".sk-estimator-doc-link:hover,\n",
       "div.sk-label-container:hover .sk-estimator-doc-link:hover,\n",
       ".sk-estimator-doc-link:hover {\n",
       "  /* unfitted */\n",
       "  background-color: var(--sklearn-color-unfitted-level-3);\n",
       "  color: var(--sklearn-color-background);\n",
       "  text-decoration: none;\n",
       "}\n",
       "\n",
       "div.sk-estimator.fitted:hover .sk-estimator-doc-link.fitted:hover,\n",
       ".sk-estimator-doc-link.fitted:hover,\n",
       "div.sk-label-container:hover .sk-estimator-doc-link.fitted:hover,\n",
       ".sk-estimator-doc-link.fitted:hover {\n",
       "  /* fitted */\n",
       "  background-color: var(--sklearn-color-fitted-level-3);\n",
       "  color: var(--sklearn-color-background);\n",
       "  text-decoration: none;\n",
       "}\n",
       "\n",
       "/* Span, style for the box shown on hovering the info icon */\n",
       ".sk-estimator-doc-link span {\n",
       "  display: none;\n",
       "  z-index: 9999;\n",
       "  position: relative;\n",
       "  font-weight: normal;\n",
       "  right: .2ex;\n",
       "  padding: .5ex;\n",
       "  margin: .5ex;\n",
       "  width: min-content;\n",
       "  min-width: 20ex;\n",
       "  max-width: 50ex;\n",
       "  color: var(--sklearn-color-text);\n",
       "  box-shadow: 2pt 2pt 4pt #999;\n",
       "  /* unfitted */\n",
       "  background: var(--sklearn-color-unfitted-level-0);\n",
       "  border: .5pt solid var(--sklearn-color-unfitted-level-3);\n",
       "}\n",
       "\n",
       ".sk-estimator-doc-link.fitted span {\n",
       "  /* fitted */\n",
       "  background: var(--sklearn-color-fitted-level-0);\n",
       "  border: var(--sklearn-color-fitted-level-3);\n",
       "}\n",
       "\n",
       ".sk-estimator-doc-link:hover span {\n",
       "  display: block;\n",
       "}\n",
       "\n",
       "/* \"?\"-specific style due to the `<a>` HTML tag */\n",
       "\n",
       "#sk-container-id-1 a.estimator_doc_link {\n",
       "  float: right;\n",
       "  font-size: 1rem;\n",
       "  line-height: 1em;\n",
       "  font-family: monospace;\n",
       "  background-color: var(--sklearn-color-background);\n",
       "  border-radius: 1rem;\n",
       "  height: 1rem;\n",
       "  width: 1rem;\n",
       "  text-decoration: none;\n",
       "  /* unfitted */\n",
       "  color: var(--sklearn-color-unfitted-level-1);\n",
       "  border: var(--sklearn-color-unfitted-level-1) 1pt solid;\n",
       "}\n",
       "\n",
       "#sk-container-id-1 a.estimator_doc_link.fitted {\n",
       "  /* fitted */\n",
       "  border: var(--sklearn-color-fitted-level-1) 1pt solid;\n",
       "  color: var(--sklearn-color-fitted-level-1);\n",
       "}\n",
       "\n",
       "/* On hover */\n",
       "#sk-container-id-1 a.estimator_doc_link:hover {\n",
       "  /* unfitted */\n",
       "  background-color: var(--sklearn-color-unfitted-level-3);\n",
       "  color: var(--sklearn-color-background);\n",
       "  text-decoration: none;\n",
       "}\n",
       "\n",
       "#sk-container-id-1 a.estimator_doc_link.fitted:hover {\n",
       "  /* fitted */\n",
       "  background-color: var(--sklearn-color-fitted-level-3);\n",
       "}\n",
       "</style><div id=\"sk-container-id-1\" class=\"sk-top-container\"><div class=\"sk-text-repr-fallback\"><pre>XGBClassifier(base_score=None, booster=None, callbacks=None,\n",
       "              colsample_bylevel=None, colsample_bynode=0.2238346931915145,\n",
       "              colsample_bytree=None, device=None, early_stopping_rounds=None,\n",
       "              enable_categorical=False,\n",
       "              eval_metric=&lt;function custom_f1_score at 0x7f8a38bcf9c0&gt;,\n",
       "              feature_types=None, gamma=None, grow_policy=None,\n",
       "              importance_type=None, interaction_constraints=None,\n",
       "              learning_rate=0.20788980553537192, max_bin=None,\n",
       "              max_cat_threshold=None, max_cat_to_onehot=None,\n",
       "              max_delta_step=None, max_depth=10, max_leaves=None,\n",
       "              min_child_weight=1, missing=nan, monotone_constraints=None,\n",
       "              multi_strategy=None, n_estimators=1, n_jobs=None,\n",
       "              num_parallel_tree=None, objective=&#x27;multi:softprob&#x27;, ...)</pre><b>In a Jupyter environment, please rerun this cell to show the HTML representation or trust the notebook. <br />On GitHub, the HTML representation is unable to render, please try loading this page with nbviewer.org.</b></div><div class=\"sk-container\" hidden><div class=\"sk-item\"><div class=\"sk-estimator fitted sk-toggleable\"><input class=\"sk-toggleable__control sk-hidden--visually\" id=\"sk-estimator-id-1\" type=\"checkbox\" checked><label for=\"sk-estimator-id-1\" class=\"sk-toggleable__label fitted sk-toggleable__label-arrow fitted\">&nbsp;XGBClassifier<span class=\"sk-estimator-doc-link fitted\">i<span>Fitted</span></span></label><div class=\"sk-toggleable__content fitted\"><pre>XGBClassifier(base_score=None, booster=None, callbacks=None,\n",
       "              colsample_bylevel=None, colsample_bynode=0.2238346931915145,\n",
       "              colsample_bytree=None, device=None, early_stopping_rounds=None,\n",
       "              enable_categorical=False,\n",
       "              eval_metric=&lt;function custom_f1_score at 0x7f8a38bcf9c0&gt;,\n",
       "              feature_types=None, gamma=None, grow_policy=None,\n",
       "              importance_type=None, interaction_constraints=None,\n",
       "              learning_rate=0.20788980553537192, max_bin=None,\n",
       "              max_cat_threshold=None, max_cat_to_onehot=None,\n",
       "              max_delta_step=None, max_depth=10, max_leaves=None,\n",
       "              min_child_weight=1, missing=nan, monotone_constraints=None,\n",
       "              multi_strategy=None, n_estimators=1, n_jobs=None,\n",
       "              num_parallel_tree=None, objective=&#x27;multi:softprob&#x27;, ...)</pre></div> </div></div></div></div>"
      ],
      "text/plain": [
       "XGBClassifier(base_score=None, booster=None, callbacks=None,\n",
       "              colsample_bylevel=None, colsample_bynode=0.2238346931915145,\n",
       "              colsample_bytree=None, device=None, early_stopping_rounds=None,\n",
       "              enable_categorical=False,\n",
       "              eval_metric=<function custom_f1_score at 0x7f8a38bcf9c0>,\n",
       "              feature_types=None, gamma=None, grow_policy=None,\n",
       "              importance_type=None, interaction_constraints=None,\n",
       "              learning_rate=0.20788980553537192, max_bin=None,\n",
       "              max_cat_threshold=None, max_cat_to_onehot=None,\n",
       "              max_delta_step=None, max_depth=10, max_leaves=None,\n",
       "              min_child_weight=1, missing=nan, monotone_constraints=None,\n",
       "              multi_strategy=None, n_estimators=1, n_jobs=None,\n",
       "              num_parallel_tree=None, objective='multi:softprob', ...)"
      ]
     },
     "execution_count": 21,
     "metadata": {},
     "output_type": "execute_result"
    }
   ],
   "source": [
    "n_estimators = int(study.best_trial.user_attrs['best_iteration']*1.2)\n",
    "xgb = xgboost.XGBClassifier(\n",
    "        eval_metric=eval_metric,\n",
    "        n_estimators=n_estimators,\n",
    "        **study.best_trial.params\n",
    "    )\n",
    "xgb.fit(\n",
    "    ssp.vstack((X_train, X_val)), \n",
    "    np.concatenate((y_train_enc, y_val_enc)),\n",
    "    verbose=1,\n",
    ")"
   ]
  },
  {
   "cell_type": "code",
   "execution_count": 22,
   "id": "32e7d67c",
   "metadata": {
    "execution": {
     "iopub.execute_input": "2025-05-15T16:15:59.751676Z",
     "iopub.status.busy": "2025-05-15T16:15:59.751463Z",
     "iopub.status.idle": "2025-05-15T16:15:59.786325Z",
     "shell.execute_reply": "2025-05-15T16:15:59.785914Z"
    },
    "papermill": {
     "duration": 0.045874,
     "end_time": "2025-05-15T16:15:59.787333",
     "exception": false,
     "start_time": "2025-05-15T16:15:59.741459",
     "status": "completed"
    },
    "tags": []
   },
   "outputs": [
    {
     "data": {
      "text/plain": [
       "['/scratch_isilon/groups/singlecell/shared/projects/Inflammation-PBMCs-Atlas/03_downstream_analysis/08_gene_importance/xgboost_external_validation/xgboost_TopN_genes/results_20/best_model/Plasma_14_1_xgb.json']"
      ]
     },
     "execution_count": 22,
     "metadata": {},
     "output_type": "execute_result"
    }
   ],
   "source": [
    "out_dir = here(f'03_downstream_analysis/08_gene_importance/xgboost_external_validation/xgboost_TopN_genes/results_{N_GENES}/best_model')\n",
    "\n",
    "if not os.path.exists(out_dir):\n",
    "    os.makedirs(out_dir)\n",
    "    \n",
    "joblib.dump(xgb, os.path.join(out_dir, f'{CELL_TYPE}_{SEED}_{TEST_SPLIT_IDX}_xgb.json'))"
   ]
  },
  {
   "cell_type": "code",
   "execution_count": 23,
   "id": "f173e644",
   "metadata": {
    "execution": {
     "iopub.execute_input": "2025-05-15T16:15:59.806656Z",
     "iopub.status.busy": "2025-05-15T16:15:59.806454Z",
     "iopub.status.idle": "2025-05-15T16:15:59.814854Z",
     "shell.execute_reply": "2025-05-15T16:15:59.814496Z"
    },
    "papermill": {
     "duration": 0.019207,
     "end_time": "2025-05-15T16:15:59.815860",
     "exception": false,
     "start_time": "2025-05-15T16:15:59.796653",
     "status": "completed"
    },
    "tags": []
   },
   "outputs": [],
   "source": [
    "df_pred_test = pd.DataFrame(dict(\n",
    "    cell_id=train_adata.obs.iloc[test_idxs].index.values,\n",
    "    y_true=y_test, \n",
    "    y_true_code=y_test_enc, \n",
    "    y_pred=xgb.predict(X_test))).set_index('cell_id')"
   ]
  },
  {
   "cell_type": "code",
   "execution_count": 24,
   "id": "9de046c1",
   "metadata": {
    "execution": {
     "iopub.execute_input": "2025-05-15T16:15:59.839912Z",
     "iopub.status.busy": "2025-05-15T16:15:59.839709Z",
     "iopub.status.idle": "2025-05-15T16:15:59.852787Z",
     "shell.execute_reply": "2025-05-15T16:15:59.852356Z"
    },
    "papermill": {
     "duration": 0.024235,
     "end_time": "2025-05-15T16:15:59.853850",
     "exception": false,
     "start_time": "2025-05-15T16:15:59.829615",
     "status": "completed"
    },
    "tags": []
   },
   "outputs": [],
   "source": [
    "out_dir = here(f'03_downstream_analysis/08_gene_importance/xgboost_external_validation/xgboost_TopN_genes/results_{N_GENES}/predictions')\n",
    "\n",
    "if not os.path.exists(out_dir):\n",
    "    os.makedirs(out_dir)\n",
    "    \n",
    "df_pred_test.to_csv(os.path.join(out_dir, f'{CELL_TYPE}_{SEED}_{TEST_SPLIT_IDX}_pred_test.zip'))"
   ]
  },
  {
   "cell_type": "code",
   "execution_count": 25,
   "id": "37c1d5e5",
   "metadata": {
    "execution": {
     "iopub.execute_input": "2025-05-15T16:15:59.891028Z",
     "iopub.status.busy": "2025-05-15T16:15:59.890814Z",
     "iopub.status.idle": "2025-05-15T16:15:59.896953Z",
     "shell.execute_reply": "2025-05-15T16:15:59.896599Z"
    },
    "papermill": {
     "duration": 0.034426,
     "end_time": "2025-05-15T16:15:59.897901",
     "exception": false,
     "start_time": "2025-05-15T16:15:59.863475",
     "status": "completed"
    },
    "tags": []
   },
   "outputs": [],
   "source": [
    "metrics_dict = dict(\n",
    "    BAS=balanced_accuracy_score(y_true=df_pred_test.y_true_code, y_pred=df_pred_test.y_pred), WF1=f1_score(y_true=df_pred_test.y_true_code, y_pred=df_pred_test.y_pred,average='weighted'))"
   ]
  },
  {
   "cell_type": "code",
   "execution_count": 26,
   "id": "991e6f46",
   "metadata": {
    "execution": {
     "iopub.execute_input": "2025-05-15T16:15:59.935408Z",
     "iopub.status.busy": "2025-05-15T16:15:59.935171Z",
     "iopub.status.idle": "2025-05-15T16:15:59.938440Z",
     "shell.execute_reply": "2025-05-15T16:15:59.938070Z"
    },
    "papermill": {
     "duration": 0.031878,
     "end_time": "2025-05-15T16:15:59.939418",
     "exception": false,
     "start_time": "2025-05-15T16:15:59.907540",
     "status": "completed"
    },
    "tags": []
   },
   "outputs": [
    {
     "data": {
      "text/plain": [
       "{'BAS': 0.3100980106494812, 'WF1': 0.39726234091513024}"
      ]
     },
     "execution_count": 26,
     "metadata": {},
     "output_type": "execute_result"
    }
   ],
   "source": [
    "metrics_dict"
   ]
  },
  {
   "cell_type": "code",
   "execution_count": 27,
   "id": "e5d3ac02",
   "metadata": {
    "execution": {
     "iopub.execute_input": "2025-05-15T16:15:59.960162Z",
     "iopub.status.busy": "2025-05-15T16:15:59.959868Z",
     "iopub.status.idle": "2025-05-15T16:15:59.970113Z",
     "shell.execute_reply": "2025-05-15T16:15:59.969757Z"
    },
    "papermill": {
     "duration": 0.021318,
     "end_time": "2025-05-15T16:15:59.971052",
     "exception": false,
     "start_time": "2025-05-15T16:15:59.949734",
     "status": "completed"
    },
    "tags": []
   },
   "outputs": [
    {
     "data": {
      "text/html": [
       "<div>\n",
       "<style scoped>\n",
       "    .dataframe tbody tr th:only-of-type {\n",
       "        vertical-align: middle;\n",
       "    }\n",
       "\n",
       "    .dataframe tbody tr th {\n",
       "        vertical-align: top;\n",
       "    }\n",
       "\n",
       "    .dataframe thead th {\n",
       "        text-align: right;\n",
       "    }\n",
       "</style>\n",
       "<table border=\"1\" class=\"dataframe\">\n",
       "  <thead>\n",
       "    <tr style=\"text-align: right;\">\n",
       "      <th></th>\n",
       "      <th>BAS</th>\n",
       "      <th>WF1</th>\n",
       "      <th>split_idx</th>\n",
       "      <th>gene_set_seed</th>\n",
       "      <th>cell_type</th>\n",
       "    </tr>\n",
       "  </thead>\n",
       "  <tbody>\n",
       "    <tr>\n",
       "      <th>0</th>\n",
       "      <td>0.310098</td>\n",
       "      <td>0.397262</td>\n",
       "      <td>1</td>\n",
       "      <td>14</td>\n",
       "      <td>Plasma</td>\n",
       "    </tr>\n",
       "  </tbody>\n",
       "</table>\n",
       "</div>"
      ],
      "text/plain": [
       "        BAS       WF1  split_idx  gene_set_seed cell_type\n",
       "0  0.310098  0.397262          1             14    Plasma"
      ]
     },
     "execution_count": 27,
     "metadata": {},
     "output_type": "execute_result"
    }
   ],
   "source": [
    "metrics_df = pd.DataFrame.from_dict([metrics_dict]).assign(split_idx=TEST_SPLIT_IDX, gene_set_seed=SEED, cell_type=CELL_TYPE)\n",
    "metrics_df"
   ]
  },
  {
   "cell_type": "code",
   "execution_count": 28,
   "id": "86e3189f",
   "metadata": {
    "execution": {
     "iopub.execute_input": "2025-05-15T16:15:59.991662Z",
     "iopub.status.busy": "2025-05-15T16:15:59.991359Z",
     "iopub.status.idle": "2025-05-15T16:15:59.999819Z",
     "shell.execute_reply": "2025-05-15T16:15:59.999383Z"
    },
    "papermill": {
     "duration": 0.019906,
     "end_time": "2025-05-15T16:16:00.000860",
     "exception": false,
     "start_time": "2025-05-15T16:15:59.980954",
     "status": "completed"
    },
    "tags": []
   },
   "outputs": [],
   "source": [
    "out_dir = here(f'03_downstream_analysis/08_gene_importance/xgboost_external_validation/xgboost_TopN_genes/results_{N_GENES}/metrics')\n",
    "\n",
    "if not os.path.exists(out_dir):\n",
    "    os.makedirs(out_dir)\n",
    "    \n",
    "metrics_df.to_csv(os.path.join(out_dir, f'{CELL_TYPE}_{SEED}_{TEST_SPLIT_IDX}_metrics.zip'))"
   ]
  }
 ],
 "metadata": {
  "kernelspec": {
   "display_name": "Python 3 (ipykernel)",
   "language": "python",
   "name": "python3"
  },
  "language_info": {
   "codemirror_mode": {
    "name": "ipython",
    "version": 3
   },
   "file_extension": ".py",
   "mimetype": "text/x-python",
   "name": "python",
   "nbconvert_exporter": "python",
   "pygments_lexer": "ipython3",
   "version": "3.12.5"
  },
  "papermill": {
   "default_parameters": {},
   "duration": 17.719293,
   "end_time": "2025-05-15T16:16:00.627220",
   "environment_variables": {},
   "exception": null,
   "input_path": "02_xgboost_fitting_external_20genes.ipynb",
   "output_path": "results_20/executed_notebooks/xgboost_fitting_external_CT_Plasma_GS_14_seed1.ipynb",
   "parameters": {
    "CELL_TYPE": "Plasma",
    "SEED": 14,
    "TEST_SPLIT_IDX": 1
   },
   "start_time": "2025-05-15T16:15:42.907927",
   "version": "2.6.0"
  }
 },
 "nbformat": 4,
 "nbformat_minor": 5
}