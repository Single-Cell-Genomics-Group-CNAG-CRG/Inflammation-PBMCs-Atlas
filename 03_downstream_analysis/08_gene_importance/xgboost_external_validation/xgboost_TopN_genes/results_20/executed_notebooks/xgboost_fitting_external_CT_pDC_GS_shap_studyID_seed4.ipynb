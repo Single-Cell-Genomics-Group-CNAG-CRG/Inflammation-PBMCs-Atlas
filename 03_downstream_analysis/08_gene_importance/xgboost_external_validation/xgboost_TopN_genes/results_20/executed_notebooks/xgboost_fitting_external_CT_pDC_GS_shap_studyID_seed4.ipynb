{
 "cells": [
  {
   "cell_type": "code",
   "execution_count": 1,
   "id": "612520f7",
   "metadata": {
    "editable": true,
    "execution": {
     "iopub.execute_input": "2025-05-14T16:10:40.628239Z",
     "iopub.status.busy": "2025-05-14T16:10:40.627712Z",
     "iopub.status.idle": "2025-05-14T16:10:40.630687Z",
     "shell.execute_reply": "2025-05-14T16:10:40.630370Z"
    },
    "papermill": {
     "duration": 0.011395,
     "end_time": "2025-05-14T16:10:40.631600",
     "exception": false,
     "start_time": "2025-05-14T16:10:40.620205",
     "status": "completed"
    },
    "slideshow": {
     "slide_type": ""
    },
    "tags": [
     "parameters"
    ]
   },
   "outputs": [],
   "source": [
    "CELL_TYPE = 'pDC'\n",
    "N_GENES: int = 20\n",
    "SEED = 'shap_studyID' #'disease_NOstudy' 'study_NOdisease' or 'int' or 'shap_studyID'\n",
    "TEST_SPLIT_IDX: int = 1 #[0,4]"
   ]
  },
  {
   "cell_type": "code",
   "execution_count": 2,
   "id": "2823aa75",
   "metadata": {
    "execution": {
     "iopub.execute_input": "2025-05-14T16:10:40.645427Z",
     "iopub.status.busy": "2025-05-14T16:10:40.645109Z",
     "iopub.status.idle": "2025-05-14T16:10:40.647654Z",
     "shell.execute_reply": "2025-05-14T16:10:40.647306Z"
    },
    "papermill": {
     "duration": 0.009062,
     "end_time": "2025-05-14T16:10:40.648461",
     "exception": false,
     "start_time": "2025-05-14T16:10:40.639399",
     "status": "completed"
    },
    "tags": [
     "injected-parameters"
    ]
   },
   "outputs": [],
   "source": [
    "# Parameters\n",
    "CELL_TYPE = \"pDC\"\n",
    "SEED = \"shap_studyID\"\n",
    "TEST_SPLIT_IDX = 4\n"
   ]
  },
  {
   "cell_type": "code",
   "execution_count": 3,
   "id": "3e0e3bf4",
   "metadata": {
    "execution": {
     "iopub.execute_input": "2025-05-14T16:10:40.668280Z",
     "iopub.status.busy": "2025-05-14T16:10:40.667805Z",
     "iopub.status.idle": "2025-05-14T16:10:40.670279Z",
     "shell.execute_reply": "2025-05-14T16:10:40.669900Z"
    },
    "papermill": {
     "duration": 0.00899,
     "end_time": "2025-05-14T16:10:40.671163",
     "exception": false,
     "start_time": "2025-05-14T16:10:40.662173",
     "status": "completed"
    },
    "tags": []
   },
   "outputs": [],
   "source": [
    "N_SPLITS: int = 5\n",
    "N_TRIALS: int = 50"
   ]
  },
  {
   "cell_type": "code",
   "execution_count": 4,
   "id": "dca64ac8",
   "metadata": {
    "execution": {
     "iopub.execute_input": "2025-05-14T16:10:40.691440Z",
     "iopub.status.busy": "2025-05-14T16:10:40.691025Z",
     "iopub.status.idle": "2025-05-14T16:10:42.262259Z",
     "shell.execute_reply": "2025-05-14T16:10:42.261742Z"
    },
    "papermill": {
     "duration": 1.587541,
     "end_time": "2025-05-14T16:10:42.263736",
     "exception": false,
     "start_time": "2025-05-14T16:10:40.676195",
     "status": "completed"
    },
    "tags": []
   },
   "outputs": [],
   "source": [
    "import os\n",
    "import sys\n",
    "from pyprojroot.here import here\n",
    "import pandas as pd\n",
    "import anndata as ad\n",
    "import numpy as np\n",
    "import math\n",
    "from sklearn.model_selection import StratifiedGroupKFold\n",
    "from sklearn.preprocessing import LabelEncoder\n",
    "from sklearn.metrics import f1_score\n",
    "import matplotlib.pyplot as plt\n",
    "import seaborn as sns\n",
    "from itertools import product\n",
    "from sklearn.metrics import balanced_accuracy_score, f1_score\n",
    "import optuna\n",
    "\n",
    "import joblib\n",
    "import pickle\n",
    "import datetime\n",
    "\n",
    "import collections\n",
    "\n",
    "import xgboost\n",
    "from sklearn.preprocessing import LabelEncoder\n",
    "\n",
    "import scipy.sparse as ssp\n",
    "import joblib\n",
    "\n",
    "from dotenv import load_dotenv"
   ]
  },
  {
   "cell_type": "code",
   "execution_count": 5,
   "id": "026d76db",
   "metadata": {
    "execution": {
     "iopub.execute_input": "2025-05-14T16:10:42.304374Z",
     "iopub.status.busy": "2025-05-14T16:10:42.303725Z",
     "iopub.status.idle": "2025-05-14T16:10:42.309691Z",
     "shell.execute_reply": "2025-05-14T16:10:42.309369Z"
    },
    "papermill": {
     "duration": 0.038621,
     "end_time": "2025-05-14T16:10:42.310595",
     "exception": false,
     "start_time": "2025-05-14T16:10:42.271974",
     "status": "completed"
    },
    "tags": []
   },
   "outputs": [
    {
     "data": {
      "text/plain": [
       "True"
      ]
     },
     "execution_count": 5,
     "metadata": {},
     "output_type": "execute_result"
    }
   ],
   "source": [
    "load_dotenv()"
   ]
  },
  {
   "cell_type": "markdown",
   "id": "6529d14a",
   "metadata": {
    "papermill": {
     "duration": 0.018267,
     "end_time": "2025-05-14T16:10:42.333984",
     "exception": false,
     "start_time": "2025-05-14T16:10:42.315717",
     "status": "completed"
    },
    "tags": []
   },
   "source": [
    "# LOAD DATASET"
   ]
  },
  {
   "cell_type": "code",
   "execution_count": 6,
   "id": "a96cc15b",
   "metadata": {
    "execution": {
     "iopub.execute_input": "2025-05-14T16:10:42.348362Z",
     "iopub.status.busy": "2025-05-14T16:10:42.348216Z",
     "iopub.status.idle": "2025-05-14T16:10:42.406240Z",
     "shell.execute_reply": "2025-05-14T16:10:42.405824Z"
    },
    "papermill": {
     "duration": 0.068263,
     "end_time": "2025-05-14T16:10:42.407536",
     "exception": false,
     "start_time": "2025-05-14T16:10:42.339273",
     "status": "completed"
    },
    "tags": []
   },
   "outputs": [],
   "source": [
    "train_adata = ad.read_h5ad(\n",
    "    here(f'03_downstream_analysis/08_gene_importance/xgboost_external_validation/xgboost_TopN_genes/data_cellTypes/EXTERNAL_{CELL_TYPE}.filtered.log1p.h5ad')\n",
    ")"
   ]
  },
  {
   "cell_type": "code",
   "execution_count": 7,
   "id": "7369ae2e",
   "metadata": {
    "execution": {
     "iopub.execute_input": "2025-05-14T16:10:42.419982Z",
     "iopub.status.busy": "2025-05-14T16:10:42.419706Z",
     "iopub.status.idle": "2025-05-14T16:10:42.431049Z",
     "shell.execute_reply": "2025-05-14T16:10:42.430628Z"
    },
    "papermill": {
     "duration": 0.018713,
     "end_time": "2025-05-14T16:10:42.431974",
     "exception": false,
     "start_time": "2025-05-14T16:10:42.413261",
     "status": "completed"
    },
    "tags": []
   },
   "outputs": [
    {
     "name": "stdout",
     "output_type": "stream",
     "text": [
      "['ENSG00000138107' 'ENSG00000115073' 'ENSG00000142208' 'ENSG00000105221'\n",
      " 'ENSG00000122359' 'ENSG00000072958' 'ENSG00000182287' 'ENSG00000006125'\n",
      " 'ENSG00000165527' 'ENSG00000152219' 'ENSG00000170540' 'ENSG00000144746'\n",
      " 'ENSG00000130429' 'ENSG00000162704' 'ENSG00000123268' 'ENSG00000152234'\n",
      " 'ENSG00000099624' 'ENSG00000185883' 'ENSG00000030110' 'ENSG00000134107'\n",
      " 'ENSG00000015475' 'ENSG00000258315' 'ENSG00000198668' 'ENSG00000143933'\n",
      " 'ENSG00000126353' 'ENSG00000104894' 'ENSG00000114013' 'ENSG00000002586'\n",
      " 'ENSG00000126759' 'ENSG00000169583' 'ENSG00000162368' 'ENSG00000103187'\n",
      " 'ENSG00000182578' 'ENSG00000198223' 'ENSG00000100368' 'ENSG00000101439'\n",
      " 'ENSG00000117984' 'ENSG00000163131' 'ENSG00000051523' 'ENSG00000104671'\n",
      " 'ENSG00000099958' 'ENSG00000120129' 'ENSG00000158050' 'ENSG00000077380'\n",
      " 'ENSG00000107223' 'ENSG00000254772' 'ENSG00000142634' 'ENSG00000142227'\n",
      " 'ENSG00000134954' 'ENSG00000158769' 'ENSG00000179639' 'ENSG00000085265'\n",
      " 'ENSG00000189283' 'ENSG00000125740' 'ENSG00000075426' 'ENSG00000140564'\n",
      " 'ENSG00000082074' 'ENSG00000170296' 'ENSG00000135821' 'ENSG00000130755'\n",
      " 'ENSG00000242616' 'ENSG00000030582' 'ENSG00000084207' 'ENSG00000100453'\n",
      " 'ENSG00000100450' 'ENSG00000184897' 'ENSG00000132475' 'ENSG00000101336'\n",
      " 'ENSG00000204525' 'ENSG00000204257' 'ENSG00000242574' 'ENSG00000198502'\n",
      " 'ENSG00000164104' 'ENSG00000090339' 'ENSG00000108622' 'ENSG00000216490'\n",
      " 'ENSG00000185885' 'ENSG00000142089' 'ENSG00000142166' 'ENSG00000027697'\n",
      " 'ENSG00000159128' 'ENSG00000243646' 'ENSG00000172349' 'ENSG00000150782'\n",
      " 'ENSG00000147168' 'ENSG00000213928' 'ENSG00000115232' 'ENSG00000132465'\n",
      " 'ENSG00000143543' 'ENSG00000121774' 'ENSG00000079616' 'ENSG00000068796'\n",
      " 'ENSG00000075945' 'ENSG00000127528' 'ENSG00000136826' 'ENSG00000186395'\n",
      " 'ENSG00000111716' 'ENSG00000131042' 'ENSG00000203896' 'ENSG00000188906'\n",
      " 'ENSG00000227507' 'ENSG00000254087' 'ENSG00000090382' 'ENSG00000107968'\n",
      " 'ENSG00000168389' 'ENSG00000071073' 'ENSG00000130830' 'ENSG00000197965'\n",
      " 'ENSG00000059728' 'ENSG00000172936' 'ENSG00000152082' 'ENSG00000116701'\n",
      " 'ENSG00000100365' 'ENSG00000186010' 'ENSG00000120837' 'ENSG00000066136'\n",
      " 'ENSG00000243678' 'ENSG00000105373' 'ENSG00000169564' 'ENSG00000197111'\n",
      " 'ENSG00000167004' 'ENSG00000108518' 'ENSG00000033800' 'ENSG00000131788'\n",
      " 'ENSG00000141506' 'ENSG00000198355' 'ENSG00000175482' 'ENSG00000172531'\n",
      " 'ENSG00000129084' 'ENSG00000106588' 'ENSG00000184007' 'ENSG00000179295'\n",
      " 'ENSG00000175354' 'ENSG00000168461' 'ENSG00000108774' 'ENSG00000128340'\n",
      " 'ENSG00000127314' 'ENSG00000173039' 'ENSG00000148908' 'ENSG00000219200'\n",
      " 'ENSG00000026297' 'ENSG00000143546' 'ENSG00000152700' 'ENSG00000113615'\n",
      " 'ENSG00000138674' 'ENSG00000065665' 'ENSG00000110876' 'ENSG00000138623'\n",
      " 'ENSG00000120742' 'ENSG00000166949' 'ENSG00000183172' 'ENSG00000185338'\n",
      " 'ENSG00000184557' 'ENSG00000159674' 'ENSG00000122862' 'ENSG00000160075'\n",
      " 'ENSG00000173757' 'ENSG00000100321' 'ENSG00000108639' 'ENSG00000204267'\n",
      " 'ENSG00000105329' 'ENSG00000172009' 'ENSG00000243749' 'ENSG00000205542'\n",
      " 'ENSG00000157873' 'ENSG00000161955' 'ENSG00000102524' 'ENSG00000009790'\n",
      " 'ENSG00000175104' 'ENSG00000181029' 'ENSG00000123416' 'ENSG00000265972'\n",
      " 'ENSG00000244687' 'ENSG00000110057' 'ENSG00000105583' 'ENSG00000065978']\n"
     ]
    }
   ],
   "source": [
    "if SEED != 'all':\n",
    "    gene_subset = np.load(here(f'03_downstream_analysis/08_gene_importance/xgboost_external_validation/shap_gene_selection/gene_subsets_{N_GENES}/{CELL_TYPE}_{SEED}.npy'), allow_pickle=True)\n",
    "    train_adata = train_adata[:,gene_subset]\n",
    "    print(gene_subset)\n",
    "elif SEED == 'all':\n",
    "    print('Using all genes')\n",
    "else:\n",
    "    raise ValueError()"
   ]
  },
  {
   "cell_type": "code",
   "execution_count": 8,
   "id": "621a6155",
   "metadata": {
    "execution": {
     "iopub.execute_input": "2025-05-14T16:10:42.443667Z",
     "iopub.status.busy": "2025-05-14T16:10:42.443440Z",
     "iopub.status.idle": "2025-05-14T16:10:42.446748Z",
     "shell.execute_reply": "2025-05-14T16:10:42.446423Z"
    },
    "papermill": {
     "duration": 0.010195,
     "end_time": "2025-05-14T16:10:42.447561",
     "exception": false,
     "start_time": "2025-05-14T16:10:42.437366",
     "status": "completed"
    },
    "tags": []
   },
   "outputs": [
    {
     "data": {
      "text/plain": [
       "(2320, 176)"
      ]
     },
     "execution_count": 8,
     "metadata": {},
     "output_type": "execute_result"
    }
   ],
   "source": [
    "train_adata.shape"
   ]
  },
  {
   "cell_type": "code",
   "execution_count": 9,
   "id": "e4dc0118",
   "metadata": {
    "execution": {
     "iopub.execute_input": "2025-05-14T16:10:42.460027Z",
     "iopub.status.busy": "2025-05-14T16:10:42.459548Z",
     "iopub.status.idle": "2025-05-14T16:10:42.463289Z",
     "shell.execute_reply": "2025-05-14T16:10:42.462965Z"
    },
    "papermill": {
     "duration": 0.010451,
     "end_time": "2025-05-14T16:10:42.464155",
     "exception": false,
     "start_time": "2025-05-14T16:10:42.453704",
     "status": "completed"
    },
    "tags": []
   },
   "outputs": [
    {
     "data": {
      "text/plain": [
       "['RA', 'healthy', 'COVID', 'HIV', 'cirrhosis', 'CD', 'SLE', 'sepsis']\n",
       "Categories (8, object): ['CD', 'COVID', 'HIV', 'RA', 'SLE', 'cirrhosis', 'healthy', 'sepsis']"
      ]
     },
     "execution_count": 9,
     "metadata": {},
     "output_type": "execute_result"
    }
   ],
   "source": [
    "train_adata.obs.disease.unique()"
   ]
  },
  {
   "cell_type": "code",
   "execution_count": 10,
   "id": "2213d027",
   "metadata": {
    "execution": {
     "iopub.execute_input": "2025-05-14T16:10:42.476345Z",
     "iopub.status.busy": "2025-05-14T16:10:42.475969Z",
     "iopub.status.idle": "2025-05-14T16:10:42.479905Z",
     "shell.execute_reply": "2025-05-14T16:10:42.479569Z"
    },
    "papermill": {
     "duration": 0.010937,
     "end_time": "2025-05-14T16:10:42.480771",
     "exception": false,
     "start_time": "2025-05-14T16:10:42.469834",
     "status": "completed"
    },
    "tags": []
   },
   "outputs": [
    {
     "data": {
      "text/plain": [
       "['SCGT00val_I036023_T0', 'SCGT00val_I036024_T0', 'SCGT00val_I0364_T0', 'SCGT00val_I036015_T0', 'SCGT00val_I036019_T0', ..., '10XGenomics_10XHC2_T0', '10XGenomics_10XHC3_T0', '10XGenomics_10XHC5_T0', '10XGenomics_10XHC7_T0', '10XGenomics_10XHC8_T0']\n",
       "Length: 77\n",
       "Categories (77, object): ['10XGenomics_10XHC1_T0', '10XGenomics_10XHC2_T0', '10XGenomics_10XHC3_T0', '10XGenomics_10XHC4_T0', ..., 'Savage2021_BRISL6_T0', 'Savage2021_BRISL7_T0', 'Savage2021_PIDA_T0', 'Savage2021_PIDB_T0']"
      ]
     },
     "execution_count": 10,
     "metadata": {},
     "output_type": "execute_result"
    }
   ],
   "source": [
    "train_adata.obs.sampleID.unique()"
   ]
  },
  {
   "cell_type": "code",
   "execution_count": 11,
   "id": "4347daf3",
   "metadata": {
    "execution": {
     "iopub.execute_input": "2025-05-14T16:10:42.493015Z",
     "iopub.status.busy": "2025-05-14T16:10:42.492650Z",
     "iopub.status.idle": "2025-05-14T16:10:42.527525Z",
     "shell.execute_reply": "2025-05-14T16:10:42.527086Z"
    },
    "papermill": {
     "duration": 0.041882,
     "end_time": "2025-05-14T16:10:42.528384",
     "exception": false,
     "start_time": "2025-05-14T16:10:42.486502",
     "status": "completed"
    },
    "tags": []
   },
   "outputs": [
    {
     "name": "stderr",
     "output_type": "stream",
     "text": [
      "/scratch_isilon/groups/singlecell/shared/conda_env/xgboost-cpu/lib/python3.12/site-packages/sklearn/model_selection/_split.py:994: UserWarning: The least populated class in y has only 4 members, which is less than n_splits=5.\n",
      "  warnings.warn(\n"
     ]
    }
   ],
   "source": [
    "all_idxs = np.arange(train_adata.obs.shape[0])\n",
    "left_out_splits = [s[1] for s in StratifiedGroupKFold(n_splits=N_SPLITS).split(all_idxs, train_adata.obs.disease, train_adata.obs.sampleID)]"
   ]
  },
  {
   "cell_type": "code",
   "execution_count": 12,
   "id": "73381817",
   "metadata": {
    "execution": {
     "iopub.execute_input": "2025-05-14T16:10:42.541373Z",
     "iopub.status.busy": "2025-05-14T16:10:42.541146Z",
     "iopub.status.idle": "2025-05-14T16:10:42.545220Z",
     "shell.execute_reply": "2025-05-14T16:10:42.544845Z"
    },
    "papermill": {
     "duration": 0.011542,
     "end_time": "2025-05-14T16:10:42.546169",
     "exception": false,
     "start_time": "2025-05-14T16:10:42.534627",
     "status": "completed"
    },
    "tags": []
   },
   "outputs": [
    {
     "data": {
      "text/plain": [
       "([1, 2, 3], 0, 4)"
      ]
     },
     "execution_count": 12,
     "metadata": {},
     "output_type": "execute_result"
    }
   ],
   "source": [
    "TRAIN_SPLIT_IDXS = [0,1,2,3,4]\n",
    "VAL_SPLIT_IDX = (TEST_SPLIT_IDX + 1) % 5\n",
    "TRAIN_SPLIT_IDXS.remove(TEST_SPLIT_IDX)\n",
    "TRAIN_SPLIT_IDXS.remove(VAL_SPLIT_IDX)\n",
    "TRAIN_SPLIT_IDXS, VAL_SPLIT_IDX, TEST_SPLIT_IDX"
   ]
  },
  {
   "cell_type": "code",
   "execution_count": 13,
   "id": "c4f35b15",
   "metadata": {
    "execution": {
     "iopub.execute_input": "2025-05-14T16:10:42.560712Z",
     "iopub.status.busy": "2025-05-14T16:10:42.560465Z",
     "iopub.status.idle": "2025-05-14T16:10:42.563209Z",
     "shell.execute_reply": "2025-05-14T16:10:42.562877Z"
    },
    "papermill": {
     "duration": 0.011838,
     "end_time": "2025-05-14T16:10:42.564090",
     "exception": false,
     "start_time": "2025-05-14T16:10:42.552252",
     "status": "completed"
    },
    "tags": []
   },
   "outputs": [],
   "source": [
    "train_idxs = np.concatenate([left_out_splits[idx] for idx in TRAIN_SPLIT_IDXS])\n",
    "val_idxs = left_out_splits[VAL_SPLIT_IDX]\n",
    "test_idxs = left_out_splits[TEST_SPLIT_IDX]"
   ]
  },
  {
   "cell_type": "markdown",
   "id": "b288f2be",
   "metadata": {
    "papermill": {
     "duration": 0.00638,
     "end_time": "2025-05-14T16:10:42.576583",
     "exception": false,
     "start_time": "2025-05-14T16:10:42.570203",
     "status": "completed"
    },
    "tags": []
   },
   "source": [
    "### SUBSET DATASET INTO TRAIN/TEST/VAL SPLITS"
   ]
  },
  {
   "cell_type": "code",
   "execution_count": 14,
   "id": "f3747276",
   "metadata": {
    "execution": {
     "iopub.execute_input": "2025-05-14T16:10:42.589420Z",
     "iopub.status.busy": "2025-05-14T16:10:42.589057Z",
     "iopub.status.idle": "2025-05-14T16:10:42.605447Z",
     "shell.execute_reply": "2025-05-14T16:10:42.604952Z"
    },
    "papermill": {
     "duration": 0.02387,
     "end_time": "2025-05-14T16:10:42.606400",
     "exception": false,
     "start_time": "2025-05-14T16:10:42.582530",
     "status": "completed"
    },
    "tags": []
   },
   "outputs": [
    {
     "data": {
      "text/plain": [
       "((1447, 176), (438, 176), (435, 176))"
      ]
     },
     "execution_count": 14,
     "metadata": {},
     "output_type": "execute_result"
    }
   ],
   "source": [
    "X_train = train_adata.X[train_idxs]\n",
    "X_test = train_adata.X[test_idxs]\n",
    "X_val = train_adata.X[val_idxs]\n",
    "X_train.shape, X_test.shape, X_val.shape"
   ]
  },
  {
   "cell_type": "code",
   "execution_count": 15,
   "id": "6bbebfbc",
   "metadata": {
    "execution": {
     "iopub.execute_input": "2025-05-14T16:10:42.620302Z",
     "iopub.status.busy": "2025-05-14T16:10:42.619816Z",
     "iopub.status.idle": "2025-05-14T16:10:42.626036Z",
     "shell.execute_reply": "2025-05-14T16:10:42.625684Z"
    },
    "papermill": {
     "duration": 0.014157,
     "end_time": "2025-05-14T16:10:42.626882",
     "exception": false,
     "start_time": "2025-05-14T16:10:42.612725",
     "status": "completed"
    },
    "tags": []
   },
   "outputs": [
    {
     "data": {
      "text/plain": [
       "((1447,), (438,), (435,))"
      ]
     },
     "execution_count": 15,
     "metadata": {},
     "output_type": "execute_result"
    }
   ],
   "source": [
    "y_train = train_adata.obs.iloc[train_idxs].disease.values.astype(str)\n",
    "y_test = train_adata.obs.iloc[test_idxs].disease.values.astype(str)\n",
    "y_val = train_adata.obs.iloc[val_idxs].disease.values.astype(str)\n",
    "y_train.shape, y_test.shape, y_val.shape"
   ]
  },
  {
   "cell_type": "code",
   "execution_count": 16,
   "id": "52618a3d",
   "metadata": {
    "execution": {
     "iopub.execute_input": "2025-05-14T16:10:42.640172Z",
     "iopub.status.busy": "2025-05-14T16:10:42.639929Z",
     "iopub.status.idle": "2025-05-14T16:10:42.643240Z",
     "shell.execute_reply": "2025-05-14T16:10:42.642914Z"
    },
    "papermill": {
     "duration": 0.011343,
     "end_time": "2025-05-14T16:10:42.644638",
     "exception": false,
     "start_time": "2025-05-14T16:10:42.633295",
     "status": "completed"
    },
    "tags": []
   },
   "outputs": [],
   "source": [
    "lenc = LabelEncoder()\n",
    "y_train_enc = lenc.fit_transform(y_train)\n",
    "y_val_enc = lenc.transform(y_val)\n",
    "y_test_enc = lenc.transform(y_test)"
   ]
  },
  {
   "cell_type": "markdown",
   "id": "86a41a93",
   "metadata": {
    "papermill": {
     "duration": 0.006246,
     "end_time": "2025-05-14T16:10:42.674200",
     "exception": false,
     "start_time": "2025-05-14T16:10:42.667954",
     "status": "completed"
    },
    "tags": []
   },
   "source": [
    "### GENERATE F1 "
   ]
  },
  {
   "cell_type": "code",
   "execution_count": 17,
   "id": "79bf536d",
   "metadata": {
    "execution": {
     "iopub.execute_input": "2025-05-14T16:10:42.687989Z",
     "iopub.status.busy": "2025-05-14T16:10:42.687717Z",
     "iopub.status.idle": "2025-05-14T16:10:42.690205Z",
     "shell.execute_reply": "2025-05-14T16:10:42.689838Z"
    },
    "papermill": {
     "duration": 0.010503,
     "end_time": "2025-05-14T16:10:42.691134",
     "exception": false,
     "start_time": "2025-05-14T16:10:42.680631",
     "status": "completed"
    },
    "tags": []
   },
   "outputs": [],
   "source": [
    "def custom_f1_score(y_true, y_pred):\n",
    "    return -f1_score(y_true, y_pred.argmax(1), average='weighted')"
   ]
  },
  {
   "cell_type": "code",
   "execution_count": 18,
   "id": "aba1b335",
   "metadata": {
    "execution": {
     "iopub.execute_input": "2025-05-14T16:10:42.717823Z",
     "iopub.status.busy": "2025-05-14T16:10:42.717634Z",
     "iopub.status.idle": "2025-05-14T16:10:42.721573Z",
     "shell.execute_reply": "2025-05-14T16:10:42.721253Z"
    },
    "papermill": {
     "duration": 0.012267,
     "end_time": "2025-05-14T16:10:42.722443",
     "exception": false,
     "start_time": "2025-05-14T16:10:42.710176",
     "status": "completed"
    },
    "tags": []
   },
   "outputs": [],
   "source": [
    "eval_metric=custom_f1_score\n",
    "eval_metric_name='custom_f1_score'\n",
    "\n",
    "def objective(trial):\n",
    "    params = {\n",
    "        'n_estimators': 1500,\n",
    "        'max_depth': trial.suggest_int('max_depth', 3, 20),\n",
    "        'min_child_weight': trial.suggest_int('min_child_weight', 1, 250),\n",
    "        'subsample': trial.suggest_float('subsample', 0.1, 1.0),\n",
    "        'colsample_bynode': trial.suggest_float('colsample_bynode', 0.1, 1.0),\n",
    "        'learning_rate': trial.suggest_float('learning_rate', 1e-3, 5e-1, log=True),\n",
    "    }\n",
    "    pruning_callback = optuna.integration.XGBoostPruningCallback(trial, f'validation_0-{eval_metric_name}')\n",
    "    es_callback = xgboost.callback.EarlyStopping(20, min_delta=0.001)\n",
    "    xgb = xgboost.XGBClassifier(\n",
    "        eval_metric=eval_metric,\n",
    "        callbacks=[pruning_callback, es_callback],\n",
    "        n_jobs=5,\n",
    "        **params\n",
    "    )\n",
    "    xgb.fit(\n",
    "        X_train, \n",
    "        y_train_enc, \n",
    "        verbose=0,\n",
    "        eval_set=[(X_val, y_val_enc)],\n",
    "    )\n",
    "    trial.set_user_attr('best_iteration', xgb.best_iteration)\n",
    "\n",
    "    return xgb.best_score"
   ]
  },
  {
   "cell_type": "code",
   "execution_count": 19,
   "id": "c8aa31b3",
   "metadata": {
    "execution": {
     "iopub.execute_input": "2025-05-14T16:10:42.735618Z",
     "iopub.status.busy": "2025-05-14T16:10:42.735228Z",
     "iopub.status.idle": "2025-05-14T16:11:04.538416Z",
     "shell.execute_reply": "2025-05-14T16:11:04.537961Z"
    },
    "papermill": {
     "duration": 21.810803,
     "end_time": "2025-05-14T16:11:04.539443",
     "exception": false,
     "start_time": "2025-05-14T16:10:42.728640",
     "status": "completed"
    },
    "scrolled": true,
    "tags": []
   },
   "outputs": [
    {
     "name": "stderr",
     "output_type": "stream",
     "text": [
      "[I 2025-05-14 18:10:42,737] A new study created in memory with name: no-name-c523063b-3f3f-4161-8ac4-abcbdf7bc058\n"
     ]
    },
    {
     "name": "stderr",
     "output_type": "stream",
     "text": [
      "[I 2025-05-14 18:10:42,864] Trial 0 finished with value: -0.260837 and parameters: {'max_depth': 9, 'min_child_weight': 238, 'subsample': 0.7587945476302645, 'colsample_bynode': 0.6387926357773329, 'learning_rate': 0.0026368755339723046}. Best is trial 0 with value: -0.260837.\n"
     ]
    },
    {
     "name": "stderr",
     "output_type": "stream",
     "text": [
      "[I 2025-05-14 18:10:44,337] Trial 1 finished with value: -0.750252 and parameters: {'max_depth': 5, 'min_child_weight': 15, 'subsample': 0.8795585311974417, 'colsample_bynode': 0.6410035105688879, 'learning_rate': 0.08148293210105287}. Best is trial 1 with value: -0.750252.\n"
     ]
    },
    {
     "name": "stderr",
     "output_type": "stream",
     "text": [
      "[I 2025-05-14 18:10:44,559] Trial 2 finished with value: -0.260837 and parameters: {'max_depth': 3, 'min_child_weight': 243, 'subsample': 0.8491983767203796, 'colsample_bynode': 0.29110519961044856, 'learning_rate': 0.003095566460242371}. Best is trial 1 with value: -0.750252.\n"
     ]
    },
    {
     "name": "stderr",
     "output_type": "stream",
     "text": [
      "[I 2025-05-14 18:10:44,927] Trial 3 finished with value: -0.595567 and parameters: {'max_depth': 6, 'min_child_weight': 77, 'subsample': 0.5722807884690141, 'colsample_bynode': 0.48875051677790415, 'learning_rate': 0.006109683510122491}. Best is trial 1 with value: -0.750252.\n"
     ]
    },
    {
     "name": "stderr",
     "output_type": "stream",
     "text": [
      "[I 2025-05-14 18:10:45,383] Trial 4 finished with value: -0.647755 and parameters: {'max_depth': 14, 'min_child_weight': 35, 'subsample': 0.3629301836816964, 'colsample_bynode': 0.4297256589643226, 'learning_rate': 0.01701841881702917}. Best is trial 1 with value: -0.750252.\n"
     ]
    },
    {
     "name": "stderr",
     "output_type": "stream",
     "text": [
      "[I 2025-05-14 18:10:45,707] Trial 5 pruned. Trial was pruned at iteration 24.\n"
     ]
    },
    {
     "name": "stderr",
     "output_type": "stream",
     "text": [
      "[I 2025-05-14 18:10:45,826] Trial 6 pruned. Trial was pruned at iteration 0.\n"
     ]
    },
    {
     "name": "stderr",
     "output_type": "stream",
     "text": [
      "[I 2025-05-14 18:10:45,946] Trial 7 pruned. Trial was pruned at iteration 0.\n"
     ]
    },
    {
     "name": "stderr",
     "output_type": "stream",
     "text": [
      "[I 2025-05-14 18:10:46,062] Trial 8 pruned. Trial was pruned at iteration 0.\n"
     ]
    },
    {
     "name": "stderr",
     "output_type": "stream",
     "text": [
      "[I 2025-05-14 18:10:46,191] Trial 9 pruned. Trial was pruned at iteration 1.\n"
     ]
    },
    {
     "name": "stderr",
     "output_type": "stream",
     "text": [
      "[I 2025-05-14 18:10:47,734] Trial 10 finished with value: -0.765933 and parameters: {'max_depth': 9, 'min_child_weight': 2, 'subsample': 0.9725833997090791, 'colsample_bynode': 0.11616568805333755, 'learning_rate': 0.17780618353487967}. Best is trial 10 with value: -0.765933.\n"
     ]
    },
    {
     "name": "stderr",
     "output_type": "stream",
     "text": [
      "[I 2025-05-14 18:10:48,804] Trial 11 finished with value: -0.752989 and parameters: {'max_depth': 9, 'min_child_weight': 4, 'subsample': 0.9818290990185045, 'colsample_bynode': 0.17702656156719, 'learning_rate': 0.11568531411766632}. Best is trial 10 with value: -0.765933.\n"
     ]
    },
    {
     "name": "stderr",
     "output_type": "stream",
     "text": [
      "[I 2025-05-14 18:10:50,200] Trial 12 finished with value: -0.750467 and parameters: {'max_depth': 9, 'min_child_weight': 2, 'subsample': 0.9762317723681219, 'colsample_bynode': 0.1303670507685675, 'learning_rate': 0.14353293664472047}. Best is trial 10 with value: -0.765933.\n"
     ]
    },
    {
     "name": "stderr",
     "output_type": "stream",
     "text": [
      "[I 2025-05-14 18:10:50,331] Trial 13 pruned. Trial was pruned at iteration 0.\n"
     ]
    },
    {
     "name": "stderr",
     "output_type": "stream",
     "text": [
      "[I 2025-05-14 18:10:50,461] Trial 14 pruned. Trial was pruned at iteration 0.\n"
     ]
    },
    {
     "name": "stderr",
     "output_type": "stream",
     "text": [
      "[I 2025-05-14 18:10:51,988] Trial 15 finished with value: -0.755306 and parameters: {'max_depth': 20, 'min_child_weight': 2, 'subsample': 0.719264024177087, 'colsample_bynode': 0.2540835086298475, 'learning_rate': 0.03987682305667138}. Best is trial 10 with value: -0.765933.\n"
     ]
    },
    {
     "name": "stderr",
     "output_type": "stream",
     "text": [
      "[I 2025-05-14 18:10:52,118] Trial 16 pruned. Trial was pruned at iteration 0.\n"
     ]
    },
    {
     "name": "stderr",
     "output_type": "stream",
     "text": [
      "[I 2025-05-14 18:10:52,248] Trial 17 pruned. Trial was pruned at iteration 0.\n"
     ]
    },
    {
     "name": "stderr",
     "output_type": "stream",
     "text": [
      "[I 2025-05-14 18:10:52,386] Trial 18 pruned. Trial was pruned at iteration 0.\n"
     ]
    },
    {
     "name": "stderr",
     "output_type": "stream",
     "text": [
      "[I 2025-05-14 18:10:52,511] Trial 19 pruned. Trial was pruned at iteration 0.\n"
     ]
    },
    {
     "name": "stderr",
     "output_type": "stream",
     "text": [
      "[I 2025-05-14 18:10:52,645] Trial 20 pruned. Trial was pruned at iteration 0.\n"
     ]
    },
    {
     "name": "stderr",
     "output_type": "stream",
     "text": [
      "[I 2025-05-14 18:10:54,170] Trial 21 finished with value: -0.771834 and parameters: {'max_depth': 11, 'min_child_weight': 1, 'subsample': 0.9284264477593334, 'colsample_bynode': 0.19119727298237837, 'learning_rate': 0.0976273435877206}. Best is trial 21 with value: -0.771834.\n"
     ]
    },
    {
     "name": "stderr",
     "output_type": "stream",
     "text": [
      "[I 2025-05-14 18:10:54,334] Trial 22 pruned. Trial was pruned at iteration 1.\n"
     ]
    },
    {
     "name": "stderr",
     "output_type": "stream",
     "text": [
      "[I 2025-05-14 18:10:54,484] Trial 23 pruned. Trial was pruned at iteration 0.\n"
     ]
    },
    {
     "name": "stderr",
     "output_type": "stream",
     "text": [
      "[I 2025-05-14 18:10:54,969] Trial 24 pruned. Trial was pruned at iteration 9.\n"
     ]
    },
    {
     "name": "stderr",
     "output_type": "stream",
     "text": [
      "[I 2025-05-14 18:10:55,111] Trial 25 pruned. Trial was pruned at iteration 0.\n"
     ]
    },
    {
     "name": "stderr",
     "output_type": "stream",
     "text": [
      "[I 2025-05-14 18:10:55,308] Trial 26 pruned. Trial was pruned at iteration 2.\n"
     ]
    },
    {
     "name": "stderr",
     "output_type": "stream",
     "text": [
      "[I 2025-05-14 18:10:55,442] Trial 27 pruned. Trial was pruned at iteration 0.\n"
     ]
    },
    {
     "name": "stderr",
     "output_type": "stream",
     "text": [
      "[I 2025-05-14 18:10:55,584] Trial 28 pruned. Trial was pruned at iteration 0.\n"
     ]
    },
    {
     "name": "stderr",
     "output_type": "stream",
     "text": [
      "[I 2025-05-14 18:10:55,715] Trial 29 pruned. Trial was pruned at iteration 0.\n"
     ]
    },
    {
     "name": "stderr",
     "output_type": "stream",
     "text": [
      "[I 2025-05-14 18:10:55,855] Trial 30 pruned. Trial was pruned at iteration 0.\n"
     ]
    },
    {
     "name": "stderr",
     "output_type": "stream",
     "text": [
      "[I 2025-05-14 18:10:56,646] Trial 31 pruned. Trial was pruned at iteration 21.\n"
     ]
    },
    {
     "name": "stderr",
     "output_type": "stream",
     "text": [
      "[I 2025-05-14 18:10:56,808] Trial 32 pruned. Trial was pruned at iteration 1.\n"
     ]
    },
    {
     "name": "stderr",
     "output_type": "stream",
     "text": [
      "[I 2025-05-14 18:10:58,040] Trial 33 finished with value: -0.763825 and parameters: {'max_depth': 10, 'min_child_weight': 3, 'subsample': 0.8473021484516241, 'colsample_bynode': 0.26254985946728376, 'learning_rate': 0.12181351648685015}. Best is trial 21 with value: -0.771834.\n"
     ]
    },
    {
     "name": "stderr",
     "output_type": "stream",
     "text": [
      "[I 2025-05-14 18:10:58,194] Trial 34 pruned. Trial was pruned at iteration 0.\n"
     ]
    },
    {
     "name": "stderr",
     "output_type": "stream",
     "text": [
      "[I 2025-05-14 18:10:58,340] Trial 35 pruned. Trial was pruned at iteration 0.\n"
     ]
    },
    {
     "name": "stderr",
     "output_type": "stream",
     "text": [
      "[I 2025-05-14 18:10:58,504] Trial 36 pruned. Trial was pruned at iteration 1.\n"
     ]
    },
    {
     "name": "stderr",
     "output_type": "stream",
     "text": [
      "[I 2025-05-14 18:10:58,651] Trial 37 pruned. Trial was pruned at iteration 0.\n"
     ]
    },
    {
     "name": "stderr",
     "output_type": "stream",
     "text": [
      "[I 2025-05-14 18:10:58,801] Trial 38 pruned. Trial was pruned at iteration 0.\n"
     ]
    },
    {
     "name": "stderr",
     "output_type": "stream",
     "text": [
      "[I 2025-05-14 18:10:58,959] Trial 39 pruned. Trial was pruned at iteration 1.\n"
     ]
    },
    {
     "name": "stderr",
     "output_type": "stream",
     "text": [
      "[I 2025-05-14 18:10:59,340] Trial 40 pruned. Trial was pruned at iteration 1.\n"
     ]
    },
    {
     "name": "stderr",
     "output_type": "stream",
     "text": [
      "[I 2025-05-14 18:11:00,882] Trial 41 finished with value: -0.768516 and parameters: {'max_depth': 10, 'min_child_weight': 2, 'subsample': 0.9677614957015229, 'colsample_bynode': 0.1991110742246208, 'learning_rate': 0.12257203719544436}. Best is trial 21 with value: -0.771834.\n"
     ]
    },
    {
     "name": "stderr",
     "output_type": "stream",
     "text": [
      "[I 2025-05-14 18:11:01,612] Trial 42 pruned. Trial was pruned at iteration 12.\n"
     ]
    },
    {
     "name": "stderr",
     "output_type": "stream",
     "text": [
      "[I 2025-05-14 18:11:01,764] Trial 43 pruned. Trial was pruned at iteration 0.\n"
     ]
    },
    {
     "name": "stderr",
     "output_type": "stream",
     "text": [
      "[I 2025-05-14 18:11:01,944] Trial 44 pruned. Trial was pruned at iteration 1.\n"
     ]
    },
    {
     "name": "stderr",
     "output_type": "stream",
     "text": [
      "[I 2025-05-14 18:11:02,087] Trial 45 pruned. Trial was pruned at iteration 0.\n"
     ]
    },
    {
     "name": "stderr",
     "output_type": "stream",
     "text": [
      "[I 2025-05-14 18:11:02,255] Trial 46 pruned. Trial was pruned at iteration 1.\n"
     ]
    },
    {
     "name": "stderr",
     "output_type": "stream",
     "text": [
      "[I 2025-05-14 18:11:04,167] Trial 47 finished with value: -0.778617 and parameters: {'max_depth': 19, 'min_child_weight': 1, 'subsample': 0.766863348398747, 'colsample_bynode': 0.13950024165818975, 'learning_rate': 0.2213063587793534}. Best is trial 47 with value: -0.778617.\n"
     ]
    },
    {
     "name": "stderr",
     "output_type": "stream",
     "text": [
      "[I 2025-05-14 18:11:04,304] Trial 48 pruned. Trial was pruned at iteration 0.\n"
     ]
    },
    {
     "name": "stderr",
     "output_type": "stream",
     "text": [
      "[I 2025-05-14 18:11:04,441] Trial 49 pruned. Trial was pruned at iteration 0.\n"
     ]
    }
   ],
   "source": [
    "sampler = optuna.samplers.TPESampler(seed=42)\n",
    "study = optuna.create_study(direction='minimize', sampler=sampler)\n",
    "study.optimize(objective, n_trials=N_TRIALS, gc_after_trial=True)"
   ]
  },
  {
   "cell_type": "code",
   "execution_count": 20,
   "id": "3ed5a74f",
   "metadata": {
    "execution": {
     "iopub.execute_input": "2025-05-14T16:11:04.570367Z",
     "iopub.status.busy": "2025-05-14T16:11:04.570157Z",
     "iopub.status.idle": "2025-05-14T16:11:04.606058Z",
     "shell.execute_reply": "2025-05-14T16:11:04.605735Z"
    },
    "papermill": {
     "duration": 0.045872,
     "end_time": "2025-05-14T16:11:04.606893",
     "exception": false,
     "start_time": "2025-05-14T16:11:04.561021",
     "status": "completed"
    },
    "tags": []
   },
   "outputs": [
    {
     "data": {
      "text/plain": [
       "['/scratch_isilon/groups/singlecell/shared/projects/Inflammation-PBMCs-Atlas/03_downstream_analysis/08_gene_importance/xgboost_external_validation/xgboost_TopN_genes/results_20/study/pDC_shap_studyID_4_xgboost.pkl']"
      ]
     },
     "execution_count": 20,
     "metadata": {},
     "output_type": "execute_result"
    }
   ],
   "source": [
    "out_dir = here(f'03_downstream_analysis/08_gene_importance/xgboost_external_validation/xgboost_TopN_genes/results_{N_GENES}/study')\n",
    "\n",
    "if not os.path.exists(out_dir):\n",
    "    os.makedirs(out_dir)\n",
    "    \n",
    "joblib.dump(study,os.path.join(out_dir, f'{CELL_TYPE}_{SEED}_{TEST_SPLIT_IDX}_xgboost.pkl'))"
   ]
  },
  {
   "cell_type": "code",
   "execution_count": 21,
   "id": "294c7994",
   "metadata": {
    "execution": {
     "iopub.execute_input": "2025-05-14T16:11:04.624339Z",
     "iopub.status.busy": "2025-05-14T16:11:04.623930Z",
     "iopub.status.idle": "2025-05-14T16:11:06.571066Z",
     "shell.execute_reply": "2025-05-14T16:11:06.570706Z"
    },
    "papermill": {
     "duration": 1.956871,
     "end_time": "2025-05-14T16:11:06.572165",
     "exception": false,
     "start_time": "2025-05-14T16:11:04.615294",
     "status": "completed"
    },
    "tags": []
   },
   "outputs": [
    {
     "data": {
      "text/html": [
       "<style>#sk-container-id-1 {\n",
       "  /* Definition of color scheme common for light and dark mode */\n",
       "  --sklearn-color-text: black;\n",
       "  --sklearn-color-line: gray;\n",
       "  /* Definition of color scheme for unfitted estimators */\n",
       "  --sklearn-color-unfitted-level-0: #fff5e6;\n",
       "  --sklearn-color-unfitted-level-1: #f6e4d2;\n",
       "  --sklearn-color-unfitted-level-2: #ffe0b3;\n",
       "  --sklearn-color-unfitted-level-3: chocolate;\n",
       "  /* Definition of color scheme for fitted estimators */\n",
       "  --sklearn-color-fitted-level-0: #f0f8ff;\n",
       "  --sklearn-color-fitted-level-1: #d4ebff;\n",
       "  --sklearn-color-fitted-level-2: #b3dbfd;\n",
       "  --sklearn-color-fitted-level-3: cornflowerblue;\n",
       "\n",
       "  /* Specific color for light theme */\n",
       "  --sklearn-color-text-on-default-background: var(--sg-text-color, var(--theme-code-foreground, var(--jp-content-font-color1, black)));\n",
       "  --sklearn-color-background: var(--sg-background-color, var(--theme-background, var(--jp-layout-color0, white)));\n",
       "  --sklearn-color-border-box: var(--sg-text-color, var(--theme-code-foreground, var(--jp-content-font-color1, black)));\n",
       "  --sklearn-color-icon: #696969;\n",
       "\n",
       "  @media (prefers-color-scheme: dark) {\n",
       "    /* Redefinition of color scheme for dark theme */\n",
       "    --sklearn-color-text-on-default-background: var(--sg-text-color, var(--theme-code-foreground, var(--jp-content-font-color1, white)));\n",
       "    --sklearn-color-background: var(--sg-background-color, var(--theme-background, var(--jp-layout-color0, #111)));\n",
       "    --sklearn-color-border-box: var(--sg-text-color, var(--theme-code-foreground, var(--jp-content-font-color1, white)));\n",
       "    --sklearn-color-icon: #878787;\n",
       "  }\n",
       "}\n",
       "\n",
       "#sk-container-id-1 {\n",
       "  color: var(--sklearn-color-text);\n",
       "}\n",
       "\n",
       "#sk-container-id-1 pre {\n",
       "  padding: 0;\n",
       "}\n",
       "\n",
       "#sk-container-id-1 input.sk-hidden--visually {\n",
       "  border: 0;\n",
       "  clip: rect(1px 1px 1px 1px);\n",
       "  clip: rect(1px, 1px, 1px, 1px);\n",
       "  height: 1px;\n",
       "  margin: -1px;\n",
       "  overflow: hidden;\n",
       "  padding: 0;\n",
       "  position: absolute;\n",
       "  width: 1px;\n",
       "}\n",
       "\n",
       "#sk-container-id-1 div.sk-dashed-wrapped {\n",
       "  border: 1px dashed var(--sklearn-color-line);\n",
       "  margin: 0 0.4em 0.5em 0.4em;\n",
       "  box-sizing: border-box;\n",
       "  padding-bottom: 0.4em;\n",
       "  background-color: var(--sklearn-color-background);\n",
       "}\n",
       "\n",
       "#sk-container-id-1 div.sk-container {\n",
       "  /* jupyter's `normalize.less` sets `[hidden] { display: none; }`\n",
       "     but bootstrap.min.css set `[hidden] { display: none !important; }`\n",
       "     so we also need the `!important` here to be able to override the\n",
       "     default hidden behavior on the sphinx rendered scikit-learn.org.\n",
       "     See: https://github.com/scikit-learn/scikit-learn/issues/21755 */\n",
       "  display: inline-block !important;\n",
       "  position: relative;\n",
       "}\n",
       "\n",
       "#sk-container-id-1 div.sk-text-repr-fallback {\n",
       "  display: none;\n",
       "}\n",
       "\n",
       "div.sk-parallel-item,\n",
       "div.sk-serial,\n",
       "div.sk-item {\n",
       "  /* draw centered vertical line to link estimators */\n",
       "  background-image: linear-gradient(var(--sklearn-color-text-on-default-background), var(--sklearn-color-text-on-default-background));\n",
       "  background-size: 2px 100%;\n",
       "  background-repeat: no-repeat;\n",
       "  background-position: center center;\n",
       "}\n",
       "\n",
       "/* Parallel-specific style estimator block */\n",
       "\n",
       "#sk-container-id-1 div.sk-parallel-item::after {\n",
       "  content: \"\";\n",
       "  width: 100%;\n",
       "  border-bottom: 2px solid var(--sklearn-color-text-on-default-background);\n",
       "  flex-grow: 1;\n",
       "}\n",
       "\n",
       "#sk-container-id-1 div.sk-parallel {\n",
       "  display: flex;\n",
       "  align-items: stretch;\n",
       "  justify-content: center;\n",
       "  background-color: var(--sklearn-color-background);\n",
       "  position: relative;\n",
       "}\n",
       "\n",
       "#sk-container-id-1 div.sk-parallel-item {\n",
       "  display: flex;\n",
       "  flex-direction: column;\n",
       "}\n",
       "\n",
       "#sk-container-id-1 div.sk-parallel-item:first-child::after {\n",
       "  align-self: flex-end;\n",
       "  width: 50%;\n",
       "}\n",
       "\n",
       "#sk-container-id-1 div.sk-parallel-item:last-child::after {\n",
       "  align-self: flex-start;\n",
       "  width: 50%;\n",
       "}\n",
       "\n",
       "#sk-container-id-1 div.sk-parallel-item:only-child::after {\n",
       "  width: 0;\n",
       "}\n",
       "\n",
       "/* Serial-specific style estimator block */\n",
       "\n",
       "#sk-container-id-1 div.sk-serial {\n",
       "  display: flex;\n",
       "  flex-direction: column;\n",
       "  align-items: center;\n",
       "  background-color: var(--sklearn-color-background);\n",
       "  padding-right: 1em;\n",
       "  padding-left: 1em;\n",
       "}\n",
       "\n",
       "\n",
       "/* Toggleable style: style used for estimator/Pipeline/ColumnTransformer box that is\n",
       "clickable and can be expanded/collapsed.\n",
       "- Pipeline and ColumnTransformer use this feature and define the default style\n",
       "- Estimators will overwrite some part of the style using the `sk-estimator` class\n",
       "*/\n",
       "\n",
       "/* Pipeline and ColumnTransformer style (default) */\n",
       "\n",
       "#sk-container-id-1 div.sk-toggleable {\n",
       "  /* Default theme specific background. It is overwritten whether we have a\n",
       "  specific estimator or a Pipeline/ColumnTransformer */\n",
       "  background-color: var(--sklearn-color-background);\n",
       "}\n",
       "\n",
       "/* Toggleable label */\n",
       "#sk-container-id-1 label.sk-toggleable__label {\n",
       "  cursor: pointer;\n",
       "  display: block;\n",
       "  width: 100%;\n",
       "  margin-bottom: 0;\n",
       "  padding: 0.5em;\n",
       "  box-sizing: border-box;\n",
       "  text-align: center;\n",
       "}\n",
       "\n",
       "#sk-container-id-1 label.sk-toggleable__label-arrow:before {\n",
       "  /* Arrow on the left of the label */\n",
       "  content: \"▸\";\n",
       "  float: left;\n",
       "  margin-right: 0.25em;\n",
       "  color: var(--sklearn-color-icon);\n",
       "}\n",
       "\n",
       "#sk-container-id-1 label.sk-toggleable__label-arrow:hover:before {\n",
       "  color: var(--sklearn-color-text);\n",
       "}\n",
       "\n",
       "/* Toggleable content - dropdown */\n",
       "\n",
       "#sk-container-id-1 div.sk-toggleable__content {\n",
       "  max-height: 0;\n",
       "  max-width: 0;\n",
       "  overflow: hidden;\n",
       "  text-align: left;\n",
       "  /* unfitted */\n",
       "  background-color: var(--sklearn-color-unfitted-level-0);\n",
       "}\n",
       "\n",
       "#sk-container-id-1 div.sk-toggleable__content.fitted {\n",
       "  /* fitted */\n",
       "  background-color: var(--sklearn-color-fitted-level-0);\n",
       "}\n",
       "\n",
       "#sk-container-id-1 div.sk-toggleable__content pre {\n",
       "  margin: 0.2em;\n",
       "  border-radius: 0.25em;\n",
       "  color: var(--sklearn-color-text);\n",
       "  /* unfitted */\n",
       "  background-color: var(--sklearn-color-unfitted-level-0);\n",
       "}\n",
       "\n",
       "#sk-container-id-1 div.sk-toggleable__content.fitted pre {\n",
       "  /* unfitted */\n",
       "  background-color: var(--sklearn-color-fitted-level-0);\n",
       "}\n",
       "\n",
       "#sk-container-id-1 input.sk-toggleable__control:checked~div.sk-toggleable__content {\n",
       "  /* Expand drop-down */\n",
       "  max-height: 200px;\n",
       "  max-width: 100%;\n",
       "  overflow: auto;\n",
       "}\n",
       "\n",
       "#sk-container-id-1 input.sk-toggleable__control:checked~label.sk-toggleable__label-arrow:before {\n",
       "  content: \"▾\";\n",
       "}\n",
       "\n",
       "/* Pipeline/ColumnTransformer-specific style */\n",
       "\n",
       "#sk-container-id-1 div.sk-label input.sk-toggleable__control:checked~label.sk-toggleable__label {\n",
       "  color: var(--sklearn-color-text);\n",
       "  background-color: var(--sklearn-color-unfitted-level-2);\n",
       "}\n",
       "\n",
       "#sk-container-id-1 div.sk-label.fitted input.sk-toggleable__control:checked~label.sk-toggleable__label {\n",
       "  background-color: var(--sklearn-color-fitted-level-2);\n",
       "}\n",
       "\n",
       "/* Estimator-specific style */\n",
       "\n",
       "/* Colorize estimator box */\n",
       "#sk-container-id-1 div.sk-estimator input.sk-toggleable__control:checked~label.sk-toggleable__label {\n",
       "  /* unfitted */\n",
       "  background-color: var(--sklearn-color-unfitted-level-2);\n",
       "}\n",
       "\n",
       "#sk-container-id-1 div.sk-estimator.fitted input.sk-toggleable__control:checked~label.sk-toggleable__label {\n",
       "  /* fitted */\n",
       "  background-color: var(--sklearn-color-fitted-level-2);\n",
       "}\n",
       "\n",
       "#sk-container-id-1 div.sk-label label.sk-toggleable__label,\n",
       "#sk-container-id-1 div.sk-label label {\n",
       "  /* The background is the default theme color */\n",
       "  color: var(--sklearn-color-text-on-default-background);\n",
       "}\n",
       "\n",
       "/* On hover, darken the color of the background */\n",
       "#sk-container-id-1 div.sk-label:hover label.sk-toggleable__label {\n",
       "  color: var(--sklearn-color-text);\n",
       "  background-color: var(--sklearn-color-unfitted-level-2);\n",
       "}\n",
       "\n",
       "/* Label box, darken color on hover, fitted */\n",
       "#sk-container-id-1 div.sk-label.fitted:hover label.sk-toggleable__label.fitted {\n",
       "  color: var(--sklearn-color-text);\n",
       "  background-color: var(--sklearn-color-fitted-level-2);\n",
       "}\n",
       "\n",
       "/* Estimator label */\n",
       "\n",
       "#sk-container-id-1 div.sk-label label {\n",
       "  font-family: monospace;\n",
       "  font-weight: bold;\n",
       "  display: inline-block;\n",
       "  line-height: 1.2em;\n",
       "}\n",
       "\n",
       "#sk-container-id-1 div.sk-label-container {\n",
       "  text-align: center;\n",
       "}\n",
       "\n",
       "/* Estimator-specific */\n",
       "#sk-container-id-1 div.sk-estimator {\n",
       "  font-family: monospace;\n",
       "  border: 1px dotted var(--sklearn-color-border-box);\n",
       "  border-radius: 0.25em;\n",
       "  box-sizing: border-box;\n",
       "  margin-bottom: 0.5em;\n",
       "  /* unfitted */\n",
       "  background-color: var(--sklearn-color-unfitted-level-0);\n",
       "}\n",
       "\n",
       "#sk-container-id-1 div.sk-estimator.fitted {\n",
       "  /* fitted */\n",
       "  background-color: var(--sklearn-color-fitted-level-0);\n",
       "}\n",
       "\n",
       "/* on hover */\n",
       "#sk-container-id-1 div.sk-estimator:hover {\n",
       "  /* unfitted */\n",
       "  background-color: var(--sklearn-color-unfitted-level-2);\n",
       "}\n",
       "\n",
       "#sk-container-id-1 div.sk-estimator.fitted:hover {\n",
       "  /* fitted */\n",
       "  background-color: var(--sklearn-color-fitted-level-2);\n",
       "}\n",
       "\n",
       "/* Specification for estimator info (e.g. \"i\" and \"?\") */\n",
       "\n",
       "/* Common style for \"i\" and \"?\" */\n",
       "\n",
       ".sk-estimator-doc-link,\n",
       "a:link.sk-estimator-doc-link,\n",
       "a:visited.sk-estimator-doc-link {\n",
       "  float: right;\n",
       "  font-size: smaller;\n",
       "  line-height: 1em;\n",
       "  font-family: monospace;\n",
       "  background-color: var(--sklearn-color-background);\n",
       "  border-radius: 1em;\n",
       "  height: 1em;\n",
       "  width: 1em;\n",
       "  text-decoration: none !important;\n",
       "  margin-left: 1ex;\n",
       "  /* unfitted */\n",
       "  border: var(--sklearn-color-unfitted-level-1) 1pt solid;\n",
       "  color: var(--sklearn-color-unfitted-level-1);\n",
       "}\n",
       "\n",
       ".sk-estimator-doc-link.fitted,\n",
       "a:link.sk-estimator-doc-link.fitted,\n",
       "a:visited.sk-estimator-doc-link.fitted {\n",
       "  /* fitted */\n",
       "  border: var(--sklearn-color-fitted-level-1) 1pt solid;\n",
       "  color: var(--sklearn-color-fitted-level-1);\n",
       "}\n",
       "\n",
       "/* On hover */\n",
       "div.sk-estimator:hover .sk-estimator-doc-link:hover,\n",
       ".sk-estimator-doc-link:hover,\n",
       "div.sk-label-container:hover .sk-estimator-doc-link:hover,\n",
       ".sk-estimator-doc-link:hover {\n",
       "  /* unfitted */\n",
       "  background-color: var(--sklearn-color-unfitted-level-3);\n",
       "  color: var(--sklearn-color-background);\n",
       "  text-decoration: none;\n",
       "}\n",
       "\n",
       "div.sk-estimator.fitted:hover .sk-estimator-doc-link.fitted:hover,\n",
       ".sk-estimator-doc-link.fitted:hover,\n",
       "div.sk-label-container:hover .sk-estimator-doc-link.fitted:hover,\n",
       ".sk-estimator-doc-link.fitted:hover {\n",
       "  /* fitted */\n",
       "  background-color: var(--sklearn-color-fitted-level-3);\n",
       "  color: var(--sklearn-color-background);\n",
       "  text-decoration: none;\n",
       "}\n",
       "\n",
       "/* Span, style for the box shown on hovering the info icon */\n",
       ".sk-estimator-doc-link span {\n",
       "  display: none;\n",
       "  z-index: 9999;\n",
       "  position: relative;\n",
       "  font-weight: normal;\n",
       "  right: .2ex;\n",
       "  padding: .5ex;\n",
       "  margin: .5ex;\n",
       "  width: min-content;\n",
       "  min-width: 20ex;\n",
       "  max-width: 50ex;\n",
       "  color: var(--sklearn-color-text);\n",
       "  box-shadow: 2pt 2pt 4pt #999;\n",
       "  /* unfitted */\n",
       "  background: var(--sklearn-color-unfitted-level-0);\n",
       "  border: .5pt solid var(--sklearn-color-unfitted-level-3);\n",
       "}\n",
       "\n",
       ".sk-estimator-doc-link.fitted span {\n",
       "  /* fitted */\n",
       "  background: var(--sklearn-color-fitted-level-0);\n",
       "  border: var(--sklearn-color-fitted-level-3);\n",
       "}\n",
       "\n",
       ".sk-estimator-doc-link:hover span {\n",
       "  display: block;\n",
       "}\n",
       "\n",
       "/* \"?\"-specific style due to the `<a>` HTML tag */\n",
       "\n",
       "#sk-container-id-1 a.estimator_doc_link {\n",
       "  float: right;\n",
       "  font-size: 1rem;\n",
       "  line-height: 1em;\n",
       "  font-family: monospace;\n",
       "  background-color: var(--sklearn-color-background);\n",
       "  border-radius: 1rem;\n",
       "  height: 1rem;\n",
       "  width: 1rem;\n",
       "  text-decoration: none;\n",
       "  /* unfitted */\n",
       "  color: var(--sklearn-color-unfitted-level-1);\n",
       "  border: var(--sklearn-color-unfitted-level-1) 1pt solid;\n",
       "}\n",
       "\n",
       "#sk-container-id-1 a.estimator_doc_link.fitted {\n",
       "  /* fitted */\n",
       "  border: var(--sklearn-color-fitted-level-1) 1pt solid;\n",
       "  color: var(--sklearn-color-fitted-level-1);\n",
       "}\n",
       "\n",
       "/* On hover */\n",
       "#sk-container-id-1 a.estimator_doc_link:hover {\n",
       "  /* unfitted */\n",
       "  background-color: var(--sklearn-color-unfitted-level-3);\n",
       "  color: var(--sklearn-color-background);\n",
       "  text-decoration: none;\n",
       "}\n",
       "\n",
       "#sk-container-id-1 a.estimator_doc_link.fitted:hover {\n",
       "  /* fitted */\n",
       "  background-color: var(--sklearn-color-fitted-level-3);\n",
       "}\n",
       "</style><div id=\"sk-container-id-1\" class=\"sk-top-container\"><div class=\"sk-text-repr-fallback\"><pre>XGBClassifier(base_score=None, booster=None, callbacks=None,\n",
       "              colsample_bylevel=None, colsample_bynode=0.13950024165818975,\n",
       "              colsample_bytree=None, device=None, early_stopping_rounds=None,\n",
       "              enable_categorical=False,\n",
       "              eval_metric=&lt;function custom_f1_score at 0x7fdbc916fce0&gt;,\n",
       "              feature_types=None, gamma=None, grow_policy=None,\n",
       "              importance_type=None, interaction_constraints=None,\n",
       "              learning_rate=0.2213063587793534, max_bin=None,\n",
       "              max_cat_threshold=None, max_cat_to_onehot=None,\n",
       "              max_delta_step=None, max_depth=19, max_leaves=None,\n",
       "              min_child_weight=1, missing=nan, monotone_constraints=None,\n",
       "              multi_strategy=None, n_estimators=75, n_jobs=None,\n",
       "              num_parallel_tree=None, objective=&#x27;multi:softprob&#x27;, ...)</pre><b>In a Jupyter environment, please rerun this cell to show the HTML representation or trust the notebook. <br />On GitHub, the HTML representation is unable to render, please try loading this page with nbviewer.org.</b></div><div class=\"sk-container\" hidden><div class=\"sk-item\"><div class=\"sk-estimator fitted sk-toggleable\"><input class=\"sk-toggleable__control sk-hidden--visually\" id=\"sk-estimator-id-1\" type=\"checkbox\" checked><label for=\"sk-estimator-id-1\" class=\"sk-toggleable__label fitted sk-toggleable__label-arrow fitted\">&nbsp;XGBClassifier<span class=\"sk-estimator-doc-link fitted\">i<span>Fitted</span></span></label><div class=\"sk-toggleable__content fitted\"><pre>XGBClassifier(base_score=None, booster=None, callbacks=None,\n",
       "              colsample_bylevel=None, colsample_bynode=0.13950024165818975,\n",
       "              colsample_bytree=None, device=None, early_stopping_rounds=None,\n",
       "              enable_categorical=False,\n",
       "              eval_metric=&lt;function custom_f1_score at 0x7fdbc916fce0&gt;,\n",
       "              feature_types=None, gamma=None, grow_policy=None,\n",
       "              importance_type=None, interaction_constraints=None,\n",
       "              learning_rate=0.2213063587793534, max_bin=None,\n",
       "              max_cat_threshold=None, max_cat_to_onehot=None,\n",
       "              max_delta_step=None, max_depth=19, max_leaves=None,\n",
       "              min_child_weight=1, missing=nan, monotone_constraints=None,\n",
       "              multi_strategy=None, n_estimators=75, n_jobs=None,\n",
       "              num_parallel_tree=None, objective=&#x27;multi:softprob&#x27;, ...)</pre></div> </div></div></div></div>"
      ],
      "text/plain": [
       "XGBClassifier(base_score=None, booster=None, callbacks=None,\n",
       "              colsample_bylevel=None, colsample_bynode=0.13950024165818975,\n",
       "              colsample_bytree=None, device=None, early_stopping_rounds=None,\n",
       "              enable_categorical=False,\n",
       "              eval_metric=<function custom_f1_score at 0x7fdbc916fce0>,\n",
       "              feature_types=None, gamma=None, grow_policy=None,\n",
       "              importance_type=None, interaction_constraints=None,\n",
       "              learning_rate=0.2213063587793534, max_bin=None,\n",
       "              max_cat_threshold=None, max_cat_to_onehot=None,\n",
       "              max_delta_step=None, max_depth=19, max_leaves=None,\n",
       "              min_child_weight=1, missing=nan, monotone_constraints=None,\n",
       "              multi_strategy=None, n_estimators=75, n_jobs=None,\n",
       "              num_parallel_tree=None, objective='multi:softprob', ...)"
      ]
     },
     "execution_count": 21,
     "metadata": {},
     "output_type": "execute_result"
    }
   ],
   "source": [
    "n_estimators = int(study.best_trial.user_attrs['best_iteration']*1.2)\n",
    "xgb = xgboost.XGBClassifier(\n",
    "        eval_metric=eval_metric,\n",
    "        n_estimators=n_estimators,\n",
    "        **study.best_trial.params\n",
    "    )\n",
    "xgb.fit(\n",
    "    ssp.vstack((X_train, X_val)), \n",
    "    np.concatenate((y_train_enc, y_val_enc)),\n",
    "    verbose=1,\n",
    ")"
   ]
  },
  {
   "cell_type": "code",
   "execution_count": 22,
   "id": "69f6bc5d",
   "metadata": {
    "execution": {
     "iopub.execute_input": "2025-05-14T16:11:06.593259Z",
     "iopub.status.busy": "2025-05-14T16:11:06.593045Z",
     "iopub.status.idle": "2025-05-14T16:11:06.680995Z",
     "shell.execute_reply": "2025-05-14T16:11:06.680644Z"
    },
    "papermill": {
     "duration": 0.099124,
     "end_time": "2025-05-14T16:11:06.681856",
     "exception": false,
     "start_time": "2025-05-14T16:11:06.582732",
     "status": "completed"
    },
    "tags": []
   },
   "outputs": [
    {
     "data": {
      "text/plain": [
       "['/scratch_isilon/groups/singlecell/shared/projects/Inflammation-PBMCs-Atlas/03_downstream_analysis/08_gene_importance/xgboost_external_validation/xgboost_TopN_genes/results_20/best_model/pDC_shap_studyID_4_xgb.json']"
      ]
     },
     "execution_count": 22,
     "metadata": {},
     "output_type": "execute_result"
    }
   ],
   "source": [
    "out_dir = here(f'03_downstream_analysis/08_gene_importance/xgboost_external_validation/xgboost_TopN_genes/results_{N_GENES}/best_model')\n",
    "\n",
    "if not os.path.exists(out_dir):\n",
    "    os.makedirs(out_dir)\n",
    "    \n",
    "joblib.dump(xgb, os.path.join(out_dir, f'{CELL_TYPE}_{SEED}_{TEST_SPLIT_IDX}_xgb.json'))"
   ]
  },
  {
   "cell_type": "code",
   "execution_count": 23,
   "id": "e62990bb",
   "metadata": {
    "execution": {
     "iopub.execute_input": "2025-05-14T16:11:06.700595Z",
     "iopub.status.busy": "2025-05-14T16:11:06.700408Z",
     "iopub.status.idle": "2025-05-14T16:11:06.713251Z",
     "shell.execute_reply": "2025-05-14T16:11:06.712919Z"
    },
    "papermill": {
     "duration": 0.023655,
     "end_time": "2025-05-14T16:11:06.714648",
     "exception": false,
     "start_time": "2025-05-14T16:11:06.690993",
     "status": "completed"
    },
    "tags": []
   },
   "outputs": [],
   "source": [
    "df_pred_test = pd.DataFrame(dict(\n",
    "    cell_id=train_adata.obs.iloc[test_idxs].index.values,\n",
    "    y_true=y_test, \n",
    "    y_true_code=y_test_enc, \n",
    "    y_pred=xgb.predict(X_test))).set_index('cell_id')"
   ]
  },
  {
   "cell_type": "code",
   "execution_count": 24,
   "id": "b0e92d25",
   "metadata": {
    "execution": {
     "iopub.execute_input": "2025-05-14T16:11:06.763631Z",
     "iopub.status.busy": "2025-05-14T16:11:06.763346Z",
     "iopub.status.idle": "2025-05-14T16:11:06.776479Z",
     "shell.execute_reply": "2025-05-14T16:11:06.776032Z"
    },
    "papermill": {
     "duration": 0.05376,
     "end_time": "2025-05-14T16:11:06.777737",
     "exception": false,
     "start_time": "2025-05-14T16:11:06.723977",
     "status": "completed"
    },
    "tags": []
   },
   "outputs": [],
   "source": [
    "out_dir = here(f'03_downstream_analysis/08_gene_importance/xgboost_external_validation/xgboost_TopN_genes/results_{N_GENES}/predictions')\n",
    "\n",
    "if not os.path.exists(out_dir):\n",
    "    os.makedirs(out_dir)\n",
    "    \n",
    "df_pred_test.to_csv(os.path.join(out_dir, f'{CELL_TYPE}_{SEED}_{TEST_SPLIT_IDX}_pred_test.zip'))"
   ]
  },
  {
   "cell_type": "code",
   "execution_count": 25,
   "id": "f378bb44",
   "metadata": {
    "execution": {
     "iopub.execute_input": "2025-05-14T16:11:06.797771Z",
     "iopub.status.busy": "2025-05-14T16:11:06.797524Z",
     "iopub.status.idle": "2025-05-14T16:11:06.803730Z",
     "shell.execute_reply": "2025-05-14T16:11:06.803397Z"
    },
    "papermill": {
     "duration": 0.016876,
     "end_time": "2025-05-14T16:11:06.804604",
     "exception": false,
     "start_time": "2025-05-14T16:11:06.787728",
     "status": "completed"
    },
    "tags": []
   },
   "outputs": [],
   "source": [
    "metrics_dict = dict(\n",
    "    BAS=balanced_accuracy_score(y_true=df_pred_test.y_true_code, y_pred=df_pred_test.y_pred), WF1=f1_score(y_true=df_pred_test.y_true_code, y_pred=df_pred_test.y_pred,average='weighted'))"
   ]
  },
  {
   "cell_type": "code",
   "execution_count": 26,
   "id": "e6d00081",
   "metadata": {
    "execution": {
     "iopub.execute_input": "2025-05-14T16:11:06.824951Z",
     "iopub.status.busy": "2025-05-14T16:11:06.824521Z",
     "iopub.status.idle": "2025-05-14T16:11:06.827457Z",
     "shell.execute_reply": "2025-05-14T16:11:06.827151Z"
    },
    "papermill": {
     "duration": 0.013221,
     "end_time": "2025-05-14T16:11:06.828278",
     "exception": false,
     "start_time": "2025-05-14T16:11:06.815057",
     "status": "completed"
    },
    "tags": []
   },
   "outputs": [
    {
     "data": {
      "text/plain": [
       "{'BAS': 0.4594251659278266, 'WF1': 0.7380467785727923}"
      ]
     },
     "execution_count": 26,
     "metadata": {},
     "output_type": "execute_result"
    }
   ],
   "source": [
    "metrics_dict"
   ]
  },
  {
   "cell_type": "code",
   "execution_count": 27,
   "id": "16e9eec0",
   "metadata": {
    "execution": {
     "iopub.execute_input": "2025-05-14T16:11:06.868528Z",
     "iopub.status.busy": "2025-05-14T16:11:06.868359Z",
     "iopub.status.idle": "2025-05-14T16:11:06.877433Z",
     "shell.execute_reply": "2025-05-14T16:11:06.877112Z"
    },
    "papermill": {
     "duration": 0.0406,
     "end_time": "2025-05-14T16:11:06.878271",
     "exception": false,
     "start_time": "2025-05-14T16:11:06.837671",
     "status": "completed"
    },
    "tags": []
   },
   "outputs": [
    {
     "data": {
      "text/html": [
       "<div>\n",
       "<style scoped>\n",
       "    .dataframe tbody tr th:only-of-type {\n",
       "        vertical-align: middle;\n",
       "    }\n",
       "\n",
       "    .dataframe tbody tr th {\n",
       "        vertical-align: top;\n",
       "    }\n",
       "\n",
       "    .dataframe thead th {\n",
       "        text-align: right;\n",
       "    }\n",
       "</style>\n",
       "<table border=\"1\" class=\"dataframe\">\n",
       "  <thead>\n",
       "    <tr style=\"text-align: right;\">\n",
       "      <th></th>\n",
       "      <th>BAS</th>\n",
       "      <th>WF1</th>\n",
       "      <th>split_idx</th>\n",
       "      <th>gene_set_seed</th>\n",
       "      <th>cell_type</th>\n",
       "    </tr>\n",
       "  </thead>\n",
       "  <tbody>\n",
       "    <tr>\n",
       "      <th>0</th>\n",
       "      <td>0.459425</td>\n",
       "      <td>0.738047</td>\n",
       "      <td>4</td>\n",
       "      <td>shap_studyID</td>\n",
       "      <td>pDC</td>\n",
       "    </tr>\n",
       "  </tbody>\n",
       "</table>\n",
       "</div>"
      ],
      "text/plain": [
       "        BAS       WF1  split_idx gene_set_seed cell_type\n",
       "0  0.459425  0.738047          4  shap_studyID       pDC"
      ]
     },
     "execution_count": 27,
     "metadata": {},
     "output_type": "execute_result"
    }
   ],
   "source": [
    "metrics_df = pd.DataFrame.from_dict([metrics_dict]).assign(split_idx=TEST_SPLIT_IDX, gene_set_seed=SEED, cell_type=CELL_TYPE)\n",
    "metrics_df"
   ]
  },
  {
   "cell_type": "code",
   "execution_count": 28,
   "id": "a8733e7a",
   "metadata": {
    "execution": {
     "iopub.execute_input": "2025-05-14T16:11:06.897248Z",
     "iopub.status.busy": "2025-05-14T16:11:06.896992Z",
     "iopub.status.idle": "2025-05-14T16:11:06.924923Z",
     "shell.execute_reply": "2025-05-14T16:11:06.924565Z"
    },
    "papermill": {
     "duration": 0.038305,
     "end_time": "2025-05-14T16:11:06.925737",
     "exception": false,
     "start_time": "2025-05-14T16:11:06.887432",
     "status": "completed"
    },
    "tags": []
   },
   "outputs": [],
   "source": [
    "out_dir = here(f'03_downstream_analysis/08_gene_importance/xgboost_external_validation/xgboost_TopN_genes/results_{N_GENES}/metrics')\n",
    "\n",
    "if not os.path.exists(out_dir):\n",
    "    os.makedirs(out_dir)\n",
    "    \n",
    "metrics_df.to_csv(os.path.join(out_dir, f'{CELL_TYPE}_{SEED}_{TEST_SPLIT_IDX}_metrics.zip'))"
   ]
  }
 ],
 "metadata": {
  "kernelspec": {
   "display_name": "Python 3 (ipykernel)",
   "language": "python",
   "name": "python3"
  },
  "language_info": {
   "codemirror_mode": {
    "name": "ipython",
    "version": 3
   },
   "file_extension": ".py",
   "mimetype": "text/x-python",
   "name": "python",
   "nbconvert_exporter": "python",
   "pygments_lexer": "ipython3",
   "version": "3.12.5"
  },
  "papermill": {
   "default_parameters": {},
   "duration": 28.142567,
   "end_time": "2025-05-14T16:11:07.550928",
   "environment_variables": {},
   "exception": null,
   "input_path": "02_xgboost_fitting_external_20genes.ipynb",
   "output_path": "results_20/executed_notebooks/xgboost_fitting_external_CT_pDC_GS_shap_studyID_seed4.ipynb",
   "parameters": {
    "CELL_TYPE": "pDC",
    "SEED": "shap_studyID",
    "TEST_SPLIT_IDX": 4
   },
   "start_time": "2025-05-14T16:10:39.408361",
   "version": "2.6.0"
  }
 },
 "nbformat": 4,
 "nbformat_minor": 5
}