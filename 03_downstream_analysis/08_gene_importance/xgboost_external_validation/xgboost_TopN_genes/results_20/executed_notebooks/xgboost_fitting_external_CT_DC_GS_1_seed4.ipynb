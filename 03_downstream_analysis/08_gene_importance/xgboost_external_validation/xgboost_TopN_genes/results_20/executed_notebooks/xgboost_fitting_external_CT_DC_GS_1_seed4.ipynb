{
 "cells": [
  {
   "cell_type": "code",
   "execution_count": 1,
   "id": "a8d24dbd",
   "metadata": {
    "editable": true,
    "execution": {
     "iopub.execute_input": "2025-05-15T16:14:31.566450Z",
     "iopub.status.busy": "2025-05-15T16:14:31.565980Z",
     "iopub.status.idle": "2025-05-15T16:14:31.568991Z",
     "shell.execute_reply": "2025-05-15T16:14:31.568666Z"
    },
    "papermill": {
     "duration": 0.012361,
     "end_time": "2025-05-15T16:14:31.570035",
     "exception": false,
     "start_time": "2025-05-15T16:14:31.557674",
     "status": "completed"
    },
    "slideshow": {
     "slide_type": ""
    },
    "tags": [
     "parameters"
    ]
   },
   "outputs": [],
   "source": [
    "CELL_TYPE = 'pDC'\n",
    "N_GENES: int = 20\n",
    "SEED = 'shap_studyID' #'disease_NOstudy' 'study_NOdisease' or 'int' or 'shap_studyID'\n",
    "TEST_SPLIT_IDX: int = 1 #[0,4]"
   ]
  },
  {
   "cell_type": "code",
   "execution_count": 2,
   "id": "bc1591f6",
   "metadata": {
    "execution": {
     "iopub.execute_input": "2025-05-15T16:14:31.582837Z",
     "iopub.status.busy": "2025-05-15T16:14:31.582644Z",
     "iopub.status.idle": "2025-05-15T16:14:31.584840Z",
     "shell.execute_reply": "2025-05-15T16:14:31.584526Z"
    },
    "papermill": {
     "duration": 0.009284,
     "end_time": "2025-05-15T16:14:31.585696",
     "exception": false,
     "start_time": "2025-05-15T16:14:31.576412",
     "status": "completed"
    },
    "tags": [
     "injected-parameters"
    ]
   },
   "outputs": [],
   "source": [
    "# Parameters\n",
    "CELL_TYPE = \"DC\"\n",
    "SEED = 1\n",
    "TEST_SPLIT_IDX = 4\n"
   ]
  },
  {
   "cell_type": "code",
   "execution_count": 3,
   "id": "aaf2ef96",
   "metadata": {
    "execution": {
     "iopub.execute_input": "2025-05-15T16:14:31.597081Z",
     "iopub.status.busy": "2025-05-15T16:14:31.596892Z",
     "iopub.status.idle": "2025-05-15T16:14:31.599021Z",
     "shell.execute_reply": "2025-05-15T16:14:31.598704Z"
    },
    "papermill": {
     "duration": 0.008691,
     "end_time": "2025-05-15T16:14:31.599831",
     "exception": false,
     "start_time": "2025-05-15T16:14:31.591140",
     "status": "completed"
    },
    "tags": []
   },
   "outputs": [],
   "source": [
    "N_SPLITS: int = 5\n",
    "N_TRIALS: int = 50"
   ]
  },
  {
   "cell_type": "code",
   "execution_count": 4,
   "id": "3dbfe287",
   "metadata": {
    "execution": {
     "iopub.execute_input": "2025-05-15T16:14:31.612904Z",
     "iopub.status.busy": "2025-05-15T16:14:31.612647Z",
     "iopub.status.idle": "2025-05-15T16:14:33.078152Z",
     "shell.execute_reply": "2025-05-15T16:14:33.077633Z"
    },
    "papermill": {
     "duration": 1.474437,
     "end_time": "2025-05-15T16:14:33.079702",
     "exception": false,
     "start_time": "2025-05-15T16:14:31.605265",
     "status": "completed"
    },
    "tags": []
   },
   "outputs": [],
   "source": [
    "import os\n",
    "import sys\n",
    "from pyprojroot.here import here\n",
    "import pandas as pd\n",
    "import anndata as ad\n",
    "import numpy as np\n",
    "import math\n",
    "from sklearn.model_selection import StratifiedGroupKFold\n",
    "from sklearn.preprocessing import LabelEncoder\n",
    "from sklearn.metrics import f1_score\n",
    "import matplotlib.pyplot as plt\n",
    "import seaborn as sns\n",
    "from itertools import product\n",
    "from sklearn.metrics import balanced_accuracy_score, f1_score\n",
    "import optuna\n",
    "\n",
    "import joblib\n",
    "import pickle\n",
    "import datetime\n",
    "\n",
    "import collections\n",
    "\n",
    "import xgboost\n",
    "from sklearn.preprocessing import LabelEncoder\n",
    "\n",
    "import scipy.sparse as ssp\n",
    "import joblib\n",
    "\n",
    "from dotenv import load_dotenv"
   ]
  },
  {
   "cell_type": "code",
   "execution_count": 5,
   "id": "15e151da",
   "metadata": {
    "execution": {
     "iopub.execute_input": "2025-05-15T16:14:33.093567Z",
     "iopub.status.busy": "2025-05-15T16:14:33.093164Z",
     "iopub.status.idle": "2025-05-15T16:14:33.098931Z",
     "shell.execute_reply": "2025-05-15T16:14:33.098613Z"
    },
    "papermill": {
     "duration": 0.013288,
     "end_time": "2025-05-15T16:14:33.099848",
     "exception": false,
     "start_time": "2025-05-15T16:14:33.086560",
     "status": "completed"
    },
    "tags": []
   },
   "outputs": [
    {
     "data": {
      "text/plain": [
       "True"
      ]
     },
     "execution_count": 5,
     "metadata": {},
     "output_type": "execute_result"
    }
   ],
   "source": [
    "load_dotenv()"
   ]
  },
  {
   "cell_type": "markdown",
   "id": "c7ac5384",
   "metadata": {
    "papermill": {
     "duration": 0.00578,
     "end_time": "2025-05-15T16:14:33.111613",
     "exception": false,
     "start_time": "2025-05-15T16:14:33.105833",
     "status": "completed"
    },
    "tags": []
   },
   "source": [
    "# LOAD DATASET"
   ]
  },
  {
   "cell_type": "code",
   "execution_count": 6,
   "id": "8031cfd9",
   "metadata": {
    "execution": {
     "iopub.execute_input": "2025-05-15T16:14:33.124678Z",
     "iopub.status.busy": "2025-05-15T16:14:33.124355Z",
     "iopub.status.idle": "2025-05-15T16:14:33.225919Z",
     "shell.execute_reply": "2025-05-15T16:14:33.225459Z"
    },
    "papermill": {
     "duration": 0.109642,
     "end_time": "2025-05-15T16:14:33.227436",
     "exception": false,
     "start_time": "2025-05-15T16:14:33.117794",
     "status": "completed"
    },
    "tags": []
   },
   "outputs": [],
   "source": [
    "train_adata = ad.read_h5ad(\n",
    "    here(f'03_downstream_analysis/08_gene_importance/xgboost_external_validation/xgboost_TopN_genes/data_cellTypes/EXTERNAL_{CELL_TYPE}.filtered.log1p.h5ad')\n",
    ")"
   ]
  },
  {
   "cell_type": "code",
   "execution_count": 7,
   "id": "3e75c175",
   "metadata": {
    "execution": {
     "iopub.execute_input": "2025-05-15T16:14:33.241689Z",
     "iopub.status.busy": "2025-05-15T16:14:33.241385Z",
     "iopub.status.idle": "2025-05-15T16:14:33.252593Z",
     "shell.execute_reply": "2025-05-15T16:14:33.252239Z"
    },
    "papermill": {
     "duration": 0.019491,
     "end_time": "2025-05-15T16:14:33.253460",
     "exception": false,
     "start_time": "2025-05-15T16:14:33.233969",
     "status": "completed"
    },
    "tags": []
   },
   "outputs": [
    {
     "name": "stdout",
     "output_type": "stream",
     "text": [
      "['ENSG00000120889' 'ENSG00000177575' 'ENSG00000169403' 'ENSG00000090382'\n",
      " 'ENSG00000119508' 'ENSG00000163191' 'ENSG00000162434' 'ENSG00000126561'\n",
      " 'ENSG00000136732' 'ENSG00000169564' 'ENSG00000108639' 'ENSG00000196154'\n",
      " 'ENSG00000143390' 'ENSG00000140678' 'ENSG00000057657' 'ENSG00000104918'\n",
      " 'ENSG00000111321' 'ENSG00000129084' 'ENSG00000137100' 'ENSG00000175104'\n",
      " 'ENSG00000059728' 'ENSG00000028137' 'ENSG00000089280' 'ENSG00000133246'\n",
      " 'ENSG00000165140' 'ENSG00000160712' 'ENSG00000155380' 'ENSG00000172543'\n",
      " 'ENSG00000121316' 'ENSG00000143575' 'ENSG00000131018' 'ENSG00000135604'\n",
      " 'ENSG00000161944' 'ENSG00000137265' 'ENSG00000115738' 'ENSG00000159128'\n",
      " 'ENSG00000100600' 'ENSG00000142546' 'ENSG00000141367' 'ENSG00000183172'\n",
      " 'ENSG00000130724' 'ENSG00000119922' 'ENSG00000075234' 'ENSG00000125657'\n",
      " 'ENSG00000189067' 'ENSG00000196961' 'ENSG00000107968' 'ENSG00000089737'\n",
      " 'ENSG00000107223' 'ENSG00000114013' 'ENSG00000122359' 'ENSG00000182578'\n",
      " 'ENSG00000111331' 'ENSG00000009790' 'ENSG00000131143' 'ENSG00000127507'\n",
      " 'ENSG00000075785' 'ENSG00000110876' 'ENSG00000168389' 'ENSG00000105397'\n",
      " 'ENSG00000164307' 'ENSG00000089327' 'ENSG00000112137' 'ENSG00000198668'\n",
      " 'ENSG00000019169' 'ENSG00000165280' 'ENSG00000166888' 'ENSG00000185215'\n",
      " 'ENSG00000204267' 'ENSG00000113070' 'ENSG00000176788' 'ENSG00000235568'\n",
      " 'ENSG00000133639' 'ENSG00000011600' 'ENSG00000179639' 'ENSG00000090554'\n",
      " 'ENSG00000119917' 'ENSG00000187608' 'ENSG00000143924' 'ENSG00000228474'\n",
      " 'ENSG00000161921' 'ENSG00000119655' 'ENSG00000277632' 'ENSG00000160075'\n",
      " 'ENSG00000150337' 'ENSG00000175489' 'ENSG00000158517' 'ENSG00000077238'\n",
      " 'ENSG00000104093' 'ENSG00000136689' 'ENSG00000152056' 'ENSG00000161955'\n",
      " 'ENSG00000172260' 'ENSG00000168894' 'ENSG00000106367' 'ENSG00000143546'\n",
      " 'ENSG00000260314' 'ENSG00000166949' 'ENSG00000066336' 'ENSG00000105835'\n",
      " 'ENSG00000125810' 'ENSG00000165168' 'ENSG00000163931' 'ENSG00000160791'\n",
      " 'ENSG00000111678' 'ENSG00000104904' 'ENSG00000173757' 'ENSG00000131196'\n",
      " 'ENSG00000121552' 'ENSG00000160883' 'ENSG00000183696' 'ENSG00000137331'\n",
      " 'ENSG00000124882' 'ENSG00000239713' 'ENSG00000125743' 'ENSG00000179344'\n",
      " 'ENSG00000111275' 'ENSG00000170345']\n"
     ]
    }
   ],
   "source": [
    "if SEED != 'all':\n",
    "    gene_subset = np.load(here(f'03_downstream_analysis/08_gene_importance/xgboost_external_validation/shap_gene_selection/gene_subsets_{N_GENES}/{CELL_TYPE}_{SEED}.npy'), allow_pickle=True)\n",
    "    train_adata = train_adata[:,gene_subset]\n",
    "    print(gene_subset)\n",
    "elif SEED == 'all':\n",
    "    print('Using all genes')\n",
    "else:\n",
    "    raise ValueError()"
   ]
  },
  {
   "cell_type": "code",
   "execution_count": 8,
   "id": "f2654df0",
   "metadata": {
    "execution": {
     "iopub.execute_input": "2025-05-15T16:14:33.265711Z",
     "iopub.status.busy": "2025-05-15T16:14:33.265297Z",
     "iopub.status.idle": "2025-05-15T16:14:33.268343Z",
     "shell.execute_reply": "2025-05-15T16:14:33.268024Z"
    },
    "papermill": {
     "duration": 0.010117,
     "end_time": "2025-05-15T16:14:33.269273",
     "exception": false,
     "start_time": "2025-05-15T16:14:33.259156",
     "status": "completed"
    },
    "tags": []
   },
   "outputs": [
    {
     "data": {
      "text/plain": [
       "(5232, 118)"
      ]
     },
     "execution_count": 8,
     "metadata": {},
     "output_type": "execute_result"
    }
   ],
   "source": [
    "train_adata.shape"
   ]
  },
  {
   "cell_type": "code",
   "execution_count": 9,
   "id": "eaf41da7",
   "metadata": {
    "execution": {
     "iopub.execute_input": "2025-05-15T16:14:33.282850Z",
     "iopub.status.busy": "2025-05-15T16:14:33.282319Z",
     "iopub.status.idle": "2025-05-15T16:14:33.285941Z",
     "shell.execute_reply": "2025-05-15T16:14:33.285634Z"
    },
    "papermill": {
     "duration": 0.011215,
     "end_time": "2025-05-15T16:14:33.286850",
     "exception": false,
     "start_time": "2025-05-15T16:14:33.275635",
     "status": "completed"
    },
    "tags": []
   },
   "outputs": [
    {
     "data": {
      "text/plain": [
       "['RA', 'healthy', 'COVID', 'HIV', 'cirrhosis', 'CD', 'SLE', 'sepsis']\n",
       "Categories (8, object): ['CD', 'COVID', 'HIV', 'RA', 'SLE', 'cirrhosis', 'healthy', 'sepsis']"
      ]
     },
     "execution_count": 9,
     "metadata": {},
     "output_type": "execute_result"
    }
   ],
   "source": [
    "train_adata.obs.disease.unique()"
   ]
  },
  {
   "cell_type": "code",
   "execution_count": 10,
   "id": "98e11fdd",
   "metadata": {
    "execution": {
     "iopub.execute_input": "2025-05-15T16:14:33.299830Z",
     "iopub.status.busy": "2025-05-15T16:14:33.299393Z",
     "iopub.status.idle": "2025-05-15T16:14:33.303012Z",
     "shell.execute_reply": "2025-05-15T16:14:33.302703Z"
    },
    "papermill": {
     "duration": 0.010966,
     "end_time": "2025-05-15T16:14:33.303968",
     "exception": false,
     "start_time": "2025-05-15T16:14:33.293002",
     "status": "completed"
    },
    "tags": []
   },
   "outputs": [
    {
     "data": {
      "text/plain": [
       "['SCGT00val_I036021_T0', 'SCGT00val_I036023_T0', 'SCGT00val_I036024_T0', 'SCGT00val_I036019_T0', 'SCGT00val_I0364_T0', ..., '10XGenomics_10XHC2_T0', '10XGenomics_10XHC3_T0', '10XGenomics_10XHC5_T0', '10XGenomics_10XHC7_T0', '10XGenomics_10XHC8_T0']\n",
       "Length: 86\n",
       "Categories (86, object): ['10XGenomics_10XHC1_T0', '10XGenomics_10XHC2_T0', '10XGenomics_10XHC3_T0', '10XGenomics_10XHC4_T0', ..., 'Savage2021_BRISL6_T0', 'Savage2021_BRISL7_T0', 'Savage2021_PIDA_T0', 'Savage2021_PIDB_T0']"
      ]
     },
     "execution_count": 10,
     "metadata": {},
     "output_type": "execute_result"
    }
   ],
   "source": [
    "train_adata.obs.sampleID.unique()"
   ]
  },
  {
   "cell_type": "code",
   "execution_count": 11,
   "id": "2b6a8f18",
   "metadata": {
    "execution": {
     "iopub.execute_input": "2025-05-15T16:14:33.316622Z",
     "iopub.status.busy": "2025-05-15T16:14:33.316328Z",
     "iopub.status.idle": "2025-05-15T16:14:33.359136Z",
     "shell.execute_reply": "2025-05-15T16:14:33.358738Z"
    },
    "papermill": {
     "duration": 0.050539,
     "end_time": "2025-05-15T16:14:33.360491",
     "exception": false,
     "start_time": "2025-05-15T16:14:33.309952",
     "status": "completed"
    },
    "tags": []
   },
   "outputs": [],
   "source": [
    "all_idxs = np.arange(train_adata.obs.shape[0])\n",
    "left_out_splits = [s[1] for s in StratifiedGroupKFold(n_splits=N_SPLITS).split(all_idxs, train_adata.obs.disease, train_adata.obs.sampleID)]"
   ]
  },
  {
   "cell_type": "code",
   "execution_count": 12,
   "id": "266476c8",
   "metadata": {
    "execution": {
     "iopub.execute_input": "2025-05-15T16:14:33.373875Z",
     "iopub.status.busy": "2025-05-15T16:14:33.373694Z",
     "iopub.status.idle": "2025-05-15T16:14:33.377069Z",
     "shell.execute_reply": "2025-05-15T16:14:33.376749Z"
    },
    "papermill": {
     "duration": 0.010784,
     "end_time": "2025-05-15T16:14:33.377899",
     "exception": false,
     "start_time": "2025-05-15T16:14:33.367115",
     "status": "completed"
    },
    "tags": []
   },
   "outputs": [
    {
     "data": {
      "text/plain": [
       "([1, 2, 3], 0, 4)"
      ]
     },
     "execution_count": 12,
     "metadata": {},
     "output_type": "execute_result"
    }
   ],
   "source": [
    "TRAIN_SPLIT_IDXS = [0,1,2,3,4]\n",
    "VAL_SPLIT_IDX = (TEST_SPLIT_IDX + 1) % 5\n",
    "TRAIN_SPLIT_IDXS.remove(TEST_SPLIT_IDX)\n",
    "TRAIN_SPLIT_IDXS.remove(VAL_SPLIT_IDX)\n",
    "TRAIN_SPLIT_IDXS, VAL_SPLIT_IDX, TEST_SPLIT_IDX"
   ]
  },
  {
   "cell_type": "code",
   "execution_count": 13,
   "id": "1e8e3896",
   "metadata": {
    "execution": {
     "iopub.execute_input": "2025-05-15T16:14:33.389733Z",
     "iopub.status.busy": "2025-05-15T16:14:33.389550Z",
     "iopub.status.idle": "2025-05-15T16:14:33.391924Z",
     "shell.execute_reply": "2025-05-15T16:14:33.391609Z"
    },
    "papermill": {
     "duration": 0.00921,
     "end_time": "2025-05-15T16:14:33.392764",
     "exception": false,
     "start_time": "2025-05-15T16:14:33.383554",
     "status": "completed"
    },
    "tags": []
   },
   "outputs": [],
   "source": [
    "train_idxs = np.concatenate([left_out_splits[idx] for idx in TRAIN_SPLIT_IDXS])\n",
    "val_idxs = left_out_splits[VAL_SPLIT_IDX]\n",
    "test_idxs = left_out_splits[TEST_SPLIT_IDX]"
   ]
  },
  {
   "cell_type": "markdown",
   "id": "f579d48f",
   "metadata": {
    "papermill": {
     "duration": 0.005945,
     "end_time": "2025-05-15T16:14:33.404722",
     "exception": false,
     "start_time": "2025-05-15T16:14:33.398777",
     "status": "completed"
    },
    "tags": []
   },
   "source": [
    "### SUBSET DATASET INTO TRAIN/TEST/VAL SPLITS"
   ]
  },
  {
   "cell_type": "code",
   "execution_count": 14,
   "id": "cf13d748",
   "metadata": {
    "execution": {
     "iopub.execute_input": "2025-05-15T16:14:33.417772Z",
     "iopub.status.busy": "2025-05-15T16:14:33.417567Z",
     "iopub.status.idle": "2025-05-15T16:14:33.444466Z",
     "shell.execute_reply": "2025-05-15T16:14:33.444089Z"
    },
    "papermill": {
     "duration": 0.034586,
     "end_time": "2025-05-15T16:14:33.445406",
     "exception": false,
     "start_time": "2025-05-15T16:14:33.410820",
     "status": "completed"
    },
    "tags": []
   },
   "outputs": [
    {
     "data": {
      "text/plain": [
       "((3186, 118), (1013, 118), (1033, 118))"
      ]
     },
     "execution_count": 14,
     "metadata": {},
     "output_type": "execute_result"
    }
   ],
   "source": [
    "X_train = train_adata.X[train_idxs]\n",
    "X_test = train_adata.X[test_idxs]\n",
    "X_val = train_adata.X[val_idxs]\n",
    "X_train.shape, X_test.shape, X_val.shape"
   ]
  },
  {
   "cell_type": "code",
   "execution_count": 15,
   "id": "136f9c11",
   "metadata": {
    "execution": {
     "iopub.execute_input": "2025-05-15T16:14:33.458957Z",
     "iopub.status.busy": "2025-05-15T16:14:33.458741Z",
     "iopub.status.idle": "2025-05-15T16:14:33.464349Z",
     "shell.execute_reply": "2025-05-15T16:14:33.464044Z"
    },
    "papermill": {
     "duration": 0.013255,
     "end_time": "2025-05-15T16:14:33.465237",
     "exception": false,
     "start_time": "2025-05-15T16:14:33.451982",
     "status": "completed"
    },
    "tags": []
   },
   "outputs": [
    {
     "data": {
      "text/plain": [
       "((3186,), (1013,), (1033,))"
      ]
     },
     "execution_count": 15,
     "metadata": {},
     "output_type": "execute_result"
    }
   ],
   "source": [
    "y_train = train_adata.obs.iloc[train_idxs].disease.values.astype(str)\n",
    "y_test = train_adata.obs.iloc[test_idxs].disease.values.astype(str)\n",
    "y_val = train_adata.obs.iloc[val_idxs].disease.values.astype(str)\n",
    "y_train.shape, y_test.shape, y_val.shape"
   ]
  },
  {
   "cell_type": "code",
   "execution_count": 16,
   "id": "e173cdc4",
   "metadata": {
    "execution": {
     "iopub.execute_input": "2025-05-15T16:14:33.479406Z",
     "iopub.status.busy": "2025-05-15T16:14:33.479048Z",
     "iopub.status.idle": "2025-05-15T16:14:33.482883Z",
     "shell.execute_reply": "2025-05-15T16:14:33.482537Z"
    },
    "papermill": {
     "duration": 0.011701,
     "end_time": "2025-05-15T16:14:33.483752",
     "exception": false,
     "start_time": "2025-05-15T16:14:33.472051",
     "status": "completed"
    },
    "tags": []
   },
   "outputs": [],
   "source": [
    "lenc = LabelEncoder()\n",
    "y_train_enc = lenc.fit_transform(y_train)\n",
    "y_val_enc = lenc.transform(y_val)\n",
    "y_test_enc = lenc.transform(y_test)"
   ]
  },
  {
   "cell_type": "markdown",
   "id": "bb9d973a",
   "metadata": {
    "papermill": {
     "duration": 0.005804,
     "end_time": "2025-05-15T16:14:33.497199",
     "exception": false,
     "start_time": "2025-05-15T16:14:33.491395",
     "status": "completed"
    },
    "tags": []
   },
   "source": [
    "### GENERATE F1 "
   ]
  },
  {
   "cell_type": "code",
   "execution_count": 17,
   "id": "5af03c92",
   "metadata": {
    "execution": {
     "iopub.execute_input": "2025-05-15T16:14:33.509692Z",
     "iopub.status.busy": "2025-05-15T16:14:33.509458Z",
     "iopub.status.idle": "2025-05-15T16:14:33.511806Z",
     "shell.execute_reply": "2025-05-15T16:14:33.511497Z"
    },
    "papermill": {
     "duration": 0.00978,
     "end_time": "2025-05-15T16:14:33.512684",
     "exception": false,
     "start_time": "2025-05-15T16:14:33.502904",
     "status": "completed"
    },
    "tags": []
   },
   "outputs": [],
   "source": [
    "def custom_f1_score(y_true, y_pred):\n",
    "    return -f1_score(y_true, y_pred.argmax(1), average='weighted')"
   ]
  },
  {
   "cell_type": "code",
   "execution_count": 18,
   "id": "56ece7f0",
   "metadata": {
    "execution": {
     "iopub.execute_input": "2025-05-15T16:14:33.525196Z",
     "iopub.status.busy": "2025-05-15T16:14:33.525016Z",
     "iopub.status.idle": "2025-05-15T16:14:33.528803Z",
     "shell.execute_reply": "2025-05-15T16:14:33.528485Z"
    },
    "papermill": {
     "duration": 0.01131,
     "end_time": "2025-05-15T16:14:33.529724",
     "exception": false,
     "start_time": "2025-05-15T16:14:33.518414",
     "status": "completed"
    },
    "tags": []
   },
   "outputs": [],
   "source": [
    "eval_metric=custom_f1_score\n",
    "eval_metric_name='custom_f1_score'\n",
    "\n",
    "def objective(trial):\n",
    "    params = {\n",
    "        'n_estimators': 1500,\n",
    "        'max_depth': trial.suggest_int('max_depth', 3, 20),\n",
    "        'min_child_weight': trial.suggest_int('min_child_weight', 1, 250),\n",
    "        'subsample': trial.suggest_float('subsample', 0.1, 1.0),\n",
    "        'colsample_bynode': trial.suggest_float('colsample_bynode', 0.1, 1.0),\n",
    "        'learning_rate': trial.suggest_float('learning_rate', 1e-3, 5e-1, log=True),\n",
    "    }\n",
    "    pruning_callback = optuna.integration.XGBoostPruningCallback(trial, f'validation_0-{eval_metric_name}')\n",
    "    es_callback = xgboost.callback.EarlyStopping(20, min_delta=0.001)\n",
    "    xgb = xgboost.XGBClassifier(\n",
    "        eval_metric=eval_metric,\n",
    "        callbacks=[pruning_callback, es_callback],\n",
    "        n_jobs=5,\n",
    "        **params\n",
    "    )\n",
    "    xgb.fit(\n",
    "        X_train, \n",
    "        y_train_enc, \n",
    "        verbose=0,\n",
    "        eval_set=[(X_val, y_val_enc)],\n",
    "    )\n",
    "    trial.set_user_attr('best_iteration', xgb.best_iteration)\n",
    "\n",
    "    return xgb.best_score"
   ]
  },
  {
   "cell_type": "code",
   "execution_count": 19,
   "id": "bba0db0b",
   "metadata": {
    "execution": {
     "iopub.execute_input": "2025-05-15T16:14:33.542950Z",
     "iopub.status.busy": "2025-05-15T16:14:33.542780Z",
     "iopub.status.idle": "2025-05-15T16:15:04.391433Z",
     "shell.execute_reply": "2025-05-15T16:15:04.390927Z"
    },
    "papermill": {
     "duration": 30.856203,
     "end_time": "2025-05-15T16:15:04.392421",
     "exception": false,
     "start_time": "2025-05-15T16:14:33.536218",
     "status": "completed"
    },
    "scrolled": true,
    "tags": []
   },
   "outputs": [
    {
     "name": "stderr",
     "output_type": "stream",
     "text": [
      "[I 2025-05-15 18:14:33,544] A new study created in memory with name: no-name-3b1260bb-7e48-4966-a116-c84795f671d3\n"
     ]
    },
    {
     "name": "stderr",
     "output_type": "stream",
     "text": [
      "[I 2025-05-15 18:14:33,744] Trial 0 finished with value: -0.573989 and parameters: {'max_depth': 9, 'min_child_weight': 238, 'subsample': 0.7587945476302645, 'colsample_bynode': 0.6387926357773329, 'learning_rate': 0.0026368755339723046}. Best is trial 0 with value: -0.573989.\n"
     ]
    },
    {
     "name": "stderr",
     "output_type": "stream",
     "text": [
      "[I 2025-05-15 18:14:36,718] Trial 1 finished with value: -0.815635 and parameters: {'max_depth': 5, 'min_child_weight': 15, 'subsample': 0.8795585311974417, 'colsample_bynode': 0.6410035105688879, 'learning_rate': 0.08148293210105287}. Best is trial 1 with value: -0.815635.\n"
     ]
    },
    {
     "name": "stderr",
     "output_type": "stream",
     "text": [
      "[I 2025-05-15 18:14:37,096] Trial 2 finished with value: -0.614555 and parameters: {'max_depth': 3, 'min_child_weight': 243, 'subsample': 0.8491983767203796, 'colsample_bynode': 0.29110519961044856, 'learning_rate': 0.003095566460242371}. Best is trial 1 with value: -0.815635.\n"
     ]
    },
    {
     "name": "stderr",
     "output_type": "stream",
     "text": [
      "[I 2025-05-15 18:14:37,541] Trial 3 finished with value: -0.614356 and parameters: {'max_depth': 6, 'min_child_weight': 77, 'subsample': 0.5722807884690141, 'colsample_bynode': 0.48875051677790415, 'learning_rate': 0.006109683510122491}. Best is trial 1 with value: -0.815635.\n"
     ]
    },
    {
     "name": "stderr",
     "output_type": "stream",
     "text": [
      "[I 2025-05-15 18:14:37,954] Trial 4 finished with value: -0.632947 and parameters: {'max_depth': 14, 'min_child_weight': 35, 'subsample': 0.3629301836816964, 'colsample_bynode': 0.4297256589643226, 'learning_rate': 0.01701841881702917}. Best is trial 1 with value: -0.815635.\n"
     ]
    },
    {
     "name": "stderr",
     "output_type": "stream",
     "text": [
      "[I 2025-05-15 18:14:38,382] Trial 5 finished with value: -0.624419 and parameters: {'max_depth': 17, 'min_child_weight': 50, 'subsample': 0.5628109945722505, 'colsample_bynode': 0.6331731119758383, 'learning_rate': 0.0013346527038305934}. Best is trial 1 with value: -0.815635.\n"
     ]
    },
    {
     "name": "stderr",
     "output_type": "stream",
     "text": [
      "[I 2025-05-15 18:14:38,507] Trial 6 pruned. Trial was pruned at iteration 0.\n"
     ]
    },
    {
     "name": "stderr",
     "output_type": "stream",
     "text": [
      "[I 2025-05-15 18:14:38,643] Trial 7 pruned. Trial was pruned at iteration 0.\n"
     ]
    },
    {
     "name": "stderr",
     "output_type": "stream",
     "text": [
      "[I 2025-05-15 18:14:38,779] Trial 8 pruned. Trial was pruned at iteration 0.\n"
     ]
    },
    {
     "name": "stderr",
     "output_type": "stream",
     "text": [
      "[I 2025-05-15 18:14:38,930] Trial 9 pruned. Trial was pruned at iteration 1.\n"
     ]
    },
    {
     "name": "stderr",
     "output_type": "stream",
     "text": [
      "[I 2025-05-15 18:14:40,828] Trial 10 pruned. Trial was pruned at iteration 49.\n"
     ]
    },
    {
     "name": "stderr",
     "output_type": "stream",
     "text": [
      "[I 2025-05-15 18:14:42,405] Trial 11 pruned. Trial was pruned at iteration 40.\n"
     ]
    },
    {
     "name": "stderr",
     "output_type": "stream",
     "text": [
      "[I 2025-05-15 18:14:42,574] Trial 12 pruned. Trial was pruned at iteration 0.\n"
     ]
    },
    {
     "name": "stderr",
     "output_type": "stream",
     "text": [
      "[I 2025-05-15 18:14:42,742] Trial 13 pruned. Trial was pruned at iteration 0.\n"
     ]
    },
    {
     "name": "stderr",
     "output_type": "stream",
     "text": [
      "[I 2025-05-15 18:14:43,750] Trial 14 pruned. Trial was pruned at iteration 40.\n"
     ]
    },
    {
     "name": "stderr",
     "output_type": "stream",
     "text": [
      "[I 2025-05-15 18:14:43,904] Trial 15 pruned. Trial was pruned at iteration 0.\n"
     ]
    },
    {
     "name": "stderr",
     "output_type": "stream",
     "text": [
      "[I 2025-05-15 18:14:44,073] Trial 16 pruned. Trial was pruned at iteration 1.\n"
     ]
    },
    {
     "name": "stderr",
     "output_type": "stream",
     "text": [
      "[I 2025-05-15 18:14:44,243] Trial 17 pruned. Trial was pruned at iteration 1.\n"
     ]
    },
    {
     "name": "stderr",
     "output_type": "stream",
     "text": [
      "[I 2025-05-15 18:14:45,336] Trial 18 pruned. Trial was pruned at iteration 40.\n"
     ]
    },
    {
     "name": "stderr",
     "output_type": "stream",
     "text": [
      "[I 2025-05-15 18:14:45,479] Trial 19 pruned. Trial was pruned at iteration 0.\n"
     ]
    },
    {
     "name": "stderr",
     "output_type": "stream",
     "text": [
      "[I 2025-05-15 18:14:46,594] Trial 20 finished with value: -0.809386 and parameters: {'max_depth': 8, 'min_child_weight': 58, 'subsample': 0.8601573496833833, 'colsample_bynode': 0.4219050383446501, 'learning_rate': 0.40447729227340423}. Best is trial 1 with value: -0.815635.\n"
     ]
    },
    {
     "name": "stderr",
     "output_type": "stream",
     "text": [
      "[I 2025-05-15 18:14:47,423] Trial 21 finished with value: -0.812016 and parameters: {'max_depth': 7, 'min_child_weight': 61, 'subsample': 0.8524655332992119, 'colsample_bynode': 0.39904791130112793, 'learning_rate': 0.3936908358061968}. Best is trial 1 with value: -0.815635.\n"
     ]
    },
    {
     "name": "stderr",
     "output_type": "stream",
     "text": [
      "[I 2025-05-15 18:14:48,175] Trial 22 finished with value: -0.813633 and parameters: {'max_depth': 8, 'min_child_weight': 63, 'subsample': 0.8762431399620951, 'colsample_bynode': 0.34736765409573644, 'learning_rate': 0.4798395996902345}. Best is trial 1 with value: -0.815635.\n"
     ]
    },
    {
     "name": "stderr",
     "output_type": "stream",
     "text": [
      "[I 2025-05-15 18:14:48,362] Trial 23 pruned. Trial was pruned at iteration 0.\n"
     ]
    },
    {
     "name": "stderr",
     "output_type": "stream",
     "text": [
      "[I 2025-05-15 18:14:48,526] Trial 24 pruned. Trial was pruned at iteration 0.\n"
     ]
    },
    {
     "name": "stderr",
     "output_type": "stream",
     "text": [
      "[I 2025-05-15 18:14:48,683] Trial 25 pruned. Trial was pruned at iteration 0.\n"
     ]
    },
    {
     "name": "stderr",
     "output_type": "stream",
     "text": [
      "[I 2025-05-15 18:14:49,387] Trial 26 finished with value: -0.818741 and parameters: {'max_depth': 7, 'min_child_weight': 22, 'subsample': 0.9084684401370251, 'colsample_bynode': 0.3716799099862253, 'learning_rate': 0.4836036460895091}. Best is trial 26 with value: -0.818741.\n"
     ]
    },
    {
     "name": "stderr",
     "output_type": "stream",
     "text": [
      "[I 2025-05-15 18:14:51,343] Trial 27 finished with value: -0.831248 and parameters: {'max_depth': 5, 'min_child_weight': 17, 'subsample': 0.9367633672184769, 'colsample_bynode': 0.6784889090373202, 'learning_rate': 0.25582522987387174}. Best is trial 27 with value: -0.831248.\n"
     ]
    },
    {
     "name": "stderr",
     "output_type": "stream",
     "text": [
      "[I 2025-05-15 18:14:52,464] Trial 28 finished with value: -0.812136 and parameters: {'max_depth': 5, 'min_child_weight': 19, 'subsample': 0.940970115551818, 'colsample_bynode': 0.6736201743705637, 'learning_rate': 0.25977692941596375}. Best is trial 27 with value: -0.831248.\n"
     ]
    },
    {
     "name": "stderr",
     "output_type": "stream",
     "text": [
      "[I 2025-05-15 18:14:52,636] Trial 29 pruned. Trial was pruned at iteration 0.\n"
     ]
    },
    {
     "name": "stderr",
     "output_type": "stream",
     "text": [
      "[I 2025-05-15 18:14:53,729] Trial 30 pruned. Trial was pruned at iteration 20.\n"
     ]
    },
    {
     "name": "stderr",
     "output_type": "stream",
     "text": [
      "[I 2025-05-15 18:14:54,296] Trial 31 pruned. Trial was pruned at iteration 20.\n"
     ]
    },
    {
     "name": "stderr",
     "output_type": "stream",
     "text": [
      "[I 2025-05-15 18:14:55,457] Trial 32 finished with value: -0.820398 and parameters: {'max_depth': 8, 'min_child_weight': 12, 'subsample': 0.9223968935313666, 'colsample_bynode': 0.3588125678813655, 'learning_rate': 0.42167738168221613}. Best is trial 27 with value: -0.831248.\n"
     ]
    },
    {
     "name": "stderr",
     "output_type": "stream",
     "text": [
      "[I 2025-05-15 18:14:55,801] Trial 33 pruned. Trial was pruned at iteration 12.\n"
     ]
    },
    {
     "name": "stderr",
     "output_type": "stream",
     "text": [
      "[I 2025-05-15 18:14:57,052] Trial 34 finished with value: -0.817839 and parameters: {'max_depth': 6, 'min_child_weight': 14, 'subsample': 0.9445126729750875, 'colsample_bynode': 0.47313258093544364, 'learning_rate': 0.3073763200896791}. Best is trial 27 with value: -0.831248.\n"
     ]
    },
    {
     "name": "stderr",
     "output_type": "stream",
     "text": [
      "[I 2025-05-15 18:14:57,450] Trial 35 pruned. Trial was pruned at iteration 14.\n"
     ]
    },
    {
     "name": "stderr",
     "output_type": "stream",
     "text": [
      "[I 2025-05-15 18:14:58,285] Trial 36 finished with value: -0.817832 and parameters: {'max_depth': 6, 'min_child_weight': 13, 'subsample': 0.9142934523126205, 'colsample_bynode': 0.3711162115266833, 'learning_rate': 0.4774975958010775}. Best is trial 27 with value: -0.831248.\n"
     ]
    },
    {
     "name": "stderr",
     "output_type": "stream",
     "text": [
      "[I 2025-05-15 18:14:58,518] Trial 37 pruned. Trial was pruned at iteration 3.\n"
     ]
    },
    {
     "name": "stderr",
     "output_type": "stream",
     "text": [
      "[I 2025-05-15 18:14:58,712] Trial 38 pruned. Trial was pruned at iteration 1.\n"
     ]
    },
    {
     "name": "stderr",
     "output_type": "stream",
     "text": [
      "[I 2025-05-15 18:14:58,877] Trial 39 pruned. Trial was pruned at iteration 1.\n"
     ]
    },
    {
     "name": "stderr",
     "output_type": "stream",
     "text": [
      "[I 2025-05-15 18:14:59,028] Trial 40 pruned. Trial was pruned at iteration 0.\n"
     ]
    },
    {
     "name": "stderr",
     "output_type": "stream",
     "text": [
      "[I 2025-05-15 18:15:00,051] Trial 41 finished with value: -0.827737 and parameters: {'max_depth': 6, 'min_child_weight': 14, 'subsample': 0.9077198749592456, 'colsample_bynode': 0.3781913756151758, 'learning_rate': 0.47994598457837623}. Best is trial 27 with value: -0.831248.\n"
     ]
    },
    {
     "name": "stderr",
     "output_type": "stream",
     "text": [
      "[I 2025-05-15 18:15:01,196] Trial 42 finished with value: -0.836547 and parameters: {'max_depth': 7, 'min_child_weight': 12, 'subsample': 0.8374447628486461, 'colsample_bynode': 0.37898459799616857, 'learning_rate': 0.4948689566488505}. Best is trial 42 with value: -0.836547.\n"
     ]
    },
    {
     "name": "stderr",
     "output_type": "stream",
     "text": [
      "[I 2025-05-15 18:15:01,371] Trial 43 pruned. Trial was pruned at iteration 0.\n"
     ]
    },
    {
     "name": "stderr",
     "output_type": "stream",
     "text": [
      "[I 2025-05-15 18:15:02,790] Trial 44 pruned. Trial was pruned at iteration 27.\n"
     ]
    },
    {
     "name": "stderr",
     "output_type": "stream",
     "text": [
      "[I 2025-05-15 18:15:03,006] Trial 45 pruned. Trial was pruned at iteration 1.\n"
     ]
    },
    {
     "name": "stderr",
     "output_type": "stream",
     "text": [
      "[I 2025-05-15 18:15:03,170] Trial 46 pruned. Trial was pruned at iteration 0.\n"
     ]
    },
    {
     "name": "stderr",
     "output_type": "stream",
     "text": [
      "[I 2025-05-15 18:15:03,337] Trial 47 pruned. Trial was pruned at iteration 0.\n"
     ]
    },
    {
     "name": "stderr",
     "output_type": "stream",
     "text": [
      "[I 2025-05-15 18:15:04,068] Trial 48 pruned. Trial was pruned at iteration 25.\n"
     ]
    },
    {
     "name": "stderr",
     "output_type": "stream",
     "text": [
      "[I 2025-05-15 18:15:04,275] Trial 49 pruned. Trial was pruned at iteration 1.\n"
     ]
    }
   ],
   "source": [
    "sampler = optuna.samplers.TPESampler(seed=42)\n",
    "study = optuna.create_study(direction='minimize', sampler=sampler)\n",
    "study.optimize(objective, n_trials=N_TRIALS, gc_after_trial=True)"
   ]
  },
  {
   "cell_type": "code",
   "execution_count": 20,
   "id": "e94fddb1",
   "metadata": {
    "execution": {
     "iopub.execute_input": "2025-05-15T16:15:04.432432Z",
     "iopub.status.busy": "2025-05-15T16:15:04.431958Z",
     "iopub.status.idle": "2025-05-15T16:15:04.455596Z",
     "shell.execute_reply": "2025-05-15T16:15:04.455088Z"
    },
    "papermill": {
     "duration": 0.036472,
     "end_time": "2025-05-15T16:15:04.456683",
     "exception": false,
     "start_time": "2025-05-15T16:15:04.420211",
     "status": "completed"
    },
    "tags": []
   },
   "outputs": [
    {
     "data": {
      "text/plain": [
       "['/scratch_isilon/groups/singlecell/shared/projects/Inflammation-PBMCs-Atlas/03_downstream_analysis/08_gene_importance/xgboost_external_validation/xgboost_TopN_genes/results_20/study/DC_1_4_xgboost.pkl']"
      ]
     },
     "execution_count": 20,
     "metadata": {},
     "output_type": "execute_result"
    }
   ],
   "source": [
    "out_dir = here(f'03_downstream_analysis/08_gene_importance/xgboost_external_validation/xgboost_TopN_genes/results_{N_GENES}/study')\n",
    "\n",
    "if not os.path.exists(out_dir):\n",
    "    os.makedirs(out_dir)\n",
    "    \n",
    "joblib.dump(study,os.path.join(out_dir, f'{CELL_TYPE}_{SEED}_{TEST_SPLIT_IDX}_xgboost.pkl'))"
   ]
  },
  {
   "cell_type": "code",
   "execution_count": 21,
   "id": "2896e507",
   "metadata": {
    "execution": {
     "iopub.execute_input": "2025-05-15T16:15:04.509621Z",
     "iopub.status.busy": "2025-05-15T16:15:04.509219Z",
     "iopub.status.idle": "2025-05-15T16:15:05.406480Z",
     "shell.execute_reply": "2025-05-15T16:15:05.406076Z"
    },
    "papermill": {
     "duration": 0.922693,
     "end_time": "2025-05-15T16:15:05.408637",
     "exception": false,
     "start_time": "2025-05-15T16:15:04.485944",
     "status": "completed"
    },
    "tags": []
   },
   "outputs": [
    {
     "data": {
      "text/html": [
       "<style>#sk-container-id-1 {\n",
       "  /* Definition of color scheme common for light and dark mode */\n",
       "  --sklearn-color-text: black;\n",
       "  --sklearn-color-line: gray;\n",
       "  /* Definition of color scheme for unfitted estimators */\n",
       "  --sklearn-color-unfitted-level-0: #fff5e6;\n",
       "  --sklearn-color-unfitted-level-1: #f6e4d2;\n",
       "  --sklearn-color-unfitted-level-2: #ffe0b3;\n",
       "  --sklearn-color-unfitted-level-3: chocolate;\n",
       "  /* Definition of color scheme for fitted estimators */\n",
       "  --sklearn-color-fitted-level-0: #f0f8ff;\n",
       "  --sklearn-color-fitted-level-1: #d4ebff;\n",
       "  --sklearn-color-fitted-level-2: #b3dbfd;\n",
       "  --sklearn-color-fitted-level-3: cornflowerblue;\n",
       "\n",
       "  /* Specific color for light theme */\n",
       "  --sklearn-color-text-on-default-background: var(--sg-text-color, var(--theme-code-foreground, var(--jp-content-font-color1, black)));\n",
       "  --sklearn-color-background: var(--sg-background-color, var(--theme-background, var(--jp-layout-color0, white)));\n",
       "  --sklearn-color-border-box: var(--sg-text-color, var(--theme-code-foreground, var(--jp-content-font-color1, black)));\n",
       "  --sklearn-color-icon: #696969;\n",
       "\n",
       "  @media (prefers-color-scheme: dark) {\n",
       "    /* Redefinition of color scheme for dark theme */\n",
       "    --sklearn-color-text-on-default-background: var(--sg-text-color, var(--theme-code-foreground, var(--jp-content-font-color1, white)));\n",
       "    --sklearn-color-background: var(--sg-background-color, var(--theme-background, var(--jp-layout-color0, #111)));\n",
       "    --sklearn-color-border-box: var(--sg-text-color, var(--theme-code-foreground, var(--jp-content-font-color1, white)));\n",
       "    --sklearn-color-icon: #878787;\n",
       "  }\n",
       "}\n",
       "\n",
       "#sk-container-id-1 {\n",
       "  color: var(--sklearn-color-text);\n",
       "}\n",
       "\n",
       "#sk-container-id-1 pre {\n",
       "  padding: 0;\n",
       "}\n",
       "\n",
       "#sk-container-id-1 input.sk-hidden--visually {\n",
       "  border: 0;\n",
       "  clip: rect(1px 1px 1px 1px);\n",
       "  clip: rect(1px, 1px, 1px, 1px);\n",
       "  height: 1px;\n",
       "  margin: -1px;\n",
       "  overflow: hidden;\n",
       "  padding: 0;\n",
       "  position: absolute;\n",
       "  width: 1px;\n",
       "}\n",
       "\n",
       "#sk-container-id-1 div.sk-dashed-wrapped {\n",
       "  border: 1px dashed var(--sklearn-color-line);\n",
       "  margin: 0 0.4em 0.5em 0.4em;\n",
       "  box-sizing: border-box;\n",
       "  padding-bottom: 0.4em;\n",
       "  background-color: var(--sklearn-color-background);\n",
       "}\n",
       "\n",
       "#sk-container-id-1 div.sk-container {\n",
       "  /* jupyter's `normalize.less` sets `[hidden] { display: none; }`\n",
       "     but bootstrap.min.css set `[hidden] { display: none !important; }`\n",
       "     so we also need the `!important` here to be able to override the\n",
       "     default hidden behavior on the sphinx rendered scikit-learn.org.\n",
       "     See: https://github.com/scikit-learn/scikit-learn/issues/21755 */\n",
       "  display: inline-block !important;\n",
       "  position: relative;\n",
       "}\n",
       "\n",
       "#sk-container-id-1 div.sk-text-repr-fallback {\n",
       "  display: none;\n",
       "}\n",
       "\n",
       "div.sk-parallel-item,\n",
       "div.sk-serial,\n",
       "div.sk-item {\n",
       "  /* draw centered vertical line to link estimators */\n",
       "  background-image: linear-gradient(var(--sklearn-color-text-on-default-background), var(--sklearn-color-text-on-default-background));\n",
       "  background-size: 2px 100%;\n",
       "  background-repeat: no-repeat;\n",
       "  background-position: center center;\n",
       "}\n",
       "\n",
       "/* Parallel-specific style estimator block */\n",
       "\n",
       "#sk-container-id-1 div.sk-parallel-item::after {\n",
       "  content: \"\";\n",
       "  width: 100%;\n",
       "  border-bottom: 2px solid var(--sklearn-color-text-on-default-background);\n",
       "  flex-grow: 1;\n",
       "}\n",
       "\n",
       "#sk-container-id-1 div.sk-parallel {\n",
       "  display: flex;\n",
       "  align-items: stretch;\n",
       "  justify-content: center;\n",
       "  background-color: var(--sklearn-color-background);\n",
       "  position: relative;\n",
       "}\n",
       "\n",
       "#sk-container-id-1 div.sk-parallel-item {\n",
       "  display: flex;\n",
       "  flex-direction: column;\n",
       "}\n",
       "\n",
       "#sk-container-id-1 div.sk-parallel-item:first-child::after {\n",
       "  align-self: flex-end;\n",
       "  width: 50%;\n",
       "}\n",
       "\n",
       "#sk-container-id-1 div.sk-parallel-item:last-child::after {\n",
       "  align-self: flex-start;\n",
       "  width: 50%;\n",
       "}\n",
       "\n",
       "#sk-container-id-1 div.sk-parallel-item:only-child::after {\n",
       "  width: 0;\n",
       "}\n",
       "\n",
       "/* Serial-specific style estimator block */\n",
       "\n",
       "#sk-container-id-1 div.sk-serial {\n",
       "  display: flex;\n",
       "  flex-direction: column;\n",
       "  align-items: center;\n",
       "  background-color: var(--sklearn-color-background);\n",
       "  padding-right: 1em;\n",
       "  padding-left: 1em;\n",
       "}\n",
       "\n",
       "\n",
       "/* Toggleable style: style used for estimator/Pipeline/ColumnTransformer box that is\n",
       "clickable and can be expanded/collapsed.\n",
       "- Pipeline and ColumnTransformer use this feature and define the default style\n",
       "- Estimators will overwrite some part of the style using the `sk-estimator` class\n",
       "*/\n",
       "\n",
       "/* Pipeline and ColumnTransformer style (default) */\n",
       "\n",
       "#sk-container-id-1 div.sk-toggleable {\n",
       "  /* Default theme specific background. It is overwritten whether we have a\n",
       "  specific estimator or a Pipeline/ColumnTransformer */\n",
       "  background-color: var(--sklearn-color-background);\n",
       "}\n",
       "\n",
       "/* Toggleable label */\n",
       "#sk-container-id-1 label.sk-toggleable__label {\n",
       "  cursor: pointer;\n",
       "  display: block;\n",
       "  width: 100%;\n",
       "  margin-bottom: 0;\n",
       "  padding: 0.5em;\n",
       "  box-sizing: border-box;\n",
       "  text-align: center;\n",
       "}\n",
       "\n",
       "#sk-container-id-1 label.sk-toggleable__label-arrow:before {\n",
       "  /* Arrow on the left of the label */\n",
       "  content: \"▸\";\n",
       "  float: left;\n",
       "  margin-right: 0.25em;\n",
       "  color: var(--sklearn-color-icon);\n",
       "}\n",
       "\n",
       "#sk-container-id-1 label.sk-toggleable__label-arrow:hover:before {\n",
       "  color: var(--sklearn-color-text);\n",
       "}\n",
       "\n",
       "/* Toggleable content - dropdown */\n",
       "\n",
       "#sk-container-id-1 div.sk-toggleable__content {\n",
       "  max-height: 0;\n",
       "  max-width: 0;\n",
       "  overflow: hidden;\n",
       "  text-align: left;\n",
       "  /* unfitted */\n",
       "  background-color: var(--sklearn-color-unfitted-level-0);\n",
       "}\n",
       "\n",
       "#sk-container-id-1 div.sk-toggleable__content.fitted {\n",
       "  /* fitted */\n",
       "  background-color: var(--sklearn-color-fitted-level-0);\n",
       "}\n",
       "\n",
       "#sk-container-id-1 div.sk-toggleable__content pre {\n",
       "  margin: 0.2em;\n",
       "  border-radius: 0.25em;\n",
       "  color: var(--sklearn-color-text);\n",
       "  /* unfitted */\n",
       "  background-color: var(--sklearn-color-unfitted-level-0);\n",
       "}\n",
       "\n",
       "#sk-container-id-1 div.sk-toggleable__content.fitted pre {\n",
       "  /* unfitted */\n",
       "  background-color: var(--sklearn-color-fitted-level-0);\n",
       "}\n",
       "\n",
       "#sk-container-id-1 input.sk-toggleable__control:checked~div.sk-toggleable__content {\n",
       "  /* Expand drop-down */\n",
       "  max-height: 200px;\n",
       "  max-width: 100%;\n",
       "  overflow: auto;\n",
       "}\n",
       "\n",
       "#sk-container-id-1 input.sk-toggleable__control:checked~label.sk-toggleable__label-arrow:before {\n",
       "  content: \"▾\";\n",
       "}\n",
       "\n",
       "/* Pipeline/ColumnTransformer-specific style */\n",
       "\n",
       "#sk-container-id-1 div.sk-label input.sk-toggleable__control:checked~label.sk-toggleable__label {\n",
       "  color: var(--sklearn-color-text);\n",
       "  background-color: var(--sklearn-color-unfitted-level-2);\n",
       "}\n",
       "\n",
       "#sk-container-id-1 div.sk-label.fitted input.sk-toggleable__control:checked~label.sk-toggleable__label {\n",
       "  background-color: var(--sklearn-color-fitted-level-2);\n",
       "}\n",
       "\n",
       "/* Estimator-specific style */\n",
       "\n",
       "/* Colorize estimator box */\n",
       "#sk-container-id-1 div.sk-estimator input.sk-toggleable__control:checked~label.sk-toggleable__label {\n",
       "  /* unfitted */\n",
       "  background-color: var(--sklearn-color-unfitted-level-2);\n",
       "}\n",
       "\n",
       "#sk-container-id-1 div.sk-estimator.fitted input.sk-toggleable__control:checked~label.sk-toggleable__label {\n",
       "  /* fitted */\n",
       "  background-color: var(--sklearn-color-fitted-level-2);\n",
       "}\n",
       "\n",
       "#sk-container-id-1 div.sk-label label.sk-toggleable__label,\n",
       "#sk-container-id-1 div.sk-label label {\n",
       "  /* The background is the default theme color */\n",
       "  color: var(--sklearn-color-text-on-default-background);\n",
       "}\n",
       "\n",
       "/* On hover, darken the color of the background */\n",
       "#sk-container-id-1 div.sk-label:hover label.sk-toggleable__label {\n",
       "  color: var(--sklearn-color-text);\n",
       "  background-color: var(--sklearn-color-unfitted-level-2);\n",
       "}\n",
       "\n",
       "/* Label box, darken color on hover, fitted */\n",
       "#sk-container-id-1 div.sk-label.fitted:hover label.sk-toggleable__label.fitted {\n",
       "  color: var(--sklearn-color-text);\n",
       "  background-color: var(--sklearn-color-fitted-level-2);\n",
       "}\n",
       "\n",
       "/* Estimator label */\n",
       "\n",
       "#sk-container-id-1 div.sk-label label {\n",
       "  font-family: monospace;\n",
       "  font-weight: bold;\n",
       "  display: inline-block;\n",
       "  line-height: 1.2em;\n",
       "}\n",
       "\n",
       "#sk-container-id-1 div.sk-label-container {\n",
       "  text-align: center;\n",
       "}\n",
       "\n",
       "/* Estimator-specific */\n",
       "#sk-container-id-1 div.sk-estimator {\n",
       "  font-family: monospace;\n",
       "  border: 1px dotted var(--sklearn-color-border-box);\n",
       "  border-radius: 0.25em;\n",
       "  box-sizing: border-box;\n",
       "  margin-bottom: 0.5em;\n",
       "  /* unfitted */\n",
       "  background-color: var(--sklearn-color-unfitted-level-0);\n",
       "}\n",
       "\n",
       "#sk-container-id-1 div.sk-estimator.fitted {\n",
       "  /* fitted */\n",
       "  background-color: var(--sklearn-color-fitted-level-0);\n",
       "}\n",
       "\n",
       "/* on hover */\n",
       "#sk-container-id-1 div.sk-estimator:hover {\n",
       "  /* unfitted */\n",
       "  background-color: var(--sklearn-color-unfitted-level-2);\n",
       "}\n",
       "\n",
       "#sk-container-id-1 div.sk-estimator.fitted:hover {\n",
       "  /* fitted */\n",
       "  background-color: var(--sklearn-color-fitted-level-2);\n",
       "}\n",
       "\n",
       "/* Specification for estimator info (e.g. \"i\" and \"?\") */\n",
       "\n",
       "/* Common style for \"i\" and \"?\" */\n",
       "\n",
       ".sk-estimator-doc-link,\n",
       "a:link.sk-estimator-doc-link,\n",
       "a:visited.sk-estimator-doc-link {\n",
       "  float: right;\n",
       "  font-size: smaller;\n",
       "  line-height: 1em;\n",
       "  font-family: monospace;\n",
       "  background-color: var(--sklearn-color-background);\n",
       "  border-radius: 1em;\n",
       "  height: 1em;\n",
       "  width: 1em;\n",
       "  text-decoration: none !important;\n",
       "  margin-left: 1ex;\n",
       "  /* unfitted */\n",
       "  border: var(--sklearn-color-unfitted-level-1) 1pt solid;\n",
       "  color: var(--sklearn-color-unfitted-level-1);\n",
       "}\n",
       "\n",
       ".sk-estimator-doc-link.fitted,\n",
       "a:link.sk-estimator-doc-link.fitted,\n",
       "a:visited.sk-estimator-doc-link.fitted {\n",
       "  /* fitted */\n",
       "  border: var(--sklearn-color-fitted-level-1) 1pt solid;\n",
       "  color: var(--sklearn-color-fitted-level-1);\n",
       "}\n",
       "\n",
       "/* On hover */\n",
       "div.sk-estimator:hover .sk-estimator-doc-link:hover,\n",
       ".sk-estimator-doc-link:hover,\n",
       "div.sk-label-container:hover .sk-estimator-doc-link:hover,\n",
       ".sk-estimator-doc-link:hover {\n",
       "  /* unfitted */\n",
       "  background-color: var(--sklearn-color-unfitted-level-3);\n",
       "  color: var(--sklearn-color-background);\n",
       "  text-decoration: none;\n",
       "}\n",
       "\n",
       "div.sk-estimator.fitted:hover .sk-estimator-doc-link.fitted:hover,\n",
       ".sk-estimator-doc-link.fitted:hover,\n",
       "div.sk-label-container:hover .sk-estimator-doc-link.fitted:hover,\n",
       ".sk-estimator-doc-link.fitted:hover {\n",
       "  /* fitted */\n",
       "  background-color: var(--sklearn-color-fitted-level-3);\n",
       "  color: var(--sklearn-color-background);\n",
       "  text-decoration: none;\n",
       "}\n",
       "\n",
       "/* Span, style for the box shown on hovering the info icon */\n",
       ".sk-estimator-doc-link span {\n",
       "  display: none;\n",
       "  z-index: 9999;\n",
       "  position: relative;\n",
       "  font-weight: normal;\n",
       "  right: .2ex;\n",
       "  padding: .5ex;\n",
       "  margin: .5ex;\n",
       "  width: min-content;\n",
       "  min-width: 20ex;\n",
       "  max-width: 50ex;\n",
       "  color: var(--sklearn-color-text);\n",
       "  box-shadow: 2pt 2pt 4pt #999;\n",
       "  /* unfitted */\n",
       "  background: var(--sklearn-color-unfitted-level-0);\n",
       "  border: .5pt solid var(--sklearn-color-unfitted-level-3);\n",
       "}\n",
       "\n",
       ".sk-estimator-doc-link.fitted span {\n",
       "  /* fitted */\n",
       "  background: var(--sklearn-color-fitted-level-0);\n",
       "  border: var(--sklearn-color-fitted-level-3);\n",
       "}\n",
       "\n",
       ".sk-estimator-doc-link:hover span {\n",
       "  display: block;\n",
       "}\n",
       "\n",
       "/* \"?\"-specific style due to the `<a>` HTML tag */\n",
       "\n",
       "#sk-container-id-1 a.estimator_doc_link {\n",
       "  float: right;\n",
       "  font-size: 1rem;\n",
       "  line-height: 1em;\n",
       "  font-family: monospace;\n",
       "  background-color: var(--sklearn-color-background);\n",
       "  border-radius: 1rem;\n",
       "  height: 1rem;\n",
       "  width: 1rem;\n",
       "  text-decoration: none;\n",
       "  /* unfitted */\n",
       "  color: var(--sklearn-color-unfitted-level-1);\n",
       "  border: var(--sklearn-color-unfitted-level-1) 1pt solid;\n",
       "}\n",
       "\n",
       "#sk-container-id-1 a.estimator_doc_link.fitted {\n",
       "  /* fitted */\n",
       "  border: var(--sklearn-color-fitted-level-1) 1pt solid;\n",
       "  color: var(--sklearn-color-fitted-level-1);\n",
       "}\n",
       "\n",
       "/* On hover */\n",
       "#sk-container-id-1 a.estimator_doc_link:hover {\n",
       "  /* unfitted */\n",
       "  background-color: var(--sklearn-color-unfitted-level-3);\n",
       "  color: var(--sklearn-color-background);\n",
       "  text-decoration: none;\n",
       "}\n",
       "\n",
       "#sk-container-id-1 a.estimator_doc_link.fitted:hover {\n",
       "  /* fitted */\n",
       "  background-color: var(--sklearn-color-fitted-level-3);\n",
       "}\n",
       "</style><div id=\"sk-container-id-1\" class=\"sk-top-container\"><div class=\"sk-text-repr-fallback\"><pre>XGBClassifier(base_score=None, booster=None, callbacks=None,\n",
       "              colsample_bylevel=None, colsample_bynode=0.37898459799616857,\n",
       "              colsample_bytree=None, device=None, early_stopping_rounds=None,\n",
       "              enable_categorical=False,\n",
       "              eval_metric=&lt;function custom_f1_score at 0x7fdc0cd8c720&gt;,\n",
       "              feature_types=None, gamma=None, grow_policy=None,\n",
       "              importance_type=None, interaction_constraints=None,\n",
       "              learning_rate=0.4948689566488505, max_bin=None,\n",
       "              max_cat_threshold=None, max_cat_to_onehot=None,\n",
       "              max_delta_step=None, max_depth=7, max_leaves=None,\n",
       "              min_child_weight=12, missing=nan, monotone_constraints=None,\n",
       "              multi_strategy=None, n_estimators=60, n_jobs=None,\n",
       "              num_parallel_tree=None, objective=&#x27;multi:softprob&#x27;, ...)</pre><b>In a Jupyter environment, please rerun this cell to show the HTML representation or trust the notebook. <br />On GitHub, the HTML representation is unable to render, please try loading this page with nbviewer.org.</b></div><div class=\"sk-container\" hidden><div class=\"sk-item\"><div class=\"sk-estimator fitted sk-toggleable\"><input class=\"sk-toggleable__control sk-hidden--visually\" id=\"sk-estimator-id-1\" type=\"checkbox\" checked><label for=\"sk-estimator-id-1\" class=\"sk-toggleable__label fitted sk-toggleable__label-arrow fitted\">&nbsp;XGBClassifier<span class=\"sk-estimator-doc-link fitted\">i<span>Fitted</span></span></label><div class=\"sk-toggleable__content fitted\"><pre>XGBClassifier(base_score=None, booster=None, callbacks=None,\n",
       "              colsample_bylevel=None, colsample_bynode=0.37898459799616857,\n",
       "              colsample_bytree=None, device=None, early_stopping_rounds=None,\n",
       "              enable_categorical=False,\n",
       "              eval_metric=&lt;function custom_f1_score at 0x7fdc0cd8c720&gt;,\n",
       "              feature_types=None, gamma=None, grow_policy=None,\n",
       "              importance_type=None, interaction_constraints=None,\n",
       "              learning_rate=0.4948689566488505, max_bin=None,\n",
       "              max_cat_threshold=None, max_cat_to_onehot=None,\n",
       "              max_delta_step=None, max_depth=7, max_leaves=None,\n",
       "              min_child_weight=12, missing=nan, monotone_constraints=None,\n",
       "              multi_strategy=None, n_estimators=60, n_jobs=None,\n",
       "              num_parallel_tree=None, objective=&#x27;multi:softprob&#x27;, ...)</pre></div> </div></div></div></div>"
      ],
      "text/plain": [
       "XGBClassifier(base_score=None, booster=None, callbacks=None,\n",
       "              colsample_bylevel=None, colsample_bynode=0.37898459799616857,\n",
       "              colsample_bytree=None, device=None, early_stopping_rounds=None,\n",
       "              enable_categorical=False,\n",
       "              eval_metric=<function custom_f1_score at 0x7fdc0cd8c720>,\n",
       "              feature_types=None, gamma=None, grow_policy=None,\n",
       "              importance_type=None, interaction_constraints=None,\n",
       "              learning_rate=0.4948689566488505, max_bin=None,\n",
       "              max_cat_threshold=None, max_cat_to_onehot=None,\n",
       "              max_delta_step=None, max_depth=7, max_leaves=None,\n",
       "              min_child_weight=12, missing=nan, monotone_constraints=None,\n",
       "              multi_strategy=None, n_estimators=60, n_jobs=None,\n",
       "              num_parallel_tree=None, objective='multi:softprob', ...)"
      ]
     },
     "execution_count": 21,
     "metadata": {},
     "output_type": "execute_result"
    }
   ],
   "source": [
    "n_estimators = int(study.best_trial.user_attrs['best_iteration']*1.2)\n",
    "xgb = xgboost.XGBClassifier(\n",
    "        eval_metric=eval_metric,\n",
    "        n_estimators=n_estimators,\n",
    "        **study.best_trial.params\n",
    "    )\n",
    "xgb.fit(\n",
    "    ssp.vstack((X_train, X_val)), \n",
    "    np.concatenate((y_train_enc, y_val_enc)),\n",
    "    verbose=1,\n",
    ")"
   ]
  },
  {
   "cell_type": "code",
   "execution_count": 22,
   "id": "ca7570e4",
   "metadata": {
    "execution": {
     "iopub.execute_input": "2025-05-15T16:15:05.448179Z",
     "iopub.status.busy": "2025-05-15T16:15:05.447951Z",
     "iopub.status.idle": "2025-05-15T16:15:05.473316Z",
     "shell.execute_reply": "2025-05-15T16:15:05.472982Z"
    },
    "papermill": {
     "duration": 0.054092,
     "end_time": "2025-05-15T16:15:05.474221",
     "exception": false,
     "start_time": "2025-05-15T16:15:05.420129",
     "status": "completed"
    },
    "tags": []
   },
   "outputs": [
    {
     "data": {
      "text/plain": [
       "['/scratch_isilon/groups/singlecell/shared/projects/Inflammation-PBMCs-Atlas/03_downstream_analysis/08_gene_importance/xgboost_external_validation/xgboost_TopN_genes/results_20/best_model/DC_1_4_xgb.json']"
      ]
     },
     "execution_count": 22,
     "metadata": {},
     "output_type": "execute_result"
    }
   ],
   "source": [
    "out_dir = here(f'03_downstream_analysis/08_gene_importance/xgboost_external_validation/xgboost_TopN_genes/results_{N_GENES}/best_model')\n",
    "\n",
    "if not os.path.exists(out_dir):\n",
    "    os.makedirs(out_dir)\n",
    "    \n",
    "joblib.dump(xgb, os.path.join(out_dir, f'{CELL_TYPE}_{SEED}_{TEST_SPLIT_IDX}_xgb.json'))"
   ]
  },
  {
   "cell_type": "code",
   "execution_count": 23,
   "id": "fcbee295",
   "metadata": {
    "execution": {
     "iopub.execute_input": "2025-05-15T16:15:05.494802Z",
     "iopub.status.busy": "2025-05-15T16:15:05.494616Z",
     "iopub.status.idle": "2025-05-15T16:15:05.505322Z",
     "shell.execute_reply": "2025-05-15T16:15:05.504988Z"
    },
    "papermill": {
     "duration": 0.026021,
     "end_time": "2025-05-15T16:15:05.510390",
     "exception": false,
     "start_time": "2025-05-15T16:15:05.484369",
     "status": "completed"
    },
    "tags": []
   },
   "outputs": [],
   "source": [
    "df_pred_test = pd.DataFrame(dict(\n",
    "    cell_id=train_adata.obs.iloc[test_idxs].index.values,\n",
    "    y_true=y_test, \n",
    "    y_true_code=y_test_enc, \n",
    "    y_pred=xgb.predict(X_test))).set_index('cell_id')"
   ]
  },
  {
   "cell_type": "code",
   "execution_count": 24,
   "id": "324e1628",
   "metadata": {
    "execution": {
     "iopub.execute_input": "2025-05-15T16:15:05.529181Z",
     "iopub.status.busy": "2025-05-15T16:15:05.528940Z",
     "iopub.status.idle": "2025-05-15T16:15:05.545138Z",
     "shell.execute_reply": "2025-05-15T16:15:05.544701Z"
    },
    "papermill": {
     "duration": 0.026479,
     "end_time": "2025-05-15T16:15:05.545954",
     "exception": false,
     "start_time": "2025-05-15T16:15:05.519475",
     "status": "completed"
    },
    "tags": []
   },
   "outputs": [],
   "source": [
    "out_dir = here(f'03_downstream_analysis/08_gene_importance/xgboost_external_validation/xgboost_TopN_genes/results_{N_GENES}/predictions')\n",
    "\n",
    "if not os.path.exists(out_dir):\n",
    "    os.makedirs(out_dir)\n",
    "    \n",
    "df_pred_test.to_csv(os.path.join(out_dir, f'{CELL_TYPE}_{SEED}_{TEST_SPLIT_IDX}_pred_test.zip'))"
   ]
  },
  {
   "cell_type": "code",
   "execution_count": 25,
   "id": "09942997",
   "metadata": {
    "execution": {
     "iopub.execute_input": "2025-05-15T16:15:05.564701Z",
     "iopub.status.busy": "2025-05-15T16:15:05.564444Z",
     "iopub.status.idle": "2025-05-15T16:15:05.571624Z",
     "shell.execute_reply": "2025-05-15T16:15:05.571303Z"
    },
    "papermill": {
     "duration": 0.01737,
     "end_time": "2025-05-15T16:15:05.572434",
     "exception": false,
     "start_time": "2025-05-15T16:15:05.555064",
     "status": "completed"
    },
    "tags": []
   },
   "outputs": [
    {
     "name": "stderr",
     "output_type": "stream",
     "text": [
      "/scratch_isilon/groups/singlecell/shared/conda_env/xgboost-cpu/lib/python3.12/site-packages/sklearn/metrics/_classification.py:2466: UserWarning: y_pred contains classes not in y_true\n",
      "  warnings.warn(\"y_pred contains classes not in y_true\")\n"
     ]
    }
   ],
   "source": [
    "metrics_dict = dict(\n",
    "    BAS=balanced_accuracy_score(y_true=df_pred_test.y_true_code, y_pred=df_pred_test.y_pred), WF1=f1_score(y_true=df_pred_test.y_true_code, y_pred=df_pred_test.y_pred,average='weighted'))"
   ]
  },
  {
   "cell_type": "code",
   "execution_count": 26,
   "id": "bcbc3957",
   "metadata": {
    "execution": {
     "iopub.execute_input": "2025-05-15T16:15:05.591043Z",
     "iopub.status.busy": "2025-05-15T16:15:05.590860Z",
     "iopub.status.idle": "2025-05-15T16:15:05.593741Z",
     "shell.execute_reply": "2025-05-15T16:15:05.593415Z"
    },
    "papermill": {
     "duration": 0.013191,
     "end_time": "2025-05-15T16:15:05.594556",
     "exception": false,
     "start_time": "2025-05-15T16:15:05.581365",
     "status": "completed"
    },
    "tags": []
   },
   "outputs": [
    {
     "data": {
      "text/plain": [
       "{'BAS': 0.692641885192688, 'WF1': 0.8658473469943432}"
      ]
     },
     "execution_count": 26,
     "metadata": {},
     "output_type": "execute_result"
    }
   ],
   "source": [
    "metrics_dict"
   ]
  },
  {
   "cell_type": "code",
   "execution_count": 27,
   "id": "f6213e14",
   "metadata": {
    "execution": {
     "iopub.execute_input": "2025-05-15T16:15:05.615159Z",
     "iopub.status.busy": "2025-05-15T16:15:05.614970Z",
     "iopub.status.idle": "2025-05-15T16:15:05.623684Z",
     "shell.execute_reply": "2025-05-15T16:15:05.623375Z"
    },
    "papermill": {
     "duration": 0.019204,
     "end_time": "2025-05-15T16:15:05.624486",
     "exception": false,
     "start_time": "2025-05-15T16:15:05.605282",
     "status": "completed"
    },
    "tags": []
   },
   "outputs": [
    {
     "data": {
      "text/html": [
       "<div>\n",
       "<style scoped>\n",
       "    .dataframe tbody tr th:only-of-type {\n",
       "        vertical-align: middle;\n",
       "    }\n",
       "\n",
       "    .dataframe tbody tr th {\n",
       "        vertical-align: top;\n",
       "    }\n",
       "\n",
       "    .dataframe thead th {\n",
       "        text-align: right;\n",
       "    }\n",
       "</style>\n",
       "<table border=\"1\" class=\"dataframe\">\n",
       "  <thead>\n",
       "    <tr style=\"text-align: right;\">\n",
       "      <th></th>\n",
       "      <th>BAS</th>\n",
       "      <th>WF1</th>\n",
       "      <th>split_idx</th>\n",
       "      <th>gene_set_seed</th>\n",
       "      <th>cell_type</th>\n",
       "    </tr>\n",
       "  </thead>\n",
       "  <tbody>\n",
       "    <tr>\n",
       "      <th>0</th>\n",
       "      <td>0.692642</td>\n",
       "      <td>0.865847</td>\n",
       "      <td>4</td>\n",
       "      <td>1</td>\n",
       "      <td>DC</td>\n",
       "    </tr>\n",
       "  </tbody>\n",
       "</table>\n",
       "</div>"
      ],
      "text/plain": [
       "        BAS       WF1  split_idx  gene_set_seed cell_type\n",
       "0  0.692642  0.865847          4              1        DC"
      ]
     },
     "execution_count": 27,
     "metadata": {},
     "output_type": "execute_result"
    }
   ],
   "source": [
    "metrics_df = pd.DataFrame.from_dict([metrics_dict]).assign(split_idx=TEST_SPLIT_IDX, gene_set_seed=SEED, cell_type=CELL_TYPE)\n",
    "metrics_df"
   ]
  },
  {
   "cell_type": "code",
   "execution_count": 28,
   "id": "a3157e07",
   "metadata": {
    "execution": {
     "iopub.execute_input": "2025-05-15T16:15:05.654421Z",
     "iopub.status.busy": "2025-05-15T16:15:05.654231Z",
     "iopub.status.idle": "2025-05-15T16:15:05.662480Z",
     "shell.execute_reply": "2025-05-15T16:15:05.662127Z"
    },
    "papermill": {
     "duration": 0.018938,
     "end_time": "2025-05-15T16:15:05.663291",
     "exception": false,
     "start_time": "2025-05-15T16:15:05.644353",
     "status": "completed"
    },
    "tags": []
   },
   "outputs": [],
   "source": [
    "out_dir = here(f'03_downstream_analysis/08_gene_importance/xgboost_external_validation/xgboost_TopN_genes/results_{N_GENES}/metrics')\n",
    "\n",
    "if not os.path.exists(out_dir):\n",
    "    os.makedirs(out_dir)\n",
    "    \n",
    "metrics_df.to_csv(os.path.join(out_dir, f'{CELL_TYPE}_{SEED}_{TEST_SPLIT_IDX}_metrics.zip'))"
   ]
  }
 ],
 "metadata": {
  "kernelspec": {
   "display_name": "Python 3 (ipykernel)",
   "language": "python",
   "name": "python3"
  },
  "language_info": {
   "codemirror_mode": {
    "name": "ipython",
    "version": 3
   },
   "file_extension": ".py",
   "mimetype": "text/x-python",
   "name": "python",
   "nbconvert_exporter": "python",
   "pygments_lexer": "ipython3",
   "version": "3.12.5"
  },
  "papermill": {
   "default_parameters": {},
   "duration": 36.039648,
   "end_time": "2025-05-15T16:15:06.402433",
   "environment_variables": {},
   "exception": null,
   "input_path": "02_xgboost_fitting_external_20genes.ipynb",
   "output_path": "results_20/executed_notebooks/xgboost_fitting_external_CT_DC_GS_1_seed4.ipynb",
   "parameters": {
    "CELL_TYPE": "DC",
    "SEED": 1,
    "TEST_SPLIT_IDX": 4
   },
   "start_time": "2025-05-15T16:14:30.362785",
   "version": "2.6.0"
  }
 },
 "nbformat": 4,
 "nbformat_minor": 5
}