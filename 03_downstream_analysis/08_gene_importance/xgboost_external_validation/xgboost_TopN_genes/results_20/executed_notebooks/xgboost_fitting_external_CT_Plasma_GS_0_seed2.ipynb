{
 "cells": [
  {
   "cell_type": "code",
   "execution_count": 1,
   "id": "1ff08ffe",
   "metadata": {
    "editable": true,
    "execution": {
     "iopub.execute_input": "2025-05-15T15:57:52.428287Z",
     "iopub.status.busy": "2025-05-15T15:57:52.428145Z",
     "iopub.status.idle": "2025-05-15T15:57:52.430926Z",
     "shell.execute_reply": "2025-05-15T15:57:52.430560Z"
    },
    "papermill": {
     "duration": 0.010235,
     "end_time": "2025-05-15T15:57:52.431779",
     "exception": false,
     "start_time": "2025-05-15T15:57:52.421544",
     "status": "completed"
    },
    "slideshow": {
     "slide_type": ""
    },
    "tags": [
     "parameters"
    ]
   },
   "outputs": [],
   "source": [
    "CELL_TYPE = 'pDC'\n",
    "N_GENES: int = 20\n",
    "SEED = 'shap_studyID' #'disease_NOstudy' 'study_NOdisease' or 'int' or 'shap_studyID'\n",
    "TEST_SPLIT_IDX: int = 1 #[0,4]"
   ]
  },
  {
   "cell_type": "code",
   "execution_count": 2,
   "id": "9b1262c0",
   "metadata": {
    "execution": {
     "iopub.execute_input": "2025-05-15T15:57:52.442943Z",
     "iopub.status.busy": "2025-05-15T15:57:52.442450Z",
     "iopub.status.idle": "2025-05-15T15:57:52.444712Z",
     "shell.execute_reply": "2025-05-15T15:57:52.444355Z"
    },
    "papermill": {
     "duration": 0.008517,
     "end_time": "2025-05-15T15:57:52.445489",
     "exception": false,
     "start_time": "2025-05-15T15:57:52.436972",
     "status": "completed"
    },
    "tags": [
     "injected-parameters"
    ]
   },
   "outputs": [],
   "source": [
    "# Parameters\n",
    "CELL_TYPE = \"Plasma\"\n",
    "SEED = 0\n",
    "TEST_SPLIT_IDX = 2\n"
   ]
  },
  {
   "cell_type": "code",
   "execution_count": 3,
   "id": "86675253",
   "metadata": {
    "execution": {
     "iopub.execute_input": "2025-05-15T15:57:52.456426Z",
     "iopub.status.busy": "2025-05-15T15:57:52.455956Z",
     "iopub.status.idle": "2025-05-15T15:57:52.458512Z",
     "shell.execute_reply": "2025-05-15T15:57:52.458180Z"
    },
    "papermill": {
     "duration": 0.008817,
     "end_time": "2025-05-15T15:57:52.459283",
     "exception": false,
     "start_time": "2025-05-15T15:57:52.450466",
     "status": "completed"
    },
    "tags": []
   },
   "outputs": [],
   "source": [
    "N_SPLITS: int = 5\n",
    "N_TRIALS: int = 50"
   ]
  },
  {
   "cell_type": "code",
   "execution_count": 4,
   "id": "ca093feb",
   "metadata": {
    "execution": {
     "iopub.execute_input": "2025-05-15T15:57:52.470565Z",
     "iopub.status.busy": "2025-05-15T15:57:52.470339Z",
     "iopub.status.idle": "2025-05-15T15:57:53.847399Z",
     "shell.execute_reply": "2025-05-15T15:57:53.846949Z"
    },
    "papermill": {
     "duration": 1.3844,
     "end_time": "2025-05-15T15:57:53.848610",
     "exception": false,
     "start_time": "2025-05-15T15:57:52.464210",
     "status": "completed"
    },
    "tags": []
   },
   "outputs": [],
   "source": [
    "import os\n",
    "import sys\n",
    "from pyprojroot.here import here\n",
    "import pandas as pd\n",
    "import anndata as ad\n",
    "import numpy as np\n",
    "import math\n",
    "from sklearn.model_selection import StratifiedGroupKFold\n",
    "from sklearn.preprocessing import LabelEncoder\n",
    "from sklearn.metrics import f1_score\n",
    "import matplotlib.pyplot as plt\n",
    "import seaborn as sns\n",
    "from itertools import product\n",
    "from sklearn.metrics import balanced_accuracy_score, f1_score\n",
    "import optuna\n",
    "\n",
    "import joblib\n",
    "import pickle\n",
    "import datetime\n",
    "\n",
    "import collections\n",
    "\n",
    "import xgboost\n",
    "from sklearn.preprocessing import LabelEncoder\n",
    "\n",
    "import scipy.sparse as ssp\n",
    "import joblib\n",
    "\n",
    "from dotenv import load_dotenv"
   ]
  },
  {
   "cell_type": "code",
   "execution_count": 5,
   "id": "e168c575",
   "metadata": {
    "execution": {
     "iopub.execute_input": "2025-05-15T15:57:53.861328Z",
     "iopub.status.busy": "2025-05-15T15:57:53.860578Z",
     "iopub.status.idle": "2025-05-15T15:57:53.866424Z",
     "shell.execute_reply": "2025-05-15T15:57:53.866119Z"
    },
    "papermill": {
     "duration": 0.012646,
     "end_time": "2025-05-15T15:57:53.867195",
     "exception": false,
     "start_time": "2025-05-15T15:57:53.854549",
     "status": "completed"
    },
    "tags": []
   },
   "outputs": [
    {
     "data": {
      "text/plain": [
       "True"
      ]
     },
     "execution_count": 5,
     "metadata": {},
     "output_type": "execute_result"
    }
   ],
   "source": [
    "load_dotenv()"
   ]
  },
  {
   "cell_type": "markdown",
   "id": "4540aa4d",
   "metadata": {
    "papermill": {
     "duration": 0.00522,
     "end_time": "2025-05-15T15:57:53.878347",
     "exception": false,
     "start_time": "2025-05-15T15:57:53.873127",
     "status": "completed"
    },
    "tags": []
   },
   "source": [
    "# LOAD DATASET"
   ]
  },
  {
   "cell_type": "code",
   "execution_count": 6,
   "id": "c1b62f2f",
   "metadata": {
    "execution": {
     "iopub.execute_input": "2025-05-15T15:57:53.889384Z",
     "iopub.status.busy": "2025-05-15T15:57:53.888906Z",
     "iopub.status.idle": "2025-05-15T15:57:53.974607Z",
     "shell.execute_reply": "2025-05-15T15:57:53.974272Z"
    },
    "papermill": {
     "duration": 0.092237,
     "end_time": "2025-05-15T15:57:53.975754",
     "exception": false,
     "start_time": "2025-05-15T15:57:53.883517",
     "status": "completed"
    },
    "tags": []
   },
   "outputs": [],
   "source": [
    "train_adata = ad.read_h5ad(\n",
    "    here(f'03_downstream_analysis/08_gene_importance/xgboost_external_validation/xgboost_TopN_genes/data_cellTypes/EXTERNAL_{CELL_TYPE}.filtered.log1p.h5ad')\n",
    ")"
   ]
  },
  {
   "cell_type": "code",
   "execution_count": 7,
   "id": "3b988e38",
   "metadata": {
    "execution": {
     "iopub.execute_input": "2025-05-15T15:57:53.987045Z",
     "iopub.status.busy": "2025-05-15T15:57:53.986823Z",
     "iopub.status.idle": "2025-05-15T15:57:53.996631Z",
     "shell.execute_reply": "2025-05-15T15:57:53.996323Z"
    },
    "papermill": {
     "duration": 0.016175,
     "end_time": "2025-05-15T15:57:53.997424",
     "exception": false,
     "start_time": "2025-05-15T15:57:53.981249",
     "status": "completed"
    },
    "tags": []
   },
   "outputs": [
    {
     "name": "stdout",
     "output_type": "stream",
     "text": [
      "['ENSG00000075945' 'ENSG00000128340' 'ENSG00000144746' 'ENSG00000153283'\n",
      " 'ENSG00000159958' 'ENSG00000026025' 'ENSG00000172183' 'ENSG00000138107'\n",
      " 'ENSG00000011600' 'ENSG00000235162' 'ENSG00000011422' 'ENSG00000137193'\n",
      " 'ENSG00000157873' 'ENSG00000107968' 'ENSG00000089327' 'ENSG00000132510'\n",
      " 'ENSG00000115884' 'ENSG00000075785' 'ENSG00000004468' 'ENSG00000140105'\n",
      " 'ENSG00000018280' 'ENSG00000118640' 'ENSG00000038427' 'ENSG00000170581'\n",
      " 'ENSG00000117450' 'ENSG00000127184' 'ENSG00000002549' 'ENSG00000105835'\n",
      " 'ENSG00000186395' 'ENSG00000158517' 'ENSG00000182866' 'ENSG00000142546'\n",
      " 'ENSG00000171700' 'ENSG00000173757' 'ENSG00000115415' 'ENSG00000129084'\n",
      " 'ENSG00000164136' 'ENSG00000123268' 'ENSG00000122359' 'ENSG00000134470'\n",
      " 'ENSG00000153234' 'ENSG00000002586' 'ENSG00000100453' 'ENSG00000198846'\n",
      " 'ENSG00000116171' 'ENSG00000141367' 'ENSG00000068831' 'ENSG00000167552'\n",
      " 'ENSG00000136738' 'ENSG00000118971' 'ENSG00000119535' 'ENSG00000162704'\n",
      " 'ENSG00000120742' 'ENSG00000126561' 'ENSG00000163563' 'ENSG00000160932'\n",
      " 'ENSG00000265972' 'ENSG00000172349' 'ENSG00000155465' 'ENSG00000106588'\n",
      " 'ENSG00000142208' 'ENSG00000184007' 'ENSG00000134539' 'ENSG00000177556'\n",
      " 'ENSG00000160888' 'ENSG00000127540' 'ENSG00000121552' 'ENSG00000075426'\n",
      " 'ENSG00000180644' 'ENSG00000204472' 'ENSG00000092820' 'ENSG00000206503'\n",
      " 'ENSG00000127022' 'ENSG00000241106' 'ENSG00000006125' 'ENSG00000106367'\n",
      " 'ENSG00000158769' 'ENSG00000105373' 'ENSG00000162434' 'ENSG00000170296'\n",
      " 'ENSG00000139192' 'ENSG00000152778' 'ENSG00000187608' 'ENSG00000179094'\n",
      " 'ENSG00000165527' 'ENSG00000204592' 'ENSG00000162739' 'ENSG00000166681'\n",
      " 'ENSG00000100365' 'ENSG00000228474' 'ENSG00000134352' 'ENSG00000185201'\n",
      " 'ENSG00000110395' 'ENSG00000196126' 'ENSG00000108561' 'ENSG00000133639'\n",
      " 'ENSG00000143543' 'ENSG00000136997' 'ENSG00000204642' 'ENSG00000125534'\n",
      " 'ENSG00000147168' 'ENSG00000117318' 'ENSG00000148908' 'ENSG00000197329'\n",
      " 'ENSG00000183172' 'ENSG00000113441' 'ENSG00000059728']\n"
     ]
    }
   ],
   "source": [
    "if SEED != 'all':\n",
    "    gene_subset = np.load(here(f'03_downstream_analysis/08_gene_importance/xgboost_external_validation/shap_gene_selection/gene_subsets_{N_GENES}/{CELL_TYPE}_{SEED}.npy'), allow_pickle=True)\n",
    "    train_adata = train_adata[:,gene_subset]\n",
    "    print(gene_subset)\n",
    "elif SEED == 'all':\n",
    "    print('Using all genes')\n",
    "else:\n",
    "    raise ValueError()"
   ]
  },
  {
   "cell_type": "code",
   "execution_count": 8,
   "id": "ce8ad098",
   "metadata": {
    "execution": {
     "iopub.execute_input": "2025-05-15T15:57:54.009038Z",
     "iopub.status.busy": "2025-05-15T15:57:54.008847Z",
     "iopub.status.idle": "2025-05-15T15:57:54.011571Z",
     "shell.execute_reply": "2025-05-15T15:57:54.011285Z"
    },
    "papermill": {
     "duration": 0.009447,
     "end_time": "2025-05-15T15:57:54.012338",
     "exception": false,
     "start_time": "2025-05-15T15:57:54.002891",
     "status": "completed"
    },
    "tags": []
   },
   "outputs": [
    {
     "data": {
      "text/plain": [
       "(542, 107)"
      ]
     },
     "execution_count": 8,
     "metadata": {},
     "output_type": "execute_result"
    }
   ],
   "source": [
    "train_adata.shape"
   ]
  },
  {
   "cell_type": "code",
   "execution_count": 9,
   "id": "533ab103",
   "metadata": {
    "execution": {
     "iopub.execute_input": "2025-05-15T15:57:54.023800Z",
     "iopub.status.busy": "2025-05-15T15:57:54.023608Z",
     "iopub.status.idle": "2025-05-15T15:57:54.027136Z",
     "shell.execute_reply": "2025-05-15T15:57:54.026832Z"
    },
    "papermill": {
     "duration": 0.01013,
     "end_time": "2025-05-15T15:57:54.027902",
     "exception": false,
     "start_time": "2025-05-15T15:57:54.017772",
     "status": "completed"
    },
    "tags": []
   },
   "outputs": [
    {
     "data": {
      "text/plain": [
       "['RA', 'COVID', 'healthy', 'HIV', 'cirrhosis', 'CD', 'SLE', 'sepsis']\n",
       "Categories (8, object): ['CD', 'COVID', 'HIV', 'RA', 'SLE', 'cirrhosis', 'healthy', 'sepsis']"
      ]
     },
     "execution_count": 9,
     "metadata": {},
     "output_type": "execute_result"
    }
   ],
   "source": [
    "train_adata.obs.disease.unique()"
   ]
  },
  {
   "cell_type": "code",
   "execution_count": 10,
   "id": "e4a61389",
   "metadata": {
    "execution": {
     "iopub.execute_input": "2025-05-15T15:57:54.039139Z",
     "iopub.status.busy": "2025-05-15T15:57:54.038934Z",
     "iopub.status.idle": "2025-05-15T15:57:54.042367Z",
     "shell.execute_reply": "2025-05-15T15:57:54.042070Z"
    },
    "papermill": {
     "duration": 0.00987,
     "end_time": "2025-05-15T15:57:54.043163",
     "exception": false,
     "start_time": "2025-05-15T15:57:54.033293",
     "status": "completed"
    },
    "tags": []
   },
   "outputs": [
    {
     "data": {
      "text/plain": [
       "['SCGT00val_I0364_T0', 'SCGT00val_I036019_T0', 'SCGT00val_I036028_T0', 'SCGT00val_I036024_T0', 'SCGT00val_I036016_T0', ..., '10XGenomics_10XHC2_T0', '10XGenomics_10XHC3_T0', '10XGenomics_10XHC5_T0', '10XGenomics_10XHC7_T0', '10XGenomics_10XHC8_T0']\n",
       "Length: 74\n",
       "Categories (74, object): ['10XGenomics_10XHC1_T0', '10XGenomics_10XHC2_T0', '10XGenomics_10XHC3_T0', '10XGenomics_10XHC4_T0', ..., 'Savage2021_BRISL6_T0', 'Savage2021_BRISL7_T0', 'Savage2021_PIDA_T0', 'Savage2021_PIDB_T0']"
      ]
     },
     "execution_count": 10,
     "metadata": {},
     "output_type": "execute_result"
    }
   ],
   "source": [
    "train_adata.obs.sampleID.unique()"
   ]
  },
  {
   "cell_type": "code",
   "execution_count": 11,
   "id": "5038eca0",
   "metadata": {
    "execution": {
     "iopub.execute_input": "2025-05-15T15:57:54.054368Z",
     "iopub.status.busy": "2025-05-15T15:57:54.054173Z",
     "iopub.status.idle": "2025-05-15T15:57:54.082030Z",
     "shell.execute_reply": "2025-05-15T15:57:54.081635Z"
    },
    "papermill": {
     "duration": 0.034364,
     "end_time": "2025-05-15T15:57:54.082812",
     "exception": false,
     "start_time": "2025-05-15T15:57:54.048448",
     "status": "completed"
    },
    "tags": []
   },
   "outputs": [],
   "source": [
    "all_idxs = np.arange(train_adata.obs.shape[0])\n",
    "left_out_splits = [s[1] for s in StratifiedGroupKFold(n_splits=N_SPLITS).split(all_idxs, train_adata.obs.disease, train_adata.obs.sampleID)]"
   ]
  },
  {
   "cell_type": "code",
   "execution_count": 12,
   "id": "c00b03d8",
   "metadata": {
    "execution": {
     "iopub.execute_input": "2025-05-15T15:57:54.096754Z",
     "iopub.status.busy": "2025-05-15T15:57:54.096575Z",
     "iopub.status.idle": "2025-05-15T15:57:54.099614Z",
     "shell.execute_reply": "2025-05-15T15:57:54.099327Z"
    },
    "papermill": {
     "duration": 0.011999,
     "end_time": "2025-05-15T15:57:54.100369",
     "exception": false,
     "start_time": "2025-05-15T15:57:54.088370",
     "status": "completed"
    },
    "tags": []
   },
   "outputs": [
    {
     "data": {
      "text/plain": [
       "([0, 1, 4], 3, 2)"
      ]
     },
     "execution_count": 12,
     "metadata": {},
     "output_type": "execute_result"
    }
   ],
   "source": [
    "TRAIN_SPLIT_IDXS = [0,1,2,3,4]\n",
    "VAL_SPLIT_IDX = (TEST_SPLIT_IDX + 1) % 5\n",
    "TRAIN_SPLIT_IDXS.remove(TEST_SPLIT_IDX)\n",
    "TRAIN_SPLIT_IDXS.remove(VAL_SPLIT_IDX)\n",
    "TRAIN_SPLIT_IDXS, VAL_SPLIT_IDX, TEST_SPLIT_IDX"
   ]
  },
  {
   "cell_type": "code",
   "execution_count": 13,
   "id": "a2d90c3f",
   "metadata": {
    "execution": {
     "iopub.execute_input": "2025-05-15T15:57:54.112911Z",
     "iopub.status.busy": "2025-05-15T15:57:54.112732Z",
     "iopub.status.idle": "2025-05-15T15:57:54.114984Z",
     "shell.execute_reply": "2025-05-15T15:57:54.114703Z"
    },
    "papermill": {
     "duration": 0.009591,
     "end_time": "2025-05-15T15:57:54.115741",
     "exception": false,
     "start_time": "2025-05-15T15:57:54.106150",
     "status": "completed"
    },
    "tags": []
   },
   "outputs": [],
   "source": [
    "train_idxs = np.concatenate([left_out_splits[idx] for idx in TRAIN_SPLIT_IDXS])\n",
    "val_idxs = left_out_splits[VAL_SPLIT_IDX]\n",
    "test_idxs = left_out_splits[TEST_SPLIT_IDX]"
   ]
  },
  {
   "cell_type": "markdown",
   "id": "7afe1ce5",
   "metadata": {
    "papermill": {
     "duration": 0.005757,
     "end_time": "2025-05-15T15:57:54.127836",
     "exception": false,
     "start_time": "2025-05-15T15:57:54.122079",
     "status": "completed"
    },
    "tags": []
   },
   "source": [
    "### SUBSET DATASET INTO TRAIN/TEST/VAL SPLITS"
   ]
  },
  {
   "cell_type": "code",
   "execution_count": 14,
   "id": "85dfae45",
   "metadata": {
    "execution": {
     "iopub.execute_input": "2025-05-15T15:57:54.149758Z",
     "iopub.status.busy": "2025-05-15T15:57:54.149551Z",
     "iopub.status.idle": "2025-05-15T15:57:54.155848Z",
     "shell.execute_reply": "2025-05-15T15:57:54.155545Z"
    },
    "papermill": {
     "duration": 0.013199,
     "end_time": "2025-05-15T15:57:54.156643",
     "exception": false,
     "start_time": "2025-05-15T15:57:54.143444",
     "status": "completed"
    },
    "tags": []
   },
   "outputs": [
    {
     "data": {
      "text/plain": [
       "((341, 107), (102, 107), (99, 107))"
      ]
     },
     "execution_count": 14,
     "metadata": {},
     "output_type": "execute_result"
    }
   ],
   "source": [
    "X_train = train_adata.X[train_idxs]\n",
    "X_test = train_adata.X[test_idxs]\n",
    "X_val = train_adata.X[val_idxs]\n",
    "X_train.shape, X_test.shape, X_val.shape"
   ]
  },
  {
   "cell_type": "code",
   "execution_count": 15,
   "id": "9050d290",
   "metadata": {
    "execution": {
     "iopub.execute_input": "2025-05-15T15:57:54.168303Z",
     "iopub.status.busy": "2025-05-15T15:57:54.168071Z",
     "iopub.status.idle": "2025-05-15T15:57:54.172652Z",
     "shell.execute_reply": "2025-05-15T15:57:54.172359Z"
    },
    "papermill": {
     "duration": 0.011023,
     "end_time": "2025-05-15T15:57:54.173410",
     "exception": false,
     "start_time": "2025-05-15T15:57:54.162387",
     "status": "completed"
    },
    "tags": []
   },
   "outputs": [
    {
     "data": {
      "text/plain": [
       "((341,), (102,), (99,))"
      ]
     },
     "execution_count": 15,
     "metadata": {},
     "output_type": "execute_result"
    }
   ],
   "source": [
    "y_train = train_adata.obs.iloc[train_idxs].disease.values.astype(str)\n",
    "y_test = train_adata.obs.iloc[test_idxs].disease.values.astype(str)\n",
    "y_val = train_adata.obs.iloc[val_idxs].disease.values.astype(str)\n",
    "y_train.shape, y_test.shape, y_val.shape"
   ]
  },
  {
   "cell_type": "code",
   "execution_count": 16,
   "id": "9c996231",
   "metadata": {
    "execution": {
     "iopub.execute_input": "2025-05-15T15:57:54.199066Z",
     "iopub.status.busy": "2025-05-15T15:57:54.198722Z",
     "iopub.status.idle": "2025-05-15T15:57:54.201536Z",
     "shell.execute_reply": "2025-05-15T15:57:54.201239Z"
    },
    "papermill": {
     "duration": 0.010066,
     "end_time": "2025-05-15T15:57:54.202301",
     "exception": false,
     "start_time": "2025-05-15T15:57:54.192235",
     "status": "completed"
    },
    "tags": []
   },
   "outputs": [],
   "source": [
    "lenc = LabelEncoder()\n",
    "y_train_enc = lenc.fit_transform(y_train)\n",
    "y_val_enc = lenc.transform(y_val)\n",
    "y_test_enc = lenc.transform(y_test)"
   ]
  },
  {
   "cell_type": "markdown",
   "id": "e3fcb2b9",
   "metadata": {
    "papermill": {
     "duration": 0.005563,
     "end_time": "2025-05-15T15:57:54.213556",
     "exception": false,
     "start_time": "2025-05-15T15:57:54.207993",
     "status": "completed"
    },
    "tags": []
   },
   "source": [
    "### GENERATE F1 "
   ]
  },
  {
   "cell_type": "code",
   "execution_count": 17,
   "id": "76e7bf16",
   "metadata": {
    "execution": {
     "iopub.execute_input": "2025-05-15T15:57:54.229311Z",
     "iopub.status.busy": "2025-05-15T15:57:54.229080Z",
     "iopub.status.idle": "2025-05-15T15:57:54.231366Z",
     "shell.execute_reply": "2025-05-15T15:57:54.231067Z"
    },
    "papermill": {
     "duration": 0.008944,
     "end_time": "2025-05-15T15:57:54.232121",
     "exception": false,
     "start_time": "2025-05-15T15:57:54.223177",
     "status": "completed"
    },
    "tags": []
   },
   "outputs": [],
   "source": [
    "def custom_f1_score(y_true, y_pred):\n",
    "    return -f1_score(y_true, y_pred.argmax(1), average='weighted')"
   ]
  },
  {
   "cell_type": "code",
   "execution_count": 18,
   "id": "df336a41",
   "metadata": {
    "execution": {
     "iopub.execute_input": "2025-05-15T15:57:54.243793Z",
     "iopub.status.busy": "2025-05-15T15:57:54.243609Z",
     "iopub.status.idle": "2025-05-15T15:57:54.247068Z",
     "shell.execute_reply": "2025-05-15T15:57:54.246771Z"
    },
    "papermill": {
     "duration": 0.010254,
     "end_time": "2025-05-15T15:57:54.247842",
     "exception": false,
     "start_time": "2025-05-15T15:57:54.237588",
     "status": "completed"
    },
    "tags": []
   },
   "outputs": [],
   "source": [
    "eval_metric=custom_f1_score\n",
    "eval_metric_name='custom_f1_score'\n",
    "\n",
    "def objective(trial):\n",
    "    params = {\n",
    "        'n_estimators': 1500,\n",
    "        'max_depth': trial.suggest_int('max_depth', 3, 20),\n",
    "        'min_child_weight': trial.suggest_int('min_child_weight', 1, 250),\n",
    "        'subsample': trial.suggest_float('subsample', 0.1, 1.0),\n",
    "        'colsample_bynode': trial.suggest_float('colsample_bynode', 0.1, 1.0),\n",
    "        'learning_rate': trial.suggest_float('learning_rate', 1e-3, 5e-1, log=True),\n",
    "    }\n",
    "    pruning_callback = optuna.integration.XGBoostPruningCallback(trial, f'validation_0-{eval_metric_name}')\n",
    "    es_callback = xgboost.callback.EarlyStopping(20, min_delta=0.001)\n",
    "    xgb = xgboost.XGBClassifier(\n",
    "        eval_metric=eval_metric,\n",
    "        callbacks=[pruning_callback, es_callback],\n",
    "        n_jobs=5,\n",
    "        **params\n",
    "    )\n",
    "    xgb.fit(\n",
    "        X_train, \n",
    "        y_train_enc, \n",
    "        verbose=0,\n",
    "        eval_set=[(X_val, y_val_enc)],\n",
    "    )\n",
    "    trial.set_user_attr('best_iteration', xgb.best_iteration)\n",
    "\n",
    "    return xgb.best_score"
   ]
  },
  {
   "cell_type": "code",
   "execution_count": 19,
   "id": "e8307113",
   "metadata": {
    "execution": {
     "iopub.execute_input": "2025-05-15T15:57:54.261163Z",
     "iopub.status.busy": "2025-05-15T15:57:54.260708Z",
     "iopub.status.idle": "2025-05-15T15:58:03.191293Z",
     "shell.execute_reply": "2025-05-15T15:58:03.190876Z"
    },
    "papermill": {
     "duration": 8.93865,
     "end_time": "2025-05-15T15:58:03.192187",
     "exception": false,
     "start_time": "2025-05-15T15:57:54.253537",
     "status": "completed"
    },
    "scrolled": true,
    "tags": []
   },
   "outputs": [
    {
     "name": "stderr",
     "output_type": "stream",
     "text": [
      "[I 2025-05-15 17:57:54,262] A new study created in memory with name: no-name-45719626-c097-47d8-a082-f529966cda06\n"
     ]
    },
    {
     "name": "stderr",
     "output_type": "stream",
     "text": [
      "[I 2025-05-15 17:57:54,437] Trial 0 finished with value: -0.022222 and parameters: {'max_depth': 9, 'min_child_weight': 238, 'subsample': 0.7587945476302645, 'colsample_bynode': 0.6387926357773329, 'learning_rate': 0.0026368755339723046}. Best is trial 0 with value: -0.022222.\n"
     ]
    },
    {
     "name": "stderr",
     "output_type": "stream",
     "text": [
      "[I 2025-05-15 17:57:54,764] Trial 1 finished with value: -0.633091 and parameters: {'max_depth': 5, 'min_child_weight': 15, 'subsample': 0.8795585311974417, 'colsample_bynode': 0.6410035105688879, 'learning_rate': 0.08148293210105287}. Best is trial 1 with value: -0.633091.\n"
     ]
    },
    {
     "name": "stderr",
     "output_type": "stream",
     "text": [
      "[I 2025-05-15 17:57:54,899] Trial 2 finished with value: -0.022222 and parameters: {'max_depth': 3, 'min_child_weight': 243, 'subsample': 0.8491983767203796, 'colsample_bynode': 0.29110519961044856, 'learning_rate': 0.003095566460242371}. Best is trial 1 with value: -0.633091.\n"
     ]
    },
    {
     "name": "stderr",
     "output_type": "stream",
     "text": [
      "[I 2025-05-15 17:57:55,032] Trial 3 finished with value: -0.022222 and parameters: {'max_depth': 6, 'min_child_weight': 77, 'subsample': 0.5722807884690141, 'colsample_bynode': 0.48875051677790415, 'learning_rate': 0.006109683510122491}. Best is trial 1 with value: -0.633091.\n"
     ]
    },
    {
     "name": "stderr",
     "output_type": "stream",
     "text": [
      "[I 2025-05-15 17:57:55,159] Trial 4 finished with value: -0.022222 and parameters: {'max_depth': 14, 'min_child_weight': 35, 'subsample': 0.3629301836816964, 'colsample_bynode': 0.4297256589643226, 'learning_rate': 0.01701841881702917}. Best is trial 1 with value: -0.633091.\n"
     ]
    },
    {
     "name": "stderr",
     "output_type": "stream",
     "text": [
      "[I 2025-05-15 17:57:55,290] Trial 5 finished with value: -0.022222 and parameters: {'max_depth': 17, 'min_child_weight': 50, 'subsample': 0.5628109945722505, 'colsample_bynode': 0.6331731119758383, 'learning_rate': 0.0013346527038305934}. Best is trial 1 with value: -0.633091.\n"
     ]
    },
    {
     "name": "stderr",
     "output_type": "stream",
     "text": [
      "[I 2025-05-15 17:57:55,428] Trial 6 finished with value: -0.022222 and parameters: {'max_depth': 13, 'min_child_weight': 43, 'subsample': 0.1585464336867516, 'colsample_bynode': 0.9539969835279999, 'learning_rate': 0.4038423798071558}. Best is trial 1 with value: -0.633091.\n"
     ]
    },
    {
     "name": "stderr",
     "output_type": "stream",
     "text": [
      "[I 2025-05-15 17:57:55,562] Trial 7 finished with value: -0.022222 and parameters: {'max_depth': 17, 'min_child_weight': 77, 'subsample': 0.1879049026057455, 'colsample_bynode': 0.7158097238609412, 'learning_rate': 0.015415527060141935}. Best is trial 1 with value: -0.633091.\n"
     ]
    },
    {
     "name": "stderr",
     "output_type": "stream",
     "text": [
      "[I 2025-05-15 17:57:55,698] Trial 8 finished with value: -0.022222 and parameters: {'max_depth': 5, 'min_child_weight': 124, 'subsample': 0.13094966900369656, 'colsample_bynode': 0.9183883618709039, 'learning_rate': 0.004993895014755658}. Best is trial 1 with value: -0.633091.\n"
     ]
    },
    {
     "name": "stderr",
     "output_type": "stream",
     "text": [
      "[I 2025-05-15 17:57:55,836] Trial 9 finished with value: -0.022222 and parameters: {'max_depth': 14, 'min_child_weight': 78, 'subsample': 0.5680612190600297, 'colsample_bynode': 0.5920392514089517, 'learning_rate': 0.0031543990308330965}. Best is trial 1 with value: -0.633091.\n"
     ]
    },
    {
     "name": "stderr",
     "output_type": "stream",
     "text": [
      "[I 2025-05-15 17:57:56,134] Trial 10 pruned. Trial was pruned at iteration 24.\n"
     ]
    },
    {
     "name": "stderr",
     "output_type": "stream",
     "text": [
      "[I 2025-05-15 17:57:56,292] Trial 11 finished with value: -0.022222 and parameters: {'max_depth': 9, 'min_child_weight': 244, 'subsample': 0.7759918276625105, 'colsample_bynode': 0.7714157288516674, 'learning_rate': 0.06989197786403963}. Best is trial 1 with value: -0.633091.\n"
     ]
    },
    {
     "name": "stderr",
     "output_type": "stream",
     "text": [
      "[I 2025-05-15 17:57:56,446] Trial 12 finished with value: -0.022222 and parameters: {'max_depth': 9, 'min_child_weight': 187, 'subsample': 0.7810886706853567, 'colsample_bynode': 0.7908156974794198, 'learning_rate': 0.0852514223226423}. Best is trial 1 with value: -0.633091.\n"
     ]
    },
    {
     "name": "stderr",
     "output_type": "stream",
     "text": [
      "[I 2025-05-15 17:57:56,600] Trial 13 finished with value: -0.022222 and parameters: {'max_depth': 7, 'min_child_weight': 173, 'subsample': 0.9985711586801754, 'colsample_bynode': 0.3542314315933605, 'learning_rate': 0.05535376435186281}. Best is trial 1 with value: -0.633091.\n"
     ]
    },
    {
     "name": "stderr",
     "output_type": "stream",
     "text": [
      "[I 2025-05-15 17:57:56,753] Trial 14 finished with value: -0.022222 and parameters: {'max_depth': 4, 'min_child_weight': 140, 'subsample': 0.7252785471204157, 'colsample_bynode': 0.6251170185028069, 'learning_rate': 0.028603454172866558}. Best is trial 1 with value: -0.633091.\n"
     ]
    },
    {
     "name": "stderr",
     "output_type": "stream",
     "text": [
      "[I 2025-05-15 17:57:56,906] Trial 15 finished with value: -0.022222 and parameters: {'max_depth': 20, 'min_child_weight': 204, 'subsample': 0.6803150824063098, 'colsample_bynode': 0.8501087117926959, 'learning_rate': 0.001019745930894758}. Best is trial 1 with value: -0.633091.\n"
     ]
    },
    {
     "name": "stderr",
     "output_type": "stream",
     "text": [
      "[I 2025-05-15 17:57:57,060] Trial 16 finished with value: -0.022222 and parameters: {'max_depth': 8, 'min_child_weight': 121, 'subsample': 0.8625632182518037, 'colsample_bynode': 0.6970657857507844, 'learning_rate': 0.18961687234093502}. Best is trial 1 with value: -0.633091.\n"
     ]
    },
    {
     "name": "stderr",
     "output_type": "stream",
     "text": [
      "[I 2025-05-15 17:57:57,285] Trial 17 pruned. Trial was pruned at iteration 21.\n"
     ]
    },
    {
     "name": "stderr",
     "output_type": "stream",
     "text": [
      "[I 2025-05-15 17:57:57,440] Trial 18 finished with value: -0.022222 and parameters: {'max_depth': 12, 'min_child_weight': 156, 'subsample': 0.8964450909290851, 'colsample_bynode': 0.24900065324684006, 'learning_rate': 0.03544069195285818}. Best is trial 1 with value: -0.633091.\n"
     ]
    },
    {
     "name": "stderr",
     "output_type": "stream",
     "text": [
      "[I 2025-05-15 17:57:57,592] Trial 19 finished with value: -0.022222 and parameters: {'max_depth': 3, 'min_child_weight': 213, 'subsample': 0.6729427260151626, 'colsample_bynode': 0.436579935167426, 'learning_rate': 0.15796261807789636}. Best is trial 1 with value: -0.633091.\n"
     ]
    },
    {
     "name": "stderr",
     "output_type": "stream",
     "text": [
      "[I 2025-05-15 17:57:57,751] Trial 20 finished with value: -0.022222 and parameters: {'max_depth': 6, 'min_child_weight': 108, 'subsample': 0.9267723049850893, 'colsample_bynode': 0.8638570884100472, 'learning_rate': 0.0018743644531145694}. Best is trial 1 with value: -0.633091.\n"
     ]
    },
    {
     "name": "stderr",
     "output_type": "stream",
     "text": [
      "[I 2025-05-15 17:57:57,905] Trial 21 finished with value: -0.022222 and parameters: {'max_depth': 3, 'min_child_weight': 243, 'subsample': 0.8381380797607554, 'colsample_bynode': 0.2936648591260932, 'learning_rate': 0.0028697910354236454}. Best is trial 1 with value: -0.633091.\n"
     ]
    },
    {
     "name": "stderr",
     "output_type": "stream",
     "text": [
      "[I 2025-05-15 17:57:58,054] Trial 22 finished with value: -0.022222 and parameters: {'max_depth': 4, 'min_child_weight': 222, 'subsample': 0.7982423974446629, 'colsample_bynode': 0.18807836392607669, 'learning_rate': 0.008881632187327966}. Best is trial 1 with value: -0.633091.\n"
     ]
    },
    {
     "name": "stderr",
     "output_type": "stream",
     "text": [
      "[I 2025-05-15 17:57:58,206] Trial 23 finished with value: -0.022222 and parameters: {'max_depth': 6, 'min_child_weight': 232, 'subsample': 0.6638310221964546, 'colsample_bynode': 0.566298809027901, 'learning_rate': 0.0027719217784443364}. Best is trial 1 with value: -0.633091.\n"
     ]
    },
    {
     "name": "stderr",
     "output_type": "stream",
     "text": [
      "[I 2025-05-15 17:57:58,366] Trial 24 finished with value: -0.022222 and parameters: {'max_depth': 11, 'min_child_weight': 200, 'subsample': 0.9143238627389314, 'colsample_bynode': 0.3905434007926093, 'learning_rate': 0.004380634708425319}. Best is trial 1 with value: -0.633091.\n"
     ]
    },
    {
     "name": "stderr",
     "output_type": "stream",
     "text": [
      "[I 2025-05-15 17:57:58,523] Trial 25 finished with value: -0.022222 and parameters: {'max_depth': 5, 'min_child_weight': 169, 'subsample': 0.7535701176502512, 'colsample_bynode': 0.6875962023752984, 'learning_rate': 0.001751366603937793}. Best is trial 1 with value: -0.633091.\n"
     ]
    },
    {
     "name": "stderr",
     "output_type": "stream",
     "text": [
      "[I 2025-05-15 17:57:58,677] Trial 26 finished with value: -0.022222 and parameters: {'max_depth': 8, 'min_child_weight': 102, 'subsample': 0.4415145059632183, 'colsample_bynode': 0.5054559356236007, 'learning_rate': 0.009981136121838687}. Best is trial 1 with value: -0.633091.\n"
     ]
    },
    {
     "name": "stderr",
     "output_type": "stream",
     "text": [
      "[I 2025-05-15 17:57:58,829] Trial 27 finished with value: -0.022222 and parameters: {'max_depth': 3, 'min_child_weight': 250, 'subsample': 0.836332296140562, 'colsample_bynode': 0.3224983221137091, 'learning_rate': 0.33751469567913717}. Best is trial 1 with value: -0.633091.\n"
     ]
    },
    {
     "name": "stderr",
     "output_type": "stream",
     "text": [
      "[I 2025-05-15 17:57:58,977] Trial 28 finished with value: -0.022222 and parameters: {'max_depth': 7, 'min_child_weight': 196, 'subsample': 0.9395802867292293, 'colsample_bynode': 0.10419856137301844, 'learning_rate': 0.12287823020042174}. Best is trial 1 with value: -0.633091.\n"
     ]
    },
    {
     "name": "stderr",
     "output_type": "stream",
     "text": [
      "[I 2025-05-15 17:57:59,137] Trial 29 finished with value: -0.022222 and parameters: {'max_depth': 5, 'min_child_weight': 146, 'subsample': 0.6524726734756583, 'colsample_bynode': 0.46569851971471055, 'learning_rate': 0.040578771578418715}. Best is trial 1 with value: -0.633091.\n"
     ]
    },
    {
     "name": "stderr",
     "output_type": "stream",
     "text": [
      "[I 2025-05-15 17:57:59,290] Trial 30 finished with value: -0.022222 and parameters: {'max_depth': 10, 'min_child_weight': 224, 'subsample': 0.48408877480742074, 'colsample_bynode': 0.6525741718054756, 'learning_rate': 0.006846398548333891}. Best is trial 1 with value: -0.633091.\n"
     ]
    },
    {
     "name": "stderr",
     "output_type": "stream",
     "text": [
      "[I 2025-05-15 17:57:59,446] Trial 31 pruned. Trial was pruned at iteration 21.\n"
     ]
    },
    {
     "name": "stderr",
     "output_type": "stream",
     "text": [
      "[I 2025-05-15 17:57:59,597] Trial 32 finished with value: -0.022222 and parameters: {'max_depth': 6, 'min_child_weight': 60, 'subsample': 0.5834577711765219, 'colsample_bynode': 0.40083156791272617, 'learning_rate': 0.005060185098022239}. Best is trial 1 with value: -0.633091.\n"
     ]
    },
    {
     "name": "stderr",
     "output_type": "stream",
     "text": [
      "[I 2025-05-15 17:57:59,752] Trial 33 finished with value: -0.166667 and parameters: {'max_depth': 4, 'min_child_weight': 34, 'subsample': 0.6129149280667663, 'colsample_bynode': 0.46859121318812375, 'learning_rate': 0.0018991950654641675}. Best is trial 1 with value: -0.633091.\n"
     ]
    },
    {
     "name": "stderr",
     "output_type": "stream",
     "text": [
      "[I 2025-05-15 17:57:59,908] Trial 34 pruned. Trial was pruned at iteration 21.\n"
     ]
    },
    {
     "name": "stderr",
     "output_type": "stream",
     "text": [
      "[I 2025-05-15 17:58:00,074] Trial 35 finished with value: -0.022222 and parameters: {'max_depth': 4, 'min_child_weight': 60, 'subsample': 0.7302236946628688, 'colsample_bynode': 0.7575883145842257, 'learning_rate': 0.001257637476193813}. Best is trial 1 with value: -0.633091.\n"
     ]
    },
    {
     "name": "stderr",
     "output_type": "stream",
     "text": [
      "[I 2025-05-15 17:58:00,260] Trial 36 finished with value: -0.527039 and parameters: {'max_depth': 5, 'min_child_weight': 17, 'subsample': 0.5096910772711003, 'colsample_bynode': 0.6264961411914769, 'learning_rate': 0.0036066158403080515}. Best is trial 1 with value: -0.633091.\n"
     ]
    },
    {
     "name": "stderr",
     "output_type": "stream",
     "text": [
      "[I 2025-05-15 17:58:00,443] Trial 37 pruned. Trial was pruned at iteration 21.\n"
     ]
    },
    {
     "name": "stderr",
     "output_type": "stream",
     "text": [
      "[I 2025-05-15 17:58:00,609] Trial 38 finished with value: -0.022222 and parameters: {'max_depth': 5, 'min_child_weight': 37, 'subsample': 0.30694711539362407, 'colsample_bynode': 0.6431856397790191, 'learning_rate': 0.01289153147822192}. Best is trial 1 with value: -0.633091.\n"
     ]
    },
    {
     "name": "stderr",
     "output_type": "stream",
     "text": [
      "[I 2025-05-15 17:58:00,784] Trial 39 finished with value: -0.022222 and parameters: {'max_depth': 15, 'min_child_weight': 86, 'subsample': 0.5048871988733133, 'colsample_bynode': 0.5716455939705809, 'learning_rate': 0.004100932573191553}. Best is trial 1 with value: -0.633091.\n"
     ]
    },
    {
     "name": "stderr",
     "output_type": "stream",
     "text": [
      "[I 2025-05-15 17:58:00,964] Trial 40 pruned. Trial was pruned at iteration 21.\n"
     ]
    },
    {
     "name": "stderr",
     "output_type": "stream",
     "text": [
      "[I 2025-05-15 17:58:01,258] Trial 41 pruned. Trial was pruned at iteration 23.\n"
     ]
    },
    {
     "name": "stderr",
     "output_type": "stream",
     "text": [
      "[I 2025-05-15 17:58:01,443] Trial 42 finished with value: -0.166667 and parameters: {'max_depth': 5, 'min_child_weight': 31, 'subsample': 0.7074480757654013, 'colsample_bynode': 0.6602089419019065, 'learning_rate': 0.001944526308095189}. Best is trial 1 with value: -0.633091.\n"
     ]
    },
    {
     "name": "stderr",
     "output_type": "stream",
     "text": [
      "[I 2025-05-15 17:58:01,634] Trial 43 finished with value: -0.166667 and parameters: {'max_depth': 5, 'min_child_weight': 31, 'subsample': 0.6994340837865614, 'colsample_bynode': 0.6680250398370318, 'learning_rate': 0.002116010150645143}. Best is trial 1 with value: -0.633091.\n"
     ]
    },
    {
     "name": "stderr",
     "output_type": "stream",
     "text": [
      "[I 2025-05-15 17:58:01,829] Trial 44 finished with value: -0.022222 and parameters: {'max_depth': 5, 'min_child_weight': 62, 'subsample': 0.7104104781189527, 'colsample_bynode': 0.6652038967174835, 'learning_rate': 0.0021663609900359725}. Best is trial 1 with value: -0.633091.\n"
     ]
    },
    {
     "name": "stderr",
     "output_type": "stream",
     "text": [
      "[I 2025-05-15 17:58:02,015] Trial 45 finished with value: -0.166667 and parameters: {'max_depth': 6, 'min_child_weight': 28, 'subsample': 0.5993060885364823, 'colsample_bynode': 0.7532094524069812, 'learning_rate': 0.0013859897092424376}. Best is trial 1 with value: -0.633091.\n"
     ]
    },
    {
     "name": "stderr",
     "output_type": "stream",
     "text": [
      "[I 2025-05-15 17:58:02,241] Trial 46 pruned. Trial was pruned at iteration 21.\n"
     ]
    },
    {
     "name": "stderr",
     "output_type": "stream",
     "text": [
      "[I 2025-05-15 17:58:02,416] Trial 47 finished with value: -0.022222 and parameters: {'max_depth': 6, 'min_child_weight': 41, 'subsample': 0.424589909112619, 'colsample_bynode': 0.5599033538465503, 'learning_rate': 0.0015352913833430524}. Best is trial 1 with value: -0.633091.\n"
     ]
    },
    {
     "name": "stderr",
     "output_type": "stream",
     "text": [
      "[I 2025-05-15 17:58:02,590] Trial 48 finished with value: -0.166667 and parameters: {'max_depth': 4, 'min_child_weight': 33, 'subsample': 0.8104131240638237, 'colsample_bynode': 0.7346814092486643, 'learning_rate': 0.0033002852649691244}. Best is trial 1 with value: -0.633091.\n"
     ]
    },
    {
     "name": "stderr",
     "output_type": "stream",
     "text": [
      "[I 2025-05-15 17:58:03,089] Trial 49 finished with value: -0.639825 and parameters: {'max_depth': 20, 'min_child_weight': 1, 'subsample': 0.5459550636056116, 'colsample_bynode': 0.6094653979002219, 'learning_rate': 0.0021979431724477136}. Best is trial 49 with value: -0.639825.\n"
     ]
    }
   ],
   "source": [
    "sampler = optuna.samplers.TPESampler(seed=42)\n",
    "study = optuna.create_study(direction='minimize', sampler=sampler)\n",
    "study.optimize(objective, n_trials=N_TRIALS, gc_after_trial=True)"
   ]
  },
  {
   "cell_type": "code",
   "execution_count": 20,
   "id": "21fc1442",
   "metadata": {
    "execution": {
     "iopub.execute_input": "2025-05-15T15:58:03.212896Z",
     "iopub.status.busy": "2025-05-15T15:58:03.212449Z",
     "iopub.status.idle": "2025-05-15T15:58:03.232609Z",
     "shell.execute_reply": "2025-05-15T15:58:03.232321Z"
    },
    "papermill": {
     "duration": 0.030203,
     "end_time": "2025-05-15T15:58:03.233377",
     "exception": false,
     "start_time": "2025-05-15T15:58:03.203174",
     "status": "completed"
    },
    "tags": []
   },
   "outputs": [
    {
     "data": {
      "text/plain": [
       "['/scratch_isilon/groups/singlecell/shared/projects/Inflammation-PBMCs-Atlas/03_downstream_analysis/08_gene_importance/xgboost_external_validation/xgboost_TopN_genes/results_20/study/Plasma_0_2_xgboost.pkl']"
      ]
     },
     "execution_count": 20,
     "metadata": {},
     "output_type": "execute_result"
    }
   ],
   "source": [
    "out_dir = here(f'03_downstream_analysis/08_gene_importance/xgboost_external_validation/xgboost_TopN_genes/results_{N_GENES}/study')\n",
    "\n",
    "if not os.path.exists(out_dir):\n",
    "    os.makedirs(out_dir)\n",
    "    \n",
    "joblib.dump(study,os.path.join(out_dir, f'{CELL_TYPE}_{SEED}_{TEST_SPLIT_IDX}_xgboost.pkl'))"
   ]
  },
  {
   "cell_type": "code",
   "execution_count": 21,
   "id": "05cea867",
   "metadata": {
    "execution": {
     "iopub.execute_input": "2025-05-15T15:58:03.250550Z",
     "iopub.status.busy": "2025-05-15T15:58:03.250370Z",
     "iopub.status.idle": "2025-05-15T15:58:03.459965Z",
     "shell.execute_reply": "2025-05-15T15:58:03.459610Z"
    },
    "papermill": {
     "duration": 0.21913,
     "end_time": "2025-05-15T15:58:03.460972",
     "exception": false,
     "start_time": "2025-05-15T15:58:03.241842",
     "status": "completed"
    },
    "tags": []
   },
   "outputs": [
    {
     "data": {
      "text/html": [
       "<style>#sk-container-id-1 {\n",
       "  /* Definition of color scheme common for light and dark mode */\n",
       "  --sklearn-color-text: black;\n",
       "  --sklearn-color-line: gray;\n",
       "  /* Definition of color scheme for unfitted estimators */\n",
       "  --sklearn-color-unfitted-level-0: #fff5e6;\n",
       "  --sklearn-color-unfitted-level-1: #f6e4d2;\n",
       "  --sklearn-color-unfitted-level-2: #ffe0b3;\n",
       "  --sklearn-color-unfitted-level-3: chocolate;\n",
       "  /* Definition of color scheme for fitted estimators */\n",
       "  --sklearn-color-fitted-level-0: #f0f8ff;\n",
       "  --sklearn-color-fitted-level-1: #d4ebff;\n",
       "  --sklearn-color-fitted-level-2: #b3dbfd;\n",
       "  --sklearn-color-fitted-level-3: cornflowerblue;\n",
       "\n",
       "  /* Specific color for light theme */\n",
       "  --sklearn-color-text-on-default-background: var(--sg-text-color, var(--theme-code-foreground, var(--jp-content-font-color1, black)));\n",
       "  --sklearn-color-background: var(--sg-background-color, var(--theme-background, var(--jp-layout-color0, white)));\n",
       "  --sklearn-color-border-box: var(--sg-text-color, var(--theme-code-foreground, var(--jp-content-font-color1, black)));\n",
       "  --sklearn-color-icon: #696969;\n",
       "\n",
       "  @media (prefers-color-scheme: dark) {\n",
       "    /* Redefinition of color scheme for dark theme */\n",
       "    --sklearn-color-text-on-default-background: var(--sg-text-color, var(--theme-code-foreground, var(--jp-content-font-color1, white)));\n",
       "    --sklearn-color-background: var(--sg-background-color, var(--theme-background, var(--jp-layout-color0, #111)));\n",
       "    --sklearn-color-border-box: var(--sg-text-color, var(--theme-code-foreground, var(--jp-content-font-color1, white)));\n",
       "    --sklearn-color-icon: #878787;\n",
       "  }\n",
       "}\n",
       "\n",
       "#sk-container-id-1 {\n",
       "  color: var(--sklearn-color-text);\n",
       "}\n",
       "\n",
       "#sk-container-id-1 pre {\n",
       "  padding: 0;\n",
       "}\n",
       "\n",
       "#sk-container-id-1 input.sk-hidden--visually {\n",
       "  border: 0;\n",
       "  clip: rect(1px 1px 1px 1px);\n",
       "  clip: rect(1px, 1px, 1px, 1px);\n",
       "  height: 1px;\n",
       "  margin: -1px;\n",
       "  overflow: hidden;\n",
       "  padding: 0;\n",
       "  position: absolute;\n",
       "  width: 1px;\n",
       "}\n",
       "\n",
       "#sk-container-id-1 div.sk-dashed-wrapped {\n",
       "  border: 1px dashed var(--sklearn-color-line);\n",
       "  margin: 0 0.4em 0.5em 0.4em;\n",
       "  box-sizing: border-box;\n",
       "  padding-bottom: 0.4em;\n",
       "  background-color: var(--sklearn-color-background);\n",
       "}\n",
       "\n",
       "#sk-container-id-1 div.sk-container {\n",
       "  /* jupyter's `normalize.less` sets `[hidden] { display: none; }`\n",
       "     but bootstrap.min.css set `[hidden] { display: none !important; }`\n",
       "     so we also need the `!important` here to be able to override the\n",
       "     default hidden behavior on the sphinx rendered scikit-learn.org.\n",
       "     See: https://github.com/scikit-learn/scikit-learn/issues/21755 */\n",
       "  display: inline-block !important;\n",
       "  position: relative;\n",
       "}\n",
       "\n",
       "#sk-container-id-1 div.sk-text-repr-fallback {\n",
       "  display: none;\n",
       "}\n",
       "\n",
       "div.sk-parallel-item,\n",
       "div.sk-serial,\n",
       "div.sk-item {\n",
       "  /* draw centered vertical line to link estimators */\n",
       "  background-image: linear-gradient(var(--sklearn-color-text-on-default-background), var(--sklearn-color-text-on-default-background));\n",
       "  background-size: 2px 100%;\n",
       "  background-repeat: no-repeat;\n",
       "  background-position: center center;\n",
       "}\n",
       "\n",
       "/* Parallel-specific style estimator block */\n",
       "\n",
       "#sk-container-id-1 div.sk-parallel-item::after {\n",
       "  content: \"\";\n",
       "  width: 100%;\n",
       "  border-bottom: 2px solid var(--sklearn-color-text-on-default-background);\n",
       "  flex-grow: 1;\n",
       "}\n",
       "\n",
       "#sk-container-id-1 div.sk-parallel {\n",
       "  display: flex;\n",
       "  align-items: stretch;\n",
       "  justify-content: center;\n",
       "  background-color: var(--sklearn-color-background);\n",
       "  position: relative;\n",
       "}\n",
       "\n",
       "#sk-container-id-1 div.sk-parallel-item {\n",
       "  display: flex;\n",
       "  flex-direction: column;\n",
       "}\n",
       "\n",
       "#sk-container-id-1 div.sk-parallel-item:first-child::after {\n",
       "  align-self: flex-end;\n",
       "  width: 50%;\n",
       "}\n",
       "\n",
       "#sk-container-id-1 div.sk-parallel-item:last-child::after {\n",
       "  align-self: flex-start;\n",
       "  width: 50%;\n",
       "}\n",
       "\n",
       "#sk-container-id-1 div.sk-parallel-item:only-child::after {\n",
       "  width: 0;\n",
       "}\n",
       "\n",
       "/* Serial-specific style estimator block */\n",
       "\n",
       "#sk-container-id-1 div.sk-serial {\n",
       "  display: flex;\n",
       "  flex-direction: column;\n",
       "  align-items: center;\n",
       "  background-color: var(--sklearn-color-background);\n",
       "  padding-right: 1em;\n",
       "  padding-left: 1em;\n",
       "}\n",
       "\n",
       "\n",
       "/* Toggleable style: style used for estimator/Pipeline/ColumnTransformer box that is\n",
       "clickable and can be expanded/collapsed.\n",
       "- Pipeline and ColumnTransformer use this feature and define the default style\n",
       "- Estimators will overwrite some part of the style using the `sk-estimator` class\n",
       "*/\n",
       "\n",
       "/* Pipeline and ColumnTransformer style (default) */\n",
       "\n",
       "#sk-container-id-1 div.sk-toggleable {\n",
       "  /* Default theme specific background. It is overwritten whether we have a\n",
       "  specific estimator or a Pipeline/ColumnTransformer */\n",
       "  background-color: var(--sklearn-color-background);\n",
       "}\n",
       "\n",
       "/* Toggleable label */\n",
       "#sk-container-id-1 label.sk-toggleable__label {\n",
       "  cursor: pointer;\n",
       "  display: block;\n",
       "  width: 100%;\n",
       "  margin-bottom: 0;\n",
       "  padding: 0.5em;\n",
       "  box-sizing: border-box;\n",
       "  text-align: center;\n",
       "}\n",
       "\n",
       "#sk-container-id-1 label.sk-toggleable__label-arrow:before {\n",
       "  /* Arrow on the left of the label */\n",
       "  content: \"▸\";\n",
       "  float: left;\n",
       "  margin-right: 0.25em;\n",
       "  color: var(--sklearn-color-icon);\n",
       "}\n",
       "\n",
       "#sk-container-id-1 label.sk-toggleable__label-arrow:hover:before {\n",
       "  color: var(--sklearn-color-text);\n",
       "}\n",
       "\n",
       "/* Toggleable content - dropdown */\n",
       "\n",
       "#sk-container-id-1 div.sk-toggleable__content {\n",
       "  max-height: 0;\n",
       "  max-width: 0;\n",
       "  overflow: hidden;\n",
       "  text-align: left;\n",
       "  /* unfitted */\n",
       "  background-color: var(--sklearn-color-unfitted-level-0);\n",
       "}\n",
       "\n",
       "#sk-container-id-1 div.sk-toggleable__content.fitted {\n",
       "  /* fitted */\n",
       "  background-color: var(--sklearn-color-fitted-level-0);\n",
       "}\n",
       "\n",
       "#sk-container-id-1 div.sk-toggleable__content pre {\n",
       "  margin: 0.2em;\n",
       "  border-radius: 0.25em;\n",
       "  color: var(--sklearn-color-text);\n",
       "  /* unfitted */\n",
       "  background-color: var(--sklearn-color-unfitted-level-0);\n",
       "}\n",
       "\n",
       "#sk-container-id-1 div.sk-toggleable__content.fitted pre {\n",
       "  /* unfitted */\n",
       "  background-color: var(--sklearn-color-fitted-level-0);\n",
       "}\n",
       "\n",
       "#sk-container-id-1 input.sk-toggleable__control:checked~div.sk-toggleable__content {\n",
       "  /* Expand drop-down */\n",
       "  max-height: 200px;\n",
       "  max-width: 100%;\n",
       "  overflow: auto;\n",
       "}\n",
       "\n",
       "#sk-container-id-1 input.sk-toggleable__control:checked~label.sk-toggleable__label-arrow:before {\n",
       "  content: \"▾\";\n",
       "}\n",
       "\n",
       "/* Pipeline/ColumnTransformer-specific style */\n",
       "\n",
       "#sk-container-id-1 div.sk-label input.sk-toggleable__control:checked~label.sk-toggleable__label {\n",
       "  color: var(--sklearn-color-text);\n",
       "  background-color: var(--sklearn-color-unfitted-level-2);\n",
       "}\n",
       "\n",
       "#sk-container-id-1 div.sk-label.fitted input.sk-toggleable__control:checked~label.sk-toggleable__label {\n",
       "  background-color: var(--sklearn-color-fitted-level-2);\n",
       "}\n",
       "\n",
       "/* Estimator-specific style */\n",
       "\n",
       "/* Colorize estimator box */\n",
       "#sk-container-id-1 div.sk-estimator input.sk-toggleable__control:checked~label.sk-toggleable__label {\n",
       "  /* unfitted */\n",
       "  background-color: var(--sklearn-color-unfitted-level-2);\n",
       "}\n",
       "\n",
       "#sk-container-id-1 div.sk-estimator.fitted input.sk-toggleable__control:checked~label.sk-toggleable__label {\n",
       "  /* fitted */\n",
       "  background-color: var(--sklearn-color-fitted-level-2);\n",
       "}\n",
       "\n",
       "#sk-container-id-1 div.sk-label label.sk-toggleable__label,\n",
       "#sk-container-id-1 div.sk-label label {\n",
       "  /* The background is the default theme color */\n",
       "  color: var(--sklearn-color-text-on-default-background);\n",
       "}\n",
       "\n",
       "/* On hover, darken the color of the background */\n",
       "#sk-container-id-1 div.sk-label:hover label.sk-toggleable__label {\n",
       "  color: var(--sklearn-color-text);\n",
       "  background-color: var(--sklearn-color-unfitted-level-2);\n",
       "}\n",
       "\n",
       "/* Label box, darken color on hover, fitted */\n",
       "#sk-container-id-1 div.sk-label.fitted:hover label.sk-toggleable__label.fitted {\n",
       "  color: var(--sklearn-color-text);\n",
       "  background-color: var(--sklearn-color-fitted-level-2);\n",
       "}\n",
       "\n",
       "/* Estimator label */\n",
       "\n",
       "#sk-container-id-1 div.sk-label label {\n",
       "  font-family: monospace;\n",
       "  font-weight: bold;\n",
       "  display: inline-block;\n",
       "  line-height: 1.2em;\n",
       "}\n",
       "\n",
       "#sk-container-id-1 div.sk-label-container {\n",
       "  text-align: center;\n",
       "}\n",
       "\n",
       "/* Estimator-specific */\n",
       "#sk-container-id-1 div.sk-estimator {\n",
       "  font-family: monospace;\n",
       "  border: 1px dotted var(--sklearn-color-border-box);\n",
       "  border-radius: 0.25em;\n",
       "  box-sizing: border-box;\n",
       "  margin-bottom: 0.5em;\n",
       "  /* unfitted */\n",
       "  background-color: var(--sklearn-color-unfitted-level-0);\n",
       "}\n",
       "\n",
       "#sk-container-id-1 div.sk-estimator.fitted {\n",
       "  /* fitted */\n",
       "  background-color: var(--sklearn-color-fitted-level-0);\n",
       "}\n",
       "\n",
       "/* on hover */\n",
       "#sk-container-id-1 div.sk-estimator:hover {\n",
       "  /* unfitted */\n",
       "  background-color: var(--sklearn-color-unfitted-level-2);\n",
       "}\n",
       "\n",
       "#sk-container-id-1 div.sk-estimator.fitted:hover {\n",
       "  /* fitted */\n",
       "  background-color: var(--sklearn-color-fitted-level-2);\n",
       "}\n",
       "\n",
       "/* Specification for estimator info (e.g. \"i\" and \"?\") */\n",
       "\n",
       "/* Common style for \"i\" and \"?\" */\n",
       "\n",
       ".sk-estimator-doc-link,\n",
       "a:link.sk-estimator-doc-link,\n",
       "a:visited.sk-estimator-doc-link {\n",
       "  float: right;\n",
       "  font-size: smaller;\n",
       "  line-height: 1em;\n",
       "  font-family: monospace;\n",
       "  background-color: var(--sklearn-color-background);\n",
       "  border-radius: 1em;\n",
       "  height: 1em;\n",
       "  width: 1em;\n",
       "  text-decoration: none !important;\n",
       "  margin-left: 1ex;\n",
       "  /* unfitted */\n",
       "  border: var(--sklearn-color-unfitted-level-1) 1pt solid;\n",
       "  color: var(--sklearn-color-unfitted-level-1);\n",
       "}\n",
       "\n",
       ".sk-estimator-doc-link.fitted,\n",
       "a:link.sk-estimator-doc-link.fitted,\n",
       "a:visited.sk-estimator-doc-link.fitted {\n",
       "  /* fitted */\n",
       "  border: var(--sklearn-color-fitted-level-1) 1pt solid;\n",
       "  color: var(--sklearn-color-fitted-level-1);\n",
       "}\n",
       "\n",
       "/* On hover */\n",
       "div.sk-estimator:hover .sk-estimator-doc-link:hover,\n",
       ".sk-estimator-doc-link:hover,\n",
       "div.sk-label-container:hover .sk-estimator-doc-link:hover,\n",
       ".sk-estimator-doc-link:hover {\n",
       "  /* unfitted */\n",
       "  background-color: var(--sklearn-color-unfitted-level-3);\n",
       "  color: var(--sklearn-color-background);\n",
       "  text-decoration: none;\n",
       "}\n",
       "\n",
       "div.sk-estimator.fitted:hover .sk-estimator-doc-link.fitted:hover,\n",
       ".sk-estimator-doc-link.fitted:hover,\n",
       "div.sk-label-container:hover .sk-estimator-doc-link.fitted:hover,\n",
       ".sk-estimator-doc-link.fitted:hover {\n",
       "  /* fitted */\n",
       "  background-color: var(--sklearn-color-fitted-level-3);\n",
       "  color: var(--sklearn-color-background);\n",
       "  text-decoration: none;\n",
       "}\n",
       "\n",
       "/* Span, style for the box shown on hovering the info icon */\n",
       ".sk-estimator-doc-link span {\n",
       "  display: none;\n",
       "  z-index: 9999;\n",
       "  position: relative;\n",
       "  font-weight: normal;\n",
       "  right: .2ex;\n",
       "  padding: .5ex;\n",
       "  margin: .5ex;\n",
       "  width: min-content;\n",
       "  min-width: 20ex;\n",
       "  max-width: 50ex;\n",
       "  color: var(--sklearn-color-text);\n",
       "  box-shadow: 2pt 2pt 4pt #999;\n",
       "  /* unfitted */\n",
       "  background: var(--sklearn-color-unfitted-level-0);\n",
       "  border: .5pt solid var(--sklearn-color-unfitted-level-3);\n",
       "}\n",
       "\n",
       ".sk-estimator-doc-link.fitted span {\n",
       "  /* fitted */\n",
       "  background: var(--sklearn-color-fitted-level-0);\n",
       "  border: var(--sklearn-color-fitted-level-3);\n",
       "}\n",
       "\n",
       ".sk-estimator-doc-link:hover span {\n",
       "  display: block;\n",
       "}\n",
       "\n",
       "/* \"?\"-specific style due to the `<a>` HTML tag */\n",
       "\n",
       "#sk-container-id-1 a.estimator_doc_link {\n",
       "  float: right;\n",
       "  font-size: 1rem;\n",
       "  line-height: 1em;\n",
       "  font-family: monospace;\n",
       "  background-color: var(--sklearn-color-background);\n",
       "  border-radius: 1rem;\n",
       "  height: 1rem;\n",
       "  width: 1rem;\n",
       "  text-decoration: none;\n",
       "  /* unfitted */\n",
       "  color: var(--sklearn-color-unfitted-level-1);\n",
       "  border: var(--sklearn-color-unfitted-level-1) 1pt solid;\n",
       "}\n",
       "\n",
       "#sk-container-id-1 a.estimator_doc_link.fitted {\n",
       "  /* fitted */\n",
       "  border: var(--sklearn-color-fitted-level-1) 1pt solid;\n",
       "  color: var(--sklearn-color-fitted-level-1);\n",
       "}\n",
       "\n",
       "/* On hover */\n",
       "#sk-container-id-1 a.estimator_doc_link:hover {\n",
       "  /* unfitted */\n",
       "  background-color: var(--sklearn-color-unfitted-level-3);\n",
       "  color: var(--sklearn-color-background);\n",
       "  text-decoration: none;\n",
       "}\n",
       "\n",
       "#sk-container-id-1 a.estimator_doc_link.fitted:hover {\n",
       "  /* fitted */\n",
       "  background-color: var(--sklearn-color-fitted-level-3);\n",
       "}\n",
       "</style><div id=\"sk-container-id-1\" class=\"sk-top-container\"><div class=\"sk-text-repr-fallback\"><pre>XGBClassifier(base_score=None, booster=None, callbacks=None,\n",
       "              colsample_bylevel=None, colsample_bynode=0.6094653979002219,\n",
       "              colsample_bytree=None, device=None, early_stopping_rounds=None,\n",
       "              enable_categorical=False,\n",
       "              eval_metric=&lt;function custom_f1_score at 0x7f3cb36305e0&gt;,\n",
       "              feature_types=None, gamma=None, grow_policy=None,\n",
       "              importance_type=None, interaction_constraints=None,\n",
       "              learning_rate=0.0021979431724477136, max_bin=None,\n",
       "              max_cat_threshold=None, max_cat_to_onehot=None,\n",
       "              max_delta_step=None, max_depth=20, max_leaves=None,\n",
       "              min_child_weight=1, missing=nan, monotone_constraints=None,\n",
       "              multi_strategy=None, n_estimators=15, n_jobs=None,\n",
       "              num_parallel_tree=None, objective=&#x27;multi:softprob&#x27;, ...)</pre><b>In a Jupyter environment, please rerun this cell to show the HTML representation or trust the notebook. <br />On GitHub, the HTML representation is unable to render, please try loading this page with nbviewer.org.</b></div><div class=\"sk-container\" hidden><div class=\"sk-item\"><div class=\"sk-estimator fitted sk-toggleable\"><input class=\"sk-toggleable__control sk-hidden--visually\" id=\"sk-estimator-id-1\" type=\"checkbox\" checked><label for=\"sk-estimator-id-1\" class=\"sk-toggleable__label fitted sk-toggleable__label-arrow fitted\">&nbsp;XGBClassifier<span class=\"sk-estimator-doc-link fitted\">i<span>Fitted</span></span></label><div class=\"sk-toggleable__content fitted\"><pre>XGBClassifier(base_score=None, booster=None, callbacks=None,\n",
       "              colsample_bylevel=None, colsample_bynode=0.6094653979002219,\n",
       "              colsample_bytree=None, device=None, early_stopping_rounds=None,\n",
       "              enable_categorical=False,\n",
       "              eval_metric=&lt;function custom_f1_score at 0x7f3cb36305e0&gt;,\n",
       "              feature_types=None, gamma=None, grow_policy=None,\n",
       "              importance_type=None, interaction_constraints=None,\n",
       "              learning_rate=0.0021979431724477136, max_bin=None,\n",
       "              max_cat_threshold=None, max_cat_to_onehot=None,\n",
       "              max_delta_step=None, max_depth=20, max_leaves=None,\n",
       "              min_child_weight=1, missing=nan, monotone_constraints=None,\n",
       "              multi_strategy=None, n_estimators=15, n_jobs=None,\n",
       "              num_parallel_tree=None, objective=&#x27;multi:softprob&#x27;, ...)</pre></div> </div></div></div></div>"
      ],
      "text/plain": [
       "XGBClassifier(base_score=None, booster=None, callbacks=None,\n",
       "              colsample_bylevel=None, colsample_bynode=0.6094653979002219,\n",
       "              colsample_bytree=None, device=None, early_stopping_rounds=None,\n",
       "              enable_categorical=False,\n",
       "              eval_metric=<function custom_f1_score at 0x7f3cb36305e0>,\n",
       "              feature_types=None, gamma=None, grow_policy=None,\n",
       "              importance_type=None, interaction_constraints=None,\n",
       "              learning_rate=0.0021979431724477136, max_bin=None,\n",
       "              max_cat_threshold=None, max_cat_to_onehot=None,\n",
       "              max_delta_step=None, max_depth=20, max_leaves=None,\n",
       "              min_child_weight=1, missing=nan, monotone_constraints=None,\n",
       "              multi_strategy=None, n_estimators=15, n_jobs=None,\n",
       "              num_parallel_tree=None, objective='multi:softprob', ...)"
      ]
     },
     "execution_count": 21,
     "metadata": {},
     "output_type": "execute_result"
    }
   ],
   "source": [
    "n_estimators = int(study.best_trial.user_attrs['best_iteration']*1.2)\n",
    "xgb = xgboost.XGBClassifier(\n",
    "        eval_metric=eval_metric,\n",
    "        n_estimators=n_estimators,\n",
    "        **study.best_trial.params\n",
    "    )\n",
    "xgb.fit(\n",
    "    ssp.vstack((X_train, X_val)), \n",
    "    np.concatenate((y_train_enc, y_val_enc)),\n",
    "    verbose=1,\n",
    ")"
   ]
  },
  {
   "cell_type": "code",
   "execution_count": 22,
   "id": "eee31ca4",
   "metadata": {
    "execution": {
     "iopub.execute_input": "2025-05-15T15:58:03.480764Z",
     "iopub.status.busy": "2025-05-15T15:58:03.480590Z",
     "iopub.status.idle": "2025-05-15T15:58:03.500406Z",
     "shell.execute_reply": "2025-05-15T15:58:03.500114Z"
    },
    "papermill": {
     "duration": 0.029709,
     "end_time": "2025-05-15T15:58:03.501201",
     "exception": false,
     "start_time": "2025-05-15T15:58:03.471492",
     "status": "completed"
    },
    "tags": []
   },
   "outputs": [
    {
     "data": {
      "text/plain": [
       "['/scratch_isilon/groups/singlecell/shared/projects/Inflammation-PBMCs-Atlas/03_downstream_analysis/08_gene_importance/xgboost_external_validation/xgboost_TopN_genes/results_20/best_model/Plasma_0_2_xgb.json']"
      ]
     },
     "execution_count": 22,
     "metadata": {},
     "output_type": "execute_result"
    }
   ],
   "source": [
    "out_dir = here(f'03_downstream_analysis/08_gene_importance/xgboost_external_validation/xgboost_TopN_genes/results_{N_GENES}/best_model')\n",
    "\n",
    "if not os.path.exists(out_dir):\n",
    "    os.makedirs(out_dir)\n",
    "    \n",
    "joblib.dump(xgb, os.path.join(out_dir, f'{CELL_TYPE}_{SEED}_{TEST_SPLIT_IDX}_xgb.json'))"
   ]
  },
  {
   "cell_type": "code",
   "execution_count": 23,
   "id": "20d96e33",
   "metadata": {
    "execution": {
     "iopub.execute_input": "2025-05-15T15:58:03.520080Z",
     "iopub.status.busy": "2025-05-15T15:58:03.519678Z",
     "iopub.status.idle": "2025-05-15T15:58:03.542620Z",
     "shell.execute_reply": "2025-05-15T15:58:03.542321Z"
    },
    "papermill": {
     "duration": 0.033687,
     "end_time": "2025-05-15T15:58:03.543848",
     "exception": false,
     "start_time": "2025-05-15T15:58:03.510161",
     "status": "completed"
    },
    "tags": []
   },
   "outputs": [],
   "source": [
    "df_pred_test = pd.DataFrame(dict(\n",
    "    cell_id=train_adata.obs.iloc[test_idxs].index.values,\n",
    "    y_true=y_test, \n",
    "    y_true_code=y_test_enc, \n",
    "    y_pred=xgb.predict(X_test))).set_index('cell_id')"
   ]
  },
  {
   "cell_type": "code",
   "execution_count": 24,
   "id": "c674498d",
   "metadata": {
    "execution": {
     "iopub.execute_input": "2025-05-15T15:58:03.561778Z",
     "iopub.status.busy": "2025-05-15T15:58:03.561588Z",
     "iopub.status.idle": "2025-05-15T15:58:03.571774Z",
     "shell.execute_reply": "2025-05-15T15:58:03.571393Z"
    },
    "papermill": {
     "duration": 0.019941,
     "end_time": "2025-05-15T15:58:03.572558",
     "exception": false,
     "start_time": "2025-05-15T15:58:03.552617",
     "status": "completed"
    },
    "tags": []
   },
   "outputs": [],
   "source": [
    "out_dir = here(f'03_downstream_analysis/08_gene_importance/xgboost_external_validation/xgboost_TopN_genes/results_{N_GENES}/predictions')\n",
    "\n",
    "if not os.path.exists(out_dir):\n",
    "    os.makedirs(out_dir)\n",
    "    \n",
    "df_pred_test.to_csv(os.path.join(out_dir, f'{CELL_TYPE}_{SEED}_{TEST_SPLIT_IDX}_pred_test.zip'))"
   ]
  },
  {
   "cell_type": "code",
   "execution_count": 25,
   "id": "f2d8d502",
   "metadata": {
    "execution": {
     "iopub.execute_input": "2025-05-15T15:58:03.590132Z",
     "iopub.status.busy": "2025-05-15T15:58:03.589925Z",
     "iopub.status.idle": "2025-05-15T15:58:03.595046Z",
     "shell.execute_reply": "2025-05-15T15:58:03.594743Z"
    },
    "papermill": {
     "duration": 0.014666,
     "end_time": "2025-05-15T15:58:03.595850",
     "exception": false,
     "start_time": "2025-05-15T15:58:03.581184",
     "status": "completed"
    },
    "tags": []
   },
   "outputs": [],
   "source": [
    "metrics_dict = dict(\n",
    "    BAS=balanced_accuracy_score(y_true=df_pred_test.y_true_code, y_pred=df_pred_test.y_pred), WF1=f1_score(y_true=df_pred_test.y_true_code, y_pred=df_pred_test.y_pred,average='weighted'))"
   ]
  },
  {
   "cell_type": "code",
   "execution_count": 26,
   "id": "95083425",
   "metadata": {
    "execution": {
     "iopub.execute_input": "2025-05-15T15:58:03.614637Z",
     "iopub.status.busy": "2025-05-15T15:58:03.614456Z",
     "iopub.status.idle": "2025-05-15T15:58:03.617065Z",
     "shell.execute_reply": "2025-05-15T15:58:03.616786Z"
    },
    "papermill": {
     "duration": 0.013196,
     "end_time": "2025-05-15T15:58:03.617837",
     "exception": false,
     "start_time": "2025-05-15T15:58:03.604641",
     "status": "completed"
    },
    "tags": []
   },
   "outputs": [
    {
     "data": {
      "text/plain": [
       "{'BAS': 0.22013035983624218, 'WF1': 0.29620108016069385}"
      ]
     },
     "execution_count": 26,
     "metadata": {},
     "output_type": "execute_result"
    }
   ],
   "source": [
    "metrics_dict"
   ]
  },
  {
   "cell_type": "code",
   "execution_count": 27,
   "id": "bd09f2ee",
   "metadata": {
    "execution": {
     "iopub.execute_input": "2025-05-15T15:58:03.636407Z",
     "iopub.status.busy": "2025-05-15T15:58:03.636228Z",
     "iopub.status.idle": "2025-05-15T15:58:03.643505Z",
     "shell.execute_reply": "2025-05-15T15:58:03.643219Z"
    },
    "papermill": {
     "duration": 0.017416,
     "end_time": "2025-05-15T15:58:03.644271",
     "exception": false,
     "start_time": "2025-05-15T15:58:03.626855",
     "status": "completed"
    },
    "tags": []
   },
   "outputs": [
    {
     "data": {
      "text/html": [
       "<div>\n",
       "<style scoped>\n",
       "    .dataframe tbody tr th:only-of-type {\n",
       "        vertical-align: middle;\n",
       "    }\n",
       "\n",
       "    .dataframe tbody tr th {\n",
       "        vertical-align: top;\n",
       "    }\n",
       "\n",
       "    .dataframe thead th {\n",
       "        text-align: right;\n",
       "    }\n",
       "</style>\n",
       "<table border=\"1\" class=\"dataframe\">\n",
       "  <thead>\n",
       "    <tr style=\"text-align: right;\">\n",
       "      <th></th>\n",
       "      <th>BAS</th>\n",
       "      <th>WF1</th>\n",
       "      <th>split_idx</th>\n",
       "      <th>gene_set_seed</th>\n",
       "      <th>cell_type</th>\n",
       "    </tr>\n",
       "  </thead>\n",
       "  <tbody>\n",
       "    <tr>\n",
       "      <th>0</th>\n",
       "      <td>0.22013</td>\n",
       "      <td>0.296201</td>\n",
       "      <td>2</td>\n",
       "      <td>0</td>\n",
       "      <td>Plasma</td>\n",
       "    </tr>\n",
       "  </tbody>\n",
       "</table>\n",
       "</div>"
      ],
      "text/plain": [
       "       BAS       WF1  split_idx  gene_set_seed cell_type\n",
       "0  0.22013  0.296201          2              0    Plasma"
      ]
     },
     "execution_count": 27,
     "metadata": {},
     "output_type": "execute_result"
    }
   ],
   "source": [
    "metrics_df = pd.DataFrame.from_dict([metrics_dict]).assign(split_idx=TEST_SPLIT_IDX, gene_set_seed=SEED, cell_type=CELL_TYPE)\n",
    "metrics_df"
   ]
  },
  {
   "cell_type": "code",
   "execution_count": 28,
   "id": "873eb718",
   "metadata": {
    "execution": {
     "iopub.execute_input": "2025-05-15T15:58:03.662732Z",
     "iopub.status.busy": "2025-05-15T15:58:03.662548Z",
     "iopub.status.idle": "2025-05-15T15:58:03.669757Z",
     "shell.execute_reply": "2025-05-15T15:58:03.669431Z"
    },
    "papermill": {
     "duration": 0.017265,
     "end_time": "2025-05-15T15:58:03.670529",
     "exception": false,
     "start_time": "2025-05-15T15:58:03.653264",
     "status": "completed"
    },
    "tags": []
   },
   "outputs": [],
   "source": [
    "out_dir = here(f'03_downstream_analysis/08_gene_importance/xgboost_external_validation/xgboost_TopN_genes/results_{N_GENES}/metrics')\n",
    "\n",
    "if not os.path.exists(out_dir):\n",
    "    os.makedirs(out_dir)\n",
    "    \n",
    "metrics_df.to_csv(os.path.join(out_dir, f'{CELL_TYPE}_{SEED}_{TEST_SPLIT_IDX}_metrics.zip'))"
   ]
  }
 ],
 "metadata": {
  "kernelspec": {
   "display_name": "Python 3 (ipykernel)",
   "language": "python",
   "name": "python3"
  },
  "language_info": {
   "codemirror_mode": {
    "name": "ipython",
    "version": 3
   },
   "file_extension": ".py",
   "mimetype": "text/x-python",
   "name": "python",
   "nbconvert_exporter": "python",
   "pygments_lexer": "ipython3",
   "version": "3.12.5"
  },
  "papermill": {
   "default_parameters": {},
   "duration": 13.159225,
   "end_time": "2025-05-15T15:58:04.395134",
   "environment_variables": {},
   "exception": null,
   "input_path": "02_xgboost_fitting_external_20genes.ipynb",
   "output_path": "results_20/executed_notebooks/xgboost_fitting_external_CT_Plasma_GS_0_seed2.ipynb",
   "parameters": {
    "CELL_TYPE": "Plasma",
    "SEED": 0,
    "TEST_SPLIT_IDX": 2
   },
   "start_time": "2025-05-15T15:57:51.235909",
   "version": "2.6.0"
  }
 },
 "nbformat": 4,
 "nbformat_minor": 5
}