{
 "cells": [
  {
   "cell_type": "code",
   "execution_count": 1,
   "id": "802c7342",
   "metadata": {
    "editable": true,
    "execution": {
     "iopub.execute_input": "2025-05-15T16:12:44.150186Z",
     "iopub.status.busy": "2025-05-15T16:12:44.149910Z",
     "iopub.status.idle": "2025-05-15T16:12:44.153034Z",
     "shell.execute_reply": "2025-05-15T16:12:44.152687Z"
    },
    "papermill": {
     "duration": 0.012317,
     "end_time": "2025-05-15T16:12:44.154057",
     "exception": false,
     "start_time": "2025-05-15T16:12:44.141740",
     "status": "completed"
    },
    "slideshow": {
     "slide_type": ""
    },
    "tags": [
     "parameters"
    ]
   },
   "outputs": [],
   "source": [
    "CELL_TYPE = 'pDC'\n",
    "N_GENES: int = 20\n",
    "SEED = 'shap_studyID' #'disease_NOstudy' 'study_NOdisease' or 'int' or 'shap_studyID'\n",
    "TEST_SPLIT_IDX: int = 1 #[0,4]"
   ]
  },
  {
   "cell_type": "code",
   "execution_count": 2,
   "id": "6306da4f",
   "metadata": {
    "execution": {
     "iopub.execute_input": "2025-05-15T16:12:44.166956Z",
     "iopub.status.busy": "2025-05-15T16:12:44.166635Z",
     "iopub.status.idle": "2025-05-15T16:12:44.169693Z",
     "shell.execute_reply": "2025-05-15T16:12:44.169341Z"
    },
    "papermill": {
     "duration": 0.010407,
     "end_time": "2025-05-15T16:12:44.170583",
     "exception": false,
     "start_time": "2025-05-15T16:12:44.160176",
     "status": "completed"
    },
    "tags": [
     "injected-parameters"
    ]
   },
   "outputs": [],
   "source": [
    "# Parameters\n",
    "CELL_TYPE = \"UTC\"\n",
    "SEED = 10\n",
    "TEST_SPLIT_IDX = 4\n"
   ]
  },
  {
   "cell_type": "code",
   "execution_count": 3,
   "id": "257bd21c",
   "metadata": {
    "execution": {
     "iopub.execute_input": "2025-05-15T16:12:44.188181Z",
     "iopub.status.busy": "2025-05-15T16:12:44.187902Z",
     "iopub.status.idle": "2025-05-15T16:12:44.190510Z",
     "shell.execute_reply": "2025-05-15T16:12:44.190184Z"
    },
    "papermill": {
     "duration": 0.015203,
     "end_time": "2025-05-15T16:12:44.191429",
     "exception": false,
     "start_time": "2025-05-15T16:12:44.176226",
     "status": "completed"
    },
    "tags": []
   },
   "outputs": [],
   "source": [
    "N_SPLITS: int = 5\n",
    "N_TRIALS: int = 50"
   ]
  },
  {
   "cell_type": "code",
   "execution_count": 4,
   "id": "813160cc",
   "metadata": {
    "execution": {
     "iopub.execute_input": "2025-05-15T16:12:44.216797Z",
     "iopub.status.busy": "2025-05-15T16:12:44.215650Z",
     "iopub.status.idle": "2025-05-15T16:12:46.416734Z",
     "shell.execute_reply": "2025-05-15T16:12:46.416107Z"
    },
    "papermill": {
     "duration": 2.209634,
     "end_time": "2025-05-15T16:12:46.418117",
     "exception": false,
     "start_time": "2025-05-15T16:12:44.208483",
     "status": "completed"
    },
    "tags": []
   },
   "outputs": [],
   "source": [
    "import os\n",
    "import sys\n",
    "from pyprojroot.here import here\n",
    "import pandas as pd\n",
    "import anndata as ad\n",
    "import numpy as np\n",
    "import math\n",
    "from sklearn.model_selection import StratifiedGroupKFold\n",
    "from sklearn.preprocessing import LabelEncoder\n",
    "from sklearn.metrics import f1_score\n",
    "import matplotlib.pyplot as plt\n",
    "import seaborn as sns\n",
    "from itertools import product\n",
    "from sklearn.metrics import balanced_accuracy_score, f1_score\n",
    "import optuna\n",
    "\n",
    "import joblib\n",
    "import pickle\n",
    "import datetime\n",
    "\n",
    "import collections\n",
    "\n",
    "import xgboost\n",
    "from sklearn.preprocessing import LabelEncoder\n",
    "\n",
    "import scipy.sparse as ssp\n",
    "import joblib\n",
    "\n",
    "from dotenv import load_dotenv"
   ]
  },
  {
   "cell_type": "code",
   "execution_count": 5,
   "id": "4f5732f6",
   "metadata": {
    "execution": {
     "iopub.execute_input": "2025-05-15T16:12:46.433034Z",
     "iopub.status.busy": "2025-05-15T16:12:46.432553Z",
     "iopub.status.idle": "2025-05-15T16:12:46.439440Z",
     "shell.execute_reply": "2025-05-15T16:12:46.439082Z"
    },
    "papermill": {
     "duration": 0.01496,
     "end_time": "2025-05-15T16:12:46.440350",
     "exception": false,
     "start_time": "2025-05-15T16:12:46.425390",
     "status": "completed"
    },
    "tags": []
   },
   "outputs": [
    {
     "data": {
      "text/plain": [
       "True"
      ]
     },
     "execution_count": 5,
     "metadata": {},
     "output_type": "execute_result"
    }
   ],
   "source": [
    "load_dotenv()"
   ]
  },
  {
   "cell_type": "markdown",
   "id": "9868fd86",
   "metadata": {
    "papermill": {
     "duration": 0.005573,
     "end_time": "2025-05-15T16:12:46.451791",
     "exception": false,
     "start_time": "2025-05-15T16:12:46.446218",
     "status": "completed"
    },
    "tags": []
   },
   "source": [
    "# LOAD DATASET"
   ]
  },
  {
   "cell_type": "code",
   "execution_count": 6,
   "id": "eb09e6a8",
   "metadata": {
    "execution": {
     "iopub.execute_input": "2025-05-15T16:12:46.463413Z",
     "iopub.status.busy": "2025-05-15T16:12:46.463175Z",
     "iopub.status.idle": "2025-05-15T16:12:46.595106Z",
     "shell.execute_reply": "2025-05-15T16:12:46.594632Z"
    },
    "papermill": {
     "duration": 0.139313,
     "end_time": "2025-05-15T16:12:46.596575",
     "exception": false,
     "start_time": "2025-05-15T16:12:46.457262",
     "status": "completed"
    },
    "tags": []
   },
   "outputs": [],
   "source": [
    "train_adata = ad.read_h5ad(\n",
    "    here(f'03_downstream_analysis/08_gene_importance/xgboost_external_validation/xgboost_TopN_genes/data_cellTypes/EXTERNAL_{CELL_TYPE}.filtered.log1p.h5ad')\n",
    ")"
   ]
  },
  {
   "cell_type": "code",
   "execution_count": 7,
   "id": "f25871a9",
   "metadata": {
    "execution": {
     "iopub.execute_input": "2025-05-15T16:12:46.609227Z",
     "iopub.status.busy": "2025-05-15T16:12:46.608975Z",
     "iopub.status.idle": "2025-05-15T16:12:46.622812Z",
     "shell.execute_reply": "2025-05-15T16:12:46.622485Z"
    },
    "papermill": {
     "duration": 0.021082,
     "end_time": "2025-05-15T16:12:46.623751",
     "exception": false,
     "start_time": "2025-05-15T16:12:46.602669",
     "status": "completed"
    },
    "tags": []
   },
   "outputs": [
    {
     "name": "stdout",
     "output_type": "stream",
     "text": [
      "['ENSG00000145912' 'ENSG00000166710' 'ENSG00000100321' 'ENSG00000128524'\n",
      " 'ENSG00000175104' 'ENSG00000139193' 'ENSG00000163931' 'ENSG00000068796'\n",
      " 'ENSG00000114423' 'ENSG00000149311' 'ENSG00000106799' 'ENSG00000077238'\n",
      " 'ENSG00000145287' 'ENSG00000143110' 'ENSG00000163513' 'ENSG00000137965'\n",
      " 'ENSG00000142089' 'ENSG00000167283' 'ENSG00000152700' 'ENSG00000103490'\n",
      " 'ENSG00000092820' 'ENSG00000123416' 'ENSG00000015475' 'ENSG00000178719'\n",
      " 'ENSG00000134285' 'ENSG00000135046' 'ENSG00000144746' 'ENSG00000133872'\n",
      " 'ENSG00000132912' 'ENSG00000173812' 'ENSG00000206503' 'ENSG00000231389'\n",
      " 'ENSG00000142166' 'ENSG00000182866' 'ENSG00000111796' 'ENSG00000169554'\n",
      " 'ENSG00000090266' 'ENSG00000166949' 'ENSG00000239713' 'ENSG00000171476'\n",
      " 'ENSG00000100485' 'ENSG00000118260' 'ENSG00000170296' 'ENSG00000167004'\n",
      " 'ENSG00000162434' 'ENSG00000108622' 'ENSG00000188404' 'ENSG00000147168'\n",
      " 'ENSG00000105374' 'ENSG00000134954' 'ENSG00000110876' 'ENSG00000182287'\n",
      " 'ENSG00000106952' 'ENSG00000126561' 'ENSG00000166888' 'ENSG00000139289'\n",
      " 'ENSG00000090382' 'ENSG00000107485' 'ENSG00000105583' 'ENSG00000099204'\n",
      " 'ENSG00000115523' 'ENSG00000105373' 'ENSG00000143575' 'ENSG00000176083'\n",
      " 'ENSG00000127152' 'ENSG00000165280' 'ENSG00000101695' 'ENSG00000100100'\n",
      " 'ENSG00000084207' 'ENSG00000172215' 'ENSG00000115875' 'ENSG00000189067'\n",
      " 'ENSG00000068831' 'ENSG00000178562' 'ENSG00000170581' 'ENSG00000168394'\n",
      " 'ENSG00000155368' 'ENSG00000132965' 'ENSG00000166747' 'ENSG00000120129'\n",
      " 'ENSG00000164543' 'ENSG00000158869' 'ENSG00000172543' 'ENSG00000132002'\n",
      " 'ENSG00000149357' 'ENSG00000145675' 'ENSG00000164674' 'ENSG00000090554'\n",
      " 'ENSG00000115607' 'ENSG00000117281' 'ENSG00000131981' 'ENSG00000138674'\n",
      " 'ENSG00000104660' 'ENSG00000122862' 'ENSG00000160255' 'ENSG00000113811'\n",
      " 'ENSG00000172531' 'ENSG00000109787' 'ENSG00000172183' 'ENSG00000081059'\n",
      " 'ENSG00000131437' 'ENSG00000184752' 'ENSG00000277791' 'ENSG00000006125'\n",
      " 'ENSG00000089737' 'ENSG00000115604' 'ENSG00000205336' 'ENSG00000197540'\n",
      " 'ENSG00000157514' 'ENSG00000100453' 'ENSG00000145220' 'ENSG00000102265'\n",
      " 'ENSG00000169564' 'ENSG00000172936' 'ENSG00000203747']\n"
     ]
    }
   ],
   "source": [
    "if SEED != 'all':\n",
    "    gene_subset = np.load(here(f'03_downstream_analysis/08_gene_importance/xgboost_external_validation/shap_gene_selection/gene_subsets_{N_GENES}/{CELL_TYPE}_{SEED}.npy'), allow_pickle=True)\n",
    "    train_adata = train_adata[:,gene_subset]\n",
    "    print(gene_subset)\n",
    "elif SEED == 'all':\n",
    "    print('Using all genes')\n",
    "else:\n",
    "    raise ValueError()"
   ]
  },
  {
   "cell_type": "code",
   "execution_count": 8,
   "id": "c2cfef60",
   "metadata": {
    "execution": {
     "iopub.execute_input": "2025-05-15T16:12:46.635963Z",
     "iopub.status.busy": "2025-05-15T16:12:46.635630Z",
     "iopub.status.idle": "2025-05-15T16:12:46.638933Z",
     "shell.execute_reply": "2025-05-15T16:12:46.638616Z"
    },
    "papermill": {
     "duration": 0.010233,
     "end_time": "2025-05-15T16:12:46.639812",
     "exception": false,
     "start_time": "2025-05-15T16:12:46.629579",
     "status": "completed"
    },
    "tags": []
   },
   "outputs": [
    {
     "data": {
      "text/plain": [
       "(14828, 115)"
      ]
     },
     "execution_count": 8,
     "metadata": {},
     "output_type": "execute_result"
    }
   ],
   "source": [
    "train_adata.shape"
   ]
  },
  {
   "cell_type": "code",
   "execution_count": 9,
   "id": "a1c1ecad",
   "metadata": {
    "execution": {
     "iopub.execute_input": "2025-05-15T16:12:46.652494Z",
     "iopub.status.busy": "2025-05-15T16:12:46.652142Z",
     "iopub.status.idle": "2025-05-15T16:12:46.656703Z",
     "shell.execute_reply": "2025-05-15T16:12:46.656362Z"
    },
    "papermill": {
     "duration": 0.011877,
     "end_time": "2025-05-15T16:12:46.657585",
     "exception": false,
     "start_time": "2025-05-15T16:12:46.645708",
     "status": "completed"
    },
    "tags": []
   },
   "outputs": [
    {
     "data": {
      "text/plain": [
       "['RA', 'COVID', 'healthy', 'HIV', 'cirrhosis', 'CD', 'SLE', 'sepsis']\n",
       "Categories (8, object): ['CD', 'COVID', 'HIV', 'RA', 'SLE', 'cirrhosis', 'healthy', 'sepsis']"
      ]
     },
     "execution_count": 9,
     "metadata": {},
     "output_type": "execute_result"
    }
   ],
   "source": [
    "train_adata.obs.disease.unique()"
   ]
  },
  {
   "cell_type": "code",
   "execution_count": 10,
   "id": "ae7b1843",
   "metadata": {
    "execution": {
     "iopub.execute_input": "2025-05-15T16:12:46.670899Z",
     "iopub.status.busy": "2025-05-15T16:12:46.670561Z",
     "iopub.status.idle": "2025-05-15T16:12:46.675245Z",
     "shell.execute_reply": "2025-05-15T16:12:46.674910Z"
    },
    "papermill": {
     "duration": 0.01218,
     "end_time": "2025-05-15T16:12:46.676158",
     "exception": false,
     "start_time": "2025-05-15T16:12:46.663978",
     "status": "completed"
    },
    "tags": []
   },
   "outputs": [
    {
     "data": {
      "text/plain": [
       "['SCGT00val_I0364_T0', 'SCGT00val_I036016_T0', 'SCGT00val_I036021_T0', 'SCGT00val_I036015_T0', 'SCGT00val_I036023_T0', ..., '10XGenomics_10XHC2_T0', '10XGenomics_10XHC3_T0', '10XGenomics_10XHC5_T0', '10XGenomics_10XHC7_T0', '10XGenomics_10XHC8_T0']\n",
       "Length: 86\n",
       "Categories (86, object): ['10XGenomics_10XHC1_T0', '10XGenomics_10XHC2_T0', '10XGenomics_10XHC3_T0', '10XGenomics_10XHC4_T0', ..., 'Savage2021_BRISL6_T0', 'Savage2021_BRISL7_T0', 'Savage2021_PIDA_T0', 'Savage2021_PIDB_T0']"
      ]
     },
     "execution_count": 10,
     "metadata": {},
     "output_type": "execute_result"
    }
   ],
   "source": [
    "train_adata.obs.sampleID.unique()"
   ]
  },
  {
   "cell_type": "code",
   "execution_count": 11,
   "id": "e4d2519c",
   "metadata": {
    "execution": {
     "iopub.execute_input": "2025-05-15T16:12:46.688906Z",
     "iopub.status.busy": "2025-05-15T16:12:46.688365Z",
     "iopub.status.idle": "2025-05-15T16:12:46.753428Z",
     "shell.execute_reply": "2025-05-15T16:12:46.752915Z"
    },
    "papermill": {
     "duration": 0.072609,
     "end_time": "2025-05-15T16:12:46.754635",
     "exception": false,
     "start_time": "2025-05-15T16:12:46.682026",
     "status": "completed"
    },
    "tags": []
   },
   "outputs": [],
   "source": [
    "all_idxs = np.arange(train_adata.obs.shape[0])\n",
    "left_out_splits = [s[1] for s in StratifiedGroupKFold(n_splits=N_SPLITS).split(all_idxs, train_adata.obs.disease, train_adata.obs.sampleID)]"
   ]
  },
  {
   "cell_type": "code",
   "execution_count": 12,
   "id": "b9899b92",
   "metadata": {
    "execution": {
     "iopub.execute_input": "2025-05-15T16:12:46.768010Z",
     "iopub.status.busy": "2025-05-15T16:12:46.767503Z",
     "iopub.status.idle": "2025-05-15T16:12:46.771146Z",
     "shell.execute_reply": "2025-05-15T16:12:46.770824Z"
    },
    "papermill": {
     "duration": 0.010766,
     "end_time": "2025-05-15T16:12:46.772022",
     "exception": false,
     "start_time": "2025-05-15T16:12:46.761256",
     "status": "completed"
    },
    "tags": []
   },
   "outputs": [
    {
     "data": {
      "text/plain": [
       "([1, 2, 3], 0, 4)"
      ]
     },
     "execution_count": 12,
     "metadata": {},
     "output_type": "execute_result"
    }
   ],
   "source": [
    "TRAIN_SPLIT_IDXS = [0,1,2,3,4]\n",
    "VAL_SPLIT_IDX = (TEST_SPLIT_IDX + 1) % 5\n",
    "TRAIN_SPLIT_IDXS.remove(TEST_SPLIT_IDX)\n",
    "TRAIN_SPLIT_IDXS.remove(VAL_SPLIT_IDX)\n",
    "TRAIN_SPLIT_IDXS, VAL_SPLIT_IDX, TEST_SPLIT_IDX"
   ]
  },
  {
   "cell_type": "code",
   "execution_count": 13,
   "id": "72789ef1",
   "metadata": {
    "execution": {
     "iopub.execute_input": "2025-05-15T16:12:46.784999Z",
     "iopub.status.busy": "2025-05-15T16:12:46.784809Z",
     "iopub.status.idle": "2025-05-15T16:12:46.787324Z",
     "shell.execute_reply": "2025-05-15T16:12:46.786980Z"
    },
    "papermill": {
     "duration": 0.010344,
     "end_time": "2025-05-15T16:12:46.788222",
     "exception": false,
     "start_time": "2025-05-15T16:12:46.777878",
     "status": "completed"
    },
    "tags": []
   },
   "outputs": [],
   "source": [
    "train_idxs = np.concatenate([left_out_splits[idx] for idx in TRAIN_SPLIT_IDXS])\n",
    "val_idxs = left_out_splits[VAL_SPLIT_IDX]\n",
    "test_idxs = left_out_splits[TEST_SPLIT_IDX]"
   ]
  },
  {
   "cell_type": "markdown",
   "id": "f3423b75",
   "metadata": {
    "papermill": {
     "duration": 0.00575,
     "end_time": "2025-05-15T16:12:46.800447",
     "exception": false,
     "start_time": "2025-05-15T16:12:46.794697",
     "status": "completed"
    },
    "tags": []
   },
   "source": [
    "### SUBSET DATASET INTO TRAIN/TEST/VAL SPLITS"
   ]
  },
  {
   "cell_type": "code",
   "execution_count": 14,
   "id": "cd5c3d0e",
   "metadata": {
    "execution": {
     "iopub.execute_input": "2025-05-15T16:12:46.817141Z",
     "iopub.status.busy": "2025-05-15T16:12:46.816570Z",
     "iopub.status.idle": "2025-05-15T16:12:46.865791Z",
     "shell.execute_reply": "2025-05-15T16:12:46.865440Z"
    },
    "papermill": {
     "duration": 0.058027,
     "end_time": "2025-05-15T16:12:46.866727",
     "exception": false,
     "start_time": "2025-05-15T16:12:46.808700",
     "status": "completed"
    },
    "tags": []
   },
   "outputs": [
    {
     "data": {
      "text/plain": [
       "((9045, 115), (2943, 115), (2840, 115))"
      ]
     },
     "execution_count": 14,
     "metadata": {},
     "output_type": "execute_result"
    }
   ],
   "source": [
    "X_train = train_adata.X[train_idxs]\n",
    "X_test = train_adata.X[test_idxs]\n",
    "X_val = train_adata.X[val_idxs]\n",
    "X_train.shape, X_test.shape, X_val.shape"
   ]
  },
  {
   "cell_type": "code",
   "execution_count": 15,
   "id": "95d54b73",
   "metadata": {
    "execution": {
     "iopub.execute_input": "2025-05-15T16:12:46.884891Z",
     "iopub.status.busy": "2025-05-15T16:12:46.884660Z",
     "iopub.status.idle": "2025-05-15T16:12:46.890275Z",
     "shell.execute_reply": "2025-05-15T16:12:46.889965Z"
    },
    "papermill": {
     "duration": 0.01811,
     "end_time": "2025-05-15T16:12:46.891209",
     "exception": false,
     "start_time": "2025-05-15T16:12:46.873099",
     "status": "completed"
    },
    "tags": []
   },
   "outputs": [
    {
     "data": {
      "text/plain": [
       "((9045,), (2943,), (2840,))"
      ]
     },
     "execution_count": 15,
     "metadata": {},
     "output_type": "execute_result"
    }
   ],
   "source": [
    "y_train = train_adata.obs.iloc[train_idxs].disease.values.astype(str)\n",
    "y_test = train_adata.obs.iloc[test_idxs].disease.values.astype(str)\n",
    "y_val = train_adata.obs.iloc[val_idxs].disease.values.astype(str)\n",
    "y_train.shape, y_test.shape, y_val.shape"
   ]
  },
  {
   "cell_type": "code",
   "execution_count": 16,
   "id": "898c6b89",
   "metadata": {
    "execution": {
     "iopub.execute_input": "2025-05-15T16:12:46.904792Z",
     "iopub.status.busy": "2025-05-15T16:12:46.904563Z",
     "iopub.status.idle": "2025-05-15T16:12:46.910036Z",
     "shell.execute_reply": "2025-05-15T16:12:46.909663Z"
    },
    "papermill": {
     "duration": 0.013386,
     "end_time": "2025-05-15T16:12:46.911003",
     "exception": false,
     "start_time": "2025-05-15T16:12:46.897617",
     "status": "completed"
    },
    "tags": []
   },
   "outputs": [],
   "source": [
    "lenc = LabelEncoder()\n",
    "y_train_enc = lenc.fit_transform(y_train)\n",
    "y_val_enc = lenc.transform(y_val)\n",
    "y_test_enc = lenc.transform(y_test)"
   ]
  },
  {
   "cell_type": "markdown",
   "id": "b3fa5391",
   "metadata": {
    "papermill": {
     "duration": 0.006256,
     "end_time": "2025-05-15T16:12:46.923578",
     "exception": false,
     "start_time": "2025-05-15T16:12:46.917322",
     "status": "completed"
    },
    "tags": []
   },
   "source": [
    "### GENERATE F1 "
   ]
  },
  {
   "cell_type": "code",
   "execution_count": 17,
   "id": "b65b901a",
   "metadata": {
    "execution": {
     "iopub.execute_input": "2025-05-15T16:12:46.937704Z",
     "iopub.status.busy": "2025-05-15T16:12:46.937404Z",
     "iopub.status.idle": "2025-05-15T16:12:46.940252Z",
     "shell.execute_reply": "2025-05-15T16:12:46.939933Z"
    },
    "papermill": {
     "duration": 0.01104,
     "end_time": "2025-05-15T16:12:46.941155",
     "exception": false,
     "start_time": "2025-05-15T16:12:46.930115",
     "status": "completed"
    },
    "tags": []
   },
   "outputs": [],
   "source": [
    "def custom_f1_score(y_true, y_pred):\n",
    "    return -f1_score(y_true, y_pred.argmax(1), average='weighted')"
   ]
  },
  {
   "cell_type": "code",
   "execution_count": 18,
   "id": "c5427e72",
   "metadata": {
    "execution": {
     "iopub.execute_input": "2025-05-15T16:12:46.955520Z",
     "iopub.status.busy": "2025-05-15T16:12:46.955109Z",
     "iopub.status.idle": "2025-05-15T16:12:46.959283Z",
     "shell.execute_reply": "2025-05-15T16:12:46.958900Z"
    },
    "papermill": {
     "duration": 0.012411,
     "end_time": "2025-05-15T16:12:46.960191",
     "exception": false,
     "start_time": "2025-05-15T16:12:46.947780",
     "status": "completed"
    },
    "tags": []
   },
   "outputs": [],
   "source": [
    "eval_metric=custom_f1_score\n",
    "eval_metric_name='custom_f1_score'\n",
    "\n",
    "def objective(trial):\n",
    "    params = {\n",
    "        'n_estimators': 1500,\n",
    "        'max_depth': trial.suggest_int('max_depth', 3, 20),\n",
    "        'min_child_weight': trial.suggest_int('min_child_weight', 1, 250),\n",
    "        'subsample': trial.suggest_float('subsample', 0.1, 1.0),\n",
    "        'colsample_bynode': trial.suggest_float('colsample_bynode', 0.1, 1.0),\n",
    "        'learning_rate': trial.suggest_float('learning_rate', 1e-3, 5e-1, log=True),\n",
    "    }\n",
    "    pruning_callback = optuna.integration.XGBoostPruningCallback(trial, f'validation_0-{eval_metric_name}')\n",
    "    es_callback = xgboost.callback.EarlyStopping(20, min_delta=0.001)\n",
    "    xgb = xgboost.XGBClassifier(\n",
    "        eval_metric=eval_metric,\n",
    "        callbacks=[pruning_callback, es_callback],\n",
    "        n_jobs=5,\n",
    "        **params\n",
    "    )\n",
    "    xgb.fit(\n",
    "        X_train, \n",
    "        y_train_enc, \n",
    "        verbose=0,\n",
    "        eval_set=[(X_val, y_val_enc)],\n",
    "    )\n",
    "    trial.set_user_attr('best_iteration', xgb.best_iteration)\n",
    "\n",
    "    return xgb.best_score"
   ]
  },
  {
   "cell_type": "code",
   "execution_count": 19,
   "id": "5a7e42ab",
   "metadata": {
    "execution": {
     "iopub.execute_input": "2025-05-15T16:12:46.974662Z",
     "iopub.status.busy": "2025-05-15T16:12:46.974213Z",
     "iopub.status.idle": "2025-05-15T16:13:29.318366Z",
     "shell.execute_reply": "2025-05-15T16:13:29.317919Z"
    },
    "papermill": {
     "duration": 42.352586,
     "end_time": "2025-05-15T16:13:29.319505",
     "exception": false,
     "start_time": "2025-05-15T16:12:46.966919",
     "status": "completed"
    },
    "scrolled": true,
    "tags": []
   },
   "outputs": [
    {
     "name": "stderr",
     "output_type": "stream",
     "text": [
      "[I 2025-05-15 18:12:46,976] A new study created in memory with name: no-name-5c6940a1-b484-4a94-b0d1-a57db2370012\n"
     ]
    },
    {
     "name": "stderr",
     "output_type": "stream",
     "text": [
      "[I 2025-05-15 18:12:47,889] Trial 0 finished with value: -0.686332 and parameters: {'max_depth': 9, 'min_child_weight': 238, 'subsample': 0.7587945476302645, 'colsample_bynode': 0.6387926357773329, 'learning_rate': 0.0026368755339723046}. Best is trial 0 with value: -0.686332.\n"
     ]
    },
    {
     "name": "stderr",
     "output_type": "stream",
     "text": [
      "[I 2025-05-15 18:12:49,688] Trial 1 finished with value: -0.720461 and parameters: {'max_depth': 5, 'min_child_weight': 15, 'subsample': 0.8795585311974417, 'colsample_bynode': 0.6410035105688879, 'learning_rate': 0.08148293210105287}. Best is trial 1 with value: -0.720461.\n"
     ]
    },
    {
     "name": "stderr",
     "output_type": "stream",
     "text": [
      "[I 2025-05-15 18:12:50,250] Trial 2 finished with value: -0.735893 and parameters: {'max_depth': 3, 'min_child_weight': 243, 'subsample': 0.8491983767203796, 'colsample_bynode': 0.29110519961044856, 'learning_rate': 0.003095566460242371}. Best is trial 2 with value: -0.735893.\n"
     ]
    },
    {
     "name": "stderr",
     "output_type": "stream",
     "text": [
      "[I 2025-05-15 18:12:51,156] Trial 3 finished with value: -0.701024 and parameters: {'max_depth': 6, 'min_child_weight': 77, 'subsample': 0.5722807884690141, 'colsample_bynode': 0.48875051677790415, 'learning_rate': 0.006109683510122491}. Best is trial 2 with value: -0.735893.\n"
     ]
    },
    {
     "name": "stderr",
     "output_type": "stream",
     "text": [
      "[I 2025-05-15 18:12:53,587] Trial 4 finished with value: -0.737976 and parameters: {'max_depth': 14, 'min_child_weight': 35, 'subsample': 0.3629301836816964, 'colsample_bynode': 0.4297256589643226, 'learning_rate': 0.01701841881702917}. Best is trial 4 with value: -0.737976.\n"
     ]
    },
    {
     "name": "stderr",
     "output_type": "stream",
     "text": [
      "[I 2025-05-15 18:12:53,757] Trial 5 pruned. Trial was pruned at iteration 0.\n"
     ]
    },
    {
     "name": "stderr",
     "output_type": "stream",
     "text": [
      "[I 2025-05-15 18:12:53,898] Trial 6 pruned. Trial was pruned at iteration 0.\n"
     ]
    },
    {
     "name": "stderr",
     "output_type": "stream",
     "text": [
      "[I 2025-05-15 18:12:54,040] Trial 7 pruned. Trial was pruned at iteration 0.\n"
     ]
    },
    {
     "name": "stderr",
     "output_type": "stream",
     "text": [
      "[I 2025-05-15 18:12:54,171] Trial 8 pruned. Trial was pruned at iteration 0.\n"
     ]
    },
    {
     "name": "stderr",
     "output_type": "stream",
     "text": [
      "[I 2025-05-15 18:12:54,319] Trial 9 pruned. Trial was pruned at iteration 0.\n"
     ]
    },
    {
     "name": "stderr",
     "output_type": "stream",
     "text": [
      "[I 2025-05-15 18:12:54,468] Trial 10 pruned. Trial was pruned at iteration 0.\n"
     ]
    },
    {
     "name": "stderr",
     "output_type": "stream",
     "text": [
      "[I 2025-05-15 18:12:54,628] Trial 11 pruned. Trial was pruned at iteration 0.\n"
     ]
    },
    {
     "name": "stderr",
     "output_type": "stream",
     "text": [
      "[I 2025-05-15 18:12:54,779] Trial 12 pruned. Trial was pruned at iteration 0.\n"
     ]
    },
    {
     "name": "stderr",
     "output_type": "stream",
     "text": [
      "[I 2025-05-15 18:12:54,936] Trial 13 pruned. Trial was pruned at iteration 0.\n"
     ]
    },
    {
     "name": "stderr",
     "output_type": "stream",
     "text": [
      "[I 2025-05-15 18:12:57,112] Trial 14 finished with value: -0.765109 and parameters: {'max_depth': 15, 'min_child_weight': 4, 'subsample': 0.35573972231728757, 'colsample_bynode': 0.4366674110508174, 'learning_rate': 0.0015643796910455804}. Best is trial 14 with value: -0.765109.\n"
     ]
    },
    {
     "name": "stderr",
     "output_type": "stream",
     "text": [
      "[I 2025-05-15 18:13:01,505] Trial 15 finished with value: -0.75368 and parameters: {'max_depth': 16, 'min_child_weight': 1, 'subsample': 0.40851935943968465, 'colsample_bynode': 0.44426285047725356, 'learning_rate': 0.0010486865707079443}. Best is trial 14 with value: -0.765109.\n"
     ]
    },
    {
     "name": "stderr",
     "output_type": "stream",
     "text": [
      "[I 2025-05-15 18:13:09,330] Trial 16 finished with value: -0.745085 and parameters: {'max_depth': 17, 'min_child_weight': 1, 'subsample': 0.44612621216513415, 'colsample_bynode': 0.4868778438917539, 'learning_rate': 0.0013494367167216001}. Best is trial 14 with value: -0.765109.\n"
     ]
    },
    {
     "name": "stderr",
     "output_type": "stream",
     "text": [
      "[I 2025-05-15 18:13:09,557] Trial 17 pruned. Trial was pruned at iteration 0.\n"
     ]
    },
    {
     "name": "stderr",
     "output_type": "stream",
     "text": [
      "[I 2025-05-15 18:13:09,751] Trial 18 pruned. Trial was pruned at iteration 0.\n"
     ]
    },
    {
     "name": "stderr",
     "output_type": "stream",
     "text": [
      "[I 2025-05-15 18:13:09,909] Trial 19 pruned. Trial was pruned at iteration 0.\n"
     ]
    },
    {
     "name": "stderr",
     "output_type": "stream",
     "text": [
      "[I 2025-05-15 18:13:10,133] Trial 20 pruned. Trial was pruned at iteration 1.\n"
     ]
    },
    {
     "name": "stderr",
     "output_type": "stream",
     "text": [
      "[I 2025-05-15 18:13:16,442] Trial 21 finished with value: -0.754706 and parameters: {'max_depth': 18, 'min_child_weight': 1, 'subsample': 0.4523025923466881, 'colsample_bynode': 0.4582402591061735, 'learning_rate': 0.0014163656690905386}. Best is trial 14 with value: -0.765109.\n"
     ]
    },
    {
     "name": "stderr",
     "output_type": "stream",
     "text": [
      "[I 2025-05-15 18:13:16,615] Trial 22 pruned. Trial was pruned at iteration 0.\n"
     ]
    },
    {
     "name": "stderr",
     "output_type": "stream",
     "text": [
      "[I 2025-05-15 18:13:17,496] Trial 23 finished with value: -0.771157 and parameters: {'max_depth': 15, 'min_child_weight': 22, 'subsample': 0.27641053169869717, 'colsample_bynode': 0.20614571666957646, 'learning_rate': 0.003994558894370978}. Best is trial 23 with value: -0.771157.\n"
     ]
    },
    {
     "name": "stderr",
     "output_type": "stream",
     "text": [
      "[I 2025-05-15 18:13:17,680] Trial 24 pruned. Trial was pruned at iteration 0.\n"
     ]
    },
    {
     "name": "stderr",
     "output_type": "stream",
     "text": [
      "[I 2025-05-15 18:13:18,927] Trial 25 finished with value: -0.767959 and parameters: {'max_depth': 15, 'min_child_weight': 62, 'subsample': 0.49225838628635854, 'colsample_bynode': 0.18761684061383146, 'learning_rate': 0.01240183327198248}. Best is trial 23 with value: -0.771157.\n"
     ]
    },
    {
     "name": "stderr",
     "output_type": "stream",
     "text": [
      "[I 2025-05-15 18:13:19,098] Trial 26 pruned. Trial was pruned at iteration 0.\n"
     ]
    },
    {
     "name": "stderr",
     "output_type": "stream",
     "text": [
      "[I 2025-05-15 18:13:19,269] Trial 27 pruned. Trial was pruned at iteration 0.\n"
     ]
    },
    {
     "name": "stderr",
     "output_type": "stream",
     "text": [
      "[I 2025-05-15 18:13:19,438] Trial 28 pruned. Trial was pruned at iteration 0.\n"
     ]
    },
    {
     "name": "stderr",
     "output_type": "stream",
     "text": [
      "[I 2025-05-15 18:13:19,599] Trial 29 pruned. Trial was pruned at iteration 0.\n"
     ]
    },
    {
     "name": "stderr",
     "output_type": "stream",
     "text": [
      "[I 2025-05-15 18:13:19,770] Trial 30 pruned. Trial was pruned at iteration 0.\n"
     ]
    },
    {
     "name": "stderr",
     "output_type": "stream",
     "text": [
      "[I 2025-05-15 18:13:19,959] Trial 31 pruned. Trial was pruned at iteration 0.\n"
     ]
    },
    {
     "name": "stderr",
     "output_type": "stream",
     "text": [
      "[I 2025-05-15 18:13:20,162] Trial 32 pruned. Trial was pruned at iteration 0.\n"
     ]
    },
    {
     "name": "stderr",
     "output_type": "stream",
     "text": [
      "[I 2025-05-15 18:13:20,331] Trial 33 pruned. Trial was pruned at iteration 0.\n"
     ]
    },
    {
     "name": "stderr",
     "output_type": "stream",
     "text": [
      "[I 2025-05-15 18:13:20,591] Trial 34 pruned. Trial was pruned at iteration 2.\n"
     ]
    },
    {
     "name": "stderr",
     "output_type": "stream",
     "text": [
      "[I 2025-05-15 18:13:20,761] Trial 35 pruned. Trial was pruned at iteration 0.\n"
     ]
    },
    {
     "name": "stderr",
     "output_type": "stream",
     "text": [
      "[I 2025-05-15 18:13:20,934] Trial 36 pruned. Trial was pruned at iteration 0.\n"
     ]
    },
    {
     "name": "stderr",
     "output_type": "stream",
     "text": [
      "[I 2025-05-15 18:13:21,975] Trial 37 finished with value: -0.744869 and parameters: {'max_depth': 16, 'min_child_weight': 43, 'subsample': 0.7211881480992679, 'colsample_bynode': 0.4161507581982826, 'learning_rate': 0.011265161290582788}. Best is trial 23 with value: -0.771157.\n"
     ]
    },
    {
     "name": "stderr",
     "output_type": "stream",
     "text": [
      "[I 2025-05-15 18:13:24,344] Trial 38 finished with value: -0.783339 and parameters: {'max_depth': 8, 'min_child_weight': 12, 'subsample': 0.5057966996056662, 'colsample_bynode': 0.16181707566990186, 'learning_rate': 0.0016948206229463949}. Best is trial 38 with value: -0.783339.\n"
     ]
    },
    {
     "name": "stderr",
     "output_type": "stream",
     "text": [
      "[I 2025-05-15 18:13:24,501] Trial 39 pruned. Trial was pruned at iteration 0.\n"
     ]
    },
    {
     "name": "stderr",
     "output_type": "stream",
     "text": [
      "[I 2025-05-15 18:13:24,676] Trial 40 pruned. Trial was pruned at iteration 0.\n"
     ]
    },
    {
     "name": "stderr",
     "output_type": "stream",
     "text": [
      "[I 2025-05-15 18:13:26,429] Trial 41 finished with value: -0.786603 and parameters: {'max_depth': 7, 'min_child_weight': 7, 'subsample': 0.4664145148564793, 'colsample_bynode': 0.1416817007211676, 'learning_rate': 0.0015092522942058827}. Best is trial 41 with value: -0.786603.\n"
     ]
    },
    {
     "name": "stderr",
     "output_type": "stream",
     "text": [
      "[I 2025-05-15 18:13:26,602] Trial 42 pruned. Trial was pruned at iteration 0.\n"
     ]
    },
    {
     "name": "stderr",
     "output_type": "stream",
     "text": [
      "[I 2025-05-15 18:13:27,473] Trial 43 finished with value: -0.773105 and parameters: {'max_depth': 7, 'min_child_weight': 46, 'subsample': 0.3758973549797058, 'colsample_bynode': 0.15026529384405907, 'learning_rate': 0.002716180908533542}. Best is trial 41 with value: -0.786603.\n"
     ]
    },
    {
     "name": "stderr",
     "output_type": "stream",
     "text": [
      "[I 2025-05-15 18:13:27,627] Trial 44 pruned. Trial was pruned at iteration 0.\n"
     ]
    },
    {
     "name": "stderr",
     "output_type": "stream",
     "text": [
      "[I 2025-05-15 18:13:28,563] Trial 45 finished with value: -0.761246 and parameters: {'max_depth': 6, 'min_child_weight': 50, 'subsample': 0.5331537094187475, 'colsample_bynode': 0.2775996681112505, 'learning_rate': 0.01491626176333265}. Best is trial 41 with value: -0.786603.\n"
     ]
    },
    {
     "name": "stderr",
     "output_type": "stream",
     "text": [
      "[I 2025-05-15 18:13:28,728] Trial 46 pruned. Trial was pruned at iteration 0.\n"
     ]
    },
    {
     "name": "stderr",
     "output_type": "stream",
     "text": [
      "[I 2025-05-15 18:13:28,898] Trial 47 pruned. Trial was pruned at iteration 0.\n"
     ]
    },
    {
     "name": "stderr",
     "output_type": "stream",
     "text": [
      "[I 2025-05-15 18:13:29,069] Trial 48 pruned. Trial was pruned at iteration 0.\n"
     ]
    },
    {
     "name": "stderr",
     "output_type": "stream",
     "text": [
      "[I 2025-05-15 18:13:29,235] Trial 49 pruned. Trial was pruned at iteration 0.\n"
     ]
    }
   ],
   "source": [
    "sampler = optuna.samplers.TPESampler(seed=42)\n",
    "study = optuna.create_study(direction='minimize', sampler=sampler)\n",
    "study.optimize(objective, n_trials=N_TRIALS, gc_after_trial=True)"
   ]
  },
  {
   "cell_type": "code",
   "execution_count": 20,
   "id": "1171ebf6",
   "metadata": {
    "execution": {
     "iopub.execute_input": "2025-05-15T16:13:29.341725Z",
     "iopub.status.busy": "2025-05-15T16:13:29.341409Z",
     "iopub.status.idle": "2025-05-15T16:13:29.382946Z",
     "shell.execute_reply": "2025-05-15T16:13:29.382539Z"
    },
    "papermill": {
     "duration": 0.052953,
     "end_time": "2025-05-15T16:13:29.384037",
     "exception": false,
     "start_time": "2025-05-15T16:13:29.331084",
     "status": "completed"
    },
    "tags": []
   },
   "outputs": [
    {
     "data": {
      "text/plain": [
       "['/scratch_isilon/groups/singlecell/shared/projects/Inflammation-PBMCs-Atlas/03_downstream_analysis/08_gene_importance/xgboost_external_validation/xgboost_TopN_genes/results_20/study/UTC_10_4_xgboost.pkl']"
      ]
     },
     "execution_count": 20,
     "metadata": {},
     "output_type": "execute_result"
    }
   ],
   "source": [
    "out_dir = here(f'03_downstream_analysis/08_gene_importance/xgboost_external_validation/xgboost_TopN_genes/results_{N_GENES}/study')\n",
    "\n",
    "if not os.path.exists(out_dir):\n",
    "    os.makedirs(out_dir)\n",
    "    \n",
    "joblib.dump(study,os.path.join(out_dir, f'{CELL_TYPE}_{SEED}_{TEST_SPLIT_IDX}_xgboost.pkl'))"
   ]
  },
  {
   "cell_type": "code",
   "execution_count": 21,
   "id": "be1a3f9a",
   "metadata": {
    "execution": {
     "iopub.execute_input": "2025-05-15T16:13:29.409375Z",
     "iopub.status.busy": "2025-05-15T16:13:29.409062Z",
     "iopub.status.idle": "2025-05-15T16:13:30.343611Z",
     "shell.execute_reply": "2025-05-15T16:13:30.343210Z"
    },
    "papermill": {
     "duration": 0.950355,
     "end_time": "2025-05-15T16:13:30.344566",
     "exception": false,
     "start_time": "2025-05-15T16:13:29.394211",
     "status": "completed"
    },
    "tags": []
   },
   "outputs": [
    {
     "data": {
      "text/html": [
       "<style>#sk-container-id-1 {\n",
       "  /* Definition of color scheme common for light and dark mode */\n",
       "  --sklearn-color-text: black;\n",
       "  --sklearn-color-line: gray;\n",
       "  /* Definition of color scheme for unfitted estimators */\n",
       "  --sklearn-color-unfitted-level-0: #fff5e6;\n",
       "  --sklearn-color-unfitted-level-1: #f6e4d2;\n",
       "  --sklearn-color-unfitted-level-2: #ffe0b3;\n",
       "  --sklearn-color-unfitted-level-3: chocolate;\n",
       "  /* Definition of color scheme for fitted estimators */\n",
       "  --sklearn-color-fitted-level-0: #f0f8ff;\n",
       "  --sklearn-color-fitted-level-1: #d4ebff;\n",
       "  --sklearn-color-fitted-level-2: #b3dbfd;\n",
       "  --sklearn-color-fitted-level-3: cornflowerblue;\n",
       "\n",
       "  /* Specific color for light theme */\n",
       "  --sklearn-color-text-on-default-background: var(--sg-text-color, var(--theme-code-foreground, var(--jp-content-font-color1, black)));\n",
       "  --sklearn-color-background: var(--sg-background-color, var(--theme-background, var(--jp-layout-color0, white)));\n",
       "  --sklearn-color-border-box: var(--sg-text-color, var(--theme-code-foreground, var(--jp-content-font-color1, black)));\n",
       "  --sklearn-color-icon: #696969;\n",
       "\n",
       "  @media (prefers-color-scheme: dark) {\n",
       "    /* Redefinition of color scheme for dark theme */\n",
       "    --sklearn-color-text-on-default-background: var(--sg-text-color, var(--theme-code-foreground, var(--jp-content-font-color1, white)));\n",
       "    --sklearn-color-background: var(--sg-background-color, var(--theme-background, var(--jp-layout-color0, #111)));\n",
       "    --sklearn-color-border-box: var(--sg-text-color, var(--theme-code-foreground, var(--jp-content-font-color1, white)));\n",
       "    --sklearn-color-icon: #878787;\n",
       "  }\n",
       "}\n",
       "\n",
       "#sk-container-id-1 {\n",
       "  color: var(--sklearn-color-text);\n",
       "}\n",
       "\n",
       "#sk-container-id-1 pre {\n",
       "  padding: 0;\n",
       "}\n",
       "\n",
       "#sk-container-id-1 input.sk-hidden--visually {\n",
       "  border: 0;\n",
       "  clip: rect(1px 1px 1px 1px);\n",
       "  clip: rect(1px, 1px, 1px, 1px);\n",
       "  height: 1px;\n",
       "  margin: -1px;\n",
       "  overflow: hidden;\n",
       "  padding: 0;\n",
       "  position: absolute;\n",
       "  width: 1px;\n",
       "}\n",
       "\n",
       "#sk-container-id-1 div.sk-dashed-wrapped {\n",
       "  border: 1px dashed var(--sklearn-color-line);\n",
       "  margin: 0 0.4em 0.5em 0.4em;\n",
       "  box-sizing: border-box;\n",
       "  padding-bottom: 0.4em;\n",
       "  background-color: var(--sklearn-color-background);\n",
       "}\n",
       "\n",
       "#sk-container-id-1 div.sk-container {\n",
       "  /* jupyter's `normalize.less` sets `[hidden] { display: none; }`\n",
       "     but bootstrap.min.css set `[hidden] { display: none !important; }`\n",
       "     so we also need the `!important` here to be able to override the\n",
       "     default hidden behavior on the sphinx rendered scikit-learn.org.\n",
       "     See: https://github.com/scikit-learn/scikit-learn/issues/21755 */\n",
       "  display: inline-block !important;\n",
       "  position: relative;\n",
       "}\n",
       "\n",
       "#sk-container-id-1 div.sk-text-repr-fallback {\n",
       "  display: none;\n",
       "}\n",
       "\n",
       "div.sk-parallel-item,\n",
       "div.sk-serial,\n",
       "div.sk-item {\n",
       "  /* draw centered vertical line to link estimators */\n",
       "  background-image: linear-gradient(var(--sklearn-color-text-on-default-background), var(--sklearn-color-text-on-default-background));\n",
       "  background-size: 2px 100%;\n",
       "  background-repeat: no-repeat;\n",
       "  background-position: center center;\n",
       "}\n",
       "\n",
       "/* Parallel-specific style estimator block */\n",
       "\n",
       "#sk-container-id-1 div.sk-parallel-item::after {\n",
       "  content: \"\";\n",
       "  width: 100%;\n",
       "  border-bottom: 2px solid var(--sklearn-color-text-on-default-background);\n",
       "  flex-grow: 1;\n",
       "}\n",
       "\n",
       "#sk-container-id-1 div.sk-parallel {\n",
       "  display: flex;\n",
       "  align-items: stretch;\n",
       "  justify-content: center;\n",
       "  background-color: var(--sklearn-color-background);\n",
       "  position: relative;\n",
       "}\n",
       "\n",
       "#sk-container-id-1 div.sk-parallel-item {\n",
       "  display: flex;\n",
       "  flex-direction: column;\n",
       "}\n",
       "\n",
       "#sk-container-id-1 div.sk-parallel-item:first-child::after {\n",
       "  align-self: flex-end;\n",
       "  width: 50%;\n",
       "}\n",
       "\n",
       "#sk-container-id-1 div.sk-parallel-item:last-child::after {\n",
       "  align-self: flex-start;\n",
       "  width: 50%;\n",
       "}\n",
       "\n",
       "#sk-container-id-1 div.sk-parallel-item:only-child::after {\n",
       "  width: 0;\n",
       "}\n",
       "\n",
       "/* Serial-specific style estimator block */\n",
       "\n",
       "#sk-container-id-1 div.sk-serial {\n",
       "  display: flex;\n",
       "  flex-direction: column;\n",
       "  align-items: center;\n",
       "  background-color: var(--sklearn-color-background);\n",
       "  padding-right: 1em;\n",
       "  padding-left: 1em;\n",
       "}\n",
       "\n",
       "\n",
       "/* Toggleable style: style used for estimator/Pipeline/ColumnTransformer box that is\n",
       "clickable and can be expanded/collapsed.\n",
       "- Pipeline and ColumnTransformer use this feature and define the default style\n",
       "- Estimators will overwrite some part of the style using the `sk-estimator` class\n",
       "*/\n",
       "\n",
       "/* Pipeline and ColumnTransformer style (default) */\n",
       "\n",
       "#sk-container-id-1 div.sk-toggleable {\n",
       "  /* Default theme specific background. It is overwritten whether we have a\n",
       "  specific estimator or a Pipeline/ColumnTransformer */\n",
       "  background-color: var(--sklearn-color-background);\n",
       "}\n",
       "\n",
       "/* Toggleable label */\n",
       "#sk-container-id-1 label.sk-toggleable__label {\n",
       "  cursor: pointer;\n",
       "  display: block;\n",
       "  width: 100%;\n",
       "  margin-bottom: 0;\n",
       "  padding: 0.5em;\n",
       "  box-sizing: border-box;\n",
       "  text-align: center;\n",
       "}\n",
       "\n",
       "#sk-container-id-1 label.sk-toggleable__label-arrow:before {\n",
       "  /* Arrow on the left of the label */\n",
       "  content: \"▸\";\n",
       "  float: left;\n",
       "  margin-right: 0.25em;\n",
       "  color: var(--sklearn-color-icon);\n",
       "}\n",
       "\n",
       "#sk-container-id-1 label.sk-toggleable__label-arrow:hover:before {\n",
       "  color: var(--sklearn-color-text);\n",
       "}\n",
       "\n",
       "/* Toggleable content - dropdown */\n",
       "\n",
       "#sk-container-id-1 div.sk-toggleable__content {\n",
       "  max-height: 0;\n",
       "  max-width: 0;\n",
       "  overflow: hidden;\n",
       "  text-align: left;\n",
       "  /* unfitted */\n",
       "  background-color: var(--sklearn-color-unfitted-level-0);\n",
       "}\n",
       "\n",
       "#sk-container-id-1 div.sk-toggleable__content.fitted {\n",
       "  /* fitted */\n",
       "  background-color: var(--sklearn-color-fitted-level-0);\n",
       "}\n",
       "\n",
       "#sk-container-id-1 div.sk-toggleable__content pre {\n",
       "  margin: 0.2em;\n",
       "  border-radius: 0.25em;\n",
       "  color: var(--sklearn-color-text);\n",
       "  /* unfitted */\n",
       "  background-color: var(--sklearn-color-unfitted-level-0);\n",
       "}\n",
       "\n",
       "#sk-container-id-1 div.sk-toggleable__content.fitted pre {\n",
       "  /* unfitted */\n",
       "  background-color: var(--sklearn-color-fitted-level-0);\n",
       "}\n",
       "\n",
       "#sk-container-id-1 input.sk-toggleable__control:checked~div.sk-toggleable__content {\n",
       "  /* Expand drop-down */\n",
       "  max-height: 200px;\n",
       "  max-width: 100%;\n",
       "  overflow: auto;\n",
       "}\n",
       "\n",
       "#sk-container-id-1 input.sk-toggleable__control:checked~label.sk-toggleable__label-arrow:before {\n",
       "  content: \"▾\";\n",
       "}\n",
       "\n",
       "/* Pipeline/ColumnTransformer-specific style */\n",
       "\n",
       "#sk-container-id-1 div.sk-label input.sk-toggleable__control:checked~label.sk-toggleable__label {\n",
       "  color: var(--sklearn-color-text);\n",
       "  background-color: var(--sklearn-color-unfitted-level-2);\n",
       "}\n",
       "\n",
       "#sk-container-id-1 div.sk-label.fitted input.sk-toggleable__control:checked~label.sk-toggleable__label {\n",
       "  background-color: var(--sklearn-color-fitted-level-2);\n",
       "}\n",
       "\n",
       "/* Estimator-specific style */\n",
       "\n",
       "/* Colorize estimator box */\n",
       "#sk-container-id-1 div.sk-estimator input.sk-toggleable__control:checked~label.sk-toggleable__label {\n",
       "  /* unfitted */\n",
       "  background-color: var(--sklearn-color-unfitted-level-2);\n",
       "}\n",
       "\n",
       "#sk-container-id-1 div.sk-estimator.fitted input.sk-toggleable__control:checked~label.sk-toggleable__label {\n",
       "  /* fitted */\n",
       "  background-color: var(--sklearn-color-fitted-level-2);\n",
       "}\n",
       "\n",
       "#sk-container-id-1 div.sk-label label.sk-toggleable__label,\n",
       "#sk-container-id-1 div.sk-label label {\n",
       "  /* The background is the default theme color */\n",
       "  color: var(--sklearn-color-text-on-default-background);\n",
       "}\n",
       "\n",
       "/* On hover, darken the color of the background */\n",
       "#sk-container-id-1 div.sk-label:hover label.sk-toggleable__label {\n",
       "  color: var(--sklearn-color-text);\n",
       "  background-color: var(--sklearn-color-unfitted-level-2);\n",
       "}\n",
       "\n",
       "/* Label box, darken color on hover, fitted */\n",
       "#sk-container-id-1 div.sk-label.fitted:hover label.sk-toggleable__label.fitted {\n",
       "  color: var(--sklearn-color-text);\n",
       "  background-color: var(--sklearn-color-fitted-level-2);\n",
       "}\n",
       "\n",
       "/* Estimator label */\n",
       "\n",
       "#sk-container-id-1 div.sk-label label {\n",
       "  font-family: monospace;\n",
       "  font-weight: bold;\n",
       "  display: inline-block;\n",
       "  line-height: 1.2em;\n",
       "}\n",
       "\n",
       "#sk-container-id-1 div.sk-label-container {\n",
       "  text-align: center;\n",
       "}\n",
       "\n",
       "/* Estimator-specific */\n",
       "#sk-container-id-1 div.sk-estimator {\n",
       "  font-family: monospace;\n",
       "  border: 1px dotted var(--sklearn-color-border-box);\n",
       "  border-radius: 0.25em;\n",
       "  box-sizing: border-box;\n",
       "  margin-bottom: 0.5em;\n",
       "  /* unfitted */\n",
       "  background-color: var(--sklearn-color-unfitted-level-0);\n",
       "}\n",
       "\n",
       "#sk-container-id-1 div.sk-estimator.fitted {\n",
       "  /* fitted */\n",
       "  background-color: var(--sklearn-color-fitted-level-0);\n",
       "}\n",
       "\n",
       "/* on hover */\n",
       "#sk-container-id-1 div.sk-estimator:hover {\n",
       "  /* unfitted */\n",
       "  background-color: var(--sklearn-color-unfitted-level-2);\n",
       "}\n",
       "\n",
       "#sk-container-id-1 div.sk-estimator.fitted:hover {\n",
       "  /* fitted */\n",
       "  background-color: var(--sklearn-color-fitted-level-2);\n",
       "}\n",
       "\n",
       "/* Specification for estimator info (e.g. \"i\" and \"?\") */\n",
       "\n",
       "/* Common style for \"i\" and \"?\" */\n",
       "\n",
       ".sk-estimator-doc-link,\n",
       "a:link.sk-estimator-doc-link,\n",
       "a:visited.sk-estimator-doc-link {\n",
       "  float: right;\n",
       "  font-size: smaller;\n",
       "  line-height: 1em;\n",
       "  font-family: monospace;\n",
       "  background-color: var(--sklearn-color-background);\n",
       "  border-radius: 1em;\n",
       "  height: 1em;\n",
       "  width: 1em;\n",
       "  text-decoration: none !important;\n",
       "  margin-left: 1ex;\n",
       "  /* unfitted */\n",
       "  border: var(--sklearn-color-unfitted-level-1) 1pt solid;\n",
       "  color: var(--sklearn-color-unfitted-level-1);\n",
       "}\n",
       "\n",
       ".sk-estimator-doc-link.fitted,\n",
       "a:link.sk-estimator-doc-link.fitted,\n",
       "a:visited.sk-estimator-doc-link.fitted {\n",
       "  /* fitted */\n",
       "  border: var(--sklearn-color-fitted-level-1) 1pt solid;\n",
       "  color: var(--sklearn-color-fitted-level-1);\n",
       "}\n",
       "\n",
       "/* On hover */\n",
       "div.sk-estimator:hover .sk-estimator-doc-link:hover,\n",
       ".sk-estimator-doc-link:hover,\n",
       "div.sk-label-container:hover .sk-estimator-doc-link:hover,\n",
       ".sk-estimator-doc-link:hover {\n",
       "  /* unfitted */\n",
       "  background-color: var(--sklearn-color-unfitted-level-3);\n",
       "  color: var(--sklearn-color-background);\n",
       "  text-decoration: none;\n",
       "}\n",
       "\n",
       "div.sk-estimator.fitted:hover .sk-estimator-doc-link.fitted:hover,\n",
       ".sk-estimator-doc-link.fitted:hover,\n",
       "div.sk-label-container:hover .sk-estimator-doc-link.fitted:hover,\n",
       ".sk-estimator-doc-link.fitted:hover {\n",
       "  /* fitted */\n",
       "  background-color: var(--sklearn-color-fitted-level-3);\n",
       "  color: var(--sklearn-color-background);\n",
       "  text-decoration: none;\n",
       "}\n",
       "\n",
       "/* Span, style for the box shown on hovering the info icon */\n",
       ".sk-estimator-doc-link span {\n",
       "  display: none;\n",
       "  z-index: 9999;\n",
       "  position: relative;\n",
       "  font-weight: normal;\n",
       "  right: .2ex;\n",
       "  padding: .5ex;\n",
       "  margin: .5ex;\n",
       "  width: min-content;\n",
       "  min-width: 20ex;\n",
       "  max-width: 50ex;\n",
       "  color: var(--sklearn-color-text);\n",
       "  box-shadow: 2pt 2pt 4pt #999;\n",
       "  /* unfitted */\n",
       "  background: var(--sklearn-color-unfitted-level-0);\n",
       "  border: .5pt solid var(--sklearn-color-unfitted-level-3);\n",
       "}\n",
       "\n",
       ".sk-estimator-doc-link.fitted span {\n",
       "  /* fitted */\n",
       "  background: var(--sklearn-color-fitted-level-0);\n",
       "  border: var(--sklearn-color-fitted-level-3);\n",
       "}\n",
       "\n",
       ".sk-estimator-doc-link:hover span {\n",
       "  display: block;\n",
       "}\n",
       "\n",
       "/* \"?\"-specific style due to the `<a>` HTML tag */\n",
       "\n",
       "#sk-container-id-1 a.estimator_doc_link {\n",
       "  float: right;\n",
       "  font-size: 1rem;\n",
       "  line-height: 1em;\n",
       "  font-family: monospace;\n",
       "  background-color: var(--sklearn-color-background);\n",
       "  border-radius: 1rem;\n",
       "  height: 1rem;\n",
       "  width: 1rem;\n",
       "  text-decoration: none;\n",
       "  /* unfitted */\n",
       "  color: var(--sklearn-color-unfitted-level-1);\n",
       "  border: var(--sklearn-color-unfitted-level-1) 1pt solid;\n",
       "}\n",
       "\n",
       "#sk-container-id-1 a.estimator_doc_link.fitted {\n",
       "  /* fitted */\n",
       "  border: var(--sklearn-color-fitted-level-1) 1pt solid;\n",
       "  color: var(--sklearn-color-fitted-level-1);\n",
       "}\n",
       "\n",
       "/* On hover */\n",
       "#sk-container-id-1 a.estimator_doc_link:hover {\n",
       "  /* unfitted */\n",
       "  background-color: var(--sklearn-color-unfitted-level-3);\n",
       "  color: var(--sklearn-color-background);\n",
       "  text-decoration: none;\n",
       "}\n",
       "\n",
       "#sk-container-id-1 a.estimator_doc_link.fitted:hover {\n",
       "  /* fitted */\n",
       "  background-color: var(--sklearn-color-fitted-level-3);\n",
       "}\n",
       "</style><div id=\"sk-container-id-1\" class=\"sk-top-container\"><div class=\"sk-text-repr-fallback\"><pre>XGBClassifier(base_score=None, booster=None, callbacks=None,\n",
       "              colsample_bylevel=None, colsample_bynode=0.1416817007211676,\n",
       "              colsample_bytree=None, device=None, early_stopping_rounds=None,\n",
       "              enable_categorical=False,\n",
       "              eval_metric=&lt;function custom_f1_score at 0x7f23fc3fc720&gt;,\n",
       "              feature_types=None, gamma=None, grow_policy=None,\n",
       "              importance_type=None, interaction_constraints=None,\n",
       "              learning_rate=0.0015092522942058827, max_bin=None,\n",
       "              max_cat_threshold=None, max_cat_to_onehot=None,\n",
       "              max_delta_step=None, max_depth=7, max_leaves=None,\n",
       "              min_child_weight=7, missing=nan, monotone_constraints=None,\n",
       "              multi_strategy=None, n_estimators=27, n_jobs=None,\n",
       "              num_parallel_tree=None, objective=&#x27;multi:softprob&#x27;, ...)</pre><b>In a Jupyter environment, please rerun this cell to show the HTML representation or trust the notebook. <br />On GitHub, the HTML representation is unable to render, please try loading this page with nbviewer.org.</b></div><div class=\"sk-container\" hidden><div class=\"sk-item\"><div class=\"sk-estimator fitted sk-toggleable\"><input class=\"sk-toggleable__control sk-hidden--visually\" id=\"sk-estimator-id-1\" type=\"checkbox\" checked><label for=\"sk-estimator-id-1\" class=\"sk-toggleable__label fitted sk-toggleable__label-arrow fitted\">&nbsp;XGBClassifier<span class=\"sk-estimator-doc-link fitted\">i<span>Fitted</span></span></label><div class=\"sk-toggleable__content fitted\"><pre>XGBClassifier(base_score=None, booster=None, callbacks=None,\n",
       "              colsample_bylevel=None, colsample_bynode=0.1416817007211676,\n",
       "              colsample_bytree=None, device=None, early_stopping_rounds=None,\n",
       "              enable_categorical=False,\n",
       "              eval_metric=&lt;function custom_f1_score at 0x7f23fc3fc720&gt;,\n",
       "              feature_types=None, gamma=None, grow_policy=None,\n",
       "              importance_type=None, interaction_constraints=None,\n",
       "              learning_rate=0.0015092522942058827, max_bin=None,\n",
       "              max_cat_threshold=None, max_cat_to_onehot=None,\n",
       "              max_delta_step=None, max_depth=7, max_leaves=None,\n",
       "              min_child_weight=7, missing=nan, monotone_constraints=None,\n",
       "              multi_strategy=None, n_estimators=27, n_jobs=None,\n",
       "              num_parallel_tree=None, objective=&#x27;multi:softprob&#x27;, ...)</pre></div> </div></div></div></div>"
      ],
      "text/plain": [
       "XGBClassifier(base_score=None, booster=None, callbacks=None,\n",
       "              colsample_bylevel=None, colsample_bynode=0.1416817007211676,\n",
       "              colsample_bytree=None, device=None, early_stopping_rounds=None,\n",
       "              enable_categorical=False,\n",
       "              eval_metric=<function custom_f1_score at 0x7f23fc3fc720>,\n",
       "              feature_types=None, gamma=None, grow_policy=None,\n",
       "              importance_type=None, interaction_constraints=None,\n",
       "              learning_rate=0.0015092522942058827, max_bin=None,\n",
       "              max_cat_threshold=None, max_cat_to_onehot=None,\n",
       "              max_delta_step=None, max_depth=7, max_leaves=None,\n",
       "              min_child_weight=7, missing=nan, monotone_constraints=None,\n",
       "              multi_strategy=None, n_estimators=27, n_jobs=None,\n",
       "              num_parallel_tree=None, objective='multi:softprob', ...)"
      ]
     },
     "execution_count": 21,
     "metadata": {},
     "output_type": "execute_result"
    }
   ],
   "source": [
    "n_estimators = int(study.best_trial.user_attrs['best_iteration']*1.2)\n",
    "xgb = xgboost.XGBClassifier(\n",
    "        eval_metric=eval_metric,\n",
    "        n_estimators=n_estimators,\n",
    "        **study.best_trial.params\n",
    "    )\n",
    "xgb.fit(\n",
    "    ssp.vstack((X_train, X_val)), \n",
    "    np.concatenate((y_train_enc, y_val_enc)),\n",
    "    verbose=1,\n",
    ")"
   ]
  },
  {
   "cell_type": "code",
   "execution_count": 22,
   "id": "53ba9ae6",
   "metadata": {
    "execution": {
     "iopub.execute_input": "2025-05-15T16:13:30.380145Z",
     "iopub.status.busy": "2025-05-15T16:13:30.379886Z",
     "iopub.status.idle": "2025-05-15T16:13:30.409439Z",
     "shell.execute_reply": "2025-05-15T16:13:30.409117Z"
    },
    "papermill": {
     "duration": 0.041079,
     "end_time": "2025-05-15T16:13:30.410393",
     "exception": false,
     "start_time": "2025-05-15T16:13:30.369314",
     "status": "completed"
    },
    "tags": []
   },
   "outputs": [
    {
     "data": {
      "text/plain": [
       "['/scratch_isilon/groups/singlecell/shared/projects/Inflammation-PBMCs-Atlas/03_downstream_analysis/08_gene_importance/xgboost_external_validation/xgboost_TopN_genes/results_20/best_model/UTC_10_4_xgb.json']"
      ]
     },
     "execution_count": 22,
     "metadata": {},
     "output_type": "execute_result"
    }
   ],
   "source": [
    "out_dir = here(f'03_downstream_analysis/08_gene_importance/xgboost_external_validation/xgboost_TopN_genes/results_{N_GENES}/best_model')\n",
    "\n",
    "if not os.path.exists(out_dir):\n",
    "    os.makedirs(out_dir)\n",
    "    \n",
    "joblib.dump(xgb, os.path.join(out_dir, f'{CELL_TYPE}_{SEED}_{TEST_SPLIT_IDX}_xgb.json'))"
   ]
  },
  {
   "cell_type": "code",
   "execution_count": 23,
   "id": "dbca0beb",
   "metadata": {
    "execution": {
     "iopub.execute_input": "2025-05-15T16:13:30.441236Z",
     "iopub.status.busy": "2025-05-15T16:13:30.440665Z",
     "iopub.status.idle": "2025-05-15T16:13:30.457729Z",
     "shell.execute_reply": "2025-05-15T16:13:30.457392Z"
    },
    "papermill": {
     "duration": 0.029665,
     "end_time": "2025-05-15T16:13:30.459053",
     "exception": false,
     "start_time": "2025-05-15T16:13:30.429388",
     "status": "completed"
    },
    "tags": []
   },
   "outputs": [],
   "source": [
    "df_pred_test = pd.DataFrame(dict(\n",
    "    cell_id=train_adata.obs.iloc[test_idxs].index.values,\n",
    "    y_true=y_test, \n",
    "    y_true_code=y_test_enc, \n",
    "    y_pred=xgb.predict(X_test))).set_index('cell_id')"
   ]
  },
  {
   "cell_type": "code",
   "execution_count": 24,
   "id": "12782ed3",
   "metadata": {
    "execution": {
     "iopub.execute_input": "2025-05-15T16:13:30.484271Z",
     "iopub.status.busy": "2025-05-15T16:13:30.483998Z",
     "iopub.status.idle": "2025-05-15T16:13:30.528317Z",
     "shell.execute_reply": "2025-05-15T16:13:30.527959Z"
    },
    "papermill": {
     "duration": 0.056046,
     "end_time": "2025-05-15T16:13:30.529436",
     "exception": false,
     "start_time": "2025-05-15T16:13:30.473390",
     "status": "completed"
    },
    "tags": []
   },
   "outputs": [],
   "source": [
    "out_dir = here(f'03_downstream_analysis/08_gene_importance/xgboost_external_validation/xgboost_TopN_genes/results_{N_GENES}/predictions')\n",
    "\n",
    "if not os.path.exists(out_dir):\n",
    "    os.makedirs(out_dir)\n",
    "    \n",
    "df_pred_test.to_csv(os.path.join(out_dir, f'{CELL_TYPE}_{SEED}_{TEST_SPLIT_IDX}_pred_test.zip'))"
   ]
  },
  {
   "cell_type": "code",
   "execution_count": 25,
   "id": "254a8093",
   "metadata": {
    "execution": {
     "iopub.execute_input": "2025-05-15T16:13:30.567029Z",
     "iopub.status.busy": "2025-05-15T16:13:30.566762Z",
     "iopub.status.idle": "2025-05-15T16:13:30.576067Z",
     "shell.execute_reply": "2025-05-15T16:13:30.575690Z"
    },
    "papermill": {
     "duration": 0.037942,
     "end_time": "2025-05-15T16:13:30.576960",
     "exception": false,
     "start_time": "2025-05-15T16:13:30.539018",
     "status": "completed"
    },
    "tags": []
   },
   "outputs": [
    {
     "name": "stderr",
     "output_type": "stream",
     "text": [
      "/scratch_isilon/groups/singlecell/shared/conda_env/xgboost-cpu/lib/python3.12/site-packages/sklearn/metrics/_classification.py:2466: UserWarning: y_pred contains classes not in y_true\n",
      "  warnings.warn(\"y_pred contains classes not in y_true\")\n"
     ]
    }
   ],
   "source": [
    "metrics_dict = dict(\n",
    "    BAS=balanced_accuracy_score(y_true=df_pred_test.y_true_code, y_pred=df_pred_test.y_pred), WF1=f1_score(y_true=df_pred_test.y_true_code, y_pred=df_pred_test.y_pred,average='weighted'))"
   ]
  },
  {
   "cell_type": "code",
   "execution_count": 26,
   "id": "c02f1653",
   "metadata": {
    "execution": {
     "iopub.execute_input": "2025-05-15T16:13:30.639723Z",
     "iopub.status.busy": "2025-05-15T16:13:30.639296Z",
     "iopub.status.idle": "2025-05-15T16:13:30.642870Z",
     "shell.execute_reply": "2025-05-15T16:13:30.642539Z"
    },
    "papermill": {
     "duration": 0.057314,
     "end_time": "2025-05-15T16:13:30.643721",
     "exception": false,
     "start_time": "2025-05-15T16:13:30.586407",
     "status": "completed"
    },
    "tags": []
   },
   "outputs": [
    {
     "data": {
      "text/plain": [
       "{'BAS': 0.33451075895700777, 'WF1': 0.5660863289954314}"
      ]
     },
     "execution_count": 26,
     "metadata": {},
     "output_type": "execute_result"
    }
   ],
   "source": [
    "metrics_dict"
   ]
  },
  {
   "cell_type": "code",
   "execution_count": 27,
   "id": "91b38bc3",
   "metadata": {
    "execution": {
     "iopub.execute_input": "2025-05-15T16:13:30.700810Z",
     "iopub.status.busy": "2025-05-15T16:13:30.700210Z",
     "iopub.status.idle": "2025-05-15T16:13:30.712784Z",
     "shell.execute_reply": "2025-05-15T16:13:30.712454Z"
    },
    "papermill": {
     "duration": 0.041463,
     "end_time": "2025-05-15T16:13:30.713731",
     "exception": false,
     "start_time": "2025-05-15T16:13:30.672268",
     "status": "completed"
    },
    "tags": []
   },
   "outputs": [
    {
     "data": {
      "text/html": [
       "<div>\n",
       "<style scoped>\n",
       "    .dataframe tbody tr th:only-of-type {\n",
       "        vertical-align: middle;\n",
       "    }\n",
       "\n",
       "    .dataframe tbody tr th {\n",
       "        vertical-align: top;\n",
       "    }\n",
       "\n",
       "    .dataframe thead th {\n",
       "        text-align: right;\n",
       "    }\n",
       "</style>\n",
       "<table border=\"1\" class=\"dataframe\">\n",
       "  <thead>\n",
       "    <tr style=\"text-align: right;\">\n",
       "      <th></th>\n",
       "      <th>BAS</th>\n",
       "      <th>WF1</th>\n",
       "      <th>split_idx</th>\n",
       "      <th>gene_set_seed</th>\n",
       "      <th>cell_type</th>\n",
       "    </tr>\n",
       "  </thead>\n",
       "  <tbody>\n",
       "    <tr>\n",
       "      <th>0</th>\n",
       "      <td>0.334511</td>\n",
       "      <td>0.566086</td>\n",
       "      <td>4</td>\n",
       "      <td>10</td>\n",
       "      <td>UTC</td>\n",
       "    </tr>\n",
       "  </tbody>\n",
       "</table>\n",
       "</div>"
      ],
      "text/plain": [
       "        BAS       WF1  split_idx  gene_set_seed cell_type\n",
       "0  0.334511  0.566086          4             10       UTC"
      ]
     },
     "execution_count": 27,
     "metadata": {},
     "output_type": "execute_result"
    }
   ],
   "source": [
    "metrics_df = pd.DataFrame.from_dict([metrics_dict]).assign(split_idx=TEST_SPLIT_IDX, gene_set_seed=SEED, cell_type=CELL_TYPE)\n",
    "metrics_df"
   ]
  },
  {
   "cell_type": "code",
   "execution_count": 28,
   "id": "0e07346e",
   "metadata": {
    "execution": {
     "iopub.execute_input": "2025-05-15T16:13:30.756964Z",
     "iopub.status.busy": "2025-05-15T16:13:30.756471Z",
     "iopub.status.idle": "2025-05-15T16:13:30.765235Z",
     "shell.execute_reply": "2025-05-15T16:13:30.764903Z"
    },
    "papermill": {
     "duration": 0.028983,
     "end_time": "2025-05-15T16:13:30.766496",
     "exception": false,
     "start_time": "2025-05-15T16:13:30.737513",
     "status": "completed"
    },
    "tags": []
   },
   "outputs": [],
   "source": [
    "out_dir = here(f'03_downstream_analysis/08_gene_importance/xgboost_external_validation/xgboost_TopN_genes/results_{N_GENES}/metrics')\n",
    "\n",
    "if not os.path.exists(out_dir):\n",
    "    os.makedirs(out_dir)\n",
    "    \n",
    "metrics_df.to_csv(os.path.join(out_dir, f'{CELL_TYPE}_{SEED}_{TEST_SPLIT_IDX}_metrics.zip'))"
   ]
  }
 ],
 "metadata": {
  "kernelspec": {
   "display_name": "Python 3 (ipykernel)",
   "language": "python",
   "name": "python3"
  },
  "language_info": {
   "codemirror_mode": {
    "name": "ipython",
    "version": 3
   },
   "file_extension": ".py",
   "mimetype": "text/x-python",
   "name": "python",
   "nbconvert_exporter": "python",
   "pygments_lexer": "ipython3",
   "version": "3.12.5"
  },
  "papermill": {
   "default_parameters": {},
   "duration": 48.74342,
   "end_time": "2025-05-15T16:13:31.394534",
   "environment_variables": {},
   "exception": null,
   "input_path": "02_xgboost_fitting_external_20genes.ipynb",
   "output_path": "results_20/executed_notebooks/xgboost_fitting_external_CT_UTC_GS_10_seed4.ipynb",
   "parameters": {
    "CELL_TYPE": "UTC",
    "SEED": 10,
    "TEST_SPLIT_IDX": 4
   },
   "start_time": "2025-05-15T16:12:42.651114",
   "version": "2.6.0"
  }
 },
 "nbformat": 4,
 "nbformat_minor": 5
}