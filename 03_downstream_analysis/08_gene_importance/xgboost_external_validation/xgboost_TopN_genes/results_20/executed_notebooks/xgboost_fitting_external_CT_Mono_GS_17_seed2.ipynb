{
 "cells": [
  {
   "cell_type": "code",
   "execution_count": 1,
   "id": "f36894d5",
   "metadata": {
    "editable": true,
    "execution": {
     "iopub.execute_input": "2025-05-15T16:00:16.987768Z",
     "iopub.status.busy": "2025-05-15T16:00:16.987252Z",
     "iopub.status.idle": "2025-05-15T16:00:16.990690Z",
     "shell.execute_reply": "2025-05-15T16:00:16.990308Z"
    },
    "papermill": {
     "duration": 0.014272,
     "end_time": "2025-05-15T16:00:16.992120",
     "exception": false,
     "start_time": "2025-05-15T16:00:16.977848",
     "status": "completed"
    },
    "slideshow": {
     "slide_type": ""
    },
    "tags": [
     "parameters"
    ]
   },
   "outputs": [],
   "source": [
    "CELL_TYPE = 'pDC'\n",
    "N_GENES: int = 20\n",
    "SEED = 'shap_studyID' #'disease_NOstudy' 'study_NOdisease' or 'int' or 'shap_studyID'\n",
    "TEST_SPLIT_IDX: int = 1 #[0,4]"
   ]
  },
  {
   "cell_type": "code",
   "execution_count": 2,
   "id": "1386336b",
   "metadata": {
    "execution": {
     "iopub.execute_input": "2025-05-15T16:00:17.005189Z",
     "iopub.status.busy": "2025-05-15T16:00:17.004895Z",
     "iopub.status.idle": "2025-05-15T16:00:17.007342Z",
     "shell.execute_reply": "2025-05-15T16:00:17.006972Z"
    },
    "papermill": {
     "duration": 0.009823,
     "end_time": "2025-05-15T16:00:17.008411",
     "exception": false,
     "start_time": "2025-05-15T16:00:16.998588",
     "status": "completed"
    },
    "tags": [
     "injected-parameters"
    ]
   },
   "outputs": [],
   "source": [
    "# Parameters\n",
    "CELL_TYPE = \"Mono\"\n",
    "SEED = 17\n",
    "TEST_SPLIT_IDX = 2\n"
   ]
  },
  {
   "cell_type": "code",
   "execution_count": 3,
   "id": "04692aaa",
   "metadata": {
    "execution": {
     "iopub.execute_input": "2025-05-15T16:00:17.021483Z",
     "iopub.status.busy": "2025-05-15T16:00:17.021218Z",
     "iopub.status.idle": "2025-05-15T16:00:17.023923Z",
     "shell.execute_reply": "2025-05-15T16:00:17.023445Z"
    },
    "papermill": {
     "duration": 0.010711,
     "end_time": "2025-05-15T16:00:17.025005",
     "exception": false,
     "start_time": "2025-05-15T16:00:17.014294",
     "status": "completed"
    },
    "tags": []
   },
   "outputs": [],
   "source": [
    "N_SPLITS: int = 5\n",
    "N_TRIALS: int = 50"
   ]
  },
  {
   "cell_type": "code",
   "execution_count": 4,
   "id": "7993b599",
   "metadata": {
    "execution": {
     "iopub.execute_input": "2025-05-15T16:00:17.065564Z",
     "iopub.status.busy": "2025-05-15T16:00:17.065271Z",
     "iopub.status.idle": "2025-05-15T16:00:19.015311Z",
     "shell.execute_reply": "2025-05-15T16:00:19.014857Z"
    },
    "papermill": {
     "duration": 1.985125,
     "end_time": "2025-05-15T16:00:19.016656",
     "exception": false,
     "start_time": "2025-05-15T16:00:17.031531",
     "status": "completed"
    },
    "tags": []
   },
   "outputs": [],
   "source": [
    "import os\n",
    "import sys\n",
    "from pyprojroot.here import here\n",
    "import pandas as pd\n",
    "import anndata as ad\n",
    "import numpy as np\n",
    "import math\n",
    "from sklearn.model_selection import StratifiedGroupKFold\n",
    "from sklearn.preprocessing import LabelEncoder\n",
    "from sklearn.metrics import f1_score\n",
    "import matplotlib.pyplot as plt\n",
    "import seaborn as sns\n",
    "from itertools import product\n",
    "from sklearn.metrics import balanced_accuracy_score, f1_score\n",
    "import optuna\n",
    "\n",
    "import joblib\n",
    "import pickle\n",
    "import datetime\n",
    "\n",
    "import collections\n",
    "\n",
    "import xgboost\n",
    "from sklearn.preprocessing import LabelEncoder\n",
    "\n",
    "import scipy.sparse as ssp\n",
    "import joblib\n",
    "\n",
    "from dotenv import load_dotenv"
   ]
  },
  {
   "cell_type": "code",
   "execution_count": 5,
   "id": "89ec805f",
   "metadata": {
    "execution": {
     "iopub.execute_input": "2025-05-15T16:00:19.029563Z",
     "iopub.status.busy": "2025-05-15T16:00:19.029171Z",
     "iopub.status.idle": "2025-05-15T16:00:19.036303Z",
     "shell.execute_reply": "2025-05-15T16:00:19.035933Z"
    },
    "papermill": {
     "duration": 0.014404,
     "end_time": "2025-05-15T16:00:19.037359",
     "exception": false,
     "start_time": "2025-05-15T16:00:19.022955",
     "status": "completed"
    },
    "tags": []
   },
   "outputs": [
    {
     "data": {
      "text/plain": [
       "True"
      ]
     },
     "execution_count": 5,
     "metadata": {},
     "output_type": "execute_result"
    }
   ],
   "source": [
    "load_dotenv()"
   ]
  },
  {
   "cell_type": "markdown",
   "id": "8303b11e",
   "metadata": {
    "papermill": {
     "duration": 0.005661,
     "end_time": "2025-05-15T16:00:19.049126",
     "exception": false,
     "start_time": "2025-05-15T16:00:19.043465",
     "status": "completed"
    },
    "tags": []
   },
   "source": [
    "# LOAD DATASET"
   ]
  },
  {
   "cell_type": "code",
   "execution_count": 6,
   "id": "fceca554",
   "metadata": {
    "execution": {
     "iopub.execute_input": "2025-05-15T16:00:19.065538Z",
     "iopub.status.busy": "2025-05-15T16:00:19.065030Z",
     "iopub.status.idle": "2025-05-15T16:00:20.536160Z",
     "shell.execute_reply": "2025-05-15T16:00:20.535567Z"
    },
    "papermill": {
     "duration": 1.480144,
     "end_time": "2025-05-15T16:00:20.537819",
     "exception": false,
     "start_time": "2025-05-15T16:00:19.057675",
     "status": "completed"
    },
    "tags": []
   },
   "outputs": [],
   "source": [
    "train_adata = ad.read_h5ad(\n",
    "    here(f'03_downstream_analysis/08_gene_importance/xgboost_external_validation/xgboost_TopN_genes/data_cellTypes/EXTERNAL_{CELL_TYPE}.filtered.log1p.h5ad')\n",
    ")"
   ]
  },
  {
   "cell_type": "code",
   "execution_count": 7,
   "id": "3ffc4fe3",
   "metadata": {
    "execution": {
     "iopub.execute_input": "2025-05-15T16:00:20.552946Z",
     "iopub.status.busy": "2025-05-15T16:00:20.552627Z",
     "iopub.status.idle": "2025-05-15T16:00:20.594731Z",
     "shell.execute_reply": "2025-05-15T16:00:20.594275Z"
    },
    "papermill": {
     "duration": 0.050725,
     "end_time": "2025-05-15T16:00:20.595795",
     "exception": false,
     "start_time": "2025-05-15T16:00:20.545070",
     "status": "completed"
    },
    "tags": []
   },
   "outputs": [
    {
     "name": "stdout",
     "output_type": "stream",
     "text": [
      "['ENSG00000119508' 'ENSG00000166825' 'ENSG00000118640' 'ENSG00000124731'\n",
      " 'ENSG00000149311' 'ENSG00000197102' 'ENSG00000138061' 'ENSG00000175203'\n",
      " 'ENSG00000196154' 'ENSG00000172183' 'ENSG00000125148' 'ENSG00000026103'\n",
      " 'ENSG00000015475' 'ENSG00000100393' 'ENSG00000104894' 'ENSG00000188313'\n",
      " 'ENSG00000152778' 'ENSG00000143543' 'ENSG00000125534' 'ENSG00000158050'\n",
      " 'ENSG00000158869' 'ENSG00000113916' 'ENSG00000092820' 'ENSG00000204642'\n",
      " 'ENSG00000100097' 'ENSG00000026025' 'ENSG00000167283' 'ENSG00000157601'\n",
      " 'ENSG00000090376' 'ENSG00000130724' 'ENSG00000057657' 'ENSG00000204257'\n",
      " 'ENSG00000141526' 'ENSG00000141506' 'ENSG00000100100' 'ENSG00000121774'\n",
      " 'ENSG00000166747' 'ENSG00000106605' 'ENSG00000175104' 'ENSG00000106803'\n",
      " 'ENSG00000158517' 'ENSG00000088827' 'ENSG00000168394' 'ENSG00000139192'\n",
      " 'ENSG00000137331' 'ENSG00000163659' 'ENSG00000008517' 'ENSG00000277632'\n",
      " 'ENSG00000169554' 'ENSG00000175567' 'ENSG00000118515' 'ENSG00000119917'\n",
      " 'ENSG00000237541' 'ENSG00000077150' 'ENSG00000197632' 'ENSG00000150961'\n",
      " 'ENSG00000134352' 'ENSG00000130066' 'ENSG00000204103' 'ENSG00000213145'\n",
      " 'ENSG00000161203' 'ENSG00000152234' 'ENSG00000100485' 'ENSG00000123268'\n",
      " 'ENSG00000102265' 'ENSG00000005339' 'ENSG00000009790' 'ENSG00000157020'\n",
      " 'ENSG00000271503' 'ENSG00000141505' 'ENSG00000130830' 'ENSG00000117984'\n",
      " 'ENSG00000143933' 'ENSG00000227507' 'ENSG00000030582' 'ENSG00000168329'\n",
      " 'ENSG00000128340' 'ENSG00000135404' 'ENSG00000120594' 'ENSG00000139289'\n",
      " 'ENSG00000108774' 'ENSG00000187164' 'ENSG00000179218' 'ENSG00000141574'\n",
      " 'ENSG00000108639' 'ENSG00000140678' 'ENSG00000101336' 'ENSG00000183172'\n",
      " 'ENSG00000156587' 'ENSG00000105397' 'ENSG00000137801' 'ENSG00000118508'\n",
      " 'ENSG00000160932' 'ENSG00000140105' 'ENSG00000111348' 'ENSG00000129084'\n",
      " 'ENSG00000130755' 'ENSG00000033800' 'ENSG00000141367' 'ENSG00000071073'\n",
      " 'ENSG00000198053' 'ENSG00000002549' 'ENSG00000143924' 'ENSG00000011422'\n",
      " 'ENSG00000123358' 'ENSG00000110203' 'ENSG00000150782' 'ENSG00000166949'\n",
      " 'ENSG00000183023' 'ENSG00000156411' 'ENSG00000104093' 'ENSG00000169564'\n",
      " 'ENSG00000068831' 'ENSG00000185201']\n"
     ]
    }
   ],
   "source": [
    "if SEED != 'all':\n",
    "    gene_subset = np.load(here(f'03_downstream_analysis/08_gene_importance/xgboost_external_validation/shap_gene_selection/gene_subsets_{N_GENES}/{CELL_TYPE}_{SEED}.npy'), allow_pickle=True)\n",
    "    train_adata = train_adata[:,gene_subset]\n",
    "    print(gene_subset)\n",
    "elif SEED == 'all':\n",
    "    print('Using all genes')\n",
    "else:\n",
    "    raise ValueError()"
   ]
  },
  {
   "cell_type": "code",
   "execution_count": 8,
   "id": "7bcef63d",
   "metadata": {
    "execution": {
     "iopub.execute_input": "2025-05-15T16:00:20.610340Z",
     "iopub.status.busy": "2025-05-15T16:00:20.610031Z",
     "iopub.status.idle": "2025-05-15T16:00:20.613836Z",
     "shell.execute_reply": "2025-05-15T16:00:20.613449Z"
    },
    "papermill": {
     "duration": 0.012121,
     "end_time": "2025-05-15T16:00:20.614986",
     "exception": false,
     "start_time": "2025-05-15T16:00:20.602865",
     "status": "completed"
    },
    "tags": []
   },
   "outputs": [
    {
     "data": {
      "text/plain": [
       "(137435, 114)"
      ]
     },
     "execution_count": 8,
     "metadata": {},
     "output_type": "execute_result"
    }
   ],
   "source": [
    "train_adata.shape"
   ]
  },
  {
   "cell_type": "code",
   "execution_count": 9,
   "id": "0ec89e15",
   "metadata": {
    "execution": {
     "iopub.execute_input": "2025-05-15T16:00:20.630038Z",
     "iopub.status.busy": "2025-05-15T16:00:20.629652Z",
     "iopub.status.idle": "2025-05-15T16:00:20.635038Z",
     "shell.execute_reply": "2025-05-15T16:00:20.634605Z"
    },
    "papermill": {
     "duration": 0.01424,
     "end_time": "2025-05-15T16:00:20.636164",
     "exception": false,
     "start_time": "2025-05-15T16:00:20.621924",
     "status": "completed"
    },
    "tags": []
   },
   "outputs": [
    {
     "data": {
      "text/plain": [
       "['RA', 'healthy', 'COVID', 'HIV', 'cirrhosis', 'CD', 'SLE', 'sepsis']\n",
       "Categories (8, object): ['CD', 'COVID', 'HIV', 'RA', 'SLE', 'cirrhosis', 'healthy', 'sepsis']"
      ]
     },
     "execution_count": 9,
     "metadata": {},
     "output_type": "execute_result"
    }
   ],
   "source": [
    "train_adata.obs.disease.unique()"
   ]
  },
  {
   "cell_type": "code",
   "execution_count": 10,
   "id": "b2b2c7ba",
   "metadata": {
    "execution": {
     "iopub.execute_input": "2025-05-15T16:00:20.650676Z",
     "iopub.status.busy": "2025-05-15T16:00:20.650315Z",
     "iopub.status.idle": "2025-05-15T16:00:20.656081Z",
     "shell.execute_reply": "2025-05-15T16:00:20.655674Z"
    },
    "papermill": {
     "duration": 0.014452,
     "end_time": "2025-05-15T16:00:20.657285",
     "exception": false,
     "start_time": "2025-05-15T16:00:20.642833",
     "status": "completed"
    },
    "tags": []
   },
   "outputs": [
    {
     "data": {
      "text/plain": [
       "['SCGT00val_I0364_T0', 'SCGT00val_I036028_T0', 'SCGT00val_I036024_T0', 'SCGT00val_I036023_T0', 'SCGT00val_I036019_T0', ..., '10XGenomics_10XHC2_T0', '10XGenomics_10XHC3_T0', '10XGenomics_10XHC5_T0', '10XGenomics_10XHC7_T0', '10XGenomics_10XHC8_T0']\n",
       "Length: 86\n",
       "Categories (86, object): ['10XGenomics_10XHC1_T0', '10XGenomics_10XHC2_T0', '10XGenomics_10XHC3_T0', '10XGenomics_10XHC4_T0', ..., 'Savage2021_BRISL6_T0', 'Savage2021_BRISL7_T0', 'Savage2021_PIDA_T0', 'Savage2021_PIDB_T0']"
      ]
     },
     "execution_count": 10,
     "metadata": {},
     "output_type": "execute_result"
    }
   ],
   "source": [
    "train_adata.obs.sampleID.unique()"
   ]
  },
  {
   "cell_type": "code",
   "execution_count": 11,
   "id": "35d857f8",
   "metadata": {
    "execution": {
     "iopub.execute_input": "2025-05-15T16:00:20.672571Z",
     "iopub.status.busy": "2025-05-15T16:00:20.672139Z",
     "iopub.status.idle": "2025-05-15T16:00:21.071202Z",
     "shell.execute_reply": "2025-05-15T16:00:21.070716Z"
    },
    "papermill": {
     "duration": 0.408616,
     "end_time": "2025-05-15T16:00:21.072826",
     "exception": false,
     "start_time": "2025-05-15T16:00:20.664210",
     "status": "completed"
    },
    "tags": []
   },
   "outputs": [],
   "source": [
    "all_idxs = np.arange(train_adata.obs.shape[0])\n",
    "left_out_splits = [s[1] for s in StratifiedGroupKFold(n_splits=N_SPLITS).split(all_idxs, train_adata.obs.disease, train_adata.obs.sampleID)]"
   ]
  },
  {
   "cell_type": "code",
   "execution_count": 12,
   "id": "a3c3a1a8",
   "metadata": {
    "execution": {
     "iopub.execute_input": "2025-05-15T16:00:21.087853Z",
     "iopub.status.busy": "2025-05-15T16:00:21.087547Z",
     "iopub.status.idle": "2025-05-15T16:00:21.091535Z",
     "shell.execute_reply": "2025-05-15T16:00:21.091177Z"
    },
    "papermill": {
     "duration": 0.012504,
     "end_time": "2025-05-15T16:00:21.092536",
     "exception": false,
     "start_time": "2025-05-15T16:00:21.080032",
     "status": "completed"
    },
    "tags": []
   },
   "outputs": [
    {
     "data": {
      "text/plain": [
       "([0, 1, 4], 3, 2)"
      ]
     },
     "execution_count": 12,
     "metadata": {},
     "output_type": "execute_result"
    }
   ],
   "source": [
    "TRAIN_SPLIT_IDXS = [0,1,2,3,4]\n",
    "VAL_SPLIT_IDX = (TEST_SPLIT_IDX + 1) % 5\n",
    "TRAIN_SPLIT_IDXS.remove(TEST_SPLIT_IDX)\n",
    "TRAIN_SPLIT_IDXS.remove(VAL_SPLIT_IDX)\n",
    "TRAIN_SPLIT_IDXS, VAL_SPLIT_IDX, TEST_SPLIT_IDX"
   ]
  },
  {
   "cell_type": "code",
   "execution_count": 13,
   "id": "fdc50064",
   "metadata": {
    "execution": {
     "iopub.execute_input": "2025-05-15T16:00:21.107007Z",
     "iopub.status.busy": "2025-05-15T16:00:21.106675Z",
     "iopub.status.idle": "2025-05-15T16:00:21.109965Z",
     "shell.execute_reply": "2025-05-15T16:00:21.109596Z"
    },
    "papermill": {
     "duration": 0.011646,
     "end_time": "2025-05-15T16:00:21.110983",
     "exception": false,
     "start_time": "2025-05-15T16:00:21.099337",
     "status": "completed"
    },
    "tags": []
   },
   "outputs": [],
   "source": [
    "train_idxs = np.concatenate([left_out_splits[idx] for idx in TRAIN_SPLIT_IDXS])\n",
    "val_idxs = left_out_splits[VAL_SPLIT_IDX]\n",
    "test_idxs = left_out_splits[TEST_SPLIT_IDX]"
   ]
  },
  {
   "cell_type": "markdown",
   "id": "4025f8eb",
   "metadata": {
    "papermill": {
     "duration": 0.006168,
     "end_time": "2025-05-15T16:00:21.124002",
     "exception": false,
     "start_time": "2025-05-15T16:00:21.117834",
     "status": "completed"
    },
    "tags": []
   },
   "source": [
    "### SUBSET DATASET INTO TRAIN/TEST/VAL SPLITS"
   ]
  },
  {
   "cell_type": "code",
   "execution_count": 14,
   "id": "c1127a1c",
   "metadata": {
    "execution": {
     "iopub.execute_input": "2025-05-15T16:00:21.138065Z",
     "iopub.status.busy": "2025-05-15T16:00:21.137721Z",
     "iopub.status.idle": "2025-05-15T16:00:21.681833Z",
     "shell.execute_reply": "2025-05-15T16:00:21.681392Z"
    },
    "papermill": {
     "duration": 0.55254,
     "end_time": "2025-05-15T16:00:21.682909",
     "exception": false,
     "start_time": "2025-05-15T16:00:21.130369",
     "status": "completed"
    },
    "tags": []
   },
   "outputs": [
    {
     "data": {
      "text/plain": [
       "((81938, 114), (26851, 114), (28646, 114))"
      ]
     },
     "execution_count": 14,
     "metadata": {},
     "output_type": "execute_result"
    }
   ],
   "source": [
    "X_train = train_adata.X[train_idxs]\n",
    "X_test = train_adata.X[test_idxs]\n",
    "X_val = train_adata.X[val_idxs]\n",
    "X_train.shape, X_test.shape, X_val.shape"
   ]
  },
  {
   "cell_type": "code",
   "execution_count": 15,
   "id": "0123d30a",
   "metadata": {
    "execution": {
     "iopub.execute_input": "2025-05-15T16:00:21.697192Z",
     "iopub.status.busy": "2025-05-15T16:00:21.696985Z",
     "iopub.status.idle": "2025-05-15T16:00:21.713284Z",
     "shell.execute_reply": "2025-05-15T16:00:21.712864Z"
    },
    "papermill": {
     "duration": 0.024314,
     "end_time": "2025-05-15T16:00:21.714556",
     "exception": false,
     "start_time": "2025-05-15T16:00:21.690242",
     "status": "completed"
    },
    "tags": []
   },
   "outputs": [
    {
     "data": {
      "text/plain": [
       "((81938,), (26851,), (28646,))"
      ]
     },
     "execution_count": 15,
     "metadata": {},
     "output_type": "execute_result"
    }
   ],
   "source": [
    "y_train = train_adata.obs.iloc[train_idxs].disease.values.astype(str)\n",
    "y_test = train_adata.obs.iloc[test_idxs].disease.values.astype(str)\n",
    "y_val = train_adata.obs.iloc[val_idxs].disease.values.astype(str)\n",
    "y_train.shape, y_test.shape, y_val.shape"
   ]
  },
  {
   "cell_type": "code",
   "execution_count": 16,
   "id": "9b9eafe2",
   "metadata": {
    "execution": {
     "iopub.execute_input": "2025-05-15T16:00:21.729534Z",
     "iopub.status.busy": "2025-05-15T16:00:21.729242Z",
     "iopub.status.idle": "2025-05-15T16:00:21.765434Z",
     "shell.execute_reply": "2025-05-15T16:00:21.764975Z"
    },
    "papermill": {
     "duration": 0.045289,
     "end_time": "2025-05-15T16:00:21.766798",
     "exception": false,
     "start_time": "2025-05-15T16:00:21.721509",
     "status": "completed"
    },
    "tags": []
   },
   "outputs": [],
   "source": [
    "lenc = LabelEncoder()\n",
    "y_train_enc = lenc.fit_transform(y_train)\n",
    "y_val_enc = lenc.transform(y_val)\n",
    "y_test_enc = lenc.transform(y_test)"
   ]
  },
  {
   "cell_type": "markdown",
   "id": "74df4ea1",
   "metadata": {
    "papermill": {
     "duration": 0.006167,
     "end_time": "2025-05-15T16:00:21.780286",
     "exception": false,
     "start_time": "2025-05-15T16:00:21.774119",
     "status": "completed"
    },
    "tags": []
   },
   "source": [
    "### GENERATE F1 "
   ]
  },
  {
   "cell_type": "code",
   "execution_count": 17,
   "id": "0c7ce63c",
   "metadata": {
    "execution": {
     "iopub.execute_input": "2025-05-15T16:00:21.794061Z",
     "iopub.status.busy": "2025-05-15T16:00:21.793781Z",
     "iopub.status.idle": "2025-05-15T16:00:21.796857Z",
     "shell.execute_reply": "2025-05-15T16:00:21.796432Z"
    },
    "papermill": {
     "duration": 0.011395,
     "end_time": "2025-05-15T16:00:21.797958",
     "exception": false,
     "start_time": "2025-05-15T16:00:21.786563",
     "status": "completed"
    },
    "tags": []
   },
   "outputs": [],
   "source": [
    "def custom_f1_score(y_true, y_pred):\n",
    "    return -f1_score(y_true, y_pred.argmax(1), average='weighted')"
   ]
  },
  {
   "cell_type": "code",
   "execution_count": 18,
   "id": "413ab38d",
   "metadata": {
    "execution": {
     "iopub.execute_input": "2025-05-15T16:00:21.814294Z",
     "iopub.status.busy": "2025-05-15T16:00:21.813925Z",
     "iopub.status.idle": "2025-05-15T16:00:21.818996Z",
     "shell.execute_reply": "2025-05-15T16:00:21.818572Z"
    },
    "papermill": {
     "duration": 0.014423,
     "end_time": "2025-05-15T16:00:21.820171",
     "exception": false,
     "start_time": "2025-05-15T16:00:21.805748",
     "status": "completed"
    },
    "tags": []
   },
   "outputs": [],
   "source": [
    "eval_metric=custom_f1_score\n",
    "eval_metric_name='custom_f1_score'\n",
    "\n",
    "def objective(trial):\n",
    "    params = {\n",
    "        'n_estimators': 1500,\n",
    "        'max_depth': trial.suggest_int('max_depth', 3, 20),\n",
    "        'min_child_weight': trial.suggest_int('min_child_weight', 1, 250),\n",
    "        'subsample': trial.suggest_float('subsample', 0.1, 1.0),\n",
    "        'colsample_bynode': trial.suggest_float('colsample_bynode', 0.1, 1.0),\n",
    "        'learning_rate': trial.suggest_float('learning_rate', 1e-3, 5e-1, log=True),\n",
    "    }\n",
    "    pruning_callback = optuna.integration.XGBoostPruningCallback(trial, f'validation_0-{eval_metric_name}')\n",
    "    es_callback = xgboost.callback.EarlyStopping(20, min_delta=0.001)\n",
    "    xgb = xgboost.XGBClassifier(\n",
    "        eval_metric=eval_metric,\n",
    "        callbacks=[pruning_callback, es_callback],\n",
    "        n_jobs=5,\n",
    "        **params\n",
    "    )\n",
    "    xgb.fit(\n",
    "        X_train, \n",
    "        y_train_enc, \n",
    "        verbose=0,\n",
    "        eval_set=[(X_val, y_val_enc)],\n",
    "    )\n",
    "    trial.set_user_attr('best_iteration', xgb.best_iteration)\n",
    "\n",
    "    return xgb.best_score"
   ]
  },
  {
   "cell_type": "code",
   "execution_count": 19,
   "id": "f14286dd",
   "metadata": {
    "execution": {
     "iopub.execute_input": "2025-05-15T16:00:21.835831Z",
     "iopub.status.busy": "2025-05-15T16:00:21.835364Z",
     "iopub.status.idle": "2025-05-15T16:22:21.148892Z",
     "shell.execute_reply": "2025-05-15T16:22:21.148471Z"
    },
    "papermill": {
     "duration": 1319.322697,
     "end_time": "2025-05-15T16:22:21.150070",
     "exception": false,
     "start_time": "2025-05-15T16:00:21.827373",
     "status": "completed"
    },
    "scrolled": true,
    "tags": []
   },
   "outputs": [
    {
     "name": "stderr",
     "output_type": "stream",
     "text": [
      "[I 2025-05-15 18:00:21,837] A new study created in memory with name: no-name-b9852ece-7639-4710-aeb0-ecc3117e5862\n"
     ]
    },
    {
     "name": "stderr",
     "output_type": "stream",
     "text": [
      "[I 2025-05-15 18:00:45,061] Trial 0 finished with value: -0.621858 and parameters: {'max_depth': 9, 'min_child_weight': 238, 'subsample': 0.7587945476302645, 'colsample_bynode': 0.6387926357773329, 'learning_rate': 0.0026368755339723046}. Best is trial 0 with value: -0.621858.\n"
     ]
    },
    {
     "name": "stderr",
     "output_type": "stream",
     "text": [
      "[I 2025-05-15 18:01:54,697] Trial 1 finished with value: -0.803335 and parameters: {'max_depth': 5, 'min_child_weight': 15, 'subsample': 0.8795585311974417, 'colsample_bynode': 0.6410035105688879, 'learning_rate': 0.08148293210105287}. Best is trial 1 with value: -0.803335.\n"
     ]
    },
    {
     "name": "stderr",
     "output_type": "stream",
     "text": [
      "[I 2025-05-15 18:02:42,469] Trial 2 finished with value: -0.595225 and parameters: {'max_depth': 3, 'min_child_weight': 243, 'subsample': 0.8491983767203796, 'colsample_bynode': 0.29110519961044856, 'learning_rate': 0.003095566460242371}. Best is trial 1 with value: -0.803335.\n"
     ]
    },
    {
     "name": "stderr",
     "output_type": "stream",
     "text": [
      "[I 2025-05-15 18:06:29,639] Trial 3 finished with value: -0.752179 and parameters: {'max_depth': 6, 'min_child_weight': 77, 'subsample': 0.5722807884690141, 'colsample_bynode': 0.48875051677790415, 'learning_rate': 0.006109683510122491}. Best is trial 1 with value: -0.803335.\n"
     ]
    },
    {
     "name": "stderr",
     "output_type": "stream",
     "text": [
      "[I 2025-05-15 18:09:30,136] Trial 4 finished with value: -0.792923 and parameters: {'max_depth': 14, 'min_child_weight': 35, 'subsample': 0.3629301836816964, 'colsample_bynode': 0.4297256589643226, 'learning_rate': 0.01701841881702917}. Best is trial 1 with value: -0.803335.\n"
     ]
    },
    {
     "name": "stderr",
     "output_type": "stream",
     "text": [
      "[I 2025-05-15 18:09:47,221] Trial 5 finished with value: -0.670749 and parameters: {'max_depth': 17, 'min_child_weight': 50, 'subsample': 0.5628109945722505, 'colsample_bynode': 0.6331731119758383, 'learning_rate': 0.0013346527038305934}. Best is trial 1 with value: -0.803335.\n"
     ]
    },
    {
     "name": "stderr",
     "output_type": "stream",
     "text": [
      "[I 2025-05-15 18:09:48,062] Trial 6 pruned. Trial was pruned at iteration 0.\n"
     ]
    },
    {
     "name": "stderr",
     "output_type": "stream",
     "text": [
      "[I 2025-05-15 18:09:49,170] Trial 7 pruned. Trial was pruned at iteration 1.\n"
     ]
    },
    {
     "name": "stderr",
     "output_type": "stream",
     "text": [
      "[I 2025-05-15 18:09:49,923] Trial 8 pruned. Trial was pruned at iteration 0.\n"
     ]
    },
    {
     "name": "stderr",
     "output_type": "stream",
     "text": [
      "[I 2025-05-15 18:09:57,372] Trial 9 pruned. Trial was pruned at iteration 18.\n"
     ]
    },
    {
     "name": "stderr",
     "output_type": "stream",
     "text": [
      "[I 2025-05-15 18:10:47,030] Trial 10 finished with value: -0.803359 and parameters: {'max_depth': 9, 'min_child_weight': 2, 'subsample': 0.9725833997090791, 'colsample_bynode': 0.11616568805333755, 'learning_rate': 0.17780618353487967}. Best is trial 10 with value: -0.803359.\n"
     ]
    },
    {
     "name": "stderr",
     "output_type": "stream",
     "text": [
      "[I 2025-05-15 18:11:52,571] Trial 11 finished with value: -0.80496 and parameters: {'max_depth': 9, 'min_child_weight': 4, 'subsample': 0.9818290990185045, 'colsample_bynode': 0.17702656156719, 'learning_rate': 0.11568531411766632}. Best is trial 11 with value: -0.80496.\n"
     ]
    },
    {
     "name": "stderr",
     "output_type": "stream",
     "text": [
      "[I 2025-05-15 18:12:45,771] Trial 12 finished with value: -0.802558 and parameters: {'max_depth': 9, 'min_child_weight': 2, 'subsample': 0.9762317723681219, 'colsample_bynode': 0.1303670507685675, 'learning_rate': 0.14353293664472047}. Best is trial 11 with value: -0.80496.\n"
     ]
    },
    {
     "name": "stderr",
     "output_type": "stream",
     "text": [
      "[I 2025-05-15 18:12:46,565] Trial 13 pruned. Trial was pruned at iteration 0.\n"
     ]
    },
    {
     "name": "stderr",
     "output_type": "stream",
     "text": [
      "[I 2025-05-15 18:12:47,334] Trial 14 pruned. Trial was pruned at iteration 0.\n"
     ]
    },
    {
     "name": "stderr",
     "output_type": "stream",
     "text": [
      "[I 2025-05-15 18:14:27,243] Trial 15 pruned. Trial was pruned at iteration 91.\n"
     ]
    },
    {
     "name": "stderr",
     "output_type": "stream",
     "text": [
      "[I 2025-05-15 18:14:28,166] Trial 16 pruned. Trial was pruned at iteration 0.\n"
     ]
    },
    {
     "name": "stderr",
     "output_type": "stream",
     "text": [
      "[I 2025-05-15 18:14:28,948] Trial 17 pruned. Trial was pruned at iteration 0.\n"
     ]
    },
    {
     "name": "stderr",
     "output_type": "stream",
     "text": [
      "[I 2025-05-15 18:15:16,911] Trial 18 finished with value: -0.802374 and parameters: {'max_depth': 12, 'min_child_weight': 35, 'subsample': 0.8272602031120428, 'colsample_bynode': 0.8109691196781996, 'learning_rate': 0.20046188160978387}. Best is trial 11 with value: -0.80496.\n"
     ]
    },
    {
     "name": "stderr",
     "output_type": "stream",
     "text": [
      "[I 2025-05-15 18:15:35,589] Trial 19 pruned. Trial was pruned at iteration 48.\n"
     ]
    },
    {
     "name": "stderr",
     "output_type": "stream",
     "text": [
      "[I 2025-05-15 18:15:36,392] Trial 20 pruned. Trial was pruned at iteration 0.\n"
     ]
    },
    {
     "name": "stderr",
     "output_type": "stream",
     "text": [
      "[I 2025-05-15 18:15:37,172] Trial 21 pruned. Trial was pruned at iteration 0.\n"
     ]
    },
    {
     "name": "stderr",
     "output_type": "stream",
     "text": [
      "[I 2025-05-15 18:15:37,980] Trial 22 pruned. Trial was pruned at iteration 0.\n"
     ]
    },
    {
     "name": "stderr",
     "output_type": "stream",
     "text": [
      "[I 2025-05-15 18:15:38,729] Trial 23 pruned. Trial was pruned at iteration 0.\n"
     ]
    },
    {
     "name": "stderr",
     "output_type": "stream",
     "text": [
      "[I 2025-05-15 18:15:57,647] Trial 24 pruned. Trial was pruned at iteration 41.\n"
     ]
    },
    {
     "name": "stderr",
     "output_type": "stream",
     "text": [
      "[I 2025-05-15 18:15:58,900] Trial 25 pruned. Trial was pruned at iteration 1.\n"
     ]
    },
    {
     "name": "stderr",
     "output_type": "stream",
     "text": [
      "[I 2025-05-15 18:16:27,494] Trial 26 pruned. Trial was pruned at iteration 72.\n"
     ]
    },
    {
     "name": "stderr",
     "output_type": "stream",
     "text": [
      "[I 2025-05-15 18:16:29,017] Trial 27 pruned. Trial was pruned at iteration 2.\n"
     ]
    },
    {
     "name": "stderr",
     "output_type": "stream",
     "text": [
      "[I 2025-05-15 18:16:29,777] Trial 28 pruned. Trial was pruned at iteration 0.\n"
     ]
    },
    {
     "name": "stderr",
     "output_type": "stream",
     "text": [
      "[I 2025-05-15 18:16:30,610] Trial 29 pruned. Trial was pruned at iteration 0.\n"
     ]
    },
    {
     "name": "stderr",
     "output_type": "stream",
     "text": [
      "[I 2025-05-15 18:16:31,357] Trial 30 pruned. Trial was pruned at iteration 0.\n"
     ]
    },
    {
     "name": "stderr",
     "output_type": "stream",
     "text": [
      "[I 2025-05-15 18:16:32,712] Trial 31 pruned. Trial was pruned at iteration 1.\n"
     ]
    },
    {
     "name": "stderr",
     "output_type": "stream",
     "text": [
      "[I 2025-05-15 18:17:09,844] Trial 32 finished with value: -0.805642 and parameters: {'max_depth': 10, 'min_child_weight': 17, 'subsample': 0.8617831425142481, 'colsample_bynode': 0.14902903692488487, 'learning_rate': 0.30715915714167435}. Best is trial 32 with value: -0.805642.\n"
     ]
    },
    {
     "name": "stderr",
     "output_type": "stream",
     "text": [
      "[I 2025-05-15 18:17:10,707] Trial 33 pruned. Trial was pruned at iteration 0.\n"
     ]
    },
    {
     "name": "stderr",
     "output_type": "stream",
     "text": [
      "[I 2025-05-15 18:17:36,735] Trial 34 finished with value: -0.795091 and parameters: {'max_depth': 10, 'min_child_weight': 30, 'subsample': 0.8110296135589024, 'colsample_bynode': 0.3101419356951871, 'learning_rate': 0.46295381502259403}. Best is trial 32 with value: -0.805642.\n"
     ]
    },
    {
     "name": "stderr",
     "output_type": "stream",
     "text": [
      "[I 2025-05-15 18:18:17,085] Trial 35 finished with value: -0.804357 and parameters: {'max_depth': 15, 'min_child_weight': 18, 'subsample': 0.7375709013743592, 'colsample_bynode': 0.302466050943516, 'learning_rate': 0.20104527075450884}. Best is trial 32 with value: -0.805642.\n"
     ]
    },
    {
     "name": "stderr",
     "output_type": "stream",
     "text": [
      "[I 2025-05-15 18:18:42,490] Trial 36 finished with value: -0.795195 and parameters: {'max_depth': 16, 'min_child_weight': 39, 'subsample': 0.7341324084112586, 'colsample_bynode': 0.3096805548387165, 'learning_rate': 0.3251079834099323}. Best is trial 32 with value: -0.805642.\n"
     ]
    },
    {
     "name": "stderr",
     "output_type": "stream",
     "text": [
      "[I 2025-05-15 18:18:43,204] Trial 37 pruned. Trial was pruned at iteration 0.\n"
     ]
    },
    {
     "name": "stderr",
     "output_type": "stream",
     "text": [
      "[I 2025-05-15 18:18:44,000] Trial 38 pruned. Trial was pruned at iteration 0.\n"
     ]
    },
    {
     "name": "stderr",
     "output_type": "stream",
     "text": [
      "[I 2025-05-15 18:18:44,756] Trial 39 pruned. Trial was pruned at iteration 0.\n"
     ]
    },
    {
     "name": "stderr",
     "output_type": "stream",
     "text": [
      "[I 2025-05-15 18:18:45,507] Trial 40 pruned. Trial was pruned at iteration 0.\n"
     ]
    },
    {
     "name": "stderr",
     "output_type": "stream",
     "text": [
      "[I 2025-05-15 18:20:07,896] Trial 41 finished with value: -0.811354 and parameters: {'max_depth': 18, 'min_child_weight': 15, 'subsample': 0.8613958434542414, 'colsample_bynode': 0.2777332949706098, 'learning_rate': 0.16214293310720948}. Best is trial 41 with value: -0.811354.\n"
     ]
    },
    {
     "name": "stderr",
     "output_type": "stream",
     "text": [
      "[I 2025-05-15 18:20:39,113] Trial 42 finished with value: -0.79728 and parameters: {'max_depth': 19, 'min_child_weight': 16, 'subsample': 0.7615015072018719, 'colsample_bynode': 0.4203532605552819, 'learning_rate': 0.2965223641907082}. Best is trial 41 with value: -0.811354.\n"
     ]
    },
    {
     "name": "stderr",
     "output_type": "stream",
     "text": [
      "[I 2025-05-15 18:20:39,816] Trial 43 pruned. Trial was pruned at iteration 0.\n"
     ]
    },
    {
     "name": "stderr",
     "output_type": "stream",
     "text": [
      "[I 2025-05-15 18:21:26,731] Trial 44 finished with value: -0.808634 and parameters: {'max_depth': 15, 'min_child_weight': 11, 'subsample': 0.8494579523866371, 'colsample_bynode': 0.33245000804431724, 'learning_rate': 0.23776476323736}. Best is trial 41 with value: -0.811354.\n"
     ]
    },
    {
     "name": "stderr",
     "output_type": "stream",
     "text": [
      "[I 2025-05-15 18:21:51,799] Trial 45 pruned. Trial was pruned at iteration 86.\n"
     ]
    },
    {
     "name": "stderr",
     "output_type": "stream",
     "text": [
      "[I 2025-05-15 18:21:56,990] Trial 46 pruned. Trial was pruned at iteration 8.\n"
     ]
    },
    {
     "name": "stderr",
     "output_type": "stream",
     "text": [
      "[I 2025-05-15 18:21:57,703] Trial 47 pruned. Trial was pruned at iteration 0.\n"
     ]
    },
    {
     "name": "stderr",
     "output_type": "stream",
     "text": [
      "[I 2025-05-15 18:22:14,734] Trial 48 finished with value: -0.793845 and parameters: {'max_depth': 14, 'min_child_weight': 52, 'subsample': 0.8960677443938032, 'colsample_bynode': 0.3338169735924668, 'learning_rate': 0.494694924837157}. Best is trial 41 with value: -0.811354.\n"
     ]
    },
    {
     "name": "stderr",
     "output_type": "stream",
     "text": [
      "[I 2025-05-15 18:22:21,056] Trial 49 pruned. Trial was pruned at iteration 15.\n"
     ]
    }
   ],
   "source": [
    "sampler = optuna.samplers.TPESampler(seed=42)\n",
    "study = optuna.create_study(direction='minimize', sampler=sampler)\n",
    "study.optimize(objective, n_trials=N_TRIALS, gc_after_trial=True)"
   ]
  },
  {
   "cell_type": "code",
   "execution_count": 20,
   "id": "0906eeda",
   "metadata": {
    "execution": {
     "iopub.execute_input": "2025-05-15T16:22:21.188940Z",
     "iopub.status.busy": "2025-05-15T16:22:21.188729Z",
     "iopub.status.idle": "2025-05-15T16:22:21.216161Z",
     "shell.execute_reply": "2025-05-15T16:22:21.215828Z"
    },
    "papermill": {
     "duration": 0.053013,
     "end_time": "2025-05-15T16:22:21.217076",
     "exception": false,
     "start_time": "2025-05-15T16:22:21.164063",
     "status": "completed"
    },
    "tags": []
   },
   "outputs": [
    {
     "data": {
      "text/plain": [
       "['/scratch_isilon/groups/singlecell/shared/projects/Inflammation-PBMCs-Atlas/03_downstream_analysis/08_gene_importance/xgboost_external_validation/xgboost_TopN_genes/results_20/study/Mono_17_2_xgboost.pkl']"
      ]
     },
     "execution_count": 20,
     "metadata": {},
     "output_type": "execute_result"
    }
   ],
   "source": [
    "out_dir = here(f'03_downstream_analysis/08_gene_importance/xgboost_external_validation/xgboost_TopN_genes/results_{N_GENES}/study')\n",
    "\n",
    "if not os.path.exists(out_dir):\n",
    "    os.makedirs(out_dir)\n",
    "    \n",
    "joblib.dump(study,os.path.join(out_dir, f'{CELL_TYPE}_{SEED}_{TEST_SPLIT_IDX}_xgboost.pkl'))"
   ]
  },
  {
   "cell_type": "code",
   "execution_count": 21,
   "id": "a9690a72",
   "metadata": {
    "execution": {
     "iopub.execute_input": "2025-05-15T16:22:21.245443Z",
     "iopub.status.busy": "2025-05-15T16:22:21.245132Z",
     "iopub.status.idle": "2025-05-15T16:23:06.126912Z",
     "shell.execute_reply": "2025-05-15T16:23:06.126495Z"
    },
    "papermill": {
     "duration": 44.931023,
     "end_time": "2025-05-15T16:23:06.156018",
     "exception": false,
     "start_time": "2025-05-15T16:22:21.224995",
     "status": "completed"
    },
    "tags": []
   },
   "outputs": [
    {
     "data": {
      "text/html": [
       "<style>#sk-container-id-1 {\n",
       "  /* Definition of color scheme common for light and dark mode */\n",
       "  --sklearn-color-text: black;\n",
       "  --sklearn-color-line: gray;\n",
       "  /* Definition of color scheme for unfitted estimators */\n",
       "  --sklearn-color-unfitted-level-0: #fff5e6;\n",
       "  --sklearn-color-unfitted-level-1: #f6e4d2;\n",
       "  --sklearn-color-unfitted-level-2: #ffe0b3;\n",
       "  --sklearn-color-unfitted-level-3: chocolate;\n",
       "  /* Definition of color scheme for fitted estimators */\n",
       "  --sklearn-color-fitted-level-0: #f0f8ff;\n",
       "  --sklearn-color-fitted-level-1: #d4ebff;\n",
       "  --sklearn-color-fitted-level-2: #b3dbfd;\n",
       "  --sklearn-color-fitted-level-3: cornflowerblue;\n",
       "\n",
       "  /* Specific color for light theme */\n",
       "  --sklearn-color-text-on-default-background: var(--sg-text-color, var(--theme-code-foreground, var(--jp-content-font-color1, black)));\n",
       "  --sklearn-color-background: var(--sg-background-color, var(--theme-background, var(--jp-layout-color0, white)));\n",
       "  --sklearn-color-border-box: var(--sg-text-color, var(--theme-code-foreground, var(--jp-content-font-color1, black)));\n",
       "  --sklearn-color-icon: #696969;\n",
       "\n",
       "  @media (prefers-color-scheme: dark) {\n",
       "    /* Redefinition of color scheme for dark theme */\n",
       "    --sklearn-color-text-on-default-background: var(--sg-text-color, var(--theme-code-foreground, var(--jp-content-font-color1, white)));\n",
       "    --sklearn-color-background: var(--sg-background-color, var(--theme-background, var(--jp-layout-color0, #111)));\n",
       "    --sklearn-color-border-box: var(--sg-text-color, var(--theme-code-foreground, var(--jp-content-font-color1, white)));\n",
       "    --sklearn-color-icon: #878787;\n",
       "  }\n",
       "}\n",
       "\n",
       "#sk-container-id-1 {\n",
       "  color: var(--sklearn-color-text);\n",
       "}\n",
       "\n",
       "#sk-container-id-1 pre {\n",
       "  padding: 0;\n",
       "}\n",
       "\n",
       "#sk-container-id-1 input.sk-hidden--visually {\n",
       "  border: 0;\n",
       "  clip: rect(1px 1px 1px 1px);\n",
       "  clip: rect(1px, 1px, 1px, 1px);\n",
       "  height: 1px;\n",
       "  margin: -1px;\n",
       "  overflow: hidden;\n",
       "  padding: 0;\n",
       "  position: absolute;\n",
       "  width: 1px;\n",
       "}\n",
       "\n",
       "#sk-container-id-1 div.sk-dashed-wrapped {\n",
       "  border: 1px dashed var(--sklearn-color-line);\n",
       "  margin: 0 0.4em 0.5em 0.4em;\n",
       "  box-sizing: border-box;\n",
       "  padding-bottom: 0.4em;\n",
       "  background-color: var(--sklearn-color-background);\n",
       "}\n",
       "\n",
       "#sk-container-id-1 div.sk-container {\n",
       "  /* jupyter's `normalize.less` sets `[hidden] { display: none; }`\n",
       "     but bootstrap.min.css set `[hidden] { display: none !important; }`\n",
       "     so we also need the `!important` here to be able to override the\n",
       "     default hidden behavior on the sphinx rendered scikit-learn.org.\n",
       "     See: https://github.com/scikit-learn/scikit-learn/issues/21755 */\n",
       "  display: inline-block !important;\n",
       "  position: relative;\n",
       "}\n",
       "\n",
       "#sk-container-id-1 div.sk-text-repr-fallback {\n",
       "  display: none;\n",
       "}\n",
       "\n",
       "div.sk-parallel-item,\n",
       "div.sk-serial,\n",
       "div.sk-item {\n",
       "  /* draw centered vertical line to link estimators */\n",
       "  background-image: linear-gradient(var(--sklearn-color-text-on-default-background), var(--sklearn-color-text-on-default-background));\n",
       "  background-size: 2px 100%;\n",
       "  background-repeat: no-repeat;\n",
       "  background-position: center center;\n",
       "}\n",
       "\n",
       "/* Parallel-specific style estimator block */\n",
       "\n",
       "#sk-container-id-1 div.sk-parallel-item::after {\n",
       "  content: \"\";\n",
       "  width: 100%;\n",
       "  border-bottom: 2px solid var(--sklearn-color-text-on-default-background);\n",
       "  flex-grow: 1;\n",
       "}\n",
       "\n",
       "#sk-container-id-1 div.sk-parallel {\n",
       "  display: flex;\n",
       "  align-items: stretch;\n",
       "  justify-content: center;\n",
       "  background-color: var(--sklearn-color-background);\n",
       "  position: relative;\n",
       "}\n",
       "\n",
       "#sk-container-id-1 div.sk-parallel-item {\n",
       "  display: flex;\n",
       "  flex-direction: column;\n",
       "}\n",
       "\n",
       "#sk-container-id-1 div.sk-parallel-item:first-child::after {\n",
       "  align-self: flex-end;\n",
       "  width: 50%;\n",
       "}\n",
       "\n",
       "#sk-container-id-1 div.sk-parallel-item:last-child::after {\n",
       "  align-self: flex-start;\n",
       "  width: 50%;\n",
       "}\n",
       "\n",
       "#sk-container-id-1 div.sk-parallel-item:only-child::after {\n",
       "  width: 0;\n",
       "}\n",
       "\n",
       "/* Serial-specific style estimator block */\n",
       "\n",
       "#sk-container-id-1 div.sk-serial {\n",
       "  display: flex;\n",
       "  flex-direction: column;\n",
       "  align-items: center;\n",
       "  background-color: var(--sklearn-color-background);\n",
       "  padding-right: 1em;\n",
       "  padding-left: 1em;\n",
       "}\n",
       "\n",
       "\n",
       "/* Toggleable style: style used for estimator/Pipeline/ColumnTransformer box that is\n",
       "clickable and can be expanded/collapsed.\n",
       "- Pipeline and ColumnTransformer use this feature and define the default style\n",
       "- Estimators will overwrite some part of the style using the `sk-estimator` class\n",
       "*/\n",
       "\n",
       "/* Pipeline and ColumnTransformer style (default) */\n",
       "\n",
       "#sk-container-id-1 div.sk-toggleable {\n",
       "  /* Default theme specific background. It is overwritten whether we have a\n",
       "  specific estimator or a Pipeline/ColumnTransformer */\n",
       "  background-color: var(--sklearn-color-background);\n",
       "}\n",
       "\n",
       "/* Toggleable label */\n",
       "#sk-container-id-1 label.sk-toggleable__label {\n",
       "  cursor: pointer;\n",
       "  display: block;\n",
       "  width: 100%;\n",
       "  margin-bottom: 0;\n",
       "  padding: 0.5em;\n",
       "  box-sizing: border-box;\n",
       "  text-align: center;\n",
       "}\n",
       "\n",
       "#sk-container-id-1 label.sk-toggleable__label-arrow:before {\n",
       "  /* Arrow on the left of the label */\n",
       "  content: \"▸\";\n",
       "  float: left;\n",
       "  margin-right: 0.25em;\n",
       "  color: var(--sklearn-color-icon);\n",
       "}\n",
       "\n",
       "#sk-container-id-1 label.sk-toggleable__label-arrow:hover:before {\n",
       "  color: var(--sklearn-color-text);\n",
       "}\n",
       "\n",
       "/* Toggleable content - dropdown */\n",
       "\n",
       "#sk-container-id-1 div.sk-toggleable__content {\n",
       "  max-height: 0;\n",
       "  max-width: 0;\n",
       "  overflow: hidden;\n",
       "  text-align: left;\n",
       "  /* unfitted */\n",
       "  background-color: var(--sklearn-color-unfitted-level-0);\n",
       "}\n",
       "\n",
       "#sk-container-id-1 div.sk-toggleable__content.fitted {\n",
       "  /* fitted */\n",
       "  background-color: var(--sklearn-color-fitted-level-0);\n",
       "}\n",
       "\n",
       "#sk-container-id-1 div.sk-toggleable__content pre {\n",
       "  margin: 0.2em;\n",
       "  border-radius: 0.25em;\n",
       "  color: var(--sklearn-color-text);\n",
       "  /* unfitted */\n",
       "  background-color: var(--sklearn-color-unfitted-level-0);\n",
       "}\n",
       "\n",
       "#sk-container-id-1 div.sk-toggleable__content.fitted pre {\n",
       "  /* unfitted */\n",
       "  background-color: var(--sklearn-color-fitted-level-0);\n",
       "}\n",
       "\n",
       "#sk-container-id-1 input.sk-toggleable__control:checked~div.sk-toggleable__content {\n",
       "  /* Expand drop-down */\n",
       "  max-height: 200px;\n",
       "  max-width: 100%;\n",
       "  overflow: auto;\n",
       "}\n",
       "\n",
       "#sk-container-id-1 input.sk-toggleable__control:checked~label.sk-toggleable__label-arrow:before {\n",
       "  content: \"▾\";\n",
       "}\n",
       "\n",
       "/* Pipeline/ColumnTransformer-specific style */\n",
       "\n",
       "#sk-container-id-1 div.sk-label input.sk-toggleable__control:checked~label.sk-toggleable__label {\n",
       "  color: var(--sklearn-color-text);\n",
       "  background-color: var(--sklearn-color-unfitted-level-2);\n",
       "}\n",
       "\n",
       "#sk-container-id-1 div.sk-label.fitted input.sk-toggleable__control:checked~label.sk-toggleable__label {\n",
       "  background-color: var(--sklearn-color-fitted-level-2);\n",
       "}\n",
       "\n",
       "/* Estimator-specific style */\n",
       "\n",
       "/* Colorize estimator box */\n",
       "#sk-container-id-1 div.sk-estimator input.sk-toggleable__control:checked~label.sk-toggleable__label {\n",
       "  /* unfitted */\n",
       "  background-color: var(--sklearn-color-unfitted-level-2);\n",
       "}\n",
       "\n",
       "#sk-container-id-1 div.sk-estimator.fitted input.sk-toggleable__control:checked~label.sk-toggleable__label {\n",
       "  /* fitted */\n",
       "  background-color: var(--sklearn-color-fitted-level-2);\n",
       "}\n",
       "\n",
       "#sk-container-id-1 div.sk-label label.sk-toggleable__label,\n",
       "#sk-container-id-1 div.sk-label label {\n",
       "  /* The background is the default theme color */\n",
       "  color: var(--sklearn-color-text-on-default-background);\n",
       "}\n",
       "\n",
       "/* On hover, darken the color of the background */\n",
       "#sk-container-id-1 div.sk-label:hover label.sk-toggleable__label {\n",
       "  color: var(--sklearn-color-text);\n",
       "  background-color: var(--sklearn-color-unfitted-level-2);\n",
       "}\n",
       "\n",
       "/* Label box, darken color on hover, fitted */\n",
       "#sk-container-id-1 div.sk-label.fitted:hover label.sk-toggleable__label.fitted {\n",
       "  color: var(--sklearn-color-text);\n",
       "  background-color: var(--sklearn-color-fitted-level-2);\n",
       "}\n",
       "\n",
       "/* Estimator label */\n",
       "\n",
       "#sk-container-id-1 div.sk-label label {\n",
       "  font-family: monospace;\n",
       "  font-weight: bold;\n",
       "  display: inline-block;\n",
       "  line-height: 1.2em;\n",
       "}\n",
       "\n",
       "#sk-container-id-1 div.sk-label-container {\n",
       "  text-align: center;\n",
       "}\n",
       "\n",
       "/* Estimator-specific */\n",
       "#sk-container-id-1 div.sk-estimator {\n",
       "  font-family: monospace;\n",
       "  border: 1px dotted var(--sklearn-color-border-box);\n",
       "  border-radius: 0.25em;\n",
       "  box-sizing: border-box;\n",
       "  margin-bottom: 0.5em;\n",
       "  /* unfitted */\n",
       "  background-color: var(--sklearn-color-unfitted-level-0);\n",
       "}\n",
       "\n",
       "#sk-container-id-1 div.sk-estimator.fitted {\n",
       "  /* fitted */\n",
       "  background-color: var(--sklearn-color-fitted-level-0);\n",
       "}\n",
       "\n",
       "/* on hover */\n",
       "#sk-container-id-1 div.sk-estimator:hover {\n",
       "  /* unfitted */\n",
       "  background-color: var(--sklearn-color-unfitted-level-2);\n",
       "}\n",
       "\n",
       "#sk-container-id-1 div.sk-estimator.fitted:hover {\n",
       "  /* fitted */\n",
       "  background-color: var(--sklearn-color-fitted-level-2);\n",
       "}\n",
       "\n",
       "/* Specification for estimator info (e.g. \"i\" and \"?\") */\n",
       "\n",
       "/* Common style for \"i\" and \"?\" */\n",
       "\n",
       ".sk-estimator-doc-link,\n",
       "a:link.sk-estimator-doc-link,\n",
       "a:visited.sk-estimator-doc-link {\n",
       "  float: right;\n",
       "  font-size: smaller;\n",
       "  line-height: 1em;\n",
       "  font-family: monospace;\n",
       "  background-color: var(--sklearn-color-background);\n",
       "  border-radius: 1em;\n",
       "  height: 1em;\n",
       "  width: 1em;\n",
       "  text-decoration: none !important;\n",
       "  margin-left: 1ex;\n",
       "  /* unfitted */\n",
       "  border: var(--sklearn-color-unfitted-level-1) 1pt solid;\n",
       "  color: var(--sklearn-color-unfitted-level-1);\n",
       "}\n",
       "\n",
       ".sk-estimator-doc-link.fitted,\n",
       "a:link.sk-estimator-doc-link.fitted,\n",
       "a:visited.sk-estimator-doc-link.fitted {\n",
       "  /* fitted */\n",
       "  border: var(--sklearn-color-fitted-level-1) 1pt solid;\n",
       "  color: var(--sklearn-color-fitted-level-1);\n",
       "}\n",
       "\n",
       "/* On hover */\n",
       "div.sk-estimator:hover .sk-estimator-doc-link:hover,\n",
       ".sk-estimator-doc-link:hover,\n",
       "div.sk-label-container:hover .sk-estimator-doc-link:hover,\n",
       ".sk-estimator-doc-link:hover {\n",
       "  /* unfitted */\n",
       "  background-color: var(--sklearn-color-unfitted-level-3);\n",
       "  color: var(--sklearn-color-background);\n",
       "  text-decoration: none;\n",
       "}\n",
       "\n",
       "div.sk-estimator.fitted:hover .sk-estimator-doc-link.fitted:hover,\n",
       ".sk-estimator-doc-link.fitted:hover,\n",
       "div.sk-label-container:hover .sk-estimator-doc-link.fitted:hover,\n",
       ".sk-estimator-doc-link.fitted:hover {\n",
       "  /* fitted */\n",
       "  background-color: var(--sklearn-color-fitted-level-3);\n",
       "  color: var(--sklearn-color-background);\n",
       "  text-decoration: none;\n",
       "}\n",
       "\n",
       "/* Span, style for the box shown on hovering the info icon */\n",
       ".sk-estimator-doc-link span {\n",
       "  display: none;\n",
       "  z-index: 9999;\n",
       "  position: relative;\n",
       "  font-weight: normal;\n",
       "  right: .2ex;\n",
       "  padding: .5ex;\n",
       "  margin: .5ex;\n",
       "  width: min-content;\n",
       "  min-width: 20ex;\n",
       "  max-width: 50ex;\n",
       "  color: var(--sklearn-color-text);\n",
       "  box-shadow: 2pt 2pt 4pt #999;\n",
       "  /* unfitted */\n",
       "  background: var(--sklearn-color-unfitted-level-0);\n",
       "  border: .5pt solid var(--sklearn-color-unfitted-level-3);\n",
       "}\n",
       "\n",
       ".sk-estimator-doc-link.fitted span {\n",
       "  /* fitted */\n",
       "  background: var(--sklearn-color-fitted-level-0);\n",
       "  border: var(--sklearn-color-fitted-level-3);\n",
       "}\n",
       "\n",
       ".sk-estimator-doc-link:hover span {\n",
       "  display: block;\n",
       "}\n",
       "\n",
       "/* \"?\"-specific style due to the `<a>` HTML tag */\n",
       "\n",
       "#sk-container-id-1 a.estimator_doc_link {\n",
       "  float: right;\n",
       "  font-size: 1rem;\n",
       "  line-height: 1em;\n",
       "  font-family: monospace;\n",
       "  background-color: var(--sklearn-color-background);\n",
       "  border-radius: 1rem;\n",
       "  height: 1rem;\n",
       "  width: 1rem;\n",
       "  text-decoration: none;\n",
       "  /* unfitted */\n",
       "  color: var(--sklearn-color-unfitted-level-1);\n",
       "  border: var(--sklearn-color-unfitted-level-1) 1pt solid;\n",
       "}\n",
       "\n",
       "#sk-container-id-1 a.estimator_doc_link.fitted {\n",
       "  /* fitted */\n",
       "  border: var(--sklearn-color-fitted-level-1) 1pt solid;\n",
       "  color: var(--sklearn-color-fitted-level-1);\n",
       "}\n",
       "\n",
       "/* On hover */\n",
       "#sk-container-id-1 a.estimator_doc_link:hover {\n",
       "  /* unfitted */\n",
       "  background-color: var(--sklearn-color-unfitted-level-3);\n",
       "  color: var(--sklearn-color-background);\n",
       "  text-decoration: none;\n",
       "}\n",
       "\n",
       "#sk-container-id-1 a.estimator_doc_link.fitted:hover {\n",
       "  /* fitted */\n",
       "  background-color: var(--sklearn-color-fitted-level-3);\n",
       "}\n",
       "</style><div id=\"sk-container-id-1\" class=\"sk-top-container\"><div class=\"sk-text-repr-fallback\"><pre>XGBClassifier(base_score=None, booster=None, callbacks=None,\n",
       "              colsample_bylevel=None, colsample_bynode=0.2777332949706098,\n",
       "              colsample_bytree=None, device=None, early_stopping_rounds=None,\n",
       "              enable_categorical=False,\n",
       "              eval_metric=&lt;function custom_f1_score at 0x7fdd319c4040&gt;,\n",
       "              feature_types=None, gamma=None, grow_policy=None,\n",
       "              importance_type=None, interaction_constraints=None,\n",
       "              learning_rate=0.16214293310720948, max_bin=None,\n",
       "              max_cat_threshold=None, max_cat_to_onehot=None,\n",
       "              max_delta_step=None, max_depth=18, max_leaves=None,\n",
       "              min_child_weight=15, missing=nan, monotone_constraints=None,\n",
       "              multi_strategy=None, n_estimators=244, n_jobs=None,\n",
       "              num_parallel_tree=None, objective=&#x27;multi:softprob&#x27;, ...)</pre><b>In a Jupyter environment, please rerun this cell to show the HTML representation or trust the notebook. <br />On GitHub, the HTML representation is unable to render, please try loading this page with nbviewer.org.</b></div><div class=\"sk-container\" hidden><div class=\"sk-item\"><div class=\"sk-estimator fitted sk-toggleable\"><input class=\"sk-toggleable__control sk-hidden--visually\" id=\"sk-estimator-id-1\" type=\"checkbox\" checked><label for=\"sk-estimator-id-1\" class=\"sk-toggleable__label fitted sk-toggleable__label-arrow fitted\">&nbsp;XGBClassifier<span class=\"sk-estimator-doc-link fitted\">i<span>Fitted</span></span></label><div class=\"sk-toggleable__content fitted\"><pre>XGBClassifier(base_score=None, booster=None, callbacks=None,\n",
       "              colsample_bylevel=None, colsample_bynode=0.2777332949706098,\n",
       "              colsample_bytree=None, device=None, early_stopping_rounds=None,\n",
       "              enable_categorical=False,\n",
       "              eval_metric=&lt;function custom_f1_score at 0x7fdd319c4040&gt;,\n",
       "              feature_types=None, gamma=None, grow_policy=None,\n",
       "              importance_type=None, interaction_constraints=None,\n",
       "              learning_rate=0.16214293310720948, max_bin=None,\n",
       "              max_cat_threshold=None, max_cat_to_onehot=None,\n",
       "              max_delta_step=None, max_depth=18, max_leaves=None,\n",
       "              min_child_weight=15, missing=nan, monotone_constraints=None,\n",
       "              multi_strategy=None, n_estimators=244, n_jobs=None,\n",
       "              num_parallel_tree=None, objective=&#x27;multi:softprob&#x27;, ...)</pre></div> </div></div></div></div>"
      ],
      "text/plain": [
       "XGBClassifier(base_score=None, booster=None, callbacks=None,\n",
       "              colsample_bylevel=None, colsample_bynode=0.2777332949706098,\n",
       "              colsample_bytree=None, device=None, early_stopping_rounds=None,\n",
       "              enable_categorical=False,\n",
       "              eval_metric=<function custom_f1_score at 0x7fdd319c4040>,\n",
       "              feature_types=None, gamma=None, grow_policy=None,\n",
       "              importance_type=None, interaction_constraints=None,\n",
       "              learning_rate=0.16214293310720948, max_bin=None,\n",
       "              max_cat_threshold=None, max_cat_to_onehot=None,\n",
       "              max_delta_step=None, max_depth=18, max_leaves=None,\n",
       "              min_child_weight=15, missing=nan, monotone_constraints=None,\n",
       "              multi_strategy=None, n_estimators=244, n_jobs=None,\n",
       "              num_parallel_tree=None, objective='multi:softprob', ...)"
      ]
     },
     "execution_count": 21,
     "metadata": {},
     "output_type": "execute_result"
    }
   ],
   "source": [
    "n_estimators = int(study.best_trial.user_attrs['best_iteration']*1.2)\n",
    "xgb = xgboost.XGBClassifier(\n",
    "        eval_metric=eval_metric,\n",
    "        n_estimators=n_estimators,\n",
    "        **study.best_trial.params\n",
    "    )\n",
    "xgb.fit(\n",
    "    ssp.vstack((X_train, X_val)), \n",
    "    np.concatenate((y_train_enc, y_val_enc)),\n",
    "    verbose=1,\n",
    ")"
   ]
  },
  {
   "cell_type": "code",
   "execution_count": 22,
   "id": "184b68bc",
   "metadata": {
    "execution": {
     "iopub.execute_input": "2025-05-15T16:23:06.208149Z",
     "iopub.status.busy": "2025-05-15T16:23:06.207788Z",
     "iopub.status.idle": "2025-05-15T16:23:06.412749Z",
     "shell.execute_reply": "2025-05-15T16:23:06.412381Z"
    },
    "papermill": {
     "duration": 0.236835,
     "end_time": "2025-05-15T16:23:06.413851",
     "exception": false,
     "start_time": "2025-05-15T16:23:06.177016",
     "status": "completed"
    },
    "tags": []
   },
   "outputs": [
    {
     "data": {
      "text/plain": [
       "['/scratch_isilon/groups/singlecell/shared/projects/Inflammation-PBMCs-Atlas/03_downstream_analysis/08_gene_importance/xgboost_external_validation/xgboost_TopN_genes/results_20/best_model/Mono_17_2_xgb.json']"
      ]
     },
     "execution_count": 22,
     "metadata": {},
     "output_type": "execute_result"
    }
   ],
   "source": [
    "out_dir = here(f'03_downstream_analysis/08_gene_importance/xgboost_external_validation/xgboost_TopN_genes/results_{N_GENES}/best_model')\n",
    "\n",
    "if not os.path.exists(out_dir):\n",
    "    os.makedirs(out_dir)\n",
    "    \n",
    "joblib.dump(xgb, os.path.join(out_dir, f'{CELL_TYPE}_{SEED}_{TEST_SPLIT_IDX}_xgb.json'))"
   ]
  },
  {
   "cell_type": "code",
   "execution_count": 23,
   "id": "f322faa4",
   "metadata": {
    "execution": {
     "iopub.execute_input": "2025-05-15T16:23:06.443264Z",
     "iopub.status.busy": "2025-05-15T16:23:06.443071Z",
     "iopub.status.idle": "2025-05-15T16:23:08.425236Z",
     "shell.execute_reply": "2025-05-15T16:23:08.424842Z"
    },
    "papermill": {
     "duration": 2.003593,
     "end_time": "2025-05-15T16:23:08.426449",
     "exception": false,
     "start_time": "2025-05-15T16:23:06.422856",
     "status": "completed"
    },
    "tags": []
   },
   "outputs": [],
   "source": [
    "df_pred_test = pd.DataFrame(dict(\n",
    "    cell_id=train_adata.obs.iloc[test_idxs].index.values,\n",
    "    y_true=y_test, \n",
    "    y_true_code=y_test_enc, \n",
    "    y_pred=xgb.predict(X_test))).set_index('cell_id')"
   ]
  },
  {
   "cell_type": "code",
   "execution_count": 24,
   "id": "90e2625b",
   "metadata": {
    "execution": {
     "iopub.execute_input": "2025-05-15T16:23:08.444994Z",
     "iopub.status.busy": "2025-05-15T16:23:08.444805Z",
     "iopub.status.idle": "2025-05-15T16:23:08.602794Z",
     "shell.execute_reply": "2025-05-15T16:23:08.602373Z"
    },
    "papermill": {
     "duration": 0.168464,
     "end_time": "2025-05-15T16:23:08.603987",
     "exception": false,
     "start_time": "2025-05-15T16:23:08.435523",
     "status": "completed"
    },
    "tags": []
   },
   "outputs": [],
   "source": [
    "out_dir = here(f'03_downstream_analysis/08_gene_importance/xgboost_external_validation/xgboost_TopN_genes/results_{N_GENES}/predictions')\n",
    "\n",
    "if not os.path.exists(out_dir):\n",
    "    os.makedirs(out_dir)\n",
    "    \n",
    "df_pred_test.to_csv(os.path.join(out_dir, f'{CELL_TYPE}_{SEED}_{TEST_SPLIT_IDX}_pred_test.zip'))"
   ]
  },
  {
   "cell_type": "code",
   "execution_count": 25,
   "id": "d7fb0c49",
   "metadata": {
    "execution": {
     "iopub.execute_input": "2025-05-15T16:23:08.640897Z",
     "iopub.status.busy": "2025-05-15T16:23:08.640688Z",
     "iopub.status.idle": "2025-05-15T16:23:08.661882Z",
     "shell.execute_reply": "2025-05-15T16:23:08.661531Z"
    },
    "papermill": {
     "duration": 0.031139,
     "end_time": "2025-05-15T16:23:08.662737",
     "exception": false,
     "start_time": "2025-05-15T16:23:08.631598",
     "status": "completed"
    },
    "tags": []
   },
   "outputs": [
    {
     "name": "stderr",
     "output_type": "stream",
     "text": [
      "/scratch_isilon/groups/singlecell/shared/conda_env/xgboost-cpu/lib/python3.12/site-packages/sklearn/metrics/_classification.py:2466: UserWarning: y_pred contains classes not in y_true\n",
      "  warnings.warn(\"y_pred contains classes not in y_true\")\n"
     ]
    }
   ],
   "source": [
    "metrics_dict = dict(\n",
    "    BAS=balanced_accuracy_score(y_true=df_pred_test.y_true_code, y_pred=df_pred_test.y_pred), WF1=f1_score(y_true=df_pred_test.y_true_code, y_pred=df_pred_test.y_pred,average='weighted'))"
   ]
  },
  {
   "cell_type": "code",
   "execution_count": 26,
   "id": "d6b3d5ae",
   "metadata": {
    "execution": {
     "iopub.execute_input": "2025-05-15T16:23:08.688091Z",
     "iopub.status.busy": "2025-05-15T16:23:08.687913Z",
     "iopub.status.idle": "2025-05-15T16:23:08.691402Z",
     "shell.execute_reply": "2025-05-15T16:23:08.691099Z"
    },
    "papermill": {
     "duration": 0.020248,
     "end_time": "2025-05-15T16:23:08.692219",
     "exception": false,
     "start_time": "2025-05-15T16:23:08.671971",
     "status": "completed"
    },
    "tags": []
   },
   "outputs": [
    {
     "data": {
      "text/plain": [
       "{'BAS': 0.547121707933172, 'WF1': 0.8019383648892914}"
      ]
     },
     "execution_count": 26,
     "metadata": {},
     "output_type": "execute_result"
    }
   ],
   "source": [
    "metrics_dict"
   ]
  },
  {
   "cell_type": "code",
   "execution_count": 27,
   "id": "255ae0d0",
   "metadata": {
    "execution": {
     "iopub.execute_input": "2025-05-15T16:23:08.735441Z",
     "iopub.status.busy": "2025-05-15T16:23:08.735101Z",
     "iopub.status.idle": "2025-05-15T16:23:08.743045Z",
     "shell.execute_reply": "2025-05-15T16:23:08.742733Z"
    },
    "papermill": {
     "duration": 0.018472,
     "end_time": "2025-05-15T16:23:08.743869",
     "exception": false,
     "start_time": "2025-05-15T16:23:08.725397",
     "status": "completed"
    },
    "tags": []
   },
   "outputs": [
    {
     "data": {
      "text/html": [
       "<div>\n",
       "<style scoped>\n",
       "    .dataframe tbody tr th:only-of-type {\n",
       "        vertical-align: middle;\n",
       "    }\n",
       "\n",
       "    .dataframe tbody tr th {\n",
       "        vertical-align: top;\n",
       "    }\n",
       "\n",
       "    .dataframe thead th {\n",
       "        text-align: right;\n",
       "    }\n",
       "</style>\n",
       "<table border=\"1\" class=\"dataframe\">\n",
       "  <thead>\n",
       "    <tr style=\"text-align: right;\">\n",
       "      <th></th>\n",
       "      <th>BAS</th>\n",
       "      <th>WF1</th>\n",
       "      <th>split_idx</th>\n",
       "      <th>gene_set_seed</th>\n",
       "      <th>cell_type</th>\n",
       "    </tr>\n",
       "  </thead>\n",
       "  <tbody>\n",
       "    <tr>\n",
       "      <th>0</th>\n",
       "      <td>0.547122</td>\n",
       "      <td>0.801938</td>\n",
       "      <td>2</td>\n",
       "      <td>17</td>\n",
       "      <td>Mono</td>\n",
       "    </tr>\n",
       "  </tbody>\n",
       "</table>\n",
       "</div>"
      ],
      "text/plain": [
       "        BAS       WF1  split_idx  gene_set_seed cell_type\n",
       "0  0.547122  0.801938          2             17      Mono"
      ]
     },
     "execution_count": 27,
     "metadata": {},
     "output_type": "execute_result"
    }
   ],
   "source": [
    "metrics_df = pd.DataFrame.from_dict([metrics_dict]).assign(split_idx=TEST_SPLIT_IDX, gene_set_seed=SEED, cell_type=CELL_TYPE)\n",
    "metrics_df"
   ]
  },
  {
   "cell_type": "code",
   "execution_count": 28,
   "id": "5e0a2c01",
   "metadata": {
    "execution": {
     "iopub.execute_input": "2025-05-15T16:23:08.762897Z",
     "iopub.status.busy": "2025-05-15T16:23:08.762538Z",
     "iopub.status.idle": "2025-05-15T16:23:08.778089Z",
     "shell.execute_reply": "2025-05-15T16:23:08.777772Z"
    },
    "papermill": {
     "duration": 0.025616,
     "end_time": "2025-05-15T16:23:08.778927",
     "exception": false,
     "start_time": "2025-05-15T16:23:08.753311",
     "status": "completed"
    },
    "tags": []
   },
   "outputs": [],
   "source": [
    "out_dir = here(f'03_downstream_analysis/08_gene_importance/xgboost_external_validation/xgboost_TopN_genes/results_{N_GENES}/metrics')\n",
    "\n",
    "if not os.path.exists(out_dir):\n",
    "    os.makedirs(out_dir)\n",
    "    \n",
    "metrics_df.to_csv(os.path.join(out_dir, f'{CELL_TYPE}_{SEED}_{TEST_SPLIT_IDX}_metrics.zip'))"
   ]
  }
 ],
 "metadata": {
  "kernelspec": {
   "display_name": "Python 3 (ipykernel)",
   "language": "python",
   "name": "python3"
  },
  "language_info": {
   "codemirror_mode": {
    "name": "ipython",
    "version": 3
   },
   "file_extension": ".py",
   "mimetype": "text/x-python",
   "name": "python",
   "nbconvert_exporter": "python",
   "pygments_lexer": "ipython3",
   "version": "3.12.5"
  },
  "papermill": {
   "default_parameters": {},
   "duration": 1373.968314,
   "end_time": "2025-05-15T16:23:09.550525",
   "environment_variables": {},
   "exception": null,
   "input_path": "02_xgboost_fitting_external_20genes.ipynb",
   "output_path": "results_20/executed_notebooks/xgboost_fitting_external_CT_Mono_GS_17_seed2.ipynb",
   "parameters": {
    "CELL_TYPE": "Mono",
    "SEED": 17,
    "TEST_SPLIT_IDX": 2
   },
   "start_time": "2025-05-15T16:00:15.582211",
   "version": "2.6.0"
  }
 },
 "nbformat": 4,
 "nbformat_minor": 5
}