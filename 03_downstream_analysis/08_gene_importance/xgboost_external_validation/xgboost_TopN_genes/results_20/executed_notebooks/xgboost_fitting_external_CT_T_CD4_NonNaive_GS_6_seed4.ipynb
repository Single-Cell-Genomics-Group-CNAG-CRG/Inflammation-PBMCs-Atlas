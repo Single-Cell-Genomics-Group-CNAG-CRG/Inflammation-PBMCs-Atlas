{
 "cells": [
  {
   "cell_type": "code",
   "execution_count": 1,
   "id": "81687965",
   "metadata": {
    "editable": true,
    "execution": {
     "iopub.execute_input": "2025-05-15T16:02:31.532697Z",
     "iopub.status.busy": "2025-05-15T16:02:31.532387Z",
     "iopub.status.idle": "2025-05-15T16:02:31.534945Z",
     "shell.execute_reply": "2025-05-15T16:02:31.534642Z"
    },
    "papermill": {
     "duration": 0.013351,
     "end_time": "2025-05-15T16:02:31.535813",
     "exception": false,
     "start_time": "2025-05-15T16:02:31.522462",
     "status": "completed"
    },
    "slideshow": {
     "slide_type": ""
    },
    "tags": [
     "parameters"
    ]
   },
   "outputs": [],
   "source": [
    "CELL_TYPE = 'pDC'\n",
    "N_GENES: int = 20\n",
    "SEED = 'shap_studyID' #'disease_NOstudy' 'study_NOdisease' or 'int' or 'shap_studyID'\n",
    "TEST_SPLIT_IDX: int = 1 #[0,4]"
   ]
  },
  {
   "cell_type": "code",
   "execution_count": 2,
   "id": "40c12ca2",
   "metadata": {
    "execution": {
     "iopub.execute_input": "2025-05-15T16:02:31.547244Z",
     "iopub.status.busy": "2025-05-15T16:02:31.547086Z",
     "iopub.status.idle": "2025-05-15T16:02:31.549094Z",
     "shell.execute_reply": "2025-05-15T16:02:31.548792Z"
    },
    "papermill": {
     "duration": 0.008417,
     "end_time": "2025-05-15T16:02:31.549904",
     "exception": false,
     "start_time": "2025-05-15T16:02:31.541487",
     "status": "completed"
    },
    "tags": [
     "injected-parameters"
    ]
   },
   "outputs": [],
   "source": [
    "# Parameters\n",
    "CELL_TYPE = \"T_CD4_NonNaive\"\n",
    "SEED = 6\n",
    "TEST_SPLIT_IDX = 4\n"
   ]
  },
  {
   "cell_type": "code",
   "execution_count": 3,
   "id": "575d84be",
   "metadata": {
    "execution": {
     "iopub.execute_input": "2025-05-15T16:02:31.565159Z",
     "iopub.status.busy": "2025-05-15T16:02:31.564999Z",
     "iopub.status.idle": "2025-05-15T16:02:31.566906Z",
     "shell.execute_reply": "2025-05-15T16:02:31.566609Z"
    },
    "papermill": {
     "duration": 0.008802,
     "end_time": "2025-05-15T16:02:31.567672",
     "exception": false,
     "start_time": "2025-05-15T16:02:31.558870",
     "status": "completed"
    },
    "tags": []
   },
   "outputs": [],
   "source": [
    "N_SPLITS: int = 5\n",
    "N_TRIALS: int = 50"
   ]
  },
  {
   "cell_type": "code",
   "execution_count": 4,
   "id": "1c9b1bad",
   "metadata": {
    "execution": {
     "iopub.execute_input": "2025-05-15T16:02:31.583403Z",
     "iopub.status.busy": "2025-05-15T16:02:31.583092Z",
     "iopub.status.idle": "2025-05-15T16:02:32.902281Z",
     "shell.execute_reply": "2025-05-15T16:02:32.901828Z"
    },
    "papermill": {
     "duration": 1.330597,
     "end_time": "2025-05-15T16:02:32.903537",
     "exception": false,
     "start_time": "2025-05-15T16:02:31.572940",
     "status": "completed"
    },
    "tags": []
   },
   "outputs": [],
   "source": [
    "import os\n",
    "import sys\n",
    "from pyprojroot.here import here\n",
    "import pandas as pd\n",
    "import anndata as ad\n",
    "import numpy as np\n",
    "import math\n",
    "from sklearn.model_selection import StratifiedGroupKFold\n",
    "from sklearn.preprocessing import LabelEncoder\n",
    "from sklearn.metrics import f1_score\n",
    "import matplotlib.pyplot as plt\n",
    "import seaborn as sns\n",
    "from itertools import product\n",
    "from sklearn.metrics import balanced_accuracy_score, f1_score\n",
    "import optuna\n",
    "\n",
    "import joblib\n",
    "import pickle\n",
    "import datetime\n",
    "\n",
    "import collections\n",
    "\n",
    "import xgboost\n",
    "from sklearn.preprocessing import LabelEncoder\n",
    "\n",
    "import scipy.sparse as ssp\n",
    "import joblib\n",
    "\n",
    "from dotenv import load_dotenv"
   ]
  },
  {
   "cell_type": "code",
   "execution_count": 5,
   "id": "9cd3756a",
   "metadata": {
    "execution": {
     "iopub.execute_input": "2025-05-15T16:02:32.915635Z",
     "iopub.status.busy": "2025-05-15T16:02:32.915308Z",
     "iopub.status.idle": "2025-05-15T16:02:32.921102Z",
     "shell.execute_reply": "2025-05-15T16:02:32.920772Z"
    },
    "papermill": {
     "duration": 0.012674,
     "end_time": "2025-05-15T16:02:32.921907",
     "exception": false,
     "start_time": "2025-05-15T16:02:32.909233",
     "status": "completed"
    },
    "tags": []
   },
   "outputs": [
    {
     "data": {
      "text/plain": [
       "True"
      ]
     },
     "execution_count": 5,
     "metadata": {},
     "output_type": "execute_result"
    }
   ],
   "source": [
    "load_dotenv()"
   ]
  },
  {
   "cell_type": "markdown",
   "id": "d6ab94fa",
   "metadata": {
    "papermill": {
     "duration": 0.005484,
     "end_time": "2025-05-15T16:02:32.932873",
     "exception": false,
     "start_time": "2025-05-15T16:02:32.927389",
     "status": "completed"
    },
    "tags": []
   },
   "source": [
    "# LOAD DATASET"
   ]
  },
  {
   "cell_type": "code",
   "execution_count": 6,
   "id": "36437d25",
   "metadata": {
    "execution": {
     "iopub.execute_input": "2025-05-15T16:02:32.944683Z",
     "iopub.status.busy": "2025-05-15T16:02:32.944364Z",
     "iopub.status.idle": "2025-05-15T16:02:33.588127Z",
     "shell.execute_reply": "2025-05-15T16:02:33.587648Z"
    },
    "papermill": {
     "duration": 0.650965,
     "end_time": "2025-05-15T16:02:33.589311",
     "exception": false,
     "start_time": "2025-05-15T16:02:32.938346",
     "status": "completed"
    },
    "tags": []
   },
   "outputs": [],
   "source": [
    "train_adata = ad.read_h5ad(\n",
    "    here(f'03_downstream_analysis/08_gene_importance/xgboost_external_validation/xgboost_TopN_genes/data_cellTypes/EXTERNAL_{CELL_TYPE}.filtered.log1p.h5ad')\n",
    ")"
   ]
  },
  {
   "cell_type": "code",
   "execution_count": 7,
   "id": "0fa1663e",
   "metadata": {
    "execution": {
     "iopub.execute_input": "2025-05-15T16:02:33.619037Z",
     "iopub.status.busy": "2025-05-15T16:02:33.618839Z",
     "iopub.status.idle": "2025-05-15T16:02:33.650006Z",
     "shell.execute_reply": "2025-05-15T16:02:33.649645Z"
    },
    "papermill": {
     "duration": 0.055718,
     "end_time": "2025-05-15T16:02:33.650833",
     "exception": false,
     "start_time": "2025-05-15T16:02:33.595115",
     "status": "completed"
    },
    "tags": []
   },
   "outputs": [
    {
     "name": "stdout",
     "output_type": "stream",
     "text": [
      "['ENSG00000121966' 'ENSG00000131143' 'ENSG00000125148' 'ENSG00000123268'\n",
      " 'ENSG00000082074' 'ENSG00000100453' 'ENSG00000177556' 'ENSG00000162739'\n",
      " 'ENSG00000136732' 'ENSG00000135404' 'ENSG00000140105' 'ENSG00000106952'\n",
      " 'ENSG00000125743' 'ENSG00000112486' 'ENSG00000171476' 'ENSG00000204843'\n",
      " 'ENSG00000165272' 'ENSG00000117450' 'ENSG00000170581' 'ENSG00000188313'\n",
      " 'ENSG00000158869' 'ENSG00000132965' 'ENSG00000196961' 'ENSG00000182866'\n",
      " 'ENSG00000033800' 'ENSG00000120742' 'ENSG00000171608' 'ENSG00000197540'\n",
      " 'ENSG00000136003' 'ENSG00000133639' 'ENSG00000188404' 'ENSG00000113263'\n",
      " 'ENSG00000172543' 'ENSG00000138795' 'ENSG00000005339' 'ENSG00000135916'\n",
      " 'ENSG00000138802' 'ENSG00000100934' 'ENSG00000089327' 'ENSG00000215788'\n",
      " 'ENSG00000183486' 'ENSG00000197329' 'ENSG00000160712' 'ENSG00000125534'\n",
      " 'ENSG00000104660' 'ENSG00000175567' 'ENSG00000152700' 'ENSG00000153283'\n",
      " 'ENSG00000135114' 'ENSG00000128340' 'ENSG00000100393' 'ENSG00000109787'\n",
      " 'ENSG00000175104' 'ENSG00000172005' 'ENSG00000141367' 'ENSG00000204525'\n",
      " 'ENSG00000068831' 'ENSG00000204267' 'ENSG00000134460' 'ENSG00000162434'\n",
      " 'ENSG00000099204' 'ENSG00000096996' 'ENSG00000277791' 'ENSG00000170296'\n",
      " 'ENSG00000126267' 'ENSG00000114423' 'ENSG00000198520' 'ENSG00000183172'\n",
      " 'ENSG00000157873' 'ENSG00000035115' 'ENSG00000163659' 'ENSG00000111796'\n",
      " 'ENSG00000168685' 'ENSG00000164543' 'ENSG00000160213' 'ENSG00000104998'\n",
      " 'ENSG00000168610' 'ENSG00000175482' 'ENSG00000107223' 'ENSG00000084207'\n",
      " 'ENSG00000089127' 'ENSG00000135821' 'ENSG00000105373' 'ENSG00000227507'\n",
      " 'ENSG00000183020' 'ENSG00000113811' 'ENSG00000114861' 'ENSG00000139192'\n",
      " 'ENSG00000118503' 'ENSG00000139626' 'ENSG00000204592' 'ENSG00000226979'\n",
      " 'ENSG00000163131' 'ENSG00000101608' 'ENSG00000145675' 'ENSG00000130755'\n",
      " 'ENSG00000164307' 'ENSG00000069702' 'ENSG00000205220' 'ENSG00000126561'\n",
      " 'ENSG00000128524' 'ENSG00000169554']\n"
     ]
    }
   ],
   "source": [
    "if SEED != 'all':\n",
    "    gene_subset = np.load(here(f'03_downstream_analysis/08_gene_importance/xgboost_external_validation/shap_gene_selection/gene_subsets_{N_GENES}/{CELL_TYPE}_{SEED}.npy'), allow_pickle=True)\n",
    "    train_adata = train_adata[:,gene_subset]\n",
    "    print(gene_subset)\n",
    "elif SEED == 'all':\n",
    "    print('Using all genes')\n",
    "else:\n",
    "    raise ValueError()"
   ]
  },
  {
   "cell_type": "code",
   "execution_count": 8,
   "id": "838429a2",
   "metadata": {
    "execution": {
     "iopub.execute_input": "2025-05-15T16:02:33.662692Z",
     "iopub.status.busy": "2025-05-15T16:02:33.662502Z",
     "iopub.status.idle": "2025-05-15T16:02:33.665459Z",
     "shell.execute_reply": "2025-05-15T16:02:33.665131Z"
    },
    "papermill": {
     "duration": 0.009807,
     "end_time": "2025-05-15T16:02:33.666254",
     "exception": false,
     "start_time": "2025-05-15T16:02:33.656447",
     "status": "completed"
    },
    "tags": []
   },
   "outputs": [
    {
     "data": {
      "text/plain": [
       "(124886, 102)"
      ]
     },
     "execution_count": 8,
     "metadata": {},
     "output_type": "execute_result"
    }
   ],
   "source": [
    "train_adata.shape"
   ]
  },
  {
   "cell_type": "code",
   "execution_count": 9,
   "id": "29f914c4",
   "metadata": {
    "execution": {
     "iopub.execute_input": "2025-05-15T16:02:33.677855Z",
     "iopub.status.busy": "2025-05-15T16:02:33.677621Z",
     "iopub.status.idle": "2025-05-15T16:02:33.681491Z",
     "shell.execute_reply": "2025-05-15T16:02:33.681191Z"
    },
    "papermill": {
     "duration": 0.010534,
     "end_time": "2025-05-15T16:02:33.682264",
     "exception": false,
     "start_time": "2025-05-15T16:02:33.671730",
     "status": "completed"
    },
    "tags": []
   },
   "outputs": [
    {
     "data": {
      "text/plain": [
       "['RA', 'healthy', 'COVID', 'HIV', 'cirrhosis', 'CD', 'SLE', 'sepsis']\n",
       "Categories (8, object): ['CD', 'COVID', 'HIV', 'RA', 'SLE', 'cirrhosis', 'healthy', 'sepsis']"
      ]
     },
     "execution_count": 9,
     "metadata": {},
     "output_type": "execute_result"
    }
   ],
   "source": [
    "train_adata.obs.disease.unique()"
   ]
  },
  {
   "cell_type": "code",
   "execution_count": 10,
   "id": "046523ea",
   "metadata": {
    "execution": {
     "iopub.execute_input": "2025-05-15T16:02:33.694113Z",
     "iopub.status.busy": "2025-05-15T16:02:33.693870Z",
     "iopub.status.idle": "2025-05-15T16:02:33.697634Z",
     "shell.execute_reply": "2025-05-15T16:02:33.697340Z"
    },
    "papermill": {
     "duration": 0.011056,
     "end_time": "2025-05-15T16:02:33.698438",
     "exception": false,
     "start_time": "2025-05-15T16:02:33.687382",
     "status": "completed"
    },
    "tags": []
   },
   "outputs": [
    {
     "data": {
      "text/plain": [
       "['SCGT00val_I036016_T0', 'SCGT00val_I036023_T0', 'SCGT00val_I036015_T0', 'SCGT00val_I036028_T0', 'SCGT00val_I0364_T0', ..., '10XGenomics_10XHC2_T0', '10XGenomics_10XHC3_T0', '10XGenomics_10XHC5_T0', '10XGenomics_10XHC7_T0', '10XGenomics_10XHC8_T0']\n",
       "Length: 86\n",
       "Categories (86, object): ['10XGenomics_10XHC1_T0', '10XGenomics_10XHC2_T0', '10XGenomics_10XHC3_T0', '10XGenomics_10XHC4_T0', ..., 'Savage2021_BRISL6_T0', 'Savage2021_BRISL7_T0', 'Savage2021_PIDA_T0', 'Savage2021_PIDB_T0']"
      ]
     },
     "execution_count": 10,
     "metadata": {},
     "output_type": "execute_result"
    }
   ],
   "source": [
    "train_adata.obs.sampleID.unique()"
   ]
  },
  {
   "cell_type": "code",
   "execution_count": 11,
   "id": "24ddf91f",
   "metadata": {
    "execution": {
     "iopub.execute_input": "2025-05-15T16:02:33.714578Z",
     "iopub.status.busy": "2025-05-15T16:02:33.714168Z",
     "iopub.status.idle": "2025-05-15T16:02:34.004784Z",
     "shell.execute_reply": "2025-05-15T16:02:34.004353Z"
    },
    "papermill": {
     "duration": 0.301607,
     "end_time": "2025-05-15T16:02:34.005867",
     "exception": false,
     "start_time": "2025-05-15T16:02:33.704260",
     "status": "completed"
    },
    "tags": []
   },
   "outputs": [],
   "source": [
    "all_idxs = np.arange(train_adata.obs.shape[0])\n",
    "left_out_splits = [s[1] for s in StratifiedGroupKFold(n_splits=N_SPLITS).split(all_idxs, train_adata.obs.disease, train_adata.obs.sampleID)]"
   ]
  },
  {
   "cell_type": "code",
   "execution_count": 12,
   "id": "89d141a1",
   "metadata": {
    "execution": {
     "iopub.execute_input": "2025-05-15T16:02:34.019056Z",
     "iopub.status.busy": "2025-05-15T16:02:34.018852Z",
     "iopub.status.idle": "2025-05-15T16:02:34.022262Z",
     "shell.execute_reply": "2025-05-15T16:02:34.021946Z"
    },
    "papermill": {
     "duration": 0.01084,
     "end_time": "2025-05-15T16:02:34.023096",
     "exception": false,
     "start_time": "2025-05-15T16:02:34.012256",
     "status": "completed"
    },
    "tags": []
   },
   "outputs": [
    {
     "data": {
      "text/plain": [
       "([1, 2, 3], 0, 4)"
      ]
     },
     "execution_count": 12,
     "metadata": {},
     "output_type": "execute_result"
    }
   ],
   "source": [
    "TRAIN_SPLIT_IDXS = [0,1,2,3,4]\n",
    "VAL_SPLIT_IDX = (TEST_SPLIT_IDX + 1) % 5\n",
    "TRAIN_SPLIT_IDXS.remove(TEST_SPLIT_IDX)\n",
    "TRAIN_SPLIT_IDXS.remove(VAL_SPLIT_IDX)\n",
    "TRAIN_SPLIT_IDXS, VAL_SPLIT_IDX, TEST_SPLIT_IDX"
   ]
  },
  {
   "cell_type": "code",
   "execution_count": 13,
   "id": "3a0acbed",
   "metadata": {
    "execution": {
     "iopub.execute_input": "2025-05-15T16:02:34.035081Z",
     "iopub.status.busy": "2025-05-15T16:02:34.034673Z",
     "iopub.status.idle": "2025-05-15T16:02:34.037134Z",
     "shell.execute_reply": "2025-05-15T16:02:34.036836Z"
    },
    "papermill": {
     "duration": 0.009366,
     "end_time": "2025-05-15T16:02:34.038007",
     "exception": false,
     "start_time": "2025-05-15T16:02:34.028641",
     "status": "completed"
    },
    "tags": []
   },
   "outputs": [],
   "source": [
    "train_idxs = np.concatenate([left_out_splits[idx] for idx in TRAIN_SPLIT_IDXS])\n",
    "val_idxs = left_out_splits[VAL_SPLIT_IDX]\n",
    "test_idxs = left_out_splits[TEST_SPLIT_IDX]"
   ]
  },
  {
   "cell_type": "markdown",
   "id": "d22549d2",
   "metadata": {
    "papermill": {
     "duration": 0.005795,
     "end_time": "2025-05-15T16:02:34.049241",
     "exception": false,
     "start_time": "2025-05-15T16:02:34.043446",
     "status": "completed"
    },
    "tags": []
   },
   "source": [
    "### SUBSET DATASET INTO TRAIN/TEST/VAL SPLITS"
   ]
  },
  {
   "cell_type": "code",
   "execution_count": 14,
   "id": "1953f29c",
   "metadata": {
    "execution": {
     "iopub.execute_input": "2025-05-15T16:02:34.061569Z",
     "iopub.status.busy": "2025-05-15T16:02:34.061358Z",
     "iopub.status.idle": "2025-05-15T16:02:34.311320Z",
     "shell.execute_reply": "2025-05-15T16:02:34.310972Z"
    },
    "papermill": {
     "duration": 0.257074,
     "end_time": "2025-05-15T16:02:34.312217",
     "exception": false,
     "start_time": "2025-05-15T16:02:34.055143",
     "status": "completed"
    },
    "tags": []
   },
   "outputs": [
    {
     "data": {
      "text/plain": [
       "((76492, 102), (24117, 102), (24277, 102))"
      ]
     },
     "execution_count": 14,
     "metadata": {},
     "output_type": "execute_result"
    }
   ],
   "source": [
    "X_train = train_adata.X[train_idxs]\n",
    "X_test = train_adata.X[test_idxs]\n",
    "X_val = train_adata.X[val_idxs]\n",
    "X_train.shape, X_test.shape, X_val.shape"
   ]
  },
  {
   "cell_type": "code",
   "execution_count": 15,
   "id": "1ede3003",
   "metadata": {
    "execution": {
     "iopub.execute_input": "2025-05-15T16:02:34.324934Z",
     "iopub.status.busy": "2025-05-15T16:02:34.324753Z",
     "iopub.status.idle": "2025-05-15T16:02:34.336965Z",
     "shell.execute_reply": "2025-05-15T16:02:34.336623Z"
    },
    "papermill": {
     "duration": 0.019361,
     "end_time": "2025-05-15T16:02:34.337828",
     "exception": false,
     "start_time": "2025-05-15T16:02:34.318467",
     "status": "completed"
    },
    "tags": []
   },
   "outputs": [
    {
     "data": {
      "text/plain": [
       "((76492,), (24117,), (24277,))"
      ]
     },
     "execution_count": 15,
     "metadata": {},
     "output_type": "execute_result"
    }
   ],
   "source": [
    "y_train = train_adata.obs.iloc[train_idxs].disease.values.astype(str)\n",
    "y_test = train_adata.obs.iloc[test_idxs].disease.values.astype(str)\n",
    "y_val = train_adata.obs.iloc[val_idxs].disease.values.astype(str)\n",
    "y_train.shape, y_test.shape, y_val.shape"
   ]
  },
  {
   "cell_type": "code",
   "execution_count": 16,
   "id": "8f88a856",
   "metadata": {
    "execution": {
     "iopub.execute_input": "2025-05-15T16:02:34.350644Z",
     "iopub.status.busy": "2025-05-15T16:02:34.350465Z",
     "iopub.status.idle": "2025-05-15T16:02:34.377254Z",
     "shell.execute_reply": "2025-05-15T16:02:34.376854Z"
    },
    "papermill": {
     "duration": 0.034123,
     "end_time": "2025-05-15T16:02:34.378240",
     "exception": false,
     "start_time": "2025-05-15T16:02:34.344117",
     "status": "completed"
    },
    "tags": []
   },
   "outputs": [],
   "source": [
    "lenc = LabelEncoder()\n",
    "y_train_enc = lenc.fit_transform(y_train)\n",
    "y_val_enc = lenc.transform(y_val)\n",
    "y_test_enc = lenc.transform(y_test)"
   ]
  },
  {
   "cell_type": "markdown",
   "id": "75efe6b0",
   "metadata": {
    "papermill": {
     "duration": 0.005862,
     "end_time": "2025-05-15T16:02:34.390173",
     "exception": false,
     "start_time": "2025-05-15T16:02:34.384311",
     "status": "completed"
    },
    "tags": []
   },
   "source": [
    "### GENERATE F1 "
   ]
  },
  {
   "cell_type": "code",
   "execution_count": 17,
   "id": "a3911eff",
   "metadata": {
    "execution": {
     "iopub.execute_input": "2025-05-15T16:02:34.415869Z",
     "iopub.status.busy": "2025-05-15T16:02:34.415683Z",
     "iopub.status.idle": "2025-05-15T16:02:34.418128Z",
     "shell.execute_reply": "2025-05-15T16:02:34.417813Z"
    },
    "papermill": {
     "duration": 0.009857,
     "end_time": "2025-05-15T16:02:34.418873",
     "exception": false,
     "start_time": "2025-05-15T16:02:34.409016",
     "status": "completed"
    },
    "tags": []
   },
   "outputs": [],
   "source": [
    "def custom_f1_score(y_true, y_pred):\n",
    "    return -f1_score(y_true, y_pred.argmax(1), average='weighted')"
   ]
  },
  {
   "cell_type": "code",
   "execution_count": 18,
   "id": "0444cb2c",
   "metadata": {
    "execution": {
     "iopub.execute_input": "2025-05-15T16:02:34.431660Z",
     "iopub.status.busy": "2025-05-15T16:02:34.431411Z",
     "iopub.status.idle": "2025-05-15T16:02:34.435290Z",
     "shell.execute_reply": "2025-05-15T16:02:34.434958Z"
    },
    "papermill": {
     "duration": 0.011464,
     "end_time": "2025-05-15T16:02:34.436063",
     "exception": false,
     "start_time": "2025-05-15T16:02:34.424599",
     "status": "completed"
    },
    "tags": []
   },
   "outputs": [],
   "source": [
    "eval_metric=custom_f1_score\n",
    "eval_metric_name='custom_f1_score'\n",
    "\n",
    "def objective(trial):\n",
    "    params = {\n",
    "        'n_estimators': 1500,\n",
    "        'max_depth': trial.suggest_int('max_depth', 3, 20),\n",
    "        'min_child_weight': trial.suggest_int('min_child_weight', 1, 250),\n",
    "        'subsample': trial.suggest_float('subsample', 0.1, 1.0),\n",
    "        'colsample_bynode': trial.suggest_float('colsample_bynode', 0.1, 1.0),\n",
    "        'learning_rate': trial.suggest_float('learning_rate', 1e-3, 5e-1, log=True),\n",
    "    }\n",
    "    pruning_callback = optuna.integration.XGBoostPruningCallback(trial, f'validation_0-{eval_metric_name}')\n",
    "    es_callback = xgboost.callback.EarlyStopping(20, min_delta=0.001)\n",
    "    xgb = xgboost.XGBClassifier(\n",
    "        eval_metric=eval_metric,\n",
    "        callbacks=[pruning_callback, es_callback],\n",
    "        n_jobs=5,\n",
    "        **params\n",
    "    )\n",
    "    xgb.fit(\n",
    "        X_train, \n",
    "        y_train_enc, \n",
    "        verbose=0,\n",
    "        eval_set=[(X_val, y_val_enc)],\n",
    "    )\n",
    "    trial.set_user_attr('best_iteration', xgb.best_iteration)\n",
    "\n",
    "    return xgb.best_score"
   ]
  },
  {
   "cell_type": "code",
   "execution_count": 19,
   "id": "11667740",
   "metadata": {
    "execution": {
     "iopub.execute_input": "2025-05-15T16:02:34.462085Z",
     "iopub.status.busy": "2025-05-15T16:02:34.461857Z",
     "iopub.status.idle": "2025-05-15T16:13:40.727840Z",
     "shell.execute_reply": "2025-05-15T16:13:40.727409Z"
    },
    "papermill": {
     "duration": 666.286941,
     "end_time": "2025-05-15T16:13:40.728998",
     "exception": false,
     "start_time": "2025-05-15T16:02:34.442057",
     "status": "completed"
    },
    "scrolled": true,
    "tags": []
   },
   "outputs": [
    {
     "name": "stderr",
     "output_type": "stream",
     "text": [
      "[I 2025-05-15 18:02:34,463] A new study created in memory with name: no-name-2af10aab-7480-444a-9ea1-c0dd0d4482c8\n"
     ]
    },
    {
     "name": "stderr",
     "output_type": "stream",
     "text": [
      "[I 2025-05-15 18:02:40,863] Trial 0 finished with value: -0.647402 and parameters: {'max_depth': 9, 'min_child_weight': 238, 'subsample': 0.7587945476302645, 'colsample_bynode': 0.6387926357773329, 'learning_rate': 0.0026368755339723046}. Best is trial 0 with value: -0.647402.\n"
     ]
    },
    {
     "name": "stderr",
     "output_type": "stream",
     "text": [
      "[I 2025-05-15 18:03:37,784] Trial 1 finished with value: -0.784128 and parameters: {'max_depth': 5, 'min_child_weight': 15, 'subsample': 0.8795585311974417, 'colsample_bynode': 0.6410035105688879, 'learning_rate': 0.08148293210105287}. Best is trial 1 with value: -0.784128.\n"
     ]
    },
    {
     "name": "stderr",
     "output_type": "stream",
     "text": [
      "[I 2025-05-15 18:03:51,461] Trial 2 finished with value: -0.598856 and parameters: {'max_depth': 3, 'min_child_weight': 243, 'subsample': 0.8491983767203796, 'colsample_bynode': 0.29110519961044856, 'learning_rate': 0.003095566460242371}. Best is trial 1 with value: -0.784128.\n"
     ]
    },
    {
     "name": "stderr",
     "output_type": "stream",
     "text": [
      "[I 2025-05-15 18:04:09,661] Trial 3 finished with value: -0.682335 and parameters: {'max_depth': 6, 'min_child_weight': 77, 'subsample': 0.5722807884690141, 'colsample_bynode': 0.48875051677790415, 'learning_rate': 0.006109683510122491}. Best is trial 1 with value: -0.784128.\n"
     ]
    },
    {
     "name": "stderr",
     "output_type": "stream",
     "text": [
      "[I 2025-05-15 18:06:54,431] Trial 4 finished with value: -0.780851 and parameters: {'max_depth': 14, 'min_child_weight': 35, 'subsample': 0.3629301836816964, 'colsample_bynode': 0.4297256589643226, 'learning_rate': 0.01701841881702917}. Best is trial 1 with value: -0.784128.\n"
     ]
    },
    {
     "name": "stderr",
     "output_type": "stream",
     "text": [
      "[I 2025-05-15 18:07:03,485] Trial 5 finished with value: -0.693183 and parameters: {'max_depth': 17, 'min_child_weight': 50, 'subsample': 0.5628109945722505, 'colsample_bynode': 0.6331731119758383, 'learning_rate': 0.0013346527038305934}. Best is trial 1 with value: -0.784128.\n"
     ]
    },
    {
     "name": "stderr",
     "output_type": "stream",
     "text": [
      "[I 2025-05-15 18:07:04,093] Trial 6 pruned. Trial was pruned at iteration 0.\n"
     ]
    },
    {
     "name": "stderr",
     "output_type": "stream",
     "text": [
      "[I 2025-05-15 18:07:04,658] Trial 7 pruned. Trial was pruned at iteration 0.\n"
     ]
    },
    {
     "name": "stderr",
     "output_type": "stream",
     "text": [
      "[I 2025-05-15 18:07:05,228] Trial 8 pruned. Trial was pruned at iteration 0.\n"
     ]
    },
    {
     "name": "stderr",
     "output_type": "stream",
     "text": [
      "[I 2025-05-15 18:07:13,614] Trial 9 pruned. Trial was pruned at iteration 22.\n"
     ]
    },
    {
     "name": "stderr",
     "output_type": "stream",
     "text": [
      "[I 2025-05-15 18:07:14,382] Trial 10 pruned. Trial was pruned at iteration 0.\n"
     ]
    },
    {
     "name": "stderr",
     "output_type": "stream",
     "text": [
      "[I 2025-05-15 18:08:43,911] Trial 11 finished with value: -0.783983 and parameters: {'max_depth': 10, 'min_child_weight': 3, 'subsample': 0.34014304150377095, 'colsample_bynode': 0.40131565860091256, 'learning_rate': 0.057899203666416425}. Best is trial 1 with value: -0.784128.\n"
     ]
    },
    {
     "name": "stderr",
     "output_type": "stream",
     "text": [
      "[I 2025-05-15 18:09:51,442] Trial 12 finished with value: -0.785773 and parameters: {'max_depth': 8, 'min_child_weight': 3, 'subsample': 0.3693916175642251, 'colsample_bynode': 0.351751713087183, 'learning_rate': 0.07220195396446884}. Best is trial 12 with value: -0.785773.\n"
     ]
    },
    {
     "name": "stderr",
     "output_type": "stream",
     "text": [
      "[I 2025-05-15 18:09:52,100] Trial 13 pruned. Trial was pruned at iteration 0.\n"
     ]
    },
    {
     "name": "stderr",
     "output_type": "stream",
     "text": [
      "[I 2025-05-15 18:09:52,750] Trial 14 pruned. Trial was pruned at iteration 0.\n"
     ]
    },
    {
     "name": "stderr",
     "output_type": "stream",
     "text": [
      "[I 2025-05-15 18:09:53,307] Trial 15 pruned. Trial was pruned at iteration 0.\n"
     ]
    },
    {
     "name": "stderr",
     "output_type": "stream",
     "text": [
      "[I 2025-05-15 18:09:54,017] Trial 16 pruned. Trial was pruned at iteration 0.\n"
     ]
    },
    {
     "name": "stderr",
     "output_type": "stream",
     "text": [
      "[I 2025-05-15 18:09:54,632] Trial 17 pruned. Trial was pruned at iteration 0.\n"
     ]
    },
    {
     "name": "stderr",
     "output_type": "stream",
     "text": [
      "[I 2025-05-15 18:10:28,088] Trial 18 finished with value: -0.789067 and parameters: {'max_depth': 8, 'min_child_weight': 37, 'subsample': 0.47368595472697, 'colsample_bynode': 0.5260950582681523, 'learning_rate': 0.1892056162835139}. Best is trial 18 with value: -0.789067.\n"
     ]
    },
    {
     "name": "stderr",
     "output_type": "stream",
     "text": [
      "[I 2025-05-15 18:10:28,705] Trial 19 pruned. Trial was pruned at iteration 0.\n"
     ]
    },
    {
     "name": "stderr",
     "output_type": "stream",
     "text": [
      "[I 2025-05-15 18:11:02,494] Trial 20 finished with value: -0.787919 and parameters: {'max_depth': 12, 'min_child_weight': 32, 'subsample': 0.48502173267357984, 'colsample_bynode': 0.38117393369504515, 'learning_rate': 0.287890631721482}. Best is trial 18 with value: -0.789067.\n"
     ]
    },
    {
     "name": "stderr",
     "output_type": "stream",
     "text": [
      "[I 2025-05-15 18:11:34,773] Trial 21 finished with value: -0.788183 and parameters: {'max_depth': 11, 'min_child_weight': 30, 'subsample': 0.47032227786177017, 'colsample_bynode': 0.3939906001498705, 'learning_rate': 0.24892967230551474}. Best is trial 18 with value: -0.789067.\n"
     ]
    },
    {
     "name": "stderr",
     "output_type": "stream",
     "text": [
      "[I 2025-05-15 18:11:35,431] Trial 22 pruned. Trial was pruned at iteration 0.\n"
     ]
    },
    {
     "name": "stderr",
     "output_type": "stream",
     "text": [
      "[I 2025-05-15 18:11:36,162] Trial 23 pruned. Trial was pruned at iteration 0.\n"
     ]
    },
    {
     "name": "stderr",
     "output_type": "stream",
     "text": [
      "[I 2025-05-15 18:11:36,946] Trial 24 pruned. Trial was pruned at iteration 0.\n"
     ]
    },
    {
     "name": "stderr",
     "output_type": "stream",
     "text": [
      "[I 2025-05-15 18:11:37,676] Trial 25 pruned. Trial was pruned at iteration 0.\n"
     ]
    },
    {
     "name": "stderr",
     "output_type": "stream",
     "text": [
      "[I 2025-05-15 18:11:38,355] Trial 26 pruned. Trial was pruned at iteration 0.\n"
     ]
    },
    {
     "name": "stderr",
     "output_type": "stream",
     "text": [
      "[I 2025-05-15 18:11:38,998] Trial 27 pruned. Trial was pruned at iteration 0.\n"
     ]
    },
    {
     "name": "stderr",
     "output_type": "stream",
     "text": [
      "[I 2025-05-15 18:11:39,761] Trial 28 pruned. Trial was pruned at iteration 0.\n"
     ]
    },
    {
     "name": "stderr",
     "output_type": "stream",
     "text": [
      "[I 2025-05-15 18:11:40,397] Trial 29 pruned. Trial was pruned at iteration 0.\n"
     ]
    },
    {
     "name": "stderr",
     "output_type": "stream",
     "text": [
      "[I 2025-05-15 18:11:41,091] Trial 30 pruned. Trial was pruned at iteration 0.\n"
     ]
    },
    {
     "name": "stderr",
     "output_type": "stream",
     "text": [
      "[I 2025-05-15 18:12:08,742] Trial 31 finished with value: -0.787844 and parameters: {'max_depth': 8, 'min_child_weight': 16, 'subsample': 0.40461271890367523, 'colsample_bynode': 0.35130923780658874, 'learning_rate': 0.19879602442466526}. Best is trial 18 with value: -0.789067.\n"
     ]
    },
    {
     "name": "stderr",
     "output_type": "stream",
     "text": [
      "[I 2025-05-15 18:12:53,393] Trial 32 finished with value: -0.791196 and parameters: {'max_depth': 8, 'min_child_weight': 21, 'subsample': 0.4230003426339334, 'colsample_bynode': 0.5107732750929469, 'learning_rate': 0.1909256369994312}. Best is trial 32 with value: -0.791196.\n"
     ]
    },
    {
     "name": "stderr",
     "output_type": "stream",
     "text": [
      "[I 2025-05-15 18:12:54,062] Trial 33 pruned. Trial was pruned at iteration 0.\n"
     ]
    },
    {
     "name": "stderr",
     "output_type": "stream",
     "text": [
      "[I 2025-05-15 18:12:54,724] Trial 34 pruned. Trial was pruned at iteration 0.\n"
     ]
    },
    {
     "name": "stderr",
     "output_type": "stream",
     "text": [
      "[I 2025-05-15 18:12:55,439] Trial 35 pruned. Trial was pruned at iteration 0.\n"
     ]
    },
    {
     "name": "stderr",
     "output_type": "stream",
     "text": [
      "[I 2025-05-15 18:12:56,211] Trial 36 pruned. Trial was pruned at iteration 0.\n"
     ]
    },
    {
     "name": "stderr",
     "output_type": "stream",
     "text": [
      "[I 2025-05-15 18:12:56,896] Trial 37 pruned. Trial was pruned at iteration 0.\n"
     ]
    },
    {
     "name": "stderr",
     "output_type": "stream",
     "text": [
      "[I 2025-05-15 18:13:01,179] Trial 38 pruned. Trial was pruned at iteration 7.\n"
     ]
    },
    {
     "name": "stderr",
     "output_type": "stream",
     "text": [
      "[I 2025-05-15 18:13:01,808] Trial 39 pruned. Trial was pruned at iteration 0.\n"
     ]
    },
    {
     "name": "stderr",
     "output_type": "stream",
     "text": [
      "[I 2025-05-15 18:13:02,480] Trial 40 pruned. Trial was pruned at iteration 0.\n"
     ]
    },
    {
     "name": "stderr",
     "output_type": "stream",
     "text": [
      "[I 2025-05-15 18:13:03,193] Trial 41 pruned. Trial was pruned at iteration 0.\n"
     ]
    },
    {
     "name": "stderr",
     "output_type": "stream",
     "text": [
      "[I 2025-05-15 18:13:04,717] Trial 42 pruned. Trial was pruned at iteration 2.\n"
     ]
    },
    {
     "name": "stderr",
     "output_type": "stream",
     "text": [
      "[I 2025-05-15 18:13:33,755] Trial 43 finished with value: -0.787271 and parameters: {'max_depth': 8, 'min_child_weight': 35, 'subsample': 0.5284593603419313, 'colsample_bynode': 0.4233996345537827, 'learning_rate': 0.3986895684741983}. Best is trial 32 with value: -0.791196.\n"
     ]
    },
    {
     "name": "stderr",
     "output_type": "stream",
     "text": [
      "[I 2025-05-15 18:13:34,387] Trial 44 pruned. Trial was pruned at iteration 0.\n"
     ]
    },
    {
     "name": "stderr",
     "output_type": "stream",
     "text": [
      "[I 2025-05-15 18:13:35,061] Trial 45 pruned. Trial was pruned at iteration 0.\n"
     ]
    },
    {
     "name": "stderr",
     "output_type": "stream",
     "text": [
      "[I 2025-05-15 18:13:35,755] Trial 46 pruned. Trial was pruned at iteration 0.\n"
     ]
    },
    {
     "name": "stderr",
     "output_type": "stream",
     "text": [
      "[I 2025-05-15 18:13:36,406] Trial 47 pruned. Trial was pruned at iteration 0.\n"
     ]
    },
    {
     "name": "stderr",
     "output_type": "stream",
     "text": [
      "[I 2025-05-15 18:13:37,037] Trial 48 pruned. Trial was pruned at iteration 0.\n"
     ]
    },
    {
     "name": "stderr",
     "output_type": "stream",
     "text": [
      "[I 2025-05-15 18:13:40,624] Trial 49 pruned. Trial was pruned at iteration 7.\n"
     ]
    }
   ],
   "source": [
    "sampler = optuna.samplers.TPESampler(seed=42)\n",
    "study = optuna.create_study(direction='minimize', sampler=sampler)\n",
    "study.optimize(objective, n_trials=N_TRIALS, gc_after_trial=True)"
   ]
  },
  {
   "cell_type": "code",
   "execution_count": 20,
   "id": "93784e41",
   "metadata": {
    "execution": {
     "iopub.execute_input": "2025-05-15T16:13:40.748316Z",
     "iopub.status.busy": "2025-05-15T16:13:40.748078Z",
     "iopub.status.idle": "2025-05-15T16:13:40.772734Z",
     "shell.execute_reply": "2025-05-15T16:13:40.772384Z"
    },
    "papermill": {
     "duration": 0.034877,
     "end_time": "2025-05-15T16:13:40.773703",
     "exception": false,
     "start_time": "2025-05-15T16:13:40.738826",
     "status": "completed"
    },
    "tags": []
   },
   "outputs": [
    {
     "data": {
      "text/plain": [
       "['/scratch_isilon/groups/singlecell/shared/projects/Inflammation-PBMCs-Atlas/03_downstream_analysis/08_gene_importance/xgboost_external_validation/xgboost_TopN_genes/results_20/study/T_CD4_NonNaive_6_4_xgboost.pkl']"
      ]
     },
     "execution_count": 20,
     "metadata": {},
     "output_type": "execute_result"
    }
   ],
   "source": [
    "out_dir = here(f'03_downstream_analysis/08_gene_importance/xgboost_external_validation/xgboost_TopN_genes/results_{N_GENES}/study')\n",
    "\n",
    "if not os.path.exists(out_dir):\n",
    "    os.makedirs(out_dir)\n",
    "    \n",
    "joblib.dump(study,os.path.join(out_dir, f'{CELL_TYPE}_{SEED}_{TEST_SPLIT_IDX}_xgboost.pkl'))"
   ]
  },
  {
   "cell_type": "code",
   "execution_count": 21,
   "id": "d6d08364",
   "metadata": {
    "execution": {
     "iopub.execute_input": "2025-05-15T16:13:40.791482Z",
     "iopub.status.busy": "2025-05-15T16:13:40.791107Z",
     "iopub.status.idle": "2025-05-15T16:13:56.413525Z",
     "shell.execute_reply": "2025-05-15T16:13:56.413112Z"
    },
    "papermill": {
     "duration": 15.632451,
     "end_time": "2025-05-15T16:13:56.414631",
     "exception": false,
     "start_time": "2025-05-15T16:13:40.782180",
     "status": "completed"
    },
    "tags": []
   },
   "outputs": [
    {
     "data": {
      "text/html": [
       "<style>#sk-container-id-1 {\n",
       "  /* Definition of color scheme common for light and dark mode */\n",
       "  --sklearn-color-text: black;\n",
       "  --sklearn-color-line: gray;\n",
       "  /* Definition of color scheme for unfitted estimators */\n",
       "  --sklearn-color-unfitted-level-0: #fff5e6;\n",
       "  --sklearn-color-unfitted-level-1: #f6e4d2;\n",
       "  --sklearn-color-unfitted-level-2: #ffe0b3;\n",
       "  --sklearn-color-unfitted-level-3: chocolate;\n",
       "  /* Definition of color scheme for fitted estimators */\n",
       "  --sklearn-color-fitted-level-0: #f0f8ff;\n",
       "  --sklearn-color-fitted-level-1: #d4ebff;\n",
       "  --sklearn-color-fitted-level-2: #b3dbfd;\n",
       "  --sklearn-color-fitted-level-3: cornflowerblue;\n",
       "\n",
       "  /* Specific color for light theme */\n",
       "  --sklearn-color-text-on-default-background: var(--sg-text-color, var(--theme-code-foreground, var(--jp-content-font-color1, black)));\n",
       "  --sklearn-color-background: var(--sg-background-color, var(--theme-background, var(--jp-layout-color0, white)));\n",
       "  --sklearn-color-border-box: var(--sg-text-color, var(--theme-code-foreground, var(--jp-content-font-color1, black)));\n",
       "  --sklearn-color-icon: #696969;\n",
       "\n",
       "  @media (prefers-color-scheme: dark) {\n",
       "    /* Redefinition of color scheme for dark theme */\n",
       "    --sklearn-color-text-on-default-background: var(--sg-text-color, var(--theme-code-foreground, var(--jp-content-font-color1, white)));\n",
       "    --sklearn-color-background: var(--sg-background-color, var(--theme-background, var(--jp-layout-color0, #111)));\n",
       "    --sklearn-color-border-box: var(--sg-text-color, var(--theme-code-foreground, var(--jp-content-font-color1, white)));\n",
       "    --sklearn-color-icon: #878787;\n",
       "  }\n",
       "}\n",
       "\n",
       "#sk-container-id-1 {\n",
       "  color: var(--sklearn-color-text);\n",
       "}\n",
       "\n",
       "#sk-container-id-1 pre {\n",
       "  padding: 0;\n",
       "}\n",
       "\n",
       "#sk-container-id-1 input.sk-hidden--visually {\n",
       "  border: 0;\n",
       "  clip: rect(1px 1px 1px 1px);\n",
       "  clip: rect(1px, 1px, 1px, 1px);\n",
       "  height: 1px;\n",
       "  margin: -1px;\n",
       "  overflow: hidden;\n",
       "  padding: 0;\n",
       "  position: absolute;\n",
       "  width: 1px;\n",
       "}\n",
       "\n",
       "#sk-container-id-1 div.sk-dashed-wrapped {\n",
       "  border: 1px dashed var(--sklearn-color-line);\n",
       "  margin: 0 0.4em 0.5em 0.4em;\n",
       "  box-sizing: border-box;\n",
       "  padding-bottom: 0.4em;\n",
       "  background-color: var(--sklearn-color-background);\n",
       "}\n",
       "\n",
       "#sk-container-id-1 div.sk-container {\n",
       "  /* jupyter's `normalize.less` sets `[hidden] { display: none; }`\n",
       "     but bootstrap.min.css set `[hidden] { display: none !important; }`\n",
       "     so we also need the `!important` here to be able to override the\n",
       "     default hidden behavior on the sphinx rendered scikit-learn.org.\n",
       "     See: https://github.com/scikit-learn/scikit-learn/issues/21755 */\n",
       "  display: inline-block !important;\n",
       "  position: relative;\n",
       "}\n",
       "\n",
       "#sk-container-id-1 div.sk-text-repr-fallback {\n",
       "  display: none;\n",
       "}\n",
       "\n",
       "div.sk-parallel-item,\n",
       "div.sk-serial,\n",
       "div.sk-item {\n",
       "  /* draw centered vertical line to link estimators */\n",
       "  background-image: linear-gradient(var(--sklearn-color-text-on-default-background), var(--sklearn-color-text-on-default-background));\n",
       "  background-size: 2px 100%;\n",
       "  background-repeat: no-repeat;\n",
       "  background-position: center center;\n",
       "}\n",
       "\n",
       "/* Parallel-specific style estimator block */\n",
       "\n",
       "#sk-container-id-1 div.sk-parallel-item::after {\n",
       "  content: \"\";\n",
       "  width: 100%;\n",
       "  border-bottom: 2px solid var(--sklearn-color-text-on-default-background);\n",
       "  flex-grow: 1;\n",
       "}\n",
       "\n",
       "#sk-container-id-1 div.sk-parallel {\n",
       "  display: flex;\n",
       "  align-items: stretch;\n",
       "  justify-content: center;\n",
       "  background-color: var(--sklearn-color-background);\n",
       "  position: relative;\n",
       "}\n",
       "\n",
       "#sk-container-id-1 div.sk-parallel-item {\n",
       "  display: flex;\n",
       "  flex-direction: column;\n",
       "}\n",
       "\n",
       "#sk-container-id-1 div.sk-parallel-item:first-child::after {\n",
       "  align-self: flex-end;\n",
       "  width: 50%;\n",
       "}\n",
       "\n",
       "#sk-container-id-1 div.sk-parallel-item:last-child::after {\n",
       "  align-self: flex-start;\n",
       "  width: 50%;\n",
       "}\n",
       "\n",
       "#sk-container-id-1 div.sk-parallel-item:only-child::after {\n",
       "  width: 0;\n",
       "}\n",
       "\n",
       "/* Serial-specific style estimator block */\n",
       "\n",
       "#sk-container-id-1 div.sk-serial {\n",
       "  display: flex;\n",
       "  flex-direction: column;\n",
       "  align-items: center;\n",
       "  background-color: var(--sklearn-color-background);\n",
       "  padding-right: 1em;\n",
       "  padding-left: 1em;\n",
       "}\n",
       "\n",
       "\n",
       "/* Toggleable style: style used for estimator/Pipeline/ColumnTransformer box that is\n",
       "clickable and can be expanded/collapsed.\n",
       "- Pipeline and ColumnTransformer use this feature and define the default style\n",
       "- Estimators will overwrite some part of the style using the `sk-estimator` class\n",
       "*/\n",
       "\n",
       "/* Pipeline and ColumnTransformer style (default) */\n",
       "\n",
       "#sk-container-id-1 div.sk-toggleable {\n",
       "  /* Default theme specific background. It is overwritten whether we have a\n",
       "  specific estimator or a Pipeline/ColumnTransformer */\n",
       "  background-color: var(--sklearn-color-background);\n",
       "}\n",
       "\n",
       "/* Toggleable label */\n",
       "#sk-container-id-1 label.sk-toggleable__label {\n",
       "  cursor: pointer;\n",
       "  display: block;\n",
       "  width: 100%;\n",
       "  margin-bottom: 0;\n",
       "  padding: 0.5em;\n",
       "  box-sizing: border-box;\n",
       "  text-align: center;\n",
       "}\n",
       "\n",
       "#sk-container-id-1 label.sk-toggleable__label-arrow:before {\n",
       "  /* Arrow on the left of the label */\n",
       "  content: \"▸\";\n",
       "  float: left;\n",
       "  margin-right: 0.25em;\n",
       "  color: var(--sklearn-color-icon);\n",
       "}\n",
       "\n",
       "#sk-container-id-1 label.sk-toggleable__label-arrow:hover:before {\n",
       "  color: var(--sklearn-color-text);\n",
       "}\n",
       "\n",
       "/* Toggleable content - dropdown */\n",
       "\n",
       "#sk-container-id-1 div.sk-toggleable__content {\n",
       "  max-height: 0;\n",
       "  max-width: 0;\n",
       "  overflow: hidden;\n",
       "  text-align: left;\n",
       "  /* unfitted */\n",
       "  background-color: var(--sklearn-color-unfitted-level-0);\n",
       "}\n",
       "\n",
       "#sk-container-id-1 div.sk-toggleable__content.fitted {\n",
       "  /* fitted */\n",
       "  background-color: var(--sklearn-color-fitted-level-0);\n",
       "}\n",
       "\n",
       "#sk-container-id-1 div.sk-toggleable__content pre {\n",
       "  margin: 0.2em;\n",
       "  border-radius: 0.25em;\n",
       "  color: var(--sklearn-color-text);\n",
       "  /* unfitted */\n",
       "  background-color: var(--sklearn-color-unfitted-level-0);\n",
       "}\n",
       "\n",
       "#sk-container-id-1 div.sk-toggleable__content.fitted pre {\n",
       "  /* unfitted */\n",
       "  background-color: var(--sklearn-color-fitted-level-0);\n",
       "}\n",
       "\n",
       "#sk-container-id-1 input.sk-toggleable__control:checked~div.sk-toggleable__content {\n",
       "  /* Expand drop-down */\n",
       "  max-height: 200px;\n",
       "  max-width: 100%;\n",
       "  overflow: auto;\n",
       "}\n",
       "\n",
       "#sk-container-id-1 input.sk-toggleable__control:checked~label.sk-toggleable__label-arrow:before {\n",
       "  content: \"▾\";\n",
       "}\n",
       "\n",
       "/* Pipeline/ColumnTransformer-specific style */\n",
       "\n",
       "#sk-container-id-1 div.sk-label input.sk-toggleable__control:checked~label.sk-toggleable__label {\n",
       "  color: var(--sklearn-color-text);\n",
       "  background-color: var(--sklearn-color-unfitted-level-2);\n",
       "}\n",
       "\n",
       "#sk-container-id-1 div.sk-label.fitted input.sk-toggleable__control:checked~label.sk-toggleable__label {\n",
       "  background-color: var(--sklearn-color-fitted-level-2);\n",
       "}\n",
       "\n",
       "/* Estimator-specific style */\n",
       "\n",
       "/* Colorize estimator box */\n",
       "#sk-container-id-1 div.sk-estimator input.sk-toggleable__control:checked~label.sk-toggleable__label {\n",
       "  /* unfitted */\n",
       "  background-color: var(--sklearn-color-unfitted-level-2);\n",
       "}\n",
       "\n",
       "#sk-container-id-1 div.sk-estimator.fitted input.sk-toggleable__control:checked~label.sk-toggleable__label {\n",
       "  /* fitted */\n",
       "  background-color: var(--sklearn-color-fitted-level-2);\n",
       "}\n",
       "\n",
       "#sk-container-id-1 div.sk-label label.sk-toggleable__label,\n",
       "#sk-container-id-1 div.sk-label label {\n",
       "  /* The background is the default theme color */\n",
       "  color: var(--sklearn-color-text-on-default-background);\n",
       "}\n",
       "\n",
       "/* On hover, darken the color of the background */\n",
       "#sk-container-id-1 div.sk-label:hover label.sk-toggleable__label {\n",
       "  color: var(--sklearn-color-text);\n",
       "  background-color: var(--sklearn-color-unfitted-level-2);\n",
       "}\n",
       "\n",
       "/* Label box, darken color on hover, fitted */\n",
       "#sk-container-id-1 div.sk-label.fitted:hover label.sk-toggleable__label.fitted {\n",
       "  color: var(--sklearn-color-text);\n",
       "  background-color: var(--sklearn-color-fitted-level-2);\n",
       "}\n",
       "\n",
       "/* Estimator label */\n",
       "\n",
       "#sk-container-id-1 div.sk-label label {\n",
       "  font-family: monospace;\n",
       "  font-weight: bold;\n",
       "  display: inline-block;\n",
       "  line-height: 1.2em;\n",
       "}\n",
       "\n",
       "#sk-container-id-1 div.sk-label-container {\n",
       "  text-align: center;\n",
       "}\n",
       "\n",
       "/* Estimator-specific */\n",
       "#sk-container-id-1 div.sk-estimator {\n",
       "  font-family: monospace;\n",
       "  border: 1px dotted var(--sklearn-color-border-box);\n",
       "  border-radius: 0.25em;\n",
       "  box-sizing: border-box;\n",
       "  margin-bottom: 0.5em;\n",
       "  /* unfitted */\n",
       "  background-color: var(--sklearn-color-unfitted-level-0);\n",
       "}\n",
       "\n",
       "#sk-container-id-1 div.sk-estimator.fitted {\n",
       "  /* fitted */\n",
       "  background-color: var(--sklearn-color-fitted-level-0);\n",
       "}\n",
       "\n",
       "/* on hover */\n",
       "#sk-container-id-1 div.sk-estimator:hover {\n",
       "  /* unfitted */\n",
       "  background-color: var(--sklearn-color-unfitted-level-2);\n",
       "}\n",
       "\n",
       "#sk-container-id-1 div.sk-estimator.fitted:hover {\n",
       "  /* fitted */\n",
       "  background-color: var(--sklearn-color-fitted-level-2);\n",
       "}\n",
       "\n",
       "/* Specification for estimator info (e.g. \"i\" and \"?\") */\n",
       "\n",
       "/* Common style for \"i\" and \"?\" */\n",
       "\n",
       ".sk-estimator-doc-link,\n",
       "a:link.sk-estimator-doc-link,\n",
       "a:visited.sk-estimator-doc-link {\n",
       "  float: right;\n",
       "  font-size: smaller;\n",
       "  line-height: 1em;\n",
       "  font-family: monospace;\n",
       "  background-color: var(--sklearn-color-background);\n",
       "  border-radius: 1em;\n",
       "  height: 1em;\n",
       "  width: 1em;\n",
       "  text-decoration: none !important;\n",
       "  margin-left: 1ex;\n",
       "  /* unfitted */\n",
       "  border: var(--sklearn-color-unfitted-level-1) 1pt solid;\n",
       "  color: var(--sklearn-color-unfitted-level-1);\n",
       "}\n",
       "\n",
       ".sk-estimator-doc-link.fitted,\n",
       "a:link.sk-estimator-doc-link.fitted,\n",
       "a:visited.sk-estimator-doc-link.fitted {\n",
       "  /* fitted */\n",
       "  border: var(--sklearn-color-fitted-level-1) 1pt solid;\n",
       "  color: var(--sklearn-color-fitted-level-1);\n",
       "}\n",
       "\n",
       "/* On hover */\n",
       "div.sk-estimator:hover .sk-estimator-doc-link:hover,\n",
       ".sk-estimator-doc-link:hover,\n",
       "div.sk-label-container:hover .sk-estimator-doc-link:hover,\n",
       ".sk-estimator-doc-link:hover {\n",
       "  /* unfitted */\n",
       "  background-color: var(--sklearn-color-unfitted-level-3);\n",
       "  color: var(--sklearn-color-background);\n",
       "  text-decoration: none;\n",
       "}\n",
       "\n",
       "div.sk-estimator.fitted:hover .sk-estimator-doc-link.fitted:hover,\n",
       ".sk-estimator-doc-link.fitted:hover,\n",
       "div.sk-label-container:hover .sk-estimator-doc-link.fitted:hover,\n",
       ".sk-estimator-doc-link.fitted:hover {\n",
       "  /* fitted */\n",
       "  background-color: var(--sklearn-color-fitted-level-3);\n",
       "  color: var(--sklearn-color-background);\n",
       "  text-decoration: none;\n",
       "}\n",
       "\n",
       "/* Span, style for the box shown on hovering the info icon */\n",
       ".sk-estimator-doc-link span {\n",
       "  display: none;\n",
       "  z-index: 9999;\n",
       "  position: relative;\n",
       "  font-weight: normal;\n",
       "  right: .2ex;\n",
       "  padding: .5ex;\n",
       "  margin: .5ex;\n",
       "  width: min-content;\n",
       "  min-width: 20ex;\n",
       "  max-width: 50ex;\n",
       "  color: var(--sklearn-color-text);\n",
       "  box-shadow: 2pt 2pt 4pt #999;\n",
       "  /* unfitted */\n",
       "  background: var(--sklearn-color-unfitted-level-0);\n",
       "  border: .5pt solid var(--sklearn-color-unfitted-level-3);\n",
       "}\n",
       "\n",
       ".sk-estimator-doc-link.fitted span {\n",
       "  /* fitted */\n",
       "  background: var(--sklearn-color-fitted-level-0);\n",
       "  border: var(--sklearn-color-fitted-level-3);\n",
       "}\n",
       "\n",
       ".sk-estimator-doc-link:hover span {\n",
       "  display: block;\n",
       "}\n",
       "\n",
       "/* \"?\"-specific style due to the `<a>` HTML tag */\n",
       "\n",
       "#sk-container-id-1 a.estimator_doc_link {\n",
       "  float: right;\n",
       "  font-size: 1rem;\n",
       "  line-height: 1em;\n",
       "  font-family: monospace;\n",
       "  background-color: var(--sklearn-color-background);\n",
       "  border-radius: 1rem;\n",
       "  height: 1rem;\n",
       "  width: 1rem;\n",
       "  text-decoration: none;\n",
       "  /* unfitted */\n",
       "  color: var(--sklearn-color-unfitted-level-1);\n",
       "  border: var(--sklearn-color-unfitted-level-1) 1pt solid;\n",
       "}\n",
       "\n",
       "#sk-container-id-1 a.estimator_doc_link.fitted {\n",
       "  /* fitted */\n",
       "  border: var(--sklearn-color-fitted-level-1) 1pt solid;\n",
       "  color: var(--sklearn-color-fitted-level-1);\n",
       "}\n",
       "\n",
       "/* On hover */\n",
       "#sk-container-id-1 a.estimator_doc_link:hover {\n",
       "  /* unfitted */\n",
       "  background-color: var(--sklearn-color-unfitted-level-3);\n",
       "  color: var(--sklearn-color-background);\n",
       "  text-decoration: none;\n",
       "}\n",
       "\n",
       "#sk-container-id-1 a.estimator_doc_link.fitted:hover {\n",
       "  /* fitted */\n",
       "  background-color: var(--sklearn-color-fitted-level-3);\n",
       "}\n",
       "</style><div id=\"sk-container-id-1\" class=\"sk-top-container\"><div class=\"sk-text-repr-fallback\"><pre>XGBClassifier(base_score=None, booster=None, callbacks=None,\n",
       "              colsample_bylevel=None, colsample_bynode=0.5107732750929469,\n",
       "              colsample_bytree=None, device=None, early_stopping_rounds=None,\n",
       "              enable_categorical=False,\n",
       "              eval_metric=&lt;function custom_f1_score at 0x7f69e5b50040&gt;,\n",
       "              feature_types=None, gamma=None, grow_policy=None,\n",
       "              importance_type=None, interaction_constraints=None,\n",
       "              learning_rate=0.1909256369994312, max_bin=None,\n",
       "              max_cat_threshold=None, max_cat_to_onehot=None,\n",
       "              max_delta_step=None, max_depth=8, max_leaves=None,\n",
       "              min_child_weight=21, missing=nan, monotone_constraints=None,\n",
       "              multi_strategy=None, n_estimators=139, n_jobs=None,\n",
       "              num_parallel_tree=None, objective=&#x27;multi:softprob&#x27;, ...)</pre><b>In a Jupyter environment, please rerun this cell to show the HTML representation or trust the notebook. <br />On GitHub, the HTML representation is unable to render, please try loading this page with nbviewer.org.</b></div><div class=\"sk-container\" hidden><div class=\"sk-item\"><div class=\"sk-estimator fitted sk-toggleable\"><input class=\"sk-toggleable__control sk-hidden--visually\" id=\"sk-estimator-id-1\" type=\"checkbox\" checked><label for=\"sk-estimator-id-1\" class=\"sk-toggleable__label fitted sk-toggleable__label-arrow fitted\">&nbsp;XGBClassifier<span class=\"sk-estimator-doc-link fitted\">i<span>Fitted</span></span></label><div class=\"sk-toggleable__content fitted\"><pre>XGBClassifier(base_score=None, booster=None, callbacks=None,\n",
       "              colsample_bylevel=None, colsample_bynode=0.5107732750929469,\n",
       "              colsample_bytree=None, device=None, early_stopping_rounds=None,\n",
       "              enable_categorical=False,\n",
       "              eval_metric=&lt;function custom_f1_score at 0x7f69e5b50040&gt;,\n",
       "              feature_types=None, gamma=None, grow_policy=None,\n",
       "              importance_type=None, interaction_constraints=None,\n",
       "              learning_rate=0.1909256369994312, max_bin=None,\n",
       "              max_cat_threshold=None, max_cat_to_onehot=None,\n",
       "              max_delta_step=None, max_depth=8, max_leaves=None,\n",
       "              min_child_weight=21, missing=nan, monotone_constraints=None,\n",
       "              multi_strategy=None, n_estimators=139, n_jobs=None,\n",
       "              num_parallel_tree=None, objective=&#x27;multi:softprob&#x27;, ...)</pre></div> </div></div></div></div>"
      ],
      "text/plain": [
       "XGBClassifier(base_score=None, booster=None, callbacks=None,\n",
       "              colsample_bylevel=None, colsample_bynode=0.5107732750929469,\n",
       "              colsample_bytree=None, device=None, early_stopping_rounds=None,\n",
       "              enable_categorical=False,\n",
       "              eval_metric=<function custom_f1_score at 0x7f69e5b50040>,\n",
       "              feature_types=None, gamma=None, grow_policy=None,\n",
       "              importance_type=None, interaction_constraints=None,\n",
       "              learning_rate=0.1909256369994312, max_bin=None,\n",
       "              max_cat_threshold=None, max_cat_to_onehot=None,\n",
       "              max_delta_step=None, max_depth=8, max_leaves=None,\n",
       "              min_child_weight=21, missing=nan, monotone_constraints=None,\n",
       "              multi_strategy=None, n_estimators=139, n_jobs=None,\n",
       "              num_parallel_tree=None, objective='multi:softprob', ...)"
      ]
     },
     "execution_count": 21,
     "metadata": {},
     "output_type": "execute_result"
    }
   ],
   "source": [
    "n_estimators = int(study.best_trial.user_attrs['best_iteration']*1.2)\n",
    "xgb = xgboost.XGBClassifier(\n",
    "        eval_metric=eval_metric,\n",
    "        n_estimators=n_estimators,\n",
    "        **study.best_trial.params\n",
    "    )\n",
    "xgb.fit(\n",
    "    ssp.vstack((X_train, X_val)), \n",
    "    np.concatenate((y_train_enc, y_val_enc)),\n",
    "    verbose=1,\n",
    ")"
   ]
  },
  {
   "cell_type": "code",
   "execution_count": 22,
   "id": "3fd67cdf",
   "metadata": {
    "execution": {
     "iopub.execute_input": "2025-05-15T16:13:56.435924Z",
     "iopub.status.busy": "2025-05-15T16:13:56.435570Z",
     "iopub.status.idle": "2025-05-15T16:13:56.502877Z",
     "shell.execute_reply": "2025-05-15T16:13:56.502472Z"
    },
    "papermill": {
     "duration": 0.078419,
     "end_time": "2025-05-15T16:13:56.503961",
     "exception": false,
     "start_time": "2025-05-15T16:13:56.425542",
     "status": "completed"
    },
    "tags": []
   },
   "outputs": [
    {
     "data": {
      "text/plain": [
       "['/scratch_isilon/groups/singlecell/shared/projects/Inflammation-PBMCs-Atlas/03_downstream_analysis/08_gene_importance/xgboost_external_validation/xgboost_TopN_genes/results_20/best_model/T_CD4_NonNaive_6_4_xgb.json']"
      ]
     },
     "execution_count": 22,
     "metadata": {},
     "output_type": "execute_result"
    }
   ],
   "source": [
    "out_dir = here(f'03_downstream_analysis/08_gene_importance/xgboost_external_validation/xgboost_TopN_genes/results_{N_GENES}/best_model')\n",
    "\n",
    "if not os.path.exists(out_dir):\n",
    "    os.makedirs(out_dir)\n",
    "    \n",
    "joblib.dump(xgb, os.path.join(out_dir, f'{CELL_TYPE}_{SEED}_{TEST_SPLIT_IDX}_xgb.json'))"
   ]
  },
  {
   "cell_type": "code",
   "execution_count": 23,
   "id": "9d53d8fe",
   "metadata": {
    "execution": {
     "iopub.execute_input": "2025-05-15T16:13:56.532007Z",
     "iopub.status.busy": "2025-05-15T16:13:56.531746Z",
     "iopub.status.idle": "2025-05-15T16:13:57.307485Z",
     "shell.execute_reply": "2025-05-15T16:13:57.307032Z"
    },
    "papermill": {
     "duration": 0.788725,
     "end_time": "2025-05-15T16:13:57.308801",
     "exception": false,
     "start_time": "2025-05-15T16:13:56.520076",
     "status": "completed"
    },
    "tags": []
   },
   "outputs": [],
   "source": [
    "df_pred_test = pd.DataFrame(dict(\n",
    "    cell_id=train_adata.obs.iloc[test_idxs].index.values,\n",
    "    y_true=y_test, \n",
    "    y_true_code=y_test_enc, \n",
    "    y_pred=xgb.predict(X_test))).set_index('cell_id')"
   ]
  },
  {
   "cell_type": "code",
   "execution_count": 24,
   "id": "e9caedc1",
   "metadata": {
    "execution": {
     "iopub.execute_input": "2025-05-15T16:13:57.346332Z",
     "iopub.status.busy": "2025-05-15T16:13:57.346011Z",
     "iopub.status.idle": "2025-05-15T16:13:57.499994Z",
     "shell.execute_reply": "2025-05-15T16:13:57.499545Z"
    },
    "papermill": {
     "duration": 0.182437,
     "end_time": "2025-05-15T16:13:57.501395",
     "exception": false,
     "start_time": "2025-05-15T16:13:57.318958",
     "status": "completed"
    },
    "tags": []
   },
   "outputs": [],
   "source": [
    "out_dir = here(f'03_downstream_analysis/08_gene_importance/xgboost_external_validation/xgboost_TopN_genes/results_{N_GENES}/predictions')\n",
    "\n",
    "if not os.path.exists(out_dir):\n",
    "    os.makedirs(out_dir)\n",
    "    \n",
    "df_pred_test.to_csv(os.path.join(out_dir, f'{CELL_TYPE}_{SEED}_{TEST_SPLIT_IDX}_pred_test.zip'))"
   ]
  },
  {
   "cell_type": "code",
   "execution_count": 25,
   "id": "9abaf1d9",
   "metadata": {
    "execution": {
     "iopub.execute_input": "2025-05-15T16:13:57.522584Z",
     "iopub.status.busy": "2025-05-15T16:13:57.522357Z",
     "iopub.status.idle": "2025-05-15T16:13:57.537345Z",
     "shell.execute_reply": "2025-05-15T16:13:57.536973Z"
    },
    "papermill": {
     "duration": 0.026445,
     "end_time": "2025-05-15T16:13:57.538365",
     "exception": false,
     "start_time": "2025-05-15T16:13:57.511920",
     "status": "completed"
    },
    "tags": []
   },
   "outputs": [],
   "source": [
    "metrics_dict = dict(\n",
    "    BAS=balanced_accuracy_score(y_true=df_pred_test.y_true_code, y_pred=df_pred_test.y_pred), WF1=f1_score(y_true=df_pred_test.y_true_code, y_pred=df_pred_test.y_pred,average='weighted'))"
   ]
  },
  {
   "cell_type": "code",
   "execution_count": 26,
   "id": "de8debbb",
   "metadata": {
    "execution": {
     "iopub.execute_input": "2025-05-15T16:13:57.582188Z",
     "iopub.status.busy": "2025-05-15T16:13:57.581882Z",
     "iopub.status.idle": "2025-05-15T16:13:57.584930Z",
     "shell.execute_reply": "2025-05-15T16:13:57.584591Z"
    },
    "papermill": {
     "duration": 0.021934,
     "end_time": "2025-05-15T16:13:57.585797",
     "exception": false,
     "start_time": "2025-05-15T16:13:57.563863",
     "status": "completed"
    },
    "tags": []
   },
   "outputs": [
    {
     "data": {
      "text/plain": [
       "{'BAS': 0.5843813641051178, 'WF1': 0.784341778342976}"
      ]
     },
     "execution_count": 26,
     "metadata": {},
     "output_type": "execute_result"
    }
   ],
   "source": [
    "metrics_dict"
   ]
  },
  {
   "cell_type": "code",
   "execution_count": 27,
   "id": "494c2f70",
   "metadata": {
    "execution": {
     "iopub.execute_input": "2025-05-15T16:13:57.604489Z",
     "iopub.status.busy": "2025-05-15T16:13:57.604300Z",
     "iopub.status.idle": "2025-05-15T16:13:57.613919Z",
     "shell.execute_reply": "2025-05-15T16:13:57.613574Z"
    },
    "papermill": {
     "duration": 0.020179,
     "end_time": "2025-05-15T16:13:57.614910",
     "exception": false,
     "start_time": "2025-05-15T16:13:57.594731",
     "status": "completed"
    },
    "tags": []
   },
   "outputs": [
    {
     "data": {
      "text/html": [
       "<div>\n",
       "<style scoped>\n",
       "    .dataframe tbody tr th:only-of-type {\n",
       "        vertical-align: middle;\n",
       "    }\n",
       "\n",
       "    .dataframe tbody tr th {\n",
       "        vertical-align: top;\n",
       "    }\n",
       "\n",
       "    .dataframe thead th {\n",
       "        text-align: right;\n",
       "    }\n",
       "</style>\n",
       "<table border=\"1\" class=\"dataframe\">\n",
       "  <thead>\n",
       "    <tr style=\"text-align: right;\">\n",
       "      <th></th>\n",
       "      <th>BAS</th>\n",
       "      <th>WF1</th>\n",
       "      <th>split_idx</th>\n",
       "      <th>gene_set_seed</th>\n",
       "      <th>cell_type</th>\n",
       "    </tr>\n",
       "  </thead>\n",
       "  <tbody>\n",
       "    <tr>\n",
       "      <th>0</th>\n",
       "      <td>0.584381</td>\n",
       "      <td>0.784342</td>\n",
       "      <td>4</td>\n",
       "      <td>6</td>\n",
       "      <td>T_CD4_NonNaive</td>\n",
       "    </tr>\n",
       "  </tbody>\n",
       "</table>\n",
       "</div>"
      ],
      "text/plain": [
       "        BAS       WF1  split_idx  gene_set_seed       cell_type\n",
       "0  0.584381  0.784342          4              6  T_CD4_NonNaive"
      ]
     },
     "execution_count": 27,
     "metadata": {},
     "output_type": "execute_result"
    }
   ],
   "source": [
    "metrics_df = pd.DataFrame.from_dict([metrics_dict]).assign(split_idx=TEST_SPLIT_IDX, gene_set_seed=SEED, cell_type=CELL_TYPE)\n",
    "metrics_df"
   ]
  },
  {
   "cell_type": "code",
   "execution_count": 28,
   "id": "5719ea84",
   "metadata": {
    "execution": {
     "iopub.execute_input": "2025-05-15T16:13:57.652846Z",
     "iopub.status.busy": "2025-05-15T16:13:57.652498Z",
     "iopub.status.idle": "2025-05-15T16:13:57.660928Z",
     "shell.execute_reply": "2025-05-15T16:13:57.660587Z"
    },
    "papermill": {
     "duration": 0.037075,
     "end_time": "2025-05-15T16:13:57.661892",
     "exception": false,
     "start_time": "2025-05-15T16:13:57.624817",
     "status": "completed"
    },
    "tags": []
   },
   "outputs": [],
   "source": [
    "out_dir = here(f'03_downstream_analysis/08_gene_importance/xgboost_external_validation/xgboost_TopN_genes/results_{N_GENES}/metrics')\n",
    "\n",
    "if not os.path.exists(out_dir):\n",
    "    os.makedirs(out_dir)\n",
    "    \n",
    "metrics_df.to_csv(os.path.join(out_dir, f'{CELL_TYPE}_{SEED}_{TEST_SPLIT_IDX}_metrics.zip'))"
   ]
  }
 ],
 "metadata": {
  "kernelspec": {
   "display_name": "Python 3 (ipykernel)",
   "language": "python",
   "name": "python3"
  },
  "language_info": {
   "codemirror_mode": {
    "name": "ipython",
    "version": 3
   },
   "file_extension": ".py",
   "mimetype": "text/x-python",
   "name": "python",
   "nbconvert_exporter": "python",
   "pygments_lexer": "ipython3",
   "version": "3.12.5"
  },
  "papermill": {
   "default_parameters": {},
   "duration": 687.92316,
   "end_time": "2025-05-15T16:13:58.286564",
   "environment_variables": {},
   "exception": null,
   "input_path": "02_xgboost_fitting_external_20genes.ipynb",
   "output_path": "results_20/executed_notebooks/xgboost_fitting_external_CT_T_CD4_NonNaive_GS_6_seed4.ipynb",
   "parameters": {
    "CELL_TYPE": "T_CD4_NonNaive",
    "SEED": 6,
    "TEST_SPLIT_IDX": 4
   },
   "start_time": "2025-05-15T16:02:30.363404",
   "version": "2.6.0"
  }
 },
 "nbformat": 4,
 "nbformat_minor": 5
}