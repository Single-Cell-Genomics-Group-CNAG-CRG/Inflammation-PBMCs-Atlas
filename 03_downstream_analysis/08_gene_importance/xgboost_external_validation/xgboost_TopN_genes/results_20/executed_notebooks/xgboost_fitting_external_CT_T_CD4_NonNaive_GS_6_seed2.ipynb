{
 "cells": [
  {
   "cell_type": "code",
   "execution_count": 1,
   "id": "aa2a8dbb",
   "metadata": {
    "editable": true,
    "execution": {
     "iopub.execute_input": "2025-05-15T16:02:31.492226Z",
     "iopub.status.busy": "2025-05-15T16:02:31.491883Z",
     "iopub.status.idle": "2025-05-15T16:02:31.494703Z",
     "shell.execute_reply": "2025-05-15T16:02:31.494394Z"
    },
    "papermill": {
     "duration": 0.011051,
     "end_time": "2025-05-15T16:02:31.495542",
     "exception": false,
     "start_time": "2025-05-15T16:02:31.484491",
     "status": "completed"
    },
    "slideshow": {
     "slide_type": ""
    },
    "tags": [
     "parameters"
    ]
   },
   "outputs": [],
   "source": [
    "CELL_TYPE = 'pDC'\n",
    "N_GENES: int = 20\n",
    "SEED = 'shap_studyID' #'disease_NOstudy' 'study_NOdisease' or 'int' or 'shap_studyID'\n",
    "TEST_SPLIT_IDX: int = 1 #[0,4]"
   ]
  },
  {
   "cell_type": "code",
   "execution_count": 2,
   "id": "813598a2",
   "metadata": {
    "execution": {
     "iopub.execute_input": "2025-05-15T16:02:31.507238Z",
     "iopub.status.busy": "2025-05-15T16:02:31.506965Z",
     "iopub.status.idle": "2025-05-15T16:02:31.508998Z",
     "shell.execute_reply": "2025-05-15T16:02:31.508695Z"
    },
    "papermill": {
     "duration": 0.008768,
     "end_time": "2025-05-15T16:02:31.509818",
     "exception": false,
     "start_time": "2025-05-15T16:02:31.501050",
     "status": "completed"
    },
    "tags": [
     "injected-parameters"
    ]
   },
   "outputs": [],
   "source": [
    "# Parameters\n",
    "CELL_TYPE = \"T_CD4_NonNaive\"\n",
    "SEED = 6\n",
    "TEST_SPLIT_IDX = 2\n"
   ]
  },
  {
   "cell_type": "code",
   "execution_count": 3,
   "id": "7b1fa559",
   "metadata": {
    "execution": {
     "iopub.execute_input": "2025-05-15T16:02:31.521121Z",
     "iopub.status.busy": "2025-05-15T16:02:31.520854Z",
     "iopub.status.idle": "2025-05-15T16:02:31.522841Z",
     "shell.execute_reply": "2025-05-15T16:02:31.522554Z"
    },
    "papermill": {
     "duration": 0.008694,
     "end_time": "2025-05-15T16:02:31.523598",
     "exception": false,
     "start_time": "2025-05-15T16:02:31.514904",
     "status": "completed"
    },
    "tags": []
   },
   "outputs": [],
   "source": [
    "N_SPLITS: int = 5\n",
    "N_TRIALS: int = 50"
   ]
  },
  {
   "cell_type": "code",
   "execution_count": 4,
   "id": "0f20f7ba",
   "metadata": {
    "execution": {
     "iopub.execute_input": "2025-05-15T16:02:31.556098Z",
     "iopub.status.busy": "2025-05-15T16:02:31.555885Z",
     "iopub.status.idle": "2025-05-15T16:02:32.860246Z",
     "shell.execute_reply": "2025-05-15T16:02:32.859844Z"
    },
    "papermill": {
     "duration": 1.332882,
     "end_time": "2025-05-15T16:02:32.861845",
     "exception": false,
     "start_time": "2025-05-15T16:02:31.528963",
     "status": "completed"
    },
    "tags": []
   },
   "outputs": [],
   "source": [
    "import os\n",
    "import sys\n",
    "from pyprojroot.here import here\n",
    "import pandas as pd\n",
    "import anndata as ad\n",
    "import numpy as np\n",
    "import math\n",
    "from sklearn.model_selection import StratifiedGroupKFold\n",
    "from sklearn.preprocessing import LabelEncoder\n",
    "from sklearn.metrics import f1_score\n",
    "import matplotlib.pyplot as plt\n",
    "import seaborn as sns\n",
    "from itertools import product\n",
    "from sklearn.metrics import balanced_accuracy_score, f1_score\n",
    "import optuna\n",
    "\n",
    "import joblib\n",
    "import pickle\n",
    "import datetime\n",
    "\n",
    "import collections\n",
    "\n",
    "import xgboost\n",
    "from sklearn.preprocessing import LabelEncoder\n",
    "\n",
    "import scipy.sparse as ssp\n",
    "import joblib\n",
    "\n",
    "from dotenv import load_dotenv"
   ]
  },
  {
   "cell_type": "code",
   "execution_count": 5,
   "id": "2841b2ba",
   "metadata": {
    "execution": {
     "iopub.execute_input": "2025-05-15T16:02:32.874188Z",
     "iopub.status.busy": "2025-05-15T16:02:32.873819Z",
     "iopub.status.idle": "2025-05-15T16:02:32.879058Z",
     "shell.execute_reply": "2025-05-15T16:02:32.878732Z"
    },
    "papermill": {
     "duration": 0.012165,
     "end_time": "2025-05-15T16:02:32.879892",
     "exception": false,
     "start_time": "2025-05-15T16:02:32.867727",
     "status": "completed"
    },
    "tags": []
   },
   "outputs": [
    {
     "data": {
      "text/plain": [
       "True"
      ]
     },
     "execution_count": 5,
     "metadata": {},
     "output_type": "execute_result"
    }
   ],
   "source": [
    "load_dotenv()"
   ]
  },
  {
   "cell_type": "markdown",
   "id": "82da24ef",
   "metadata": {
    "papermill": {
     "duration": 0.005352,
     "end_time": "2025-05-15T16:02:32.890432",
     "exception": false,
     "start_time": "2025-05-15T16:02:32.885080",
     "status": "completed"
    },
    "tags": []
   },
   "source": [
    "# LOAD DATASET"
   ]
  },
  {
   "cell_type": "code",
   "execution_count": 6,
   "id": "47ed275c",
   "metadata": {
    "execution": {
     "iopub.execute_input": "2025-05-15T16:02:32.901967Z",
     "iopub.status.busy": "2025-05-15T16:02:32.901609Z",
     "iopub.status.idle": "2025-05-15T16:02:33.555246Z",
     "shell.execute_reply": "2025-05-15T16:02:33.554825Z"
    },
    "papermill": {
     "duration": 0.66068,
     "end_time": "2025-05-15T16:02:33.556388",
     "exception": false,
     "start_time": "2025-05-15T16:02:32.895708",
     "status": "completed"
    },
    "tags": []
   },
   "outputs": [],
   "source": [
    "train_adata = ad.read_h5ad(\n",
    "    here(f'03_downstream_analysis/08_gene_importance/xgboost_external_validation/xgboost_TopN_genes/data_cellTypes/EXTERNAL_{CELL_TYPE}.filtered.log1p.h5ad')\n",
    ")"
   ]
  },
  {
   "cell_type": "code",
   "execution_count": 7,
   "id": "812b3b60",
   "metadata": {
    "execution": {
     "iopub.execute_input": "2025-05-15T16:02:33.568667Z",
     "iopub.status.busy": "2025-05-15T16:02:33.568330Z",
     "iopub.status.idle": "2025-05-15T16:02:33.598904Z",
     "shell.execute_reply": "2025-05-15T16:02:33.598569Z"
    },
    "papermill": {
     "duration": 0.037359,
     "end_time": "2025-05-15T16:02:33.599691",
     "exception": false,
     "start_time": "2025-05-15T16:02:33.562332",
     "status": "completed"
    },
    "tags": []
   },
   "outputs": [
    {
     "name": "stdout",
     "output_type": "stream",
     "text": [
      "['ENSG00000121966' 'ENSG00000131143' 'ENSG00000125148' 'ENSG00000123268'\n",
      " 'ENSG00000082074' 'ENSG00000100453' 'ENSG00000177556' 'ENSG00000162739'\n",
      " 'ENSG00000136732' 'ENSG00000135404' 'ENSG00000140105' 'ENSG00000106952'\n",
      " 'ENSG00000125743' 'ENSG00000112486' 'ENSG00000171476' 'ENSG00000204843'\n",
      " 'ENSG00000165272' 'ENSG00000117450' 'ENSG00000170581' 'ENSG00000188313'\n",
      " 'ENSG00000158869' 'ENSG00000132965' 'ENSG00000196961' 'ENSG00000182866'\n",
      " 'ENSG00000033800' 'ENSG00000120742' 'ENSG00000171608' 'ENSG00000197540'\n",
      " 'ENSG00000136003' 'ENSG00000133639' 'ENSG00000188404' 'ENSG00000113263'\n",
      " 'ENSG00000172543' 'ENSG00000138795' 'ENSG00000005339' 'ENSG00000135916'\n",
      " 'ENSG00000138802' 'ENSG00000100934' 'ENSG00000089327' 'ENSG00000215788'\n",
      " 'ENSG00000183486' 'ENSG00000197329' 'ENSG00000160712' 'ENSG00000125534'\n",
      " 'ENSG00000104660' 'ENSG00000175567' 'ENSG00000152700' 'ENSG00000153283'\n",
      " 'ENSG00000135114' 'ENSG00000128340' 'ENSG00000100393' 'ENSG00000109787'\n",
      " 'ENSG00000175104' 'ENSG00000172005' 'ENSG00000141367' 'ENSG00000204525'\n",
      " 'ENSG00000068831' 'ENSG00000204267' 'ENSG00000134460' 'ENSG00000162434'\n",
      " 'ENSG00000099204' 'ENSG00000096996' 'ENSG00000277791' 'ENSG00000170296'\n",
      " 'ENSG00000126267' 'ENSG00000114423' 'ENSG00000198520' 'ENSG00000183172'\n",
      " 'ENSG00000157873' 'ENSG00000035115' 'ENSG00000163659' 'ENSG00000111796'\n",
      " 'ENSG00000168685' 'ENSG00000164543' 'ENSG00000160213' 'ENSG00000104998'\n",
      " 'ENSG00000168610' 'ENSG00000175482' 'ENSG00000107223' 'ENSG00000084207'\n",
      " 'ENSG00000089127' 'ENSG00000135821' 'ENSG00000105373' 'ENSG00000227507'\n",
      " 'ENSG00000183020' 'ENSG00000113811' 'ENSG00000114861' 'ENSG00000139192'\n",
      " 'ENSG00000118503' 'ENSG00000139626' 'ENSG00000204592' 'ENSG00000226979'\n",
      " 'ENSG00000163131' 'ENSG00000101608' 'ENSG00000145675' 'ENSG00000130755'\n",
      " 'ENSG00000164307' 'ENSG00000069702' 'ENSG00000205220' 'ENSG00000126561'\n",
      " 'ENSG00000128524' 'ENSG00000169554']\n"
     ]
    }
   ],
   "source": [
    "if SEED != 'all':\n",
    "    gene_subset = np.load(here(f'03_downstream_analysis/08_gene_importance/xgboost_external_validation/shap_gene_selection/gene_subsets_{N_GENES}/{CELL_TYPE}_{SEED}.npy'), allow_pickle=True)\n",
    "    train_adata = train_adata[:,gene_subset]\n",
    "    print(gene_subset)\n",
    "elif SEED == 'all':\n",
    "    print('Using all genes')\n",
    "else:\n",
    "    raise ValueError()"
   ]
  },
  {
   "cell_type": "code",
   "execution_count": 8,
   "id": "31e72028",
   "metadata": {
    "execution": {
     "iopub.execute_input": "2025-05-15T16:02:33.611521Z",
     "iopub.status.busy": "2025-05-15T16:02:33.611286Z",
     "iopub.status.idle": "2025-05-15T16:02:33.614254Z",
     "shell.execute_reply": "2025-05-15T16:02:33.613964Z"
    },
    "papermill": {
     "duration": 0.009605,
     "end_time": "2025-05-15T16:02:33.615022",
     "exception": false,
     "start_time": "2025-05-15T16:02:33.605417",
     "status": "completed"
    },
    "tags": []
   },
   "outputs": [
    {
     "data": {
      "text/plain": [
       "(124886, 102)"
      ]
     },
     "execution_count": 8,
     "metadata": {},
     "output_type": "execute_result"
    }
   ],
   "source": [
    "train_adata.shape"
   ]
  },
  {
   "cell_type": "code",
   "execution_count": 9,
   "id": "fe9cf7a3",
   "metadata": {
    "execution": {
     "iopub.execute_input": "2025-05-15T16:02:33.626358Z",
     "iopub.status.busy": "2025-05-15T16:02:33.626209Z",
     "iopub.status.idle": "2025-05-15T16:02:33.630007Z",
     "shell.execute_reply": "2025-05-15T16:02:33.629694Z"
    },
    "papermill": {
     "duration": 0.010495,
     "end_time": "2025-05-15T16:02:33.630811",
     "exception": false,
     "start_time": "2025-05-15T16:02:33.620316",
     "status": "completed"
    },
    "tags": []
   },
   "outputs": [
    {
     "data": {
      "text/plain": [
       "['RA', 'healthy', 'COVID', 'HIV', 'cirrhosis', 'CD', 'SLE', 'sepsis']\n",
       "Categories (8, object): ['CD', 'COVID', 'HIV', 'RA', 'SLE', 'cirrhosis', 'healthy', 'sepsis']"
      ]
     },
     "execution_count": 9,
     "metadata": {},
     "output_type": "execute_result"
    }
   ],
   "source": [
    "train_adata.obs.disease.unique()"
   ]
  },
  {
   "cell_type": "code",
   "execution_count": 10,
   "id": "884a41b6",
   "metadata": {
    "execution": {
     "iopub.execute_input": "2025-05-15T16:02:33.642600Z",
     "iopub.status.busy": "2025-05-15T16:02:33.642388Z",
     "iopub.status.idle": "2025-05-15T16:02:33.646180Z",
     "shell.execute_reply": "2025-05-15T16:02:33.645893Z"
    },
    "papermill": {
     "duration": 0.010563,
     "end_time": "2025-05-15T16:02:33.646944",
     "exception": false,
     "start_time": "2025-05-15T16:02:33.636381",
     "status": "completed"
    },
    "tags": []
   },
   "outputs": [
    {
     "data": {
      "text/plain": [
       "['SCGT00val_I036016_T0', 'SCGT00val_I036023_T0', 'SCGT00val_I036015_T0', 'SCGT00val_I036028_T0', 'SCGT00val_I0364_T0', ..., '10XGenomics_10XHC2_T0', '10XGenomics_10XHC3_T0', '10XGenomics_10XHC5_T0', '10XGenomics_10XHC7_T0', '10XGenomics_10XHC8_T0']\n",
       "Length: 86\n",
       "Categories (86, object): ['10XGenomics_10XHC1_T0', '10XGenomics_10XHC2_T0', '10XGenomics_10XHC3_T0', '10XGenomics_10XHC4_T0', ..., 'Savage2021_BRISL6_T0', 'Savage2021_BRISL7_T0', 'Savage2021_PIDA_T0', 'Savage2021_PIDB_T0']"
      ]
     },
     "execution_count": 10,
     "metadata": {},
     "output_type": "execute_result"
    }
   ],
   "source": [
    "train_adata.obs.sampleID.unique()"
   ]
  },
  {
   "cell_type": "code",
   "execution_count": 11,
   "id": "eb81e3c8",
   "metadata": {
    "execution": {
     "iopub.execute_input": "2025-05-15T16:02:33.659100Z",
     "iopub.status.busy": "2025-05-15T16:02:33.658730Z",
     "iopub.status.idle": "2025-05-15T16:02:33.952084Z",
     "shell.execute_reply": "2025-05-15T16:02:33.951647Z"
    },
    "papermill": {
     "duration": 0.300405,
     "end_time": "2025-05-15T16:02:33.952962",
     "exception": false,
     "start_time": "2025-05-15T16:02:33.652557",
     "status": "completed"
    },
    "tags": []
   },
   "outputs": [],
   "source": [
    "all_idxs = np.arange(train_adata.obs.shape[0])\n",
    "left_out_splits = [s[1] for s in StratifiedGroupKFold(n_splits=N_SPLITS).split(all_idxs, train_adata.obs.disease, train_adata.obs.sampleID)]"
   ]
  },
  {
   "cell_type": "code",
   "execution_count": 12,
   "id": "4edbcb3b",
   "metadata": {
    "execution": {
     "iopub.execute_input": "2025-05-15T16:02:33.965215Z",
     "iopub.status.busy": "2025-05-15T16:02:33.964852Z",
     "iopub.status.idle": "2025-05-15T16:02:33.968891Z",
     "shell.execute_reply": "2025-05-15T16:02:33.968582Z"
    },
    "papermill": {
     "duration": 0.010908,
     "end_time": "2025-05-15T16:02:33.969740",
     "exception": false,
     "start_time": "2025-05-15T16:02:33.958832",
     "status": "completed"
    },
    "tags": []
   },
   "outputs": [
    {
     "data": {
      "text/plain": [
       "([0, 1, 4], 3, 2)"
      ]
     },
     "execution_count": 12,
     "metadata": {},
     "output_type": "execute_result"
    }
   ],
   "source": [
    "TRAIN_SPLIT_IDXS = [0,1,2,3,4]\n",
    "VAL_SPLIT_IDX = (TEST_SPLIT_IDX + 1) % 5\n",
    "TRAIN_SPLIT_IDXS.remove(TEST_SPLIT_IDX)\n",
    "TRAIN_SPLIT_IDXS.remove(VAL_SPLIT_IDX)\n",
    "TRAIN_SPLIT_IDXS, VAL_SPLIT_IDX, TEST_SPLIT_IDX"
   ]
  },
  {
   "cell_type": "code",
   "execution_count": 13,
   "id": "37b6c372",
   "metadata": {
    "execution": {
     "iopub.execute_input": "2025-05-15T16:02:33.981963Z",
     "iopub.status.busy": "2025-05-15T16:02:33.981643Z",
     "iopub.status.idle": "2025-05-15T16:02:33.984064Z",
     "shell.execute_reply": "2025-05-15T16:02:33.983772Z"
    },
    "papermill": {
     "duration": 0.009436,
     "end_time": "2025-05-15T16:02:33.984829",
     "exception": false,
     "start_time": "2025-05-15T16:02:33.975393",
     "status": "completed"
    },
    "tags": []
   },
   "outputs": [],
   "source": [
    "train_idxs = np.concatenate([left_out_splits[idx] for idx in TRAIN_SPLIT_IDXS])\n",
    "val_idxs = left_out_splits[VAL_SPLIT_IDX]\n",
    "test_idxs = left_out_splits[TEST_SPLIT_IDX]"
   ]
  },
  {
   "cell_type": "markdown",
   "id": "6ef05958",
   "metadata": {
    "papermill": {
     "duration": 0.005643,
     "end_time": "2025-05-15T16:02:33.996177",
     "exception": false,
     "start_time": "2025-05-15T16:02:33.990534",
     "status": "completed"
    },
    "tags": []
   },
   "source": [
    "### SUBSET DATASET INTO TRAIN/TEST/VAL SPLITS"
   ]
  },
  {
   "cell_type": "code",
   "execution_count": 14,
   "id": "237bf239",
   "metadata": {
    "execution": {
     "iopub.execute_input": "2025-05-15T16:02:34.009012Z",
     "iopub.status.busy": "2025-05-15T16:02:34.008600Z",
     "iopub.status.idle": "2025-05-15T16:02:34.258797Z",
     "shell.execute_reply": "2025-05-15T16:02:34.258454Z"
    },
    "papermill": {
     "duration": 0.257674,
     "end_time": "2025-05-15T16:02:34.259647",
     "exception": false,
     "start_time": "2025-05-15T16:02:34.001973",
     "status": "completed"
    },
    "tags": []
   },
   "outputs": [
    {
     "data": {
      "text/plain": [
       "((74670, 102), (25600, 102), (24616, 102))"
      ]
     },
     "execution_count": 14,
     "metadata": {},
     "output_type": "execute_result"
    }
   ],
   "source": [
    "X_train = train_adata.X[train_idxs]\n",
    "X_test = train_adata.X[test_idxs]\n",
    "X_val = train_adata.X[val_idxs]\n",
    "X_train.shape, X_test.shape, X_val.shape"
   ]
  },
  {
   "cell_type": "code",
   "execution_count": 15,
   "id": "8a0238b2",
   "metadata": {
    "execution": {
     "iopub.execute_input": "2025-05-15T16:02:34.273677Z",
     "iopub.status.busy": "2025-05-15T16:02:34.273425Z",
     "iopub.status.idle": "2025-05-15T16:02:34.286748Z",
     "shell.execute_reply": "2025-05-15T16:02:34.286336Z"
    },
    "papermill": {
     "duration": 0.0208,
     "end_time": "2025-05-15T16:02:34.287626",
     "exception": false,
     "start_time": "2025-05-15T16:02:34.266826",
     "status": "completed"
    },
    "tags": []
   },
   "outputs": [
    {
     "data": {
      "text/plain": [
       "((74670,), (25600,), (24616,))"
      ]
     },
     "execution_count": 15,
     "metadata": {},
     "output_type": "execute_result"
    }
   ],
   "source": [
    "y_train = train_adata.obs.iloc[train_idxs].disease.values.astype(str)\n",
    "y_test = train_adata.obs.iloc[test_idxs].disease.values.astype(str)\n",
    "y_val = train_adata.obs.iloc[val_idxs].disease.values.astype(str)\n",
    "y_train.shape, y_test.shape, y_val.shape"
   ]
  },
  {
   "cell_type": "code",
   "execution_count": 16,
   "id": "82df60cb",
   "metadata": {
    "execution": {
     "iopub.execute_input": "2025-05-15T16:02:34.300173Z",
     "iopub.status.busy": "2025-05-15T16:02:34.299986Z",
     "iopub.status.idle": "2025-05-15T16:02:34.327415Z",
     "shell.execute_reply": "2025-05-15T16:02:34.326948Z"
    },
    "papermill": {
     "duration": 0.034577,
     "end_time": "2025-05-15T16:02:34.328359",
     "exception": false,
     "start_time": "2025-05-15T16:02:34.293782",
     "status": "completed"
    },
    "tags": []
   },
   "outputs": [],
   "source": [
    "lenc = LabelEncoder()\n",
    "y_train_enc = lenc.fit_transform(y_train)\n",
    "y_val_enc = lenc.transform(y_val)\n",
    "y_test_enc = lenc.transform(y_test)"
   ]
  },
  {
   "cell_type": "markdown",
   "id": "70971b7a",
   "metadata": {
    "papermill": {
     "duration": 0.005628,
     "end_time": "2025-05-15T16:02:34.339829",
     "exception": false,
     "start_time": "2025-05-15T16:02:34.334201",
     "status": "completed"
    },
    "tags": []
   },
   "source": [
    "### GENERATE F1 "
   ]
  },
  {
   "cell_type": "code",
   "execution_count": 17,
   "id": "3c83889d",
   "metadata": {
    "execution": {
     "iopub.execute_input": "2025-05-15T16:02:34.352176Z",
     "iopub.status.busy": "2025-05-15T16:02:34.351981Z",
     "iopub.status.idle": "2025-05-15T16:02:34.354528Z",
     "shell.execute_reply": "2025-05-15T16:02:34.354162Z"
    },
    "papermill": {
     "duration": 0.009814,
     "end_time": "2025-05-15T16:02:34.355333",
     "exception": false,
     "start_time": "2025-05-15T16:02:34.345519",
     "status": "completed"
    },
    "tags": []
   },
   "outputs": [],
   "source": [
    "def custom_f1_score(y_true, y_pred):\n",
    "    return -f1_score(y_true, y_pred.argmax(1), average='weighted')"
   ]
  },
  {
   "cell_type": "code",
   "execution_count": 18,
   "id": "6544fba6",
   "metadata": {
    "execution": {
     "iopub.execute_input": "2025-05-15T16:02:34.367481Z",
     "iopub.status.busy": "2025-05-15T16:02:34.367306Z",
     "iopub.status.idle": "2025-05-15T16:02:34.371165Z",
     "shell.execute_reply": "2025-05-15T16:02:34.370800Z"
    },
    "papermill": {
     "duration": 0.011281,
     "end_time": "2025-05-15T16:02:34.372149",
     "exception": false,
     "start_time": "2025-05-15T16:02:34.360868",
     "status": "completed"
    },
    "tags": []
   },
   "outputs": [],
   "source": [
    "eval_metric=custom_f1_score\n",
    "eval_metric_name='custom_f1_score'\n",
    "\n",
    "def objective(trial):\n",
    "    params = {\n",
    "        'n_estimators': 1500,\n",
    "        'max_depth': trial.suggest_int('max_depth', 3, 20),\n",
    "        'min_child_weight': trial.suggest_int('min_child_weight', 1, 250),\n",
    "        'subsample': trial.suggest_float('subsample', 0.1, 1.0),\n",
    "        'colsample_bynode': trial.suggest_float('colsample_bynode', 0.1, 1.0),\n",
    "        'learning_rate': trial.suggest_float('learning_rate', 1e-3, 5e-1, log=True),\n",
    "    }\n",
    "    pruning_callback = optuna.integration.XGBoostPruningCallback(trial, f'validation_0-{eval_metric_name}')\n",
    "    es_callback = xgboost.callback.EarlyStopping(20, min_delta=0.001)\n",
    "    xgb = xgboost.XGBClassifier(\n",
    "        eval_metric=eval_metric,\n",
    "        callbacks=[pruning_callback, es_callback],\n",
    "        n_jobs=5,\n",
    "        **params\n",
    "    )\n",
    "    xgb.fit(\n",
    "        X_train, \n",
    "        y_train_enc, \n",
    "        verbose=0,\n",
    "        eval_set=[(X_val, y_val_enc)],\n",
    "    )\n",
    "    trial.set_user_attr('best_iteration', xgb.best_iteration)\n",
    "\n",
    "    return xgb.best_score"
   ]
  },
  {
   "cell_type": "code",
   "execution_count": 19,
   "id": "22b4c3ce",
   "metadata": {
    "execution": {
     "iopub.execute_input": "2025-05-15T16:02:34.385481Z",
     "iopub.status.busy": "2025-05-15T16:02:34.385269Z",
     "iopub.status.idle": "2025-05-15T16:17:29.084907Z",
     "shell.execute_reply": "2025-05-15T16:17:29.084358Z"
    },
    "papermill": {
     "duration": 894.715266,
     "end_time": "2025-05-15T16:17:29.094025",
     "exception": false,
     "start_time": "2025-05-15T16:02:34.378759",
     "status": "completed"
    },
    "scrolled": true,
    "tags": []
   },
   "outputs": [
    {
     "name": "stderr",
     "output_type": "stream",
     "text": [
      "[I 2025-05-15 18:02:34,387] A new study created in memory with name: no-name-a17fd024-0b2a-4525-85ca-b18ac6d5418e\n"
     ]
    },
    {
     "name": "stderr",
     "output_type": "stream",
     "text": [
      "[I 2025-05-15 18:02:44,025] Trial 0 finished with value: -0.656645 and parameters: {'max_depth': 9, 'min_child_weight': 238, 'subsample': 0.7587945476302645, 'colsample_bynode': 0.6387926357773329, 'learning_rate': 0.0026368755339723046}. Best is trial 0 with value: -0.656645.\n"
     ]
    },
    {
     "name": "stderr",
     "output_type": "stream",
     "text": [
      "[I 2025-05-15 18:03:38,763] Trial 1 finished with value: -0.748809 and parameters: {'max_depth': 5, 'min_child_weight': 15, 'subsample': 0.8795585311974417, 'colsample_bynode': 0.6410035105688879, 'learning_rate': 0.08148293210105287}. Best is trial 1 with value: -0.748809.\n"
     ]
    },
    {
     "name": "stderr",
     "output_type": "stream",
     "text": [
      "[I 2025-05-15 18:03:47,570] Trial 2 finished with value: -0.619476 and parameters: {'max_depth': 3, 'min_child_weight': 243, 'subsample': 0.8491983767203796, 'colsample_bynode': 0.29110519961044856, 'learning_rate': 0.003095566460242371}. Best is trial 1 with value: -0.748809.\n"
     ]
    },
    {
     "name": "stderr",
     "output_type": "stream",
     "text": [
      "[I 2025-05-15 18:03:56,127] Trial 3 finished with value: -0.674835 and parameters: {'max_depth': 6, 'min_child_weight': 77, 'subsample': 0.5722807884690141, 'colsample_bynode': 0.48875051677790415, 'learning_rate': 0.006109683510122491}. Best is trial 1 with value: -0.748809.\n"
     ]
    },
    {
     "name": "stderr",
     "output_type": "stream",
     "text": [
      "[I 2025-05-15 18:04:05,150] Trial 4 finished with value: -0.687147 and parameters: {'max_depth': 14, 'min_child_weight': 35, 'subsample': 0.3629301836816964, 'colsample_bynode': 0.4297256589643226, 'learning_rate': 0.01701841881702917}. Best is trial 1 with value: -0.748809.\n"
     ]
    },
    {
     "name": "stderr",
     "output_type": "stream",
     "text": [
      "[I 2025-05-15 18:04:17,582] Trial 5 finished with value: -0.690719 and parameters: {'max_depth': 17, 'min_child_weight': 50, 'subsample': 0.5628109945722505, 'colsample_bynode': 0.6331731119758383, 'learning_rate': 0.0013346527038305934}. Best is trial 1 with value: -0.748809.\n"
     ]
    },
    {
     "name": "stderr",
     "output_type": "stream",
     "text": [
      "[I 2025-05-15 18:04:18,206] Trial 6 pruned. Trial was pruned at iteration 0.\n"
     ]
    },
    {
     "name": "stderr",
     "output_type": "stream",
     "text": [
      "[I 2025-05-15 18:04:18,791] Trial 7 pruned. Trial was pruned at iteration 0.\n"
     ]
    },
    {
     "name": "stderr",
     "output_type": "stream",
     "text": [
      "[I 2025-05-15 18:04:19,349] Trial 8 pruned. Trial was pruned at iteration 0.\n"
     ]
    },
    {
     "name": "stderr",
     "output_type": "stream",
     "text": [
      "[I 2025-05-15 18:04:20,004] Trial 9 pruned. Trial was pruned at iteration 0.\n"
     ]
    },
    {
     "name": "stderr",
     "output_type": "stream",
     "text": [
      "[I 2025-05-15 18:04:20,775] Trial 10 pruned. Trial was pruned at iteration 0.\n"
     ]
    },
    {
     "name": "stderr",
     "output_type": "stream",
     "text": [
      "[I 2025-05-15 18:06:16,889] Trial 11 finished with value: -0.750154 and parameters: {'max_depth': 19, 'min_child_weight': 3, 'subsample': 0.6936419035846974, 'colsample_bynode': 0.7730352953321189, 'learning_rate': 0.08587379144532957}. Best is trial 11 with value: -0.750154.\n"
     ]
    },
    {
     "name": "stderr",
     "output_type": "stream",
     "text": [
      "[I 2025-05-15 18:08:52,641] Trial 12 finished with value: -0.750716 and parameters: {'max_depth': 20, 'min_child_weight': 3, 'subsample': 0.7354274098795175, 'colsample_bynode': 0.7630780046563197, 'learning_rate': 0.07220195396446884}. Best is trial 12 with value: -0.750716.\n"
     ]
    },
    {
     "name": "stderr",
     "output_type": "stream",
     "text": [
      "[I 2025-05-15 18:08:53,322] Trial 13 pruned. Trial was pruned at iteration 0.\n"
     ]
    },
    {
     "name": "stderr",
     "output_type": "stream",
     "text": [
      "[I 2025-05-15 18:08:53,999] Trial 14 pruned. Trial was pruned at iteration 0.\n"
     ]
    },
    {
     "name": "stderr",
     "output_type": "stream",
     "text": [
      "[I 2025-05-15 18:10:48,393] Trial 15 finished with value: -0.749631 and parameters: {'max_depth': 17, 'min_child_weight': 2, 'subsample': 0.706477734046452, 'colsample_bynode': 0.8563584557501362, 'learning_rate': 0.13514303923805504}. Best is trial 12 with value: -0.750716.\n"
     ]
    },
    {
     "name": "stderr",
     "output_type": "stream",
     "text": [
      "[I 2025-05-15 18:10:49,097] Trial 16 pruned. Trial was pruned at iteration 0.\n"
     ]
    },
    {
     "name": "stderr",
     "output_type": "stream",
     "text": [
      "[I 2025-05-15 18:10:49,775] Trial 17 pruned. Trial was pruned at iteration 0.\n"
     ]
    },
    {
     "name": "stderr",
     "output_type": "stream",
     "text": [
      "[I 2025-05-15 18:11:19,114] Trial 18 finished with value: -0.751554 and parameters: {'max_depth': 15, 'min_child_weight': 35, 'subsample': 0.6491897984511282, 'colsample_bynode': 0.3648174403986092, 'learning_rate': 0.1892056162835139}. Best is trial 18 with value: -0.751554.\n"
     ]
    },
    {
     "name": "stderr",
     "output_type": "stream",
     "text": [
      "[I 2025-05-15 18:11:19,806] Trial 19 pruned. Trial was pruned at iteration 0.\n"
     ]
    },
    {
     "name": "stderr",
     "output_type": "stream",
     "text": [
      "[I 2025-05-15 18:11:20,596] Trial 20 pruned. Trial was pruned at iteration 0.\n"
     ]
    },
    {
     "name": "stderr",
     "output_type": "stream",
     "text": [
      "[I 2025-05-15 18:11:36,497] Trial 21 pruned. Trial was pruned at iteration 31.\n"
     ]
    },
    {
     "name": "stderr",
     "output_type": "stream",
     "text": [
      "[I 2025-05-15 18:11:50,660] Trial 22 pruned. Trial was pruned at iteration 31.\n"
     ]
    },
    {
     "name": "stderr",
     "output_type": "stream",
     "text": [
      "[I 2025-05-15 18:12:08,424] Trial 23 pruned. Trial was pruned at iteration 31.\n"
     ]
    },
    {
     "name": "stderr",
     "output_type": "stream",
     "text": [
      "[I 2025-05-15 18:12:09,114] Trial 24 pruned. Trial was pruned at iteration 0.\n"
     ]
    },
    {
     "name": "stderr",
     "output_type": "stream",
     "text": [
      "[I 2025-05-15 18:12:37,604] Trial 25 pruned. Trial was pruned at iteration 31.\n"
     ]
    },
    {
     "name": "stderr",
     "output_type": "stream",
     "text": [
      "[I 2025-05-15 18:13:13,454] Trial 26 finished with value: -0.753324 and parameters: {'max_depth': 18, 'min_child_weight': 99, 'subsample': 0.9084684401370251, 'colsample_bynode': 0.7060120341889913, 'learning_rate': 0.26835189783541463}. Best is trial 26 with value: -0.753324.\n"
     ]
    },
    {
     "name": "stderr",
     "output_type": "stream",
     "text": [
      "[I 2025-05-15 18:13:36,118] Trial 27 finished with value: -0.749603 and parameters: {'max_depth': 16, 'min_child_weight': 95, 'subsample': 0.9272608254359613, 'colsample_bynode': 0.5398368151551304, 'learning_rate': 0.26789743277809386}. Best is trial 26 with value: -0.753324.\n"
     ]
    },
    {
     "name": "stderr",
     "output_type": "stream",
     "text": [
      "[I 2025-05-15 18:13:36,829] Trial 28 pruned. Trial was pruned at iteration 0.\n"
     ]
    },
    {
     "name": "stderr",
     "output_type": "stream",
     "text": [
      "[I 2025-05-15 18:13:37,495] Trial 29 pruned. Trial was pruned at iteration 0.\n"
     ]
    },
    {
     "name": "stderr",
     "output_type": "stream",
     "text": [
      "[I 2025-05-15 18:13:38,175] Trial 30 pruned. Trial was pruned at iteration 0.\n"
     ]
    },
    {
     "name": "stderr",
     "output_type": "stream",
     "text": [
      "[I 2025-05-15 18:13:53,748] Trial 31 pruned. Trial was pruned at iteration 24.\n"
     ]
    },
    {
     "name": "stderr",
     "output_type": "stream",
     "text": [
      "[I 2025-05-15 18:14:05,922] Trial 32 pruned. Trial was pruned at iteration 24.\n"
     ]
    },
    {
     "name": "stderr",
     "output_type": "stream",
     "text": [
      "[I 2025-05-15 18:14:06,703] Trial 33 pruned. Trial was pruned at iteration 0.\n"
     ]
    },
    {
     "name": "stderr",
     "output_type": "stream",
     "text": [
      "[I 2025-05-15 18:14:07,820] Trial 34 pruned. Trial was pruned at iteration 1.\n"
     ]
    },
    {
     "name": "stderr",
     "output_type": "stream",
     "text": [
      "[I 2025-05-15 18:14:14,097] Trial 35 pruned. Trial was pruned at iteration 10.\n"
     ]
    },
    {
     "name": "stderr",
     "output_type": "stream",
     "text": [
      "[I 2025-05-15 18:14:27,790] Trial 36 pruned. Trial was pruned at iteration 24.\n"
     ]
    },
    {
     "name": "stderr",
     "output_type": "stream",
     "text": [
      "[I 2025-05-15 18:14:58,262] Trial 37 finished with value: -0.753509 and parameters: {'max_depth': 17, 'min_child_weight': 46, 'subsample': 0.6770488158635833, 'colsample_bynode': 0.49896143518677866, 'learning_rate': 0.3139703135133186}. Best is trial 37 with value: -0.753509.\n"
     ]
    },
    {
     "name": "stderr",
     "output_type": "stream",
     "text": [
      "[I 2025-05-15 18:14:59,385] Trial 38 pruned. Trial was pruned at iteration 1.\n"
     ]
    },
    {
     "name": "stderr",
     "output_type": "stream",
     "text": [
      "[I 2025-05-15 18:15:00,004] Trial 39 pruned. Trial was pruned at iteration 0.\n"
     ]
    },
    {
     "name": "stderr",
     "output_type": "stream",
     "text": [
      "[I 2025-05-15 18:15:04,438] Trial 40 pruned. Trial was pruned at iteration 9.\n"
     ]
    },
    {
     "name": "stderr",
     "output_type": "stream",
     "text": [
      "[I 2025-05-15 18:15:50,676] Trial 41 finished with value: -0.751125 and parameters: {'max_depth': 17, 'min_child_weight': 9, 'subsample': 0.7028120366963757, 'colsample_bynode': 0.6358575802516475, 'learning_rate': 0.1486074087843752}. Best is trial 37 with value: -0.753509.\n"
     ]
    },
    {
     "name": "stderr",
     "output_type": "stream",
     "text": [
      "[I 2025-05-15 18:15:51,390] Trial 42 pruned. Trial was pruned at iteration 0.\n"
     ]
    },
    {
     "name": "stderr",
     "output_type": "stream",
     "text": [
      "[I 2025-05-15 18:16:10,645] Trial 43 pruned. Trial was pruned at iteration 32.\n"
     ]
    },
    {
     "name": "stderr",
     "output_type": "stream",
     "text": [
      "[I 2025-05-15 18:16:37,928] Trial 44 finished with value: -0.752931 and parameters: {'max_depth': 16, 'min_child_weight': 69, 'subsample': 0.8208481072127394, 'colsample_bynode': 0.6530587247161883, 'learning_rate': 0.24521969997792897}. Best is trial 37 with value: -0.753509.\n"
     ]
    },
    {
     "name": "stderr",
     "output_type": "stream",
     "text": [
      "[I 2025-05-15 18:17:02,073] Trial 45 finished with value: -0.751133 and parameters: {'max_depth': 16, 'min_child_weight': 67, 'subsample': 0.8189661710846597, 'colsample_bynode': 0.4545894852691061, 'learning_rate': 0.2454266063758369}. Best is trial 37 with value: -0.753509.\n"
     ]
    },
    {
     "name": "stderr",
     "output_type": "stream",
     "text": [
      "[I 2025-05-15 18:17:02,719] Trial 46 pruned. Trial was pruned at iteration 0.\n"
     ]
    },
    {
     "name": "stderr",
     "output_type": "stream",
     "text": [
      "[I 2025-05-15 18:17:03,385] Trial 47 pruned. Trial was pruned at iteration 0.\n"
     ]
    },
    {
     "name": "stderr",
     "output_type": "stream",
     "text": [
      "[I 2025-05-15 18:17:04,057] Trial 48 pruned. Trial was pruned at iteration 0.\n"
     ]
    },
    {
     "name": "stderr",
     "output_type": "stream",
     "text": [
      "[I 2025-05-15 18:17:28,991] Trial 49 finished with value: -0.754244 and parameters: {'max_depth': 7, 'min_child_weight': 52, 'subsample': 0.8838811313698965, 'colsample_bynode': 0.49684963755254796, 'learning_rate': 0.3538930706309965}. Best is trial 49 with value: -0.754244.\n"
     ]
    }
   ],
   "source": [
    "sampler = optuna.samplers.TPESampler(seed=42)\n",
    "study = optuna.create_study(direction='minimize', sampler=sampler)\n",
    "study.optimize(objective, n_trials=N_TRIALS, gc_after_trial=True)"
   ]
  },
  {
   "cell_type": "code",
   "execution_count": 20,
   "id": "e3fb4051",
   "metadata": {
    "execution": {
     "iopub.execute_input": "2025-05-15T16:17:29.112018Z",
     "iopub.status.busy": "2025-05-15T16:17:29.111792Z",
     "iopub.status.idle": "2025-05-15T16:17:29.135468Z",
     "shell.execute_reply": "2025-05-15T16:17:29.135063Z"
    },
    "papermill": {
     "duration": 0.03369,
     "end_time": "2025-05-15T16:17:29.136420",
     "exception": false,
     "start_time": "2025-05-15T16:17:29.102730",
     "status": "completed"
    },
    "tags": []
   },
   "outputs": [
    {
     "data": {
      "text/plain": [
       "['/scratch_isilon/groups/singlecell/shared/projects/Inflammation-PBMCs-Atlas/03_downstream_analysis/08_gene_importance/xgboost_external_validation/xgboost_TopN_genes/results_20/study/T_CD4_NonNaive_6_2_xgboost.pkl']"
      ]
     },
     "execution_count": 20,
     "metadata": {},
     "output_type": "execute_result"
    }
   ],
   "source": [
    "out_dir = here(f'03_downstream_analysis/08_gene_importance/xgboost_external_validation/xgboost_TopN_genes/results_{N_GENES}/study')\n",
    "\n",
    "if not os.path.exists(out_dir):\n",
    "    os.makedirs(out_dir)\n",
    "    \n",
    "joblib.dump(study,os.path.join(out_dir, f'{CELL_TYPE}_{SEED}_{TEST_SPLIT_IDX}_xgboost.pkl'))"
   ]
  },
  {
   "cell_type": "code",
   "execution_count": 21,
   "id": "10f2102e",
   "metadata": {
    "execution": {
     "iopub.execute_input": "2025-05-15T16:17:29.153176Z",
     "iopub.status.busy": "2025-05-15T16:17:29.152980Z",
     "iopub.status.idle": "2025-05-15T16:17:35.676416Z",
     "shell.execute_reply": "2025-05-15T16:17:35.675968Z"
    },
    "papermill": {
     "duration": 6.53279,
     "end_time": "2025-05-15T16:17:35.677442",
     "exception": false,
     "start_time": "2025-05-15T16:17:29.144652",
     "status": "completed"
    },
    "tags": []
   },
   "outputs": [
    {
     "data": {
      "text/html": [
       "<style>#sk-container-id-1 {\n",
       "  /* Definition of color scheme common for light and dark mode */\n",
       "  --sklearn-color-text: black;\n",
       "  --sklearn-color-line: gray;\n",
       "  /* Definition of color scheme for unfitted estimators */\n",
       "  --sklearn-color-unfitted-level-0: #fff5e6;\n",
       "  --sklearn-color-unfitted-level-1: #f6e4d2;\n",
       "  --sklearn-color-unfitted-level-2: #ffe0b3;\n",
       "  --sklearn-color-unfitted-level-3: chocolate;\n",
       "  /* Definition of color scheme for fitted estimators */\n",
       "  --sklearn-color-fitted-level-0: #f0f8ff;\n",
       "  --sklearn-color-fitted-level-1: #d4ebff;\n",
       "  --sklearn-color-fitted-level-2: #b3dbfd;\n",
       "  --sklearn-color-fitted-level-3: cornflowerblue;\n",
       "\n",
       "  /* Specific color for light theme */\n",
       "  --sklearn-color-text-on-default-background: var(--sg-text-color, var(--theme-code-foreground, var(--jp-content-font-color1, black)));\n",
       "  --sklearn-color-background: var(--sg-background-color, var(--theme-background, var(--jp-layout-color0, white)));\n",
       "  --sklearn-color-border-box: var(--sg-text-color, var(--theme-code-foreground, var(--jp-content-font-color1, black)));\n",
       "  --sklearn-color-icon: #696969;\n",
       "\n",
       "  @media (prefers-color-scheme: dark) {\n",
       "    /* Redefinition of color scheme for dark theme */\n",
       "    --sklearn-color-text-on-default-background: var(--sg-text-color, var(--theme-code-foreground, var(--jp-content-font-color1, white)));\n",
       "    --sklearn-color-background: var(--sg-background-color, var(--theme-background, var(--jp-layout-color0, #111)));\n",
       "    --sklearn-color-border-box: var(--sg-text-color, var(--theme-code-foreground, var(--jp-content-font-color1, white)));\n",
       "    --sklearn-color-icon: #878787;\n",
       "  }\n",
       "}\n",
       "\n",
       "#sk-container-id-1 {\n",
       "  color: var(--sklearn-color-text);\n",
       "}\n",
       "\n",
       "#sk-container-id-1 pre {\n",
       "  padding: 0;\n",
       "}\n",
       "\n",
       "#sk-container-id-1 input.sk-hidden--visually {\n",
       "  border: 0;\n",
       "  clip: rect(1px 1px 1px 1px);\n",
       "  clip: rect(1px, 1px, 1px, 1px);\n",
       "  height: 1px;\n",
       "  margin: -1px;\n",
       "  overflow: hidden;\n",
       "  padding: 0;\n",
       "  position: absolute;\n",
       "  width: 1px;\n",
       "}\n",
       "\n",
       "#sk-container-id-1 div.sk-dashed-wrapped {\n",
       "  border: 1px dashed var(--sklearn-color-line);\n",
       "  margin: 0 0.4em 0.5em 0.4em;\n",
       "  box-sizing: border-box;\n",
       "  padding-bottom: 0.4em;\n",
       "  background-color: var(--sklearn-color-background);\n",
       "}\n",
       "\n",
       "#sk-container-id-1 div.sk-container {\n",
       "  /* jupyter's `normalize.less` sets `[hidden] { display: none; }`\n",
       "     but bootstrap.min.css set `[hidden] { display: none !important; }`\n",
       "     so we also need the `!important` here to be able to override the\n",
       "     default hidden behavior on the sphinx rendered scikit-learn.org.\n",
       "     See: https://github.com/scikit-learn/scikit-learn/issues/21755 */\n",
       "  display: inline-block !important;\n",
       "  position: relative;\n",
       "}\n",
       "\n",
       "#sk-container-id-1 div.sk-text-repr-fallback {\n",
       "  display: none;\n",
       "}\n",
       "\n",
       "div.sk-parallel-item,\n",
       "div.sk-serial,\n",
       "div.sk-item {\n",
       "  /* draw centered vertical line to link estimators */\n",
       "  background-image: linear-gradient(var(--sklearn-color-text-on-default-background), var(--sklearn-color-text-on-default-background));\n",
       "  background-size: 2px 100%;\n",
       "  background-repeat: no-repeat;\n",
       "  background-position: center center;\n",
       "}\n",
       "\n",
       "/* Parallel-specific style estimator block */\n",
       "\n",
       "#sk-container-id-1 div.sk-parallel-item::after {\n",
       "  content: \"\";\n",
       "  width: 100%;\n",
       "  border-bottom: 2px solid var(--sklearn-color-text-on-default-background);\n",
       "  flex-grow: 1;\n",
       "}\n",
       "\n",
       "#sk-container-id-1 div.sk-parallel {\n",
       "  display: flex;\n",
       "  align-items: stretch;\n",
       "  justify-content: center;\n",
       "  background-color: var(--sklearn-color-background);\n",
       "  position: relative;\n",
       "}\n",
       "\n",
       "#sk-container-id-1 div.sk-parallel-item {\n",
       "  display: flex;\n",
       "  flex-direction: column;\n",
       "}\n",
       "\n",
       "#sk-container-id-1 div.sk-parallel-item:first-child::after {\n",
       "  align-self: flex-end;\n",
       "  width: 50%;\n",
       "}\n",
       "\n",
       "#sk-container-id-1 div.sk-parallel-item:last-child::after {\n",
       "  align-self: flex-start;\n",
       "  width: 50%;\n",
       "}\n",
       "\n",
       "#sk-container-id-1 div.sk-parallel-item:only-child::after {\n",
       "  width: 0;\n",
       "}\n",
       "\n",
       "/* Serial-specific style estimator block */\n",
       "\n",
       "#sk-container-id-1 div.sk-serial {\n",
       "  display: flex;\n",
       "  flex-direction: column;\n",
       "  align-items: center;\n",
       "  background-color: var(--sklearn-color-background);\n",
       "  padding-right: 1em;\n",
       "  padding-left: 1em;\n",
       "}\n",
       "\n",
       "\n",
       "/* Toggleable style: style used for estimator/Pipeline/ColumnTransformer box that is\n",
       "clickable and can be expanded/collapsed.\n",
       "- Pipeline and ColumnTransformer use this feature and define the default style\n",
       "- Estimators will overwrite some part of the style using the `sk-estimator` class\n",
       "*/\n",
       "\n",
       "/* Pipeline and ColumnTransformer style (default) */\n",
       "\n",
       "#sk-container-id-1 div.sk-toggleable {\n",
       "  /* Default theme specific background. It is overwritten whether we have a\n",
       "  specific estimator or a Pipeline/ColumnTransformer */\n",
       "  background-color: var(--sklearn-color-background);\n",
       "}\n",
       "\n",
       "/* Toggleable label */\n",
       "#sk-container-id-1 label.sk-toggleable__label {\n",
       "  cursor: pointer;\n",
       "  display: block;\n",
       "  width: 100%;\n",
       "  margin-bottom: 0;\n",
       "  padding: 0.5em;\n",
       "  box-sizing: border-box;\n",
       "  text-align: center;\n",
       "}\n",
       "\n",
       "#sk-container-id-1 label.sk-toggleable__label-arrow:before {\n",
       "  /* Arrow on the left of the label */\n",
       "  content: \"▸\";\n",
       "  float: left;\n",
       "  margin-right: 0.25em;\n",
       "  color: var(--sklearn-color-icon);\n",
       "}\n",
       "\n",
       "#sk-container-id-1 label.sk-toggleable__label-arrow:hover:before {\n",
       "  color: var(--sklearn-color-text);\n",
       "}\n",
       "\n",
       "/* Toggleable content - dropdown */\n",
       "\n",
       "#sk-container-id-1 div.sk-toggleable__content {\n",
       "  max-height: 0;\n",
       "  max-width: 0;\n",
       "  overflow: hidden;\n",
       "  text-align: left;\n",
       "  /* unfitted */\n",
       "  background-color: var(--sklearn-color-unfitted-level-0);\n",
       "}\n",
       "\n",
       "#sk-container-id-1 div.sk-toggleable__content.fitted {\n",
       "  /* fitted */\n",
       "  background-color: var(--sklearn-color-fitted-level-0);\n",
       "}\n",
       "\n",
       "#sk-container-id-1 div.sk-toggleable__content pre {\n",
       "  margin: 0.2em;\n",
       "  border-radius: 0.25em;\n",
       "  color: var(--sklearn-color-text);\n",
       "  /* unfitted */\n",
       "  background-color: var(--sklearn-color-unfitted-level-0);\n",
       "}\n",
       "\n",
       "#sk-container-id-1 div.sk-toggleable__content.fitted pre {\n",
       "  /* unfitted */\n",
       "  background-color: var(--sklearn-color-fitted-level-0);\n",
       "}\n",
       "\n",
       "#sk-container-id-1 input.sk-toggleable__control:checked~div.sk-toggleable__content {\n",
       "  /* Expand drop-down */\n",
       "  max-height: 200px;\n",
       "  max-width: 100%;\n",
       "  overflow: auto;\n",
       "}\n",
       "\n",
       "#sk-container-id-1 input.sk-toggleable__control:checked~label.sk-toggleable__label-arrow:before {\n",
       "  content: \"▾\";\n",
       "}\n",
       "\n",
       "/* Pipeline/ColumnTransformer-specific style */\n",
       "\n",
       "#sk-container-id-1 div.sk-label input.sk-toggleable__control:checked~label.sk-toggleable__label {\n",
       "  color: var(--sklearn-color-text);\n",
       "  background-color: var(--sklearn-color-unfitted-level-2);\n",
       "}\n",
       "\n",
       "#sk-container-id-1 div.sk-label.fitted input.sk-toggleable__control:checked~label.sk-toggleable__label {\n",
       "  background-color: var(--sklearn-color-fitted-level-2);\n",
       "}\n",
       "\n",
       "/* Estimator-specific style */\n",
       "\n",
       "/* Colorize estimator box */\n",
       "#sk-container-id-1 div.sk-estimator input.sk-toggleable__control:checked~label.sk-toggleable__label {\n",
       "  /* unfitted */\n",
       "  background-color: var(--sklearn-color-unfitted-level-2);\n",
       "}\n",
       "\n",
       "#sk-container-id-1 div.sk-estimator.fitted input.sk-toggleable__control:checked~label.sk-toggleable__label {\n",
       "  /* fitted */\n",
       "  background-color: var(--sklearn-color-fitted-level-2);\n",
       "}\n",
       "\n",
       "#sk-container-id-1 div.sk-label label.sk-toggleable__label,\n",
       "#sk-container-id-1 div.sk-label label {\n",
       "  /* The background is the default theme color */\n",
       "  color: var(--sklearn-color-text-on-default-background);\n",
       "}\n",
       "\n",
       "/* On hover, darken the color of the background */\n",
       "#sk-container-id-1 div.sk-label:hover label.sk-toggleable__label {\n",
       "  color: var(--sklearn-color-text);\n",
       "  background-color: var(--sklearn-color-unfitted-level-2);\n",
       "}\n",
       "\n",
       "/* Label box, darken color on hover, fitted */\n",
       "#sk-container-id-1 div.sk-label.fitted:hover label.sk-toggleable__label.fitted {\n",
       "  color: var(--sklearn-color-text);\n",
       "  background-color: var(--sklearn-color-fitted-level-2);\n",
       "}\n",
       "\n",
       "/* Estimator label */\n",
       "\n",
       "#sk-container-id-1 div.sk-label label {\n",
       "  font-family: monospace;\n",
       "  font-weight: bold;\n",
       "  display: inline-block;\n",
       "  line-height: 1.2em;\n",
       "}\n",
       "\n",
       "#sk-container-id-1 div.sk-label-container {\n",
       "  text-align: center;\n",
       "}\n",
       "\n",
       "/* Estimator-specific */\n",
       "#sk-container-id-1 div.sk-estimator {\n",
       "  font-family: monospace;\n",
       "  border: 1px dotted var(--sklearn-color-border-box);\n",
       "  border-radius: 0.25em;\n",
       "  box-sizing: border-box;\n",
       "  margin-bottom: 0.5em;\n",
       "  /* unfitted */\n",
       "  background-color: var(--sklearn-color-unfitted-level-0);\n",
       "}\n",
       "\n",
       "#sk-container-id-1 div.sk-estimator.fitted {\n",
       "  /* fitted */\n",
       "  background-color: var(--sklearn-color-fitted-level-0);\n",
       "}\n",
       "\n",
       "/* on hover */\n",
       "#sk-container-id-1 div.sk-estimator:hover {\n",
       "  /* unfitted */\n",
       "  background-color: var(--sklearn-color-unfitted-level-2);\n",
       "}\n",
       "\n",
       "#sk-container-id-1 div.sk-estimator.fitted:hover {\n",
       "  /* fitted */\n",
       "  background-color: var(--sklearn-color-fitted-level-2);\n",
       "}\n",
       "\n",
       "/* Specification for estimator info (e.g. \"i\" and \"?\") */\n",
       "\n",
       "/* Common style for \"i\" and \"?\" */\n",
       "\n",
       ".sk-estimator-doc-link,\n",
       "a:link.sk-estimator-doc-link,\n",
       "a:visited.sk-estimator-doc-link {\n",
       "  float: right;\n",
       "  font-size: smaller;\n",
       "  line-height: 1em;\n",
       "  font-family: monospace;\n",
       "  background-color: var(--sklearn-color-background);\n",
       "  border-radius: 1em;\n",
       "  height: 1em;\n",
       "  width: 1em;\n",
       "  text-decoration: none !important;\n",
       "  margin-left: 1ex;\n",
       "  /* unfitted */\n",
       "  border: var(--sklearn-color-unfitted-level-1) 1pt solid;\n",
       "  color: var(--sklearn-color-unfitted-level-1);\n",
       "}\n",
       "\n",
       ".sk-estimator-doc-link.fitted,\n",
       "a:link.sk-estimator-doc-link.fitted,\n",
       "a:visited.sk-estimator-doc-link.fitted {\n",
       "  /* fitted */\n",
       "  border: var(--sklearn-color-fitted-level-1) 1pt solid;\n",
       "  color: var(--sklearn-color-fitted-level-1);\n",
       "}\n",
       "\n",
       "/* On hover */\n",
       "div.sk-estimator:hover .sk-estimator-doc-link:hover,\n",
       ".sk-estimator-doc-link:hover,\n",
       "div.sk-label-container:hover .sk-estimator-doc-link:hover,\n",
       ".sk-estimator-doc-link:hover {\n",
       "  /* unfitted */\n",
       "  background-color: var(--sklearn-color-unfitted-level-3);\n",
       "  color: var(--sklearn-color-background);\n",
       "  text-decoration: none;\n",
       "}\n",
       "\n",
       "div.sk-estimator.fitted:hover .sk-estimator-doc-link.fitted:hover,\n",
       ".sk-estimator-doc-link.fitted:hover,\n",
       "div.sk-label-container:hover .sk-estimator-doc-link.fitted:hover,\n",
       ".sk-estimator-doc-link.fitted:hover {\n",
       "  /* fitted */\n",
       "  background-color: var(--sklearn-color-fitted-level-3);\n",
       "  color: var(--sklearn-color-background);\n",
       "  text-decoration: none;\n",
       "}\n",
       "\n",
       "/* Span, style for the box shown on hovering the info icon */\n",
       ".sk-estimator-doc-link span {\n",
       "  display: none;\n",
       "  z-index: 9999;\n",
       "  position: relative;\n",
       "  font-weight: normal;\n",
       "  right: .2ex;\n",
       "  padding: .5ex;\n",
       "  margin: .5ex;\n",
       "  width: min-content;\n",
       "  min-width: 20ex;\n",
       "  max-width: 50ex;\n",
       "  color: var(--sklearn-color-text);\n",
       "  box-shadow: 2pt 2pt 4pt #999;\n",
       "  /* unfitted */\n",
       "  background: var(--sklearn-color-unfitted-level-0);\n",
       "  border: .5pt solid var(--sklearn-color-unfitted-level-3);\n",
       "}\n",
       "\n",
       ".sk-estimator-doc-link.fitted span {\n",
       "  /* fitted */\n",
       "  background: var(--sklearn-color-fitted-level-0);\n",
       "  border: var(--sklearn-color-fitted-level-3);\n",
       "}\n",
       "\n",
       ".sk-estimator-doc-link:hover span {\n",
       "  display: block;\n",
       "}\n",
       "\n",
       "/* \"?\"-specific style due to the `<a>` HTML tag */\n",
       "\n",
       "#sk-container-id-1 a.estimator_doc_link {\n",
       "  float: right;\n",
       "  font-size: 1rem;\n",
       "  line-height: 1em;\n",
       "  font-family: monospace;\n",
       "  background-color: var(--sklearn-color-background);\n",
       "  border-radius: 1rem;\n",
       "  height: 1rem;\n",
       "  width: 1rem;\n",
       "  text-decoration: none;\n",
       "  /* unfitted */\n",
       "  color: var(--sklearn-color-unfitted-level-1);\n",
       "  border: var(--sklearn-color-unfitted-level-1) 1pt solid;\n",
       "}\n",
       "\n",
       "#sk-container-id-1 a.estimator_doc_link.fitted {\n",
       "  /* fitted */\n",
       "  border: var(--sklearn-color-fitted-level-1) 1pt solid;\n",
       "  color: var(--sklearn-color-fitted-level-1);\n",
       "}\n",
       "\n",
       "/* On hover */\n",
       "#sk-container-id-1 a.estimator_doc_link:hover {\n",
       "  /* unfitted */\n",
       "  background-color: var(--sklearn-color-unfitted-level-3);\n",
       "  color: var(--sklearn-color-background);\n",
       "  text-decoration: none;\n",
       "}\n",
       "\n",
       "#sk-container-id-1 a.estimator_doc_link.fitted:hover {\n",
       "  /* fitted */\n",
       "  background-color: var(--sklearn-color-fitted-level-3);\n",
       "}\n",
       "</style><div id=\"sk-container-id-1\" class=\"sk-top-container\"><div class=\"sk-text-repr-fallback\"><pre>XGBClassifier(base_score=None, booster=None, callbacks=None,\n",
       "              colsample_bylevel=None, colsample_bynode=0.49684963755254796,\n",
       "              colsample_bytree=None, device=None, early_stopping_rounds=None,\n",
       "              enable_categorical=False,\n",
       "              eval_metric=&lt;function custom_f1_score at 0x7fac8377c4a0&gt;,\n",
       "              feature_types=None, gamma=None, grow_policy=None,\n",
       "              importance_type=None, interaction_constraints=None,\n",
       "              learning_rate=0.3538930706309965, max_bin=None,\n",
       "              max_cat_threshold=None, max_cat_to_onehot=None,\n",
       "              max_delta_step=None, max_depth=7, max_leaves=None,\n",
       "              min_child_weight=52, missing=nan, monotone_constraints=None,\n",
       "              multi_strategy=None, n_estimators=76, n_jobs=None,\n",
       "              num_parallel_tree=None, objective=&#x27;multi:softprob&#x27;, ...)</pre><b>In a Jupyter environment, please rerun this cell to show the HTML representation or trust the notebook. <br />On GitHub, the HTML representation is unable to render, please try loading this page with nbviewer.org.</b></div><div class=\"sk-container\" hidden><div class=\"sk-item\"><div class=\"sk-estimator fitted sk-toggleable\"><input class=\"sk-toggleable__control sk-hidden--visually\" id=\"sk-estimator-id-1\" type=\"checkbox\" checked><label for=\"sk-estimator-id-1\" class=\"sk-toggleable__label fitted sk-toggleable__label-arrow fitted\">&nbsp;XGBClassifier<span class=\"sk-estimator-doc-link fitted\">i<span>Fitted</span></span></label><div class=\"sk-toggleable__content fitted\"><pre>XGBClassifier(base_score=None, booster=None, callbacks=None,\n",
       "              colsample_bylevel=None, colsample_bynode=0.49684963755254796,\n",
       "              colsample_bytree=None, device=None, early_stopping_rounds=None,\n",
       "              enable_categorical=False,\n",
       "              eval_metric=&lt;function custom_f1_score at 0x7fac8377c4a0&gt;,\n",
       "              feature_types=None, gamma=None, grow_policy=None,\n",
       "              importance_type=None, interaction_constraints=None,\n",
       "              learning_rate=0.3538930706309965, max_bin=None,\n",
       "              max_cat_threshold=None, max_cat_to_onehot=None,\n",
       "              max_delta_step=None, max_depth=7, max_leaves=None,\n",
       "              min_child_weight=52, missing=nan, monotone_constraints=None,\n",
       "              multi_strategy=None, n_estimators=76, n_jobs=None,\n",
       "              num_parallel_tree=None, objective=&#x27;multi:softprob&#x27;, ...)</pre></div> </div></div></div></div>"
      ],
      "text/plain": [
       "XGBClassifier(base_score=None, booster=None, callbacks=None,\n",
       "              colsample_bylevel=None, colsample_bynode=0.49684963755254796,\n",
       "              colsample_bytree=None, device=None, early_stopping_rounds=None,\n",
       "              enable_categorical=False,\n",
       "              eval_metric=<function custom_f1_score at 0x7fac8377c4a0>,\n",
       "              feature_types=None, gamma=None, grow_policy=None,\n",
       "              importance_type=None, interaction_constraints=None,\n",
       "              learning_rate=0.3538930706309965, max_bin=None,\n",
       "              max_cat_threshold=None, max_cat_to_onehot=None,\n",
       "              max_delta_step=None, max_depth=7, max_leaves=None,\n",
       "              min_child_weight=52, missing=nan, monotone_constraints=None,\n",
       "              multi_strategy=None, n_estimators=76, n_jobs=None,\n",
       "              num_parallel_tree=None, objective='multi:softprob', ...)"
      ]
     },
     "execution_count": 21,
     "metadata": {},
     "output_type": "execute_result"
    }
   ],
   "source": [
    "n_estimators = int(study.best_trial.user_attrs['best_iteration']*1.2)\n",
    "xgb = xgboost.XGBClassifier(\n",
    "        eval_metric=eval_metric,\n",
    "        n_estimators=n_estimators,\n",
    "        **study.best_trial.params\n",
    "    )\n",
    "xgb.fit(\n",
    "    ssp.vstack((X_train, X_val)), \n",
    "    np.concatenate((y_train_enc, y_val_enc)),\n",
    "    verbose=1,\n",
    ")"
   ]
  },
  {
   "cell_type": "code",
   "execution_count": 22,
   "id": "8992de4a",
   "metadata": {
    "execution": {
     "iopub.execute_input": "2025-05-15T16:17:35.698260Z",
     "iopub.status.busy": "2025-05-15T16:17:35.697904Z",
     "iopub.status.idle": "2025-05-15T16:17:35.740112Z",
     "shell.execute_reply": "2025-05-15T16:17:35.739662Z"
    },
    "papermill": {
     "duration": 0.052409,
     "end_time": "2025-05-15T16:17:35.741033",
     "exception": false,
     "start_time": "2025-05-15T16:17:35.688624",
     "status": "completed"
    },
    "tags": []
   },
   "outputs": [
    {
     "data": {
      "text/plain": [
       "['/scratch_isilon/groups/singlecell/shared/projects/Inflammation-PBMCs-Atlas/03_downstream_analysis/08_gene_importance/xgboost_external_validation/xgboost_TopN_genes/results_20/best_model/T_CD4_NonNaive_6_2_xgb.json']"
      ]
     },
     "execution_count": 22,
     "metadata": {},
     "output_type": "execute_result"
    }
   ],
   "source": [
    "out_dir = here(f'03_downstream_analysis/08_gene_importance/xgboost_external_validation/xgboost_TopN_genes/results_{N_GENES}/best_model')\n",
    "\n",
    "if not os.path.exists(out_dir):\n",
    "    os.makedirs(out_dir)\n",
    "    \n",
    "joblib.dump(xgb, os.path.join(out_dir, f'{CELL_TYPE}_{SEED}_{TEST_SPLIT_IDX}_xgb.json'))"
   ]
  },
  {
   "cell_type": "code",
   "execution_count": 23,
   "id": "247ccf01",
   "metadata": {
    "execution": {
     "iopub.execute_input": "2025-05-15T16:17:35.759312Z",
     "iopub.status.busy": "2025-05-15T16:17:35.759100Z",
     "iopub.status.idle": "2025-05-15T16:17:36.067441Z",
     "shell.execute_reply": "2025-05-15T16:17:36.066935Z"
    },
    "papermill": {
     "duration": 0.318641,
     "end_time": "2025-05-15T16:17:36.068724",
     "exception": false,
     "start_time": "2025-05-15T16:17:35.750083",
     "status": "completed"
    },
    "tags": []
   },
   "outputs": [],
   "source": [
    "df_pred_test = pd.DataFrame(dict(\n",
    "    cell_id=train_adata.obs.iloc[test_idxs].index.values,\n",
    "    y_true=y_test, \n",
    "    y_true_code=y_test_enc, \n",
    "    y_pred=xgb.predict(X_test))).set_index('cell_id')"
   ]
  },
  {
   "cell_type": "code",
   "execution_count": 24,
   "id": "f62eeb28",
   "metadata": {
    "execution": {
     "iopub.execute_input": "2025-05-15T16:17:36.087190Z",
     "iopub.status.busy": "2025-05-15T16:17:36.086981Z",
     "iopub.status.idle": "2025-05-15T16:17:36.221270Z",
     "shell.execute_reply": "2025-05-15T16:17:36.220669Z"
    },
    "papermill": {
     "duration": 0.144694,
     "end_time": "2025-05-15T16:17:36.222315",
     "exception": false,
     "start_time": "2025-05-15T16:17:36.077621",
     "status": "completed"
    },
    "tags": []
   },
   "outputs": [],
   "source": [
    "out_dir = here(f'03_downstream_analysis/08_gene_importance/xgboost_external_validation/xgboost_TopN_genes/results_{N_GENES}/predictions')\n",
    "\n",
    "if not os.path.exists(out_dir):\n",
    "    os.makedirs(out_dir)\n",
    "    \n",
    "df_pred_test.to_csv(os.path.join(out_dir, f'{CELL_TYPE}_{SEED}_{TEST_SPLIT_IDX}_pred_test.zip'))"
   ]
  },
  {
   "cell_type": "code",
   "execution_count": 25,
   "id": "235174d9",
   "metadata": {
    "execution": {
     "iopub.execute_input": "2025-05-15T16:17:36.241505Z",
     "iopub.status.busy": "2025-05-15T16:17:36.241202Z",
     "iopub.status.idle": "2025-05-15T16:17:36.256114Z",
     "shell.execute_reply": "2025-05-15T16:17:36.255590Z"
    },
    "papermill": {
     "duration": 0.02589,
     "end_time": "2025-05-15T16:17:36.257066",
     "exception": false,
     "start_time": "2025-05-15T16:17:36.231176",
     "status": "completed"
    },
    "tags": []
   },
   "outputs": [],
   "source": [
    "metrics_dict = dict(\n",
    "    BAS=balanced_accuracy_score(y_true=df_pred_test.y_true_code, y_pred=df_pred_test.y_pred), WF1=f1_score(y_true=df_pred_test.y_true_code, y_pred=df_pred_test.y_pred,average='weighted'))"
   ]
  },
  {
   "cell_type": "code",
   "execution_count": 26,
   "id": "dc091fdf",
   "metadata": {
    "execution": {
     "iopub.execute_input": "2025-05-15T16:17:36.276193Z",
     "iopub.status.busy": "2025-05-15T16:17:36.275709Z",
     "iopub.status.idle": "2025-05-15T16:17:36.278890Z",
     "shell.execute_reply": "2025-05-15T16:17:36.278552Z"
    },
    "papermill": {
     "duration": 0.013316,
     "end_time": "2025-05-15T16:17:36.279748",
     "exception": false,
     "start_time": "2025-05-15T16:17:36.266432",
     "status": "completed"
    },
    "tags": []
   },
   "outputs": [
    {
     "data": {
      "text/plain": [
       "{'BAS': 0.4554028497569804, 'WF1': 0.7233251102965673}"
      ]
     },
     "execution_count": 26,
     "metadata": {},
     "output_type": "execute_result"
    }
   ],
   "source": [
    "metrics_dict"
   ]
  },
  {
   "cell_type": "code",
   "execution_count": 27,
   "id": "4f91b890",
   "metadata": {
    "execution": {
     "iopub.execute_input": "2025-05-15T16:17:36.297760Z",
     "iopub.status.busy": "2025-05-15T16:17:36.297551Z",
     "iopub.status.idle": "2025-05-15T16:17:36.306833Z",
     "shell.execute_reply": "2025-05-15T16:17:36.306510Z"
    },
    "papermill": {
     "duration": 0.019245,
     "end_time": "2025-05-15T16:17:36.307649",
     "exception": false,
     "start_time": "2025-05-15T16:17:36.288404",
     "status": "completed"
    },
    "tags": []
   },
   "outputs": [
    {
     "data": {
      "text/html": [
       "<div>\n",
       "<style scoped>\n",
       "    .dataframe tbody tr th:only-of-type {\n",
       "        vertical-align: middle;\n",
       "    }\n",
       "\n",
       "    .dataframe tbody tr th {\n",
       "        vertical-align: top;\n",
       "    }\n",
       "\n",
       "    .dataframe thead th {\n",
       "        text-align: right;\n",
       "    }\n",
       "</style>\n",
       "<table border=\"1\" class=\"dataframe\">\n",
       "  <thead>\n",
       "    <tr style=\"text-align: right;\">\n",
       "      <th></th>\n",
       "      <th>BAS</th>\n",
       "      <th>WF1</th>\n",
       "      <th>split_idx</th>\n",
       "      <th>gene_set_seed</th>\n",
       "      <th>cell_type</th>\n",
       "    </tr>\n",
       "  </thead>\n",
       "  <tbody>\n",
       "    <tr>\n",
       "      <th>0</th>\n",
       "      <td>0.455403</td>\n",
       "      <td>0.723325</td>\n",
       "      <td>2</td>\n",
       "      <td>6</td>\n",
       "      <td>T_CD4_NonNaive</td>\n",
       "    </tr>\n",
       "  </tbody>\n",
       "</table>\n",
       "</div>"
      ],
      "text/plain": [
       "        BAS       WF1  split_idx  gene_set_seed       cell_type\n",
       "0  0.455403  0.723325          2              6  T_CD4_NonNaive"
      ]
     },
     "execution_count": 27,
     "metadata": {},
     "output_type": "execute_result"
    }
   ],
   "source": [
    "metrics_df = pd.DataFrame.from_dict([metrics_dict]).assign(split_idx=TEST_SPLIT_IDX, gene_set_seed=SEED, cell_type=CELL_TYPE)\n",
    "metrics_df"
   ]
  },
  {
   "cell_type": "code",
   "execution_count": 28,
   "id": "a381965c",
   "metadata": {
    "execution": {
     "iopub.execute_input": "2025-05-15T16:17:36.325256Z",
     "iopub.status.busy": "2025-05-15T16:17:36.325042Z",
     "iopub.status.idle": "2025-05-15T16:17:36.332934Z",
     "shell.execute_reply": "2025-05-15T16:17:36.332567Z"
    },
    "papermill": {
     "duration": 0.017701,
     "end_time": "2025-05-15T16:17:36.333776",
     "exception": false,
     "start_time": "2025-05-15T16:17:36.316075",
     "status": "completed"
    },
    "tags": []
   },
   "outputs": [],
   "source": [
    "out_dir = here(f'03_downstream_analysis/08_gene_importance/xgboost_external_validation/xgboost_TopN_genes/results_{N_GENES}/metrics')\n",
    "\n",
    "if not os.path.exists(out_dir):\n",
    "    os.makedirs(out_dir)\n",
    "    \n",
    "metrics_df.to_csv(os.path.join(out_dir, f'{CELL_TYPE}_{SEED}_{TEST_SPLIT_IDX}_metrics.zip'))"
   ]
  }
 ],
 "metadata": {
  "kernelspec": {
   "display_name": "Python 3 (ipykernel)",
   "language": "python",
   "name": "python3"
  },
  "language_info": {
   "codemirror_mode": {
    "name": "ipython",
    "version": 3
   },
   "file_extension": ".py",
   "mimetype": "text/x-python",
   "name": "python",
   "nbconvert_exporter": "python",
   "pygments_lexer": "ipython3",
   "version": "3.12.5"
  },
  "papermill": {
   "default_parameters": {},
   "duration": 906.663519,
   "end_time": "2025-05-15T16:17:36.974134",
   "environment_variables": {},
   "exception": null,
   "input_path": "02_xgboost_fitting_external_20genes.ipynb",
   "output_path": "results_20/executed_notebooks/xgboost_fitting_external_CT_T_CD4_NonNaive_GS_6_seed2.ipynb",
   "parameters": {
    "CELL_TYPE": "T_CD4_NonNaive",
    "SEED": 6,
    "TEST_SPLIT_IDX": 2
   },
   "start_time": "2025-05-15T16:02:30.310615",
   "version": "2.6.0"
  }
 },
 "nbformat": 4,
 "nbformat_minor": 5
}