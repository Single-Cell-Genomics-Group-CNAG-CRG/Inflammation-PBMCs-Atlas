{
 "cells": [
  {
   "cell_type": "code",
   "execution_count": 1,
   "id": "86156bd9",
   "metadata": {
    "editable": true,
    "execution": {
     "iopub.execute_input": "2025-06-13T13:05:47.413013Z",
     "iopub.status.busy": "2025-06-13T13:05:47.412784Z",
     "iopub.status.idle": "2025-06-13T13:05:47.415781Z",
     "shell.execute_reply": "2025-06-13T13:05:47.415409Z"
    },
    "papermill": {
     "duration": 0.015842,
     "end_time": "2025-06-13T13:05:47.416860",
     "exception": false,
     "start_time": "2025-06-13T13:05:47.401018",
     "status": "completed"
    },
    "slideshow": {
     "slide_type": ""
    },
    "tags": [
     "parameters"
    ]
   },
   "outputs": [],
   "source": [
    "CELL_TYPE = 'pDC'\n",
    "N_GENES: int = 20\n",
    "SEED = 'shap_studyID' #'disease_NOstudy' 'study_NOdisease' or 'int' or 'shap_studyID'\n",
    "TEST_SPLIT_IDX: int = 1 #[0,4]"
   ]
  },
  {
   "cell_type": "code",
   "execution_count": 2,
   "id": "f250a442",
   "metadata": {
    "execution": {
     "iopub.execute_input": "2025-06-13T13:05:47.432733Z",
     "iopub.status.busy": "2025-06-13T13:05:47.432428Z",
     "iopub.status.idle": "2025-06-13T13:05:47.434757Z",
     "shell.execute_reply": "2025-06-13T13:05:47.434388Z"
    },
    "papermill": {
     "duration": 0.012243,
     "end_time": "2025-06-13T13:05:47.435746",
     "exception": false,
     "start_time": "2025-06-13T13:05:47.423503",
     "status": "completed"
    },
    "tags": [
     "injected-parameters"
    ]
   },
   "outputs": [],
   "source": [
    "# Parameters\n",
    "CELL_TYPE = \"T_CD8_NonNaive\"\n",
    "SEED = \"shap_studyID_NOdisease_samesize\"\n",
    "TEST_SPLIT_IDX = 4\n"
   ]
  },
  {
   "cell_type": "code",
   "execution_count": 3,
   "id": "2e0872fe",
   "metadata": {
    "execution": {
     "iopub.execute_input": "2025-06-13T13:05:47.467323Z",
     "iopub.status.busy": "2025-06-13T13:05:47.467129Z",
     "iopub.status.idle": "2025-06-13T13:05:47.469395Z",
     "shell.execute_reply": "2025-06-13T13:05:47.469018Z"
    },
    "papermill": {
     "duration": 0.028564,
     "end_time": "2025-06-13T13:05:47.470422",
     "exception": false,
     "start_time": "2025-06-13T13:05:47.441858",
     "status": "completed"
    },
    "tags": []
   },
   "outputs": [],
   "source": [
    "N_SPLITS: int = 5\n",
    "N_TRIALS: int = 50"
   ]
  },
  {
   "cell_type": "code",
   "execution_count": 4,
   "id": "1a138a5e",
   "metadata": {
    "execution": {
     "iopub.execute_input": "2025-06-13T13:05:47.485334Z",
     "iopub.status.busy": "2025-06-13T13:05:47.485131Z",
     "iopub.status.idle": "2025-06-13T13:05:49.191029Z",
     "shell.execute_reply": "2025-06-13T13:05:49.190461Z"
    },
    "papermill": {
     "duration": 1.715424,
     "end_time": "2025-06-13T13:05:49.192559",
     "exception": false,
     "start_time": "2025-06-13T13:05:47.477135",
     "status": "completed"
    },
    "tags": []
   },
   "outputs": [],
   "source": [
    "import os\n",
    "import sys\n",
    "from pyprojroot.here import here\n",
    "import pandas as pd\n",
    "import anndata as ad\n",
    "import numpy as np\n",
    "import math\n",
    "from sklearn.model_selection import StratifiedGroupKFold\n",
    "from sklearn.preprocessing import LabelEncoder\n",
    "from sklearn.metrics import f1_score\n",
    "import matplotlib.pyplot as plt\n",
    "import seaborn as sns\n",
    "from itertools import product\n",
    "from sklearn.metrics import balanced_accuracy_score, f1_score\n",
    "import optuna\n",
    "\n",
    "import joblib\n",
    "import pickle\n",
    "import datetime\n",
    "\n",
    "import collections\n",
    "\n",
    "import xgboost\n",
    "from sklearn.preprocessing import LabelEncoder\n",
    "\n",
    "import scipy.sparse as ssp\n",
    "import joblib\n",
    "\n",
    "from dotenv import load_dotenv"
   ]
  },
  {
   "cell_type": "code",
   "execution_count": 5,
   "id": "cac1ae7b",
   "metadata": {
    "execution": {
     "iopub.execute_input": "2025-06-13T13:05:49.206689Z",
     "iopub.status.busy": "2025-06-13T13:05:49.206295Z",
     "iopub.status.idle": "2025-06-13T13:05:49.212699Z",
     "shell.execute_reply": "2025-06-13T13:05:49.212339Z"
    },
    "papermill": {
     "duration": 0.014277,
     "end_time": "2025-06-13T13:05:49.213669",
     "exception": false,
     "start_time": "2025-06-13T13:05:49.199392",
     "status": "completed"
    },
    "tags": []
   },
   "outputs": [
    {
     "data": {
      "text/plain": [
       "True"
      ]
     },
     "execution_count": 5,
     "metadata": {},
     "output_type": "execute_result"
    }
   ],
   "source": [
    "load_dotenv()"
   ]
  },
  {
   "cell_type": "markdown",
   "id": "580499e2",
   "metadata": {
    "papermill": {
     "duration": 0.005859,
     "end_time": "2025-06-13T13:05:49.225371",
     "exception": false,
     "start_time": "2025-06-13T13:05:49.219512",
     "status": "completed"
    },
    "tags": []
   },
   "source": [
    "# LOAD DATASET"
   ]
  },
  {
   "cell_type": "code",
   "execution_count": 6,
   "id": "d2125354",
   "metadata": {
    "execution": {
     "iopub.execute_input": "2025-06-13T13:05:49.239155Z",
     "iopub.status.busy": "2025-06-13T13:05:49.238879Z",
     "iopub.status.idle": "2025-06-13T13:05:49.756083Z",
     "shell.execute_reply": "2025-06-13T13:05:49.755580Z"
    },
    "papermill": {
     "duration": 0.526218,
     "end_time": "2025-06-13T13:05:49.757605",
     "exception": false,
     "start_time": "2025-06-13T13:05:49.231387",
     "status": "completed"
    },
    "tags": []
   },
   "outputs": [],
   "source": [
    "train_adata = ad.read_h5ad(\n",
    "    here(f'03_downstream_analysis/08_gene_importance/xgboost_external_validation/xgboost_TopN_genes/data_cellTypes/EXTERNAL_{CELL_TYPE}.filtered.log1p.h5ad')\n",
    ")"
   ]
  },
  {
   "cell_type": "code",
   "execution_count": 7,
   "id": "7d11f051",
   "metadata": {
    "execution": {
     "iopub.execute_input": "2025-06-13T13:05:49.771323Z",
     "iopub.status.busy": "2025-06-13T13:05:49.770978Z",
     "iopub.status.idle": "2025-06-13T13:05:49.797608Z",
     "shell.execute_reply": "2025-06-13T13:05:49.797216Z"
    },
    "papermill": {
     "duration": 0.034247,
     "end_time": "2025-06-13T13:05:49.798602",
     "exception": false,
     "start_time": "2025-06-13T13:05:49.764355",
     "status": "completed"
    },
    "tags": []
   },
   "outputs": [
    {
     "name": "stdout",
     "output_type": "stream",
     "text": [
      "['ENSG00000002549' 'ENSG00000004468' 'ENSG00000005844' 'ENSG00000019582'\n",
      " 'ENSG00000027697' 'ENSG00000033800' 'ENSG00000042753' 'ENSG00000065978'\n",
      " 'ENSG00000075945' 'ENSG00000076662' 'ENSG00000089327' 'ENSG00000099204'\n",
      " 'ENSG00000100911' 'ENSG00000101439' 'ENSG00000103490' 'ENSG00000104660'\n",
      " 'ENSG00000105221' 'ENSG00000105583' 'ENSG00000105851' 'ENSG00000108518'\n",
      " 'ENSG00000108622' 'ENSG00000110395' 'ENSG00000111716' 'ENSG00000121858'\n",
      " 'ENSG00000121879' 'ENSG00000127152' 'ENSG00000127951' 'ENSG00000130522'\n",
      " 'ENSG00000130724' 'ENSG00000132912' 'ENSG00000138674' 'ENSG00000140379'\n",
      " 'ENSG00000144802' 'ENSG00000145247' 'ENSG00000146457' 'ENSG00000149311'\n",
      " 'ENSG00000158517' 'ENSG00000159110' 'ENSG00000159674' 'ENSG00000160075'\n",
      " 'ENSG00000160213' 'ENSG00000160255' 'ENSG00000160710' 'ENSG00000160888'\n",
      " 'ENSG00000160932' 'ENSG00000161203' 'ENSG00000162368' 'ENSG00000162434'\n",
      " 'ENSG00000162704' 'ENSG00000162739' 'ENSG00000163131' 'ENSG00000163191'\n",
      " 'ENSG00000163220' 'ENSG00000163508' 'ENSG00000163513' 'ENSG00000163659'\n",
      " 'ENSG00000163660' 'ENSG00000163931' 'ENSG00000164104' 'ENSG00000164307'\n",
      " 'ENSG00000164308' 'ENSG00000164483' 'ENSG00000164543' 'ENSG00000164674'\n",
      " 'ENSG00000165272' 'ENSG00000165280' 'ENSG00000165527' 'ENSG00000165732'\n",
      " 'ENSG00000166710' 'ENSG00000166747' 'ENSG00000166847' 'ENSG00000166888'\n",
      " 'ENSG00000167004' 'ENSG00000167996' 'ENSG00000168329' 'ENSG00000168394'\n",
      " 'ENSG00000168610' 'ENSG00000168685' 'ENSG00000168894' 'ENSG00000169442'\n",
      " 'ENSG00000169554' 'ENSG00000169564' 'ENSG00000169583' 'ENSG00000169896'\n",
      " 'ENSG00000170296' 'ENSG00000170345' 'ENSG00000170540' 'ENSG00000170581'\n",
      " 'ENSG00000170989' 'ENSG00000171223' 'ENSG00000171476' 'ENSG00000171608'\n",
      " 'ENSG00000171700' 'ENSG00000171791' 'ENSG00000172005' 'ENSG00000179295'\n",
      " 'ENSG00000185883' 'ENSG00000197102' 'ENSG00000198832' 'ENSG00000204482'\n",
      " 'ENSG00000204843' 'ENSG00000215788' 'ENSG00000228474' 'ENSG00000277734']\n"
     ]
    }
   ],
   "source": [
    "if SEED != 'all':\n",
    "    gene_subset = np.load(here(f'03_downstream_analysis/08_gene_importance/xgboost_external_validation/shap_gene_selection/gene_subsets_{N_GENES}/{CELL_TYPE}_{SEED}.npy'), allow_pickle=True)\n",
    "    train_adata = train_adata[:,gene_subset]\n",
    "    print(gene_subset)\n",
    "elif SEED == 'all':\n",
    "    print('Using all genes')\n",
    "else:\n",
    "    raise ValueError()"
   ]
  },
  {
   "cell_type": "code",
   "execution_count": 8,
   "id": "a274ab99",
   "metadata": {
    "execution": {
     "iopub.execute_input": "2025-06-13T13:05:49.811930Z",
     "iopub.status.busy": "2025-06-13T13:05:49.811706Z",
     "iopub.status.idle": "2025-06-13T13:05:49.814966Z",
     "shell.execute_reply": "2025-06-13T13:05:49.814614Z"
    },
    "papermill": {
     "duration": 0.010546,
     "end_time": "2025-06-13T13:05:49.815892",
     "exception": false,
     "start_time": "2025-06-13T13:05:49.805346",
     "status": "completed"
    },
    "tags": []
   },
   "outputs": [
    {
     "data": {
      "text/plain": [
       "(72200, 104)"
      ]
     },
     "execution_count": 8,
     "metadata": {},
     "output_type": "execute_result"
    }
   ],
   "source": [
    "train_adata.shape"
   ]
  },
  {
   "cell_type": "code",
   "execution_count": 9,
   "id": "886a404f",
   "metadata": {
    "execution": {
     "iopub.execute_input": "2025-06-13T13:05:49.828663Z",
     "iopub.status.busy": "2025-06-13T13:05:49.828384Z",
     "iopub.status.idle": "2025-06-13T13:05:49.832184Z",
     "shell.execute_reply": "2025-06-13T13:05:49.831857Z"
    },
    "papermill": {
     "duration": 0.011153,
     "end_time": "2025-06-13T13:05:49.833121",
     "exception": false,
     "start_time": "2025-06-13T13:05:49.821968",
     "status": "completed"
    },
    "tags": []
   },
   "outputs": [
    {
     "data": {
      "text/plain": [
       "['RA', 'COVID', 'healthy', 'HIV', 'cirrhosis', 'CD', 'SLE', 'sepsis']\n",
       "Categories (8, object): ['CD', 'COVID', 'HIV', 'RA', 'SLE', 'cirrhosis', 'healthy', 'sepsis']"
      ]
     },
     "execution_count": 9,
     "metadata": {},
     "output_type": "execute_result"
    }
   ],
   "source": [
    "train_adata.obs.disease.unique()"
   ]
  },
  {
   "cell_type": "code",
   "execution_count": 10,
   "id": "93667826",
   "metadata": {
    "execution": {
     "iopub.execute_input": "2025-06-13T13:05:49.846485Z",
     "iopub.status.busy": "2025-06-13T13:05:49.846177Z",
     "iopub.status.idle": "2025-06-13T13:05:49.850001Z",
     "shell.execute_reply": "2025-06-13T13:05:49.849651Z"
    },
    "papermill": {
     "duration": 0.012182,
     "end_time": "2025-06-13T13:05:49.851129",
     "exception": false,
     "start_time": "2025-06-13T13:05:49.838947",
     "status": "completed"
    },
    "tags": []
   },
   "outputs": [
    {
     "data": {
      "text/plain": [
       "['SCGT00val_I036016_T0', 'SCGT00val_I036021_T0', 'SCGT00val_I036028_T0', 'SCGT00val_I036015_T0', 'SCGT00val_I0364_T0', ..., '10XGenomics_10XHC2_T0', '10XGenomics_10XHC3_T0', '10XGenomics_10XHC5_T0', '10XGenomics_10XHC7_T0', '10XGenomics_10XHC8_T0']\n",
       "Length: 86\n",
       "Categories (86, object): ['10XGenomics_10XHC1_T0', '10XGenomics_10XHC2_T0', '10XGenomics_10XHC3_T0', '10XGenomics_10XHC4_T0', ..., 'Savage2021_BRISL6_T0', 'Savage2021_BRISL7_T0', 'Savage2021_PIDA_T0', 'Savage2021_PIDB_T0']"
      ]
     },
     "execution_count": 10,
     "metadata": {},
     "output_type": "execute_result"
    }
   ],
   "source": [
    "train_adata.obs.sampleID.unique()"
   ]
  },
  {
   "cell_type": "code",
   "execution_count": 11,
   "id": "fb3f5d5c",
   "metadata": {
    "execution": {
     "iopub.execute_input": "2025-06-13T13:05:49.864049Z",
     "iopub.status.busy": "2025-06-13T13:05:49.863747Z",
     "iopub.status.idle": "2025-06-13T13:05:50.085708Z",
     "shell.execute_reply": "2025-06-13T13:05:50.085231Z"
    },
    "papermill": {
     "duration": 0.23003,
     "end_time": "2025-06-13T13:05:50.087097",
     "exception": false,
     "start_time": "2025-06-13T13:05:49.857067",
     "status": "completed"
    },
    "tags": []
   },
   "outputs": [],
   "source": [
    "all_idxs = np.arange(train_adata.obs.shape[0])\n",
    "left_out_splits = [s[1] for s in StratifiedGroupKFold(n_splits=N_SPLITS).split(all_idxs, train_adata.obs.disease, train_adata.obs.sampleID)]"
   ]
  },
  {
   "cell_type": "code",
   "execution_count": 12,
   "id": "375e97e0",
   "metadata": {
    "execution": {
     "iopub.execute_input": "2025-06-13T13:05:50.101789Z",
     "iopub.status.busy": "2025-06-13T13:05:50.101489Z",
     "iopub.status.idle": "2025-06-13T13:05:50.105148Z",
     "shell.execute_reply": "2025-06-13T13:05:50.104784Z"
    },
    "papermill": {
     "duration": 0.011754,
     "end_time": "2025-06-13T13:05:50.106205",
     "exception": false,
     "start_time": "2025-06-13T13:05:50.094451",
     "status": "completed"
    },
    "tags": []
   },
   "outputs": [
    {
     "data": {
      "text/plain": [
       "([1, 2, 3], 0, 4)"
      ]
     },
     "execution_count": 12,
     "metadata": {},
     "output_type": "execute_result"
    }
   ],
   "source": [
    "TRAIN_SPLIT_IDXS = [0,1,2,3,4]\n",
    "VAL_SPLIT_IDX = (TEST_SPLIT_IDX + 1) % 5\n",
    "TRAIN_SPLIT_IDXS.remove(TEST_SPLIT_IDX)\n",
    "TRAIN_SPLIT_IDXS.remove(VAL_SPLIT_IDX)\n",
    "TRAIN_SPLIT_IDXS, VAL_SPLIT_IDX, TEST_SPLIT_IDX"
   ]
  },
  {
   "cell_type": "code",
   "execution_count": 13,
   "id": "fd0707fd",
   "metadata": {
    "execution": {
     "iopub.execute_input": "2025-06-13T13:05:50.119632Z",
     "iopub.status.busy": "2025-06-13T13:05:50.119394Z",
     "iopub.status.idle": "2025-06-13T13:05:50.121874Z",
     "shell.execute_reply": "2025-06-13T13:05:50.121516Z"
    },
    "papermill": {
     "duration": 0.010237,
     "end_time": "2025-06-13T13:05:50.122807",
     "exception": false,
     "start_time": "2025-06-13T13:05:50.112570",
     "status": "completed"
    },
    "tags": []
   },
   "outputs": [],
   "source": [
    "train_idxs = np.concatenate([left_out_splits[idx] for idx in TRAIN_SPLIT_IDXS])\n",
    "val_idxs = left_out_splits[VAL_SPLIT_IDX]\n",
    "test_idxs = left_out_splits[TEST_SPLIT_IDX]"
   ]
  },
  {
   "cell_type": "markdown",
   "id": "829c2d05",
   "metadata": {
    "papermill": {
     "duration": 0.006511,
     "end_time": "2025-06-13T13:05:50.135918",
     "exception": false,
     "start_time": "2025-06-13T13:05:50.129407",
     "status": "completed"
    },
    "tags": []
   },
   "source": [
    "### SUBSET DATASET INTO TRAIN/TEST/VAL SPLITS"
   ]
  },
  {
   "cell_type": "code",
   "execution_count": 14,
   "id": "048584e6",
   "metadata": {
    "execution": {
     "iopub.execute_input": "2025-06-13T13:05:50.149134Z",
     "iopub.status.busy": "2025-06-13T13:05:50.148932Z",
     "iopub.status.idle": "2025-06-13T13:05:50.307091Z",
     "shell.execute_reply": "2025-06-13T13:05:50.306638Z"
    },
    "papermill": {
     "duration": 0.16606,
     "end_time": "2025-06-13T13:05:50.308190",
     "exception": false,
     "start_time": "2025-06-13T13:05:50.142130",
     "status": "completed"
    },
    "tags": []
   },
   "outputs": [
    {
     "data": {
      "text/plain": [
       "((43094, 104), (13999, 104), (15107, 104))"
      ]
     },
     "execution_count": 14,
     "metadata": {},
     "output_type": "execute_result"
    }
   ],
   "source": [
    "X_train = train_adata.X[train_idxs]\n",
    "X_test = train_adata.X[test_idxs]\n",
    "X_val = train_adata.X[val_idxs]\n",
    "X_train.shape, X_test.shape, X_val.shape"
   ]
  },
  {
   "cell_type": "code",
   "execution_count": 15,
   "id": "72f32509",
   "metadata": {
    "execution": {
     "iopub.execute_input": "2025-06-13T13:05:50.323557Z",
     "iopub.status.busy": "2025-06-13T13:05:50.323217Z",
     "iopub.status.idle": "2025-06-13T13:05:50.334674Z",
     "shell.execute_reply": "2025-06-13T13:05:50.334273Z"
    },
    "papermill": {
     "duration": 0.019968,
     "end_time": "2025-06-13T13:05:50.335775",
     "exception": false,
     "start_time": "2025-06-13T13:05:50.315807",
     "status": "completed"
    },
    "tags": []
   },
   "outputs": [
    {
     "data": {
      "text/plain": [
       "((43094,), (13999,), (15107,))"
      ]
     },
     "execution_count": 15,
     "metadata": {},
     "output_type": "execute_result"
    }
   ],
   "source": [
    "y_train = train_adata.obs.iloc[train_idxs].disease.values.astype(str)\n",
    "y_test = train_adata.obs.iloc[test_idxs].disease.values.astype(str)\n",
    "y_val = train_adata.obs.iloc[val_idxs].disease.values.astype(str)\n",
    "y_train.shape, y_test.shape, y_val.shape"
   ]
  },
  {
   "cell_type": "code",
   "execution_count": 16,
   "id": "f343d93b",
   "metadata": {
    "execution": {
     "iopub.execute_input": "2025-06-13T13:05:50.350989Z",
     "iopub.status.busy": "2025-06-13T13:05:50.350730Z",
     "iopub.status.idle": "2025-06-13T13:05:50.371654Z",
     "shell.execute_reply": "2025-06-13T13:05:50.371277Z"
    },
    "papermill": {
     "duration": 0.029732,
     "end_time": "2025-06-13T13:05:50.372758",
     "exception": false,
     "start_time": "2025-06-13T13:05:50.343026",
     "status": "completed"
    },
    "tags": []
   },
   "outputs": [],
   "source": [
    "lenc = LabelEncoder()\n",
    "y_train_enc = lenc.fit_transform(y_train)\n",
    "y_val_enc = lenc.transform(y_val)\n",
    "y_test_enc = lenc.transform(y_test)"
   ]
  },
  {
   "cell_type": "markdown",
   "id": "873d7f0c",
   "metadata": {
    "papermill": {
     "duration": 0.006391,
     "end_time": "2025-06-13T13:05:50.385899",
     "exception": false,
     "start_time": "2025-06-13T13:05:50.379508",
     "status": "completed"
    },
    "tags": []
   },
   "source": [
    "### GENERATE F1 "
   ]
  },
  {
   "cell_type": "code",
   "execution_count": 17,
   "id": "d66eca89",
   "metadata": {
    "execution": {
     "iopub.execute_input": "2025-06-13T13:05:50.400002Z",
     "iopub.status.busy": "2025-06-13T13:05:50.399510Z",
     "iopub.status.idle": "2025-06-13T13:05:50.402288Z",
     "shell.execute_reply": "2025-06-13T13:05:50.401966Z"
    },
    "papermill": {
     "duration": 0.01078,
     "end_time": "2025-06-13T13:05:50.403182",
     "exception": false,
     "start_time": "2025-06-13T13:05:50.392402",
     "status": "completed"
    },
    "tags": []
   },
   "outputs": [],
   "source": [
    "def custom_f1_score(y_true, y_pred):\n",
    "    return -f1_score(y_true, y_pred.argmax(1), average='weighted')"
   ]
  },
  {
   "cell_type": "code",
   "execution_count": 18,
   "id": "ae5c0714",
   "metadata": {
    "execution": {
     "iopub.execute_input": "2025-06-13T13:05:50.417778Z",
     "iopub.status.busy": "2025-06-13T13:05:50.417511Z",
     "iopub.status.idle": "2025-06-13T13:05:50.421434Z",
     "shell.execute_reply": "2025-06-13T13:05:50.421102Z"
    },
    "papermill": {
     "duration": 0.012647,
     "end_time": "2025-06-13T13:05:50.422317",
     "exception": false,
     "start_time": "2025-06-13T13:05:50.409670",
     "status": "completed"
    },
    "tags": []
   },
   "outputs": [],
   "source": [
    "eval_metric=custom_f1_score\n",
    "eval_metric_name='custom_f1_score'\n",
    "\n",
    "def objective(trial):\n",
    "    params = {\n",
    "        'n_estimators': 1500,\n",
    "        'max_depth': trial.suggest_int('max_depth', 3, 20),\n",
    "        'min_child_weight': trial.suggest_int('min_child_weight', 1, 250),\n",
    "        'subsample': trial.suggest_float('subsample', 0.1, 1.0),\n",
    "        'colsample_bynode': trial.suggest_float('colsample_bynode', 0.1, 1.0),\n",
    "        'learning_rate': trial.suggest_float('learning_rate', 1e-3, 5e-1, log=True),\n",
    "    }\n",
    "    pruning_callback = optuna.integration.XGBoostPruningCallback(trial, f'validation_0-{eval_metric_name}')\n",
    "    es_callback = xgboost.callback.EarlyStopping(20, min_delta=0.001)\n",
    "    xgb = xgboost.XGBClassifier(\n",
    "        eval_metric=eval_metric,\n",
    "        callbacks=[pruning_callback, es_callback],\n",
    "        n_jobs=5,\n",
    "        **params\n",
    "    )\n",
    "    xgb.fit(\n",
    "        X_train, \n",
    "        y_train_enc, \n",
    "        verbose=0,\n",
    "        eval_set=[(X_val, y_val_enc)],\n",
    "    )\n",
    "    trial.set_user_attr('best_iteration', xgb.best_iteration)\n",
    "\n",
    "    return xgb.best_score"
   ]
  },
  {
   "cell_type": "code",
   "execution_count": 19,
   "id": "8dd76a3a",
   "metadata": {
    "execution": {
     "iopub.execute_input": "2025-06-13T13:05:50.435681Z",
     "iopub.status.busy": "2025-06-13T13:05:50.435462Z",
     "iopub.status.idle": "2025-06-13T13:11:10.893689Z",
     "shell.execute_reply": "2025-06-13T13:11:10.893186Z"
    },
    "papermill": {
     "duration": 320.466411,
     "end_time": "2025-06-13T13:11:10.895323",
     "exception": false,
     "start_time": "2025-06-13T13:05:50.428912",
     "status": "completed"
    },
    "scrolled": true,
    "tags": []
   },
   "outputs": [
    {
     "name": "stderr",
     "output_type": "stream",
     "text": [
      "[I 2025-06-13 15:05:50,437] A new study created in memory with name: no-name-a93915b8-61f0-4023-bff9-cd261a6d1060\n"
     ]
    },
    {
     "name": "stderr",
     "output_type": "stream",
     "text": [
      "[I 2025-06-13 15:05:54,377] Trial 0 finished with value: -0.613347 and parameters: {'max_depth': 9, 'min_child_weight': 238, 'subsample': 0.7587945476302645, 'colsample_bynode': 0.6387926357773329, 'learning_rate': 0.0026368755339723046}. Best is trial 0 with value: -0.613347.\n"
     ]
    },
    {
     "name": "stderr",
     "output_type": "stream",
     "text": [
      "[I 2025-06-13 15:06:22,441] Trial 1 finished with value: -0.735456 and parameters: {'max_depth': 5, 'min_child_weight': 15, 'subsample': 0.8795585311974417, 'colsample_bynode': 0.6410035105688879, 'learning_rate': 0.08148293210105287}. Best is trial 1 with value: -0.735456.\n"
     ]
    },
    {
     "name": "stderr",
     "output_type": "stream",
     "text": [
      "[I 2025-06-13 15:06:25,449] Trial 2 finished with value: -0.600246 and parameters: {'max_depth': 3, 'min_child_weight': 243, 'subsample': 0.8491983767203796, 'colsample_bynode': 0.29110519961044856, 'learning_rate': 0.003095566460242371}. Best is trial 1 with value: -0.735456.\n"
     ]
    },
    {
     "name": "stderr",
     "output_type": "stream",
     "text": [
      "[I 2025-06-13 15:06:30,194] Trial 3 finished with value: -0.644618 and parameters: {'max_depth': 6, 'min_child_weight': 77, 'subsample': 0.5722807884690141, 'colsample_bynode': 0.48875051677790415, 'learning_rate': 0.006109683510122491}. Best is trial 1 with value: -0.735456.\n"
     ]
    },
    {
     "name": "stderr",
     "output_type": "stream",
     "text": [
      "[I 2025-06-13 15:07:46,472] Trial 4 finished with value: -0.734132 and parameters: {'max_depth': 14, 'min_child_weight': 35, 'subsample': 0.3629301836816964, 'colsample_bynode': 0.4297256589643226, 'learning_rate': 0.01701841881702917}. Best is trial 1 with value: -0.735456.\n"
     ]
    },
    {
     "name": "stderr",
     "output_type": "stream",
     "text": [
      "[I 2025-06-13 15:07:51,357] Trial 5 finished with value: -0.650197 and parameters: {'max_depth': 17, 'min_child_weight': 50, 'subsample': 0.5628109945722505, 'colsample_bynode': 0.6331731119758383, 'learning_rate': 0.0013346527038305934}. Best is trial 1 with value: -0.735456.\n"
     ]
    },
    {
     "name": "stderr",
     "output_type": "stream",
     "text": [
      "[I 2025-06-13 15:07:51,740] Trial 6 pruned. Trial was pruned at iteration 0.\n"
     ]
    },
    {
     "name": "stderr",
     "output_type": "stream",
     "text": [
      "[I 2025-06-13 15:07:52,118] Trial 7 pruned. Trial was pruned at iteration 0.\n"
     ]
    },
    {
     "name": "stderr",
     "output_type": "stream",
     "text": [
      "[I 2025-06-13 15:07:52,476] Trial 8 pruned. Trial was pruned at iteration 0.\n"
     ]
    },
    {
     "name": "stderr",
     "output_type": "stream",
     "text": [
      "[I 2025-06-13 15:07:56,817] Trial 9 finished with value: -0.648001 and parameters: {'max_depth': 14, 'min_child_weight': 78, 'subsample': 0.5680612190600297, 'colsample_bynode': 0.5920392514089517, 'learning_rate': 0.0031543990308330965}. Best is trial 1 with value: -0.735456.\n"
     ]
    },
    {
     "name": "stderr",
     "output_type": "stream",
     "text": [
      "[I 2025-06-13 15:07:57,374] Trial 10 pruned. Trial was pruned at iteration 0.\n"
     ]
    },
    {
     "name": "stderr",
     "output_type": "stream",
     "text": [
      "[I 2025-06-13 15:08:44,673] Trial 11 finished with value: -0.74462 and parameters: {'max_depth': 10, 'min_child_weight': 3, 'subsample': 0.34014304150377095, 'colsample_bynode': 0.40131565860091256, 'learning_rate': 0.057899203666416425}. Best is trial 11 with value: -0.74462.\n"
     ]
    },
    {
     "name": "stderr",
     "output_type": "stream",
     "text": [
      "[I 2025-06-13 15:09:21,409] Trial 12 finished with value: -0.74464 and parameters: {'max_depth': 8, 'min_child_weight': 3, 'subsample': 0.3693916175642251, 'colsample_bynode': 0.351751713087183, 'learning_rate': 0.07220195396446884}. Best is trial 12 with value: -0.74464.\n"
     ]
    },
    {
     "name": "stderr",
     "output_type": "stream",
     "text": [
      "[I 2025-06-13 15:09:21,787] Trial 13 pruned. Trial was pruned at iteration 0.\n"
     ]
    },
    {
     "name": "stderr",
     "output_type": "stream",
     "text": [
      "[I 2025-06-13 15:09:22,165] Trial 14 pruned. Trial was pruned at iteration 0.\n"
     ]
    },
    {
     "name": "stderr",
     "output_type": "stream",
     "text": [
      "[I 2025-06-13 15:09:22,766] Trial 15 pruned. Trial was pruned at iteration 0.\n"
     ]
    },
    {
     "name": "stderr",
     "output_type": "stream",
     "text": [
      "[I 2025-06-13 15:09:23,159] Trial 16 pruned. Trial was pruned at iteration 0.\n"
     ]
    },
    {
     "name": "stderr",
     "output_type": "stream",
     "text": [
      "[I 2025-06-13 15:09:23,515] Trial 17 pruned. Trial was pruned at iteration 0.\n"
     ]
    },
    {
     "name": "stderr",
     "output_type": "stream",
     "text": [
      "[I 2025-06-13 15:09:29,684] Trial 18 pruned. Trial was pruned at iteration 22.\n"
     ]
    },
    {
     "name": "stderr",
     "output_type": "stream",
     "text": [
      "[I 2025-06-13 15:09:30,034] Trial 19 pruned. Trial was pruned at iteration 0.\n"
     ]
    },
    {
     "name": "stderr",
     "output_type": "stream",
     "text": [
      "[I 2025-06-13 15:09:30,448] Trial 20 pruned. Trial was pruned at iteration 0.\n"
     ]
    },
    {
     "name": "stderr",
     "output_type": "stream",
     "text": [
      "[I 2025-06-13 15:09:30,819] Trial 21 pruned. Trial was pruned at iteration 0.\n"
     ]
    },
    {
     "name": "stderr",
     "output_type": "stream",
     "text": [
      "[I 2025-06-13 15:09:44,153] Trial 22 finished with value: -0.745184 and parameters: {'max_depth': 7, 'min_child_weight': 19, 'subsample': 0.4620279020978522, 'colsample_bynode': 0.7387841439601908, 'learning_rate': 0.3860862204640265}. Best is trial 22 with value: -0.745184.\n"
     ]
    },
    {
     "name": "stderr",
     "output_type": "stream",
     "text": [
      "[I 2025-06-13 15:10:00,173] Trial 23 finished with value: -0.741065 and parameters: {'max_depth': 7, 'min_child_weight': 22, 'subsample': 0.44507300188060367, 'colsample_bynode': 0.7839219041579365, 'learning_rate': 0.4022974771660976}. Best is trial 22 with value: -0.745184.\n"
     ]
    },
    {
     "name": "stderr",
     "output_type": "stream",
     "text": [
      "[I 2025-06-13 15:10:00,521] Trial 24 pruned. Trial was pruned at iteration 0.\n"
     ]
    },
    {
     "name": "stderr",
     "output_type": "stream",
     "text": [
      "[I 2025-06-13 15:10:06,353] Trial 25 pruned. Trial was pruned at iteration 21.\n"
     ]
    },
    {
     "name": "stderr",
     "output_type": "stream",
     "text": [
      "[I 2025-06-13 15:10:18,314] Trial 26 finished with value: -0.73949 and parameters: {'max_depth': 12, 'min_child_weight': 24, 'subsample': 0.39786517190311704, 'colsample_bynode': 0.7060120341889913, 'learning_rate': 0.47578457973736415}. Best is trial 22 with value: -0.745184.\n"
     ]
    },
    {
     "name": "stderr",
     "output_type": "stream",
     "text": [
      "[I 2025-06-13 15:10:18,676] Trial 27 pruned. Trial was pruned at iteration 0.\n"
     ]
    },
    {
     "name": "stderr",
     "output_type": "stream",
     "text": [
      "[I 2025-06-13 15:10:19,020] Trial 28 pruned. Trial was pruned at iteration 0.\n"
     ]
    },
    {
     "name": "stderr",
     "output_type": "stream",
     "text": [
      "[I 2025-06-13 15:10:19,354] Trial 29 pruned. Trial was pruned at iteration 0.\n"
     ]
    },
    {
     "name": "stderr",
     "output_type": "stream",
     "text": [
      "[I 2025-06-13 15:10:19,691] Trial 30 pruned. Trial was pruned at iteration 0.\n"
     ]
    },
    {
     "name": "stderr",
     "output_type": "stream",
     "text": [
      "[I 2025-06-13 15:10:33,044] Trial 31 finished with value: -0.744872 and parameters: {'max_depth': 7, 'min_child_weight': 21, 'subsample': 0.4613664512019511, 'colsample_bynode': 0.7613002263897296, 'learning_rate': 0.33520941417627514}. Best is trial 22 with value: -0.745184.\n"
     ]
    },
    {
     "name": "stderr",
     "output_type": "stream",
     "text": [
      "[I 2025-06-13 15:10:37,787] Trial 32 pruned. Trial was pruned at iteration 21.\n"
     ]
    },
    {
     "name": "stderr",
     "output_type": "stream",
     "text": [
      "[I 2025-06-13 15:10:38,138] Trial 33 pruned. Trial was pruned at iteration 0.\n"
     ]
    },
    {
     "name": "stderr",
     "output_type": "stream",
     "text": [
      "[I 2025-06-13 15:10:38,855] Trial 34 pruned. Trial was pruned at iteration 2.\n"
     ]
    },
    {
     "name": "stderr",
     "output_type": "stream",
     "text": [
      "[I 2025-06-13 15:10:39,252] Trial 35 pruned. Trial was pruned at iteration 0.\n"
     ]
    },
    {
     "name": "stderr",
     "output_type": "stream",
     "text": [
      "[I 2025-06-13 15:10:39,590] Trial 36 pruned. Trial was pruned at iteration 0.\n"
     ]
    },
    {
     "name": "stderr",
     "output_type": "stream",
     "text": [
      "[I 2025-06-13 15:10:39,976] Trial 37 pruned. Trial was pruned at iteration 0.\n"
     ]
    },
    {
     "name": "stderr",
     "output_type": "stream",
     "text": [
      "[I 2025-06-13 15:10:40,350] Trial 38 pruned. Trial was pruned at iteration 0.\n"
     ]
    },
    {
     "name": "stderr",
     "output_type": "stream",
     "text": [
      "[I 2025-06-13 15:10:40,716] Trial 39 pruned. Trial was pruned at iteration 0.\n"
     ]
    },
    {
     "name": "stderr",
     "output_type": "stream",
     "text": [
      "[I 2025-06-13 15:10:41,173] Trial 40 pruned. Trial was pruned at iteration 0.\n"
     ]
    },
    {
     "name": "stderr",
     "output_type": "stream",
     "text": [
      "[I 2025-06-13 15:10:55,122] Trial 41 finished with value: -0.747319 and parameters: {'max_depth': 8, 'min_child_weight': 18, 'subsample': 0.4287026114527871, 'colsample_bynode': 0.7631204631254445, 'learning_rate': 0.367441779362598}. Best is trial 41 with value: -0.747319.\n"
     ]
    },
    {
     "name": "stderr",
     "output_type": "stream",
     "text": [
      "[I 2025-06-13 15:11:01,659] Trial 42 pruned. Trial was pruned at iteration 33.\n"
     ]
    },
    {
     "name": "stderr",
     "output_type": "stream",
     "text": [
      "[I 2025-06-13 15:11:08,575] Trial 43 pruned. Trial was pruned at iteration 28.\n"
     ]
    },
    {
     "name": "stderr",
     "output_type": "stream",
     "text": [
      "[I 2025-06-13 15:11:08,922] Trial 44 pruned. Trial was pruned at iteration 0.\n"
     ]
    },
    {
     "name": "stderr",
     "output_type": "stream",
     "text": [
      "[I 2025-06-13 15:11:09,319] Trial 45 pruned. Trial was pruned at iteration 0.\n"
     ]
    },
    {
     "name": "stderr",
     "output_type": "stream",
     "text": [
      "[I 2025-06-13 15:11:09,663] Trial 46 pruned. Trial was pruned at iteration 0.\n"
     ]
    },
    {
     "name": "stderr",
     "output_type": "stream",
     "text": [
      "[I 2025-06-13 15:11:10,047] Trial 47 pruned. Trial was pruned at iteration 0.\n"
     ]
    },
    {
     "name": "stderr",
     "output_type": "stream",
     "text": [
      "[I 2025-06-13 15:11:10,478] Trial 48 pruned. Trial was pruned at iteration 0.\n"
     ]
    },
    {
     "name": "stderr",
     "output_type": "stream",
     "text": [
      "[I 2025-06-13 15:11:10,801] Trial 49 pruned. Trial was pruned at iteration 0.\n"
     ]
    }
   ],
   "source": [
    "sampler = optuna.samplers.TPESampler(seed=42)\n",
    "study = optuna.create_study(direction='minimize', sampler=sampler)\n",
    "study.optimize(objective, n_trials=N_TRIALS, gc_after_trial=True)"
   ]
  },
  {
   "cell_type": "code",
   "execution_count": 20,
   "id": "7c435e23",
   "metadata": {
    "execution": {
     "iopub.execute_input": "2025-06-13T13:11:10.915492Z",
     "iopub.status.busy": "2025-06-13T13:11:10.915272Z",
     "iopub.status.idle": "2025-06-13T13:11:10.942305Z",
     "shell.execute_reply": "2025-06-13T13:11:10.941967Z"
    },
    "papermill": {
     "duration": 0.038727,
     "end_time": "2025-06-13T13:11:10.943654",
     "exception": false,
     "start_time": "2025-06-13T13:11:10.904927",
     "status": "completed"
    },
    "tags": []
   },
   "outputs": [
    {
     "data": {
      "text/plain": [
       "['/scratch_isilon/groups/singlecell/shared/projects/Inflammation-PBMCs-Atlas/03_downstream_analysis/08_gene_importance/xgboost_external_validation/xgboost_TopN_genes/results_20/study/T_CD8_NonNaive_shap_studyID_NOdisease_samesize_4_xgboost.pkl']"
      ]
     },
     "execution_count": 20,
     "metadata": {},
     "output_type": "execute_result"
    }
   ],
   "source": [
    "out_dir = here(f'03_downstream_analysis/08_gene_importance/xgboost_external_validation/xgboost_TopN_genes/results_{N_GENES}/study')\n",
    "\n",
    "if not os.path.exists(out_dir):\n",
    "    os.makedirs(out_dir)\n",
    "    \n",
    "joblib.dump(study,os.path.join(out_dir, f'{CELL_TYPE}_{SEED}_{TEST_SPLIT_IDX}_xgboost.pkl'))"
   ]
  },
  {
   "cell_type": "code",
   "execution_count": 21,
   "id": "762b9534",
   "metadata": {
    "execution": {
     "iopub.execute_input": "2025-06-13T13:11:10.963590Z",
     "iopub.status.busy": "2025-06-13T13:11:10.963204Z",
     "iopub.status.idle": "2025-06-13T13:11:17.984280Z",
     "shell.execute_reply": "2025-06-13T13:11:17.983906Z"
    },
    "papermill": {
     "duration": 7.032774,
     "end_time": "2025-06-13T13:11:17.985392",
     "exception": false,
     "start_time": "2025-06-13T13:11:10.952618",
     "status": "completed"
    },
    "tags": []
   },
   "outputs": [
    {
     "data": {
      "text/html": [
       "<style>#sk-container-id-1 {\n",
       "  /* Definition of color scheme common for light and dark mode */\n",
       "  --sklearn-color-text: black;\n",
       "  --sklearn-color-line: gray;\n",
       "  /* Definition of color scheme for unfitted estimators */\n",
       "  --sklearn-color-unfitted-level-0: #fff5e6;\n",
       "  --sklearn-color-unfitted-level-1: #f6e4d2;\n",
       "  --sklearn-color-unfitted-level-2: #ffe0b3;\n",
       "  --sklearn-color-unfitted-level-3: chocolate;\n",
       "  /* Definition of color scheme for fitted estimators */\n",
       "  --sklearn-color-fitted-level-0: #f0f8ff;\n",
       "  --sklearn-color-fitted-level-1: #d4ebff;\n",
       "  --sklearn-color-fitted-level-2: #b3dbfd;\n",
       "  --sklearn-color-fitted-level-3: cornflowerblue;\n",
       "\n",
       "  /* Specific color for light theme */\n",
       "  --sklearn-color-text-on-default-background: var(--sg-text-color, var(--theme-code-foreground, var(--jp-content-font-color1, black)));\n",
       "  --sklearn-color-background: var(--sg-background-color, var(--theme-background, var(--jp-layout-color0, white)));\n",
       "  --sklearn-color-border-box: var(--sg-text-color, var(--theme-code-foreground, var(--jp-content-font-color1, black)));\n",
       "  --sklearn-color-icon: #696969;\n",
       "\n",
       "  @media (prefers-color-scheme: dark) {\n",
       "    /* Redefinition of color scheme for dark theme */\n",
       "    --sklearn-color-text-on-default-background: var(--sg-text-color, var(--theme-code-foreground, var(--jp-content-font-color1, white)));\n",
       "    --sklearn-color-background: var(--sg-background-color, var(--theme-background, var(--jp-layout-color0, #111)));\n",
       "    --sklearn-color-border-box: var(--sg-text-color, var(--theme-code-foreground, var(--jp-content-font-color1, white)));\n",
       "    --sklearn-color-icon: #878787;\n",
       "  }\n",
       "}\n",
       "\n",
       "#sk-container-id-1 {\n",
       "  color: var(--sklearn-color-text);\n",
       "}\n",
       "\n",
       "#sk-container-id-1 pre {\n",
       "  padding: 0;\n",
       "}\n",
       "\n",
       "#sk-container-id-1 input.sk-hidden--visually {\n",
       "  border: 0;\n",
       "  clip: rect(1px 1px 1px 1px);\n",
       "  clip: rect(1px, 1px, 1px, 1px);\n",
       "  height: 1px;\n",
       "  margin: -1px;\n",
       "  overflow: hidden;\n",
       "  padding: 0;\n",
       "  position: absolute;\n",
       "  width: 1px;\n",
       "}\n",
       "\n",
       "#sk-container-id-1 div.sk-dashed-wrapped {\n",
       "  border: 1px dashed var(--sklearn-color-line);\n",
       "  margin: 0 0.4em 0.5em 0.4em;\n",
       "  box-sizing: border-box;\n",
       "  padding-bottom: 0.4em;\n",
       "  background-color: var(--sklearn-color-background);\n",
       "}\n",
       "\n",
       "#sk-container-id-1 div.sk-container {\n",
       "  /* jupyter's `normalize.less` sets `[hidden] { display: none; }`\n",
       "     but bootstrap.min.css set `[hidden] { display: none !important; }`\n",
       "     so we also need the `!important` here to be able to override the\n",
       "     default hidden behavior on the sphinx rendered scikit-learn.org.\n",
       "     See: https://github.com/scikit-learn/scikit-learn/issues/21755 */\n",
       "  display: inline-block !important;\n",
       "  position: relative;\n",
       "}\n",
       "\n",
       "#sk-container-id-1 div.sk-text-repr-fallback {\n",
       "  display: none;\n",
       "}\n",
       "\n",
       "div.sk-parallel-item,\n",
       "div.sk-serial,\n",
       "div.sk-item {\n",
       "  /* draw centered vertical line to link estimators */\n",
       "  background-image: linear-gradient(var(--sklearn-color-text-on-default-background), var(--sklearn-color-text-on-default-background));\n",
       "  background-size: 2px 100%;\n",
       "  background-repeat: no-repeat;\n",
       "  background-position: center center;\n",
       "}\n",
       "\n",
       "/* Parallel-specific style estimator block */\n",
       "\n",
       "#sk-container-id-1 div.sk-parallel-item::after {\n",
       "  content: \"\";\n",
       "  width: 100%;\n",
       "  border-bottom: 2px solid var(--sklearn-color-text-on-default-background);\n",
       "  flex-grow: 1;\n",
       "}\n",
       "\n",
       "#sk-container-id-1 div.sk-parallel {\n",
       "  display: flex;\n",
       "  align-items: stretch;\n",
       "  justify-content: center;\n",
       "  background-color: var(--sklearn-color-background);\n",
       "  position: relative;\n",
       "}\n",
       "\n",
       "#sk-container-id-1 div.sk-parallel-item {\n",
       "  display: flex;\n",
       "  flex-direction: column;\n",
       "}\n",
       "\n",
       "#sk-container-id-1 div.sk-parallel-item:first-child::after {\n",
       "  align-self: flex-end;\n",
       "  width: 50%;\n",
       "}\n",
       "\n",
       "#sk-container-id-1 div.sk-parallel-item:last-child::after {\n",
       "  align-self: flex-start;\n",
       "  width: 50%;\n",
       "}\n",
       "\n",
       "#sk-container-id-1 div.sk-parallel-item:only-child::after {\n",
       "  width: 0;\n",
       "}\n",
       "\n",
       "/* Serial-specific style estimator block */\n",
       "\n",
       "#sk-container-id-1 div.sk-serial {\n",
       "  display: flex;\n",
       "  flex-direction: column;\n",
       "  align-items: center;\n",
       "  background-color: var(--sklearn-color-background);\n",
       "  padding-right: 1em;\n",
       "  padding-left: 1em;\n",
       "}\n",
       "\n",
       "\n",
       "/* Toggleable style: style used for estimator/Pipeline/ColumnTransformer box that is\n",
       "clickable and can be expanded/collapsed.\n",
       "- Pipeline and ColumnTransformer use this feature and define the default style\n",
       "- Estimators will overwrite some part of the style using the `sk-estimator` class\n",
       "*/\n",
       "\n",
       "/* Pipeline and ColumnTransformer style (default) */\n",
       "\n",
       "#sk-container-id-1 div.sk-toggleable {\n",
       "  /* Default theme specific background. It is overwritten whether we have a\n",
       "  specific estimator or a Pipeline/ColumnTransformer */\n",
       "  background-color: var(--sklearn-color-background);\n",
       "}\n",
       "\n",
       "/* Toggleable label */\n",
       "#sk-container-id-1 label.sk-toggleable__label {\n",
       "  cursor: pointer;\n",
       "  display: block;\n",
       "  width: 100%;\n",
       "  margin-bottom: 0;\n",
       "  padding: 0.5em;\n",
       "  box-sizing: border-box;\n",
       "  text-align: center;\n",
       "}\n",
       "\n",
       "#sk-container-id-1 label.sk-toggleable__label-arrow:before {\n",
       "  /* Arrow on the left of the label */\n",
       "  content: \"▸\";\n",
       "  float: left;\n",
       "  margin-right: 0.25em;\n",
       "  color: var(--sklearn-color-icon);\n",
       "}\n",
       "\n",
       "#sk-container-id-1 label.sk-toggleable__label-arrow:hover:before {\n",
       "  color: var(--sklearn-color-text);\n",
       "}\n",
       "\n",
       "/* Toggleable content - dropdown */\n",
       "\n",
       "#sk-container-id-1 div.sk-toggleable__content {\n",
       "  max-height: 0;\n",
       "  max-width: 0;\n",
       "  overflow: hidden;\n",
       "  text-align: left;\n",
       "  /* unfitted */\n",
       "  background-color: var(--sklearn-color-unfitted-level-0);\n",
       "}\n",
       "\n",
       "#sk-container-id-1 div.sk-toggleable__content.fitted {\n",
       "  /* fitted */\n",
       "  background-color: var(--sklearn-color-fitted-level-0);\n",
       "}\n",
       "\n",
       "#sk-container-id-1 div.sk-toggleable__content pre {\n",
       "  margin: 0.2em;\n",
       "  border-radius: 0.25em;\n",
       "  color: var(--sklearn-color-text);\n",
       "  /* unfitted */\n",
       "  background-color: var(--sklearn-color-unfitted-level-0);\n",
       "}\n",
       "\n",
       "#sk-container-id-1 div.sk-toggleable__content.fitted pre {\n",
       "  /* unfitted */\n",
       "  background-color: var(--sklearn-color-fitted-level-0);\n",
       "}\n",
       "\n",
       "#sk-container-id-1 input.sk-toggleable__control:checked~div.sk-toggleable__content {\n",
       "  /* Expand drop-down */\n",
       "  max-height: 200px;\n",
       "  max-width: 100%;\n",
       "  overflow: auto;\n",
       "}\n",
       "\n",
       "#sk-container-id-1 input.sk-toggleable__control:checked~label.sk-toggleable__label-arrow:before {\n",
       "  content: \"▾\";\n",
       "}\n",
       "\n",
       "/* Pipeline/ColumnTransformer-specific style */\n",
       "\n",
       "#sk-container-id-1 div.sk-label input.sk-toggleable__control:checked~label.sk-toggleable__label {\n",
       "  color: var(--sklearn-color-text);\n",
       "  background-color: var(--sklearn-color-unfitted-level-2);\n",
       "}\n",
       "\n",
       "#sk-container-id-1 div.sk-label.fitted input.sk-toggleable__control:checked~label.sk-toggleable__label {\n",
       "  background-color: var(--sklearn-color-fitted-level-2);\n",
       "}\n",
       "\n",
       "/* Estimator-specific style */\n",
       "\n",
       "/* Colorize estimator box */\n",
       "#sk-container-id-1 div.sk-estimator input.sk-toggleable__control:checked~label.sk-toggleable__label {\n",
       "  /* unfitted */\n",
       "  background-color: var(--sklearn-color-unfitted-level-2);\n",
       "}\n",
       "\n",
       "#sk-container-id-1 div.sk-estimator.fitted input.sk-toggleable__control:checked~label.sk-toggleable__label {\n",
       "  /* fitted */\n",
       "  background-color: var(--sklearn-color-fitted-level-2);\n",
       "}\n",
       "\n",
       "#sk-container-id-1 div.sk-label label.sk-toggleable__label,\n",
       "#sk-container-id-1 div.sk-label label {\n",
       "  /* The background is the default theme color */\n",
       "  color: var(--sklearn-color-text-on-default-background);\n",
       "}\n",
       "\n",
       "/* On hover, darken the color of the background */\n",
       "#sk-container-id-1 div.sk-label:hover label.sk-toggleable__label {\n",
       "  color: var(--sklearn-color-text);\n",
       "  background-color: var(--sklearn-color-unfitted-level-2);\n",
       "}\n",
       "\n",
       "/* Label box, darken color on hover, fitted */\n",
       "#sk-container-id-1 div.sk-label.fitted:hover label.sk-toggleable__label.fitted {\n",
       "  color: var(--sklearn-color-text);\n",
       "  background-color: var(--sklearn-color-fitted-level-2);\n",
       "}\n",
       "\n",
       "/* Estimator label */\n",
       "\n",
       "#sk-container-id-1 div.sk-label label {\n",
       "  font-family: monospace;\n",
       "  font-weight: bold;\n",
       "  display: inline-block;\n",
       "  line-height: 1.2em;\n",
       "}\n",
       "\n",
       "#sk-container-id-1 div.sk-label-container {\n",
       "  text-align: center;\n",
       "}\n",
       "\n",
       "/* Estimator-specific */\n",
       "#sk-container-id-1 div.sk-estimator {\n",
       "  font-family: monospace;\n",
       "  border: 1px dotted var(--sklearn-color-border-box);\n",
       "  border-radius: 0.25em;\n",
       "  box-sizing: border-box;\n",
       "  margin-bottom: 0.5em;\n",
       "  /* unfitted */\n",
       "  background-color: var(--sklearn-color-unfitted-level-0);\n",
       "}\n",
       "\n",
       "#sk-container-id-1 div.sk-estimator.fitted {\n",
       "  /* fitted */\n",
       "  background-color: var(--sklearn-color-fitted-level-0);\n",
       "}\n",
       "\n",
       "/* on hover */\n",
       "#sk-container-id-1 div.sk-estimator:hover {\n",
       "  /* unfitted */\n",
       "  background-color: var(--sklearn-color-unfitted-level-2);\n",
       "}\n",
       "\n",
       "#sk-container-id-1 div.sk-estimator.fitted:hover {\n",
       "  /* fitted */\n",
       "  background-color: var(--sklearn-color-fitted-level-2);\n",
       "}\n",
       "\n",
       "/* Specification for estimator info (e.g. \"i\" and \"?\") */\n",
       "\n",
       "/* Common style for \"i\" and \"?\" */\n",
       "\n",
       ".sk-estimator-doc-link,\n",
       "a:link.sk-estimator-doc-link,\n",
       "a:visited.sk-estimator-doc-link {\n",
       "  float: right;\n",
       "  font-size: smaller;\n",
       "  line-height: 1em;\n",
       "  font-family: monospace;\n",
       "  background-color: var(--sklearn-color-background);\n",
       "  border-radius: 1em;\n",
       "  height: 1em;\n",
       "  width: 1em;\n",
       "  text-decoration: none !important;\n",
       "  margin-left: 1ex;\n",
       "  /* unfitted */\n",
       "  border: var(--sklearn-color-unfitted-level-1) 1pt solid;\n",
       "  color: var(--sklearn-color-unfitted-level-1);\n",
       "}\n",
       "\n",
       ".sk-estimator-doc-link.fitted,\n",
       "a:link.sk-estimator-doc-link.fitted,\n",
       "a:visited.sk-estimator-doc-link.fitted {\n",
       "  /* fitted */\n",
       "  border: var(--sklearn-color-fitted-level-1) 1pt solid;\n",
       "  color: var(--sklearn-color-fitted-level-1);\n",
       "}\n",
       "\n",
       "/* On hover */\n",
       "div.sk-estimator:hover .sk-estimator-doc-link:hover,\n",
       ".sk-estimator-doc-link:hover,\n",
       "div.sk-label-container:hover .sk-estimator-doc-link:hover,\n",
       ".sk-estimator-doc-link:hover {\n",
       "  /* unfitted */\n",
       "  background-color: var(--sklearn-color-unfitted-level-3);\n",
       "  color: var(--sklearn-color-background);\n",
       "  text-decoration: none;\n",
       "}\n",
       "\n",
       "div.sk-estimator.fitted:hover .sk-estimator-doc-link.fitted:hover,\n",
       ".sk-estimator-doc-link.fitted:hover,\n",
       "div.sk-label-container:hover .sk-estimator-doc-link.fitted:hover,\n",
       ".sk-estimator-doc-link.fitted:hover {\n",
       "  /* fitted */\n",
       "  background-color: var(--sklearn-color-fitted-level-3);\n",
       "  color: var(--sklearn-color-background);\n",
       "  text-decoration: none;\n",
       "}\n",
       "\n",
       "/* Span, style for the box shown on hovering the info icon */\n",
       ".sk-estimator-doc-link span {\n",
       "  display: none;\n",
       "  z-index: 9999;\n",
       "  position: relative;\n",
       "  font-weight: normal;\n",
       "  right: .2ex;\n",
       "  padding: .5ex;\n",
       "  margin: .5ex;\n",
       "  width: min-content;\n",
       "  min-width: 20ex;\n",
       "  max-width: 50ex;\n",
       "  color: var(--sklearn-color-text);\n",
       "  box-shadow: 2pt 2pt 4pt #999;\n",
       "  /* unfitted */\n",
       "  background: var(--sklearn-color-unfitted-level-0);\n",
       "  border: .5pt solid var(--sklearn-color-unfitted-level-3);\n",
       "}\n",
       "\n",
       ".sk-estimator-doc-link.fitted span {\n",
       "  /* fitted */\n",
       "  background: var(--sklearn-color-fitted-level-0);\n",
       "  border: var(--sklearn-color-fitted-level-3);\n",
       "}\n",
       "\n",
       ".sk-estimator-doc-link:hover span {\n",
       "  display: block;\n",
       "}\n",
       "\n",
       "/* \"?\"-specific style due to the `<a>` HTML tag */\n",
       "\n",
       "#sk-container-id-1 a.estimator_doc_link {\n",
       "  float: right;\n",
       "  font-size: 1rem;\n",
       "  line-height: 1em;\n",
       "  font-family: monospace;\n",
       "  background-color: var(--sklearn-color-background);\n",
       "  border-radius: 1rem;\n",
       "  height: 1rem;\n",
       "  width: 1rem;\n",
       "  text-decoration: none;\n",
       "  /* unfitted */\n",
       "  color: var(--sklearn-color-unfitted-level-1);\n",
       "  border: var(--sklearn-color-unfitted-level-1) 1pt solid;\n",
       "}\n",
       "\n",
       "#sk-container-id-1 a.estimator_doc_link.fitted {\n",
       "  /* fitted */\n",
       "  border: var(--sklearn-color-fitted-level-1) 1pt solid;\n",
       "  color: var(--sklearn-color-fitted-level-1);\n",
       "}\n",
       "\n",
       "/* On hover */\n",
       "#sk-container-id-1 a.estimator_doc_link:hover {\n",
       "  /* unfitted */\n",
       "  background-color: var(--sklearn-color-unfitted-level-3);\n",
       "  color: var(--sklearn-color-background);\n",
       "  text-decoration: none;\n",
       "}\n",
       "\n",
       "#sk-container-id-1 a.estimator_doc_link.fitted:hover {\n",
       "  /* fitted */\n",
       "  background-color: var(--sklearn-color-fitted-level-3);\n",
       "}\n",
       "</style><div id=\"sk-container-id-1\" class=\"sk-top-container\"><div class=\"sk-text-repr-fallback\"><pre>XGBClassifier(base_score=None, booster=None, callbacks=None,\n",
       "              colsample_bylevel=None, colsample_bynode=0.7631204631254445,\n",
       "              colsample_bytree=None, device=None, early_stopping_rounds=None,\n",
       "              enable_categorical=False,\n",
       "              eval_metric=&lt;function custom_f1_score at 0x7fd5952c87c0&gt;,\n",
       "              feature_types=None, gamma=None, grow_policy=None,\n",
       "              importance_type=None, interaction_constraints=None,\n",
       "              learning_rate=0.367441779362598, max_bin=None,\n",
       "              max_cat_threshold=None, max_cat_to_onehot=None,\n",
       "              max_delta_step=None, max_depth=8, max_leaves=None,\n",
       "              min_child_weight=18, missing=nan, monotone_constraints=None,\n",
       "              multi_strategy=None, n_estimators=76, n_jobs=None,\n",
       "              num_parallel_tree=None, objective=&#x27;multi:softprob&#x27;, ...)</pre><b>In a Jupyter environment, please rerun this cell to show the HTML representation or trust the notebook. <br />On GitHub, the HTML representation is unable to render, please try loading this page with nbviewer.org.</b></div><div class=\"sk-container\" hidden><div class=\"sk-item\"><div class=\"sk-estimator fitted sk-toggleable\"><input class=\"sk-toggleable__control sk-hidden--visually\" id=\"sk-estimator-id-1\" type=\"checkbox\" checked><label for=\"sk-estimator-id-1\" class=\"sk-toggleable__label fitted sk-toggleable__label-arrow fitted\">&nbsp;XGBClassifier<span class=\"sk-estimator-doc-link fitted\">i<span>Fitted</span></span></label><div class=\"sk-toggleable__content fitted\"><pre>XGBClassifier(base_score=None, booster=None, callbacks=None,\n",
       "              colsample_bylevel=None, colsample_bynode=0.7631204631254445,\n",
       "              colsample_bytree=None, device=None, early_stopping_rounds=None,\n",
       "              enable_categorical=False,\n",
       "              eval_metric=&lt;function custom_f1_score at 0x7fd5952c87c0&gt;,\n",
       "              feature_types=None, gamma=None, grow_policy=None,\n",
       "              importance_type=None, interaction_constraints=None,\n",
       "              learning_rate=0.367441779362598, max_bin=None,\n",
       "              max_cat_threshold=None, max_cat_to_onehot=None,\n",
       "              max_delta_step=None, max_depth=8, max_leaves=None,\n",
       "              min_child_weight=18, missing=nan, monotone_constraints=None,\n",
       "              multi_strategy=None, n_estimators=76, n_jobs=None,\n",
       "              num_parallel_tree=None, objective=&#x27;multi:softprob&#x27;, ...)</pre></div> </div></div></div></div>"
      ],
      "text/plain": [
       "XGBClassifier(base_score=None, booster=None, callbacks=None,\n",
       "              colsample_bylevel=None, colsample_bynode=0.7631204631254445,\n",
       "              colsample_bytree=None, device=None, early_stopping_rounds=None,\n",
       "              enable_categorical=False,\n",
       "              eval_metric=<function custom_f1_score at 0x7fd5952c87c0>,\n",
       "              feature_types=None, gamma=None, grow_policy=None,\n",
       "              importance_type=None, interaction_constraints=None,\n",
       "              learning_rate=0.367441779362598, max_bin=None,\n",
       "              max_cat_threshold=None, max_cat_to_onehot=None,\n",
       "              max_delta_step=None, max_depth=8, max_leaves=None,\n",
       "              min_child_weight=18, missing=nan, monotone_constraints=None,\n",
       "              multi_strategy=None, n_estimators=76, n_jobs=None,\n",
       "              num_parallel_tree=None, objective='multi:softprob', ...)"
      ]
     },
     "execution_count": 21,
     "metadata": {},
     "output_type": "execute_result"
    }
   ],
   "source": [
    "n_estimators = int(study.best_trial.user_attrs['best_iteration']*1.2)\n",
    "xgb = xgboost.XGBClassifier(\n",
    "        eval_metric=eval_metric,\n",
    "        n_estimators=n_estimators,\n",
    "        **study.best_trial.params\n",
    "    )\n",
    "xgb.fit(\n",
    "    ssp.vstack((X_train, X_val)), \n",
    "    np.concatenate((y_train_enc, y_val_enc)),\n",
    "    verbose=1,\n",
    ")"
   ]
  },
  {
   "cell_type": "code",
   "execution_count": 22,
   "id": "f1e6b6ad",
   "metadata": {
    "execution": {
     "iopub.execute_input": "2025-06-13T13:11:18.005222Z",
     "iopub.status.busy": "2025-06-13T13:11:18.005025Z",
     "iopub.status.idle": "2025-06-13T13:11:18.030054Z",
     "shell.execute_reply": "2025-06-13T13:11:18.029688Z"
    },
    "papermill": {
     "duration": 0.035632,
     "end_time": "2025-06-13T13:11:18.030946",
     "exception": false,
     "start_time": "2025-06-13T13:11:17.995314",
     "status": "completed"
    },
    "tags": []
   },
   "outputs": [
    {
     "data": {
      "text/plain": [
       "['/scratch_isilon/groups/singlecell/shared/projects/Inflammation-PBMCs-Atlas/03_downstream_analysis/08_gene_importance/xgboost_external_validation/xgboost_TopN_genes/results_20/best_model/T_CD8_NonNaive_shap_studyID_NOdisease_samesize_4_xgb.json']"
      ]
     },
     "execution_count": 22,
     "metadata": {},
     "output_type": "execute_result"
    }
   ],
   "source": [
    "out_dir = here(f'03_downstream_analysis/08_gene_importance/xgboost_external_validation/xgboost_TopN_genes/results_{N_GENES}/best_model')\n",
    "\n",
    "if not os.path.exists(out_dir):\n",
    "    os.makedirs(out_dir)\n",
    "    \n",
    "joblib.dump(xgb, os.path.join(out_dir, f'{CELL_TYPE}_{SEED}_{TEST_SPLIT_IDX}_xgb.json'))"
   ]
  },
  {
   "cell_type": "code",
   "execution_count": 23,
   "id": "690b1589",
   "metadata": {
    "execution": {
     "iopub.execute_input": "2025-06-13T13:11:18.049993Z",
     "iopub.status.busy": "2025-06-13T13:11:18.049521Z",
     "iopub.status.idle": "2025-06-13T13:11:18.241383Z",
     "shell.execute_reply": "2025-06-13T13:11:18.240965Z"
    },
    "papermill": {
     "duration": 0.202656,
     "end_time": "2025-06-13T13:11:18.242899",
     "exception": false,
     "start_time": "2025-06-13T13:11:18.040243",
     "status": "completed"
    },
    "tags": []
   },
   "outputs": [],
   "source": [
    "df_pred_test = pd.DataFrame(dict(\n",
    "    cell_id=train_adata.obs.iloc[test_idxs].index.values,\n",
    "    y_true=y_test, \n",
    "    y_true_code=y_test_enc, \n",
    "    y_pred=xgb.predict(X_test))).set_index('cell_id')"
   ]
  },
  {
   "cell_type": "code",
   "execution_count": 24,
   "id": "793c491e",
   "metadata": {
    "execution": {
     "iopub.execute_input": "2025-06-13T13:11:18.265108Z",
     "iopub.status.busy": "2025-06-13T13:11:18.264910Z",
     "iopub.status.idle": "2025-06-13T13:11:18.347126Z",
     "shell.execute_reply": "2025-06-13T13:11:18.346619Z"
    },
    "papermill": {
     "duration": 0.094661,
     "end_time": "2025-06-13T13:11:18.348688",
     "exception": false,
     "start_time": "2025-06-13T13:11:18.254027",
     "status": "completed"
    },
    "tags": []
   },
   "outputs": [],
   "source": [
    "out_dir = here(f'03_downstream_analysis/08_gene_importance/xgboost_external_validation/xgboost_TopN_genes/results_{N_GENES}/predictions')\n",
    "\n",
    "if not os.path.exists(out_dir):\n",
    "    os.makedirs(out_dir)\n",
    "    \n",
    "df_pred_test.to_csv(os.path.join(out_dir, f'{CELL_TYPE}_{SEED}_{TEST_SPLIT_IDX}_pred_test.zip'))"
   ]
  },
  {
   "cell_type": "code",
   "execution_count": 25,
   "id": "c34abd09",
   "metadata": {
    "execution": {
     "iopub.execute_input": "2025-06-13T13:11:18.370477Z",
     "iopub.status.busy": "2025-06-13T13:11:18.370285Z",
     "iopub.status.idle": "2025-06-13T13:11:18.380245Z",
     "shell.execute_reply": "2025-06-13T13:11:18.379900Z"
    },
    "papermill": {
     "duration": 0.021706,
     "end_time": "2025-06-13T13:11:18.381198",
     "exception": false,
     "start_time": "2025-06-13T13:11:18.359492",
     "status": "completed"
    },
    "tags": []
   },
   "outputs": [],
   "source": [
    "metrics_dict = dict(\n",
    "    BAS=balanced_accuracy_score(y_true=df_pred_test.y_true_code, y_pred=df_pred_test.y_pred), WF1=f1_score(y_true=df_pred_test.y_true_code, y_pred=df_pred_test.y_pred,average='weighted'))"
   ]
  },
  {
   "cell_type": "code",
   "execution_count": 26,
   "id": "9bb24d6a",
   "metadata": {
    "execution": {
     "iopub.execute_input": "2025-06-13T13:11:18.401229Z",
     "iopub.status.busy": "2025-06-13T13:11:18.400631Z",
     "iopub.status.idle": "2025-06-13T13:11:18.403945Z",
     "shell.execute_reply": "2025-06-13T13:11:18.403510Z"
    },
    "papermill": {
     "duration": 0.014349,
     "end_time": "2025-06-13T13:11:18.404867",
     "exception": false,
     "start_time": "2025-06-13T13:11:18.390518",
     "status": "completed"
    },
    "tags": []
   },
   "outputs": [
    {
     "data": {
      "text/plain": [
       "{'BAS': 0.633870467889837, 'WF1': 0.8018833951022123}"
      ]
     },
     "execution_count": 26,
     "metadata": {},
     "output_type": "execute_result"
    }
   ],
   "source": [
    "metrics_dict"
   ]
  },
  {
   "cell_type": "code",
   "execution_count": 27,
   "id": "645a405f",
   "metadata": {
    "execution": {
     "iopub.execute_input": "2025-06-13T13:11:18.423889Z",
     "iopub.status.busy": "2025-06-13T13:11:18.423279Z",
     "iopub.status.idle": "2025-06-13T13:11:18.432430Z",
     "shell.execute_reply": "2025-06-13T13:11:18.432102Z"
    },
    "papermill": {
     "duration": 0.019304,
     "end_time": "2025-06-13T13:11:18.433298",
     "exception": false,
     "start_time": "2025-06-13T13:11:18.413994",
     "status": "completed"
    },
    "tags": []
   },
   "outputs": [
    {
     "data": {
      "text/html": [
       "<div>\n",
       "<style scoped>\n",
       "    .dataframe tbody tr th:only-of-type {\n",
       "        vertical-align: middle;\n",
       "    }\n",
       "\n",
       "    .dataframe tbody tr th {\n",
       "        vertical-align: top;\n",
       "    }\n",
       "\n",
       "    .dataframe thead th {\n",
       "        text-align: right;\n",
       "    }\n",
       "</style>\n",
       "<table border=\"1\" class=\"dataframe\">\n",
       "  <thead>\n",
       "    <tr style=\"text-align: right;\">\n",
       "      <th></th>\n",
       "      <th>BAS</th>\n",
       "      <th>WF1</th>\n",
       "      <th>split_idx</th>\n",
       "      <th>gene_set_seed</th>\n",
       "      <th>cell_type</th>\n",
       "    </tr>\n",
       "  </thead>\n",
       "  <tbody>\n",
       "    <tr>\n",
       "      <th>0</th>\n",
       "      <td>0.63387</td>\n",
       "      <td>0.801883</td>\n",
       "      <td>4</td>\n",
       "      <td>shap_studyID_NOdisease_samesize</td>\n",
       "      <td>T_CD8_NonNaive</td>\n",
       "    </tr>\n",
       "  </tbody>\n",
       "</table>\n",
       "</div>"
      ],
      "text/plain": [
       "       BAS       WF1  split_idx                    gene_set_seed  \\\n",
       "0  0.63387  0.801883          4  shap_studyID_NOdisease_samesize   \n",
       "\n",
       "        cell_type  \n",
       "0  T_CD8_NonNaive  "
      ]
     },
     "execution_count": 27,
     "metadata": {},
     "output_type": "execute_result"
    }
   ],
   "source": [
    "metrics_df = pd.DataFrame.from_dict([metrics_dict]).assign(split_idx=TEST_SPLIT_IDX, gene_set_seed=SEED, cell_type=CELL_TYPE)\n",
    "metrics_df"
   ]
  },
  {
   "cell_type": "code",
   "execution_count": 28,
   "id": "872c5f89",
   "metadata": {
    "execution": {
     "iopub.execute_input": "2025-06-13T13:11:18.453065Z",
     "iopub.status.busy": "2025-06-13T13:11:18.452643Z",
     "iopub.status.idle": "2025-06-13T13:11:18.462408Z",
     "shell.execute_reply": "2025-06-13T13:11:18.462041Z"
    },
    "papermill": {
     "duration": 0.020906,
     "end_time": "2025-06-13T13:11:18.463331",
     "exception": false,
     "start_time": "2025-06-13T13:11:18.442425",
     "status": "completed"
    },
    "tags": []
   },
   "outputs": [],
   "source": [
    "out_dir = here(f'03_downstream_analysis/08_gene_importance/xgboost_external_validation/xgboost_TopN_genes/results_{N_GENES}/metrics')\n",
    "\n",
    "if not os.path.exists(out_dir):\n",
    "    os.makedirs(out_dir)\n",
    "    \n",
    "metrics_df.to_csv(os.path.join(out_dir, f'{CELL_TYPE}_{SEED}_{TEST_SPLIT_IDX}_metrics.zip'))"
   ]
  }
 ],
 "metadata": {
  "kernelspec": {
   "display_name": "Python 3 (ipykernel)",
   "language": "python",
   "name": "python3"
  },
  "language_info": {
   "codemirror_mode": {
    "name": "ipython",
    "version": 3
   },
   "file_extension": ".py",
   "mimetype": "text/x-python",
   "name": "python",
   "nbconvert_exporter": "python",
   "pygments_lexer": "ipython3",
   "version": "3.12.5"
  },
  "papermill": {
   "default_parameters": {},
   "duration": 333.146765,
   "end_time": "2025-06-13T13:11:19.089519",
   "environment_variables": {},
   "exception": null,
   "input_path": "02_xgboost_fitting_external_20genes.ipynb",
   "output_path": "results_20/executed_notebooks/xgboost_fitting_external_CT_T_CD8_NonNaive_GS_shap_studyID_NOdisease_samesize_seed4.ipynb",
   "parameters": {
    "CELL_TYPE": "T_CD8_NonNaive",
    "SEED": "shap_studyID_NOdisease_samesize",
    "TEST_SPLIT_IDX": 4
   },
   "start_time": "2025-06-13T13:05:45.942754",
   "version": "2.6.0"
  }
 },
 "nbformat": 4,
 "nbformat_minor": 5
}