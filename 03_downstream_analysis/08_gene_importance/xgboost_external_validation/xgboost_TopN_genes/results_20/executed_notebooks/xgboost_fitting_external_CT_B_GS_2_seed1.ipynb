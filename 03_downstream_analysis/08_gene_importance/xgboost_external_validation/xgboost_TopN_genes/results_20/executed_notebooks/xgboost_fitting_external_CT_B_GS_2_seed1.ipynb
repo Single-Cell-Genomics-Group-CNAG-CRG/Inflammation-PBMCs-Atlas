{
 "cells": [
  {
   "cell_type": "code",
   "execution_count": 1,
   "id": "586f0dfb",
   "metadata": {
    "editable": true,
    "execution": {
     "iopub.execute_input": "2025-05-15T16:08:43.272550Z",
     "iopub.status.busy": "2025-05-15T16:08:43.272275Z",
     "iopub.status.idle": "2025-05-15T16:08:43.275625Z",
     "shell.execute_reply": "2025-05-15T16:08:43.275251Z"
    },
    "papermill": {
     "duration": 0.012598,
     "end_time": "2025-05-15T16:08:43.276607",
     "exception": false,
     "start_time": "2025-05-15T16:08:43.264009",
     "status": "completed"
    },
    "slideshow": {
     "slide_type": ""
    },
    "tags": [
     "parameters"
    ]
   },
   "outputs": [],
   "source": [
    "CELL_TYPE = 'pDC'\n",
    "N_GENES: int = 20\n",
    "SEED = 'shap_studyID' #'disease_NOstudy' 'study_NOdisease' or 'int' or 'shap_studyID'\n",
    "TEST_SPLIT_IDX: int = 1 #[0,4]"
   ]
  },
  {
   "cell_type": "code",
   "execution_count": 2,
   "id": "17e9485c",
   "metadata": {
    "execution": {
     "iopub.execute_input": "2025-05-15T16:08:43.288449Z",
     "iopub.status.busy": "2025-05-15T16:08:43.288243Z",
     "iopub.status.idle": "2025-05-15T16:08:43.290457Z",
     "shell.execute_reply": "2025-05-15T16:08:43.290132Z"
    },
    "papermill": {
     "duration": 0.008973,
     "end_time": "2025-05-15T16:08:43.291276",
     "exception": false,
     "start_time": "2025-05-15T16:08:43.282303",
     "status": "completed"
    },
    "tags": [
     "injected-parameters"
    ]
   },
   "outputs": [],
   "source": [
    "# Parameters\n",
    "CELL_TYPE = \"B\"\n",
    "SEED = 2\n",
    "TEST_SPLIT_IDX = 1\n"
   ]
  },
  {
   "cell_type": "code",
   "execution_count": 3,
   "id": "f086df8e",
   "metadata": {
    "execution": {
     "iopub.execute_input": "2025-05-15T16:08:43.302795Z",
     "iopub.status.busy": "2025-05-15T16:08:43.302420Z",
     "iopub.status.idle": "2025-05-15T16:08:43.304763Z",
     "shell.execute_reply": "2025-05-15T16:08:43.304422Z"
    },
    "papermill": {
     "duration": 0.009183,
     "end_time": "2025-05-15T16:08:43.305710",
     "exception": false,
     "start_time": "2025-05-15T16:08:43.296527",
     "status": "completed"
    },
    "tags": []
   },
   "outputs": [],
   "source": [
    "N_SPLITS: int = 5\n",
    "N_TRIALS: int = 50"
   ]
  },
  {
   "cell_type": "code",
   "execution_count": 4,
   "id": "0fd4aa7e",
   "metadata": {
    "execution": {
     "iopub.execute_input": "2025-05-15T16:08:43.318805Z",
     "iopub.status.busy": "2025-05-15T16:08:43.318596Z",
     "iopub.status.idle": "2025-05-15T16:08:44.859438Z",
     "shell.execute_reply": "2025-05-15T16:08:44.858948Z"
    },
    "papermill": {
     "duration": 1.549753,
     "end_time": "2025-05-15T16:08:44.860883",
     "exception": false,
     "start_time": "2025-05-15T16:08:43.311130",
     "status": "completed"
    },
    "tags": []
   },
   "outputs": [],
   "source": [
    "import os\n",
    "import sys\n",
    "from pyprojroot.here import here\n",
    "import pandas as pd\n",
    "import anndata as ad\n",
    "import numpy as np\n",
    "import math\n",
    "from sklearn.model_selection import StratifiedGroupKFold\n",
    "from sklearn.preprocessing import LabelEncoder\n",
    "from sklearn.metrics import f1_score\n",
    "import matplotlib.pyplot as plt\n",
    "import seaborn as sns\n",
    "from itertools import product\n",
    "from sklearn.metrics import balanced_accuracy_score, f1_score\n",
    "import optuna\n",
    "\n",
    "import joblib\n",
    "import pickle\n",
    "import datetime\n",
    "\n",
    "import collections\n",
    "\n",
    "import xgboost\n",
    "from sklearn.preprocessing import LabelEncoder\n",
    "\n",
    "import scipy.sparse as ssp\n",
    "import joblib\n",
    "\n",
    "from dotenv import load_dotenv"
   ]
  },
  {
   "cell_type": "code",
   "execution_count": 5,
   "id": "242ef3c7",
   "metadata": {
    "execution": {
     "iopub.execute_input": "2025-05-15T16:08:44.873754Z",
     "iopub.status.busy": "2025-05-15T16:08:44.873384Z",
     "iopub.status.idle": "2025-05-15T16:08:44.879512Z",
     "shell.execute_reply": "2025-05-15T16:08:44.879156Z"
    },
    "papermill": {
     "duration": 0.013399,
     "end_time": "2025-05-15T16:08:44.880458",
     "exception": false,
     "start_time": "2025-05-15T16:08:44.867059",
     "status": "completed"
    },
    "tags": []
   },
   "outputs": [
    {
     "data": {
      "text/plain": [
       "True"
      ]
     },
     "execution_count": 5,
     "metadata": {},
     "output_type": "execute_result"
    }
   ],
   "source": [
    "load_dotenv()"
   ]
  },
  {
   "cell_type": "markdown",
   "id": "0768d90d",
   "metadata": {
    "papermill": {
     "duration": 0.005603,
     "end_time": "2025-05-15T16:08:44.891732",
     "exception": false,
     "start_time": "2025-05-15T16:08:44.886129",
     "status": "completed"
    },
    "tags": []
   },
   "source": [
    "# LOAD DATASET"
   ]
  },
  {
   "cell_type": "code",
   "execution_count": 6,
   "id": "c7f6c8ca",
   "metadata": {
    "execution": {
     "iopub.execute_input": "2025-05-15T16:08:44.904262Z",
     "iopub.status.busy": "2025-05-15T16:08:44.903646Z",
     "iopub.status.idle": "2025-05-15T16:08:45.221850Z",
     "shell.execute_reply": "2025-05-15T16:08:45.221187Z"
    },
    "papermill": {
     "duration": 0.326238,
     "end_time": "2025-05-15T16:08:45.223425",
     "exception": false,
     "start_time": "2025-05-15T16:08:44.897187",
     "status": "completed"
    },
    "tags": []
   },
   "outputs": [],
   "source": [
    "train_adata = ad.read_h5ad(\n",
    "    here(f'03_downstream_analysis/08_gene_importance/xgboost_external_validation/xgboost_TopN_genes/data_cellTypes/EXTERNAL_{CELL_TYPE}.filtered.log1p.h5ad')\n",
    ")"
   ]
  },
  {
   "cell_type": "code",
   "execution_count": 7,
   "id": "80b4c35d",
   "metadata": {
    "execution": {
     "iopub.execute_input": "2025-05-15T16:08:45.242983Z",
     "iopub.status.busy": "2025-05-15T16:08:45.242759Z",
     "iopub.status.idle": "2025-05-15T16:08:45.264018Z",
     "shell.execute_reply": "2025-05-15T16:08:45.263634Z"
    },
    "papermill": {
     "duration": 0.035153,
     "end_time": "2025-05-15T16:08:45.265089",
     "exception": false,
     "start_time": "2025-05-15T16:08:45.229936",
     "status": "completed"
    },
    "tags": []
   },
   "outputs": [
    {
     "name": "stdout",
     "output_type": "stream",
     "text": [
      "['ENSG00000117450' 'ENSG00000183508' 'ENSG00000137265' 'ENSG00000154589'\n",
      " 'ENSG00000090554' 'ENSG00000130429' 'ENSG00000135404' 'ENSG00000240065'\n",
      " 'ENSG00000141367' 'ENSG00000111678' 'ENSG00000163513' 'ENSG00000170581'\n",
      " 'ENSG00000162704' 'ENSG00000183172' 'ENSG00000175390' 'ENSG00000130724'\n",
      " 'ENSG00000072958' 'ENSG00000132510' 'ENSG00000131196' 'ENSG00000115415'\n",
      " 'ENSG00000135441' 'ENSG00000151882' 'ENSG00000173039' 'ENSG00000170476'\n",
      " 'ENSG00000108622' 'ENSG00000132965' 'ENSG00000030582' 'ENSG00000211890'\n",
      " 'ENSG00000128218' 'ENSG00000102265' 'ENSG00000156411' 'ENSG00000084207'\n",
      " 'ENSG00000169554' 'ENSG00000143924' 'ENSG00000170989' 'ENSG00000104964'\n",
      " 'ENSG00000110057' 'ENSG00000135916' 'ENSG00000127540' 'ENSG00000105221'\n",
      " 'ENSG00000104894' 'ENSG00000136156' 'ENSG00000129084' 'ENSG00000115073'\n",
      " 'ENSG00000156738' 'ENSG00000204482' 'ENSG00000235162' 'ENSG00000142634'\n",
      " 'ENSG00000152518' 'ENSG00000066294' 'ENSG00000177721' 'ENSG00000196735'\n",
      " 'ENSG00000163191' 'ENSG00000077238' 'ENSG00000113441' 'ENSG00000168394'\n",
      " 'ENSG00000127022' 'ENSG00000171700' 'ENSG00000134285' 'ENSG00000187608'\n",
      " 'ENSG00000116191' 'ENSG00000170345' 'ENSG00000242574' 'ENSG00000166927'\n",
      " 'ENSG00000185201' 'ENSG00000100911' 'ENSG00000122862' 'ENSG00000265972'\n",
      " 'ENSG00000081059' 'ENSG00000206503' 'ENSG00000104671' 'ENSG00000117602'\n",
      " 'ENSG00000109861' 'ENSG00000143933' 'ENSG00000185591' 'ENSG00000197872'\n",
      " 'ENSG00000127314' 'ENSG00000027697' 'ENSG00000100365' 'ENSG00000104856'\n",
      " 'ENSG00000033800' 'ENSG00000118260' 'ENSG00000175203' 'ENSG00000076662'\n",
      " 'ENSG00000204257' 'ENSG00000132475' 'ENSG00000175567' 'ENSG00000277734'\n",
      " 'ENSG00000130066' 'ENSG00000126267' 'ENSG00000145287' 'ENSG00000112137'\n",
      " 'ENSG00000177556' 'ENSG00000101695' 'ENSG00000231389' 'ENSG00000118503'\n",
      " 'ENSG00000152056' 'ENSG00000157514' 'ENSG00000152219' 'ENSG00000104689']\n"
     ]
    }
   ],
   "source": [
    "if SEED != 'all':\n",
    "    gene_subset = np.load(here(f'03_downstream_analysis/08_gene_importance/xgboost_external_validation/shap_gene_selection/gene_subsets_{N_GENES}/{CELL_TYPE}_{SEED}.npy'), allow_pickle=True)\n",
    "    train_adata = train_adata[:,gene_subset]\n",
    "    print(gene_subset)\n",
    "elif SEED == 'all':\n",
    "    print('Using all genes')\n",
    "else:\n",
    "    raise ValueError()"
   ]
  },
  {
   "cell_type": "code",
   "execution_count": 8,
   "id": "c40fc711",
   "metadata": {
    "execution": {
     "iopub.execute_input": "2025-05-15T16:08:45.280472Z",
     "iopub.status.busy": "2025-05-15T16:08:45.280076Z",
     "iopub.status.idle": "2025-05-15T16:08:45.283287Z",
     "shell.execute_reply": "2025-05-15T16:08:45.282958Z"
    },
    "papermill": {
     "duration": 0.011232,
     "end_time": "2025-05-15T16:08:45.284344",
     "exception": false,
     "start_time": "2025-05-15T16:08:45.273112",
     "status": "completed"
    },
    "tags": []
   },
   "outputs": [
    {
     "data": {
      "text/plain": [
       "(45811, 100)"
      ]
     },
     "execution_count": 8,
     "metadata": {},
     "output_type": "execute_result"
    }
   ],
   "source": [
    "train_adata.shape"
   ]
  },
  {
   "cell_type": "code",
   "execution_count": 9,
   "id": "d9591f8a",
   "metadata": {
    "execution": {
     "iopub.execute_input": "2025-05-15T16:08:45.298016Z",
     "iopub.status.busy": "2025-05-15T16:08:45.297817Z",
     "iopub.status.idle": "2025-05-15T16:08:45.301657Z",
     "shell.execute_reply": "2025-05-15T16:08:45.301269Z"
    },
    "papermill": {
     "duration": 0.011942,
     "end_time": "2025-05-15T16:08:45.302713",
     "exception": false,
     "start_time": "2025-05-15T16:08:45.290771",
     "status": "completed"
    },
    "tags": []
   },
   "outputs": [
    {
     "data": {
      "text/plain": [
       "['RA', 'healthy', 'COVID', 'HIV', 'cirrhosis', 'CD', 'SLE', 'sepsis']\n",
       "Categories (8, object): ['CD', 'COVID', 'HIV', 'RA', 'SLE', 'cirrhosis', 'healthy', 'sepsis']"
      ]
     },
     "execution_count": 9,
     "metadata": {},
     "output_type": "execute_result"
    }
   ],
   "source": [
    "train_adata.obs.disease.unique()"
   ]
  },
  {
   "cell_type": "code",
   "execution_count": 10,
   "id": "53f46cbd",
   "metadata": {
    "execution": {
     "iopub.execute_input": "2025-05-15T16:08:45.316358Z",
     "iopub.status.busy": "2025-05-15T16:08:45.316127Z",
     "iopub.status.idle": "2025-05-15T16:08:45.320069Z",
     "shell.execute_reply": "2025-05-15T16:08:45.319732Z"
    },
    "papermill": {
     "duration": 0.012036,
     "end_time": "2025-05-15T16:08:45.321076",
     "exception": false,
     "start_time": "2025-05-15T16:08:45.309040",
     "status": "completed"
    },
    "tags": []
   },
   "outputs": [
    {
     "data": {
      "text/plain": [
       "['SCGT00val_I036015_T0', 'SCGT00val_I0364_T0', 'SCGT00val_I036021_T0', 'SCGT00val_I036028_T0', 'SCGT00val_I036016_T0', ..., '10XGenomics_10XHC2_T0', '10XGenomics_10XHC3_T0', '10XGenomics_10XHC5_T0', '10XGenomics_10XHC7_T0', '10XGenomics_10XHC8_T0']\n",
       "Length: 86\n",
       "Categories (86, object): ['10XGenomics_10XHC1_T0', '10XGenomics_10XHC2_T0', '10XGenomics_10XHC3_T0', '10XGenomics_10XHC4_T0', ..., 'Savage2021_BRISL6_T0', 'Savage2021_BRISL7_T0', 'Savage2021_PIDA_T0', 'Savage2021_PIDB_T0']"
      ]
     },
     "execution_count": 10,
     "metadata": {},
     "output_type": "execute_result"
    }
   ],
   "source": [
    "train_adata.obs.sampleID.unique()"
   ]
  },
  {
   "cell_type": "code",
   "execution_count": 11,
   "id": "c3863153",
   "metadata": {
    "execution": {
     "iopub.execute_input": "2025-05-15T16:08:45.334060Z",
     "iopub.status.busy": "2025-05-15T16:08:45.333726Z",
     "iopub.status.idle": "2025-05-15T16:08:45.481616Z",
     "shell.execute_reply": "2025-05-15T16:08:45.481095Z"
    },
    "papermill": {
     "duration": 0.156045,
     "end_time": "2025-05-15T16:08:45.483185",
     "exception": false,
     "start_time": "2025-05-15T16:08:45.327140",
     "status": "completed"
    },
    "tags": []
   },
   "outputs": [],
   "source": [
    "all_idxs = np.arange(train_adata.obs.shape[0])\n",
    "left_out_splits = [s[1] for s in StratifiedGroupKFold(n_splits=N_SPLITS).split(all_idxs, train_adata.obs.disease, train_adata.obs.sampleID)]"
   ]
  },
  {
   "cell_type": "code",
   "execution_count": 12,
   "id": "1317505d",
   "metadata": {
    "execution": {
     "iopub.execute_input": "2025-05-15T16:08:45.498064Z",
     "iopub.status.busy": "2025-05-15T16:08:45.497845Z",
     "iopub.status.idle": "2025-05-15T16:08:45.501801Z",
     "shell.execute_reply": "2025-05-15T16:08:45.501411Z"
    },
    "papermill": {
     "duration": 0.012618,
     "end_time": "2025-05-15T16:08:45.502847",
     "exception": false,
     "start_time": "2025-05-15T16:08:45.490229",
     "status": "completed"
    },
    "tags": []
   },
   "outputs": [
    {
     "data": {
      "text/plain": [
       "([0, 3, 4], 2, 1)"
      ]
     },
     "execution_count": 12,
     "metadata": {},
     "output_type": "execute_result"
    }
   ],
   "source": [
    "TRAIN_SPLIT_IDXS = [0,1,2,3,4]\n",
    "VAL_SPLIT_IDX = (TEST_SPLIT_IDX + 1) % 5\n",
    "TRAIN_SPLIT_IDXS.remove(TEST_SPLIT_IDX)\n",
    "TRAIN_SPLIT_IDXS.remove(VAL_SPLIT_IDX)\n",
    "TRAIN_SPLIT_IDXS, VAL_SPLIT_IDX, TEST_SPLIT_IDX"
   ]
  },
  {
   "cell_type": "code",
   "execution_count": 13,
   "id": "b86096de",
   "metadata": {
    "execution": {
     "iopub.execute_input": "2025-05-15T16:08:45.517294Z",
     "iopub.status.busy": "2025-05-15T16:08:45.516893Z",
     "iopub.status.idle": "2025-05-15T16:08:45.519412Z",
     "shell.execute_reply": "2025-05-15T16:08:45.519087Z"
    },
    "papermill": {
     "duration": 0.010772,
     "end_time": "2025-05-15T16:08:45.520335",
     "exception": false,
     "start_time": "2025-05-15T16:08:45.509563",
     "status": "completed"
    },
    "tags": []
   },
   "outputs": [],
   "source": [
    "train_idxs = np.concatenate([left_out_splits[idx] for idx in TRAIN_SPLIT_IDXS])\n",
    "val_idxs = left_out_splits[VAL_SPLIT_IDX]\n",
    "test_idxs = left_out_splits[TEST_SPLIT_IDX]"
   ]
  },
  {
   "cell_type": "markdown",
   "id": "095b13cd",
   "metadata": {
    "papermill": {
     "duration": 0.005767,
     "end_time": "2025-05-15T16:08:45.532276",
     "exception": false,
     "start_time": "2025-05-15T16:08:45.526509",
     "status": "completed"
    },
    "tags": []
   },
   "source": [
    "### SUBSET DATASET INTO TRAIN/TEST/VAL SPLITS"
   ]
  },
  {
   "cell_type": "code",
   "execution_count": 14,
   "id": "7fe01c58",
   "metadata": {
    "execution": {
     "iopub.execute_input": "2025-05-15T16:08:45.544901Z",
     "iopub.status.busy": "2025-05-15T16:08:45.544597Z",
     "iopub.status.idle": "2025-05-15T16:08:45.654370Z",
     "shell.execute_reply": "2025-05-15T16:08:45.653992Z"
    },
    "papermill": {
     "duration": 0.117213,
     "end_time": "2025-05-15T16:08:45.655392",
     "exception": false,
     "start_time": "2025-05-15T16:08:45.538179",
     "status": "completed"
    },
    "tags": []
   },
   "outputs": [
    {
     "data": {
      "text/plain": [
       "((27810, 100), (8381, 100), (9620, 100))"
      ]
     },
     "execution_count": 14,
     "metadata": {},
     "output_type": "execute_result"
    }
   ],
   "source": [
    "X_train = train_adata.X[train_idxs]\n",
    "X_test = train_adata.X[test_idxs]\n",
    "X_val = train_adata.X[val_idxs]\n",
    "X_train.shape, X_test.shape, X_val.shape"
   ]
  },
  {
   "cell_type": "code",
   "execution_count": 15,
   "id": "16dbd292",
   "metadata": {
    "execution": {
     "iopub.execute_input": "2025-05-15T16:08:45.670529Z",
     "iopub.status.busy": "2025-05-15T16:08:45.670294Z",
     "iopub.status.idle": "2025-05-15T16:08:45.678589Z",
     "shell.execute_reply": "2025-05-15T16:08:45.678210Z"
    },
    "papermill": {
     "duration": 0.017033,
     "end_time": "2025-05-15T16:08:45.679646",
     "exception": false,
     "start_time": "2025-05-15T16:08:45.662613",
     "status": "completed"
    },
    "tags": []
   },
   "outputs": [
    {
     "data": {
      "text/plain": [
       "((27810,), (8381,), (9620,))"
      ]
     },
     "execution_count": 15,
     "metadata": {},
     "output_type": "execute_result"
    }
   ],
   "source": [
    "y_train = train_adata.obs.iloc[train_idxs].disease.values.astype(str)\n",
    "y_test = train_adata.obs.iloc[test_idxs].disease.values.astype(str)\n",
    "y_val = train_adata.obs.iloc[val_idxs].disease.values.astype(str)\n",
    "y_train.shape, y_test.shape, y_val.shape"
   ]
  },
  {
   "cell_type": "code",
   "execution_count": 16,
   "id": "6fdb4ec0",
   "metadata": {
    "execution": {
     "iopub.execute_input": "2025-05-15T16:08:45.693828Z",
     "iopub.status.busy": "2025-05-15T16:08:45.693627Z",
     "iopub.status.idle": "2025-05-15T16:08:45.706630Z",
     "shell.execute_reply": "2025-05-15T16:08:45.706236Z"
    },
    "papermill": {
     "duration": 0.02155,
     "end_time": "2025-05-15T16:08:45.708039",
     "exception": false,
     "start_time": "2025-05-15T16:08:45.686489",
     "status": "completed"
    },
    "tags": []
   },
   "outputs": [],
   "source": [
    "lenc = LabelEncoder()\n",
    "y_train_enc = lenc.fit_transform(y_train)\n",
    "y_val_enc = lenc.transform(y_val)\n",
    "y_test_enc = lenc.transform(y_test)"
   ]
  },
  {
   "cell_type": "markdown",
   "id": "7bc02ede",
   "metadata": {
    "papermill": {
     "duration": 0.006943,
     "end_time": "2025-05-15T16:08:45.722199",
     "exception": false,
     "start_time": "2025-05-15T16:08:45.715256",
     "status": "completed"
    },
    "tags": []
   },
   "source": [
    "### GENERATE F1 "
   ]
  },
  {
   "cell_type": "code",
   "execution_count": 17,
   "id": "0ad945b0",
   "metadata": {
    "execution": {
     "iopub.execute_input": "2025-05-15T16:08:45.736290Z",
     "iopub.status.busy": "2025-05-15T16:08:45.736065Z",
     "iopub.status.idle": "2025-05-15T16:08:45.738802Z",
     "shell.execute_reply": "2025-05-15T16:08:45.738446Z"
    },
    "papermill": {
     "duration": 0.010994,
     "end_time": "2025-05-15T16:08:45.739737",
     "exception": false,
     "start_time": "2025-05-15T16:08:45.728743",
     "status": "completed"
    },
    "tags": []
   },
   "outputs": [],
   "source": [
    "def custom_f1_score(y_true, y_pred):\n",
    "    return -f1_score(y_true, y_pred.argmax(1), average='weighted')"
   ]
  },
  {
   "cell_type": "code",
   "execution_count": 18,
   "id": "b4b581e6",
   "metadata": {
    "execution": {
     "iopub.execute_input": "2025-05-15T16:08:45.752916Z",
     "iopub.status.busy": "2025-05-15T16:08:45.752594Z",
     "iopub.status.idle": "2025-05-15T16:08:45.756658Z",
     "shell.execute_reply": "2025-05-15T16:08:45.756282Z"
    },
    "papermill": {
     "duration": 0.011946,
     "end_time": "2025-05-15T16:08:45.757574",
     "exception": false,
     "start_time": "2025-05-15T16:08:45.745628",
     "status": "completed"
    },
    "tags": []
   },
   "outputs": [],
   "source": [
    "eval_metric=custom_f1_score\n",
    "eval_metric_name='custom_f1_score'\n",
    "\n",
    "def objective(trial):\n",
    "    params = {\n",
    "        'n_estimators': 1500,\n",
    "        'max_depth': trial.suggest_int('max_depth', 3, 20),\n",
    "        'min_child_weight': trial.suggest_int('min_child_weight', 1, 250),\n",
    "        'subsample': trial.suggest_float('subsample', 0.1, 1.0),\n",
    "        'colsample_bynode': trial.suggest_float('colsample_bynode', 0.1, 1.0),\n",
    "        'learning_rate': trial.suggest_float('learning_rate', 1e-3, 5e-1, log=True),\n",
    "    }\n",
    "    pruning_callback = optuna.integration.XGBoostPruningCallback(trial, f'validation_0-{eval_metric_name}')\n",
    "    es_callback = xgboost.callback.EarlyStopping(20, min_delta=0.001)\n",
    "    xgb = xgboost.XGBClassifier(\n",
    "        eval_metric=eval_metric,\n",
    "        callbacks=[pruning_callback, es_callback],\n",
    "        n_jobs=5,\n",
    "        **params\n",
    "    )\n",
    "    xgb.fit(\n",
    "        X_train, \n",
    "        y_train_enc, \n",
    "        verbose=0,\n",
    "        eval_set=[(X_val, y_val_enc)],\n",
    "    )\n",
    "    trial.set_user_attr('best_iteration', xgb.best_iteration)\n",
    "\n",
    "    return xgb.best_score"
   ]
  },
  {
   "cell_type": "code",
   "execution_count": 19,
   "id": "70ee1bf0",
   "metadata": {
    "execution": {
     "iopub.execute_input": "2025-05-15T16:08:45.771000Z",
     "iopub.status.busy": "2025-05-15T16:08:45.770682Z",
     "iopub.status.idle": "2025-05-15T16:15:05.292887Z",
     "shell.execute_reply": "2025-05-15T16:15:05.292148Z"
    },
    "papermill": {
     "duration": 379.530622,
     "end_time": "2025-05-15T16:15:05.294479",
     "exception": false,
     "start_time": "2025-05-15T16:08:45.763857",
     "status": "completed"
    },
    "scrolled": true,
    "tags": []
   },
   "outputs": [
    {
     "name": "stderr",
     "output_type": "stream",
     "text": [
      "[I 2025-05-15 18:08:45,772] A new study created in memory with name: no-name-cee095e8-60f0-4377-9e5f-313758619308\n"
     ]
    },
    {
     "name": "stderr",
     "output_type": "stream",
     "text": [
      "[I 2025-05-15 18:08:48,449] Trial 0 finished with value: -0.508037 and parameters: {'max_depth': 9, 'min_child_weight': 238, 'subsample': 0.7587945476302645, 'colsample_bynode': 0.6387926357773329, 'learning_rate': 0.0026368755339723046}. Best is trial 0 with value: -0.508037.\n"
     ]
    },
    {
     "name": "stderr",
     "output_type": "stream",
     "text": [
      "[I 2025-05-15 18:09:16,142] Trial 1 finished with value: -0.72207 and parameters: {'max_depth': 5, 'min_child_weight': 15, 'subsample': 0.8795585311974417, 'colsample_bynode': 0.6410035105688879, 'learning_rate': 0.08148293210105287}. Best is trial 1 with value: -0.72207.\n"
     ]
    },
    {
     "name": "stderr",
     "output_type": "stream",
     "text": [
      "[I 2025-05-15 18:09:18,053] Trial 2 finished with value: -0.47005 and parameters: {'max_depth': 3, 'min_child_weight': 243, 'subsample': 0.8491983767203796, 'colsample_bynode': 0.29110519961044856, 'learning_rate': 0.003095566460242371}. Best is trial 1 with value: -0.72207.\n"
     ]
    },
    {
     "name": "stderr",
     "output_type": "stream",
     "text": [
      "[I 2025-05-15 18:09:22,812] Trial 3 finished with value: -0.561546 and parameters: {'max_depth': 6, 'min_child_weight': 77, 'subsample': 0.5722807884690141, 'colsample_bynode': 0.48875051677790415, 'learning_rate': 0.006109683510122491}. Best is trial 1 with value: -0.72207.\n"
     ]
    },
    {
     "name": "stderr",
     "output_type": "stream",
     "text": [
      "[I 2025-05-15 18:10:17,323] Trial 4 finished with value: -0.702418 and parameters: {'max_depth': 14, 'min_child_weight': 35, 'subsample': 0.3629301836816964, 'colsample_bynode': 0.4297256589643226, 'learning_rate': 0.01701841881702917}. Best is trial 1 with value: -0.72207.\n"
     ]
    },
    {
     "name": "stderr",
     "output_type": "stream",
     "text": [
      "[I 2025-05-15 18:10:21,708] Trial 5 pruned. Trial was pruned at iteration 26.\n"
     ]
    },
    {
     "name": "stderr",
     "output_type": "stream",
     "text": [
      "[I 2025-05-15 18:10:22,022] Trial 6 pruned. Trial was pruned at iteration 0.\n"
     ]
    },
    {
     "name": "stderr",
     "output_type": "stream",
     "text": [
      "[I 2025-05-15 18:10:22,338] Trial 7 pruned. Trial was pruned at iteration 0.\n"
     ]
    },
    {
     "name": "stderr",
     "output_type": "stream",
     "text": [
      "[I 2025-05-15 18:10:22,629] Trial 8 pruned. Trial was pruned at iteration 0.\n"
     ]
    },
    {
     "name": "stderr",
     "output_type": "stream",
     "text": [
      "[I 2025-05-15 18:10:23,107] Trial 9 pruned. Trial was pruned at iteration 1.\n"
     ]
    },
    {
     "name": "stderr",
     "output_type": "stream",
     "text": [
      "[I 2025-05-15 18:10:46,371] Trial 10 finished with value: -0.713025 and parameters: {'max_depth': 9, 'min_child_weight': 2, 'subsample': 0.9725833997090791, 'colsample_bynode': 0.11616568805333755, 'learning_rate': 0.17780618353487967}. Best is trial 1 with value: -0.72207.\n"
     ]
    },
    {
     "name": "stderr",
     "output_type": "stream",
     "text": [
      "[I 2025-05-15 18:11:09,283] Trial 11 finished with value: -0.712998 and parameters: {'max_depth': 9, 'min_child_weight': 4, 'subsample': 0.9818290990185045, 'colsample_bynode': 0.17702656156719, 'learning_rate': 0.11568531411766632}. Best is trial 1 with value: -0.72207.\n"
     ]
    },
    {
     "name": "stderr",
     "output_type": "stream",
     "text": [
      "[I 2025-05-15 18:11:39,336] Trial 12 finished with value: -0.714147 and parameters: {'max_depth': 9, 'min_child_weight': 3, 'subsample': 0.9754570370311046, 'colsample_bynode': 0.14672783827498995, 'learning_rate': 0.08954997670613858}. Best is trial 1 with value: -0.72207.\n"
     ]
    },
    {
     "name": "stderr",
     "output_type": "stream",
     "text": [
      "[I 2025-05-15 18:11:39,672] Trial 13 pruned. Trial was pruned at iteration 0.\n"
     ]
    },
    {
     "name": "stderr",
     "output_type": "stream",
     "text": [
      "[I 2025-05-15 18:11:40,017] Trial 14 pruned. Trial was pruned at iteration 0.\n"
     ]
    },
    {
     "name": "stderr",
     "output_type": "stream",
     "text": [
      "[I 2025-05-15 18:12:08,654] Trial 15 pruned. Trial was pruned at iteration 44.\n"
     ]
    },
    {
     "name": "stderr",
     "output_type": "stream",
     "text": [
      "[I 2025-05-15 18:12:09,009] Trial 16 pruned. Trial was pruned at iteration 0.\n"
     ]
    },
    {
     "name": "stderr",
     "output_type": "stream",
     "text": [
      "[I 2025-05-15 18:12:09,327] Trial 17 pruned. Trial was pruned at iteration 0.\n"
     ]
    },
    {
     "name": "stderr",
     "output_type": "stream",
     "text": [
      "[I 2025-05-15 18:12:13,154] Trial 18 pruned. Trial was pruned at iteration 22.\n"
     ]
    },
    {
     "name": "stderr",
     "output_type": "stream",
     "text": [
      "[I 2025-05-15 18:12:13,473] Trial 19 pruned. Trial was pruned at iteration 0.\n"
     ]
    },
    {
     "name": "stderr",
     "output_type": "stream",
     "text": [
      "[I 2025-05-15 18:12:18,045] Trial 20 pruned. Trial was pruned at iteration 22.\n"
     ]
    },
    {
     "name": "stderr",
     "output_type": "stream",
     "text": [
      "[I 2025-05-15 18:12:44,009] Trial 21 finished with value: -0.711111 and parameters: {'max_depth': 10, 'min_child_weight': 1, 'subsample': 0.9952609852690866, 'colsample_bynode': 0.10219264632724914, 'learning_rate': 0.20901104055631745}. Best is trial 1 with value: -0.72207.\n"
     ]
    },
    {
     "name": "stderr",
     "output_type": "stream",
     "text": [
      "[I 2025-05-15 18:12:44,492] Trial 22 pruned. Trial was pruned at iteration 0.\n"
     ]
    },
    {
     "name": "stderr",
     "output_type": "stream",
     "text": [
      "[I 2025-05-15 18:12:44,949] Trial 23 pruned. Trial was pruned at iteration 0.\n"
     ]
    },
    {
     "name": "stderr",
     "output_type": "stream",
     "text": [
      "[I 2025-05-15 18:12:56,158] Trial 24 finished with value: -0.717144 and parameters: {'max_depth': 7, 'min_child_weight': 23, 'subsample': 0.9363676414616533, 'colsample_bynode': 0.7010132046256832, 'learning_rate': 0.3053879216641414}. Best is trial 1 with value: -0.72207.\n"
     ]
    },
    {
     "name": "stderr",
     "output_type": "stream",
     "text": [
      "[I 2025-05-15 18:12:56,533] Trial 25 pruned. Trial was pruned at iteration 0.\n"
     ]
    },
    {
     "name": "stderr",
     "output_type": "stream",
     "text": [
      "[I 2025-05-15 18:13:00,614] Trial 26 pruned. Trial was pruned at iteration 22.\n"
     ]
    },
    {
     "name": "stderr",
     "output_type": "stream",
     "text": [
      "[I 2025-05-15 18:13:00,974] Trial 27 pruned. Trial was pruned at iteration 0.\n"
     ]
    },
    {
     "name": "stderr",
     "output_type": "stream",
     "text": [
      "[I 2025-05-15 18:13:01,359] Trial 28 pruned. Trial was pruned at iteration 0.\n"
     ]
    },
    {
     "name": "stderr",
     "output_type": "stream",
     "text": [
      "[I 2025-05-15 18:13:01,717] Trial 29 pruned. Trial was pruned at iteration 0.\n"
     ]
    },
    {
     "name": "stderr",
     "output_type": "stream",
     "text": [
      "[I 2025-05-15 18:13:06,776] Trial 30 pruned. Trial was pruned at iteration 22.\n"
     ]
    },
    {
     "name": "stderr",
     "output_type": "stream",
     "text": [
      "[I 2025-05-15 18:13:24,967] Trial 31 finished with value: -0.718729 and parameters: {'max_depth': 9, 'min_child_weight': 15, 'subsample': 0.9556250923635528, 'colsample_bynode': 0.2696631247657278, 'learning_rate': 0.17564458252192755}. Best is trial 1 with value: -0.72207.\n"
     ]
    },
    {
     "name": "stderr",
     "output_type": "stream",
     "text": [
      "[I 2025-05-15 18:13:49,782] Trial 32 finished with value: -0.727486 and parameters: {'max_depth': 10, 'min_child_weight': 20, 'subsample': 0.8474066016778221, 'colsample_bynode': 0.2961151954681507, 'learning_rate': 0.16925289783316952}. Best is trial 32 with value: -0.727486.\n"
     ]
    },
    {
     "name": "stderr",
     "output_type": "stream",
     "text": [
      "[I 2025-05-15 18:13:50,126] Trial 33 pruned. Trial was pruned at iteration 0.\n"
     ]
    },
    {
     "name": "stderr",
     "output_type": "stream",
     "text": [
      "[I 2025-05-15 18:13:50,423] Trial 34 pruned. Trial was pruned at iteration 0.\n"
     ]
    },
    {
     "name": "stderr",
     "output_type": "stream",
     "text": [
      "[I 2025-05-15 18:13:50,762] Trial 35 pruned. Trial was pruned at iteration 0.\n"
     ]
    },
    {
     "name": "stderr",
     "output_type": "stream",
     "text": [
      "[I 2025-05-15 18:14:01,027] Trial 36 finished with value: -0.719754 and parameters: {'max_depth': 12, 'min_child_weight': 19, 'subsample': 0.7335472638867115, 'colsample_bynode': 0.30860017339452944, 'learning_rate': 0.35168636520607033}. Best is trial 32 with value: -0.727486.\n"
     ]
    },
    {
     "name": "stderr",
     "output_type": "stream",
     "text": [
      "[I 2025-05-15 18:14:01,400] Trial 37 pruned. Trial was pruned at iteration 0.\n"
     ]
    },
    {
     "name": "stderr",
     "output_type": "stream",
     "text": [
      "[I 2025-05-15 18:14:01,733] Trial 38 pruned. Trial was pruned at iteration 0.\n"
     ]
    },
    {
     "name": "stderr",
     "output_type": "stream",
     "text": [
      "[I 2025-05-15 18:14:13,114] Trial 39 finished with value: -0.715425 and parameters: {'max_depth': 15, 'min_child_weight': 15, 'subsample': 0.8397231534617123, 'colsample_bynode': 0.3042862963879675, 'learning_rate': 0.3845187793156337}. Best is trial 32 with value: -0.727486.\n"
     ]
    },
    {
     "name": "stderr",
     "output_type": "stream",
     "text": [
      "[I 2025-05-15 18:14:13,435] Trial 40 pruned. Trial was pruned at iteration 0.\n"
     ]
    },
    {
     "name": "stderr",
     "output_type": "stream",
     "text": [
      "[I 2025-05-15 18:14:26,922] Trial 41 finished with value: -0.722105 and parameters: {'max_depth': 13, 'min_child_weight': 34, 'subsample': 0.930164105095294, 'colsample_bynode': 0.6618452742592585, 'learning_rate': 0.31161404786059765}. Best is trial 32 with value: -0.727486.\n"
     ]
    },
    {
     "name": "stderr",
     "output_type": "stream",
     "text": [
      "[I 2025-05-15 18:14:27,523] Trial 42 pruned. Trial was pruned at iteration 1.\n"
     ]
    },
    {
     "name": "stderr",
     "output_type": "stream",
     "text": [
      "[I 2025-05-15 18:14:47,454] Trial 43 finished with value: -0.718493 and parameters: {'max_depth': 14, 'min_child_weight': 13, 'subsample': 0.7989849970126728, 'colsample_bynode': 0.5958662603689564, 'learning_rate': 0.230139401312588}. Best is trial 32 with value: -0.727486.\n"
     ]
    },
    {
     "name": "stderr",
     "output_type": "stream",
     "text": [
      "[I 2025-05-15 18:14:48,048] Trial 44 pruned. Trial was pruned at iteration 1.\n"
     ]
    },
    {
     "name": "stderr",
     "output_type": "stream",
     "text": [
      "[I 2025-05-15 18:15:03,577] Trial 45 finished with value: -0.716327 and parameters: {'max_depth': 13, 'min_child_weight': 12, 'subsample': 0.6242488149791064, 'colsample_bynode': 0.4633225277573954, 'learning_rate': 0.39756572455820505}. Best is trial 32 with value: -0.727486.\n"
     ]
    },
    {
     "name": "stderr",
     "output_type": "stream",
     "text": [
      "[I 2025-05-15 18:15:03,939] Trial 46 pruned. Trial was pruned at iteration 0.\n"
     ]
    },
    {
     "name": "stderr",
     "output_type": "stream",
     "text": [
      "[I 2025-05-15 18:15:04,305] Trial 47 pruned. Trial was pruned at iteration 0.\n"
     ]
    },
    {
     "name": "stderr",
     "output_type": "stream",
     "text": [
      "[I 2025-05-15 18:15:04,724] Trial 48 pruned. Trial was pruned at iteration 0.\n"
     ]
    },
    {
     "name": "stderr",
     "output_type": "stream",
     "text": [
      "[I 2025-05-15 18:15:05,160] Trial 49 pruned. Trial was pruned at iteration 0.\n"
     ]
    }
   ],
   "source": [
    "sampler = optuna.samplers.TPESampler(seed=42)\n",
    "study = optuna.create_study(direction='minimize', sampler=sampler)\n",
    "study.optimize(objective, n_trials=N_TRIALS, gc_after_trial=True)"
   ]
  },
  {
   "cell_type": "code",
   "execution_count": 20,
   "id": "2ae85beb",
   "metadata": {
    "execution": {
     "iopub.execute_input": "2025-05-15T16:15:05.316545Z",
     "iopub.status.busy": "2025-05-15T16:15:05.316276Z",
     "iopub.status.idle": "2025-05-15T16:15:05.359620Z",
     "shell.execute_reply": "2025-05-15T16:15:05.359016Z"
    },
    "papermill": {
     "duration": 0.054729,
     "end_time": "2025-05-15T16:15:05.360741",
     "exception": false,
     "start_time": "2025-05-15T16:15:05.306012",
     "status": "completed"
    },
    "tags": []
   },
   "outputs": [
    {
     "data": {
      "text/plain": [
       "['/scratch_isilon/groups/singlecell/shared/projects/Inflammation-PBMCs-Atlas/03_downstream_analysis/08_gene_importance/xgboost_external_validation/xgboost_TopN_genes/results_20/study/B_2_1_xgboost.pkl']"
      ]
     },
     "execution_count": 20,
     "metadata": {},
     "output_type": "execute_result"
    }
   ],
   "source": [
    "out_dir = here(f'03_downstream_analysis/08_gene_importance/xgboost_external_validation/xgboost_TopN_genes/results_{N_GENES}/study')\n",
    "\n",
    "if not os.path.exists(out_dir):\n",
    "    os.makedirs(out_dir)\n",
    "    \n",
    "joblib.dump(study,os.path.join(out_dir, f'{CELL_TYPE}_{SEED}_{TEST_SPLIT_IDX}_xgboost.pkl'))"
   ]
  },
  {
   "cell_type": "code",
   "execution_count": 21,
   "id": "d84d940f",
   "metadata": {
    "execution": {
     "iopub.execute_input": "2025-05-15T16:15:05.413820Z",
     "iopub.status.busy": "2025-05-15T16:15:05.413345Z",
     "iopub.status.idle": "2025-05-15T16:15:22.111253Z",
     "shell.execute_reply": "2025-05-15T16:15:22.110801Z"
    },
    "papermill": {
     "duration": 16.727154,
     "end_time": "2025-05-15T16:15:22.112781",
     "exception": false,
     "start_time": "2025-05-15T16:15:05.385627",
     "status": "completed"
    },
    "tags": []
   },
   "outputs": [
    {
     "data": {
      "text/html": [
       "<style>#sk-container-id-1 {\n",
       "  /* Definition of color scheme common for light and dark mode */\n",
       "  --sklearn-color-text: black;\n",
       "  --sklearn-color-line: gray;\n",
       "  /* Definition of color scheme for unfitted estimators */\n",
       "  --sklearn-color-unfitted-level-0: #fff5e6;\n",
       "  --sklearn-color-unfitted-level-1: #f6e4d2;\n",
       "  --sklearn-color-unfitted-level-2: #ffe0b3;\n",
       "  --sklearn-color-unfitted-level-3: chocolate;\n",
       "  /* Definition of color scheme for fitted estimators */\n",
       "  --sklearn-color-fitted-level-0: #f0f8ff;\n",
       "  --sklearn-color-fitted-level-1: #d4ebff;\n",
       "  --sklearn-color-fitted-level-2: #b3dbfd;\n",
       "  --sklearn-color-fitted-level-3: cornflowerblue;\n",
       "\n",
       "  /* Specific color for light theme */\n",
       "  --sklearn-color-text-on-default-background: var(--sg-text-color, var(--theme-code-foreground, var(--jp-content-font-color1, black)));\n",
       "  --sklearn-color-background: var(--sg-background-color, var(--theme-background, var(--jp-layout-color0, white)));\n",
       "  --sklearn-color-border-box: var(--sg-text-color, var(--theme-code-foreground, var(--jp-content-font-color1, black)));\n",
       "  --sklearn-color-icon: #696969;\n",
       "\n",
       "  @media (prefers-color-scheme: dark) {\n",
       "    /* Redefinition of color scheme for dark theme */\n",
       "    --sklearn-color-text-on-default-background: var(--sg-text-color, var(--theme-code-foreground, var(--jp-content-font-color1, white)));\n",
       "    --sklearn-color-background: var(--sg-background-color, var(--theme-background, var(--jp-layout-color0, #111)));\n",
       "    --sklearn-color-border-box: var(--sg-text-color, var(--theme-code-foreground, var(--jp-content-font-color1, white)));\n",
       "    --sklearn-color-icon: #878787;\n",
       "  }\n",
       "}\n",
       "\n",
       "#sk-container-id-1 {\n",
       "  color: var(--sklearn-color-text);\n",
       "}\n",
       "\n",
       "#sk-container-id-1 pre {\n",
       "  padding: 0;\n",
       "}\n",
       "\n",
       "#sk-container-id-1 input.sk-hidden--visually {\n",
       "  border: 0;\n",
       "  clip: rect(1px 1px 1px 1px);\n",
       "  clip: rect(1px, 1px, 1px, 1px);\n",
       "  height: 1px;\n",
       "  margin: -1px;\n",
       "  overflow: hidden;\n",
       "  padding: 0;\n",
       "  position: absolute;\n",
       "  width: 1px;\n",
       "}\n",
       "\n",
       "#sk-container-id-1 div.sk-dashed-wrapped {\n",
       "  border: 1px dashed var(--sklearn-color-line);\n",
       "  margin: 0 0.4em 0.5em 0.4em;\n",
       "  box-sizing: border-box;\n",
       "  padding-bottom: 0.4em;\n",
       "  background-color: var(--sklearn-color-background);\n",
       "}\n",
       "\n",
       "#sk-container-id-1 div.sk-container {\n",
       "  /* jupyter's `normalize.less` sets `[hidden] { display: none; }`\n",
       "     but bootstrap.min.css set `[hidden] { display: none !important; }`\n",
       "     so we also need the `!important` here to be able to override the\n",
       "     default hidden behavior on the sphinx rendered scikit-learn.org.\n",
       "     See: https://github.com/scikit-learn/scikit-learn/issues/21755 */\n",
       "  display: inline-block !important;\n",
       "  position: relative;\n",
       "}\n",
       "\n",
       "#sk-container-id-1 div.sk-text-repr-fallback {\n",
       "  display: none;\n",
       "}\n",
       "\n",
       "div.sk-parallel-item,\n",
       "div.sk-serial,\n",
       "div.sk-item {\n",
       "  /* draw centered vertical line to link estimators */\n",
       "  background-image: linear-gradient(var(--sklearn-color-text-on-default-background), var(--sklearn-color-text-on-default-background));\n",
       "  background-size: 2px 100%;\n",
       "  background-repeat: no-repeat;\n",
       "  background-position: center center;\n",
       "}\n",
       "\n",
       "/* Parallel-specific style estimator block */\n",
       "\n",
       "#sk-container-id-1 div.sk-parallel-item::after {\n",
       "  content: \"\";\n",
       "  width: 100%;\n",
       "  border-bottom: 2px solid var(--sklearn-color-text-on-default-background);\n",
       "  flex-grow: 1;\n",
       "}\n",
       "\n",
       "#sk-container-id-1 div.sk-parallel {\n",
       "  display: flex;\n",
       "  align-items: stretch;\n",
       "  justify-content: center;\n",
       "  background-color: var(--sklearn-color-background);\n",
       "  position: relative;\n",
       "}\n",
       "\n",
       "#sk-container-id-1 div.sk-parallel-item {\n",
       "  display: flex;\n",
       "  flex-direction: column;\n",
       "}\n",
       "\n",
       "#sk-container-id-1 div.sk-parallel-item:first-child::after {\n",
       "  align-self: flex-end;\n",
       "  width: 50%;\n",
       "}\n",
       "\n",
       "#sk-container-id-1 div.sk-parallel-item:last-child::after {\n",
       "  align-self: flex-start;\n",
       "  width: 50%;\n",
       "}\n",
       "\n",
       "#sk-container-id-1 div.sk-parallel-item:only-child::after {\n",
       "  width: 0;\n",
       "}\n",
       "\n",
       "/* Serial-specific style estimator block */\n",
       "\n",
       "#sk-container-id-1 div.sk-serial {\n",
       "  display: flex;\n",
       "  flex-direction: column;\n",
       "  align-items: center;\n",
       "  background-color: var(--sklearn-color-background);\n",
       "  padding-right: 1em;\n",
       "  padding-left: 1em;\n",
       "}\n",
       "\n",
       "\n",
       "/* Toggleable style: style used for estimator/Pipeline/ColumnTransformer box that is\n",
       "clickable and can be expanded/collapsed.\n",
       "- Pipeline and ColumnTransformer use this feature and define the default style\n",
       "- Estimators will overwrite some part of the style using the `sk-estimator` class\n",
       "*/\n",
       "\n",
       "/* Pipeline and ColumnTransformer style (default) */\n",
       "\n",
       "#sk-container-id-1 div.sk-toggleable {\n",
       "  /* Default theme specific background. It is overwritten whether we have a\n",
       "  specific estimator or a Pipeline/ColumnTransformer */\n",
       "  background-color: var(--sklearn-color-background);\n",
       "}\n",
       "\n",
       "/* Toggleable label */\n",
       "#sk-container-id-1 label.sk-toggleable__label {\n",
       "  cursor: pointer;\n",
       "  display: block;\n",
       "  width: 100%;\n",
       "  margin-bottom: 0;\n",
       "  padding: 0.5em;\n",
       "  box-sizing: border-box;\n",
       "  text-align: center;\n",
       "}\n",
       "\n",
       "#sk-container-id-1 label.sk-toggleable__label-arrow:before {\n",
       "  /* Arrow on the left of the label */\n",
       "  content: \"▸\";\n",
       "  float: left;\n",
       "  margin-right: 0.25em;\n",
       "  color: var(--sklearn-color-icon);\n",
       "}\n",
       "\n",
       "#sk-container-id-1 label.sk-toggleable__label-arrow:hover:before {\n",
       "  color: var(--sklearn-color-text);\n",
       "}\n",
       "\n",
       "/* Toggleable content - dropdown */\n",
       "\n",
       "#sk-container-id-1 div.sk-toggleable__content {\n",
       "  max-height: 0;\n",
       "  max-width: 0;\n",
       "  overflow: hidden;\n",
       "  text-align: left;\n",
       "  /* unfitted */\n",
       "  background-color: var(--sklearn-color-unfitted-level-0);\n",
       "}\n",
       "\n",
       "#sk-container-id-1 div.sk-toggleable__content.fitted {\n",
       "  /* fitted */\n",
       "  background-color: var(--sklearn-color-fitted-level-0);\n",
       "}\n",
       "\n",
       "#sk-container-id-1 div.sk-toggleable__content pre {\n",
       "  margin: 0.2em;\n",
       "  border-radius: 0.25em;\n",
       "  color: var(--sklearn-color-text);\n",
       "  /* unfitted */\n",
       "  background-color: var(--sklearn-color-unfitted-level-0);\n",
       "}\n",
       "\n",
       "#sk-container-id-1 div.sk-toggleable__content.fitted pre {\n",
       "  /* unfitted */\n",
       "  background-color: var(--sklearn-color-fitted-level-0);\n",
       "}\n",
       "\n",
       "#sk-container-id-1 input.sk-toggleable__control:checked~div.sk-toggleable__content {\n",
       "  /* Expand drop-down */\n",
       "  max-height: 200px;\n",
       "  max-width: 100%;\n",
       "  overflow: auto;\n",
       "}\n",
       "\n",
       "#sk-container-id-1 input.sk-toggleable__control:checked~label.sk-toggleable__label-arrow:before {\n",
       "  content: \"▾\";\n",
       "}\n",
       "\n",
       "/* Pipeline/ColumnTransformer-specific style */\n",
       "\n",
       "#sk-container-id-1 div.sk-label input.sk-toggleable__control:checked~label.sk-toggleable__label {\n",
       "  color: var(--sklearn-color-text);\n",
       "  background-color: var(--sklearn-color-unfitted-level-2);\n",
       "}\n",
       "\n",
       "#sk-container-id-1 div.sk-label.fitted input.sk-toggleable__control:checked~label.sk-toggleable__label {\n",
       "  background-color: var(--sklearn-color-fitted-level-2);\n",
       "}\n",
       "\n",
       "/* Estimator-specific style */\n",
       "\n",
       "/* Colorize estimator box */\n",
       "#sk-container-id-1 div.sk-estimator input.sk-toggleable__control:checked~label.sk-toggleable__label {\n",
       "  /* unfitted */\n",
       "  background-color: var(--sklearn-color-unfitted-level-2);\n",
       "}\n",
       "\n",
       "#sk-container-id-1 div.sk-estimator.fitted input.sk-toggleable__control:checked~label.sk-toggleable__label {\n",
       "  /* fitted */\n",
       "  background-color: var(--sklearn-color-fitted-level-2);\n",
       "}\n",
       "\n",
       "#sk-container-id-1 div.sk-label label.sk-toggleable__label,\n",
       "#sk-container-id-1 div.sk-label label {\n",
       "  /* The background is the default theme color */\n",
       "  color: var(--sklearn-color-text-on-default-background);\n",
       "}\n",
       "\n",
       "/* On hover, darken the color of the background */\n",
       "#sk-container-id-1 div.sk-label:hover label.sk-toggleable__label {\n",
       "  color: var(--sklearn-color-text);\n",
       "  background-color: var(--sklearn-color-unfitted-level-2);\n",
       "}\n",
       "\n",
       "/* Label box, darken color on hover, fitted */\n",
       "#sk-container-id-1 div.sk-label.fitted:hover label.sk-toggleable__label.fitted {\n",
       "  color: var(--sklearn-color-text);\n",
       "  background-color: var(--sklearn-color-fitted-level-2);\n",
       "}\n",
       "\n",
       "/* Estimator label */\n",
       "\n",
       "#sk-container-id-1 div.sk-label label {\n",
       "  font-family: monospace;\n",
       "  font-weight: bold;\n",
       "  display: inline-block;\n",
       "  line-height: 1.2em;\n",
       "}\n",
       "\n",
       "#sk-container-id-1 div.sk-label-container {\n",
       "  text-align: center;\n",
       "}\n",
       "\n",
       "/* Estimator-specific */\n",
       "#sk-container-id-1 div.sk-estimator {\n",
       "  font-family: monospace;\n",
       "  border: 1px dotted var(--sklearn-color-border-box);\n",
       "  border-radius: 0.25em;\n",
       "  box-sizing: border-box;\n",
       "  margin-bottom: 0.5em;\n",
       "  /* unfitted */\n",
       "  background-color: var(--sklearn-color-unfitted-level-0);\n",
       "}\n",
       "\n",
       "#sk-container-id-1 div.sk-estimator.fitted {\n",
       "  /* fitted */\n",
       "  background-color: var(--sklearn-color-fitted-level-0);\n",
       "}\n",
       "\n",
       "/* on hover */\n",
       "#sk-container-id-1 div.sk-estimator:hover {\n",
       "  /* unfitted */\n",
       "  background-color: var(--sklearn-color-unfitted-level-2);\n",
       "}\n",
       "\n",
       "#sk-container-id-1 div.sk-estimator.fitted:hover {\n",
       "  /* fitted */\n",
       "  background-color: var(--sklearn-color-fitted-level-2);\n",
       "}\n",
       "\n",
       "/* Specification for estimator info (e.g. \"i\" and \"?\") */\n",
       "\n",
       "/* Common style for \"i\" and \"?\" */\n",
       "\n",
       ".sk-estimator-doc-link,\n",
       "a:link.sk-estimator-doc-link,\n",
       "a:visited.sk-estimator-doc-link {\n",
       "  float: right;\n",
       "  font-size: smaller;\n",
       "  line-height: 1em;\n",
       "  font-family: monospace;\n",
       "  background-color: var(--sklearn-color-background);\n",
       "  border-radius: 1em;\n",
       "  height: 1em;\n",
       "  width: 1em;\n",
       "  text-decoration: none !important;\n",
       "  margin-left: 1ex;\n",
       "  /* unfitted */\n",
       "  border: var(--sklearn-color-unfitted-level-1) 1pt solid;\n",
       "  color: var(--sklearn-color-unfitted-level-1);\n",
       "}\n",
       "\n",
       ".sk-estimator-doc-link.fitted,\n",
       "a:link.sk-estimator-doc-link.fitted,\n",
       "a:visited.sk-estimator-doc-link.fitted {\n",
       "  /* fitted */\n",
       "  border: var(--sklearn-color-fitted-level-1) 1pt solid;\n",
       "  color: var(--sklearn-color-fitted-level-1);\n",
       "}\n",
       "\n",
       "/* On hover */\n",
       "div.sk-estimator:hover .sk-estimator-doc-link:hover,\n",
       ".sk-estimator-doc-link:hover,\n",
       "div.sk-label-container:hover .sk-estimator-doc-link:hover,\n",
       ".sk-estimator-doc-link:hover {\n",
       "  /* unfitted */\n",
       "  background-color: var(--sklearn-color-unfitted-level-3);\n",
       "  color: var(--sklearn-color-background);\n",
       "  text-decoration: none;\n",
       "}\n",
       "\n",
       "div.sk-estimator.fitted:hover .sk-estimator-doc-link.fitted:hover,\n",
       ".sk-estimator-doc-link.fitted:hover,\n",
       "div.sk-label-container:hover .sk-estimator-doc-link.fitted:hover,\n",
       ".sk-estimator-doc-link.fitted:hover {\n",
       "  /* fitted */\n",
       "  background-color: var(--sklearn-color-fitted-level-3);\n",
       "  color: var(--sklearn-color-background);\n",
       "  text-decoration: none;\n",
       "}\n",
       "\n",
       "/* Span, style for the box shown on hovering the info icon */\n",
       ".sk-estimator-doc-link span {\n",
       "  display: none;\n",
       "  z-index: 9999;\n",
       "  position: relative;\n",
       "  font-weight: normal;\n",
       "  right: .2ex;\n",
       "  padding: .5ex;\n",
       "  margin: .5ex;\n",
       "  width: min-content;\n",
       "  min-width: 20ex;\n",
       "  max-width: 50ex;\n",
       "  color: var(--sklearn-color-text);\n",
       "  box-shadow: 2pt 2pt 4pt #999;\n",
       "  /* unfitted */\n",
       "  background: var(--sklearn-color-unfitted-level-0);\n",
       "  border: .5pt solid var(--sklearn-color-unfitted-level-3);\n",
       "}\n",
       "\n",
       ".sk-estimator-doc-link.fitted span {\n",
       "  /* fitted */\n",
       "  background: var(--sklearn-color-fitted-level-0);\n",
       "  border: var(--sklearn-color-fitted-level-3);\n",
       "}\n",
       "\n",
       ".sk-estimator-doc-link:hover span {\n",
       "  display: block;\n",
       "}\n",
       "\n",
       "/* \"?\"-specific style due to the `<a>` HTML tag */\n",
       "\n",
       "#sk-container-id-1 a.estimator_doc_link {\n",
       "  float: right;\n",
       "  font-size: 1rem;\n",
       "  line-height: 1em;\n",
       "  font-family: monospace;\n",
       "  background-color: var(--sklearn-color-background);\n",
       "  border-radius: 1rem;\n",
       "  height: 1rem;\n",
       "  width: 1rem;\n",
       "  text-decoration: none;\n",
       "  /* unfitted */\n",
       "  color: var(--sklearn-color-unfitted-level-1);\n",
       "  border: var(--sklearn-color-unfitted-level-1) 1pt solid;\n",
       "}\n",
       "\n",
       "#sk-container-id-1 a.estimator_doc_link.fitted {\n",
       "  /* fitted */\n",
       "  border: var(--sklearn-color-fitted-level-1) 1pt solid;\n",
       "  color: var(--sklearn-color-fitted-level-1);\n",
       "}\n",
       "\n",
       "/* On hover */\n",
       "#sk-container-id-1 a.estimator_doc_link:hover {\n",
       "  /* unfitted */\n",
       "  background-color: var(--sklearn-color-unfitted-level-3);\n",
       "  color: var(--sklearn-color-background);\n",
       "  text-decoration: none;\n",
       "}\n",
       "\n",
       "#sk-container-id-1 a.estimator_doc_link.fitted:hover {\n",
       "  /* fitted */\n",
       "  background-color: var(--sklearn-color-fitted-level-3);\n",
       "}\n",
       "</style><div id=\"sk-container-id-1\" class=\"sk-top-container\"><div class=\"sk-text-repr-fallback\"><pre>XGBClassifier(base_score=None, booster=None, callbacks=None,\n",
       "              colsample_bylevel=None, colsample_bynode=0.2961151954681507,\n",
       "              colsample_bytree=None, device=None, early_stopping_rounds=None,\n",
       "              enable_categorical=False,\n",
       "              eval_metric=&lt;function custom_f1_score at 0x7f94b6274540&gt;,\n",
       "              feature_types=None, gamma=None, grow_policy=None,\n",
       "              importance_type=None, interaction_constraints=None,\n",
       "              learning_rate=0.16925289783316952, max_bin=None,\n",
       "              max_cat_threshold=None, max_cat_to_onehot=None,\n",
       "              max_delta_step=None, max_depth=10, max_leaves=None,\n",
       "              min_child_weight=20, missing=nan, monotone_constraints=None,\n",
       "              multi_strategy=None, n_estimators=222, n_jobs=None,\n",
       "              num_parallel_tree=None, objective=&#x27;multi:softprob&#x27;, ...)</pre><b>In a Jupyter environment, please rerun this cell to show the HTML representation or trust the notebook. <br />On GitHub, the HTML representation is unable to render, please try loading this page with nbviewer.org.</b></div><div class=\"sk-container\" hidden><div class=\"sk-item\"><div class=\"sk-estimator fitted sk-toggleable\"><input class=\"sk-toggleable__control sk-hidden--visually\" id=\"sk-estimator-id-1\" type=\"checkbox\" checked><label for=\"sk-estimator-id-1\" class=\"sk-toggleable__label fitted sk-toggleable__label-arrow fitted\">&nbsp;XGBClassifier<span class=\"sk-estimator-doc-link fitted\">i<span>Fitted</span></span></label><div class=\"sk-toggleable__content fitted\"><pre>XGBClassifier(base_score=None, booster=None, callbacks=None,\n",
       "              colsample_bylevel=None, colsample_bynode=0.2961151954681507,\n",
       "              colsample_bytree=None, device=None, early_stopping_rounds=None,\n",
       "              enable_categorical=False,\n",
       "              eval_metric=&lt;function custom_f1_score at 0x7f94b6274540&gt;,\n",
       "              feature_types=None, gamma=None, grow_policy=None,\n",
       "              importance_type=None, interaction_constraints=None,\n",
       "              learning_rate=0.16925289783316952, max_bin=None,\n",
       "              max_cat_threshold=None, max_cat_to_onehot=None,\n",
       "              max_delta_step=None, max_depth=10, max_leaves=None,\n",
       "              min_child_weight=20, missing=nan, monotone_constraints=None,\n",
       "              multi_strategy=None, n_estimators=222, n_jobs=None,\n",
       "              num_parallel_tree=None, objective=&#x27;multi:softprob&#x27;, ...)</pre></div> </div></div></div></div>"
      ],
      "text/plain": [
       "XGBClassifier(base_score=None, booster=None, callbacks=None,\n",
       "              colsample_bylevel=None, colsample_bynode=0.2961151954681507,\n",
       "              colsample_bytree=None, device=None, early_stopping_rounds=None,\n",
       "              enable_categorical=False,\n",
       "              eval_metric=<function custom_f1_score at 0x7f94b6274540>,\n",
       "              feature_types=None, gamma=None, grow_policy=None,\n",
       "              importance_type=None, interaction_constraints=None,\n",
       "              learning_rate=0.16925289783316952, max_bin=None,\n",
       "              max_cat_threshold=None, max_cat_to_onehot=None,\n",
       "              max_delta_step=None, max_depth=10, max_leaves=None,\n",
       "              min_child_weight=20, missing=nan, monotone_constraints=None,\n",
       "              multi_strategy=None, n_estimators=222, n_jobs=None,\n",
       "              num_parallel_tree=None, objective='multi:softprob', ...)"
      ]
     },
     "execution_count": 21,
     "metadata": {},
     "output_type": "execute_result"
    }
   ],
   "source": [
    "n_estimators = int(study.best_trial.user_attrs['best_iteration']*1.2)\n",
    "xgb = xgboost.XGBClassifier(\n",
    "        eval_metric=eval_metric,\n",
    "        n_estimators=n_estimators,\n",
    "        **study.best_trial.params\n",
    "    )\n",
    "xgb.fit(\n",
    "    ssp.vstack((X_train, X_val)), \n",
    "    np.concatenate((y_train_enc, y_val_enc)),\n",
    "    verbose=1,\n",
    ")"
   ]
  },
  {
   "cell_type": "code",
   "execution_count": 22,
   "id": "4bac8f8b",
   "metadata": {
    "execution": {
     "iopub.execute_input": "2025-05-15T16:15:22.155652Z",
     "iopub.status.busy": "2025-05-15T16:15:22.155349Z",
     "iopub.status.idle": "2025-05-15T16:15:22.244345Z",
     "shell.execute_reply": "2025-05-15T16:15:22.243926Z"
    },
    "papermill": {
     "duration": 0.11506,
     "end_time": "2025-05-15T16:15:22.245477",
     "exception": false,
     "start_time": "2025-05-15T16:15:22.130417",
     "status": "completed"
    },
    "tags": []
   },
   "outputs": [
    {
     "data": {
      "text/plain": [
       "['/scratch_isilon/groups/singlecell/shared/projects/Inflammation-PBMCs-Atlas/03_downstream_analysis/08_gene_importance/xgboost_external_validation/xgboost_TopN_genes/results_20/best_model/B_2_1_xgb.json']"
      ]
     },
     "execution_count": 22,
     "metadata": {},
     "output_type": "execute_result"
    }
   ],
   "source": [
    "out_dir = here(f'03_downstream_analysis/08_gene_importance/xgboost_external_validation/xgboost_TopN_genes/results_{N_GENES}/best_model')\n",
    "\n",
    "if not os.path.exists(out_dir):\n",
    "    os.makedirs(out_dir)\n",
    "    \n",
    "joblib.dump(xgb, os.path.join(out_dir, f'{CELL_TYPE}_{SEED}_{TEST_SPLIT_IDX}_xgb.json'))"
   ]
  },
  {
   "cell_type": "code",
   "execution_count": 23,
   "id": "e02fa394",
   "metadata": {
    "execution": {
     "iopub.execute_input": "2025-05-15T16:15:22.265747Z",
     "iopub.status.busy": "2025-05-15T16:15:22.265364Z",
     "iopub.status.idle": "2025-05-15T16:15:22.818686Z",
     "shell.execute_reply": "2025-05-15T16:15:22.818216Z"
    },
    "papermill": {
     "duration": 0.564925,
     "end_time": "2025-05-15T16:15:22.820271",
     "exception": false,
     "start_time": "2025-05-15T16:15:22.255346",
     "status": "completed"
    },
    "tags": []
   },
   "outputs": [],
   "source": [
    "df_pred_test = pd.DataFrame(dict(\n",
    "    cell_id=train_adata.obs.iloc[test_idxs].index.values,\n",
    "    y_true=y_test, \n",
    "    y_true_code=y_test_enc, \n",
    "    y_pred=xgb.predict(X_test))).set_index('cell_id')"
   ]
  },
  {
   "cell_type": "code",
   "execution_count": 24,
   "id": "7a4d7c4f",
   "metadata": {
    "execution": {
     "iopub.execute_input": "2025-05-15T16:15:22.841786Z",
     "iopub.status.busy": "2025-05-15T16:15:22.841429Z",
     "iopub.status.idle": "2025-05-15T16:15:22.914664Z",
     "shell.execute_reply": "2025-05-15T16:15:22.914049Z"
    },
    "papermill": {
     "duration": 0.085557,
     "end_time": "2025-05-15T16:15:22.916159",
     "exception": false,
     "start_time": "2025-05-15T16:15:22.830602",
     "status": "completed"
    },
    "tags": []
   },
   "outputs": [],
   "source": [
    "out_dir = here(f'03_downstream_analysis/08_gene_importance/xgboost_external_validation/xgboost_TopN_genes/results_{N_GENES}/predictions')\n",
    "\n",
    "if not os.path.exists(out_dir):\n",
    "    os.makedirs(out_dir)\n",
    "    \n",
    "df_pred_test.to_csv(os.path.join(out_dir, f'{CELL_TYPE}_{SEED}_{TEST_SPLIT_IDX}_pred_test.zip'))"
   ]
  },
  {
   "cell_type": "code",
   "execution_count": 25,
   "id": "0a6f8105",
   "metadata": {
    "execution": {
     "iopub.execute_input": "2025-05-15T16:15:22.938460Z",
     "iopub.status.busy": "2025-05-15T16:15:22.938152Z",
     "iopub.status.idle": "2025-05-15T16:15:22.950124Z",
     "shell.execute_reply": "2025-05-15T16:15:22.949617Z"
    },
    "papermill": {
     "duration": 0.024243,
     "end_time": "2025-05-15T16:15:22.951241",
     "exception": false,
     "start_time": "2025-05-15T16:15:22.926998",
     "status": "completed"
    },
    "tags": []
   },
   "outputs": [],
   "source": [
    "metrics_dict = dict(\n",
    "    BAS=balanced_accuracy_score(y_true=df_pred_test.y_true_code, y_pred=df_pred_test.y_pred), WF1=f1_score(y_true=df_pred_test.y_true_code, y_pred=df_pred_test.y_pred,average='weighted'))"
   ]
  },
  {
   "cell_type": "code",
   "execution_count": 26,
   "id": "248910dd",
   "metadata": {
    "execution": {
     "iopub.execute_input": "2025-05-15T16:15:22.973153Z",
     "iopub.status.busy": "2025-05-15T16:15:22.972684Z",
     "iopub.status.idle": "2025-05-15T16:15:22.976415Z",
     "shell.execute_reply": "2025-05-15T16:15:22.976056Z"
    },
    "papermill": {
     "duration": 0.015498,
     "end_time": "2025-05-15T16:15:22.977357",
     "exception": false,
     "start_time": "2025-05-15T16:15:22.961859",
     "status": "completed"
    },
    "tags": []
   },
   "outputs": [
    {
     "data": {
      "text/plain": [
       "{'BAS': 0.5043953566944586, 'WF1': 0.7315033132472152}"
      ]
     },
     "execution_count": 26,
     "metadata": {},
     "output_type": "execute_result"
    }
   ],
   "source": [
    "metrics_dict"
   ]
  },
  {
   "cell_type": "code",
   "execution_count": 27,
   "id": "596467de",
   "metadata": {
    "execution": {
     "iopub.execute_input": "2025-05-15T16:15:23.007994Z",
     "iopub.status.busy": "2025-05-15T16:15:23.007750Z",
     "iopub.status.idle": "2025-05-15T16:15:23.018520Z",
     "shell.execute_reply": "2025-05-15T16:15:23.018073Z"
    },
    "papermill": {
     "duration": 0.022192,
     "end_time": "2025-05-15T16:15:23.019554",
     "exception": false,
     "start_time": "2025-05-15T16:15:22.997362",
     "status": "completed"
    },
    "tags": []
   },
   "outputs": [
    {
     "data": {
      "text/html": [
       "<div>\n",
       "<style scoped>\n",
       "    .dataframe tbody tr th:only-of-type {\n",
       "        vertical-align: middle;\n",
       "    }\n",
       "\n",
       "    .dataframe tbody tr th {\n",
       "        vertical-align: top;\n",
       "    }\n",
       "\n",
       "    .dataframe thead th {\n",
       "        text-align: right;\n",
       "    }\n",
       "</style>\n",
       "<table border=\"1\" class=\"dataframe\">\n",
       "  <thead>\n",
       "    <tr style=\"text-align: right;\">\n",
       "      <th></th>\n",
       "      <th>BAS</th>\n",
       "      <th>WF1</th>\n",
       "      <th>split_idx</th>\n",
       "      <th>gene_set_seed</th>\n",
       "      <th>cell_type</th>\n",
       "    </tr>\n",
       "  </thead>\n",
       "  <tbody>\n",
       "    <tr>\n",
       "      <th>0</th>\n",
       "      <td>0.504395</td>\n",
       "      <td>0.731503</td>\n",
       "      <td>1</td>\n",
       "      <td>2</td>\n",
       "      <td>B</td>\n",
       "    </tr>\n",
       "  </tbody>\n",
       "</table>\n",
       "</div>"
      ],
      "text/plain": [
       "        BAS       WF1  split_idx  gene_set_seed cell_type\n",
       "0  0.504395  0.731503          1              2         B"
      ]
     },
     "execution_count": 27,
     "metadata": {},
     "output_type": "execute_result"
    }
   ],
   "source": [
    "metrics_df = pd.DataFrame.from_dict([metrics_dict]).assign(split_idx=TEST_SPLIT_IDX, gene_set_seed=SEED, cell_type=CELL_TYPE)\n",
    "metrics_df"
   ]
  },
  {
   "cell_type": "code",
   "execution_count": 28,
   "id": "41e705e6",
   "metadata": {
    "execution": {
     "iopub.execute_input": "2025-05-15T16:15:23.048775Z",
     "iopub.status.busy": "2025-05-15T16:15:23.048404Z",
     "iopub.status.idle": "2025-05-15T16:15:23.061365Z",
     "shell.execute_reply": "2025-05-15T16:15:23.060841Z"
    },
    "papermill": {
     "duration": 0.032631,
     "end_time": "2025-05-15T16:15:23.062728",
     "exception": false,
     "start_time": "2025-05-15T16:15:23.030097",
     "status": "completed"
    },
    "tags": []
   },
   "outputs": [],
   "source": [
    "out_dir = here(f'03_downstream_analysis/08_gene_importance/xgboost_external_validation/xgboost_TopN_genes/results_{N_GENES}/metrics')\n",
    "\n",
    "if not os.path.exists(out_dir):\n",
    "    os.makedirs(out_dir)\n",
    "    \n",
    "metrics_df.to_csv(os.path.join(out_dir, f'{CELL_TYPE}_{SEED}_{TEST_SPLIT_IDX}_metrics.zip'))"
   ]
  }
 ],
 "metadata": {
  "kernelspec": {
   "display_name": "Python 3 (ipykernel)",
   "language": "python",
   "name": "python3"
  },
  "language_info": {
   "codemirror_mode": {
    "name": "ipython",
    "version": 3
   },
   "file_extension": ".py",
   "mimetype": "text/x-python",
   "name": "python",
   "nbconvert_exporter": "python",
   "pygments_lexer": "ipython3",
   "version": "3.12.5"
  },
  "papermill": {
   "default_parameters": {},
   "duration": 401.862773,
   "end_time": "2025-05-15T16:15:23.929525",
   "environment_variables": {},
   "exception": null,
   "input_path": "02_xgboost_fitting_external_20genes.ipynb",
   "output_path": "results_20/executed_notebooks/xgboost_fitting_external_CT_B_GS_2_seed1.ipynb",
   "parameters": {
    "CELL_TYPE": "B",
    "SEED": 2,
    "TEST_SPLIT_IDX": 1
   },
   "start_time": "2025-05-15T16:08:42.066752",
   "version": "2.6.0"
  }
 },
 "nbformat": 4,
 "nbformat_minor": 5
}