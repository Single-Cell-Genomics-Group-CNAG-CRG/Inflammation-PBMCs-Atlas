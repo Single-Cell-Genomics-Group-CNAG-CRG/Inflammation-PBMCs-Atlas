{
 "cells": [
  {
   "cell_type": "code",
   "execution_count": 1,
   "id": "fcdfc9fb",
   "metadata": {
    "editable": true,
    "execution": {
     "iopub.execute_input": "2025-05-14T16:10:11.108011Z",
     "iopub.status.busy": "2025-05-14T16:10:11.107873Z",
     "iopub.status.idle": "2025-05-14T16:10:11.110534Z",
     "shell.execute_reply": "2025-05-14T16:10:11.110188Z"
    },
    "papermill": {
     "duration": 0.034262,
     "end_time": "2025-05-14T16:10:11.111457",
     "exception": false,
     "start_time": "2025-05-14T16:10:11.077195",
     "status": "completed"
    },
    "slideshow": {
     "slide_type": ""
    },
    "tags": [
     "parameters"
    ]
   },
   "outputs": [],
   "source": [
    "CELL_TYPE = 'pDC'\n",
    "N_GENES: int = 20\n",
    "SEED = 'shap_studyID' #'disease_NOstudy' 'study_NOdisease' or 'int' or 'shap_studyID'\n",
    "TEST_SPLIT_IDX: int = 1 #[0,4]"
   ]
  },
  {
   "cell_type": "code",
   "execution_count": 2,
   "id": "f74d6825",
   "metadata": {
    "execution": {
     "iopub.execute_input": "2025-05-14T16:10:11.126629Z",
     "iopub.status.busy": "2025-05-14T16:10:11.126225Z",
     "iopub.status.idle": "2025-05-14T16:10:11.128471Z",
     "shell.execute_reply": "2025-05-14T16:10:11.128154Z"
    },
    "papermill": {
     "duration": 0.01208,
     "end_time": "2025-05-14T16:10:11.129332",
     "exception": false,
     "start_time": "2025-05-14T16:10:11.117252",
     "status": "completed"
    },
    "tags": [
     "injected-parameters"
    ]
   },
   "outputs": [],
   "source": [
    "# Parameters\n",
    "CELL_TYPE = \"Plasma\"\n",
    "SEED = \"shap_disease_NOstudy\"\n",
    "TEST_SPLIT_IDX = 0\n"
   ]
  },
  {
   "cell_type": "code",
   "execution_count": 3,
   "id": "56374340",
   "metadata": {
    "execution": {
     "iopub.execute_input": "2025-05-14T16:10:11.165806Z",
     "iopub.status.busy": "2025-05-14T16:10:11.165576Z",
     "iopub.status.idle": "2025-05-14T16:10:11.167913Z",
     "shell.execute_reply": "2025-05-14T16:10:11.167545Z"
    },
    "papermill": {
     "duration": 0.033969,
     "end_time": "2025-05-14T16:10:11.168714",
     "exception": false,
     "start_time": "2025-05-14T16:10:11.134745",
     "status": "completed"
    },
    "tags": []
   },
   "outputs": [],
   "source": [
    "N_SPLITS: int = 5\n",
    "N_TRIALS: int = 50"
   ]
  },
  {
   "cell_type": "code",
   "execution_count": 4,
   "id": "aa6db7df",
   "metadata": {
    "execution": {
     "iopub.execute_input": "2025-05-14T16:10:11.192006Z",
     "iopub.status.busy": "2025-05-14T16:10:11.191710Z",
     "iopub.status.idle": "2025-05-14T16:10:13.017304Z",
     "shell.execute_reply": "2025-05-14T16:10:13.016860Z"
    },
    "papermill": {
     "duration": 1.836115,
     "end_time": "2025-05-14T16:10:13.018714",
     "exception": false,
     "start_time": "2025-05-14T16:10:11.182599",
     "status": "completed"
    },
    "tags": []
   },
   "outputs": [],
   "source": [
    "import os\n",
    "import sys\n",
    "from pyprojroot.here import here\n",
    "import pandas as pd\n",
    "import anndata as ad\n",
    "import numpy as np\n",
    "import math\n",
    "from sklearn.model_selection import StratifiedGroupKFold\n",
    "from sklearn.preprocessing import LabelEncoder\n",
    "from sklearn.metrics import f1_score\n",
    "import matplotlib.pyplot as plt\n",
    "import seaborn as sns\n",
    "from itertools import product\n",
    "from sklearn.metrics import balanced_accuracy_score, f1_score\n",
    "import optuna\n",
    "\n",
    "import joblib\n",
    "import pickle\n",
    "import datetime\n",
    "\n",
    "import collections\n",
    "\n",
    "import xgboost\n",
    "from sklearn.preprocessing import LabelEncoder\n",
    "\n",
    "import scipy.sparse as ssp\n",
    "import joblib\n",
    "\n",
    "from dotenv import load_dotenv"
   ]
  },
  {
   "cell_type": "code",
   "execution_count": 5,
   "id": "8ea4acdc",
   "metadata": {
    "execution": {
     "iopub.execute_input": "2025-05-14T16:10:13.040110Z",
     "iopub.status.busy": "2025-05-14T16:10:13.039767Z",
     "iopub.status.idle": "2025-05-14T16:10:13.045234Z",
     "shell.execute_reply": "2025-05-14T16:10:13.044909Z"
    },
    "papermill": {
     "duration": 0.013596,
     "end_time": "2025-05-14T16:10:13.046027",
     "exception": false,
     "start_time": "2025-05-14T16:10:13.032431",
     "status": "completed"
    },
    "tags": []
   },
   "outputs": [
    {
     "data": {
      "text/plain": [
       "True"
      ]
     },
     "execution_count": 5,
     "metadata": {},
     "output_type": "execute_result"
    }
   ],
   "source": [
    "load_dotenv()"
   ]
  },
  {
   "cell_type": "markdown",
   "id": "d2453d1a",
   "metadata": {
    "papermill": {
     "duration": 0.018062,
     "end_time": "2025-05-14T16:10:13.089425",
     "exception": false,
     "start_time": "2025-05-14T16:10:13.071363",
     "status": "completed"
    },
    "tags": []
   },
   "source": [
    "# LOAD DATASET"
   ]
  },
  {
   "cell_type": "code",
   "execution_count": 6,
   "id": "a61c8de1",
   "metadata": {
    "execution": {
     "iopub.execute_input": "2025-05-14T16:10:13.102541Z",
     "iopub.status.busy": "2025-05-14T16:10:13.102153Z",
     "iopub.status.idle": "2025-05-14T16:10:13.192589Z",
     "shell.execute_reply": "2025-05-14T16:10:13.192181Z"
    },
    "papermill": {
     "duration": 0.098167,
     "end_time": "2025-05-14T16:10:13.194096",
     "exception": false,
     "start_time": "2025-05-14T16:10:13.095929",
     "status": "completed"
    },
    "tags": []
   },
   "outputs": [],
   "source": [
    "train_adata = ad.read_h5ad(\n",
    "    here(f'03_downstream_analysis/08_gene_importance/xgboost_external_validation/xgboost_TopN_genes/data_cellTypes/EXTERNAL_{CELL_TYPE}.filtered.log1p.h5ad')\n",
    ")"
   ]
  },
  {
   "cell_type": "code",
   "execution_count": 7,
   "id": "ac9318e0",
   "metadata": {
    "execution": {
     "iopub.execute_input": "2025-05-14T16:10:13.214265Z",
     "iopub.status.busy": "2025-05-14T16:10:13.214075Z",
     "iopub.status.idle": "2025-05-14T16:10:13.224126Z",
     "shell.execute_reply": "2025-05-14T16:10:13.223762Z"
    },
    "papermill": {
     "duration": 0.016873,
     "end_time": "2025-05-14T16:10:13.224903",
     "exception": false,
     "start_time": "2025-05-14T16:10:13.208030",
     "status": "completed"
    },
    "tags": []
   },
   "outputs": [
    {
     "name": "stdout",
     "output_type": "stream",
     "text": [
      "['ENSG00000001167' 'ENSG00000002549' 'ENSG00000002586' 'ENSG00000004468'\n",
      " 'ENSG00000005339' 'ENSG00000008517' 'ENSG00000011422' 'ENSG00000011600'\n",
      " 'ENSG00000015475' 'ENSG00000019582' 'ENSG00000026103' 'ENSG00000038427'\n",
      " 'ENSG00000051108' 'ENSG00000068796' 'ENSG00000069399' 'ENSG00000075426'\n",
      " 'ENSG00000076662' 'ENSG00000077380' 'ENSG00000081059' 'ENSG00000100097'\n",
      " 'ENSG00000100280' 'ENSG00000100368' 'ENSG00000100385' 'ENSG00000100453'\n",
      " 'ENSG00000100664' 'ENSG00000100906' 'ENSG00000101350' 'ENSG00000101439'\n",
      " 'ENSG00000102524' 'ENSG00000103522' 'ENSG00000104870' 'ENSG00000105373'\n",
      " 'ENSG00000105851' 'ENSG00000107968' 'ENSG00000108622' 'ENSG00000109321'\n",
      " 'ENSG00000110057' 'ENSG00000111331' 'ENSG00000112137' 'ENSG00000114013'\n",
      " 'ENSG00000115267' 'ENSG00000118503' 'ENSG00000118515' 'ENSG00000119535'\n",
      " 'ENSG00000120738' 'ENSG00000120742' 'ENSG00000121774' 'ENSG00000124762'\n",
      " 'ENSG00000125148' 'ENSG00000126267' 'ENSG00000126353' 'ENSG00000127152'\n",
      " 'ENSG00000130522' 'ENSG00000130830' 'ENSG00000132002' 'ENSG00000132432'\n",
      " 'ENSG00000132465' 'ENSG00000134107' 'ENSG00000134470' 'ENSG00000135404'\n",
      " 'ENSG00000135916' 'ENSG00000136514' 'ENSG00000136732' 'ENSG00000137965'\n",
      " 'ENSG00000139318' 'ENSG00000139514' 'ENSG00000141367' 'ENSG00000141526'\n",
      " 'ENSG00000142208' 'ENSG00000142634' 'ENSG00000143119' 'ENSG00000143774'\n",
      " 'ENSG00000143933' 'ENSG00000144802' 'ENSG00000145220' 'ENSG00000145675'\n",
      " 'ENSG00000150093' 'ENSG00000152495' 'ENSG00000157514' 'ENSG00000157601'\n",
      " 'ENSG00000158517' 'ENSG00000158769' 'ENSG00000159128' 'ENSG00000162772'\n",
      " 'ENSG00000163513' 'ENSG00000163659' 'ENSG00000163660' 'ENSG00000164136'\n",
      " 'ENSG00000164543' 'ENSG00000165527' 'ENSG00000167552' 'ENSG00000168610'\n",
      " 'ENSG00000169442' 'ENSG00000170017' 'ENSG00000170476' 'ENSG00000170540'\n",
      " 'ENSG00000170581' 'ENSG00000170989' 'ENSG00000171608' 'ENSG00000172005'\n",
      " 'ENSG00000175482' 'ENSG00000176533' 'ENSG00000177606' 'ENSG00000179094'\n",
      " 'ENSG00000179218' 'ENSG00000179295' 'ENSG00000179344' 'ENSG00000180008'\n",
      " 'ENSG00000181029' 'ENSG00000182985' 'ENSG00000183508' 'ENSG00000184451'\n",
      " 'ENSG00000184557' 'ENSG00000184897' 'ENSG00000185338' 'ENSG00000186810'\n",
      " 'ENSG00000187608' 'ENSG00000189067' 'ENSG00000189283' 'ENSG00000196126'\n",
      " 'ENSG00000197061' 'ENSG00000198355' 'ENSG00000198502' 'ENSG00000204257'\n",
      " 'ENSG00000204287' 'ENSG00000205220' 'ENSG00000211893' 'ENSG00000211896'\n",
      " 'ENSG00000211897' 'ENSG00000213145' 'ENSG00000213928' 'ENSG00000216490'\n",
      " 'ENSG00000229474' 'ENSG00000234745' 'ENSG00000277443' 'ENSG00000277632']\n"
     ]
    }
   ],
   "source": [
    "if SEED != 'all':\n",
    "    gene_subset = np.load(here(f'03_downstream_analysis/08_gene_importance/xgboost_external_validation/shap_gene_selection/gene_subsets_{N_GENES}/{CELL_TYPE}_{SEED}.npy'), allow_pickle=True)\n",
    "    train_adata = train_adata[:,gene_subset]\n",
    "    print(gene_subset)\n",
    "elif SEED == 'all':\n",
    "    print('Using all genes')\n",
    "else:\n",
    "    raise ValueError()"
   ]
  },
  {
   "cell_type": "code",
   "execution_count": 8,
   "id": "3341f0ff",
   "metadata": {
    "execution": {
     "iopub.execute_input": "2025-05-14T16:10:13.237490Z",
     "iopub.status.busy": "2025-05-14T16:10:13.237268Z",
     "iopub.status.idle": "2025-05-14T16:10:13.240056Z",
     "shell.execute_reply": "2025-05-14T16:10:13.239776Z"
    },
    "papermill": {
     "duration": 0.009747,
     "end_time": "2025-05-14T16:10:13.240804",
     "exception": false,
     "start_time": "2025-05-14T16:10:13.231057",
     "status": "completed"
    },
    "tags": []
   },
   "outputs": [
    {
     "data": {
      "text/plain": [
       "(542, 136)"
      ]
     },
     "execution_count": 8,
     "metadata": {},
     "output_type": "execute_result"
    }
   ],
   "source": [
    "train_adata.shape"
   ]
  },
  {
   "cell_type": "code",
   "execution_count": 9,
   "id": "f318d221",
   "metadata": {
    "execution": {
     "iopub.execute_input": "2025-05-14T16:10:13.257237Z",
     "iopub.status.busy": "2025-05-14T16:10:13.257051Z",
     "iopub.status.idle": "2025-05-14T16:10:13.260466Z",
     "shell.execute_reply": "2025-05-14T16:10:13.260139Z"
    },
    "papermill": {
     "duration": 0.011056,
     "end_time": "2025-05-14T16:10:13.261231",
     "exception": false,
     "start_time": "2025-05-14T16:10:13.250175",
     "status": "completed"
    },
    "tags": []
   },
   "outputs": [
    {
     "data": {
      "text/plain": [
       "['RA', 'COVID', 'healthy', 'HIV', 'cirrhosis', 'CD', 'SLE', 'sepsis']\n",
       "Categories (8, object): ['CD', 'COVID', 'HIV', 'RA', 'SLE', 'cirrhosis', 'healthy', 'sepsis']"
      ]
     },
     "execution_count": 9,
     "metadata": {},
     "output_type": "execute_result"
    }
   ],
   "source": [
    "train_adata.obs.disease.unique()"
   ]
  },
  {
   "cell_type": "code",
   "execution_count": 10,
   "id": "be3613d4",
   "metadata": {
    "execution": {
     "iopub.execute_input": "2025-05-14T16:10:13.279437Z",
     "iopub.status.busy": "2025-05-14T16:10:13.279111Z",
     "iopub.status.idle": "2025-05-14T16:10:13.282924Z",
     "shell.execute_reply": "2025-05-14T16:10:13.282628Z"
    },
    "papermill": {
     "duration": 0.017058,
     "end_time": "2025-05-14T16:10:13.283687",
     "exception": false,
     "start_time": "2025-05-14T16:10:13.266629",
     "status": "completed"
    },
    "tags": []
   },
   "outputs": [
    {
     "data": {
      "text/plain": [
       "['SCGT00val_I0364_T0', 'SCGT00val_I036019_T0', 'SCGT00val_I036028_T0', 'SCGT00val_I036024_T0', 'SCGT00val_I036016_T0', ..., '10XGenomics_10XHC2_T0', '10XGenomics_10XHC3_T0', '10XGenomics_10XHC5_T0', '10XGenomics_10XHC7_T0', '10XGenomics_10XHC8_T0']\n",
       "Length: 74\n",
       "Categories (74, object): ['10XGenomics_10XHC1_T0', '10XGenomics_10XHC2_T0', '10XGenomics_10XHC3_T0', '10XGenomics_10XHC4_T0', ..., 'Savage2021_BRISL6_T0', 'Savage2021_BRISL7_T0', 'Savage2021_PIDA_T0', 'Savage2021_PIDB_T0']"
      ]
     },
     "execution_count": 10,
     "metadata": {},
     "output_type": "execute_result"
    }
   ],
   "source": [
    "train_adata.obs.sampleID.unique()"
   ]
  },
  {
   "cell_type": "code",
   "execution_count": 11,
   "id": "de10f70a",
   "metadata": {
    "execution": {
     "iopub.execute_input": "2025-05-14T16:10:13.304769Z",
     "iopub.status.busy": "2025-05-14T16:10:13.304539Z",
     "iopub.status.idle": "2025-05-14T16:10:13.332234Z",
     "shell.execute_reply": "2025-05-14T16:10:13.331906Z"
    },
    "papermill": {
     "duration": 0.044052,
     "end_time": "2025-05-14T16:10:13.333313",
     "exception": false,
     "start_time": "2025-05-14T16:10:13.289261",
     "status": "completed"
    },
    "tags": []
   },
   "outputs": [],
   "source": [
    "all_idxs = np.arange(train_adata.obs.shape[0])\n",
    "left_out_splits = [s[1] for s in StratifiedGroupKFold(n_splits=N_SPLITS).split(all_idxs, train_adata.obs.disease, train_adata.obs.sampleID)]"
   ]
  },
  {
   "cell_type": "code",
   "execution_count": 12,
   "id": "c1ead23f",
   "metadata": {
    "execution": {
     "iopub.execute_input": "2025-05-14T16:10:13.346306Z",
     "iopub.status.busy": "2025-05-14T16:10:13.346067Z",
     "iopub.status.idle": "2025-05-14T16:10:13.349165Z",
     "shell.execute_reply": "2025-05-14T16:10:13.348869Z"
    },
    "papermill": {
     "duration": 0.010111,
     "end_time": "2025-05-14T16:10:13.349898",
     "exception": false,
     "start_time": "2025-05-14T16:10:13.339787",
     "status": "completed"
    },
    "tags": []
   },
   "outputs": [
    {
     "data": {
      "text/plain": [
       "([2, 3, 4], 1, 0)"
      ]
     },
     "execution_count": 12,
     "metadata": {},
     "output_type": "execute_result"
    }
   ],
   "source": [
    "TRAIN_SPLIT_IDXS = [0,1,2,3,4]\n",
    "VAL_SPLIT_IDX = (TEST_SPLIT_IDX + 1) % 5\n",
    "TRAIN_SPLIT_IDXS.remove(TEST_SPLIT_IDX)\n",
    "TRAIN_SPLIT_IDXS.remove(VAL_SPLIT_IDX)\n",
    "TRAIN_SPLIT_IDXS, VAL_SPLIT_IDX, TEST_SPLIT_IDX"
   ]
  },
  {
   "cell_type": "code",
   "execution_count": 13,
   "id": "db3730ef",
   "metadata": {
    "execution": {
     "iopub.execute_input": "2025-05-14T16:10:13.363437Z",
     "iopub.status.busy": "2025-05-14T16:10:13.363263Z",
     "iopub.status.idle": "2025-05-14T16:10:13.365527Z",
     "shell.execute_reply": "2025-05-14T16:10:13.365212Z"
    },
    "papermill": {
     "duration": 0.009571,
     "end_time": "2025-05-14T16:10:13.366332",
     "exception": false,
     "start_time": "2025-05-14T16:10:13.356761",
     "status": "completed"
    },
    "tags": []
   },
   "outputs": [],
   "source": [
    "train_idxs = np.concatenate([left_out_splits[idx] for idx in TRAIN_SPLIT_IDXS])\n",
    "val_idxs = left_out_splits[VAL_SPLIT_IDX]\n",
    "test_idxs = left_out_splits[TEST_SPLIT_IDX]"
   ]
  },
  {
   "cell_type": "markdown",
   "id": "a12531fa",
   "metadata": {
    "papermill": {
     "duration": 0.005681,
     "end_time": "2025-05-14T16:10:13.377760",
     "exception": false,
     "start_time": "2025-05-14T16:10:13.372079",
     "status": "completed"
    },
    "tags": []
   },
   "source": [
    "### SUBSET DATASET INTO TRAIN/TEST/VAL SPLITS"
   ]
  },
  {
   "cell_type": "code",
   "execution_count": 14,
   "id": "078431ac",
   "metadata": {
    "execution": {
     "iopub.execute_input": "2025-05-14T16:10:13.393610Z",
     "iopub.status.busy": "2025-05-14T16:10:13.393414Z",
     "iopub.status.idle": "2025-05-14T16:10:13.399084Z",
     "shell.execute_reply": "2025-05-14T16:10:13.398781Z"
    },
    "papermill": {
     "duration": 0.016188,
     "end_time": "2025-05-14T16:10:13.399843",
     "exception": false,
     "start_time": "2025-05-14T16:10:13.383655",
     "status": "completed"
    },
    "tags": []
   },
   "outputs": [
    {
     "data": {
      "text/plain": [
       "((317, 136), (118, 136), (107, 136))"
      ]
     },
     "execution_count": 14,
     "metadata": {},
     "output_type": "execute_result"
    }
   ],
   "source": [
    "X_train = train_adata.X[train_idxs]\n",
    "X_test = train_adata.X[test_idxs]\n",
    "X_val = train_adata.X[val_idxs]\n",
    "X_train.shape, X_test.shape, X_val.shape"
   ]
  },
  {
   "cell_type": "code",
   "execution_count": 15,
   "id": "6eedccf5",
   "metadata": {
    "execution": {
     "iopub.execute_input": "2025-05-14T16:10:13.422587Z",
     "iopub.status.busy": "2025-05-14T16:10:13.422359Z",
     "iopub.status.idle": "2025-05-14T16:10:13.426705Z",
     "shell.execute_reply": "2025-05-14T16:10:13.426418Z"
    },
    "papermill": {
     "duration": 0.021492,
     "end_time": "2025-05-14T16:10:13.427516",
     "exception": false,
     "start_time": "2025-05-14T16:10:13.406024",
     "status": "completed"
    },
    "tags": []
   },
   "outputs": [
    {
     "data": {
      "text/plain": [
       "((317,), (118,), (107,))"
      ]
     },
     "execution_count": 15,
     "metadata": {},
     "output_type": "execute_result"
    }
   ],
   "source": [
    "y_train = train_adata.obs.iloc[train_idxs].disease.values.astype(str)\n",
    "y_test = train_adata.obs.iloc[test_idxs].disease.values.astype(str)\n",
    "y_val = train_adata.obs.iloc[val_idxs].disease.values.astype(str)\n",
    "y_train.shape, y_test.shape, y_val.shape"
   ]
  },
  {
   "cell_type": "code",
   "execution_count": 16,
   "id": "d1d38ade",
   "metadata": {
    "execution": {
     "iopub.execute_input": "2025-05-14T16:10:13.443588Z",
     "iopub.status.busy": "2025-05-14T16:10:13.443354Z",
     "iopub.status.idle": "2025-05-14T16:10:13.445901Z",
     "shell.execute_reply": "2025-05-14T16:10:13.445600Z"
    },
    "papermill": {
     "duration": 0.009928,
     "end_time": "2025-05-14T16:10:13.446678",
     "exception": false,
     "start_time": "2025-05-14T16:10:13.436750",
     "status": "completed"
    },
    "tags": []
   },
   "outputs": [],
   "source": [
    "lenc = LabelEncoder()\n",
    "y_train_enc = lenc.fit_transform(y_train)\n",
    "y_val_enc = lenc.transform(y_val)\n",
    "y_test_enc = lenc.transform(y_test)"
   ]
  },
  {
   "cell_type": "markdown",
   "id": "ac5d57d6",
   "metadata": {
    "papermill": {
     "duration": 0.005699,
     "end_time": "2025-05-14T16:10:13.458516",
     "exception": false,
     "start_time": "2025-05-14T16:10:13.452817",
     "status": "completed"
    },
    "tags": []
   },
   "source": [
    "### GENERATE F1 "
   ]
  },
  {
   "cell_type": "code",
   "execution_count": 17,
   "id": "e707e063",
   "metadata": {
    "execution": {
     "iopub.execute_input": "2025-05-14T16:10:13.470258Z",
     "iopub.status.busy": "2025-05-14T16:10:13.470032Z",
     "iopub.status.idle": "2025-05-14T16:10:13.472390Z",
     "shell.execute_reply": "2025-05-14T16:10:13.472072Z"
    },
    "papermill": {
     "duration": 0.008916,
     "end_time": "2025-05-14T16:10:13.473111",
     "exception": false,
     "start_time": "2025-05-14T16:10:13.464195",
     "status": "completed"
    },
    "tags": []
   },
   "outputs": [],
   "source": [
    "def custom_f1_score(y_true, y_pred):\n",
    "    return -f1_score(y_true, y_pred.argmax(1), average='weighted')"
   ]
  },
  {
   "cell_type": "code",
   "execution_count": 18,
   "id": "727ef435",
   "metadata": {
    "execution": {
     "iopub.execute_input": "2025-05-14T16:10:13.486355Z",
     "iopub.status.busy": "2025-05-14T16:10:13.486187Z",
     "iopub.status.idle": "2025-05-14T16:10:13.489689Z",
     "shell.execute_reply": "2025-05-14T16:10:13.489388Z"
    },
    "papermill": {
     "duration": 0.011359,
     "end_time": "2025-05-14T16:10:13.490460",
     "exception": false,
     "start_time": "2025-05-14T16:10:13.479101",
     "status": "completed"
    },
    "tags": []
   },
   "outputs": [],
   "source": [
    "eval_metric=custom_f1_score\n",
    "eval_metric_name='custom_f1_score'\n",
    "\n",
    "def objective(trial):\n",
    "    params = {\n",
    "        'n_estimators': 1500,\n",
    "        'max_depth': trial.suggest_int('max_depth', 3, 20),\n",
    "        'min_child_weight': trial.suggest_int('min_child_weight', 1, 250),\n",
    "        'subsample': trial.suggest_float('subsample', 0.1, 1.0),\n",
    "        'colsample_bynode': trial.suggest_float('colsample_bynode', 0.1, 1.0),\n",
    "        'learning_rate': trial.suggest_float('learning_rate', 1e-3, 5e-1, log=True),\n",
    "    }\n",
    "    pruning_callback = optuna.integration.XGBoostPruningCallback(trial, f'validation_0-{eval_metric_name}')\n",
    "    es_callback = xgboost.callback.EarlyStopping(20, min_delta=0.001)\n",
    "    xgb = xgboost.XGBClassifier(\n",
    "        eval_metric=eval_metric,\n",
    "        callbacks=[pruning_callback, es_callback],\n",
    "        n_jobs=5,\n",
    "        **params\n",
    "    )\n",
    "    xgb.fit(\n",
    "        X_train, \n",
    "        y_train_enc, \n",
    "        verbose=0,\n",
    "        eval_set=[(X_val, y_val_enc)],\n",
    "    )\n",
    "    trial.set_user_attr('best_iteration', xgb.best_iteration)\n",
    "\n",
    "    return xgb.best_score"
   ]
  },
  {
   "cell_type": "code",
   "execution_count": 19,
   "id": "4005c63d",
   "metadata": {
    "execution": {
     "iopub.execute_input": "2025-05-14T16:10:13.507142Z",
     "iopub.status.busy": "2025-05-14T16:10:13.506929Z",
     "iopub.status.idle": "2025-05-14T16:10:23.979363Z",
     "shell.execute_reply": "2025-05-14T16:10:23.978902Z"
    },
    "papermill": {
     "duration": 10.480434,
     "end_time": "2025-05-14T16:10:23.980349",
     "exception": false,
     "start_time": "2025-05-14T16:10:13.499915",
     "status": "completed"
    },
    "scrolled": true,
    "tags": []
   },
   "outputs": [
    {
     "name": "stderr",
     "output_type": "stream",
     "text": [
      "[I 2025-05-14 18:10:13,508] A new study created in memory with name: no-name-ad8a9db9-fa73-4598-88ea-a68dc32ea249\n"
     ]
    },
    {
     "name": "stderr",
     "output_type": "stream",
     "text": [
      "[I 2025-05-14 18:10:13,570] Trial 0 finished with value: -0.019167 and parameters: {'max_depth': 9, 'min_child_weight': 238, 'subsample': 0.7587945476302645, 'colsample_bynode': 0.6387926357773329, 'learning_rate': 0.0026368755339723046}. Best is trial 0 with value: -0.019167.\n"
     ]
    },
    {
     "name": "stderr",
     "output_type": "stream",
     "text": [
      "[I 2025-05-14 18:10:13,827] Trial 1 finished with value: -0.470836 and parameters: {'max_depth': 5, 'min_child_weight': 15, 'subsample': 0.8795585311974417, 'colsample_bynode': 0.6410035105688879, 'learning_rate': 0.08148293210105287}. Best is trial 1 with value: -0.470836.\n"
     ]
    },
    {
     "name": "stderr",
     "output_type": "stream",
     "text": [
      "[I 2025-05-14 18:10:13,952] Trial 2 finished with value: -0.019167 and parameters: {'max_depth': 3, 'min_child_weight': 243, 'subsample': 0.8491983767203796, 'colsample_bynode': 0.29110519961044856, 'learning_rate': 0.003095566460242371}. Best is trial 1 with value: -0.470836.\n"
     ]
    },
    {
     "name": "stderr",
     "output_type": "stream",
     "text": [
      "[I 2025-05-14 18:10:14,078] Trial 3 finished with value: -0.019167 and parameters: {'max_depth': 6, 'min_child_weight': 77, 'subsample': 0.5722807884690141, 'colsample_bynode': 0.48875051677790415, 'learning_rate': 0.006109683510122491}. Best is trial 1 with value: -0.470836.\n"
     ]
    },
    {
     "name": "stderr",
     "output_type": "stream",
     "text": [
      "[I 2025-05-14 18:10:14,203] Trial 4 finished with value: -0.019167 and parameters: {'max_depth': 14, 'min_child_weight': 35, 'subsample': 0.3629301836816964, 'colsample_bynode': 0.4297256589643226, 'learning_rate': 0.01701841881702917}. Best is trial 1 with value: -0.470836.\n"
     ]
    },
    {
     "name": "stderr",
     "output_type": "stream",
     "text": [
      "[I 2025-05-14 18:10:14,334] Trial 5 finished with value: -0.019167 and parameters: {'max_depth': 17, 'min_child_weight': 50, 'subsample': 0.5628109945722505, 'colsample_bynode': 0.6331731119758383, 'learning_rate': 0.0013346527038305934}. Best is trial 1 with value: -0.470836.\n"
     ]
    },
    {
     "name": "stderr",
     "output_type": "stream",
     "text": [
      "[I 2025-05-14 18:10:14,467] Trial 6 finished with value: -0.019167 and parameters: {'max_depth': 13, 'min_child_weight': 43, 'subsample': 0.1585464336867516, 'colsample_bynode': 0.9539969835279999, 'learning_rate': 0.4038423798071558}. Best is trial 1 with value: -0.470836.\n"
     ]
    },
    {
     "name": "stderr",
     "output_type": "stream",
     "text": [
      "[I 2025-05-14 18:10:14,599] Trial 7 finished with value: -0.019167 and parameters: {'max_depth': 17, 'min_child_weight': 77, 'subsample': 0.1879049026057455, 'colsample_bynode': 0.7158097238609412, 'learning_rate': 0.015415527060141935}. Best is trial 1 with value: -0.470836.\n"
     ]
    },
    {
     "name": "stderr",
     "output_type": "stream",
     "text": [
      "[I 2025-05-14 18:10:14,735] Trial 8 finished with value: -0.019167 and parameters: {'max_depth': 5, 'min_child_weight': 124, 'subsample': 0.13094966900369656, 'colsample_bynode': 0.9183883618709039, 'learning_rate': 0.004993895014755658}. Best is trial 1 with value: -0.470836.\n"
     ]
    },
    {
     "name": "stderr",
     "output_type": "stream",
     "text": [
      "[I 2025-05-14 18:10:14,864] Trial 9 finished with value: -0.019167 and parameters: {'max_depth': 14, 'min_child_weight': 78, 'subsample': 0.5680612190600297, 'colsample_bynode': 0.5920392514089517, 'learning_rate': 0.0031543990308330965}. Best is trial 1 with value: -0.470836.\n"
     ]
    },
    {
     "name": "stderr",
     "output_type": "stream",
     "text": [
      "[I 2025-05-14 18:10:15,328] Trial 10 finished with value: -0.53112 and parameters: {'max_depth': 9, 'min_child_weight': 2, 'subsample': 0.9725833997090791, 'colsample_bynode': 0.11616568805333755, 'learning_rate': 0.17780618353487967}. Best is trial 10 with value: -0.53112.\n"
     ]
    },
    {
     "name": "stderr",
     "output_type": "stream",
     "text": [
      "[I 2025-05-14 18:10:15,794] Trial 11 finished with value: -0.557422 and parameters: {'max_depth': 9, 'min_child_weight': 4, 'subsample': 0.9818290990185045, 'colsample_bynode': 0.17702656156719, 'learning_rate': 0.11568531411766632}. Best is trial 11 with value: -0.557422.\n"
     ]
    },
    {
     "name": "stderr",
     "output_type": "stream",
     "text": [
      "[I 2025-05-14 18:10:16,183] Trial 12 finished with value: -0.563419 and parameters: {'max_depth': 9, 'min_child_weight': 2, 'subsample': 0.9762317723681219, 'colsample_bynode': 0.1303670507685675, 'learning_rate': 0.14353293664472047}. Best is trial 12 with value: -0.563419.\n"
     ]
    },
    {
     "name": "stderr",
     "output_type": "stream",
     "text": [
      "[I 2025-05-14 18:10:16,325] Trial 13 finished with value: -0.019167 and parameters: {'max_depth': 10, 'min_child_weight': 173, 'subsample': 0.9983199992874873, 'colsample_bynode': 0.10704152171942566, 'learning_rate': 0.05919442728092993}. Best is trial 12 with value: -0.563419.\n"
     ]
    },
    {
     "name": "stderr",
     "output_type": "stream",
     "text": [
      "[I 2025-05-14 18:10:16,501] Trial 14 finished with value: -0.019167 and parameters: {'max_depth': 7, 'min_child_weight': 127, 'subsample': 0.7205729667945842, 'colsample_bynode': 0.2618040655423697, 'learning_rate': 0.049429871639666105}. Best is trial 12 with value: -0.563419.\n"
     ]
    },
    {
     "name": "stderr",
     "output_type": "stream",
     "text": [
      "[I 2025-05-14 18:10:16,882] Trial 15 finished with value: -0.567719 and parameters: {'max_depth': 20, 'min_child_weight': 1, 'subsample': 0.7300199336663715, 'colsample_bynode': 0.2687793682900305, 'learning_rate': 0.46839194821741}. Best is trial 15 with value: -0.567719.\n"
     ]
    },
    {
     "name": "stderr",
     "output_type": "stream",
     "text": [
      "[I 2025-05-14 18:10:17,052] Trial 16 finished with value: -0.019167 and parameters: {'max_depth': 20, 'min_child_weight': 116, 'subsample': 0.6730263351162008, 'colsample_bynode': 0.3435683215737632, 'learning_rate': 0.49216618465218137}. Best is trial 15 with value: -0.567719.\n"
     ]
    },
    {
     "name": "stderr",
     "output_type": "stream",
     "text": [
      "[I 2025-05-14 18:10:17,215] Trial 17 finished with value: -0.019167 and parameters: {'max_depth': 20, 'min_child_weight': 183, 'subsample': 0.37310167079970213, 'colsample_bynode': 0.22493155379732882, 'learning_rate': 0.224845788871819}. Best is trial 15 with value: -0.567719.\n"
     ]
    },
    {
     "name": "stderr",
     "output_type": "stream",
     "text": [
      "[I 2025-05-14 18:10:17,380] Trial 18 pruned. Trial was pruned at iteration 21.\n"
     ]
    },
    {
     "name": "stderr",
     "output_type": "stream",
     "text": [
      "[I 2025-05-14 18:10:17,540] Trial 19 finished with value: -0.019167 and parameters: {'max_depth': 17, 'min_child_weight': 99, 'subsample': 0.6763345562420628, 'colsample_bynode': 0.4759359243067308, 'learning_rate': 0.03892743572591741}. Best is trial 15 with value: -0.567719.\n"
     ]
    },
    {
     "name": "stderr",
     "output_type": "stream",
     "text": [
      "[I 2025-05-14 18:10:17,696] Trial 20 pruned. Trial was pruned at iteration 21.\n"
     ]
    },
    {
     "name": "stderr",
     "output_type": "stream",
     "text": [
      "[I 2025-05-14 18:10:18,061] Trial 21 finished with value: -0.564713 and parameters: {'max_depth': 11, 'min_child_weight': 1, 'subsample': 0.9493755964653445, 'colsample_bynode': 0.1689819979084456, 'learning_rate': 0.1072482932857308}. Best is trial 15 with value: -0.567719.\n"
     ]
    },
    {
     "name": "stderr",
     "output_type": "stream",
     "text": [
      "[I 2025-05-14 18:10:18,214] Trial 22 finished with value: -0.153245 and parameters: {'max_depth': 11, 'min_child_weight': 56, 'subsample': 0.9035969683416092, 'colsample_bynode': 0.3139295194124999, 'learning_rate': 0.03155195897956944}. Best is trial 15 with value: -0.567719.\n"
     ]
    },
    {
     "name": "stderr",
     "output_type": "stream",
     "text": [
      "[I 2025-05-14 18:10:18,378] Trial 23 pruned. Trial was pruned at iteration 21.\n"
     ]
    },
    {
     "name": "stderr",
     "output_type": "stream",
     "text": [
      "[I 2025-05-14 18:10:18,629] Trial 24 pruned. Trial was pruned at iteration 21.\n"
     ]
    },
    {
     "name": "stderr",
     "output_type": "stream",
     "text": [
      "[I 2025-05-14 18:10:18,800] Trial 25 finished with value: -0.019167 and parameters: {'max_depth': 11, 'min_child_weight': 61, 'subsample': 0.7715244788256409, 'colsample_bynode': 0.2663387558985642, 'learning_rate': 0.08137711855092332}. Best is trial 15 with value: -0.567719.\n"
     ]
    },
    {
     "name": "stderr",
     "output_type": "stream",
     "text": [
      "[I 2025-05-14 18:10:18,978] Trial 26 finished with value: -0.019167 and parameters: {'max_depth': 8, 'min_child_weight': 150, 'subsample': 0.9268842372584267, 'colsample_bynode': 0.8348817412094831, 'learning_rate': 0.11302262870839216}. Best is trial 15 with value: -0.567719.\n"
     ]
    },
    {
     "name": "stderr",
     "output_type": "stream",
     "text": [
      "[I 2025-05-14 18:10:19,156] Trial 27 pruned. Trial was pruned at iteration 21.\n"
     ]
    },
    {
     "name": "stderr",
     "output_type": "stream",
     "text": [
      "[I 2025-05-14 18:10:19,323] Trial 28 finished with value: -0.019167 and parameters: {'max_depth': 18, 'min_child_weight': 207, 'subsample': 0.8376269160154843, 'colsample_bynode': 0.10203349704566486, 'learning_rate': 0.49199510434526794}. Best is trial 15 with value: -0.567719.\n"
     ]
    },
    {
     "name": "stderr",
     "output_type": "stream",
     "text": [
      "[I 2025-05-14 18:10:19,490] Trial 29 finished with value: -0.019167 and parameters: {'max_depth': 10, 'min_child_weight': 217, 'subsample': 0.7455517045008017, 'colsample_bynode': 0.41232146842405126, 'learning_rate': 0.010709004830646147}. Best is trial 15 with value: -0.567719.\n"
     ]
    },
    {
     "name": "stderr",
     "output_type": "stream",
     "text": [
      "[I 2025-05-14 18:10:19,651] Trial 30 finished with value: -0.019167 and parameters: {'max_depth': 3, 'min_child_weight': 63, 'subsample': 0.48408877480742074, 'colsample_bynode': 0.21773787018991886, 'learning_rate': 0.027140510012803577}. Best is trial 15 with value: -0.567719.\n"
     ]
    },
    {
     "name": "stderr",
     "output_type": "stream",
     "text": [
      "[I 2025-05-14 18:10:20,000] Trial 31 finished with value: -0.575308 and parameters: {'max_depth': 9, 'min_child_weight': 3, 'subsample': 0.9610672205875755, 'colsample_bynode': 0.1784173122445067, 'learning_rate': 0.1198886256602298}. Best is trial 31 with value: -0.575308.\n"
     ]
    },
    {
     "name": "stderr",
     "output_type": "stream",
     "text": [
      "[I 2025-05-14 18:10:20,191] Trial 32 pruned. Trial was pruned at iteration 21.\n"
     ]
    },
    {
     "name": "stderr",
     "output_type": "stream",
     "text": [
      "[I 2025-05-14 18:10:20,670] Trial 33 finished with value: -0.593257 and parameters: {'max_depth': 8, 'min_child_weight': 3, 'subsample': 0.9602576343424604, 'colsample_bynode': 0.255125793644257, 'learning_rate': 0.16346739526438317}. Best is trial 33 with value: -0.593257.\n"
     ]
    },
    {
     "name": "stderr",
     "output_type": "stream",
     "text": [
      "[I 2025-05-14 18:10:20,859] Trial 34 pruned. Trial was pruned at iteration 21.\n"
     ]
    },
    {
     "name": "stderr",
     "output_type": "stream",
     "text": [
      "[I 2025-05-14 18:10:21,090] Trial 35 pruned. Trial was pruned at iteration 21.\n"
     ]
    },
    {
     "name": "stderr",
     "output_type": "stream",
     "text": [
      "[I 2025-05-14 18:10:21,264] Trial 36 pruned. Trial was pruned at iteration 21.\n"
     ]
    },
    {
     "name": "stderr",
     "output_type": "stream",
     "text": [
      "[I 2025-05-14 18:10:21,472] Trial 37 pruned. Trial was pruned at iteration 21.\n"
     ]
    },
    {
     "name": "stderr",
     "output_type": "stream",
     "text": [
      "[I 2025-05-14 18:10:21,624] Trial 38 finished with value: -0.153245 and parameters: {'max_depth': 8, 'min_child_weight': 31, 'subsample': 0.6103386241608936, 'colsample_bynode': 0.20674524956202667, 'learning_rate': 0.05190311181495621}. Best is trial 33 with value: -0.593257.\n"
     ]
    },
    {
     "name": "stderr",
     "output_type": "stream",
     "text": [
      "[I 2025-05-14 18:10:21,806] Trial 39 finished with value: -0.019167 and parameters: {'max_depth': 6, 'min_child_weight': 76, 'subsample': 0.7161963517515287, 'colsample_bynode': 0.6986571664833517, 'learning_rate': 0.10403865332200095}. Best is trial 33 with value: -0.593257.\n"
     ]
    },
    {
     "name": "stderr",
     "output_type": "stream",
     "text": [
      "[I 2025-05-14 18:10:21,984] Trial 40 finished with value: -0.153245 and parameters: {'max_depth': 4, 'min_child_weight': 46, 'subsample': 0.9491219790448987, 'colsample_bynode': 0.29029147720932147, 'learning_rate': 0.01762387035468314}. Best is trial 33 with value: -0.593257.\n"
     ]
    },
    {
     "name": "stderr",
     "output_type": "stream",
     "text": [
      "[I 2025-05-14 18:10:22,312] Trial 41 pruned. Trial was pruned at iteration 21.\n"
     ]
    },
    {
     "name": "stderr",
     "output_type": "stream",
     "text": [
      "[I 2025-05-14 18:10:22,497] Trial 42 pruned. Trial was pruned at iteration 21.\n"
     ]
    },
    {
     "name": "stderr",
     "output_type": "stream",
     "text": [
      "[I 2025-05-14 18:10:22,689] Trial 43 pruned. Trial was pruned at iteration 21.\n"
     ]
    },
    {
     "name": "stderr",
     "output_type": "stream",
     "text": [
      "[I 2025-05-14 18:10:22,994] Trial 44 pruned. Trial was pruned at iteration 21.\n"
     ]
    },
    {
     "name": "stderr",
     "output_type": "stream",
     "text": [
      "[I 2025-05-14 18:10:23,144] Trial 45 pruned. Trial was pruned at iteration 21.\n"
     ]
    },
    {
     "name": "stderr",
     "output_type": "stream",
     "text": [
      "[I 2025-05-14 18:10:23,303] Trial 46 pruned. Trial was pruned at iteration 21.\n"
     ]
    },
    {
     "name": "stderr",
     "output_type": "stream",
     "text": [
      "[I 2025-05-14 18:10:23,452] Trial 47 finished with value: -0.019167 and parameters: {'max_depth': 8, 'min_child_weight': 90, 'subsample': 0.6108931189826368, 'colsample_bynode': 0.34975182534721394, 'learning_rate': 0.37881504726266424}. Best is trial 33 with value: -0.593257.\n"
     ]
    },
    {
     "name": "stderr",
     "output_type": "stream",
     "text": [
      "[I 2025-05-14 18:10:23,621] Trial 48 finished with value: -0.019167 and parameters: {'max_depth': 12, 'min_child_weight': 41, 'subsample': 0.28659281335602466, 'colsample_bynode': 0.2879344678958098, 'learning_rate': 0.30490515246242084}. Best is trial 33 with value: -0.593257.\n"
     ]
    },
    {
     "name": "stderr",
     "output_type": "stream",
     "text": [
      "[I 2025-05-14 18:10:23,870] Trial 49 pruned. Trial was pruned at iteration 21.\n"
     ]
    }
   ],
   "source": [
    "sampler = optuna.samplers.TPESampler(seed=42)\n",
    "study = optuna.create_study(direction='minimize', sampler=sampler)\n",
    "study.optimize(objective, n_trials=N_TRIALS, gc_after_trial=True)"
   ]
  },
  {
   "cell_type": "code",
   "execution_count": 20,
   "id": "f4e9cf39",
   "metadata": {
    "execution": {
     "iopub.execute_input": "2025-05-14T16:10:24.017360Z",
     "iopub.status.busy": "2025-05-14T16:10:24.016949Z",
     "iopub.status.idle": "2025-05-14T16:10:24.051552Z",
     "shell.execute_reply": "2025-05-14T16:10:24.051164Z"
    },
    "papermill": {
     "duration": 0.048499,
     "end_time": "2025-05-14T16:10:24.052439",
     "exception": false,
     "start_time": "2025-05-14T16:10:24.003940",
     "status": "completed"
    },
    "tags": []
   },
   "outputs": [
    {
     "data": {
      "text/plain": [
       "['/scratch_isilon/groups/singlecell/shared/projects/Inflammation-PBMCs-Atlas/03_downstream_analysis/08_gene_importance/xgboost_external_validation/xgboost_TopN_genes/results_20/study/Plasma_shap_disease_NOstudy_0_xgboost.pkl']"
      ]
     },
     "execution_count": 20,
     "metadata": {},
     "output_type": "execute_result"
    }
   ],
   "source": [
    "out_dir = here(f'03_downstream_analysis/08_gene_importance/xgboost_external_validation/xgboost_TopN_genes/results_{N_GENES}/study')\n",
    "\n",
    "if not os.path.exists(out_dir):\n",
    "    os.makedirs(out_dir)\n",
    "    \n",
    "joblib.dump(study,os.path.join(out_dir, f'{CELL_TYPE}_{SEED}_{TEST_SPLIT_IDX}_xgboost.pkl'))"
   ]
  },
  {
   "cell_type": "code",
   "execution_count": 21,
   "id": "68946211",
   "metadata": {
    "execution": {
     "iopub.execute_input": "2025-05-14T16:10:24.127814Z",
     "iopub.status.busy": "2025-05-14T16:10:24.127414Z",
     "iopub.status.idle": "2025-05-14T16:10:24.468160Z",
     "shell.execute_reply": "2025-05-14T16:10:24.467789Z"
    },
    "papermill": {
     "duration": 0.374171,
     "end_time": "2025-05-14T16:10:24.469493",
     "exception": false,
     "start_time": "2025-05-14T16:10:24.095322",
     "status": "completed"
    },
    "tags": []
   },
   "outputs": [
    {
     "data": {
      "text/html": [
       "<style>#sk-container-id-1 {\n",
       "  /* Definition of color scheme common for light and dark mode */\n",
       "  --sklearn-color-text: black;\n",
       "  --sklearn-color-line: gray;\n",
       "  /* Definition of color scheme for unfitted estimators */\n",
       "  --sklearn-color-unfitted-level-0: #fff5e6;\n",
       "  --sklearn-color-unfitted-level-1: #f6e4d2;\n",
       "  --sklearn-color-unfitted-level-2: #ffe0b3;\n",
       "  --sklearn-color-unfitted-level-3: chocolate;\n",
       "  /* Definition of color scheme for fitted estimators */\n",
       "  --sklearn-color-fitted-level-0: #f0f8ff;\n",
       "  --sklearn-color-fitted-level-1: #d4ebff;\n",
       "  --sklearn-color-fitted-level-2: #b3dbfd;\n",
       "  --sklearn-color-fitted-level-3: cornflowerblue;\n",
       "\n",
       "  /* Specific color for light theme */\n",
       "  --sklearn-color-text-on-default-background: var(--sg-text-color, var(--theme-code-foreground, var(--jp-content-font-color1, black)));\n",
       "  --sklearn-color-background: var(--sg-background-color, var(--theme-background, var(--jp-layout-color0, white)));\n",
       "  --sklearn-color-border-box: var(--sg-text-color, var(--theme-code-foreground, var(--jp-content-font-color1, black)));\n",
       "  --sklearn-color-icon: #696969;\n",
       "\n",
       "  @media (prefers-color-scheme: dark) {\n",
       "    /* Redefinition of color scheme for dark theme */\n",
       "    --sklearn-color-text-on-default-background: var(--sg-text-color, var(--theme-code-foreground, var(--jp-content-font-color1, white)));\n",
       "    --sklearn-color-background: var(--sg-background-color, var(--theme-background, var(--jp-layout-color0, #111)));\n",
       "    --sklearn-color-border-box: var(--sg-text-color, var(--theme-code-foreground, var(--jp-content-font-color1, white)));\n",
       "    --sklearn-color-icon: #878787;\n",
       "  }\n",
       "}\n",
       "\n",
       "#sk-container-id-1 {\n",
       "  color: var(--sklearn-color-text);\n",
       "}\n",
       "\n",
       "#sk-container-id-1 pre {\n",
       "  padding: 0;\n",
       "}\n",
       "\n",
       "#sk-container-id-1 input.sk-hidden--visually {\n",
       "  border: 0;\n",
       "  clip: rect(1px 1px 1px 1px);\n",
       "  clip: rect(1px, 1px, 1px, 1px);\n",
       "  height: 1px;\n",
       "  margin: -1px;\n",
       "  overflow: hidden;\n",
       "  padding: 0;\n",
       "  position: absolute;\n",
       "  width: 1px;\n",
       "}\n",
       "\n",
       "#sk-container-id-1 div.sk-dashed-wrapped {\n",
       "  border: 1px dashed var(--sklearn-color-line);\n",
       "  margin: 0 0.4em 0.5em 0.4em;\n",
       "  box-sizing: border-box;\n",
       "  padding-bottom: 0.4em;\n",
       "  background-color: var(--sklearn-color-background);\n",
       "}\n",
       "\n",
       "#sk-container-id-1 div.sk-container {\n",
       "  /* jupyter's `normalize.less` sets `[hidden] { display: none; }`\n",
       "     but bootstrap.min.css set `[hidden] { display: none !important; }`\n",
       "     so we also need the `!important` here to be able to override the\n",
       "     default hidden behavior on the sphinx rendered scikit-learn.org.\n",
       "     See: https://github.com/scikit-learn/scikit-learn/issues/21755 */\n",
       "  display: inline-block !important;\n",
       "  position: relative;\n",
       "}\n",
       "\n",
       "#sk-container-id-1 div.sk-text-repr-fallback {\n",
       "  display: none;\n",
       "}\n",
       "\n",
       "div.sk-parallel-item,\n",
       "div.sk-serial,\n",
       "div.sk-item {\n",
       "  /* draw centered vertical line to link estimators */\n",
       "  background-image: linear-gradient(var(--sklearn-color-text-on-default-background), var(--sklearn-color-text-on-default-background));\n",
       "  background-size: 2px 100%;\n",
       "  background-repeat: no-repeat;\n",
       "  background-position: center center;\n",
       "}\n",
       "\n",
       "/* Parallel-specific style estimator block */\n",
       "\n",
       "#sk-container-id-1 div.sk-parallel-item::after {\n",
       "  content: \"\";\n",
       "  width: 100%;\n",
       "  border-bottom: 2px solid var(--sklearn-color-text-on-default-background);\n",
       "  flex-grow: 1;\n",
       "}\n",
       "\n",
       "#sk-container-id-1 div.sk-parallel {\n",
       "  display: flex;\n",
       "  align-items: stretch;\n",
       "  justify-content: center;\n",
       "  background-color: var(--sklearn-color-background);\n",
       "  position: relative;\n",
       "}\n",
       "\n",
       "#sk-container-id-1 div.sk-parallel-item {\n",
       "  display: flex;\n",
       "  flex-direction: column;\n",
       "}\n",
       "\n",
       "#sk-container-id-1 div.sk-parallel-item:first-child::after {\n",
       "  align-self: flex-end;\n",
       "  width: 50%;\n",
       "}\n",
       "\n",
       "#sk-container-id-1 div.sk-parallel-item:last-child::after {\n",
       "  align-self: flex-start;\n",
       "  width: 50%;\n",
       "}\n",
       "\n",
       "#sk-container-id-1 div.sk-parallel-item:only-child::after {\n",
       "  width: 0;\n",
       "}\n",
       "\n",
       "/* Serial-specific style estimator block */\n",
       "\n",
       "#sk-container-id-1 div.sk-serial {\n",
       "  display: flex;\n",
       "  flex-direction: column;\n",
       "  align-items: center;\n",
       "  background-color: var(--sklearn-color-background);\n",
       "  padding-right: 1em;\n",
       "  padding-left: 1em;\n",
       "}\n",
       "\n",
       "\n",
       "/* Toggleable style: style used for estimator/Pipeline/ColumnTransformer box that is\n",
       "clickable and can be expanded/collapsed.\n",
       "- Pipeline and ColumnTransformer use this feature and define the default style\n",
       "- Estimators will overwrite some part of the style using the `sk-estimator` class\n",
       "*/\n",
       "\n",
       "/* Pipeline and ColumnTransformer style (default) */\n",
       "\n",
       "#sk-container-id-1 div.sk-toggleable {\n",
       "  /* Default theme specific background. It is overwritten whether we have a\n",
       "  specific estimator or a Pipeline/ColumnTransformer */\n",
       "  background-color: var(--sklearn-color-background);\n",
       "}\n",
       "\n",
       "/* Toggleable label */\n",
       "#sk-container-id-1 label.sk-toggleable__label {\n",
       "  cursor: pointer;\n",
       "  display: block;\n",
       "  width: 100%;\n",
       "  margin-bottom: 0;\n",
       "  padding: 0.5em;\n",
       "  box-sizing: border-box;\n",
       "  text-align: center;\n",
       "}\n",
       "\n",
       "#sk-container-id-1 label.sk-toggleable__label-arrow:before {\n",
       "  /* Arrow on the left of the label */\n",
       "  content: \"▸\";\n",
       "  float: left;\n",
       "  margin-right: 0.25em;\n",
       "  color: var(--sklearn-color-icon);\n",
       "}\n",
       "\n",
       "#sk-container-id-1 label.sk-toggleable__label-arrow:hover:before {\n",
       "  color: var(--sklearn-color-text);\n",
       "}\n",
       "\n",
       "/* Toggleable content - dropdown */\n",
       "\n",
       "#sk-container-id-1 div.sk-toggleable__content {\n",
       "  max-height: 0;\n",
       "  max-width: 0;\n",
       "  overflow: hidden;\n",
       "  text-align: left;\n",
       "  /* unfitted */\n",
       "  background-color: var(--sklearn-color-unfitted-level-0);\n",
       "}\n",
       "\n",
       "#sk-container-id-1 div.sk-toggleable__content.fitted {\n",
       "  /* fitted */\n",
       "  background-color: var(--sklearn-color-fitted-level-0);\n",
       "}\n",
       "\n",
       "#sk-container-id-1 div.sk-toggleable__content pre {\n",
       "  margin: 0.2em;\n",
       "  border-radius: 0.25em;\n",
       "  color: var(--sklearn-color-text);\n",
       "  /* unfitted */\n",
       "  background-color: var(--sklearn-color-unfitted-level-0);\n",
       "}\n",
       "\n",
       "#sk-container-id-1 div.sk-toggleable__content.fitted pre {\n",
       "  /* unfitted */\n",
       "  background-color: var(--sklearn-color-fitted-level-0);\n",
       "}\n",
       "\n",
       "#sk-container-id-1 input.sk-toggleable__control:checked~div.sk-toggleable__content {\n",
       "  /* Expand drop-down */\n",
       "  max-height: 200px;\n",
       "  max-width: 100%;\n",
       "  overflow: auto;\n",
       "}\n",
       "\n",
       "#sk-container-id-1 input.sk-toggleable__control:checked~label.sk-toggleable__label-arrow:before {\n",
       "  content: \"▾\";\n",
       "}\n",
       "\n",
       "/* Pipeline/ColumnTransformer-specific style */\n",
       "\n",
       "#sk-container-id-1 div.sk-label input.sk-toggleable__control:checked~label.sk-toggleable__label {\n",
       "  color: var(--sklearn-color-text);\n",
       "  background-color: var(--sklearn-color-unfitted-level-2);\n",
       "}\n",
       "\n",
       "#sk-container-id-1 div.sk-label.fitted input.sk-toggleable__control:checked~label.sk-toggleable__label {\n",
       "  background-color: var(--sklearn-color-fitted-level-2);\n",
       "}\n",
       "\n",
       "/* Estimator-specific style */\n",
       "\n",
       "/* Colorize estimator box */\n",
       "#sk-container-id-1 div.sk-estimator input.sk-toggleable__control:checked~label.sk-toggleable__label {\n",
       "  /* unfitted */\n",
       "  background-color: var(--sklearn-color-unfitted-level-2);\n",
       "}\n",
       "\n",
       "#sk-container-id-1 div.sk-estimator.fitted input.sk-toggleable__control:checked~label.sk-toggleable__label {\n",
       "  /* fitted */\n",
       "  background-color: var(--sklearn-color-fitted-level-2);\n",
       "}\n",
       "\n",
       "#sk-container-id-1 div.sk-label label.sk-toggleable__label,\n",
       "#sk-container-id-1 div.sk-label label {\n",
       "  /* The background is the default theme color */\n",
       "  color: var(--sklearn-color-text-on-default-background);\n",
       "}\n",
       "\n",
       "/* On hover, darken the color of the background */\n",
       "#sk-container-id-1 div.sk-label:hover label.sk-toggleable__label {\n",
       "  color: var(--sklearn-color-text);\n",
       "  background-color: var(--sklearn-color-unfitted-level-2);\n",
       "}\n",
       "\n",
       "/* Label box, darken color on hover, fitted */\n",
       "#sk-container-id-1 div.sk-label.fitted:hover label.sk-toggleable__label.fitted {\n",
       "  color: var(--sklearn-color-text);\n",
       "  background-color: var(--sklearn-color-fitted-level-2);\n",
       "}\n",
       "\n",
       "/* Estimator label */\n",
       "\n",
       "#sk-container-id-1 div.sk-label label {\n",
       "  font-family: monospace;\n",
       "  font-weight: bold;\n",
       "  display: inline-block;\n",
       "  line-height: 1.2em;\n",
       "}\n",
       "\n",
       "#sk-container-id-1 div.sk-label-container {\n",
       "  text-align: center;\n",
       "}\n",
       "\n",
       "/* Estimator-specific */\n",
       "#sk-container-id-1 div.sk-estimator {\n",
       "  font-family: monospace;\n",
       "  border: 1px dotted var(--sklearn-color-border-box);\n",
       "  border-radius: 0.25em;\n",
       "  box-sizing: border-box;\n",
       "  margin-bottom: 0.5em;\n",
       "  /* unfitted */\n",
       "  background-color: var(--sklearn-color-unfitted-level-0);\n",
       "}\n",
       "\n",
       "#sk-container-id-1 div.sk-estimator.fitted {\n",
       "  /* fitted */\n",
       "  background-color: var(--sklearn-color-fitted-level-0);\n",
       "}\n",
       "\n",
       "/* on hover */\n",
       "#sk-container-id-1 div.sk-estimator:hover {\n",
       "  /* unfitted */\n",
       "  background-color: var(--sklearn-color-unfitted-level-2);\n",
       "}\n",
       "\n",
       "#sk-container-id-1 div.sk-estimator.fitted:hover {\n",
       "  /* fitted */\n",
       "  background-color: var(--sklearn-color-fitted-level-2);\n",
       "}\n",
       "\n",
       "/* Specification for estimator info (e.g. \"i\" and \"?\") */\n",
       "\n",
       "/* Common style for \"i\" and \"?\" */\n",
       "\n",
       ".sk-estimator-doc-link,\n",
       "a:link.sk-estimator-doc-link,\n",
       "a:visited.sk-estimator-doc-link {\n",
       "  float: right;\n",
       "  font-size: smaller;\n",
       "  line-height: 1em;\n",
       "  font-family: monospace;\n",
       "  background-color: var(--sklearn-color-background);\n",
       "  border-radius: 1em;\n",
       "  height: 1em;\n",
       "  width: 1em;\n",
       "  text-decoration: none !important;\n",
       "  margin-left: 1ex;\n",
       "  /* unfitted */\n",
       "  border: var(--sklearn-color-unfitted-level-1) 1pt solid;\n",
       "  color: var(--sklearn-color-unfitted-level-1);\n",
       "}\n",
       "\n",
       ".sk-estimator-doc-link.fitted,\n",
       "a:link.sk-estimator-doc-link.fitted,\n",
       "a:visited.sk-estimator-doc-link.fitted {\n",
       "  /* fitted */\n",
       "  border: var(--sklearn-color-fitted-level-1) 1pt solid;\n",
       "  color: var(--sklearn-color-fitted-level-1);\n",
       "}\n",
       "\n",
       "/* On hover */\n",
       "div.sk-estimator:hover .sk-estimator-doc-link:hover,\n",
       ".sk-estimator-doc-link:hover,\n",
       "div.sk-label-container:hover .sk-estimator-doc-link:hover,\n",
       ".sk-estimator-doc-link:hover {\n",
       "  /* unfitted */\n",
       "  background-color: var(--sklearn-color-unfitted-level-3);\n",
       "  color: var(--sklearn-color-background);\n",
       "  text-decoration: none;\n",
       "}\n",
       "\n",
       "div.sk-estimator.fitted:hover .sk-estimator-doc-link.fitted:hover,\n",
       ".sk-estimator-doc-link.fitted:hover,\n",
       "div.sk-label-container:hover .sk-estimator-doc-link.fitted:hover,\n",
       ".sk-estimator-doc-link.fitted:hover {\n",
       "  /* fitted */\n",
       "  background-color: var(--sklearn-color-fitted-level-3);\n",
       "  color: var(--sklearn-color-background);\n",
       "  text-decoration: none;\n",
       "}\n",
       "\n",
       "/* Span, style for the box shown on hovering the info icon */\n",
       ".sk-estimator-doc-link span {\n",
       "  display: none;\n",
       "  z-index: 9999;\n",
       "  position: relative;\n",
       "  font-weight: normal;\n",
       "  right: .2ex;\n",
       "  padding: .5ex;\n",
       "  margin: .5ex;\n",
       "  width: min-content;\n",
       "  min-width: 20ex;\n",
       "  max-width: 50ex;\n",
       "  color: var(--sklearn-color-text);\n",
       "  box-shadow: 2pt 2pt 4pt #999;\n",
       "  /* unfitted */\n",
       "  background: var(--sklearn-color-unfitted-level-0);\n",
       "  border: .5pt solid var(--sklearn-color-unfitted-level-3);\n",
       "}\n",
       "\n",
       ".sk-estimator-doc-link.fitted span {\n",
       "  /* fitted */\n",
       "  background: var(--sklearn-color-fitted-level-0);\n",
       "  border: var(--sklearn-color-fitted-level-3);\n",
       "}\n",
       "\n",
       ".sk-estimator-doc-link:hover span {\n",
       "  display: block;\n",
       "}\n",
       "\n",
       "/* \"?\"-specific style due to the `<a>` HTML tag */\n",
       "\n",
       "#sk-container-id-1 a.estimator_doc_link {\n",
       "  float: right;\n",
       "  font-size: 1rem;\n",
       "  line-height: 1em;\n",
       "  font-family: monospace;\n",
       "  background-color: var(--sklearn-color-background);\n",
       "  border-radius: 1rem;\n",
       "  height: 1rem;\n",
       "  width: 1rem;\n",
       "  text-decoration: none;\n",
       "  /* unfitted */\n",
       "  color: var(--sklearn-color-unfitted-level-1);\n",
       "  border: var(--sklearn-color-unfitted-level-1) 1pt solid;\n",
       "}\n",
       "\n",
       "#sk-container-id-1 a.estimator_doc_link.fitted {\n",
       "  /* fitted */\n",
       "  border: var(--sklearn-color-fitted-level-1) 1pt solid;\n",
       "  color: var(--sklearn-color-fitted-level-1);\n",
       "}\n",
       "\n",
       "/* On hover */\n",
       "#sk-container-id-1 a.estimator_doc_link:hover {\n",
       "  /* unfitted */\n",
       "  background-color: var(--sklearn-color-unfitted-level-3);\n",
       "  color: var(--sklearn-color-background);\n",
       "  text-decoration: none;\n",
       "}\n",
       "\n",
       "#sk-container-id-1 a.estimator_doc_link.fitted:hover {\n",
       "  /* fitted */\n",
       "  background-color: var(--sklearn-color-fitted-level-3);\n",
       "}\n",
       "</style><div id=\"sk-container-id-1\" class=\"sk-top-container\"><div class=\"sk-text-repr-fallback\"><pre>XGBClassifier(base_score=None, booster=None, callbacks=None,\n",
       "              colsample_bylevel=None, colsample_bynode=0.255125793644257,\n",
       "              colsample_bytree=None, device=None, early_stopping_rounds=None,\n",
       "              enable_categorical=False,\n",
       "              eval_metric=&lt;function custom_f1_score at 0x7f8c61fb40e0&gt;,\n",
       "              feature_types=None, gamma=None, grow_policy=None,\n",
       "              importance_type=None, interaction_constraints=None,\n",
       "              learning_rate=0.16346739526438317, max_bin=None,\n",
       "              max_cat_threshold=None, max_cat_to_onehot=None,\n",
       "              max_delta_step=None, max_depth=8, max_leaves=None,\n",
       "              min_child_weight=3, missing=nan, monotone_constraints=None,\n",
       "              multi_strategy=None, n_estimators=32, n_jobs=None,\n",
       "              num_parallel_tree=None, objective=&#x27;multi:softprob&#x27;, ...)</pre><b>In a Jupyter environment, please rerun this cell to show the HTML representation or trust the notebook. <br />On GitHub, the HTML representation is unable to render, please try loading this page with nbviewer.org.</b></div><div class=\"sk-container\" hidden><div class=\"sk-item\"><div class=\"sk-estimator fitted sk-toggleable\"><input class=\"sk-toggleable__control sk-hidden--visually\" id=\"sk-estimator-id-1\" type=\"checkbox\" checked><label for=\"sk-estimator-id-1\" class=\"sk-toggleable__label fitted sk-toggleable__label-arrow fitted\">&nbsp;XGBClassifier<span class=\"sk-estimator-doc-link fitted\">i<span>Fitted</span></span></label><div class=\"sk-toggleable__content fitted\"><pre>XGBClassifier(base_score=None, booster=None, callbacks=None,\n",
       "              colsample_bylevel=None, colsample_bynode=0.255125793644257,\n",
       "              colsample_bytree=None, device=None, early_stopping_rounds=None,\n",
       "              enable_categorical=False,\n",
       "              eval_metric=&lt;function custom_f1_score at 0x7f8c61fb40e0&gt;,\n",
       "              feature_types=None, gamma=None, grow_policy=None,\n",
       "              importance_type=None, interaction_constraints=None,\n",
       "              learning_rate=0.16346739526438317, max_bin=None,\n",
       "              max_cat_threshold=None, max_cat_to_onehot=None,\n",
       "              max_delta_step=None, max_depth=8, max_leaves=None,\n",
       "              min_child_weight=3, missing=nan, monotone_constraints=None,\n",
       "              multi_strategy=None, n_estimators=32, n_jobs=None,\n",
       "              num_parallel_tree=None, objective=&#x27;multi:softprob&#x27;, ...)</pre></div> </div></div></div></div>"
      ],
      "text/plain": [
       "XGBClassifier(base_score=None, booster=None, callbacks=None,\n",
       "              colsample_bylevel=None, colsample_bynode=0.255125793644257,\n",
       "              colsample_bytree=None, device=None, early_stopping_rounds=None,\n",
       "              enable_categorical=False,\n",
       "              eval_metric=<function custom_f1_score at 0x7f8c61fb40e0>,\n",
       "              feature_types=None, gamma=None, grow_policy=None,\n",
       "              importance_type=None, interaction_constraints=None,\n",
       "              learning_rate=0.16346739526438317, max_bin=None,\n",
       "              max_cat_threshold=None, max_cat_to_onehot=None,\n",
       "              max_delta_step=None, max_depth=8, max_leaves=None,\n",
       "              min_child_weight=3, missing=nan, monotone_constraints=None,\n",
       "              multi_strategy=None, n_estimators=32, n_jobs=None,\n",
       "              num_parallel_tree=None, objective='multi:softprob', ...)"
      ]
     },
     "execution_count": 21,
     "metadata": {},
     "output_type": "execute_result"
    }
   ],
   "source": [
    "n_estimators = int(study.best_trial.user_attrs['best_iteration']*1.2)\n",
    "xgb = xgboost.XGBClassifier(\n",
    "        eval_metric=eval_metric,\n",
    "        n_estimators=n_estimators,\n",
    "        **study.best_trial.params\n",
    "    )\n",
    "xgb.fit(\n",
    "    ssp.vstack((X_train, X_val)), \n",
    "    np.concatenate((y_train_enc, y_val_enc)),\n",
    "    verbose=1,\n",
    ")"
   ]
  },
  {
   "cell_type": "code",
   "execution_count": 22,
   "id": "c1ac5e59",
   "metadata": {
    "execution": {
     "iopub.execute_input": "2025-05-14T16:10:24.489666Z",
     "iopub.status.busy": "2025-05-14T16:10:24.489264Z",
     "iopub.status.idle": "2025-05-14T16:10:24.504012Z",
     "shell.execute_reply": "2025-05-14T16:10:24.503611Z"
    },
    "papermill": {
     "duration": 0.02636,
     "end_time": "2025-05-14T16:10:24.505253",
     "exception": false,
     "start_time": "2025-05-14T16:10:24.478893",
     "status": "completed"
    },
    "tags": []
   },
   "outputs": [
    {
     "data": {
      "text/plain": [
       "['/scratch_isilon/groups/singlecell/shared/projects/Inflammation-PBMCs-Atlas/03_downstream_analysis/08_gene_importance/xgboost_external_validation/xgboost_TopN_genes/results_20/best_model/Plasma_shap_disease_NOstudy_0_xgb.json']"
      ]
     },
     "execution_count": 22,
     "metadata": {},
     "output_type": "execute_result"
    }
   ],
   "source": [
    "out_dir = here(f'03_downstream_analysis/08_gene_importance/xgboost_external_validation/xgboost_TopN_genes/results_{N_GENES}/best_model')\n",
    "\n",
    "if not os.path.exists(out_dir):\n",
    "    os.makedirs(out_dir)\n",
    "    \n",
    "joblib.dump(xgb, os.path.join(out_dir, f'{CELL_TYPE}_{SEED}_{TEST_SPLIT_IDX}_xgb.json'))"
   ]
  },
  {
   "cell_type": "code",
   "execution_count": 23,
   "id": "8bcb734a",
   "metadata": {
    "execution": {
     "iopub.execute_input": "2025-05-14T16:10:24.525390Z",
     "iopub.status.busy": "2025-05-14T16:10:24.525036Z",
     "iopub.status.idle": "2025-05-14T16:10:24.531099Z",
     "shell.execute_reply": "2025-05-14T16:10:24.530727Z"
    },
    "papermill": {
     "duration": 0.021095,
     "end_time": "2025-05-14T16:10:24.535876",
     "exception": false,
     "start_time": "2025-05-14T16:10:24.514781",
     "status": "completed"
    },
    "tags": []
   },
   "outputs": [],
   "source": [
    "df_pred_test = pd.DataFrame(dict(\n",
    "    cell_id=train_adata.obs.iloc[test_idxs].index.values,\n",
    "    y_true=y_test, \n",
    "    y_true_code=y_test_enc, \n",
    "    y_pred=xgb.predict(X_test))).set_index('cell_id')"
   ]
  },
  {
   "cell_type": "code",
   "execution_count": 24,
   "id": "207a5502",
   "metadata": {
    "execution": {
     "iopub.execute_input": "2025-05-14T16:10:24.563975Z",
     "iopub.status.busy": "2025-05-14T16:10:24.563643Z",
     "iopub.status.idle": "2025-05-14T16:10:24.578452Z",
     "shell.execute_reply": "2025-05-14T16:10:24.578015Z"
    },
    "papermill": {
     "duration": 0.034094,
     "end_time": "2025-05-14T16:10:24.579317",
     "exception": false,
     "start_time": "2025-05-14T16:10:24.545223",
     "status": "completed"
    },
    "tags": []
   },
   "outputs": [],
   "source": [
    "out_dir = here(f'03_downstream_analysis/08_gene_importance/xgboost_external_validation/xgboost_TopN_genes/results_{N_GENES}/predictions')\n",
    "\n",
    "if not os.path.exists(out_dir):\n",
    "    os.makedirs(out_dir)\n",
    "    \n",
    "df_pred_test.to_csv(os.path.join(out_dir, f'{CELL_TYPE}_{SEED}_{TEST_SPLIT_IDX}_pred_test.zip'))"
   ]
  },
  {
   "cell_type": "code",
   "execution_count": 25,
   "id": "5cf778c1",
   "metadata": {
    "execution": {
     "iopub.execute_input": "2025-05-14T16:10:24.599470Z",
     "iopub.status.busy": "2025-05-14T16:10:24.599065Z",
     "iopub.status.idle": "2025-05-14T16:10:24.608417Z",
     "shell.execute_reply": "2025-05-14T16:10:24.608057Z"
    },
    "papermill": {
     "duration": 0.021426,
     "end_time": "2025-05-14T16:10:24.609233",
     "exception": false,
     "start_time": "2025-05-14T16:10:24.587807",
     "status": "completed"
    },
    "tags": []
   },
   "outputs": [
    {
     "name": "stderr",
     "output_type": "stream",
     "text": [
      "/scratch_isilon/groups/singlecell/shared/conda_env/xgboost-cpu/lib/python3.12/site-packages/sklearn/metrics/_classification.py:2466: UserWarning: y_pred contains classes not in y_true\n",
      "  warnings.warn(\"y_pred contains classes not in y_true\")\n"
     ]
    }
   ],
   "source": [
    "metrics_dict = dict(\n",
    "    BAS=balanced_accuracy_score(y_true=df_pred_test.y_true_code, y_pred=df_pred_test.y_pred), WF1=f1_score(y_true=df_pred_test.y_true_code, y_pred=df_pred_test.y_pred,average='weighted'))"
   ]
  },
  {
   "cell_type": "code",
   "execution_count": 26,
   "id": "72875a38",
   "metadata": {
    "execution": {
     "iopub.execute_input": "2025-05-14T16:10:24.636839Z",
     "iopub.status.busy": "2025-05-14T16:10:24.636478Z",
     "iopub.status.idle": "2025-05-14T16:10:24.640020Z",
     "shell.execute_reply": "2025-05-14T16:10:24.639692Z"
    },
    "papermill": {
     "duration": 0.022071,
     "end_time": "2025-05-14T16:10:24.640792",
     "exception": false,
     "start_time": "2025-05-14T16:10:24.618721",
     "status": "completed"
    },
    "tags": []
   },
   "outputs": [
    {
     "data": {
      "text/plain": [
       "{'BAS': 0.7553952743684886, 'WF1': 0.667075233053355}"
      ]
     },
     "execution_count": 26,
     "metadata": {},
     "output_type": "execute_result"
    }
   ],
   "source": [
    "metrics_dict"
   ]
  },
  {
   "cell_type": "code",
   "execution_count": 27,
   "id": "d1227621",
   "metadata": {
    "execution": {
     "iopub.execute_input": "2025-05-14T16:10:24.660210Z",
     "iopub.status.busy": "2025-05-14T16:10:24.660012Z",
     "iopub.status.idle": "2025-05-14T16:10:24.671401Z",
     "shell.execute_reply": "2025-05-14T16:10:24.671024Z"
    },
    "papermill": {
     "duration": 0.022077,
     "end_time": "2025-05-14T16:10:24.672204",
     "exception": false,
     "start_time": "2025-05-14T16:10:24.650127",
     "status": "completed"
    },
    "tags": []
   },
   "outputs": [
    {
     "data": {
      "text/html": [
       "<div>\n",
       "<style scoped>\n",
       "    .dataframe tbody tr th:only-of-type {\n",
       "        vertical-align: middle;\n",
       "    }\n",
       "\n",
       "    .dataframe tbody tr th {\n",
       "        vertical-align: top;\n",
       "    }\n",
       "\n",
       "    .dataframe thead th {\n",
       "        text-align: right;\n",
       "    }\n",
       "</style>\n",
       "<table border=\"1\" class=\"dataframe\">\n",
       "  <thead>\n",
       "    <tr style=\"text-align: right;\">\n",
       "      <th></th>\n",
       "      <th>BAS</th>\n",
       "      <th>WF1</th>\n",
       "      <th>split_idx</th>\n",
       "      <th>gene_set_seed</th>\n",
       "      <th>cell_type</th>\n",
       "    </tr>\n",
       "  </thead>\n",
       "  <tbody>\n",
       "    <tr>\n",
       "      <th>0</th>\n",
       "      <td>0.755395</td>\n",
       "      <td>0.667075</td>\n",
       "      <td>0</td>\n",
       "      <td>shap_disease_NOstudy</td>\n",
       "      <td>Plasma</td>\n",
       "    </tr>\n",
       "  </tbody>\n",
       "</table>\n",
       "</div>"
      ],
      "text/plain": [
       "        BAS       WF1  split_idx         gene_set_seed cell_type\n",
       "0  0.755395  0.667075          0  shap_disease_NOstudy    Plasma"
      ]
     },
     "execution_count": 27,
     "metadata": {},
     "output_type": "execute_result"
    }
   ],
   "source": [
    "metrics_df = pd.DataFrame.from_dict([metrics_dict]).assign(split_idx=TEST_SPLIT_IDX, gene_set_seed=SEED, cell_type=CELL_TYPE)\n",
    "metrics_df"
   ]
  },
  {
   "cell_type": "code",
   "execution_count": 28,
   "id": "5371d71a",
   "metadata": {
    "execution": {
     "iopub.execute_input": "2025-05-14T16:10:24.699945Z",
     "iopub.status.busy": "2025-05-14T16:10:24.699674Z",
     "iopub.status.idle": "2025-05-14T16:10:24.709615Z",
     "shell.execute_reply": "2025-05-14T16:10:24.709282Z"
    },
    "papermill": {
     "duration": 0.020806,
     "end_time": "2025-05-14T16:10:24.710457",
     "exception": false,
     "start_time": "2025-05-14T16:10:24.689651",
     "status": "completed"
    },
    "tags": []
   },
   "outputs": [],
   "source": [
    "out_dir = here(f'03_downstream_analysis/08_gene_importance/xgboost_external_validation/xgboost_TopN_genes/results_{N_GENES}/metrics')\n",
    "\n",
    "if not os.path.exists(out_dir):\n",
    "    os.makedirs(out_dir)\n",
    "    \n",
    "metrics_df.to_csv(os.path.join(out_dir, f'{CELL_TYPE}_{SEED}_{TEST_SPLIT_IDX}_metrics.zip'))"
   ]
  }
 ],
 "metadata": {
  "kernelspec": {
   "display_name": "Python 3 (ipykernel)",
   "language": "python",
   "name": "python3"
  },
  "language_info": {
   "codemirror_mode": {
    "name": "ipython",
    "version": 3
   },
   "file_extension": ".py",
   "mimetype": "text/x-python",
   "name": "python",
   "nbconvert_exporter": "python",
   "pygments_lexer": "ipython3",
   "version": "3.12.5"
  },
  "papermill": {
   "default_parameters": {},
   "duration": 15.454651,
   "end_time": "2025-05-14T16:10:25.335411",
   "environment_variables": {},
   "exception": null,
   "input_path": "02_xgboost_fitting_external_20genes.ipynb",
   "output_path": "results_20/executed_notebooks/xgboost_fitting_external_CT_Plasma_GS_shap_disease_NOstudy_seed0.ipynb",
   "parameters": {
    "CELL_TYPE": "Plasma",
    "SEED": "shap_disease_NOstudy",
    "TEST_SPLIT_IDX": 0
   },
   "start_time": "2025-05-14T16:10:09.880760",
   "version": "2.6.0"
  }
 },
 "nbformat": 4,
 "nbformat_minor": 5
}