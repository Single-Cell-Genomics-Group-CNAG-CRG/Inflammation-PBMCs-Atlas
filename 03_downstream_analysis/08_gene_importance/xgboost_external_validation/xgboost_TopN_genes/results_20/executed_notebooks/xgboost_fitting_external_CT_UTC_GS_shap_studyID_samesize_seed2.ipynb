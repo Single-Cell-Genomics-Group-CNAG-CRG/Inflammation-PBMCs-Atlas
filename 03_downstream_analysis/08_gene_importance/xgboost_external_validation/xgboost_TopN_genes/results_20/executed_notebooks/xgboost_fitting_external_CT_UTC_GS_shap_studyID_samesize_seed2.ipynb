{
 "cells": [
  {
   "cell_type": "code",
   "execution_count": 1,
   "id": "dfda0e33",
   "metadata": {
    "editable": true,
    "execution": {
     "iopub.execute_input": "2025-06-13T13:08:07.562984Z",
     "iopub.status.busy": "2025-06-13T13:08:07.562637Z",
     "iopub.status.idle": "2025-06-13T13:08:07.565638Z",
     "shell.execute_reply": "2025-06-13T13:08:07.565333Z"
    },
    "papermill": {
     "duration": 0.011072,
     "end_time": "2025-06-13T13:08:07.566546",
     "exception": false,
     "start_time": "2025-06-13T13:08:07.555474",
     "status": "completed"
    },
    "slideshow": {
     "slide_type": ""
    },
    "tags": [
     "parameters"
    ]
   },
   "outputs": [],
   "source": [
    "CELL_TYPE = 'pDC'\n",
    "N_GENES: int = 20\n",
    "SEED = 'shap_studyID' #'disease_NOstudy' 'study_NOdisease' or 'int' or 'shap_studyID'\n",
    "TEST_SPLIT_IDX: int = 1 #[0,4]"
   ]
  },
  {
   "cell_type": "code",
   "execution_count": 2,
   "id": "ad6ec3d7",
   "metadata": {
    "execution": {
     "iopub.execute_input": "2025-06-13T13:08:07.578371Z",
     "iopub.status.busy": "2025-06-13T13:08:07.578165Z",
     "iopub.status.idle": "2025-06-13T13:08:07.580214Z",
     "shell.execute_reply": "2025-06-13T13:08:07.579922Z"
    },
    "papermill": {
     "duration": 0.009037,
     "end_time": "2025-06-13T13:08:07.581006",
     "exception": false,
     "start_time": "2025-06-13T13:08:07.571969",
     "status": "completed"
    },
    "tags": [
     "injected-parameters"
    ]
   },
   "outputs": [],
   "source": [
    "# Parameters\n",
    "CELL_TYPE = \"UTC\"\n",
    "SEED = \"shap_studyID_samesize\"\n",
    "TEST_SPLIT_IDX = 2\n"
   ]
  },
  {
   "cell_type": "code",
   "execution_count": 3,
   "id": "8c6a0380",
   "metadata": {
    "execution": {
     "iopub.execute_input": "2025-06-13T13:08:07.594971Z",
     "iopub.status.busy": "2025-06-13T13:08:07.594763Z",
     "iopub.status.idle": "2025-06-13T13:08:07.596796Z",
     "shell.execute_reply": "2025-06-13T13:08:07.596500Z"
    },
    "papermill": {
     "duration": 0.008391,
     "end_time": "2025-06-13T13:08:07.597615",
     "exception": false,
     "start_time": "2025-06-13T13:08:07.589224",
     "status": "completed"
    },
    "tags": []
   },
   "outputs": [],
   "source": [
    "N_SPLITS: int = 5\n",
    "N_TRIALS: int = 50"
   ]
  },
  {
   "cell_type": "code",
   "execution_count": 4,
   "id": "99abb35f",
   "metadata": {
    "execution": {
     "iopub.execute_input": "2025-06-13T13:08:07.609048Z",
     "iopub.status.busy": "2025-06-13T13:08:07.608799Z",
     "iopub.status.idle": "2025-06-13T13:08:09.968810Z",
     "shell.execute_reply": "2025-06-13T13:08:09.968330Z"
    },
    "papermill": {
     "duration": 2.367611,
     "end_time": "2025-06-13T13:08:09.970203",
     "exception": false,
     "start_time": "2025-06-13T13:08:07.602592",
     "status": "completed"
    },
    "tags": []
   },
   "outputs": [],
   "source": [
    "import os\n",
    "import sys\n",
    "from pyprojroot.here import here\n",
    "import pandas as pd\n",
    "import anndata as ad\n",
    "import numpy as np\n",
    "import math\n",
    "from sklearn.model_selection import StratifiedGroupKFold\n",
    "from sklearn.preprocessing import LabelEncoder\n",
    "from sklearn.metrics import f1_score\n",
    "import matplotlib.pyplot as plt\n",
    "import seaborn as sns\n",
    "from itertools import product\n",
    "from sklearn.metrics import balanced_accuracy_score, f1_score\n",
    "import optuna\n",
    "\n",
    "import joblib\n",
    "import pickle\n",
    "import datetime\n",
    "\n",
    "import collections\n",
    "\n",
    "import xgboost\n",
    "from sklearn.preprocessing import LabelEncoder\n",
    "\n",
    "import scipy.sparse as ssp\n",
    "import joblib\n",
    "\n",
    "from dotenv import load_dotenv"
   ]
  },
  {
   "cell_type": "code",
   "execution_count": 5,
   "id": "2d6c2895",
   "metadata": {
    "execution": {
     "iopub.execute_input": "2025-06-13T13:08:09.987206Z",
     "iopub.status.busy": "2025-06-13T13:08:09.986827Z",
     "iopub.status.idle": "2025-06-13T13:08:09.992606Z",
     "shell.execute_reply": "2025-06-13T13:08:09.992296Z"
    },
    "papermill": {
     "duration": 0.012728,
     "end_time": "2025-06-13T13:08:09.993487",
     "exception": false,
     "start_time": "2025-06-13T13:08:09.980759",
     "status": "completed"
    },
    "tags": []
   },
   "outputs": [
    {
     "data": {
      "text/plain": [
       "True"
      ]
     },
     "execution_count": 5,
     "metadata": {},
     "output_type": "execute_result"
    }
   ],
   "source": [
    "load_dotenv()"
   ]
  },
  {
   "cell_type": "markdown",
   "id": "1ae8243f",
   "metadata": {
    "papermill": {
     "duration": 0.005108,
     "end_time": "2025-06-13T13:08:10.003736",
     "exception": false,
     "start_time": "2025-06-13T13:08:09.998628",
     "status": "completed"
    },
    "tags": []
   },
   "source": [
    "# LOAD DATASET"
   ]
  },
  {
   "cell_type": "code",
   "execution_count": 6,
   "id": "356937de",
   "metadata": {
    "execution": {
     "iopub.execute_input": "2025-06-13T13:08:10.015320Z",
     "iopub.status.busy": "2025-06-13T13:08:10.015129Z",
     "iopub.status.idle": "2025-06-13T13:08:10.154371Z",
     "shell.execute_reply": "2025-06-13T13:08:10.153894Z"
    },
    "papermill": {
     "duration": 0.146433,
     "end_time": "2025-06-13T13:08:10.155829",
     "exception": false,
     "start_time": "2025-06-13T13:08:10.009396",
     "status": "completed"
    },
    "tags": []
   },
   "outputs": [],
   "source": [
    "train_adata = ad.read_h5ad(\n",
    "    here(f'03_downstream_analysis/08_gene_importance/xgboost_external_validation/xgboost_TopN_genes/data_cellTypes/EXTERNAL_{CELL_TYPE}.filtered.log1p.h5ad')\n",
    ")"
   ]
  },
  {
   "cell_type": "code",
   "execution_count": 7,
   "id": "13426c21",
   "metadata": {
    "execution": {
     "iopub.execute_input": "2025-06-13T13:08:10.173137Z",
     "iopub.status.busy": "2025-06-13T13:08:10.172465Z",
     "iopub.status.idle": "2025-06-13T13:08:10.185939Z",
     "shell.execute_reply": "2025-06-13T13:08:10.185525Z"
    },
    "papermill": {
     "duration": 0.021021,
     "end_time": "2025-06-13T13:08:10.186809",
     "exception": false,
     "start_time": "2025-06-13T13:08:10.165788",
     "status": "completed"
    },
    "tags": []
   },
   "outputs": [
    {
     "name": "stdout",
     "output_type": "stream",
     "text": [
      "['ENSG00000110324' 'ENSG00000106588' 'ENSG00000105329' 'ENSG00000175354'\n",
      " 'ENSG00000197111' 'ENSG00000108561' 'ENSG00000115073' 'ENSG00000265972'\n",
      " 'ENSG00000068796' 'ENSG00000170296' 'ENSG00000182287' 'ENSG00000125347'\n",
      " 'ENSG00000185650' 'ENSG00000243749' 'ENSG00000127528' 'ENSG00000181029'\n",
      " 'ENSG00000205220' 'ENSG00000243678' 'ENSG00000059728' 'ENSG00000152082'\n",
      " 'ENSG00000216490' 'ENSG00000076944' 'ENSG00000002549' 'ENSG00000153234'\n",
      " 'ENSG00000172936' 'ENSG00000188313' 'ENSG00000185885' 'ENSG00000135441'\n",
      " 'ENSG00000136156' 'ENSG00000184897' 'ENSG00000025708' 'ENSG00000184007'\n",
      " 'ENSG00000108622' 'ENSG00000206503' 'ENSG00000126524' 'ENSG00000123268'\n",
      " 'ENSG00000129084' 'ENSG00000219200' 'ENSG00000147168' 'ENSG00000175104'\n",
      " 'ENSG00000104671' 'ENSG00000140379' 'ENSG00000108774' 'ENSG00000143119'\n",
      " 'ENSG00000179094' 'ENSG00000204264' 'ENSG00000205542' 'ENSG00000120837'\n",
      " 'ENSG00000130522' 'ENSG00000213928' 'ENSG00000164104' 'ENSG00000171223'\n",
      " 'ENSG00000254772' 'ENSG00000244687' 'ENSG00000139289' 'ENSG00000101439'\n",
      " 'ENSG00000186395' 'ENSG00000173039' 'ENSG00000185338' 'ENSG00000203896'\n",
      " 'ENSG00000099624' 'ENSG00000101347' 'ENSG00000100902' 'ENSG00000165527'\n",
      " 'ENSG00000162368' 'ENSG00000111716' 'ENSG00000145912' 'ENSG00000172183'\n",
      " 'ENSG00000133639' 'ENSG00000103490' 'ENSG00000146457' 'ENSG00000170540'\n",
      " 'ENSG00000102524' 'ENSG00000123416' 'ENSG00000125534' 'ENSG00000277734'\n",
      " 'ENSG00000065978' 'ENSG00000143546' 'ENSG00000066136' 'ENSG00000100906'\n",
      " 'ENSG00000125148' 'ENSG00000185883' 'ENSG00000163220' 'ENSG00000121774'\n",
      " 'ENSG00000122359' 'ENSG00000177606' 'ENSG00000198668' 'ENSG00000241837'\n",
      " 'ENSG00000169564' 'ENSG00000159110' 'ENSG00000127314' 'ENSG00000138674'\n",
      " 'ENSG00000072958' 'ENSG00000143543' 'ENSG00000069399' 'ENSG00000090382'\n",
      " 'ENSG00000158050' 'ENSG00000258315' 'ENSG00000051523' 'ENSG00000076662'\n",
      " 'ENSG00000088986' 'ENSG00000075785' 'ENSG00000125740' 'ENSG00000204267'\n",
      " 'ENSG00000242616' 'ENSG00000141506' 'ENSG00000186010' 'ENSG00000239697'\n",
      " 'ENSG00000105583' 'ENSG00000143933' 'ENSG00000152234' 'ENSG00000277791'\n",
      " 'ENSG00000117523' 'ENSG00000175482' 'ENSG00000132475']\n"
     ]
    }
   ],
   "source": [
    "if SEED != 'all':\n",
    "    gene_subset = np.load(here(f'03_downstream_analysis/08_gene_importance/xgboost_external_validation/shap_gene_selection/gene_subsets_{N_GENES}/{CELL_TYPE}_{SEED}.npy'), allow_pickle=True)\n",
    "    train_adata = train_adata[:,gene_subset]\n",
    "    print(gene_subset)\n",
    "elif SEED == 'all':\n",
    "    print('Using all genes')\n",
    "else:\n",
    "    raise ValueError()"
   ]
  },
  {
   "cell_type": "code",
   "execution_count": 8,
   "id": "c9a885cd",
   "metadata": {
    "execution": {
     "iopub.execute_input": "2025-06-13T13:08:10.198780Z",
     "iopub.status.busy": "2025-06-13T13:08:10.198326Z",
     "iopub.status.idle": "2025-06-13T13:08:10.201600Z",
     "shell.execute_reply": "2025-06-13T13:08:10.201271Z"
    },
    "papermill": {
     "duration": 0.010424,
     "end_time": "2025-06-13T13:08:10.202437",
     "exception": false,
     "start_time": "2025-06-13T13:08:10.192013",
     "status": "completed"
    },
    "tags": []
   },
   "outputs": [
    {
     "data": {
      "text/plain": [
       "(14828, 115)"
      ]
     },
     "execution_count": 8,
     "metadata": {},
     "output_type": "execute_result"
    }
   ],
   "source": [
    "train_adata.shape"
   ]
  },
  {
   "cell_type": "code",
   "execution_count": 9,
   "id": "0e2af6fe",
   "metadata": {
    "execution": {
     "iopub.execute_input": "2025-06-13T13:08:10.216214Z",
     "iopub.status.busy": "2025-06-13T13:08:10.215985Z",
     "iopub.status.idle": "2025-06-13T13:08:10.219540Z",
     "shell.execute_reply": "2025-06-13T13:08:10.219243Z"
    },
    "papermill": {
     "duration": 0.010177,
     "end_time": "2025-06-13T13:08:10.220326",
     "exception": false,
     "start_time": "2025-06-13T13:08:10.210149",
     "status": "completed"
    },
    "tags": []
   },
   "outputs": [
    {
     "data": {
      "text/plain": [
       "['RA', 'COVID', 'healthy', 'HIV', 'cirrhosis', 'CD', 'SLE', 'sepsis']\n",
       "Categories (8, object): ['CD', 'COVID', 'HIV', 'RA', 'SLE', 'cirrhosis', 'healthy', 'sepsis']"
      ]
     },
     "execution_count": 9,
     "metadata": {},
     "output_type": "execute_result"
    }
   ],
   "source": [
    "train_adata.obs.disease.unique()"
   ]
  },
  {
   "cell_type": "code",
   "execution_count": 10,
   "id": "f650713c",
   "metadata": {
    "execution": {
     "iopub.execute_input": "2025-06-13T13:08:10.232600Z",
     "iopub.status.busy": "2025-06-13T13:08:10.232393Z",
     "iopub.status.idle": "2025-06-13T13:08:10.235971Z",
     "shell.execute_reply": "2025-06-13T13:08:10.235674Z"
    },
    "papermill": {
     "duration": 0.010818,
     "end_time": "2025-06-13T13:08:10.236779",
     "exception": false,
     "start_time": "2025-06-13T13:08:10.225961",
     "status": "completed"
    },
    "tags": []
   },
   "outputs": [
    {
     "data": {
      "text/plain": [
       "['SCGT00val_I0364_T0', 'SCGT00val_I036016_T0', 'SCGT00val_I036021_T0', 'SCGT00val_I036015_T0', 'SCGT00val_I036023_T0', ..., '10XGenomics_10XHC2_T0', '10XGenomics_10XHC3_T0', '10XGenomics_10XHC5_T0', '10XGenomics_10XHC7_T0', '10XGenomics_10XHC8_T0']\n",
       "Length: 86\n",
       "Categories (86, object): ['10XGenomics_10XHC1_T0', '10XGenomics_10XHC2_T0', '10XGenomics_10XHC3_T0', '10XGenomics_10XHC4_T0', ..., 'Savage2021_BRISL6_T0', 'Savage2021_BRISL7_T0', 'Savage2021_PIDA_T0', 'Savage2021_PIDB_T0']"
      ]
     },
     "execution_count": 10,
     "metadata": {},
     "output_type": "execute_result"
    }
   ],
   "source": [
    "train_adata.obs.sampleID.unique()"
   ]
  },
  {
   "cell_type": "code",
   "execution_count": 11,
   "id": "aeca30e4",
   "metadata": {
    "execution": {
     "iopub.execute_input": "2025-06-13T13:08:10.252211Z",
     "iopub.status.busy": "2025-06-13T13:08:10.251592Z",
     "iopub.status.idle": "2025-06-13T13:08:10.311583Z",
     "shell.execute_reply": "2025-06-13T13:08:10.311140Z"
    },
    "papermill": {
     "duration": 0.070946,
     "end_time": "2025-06-13T13:08:10.312997",
     "exception": false,
     "start_time": "2025-06-13T13:08:10.242051",
     "status": "completed"
    },
    "tags": []
   },
   "outputs": [],
   "source": [
    "all_idxs = np.arange(train_adata.obs.shape[0])\n",
    "left_out_splits = [s[1] for s in StratifiedGroupKFold(n_splits=N_SPLITS).split(all_idxs, train_adata.obs.disease, train_adata.obs.sampleID)]"
   ]
  },
  {
   "cell_type": "code",
   "execution_count": 12,
   "id": "d0149f69",
   "metadata": {
    "execution": {
     "iopub.execute_input": "2025-06-13T13:08:10.325485Z",
     "iopub.status.busy": "2025-06-13T13:08:10.325024Z",
     "iopub.status.idle": "2025-06-13T13:08:10.328772Z",
     "shell.execute_reply": "2025-06-13T13:08:10.328459Z"
    },
    "papermill": {
     "duration": 0.010786,
     "end_time": "2025-06-13T13:08:10.329567",
     "exception": false,
     "start_time": "2025-06-13T13:08:10.318781",
     "status": "completed"
    },
    "tags": []
   },
   "outputs": [
    {
     "data": {
      "text/plain": [
       "([0, 1, 4], 3, 2)"
      ]
     },
     "execution_count": 12,
     "metadata": {},
     "output_type": "execute_result"
    }
   ],
   "source": [
    "TRAIN_SPLIT_IDXS = [0,1,2,3,4]\n",
    "VAL_SPLIT_IDX = (TEST_SPLIT_IDX + 1) % 5\n",
    "TRAIN_SPLIT_IDXS.remove(TEST_SPLIT_IDX)\n",
    "TRAIN_SPLIT_IDXS.remove(VAL_SPLIT_IDX)\n",
    "TRAIN_SPLIT_IDXS, VAL_SPLIT_IDX, TEST_SPLIT_IDX"
   ]
  },
  {
   "cell_type": "code",
   "execution_count": 13,
   "id": "d50a6eb3",
   "metadata": {
    "execution": {
     "iopub.execute_input": "2025-06-13T13:08:10.346030Z",
     "iopub.status.busy": "2025-06-13T13:08:10.345571Z",
     "iopub.status.idle": "2025-06-13T13:08:10.348428Z",
     "shell.execute_reply": "2025-06-13T13:08:10.348131Z"
    },
    "papermill": {
     "duration": 0.014466,
     "end_time": "2025-06-13T13:08:10.349196",
     "exception": false,
     "start_time": "2025-06-13T13:08:10.334730",
     "status": "completed"
    },
    "tags": []
   },
   "outputs": [],
   "source": [
    "train_idxs = np.concatenate([left_out_splits[idx] for idx in TRAIN_SPLIT_IDXS])\n",
    "val_idxs = left_out_splits[VAL_SPLIT_IDX]\n",
    "test_idxs = left_out_splits[TEST_SPLIT_IDX]"
   ]
  },
  {
   "cell_type": "markdown",
   "id": "f1d542a9",
   "metadata": {
    "papermill": {
     "duration": 0.005149,
     "end_time": "2025-06-13T13:08:10.359555",
     "exception": false,
     "start_time": "2025-06-13T13:08:10.354406",
     "status": "completed"
    },
    "tags": []
   },
   "source": [
    "### SUBSET DATASET INTO TRAIN/TEST/VAL SPLITS"
   ]
  },
  {
   "cell_type": "code",
   "execution_count": 14,
   "id": "88be267b",
   "metadata": {
    "execution": {
     "iopub.execute_input": "2025-06-13T13:08:10.371046Z",
     "iopub.status.busy": "2025-06-13T13:08:10.370730Z",
     "iopub.status.idle": "2025-06-13T13:08:10.420896Z",
     "shell.execute_reply": "2025-06-13T13:08:10.420539Z"
    },
    "papermill": {
     "duration": 0.056907,
     "end_time": "2025-06-13T13:08:10.421769",
     "exception": false,
     "start_time": "2025-06-13T13:08:10.364862",
     "status": "completed"
    },
    "tags": []
   },
   "outputs": [
    {
     "data": {
      "text/plain": [
       "((8646, 115), (3316, 115), (2866, 115))"
      ]
     },
     "execution_count": 14,
     "metadata": {},
     "output_type": "execute_result"
    }
   ],
   "source": [
    "X_train = train_adata.X[train_idxs]\n",
    "X_test = train_adata.X[test_idxs]\n",
    "X_val = train_adata.X[val_idxs]\n",
    "X_train.shape, X_test.shape, X_val.shape"
   ]
  },
  {
   "cell_type": "code",
   "execution_count": 15,
   "id": "bf60f502",
   "metadata": {
    "execution": {
     "iopub.execute_input": "2025-06-13T13:08:10.441601Z",
     "iopub.status.busy": "2025-06-13T13:08:10.441018Z",
     "iopub.status.idle": "2025-06-13T13:08:10.447219Z",
     "shell.execute_reply": "2025-06-13T13:08:10.446920Z"
    },
    "papermill": {
     "duration": 0.02039,
     "end_time": "2025-06-13T13:08:10.448020",
     "exception": false,
     "start_time": "2025-06-13T13:08:10.427630",
     "status": "completed"
    },
    "tags": []
   },
   "outputs": [
    {
     "data": {
      "text/plain": [
       "((8646,), (3316,), (2866,))"
      ]
     },
     "execution_count": 15,
     "metadata": {},
     "output_type": "execute_result"
    }
   ],
   "source": [
    "y_train = train_adata.obs.iloc[train_idxs].disease.values.astype(str)\n",
    "y_test = train_adata.obs.iloc[test_idxs].disease.values.astype(str)\n",
    "y_val = train_adata.obs.iloc[val_idxs].disease.values.astype(str)\n",
    "y_train.shape, y_test.shape, y_val.shape"
   ]
  },
  {
   "cell_type": "code",
   "execution_count": 16,
   "id": "4abf62b1",
   "metadata": {
    "execution": {
     "iopub.execute_input": "2025-06-13T13:08:10.460978Z",
     "iopub.status.busy": "2025-06-13T13:08:10.460571Z",
     "iopub.status.idle": "2025-06-13T13:08:10.466122Z",
     "shell.execute_reply": "2025-06-13T13:08:10.465715Z"
    },
    "papermill": {
     "duration": 0.013022,
     "end_time": "2025-06-13T13:08:10.467006",
     "exception": false,
     "start_time": "2025-06-13T13:08:10.453984",
     "status": "completed"
    },
    "tags": []
   },
   "outputs": [],
   "source": [
    "lenc = LabelEncoder()\n",
    "y_train_enc = lenc.fit_transform(y_train)\n",
    "y_val_enc = lenc.transform(y_val)\n",
    "y_test_enc = lenc.transform(y_test)"
   ]
  },
  {
   "cell_type": "markdown",
   "id": "7c8c3f8f",
   "metadata": {
    "papermill": {
     "duration": 0.008034,
     "end_time": "2025-06-13T13:08:10.480547",
     "exception": false,
     "start_time": "2025-06-13T13:08:10.472513",
     "status": "completed"
    },
    "tags": []
   },
   "source": [
    "### GENERATE F1 "
   ]
  },
  {
   "cell_type": "code",
   "execution_count": 17,
   "id": "6bd6764e",
   "metadata": {
    "execution": {
     "iopub.execute_input": "2025-06-13T13:08:10.492690Z",
     "iopub.status.busy": "2025-06-13T13:08:10.492560Z",
     "iopub.status.idle": "2025-06-13T13:08:10.494898Z",
     "shell.execute_reply": "2025-06-13T13:08:10.494604Z"
    },
    "papermill": {
     "duration": 0.009451,
     "end_time": "2025-06-13T13:08:10.495771",
     "exception": false,
     "start_time": "2025-06-13T13:08:10.486320",
     "status": "completed"
    },
    "tags": []
   },
   "outputs": [],
   "source": [
    "def custom_f1_score(y_true, y_pred):\n",
    "    return -f1_score(y_true, y_pred.argmax(1), average='weighted')"
   ]
  },
  {
   "cell_type": "code",
   "execution_count": 18,
   "id": "66a3ba13",
   "metadata": {
    "execution": {
     "iopub.execute_input": "2025-06-13T13:08:10.508520Z",
     "iopub.status.busy": "2025-06-13T13:08:10.508297Z",
     "iopub.status.idle": "2025-06-13T13:08:10.511799Z",
     "shell.execute_reply": "2025-06-13T13:08:10.511466Z"
    },
    "papermill": {
     "duration": 0.011027,
     "end_time": "2025-06-13T13:08:10.512600",
     "exception": false,
     "start_time": "2025-06-13T13:08:10.501573",
     "status": "completed"
    },
    "tags": []
   },
   "outputs": [],
   "source": [
    "eval_metric=custom_f1_score\n",
    "eval_metric_name='custom_f1_score'\n",
    "\n",
    "def objective(trial):\n",
    "    params = {\n",
    "        'n_estimators': 1500,\n",
    "        'max_depth': trial.suggest_int('max_depth', 3, 20),\n",
    "        'min_child_weight': trial.suggest_int('min_child_weight', 1, 250),\n",
    "        'subsample': trial.suggest_float('subsample', 0.1, 1.0),\n",
    "        'colsample_bynode': trial.suggest_float('colsample_bynode', 0.1, 1.0),\n",
    "        'learning_rate': trial.suggest_float('learning_rate', 1e-3, 5e-1, log=True),\n",
    "    }\n",
    "    pruning_callback = optuna.integration.XGBoostPruningCallback(trial, f'validation_0-{eval_metric_name}')\n",
    "    es_callback = xgboost.callback.EarlyStopping(20, min_delta=0.001)\n",
    "    xgb = xgboost.XGBClassifier(\n",
    "        eval_metric=eval_metric,\n",
    "        callbacks=[pruning_callback, es_callback],\n",
    "        n_jobs=5,\n",
    "        **params\n",
    "    )\n",
    "    xgb.fit(\n",
    "        X_train, \n",
    "        y_train_enc, \n",
    "        verbose=0,\n",
    "        eval_set=[(X_val, y_val_enc)],\n",
    "    )\n",
    "    trial.set_user_attr('best_iteration', xgb.best_iteration)\n",
    "\n",
    "    return xgb.best_score"
   ]
  },
  {
   "cell_type": "code",
   "execution_count": 19,
   "id": "a9a0e148",
   "metadata": {
    "execution": {
     "iopub.execute_input": "2025-06-13T13:08:10.533476Z",
     "iopub.status.busy": "2025-06-13T13:08:10.533293Z",
     "iopub.status.idle": "2025-06-13T13:09:37.493520Z",
     "shell.execute_reply": "2025-06-13T13:09:37.493107Z"
    },
    "papermill": {
     "duration": 86.974564,
     "end_time": "2025-06-13T13:09:37.494473",
     "exception": false,
     "start_time": "2025-06-13T13:08:10.519909",
     "status": "completed"
    },
    "scrolled": true,
    "tags": []
   },
   "outputs": [
    {
     "name": "stderr",
     "output_type": "stream",
     "text": [
      "[I 2025-06-13 15:08:10,534] A new study created in memory with name: no-name-73422c73-9acb-4c89-b88e-509bc2d9e4bc\n"
     ]
    },
    {
     "name": "stderr",
     "output_type": "stream",
     "text": [
      "[I 2025-06-13 15:08:11,259] Trial 0 finished with value: -0.692742 and parameters: {'max_depth': 9, 'min_child_weight': 238, 'subsample': 0.7587945476302645, 'colsample_bynode': 0.6387926357773329, 'learning_rate': 0.0026368755339723046}. Best is trial 0 with value: -0.692742.\n"
     ]
    },
    {
     "name": "stderr",
     "output_type": "stream",
     "text": [
      "[I 2025-06-13 15:08:18,272] Trial 1 finished with value: -0.862131 and parameters: {'max_depth': 5, 'min_child_weight': 15, 'subsample': 0.8795585311974417, 'colsample_bynode': 0.6410035105688879, 'learning_rate': 0.08148293210105287}. Best is trial 1 with value: -0.862131.\n"
     ]
    },
    {
     "name": "stderr",
     "output_type": "stream",
     "text": [
      "[I 2025-06-13 15:08:19,002] Trial 2 finished with value: -0.718037 and parameters: {'max_depth': 3, 'min_child_weight': 243, 'subsample': 0.8491983767203796, 'colsample_bynode': 0.29110519961044856, 'learning_rate': 0.003095566460242371}. Best is trial 1 with value: -0.862131.\n"
     ]
    },
    {
     "name": "stderr",
     "output_type": "stream",
     "text": [
      "[I 2025-06-13 15:08:21,155] Trial 3 finished with value: -0.744915 and parameters: {'max_depth': 6, 'min_child_weight': 77, 'subsample': 0.5722807884690141, 'colsample_bynode': 0.48875051677790415, 'learning_rate': 0.006109683510122491}. Best is trial 1 with value: -0.862131.\n"
     ]
    },
    {
     "name": "stderr",
     "output_type": "stream",
     "text": [
      "[I 2025-06-13 15:08:26,497] Trial 4 finished with value: -0.783492 and parameters: {'max_depth': 14, 'min_child_weight': 35, 'subsample': 0.3629301836816964, 'colsample_bynode': 0.4297256589643226, 'learning_rate': 0.01701841881702917}. Best is trial 1 with value: -0.862131.\n"
     ]
    },
    {
     "name": "stderr",
     "output_type": "stream",
     "text": [
      "[I 2025-06-13 15:08:27,684] Trial 5 pruned. Trial was pruned at iteration 23.\n"
     ]
    },
    {
     "name": "stderr",
     "output_type": "stream",
     "text": [
      "[I 2025-06-13 15:08:27,824] Trial 6 pruned. Trial was pruned at iteration 0.\n"
     ]
    },
    {
     "name": "stderr",
     "output_type": "stream",
     "text": [
      "[I 2025-06-13 15:08:27,953] Trial 7 pruned. Trial was pruned at iteration 0.\n"
     ]
    },
    {
     "name": "stderr",
     "output_type": "stream",
     "text": [
      "[I 2025-06-13 15:08:28,070] Trial 8 pruned. Trial was pruned at iteration 0.\n"
     ]
    },
    {
     "name": "stderr",
     "output_type": "stream",
     "text": [
      "[I 2025-06-13 15:08:28,300] Trial 9 pruned. Trial was pruned at iteration 3.\n"
     ]
    },
    {
     "name": "stderr",
     "output_type": "stream",
     "text": [
      "[I 2025-06-13 15:08:33,935] Trial 10 finished with value: -0.863373 and parameters: {'max_depth': 9, 'min_child_weight': 2, 'subsample': 0.9725833997090791, 'colsample_bynode': 0.11616568805333755, 'learning_rate': 0.17780618353487967}. Best is trial 10 with value: -0.863373.\n"
     ]
    },
    {
     "name": "stderr",
     "output_type": "stream",
     "text": [
      "[I 2025-06-13 15:08:40,258] Trial 11 finished with value: -0.866592 and parameters: {'max_depth': 9, 'min_child_weight': 4, 'subsample': 0.9818290990185045, 'colsample_bynode': 0.17702656156719, 'learning_rate': 0.11568531411766632}. Best is trial 11 with value: -0.866592.\n"
     ]
    },
    {
     "name": "stderr",
     "output_type": "stream",
     "text": [
      "[I 2025-06-13 15:08:44,912] Trial 12 pruned. Trial was pruned at iteration 72.\n"
     ]
    },
    {
     "name": "stderr",
     "output_type": "stream",
     "text": [
      "[I 2025-06-13 15:08:45,078] Trial 13 pruned. Trial was pruned at iteration 0.\n"
     ]
    },
    {
     "name": "stderr",
     "output_type": "stream",
     "text": [
      "[I 2025-06-13 15:08:45,237] Trial 14 pruned. Trial was pruned at iteration 0.\n"
     ]
    },
    {
     "name": "stderr",
     "output_type": "stream",
     "text": [
      "[I 2025-06-13 15:08:51,354] Trial 15 pruned. Trial was pruned at iteration 48.\n"
     ]
    },
    {
     "name": "stderr",
     "output_type": "stream",
     "text": [
      "[I 2025-06-13 15:08:51,534] Trial 16 pruned. Trial was pruned at iteration 0.\n"
     ]
    },
    {
     "name": "stderr",
     "output_type": "stream",
     "text": [
      "[I 2025-06-13 15:08:51,676] Trial 17 pruned. Trial was pruned at iteration 0.\n"
     ]
    },
    {
     "name": "stderr",
     "output_type": "stream",
     "text": [
      "[I 2025-06-13 15:08:55,113] Trial 18 finished with value: -0.855651 and parameters: {'max_depth': 12, 'min_child_weight': 35, 'subsample': 0.8272602031120428, 'colsample_bynode': 0.8109691196781996, 'learning_rate': 0.20046188160978387}. Best is trial 11 with value: -0.866592.\n"
     ]
    },
    {
     "name": "stderr",
     "output_type": "stream",
     "text": [
      "[I 2025-06-13 15:08:55,272] Trial 19 pruned. Trial was pruned at iteration 0.\n"
     ]
    },
    {
     "name": "stderr",
     "output_type": "stream",
     "text": [
      "[I 2025-06-13 15:08:55,433] Trial 20 pruned. Trial was pruned at iteration 0.\n"
     ]
    },
    {
     "name": "stderr",
     "output_type": "stream",
     "text": [
      "[I 2025-06-13 15:08:56,365] Trial 21 pruned. Trial was pruned at iteration 22.\n"
     ]
    },
    {
     "name": "stderr",
     "output_type": "stream",
     "text": [
      "[I 2025-06-13 15:08:57,804] Trial 22 pruned. Trial was pruned at iteration 34.\n"
     ]
    },
    {
     "name": "stderr",
     "output_type": "stream",
     "text": [
      "[I 2025-06-13 15:08:57,965] Trial 23 pruned. Trial was pruned at iteration 0.\n"
     ]
    },
    {
     "name": "stderr",
     "output_type": "stream",
     "text": [
      "[I 2025-06-13 15:09:00,728] Trial 24 pruned. Trial was pruned at iteration 33.\n"
     ]
    },
    {
     "name": "stderr",
     "output_type": "stream",
     "text": [
      "[I 2025-06-13 15:09:00,905] Trial 25 pruned. Trial was pruned at iteration 0.\n"
     ]
    },
    {
     "name": "stderr",
     "output_type": "stream",
     "text": [
      "[I 2025-06-13 15:09:01,160] Trial 26 pruned. Trial was pruned at iteration 2.\n"
     ]
    },
    {
     "name": "stderr",
     "output_type": "stream",
     "text": [
      "[I 2025-06-13 15:09:01,335] Trial 27 pruned. Trial was pruned at iteration 0.\n"
     ]
    },
    {
     "name": "stderr",
     "output_type": "stream",
     "text": [
      "[I 2025-06-13 15:09:01,498] Trial 28 pruned. Trial was pruned at iteration 0.\n"
     ]
    },
    {
     "name": "stderr",
     "output_type": "stream",
     "text": [
      "[I 2025-06-13 15:09:01,661] Trial 29 pruned. Trial was pruned at iteration 0.\n"
     ]
    },
    {
     "name": "stderr",
     "output_type": "stream",
     "text": [
      "[I 2025-06-13 15:09:01,822] Trial 30 pruned. Trial was pruned at iteration 0.\n"
     ]
    },
    {
     "name": "stderr",
     "output_type": "stream",
     "text": [
      "[I 2025-06-13 15:09:06,316] Trial 31 finished with value: -0.861828 and parameters: {'max_depth': 13, 'min_child_weight': 36, 'subsample': 0.8035220760251596, 'colsample_bynode': 0.8134038418722702, 'learning_rate': 0.21065044478981804}. Best is trial 11 with value: -0.866592.\n"
     ]
    },
    {
     "name": "stderr",
     "output_type": "stream",
     "text": [
      "[I 2025-06-13 15:09:10,919] Trial 32 finished with value: -0.865914 and parameters: {'max_depth': 13, 'min_child_weight': 17, 'subsample': 0.8617831425142481, 'colsample_bynode': 0.8049811789844026, 'learning_rate': 0.2883949791777276}. Best is trial 11 with value: -0.866592.\n"
     ]
    },
    {
     "name": "stderr",
     "output_type": "stream",
     "text": [
      "[I 2025-06-13 15:09:14,697] Trial 33 finished with value: -0.867392 and parameters: {'max_depth': 15, 'min_child_weight': 18, 'subsample': 0.8684622886790289, 'colsample_bynode': 0.761521573901601, 'learning_rate': 0.27618195550192615}. Best is trial 33 with value: -0.867392.\n"
     ]
    },
    {
     "name": "stderr",
     "output_type": "stream",
     "text": [
      "[I 2025-06-13 15:09:14,883] Trial 34 pruned. Trial was pruned at iteration 0.\n"
     ]
    },
    {
     "name": "stderr",
     "output_type": "stream",
     "text": [
      "[I 2025-06-13 15:09:18,537] Trial 35 finished with value: -0.866732 and parameters: {'max_depth': 16, 'min_child_weight': 15, 'subsample': 0.7435711340821909, 'colsample_bynode': 0.770448764331416, 'learning_rate': 0.31446700826063195}. Best is trial 33 with value: -0.867392.\n"
     ]
    },
    {
     "name": "stderr",
     "output_type": "stream",
     "text": [
      "[I 2025-06-13 15:09:18,750] Trial 36 pruned. Trial was pruned at iteration 0.\n"
     ]
    },
    {
     "name": "stderr",
     "output_type": "stream",
     "text": [
      "[I 2025-06-13 15:09:18,921] Trial 37 pruned. Trial was pruned at iteration 0.\n"
     ]
    },
    {
     "name": "stderr",
     "output_type": "stream",
     "text": [
      "[I 2025-06-13 15:09:19,096] Trial 38 pruned. Trial was pruned at iteration 0.\n"
     ]
    },
    {
     "name": "stderr",
     "output_type": "stream",
     "text": [
      "[I 2025-06-13 15:09:19,275] Trial 39 pruned. Trial was pruned at iteration 0.\n"
     ]
    },
    {
     "name": "stderr",
     "output_type": "stream",
     "text": [
      "[I 2025-06-13 15:09:19,455] Trial 40 pruned. Trial was pruned at iteration 0.\n"
     ]
    },
    {
     "name": "stderr",
     "output_type": "stream",
     "text": [
      "[I 2025-06-13 15:09:24,619] Trial 41 finished with value: -0.860632 and parameters: {'max_depth': 13, 'min_child_weight': 7, 'subsample': 0.9403998972813437, 'colsample_bynode': 0.7062022421867098, 'learning_rate': 0.21796008875557243}. Best is trial 33 with value: -0.867392.\n"
     ]
    },
    {
     "name": "stderr",
     "output_type": "stream",
     "text": [
      "[I 2025-06-13 15:09:27,744] Trial 42 finished with value: -0.862137 and parameters: {'max_depth': 12, 'min_child_weight': 13, 'subsample': 0.9508096996602109, 'colsample_bynode': 0.8651394412716757, 'learning_rate': 0.4922936642455522}. Best is trial 33 with value: -0.867392.\n"
     ]
    },
    {
     "name": "stderr",
     "output_type": "stream",
     "text": [
      "[I 2025-06-13 15:09:27,897] Trial 43 pruned. Trial was pruned at iteration 0.\n"
     ]
    },
    {
     "name": "stderr",
     "output_type": "stream",
     "text": [
      "[I 2025-06-13 15:09:32,197] Trial 44 finished with value: -0.865814 and parameters: {'max_depth': 17, 'min_child_weight': 11, 'subsample': 0.9045269254726728, 'colsample_bynode': 0.613482894477043, 'learning_rate': 0.2543801248828411}. Best is trial 33 with value: -0.867392.\n"
     ]
    },
    {
     "name": "stderr",
     "output_type": "stream",
     "text": [
      "[I 2025-06-13 15:09:36,693] Trial 45 finished with value: -0.870688 and parameters: {'max_depth': 18, 'min_child_weight': 12, 'subsample': 0.850459071070643, 'colsample_bynode': 0.6164540647956869, 'learning_rate': 0.26815532619100363}. Best is trial 45 with value: -0.870688.\n"
     ]
    },
    {
     "name": "stderr",
     "output_type": "stream",
     "text": [
      "[I 2025-06-13 15:09:36,863] Trial 46 pruned. Trial was pruned at iteration 0.\n"
     ]
    },
    {
     "name": "stderr",
     "output_type": "stream",
     "text": [
      "[I 2025-06-13 15:09:37,052] Trial 47 pruned. Trial was pruned at iteration 0.\n"
     ]
    },
    {
     "name": "stderr",
     "output_type": "stream",
     "text": [
      "[I 2025-06-13 15:09:37,252] Trial 48 pruned. Trial was pruned at iteration 0.\n"
     ]
    },
    {
     "name": "stderr",
     "output_type": "stream",
     "text": [
      "[I 2025-06-13 15:09:37,415] Trial 49 pruned. Trial was pruned at iteration 0.\n"
     ]
    }
   ],
   "source": [
    "sampler = optuna.samplers.TPESampler(seed=42)\n",
    "study = optuna.create_study(direction='minimize', sampler=sampler)\n",
    "study.optimize(objective, n_trials=N_TRIALS, gc_after_trial=True)"
   ]
  },
  {
   "cell_type": "code",
   "execution_count": 20,
   "id": "f0410042",
   "metadata": {
    "execution": {
     "iopub.execute_input": "2025-06-13T13:09:37.513860Z",
     "iopub.status.busy": "2025-06-13T13:09:37.513330Z",
     "iopub.status.idle": "2025-06-13T13:09:37.548088Z",
     "shell.execute_reply": "2025-06-13T13:09:37.547779Z"
    },
    "papermill": {
     "duration": 0.045066,
     "end_time": "2025-06-13T13:09:37.548923",
     "exception": false,
     "start_time": "2025-06-13T13:09:37.503857",
     "status": "completed"
    },
    "tags": []
   },
   "outputs": [
    {
     "data": {
      "text/plain": [
       "['/scratch_isilon/groups/singlecell/shared/projects/Inflammation-PBMCs-Atlas/03_downstream_analysis/08_gene_importance/xgboost_external_validation/xgboost_TopN_genes/results_20/study/UTC_shap_studyID_samesize_2_xgboost.pkl']"
      ]
     },
     "execution_count": 20,
     "metadata": {},
     "output_type": "execute_result"
    }
   ],
   "source": [
    "out_dir = here(f'03_downstream_analysis/08_gene_importance/xgboost_external_validation/xgboost_TopN_genes/results_{N_GENES}/study')\n",
    "\n",
    "if not os.path.exists(out_dir):\n",
    "    os.makedirs(out_dir)\n",
    "    \n",
    "joblib.dump(study,os.path.join(out_dir, f'{CELL_TYPE}_{SEED}_{TEST_SPLIT_IDX}_xgboost.pkl'))"
   ]
  },
  {
   "cell_type": "code",
   "execution_count": 21,
   "id": "6ef579ca",
   "metadata": {
    "execution": {
     "iopub.execute_input": "2025-06-13T13:09:37.581678Z",
     "iopub.status.busy": "2025-06-13T13:09:37.581378Z",
     "iopub.status.idle": "2025-06-13T13:09:41.972027Z",
     "shell.execute_reply": "2025-06-13T13:09:41.971617Z"
    },
    "papermill": {
     "duration": 4.415086,
     "end_time": "2025-06-13T13:09:41.973113",
     "exception": false,
     "start_time": "2025-06-13T13:09:37.558027",
     "status": "completed"
    },
    "tags": []
   },
   "outputs": [
    {
     "data": {
      "text/html": [
       "<style>#sk-container-id-1 {\n",
       "  /* Definition of color scheme common for light and dark mode */\n",
       "  --sklearn-color-text: black;\n",
       "  --sklearn-color-line: gray;\n",
       "  /* Definition of color scheme for unfitted estimators */\n",
       "  --sklearn-color-unfitted-level-0: #fff5e6;\n",
       "  --sklearn-color-unfitted-level-1: #f6e4d2;\n",
       "  --sklearn-color-unfitted-level-2: #ffe0b3;\n",
       "  --sklearn-color-unfitted-level-3: chocolate;\n",
       "  /* Definition of color scheme for fitted estimators */\n",
       "  --sklearn-color-fitted-level-0: #f0f8ff;\n",
       "  --sklearn-color-fitted-level-1: #d4ebff;\n",
       "  --sklearn-color-fitted-level-2: #b3dbfd;\n",
       "  --sklearn-color-fitted-level-3: cornflowerblue;\n",
       "\n",
       "  /* Specific color for light theme */\n",
       "  --sklearn-color-text-on-default-background: var(--sg-text-color, var(--theme-code-foreground, var(--jp-content-font-color1, black)));\n",
       "  --sklearn-color-background: var(--sg-background-color, var(--theme-background, var(--jp-layout-color0, white)));\n",
       "  --sklearn-color-border-box: var(--sg-text-color, var(--theme-code-foreground, var(--jp-content-font-color1, black)));\n",
       "  --sklearn-color-icon: #696969;\n",
       "\n",
       "  @media (prefers-color-scheme: dark) {\n",
       "    /* Redefinition of color scheme for dark theme */\n",
       "    --sklearn-color-text-on-default-background: var(--sg-text-color, var(--theme-code-foreground, var(--jp-content-font-color1, white)));\n",
       "    --sklearn-color-background: var(--sg-background-color, var(--theme-background, var(--jp-layout-color0, #111)));\n",
       "    --sklearn-color-border-box: var(--sg-text-color, var(--theme-code-foreground, var(--jp-content-font-color1, white)));\n",
       "    --sklearn-color-icon: #878787;\n",
       "  }\n",
       "}\n",
       "\n",
       "#sk-container-id-1 {\n",
       "  color: var(--sklearn-color-text);\n",
       "}\n",
       "\n",
       "#sk-container-id-1 pre {\n",
       "  padding: 0;\n",
       "}\n",
       "\n",
       "#sk-container-id-1 input.sk-hidden--visually {\n",
       "  border: 0;\n",
       "  clip: rect(1px 1px 1px 1px);\n",
       "  clip: rect(1px, 1px, 1px, 1px);\n",
       "  height: 1px;\n",
       "  margin: -1px;\n",
       "  overflow: hidden;\n",
       "  padding: 0;\n",
       "  position: absolute;\n",
       "  width: 1px;\n",
       "}\n",
       "\n",
       "#sk-container-id-1 div.sk-dashed-wrapped {\n",
       "  border: 1px dashed var(--sklearn-color-line);\n",
       "  margin: 0 0.4em 0.5em 0.4em;\n",
       "  box-sizing: border-box;\n",
       "  padding-bottom: 0.4em;\n",
       "  background-color: var(--sklearn-color-background);\n",
       "}\n",
       "\n",
       "#sk-container-id-1 div.sk-container {\n",
       "  /* jupyter's `normalize.less` sets `[hidden] { display: none; }`\n",
       "     but bootstrap.min.css set `[hidden] { display: none !important; }`\n",
       "     so we also need the `!important` here to be able to override the\n",
       "     default hidden behavior on the sphinx rendered scikit-learn.org.\n",
       "     See: https://github.com/scikit-learn/scikit-learn/issues/21755 */\n",
       "  display: inline-block !important;\n",
       "  position: relative;\n",
       "}\n",
       "\n",
       "#sk-container-id-1 div.sk-text-repr-fallback {\n",
       "  display: none;\n",
       "}\n",
       "\n",
       "div.sk-parallel-item,\n",
       "div.sk-serial,\n",
       "div.sk-item {\n",
       "  /* draw centered vertical line to link estimators */\n",
       "  background-image: linear-gradient(var(--sklearn-color-text-on-default-background), var(--sklearn-color-text-on-default-background));\n",
       "  background-size: 2px 100%;\n",
       "  background-repeat: no-repeat;\n",
       "  background-position: center center;\n",
       "}\n",
       "\n",
       "/* Parallel-specific style estimator block */\n",
       "\n",
       "#sk-container-id-1 div.sk-parallel-item::after {\n",
       "  content: \"\";\n",
       "  width: 100%;\n",
       "  border-bottom: 2px solid var(--sklearn-color-text-on-default-background);\n",
       "  flex-grow: 1;\n",
       "}\n",
       "\n",
       "#sk-container-id-1 div.sk-parallel {\n",
       "  display: flex;\n",
       "  align-items: stretch;\n",
       "  justify-content: center;\n",
       "  background-color: var(--sklearn-color-background);\n",
       "  position: relative;\n",
       "}\n",
       "\n",
       "#sk-container-id-1 div.sk-parallel-item {\n",
       "  display: flex;\n",
       "  flex-direction: column;\n",
       "}\n",
       "\n",
       "#sk-container-id-1 div.sk-parallel-item:first-child::after {\n",
       "  align-self: flex-end;\n",
       "  width: 50%;\n",
       "}\n",
       "\n",
       "#sk-container-id-1 div.sk-parallel-item:last-child::after {\n",
       "  align-self: flex-start;\n",
       "  width: 50%;\n",
       "}\n",
       "\n",
       "#sk-container-id-1 div.sk-parallel-item:only-child::after {\n",
       "  width: 0;\n",
       "}\n",
       "\n",
       "/* Serial-specific style estimator block */\n",
       "\n",
       "#sk-container-id-1 div.sk-serial {\n",
       "  display: flex;\n",
       "  flex-direction: column;\n",
       "  align-items: center;\n",
       "  background-color: var(--sklearn-color-background);\n",
       "  padding-right: 1em;\n",
       "  padding-left: 1em;\n",
       "}\n",
       "\n",
       "\n",
       "/* Toggleable style: style used for estimator/Pipeline/ColumnTransformer box that is\n",
       "clickable and can be expanded/collapsed.\n",
       "- Pipeline and ColumnTransformer use this feature and define the default style\n",
       "- Estimators will overwrite some part of the style using the `sk-estimator` class\n",
       "*/\n",
       "\n",
       "/* Pipeline and ColumnTransformer style (default) */\n",
       "\n",
       "#sk-container-id-1 div.sk-toggleable {\n",
       "  /* Default theme specific background. It is overwritten whether we have a\n",
       "  specific estimator or a Pipeline/ColumnTransformer */\n",
       "  background-color: var(--sklearn-color-background);\n",
       "}\n",
       "\n",
       "/* Toggleable label */\n",
       "#sk-container-id-1 label.sk-toggleable__label {\n",
       "  cursor: pointer;\n",
       "  display: block;\n",
       "  width: 100%;\n",
       "  margin-bottom: 0;\n",
       "  padding: 0.5em;\n",
       "  box-sizing: border-box;\n",
       "  text-align: center;\n",
       "}\n",
       "\n",
       "#sk-container-id-1 label.sk-toggleable__label-arrow:before {\n",
       "  /* Arrow on the left of the label */\n",
       "  content: \"▸\";\n",
       "  float: left;\n",
       "  margin-right: 0.25em;\n",
       "  color: var(--sklearn-color-icon);\n",
       "}\n",
       "\n",
       "#sk-container-id-1 label.sk-toggleable__label-arrow:hover:before {\n",
       "  color: var(--sklearn-color-text);\n",
       "}\n",
       "\n",
       "/* Toggleable content - dropdown */\n",
       "\n",
       "#sk-container-id-1 div.sk-toggleable__content {\n",
       "  max-height: 0;\n",
       "  max-width: 0;\n",
       "  overflow: hidden;\n",
       "  text-align: left;\n",
       "  /* unfitted */\n",
       "  background-color: var(--sklearn-color-unfitted-level-0);\n",
       "}\n",
       "\n",
       "#sk-container-id-1 div.sk-toggleable__content.fitted {\n",
       "  /* fitted */\n",
       "  background-color: var(--sklearn-color-fitted-level-0);\n",
       "}\n",
       "\n",
       "#sk-container-id-1 div.sk-toggleable__content pre {\n",
       "  margin: 0.2em;\n",
       "  border-radius: 0.25em;\n",
       "  color: var(--sklearn-color-text);\n",
       "  /* unfitted */\n",
       "  background-color: var(--sklearn-color-unfitted-level-0);\n",
       "}\n",
       "\n",
       "#sk-container-id-1 div.sk-toggleable__content.fitted pre {\n",
       "  /* unfitted */\n",
       "  background-color: var(--sklearn-color-fitted-level-0);\n",
       "}\n",
       "\n",
       "#sk-container-id-1 input.sk-toggleable__control:checked~div.sk-toggleable__content {\n",
       "  /* Expand drop-down */\n",
       "  max-height: 200px;\n",
       "  max-width: 100%;\n",
       "  overflow: auto;\n",
       "}\n",
       "\n",
       "#sk-container-id-1 input.sk-toggleable__control:checked~label.sk-toggleable__label-arrow:before {\n",
       "  content: \"▾\";\n",
       "}\n",
       "\n",
       "/* Pipeline/ColumnTransformer-specific style */\n",
       "\n",
       "#sk-container-id-1 div.sk-label input.sk-toggleable__control:checked~label.sk-toggleable__label {\n",
       "  color: var(--sklearn-color-text);\n",
       "  background-color: var(--sklearn-color-unfitted-level-2);\n",
       "}\n",
       "\n",
       "#sk-container-id-1 div.sk-label.fitted input.sk-toggleable__control:checked~label.sk-toggleable__label {\n",
       "  background-color: var(--sklearn-color-fitted-level-2);\n",
       "}\n",
       "\n",
       "/* Estimator-specific style */\n",
       "\n",
       "/* Colorize estimator box */\n",
       "#sk-container-id-1 div.sk-estimator input.sk-toggleable__control:checked~label.sk-toggleable__label {\n",
       "  /* unfitted */\n",
       "  background-color: var(--sklearn-color-unfitted-level-2);\n",
       "}\n",
       "\n",
       "#sk-container-id-1 div.sk-estimator.fitted input.sk-toggleable__control:checked~label.sk-toggleable__label {\n",
       "  /* fitted */\n",
       "  background-color: var(--sklearn-color-fitted-level-2);\n",
       "}\n",
       "\n",
       "#sk-container-id-1 div.sk-label label.sk-toggleable__label,\n",
       "#sk-container-id-1 div.sk-label label {\n",
       "  /* The background is the default theme color */\n",
       "  color: var(--sklearn-color-text-on-default-background);\n",
       "}\n",
       "\n",
       "/* On hover, darken the color of the background */\n",
       "#sk-container-id-1 div.sk-label:hover label.sk-toggleable__label {\n",
       "  color: var(--sklearn-color-text);\n",
       "  background-color: var(--sklearn-color-unfitted-level-2);\n",
       "}\n",
       "\n",
       "/* Label box, darken color on hover, fitted */\n",
       "#sk-container-id-1 div.sk-label.fitted:hover label.sk-toggleable__label.fitted {\n",
       "  color: var(--sklearn-color-text);\n",
       "  background-color: var(--sklearn-color-fitted-level-2);\n",
       "}\n",
       "\n",
       "/* Estimator label */\n",
       "\n",
       "#sk-container-id-1 div.sk-label label {\n",
       "  font-family: monospace;\n",
       "  font-weight: bold;\n",
       "  display: inline-block;\n",
       "  line-height: 1.2em;\n",
       "}\n",
       "\n",
       "#sk-container-id-1 div.sk-label-container {\n",
       "  text-align: center;\n",
       "}\n",
       "\n",
       "/* Estimator-specific */\n",
       "#sk-container-id-1 div.sk-estimator {\n",
       "  font-family: monospace;\n",
       "  border: 1px dotted var(--sklearn-color-border-box);\n",
       "  border-radius: 0.25em;\n",
       "  box-sizing: border-box;\n",
       "  margin-bottom: 0.5em;\n",
       "  /* unfitted */\n",
       "  background-color: var(--sklearn-color-unfitted-level-0);\n",
       "}\n",
       "\n",
       "#sk-container-id-1 div.sk-estimator.fitted {\n",
       "  /* fitted */\n",
       "  background-color: var(--sklearn-color-fitted-level-0);\n",
       "}\n",
       "\n",
       "/* on hover */\n",
       "#sk-container-id-1 div.sk-estimator:hover {\n",
       "  /* unfitted */\n",
       "  background-color: var(--sklearn-color-unfitted-level-2);\n",
       "}\n",
       "\n",
       "#sk-container-id-1 div.sk-estimator.fitted:hover {\n",
       "  /* fitted */\n",
       "  background-color: var(--sklearn-color-fitted-level-2);\n",
       "}\n",
       "\n",
       "/* Specification for estimator info (e.g. \"i\" and \"?\") */\n",
       "\n",
       "/* Common style for \"i\" and \"?\" */\n",
       "\n",
       ".sk-estimator-doc-link,\n",
       "a:link.sk-estimator-doc-link,\n",
       "a:visited.sk-estimator-doc-link {\n",
       "  float: right;\n",
       "  font-size: smaller;\n",
       "  line-height: 1em;\n",
       "  font-family: monospace;\n",
       "  background-color: var(--sklearn-color-background);\n",
       "  border-radius: 1em;\n",
       "  height: 1em;\n",
       "  width: 1em;\n",
       "  text-decoration: none !important;\n",
       "  margin-left: 1ex;\n",
       "  /* unfitted */\n",
       "  border: var(--sklearn-color-unfitted-level-1) 1pt solid;\n",
       "  color: var(--sklearn-color-unfitted-level-1);\n",
       "}\n",
       "\n",
       ".sk-estimator-doc-link.fitted,\n",
       "a:link.sk-estimator-doc-link.fitted,\n",
       "a:visited.sk-estimator-doc-link.fitted {\n",
       "  /* fitted */\n",
       "  border: var(--sklearn-color-fitted-level-1) 1pt solid;\n",
       "  color: var(--sklearn-color-fitted-level-1);\n",
       "}\n",
       "\n",
       "/* On hover */\n",
       "div.sk-estimator:hover .sk-estimator-doc-link:hover,\n",
       ".sk-estimator-doc-link:hover,\n",
       "div.sk-label-container:hover .sk-estimator-doc-link:hover,\n",
       ".sk-estimator-doc-link:hover {\n",
       "  /* unfitted */\n",
       "  background-color: var(--sklearn-color-unfitted-level-3);\n",
       "  color: var(--sklearn-color-background);\n",
       "  text-decoration: none;\n",
       "}\n",
       "\n",
       "div.sk-estimator.fitted:hover .sk-estimator-doc-link.fitted:hover,\n",
       ".sk-estimator-doc-link.fitted:hover,\n",
       "div.sk-label-container:hover .sk-estimator-doc-link.fitted:hover,\n",
       ".sk-estimator-doc-link.fitted:hover {\n",
       "  /* fitted */\n",
       "  background-color: var(--sklearn-color-fitted-level-3);\n",
       "  color: var(--sklearn-color-background);\n",
       "  text-decoration: none;\n",
       "}\n",
       "\n",
       "/* Span, style for the box shown on hovering the info icon */\n",
       ".sk-estimator-doc-link span {\n",
       "  display: none;\n",
       "  z-index: 9999;\n",
       "  position: relative;\n",
       "  font-weight: normal;\n",
       "  right: .2ex;\n",
       "  padding: .5ex;\n",
       "  margin: .5ex;\n",
       "  width: min-content;\n",
       "  min-width: 20ex;\n",
       "  max-width: 50ex;\n",
       "  color: var(--sklearn-color-text);\n",
       "  box-shadow: 2pt 2pt 4pt #999;\n",
       "  /* unfitted */\n",
       "  background: var(--sklearn-color-unfitted-level-0);\n",
       "  border: .5pt solid var(--sklearn-color-unfitted-level-3);\n",
       "}\n",
       "\n",
       ".sk-estimator-doc-link.fitted span {\n",
       "  /* fitted */\n",
       "  background: var(--sklearn-color-fitted-level-0);\n",
       "  border: var(--sklearn-color-fitted-level-3);\n",
       "}\n",
       "\n",
       ".sk-estimator-doc-link:hover span {\n",
       "  display: block;\n",
       "}\n",
       "\n",
       "/* \"?\"-specific style due to the `<a>` HTML tag */\n",
       "\n",
       "#sk-container-id-1 a.estimator_doc_link {\n",
       "  float: right;\n",
       "  font-size: 1rem;\n",
       "  line-height: 1em;\n",
       "  font-family: monospace;\n",
       "  background-color: var(--sklearn-color-background);\n",
       "  border-radius: 1rem;\n",
       "  height: 1rem;\n",
       "  width: 1rem;\n",
       "  text-decoration: none;\n",
       "  /* unfitted */\n",
       "  color: var(--sklearn-color-unfitted-level-1);\n",
       "  border: var(--sklearn-color-unfitted-level-1) 1pt solid;\n",
       "}\n",
       "\n",
       "#sk-container-id-1 a.estimator_doc_link.fitted {\n",
       "  /* fitted */\n",
       "  border: var(--sklearn-color-fitted-level-1) 1pt solid;\n",
       "  color: var(--sklearn-color-fitted-level-1);\n",
       "}\n",
       "\n",
       "/* On hover */\n",
       "#sk-container-id-1 a.estimator_doc_link:hover {\n",
       "  /* unfitted */\n",
       "  background-color: var(--sklearn-color-unfitted-level-3);\n",
       "  color: var(--sklearn-color-background);\n",
       "  text-decoration: none;\n",
       "}\n",
       "\n",
       "#sk-container-id-1 a.estimator_doc_link.fitted:hover {\n",
       "  /* fitted */\n",
       "  background-color: var(--sklearn-color-fitted-level-3);\n",
       "}\n",
       "</style><div id=\"sk-container-id-1\" class=\"sk-top-container\"><div class=\"sk-text-repr-fallback\"><pre>XGBClassifier(base_score=None, booster=None, callbacks=None,\n",
       "              colsample_bylevel=None, colsample_bynode=0.6164540647956869,\n",
       "              colsample_bytree=None, device=None, early_stopping_rounds=None,\n",
       "              enable_categorical=False,\n",
       "              eval_metric=&lt;function custom_f1_score at 0x7f9c75d18680&gt;,\n",
       "              feature_types=None, gamma=None, grow_policy=None,\n",
       "              importance_type=None, interaction_constraints=None,\n",
       "              learning_rate=0.26815532619100363, max_bin=None,\n",
       "              max_cat_threshold=None, max_cat_to_onehot=None,\n",
       "              max_delta_step=None, max_depth=18, max_leaves=None,\n",
       "              min_child_weight=12, missing=nan, monotone_constraints=None,\n",
       "              multi_strategy=None, n_estimators=98, n_jobs=None,\n",
       "              num_parallel_tree=None, objective=&#x27;multi:softprob&#x27;, ...)</pre><b>In a Jupyter environment, please rerun this cell to show the HTML representation or trust the notebook. <br />On GitHub, the HTML representation is unable to render, please try loading this page with nbviewer.org.</b></div><div class=\"sk-container\" hidden><div class=\"sk-item\"><div class=\"sk-estimator fitted sk-toggleable\"><input class=\"sk-toggleable__control sk-hidden--visually\" id=\"sk-estimator-id-1\" type=\"checkbox\" checked><label for=\"sk-estimator-id-1\" class=\"sk-toggleable__label fitted sk-toggleable__label-arrow fitted\">&nbsp;XGBClassifier<span class=\"sk-estimator-doc-link fitted\">i<span>Fitted</span></span></label><div class=\"sk-toggleable__content fitted\"><pre>XGBClassifier(base_score=None, booster=None, callbacks=None,\n",
       "              colsample_bylevel=None, colsample_bynode=0.6164540647956869,\n",
       "              colsample_bytree=None, device=None, early_stopping_rounds=None,\n",
       "              enable_categorical=False,\n",
       "              eval_metric=&lt;function custom_f1_score at 0x7f9c75d18680&gt;,\n",
       "              feature_types=None, gamma=None, grow_policy=None,\n",
       "              importance_type=None, interaction_constraints=None,\n",
       "              learning_rate=0.26815532619100363, max_bin=None,\n",
       "              max_cat_threshold=None, max_cat_to_onehot=None,\n",
       "              max_delta_step=None, max_depth=18, max_leaves=None,\n",
       "              min_child_weight=12, missing=nan, monotone_constraints=None,\n",
       "              multi_strategy=None, n_estimators=98, n_jobs=None,\n",
       "              num_parallel_tree=None, objective=&#x27;multi:softprob&#x27;, ...)</pre></div> </div></div></div></div>"
      ],
      "text/plain": [
       "XGBClassifier(base_score=None, booster=None, callbacks=None,\n",
       "              colsample_bylevel=None, colsample_bynode=0.6164540647956869,\n",
       "              colsample_bytree=None, device=None, early_stopping_rounds=None,\n",
       "              enable_categorical=False,\n",
       "              eval_metric=<function custom_f1_score at 0x7f9c75d18680>,\n",
       "              feature_types=None, gamma=None, grow_policy=None,\n",
       "              importance_type=None, interaction_constraints=None,\n",
       "              learning_rate=0.26815532619100363, max_bin=None,\n",
       "              max_cat_threshold=None, max_cat_to_onehot=None,\n",
       "              max_delta_step=None, max_depth=18, max_leaves=None,\n",
       "              min_child_weight=12, missing=nan, monotone_constraints=None,\n",
       "              multi_strategy=None, n_estimators=98, n_jobs=None,\n",
       "              num_parallel_tree=None, objective='multi:softprob', ...)"
      ]
     },
     "execution_count": 21,
     "metadata": {},
     "output_type": "execute_result"
    }
   ],
   "source": [
    "n_estimators = int(study.best_trial.user_attrs['best_iteration']*1.2)\n",
    "xgb = xgboost.XGBClassifier(\n",
    "        eval_metric=eval_metric,\n",
    "        n_estimators=n_estimators,\n",
    "        **study.best_trial.params\n",
    "    )\n",
    "xgb.fit(\n",
    "    ssp.vstack((X_train, X_val)), \n",
    "    np.concatenate((y_train_enc, y_val_enc)),\n",
    "    verbose=1,\n",
    ")"
   ]
  },
  {
   "cell_type": "code",
   "execution_count": 22,
   "id": "fdabcbfd",
   "metadata": {
    "execution": {
     "iopub.execute_input": "2025-06-13T13:09:41.995783Z",
     "iopub.status.busy": "2025-06-13T13:09:41.995279Z",
     "iopub.status.idle": "2025-06-13T13:09:42.020605Z",
     "shell.execute_reply": "2025-06-13T13:09:42.020285Z"
    },
    "papermill": {
     "duration": 0.035529,
     "end_time": "2025-06-13T13:09:42.021541",
     "exception": false,
     "start_time": "2025-06-13T13:09:41.986012",
     "status": "completed"
    },
    "tags": []
   },
   "outputs": [
    {
     "data": {
      "text/plain": [
       "['/scratch_isilon/groups/singlecell/shared/projects/Inflammation-PBMCs-Atlas/03_downstream_analysis/08_gene_importance/xgboost_external_validation/xgboost_TopN_genes/results_20/best_model/UTC_shap_studyID_samesize_2_xgb.json']"
      ]
     },
     "execution_count": 22,
     "metadata": {},
     "output_type": "execute_result"
    }
   ],
   "source": [
    "out_dir = here(f'03_downstream_analysis/08_gene_importance/xgboost_external_validation/xgboost_TopN_genes/results_{N_GENES}/best_model')\n",
    "\n",
    "if not os.path.exists(out_dir):\n",
    "    os.makedirs(out_dir)\n",
    "    \n",
    "joblib.dump(xgb, os.path.join(out_dir, f'{CELL_TYPE}_{SEED}_{TEST_SPLIT_IDX}_xgb.json'))"
   ]
  },
  {
   "cell_type": "code",
   "execution_count": 23,
   "id": "5026f80f",
   "metadata": {
    "execution": {
     "iopub.execute_input": "2025-06-13T13:09:42.041945Z",
     "iopub.status.busy": "2025-06-13T13:09:42.041476Z",
     "iopub.status.idle": "2025-06-13T13:09:42.087414Z",
     "shell.execute_reply": "2025-06-13T13:09:42.087109Z"
    },
    "papermill": {
     "duration": 0.05672,
     "end_time": "2025-06-13T13:09:42.089147",
     "exception": false,
     "start_time": "2025-06-13T13:09:42.032427",
     "status": "completed"
    },
    "tags": []
   },
   "outputs": [],
   "source": [
    "df_pred_test = pd.DataFrame(dict(\n",
    "    cell_id=train_adata.obs.iloc[test_idxs].index.values,\n",
    "    y_true=y_test, \n",
    "    y_true_code=y_test_enc, \n",
    "    y_pred=xgb.predict(X_test))).set_index('cell_id')"
   ]
  },
  {
   "cell_type": "code",
   "execution_count": 24,
   "id": "568b819f",
   "metadata": {
    "execution": {
     "iopub.execute_input": "2025-06-13T13:09:42.108050Z",
     "iopub.status.busy": "2025-06-13T13:09:42.107555Z",
     "iopub.status.idle": "2025-06-13T13:09:42.140708Z",
     "shell.execute_reply": "2025-06-13T13:09:42.140301Z"
    },
    "papermill": {
     "duration": 0.043632,
     "end_time": "2025-06-13T13:09:42.141962",
     "exception": false,
     "start_time": "2025-06-13T13:09:42.098330",
     "status": "completed"
    },
    "tags": []
   },
   "outputs": [],
   "source": [
    "out_dir = here(f'03_downstream_analysis/08_gene_importance/xgboost_external_validation/xgboost_TopN_genes/results_{N_GENES}/predictions')\n",
    "\n",
    "if not os.path.exists(out_dir):\n",
    "    os.makedirs(out_dir)\n",
    "    \n",
    "df_pred_test.to_csv(os.path.join(out_dir, f'{CELL_TYPE}_{SEED}_{TEST_SPLIT_IDX}_pred_test.zip'))"
   ]
  },
  {
   "cell_type": "code",
   "execution_count": 25,
   "id": "72a5bd51",
   "metadata": {
    "execution": {
     "iopub.execute_input": "2025-06-13T13:09:42.161597Z",
     "iopub.status.busy": "2025-06-13T13:09:42.161384Z",
     "iopub.status.idle": "2025-06-13T13:09:42.173233Z",
     "shell.execute_reply": "2025-06-13T13:09:42.172859Z"
    },
    "papermill": {
     "duration": 0.022732,
     "end_time": "2025-06-13T13:09:42.174066",
     "exception": false,
     "start_time": "2025-06-13T13:09:42.151334",
     "status": "completed"
    },
    "tags": []
   },
   "outputs": [
    {
     "name": "stderr",
     "output_type": "stream",
     "text": [
      "/scratch_isilon/groups/singlecell/shared/conda_env/xgboost-cpu/lib/python3.12/site-packages/sklearn/metrics/_classification.py:2466: UserWarning: y_pred contains classes not in y_true\n",
      "  warnings.warn(\"y_pred contains classes not in y_true\")\n"
     ]
    }
   ],
   "source": [
    "metrics_dict = dict(\n",
    "    BAS=balanced_accuracy_score(y_true=df_pred_test.y_true_code, y_pred=df_pred_test.y_pred), WF1=f1_score(y_true=df_pred_test.y_true_code, y_pred=df_pred_test.y_pred,average='weighted'))"
   ]
  },
  {
   "cell_type": "code",
   "execution_count": 26,
   "id": "1ad08689",
   "metadata": {
    "execution": {
     "iopub.execute_input": "2025-06-13T13:09:42.192568Z",
     "iopub.status.busy": "2025-06-13T13:09:42.192365Z",
     "iopub.status.idle": "2025-06-13T13:09:42.195153Z",
     "shell.execute_reply": "2025-06-13T13:09:42.194861Z"
    },
    "papermill": {
     "duration": 0.012774,
     "end_time": "2025-06-13T13:09:42.195976",
     "exception": false,
     "start_time": "2025-06-13T13:09:42.183202",
     "status": "completed"
    },
    "tags": []
   },
   "outputs": [
    {
     "data": {
      "text/plain": [
       "{'BAS': 0.7057738953294441, 'WF1': 0.6854112279141238}"
      ]
     },
     "execution_count": 26,
     "metadata": {},
     "output_type": "execute_result"
    }
   ],
   "source": [
    "metrics_dict"
   ]
  },
  {
   "cell_type": "code",
   "execution_count": 27,
   "id": "bc5ccee0",
   "metadata": {
    "execution": {
     "iopub.execute_input": "2025-06-13T13:09:42.217520Z",
     "iopub.status.busy": "2025-06-13T13:09:42.217154Z",
     "iopub.status.idle": "2025-06-13T13:09:42.225537Z",
     "shell.execute_reply": "2025-06-13T13:09:42.225248Z"
    },
    "papermill": {
     "duration": 0.021648,
     "end_time": "2025-06-13T13:09:42.226358",
     "exception": false,
     "start_time": "2025-06-13T13:09:42.204710",
     "status": "completed"
    },
    "tags": []
   },
   "outputs": [
    {
     "data": {
      "text/html": [
       "<div>\n",
       "<style scoped>\n",
       "    .dataframe tbody tr th:only-of-type {\n",
       "        vertical-align: middle;\n",
       "    }\n",
       "\n",
       "    .dataframe tbody tr th {\n",
       "        vertical-align: top;\n",
       "    }\n",
       "\n",
       "    .dataframe thead th {\n",
       "        text-align: right;\n",
       "    }\n",
       "</style>\n",
       "<table border=\"1\" class=\"dataframe\">\n",
       "  <thead>\n",
       "    <tr style=\"text-align: right;\">\n",
       "      <th></th>\n",
       "      <th>BAS</th>\n",
       "      <th>WF1</th>\n",
       "      <th>split_idx</th>\n",
       "      <th>gene_set_seed</th>\n",
       "      <th>cell_type</th>\n",
       "    </tr>\n",
       "  </thead>\n",
       "  <tbody>\n",
       "    <tr>\n",
       "      <th>0</th>\n",
       "      <td>0.705774</td>\n",
       "      <td>0.685411</td>\n",
       "      <td>2</td>\n",
       "      <td>shap_studyID_samesize</td>\n",
       "      <td>UTC</td>\n",
       "    </tr>\n",
       "  </tbody>\n",
       "</table>\n",
       "</div>"
      ],
      "text/plain": [
       "        BAS       WF1  split_idx          gene_set_seed cell_type\n",
       "0  0.705774  0.685411          2  shap_studyID_samesize       UTC"
      ]
     },
     "execution_count": 27,
     "metadata": {},
     "output_type": "execute_result"
    }
   ],
   "source": [
    "metrics_df = pd.DataFrame.from_dict([metrics_dict]).assign(split_idx=TEST_SPLIT_IDX, gene_set_seed=SEED, cell_type=CELL_TYPE)\n",
    "metrics_df"
   ]
  },
  {
   "cell_type": "code",
   "execution_count": 28,
   "id": "6d6d9d7a",
   "metadata": {
    "execution": {
     "iopub.execute_input": "2025-06-13T13:09:42.245116Z",
     "iopub.status.busy": "2025-06-13T13:09:42.244894Z",
     "iopub.status.idle": "2025-06-13T13:09:42.254501Z",
     "shell.execute_reply": "2025-06-13T13:09:42.254141Z"
    },
    "papermill": {
     "duration": 0.020134,
     "end_time": "2025-06-13T13:09:42.255492",
     "exception": false,
     "start_time": "2025-06-13T13:09:42.235358",
     "status": "completed"
    },
    "tags": []
   },
   "outputs": [],
   "source": [
    "out_dir = here(f'03_downstream_analysis/08_gene_importance/xgboost_external_validation/xgboost_TopN_genes/results_{N_GENES}/metrics')\n",
    "\n",
    "if not os.path.exists(out_dir):\n",
    "    os.makedirs(out_dir)\n",
    "    \n",
    "metrics_df.to_csv(os.path.join(out_dir, f'{CELL_TYPE}_{SEED}_{TEST_SPLIT_IDX}_metrics.zip'))"
   ]
  }
 ],
 "metadata": {
  "kernelspec": {
   "display_name": "Python 3 (ipykernel)",
   "language": "python",
   "name": "python3"
  },
  "language_info": {
   "codemirror_mode": {
    "name": "ipython",
    "version": 3
   },
   "file_extension": ".py",
   "mimetype": "text/x-python",
   "name": "python",
   "nbconvert_exporter": "python",
   "pygments_lexer": "ipython3",
   "version": "3.12.5"
  },
  "papermill": {
   "default_parameters": {},
   "duration": 96.793341,
   "end_time": "2025-06-13T13:09:42.780922",
   "environment_variables": {},
   "exception": null,
   "input_path": "02_xgboost_fitting_external_20genes.ipynb",
   "output_path": "results_20/executed_notebooks/xgboost_fitting_external_CT_UTC_GS_shap_studyID_samesize_seed2.ipynb",
   "parameters": {
    "CELL_TYPE": "UTC",
    "SEED": "shap_studyID_samesize",
    "TEST_SPLIT_IDX": 2
   },
   "start_time": "2025-06-13T13:08:05.987581",
   "version": "2.6.0"
  }
 },
 "nbformat": 4,
 "nbformat_minor": 5
}