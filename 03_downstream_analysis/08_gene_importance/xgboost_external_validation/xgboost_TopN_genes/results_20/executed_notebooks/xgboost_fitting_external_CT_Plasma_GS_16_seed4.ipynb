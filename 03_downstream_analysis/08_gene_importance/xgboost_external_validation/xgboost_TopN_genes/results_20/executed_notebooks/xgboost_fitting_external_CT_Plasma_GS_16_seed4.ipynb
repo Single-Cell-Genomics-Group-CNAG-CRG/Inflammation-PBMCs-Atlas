{
 "cells": [
  {
   "cell_type": "code",
   "execution_count": 1,
   "id": "f49c615e",
   "metadata": {
    "editable": true,
    "execution": {
     "iopub.execute_input": "2025-05-15T16:15:47.193493Z",
     "iopub.status.busy": "2025-05-15T16:15:47.192794Z",
     "iopub.status.idle": "2025-05-15T16:15:47.196598Z",
     "shell.execute_reply": "2025-05-15T16:15:47.196240Z"
    },
    "papermill": {
     "duration": 0.014353,
     "end_time": "2025-05-15T16:15:47.197822",
     "exception": false,
     "start_time": "2025-05-15T16:15:47.183469",
     "status": "completed"
    },
    "slideshow": {
     "slide_type": ""
    },
    "tags": [
     "parameters"
    ]
   },
   "outputs": [],
   "source": [
    "CELL_TYPE = 'pDC'\n",
    "N_GENES: int = 20\n",
    "SEED = 'shap_studyID' #'disease_NOstudy' 'study_NOdisease' or 'int' or 'shap_studyID'\n",
    "TEST_SPLIT_IDX: int = 1 #[0,4]"
   ]
  },
  {
   "cell_type": "code",
   "execution_count": 2,
   "id": "9811fb9e",
   "metadata": {
    "execution": {
     "iopub.execute_input": "2025-05-15T16:15:47.211676Z",
     "iopub.status.busy": "2025-05-15T16:15:47.211323Z",
     "iopub.status.idle": "2025-05-15T16:15:47.213789Z",
     "shell.execute_reply": "2025-05-15T16:15:47.213405Z"
    },
    "papermill": {
     "duration": 0.01019,
     "end_time": "2025-05-15T16:15:47.214765",
     "exception": false,
     "start_time": "2025-05-15T16:15:47.204575",
     "status": "completed"
    },
    "tags": [
     "injected-parameters"
    ]
   },
   "outputs": [],
   "source": [
    "# Parameters\n",
    "CELL_TYPE = \"Plasma\"\n",
    "SEED = 16\n",
    "TEST_SPLIT_IDX = 4\n"
   ]
  },
  {
   "cell_type": "code",
   "execution_count": 3,
   "id": "a6bbb57f",
   "metadata": {
    "execution": {
     "iopub.execute_input": "2025-05-15T16:15:47.227226Z",
     "iopub.status.busy": "2025-05-15T16:15:47.226900Z",
     "iopub.status.idle": "2025-05-15T16:15:47.229746Z",
     "shell.execute_reply": "2025-05-15T16:15:47.229422Z"
    },
    "papermill": {
     "duration": 0.010236,
     "end_time": "2025-05-15T16:15:47.230915",
     "exception": false,
     "start_time": "2025-05-15T16:15:47.220679",
     "status": "completed"
    },
    "tags": []
   },
   "outputs": [],
   "source": [
    "N_SPLITS: int = 5\n",
    "N_TRIALS: int = 50"
   ]
  },
  {
   "cell_type": "code",
   "execution_count": 4,
   "id": "fff637fe",
   "metadata": {
    "execution": {
     "iopub.execute_input": "2025-05-15T16:15:47.244013Z",
     "iopub.status.busy": "2025-05-15T16:15:47.243763Z",
     "iopub.status.idle": "2025-05-15T16:15:48.887867Z",
     "shell.execute_reply": "2025-05-15T16:15:48.887247Z"
    },
    "papermill": {
     "duration": 1.652865,
     "end_time": "2025-05-15T16:15:48.889395",
     "exception": false,
     "start_time": "2025-05-15T16:15:47.236530",
     "status": "completed"
    },
    "tags": []
   },
   "outputs": [],
   "source": [
    "import os\n",
    "import sys\n",
    "from pyprojroot.here import here\n",
    "import pandas as pd\n",
    "import anndata as ad\n",
    "import numpy as np\n",
    "import math\n",
    "from sklearn.model_selection import StratifiedGroupKFold\n",
    "from sklearn.preprocessing import LabelEncoder\n",
    "from sklearn.metrics import f1_score\n",
    "import matplotlib.pyplot as plt\n",
    "import seaborn as sns\n",
    "from itertools import product\n",
    "from sklearn.metrics import balanced_accuracy_score, f1_score\n",
    "import optuna\n",
    "\n",
    "import joblib\n",
    "import pickle\n",
    "import datetime\n",
    "\n",
    "import collections\n",
    "\n",
    "import xgboost\n",
    "from sklearn.preprocessing import LabelEncoder\n",
    "\n",
    "import scipy.sparse as ssp\n",
    "import joblib\n",
    "\n",
    "from dotenv import load_dotenv"
   ]
  },
  {
   "cell_type": "code",
   "execution_count": 5,
   "id": "d745e172",
   "metadata": {
    "execution": {
     "iopub.execute_input": "2025-05-15T16:15:48.919736Z",
     "iopub.status.busy": "2025-05-15T16:15:48.918934Z",
     "iopub.status.idle": "2025-05-15T16:15:48.926649Z",
     "shell.execute_reply": "2025-05-15T16:15:48.926133Z"
    },
    "papermill": {
     "duration": 0.017738,
     "end_time": "2025-05-15T16:15:48.927806",
     "exception": false,
     "start_time": "2025-05-15T16:15:48.910068",
     "status": "completed"
    },
    "tags": []
   },
   "outputs": [
    {
     "data": {
      "text/plain": [
       "True"
      ]
     },
     "execution_count": 5,
     "metadata": {},
     "output_type": "execute_result"
    }
   ],
   "source": [
    "load_dotenv()"
   ]
  },
  {
   "cell_type": "markdown",
   "id": "c46f599a",
   "metadata": {
    "papermill": {
     "duration": 0.006488,
     "end_time": "2025-05-15T16:15:48.940881",
     "exception": false,
     "start_time": "2025-05-15T16:15:48.934393",
     "status": "completed"
    },
    "tags": []
   },
   "source": [
    "# LOAD DATASET"
   ]
  },
  {
   "cell_type": "code",
   "execution_count": 6,
   "id": "53652e8b",
   "metadata": {
    "execution": {
     "iopub.execute_input": "2025-05-15T16:15:48.955803Z",
     "iopub.status.busy": "2025-05-15T16:15:48.955473Z",
     "iopub.status.idle": "2025-05-15T16:15:49.001976Z",
     "shell.execute_reply": "2025-05-15T16:15:49.001447Z"
    },
    "papermill": {
     "duration": 0.055958,
     "end_time": "2025-05-15T16:15:49.003624",
     "exception": false,
     "start_time": "2025-05-15T16:15:48.947666",
     "status": "completed"
    },
    "tags": []
   },
   "outputs": [],
   "source": [
    "train_adata = ad.read_h5ad(\n",
    "    here(f'03_downstream_analysis/08_gene_importance/xgboost_external_validation/xgboost_TopN_genes/data_cellTypes/EXTERNAL_{CELL_TYPE}.filtered.log1p.h5ad')\n",
    ")"
   ]
  },
  {
   "cell_type": "code",
   "execution_count": 7,
   "id": "6da8e358",
   "metadata": {
    "execution": {
     "iopub.execute_input": "2025-05-15T16:15:49.018437Z",
     "iopub.status.busy": "2025-05-15T16:15:49.018077Z",
     "iopub.status.idle": "2025-05-15T16:15:49.032226Z",
     "shell.execute_reply": "2025-05-15T16:15:49.031726Z"
    },
    "papermill": {
     "duration": 0.022292,
     "end_time": "2025-05-15T16:15:49.033205",
     "exception": false,
     "start_time": "2025-05-15T16:15:49.010913",
     "status": "completed"
    },
    "tags": []
   },
   "outputs": [
    {
     "name": "stdout",
     "output_type": "stream",
     "text": [
      "['ENSG00000159674' 'ENSG00000130522' 'ENSG00000140105' 'ENSG00000204592'\n",
      " 'ENSG00000140379' 'ENSG00000132510' 'ENSG00000160255' 'ENSG00000130724'\n",
      " 'ENSG00000105397' 'ENSG00000125534' 'ENSG00000264364' 'ENSG00000160213'\n",
      " 'ENSG00000206503' 'ENSG00000197747' 'ENSG00000009790' 'ENSG00000203747'\n",
      " 'ENSG00000163513' 'ENSG00000123358' 'ENSG00000137331' 'ENSG00000118971'\n",
      " 'ENSG00000177556' 'ENSG00000001167' 'ENSG00000068831' 'ENSG00000002586'\n",
      " 'ENSG00000166710' 'ENSG00000182117' 'ENSG00000170476' 'ENSG00000179094'\n",
      " 'ENSG00000164104' 'ENSG00000152700' 'ENSG00000100365' 'ENSG00000100906'\n",
      " 'ENSG00000156411' 'ENSG00000189067' 'ENSG00000159128' 'ENSG00000135046'\n",
      " 'ENSG00000004468' 'ENSG00000092820' 'ENSG00000131437' 'ENSG00000119535'\n",
      " 'ENSG00000152495' 'ENSG00000231389' 'ENSG00000121774' 'ENSG00000184007'\n",
      " 'ENSG00000171476' 'ENSG00000204472' 'ENSG00000242574' 'ENSG00000059728'\n",
      " 'ENSG00000143924' 'ENSG00000121316' 'ENSG00000197471' 'ENSG00000110324'\n",
      " 'ENSG00000244687' 'ENSG00000005844' 'ENSG00000175354' 'ENSG00000145675'\n",
      " 'ENSG00000152518' 'ENSG00000153064' 'ENSG00000026103' 'ENSG00000198668'\n",
      " 'ENSG00000185591' 'ENSG00000184752' 'ENSG00000158769' 'ENSG00000123268'\n",
      " 'ENSG00000105583' 'ENSG00000099958' 'ENSG00000103187' 'ENSG00000175482'\n",
      " 'ENSG00000175390' 'ENSG00000163131' 'ENSG00000075426' 'ENSG00000168389'\n",
      " 'ENSG00000121807' 'ENSG00000138036' 'ENSG00000102265' 'ENSG00000027697'\n",
      " 'ENSG00000142546' 'ENSG00000078596' 'ENSG00000108518' 'ENSG00000241106'\n",
      " 'ENSG00000112137' 'ENSG00000100368' 'ENSG00000147168' 'ENSG00000100292'\n",
      " 'ENSG00000154814' 'ENSG00000177721' 'ENSG00000110876' 'ENSG00000166681'\n",
      " 'ENSG00000183172' 'ENSG00000167004' 'ENSG00000178562' 'ENSG00000100485'\n",
      " 'ENSG00000089737' 'ENSG00000160932' 'ENSG00000160710' 'ENSG00000137193'\n",
      " 'ENSG00000164674' 'ENSG00000122862' 'ENSG00000197965' 'ENSG00000048462'\n",
      " 'ENSG00000182287' 'ENSG00000082074' 'ENSG00000170458' 'ENSG00000019582'\n",
      " 'ENSG00000100300' 'ENSG00000145649' 'ENSG00000161800']\n"
     ]
    }
   ],
   "source": [
    "if SEED != 'all':\n",
    "    gene_subset = np.load(here(f'03_downstream_analysis/08_gene_importance/xgboost_external_validation/shap_gene_selection/gene_subsets_{N_GENES}/{CELL_TYPE}_{SEED}.npy'), allow_pickle=True)\n",
    "    train_adata = train_adata[:,gene_subset]\n",
    "    print(gene_subset)\n",
    "elif SEED == 'all':\n",
    "    print('Using all genes')\n",
    "else:\n",
    "    raise ValueError()"
   ]
  },
  {
   "cell_type": "code",
   "execution_count": 8,
   "id": "6b7b866d",
   "metadata": {
    "execution": {
     "iopub.execute_input": "2025-05-15T16:15:49.046652Z",
     "iopub.status.busy": "2025-05-15T16:15:49.046323Z",
     "iopub.status.idle": "2025-05-15T16:15:49.050328Z",
     "shell.execute_reply": "2025-05-15T16:15:49.049976Z"
    },
    "papermill": {
     "duration": 0.011835,
     "end_time": "2025-05-15T16:15:49.051226",
     "exception": false,
     "start_time": "2025-05-15T16:15:49.039391",
     "status": "completed"
    },
    "tags": []
   },
   "outputs": [
    {
     "data": {
      "text/plain": [
       "(542, 107)"
      ]
     },
     "execution_count": 8,
     "metadata": {},
     "output_type": "execute_result"
    }
   ],
   "source": [
    "train_adata.shape"
   ]
  },
  {
   "cell_type": "code",
   "execution_count": 9,
   "id": "6eb142e2",
   "metadata": {
    "execution": {
     "iopub.execute_input": "2025-05-15T16:15:49.065227Z",
     "iopub.status.busy": "2025-05-15T16:15:49.064883Z",
     "iopub.status.idle": "2025-05-15T16:15:49.069619Z",
     "shell.execute_reply": "2025-05-15T16:15:49.069254Z"
    },
    "papermill": {
     "duration": 0.013077,
     "end_time": "2025-05-15T16:15:49.070484",
     "exception": false,
     "start_time": "2025-05-15T16:15:49.057407",
     "status": "completed"
    },
    "tags": []
   },
   "outputs": [
    {
     "data": {
      "text/plain": [
       "['RA', 'COVID', 'healthy', 'HIV', 'cirrhosis', 'CD', 'SLE', 'sepsis']\n",
       "Categories (8, object): ['CD', 'COVID', 'HIV', 'RA', 'SLE', 'cirrhosis', 'healthy', 'sepsis']"
      ]
     },
     "execution_count": 9,
     "metadata": {},
     "output_type": "execute_result"
    }
   ],
   "source": [
    "train_adata.obs.disease.unique()"
   ]
  },
  {
   "cell_type": "code",
   "execution_count": 10,
   "id": "a33c0850",
   "metadata": {
    "execution": {
     "iopub.execute_input": "2025-05-15T16:15:49.085920Z",
     "iopub.status.busy": "2025-05-15T16:15:49.085514Z",
     "iopub.status.idle": "2025-05-15T16:15:49.090753Z",
     "shell.execute_reply": "2025-05-15T16:15:49.090394Z"
    },
    "papermill": {
     "duration": 0.01333,
     "end_time": "2025-05-15T16:15:49.091582",
     "exception": false,
     "start_time": "2025-05-15T16:15:49.078252",
     "status": "completed"
    },
    "tags": []
   },
   "outputs": [
    {
     "data": {
      "text/plain": [
       "['SCGT00val_I0364_T0', 'SCGT00val_I036019_T0', 'SCGT00val_I036028_T0', 'SCGT00val_I036024_T0', 'SCGT00val_I036016_T0', ..., '10XGenomics_10XHC2_T0', '10XGenomics_10XHC3_T0', '10XGenomics_10XHC5_T0', '10XGenomics_10XHC7_T0', '10XGenomics_10XHC8_T0']\n",
       "Length: 74\n",
       "Categories (74, object): ['10XGenomics_10XHC1_T0', '10XGenomics_10XHC2_T0', '10XGenomics_10XHC3_T0', '10XGenomics_10XHC4_T0', ..., 'Savage2021_BRISL6_T0', 'Savage2021_BRISL7_T0', 'Savage2021_PIDA_T0', 'Savage2021_PIDB_T0']"
      ]
     },
     "execution_count": 10,
     "metadata": {},
     "output_type": "execute_result"
    }
   ],
   "source": [
    "train_adata.obs.sampleID.unique()"
   ]
  },
  {
   "cell_type": "code",
   "execution_count": 11,
   "id": "cfb2db8a",
   "metadata": {
    "execution": {
     "iopub.execute_input": "2025-05-15T16:15:49.104432Z",
     "iopub.status.busy": "2025-05-15T16:15:49.104124Z",
     "iopub.status.idle": "2025-05-15T16:15:49.136791Z",
     "shell.execute_reply": "2025-05-15T16:15:49.136309Z"
    },
    "papermill": {
     "duration": 0.041113,
     "end_time": "2025-05-15T16:15:49.138530",
     "exception": false,
     "start_time": "2025-05-15T16:15:49.097417",
     "status": "completed"
    },
    "tags": []
   },
   "outputs": [],
   "source": [
    "all_idxs = np.arange(train_adata.obs.shape[0])\n",
    "left_out_splits = [s[1] for s in StratifiedGroupKFold(n_splits=N_SPLITS).split(all_idxs, train_adata.obs.disease, train_adata.obs.sampleID)]"
   ]
  },
  {
   "cell_type": "code",
   "execution_count": 12,
   "id": "24242046",
   "metadata": {
    "execution": {
     "iopub.execute_input": "2025-05-15T16:15:49.154113Z",
     "iopub.status.busy": "2025-05-15T16:15:49.153867Z",
     "iopub.status.idle": "2025-05-15T16:15:49.157737Z",
     "shell.execute_reply": "2025-05-15T16:15:49.157396Z"
    },
    "papermill": {
     "duration": 0.012589,
     "end_time": "2025-05-15T16:15:49.158711",
     "exception": false,
     "start_time": "2025-05-15T16:15:49.146122",
     "status": "completed"
    },
    "tags": []
   },
   "outputs": [
    {
     "data": {
      "text/plain": [
       "([1, 2, 3], 0, 4)"
      ]
     },
     "execution_count": 12,
     "metadata": {},
     "output_type": "execute_result"
    }
   ],
   "source": [
    "TRAIN_SPLIT_IDXS = [0,1,2,3,4]\n",
    "VAL_SPLIT_IDX = (TEST_SPLIT_IDX + 1) % 5\n",
    "TRAIN_SPLIT_IDXS.remove(TEST_SPLIT_IDX)\n",
    "TRAIN_SPLIT_IDXS.remove(VAL_SPLIT_IDX)\n",
    "TRAIN_SPLIT_IDXS, VAL_SPLIT_IDX, TEST_SPLIT_IDX"
   ]
  },
  {
   "cell_type": "code",
   "execution_count": 13,
   "id": "8aeaa3e1",
   "metadata": {
    "execution": {
     "iopub.execute_input": "2025-05-15T16:15:49.174462Z",
     "iopub.status.busy": "2025-05-15T16:15:49.174206Z",
     "iopub.status.idle": "2025-05-15T16:15:49.176652Z",
     "shell.execute_reply": "2025-05-15T16:15:49.176337Z"
    },
    "papermill": {
     "duration": 0.011494,
     "end_time": "2025-05-15T16:15:49.177665",
     "exception": false,
     "start_time": "2025-05-15T16:15:49.166171",
     "status": "completed"
    },
    "tags": []
   },
   "outputs": [],
   "source": [
    "train_idxs = np.concatenate([left_out_splits[idx] for idx in TRAIN_SPLIT_IDXS])\n",
    "val_idxs = left_out_splits[VAL_SPLIT_IDX]\n",
    "test_idxs = left_out_splits[TEST_SPLIT_IDX]"
   ]
  },
  {
   "cell_type": "markdown",
   "id": "8868153a",
   "metadata": {
    "papermill": {
     "duration": 0.00679,
     "end_time": "2025-05-15T16:15:49.191416",
     "exception": false,
     "start_time": "2025-05-15T16:15:49.184626",
     "status": "completed"
    },
    "tags": []
   },
   "source": [
    "### SUBSET DATASET INTO TRAIN/TEST/VAL SPLITS"
   ]
  },
  {
   "cell_type": "code",
   "execution_count": 14,
   "id": "e7077a10",
   "metadata": {
    "execution": {
     "iopub.execute_input": "2025-05-15T16:15:49.206746Z",
     "iopub.status.busy": "2025-05-15T16:15:49.206358Z",
     "iopub.status.idle": "2025-05-15T16:15:49.213487Z",
     "shell.execute_reply": "2025-05-15T16:15:49.213133Z"
    },
    "papermill": {
     "duration": 0.016135,
     "end_time": "2025-05-15T16:15:49.214516",
     "exception": false,
     "start_time": "2025-05-15T16:15:49.198381",
     "status": "completed"
    },
    "tags": []
   },
   "outputs": [
    {
     "data": {
      "text/plain": [
       "((308, 107), (116, 107), (118, 107))"
      ]
     },
     "execution_count": 14,
     "metadata": {},
     "output_type": "execute_result"
    }
   ],
   "source": [
    "X_train = train_adata.X[train_idxs]\n",
    "X_test = train_adata.X[test_idxs]\n",
    "X_val = train_adata.X[val_idxs]\n",
    "X_train.shape, X_test.shape, X_val.shape"
   ]
  },
  {
   "cell_type": "code",
   "execution_count": 15,
   "id": "dcf65181",
   "metadata": {
    "execution": {
     "iopub.execute_input": "2025-05-15T16:15:49.229637Z",
     "iopub.status.busy": "2025-05-15T16:15:49.229283Z",
     "iopub.status.idle": "2025-05-15T16:15:49.235582Z",
     "shell.execute_reply": "2025-05-15T16:15:49.235222Z"
    },
    "papermill": {
     "duration": 0.014946,
     "end_time": "2025-05-15T16:15:49.236519",
     "exception": false,
     "start_time": "2025-05-15T16:15:49.221573",
     "status": "completed"
    },
    "tags": []
   },
   "outputs": [
    {
     "data": {
      "text/plain": [
       "((308,), (116,), (118,))"
      ]
     },
     "execution_count": 15,
     "metadata": {},
     "output_type": "execute_result"
    }
   ],
   "source": [
    "y_train = train_adata.obs.iloc[train_idxs].disease.values.astype(str)\n",
    "y_test = train_adata.obs.iloc[test_idxs].disease.values.astype(str)\n",
    "y_val = train_adata.obs.iloc[val_idxs].disease.values.astype(str)\n",
    "y_train.shape, y_test.shape, y_val.shape"
   ]
  },
  {
   "cell_type": "code",
   "execution_count": 16,
   "id": "c5c6a8aa",
   "metadata": {
    "execution": {
     "iopub.execute_input": "2025-05-15T16:15:49.251775Z",
     "iopub.status.busy": "2025-05-15T16:15:49.251479Z",
     "iopub.status.idle": "2025-05-15T16:15:49.255317Z",
     "shell.execute_reply": "2025-05-15T16:15:49.254926Z"
    },
    "papermill": {
     "duration": 0.012715,
     "end_time": "2025-05-15T16:15:49.256490",
     "exception": false,
     "start_time": "2025-05-15T16:15:49.243775",
     "status": "completed"
    },
    "tags": []
   },
   "outputs": [],
   "source": [
    "lenc = LabelEncoder()\n",
    "y_train_enc = lenc.fit_transform(y_train)\n",
    "y_val_enc = lenc.transform(y_val)\n",
    "y_test_enc = lenc.transform(y_test)"
   ]
  },
  {
   "cell_type": "markdown",
   "id": "37389a2c",
   "metadata": {
    "papermill": {
     "duration": 0.007194,
     "end_time": "2025-05-15T16:15:49.271114",
     "exception": false,
     "start_time": "2025-05-15T16:15:49.263920",
     "status": "completed"
    },
    "tags": []
   },
   "source": [
    "### GENERATE F1 "
   ]
  },
  {
   "cell_type": "code",
   "execution_count": 17,
   "id": "43b74a1d",
   "metadata": {
    "execution": {
     "iopub.execute_input": "2025-05-15T16:15:49.287245Z",
     "iopub.status.busy": "2025-05-15T16:15:49.286717Z",
     "iopub.status.idle": "2025-05-15T16:15:49.290026Z",
     "shell.execute_reply": "2025-05-15T16:15:49.289613Z"
    },
    "papermill": {
     "duration": 0.012367,
     "end_time": "2025-05-15T16:15:49.290940",
     "exception": false,
     "start_time": "2025-05-15T16:15:49.278573",
     "status": "completed"
    },
    "tags": []
   },
   "outputs": [],
   "source": [
    "def custom_f1_score(y_true, y_pred):\n",
    "    return -f1_score(y_true, y_pred.argmax(1), average='weighted')"
   ]
  },
  {
   "cell_type": "code",
   "execution_count": 18,
   "id": "8f77a23c",
   "metadata": {
    "execution": {
     "iopub.execute_input": "2025-05-15T16:15:49.306380Z",
     "iopub.status.busy": "2025-05-15T16:15:49.306076Z",
     "iopub.status.idle": "2025-05-15T16:15:49.310844Z",
     "shell.execute_reply": "2025-05-15T16:15:49.310431Z"
    },
    "papermill": {
     "duration": 0.013513,
     "end_time": "2025-05-15T16:15:49.311781",
     "exception": false,
     "start_time": "2025-05-15T16:15:49.298268",
     "status": "completed"
    },
    "tags": []
   },
   "outputs": [],
   "source": [
    "eval_metric=custom_f1_score\n",
    "eval_metric_name='custom_f1_score'\n",
    "\n",
    "def objective(trial):\n",
    "    params = {\n",
    "        'n_estimators': 1500,\n",
    "        'max_depth': trial.suggest_int('max_depth', 3, 20),\n",
    "        'min_child_weight': trial.suggest_int('min_child_weight', 1, 250),\n",
    "        'subsample': trial.suggest_float('subsample', 0.1, 1.0),\n",
    "        'colsample_bynode': trial.suggest_float('colsample_bynode', 0.1, 1.0),\n",
    "        'learning_rate': trial.suggest_float('learning_rate', 1e-3, 5e-1, log=True),\n",
    "    }\n",
    "    pruning_callback = optuna.integration.XGBoostPruningCallback(trial, f'validation_0-{eval_metric_name}')\n",
    "    es_callback = xgboost.callback.EarlyStopping(20, min_delta=0.001)\n",
    "    xgb = xgboost.XGBClassifier(\n",
    "        eval_metric=eval_metric,\n",
    "        callbacks=[pruning_callback, es_callback],\n",
    "        n_jobs=5,\n",
    "        **params\n",
    "    )\n",
    "    xgb.fit(\n",
    "        X_train, \n",
    "        y_train_enc, \n",
    "        verbose=0,\n",
    "        eval_set=[(X_val, y_val_enc)],\n",
    "    )\n",
    "    trial.set_user_attr('best_iteration', xgb.best_iteration)\n",
    "\n",
    "    return xgb.best_score"
   ]
  },
  {
   "cell_type": "code",
   "execution_count": 19,
   "id": "7159c572",
   "metadata": {
    "execution": {
     "iopub.execute_input": "2025-05-15T16:15:49.326026Z",
     "iopub.status.busy": "2025-05-15T16:15:49.325585Z",
     "iopub.status.idle": "2025-05-15T16:16:01.312323Z",
     "shell.execute_reply": "2025-05-15T16:16:01.311795Z"
    },
    "papermill": {
     "duration": 11.99516,
     "end_time": "2025-05-15T16:16:01.313464",
     "exception": false,
     "start_time": "2025-05-15T16:15:49.318304",
     "status": "completed"
    },
    "scrolled": true,
    "tags": []
   },
   "outputs": [
    {
     "name": "stderr",
     "output_type": "stream",
     "text": [
      "[I 2025-05-15 18:15:49,328] A new study created in memory with name: no-name-275f8c00-587d-4e0c-a296-3bfa5ad889d5\n"
     ]
    },
    {
     "name": "stderr",
     "output_type": "stream",
     "text": [
      "[I 2025-05-15 18:15:49,551] Trial 0 finished with value: -0.015898 and parameters: {'max_depth': 9, 'min_child_weight': 238, 'subsample': 0.7587945476302645, 'colsample_bynode': 0.6387926357773329, 'learning_rate': 0.0026368755339723046}. Best is trial 0 with value: -0.015898.\n"
     ]
    },
    {
     "name": "stderr",
     "output_type": "stream",
     "text": [
      "[I 2025-05-15 18:15:49,895] Trial 1 finished with value: -0.410233 and parameters: {'max_depth': 5, 'min_child_weight': 15, 'subsample': 0.8795585311974417, 'colsample_bynode': 0.6410035105688879, 'learning_rate': 0.08148293210105287}. Best is trial 1 with value: -0.410233.\n"
     ]
    },
    {
     "name": "stderr",
     "output_type": "stream",
     "text": [
      "[I 2025-05-15 18:15:50,071] Trial 2 finished with value: -0.015898 and parameters: {'max_depth': 3, 'min_child_weight': 243, 'subsample': 0.8491983767203796, 'colsample_bynode': 0.29110519961044856, 'learning_rate': 0.003095566460242371}. Best is trial 1 with value: -0.410233.\n"
     ]
    },
    {
     "name": "stderr",
     "output_type": "stream",
     "text": [
      "[I 2025-05-15 18:15:50,231] Trial 3 finished with value: -0.015898 and parameters: {'max_depth': 6, 'min_child_weight': 77, 'subsample': 0.5722807884690141, 'colsample_bynode': 0.48875051677790415, 'learning_rate': 0.006109683510122491}. Best is trial 1 with value: -0.410233.\n"
     ]
    },
    {
     "name": "stderr",
     "output_type": "stream",
     "text": [
      "[I 2025-05-15 18:15:50,405] Trial 4 finished with value: -0.015898 and parameters: {'max_depth': 14, 'min_child_weight': 35, 'subsample': 0.3629301836816964, 'colsample_bynode': 0.4297256589643226, 'learning_rate': 0.01701841881702917}. Best is trial 1 with value: -0.410233.\n"
     ]
    },
    {
     "name": "stderr",
     "output_type": "stream",
     "text": [
      "[I 2025-05-15 18:15:50,558] Trial 5 finished with value: -0.015898 and parameters: {'max_depth': 17, 'min_child_weight': 50, 'subsample': 0.5628109945722505, 'colsample_bynode': 0.6331731119758383, 'learning_rate': 0.0013346527038305934}. Best is trial 1 with value: -0.410233.\n"
     ]
    },
    {
     "name": "stderr",
     "output_type": "stream",
     "text": [
      "[I 2025-05-15 18:15:50,742] Trial 6 finished with value: -0.015898 and parameters: {'max_depth': 13, 'min_child_weight': 43, 'subsample': 0.1585464336867516, 'colsample_bynode': 0.9539969835279999, 'learning_rate': 0.4038423798071558}. Best is trial 1 with value: -0.410233.\n"
     ]
    },
    {
     "name": "stderr",
     "output_type": "stream",
     "text": [
      "[I 2025-05-15 18:15:50,904] Trial 7 finished with value: -0.015898 and parameters: {'max_depth': 17, 'min_child_weight': 77, 'subsample': 0.1879049026057455, 'colsample_bynode': 0.7158097238609412, 'learning_rate': 0.015415527060141935}. Best is trial 1 with value: -0.410233.\n"
     ]
    },
    {
     "name": "stderr",
     "output_type": "stream",
     "text": [
      "[I 2025-05-15 18:15:51,084] Trial 8 finished with value: -0.015898 and parameters: {'max_depth': 5, 'min_child_weight': 124, 'subsample': 0.13094966900369656, 'colsample_bynode': 0.9183883618709039, 'learning_rate': 0.004993895014755658}. Best is trial 1 with value: -0.410233.\n"
     ]
    },
    {
     "name": "stderr",
     "output_type": "stream",
     "text": [
      "[I 2025-05-15 18:15:51,252] Trial 9 finished with value: -0.015898 and parameters: {'max_depth': 14, 'min_child_weight': 78, 'subsample': 0.5680612190600297, 'colsample_bynode': 0.5920392514089517, 'learning_rate': 0.0031543990308330965}. Best is trial 1 with value: -0.410233.\n"
     ]
    },
    {
     "name": "stderr",
     "output_type": "stream",
     "text": [
      "[I 2025-05-15 18:15:51,866] Trial 10 finished with value: -0.508558 and parameters: {'max_depth': 9, 'min_child_weight': 2, 'subsample': 0.9725833997090791, 'colsample_bynode': 0.11616568805333755, 'learning_rate': 0.17780618353487967}. Best is trial 10 with value: -0.508558.\n"
     ]
    },
    {
     "name": "stderr",
     "output_type": "stream",
     "text": [
      "[I 2025-05-15 18:15:52,291] Trial 11 finished with value: -0.511584 and parameters: {'max_depth': 9, 'min_child_weight': 4, 'subsample': 0.9818290990185045, 'colsample_bynode': 0.17702656156719, 'learning_rate': 0.11568531411766632}. Best is trial 11 with value: -0.511584.\n"
     ]
    },
    {
     "name": "stderr",
     "output_type": "stream",
     "text": [
      "[I 2025-05-15 18:15:52,642] Trial 12 finished with value: -0.455172 and parameters: {'max_depth': 9, 'min_child_weight': 2, 'subsample': 0.9762317723681219, 'colsample_bynode': 0.1303670507685675, 'learning_rate': 0.14353293664472047}. Best is trial 11 with value: -0.511584.\n"
     ]
    },
    {
     "name": "stderr",
     "output_type": "stream",
     "text": [
      "[I 2025-05-15 18:15:52,834] Trial 13 pruned. Trial was pruned at iteration 20.\n"
     ]
    },
    {
     "name": "stderr",
     "output_type": "stream",
     "text": [
      "[I 2025-05-15 18:15:52,989] Trial 14 pruned. Trial was pruned at iteration 20.\n"
     ]
    },
    {
     "name": "stderr",
     "output_type": "stream",
     "text": [
      "[I 2025-05-15 18:15:53,333] Trial 15 finished with value: -0.453397 and parameters: {'max_depth': 20, 'min_child_weight': 2, 'subsample': 0.719264024177087, 'colsample_bynode': 0.2540835086298475, 'learning_rate': 0.03987682305667138}. Best is trial 11 with value: -0.511584.\n"
     ]
    },
    {
     "name": "stderr",
     "output_type": "stream",
     "text": [
      "[I 2025-05-15 18:15:53,502] Trial 16 finished with value: -0.015898 and parameters: {'max_depth': 11, 'min_child_weight': 125, 'subsample': 0.8815541734801864, 'colsample_bynode': 0.37074095931791284, 'learning_rate': 0.18961687234093502}. Best is trial 11 with value: -0.511584.\n"
     ]
    },
    {
     "name": "stderr",
     "output_type": "stream",
     "text": [
      "[I 2025-05-15 18:15:53,674] Trial 17 pruned. Trial was pruned at iteration 20.\n"
     ]
    },
    {
     "name": "stderr",
     "output_type": "stream",
     "text": [
      "[I 2025-05-15 18:15:53,852] Trial 18 pruned. Trial was pruned at iteration 20.\n"
     ]
    },
    {
     "name": "stderr",
     "output_type": "stream",
     "text": [
      "[I 2025-05-15 18:15:54,018] Trial 19 pruned. Trial was pruned at iteration 20.\n"
     ]
    },
    {
     "name": "stderr",
     "output_type": "stream",
     "text": [
      "[I 2025-05-15 18:15:54,215] Trial 20 finished with value: -0.015898 and parameters: {'max_depth': 7, 'min_child_weight': 60, 'subsample': 0.6596113500838445, 'colsample_bynode': 0.20927736326660645, 'learning_rate': 0.25272718592857407}. Best is trial 11 with value: -0.511584.\n"
     ]
    },
    {
     "name": "stderr",
     "output_type": "stream",
     "text": [
      "[I 2025-05-15 18:15:54,654] Trial 21 pruned. Trial was pruned at iteration 22.\n"
     ]
    },
    {
     "name": "stderr",
     "output_type": "stream",
     "text": [
      "[I 2025-05-15 18:15:54,868] Trial 22 pruned. Trial was pruned at iteration 20.\n"
     ]
    },
    {
     "name": "stderr",
     "output_type": "stream",
     "text": [
      "[I 2025-05-15 18:15:55,071] Trial 23 pruned. Trial was pruned at iteration 20.\n"
     ]
    },
    {
     "name": "stderr",
     "output_type": "stream",
     "text": [
      "[I 2025-05-15 18:15:55,578] Trial 24 pruned. Trial was pruned at iteration 39.\n"
     ]
    },
    {
     "name": "stderr",
     "output_type": "stream",
     "text": [
      "[I 2025-05-15 18:15:55,778] Trial 25 finished with value: -0.015898 and parameters: {'max_depth': 7, 'min_child_weight': 62, 'subsample': 0.6518609839016476, 'colsample_bynode': 0.24782920357677385, 'learning_rate': 0.02917934317947932}. Best is trial 11 with value: -0.511584.\n"
     ]
    },
    {
     "name": "stderr",
     "output_type": "stream",
     "text": [
      "[I 2025-05-15 18:15:55,974] Trial 26 pruned. Trial was pruned at iteration 20.\n"
     ]
    },
    {
     "name": "stderr",
     "output_type": "stream",
     "text": [
      "[I 2025-05-15 18:15:56,163] Trial 27 pruned. Trial was pruned at iteration 20.\n"
     ]
    },
    {
     "name": "stderr",
     "output_type": "stream",
     "text": [
      "[I 2025-05-15 18:15:56,357] Trial 28 finished with value: -0.015898 and parameters: {'max_depth': 8, 'min_child_weight': 161, 'subsample': 0.9239274347029691, 'colsample_bynode': 0.10167611999840138, 'learning_rate': 0.010626708364920924}. Best is trial 11 with value: -0.511584.\n"
     ]
    },
    {
     "name": "stderr",
     "output_type": "stream",
     "text": [
      "[I 2025-05-15 18:15:56,552] Trial 29 pruned. Trial was pruned at iteration 20.\n"
     ]
    },
    {
     "name": "stderr",
     "output_type": "stream",
     "text": [
      "[I 2025-05-15 18:15:56,751] Trial 30 finished with value: -0.015898 and parameters: {'max_depth': 15, 'min_child_weight': 220, 'subsample': 0.25429084169236593, 'colsample_bynode': 0.4135083530985696, 'learning_rate': 0.2286008729131288}. Best is trial 11 with value: -0.511584.\n"
     ]
    },
    {
     "name": "stderr",
     "output_type": "stream",
     "text": [
      "[I 2025-05-15 18:15:57,077] Trial 31 pruned. Trial was pruned at iteration 23.\n"
     ]
    },
    {
     "name": "stderr",
     "output_type": "stream",
     "text": [
      "[I 2025-05-15 18:15:57,301] Trial 32 pruned. Trial was pruned at iteration 20.\n"
     ]
    },
    {
     "name": "stderr",
     "output_type": "stream",
     "text": [
      "[I 2025-05-15 18:15:57,505] Trial 33 finished with value: -0.115706 and parameters: {'max_depth': 18, 'min_child_weight': 34, 'subsample': 0.8091989479056064, 'colsample_bynode': 0.24982046964494456, 'learning_rate': 0.033413639345861855}. Best is trial 11 with value: -0.511584.\n"
     ]
    },
    {
     "name": "stderr",
     "output_type": "stream",
     "text": [
      "[I 2025-05-15 18:15:57,960] Trial 34 pruned. Trial was pruned at iteration 23.\n"
     ]
    },
    {
     "name": "stderr",
     "output_type": "stream",
     "text": [
      "[I 2025-05-15 18:15:58,157] Trial 35 pruned. Trial was pruned at iteration 20.\n"
     ]
    },
    {
     "name": "stderr",
     "output_type": "stream",
     "text": [
      "[I 2025-05-15 18:15:58,416] Trial 36 finished with value: -0.481948 and parameters: {'max_depth': 6, 'min_child_weight': 16, 'subsample': 0.8805095565566401, 'colsample_bynode': 0.21641816057255986, 'learning_rate': 0.30337637008954804}. Best is trial 11 with value: -0.511584.\n"
     ]
    },
    {
     "name": "stderr",
     "output_type": "stream",
     "text": [
      "[I 2025-05-15 18:15:58,617] Trial 37 pruned. Trial was pruned at iteration 20.\n"
     ]
    },
    {
     "name": "stderr",
     "output_type": "stream",
     "text": [
      "[I 2025-05-15 18:15:58,855] Trial 38 finished with value: -0.444267 and parameters: {'max_depth': 6, 'min_child_weight': 18, 'subsample': 0.9499964233456725, 'colsample_bynode': 0.5009026374761054, 'learning_rate': 0.39943087211802886}. Best is trial 11 with value: -0.511584.\n"
     ]
    },
    {
     "name": "stderr",
     "output_type": "stream",
     "text": [
      "[I 2025-05-15 18:15:59,052] Trial 39 pruned. Trial was pruned at iteration 20.\n"
     ]
    },
    {
     "name": "stderr",
     "output_type": "stream",
     "text": [
      "[I 2025-05-15 18:15:59,251] Trial 40 finished with value: -0.015898 and parameters: {'max_depth': 5, 'min_child_weight': 86, 'subsample': 0.8973726166387954, 'colsample_bynode': 0.3995317556147221, 'learning_rate': 0.33623260571345875}. Best is trial 11 with value: -0.511584.\n"
     ]
    },
    {
     "name": "stderr",
     "output_type": "stream",
     "text": [
      "[I 2025-05-15 18:15:59,491] Trial 41 pruned. Trial was pruned at iteration 20.\n"
     ]
    },
    {
     "name": "stderr",
     "output_type": "stream",
     "text": [
      "[I 2025-05-15 18:15:59,712] Trial 42 pruned. Trial was pruned at iteration 21.\n"
     ]
    },
    {
     "name": "stderr",
     "output_type": "stream",
     "text": [
      "[I 2025-05-15 18:15:59,908] Trial 43 pruned. Trial was pruned at iteration 20.\n"
     ]
    },
    {
     "name": "stderr",
     "output_type": "stream",
     "text": [
      "[I 2025-05-15 18:16:00,103] Trial 44 finished with value: -0.115706 and parameters: {'max_depth': 8, 'min_child_weight': 48, 'subsample': 0.8673537411554839, 'colsample_bynode': 0.2880001967011719, 'learning_rate': 0.10715333734286124}. Best is trial 11 with value: -0.511584.\n"
     ]
    },
    {
     "name": "stderr",
     "output_type": "stream",
     "text": [
      "[I 2025-05-15 18:16:00,338] Trial 45 pruned. Trial was pruned at iteration 20.\n"
     ]
    },
    {
     "name": "stderr",
     "output_type": "stream",
     "text": [
      "[I 2025-05-15 18:16:00,530] Trial 46 pruned. Trial was pruned at iteration 20.\n"
     ]
    },
    {
     "name": "stderr",
     "output_type": "stream",
     "text": [
      "[I 2025-05-15 18:16:00,740] Trial 47 pruned. Trial was pruned at iteration 20.\n"
     ]
    },
    {
     "name": "stderr",
     "output_type": "stream",
     "text": [
      "[I 2025-05-15 18:16:00,930] Trial 48 finished with value: -0.115706 and parameters: {'max_depth': 13, 'min_child_weight': 41, 'subsample': 0.7046018978451993, 'colsample_bynode': 0.23159047831619423, 'learning_rate': 0.023378094426493225}. Best is trial 11 with value: -0.511584.\n"
     ]
    },
    {
     "name": "stderr",
     "output_type": "stream",
     "text": [
      "[I 2025-05-15 18:16:01,202] Trial 49 pruned. Trial was pruned at iteration 21.\n"
     ]
    }
   ],
   "source": [
    "sampler = optuna.samplers.TPESampler(seed=42)\n",
    "study = optuna.create_study(direction='minimize', sampler=sampler)\n",
    "study.optimize(objective, n_trials=N_TRIALS, gc_after_trial=True)"
   ]
  },
  {
   "cell_type": "code",
   "execution_count": 20,
   "id": "bdc298ea",
   "metadata": {
    "execution": {
     "iopub.execute_input": "2025-05-15T16:16:01.334538Z",
     "iopub.status.busy": "2025-05-15T16:16:01.334250Z",
     "iopub.status.idle": "2025-05-15T16:16:01.357051Z",
     "shell.execute_reply": "2025-05-15T16:16:01.356657Z"
    },
    "papermill": {
     "duration": 0.034524,
     "end_time": "2025-05-15T16:16:01.358263",
     "exception": false,
     "start_time": "2025-05-15T16:16:01.323739",
     "status": "completed"
    },
    "tags": []
   },
   "outputs": [
    {
     "data": {
      "text/plain": [
       "['/scratch_isilon/groups/singlecell/shared/projects/Inflammation-PBMCs-Atlas/03_downstream_analysis/08_gene_importance/xgboost_external_validation/xgboost_TopN_genes/results_20/study/Plasma_16_4_xgboost.pkl']"
      ]
     },
     "execution_count": 20,
     "metadata": {},
     "output_type": "execute_result"
    }
   ],
   "source": [
    "out_dir = here(f'03_downstream_analysis/08_gene_importance/xgboost_external_validation/xgboost_TopN_genes/results_{N_GENES}/study')\n",
    "\n",
    "if not os.path.exists(out_dir):\n",
    "    os.makedirs(out_dir)\n",
    "    \n",
    "joblib.dump(study,os.path.join(out_dir, f'{CELL_TYPE}_{SEED}_{TEST_SPLIT_IDX}_xgboost.pkl'))"
   ]
  },
  {
   "cell_type": "code",
   "execution_count": 21,
   "id": "45f3c952",
   "metadata": {
    "execution": {
     "iopub.execute_input": "2025-05-15T16:16:01.378639Z",
     "iopub.status.busy": "2025-05-15T16:16:01.378358Z",
     "iopub.status.idle": "2025-05-15T16:16:01.568294Z",
     "shell.execute_reply": "2025-05-15T16:16:01.567837Z"
    },
    "papermill": {
     "duration": 0.201628,
     "end_time": "2025-05-15T16:16:01.569643",
     "exception": false,
     "start_time": "2025-05-15T16:16:01.368015",
     "status": "completed"
    },
    "tags": []
   },
   "outputs": [
    {
     "data": {
      "text/html": [
       "<style>#sk-container-id-1 {\n",
       "  /* Definition of color scheme common for light and dark mode */\n",
       "  --sklearn-color-text: black;\n",
       "  --sklearn-color-line: gray;\n",
       "  /* Definition of color scheme for unfitted estimators */\n",
       "  --sklearn-color-unfitted-level-0: #fff5e6;\n",
       "  --sklearn-color-unfitted-level-1: #f6e4d2;\n",
       "  --sklearn-color-unfitted-level-2: #ffe0b3;\n",
       "  --sklearn-color-unfitted-level-3: chocolate;\n",
       "  /* Definition of color scheme for fitted estimators */\n",
       "  --sklearn-color-fitted-level-0: #f0f8ff;\n",
       "  --sklearn-color-fitted-level-1: #d4ebff;\n",
       "  --sklearn-color-fitted-level-2: #b3dbfd;\n",
       "  --sklearn-color-fitted-level-3: cornflowerblue;\n",
       "\n",
       "  /* Specific color for light theme */\n",
       "  --sklearn-color-text-on-default-background: var(--sg-text-color, var(--theme-code-foreground, var(--jp-content-font-color1, black)));\n",
       "  --sklearn-color-background: var(--sg-background-color, var(--theme-background, var(--jp-layout-color0, white)));\n",
       "  --sklearn-color-border-box: var(--sg-text-color, var(--theme-code-foreground, var(--jp-content-font-color1, black)));\n",
       "  --sklearn-color-icon: #696969;\n",
       "\n",
       "  @media (prefers-color-scheme: dark) {\n",
       "    /* Redefinition of color scheme for dark theme */\n",
       "    --sklearn-color-text-on-default-background: var(--sg-text-color, var(--theme-code-foreground, var(--jp-content-font-color1, white)));\n",
       "    --sklearn-color-background: var(--sg-background-color, var(--theme-background, var(--jp-layout-color0, #111)));\n",
       "    --sklearn-color-border-box: var(--sg-text-color, var(--theme-code-foreground, var(--jp-content-font-color1, white)));\n",
       "    --sklearn-color-icon: #878787;\n",
       "  }\n",
       "}\n",
       "\n",
       "#sk-container-id-1 {\n",
       "  color: var(--sklearn-color-text);\n",
       "}\n",
       "\n",
       "#sk-container-id-1 pre {\n",
       "  padding: 0;\n",
       "}\n",
       "\n",
       "#sk-container-id-1 input.sk-hidden--visually {\n",
       "  border: 0;\n",
       "  clip: rect(1px 1px 1px 1px);\n",
       "  clip: rect(1px, 1px, 1px, 1px);\n",
       "  height: 1px;\n",
       "  margin: -1px;\n",
       "  overflow: hidden;\n",
       "  padding: 0;\n",
       "  position: absolute;\n",
       "  width: 1px;\n",
       "}\n",
       "\n",
       "#sk-container-id-1 div.sk-dashed-wrapped {\n",
       "  border: 1px dashed var(--sklearn-color-line);\n",
       "  margin: 0 0.4em 0.5em 0.4em;\n",
       "  box-sizing: border-box;\n",
       "  padding-bottom: 0.4em;\n",
       "  background-color: var(--sklearn-color-background);\n",
       "}\n",
       "\n",
       "#sk-container-id-1 div.sk-container {\n",
       "  /* jupyter's `normalize.less` sets `[hidden] { display: none; }`\n",
       "     but bootstrap.min.css set `[hidden] { display: none !important; }`\n",
       "     so we also need the `!important` here to be able to override the\n",
       "     default hidden behavior on the sphinx rendered scikit-learn.org.\n",
       "     See: https://github.com/scikit-learn/scikit-learn/issues/21755 */\n",
       "  display: inline-block !important;\n",
       "  position: relative;\n",
       "}\n",
       "\n",
       "#sk-container-id-1 div.sk-text-repr-fallback {\n",
       "  display: none;\n",
       "}\n",
       "\n",
       "div.sk-parallel-item,\n",
       "div.sk-serial,\n",
       "div.sk-item {\n",
       "  /* draw centered vertical line to link estimators */\n",
       "  background-image: linear-gradient(var(--sklearn-color-text-on-default-background), var(--sklearn-color-text-on-default-background));\n",
       "  background-size: 2px 100%;\n",
       "  background-repeat: no-repeat;\n",
       "  background-position: center center;\n",
       "}\n",
       "\n",
       "/* Parallel-specific style estimator block */\n",
       "\n",
       "#sk-container-id-1 div.sk-parallel-item::after {\n",
       "  content: \"\";\n",
       "  width: 100%;\n",
       "  border-bottom: 2px solid var(--sklearn-color-text-on-default-background);\n",
       "  flex-grow: 1;\n",
       "}\n",
       "\n",
       "#sk-container-id-1 div.sk-parallel {\n",
       "  display: flex;\n",
       "  align-items: stretch;\n",
       "  justify-content: center;\n",
       "  background-color: var(--sklearn-color-background);\n",
       "  position: relative;\n",
       "}\n",
       "\n",
       "#sk-container-id-1 div.sk-parallel-item {\n",
       "  display: flex;\n",
       "  flex-direction: column;\n",
       "}\n",
       "\n",
       "#sk-container-id-1 div.sk-parallel-item:first-child::after {\n",
       "  align-self: flex-end;\n",
       "  width: 50%;\n",
       "}\n",
       "\n",
       "#sk-container-id-1 div.sk-parallel-item:last-child::after {\n",
       "  align-self: flex-start;\n",
       "  width: 50%;\n",
       "}\n",
       "\n",
       "#sk-container-id-1 div.sk-parallel-item:only-child::after {\n",
       "  width: 0;\n",
       "}\n",
       "\n",
       "/* Serial-specific style estimator block */\n",
       "\n",
       "#sk-container-id-1 div.sk-serial {\n",
       "  display: flex;\n",
       "  flex-direction: column;\n",
       "  align-items: center;\n",
       "  background-color: var(--sklearn-color-background);\n",
       "  padding-right: 1em;\n",
       "  padding-left: 1em;\n",
       "}\n",
       "\n",
       "\n",
       "/* Toggleable style: style used for estimator/Pipeline/ColumnTransformer box that is\n",
       "clickable and can be expanded/collapsed.\n",
       "- Pipeline and ColumnTransformer use this feature and define the default style\n",
       "- Estimators will overwrite some part of the style using the `sk-estimator` class\n",
       "*/\n",
       "\n",
       "/* Pipeline and ColumnTransformer style (default) */\n",
       "\n",
       "#sk-container-id-1 div.sk-toggleable {\n",
       "  /* Default theme specific background. It is overwritten whether we have a\n",
       "  specific estimator or a Pipeline/ColumnTransformer */\n",
       "  background-color: var(--sklearn-color-background);\n",
       "}\n",
       "\n",
       "/* Toggleable label */\n",
       "#sk-container-id-1 label.sk-toggleable__label {\n",
       "  cursor: pointer;\n",
       "  display: block;\n",
       "  width: 100%;\n",
       "  margin-bottom: 0;\n",
       "  padding: 0.5em;\n",
       "  box-sizing: border-box;\n",
       "  text-align: center;\n",
       "}\n",
       "\n",
       "#sk-container-id-1 label.sk-toggleable__label-arrow:before {\n",
       "  /* Arrow on the left of the label */\n",
       "  content: \"▸\";\n",
       "  float: left;\n",
       "  margin-right: 0.25em;\n",
       "  color: var(--sklearn-color-icon);\n",
       "}\n",
       "\n",
       "#sk-container-id-1 label.sk-toggleable__label-arrow:hover:before {\n",
       "  color: var(--sklearn-color-text);\n",
       "}\n",
       "\n",
       "/* Toggleable content - dropdown */\n",
       "\n",
       "#sk-container-id-1 div.sk-toggleable__content {\n",
       "  max-height: 0;\n",
       "  max-width: 0;\n",
       "  overflow: hidden;\n",
       "  text-align: left;\n",
       "  /* unfitted */\n",
       "  background-color: var(--sklearn-color-unfitted-level-0);\n",
       "}\n",
       "\n",
       "#sk-container-id-1 div.sk-toggleable__content.fitted {\n",
       "  /* fitted */\n",
       "  background-color: var(--sklearn-color-fitted-level-0);\n",
       "}\n",
       "\n",
       "#sk-container-id-1 div.sk-toggleable__content pre {\n",
       "  margin: 0.2em;\n",
       "  border-radius: 0.25em;\n",
       "  color: var(--sklearn-color-text);\n",
       "  /* unfitted */\n",
       "  background-color: var(--sklearn-color-unfitted-level-0);\n",
       "}\n",
       "\n",
       "#sk-container-id-1 div.sk-toggleable__content.fitted pre {\n",
       "  /* unfitted */\n",
       "  background-color: var(--sklearn-color-fitted-level-0);\n",
       "}\n",
       "\n",
       "#sk-container-id-1 input.sk-toggleable__control:checked~div.sk-toggleable__content {\n",
       "  /* Expand drop-down */\n",
       "  max-height: 200px;\n",
       "  max-width: 100%;\n",
       "  overflow: auto;\n",
       "}\n",
       "\n",
       "#sk-container-id-1 input.sk-toggleable__control:checked~label.sk-toggleable__label-arrow:before {\n",
       "  content: \"▾\";\n",
       "}\n",
       "\n",
       "/* Pipeline/ColumnTransformer-specific style */\n",
       "\n",
       "#sk-container-id-1 div.sk-label input.sk-toggleable__control:checked~label.sk-toggleable__label {\n",
       "  color: var(--sklearn-color-text);\n",
       "  background-color: var(--sklearn-color-unfitted-level-2);\n",
       "}\n",
       "\n",
       "#sk-container-id-1 div.sk-label.fitted input.sk-toggleable__control:checked~label.sk-toggleable__label {\n",
       "  background-color: var(--sklearn-color-fitted-level-2);\n",
       "}\n",
       "\n",
       "/* Estimator-specific style */\n",
       "\n",
       "/* Colorize estimator box */\n",
       "#sk-container-id-1 div.sk-estimator input.sk-toggleable__control:checked~label.sk-toggleable__label {\n",
       "  /* unfitted */\n",
       "  background-color: var(--sklearn-color-unfitted-level-2);\n",
       "}\n",
       "\n",
       "#sk-container-id-1 div.sk-estimator.fitted input.sk-toggleable__control:checked~label.sk-toggleable__label {\n",
       "  /* fitted */\n",
       "  background-color: var(--sklearn-color-fitted-level-2);\n",
       "}\n",
       "\n",
       "#sk-container-id-1 div.sk-label label.sk-toggleable__label,\n",
       "#sk-container-id-1 div.sk-label label {\n",
       "  /* The background is the default theme color */\n",
       "  color: var(--sklearn-color-text-on-default-background);\n",
       "}\n",
       "\n",
       "/* On hover, darken the color of the background */\n",
       "#sk-container-id-1 div.sk-label:hover label.sk-toggleable__label {\n",
       "  color: var(--sklearn-color-text);\n",
       "  background-color: var(--sklearn-color-unfitted-level-2);\n",
       "}\n",
       "\n",
       "/* Label box, darken color on hover, fitted */\n",
       "#sk-container-id-1 div.sk-label.fitted:hover label.sk-toggleable__label.fitted {\n",
       "  color: var(--sklearn-color-text);\n",
       "  background-color: var(--sklearn-color-fitted-level-2);\n",
       "}\n",
       "\n",
       "/* Estimator label */\n",
       "\n",
       "#sk-container-id-1 div.sk-label label {\n",
       "  font-family: monospace;\n",
       "  font-weight: bold;\n",
       "  display: inline-block;\n",
       "  line-height: 1.2em;\n",
       "}\n",
       "\n",
       "#sk-container-id-1 div.sk-label-container {\n",
       "  text-align: center;\n",
       "}\n",
       "\n",
       "/* Estimator-specific */\n",
       "#sk-container-id-1 div.sk-estimator {\n",
       "  font-family: monospace;\n",
       "  border: 1px dotted var(--sklearn-color-border-box);\n",
       "  border-radius: 0.25em;\n",
       "  box-sizing: border-box;\n",
       "  margin-bottom: 0.5em;\n",
       "  /* unfitted */\n",
       "  background-color: var(--sklearn-color-unfitted-level-0);\n",
       "}\n",
       "\n",
       "#sk-container-id-1 div.sk-estimator.fitted {\n",
       "  /* fitted */\n",
       "  background-color: var(--sklearn-color-fitted-level-0);\n",
       "}\n",
       "\n",
       "/* on hover */\n",
       "#sk-container-id-1 div.sk-estimator:hover {\n",
       "  /* unfitted */\n",
       "  background-color: var(--sklearn-color-unfitted-level-2);\n",
       "}\n",
       "\n",
       "#sk-container-id-1 div.sk-estimator.fitted:hover {\n",
       "  /* fitted */\n",
       "  background-color: var(--sklearn-color-fitted-level-2);\n",
       "}\n",
       "\n",
       "/* Specification for estimator info (e.g. \"i\" and \"?\") */\n",
       "\n",
       "/* Common style for \"i\" and \"?\" */\n",
       "\n",
       ".sk-estimator-doc-link,\n",
       "a:link.sk-estimator-doc-link,\n",
       "a:visited.sk-estimator-doc-link {\n",
       "  float: right;\n",
       "  font-size: smaller;\n",
       "  line-height: 1em;\n",
       "  font-family: monospace;\n",
       "  background-color: var(--sklearn-color-background);\n",
       "  border-radius: 1em;\n",
       "  height: 1em;\n",
       "  width: 1em;\n",
       "  text-decoration: none !important;\n",
       "  margin-left: 1ex;\n",
       "  /* unfitted */\n",
       "  border: var(--sklearn-color-unfitted-level-1) 1pt solid;\n",
       "  color: var(--sklearn-color-unfitted-level-1);\n",
       "}\n",
       "\n",
       ".sk-estimator-doc-link.fitted,\n",
       "a:link.sk-estimator-doc-link.fitted,\n",
       "a:visited.sk-estimator-doc-link.fitted {\n",
       "  /* fitted */\n",
       "  border: var(--sklearn-color-fitted-level-1) 1pt solid;\n",
       "  color: var(--sklearn-color-fitted-level-1);\n",
       "}\n",
       "\n",
       "/* On hover */\n",
       "div.sk-estimator:hover .sk-estimator-doc-link:hover,\n",
       ".sk-estimator-doc-link:hover,\n",
       "div.sk-label-container:hover .sk-estimator-doc-link:hover,\n",
       ".sk-estimator-doc-link:hover {\n",
       "  /* unfitted */\n",
       "  background-color: var(--sklearn-color-unfitted-level-3);\n",
       "  color: var(--sklearn-color-background);\n",
       "  text-decoration: none;\n",
       "}\n",
       "\n",
       "div.sk-estimator.fitted:hover .sk-estimator-doc-link.fitted:hover,\n",
       ".sk-estimator-doc-link.fitted:hover,\n",
       "div.sk-label-container:hover .sk-estimator-doc-link.fitted:hover,\n",
       ".sk-estimator-doc-link.fitted:hover {\n",
       "  /* fitted */\n",
       "  background-color: var(--sklearn-color-fitted-level-3);\n",
       "  color: var(--sklearn-color-background);\n",
       "  text-decoration: none;\n",
       "}\n",
       "\n",
       "/* Span, style for the box shown on hovering the info icon */\n",
       ".sk-estimator-doc-link span {\n",
       "  display: none;\n",
       "  z-index: 9999;\n",
       "  position: relative;\n",
       "  font-weight: normal;\n",
       "  right: .2ex;\n",
       "  padding: .5ex;\n",
       "  margin: .5ex;\n",
       "  width: min-content;\n",
       "  min-width: 20ex;\n",
       "  max-width: 50ex;\n",
       "  color: var(--sklearn-color-text);\n",
       "  box-shadow: 2pt 2pt 4pt #999;\n",
       "  /* unfitted */\n",
       "  background: var(--sklearn-color-unfitted-level-0);\n",
       "  border: .5pt solid var(--sklearn-color-unfitted-level-3);\n",
       "}\n",
       "\n",
       ".sk-estimator-doc-link.fitted span {\n",
       "  /* fitted */\n",
       "  background: var(--sklearn-color-fitted-level-0);\n",
       "  border: var(--sklearn-color-fitted-level-3);\n",
       "}\n",
       "\n",
       ".sk-estimator-doc-link:hover span {\n",
       "  display: block;\n",
       "}\n",
       "\n",
       "/* \"?\"-specific style due to the `<a>` HTML tag */\n",
       "\n",
       "#sk-container-id-1 a.estimator_doc_link {\n",
       "  float: right;\n",
       "  font-size: 1rem;\n",
       "  line-height: 1em;\n",
       "  font-family: monospace;\n",
       "  background-color: var(--sklearn-color-background);\n",
       "  border-radius: 1rem;\n",
       "  height: 1rem;\n",
       "  width: 1rem;\n",
       "  text-decoration: none;\n",
       "  /* unfitted */\n",
       "  color: var(--sklearn-color-unfitted-level-1);\n",
       "  border: var(--sklearn-color-unfitted-level-1) 1pt solid;\n",
       "}\n",
       "\n",
       "#sk-container-id-1 a.estimator_doc_link.fitted {\n",
       "  /* fitted */\n",
       "  border: var(--sklearn-color-fitted-level-1) 1pt solid;\n",
       "  color: var(--sklearn-color-fitted-level-1);\n",
       "}\n",
       "\n",
       "/* On hover */\n",
       "#sk-container-id-1 a.estimator_doc_link:hover {\n",
       "  /* unfitted */\n",
       "  background-color: var(--sklearn-color-unfitted-level-3);\n",
       "  color: var(--sklearn-color-background);\n",
       "  text-decoration: none;\n",
       "}\n",
       "\n",
       "#sk-container-id-1 a.estimator_doc_link.fitted:hover {\n",
       "  /* fitted */\n",
       "  background-color: var(--sklearn-color-fitted-level-3);\n",
       "}\n",
       "</style><div id=\"sk-container-id-1\" class=\"sk-top-container\"><div class=\"sk-text-repr-fallback\"><pre>XGBClassifier(base_score=None, booster=None, callbacks=None,\n",
       "              colsample_bylevel=None, colsample_bynode=0.17702656156719,\n",
       "              colsample_bytree=None, device=None, early_stopping_rounds=None,\n",
       "              enable_categorical=False,\n",
       "              eval_metric=&lt;function custom_f1_score at 0x7fa28421c720&gt;,\n",
       "              feature_types=None, gamma=None, grow_policy=None,\n",
       "              importance_type=None, interaction_constraints=None,\n",
       "              learning_rate=0.11568531411766632, max_bin=None,\n",
       "              max_cat_threshold=None, max_cat_to_onehot=None,\n",
       "              max_delta_step=None, max_depth=9, max_leaves=None,\n",
       "              min_child_weight=4, missing=nan, monotone_constraints=None,\n",
       "              multi_strategy=None, n_estimators=19, n_jobs=None,\n",
       "              num_parallel_tree=None, objective=&#x27;multi:softprob&#x27;, ...)</pre><b>In a Jupyter environment, please rerun this cell to show the HTML representation or trust the notebook. <br />On GitHub, the HTML representation is unable to render, please try loading this page with nbviewer.org.</b></div><div class=\"sk-container\" hidden><div class=\"sk-item\"><div class=\"sk-estimator fitted sk-toggleable\"><input class=\"sk-toggleable__control sk-hidden--visually\" id=\"sk-estimator-id-1\" type=\"checkbox\" checked><label for=\"sk-estimator-id-1\" class=\"sk-toggleable__label fitted sk-toggleable__label-arrow fitted\">&nbsp;XGBClassifier<span class=\"sk-estimator-doc-link fitted\">i<span>Fitted</span></span></label><div class=\"sk-toggleable__content fitted\"><pre>XGBClassifier(base_score=None, booster=None, callbacks=None,\n",
       "              colsample_bylevel=None, colsample_bynode=0.17702656156719,\n",
       "              colsample_bytree=None, device=None, early_stopping_rounds=None,\n",
       "              enable_categorical=False,\n",
       "              eval_metric=&lt;function custom_f1_score at 0x7fa28421c720&gt;,\n",
       "              feature_types=None, gamma=None, grow_policy=None,\n",
       "              importance_type=None, interaction_constraints=None,\n",
       "              learning_rate=0.11568531411766632, max_bin=None,\n",
       "              max_cat_threshold=None, max_cat_to_onehot=None,\n",
       "              max_delta_step=None, max_depth=9, max_leaves=None,\n",
       "              min_child_weight=4, missing=nan, monotone_constraints=None,\n",
       "              multi_strategy=None, n_estimators=19, n_jobs=None,\n",
       "              num_parallel_tree=None, objective=&#x27;multi:softprob&#x27;, ...)</pre></div> </div></div></div></div>"
      ],
      "text/plain": [
       "XGBClassifier(base_score=None, booster=None, callbacks=None,\n",
       "              colsample_bylevel=None, colsample_bynode=0.17702656156719,\n",
       "              colsample_bytree=None, device=None, early_stopping_rounds=None,\n",
       "              enable_categorical=False,\n",
       "              eval_metric=<function custom_f1_score at 0x7fa28421c720>,\n",
       "              feature_types=None, gamma=None, grow_policy=None,\n",
       "              importance_type=None, interaction_constraints=None,\n",
       "              learning_rate=0.11568531411766632, max_bin=None,\n",
       "              max_cat_threshold=None, max_cat_to_onehot=None,\n",
       "              max_delta_step=None, max_depth=9, max_leaves=None,\n",
       "              min_child_weight=4, missing=nan, monotone_constraints=None,\n",
       "              multi_strategy=None, n_estimators=19, n_jobs=None,\n",
       "              num_parallel_tree=None, objective='multi:softprob', ...)"
      ]
     },
     "execution_count": 21,
     "metadata": {},
     "output_type": "execute_result"
    }
   ],
   "source": [
    "n_estimators = int(study.best_trial.user_attrs['best_iteration']*1.2)\n",
    "xgb = xgboost.XGBClassifier(\n",
    "        eval_metric=eval_metric,\n",
    "        n_estimators=n_estimators,\n",
    "        **study.best_trial.params\n",
    "    )\n",
    "xgb.fit(\n",
    "    ssp.vstack((X_train, X_val)), \n",
    "    np.concatenate((y_train_enc, y_val_enc)),\n",
    "    verbose=1,\n",
    ")"
   ]
  },
  {
   "cell_type": "code",
   "execution_count": 22,
   "id": "f3449593",
   "metadata": {
    "execution": {
     "iopub.execute_input": "2025-05-15T16:16:01.590654Z",
     "iopub.status.busy": "2025-05-15T16:16:01.590364Z",
     "iopub.status.idle": "2025-05-15T16:16:01.603702Z",
     "shell.execute_reply": "2025-05-15T16:16:01.603340Z"
    },
    "papermill": {
     "duration": 0.024822,
     "end_time": "2025-05-15T16:16:01.604685",
     "exception": false,
     "start_time": "2025-05-15T16:16:01.579863",
     "status": "completed"
    },
    "tags": []
   },
   "outputs": [
    {
     "data": {
      "text/plain": [
       "['/scratch_isilon/groups/singlecell/shared/projects/Inflammation-PBMCs-Atlas/03_downstream_analysis/08_gene_importance/xgboost_external_validation/xgboost_TopN_genes/results_20/best_model/Plasma_16_4_xgb.json']"
      ]
     },
     "execution_count": 22,
     "metadata": {},
     "output_type": "execute_result"
    }
   ],
   "source": [
    "out_dir = here(f'03_downstream_analysis/08_gene_importance/xgboost_external_validation/xgboost_TopN_genes/results_{N_GENES}/best_model')\n",
    "\n",
    "if not os.path.exists(out_dir):\n",
    "    os.makedirs(out_dir)\n",
    "    \n",
    "joblib.dump(xgb, os.path.join(out_dir, f'{CELL_TYPE}_{SEED}_{TEST_SPLIT_IDX}_xgb.json'))"
   ]
  },
  {
   "cell_type": "code",
   "execution_count": 23,
   "id": "13049e93",
   "metadata": {
    "execution": {
     "iopub.execute_input": "2025-05-15T16:16:01.626065Z",
     "iopub.status.busy": "2025-05-15T16:16:01.625775Z",
     "iopub.status.idle": "2025-05-15T16:16:01.641063Z",
     "shell.execute_reply": "2025-05-15T16:16:01.640641Z"
    },
    "papermill": {
     "duration": 0.027365,
     "end_time": "2025-05-15T16:16:01.642221",
     "exception": false,
     "start_time": "2025-05-15T16:16:01.614856",
     "status": "completed"
    },
    "tags": []
   },
   "outputs": [],
   "source": [
    "df_pred_test = pd.DataFrame(dict(\n",
    "    cell_id=train_adata.obs.iloc[test_idxs].index.values,\n",
    "    y_true=y_test, \n",
    "    y_true_code=y_test_enc, \n",
    "    y_pred=xgb.predict(X_test))).set_index('cell_id')"
   ]
  },
  {
   "cell_type": "code",
   "execution_count": 24,
   "id": "20f58052",
   "metadata": {
    "execution": {
     "iopub.execute_input": "2025-05-15T16:16:01.662994Z",
     "iopub.status.busy": "2025-05-15T16:16:01.662667Z",
     "iopub.status.idle": "2025-05-15T16:16:01.675607Z",
     "shell.execute_reply": "2025-05-15T16:16:01.675123Z"
    },
    "papermill": {
     "duration": 0.024361,
     "end_time": "2025-05-15T16:16:01.676520",
     "exception": false,
     "start_time": "2025-05-15T16:16:01.652159",
     "status": "completed"
    },
    "tags": []
   },
   "outputs": [],
   "source": [
    "out_dir = here(f'03_downstream_analysis/08_gene_importance/xgboost_external_validation/xgboost_TopN_genes/results_{N_GENES}/predictions')\n",
    "\n",
    "if not os.path.exists(out_dir):\n",
    "    os.makedirs(out_dir)\n",
    "    \n",
    "df_pred_test.to_csv(os.path.join(out_dir, f'{CELL_TYPE}_{SEED}_{TEST_SPLIT_IDX}_pred_test.zip'))"
   ]
  },
  {
   "cell_type": "code",
   "execution_count": 25,
   "id": "f9a3c893",
   "metadata": {
    "execution": {
     "iopub.execute_input": "2025-05-15T16:16:01.695441Z",
     "iopub.status.busy": "2025-05-15T16:16:01.695178Z",
     "iopub.status.idle": "2025-05-15T16:16:01.701855Z",
     "shell.execute_reply": "2025-05-15T16:16:01.701453Z"
    },
    "papermill": {
     "duration": 0.017343,
     "end_time": "2025-05-15T16:16:01.702770",
     "exception": false,
     "start_time": "2025-05-15T16:16:01.685427",
     "status": "completed"
    },
    "tags": []
   },
   "outputs": [],
   "source": [
    "metrics_dict = dict(\n",
    "    BAS=balanced_accuracy_score(y_true=df_pred_test.y_true_code, y_pred=df_pred_test.y_pred), WF1=f1_score(y_true=df_pred_test.y_true_code, y_pred=df_pred_test.y_pred,average='weighted'))"
   ]
  },
  {
   "cell_type": "code",
   "execution_count": 26,
   "id": "1c415c3c",
   "metadata": {
    "execution": {
     "iopub.execute_input": "2025-05-15T16:16:01.721619Z",
     "iopub.status.busy": "2025-05-15T16:16:01.721135Z",
     "iopub.status.idle": "2025-05-15T16:16:01.724503Z",
     "shell.execute_reply": "2025-05-15T16:16:01.724177Z"
    },
    "papermill": {
     "duration": 0.013574,
     "end_time": "2025-05-15T16:16:01.725346",
     "exception": false,
     "start_time": "2025-05-15T16:16:01.711772",
     "status": "completed"
    },
    "tags": []
   },
   "outputs": [
    {
     "data": {
      "text/plain": [
       "{'BAS': 0.3883165445665445, 'WF1': 0.5826077932141474}"
      ]
     },
     "execution_count": 26,
     "metadata": {},
     "output_type": "execute_result"
    }
   ],
   "source": [
    "metrics_dict"
   ]
  },
  {
   "cell_type": "code",
   "execution_count": 27,
   "id": "14222e98",
   "metadata": {
    "execution": {
     "iopub.execute_input": "2025-05-15T16:16:01.745146Z",
     "iopub.status.busy": "2025-05-15T16:16:01.744778Z",
     "iopub.status.idle": "2025-05-15T16:16:01.754977Z",
     "shell.execute_reply": "2025-05-15T16:16:01.754601Z"
    },
    "papermill": {
     "duration": 0.021742,
     "end_time": "2025-05-15T16:16:01.755920",
     "exception": false,
     "start_time": "2025-05-15T16:16:01.734178",
     "status": "completed"
    },
    "tags": []
   },
   "outputs": [
    {
     "data": {
      "text/html": [
       "<div>\n",
       "<style scoped>\n",
       "    .dataframe tbody tr th:only-of-type {\n",
       "        vertical-align: middle;\n",
       "    }\n",
       "\n",
       "    .dataframe tbody tr th {\n",
       "        vertical-align: top;\n",
       "    }\n",
       "\n",
       "    .dataframe thead th {\n",
       "        text-align: right;\n",
       "    }\n",
       "</style>\n",
       "<table border=\"1\" class=\"dataframe\">\n",
       "  <thead>\n",
       "    <tr style=\"text-align: right;\">\n",
       "      <th></th>\n",
       "      <th>BAS</th>\n",
       "      <th>WF1</th>\n",
       "      <th>split_idx</th>\n",
       "      <th>gene_set_seed</th>\n",
       "      <th>cell_type</th>\n",
       "    </tr>\n",
       "  </thead>\n",
       "  <tbody>\n",
       "    <tr>\n",
       "      <th>0</th>\n",
       "      <td>0.388317</td>\n",
       "      <td>0.582608</td>\n",
       "      <td>4</td>\n",
       "      <td>16</td>\n",
       "      <td>Plasma</td>\n",
       "    </tr>\n",
       "  </tbody>\n",
       "</table>\n",
       "</div>"
      ],
      "text/plain": [
       "        BAS       WF1  split_idx  gene_set_seed cell_type\n",
       "0  0.388317  0.582608          4             16    Plasma"
      ]
     },
     "execution_count": 27,
     "metadata": {},
     "output_type": "execute_result"
    }
   ],
   "source": [
    "metrics_df = pd.DataFrame.from_dict([metrics_dict]).assign(split_idx=TEST_SPLIT_IDX, gene_set_seed=SEED, cell_type=CELL_TYPE)\n",
    "metrics_df"
   ]
  },
  {
   "cell_type": "code",
   "execution_count": 28,
   "id": "2edbb203",
   "metadata": {
    "execution": {
     "iopub.execute_input": "2025-05-15T16:16:01.777674Z",
     "iopub.status.busy": "2025-05-15T16:16:01.777273Z",
     "iopub.status.idle": "2025-05-15T16:16:01.786648Z",
     "shell.execute_reply": "2025-05-15T16:16:01.786222Z"
    },
    "papermill": {
     "duration": 0.021437,
     "end_time": "2025-05-15T16:16:01.787799",
     "exception": false,
     "start_time": "2025-05-15T16:16:01.766362",
     "status": "completed"
    },
    "tags": []
   },
   "outputs": [],
   "source": [
    "out_dir = here(f'03_downstream_analysis/08_gene_importance/xgboost_external_validation/xgboost_TopN_genes/results_{N_GENES}/metrics')\n",
    "\n",
    "if not os.path.exists(out_dir):\n",
    "    os.makedirs(out_dir)\n",
    "    \n",
    "metrics_df.to_csv(os.path.join(out_dir, f'{CELL_TYPE}_{SEED}_{TEST_SPLIT_IDX}_metrics.zip'))"
   ]
  }
 ],
 "metadata": {
  "kernelspec": {
   "display_name": "Python 3 (ipykernel)",
   "language": "python",
   "name": "python3"
  },
  "language_info": {
   "codemirror_mode": {
    "name": "ipython",
    "version": 3
   },
   "file_extension": ".py",
   "mimetype": "text/x-python",
   "name": "python",
   "nbconvert_exporter": "python",
   "pygments_lexer": "ipython3",
   "version": "3.12.5"
  },
  "papermill": {
   "default_parameters": {},
   "duration": 16.669257,
   "end_time": "2025-05-15T16:16:02.615692",
   "environment_variables": {},
   "exception": null,
   "input_path": "02_xgboost_fitting_external_20genes.ipynb",
   "output_path": "results_20/executed_notebooks/xgboost_fitting_external_CT_Plasma_GS_16_seed4.ipynb",
   "parameters": {
    "CELL_TYPE": "Plasma",
    "SEED": 16,
    "TEST_SPLIT_IDX": 4
   },
   "start_time": "2025-05-15T16:15:45.946435",
   "version": "2.6.0"
  }
 },
 "nbformat": 4,
 "nbformat_minor": 5
}