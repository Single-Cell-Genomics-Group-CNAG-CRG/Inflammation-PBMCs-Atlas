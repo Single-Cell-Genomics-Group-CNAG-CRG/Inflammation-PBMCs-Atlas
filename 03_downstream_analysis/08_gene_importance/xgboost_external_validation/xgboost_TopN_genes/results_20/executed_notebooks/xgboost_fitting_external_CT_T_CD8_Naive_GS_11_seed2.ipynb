{
 "cells": [
  {
   "cell_type": "code",
   "execution_count": 1,
   "id": "31d49cce",
   "metadata": {
    "editable": true,
    "execution": {
     "iopub.execute_input": "2025-05-15T16:04:31.784621Z",
     "iopub.status.busy": "2025-05-15T16:04:31.784457Z",
     "iopub.status.idle": "2025-05-15T16:04:31.787760Z",
     "shell.execute_reply": "2025-05-15T16:04:31.787450Z"
    },
    "papermill": {
     "duration": 0.012495,
     "end_time": "2025-05-15T16:04:31.788679",
     "exception": false,
     "start_time": "2025-05-15T16:04:31.776184",
     "status": "completed"
    },
    "slideshow": {
     "slide_type": ""
    },
    "tags": [
     "parameters"
    ]
   },
   "outputs": [],
   "source": [
    "CELL_TYPE = 'pDC'\n",
    "N_GENES: int = 20\n",
    "SEED = 'shap_studyID' #'disease_NOstudy' 'study_NOdisease' or 'int' or 'shap_studyID'\n",
    "TEST_SPLIT_IDX: int = 1 #[0,4]"
   ]
  },
  {
   "cell_type": "code",
   "execution_count": 2,
   "id": "bc6f06a2",
   "metadata": {
    "execution": {
     "iopub.execute_input": "2025-05-15T16:04:31.799711Z",
     "iopub.status.busy": "2025-05-15T16:04:31.799485Z",
     "iopub.status.idle": "2025-05-15T16:04:31.801462Z",
     "shell.execute_reply": "2025-05-15T16:04:31.801177Z"
    },
    "papermill": {
     "duration": 0.008353,
     "end_time": "2025-05-15T16:04:31.802261",
     "exception": false,
     "start_time": "2025-05-15T16:04:31.793908",
     "status": "completed"
    },
    "tags": [
     "injected-parameters"
    ]
   },
   "outputs": [],
   "source": [
    "# Parameters\n",
    "CELL_TYPE = \"T_CD8_Naive\"\n",
    "SEED = 11\n",
    "TEST_SPLIT_IDX = 2\n"
   ]
  },
  {
   "cell_type": "code",
   "execution_count": 3,
   "id": "fe8485d2",
   "metadata": {
    "execution": {
     "iopub.execute_input": "2025-05-15T16:04:31.812691Z",
     "iopub.status.busy": "2025-05-15T16:04:31.812522Z",
     "iopub.status.idle": "2025-05-15T16:04:31.814444Z",
     "shell.execute_reply": "2025-05-15T16:04:31.814123Z"
    },
    "papermill": {
     "duration": 0.008256,
     "end_time": "2025-05-15T16:04:31.815371",
     "exception": false,
     "start_time": "2025-05-15T16:04:31.807115",
     "status": "completed"
    },
    "tags": []
   },
   "outputs": [],
   "source": [
    "N_SPLITS: int = 5\n",
    "N_TRIALS: int = 50"
   ]
  },
  {
   "cell_type": "code",
   "execution_count": 4,
   "id": "b37e3022",
   "metadata": {
    "execution": {
     "iopub.execute_input": "2025-05-15T16:04:31.827067Z",
     "iopub.status.busy": "2025-05-15T16:04:31.826753Z",
     "iopub.status.idle": "2025-05-15T16:04:33.626483Z",
     "shell.execute_reply": "2025-05-15T16:04:33.626066Z"
    },
    "papermill": {
     "duration": 1.807332,
     "end_time": "2025-05-15T16:04:33.627770",
     "exception": false,
     "start_time": "2025-05-15T16:04:31.820438",
     "status": "completed"
    },
    "tags": []
   },
   "outputs": [],
   "source": [
    "import os\n",
    "import sys\n",
    "from pyprojroot.here import here\n",
    "import pandas as pd\n",
    "import anndata as ad\n",
    "import numpy as np\n",
    "import math\n",
    "from sklearn.model_selection import StratifiedGroupKFold\n",
    "from sklearn.preprocessing import LabelEncoder\n",
    "from sklearn.metrics import f1_score\n",
    "import matplotlib.pyplot as plt\n",
    "import seaborn as sns\n",
    "from itertools import product\n",
    "from sklearn.metrics import balanced_accuracy_score, f1_score\n",
    "import optuna\n",
    "\n",
    "import joblib\n",
    "import pickle\n",
    "import datetime\n",
    "\n",
    "import collections\n",
    "\n",
    "import xgboost\n",
    "from sklearn.preprocessing import LabelEncoder\n",
    "\n",
    "import scipy.sparse as ssp\n",
    "import joblib\n",
    "\n",
    "from dotenv import load_dotenv"
   ]
  },
  {
   "cell_type": "code",
   "execution_count": 5,
   "id": "5cf5ee00",
   "metadata": {
    "execution": {
     "iopub.execute_input": "2025-05-15T16:04:33.639570Z",
     "iopub.status.busy": "2025-05-15T16:04:33.639264Z",
     "iopub.status.idle": "2025-05-15T16:04:33.644714Z",
     "shell.execute_reply": "2025-05-15T16:04:33.644421Z"
    },
    "papermill": {
     "duration": 0.012153,
     "end_time": "2025-05-15T16:04:33.645576",
     "exception": false,
     "start_time": "2025-05-15T16:04:33.633423",
     "status": "completed"
    },
    "tags": []
   },
   "outputs": [
    {
     "data": {
      "text/plain": [
       "True"
      ]
     },
     "execution_count": 5,
     "metadata": {},
     "output_type": "execute_result"
    }
   ],
   "source": [
    "load_dotenv()"
   ]
  },
  {
   "cell_type": "markdown",
   "id": "422ee6c5",
   "metadata": {
    "papermill": {
     "duration": 0.005087,
     "end_time": "2025-05-15T16:04:33.657819",
     "exception": false,
     "start_time": "2025-05-15T16:04:33.652732",
     "status": "completed"
    },
    "tags": []
   },
   "source": [
    "# LOAD DATASET"
   ]
  },
  {
   "cell_type": "code",
   "execution_count": 6,
   "id": "b975b044",
   "metadata": {
    "execution": {
     "iopub.execute_input": "2025-05-15T16:04:33.668244Z",
     "iopub.status.busy": "2025-05-15T16:04:33.667901Z",
     "iopub.status.idle": "2025-05-15T16:04:33.905699Z",
     "shell.execute_reply": "2025-05-15T16:04:33.905273Z"
    },
    "papermill": {
     "duration": 0.244357,
     "end_time": "2025-05-15T16:04:33.907035",
     "exception": false,
     "start_time": "2025-05-15T16:04:33.662678",
     "status": "completed"
    },
    "tags": []
   },
   "outputs": [],
   "source": [
    "train_adata = ad.read_h5ad(\n",
    "    here(f'03_downstream_analysis/08_gene_importance/xgboost_external_validation/xgboost_TopN_genes/data_cellTypes/EXTERNAL_{CELL_TYPE}.filtered.log1p.h5ad')\n",
    ")"
   ]
  },
  {
   "cell_type": "code",
   "execution_count": 7,
   "id": "642874da",
   "metadata": {
    "execution": {
     "iopub.execute_input": "2025-05-15T16:04:33.918575Z",
     "iopub.status.busy": "2025-05-15T16:04:33.918380Z",
     "iopub.status.idle": "2025-05-15T16:04:33.933710Z",
     "shell.execute_reply": "2025-05-15T16:04:33.933399Z"
    },
    "papermill": {
     "duration": 0.021765,
     "end_time": "2025-05-15T16:04:33.934475",
     "exception": false,
     "start_time": "2025-05-15T16:04:33.912710",
     "status": "completed"
    },
    "tags": []
   },
   "outputs": [
    {
     "name": "stdout",
     "output_type": "stream",
     "text": [
      "['ENSG00000150093' 'ENSG00000102265' 'ENSG00000206503' 'ENSG00000157873'\n",
      " 'ENSG00000178562' 'ENSG00000197471' 'ENSG00000167863' 'ENSG00000160888'\n",
      " 'ENSG00000015475' 'ENSG00000162704' 'ENSG00000182287' 'ENSG00000242616'\n",
      " 'ENSG00000122862' 'ENSG00000185950' 'ENSG00000204843' 'ENSG00000132965'\n",
      " 'ENSG00000026025' 'ENSG00000090554' 'ENSG00000167283' 'ENSG00000177556'\n",
      " 'ENSG00000149311' 'ENSG00000118503' 'ENSG00000120742' 'ENSG00000165272'\n",
      " 'ENSG00000179218' 'ENSG00000139626' 'ENSG00000113811' 'ENSG00000118640'\n",
      " 'ENSG00000113732' 'ENSG00000105374' 'ENSG00000167996' 'ENSG00000173757'\n",
      " 'ENSG00000152219' 'ENSG00000235162' 'ENSG00000100393' 'ENSG00000115073'\n",
      " 'ENSG00000152234' 'ENSG00000101695' 'ENSG00000175482' 'ENSG00000131143'\n",
      " 'ENSG00000143543' 'ENSG00000186395' 'ENSG00000145220' 'ENSG00000127540'\n",
      " 'ENSG00000104904' 'ENSG00000118515' 'ENSG00000127314' 'ENSG00000127184'\n",
      " 'ENSG00000177606' 'ENSG00000160255' 'ENSG00000090863' 'ENSG00000175203'\n",
      " 'ENSG00000187608' 'ENSG00000106803' 'ENSG00000196126' 'ENSG00000107485'\n",
      " 'ENSG00000105373' 'ENSG00000126264' 'ENSG00000182866' 'ENSG00000158517'\n",
      " 'ENSG00000133134' 'ENSG00000089280' 'ENSG00000075624' 'ENSG00000132510'\n",
      " 'ENSG00000161203' 'ENSG00000166681' 'ENSG00000240065' 'ENSG00000223865'\n",
      " 'ENSG00000198832' 'ENSG00000079616' 'ENSG00000157514' 'ENSG00000138107'\n",
      " 'ENSG00000085265' 'ENSG00000104894' 'ENSG00000136732' 'ENSG00000177663'\n",
      " 'ENSG00000164674' 'ENSG00000172183' 'ENSG00000110848' 'ENSG00000243678'\n",
      " 'ENSG00000101347' 'ENSG00000160712' 'ENSG00000078043' 'ENSG00000189283'\n",
      " 'ENSG00000171223' 'ENSG00000126561' 'ENSG00000129084' 'ENSG00000115875'\n",
      " 'ENSG00000239713' 'ENSG00000118260' 'ENSG00000172349' 'ENSG00000182117'\n",
      " 'ENSG00000159128' 'ENSG00000172005' 'ENSG00000111348' 'ENSG00000088986'\n",
      " 'ENSG00000035115' 'ENSG00000075945' 'ENSG00000042753' 'ENSG00000115523'\n",
      " 'ENSG00000163131' 'ENSG00000105583' 'ENSG00000090382' 'ENSG00000104964'\n",
      " 'ENSG00000138674' 'ENSG00000005844' 'ENSG00000140379' 'ENSG00000143110'\n",
      " 'ENSG00000009790' 'ENSG00000119655']\n"
     ]
    }
   ],
   "source": [
    "if SEED != 'all':\n",
    "    gene_subset = np.load(here(f'03_downstream_analysis/08_gene_importance/xgboost_external_validation/shap_gene_selection/gene_subsets_{N_GENES}/{CELL_TYPE}_{SEED}.npy'), allow_pickle=True)\n",
    "    train_adata = train_adata[:,gene_subset]\n",
    "    print(gene_subset)\n",
    "elif SEED == 'all':\n",
    "    print('Using all genes')\n",
    "else:\n",
    "    raise ValueError()"
   ]
  },
  {
   "cell_type": "code",
   "execution_count": 8,
   "id": "599049da",
   "metadata": {
    "execution": {
     "iopub.execute_input": "2025-05-15T16:04:33.945249Z",
     "iopub.status.busy": "2025-05-15T16:04:33.944945Z",
     "iopub.status.idle": "2025-05-15T16:04:33.947851Z",
     "shell.execute_reply": "2025-05-15T16:04:33.947526Z"
    },
    "papermill": {
     "duration": 0.009075,
     "end_time": "2025-05-15T16:04:33.948677",
     "exception": false,
     "start_time": "2025-05-15T16:04:33.939602",
     "status": "completed"
    },
    "tags": []
   },
   "outputs": [
    {
     "data": {
      "text/plain": [
       "(37072, 110)"
      ]
     },
     "execution_count": 8,
     "metadata": {},
     "output_type": "execute_result"
    }
   ],
   "source": [
    "train_adata.shape"
   ]
  },
  {
   "cell_type": "code",
   "execution_count": 9,
   "id": "cc1497ab",
   "metadata": {
    "execution": {
     "iopub.execute_input": "2025-05-15T16:04:33.959973Z",
     "iopub.status.busy": "2025-05-15T16:04:33.959759Z",
     "iopub.status.idle": "2025-05-15T16:04:33.962979Z",
     "shell.execute_reply": "2025-05-15T16:04:33.962684Z"
    },
    "papermill": {
     "duration": 0.010003,
     "end_time": "2025-05-15T16:04:33.963836",
     "exception": false,
     "start_time": "2025-05-15T16:04:33.953833",
     "status": "completed"
    },
    "tags": []
   },
   "outputs": [
    {
     "data": {
      "text/plain": [
       "['RA', 'COVID', 'healthy', 'HIV', 'cirrhosis', 'CD', 'SLE', 'sepsis']\n",
       "Categories (8, object): ['CD', 'COVID', 'HIV', 'RA', 'SLE', 'cirrhosis', 'healthy', 'sepsis']"
      ]
     },
     "execution_count": 9,
     "metadata": {},
     "output_type": "execute_result"
    }
   ],
   "source": [
    "train_adata.obs.disease.unique()"
   ]
  },
  {
   "cell_type": "code",
   "execution_count": 10,
   "id": "f7e37096",
   "metadata": {
    "execution": {
     "iopub.execute_input": "2025-05-15T16:04:33.974925Z",
     "iopub.status.busy": "2025-05-15T16:04:33.974674Z",
     "iopub.status.idle": "2025-05-15T16:04:33.978002Z",
     "shell.execute_reply": "2025-05-15T16:04:33.977685Z"
    },
    "papermill": {
     "duration": 0.00997,
     "end_time": "2025-05-15T16:04:33.978843",
     "exception": false,
     "start_time": "2025-05-15T16:04:33.968873",
     "status": "completed"
    },
    "tags": []
   },
   "outputs": [
    {
     "data": {
      "text/plain": [
       "['SCGT00val_I036024_T0', 'SCGT00val_I0364_T0', 'SCGT00val_I036019_T0', 'SCGT00val_I036028_T0', 'SCGT00val_I036021_T0', ..., '10XGenomics_10XHC2_T0', '10XGenomics_10XHC3_T0', '10XGenomics_10XHC5_T0', '10XGenomics_10XHC7_T0', '10XGenomics_10XHC8_T0']\n",
       "Length: 86\n",
       "Categories (86, object): ['10XGenomics_10XHC1_T0', '10XGenomics_10XHC2_T0', '10XGenomics_10XHC3_T0', '10XGenomics_10XHC4_T0', ..., 'Savage2021_BRISL6_T0', 'Savage2021_BRISL7_T0', 'Savage2021_PIDA_T0', 'Savage2021_PIDB_T0']"
      ]
     },
     "execution_count": 10,
     "metadata": {},
     "output_type": "execute_result"
    }
   ],
   "source": [
    "train_adata.obs.sampleID.unique()"
   ]
  },
  {
   "cell_type": "code",
   "execution_count": 11,
   "id": "d6c38e60",
   "metadata": {
    "execution": {
     "iopub.execute_input": "2025-05-15T16:04:33.989697Z",
     "iopub.status.busy": "2025-05-15T16:04:33.989529Z",
     "iopub.status.idle": "2025-05-15T16:04:34.093073Z",
     "shell.execute_reply": "2025-05-15T16:04:34.092742Z"
    },
    "papermill": {
     "duration": 0.110166,
     "end_time": "2025-05-15T16:04:34.094014",
     "exception": false,
     "start_time": "2025-05-15T16:04:33.983848",
     "status": "completed"
    },
    "tags": []
   },
   "outputs": [],
   "source": [
    "all_idxs = np.arange(train_adata.obs.shape[0])\n",
    "left_out_splits = [s[1] for s in StratifiedGroupKFold(n_splits=N_SPLITS).split(all_idxs, train_adata.obs.disease, train_adata.obs.sampleID)]"
   ]
  },
  {
   "cell_type": "code",
   "execution_count": 12,
   "id": "c590c033",
   "metadata": {
    "execution": {
     "iopub.execute_input": "2025-05-15T16:04:34.105584Z",
     "iopub.status.busy": "2025-05-15T16:04:34.105396Z",
     "iopub.status.idle": "2025-05-15T16:04:34.108539Z",
     "shell.execute_reply": "2025-05-15T16:04:34.108230Z"
    },
    "papermill": {
     "duration": 0.009779,
     "end_time": "2025-05-15T16:04:34.109326",
     "exception": false,
     "start_time": "2025-05-15T16:04:34.099547",
     "status": "completed"
    },
    "tags": []
   },
   "outputs": [
    {
     "data": {
      "text/plain": [
       "([0, 1, 4], 3, 2)"
      ]
     },
     "execution_count": 12,
     "metadata": {},
     "output_type": "execute_result"
    }
   ],
   "source": [
    "TRAIN_SPLIT_IDXS = [0,1,2,3,4]\n",
    "VAL_SPLIT_IDX = (TEST_SPLIT_IDX + 1) % 5\n",
    "TRAIN_SPLIT_IDXS.remove(TEST_SPLIT_IDX)\n",
    "TRAIN_SPLIT_IDXS.remove(VAL_SPLIT_IDX)\n",
    "TRAIN_SPLIT_IDXS, VAL_SPLIT_IDX, TEST_SPLIT_IDX"
   ]
  },
  {
   "cell_type": "code",
   "execution_count": 13,
   "id": "cd9babea",
   "metadata": {
    "execution": {
     "iopub.execute_input": "2025-05-15T16:04:34.120348Z",
     "iopub.status.busy": "2025-05-15T16:04:34.120049Z",
     "iopub.status.idle": "2025-05-15T16:04:34.122340Z",
     "shell.execute_reply": "2025-05-15T16:04:34.122049Z"
    },
    "papermill": {
     "duration": 0.008631,
     "end_time": "2025-05-15T16:04:34.123140",
     "exception": false,
     "start_time": "2025-05-15T16:04:34.114509",
     "status": "completed"
    },
    "tags": []
   },
   "outputs": [],
   "source": [
    "train_idxs = np.concatenate([left_out_splits[idx] for idx in TRAIN_SPLIT_IDXS])\n",
    "val_idxs = left_out_splits[VAL_SPLIT_IDX]\n",
    "test_idxs = left_out_splits[TEST_SPLIT_IDX]"
   ]
  },
  {
   "cell_type": "markdown",
   "id": "c7cebac0",
   "metadata": {
    "papermill": {
     "duration": 0.00505,
     "end_time": "2025-05-15T16:04:34.133230",
     "exception": false,
     "start_time": "2025-05-15T16:04:34.128180",
     "status": "completed"
    },
    "tags": []
   },
   "source": [
    "### SUBSET DATASET INTO TRAIN/TEST/VAL SPLITS"
   ]
  },
  {
   "cell_type": "code",
   "execution_count": 14,
   "id": "d562aefd",
   "metadata": {
    "execution": {
     "iopub.execute_input": "2025-05-15T16:04:34.144345Z",
     "iopub.status.busy": "2025-05-15T16:04:34.144106Z",
     "iopub.status.idle": "2025-05-15T16:04:34.246348Z",
     "shell.execute_reply": "2025-05-15T16:04:34.245991Z"
    },
    "papermill": {
     "duration": 0.108535,
     "end_time": "2025-05-15T16:04:34.247222",
     "exception": false,
     "start_time": "2025-05-15T16:04:34.138687",
     "status": "completed"
    },
    "tags": []
   },
   "outputs": [
    {
     "data": {
      "text/plain": [
       "((22727, 110), (6859, 110), (7486, 110))"
      ]
     },
     "execution_count": 14,
     "metadata": {},
     "output_type": "execute_result"
    }
   ],
   "source": [
    "X_train = train_adata.X[train_idxs]\n",
    "X_test = train_adata.X[test_idxs]\n",
    "X_val = train_adata.X[val_idxs]\n",
    "X_train.shape, X_test.shape, X_val.shape"
   ]
  },
  {
   "cell_type": "code",
   "execution_count": 15,
   "id": "d7dda592",
   "metadata": {
    "execution": {
     "iopub.execute_input": "2025-05-15T16:04:34.259662Z",
     "iopub.status.busy": "2025-05-15T16:04:34.259457Z",
     "iopub.status.idle": "2025-05-15T16:04:34.266071Z",
     "shell.execute_reply": "2025-05-15T16:04:34.265732Z"
    },
    "papermill": {
     "duration": 0.013925,
     "end_time": "2025-05-15T16:04:34.267184",
     "exception": false,
     "start_time": "2025-05-15T16:04:34.253259",
     "status": "completed"
    },
    "tags": []
   },
   "outputs": [
    {
     "data": {
      "text/plain": [
       "((22727,), (6859,), (7486,))"
      ]
     },
     "execution_count": 15,
     "metadata": {},
     "output_type": "execute_result"
    }
   ],
   "source": [
    "y_train = train_adata.obs.iloc[train_idxs].disease.values.astype(str)\n",
    "y_test = train_adata.obs.iloc[test_idxs].disease.values.astype(str)\n",
    "y_val = train_adata.obs.iloc[val_idxs].disease.values.astype(str)\n",
    "y_train.shape, y_test.shape, y_val.shape"
   ]
  },
  {
   "cell_type": "code",
   "execution_count": 16,
   "id": "d46b9c96",
   "metadata": {
    "execution": {
     "iopub.execute_input": "2025-05-15T16:04:34.278780Z",
     "iopub.status.busy": "2025-05-15T16:04:34.278571Z",
     "iopub.status.idle": "2025-05-15T16:04:34.287790Z",
     "shell.execute_reply": "2025-05-15T16:04:34.287490Z"
    },
    "papermill": {
     "duration": 0.01592,
     "end_time": "2025-05-15T16:04:34.288602",
     "exception": false,
     "start_time": "2025-05-15T16:04:34.272682",
     "status": "completed"
    },
    "tags": []
   },
   "outputs": [],
   "source": [
    "lenc = LabelEncoder()\n",
    "y_train_enc = lenc.fit_transform(y_train)\n",
    "y_val_enc = lenc.transform(y_val)\n",
    "y_test_enc = lenc.transform(y_test)"
   ]
  },
  {
   "cell_type": "markdown",
   "id": "800da42b",
   "metadata": {
    "papermill": {
     "duration": 0.005465,
     "end_time": "2025-05-15T16:04:34.299433",
     "exception": false,
     "start_time": "2025-05-15T16:04:34.293968",
     "status": "completed"
    },
    "tags": []
   },
   "source": [
    "### GENERATE F1 "
   ]
  },
  {
   "cell_type": "code",
   "execution_count": 17,
   "id": "a82ef239",
   "metadata": {
    "execution": {
     "iopub.execute_input": "2025-05-15T16:04:34.310576Z",
     "iopub.status.busy": "2025-05-15T16:04:34.310390Z",
     "iopub.status.idle": "2025-05-15T16:04:34.312560Z",
     "shell.execute_reply": "2025-05-15T16:04:34.312258Z"
    },
    "papermill": {
     "duration": 0.008696,
     "end_time": "2025-05-15T16:04:34.313295",
     "exception": false,
     "start_time": "2025-05-15T16:04:34.304599",
     "status": "completed"
    },
    "tags": []
   },
   "outputs": [],
   "source": [
    "def custom_f1_score(y_true, y_pred):\n",
    "    return -f1_score(y_true, y_pred.argmax(1), average='weighted')"
   ]
  },
  {
   "cell_type": "code",
   "execution_count": 18,
   "id": "7323d8b1",
   "metadata": {
    "execution": {
     "iopub.execute_input": "2025-05-15T16:04:34.325225Z",
     "iopub.status.busy": "2025-05-15T16:04:34.324928Z",
     "iopub.status.idle": "2025-05-15T16:04:34.328396Z",
     "shell.execute_reply": "2025-05-15T16:04:34.328095Z"
    },
    "papermill": {
     "duration": 0.010551,
     "end_time": "2025-05-15T16:04:34.329238",
     "exception": false,
     "start_time": "2025-05-15T16:04:34.318687",
     "status": "completed"
    },
    "tags": []
   },
   "outputs": [],
   "source": [
    "eval_metric=custom_f1_score\n",
    "eval_metric_name='custom_f1_score'\n",
    "\n",
    "def objective(trial):\n",
    "    params = {\n",
    "        'n_estimators': 1500,\n",
    "        'max_depth': trial.suggest_int('max_depth', 3, 20),\n",
    "        'min_child_weight': trial.suggest_int('min_child_weight', 1, 250),\n",
    "        'subsample': trial.suggest_float('subsample', 0.1, 1.0),\n",
    "        'colsample_bynode': trial.suggest_float('colsample_bynode', 0.1, 1.0),\n",
    "        'learning_rate': trial.suggest_float('learning_rate', 1e-3, 5e-1, log=True),\n",
    "    }\n",
    "    pruning_callback = optuna.integration.XGBoostPruningCallback(trial, f'validation_0-{eval_metric_name}')\n",
    "    es_callback = xgboost.callback.EarlyStopping(20, min_delta=0.001)\n",
    "    xgb = xgboost.XGBClassifier(\n",
    "        eval_metric=eval_metric,\n",
    "        callbacks=[pruning_callback, es_callback],\n",
    "        n_jobs=5,\n",
    "        **params\n",
    "    )\n",
    "    xgb.fit(\n",
    "        X_train, \n",
    "        y_train_enc, \n",
    "        verbose=0,\n",
    "        eval_set=[(X_val, y_val_enc)],\n",
    "    )\n",
    "    trial.set_user_attr('best_iteration', xgb.best_iteration)\n",
    "\n",
    "    return xgb.best_score"
   ]
  },
  {
   "cell_type": "code",
   "execution_count": 19,
   "id": "fac559b2",
   "metadata": {
    "execution": {
     "iopub.execute_input": "2025-05-15T16:04:34.340907Z",
     "iopub.status.busy": "2025-05-15T16:04:34.340573Z",
     "iopub.status.idle": "2025-05-15T16:08:31.359093Z",
     "shell.execute_reply": "2025-05-15T16:08:31.358553Z"
    },
    "papermill": {
     "duration": 237.025552,
     "end_time": "2025-05-15T16:08:31.360261",
     "exception": false,
     "start_time": "2025-05-15T16:04:34.334709",
     "status": "completed"
    },
    "scrolled": true,
    "tags": []
   },
   "outputs": [
    {
     "name": "stderr",
     "output_type": "stream",
     "text": [
      "[I 2025-05-15 18:04:34,342] A new study created in memory with name: no-name-3d6fbdf1-229e-4a4c-a2db-e7276e548791\n"
     ]
    },
    {
     "name": "stderr",
     "output_type": "stream",
     "text": [
      "[I 2025-05-15 18:04:36,659] Trial 0 finished with value: -0.533672 and parameters: {'max_depth': 9, 'min_child_weight': 238, 'subsample': 0.7587945476302645, 'colsample_bynode': 0.6387926357773329, 'learning_rate': 0.0026368755339723046}. Best is trial 0 with value: -0.533672.\n"
     ]
    },
    {
     "name": "stderr",
     "output_type": "stream",
     "text": [
      "[I 2025-05-15 18:04:51,583] Trial 1 finished with value: -0.717381 and parameters: {'max_depth': 5, 'min_child_weight': 15, 'subsample': 0.8795585311974417, 'colsample_bynode': 0.6410035105688879, 'learning_rate': 0.08148293210105287}. Best is trial 1 with value: -0.717381.\n"
     ]
    },
    {
     "name": "stderr",
     "output_type": "stream",
     "text": [
      "[I 2025-05-15 18:04:55,454] Trial 2 finished with value: -0.519037 and parameters: {'max_depth': 3, 'min_child_weight': 243, 'subsample': 0.8491983767203796, 'colsample_bynode': 0.29110519961044856, 'learning_rate': 0.003095566460242371}. Best is trial 1 with value: -0.717381.\n"
     ]
    },
    {
     "name": "stderr",
     "output_type": "stream",
     "text": [
      "[I 2025-05-15 18:04:57,472] Trial 3 finished with value: -0.546294 and parameters: {'max_depth': 6, 'min_child_weight': 77, 'subsample': 0.5722807884690141, 'colsample_bynode': 0.48875051677790415, 'learning_rate': 0.006109683510122491}. Best is trial 1 with value: -0.717381.\n"
     ]
    },
    {
     "name": "stderr",
     "output_type": "stream",
     "text": [
      "[I 2025-05-15 18:05:29,617] Trial 4 finished with value: -0.679807 and parameters: {'max_depth': 14, 'min_child_weight': 35, 'subsample': 0.3629301836816964, 'colsample_bynode': 0.4297256589643226, 'learning_rate': 0.01701841881702917}. Best is trial 1 with value: -0.717381.\n"
     ]
    },
    {
     "name": "stderr",
     "output_type": "stream",
     "text": [
      "[I 2025-05-15 18:05:32,685] Trial 5 finished with value: -0.560555 and parameters: {'max_depth': 17, 'min_child_weight': 50, 'subsample': 0.5628109945722505, 'colsample_bynode': 0.6331731119758383, 'learning_rate': 0.0013346527038305934}. Best is trial 1 with value: -0.717381.\n"
     ]
    },
    {
     "name": "stderr",
     "output_type": "stream",
     "text": [
      "[I 2025-05-15 18:05:33,020] Trial 6 pruned. Trial was pruned at iteration 0.\n"
     ]
    },
    {
     "name": "stderr",
     "output_type": "stream",
     "text": [
      "[I 2025-05-15 18:05:33,337] Trial 7 pruned. Trial was pruned at iteration 0.\n"
     ]
    },
    {
     "name": "stderr",
     "output_type": "stream",
     "text": [
      "[I 2025-05-15 18:05:33,636] Trial 8 pruned. Trial was pruned at iteration 0.\n"
     ]
    },
    {
     "name": "stderr",
     "output_type": "stream",
     "text": [
      "[I 2025-05-15 18:05:35,781] Trial 9 finished with value: -0.556124 and parameters: {'max_depth': 14, 'min_child_weight': 78, 'subsample': 0.5680612190600297, 'colsample_bynode': 0.5920392514089517, 'learning_rate': 0.0031543990308330965}. Best is trial 1 with value: -0.717381.\n"
     ]
    },
    {
     "name": "stderr",
     "output_type": "stream",
     "text": [
      "[I 2025-05-15 18:05:49,717] Trial 10 finished with value: -0.712481 and parameters: {'max_depth': 9, 'min_child_weight': 2, 'subsample': 0.9725833997090791, 'colsample_bynode': 0.11616568805333755, 'learning_rate': 0.17780618353487967}. Best is trial 1 with value: -0.717381.\n"
     ]
    },
    {
     "name": "stderr",
     "output_type": "stream",
     "text": [
      "[I 2025-05-15 18:06:09,861] Trial 11 finished with value: -0.719302 and parameters: {'max_depth': 9, 'min_child_weight': 4, 'subsample': 0.9818290990185045, 'colsample_bynode': 0.17702656156719, 'learning_rate': 0.11568531411766632}. Best is trial 11 with value: -0.719302.\n"
     ]
    },
    {
     "name": "stderr",
     "output_type": "stream",
     "text": [
      "[I 2025-05-15 18:06:22,057] Trial 12 pruned. Trial was pruned at iteration 67.\n"
     ]
    },
    {
     "name": "stderr",
     "output_type": "stream",
     "text": [
      "[I 2025-05-15 18:06:22,414] Trial 13 pruned. Trial was pruned at iteration 0.\n"
     ]
    },
    {
     "name": "stderr",
     "output_type": "stream",
     "text": [
      "[I 2025-05-15 18:06:22,755] Trial 14 pruned. Trial was pruned at iteration 0.\n"
     ]
    },
    {
     "name": "stderr",
     "output_type": "stream",
     "text": [
      "[I 2025-05-15 18:06:50,881] Trial 15 finished with value: -0.713926 and parameters: {'max_depth': 20, 'min_child_weight': 1, 'subsample': 0.7012908959710442, 'colsample_bynode': 0.2540835086298475, 'learning_rate': 0.2833114876720916}. Best is trial 11 with value: -0.719302.\n"
     ]
    },
    {
     "name": "stderr",
     "output_type": "stream",
     "text": [
      "[I 2025-05-15 18:06:51,186] Trial 16 pruned. Trial was pruned at iteration 0.\n"
     ]
    },
    {
     "name": "stderr",
     "output_type": "stream",
     "text": [
      "[I 2025-05-15 18:06:51,481] Trial 17 pruned. Trial was pruned at iteration 0.\n"
     ]
    },
    {
     "name": "stderr",
     "output_type": "stream",
     "text": [
      "[I 2025-05-15 18:07:04,762] Trial 18 finished with value: -0.727606 and parameters: {'max_depth': 11, 'min_child_weight': 37, 'subsample': 0.8988001325877066, 'colsample_bynode': 0.3955466156360019, 'learning_rate': 0.13348559174149954}. Best is trial 18 with value: -0.727606.\n"
     ]
    },
    {
     "name": "stderr",
     "output_type": "stream",
     "text": [
      "[I 2025-05-15 18:07:05,118] Trial 19 pruned. Trial was pruned at iteration 0.\n"
     ]
    },
    {
     "name": "stderr",
     "output_type": "stream",
     "text": [
      "[I 2025-05-15 18:07:05,529] Trial 20 pruned. Trial was pruned at iteration 0.\n"
     ]
    },
    {
     "name": "stderr",
     "output_type": "stream",
     "text": [
      "[I 2025-05-15 18:07:10,335] Trial 21 pruned. Trial was pruned at iteration 37.\n"
     ]
    },
    {
     "name": "stderr",
     "output_type": "stream",
     "text": [
      "[I 2025-05-15 18:07:10,624] Trial 22 pruned. Trial was pruned at iteration 0.\n"
     ]
    },
    {
     "name": "stderr",
     "output_type": "stream",
     "text": [
      "[I 2025-05-15 18:07:13,365] Trial 23 pruned. Trial was pruned at iteration 21.\n"
     ]
    },
    {
     "name": "stderr",
     "output_type": "stream",
     "text": [
      "[I 2025-05-15 18:07:16,039] Trial 24 pruned. Trial was pruned at iteration 22.\n"
     ]
    },
    {
     "name": "stderr",
     "output_type": "stream",
     "text": [
      "[I 2025-05-15 18:07:25,455] Trial 25 finished with value: -0.73324 and parameters: {'max_depth': 16, 'min_child_weight': 19, 'subsample': 0.6754107179778135, 'colsample_bynode': 0.27030683143201956, 'learning_rate': 0.23168559901409894}. Best is trial 25 with value: -0.73324.\n"
     ]
    },
    {
     "name": "stderr",
     "output_type": "stream",
     "text": [
      "[I 2025-05-15 18:07:25,748] Trial 26 pruned. Trial was pruned at iteration 0.\n"
     ]
    },
    {
     "name": "stderr",
     "output_type": "stream",
     "text": [
      "[I 2025-05-15 18:07:34,716] Trial 27 finished with value: -0.735773 and parameters: {'max_depth': 20, 'min_child_weight': 17, 'subsample': 0.6451461746298132, 'colsample_bynode': 0.20899205720966268, 'learning_rate': 0.24298939546043904}. Best is trial 27 with value: -0.735773.\n"
     ]
    },
    {
     "name": "stderr",
     "output_type": "stream",
     "text": [
      "[I 2025-05-15 18:07:35,034] Trial 28 pruned. Trial was pruned at iteration 0.\n"
     ]
    },
    {
     "name": "stderr",
     "output_type": "stream",
     "text": [
      "[I 2025-05-15 18:07:35,331] Trial 29 pruned. Trial was pruned at iteration 0.\n"
     ]
    },
    {
     "name": "stderr",
     "output_type": "stream",
     "text": [
      "[I 2025-05-15 18:07:35,641] Trial 30 pruned. Trial was pruned at iteration 0.\n"
     ]
    },
    {
     "name": "stderr",
     "output_type": "stream",
     "text": [
      "[I 2025-05-15 18:07:49,064] Trial 31 finished with value: -0.722735 and parameters: {'max_depth': 19, 'min_child_weight': 17, 'subsample': 0.7850784888873833, 'colsample_bynode': 0.1952708875915334, 'learning_rate': 0.12071327623908129}. Best is trial 27 with value: -0.735773.\n"
     ]
    },
    {
     "name": "stderr",
     "output_type": "stream",
     "text": [
      "[I 2025-05-15 18:08:03,200] Trial 32 finished with value: -0.730615 and parameters: {'max_depth': 18, 'min_child_weight': 21, 'subsample': 0.6307592838429237, 'colsample_bynode': 0.22013154955848946, 'learning_rate': 0.14086457396445431}. Best is trial 27 with value: -0.735773.\n"
     ]
    },
    {
     "name": "stderr",
     "output_type": "stream",
     "text": [
      "[I 2025-05-15 18:08:08,696] Trial 33 finished with value: -0.732895 and parameters: {'max_depth': 19, 'min_child_weight': 34, 'subsample': 0.6198323198848258, 'colsample_bynode': 0.28066338441712646, 'learning_rate': 0.48158813191443267}. Best is trial 27 with value: -0.735773.\n"
     ]
    },
    {
     "name": "stderr",
     "output_type": "stream",
     "text": [
      "[I 2025-05-15 18:08:09,024] Trial 34 pruned. Trial was pruned at iteration 0.\n"
     ]
    },
    {
     "name": "stderr",
     "output_type": "stream",
     "text": [
      "[I 2025-05-15 18:08:09,319] Trial 35 pruned. Trial was pruned at iteration 0.\n"
     ]
    },
    {
     "name": "stderr",
     "output_type": "stream",
     "text": [
      "[I 2025-05-15 18:08:16,326] Trial 36 finished with value: -0.736927 and parameters: {'max_depth': 16, 'min_child_weight': 26, 'subsample': 0.6268437430269069, 'colsample_bynode': 0.32817085528022394, 'learning_rate': 0.32828762805827505}. Best is trial 36 with value: -0.736927.\n"
     ]
    },
    {
     "name": "stderr",
     "output_type": "stream",
     "text": [
      "[I 2025-05-15 18:08:16,609] Trial 37 pruned. Trial was pruned at iteration 0.\n"
     ]
    },
    {
     "name": "stderr",
     "output_type": "stream",
     "text": [
      "[I 2025-05-15 18:08:16,925] Trial 38 pruned. Trial was pruned at iteration 0.\n"
     ]
    },
    {
     "name": "stderr",
     "output_type": "stream",
     "text": [
      "[I 2025-05-15 18:08:17,224] Trial 39 pruned. Trial was pruned at iteration 0.\n"
     ]
    },
    {
     "name": "stderr",
     "output_type": "stream",
     "text": [
      "[I 2025-05-15 18:08:17,545] Trial 40 pruned. Trial was pruned at iteration 0.\n"
     ]
    },
    {
     "name": "stderr",
     "output_type": "stream",
     "text": [
      "[I 2025-05-15 18:08:18,450] Trial 41 pruned. Trial was pruned at iteration 5.\n"
     ]
    },
    {
     "name": "stderr",
     "output_type": "stream",
     "text": [
      "[I 2025-05-15 18:08:18,782] Trial 42 pruned. Trial was pruned at iteration 0.\n"
     ]
    },
    {
     "name": "stderr",
     "output_type": "stream",
     "text": [
      "[I 2025-05-15 18:08:19,205] Trial 43 pruned. Trial was pruned at iteration 1.\n"
     ]
    },
    {
     "name": "stderr",
     "output_type": "stream",
     "text": [
      "[I 2025-05-15 18:08:19,500] Trial 44 pruned. Trial was pruned at iteration 0.\n"
     ]
    },
    {
     "name": "stderr",
     "output_type": "stream",
     "text": [
      "[I 2025-05-15 18:08:19,871] Trial 45 pruned. Trial was pruned at iteration 0.\n"
     ]
    },
    {
     "name": "stderr",
     "output_type": "stream",
     "text": [
      "[I 2025-05-15 18:08:20,187] Trial 46 pruned. Trial was pruned at iteration 0.\n"
     ]
    },
    {
     "name": "stderr",
     "output_type": "stream",
     "text": [
      "[I 2025-05-15 18:08:30,678] Trial 47 finished with value: -0.72835 and parameters: {'max_depth': 18, 'min_child_weight': 10, 'subsample': 0.3810572927075435, 'colsample_bynode': 0.23983701808105384, 'learning_rate': 0.20665057645299162}. Best is trial 36 with value: -0.736927.\n"
     ]
    },
    {
     "name": "stderr",
     "output_type": "stream",
     "text": [
      "[I 2025-05-15 18:08:30,961] Trial 48 pruned. Trial was pruned at iteration 0.\n"
     ]
    },
    {
     "name": "stderr",
     "output_type": "stream",
     "text": [
      "[I 2025-05-15 18:08:31,256] Trial 49 pruned. Trial was pruned at iteration 0.\n"
     ]
    }
   ],
   "source": [
    "sampler = optuna.samplers.TPESampler(seed=42)\n",
    "study = optuna.create_study(direction='minimize', sampler=sampler)\n",
    "study.optimize(objective, n_trials=N_TRIALS, gc_after_trial=True)"
   ]
  },
  {
   "cell_type": "code",
   "execution_count": 20,
   "id": "ab713dc3",
   "metadata": {
    "execution": {
     "iopub.execute_input": "2025-05-15T16:08:31.382357Z",
     "iopub.status.busy": "2025-05-15T16:08:31.382131Z",
     "iopub.status.idle": "2025-05-15T16:08:31.408674Z",
     "shell.execute_reply": "2025-05-15T16:08:31.408247Z"
    },
    "papermill": {
     "duration": 0.038338,
     "end_time": "2025-05-15T16:08:31.409725",
     "exception": false,
     "start_time": "2025-05-15T16:08:31.371387",
     "status": "completed"
    },
    "tags": []
   },
   "outputs": [
    {
     "data": {
      "text/plain": [
       "['/scratch_isilon/groups/singlecell/shared/projects/Inflammation-PBMCs-Atlas/03_downstream_analysis/08_gene_importance/xgboost_external_validation/xgboost_TopN_genes/results_20/study/T_CD8_Naive_11_2_xgboost.pkl']"
      ]
     },
     "execution_count": 20,
     "metadata": {},
     "output_type": "execute_result"
    }
   ],
   "source": [
    "out_dir = here(f'03_downstream_analysis/08_gene_importance/xgboost_external_validation/xgboost_TopN_genes/results_{N_GENES}/study')\n",
    "\n",
    "if not os.path.exists(out_dir):\n",
    "    os.makedirs(out_dir)\n",
    "    \n",
    "joblib.dump(study,os.path.join(out_dir, f'{CELL_TYPE}_{SEED}_{TEST_SPLIT_IDX}_xgboost.pkl'))"
   ]
  },
  {
   "cell_type": "code",
   "execution_count": 21,
   "id": "9b5040dd",
   "metadata": {
    "execution": {
     "iopub.execute_input": "2025-05-15T16:08:31.429952Z",
     "iopub.status.busy": "2025-05-15T16:08:31.429641Z",
     "iopub.status.idle": "2025-05-15T16:08:36.207149Z",
     "shell.execute_reply": "2025-05-15T16:08:36.206757Z"
    },
    "papermill": {
     "duration": 4.788804,
     "end_time": "2025-05-15T16:08:36.208289",
     "exception": false,
     "start_time": "2025-05-15T16:08:31.419485",
     "status": "completed"
    },
    "tags": []
   },
   "outputs": [
    {
     "data": {
      "text/html": [
       "<style>#sk-container-id-1 {\n",
       "  /* Definition of color scheme common for light and dark mode */\n",
       "  --sklearn-color-text: black;\n",
       "  --sklearn-color-line: gray;\n",
       "  /* Definition of color scheme for unfitted estimators */\n",
       "  --sklearn-color-unfitted-level-0: #fff5e6;\n",
       "  --sklearn-color-unfitted-level-1: #f6e4d2;\n",
       "  --sklearn-color-unfitted-level-2: #ffe0b3;\n",
       "  --sklearn-color-unfitted-level-3: chocolate;\n",
       "  /* Definition of color scheme for fitted estimators */\n",
       "  --sklearn-color-fitted-level-0: #f0f8ff;\n",
       "  --sklearn-color-fitted-level-1: #d4ebff;\n",
       "  --sklearn-color-fitted-level-2: #b3dbfd;\n",
       "  --sklearn-color-fitted-level-3: cornflowerblue;\n",
       "\n",
       "  /* Specific color for light theme */\n",
       "  --sklearn-color-text-on-default-background: var(--sg-text-color, var(--theme-code-foreground, var(--jp-content-font-color1, black)));\n",
       "  --sklearn-color-background: var(--sg-background-color, var(--theme-background, var(--jp-layout-color0, white)));\n",
       "  --sklearn-color-border-box: var(--sg-text-color, var(--theme-code-foreground, var(--jp-content-font-color1, black)));\n",
       "  --sklearn-color-icon: #696969;\n",
       "\n",
       "  @media (prefers-color-scheme: dark) {\n",
       "    /* Redefinition of color scheme for dark theme */\n",
       "    --sklearn-color-text-on-default-background: var(--sg-text-color, var(--theme-code-foreground, var(--jp-content-font-color1, white)));\n",
       "    --sklearn-color-background: var(--sg-background-color, var(--theme-background, var(--jp-layout-color0, #111)));\n",
       "    --sklearn-color-border-box: var(--sg-text-color, var(--theme-code-foreground, var(--jp-content-font-color1, white)));\n",
       "    --sklearn-color-icon: #878787;\n",
       "  }\n",
       "}\n",
       "\n",
       "#sk-container-id-1 {\n",
       "  color: var(--sklearn-color-text);\n",
       "}\n",
       "\n",
       "#sk-container-id-1 pre {\n",
       "  padding: 0;\n",
       "}\n",
       "\n",
       "#sk-container-id-1 input.sk-hidden--visually {\n",
       "  border: 0;\n",
       "  clip: rect(1px 1px 1px 1px);\n",
       "  clip: rect(1px, 1px, 1px, 1px);\n",
       "  height: 1px;\n",
       "  margin: -1px;\n",
       "  overflow: hidden;\n",
       "  padding: 0;\n",
       "  position: absolute;\n",
       "  width: 1px;\n",
       "}\n",
       "\n",
       "#sk-container-id-1 div.sk-dashed-wrapped {\n",
       "  border: 1px dashed var(--sklearn-color-line);\n",
       "  margin: 0 0.4em 0.5em 0.4em;\n",
       "  box-sizing: border-box;\n",
       "  padding-bottom: 0.4em;\n",
       "  background-color: var(--sklearn-color-background);\n",
       "}\n",
       "\n",
       "#sk-container-id-1 div.sk-container {\n",
       "  /* jupyter's `normalize.less` sets `[hidden] { display: none; }`\n",
       "     but bootstrap.min.css set `[hidden] { display: none !important; }`\n",
       "     so we also need the `!important` here to be able to override the\n",
       "     default hidden behavior on the sphinx rendered scikit-learn.org.\n",
       "     See: https://github.com/scikit-learn/scikit-learn/issues/21755 */\n",
       "  display: inline-block !important;\n",
       "  position: relative;\n",
       "}\n",
       "\n",
       "#sk-container-id-1 div.sk-text-repr-fallback {\n",
       "  display: none;\n",
       "}\n",
       "\n",
       "div.sk-parallel-item,\n",
       "div.sk-serial,\n",
       "div.sk-item {\n",
       "  /* draw centered vertical line to link estimators */\n",
       "  background-image: linear-gradient(var(--sklearn-color-text-on-default-background), var(--sklearn-color-text-on-default-background));\n",
       "  background-size: 2px 100%;\n",
       "  background-repeat: no-repeat;\n",
       "  background-position: center center;\n",
       "}\n",
       "\n",
       "/* Parallel-specific style estimator block */\n",
       "\n",
       "#sk-container-id-1 div.sk-parallel-item::after {\n",
       "  content: \"\";\n",
       "  width: 100%;\n",
       "  border-bottom: 2px solid var(--sklearn-color-text-on-default-background);\n",
       "  flex-grow: 1;\n",
       "}\n",
       "\n",
       "#sk-container-id-1 div.sk-parallel {\n",
       "  display: flex;\n",
       "  align-items: stretch;\n",
       "  justify-content: center;\n",
       "  background-color: var(--sklearn-color-background);\n",
       "  position: relative;\n",
       "}\n",
       "\n",
       "#sk-container-id-1 div.sk-parallel-item {\n",
       "  display: flex;\n",
       "  flex-direction: column;\n",
       "}\n",
       "\n",
       "#sk-container-id-1 div.sk-parallel-item:first-child::after {\n",
       "  align-self: flex-end;\n",
       "  width: 50%;\n",
       "}\n",
       "\n",
       "#sk-container-id-1 div.sk-parallel-item:last-child::after {\n",
       "  align-self: flex-start;\n",
       "  width: 50%;\n",
       "}\n",
       "\n",
       "#sk-container-id-1 div.sk-parallel-item:only-child::after {\n",
       "  width: 0;\n",
       "}\n",
       "\n",
       "/* Serial-specific style estimator block */\n",
       "\n",
       "#sk-container-id-1 div.sk-serial {\n",
       "  display: flex;\n",
       "  flex-direction: column;\n",
       "  align-items: center;\n",
       "  background-color: var(--sklearn-color-background);\n",
       "  padding-right: 1em;\n",
       "  padding-left: 1em;\n",
       "}\n",
       "\n",
       "\n",
       "/* Toggleable style: style used for estimator/Pipeline/ColumnTransformer box that is\n",
       "clickable and can be expanded/collapsed.\n",
       "- Pipeline and ColumnTransformer use this feature and define the default style\n",
       "- Estimators will overwrite some part of the style using the `sk-estimator` class\n",
       "*/\n",
       "\n",
       "/* Pipeline and ColumnTransformer style (default) */\n",
       "\n",
       "#sk-container-id-1 div.sk-toggleable {\n",
       "  /* Default theme specific background. It is overwritten whether we have a\n",
       "  specific estimator or a Pipeline/ColumnTransformer */\n",
       "  background-color: var(--sklearn-color-background);\n",
       "}\n",
       "\n",
       "/* Toggleable label */\n",
       "#sk-container-id-1 label.sk-toggleable__label {\n",
       "  cursor: pointer;\n",
       "  display: block;\n",
       "  width: 100%;\n",
       "  margin-bottom: 0;\n",
       "  padding: 0.5em;\n",
       "  box-sizing: border-box;\n",
       "  text-align: center;\n",
       "}\n",
       "\n",
       "#sk-container-id-1 label.sk-toggleable__label-arrow:before {\n",
       "  /* Arrow on the left of the label */\n",
       "  content: \"▸\";\n",
       "  float: left;\n",
       "  margin-right: 0.25em;\n",
       "  color: var(--sklearn-color-icon);\n",
       "}\n",
       "\n",
       "#sk-container-id-1 label.sk-toggleable__label-arrow:hover:before {\n",
       "  color: var(--sklearn-color-text);\n",
       "}\n",
       "\n",
       "/* Toggleable content - dropdown */\n",
       "\n",
       "#sk-container-id-1 div.sk-toggleable__content {\n",
       "  max-height: 0;\n",
       "  max-width: 0;\n",
       "  overflow: hidden;\n",
       "  text-align: left;\n",
       "  /* unfitted */\n",
       "  background-color: var(--sklearn-color-unfitted-level-0);\n",
       "}\n",
       "\n",
       "#sk-container-id-1 div.sk-toggleable__content.fitted {\n",
       "  /* fitted */\n",
       "  background-color: var(--sklearn-color-fitted-level-0);\n",
       "}\n",
       "\n",
       "#sk-container-id-1 div.sk-toggleable__content pre {\n",
       "  margin: 0.2em;\n",
       "  border-radius: 0.25em;\n",
       "  color: var(--sklearn-color-text);\n",
       "  /* unfitted */\n",
       "  background-color: var(--sklearn-color-unfitted-level-0);\n",
       "}\n",
       "\n",
       "#sk-container-id-1 div.sk-toggleable__content.fitted pre {\n",
       "  /* unfitted */\n",
       "  background-color: var(--sklearn-color-fitted-level-0);\n",
       "}\n",
       "\n",
       "#sk-container-id-1 input.sk-toggleable__control:checked~div.sk-toggleable__content {\n",
       "  /* Expand drop-down */\n",
       "  max-height: 200px;\n",
       "  max-width: 100%;\n",
       "  overflow: auto;\n",
       "}\n",
       "\n",
       "#sk-container-id-1 input.sk-toggleable__control:checked~label.sk-toggleable__label-arrow:before {\n",
       "  content: \"▾\";\n",
       "}\n",
       "\n",
       "/* Pipeline/ColumnTransformer-specific style */\n",
       "\n",
       "#sk-container-id-1 div.sk-label input.sk-toggleable__control:checked~label.sk-toggleable__label {\n",
       "  color: var(--sklearn-color-text);\n",
       "  background-color: var(--sklearn-color-unfitted-level-2);\n",
       "}\n",
       "\n",
       "#sk-container-id-1 div.sk-label.fitted input.sk-toggleable__control:checked~label.sk-toggleable__label {\n",
       "  background-color: var(--sklearn-color-fitted-level-2);\n",
       "}\n",
       "\n",
       "/* Estimator-specific style */\n",
       "\n",
       "/* Colorize estimator box */\n",
       "#sk-container-id-1 div.sk-estimator input.sk-toggleable__control:checked~label.sk-toggleable__label {\n",
       "  /* unfitted */\n",
       "  background-color: var(--sklearn-color-unfitted-level-2);\n",
       "}\n",
       "\n",
       "#sk-container-id-1 div.sk-estimator.fitted input.sk-toggleable__control:checked~label.sk-toggleable__label {\n",
       "  /* fitted */\n",
       "  background-color: var(--sklearn-color-fitted-level-2);\n",
       "}\n",
       "\n",
       "#sk-container-id-1 div.sk-label label.sk-toggleable__label,\n",
       "#sk-container-id-1 div.sk-label label {\n",
       "  /* The background is the default theme color */\n",
       "  color: var(--sklearn-color-text-on-default-background);\n",
       "}\n",
       "\n",
       "/* On hover, darken the color of the background */\n",
       "#sk-container-id-1 div.sk-label:hover label.sk-toggleable__label {\n",
       "  color: var(--sklearn-color-text);\n",
       "  background-color: var(--sklearn-color-unfitted-level-2);\n",
       "}\n",
       "\n",
       "/* Label box, darken color on hover, fitted */\n",
       "#sk-container-id-1 div.sk-label.fitted:hover label.sk-toggleable__label.fitted {\n",
       "  color: var(--sklearn-color-text);\n",
       "  background-color: var(--sklearn-color-fitted-level-2);\n",
       "}\n",
       "\n",
       "/* Estimator label */\n",
       "\n",
       "#sk-container-id-1 div.sk-label label {\n",
       "  font-family: monospace;\n",
       "  font-weight: bold;\n",
       "  display: inline-block;\n",
       "  line-height: 1.2em;\n",
       "}\n",
       "\n",
       "#sk-container-id-1 div.sk-label-container {\n",
       "  text-align: center;\n",
       "}\n",
       "\n",
       "/* Estimator-specific */\n",
       "#sk-container-id-1 div.sk-estimator {\n",
       "  font-family: monospace;\n",
       "  border: 1px dotted var(--sklearn-color-border-box);\n",
       "  border-radius: 0.25em;\n",
       "  box-sizing: border-box;\n",
       "  margin-bottom: 0.5em;\n",
       "  /* unfitted */\n",
       "  background-color: var(--sklearn-color-unfitted-level-0);\n",
       "}\n",
       "\n",
       "#sk-container-id-1 div.sk-estimator.fitted {\n",
       "  /* fitted */\n",
       "  background-color: var(--sklearn-color-fitted-level-0);\n",
       "}\n",
       "\n",
       "/* on hover */\n",
       "#sk-container-id-1 div.sk-estimator:hover {\n",
       "  /* unfitted */\n",
       "  background-color: var(--sklearn-color-unfitted-level-2);\n",
       "}\n",
       "\n",
       "#sk-container-id-1 div.sk-estimator.fitted:hover {\n",
       "  /* fitted */\n",
       "  background-color: var(--sklearn-color-fitted-level-2);\n",
       "}\n",
       "\n",
       "/* Specification for estimator info (e.g. \"i\" and \"?\") */\n",
       "\n",
       "/* Common style for \"i\" and \"?\" */\n",
       "\n",
       ".sk-estimator-doc-link,\n",
       "a:link.sk-estimator-doc-link,\n",
       "a:visited.sk-estimator-doc-link {\n",
       "  float: right;\n",
       "  font-size: smaller;\n",
       "  line-height: 1em;\n",
       "  font-family: monospace;\n",
       "  background-color: var(--sklearn-color-background);\n",
       "  border-radius: 1em;\n",
       "  height: 1em;\n",
       "  width: 1em;\n",
       "  text-decoration: none !important;\n",
       "  margin-left: 1ex;\n",
       "  /* unfitted */\n",
       "  border: var(--sklearn-color-unfitted-level-1) 1pt solid;\n",
       "  color: var(--sklearn-color-unfitted-level-1);\n",
       "}\n",
       "\n",
       ".sk-estimator-doc-link.fitted,\n",
       "a:link.sk-estimator-doc-link.fitted,\n",
       "a:visited.sk-estimator-doc-link.fitted {\n",
       "  /* fitted */\n",
       "  border: var(--sklearn-color-fitted-level-1) 1pt solid;\n",
       "  color: var(--sklearn-color-fitted-level-1);\n",
       "}\n",
       "\n",
       "/* On hover */\n",
       "div.sk-estimator:hover .sk-estimator-doc-link:hover,\n",
       ".sk-estimator-doc-link:hover,\n",
       "div.sk-label-container:hover .sk-estimator-doc-link:hover,\n",
       ".sk-estimator-doc-link:hover {\n",
       "  /* unfitted */\n",
       "  background-color: var(--sklearn-color-unfitted-level-3);\n",
       "  color: var(--sklearn-color-background);\n",
       "  text-decoration: none;\n",
       "}\n",
       "\n",
       "div.sk-estimator.fitted:hover .sk-estimator-doc-link.fitted:hover,\n",
       ".sk-estimator-doc-link.fitted:hover,\n",
       "div.sk-label-container:hover .sk-estimator-doc-link.fitted:hover,\n",
       ".sk-estimator-doc-link.fitted:hover {\n",
       "  /* fitted */\n",
       "  background-color: var(--sklearn-color-fitted-level-3);\n",
       "  color: var(--sklearn-color-background);\n",
       "  text-decoration: none;\n",
       "}\n",
       "\n",
       "/* Span, style for the box shown on hovering the info icon */\n",
       ".sk-estimator-doc-link span {\n",
       "  display: none;\n",
       "  z-index: 9999;\n",
       "  position: relative;\n",
       "  font-weight: normal;\n",
       "  right: .2ex;\n",
       "  padding: .5ex;\n",
       "  margin: .5ex;\n",
       "  width: min-content;\n",
       "  min-width: 20ex;\n",
       "  max-width: 50ex;\n",
       "  color: var(--sklearn-color-text);\n",
       "  box-shadow: 2pt 2pt 4pt #999;\n",
       "  /* unfitted */\n",
       "  background: var(--sklearn-color-unfitted-level-0);\n",
       "  border: .5pt solid var(--sklearn-color-unfitted-level-3);\n",
       "}\n",
       "\n",
       ".sk-estimator-doc-link.fitted span {\n",
       "  /* fitted */\n",
       "  background: var(--sklearn-color-fitted-level-0);\n",
       "  border: var(--sklearn-color-fitted-level-3);\n",
       "}\n",
       "\n",
       ".sk-estimator-doc-link:hover span {\n",
       "  display: block;\n",
       "}\n",
       "\n",
       "/* \"?\"-specific style due to the `<a>` HTML tag */\n",
       "\n",
       "#sk-container-id-1 a.estimator_doc_link {\n",
       "  float: right;\n",
       "  font-size: 1rem;\n",
       "  line-height: 1em;\n",
       "  font-family: monospace;\n",
       "  background-color: var(--sklearn-color-background);\n",
       "  border-radius: 1rem;\n",
       "  height: 1rem;\n",
       "  width: 1rem;\n",
       "  text-decoration: none;\n",
       "  /* unfitted */\n",
       "  color: var(--sklearn-color-unfitted-level-1);\n",
       "  border: var(--sklearn-color-unfitted-level-1) 1pt solid;\n",
       "}\n",
       "\n",
       "#sk-container-id-1 a.estimator_doc_link.fitted {\n",
       "  /* fitted */\n",
       "  border: var(--sklearn-color-fitted-level-1) 1pt solid;\n",
       "  color: var(--sklearn-color-fitted-level-1);\n",
       "}\n",
       "\n",
       "/* On hover */\n",
       "#sk-container-id-1 a.estimator_doc_link:hover {\n",
       "  /* unfitted */\n",
       "  background-color: var(--sklearn-color-unfitted-level-3);\n",
       "  color: var(--sklearn-color-background);\n",
       "  text-decoration: none;\n",
       "}\n",
       "\n",
       "#sk-container-id-1 a.estimator_doc_link.fitted:hover {\n",
       "  /* fitted */\n",
       "  background-color: var(--sklearn-color-fitted-level-3);\n",
       "}\n",
       "</style><div id=\"sk-container-id-1\" class=\"sk-top-container\"><div class=\"sk-text-repr-fallback\"><pre>XGBClassifier(base_score=None, booster=None, callbacks=None,\n",
       "              colsample_bylevel=None, colsample_bynode=0.32817085528022394,\n",
       "              colsample_bytree=None, device=None, early_stopping_rounds=None,\n",
       "              enable_categorical=False,\n",
       "              eval_metric=&lt;function custom_f1_score at 0x7f2b083685e0&gt;,\n",
       "              feature_types=None, gamma=None, grow_policy=None,\n",
       "              importance_type=None, interaction_constraints=None,\n",
       "              learning_rate=0.32828762805827505, max_bin=None,\n",
       "              max_cat_threshold=None, max_cat_to_onehot=None,\n",
       "              max_delta_step=None, max_depth=16, max_leaves=None,\n",
       "              min_child_weight=26, missing=nan, monotone_constraints=None,\n",
       "              multi_strategy=None, n_estimators=62, n_jobs=None,\n",
       "              num_parallel_tree=None, objective=&#x27;multi:softprob&#x27;, ...)</pre><b>In a Jupyter environment, please rerun this cell to show the HTML representation or trust the notebook. <br />On GitHub, the HTML representation is unable to render, please try loading this page with nbviewer.org.</b></div><div class=\"sk-container\" hidden><div class=\"sk-item\"><div class=\"sk-estimator fitted sk-toggleable\"><input class=\"sk-toggleable__control sk-hidden--visually\" id=\"sk-estimator-id-1\" type=\"checkbox\" checked><label for=\"sk-estimator-id-1\" class=\"sk-toggleable__label fitted sk-toggleable__label-arrow fitted\">&nbsp;XGBClassifier<span class=\"sk-estimator-doc-link fitted\">i<span>Fitted</span></span></label><div class=\"sk-toggleable__content fitted\"><pre>XGBClassifier(base_score=None, booster=None, callbacks=None,\n",
       "              colsample_bylevel=None, colsample_bynode=0.32817085528022394,\n",
       "              colsample_bytree=None, device=None, early_stopping_rounds=None,\n",
       "              enable_categorical=False,\n",
       "              eval_metric=&lt;function custom_f1_score at 0x7f2b083685e0&gt;,\n",
       "              feature_types=None, gamma=None, grow_policy=None,\n",
       "              importance_type=None, interaction_constraints=None,\n",
       "              learning_rate=0.32828762805827505, max_bin=None,\n",
       "              max_cat_threshold=None, max_cat_to_onehot=None,\n",
       "              max_delta_step=None, max_depth=16, max_leaves=None,\n",
       "              min_child_weight=26, missing=nan, monotone_constraints=None,\n",
       "              multi_strategy=None, n_estimators=62, n_jobs=None,\n",
       "              num_parallel_tree=None, objective=&#x27;multi:softprob&#x27;, ...)</pre></div> </div></div></div></div>"
      ],
      "text/plain": [
       "XGBClassifier(base_score=None, booster=None, callbacks=None,\n",
       "              colsample_bylevel=None, colsample_bynode=0.32817085528022394,\n",
       "              colsample_bytree=None, device=None, early_stopping_rounds=None,\n",
       "              enable_categorical=False,\n",
       "              eval_metric=<function custom_f1_score at 0x7f2b083685e0>,\n",
       "              feature_types=None, gamma=None, grow_policy=None,\n",
       "              importance_type=None, interaction_constraints=None,\n",
       "              learning_rate=0.32828762805827505, max_bin=None,\n",
       "              max_cat_threshold=None, max_cat_to_onehot=None,\n",
       "              max_delta_step=None, max_depth=16, max_leaves=None,\n",
       "              min_child_weight=26, missing=nan, monotone_constraints=None,\n",
       "              multi_strategy=None, n_estimators=62, n_jobs=None,\n",
       "              num_parallel_tree=None, objective='multi:softprob', ...)"
      ]
     },
     "execution_count": 21,
     "metadata": {},
     "output_type": "execute_result"
    }
   ],
   "source": [
    "n_estimators = int(study.best_trial.user_attrs['best_iteration']*1.2)\n",
    "xgb = xgboost.XGBClassifier(\n",
    "        eval_metric=eval_metric,\n",
    "        n_estimators=n_estimators,\n",
    "        **study.best_trial.params\n",
    "    )\n",
    "xgb.fit(\n",
    "    ssp.vstack((X_train, X_val)), \n",
    "    np.concatenate((y_train_enc, y_val_enc)),\n",
    "    verbose=1,\n",
    ")"
   ]
  },
  {
   "cell_type": "code",
   "execution_count": 22,
   "id": "03980cb6",
   "metadata": {
    "execution": {
     "iopub.execute_input": "2025-05-15T16:08:36.233037Z",
     "iopub.status.busy": "2025-05-15T16:08:36.232681Z",
     "iopub.status.idle": "2025-05-15T16:08:36.258341Z",
     "shell.execute_reply": "2025-05-15T16:08:36.257928Z"
    },
    "papermill": {
     "duration": 0.038284,
     "end_time": "2025-05-15T16:08:36.259412",
     "exception": false,
     "start_time": "2025-05-15T16:08:36.221128",
     "status": "completed"
    },
    "tags": []
   },
   "outputs": [
    {
     "data": {
      "text/plain": [
       "['/scratch_isilon/groups/singlecell/shared/projects/Inflammation-PBMCs-Atlas/03_downstream_analysis/08_gene_importance/xgboost_external_validation/xgboost_TopN_genes/results_20/best_model/T_CD8_Naive_11_2_xgb.json']"
      ]
     },
     "execution_count": 22,
     "metadata": {},
     "output_type": "execute_result"
    }
   ],
   "source": [
    "out_dir = here(f'03_downstream_analysis/08_gene_importance/xgboost_external_validation/xgboost_TopN_genes/results_{N_GENES}/best_model')\n",
    "\n",
    "if not os.path.exists(out_dir):\n",
    "    os.makedirs(out_dir)\n",
    "    \n",
    "joblib.dump(xgb, os.path.join(out_dir, f'{CELL_TYPE}_{SEED}_{TEST_SPLIT_IDX}_xgb.json'))"
   ]
  },
  {
   "cell_type": "code",
   "execution_count": 23,
   "id": "aeca7852",
   "metadata": {
    "execution": {
     "iopub.execute_input": "2025-05-15T16:08:36.281144Z",
     "iopub.status.busy": "2025-05-15T16:08:36.280912Z",
     "iopub.status.idle": "2025-05-15T16:08:36.379253Z",
     "shell.execute_reply": "2025-05-15T16:08:36.378886Z"
    },
    "papermill": {
     "duration": 0.110477,
     "end_time": "2025-05-15T16:08:36.380403",
     "exception": false,
     "start_time": "2025-05-15T16:08:36.269926",
     "status": "completed"
    },
    "tags": []
   },
   "outputs": [],
   "source": [
    "df_pred_test = pd.DataFrame(dict(\n",
    "    cell_id=train_adata.obs.iloc[test_idxs].index.values,\n",
    "    y_true=y_test, \n",
    "    y_true_code=y_test_enc, \n",
    "    y_pred=xgb.predict(X_test))).set_index('cell_id')"
   ]
  },
  {
   "cell_type": "code",
   "execution_count": 24,
   "id": "d3ad94cc",
   "metadata": {
    "execution": {
     "iopub.execute_input": "2025-05-15T16:08:36.401894Z",
     "iopub.status.busy": "2025-05-15T16:08:36.401665Z",
     "iopub.status.idle": "2025-05-15T16:08:36.453180Z",
     "shell.execute_reply": "2025-05-15T16:08:36.452779Z"
    },
    "papermill": {
     "duration": 0.063455,
     "end_time": "2025-05-15T16:08:36.454332",
     "exception": false,
     "start_time": "2025-05-15T16:08:36.390877",
     "status": "completed"
    },
    "tags": []
   },
   "outputs": [],
   "source": [
    "out_dir = here(f'03_downstream_analysis/08_gene_importance/xgboost_external_validation/xgboost_TopN_genes/results_{N_GENES}/predictions')\n",
    "\n",
    "if not os.path.exists(out_dir):\n",
    "    os.makedirs(out_dir)\n",
    "    \n",
    "df_pred_test.to_csv(os.path.join(out_dir, f'{CELL_TYPE}_{SEED}_{TEST_SPLIT_IDX}_pred_test.zip'))"
   ]
  },
  {
   "cell_type": "code",
   "execution_count": 25,
   "id": "cf8525c1",
   "metadata": {
    "execution": {
     "iopub.execute_input": "2025-05-15T16:08:36.475339Z",
     "iopub.status.busy": "2025-05-15T16:08:36.474822Z",
     "iopub.status.idle": "2025-05-15T16:08:36.483401Z",
     "shell.execute_reply": "2025-05-15T16:08:36.483027Z"
    },
    "papermill": {
     "duration": 0.020011,
     "end_time": "2025-05-15T16:08:36.484431",
     "exception": false,
     "start_time": "2025-05-15T16:08:36.464420",
     "status": "completed"
    },
    "tags": []
   },
   "outputs": [],
   "source": [
    "metrics_dict = dict(\n",
    "    BAS=balanced_accuracy_score(y_true=df_pred_test.y_true_code, y_pred=df_pred_test.y_pred), WF1=f1_score(y_true=df_pred_test.y_true_code, y_pred=df_pred_test.y_pred,average='weighted'))"
   ]
  },
  {
   "cell_type": "code",
   "execution_count": 26,
   "id": "c3607bab",
   "metadata": {
    "execution": {
     "iopub.execute_input": "2025-05-15T16:08:36.505488Z",
     "iopub.status.busy": "2025-05-15T16:08:36.505198Z",
     "iopub.status.idle": "2025-05-15T16:08:36.508402Z",
     "shell.execute_reply": "2025-05-15T16:08:36.508042Z"
    },
    "papermill": {
     "duration": 0.01417,
     "end_time": "2025-05-15T16:08:36.509392",
     "exception": false,
     "start_time": "2025-05-15T16:08:36.495222",
     "status": "completed"
    },
    "tags": []
   },
   "outputs": [
    {
     "data": {
      "text/plain": [
       "{'BAS': 0.6224757134781657, 'WF1': 0.8002874196405911}"
      ]
     },
     "execution_count": 26,
     "metadata": {},
     "output_type": "execute_result"
    }
   ],
   "source": [
    "metrics_dict"
   ]
  },
  {
   "cell_type": "code",
   "execution_count": 27,
   "id": "9d7d2e26",
   "metadata": {
    "execution": {
     "iopub.execute_input": "2025-05-15T16:08:36.529484Z",
     "iopub.status.busy": "2025-05-15T16:08:36.529198Z",
     "iopub.status.idle": "2025-05-15T16:08:36.538650Z",
     "shell.execute_reply": "2025-05-15T16:08:36.538099Z"
    },
    "papermill": {
     "duration": 0.020565,
     "end_time": "2025-05-15T16:08:36.539675",
     "exception": false,
     "start_time": "2025-05-15T16:08:36.519110",
     "status": "completed"
    },
    "tags": []
   },
   "outputs": [
    {
     "data": {
      "text/html": [
       "<div>\n",
       "<style scoped>\n",
       "    .dataframe tbody tr th:only-of-type {\n",
       "        vertical-align: middle;\n",
       "    }\n",
       "\n",
       "    .dataframe tbody tr th {\n",
       "        vertical-align: top;\n",
       "    }\n",
       "\n",
       "    .dataframe thead th {\n",
       "        text-align: right;\n",
       "    }\n",
       "</style>\n",
       "<table border=\"1\" class=\"dataframe\">\n",
       "  <thead>\n",
       "    <tr style=\"text-align: right;\">\n",
       "      <th></th>\n",
       "      <th>BAS</th>\n",
       "      <th>WF1</th>\n",
       "      <th>split_idx</th>\n",
       "      <th>gene_set_seed</th>\n",
       "      <th>cell_type</th>\n",
       "    </tr>\n",
       "  </thead>\n",
       "  <tbody>\n",
       "    <tr>\n",
       "      <th>0</th>\n",
       "      <td>0.622476</td>\n",
       "      <td>0.800287</td>\n",
       "      <td>2</td>\n",
       "      <td>11</td>\n",
       "      <td>T_CD8_Naive</td>\n",
       "    </tr>\n",
       "  </tbody>\n",
       "</table>\n",
       "</div>"
      ],
      "text/plain": [
       "        BAS       WF1  split_idx  gene_set_seed    cell_type\n",
       "0  0.622476  0.800287          2             11  T_CD8_Naive"
      ]
     },
     "execution_count": 27,
     "metadata": {},
     "output_type": "execute_result"
    }
   ],
   "source": [
    "metrics_df = pd.DataFrame.from_dict([metrics_dict]).assign(split_idx=TEST_SPLIT_IDX, gene_set_seed=SEED, cell_type=CELL_TYPE)\n",
    "metrics_df"
   ]
  },
  {
   "cell_type": "code",
   "execution_count": 28,
   "id": "6c107022",
   "metadata": {
    "execution": {
     "iopub.execute_input": "2025-05-15T16:08:36.560706Z",
     "iopub.status.busy": "2025-05-15T16:08:36.560402Z",
     "iopub.status.idle": "2025-05-15T16:08:36.569367Z",
     "shell.execute_reply": "2025-05-15T16:08:36.568954Z"
    },
    "papermill": {
     "duration": 0.020712,
     "end_time": "2025-05-15T16:08:36.570300",
     "exception": false,
     "start_time": "2025-05-15T16:08:36.549588",
     "status": "completed"
    },
    "tags": []
   },
   "outputs": [],
   "source": [
    "out_dir = here(f'03_downstream_analysis/08_gene_importance/xgboost_external_validation/xgboost_TopN_genes/results_{N_GENES}/metrics')\n",
    "\n",
    "if not os.path.exists(out_dir):\n",
    "    os.makedirs(out_dir)\n",
    "    \n",
    "metrics_df.to_csv(os.path.join(out_dir, f'{CELL_TYPE}_{SEED}_{TEST_SPLIT_IDX}_metrics.zip'))"
   ]
  }
 ],
 "metadata": {
  "kernelspec": {
   "display_name": "Python 3 (ipykernel)",
   "language": "python",
   "name": "python3"
  },
  "language_info": {
   "codemirror_mode": {
    "name": "ipython",
    "version": 3
   },
   "file_extension": ".py",
   "mimetype": "text/x-python",
   "name": "python",
   "nbconvert_exporter": "python",
   "pygments_lexer": "ipython3",
   "version": "3.12.5"
  },
  "papermill": {
   "default_parameters": {},
   "duration": 246.748191,
   "end_time": "2025-05-15T16:08:37.197100",
   "environment_variables": {},
   "exception": null,
   "input_path": "02_xgboost_fitting_external_20genes.ipynb",
   "output_path": "results_20/executed_notebooks/xgboost_fitting_external_CT_T_CD8_Naive_GS_11_seed2.ipynb",
   "parameters": {
    "CELL_TYPE": "T_CD8_Naive",
    "SEED": 11,
    "TEST_SPLIT_IDX": 2
   },
   "start_time": "2025-05-15T16:04:30.448909",
   "version": "2.6.0"
  }
 },
 "nbformat": 4,
 "nbformat_minor": 5
}