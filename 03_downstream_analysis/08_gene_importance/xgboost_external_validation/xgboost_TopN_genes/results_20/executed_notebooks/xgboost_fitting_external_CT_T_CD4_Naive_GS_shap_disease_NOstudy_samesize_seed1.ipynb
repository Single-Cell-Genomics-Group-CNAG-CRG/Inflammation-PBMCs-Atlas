{
 "cells": [
  {
   "cell_type": "code",
   "execution_count": 1,
   "id": "58af7eb0",
   "metadata": {
    "editable": true,
    "execution": {
     "iopub.execute_input": "2025-06-13T13:01:10.531975Z",
     "iopub.status.busy": "2025-06-13T13:01:10.531790Z",
     "iopub.status.idle": "2025-06-13T13:01:10.534957Z",
     "shell.execute_reply": "2025-06-13T13:01:10.534572Z"
    },
    "papermill": {
     "duration": 0.024116,
     "end_time": "2025-06-13T13:01:10.536102",
     "exception": false,
     "start_time": "2025-06-13T13:01:10.511986",
     "status": "completed"
    },
    "slideshow": {
     "slide_type": ""
    },
    "tags": [
     "parameters"
    ]
   },
   "outputs": [],
   "source": [
    "CELL_TYPE = 'pDC'\n",
    "N_GENES: int = 20\n",
    "SEED = 'shap_studyID' #'disease_NOstudy' 'study_NOdisease' or 'int' or 'shap_studyID'\n",
    "TEST_SPLIT_IDX: int = 1 #[0,4]"
   ]
  },
  {
   "cell_type": "code",
   "execution_count": 2,
   "id": "f6c9fe88",
   "metadata": {
    "execution": {
     "iopub.execute_input": "2025-06-13T13:01:10.548190Z",
     "iopub.status.busy": "2025-06-13T13:01:10.547726Z",
     "iopub.status.idle": "2025-06-13T13:01:10.550208Z",
     "shell.execute_reply": "2025-06-13T13:01:10.549859Z"
    },
    "papermill": {
     "duration": 0.009705,
     "end_time": "2025-06-13T13:01:10.551179",
     "exception": false,
     "start_time": "2025-06-13T13:01:10.541474",
     "status": "completed"
    },
    "tags": [
     "injected-parameters"
    ]
   },
   "outputs": [],
   "source": [
    "# Parameters\n",
    "CELL_TYPE = \"T_CD4_Naive\"\n",
    "SEED = \"shap_disease_NOstudy_samesize\"\n",
    "TEST_SPLIT_IDX = 1\n"
   ]
  },
  {
   "cell_type": "code",
   "execution_count": 3,
   "id": "fef22220",
   "metadata": {
    "execution": {
     "iopub.execute_input": "2025-06-13T13:01:10.564165Z",
     "iopub.status.busy": "2025-06-13T13:01:10.563816Z",
     "iopub.status.idle": "2025-06-13T13:01:10.566136Z",
     "shell.execute_reply": "2025-06-13T13:01:10.565780Z"
    },
    "papermill": {
     "duration": 0.009473,
     "end_time": "2025-06-13T13:01:10.566986",
     "exception": false,
     "start_time": "2025-06-13T13:01:10.557513",
     "status": "completed"
    },
    "tags": []
   },
   "outputs": [],
   "source": [
    "N_SPLITS: int = 5\n",
    "N_TRIALS: int = 50"
   ]
  },
  {
   "cell_type": "code",
   "execution_count": 4,
   "id": "5aa72ca5",
   "metadata": {
    "execution": {
     "iopub.execute_input": "2025-06-13T13:01:10.606348Z",
     "iopub.status.busy": "2025-06-13T13:01:10.606035Z",
     "iopub.status.idle": "2025-06-13T13:01:12.804860Z",
     "shell.execute_reply": "2025-06-13T13:01:12.804312Z"
    },
    "papermill": {
     "duration": 2.207554,
     "end_time": "2025-06-13T13:01:12.806229",
     "exception": false,
     "start_time": "2025-06-13T13:01:10.598675",
     "status": "completed"
    },
    "tags": []
   },
   "outputs": [],
   "source": [
    "import os\n",
    "import sys\n",
    "from pyprojroot.here import here\n",
    "import pandas as pd\n",
    "import anndata as ad\n",
    "import numpy as np\n",
    "import math\n",
    "from sklearn.model_selection import StratifiedGroupKFold\n",
    "from sklearn.preprocessing import LabelEncoder\n",
    "from sklearn.metrics import f1_score\n",
    "import matplotlib.pyplot as plt\n",
    "import seaborn as sns\n",
    "from itertools import product\n",
    "from sklearn.metrics import balanced_accuracy_score, f1_score\n",
    "import optuna\n",
    "\n",
    "import joblib\n",
    "import pickle\n",
    "import datetime\n",
    "\n",
    "import collections\n",
    "\n",
    "import xgboost\n",
    "from sklearn.preprocessing import LabelEncoder\n",
    "\n",
    "import scipy.sparse as ssp\n",
    "import joblib\n",
    "\n",
    "from dotenv import load_dotenv"
   ]
  },
  {
   "cell_type": "code",
   "execution_count": 5,
   "id": "4360a08c",
   "metadata": {
    "execution": {
     "iopub.execute_input": "2025-06-13T13:01:12.834440Z",
     "iopub.status.busy": "2025-06-13T13:01:12.833948Z",
     "iopub.status.idle": "2025-06-13T13:01:12.840940Z",
     "shell.execute_reply": "2025-06-13T13:01:12.840453Z"
    },
    "papermill": {
     "duration": 0.01502,
     "end_time": "2025-06-13T13:01:12.841971",
     "exception": false,
     "start_time": "2025-06-13T13:01:12.826951",
     "status": "completed"
    },
    "tags": []
   },
   "outputs": [
    {
     "data": {
      "text/plain": [
       "True"
      ]
     },
     "execution_count": 5,
     "metadata": {},
     "output_type": "execute_result"
    }
   ],
   "source": [
    "load_dotenv()"
   ]
  },
  {
   "cell_type": "markdown",
   "id": "b8680bcf",
   "metadata": {
    "papermill": {
     "duration": 0.083428,
     "end_time": "2025-06-13T13:01:12.930873",
     "exception": false,
     "start_time": "2025-06-13T13:01:12.847445",
     "status": "completed"
    },
    "tags": []
   },
   "source": [
    "# LOAD DATASET"
   ]
  },
  {
   "cell_type": "code",
   "execution_count": 6,
   "id": "ad3d9098",
   "metadata": {
    "execution": {
     "iopub.execute_input": "2025-06-13T13:01:12.945921Z",
     "iopub.status.busy": "2025-06-13T13:01:12.945753Z",
     "iopub.status.idle": "2025-06-13T13:01:13.432125Z",
     "shell.execute_reply": "2025-06-13T13:01:13.431642Z"
    },
    "papermill": {
     "duration": 0.49418,
     "end_time": "2025-06-13T13:01:13.433279",
     "exception": false,
     "start_time": "2025-06-13T13:01:12.939099",
     "status": "completed"
    },
    "tags": []
   },
   "outputs": [],
   "source": [
    "train_adata = ad.read_h5ad(\n",
    "    here(f'03_downstream_analysis/08_gene_importance/xgboost_external_validation/xgboost_TopN_genes/data_cellTypes/EXTERNAL_{CELL_TYPE}.filtered.log1p.h5ad')\n",
    ")"
   ]
  },
  {
   "cell_type": "code",
   "execution_count": 7,
   "id": "0c43a7b9",
   "metadata": {
    "execution": {
     "iopub.execute_input": "2025-06-13T13:01:13.445446Z",
     "iopub.status.busy": "2025-06-13T13:01:13.445021Z",
     "iopub.status.idle": "2025-06-13T13:01:13.472677Z",
     "shell.execute_reply": "2025-06-13T13:01:13.472207Z"
    },
    "papermill": {
     "duration": 0.034998,
     "end_time": "2025-06-13T13:01:13.473680",
     "exception": false,
     "start_time": "2025-06-13T13:01:13.438682",
     "status": "completed"
    },
    "tags": []
   },
   "outputs": [
    {
     "name": "stdout",
     "output_type": "stream",
     "text": [
      "['ENSG00000008517' 'ENSG00000027697' 'ENSG00000028137' 'ENSG00000030582'\n",
      " 'ENSG00000075785' 'ENSG00000077150' 'ENSG00000077380' 'ENSG00000079616'\n",
      " 'ENSG00000081059' 'ENSG00000088986' 'ENSG00000089280' 'ENSG00000101608'\n",
      " 'ENSG00000102245' 'ENSG00000104689' 'ENSG00000104870' 'ENSG00000104904'\n",
      " 'ENSG00000104964' 'ENSG00000105835' 'ENSG00000106952' 'ENSG00000110324'\n",
      " 'ENSG00000110848' 'ENSG00000113263' 'ENSG00000113732' 'ENSG00000115415'\n",
      " 'ENSG00000115738' 'ENSG00000116171' 'ENSG00000117318' 'ENSG00000117450'\n",
      " 'ENSG00000118503' 'ENSG00000118515' 'ENSG00000119655' 'ENSG00000121966'\n",
      " 'ENSG00000125384' 'ENSG00000126353' 'ENSG00000127152' 'ENSG00000127528'\n",
      " 'ENSG00000128524' 'ENSG00000130429' 'ENSG00000130522' 'ENSG00000132475'\n",
      " 'ENSG00000135046' 'ENSG00000136997' 'ENSG00000137193' 'ENSG00000137959'\n",
      " 'ENSG00000139626' 'ENSG00000141506' 'ENSG00000143543' 'ENSG00000145220'\n",
      " 'ENSG00000145675' 'ENSG00000150093' 'ENSG00000152234' 'ENSG00000152518'\n",
      " 'ENSG00000157601' 'ENSG00000159128' 'ENSG00000162368' 'ENSG00000163131'\n",
      " 'ENSG00000163600' 'ENSG00000164307' 'ENSG00000165732' 'ENSG00000166681'\n",
      " 'ENSG00000167552' 'ENSG00000167996' 'ENSG00000169429' 'ENSG00000169564'\n",
      " 'ENSG00000172183' 'ENSG00000172543' 'ENSG00000172936' 'ENSG00000175567'\n",
      " 'ENSG00000175768' 'ENSG00000177885' 'ENSG00000178719' 'ENSG00000179144'\n",
      " 'ENSG00000179218' 'ENSG00000182117' 'ENSG00000183508' 'ENSG00000183696'\n",
      " 'ENSG00000184007' 'ENSG00000185201' 'ENSG00000185338' 'ENSG00000185950'\n",
      " 'ENSG00000187608' 'ENSG00000196126' 'ENSG00000196396' 'ENSG00000197471'\n",
      " 'ENSG00000197956' 'ENSG00000198520' 'ENSG00000204287' 'ENSG00000204525'\n",
      " 'ENSG00000204592' 'ENSG00000205220' 'ENSG00000205542' 'ENSG00000206503'\n",
      " 'ENSG00000211895' 'ENSG00000213145' 'ENSG00000226979' 'ENSG00000227507'\n",
      " 'ENSG00000231389' 'ENSG00000234745' 'ENSG00000243749' 'ENSG00000264364'\n",
      " 'ENSG00000265972']\n"
     ]
    }
   ],
   "source": [
    "if SEED != 'all':\n",
    "    gene_subset = np.load(here(f'03_downstream_analysis/08_gene_importance/xgboost_external_validation/shap_gene_selection/gene_subsets_{N_GENES}/{CELL_TYPE}_{SEED}.npy'), allow_pickle=True)\n",
    "    train_adata = train_adata[:,gene_subset]\n",
    "    print(gene_subset)\n",
    "elif SEED == 'all':\n",
    "    print('Using all genes')\n",
    "else:\n",
    "    raise ValueError()"
   ]
  },
  {
   "cell_type": "code",
   "execution_count": 8,
   "id": "f9460b26",
   "metadata": {
    "execution": {
     "iopub.execute_input": "2025-06-13T13:01:13.487036Z",
     "iopub.status.busy": "2025-06-13T13:01:13.486876Z",
     "iopub.status.idle": "2025-06-13T13:01:13.490075Z",
     "shell.execute_reply": "2025-06-13T13:01:13.489752Z"
    },
    "papermill": {
     "duration": 0.011879,
     "end_time": "2025-06-13T13:01:13.490925",
     "exception": false,
     "start_time": "2025-06-13T13:01:13.479046",
     "status": "completed"
    },
    "tags": []
   },
   "outputs": [
    {
     "data": {
      "text/plain": [
       "(85497, 101)"
      ]
     },
     "execution_count": 8,
     "metadata": {},
     "output_type": "execute_result"
    }
   ],
   "source": [
    "train_adata.shape"
   ]
  },
  {
   "cell_type": "code",
   "execution_count": 9,
   "id": "163c5384",
   "metadata": {
    "execution": {
     "iopub.execute_input": "2025-06-13T13:01:13.502523Z",
     "iopub.status.busy": "2025-06-13T13:01:13.502261Z",
     "iopub.status.idle": "2025-06-13T13:01:13.506083Z",
     "shell.execute_reply": "2025-06-13T13:01:13.505770Z"
    },
    "papermill": {
     "duration": 0.010745,
     "end_time": "2025-06-13T13:01:13.506953",
     "exception": false,
     "start_time": "2025-06-13T13:01:13.496208",
     "status": "completed"
    },
    "tags": []
   },
   "outputs": [
    {
     "data": {
      "text/plain": [
       "['RA', 'COVID', 'healthy', 'HIV', 'cirrhosis', 'CD', 'SLE', 'sepsis']\n",
       "Categories (8, object): ['CD', 'COVID', 'HIV', 'RA', 'SLE', 'cirrhosis', 'healthy', 'sepsis']"
      ]
     },
     "execution_count": 9,
     "metadata": {},
     "output_type": "execute_result"
    }
   ],
   "source": [
    "train_adata.obs.disease.unique()"
   ]
  },
  {
   "cell_type": "code",
   "execution_count": 10,
   "id": "e4bcf603",
   "metadata": {
    "execution": {
     "iopub.execute_input": "2025-06-13T13:01:13.523002Z",
     "iopub.status.busy": "2025-06-13T13:01:13.522749Z",
     "iopub.status.idle": "2025-06-13T13:01:13.526615Z",
     "shell.execute_reply": "2025-06-13T13:01:13.526288Z"
    },
    "papermill": {
     "duration": 0.011404,
     "end_time": "2025-06-13T13:01:13.527543",
     "exception": false,
     "start_time": "2025-06-13T13:01:13.516139",
     "status": "completed"
    },
    "tags": []
   },
   "outputs": [
    {
     "data": {
      "text/plain": [
       "['SCGT00val_I036016_T0', 'SCGT00val_I036019_T0', 'SCGT00val_I036023_T0', 'SCGT00val_I036015_T0', 'SCGT00val_I036028_T0', ..., '10XGenomics_10XHC2_T0', '10XGenomics_10XHC3_T0', '10XGenomics_10XHC5_T0', '10XGenomics_10XHC7_T0', '10XGenomics_10XHC8_T0']\n",
       "Length: 86\n",
       "Categories (86, object): ['10XGenomics_10XHC1_T0', '10XGenomics_10XHC2_T0', '10XGenomics_10XHC3_T0', '10XGenomics_10XHC4_T0', ..., 'Savage2021_BRISL6_T0', 'Savage2021_BRISL7_T0', 'Savage2021_PIDA_T0', 'Savage2021_PIDB_T0']"
      ]
     },
     "execution_count": 10,
     "metadata": {},
     "output_type": "execute_result"
    }
   ],
   "source": [
    "train_adata.obs.sampleID.unique()"
   ]
  },
  {
   "cell_type": "code",
   "execution_count": 11,
   "id": "f56afc8d",
   "metadata": {
    "execution": {
     "iopub.execute_input": "2025-06-13T13:01:13.541826Z",
     "iopub.status.busy": "2025-06-13T13:01:13.541564Z",
     "iopub.status.idle": "2025-06-13T13:01:13.769480Z",
     "shell.execute_reply": "2025-06-13T13:01:13.768931Z"
    },
    "papermill": {
     "duration": 0.237657,
     "end_time": "2025-06-13T13:01:13.771362",
     "exception": false,
     "start_time": "2025-06-13T13:01:13.533705",
     "status": "completed"
    },
    "tags": []
   },
   "outputs": [],
   "source": [
    "all_idxs = np.arange(train_adata.obs.shape[0])\n",
    "left_out_splits = [s[1] for s in StratifiedGroupKFold(n_splits=N_SPLITS).split(all_idxs, train_adata.obs.disease, train_adata.obs.sampleID)]"
   ]
  },
  {
   "cell_type": "code",
   "execution_count": 12,
   "id": "06fb594c",
   "metadata": {
    "execution": {
     "iopub.execute_input": "2025-06-13T13:01:13.784908Z",
     "iopub.status.busy": "2025-06-13T13:01:13.784616Z",
     "iopub.status.idle": "2025-06-13T13:01:13.788453Z",
     "shell.execute_reply": "2025-06-13T13:01:13.788080Z"
    },
    "papermill": {
     "duration": 0.01164,
     "end_time": "2025-06-13T13:01:13.789372",
     "exception": false,
     "start_time": "2025-06-13T13:01:13.777732",
     "status": "completed"
    },
    "tags": []
   },
   "outputs": [
    {
     "data": {
      "text/plain": [
       "([0, 3, 4], 2, 1)"
      ]
     },
     "execution_count": 12,
     "metadata": {},
     "output_type": "execute_result"
    }
   ],
   "source": [
    "TRAIN_SPLIT_IDXS = [0,1,2,3,4]\n",
    "VAL_SPLIT_IDX = (TEST_SPLIT_IDX + 1) % 5\n",
    "TRAIN_SPLIT_IDXS.remove(TEST_SPLIT_IDX)\n",
    "TRAIN_SPLIT_IDXS.remove(VAL_SPLIT_IDX)\n",
    "TRAIN_SPLIT_IDXS, VAL_SPLIT_IDX, TEST_SPLIT_IDX"
   ]
  },
  {
   "cell_type": "code",
   "execution_count": 13,
   "id": "8c2c3e25",
   "metadata": {
    "execution": {
     "iopub.execute_input": "2025-06-13T13:01:13.818107Z",
     "iopub.status.busy": "2025-06-13T13:01:13.817848Z",
     "iopub.status.idle": "2025-06-13T13:01:13.820461Z",
     "shell.execute_reply": "2025-06-13T13:01:13.820121Z"
    },
    "papermill": {
     "duration": 0.00992,
     "end_time": "2025-06-13T13:01:13.821327",
     "exception": false,
     "start_time": "2025-06-13T13:01:13.811407",
     "status": "completed"
    },
    "tags": []
   },
   "outputs": [],
   "source": [
    "train_idxs = np.concatenate([left_out_splits[idx] for idx in TRAIN_SPLIT_IDXS])\n",
    "val_idxs = left_out_splits[VAL_SPLIT_IDX]\n",
    "test_idxs = left_out_splits[TEST_SPLIT_IDX]"
   ]
  },
  {
   "cell_type": "markdown",
   "id": "e0f65188",
   "metadata": {
    "papermill": {
     "duration": 0.006184,
     "end_time": "2025-06-13T13:01:13.833361",
     "exception": false,
     "start_time": "2025-06-13T13:01:13.827177",
     "status": "completed"
    },
    "tags": []
   },
   "source": [
    "### SUBSET DATASET INTO TRAIN/TEST/VAL SPLITS"
   ]
  },
  {
   "cell_type": "code",
   "execution_count": 14,
   "id": "8728334e",
   "metadata": {
    "execution": {
     "iopub.execute_input": "2025-06-13T13:01:13.846632Z",
     "iopub.status.busy": "2025-06-13T13:01:13.846281Z",
     "iopub.status.idle": "2025-06-13T13:01:14.048867Z",
     "shell.execute_reply": "2025-06-13T13:01:14.048311Z"
    },
    "papermill": {
     "duration": 0.210531,
     "end_time": "2025-06-13T13:01:14.049891",
     "exception": false,
     "start_time": "2025-06-13T13:01:13.839360",
     "status": "completed"
    },
    "tags": []
   },
   "outputs": [
    {
     "data": {
      "text/plain": [
       "((51828, 101), (17016, 101), (16653, 101))"
      ]
     },
     "execution_count": 14,
     "metadata": {},
     "output_type": "execute_result"
    }
   ],
   "source": [
    "X_train = train_adata.X[train_idxs]\n",
    "X_test = train_adata.X[test_idxs]\n",
    "X_val = train_adata.X[val_idxs]\n",
    "X_train.shape, X_test.shape, X_val.shape"
   ]
  },
  {
   "cell_type": "code",
   "execution_count": 15,
   "id": "6cb66d13",
   "metadata": {
    "execution": {
     "iopub.execute_input": "2025-06-13T13:01:14.064001Z",
     "iopub.status.busy": "2025-06-13T13:01:14.063737Z",
     "iopub.status.idle": "2025-06-13T13:01:14.075701Z",
     "shell.execute_reply": "2025-06-13T13:01:14.075323Z"
    },
    "papermill": {
     "duration": 0.020281,
     "end_time": "2025-06-13T13:01:14.076718",
     "exception": false,
     "start_time": "2025-06-13T13:01:14.056437",
     "status": "completed"
    },
    "tags": []
   },
   "outputs": [
    {
     "data": {
      "text/plain": [
       "((51828,), (17016,), (16653,))"
      ]
     },
     "execution_count": 15,
     "metadata": {},
     "output_type": "execute_result"
    }
   ],
   "source": [
    "y_train = train_adata.obs.iloc[train_idxs].disease.values.astype(str)\n",
    "y_test = train_adata.obs.iloc[test_idxs].disease.values.astype(str)\n",
    "y_val = train_adata.obs.iloc[val_idxs].disease.values.astype(str)\n",
    "y_train.shape, y_test.shape, y_val.shape"
   ]
  },
  {
   "cell_type": "code",
   "execution_count": 16,
   "id": "bef65c5e",
   "metadata": {
    "execution": {
     "iopub.execute_input": "2025-06-13T13:01:14.094707Z",
     "iopub.status.busy": "2025-06-13T13:01:14.094448Z",
     "iopub.status.idle": "2025-06-13T13:01:14.116106Z",
     "shell.execute_reply": "2025-06-13T13:01:14.115691Z"
    },
    "papermill": {
     "duration": 0.033965,
     "end_time": "2025-06-13T13:01:14.117104",
     "exception": false,
     "start_time": "2025-06-13T13:01:14.083139",
     "status": "completed"
    },
    "tags": []
   },
   "outputs": [],
   "source": [
    "lenc = LabelEncoder()\n",
    "y_train_enc = lenc.fit_transform(y_train)\n",
    "y_val_enc = lenc.transform(y_val)\n",
    "y_test_enc = lenc.transform(y_test)"
   ]
  },
  {
   "cell_type": "markdown",
   "id": "09902381",
   "metadata": {
    "papermill": {
     "duration": 0.005986,
     "end_time": "2025-06-13T13:01:14.129069",
     "exception": false,
     "start_time": "2025-06-13T13:01:14.123083",
     "status": "completed"
    },
    "tags": []
   },
   "source": [
    "### GENERATE F1 "
   ]
  },
  {
   "cell_type": "code",
   "execution_count": 17,
   "id": "b6b7e6ee",
   "metadata": {
    "execution": {
     "iopub.execute_input": "2025-06-13T13:01:14.141591Z",
     "iopub.status.busy": "2025-06-13T13:01:14.141430Z",
     "iopub.status.idle": "2025-06-13T13:01:14.144001Z",
     "shell.execute_reply": "2025-06-13T13:01:14.143664Z"
    },
    "papermill": {
     "duration": 0.010113,
     "end_time": "2025-06-13T13:01:14.144893",
     "exception": false,
     "start_time": "2025-06-13T13:01:14.134780",
     "status": "completed"
    },
    "tags": []
   },
   "outputs": [],
   "source": [
    "def custom_f1_score(y_true, y_pred):\n",
    "    return -f1_score(y_true, y_pred.argmax(1), average='weighted')"
   ]
  },
  {
   "cell_type": "code",
   "execution_count": 18,
   "id": "9d0767cf",
   "metadata": {
    "execution": {
     "iopub.execute_input": "2025-06-13T13:01:14.157800Z",
     "iopub.status.busy": "2025-06-13T13:01:14.157549Z",
     "iopub.status.idle": "2025-06-13T13:01:14.161647Z",
     "shell.execute_reply": "2025-06-13T13:01:14.161291Z"
    },
    "papermill": {
     "duration": 0.011437,
     "end_time": "2025-06-13T13:01:14.162526",
     "exception": false,
     "start_time": "2025-06-13T13:01:14.151089",
     "status": "completed"
    },
    "tags": []
   },
   "outputs": [],
   "source": [
    "eval_metric=custom_f1_score\n",
    "eval_metric_name='custom_f1_score'\n",
    "\n",
    "def objective(trial):\n",
    "    params = {\n",
    "        'n_estimators': 1500,\n",
    "        'max_depth': trial.suggest_int('max_depth', 3, 20),\n",
    "        'min_child_weight': trial.suggest_int('min_child_weight', 1, 250),\n",
    "        'subsample': trial.suggest_float('subsample', 0.1, 1.0),\n",
    "        'colsample_bynode': trial.suggest_float('colsample_bynode', 0.1, 1.0),\n",
    "        'learning_rate': trial.suggest_float('learning_rate', 1e-3, 5e-1, log=True),\n",
    "    }\n",
    "    pruning_callback = optuna.integration.XGBoostPruningCallback(trial, f'validation_0-{eval_metric_name}')\n",
    "    es_callback = xgboost.callback.EarlyStopping(20, min_delta=0.001)\n",
    "    xgb = xgboost.XGBClassifier(\n",
    "        eval_metric=eval_metric,\n",
    "        callbacks=[pruning_callback, es_callback],\n",
    "        n_jobs=5,\n",
    "        **params\n",
    "    )\n",
    "    xgb.fit(\n",
    "        X_train, \n",
    "        y_train_enc, \n",
    "        verbose=0,\n",
    "        eval_set=[(X_val, y_val_enc)],\n",
    "    )\n",
    "    trial.set_user_attr('best_iteration', xgb.best_iteration)\n",
    "\n",
    "    return xgb.best_score"
   ]
  },
  {
   "cell_type": "code",
   "execution_count": 19,
   "id": "aa0bd432",
   "metadata": {
    "execution": {
     "iopub.execute_input": "2025-06-13T13:01:14.175318Z",
     "iopub.status.busy": "2025-06-13T13:01:14.175048Z",
     "iopub.status.idle": "2025-06-13T13:07:36.963216Z",
     "shell.execute_reply": "2025-06-13T13:07:36.962655Z"
    },
    "papermill": {
     "duration": 382.796227,
     "end_time": "2025-06-13T13:07:36.964617",
     "exception": false,
     "start_time": "2025-06-13T13:01:14.168390",
     "status": "completed"
    },
    "scrolled": true,
    "tags": []
   },
   "outputs": [
    {
     "name": "stderr",
     "output_type": "stream",
     "text": [
      "[I 2025-06-13 15:01:14,177] A new study created in memory with name: no-name-69614f0f-16c4-4934-ad83-bf0aeabb4e38\n"
     ]
    },
    {
     "name": "stderr",
     "output_type": "stream",
     "text": [
      "[I 2025-06-13 15:01:18,308] Trial 0 finished with value: -0.680329 and parameters: {'max_depth': 9, 'min_child_weight': 238, 'subsample': 0.7587945476302645, 'colsample_bynode': 0.6387926357773329, 'learning_rate': 0.0026368755339723046}. Best is trial 0 with value: -0.680329.\n"
     ]
    },
    {
     "name": "stderr",
     "output_type": "stream",
     "text": [
      "[I 2025-06-13 15:01:54,771] Trial 1 finished with value: -0.74919 and parameters: {'max_depth': 5, 'min_child_weight': 15, 'subsample': 0.8795585311974417, 'colsample_bynode': 0.6410035105688879, 'learning_rate': 0.08148293210105287}. Best is trial 1 with value: -0.74919.\n"
     ]
    },
    {
     "name": "stderr",
     "output_type": "stream",
     "text": [
      "[I 2025-06-13 15:02:00,675] Trial 2 finished with value: -0.644406 and parameters: {'max_depth': 3, 'min_child_weight': 243, 'subsample': 0.8491983767203796, 'colsample_bynode': 0.29110519961044856, 'learning_rate': 0.003095566460242371}. Best is trial 1 with value: -0.74919.\n"
     ]
    },
    {
     "name": "stderr",
     "output_type": "stream",
     "text": [
      "[I 2025-06-13 15:02:04,592] Trial 3 finished with value: -0.68555 and parameters: {'max_depth': 6, 'min_child_weight': 77, 'subsample': 0.5722807884690141, 'colsample_bynode': 0.48875051677790415, 'learning_rate': 0.006109683510122491}. Best is trial 1 with value: -0.74919.\n"
     ]
    },
    {
     "name": "stderr",
     "output_type": "stream",
     "text": [
      "[I 2025-06-13 15:02:48,714] Trial 4 finished with value: -0.72513 and parameters: {'max_depth': 14, 'min_child_weight': 35, 'subsample': 0.3629301836816964, 'colsample_bynode': 0.4297256589643226, 'learning_rate': 0.01701841881702917}. Best is trial 1 with value: -0.74919.\n"
     ]
    },
    {
     "name": "stderr",
     "output_type": "stream",
     "text": [
      "[I 2025-06-13 15:02:49,382] Trial 5 pruned. Trial was pruned at iteration 1.\n"
     ]
    },
    {
     "name": "stderr",
     "output_type": "stream",
     "text": [
      "[I 2025-06-13 15:02:49,770] Trial 6 pruned. Trial was pruned at iteration 0.\n"
     ]
    },
    {
     "name": "stderr",
     "output_type": "stream",
     "text": [
      "[I 2025-06-13 15:02:50,132] Trial 7 pruned. Trial was pruned at iteration 0.\n"
     ]
    },
    {
     "name": "stderr",
     "output_type": "stream",
     "text": [
      "[I 2025-06-13 15:02:50,480] Trial 8 pruned. Trial was pruned at iteration 0.\n"
     ]
    },
    {
     "name": "stderr",
     "output_type": "stream",
     "text": [
      "[I 2025-06-13 15:02:51,049] Trial 9 pruned. Trial was pruned at iteration 1.\n"
     ]
    },
    {
     "name": "stderr",
     "output_type": "stream",
     "text": [
      "[I 2025-06-13 15:03:17,750] Trial 10 finished with value: -0.745864 and parameters: {'max_depth': 9, 'min_child_weight': 2, 'subsample': 0.9725833997090791, 'colsample_bynode': 0.11616568805333755, 'learning_rate': 0.17780618353487967}. Best is trial 1 with value: -0.74919.\n"
     ]
    },
    {
     "name": "stderr",
     "output_type": "stream",
     "text": [
      "[I 2025-06-13 15:03:35,741] Trial 11 finished with value: -0.73975 and parameters: {'max_depth': 9, 'min_child_weight': 4, 'subsample': 0.9818290990185045, 'colsample_bynode': 0.17702656156719, 'learning_rate': 0.11568531411766632}. Best is trial 1 with value: -0.74919.\n"
     ]
    },
    {
     "name": "stderr",
     "output_type": "stream",
     "text": [
      "[I 2025-06-13 15:04:18,960] Trial 12 finished with value: -0.740953 and parameters: {'max_depth': 9, 'min_child_weight': 3, 'subsample': 0.9754570370311046, 'colsample_bynode': 0.14672783827498995, 'learning_rate': 0.08954997670613858}. Best is trial 1 with value: -0.74919.\n"
     ]
    },
    {
     "name": "stderr",
     "output_type": "stream",
     "text": [
      "[I 2025-06-13 15:04:19,526] Trial 13 pruned. Trial was pruned at iteration 1.\n"
     ]
    },
    {
     "name": "stderr",
     "output_type": "stream",
     "text": [
      "[I 2025-06-13 15:04:19,925] Trial 14 pruned. Trial was pruned at iteration 0.\n"
     ]
    },
    {
     "name": "stderr",
     "output_type": "stream",
     "text": [
      "[I 2025-06-13 15:04:39,698] Trial 15 pruned. Trial was pruned at iteration 29.\n"
     ]
    },
    {
     "name": "stderr",
     "output_type": "stream",
     "text": [
      "[I 2025-06-13 15:04:40,150] Trial 16 pruned. Trial was pruned at iteration 0.\n"
     ]
    },
    {
     "name": "stderr",
     "output_type": "stream",
     "text": [
      "[I 2025-06-13 15:04:40,662] Trial 17 pruned. Trial was pruned at iteration 1.\n"
     ]
    },
    {
     "name": "stderr",
     "output_type": "stream",
     "text": [
      "[I 2025-06-13 15:05:11,189] Trial 18 finished with value: -0.755198 and parameters: {'max_depth': 11, 'min_child_weight': 37, 'subsample': 0.9135233791821833, 'colsample_bynode': 0.24900065324684006, 'learning_rate': 0.16384379577990202}. Best is trial 18 with value: -0.755198.\n"
     ]
    },
    {
     "name": "stderr",
     "output_type": "stream",
     "text": [
      "[I 2025-06-13 15:05:11,798] Trial 19 pruned. Trial was pruned at iteration 1.\n"
     ]
    },
    {
     "name": "stderr",
     "output_type": "stream",
     "text": [
      "[I 2025-06-13 15:05:12,558] Trial 20 pruned. Trial was pruned at iteration 1.\n"
     ]
    },
    {
     "name": "stderr",
     "output_type": "stream",
     "text": [
      "[I 2025-06-13 15:05:12,995] Trial 21 pruned. Trial was pruned at iteration 0.\n"
     ]
    },
    {
     "name": "stderr",
     "output_type": "stream",
     "text": [
      "[I 2025-06-13 15:05:13,439] Trial 22 pruned. Trial was pruned at iteration 0.\n"
     ]
    },
    {
     "name": "stderr",
     "output_type": "stream",
     "text": [
      "[I 2025-06-13 15:05:27,285] Trial 23 finished with value: -0.750776 and parameters: {'max_depth': 5, 'min_child_weight': 22, 'subsample': 0.781024031209097, 'colsample_bynode': 0.39023035045804716, 'learning_rate': 0.2870964669525365}. Best is trial 18 with value: -0.755198.\n"
     ]
    },
    {
     "name": "stderr",
     "output_type": "stream",
     "text": [
      "[I 2025-06-13 15:05:27,642] Trial 24 pruned. Trial was pruned at iteration 0.\n"
     ]
    },
    {
     "name": "stderr",
     "output_type": "stream",
     "text": [
      "[I 2025-06-13 15:05:28,161] Trial 25 pruned. Trial was pruned at iteration 1.\n"
     ]
    },
    {
     "name": "stderr",
     "output_type": "stream",
     "text": [
      "[I 2025-06-13 15:05:28,927] Trial 26 pruned. Trial was pruned at iteration 2.\n"
     ]
    },
    {
     "name": "stderr",
     "output_type": "stream",
     "text": [
      "[I 2025-06-13 15:05:29,292] Trial 27 pruned. Trial was pruned at iteration 0.\n"
     ]
    },
    {
     "name": "stderr",
     "output_type": "stream",
     "text": [
      "[I 2025-06-13 15:05:29,856] Trial 28 pruned. Trial was pruned at iteration 1.\n"
     ]
    },
    {
     "name": "stderr",
     "output_type": "stream",
     "text": [
      "[I 2025-06-13 15:05:30,237] Trial 29 pruned. Trial was pruned at iteration 0.\n"
     ]
    },
    {
     "name": "stderr",
     "output_type": "stream",
     "text": [
      "[I 2025-06-13 15:05:30,819] Trial 30 pruned. Trial was pruned at iteration 1.\n"
     ]
    },
    {
     "name": "stderr",
     "output_type": "stream",
     "text": [
      "[I 2025-06-13 15:05:46,081] Trial 31 finished with value: -0.751066 and parameters: {'max_depth': 13, 'min_child_weight': 19, 'subsample': 0.9603674908286813, 'colsample_bynode': 0.23283000863839132, 'learning_rate': 0.2503310312358838}. Best is trial 18 with value: -0.755198.\n"
     ]
    },
    {
     "name": "stderr",
     "output_type": "stream",
     "text": [
      "[I 2025-06-13 15:06:04,584] Trial 32 finished with value: -0.750642 and parameters: {'max_depth': 13, 'min_child_weight': 18, 'subsample': 0.9311101395317319, 'colsample_bynode': 0.3244904291452517, 'learning_rate': 0.25098396020406}. Best is trial 18 with value: -0.755198.\n"
     ]
    },
    {
     "name": "stderr",
     "output_type": "stream",
     "text": [
      "[I 2025-06-13 15:06:27,721] Trial 33 finished with value: -0.752571 and parameters: {'max_depth': 13, 'min_child_weight': 20, 'subsample': 0.9302580473308751, 'colsample_bynode': 0.32142653424370676, 'learning_rate': 0.27618195550192615}. Best is trial 18 with value: -0.755198.\n"
     ]
    },
    {
     "name": "stderr",
     "output_type": "stream",
     "text": [
      "[I 2025-06-13 15:06:40,883] Trial 34 finished with value: -0.752002 and parameters: {'max_depth': 15, 'min_child_weight': 39, 'subsample': 0.9257483063221242, 'colsample_bynode': 0.2343883262159513, 'learning_rate': 0.2738197870361294}. Best is trial 18 with value: -0.755198.\n"
     ]
    },
    {
     "name": "stderr",
     "output_type": "stream",
     "text": [
      "[I 2025-06-13 15:06:54,639] Trial 35 finished with value: -0.756765 and parameters: {'max_depth': 15, 'min_child_weight': 42, 'subsample': 0.941798474548034, 'colsample_bynode': 0.22177743469829442, 'learning_rate': 0.3229897519765826}. Best is trial 35 with value: -0.756765.\n"
     ]
    },
    {
     "name": "stderr",
     "output_type": "stream",
     "text": [
      "[I 2025-06-13 15:06:55,086] Trial 36 pruned. Trial was pruned at iteration 0.\n"
     ]
    },
    {
     "name": "stderr",
     "output_type": "stream",
     "text": [
      "[I 2025-06-13 15:06:55,511] Trial 37 pruned. Trial was pruned at iteration 0.\n"
     ]
    },
    {
     "name": "stderr",
     "output_type": "stream",
     "text": [
      "[I 2025-06-13 15:06:55,880] Trial 38 pruned. Trial was pruned at iteration 0.\n"
     ]
    },
    {
     "name": "stderr",
     "output_type": "stream",
     "text": [
      "[I 2025-06-13 15:07:07,729] Trial 39 finished with value: -0.751659 and parameters: {'max_depth': 12, 'min_child_weight': 47, 'subsample': 0.8910907579202861, 'colsample_bynode': 0.19674856885092268, 'learning_rate': 0.381924717036339}. Best is trial 35 with value: -0.756765.\n"
     ]
    },
    {
     "name": "stderr",
     "output_type": "stream",
     "text": [
      "[I 2025-06-13 15:07:08,170] Trial 40 pruned. Trial was pruned at iteration 0.\n"
     ]
    },
    {
     "name": "stderr",
     "output_type": "stream",
     "text": [
      "[I 2025-06-13 15:07:08,618] Trial 41 pruned. Trial was pruned at iteration 0.\n"
     ]
    },
    {
     "name": "stderr",
     "output_type": "stream",
     "text": [
      "[I 2025-06-13 15:07:09,100] Trial 42 pruned. Trial was pruned at iteration 0.\n"
     ]
    },
    {
     "name": "stderr",
     "output_type": "stream",
     "text": [
      "[I 2025-06-13 15:07:09,542] Trial 43 pruned. Trial was pruned at iteration 0.\n"
     ]
    },
    {
     "name": "stderr",
     "output_type": "stream",
     "text": [
      "[I 2025-06-13 15:07:10,227] Trial 44 pruned. Trial was pruned at iteration 1.\n"
     ]
    },
    {
     "name": "stderr",
     "output_type": "stream",
     "text": [
      "[I 2025-06-13 15:07:10,687] Trial 45 pruned. Trial was pruned at iteration 0.\n"
     ]
    },
    {
     "name": "stderr",
     "output_type": "stream",
     "text": [
      "[I 2025-06-13 15:07:11,132] Trial 46 pruned. Trial was pruned at iteration 0.\n"
     ]
    },
    {
     "name": "stderr",
     "output_type": "stream",
     "text": [
      "[I 2025-06-13 15:07:29,948] Trial 47 finished with value: -0.75573 and parameters: {'max_depth': 10, 'min_child_weight': 11, 'subsample': 0.9059126758915618, 'colsample_bynode': 0.2630615159942016, 'learning_rate': 0.3738702919492978}. Best is trial 35 with value: -0.756765.\n"
     ]
    },
    {
     "name": "stderr",
     "output_type": "stream",
     "text": [
      "[I 2025-06-13 15:07:35,649] Trial 48 pruned. Trial was pruned at iteration 25.\n"
     ]
    },
    {
     "name": "stderr",
     "output_type": "stream",
     "text": [
      "[I 2025-06-13 15:07:36,874] Trial 49 pruned. Trial was pruned at iteration 3.\n"
     ]
    }
   ],
   "source": [
    "sampler = optuna.samplers.TPESampler(seed=42)\n",
    "study = optuna.create_study(direction='minimize', sampler=sampler)\n",
    "study.optimize(objective, n_trials=N_TRIALS, gc_after_trial=True)"
   ]
  },
  {
   "cell_type": "code",
   "execution_count": 20,
   "id": "b88ffb27",
   "metadata": {
    "execution": {
     "iopub.execute_input": "2025-06-13T13:07:36.984691Z",
     "iopub.status.busy": "2025-06-13T13:07:36.983991Z",
     "iopub.status.idle": "2025-06-13T13:07:37.008325Z",
     "shell.execute_reply": "2025-06-13T13:07:37.007906Z"
    },
    "papermill": {
     "duration": 0.0345,
     "end_time": "2025-06-13T13:07:37.009362",
     "exception": false,
     "start_time": "2025-06-13T13:07:36.974862",
     "status": "completed"
    },
    "tags": []
   },
   "outputs": [
    {
     "data": {
      "text/plain": [
       "['/scratch_isilon/groups/singlecell/shared/projects/Inflammation-PBMCs-Atlas/03_downstream_analysis/08_gene_importance/xgboost_external_validation/xgboost_TopN_genes/results_20/study/T_CD4_Naive_shap_disease_NOstudy_samesize_1_xgboost.pkl']"
      ]
     },
     "execution_count": 20,
     "metadata": {},
     "output_type": "execute_result"
    }
   ],
   "source": [
    "out_dir = here(f'03_downstream_analysis/08_gene_importance/xgboost_external_validation/xgboost_TopN_genes/results_{N_GENES}/study')\n",
    "\n",
    "if not os.path.exists(out_dir):\n",
    "    os.makedirs(out_dir)\n",
    "    \n",
    "joblib.dump(study,os.path.join(out_dir, f'{CELL_TYPE}_{SEED}_{TEST_SPLIT_IDX}_xgboost.pkl'))"
   ]
  },
  {
   "cell_type": "code",
   "execution_count": 21,
   "id": "a74d53b8",
   "metadata": {
    "execution": {
     "iopub.execute_input": "2025-06-13T13:07:37.027213Z",
     "iopub.status.busy": "2025-06-13T13:07:37.026933Z",
     "iopub.status.idle": "2025-06-13T13:07:43.710136Z",
     "shell.execute_reply": "2025-06-13T13:07:43.709677Z"
    },
    "papermill": {
     "duration": 6.693722,
     "end_time": "2025-06-13T13:07:43.711430",
     "exception": false,
     "start_time": "2025-06-13T13:07:37.017708",
     "status": "completed"
    },
    "tags": []
   },
   "outputs": [
    {
     "data": {
      "text/html": [
       "<style>#sk-container-id-1 {\n",
       "  /* Definition of color scheme common for light and dark mode */\n",
       "  --sklearn-color-text: black;\n",
       "  --sklearn-color-line: gray;\n",
       "  /* Definition of color scheme for unfitted estimators */\n",
       "  --sklearn-color-unfitted-level-0: #fff5e6;\n",
       "  --sklearn-color-unfitted-level-1: #f6e4d2;\n",
       "  --sklearn-color-unfitted-level-2: #ffe0b3;\n",
       "  --sklearn-color-unfitted-level-3: chocolate;\n",
       "  /* Definition of color scheme for fitted estimators */\n",
       "  --sklearn-color-fitted-level-0: #f0f8ff;\n",
       "  --sklearn-color-fitted-level-1: #d4ebff;\n",
       "  --sklearn-color-fitted-level-2: #b3dbfd;\n",
       "  --sklearn-color-fitted-level-3: cornflowerblue;\n",
       "\n",
       "  /* Specific color for light theme */\n",
       "  --sklearn-color-text-on-default-background: var(--sg-text-color, var(--theme-code-foreground, var(--jp-content-font-color1, black)));\n",
       "  --sklearn-color-background: var(--sg-background-color, var(--theme-background, var(--jp-layout-color0, white)));\n",
       "  --sklearn-color-border-box: var(--sg-text-color, var(--theme-code-foreground, var(--jp-content-font-color1, black)));\n",
       "  --sklearn-color-icon: #696969;\n",
       "\n",
       "  @media (prefers-color-scheme: dark) {\n",
       "    /* Redefinition of color scheme for dark theme */\n",
       "    --sklearn-color-text-on-default-background: var(--sg-text-color, var(--theme-code-foreground, var(--jp-content-font-color1, white)));\n",
       "    --sklearn-color-background: var(--sg-background-color, var(--theme-background, var(--jp-layout-color0, #111)));\n",
       "    --sklearn-color-border-box: var(--sg-text-color, var(--theme-code-foreground, var(--jp-content-font-color1, white)));\n",
       "    --sklearn-color-icon: #878787;\n",
       "  }\n",
       "}\n",
       "\n",
       "#sk-container-id-1 {\n",
       "  color: var(--sklearn-color-text);\n",
       "}\n",
       "\n",
       "#sk-container-id-1 pre {\n",
       "  padding: 0;\n",
       "}\n",
       "\n",
       "#sk-container-id-1 input.sk-hidden--visually {\n",
       "  border: 0;\n",
       "  clip: rect(1px 1px 1px 1px);\n",
       "  clip: rect(1px, 1px, 1px, 1px);\n",
       "  height: 1px;\n",
       "  margin: -1px;\n",
       "  overflow: hidden;\n",
       "  padding: 0;\n",
       "  position: absolute;\n",
       "  width: 1px;\n",
       "}\n",
       "\n",
       "#sk-container-id-1 div.sk-dashed-wrapped {\n",
       "  border: 1px dashed var(--sklearn-color-line);\n",
       "  margin: 0 0.4em 0.5em 0.4em;\n",
       "  box-sizing: border-box;\n",
       "  padding-bottom: 0.4em;\n",
       "  background-color: var(--sklearn-color-background);\n",
       "}\n",
       "\n",
       "#sk-container-id-1 div.sk-container {\n",
       "  /* jupyter's `normalize.less` sets `[hidden] { display: none; }`\n",
       "     but bootstrap.min.css set `[hidden] { display: none !important; }`\n",
       "     so we also need the `!important` here to be able to override the\n",
       "     default hidden behavior on the sphinx rendered scikit-learn.org.\n",
       "     See: https://github.com/scikit-learn/scikit-learn/issues/21755 */\n",
       "  display: inline-block !important;\n",
       "  position: relative;\n",
       "}\n",
       "\n",
       "#sk-container-id-1 div.sk-text-repr-fallback {\n",
       "  display: none;\n",
       "}\n",
       "\n",
       "div.sk-parallel-item,\n",
       "div.sk-serial,\n",
       "div.sk-item {\n",
       "  /* draw centered vertical line to link estimators */\n",
       "  background-image: linear-gradient(var(--sklearn-color-text-on-default-background), var(--sklearn-color-text-on-default-background));\n",
       "  background-size: 2px 100%;\n",
       "  background-repeat: no-repeat;\n",
       "  background-position: center center;\n",
       "}\n",
       "\n",
       "/* Parallel-specific style estimator block */\n",
       "\n",
       "#sk-container-id-1 div.sk-parallel-item::after {\n",
       "  content: \"\";\n",
       "  width: 100%;\n",
       "  border-bottom: 2px solid var(--sklearn-color-text-on-default-background);\n",
       "  flex-grow: 1;\n",
       "}\n",
       "\n",
       "#sk-container-id-1 div.sk-parallel {\n",
       "  display: flex;\n",
       "  align-items: stretch;\n",
       "  justify-content: center;\n",
       "  background-color: var(--sklearn-color-background);\n",
       "  position: relative;\n",
       "}\n",
       "\n",
       "#sk-container-id-1 div.sk-parallel-item {\n",
       "  display: flex;\n",
       "  flex-direction: column;\n",
       "}\n",
       "\n",
       "#sk-container-id-1 div.sk-parallel-item:first-child::after {\n",
       "  align-self: flex-end;\n",
       "  width: 50%;\n",
       "}\n",
       "\n",
       "#sk-container-id-1 div.sk-parallel-item:last-child::after {\n",
       "  align-self: flex-start;\n",
       "  width: 50%;\n",
       "}\n",
       "\n",
       "#sk-container-id-1 div.sk-parallel-item:only-child::after {\n",
       "  width: 0;\n",
       "}\n",
       "\n",
       "/* Serial-specific style estimator block */\n",
       "\n",
       "#sk-container-id-1 div.sk-serial {\n",
       "  display: flex;\n",
       "  flex-direction: column;\n",
       "  align-items: center;\n",
       "  background-color: var(--sklearn-color-background);\n",
       "  padding-right: 1em;\n",
       "  padding-left: 1em;\n",
       "}\n",
       "\n",
       "\n",
       "/* Toggleable style: style used for estimator/Pipeline/ColumnTransformer box that is\n",
       "clickable and can be expanded/collapsed.\n",
       "- Pipeline and ColumnTransformer use this feature and define the default style\n",
       "- Estimators will overwrite some part of the style using the `sk-estimator` class\n",
       "*/\n",
       "\n",
       "/* Pipeline and ColumnTransformer style (default) */\n",
       "\n",
       "#sk-container-id-1 div.sk-toggleable {\n",
       "  /* Default theme specific background. It is overwritten whether we have a\n",
       "  specific estimator or a Pipeline/ColumnTransformer */\n",
       "  background-color: var(--sklearn-color-background);\n",
       "}\n",
       "\n",
       "/* Toggleable label */\n",
       "#sk-container-id-1 label.sk-toggleable__label {\n",
       "  cursor: pointer;\n",
       "  display: block;\n",
       "  width: 100%;\n",
       "  margin-bottom: 0;\n",
       "  padding: 0.5em;\n",
       "  box-sizing: border-box;\n",
       "  text-align: center;\n",
       "}\n",
       "\n",
       "#sk-container-id-1 label.sk-toggleable__label-arrow:before {\n",
       "  /* Arrow on the left of the label */\n",
       "  content: \"▸\";\n",
       "  float: left;\n",
       "  margin-right: 0.25em;\n",
       "  color: var(--sklearn-color-icon);\n",
       "}\n",
       "\n",
       "#sk-container-id-1 label.sk-toggleable__label-arrow:hover:before {\n",
       "  color: var(--sklearn-color-text);\n",
       "}\n",
       "\n",
       "/* Toggleable content - dropdown */\n",
       "\n",
       "#sk-container-id-1 div.sk-toggleable__content {\n",
       "  max-height: 0;\n",
       "  max-width: 0;\n",
       "  overflow: hidden;\n",
       "  text-align: left;\n",
       "  /* unfitted */\n",
       "  background-color: var(--sklearn-color-unfitted-level-0);\n",
       "}\n",
       "\n",
       "#sk-container-id-1 div.sk-toggleable__content.fitted {\n",
       "  /* fitted */\n",
       "  background-color: var(--sklearn-color-fitted-level-0);\n",
       "}\n",
       "\n",
       "#sk-container-id-1 div.sk-toggleable__content pre {\n",
       "  margin: 0.2em;\n",
       "  border-radius: 0.25em;\n",
       "  color: var(--sklearn-color-text);\n",
       "  /* unfitted */\n",
       "  background-color: var(--sklearn-color-unfitted-level-0);\n",
       "}\n",
       "\n",
       "#sk-container-id-1 div.sk-toggleable__content.fitted pre {\n",
       "  /* unfitted */\n",
       "  background-color: var(--sklearn-color-fitted-level-0);\n",
       "}\n",
       "\n",
       "#sk-container-id-1 input.sk-toggleable__control:checked~div.sk-toggleable__content {\n",
       "  /* Expand drop-down */\n",
       "  max-height: 200px;\n",
       "  max-width: 100%;\n",
       "  overflow: auto;\n",
       "}\n",
       "\n",
       "#sk-container-id-1 input.sk-toggleable__control:checked~label.sk-toggleable__label-arrow:before {\n",
       "  content: \"▾\";\n",
       "}\n",
       "\n",
       "/* Pipeline/ColumnTransformer-specific style */\n",
       "\n",
       "#sk-container-id-1 div.sk-label input.sk-toggleable__control:checked~label.sk-toggleable__label {\n",
       "  color: var(--sklearn-color-text);\n",
       "  background-color: var(--sklearn-color-unfitted-level-2);\n",
       "}\n",
       "\n",
       "#sk-container-id-1 div.sk-label.fitted input.sk-toggleable__control:checked~label.sk-toggleable__label {\n",
       "  background-color: var(--sklearn-color-fitted-level-2);\n",
       "}\n",
       "\n",
       "/* Estimator-specific style */\n",
       "\n",
       "/* Colorize estimator box */\n",
       "#sk-container-id-1 div.sk-estimator input.sk-toggleable__control:checked~label.sk-toggleable__label {\n",
       "  /* unfitted */\n",
       "  background-color: var(--sklearn-color-unfitted-level-2);\n",
       "}\n",
       "\n",
       "#sk-container-id-1 div.sk-estimator.fitted input.sk-toggleable__control:checked~label.sk-toggleable__label {\n",
       "  /* fitted */\n",
       "  background-color: var(--sklearn-color-fitted-level-2);\n",
       "}\n",
       "\n",
       "#sk-container-id-1 div.sk-label label.sk-toggleable__label,\n",
       "#sk-container-id-1 div.sk-label label {\n",
       "  /* The background is the default theme color */\n",
       "  color: var(--sklearn-color-text-on-default-background);\n",
       "}\n",
       "\n",
       "/* On hover, darken the color of the background */\n",
       "#sk-container-id-1 div.sk-label:hover label.sk-toggleable__label {\n",
       "  color: var(--sklearn-color-text);\n",
       "  background-color: var(--sklearn-color-unfitted-level-2);\n",
       "}\n",
       "\n",
       "/* Label box, darken color on hover, fitted */\n",
       "#sk-container-id-1 div.sk-label.fitted:hover label.sk-toggleable__label.fitted {\n",
       "  color: var(--sklearn-color-text);\n",
       "  background-color: var(--sklearn-color-fitted-level-2);\n",
       "}\n",
       "\n",
       "/* Estimator label */\n",
       "\n",
       "#sk-container-id-1 div.sk-label label {\n",
       "  font-family: monospace;\n",
       "  font-weight: bold;\n",
       "  display: inline-block;\n",
       "  line-height: 1.2em;\n",
       "}\n",
       "\n",
       "#sk-container-id-1 div.sk-label-container {\n",
       "  text-align: center;\n",
       "}\n",
       "\n",
       "/* Estimator-specific */\n",
       "#sk-container-id-1 div.sk-estimator {\n",
       "  font-family: monospace;\n",
       "  border: 1px dotted var(--sklearn-color-border-box);\n",
       "  border-radius: 0.25em;\n",
       "  box-sizing: border-box;\n",
       "  margin-bottom: 0.5em;\n",
       "  /* unfitted */\n",
       "  background-color: var(--sklearn-color-unfitted-level-0);\n",
       "}\n",
       "\n",
       "#sk-container-id-1 div.sk-estimator.fitted {\n",
       "  /* fitted */\n",
       "  background-color: var(--sklearn-color-fitted-level-0);\n",
       "}\n",
       "\n",
       "/* on hover */\n",
       "#sk-container-id-1 div.sk-estimator:hover {\n",
       "  /* unfitted */\n",
       "  background-color: var(--sklearn-color-unfitted-level-2);\n",
       "}\n",
       "\n",
       "#sk-container-id-1 div.sk-estimator.fitted:hover {\n",
       "  /* fitted */\n",
       "  background-color: var(--sklearn-color-fitted-level-2);\n",
       "}\n",
       "\n",
       "/* Specification for estimator info (e.g. \"i\" and \"?\") */\n",
       "\n",
       "/* Common style for \"i\" and \"?\" */\n",
       "\n",
       ".sk-estimator-doc-link,\n",
       "a:link.sk-estimator-doc-link,\n",
       "a:visited.sk-estimator-doc-link {\n",
       "  float: right;\n",
       "  font-size: smaller;\n",
       "  line-height: 1em;\n",
       "  font-family: monospace;\n",
       "  background-color: var(--sklearn-color-background);\n",
       "  border-radius: 1em;\n",
       "  height: 1em;\n",
       "  width: 1em;\n",
       "  text-decoration: none !important;\n",
       "  margin-left: 1ex;\n",
       "  /* unfitted */\n",
       "  border: var(--sklearn-color-unfitted-level-1) 1pt solid;\n",
       "  color: var(--sklearn-color-unfitted-level-1);\n",
       "}\n",
       "\n",
       ".sk-estimator-doc-link.fitted,\n",
       "a:link.sk-estimator-doc-link.fitted,\n",
       "a:visited.sk-estimator-doc-link.fitted {\n",
       "  /* fitted */\n",
       "  border: var(--sklearn-color-fitted-level-1) 1pt solid;\n",
       "  color: var(--sklearn-color-fitted-level-1);\n",
       "}\n",
       "\n",
       "/* On hover */\n",
       "div.sk-estimator:hover .sk-estimator-doc-link:hover,\n",
       ".sk-estimator-doc-link:hover,\n",
       "div.sk-label-container:hover .sk-estimator-doc-link:hover,\n",
       ".sk-estimator-doc-link:hover {\n",
       "  /* unfitted */\n",
       "  background-color: var(--sklearn-color-unfitted-level-3);\n",
       "  color: var(--sklearn-color-background);\n",
       "  text-decoration: none;\n",
       "}\n",
       "\n",
       "div.sk-estimator.fitted:hover .sk-estimator-doc-link.fitted:hover,\n",
       ".sk-estimator-doc-link.fitted:hover,\n",
       "div.sk-label-container:hover .sk-estimator-doc-link.fitted:hover,\n",
       ".sk-estimator-doc-link.fitted:hover {\n",
       "  /* fitted */\n",
       "  background-color: var(--sklearn-color-fitted-level-3);\n",
       "  color: var(--sklearn-color-background);\n",
       "  text-decoration: none;\n",
       "}\n",
       "\n",
       "/* Span, style for the box shown on hovering the info icon */\n",
       ".sk-estimator-doc-link span {\n",
       "  display: none;\n",
       "  z-index: 9999;\n",
       "  position: relative;\n",
       "  font-weight: normal;\n",
       "  right: .2ex;\n",
       "  padding: .5ex;\n",
       "  margin: .5ex;\n",
       "  width: min-content;\n",
       "  min-width: 20ex;\n",
       "  max-width: 50ex;\n",
       "  color: var(--sklearn-color-text);\n",
       "  box-shadow: 2pt 2pt 4pt #999;\n",
       "  /* unfitted */\n",
       "  background: var(--sklearn-color-unfitted-level-0);\n",
       "  border: .5pt solid var(--sklearn-color-unfitted-level-3);\n",
       "}\n",
       "\n",
       ".sk-estimator-doc-link.fitted span {\n",
       "  /* fitted */\n",
       "  background: var(--sklearn-color-fitted-level-0);\n",
       "  border: var(--sklearn-color-fitted-level-3);\n",
       "}\n",
       "\n",
       ".sk-estimator-doc-link:hover span {\n",
       "  display: block;\n",
       "}\n",
       "\n",
       "/* \"?\"-specific style due to the `<a>` HTML tag */\n",
       "\n",
       "#sk-container-id-1 a.estimator_doc_link {\n",
       "  float: right;\n",
       "  font-size: 1rem;\n",
       "  line-height: 1em;\n",
       "  font-family: monospace;\n",
       "  background-color: var(--sklearn-color-background);\n",
       "  border-radius: 1rem;\n",
       "  height: 1rem;\n",
       "  width: 1rem;\n",
       "  text-decoration: none;\n",
       "  /* unfitted */\n",
       "  color: var(--sklearn-color-unfitted-level-1);\n",
       "  border: var(--sklearn-color-unfitted-level-1) 1pt solid;\n",
       "}\n",
       "\n",
       "#sk-container-id-1 a.estimator_doc_link.fitted {\n",
       "  /* fitted */\n",
       "  border: var(--sklearn-color-fitted-level-1) 1pt solid;\n",
       "  color: var(--sklearn-color-fitted-level-1);\n",
       "}\n",
       "\n",
       "/* On hover */\n",
       "#sk-container-id-1 a.estimator_doc_link:hover {\n",
       "  /* unfitted */\n",
       "  background-color: var(--sklearn-color-unfitted-level-3);\n",
       "  color: var(--sklearn-color-background);\n",
       "  text-decoration: none;\n",
       "}\n",
       "\n",
       "#sk-container-id-1 a.estimator_doc_link.fitted:hover {\n",
       "  /* fitted */\n",
       "  background-color: var(--sklearn-color-fitted-level-3);\n",
       "}\n",
       "</style><div id=\"sk-container-id-1\" class=\"sk-top-container\"><div class=\"sk-text-repr-fallback\"><pre>XGBClassifier(base_score=None, booster=None, callbacks=None,\n",
       "              colsample_bylevel=None, colsample_bynode=0.22177743469829442,\n",
       "              colsample_bytree=None, device=None, early_stopping_rounds=None,\n",
       "              enable_categorical=False,\n",
       "              eval_metric=&lt;function custom_f1_score at 0x7f1171838680&gt;,\n",
       "              feature_types=None, gamma=None, grow_policy=None,\n",
       "              importance_type=None, interaction_constraints=None,\n",
       "              learning_rate=0.3229897519765826, max_bin=None,\n",
       "              max_cat_threshold=None, max_cat_to_onehot=None,\n",
       "              max_delta_step=None, max_depth=15, max_leaves=None,\n",
       "              min_child_weight=42, missing=nan, monotone_constraints=None,\n",
       "              multi_strategy=None, n_estimators=72, n_jobs=None,\n",
       "              num_parallel_tree=None, objective=&#x27;multi:softprob&#x27;, ...)</pre><b>In a Jupyter environment, please rerun this cell to show the HTML representation or trust the notebook. <br />On GitHub, the HTML representation is unable to render, please try loading this page with nbviewer.org.</b></div><div class=\"sk-container\" hidden><div class=\"sk-item\"><div class=\"sk-estimator fitted sk-toggleable\"><input class=\"sk-toggleable__control sk-hidden--visually\" id=\"sk-estimator-id-1\" type=\"checkbox\" checked><label for=\"sk-estimator-id-1\" class=\"sk-toggleable__label fitted sk-toggleable__label-arrow fitted\">&nbsp;XGBClassifier<span class=\"sk-estimator-doc-link fitted\">i<span>Fitted</span></span></label><div class=\"sk-toggleable__content fitted\"><pre>XGBClassifier(base_score=None, booster=None, callbacks=None,\n",
       "              colsample_bylevel=None, colsample_bynode=0.22177743469829442,\n",
       "              colsample_bytree=None, device=None, early_stopping_rounds=None,\n",
       "              enable_categorical=False,\n",
       "              eval_metric=&lt;function custom_f1_score at 0x7f1171838680&gt;,\n",
       "              feature_types=None, gamma=None, grow_policy=None,\n",
       "              importance_type=None, interaction_constraints=None,\n",
       "              learning_rate=0.3229897519765826, max_bin=None,\n",
       "              max_cat_threshold=None, max_cat_to_onehot=None,\n",
       "              max_delta_step=None, max_depth=15, max_leaves=None,\n",
       "              min_child_weight=42, missing=nan, monotone_constraints=None,\n",
       "              multi_strategy=None, n_estimators=72, n_jobs=None,\n",
       "              num_parallel_tree=None, objective=&#x27;multi:softprob&#x27;, ...)</pre></div> </div></div></div></div>"
      ],
      "text/plain": [
       "XGBClassifier(base_score=None, booster=None, callbacks=None,\n",
       "              colsample_bylevel=None, colsample_bynode=0.22177743469829442,\n",
       "              colsample_bytree=None, device=None, early_stopping_rounds=None,\n",
       "              enable_categorical=False,\n",
       "              eval_metric=<function custom_f1_score at 0x7f1171838680>,\n",
       "              feature_types=None, gamma=None, grow_policy=None,\n",
       "              importance_type=None, interaction_constraints=None,\n",
       "              learning_rate=0.3229897519765826, max_bin=None,\n",
       "              max_cat_threshold=None, max_cat_to_onehot=None,\n",
       "              max_delta_step=None, max_depth=15, max_leaves=None,\n",
       "              min_child_weight=42, missing=nan, monotone_constraints=None,\n",
       "              multi_strategy=None, n_estimators=72, n_jobs=None,\n",
       "              num_parallel_tree=None, objective='multi:softprob', ...)"
      ]
     },
     "execution_count": 21,
     "metadata": {},
     "output_type": "execute_result"
    }
   ],
   "source": [
    "n_estimators = int(study.best_trial.user_attrs['best_iteration']*1.2)\n",
    "xgb = xgboost.XGBClassifier(\n",
    "        eval_metric=eval_metric,\n",
    "        n_estimators=n_estimators,\n",
    "        **study.best_trial.params\n",
    "    )\n",
    "xgb.fit(\n",
    "    ssp.vstack((X_train, X_val)), \n",
    "    np.concatenate((y_train_enc, y_val_enc)),\n",
    "    verbose=1,\n",
    ")"
   ]
  },
  {
   "cell_type": "code",
   "execution_count": 22,
   "id": "b7869824",
   "metadata": {
    "execution": {
     "iopub.execute_input": "2025-06-13T13:07:43.731795Z",
     "iopub.status.busy": "2025-06-13T13:07:43.731304Z",
     "iopub.status.idle": "2025-06-13T13:07:43.769655Z",
     "shell.execute_reply": "2025-06-13T13:07:43.769148Z"
    },
    "papermill": {
     "duration": 0.049758,
     "end_time": "2025-06-13T13:07:43.771218",
     "exception": false,
     "start_time": "2025-06-13T13:07:43.721460",
     "status": "completed"
    },
    "tags": []
   },
   "outputs": [
    {
     "data": {
      "text/plain": [
       "['/scratch_isilon/groups/singlecell/shared/projects/Inflammation-PBMCs-Atlas/03_downstream_analysis/08_gene_importance/xgboost_external_validation/xgboost_TopN_genes/results_20/best_model/T_CD4_Naive_shap_disease_NOstudy_samesize_1_xgb.json']"
      ]
     },
     "execution_count": 22,
     "metadata": {},
     "output_type": "execute_result"
    }
   ],
   "source": [
    "out_dir = here(f'03_downstream_analysis/08_gene_importance/xgboost_external_validation/xgboost_TopN_genes/results_{N_GENES}/best_model')\n",
    "\n",
    "if not os.path.exists(out_dir):\n",
    "    os.makedirs(out_dir)\n",
    "    \n",
    "joblib.dump(xgb, os.path.join(out_dir, f'{CELL_TYPE}_{SEED}_{TEST_SPLIT_IDX}_xgb.json'))"
   ]
  },
  {
   "cell_type": "code",
   "execution_count": 23,
   "id": "dc0ac3e1",
   "metadata": {
    "execution": {
     "iopub.execute_input": "2025-06-13T13:07:43.791897Z",
     "iopub.status.busy": "2025-06-13T13:07:43.791582Z",
     "iopub.status.idle": "2025-06-13T13:07:44.088569Z",
     "shell.execute_reply": "2025-06-13T13:07:44.088139Z"
    },
    "papermill": {
     "duration": 0.308164,
     "end_time": "2025-06-13T13:07:44.089583",
     "exception": false,
     "start_time": "2025-06-13T13:07:43.781419",
     "status": "completed"
    },
    "tags": []
   },
   "outputs": [],
   "source": [
    "df_pred_test = pd.DataFrame(dict(\n",
    "    cell_id=train_adata.obs.iloc[test_idxs].index.values,\n",
    "    y_true=y_test, \n",
    "    y_true_code=y_test_enc, \n",
    "    y_pred=xgb.predict(X_test))).set_index('cell_id')"
   ]
  },
  {
   "cell_type": "code",
   "execution_count": 24,
   "id": "39da8ba0",
   "metadata": {
    "execution": {
     "iopub.execute_input": "2025-06-13T13:07:44.110899Z",
     "iopub.status.busy": "2025-06-13T13:07:44.110289Z",
     "iopub.status.idle": "2025-06-13T13:07:44.209788Z",
     "shell.execute_reply": "2025-06-13T13:07:44.209281Z"
    },
    "papermill": {
     "duration": 0.110645,
     "end_time": "2025-06-13T13:07:44.210826",
     "exception": false,
     "start_time": "2025-06-13T13:07:44.100181",
     "status": "completed"
    },
    "tags": []
   },
   "outputs": [],
   "source": [
    "out_dir = here(f'03_downstream_analysis/08_gene_importance/xgboost_external_validation/xgboost_TopN_genes/results_{N_GENES}/predictions')\n",
    "\n",
    "if not os.path.exists(out_dir):\n",
    "    os.makedirs(out_dir)\n",
    "    \n",
    "df_pred_test.to_csv(os.path.join(out_dir, f'{CELL_TYPE}_{SEED}_{TEST_SPLIT_IDX}_pred_test.zip'))"
   ]
  },
  {
   "cell_type": "code",
   "execution_count": 25,
   "id": "6af6355f",
   "metadata": {
    "execution": {
     "iopub.execute_input": "2025-06-13T13:07:44.231165Z",
     "iopub.status.busy": "2025-06-13T13:07:44.230613Z",
     "iopub.status.idle": "2025-06-13T13:07:44.242406Z",
     "shell.execute_reply": "2025-06-13T13:07:44.242059Z"
    },
    "papermill": {
     "duration": 0.022577,
     "end_time": "2025-06-13T13:07:44.243296",
     "exception": false,
     "start_time": "2025-06-13T13:07:44.220719",
     "status": "completed"
    },
    "tags": []
   },
   "outputs": [],
   "source": [
    "metrics_dict = dict(\n",
    "    BAS=balanced_accuracy_score(y_true=df_pred_test.y_true_code, y_pred=df_pred_test.y_pred), WF1=f1_score(y_true=df_pred_test.y_true_code, y_pred=df_pred_test.y_pred,average='weighted'))"
   ]
  },
  {
   "cell_type": "code",
   "execution_count": 26,
   "id": "e27e40a6",
   "metadata": {
    "execution": {
     "iopub.execute_input": "2025-06-13T13:07:44.264253Z",
     "iopub.status.busy": "2025-06-13T13:07:44.263749Z",
     "iopub.status.idle": "2025-06-13T13:07:44.266736Z",
     "shell.execute_reply": "2025-06-13T13:07:44.266437Z"
    },
    "papermill": {
     "duration": 0.014943,
     "end_time": "2025-06-13T13:07:44.267567",
     "exception": false,
     "start_time": "2025-06-13T13:07:44.252624",
     "status": "completed"
    },
    "tags": []
   },
   "outputs": [
    {
     "data": {
      "text/plain": [
       "{'BAS': 0.5946002532828984, 'WF1': 0.8085799489680322}"
      ]
     },
     "execution_count": 26,
     "metadata": {},
     "output_type": "execute_result"
    }
   ],
   "source": [
    "metrics_dict"
   ]
  },
  {
   "cell_type": "code",
   "execution_count": 27,
   "id": "52df19c7",
   "metadata": {
    "execution": {
     "iopub.execute_input": "2025-06-13T13:07:44.287513Z",
     "iopub.status.busy": "2025-06-13T13:07:44.286903Z",
     "iopub.status.idle": "2025-06-13T13:07:44.296738Z",
     "shell.execute_reply": "2025-06-13T13:07:44.296426Z"
    },
    "papermill": {
     "duration": 0.020306,
     "end_time": "2025-06-13T13:07:44.297563",
     "exception": false,
     "start_time": "2025-06-13T13:07:44.277257",
     "status": "completed"
    },
    "tags": []
   },
   "outputs": [
    {
     "data": {
      "text/html": [
       "<div>\n",
       "<style scoped>\n",
       "    .dataframe tbody tr th:only-of-type {\n",
       "        vertical-align: middle;\n",
       "    }\n",
       "\n",
       "    .dataframe tbody tr th {\n",
       "        vertical-align: top;\n",
       "    }\n",
       "\n",
       "    .dataframe thead th {\n",
       "        text-align: right;\n",
       "    }\n",
       "</style>\n",
       "<table border=\"1\" class=\"dataframe\">\n",
       "  <thead>\n",
       "    <tr style=\"text-align: right;\">\n",
       "      <th></th>\n",
       "      <th>BAS</th>\n",
       "      <th>WF1</th>\n",
       "      <th>split_idx</th>\n",
       "      <th>gene_set_seed</th>\n",
       "      <th>cell_type</th>\n",
       "    </tr>\n",
       "  </thead>\n",
       "  <tbody>\n",
       "    <tr>\n",
       "      <th>0</th>\n",
       "      <td>0.5946</td>\n",
       "      <td>0.80858</td>\n",
       "      <td>1</td>\n",
       "      <td>shap_disease_NOstudy_samesize</td>\n",
       "      <td>T_CD4_Naive</td>\n",
       "    </tr>\n",
       "  </tbody>\n",
       "</table>\n",
       "</div>"
      ],
      "text/plain": [
       "      BAS      WF1  split_idx                  gene_set_seed    cell_type\n",
       "0  0.5946  0.80858          1  shap_disease_NOstudy_samesize  T_CD4_Naive"
      ]
     },
     "execution_count": 27,
     "metadata": {},
     "output_type": "execute_result"
    }
   ],
   "source": [
    "metrics_df = pd.DataFrame.from_dict([metrics_dict]).assign(split_idx=TEST_SPLIT_IDX, gene_set_seed=SEED, cell_type=CELL_TYPE)\n",
    "metrics_df"
   ]
  },
  {
   "cell_type": "code",
   "execution_count": 28,
   "id": "e5a70b64",
   "metadata": {
    "execution": {
     "iopub.execute_input": "2025-06-13T13:07:44.317293Z",
     "iopub.status.busy": "2025-06-13T13:07:44.316815Z",
     "iopub.status.idle": "2025-06-13T13:07:44.324597Z",
     "shell.execute_reply": "2025-06-13T13:07:44.324246Z"
    },
    "papermill": {
     "duration": 0.018877,
     "end_time": "2025-06-13T13:07:44.325504",
     "exception": false,
     "start_time": "2025-06-13T13:07:44.306627",
     "status": "completed"
    },
    "tags": []
   },
   "outputs": [],
   "source": [
    "out_dir = here(f'03_downstream_analysis/08_gene_importance/xgboost_external_validation/xgboost_TopN_genes/results_{N_GENES}/metrics')\n",
    "\n",
    "if not os.path.exists(out_dir):\n",
    "    os.makedirs(out_dir)\n",
    "    \n",
    "metrics_df.to_csv(os.path.join(out_dir, f'{CELL_TYPE}_{SEED}_{TEST_SPLIT_IDX}_metrics.zip'))"
   ]
  }
 ],
 "metadata": {
  "kernelspec": {
   "display_name": "Python 3 (ipykernel)",
   "language": "python",
   "name": "python3"
  },
  "language_info": {
   "codemirror_mode": {
    "name": "ipython",
    "version": 3
   },
   "file_extension": ".py",
   "mimetype": "text/x-python",
   "name": "python",
   "nbconvert_exporter": "python",
   "pygments_lexer": "ipython3",
   "version": "3.12.5"
  },
  "papermill": {
   "default_parameters": {},
   "duration": 395.662679,
   "end_time": "2025-06-13T13:07:44.850788",
   "environment_variables": {},
   "exception": null,
   "input_path": "02_xgboost_fitting_external_20genes.ipynb",
   "output_path": "results_20/executed_notebooks/xgboost_fitting_external_CT_T_CD4_Naive_GS_shap_disease_NOstudy_samesize_seed1.ipynb",
   "parameters": {
    "CELL_TYPE": "T_CD4_Naive",
    "SEED": "shap_disease_NOstudy_samesize",
    "TEST_SPLIT_IDX": 1
   },
   "start_time": "2025-06-13T13:01:09.188109",
   "version": "2.6.0"
  }
 },
 "nbformat": 4,
 "nbformat_minor": 5
}