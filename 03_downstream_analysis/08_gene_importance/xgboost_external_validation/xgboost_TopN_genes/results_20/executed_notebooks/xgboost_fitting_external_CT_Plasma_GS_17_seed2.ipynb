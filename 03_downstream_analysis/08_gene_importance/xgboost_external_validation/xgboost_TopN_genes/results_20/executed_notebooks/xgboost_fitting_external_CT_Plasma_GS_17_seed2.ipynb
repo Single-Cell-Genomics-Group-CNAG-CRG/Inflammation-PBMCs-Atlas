{
 "cells": [
  {
   "cell_type": "code",
   "execution_count": 1,
   "id": "7bcca8bd",
   "metadata": {
    "editable": true,
    "execution": {
     "iopub.execute_input": "2025-05-15T16:15:47.319892Z",
     "iopub.status.busy": "2025-05-15T16:15:47.319294Z",
     "iopub.status.idle": "2025-05-15T16:15:47.323570Z",
     "shell.execute_reply": "2025-05-15T16:15:47.323242Z"
    },
    "papermill": {
     "duration": 0.012747,
     "end_time": "2025-05-15T16:15:47.324544",
     "exception": false,
     "start_time": "2025-05-15T16:15:47.311797",
     "status": "completed"
    },
    "slideshow": {
     "slide_type": ""
    },
    "tags": [
     "parameters"
    ]
   },
   "outputs": [],
   "source": [
    "CELL_TYPE = 'pDC'\n",
    "N_GENES: int = 20\n",
    "SEED = 'shap_studyID' #'disease_NOstudy' 'study_NOdisease' or 'int' or 'shap_studyID'\n",
    "TEST_SPLIT_IDX: int = 1 #[0,4]"
   ]
  },
  {
   "cell_type": "code",
   "execution_count": 2,
   "id": "acb4e326",
   "metadata": {
    "execution": {
     "iopub.execute_input": "2025-05-15T16:15:47.336637Z",
     "iopub.status.busy": "2025-05-15T16:15:47.336477Z",
     "iopub.status.idle": "2025-05-15T16:15:47.338810Z",
     "shell.execute_reply": "2025-05-15T16:15:47.338478Z"
    },
    "papermill": {
     "duration": 0.00962,
     "end_time": "2025-05-15T16:15:47.339698",
     "exception": false,
     "start_time": "2025-05-15T16:15:47.330078",
     "status": "completed"
    },
    "tags": [
     "injected-parameters"
    ]
   },
   "outputs": [],
   "source": [
    "# Parameters\n",
    "CELL_TYPE = \"Plasma\"\n",
    "SEED = 17\n",
    "TEST_SPLIT_IDX = 2\n"
   ]
  },
  {
   "cell_type": "code",
   "execution_count": 3,
   "id": "1bd62382",
   "metadata": {
    "execution": {
     "iopub.execute_input": "2025-05-15T16:15:47.351382Z",
     "iopub.status.busy": "2025-05-15T16:15:47.351099Z",
     "iopub.status.idle": "2025-05-15T16:15:47.353253Z",
     "shell.execute_reply": "2025-05-15T16:15:47.352953Z"
    },
    "papermill": {
     "duration": 0.008999,
     "end_time": "2025-05-15T16:15:47.354037",
     "exception": false,
     "start_time": "2025-05-15T16:15:47.345038",
     "status": "completed"
    },
    "tags": []
   },
   "outputs": [],
   "source": [
    "N_SPLITS: int = 5\n",
    "N_TRIALS: int = 50"
   ]
  },
  {
   "cell_type": "code",
   "execution_count": 4,
   "id": "91a4f655",
   "metadata": {
    "execution": {
     "iopub.execute_input": "2025-05-15T16:15:47.366127Z",
     "iopub.status.busy": "2025-05-15T16:15:47.365902Z",
     "iopub.status.idle": "2025-05-15T16:15:49.027373Z",
     "shell.execute_reply": "2025-05-15T16:15:49.026848Z"
    },
    "papermill": {
     "duration": 1.669536,
     "end_time": "2025-05-15T16:15:49.028803",
     "exception": false,
     "start_time": "2025-05-15T16:15:47.359267",
     "status": "completed"
    },
    "tags": []
   },
   "outputs": [],
   "source": [
    "import os\n",
    "import sys\n",
    "from pyprojroot.here import here\n",
    "import pandas as pd\n",
    "import anndata as ad\n",
    "import numpy as np\n",
    "import math\n",
    "from sklearn.model_selection import StratifiedGroupKFold\n",
    "from sklearn.preprocessing import LabelEncoder\n",
    "from sklearn.metrics import f1_score\n",
    "import matplotlib.pyplot as plt\n",
    "import seaborn as sns\n",
    "from itertools import product\n",
    "from sklearn.metrics import balanced_accuracy_score, f1_score\n",
    "import optuna\n",
    "\n",
    "import joblib\n",
    "import pickle\n",
    "import datetime\n",
    "\n",
    "import collections\n",
    "\n",
    "import xgboost\n",
    "from sklearn.preprocessing import LabelEncoder\n",
    "\n",
    "import scipy.sparse as ssp\n",
    "import joblib\n",
    "\n",
    "from dotenv import load_dotenv"
   ]
  },
  {
   "cell_type": "code",
   "execution_count": 5,
   "id": "2a326531",
   "metadata": {
    "execution": {
     "iopub.execute_input": "2025-05-15T16:15:49.042043Z",
     "iopub.status.busy": "2025-05-15T16:15:49.041544Z",
     "iopub.status.idle": "2025-05-15T16:15:49.048104Z",
     "shell.execute_reply": "2025-05-15T16:15:49.047561Z"
    },
    "papermill": {
     "duration": 0.014258,
     "end_time": "2025-05-15T16:15:49.049052",
     "exception": false,
     "start_time": "2025-05-15T16:15:49.034794",
     "status": "completed"
    },
    "tags": []
   },
   "outputs": [
    {
     "data": {
      "text/plain": [
       "True"
      ]
     },
     "execution_count": 5,
     "metadata": {},
     "output_type": "execute_result"
    }
   ],
   "source": [
    "load_dotenv()"
   ]
  },
  {
   "cell_type": "markdown",
   "id": "5581f1b3",
   "metadata": {
    "papermill": {
     "duration": 0.00569,
     "end_time": "2025-05-15T16:15:49.063587",
     "exception": false,
     "start_time": "2025-05-15T16:15:49.057897",
     "status": "completed"
    },
    "tags": []
   },
   "source": [
    "# LOAD DATASET"
   ]
  },
  {
   "cell_type": "code",
   "execution_count": 6,
   "id": "04be9ea0",
   "metadata": {
    "execution": {
     "iopub.execute_input": "2025-05-15T16:15:49.075917Z",
     "iopub.status.busy": "2025-05-15T16:15:49.075578Z",
     "iopub.status.idle": "2025-05-15T16:15:49.114972Z",
     "shell.execute_reply": "2025-05-15T16:15:49.114567Z"
    },
    "papermill": {
     "duration": 0.04692,
     "end_time": "2025-05-15T16:15:49.116260",
     "exception": false,
     "start_time": "2025-05-15T16:15:49.069340",
     "status": "completed"
    },
    "tags": []
   },
   "outputs": [],
   "source": [
    "train_adata = ad.read_h5ad(\n",
    "    here(f'03_downstream_analysis/08_gene_importance/xgboost_external_validation/xgboost_TopN_genes/data_cellTypes/EXTERNAL_{CELL_TYPE}.filtered.log1p.h5ad')\n",
    ")"
   ]
  },
  {
   "cell_type": "code",
   "execution_count": 7,
   "id": "01d05c1f",
   "metadata": {
    "execution": {
     "iopub.execute_input": "2025-05-15T16:15:49.128680Z",
     "iopub.status.busy": "2025-05-15T16:15:49.128338Z",
     "iopub.status.idle": "2025-05-15T16:15:49.137098Z",
     "shell.execute_reply": "2025-05-15T16:15:49.136793Z"
    },
    "papermill": {
     "duration": 0.016004,
     "end_time": "2025-05-15T16:15:49.137991",
     "exception": false,
     "start_time": "2025-05-15T16:15:49.121987",
     "status": "completed"
    },
    "tags": []
   },
   "outputs": [
    {
     "name": "stdout",
     "output_type": "stream",
     "text": [
      "['ENSG00000204267' 'ENSG00000104998' 'ENSG00000005844' 'ENSG00000152518'\n",
      " 'ENSG00000196154' 'ENSG00000153283' 'ENSG00000115232' 'ENSG00000121879'\n",
      " 'ENSG00000143119' 'ENSG00000139514' 'ENSG00000136997' 'ENSG00000033800'\n",
      " 'ENSG00000223865' 'ENSG00000130429' 'ENSG00000206503' 'ENSG00000165280'\n",
      " 'ENSG00000184557' 'ENSG00000168461' 'ENSG00000105221' 'ENSG00000026025'\n",
      " 'ENSG00000186010' 'ENSG00000164307' 'ENSG00000110876' 'ENSG00000100393'\n",
      " 'ENSG00000179218' 'ENSG00000180008' 'ENSG00000104964' 'ENSG00000068831'\n",
      " 'ENSG00000104856' 'ENSG00000157514' 'ENSG00000240505' 'ENSG00000171791'\n",
      " 'ENSG00000145247' 'ENSG00000140379' 'ENSG00000101350' 'ENSG00000113811'\n",
      " 'ENSG00000136003' 'ENSG00000133639' 'ENSG00000105397' 'ENSG00000160888'\n",
      " 'ENSG00000175482' 'ENSG00000116171' 'ENSG00000099204' 'ENSG00000152778'\n",
      " 'ENSG00000100100' 'ENSG00000120837' 'ENSG00000244687' 'ENSG00000136156'\n",
      " 'ENSG00000166710' 'ENSG00000122705' 'ENSG00000030110' 'ENSG00000106605'\n",
      " 'ENSG00000137965' 'ENSG00000140264' 'ENSG00000231925' 'ENSG00000115738'\n",
      " 'ENSG00000142546' 'ENSG00000132475' 'ENSG00000240065' 'ENSG00000075234'\n",
      " 'ENSG00000170540' 'ENSG00000121807' 'ENSG00000100600' 'ENSG00000120738'\n",
      " 'ENSG00000127022' 'ENSG00000168389' 'ENSG00000096996' 'ENSG00000140105'\n",
      " 'ENSG00000130066' 'ENSG00000197471' 'ENSG00000231389' 'ENSG00000103187'\n",
      " 'ENSG00000101017' 'ENSG00000171700' 'ENSG00000090554' 'ENSG00000185436'\n",
      " 'ENSG00000152234' 'ENSG00000009790' 'ENSG00000100385' 'ENSG00000006125'\n",
      " 'ENSG00000082074' 'ENSG00000001167' 'ENSG00000158050' 'ENSG00000189067'\n",
      " 'ENSG00000153234' 'ENSG00000139318' 'ENSG00000105583' 'ENSG00000048462'\n",
      " 'ENSG00000118503' 'ENSG00000165168' 'ENSG00000146457' 'ENSG00000108639'\n",
      " 'ENSG00000145675' 'ENSG00000127951' 'ENSG00000138107' 'ENSG00000182866'\n",
      " 'ENSG00000018280' 'ENSG00000145912' 'ENSG00000115145' 'ENSG00000164308'\n",
      " 'ENSG00000076944' 'ENSG00000148908' 'ENSG00000166747' 'ENSG00000155368'\n",
      " 'ENSG00000116815' 'ENSG00000127184' 'ENSG00000002586']\n"
     ]
    }
   ],
   "source": [
    "if SEED != 'all':\n",
    "    gene_subset = np.load(here(f'03_downstream_analysis/08_gene_importance/xgboost_external_validation/shap_gene_selection/gene_subsets_{N_GENES}/{CELL_TYPE}_{SEED}.npy'), allow_pickle=True)\n",
    "    train_adata = train_adata[:,gene_subset]\n",
    "    print(gene_subset)\n",
    "elif SEED == 'all':\n",
    "    print('Using all genes')\n",
    "else:\n",
    "    raise ValueError()"
   ]
  },
  {
   "cell_type": "code",
   "execution_count": 8,
   "id": "cf2b8c1b",
   "metadata": {
    "execution": {
     "iopub.execute_input": "2025-05-15T16:15:49.151024Z",
     "iopub.status.busy": "2025-05-15T16:15:49.150701Z",
     "iopub.status.idle": "2025-05-15T16:15:49.153756Z",
     "shell.execute_reply": "2025-05-15T16:15:49.153452Z"
    },
    "papermill": {
     "duration": 0.010016,
     "end_time": "2025-05-15T16:15:49.154585",
     "exception": false,
     "start_time": "2025-05-15T16:15:49.144569",
     "status": "completed"
    },
    "tags": []
   },
   "outputs": [
    {
     "data": {
      "text/plain": [
       "(542, 107)"
      ]
     },
     "execution_count": 8,
     "metadata": {},
     "output_type": "execute_result"
    }
   ],
   "source": [
    "train_adata.shape"
   ]
  },
  {
   "cell_type": "code",
   "execution_count": 9,
   "id": "a425be70",
   "metadata": {
    "execution": {
     "iopub.execute_input": "2025-05-15T16:15:49.166483Z",
     "iopub.status.busy": "2025-05-15T16:15:49.166258Z",
     "iopub.status.idle": "2025-05-15T16:15:49.169863Z",
     "shell.execute_reply": "2025-05-15T16:15:49.169553Z"
    },
    "papermill": {
     "duration": 0.01071,
     "end_time": "2025-05-15T16:15:49.170742",
     "exception": false,
     "start_time": "2025-05-15T16:15:49.160032",
     "status": "completed"
    },
    "tags": []
   },
   "outputs": [
    {
     "data": {
      "text/plain": [
       "['RA', 'COVID', 'healthy', 'HIV', 'cirrhosis', 'CD', 'SLE', 'sepsis']\n",
       "Categories (8, object): ['CD', 'COVID', 'HIV', 'RA', 'SLE', 'cirrhosis', 'healthy', 'sepsis']"
      ]
     },
     "execution_count": 9,
     "metadata": {},
     "output_type": "execute_result"
    }
   ],
   "source": [
    "train_adata.obs.disease.unique()"
   ]
  },
  {
   "cell_type": "code",
   "execution_count": 10,
   "id": "eae3e696",
   "metadata": {
    "execution": {
     "iopub.execute_input": "2025-05-15T16:15:49.182727Z",
     "iopub.status.busy": "2025-05-15T16:15:49.182330Z",
     "iopub.status.idle": "2025-05-15T16:15:49.186711Z",
     "shell.execute_reply": "2025-05-15T16:15:49.186393Z"
    },
    "papermill": {
     "duration": 0.011308,
     "end_time": "2025-05-15T16:15:49.187580",
     "exception": false,
     "start_time": "2025-05-15T16:15:49.176272",
     "status": "completed"
    },
    "tags": []
   },
   "outputs": [
    {
     "data": {
      "text/plain": [
       "['SCGT00val_I0364_T0', 'SCGT00val_I036019_T0', 'SCGT00val_I036028_T0', 'SCGT00val_I036024_T0', 'SCGT00val_I036016_T0', ..., '10XGenomics_10XHC2_T0', '10XGenomics_10XHC3_T0', '10XGenomics_10XHC5_T0', '10XGenomics_10XHC7_T0', '10XGenomics_10XHC8_T0']\n",
       "Length: 74\n",
       "Categories (74, object): ['10XGenomics_10XHC1_T0', '10XGenomics_10XHC2_T0', '10XGenomics_10XHC3_T0', '10XGenomics_10XHC4_T0', ..., 'Savage2021_BRISL6_T0', 'Savage2021_BRISL7_T0', 'Savage2021_PIDA_T0', 'Savage2021_PIDB_T0']"
      ]
     },
     "execution_count": 10,
     "metadata": {},
     "output_type": "execute_result"
    }
   ],
   "source": [
    "train_adata.obs.sampleID.unique()"
   ]
  },
  {
   "cell_type": "code",
   "execution_count": 11,
   "id": "60422fc3",
   "metadata": {
    "execution": {
     "iopub.execute_input": "2025-05-15T16:15:49.199973Z",
     "iopub.status.busy": "2025-05-15T16:15:49.199776Z",
     "iopub.status.idle": "2025-05-15T16:15:49.228345Z",
     "shell.execute_reply": "2025-05-15T16:15:49.227963Z"
    },
    "papermill": {
     "duration": 0.036048,
     "end_time": "2025-05-15T16:15:49.229256",
     "exception": false,
     "start_time": "2025-05-15T16:15:49.193208",
     "status": "completed"
    },
    "tags": []
   },
   "outputs": [],
   "source": [
    "all_idxs = np.arange(train_adata.obs.shape[0])\n",
    "left_out_splits = [s[1] for s in StratifiedGroupKFold(n_splits=N_SPLITS).split(all_idxs, train_adata.obs.disease, train_adata.obs.sampleID)]"
   ]
  },
  {
   "cell_type": "code",
   "execution_count": 12,
   "id": "8d327d45",
   "metadata": {
    "execution": {
     "iopub.execute_input": "2025-05-15T16:15:49.241958Z",
     "iopub.status.busy": "2025-05-15T16:15:49.241503Z",
     "iopub.status.idle": "2025-05-15T16:15:49.244963Z",
     "shell.execute_reply": "2025-05-15T16:15:49.244667Z"
    },
    "papermill": {
     "duration": 0.010368,
     "end_time": "2025-05-15T16:15:49.245765",
     "exception": false,
     "start_time": "2025-05-15T16:15:49.235397",
     "status": "completed"
    },
    "tags": []
   },
   "outputs": [
    {
     "data": {
      "text/plain": [
       "([0, 1, 4], 3, 2)"
      ]
     },
     "execution_count": 12,
     "metadata": {},
     "output_type": "execute_result"
    }
   ],
   "source": [
    "TRAIN_SPLIT_IDXS = [0,1,2,3,4]\n",
    "VAL_SPLIT_IDX = (TEST_SPLIT_IDX + 1) % 5\n",
    "TRAIN_SPLIT_IDXS.remove(TEST_SPLIT_IDX)\n",
    "TRAIN_SPLIT_IDXS.remove(VAL_SPLIT_IDX)\n",
    "TRAIN_SPLIT_IDXS, VAL_SPLIT_IDX, TEST_SPLIT_IDX"
   ]
  },
  {
   "cell_type": "code",
   "execution_count": 13,
   "id": "8de8eeb5",
   "metadata": {
    "execution": {
     "iopub.execute_input": "2025-05-15T16:15:49.258415Z",
     "iopub.status.busy": "2025-05-15T16:15:49.258194Z",
     "iopub.status.idle": "2025-05-15T16:15:49.260759Z",
     "shell.execute_reply": "2025-05-15T16:15:49.260456Z"
    },
    "papermill": {
     "duration": 0.009804,
     "end_time": "2025-05-15T16:15:49.261515",
     "exception": false,
     "start_time": "2025-05-15T16:15:49.251711",
     "status": "completed"
    },
    "tags": []
   },
   "outputs": [],
   "source": [
    "train_idxs = np.concatenate([left_out_splits[idx] for idx in TRAIN_SPLIT_IDXS])\n",
    "val_idxs = left_out_splits[VAL_SPLIT_IDX]\n",
    "test_idxs = left_out_splits[TEST_SPLIT_IDX]"
   ]
  },
  {
   "cell_type": "markdown",
   "id": "5eb2cea2",
   "metadata": {
    "papermill": {
     "duration": 0.006181,
     "end_time": "2025-05-15T16:15:49.273636",
     "exception": false,
     "start_time": "2025-05-15T16:15:49.267455",
     "status": "completed"
    },
    "tags": []
   },
   "source": [
    "### SUBSET DATASET INTO TRAIN/TEST/VAL SPLITS"
   ]
  },
  {
   "cell_type": "code",
   "execution_count": 14,
   "id": "4157fb60",
   "metadata": {
    "execution": {
     "iopub.execute_input": "2025-05-15T16:15:49.286629Z",
     "iopub.status.busy": "2025-05-15T16:15:49.286379Z",
     "iopub.status.idle": "2025-05-15T16:15:49.292915Z",
     "shell.execute_reply": "2025-05-15T16:15:49.292613Z"
    },
    "papermill": {
     "duration": 0.014089,
     "end_time": "2025-05-15T16:15:49.293740",
     "exception": false,
     "start_time": "2025-05-15T16:15:49.279651",
     "status": "completed"
    },
    "tags": []
   },
   "outputs": [
    {
     "data": {
      "text/plain": [
       "((341, 107), (102, 107), (99, 107))"
      ]
     },
     "execution_count": 14,
     "metadata": {},
     "output_type": "execute_result"
    }
   ],
   "source": [
    "X_train = train_adata.X[train_idxs]\n",
    "X_test = train_adata.X[test_idxs]\n",
    "X_val = train_adata.X[val_idxs]\n",
    "X_train.shape, X_test.shape, X_val.shape"
   ]
  },
  {
   "cell_type": "code",
   "execution_count": 15,
   "id": "17f01752",
   "metadata": {
    "execution": {
     "iopub.execute_input": "2025-05-15T16:15:49.314986Z",
     "iopub.status.busy": "2025-05-15T16:15:49.314733Z",
     "iopub.status.idle": "2025-05-15T16:15:49.319816Z",
     "shell.execute_reply": "2025-05-15T16:15:49.319521Z"
    },
    "papermill": {
     "duration": 0.012411,
     "end_time": "2025-05-15T16:15:49.320598",
     "exception": false,
     "start_time": "2025-05-15T16:15:49.308187",
     "status": "completed"
    },
    "tags": []
   },
   "outputs": [
    {
     "data": {
      "text/plain": [
       "((341,), (102,), (99,))"
      ]
     },
     "execution_count": 15,
     "metadata": {},
     "output_type": "execute_result"
    }
   ],
   "source": [
    "y_train = train_adata.obs.iloc[train_idxs].disease.values.astype(str)\n",
    "y_test = train_adata.obs.iloc[test_idxs].disease.values.astype(str)\n",
    "y_val = train_adata.obs.iloc[val_idxs].disease.values.astype(str)\n",
    "y_train.shape, y_test.shape, y_val.shape"
   ]
  },
  {
   "cell_type": "code",
   "execution_count": 16,
   "id": "9d8a5a75",
   "metadata": {
    "execution": {
     "iopub.execute_input": "2025-05-15T16:15:49.333800Z",
     "iopub.status.busy": "2025-05-15T16:15:49.333559Z",
     "iopub.status.idle": "2025-05-15T16:15:49.336461Z",
     "shell.execute_reply": "2025-05-15T16:15:49.336154Z"
    },
    "papermill": {
     "duration": 0.010326,
     "end_time": "2025-05-15T16:15:49.337262",
     "exception": false,
     "start_time": "2025-05-15T16:15:49.326936",
     "status": "completed"
    },
    "tags": []
   },
   "outputs": [],
   "source": [
    "lenc = LabelEncoder()\n",
    "y_train_enc = lenc.fit_transform(y_train)\n",
    "y_val_enc = lenc.transform(y_val)\n",
    "y_test_enc = lenc.transform(y_test)"
   ]
  },
  {
   "cell_type": "markdown",
   "id": "0421b585",
   "metadata": {
    "papermill": {
     "duration": 0.006091,
     "end_time": "2025-05-15T16:15:49.349398",
     "exception": false,
     "start_time": "2025-05-15T16:15:49.343307",
     "status": "completed"
    },
    "tags": []
   },
   "source": [
    "### GENERATE F1 "
   ]
  },
  {
   "cell_type": "code",
   "execution_count": 17,
   "id": "96ef4629",
   "metadata": {
    "execution": {
     "iopub.execute_input": "2025-05-15T16:15:49.362072Z",
     "iopub.status.busy": "2025-05-15T16:15:49.361829Z",
     "iopub.status.idle": "2025-05-15T16:15:49.364266Z",
     "shell.execute_reply": "2025-05-15T16:15:49.363977Z"
    },
    "papermill": {
     "duration": 0.009606,
     "end_time": "2025-05-15T16:15:49.365041",
     "exception": false,
     "start_time": "2025-05-15T16:15:49.355435",
     "status": "completed"
    },
    "tags": []
   },
   "outputs": [],
   "source": [
    "def custom_f1_score(y_true, y_pred):\n",
    "    return -f1_score(y_true, y_pred.argmax(1), average='weighted')"
   ]
  },
  {
   "cell_type": "code",
   "execution_count": 18,
   "id": "2740fc8f",
   "metadata": {
    "execution": {
     "iopub.execute_input": "2025-05-15T16:15:49.377699Z",
     "iopub.status.busy": "2025-05-15T16:15:49.377346Z",
     "iopub.status.idle": "2025-05-15T16:15:49.381005Z",
     "shell.execute_reply": "2025-05-15T16:15:49.380718Z"
    },
    "papermill": {
     "duration": 0.010648,
     "end_time": "2025-05-15T16:15:49.381772",
     "exception": false,
     "start_time": "2025-05-15T16:15:49.371124",
     "status": "completed"
    },
    "tags": []
   },
   "outputs": [],
   "source": [
    "eval_metric=custom_f1_score\n",
    "eval_metric_name='custom_f1_score'\n",
    "\n",
    "def objective(trial):\n",
    "    params = {\n",
    "        'n_estimators': 1500,\n",
    "        'max_depth': trial.suggest_int('max_depth', 3, 20),\n",
    "        'min_child_weight': trial.suggest_int('min_child_weight', 1, 250),\n",
    "        'subsample': trial.suggest_float('subsample', 0.1, 1.0),\n",
    "        'colsample_bynode': trial.suggest_float('colsample_bynode', 0.1, 1.0),\n",
    "        'learning_rate': trial.suggest_float('learning_rate', 1e-3, 5e-1, log=True),\n",
    "    }\n",
    "    pruning_callback = optuna.integration.XGBoostPruningCallback(trial, f'validation_0-{eval_metric_name}')\n",
    "    es_callback = xgboost.callback.EarlyStopping(20, min_delta=0.001)\n",
    "    xgb = xgboost.XGBClassifier(\n",
    "        eval_metric=eval_metric,\n",
    "        callbacks=[pruning_callback, es_callback],\n",
    "        n_jobs=5,\n",
    "        **params\n",
    "    )\n",
    "    xgb.fit(\n",
    "        X_train, \n",
    "        y_train_enc, \n",
    "        verbose=0,\n",
    "        eval_set=[(X_val, y_val_enc)],\n",
    "    )\n",
    "    trial.set_user_attr('best_iteration', xgb.best_iteration)\n",
    "\n",
    "    return xgb.best_score"
   ]
  },
  {
   "cell_type": "code",
   "execution_count": 19,
   "id": "0efac656",
   "metadata": {
    "execution": {
     "iopub.execute_input": "2025-05-15T16:15:49.394589Z",
     "iopub.status.busy": "2025-05-15T16:15:49.394348Z",
     "iopub.status.idle": "2025-05-15T16:15:58.617539Z",
     "shell.execute_reply": "2025-05-15T16:15:58.617016Z"
    },
    "papermill": {
     "duration": 9.231222,
     "end_time": "2025-05-15T16:15:58.618931",
     "exception": false,
     "start_time": "2025-05-15T16:15:49.387709",
     "status": "completed"
    },
    "scrolled": true,
    "tags": []
   },
   "outputs": [
    {
     "name": "stderr",
     "output_type": "stream",
     "text": [
      "[I 2025-05-15 18:15:49,396] A new study created in memory with name: no-name-f0346f65-3e93-478e-8559-00ab27e7c534\n"
     ]
    },
    {
     "name": "stderr",
     "output_type": "stream",
     "text": [
      "[I 2025-05-15 18:15:49,455] Trial 0 finished with value: -0.022222 and parameters: {'max_depth': 9, 'min_child_weight': 238, 'subsample': 0.7587945476302645, 'colsample_bynode': 0.6387926357773329, 'learning_rate': 0.0026368755339723046}. Best is trial 0 with value: -0.022222.\n"
     ]
    },
    {
     "name": "stderr",
     "output_type": "stream",
     "text": [
      "[I 2025-05-15 18:15:49,780] Trial 1 finished with value: -0.536264 and parameters: {'max_depth': 5, 'min_child_weight': 15, 'subsample': 0.8795585311974417, 'colsample_bynode': 0.6410035105688879, 'learning_rate': 0.08148293210105287}. Best is trial 1 with value: -0.536264.\n"
     ]
    },
    {
     "name": "stderr",
     "output_type": "stream",
     "text": [
      "[I 2025-05-15 18:15:49,922] Trial 2 finished with value: -0.022222 and parameters: {'max_depth': 3, 'min_child_weight': 243, 'subsample': 0.8491983767203796, 'colsample_bynode': 0.29110519961044856, 'learning_rate': 0.003095566460242371}. Best is trial 1 with value: -0.536264.\n"
     ]
    },
    {
     "name": "stderr",
     "output_type": "stream",
     "text": [
      "[I 2025-05-15 18:15:50,065] Trial 3 finished with value: -0.022222 and parameters: {'max_depth': 6, 'min_child_weight': 77, 'subsample': 0.5722807884690141, 'colsample_bynode': 0.48875051677790415, 'learning_rate': 0.006109683510122491}. Best is trial 1 with value: -0.536264.\n"
     ]
    },
    {
     "name": "stderr",
     "output_type": "stream",
     "text": [
      "[I 2025-05-15 18:15:50,205] Trial 4 finished with value: -0.022222 and parameters: {'max_depth': 14, 'min_child_weight': 35, 'subsample': 0.3629301836816964, 'colsample_bynode': 0.4297256589643226, 'learning_rate': 0.01701841881702917}. Best is trial 1 with value: -0.536264.\n"
     ]
    },
    {
     "name": "stderr",
     "output_type": "stream",
     "text": [
      "[I 2025-05-15 18:15:50,351] Trial 5 finished with value: -0.022222 and parameters: {'max_depth': 17, 'min_child_weight': 50, 'subsample': 0.5628109945722505, 'colsample_bynode': 0.6331731119758383, 'learning_rate': 0.0013346527038305934}. Best is trial 1 with value: -0.536264.\n"
     ]
    },
    {
     "name": "stderr",
     "output_type": "stream",
     "text": [
      "[I 2025-05-15 18:15:50,502] Trial 6 finished with value: -0.022222 and parameters: {'max_depth': 13, 'min_child_weight': 43, 'subsample': 0.1585464336867516, 'colsample_bynode': 0.9539969835279999, 'learning_rate': 0.4038423798071558}. Best is trial 1 with value: -0.536264.\n"
     ]
    },
    {
     "name": "stderr",
     "output_type": "stream",
     "text": [
      "[I 2025-05-15 18:15:50,649] Trial 7 finished with value: -0.022222 and parameters: {'max_depth': 17, 'min_child_weight': 77, 'subsample': 0.1879049026057455, 'colsample_bynode': 0.7158097238609412, 'learning_rate': 0.015415527060141935}. Best is trial 1 with value: -0.536264.\n"
     ]
    },
    {
     "name": "stderr",
     "output_type": "stream",
     "text": [
      "[I 2025-05-15 18:15:50,801] Trial 8 finished with value: -0.022222 and parameters: {'max_depth': 5, 'min_child_weight': 124, 'subsample': 0.13094966900369656, 'colsample_bynode': 0.9183883618709039, 'learning_rate': 0.004993895014755658}. Best is trial 1 with value: -0.536264.\n"
     ]
    },
    {
     "name": "stderr",
     "output_type": "stream",
     "text": [
      "[I 2025-05-15 18:15:50,950] Trial 9 finished with value: -0.022222 and parameters: {'max_depth': 14, 'min_child_weight': 78, 'subsample': 0.5680612190600297, 'colsample_bynode': 0.5920392514089517, 'learning_rate': 0.0031543990308330965}. Best is trial 1 with value: -0.536264.\n"
     ]
    },
    {
     "name": "stderr",
     "output_type": "stream",
     "text": [
      "[I 2025-05-15 18:15:51,314] Trial 10 pruned. Trial was pruned at iteration 27.\n"
     ]
    },
    {
     "name": "stderr",
     "output_type": "stream",
     "text": [
      "[I 2025-05-15 18:15:51,486] Trial 11 finished with value: -0.022222 and parameters: {'max_depth': 9, 'min_child_weight': 244, 'subsample': 0.7759918276625105, 'colsample_bynode': 0.7714157288516674, 'learning_rate': 0.06989197786403963}. Best is trial 1 with value: -0.536264.\n"
     ]
    },
    {
     "name": "stderr",
     "output_type": "stream",
     "text": [
      "[I 2025-05-15 18:15:51,654] Trial 12 finished with value: -0.022222 and parameters: {'max_depth': 9, 'min_child_weight': 187, 'subsample': 0.7810886706853567, 'colsample_bynode': 0.7908156974794198, 'learning_rate': 0.0852514223226423}. Best is trial 1 with value: -0.536264.\n"
     ]
    },
    {
     "name": "stderr",
     "output_type": "stream",
     "text": [
      "[I 2025-05-15 18:15:51,817] Trial 13 finished with value: -0.022222 and parameters: {'max_depth': 7, 'min_child_weight': 173, 'subsample': 0.9985711586801754, 'colsample_bynode': 0.3542314315933605, 'learning_rate': 0.05535376435186281}. Best is trial 1 with value: -0.536264.\n"
     ]
    },
    {
     "name": "stderr",
     "output_type": "stream",
     "text": [
      "[I 2025-05-15 18:15:51,979] Trial 14 finished with value: -0.022222 and parameters: {'max_depth': 4, 'min_child_weight': 140, 'subsample': 0.7252785471204157, 'colsample_bynode': 0.6251170185028069, 'learning_rate': 0.028603454172866558}. Best is trial 1 with value: -0.536264.\n"
     ]
    },
    {
     "name": "stderr",
     "output_type": "stream",
     "text": [
      "[I 2025-05-15 18:15:52,140] Trial 15 finished with value: -0.022222 and parameters: {'max_depth': 20, 'min_child_weight': 204, 'subsample': 0.6803150824063098, 'colsample_bynode': 0.8501087117926959, 'learning_rate': 0.001019745930894758}. Best is trial 1 with value: -0.536264.\n"
     ]
    },
    {
     "name": "stderr",
     "output_type": "stream",
     "text": [
      "[I 2025-05-15 18:15:52,303] Trial 16 finished with value: -0.022222 and parameters: {'max_depth': 8, 'min_child_weight': 121, 'subsample': 0.8625632182518037, 'colsample_bynode': 0.6970657857507844, 'learning_rate': 0.18961687234093502}. Best is trial 1 with value: -0.536264.\n"
     ]
    },
    {
     "name": "stderr",
     "output_type": "stream",
     "text": [
      "[I 2025-05-15 18:15:52,553] Trial 17 pruned. Trial was pruned at iteration 22.\n"
     ]
    },
    {
     "name": "stderr",
     "output_type": "stream",
     "text": [
      "[I 2025-05-15 18:15:52,716] Trial 18 finished with value: -0.022222 and parameters: {'max_depth': 12, 'min_child_weight': 156, 'subsample': 0.8964450909290851, 'colsample_bynode': 0.24900065324684006, 'learning_rate': 0.03544069195285818}. Best is trial 1 with value: -0.536264.\n"
     ]
    },
    {
     "name": "stderr",
     "output_type": "stream",
     "text": [
      "[I 2025-05-15 18:15:52,881] Trial 19 finished with value: -0.022222 and parameters: {'max_depth': 3, 'min_child_weight': 213, 'subsample': 0.6729427260151626, 'colsample_bynode': 0.436579935167426, 'learning_rate': 0.15796261807789636}. Best is trial 1 with value: -0.536264.\n"
     ]
    },
    {
     "name": "stderr",
     "output_type": "stream",
     "text": [
      "[I 2025-05-15 18:15:53,048] Trial 20 finished with value: -0.022222 and parameters: {'max_depth': 6, 'min_child_weight': 108, 'subsample': 0.9267723049850893, 'colsample_bynode': 0.8638570884100472, 'learning_rate': 0.0018743644531145694}. Best is trial 1 with value: -0.536264.\n"
     ]
    },
    {
     "name": "stderr",
     "output_type": "stream",
     "text": [
      "[I 2025-05-15 18:15:53,210] Trial 21 finished with value: -0.022222 and parameters: {'max_depth': 3, 'min_child_weight': 243, 'subsample': 0.8381380797607554, 'colsample_bynode': 0.2936648591260932, 'learning_rate': 0.0028697910354236454}. Best is trial 1 with value: -0.536264.\n"
     ]
    },
    {
     "name": "stderr",
     "output_type": "stream",
     "text": [
      "[I 2025-05-15 18:15:53,371] Trial 22 finished with value: -0.022222 and parameters: {'max_depth': 4, 'min_child_weight': 222, 'subsample': 0.7982423974446629, 'colsample_bynode': 0.18807836392607669, 'learning_rate': 0.008881632187327966}. Best is trial 1 with value: -0.536264.\n"
     ]
    },
    {
     "name": "stderr",
     "output_type": "stream",
     "text": [
      "[I 2025-05-15 18:15:53,536] Trial 23 finished with value: -0.022222 and parameters: {'max_depth': 6, 'min_child_weight': 232, 'subsample': 0.6638310221964546, 'colsample_bynode': 0.566298809027901, 'learning_rate': 0.0027719217784443364}. Best is trial 1 with value: -0.536264.\n"
     ]
    },
    {
     "name": "stderr",
     "output_type": "stream",
     "text": [
      "[I 2025-05-15 18:15:53,699] Trial 24 finished with value: -0.022222 and parameters: {'max_depth': 11, 'min_child_weight': 200, 'subsample': 0.9143238627389314, 'colsample_bynode': 0.3905434007926093, 'learning_rate': 0.004380634708425319}. Best is trial 1 with value: -0.536264.\n"
     ]
    },
    {
     "name": "stderr",
     "output_type": "stream",
     "text": [
      "[I 2025-05-15 18:15:53,862] Trial 25 finished with value: -0.022222 and parameters: {'max_depth': 5, 'min_child_weight': 169, 'subsample': 0.7535701176502512, 'colsample_bynode': 0.6875962023752984, 'learning_rate': 0.001751366603937793}. Best is trial 1 with value: -0.536264.\n"
     ]
    },
    {
     "name": "stderr",
     "output_type": "stream",
     "text": [
      "[I 2025-05-15 18:15:54,024] Trial 26 finished with value: -0.022222 and parameters: {'max_depth': 8, 'min_child_weight': 102, 'subsample': 0.4415145059632183, 'colsample_bynode': 0.5054559356236007, 'learning_rate': 0.009981136121838687}. Best is trial 1 with value: -0.536264.\n"
     ]
    },
    {
     "name": "stderr",
     "output_type": "stream",
     "text": [
      "[I 2025-05-15 18:15:54,185] Trial 27 finished with value: -0.022222 and parameters: {'max_depth': 3, 'min_child_weight': 250, 'subsample': 0.836332296140562, 'colsample_bynode': 0.3224983221137091, 'learning_rate': 0.33751469567913717}. Best is trial 1 with value: -0.536264.\n"
     ]
    },
    {
     "name": "stderr",
     "output_type": "stream",
     "text": [
      "[I 2025-05-15 18:15:54,346] Trial 28 finished with value: -0.022222 and parameters: {'max_depth': 7, 'min_child_weight': 196, 'subsample': 0.9395802867292293, 'colsample_bynode': 0.10419856137301844, 'learning_rate': 0.12287823020042174}. Best is trial 1 with value: -0.536264.\n"
     ]
    },
    {
     "name": "stderr",
     "output_type": "stream",
     "text": [
      "[I 2025-05-15 18:15:54,511] Trial 29 finished with value: -0.022222 and parameters: {'max_depth': 5, 'min_child_weight': 146, 'subsample': 0.6524726734756583, 'colsample_bynode': 0.46569851971471055, 'learning_rate': 0.040578771578418715}. Best is trial 1 with value: -0.536264.\n"
     ]
    },
    {
     "name": "stderr",
     "output_type": "stream",
     "text": [
      "[I 2025-05-15 18:15:54,681] Trial 30 finished with value: -0.022222 and parameters: {'max_depth': 10, 'min_child_weight': 224, 'subsample': 0.48408877480742074, 'colsample_bynode': 0.6525741718054756, 'learning_rate': 0.006846398548333891}. Best is trial 1 with value: -0.536264.\n"
     ]
    },
    {
     "name": "stderr",
     "output_type": "stream",
     "text": [
      "[I 2025-05-15 18:15:54,842] Trial 31 pruned. Trial was pruned at iteration 21.\n"
     ]
    },
    {
     "name": "stderr",
     "output_type": "stream",
     "text": [
      "[I 2025-05-15 18:15:55,011] Trial 32 finished with value: -0.022222 and parameters: {'max_depth': 6, 'min_child_weight': 60, 'subsample': 0.5834577711765219, 'colsample_bynode': 0.40083156791272617, 'learning_rate': 0.005060185098022239}. Best is trial 1 with value: -0.536264.\n"
     ]
    },
    {
     "name": "stderr",
     "output_type": "stream",
     "text": [
      "[I 2025-05-15 18:15:55,180] Trial 33 finished with value: -0.166667 and parameters: {'max_depth': 4, 'min_child_weight': 34, 'subsample': 0.6129149280667663, 'colsample_bynode': 0.46859121318812375, 'learning_rate': 0.0018991950654641675}. Best is trial 1 with value: -0.536264.\n"
     ]
    },
    {
     "name": "stderr",
     "output_type": "stream",
     "text": [
      "[I 2025-05-15 18:15:55,342] Trial 34 pruned. Trial was pruned at iteration 21.\n"
     ]
    },
    {
     "name": "stderr",
     "output_type": "stream",
     "text": [
      "[I 2025-05-15 18:15:55,512] Trial 35 finished with value: -0.022222 and parameters: {'max_depth': 4, 'min_child_weight': 60, 'subsample': 0.7302236946628688, 'colsample_bynode': 0.7575883145842257, 'learning_rate': 0.001257637476193813}. Best is trial 1 with value: -0.536264.\n"
     ]
    },
    {
     "name": "stderr",
     "output_type": "stream",
     "text": [
      "[I 2025-05-15 18:15:55,690] Trial 36 pruned. Trial was pruned at iteration 21.\n"
     ]
    },
    {
     "name": "stderr",
     "output_type": "stream",
     "text": [
      "[I 2025-05-15 18:15:55,865] Trial 37 finished with value: -0.166667 and parameters: {'max_depth': 15, 'min_child_weight': 41, 'subsample': 0.8684763001584302, 'colsample_bynode': 0.578575626820173, 'learning_rate': 0.0023895072784035783}. Best is trial 1 with value: -0.536264.\n"
     ]
    },
    {
     "name": "stderr",
     "output_type": "stream",
     "text": [
      "[I 2025-05-15 18:15:56,037] Trial 38 finished with value: -0.166667 and parameters: {'max_depth': 17, 'min_child_weight': 37, 'subsample': 0.8692547623297929, 'colsample_bynode': 0.5965257302170373, 'learning_rate': 0.013486464813384533}. Best is trial 1 with value: -0.536264.\n"
     ]
    },
    {
     "name": "stderr",
     "output_type": "stream",
     "text": [
      "[I 2025-05-15 18:15:56,209] Trial 39 finished with value: -0.022222 and parameters: {'max_depth': 16, 'min_child_weight': 41, 'subsample': 0.24919451490275413, 'colsample_bynode': 0.5908630577165346, 'learning_rate': 0.013430584463955135}. Best is trial 1 with value: -0.536264.\n"
     ]
    },
    {
     "name": "stderr",
     "output_type": "stream",
     "text": [
      "[I 2025-05-15 18:15:56,378] Trial 40 finished with value: -0.166667 and parameters: {'max_depth': 19, 'min_child_weight': 54, 'subsample': 0.8856473904761831, 'colsample_bynode': 0.5414311221057417, 'learning_rate': 0.02472341970853876}. Best is trial 1 with value: -0.536264.\n"
     ]
    },
    {
     "name": "stderr",
     "output_type": "stream",
     "text": [
      "[I 2025-05-15 18:15:56,551] Trial 41 finished with value: -0.166667 and parameters: {'max_depth': 20, 'min_child_weight': 55, 'subsample': 0.8699815633915103, 'colsample_bynode': 0.46525728111864006, 'learning_rate': 0.024523555738396947}. Best is trial 1 with value: -0.536264.\n"
     ]
    },
    {
     "name": "stderr",
     "output_type": "stream",
     "text": [
      "[I 2025-05-15 18:15:56,735] Trial 42 pruned. Trial was pruned at iteration 21.\n"
     ]
    },
    {
     "name": "stderr",
     "output_type": "stream",
     "text": [
      "[I 2025-05-15 18:15:56,916] Trial 43 finished with value: -0.022222 and parameters: {'max_depth': 16, 'min_child_weight': 81, 'subsample': 0.9745140224351841, 'colsample_bynode': 0.5889229866614659, 'learning_rate': 0.012029754634885995}. Best is trial 1 with value: -0.536264.\n"
     ]
    },
    {
     "name": "stderr",
     "output_type": "stream",
     "text": [
      "[I 2025-05-15 18:15:57,142] Trial 44 pruned. Trial was pruned at iteration 21.\n"
     ]
    },
    {
     "name": "stderr",
     "output_type": "stream",
     "text": [
      "[I 2025-05-15 18:15:57,306] Trial 45 pruned. Trial was pruned at iteration 21.\n"
     ]
    },
    {
     "name": "stderr",
     "output_type": "stream",
     "text": [
      "[I 2025-05-15 18:15:57,463] Trial 46 finished with value: -0.022222 and parameters: {'max_depth': 18, 'min_child_weight': 68, 'subsample': 0.7183828641380648, 'colsample_bynode': 0.4906373493542162, 'learning_rate': 0.2888214316304485}. Best is trial 1 with value: -0.536264.\n"
     ]
    },
    {
     "name": "stderr",
     "output_type": "stream",
     "text": [
      "[I 2025-05-15 18:15:57,624] Trial 47 finished with value: -0.166667 and parameters: {'max_depth': 13, 'min_child_weight': 34, 'subsample': 0.797323970728592, 'colsample_bynode': 0.655764532448313, 'learning_rate': 0.006698234355698083}. Best is trial 1 with value: -0.536264.\n"
     ]
    },
    {
     "name": "stderr",
     "output_type": "stream",
     "text": [
      "[I 2025-05-15 18:15:57,784] Trial 48 finished with value: -0.022222 and parameters: {'max_depth': 17, 'min_child_weight': 91, 'subsample': 0.9058919582986733, 'colsample_bynode': 0.5421254258895101, 'learning_rate': 0.019111467248520832}. Best is trial 1 with value: -0.536264.\n"
     ]
    },
    {
     "name": "stderr",
     "output_type": "stream",
     "text": [
      "[I 2025-05-15 18:15:58,521] Trial 49 finished with value: -0.572547 and parameters: {'max_depth': 15, 'min_child_weight': 1, 'subsample': 0.7556632236019685, 'colsample_bynode': 0.43698055496318217, 'learning_rate': 0.0373810550675382}. Best is trial 49 with value: -0.572547.\n"
     ]
    }
   ],
   "source": [
    "sampler = optuna.samplers.TPESampler(seed=42)\n",
    "study = optuna.create_study(direction='minimize', sampler=sampler)\n",
    "study.optimize(objective, n_trials=N_TRIALS, gc_after_trial=True)"
   ]
  },
  {
   "cell_type": "code",
   "execution_count": 20,
   "id": "be5d2042",
   "metadata": {
    "execution": {
     "iopub.execute_input": "2025-05-15T16:15:58.638557Z",
     "iopub.status.busy": "2025-05-15T16:15:58.638167Z",
     "iopub.status.idle": "2025-05-15T16:15:58.661929Z",
     "shell.execute_reply": "2025-05-15T16:15:58.661553Z"
    },
    "papermill": {
     "duration": 0.034765,
     "end_time": "2025-05-15T16:15:58.662839",
     "exception": false,
     "start_time": "2025-05-15T16:15:58.628074",
     "status": "completed"
    },
    "tags": []
   },
   "outputs": [
    {
     "data": {
      "text/plain": [
       "['/scratch_isilon/groups/singlecell/shared/projects/Inflammation-PBMCs-Atlas/03_downstream_analysis/08_gene_importance/xgboost_external_validation/xgboost_TopN_genes/results_20/study/Plasma_17_2_xgboost.pkl']"
      ]
     },
     "execution_count": 20,
     "metadata": {},
     "output_type": "execute_result"
    }
   ],
   "source": [
    "out_dir = here(f'03_downstream_analysis/08_gene_importance/xgboost_external_validation/xgboost_TopN_genes/results_{N_GENES}/study')\n",
    "\n",
    "if not os.path.exists(out_dir):\n",
    "    os.makedirs(out_dir)\n",
    "    \n",
    "joblib.dump(study,os.path.join(out_dir, f'{CELL_TYPE}_{SEED}_{TEST_SPLIT_IDX}_xgboost.pkl'))"
   ]
  },
  {
   "cell_type": "code",
   "execution_count": 21,
   "id": "a3afc5df",
   "metadata": {
    "execution": {
     "iopub.execute_input": "2025-05-15T16:15:58.681612Z",
     "iopub.status.busy": "2025-05-15T16:15:58.681095Z",
     "iopub.status.idle": "2025-05-15T16:15:59.177875Z",
     "shell.execute_reply": "2025-05-15T16:15:59.177458Z"
    },
    "papermill": {
     "duration": 0.506978,
     "end_time": "2025-05-15T16:15:59.178867",
     "exception": false,
     "start_time": "2025-05-15T16:15:58.671889",
     "status": "completed"
    },
    "tags": []
   },
   "outputs": [
    {
     "data": {
      "text/html": [
       "<style>#sk-container-id-1 {\n",
       "  /* Definition of color scheme common for light and dark mode */\n",
       "  --sklearn-color-text: black;\n",
       "  --sklearn-color-line: gray;\n",
       "  /* Definition of color scheme for unfitted estimators */\n",
       "  --sklearn-color-unfitted-level-0: #fff5e6;\n",
       "  --sklearn-color-unfitted-level-1: #f6e4d2;\n",
       "  --sklearn-color-unfitted-level-2: #ffe0b3;\n",
       "  --sklearn-color-unfitted-level-3: chocolate;\n",
       "  /* Definition of color scheme for fitted estimators */\n",
       "  --sklearn-color-fitted-level-0: #f0f8ff;\n",
       "  --sklearn-color-fitted-level-1: #d4ebff;\n",
       "  --sklearn-color-fitted-level-2: #b3dbfd;\n",
       "  --sklearn-color-fitted-level-3: cornflowerblue;\n",
       "\n",
       "  /* Specific color for light theme */\n",
       "  --sklearn-color-text-on-default-background: var(--sg-text-color, var(--theme-code-foreground, var(--jp-content-font-color1, black)));\n",
       "  --sklearn-color-background: var(--sg-background-color, var(--theme-background, var(--jp-layout-color0, white)));\n",
       "  --sklearn-color-border-box: var(--sg-text-color, var(--theme-code-foreground, var(--jp-content-font-color1, black)));\n",
       "  --sklearn-color-icon: #696969;\n",
       "\n",
       "  @media (prefers-color-scheme: dark) {\n",
       "    /* Redefinition of color scheme for dark theme */\n",
       "    --sklearn-color-text-on-default-background: var(--sg-text-color, var(--theme-code-foreground, var(--jp-content-font-color1, white)));\n",
       "    --sklearn-color-background: var(--sg-background-color, var(--theme-background, var(--jp-layout-color0, #111)));\n",
       "    --sklearn-color-border-box: var(--sg-text-color, var(--theme-code-foreground, var(--jp-content-font-color1, white)));\n",
       "    --sklearn-color-icon: #878787;\n",
       "  }\n",
       "}\n",
       "\n",
       "#sk-container-id-1 {\n",
       "  color: var(--sklearn-color-text);\n",
       "}\n",
       "\n",
       "#sk-container-id-1 pre {\n",
       "  padding: 0;\n",
       "}\n",
       "\n",
       "#sk-container-id-1 input.sk-hidden--visually {\n",
       "  border: 0;\n",
       "  clip: rect(1px 1px 1px 1px);\n",
       "  clip: rect(1px, 1px, 1px, 1px);\n",
       "  height: 1px;\n",
       "  margin: -1px;\n",
       "  overflow: hidden;\n",
       "  padding: 0;\n",
       "  position: absolute;\n",
       "  width: 1px;\n",
       "}\n",
       "\n",
       "#sk-container-id-1 div.sk-dashed-wrapped {\n",
       "  border: 1px dashed var(--sklearn-color-line);\n",
       "  margin: 0 0.4em 0.5em 0.4em;\n",
       "  box-sizing: border-box;\n",
       "  padding-bottom: 0.4em;\n",
       "  background-color: var(--sklearn-color-background);\n",
       "}\n",
       "\n",
       "#sk-container-id-1 div.sk-container {\n",
       "  /* jupyter's `normalize.less` sets `[hidden] { display: none; }`\n",
       "     but bootstrap.min.css set `[hidden] { display: none !important; }`\n",
       "     so we also need the `!important` here to be able to override the\n",
       "     default hidden behavior on the sphinx rendered scikit-learn.org.\n",
       "     See: https://github.com/scikit-learn/scikit-learn/issues/21755 */\n",
       "  display: inline-block !important;\n",
       "  position: relative;\n",
       "}\n",
       "\n",
       "#sk-container-id-1 div.sk-text-repr-fallback {\n",
       "  display: none;\n",
       "}\n",
       "\n",
       "div.sk-parallel-item,\n",
       "div.sk-serial,\n",
       "div.sk-item {\n",
       "  /* draw centered vertical line to link estimators */\n",
       "  background-image: linear-gradient(var(--sklearn-color-text-on-default-background), var(--sklearn-color-text-on-default-background));\n",
       "  background-size: 2px 100%;\n",
       "  background-repeat: no-repeat;\n",
       "  background-position: center center;\n",
       "}\n",
       "\n",
       "/* Parallel-specific style estimator block */\n",
       "\n",
       "#sk-container-id-1 div.sk-parallel-item::after {\n",
       "  content: \"\";\n",
       "  width: 100%;\n",
       "  border-bottom: 2px solid var(--sklearn-color-text-on-default-background);\n",
       "  flex-grow: 1;\n",
       "}\n",
       "\n",
       "#sk-container-id-1 div.sk-parallel {\n",
       "  display: flex;\n",
       "  align-items: stretch;\n",
       "  justify-content: center;\n",
       "  background-color: var(--sklearn-color-background);\n",
       "  position: relative;\n",
       "}\n",
       "\n",
       "#sk-container-id-1 div.sk-parallel-item {\n",
       "  display: flex;\n",
       "  flex-direction: column;\n",
       "}\n",
       "\n",
       "#sk-container-id-1 div.sk-parallel-item:first-child::after {\n",
       "  align-self: flex-end;\n",
       "  width: 50%;\n",
       "}\n",
       "\n",
       "#sk-container-id-1 div.sk-parallel-item:last-child::after {\n",
       "  align-self: flex-start;\n",
       "  width: 50%;\n",
       "}\n",
       "\n",
       "#sk-container-id-1 div.sk-parallel-item:only-child::after {\n",
       "  width: 0;\n",
       "}\n",
       "\n",
       "/* Serial-specific style estimator block */\n",
       "\n",
       "#sk-container-id-1 div.sk-serial {\n",
       "  display: flex;\n",
       "  flex-direction: column;\n",
       "  align-items: center;\n",
       "  background-color: var(--sklearn-color-background);\n",
       "  padding-right: 1em;\n",
       "  padding-left: 1em;\n",
       "}\n",
       "\n",
       "\n",
       "/* Toggleable style: style used for estimator/Pipeline/ColumnTransformer box that is\n",
       "clickable and can be expanded/collapsed.\n",
       "- Pipeline and ColumnTransformer use this feature and define the default style\n",
       "- Estimators will overwrite some part of the style using the `sk-estimator` class\n",
       "*/\n",
       "\n",
       "/* Pipeline and ColumnTransformer style (default) */\n",
       "\n",
       "#sk-container-id-1 div.sk-toggleable {\n",
       "  /* Default theme specific background. It is overwritten whether we have a\n",
       "  specific estimator or a Pipeline/ColumnTransformer */\n",
       "  background-color: var(--sklearn-color-background);\n",
       "}\n",
       "\n",
       "/* Toggleable label */\n",
       "#sk-container-id-1 label.sk-toggleable__label {\n",
       "  cursor: pointer;\n",
       "  display: block;\n",
       "  width: 100%;\n",
       "  margin-bottom: 0;\n",
       "  padding: 0.5em;\n",
       "  box-sizing: border-box;\n",
       "  text-align: center;\n",
       "}\n",
       "\n",
       "#sk-container-id-1 label.sk-toggleable__label-arrow:before {\n",
       "  /* Arrow on the left of the label */\n",
       "  content: \"▸\";\n",
       "  float: left;\n",
       "  margin-right: 0.25em;\n",
       "  color: var(--sklearn-color-icon);\n",
       "}\n",
       "\n",
       "#sk-container-id-1 label.sk-toggleable__label-arrow:hover:before {\n",
       "  color: var(--sklearn-color-text);\n",
       "}\n",
       "\n",
       "/* Toggleable content - dropdown */\n",
       "\n",
       "#sk-container-id-1 div.sk-toggleable__content {\n",
       "  max-height: 0;\n",
       "  max-width: 0;\n",
       "  overflow: hidden;\n",
       "  text-align: left;\n",
       "  /* unfitted */\n",
       "  background-color: var(--sklearn-color-unfitted-level-0);\n",
       "}\n",
       "\n",
       "#sk-container-id-1 div.sk-toggleable__content.fitted {\n",
       "  /* fitted */\n",
       "  background-color: var(--sklearn-color-fitted-level-0);\n",
       "}\n",
       "\n",
       "#sk-container-id-1 div.sk-toggleable__content pre {\n",
       "  margin: 0.2em;\n",
       "  border-radius: 0.25em;\n",
       "  color: var(--sklearn-color-text);\n",
       "  /* unfitted */\n",
       "  background-color: var(--sklearn-color-unfitted-level-0);\n",
       "}\n",
       "\n",
       "#sk-container-id-1 div.sk-toggleable__content.fitted pre {\n",
       "  /* unfitted */\n",
       "  background-color: var(--sklearn-color-fitted-level-0);\n",
       "}\n",
       "\n",
       "#sk-container-id-1 input.sk-toggleable__control:checked~div.sk-toggleable__content {\n",
       "  /* Expand drop-down */\n",
       "  max-height: 200px;\n",
       "  max-width: 100%;\n",
       "  overflow: auto;\n",
       "}\n",
       "\n",
       "#sk-container-id-1 input.sk-toggleable__control:checked~label.sk-toggleable__label-arrow:before {\n",
       "  content: \"▾\";\n",
       "}\n",
       "\n",
       "/* Pipeline/ColumnTransformer-specific style */\n",
       "\n",
       "#sk-container-id-1 div.sk-label input.sk-toggleable__control:checked~label.sk-toggleable__label {\n",
       "  color: var(--sklearn-color-text);\n",
       "  background-color: var(--sklearn-color-unfitted-level-2);\n",
       "}\n",
       "\n",
       "#sk-container-id-1 div.sk-label.fitted input.sk-toggleable__control:checked~label.sk-toggleable__label {\n",
       "  background-color: var(--sklearn-color-fitted-level-2);\n",
       "}\n",
       "\n",
       "/* Estimator-specific style */\n",
       "\n",
       "/* Colorize estimator box */\n",
       "#sk-container-id-1 div.sk-estimator input.sk-toggleable__control:checked~label.sk-toggleable__label {\n",
       "  /* unfitted */\n",
       "  background-color: var(--sklearn-color-unfitted-level-2);\n",
       "}\n",
       "\n",
       "#sk-container-id-1 div.sk-estimator.fitted input.sk-toggleable__control:checked~label.sk-toggleable__label {\n",
       "  /* fitted */\n",
       "  background-color: var(--sklearn-color-fitted-level-2);\n",
       "}\n",
       "\n",
       "#sk-container-id-1 div.sk-label label.sk-toggleable__label,\n",
       "#sk-container-id-1 div.sk-label label {\n",
       "  /* The background is the default theme color */\n",
       "  color: var(--sklearn-color-text-on-default-background);\n",
       "}\n",
       "\n",
       "/* On hover, darken the color of the background */\n",
       "#sk-container-id-1 div.sk-label:hover label.sk-toggleable__label {\n",
       "  color: var(--sklearn-color-text);\n",
       "  background-color: var(--sklearn-color-unfitted-level-2);\n",
       "}\n",
       "\n",
       "/* Label box, darken color on hover, fitted */\n",
       "#sk-container-id-1 div.sk-label.fitted:hover label.sk-toggleable__label.fitted {\n",
       "  color: var(--sklearn-color-text);\n",
       "  background-color: var(--sklearn-color-fitted-level-2);\n",
       "}\n",
       "\n",
       "/* Estimator label */\n",
       "\n",
       "#sk-container-id-1 div.sk-label label {\n",
       "  font-family: monospace;\n",
       "  font-weight: bold;\n",
       "  display: inline-block;\n",
       "  line-height: 1.2em;\n",
       "}\n",
       "\n",
       "#sk-container-id-1 div.sk-label-container {\n",
       "  text-align: center;\n",
       "}\n",
       "\n",
       "/* Estimator-specific */\n",
       "#sk-container-id-1 div.sk-estimator {\n",
       "  font-family: monospace;\n",
       "  border: 1px dotted var(--sklearn-color-border-box);\n",
       "  border-radius: 0.25em;\n",
       "  box-sizing: border-box;\n",
       "  margin-bottom: 0.5em;\n",
       "  /* unfitted */\n",
       "  background-color: var(--sklearn-color-unfitted-level-0);\n",
       "}\n",
       "\n",
       "#sk-container-id-1 div.sk-estimator.fitted {\n",
       "  /* fitted */\n",
       "  background-color: var(--sklearn-color-fitted-level-0);\n",
       "}\n",
       "\n",
       "/* on hover */\n",
       "#sk-container-id-1 div.sk-estimator:hover {\n",
       "  /* unfitted */\n",
       "  background-color: var(--sklearn-color-unfitted-level-2);\n",
       "}\n",
       "\n",
       "#sk-container-id-1 div.sk-estimator.fitted:hover {\n",
       "  /* fitted */\n",
       "  background-color: var(--sklearn-color-fitted-level-2);\n",
       "}\n",
       "\n",
       "/* Specification for estimator info (e.g. \"i\" and \"?\") */\n",
       "\n",
       "/* Common style for \"i\" and \"?\" */\n",
       "\n",
       ".sk-estimator-doc-link,\n",
       "a:link.sk-estimator-doc-link,\n",
       "a:visited.sk-estimator-doc-link {\n",
       "  float: right;\n",
       "  font-size: smaller;\n",
       "  line-height: 1em;\n",
       "  font-family: monospace;\n",
       "  background-color: var(--sklearn-color-background);\n",
       "  border-radius: 1em;\n",
       "  height: 1em;\n",
       "  width: 1em;\n",
       "  text-decoration: none !important;\n",
       "  margin-left: 1ex;\n",
       "  /* unfitted */\n",
       "  border: var(--sklearn-color-unfitted-level-1) 1pt solid;\n",
       "  color: var(--sklearn-color-unfitted-level-1);\n",
       "}\n",
       "\n",
       ".sk-estimator-doc-link.fitted,\n",
       "a:link.sk-estimator-doc-link.fitted,\n",
       "a:visited.sk-estimator-doc-link.fitted {\n",
       "  /* fitted */\n",
       "  border: var(--sklearn-color-fitted-level-1) 1pt solid;\n",
       "  color: var(--sklearn-color-fitted-level-1);\n",
       "}\n",
       "\n",
       "/* On hover */\n",
       "div.sk-estimator:hover .sk-estimator-doc-link:hover,\n",
       ".sk-estimator-doc-link:hover,\n",
       "div.sk-label-container:hover .sk-estimator-doc-link:hover,\n",
       ".sk-estimator-doc-link:hover {\n",
       "  /* unfitted */\n",
       "  background-color: var(--sklearn-color-unfitted-level-3);\n",
       "  color: var(--sklearn-color-background);\n",
       "  text-decoration: none;\n",
       "}\n",
       "\n",
       "div.sk-estimator.fitted:hover .sk-estimator-doc-link.fitted:hover,\n",
       ".sk-estimator-doc-link.fitted:hover,\n",
       "div.sk-label-container:hover .sk-estimator-doc-link.fitted:hover,\n",
       ".sk-estimator-doc-link.fitted:hover {\n",
       "  /* fitted */\n",
       "  background-color: var(--sklearn-color-fitted-level-3);\n",
       "  color: var(--sklearn-color-background);\n",
       "  text-decoration: none;\n",
       "}\n",
       "\n",
       "/* Span, style for the box shown on hovering the info icon */\n",
       ".sk-estimator-doc-link span {\n",
       "  display: none;\n",
       "  z-index: 9999;\n",
       "  position: relative;\n",
       "  font-weight: normal;\n",
       "  right: .2ex;\n",
       "  padding: .5ex;\n",
       "  margin: .5ex;\n",
       "  width: min-content;\n",
       "  min-width: 20ex;\n",
       "  max-width: 50ex;\n",
       "  color: var(--sklearn-color-text);\n",
       "  box-shadow: 2pt 2pt 4pt #999;\n",
       "  /* unfitted */\n",
       "  background: var(--sklearn-color-unfitted-level-0);\n",
       "  border: .5pt solid var(--sklearn-color-unfitted-level-3);\n",
       "}\n",
       "\n",
       ".sk-estimator-doc-link.fitted span {\n",
       "  /* fitted */\n",
       "  background: var(--sklearn-color-fitted-level-0);\n",
       "  border: var(--sklearn-color-fitted-level-3);\n",
       "}\n",
       "\n",
       ".sk-estimator-doc-link:hover span {\n",
       "  display: block;\n",
       "}\n",
       "\n",
       "/* \"?\"-specific style due to the `<a>` HTML tag */\n",
       "\n",
       "#sk-container-id-1 a.estimator_doc_link {\n",
       "  float: right;\n",
       "  font-size: 1rem;\n",
       "  line-height: 1em;\n",
       "  font-family: monospace;\n",
       "  background-color: var(--sklearn-color-background);\n",
       "  border-radius: 1rem;\n",
       "  height: 1rem;\n",
       "  width: 1rem;\n",
       "  text-decoration: none;\n",
       "  /* unfitted */\n",
       "  color: var(--sklearn-color-unfitted-level-1);\n",
       "  border: var(--sklearn-color-unfitted-level-1) 1pt solid;\n",
       "}\n",
       "\n",
       "#sk-container-id-1 a.estimator_doc_link.fitted {\n",
       "  /* fitted */\n",
       "  border: var(--sklearn-color-fitted-level-1) 1pt solid;\n",
       "  color: var(--sklearn-color-fitted-level-1);\n",
       "}\n",
       "\n",
       "/* On hover */\n",
       "#sk-container-id-1 a.estimator_doc_link:hover {\n",
       "  /* unfitted */\n",
       "  background-color: var(--sklearn-color-unfitted-level-3);\n",
       "  color: var(--sklearn-color-background);\n",
       "  text-decoration: none;\n",
       "}\n",
       "\n",
       "#sk-container-id-1 a.estimator_doc_link.fitted:hover {\n",
       "  /* fitted */\n",
       "  background-color: var(--sklearn-color-fitted-level-3);\n",
       "}\n",
       "</style><div id=\"sk-container-id-1\" class=\"sk-top-container\"><div class=\"sk-text-repr-fallback\"><pre>XGBClassifier(base_score=None, booster=None, callbacks=None,\n",
       "              colsample_bylevel=None, colsample_bynode=0.43698055496318217,\n",
       "              colsample_bytree=None, device=None, early_stopping_rounds=None,\n",
       "              enable_categorical=False,\n",
       "              eval_metric=&lt;function custom_f1_score at 0x7f47f3478720&gt;,\n",
       "              feature_types=None, gamma=None, grow_policy=None,\n",
       "              importance_type=None, interaction_constraints=None,\n",
       "              learning_rate=0.0373810550675382, max_bin=None,\n",
       "              max_cat_threshold=None, max_cat_to_onehot=None,\n",
       "              max_delta_step=None, max_depth=15, max_leaves=None,\n",
       "              min_child_weight=1, missing=nan, monotone_constraints=None,\n",
       "              multi_strategy=None, n_estimators=25, n_jobs=None,\n",
       "              num_parallel_tree=None, objective=&#x27;multi:softprob&#x27;, ...)</pre><b>In a Jupyter environment, please rerun this cell to show the HTML representation or trust the notebook. <br />On GitHub, the HTML representation is unable to render, please try loading this page with nbviewer.org.</b></div><div class=\"sk-container\" hidden><div class=\"sk-item\"><div class=\"sk-estimator fitted sk-toggleable\"><input class=\"sk-toggleable__control sk-hidden--visually\" id=\"sk-estimator-id-1\" type=\"checkbox\" checked><label for=\"sk-estimator-id-1\" class=\"sk-toggleable__label fitted sk-toggleable__label-arrow fitted\">&nbsp;XGBClassifier<span class=\"sk-estimator-doc-link fitted\">i<span>Fitted</span></span></label><div class=\"sk-toggleable__content fitted\"><pre>XGBClassifier(base_score=None, booster=None, callbacks=None,\n",
       "              colsample_bylevel=None, colsample_bynode=0.43698055496318217,\n",
       "              colsample_bytree=None, device=None, early_stopping_rounds=None,\n",
       "              enable_categorical=False,\n",
       "              eval_metric=&lt;function custom_f1_score at 0x7f47f3478720&gt;,\n",
       "              feature_types=None, gamma=None, grow_policy=None,\n",
       "              importance_type=None, interaction_constraints=None,\n",
       "              learning_rate=0.0373810550675382, max_bin=None,\n",
       "              max_cat_threshold=None, max_cat_to_onehot=None,\n",
       "              max_delta_step=None, max_depth=15, max_leaves=None,\n",
       "              min_child_weight=1, missing=nan, monotone_constraints=None,\n",
       "              multi_strategy=None, n_estimators=25, n_jobs=None,\n",
       "              num_parallel_tree=None, objective=&#x27;multi:softprob&#x27;, ...)</pre></div> </div></div></div></div>"
      ],
      "text/plain": [
       "XGBClassifier(base_score=None, booster=None, callbacks=None,\n",
       "              colsample_bylevel=None, colsample_bynode=0.43698055496318217,\n",
       "              colsample_bytree=None, device=None, early_stopping_rounds=None,\n",
       "              enable_categorical=False,\n",
       "              eval_metric=<function custom_f1_score at 0x7f47f3478720>,\n",
       "              feature_types=None, gamma=None, grow_policy=None,\n",
       "              importance_type=None, interaction_constraints=None,\n",
       "              learning_rate=0.0373810550675382, max_bin=None,\n",
       "              max_cat_threshold=None, max_cat_to_onehot=None,\n",
       "              max_delta_step=None, max_depth=15, max_leaves=None,\n",
       "              min_child_weight=1, missing=nan, monotone_constraints=None,\n",
       "              multi_strategy=None, n_estimators=25, n_jobs=None,\n",
       "              num_parallel_tree=None, objective='multi:softprob', ...)"
      ]
     },
     "execution_count": 21,
     "metadata": {},
     "output_type": "execute_result"
    }
   ],
   "source": [
    "n_estimators = int(study.best_trial.user_attrs['best_iteration']*1.2)\n",
    "xgb = xgboost.XGBClassifier(\n",
    "        eval_metric=eval_metric,\n",
    "        n_estimators=n_estimators,\n",
    "        **study.best_trial.params\n",
    "    )\n",
    "xgb.fit(\n",
    "    ssp.vstack((X_train, X_val)), \n",
    "    np.concatenate((y_train_enc, y_val_enc)),\n",
    "    verbose=1,\n",
    ")"
   ]
  },
  {
   "cell_type": "code",
   "execution_count": 22,
   "id": "c1982999",
   "metadata": {
    "execution": {
     "iopub.execute_input": "2025-05-15T16:15:59.197677Z",
     "iopub.status.busy": "2025-05-15T16:15:59.197337Z",
     "iopub.status.idle": "2025-05-15T16:15:59.212473Z",
     "shell.execute_reply": "2025-05-15T16:15:59.212035Z"
    },
    "papermill": {
     "duration": 0.025496,
     "end_time": "2025-05-15T16:15:59.213525",
     "exception": false,
     "start_time": "2025-05-15T16:15:59.188029",
     "status": "completed"
    },
    "tags": []
   },
   "outputs": [
    {
     "data": {
      "text/plain": [
       "['/scratch_isilon/groups/singlecell/shared/projects/Inflammation-PBMCs-Atlas/03_downstream_analysis/08_gene_importance/xgboost_external_validation/xgboost_TopN_genes/results_20/best_model/Plasma_17_2_xgb.json']"
      ]
     },
     "execution_count": 22,
     "metadata": {},
     "output_type": "execute_result"
    }
   ],
   "source": [
    "out_dir = here(f'03_downstream_analysis/08_gene_importance/xgboost_external_validation/xgboost_TopN_genes/results_{N_GENES}/best_model')\n",
    "\n",
    "if not os.path.exists(out_dir):\n",
    "    os.makedirs(out_dir)\n",
    "    \n",
    "joblib.dump(xgb, os.path.join(out_dir, f'{CELL_TYPE}_{SEED}_{TEST_SPLIT_IDX}_xgb.json'))"
   ]
  },
  {
   "cell_type": "code",
   "execution_count": 23,
   "id": "c12dd626",
   "metadata": {
    "execution": {
     "iopub.execute_input": "2025-05-15T16:15:59.234340Z",
     "iopub.status.busy": "2025-05-15T16:15:59.233861Z",
     "iopub.status.idle": "2025-05-15T16:15:59.242579Z",
     "shell.execute_reply": "2025-05-15T16:15:59.242160Z"
    },
    "papermill": {
     "duration": 0.020349,
     "end_time": "2025-05-15T16:15:59.243851",
     "exception": false,
     "start_time": "2025-05-15T16:15:59.223502",
     "status": "completed"
    },
    "tags": []
   },
   "outputs": [],
   "source": [
    "df_pred_test = pd.DataFrame(dict(\n",
    "    cell_id=train_adata.obs.iloc[test_idxs].index.values,\n",
    "    y_true=y_test, \n",
    "    y_true_code=y_test_enc, \n",
    "    y_pred=xgb.predict(X_test))).set_index('cell_id')"
   ]
  },
  {
   "cell_type": "code",
   "execution_count": 24,
   "id": "f72219dd",
   "metadata": {
    "execution": {
     "iopub.execute_input": "2025-05-15T16:15:59.264179Z",
     "iopub.status.busy": "2025-05-15T16:15:59.263570Z",
     "iopub.status.idle": "2025-05-15T16:15:59.277155Z",
     "shell.execute_reply": "2025-05-15T16:15:59.276717Z"
    },
    "papermill": {
     "duration": 0.025051,
     "end_time": "2025-05-15T16:15:59.278339",
     "exception": false,
     "start_time": "2025-05-15T16:15:59.253288",
     "status": "completed"
    },
    "tags": []
   },
   "outputs": [],
   "source": [
    "out_dir = here(f'03_downstream_analysis/08_gene_importance/xgboost_external_validation/xgboost_TopN_genes/results_{N_GENES}/predictions')\n",
    "\n",
    "if not os.path.exists(out_dir):\n",
    "    os.makedirs(out_dir)\n",
    "    \n",
    "df_pred_test.to_csv(os.path.join(out_dir, f'{CELL_TYPE}_{SEED}_{TEST_SPLIT_IDX}_pred_test.zip'))"
   ]
  },
  {
   "cell_type": "code",
   "execution_count": 25,
   "id": "26053efd",
   "metadata": {
    "execution": {
     "iopub.execute_input": "2025-05-15T16:15:59.297134Z",
     "iopub.status.busy": "2025-05-15T16:15:59.296720Z",
     "iopub.status.idle": "2025-05-15T16:15:59.303265Z",
     "shell.execute_reply": "2025-05-15T16:15:59.302867Z"
    },
    "papermill": {
     "duration": 0.016816,
     "end_time": "2025-05-15T16:15:59.304242",
     "exception": false,
     "start_time": "2025-05-15T16:15:59.287426",
     "status": "completed"
    },
    "tags": []
   },
   "outputs": [],
   "source": [
    "metrics_dict = dict(\n",
    "    BAS=balanced_accuracy_score(y_true=df_pred_test.y_true_code, y_pred=df_pred_test.y_pred), WF1=f1_score(y_true=df_pred_test.y_true_code, y_pred=df_pred_test.y_pred,average='weighted'))"
   ]
  },
  {
   "cell_type": "code",
   "execution_count": 26,
   "id": "94beda8e",
   "metadata": {
    "execution": {
     "iopub.execute_input": "2025-05-15T16:15:59.325747Z",
     "iopub.status.busy": "2025-05-15T16:15:59.325305Z",
     "iopub.status.idle": "2025-05-15T16:15:59.328896Z",
     "shell.execute_reply": "2025-05-15T16:15:59.328588Z"
    },
    "papermill": {
     "duration": 0.015233,
     "end_time": "2025-05-15T16:15:59.329756",
     "exception": false,
     "start_time": "2025-05-15T16:15:59.314523",
     "status": "completed"
    },
    "tags": []
   },
   "outputs": [
    {
     "data": {
      "text/plain": [
       "{'BAS': 0.24725274725274723, 'WF1': 0.422951362363127}"
      ]
     },
     "execution_count": 26,
     "metadata": {},
     "output_type": "execute_result"
    }
   ],
   "source": [
    "metrics_dict"
   ]
  },
  {
   "cell_type": "code",
   "execution_count": 27,
   "id": "0b9b842c",
   "metadata": {
    "execution": {
     "iopub.execute_input": "2025-05-15T16:15:59.350311Z",
     "iopub.status.busy": "2025-05-15T16:15:59.349860Z",
     "iopub.status.idle": "2025-05-15T16:15:59.359826Z",
     "shell.execute_reply": "2025-05-15T16:15:59.359473Z"
    },
    "papermill": {
     "duration": 0.021243,
     "end_time": "2025-05-15T16:15:59.360732",
     "exception": false,
     "start_time": "2025-05-15T16:15:59.339489",
     "status": "completed"
    },
    "tags": []
   },
   "outputs": [
    {
     "data": {
      "text/html": [
       "<div>\n",
       "<style scoped>\n",
       "    .dataframe tbody tr th:only-of-type {\n",
       "        vertical-align: middle;\n",
       "    }\n",
       "\n",
       "    .dataframe tbody tr th {\n",
       "        vertical-align: top;\n",
       "    }\n",
       "\n",
       "    .dataframe thead th {\n",
       "        text-align: right;\n",
       "    }\n",
       "</style>\n",
       "<table border=\"1\" class=\"dataframe\">\n",
       "  <thead>\n",
       "    <tr style=\"text-align: right;\">\n",
       "      <th></th>\n",
       "      <th>BAS</th>\n",
       "      <th>WF1</th>\n",
       "      <th>split_idx</th>\n",
       "      <th>gene_set_seed</th>\n",
       "      <th>cell_type</th>\n",
       "    </tr>\n",
       "  </thead>\n",
       "  <tbody>\n",
       "    <tr>\n",
       "      <th>0</th>\n",
       "      <td>0.247253</td>\n",
       "      <td>0.422951</td>\n",
       "      <td>2</td>\n",
       "      <td>17</td>\n",
       "      <td>Plasma</td>\n",
       "    </tr>\n",
       "  </tbody>\n",
       "</table>\n",
       "</div>"
      ],
      "text/plain": [
       "        BAS       WF1  split_idx  gene_set_seed cell_type\n",
       "0  0.247253  0.422951          2             17    Plasma"
      ]
     },
     "execution_count": 27,
     "metadata": {},
     "output_type": "execute_result"
    }
   ],
   "source": [
    "metrics_df = pd.DataFrame.from_dict([metrics_dict]).assign(split_idx=TEST_SPLIT_IDX, gene_set_seed=SEED, cell_type=CELL_TYPE)\n",
    "metrics_df"
   ]
  },
  {
   "cell_type": "code",
   "execution_count": 28,
   "id": "024f921d",
   "metadata": {
    "execution": {
     "iopub.execute_input": "2025-05-15T16:15:59.381370Z",
     "iopub.status.busy": "2025-05-15T16:15:59.380869Z",
     "iopub.status.idle": "2025-05-15T16:15:59.389809Z",
     "shell.execute_reply": "2025-05-15T16:15:59.389451Z"
    },
    "papermill": {
     "duration": 0.020432,
     "end_time": "2025-05-15T16:15:59.390738",
     "exception": false,
     "start_time": "2025-05-15T16:15:59.370306",
     "status": "completed"
    },
    "tags": []
   },
   "outputs": [],
   "source": [
    "out_dir = here(f'03_downstream_analysis/08_gene_importance/xgboost_external_validation/xgboost_TopN_genes/results_{N_GENES}/metrics')\n",
    "\n",
    "if not os.path.exists(out_dir):\n",
    "    os.makedirs(out_dir)\n",
    "    \n",
    "metrics_df.to_csv(os.path.join(out_dir, f'{CELL_TYPE}_{SEED}_{TEST_SPLIT_IDX}_metrics.zip'))"
   ]
  }
 ],
 "metadata": {
  "kernelspec": {
   "display_name": "Python 3 (ipykernel)",
   "language": "python",
   "name": "python3"
  },
  "language_info": {
   "codemirror_mode": {
    "name": "ipython",
    "version": 3
   },
   "file_extension": ".py",
   "mimetype": "text/x-python",
   "name": "python",
   "nbconvert_exporter": "python",
   "pygments_lexer": "ipython3",
   "version": "3.12.5"
  },
  "papermill": {
   "default_parameters": {},
   "duration": 14.051591,
   "end_time": "2025-05-15T16:16:00.116387",
   "environment_variables": {},
   "exception": null,
   "input_path": "02_xgboost_fitting_external_20genes.ipynb",
   "output_path": "results_20/executed_notebooks/xgboost_fitting_external_CT_Plasma_GS_17_seed2.ipynb",
   "parameters": {
    "CELL_TYPE": "Plasma",
    "SEED": 17,
    "TEST_SPLIT_IDX": 2
   },
   "start_time": "2025-05-15T16:15:46.064796",
   "version": "2.6.0"
  }
 },
 "nbformat": 4,
 "nbformat_minor": 5
}