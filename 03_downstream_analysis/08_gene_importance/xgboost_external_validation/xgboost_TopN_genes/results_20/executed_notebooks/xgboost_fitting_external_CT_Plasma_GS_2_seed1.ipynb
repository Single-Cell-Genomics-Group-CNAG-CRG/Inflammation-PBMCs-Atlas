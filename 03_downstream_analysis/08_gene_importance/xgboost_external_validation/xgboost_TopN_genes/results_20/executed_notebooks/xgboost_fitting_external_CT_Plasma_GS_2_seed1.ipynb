{
 "cells": [
  {
   "cell_type": "code",
   "execution_count": 1,
   "id": "48621778",
   "metadata": {
    "editable": true,
    "execution": {
     "iopub.execute_input": "2025-05-15T16:15:25.804368Z",
     "iopub.status.busy": "2025-05-15T16:15:25.804013Z",
     "iopub.status.idle": "2025-05-15T16:15:25.807664Z",
     "shell.execute_reply": "2025-05-15T16:15:25.807272Z"
    },
    "papermill": {
     "duration": 0.013269,
     "end_time": "2025-05-15T16:15:25.808693",
     "exception": false,
     "start_time": "2025-05-15T16:15:25.795424",
     "status": "completed"
    },
    "slideshow": {
     "slide_type": ""
    },
    "tags": [
     "parameters"
    ]
   },
   "outputs": [],
   "source": [
    "CELL_TYPE = 'pDC'\n",
    "N_GENES: int = 20\n",
    "SEED = 'shap_studyID' #'disease_NOstudy' 'study_NOdisease' or 'int' or 'shap_studyID'\n",
    "TEST_SPLIT_IDX: int = 1 #[0,4]"
   ]
  },
  {
   "cell_type": "code",
   "execution_count": 2,
   "id": "5b1808be",
   "metadata": {
    "execution": {
     "iopub.execute_input": "2025-05-15T16:15:25.821903Z",
     "iopub.status.busy": "2025-05-15T16:15:25.821534Z",
     "iopub.status.idle": "2025-05-15T16:15:25.824338Z",
     "shell.execute_reply": "2025-05-15T16:15:25.823974Z"
    },
    "papermill": {
     "duration": 0.010367,
     "end_time": "2025-05-15T16:15:25.825272",
     "exception": false,
     "start_time": "2025-05-15T16:15:25.814905",
     "status": "completed"
    },
    "tags": [
     "injected-parameters"
    ]
   },
   "outputs": [],
   "source": [
    "# Parameters\n",
    "CELL_TYPE = \"Plasma\"\n",
    "SEED = 2\n",
    "TEST_SPLIT_IDX = 1\n"
   ]
  },
  {
   "cell_type": "code",
   "execution_count": 3,
   "id": "41b49e2a",
   "metadata": {
    "execution": {
     "iopub.execute_input": "2025-05-15T16:15:25.837782Z",
     "iopub.status.busy": "2025-05-15T16:15:25.837156Z",
     "iopub.status.idle": "2025-05-15T16:15:25.840003Z",
     "shell.execute_reply": "2025-05-15T16:15:25.839650Z"
    },
    "papermill": {
     "duration": 0.010222,
     "end_time": "2025-05-15T16:15:25.840937",
     "exception": false,
     "start_time": "2025-05-15T16:15:25.830715",
     "status": "completed"
    },
    "tags": []
   },
   "outputs": [],
   "source": [
    "N_SPLITS: int = 5\n",
    "N_TRIALS: int = 50"
   ]
  },
  {
   "cell_type": "code",
   "execution_count": 4,
   "id": "9ea226b1",
   "metadata": {
    "execution": {
     "iopub.execute_input": "2025-05-15T16:15:25.855294Z",
     "iopub.status.busy": "2025-05-15T16:15:25.854985Z",
     "iopub.status.idle": "2025-05-15T16:15:27.403862Z",
     "shell.execute_reply": "2025-05-15T16:15:27.403271Z"
    },
    "papermill": {
     "duration": 1.558699,
     "end_time": "2025-05-15T16:15:27.405521",
     "exception": false,
     "start_time": "2025-05-15T16:15:25.846822",
     "status": "completed"
    },
    "tags": []
   },
   "outputs": [],
   "source": [
    "import os\n",
    "import sys\n",
    "from pyprojroot.here import here\n",
    "import pandas as pd\n",
    "import anndata as ad\n",
    "import numpy as np\n",
    "import math\n",
    "from sklearn.model_selection import StratifiedGroupKFold\n",
    "from sklearn.preprocessing import LabelEncoder\n",
    "from sklearn.metrics import f1_score\n",
    "import matplotlib.pyplot as plt\n",
    "import seaborn as sns\n",
    "from itertools import product\n",
    "from sklearn.metrics import balanced_accuracy_score, f1_score\n",
    "import optuna\n",
    "\n",
    "import joblib\n",
    "import pickle\n",
    "import datetime\n",
    "\n",
    "import collections\n",
    "\n",
    "import xgboost\n",
    "from sklearn.preprocessing import LabelEncoder\n",
    "\n",
    "import scipy.sparse as ssp\n",
    "import joblib\n",
    "\n",
    "from dotenv import load_dotenv"
   ]
  },
  {
   "cell_type": "code",
   "execution_count": 5,
   "id": "f77bc0b0",
   "metadata": {
    "execution": {
     "iopub.execute_input": "2025-05-15T16:15:27.418787Z",
     "iopub.status.busy": "2025-05-15T16:15:27.418380Z",
     "iopub.status.idle": "2025-05-15T16:15:27.424825Z",
     "shell.execute_reply": "2025-05-15T16:15:27.424477Z"
    },
    "papermill": {
     "duration": 0.013796,
     "end_time": "2025-05-15T16:15:27.425762",
     "exception": false,
     "start_time": "2025-05-15T16:15:27.411966",
     "status": "completed"
    },
    "tags": []
   },
   "outputs": [
    {
     "data": {
      "text/plain": [
       "True"
      ]
     },
     "execution_count": 5,
     "metadata": {},
     "output_type": "execute_result"
    }
   ],
   "source": [
    "load_dotenv()"
   ]
  },
  {
   "cell_type": "markdown",
   "id": "ff721c0b",
   "metadata": {
    "papermill": {
     "duration": 0.005252,
     "end_time": "2025-05-15T16:15:27.436407",
     "exception": false,
     "start_time": "2025-05-15T16:15:27.431155",
     "status": "completed"
    },
    "tags": []
   },
   "source": [
    "# LOAD DATASET"
   ]
  },
  {
   "cell_type": "code",
   "execution_count": 6,
   "id": "0c9885fe",
   "metadata": {
    "execution": {
     "iopub.execute_input": "2025-05-15T16:15:27.448531Z",
     "iopub.status.busy": "2025-05-15T16:15:27.448009Z",
     "iopub.status.idle": "2025-05-15T16:15:27.493687Z",
     "shell.execute_reply": "2025-05-15T16:15:27.493220Z"
    },
    "papermill": {
     "duration": 0.05334,
     "end_time": "2025-05-15T16:15:27.495205",
     "exception": false,
     "start_time": "2025-05-15T16:15:27.441865",
     "status": "completed"
    },
    "tags": []
   },
   "outputs": [],
   "source": [
    "train_adata = ad.read_h5ad(\n",
    "    here(f'03_downstream_analysis/08_gene_importance/xgboost_external_validation/xgboost_TopN_genes/data_cellTypes/EXTERNAL_{CELL_TYPE}.filtered.log1p.h5ad')\n",
    ")"
   ]
  },
  {
   "cell_type": "code",
   "execution_count": 7,
   "id": "933a5ca6",
   "metadata": {
    "execution": {
     "iopub.execute_input": "2025-05-15T16:15:27.509416Z",
     "iopub.status.busy": "2025-05-15T16:15:27.509028Z",
     "iopub.status.idle": "2025-05-15T16:15:27.520757Z",
     "shell.execute_reply": "2025-05-15T16:15:27.520336Z"
    },
    "papermill": {
     "duration": 0.020195,
     "end_time": "2025-05-15T16:15:27.521844",
     "exception": false,
     "start_time": "2025-05-15T16:15:27.501649",
     "status": "completed"
    },
    "tags": []
   },
   "outputs": [
    {
     "name": "stdout",
     "output_type": "stream",
     "text": [
      "['ENSG00000138778' 'ENSG00000104894' 'ENSG00000128340' 'ENSG00000143761'\n",
      " 'ENSG00000129084' 'ENSG00000136156' 'ENSG00000143933' 'ENSG00000048462'\n",
      " 'ENSG00000121858' 'ENSG00000153064' 'ENSG00000165280' 'ENSG00000156587'\n",
      " 'ENSG00000235162' 'ENSG00000175482' 'ENSG00000184752' 'ENSG00000134539'\n",
      " 'ENSG00000103187' 'ENSG00000175104' 'ENSG00000142669' 'ENSG00000138378'\n",
      " 'ENSG00000028137' 'ENSG00000177556' 'ENSG00000164104' 'ENSG00000096996'\n",
      " 'ENSG00000172543' 'ENSG00000079805' 'ENSG00000132510' 'ENSG00000206503'\n",
      " 'ENSG00000130830' 'ENSG00000075234' 'ENSG00000185436' 'ENSG00000147168'\n",
      " 'ENSG00000116815' 'ENSG00000105851' 'ENSG00000104870' 'ENSG00000121774'\n",
      " 'ENSG00000117450' 'ENSG00000142166' 'ENSG00000145287' 'ENSG00000112561'\n",
      " 'ENSG00000152495' 'ENSG00000109861' 'ENSG00000137441' 'ENSG00000227507'\n",
      " 'ENSG00000160213' 'ENSG00000171791' 'ENSG00000133639' 'ENSG00000175203'\n",
      " 'ENSG00000117523' 'ENSG00000155380' 'ENSG00000241837' 'ENSG00000135968'\n",
      " 'ENSG00000077150' 'ENSG00000158869' 'ENSG00000103490' 'ENSG00000196961'\n",
      " 'ENSG00000110077' 'ENSG00000121807' 'ENSG00000231925' 'ENSG00000146457'\n",
      " 'ENSG00000197956' 'ENSG00000105221' 'ENSG00000205542' 'ENSG00000173812'\n",
      " 'ENSG00000277632' 'ENSG00000131143' 'ENSG00000026103' 'ENSG00000107485'\n",
      " 'ENSG00000176986' 'ENSG00000079616' 'ENSG00000134352' 'ENSG00000182287'\n",
      " 'ENSG00000117318' 'ENSG00000167552' 'ENSG00000170581' 'ENSG00000197102'\n",
      " 'ENSG00000118503' 'ENSG00000115073' 'ENSG00000145912' 'ENSG00000105374'\n",
      " 'ENSG00000228474' 'ENSG00000141526' 'ENSG00000149311' 'ENSG00000125347'\n",
      " 'ENSG00000104921' 'ENSG00000111348' 'ENSG00000136003' 'ENSG00000100485'\n",
      " 'ENSG00000130522' 'ENSG00000198846' 'ENSG00000133872' 'ENSG00000171700'\n",
      " 'ENSG00000033800' 'ENSG00000168811' 'ENSG00000100934' 'ENSG00000168394'\n",
      " 'ENSG00000100911' 'ENSG00000132475' 'ENSG00000143543' 'ENSG00000160075'\n",
      " 'ENSG00000078596' 'ENSG00000134470' 'ENSG00000139318' 'ENSG00000143119'\n",
      " 'ENSG00000113441' 'ENSG00000163191' 'ENSG00000161800']\n"
     ]
    }
   ],
   "source": [
    "if SEED != 'all':\n",
    "    gene_subset = np.load(here(f'03_downstream_analysis/08_gene_importance/xgboost_external_validation/shap_gene_selection/gene_subsets_{N_GENES}/{CELL_TYPE}_{SEED}.npy'), allow_pickle=True)\n",
    "    train_adata = train_adata[:,gene_subset]\n",
    "    print(gene_subset)\n",
    "elif SEED == 'all':\n",
    "    print('Using all genes')\n",
    "else:\n",
    "    raise ValueError()"
   ]
  },
  {
   "cell_type": "code",
   "execution_count": 8,
   "id": "26897419",
   "metadata": {
    "execution": {
     "iopub.execute_input": "2025-05-15T16:15:27.536140Z",
     "iopub.status.busy": "2025-05-15T16:15:27.535792Z",
     "iopub.status.idle": "2025-05-15T16:15:27.539579Z",
     "shell.execute_reply": "2025-05-15T16:15:27.539207Z"
    },
    "papermill": {
     "duration": 0.012185,
     "end_time": "2025-05-15T16:15:27.540588",
     "exception": false,
     "start_time": "2025-05-15T16:15:27.528403",
     "status": "completed"
    },
    "tags": []
   },
   "outputs": [
    {
     "data": {
      "text/plain": [
       "(542, 107)"
      ]
     },
     "execution_count": 8,
     "metadata": {},
     "output_type": "execute_result"
    }
   ],
   "source": [
    "train_adata.shape"
   ]
  },
  {
   "cell_type": "code",
   "execution_count": 9,
   "id": "daec8075",
   "metadata": {
    "execution": {
     "iopub.execute_input": "2025-05-15T16:15:27.554730Z",
     "iopub.status.busy": "2025-05-15T16:15:27.554428Z",
     "iopub.status.idle": "2025-05-15T16:15:27.559516Z",
     "shell.execute_reply": "2025-05-15T16:15:27.559119Z"
    },
    "papermill": {
     "duration": 0.013768,
     "end_time": "2025-05-15T16:15:27.561122",
     "exception": false,
     "start_time": "2025-05-15T16:15:27.547354",
     "status": "completed"
    },
    "tags": []
   },
   "outputs": [
    {
     "data": {
      "text/plain": [
       "['RA', 'COVID', 'healthy', 'HIV', 'cirrhosis', 'CD', 'SLE', 'sepsis']\n",
       "Categories (8, object): ['CD', 'COVID', 'HIV', 'RA', 'SLE', 'cirrhosis', 'healthy', 'sepsis']"
      ]
     },
     "execution_count": 9,
     "metadata": {},
     "output_type": "execute_result"
    }
   ],
   "source": [
    "train_adata.obs.disease.unique()"
   ]
  },
  {
   "cell_type": "code",
   "execution_count": 10,
   "id": "c05d292a",
   "metadata": {
    "execution": {
     "iopub.execute_input": "2025-05-15T16:15:27.575332Z",
     "iopub.status.busy": "2025-05-15T16:15:27.574849Z",
     "iopub.status.idle": "2025-05-15T16:15:27.580209Z",
     "shell.execute_reply": "2025-05-15T16:15:27.579843Z"
    },
    "papermill": {
     "duration": 0.013593,
     "end_time": "2025-05-15T16:15:27.581186",
     "exception": false,
     "start_time": "2025-05-15T16:15:27.567593",
     "status": "completed"
    },
    "tags": []
   },
   "outputs": [
    {
     "data": {
      "text/plain": [
       "['SCGT00val_I0364_T0', 'SCGT00val_I036019_T0', 'SCGT00val_I036028_T0', 'SCGT00val_I036024_T0', 'SCGT00val_I036016_T0', ..., '10XGenomics_10XHC2_T0', '10XGenomics_10XHC3_T0', '10XGenomics_10XHC5_T0', '10XGenomics_10XHC7_T0', '10XGenomics_10XHC8_T0']\n",
       "Length: 74\n",
       "Categories (74, object): ['10XGenomics_10XHC1_T0', '10XGenomics_10XHC2_T0', '10XGenomics_10XHC3_T0', '10XGenomics_10XHC4_T0', ..., 'Savage2021_BRISL6_T0', 'Savage2021_BRISL7_T0', 'Savage2021_PIDA_T0', 'Savage2021_PIDB_T0']"
      ]
     },
     "execution_count": 10,
     "metadata": {},
     "output_type": "execute_result"
    }
   ],
   "source": [
    "train_adata.obs.sampleID.unique()"
   ]
  },
  {
   "cell_type": "code",
   "execution_count": 11,
   "id": "cb364c9a",
   "metadata": {
    "execution": {
     "iopub.execute_input": "2025-05-15T16:15:27.614391Z",
     "iopub.status.busy": "2025-05-15T16:15:27.613867Z",
     "iopub.status.idle": "2025-05-15T16:15:27.649255Z",
     "shell.execute_reply": "2025-05-15T16:15:27.648738Z"
    },
    "papermill": {
     "duration": 0.062953,
     "end_time": "2025-05-15T16:15:27.650270",
     "exception": false,
     "start_time": "2025-05-15T16:15:27.587317",
     "status": "completed"
    },
    "tags": []
   },
   "outputs": [],
   "source": [
    "all_idxs = np.arange(train_adata.obs.shape[0])\n",
    "left_out_splits = [s[1] for s in StratifiedGroupKFold(n_splits=N_SPLITS).split(all_idxs, train_adata.obs.disease, train_adata.obs.sampleID)]"
   ]
  },
  {
   "cell_type": "code",
   "execution_count": 12,
   "id": "520a0c9c",
   "metadata": {
    "execution": {
     "iopub.execute_input": "2025-05-15T16:15:27.664603Z",
     "iopub.status.busy": "2025-05-15T16:15:27.663991Z",
     "iopub.status.idle": "2025-05-15T16:15:27.667826Z",
     "shell.execute_reply": "2025-05-15T16:15:27.667492Z"
    },
    "papermill": {
     "duration": 0.011386,
     "end_time": "2025-05-15T16:15:27.668749",
     "exception": false,
     "start_time": "2025-05-15T16:15:27.657363",
     "status": "completed"
    },
    "tags": []
   },
   "outputs": [
    {
     "data": {
      "text/plain": [
       "([0, 3, 4], 2, 1)"
      ]
     },
     "execution_count": 12,
     "metadata": {},
     "output_type": "execute_result"
    }
   ],
   "source": [
    "TRAIN_SPLIT_IDXS = [0,1,2,3,4]\n",
    "VAL_SPLIT_IDX = (TEST_SPLIT_IDX + 1) % 5\n",
    "TRAIN_SPLIT_IDXS.remove(TEST_SPLIT_IDX)\n",
    "TRAIN_SPLIT_IDXS.remove(VAL_SPLIT_IDX)\n",
    "TRAIN_SPLIT_IDXS, VAL_SPLIT_IDX, TEST_SPLIT_IDX"
   ]
  },
  {
   "cell_type": "code",
   "execution_count": 13,
   "id": "05cd054c",
   "metadata": {
    "execution": {
     "iopub.execute_input": "2025-05-15T16:15:27.681348Z",
     "iopub.status.busy": "2025-05-15T16:15:27.681122Z",
     "iopub.status.idle": "2025-05-15T16:15:27.683983Z",
     "shell.execute_reply": "2025-05-15T16:15:27.683664Z"
    },
    "papermill": {
     "duration": 0.010286,
     "end_time": "2025-05-15T16:15:27.684871",
     "exception": false,
     "start_time": "2025-05-15T16:15:27.674585",
     "status": "completed"
    },
    "tags": []
   },
   "outputs": [],
   "source": [
    "train_idxs = np.concatenate([left_out_splits[idx] for idx in TRAIN_SPLIT_IDXS])\n",
    "val_idxs = left_out_splits[VAL_SPLIT_IDX]\n",
    "test_idxs = left_out_splits[TEST_SPLIT_IDX]"
   ]
  },
  {
   "cell_type": "markdown",
   "id": "7a769a91",
   "metadata": {
    "papermill": {
     "duration": 0.005941,
     "end_time": "2025-05-15T16:15:27.696468",
     "exception": false,
     "start_time": "2025-05-15T16:15:27.690527",
     "status": "completed"
    },
    "tags": []
   },
   "source": [
    "### SUBSET DATASET INTO TRAIN/TEST/VAL SPLITS"
   ]
  },
  {
   "cell_type": "code",
   "execution_count": 14,
   "id": "328de8b2",
   "metadata": {
    "execution": {
     "iopub.execute_input": "2025-05-15T16:15:27.723182Z",
     "iopub.status.busy": "2025-05-15T16:15:27.722967Z",
     "iopub.status.idle": "2025-05-15T16:15:27.729894Z",
     "shell.execute_reply": "2025-05-15T16:15:27.729569Z"
    },
    "papermill": {
     "duration": 0.014317,
     "end_time": "2025-05-15T16:15:27.730781",
     "exception": false,
     "start_time": "2025-05-15T16:15:27.716464",
     "status": "completed"
    },
    "tags": []
   },
   "outputs": [
    {
     "data": {
      "text/plain": [
       "((333, 107), (107, 107), (102, 107))"
      ]
     },
     "execution_count": 14,
     "metadata": {},
     "output_type": "execute_result"
    }
   ],
   "source": [
    "X_train = train_adata.X[train_idxs]\n",
    "X_test = train_adata.X[test_idxs]\n",
    "X_val = train_adata.X[val_idxs]\n",
    "X_train.shape, X_test.shape, X_val.shape"
   ]
  },
  {
   "cell_type": "code",
   "execution_count": 15,
   "id": "2bc12d16",
   "metadata": {
    "execution": {
     "iopub.execute_input": "2025-05-15T16:15:27.744618Z",
     "iopub.status.busy": "2025-05-15T16:15:27.744295Z",
     "iopub.status.idle": "2025-05-15T16:15:27.749538Z",
     "shell.execute_reply": "2025-05-15T16:15:27.749197Z"
    },
    "papermill": {
     "duration": 0.013682,
     "end_time": "2025-05-15T16:15:27.750402",
     "exception": false,
     "start_time": "2025-05-15T16:15:27.736720",
     "status": "completed"
    },
    "tags": []
   },
   "outputs": [
    {
     "data": {
      "text/plain": [
       "((333,), (107,), (102,))"
      ]
     },
     "execution_count": 15,
     "metadata": {},
     "output_type": "execute_result"
    }
   ],
   "source": [
    "y_train = train_adata.obs.iloc[train_idxs].disease.values.astype(str)\n",
    "y_test = train_adata.obs.iloc[test_idxs].disease.values.astype(str)\n",
    "y_val = train_adata.obs.iloc[val_idxs].disease.values.astype(str)\n",
    "y_train.shape, y_test.shape, y_val.shape"
   ]
  },
  {
   "cell_type": "code",
   "execution_count": 16,
   "id": "cce65b58",
   "metadata": {
    "execution": {
     "iopub.execute_input": "2025-05-15T16:15:27.763013Z",
     "iopub.status.busy": "2025-05-15T16:15:27.762702Z",
     "iopub.status.idle": "2025-05-15T16:15:27.765828Z",
     "shell.execute_reply": "2025-05-15T16:15:27.765504Z"
    },
    "papermill": {
     "duration": 0.010391,
     "end_time": "2025-05-15T16:15:27.766679",
     "exception": false,
     "start_time": "2025-05-15T16:15:27.756288",
     "status": "completed"
    },
    "tags": []
   },
   "outputs": [],
   "source": [
    "lenc = LabelEncoder()\n",
    "y_train_enc = lenc.fit_transform(y_train)\n",
    "y_val_enc = lenc.transform(y_val)\n",
    "y_test_enc = lenc.transform(y_test)"
   ]
  },
  {
   "cell_type": "markdown",
   "id": "e2091898",
   "metadata": {
    "papermill": {
     "duration": 0.006554,
     "end_time": "2025-05-15T16:15:27.780758",
     "exception": false,
     "start_time": "2025-05-15T16:15:27.774204",
     "status": "completed"
    },
    "tags": []
   },
   "source": [
    "### GENERATE F1 "
   ]
  },
  {
   "cell_type": "code",
   "execution_count": 17,
   "id": "b56333d1",
   "metadata": {
    "execution": {
     "iopub.execute_input": "2025-05-15T16:15:27.809338Z",
     "iopub.status.busy": "2025-05-15T16:15:27.809150Z",
     "iopub.status.idle": "2025-05-15T16:15:27.811522Z",
     "shell.execute_reply": "2025-05-15T16:15:27.811182Z"
    },
    "papermill": {
     "duration": 0.024051,
     "end_time": "2025-05-15T16:15:27.812495",
     "exception": false,
     "start_time": "2025-05-15T16:15:27.788444",
     "status": "completed"
    },
    "tags": []
   },
   "outputs": [],
   "source": [
    "def custom_f1_score(y_true, y_pred):\n",
    "    return -f1_score(y_true, y_pred.argmax(1), average='weighted')"
   ]
  },
  {
   "cell_type": "code",
   "execution_count": 18,
   "id": "a23cbb35",
   "metadata": {
    "execution": {
     "iopub.execute_input": "2025-05-15T16:15:27.875959Z",
     "iopub.status.busy": "2025-05-15T16:15:27.875590Z",
     "iopub.status.idle": "2025-05-15T16:15:27.880416Z",
     "shell.execute_reply": "2025-05-15T16:15:27.879959Z"
    },
    "papermill": {
     "duration": 0.014152,
     "end_time": "2025-05-15T16:15:27.881420",
     "exception": false,
     "start_time": "2025-05-15T16:15:27.867268",
     "status": "completed"
    },
    "tags": []
   },
   "outputs": [],
   "source": [
    "eval_metric=custom_f1_score\n",
    "eval_metric_name='custom_f1_score'\n",
    "\n",
    "def objective(trial):\n",
    "    params = {\n",
    "        'n_estimators': 1500,\n",
    "        'max_depth': trial.suggest_int('max_depth', 3, 20),\n",
    "        'min_child_weight': trial.suggest_int('min_child_weight', 1, 250),\n",
    "        'subsample': trial.suggest_float('subsample', 0.1, 1.0),\n",
    "        'colsample_bynode': trial.suggest_float('colsample_bynode', 0.1, 1.0),\n",
    "        'learning_rate': trial.suggest_float('learning_rate', 1e-3, 5e-1, log=True),\n",
    "    }\n",
    "    pruning_callback = optuna.integration.XGBoostPruningCallback(trial, f'validation_0-{eval_metric_name}')\n",
    "    es_callback = xgboost.callback.EarlyStopping(20, min_delta=0.001)\n",
    "    xgb = xgboost.XGBClassifier(\n",
    "        eval_metric=eval_metric,\n",
    "        callbacks=[pruning_callback, es_callback],\n",
    "        n_jobs=5,\n",
    "        **params\n",
    "    )\n",
    "    xgb.fit(\n",
    "        X_train, \n",
    "        y_train_enc, \n",
    "        verbose=0,\n",
    "        eval_set=[(X_val, y_val_enc)],\n",
    "    )\n",
    "    trial.set_user_attr('best_iteration', xgb.best_iteration)\n",
    "\n",
    "    return xgb.best_score"
   ]
  },
  {
   "cell_type": "code",
   "execution_count": 19,
   "id": "84a58cb1",
   "metadata": {
    "execution": {
     "iopub.execute_input": "2025-05-15T16:15:27.895858Z",
     "iopub.status.busy": "2025-05-15T16:15:27.895466Z",
     "iopub.status.idle": "2025-05-15T16:15:39.117477Z",
     "shell.execute_reply": "2025-05-15T16:15:39.116906Z"
    },
    "papermill": {
     "duration": 11.230357,
     "end_time": "2025-05-15T16:15:39.118777",
     "exception": false,
     "start_time": "2025-05-15T16:15:27.888420",
     "status": "completed"
    },
    "scrolled": true,
    "tags": []
   },
   "outputs": [
    {
     "name": "stderr",
     "output_type": "stream",
     "text": [
      "[I 2025-05-15 18:15:27,897] A new study created in memory with name: no-name-885ebfc4-bf72-4376-80f0-b4e8f7e39382\n"
     ]
    },
    {
     "name": "stderr",
     "output_type": "stream",
     "text": [
      "[I 2025-05-15 18:15:27,973] Trial 0 finished with value: -0.03313 and parameters: {'max_depth': 9, 'min_child_weight': 238, 'subsample': 0.7587945476302645, 'colsample_bynode': 0.6387926357773329, 'learning_rate': 0.0026368755339723046}. Best is trial 0 with value: -0.03313.\n"
     ]
    },
    {
     "name": "stderr",
     "output_type": "stream",
     "text": [
      "[I 2025-05-15 18:15:28,198] Trial 1 finished with value: -0.386983 and parameters: {'max_depth': 5, 'min_child_weight': 15, 'subsample': 0.8795585311974417, 'colsample_bynode': 0.6410035105688879, 'learning_rate': 0.08148293210105287}. Best is trial 1 with value: -0.386983.\n"
     ]
    },
    {
     "name": "stderr",
     "output_type": "stream",
     "text": [
      "[I 2025-05-15 18:15:28,357] Trial 2 finished with value: -0.03313 and parameters: {'max_depth': 3, 'min_child_weight': 243, 'subsample': 0.8491983767203796, 'colsample_bynode': 0.29110519961044856, 'learning_rate': 0.003095566460242371}. Best is trial 1 with value: -0.386983.\n"
     ]
    },
    {
     "name": "stderr",
     "output_type": "stream",
     "text": [
      "[I 2025-05-15 18:15:28,513] Trial 3 finished with value: -0.03313 and parameters: {'max_depth': 6, 'min_child_weight': 77, 'subsample': 0.5722807884690141, 'colsample_bynode': 0.48875051677790415, 'learning_rate': 0.006109683510122491}. Best is trial 1 with value: -0.386983.\n"
     ]
    },
    {
     "name": "stderr",
     "output_type": "stream",
     "text": [
      "[I 2025-05-15 18:15:28,668] Trial 4 finished with value: -0.03313 and parameters: {'max_depth': 14, 'min_child_weight': 35, 'subsample': 0.3629301836816964, 'colsample_bynode': 0.4297256589643226, 'learning_rate': 0.01701841881702917}. Best is trial 1 with value: -0.386983.\n"
     ]
    },
    {
     "name": "stderr",
     "output_type": "stream",
     "text": [
      "[I 2025-05-15 18:15:28,816] Trial 5 finished with value: -0.03313 and parameters: {'max_depth': 17, 'min_child_weight': 50, 'subsample': 0.5628109945722505, 'colsample_bynode': 0.6331731119758383, 'learning_rate': 0.0013346527038305934}. Best is trial 1 with value: -0.386983.\n"
     ]
    },
    {
     "name": "stderr",
     "output_type": "stream",
     "text": [
      "[I 2025-05-15 18:15:28,983] Trial 6 finished with value: -0.03313 and parameters: {'max_depth': 13, 'min_child_weight': 43, 'subsample': 0.1585464336867516, 'colsample_bynode': 0.9539969835279999, 'learning_rate': 0.4038423798071558}. Best is trial 1 with value: -0.386983.\n"
     ]
    },
    {
     "name": "stderr",
     "output_type": "stream",
     "text": [
      "[I 2025-05-15 18:15:29,130] Trial 7 finished with value: -0.03313 and parameters: {'max_depth': 17, 'min_child_weight': 77, 'subsample': 0.1879049026057455, 'colsample_bynode': 0.7158097238609412, 'learning_rate': 0.015415527060141935}. Best is trial 1 with value: -0.386983.\n"
     ]
    },
    {
     "name": "stderr",
     "output_type": "stream",
     "text": [
      "[I 2025-05-15 18:15:29,283] Trial 8 finished with value: -0.03313 and parameters: {'max_depth': 5, 'min_child_weight': 124, 'subsample': 0.13094966900369656, 'colsample_bynode': 0.9183883618709039, 'learning_rate': 0.004993895014755658}. Best is trial 1 with value: -0.386983.\n"
     ]
    },
    {
     "name": "stderr",
     "output_type": "stream",
     "text": [
      "[I 2025-05-15 18:15:29,434] Trial 9 finished with value: -0.03313 and parameters: {'max_depth': 14, 'min_child_weight': 78, 'subsample': 0.5680612190600297, 'colsample_bynode': 0.5920392514089517, 'learning_rate': 0.0031543990308330965}. Best is trial 1 with value: -0.386983.\n"
     ]
    },
    {
     "name": "stderr",
     "output_type": "stream",
     "text": [
      "[I 2025-05-15 18:15:29,850] Trial 10 finished with value: -0.343221 and parameters: {'max_depth': 9, 'min_child_weight': 2, 'subsample': 0.9725833997090791, 'colsample_bynode': 0.11616568805333755, 'learning_rate': 0.17780618353487967}. Best is trial 1 with value: -0.386983.\n"
     ]
    },
    {
     "name": "stderr",
     "output_type": "stream",
     "text": [
      "[I 2025-05-15 18:15:30,171] Trial 11 pruned. Trial was pruned at iteration 23.\n"
     ]
    },
    {
     "name": "stderr",
     "output_type": "stream",
     "text": [
      "[I 2025-05-15 18:15:30,630] Trial 12 finished with value: -0.390175 and parameters: {'max_depth': 9, 'min_child_weight': 3, 'subsample': 0.9754570370311046, 'colsample_bynode': 0.14672783827498995, 'learning_rate': 0.08954997670613858}. Best is trial 12 with value: -0.390175.\n"
     ]
    },
    {
     "name": "stderr",
     "output_type": "stream",
     "text": [
      "[I 2025-05-15 18:15:30,803] Trial 13 finished with value: -0.03313 and parameters: {'max_depth': 6, 'min_child_weight': 173, 'subsample': 0.790863397930712, 'colsample_bynode': 0.8100137258468498, 'learning_rate': 0.05535376435186281}. Best is trial 12 with value: -0.390175.\n"
     ]
    },
    {
     "name": "stderr",
     "output_type": "stream",
     "text": [
      "[I 2025-05-15 18:15:30,979] Trial 14 finished with value: -0.03313 and parameters: {'max_depth': 11, 'min_child_weight': 132, 'subsample': 0.8766519016750652, 'colsample_bynode': 0.3676351706897084, 'learning_rate': 0.049429871639666105}. Best is trial 12 with value: -0.390175.\n"
     ]
    },
    {
     "name": "stderr",
     "output_type": "stream",
     "text": [
      "[I 2025-05-15 18:15:31,537] Trial 15 finished with value: -0.394285 and parameters: {'max_depth': 20, 'min_child_weight': 1, 'subsample': 0.6976571731485348, 'colsample_bynode': 0.2687793682900305, 'learning_rate': 0.05863083689005785}. Best is trial 15 with value: -0.394285.\n"
     ]
    },
    {
     "name": "stderr",
     "output_type": "stream",
     "text": [
      "[I 2025-05-15 18:15:31,710] Trial 16 finished with value: -0.03313 and parameters: {'max_depth': 20, 'min_child_weight': 116, 'subsample': 0.6730263351162008, 'colsample_bynode': 0.25738672826126485, 'learning_rate': 0.0337746987146767}. Best is trial 15 with value: -0.394285.\n"
     ]
    },
    {
     "name": "stderr",
     "output_type": "stream",
     "text": [
      "[I 2025-05-15 18:15:31,870] Trial 17 finished with value: -0.03313 and parameters: {'max_depth': 20, 'min_child_weight': 183, 'subsample': 0.4248339798678333, 'colsample_bynode': 0.22493155379732882, 'learning_rate': 0.267342411467797}. Best is trial 15 with value: -0.394285.\n"
     ]
    },
    {
     "name": "stderr",
     "output_type": "stream",
     "text": [
      "[I 2025-05-15 18:15:32,041] Trial 18 finished with value: -0.166667 and parameters: {'max_depth': 17, 'min_child_weight': 37, 'subsample': 0.6817641213360246, 'colsample_bynode': 0.3648174403986092, 'learning_rate': 0.025464196755557254}. Best is trial 15 with value: -0.394285.\n"
     ]
    },
    {
     "name": "stderr",
     "output_type": "stream",
     "text": [
      "[I 2025-05-15 18:15:32,198] Trial 19 finished with value: -0.03313 and parameters: {'max_depth': 11, 'min_child_weight': 99, 'subsample': 0.44509208197583283, 'colsample_bynode': 0.10989027031939402, 'learning_rate': 0.13096491429523485}. Best is trial 15 with value: -0.394285.\n"
     ]
    },
    {
     "name": "stderr",
     "output_type": "stream",
     "text": [
      "[I 2025-05-15 18:15:32,388] Trial 20 pruned. Trial was pruned at iteration 21.\n"
     ]
    },
    {
     "name": "stderr",
     "output_type": "stream",
     "text": [
      "[I 2025-05-15 18:15:32,681] Trial 21 pruned. Trial was pruned at iteration 21.\n"
     ]
    },
    {
     "name": "stderr",
     "output_type": "stream",
     "text": [
      "[I 2025-05-15 18:15:32,888] Trial 22 finished with value: -0.32002 and parameters: {'max_depth': 5, 'min_child_weight': 23, 'subsample': 0.9229965419086723, 'colsample_bynode': 0.7065234741891823, 'learning_rate': 0.07718745861069894}. Best is trial 15 with value: -0.394285.\n"
     ]
    },
    {
     "name": "stderr",
     "output_type": "stream",
     "text": [
      "[I 2025-05-15 18:15:33,063] Trial 23 finished with value: -0.103554 and parameters: {'max_depth': 7, 'min_child_weight': 60, 'subsample': 0.7944941931802959, 'colsample_bynode': 0.20181962342273274, 'learning_rate': 0.15861539239227854}. Best is trial 15 with value: -0.394285.\n"
     ]
    },
    {
     "name": "stderr",
     "output_type": "stream",
     "text": [
      "[I 2025-05-15 18:15:33,265] Trial 24 finished with value: -0.283858 and parameters: {'max_depth': 12, 'min_child_weight': 23, 'subsample': 0.9993030316698676, 'colsample_bynode': 0.43640712836268825, 'learning_rate': 0.010411200658390636}. Best is trial 15 with value: -0.394285.\n"
     ]
    },
    {
     "name": "stderr",
     "output_type": "stream",
     "text": [
      "[I 2025-05-15 18:15:33,459] Trial 25 finished with value: -0.166667 and parameters: {'max_depth': 15, 'min_child_weight': 61, 'subsample': 0.84713628332757, 'colsample_bynode': 0.8368811542739161, 'learning_rate': 0.03563441108124012}. Best is trial 15 with value: -0.394285.\n"
     ]
    },
    {
     "name": "stderr",
     "output_type": "stream",
     "text": [
      "[I 2025-05-15 18:15:33,650] Trial 26 pruned. Trial was pruned at iteration 21.\n"
     ]
    },
    {
     "name": "stderr",
     "output_type": "stream",
     "text": [
      "[I 2025-05-15 18:15:33,823] Trial 27 finished with value: -0.03313 and parameters: {'max_depth': 4, 'min_child_weight': 167, 'subsample': 0.6223792307464009, 'colsample_bynode': 0.5703836739958317, 'learning_rate': 0.22045433410159426}. Best is trial 15 with value: -0.394285.\n"
     ]
    },
    {
     "name": "stderr",
     "output_type": "stream",
     "text": [
      "[I 2025-05-15 18:15:34,007] Trial 28 finished with value: -0.03313 and parameters: {'max_depth': 7, 'min_child_weight': 97, 'subsample': 0.9221481241814256, 'colsample_bynode': 0.7248556234905128, 'learning_rate': 0.0370450793483443}. Best is trial 15 with value: -0.394285.\n"
     ]
    },
    {
     "name": "stderr",
     "output_type": "stream",
     "text": [
      "[I 2025-05-15 18:15:34,168] Trial 29 finished with value: -0.03313 and parameters: {'max_depth': 8, 'min_child_weight': 217, 'subsample': 0.7586604278705286, 'colsample_bynode': 0.2808395454722341, 'learning_rate': 0.06180923751729535}. Best is trial 15 with value: -0.394285.\n"
     ]
    },
    {
     "name": "stderr",
     "output_type": "stream",
     "text": [
      "[I 2025-05-15 18:15:34,333] Trial 30 finished with value: -0.03313 and parameters: {'max_depth': 16, 'min_child_weight': 150, 'subsample': 0.8170789026473825, 'colsample_bynode': 0.42199692770760844, 'learning_rate': 0.023000557783439998}. Best is trial 15 with value: -0.394285.\n"
     ]
    },
    {
     "name": "stderr",
     "output_type": "stream",
     "text": [
      "[I 2025-05-15 18:15:34,980] Trial 31 finished with value: -0.466525 and parameters: {'max_depth': 9, 'min_child_weight': 4, 'subsample': 0.9603674908286813, 'colsample_bynode': 0.13437405460088098, 'learning_rate': 0.17564458252192755}. Best is trial 31 with value: -0.466525.\n"
     ]
    },
    {
     "name": "stderr",
     "output_type": "stream",
     "text": [
      "[I 2025-05-15 18:15:35,227] Trial 32 finished with value: -0.401082 and parameters: {'max_depth': 10, 'min_child_weight': 16, 'subsample': 0.8880713182143154, 'colsample_bynode': 0.1477381924756248, 'learning_rate': 0.26523213651316746}. Best is trial 31 with value: -0.466525.\n"
     ]
    },
    {
     "name": "stderr",
     "output_type": "stream",
     "text": [
      "[I 2025-05-15 18:15:35,491] Trial 33 pruned. Trial was pruned at iteration 46.\n"
     ]
    },
    {
     "name": "stderr",
     "output_type": "stream",
     "text": [
      "[I 2025-05-15 18:15:35,705] Trial 34 pruned. Trial was pruned at iteration 21.\n"
     ]
    },
    {
     "name": "stderr",
     "output_type": "stream",
     "text": [
      "[I 2025-05-15 18:15:35,878] Trial 35 pruned. Trial was pruned at iteration 21.\n"
     ]
    },
    {
     "name": "stderr",
     "output_type": "stream",
     "text": [
      "[I 2025-05-15 18:15:36,093] Trial 36 pruned. Trial was pruned at iteration 21.\n"
     ]
    },
    {
     "name": "stderr",
     "output_type": "stream",
     "text": [
      "[I 2025-05-15 18:15:36,262] Trial 37 pruned. Trial was pruned at iteration 21.\n"
     ]
    },
    {
     "name": "stderr",
     "output_type": "stream",
     "text": [
      "[I 2025-05-15 18:15:36,448] Trial 38 pruned. Trial was pruned at iteration 20.\n"
     ]
    },
    {
     "name": "stderr",
     "output_type": "stream",
     "text": [
      "[I 2025-05-15 18:15:36,618] Trial 39 pruned. Trial was pruned at iteration 20.\n"
     ]
    },
    {
     "name": "stderr",
     "output_type": "stream",
     "text": [
      "[I 2025-05-15 18:15:36,804] Trial 40 finished with value: -0.03313 and parameters: {'max_depth': 10, 'min_child_weight': 40, 'subsample': 0.3008634073330152, 'colsample_bynode': 0.2647181844065055, 'learning_rate': 0.046048363872224184}. Best is trial 31 with value: -0.466525.\n"
     ]
    },
    {
     "name": "stderr",
     "output_type": "stream",
     "text": [
      "[I 2025-05-15 18:15:37,068] Trial 41 pruned. Trial was pruned at iteration 21.\n"
     ]
    },
    {
     "name": "stderr",
     "output_type": "stream",
     "text": [
      "[I 2025-05-15 18:15:37,337] Trial 42 pruned. Trial was pruned at iteration 23.\n"
     ]
    },
    {
     "name": "stderr",
     "output_type": "stream",
     "text": [
      "[I 2025-05-15 18:15:37,540] Trial 43 pruned. Trial was pruned at iteration 21.\n"
     ]
    },
    {
     "name": "stderr",
     "output_type": "stream",
     "text": [
      "[I 2025-05-15 18:15:38,110] Trial 44 pruned. Trial was pruned at iteration 21.\n"
     ]
    },
    {
     "name": "stderr",
     "output_type": "stream",
     "text": [
      "[I 2025-05-15 18:15:38,282] Trial 45 finished with value: -0.166667 and parameters: {'max_depth': 11, 'min_child_weight': 46, 'subsample': 0.7960861928727062, 'colsample_bynode': 0.5243605042928747, 'learning_rate': 0.013004335508739145}. Best is trial 31 with value: -0.466525.\n"
     ]
    },
    {
     "name": "stderr",
     "output_type": "stream",
     "text": [
      "[I 2025-05-15 18:15:38,503] Trial 46 finished with value: -0.308934 and parameters: {'max_depth': 3, 'min_child_weight': 18, 'subsample': 0.9950462521448905, 'colsample_bynode': 0.14224240709675368, 'learning_rate': 0.06133343155506378}. Best is trial 31 with value: -0.466525.\n"
     ]
    },
    {
     "name": "stderr",
     "output_type": "stream",
     "text": [
      "[I 2025-05-15 18:15:38,666] Trial 47 finished with value: -0.03313 and parameters: {'max_depth': 14, 'min_child_weight': 88, 'subsample': 0.8891533639280929, 'colsample_bynode': 0.40762622862790066, 'learning_rate': 0.23373626754937682}. Best is trial 31 with value: -0.466525.\n"
     ]
    },
    {
     "name": "stderr",
     "output_type": "stream",
     "text": [
      "[I 2025-05-15 18:15:38,847] Trial 48 pruned. Trial was pruned at iteration 20.\n"
     ]
    },
    {
     "name": "stderr",
     "output_type": "stream",
     "text": [
      "[I 2025-05-15 18:15:39,030] Trial 49 pruned. Trial was pruned at iteration 21.\n"
     ]
    }
   ],
   "source": [
    "sampler = optuna.samplers.TPESampler(seed=42)\n",
    "study = optuna.create_study(direction='minimize', sampler=sampler)\n",
    "study.optimize(objective, n_trials=N_TRIALS, gc_after_trial=True)"
   ]
  },
  {
   "cell_type": "code",
   "execution_count": 20,
   "id": "c3871dbf",
   "metadata": {
    "execution": {
     "iopub.execute_input": "2025-05-15T16:15:39.139192Z",
     "iopub.status.busy": "2025-05-15T16:15:39.138982Z",
     "iopub.status.idle": "2025-05-15T16:15:39.163987Z",
     "shell.execute_reply": "2025-05-15T16:15:39.163648Z"
    },
    "papermill": {
     "duration": 0.035466,
     "end_time": "2025-05-15T16:15:39.164928",
     "exception": false,
     "start_time": "2025-05-15T16:15:39.129462",
     "status": "completed"
    },
    "tags": []
   },
   "outputs": [
    {
     "data": {
      "text/plain": [
       "['/scratch_isilon/groups/singlecell/shared/projects/Inflammation-PBMCs-Atlas/03_downstream_analysis/08_gene_importance/xgboost_external_validation/xgboost_TopN_genes/results_20/study/Plasma_2_1_xgboost.pkl']"
      ]
     },
     "execution_count": 20,
     "metadata": {},
     "output_type": "execute_result"
    }
   ],
   "source": [
    "out_dir = here(f'03_downstream_analysis/08_gene_importance/xgboost_external_validation/xgboost_TopN_genes/results_{N_GENES}/study')\n",
    "\n",
    "if not os.path.exists(out_dir):\n",
    "    os.makedirs(out_dir)\n",
    "    \n",
    "joblib.dump(study,os.path.join(out_dir, f'{CELL_TYPE}_{SEED}_{TEST_SPLIT_IDX}_xgboost.pkl'))"
   ]
  },
  {
   "cell_type": "code",
   "execution_count": 21,
   "id": "2b4f8bd7",
   "metadata": {
    "execution": {
     "iopub.execute_input": "2025-05-15T16:15:39.183602Z",
     "iopub.status.busy": "2025-05-15T16:15:39.183153Z",
     "iopub.status.idle": "2025-05-15T16:15:39.674483Z",
     "shell.execute_reply": "2025-05-15T16:15:39.674079Z"
    },
    "papermill": {
     "duration": 0.501937,
     "end_time": "2025-05-15T16:15:39.675759",
     "exception": false,
     "start_time": "2025-05-15T16:15:39.173822",
     "status": "completed"
    },
    "tags": []
   },
   "outputs": [
    {
     "data": {
      "text/html": [
       "<style>#sk-container-id-1 {\n",
       "  /* Definition of color scheme common for light and dark mode */\n",
       "  --sklearn-color-text: black;\n",
       "  --sklearn-color-line: gray;\n",
       "  /* Definition of color scheme for unfitted estimators */\n",
       "  --sklearn-color-unfitted-level-0: #fff5e6;\n",
       "  --sklearn-color-unfitted-level-1: #f6e4d2;\n",
       "  --sklearn-color-unfitted-level-2: #ffe0b3;\n",
       "  --sklearn-color-unfitted-level-3: chocolate;\n",
       "  /* Definition of color scheme for fitted estimators */\n",
       "  --sklearn-color-fitted-level-0: #f0f8ff;\n",
       "  --sklearn-color-fitted-level-1: #d4ebff;\n",
       "  --sklearn-color-fitted-level-2: #b3dbfd;\n",
       "  --sklearn-color-fitted-level-3: cornflowerblue;\n",
       "\n",
       "  /* Specific color for light theme */\n",
       "  --sklearn-color-text-on-default-background: var(--sg-text-color, var(--theme-code-foreground, var(--jp-content-font-color1, black)));\n",
       "  --sklearn-color-background: var(--sg-background-color, var(--theme-background, var(--jp-layout-color0, white)));\n",
       "  --sklearn-color-border-box: var(--sg-text-color, var(--theme-code-foreground, var(--jp-content-font-color1, black)));\n",
       "  --sklearn-color-icon: #696969;\n",
       "\n",
       "  @media (prefers-color-scheme: dark) {\n",
       "    /* Redefinition of color scheme for dark theme */\n",
       "    --sklearn-color-text-on-default-background: var(--sg-text-color, var(--theme-code-foreground, var(--jp-content-font-color1, white)));\n",
       "    --sklearn-color-background: var(--sg-background-color, var(--theme-background, var(--jp-layout-color0, #111)));\n",
       "    --sklearn-color-border-box: var(--sg-text-color, var(--theme-code-foreground, var(--jp-content-font-color1, white)));\n",
       "    --sklearn-color-icon: #878787;\n",
       "  }\n",
       "}\n",
       "\n",
       "#sk-container-id-1 {\n",
       "  color: var(--sklearn-color-text);\n",
       "}\n",
       "\n",
       "#sk-container-id-1 pre {\n",
       "  padding: 0;\n",
       "}\n",
       "\n",
       "#sk-container-id-1 input.sk-hidden--visually {\n",
       "  border: 0;\n",
       "  clip: rect(1px 1px 1px 1px);\n",
       "  clip: rect(1px, 1px, 1px, 1px);\n",
       "  height: 1px;\n",
       "  margin: -1px;\n",
       "  overflow: hidden;\n",
       "  padding: 0;\n",
       "  position: absolute;\n",
       "  width: 1px;\n",
       "}\n",
       "\n",
       "#sk-container-id-1 div.sk-dashed-wrapped {\n",
       "  border: 1px dashed var(--sklearn-color-line);\n",
       "  margin: 0 0.4em 0.5em 0.4em;\n",
       "  box-sizing: border-box;\n",
       "  padding-bottom: 0.4em;\n",
       "  background-color: var(--sklearn-color-background);\n",
       "}\n",
       "\n",
       "#sk-container-id-1 div.sk-container {\n",
       "  /* jupyter's `normalize.less` sets `[hidden] { display: none; }`\n",
       "     but bootstrap.min.css set `[hidden] { display: none !important; }`\n",
       "     so we also need the `!important` here to be able to override the\n",
       "     default hidden behavior on the sphinx rendered scikit-learn.org.\n",
       "     See: https://github.com/scikit-learn/scikit-learn/issues/21755 */\n",
       "  display: inline-block !important;\n",
       "  position: relative;\n",
       "}\n",
       "\n",
       "#sk-container-id-1 div.sk-text-repr-fallback {\n",
       "  display: none;\n",
       "}\n",
       "\n",
       "div.sk-parallel-item,\n",
       "div.sk-serial,\n",
       "div.sk-item {\n",
       "  /* draw centered vertical line to link estimators */\n",
       "  background-image: linear-gradient(var(--sklearn-color-text-on-default-background), var(--sklearn-color-text-on-default-background));\n",
       "  background-size: 2px 100%;\n",
       "  background-repeat: no-repeat;\n",
       "  background-position: center center;\n",
       "}\n",
       "\n",
       "/* Parallel-specific style estimator block */\n",
       "\n",
       "#sk-container-id-1 div.sk-parallel-item::after {\n",
       "  content: \"\";\n",
       "  width: 100%;\n",
       "  border-bottom: 2px solid var(--sklearn-color-text-on-default-background);\n",
       "  flex-grow: 1;\n",
       "}\n",
       "\n",
       "#sk-container-id-1 div.sk-parallel {\n",
       "  display: flex;\n",
       "  align-items: stretch;\n",
       "  justify-content: center;\n",
       "  background-color: var(--sklearn-color-background);\n",
       "  position: relative;\n",
       "}\n",
       "\n",
       "#sk-container-id-1 div.sk-parallel-item {\n",
       "  display: flex;\n",
       "  flex-direction: column;\n",
       "}\n",
       "\n",
       "#sk-container-id-1 div.sk-parallel-item:first-child::after {\n",
       "  align-self: flex-end;\n",
       "  width: 50%;\n",
       "}\n",
       "\n",
       "#sk-container-id-1 div.sk-parallel-item:last-child::after {\n",
       "  align-self: flex-start;\n",
       "  width: 50%;\n",
       "}\n",
       "\n",
       "#sk-container-id-1 div.sk-parallel-item:only-child::after {\n",
       "  width: 0;\n",
       "}\n",
       "\n",
       "/* Serial-specific style estimator block */\n",
       "\n",
       "#sk-container-id-1 div.sk-serial {\n",
       "  display: flex;\n",
       "  flex-direction: column;\n",
       "  align-items: center;\n",
       "  background-color: var(--sklearn-color-background);\n",
       "  padding-right: 1em;\n",
       "  padding-left: 1em;\n",
       "}\n",
       "\n",
       "\n",
       "/* Toggleable style: style used for estimator/Pipeline/ColumnTransformer box that is\n",
       "clickable and can be expanded/collapsed.\n",
       "- Pipeline and ColumnTransformer use this feature and define the default style\n",
       "- Estimators will overwrite some part of the style using the `sk-estimator` class\n",
       "*/\n",
       "\n",
       "/* Pipeline and ColumnTransformer style (default) */\n",
       "\n",
       "#sk-container-id-1 div.sk-toggleable {\n",
       "  /* Default theme specific background. It is overwritten whether we have a\n",
       "  specific estimator or a Pipeline/ColumnTransformer */\n",
       "  background-color: var(--sklearn-color-background);\n",
       "}\n",
       "\n",
       "/* Toggleable label */\n",
       "#sk-container-id-1 label.sk-toggleable__label {\n",
       "  cursor: pointer;\n",
       "  display: block;\n",
       "  width: 100%;\n",
       "  margin-bottom: 0;\n",
       "  padding: 0.5em;\n",
       "  box-sizing: border-box;\n",
       "  text-align: center;\n",
       "}\n",
       "\n",
       "#sk-container-id-1 label.sk-toggleable__label-arrow:before {\n",
       "  /* Arrow on the left of the label */\n",
       "  content: \"▸\";\n",
       "  float: left;\n",
       "  margin-right: 0.25em;\n",
       "  color: var(--sklearn-color-icon);\n",
       "}\n",
       "\n",
       "#sk-container-id-1 label.sk-toggleable__label-arrow:hover:before {\n",
       "  color: var(--sklearn-color-text);\n",
       "}\n",
       "\n",
       "/* Toggleable content - dropdown */\n",
       "\n",
       "#sk-container-id-1 div.sk-toggleable__content {\n",
       "  max-height: 0;\n",
       "  max-width: 0;\n",
       "  overflow: hidden;\n",
       "  text-align: left;\n",
       "  /* unfitted */\n",
       "  background-color: var(--sklearn-color-unfitted-level-0);\n",
       "}\n",
       "\n",
       "#sk-container-id-1 div.sk-toggleable__content.fitted {\n",
       "  /* fitted */\n",
       "  background-color: var(--sklearn-color-fitted-level-0);\n",
       "}\n",
       "\n",
       "#sk-container-id-1 div.sk-toggleable__content pre {\n",
       "  margin: 0.2em;\n",
       "  border-radius: 0.25em;\n",
       "  color: var(--sklearn-color-text);\n",
       "  /* unfitted */\n",
       "  background-color: var(--sklearn-color-unfitted-level-0);\n",
       "}\n",
       "\n",
       "#sk-container-id-1 div.sk-toggleable__content.fitted pre {\n",
       "  /* unfitted */\n",
       "  background-color: var(--sklearn-color-fitted-level-0);\n",
       "}\n",
       "\n",
       "#sk-container-id-1 input.sk-toggleable__control:checked~div.sk-toggleable__content {\n",
       "  /* Expand drop-down */\n",
       "  max-height: 200px;\n",
       "  max-width: 100%;\n",
       "  overflow: auto;\n",
       "}\n",
       "\n",
       "#sk-container-id-1 input.sk-toggleable__control:checked~label.sk-toggleable__label-arrow:before {\n",
       "  content: \"▾\";\n",
       "}\n",
       "\n",
       "/* Pipeline/ColumnTransformer-specific style */\n",
       "\n",
       "#sk-container-id-1 div.sk-label input.sk-toggleable__control:checked~label.sk-toggleable__label {\n",
       "  color: var(--sklearn-color-text);\n",
       "  background-color: var(--sklearn-color-unfitted-level-2);\n",
       "}\n",
       "\n",
       "#sk-container-id-1 div.sk-label.fitted input.sk-toggleable__control:checked~label.sk-toggleable__label {\n",
       "  background-color: var(--sklearn-color-fitted-level-2);\n",
       "}\n",
       "\n",
       "/* Estimator-specific style */\n",
       "\n",
       "/* Colorize estimator box */\n",
       "#sk-container-id-1 div.sk-estimator input.sk-toggleable__control:checked~label.sk-toggleable__label {\n",
       "  /* unfitted */\n",
       "  background-color: var(--sklearn-color-unfitted-level-2);\n",
       "}\n",
       "\n",
       "#sk-container-id-1 div.sk-estimator.fitted input.sk-toggleable__control:checked~label.sk-toggleable__label {\n",
       "  /* fitted */\n",
       "  background-color: var(--sklearn-color-fitted-level-2);\n",
       "}\n",
       "\n",
       "#sk-container-id-1 div.sk-label label.sk-toggleable__label,\n",
       "#sk-container-id-1 div.sk-label label {\n",
       "  /* The background is the default theme color */\n",
       "  color: var(--sklearn-color-text-on-default-background);\n",
       "}\n",
       "\n",
       "/* On hover, darken the color of the background */\n",
       "#sk-container-id-1 div.sk-label:hover label.sk-toggleable__label {\n",
       "  color: var(--sklearn-color-text);\n",
       "  background-color: var(--sklearn-color-unfitted-level-2);\n",
       "}\n",
       "\n",
       "/* Label box, darken color on hover, fitted */\n",
       "#sk-container-id-1 div.sk-label.fitted:hover label.sk-toggleable__label.fitted {\n",
       "  color: var(--sklearn-color-text);\n",
       "  background-color: var(--sklearn-color-fitted-level-2);\n",
       "}\n",
       "\n",
       "/* Estimator label */\n",
       "\n",
       "#sk-container-id-1 div.sk-label label {\n",
       "  font-family: monospace;\n",
       "  font-weight: bold;\n",
       "  display: inline-block;\n",
       "  line-height: 1.2em;\n",
       "}\n",
       "\n",
       "#sk-container-id-1 div.sk-label-container {\n",
       "  text-align: center;\n",
       "}\n",
       "\n",
       "/* Estimator-specific */\n",
       "#sk-container-id-1 div.sk-estimator {\n",
       "  font-family: monospace;\n",
       "  border: 1px dotted var(--sklearn-color-border-box);\n",
       "  border-radius: 0.25em;\n",
       "  box-sizing: border-box;\n",
       "  margin-bottom: 0.5em;\n",
       "  /* unfitted */\n",
       "  background-color: var(--sklearn-color-unfitted-level-0);\n",
       "}\n",
       "\n",
       "#sk-container-id-1 div.sk-estimator.fitted {\n",
       "  /* fitted */\n",
       "  background-color: var(--sklearn-color-fitted-level-0);\n",
       "}\n",
       "\n",
       "/* on hover */\n",
       "#sk-container-id-1 div.sk-estimator:hover {\n",
       "  /* unfitted */\n",
       "  background-color: var(--sklearn-color-unfitted-level-2);\n",
       "}\n",
       "\n",
       "#sk-container-id-1 div.sk-estimator.fitted:hover {\n",
       "  /* fitted */\n",
       "  background-color: var(--sklearn-color-fitted-level-2);\n",
       "}\n",
       "\n",
       "/* Specification for estimator info (e.g. \"i\" and \"?\") */\n",
       "\n",
       "/* Common style for \"i\" and \"?\" */\n",
       "\n",
       ".sk-estimator-doc-link,\n",
       "a:link.sk-estimator-doc-link,\n",
       "a:visited.sk-estimator-doc-link {\n",
       "  float: right;\n",
       "  font-size: smaller;\n",
       "  line-height: 1em;\n",
       "  font-family: monospace;\n",
       "  background-color: var(--sklearn-color-background);\n",
       "  border-radius: 1em;\n",
       "  height: 1em;\n",
       "  width: 1em;\n",
       "  text-decoration: none !important;\n",
       "  margin-left: 1ex;\n",
       "  /* unfitted */\n",
       "  border: var(--sklearn-color-unfitted-level-1) 1pt solid;\n",
       "  color: var(--sklearn-color-unfitted-level-1);\n",
       "}\n",
       "\n",
       ".sk-estimator-doc-link.fitted,\n",
       "a:link.sk-estimator-doc-link.fitted,\n",
       "a:visited.sk-estimator-doc-link.fitted {\n",
       "  /* fitted */\n",
       "  border: var(--sklearn-color-fitted-level-1) 1pt solid;\n",
       "  color: var(--sklearn-color-fitted-level-1);\n",
       "}\n",
       "\n",
       "/* On hover */\n",
       "div.sk-estimator:hover .sk-estimator-doc-link:hover,\n",
       ".sk-estimator-doc-link:hover,\n",
       "div.sk-label-container:hover .sk-estimator-doc-link:hover,\n",
       ".sk-estimator-doc-link:hover {\n",
       "  /* unfitted */\n",
       "  background-color: var(--sklearn-color-unfitted-level-3);\n",
       "  color: var(--sklearn-color-background);\n",
       "  text-decoration: none;\n",
       "}\n",
       "\n",
       "div.sk-estimator.fitted:hover .sk-estimator-doc-link.fitted:hover,\n",
       ".sk-estimator-doc-link.fitted:hover,\n",
       "div.sk-label-container:hover .sk-estimator-doc-link.fitted:hover,\n",
       ".sk-estimator-doc-link.fitted:hover {\n",
       "  /* fitted */\n",
       "  background-color: var(--sklearn-color-fitted-level-3);\n",
       "  color: var(--sklearn-color-background);\n",
       "  text-decoration: none;\n",
       "}\n",
       "\n",
       "/* Span, style for the box shown on hovering the info icon */\n",
       ".sk-estimator-doc-link span {\n",
       "  display: none;\n",
       "  z-index: 9999;\n",
       "  position: relative;\n",
       "  font-weight: normal;\n",
       "  right: .2ex;\n",
       "  padding: .5ex;\n",
       "  margin: .5ex;\n",
       "  width: min-content;\n",
       "  min-width: 20ex;\n",
       "  max-width: 50ex;\n",
       "  color: var(--sklearn-color-text);\n",
       "  box-shadow: 2pt 2pt 4pt #999;\n",
       "  /* unfitted */\n",
       "  background: var(--sklearn-color-unfitted-level-0);\n",
       "  border: .5pt solid var(--sklearn-color-unfitted-level-3);\n",
       "}\n",
       "\n",
       ".sk-estimator-doc-link.fitted span {\n",
       "  /* fitted */\n",
       "  background: var(--sklearn-color-fitted-level-0);\n",
       "  border: var(--sklearn-color-fitted-level-3);\n",
       "}\n",
       "\n",
       ".sk-estimator-doc-link:hover span {\n",
       "  display: block;\n",
       "}\n",
       "\n",
       "/* \"?\"-specific style due to the `<a>` HTML tag */\n",
       "\n",
       "#sk-container-id-1 a.estimator_doc_link {\n",
       "  float: right;\n",
       "  font-size: 1rem;\n",
       "  line-height: 1em;\n",
       "  font-family: monospace;\n",
       "  background-color: var(--sklearn-color-background);\n",
       "  border-radius: 1rem;\n",
       "  height: 1rem;\n",
       "  width: 1rem;\n",
       "  text-decoration: none;\n",
       "  /* unfitted */\n",
       "  color: var(--sklearn-color-unfitted-level-1);\n",
       "  border: var(--sklearn-color-unfitted-level-1) 1pt solid;\n",
       "}\n",
       "\n",
       "#sk-container-id-1 a.estimator_doc_link.fitted {\n",
       "  /* fitted */\n",
       "  border: var(--sklearn-color-fitted-level-1) 1pt solid;\n",
       "  color: var(--sklearn-color-fitted-level-1);\n",
       "}\n",
       "\n",
       "/* On hover */\n",
       "#sk-container-id-1 a.estimator_doc_link:hover {\n",
       "  /* unfitted */\n",
       "  background-color: var(--sklearn-color-unfitted-level-3);\n",
       "  color: var(--sklearn-color-background);\n",
       "  text-decoration: none;\n",
       "}\n",
       "\n",
       "#sk-container-id-1 a.estimator_doc_link.fitted:hover {\n",
       "  /* fitted */\n",
       "  background-color: var(--sklearn-color-fitted-level-3);\n",
       "}\n",
       "</style><div id=\"sk-container-id-1\" class=\"sk-top-container\"><div class=\"sk-text-repr-fallback\"><pre>XGBClassifier(base_score=None, booster=None, callbacks=None,\n",
       "              colsample_bylevel=None, colsample_bynode=0.13437405460088098,\n",
       "              colsample_bytree=None, device=None, early_stopping_rounds=None,\n",
       "              enable_categorical=False,\n",
       "              eval_metric=&lt;function custom_f1_score at 0x7fcc705b44a0&gt;,\n",
       "              feature_types=None, gamma=None, grow_policy=None,\n",
       "              importance_type=None, interaction_constraints=None,\n",
       "              learning_rate=0.17564458252192755, max_bin=None,\n",
       "              max_cat_threshold=None, max_cat_to_onehot=None,\n",
       "              max_delta_step=None, max_depth=9, max_leaves=None,\n",
       "              min_child_weight=4, missing=nan, monotone_constraints=None,\n",
       "              multi_strategy=None, n_estimators=104, n_jobs=None,\n",
       "              num_parallel_tree=None, objective=&#x27;multi:softprob&#x27;, ...)</pre><b>In a Jupyter environment, please rerun this cell to show the HTML representation or trust the notebook. <br />On GitHub, the HTML representation is unable to render, please try loading this page with nbviewer.org.</b></div><div class=\"sk-container\" hidden><div class=\"sk-item\"><div class=\"sk-estimator fitted sk-toggleable\"><input class=\"sk-toggleable__control sk-hidden--visually\" id=\"sk-estimator-id-1\" type=\"checkbox\" checked><label for=\"sk-estimator-id-1\" class=\"sk-toggleable__label fitted sk-toggleable__label-arrow fitted\">&nbsp;XGBClassifier<span class=\"sk-estimator-doc-link fitted\">i<span>Fitted</span></span></label><div class=\"sk-toggleable__content fitted\"><pre>XGBClassifier(base_score=None, booster=None, callbacks=None,\n",
       "              colsample_bylevel=None, colsample_bynode=0.13437405460088098,\n",
       "              colsample_bytree=None, device=None, early_stopping_rounds=None,\n",
       "              enable_categorical=False,\n",
       "              eval_metric=&lt;function custom_f1_score at 0x7fcc705b44a0&gt;,\n",
       "              feature_types=None, gamma=None, grow_policy=None,\n",
       "              importance_type=None, interaction_constraints=None,\n",
       "              learning_rate=0.17564458252192755, max_bin=None,\n",
       "              max_cat_threshold=None, max_cat_to_onehot=None,\n",
       "              max_delta_step=None, max_depth=9, max_leaves=None,\n",
       "              min_child_weight=4, missing=nan, monotone_constraints=None,\n",
       "              multi_strategy=None, n_estimators=104, n_jobs=None,\n",
       "              num_parallel_tree=None, objective=&#x27;multi:softprob&#x27;, ...)</pre></div> </div></div></div></div>"
      ],
      "text/plain": [
       "XGBClassifier(base_score=None, booster=None, callbacks=None,\n",
       "              colsample_bylevel=None, colsample_bynode=0.13437405460088098,\n",
       "              colsample_bytree=None, device=None, early_stopping_rounds=None,\n",
       "              enable_categorical=False,\n",
       "              eval_metric=<function custom_f1_score at 0x7fcc705b44a0>,\n",
       "              feature_types=None, gamma=None, grow_policy=None,\n",
       "              importance_type=None, interaction_constraints=None,\n",
       "              learning_rate=0.17564458252192755, max_bin=None,\n",
       "              max_cat_threshold=None, max_cat_to_onehot=None,\n",
       "              max_delta_step=None, max_depth=9, max_leaves=None,\n",
       "              min_child_weight=4, missing=nan, monotone_constraints=None,\n",
       "              multi_strategy=None, n_estimators=104, n_jobs=None,\n",
       "              num_parallel_tree=None, objective='multi:softprob', ...)"
      ]
     },
     "execution_count": 21,
     "metadata": {},
     "output_type": "execute_result"
    }
   ],
   "source": [
    "n_estimators = int(study.best_trial.user_attrs['best_iteration']*1.2)\n",
    "xgb = xgboost.XGBClassifier(\n",
    "        eval_metric=eval_metric,\n",
    "        n_estimators=n_estimators,\n",
    "        **study.best_trial.params\n",
    "    )\n",
    "xgb.fit(\n",
    "    ssp.vstack((X_train, X_val)), \n",
    "    np.concatenate((y_train_enc, y_val_enc)),\n",
    "    verbose=1,\n",
    ")"
   ]
  },
  {
   "cell_type": "code",
   "execution_count": 22,
   "id": "4ec7ad06",
   "metadata": {
    "execution": {
     "iopub.execute_input": "2025-05-15T16:15:39.697690Z",
     "iopub.status.busy": "2025-05-15T16:15:39.697191Z",
     "iopub.status.idle": "2025-05-15T16:15:39.717499Z",
     "shell.execute_reply": "2025-05-15T16:15:39.717080Z"
    },
    "papermill": {
     "duration": 0.031923,
     "end_time": "2025-05-15T16:15:39.718425",
     "exception": false,
     "start_time": "2025-05-15T16:15:39.686502",
     "status": "completed"
    },
    "tags": []
   },
   "outputs": [
    {
     "data": {
      "text/plain": [
       "['/scratch_isilon/groups/singlecell/shared/projects/Inflammation-PBMCs-Atlas/03_downstream_analysis/08_gene_importance/xgboost_external_validation/xgboost_TopN_genes/results_20/best_model/Plasma_2_1_xgb.json']"
      ]
     },
     "execution_count": 22,
     "metadata": {},
     "output_type": "execute_result"
    }
   ],
   "source": [
    "out_dir = here(f'03_downstream_analysis/08_gene_importance/xgboost_external_validation/xgboost_TopN_genes/results_{N_GENES}/best_model')\n",
    "\n",
    "if not os.path.exists(out_dir):\n",
    "    os.makedirs(out_dir)\n",
    "    \n",
    "joblib.dump(xgb, os.path.join(out_dir, f'{CELL_TYPE}_{SEED}_{TEST_SPLIT_IDX}_xgb.json'))"
   ]
  },
  {
   "cell_type": "code",
   "execution_count": 23,
   "id": "be3a5e97",
   "metadata": {
    "execution": {
     "iopub.execute_input": "2025-05-15T16:15:39.738458Z",
     "iopub.status.busy": "2025-05-15T16:15:39.738089Z",
     "iopub.status.idle": "2025-05-15T16:15:39.750706Z",
     "shell.execute_reply": "2025-05-15T16:15:39.750274Z"
    },
    "papermill": {
     "duration": 0.027699,
     "end_time": "2025-05-15T16:15:39.755716",
     "exception": false,
     "start_time": "2025-05-15T16:15:39.728017",
     "status": "completed"
    },
    "tags": []
   },
   "outputs": [],
   "source": [
    "df_pred_test = pd.DataFrame(dict(\n",
    "    cell_id=train_adata.obs.iloc[test_idxs].index.values,\n",
    "    y_true=y_test, \n",
    "    y_true_code=y_test_enc, \n",
    "    y_pred=xgb.predict(X_test))).set_index('cell_id')"
   ]
  },
  {
   "cell_type": "code",
   "execution_count": 24,
   "id": "8ba8362e",
   "metadata": {
    "execution": {
     "iopub.execute_input": "2025-05-15T16:15:39.775366Z",
     "iopub.status.busy": "2025-05-15T16:15:39.775049Z",
     "iopub.status.idle": "2025-05-15T16:15:39.794749Z",
     "shell.execute_reply": "2025-05-15T16:15:39.794190Z"
    },
    "papermill": {
     "duration": 0.03087,
     "end_time": "2025-05-15T16:15:39.795703",
     "exception": false,
     "start_time": "2025-05-15T16:15:39.764833",
     "status": "completed"
    },
    "tags": []
   },
   "outputs": [],
   "source": [
    "out_dir = here(f'03_downstream_analysis/08_gene_importance/xgboost_external_validation/xgboost_TopN_genes/results_{N_GENES}/predictions')\n",
    "\n",
    "if not os.path.exists(out_dir):\n",
    "    os.makedirs(out_dir)\n",
    "    \n",
    "df_pred_test.to_csv(os.path.join(out_dir, f'{CELL_TYPE}_{SEED}_{TEST_SPLIT_IDX}_pred_test.zip'))"
   ]
  },
  {
   "cell_type": "code",
   "execution_count": 25,
   "id": "a818e910",
   "metadata": {
    "execution": {
     "iopub.execute_input": "2025-05-15T16:15:39.817165Z",
     "iopub.status.busy": "2025-05-15T16:15:39.816693Z",
     "iopub.status.idle": "2025-05-15T16:15:39.823551Z",
     "shell.execute_reply": "2025-05-15T16:15:39.823178Z"
    },
    "papermill": {
     "duration": 0.018612,
     "end_time": "2025-05-15T16:15:39.824436",
     "exception": false,
     "start_time": "2025-05-15T16:15:39.805824",
     "status": "completed"
    },
    "tags": []
   },
   "outputs": [],
   "source": [
    "metrics_dict = dict(\n",
    "    BAS=balanced_accuracy_score(y_true=df_pred_test.y_true_code, y_pred=df_pred_test.y_pred), WF1=f1_score(y_true=df_pred_test.y_true_code, y_pred=df_pred_test.y_pred,average='weighted'))"
   ]
  },
  {
   "cell_type": "code",
   "execution_count": 26,
   "id": "433a4263",
   "metadata": {
    "execution": {
     "iopub.execute_input": "2025-05-15T16:15:39.844908Z",
     "iopub.status.busy": "2025-05-15T16:15:39.844532Z",
     "iopub.status.idle": "2025-05-15T16:15:39.847826Z",
     "shell.execute_reply": "2025-05-15T16:15:39.847483Z"
    },
    "papermill": {
     "duration": 0.014601,
     "end_time": "2025-05-15T16:15:39.848737",
     "exception": false,
     "start_time": "2025-05-15T16:15:39.834136",
     "status": "completed"
    },
    "tags": []
   },
   "outputs": [
    {
     "data": {
      "text/plain": [
       "{'BAS': 0.5153619766671238, 'WF1': 0.547047842816245}"
      ]
     },
     "execution_count": 26,
     "metadata": {},
     "output_type": "execute_result"
    }
   ],
   "source": [
    "metrics_dict"
   ]
  },
  {
   "cell_type": "code",
   "execution_count": 27,
   "id": "8b62d52b",
   "metadata": {
    "execution": {
     "iopub.execute_input": "2025-05-15T16:15:39.870565Z",
     "iopub.status.busy": "2025-05-15T16:15:39.870166Z",
     "iopub.status.idle": "2025-05-15T16:15:39.879685Z",
     "shell.execute_reply": "2025-05-15T16:15:39.879339Z"
    },
    "papermill": {
     "duration": 0.022055,
     "end_time": "2025-05-15T16:15:39.880728",
     "exception": false,
     "start_time": "2025-05-15T16:15:39.858673",
     "status": "completed"
    },
    "tags": []
   },
   "outputs": [
    {
     "data": {
      "text/html": [
       "<div>\n",
       "<style scoped>\n",
       "    .dataframe tbody tr th:only-of-type {\n",
       "        vertical-align: middle;\n",
       "    }\n",
       "\n",
       "    .dataframe tbody tr th {\n",
       "        vertical-align: top;\n",
       "    }\n",
       "\n",
       "    .dataframe thead th {\n",
       "        text-align: right;\n",
       "    }\n",
       "</style>\n",
       "<table border=\"1\" class=\"dataframe\">\n",
       "  <thead>\n",
       "    <tr style=\"text-align: right;\">\n",
       "      <th></th>\n",
       "      <th>BAS</th>\n",
       "      <th>WF1</th>\n",
       "      <th>split_idx</th>\n",
       "      <th>gene_set_seed</th>\n",
       "      <th>cell_type</th>\n",
       "    </tr>\n",
       "  </thead>\n",
       "  <tbody>\n",
       "    <tr>\n",
       "      <th>0</th>\n",
       "      <td>0.515362</td>\n",
       "      <td>0.547048</td>\n",
       "      <td>1</td>\n",
       "      <td>2</td>\n",
       "      <td>Plasma</td>\n",
       "    </tr>\n",
       "  </tbody>\n",
       "</table>\n",
       "</div>"
      ],
      "text/plain": [
       "        BAS       WF1  split_idx  gene_set_seed cell_type\n",
       "0  0.515362  0.547048          1              2    Plasma"
      ]
     },
     "execution_count": 27,
     "metadata": {},
     "output_type": "execute_result"
    }
   ],
   "source": [
    "metrics_df = pd.DataFrame.from_dict([metrics_dict]).assign(split_idx=TEST_SPLIT_IDX, gene_set_seed=SEED, cell_type=CELL_TYPE)\n",
    "metrics_df"
   ]
  },
  {
   "cell_type": "code",
   "execution_count": 28,
   "id": "0bd4f9e3",
   "metadata": {
    "execution": {
     "iopub.execute_input": "2025-05-15T16:15:39.903300Z",
     "iopub.status.busy": "2025-05-15T16:15:39.902839Z",
     "iopub.status.idle": "2025-05-15T16:15:39.911484Z",
     "shell.execute_reply": "2025-05-15T16:15:39.911008Z"
    },
    "papermill": {
     "duration": 0.021597,
     "end_time": "2025-05-15T16:15:39.913024",
     "exception": false,
     "start_time": "2025-05-15T16:15:39.891427",
     "status": "completed"
    },
    "tags": []
   },
   "outputs": [],
   "source": [
    "out_dir = here(f'03_downstream_analysis/08_gene_importance/xgboost_external_validation/xgboost_TopN_genes/results_{N_GENES}/metrics')\n",
    "\n",
    "if not os.path.exists(out_dir):\n",
    "    os.makedirs(out_dir)\n",
    "    \n",
    "metrics_df.to_csv(os.path.join(out_dir, f'{CELL_TYPE}_{SEED}_{TEST_SPLIT_IDX}_metrics.zip'))"
   ]
  }
 ],
 "metadata": {
  "kernelspec": {
   "display_name": "Python 3 (ipykernel)",
   "language": "python",
   "name": "python3"
  },
  "language_info": {
   "codemirror_mode": {
    "name": "ipython",
    "version": 3
   },
   "file_extension": ".py",
   "mimetype": "text/x-python",
   "name": "python",
   "nbconvert_exporter": "python",
   "pygments_lexer": "ipython3",
   "version": "3.12.5"
  },
  "papermill": {
   "default_parameters": {},
   "duration": 15.991266,
   "end_time": "2025-05-15T16:15:40.541857",
   "environment_variables": {},
   "exception": null,
   "input_path": "02_xgboost_fitting_external_20genes.ipynb",
   "output_path": "results_20/executed_notebooks/xgboost_fitting_external_CT_Plasma_GS_2_seed1.ipynb",
   "parameters": {
    "CELL_TYPE": "Plasma",
    "SEED": 2,
    "TEST_SPLIT_IDX": 1
   },
   "start_time": "2025-05-15T16:15:24.550591",
   "version": "2.6.0"
  }
 },
 "nbformat": 4,
 "nbformat_minor": 5
}