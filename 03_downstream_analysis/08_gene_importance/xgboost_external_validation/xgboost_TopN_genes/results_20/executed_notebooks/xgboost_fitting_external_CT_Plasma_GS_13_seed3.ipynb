{
 "cells": [
  {
   "cell_type": "code",
   "execution_count": 1,
   "id": "e9f6c96d",
   "metadata": {
    "editable": true,
    "execution": {
     "iopub.execute_input": "2025-05-15T16:15:44.031310Z",
     "iopub.status.busy": "2025-05-15T16:15:44.031067Z",
     "iopub.status.idle": "2025-05-15T16:15:44.034267Z",
     "shell.execute_reply": "2025-05-15T16:15:44.033923Z"
    },
    "papermill": {
     "duration": 0.012504,
     "end_time": "2025-05-15T16:15:44.035318",
     "exception": false,
     "start_time": "2025-05-15T16:15:44.022814",
     "status": "completed"
    },
    "slideshow": {
     "slide_type": ""
    },
    "tags": [
     "parameters"
    ]
   },
   "outputs": [],
   "source": [
    "CELL_TYPE = 'pDC'\n",
    "N_GENES: int = 20\n",
    "SEED = 'shap_studyID' #'disease_NOstudy' 'study_NOdisease' or 'int' or 'shap_studyID'\n",
    "TEST_SPLIT_IDX: int = 1 #[0,4]"
   ]
  },
  {
   "cell_type": "code",
   "execution_count": 2,
   "id": "201438c1",
   "metadata": {
    "execution": {
     "iopub.execute_input": "2025-05-15T16:15:44.047419Z",
     "iopub.status.busy": "2025-05-15T16:15:44.047055Z",
     "iopub.status.idle": "2025-05-15T16:15:44.050222Z",
     "shell.execute_reply": "2025-05-15T16:15:44.049860Z"
    },
    "papermill": {
     "duration": 0.010185,
     "end_time": "2025-05-15T16:15:44.051258",
     "exception": false,
     "start_time": "2025-05-15T16:15:44.041073",
     "status": "completed"
    },
    "tags": [
     "injected-parameters"
    ]
   },
   "outputs": [],
   "source": [
    "# Parameters\n",
    "CELL_TYPE = \"Plasma\"\n",
    "SEED = 13\n",
    "TEST_SPLIT_IDX = 3\n"
   ]
  },
  {
   "cell_type": "code",
   "execution_count": 3,
   "id": "91ad141e",
   "metadata": {
    "execution": {
     "iopub.execute_input": "2025-05-15T16:15:44.062876Z",
     "iopub.status.busy": "2025-05-15T16:15:44.062728Z",
     "iopub.status.idle": "2025-05-15T16:15:44.065791Z",
     "shell.execute_reply": "2025-05-15T16:15:44.065406Z"
    },
    "papermill": {
     "duration": 0.010008,
     "end_time": "2025-05-15T16:15:44.066820",
     "exception": false,
     "start_time": "2025-05-15T16:15:44.056812",
     "status": "completed"
    },
    "tags": []
   },
   "outputs": [],
   "source": [
    "N_SPLITS: int = 5\n",
    "N_TRIALS: int = 50"
   ]
  },
  {
   "cell_type": "code",
   "execution_count": 4,
   "id": "d5269b85",
   "metadata": {
    "execution": {
     "iopub.execute_input": "2025-05-15T16:15:44.080185Z",
     "iopub.status.busy": "2025-05-15T16:15:44.079805Z",
     "iopub.status.idle": "2025-05-15T16:15:45.570335Z",
     "shell.execute_reply": "2025-05-15T16:15:45.569662Z"
    },
    "papermill": {
     "duration": 1.499414,
     "end_time": "2025-05-15T16:15:45.571988",
     "exception": false,
     "start_time": "2025-05-15T16:15:44.072574",
     "status": "completed"
    },
    "tags": []
   },
   "outputs": [],
   "source": [
    "import os\n",
    "import sys\n",
    "from pyprojroot.here import here\n",
    "import pandas as pd\n",
    "import anndata as ad\n",
    "import numpy as np\n",
    "import math\n",
    "from sklearn.model_selection import StratifiedGroupKFold\n",
    "from sklearn.preprocessing import LabelEncoder\n",
    "from sklearn.metrics import f1_score\n",
    "import matplotlib.pyplot as plt\n",
    "import seaborn as sns\n",
    "from itertools import product\n",
    "from sklearn.metrics import balanced_accuracy_score, f1_score\n",
    "import optuna\n",
    "\n",
    "import joblib\n",
    "import pickle\n",
    "import datetime\n",
    "\n",
    "import collections\n",
    "\n",
    "import xgboost\n",
    "from sklearn.preprocessing import LabelEncoder\n",
    "\n",
    "import scipy.sparse as ssp\n",
    "import joblib\n",
    "\n",
    "from dotenv import load_dotenv"
   ]
  },
  {
   "cell_type": "code",
   "execution_count": 5,
   "id": "c0b2a945",
   "metadata": {
    "execution": {
     "iopub.execute_input": "2025-05-15T16:15:45.585429Z",
     "iopub.status.busy": "2025-05-15T16:15:45.585013Z",
     "iopub.status.idle": "2025-05-15T16:15:45.592640Z",
     "shell.execute_reply": "2025-05-15T16:15:45.592291Z"
    },
    "papermill": {
     "duration": 0.01535,
     "end_time": "2025-05-15T16:15:45.593641",
     "exception": false,
     "start_time": "2025-05-15T16:15:45.578291",
     "status": "completed"
    },
    "tags": []
   },
   "outputs": [
    {
     "data": {
      "text/plain": [
       "True"
      ]
     },
     "execution_count": 5,
     "metadata": {},
     "output_type": "execute_result"
    }
   ],
   "source": [
    "load_dotenv()"
   ]
  },
  {
   "cell_type": "markdown",
   "id": "14fe1221",
   "metadata": {
    "papermill": {
     "duration": 0.005639,
     "end_time": "2025-05-15T16:15:45.604767",
     "exception": false,
     "start_time": "2025-05-15T16:15:45.599128",
     "status": "completed"
    },
    "tags": []
   },
   "source": [
    "# LOAD DATASET"
   ]
  },
  {
   "cell_type": "code",
   "execution_count": 6,
   "id": "a296cde5",
   "metadata": {
    "execution": {
     "iopub.execute_input": "2025-05-15T16:15:45.616946Z",
     "iopub.status.busy": "2025-05-15T16:15:45.616634Z",
     "iopub.status.idle": "2025-05-15T16:15:45.659719Z",
     "shell.execute_reply": "2025-05-15T16:15:45.659156Z"
    },
    "papermill": {
     "duration": 0.050442,
     "end_time": "2025-05-15T16:15:45.660939",
     "exception": false,
     "start_time": "2025-05-15T16:15:45.610497",
     "status": "completed"
    },
    "tags": []
   },
   "outputs": [],
   "source": [
    "train_adata = ad.read_h5ad(\n",
    "    here(f'03_downstream_analysis/08_gene_importance/xgboost_external_validation/xgboost_TopN_genes/data_cellTypes/EXTERNAL_{CELL_TYPE}.filtered.log1p.h5ad')\n",
    ")"
   ]
  },
  {
   "cell_type": "code",
   "execution_count": 7,
   "id": "559a828f",
   "metadata": {
    "execution": {
     "iopub.execute_input": "2025-05-15T16:15:45.673219Z",
     "iopub.status.busy": "2025-05-15T16:15:45.672694Z",
     "iopub.status.idle": "2025-05-15T16:15:45.683629Z",
     "shell.execute_reply": "2025-05-15T16:15:45.683157Z"
    },
    "papermill": {
     "duration": 0.017902,
     "end_time": "2025-05-15T16:15:45.684563",
     "exception": false,
     "start_time": "2025-05-15T16:15:45.666661",
     "status": "completed"
    },
    "tags": []
   },
   "outputs": [
    {
     "name": "stdout",
     "output_type": "stream",
     "text": [
      "['ENSG00000235162' 'ENSG00000110324' 'ENSG00000133639' 'ENSG00000115523'\n",
      " 'ENSG00000158769' 'ENSG00000158517' 'ENSG00000204257' 'ENSG00000147168'\n",
      " 'ENSG00000145220' 'ENSG00000068831' 'ENSG00000100292' 'ENSG00000006125'\n",
      " 'ENSG00000172349' 'ENSG00000186010' 'ENSG00000179094' 'ENSG00000242616'\n",
      " 'ENSG00000143110' 'ENSG00000105374' 'ENSG00000065978' 'ENSG00000155368'\n",
      " 'ENSG00000146457' 'ENSG00000156411' 'ENSG00000168811' 'ENSG00000162772'\n",
      " 'ENSG00000111716' 'ENSG00000179295' 'ENSG00000116171' 'ENSG00000170458'\n",
      " 'ENSG00000118640' 'ENSG00000162704' 'ENSG00000075785' 'ENSG00000188313'\n",
      " 'ENSG00000168894' 'ENSG00000204287' 'ENSG00000122705' 'ENSG00000120738'\n",
      " 'ENSG00000137965' 'ENSG00000164543' 'ENSG00000081059' 'ENSG00000018280'\n",
      " 'ENSG00000164307' 'ENSG00000242574' 'ENSG00000089280' 'ENSG00000107485'\n",
      " 'ENSG00000197746' 'ENSG00000197471' 'ENSG00000118260' 'ENSG00000142208'\n",
      " 'ENSG00000241837' 'ENSG00000170581' 'ENSG00000231925' 'ENSG00000160932'\n",
      " 'ENSG00000106367' 'ENSG00000160712' 'ENSG00000163660' 'ENSG00000131143'\n",
      " 'ENSG00000198846' 'ENSG00000132432' 'ENSG00000100450' 'ENSG00000185591'\n",
      " 'ENSG00000123268' 'ENSG00000171476' 'ENSG00000158869' 'ENSG00000197111'\n",
      " 'ENSG00000175354' 'ENSG00000166888' 'ENSG00000145850' 'ENSG00000159958'\n",
      " 'ENSG00000163563' 'ENSG00000002549' 'ENSG00000135720' 'ENSG00000131788'\n",
      " 'ENSG00000162739' 'ENSG00000104904' 'ENSG00000204592' 'ENSG00000184007'\n",
      " 'ENSG00000155380' 'ENSG00000137100' 'ENSG00000158050' 'ENSG00000275302'\n",
      " 'ENSG00000120742' 'ENSG00000168610' 'ENSG00000115073' 'ENSG00000127022'\n",
      " 'ENSG00000092820' 'ENSG00000138160' 'ENSG00000091409' 'ENSG00000089327'\n",
      " 'ENSG00000228474' 'ENSG00000048462' 'ENSG00000171700' 'ENSG00000104964'\n",
      " 'ENSG00000134352' 'ENSG00000197872' 'ENSG00000164308' 'ENSG00000205542'\n",
      " 'ENSG00000108561' 'ENSG00000138674' 'ENSG00000171223' 'ENSG00000038427'\n",
      " 'ENSG00000163191' 'ENSG00000182287' 'ENSG00000138778' 'ENSG00000182866'\n",
      " 'ENSG00000141526' 'ENSG00000197956' 'ENSG00000113615']\n"
     ]
    }
   ],
   "source": [
    "if SEED != 'all':\n",
    "    gene_subset = np.load(here(f'03_downstream_analysis/08_gene_importance/xgboost_external_validation/shap_gene_selection/gene_subsets_{N_GENES}/{CELL_TYPE}_{SEED}.npy'), allow_pickle=True)\n",
    "    train_adata = train_adata[:,gene_subset]\n",
    "    print(gene_subset)\n",
    "elif SEED == 'all':\n",
    "    print('Using all genes')\n",
    "else:\n",
    "    raise ValueError()"
   ]
  },
  {
   "cell_type": "code",
   "execution_count": 8,
   "id": "e78a2c48",
   "metadata": {
    "execution": {
     "iopub.execute_input": "2025-05-15T16:15:45.697413Z",
     "iopub.status.busy": "2025-05-15T16:15:45.696593Z",
     "iopub.status.idle": "2025-05-15T16:15:45.700275Z",
     "shell.execute_reply": "2025-05-15T16:15:45.699929Z"
    },
    "papermill": {
     "duration": 0.01072,
     "end_time": "2025-05-15T16:15:45.701180",
     "exception": false,
     "start_time": "2025-05-15T16:15:45.690460",
     "status": "completed"
    },
    "tags": []
   },
   "outputs": [
    {
     "data": {
      "text/plain": [
       "(542, 107)"
      ]
     },
     "execution_count": 8,
     "metadata": {},
     "output_type": "execute_result"
    }
   ],
   "source": [
    "train_adata.shape"
   ]
  },
  {
   "cell_type": "code",
   "execution_count": 9,
   "id": "fb551e01",
   "metadata": {
    "execution": {
     "iopub.execute_input": "2025-05-15T16:15:45.714689Z",
     "iopub.status.busy": "2025-05-15T16:15:45.714011Z",
     "iopub.status.idle": "2025-05-15T16:15:45.718749Z",
     "shell.execute_reply": "2025-05-15T16:15:45.718395Z"
    },
    "papermill": {
     "duration": 0.011615,
     "end_time": "2025-05-15T16:15:45.719658",
     "exception": false,
     "start_time": "2025-05-15T16:15:45.708043",
     "status": "completed"
    },
    "tags": []
   },
   "outputs": [
    {
     "data": {
      "text/plain": [
       "['RA', 'COVID', 'healthy', 'HIV', 'cirrhosis', 'CD', 'SLE', 'sepsis']\n",
       "Categories (8, object): ['CD', 'COVID', 'HIV', 'RA', 'SLE', 'cirrhosis', 'healthy', 'sepsis']"
      ]
     },
     "execution_count": 9,
     "metadata": {},
     "output_type": "execute_result"
    }
   ],
   "source": [
    "train_adata.obs.disease.unique()"
   ]
  },
  {
   "cell_type": "code",
   "execution_count": 10,
   "id": "42c46572",
   "metadata": {
    "execution": {
     "iopub.execute_input": "2025-05-15T16:15:45.733004Z",
     "iopub.status.busy": "2025-05-15T16:15:45.732136Z",
     "iopub.status.idle": "2025-05-15T16:15:45.736762Z",
     "shell.execute_reply": "2025-05-15T16:15:45.736292Z"
    },
    "papermill": {
     "duration": 0.012262,
     "end_time": "2025-05-15T16:15:45.737758",
     "exception": false,
     "start_time": "2025-05-15T16:15:45.725496",
     "status": "completed"
    },
    "tags": []
   },
   "outputs": [
    {
     "data": {
      "text/plain": [
       "['SCGT00val_I0364_T0', 'SCGT00val_I036019_T0', 'SCGT00val_I036028_T0', 'SCGT00val_I036024_T0', 'SCGT00val_I036016_T0', ..., '10XGenomics_10XHC2_T0', '10XGenomics_10XHC3_T0', '10XGenomics_10XHC5_T0', '10XGenomics_10XHC7_T0', '10XGenomics_10XHC8_T0']\n",
       "Length: 74\n",
       "Categories (74, object): ['10XGenomics_10XHC1_T0', '10XGenomics_10XHC2_T0', '10XGenomics_10XHC3_T0', '10XGenomics_10XHC4_T0', ..., 'Savage2021_BRISL6_T0', 'Savage2021_BRISL7_T0', 'Savage2021_PIDA_T0', 'Savage2021_PIDB_T0']"
      ]
     },
     "execution_count": 10,
     "metadata": {},
     "output_type": "execute_result"
    }
   ],
   "source": [
    "train_adata.obs.sampleID.unique()"
   ]
  },
  {
   "cell_type": "code",
   "execution_count": 11,
   "id": "181c4611",
   "metadata": {
    "execution": {
     "iopub.execute_input": "2025-05-15T16:15:45.750356Z",
     "iopub.status.busy": "2025-05-15T16:15:45.750121Z",
     "iopub.status.idle": "2025-05-15T16:15:45.783775Z",
     "shell.execute_reply": "2025-05-15T16:15:45.783266Z"
    },
    "papermill": {
     "duration": 0.040924,
     "end_time": "2025-05-15T16:15:45.784758",
     "exception": false,
     "start_time": "2025-05-15T16:15:45.743834",
     "status": "completed"
    },
    "tags": []
   },
   "outputs": [],
   "source": [
    "all_idxs = np.arange(train_adata.obs.shape[0])\n",
    "left_out_splits = [s[1] for s in StratifiedGroupKFold(n_splits=N_SPLITS).split(all_idxs, train_adata.obs.disease, train_adata.obs.sampleID)]"
   ]
  },
  {
   "cell_type": "code",
   "execution_count": 12,
   "id": "91cd7fd4",
   "metadata": {
    "execution": {
     "iopub.execute_input": "2025-05-15T16:15:45.797548Z",
     "iopub.status.busy": "2025-05-15T16:15:45.797242Z",
     "iopub.status.idle": "2025-05-15T16:15:45.801094Z",
     "shell.execute_reply": "2025-05-15T16:15:45.800724Z"
    },
    "papermill": {
     "duration": 0.011164,
     "end_time": "2025-05-15T16:15:45.802122",
     "exception": false,
     "start_time": "2025-05-15T16:15:45.790958",
     "status": "completed"
    },
    "tags": []
   },
   "outputs": [
    {
     "data": {
      "text/plain": [
       "([0, 1, 2], 4, 3)"
      ]
     },
     "execution_count": 12,
     "metadata": {},
     "output_type": "execute_result"
    }
   ],
   "source": [
    "TRAIN_SPLIT_IDXS = [0,1,2,3,4]\n",
    "VAL_SPLIT_IDX = (TEST_SPLIT_IDX + 1) % 5\n",
    "TRAIN_SPLIT_IDXS.remove(TEST_SPLIT_IDX)\n",
    "TRAIN_SPLIT_IDXS.remove(VAL_SPLIT_IDX)\n",
    "TRAIN_SPLIT_IDXS, VAL_SPLIT_IDX, TEST_SPLIT_IDX"
   ]
  },
  {
   "cell_type": "code",
   "execution_count": 13,
   "id": "0580fa1f",
   "metadata": {
    "execution": {
     "iopub.execute_input": "2025-05-15T16:15:45.814707Z",
     "iopub.status.busy": "2025-05-15T16:15:45.814481Z",
     "iopub.status.idle": "2025-05-15T16:15:45.817416Z",
     "shell.execute_reply": "2025-05-15T16:15:45.817078Z"
    },
    "papermill": {
     "duration": 0.010322,
     "end_time": "2025-05-15T16:15:45.818380",
     "exception": false,
     "start_time": "2025-05-15T16:15:45.808058",
     "status": "completed"
    },
    "tags": []
   },
   "outputs": [],
   "source": [
    "train_idxs = np.concatenate([left_out_splits[idx] for idx in TRAIN_SPLIT_IDXS])\n",
    "val_idxs = left_out_splits[VAL_SPLIT_IDX]\n",
    "test_idxs = left_out_splits[TEST_SPLIT_IDX]"
   ]
  },
  {
   "cell_type": "markdown",
   "id": "a35ea9fc",
   "metadata": {
    "papermill": {
     "duration": 0.005711,
     "end_time": "2025-05-15T16:15:45.829938",
     "exception": false,
     "start_time": "2025-05-15T16:15:45.824227",
     "status": "completed"
    },
    "tags": []
   },
   "source": [
    "### SUBSET DATASET INTO TRAIN/TEST/VAL SPLITS"
   ]
  },
  {
   "cell_type": "code",
   "execution_count": 14,
   "id": "b2b8978d",
   "metadata": {
    "execution": {
     "iopub.execute_input": "2025-05-15T16:15:45.843039Z",
     "iopub.status.busy": "2025-05-15T16:15:45.842506Z",
     "iopub.status.idle": "2025-05-15T16:15:45.850361Z",
     "shell.execute_reply": "2025-05-15T16:15:45.850020Z"
    },
    "papermill": {
     "duration": 0.015186,
     "end_time": "2025-05-15T16:15:45.851264",
     "exception": false,
     "start_time": "2025-05-15T16:15:45.836078",
     "status": "completed"
    },
    "tags": []
   },
   "outputs": [
    {
     "data": {
      "text/plain": [
       "((327, 107), (99, 107), (116, 107))"
      ]
     },
     "execution_count": 14,
     "metadata": {},
     "output_type": "execute_result"
    }
   ],
   "source": [
    "X_train = train_adata.X[train_idxs]\n",
    "X_test = train_adata.X[test_idxs]\n",
    "X_val = train_adata.X[val_idxs]\n",
    "X_train.shape, X_test.shape, X_val.shape"
   ]
  },
  {
   "cell_type": "code",
   "execution_count": 15,
   "id": "26ed7b63",
   "metadata": {
    "execution": {
     "iopub.execute_input": "2025-05-15T16:15:45.864054Z",
     "iopub.status.busy": "2025-05-15T16:15:45.863583Z",
     "iopub.status.idle": "2025-05-15T16:15:45.869666Z",
     "shell.execute_reply": "2025-05-15T16:15:45.869313Z"
    },
    "papermill": {
     "duration": 0.013397,
     "end_time": "2025-05-15T16:15:45.870570",
     "exception": false,
     "start_time": "2025-05-15T16:15:45.857173",
     "status": "completed"
    },
    "tags": []
   },
   "outputs": [
    {
     "data": {
      "text/plain": [
       "((327,), (99,), (116,))"
      ]
     },
     "execution_count": 15,
     "metadata": {},
     "output_type": "execute_result"
    }
   ],
   "source": [
    "y_train = train_adata.obs.iloc[train_idxs].disease.values.astype(str)\n",
    "y_test = train_adata.obs.iloc[test_idxs].disease.values.astype(str)\n",
    "y_val = train_adata.obs.iloc[val_idxs].disease.values.astype(str)\n",
    "y_train.shape, y_test.shape, y_val.shape"
   ]
  },
  {
   "cell_type": "code",
   "execution_count": 16,
   "id": "91606092",
   "metadata": {
    "execution": {
     "iopub.execute_input": "2025-05-15T16:15:45.885282Z",
     "iopub.status.busy": "2025-05-15T16:15:45.884979Z",
     "iopub.status.idle": "2025-05-15T16:15:45.888236Z",
     "shell.execute_reply": "2025-05-15T16:15:45.887886Z"
    },
    "papermill": {
     "duration": 0.0114,
     "end_time": "2025-05-15T16:15:45.889167",
     "exception": false,
     "start_time": "2025-05-15T16:15:45.877767",
     "status": "completed"
    },
    "tags": []
   },
   "outputs": [],
   "source": [
    "lenc = LabelEncoder()\n",
    "y_train_enc = lenc.fit_transform(y_train)\n",
    "y_val_enc = lenc.transform(y_val)\n",
    "y_test_enc = lenc.transform(y_test)"
   ]
  },
  {
   "cell_type": "markdown",
   "id": "e95243cb",
   "metadata": {
    "papermill": {
     "duration": 0.005939,
     "end_time": "2025-05-15T16:15:45.901277",
     "exception": false,
     "start_time": "2025-05-15T16:15:45.895338",
     "status": "completed"
    },
    "tags": []
   },
   "source": [
    "### GENERATE F1 "
   ]
  },
  {
   "cell_type": "code",
   "execution_count": 17,
   "id": "eaf0fa74",
   "metadata": {
    "execution": {
     "iopub.execute_input": "2025-05-15T16:15:45.915916Z",
     "iopub.status.busy": "2025-05-15T16:15:45.915297Z",
     "iopub.status.idle": "2025-05-15T16:15:45.917965Z",
     "shell.execute_reply": "2025-05-15T16:15:45.917617Z"
    },
    "papermill": {
     "duration": 0.010601,
     "end_time": "2025-05-15T16:15:45.918949",
     "exception": false,
     "start_time": "2025-05-15T16:15:45.908348",
     "status": "completed"
    },
    "tags": []
   },
   "outputs": [],
   "source": [
    "def custom_f1_score(y_true, y_pred):\n",
    "    return -f1_score(y_true, y_pred.argmax(1), average='weighted')"
   ]
  },
  {
   "cell_type": "code",
   "execution_count": 18,
   "id": "fb2b2479",
   "metadata": {
    "execution": {
     "iopub.execute_input": "2025-05-15T16:15:45.933810Z",
     "iopub.status.busy": "2025-05-15T16:15:45.933582Z",
     "iopub.status.idle": "2025-05-15T16:15:45.937758Z",
     "shell.execute_reply": "2025-05-15T16:15:45.937411Z"
    },
    "papermill": {
     "duration": 0.013463,
     "end_time": "2025-05-15T16:15:45.938709",
     "exception": false,
     "start_time": "2025-05-15T16:15:45.925246",
     "status": "completed"
    },
    "tags": []
   },
   "outputs": [],
   "source": [
    "eval_metric=custom_f1_score\n",
    "eval_metric_name='custom_f1_score'\n",
    "\n",
    "def objective(trial):\n",
    "    params = {\n",
    "        'n_estimators': 1500,\n",
    "        'max_depth': trial.suggest_int('max_depth', 3, 20),\n",
    "        'min_child_weight': trial.suggest_int('min_child_weight', 1, 250),\n",
    "        'subsample': trial.suggest_float('subsample', 0.1, 1.0),\n",
    "        'colsample_bynode': trial.suggest_float('colsample_bynode', 0.1, 1.0),\n",
    "        'learning_rate': trial.suggest_float('learning_rate', 1e-3, 5e-1, log=True),\n",
    "    }\n",
    "    pruning_callback = optuna.integration.XGBoostPruningCallback(trial, f'validation_0-{eval_metric_name}')\n",
    "    es_callback = xgboost.callback.EarlyStopping(20, min_delta=0.001)\n",
    "    xgb = xgboost.XGBClassifier(\n",
    "        eval_metric=eval_metric,\n",
    "        callbacks=[pruning_callback, es_callback],\n",
    "        n_jobs=5,\n",
    "        **params\n",
    "    )\n",
    "    xgb.fit(\n",
    "        X_train, \n",
    "        y_train_enc, \n",
    "        verbose=0,\n",
    "        eval_set=[(X_val, y_val_enc)],\n",
    "    )\n",
    "    trial.set_user_attr('best_iteration', xgb.best_iteration)\n",
    "\n",
    "    return xgb.best_score"
   ]
  },
  {
   "cell_type": "code",
   "execution_count": 19,
   "id": "1586e355",
   "metadata": {
    "execution": {
     "iopub.execute_input": "2025-05-15T16:15:45.953509Z",
     "iopub.status.busy": "2025-05-15T16:15:45.953356Z",
     "iopub.status.idle": "2025-05-15T16:16:00.020047Z",
     "shell.execute_reply": "2025-05-15T16:16:00.019409Z"
    },
    "papermill": {
     "duration": 14.074369,
     "end_time": "2025-05-15T16:16:00.021118",
     "exception": false,
     "start_time": "2025-05-15T16:15:45.946749",
     "status": "completed"
    },
    "scrolled": true,
    "tags": []
   },
   "outputs": [
    {
     "name": "stderr",
     "output_type": "stream",
     "text": [
      "[I 2025-05-15 18:15:45,955] A new study created in memory with name: no-name-fd329ba4-2c89-4a19-a44a-dbf8362ecc93\n"
     ]
    },
    {
     "name": "stderr",
     "output_type": "stream",
     "text": [
      "[I 2025-05-15 18:15:46,021] Trial 0 finished with value: -0.041688 and parameters: {'max_depth': 9, 'min_child_weight': 238, 'subsample': 0.7587945476302645, 'colsample_bynode': 0.6387926357773329, 'learning_rate': 0.0026368755339723046}. Best is trial 0 with value: -0.041688.\n"
     ]
    },
    {
     "name": "stderr",
     "output_type": "stream",
     "text": [
      "[I 2025-05-15 18:15:46,466] Trial 1 finished with value: -0.58187 and parameters: {'max_depth': 5, 'min_child_weight': 15, 'subsample': 0.8795585311974417, 'colsample_bynode': 0.6410035105688879, 'learning_rate': 0.08148293210105287}. Best is trial 1 with value: -0.58187.\n"
     ]
    },
    {
     "name": "stderr",
     "output_type": "stream",
     "text": [
      "[I 2025-05-15 18:15:46,624] Trial 2 finished with value: -0.041688 and parameters: {'max_depth': 3, 'min_child_weight': 243, 'subsample': 0.8491983767203796, 'colsample_bynode': 0.29110519961044856, 'learning_rate': 0.003095566460242371}. Best is trial 1 with value: -0.58187.\n"
     ]
    },
    {
     "name": "stderr",
     "output_type": "stream",
     "text": [
      "[I 2025-05-15 18:15:46,761] Trial 3 finished with value: -0.041688 and parameters: {'max_depth': 6, 'min_child_weight': 77, 'subsample': 0.5722807884690141, 'colsample_bynode': 0.48875051677790415, 'learning_rate': 0.006109683510122491}. Best is trial 1 with value: -0.58187.\n"
     ]
    },
    {
     "name": "stderr",
     "output_type": "stream",
     "text": [
      "[I 2025-05-15 18:15:46,907] Trial 4 finished with value: -0.041688 and parameters: {'max_depth': 14, 'min_child_weight': 35, 'subsample': 0.3629301836816964, 'colsample_bynode': 0.4297256589643226, 'learning_rate': 0.01701841881702917}. Best is trial 1 with value: -0.58187.\n"
     ]
    },
    {
     "name": "stderr",
     "output_type": "stream",
     "text": [
      "[I 2025-05-15 18:15:47,062] Trial 5 finished with value: -0.041688 and parameters: {'max_depth': 17, 'min_child_weight': 50, 'subsample': 0.5628109945722505, 'colsample_bynode': 0.6331731119758383, 'learning_rate': 0.0013346527038305934}. Best is trial 1 with value: -0.58187.\n"
     ]
    },
    {
     "name": "stderr",
     "output_type": "stream",
     "text": [
      "[I 2025-05-15 18:15:47,210] Trial 6 finished with value: -0.041688 and parameters: {'max_depth': 13, 'min_child_weight': 43, 'subsample': 0.1585464336867516, 'colsample_bynode': 0.9539969835279999, 'learning_rate': 0.4038423798071558}. Best is trial 1 with value: -0.58187.\n"
     ]
    },
    {
     "name": "stderr",
     "output_type": "stream",
     "text": [
      "[I 2025-05-15 18:15:47,373] Trial 7 finished with value: -0.041688 and parameters: {'max_depth': 17, 'min_child_weight': 77, 'subsample': 0.1879049026057455, 'colsample_bynode': 0.7158097238609412, 'learning_rate': 0.015415527060141935}. Best is trial 1 with value: -0.58187.\n"
     ]
    },
    {
     "name": "stderr",
     "output_type": "stream",
     "text": [
      "[I 2025-05-15 18:15:47,522] Trial 8 finished with value: -0.041688 and parameters: {'max_depth': 5, 'min_child_weight': 124, 'subsample': 0.13094966900369656, 'colsample_bynode': 0.9183883618709039, 'learning_rate': 0.004993895014755658}. Best is trial 1 with value: -0.58187.\n"
     ]
    },
    {
     "name": "stderr",
     "output_type": "stream",
     "text": [
      "[I 2025-05-15 18:15:47,681] Trial 9 finished with value: -0.041688 and parameters: {'max_depth': 14, 'min_child_weight': 78, 'subsample': 0.5680612190600297, 'colsample_bynode': 0.5920392514089517, 'learning_rate': 0.0031543990308330965}. Best is trial 1 with value: -0.58187.\n"
     ]
    },
    {
     "name": "stderr",
     "output_type": "stream",
     "text": [
      "[I 2025-05-15 18:15:48,077] Trial 10 finished with value: -0.578933 and parameters: {'max_depth': 9, 'min_child_weight': 2, 'subsample': 0.9725833997090791, 'colsample_bynode': 0.11616568805333755, 'learning_rate': 0.17780618353487967}. Best is trial 1 with value: -0.58187.\n"
     ]
    },
    {
     "name": "stderr",
     "output_type": "stream",
     "text": [
      "[I 2025-05-15 18:15:48,593] Trial 11 finished with value: -0.597015 and parameters: {'max_depth': 9, 'min_child_weight': 4, 'subsample': 0.9818290990185045, 'colsample_bynode': 0.17702656156719, 'learning_rate': 0.11568531411766632}. Best is trial 11 with value: -0.597015.\n"
     ]
    },
    {
     "name": "stderr",
     "output_type": "stream",
     "text": [
      "[I 2025-05-15 18:15:48,883] Trial 12 pruned. Trial was pruned at iteration 23.\n"
     ]
    },
    {
     "name": "stderr",
     "output_type": "stream",
     "text": [
      "[I 2025-05-15 18:15:49,063] Trial 13 finished with value: -0.041688 and parameters: {'max_depth': 6, 'min_child_weight': 173, 'subsample': 0.790863397930712, 'colsample_bynode': 0.8100137258468498, 'learning_rate': 0.05535376435186281}. Best is trial 11 with value: -0.597015.\n"
     ]
    },
    {
     "name": "stderr",
     "output_type": "stream",
     "text": [
      "[I 2025-05-15 18:15:49,225] Trial 14 finished with value: -0.041688 and parameters: {'max_depth': 11, 'min_child_weight': 132, 'subsample': 0.878759458887783, 'colsample_bynode': 0.3470364759542328, 'learning_rate': 0.07805789099500472}. Best is trial 11 with value: -0.597015.\n"
     ]
    },
    {
     "name": "stderr",
     "output_type": "stream",
     "text": [
      "[I 2025-05-15 18:15:49,555] Trial 15 finished with value: -0.559788 and parameters: {'max_depth': 20, 'min_child_weight': 1, 'subsample': 0.7012908959710442, 'colsample_bynode': 0.2540835086298475, 'learning_rate': 0.2833114876720916}. Best is trial 11 with value: -0.597015.\n"
     ]
    },
    {
     "name": "stderr",
     "output_type": "stream",
     "text": [
      "[I 2025-05-15 18:15:49,713] Trial 16 finished with value: -0.041688 and parameters: {'max_depth': 3, 'min_child_weight': 118, 'subsample': 0.6793972749809175, 'colsample_bynode': 0.7696944218640787, 'learning_rate': 0.14248338207314018}. Best is trial 11 with value: -0.597015.\n"
     ]
    },
    {
     "name": "stderr",
     "output_type": "stream",
     "text": [
      "[I 2025-05-15 18:15:49,898] Trial 17 finished with value: -0.041688 and parameters: {'max_depth': 7, 'min_child_weight': 183, 'subsample': 0.42926887230238714, 'colsample_bynode': 0.4790703730657984, 'learning_rate': 0.03429743867756372}. Best is trial 11 with value: -0.597015.\n"
     ]
    },
    {
     "name": "stderr",
     "output_type": "stream",
     "text": [
      "[I 2025-05-15 18:15:50,057] Trial 18 pruned. Trial was pruned at iteration 21.\n"
     ]
    },
    {
     "name": "stderr",
     "output_type": "stream",
     "text": [
      "[I 2025-05-15 18:15:50,231] Trial 19 finished with value: -0.041688 and parameters: {'max_depth': 4, 'min_child_weight': 96, 'subsample': 0.9723428668438461, 'colsample_bynode': 0.21504189185437605, 'learning_rate': 0.03320644976210297}. Best is trial 11 with value: -0.597015.\n"
     ]
    },
    {
     "name": "stderr",
     "output_type": "stream",
     "text": [
      "[I 2025-05-15 18:15:50,402] Trial 20 pruned. Trial was pruned at iteration 21.\n"
     ]
    },
    {
     "name": "stderr",
     "output_type": "stream",
     "text": [
      "[I 2025-05-15 18:15:50,614] Trial 21 pruned. Trial was pruned at iteration 21.\n"
     ]
    },
    {
     "name": "stderr",
     "output_type": "stream",
     "text": [
      "[I 2025-05-15 18:15:50,777] Trial 22 pruned. Trial was pruned at iteration 21.\n"
     ]
    },
    {
     "name": "stderr",
     "output_type": "stream",
     "text": [
      "[I 2025-05-15 18:15:50,969] Trial 23 pruned. Trial was pruned at iteration 21.\n"
     ]
    },
    {
     "name": "stderr",
     "output_type": "stream",
     "text": [
      "[I 2025-05-15 18:15:51,139] Trial 24 finished with value: -0.119292 and parameters: {'max_depth': 7, 'min_child_weight': 59, 'subsample': 0.9363676414616533, 'colsample_bynode': 0.12002282955302784, 'learning_rate': 0.04656230935487363}. Best is trial 11 with value: -0.597015.\n"
     ]
    },
    {
     "name": "stderr",
     "output_type": "stream",
     "text": [
      "[I 2025-05-15 18:15:51,321] Trial 25 pruned. Trial was pruned at iteration 21.\n"
     ]
    },
    {
     "name": "stderr",
     "output_type": "stream",
     "text": [
      "[I 2025-05-15 18:15:52,301] Trial 26 finished with value: -0.660034 and parameters: {'max_depth': 10, 'min_child_weight': 1, 'subsample': 0.845225494478273, 'colsample_bynode': 0.6993996736375041, 'learning_rate': 0.11302262870839216}. Best is trial 26 with value: -0.660034.\n"
     ]
    },
    {
     "name": "stderr",
     "output_type": "stream",
     "text": [
      "[I 2025-05-15 18:15:52,482] Trial 27 finished with value: -0.377332 and parameters: {'max_depth': 16, 'min_child_weight': 27, 'subsample': 0.8335926058720222, 'colsample_bynode': 0.7251973299445723, 'learning_rate': 0.025113527016106304}. Best is trial 26 with value: -0.660034.\n"
     ]
    },
    {
     "name": "stderr",
     "output_type": "stream",
     "text": [
      "[I 2025-05-15 18:15:52,665] Trial 28 finished with value: -0.041688 and parameters: {'max_depth': 10, 'min_child_weight': 98, 'subsample': 0.351364399688412, 'colsample_bynode': 0.8170277621371376, 'learning_rate': 0.01232648763440492}. Best is trial 26 with value: -0.660034.\n"
     ]
    },
    {
     "name": "stderr",
     "output_type": "stream",
     "text": [
      "[I 2025-05-15 18:15:52,823] Trial 29 finished with value: -0.041688 and parameters: {'max_depth': 8, 'min_child_weight': 217, 'subsample': 0.7450104887268227, 'colsample_bynode': 0.6335799053554414, 'learning_rate': 0.09248862261845184}. Best is trial 26 with value: -0.660034.\n"
     ]
    },
    {
     "name": "stderr",
     "output_type": "stream",
     "text": [
      "[I 2025-05-15 18:15:52,997] Trial 30 finished with value: -0.041688 and parameters: {'max_depth': 10, 'min_child_weight': 150, 'subsample': 0.6460024144233811, 'colsample_bynode': 0.8901643208062897, 'learning_rate': 0.0557523809747042}. Best is trial 26 with value: -0.660034.\n"
     ]
    },
    {
     "name": "stderr",
     "output_type": "stream",
     "text": [
      "[I 2025-05-15 18:15:53,440] Trial 31 finished with value: -0.601389 and parameters: {'max_depth': 9, 'min_child_weight': 4, 'subsample': 0.9060711495639335, 'colsample_bynode': 0.692910796961594, 'learning_rate': 0.13552405204008652}. Best is trial 26 with value: -0.660034.\n"
     ]
    },
    {
     "name": "stderr",
     "output_type": "stream",
     "text": [
      "[I 2025-05-15 18:15:53,668] Trial 32 pruned. Trial was pruned at iteration 21.\n"
     ]
    },
    {
     "name": "stderr",
     "output_type": "stream",
     "text": [
      "[I 2025-05-15 18:15:53,837] Trial 33 pruned. Trial was pruned at iteration 21.\n"
     ]
    },
    {
     "name": "stderr",
     "output_type": "stream",
     "text": [
      "[I 2025-05-15 18:15:54,038] Trial 34 pruned. Trial was pruned at iteration 21.\n"
     ]
    },
    {
     "name": "stderr",
     "output_type": "stream",
     "text": [
      "[I 2025-05-15 18:15:54,206] Trial 35 finished with value: -0.041688 and parameters: {'max_depth': 5, 'min_child_weight': 45, 'subsample': 0.47258758756243163, 'colsample_bynode': 0.5697904770908226, 'learning_rate': 0.07584939712233933}. Best is trial 26 with value: -0.660034.\n"
     ]
    },
    {
     "name": "stderr",
     "output_type": "stream",
     "text": [
      "[I 2025-05-15 18:15:54,440] Trial 36 pruned. Trial was pruned at iteration 24.\n"
     ]
    },
    {
     "name": "stderr",
     "output_type": "stream",
     "text": [
      "[I 2025-05-15 18:15:54,615] Trial 37 pruned. Trial was pruned at iteration 21.\n"
     ]
    },
    {
     "name": "stderr",
     "output_type": "stream",
     "text": [
      "[I 2025-05-15 18:15:54,786] Trial 38 finished with value: -0.041688 and parameters: {'max_depth': 3, 'min_child_weight': 72, 'subsample': 0.718210525807497, 'colsample_bynode': 0.6661502635132263, 'learning_rate': 0.01026344858378833}. Best is trial 26 with value: -0.660034.\n"
     ]
    },
    {
     "name": "stderr",
     "output_type": "stream",
     "text": [
      "[I 2025-05-15 18:15:55,053] Trial 39 pruned. Trial was pruned at iteration 21.\n"
     ]
    },
    {
     "name": "stderr",
     "output_type": "stream",
     "text": [
      "[I 2025-05-15 18:15:55,225] Trial 40 pruned. Trial was pruned at iteration 21.\n"
     ]
    },
    {
     "name": "stderr",
     "output_type": "stream",
     "text": [
      "[I 2025-05-15 18:15:55,866] Trial 41 finished with value: -0.599003 and parameters: {'max_depth': 9, 'min_child_weight': 2, 'subsample': 0.9495231373051289, 'colsample_bynode': 0.6958412819137137, 'learning_rate': 0.1749864684250927}. Best is trial 26 with value: -0.660034.\n"
     ]
    },
    {
     "name": "stderr",
     "output_type": "stream",
     "text": [
      "[I 2025-05-15 18:15:56,641] Trial 42 finished with value: -0.618702 and parameters: {'max_depth': 9, 'min_child_weight': 2, 'subsample': 0.9490232331247879, 'colsample_bynode': 0.6724668262276075, 'learning_rate': 0.118508364108173}. Best is trial 26 with value: -0.660034.\n"
     ]
    },
    {
     "name": "stderr",
     "output_type": "stream",
     "text": [
      "[I 2025-05-15 18:15:57,257] Trial 43 finished with value: -0.610449 and parameters: {'max_depth': 9, 'min_child_weight': 2, 'subsample': 0.9436732681409206, 'colsample_bynode': 0.6733606962216073, 'learning_rate': 0.11769052640062143}. Best is trial 26 with value: -0.660034.\n"
     ]
    },
    {
     "name": "stderr",
     "output_type": "stream",
     "text": [
      "[I 2025-05-15 18:15:57,978] Trial 44 finished with value: -0.642135 and parameters: {'max_depth': 11, 'min_child_weight': 1, 'subsample': 0.9374351093921989, 'colsample_bynode': 0.684077772235157, 'learning_rate': 0.18884619357715163}. Best is trial 26 with value: -0.660034.\n"
     ]
    },
    {
     "name": "stderr",
     "output_type": "stream",
     "text": [
      "[I 2025-05-15 18:15:58,212] Trial 45 pruned. Trial was pruned at iteration 21.\n"
     ]
    },
    {
     "name": "stderr",
     "output_type": "stream",
     "text": [
      "[I 2025-05-15 18:15:58,425] Trial 46 pruned. Trial was pruned at iteration 21.\n"
     ]
    },
    {
     "name": "stderr",
     "output_type": "stream",
     "text": [
      "[I 2025-05-15 18:15:58,619] Trial 47 pruned. Trial was pruned at iteration 20.\n"
     ]
    },
    {
     "name": "stderr",
     "output_type": "stream",
     "text": [
      "[I 2025-05-15 18:15:58,820] Trial 48 pruned. Trial was pruned at iteration 20.\n"
     ]
    },
    {
     "name": "stderr",
     "output_type": "stream",
     "text": [
      "[I 2025-05-15 18:15:59,899] Trial 49 finished with value: -0.669539 and parameters: {'max_depth': 11, 'min_child_weight': 1, 'subsample': 0.8027741329725511, 'colsample_bynode': 0.7414185744389282, 'learning_rate': 0.11354146340983223}. Best is trial 49 with value: -0.669539.\n"
     ]
    }
   ],
   "source": [
    "sampler = optuna.samplers.TPESampler(seed=42)\n",
    "study = optuna.create_study(direction='minimize', sampler=sampler)\n",
    "study.optimize(objective, n_trials=N_TRIALS, gc_after_trial=True)"
   ]
  },
  {
   "cell_type": "code",
   "execution_count": 20,
   "id": "514dad8f",
   "metadata": {
    "execution": {
     "iopub.execute_input": "2025-05-15T16:16:00.041232Z",
     "iopub.status.busy": "2025-05-15T16:16:00.040960Z",
     "iopub.status.idle": "2025-05-15T16:16:00.066055Z",
     "shell.execute_reply": "2025-05-15T16:16:00.065562Z"
    },
    "papermill": {
     "duration": 0.035617,
     "end_time": "2025-05-15T16:16:00.067090",
     "exception": false,
     "start_time": "2025-05-15T16:16:00.031473",
     "status": "completed"
    },
    "tags": []
   },
   "outputs": [
    {
     "data": {
      "text/plain": [
       "['/scratch_isilon/groups/singlecell/shared/projects/Inflammation-PBMCs-Atlas/03_downstream_analysis/08_gene_importance/xgboost_external_validation/xgboost_TopN_genes/results_20/study/Plasma_13_3_xgboost.pkl']"
      ]
     },
     "execution_count": 20,
     "metadata": {},
     "output_type": "execute_result"
    }
   ],
   "source": [
    "out_dir = here(f'03_downstream_analysis/08_gene_importance/xgboost_external_validation/xgboost_TopN_genes/results_{N_GENES}/study')\n",
    "\n",
    "if not os.path.exists(out_dir):\n",
    "    os.makedirs(out_dir)\n",
    "    \n",
    "joblib.dump(study,os.path.join(out_dir, f'{CELL_TYPE}_{SEED}_{TEST_SPLIT_IDX}_xgboost.pkl'))"
   ]
  },
  {
   "cell_type": "code",
   "execution_count": 21,
   "id": "d94cd7f0",
   "metadata": {
    "execution": {
     "iopub.execute_input": "2025-05-15T16:16:00.087008Z",
     "iopub.status.busy": "2025-05-15T16:16:00.086457Z",
     "iopub.status.idle": "2025-05-15T16:16:01.065253Z",
     "shell.execute_reply": "2025-05-15T16:16:01.064591Z"
    },
    "papermill": {
     "duration": 0.990022,
     "end_time": "2025-05-15T16:16:01.066406",
     "exception": false,
     "start_time": "2025-05-15T16:16:00.076384",
     "status": "completed"
    },
    "tags": []
   },
   "outputs": [
    {
     "data": {
      "text/html": [
       "<style>#sk-container-id-1 {\n",
       "  /* Definition of color scheme common for light and dark mode */\n",
       "  --sklearn-color-text: black;\n",
       "  --sklearn-color-line: gray;\n",
       "  /* Definition of color scheme for unfitted estimators */\n",
       "  --sklearn-color-unfitted-level-0: #fff5e6;\n",
       "  --sklearn-color-unfitted-level-1: #f6e4d2;\n",
       "  --sklearn-color-unfitted-level-2: #ffe0b3;\n",
       "  --sklearn-color-unfitted-level-3: chocolate;\n",
       "  /* Definition of color scheme for fitted estimators */\n",
       "  --sklearn-color-fitted-level-0: #f0f8ff;\n",
       "  --sklearn-color-fitted-level-1: #d4ebff;\n",
       "  --sklearn-color-fitted-level-2: #b3dbfd;\n",
       "  --sklearn-color-fitted-level-3: cornflowerblue;\n",
       "\n",
       "  /* Specific color for light theme */\n",
       "  --sklearn-color-text-on-default-background: var(--sg-text-color, var(--theme-code-foreground, var(--jp-content-font-color1, black)));\n",
       "  --sklearn-color-background: var(--sg-background-color, var(--theme-background, var(--jp-layout-color0, white)));\n",
       "  --sklearn-color-border-box: var(--sg-text-color, var(--theme-code-foreground, var(--jp-content-font-color1, black)));\n",
       "  --sklearn-color-icon: #696969;\n",
       "\n",
       "  @media (prefers-color-scheme: dark) {\n",
       "    /* Redefinition of color scheme for dark theme */\n",
       "    --sklearn-color-text-on-default-background: var(--sg-text-color, var(--theme-code-foreground, var(--jp-content-font-color1, white)));\n",
       "    --sklearn-color-background: var(--sg-background-color, var(--theme-background, var(--jp-layout-color0, #111)));\n",
       "    --sklearn-color-border-box: var(--sg-text-color, var(--theme-code-foreground, var(--jp-content-font-color1, white)));\n",
       "    --sklearn-color-icon: #878787;\n",
       "  }\n",
       "}\n",
       "\n",
       "#sk-container-id-1 {\n",
       "  color: var(--sklearn-color-text);\n",
       "}\n",
       "\n",
       "#sk-container-id-1 pre {\n",
       "  padding: 0;\n",
       "}\n",
       "\n",
       "#sk-container-id-1 input.sk-hidden--visually {\n",
       "  border: 0;\n",
       "  clip: rect(1px 1px 1px 1px);\n",
       "  clip: rect(1px, 1px, 1px, 1px);\n",
       "  height: 1px;\n",
       "  margin: -1px;\n",
       "  overflow: hidden;\n",
       "  padding: 0;\n",
       "  position: absolute;\n",
       "  width: 1px;\n",
       "}\n",
       "\n",
       "#sk-container-id-1 div.sk-dashed-wrapped {\n",
       "  border: 1px dashed var(--sklearn-color-line);\n",
       "  margin: 0 0.4em 0.5em 0.4em;\n",
       "  box-sizing: border-box;\n",
       "  padding-bottom: 0.4em;\n",
       "  background-color: var(--sklearn-color-background);\n",
       "}\n",
       "\n",
       "#sk-container-id-1 div.sk-container {\n",
       "  /* jupyter's `normalize.less` sets `[hidden] { display: none; }`\n",
       "     but bootstrap.min.css set `[hidden] { display: none !important; }`\n",
       "     so we also need the `!important` here to be able to override the\n",
       "     default hidden behavior on the sphinx rendered scikit-learn.org.\n",
       "     See: https://github.com/scikit-learn/scikit-learn/issues/21755 */\n",
       "  display: inline-block !important;\n",
       "  position: relative;\n",
       "}\n",
       "\n",
       "#sk-container-id-1 div.sk-text-repr-fallback {\n",
       "  display: none;\n",
       "}\n",
       "\n",
       "div.sk-parallel-item,\n",
       "div.sk-serial,\n",
       "div.sk-item {\n",
       "  /* draw centered vertical line to link estimators */\n",
       "  background-image: linear-gradient(var(--sklearn-color-text-on-default-background), var(--sklearn-color-text-on-default-background));\n",
       "  background-size: 2px 100%;\n",
       "  background-repeat: no-repeat;\n",
       "  background-position: center center;\n",
       "}\n",
       "\n",
       "/* Parallel-specific style estimator block */\n",
       "\n",
       "#sk-container-id-1 div.sk-parallel-item::after {\n",
       "  content: \"\";\n",
       "  width: 100%;\n",
       "  border-bottom: 2px solid var(--sklearn-color-text-on-default-background);\n",
       "  flex-grow: 1;\n",
       "}\n",
       "\n",
       "#sk-container-id-1 div.sk-parallel {\n",
       "  display: flex;\n",
       "  align-items: stretch;\n",
       "  justify-content: center;\n",
       "  background-color: var(--sklearn-color-background);\n",
       "  position: relative;\n",
       "}\n",
       "\n",
       "#sk-container-id-1 div.sk-parallel-item {\n",
       "  display: flex;\n",
       "  flex-direction: column;\n",
       "}\n",
       "\n",
       "#sk-container-id-1 div.sk-parallel-item:first-child::after {\n",
       "  align-self: flex-end;\n",
       "  width: 50%;\n",
       "}\n",
       "\n",
       "#sk-container-id-1 div.sk-parallel-item:last-child::after {\n",
       "  align-self: flex-start;\n",
       "  width: 50%;\n",
       "}\n",
       "\n",
       "#sk-container-id-1 div.sk-parallel-item:only-child::after {\n",
       "  width: 0;\n",
       "}\n",
       "\n",
       "/* Serial-specific style estimator block */\n",
       "\n",
       "#sk-container-id-1 div.sk-serial {\n",
       "  display: flex;\n",
       "  flex-direction: column;\n",
       "  align-items: center;\n",
       "  background-color: var(--sklearn-color-background);\n",
       "  padding-right: 1em;\n",
       "  padding-left: 1em;\n",
       "}\n",
       "\n",
       "\n",
       "/* Toggleable style: style used for estimator/Pipeline/ColumnTransformer box that is\n",
       "clickable and can be expanded/collapsed.\n",
       "- Pipeline and ColumnTransformer use this feature and define the default style\n",
       "- Estimators will overwrite some part of the style using the `sk-estimator` class\n",
       "*/\n",
       "\n",
       "/* Pipeline and ColumnTransformer style (default) */\n",
       "\n",
       "#sk-container-id-1 div.sk-toggleable {\n",
       "  /* Default theme specific background. It is overwritten whether we have a\n",
       "  specific estimator or a Pipeline/ColumnTransformer */\n",
       "  background-color: var(--sklearn-color-background);\n",
       "}\n",
       "\n",
       "/* Toggleable label */\n",
       "#sk-container-id-1 label.sk-toggleable__label {\n",
       "  cursor: pointer;\n",
       "  display: block;\n",
       "  width: 100%;\n",
       "  margin-bottom: 0;\n",
       "  padding: 0.5em;\n",
       "  box-sizing: border-box;\n",
       "  text-align: center;\n",
       "}\n",
       "\n",
       "#sk-container-id-1 label.sk-toggleable__label-arrow:before {\n",
       "  /* Arrow on the left of the label */\n",
       "  content: \"▸\";\n",
       "  float: left;\n",
       "  margin-right: 0.25em;\n",
       "  color: var(--sklearn-color-icon);\n",
       "}\n",
       "\n",
       "#sk-container-id-1 label.sk-toggleable__label-arrow:hover:before {\n",
       "  color: var(--sklearn-color-text);\n",
       "}\n",
       "\n",
       "/* Toggleable content - dropdown */\n",
       "\n",
       "#sk-container-id-1 div.sk-toggleable__content {\n",
       "  max-height: 0;\n",
       "  max-width: 0;\n",
       "  overflow: hidden;\n",
       "  text-align: left;\n",
       "  /* unfitted */\n",
       "  background-color: var(--sklearn-color-unfitted-level-0);\n",
       "}\n",
       "\n",
       "#sk-container-id-1 div.sk-toggleable__content.fitted {\n",
       "  /* fitted */\n",
       "  background-color: var(--sklearn-color-fitted-level-0);\n",
       "}\n",
       "\n",
       "#sk-container-id-1 div.sk-toggleable__content pre {\n",
       "  margin: 0.2em;\n",
       "  border-radius: 0.25em;\n",
       "  color: var(--sklearn-color-text);\n",
       "  /* unfitted */\n",
       "  background-color: var(--sklearn-color-unfitted-level-0);\n",
       "}\n",
       "\n",
       "#sk-container-id-1 div.sk-toggleable__content.fitted pre {\n",
       "  /* unfitted */\n",
       "  background-color: var(--sklearn-color-fitted-level-0);\n",
       "}\n",
       "\n",
       "#sk-container-id-1 input.sk-toggleable__control:checked~div.sk-toggleable__content {\n",
       "  /* Expand drop-down */\n",
       "  max-height: 200px;\n",
       "  max-width: 100%;\n",
       "  overflow: auto;\n",
       "}\n",
       "\n",
       "#sk-container-id-1 input.sk-toggleable__control:checked~label.sk-toggleable__label-arrow:before {\n",
       "  content: \"▾\";\n",
       "}\n",
       "\n",
       "/* Pipeline/ColumnTransformer-specific style */\n",
       "\n",
       "#sk-container-id-1 div.sk-label input.sk-toggleable__control:checked~label.sk-toggleable__label {\n",
       "  color: var(--sklearn-color-text);\n",
       "  background-color: var(--sklearn-color-unfitted-level-2);\n",
       "}\n",
       "\n",
       "#sk-container-id-1 div.sk-label.fitted input.sk-toggleable__control:checked~label.sk-toggleable__label {\n",
       "  background-color: var(--sklearn-color-fitted-level-2);\n",
       "}\n",
       "\n",
       "/* Estimator-specific style */\n",
       "\n",
       "/* Colorize estimator box */\n",
       "#sk-container-id-1 div.sk-estimator input.sk-toggleable__control:checked~label.sk-toggleable__label {\n",
       "  /* unfitted */\n",
       "  background-color: var(--sklearn-color-unfitted-level-2);\n",
       "}\n",
       "\n",
       "#sk-container-id-1 div.sk-estimator.fitted input.sk-toggleable__control:checked~label.sk-toggleable__label {\n",
       "  /* fitted */\n",
       "  background-color: var(--sklearn-color-fitted-level-2);\n",
       "}\n",
       "\n",
       "#sk-container-id-1 div.sk-label label.sk-toggleable__label,\n",
       "#sk-container-id-1 div.sk-label label {\n",
       "  /* The background is the default theme color */\n",
       "  color: var(--sklearn-color-text-on-default-background);\n",
       "}\n",
       "\n",
       "/* On hover, darken the color of the background */\n",
       "#sk-container-id-1 div.sk-label:hover label.sk-toggleable__label {\n",
       "  color: var(--sklearn-color-text);\n",
       "  background-color: var(--sklearn-color-unfitted-level-2);\n",
       "}\n",
       "\n",
       "/* Label box, darken color on hover, fitted */\n",
       "#sk-container-id-1 div.sk-label.fitted:hover label.sk-toggleable__label.fitted {\n",
       "  color: var(--sklearn-color-text);\n",
       "  background-color: var(--sklearn-color-fitted-level-2);\n",
       "}\n",
       "\n",
       "/* Estimator label */\n",
       "\n",
       "#sk-container-id-1 div.sk-label label {\n",
       "  font-family: monospace;\n",
       "  font-weight: bold;\n",
       "  display: inline-block;\n",
       "  line-height: 1.2em;\n",
       "}\n",
       "\n",
       "#sk-container-id-1 div.sk-label-container {\n",
       "  text-align: center;\n",
       "}\n",
       "\n",
       "/* Estimator-specific */\n",
       "#sk-container-id-1 div.sk-estimator {\n",
       "  font-family: monospace;\n",
       "  border: 1px dotted var(--sklearn-color-border-box);\n",
       "  border-radius: 0.25em;\n",
       "  box-sizing: border-box;\n",
       "  margin-bottom: 0.5em;\n",
       "  /* unfitted */\n",
       "  background-color: var(--sklearn-color-unfitted-level-0);\n",
       "}\n",
       "\n",
       "#sk-container-id-1 div.sk-estimator.fitted {\n",
       "  /* fitted */\n",
       "  background-color: var(--sklearn-color-fitted-level-0);\n",
       "}\n",
       "\n",
       "/* on hover */\n",
       "#sk-container-id-1 div.sk-estimator:hover {\n",
       "  /* unfitted */\n",
       "  background-color: var(--sklearn-color-unfitted-level-2);\n",
       "}\n",
       "\n",
       "#sk-container-id-1 div.sk-estimator.fitted:hover {\n",
       "  /* fitted */\n",
       "  background-color: var(--sklearn-color-fitted-level-2);\n",
       "}\n",
       "\n",
       "/* Specification for estimator info (e.g. \"i\" and \"?\") */\n",
       "\n",
       "/* Common style for \"i\" and \"?\" */\n",
       "\n",
       ".sk-estimator-doc-link,\n",
       "a:link.sk-estimator-doc-link,\n",
       "a:visited.sk-estimator-doc-link {\n",
       "  float: right;\n",
       "  font-size: smaller;\n",
       "  line-height: 1em;\n",
       "  font-family: monospace;\n",
       "  background-color: var(--sklearn-color-background);\n",
       "  border-radius: 1em;\n",
       "  height: 1em;\n",
       "  width: 1em;\n",
       "  text-decoration: none !important;\n",
       "  margin-left: 1ex;\n",
       "  /* unfitted */\n",
       "  border: var(--sklearn-color-unfitted-level-1) 1pt solid;\n",
       "  color: var(--sklearn-color-unfitted-level-1);\n",
       "}\n",
       "\n",
       ".sk-estimator-doc-link.fitted,\n",
       "a:link.sk-estimator-doc-link.fitted,\n",
       "a:visited.sk-estimator-doc-link.fitted {\n",
       "  /* fitted */\n",
       "  border: var(--sklearn-color-fitted-level-1) 1pt solid;\n",
       "  color: var(--sklearn-color-fitted-level-1);\n",
       "}\n",
       "\n",
       "/* On hover */\n",
       "div.sk-estimator:hover .sk-estimator-doc-link:hover,\n",
       ".sk-estimator-doc-link:hover,\n",
       "div.sk-label-container:hover .sk-estimator-doc-link:hover,\n",
       ".sk-estimator-doc-link:hover {\n",
       "  /* unfitted */\n",
       "  background-color: var(--sklearn-color-unfitted-level-3);\n",
       "  color: var(--sklearn-color-background);\n",
       "  text-decoration: none;\n",
       "}\n",
       "\n",
       "div.sk-estimator.fitted:hover .sk-estimator-doc-link.fitted:hover,\n",
       ".sk-estimator-doc-link.fitted:hover,\n",
       "div.sk-label-container:hover .sk-estimator-doc-link.fitted:hover,\n",
       ".sk-estimator-doc-link.fitted:hover {\n",
       "  /* fitted */\n",
       "  background-color: var(--sklearn-color-fitted-level-3);\n",
       "  color: var(--sklearn-color-background);\n",
       "  text-decoration: none;\n",
       "}\n",
       "\n",
       "/* Span, style for the box shown on hovering the info icon */\n",
       ".sk-estimator-doc-link span {\n",
       "  display: none;\n",
       "  z-index: 9999;\n",
       "  position: relative;\n",
       "  font-weight: normal;\n",
       "  right: .2ex;\n",
       "  padding: .5ex;\n",
       "  margin: .5ex;\n",
       "  width: min-content;\n",
       "  min-width: 20ex;\n",
       "  max-width: 50ex;\n",
       "  color: var(--sklearn-color-text);\n",
       "  box-shadow: 2pt 2pt 4pt #999;\n",
       "  /* unfitted */\n",
       "  background: var(--sklearn-color-unfitted-level-0);\n",
       "  border: .5pt solid var(--sklearn-color-unfitted-level-3);\n",
       "}\n",
       "\n",
       ".sk-estimator-doc-link.fitted span {\n",
       "  /* fitted */\n",
       "  background: var(--sklearn-color-fitted-level-0);\n",
       "  border: var(--sklearn-color-fitted-level-3);\n",
       "}\n",
       "\n",
       ".sk-estimator-doc-link:hover span {\n",
       "  display: block;\n",
       "}\n",
       "\n",
       "/* \"?\"-specific style due to the `<a>` HTML tag */\n",
       "\n",
       "#sk-container-id-1 a.estimator_doc_link {\n",
       "  float: right;\n",
       "  font-size: 1rem;\n",
       "  line-height: 1em;\n",
       "  font-family: monospace;\n",
       "  background-color: var(--sklearn-color-background);\n",
       "  border-radius: 1rem;\n",
       "  height: 1rem;\n",
       "  width: 1rem;\n",
       "  text-decoration: none;\n",
       "  /* unfitted */\n",
       "  color: var(--sklearn-color-unfitted-level-1);\n",
       "  border: var(--sklearn-color-unfitted-level-1) 1pt solid;\n",
       "}\n",
       "\n",
       "#sk-container-id-1 a.estimator_doc_link.fitted {\n",
       "  /* fitted */\n",
       "  border: var(--sklearn-color-fitted-level-1) 1pt solid;\n",
       "  color: var(--sklearn-color-fitted-level-1);\n",
       "}\n",
       "\n",
       "/* On hover */\n",
       "#sk-container-id-1 a.estimator_doc_link:hover {\n",
       "  /* unfitted */\n",
       "  background-color: var(--sklearn-color-unfitted-level-3);\n",
       "  color: var(--sklearn-color-background);\n",
       "  text-decoration: none;\n",
       "}\n",
       "\n",
       "#sk-container-id-1 a.estimator_doc_link.fitted:hover {\n",
       "  /* fitted */\n",
       "  background-color: var(--sklearn-color-fitted-level-3);\n",
       "}\n",
       "</style><div id=\"sk-container-id-1\" class=\"sk-top-container\"><div class=\"sk-text-repr-fallback\"><pre>XGBClassifier(base_score=None, booster=None, callbacks=None,\n",
       "              colsample_bylevel=None, colsample_bynode=0.7414185744389282,\n",
       "              colsample_bytree=None, device=None, early_stopping_rounds=None,\n",
       "              enable_categorical=False,\n",
       "              eval_metric=&lt;function custom_f1_score at 0x7f90e1e77e20&gt;,\n",
       "              feature_types=None, gamma=None, grow_policy=None,\n",
       "              importance_type=None, interaction_constraints=None,\n",
       "              learning_rate=0.11354146340983223, max_bin=None,\n",
       "              max_cat_threshold=None, max_cat_to_onehot=None,\n",
       "              max_delta_step=None, max_depth=11, max_leaves=None,\n",
       "              min_child_weight=1, missing=nan, monotone_constraints=None,\n",
       "              multi_strategy=None, n_estimators=43, n_jobs=None,\n",
       "              num_parallel_tree=None, objective=&#x27;multi:softprob&#x27;, ...)</pre><b>In a Jupyter environment, please rerun this cell to show the HTML representation or trust the notebook. <br />On GitHub, the HTML representation is unable to render, please try loading this page with nbviewer.org.</b></div><div class=\"sk-container\" hidden><div class=\"sk-item\"><div class=\"sk-estimator fitted sk-toggleable\"><input class=\"sk-toggleable__control sk-hidden--visually\" id=\"sk-estimator-id-1\" type=\"checkbox\" checked><label for=\"sk-estimator-id-1\" class=\"sk-toggleable__label fitted sk-toggleable__label-arrow fitted\">&nbsp;XGBClassifier<span class=\"sk-estimator-doc-link fitted\">i<span>Fitted</span></span></label><div class=\"sk-toggleable__content fitted\"><pre>XGBClassifier(base_score=None, booster=None, callbacks=None,\n",
       "              colsample_bylevel=None, colsample_bynode=0.7414185744389282,\n",
       "              colsample_bytree=None, device=None, early_stopping_rounds=None,\n",
       "              enable_categorical=False,\n",
       "              eval_metric=&lt;function custom_f1_score at 0x7f90e1e77e20&gt;,\n",
       "              feature_types=None, gamma=None, grow_policy=None,\n",
       "              importance_type=None, interaction_constraints=None,\n",
       "              learning_rate=0.11354146340983223, max_bin=None,\n",
       "              max_cat_threshold=None, max_cat_to_onehot=None,\n",
       "              max_delta_step=None, max_depth=11, max_leaves=None,\n",
       "              min_child_weight=1, missing=nan, monotone_constraints=None,\n",
       "              multi_strategy=None, n_estimators=43, n_jobs=None,\n",
       "              num_parallel_tree=None, objective=&#x27;multi:softprob&#x27;, ...)</pre></div> </div></div></div></div>"
      ],
      "text/plain": [
       "XGBClassifier(base_score=None, booster=None, callbacks=None,\n",
       "              colsample_bylevel=None, colsample_bynode=0.7414185744389282,\n",
       "              colsample_bytree=None, device=None, early_stopping_rounds=None,\n",
       "              enable_categorical=False,\n",
       "              eval_metric=<function custom_f1_score at 0x7f90e1e77e20>,\n",
       "              feature_types=None, gamma=None, grow_policy=None,\n",
       "              importance_type=None, interaction_constraints=None,\n",
       "              learning_rate=0.11354146340983223, max_bin=None,\n",
       "              max_cat_threshold=None, max_cat_to_onehot=None,\n",
       "              max_delta_step=None, max_depth=11, max_leaves=None,\n",
       "              min_child_weight=1, missing=nan, monotone_constraints=None,\n",
       "              multi_strategy=None, n_estimators=43, n_jobs=None,\n",
       "              num_parallel_tree=None, objective='multi:softprob', ...)"
      ]
     },
     "execution_count": 21,
     "metadata": {},
     "output_type": "execute_result"
    }
   ],
   "source": [
    "n_estimators = int(study.best_trial.user_attrs['best_iteration']*1.2)\n",
    "xgb = xgboost.XGBClassifier(\n",
    "        eval_metric=eval_metric,\n",
    "        n_estimators=n_estimators,\n",
    "        **study.best_trial.params\n",
    "    )\n",
    "xgb.fit(\n",
    "    ssp.vstack((X_train, X_val)), \n",
    "    np.concatenate((y_train_enc, y_val_enc)),\n",
    "    verbose=1,\n",
    ")"
   ]
  },
  {
   "cell_type": "code",
   "execution_count": 22,
   "id": "05b98bd3",
   "metadata": {
    "execution": {
     "iopub.execute_input": "2025-05-15T16:16:01.089761Z",
     "iopub.status.busy": "2025-05-15T16:16:01.088941Z",
     "iopub.status.idle": "2025-05-15T16:16:01.104508Z",
     "shell.execute_reply": "2025-05-15T16:16:01.104065Z"
    },
    "papermill": {
     "duration": 0.027598,
     "end_time": "2025-05-15T16:16:01.105632",
     "exception": false,
     "start_time": "2025-05-15T16:16:01.078034",
     "status": "completed"
    },
    "tags": []
   },
   "outputs": [
    {
     "data": {
      "text/plain": [
       "['/scratch_isilon/groups/singlecell/shared/projects/Inflammation-PBMCs-Atlas/03_downstream_analysis/08_gene_importance/xgboost_external_validation/xgboost_TopN_genes/results_20/best_model/Plasma_13_3_xgb.json']"
      ]
     },
     "execution_count": 22,
     "metadata": {},
     "output_type": "execute_result"
    }
   ],
   "source": [
    "out_dir = here(f'03_downstream_analysis/08_gene_importance/xgboost_external_validation/xgboost_TopN_genes/results_{N_GENES}/best_model')\n",
    "\n",
    "if not os.path.exists(out_dir):\n",
    "    os.makedirs(out_dir)\n",
    "    \n",
    "joblib.dump(xgb, os.path.join(out_dir, f'{CELL_TYPE}_{SEED}_{TEST_SPLIT_IDX}_xgb.json'))"
   ]
  },
  {
   "cell_type": "code",
   "execution_count": 23,
   "id": "a4303d29",
   "metadata": {
    "execution": {
     "iopub.execute_input": "2025-05-15T16:16:01.126375Z",
     "iopub.status.busy": "2025-05-15T16:16:01.125733Z",
     "iopub.status.idle": "2025-05-15T16:16:01.135077Z",
     "shell.execute_reply": "2025-05-15T16:16:01.134630Z"
    },
    "papermill": {
     "duration": 0.025685,
     "end_time": "2025-05-15T16:16:01.140779",
     "exception": false,
     "start_time": "2025-05-15T16:16:01.115094",
     "status": "completed"
    },
    "tags": []
   },
   "outputs": [],
   "source": [
    "df_pred_test = pd.DataFrame(dict(\n",
    "    cell_id=train_adata.obs.iloc[test_idxs].index.values,\n",
    "    y_true=y_test, \n",
    "    y_true_code=y_test_enc, \n",
    "    y_pred=xgb.predict(X_test))).set_index('cell_id')"
   ]
  },
  {
   "cell_type": "code",
   "execution_count": 24,
   "id": "dd9c63d4",
   "metadata": {
    "execution": {
     "iopub.execute_input": "2025-05-15T16:16:01.162167Z",
     "iopub.status.busy": "2025-05-15T16:16:01.161577Z",
     "iopub.status.idle": "2025-05-15T16:16:01.174498Z",
     "shell.execute_reply": "2025-05-15T16:16:01.174004Z"
    },
    "papermill": {
     "duration": 0.024487,
     "end_time": "2025-05-15T16:16:01.175471",
     "exception": false,
     "start_time": "2025-05-15T16:16:01.150984",
     "status": "completed"
    },
    "tags": []
   },
   "outputs": [],
   "source": [
    "out_dir = here(f'03_downstream_analysis/08_gene_importance/xgboost_external_validation/xgboost_TopN_genes/results_{N_GENES}/predictions')\n",
    "\n",
    "if not os.path.exists(out_dir):\n",
    "    os.makedirs(out_dir)\n",
    "    \n",
    "df_pred_test.to_csv(os.path.join(out_dir, f'{CELL_TYPE}_{SEED}_{TEST_SPLIT_IDX}_pred_test.zip'))"
   ]
  },
  {
   "cell_type": "code",
   "execution_count": 25,
   "id": "e8faf253",
   "metadata": {
    "execution": {
     "iopub.execute_input": "2025-05-15T16:16:01.195529Z",
     "iopub.status.busy": "2025-05-15T16:16:01.195363Z",
     "iopub.status.idle": "2025-05-15T16:16:01.202113Z",
     "shell.execute_reply": "2025-05-15T16:16:01.201698Z"
    },
    "papermill": {
     "duration": 0.017637,
     "end_time": "2025-05-15T16:16:01.203087",
     "exception": false,
     "start_time": "2025-05-15T16:16:01.185450",
     "status": "completed"
    },
    "tags": []
   },
   "outputs": [],
   "source": [
    "metrics_dict = dict(\n",
    "    BAS=balanced_accuracy_score(y_true=df_pred_test.y_true_code, y_pred=df_pred_test.y_pred), WF1=f1_score(y_true=df_pred_test.y_true_code, y_pred=df_pred_test.y_pred,average='weighted'))"
   ]
  },
  {
   "cell_type": "code",
   "execution_count": 26,
   "id": "523033c4",
   "metadata": {
    "execution": {
     "iopub.execute_input": "2025-05-15T16:16:01.223946Z",
     "iopub.status.busy": "2025-05-15T16:16:01.223619Z",
     "iopub.status.idle": "2025-05-15T16:16:01.227264Z",
     "shell.execute_reply": "2025-05-15T16:16:01.226832Z"
    },
    "papermill": {
     "duration": 0.015302,
     "end_time": "2025-05-15T16:16:01.228248",
     "exception": false,
     "start_time": "2025-05-15T16:16:01.212946",
     "status": "completed"
    },
    "tags": []
   },
   "outputs": [
    {
     "data": {
      "text/plain": [
       "{'BAS': 0.43389943389943386, 'WF1': 0.625336674712626}"
      ]
     },
     "execution_count": 26,
     "metadata": {},
     "output_type": "execute_result"
    }
   ],
   "source": [
    "metrics_dict"
   ]
  },
  {
   "cell_type": "code",
   "execution_count": 27,
   "id": "f09f483f",
   "metadata": {
    "execution": {
     "iopub.execute_input": "2025-05-15T16:16:01.271926Z",
     "iopub.status.busy": "2025-05-15T16:16:01.271626Z",
     "iopub.status.idle": "2025-05-15T16:16:01.281430Z",
     "shell.execute_reply": "2025-05-15T16:16:01.281011Z"
    },
    "papermill": {
     "duration": 0.044044,
     "end_time": "2025-05-15T16:16:01.282404",
     "exception": false,
     "start_time": "2025-05-15T16:16:01.238360",
     "status": "completed"
    },
    "tags": []
   },
   "outputs": [
    {
     "data": {
      "text/html": [
       "<div>\n",
       "<style scoped>\n",
       "    .dataframe tbody tr th:only-of-type {\n",
       "        vertical-align: middle;\n",
       "    }\n",
       "\n",
       "    .dataframe tbody tr th {\n",
       "        vertical-align: top;\n",
       "    }\n",
       "\n",
       "    .dataframe thead th {\n",
       "        text-align: right;\n",
       "    }\n",
       "</style>\n",
       "<table border=\"1\" class=\"dataframe\">\n",
       "  <thead>\n",
       "    <tr style=\"text-align: right;\">\n",
       "      <th></th>\n",
       "      <th>BAS</th>\n",
       "      <th>WF1</th>\n",
       "      <th>split_idx</th>\n",
       "      <th>gene_set_seed</th>\n",
       "      <th>cell_type</th>\n",
       "    </tr>\n",
       "  </thead>\n",
       "  <tbody>\n",
       "    <tr>\n",
       "      <th>0</th>\n",
       "      <td>0.433899</td>\n",
       "      <td>0.625337</td>\n",
       "      <td>3</td>\n",
       "      <td>13</td>\n",
       "      <td>Plasma</td>\n",
       "    </tr>\n",
       "  </tbody>\n",
       "</table>\n",
       "</div>"
      ],
      "text/plain": [
       "        BAS       WF1  split_idx  gene_set_seed cell_type\n",
       "0  0.433899  0.625337          3             13    Plasma"
      ]
     },
     "execution_count": 27,
     "metadata": {},
     "output_type": "execute_result"
    }
   ],
   "source": [
    "metrics_df = pd.DataFrame.from_dict([metrics_dict]).assign(split_idx=TEST_SPLIT_IDX, gene_set_seed=SEED, cell_type=CELL_TYPE)\n",
    "metrics_df"
   ]
  },
  {
   "cell_type": "code",
   "execution_count": 28,
   "id": "853b6c60",
   "metadata": {
    "execution": {
     "iopub.execute_input": "2025-05-15T16:16:01.305170Z",
     "iopub.status.busy": "2025-05-15T16:16:01.304948Z",
     "iopub.status.idle": "2025-05-15T16:16:01.314321Z",
     "shell.execute_reply": "2025-05-15T16:16:01.313729Z"
    },
    "papermill": {
     "duration": 0.021034,
     "end_time": "2025-05-15T16:16:01.315234",
     "exception": false,
     "start_time": "2025-05-15T16:16:01.294200",
     "status": "completed"
    },
    "tags": []
   },
   "outputs": [],
   "source": [
    "out_dir = here(f'03_downstream_analysis/08_gene_importance/xgboost_external_validation/xgboost_TopN_genes/results_{N_GENES}/metrics')\n",
    "\n",
    "if not os.path.exists(out_dir):\n",
    "    os.makedirs(out_dir)\n",
    "    \n",
    "metrics_df.to_csv(os.path.join(out_dir, f'{CELL_TYPE}_{SEED}_{TEST_SPLIT_IDX}_metrics.zip'))"
   ]
  }
 ],
 "metadata": {
  "kernelspec": {
   "display_name": "Python 3 (ipykernel)",
   "language": "python",
   "name": "python3"
  },
  "language_info": {
   "codemirror_mode": {
    "name": "ipython",
    "version": 3
   },
   "file_extension": ".py",
   "mimetype": "text/x-python",
   "name": "python",
   "nbconvert_exporter": "python",
   "pygments_lexer": "ipython3",
   "version": "3.12.5"
  },
  "papermill": {
   "default_parameters": {},
   "duration": 19.21428,
   "end_time": "2025-05-15T16:16:02.042503",
   "environment_variables": {},
   "exception": null,
   "input_path": "02_xgboost_fitting_external_20genes.ipynb",
   "output_path": "results_20/executed_notebooks/xgboost_fitting_external_CT_Plasma_GS_13_seed3.ipynb",
   "parameters": {
    "CELL_TYPE": "Plasma",
    "SEED": 13,
    "TEST_SPLIT_IDX": 3
   },
   "start_time": "2025-05-15T16:15:42.828223",
   "version": "2.6.0"
  }
 },
 "nbformat": 4,
 "nbformat_minor": 5
}