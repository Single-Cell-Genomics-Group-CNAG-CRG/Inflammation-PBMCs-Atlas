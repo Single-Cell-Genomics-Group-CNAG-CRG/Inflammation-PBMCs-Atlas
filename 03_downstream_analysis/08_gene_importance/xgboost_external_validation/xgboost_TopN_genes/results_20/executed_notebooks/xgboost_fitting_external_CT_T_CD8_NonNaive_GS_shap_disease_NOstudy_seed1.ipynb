{
 "cells": [
  {
   "cell_type": "code",
   "execution_count": 1,
   "id": "b22e0e69",
   "metadata": {
    "editable": true,
    "execution": {
     "iopub.execute_input": "2025-05-14T16:08:31.382368Z",
     "iopub.status.busy": "2025-05-14T16:08:31.382228Z",
     "iopub.status.idle": "2025-05-14T16:08:31.398022Z",
     "shell.execute_reply": "2025-05-14T16:08:31.397724Z"
    },
    "papermill": {
     "duration": 0.02328,
     "end_time": "2025-05-14T16:08:31.399023",
     "exception": false,
     "start_time": "2025-05-14T16:08:31.375743",
     "status": "completed"
    },
    "slideshow": {
     "slide_type": ""
    },
    "tags": [
     "parameters"
    ]
   },
   "outputs": [],
   "source": [
    "CELL_TYPE = 'pDC'\n",
    "N_GENES: int = 20\n",
    "SEED = 'shap_studyID' #'disease_NOstudy' 'study_NOdisease' or 'int' or 'shap_studyID'\n",
    "TEST_SPLIT_IDX: int = 1 #[0,4]"
   ]
  },
  {
   "cell_type": "code",
   "execution_count": 2,
   "id": "ea9ae0f3",
   "metadata": {
    "execution": {
     "iopub.execute_input": "2025-05-14T16:08:31.410156Z",
     "iopub.status.busy": "2025-05-14T16:08:31.410024Z",
     "iopub.status.idle": "2025-05-14T16:08:31.412214Z",
     "shell.execute_reply": "2025-05-14T16:08:31.411877Z"
    },
    "papermill": {
     "duration": 0.008798,
     "end_time": "2025-05-14T16:08:31.413140",
     "exception": false,
     "start_time": "2025-05-14T16:08:31.404342",
     "status": "completed"
    },
    "tags": [
     "injected-parameters"
    ]
   },
   "outputs": [],
   "source": [
    "# Parameters\n",
    "CELL_TYPE = \"T_CD8_NonNaive\"\n",
    "SEED = \"shap_disease_NOstudy\"\n",
    "TEST_SPLIT_IDX = 1\n"
   ]
  },
  {
   "cell_type": "code",
   "execution_count": 3,
   "id": "10f5d0c0",
   "metadata": {
    "execution": {
     "iopub.execute_input": "2025-05-14T16:08:31.423420Z",
     "iopub.status.busy": "2025-05-14T16:08:31.423055Z",
     "iopub.status.idle": "2025-05-14T16:08:31.425782Z",
     "shell.execute_reply": "2025-05-14T16:08:31.425487Z"
    },
    "papermill": {
     "duration": 0.008796,
     "end_time": "2025-05-14T16:08:31.426715",
     "exception": false,
     "start_time": "2025-05-14T16:08:31.417919",
     "status": "completed"
    },
    "tags": []
   },
   "outputs": [],
   "source": [
    "N_SPLITS: int = 5\n",
    "N_TRIALS: int = 50"
   ]
  },
  {
   "cell_type": "code",
   "execution_count": 4,
   "id": "529405cb",
   "metadata": {
    "execution": {
     "iopub.execute_input": "2025-05-14T16:08:31.437906Z",
     "iopub.status.busy": "2025-05-14T16:08:31.437767Z",
     "iopub.status.idle": "2025-05-14T16:08:32.779933Z",
     "shell.execute_reply": "2025-05-14T16:08:32.779468Z"
    },
    "papermill": {
     "duration": 1.349479,
     "end_time": "2025-05-14T16:08:32.781243",
     "exception": false,
     "start_time": "2025-05-14T16:08:31.431764",
     "status": "completed"
    },
    "tags": []
   },
   "outputs": [],
   "source": [
    "import os\n",
    "import sys\n",
    "from pyprojroot.here import here\n",
    "import pandas as pd\n",
    "import anndata as ad\n",
    "import numpy as np\n",
    "import math\n",
    "from sklearn.model_selection import StratifiedGroupKFold\n",
    "from sklearn.preprocessing import LabelEncoder\n",
    "from sklearn.metrics import f1_score\n",
    "import matplotlib.pyplot as plt\n",
    "import seaborn as sns\n",
    "from itertools import product\n",
    "from sklearn.metrics import balanced_accuracy_score, f1_score\n",
    "import optuna\n",
    "\n",
    "import joblib\n",
    "import pickle\n",
    "import datetime\n",
    "\n",
    "import collections\n",
    "\n",
    "import xgboost\n",
    "from sklearn.preprocessing import LabelEncoder\n",
    "\n",
    "import scipy.sparse as ssp\n",
    "import joblib\n",
    "\n",
    "from dotenv import load_dotenv"
   ]
  },
  {
   "cell_type": "code",
   "execution_count": 5,
   "id": "f38338d5",
   "metadata": {
    "execution": {
     "iopub.execute_input": "2025-05-14T16:08:32.794120Z",
     "iopub.status.busy": "2025-05-14T16:08:32.793826Z",
     "iopub.status.idle": "2025-05-14T16:08:32.799912Z",
     "shell.execute_reply": "2025-05-14T16:08:32.799599Z"
    },
    "papermill": {
     "duration": 0.012823,
     "end_time": "2025-05-14T16:08:32.801114",
     "exception": false,
     "start_time": "2025-05-14T16:08:32.788291",
     "status": "completed"
    },
    "tags": []
   },
   "outputs": [
    {
     "data": {
      "text/plain": [
       "True"
      ]
     },
     "execution_count": 5,
     "metadata": {},
     "output_type": "execute_result"
    }
   ],
   "source": [
    "load_dotenv()"
   ]
  },
  {
   "cell_type": "markdown",
   "id": "7f7d5730",
   "metadata": {
    "papermill": {
     "duration": 0.005145,
     "end_time": "2025-05-14T16:08:32.811872",
     "exception": false,
     "start_time": "2025-05-14T16:08:32.806727",
     "status": "completed"
    },
    "tags": []
   },
   "source": [
    "# LOAD DATASET"
   ]
  },
  {
   "cell_type": "code",
   "execution_count": 6,
   "id": "5dd21bc5",
   "metadata": {
    "execution": {
     "iopub.execute_input": "2025-05-14T16:08:32.822133Z",
     "iopub.status.busy": "2025-05-14T16:08:32.821993Z",
     "iopub.status.idle": "2025-05-14T16:08:33.314618Z",
     "shell.execute_reply": "2025-05-14T16:08:33.314182Z"
    },
    "papermill": {
     "duration": 0.498819,
     "end_time": "2025-05-14T16:08:33.315491",
     "exception": false,
     "start_time": "2025-05-14T16:08:32.816672",
     "status": "completed"
    },
    "tags": []
   },
   "outputs": [],
   "source": [
    "train_adata = ad.read_h5ad(\n",
    "    here(f'03_downstream_analysis/08_gene_importance/xgboost_external_validation/xgboost_TopN_genes/data_cellTypes/EXTERNAL_{CELL_TYPE}.filtered.log1p.h5ad')\n",
    ")"
   ]
  },
  {
   "cell_type": "code",
   "execution_count": 7,
   "id": "23db6261",
   "metadata": {
    "execution": {
     "iopub.execute_input": "2025-05-14T16:08:33.326997Z",
     "iopub.status.busy": "2025-05-14T16:08:33.326694Z",
     "iopub.status.idle": "2025-05-14T16:08:33.349189Z",
     "shell.execute_reply": "2025-05-14T16:08:33.348868Z"
    },
    "papermill": {
     "duration": 0.028917,
     "end_time": "2025-05-14T16:08:33.350082",
     "exception": false,
     "start_time": "2025-05-14T16:08:33.321165",
     "status": "completed"
    },
    "tags": []
   },
   "outputs": [
    {
     "name": "stdout",
     "output_type": "stream",
     "text": [
      "['ENSG00000002586' 'ENSG00000005339' 'ENSG00000006125' 'ENSG00000013297'\n",
      " 'ENSG00000015475' 'ENSG00000025708' 'ENSG00000030110' 'ENSG00000030582'\n",
      " 'ENSG00000036448' 'ENSG00000051523' 'ENSG00000057657' 'ENSG00000059728'\n",
      " 'ENSG00000069399' 'ENSG00000075624' 'ENSG00000076944' 'ENSG00000077380'\n",
      " 'ENSG00000079616' 'ENSG00000089692' 'ENSG00000089737' 'ENSG00000099624'\n",
      " 'ENSG00000100300' 'ENSG00000100664' 'ENSG00000101439' 'ENSG00000103522'\n",
      " 'ENSG00000104312' 'ENSG00000104998' 'ENSG00000105221' 'ENSG00000106367'\n",
      " 'ENSG00000106588' 'ENSG00000108561' 'ENSG00000109321' 'ENSG00000110848'\n",
      " 'ENSG00000112149' 'ENSG00000113732' 'ENSG00000114737' 'ENSG00000120129'\n",
      " 'ENSG00000120837' 'ENSG00000121774' 'ENSG00000121966' 'ENSG00000123268'\n",
      " 'ENSG00000125148' 'ENSG00000125347' 'ENSG00000125735' 'ENSG00000125740'\n",
      " 'ENSG00000127528' 'ENSG00000127540' 'ENSG00000130522' 'ENSG00000132465'\n",
      " 'ENSG00000132475' 'ENSG00000132965' 'ENSG00000134285' 'ENSG00000135046'\n",
      " 'ENSG00000136738' 'ENSG00000137965' 'ENSG00000140105' 'ENSG00000142089'\n",
      " 'ENSG00000142227' 'ENSG00000143119' 'ENSG00000143546' 'ENSG00000143761'\n",
      " 'ENSG00000143933' 'ENSG00000146278' 'ENSG00000147168' 'ENSG00000148834'\n",
      " 'ENSG00000149357' 'ENSG00000150093' 'ENSG00000152082' 'ENSG00000157873'\n",
      " 'ENSG00000159110' 'ENSG00000160888' 'ENSG00000160932' 'ENSG00000162368'\n",
      " 'ENSG00000163220' 'ENSG00000163931' 'ENSG00000164104' 'ENSG00000164308'\n",
      " 'ENSG00000164543' 'ENSG00000165527' 'ENSG00000166710' 'ENSG00000166847'\n",
      " 'ENSG00000166949' 'ENSG00000167004' 'ENSG00000167996' 'ENSG00000168610'\n",
      " 'ENSG00000170540' 'ENSG00000170989' 'ENSG00000172183' 'ENSG00000172349'\n",
      " 'ENSG00000172936' 'ENSG00000175354' 'ENSG00000177606' 'ENSG00000178719'\n",
      " 'ENSG00000179144' 'ENSG00000181029' 'ENSG00000183020' 'ENSG00000183508'\n",
      " 'ENSG00000183696' 'ENSG00000184897' 'ENSG00000185201' 'ENSG00000185650'\n",
      " 'ENSG00000185883' 'ENSG00000188404' 'ENSG00000196154' 'ENSG00000196396'\n",
      " 'ENSG00000197061' 'ENSG00000197102' 'ENSG00000197956' 'ENSG00000198502'\n",
      " 'ENSG00000204525' 'ENSG00000204642' 'ENSG00000211895' 'ENSG00000213145'\n",
      " 'ENSG00000213928' 'ENSG00000229474' 'ENSG00000232810' 'ENSG00000234745'\n",
      " 'ENSG00000239697' 'ENSG00000241837' 'ENSG00000244687']\n"
     ]
    }
   ],
   "source": [
    "if SEED != 'all':\n",
    "    gene_subset = np.load(here(f'03_downstream_analysis/08_gene_importance/xgboost_external_validation/shap_gene_selection/gene_subsets_{N_GENES}/{CELL_TYPE}_{SEED}.npy'), allow_pickle=True)\n",
    "    train_adata = train_adata[:,gene_subset]\n",
    "    print(gene_subset)\n",
    "elif SEED == 'all':\n",
    "    print('Using all genes')\n",
    "else:\n",
    "    raise ValueError()"
   ]
  },
  {
   "cell_type": "code",
   "execution_count": 8,
   "id": "be5ee056",
   "metadata": {
    "execution": {
     "iopub.execute_input": "2025-05-14T16:08:33.361142Z",
     "iopub.status.busy": "2025-05-14T16:08:33.360998Z",
     "iopub.status.idle": "2025-05-14T16:08:33.363868Z",
     "shell.execute_reply": "2025-05-14T16:08:33.363579Z"
    },
    "papermill": {
     "duration": 0.009126,
     "end_time": "2025-05-14T16:08:33.364652",
     "exception": false,
     "start_time": "2025-05-14T16:08:33.355526",
     "status": "completed"
    },
    "tags": []
   },
   "outputs": [
    {
     "data": {
      "text/plain": [
       "(72200, 119)"
      ]
     },
     "execution_count": 8,
     "metadata": {},
     "output_type": "execute_result"
    }
   ],
   "source": [
    "train_adata.shape"
   ]
  },
  {
   "cell_type": "code",
   "execution_count": 9,
   "id": "97823fb9",
   "metadata": {
    "execution": {
     "iopub.execute_input": "2025-05-14T16:08:33.375720Z",
     "iopub.status.busy": "2025-05-14T16:08:33.375438Z",
     "iopub.status.idle": "2025-05-14T16:08:33.378852Z",
     "shell.execute_reply": "2025-05-14T16:08:33.378570Z"
    },
    "papermill": {
     "duration": 0.009773,
     "end_time": "2025-05-14T16:08:33.379629",
     "exception": false,
     "start_time": "2025-05-14T16:08:33.369856",
     "status": "completed"
    },
    "tags": []
   },
   "outputs": [
    {
     "data": {
      "text/plain": [
       "['RA', 'COVID', 'healthy', 'HIV', 'cirrhosis', 'CD', 'SLE', 'sepsis']\n",
       "Categories (8, object): ['CD', 'COVID', 'HIV', 'RA', 'SLE', 'cirrhosis', 'healthy', 'sepsis']"
      ]
     },
     "execution_count": 9,
     "metadata": {},
     "output_type": "execute_result"
    }
   ],
   "source": [
    "train_adata.obs.disease.unique()"
   ]
  },
  {
   "cell_type": "code",
   "execution_count": 10,
   "id": "4d59edea",
   "metadata": {
    "execution": {
     "iopub.execute_input": "2025-05-14T16:08:33.391297Z",
     "iopub.status.busy": "2025-05-14T16:08:33.390759Z",
     "iopub.status.idle": "2025-05-14T16:08:33.394795Z",
     "shell.execute_reply": "2025-05-14T16:08:33.394512Z"
    },
    "papermill": {
     "duration": 0.010604,
     "end_time": "2025-05-14T16:08:33.395604",
     "exception": false,
     "start_time": "2025-05-14T16:08:33.385000",
     "status": "completed"
    },
    "tags": []
   },
   "outputs": [
    {
     "data": {
      "text/plain": [
       "['SCGT00val_I036016_T0', 'SCGT00val_I036021_T0', 'SCGT00val_I036028_T0', 'SCGT00val_I036015_T0', 'SCGT00val_I0364_T0', ..., '10XGenomics_10XHC2_T0', '10XGenomics_10XHC3_T0', '10XGenomics_10XHC5_T0', '10XGenomics_10XHC7_T0', '10XGenomics_10XHC8_T0']\n",
       "Length: 86\n",
       "Categories (86, object): ['10XGenomics_10XHC1_T0', '10XGenomics_10XHC2_T0', '10XGenomics_10XHC3_T0', '10XGenomics_10XHC4_T0', ..., 'Savage2021_BRISL6_T0', 'Savage2021_BRISL7_T0', 'Savage2021_PIDA_T0', 'Savage2021_PIDB_T0']"
      ]
     },
     "execution_count": 10,
     "metadata": {},
     "output_type": "execute_result"
    }
   ],
   "source": [
    "train_adata.obs.sampleID.unique()"
   ]
  },
  {
   "cell_type": "code",
   "execution_count": 11,
   "id": "3c6950d2",
   "metadata": {
    "execution": {
     "iopub.execute_input": "2025-05-14T16:08:33.406550Z",
     "iopub.status.busy": "2025-05-14T16:08:33.406412Z",
     "iopub.status.idle": "2025-05-14T16:08:33.587054Z",
     "shell.execute_reply": "2025-05-14T16:08:33.586635Z"
    },
    "papermill": {
     "duration": 0.187177,
     "end_time": "2025-05-14T16:08:33.587947",
     "exception": false,
     "start_time": "2025-05-14T16:08:33.400770",
     "status": "completed"
    },
    "tags": []
   },
   "outputs": [],
   "source": [
    "all_idxs = np.arange(train_adata.obs.shape[0])\n",
    "left_out_splits = [s[1] for s in StratifiedGroupKFold(n_splits=N_SPLITS).split(all_idxs, train_adata.obs.disease, train_adata.obs.sampleID)]"
   ]
  },
  {
   "cell_type": "code",
   "execution_count": 12,
   "id": "1b3f7e7a",
   "metadata": {
    "execution": {
     "iopub.execute_input": "2025-05-14T16:08:33.600264Z",
     "iopub.status.busy": "2025-05-14T16:08:33.599920Z",
     "iopub.status.idle": "2025-05-14T16:08:33.603167Z",
     "shell.execute_reply": "2025-05-14T16:08:33.602858Z"
    },
    "papermill": {
     "duration": 0.010051,
     "end_time": "2025-05-14T16:08:33.603926",
     "exception": false,
     "start_time": "2025-05-14T16:08:33.593875",
     "status": "completed"
    },
    "tags": []
   },
   "outputs": [
    {
     "data": {
      "text/plain": [
       "([0, 3, 4], 2, 1)"
      ]
     },
     "execution_count": 12,
     "metadata": {},
     "output_type": "execute_result"
    }
   ],
   "source": [
    "TRAIN_SPLIT_IDXS = [0,1,2,3,4]\n",
    "VAL_SPLIT_IDX = (TEST_SPLIT_IDX + 1) % 5\n",
    "TRAIN_SPLIT_IDXS.remove(TEST_SPLIT_IDX)\n",
    "TRAIN_SPLIT_IDXS.remove(VAL_SPLIT_IDX)\n",
    "TRAIN_SPLIT_IDXS, VAL_SPLIT_IDX, TEST_SPLIT_IDX"
   ]
  },
  {
   "cell_type": "code",
   "execution_count": 13,
   "id": "0a3256c9",
   "metadata": {
    "execution": {
     "iopub.execute_input": "2025-05-14T16:08:33.614744Z",
     "iopub.status.busy": "2025-05-14T16:08:33.614508Z",
     "iopub.status.idle": "2025-05-14T16:08:33.616877Z",
     "shell.execute_reply": "2025-05-14T16:08:33.616593Z"
    },
    "papermill": {
     "duration": 0.008539,
     "end_time": "2025-05-14T16:08:33.617623",
     "exception": false,
     "start_time": "2025-05-14T16:08:33.609084",
     "status": "completed"
    },
    "tags": []
   },
   "outputs": [],
   "source": [
    "train_idxs = np.concatenate([left_out_splits[idx] for idx in TRAIN_SPLIT_IDXS])\n",
    "val_idxs = left_out_splits[VAL_SPLIT_IDX]\n",
    "test_idxs = left_out_splits[TEST_SPLIT_IDX]"
   ]
  },
  {
   "cell_type": "markdown",
   "id": "3e1d1d3f",
   "metadata": {
    "papermill": {
     "duration": 0.00543,
     "end_time": "2025-05-14T16:08:33.628352",
     "exception": false,
     "start_time": "2025-05-14T16:08:33.622922",
     "status": "completed"
    },
    "tags": []
   },
   "source": [
    "### SUBSET DATASET INTO TRAIN/TEST/VAL SPLITS"
   ]
  },
  {
   "cell_type": "code",
   "execution_count": 14,
   "id": "0a5671a1",
   "metadata": {
    "execution": {
     "iopub.execute_input": "2025-05-14T16:08:33.639672Z",
     "iopub.status.busy": "2025-05-14T16:08:33.639431Z",
     "iopub.status.idle": "2025-05-14T16:08:33.815090Z",
     "shell.execute_reply": "2025-05-14T16:08:33.814730Z"
    },
    "papermill": {
     "duration": 0.1821,
     "end_time": "2025-05-14T16:08:33.815869",
     "exception": false,
     "start_time": "2025-05-14T16:08:33.633769",
     "status": "completed"
    },
    "tags": []
   },
   "outputs": [
    {
     "data": {
      "text/plain": [
       "((43138, 119), (14524, 119), (14538, 119))"
      ]
     },
     "execution_count": 14,
     "metadata": {},
     "output_type": "execute_result"
    }
   ],
   "source": [
    "X_train = train_adata.X[train_idxs]\n",
    "X_test = train_adata.X[test_idxs]\n",
    "X_val = train_adata.X[val_idxs]\n",
    "X_train.shape, X_test.shape, X_val.shape"
   ]
  },
  {
   "cell_type": "code",
   "execution_count": 15,
   "id": "ff489ed4",
   "metadata": {
    "execution": {
     "iopub.execute_input": "2025-05-14T16:08:33.827616Z",
     "iopub.status.busy": "2025-05-14T16:08:33.827263Z",
     "iopub.status.idle": "2025-05-14T16:08:33.836159Z",
     "shell.execute_reply": "2025-05-14T16:08:33.835829Z"
    },
    "papermill": {
     "duration": 0.015631,
     "end_time": "2025-05-14T16:08:33.836952",
     "exception": false,
     "start_time": "2025-05-14T16:08:33.821321",
     "status": "completed"
    },
    "tags": []
   },
   "outputs": [
    {
     "data": {
      "text/plain": [
       "((43138,), (14524,), (14538,))"
      ]
     },
     "execution_count": 15,
     "metadata": {},
     "output_type": "execute_result"
    }
   ],
   "source": [
    "y_train = train_adata.obs.iloc[train_idxs].disease.values.astype(str)\n",
    "y_test = train_adata.obs.iloc[test_idxs].disease.values.astype(str)\n",
    "y_val = train_adata.obs.iloc[val_idxs].disease.values.astype(str)\n",
    "y_train.shape, y_test.shape, y_val.shape"
   ]
  },
  {
   "cell_type": "code",
   "execution_count": 16,
   "id": "252a35ff",
   "metadata": {
    "execution": {
     "iopub.execute_input": "2025-05-14T16:08:33.848593Z",
     "iopub.status.busy": "2025-05-14T16:08:33.848296Z",
     "iopub.status.idle": "2025-05-14T16:08:33.865008Z",
     "shell.execute_reply": "2025-05-14T16:08:33.864594Z"
    },
    "papermill": {
     "duration": 0.023518,
     "end_time": "2025-05-14T16:08:33.865971",
     "exception": false,
     "start_time": "2025-05-14T16:08:33.842453",
     "status": "completed"
    },
    "tags": []
   },
   "outputs": [],
   "source": [
    "lenc = LabelEncoder()\n",
    "y_train_enc = lenc.fit_transform(y_train)\n",
    "y_val_enc = lenc.transform(y_val)\n",
    "y_test_enc = lenc.transform(y_test)"
   ]
  },
  {
   "cell_type": "markdown",
   "id": "30be8904",
   "metadata": {
    "papermill": {
     "duration": 0.005247,
     "end_time": "2025-05-14T16:08:33.876787",
     "exception": false,
     "start_time": "2025-05-14T16:08:33.871540",
     "status": "completed"
    },
    "tags": []
   },
   "source": [
    "### GENERATE F1 "
   ]
  },
  {
   "cell_type": "code",
   "execution_count": 17,
   "id": "26133c22",
   "metadata": {
    "execution": {
     "iopub.execute_input": "2025-05-14T16:08:33.888109Z",
     "iopub.status.busy": "2025-05-14T16:08:33.887825Z",
     "iopub.status.idle": "2025-05-14T16:08:33.890225Z",
     "shell.execute_reply": "2025-05-14T16:08:33.889914Z"
    },
    "papermill": {
     "duration": 0.008964,
     "end_time": "2025-05-14T16:08:33.891035",
     "exception": false,
     "start_time": "2025-05-14T16:08:33.882071",
     "status": "completed"
    },
    "tags": []
   },
   "outputs": [],
   "source": [
    "def custom_f1_score(y_true, y_pred):\n",
    "    return -f1_score(y_true, y_pred.argmax(1), average='weighted')"
   ]
  },
  {
   "cell_type": "code",
   "execution_count": 18,
   "id": "cdf5bee1",
   "metadata": {
    "execution": {
     "iopub.execute_input": "2025-05-14T16:08:33.902279Z",
     "iopub.status.busy": "2025-05-14T16:08:33.902000Z",
     "iopub.status.idle": "2025-05-14T16:08:33.905561Z",
     "shell.execute_reply": "2025-05-14T16:08:33.905241Z"
    },
    "papermill": {
     "duration": 0.009907,
     "end_time": "2025-05-14T16:08:33.906311",
     "exception": false,
     "start_time": "2025-05-14T16:08:33.896404",
     "status": "completed"
    },
    "tags": []
   },
   "outputs": [],
   "source": [
    "eval_metric=custom_f1_score\n",
    "eval_metric_name='custom_f1_score'\n",
    "\n",
    "def objective(trial):\n",
    "    params = {\n",
    "        'n_estimators': 1500,\n",
    "        'max_depth': trial.suggest_int('max_depth', 3, 20),\n",
    "        'min_child_weight': trial.suggest_int('min_child_weight', 1, 250),\n",
    "        'subsample': trial.suggest_float('subsample', 0.1, 1.0),\n",
    "        'colsample_bynode': trial.suggest_float('colsample_bynode', 0.1, 1.0),\n",
    "        'learning_rate': trial.suggest_float('learning_rate', 1e-3, 5e-1, log=True),\n",
    "    }\n",
    "    pruning_callback = optuna.integration.XGBoostPruningCallback(trial, f'validation_0-{eval_metric_name}')\n",
    "    es_callback = xgboost.callback.EarlyStopping(20, min_delta=0.001)\n",
    "    xgb = xgboost.XGBClassifier(\n",
    "        eval_metric=eval_metric,\n",
    "        callbacks=[pruning_callback, es_callback],\n",
    "        n_jobs=5,\n",
    "        **params\n",
    "    )\n",
    "    xgb.fit(\n",
    "        X_train, \n",
    "        y_train_enc, \n",
    "        verbose=0,\n",
    "        eval_set=[(X_val, y_val_enc)],\n",
    "    )\n",
    "    trial.set_user_attr('best_iteration', xgb.best_iteration)\n",
    "\n",
    "    return xgb.best_score"
   ]
  },
  {
   "cell_type": "code",
   "execution_count": 19,
   "id": "dabc0165",
   "metadata": {
    "execution": {
     "iopub.execute_input": "2025-05-14T16:08:33.917721Z",
     "iopub.status.busy": "2025-05-14T16:08:33.917480Z",
     "iopub.status.idle": "2025-05-14T16:18:14.171817Z",
     "shell.execute_reply": "2025-05-14T16:18:14.171314Z"
    },
    "papermill": {
     "duration": 580.261505,
     "end_time": "2025-05-14T16:18:14.173254",
     "exception": false,
     "start_time": "2025-05-14T16:08:33.911749",
     "status": "completed"
    },
    "scrolled": true,
    "tags": []
   },
   "outputs": [
    {
     "name": "stderr",
     "output_type": "stream",
     "text": [
      "[I 2025-05-14 18:08:33,919] A new study created in memory with name: no-name-c3e61d7a-de4a-4c85-89f8-26182e053e82\n"
     ]
    },
    {
     "name": "stderr",
     "output_type": "stream",
     "text": [
      "[I 2025-05-14 18:08:36,633] Trial 0 finished with value: -0.669862 and parameters: {'max_depth': 9, 'min_child_weight': 238, 'subsample': 0.7587945476302645, 'colsample_bynode': 0.6387926357773329, 'learning_rate': 0.0026368755339723046}. Best is trial 0 with value: -0.669862.\n"
     ]
    },
    {
     "name": "stderr",
     "output_type": "stream",
     "text": [
      "[I 2025-05-14 18:09:15,460] Trial 1 finished with value: -0.851114 and parameters: {'max_depth': 5, 'min_child_weight': 15, 'subsample': 0.8795585311974417, 'colsample_bynode': 0.6410035105688879, 'learning_rate': 0.08148293210105287}. Best is trial 1 with value: -0.851114.\n"
     ]
    },
    {
     "name": "stderr",
     "output_type": "stream",
     "text": [
      "[I 2025-05-14 18:09:18,722] Trial 2 finished with value: -0.631281 and parameters: {'max_depth': 3, 'min_child_weight': 243, 'subsample': 0.8491983767203796, 'colsample_bynode': 0.29110519961044856, 'learning_rate': 0.003095566460242371}. Best is trial 1 with value: -0.851114.\n"
     ]
    },
    {
     "name": "stderr",
     "output_type": "stream",
     "text": [
      "[I 2025-05-14 18:10:29,569] Trial 3 finished with value: -0.776303 and parameters: {'max_depth': 6, 'min_child_weight': 77, 'subsample': 0.5722807884690141, 'colsample_bynode': 0.48875051677790415, 'learning_rate': 0.006109683510122491}. Best is trial 1 with value: -0.851114.\n"
     ]
    },
    {
     "name": "stderr",
     "output_type": "stream",
     "text": [
      "[I 2025-05-14 18:11:44,174] Trial 4 finished with value: -0.833584 and parameters: {'max_depth': 14, 'min_child_weight': 35, 'subsample': 0.3629301836816964, 'colsample_bynode': 0.4297256589643226, 'learning_rate': 0.01701841881702917}. Best is trial 1 with value: -0.851114.\n"
     ]
    },
    {
     "name": "stderr",
     "output_type": "stream",
     "text": [
      "[I 2025-05-14 18:11:50,223] Trial 5 pruned. Trial was pruned at iteration 32.\n"
     ]
    },
    {
     "name": "stderr",
     "output_type": "stream",
     "text": [
      "[I 2025-05-14 18:11:50,621] Trial 6 pruned. Trial was pruned at iteration 0.\n"
     ]
    },
    {
     "name": "stderr",
     "output_type": "stream",
     "text": [
      "[I 2025-05-14 18:11:51,012] Trial 7 pruned. Trial was pruned at iteration 0.\n"
     ]
    },
    {
     "name": "stderr",
     "output_type": "stream",
     "text": [
      "[I 2025-05-14 18:11:51,344] Trial 8 pruned. Trial was pruned at iteration 0.\n"
     ]
    },
    {
     "name": "stderr",
     "output_type": "stream",
     "text": [
      "[I 2025-05-14 18:11:54,946] Trial 9 pruned. Trial was pruned at iteration 21.\n"
     ]
    },
    {
     "name": "stderr",
     "output_type": "stream",
     "text": [
      "[I 2025-05-14 18:12:16,204] Trial 10 finished with value: -0.842169 and parameters: {'max_depth': 9, 'min_child_weight': 2, 'subsample': 0.9725833997090791, 'colsample_bynode': 0.11616568805333755, 'learning_rate': 0.17780618353487967}. Best is trial 1 with value: -0.851114.\n"
     ]
    },
    {
     "name": "stderr",
     "output_type": "stream",
     "text": [
      "[I 2025-05-14 18:12:43,449] Trial 11 finished with value: -0.845399 and parameters: {'max_depth': 9, 'min_child_weight': 4, 'subsample': 0.9818290990185045, 'colsample_bynode': 0.17702656156719, 'learning_rate': 0.11568531411766632}. Best is trial 1 with value: -0.851114.\n"
     ]
    },
    {
     "name": "stderr",
     "output_type": "stream",
     "text": [
      "[I 2025-05-14 18:13:22,130] Trial 12 finished with value: -0.841125 and parameters: {'max_depth': 9, 'min_child_weight': 3, 'subsample': 0.9762317723681219, 'colsample_bynode': 0.14667845540225039, 'learning_rate': 0.07220195396446884}. Best is trial 1 with value: -0.851114.\n"
     ]
    },
    {
     "name": "stderr",
     "output_type": "stream",
     "text": [
      "[I 2025-05-14 18:13:22,536] Trial 13 pruned. Trial was pruned at iteration 0.\n"
     ]
    },
    {
     "name": "stderr",
     "output_type": "stream",
     "text": [
      "[I 2025-05-14 18:13:22,955] Trial 14 pruned. Trial was pruned at iteration 0.\n"
     ]
    },
    {
     "name": "stderr",
     "output_type": "stream",
     "text": [
      "[I 2025-05-14 18:13:59,101] Trial 15 finished with value: -0.841767 and parameters: {'max_depth': 20, 'min_child_weight': 1, 'subsample': 0.7012908959710442, 'colsample_bynode': 0.2540835086298475, 'learning_rate': 0.2833114876720916}. Best is trial 1 with value: -0.851114.\n"
     ]
    },
    {
     "name": "stderr",
     "output_type": "stream",
     "text": [
      "[I 2025-05-14 18:13:59,436] Trial 16 pruned. Trial was pruned at iteration 0.\n"
     ]
    },
    {
     "name": "stderr",
     "output_type": "stream",
     "text": [
      "[I 2025-05-14 18:13:59,799] Trial 17 pruned. Trial was pruned at iteration 0.\n"
     ]
    },
    {
     "name": "stderr",
     "output_type": "stream",
     "text": [
      "[I 2025-05-14 18:14:24,962] Trial 18 finished with value: -0.852699 and parameters: {'max_depth': 11, 'min_child_weight': 37, 'subsample': 0.8988001325877066, 'colsample_bynode': 0.3955466156360019, 'learning_rate': 0.13348559174149954}. Best is trial 18 with value: -0.852699.\n"
     ]
    },
    {
     "name": "stderr",
     "output_type": "stream",
     "text": [
      "[I 2025-05-14 18:14:25,366] Trial 19 pruned. Trial was pruned at iteration 0.\n"
     ]
    },
    {
     "name": "stderr",
     "output_type": "stream",
     "text": [
      "[I 2025-05-14 18:14:41,272] Trial 20 finished with value: -0.846625 and parameters: {'max_depth': 16, 'min_child_weight': 36, 'subsample': 0.6578156841377696, 'colsample_bynode': 0.5501785677119223, 'learning_rate': 0.2221537505158567}. Best is trial 18 with value: -0.852699.\n"
     ]
    },
    {
     "name": "stderr",
     "output_type": "stream",
     "text": [
      "[I 2025-05-14 18:14:57,252] Trial 21 finished with value: -0.848982 and parameters: {'max_depth': 17, 'min_child_weight': 32, 'subsample': 0.6689074388587125, 'colsample_bynode': 0.5334907331464369, 'learning_rate': 0.24892967230551474}. Best is trial 18 with value: -0.852699.\n"
     ]
    },
    {
     "name": "stderr",
     "output_type": "stream",
     "text": [
      "[I 2025-05-14 18:15:10,108] Trial 22 finished with value: -0.849342 and parameters: {'max_depth': 20, 'min_child_weight': 28, 'subsample': 0.8937167085341449, 'colsample_bynode': 0.6978949090872939, 'learning_rate': 0.45094685506428994}. Best is trial 18 with value: -0.852699.\n"
     ]
    },
    {
     "name": "stderr",
     "output_type": "stream",
     "text": [
      "[I 2025-05-14 18:15:24,282] Trial 23 finished with value: -0.850029 and parameters: {'max_depth': 20, 'min_child_weight': 58, 'subsample': 0.8970304860471121, 'colsample_bynode': 0.7054316808262772, 'learning_rate': 0.42925550158061226}. Best is trial 18 with value: -0.852699.\n"
     ]
    },
    {
     "name": "stderr",
     "output_type": "stream",
     "text": [
      "[I 2025-05-14 18:15:25,256] Trial 24 pruned. Trial was pruned at iteration 1.\n"
     ]
    },
    {
     "name": "stderr",
     "output_type": "stream",
     "text": [
      "[I 2025-05-14 18:15:25,858] Trial 25 pruned. Trial was pruned at iteration 1.\n"
     ]
    },
    {
     "name": "stderr",
     "output_type": "stream",
     "text": [
      "[I 2025-05-14 18:15:26,199] Trial 26 pruned. Trial was pruned at iteration 0.\n"
     ]
    },
    {
     "name": "stderr",
     "output_type": "stream",
     "text": [
      "[I 2025-05-14 18:15:49,261] Trial 27 finished with value: -0.853051 and parameters: {'max_depth': 15, 'min_child_weight': 19, 'subsample': 0.824147192656858, 'colsample_bynode': 0.3819650911707662, 'learning_rate': 0.15733645340857422}. Best is trial 27 with value: -0.853051.\n"
     ]
    },
    {
     "name": "stderr",
     "output_type": "stream",
     "text": [
      "[I 2025-05-14 18:15:50,857] Trial 28 pruned. Trial was pruned at iteration 5.\n"
     ]
    },
    {
     "name": "stderr",
     "output_type": "stream",
     "text": [
      "[I 2025-05-14 18:15:51,200] Trial 29 pruned. Trial was pruned at iteration 0.\n"
     ]
    },
    {
     "name": "stderr",
     "output_type": "stream",
     "text": [
      "[I 2025-05-14 18:15:53,921] Trial 30 pruned. Trial was pruned at iteration 10.\n"
     ]
    },
    {
     "name": "stderr",
     "output_type": "stream",
     "text": [
      "[I 2025-05-14 18:15:54,557] Trial 31 pruned. Trial was pruned at iteration 1.\n"
     ]
    },
    {
     "name": "stderr",
     "output_type": "stream",
     "text": [
      "[I 2025-05-14 18:16:08,341] Trial 32 finished with value: -0.847582 and parameters: {'max_depth': 12, 'min_child_weight': 26, 'subsample': 0.9039637500578014, 'colsample_bynode': 0.3174211518302972, 'learning_rate': 0.3195559122604504}. Best is trial 27 with value: -0.853051.\n"
     ]
    },
    {
     "name": "stderr",
     "output_type": "stream",
     "text": [
      "[I 2025-05-14 18:16:34,980] Trial 33 finished with value: -0.855201 and parameters: {'max_depth': 15, 'min_child_weight': 18, 'subsample': 0.7448678253108285, 'colsample_bynode': 0.5399867771102868, 'learning_rate': 0.19661836591813572}. Best is trial 33 with value: -0.855201.\n"
     ]
    },
    {
     "name": "stderr",
     "output_type": "stream",
     "text": [
      "[I 2025-05-14 18:17:00,839] Trial 34 finished with value: -0.851438 and parameters: {'max_depth': 15, 'min_child_weight': 16, 'subsample': 0.7406928714372791, 'colsample_bynode': 0.5531525815880869, 'learning_rate': 0.19287752263642177}. Best is trial 33 with value: -0.855201.\n"
     ]
    },
    {
     "name": "stderr",
     "output_type": "stream",
     "text": [
      "[I 2025-05-14 18:17:21,776] Trial 35 finished with value: -0.849179 and parameters: {'max_depth': 15, 'min_child_weight': 15, 'subsample': 0.6230329398672148, 'colsample_bynode': 0.5445758620734648, 'learning_rate': 0.1862695855090619}. Best is trial 33 with value: -0.855201.\n"
     ]
    },
    {
     "name": "stderr",
     "output_type": "stream",
     "text": [
      "[I 2025-05-14 18:17:22,262] Trial 36 pruned. Trial was pruned at iteration 0.\n"
     ]
    },
    {
     "name": "stderr",
     "output_type": "stream",
     "text": [
      "[I 2025-05-14 18:17:22,669] Trial 37 pruned. Trial was pruned at iteration 0.\n"
     ]
    },
    {
     "name": "stderr",
     "output_type": "stream",
     "text": [
      "[I 2025-05-14 18:17:23,085] Trial 38 pruned. Trial was pruned at iteration 0.\n"
     ]
    },
    {
     "name": "stderr",
     "output_type": "stream",
     "text": [
      "[I 2025-05-14 18:17:23,744] Trial 39 pruned. Trial was pruned at iteration 1.\n"
     ]
    },
    {
     "name": "stderr",
     "output_type": "stream",
     "text": [
      "[I 2025-05-14 18:17:24,118] Trial 40 pruned. Trial was pruned at iteration 0.\n"
     ]
    },
    {
     "name": "stderr",
     "output_type": "stream",
     "text": [
      "[I 2025-05-14 18:17:28,920] Trial 41 pruned. Trial was pruned at iteration 12.\n"
     ]
    },
    {
     "name": "stderr",
     "output_type": "stream",
     "text": [
      "[I 2025-05-14 18:17:34,012] Trial 42 pruned. Trial was pruned at iteration 15.\n"
     ]
    },
    {
     "name": "stderr",
     "output_type": "stream",
     "text": [
      "[I 2025-05-14 18:17:34,456] Trial 43 pruned. Trial was pruned at iteration 0.\n"
     ]
    },
    {
     "name": "stderr",
     "output_type": "stream",
     "text": [
      "[I 2025-05-14 18:17:51,699] Trial 44 finished with value: -0.85151 and parameters: {'max_depth': 8, 'min_child_weight': 26, 'subsample': 0.9450145144186449, 'colsample_bynode': 0.5707530861833187, 'learning_rate': 0.21436792888564096}. Best is trial 33 with value: -0.855201.\n"
     ]
    },
    {
     "name": "stderr",
     "output_type": "stream",
     "text": [
      "[I 2025-05-14 18:17:52,755] Trial 45 pruned. Trial was pruned at iteration 4.\n"
     ]
    },
    {
     "name": "stderr",
     "output_type": "stream",
     "text": [
      "[I 2025-05-14 18:17:53,177] Trial 46 pruned. Trial was pruned at iteration 0.\n"
     ]
    },
    {
     "name": "stderr",
     "output_type": "stream",
     "text": [
      "[I 2025-05-14 18:17:53,571] Trial 47 pruned. Trial was pruned at iteration 0.\n"
     ]
    },
    {
     "name": "stderr",
     "output_type": "stream",
     "text": [
      "[I 2025-05-14 18:18:13,667] Trial 48 pruned. Trial was pruned at iteration 60.\n"
     ]
    },
    {
     "name": "stderr",
     "output_type": "stream",
     "text": [
      "[I 2025-05-14 18:18:14,082] Trial 49 pruned. Trial was pruned at iteration 0.\n"
     ]
    }
   ],
   "source": [
    "sampler = optuna.samplers.TPESampler(seed=42)\n",
    "study = optuna.create_study(direction='minimize', sampler=sampler)\n",
    "study.optimize(objective, n_trials=N_TRIALS, gc_after_trial=True)"
   ]
  },
  {
   "cell_type": "code",
   "execution_count": 20,
   "id": "8aaf2680",
   "metadata": {
    "execution": {
     "iopub.execute_input": "2025-05-14T16:18:14.191876Z",
     "iopub.status.busy": "2025-05-14T16:18:14.191717Z",
     "iopub.status.idle": "2025-05-14T16:18:14.220272Z",
     "shell.execute_reply": "2025-05-14T16:18:14.219961Z"
    },
    "papermill": {
     "duration": 0.038524,
     "end_time": "2025-05-14T16:18:14.221192",
     "exception": false,
     "start_time": "2025-05-14T16:18:14.182668",
     "status": "completed"
    },
    "tags": []
   },
   "outputs": [
    {
     "data": {
      "text/plain": [
       "['/scratch_isilon/groups/singlecell/shared/projects/Inflammation-PBMCs-Atlas/03_downstream_analysis/08_gene_importance/xgboost_external_validation/xgboost_TopN_genes/results_20/study/T_CD8_NonNaive_shap_disease_NOstudy_1_xgboost.pkl']"
      ]
     },
     "execution_count": 20,
     "metadata": {},
     "output_type": "execute_result"
    }
   ],
   "source": [
    "out_dir = here(f'03_downstream_analysis/08_gene_importance/xgboost_external_validation/xgboost_TopN_genes/results_{N_GENES}/study')\n",
    "\n",
    "if not os.path.exists(out_dir):\n",
    "    os.makedirs(out_dir)\n",
    "    \n",
    "joblib.dump(study,os.path.join(out_dir, f'{CELL_TYPE}_{SEED}_{TEST_SPLIT_IDX}_xgboost.pkl'))"
   ]
  },
  {
   "cell_type": "code",
   "execution_count": 21,
   "id": "e9c3cdae",
   "metadata": {
    "execution": {
     "iopub.execute_input": "2025-05-14T16:18:14.270450Z",
     "iopub.status.busy": "2025-05-14T16:18:14.270234Z",
     "iopub.status.idle": "2025-05-14T16:18:31.912530Z",
     "shell.execute_reply": "2025-05-14T16:18:31.912185Z"
    },
    "papermill": {
     "duration": 17.667873,
     "end_time": "2025-05-14T16:18:31.913735",
     "exception": false,
     "start_time": "2025-05-14T16:18:14.245862",
     "status": "completed"
    },
    "tags": []
   },
   "outputs": [
    {
     "data": {
      "text/html": [
       "<style>#sk-container-id-1 {\n",
       "  /* Definition of color scheme common for light and dark mode */\n",
       "  --sklearn-color-text: black;\n",
       "  --sklearn-color-line: gray;\n",
       "  /* Definition of color scheme for unfitted estimators */\n",
       "  --sklearn-color-unfitted-level-0: #fff5e6;\n",
       "  --sklearn-color-unfitted-level-1: #f6e4d2;\n",
       "  --sklearn-color-unfitted-level-2: #ffe0b3;\n",
       "  --sklearn-color-unfitted-level-3: chocolate;\n",
       "  /* Definition of color scheme for fitted estimators */\n",
       "  --sklearn-color-fitted-level-0: #f0f8ff;\n",
       "  --sklearn-color-fitted-level-1: #d4ebff;\n",
       "  --sklearn-color-fitted-level-2: #b3dbfd;\n",
       "  --sklearn-color-fitted-level-3: cornflowerblue;\n",
       "\n",
       "  /* Specific color for light theme */\n",
       "  --sklearn-color-text-on-default-background: var(--sg-text-color, var(--theme-code-foreground, var(--jp-content-font-color1, black)));\n",
       "  --sklearn-color-background: var(--sg-background-color, var(--theme-background, var(--jp-layout-color0, white)));\n",
       "  --sklearn-color-border-box: var(--sg-text-color, var(--theme-code-foreground, var(--jp-content-font-color1, black)));\n",
       "  --sklearn-color-icon: #696969;\n",
       "\n",
       "  @media (prefers-color-scheme: dark) {\n",
       "    /* Redefinition of color scheme for dark theme */\n",
       "    --sklearn-color-text-on-default-background: var(--sg-text-color, var(--theme-code-foreground, var(--jp-content-font-color1, white)));\n",
       "    --sklearn-color-background: var(--sg-background-color, var(--theme-background, var(--jp-layout-color0, #111)));\n",
       "    --sklearn-color-border-box: var(--sg-text-color, var(--theme-code-foreground, var(--jp-content-font-color1, white)));\n",
       "    --sklearn-color-icon: #878787;\n",
       "  }\n",
       "}\n",
       "\n",
       "#sk-container-id-1 {\n",
       "  color: var(--sklearn-color-text);\n",
       "}\n",
       "\n",
       "#sk-container-id-1 pre {\n",
       "  padding: 0;\n",
       "}\n",
       "\n",
       "#sk-container-id-1 input.sk-hidden--visually {\n",
       "  border: 0;\n",
       "  clip: rect(1px 1px 1px 1px);\n",
       "  clip: rect(1px, 1px, 1px, 1px);\n",
       "  height: 1px;\n",
       "  margin: -1px;\n",
       "  overflow: hidden;\n",
       "  padding: 0;\n",
       "  position: absolute;\n",
       "  width: 1px;\n",
       "}\n",
       "\n",
       "#sk-container-id-1 div.sk-dashed-wrapped {\n",
       "  border: 1px dashed var(--sklearn-color-line);\n",
       "  margin: 0 0.4em 0.5em 0.4em;\n",
       "  box-sizing: border-box;\n",
       "  padding-bottom: 0.4em;\n",
       "  background-color: var(--sklearn-color-background);\n",
       "}\n",
       "\n",
       "#sk-container-id-1 div.sk-container {\n",
       "  /* jupyter's `normalize.less` sets `[hidden] { display: none; }`\n",
       "     but bootstrap.min.css set `[hidden] { display: none !important; }`\n",
       "     so we also need the `!important` here to be able to override the\n",
       "     default hidden behavior on the sphinx rendered scikit-learn.org.\n",
       "     See: https://github.com/scikit-learn/scikit-learn/issues/21755 */\n",
       "  display: inline-block !important;\n",
       "  position: relative;\n",
       "}\n",
       "\n",
       "#sk-container-id-1 div.sk-text-repr-fallback {\n",
       "  display: none;\n",
       "}\n",
       "\n",
       "div.sk-parallel-item,\n",
       "div.sk-serial,\n",
       "div.sk-item {\n",
       "  /* draw centered vertical line to link estimators */\n",
       "  background-image: linear-gradient(var(--sklearn-color-text-on-default-background), var(--sklearn-color-text-on-default-background));\n",
       "  background-size: 2px 100%;\n",
       "  background-repeat: no-repeat;\n",
       "  background-position: center center;\n",
       "}\n",
       "\n",
       "/* Parallel-specific style estimator block */\n",
       "\n",
       "#sk-container-id-1 div.sk-parallel-item::after {\n",
       "  content: \"\";\n",
       "  width: 100%;\n",
       "  border-bottom: 2px solid var(--sklearn-color-text-on-default-background);\n",
       "  flex-grow: 1;\n",
       "}\n",
       "\n",
       "#sk-container-id-1 div.sk-parallel {\n",
       "  display: flex;\n",
       "  align-items: stretch;\n",
       "  justify-content: center;\n",
       "  background-color: var(--sklearn-color-background);\n",
       "  position: relative;\n",
       "}\n",
       "\n",
       "#sk-container-id-1 div.sk-parallel-item {\n",
       "  display: flex;\n",
       "  flex-direction: column;\n",
       "}\n",
       "\n",
       "#sk-container-id-1 div.sk-parallel-item:first-child::after {\n",
       "  align-self: flex-end;\n",
       "  width: 50%;\n",
       "}\n",
       "\n",
       "#sk-container-id-1 div.sk-parallel-item:last-child::after {\n",
       "  align-self: flex-start;\n",
       "  width: 50%;\n",
       "}\n",
       "\n",
       "#sk-container-id-1 div.sk-parallel-item:only-child::after {\n",
       "  width: 0;\n",
       "}\n",
       "\n",
       "/* Serial-specific style estimator block */\n",
       "\n",
       "#sk-container-id-1 div.sk-serial {\n",
       "  display: flex;\n",
       "  flex-direction: column;\n",
       "  align-items: center;\n",
       "  background-color: var(--sklearn-color-background);\n",
       "  padding-right: 1em;\n",
       "  padding-left: 1em;\n",
       "}\n",
       "\n",
       "\n",
       "/* Toggleable style: style used for estimator/Pipeline/ColumnTransformer box that is\n",
       "clickable and can be expanded/collapsed.\n",
       "- Pipeline and ColumnTransformer use this feature and define the default style\n",
       "- Estimators will overwrite some part of the style using the `sk-estimator` class\n",
       "*/\n",
       "\n",
       "/* Pipeline and ColumnTransformer style (default) */\n",
       "\n",
       "#sk-container-id-1 div.sk-toggleable {\n",
       "  /* Default theme specific background. It is overwritten whether we have a\n",
       "  specific estimator or a Pipeline/ColumnTransformer */\n",
       "  background-color: var(--sklearn-color-background);\n",
       "}\n",
       "\n",
       "/* Toggleable label */\n",
       "#sk-container-id-1 label.sk-toggleable__label {\n",
       "  cursor: pointer;\n",
       "  display: block;\n",
       "  width: 100%;\n",
       "  margin-bottom: 0;\n",
       "  padding: 0.5em;\n",
       "  box-sizing: border-box;\n",
       "  text-align: center;\n",
       "}\n",
       "\n",
       "#sk-container-id-1 label.sk-toggleable__label-arrow:before {\n",
       "  /* Arrow on the left of the label */\n",
       "  content: \"▸\";\n",
       "  float: left;\n",
       "  margin-right: 0.25em;\n",
       "  color: var(--sklearn-color-icon);\n",
       "}\n",
       "\n",
       "#sk-container-id-1 label.sk-toggleable__label-arrow:hover:before {\n",
       "  color: var(--sklearn-color-text);\n",
       "}\n",
       "\n",
       "/* Toggleable content - dropdown */\n",
       "\n",
       "#sk-container-id-1 div.sk-toggleable__content {\n",
       "  max-height: 0;\n",
       "  max-width: 0;\n",
       "  overflow: hidden;\n",
       "  text-align: left;\n",
       "  /* unfitted */\n",
       "  background-color: var(--sklearn-color-unfitted-level-0);\n",
       "}\n",
       "\n",
       "#sk-container-id-1 div.sk-toggleable__content.fitted {\n",
       "  /* fitted */\n",
       "  background-color: var(--sklearn-color-fitted-level-0);\n",
       "}\n",
       "\n",
       "#sk-container-id-1 div.sk-toggleable__content pre {\n",
       "  margin: 0.2em;\n",
       "  border-radius: 0.25em;\n",
       "  color: var(--sklearn-color-text);\n",
       "  /* unfitted */\n",
       "  background-color: var(--sklearn-color-unfitted-level-0);\n",
       "}\n",
       "\n",
       "#sk-container-id-1 div.sk-toggleable__content.fitted pre {\n",
       "  /* unfitted */\n",
       "  background-color: var(--sklearn-color-fitted-level-0);\n",
       "}\n",
       "\n",
       "#sk-container-id-1 input.sk-toggleable__control:checked~div.sk-toggleable__content {\n",
       "  /* Expand drop-down */\n",
       "  max-height: 200px;\n",
       "  max-width: 100%;\n",
       "  overflow: auto;\n",
       "}\n",
       "\n",
       "#sk-container-id-1 input.sk-toggleable__control:checked~label.sk-toggleable__label-arrow:before {\n",
       "  content: \"▾\";\n",
       "}\n",
       "\n",
       "/* Pipeline/ColumnTransformer-specific style */\n",
       "\n",
       "#sk-container-id-1 div.sk-label input.sk-toggleable__control:checked~label.sk-toggleable__label {\n",
       "  color: var(--sklearn-color-text);\n",
       "  background-color: var(--sklearn-color-unfitted-level-2);\n",
       "}\n",
       "\n",
       "#sk-container-id-1 div.sk-label.fitted input.sk-toggleable__control:checked~label.sk-toggleable__label {\n",
       "  background-color: var(--sklearn-color-fitted-level-2);\n",
       "}\n",
       "\n",
       "/* Estimator-specific style */\n",
       "\n",
       "/* Colorize estimator box */\n",
       "#sk-container-id-1 div.sk-estimator input.sk-toggleable__control:checked~label.sk-toggleable__label {\n",
       "  /* unfitted */\n",
       "  background-color: var(--sklearn-color-unfitted-level-2);\n",
       "}\n",
       "\n",
       "#sk-container-id-1 div.sk-estimator.fitted input.sk-toggleable__control:checked~label.sk-toggleable__label {\n",
       "  /* fitted */\n",
       "  background-color: var(--sklearn-color-fitted-level-2);\n",
       "}\n",
       "\n",
       "#sk-container-id-1 div.sk-label label.sk-toggleable__label,\n",
       "#sk-container-id-1 div.sk-label label {\n",
       "  /* The background is the default theme color */\n",
       "  color: var(--sklearn-color-text-on-default-background);\n",
       "}\n",
       "\n",
       "/* On hover, darken the color of the background */\n",
       "#sk-container-id-1 div.sk-label:hover label.sk-toggleable__label {\n",
       "  color: var(--sklearn-color-text);\n",
       "  background-color: var(--sklearn-color-unfitted-level-2);\n",
       "}\n",
       "\n",
       "/* Label box, darken color on hover, fitted */\n",
       "#sk-container-id-1 div.sk-label.fitted:hover label.sk-toggleable__label.fitted {\n",
       "  color: var(--sklearn-color-text);\n",
       "  background-color: var(--sklearn-color-fitted-level-2);\n",
       "}\n",
       "\n",
       "/* Estimator label */\n",
       "\n",
       "#sk-container-id-1 div.sk-label label {\n",
       "  font-family: monospace;\n",
       "  font-weight: bold;\n",
       "  display: inline-block;\n",
       "  line-height: 1.2em;\n",
       "}\n",
       "\n",
       "#sk-container-id-1 div.sk-label-container {\n",
       "  text-align: center;\n",
       "}\n",
       "\n",
       "/* Estimator-specific */\n",
       "#sk-container-id-1 div.sk-estimator {\n",
       "  font-family: monospace;\n",
       "  border: 1px dotted var(--sklearn-color-border-box);\n",
       "  border-radius: 0.25em;\n",
       "  box-sizing: border-box;\n",
       "  margin-bottom: 0.5em;\n",
       "  /* unfitted */\n",
       "  background-color: var(--sklearn-color-unfitted-level-0);\n",
       "}\n",
       "\n",
       "#sk-container-id-1 div.sk-estimator.fitted {\n",
       "  /* fitted */\n",
       "  background-color: var(--sklearn-color-fitted-level-0);\n",
       "}\n",
       "\n",
       "/* on hover */\n",
       "#sk-container-id-1 div.sk-estimator:hover {\n",
       "  /* unfitted */\n",
       "  background-color: var(--sklearn-color-unfitted-level-2);\n",
       "}\n",
       "\n",
       "#sk-container-id-1 div.sk-estimator.fitted:hover {\n",
       "  /* fitted */\n",
       "  background-color: var(--sklearn-color-fitted-level-2);\n",
       "}\n",
       "\n",
       "/* Specification for estimator info (e.g. \"i\" and \"?\") */\n",
       "\n",
       "/* Common style for \"i\" and \"?\" */\n",
       "\n",
       ".sk-estimator-doc-link,\n",
       "a:link.sk-estimator-doc-link,\n",
       "a:visited.sk-estimator-doc-link {\n",
       "  float: right;\n",
       "  font-size: smaller;\n",
       "  line-height: 1em;\n",
       "  font-family: monospace;\n",
       "  background-color: var(--sklearn-color-background);\n",
       "  border-radius: 1em;\n",
       "  height: 1em;\n",
       "  width: 1em;\n",
       "  text-decoration: none !important;\n",
       "  margin-left: 1ex;\n",
       "  /* unfitted */\n",
       "  border: var(--sklearn-color-unfitted-level-1) 1pt solid;\n",
       "  color: var(--sklearn-color-unfitted-level-1);\n",
       "}\n",
       "\n",
       ".sk-estimator-doc-link.fitted,\n",
       "a:link.sk-estimator-doc-link.fitted,\n",
       "a:visited.sk-estimator-doc-link.fitted {\n",
       "  /* fitted */\n",
       "  border: var(--sklearn-color-fitted-level-1) 1pt solid;\n",
       "  color: var(--sklearn-color-fitted-level-1);\n",
       "}\n",
       "\n",
       "/* On hover */\n",
       "div.sk-estimator:hover .sk-estimator-doc-link:hover,\n",
       ".sk-estimator-doc-link:hover,\n",
       "div.sk-label-container:hover .sk-estimator-doc-link:hover,\n",
       ".sk-estimator-doc-link:hover {\n",
       "  /* unfitted */\n",
       "  background-color: var(--sklearn-color-unfitted-level-3);\n",
       "  color: var(--sklearn-color-background);\n",
       "  text-decoration: none;\n",
       "}\n",
       "\n",
       "div.sk-estimator.fitted:hover .sk-estimator-doc-link.fitted:hover,\n",
       ".sk-estimator-doc-link.fitted:hover,\n",
       "div.sk-label-container:hover .sk-estimator-doc-link.fitted:hover,\n",
       ".sk-estimator-doc-link.fitted:hover {\n",
       "  /* fitted */\n",
       "  background-color: var(--sklearn-color-fitted-level-3);\n",
       "  color: var(--sklearn-color-background);\n",
       "  text-decoration: none;\n",
       "}\n",
       "\n",
       "/* Span, style for the box shown on hovering the info icon */\n",
       ".sk-estimator-doc-link span {\n",
       "  display: none;\n",
       "  z-index: 9999;\n",
       "  position: relative;\n",
       "  font-weight: normal;\n",
       "  right: .2ex;\n",
       "  padding: .5ex;\n",
       "  margin: .5ex;\n",
       "  width: min-content;\n",
       "  min-width: 20ex;\n",
       "  max-width: 50ex;\n",
       "  color: var(--sklearn-color-text);\n",
       "  box-shadow: 2pt 2pt 4pt #999;\n",
       "  /* unfitted */\n",
       "  background: var(--sklearn-color-unfitted-level-0);\n",
       "  border: .5pt solid var(--sklearn-color-unfitted-level-3);\n",
       "}\n",
       "\n",
       ".sk-estimator-doc-link.fitted span {\n",
       "  /* fitted */\n",
       "  background: var(--sklearn-color-fitted-level-0);\n",
       "  border: var(--sklearn-color-fitted-level-3);\n",
       "}\n",
       "\n",
       ".sk-estimator-doc-link:hover span {\n",
       "  display: block;\n",
       "}\n",
       "\n",
       "/* \"?\"-specific style due to the `<a>` HTML tag */\n",
       "\n",
       "#sk-container-id-1 a.estimator_doc_link {\n",
       "  float: right;\n",
       "  font-size: 1rem;\n",
       "  line-height: 1em;\n",
       "  font-family: monospace;\n",
       "  background-color: var(--sklearn-color-background);\n",
       "  border-radius: 1rem;\n",
       "  height: 1rem;\n",
       "  width: 1rem;\n",
       "  text-decoration: none;\n",
       "  /* unfitted */\n",
       "  color: var(--sklearn-color-unfitted-level-1);\n",
       "  border: var(--sklearn-color-unfitted-level-1) 1pt solid;\n",
       "}\n",
       "\n",
       "#sk-container-id-1 a.estimator_doc_link.fitted {\n",
       "  /* fitted */\n",
       "  border: var(--sklearn-color-fitted-level-1) 1pt solid;\n",
       "  color: var(--sklearn-color-fitted-level-1);\n",
       "}\n",
       "\n",
       "/* On hover */\n",
       "#sk-container-id-1 a.estimator_doc_link:hover {\n",
       "  /* unfitted */\n",
       "  background-color: var(--sklearn-color-unfitted-level-3);\n",
       "  color: var(--sklearn-color-background);\n",
       "  text-decoration: none;\n",
       "}\n",
       "\n",
       "#sk-container-id-1 a.estimator_doc_link.fitted:hover {\n",
       "  /* fitted */\n",
       "  background-color: var(--sklearn-color-fitted-level-3);\n",
       "}\n",
       "</style><div id=\"sk-container-id-1\" class=\"sk-top-container\"><div class=\"sk-text-repr-fallback\"><pre>XGBClassifier(base_score=None, booster=None, callbacks=None,\n",
       "              colsample_bylevel=None, colsample_bynode=0.5399867771102868,\n",
       "              colsample_bytree=None, device=None, early_stopping_rounds=None,\n",
       "              enable_categorical=False,\n",
       "              eval_metric=&lt;function custom_f1_score at 0x7f776d108720&gt;,\n",
       "              feature_types=None, gamma=None, grow_policy=None,\n",
       "              importance_type=None, interaction_constraints=None,\n",
       "              learning_rate=0.19661836591813572, max_bin=None,\n",
       "              max_cat_threshold=None, max_cat_to_onehot=None,\n",
       "              max_delta_step=None, max_depth=15, max_leaves=None,\n",
       "              min_child_weight=18, missing=nan, monotone_constraints=None,\n",
       "              multi_strategy=None, n_estimators=138, n_jobs=None,\n",
       "              num_parallel_tree=None, objective=&#x27;multi:softprob&#x27;, ...)</pre><b>In a Jupyter environment, please rerun this cell to show the HTML representation or trust the notebook. <br />On GitHub, the HTML representation is unable to render, please try loading this page with nbviewer.org.</b></div><div class=\"sk-container\" hidden><div class=\"sk-item\"><div class=\"sk-estimator fitted sk-toggleable\"><input class=\"sk-toggleable__control sk-hidden--visually\" id=\"sk-estimator-id-1\" type=\"checkbox\" checked><label for=\"sk-estimator-id-1\" class=\"sk-toggleable__label fitted sk-toggleable__label-arrow fitted\">&nbsp;XGBClassifier<span class=\"sk-estimator-doc-link fitted\">i<span>Fitted</span></span></label><div class=\"sk-toggleable__content fitted\"><pre>XGBClassifier(base_score=None, booster=None, callbacks=None,\n",
       "              colsample_bylevel=None, colsample_bynode=0.5399867771102868,\n",
       "              colsample_bytree=None, device=None, early_stopping_rounds=None,\n",
       "              enable_categorical=False,\n",
       "              eval_metric=&lt;function custom_f1_score at 0x7f776d108720&gt;,\n",
       "              feature_types=None, gamma=None, grow_policy=None,\n",
       "              importance_type=None, interaction_constraints=None,\n",
       "              learning_rate=0.19661836591813572, max_bin=None,\n",
       "              max_cat_threshold=None, max_cat_to_onehot=None,\n",
       "              max_delta_step=None, max_depth=15, max_leaves=None,\n",
       "              min_child_weight=18, missing=nan, monotone_constraints=None,\n",
       "              multi_strategy=None, n_estimators=138, n_jobs=None,\n",
       "              num_parallel_tree=None, objective=&#x27;multi:softprob&#x27;, ...)</pre></div> </div></div></div></div>"
      ],
      "text/plain": [
       "XGBClassifier(base_score=None, booster=None, callbacks=None,\n",
       "              colsample_bylevel=None, colsample_bynode=0.5399867771102868,\n",
       "              colsample_bytree=None, device=None, early_stopping_rounds=None,\n",
       "              enable_categorical=False,\n",
       "              eval_metric=<function custom_f1_score at 0x7f776d108720>,\n",
       "              feature_types=None, gamma=None, grow_policy=None,\n",
       "              importance_type=None, interaction_constraints=None,\n",
       "              learning_rate=0.19661836591813572, max_bin=None,\n",
       "              max_cat_threshold=None, max_cat_to_onehot=None,\n",
       "              max_delta_step=None, max_depth=15, max_leaves=None,\n",
       "              min_child_weight=18, missing=nan, monotone_constraints=None,\n",
       "              multi_strategy=None, n_estimators=138, n_jobs=None,\n",
       "              num_parallel_tree=None, objective='multi:softprob', ...)"
      ]
     },
     "execution_count": 21,
     "metadata": {},
     "output_type": "execute_result"
    }
   ],
   "source": [
    "n_estimators = int(study.best_trial.user_attrs['best_iteration']*1.2)\n",
    "xgb = xgboost.XGBClassifier(\n",
    "        eval_metric=eval_metric,\n",
    "        n_estimators=n_estimators,\n",
    "        **study.best_trial.params\n",
    "    )\n",
    "xgb.fit(\n",
    "    ssp.vstack((X_train, X_val)), \n",
    "    np.concatenate((y_train_enc, y_val_enc)),\n",
    "    verbose=1,\n",
    ")"
   ]
  },
  {
   "cell_type": "code",
   "execution_count": 22,
   "id": "8b9a9b6f",
   "metadata": {
    "execution": {
     "iopub.execute_input": "2025-05-14T16:18:31.966878Z",
     "iopub.status.busy": "2025-05-14T16:18:31.966642Z",
     "iopub.status.idle": "2025-05-14T16:18:32.159538Z",
     "shell.execute_reply": "2025-05-14T16:18:32.159187Z"
    },
    "papermill": {
     "duration": 0.203365,
     "end_time": "2025-05-14T16:18:32.160359",
     "exception": false,
     "start_time": "2025-05-14T16:18:31.956994",
     "status": "completed"
    },
    "tags": []
   },
   "outputs": [
    {
     "data": {
      "text/plain": [
       "['/scratch_isilon/groups/singlecell/shared/projects/Inflammation-PBMCs-Atlas/03_downstream_analysis/08_gene_importance/xgboost_external_validation/xgboost_TopN_genes/results_20/best_model/T_CD8_NonNaive_shap_disease_NOstudy_1_xgb.json']"
      ]
     },
     "execution_count": 22,
     "metadata": {},
     "output_type": "execute_result"
    }
   ],
   "source": [
    "out_dir = here(f'03_downstream_analysis/08_gene_importance/xgboost_external_validation/xgboost_TopN_genes/results_{N_GENES}/best_model')\n",
    "\n",
    "if not os.path.exists(out_dir):\n",
    "    os.makedirs(out_dir)\n",
    "    \n",
    "joblib.dump(xgb, os.path.join(out_dir, f'{CELL_TYPE}_{SEED}_{TEST_SPLIT_IDX}_xgb.json'))"
   ]
  },
  {
   "cell_type": "code",
   "execution_count": 23,
   "id": "bbc7ac9d",
   "metadata": {
    "execution": {
     "iopub.execute_input": "2025-05-14T16:18:32.225991Z",
     "iopub.status.busy": "2025-05-14T16:18:32.225738Z",
     "iopub.status.idle": "2025-05-14T16:18:32.729193Z",
     "shell.execute_reply": "2025-05-14T16:18:32.728733Z"
    },
    "papermill": {
     "duration": 0.517373,
     "end_time": "2025-05-14T16:18:32.730185",
     "exception": false,
     "start_time": "2025-05-14T16:18:32.212812",
     "status": "completed"
    },
    "tags": []
   },
   "outputs": [],
   "source": [
    "df_pred_test = pd.DataFrame(dict(\n",
    "    cell_id=train_adata.obs.iloc[test_idxs].index.values,\n",
    "    y_true=y_test, \n",
    "    y_true_code=y_test_enc, \n",
    "    y_pred=xgb.predict(X_test))).set_index('cell_id')"
   ]
  },
  {
   "cell_type": "code",
   "execution_count": 24,
   "id": "d7a52d25",
   "metadata": {
    "execution": {
     "iopub.execute_input": "2025-05-14T16:18:32.782551Z",
     "iopub.status.busy": "2025-05-14T16:18:32.781976Z",
     "iopub.status.idle": "2025-05-14T16:18:32.892421Z",
     "shell.execute_reply": "2025-05-14T16:18:32.891813Z"
    },
    "papermill": {
     "duration": 0.154002,
     "end_time": "2025-05-14T16:18:32.893271",
     "exception": false,
     "start_time": "2025-05-14T16:18:32.739269",
     "status": "completed"
    },
    "tags": []
   },
   "outputs": [],
   "source": [
    "out_dir = here(f'03_downstream_analysis/08_gene_importance/xgboost_external_validation/xgboost_TopN_genes/results_{N_GENES}/predictions')\n",
    "\n",
    "if not os.path.exists(out_dir):\n",
    "    os.makedirs(out_dir)\n",
    "    \n",
    "df_pred_test.to_csv(os.path.join(out_dir, f'{CELL_TYPE}_{SEED}_{TEST_SPLIT_IDX}_pred_test.zip'))"
   ]
  },
  {
   "cell_type": "code",
   "execution_count": 25,
   "id": "695555ae",
   "metadata": {
    "execution": {
     "iopub.execute_input": "2025-05-14T16:18:32.962756Z",
     "iopub.status.busy": "2025-05-14T16:18:32.962515Z",
     "iopub.status.idle": "2025-05-14T16:18:32.978555Z",
     "shell.execute_reply": "2025-05-14T16:18:32.978180Z"
    },
    "papermill": {
     "duration": 0.057551,
     "end_time": "2025-05-14T16:18:32.979379",
     "exception": false,
     "start_time": "2025-05-14T16:18:32.921828",
     "status": "completed"
    },
    "tags": []
   },
   "outputs": [
    {
     "name": "stderr",
     "output_type": "stream",
     "text": [
      "/scratch_isilon/groups/singlecell/shared/conda_env/xgboost-cpu/lib/python3.12/site-packages/sklearn/metrics/_classification.py:2466: UserWarning: y_pred contains classes not in y_true\n",
      "  warnings.warn(\"y_pred contains classes not in y_true\")\n"
     ]
    }
   ],
   "source": [
    "metrics_dict = dict(\n",
    "    BAS=balanced_accuracy_score(y_true=df_pred_test.y_true_code, y_pred=df_pred_test.y_pred), WF1=f1_score(y_true=df_pred_test.y_true_code, y_pred=df_pred_test.y_pred,average='weighted'))"
   ]
  },
  {
   "cell_type": "code",
   "execution_count": 26,
   "id": "142340e7",
   "metadata": {
    "execution": {
     "iopub.execute_input": "2025-05-14T16:18:33.029009Z",
     "iopub.status.busy": "2025-05-14T16:18:33.028762Z",
     "iopub.status.idle": "2025-05-14T16:18:33.031559Z",
     "shell.execute_reply": "2025-05-14T16:18:33.031245Z"
    },
    "papermill": {
     "duration": 0.030179,
     "end_time": "2025-05-14T16:18:33.032314",
     "exception": false,
     "start_time": "2025-05-14T16:18:33.002135",
     "status": "completed"
    },
    "tags": []
   },
   "outputs": [
    {
     "data": {
      "text/plain": [
       "{'BAS': 0.5279177074747804, 'WF1': 0.7022771011509775}"
      ]
     },
     "execution_count": 26,
     "metadata": {},
     "output_type": "execute_result"
    }
   ],
   "source": [
    "metrics_dict"
   ]
  },
  {
   "cell_type": "code",
   "execution_count": 27,
   "id": "a434856c",
   "metadata": {
    "execution": {
     "iopub.execute_input": "2025-05-14T16:18:33.097609Z",
     "iopub.status.busy": "2025-05-14T16:18:33.097290Z",
     "iopub.status.idle": "2025-05-14T16:18:33.106274Z",
     "shell.execute_reply": "2025-05-14T16:18:33.105950Z"
    },
    "papermill": {
     "duration": 0.028233,
     "end_time": "2025-05-14T16:18:33.107045",
     "exception": false,
     "start_time": "2025-05-14T16:18:33.078812",
     "status": "completed"
    },
    "tags": []
   },
   "outputs": [
    {
     "data": {
      "text/html": [
       "<div>\n",
       "<style scoped>\n",
       "    .dataframe tbody tr th:only-of-type {\n",
       "        vertical-align: middle;\n",
       "    }\n",
       "\n",
       "    .dataframe tbody tr th {\n",
       "        vertical-align: top;\n",
       "    }\n",
       "\n",
       "    .dataframe thead th {\n",
       "        text-align: right;\n",
       "    }\n",
       "</style>\n",
       "<table border=\"1\" class=\"dataframe\">\n",
       "  <thead>\n",
       "    <tr style=\"text-align: right;\">\n",
       "      <th></th>\n",
       "      <th>BAS</th>\n",
       "      <th>WF1</th>\n",
       "      <th>split_idx</th>\n",
       "      <th>gene_set_seed</th>\n",
       "      <th>cell_type</th>\n",
       "    </tr>\n",
       "  </thead>\n",
       "  <tbody>\n",
       "    <tr>\n",
       "      <th>0</th>\n",
       "      <td>0.527918</td>\n",
       "      <td>0.702277</td>\n",
       "      <td>1</td>\n",
       "      <td>shap_disease_NOstudy</td>\n",
       "      <td>T_CD8_NonNaive</td>\n",
       "    </tr>\n",
       "  </tbody>\n",
       "</table>\n",
       "</div>"
      ],
      "text/plain": [
       "        BAS       WF1  split_idx         gene_set_seed       cell_type\n",
       "0  0.527918  0.702277          1  shap_disease_NOstudy  T_CD8_NonNaive"
      ]
     },
     "execution_count": 27,
     "metadata": {},
     "output_type": "execute_result"
    }
   ],
   "source": [
    "metrics_df = pd.DataFrame.from_dict([metrics_dict]).assign(split_idx=TEST_SPLIT_IDX, gene_set_seed=SEED, cell_type=CELL_TYPE)\n",
    "metrics_df"
   ]
  },
  {
   "cell_type": "code",
   "execution_count": 28,
   "id": "424204fa",
   "metadata": {
    "execution": {
     "iopub.execute_input": "2025-05-14T16:18:33.162909Z",
     "iopub.status.busy": "2025-05-14T16:18:33.162590Z",
     "iopub.status.idle": "2025-05-14T16:18:33.171024Z",
     "shell.execute_reply": "2025-05-14T16:18:33.170685Z"
    },
    "papermill": {
     "duration": 0.039781,
     "end_time": "2025-05-14T16:18:33.171795",
     "exception": false,
     "start_time": "2025-05-14T16:18:33.132014",
     "status": "completed"
    },
    "tags": []
   },
   "outputs": [],
   "source": [
    "out_dir = here(f'03_downstream_analysis/08_gene_importance/xgboost_external_validation/xgboost_TopN_genes/results_{N_GENES}/metrics')\n",
    "\n",
    "if not os.path.exists(out_dir):\n",
    "    os.makedirs(out_dir)\n",
    "    \n",
    "metrics_df.to_csv(os.path.join(out_dir, f'{CELL_TYPE}_{SEED}_{TEST_SPLIT_IDX}_metrics.zip'))"
   ]
  }
 ],
 "metadata": {
  "kernelspec": {
   "display_name": "Python 3 (ipykernel)",
   "language": "python",
   "name": "python3"
  },
  "language_info": {
   "codemirror_mode": {
    "name": "ipython",
    "version": 3
   },
   "file_extension": ".py",
   "mimetype": "text/x-python",
   "name": "python",
   "nbconvert_exporter": "python",
   "pygments_lexer": "ipython3",
   "version": "3.12.5"
  },
  "papermill": {
   "default_parameters": {},
   "duration": 603.66568,
   "end_time": "2025-05-14T16:18:33.896489",
   "environment_variables": {},
   "exception": null,
   "input_path": "02_xgboost_fitting_external_20genes.ipynb",
   "output_path": "results_20/executed_notebooks/xgboost_fitting_external_CT_T_CD8_NonNaive_GS_shap_disease_NOstudy_seed1.ipynb",
   "parameters": {
    "CELL_TYPE": "T_CD8_NonNaive",
    "SEED": "shap_disease_NOstudy",
    "TEST_SPLIT_IDX": 1
   },
   "start_time": "2025-05-14T16:08:30.230809",
   "version": "2.6.0"
  }
 },
 "nbformat": 4,
 "nbformat_minor": 5
}