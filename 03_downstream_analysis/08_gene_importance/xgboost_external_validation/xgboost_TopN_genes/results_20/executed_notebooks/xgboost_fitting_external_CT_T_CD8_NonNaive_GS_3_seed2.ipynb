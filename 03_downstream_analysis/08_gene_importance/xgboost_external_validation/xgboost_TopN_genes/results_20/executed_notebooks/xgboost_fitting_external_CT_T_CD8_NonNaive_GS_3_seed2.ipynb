{
 "cells": [
  {
   "cell_type": "code",
   "execution_count": 1,
   "id": "21e68030",
   "metadata": {
    "editable": true,
    "execution": {
     "iopub.execute_input": "2025-05-15T16:05:25.984167Z",
     "iopub.status.busy": "2025-05-15T16:05:25.983464Z",
     "iopub.status.idle": "2025-05-15T16:05:25.986928Z",
     "shell.execute_reply": "2025-05-15T16:05:25.986629Z"
    },
    "papermill": {
     "duration": 0.011486,
     "end_time": "2025-05-15T16:05:25.987874",
     "exception": false,
     "start_time": "2025-05-15T16:05:25.976388",
     "status": "completed"
    },
    "slideshow": {
     "slide_type": ""
    },
    "tags": [
     "parameters"
    ]
   },
   "outputs": [],
   "source": [
    "CELL_TYPE = 'pDC'\n",
    "N_GENES: int = 20\n",
    "SEED = 'shap_studyID' #'disease_NOstudy' 'study_NOdisease' or 'int' or 'shap_studyID'\n",
    "TEST_SPLIT_IDX: int = 1 #[0,4]"
   ]
  },
  {
   "cell_type": "code",
   "execution_count": 2,
   "id": "134e67ba",
   "metadata": {
    "execution": {
     "iopub.execute_input": "2025-05-15T16:05:26.014093Z",
     "iopub.status.busy": "2025-05-15T16:05:26.013850Z",
     "iopub.status.idle": "2025-05-15T16:05:26.016521Z",
     "shell.execute_reply": "2025-05-15T16:05:26.016233Z"
    },
    "papermill": {
     "duration": 0.022173,
     "end_time": "2025-05-15T16:05:26.017460",
     "exception": false,
     "start_time": "2025-05-15T16:05:25.995287",
     "status": "completed"
    },
    "tags": [
     "injected-parameters"
    ]
   },
   "outputs": [],
   "source": [
    "# Parameters\n",
    "CELL_TYPE = \"T_CD8_NonNaive\"\n",
    "SEED = 3\n",
    "TEST_SPLIT_IDX = 2\n"
   ]
  },
  {
   "cell_type": "code",
   "execution_count": 3,
   "id": "78b49fff",
   "metadata": {
    "execution": {
     "iopub.execute_input": "2025-05-15T16:05:26.035519Z",
     "iopub.status.busy": "2025-05-15T16:05:26.035300Z",
     "iopub.status.idle": "2025-05-15T16:05:26.037133Z",
     "shell.execute_reply": "2025-05-15T16:05:26.036824Z"
    },
    "papermill": {
     "duration": 0.01569,
     "end_time": "2025-05-15T16:05:26.038185",
     "exception": false,
     "start_time": "2025-05-15T16:05:26.022495",
     "status": "completed"
    },
    "tags": []
   },
   "outputs": [],
   "source": [
    "N_SPLITS: int = 5\n",
    "N_TRIALS: int = 50"
   ]
  },
  {
   "cell_type": "code",
   "execution_count": 4,
   "id": "ba3fc494",
   "metadata": {
    "execution": {
     "iopub.execute_input": "2025-05-15T16:05:26.049815Z",
     "iopub.status.busy": "2025-05-15T16:05:26.049686Z",
     "iopub.status.idle": "2025-05-15T16:05:27.419889Z",
     "shell.execute_reply": "2025-05-15T16:05:27.419235Z"
    },
    "papermill": {
     "duration": 1.378064,
     "end_time": "2025-05-15T16:05:27.421317",
     "exception": false,
     "start_time": "2025-05-15T16:05:26.043253",
     "status": "completed"
    },
    "tags": []
   },
   "outputs": [],
   "source": [
    "import os\n",
    "import sys\n",
    "from pyprojroot.here import here\n",
    "import pandas as pd\n",
    "import anndata as ad\n",
    "import numpy as np\n",
    "import math\n",
    "from sklearn.model_selection import StratifiedGroupKFold\n",
    "from sklearn.preprocessing import LabelEncoder\n",
    "from sklearn.metrics import f1_score\n",
    "import matplotlib.pyplot as plt\n",
    "import seaborn as sns\n",
    "from itertools import product\n",
    "from sklearn.metrics import balanced_accuracy_score, f1_score\n",
    "import optuna\n",
    "\n",
    "import joblib\n",
    "import pickle\n",
    "import datetime\n",
    "\n",
    "import collections\n",
    "\n",
    "import xgboost\n",
    "from sklearn.preprocessing import LabelEncoder\n",
    "\n",
    "import scipy.sparse as ssp\n",
    "import joblib\n",
    "\n",
    "from dotenv import load_dotenv"
   ]
  },
  {
   "cell_type": "code",
   "execution_count": 5,
   "id": "acb076ef",
   "metadata": {
    "execution": {
     "iopub.execute_input": "2025-05-15T16:05:27.441760Z",
     "iopub.status.busy": "2025-05-15T16:05:27.441235Z",
     "iopub.status.idle": "2025-05-15T16:05:27.446860Z",
     "shell.execute_reply": "2025-05-15T16:05:27.446581Z"
    },
    "papermill": {
     "duration": 0.012729,
     "end_time": "2025-05-15T16:05:27.447733",
     "exception": false,
     "start_time": "2025-05-15T16:05:27.435004",
     "status": "completed"
    },
    "tags": []
   },
   "outputs": [
    {
     "data": {
      "text/plain": [
       "True"
      ]
     },
     "execution_count": 5,
     "metadata": {},
     "output_type": "execute_result"
    }
   ],
   "source": [
    "load_dotenv()"
   ]
  },
  {
   "cell_type": "markdown",
   "id": "22a54a51",
   "metadata": {
    "papermill": {
     "duration": 0.005558,
     "end_time": "2025-05-15T16:05:27.472292",
     "exception": false,
     "start_time": "2025-05-15T16:05:27.466734",
     "status": "completed"
    },
    "tags": []
   },
   "source": [
    "# LOAD DATASET"
   ]
  },
  {
   "cell_type": "code",
   "execution_count": 6,
   "id": "dbc1f64e",
   "metadata": {
    "execution": {
     "iopub.execute_input": "2025-05-15T16:05:27.483761Z",
     "iopub.status.busy": "2025-05-15T16:05:27.483581Z",
     "iopub.status.idle": "2025-05-15T16:05:27.904090Z",
     "shell.execute_reply": "2025-05-15T16:05:27.903549Z"
    },
    "papermill": {
     "duration": 0.427748,
     "end_time": "2025-05-15T16:05:27.905364",
     "exception": false,
     "start_time": "2025-05-15T16:05:27.477616",
     "status": "completed"
    },
    "tags": []
   },
   "outputs": [],
   "source": [
    "train_adata = ad.read_h5ad(\n",
    "    here(f'03_downstream_analysis/08_gene_importance/xgboost_external_validation/xgboost_TopN_genes/data_cellTypes/EXTERNAL_{CELL_TYPE}.filtered.log1p.h5ad')\n",
    ")"
   ]
  },
  {
   "cell_type": "code",
   "execution_count": 7,
   "id": "3b060478",
   "metadata": {
    "execution": {
     "iopub.execute_input": "2025-05-15T16:05:27.917328Z",
     "iopub.status.busy": "2025-05-15T16:05:27.916880Z",
     "iopub.status.idle": "2025-05-15T16:05:27.938206Z",
     "shell.execute_reply": "2025-05-15T16:05:27.937861Z"
    },
    "papermill": {
     "duration": 0.027917,
     "end_time": "2025-05-15T16:05:27.939077",
     "exception": false,
     "start_time": "2025-05-15T16:05:27.911160",
     "status": "completed"
    },
    "tags": []
   },
   "outputs": [
    {
     "name": "stdout",
     "output_type": "stream",
     "text": [
      "['ENSG00000122705' 'ENSG00000169564' 'ENSG00000108622' 'ENSG00000206503'\n",
      " 'ENSG00000143184' 'ENSG00000081059' 'ENSG00000111537' 'ENSG00000104312'\n",
      " 'ENSG00000161203' 'ENSG00000163508' 'ENSG00000089737' 'ENSG00000143774'\n",
      " 'ENSG00000205336' 'ENSG00000198668' 'ENSG00000104894' 'ENSG00000100911'\n",
      " 'ENSG00000135968' 'ENSG00000177556' 'ENSG00000002549' 'ENSG00000152495'\n",
      " 'ENSG00000254087' 'ENSG00000100100' 'ENSG00000178719' 'ENSG00000123416'\n",
      " 'ENSG00000073861' 'ENSG00000143185' 'ENSG00000239713' 'ENSG00000026103'\n",
      " 'ENSG00000068831' 'ENSG00000118260' 'ENSG00000135404' 'ENSG00000157514'\n",
      " 'ENSG00000197111' 'ENSG00000119922' 'ENSG00000134107' 'ENSG00000153898'\n",
      " 'ENSG00000264364' 'ENSG00000183020' 'ENSG00000139192' 'ENSG00000100321'\n",
      " 'ENSG00000111335' 'ENSG00000154814' 'ENSG00000131143' 'ENSG00000019582'\n",
      " 'ENSG00000125743' 'ENSG00000158050' 'ENSG00000172005' 'ENSG00000130755'\n",
      " 'ENSG00000069702' 'ENSG00000026025' 'ENSG00000105373' 'ENSG00000163931'\n",
      " 'ENSG00000109861' 'ENSG00000183172' 'ENSG00000100097' 'ENSG00000099204'\n",
      " 'ENSG00000117602' 'ENSG00000175567' 'ENSG00000235162' 'ENSG00000106367'\n",
      " 'ENSG00000030110' 'ENSG00000115738' 'ENSG00000173757' 'ENSG00000169554'\n",
      " 'ENSG00000126524' 'ENSG00000106952' 'ENSG00000176986' 'ENSG00000135821'\n",
      " 'ENSG00000111678' 'ENSG00000184752' 'ENSG00000204472' 'ENSG00000134539'\n",
      " 'ENSG00000136732' 'ENSG00000182866' 'ENSG00000002586' 'ENSG00000078043'\n",
      " 'ENSG00000241837' 'ENSG00000115875' 'ENSG00000205220' 'ENSG00000165272'\n",
      " 'ENSG00000109787' 'ENSG00000136003' 'ENSG00000127022' 'ENSG00000160710'\n",
      " 'ENSG00000077150' 'ENSG00000101608' 'ENSG00000090554' 'ENSG00000144802'\n",
      " 'ENSG00000148834' 'ENSG00000157601' 'ENSG00000164483' 'ENSG00000117984'\n",
      " 'ENSG00000186395' 'ENSG00000148908' 'ENSG00000130724' 'ENSG00000146457'\n",
      " 'ENSG00000143119' 'ENSG00000104904' 'ENSG00000237541' 'ENSG00000106605'\n",
      " 'ENSG00000152778' 'ENSG00000175390' 'ENSG00000147443' 'ENSG00000167863']\n"
     ]
    }
   ],
   "source": [
    "if SEED != 'all':\n",
    "    gene_subset = np.load(here(f'03_downstream_analysis/08_gene_importance/xgboost_external_validation/shap_gene_selection/gene_subsets_{N_GENES}/{CELL_TYPE}_{SEED}.npy'), allow_pickle=True)\n",
    "    train_adata = train_adata[:,gene_subset]\n",
    "    print(gene_subset)\n",
    "elif SEED == 'all':\n",
    "    print('Using all genes')\n",
    "else:\n",
    "    raise ValueError()"
   ]
  },
  {
   "cell_type": "code",
   "execution_count": 8,
   "id": "37f4d3e3",
   "metadata": {
    "execution": {
     "iopub.execute_input": "2025-05-15T16:05:27.950382Z",
     "iopub.status.busy": "2025-05-15T16:05:27.950204Z",
     "iopub.status.idle": "2025-05-15T16:05:27.953113Z",
     "shell.execute_reply": "2025-05-15T16:05:27.952819Z"
    },
    "papermill": {
     "duration": 0.009386,
     "end_time": "2025-05-15T16:05:27.953952",
     "exception": false,
     "start_time": "2025-05-15T16:05:27.944566",
     "status": "completed"
    },
    "tags": []
   },
   "outputs": [
    {
     "data": {
      "text/plain": [
       "(72200, 104)"
      ]
     },
     "execution_count": 8,
     "metadata": {},
     "output_type": "execute_result"
    }
   ],
   "source": [
    "train_adata.shape"
   ]
  },
  {
   "cell_type": "code",
   "execution_count": 9,
   "id": "73c5c88c",
   "metadata": {
    "execution": {
     "iopub.execute_input": "2025-05-15T16:05:27.983786Z",
     "iopub.status.busy": "2025-05-15T16:05:27.983524Z",
     "iopub.status.idle": "2025-05-15T16:05:27.987166Z",
     "shell.execute_reply": "2025-05-15T16:05:27.986876Z"
    },
    "papermill": {
     "duration": 0.028879,
     "end_time": "2025-05-15T16:05:27.988000",
     "exception": false,
     "start_time": "2025-05-15T16:05:27.959121",
     "status": "completed"
    },
    "tags": []
   },
   "outputs": [
    {
     "data": {
      "text/plain": [
       "['RA', 'COVID', 'healthy', 'HIV', 'cirrhosis', 'CD', 'SLE', 'sepsis']\n",
       "Categories (8, object): ['CD', 'COVID', 'HIV', 'RA', 'SLE', 'cirrhosis', 'healthy', 'sepsis']"
      ]
     },
     "execution_count": 9,
     "metadata": {},
     "output_type": "execute_result"
    }
   ],
   "source": [
    "train_adata.obs.disease.unique()"
   ]
  },
  {
   "cell_type": "code",
   "execution_count": 10,
   "id": "8ffcac03",
   "metadata": {
    "execution": {
     "iopub.execute_input": "2025-05-15T16:05:28.007093Z",
     "iopub.status.busy": "2025-05-15T16:05:28.006779Z",
     "iopub.status.idle": "2025-05-15T16:05:28.010385Z",
     "shell.execute_reply": "2025-05-15T16:05:28.010106Z"
    },
    "papermill": {
     "duration": 0.01072,
     "end_time": "2025-05-15T16:05:28.011258",
     "exception": false,
     "start_time": "2025-05-15T16:05:28.000538",
     "status": "completed"
    },
    "tags": []
   },
   "outputs": [
    {
     "data": {
      "text/plain": [
       "['SCGT00val_I036016_T0', 'SCGT00val_I036021_T0', 'SCGT00val_I036028_T0', 'SCGT00val_I036015_T0', 'SCGT00val_I0364_T0', ..., '10XGenomics_10XHC2_T0', '10XGenomics_10XHC3_T0', '10XGenomics_10XHC5_T0', '10XGenomics_10XHC7_T0', '10XGenomics_10XHC8_T0']\n",
       "Length: 86\n",
       "Categories (86, object): ['10XGenomics_10XHC1_T0', '10XGenomics_10XHC2_T0', '10XGenomics_10XHC3_T0', '10XGenomics_10XHC4_T0', ..., 'Savage2021_BRISL6_T0', 'Savage2021_BRISL7_T0', 'Savage2021_PIDA_T0', 'Savage2021_PIDB_T0']"
      ]
     },
     "execution_count": 10,
     "metadata": {},
     "output_type": "execute_result"
    }
   ],
   "source": [
    "train_adata.obs.sampleID.unique()"
   ]
  },
  {
   "cell_type": "code",
   "execution_count": 11,
   "id": "1e348d84",
   "metadata": {
    "execution": {
     "iopub.execute_input": "2025-05-15T16:05:28.022825Z",
     "iopub.status.busy": "2025-05-15T16:05:28.022628Z",
     "iopub.status.idle": "2025-05-15T16:05:28.201509Z",
     "shell.execute_reply": "2025-05-15T16:05:28.201142Z"
    },
    "papermill": {
     "duration": 0.18568,
     "end_time": "2025-05-15T16:05:28.202372",
     "exception": false,
     "start_time": "2025-05-15T16:05:28.016692",
     "status": "completed"
    },
    "tags": []
   },
   "outputs": [],
   "source": [
    "all_idxs = np.arange(train_adata.obs.shape[0])\n",
    "left_out_splits = [s[1] for s in StratifiedGroupKFold(n_splits=N_SPLITS).split(all_idxs, train_adata.obs.disease, train_adata.obs.sampleID)]"
   ]
  },
  {
   "cell_type": "code",
   "execution_count": 12,
   "id": "56872ef9",
   "metadata": {
    "execution": {
     "iopub.execute_input": "2025-05-15T16:05:28.235601Z",
     "iopub.status.busy": "2025-05-15T16:05:28.234942Z",
     "iopub.status.idle": "2025-05-15T16:05:28.238959Z",
     "shell.execute_reply": "2025-05-15T16:05:28.238579Z"
    },
    "papermill": {
     "duration": 0.031823,
     "end_time": "2025-05-15T16:05:28.239880",
     "exception": false,
     "start_time": "2025-05-15T16:05:28.208057",
     "status": "completed"
    },
    "tags": []
   },
   "outputs": [
    {
     "data": {
      "text/plain": [
       "([0, 1, 4], 3, 2)"
      ]
     },
     "execution_count": 12,
     "metadata": {},
     "output_type": "execute_result"
    }
   ],
   "source": [
    "TRAIN_SPLIT_IDXS = [0,1,2,3,4]\n",
    "VAL_SPLIT_IDX = (TEST_SPLIT_IDX + 1) % 5\n",
    "TRAIN_SPLIT_IDXS.remove(TEST_SPLIT_IDX)\n",
    "TRAIN_SPLIT_IDXS.remove(VAL_SPLIT_IDX)\n",
    "TRAIN_SPLIT_IDXS, VAL_SPLIT_IDX, TEST_SPLIT_IDX"
   ]
  },
  {
   "cell_type": "code",
   "execution_count": 13,
   "id": "43e9d0d8",
   "metadata": {
    "execution": {
     "iopub.execute_input": "2025-05-15T16:05:28.253185Z",
     "iopub.status.busy": "2025-05-15T16:05:28.252708Z",
     "iopub.status.idle": "2025-05-15T16:05:28.255374Z",
     "shell.execute_reply": "2025-05-15T16:05:28.255047Z"
    },
    "papermill": {
     "duration": 0.009899,
     "end_time": "2025-05-15T16:05:28.256185",
     "exception": false,
     "start_time": "2025-05-15T16:05:28.246286",
     "status": "completed"
    },
    "tags": []
   },
   "outputs": [],
   "source": [
    "train_idxs = np.concatenate([left_out_splits[idx] for idx in TRAIN_SPLIT_IDXS])\n",
    "val_idxs = left_out_splits[VAL_SPLIT_IDX]\n",
    "test_idxs = left_out_splits[TEST_SPLIT_IDX]"
   ]
  },
  {
   "cell_type": "markdown",
   "id": "36b62c9a",
   "metadata": {
    "papermill": {
     "duration": 0.010639,
     "end_time": "2025-05-15T16:05:28.272190",
     "exception": false,
     "start_time": "2025-05-15T16:05:28.261551",
     "status": "completed"
    },
    "tags": []
   },
   "source": [
    "### SUBSET DATASET INTO TRAIN/TEST/VAL SPLITS"
   ]
  },
  {
   "cell_type": "code",
   "execution_count": 14,
   "id": "abaf6a38",
   "metadata": {
    "execution": {
     "iopub.execute_input": "2025-05-15T16:05:28.284440Z",
     "iopub.status.busy": "2025-05-15T16:05:28.284070Z",
     "iopub.status.idle": "2025-05-15T16:05:28.433943Z",
     "shell.execute_reply": "2025-05-15T16:05:28.433600Z"
    },
    "papermill": {
     "duration": 0.156947,
     "end_time": "2025-05-15T16:05:28.434799",
     "exception": false,
     "start_time": "2025-05-15T16:05:28.277852",
     "status": "completed"
    },
    "tags": []
   },
   "outputs": [
    {
     "data": {
      "text/plain": [
       "((43630, 104), (14538, 104), (14032, 104))"
      ]
     },
     "execution_count": 14,
     "metadata": {},
     "output_type": "execute_result"
    }
   ],
   "source": [
    "X_train = train_adata.X[train_idxs]\n",
    "X_test = train_adata.X[test_idxs]\n",
    "X_val = train_adata.X[val_idxs]\n",
    "X_train.shape, X_test.shape, X_val.shape"
   ]
  },
  {
   "cell_type": "code",
   "execution_count": 15,
   "id": "4a2f18a7",
   "metadata": {
    "execution": {
     "iopub.execute_input": "2025-05-15T16:05:28.447585Z",
     "iopub.status.busy": "2025-05-15T16:05:28.447397Z",
     "iopub.status.idle": "2025-05-15T16:05:28.456493Z",
     "shell.execute_reply": "2025-05-15T16:05:28.456145Z"
    },
    "papermill": {
     "duration": 0.016381,
     "end_time": "2025-05-15T16:05:28.457385",
     "exception": false,
     "start_time": "2025-05-15T16:05:28.441004",
     "status": "completed"
    },
    "tags": []
   },
   "outputs": [
    {
     "data": {
      "text/plain": [
       "((43630,), (14538,), (14032,))"
      ]
     },
     "execution_count": 15,
     "metadata": {},
     "output_type": "execute_result"
    }
   ],
   "source": [
    "y_train = train_adata.obs.iloc[train_idxs].disease.values.astype(str)\n",
    "y_test = train_adata.obs.iloc[test_idxs].disease.values.astype(str)\n",
    "y_val = train_adata.obs.iloc[val_idxs].disease.values.astype(str)\n",
    "y_train.shape, y_test.shape, y_val.shape"
   ]
  },
  {
   "cell_type": "code",
   "execution_count": 16,
   "id": "77ad58bf",
   "metadata": {
    "execution": {
     "iopub.execute_input": "2025-05-15T16:05:28.470051Z",
     "iopub.status.busy": "2025-05-15T16:05:28.469853Z",
     "iopub.status.idle": "2025-05-15T16:05:28.486201Z",
     "shell.execute_reply": "2025-05-15T16:05:28.485817Z"
    },
    "papermill": {
     "duration": 0.023651,
     "end_time": "2025-05-15T16:05:28.487030",
     "exception": false,
     "start_time": "2025-05-15T16:05:28.463379",
     "status": "completed"
    },
    "tags": []
   },
   "outputs": [],
   "source": [
    "lenc = LabelEncoder()\n",
    "y_train_enc = lenc.fit_transform(y_train)\n",
    "y_val_enc = lenc.transform(y_val)\n",
    "y_test_enc = lenc.transform(y_test)"
   ]
  },
  {
   "cell_type": "markdown",
   "id": "56b85f3d",
   "metadata": {
    "papermill": {
     "duration": 0.00595,
     "end_time": "2025-05-15T16:05:28.499060",
     "exception": false,
     "start_time": "2025-05-15T16:05:28.493110",
     "status": "completed"
    },
    "tags": []
   },
   "source": [
    "### GENERATE F1 "
   ]
  },
  {
   "cell_type": "code",
   "execution_count": 17,
   "id": "95401597",
   "metadata": {
    "execution": {
     "iopub.execute_input": "2025-05-15T16:05:28.511294Z",
     "iopub.status.busy": "2025-05-15T16:05:28.511112Z",
     "iopub.status.idle": "2025-05-15T16:05:28.513368Z",
     "shell.execute_reply": "2025-05-15T16:05:28.513087Z"
    },
    "papermill": {
     "duration": 0.009251,
     "end_time": "2025-05-15T16:05:28.514119",
     "exception": false,
     "start_time": "2025-05-15T16:05:28.504868",
     "status": "completed"
    },
    "tags": []
   },
   "outputs": [],
   "source": [
    "def custom_f1_score(y_true, y_pred):\n",
    "    return -f1_score(y_true, y_pred.argmax(1), average='weighted')"
   ]
  },
  {
   "cell_type": "code",
   "execution_count": 18,
   "id": "2fe77760",
   "metadata": {
    "execution": {
     "iopub.execute_input": "2025-05-15T16:05:28.526484Z",
     "iopub.status.busy": "2025-05-15T16:05:28.526177Z",
     "iopub.status.idle": "2025-05-15T16:05:28.529674Z",
     "shell.execute_reply": "2025-05-15T16:05:28.529345Z"
    },
    "papermill": {
     "duration": 0.010239,
     "end_time": "2025-05-15T16:05:28.530429",
     "exception": false,
     "start_time": "2025-05-15T16:05:28.520190",
     "status": "completed"
    },
    "tags": []
   },
   "outputs": [],
   "source": [
    "eval_metric=custom_f1_score\n",
    "eval_metric_name='custom_f1_score'\n",
    "\n",
    "def objective(trial):\n",
    "    params = {\n",
    "        'n_estimators': 1500,\n",
    "        'max_depth': trial.suggest_int('max_depth', 3, 20),\n",
    "        'min_child_weight': trial.suggest_int('min_child_weight', 1, 250),\n",
    "        'subsample': trial.suggest_float('subsample', 0.1, 1.0),\n",
    "        'colsample_bynode': trial.suggest_float('colsample_bynode', 0.1, 1.0),\n",
    "        'learning_rate': trial.suggest_float('learning_rate', 1e-3, 5e-1, log=True),\n",
    "    }\n",
    "    pruning_callback = optuna.integration.XGBoostPruningCallback(trial, f'validation_0-{eval_metric_name}')\n",
    "    es_callback = xgboost.callback.EarlyStopping(20, min_delta=0.001)\n",
    "    xgb = xgboost.XGBClassifier(\n",
    "        eval_metric=eval_metric,\n",
    "        callbacks=[pruning_callback, es_callback],\n",
    "        n_jobs=5,\n",
    "        **params\n",
    "    )\n",
    "    xgb.fit(\n",
    "        X_train, \n",
    "        y_train_enc, \n",
    "        verbose=0,\n",
    "        eval_set=[(X_val, y_val_enc)],\n",
    "    )\n",
    "    trial.set_user_attr('best_iteration', xgb.best_iteration)\n",
    "\n",
    "    return xgb.best_score"
   ]
  },
  {
   "cell_type": "code",
   "execution_count": 19,
   "id": "0d8f5b43",
   "metadata": {
    "execution": {
     "iopub.execute_input": "2025-05-15T16:05:28.542235Z",
     "iopub.status.busy": "2025-05-15T16:05:28.542070Z",
     "iopub.status.idle": "2025-05-15T16:11:50.752438Z",
     "shell.execute_reply": "2025-05-15T16:11:50.751938Z"
    },
    "papermill": {
     "duration": 382.218105,
     "end_time": "2025-05-15T16:11:50.754073",
     "exception": false,
     "start_time": "2025-05-15T16:05:28.535968",
     "status": "completed"
    },
    "scrolled": true,
    "tags": []
   },
   "outputs": [
    {
     "name": "stderr",
     "output_type": "stream",
     "text": [
      "[I 2025-05-15 18:05:28,543] A new study created in memory with name: no-name-628b1a30-e4e2-4af4-90ce-0d5d013359a0\n"
     ]
    },
    {
     "name": "stderr",
     "output_type": "stream",
     "text": [
      "[I 2025-05-15 18:05:31,376] Trial 0 finished with value: -0.649286 and parameters: {'max_depth': 9, 'min_child_weight': 238, 'subsample': 0.7587945476302645, 'colsample_bynode': 0.6387926357773329, 'learning_rate': 0.0026368755339723046}. Best is trial 0 with value: -0.649286.\n"
     ]
    },
    {
     "name": "stderr",
     "output_type": "stream",
     "text": [
      "[I 2025-05-15 18:06:03,639] Trial 1 finished with value: -0.731354 and parameters: {'max_depth': 5, 'min_child_weight': 15, 'subsample': 0.8795585311974417, 'colsample_bynode': 0.6410035105688879, 'learning_rate': 0.08148293210105287}. Best is trial 1 with value: -0.731354.\n"
     ]
    },
    {
     "name": "stderr",
     "output_type": "stream",
     "text": [
      "[I 2025-05-15 18:06:05,951] Trial 2 finished with value: -0.631122 and parameters: {'max_depth': 3, 'min_child_weight': 243, 'subsample': 0.8491983767203796, 'colsample_bynode': 0.29110519961044856, 'learning_rate': 0.003095566460242371}. Best is trial 1 with value: -0.731354.\n"
     ]
    },
    {
     "name": "stderr",
     "output_type": "stream",
     "text": [
      "[I 2025-05-15 18:06:11,742] Trial 3 finished with value: -0.668009 and parameters: {'max_depth': 6, 'min_child_weight': 77, 'subsample': 0.5722807884690141, 'colsample_bynode': 0.48875051677790415, 'learning_rate': 0.006109683510122491}. Best is trial 1 with value: -0.731354.\n"
     ]
    },
    {
     "name": "stderr",
     "output_type": "stream",
     "text": [
      "[I 2025-05-15 18:07:08,367] Trial 4 finished with value: -0.712827 and parameters: {'max_depth': 14, 'min_child_weight': 35, 'subsample': 0.3629301836816964, 'colsample_bynode': 0.4297256589643226, 'learning_rate': 0.01701841881702917}. Best is trial 1 with value: -0.731354.\n"
     ]
    },
    {
     "name": "stderr",
     "output_type": "stream",
     "text": [
      "[I 2025-05-15 18:07:12,719] Trial 5 pruned. Trial was pruned at iteration 23.\n"
     ]
    },
    {
     "name": "stderr",
     "output_type": "stream",
     "text": [
      "[I 2025-05-15 18:07:13,035] Trial 6 pruned. Trial was pruned at iteration 0.\n"
     ]
    },
    {
     "name": "stderr",
     "output_type": "stream",
     "text": [
      "[I 2025-05-15 18:07:13,332] Trial 7 pruned. Trial was pruned at iteration 0.\n"
     ]
    },
    {
     "name": "stderr",
     "output_type": "stream",
     "text": [
      "[I 2025-05-15 18:07:13,604] Trial 8 pruned. Trial was pruned at iteration 0.\n"
     ]
    },
    {
     "name": "stderr",
     "output_type": "stream",
     "text": [
      "[I 2025-05-15 18:07:14,380] Trial 9 pruned. Trial was pruned at iteration 3.\n"
     ]
    },
    {
     "name": "stderr",
     "output_type": "stream",
     "text": [
      "[I 2025-05-15 18:07:33,975] Trial 10 finished with value: -0.722592 and parameters: {'max_depth': 9, 'min_child_weight': 2, 'subsample': 0.9725833997090791, 'colsample_bynode': 0.11616568805333755, 'learning_rate': 0.17780618353487967}. Best is trial 1 with value: -0.731354.\n"
     ]
    },
    {
     "name": "stderr",
     "output_type": "stream",
     "text": [
      "[I 2025-05-15 18:08:01,303] Trial 11 finished with value: -0.722937 and parameters: {'max_depth': 9, 'min_child_weight': 4, 'subsample': 0.9818290990185045, 'colsample_bynode': 0.17702656156719, 'learning_rate': 0.11568531411766632}. Best is trial 1 with value: -0.731354.\n"
     ]
    },
    {
     "name": "stderr",
     "output_type": "stream",
     "text": [
      "[I 2025-05-15 18:08:13,124] Trial 12 pruned. Trial was pruned at iteration 47.\n"
     ]
    },
    {
     "name": "stderr",
     "output_type": "stream",
     "text": [
      "[I 2025-05-15 18:08:13,489] Trial 13 pruned. Trial was pruned at iteration 0.\n"
     ]
    },
    {
     "name": "stderr",
     "output_type": "stream",
     "text": [
      "[I 2025-05-15 18:08:13,866] Trial 14 pruned. Trial was pruned at iteration 0.\n"
     ]
    },
    {
     "name": "stderr",
     "output_type": "stream",
     "text": [
      "[I 2025-05-15 18:08:56,434] Trial 15 finished with value: -0.724094 and parameters: {'max_depth': 20, 'min_child_weight': 1, 'subsample': 0.7012908959710442, 'colsample_bynode': 0.2540835086298475, 'learning_rate': 0.2833114876720916}. Best is trial 1 with value: -0.731354.\n"
     ]
    },
    {
     "name": "stderr",
     "output_type": "stream",
     "text": [
      "[I 2025-05-15 18:08:56,811] Trial 16 pruned. Trial was pruned at iteration 0.\n"
     ]
    },
    {
     "name": "stderr",
     "output_type": "stream",
     "text": [
      "[I 2025-05-15 18:08:57,182] Trial 17 pruned. Trial was pruned at iteration 0.\n"
     ]
    },
    {
     "name": "stderr",
     "output_type": "stream",
     "text": [
      "[I 2025-05-15 18:09:14,813] Trial 18 finished with value: -0.731699 and parameters: {'max_depth': 17, 'min_child_weight': 37, 'subsample': 0.6985649591979675, 'colsample_bynode': 0.4599826294453433, 'learning_rate': 0.23729000655414553}. Best is trial 18 with value: -0.731699.\n"
     ]
    },
    {
     "name": "stderr",
     "output_type": "stream",
     "text": [
      "[I 2025-05-15 18:09:15,389] Trial 19 pruned. Trial was pruned at iteration 1.\n"
     ]
    },
    {
     "name": "stderr",
     "output_type": "stream",
     "text": [
      "[I 2025-05-15 18:09:34,716] Trial 20 finished with value: -0.733817 and parameters: {'max_depth': 11, 'min_child_weight': 23, 'subsample': 0.44862278348412343, 'colsample_bynode': 0.44635216732707556, 'learning_rate': 0.17886734686801936}. Best is trial 20 with value: -0.733817.\n"
     ]
    },
    {
     "name": "stderr",
     "output_type": "stream",
     "text": [
      "[I 2025-05-15 18:09:50,849] Trial 21 finished with value: -0.731763 and parameters: {'max_depth': 11, 'min_child_weight': 27, 'subsample': 0.424778714146214, 'colsample_bynode': 0.4208978908766129, 'learning_rate': 0.18583288754328364}. Best is trial 20 with value: -0.733817.\n"
     ]
    },
    {
     "name": "stderr",
     "output_type": "stream",
     "text": [
      "[I 2025-05-15 18:09:51,228] Trial 22 pruned. Trial was pruned at iteration 0.\n"
     ]
    },
    {
     "name": "stderr",
     "output_type": "stream",
     "text": [
      "[I 2025-05-15 18:09:51,569] Trial 23 pruned. Trial was pruned at iteration 0.\n"
     ]
    },
    {
     "name": "stderr",
     "output_type": "stream",
     "text": [
      "[I 2025-05-15 18:09:52,074] Trial 24 pruned. Trial was pruned at iteration 1.\n"
     ]
    },
    {
     "name": "stderr",
     "output_type": "stream",
     "text": [
      "[I 2025-05-15 18:09:52,440] Trial 25 pruned. Trial was pruned at iteration 0.\n"
     ]
    },
    {
     "name": "stderr",
     "output_type": "stream",
     "text": [
      "[I 2025-05-15 18:09:52,774] Trial 26 pruned. Trial was pruned at iteration 0.\n"
     ]
    },
    {
     "name": "stderr",
     "output_type": "stream",
     "text": [
      "[I 2025-05-15 18:09:53,125] Trial 27 pruned. Trial was pruned at iteration 0.\n"
     ]
    },
    {
     "name": "stderr",
     "output_type": "stream",
     "text": [
      "[I 2025-05-15 18:09:53,477] Trial 28 pruned. Trial was pruned at iteration 0.\n"
     ]
    },
    {
     "name": "stderr",
     "output_type": "stream",
     "text": [
      "[I 2025-05-15 18:09:53,808] Trial 29 pruned. Trial was pruned at iteration 0.\n"
     ]
    },
    {
     "name": "stderr",
     "output_type": "stream",
     "text": [
      "[I 2025-05-15 18:09:54,142] Trial 30 pruned. Trial was pruned at iteration 0.\n"
     ]
    },
    {
     "name": "stderr",
     "output_type": "stream",
     "text": [
      "[I 2025-05-15 18:09:55,422] Trial 31 pruned. Trial was pruned at iteration 5.\n"
     ]
    },
    {
     "name": "stderr",
     "output_type": "stream",
     "text": [
      "[I 2025-05-15 18:09:55,752] Trial 32 pruned. Trial was pruned at iteration 0.\n"
     ]
    },
    {
     "name": "stderr",
     "output_type": "stream",
     "text": [
      "[I 2025-05-15 18:09:56,077] Trial 33 pruned. Trial was pruned at iteration 0.\n"
     ]
    },
    {
     "name": "stderr",
     "output_type": "stream",
     "text": [
      "[I 2025-05-15 18:09:56,426] Trial 34 pruned. Trial was pruned at iteration 0.\n"
     ]
    },
    {
     "name": "stderr",
     "output_type": "stream",
     "text": [
      "[I 2025-05-15 18:09:56,765] Trial 35 pruned. Trial was pruned at iteration 0.\n"
     ]
    },
    {
     "name": "stderr",
     "output_type": "stream",
     "text": [
      "[I 2025-05-15 18:09:58,079] Trial 36 pruned. Trial was pruned at iteration 4.\n"
     ]
    },
    {
     "name": "stderr",
     "output_type": "stream",
     "text": [
      "[I 2025-05-15 18:09:58,375] Trial 37 pruned. Trial was pruned at iteration 0.\n"
     ]
    },
    {
     "name": "stderr",
     "output_type": "stream",
     "text": [
      "[I 2025-05-15 18:09:58,735] Trial 38 pruned. Trial was pruned at iteration 0.\n"
     ]
    },
    {
     "name": "stderr",
     "output_type": "stream",
     "text": [
      "[I 2025-05-15 18:10:12,874] Trial 39 finished with value: -0.72764 and parameters: {'max_depth': 10, 'min_child_weight': 14, 'subsample': 0.8086927510861197, 'colsample_bynode': 0.7578998707846138, 'learning_rate': 0.39009413980322477}. Best is trial 20 with value: -0.733817.\n"
     ]
    },
    {
     "name": "stderr",
     "output_type": "stream",
     "text": [
      "[I 2025-05-15 18:10:13,270] Trial 40 pruned. Trial was pruned at iteration 0.\n"
     ]
    },
    {
     "name": "stderr",
     "output_type": "stream",
     "text": [
      "[I 2025-05-15 18:10:30,522] Trial 41 finished with value: -0.729852 and parameters: {'max_depth': 10, 'min_child_weight': 18, 'subsample': 0.8253196979326611, 'colsample_bynode': 0.7631204631254445, 'learning_rate': 0.3835961845929025}. Best is trial 20 with value: -0.733817.\n"
     ]
    },
    {
     "name": "stderr",
     "output_type": "stream",
     "text": [
      "[I 2025-05-15 18:10:48,211] Trial 42 finished with value: -0.7323 and parameters: {'max_depth': 10, 'min_child_weight': 38, 'subsample': 0.8174991076209333, 'colsample_bynode': 0.8768284733547465, 'learning_rate': 0.24319672913789936}. Best is trial 20 with value: -0.733817.\n"
     ]
    },
    {
     "name": "stderr",
     "output_type": "stream",
     "text": [
      "[I 2025-05-15 18:11:04,730] Trial 43 finished with value: -0.735818 and parameters: {'max_depth': 8, 'min_child_weight': 34, 'subsample': 0.853646558641435, 'colsample_bynode': 0.8650370133875105, 'learning_rate': 0.24562252533429196}. Best is trial 43 with value: -0.735818.\n"
     ]
    },
    {
     "name": "stderr",
     "output_type": "stream",
     "text": [
      "[I 2025-05-15 18:11:05,313] Trial 44 pruned. Trial was pruned at iteration 1.\n"
     ]
    },
    {
     "name": "stderr",
     "output_type": "stream",
     "text": [
      "[I 2025-05-15 18:11:05,966] Trial 45 pruned. Trial was pruned at iteration 1.\n"
     ]
    },
    {
     "name": "stderr",
     "output_type": "stream",
     "text": [
      "[I 2025-05-15 18:11:06,385] Trial 46 pruned. Trial was pruned at iteration 0.\n"
     ]
    },
    {
     "name": "stderr",
     "output_type": "stream",
     "text": [
      "[I 2025-05-15 18:11:21,732] Trial 47 finished with value: -0.734407 and parameters: {'max_depth': 12, 'min_child_weight': 50, 'subsample': 0.8526153262801884, 'colsample_bynode': 0.8607199130156584, 'learning_rate': 0.4835940859184281}. Best is trial 43 with value: -0.735818.\n"
     ]
    },
    {
     "name": "stderr",
     "output_type": "stream",
     "text": [
      "[I 2025-05-15 18:11:32,635] Trial 48 finished with value: -0.731333 and parameters: {'max_depth': 12, 'min_child_weight': 54, 'subsample': 0.8699409771564834, 'colsample_bynode': 0.8398418253915102, 'learning_rate': 0.494694924837157}. Best is trial 43 with value: -0.735818.\n"
     ]
    },
    {
     "name": "stderr",
     "output_type": "stream",
     "text": [
      "[I 2025-05-15 18:11:50,630] Trial 49 pruned. Trial was pruned at iteration 48.\n"
     ]
    }
   ],
   "source": [
    "sampler = optuna.samplers.TPESampler(seed=42)\n",
    "study = optuna.create_study(direction='minimize', sampler=sampler)\n",
    "study.optimize(objective, n_trials=N_TRIALS, gc_after_trial=True)"
   ]
  },
  {
   "cell_type": "code",
   "execution_count": 20,
   "id": "c30e2f90",
   "metadata": {
    "execution": {
     "iopub.execute_input": "2025-05-15T16:11:50.776109Z",
     "iopub.status.busy": "2025-05-15T16:11:50.775880Z",
     "iopub.status.idle": "2025-05-15T16:11:50.817921Z",
     "shell.execute_reply": "2025-05-15T16:11:50.817605Z"
    },
    "papermill": {
     "duration": 0.054592,
     "end_time": "2025-05-15T16:11:50.818843",
     "exception": false,
     "start_time": "2025-05-15T16:11:50.764251",
     "status": "completed"
    },
    "tags": []
   },
   "outputs": [
    {
     "data": {
      "text/plain": [
       "['/scratch_isilon/groups/singlecell/shared/projects/Inflammation-PBMCs-Atlas/03_downstream_analysis/08_gene_importance/xgboost_external_validation/xgboost_TopN_genes/results_20/study/T_CD8_NonNaive_3_2_xgboost.pkl']"
      ]
     },
     "execution_count": 20,
     "metadata": {},
     "output_type": "execute_result"
    }
   ],
   "source": [
    "out_dir = here(f'03_downstream_analysis/08_gene_importance/xgboost_external_validation/xgboost_TopN_genes/results_{N_GENES}/study')\n",
    "\n",
    "if not os.path.exists(out_dir):\n",
    "    os.makedirs(out_dir)\n",
    "    \n",
    "joblib.dump(study,os.path.join(out_dir, f'{CELL_TYPE}_{SEED}_{TEST_SPLIT_IDX}_xgboost.pkl'))"
   ]
  },
  {
   "cell_type": "code",
   "execution_count": 21,
   "id": "a4912c19",
   "metadata": {
    "execution": {
     "iopub.execute_input": "2025-05-15T16:11:50.836662Z",
     "iopub.status.busy": "2025-05-15T16:11:50.836321Z",
     "iopub.status.idle": "2025-05-15T16:12:00.595544Z",
     "shell.execute_reply": "2025-05-15T16:12:00.595149Z"
    },
    "papermill": {
     "duration": 9.769044,
     "end_time": "2025-05-15T16:12:00.596510",
     "exception": false,
     "start_time": "2025-05-15T16:11:50.827466",
     "status": "completed"
    },
    "tags": []
   },
   "outputs": [
    {
     "data": {
      "text/html": [
       "<style>#sk-container-id-1 {\n",
       "  /* Definition of color scheme common for light and dark mode */\n",
       "  --sklearn-color-text: black;\n",
       "  --sklearn-color-line: gray;\n",
       "  /* Definition of color scheme for unfitted estimators */\n",
       "  --sklearn-color-unfitted-level-0: #fff5e6;\n",
       "  --sklearn-color-unfitted-level-1: #f6e4d2;\n",
       "  --sklearn-color-unfitted-level-2: #ffe0b3;\n",
       "  --sklearn-color-unfitted-level-3: chocolate;\n",
       "  /* Definition of color scheme for fitted estimators */\n",
       "  --sklearn-color-fitted-level-0: #f0f8ff;\n",
       "  --sklearn-color-fitted-level-1: #d4ebff;\n",
       "  --sklearn-color-fitted-level-2: #b3dbfd;\n",
       "  --sklearn-color-fitted-level-3: cornflowerblue;\n",
       "\n",
       "  /* Specific color for light theme */\n",
       "  --sklearn-color-text-on-default-background: var(--sg-text-color, var(--theme-code-foreground, var(--jp-content-font-color1, black)));\n",
       "  --sklearn-color-background: var(--sg-background-color, var(--theme-background, var(--jp-layout-color0, white)));\n",
       "  --sklearn-color-border-box: var(--sg-text-color, var(--theme-code-foreground, var(--jp-content-font-color1, black)));\n",
       "  --sklearn-color-icon: #696969;\n",
       "\n",
       "  @media (prefers-color-scheme: dark) {\n",
       "    /* Redefinition of color scheme for dark theme */\n",
       "    --sklearn-color-text-on-default-background: var(--sg-text-color, var(--theme-code-foreground, var(--jp-content-font-color1, white)));\n",
       "    --sklearn-color-background: var(--sg-background-color, var(--theme-background, var(--jp-layout-color0, #111)));\n",
       "    --sklearn-color-border-box: var(--sg-text-color, var(--theme-code-foreground, var(--jp-content-font-color1, white)));\n",
       "    --sklearn-color-icon: #878787;\n",
       "  }\n",
       "}\n",
       "\n",
       "#sk-container-id-1 {\n",
       "  color: var(--sklearn-color-text);\n",
       "}\n",
       "\n",
       "#sk-container-id-1 pre {\n",
       "  padding: 0;\n",
       "}\n",
       "\n",
       "#sk-container-id-1 input.sk-hidden--visually {\n",
       "  border: 0;\n",
       "  clip: rect(1px 1px 1px 1px);\n",
       "  clip: rect(1px, 1px, 1px, 1px);\n",
       "  height: 1px;\n",
       "  margin: -1px;\n",
       "  overflow: hidden;\n",
       "  padding: 0;\n",
       "  position: absolute;\n",
       "  width: 1px;\n",
       "}\n",
       "\n",
       "#sk-container-id-1 div.sk-dashed-wrapped {\n",
       "  border: 1px dashed var(--sklearn-color-line);\n",
       "  margin: 0 0.4em 0.5em 0.4em;\n",
       "  box-sizing: border-box;\n",
       "  padding-bottom: 0.4em;\n",
       "  background-color: var(--sklearn-color-background);\n",
       "}\n",
       "\n",
       "#sk-container-id-1 div.sk-container {\n",
       "  /* jupyter's `normalize.less` sets `[hidden] { display: none; }`\n",
       "     but bootstrap.min.css set `[hidden] { display: none !important; }`\n",
       "     so we also need the `!important` here to be able to override the\n",
       "     default hidden behavior on the sphinx rendered scikit-learn.org.\n",
       "     See: https://github.com/scikit-learn/scikit-learn/issues/21755 */\n",
       "  display: inline-block !important;\n",
       "  position: relative;\n",
       "}\n",
       "\n",
       "#sk-container-id-1 div.sk-text-repr-fallback {\n",
       "  display: none;\n",
       "}\n",
       "\n",
       "div.sk-parallel-item,\n",
       "div.sk-serial,\n",
       "div.sk-item {\n",
       "  /* draw centered vertical line to link estimators */\n",
       "  background-image: linear-gradient(var(--sklearn-color-text-on-default-background), var(--sklearn-color-text-on-default-background));\n",
       "  background-size: 2px 100%;\n",
       "  background-repeat: no-repeat;\n",
       "  background-position: center center;\n",
       "}\n",
       "\n",
       "/* Parallel-specific style estimator block */\n",
       "\n",
       "#sk-container-id-1 div.sk-parallel-item::after {\n",
       "  content: \"\";\n",
       "  width: 100%;\n",
       "  border-bottom: 2px solid var(--sklearn-color-text-on-default-background);\n",
       "  flex-grow: 1;\n",
       "}\n",
       "\n",
       "#sk-container-id-1 div.sk-parallel {\n",
       "  display: flex;\n",
       "  align-items: stretch;\n",
       "  justify-content: center;\n",
       "  background-color: var(--sklearn-color-background);\n",
       "  position: relative;\n",
       "}\n",
       "\n",
       "#sk-container-id-1 div.sk-parallel-item {\n",
       "  display: flex;\n",
       "  flex-direction: column;\n",
       "}\n",
       "\n",
       "#sk-container-id-1 div.sk-parallel-item:first-child::after {\n",
       "  align-self: flex-end;\n",
       "  width: 50%;\n",
       "}\n",
       "\n",
       "#sk-container-id-1 div.sk-parallel-item:last-child::after {\n",
       "  align-self: flex-start;\n",
       "  width: 50%;\n",
       "}\n",
       "\n",
       "#sk-container-id-1 div.sk-parallel-item:only-child::after {\n",
       "  width: 0;\n",
       "}\n",
       "\n",
       "/* Serial-specific style estimator block */\n",
       "\n",
       "#sk-container-id-1 div.sk-serial {\n",
       "  display: flex;\n",
       "  flex-direction: column;\n",
       "  align-items: center;\n",
       "  background-color: var(--sklearn-color-background);\n",
       "  padding-right: 1em;\n",
       "  padding-left: 1em;\n",
       "}\n",
       "\n",
       "\n",
       "/* Toggleable style: style used for estimator/Pipeline/ColumnTransformer box that is\n",
       "clickable and can be expanded/collapsed.\n",
       "- Pipeline and ColumnTransformer use this feature and define the default style\n",
       "- Estimators will overwrite some part of the style using the `sk-estimator` class\n",
       "*/\n",
       "\n",
       "/* Pipeline and ColumnTransformer style (default) */\n",
       "\n",
       "#sk-container-id-1 div.sk-toggleable {\n",
       "  /* Default theme specific background. It is overwritten whether we have a\n",
       "  specific estimator or a Pipeline/ColumnTransformer */\n",
       "  background-color: var(--sklearn-color-background);\n",
       "}\n",
       "\n",
       "/* Toggleable label */\n",
       "#sk-container-id-1 label.sk-toggleable__label {\n",
       "  cursor: pointer;\n",
       "  display: block;\n",
       "  width: 100%;\n",
       "  margin-bottom: 0;\n",
       "  padding: 0.5em;\n",
       "  box-sizing: border-box;\n",
       "  text-align: center;\n",
       "}\n",
       "\n",
       "#sk-container-id-1 label.sk-toggleable__label-arrow:before {\n",
       "  /* Arrow on the left of the label */\n",
       "  content: \"▸\";\n",
       "  float: left;\n",
       "  margin-right: 0.25em;\n",
       "  color: var(--sklearn-color-icon);\n",
       "}\n",
       "\n",
       "#sk-container-id-1 label.sk-toggleable__label-arrow:hover:before {\n",
       "  color: var(--sklearn-color-text);\n",
       "}\n",
       "\n",
       "/* Toggleable content - dropdown */\n",
       "\n",
       "#sk-container-id-1 div.sk-toggleable__content {\n",
       "  max-height: 0;\n",
       "  max-width: 0;\n",
       "  overflow: hidden;\n",
       "  text-align: left;\n",
       "  /* unfitted */\n",
       "  background-color: var(--sklearn-color-unfitted-level-0);\n",
       "}\n",
       "\n",
       "#sk-container-id-1 div.sk-toggleable__content.fitted {\n",
       "  /* fitted */\n",
       "  background-color: var(--sklearn-color-fitted-level-0);\n",
       "}\n",
       "\n",
       "#sk-container-id-1 div.sk-toggleable__content pre {\n",
       "  margin: 0.2em;\n",
       "  border-radius: 0.25em;\n",
       "  color: var(--sklearn-color-text);\n",
       "  /* unfitted */\n",
       "  background-color: var(--sklearn-color-unfitted-level-0);\n",
       "}\n",
       "\n",
       "#sk-container-id-1 div.sk-toggleable__content.fitted pre {\n",
       "  /* unfitted */\n",
       "  background-color: var(--sklearn-color-fitted-level-0);\n",
       "}\n",
       "\n",
       "#sk-container-id-1 input.sk-toggleable__control:checked~div.sk-toggleable__content {\n",
       "  /* Expand drop-down */\n",
       "  max-height: 200px;\n",
       "  max-width: 100%;\n",
       "  overflow: auto;\n",
       "}\n",
       "\n",
       "#sk-container-id-1 input.sk-toggleable__control:checked~label.sk-toggleable__label-arrow:before {\n",
       "  content: \"▾\";\n",
       "}\n",
       "\n",
       "/* Pipeline/ColumnTransformer-specific style */\n",
       "\n",
       "#sk-container-id-1 div.sk-label input.sk-toggleable__control:checked~label.sk-toggleable__label {\n",
       "  color: var(--sklearn-color-text);\n",
       "  background-color: var(--sklearn-color-unfitted-level-2);\n",
       "}\n",
       "\n",
       "#sk-container-id-1 div.sk-label.fitted input.sk-toggleable__control:checked~label.sk-toggleable__label {\n",
       "  background-color: var(--sklearn-color-fitted-level-2);\n",
       "}\n",
       "\n",
       "/* Estimator-specific style */\n",
       "\n",
       "/* Colorize estimator box */\n",
       "#sk-container-id-1 div.sk-estimator input.sk-toggleable__control:checked~label.sk-toggleable__label {\n",
       "  /* unfitted */\n",
       "  background-color: var(--sklearn-color-unfitted-level-2);\n",
       "}\n",
       "\n",
       "#sk-container-id-1 div.sk-estimator.fitted input.sk-toggleable__control:checked~label.sk-toggleable__label {\n",
       "  /* fitted */\n",
       "  background-color: var(--sklearn-color-fitted-level-2);\n",
       "}\n",
       "\n",
       "#sk-container-id-1 div.sk-label label.sk-toggleable__label,\n",
       "#sk-container-id-1 div.sk-label label {\n",
       "  /* The background is the default theme color */\n",
       "  color: var(--sklearn-color-text-on-default-background);\n",
       "}\n",
       "\n",
       "/* On hover, darken the color of the background */\n",
       "#sk-container-id-1 div.sk-label:hover label.sk-toggleable__label {\n",
       "  color: var(--sklearn-color-text);\n",
       "  background-color: var(--sklearn-color-unfitted-level-2);\n",
       "}\n",
       "\n",
       "/* Label box, darken color on hover, fitted */\n",
       "#sk-container-id-1 div.sk-label.fitted:hover label.sk-toggleable__label.fitted {\n",
       "  color: var(--sklearn-color-text);\n",
       "  background-color: var(--sklearn-color-fitted-level-2);\n",
       "}\n",
       "\n",
       "/* Estimator label */\n",
       "\n",
       "#sk-container-id-1 div.sk-label label {\n",
       "  font-family: monospace;\n",
       "  font-weight: bold;\n",
       "  display: inline-block;\n",
       "  line-height: 1.2em;\n",
       "}\n",
       "\n",
       "#sk-container-id-1 div.sk-label-container {\n",
       "  text-align: center;\n",
       "}\n",
       "\n",
       "/* Estimator-specific */\n",
       "#sk-container-id-1 div.sk-estimator {\n",
       "  font-family: monospace;\n",
       "  border: 1px dotted var(--sklearn-color-border-box);\n",
       "  border-radius: 0.25em;\n",
       "  box-sizing: border-box;\n",
       "  margin-bottom: 0.5em;\n",
       "  /* unfitted */\n",
       "  background-color: var(--sklearn-color-unfitted-level-0);\n",
       "}\n",
       "\n",
       "#sk-container-id-1 div.sk-estimator.fitted {\n",
       "  /* fitted */\n",
       "  background-color: var(--sklearn-color-fitted-level-0);\n",
       "}\n",
       "\n",
       "/* on hover */\n",
       "#sk-container-id-1 div.sk-estimator:hover {\n",
       "  /* unfitted */\n",
       "  background-color: var(--sklearn-color-unfitted-level-2);\n",
       "}\n",
       "\n",
       "#sk-container-id-1 div.sk-estimator.fitted:hover {\n",
       "  /* fitted */\n",
       "  background-color: var(--sklearn-color-fitted-level-2);\n",
       "}\n",
       "\n",
       "/* Specification for estimator info (e.g. \"i\" and \"?\") */\n",
       "\n",
       "/* Common style for \"i\" and \"?\" */\n",
       "\n",
       ".sk-estimator-doc-link,\n",
       "a:link.sk-estimator-doc-link,\n",
       "a:visited.sk-estimator-doc-link {\n",
       "  float: right;\n",
       "  font-size: smaller;\n",
       "  line-height: 1em;\n",
       "  font-family: monospace;\n",
       "  background-color: var(--sklearn-color-background);\n",
       "  border-radius: 1em;\n",
       "  height: 1em;\n",
       "  width: 1em;\n",
       "  text-decoration: none !important;\n",
       "  margin-left: 1ex;\n",
       "  /* unfitted */\n",
       "  border: var(--sklearn-color-unfitted-level-1) 1pt solid;\n",
       "  color: var(--sklearn-color-unfitted-level-1);\n",
       "}\n",
       "\n",
       ".sk-estimator-doc-link.fitted,\n",
       "a:link.sk-estimator-doc-link.fitted,\n",
       "a:visited.sk-estimator-doc-link.fitted {\n",
       "  /* fitted */\n",
       "  border: var(--sklearn-color-fitted-level-1) 1pt solid;\n",
       "  color: var(--sklearn-color-fitted-level-1);\n",
       "}\n",
       "\n",
       "/* On hover */\n",
       "div.sk-estimator:hover .sk-estimator-doc-link:hover,\n",
       ".sk-estimator-doc-link:hover,\n",
       "div.sk-label-container:hover .sk-estimator-doc-link:hover,\n",
       ".sk-estimator-doc-link:hover {\n",
       "  /* unfitted */\n",
       "  background-color: var(--sklearn-color-unfitted-level-3);\n",
       "  color: var(--sklearn-color-background);\n",
       "  text-decoration: none;\n",
       "}\n",
       "\n",
       "div.sk-estimator.fitted:hover .sk-estimator-doc-link.fitted:hover,\n",
       ".sk-estimator-doc-link.fitted:hover,\n",
       "div.sk-label-container:hover .sk-estimator-doc-link.fitted:hover,\n",
       ".sk-estimator-doc-link.fitted:hover {\n",
       "  /* fitted */\n",
       "  background-color: var(--sklearn-color-fitted-level-3);\n",
       "  color: var(--sklearn-color-background);\n",
       "  text-decoration: none;\n",
       "}\n",
       "\n",
       "/* Span, style for the box shown on hovering the info icon */\n",
       ".sk-estimator-doc-link span {\n",
       "  display: none;\n",
       "  z-index: 9999;\n",
       "  position: relative;\n",
       "  font-weight: normal;\n",
       "  right: .2ex;\n",
       "  padding: .5ex;\n",
       "  margin: .5ex;\n",
       "  width: min-content;\n",
       "  min-width: 20ex;\n",
       "  max-width: 50ex;\n",
       "  color: var(--sklearn-color-text);\n",
       "  box-shadow: 2pt 2pt 4pt #999;\n",
       "  /* unfitted */\n",
       "  background: var(--sklearn-color-unfitted-level-0);\n",
       "  border: .5pt solid var(--sklearn-color-unfitted-level-3);\n",
       "}\n",
       "\n",
       ".sk-estimator-doc-link.fitted span {\n",
       "  /* fitted */\n",
       "  background: var(--sklearn-color-fitted-level-0);\n",
       "  border: var(--sklearn-color-fitted-level-3);\n",
       "}\n",
       "\n",
       ".sk-estimator-doc-link:hover span {\n",
       "  display: block;\n",
       "}\n",
       "\n",
       "/* \"?\"-specific style due to the `<a>` HTML tag */\n",
       "\n",
       "#sk-container-id-1 a.estimator_doc_link {\n",
       "  float: right;\n",
       "  font-size: 1rem;\n",
       "  line-height: 1em;\n",
       "  font-family: monospace;\n",
       "  background-color: var(--sklearn-color-background);\n",
       "  border-radius: 1rem;\n",
       "  height: 1rem;\n",
       "  width: 1rem;\n",
       "  text-decoration: none;\n",
       "  /* unfitted */\n",
       "  color: var(--sklearn-color-unfitted-level-1);\n",
       "  border: var(--sklearn-color-unfitted-level-1) 1pt solid;\n",
       "}\n",
       "\n",
       "#sk-container-id-1 a.estimator_doc_link.fitted {\n",
       "  /* fitted */\n",
       "  border: var(--sklearn-color-fitted-level-1) 1pt solid;\n",
       "  color: var(--sklearn-color-fitted-level-1);\n",
       "}\n",
       "\n",
       "/* On hover */\n",
       "#sk-container-id-1 a.estimator_doc_link:hover {\n",
       "  /* unfitted */\n",
       "  background-color: var(--sklearn-color-unfitted-level-3);\n",
       "  color: var(--sklearn-color-background);\n",
       "  text-decoration: none;\n",
       "}\n",
       "\n",
       "#sk-container-id-1 a.estimator_doc_link.fitted:hover {\n",
       "  /* fitted */\n",
       "  background-color: var(--sklearn-color-fitted-level-3);\n",
       "}\n",
       "</style><div id=\"sk-container-id-1\" class=\"sk-top-container\"><div class=\"sk-text-repr-fallback\"><pre>XGBClassifier(base_score=None, booster=None, callbacks=None,\n",
       "              colsample_bylevel=None, colsample_bynode=0.8650370133875105,\n",
       "              colsample_bytree=None, device=None, early_stopping_rounds=None,\n",
       "              enable_categorical=False,\n",
       "              eval_metric=&lt;function custom_f1_score at 0x7fd9dce9c4a0&gt;,\n",
       "              feature_types=None, gamma=None, grow_policy=None,\n",
       "              importance_type=None, interaction_constraints=None,\n",
       "              learning_rate=0.24562252533429196, max_bin=None,\n",
       "              max_cat_threshold=None, max_cat_to_onehot=None,\n",
       "              max_delta_step=None, max_depth=8, max_leaves=None,\n",
       "              min_child_weight=34, missing=nan, monotone_constraints=None,\n",
       "              multi_strategy=None, n_estimators=93, n_jobs=None,\n",
       "              num_parallel_tree=None, objective=&#x27;multi:softprob&#x27;, ...)</pre><b>In a Jupyter environment, please rerun this cell to show the HTML representation or trust the notebook. <br />On GitHub, the HTML representation is unable to render, please try loading this page with nbviewer.org.</b></div><div class=\"sk-container\" hidden><div class=\"sk-item\"><div class=\"sk-estimator fitted sk-toggleable\"><input class=\"sk-toggleable__control sk-hidden--visually\" id=\"sk-estimator-id-1\" type=\"checkbox\" checked><label for=\"sk-estimator-id-1\" class=\"sk-toggleable__label fitted sk-toggleable__label-arrow fitted\">&nbsp;XGBClassifier<span class=\"sk-estimator-doc-link fitted\">i<span>Fitted</span></span></label><div class=\"sk-toggleable__content fitted\"><pre>XGBClassifier(base_score=None, booster=None, callbacks=None,\n",
       "              colsample_bylevel=None, colsample_bynode=0.8650370133875105,\n",
       "              colsample_bytree=None, device=None, early_stopping_rounds=None,\n",
       "              enable_categorical=False,\n",
       "              eval_metric=&lt;function custom_f1_score at 0x7fd9dce9c4a0&gt;,\n",
       "              feature_types=None, gamma=None, grow_policy=None,\n",
       "              importance_type=None, interaction_constraints=None,\n",
       "              learning_rate=0.24562252533429196, max_bin=None,\n",
       "              max_cat_threshold=None, max_cat_to_onehot=None,\n",
       "              max_delta_step=None, max_depth=8, max_leaves=None,\n",
       "              min_child_weight=34, missing=nan, monotone_constraints=None,\n",
       "              multi_strategy=None, n_estimators=93, n_jobs=None,\n",
       "              num_parallel_tree=None, objective=&#x27;multi:softprob&#x27;, ...)</pre></div> </div></div></div></div>"
      ],
      "text/plain": [
       "XGBClassifier(base_score=None, booster=None, callbacks=None,\n",
       "              colsample_bylevel=None, colsample_bynode=0.8650370133875105,\n",
       "              colsample_bytree=None, device=None, early_stopping_rounds=None,\n",
       "              enable_categorical=False,\n",
       "              eval_metric=<function custom_f1_score at 0x7fd9dce9c4a0>,\n",
       "              feature_types=None, gamma=None, grow_policy=None,\n",
       "              importance_type=None, interaction_constraints=None,\n",
       "              learning_rate=0.24562252533429196, max_bin=None,\n",
       "              max_cat_threshold=None, max_cat_to_onehot=None,\n",
       "              max_delta_step=None, max_depth=8, max_leaves=None,\n",
       "              min_child_weight=34, missing=nan, monotone_constraints=None,\n",
       "              multi_strategy=None, n_estimators=93, n_jobs=None,\n",
       "              num_parallel_tree=None, objective='multi:softprob', ...)"
      ]
     },
     "execution_count": 21,
     "metadata": {},
     "output_type": "execute_result"
    }
   ],
   "source": [
    "n_estimators = int(study.best_trial.user_attrs['best_iteration']*1.2)\n",
    "xgb = xgboost.XGBClassifier(\n",
    "        eval_metric=eval_metric,\n",
    "        n_estimators=n_estimators,\n",
    "        **study.best_trial.params\n",
    "    )\n",
    "xgb.fit(\n",
    "    ssp.vstack((X_train, X_val)), \n",
    "    np.concatenate((y_train_enc, y_val_enc)),\n",
    "    verbose=1,\n",
    ")"
   ]
  },
  {
   "cell_type": "code",
   "execution_count": 22,
   "id": "d1510701",
   "metadata": {
    "execution": {
     "iopub.execute_input": "2025-05-15T16:12:00.625779Z",
     "iopub.status.busy": "2025-05-15T16:12:00.625577Z",
     "iopub.status.idle": "2025-05-15T16:12:00.704088Z",
     "shell.execute_reply": "2025-05-15T16:12:00.703730Z"
    },
    "papermill": {
     "duration": 0.08884,
     "end_time": "2025-05-15T16:12:00.705131",
     "exception": false,
     "start_time": "2025-05-15T16:12:00.616291",
     "status": "completed"
    },
    "tags": []
   },
   "outputs": [
    {
     "data": {
      "text/plain": [
       "['/scratch_isilon/groups/singlecell/shared/projects/Inflammation-PBMCs-Atlas/03_downstream_analysis/08_gene_importance/xgboost_external_validation/xgboost_TopN_genes/results_20/best_model/T_CD8_NonNaive_3_2_xgb.json']"
      ]
     },
     "execution_count": 22,
     "metadata": {},
     "output_type": "execute_result"
    }
   ],
   "source": [
    "out_dir = here(f'03_downstream_analysis/08_gene_importance/xgboost_external_validation/xgboost_TopN_genes/results_{N_GENES}/best_model')\n",
    "\n",
    "if not os.path.exists(out_dir):\n",
    "    os.makedirs(out_dir)\n",
    "    \n",
    "joblib.dump(xgb, os.path.join(out_dir, f'{CELL_TYPE}_{SEED}_{TEST_SPLIT_IDX}_xgb.json'))"
   ]
  },
  {
   "cell_type": "code",
   "execution_count": 23,
   "id": "62717c19",
   "metadata": {
    "execution": {
     "iopub.execute_input": "2025-05-15T16:12:00.730093Z",
     "iopub.status.busy": "2025-05-15T16:12:00.729889Z",
     "iopub.status.idle": "2025-05-15T16:12:00.983998Z",
     "shell.execute_reply": "2025-05-15T16:12:00.983601Z"
    },
    "papermill": {
     "duration": 0.264283,
     "end_time": "2025-05-15T16:12:00.985121",
     "exception": false,
     "start_time": "2025-05-15T16:12:00.720838",
     "status": "completed"
    },
    "tags": []
   },
   "outputs": [],
   "source": [
    "df_pred_test = pd.DataFrame(dict(\n",
    "    cell_id=train_adata.obs.iloc[test_idxs].index.values,\n",
    "    y_true=y_test, \n",
    "    y_true_code=y_test_enc, \n",
    "    y_pred=xgb.predict(X_test))).set_index('cell_id')"
   ]
  },
  {
   "cell_type": "code",
   "execution_count": 24,
   "id": "314396a6",
   "metadata": {
    "execution": {
     "iopub.execute_input": "2025-05-15T16:12:01.003373Z",
     "iopub.status.busy": "2025-05-15T16:12:01.003161Z",
     "iopub.status.idle": "2025-05-15T16:12:01.093880Z",
     "shell.execute_reply": "2025-05-15T16:12:01.093496Z"
    },
    "papermill": {
     "duration": 0.100644,
     "end_time": "2025-05-15T16:12:01.095024",
     "exception": false,
     "start_time": "2025-05-15T16:12:00.994380",
     "status": "completed"
    },
    "tags": []
   },
   "outputs": [],
   "source": [
    "out_dir = here(f'03_downstream_analysis/08_gene_importance/xgboost_external_validation/xgboost_TopN_genes/results_{N_GENES}/predictions')\n",
    "\n",
    "if not os.path.exists(out_dir):\n",
    "    os.makedirs(out_dir)\n",
    "    \n",
    "df_pred_test.to_csv(os.path.join(out_dir, f'{CELL_TYPE}_{SEED}_{TEST_SPLIT_IDX}_pred_test.zip'))"
   ]
  },
  {
   "cell_type": "code",
   "execution_count": 25,
   "id": "5da2a20b",
   "metadata": {
    "execution": {
     "iopub.execute_input": "2025-05-15T16:12:01.116581Z",
     "iopub.status.busy": "2025-05-15T16:12:01.116390Z",
     "iopub.status.idle": "2025-05-15T16:12:01.126685Z",
     "shell.execute_reply": "2025-05-15T16:12:01.126381Z"
    },
    "papermill": {
     "duration": 0.020306,
     "end_time": "2025-05-15T16:12:01.127482",
     "exception": false,
     "start_time": "2025-05-15T16:12:01.107176",
     "status": "completed"
    },
    "tags": []
   },
   "outputs": [],
   "source": [
    "metrics_dict = dict(\n",
    "    BAS=balanced_accuracy_score(y_true=df_pred_test.y_true_code, y_pred=df_pred_test.y_pred), WF1=f1_score(y_true=df_pred_test.y_true_code, y_pred=df_pred_test.y_pred,average='weighted'))"
   ]
  },
  {
   "cell_type": "code",
   "execution_count": 26,
   "id": "bce8f452",
   "metadata": {
    "execution": {
     "iopub.execute_input": "2025-05-15T16:12:01.145438Z",
     "iopub.status.busy": "2025-05-15T16:12:01.145253Z",
     "iopub.status.idle": "2025-05-15T16:12:01.148228Z",
     "shell.execute_reply": "2025-05-15T16:12:01.147927Z"
    },
    "papermill": {
     "duration": 0.012878,
     "end_time": "2025-05-15T16:12:01.149025",
     "exception": false,
     "start_time": "2025-05-15T16:12:01.136147",
     "status": "completed"
    },
    "tags": []
   },
   "outputs": [
    {
     "data": {
      "text/plain": [
       "{'BAS': 0.5121035689819791, 'WF1': 0.7329755597027118}"
      ]
     },
     "execution_count": 26,
     "metadata": {},
     "output_type": "execute_result"
    }
   ],
   "source": [
    "metrics_dict"
   ]
  },
  {
   "cell_type": "code",
   "execution_count": 27,
   "id": "d7f0580b",
   "metadata": {
    "execution": {
     "iopub.execute_input": "2025-05-15T16:12:01.166416Z",
     "iopub.status.busy": "2025-05-15T16:12:01.166243Z",
     "iopub.status.idle": "2025-05-15T16:12:01.174707Z",
     "shell.execute_reply": "2025-05-15T16:12:01.174402Z"
    },
    "papermill": {
     "duration": 0.017978,
     "end_time": "2025-05-15T16:12:01.175578",
     "exception": false,
     "start_time": "2025-05-15T16:12:01.157600",
     "status": "completed"
    },
    "tags": []
   },
   "outputs": [
    {
     "data": {
      "text/html": [
       "<div>\n",
       "<style scoped>\n",
       "    .dataframe tbody tr th:only-of-type {\n",
       "        vertical-align: middle;\n",
       "    }\n",
       "\n",
       "    .dataframe tbody tr th {\n",
       "        vertical-align: top;\n",
       "    }\n",
       "\n",
       "    .dataframe thead th {\n",
       "        text-align: right;\n",
       "    }\n",
       "</style>\n",
       "<table border=\"1\" class=\"dataframe\">\n",
       "  <thead>\n",
       "    <tr style=\"text-align: right;\">\n",
       "      <th></th>\n",
       "      <th>BAS</th>\n",
       "      <th>WF1</th>\n",
       "      <th>split_idx</th>\n",
       "      <th>gene_set_seed</th>\n",
       "      <th>cell_type</th>\n",
       "    </tr>\n",
       "  </thead>\n",
       "  <tbody>\n",
       "    <tr>\n",
       "      <th>0</th>\n",
       "      <td>0.512104</td>\n",
       "      <td>0.732976</td>\n",
       "      <td>2</td>\n",
       "      <td>3</td>\n",
       "      <td>T_CD8_NonNaive</td>\n",
       "    </tr>\n",
       "  </tbody>\n",
       "</table>\n",
       "</div>"
      ],
      "text/plain": [
       "        BAS       WF1  split_idx  gene_set_seed       cell_type\n",
       "0  0.512104  0.732976          2              3  T_CD8_NonNaive"
      ]
     },
     "execution_count": 27,
     "metadata": {},
     "output_type": "execute_result"
    }
   ],
   "source": [
    "metrics_df = pd.DataFrame.from_dict([metrics_dict]).assign(split_idx=TEST_SPLIT_IDX, gene_set_seed=SEED, cell_type=CELL_TYPE)\n",
    "metrics_df"
   ]
  },
  {
   "cell_type": "code",
   "execution_count": 28,
   "id": "854742ee",
   "metadata": {
    "execution": {
     "iopub.execute_input": "2025-05-15T16:12:01.194429Z",
     "iopub.status.busy": "2025-05-15T16:12:01.194173Z",
     "iopub.status.idle": "2025-05-15T16:12:01.201877Z",
     "shell.execute_reply": "2025-05-15T16:12:01.201537Z"
    },
    "papermill": {
     "duration": 0.017546,
     "end_time": "2025-05-15T16:12:01.202682",
     "exception": false,
     "start_time": "2025-05-15T16:12:01.185136",
     "status": "completed"
    },
    "tags": []
   },
   "outputs": [],
   "source": [
    "out_dir = here(f'03_downstream_analysis/08_gene_importance/xgboost_external_validation/xgboost_TopN_genes/results_{N_GENES}/metrics')\n",
    "\n",
    "if not os.path.exists(out_dir):\n",
    "    os.makedirs(out_dir)\n",
    "    \n",
    "metrics_df.to_csv(os.path.join(out_dir, f'{CELL_TYPE}_{SEED}_{TEST_SPLIT_IDX}_metrics.zip'))"
   ]
  }
 ],
 "metadata": {
  "kernelspec": {
   "display_name": "Python 3 (ipykernel)",
   "language": "python",
   "name": "python3"
  },
  "language_info": {
   "codemirror_mode": {
    "name": "ipython",
    "version": 3
   },
   "file_extension": ".py",
   "mimetype": "text/x-python",
   "name": "python",
   "nbconvert_exporter": "python",
   "pygments_lexer": "ipython3",
   "version": "3.12.5"
  },
  "papermill": {
   "default_parameters": {},
   "duration": 397.179759,
   "end_time": "2025-05-15T16:12:01.837273",
   "environment_variables": {},
   "exception": null,
   "input_path": "02_xgboost_fitting_external_20genes.ipynb",
   "output_path": "results_20/executed_notebooks/xgboost_fitting_external_CT_T_CD8_NonNaive_GS_3_seed2.ipynb",
   "parameters": {
    "CELL_TYPE": "T_CD8_NonNaive",
    "SEED": 3,
    "TEST_SPLIT_IDX": 2
   },
   "start_time": "2025-05-15T16:05:24.657514",
   "version": "2.6.0"
  }
 },
 "nbformat": 4,
 "nbformat_minor": 5
}