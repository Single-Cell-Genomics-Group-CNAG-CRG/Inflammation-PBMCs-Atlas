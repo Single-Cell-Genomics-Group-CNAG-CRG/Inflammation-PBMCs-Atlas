{
 "cells": [
  {
   "cell_type": "code",
   "execution_count": 1,
   "id": "128543ca",
   "metadata": {
    "editable": true,
    "execution": {
     "iopub.execute_input": "2025-05-15T15:57:17.152941Z",
     "iopub.status.busy": "2025-05-15T15:57:17.152759Z",
     "iopub.status.idle": "2025-05-15T15:57:17.155632Z",
     "shell.execute_reply": "2025-05-15T15:57:17.155250Z"
    },
    "papermill": {
     "duration": 0.010205,
     "end_time": "2025-05-15T15:57:17.156540",
     "exception": false,
     "start_time": "2025-05-15T15:57:17.146335",
     "status": "completed"
    },
    "slideshow": {
     "slide_type": ""
    },
    "tags": [
     "parameters"
    ]
   },
   "outputs": [],
   "source": [
    "CELL_TYPE = 'pDC'\n",
    "N_GENES: int = 20\n",
    "SEED = 'shap_studyID' #'disease_NOstudy' 'study_NOdisease' or 'int' or 'shap_studyID'\n",
    "TEST_SPLIT_IDX: int = 1 #[0,4]"
   ]
  },
  {
   "cell_type": "code",
   "execution_count": 2,
   "id": "7f6f2442",
   "metadata": {
    "execution": {
     "iopub.execute_input": "2025-05-15T15:57:17.169927Z",
     "iopub.status.busy": "2025-05-15T15:57:17.169590Z",
     "iopub.status.idle": "2025-05-15T15:57:17.171773Z",
     "shell.execute_reply": "2025-05-15T15:57:17.171400Z"
    },
    "papermill": {
     "duration": 0.008883,
     "end_time": "2025-05-15T15:57:17.172582",
     "exception": false,
     "start_time": "2025-05-15T15:57:17.163699",
     "status": "completed"
    },
    "tags": [
     "injected-parameters"
    ]
   },
   "outputs": [],
   "source": [
    "# Parameters\n",
    "CELL_TYPE = \"T_CD4_NonNaive\"\n",
    "SEED = 0\n",
    "TEST_SPLIT_IDX = 3\n"
   ]
  },
  {
   "cell_type": "code",
   "execution_count": 3,
   "id": "43491898",
   "metadata": {
    "execution": {
     "iopub.execute_input": "2025-05-15T15:57:17.183465Z",
     "iopub.status.busy": "2025-05-15T15:57:17.183266Z",
     "iopub.status.idle": "2025-05-15T15:57:17.185395Z",
     "shell.execute_reply": "2025-05-15T15:57:17.185035Z"
    },
    "papermill": {
     "duration": 0.00854,
     "end_time": "2025-05-15T15:57:17.186215",
     "exception": false,
     "start_time": "2025-05-15T15:57:17.177675",
     "status": "completed"
    },
    "tags": []
   },
   "outputs": [],
   "source": [
    "N_SPLITS: int = 5\n",
    "N_TRIALS: int = 50"
   ]
  },
  {
   "cell_type": "code",
   "execution_count": 4,
   "id": "ce65e7ab",
   "metadata": {
    "execution": {
     "iopub.execute_input": "2025-05-15T15:57:17.198229Z",
     "iopub.status.busy": "2025-05-15T15:57:17.197936Z",
     "iopub.status.idle": "2025-05-15T15:57:18.713171Z",
     "shell.execute_reply": "2025-05-15T15:57:18.712692Z"
    },
    "papermill": {
     "duration": 1.523009,
     "end_time": "2025-05-15T15:57:18.714380",
     "exception": false,
     "start_time": "2025-05-15T15:57:17.191371",
     "status": "completed"
    },
    "tags": []
   },
   "outputs": [],
   "source": [
    "import os\n",
    "import sys\n",
    "from pyprojroot.here import here\n",
    "import pandas as pd\n",
    "import anndata as ad\n",
    "import numpy as np\n",
    "import math\n",
    "from sklearn.model_selection import StratifiedGroupKFold\n",
    "from sklearn.preprocessing import LabelEncoder\n",
    "from sklearn.metrics import f1_score\n",
    "import matplotlib.pyplot as plt\n",
    "import seaborn as sns\n",
    "from itertools import product\n",
    "from sklearn.metrics import balanced_accuracy_score, f1_score\n",
    "import optuna\n",
    "\n",
    "import joblib\n",
    "import pickle\n",
    "import datetime\n",
    "\n",
    "import collections\n",
    "\n",
    "import xgboost\n",
    "from sklearn.preprocessing import LabelEncoder\n",
    "\n",
    "import scipy.sparse as ssp\n",
    "import joblib\n",
    "\n",
    "from dotenv import load_dotenv"
   ]
  },
  {
   "cell_type": "code",
   "execution_count": 5,
   "id": "621610a7",
   "metadata": {
    "execution": {
     "iopub.execute_input": "2025-05-15T15:57:18.726645Z",
     "iopub.status.busy": "2025-05-15T15:57:18.726313Z",
     "iopub.status.idle": "2025-05-15T15:57:18.732155Z",
     "shell.execute_reply": "2025-05-15T15:57:18.731834Z"
    },
    "papermill": {
     "duration": 0.012713,
     "end_time": "2025-05-15T15:57:18.733026",
     "exception": false,
     "start_time": "2025-05-15T15:57:18.720313",
     "status": "completed"
    },
    "tags": []
   },
   "outputs": [
    {
     "data": {
      "text/plain": [
       "True"
      ]
     },
     "execution_count": 5,
     "metadata": {},
     "output_type": "execute_result"
    }
   ],
   "source": [
    "load_dotenv()"
   ]
  },
  {
   "cell_type": "markdown",
   "id": "decdd21f",
   "metadata": {
    "papermill": {
     "duration": 0.005151,
     "end_time": "2025-05-15T15:57:18.744360",
     "exception": false,
     "start_time": "2025-05-15T15:57:18.739209",
     "status": "completed"
    },
    "tags": []
   },
   "source": [
    "# LOAD DATASET"
   ]
  },
  {
   "cell_type": "code",
   "execution_count": 6,
   "id": "63aa9022",
   "metadata": {
    "execution": {
     "iopub.execute_input": "2025-05-15T15:57:18.755757Z",
     "iopub.status.busy": "2025-05-15T15:57:18.755374Z",
     "iopub.status.idle": "2025-05-15T15:57:19.405257Z",
     "shell.execute_reply": "2025-05-15T15:57:19.404789Z"
    },
    "papermill": {
     "duration": 0.656575,
     "end_time": "2025-05-15T15:57:19.406553",
     "exception": false,
     "start_time": "2025-05-15T15:57:18.749978",
     "status": "completed"
    },
    "tags": []
   },
   "outputs": [],
   "source": [
    "train_adata = ad.read_h5ad(\n",
    "    here(f'03_downstream_analysis/08_gene_importance/xgboost_external_validation/xgboost_TopN_genes/data_cellTypes/EXTERNAL_{CELL_TYPE}.filtered.log1p.h5ad')\n",
    ")"
   ]
  },
  {
   "cell_type": "code",
   "execution_count": 7,
   "id": "899ebe2d",
   "metadata": {
    "execution": {
     "iopub.execute_input": "2025-05-15T15:57:19.422892Z",
     "iopub.status.busy": "2025-05-15T15:57:19.422431Z",
     "iopub.status.idle": "2025-05-15T15:57:19.454209Z",
     "shell.execute_reply": "2025-05-15T15:57:19.453848Z"
    },
    "papermill": {
     "duration": 0.042821,
     "end_time": "2025-05-15T15:57:19.455051",
     "exception": false,
     "start_time": "2025-05-15T15:57:19.412230",
     "status": "completed"
    },
    "tags": []
   },
   "outputs": [
    {
     "name": "stdout",
     "output_type": "stream",
     "text": [
      "['ENSG00000107968' 'ENSG00000183696' 'ENSG00000196126' 'ENSG00000186891'\n",
      " 'ENSG00000109787' 'ENSG00000136738' 'ENSG00000113088' 'ENSG00000168610'\n",
      " 'ENSG00000108639' 'ENSG00000152518' 'ENSG00000143774' 'ENSG00000163599'\n",
      " 'ENSG00000125743' 'ENSG00000164307' 'ENSG00000117318' 'ENSG00000135046'\n",
      " 'ENSG00000163659' 'ENSG00000132912' 'ENSG00000144746' 'ENSG00000026025'\n",
      " 'ENSG00000127022' 'ENSG00000015475' 'ENSG00000158050' 'ENSG00000160712'\n",
      " 'ENSG00000131437' 'ENSG00000132510' 'ENSG00000160213' 'ENSG00000051108'\n",
      " 'ENSG00000089327' 'ENSG00000169564' 'ENSG00000188404' 'ENSG00000002549'\n",
      " 'ENSG00000145287' 'ENSG00000152778' 'ENSG00000167863' 'ENSG00000135720'\n",
      " 'ENSG00000148834' 'ENSG00000100300' 'ENSG00000116171' 'ENSG00000229474'\n",
      " 'ENSG00000132965' 'ENSG00000117602' 'ENSG00000118971' 'ENSG00000075426'\n",
      " 'ENSG00000123416' 'ENSG00000154814' 'ENSG00000204592' 'ENSG00000177606'\n",
      " 'ENSG00000204642' 'ENSG00000130724' 'ENSG00000239713' 'ENSG00000126264'\n",
      " 'ENSG00000160932' 'ENSG00000125347' 'ENSG00000151882' 'ENSG00000136732'\n",
      " 'ENSG00000164674' 'ENSG00000026103' 'ENSG00000163600' 'ENSG00000204472'\n",
      " 'ENSG00000196154' 'ENSG00000115232' 'ENSG00000120742' 'ENSG00000172543'\n",
      " 'ENSG00000068831' 'ENSG00000002586' 'ENSG00000126524' 'ENSG00000104856'\n",
      " 'ENSG00000143924' 'ENSG00000235162' 'ENSG00000170296' 'ENSG00000152495'\n",
      " 'ENSG00000186827' 'ENSG00000139192' 'ENSG00000140105' 'ENSG00000171700'\n",
      " 'ENSG00000005339' 'ENSG00000105374' 'ENSG00000077984' 'ENSG00000180644'\n",
      " 'ENSG00000136003' 'ENSG00000141367' 'ENSG00000165272' 'ENSG00000142669'\n",
      " 'ENSG00000106803' 'ENSG00000092820' 'ENSG00000105373' 'ENSG00000156411'\n",
      " 'ENSG00000118515' 'ENSG00000156587' 'ENSG00000118260' 'ENSG00000265972'\n",
      " 'ENSG00000134460' 'ENSG00000189067' 'ENSG00000100450' 'ENSG00000173812'\n",
      " 'ENSG00000028137' 'ENSG00000008517' 'ENSG00000135821' 'ENSG00000117984'\n",
      " 'ENSG00000115875' 'ENSG00000076662']\n"
     ]
    }
   ],
   "source": [
    "if SEED != 'all':\n",
    "    gene_subset = np.load(here(f'03_downstream_analysis/08_gene_importance/xgboost_external_validation/shap_gene_selection/gene_subsets_{N_GENES}/{CELL_TYPE}_{SEED}.npy'), allow_pickle=True)\n",
    "    train_adata = train_adata[:,gene_subset]\n",
    "    print(gene_subset)\n",
    "elif SEED == 'all':\n",
    "    print('Using all genes')\n",
    "else:\n",
    "    raise ValueError()"
   ]
  },
  {
   "cell_type": "code",
   "execution_count": 8,
   "id": "cc259c4a",
   "metadata": {
    "execution": {
     "iopub.execute_input": "2025-05-15T15:57:19.467203Z",
     "iopub.status.busy": "2025-05-15T15:57:19.466856Z",
     "iopub.status.idle": "2025-05-15T15:57:19.469896Z",
     "shell.execute_reply": "2025-05-15T15:57:19.469607Z"
    },
    "papermill": {
     "duration": 0.010197,
     "end_time": "2025-05-15T15:57:19.470690",
     "exception": false,
     "start_time": "2025-05-15T15:57:19.460493",
     "status": "completed"
    },
    "tags": []
   },
   "outputs": [
    {
     "data": {
      "text/plain": [
       "(124886, 102)"
      ]
     },
     "execution_count": 8,
     "metadata": {},
     "output_type": "execute_result"
    }
   ],
   "source": [
    "train_adata.shape"
   ]
  },
  {
   "cell_type": "code",
   "execution_count": 9,
   "id": "d8ac80cc",
   "metadata": {
    "execution": {
     "iopub.execute_input": "2025-05-15T15:57:19.481646Z",
     "iopub.status.busy": "2025-05-15T15:57:19.481488Z",
     "iopub.status.idle": "2025-05-15T15:57:19.485113Z",
     "shell.execute_reply": "2025-05-15T15:57:19.484817Z"
    },
    "papermill": {
     "duration": 0.010218,
     "end_time": "2025-05-15T15:57:19.486079",
     "exception": false,
     "start_time": "2025-05-15T15:57:19.475861",
     "status": "completed"
    },
    "tags": []
   },
   "outputs": [
    {
     "data": {
      "text/plain": [
       "['RA', 'healthy', 'COVID', 'HIV', 'cirrhosis', 'CD', 'SLE', 'sepsis']\n",
       "Categories (8, object): ['CD', 'COVID', 'HIV', 'RA', 'SLE', 'cirrhosis', 'healthy', 'sepsis']"
      ]
     },
     "execution_count": 9,
     "metadata": {},
     "output_type": "execute_result"
    }
   ],
   "source": [
    "train_adata.obs.disease.unique()"
   ]
  },
  {
   "cell_type": "code",
   "execution_count": 10,
   "id": "b6a6aebb",
   "metadata": {
    "execution": {
     "iopub.execute_input": "2025-05-15T15:57:19.497657Z",
     "iopub.status.busy": "2025-05-15T15:57:19.497203Z",
     "iopub.status.idle": "2025-05-15T15:57:19.501053Z",
     "shell.execute_reply": "2025-05-15T15:57:19.500765Z"
    },
    "papermill": {
     "duration": 0.010411,
     "end_time": "2025-05-15T15:57:19.501857",
     "exception": false,
     "start_time": "2025-05-15T15:57:19.491446",
     "status": "completed"
    },
    "tags": []
   },
   "outputs": [
    {
     "data": {
      "text/plain": [
       "['SCGT00val_I036016_T0', 'SCGT00val_I036023_T0', 'SCGT00val_I036015_T0', 'SCGT00val_I036028_T0', 'SCGT00val_I0364_T0', ..., '10XGenomics_10XHC2_T0', '10XGenomics_10XHC3_T0', '10XGenomics_10XHC5_T0', '10XGenomics_10XHC7_T0', '10XGenomics_10XHC8_T0']\n",
       "Length: 86\n",
       "Categories (86, object): ['10XGenomics_10XHC1_T0', '10XGenomics_10XHC2_T0', '10XGenomics_10XHC3_T0', '10XGenomics_10XHC4_T0', ..., 'Savage2021_BRISL6_T0', 'Savage2021_BRISL7_T0', 'Savage2021_PIDA_T0', 'Savage2021_PIDB_T0']"
      ]
     },
     "execution_count": 10,
     "metadata": {},
     "output_type": "execute_result"
    }
   ],
   "source": [
    "train_adata.obs.sampleID.unique()"
   ]
  },
  {
   "cell_type": "code",
   "execution_count": 11,
   "id": "0422557e",
   "metadata": {
    "execution": {
     "iopub.execute_input": "2025-05-15T15:57:19.513185Z",
     "iopub.status.busy": "2025-05-15T15:57:19.512839Z",
     "iopub.status.idle": "2025-05-15T15:57:19.811993Z",
     "shell.execute_reply": "2025-05-15T15:57:19.811477Z"
    },
    "papermill": {
     "duration": 0.306131,
     "end_time": "2025-05-15T15:57:19.813254",
     "exception": false,
     "start_time": "2025-05-15T15:57:19.507123",
     "status": "completed"
    },
    "tags": []
   },
   "outputs": [],
   "source": [
    "all_idxs = np.arange(train_adata.obs.shape[0])\n",
    "left_out_splits = [s[1] for s in StratifiedGroupKFold(n_splits=N_SPLITS).split(all_idxs, train_adata.obs.disease, train_adata.obs.sampleID)]"
   ]
  },
  {
   "cell_type": "code",
   "execution_count": 12,
   "id": "f3e1904a",
   "metadata": {
    "execution": {
     "iopub.execute_input": "2025-05-15T15:57:19.825711Z",
     "iopub.status.busy": "2025-05-15T15:57:19.825549Z",
     "iopub.status.idle": "2025-05-15T15:57:19.829062Z",
     "shell.execute_reply": "2025-05-15T15:57:19.828760Z"
    },
    "papermill": {
     "duration": 0.010381,
     "end_time": "2025-05-15T15:57:19.829895",
     "exception": false,
     "start_time": "2025-05-15T15:57:19.819514",
     "status": "completed"
    },
    "tags": []
   },
   "outputs": [
    {
     "data": {
      "text/plain": [
       "([0, 1, 2], 4, 3)"
      ]
     },
     "execution_count": 12,
     "metadata": {},
     "output_type": "execute_result"
    }
   ],
   "source": [
    "TRAIN_SPLIT_IDXS = [0,1,2,3,4]\n",
    "VAL_SPLIT_IDX = (TEST_SPLIT_IDX + 1) % 5\n",
    "TRAIN_SPLIT_IDXS.remove(TEST_SPLIT_IDX)\n",
    "TRAIN_SPLIT_IDXS.remove(VAL_SPLIT_IDX)\n",
    "TRAIN_SPLIT_IDXS, VAL_SPLIT_IDX, TEST_SPLIT_IDX"
   ]
  },
  {
   "cell_type": "code",
   "execution_count": 13,
   "id": "4c582e80",
   "metadata": {
    "execution": {
     "iopub.execute_input": "2025-05-15T15:57:19.843211Z",
     "iopub.status.busy": "2025-05-15T15:57:19.842985Z",
     "iopub.status.idle": "2025-05-15T15:57:19.845329Z",
     "shell.execute_reply": "2025-05-15T15:57:19.845034Z"
    },
    "papermill": {
     "duration": 0.010813,
     "end_time": "2025-05-15T15:57:19.846094",
     "exception": false,
     "start_time": "2025-05-15T15:57:19.835281",
     "status": "completed"
    },
    "tags": []
   },
   "outputs": [],
   "source": [
    "train_idxs = np.concatenate([left_out_splits[idx] for idx in TRAIN_SPLIT_IDXS])\n",
    "val_idxs = left_out_splits[VAL_SPLIT_IDX]\n",
    "test_idxs = left_out_splits[TEST_SPLIT_IDX]"
   ]
  },
  {
   "cell_type": "markdown",
   "id": "d285e537",
   "metadata": {
    "papermill": {
     "duration": 0.005397,
     "end_time": "2025-05-15T15:57:19.856845",
     "exception": false,
     "start_time": "2025-05-15T15:57:19.851448",
     "status": "completed"
    },
    "tags": []
   },
   "source": [
    "### SUBSET DATASET INTO TRAIN/TEST/VAL SPLITS"
   ]
  },
  {
   "cell_type": "code",
   "execution_count": 14,
   "id": "aafc7a71",
   "metadata": {
    "execution": {
     "iopub.execute_input": "2025-05-15T15:57:19.868407Z",
     "iopub.status.busy": "2025-05-15T15:57:19.868180Z",
     "iopub.status.idle": "2025-05-15T15:57:20.120369Z",
     "shell.execute_reply": "2025-05-15T15:57:20.120033Z"
    },
    "papermill": {
     "duration": 0.258721,
     "end_time": "2025-05-15T15:57:20.121219",
     "exception": false,
     "start_time": "2025-05-15T15:57:19.862498",
     "status": "completed"
    },
    "tags": []
   },
   "outputs": [
    {
     "data": {
      "text/plain": [
       "((76153, 102), (24616, 102), (24117, 102))"
      ]
     },
     "execution_count": 14,
     "metadata": {},
     "output_type": "execute_result"
    }
   ],
   "source": [
    "X_train = train_adata.X[train_idxs]\n",
    "X_test = train_adata.X[test_idxs]\n",
    "X_val = train_adata.X[val_idxs]\n",
    "X_train.shape, X_test.shape, X_val.shape"
   ]
  },
  {
   "cell_type": "code",
   "execution_count": 15,
   "id": "f7521e1d",
   "metadata": {
    "execution": {
     "iopub.execute_input": "2025-05-15T15:57:20.133362Z",
     "iopub.status.busy": "2025-05-15T15:57:20.133122Z",
     "iopub.status.idle": "2025-05-15T15:57:20.145414Z",
     "shell.execute_reply": "2025-05-15T15:57:20.145061Z"
    },
    "papermill": {
     "duration": 0.019188,
     "end_time": "2025-05-15T15:57:20.146278",
     "exception": false,
     "start_time": "2025-05-15T15:57:20.127090",
     "status": "completed"
    },
    "tags": []
   },
   "outputs": [
    {
     "data": {
      "text/plain": [
       "((76153,), (24616,), (24117,))"
      ]
     },
     "execution_count": 15,
     "metadata": {},
     "output_type": "execute_result"
    }
   ],
   "source": [
    "y_train = train_adata.obs.iloc[train_idxs].disease.values.astype(str)\n",
    "y_test = train_adata.obs.iloc[test_idxs].disease.values.astype(str)\n",
    "y_val = train_adata.obs.iloc[val_idxs].disease.values.astype(str)\n",
    "y_train.shape, y_test.shape, y_val.shape"
   ]
  },
  {
   "cell_type": "code",
   "execution_count": 16,
   "id": "bd4ddd93",
   "metadata": {
    "execution": {
     "iopub.execute_input": "2025-05-15T15:57:20.158457Z",
     "iopub.status.busy": "2025-05-15T15:57:20.158182Z",
     "iopub.status.idle": "2025-05-15T15:57:20.184892Z",
     "shell.execute_reply": "2025-05-15T15:57:20.184461Z"
    },
    "papermill": {
     "duration": 0.033768,
     "end_time": "2025-05-15T15:57:20.186064",
     "exception": false,
     "start_time": "2025-05-15T15:57:20.152296",
     "status": "completed"
    },
    "tags": []
   },
   "outputs": [],
   "source": [
    "lenc = LabelEncoder()\n",
    "y_train_enc = lenc.fit_transform(y_train)\n",
    "y_val_enc = lenc.transform(y_val)\n",
    "y_test_enc = lenc.transform(y_test)"
   ]
  },
  {
   "cell_type": "markdown",
   "id": "2dcd4242",
   "metadata": {
    "papermill": {
     "duration": 0.005782,
     "end_time": "2025-05-15T15:57:20.198552",
     "exception": false,
     "start_time": "2025-05-15T15:57:20.192770",
     "status": "completed"
    },
    "tags": []
   },
   "source": [
    "### GENERATE F1 "
   ]
  },
  {
   "cell_type": "code",
   "execution_count": 17,
   "id": "f62d0247",
   "metadata": {
    "execution": {
     "iopub.execute_input": "2025-05-15T15:57:20.211613Z",
     "iopub.status.busy": "2025-05-15T15:57:20.211264Z",
     "iopub.status.idle": "2025-05-15T15:57:20.213981Z",
     "shell.execute_reply": "2025-05-15T15:57:20.213671Z"
    },
    "papermill": {
     "duration": 0.01069,
     "end_time": "2025-05-15T15:57:20.214814",
     "exception": false,
     "start_time": "2025-05-15T15:57:20.204124",
     "status": "completed"
    },
    "tags": []
   },
   "outputs": [],
   "source": [
    "def custom_f1_score(y_true, y_pred):\n",
    "    return -f1_score(y_true, y_pred.argmax(1), average='weighted')"
   ]
  },
  {
   "cell_type": "code",
   "execution_count": 18,
   "id": "21a37dc3",
   "metadata": {
    "execution": {
     "iopub.execute_input": "2025-05-15T15:57:20.227546Z",
     "iopub.status.busy": "2025-05-15T15:57:20.227257Z",
     "iopub.status.idle": "2025-05-15T15:57:20.231166Z",
     "shell.execute_reply": "2025-05-15T15:57:20.230828Z"
    },
    "papermill": {
     "duration": 0.011463,
     "end_time": "2025-05-15T15:57:20.232015",
     "exception": false,
     "start_time": "2025-05-15T15:57:20.220552",
     "status": "completed"
    },
    "tags": []
   },
   "outputs": [],
   "source": [
    "eval_metric=custom_f1_score\n",
    "eval_metric_name='custom_f1_score'\n",
    "\n",
    "def objective(trial):\n",
    "    params = {\n",
    "        'n_estimators': 1500,\n",
    "        'max_depth': trial.suggest_int('max_depth', 3, 20),\n",
    "        'min_child_weight': trial.suggest_int('min_child_weight', 1, 250),\n",
    "        'subsample': trial.suggest_float('subsample', 0.1, 1.0),\n",
    "        'colsample_bynode': trial.suggest_float('colsample_bynode', 0.1, 1.0),\n",
    "        'learning_rate': trial.suggest_float('learning_rate', 1e-3, 5e-1, log=True),\n",
    "    }\n",
    "    pruning_callback = optuna.integration.XGBoostPruningCallback(trial, f'validation_0-{eval_metric_name}')\n",
    "    es_callback = xgboost.callback.EarlyStopping(20, min_delta=0.001)\n",
    "    xgb = xgboost.XGBClassifier(\n",
    "        eval_metric=eval_metric,\n",
    "        callbacks=[pruning_callback, es_callback],\n",
    "        n_jobs=5,\n",
    "        **params\n",
    "    )\n",
    "    xgb.fit(\n",
    "        X_train, \n",
    "        y_train_enc, \n",
    "        verbose=0,\n",
    "        eval_set=[(X_val, y_val_enc)],\n",
    "    )\n",
    "    trial.set_user_attr('best_iteration', xgb.best_iteration)\n",
    "\n",
    "    return xgb.best_score"
   ]
  },
  {
   "cell_type": "code",
   "execution_count": 19,
   "id": "ec3aed12",
   "metadata": {
    "execution": {
     "iopub.execute_input": "2025-05-15T15:57:20.244693Z",
     "iopub.status.busy": "2025-05-15T15:57:20.244371Z",
     "iopub.status.idle": "2025-05-15T16:12:04.625866Z",
     "shell.execute_reply": "2025-05-15T16:12:04.625340Z"
    },
    "papermill": {
     "duration": 884.389153,
     "end_time": "2025-05-15T16:12:04.627339",
     "exception": false,
     "start_time": "2025-05-15T15:57:20.238186",
     "status": "completed"
    },
    "scrolled": true,
    "tags": []
   },
   "outputs": [
    {
     "name": "stderr",
     "output_type": "stream",
     "text": [
      "[I 2025-05-15 17:57:20,246] A new study created in memory with name: no-name-d132d5d0-d357-4581-890c-1034073d48a7\n"
     ]
    },
    {
     "name": "stderr",
     "output_type": "stream",
     "text": [
      "[I 2025-05-15 17:57:45,899] Trial 0 finished with value: -0.675587 and parameters: {'max_depth': 9, 'min_child_weight': 238, 'subsample': 0.7587945476302645, 'colsample_bynode': 0.6387926357773329, 'learning_rate': 0.0026368755339723046}. Best is trial 0 with value: -0.675587.\n"
     ]
    },
    {
     "name": "stderr",
     "output_type": "stream",
     "text": [
      "[I 2025-05-15 17:59:23,618] Trial 1 finished with value: -0.791394 and parameters: {'max_depth': 5, 'min_child_weight': 15, 'subsample': 0.8795585311974417, 'colsample_bynode': 0.6410035105688879, 'learning_rate': 0.08148293210105287}. Best is trial 1 with value: -0.791394.\n"
     ]
    },
    {
     "name": "stderr",
     "output_type": "stream",
     "text": [
      "[I 2025-05-15 17:59:29,633] Trial 2 finished with value: -0.598318 and parameters: {'max_depth': 3, 'min_child_weight': 243, 'subsample': 0.8491983767203796, 'colsample_bynode': 0.29110519961044856, 'learning_rate': 0.003095566460242371}. Best is trial 1 with value: -0.791394.\n"
     ]
    },
    {
     "name": "stderr",
     "output_type": "stream",
     "text": [
      "[I 2025-05-15 17:59:38,172] Trial 3 finished with value: -0.685095 and parameters: {'max_depth': 6, 'min_child_weight': 77, 'subsample': 0.5722807884690141, 'colsample_bynode': 0.48875051677790415, 'learning_rate': 0.006109683510122491}. Best is trial 1 with value: -0.791394.\n"
     ]
    },
    {
     "name": "stderr",
     "output_type": "stream",
     "text": [
      "[I 2025-05-15 18:02:04,242] Trial 4 finished with value: -0.779434 and parameters: {'max_depth': 14, 'min_child_weight': 35, 'subsample': 0.3629301836816964, 'colsample_bynode': 0.4297256589643226, 'learning_rate': 0.01701841881702917}. Best is trial 1 with value: -0.791394.\n"
     ]
    },
    {
     "name": "stderr",
     "output_type": "stream",
     "text": [
      "[I 2025-05-15 18:02:15,457] Trial 5 pruned. Trial was pruned at iteration 30.\n"
     ]
    },
    {
     "name": "stderr",
     "output_type": "stream",
     "text": [
      "[I 2025-05-15 18:02:37,749] Trial 6 finished with value: -0.776645 and parameters: {'max_depth': 13, 'min_child_weight': 43, 'subsample': 0.1585464336867516, 'colsample_bynode': 0.9539969835279999, 'learning_rate': 0.4038423798071558}. Best is trial 1 with value: -0.791394.\n"
     ]
    },
    {
     "name": "stderr",
     "output_type": "stream",
     "text": [
      "[I 2025-05-15 18:02:38,285] Trial 7 pruned. Trial was pruned at iteration 0.\n"
     ]
    },
    {
     "name": "stderr",
     "output_type": "stream",
     "text": [
      "[I 2025-05-15 18:02:38,805] Trial 8 pruned. Trial was pruned at iteration 0.\n"
     ]
    },
    {
     "name": "stderr",
     "output_type": "stream",
     "text": [
      "[I 2025-05-15 18:02:39,402] Trial 9 pruned. Trial was pruned at iteration 0.\n"
     ]
    },
    {
     "name": "stderr",
     "output_type": "stream",
     "text": [
      "[I 2025-05-15 18:02:40,063] Trial 10 pruned. Trial was pruned at iteration 0.\n"
     ]
    },
    {
     "name": "stderr",
     "output_type": "stream",
     "text": [
      "[I 2025-05-15 18:04:01,432] Trial 11 finished with value: -0.791104 and parameters: {'max_depth': 10, 'min_child_weight': 3, 'subsample': 0.34014304150377095, 'colsample_bynode': 0.40131565860091256, 'learning_rate': 0.057899203666416425}. Best is trial 1 with value: -0.791394.\n"
     ]
    },
    {
     "name": "stderr",
     "output_type": "stream",
     "text": [
      "[I 2025-05-15 18:05:01,920] Trial 12 finished with value: -0.787203 and parameters: {'max_depth': 8, 'min_child_weight': 3, 'subsample': 0.3693916175642251, 'colsample_bynode': 0.351751713087183, 'learning_rate': 0.07220195396446884}. Best is trial 1 with value: -0.791394.\n"
     ]
    },
    {
     "name": "stderr",
     "output_type": "stream",
     "text": [
      "[I 2025-05-15 18:05:02,493] Trial 13 pruned. Trial was pruned at iteration 0.\n"
     ]
    },
    {
     "name": "stderr",
     "output_type": "stream",
     "text": [
      "[I 2025-05-15 18:05:03,008] Trial 14 pruned. Trial was pruned at iteration 0.\n"
     ]
    },
    {
     "name": "stderr",
     "output_type": "stream",
     "text": [
      "[I 2025-05-15 18:06:54,977] Trial 15 pruned. Trial was pruned at iteration 162.\n"
     ]
    },
    {
     "name": "stderr",
     "output_type": "stream",
     "text": [
      "[I 2025-05-15 18:06:55,558] Trial 16 pruned. Trial was pruned at iteration 0.\n"
     ]
    },
    {
     "name": "stderr",
     "output_type": "stream",
     "text": [
      "[I 2025-05-15 18:06:56,113] Trial 17 pruned. Trial was pruned at iteration 0.\n"
     ]
    },
    {
     "name": "stderr",
     "output_type": "stream",
     "text": [
      "[I 2025-05-15 18:06:56,663] Trial 18 pruned. Trial was pruned at iteration 0.\n"
     ]
    },
    {
     "name": "stderr",
     "output_type": "stream",
     "text": [
      "[I 2025-05-15 18:06:57,219] Trial 19 pruned. Trial was pruned at iteration 0.\n"
     ]
    },
    {
     "name": "stderr",
     "output_type": "stream",
     "text": [
      "[I 2025-05-15 18:08:05,619] Trial 20 finished with value: -0.794991 and parameters: {'max_depth': 7, 'min_child_weight': 24, 'subsample': 0.8601573496833833, 'colsample_bynode': 0.7044515243872378, 'learning_rate': 0.10169686165917782}. Best is trial 20 with value: -0.794991.\n"
     ]
    },
    {
     "name": "stderr",
     "output_type": "stream",
     "text": [
      "[I 2025-05-15 18:09:17,879] Trial 21 finished with value: -0.795659 and parameters: {'max_depth': 7, 'min_child_weight': 24, 'subsample': 0.8524655332992119, 'colsample_bynode': 0.721093220943723, 'learning_rate': 0.09482021333017883}. Best is trial 21 with value: -0.795659.\n"
     ]
    },
    {
     "name": "stderr",
     "output_type": "stream",
     "text": [
      "[I 2025-05-15 18:09:18,410] Trial 22 pruned. Trial was pruned at iteration 0.\n"
     ]
    },
    {
     "name": "stderr",
     "output_type": "stream",
     "text": [
      "[I 2025-05-15 18:09:53,417] Trial 23 finished with value: -0.793469 and parameters: {'max_depth': 7, 'min_child_weight': 57, 'subsample': 0.8583921597212885, 'colsample_bynode': 0.8887534207805952, 'learning_rate': 0.2870964669525365}. Best is trial 21 with value: -0.795659.\n"
     ]
    },
    {
     "name": "stderr",
     "output_type": "stream",
     "text": [
      "[I 2025-05-15 18:09:54,054] Trial 24 pruned. Trial was pruned at iteration 0.\n"
     ]
    },
    {
     "name": "stderr",
     "output_type": "stream",
     "text": [
      "[I 2025-05-15 18:09:54,670] Trial 25 pruned. Trial was pruned at iteration 0.\n"
     ]
    },
    {
     "name": "stderr",
     "output_type": "stream",
     "text": [
      "[I 2025-05-15 18:09:55,290] Trial 26 pruned. Trial was pruned at iteration 0.\n"
     ]
    },
    {
     "name": "stderr",
     "output_type": "stream",
     "text": [
      "[I 2025-05-15 18:10:28,705] Trial 27 finished with value: -0.78899 and parameters: {'max_depth': 12, 'min_child_weight': 26, 'subsample': 0.6693673534860863, 'colsample_bynode': 0.9968747589056477, 'learning_rate': 0.2743854980163595}. Best is trial 21 with value: -0.795659.\n"
     ]
    },
    {
     "name": "stderr",
     "output_type": "stream",
     "text": [
      "[I 2025-05-15 18:10:29,297] Trial 28 pruned. Trial was pruned at iteration 0.\n"
     ]
    },
    {
     "name": "stderr",
     "output_type": "stream",
     "text": [
      "[I 2025-05-15 18:10:29,913] Trial 29 pruned. Trial was pruned at iteration 0.\n"
     ]
    },
    {
     "name": "stderr",
     "output_type": "stream",
     "text": [
      "[I 2025-05-15 18:10:58,873] Trial 30 finished with value: -0.78892 and parameters: {'max_depth': 8, 'min_child_weight': 65, 'subsample': 0.9597607194610404, 'colsample_bynode': 0.8612233737309187, 'learning_rate': 0.3334558648355814}. Best is trial 21 with value: -0.795659.\n"
     ]
    },
    {
     "name": "stderr",
     "output_type": "stream",
     "text": [
      "[I 2025-05-15 18:10:59,456] Trial 31 pruned. Trial was pruned at iteration 0.\n"
     ]
    },
    {
     "name": "stderr",
     "output_type": "stream",
     "text": [
      "[I 2025-05-15 18:11:00,016] Trial 32 pruned. Trial was pruned at iteration 0.\n"
     ]
    },
    {
     "name": "stderr",
     "output_type": "stream",
     "text": [
      "[I 2025-05-15 18:11:00,612] Trial 33 pruned. Trial was pruned at iteration 0.\n"
     ]
    },
    {
     "name": "stderr",
     "output_type": "stream",
     "text": [
      "[I 2025-05-15 18:11:01,161] Trial 34 pruned. Trial was pruned at iteration 0.\n"
     ]
    },
    {
     "name": "stderr",
     "output_type": "stream",
     "text": [
      "[I 2025-05-15 18:11:01,759] Trial 35 pruned. Trial was pruned at iteration 0.\n"
     ]
    },
    {
     "name": "stderr",
     "output_type": "stream",
     "text": [
      "[I 2025-05-15 18:11:02,330] Trial 36 pruned. Trial was pruned at iteration 0.\n"
     ]
    },
    {
     "name": "stderr",
     "output_type": "stream",
     "text": [
      "[I 2025-05-15 18:11:03,282] Trial 37 pruned. Trial was pruned at iteration 1.\n"
     ]
    },
    {
     "name": "stderr",
     "output_type": "stream",
     "text": [
      "[I 2025-05-15 18:11:03,897] Trial 38 pruned. Trial was pruned at iteration 0.\n"
     ]
    },
    {
     "name": "stderr",
     "output_type": "stream",
     "text": [
      "[I 2025-05-15 18:11:04,505] Trial 39 pruned. Trial was pruned at iteration 0.\n"
     ]
    },
    {
     "name": "stderr",
     "output_type": "stream",
     "text": [
      "[I 2025-05-15 18:11:11,648] Trial 40 pruned. Trial was pruned at iteration 12.\n"
     ]
    },
    {
     "name": "stderr",
     "output_type": "stream",
     "text": [
      "[I 2025-05-15 18:11:15,169] Trial 41 pruned. Trial was pruned at iteration 8.\n"
     ]
    },
    {
     "name": "stderr",
     "output_type": "stream",
     "text": [
      "[I 2025-05-15 18:11:17,403] Trial 42 pruned. Trial was pruned at iteration 5.\n"
     ]
    },
    {
     "name": "stderr",
     "output_type": "stream",
     "text": [
      "[I 2025-05-15 18:11:18,013] Trial 43 pruned. Trial was pruned at iteration 0.\n"
     ]
    },
    {
     "name": "stderr",
     "output_type": "stream",
     "text": [
      "[I 2025-05-15 18:11:18,698] Trial 44 pruned. Trial was pruned at iteration 0.\n"
     ]
    },
    {
     "name": "stderr",
     "output_type": "stream",
     "text": [
      "[I 2025-05-15 18:12:01,907] Trial 45 pruned. Trial was pruned at iteration 35.\n"
     ]
    },
    {
     "name": "stderr",
     "output_type": "stream",
     "text": [
      "[I 2025-05-15 18:12:02,593] Trial 46 pruned. Trial was pruned at iteration 0.\n"
     ]
    },
    {
     "name": "stderr",
     "output_type": "stream",
     "text": [
      "[I 2025-05-15 18:12:03,269] Trial 47 pruned. Trial was pruned at iteration 0.\n"
     ]
    },
    {
     "name": "stderr",
     "output_type": "stream",
     "text": [
      "[I 2025-05-15 18:12:03,932] Trial 48 pruned. Trial was pruned at iteration 0.\n"
     ]
    },
    {
     "name": "stderr",
     "output_type": "stream",
     "text": [
      "[I 2025-05-15 18:12:04,519] Trial 49 pruned. Trial was pruned at iteration 0.\n"
     ]
    }
   ],
   "source": [
    "sampler = optuna.samplers.TPESampler(seed=42)\n",
    "study = optuna.create_study(direction='minimize', sampler=sampler)\n",
    "study.optimize(objective, n_trials=N_TRIALS, gc_after_trial=True)"
   ]
  },
  {
   "cell_type": "code",
   "execution_count": 20,
   "id": "7e8cb97c",
   "metadata": {
    "execution": {
     "iopub.execute_input": "2025-05-15T16:12:04.650264Z",
     "iopub.status.busy": "2025-05-15T16:12:04.650093Z",
     "iopub.status.idle": "2025-05-15T16:12:04.700942Z",
     "shell.execute_reply": "2025-05-15T16:12:04.700635Z"
    },
    "papermill": {
     "duration": 0.063343,
     "end_time": "2025-05-15T16:12:04.702226",
     "exception": false,
     "start_time": "2025-05-15T16:12:04.638883",
     "status": "completed"
    },
    "tags": []
   },
   "outputs": [
    {
     "data": {
      "text/plain": [
       "['/scratch_isilon/groups/singlecell/shared/projects/Inflammation-PBMCs-Atlas/03_downstream_analysis/08_gene_importance/xgboost_external_validation/xgboost_TopN_genes/results_20/study/T_CD4_NonNaive_0_3_xgboost.pkl']"
      ]
     },
     "execution_count": 20,
     "metadata": {},
     "output_type": "execute_result"
    }
   ],
   "source": [
    "out_dir = here(f'03_downstream_analysis/08_gene_importance/xgboost_external_validation/xgboost_TopN_genes/results_{N_GENES}/study')\n",
    "\n",
    "if not os.path.exists(out_dir):\n",
    "    os.makedirs(out_dir)\n",
    "    \n",
    "joblib.dump(study,os.path.join(out_dir, f'{CELL_TYPE}_{SEED}_{TEST_SPLIT_IDX}_xgboost.pkl'))"
   ]
  },
  {
   "cell_type": "code",
   "execution_count": 21,
   "id": "9b343e39",
   "metadata": {
    "execution": {
     "iopub.execute_input": "2025-05-15T16:12:04.731679Z",
     "iopub.status.busy": "2025-05-15T16:12:04.731170Z",
     "iopub.status.idle": "2025-05-15T16:12:36.023013Z",
     "shell.execute_reply": "2025-05-15T16:12:36.022652Z"
    },
    "papermill": {
     "duration": 31.322721,
     "end_time": "2025-05-15T16:12:36.035907",
     "exception": false,
     "start_time": "2025-05-15T16:12:04.713186",
     "status": "completed"
    },
    "tags": []
   },
   "outputs": [
    {
     "data": {
      "text/html": [
       "<style>#sk-container-id-1 {\n",
       "  /* Definition of color scheme common for light and dark mode */\n",
       "  --sklearn-color-text: black;\n",
       "  --sklearn-color-line: gray;\n",
       "  /* Definition of color scheme for unfitted estimators */\n",
       "  --sklearn-color-unfitted-level-0: #fff5e6;\n",
       "  --sklearn-color-unfitted-level-1: #f6e4d2;\n",
       "  --sklearn-color-unfitted-level-2: #ffe0b3;\n",
       "  --sklearn-color-unfitted-level-3: chocolate;\n",
       "  /* Definition of color scheme for fitted estimators */\n",
       "  --sklearn-color-fitted-level-0: #f0f8ff;\n",
       "  --sklearn-color-fitted-level-1: #d4ebff;\n",
       "  --sklearn-color-fitted-level-2: #b3dbfd;\n",
       "  --sklearn-color-fitted-level-3: cornflowerblue;\n",
       "\n",
       "  /* Specific color for light theme */\n",
       "  --sklearn-color-text-on-default-background: var(--sg-text-color, var(--theme-code-foreground, var(--jp-content-font-color1, black)));\n",
       "  --sklearn-color-background: var(--sg-background-color, var(--theme-background, var(--jp-layout-color0, white)));\n",
       "  --sklearn-color-border-box: var(--sg-text-color, var(--theme-code-foreground, var(--jp-content-font-color1, black)));\n",
       "  --sklearn-color-icon: #696969;\n",
       "\n",
       "  @media (prefers-color-scheme: dark) {\n",
       "    /* Redefinition of color scheme for dark theme */\n",
       "    --sklearn-color-text-on-default-background: var(--sg-text-color, var(--theme-code-foreground, var(--jp-content-font-color1, white)));\n",
       "    --sklearn-color-background: var(--sg-background-color, var(--theme-background, var(--jp-layout-color0, #111)));\n",
       "    --sklearn-color-border-box: var(--sg-text-color, var(--theme-code-foreground, var(--jp-content-font-color1, white)));\n",
       "    --sklearn-color-icon: #878787;\n",
       "  }\n",
       "}\n",
       "\n",
       "#sk-container-id-1 {\n",
       "  color: var(--sklearn-color-text);\n",
       "}\n",
       "\n",
       "#sk-container-id-1 pre {\n",
       "  padding: 0;\n",
       "}\n",
       "\n",
       "#sk-container-id-1 input.sk-hidden--visually {\n",
       "  border: 0;\n",
       "  clip: rect(1px 1px 1px 1px);\n",
       "  clip: rect(1px, 1px, 1px, 1px);\n",
       "  height: 1px;\n",
       "  margin: -1px;\n",
       "  overflow: hidden;\n",
       "  padding: 0;\n",
       "  position: absolute;\n",
       "  width: 1px;\n",
       "}\n",
       "\n",
       "#sk-container-id-1 div.sk-dashed-wrapped {\n",
       "  border: 1px dashed var(--sklearn-color-line);\n",
       "  margin: 0 0.4em 0.5em 0.4em;\n",
       "  box-sizing: border-box;\n",
       "  padding-bottom: 0.4em;\n",
       "  background-color: var(--sklearn-color-background);\n",
       "}\n",
       "\n",
       "#sk-container-id-1 div.sk-container {\n",
       "  /* jupyter's `normalize.less` sets `[hidden] { display: none; }`\n",
       "     but bootstrap.min.css set `[hidden] { display: none !important; }`\n",
       "     so we also need the `!important` here to be able to override the\n",
       "     default hidden behavior on the sphinx rendered scikit-learn.org.\n",
       "     See: https://github.com/scikit-learn/scikit-learn/issues/21755 */\n",
       "  display: inline-block !important;\n",
       "  position: relative;\n",
       "}\n",
       "\n",
       "#sk-container-id-1 div.sk-text-repr-fallback {\n",
       "  display: none;\n",
       "}\n",
       "\n",
       "div.sk-parallel-item,\n",
       "div.sk-serial,\n",
       "div.sk-item {\n",
       "  /* draw centered vertical line to link estimators */\n",
       "  background-image: linear-gradient(var(--sklearn-color-text-on-default-background), var(--sklearn-color-text-on-default-background));\n",
       "  background-size: 2px 100%;\n",
       "  background-repeat: no-repeat;\n",
       "  background-position: center center;\n",
       "}\n",
       "\n",
       "/* Parallel-specific style estimator block */\n",
       "\n",
       "#sk-container-id-1 div.sk-parallel-item::after {\n",
       "  content: \"\";\n",
       "  width: 100%;\n",
       "  border-bottom: 2px solid var(--sklearn-color-text-on-default-background);\n",
       "  flex-grow: 1;\n",
       "}\n",
       "\n",
       "#sk-container-id-1 div.sk-parallel {\n",
       "  display: flex;\n",
       "  align-items: stretch;\n",
       "  justify-content: center;\n",
       "  background-color: var(--sklearn-color-background);\n",
       "  position: relative;\n",
       "}\n",
       "\n",
       "#sk-container-id-1 div.sk-parallel-item {\n",
       "  display: flex;\n",
       "  flex-direction: column;\n",
       "}\n",
       "\n",
       "#sk-container-id-1 div.sk-parallel-item:first-child::after {\n",
       "  align-self: flex-end;\n",
       "  width: 50%;\n",
       "}\n",
       "\n",
       "#sk-container-id-1 div.sk-parallel-item:last-child::after {\n",
       "  align-self: flex-start;\n",
       "  width: 50%;\n",
       "}\n",
       "\n",
       "#sk-container-id-1 div.sk-parallel-item:only-child::after {\n",
       "  width: 0;\n",
       "}\n",
       "\n",
       "/* Serial-specific style estimator block */\n",
       "\n",
       "#sk-container-id-1 div.sk-serial {\n",
       "  display: flex;\n",
       "  flex-direction: column;\n",
       "  align-items: center;\n",
       "  background-color: var(--sklearn-color-background);\n",
       "  padding-right: 1em;\n",
       "  padding-left: 1em;\n",
       "}\n",
       "\n",
       "\n",
       "/* Toggleable style: style used for estimator/Pipeline/ColumnTransformer box that is\n",
       "clickable and can be expanded/collapsed.\n",
       "- Pipeline and ColumnTransformer use this feature and define the default style\n",
       "- Estimators will overwrite some part of the style using the `sk-estimator` class\n",
       "*/\n",
       "\n",
       "/* Pipeline and ColumnTransformer style (default) */\n",
       "\n",
       "#sk-container-id-1 div.sk-toggleable {\n",
       "  /* Default theme specific background. It is overwritten whether we have a\n",
       "  specific estimator or a Pipeline/ColumnTransformer */\n",
       "  background-color: var(--sklearn-color-background);\n",
       "}\n",
       "\n",
       "/* Toggleable label */\n",
       "#sk-container-id-1 label.sk-toggleable__label {\n",
       "  cursor: pointer;\n",
       "  display: block;\n",
       "  width: 100%;\n",
       "  margin-bottom: 0;\n",
       "  padding: 0.5em;\n",
       "  box-sizing: border-box;\n",
       "  text-align: center;\n",
       "}\n",
       "\n",
       "#sk-container-id-1 label.sk-toggleable__label-arrow:before {\n",
       "  /* Arrow on the left of the label */\n",
       "  content: \"▸\";\n",
       "  float: left;\n",
       "  margin-right: 0.25em;\n",
       "  color: var(--sklearn-color-icon);\n",
       "}\n",
       "\n",
       "#sk-container-id-1 label.sk-toggleable__label-arrow:hover:before {\n",
       "  color: var(--sklearn-color-text);\n",
       "}\n",
       "\n",
       "/* Toggleable content - dropdown */\n",
       "\n",
       "#sk-container-id-1 div.sk-toggleable__content {\n",
       "  max-height: 0;\n",
       "  max-width: 0;\n",
       "  overflow: hidden;\n",
       "  text-align: left;\n",
       "  /* unfitted */\n",
       "  background-color: var(--sklearn-color-unfitted-level-0);\n",
       "}\n",
       "\n",
       "#sk-container-id-1 div.sk-toggleable__content.fitted {\n",
       "  /* fitted */\n",
       "  background-color: var(--sklearn-color-fitted-level-0);\n",
       "}\n",
       "\n",
       "#sk-container-id-1 div.sk-toggleable__content pre {\n",
       "  margin: 0.2em;\n",
       "  border-radius: 0.25em;\n",
       "  color: var(--sklearn-color-text);\n",
       "  /* unfitted */\n",
       "  background-color: var(--sklearn-color-unfitted-level-0);\n",
       "}\n",
       "\n",
       "#sk-container-id-1 div.sk-toggleable__content.fitted pre {\n",
       "  /* unfitted */\n",
       "  background-color: var(--sklearn-color-fitted-level-0);\n",
       "}\n",
       "\n",
       "#sk-container-id-1 input.sk-toggleable__control:checked~div.sk-toggleable__content {\n",
       "  /* Expand drop-down */\n",
       "  max-height: 200px;\n",
       "  max-width: 100%;\n",
       "  overflow: auto;\n",
       "}\n",
       "\n",
       "#sk-container-id-1 input.sk-toggleable__control:checked~label.sk-toggleable__label-arrow:before {\n",
       "  content: \"▾\";\n",
       "}\n",
       "\n",
       "/* Pipeline/ColumnTransformer-specific style */\n",
       "\n",
       "#sk-container-id-1 div.sk-label input.sk-toggleable__control:checked~label.sk-toggleable__label {\n",
       "  color: var(--sklearn-color-text);\n",
       "  background-color: var(--sklearn-color-unfitted-level-2);\n",
       "}\n",
       "\n",
       "#sk-container-id-1 div.sk-label.fitted input.sk-toggleable__control:checked~label.sk-toggleable__label {\n",
       "  background-color: var(--sklearn-color-fitted-level-2);\n",
       "}\n",
       "\n",
       "/* Estimator-specific style */\n",
       "\n",
       "/* Colorize estimator box */\n",
       "#sk-container-id-1 div.sk-estimator input.sk-toggleable__control:checked~label.sk-toggleable__label {\n",
       "  /* unfitted */\n",
       "  background-color: var(--sklearn-color-unfitted-level-2);\n",
       "}\n",
       "\n",
       "#sk-container-id-1 div.sk-estimator.fitted input.sk-toggleable__control:checked~label.sk-toggleable__label {\n",
       "  /* fitted */\n",
       "  background-color: var(--sklearn-color-fitted-level-2);\n",
       "}\n",
       "\n",
       "#sk-container-id-1 div.sk-label label.sk-toggleable__label,\n",
       "#sk-container-id-1 div.sk-label label {\n",
       "  /* The background is the default theme color */\n",
       "  color: var(--sklearn-color-text-on-default-background);\n",
       "}\n",
       "\n",
       "/* On hover, darken the color of the background */\n",
       "#sk-container-id-1 div.sk-label:hover label.sk-toggleable__label {\n",
       "  color: var(--sklearn-color-text);\n",
       "  background-color: var(--sklearn-color-unfitted-level-2);\n",
       "}\n",
       "\n",
       "/* Label box, darken color on hover, fitted */\n",
       "#sk-container-id-1 div.sk-label.fitted:hover label.sk-toggleable__label.fitted {\n",
       "  color: var(--sklearn-color-text);\n",
       "  background-color: var(--sklearn-color-fitted-level-2);\n",
       "}\n",
       "\n",
       "/* Estimator label */\n",
       "\n",
       "#sk-container-id-1 div.sk-label label {\n",
       "  font-family: monospace;\n",
       "  font-weight: bold;\n",
       "  display: inline-block;\n",
       "  line-height: 1.2em;\n",
       "}\n",
       "\n",
       "#sk-container-id-1 div.sk-label-container {\n",
       "  text-align: center;\n",
       "}\n",
       "\n",
       "/* Estimator-specific */\n",
       "#sk-container-id-1 div.sk-estimator {\n",
       "  font-family: monospace;\n",
       "  border: 1px dotted var(--sklearn-color-border-box);\n",
       "  border-radius: 0.25em;\n",
       "  box-sizing: border-box;\n",
       "  margin-bottom: 0.5em;\n",
       "  /* unfitted */\n",
       "  background-color: var(--sklearn-color-unfitted-level-0);\n",
       "}\n",
       "\n",
       "#sk-container-id-1 div.sk-estimator.fitted {\n",
       "  /* fitted */\n",
       "  background-color: var(--sklearn-color-fitted-level-0);\n",
       "}\n",
       "\n",
       "/* on hover */\n",
       "#sk-container-id-1 div.sk-estimator:hover {\n",
       "  /* unfitted */\n",
       "  background-color: var(--sklearn-color-unfitted-level-2);\n",
       "}\n",
       "\n",
       "#sk-container-id-1 div.sk-estimator.fitted:hover {\n",
       "  /* fitted */\n",
       "  background-color: var(--sklearn-color-fitted-level-2);\n",
       "}\n",
       "\n",
       "/* Specification for estimator info (e.g. \"i\" and \"?\") */\n",
       "\n",
       "/* Common style for \"i\" and \"?\" */\n",
       "\n",
       ".sk-estimator-doc-link,\n",
       "a:link.sk-estimator-doc-link,\n",
       "a:visited.sk-estimator-doc-link {\n",
       "  float: right;\n",
       "  font-size: smaller;\n",
       "  line-height: 1em;\n",
       "  font-family: monospace;\n",
       "  background-color: var(--sklearn-color-background);\n",
       "  border-radius: 1em;\n",
       "  height: 1em;\n",
       "  width: 1em;\n",
       "  text-decoration: none !important;\n",
       "  margin-left: 1ex;\n",
       "  /* unfitted */\n",
       "  border: var(--sklearn-color-unfitted-level-1) 1pt solid;\n",
       "  color: var(--sklearn-color-unfitted-level-1);\n",
       "}\n",
       "\n",
       ".sk-estimator-doc-link.fitted,\n",
       "a:link.sk-estimator-doc-link.fitted,\n",
       "a:visited.sk-estimator-doc-link.fitted {\n",
       "  /* fitted */\n",
       "  border: var(--sklearn-color-fitted-level-1) 1pt solid;\n",
       "  color: var(--sklearn-color-fitted-level-1);\n",
       "}\n",
       "\n",
       "/* On hover */\n",
       "div.sk-estimator:hover .sk-estimator-doc-link:hover,\n",
       ".sk-estimator-doc-link:hover,\n",
       "div.sk-label-container:hover .sk-estimator-doc-link:hover,\n",
       ".sk-estimator-doc-link:hover {\n",
       "  /* unfitted */\n",
       "  background-color: var(--sklearn-color-unfitted-level-3);\n",
       "  color: var(--sklearn-color-background);\n",
       "  text-decoration: none;\n",
       "}\n",
       "\n",
       "div.sk-estimator.fitted:hover .sk-estimator-doc-link.fitted:hover,\n",
       ".sk-estimator-doc-link.fitted:hover,\n",
       "div.sk-label-container:hover .sk-estimator-doc-link.fitted:hover,\n",
       ".sk-estimator-doc-link.fitted:hover {\n",
       "  /* fitted */\n",
       "  background-color: var(--sklearn-color-fitted-level-3);\n",
       "  color: var(--sklearn-color-background);\n",
       "  text-decoration: none;\n",
       "}\n",
       "\n",
       "/* Span, style for the box shown on hovering the info icon */\n",
       ".sk-estimator-doc-link span {\n",
       "  display: none;\n",
       "  z-index: 9999;\n",
       "  position: relative;\n",
       "  font-weight: normal;\n",
       "  right: .2ex;\n",
       "  padding: .5ex;\n",
       "  margin: .5ex;\n",
       "  width: min-content;\n",
       "  min-width: 20ex;\n",
       "  max-width: 50ex;\n",
       "  color: var(--sklearn-color-text);\n",
       "  box-shadow: 2pt 2pt 4pt #999;\n",
       "  /* unfitted */\n",
       "  background: var(--sklearn-color-unfitted-level-0);\n",
       "  border: .5pt solid var(--sklearn-color-unfitted-level-3);\n",
       "}\n",
       "\n",
       ".sk-estimator-doc-link.fitted span {\n",
       "  /* fitted */\n",
       "  background: var(--sklearn-color-fitted-level-0);\n",
       "  border: var(--sklearn-color-fitted-level-3);\n",
       "}\n",
       "\n",
       ".sk-estimator-doc-link:hover span {\n",
       "  display: block;\n",
       "}\n",
       "\n",
       "/* \"?\"-specific style due to the `<a>` HTML tag */\n",
       "\n",
       "#sk-container-id-1 a.estimator_doc_link {\n",
       "  float: right;\n",
       "  font-size: 1rem;\n",
       "  line-height: 1em;\n",
       "  font-family: monospace;\n",
       "  background-color: var(--sklearn-color-background);\n",
       "  border-radius: 1rem;\n",
       "  height: 1rem;\n",
       "  width: 1rem;\n",
       "  text-decoration: none;\n",
       "  /* unfitted */\n",
       "  color: var(--sklearn-color-unfitted-level-1);\n",
       "  border: var(--sklearn-color-unfitted-level-1) 1pt solid;\n",
       "}\n",
       "\n",
       "#sk-container-id-1 a.estimator_doc_link.fitted {\n",
       "  /* fitted */\n",
       "  border: var(--sklearn-color-fitted-level-1) 1pt solid;\n",
       "  color: var(--sklearn-color-fitted-level-1);\n",
       "}\n",
       "\n",
       "/* On hover */\n",
       "#sk-container-id-1 a.estimator_doc_link:hover {\n",
       "  /* unfitted */\n",
       "  background-color: var(--sklearn-color-unfitted-level-3);\n",
       "  color: var(--sklearn-color-background);\n",
       "  text-decoration: none;\n",
       "}\n",
       "\n",
       "#sk-container-id-1 a.estimator_doc_link.fitted:hover {\n",
       "  /* fitted */\n",
       "  background-color: var(--sklearn-color-fitted-level-3);\n",
       "}\n",
       "</style><div id=\"sk-container-id-1\" class=\"sk-top-container\"><div class=\"sk-text-repr-fallback\"><pre>XGBClassifier(base_score=None, booster=None, callbacks=None,\n",
       "              colsample_bylevel=None, colsample_bynode=0.721093220943723,\n",
       "              colsample_bytree=None, device=None, early_stopping_rounds=None,\n",
       "              enable_categorical=False,\n",
       "              eval_metric=&lt;function custom_f1_score at 0x7f62d3b705e0&gt;,\n",
       "              feature_types=None, gamma=None, grow_policy=None,\n",
       "              importance_type=None, interaction_constraints=None,\n",
       "              learning_rate=0.09482021333017883, max_bin=None,\n",
       "              max_cat_threshold=None, max_cat_to_onehot=None,\n",
       "              max_delta_step=None, max_depth=7, max_leaves=None,\n",
       "              min_child_weight=24, missing=nan, monotone_constraints=None,\n",
       "              multi_strategy=None, n_estimators=250, n_jobs=None,\n",
       "              num_parallel_tree=None, objective=&#x27;multi:softprob&#x27;, ...)</pre><b>In a Jupyter environment, please rerun this cell to show the HTML representation or trust the notebook. <br />On GitHub, the HTML representation is unable to render, please try loading this page with nbviewer.org.</b></div><div class=\"sk-container\" hidden><div class=\"sk-item\"><div class=\"sk-estimator fitted sk-toggleable\"><input class=\"sk-toggleable__control sk-hidden--visually\" id=\"sk-estimator-id-1\" type=\"checkbox\" checked><label for=\"sk-estimator-id-1\" class=\"sk-toggleable__label fitted sk-toggleable__label-arrow fitted\">&nbsp;XGBClassifier<span class=\"sk-estimator-doc-link fitted\">i<span>Fitted</span></span></label><div class=\"sk-toggleable__content fitted\"><pre>XGBClassifier(base_score=None, booster=None, callbacks=None,\n",
       "              colsample_bylevel=None, colsample_bynode=0.721093220943723,\n",
       "              colsample_bytree=None, device=None, early_stopping_rounds=None,\n",
       "              enable_categorical=False,\n",
       "              eval_metric=&lt;function custom_f1_score at 0x7f62d3b705e0&gt;,\n",
       "              feature_types=None, gamma=None, grow_policy=None,\n",
       "              importance_type=None, interaction_constraints=None,\n",
       "              learning_rate=0.09482021333017883, max_bin=None,\n",
       "              max_cat_threshold=None, max_cat_to_onehot=None,\n",
       "              max_delta_step=None, max_depth=7, max_leaves=None,\n",
       "              min_child_weight=24, missing=nan, monotone_constraints=None,\n",
       "              multi_strategy=None, n_estimators=250, n_jobs=None,\n",
       "              num_parallel_tree=None, objective=&#x27;multi:softprob&#x27;, ...)</pre></div> </div></div></div></div>"
      ],
      "text/plain": [
       "XGBClassifier(base_score=None, booster=None, callbacks=None,\n",
       "              colsample_bylevel=None, colsample_bynode=0.721093220943723,\n",
       "              colsample_bytree=None, device=None, early_stopping_rounds=None,\n",
       "              enable_categorical=False,\n",
       "              eval_metric=<function custom_f1_score at 0x7f62d3b705e0>,\n",
       "              feature_types=None, gamma=None, grow_policy=None,\n",
       "              importance_type=None, interaction_constraints=None,\n",
       "              learning_rate=0.09482021333017883, max_bin=None,\n",
       "              max_cat_threshold=None, max_cat_to_onehot=None,\n",
       "              max_delta_step=None, max_depth=7, max_leaves=None,\n",
       "              min_child_weight=24, missing=nan, monotone_constraints=None,\n",
       "              multi_strategy=None, n_estimators=250, n_jobs=None,\n",
       "              num_parallel_tree=None, objective='multi:softprob', ...)"
      ]
     },
     "execution_count": 21,
     "metadata": {},
     "output_type": "execute_result"
    }
   ],
   "source": [
    "n_estimators = int(study.best_trial.user_attrs['best_iteration']*1.2)\n",
    "xgb = xgboost.XGBClassifier(\n",
    "        eval_metric=eval_metric,\n",
    "        n_estimators=n_estimators,\n",
    "        **study.best_trial.params\n",
    "    )\n",
    "xgb.fit(\n",
    "    ssp.vstack((X_train, X_val)), \n",
    "    np.concatenate((y_train_enc, y_val_enc)),\n",
    "    verbose=1,\n",
    ")"
   ]
  },
  {
   "cell_type": "code",
   "execution_count": 22,
   "id": "492d81da",
   "metadata": {
    "execution": {
     "iopub.execute_input": "2025-05-15T16:12:36.063750Z",
     "iopub.status.busy": "2025-05-15T16:12:36.063105Z",
     "iopub.status.idle": "2025-05-15T16:12:36.276141Z",
     "shell.execute_reply": "2025-05-15T16:12:36.275786Z"
    },
    "papermill": {
     "duration": 0.230794,
     "end_time": "2025-05-15T16:12:36.277070",
     "exception": false,
     "start_time": "2025-05-15T16:12:36.046276",
     "status": "completed"
    },
    "tags": []
   },
   "outputs": [
    {
     "data": {
      "text/plain": [
       "['/scratch_isilon/groups/singlecell/shared/projects/Inflammation-PBMCs-Atlas/03_downstream_analysis/08_gene_importance/xgboost_external_validation/xgboost_TopN_genes/results_20/best_model/T_CD4_NonNaive_0_3_xgb.json']"
      ]
     },
     "execution_count": 22,
     "metadata": {},
     "output_type": "execute_result"
    }
   ],
   "source": [
    "out_dir = here(f'03_downstream_analysis/08_gene_importance/xgboost_external_validation/xgboost_TopN_genes/results_{N_GENES}/best_model')\n",
    "\n",
    "if not os.path.exists(out_dir):\n",
    "    os.makedirs(out_dir)\n",
    "    \n",
    "joblib.dump(xgb, os.path.join(out_dir, f'{CELL_TYPE}_{SEED}_{TEST_SPLIT_IDX}_xgb.json'))"
   ]
  },
  {
   "cell_type": "code",
   "execution_count": 23,
   "id": "a0b570e2",
   "metadata": {
    "execution": {
     "iopub.execute_input": "2025-05-15T16:12:36.298882Z",
     "iopub.status.busy": "2025-05-15T16:12:36.298384Z",
     "iopub.status.idle": "2025-05-15T16:12:37.571574Z",
     "shell.execute_reply": "2025-05-15T16:12:37.570977Z"
    },
    "papermill": {
     "duration": 1.285093,
     "end_time": "2025-05-15T16:12:37.573280",
     "exception": false,
     "start_time": "2025-05-15T16:12:36.288187",
     "status": "completed"
    },
    "tags": []
   },
   "outputs": [],
   "source": [
    "df_pred_test = pd.DataFrame(dict(\n",
    "    cell_id=train_adata.obs.iloc[test_idxs].index.values,\n",
    "    y_true=y_test, \n",
    "    y_true_code=y_test_enc, \n",
    "    y_pred=xgb.predict(X_test))).set_index('cell_id')"
   ]
  },
  {
   "cell_type": "code",
   "execution_count": 24,
   "id": "4b08465c",
   "metadata": {
    "execution": {
     "iopub.execute_input": "2025-05-15T16:12:37.613055Z",
     "iopub.status.busy": "2025-05-15T16:12:37.612695Z",
     "iopub.status.idle": "2025-05-15T16:12:37.747730Z",
     "shell.execute_reply": "2025-05-15T16:12:37.747204Z"
    },
    "papermill": {
     "duration": 0.148449,
     "end_time": "2025-05-15T16:12:37.749080",
     "exception": false,
     "start_time": "2025-05-15T16:12:37.600631",
     "status": "completed"
    },
    "tags": []
   },
   "outputs": [],
   "source": [
    "out_dir = here(f'03_downstream_analysis/08_gene_importance/xgboost_external_validation/xgboost_TopN_genes/results_{N_GENES}/predictions')\n",
    "\n",
    "if not os.path.exists(out_dir):\n",
    "    os.makedirs(out_dir)\n",
    "    \n",
    "df_pred_test.to_csv(os.path.join(out_dir, f'{CELL_TYPE}_{SEED}_{TEST_SPLIT_IDX}_pred_test.zip'))"
   ]
  },
  {
   "cell_type": "code",
   "execution_count": 25,
   "id": "65dc805f",
   "metadata": {
    "execution": {
     "iopub.execute_input": "2025-05-15T16:12:37.780104Z",
     "iopub.status.busy": "2025-05-15T16:12:37.779370Z",
     "iopub.status.idle": "2025-05-15T16:12:37.797107Z",
     "shell.execute_reply": "2025-05-15T16:12:37.796561Z"
    },
    "papermill": {
     "duration": 0.030048,
     "end_time": "2025-05-15T16:12:37.798039",
     "exception": false,
     "start_time": "2025-05-15T16:12:37.767991",
     "status": "completed"
    },
    "tags": []
   },
   "outputs": [
    {
     "name": "stderr",
     "output_type": "stream",
     "text": [
      "/scratch_isilon/groups/singlecell/shared/conda_env/xgboost-cpu/lib/python3.12/site-packages/sklearn/metrics/_classification.py:2466: UserWarning: y_pred contains classes not in y_true\n",
      "  warnings.warn(\"y_pred contains classes not in y_true\")\n"
     ]
    }
   ],
   "source": [
    "metrics_dict = dict(\n",
    "    BAS=balanced_accuracy_score(y_true=df_pred_test.y_true_code, y_pred=df_pred_test.y_pred), WF1=f1_score(y_true=df_pred_test.y_true_code, y_pred=df_pred_test.y_pred,average='weighted'))"
   ]
  },
  {
   "cell_type": "code",
   "execution_count": 26,
   "id": "33c78aa1",
   "metadata": {
    "execution": {
     "iopub.execute_input": "2025-05-15T16:12:37.817486Z",
     "iopub.status.busy": "2025-05-15T16:12:37.817161Z",
     "iopub.status.idle": "2025-05-15T16:12:37.820490Z",
     "shell.execute_reply": "2025-05-15T16:12:37.820165Z"
    },
    "papermill": {
     "duration": 0.014185,
     "end_time": "2025-05-15T16:12:37.821376",
     "exception": false,
     "start_time": "2025-05-15T16:12:37.807191",
     "status": "completed"
    },
    "tags": []
   },
   "outputs": [
    {
     "data": {
      "text/plain": [
       "{'BAS': 0.534530390445347, 'WF1': 0.7840356678548875}"
      ]
     },
     "execution_count": 26,
     "metadata": {},
     "output_type": "execute_result"
    }
   ],
   "source": [
    "metrics_dict"
   ]
  },
  {
   "cell_type": "code",
   "execution_count": 27,
   "id": "b2f56330",
   "metadata": {
    "execution": {
     "iopub.execute_input": "2025-05-15T16:12:37.864276Z",
     "iopub.status.busy": "2025-05-15T16:12:37.863767Z",
     "iopub.status.idle": "2025-05-15T16:12:37.875246Z",
     "shell.execute_reply": "2025-05-15T16:12:37.874828Z"
    },
    "papermill": {
     "duration": 0.02346,
     "end_time": "2025-05-15T16:12:37.876176",
     "exception": false,
     "start_time": "2025-05-15T16:12:37.852716",
     "status": "completed"
    },
    "tags": []
   },
   "outputs": [
    {
     "data": {
      "text/html": [
       "<div>\n",
       "<style scoped>\n",
       "    .dataframe tbody tr th:only-of-type {\n",
       "        vertical-align: middle;\n",
       "    }\n",
       "\n",
       "    .dataframe tbody tr th {\n",
       "        vertical-align: top;\n",
       "    }\n",
       "\n",
       "    .dataframe thead th {\n",
       "        text-align: right;\n",
       "    }\n",
       "</style>\n",
       "<table border=\"1\" class=\"dataframe\">\n",
       "  <thead>\n",
       "    <tr style=\"text-align: right;\">\n",
       "      <th></th>\n",
       "      <th>BAS</th>\n",
       "      <th>WF1</th>\n",
       "      <th>split_idx</th>\n",
       "      <th>gene_set_seed</th>\n",
       "      <th>cell_type</th>\n",
       "    </tr>\n",
       "  </thead>\n",
       "  <tbody>\n",
       "    <tr>\n",
       "      <th>0</th>\n",
       "      <td>0.53453</td>\n",
       "      <td>0.784036</td>\n",
       "      <td>3</td>\n",
       "      <td>0</td>\n",
       "      <td>T_CD4_NonNaive</td>\n",
       "    </tr>\n",
       "  </tbody>\n",
       "</table>\n",
       "</div>"
      ],
      "text/plain": [
       "       BAS       WF1  split_idx  gene_set_seed       cell_type\n",
       "0  0.53453  0.784036          3              0  T_CD4_NonNaive"
      ]
     },
     "execution_count": 27,
     "metadata": {},
     "output_type": "execute_result"
    }
   ],
   "source": [
    "metrics_df = pd.DataFrame.from_dict([metrics_dict]).assign(split_idx=TEST_SPLIT_IDX, gene_set_seed=SEED, cell_type=CELL_TYPE)\n",
    "metrics_df"
   ]
  },
  {
   "cell_type": "code",
   "execution_count": 28,
   "id": "1ac9eee7",
   "metadata": {
    "execution": {
     "iopub.execute_input": "2025-05-15T16:12:37.897681Z",
     "iopub.status.busy": "2025-05-15T16:12:37.897096Z",
     "iopub.status.idle": "2025-05-15T16:12:37.906458Z",
     "shell.execute_reply": "2025-05-15T16:12:37.905975Z"
    },
    "papermill": {
     "duration": 0.02104,
     "end_time": "2025-05-15T16:12:37.907634",
     "exception": false,
     "start_time": "2025-05-15T16:12:37.886594",
     "status": "completed"
    },
    "tags": []
   },
   "outputs": [],
   "source": [
    "out_dir = here(f'03_downstream_analysis/08_gene_importance/xgboost_external_validation/xgboost_TopN_genes/results_{N_GENES}/metrics')\n",
    "\n",
    "if not os.path.exists(out_dir):\n",
    "    os.makedirs(out_dir)\n",
    "    \n",
    "metrics_df.to_csv(os.path.join(out_dir, f'{CELL_TYPE}_{SEED}_{TEST_SPLIT_IDX}_metrics.zip'))"
   ]
  }
 ],
 "metadata": {
  "kernelspec": {
   "display_name": "Python 3 (ipykernel)",
   "language": "python",
   "name": "python3"
  },
  "language_info": {
   "codemirror_mode": {
    "name": "ipython",
    "version": 3
   },
   "file_extension": ".py",
   "mimetype": "text/x-python",
   "name": "python",
   "nbconvert_exporter": "python",
   "pygments_lexer": "ipython3",
   "version": "3.12.5"
  },
  "papermill": {
   "default_parameters": {},
   "duration": 922.816721,
   "end_time": "2025-05-15T16:12:38.751940",
   "environment_variables": {},
   "exception": null,
   "input_path": "02_xgboost_fitting_external_20genes.ipynb",
   "output_path": "results_20/executed_notebooks/xgboost_fitting_external_CT_T_CD4_NonNaive_GS_0_seed3.ipynb",
   "parameters": {
    "CELL_TYPE": "T_CD4_NonNaive",
    "SEED": 0,
    "TEST_SPLIT_IDX": 3
   },
   "start_time": "2025-05-15T15:57:15.935219",
   "version": "2.6.0"
  }
 },
 "nbformat": 4,
 "nbformat_minor": 5
}