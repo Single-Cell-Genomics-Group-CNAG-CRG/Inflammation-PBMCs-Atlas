{
 "cells": [
  {
   "cell_type": "code",
   "execution_count": 1,
   "id": "63b85074",
   "metadata": {
    "editable": true,
    "execution": {
     "iopub.execute_input": "2025-05-15T16:02:25.671044Z",
     "iopub.status.busy": "2025-05-15T16:02:25.670878Z",
     "iopub.status.idle": "2025-05-15T16:02:25.673854Z",
     "shell.execute_reply": "2025-05-15T16:02:25.673518Z"
    },
    "papermill": {
     "duration": 0.011711,
     "end_time": "2025-05-15T16:02:25.674834",
     "exception": false,
     "start_time": "2025-05-15T16:02:25.663123",
     "status": "completed"
    },
    "slideshow": {
     "slide_type": ""
    },
    "tags": [
     "parameters"
    ]
   },
   "outputs": [],
   "source": [
    "CELL_TYPE = 'pDC'\n",
    "N_GENES: int = 20\n",
    "SEED = 'shap_studyID' #'disease_NOstudy' 'study_NOdisease' or 'int' or 'shap_studyID'\n",
    "TEST_SPLIT_IDX: int = 1 #[0,4]"
   ]
  },
  {
   "cell_type": "code",
   "execution_count": 2,
   "id": "b69b1d32",
   "metadata": {
    "execution": {
     "iopub.execute_input": "2025-05-15T16:02:25.687190Z",
     "iopub.status.busy": "2025-05-15T16:02:25.686759Z",
     "iopub.status.idle": "2025-05-15T16:02:25.688920Z",
     "shell.execute_reply": "2025-05-15T16:02:25.688626Z"
    },
    "papermill": {
     "duration": 0.008781,
     "end_time": "2025-05-15T16:02:25.689778",
     "exception": false,
     "start_time": "2025-05-15T16:02:25.680997",
     "status": "completed"
    },
    "tags": [
     "injected-parameters"
    ]
   },
   "outputs": [],
   "source": [
    "# Parameters\n",
    "CELL_TYPE = \"T_CD4_NonNaive\"\n",
    "SEED = 5\n",
    "TEST_SPLIT_IDX = 1\n"
   ]
  },
  {
   "cell_type": "code",
   "execution_count": 3,
   "id": "7a240576",
   "metadata": {
    "execution": {
     "iopub.execute_input": "2025-05-15T16:02:25.701742Z",
     "iopub.status.busy": "2025-05-15T16:02:25.701466Z",
     "iopub.status.idle": "2025-05-15T16:02:25.703448Z",
     "shell.execute_reply": "2025-05-15T16:02:25.703160Z"
    },
    "papermill": {
     "duration": 0.00911,
     "end_time": "2025-05-15T16:02:25.704208",
     "exception": false,
     "start_time": "2025-05-15T16:02:25.695098",
     "status": "completed"
    },
    "tags": []
   },
   "outputs": [],
   "source": [
    "N_SPLITS: int = 5\n",
    "N_TRIALS: int = 50"
   ]
  },
  {
   "cell_type": "code",
   "execution_count": 4,
   "id": "9d9562df",
   "metadata": {
    "execution": {
     "iopub.execute_input": "2025-05-15T16:02:25.717169Z",
     "iopub.status.busy": "2025-05-15T16:02:25.716912Z",
     "iopub.status.idle": "2025-05-15T16:02:27.258786Z",
     "shell.execute_reply": "2025-05-15T16:02:27.258186Z"
    },
    "papermill": {
     "duration": 1.55044,
     "end_time": "2025-05-15T16:02:27.260244",
     "exception": false,
     "start_time": "2025-05-15T16:02:25.709804",
     "status": "completed"
    },
    "tags": []
   },
   "outputs": [],
   "source": [
    "import os\n",
    "import sys\n",
    "from pyprojroot.here import here\n",
    "import pandas as pd\n",
    "import anndata as ad\n",
    "import numpy as np\n",
    "import math\n",
    "from sklearn.model_selection import StratifiedGroupKFold\n",
    "from sklearn.preprocessing import LabelEncoder\n",
    "from sklearn.metrics import f1_score\n",
    "import matplotlib.pyplot as plt\n",
    "import seaborn as sns\n",
    "from itertools import product\n",
    "from sklearn.metrics import balanced_accuracy_score, f1_score\n",
    "import optuna\n",
    "\n",
    "import joblib\n",
    "import pickle\n",
    "import datetime\n",
    "\n",
    "import collections\n",
    "\n",
    "import xgboost\n",
    "from sklearn.preprocessing import LabelEncoder\n",
    "\n",
    "import scipy.sparse as ssp\n",
    "import joblib\n",
    "\n",
    "from dotenv import load_dotenv"
   ]
  },
  {
   "cell_type": "code",
   "execution_count": 5,
   "id": "750cc732",
   "metadata": {
    "execution": {
     "iopub.execute_input": "2025-05-15T16:02:27.295469Z",
     "iopub.status.busy": "2025-05-15T16:02:27.295057Z",
     "iopub.status.idle": "2025-05-15T16:02:27.301427Z",
     "shell.execute_reply": "2025-05-15T16:02:27.300991Z"
    },
    "papermill": {
     "duration": 0.035281,
     "end_time": "2025-05-15T16:02:27.302400",
     "exception": false,
     "start_time": "2025-05-15T16:02:27.267119",
     "status": "completed"
    },
    "tags": []
   },
   "outputs": [
    {
     "data": {
      "text/plain": [
       "True"
      ]
     },
     "execution_count": 5,
     "metadata": {},
     "output_type": "execute_result"
    }
   ],
   "source": [
    "load_dotenv()"
   ]
  },
  {
   "cell_type": "markdown",
   "id": "bd154f21",
   "metadata": {
    "papermill": {
     "duration": 0.006818,
     "end_time": "2025-05-15T16:02:27.333839",
     "exception": false,
     "start_time": "2025-05-15T16:02:27.327021",
     "status": "completed"
    },
    "tags": []
   },
   "source": [
    "# LOAD DATASET"
   ]
  },
  {
   "cell_type": "code",
   "execution_count": 6,
   "id": "797addc7",
   "metadata": {
    "execution": {
     "iopub.execute_input": "2025-05-15T16:02:27.350078Z",
     "iopub.status.busy": "2025-05-15T16:02:27.349555Z",
     "iopub.status.idle": "2025-05-15T16:02:28.019126Z",
     "shell.execute_reply": "2025-05-15T16:02:28.018530Z"
    },
    "papermill": {
     "duration": 0.679106,
     "end_time": "2025-05-15T16:02:28.020579",
     "exception": false,
     "start_time": "2025-05-15T16:02:27.341473",
     "status": "completed"
    },
    "tags": []
   },
   "outputs": [],
   "source": [
    "train_adata = ad.read_h5ad(\n",
    "    here(f'03_downstream_analysis/08_gene_importance/xgboost_external_validation/xgboost_TopN_genes/data_cellTypes/EXTERNAL_{CELL_TYPE}.filtered.log1p.h5ad')\n",
    ")"
   ]
  },
  {
   "cell_type": "code",
   "execution_count": 7,
   "id": "5733e675",
   "metadata": {
    "execution": {
     "iopub.execute_input": "2025-05-15T16:02:28.034487Z",
     "iopub.status.busy": "2025-05-15T16:02:28.033991Z",
     "iopub.status.idle": "2025-05-15T16:02:28.066716Z",
     "shell.execute_reply": "2025-05-15T16:02:28.066314Z"
    },
    "papermill": {
     "duration": 0.04065,
     "end_time": "2025-05-15T16:02:28.067904",
     "exception": false,
     "start_time": "2025-05-15T16:02:28.027254",
     "status": "completed"
    },
    "tags": []
   },
   "outputs": [
    {
     "name": "stdout",
     "output_type": "stream",
     "text": [
      "['ENSG00000149357' 'ENSG00000115875' 'ENSG00000105221' 'ENSG00000170581'\n",
      " 'ENSG00000068796' 'ENSG00000115415' 'ENSG00000184557' 'ENSG00000100934'\n",
      " 'ENSG00000171223' 'ENSG00000104964' 'ENSG00000100450' 'ENSG00000171476'\n",
      " 'ENSG00000103490' 'ENSG00000084207' 'ENSG00000111678' 'ENSG00000213145'\n",
      " 'ENSG00000135821' 'ENSG00000197471' 'ENSG00000110848' 'ENSG00000228474'\n",
      " 'ENSG00000235162' 'ENSG00000167552' 'ENSG00000088986' 'ENSG00000100393'\n",
      " 'ENSG00000104998' 'ENSG00000135404' 'ENSG00000136156' 'ENSG00000119655'\n",
      " 'ENSG00000114423' 'ENSG00000197540' 'ENSG00000115073' 'ENSG00000204267'\n",
      " 'ENSG00000163659' 'ENSG00000115523' 'ENSG00000057657' 'ENSG00000104312'\n",
      " 'ENSG00000134460' 'ENSG00000186891' 'ENSG00000106803' 'ENSG00000142089'\n",
      " 'ENSG00000179344' 'ENSG00000100902' 'ENSG00000130429' 'ENSG00000030110'\n",
      " 'ENSG00000173812' 'ENSG00000125743' 'ENSG00000183020' 'ENSG00000090863'\n",
      " 'ENSG00000170345' 'ENSG00000158869' 'ENSG00000197061' 'ENSG00000127314'\n",
      " 'ENSG00000204525' 'ENSG00000156411' 'ENSG00000117020' 'ENSG00000135114'\n",
      " 'ENSG00000183486' 'ENSG00000148908' 'ENSG00000126524' 'ENSG00000204287'\n",
      " 'ENSG00000186810' 'ENSG00000035115' 'ENSG00000136003' 'ENSG00000068831'\n",
      " 'ENSG00000169442' 'ENSG00000011600' 'ENSG00000104763' 'ENSG00000175203'\n",
      " 'ENSG00000118971' 'ENSG00000240065' 'ENSG00000204482' 'ENSG00000171791'\n",
      " 'ENSG00000136997' 'ENSG00000131437' 'ENSG00000168894' 'ENSG00000090382'\n",
      " 'ENSG00000145912' 'ENSG00000009790' 'ENSG00000030582' 'ENSG00000100385'\n",
      " 'ENSG00000239713' 'ENSG00000114737' 'ENSG00000172183' 'ENSG00000160255'\n",
      " 'ENSG00000171700' 'ENSG00000002549' 'ENSG00000197747' 'ENSG00000177556'\n",
      " 'ENSG00000138378' 'ENSG00000163931' 'ENSG00000089327' 'ENSG00000106367'\n",
      " 'ENSG00000227507' 'ENSG00000173757' 'ENSG00000143761' 'ENSG00000133639'\n",
      " 'ENSG00000112486' 'ENSG00000242616' 'ENSG00000142634' 'ENSG00000169564'\n",
      " 'ENSG00000079616' 'ENSG00000223865']\n"
     ]
    }
   ],
   "source": [
    "if SEED != 'all':\n",
    "    gene_subset = np.load(here(f'03_downstream_analysis/08_gene_importance/xgboost_external_validation/shap_gene_selection/gene_subsets_{N_GENES}/{CELL_TYPE}_{SEED}.npy'), allow_pickle=True)\n",
    "    train_adata = train_adata[:,gene_subset]\n",
    "    print(gene_subset)\n",
    "elif SEED == 'all':\n",
    "    print('Using all genes')\n",
    "else:\n",
    "    raise ValueError()"
   ]
  },
  {
   "cell_type": "code",
   "execution_count": 8,
   "id": "c6d8e030",
   "metadata": {
    "execution": {
     "iopub.execute_input": "2025-05-15T16:02:28.081469Z",
     "iopub.status.busy": "2025-05-15T16:02:28.081067Z",
     "iopub.status.idle": "2025-05-15T16:02:28.084318Z",
     "shell.execute_reply": "2025-05-15T16:02:28.083971Z"
    },
    "papermill": {
     "duration": 0.011379,
     "end_time": "2025-05-15T16:02:28.085147",
     "exception": false,
     "start_time": "2025-05-15T16:02:28.073768",
     "status": "completed"
    },
    "tags": []
   },
   "outputs": [
    {
     "data": {
      "text/plain": [
       "(124886, 102)"
      ]
     },
     "execution_count": 8,
     "metadata": {},
     "output_type": "execute_result"
    }
   ],
   "source": [
    "train_adata.shape"
   ]
  },
  {
   "cell_type": "code",
   "execution_count": 9,
   "id": "6b0869cc",
   "metadata": {
    "execution": {
     "iopub.execute_input": "2025-05-15T16:02:28.098325Z",
     "iopub.status.busy": "2025-05-15T16:02:28.098030Z",
     "iopub.status.idle": "2025-05-15T16:02:28.101964Z",
     "shell.execute_reply": "2025-05-15T16:02:28.101654Z"
    },
    "papermill": {
     "duration": 0.011382,
     "end_time": "2025-05-15T16:02:28.102777",
     "exception": false,
     "start_time": "2025-05-15T16:02:28.091395",
     "status": "completed"
    },
    "tags": []
   },
   "outputs": [
    {
     "data": {
      "text/plain": [
       "['RA', 'healthy', 'COVID', 'HIV', 'cirrhosis', 'CD', 'SLE', 'sepsis']\n",
       "Categories (8, object): ['CD', 'COVID', 'HIV', 'RA', 'SLE', 'cirrhosis', 'healthy', 'sepsis']"
      ]
     },
     "execution_count": 9,
     "metadata": {},
     "output_type": "execute_result"
    }
   ],
   "source": [
    "train_adata.obs.disease.unique()"
   ]
  },
  {
   "cell_type": "code",
   "execution_count": 10,
   "id": "dd8f74e9",
   "metadata": {
    "execution": {
     "iopub.execute_input": "2025-05-15T16:02:28.119913Z",
     "iopub.status.busy": "2025-05-15T16:02:28.119491Z",
     "iopub.status.idle": "2025-05-15T16:02:28.123727Z",
     "shell.execute_reply": "2025-05-15T16:02:28.123426Z"
    },
    "papermill": {
     "duration": 0.015914,
     "end_time": "2025-05-15T16:02:28.124549",
     "exception": false,
     "start_time": "2025-05-15T16:02:28.108635",
     "status": "completed"
    },
    "tags": []
   },
   "outputs": [
    {
     "data": {
      "text/plain": [
       "['SCGT00val_I036016_T0', 'SCGT00val_I036023_T0', 'SCGT00val_I036015_T0', 'SCGT00val_I036028_T0', 'SCGT00val_I0364_T0', ..., '10XGenomics_10XHC2_T0', '10XGenomics_10XHC3_T0', '10XGenomics_10XHC5_T0', '10XGenomics_10XHC7_T0', '10XGenomics_10XHC8_T0']\n",
       "Length: 86\n",
       "Categories (86, object): ['10XGenomics_10XHC1_T0', '10XGenomics_10XHC2_T0', '10XGenomics_10XHC3_T0', '10XGenomics_10XHC4_T0', ..., 'Savage2021_BRISL6_T0', 'Savage2021_BRISL7_T0', 'Savage2021_PIDA_T0', 'Savage2021_PIDB_T0']"
      ]
     },
     "execution_count": 10,
     "metadata": {},
     "output_type": "execute_result"
    }
   ],
   "source": [
    "train_adata.obs.sampleID.unique()"
   ]
  },
  {
   "cell_type": "code",
   "execution_count": 11,
   "id": "a401ae04",
   "metadata": {
    "execution": {
     "iopub.execute_input": "2025-05-15T16:02:28.144330Z",
     "iopub.status.busy": "2025-05-15T16:02:28.143934Z",
     "iopub.status.idle": "2025-05-15T16:02:28.448280Z",
     "shell.execute_reply": "2025-05-15T16:02:28.447743Z"
    },
    "papermill": {
     "duration": 0.312166,
     "end_time": "2025-05-15T16:02:28.449659",
     "exception": false,
     "start_time": "2025-05-15T16:02:28.137493",
     "status": "completed"
    },
    "tags": []
   },
   "outputs": [],
   "source": [
    "all_idxs = np.arange(train_adata.obs.shape[0])\n",
    "left_out_splits = [s[1] for s in StratifiedGroupKFold(n_splits=N_SPLITS).split(all_idxs, train_adata.obs.disease, train_adata.obs.sampleID)]"
   ]
  },
  {
   "cell_type": "code",
   "execution_count": 12,
   "id": "b6d87171",
   "metadata": {
    "execution": {
     "iopub.execute_input": "2025-05-15T16:02:28.465365Z",
     "iopub.status.busy": "2025-05-15T16:02:28.464854Z",
     "iopub.status.idle": "2025-05-15T16:02:28.468740Z",
     "shell.execute_reply": "2025-05-15T16:02:28.468390Z"
    },
    "papermill": {
     "duration": 0.013439,
     "end_time": "2025-05-15T16:02:28.469622",
     "exception": false,
     "start_time": "2025-05-15T16:02:28.456183",
     "status": "completed"
    },
    "tags": []
   },
   "outputs": [
    {
     "data": {
      "text/plain": [
       "([0, 3, 4], 2, 1)"
      ]
     },
     "execution_count": 12,
     "metadata": {},
     "output_type": "execute_result"
    }
   ],
   "source": [
    "TRAIN_SPLIT_IDXS = [0,1,2,3,4]\n",
    "VAL_SPLIT_IDX = (TEST_SPLIT_IDX + 1) % 5\n",
    "TRAIN_SPLIT_IDXS.remove(TEST_SPLIT_IDX)\n",
    "TRAIN_SPLIT_IDXS.remove(VAL_SPLIT_IDX)\n",
    "TRAIN_SPLIT_IDXS, VAL_SPLIT_IDX, TEST_SPLIT_IDX"
   ]
  },
  {
   "cell_type": "code",
   "execution_count": 13,
   "id": "f55c4a6e",
   "metadata": {
    "execution": {
     "iopub.execute_input": "2025-05-15T16:02:28.499630Z",
     "iopub.status.busy": "2025-05-15T16:02:28.499286Z",
     "iopub.status.idle": "2025-05-15T16:02:28.502299Z",
     "shell.execute_reply": "2025-05-15T16:02:28.501944Z"
    },
    "papermill": {
     "duration": 0.011167,
     "end_time": "2025-05-15T16:02:28.503196",
     "exception": false,
     "start_time": "2025-05-15T16:02:28.492029",
     "status": "completed"
    },
    "tags": []
   },
   "outputs": [],
   "source": [
    "train_idxs = np.concatenate([left_out_splits[idx] for idx in TRAIN_SPLIT_IDXS])\n",
    "val_idxs = left_out_splits[VAL_SPLIT_IDX]\n",
    "test_idxs = left_out_splits[TEST_SPLIT_IDX]"
   ]
  },
  {
   "cell_type": "markdown",
   "id": "4a907413",
   "metadata": {
    "papermill": {
     "duration": 0.038463,
     "end_time": "2025-05-15T16:02:28.547792",
     "exception": false,
     "start_time": "2025-05-15T16:02:28.509329",
     "status": "completed"
    },
    "tags": []
   },
   "source": [
    "### SUBSET DATASET INTO TRAIN/TEST/VAL SPLITS"
   ]
  },
  {
   "cell_type": "code",
   "execution_count": 14,
   "id": "0c564bf3",
   "metadata": {
    "execution": {
     "iopub.execute_input": "2025-05-15T16:02:28.561166Z",
     "iopub.status.busy": "2025-05-15T16:02:28.560759Z",
     "iopub.status.idle": "2025-05-15T16:02:28.816110Z",
     "shell.execute_reply": "2025-05-15T16:02:28.815702Z"
    },
    "papermill": {
     "duration": 0.263209,
     "end_time": "2025-05-15T16:02:28.817161",
     "exception": false,
     "start_time": "2025-05-15T16:02:28.553952",
     "status": "completed"
    },
    "tags": []
   },
   "outputs": [
    {
     "data": {
      "text/plain": [
       "((73010, 102), (26276, 102), (25600, 102))"
      ]
     },
     "execution_count": 14,
     "metadata": {},
     "output_type": "execute_result"
    }
   ],
   "source": [
    "X_train = train_adata.X[train_idxs]\n",
    "X_test = train_adata.X[test_idxs]\n",
    "X_val = train_adata.X[val_idxs]\n",
    "X_train.shape, X_test.shape, X_val.shape"
   ]
  },
  {
   "cell_type": "code",
   "execution_count": 15,
   "id": "bf8fa205",
   "metadata": {
    "execution": {
     "iopub.execute_input": "2025-05-15T16:02:28.845670Z",
     "iopub.status.busy": "2025-05-15T16:02:28.845244Z",
     "iopub.status.idle": "2025-05-15T16:02:28.859137Z",
     "shell.execute_reply": "2025-05-15T16:02:28.858749Z"
    },
    "papermill": {
     "duration": 0.02207,
     "end_time": "2025-05-15T16:02:28.860038",
     "exception": false,
     "start_time": "2025-05-15T16:02:28.837968",
     "status": "completed"
    },
    "tags": []
   },
   "outputs": [
    {
     "data": {
      "text/plain": [
       "((73010,), (26276,), (25600,))"
      ]
     },
     "execution_count": 15,
     "metadata": {},
     "output_type": "execute_result"
    }
   ],
   "source": [
    "y_train = train_adata.obs.iloc[train_idxs].disease.values.astype(str)\n",
    "y_test = train_adata.obs.iloc[test_idxs].disease.values.astype(str)\n",
    "y_val = train_adata.obs.iloc[val_idxs].disease.values.astype(str)\n",
    "y_train.shape, y_test.shape, y_val.shape"
   ]
  },
  {
   "cell_type": "code",
   "execution_count": 16,
   "id": "12928b5d",
   "metadata": {
    "execution": {
     "iopub.execute_input": "2025-05-15T16:02:28.895587Z",
     "iopub.status.busy": "2025-05-15T16:02:28.894859Z",
     "iopub.status.idle": "2025-05-15T16:02:28.923716Z",
     "shell.execute_reply": "2025-05-15T16:02:28.922973Z"
    },
    "papermill": {
     "duration": 0.058638,
     "end_time": "2025-05-15T16:02:28.924744",
     "exception": false,
     "start_time": "2025-05-15T16:02:28.866106",
     "status": "completed"
    },
    "tags": []
   },
   "outputs": [],
   "source": [
    "lenc = LabelEncoder()\n",
    "y_train_enc = lenc.fit_transform(y_train)\n",
    "y_val_enc = lenc.transform(y_val)\n",
    "y_test_enc = lenc.transform(y_test)"
   ]
  },
  {
   "cell_type": "markdown",
   "id": "9b493665",
   "metadata": {
    "papermill": {
     "duration": 0.006864,
     "end_time": "2025-05-15T16:02:28.947357",
     "exception": false,
     "start_time": "2025-05-15T16:02:28.940493",
     "status": "completed"
    },
    "tags": []
   },
   "source": [
    "### GENERATE F1 "
   ]
  },
  {
   "cell_type": "code",
   "execution_count": 17,
   "id": "27ce1523",
   "metadata": {
    "execution": {
     "iopub.execute_input": "2025-05-15T16:02:28.961984Z",
     "iopub.status.busy": "2025-05-15T16:02:28.961322Z",
     "iopub.status.idle": "2025-05-15T16:02:28.964650Z",
     "shell.execute_reply": "2025-05-15T16:02:28.964289Z"
    },
    "papermill": {
     "duration": 0.011521,
     "end_time": "2025-05-15T16:02:28.965481",
     "exception": false,
     "start_time": "2025-05-15T16:02:28.953960",
     "status": "completed"
    },
    "tags": []
   },
   "outputs": [],
   "source": [
    "def custom_f1_score(y_true, y_pred):\n",
    "    return -f1_score(y_true, y_pred.argmax(1), average='weighted')"
   ]
  },
  {
   "cell_type": "code",
   "execution_count": 18,
   "id": "0e2af2c2",
   "metadata": {
    "execution": {
     "iopub.execute_input": "2025-05-15T16:02:29.015121Z",
     "iopub.status.busy": "2025-05-15T16:02:29.014664Z",
     "iopub.status.idle": "2025-05-15T16:02:29.019248Z",
     "shell.execute_reply": "2025-05-15T16:02:29.018839Z"
    },
    "papermill": {
     "duration": 0.048726,
     "end_time": "2025-05-15T16:02:29.020129",
     "exception": false,
     "start_time": "2025-05-15T16:02:28.971403",
     "status": "completed"
    },
    "tags": []
   },
   "outputs": [],
   "source": [
    "eval_metric=custom_f1_score\n",
    "eval_metric_name='custom_f1_score'\n",
    "\n",
    "def objective(trial):\n",
    "    params = {\n",
    "        'n_estimators': 1500,\n",
    "        'max_depth': trial.suggest_int('max_depth', 3, 20),\n",
    "        'min_child_weight': trial.suggest_int('min_child_weight', 1, 250),\n",
    "        'subsample': trial.suggest_float('subsample', 0.1, 1.0),\n",
    "        'colsample_bynode': trial.suggest_float('colsample_bynode', 0.1, 1.0),\n",
    "        'learning_rate': trial.suggest_float('learning_rate', 1e-3, 5e-1, log=True),\n",
    "    }\n",
    "    pruning_callback = optuna.integration.XGBoostPruningCallback(trial, f'validation_0-{eval_metric_name}')\n",
    "    es_callback = xgboost.callback.EarlyStopping(20, min_delta=0.001)\n",
    "    xgb = xgboost.XGBClassifier(\n",
    "        eval_metric=eval_metric,\n",
    "        callbacks=[pruning_callback, es_callback],\n",
    "        n_jobs=5,\n",
    "        **params\n",
    "    )\n",
    "    xgb.fit(\n",
    "        X_train, \n",
    "        y_train_enc, \n",
    "        verbose=0,\n",
    "        eval_set=[(X_val, y_val_enc)],\n",
    "    )\n",
    "    trial.set_user_attr('best_iteration', xgb.best_iteration)\n",
    "\n",
    "    return xgb.best_score"
   ]
  },
  {
   "cell_type": "code",
   "execution_count": 19,
   "id": "5b974ede",
   "metadata": {
    "execution": {
     "iopub.execute_input": "2025-05-15T16:02:29.043892Z",
     "iopub.status.busy": "2025-05-15T16:02:29.043268Z",
     "iopub.status.idle": "2025-05-15T16:20:19.293392Z",
     "shell.execute_reply": "2025-05-15T16:20:19.292958Z"
    },
    "papermill": {
     "duration": 1070.268001,
     "end_time": "2025-05-15T16:20:19.294350",
     "exception": false,
     "start_time": "2025-05-15T16:02:29.026349",
     "status": "completed"
    },
    "scrolled": true,
    "tags": []
   },
   "outputs": [
    {
     "name": "stderr",
     "output_type": "stream",
     "text": [
      "[I 2025-05-15 18:02:29,045] A new study created in memory with name: no-name-6936f975-2b9c-4199-ab67-cee703bff82e\n"
     ]
    },
    {
     "name": "stderr",
     "output_type": "stream",
     "text": [
      "[I 2025-05-15 18:03:40,469] Trial 0 finished with value: -0.659646 and parameters: {'max_depth': 9, 'min_child_weight': 238, 'subsample': 0.7587945476302645, 'colsample_bynode': 0.6387926357773329, 'learning_rate': 0.0026368755339723046}. Best is trial 0 with value: -0.659646.\n"
     ]
    },
    {
     "name": "stderr",
     "output_type": "stream",
     "text": [
      "[I 2025-05-15 18:05:08,215] Trial 1 finished with value: -0.768729 and parameters: {'max_depth': 5, 'min_child_weight': 15, 'subsample': 0.8795585311974417, 'colsample_bynode': 0.6410035105688879, 'learning_rate': 0.08148293210105287}. Best is trial 1 with value: -0.768729.\n"
     ]
    },
    {
     "name": "stderr",
     "output_type": "stream",
     "text": [
      "[I 2025-05-15 18:05:22,187] Trial 2 finished with value: -0.609424 and parameters: {'max_depth': 3, 'min_child_weight': 243, 'subsample': 0.8491983767203796, 'colsample_bynode': 0.29110519961044856, 'learning_rate': 0.003095566460242371}. Best is trial 1 with value: -0.768729.\n"
     ]
    },
    {
     "name": "stderr",
     "output_type": "stream",
     "text": [
      "[I 2025-05-15 18:05:31,748] Trial 3 finished with value: -0.668957 and parameters: {'max_depth': 6, 'min_child_weight': 77, 'subsample': 0.5722807884690141, 'colsample_bynode': 0.48875051677790415, 'learning_rate': 0.006109683510122491}. Best is trial 1 with value: -0.768729.\n"
     ]
    },
    {
     "name": "stderr",
     "output_type": "stream",
     "text": [
      "[I 2025-05-15 18:08:18,548] Trial 4 finished with value: -0.757849 and parameters: {'max_depth': 14, 'min_child_weight': 35, 'subsample': 0.3629301836816964, 'colsample_bynode': 0.4297256589643226, 'learning_rate': 0.01701841881702917}. Best is trial 1 with value: -0.768729.\n"
     ]
    },
    {
     "name": "stderr",
     "output_type": "stream",
     "text": [
      "[I 2025-05-15 18:08:31,922] Trial 5 finished with value: -0.679734 and parameters: {'max_depth': 17, 'min_child_weight': 50, 'subsample': 0.5628109945722505, 'colsample_bynode': 0.6331731119758383, 'learning_rate': 0.0013346527038305934}. Best is trial 1 with value: -0.768729.\n"
     ]
    },
    {
     "name": "stderr",
     "output_type": "stream",
     "text": [
      "[I 2025-05-15 18:08:32,581] Trial 6 pruned. Trial was pruned at iteration 0.\n"
     ]
    },
    {
     "name": "stderr",
     "output_type": "stream",
     "text": [
      "[I 2025-05-15 18:08:33,215] Trial 7 pruned. Trial was pruned at iteration 0.\n"
     ]
    },
    {
     "name": "stderr",
     "output_type": "stream",
     "text": [
      "[I 2025-05-15 18:08:33,815] Trial 8 pruned. Trial was pruned at iteration 0.\n"
     ]
    },
    {
     "name": "stderr",
     "output_type": "stream",
     "text": [
      "[I 2025-05-15 18:08:42,940] Trial 9 finished with value: -0.674009 and parameters: {'max_depth': 14, 'min_child_weight': 78, 'subsample': 0.5680612190600297, 'colsample_bynode': 0.5920392514089517, 'learning_rate': 0.0031543990308330965}. Best is trial 1 with value: -0.768729.\n"
     ]
    },
    {
     "name": "stderr",
     "output_type": "stream",
     "text": [
      "[I 2025-05-15 18:08:43,735] Trial 10 pruned. Trial was pruned at iteration 0.\n"
     ]
    },
    {
     "name": "stderr",
     "output_type": "stream",
     "text": [
      "[I 2025-05-15 18:10:09,065] Trial 11 finished with value: -0.766039 and parameters: {'max_depth': 10, 'min_child_weight': 3, 'subsample': 0.34014304150377095, 'colsample_bynode': 0.40131565860091256, 'learning_rate': 0.057899203666416425}. Best is trial 1 with value: -0.768729.\n"
     ]
    },
    {
     "name": "stderr",
     "output_type": "stream",
     "text": [
      "[I 2025-05-15 18:11:19,382] Trial 12 finished with value: -0.767085 and parameters: {'max_depth': 8, 'min_child_weight': 3, 'subsample': 0.3693916175642251, 'colsample_bynode': 0.351751713087183, 'learning_rate': 0.07220195396446884}. Best is trial 1 with value: -0.768729.\n"
     ]
    },
    {
     "name": "stderr",
     "output_type": "stream",
     "text": [
      "[I 2025-05-15 18:11:20,021] Trial 13 pruned. Trial was pruned at iteration 0.\n"
     ]
    },
    {
     "name": "stderr",
     "output_type": "stream",
     "text": [
      "[I 2025-05-15 18:11:20,692] Trial 14 pruned. Trial was pruned at iteration 0.\n"
     ]
    },
    {
     "name": "stderr",
     "output_type": "stream",
     "text": [
      "[I 2025-05-15 18:11:21,286] Trial 15 pruned. Trial was pruned at iteration 0.\n"
     ]
    },
    {
     "name": "stderr",
     "output_type": "stream",
     "text": [
      "[I 2025-05-15 18:11:21,971] Trial 16 pruned. Trial was pruned at iteration 0.\n"
     ]
    },
    {
     "name": "stderr",
     "output_type": "stream",
     "text": [
      "[I 2025-05-15 18:11:22,588] Trial 17 pruned. Trial was pruned at iteration 0.\n"
     ]
    },
    {
     "name": "stderr",
     "output_type": "stream",
     "text": [
      "[I 2025-05-15 18:12:09,213] Trial 18 finished with value: -0.774441 and parameters: {'max_depth': 8, 'min_child_weight': 37, 'subsample': 0.47368595472697, 'colsample_bynode': 0.5260950582681523, 'learning_rate': 0.1892056162835139}. Best is trial 18 with value: -0.774441.\n"
     ]
    },
    {
     "name": "stderr",
     "output_type": "stream",
     "text": [
      "[I 2025-05-15 18:12:09,837] Trial 19 pruned. Trial was pruned at iteration 0.\n"
     ]
    },
    {
     "name": "stderr",
     "output_type": "stream",
     "text": [
      "[I 2025-05-15 18:13:03,495] Trial 20 finished with value: -0.771731 and parameters: {'max_depth': 12, 'min_child_weight': 23, 'subsample': 0.8601573496833833, 'colsample_bynode': 0.8651467877814526, 'learning_rate': 0.30064063432178234}. Best is trial 18 with value: -0.774441.\n"
     ]
    },
    {
     "name": "stderr",
     "output_type": "stream",
     "text": [
      "[I 2025-05-15 18:13:46,433] Trial 21 finished with value: -0.772933 and parameters: {'max_depth': 11, 'min_child_weight': 27, 'subsample': 0.8524655332992119, 'colsample_bynode': 0.8564834725554809, 'learning_rate': 0.24892967230551474}. Best is trial 18 with value: -0.774441.\n"
     ]
    },
    {
     "name": "stderr",
     "output_type": "stream",
     "text": [
      "[I 2025-05-15 18:14:22,782] Trial 22 finished with value: -0.774397 and parameters: {'max_depth': 12, 'min_child_weight': 32, 'subsample': 0.6581340170061017, 'colsample_bynode': 0.8523299130140582, 'learning_rate': 0.28842950116804994}. Best is trial 18 with value: -0.774441.\n"
     ]
    },
    {
     "name": "stderr",
     "output_type": "stream",
     "text": [
      "[I 2025-05-15 18:14:23,458] Trial 23 pruned. Trial was pruned at iteration 0.\n"
     ]
    },
    {
     "name": "stderr",
     "output_type": "stream",
     "text": [
      "[I 2025-05-15 18:14:24,094] Trial 24 pruned. Trial was pruned at iteration 0.\n"
     ]
    },
    {
     "name": "stderr",
     "output_type": "stream",
     "text": [
      "[I 2025-05-15 18:15:03,569] Trial 25 finished with value: -0.775381 and parameters: {'max_depth': 9, 'min_child_weight': 30, 'subsample': 0.6461532403805207, 'colsample_bynode': 0.8643041066151342, 'learning_rate': 0.3159998560444891}. Best is trial 25 with value: -0.775381.\n"
     ]
    },
    {
     "name": "stderr",
     "output_type": "stream",
     "text": [
      "[I 2025-05-15 18:15:04,223] Trial 26 pruned. Trial was pruned at iteration 0.\n"
     ]
    },
    {
     "name": "stderr",
     "output_type": "stream",
     "text": [
      "[I 2025-05-15 18:15:04,871] Trial 27 pruned. Trial was pruned at iteration 0.\n"
     ]
    },
    {
     "name": "stderr",
     "output_type": "stream",
     "text": [
      "[I 2025-05-15 18:15:06,081] Trial 28 pruned. Trial was pruned at iteration 1.\n"
     ]
    },
    {
     "name": "stderr",
     "output_type": "stream",
     "text": [
      "[I 2025-05-15 18:15:06,723] Trial 29 pruned. Trial was pruned at iteration 0.\n"
     ]
    },
    {
     "name": "stderr",
     "output_type": "stream",
     "text": [
      "[I 2025-05-15 18:15:43,750] Trial 30 finished with value: -0.772741 and parameters: {'max_depth': 7, 'min_child_weight': 36, 'subsample': 0.5082504390249346, 'colsample_bynode': 0.6020708361736413, 'learning_rate': 0.4688904953543685}. Best is trial 25 with value: -0.775381.\n"
     ]
    },
    {
     "name": "stderr",
     "output_type": "stream",
     "text": [
      "[I 2025-05-15 18:16:20,063] Trial 31 finished with value: -0.772462 and parameters: {'max_depth': 11, 'min_child_weight': 26, 'subsample': 0.7973644287815003, 'colsample_bynode': 0.8551957992281358, 'learning_rate': 0.3139957767839471}. Best is trial 25 with value: -0.775381.\n"
     ]
    },
    {
     "name": "stderr",
     "output_type": "stream",
     "text": [
      "[I 2025-05-15 18:16:58,859] Trial 32 finished with value: -0.774029 and parameters: {'max_depth': 10, 'min_child_weight': 22, 'subsample': 0.7207589628150743, 'colsample_bynode': 0.9864556491459935, 'learning_rate': 0.2490761015129019}. Best is trial 25 with value: -0.775381.\n"
     ]
    },
    {
     "name": "stderr",
     "output_type": "stream",
     "text": [
      "[I 2025-05-15 18:17:13,141] Trial 33 pruned. Trial was pruned at iteration 26.\n"
     ]
    },
    {
     "name": "stderr",
     "output_type": "stream",
     "text": [
      "[I 2025-05-15 18:17:13,786] Trial 34 pruned. Trial was pruned at iteration 0.\n"
     ]
    },
    {
     "name": "stderr",
     "output_type": "stream",
     "text": [
      "[I 2025-05-15 18:17:59,188] Trial 35 finished with value: -0.777307 and parameters: {'max_depth': 13, 'min_child_weight': 40, 'subsample': 0.7025814034617384, 'colsample_bynode': 0.6737545529725091, 'learning_rate': 0.25746341346483903}. Best is trial 35 with value: -0.777307.\n"
     ]
    },
    {
     "name": "stderr",
     "output_type": "stream",
     "text": [
      "[I 2025-05-15 18:18:09,596] Trial 36 pruned. Trial was pruned at iteration 1.\n"
     ]
    },
    {
     "name": "stderr",
     "output_type": "stream",
     "text": [
      "[I 2025-05-15 18:18:10,204] Trial 37 pruned. Trial was pruned at iteration 0.\n"
     ]
    },
    {
     "name": "stderr",
     "output_type": "stream",
     "text": [
      "[I 2025-05-15 18:18:57,761] Trial 38 finished with value: -0.772747 and parameters: {'max_depth': 12, 'min_child_weight': 46, 'subsample': 0.9134710371310861, 'colsample_bynode': 0.6896101320656318, 'learning_rate': 0.3513058994082754}. Best is trial 35 with value: -0.777307.\n"
     ]
    },
    {
     "name": "stderr",
     "output_type": "stream",
     "text": [
      "[I 2025-05-15 18:18:58,385] Trial 39 pruned. Trial was pruned at iteration 0.\n"
     ]
    },
    {
     "name": "stderr",
     "output_type": "stream",
     "text": [
      "[I 2025-05-15 18:18:58,988] Trial 40 pruned. Trial was pruned at iteration 0.\n"
     ]
    },
    {
     "name": "stderr",
     "output_type": "stream",
     "text": [
      "[I 2025-05-15 18:19:12,039] Trial 41 pruned. Trial was pruned at iteration 26.\n"
     ]
    },
    {
     "name": "stderr",
     "output_type": "stream",
     "text": [
      "[I 2025-05-15 18:19:12,670] Trial 42 pruned. Trial was pruned at iteration 0.\n"
     ]
    },
    {
     "name": "stderr",
     "output_type": "stream",
     "text": [
      "[I 2025-05-15 18:19:45,242] Trial 43 finished with value: -0.774047 and parameters: {'max_depth': 13, 'min_child_weight': 48, 'subsample': 0.8010195136117411, 'colsample_bynode': 0.673287324578633, 'learning_rate': 0.4199731305720563}. Best is trial 35 with value: -0.777307.\n"
     ]
    },
    {
     "name": "stderr",
     "output_type": "stream",
     "text": [
      "[I 2025-05-15 18:20:12,096] Trial 44 finished with value: -0.770759 and parameters: {'max_depth': 12, 'min_child_weight': 49, 'subsample': 0.8019126675176278, 'colsample_bynode': 0.6674413966642742, 'learning_rate': 0.47678266797677216}. Best is trial 35 with value: -0.777307.\n"
     ]
    },
    {
     "name": "stderr",
     "output_type": "stream",
     "text": [
      "[I 2025-05-15 18:20:12,769] Trial 45 pruned. Trial was pruned at iteration 0.\n"
     ]
    },
    {
     "name": "stderr",
     "output_type": "stream",
     "text": [
      "[I 2025-05-15 18:20:13,890] Trial 46 pruned. Trial was pruned at iteration 1.\n"
     ]
    },
    {
     "name": "stderr",
     "output_type": "stream",
     "text": [
      "[I 2025-05-15 18:20:18,043] Trial 47 pruned. Trial was pruned at iteration 5.\n"
     ]
    },
    {
     "name": "stderr",
     "output_type": "stream",
     "text": [
      "[I 2025-05-15 18:20:18,642] Trial 48 pruned. Trial was pruned at iteration 0.\n"
     ]
    },
    {
     "name": "stderr",
     "output_type": "stream",
     "text": [
      "[I 2025-05-15 18:20:19,214] Trial 49 pruned. Trial was pruned at iteration 0.\n"
     ]
    }
   ],
   "source": [
    "sampler = optuna.samplers.TPESampler(seed=42)\n",
    "study = optuna.create_study(direction='minimize', sampler=sampler)\n",
    "study.optimize(objective, n_trials=N_TRIALS, gc_after_trial=True)"
   ]
  },
  {
   "cell_type": "code",
   "execution_count": 20,
   "id": "95af2a8a",
   "metadata": {
    "execution": {
     "iopub.execute_input": "2025-05-15T16:20:19.319664Z",
     "iopub.status.busy": "2025-05-15T16:20:19.319424Z",
     "iopub.status.idle": "2025-05-15T16:20:19.371616Z",
     "shell.execute_reply": "2025-05-15T16:20:19.371303Z"
    },
    "papermill": {
     "duration": 0.062287,
     "end_time": "2025-05-15T16:20:19.372424",
     "exception": false,
     "start_time": "2025-05-15T16:20:19.310137",
     "status": "completed"
    },
    "tags": []
   },
   "outputs": [
    {
     "data": {
      "text/plain": [
       "['/scratch_isilon/groups/singlecell/shared/projects/Inflammation-PBMCs-Atlas/03_downstream_analysis/08_gene_importance/xgboost_external_validation/xgboost_TopN_genes/results_20/study/T_CD4_NonNaive_5_1_xgboost.pkl']"
      ]
     },
     "execution_count": 20,
     "metadata": {},
     "output_type": "execute_result"
    }
   ],
   "source": [
    "out_dir = here(f'03_downstream_analysis/08_gene_importance/xgboost_external_validation/xgboost_TopN_genes/results_{N_GENES}/study')\n",
    "\n",
    "if not os.path.exists(out_dir):\n",
    "    os.makedirs(out_dir)\n",
    "    \n",
    "joblib.dump(study,os.path.join(out_dir, f'{CELL_TYPE}_{SEED}_{TEST_SPLIT_IDX}_xgboost.pkl'))"
   ]
  },
  {
   "cell_type": "code",
   "execution_count": 21,
   "id": "5eb36d0b",
   "metadata": {
    "execution": {
     "iopub.execute_input": "2025-05-15T16:20:19.409536Z",
     "iopub.status.busy": "2025-05-15T16:20:19.409236Z",
     "iopub.status.idle": "2025-05-15T16:20:35.878845Z",
     "shell.execute_reply": "2025-05-15T16:20:35.878499Z"
    },
    "papermill": {
     "duration": 16.484799,
     "end_time": "2025-05-15T16:20:35.879958",
     "exception": false,
     "start_time": "2025-05-15T16:20:19.395159",
     "status": "completed"
    },
    "tags": []
   },
   "outputs": [
    {
     "data": {
      "text/html": [
       "<style>#sk-container-id-1 {\n",
       "  /* Definition of color scheme common for light and dark mode */\n",
       "  --sklearn-color-text: black;\n",
       "  --sklearn-color-line: gray;\n",
       "  /* Definition of color scheme for unfitted estimators */\n",
       "  --sklearn-color-unfitted-level-0: #fff5e6;\n",
       "  --sklearn-color-unfitted-level-1: #f6e4d2;\n",
       "  --sklearn-color-unfitted-level-2: #ffe0b3;\n",
       "  --sklearn-color-unfitted-level-3: chocolate;\n",
       "  /* Definition of color scheme for fitted estimators */\n",
       "  --sklearn-color-fitted-level-0: #f0f8ff;\n",
       "  --sklearn-color-fitted-level-1: #d4ebff;\n",
       "  --sklearn-color-fitted-level-2: #b3dbfd;\n",
       "  --sklearn-color-fitted-level-3: cornflowerblue;\n",
       "\n",
       "  /* Specific color for light theme */\n",
       "  --sklearn-color-text-on-default-background: var(--sg-text-color, var(--theme-code-foreground, var(--jp-content-font-color1, black)));\n",
       "  --sklearn-color-background: var(--sg-background-color, var(--theme-background, var(--jp-layout-color0, white)));\n",
       "  --sklearn-color-border-box: var(--sg-text-color, var(--theme-code-foreground, var(--jp-content-font-color1, black)));\n",
       "  --sklearn-color-icon: #696969;\n",
       "\n",
       "  @media (prefers-color-scheme: dark) {\n",
       "    /* Redefinition of color scheme for dark theme */\n",
       "    --sklearn-color-text-on-default-background: var(--sg-text-color, var(--theme-code-foreground, var(--jp-content-font-color1, white)));\n",
       "    --sklearn-color-background: var(--sg-background-color, var(--theme-background, var(--jp-layout-color0, #111)));\n",
       "    --sklearn-color-border-box: var(--sg-text-color, var(--theme-code-foreground, var(--jp-content-font-color1, white)));\n",
       "    --sklearn-color-icon: #878787;\n",
       "  }\n",
       "}\n",
       "\n",
       "#sk-container-id-1 {\n",
       "  color: var(--sklearn-color-text);\n",
       "}\n",
       "\n",
       "#sk-container-id-1 pre {\n",
       "  padding: 0;\n",
       "}\n",
       "\n",
       "#sk-container-id-1 input.sk-hidden--visually {\n",
       "  border: 0;\n",
       "  clip: rect(1px 1px 1px 1px);\n",
       "  clip: rect(1px, 1px, 1px, 1px);\n",
       "  height: 1px;\n",
       "  margin: -1px;\n",
       "  overflow: hidden;\n",
       "  padding: 0;\n",
       "  position: absolute;\n",
       "  width: 1px;\n",
       "}\n",
       "\n",
       "#sk-container-id-1 div.sk-dashed-wrapped {\n",
       "  border: 1px dashed var(--sklearn-color-line);\n",
       "  margin: 0 0.4em 0.5em 0.4em;\n",
       "  box-sizing: border-box;\n",
       "  padding-bottom: 0.4em;\n",
       "  background-color: var(--sklearn-color-background);\n",
       "}\n",
       "\n",
       "#sk-container-id-1 div.sk-container {\n",
       "  /* jupyter's `normalize.less` sets `[hidden] { display: none; }`\n",
       "     but bootstrap.min.css set `[hidden] { display: none !important; }`\n",
       "     so we also need the `!important` here to be able to override the\n",
       "     default hidden behavior on the sphinx rendered scikit-learn.org.\n",
       "     See: https://github.com/scikit-learn/scikit-learn/issues/21755 */\n",
       "  display: inline-block !important;\n",
       "  position: relative;\n",
       "}\n",
       "\n",
       "#sk-container-id-1 div.sk-text-repr-fallback {\n",
       "  display: none;\n",
       "}\n",
       "\n",
       "div.sk-parallel-item,\n",
       "div.sk-serial,\n",
       "div.sk-item {\n",
       "  /* draw centered vertical line to link estimators */\n",
       "  background-image: linear-gradient(var(--sklearn-color-text-on-default-background), var(--sklearn-color-text-on-default-background));\n",
       "  background-size: 2px 100%;\n",
       "  background-repeat: no-repeat;\n",
       "  background-position: center center;\n",
       "}\n",
       "\n",
       "/* Parallel-specific style estimator block */\n",
       "\n",
       "#sk-container-id-1 div.sk-parallel-item::after {\n",
       "  content: \"\";\n",
       "  width: 100%;\n",
       "  border-bottom: 2px solid var(--sklearn-color-text-on-default-background);\n",
       "  flex-grow: 1;\n",
       "}\n",
       "\n",
       "#sk-container-id-1 div.sk-parallel {\n",
       "  display: flex;\n",
       "  align-items: stretch;\n",
       "  justify-content: center;\n",
       "  background-color: var(--sklearn-color-background);\n",
       "  position: relative;\n",
       "}\n",
       "\n",
       "#sk-container-id-1 div.sk-parallel-item {\n",
       "  display: flex;\n",
       "  flex-direction: column;\n",
       "}\n",
       "\n",
       "#sk-container-id-1 div.sk-parallel-item:first-child::after {\n",
       "  align-self: flex-end;\n",
       "  width: 50%;\n",
       "}\n",
       "\n",
       "#sk-container-id-1 div.sk-parallel-item:last-child::after {\n",
       "  align-self: flex-start;\n",
       "  width: 50%;\n",
       "}\n",
       "\n",
       "#sk-container-id-1 div.sk-parallel-item:only-child::after {\n",
       "  width: 0;\n",
       "}\n",
       "\n",
       "/* Serial-specific style estimator block */\n",
       "\n",
       "#sk-container-id-1 div.sk-serial {\n",
       "  display: flex;\n",
       "  flex-direction: column;\n",
       "  align-items: center;\n",
       "  background-color: var(--sklearn-color-background);\n",
       "  padding-right: 1em;\n",
       "  padding-left: 1em;\n",
       "}\n",
       "\n",
       "\n",
       "/* Toggleable style: style used for estimator/Pipeline/ColumnTransformer box that is\n",
       "clickable and can be expanded/collapsed.\n",
       "- Pipeline and ColumnTransformer use this feature and define the default style\n",
       "- Estimators will overwrite some part of the style using the `sk-estimator` class\n",
       "*/\n",
       "\n",
       "/* Pipeline and ColumnTransformer style (default) */\n",
       "\n",
       "#sk-container-id-1 div.sk-toggleable {\n",
       "  /* Default theme specific background. It is overwritten whether we have a\n",
       "  specific estimator or a Pipeline/ColumnTransformer */\n",
       "  background-color: var(--sklearn-color-background);\n",
       "}\n",
       "\n",
       "/* Toggleable label */\n",
       "#sk-container-id-1 label.sk-toggleable__label {\n",
       "  cursor: pointer;\n",
       "  display: block;\n",
       "  width: 100%;\n",
       "  margin-bottom: 0;\n",
       "  padding: 0.5em;\n",
       "  box-sizing: border-box;\n",
       "  text-align: center;\n",
       "}\n",
       "\n",
       "#sk-container-id-1 label.sk-toggleable__label-arrow:before {\n",
       "  /* Arrow on the left of the label */\n",
       "  content: \"▸\";\n",
       "  float: left;\n",
       "  margin-right: 0.25em;\n",
       "  color: var(--sklearn-color-icon);\n",
       "}\n",
       "\n",
       "#sk-container-id-1 label.sk-toggleable__label-arrow:hover:before {\n",
       "  color: var(--sklearn-color-text);\n",
       "}\n",
       "\n",
       "/* Toggleable content - dropdown */\n",
       "\n",
       "#sk-container-id-1 div.sk-toggleable__content {\n",
       "  max-height: 0;\n",
       "  max-width: 0;\n",
       "  overflow: hidden;\n",
       "  text-align: left;\n",
       "  /* unfitted */\n",
       "  background-color: var(--sklearn-color-unfitted-level-0);\n",
       "}\n",
       "\n",
       "#sk-container-id-1 div.sk-toggleable__content.fitted {\n",
       "  /* fitted */\n",
       "  background-color: var(--sklearn-color-fitted-level-0);\n",
       "}\n",
       "\n",
       "#sk-container-id-1 div.sk-toggleable__content pre {\n",
       "  margin: 0.2em;\n",
       "  border-radius: 0.25em;\n",
       "  color: var(--sklearn-color-text);\n",
       "  /* unfitted */\n",
       "  background-color: var(--sklearn-color-unfitted-level-0);\n",
       "}\n",
       "\n",
       "#sk-container-id-1 div.sk-toggleable__content.fitted pre {\n",
       "  /* unfitted */\n",
       "  background-color: var(--sklearn-color-fitted-level-0);\n",
       "}\n",
       "\n",
       "#sk-container-id-1 input.sk-toggleable__control:checked~div.sk-toggleable__content {\n",
       "  /* Expand drop-down */\n",
       "  max-height: 200px;\n",
       "  max-width: 100%;\n",
       "  overflow: auto;\n",
       "}\n",
       "\n",
       "#sk-container-id-1 input.sk-toggleable__control:checked~label.sk-toggleable__label-arrow:before {\n",
       "  content: \"▾\";\n",
       "}\n",
       "\n",
       "/* Pipeline/ColumnTransformer-specific style */\n",
       "\n",
       "#sk-container-id-1 div.sk-label input.sk-toggleable__control:checked~label.sk-toggleable__label {\n",
       "  color: var(--sklearn-color-text);\n",
       "  background-color: var(--sklearn-color-unfitted-level-2);\n",
       "}\n",
       "\n",
       "#sk-container-id-1 div.sk-label.fitted input.sk-toggleable__control:checked~label.sk-toggleable__label {\n",
       "  background-color: var(--sklearn-color-fitted-level-2);\n",
       "}\n",
       "\n",
       "/* Estimator-specific style */\n",
       "\n",
       "/* Colorize estimator box */\n",
       "#sk-container-id-1 div.sk-estimator input.sk-toggleable__control:checked~label.sk-toggleable__label {\n",
       "  /* unfitted */\n",
       "  background-color: var(--sklearn-color-unfitted-level-2);\n",
       "}\n",
       "\n",
       "#sk-container-id-1 div.sk-estimator.fitted input.sk-toggleable__control:checked~label.sk-toggleable__label {\n",
       "  /* fitted */\n",
       "  background-color: var(--sklearn-color-fitted-level-2);\n",
       "}\n",
       "\n",
       "#sk-container-id-1 div.sk-label label.sk-toggleable__label,\n",
       "#sk-container-id-1 div.sk-label label {\n",
       "  /* The background is the default theme color */\n",
       "  color: var(--sklearn-color-text-on-default-background);\n",
       "}\n",
       "\n",
       "/* On hover, darken the color of the background */\n",
       "#sk-container-id-1 div.sk-label:hover label.sk-toggleable__label {\n",
       "  color: var(--sklearn-color-text);\n",
       "  background-color: var(--sklearn-color-unfitted-level-2);\n",
       "}\n",
       "\n",
       "/* Label box, darken color on hover, fitted */\n",
       "#sk-container-id-1 div.sk-label.fitted:hover label.sk-toggleable__label.fitted {\n",
       "  color: var(--sklearn-color-text);\n",
       "  background-color: var(--sklearn-color-fitted-level-2);\n",
       "}\n",
       "\n",
       "/* Estimator label */\n",
       "\n",
       "#sk-container-id-1 div.sk-label label {\n",
       "  font-family: monospace;\n",
       "  font-weight: bold;\n",
       "  display: inline-block;\n",
       "  line-height: 1.2em;\n",
       "}\n",
       "\n",
       "#sk-container-id-1 div.sk-label-container {\n",
       "  text-align: center;\n",
       "}\n",
       "\n",
       "/* Estimator-specific */\n",
       "#sk-container-id-1 div.sk-estimator {\n",
       "  font-family: monospace;\n",
       "  border: 1px dotted var(--sklearn-color-border-box);\n",
       "  border-radius: 0.25em;\n",
       "  box-sizing: border-box;\n",
       "  margin-bottom: 0.5em;\n",
       "  /* unfitted */\n",
       "  background-color: var(--sklearn-color-unfitted-level-0);\n",
       "}\n",
       "\n",
       "#sk-container-id-1 div.sk-estimator.fitted {\n",
       "  /* fitted */\n",
       "  background-color: var(--sklearn-color-fitted-level-0);\n",
       "}\n",
       "\n",
       "/* on hover */\n",
       "#sk-container-id-1 div.sk-estimator:hover {\n",
       "  /* unfitted */\n",
       "  background-color: var(--sklearn-color-unfitted-level-2);\n",
       "}\n",
       "\n",
       "#sk-container-id-1 div.sk-estimator.fitted:hover {\n",
       "  /* fitted */\n",
       "  background-color: var(--sklearn-color-fitted-level-2);\n",
       "}\n",
       "\n",
       "/* Specification for estimator info (e.g. \"i\" and \"?\") */\n",
       "\n",
       "/* Common style for \"i\" and \"?\" */\n",
       "\n",
       ".sk-estimator-doc-link,\n",
       "a:link.sk-estimator-doc-link,\n",
       "a:visited.sk-estimator-doc-link {\n",
       "  float: right;\n",
       "  font-size: smaller;\n",
       "  line-height: 1em;\n",
       "  font-family: monospace;\n",
       "  background-color: var(--sklearn-color-background);\n",
       "  border-radius: 1em;\n",
       "  height: 1em;\n",
       "  width: 1em;\n",
       "  text-decoration: none !important;\n",
       "  margin-left: 1ex;\n",
       "  /* unfitted */\n",
       "  border: var(--sklearn-color-unfitted-level-1) 1pt solid;\n",
       "  color: var(--sklearn-color-unfitted-level-1);\n",
       "}\n",
       "\n",
       ".sk-estimator-doc-link.fitted,\n",
       "a:link.sk-estimator-doc-link.fitted,\n",
       "a:visited.sk-estimator-doc-link.fitted {\n",
       "  /* fitted */\n",
       "  border: var(--sklearn-color-fitted-level-1) 1pt solid;\n",
       "  color: var(--sklearn-color-fitted-level-1);\n",
       "}\n",
       "\n",
       "/* On hover */\n",
       "div.sk-estimator:hover .sk-estimator-doc-link:hover,\n",
       ".sk-estimator-doc-link:hover,\n",
       "div.sk-label-container:hover .sk-estimator-doc-link:hover,\n",
       ".sk-estimator-doc-link:hover {\n",
       "  /* unfitted */\n",
       "  background-color: var(--sklearn-color-unfitted-level-3);\n",
       "  color: var(--sklearn-color-background);\n",
       "  text-decoration: none;\n",
       "}\n",
       "\n",
       "div.sk-estimator.fitted:hover .sk-estimator-doc-link.fitted:hover,\n",
       ".sk-estimator-doc-link.fitted:hover,\n",
       "div.sk-label-container:hover .sk-estimator-doc-link.fitted:hover,\n",
       ".sk-estimator-doc-link.fitted:hover {\n",
       "  /* fitted */\n",
       "  background-color: var(--sklearn-color-fitted-level-3);\n",
       "  color: var(--sklearn-color-background);\n",
       "  text-decoration: none;\n",
       "}\n",
       "\n",
       "/* Span, style for the box shown on hovering the info icon */\n",
       ".sk-estimator-doc-link span {\n",
       "  display: none;\n",
       "  z-index: 9999;\n",
       "  position: relative;\n",
       "  font-weight: normal;\n",
       "  right: .2ex;\n",
       "  padding: .5ex;\n",
       "  margin: .5ex;\n",
       "  width: min-content;\n",
       "  min-width: 20ex;\n",
       "  max-width: 50ex;\n",
       "  color: var(--sklearn-color-text);\n",
       "  box-shadow: 2pt 2pt 4pt #999;\n",
       "  /* unfitted */\n",
       "  background: var(--sklearn-color-unfitted-level-0);\n",
       "  border: .5pt solid var(--sklearn-color-unfitted-level-3);\n",
       "}\n",
       "\n",
       ".sk-estimator-doc-link.fitted span {\n",
       "  /* fitted */\n",
       "  background: var(--sklearn-color-fitted-level-0);\n",
       "  border: var(--sklearn-color-fitted-level-3);\n",
       "}\n",
       "\n",
       ".sk-estimator-doc-link:hover span {\n",
       "  display: block;\n",
       "}\n",
       "\n",
       "/* \"?\"-specific style due to the `<a>` HTML tag */\n",
       "\n",
       "#sk-container-id-1 a.estimator_doc_link {\n",
       "  float: right;\n",
       "  font-size: 1rem;\n",
       "  line-height: 1em;\n",
       "  font-family: monospace;\n",
       "  background-color: var(--sklearn-color-background);\n",
       "  border-radius: 1rem;\n",
       "  height: 1rem;\n",
       "  width: 1rem;\n",
       "  text-decoration: none;\n",
       "  /* unfitted */\n",
       "  color: var(--sklearn-color-unfitted-level-1);\n",
       "  border: var(--sklearn-color-unfitted-level-1) 1pt solid;\n",
       "}\n",
       "\n",
       "#sk-container-id-1 a.estimator_doc_link.fitted {\n",
       "  /* fitted */\n",
       "  border: var(--sklearn-color-fitted-level-1) 1pt solid;\n",
       "  color: var(--sklearn-color-fitted-level-1);\n",
       "}\n",
       "\n",
       "/* On hover */\n",
       "#sk-container-id-1 a.estimator_doc_link:hover {\n",
       "  /* unfitted */\n",
       "  background-color: var(--sklearn-color-unfitted-level-3);\n",
       "  color: var(--sklearn-color-background);\n",
       "  text-decoration: none;\n",
       "}\n",
       "\n",
       "#sk-container-id-1 a.estimator_doc_link.fitted:hover {\n",
       "  /* fitted */\n",
       "  background-color: var(--sklearn-color-fitted-level-3);\n",
       "}\n",
       "</style><div id=\"sk-container-id-1\" class=\"sk-top-container\"><div class=\"sk-text-repr-fallback\"><pre>XGBClassifier(base_score=None, booster=None, callbacks=None,\n",
       "              colsample_bylevel=None, colsample_bynode=0.6737545529725091,\n",
       "              colsample_bytree=None, device=None, early_stopping_rounds=None,\n",
       "              enable_categorical=False,\n",
       "              eval_metric=&lt;function custom_f1_score at 0x7f1b18cd7b00&gt;,\n",
       "              feature_types=None, gamma=None, grow_policy=None,\n",
       "              importance_type=None, interaction_constraints=None,\n",
       "              learning_rate=0.25746341346483903, max_bin=None,\n",
       "              max_cat_threshold=None, max_cat_to_onehot=None,\n",
       "              max_delta_step=None, max_depth=13, max_leaves=None,\n",
       "              min_child_weight=40, missing=nan, monotone_constraints=None,\n",
       "              multi_strategy=None, n_estimators=118, n_jobs=None,\n",
       "              num_parallel_tree=None, objective=&#x27;multi:softprob&#x27;, ...)</pre><b>In a Jupyter environment, please rerun this cell to show the HTML representation or trust the notebook. <br />On GitHub, the HTML representation is unable to render, please try loading this page with nbviewer.org.</b></div><div class=\"sk-container\" hidden><div class=\"sk-item\"><div class=\"sk-estimator fitted sk-toggleable\"><input class=\"sk-toggleable__control sk-hidden--visually\" id=\"sk-estimator-id-1\" type=\"checkbox\" checked><label for=\"sk-estimator-id-1\" class=\"sk-toggleable__label fitted sk-toggleable__label-arrow fitted\">&nbsp;XGBClassifier<span class=\"sk-estimator-doc-link fitted\">i<span>Fitted</span></span></label><div class=\"sk-toggleable__content fitted\"><pre>XGBClassifier(base_score=None, booster=None, callbacks=None,\n",
       "              colsample_bylevel=None, colsample_bynode=0.6737545529725091,\n",
       "              colsample_bytree=None, device=None, early_stopping_rounds=None,\n",
       "              enable_categorical=False,\n",
       "              eval_metric=&lt;function custom_f1_score at 0x7f1b18cd7b00&gt;,\n",
       "              feature_types=None, gamma=None, grow_policy=None,\n",
       "              importance_type=None, interaction_constraints=None,\n",
       "              learning_rate=0.25746341346483903, max_bin=None,\n",
       "              max_cat_threshold=None, max_cat_to_onehot=None,\n",
       "              max_delta_step=None, max_depth=13, max_leaves=None,\n",
       "              min_child_weight=40, missing=nan, monotone_constraints=None,\n",
       "              multi_strategy=None, n_estimators=118, n_jobs=None,\n",
       "              num_parallel_tree=None, objective=&#x27;multi:softprob&#x27;, ...)</pre></div> </div></div></div></div>"
      ],
      "text/plain": [
       "XGBClassifier(base_score=None, booster=None, callbacks=None,\n",
       "              colsample_bylevel=None, colsample_bynode=0.6737545529725091,\n",
       "              colsample_bytree=None, device=None, early_stopping_rounds=None,\n",
       "              enable_categorical=False,\n",
       "              eval_metric=<function custom_f1_score at 0x7f1b18cd7b00>,\n",
       "              feature_types=None, gamma=None, grow_policy=None,\n",
       "              importance_type=None, interaction_constraints=None,\n",
       "              learning_rate=0.25746341346483903, max_bin=None,\n",
       "              max_cat_threshold=None, max_cat_to_onehot=None,\n",
       "              max_delta_step=None, max_depth=13, max_leaves=None,\n",
       "              min_child_weight=40, missing=nan, monotone_constraints=None,\n",
       "              multi_strategy=None, n_estimators=118, n_jobs=None,\n",
       "              num_parallel_tree=None, objective='multi:softprob', ...)"
      ]
     },
     "execution_count": 21,
     "metadata": {},
     "output_type": "execute_result"
    }
   ],
   "source": [
    "n_estimators = int(study.best_trial.user_attrs['best_iteration']*1.2)\n",
    "xgb = xgboost.XGBClassifier(\n",
    "        eval_metric=eval_metric,\n",
    "        n_estimators=n_estimators,\n",
    "        **study.best_trial.params\n",
    "    )\n",
    "xgb.fit(\n",
    "    ssp.vstack((X_train, X_val)), \n",
    "    np.concatenate((y_train_enc, y_val_enc)),\n",
    "    verbose=1,\n",
    ")"
   ]
  },
  {
   "cell_type": "code",
   "execution_count": 22,
   "id": "16edc6e5",
   "metadata": {
    "execution": {
     "iopub.execute_input": "2025-05-15T16:20:35.908290Z",
     "iopub.status.busy": "2025-05-15T16:20:35.908056Z",
     "iopub.status.idle": "2025-05-15T16:20:35.954814Z",
     "shell.execute_reply": "2025-05-15T16:20:35.954467Z"
    },
    "papermill": {
     "duration": 0.056885,
     "end_time": "2025-05-15T16:20:35.955617",
     "exception": false,
     "start_time": "2025-05-15T16:20:35.898732",
     "status": "completed"
    },
    "tags": []
   },
   "outputs": [
    {
     "data": {
      "text/plain": [
       "['/scratch_isilon/groups/singlecell/shared/projects/Inflammation-PBMCs-Atlas/03_downstream_analysis/08_gene_importance/xgboost_external_validation/xgboost_TopN_genes/results_20/best_model/T_CD4_NonNaive_5_1_xgb.json']"
      ]
     },
     "execution_count": 22,
     "metadata": {},
     "output_type": "execute_result"
    }
   ],
   "source": [
    "out_dir = here(f'03_downstream_analysis/08_gene_importance/xgboost_external_validation/xgboost_TopN_genes/results_{N_GENES}/best_model')\n",
    "\n",
    "if not os.path.exists(out_dir):\n",
    "    os.makedirs(out_dir)\n",
    "    \n",
    "joblib.dump(xgb, os.path.join(out_dir, f'{CELL_TYPE}_{SEED}_{TEST_SPLIT_IDX}_xgb.json'))"
   ]
  },
  {
   "cell_type": "code",
   "execution_count": 23,
   "id": "4a7dc4be",
   "metadata": {
    "execution": {
     "iopub.execute_input": "2025-05-15T16:20:35.973926Z",
     "iopub.status.busy": "2025-05-15T16:20:35.973527Z",
     "iopub.status.idle": "2025-05-15T16:20:36.717181Z",
     "shell.execute_reply": "2025-05-15T16:20:36.716771Z"
    },
    "papermill": {
     "duration": 0.753934,
     "end_time": "2025-05-15T16:20:36.718551",
     "exception": false,
     "start_time": "2025-05-15T16:20:35.964617",
     "status": "completed"
    },
    "tags": []
   },
   "outputs": [],
   "source": [
    "df_pred_test = pd.DataFrame(dict(\n",
    "    cell_id=train_adata.obs.iloc[test_idxs].index.values,\n",
    "    y_true=y_test, \n",
    "    y_true_code=y_test_enc, \n",
    "    y_pred=xgb.predict(X_test))).set_index('cell_id')"
   ]
  },
  {
   "cell_type": "code",
   "execution_count": 24,
   "id": "9bfa13cf",
   "metadata": {
    "execution": {
     "iopub.execute_input": "2025-05-15T16:20:36.749560Z",
     "iopub.status.busy": "2025-05-15T16:20:36.749072Z",
     "iopub.status.idle": "2025-05-15T16:20:36.883934Z",
     "shell.execute_reply": "2025-05-15T16:20:36.883545Z"
    },
    "papermill": {
     "duration": 0.145487,
     "end_time": "2025-05-15T16:20:36.885221",
     "exception": false,
     "start_time": "2025-05-15T16:20:36.739734",
     "status": "completed"
    },
    "tags": []
   },
   "outputs": [],
   "source": [
    "out_dir = here(f'03_downstream_analysis/08_gene_importance/xgboost_external_validation/xgboost_TopN_genes/results_{N_GENES}/predictions')\n",
    "\n",
    "if not os.path.exists(out_dir):\n",
    "    os.makedirs(out_dir)\n",
    "    \n",
    "df_pred_test.to_csv(os.path.join(out_dir, f'{CELL_TYPE}_{SEED}_{TEST_SPLIT_IDX}_pred_test.zip'))"
   ]
  },
  {
   "cell_type": "code",
   "execution_count": 25,
   "id": "5ed3aacb",
   "metadata": {
    "execution": {
     "iopub.execute_input": "2025-05-15T16:20:36.918527Z",
     "iopub.status.busy": "2025-05-15T16:20:36.918066Z",
     "iopub.status.idle": "2025-05-15T16:20:36.934270Z",
     "shell.execute_reply": "2025-05-15T16:20:36.933887Z"
    },
    "papermill": {
     "duration": 0.02748,
     "end_time": "2025-05-15T16:20:36.935171",
     "exception": false,
     "start_time": "2025-05-15T16:20:36.907691",
     "status": "completed"
    },
    "tags": []
   },
   "outputs": [
    {
     "name": "stderr",
     "output_type": "stream",
     "text": [
      "/scratch_isilon/groups/singlecell/shared/conda_env/xgboost-cpu/lib/python3.12/site-packages/sklearn/metrics/_classification.py:2466: UserWarning: y_pred contains classes not in y_true\n",
      "  warnings.warn(\"y_pred contains classes not in y_true\")\n"
     ]
    }
   ],
   "source": [
    "metrics_dict = dict(\n",
    "    BAS=balanced_accuracy_score(y_true=df_pred_test.y_true_code, y_pred=df_pred_test.y_pred), WF1=f1_score(y_true=df_pred_test.y_true_code, y_pred=df_pred_test.y_pred,average='weighted'))"
   ]
  },
  {
   "cell_type": "code",
   "execution_count": 26,
   "id": "7e4ff51e",
   "metadata": {
    "execution": {
     "iopub.execute_input": "2025-05-15T16:20:36.985406Z",
     "iopub.status.busy": "2025-05-15T16:20:36.985098Z",
     "iopub.status.idle": "2025-05-15T16:20:36.988001Z",
     "shell.execute_reply": "2025-05-15T16:20:36.987713Z"
    },
    "papermill": {
     "duration": 0.013265,
     "end_time": "2025-05-15T16:20:36.988757",
     "exception": false,
     "start_time": "2025-05-15T16:20:36.975492",
     "status": "completed"
    },
    "tags": []
   },
   "outputs": [
    {
     "data": {
      "text/plain": [
       "{'BAS': 0.6176545598146642, 'WF1': 0.8172823473242692}"
      ]
     },
     "execution_count": 26,
     "metadata": {},
     "output_type": "execute_result"
    }
   ],
   "source": [
    "metrics_dict"
   ]
  },
  {
   "cell_type": "code",
   "execution_count": 27,
   "id": "1e766567",
   "metadata": {
    "execution": {
     "iopub.execute_input": "2025-05-15T16:20:37.013623Z",
     "iopub.status.busy": "2025-05-15T16:20:37.013342Z",
     "iopub.status.idle": "2025-05-15T16:20:37.021852Z",
     "shell.execute_reply": "2025-05-15T16:20:37.021552Z"
    },
    "papermill": {
     "duration": 0.018556,
     "end_time": "2025-05-15T16:20:37.022624",
     "exception": false,
     "start_time": "2025-05-15T16:20:37.004068",
     "status": "completed"
    },
    "tags": []
   },
   "outputs": [
    {
     "data": {
      "text/html": [
       "<div>\n",
       "<style scoped>\n",
       "    .dataframe tbody tr th:only-of-type {\n",
       "        vertical-align: middle;\n",
       "    }\n",
       "\n",
       "    .dataframe tbody tr th {\n",
       "        vertical-align: top;\n",
       "    }\n",
       "\n",
       "    .dataframe thead th {\n",
       "        text-align: right;\n",
       "    }\n",
       "</style>\n",
       "<table border=\"1\" class=\"dataframe\">\n",
       "  <thead>\n",
       "    <tr style=\"text-align: right;\">\n",
       "      <th></th>\n",
       "      <th>BAS</th>\n",
       "      <th>WF1</th>\n",
       "      <th>split_idx</th>\n",
       "      <th>gene_set_seed</th>\n",
       "      <th>cell_type</th>\n",
       "    </tr>\n",
       "  </thead>\n",
       "  <tbody>\n",
       "    <tr>\n",
       "      <th>0</th>\n",
       "      <td>0.617655</td>\n",
       "      <td>0.817282</td>\n",
       "      <td>1</td>\n",
       "      <td>5</td>\n",
       "      <td>T_CD4_NonNaive</td>\n",
       "    </tr>\n",
       "  </tbody>\n",
       "</table>\n",
       "</div>"
      ],
      "text/plain": [
       "        BAS       WF1  split_idx  gene_set_seed       cell_type\n",
       "0  0.617655  0.817282          1              5  T_CD4_NonNaive"
      ]
     },
     "execution_count": 27,
     "metadata": {},
     "output_type": "execute_result"
    }
   ],
   "source": [
    "metrics_df = pd.DataFrame.from_dict([metrics_dict]).assign(split_idx=TEST_SPLIT_IDX, gene_set_seed=SEED, cell_type=CELL_TYPE)\n",
    "metrics_df"
   ]
  },
  {
   "cell_type": "code",
   "execution_count": 28,
   "id": "c058c44d",
   "metadata": {
    "execution": {
     "iopub.execute_input": "2025-05-15T16:20:37.041552Z",
     "iopub.status.busy": "2025-05-15T16:20:37.041284Z",
     "iopub.status.idle": "2025-05-15T16:20:37.049633Z",
     "shell.execute_reply": "2025-05-15T16:20:37.049315Z"
    },
    "papermill": {
     "duration": 0.018431,
     "end_time": "2025-05-15T16:20:37.050476",
     "exception": false,
     "start_time": "2025-05-15T16:20:37.032045",
     "status": "completed"
    },
    "tags": []
   },
   "outputs": [],
   "source": [
    "out_dir = here(f'03_downstream_analysis/08_gene_importance/xgboost_external_validation/xgboost_TopN_genes/results_{N_GENES}/metrics')\n",
    "\n",
    "if not os.path.exists(out_dir):\n",
    "    os.makedirs(out_dir)\n",
    "    \n",
    "metrics_df.to_csv(os.path.join(out_dir, f'{CELL_TYPE}_{SEED}_{TEST_SPLIT_IDX}_metrics.zip'))"
   ]
  }
 ],
 "metadata": {
  "kernelspec": {
   "display_name": "Python 3 (ipykernel)",
   "language": "python",
   "name": "python3"
  },
  "language_info": {
   "codemirror_mode": {
    "name": "ipython",
    "version": 3
   },
   "file_extension": ".py",
   "mimetype": "text/x-python",
   "name": "python",
   "nbconvert_exporter": "python",
   "pygments_lexer": "ipython3",
   "version": "3.12.5"
  },
  "papermill": {
   "default_parameters": {},
   "duration": 1093.340116,
   "end_time": "2025-05-15T16:20:37.801743",
   "environment_variables": {},
   "exception": null,
   "input_path": "02_xgboost_fitting_external_20genes.ipynb",
   "output_path": "results_20/executed_notebooks/xgboost_fitting_external_CT_T_CD4_NonNaive_GS_5_seed1.ipynb",
   "parameters": {
    "CELL_TYPE": "T_CD4_NonNaive",
    "SEED": 5,
    "TEST_SPLIT_IDX": 1
   },
   "start_time": "2025-05-15T16:02:24.461627",
   "version": "2.6.0"
  }
 },
 "nbformat": 4,
 "nbformat_minor": 5
}