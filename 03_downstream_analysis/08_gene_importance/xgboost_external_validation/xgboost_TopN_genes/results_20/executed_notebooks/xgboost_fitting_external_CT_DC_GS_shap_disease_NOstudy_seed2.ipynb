{
 "cells": [
  {
   "cell_type": "code",
   "execution_count": 1,
   "id": "d5e08f6a",
   "metadata": {
    "editable": true,
    "execution": {
     "iopub.execute_input": "2025-05-14T16:09:52.591638Z",
     "iopub.status.busy": "2025-05-14T16:09:52.591492Z",
     "iopub.status.idle": "2025-05-14T16:09:52.594118Z",
     "shell.execute_reply": "2025-05-14T16:09:52.593812Z"
    },
    "papermill": {
     "duration": 0.019545,
     "end_time": "2025-05-14T16:09:52.594959",
     "exception": false,
     "start_time": "2025-05-14T16:09:52.575414",
     "status": "completed"
    },
    "slideshow": {
     "slide_type": ""
    },
    "tags": [
     "parameters"
    ]
   },
   "outputs": [],
   "source": [
    "CELL_TYPE = 'pDC'\n",
    "N_GENES: int = 20\n",
    "SEED = 'shap_studyID' #'disease_NOstudy' 'study_NOdisease' or 'int' or 'shap_studyID'\n",
    "TEST_SPLIT_IDX: int = 1 #[0,4]"
   ]
  },
  {
   "cell_type": "code",
   "execution_count": 2,
   "id": "74b8f68c",
   "metadata": {
    "execution": {
     "iopub.execute_input": "2025-05-14T16:09:52.616135Z",
     "iopub.status.busy": "2025-05-14T16:09:52.615962Z",
     "iopub.status.idle": "2025-05-14T16:09:52.618108Z",
     "shell.execute_reply": "2025-05-14T16:09:52.617815Z"
    },
    "papermill": {
     "duration": 0.015427,
     "end_time": "2025-05-14T16:09:52.618863",
     "exception": false,
     "start_time": "2025-05-14T16:09:52.603436",
     "status": "completed"
    },
    "tags": [
     "injected-parameters"
    ]
   },
   "outputs": [],
   "source": [
    "# Parameters\n",
    "CELL_TYPE = \"DC\"\n",
    "SEED = \"shap_disease_NOstudy\"\n",
    "TEST_SPLIT_IDX = 2\n"
   ]
  },
  {
   "cell_type": "code",
   "execution_count": 3,
   "id": "85b609ea",
   "metadata": {
    "execution": {
     "iopub.execute_input": "2025-05-14T16:09:52.633520Z",
     "iopub.status.busy": "2025-05-14T16:09:52.633178Z",
     "iopub.status.idle": "2025-05-14T16:09:52.635293Z",
     "shell.execute_reply": "2025-05-14T16:09:52.634960Z"
    },
    "papermill": {
     "duration": 0.011447,
     "end_time": "2025-05-14T16:09:52.636040",
     "exception": false,
     "start_time": "2025-05-14T16:09:52.624593",
     "status": "completed"
    },
    "tags": []
   },
   "outputs": [],
   "source": [
    "N_SPLITS: int = 5\n",
    "N_TRIALS: int = 50"
   ]
  },
  {
   "cell_type": "code",
   "execution_count": 4,
   "id": "8f53933d",
   "metadata": {
    "execution": {
     "iopub.execute_input": "2025-05-14T16:09:52.650424Z",
     "iopub.status.busy": "2025-05-14T16:09:52.650245Z",
     "iopub.status.idle": "2025-05-14T16:09:53.992324Z",
     "shell.execute_reply": "2025-05-14T16:09:53.991826Z"
    },
    "papermill": {
     "duration": 1.350084,
     "end_time": "2025-05-14T16:09:53.993570",
     "exception": false,
     "start_time": "2025-05-14T16:09:52.643486",
     "status": "completed"
    },
    "tags": []
   },
   "outputs": [],
   "source": [
    "import os\n",
    "import sys\n",
    "from pyprojroot.here import here\n",
    "import pandas as pd\n",
    "import anndata as ad\n",
    "import numpy as np\n",
    "import math\n",
    "from sklearn.model_selection import StratifiedGroupKFold\n",
    "from sklearn.preprocessing import LabelEncoder\n",
    "from sklearn.metrics import f1_score\n",
    "import matplotlib.pyplot as plt\n",
    "import seaborn as sns\n",
    "from itertools import product\n",
    "from sklearn.metrics import balanced_accuracy_score, f1_score\n",
    "import optuna\n",
    "\n",
    "import joblib\n",
    "import pickle\n",
    "import datetime\n",
    "\n",
    "import collections\n",
    "\n",
    "import xgboost\n",
    "from sklearn.preprocessing import LabelEncoder\n",
    "\n",
    "import scipy.sparse as ssp\n",
    "import joblib\n",
    "\n",
    "from dotenv import load_dotenv"
   ]
  },
  {
   "cell_type": "code",
   "execution_count": 5,
   "id": "6845a21c",
   "metadata": {
    "execution": {
     "iopub.execute_input": "2025-05-14T16:09:54.018117Z",
     "iopub.status.busy": "2025-05-14T16:09:54.017583Z",
     "iopub.status.idle": "2025-05-14T16:09:54.022904Z",
     "shell.execute_reply": "2025-05-14T16:09:54.022606Z"
    },
    "papermill": {
     "duration": 0.024218,
     "end_time": "2025-05-14T16:09:54.023699",
     "exception": false,
     "start_time": "2025-05-14T16:09:53.999481",
     "status": "completed"
    },
    "tags": []
   },
   "outputs": [
    {
     "data": {
      "text/plain": [
       "True"
      ]
     },
     "execution_count": 5,
     "metadata": {},
     "output_type": "execute_result"
    }
   ],
   "source": [
    "load_dotenv()"
   ]
  },
  {
   "cell_type": "markdown",
   "id": "a45960eb",
   "metadata": {
    "papermill": {
     "duration": 0.01602,
     "end_time": "2025-05-14T16:09:54.083515",
     "exception": false,
     "start_time": "2025-05-14T16:09:54.067495",
     "status": "completed"
    },
    "tags": []
   },
   "source": [
    "# LOAD DATASET"
   ]
  },
  {
   "cell_type": "code",
   "execution_count": 6,
   "id": "11be2eb2",
   "metadata": {
    "execution": {
     "iopub.execute_input": "2025-05-14T16:09:54.133923Z",
     "iopub.status.busy": "2025-05-14T16:09:54.133528Z",
     "iopub.status.idle": "2025-05-14T16:09:54.225287Z",
     "shell.execute_reply": "2025-05-14T16:09:54.224890Z"
    },
    "papermill": {
     "duration": 0.111358,
     "end_time": "2025-05-14T16:09:54.226382",
     "exception": false,
     "start_time": "2025-05-14T16:09:54.115024",
     "status": "completed"
    },
    "tags": []
   },
   "outputs": [],
   "source": [
    "train_adata = ad.read_h5ad(\n",
    "    here(f'03_downstream_analysis/08_gene_importance/xgboost_external_validation/xgboost_TopN_genes/data_cellTypes/EXTERNAL_{CELL_TYPE}.filtered.log1p.h5ad')\n",
    ")"
   ]
  },
  {
   "cell_type": "code",
   "execution_count": 7,
   "id": "f075f4b5",
   "metadata": {
    "execution": {
     "iopub.execute_input": "2025-05-14T16:09:54.252166Z",
     "iopub.status.busy": "2025-05-14T16:09:54.251956Z",
     "iopub.status.idle": "2025-05-14T16:09:54.261635Z",
     "shell.execute_reply": "2025-05-14T16:09:54.261267Z"
    },
    "papermill": {
     "duration": 0.029865,
     "end_time": "2025-05-14T16:09:54.262423",
     "exception": false,
     "start_time": "2025-05-14T16:09:54.232558",
     "status": "completed"
    },
    "tags": []
   },
   "outputs": [
    {
     "name": "stdout",
     "output_type": "stream",
     "text": [
      "['ENSG00000002549' 'ENSG00000005339' 'ENSG00000005844' 'ENSG00000006327'\n",
      " 'ENSG00000009790' 'ENSG00000027697' 'ENSG00000060982' 'ENSG00000079805'\n",
      " 'ENSG00000089737' 'ENSG00000099624' 'ENSG00000100280' 'ENSG00000100600'\n",
      " 'ENSG00000100906' 'ENSG00000102265' 'ENSG00000105221' 'ENSG00000105329'\n",
      " 'ENSG00000105374' 'ENSG00000106066' 'ENSG00000106367' 'ENSG00000106799'\n",
      " 'ENSG00000106952' 'ENSG00000107968' 'ENSG00000108639' 'ENSG00000109743'\n",
      " 'ENSG00000110324' 'ENSG00000110395' 'ENSG00000111275' 'ENSG00000111331'\n",
      " 'ENSG00000113070' 'ENSG00000115232' 'ENSG00000115415' 'ENSG00000115590'\n",
      " 'ENSG00000115738' 'ENSG00000116667' 'ENSG00000117523' 'ENSG00000118503'\n",
      " 'ENSG00000120837' 'ENSG00000121966' 'ENSG00000122025' 'ENSG00000122705'\n",
      " 'ENSG00000124762' 'ENSG00000125347' 'ENSG00000125534' 'ENSG00000125740'\n",
      " 'ENSG00000125743' 'ENSG00000126524' 'ENSG00000126759' 'ENSG00000127184'\n",
      " 'ENSG00000127540' 'ENSG00000131196' 'ENSG00000132465' 'ENSG00000132965'\n",
      " 'ENSG00000134107' 'ENSG00000135046' 'ENSG00000135720' 'ENSG00000135821'\n",
      " 'ENSG00000136158' 'ENSG00000136826' 'ENSG00000136997' 'ENSG00000137959'\n",
      " 'ENSG00000137965' 'ENSG00000138448' 'ENSG00000138802' 'ENSG00000140105'\n",
      " 'ENSG00000140749' 'ENSG00000141506' 'ENSG00000142089' 'ENSG00000142227'\n",
      " 'ENSG00000142634' 'ENSG00000145247' 'ENSG00000145675' 'ENSG00000147443'\n",
      " 'ENSG00000148834' 'ENSG00000149357' 'ENSG00000152082' 'ENSG00000152219'\n",
      " 'ENSG00000152234' 'ENSG00000156411' 'ENSG00000157445' 'ENSG00000157483'\n",
      " 'ENSG00000158050' 'ENSG00000159110' 'ENSG00000159128' 'ENSG00000160712'\n",
      " 'ENSG00000160932' 'ENSG00000161955' 'ENSG00000162368' 'ENSG00000163660'\n",
      " 'ENSG00000164543' 'ENSG00000166847' 'ENSG00000166888' 'ENSG00000166927'\n",
      " 'ENSG00000167552' 'ENSG00000168329' 'ENSG00000168394' 'ENSG00000168461'\n",
      " 'ENSG00000168685' 'ENSG00000169403' 'ENSG00000169429' 'ENSG00000169442'\n",
      " 'ENSG00000169564' 'ENSG00000170525' 'ENSG00000171150' 'ENSG00000171223'\n",
      " 'ENSG00000173757' 'ENSG00000175104' 'ENSG00000175354' 'ENSG00000179094'\n",
      " 'ENSG00000181631' 'ENSG00000182287' 'ENSG00000183486' 'ENSG00000185022'\n",
      " 'ENSG00000185201' 'ENSG00000185650' 'ENSG00000185885' 'ENSG00000187116'\n",
      " 'ENSG00000187608' 'ENSG00000197061' 'ENSG00000197111' 'ENSG00000197965'\n",
      " 'ENSG00000198355' 'ENSG00000204287' 'ENSG00000204525' 'ENSG00000204843'\n",
      " 'ENSG00000211895' 'ENSG00000231925' 'ENSG00000232629' 'ENSG00000232810'\n",
      " 'ENSG00000234745' 'ENSG00000258315' 'ENSG00000271503']\n"
     ]
    }
   ],
   "source": [
    "if SEED != 'all':\n",
    "    gene_subset = np.load(here(f'03_downstream_analysis/08_gene_importance/xgboost_external_validation/shap_gene_selection/gene_subsets_{N_GENES}/{CELL_TYPE}_{SEED}.npy'), allow_pickle=True)\n",
    "    train_adata = train_adata[:,gene_subset]\n",
    "    print(gene_subset)\n",
    "elif SEED == 'all':\n",
    "    print('Using all genes')\n",
    "else:\n",
    "    raise ValueError()"
   ]
  },
  {
   "cell_type": "code",
   "execution_count": 8,
   "id": "fe4d282a",
   "metadata": {
    "execution": {
     "iopub.execute_input": "2025-05-14T16:09:54.286497Z",
     "iopub.status.busy": "2025-05-14T16:09:54.286031Z",
     "iopub.status.idle": "2025-05-14T16:09:54.289002Z",
     "shell.execute_reply": "2025-05-14T16:09:54.288699Z"
    },
    "papermill": {
     "duration": 0.021195,
     "end_time": "2025-05-14T16:09:54.289776",
     "exception": false,
     "start_time": "2025-05-14T16:09:54.268581",
     "status": "completed"
    },
    "tags": []
   },
   "outputs": [
    {
     "data": {
      "text/plain": [
       "(5232, 131)"
      ]
     },
     "execution_count": 8,
     "metadata": {},
     "output_type": "execute_result"
    }
   ],
   "source": [
    "train_adata.shape"
   ]
  },
  {
   "cell_type": "code",
   "execution_count": 9,
   "id": "4cc60ca1",
   "metadata": {
    "execution": {
     "iopub.execute_input": "2025-05-14T16:09:54.302400Z",
     "iopub.status.busy": "2025-05-14T16:09:54.302200Z",
     "iopub.status.idle": "2025-05-14T16:09:54.305613Z",
     "shell.execute_reply": "2025-05-14T16:09:54.305319Z"
    },
    "papermill": {
     "duration": 0.010488,
     "end_time": "2025-05-14T16:09:54.306383",
     "exception": false,
     "start_time": "2025-05-14T16:09:54.295895",
     "status": "completed"
    },
    "tags": []
   },
   "outputs": [
    {
     "data": {
      "text/plain": [
       "['RA', 'healthy', 'COVID', 'HIV', 'cirrhosis', 'CD', 'SLE', 'sepsis']\n",
       "Categories (8, object): ['CD', 'COVID', 'HIV', 'RA', 'SLE', 'cirrhosis', 'healthy', 'sepsis']"
      ]
     },
     "execution_count": 9,
     "metadata": {},
     "output_type": "execute_result"
    }
   ],
   "source": [
    "train_adata.obs.disease.unique()"
   ]
  },
  {
   "cell_type": "code",
   "execution_count": 10,
   "id": "200cea88",
   "metadata": {
    "execution": {
     "iopub.execute_input": "2025-05-14T16:09:54.326571Z",
     "iopub.status.busy": "2025-05-14T16:09:54.326394Z",
     "iopub.status.idle": "2025-05-14T16:09:54.329905Z",
     "shell.execute_reply": "2025-05-14T16:09:54.329612Z"
    },
    "papermill": {
     "duration": 0.010578,
     "end_time": "2025-05-14T16:09:54.330714",
     "exception": false,
     "start_time": "2025-05-14T16:09:54.320136",
     "status": "completed"
    },
    "tags": []
   },
   "outputs": [
    {
     "data": {
      "text/plain": [
       "['SCGT00val_I036021_T0', 'SCGT00val_I036023_T0', 'SCGT00val_I036024_T0', 'SCGT00val_I036019_T0', 'SCGT00val_I0364_T0', ..., '10XGenomics_10XHC2_T0', '10XGenomics_10XHC3_T0', '10XGenomics_10XHC5_T0', '10XGenomics_10XHC7_T0', '10XGenomics_10XHC8_T0']\n",
       "Length: 86\n",
       "Categories (86, object): ['10XGenomics_10XHC1_T0', '10XGenomics_10XHC2_T0', '10XGenomics_10XHC3_T0', '10XGenomics_10XHC4_T0', ..., 'Savage2021_BRISL6_T0', 'Savage2021_BRISL7_T0', 'Savage2021_PIDA_T0', 'Savage2021_PIDB_T0']"
      ]
     },
     "execution_count": 10,
     "metadata": {},
     "output_type": "execute_result"
    }
   ],
   "source": [
    "train_adata.obs.sampleID.unique()"
   ]
  },
  {
   "cell_type": "code",
   "execution_count": 11,
   "id": "6fac4ea1",
   "metadata": {
    "execution": {
     "iopub.execute_input": "2025-05-14T16:09:54.363630Z",
     "iopub.status.busy": "2025-05-14T16:09:54.363454Z",
     "iopub.status.idle": "2025-05-14T16:09:54.402642Z",
     "shell.execute_reply": "2025-05-14T16:09:54.402339Z"
    },
    "papermill": {
     "duration": 0.06698,
     "end_time": "2025-05-14T16:09:54.403485",
     "exception": false,
     "start_time": "2025-05-14T16:09:54.336505",
     "status": "completed"
    },
    "tags": []
   },
   "outputs": [],
   "source": [
    "all_idxs = np.arange(train_adata.obs.shape[0])\n",
    "left_out_splits = [s[1] for s in StratifiedGroupKFold(n_splits=N_SPLITS).split(all_idxs, train_adata.obs.disease, train_adata.obs.sampleID)]"
   ]
  },
  {
   "cell_type": "code",
   "execution_count": 12,
   "id": "d7cda52f",
   "metadata": {
    "execution": {
     "iopub.execute_input": "2025-05-14T16:09:54.475433Z",
     "iopub.status.busy": "2025-05-14T16:09:54.475168Z",
     "iopub.status.idle": "2025-05-14T16:09:54.478300Z",
     "shell.execute_reply": "2025-05-14T16:09:54.478001Z"
    },
    "papermill": {
     "duration": 0.044461,
     "end_time": "2025-05-14T16:09:54.479073",
     "exception": false,
     "start_time": "2025-05-14T16:09:54.434612",
     "status": "completed"
    },
    "tags": []
   },
   "outputs": [
    {
     "data": {
      "text/plain": [
       "([0, 1, 4], 3, 2)"
      ]
     },
     "execution_count": 12,
     "metadata": {},
     "output_type": "execute_result"
    }
   ],
   "source": [
    "TRAIN_SPLIT_IDXS = [0,1,2,3,4]\n",
    "VAL_SPLIT_IDX = (TEST_SPLIT_IDX + 1) % 5\n",
    "TRAIN_SPLIT_IDXS.remove(TEST_SPLIT_IDX)\n",
    "TRAIN_SPLIT_IDXS.remove(VAL_SPLIT_IDX)\n",
    "TRAIN_SPLIT_IDXS, VAL_SPLIT_IDX, TEST_SPLIT_IDX"
   ]
  },
  {
   "cell_type": "code",
   "execution_count": 13,
   "id": "e2063112",
   "metadata": {
    "execution": {
     "iopub.execute_input": "2025-05-14T16:09:54.495134Z",
     "iopub.status.busy": "2025-05-14T16:09:54.494884Z",
     "iopub.status.idle": "2025-05-14T16:09:54.497144Z",
     "shell.execute_reply": "2025-05-14T16:09:54.496849Z"
    },
    "papermill": {
     "duration": 0.01073,
     "end_time": "2025-05-14T16:09:54.497952",
     "exception": false,
     "start_time": "2025-05-14T16:09:54.487222",
     "status": "completed"
    },
    "tags": []
   },
   "outputs": [],
   "source": [
    "train_idxs = np.concatenate([left_out_splits[idx] for idx in TRAIN_SPLIT_IDXS])\n",
    "val_idxs = left_out_splits[VAL_SPLIT_IDX]\n",
    "test_idxs = left_out_splits[TEST_SPLIT_IDX]"
   ]
  },
  {
   "cell_type": "markdown",
   "id": "611af646",
   "metadata": {
    "papermill": {
     "duration": 0.035874,
     "end_time": "2025-05-14T16:09:54.567627",
     "exception": false,
     "start_time": "2025-05-14T16:09:54.531753",
     "status": "completed"
    },
    "tags": []
   },
   "source": [
    "### SUBSET DATASET INTO TRAIN/TEST/VAL SPLITS"
   ]
  },
  {
   "cell_type": "code",
   "execution_count": 14,
   "id": "593229ea",
   "metadata": {
    "execution": {
     "iopub.execute_input": "2025-05-14T16:09:54.581522Z",
     "iopub.status.busy": "2025-05-14T16:09:54.581357Z",
     "iopub.status.idle": "2025-05-14T16:09:54.607705Z",
     "shell.execute_reply": "2025-05-14T16:09:54.607367Z"
    },
    "papermill": {
     "duration": 0.034644,
     "end_time": "2025-05-14T16:09:54.608566",
     "exception": false,
     "start_time": "2025-05-14T16:09:54.573922",
     "status": "completed"
    },
    "tags": []
   },
   "outputs": [
    {
     "data": {
      "text/plain": [
       "((3113, 131), (1091, 131), (1028, 131))"
      ]
     },
     "execution_count": 14,
     "metadata": {},
     "output_type": "execute_result"
    }
   ],
   "source": [
    "X_train = train_adata.X[train_idxs]\n",
    "X_test = train_adata.X[test_idxs]\n",
    "X_val = train_adata.X[val_idxs]\n",
    "X_train.shape, X_test.shape, X_val.shape"
   ]
  },
  {
   "cell_type": "code",
   "execution_count": 15,
   "id": "d42443af",
   "metadata": {
    "execution": {
     "iopub.execute_input": "2025-05-14T16:09:54.721599Z",
     "iopub.status.busy": "2025-05-14T16:09:54.721336Z",
     "iopub.status.idle": "2025-05-14T16:09:54.726206Z",
     "shell.execute_reply": "2025-05-14T16:09:54.725923Z"
    },
    "papermill": {
     "duration": 0.027699,
     "end_time": "2025-05-14T16:09:54.727001",
     "exception": false,
     "start_time": "2025-05-14T16:09:54.699302",
     "status": "completed"
    },
    "tags": []
   },
   "outputs": [
    {
     "data": {
      "text/plain": [
       "((3113,), (1091,), (1028,))"
      ]
     },
     "execution_count": 15,
     "metadata": {},
     "output_type": "execute_result"
    }
   ],
   "source": [
    "y_train = train_adata.obs.iloc[train_idxs].disease.values.astype(str)\n",
    "y_test = train_adata.obs.iloc[test_idxs].disease.values.astype(str)\n",
    "y_val = train_adata.obs.iloc[val_idxs].disease.values.astype(str)\n",
    "y_train.shape, y_test.shape, y_val.shape"
   ]
  },
  {
   "cell_type": "code",
   "execution_count": 16,
   "id": "f0b400ce",
   "metadata": {
    "execution": {
     "iopub.execute_input": "2025-05-14T16:09:54.742691Z",
     "iopub.status.busy": "2025-05-14T16:09:54.742518Z",
     "iopub.status.idle": "2025-05-14T16:09:54.746188Z",
     "shell.execute_reply": "2025-05-14T16:09:54.745894Z"
    },
    "papermill": {
     "duration": 0.013367,
     "end_time": "2025-05-14T16:09:54.747061",
     "exception": false,
     "start_time": "2025-05-14T16:09:54.733694",
     "status": "completed"
    },
    "tags": []
   },
   "outputs": [],
   "source": [
    "lenc = LabelEncoder()\n",
    "y_train_enc = lenc.fit_transform(y_train)\n",
    "y_val_enc = lenc.transform(y_val)\n",
    "y_test_enc = lenc.transform(y_test)"
   ]
  },
  {
   "cell_type": "markdown",
   "id": "bccb758e",
   "metadata": {
    "papermill": {
     "duration": 0.00608,
     "end_time": "2025-05-14T16:09:54.759080",
     "exception": false,
     "start_time": "2025-05-14T16:09:54.753000",
     "status": "completed"
    },
    "tags": []
   },
   "source": [
    "### GENERATE F1 "
   ]
  },
  {
   "cell_type": "code",
   "execution_count": 17,
   "id": "fe7684e8",
   "metadata": {
    "execution": {
     "iopub.execute_input": "2025-05-14T16:09:54.773106Z",
     "iopub.status.busy": "2025-05-14T16:09:54.772769Z",
     "iopub.status.idle": "2025-05-14T16:09:54.774965Z",
     "shell.execute_reply": "2025-05-14T16:09:54.774672Z"
    },
    "papermill": {
     "duration": 0.010913,
     "end_time": "2025-05-14T16:09:54.775781",
     "exception": false,
     "start_time": "2025-05-14T16:09:54.764868",
     "status": "completed"
    },
    "tags": []
   },
   "outputs": [],
   "source": [
    "def custom_f1_score(y_true, y_pred):\n",
    "    return -f1_score(y_true, y_pred.argmax(1), average='weighted')"
   ]
  },
  {
   "cell_type": "code",
   "execution_count": 18,
   "id": "eb4053e4",
   "metadata": {
    "execution": {
     "iopub.execute_input": "2025-05-14T16:09:54.788689Z",
     "iopub.status.busy": "2025-05-14T16:09:54.788362Z",
     "iopub.status.idle": "2025-05-14T16:09:54.791908Z",
     "shell.execute_reply": "2025-05-14T16:09:54.791582Z"
    },
    "papermill": {
     "duration": 0.010435,
     "end_time": "2025-05-14T16:09:54.792712",
     "exception": false,
     "start_time": "2025-05-14T16:09:54.782277",
     "status": "completed"
    },
    "tags": []
   },
   "outputs": [],
   "source": [
    "eval_metric=custom_f1_score\n",
    "eval_metric_name='custom_f1_score'\n",
    "\n",
    "def objective(trial):\n",
    "    params = {\n",
    "        'n_estimators': 1500,\n",
    "        'max_depth': trial.suggest_int('max_depth', 3, 20),\n",
    "        'min_child_weight': trial.suggest_int('min_child_weight', 1, 250),\n",
    "        'subsample': trial.suggest_float('subsample', 0.1, 1.0),\n",
    "        'colsample_bynode': trial.suggest_float('colsample_bynode', 0.1, 1.0),\n",
    "        'learning_rate': trial.suggest_float('learning_rate', 1e-3, 5e-1, log=True),\n",
    "    }\n",
    "    pruning_callback = optuna.integration.XGBoostPruningCallback(trial, f'validation_0-{eval_metric_name}')\n",
    "    es_callback = xgboost.callback.EarlyStopping(20, min_delta=0.001)\n",
    "    xgb = xgboost.XGBClassifier(\n",
    "        eval_metric=eval_metric,\n",
    "        callbacks=[pruning_callback, es_callback],\n",
    "        n_jobs=5,\n",
    "        **params\n",
    "    )\n",
    "    xgb.fit(\n",
    "        X_train, \n",
    "        y_train_enc, \n",
    "        verbose=0,\n",
    "        eval_set=[(X_val, y_val_enc)],\n",
    "    )\n",
    "    trial.set_user_attr('best_iteration', xgb.best_iteration)\n",
    "\n",
    "    return xgb.best_score"
   ]
  },
  {
   "cell_type": "code",
   "execution_count": 19,
   "id": "875c092a",
   "metadata": {
    "execution": {
     "iopub.execute_input": "2025-05-14T16:09:54.808313Z",
     "iopub.status.busy": "2025-05-14T16:09:54.807999Z",
     "iopub.status.idle": "2025-05-14T16:10:30.359042Z",
     "shell.execute_reply": "2025-05-14T16:10:30.358597Z"
    },
    "papermill": {
     "duration": 35.560242,
     "end_time": "2025-05-14T16:10:30.360111",
     "exception": false,
     "start_time": "2025-05-14T16:09:54.799869",
     "status": "completed"
    },
    "scrolled": true,
    "tags": []
   },
   "outputs": [
    {
     "name": "stderr",
     "output_type": "stream",
     "text": [
      "[I 2025-05-14 18:09:54,809] A new study created in memory with name: no-name-5aff69d5-84b2-40aa-80e5-100357bf5bf5\n"
     ]
    },
    {
     "name": "stderr",
     "output_type": "stream",
     "text": [
      "[I 2025-05-14 18:09:55,083] Trial 0 finished with value: -0.485601 and parameters: {'max_depth': 9, 'min_child_weight': 238, 'subsample': 0.7587945476302645, 'colsample_bynode': 0.6387926357773329, 'learning_rate': 0.0026368755339723046}. Best is trial 0 with value: -0.485601.\n"
     ]
    },
    {
     "name": "stderr",
     "output_type": "stream",
     "text": [
      "[I 2025-05-14 18:09:57,368] Trial 1 finished with value: -0.738312 and parameters: {'max_depth': 5, 'min_child_weight': 15, 'subsample': 0.8795585311974417, 'colsample_bynode': 0.6410035105688879, 'learning_rate': 0.08148293210105287}. Best is trial 1 with value: -0.738312.\n"
     ]
    },
    {
     "name": "stderr",
     "output_type": "stream",
     "text": [
      "[I 2025-05-14 18:09:57,632] Trial 2 finished with value: -0.554967 and parameters: {'max_depth': 3, 'min_child_weight': 243, 'subsample': 0.8491983767203796, 'colsample_bynode': 0.29110519961044856, 'learning_rate': 0.003095566460242371}. Best is trial 1 with value: -0.738312.\n"
     ]
    },
    {
     "name": "stderr",
     "output_type": "stream",
     "text": [
      "[I 2025-05-14 18:09:58,040] Trial 3 finished with value: -0.527672 and parameters: {'max_depth': 6, 'min_child_weight': 77, 'subsample': 0.5722807884690141, 'colsample_bynode': 0.48875051677790415, 'learning_rate': 0.006109683510122491}. Best is trial 1 with value: -0.738312.\n"
     ]
    },
    {
     "name": "stderr",
     "output_type": "stream",
     "text": [
      "[I 2025-05-14 18:10:02,067] Trial 4 finished with value: -0.694169 and parameters: {'max_depth': 14, 'min_child_weight': 35, 'subsample': 0.3629301836816964, 'colsample_bynode': 0.4297256589643226, 'learning_rate': 0.01701841881702917}. Best is trial 1 with value: -0.738312.\n"
     ]
    },
    {
     "name": "stderr",
     "output_type": "stream",
     "text": [
      "[I 2025-05-14 18:10:02,188] Trial 5 pruned. Trial was pruned at iteration 0.\n"
     ]
    },
    {
     "name": "stderr",
     "output_type": "stream",
     "text": [
      "[I 2025-05-14 18:10:02,299] Trial 6 pruned. Trial was pruned at iteration 0.\n"
     ]
    },
    {
     "name": "stderr",
     "output_type": "stream",
     "text": [
      "[I 2025-05-14 18:10:02,407] Trial 7 pruned. Trial was pruned at iteration 0.\n"
     ]
    },
    {
     "name": "stderr",
     "output_type": "stream",
     "text": [
      "[I 2025-05-14 18:10:02,512] Trial 8 pruned. Trial was pruned at iteration 0.\n"
     ]
    },
    {
     "name": "stderr",
     "output_type": "stream",
     "text": [
      "[I 2025-05-14 18:10:02,623] Trial 9 pruned. Trial was pruned at iteration 0.\n"
     ]
    },
    {
     "name": "stderr",
     "output_type": "stream",
     "text": [
      "[I 2025-05-14 18:10:04,998] Trial 10 finished with value: -0.751107 and parameters: {'max_depth': 9, 'min_child_weight': 2, 'subsample': 0.9725833997090791, 'colsample_bynode': 0.11616568805333755, 'learning_rate': 0.17780618353487967}. Best is trial 10 with value: -0.751107.\n"
     ]
    },
    {
     "name": "stderr",
     "output_type": "stream",
     "text": [
      "[I 2025-05-14 18:10:07,373] Trial 11 finished with value: -0.735413 and parameters: {'max_depth': 9, 'min_child_weight': 4, 'subsample': 0.9818290990185045, 'colsample_bynode': 0.17702656156719, 'learning_rate': 0.11568531411766632}. Best is trial 10 with value: -0.751107.\n"
     ]
    },
    {
     "name": "stderr",
     "output_type": "stream",
     "text": [
      "[I 2025-05-14 18:10:11,081] Trial 12 finished with value: -0.742622 and parameters: {'max_depth': 9, 'min_child_weight': 3, 'subsample': 0.9754570370311046, 'colsample_bynode': 0.14672783827498995, 'learning_rate': 0.08954997670613858}. Best is trial 10 with value: -0.751107.\n"
     ]
    },
    {
     "name": "stderr",
     "output_type": "stream",
     "text": [
      "[I 2025-05-14 18:10:11,273] Trial 13 pruned. Trial was pruned at iteration 0.\n"
     ]
    },
    {
     "name": "stderr",
     "output_type": "stream",
     "text": [
      "[I 2025-05-14 18:10:11,447] Trial 14 pruned. Trial was pruned at iteration 0.\n"
     ]
    },
    {
     "name": "stderr",
     "output_type": "stream",
     "text": [
      "[I 2025-05-14 18:10:14,658] Trial 15 finished with value: -0.748944 and parameters: {'max_depth': 20, 'min_child_weight': 2, 'subsample': 0.7157386387695167, 'colsample_bynode': 0.31387503510266057, 'learning_rate': 0.19723736175781964}. Best is trial 10 with value: -0.751107.\n"
     ]
    },
    {
     "name": "stderr",
     "output_type": "stream",
     "text": [
      "[I 2025-05-14 18:10:14,835] Trial 16 pruned. Trial was pruned at iteration 0.\n"
     ]
    },
    {
     "name": "stderr",
     "output_type": "stream",
     "text": [
      "[I 2025-05-14 18:10:14,992] Trial 17 pruned. Trial was pruned at iteration 0.\n"
     ]
    },
    {
     "name": "stderr",
     "output_type": "stream",
     "text": [
      "[I 2025-05-14 18:10:15,164] Trial 18 pruned. Trial was pruned at iteration 0.\n"
     ]
    },
    {
     "name": "stderr",
     "output_type": "stream",
     "text": [
      "[I 2025-05-14 18:10:15,340] Trial 19 pruned. Trial was pruned at iteration 0.\n"
     ]
    },
    {
     "name": "stderr",
     "output_type": "stream",
     "text": [
      "[I 2025-05-14 18:10:15,509] Trial 20 pruned. Trial was pruned at iteration 0.\n"
     ]
    },
    {
     "name": "stderr",
     "output_type": "stream",
     "text": [
      "[I 2025-05-14 18:10:18,313] Trial 21 pruned. Trial was pruned at iteration 34.\n"
     ]
    },
    {
     "name": "stderr",
     "output_type": "stream",
     "text": [
      "[I 2025-05-14 18:10:19,101] Trial 22 pruned. Trial was pruned at iteration 37.\n"
     ]
    },
    {
     "name": "stderr",
     "output_type": "stream",
     "text": [
      "[I 2025-05-14 18:10:19,330] Trial 23 pruned. Trial was pruned at iteration 3.\n"
     ]
    },
    {
     "name": "stderr",
     "output_type": "stream",
     "text": [
      "[I 2025-05-14 18:10:20,450] Trial 24 pruned. Trial was pruned at iteration 35.\n"
     ]
    },
    {
     "name": "stderr",
     "output_type": "stream",
     "text": [
      "[I 2025-05-14 18:10:20,588] Trial 25 pruned. Trial was pruned at iteration 0.\n"
     ]
    },
    {
     "name": "stderr",
     "output_type": "stream",
     "text": [
      "[I 2025-05-14 18:10:21,464] Trial 26 finished with value: -0.747026 and parameters: {'max_depth': 10, 'min_child_weight': 21, 'subsample': 0.48077761718413903, 'colsample_bynode': 0.21383657180796922, 'learning_rate': 0.2630036136605836}. Best is trial 10 with value: -0.751107.\n"
     ]
    },
    {
     "name": "stderr",
     "output_type": "stream",
     "text": [
      "[I 2025-05-14 18:10:21,612] Trial 27 pruned. Trial was pruned at iteration 0.\n"
     ]
    },
    {
     "name": "stderr",
     "output_type": "stream",
     "text": [
      "[I 2025-05-14 18:10:21,749] Trial 28 pruned. Trial was pruned at iteration 0.\n"
     ]
    },
    {
     "name": "stderr",
     "output_type": "stream",
     "text": [
      "[I 2025-05-14 18:10:21,879] Trial 29 pruned. Trial was pruned at iteration 0.\n"
     ]
    },
    {
     "name": "stderr",
     "output_type": "stream",
     "text": [
      "[I 2025-05-14 18:10:22,030] Trial 30 pruned. Trial was pruned at iteration 1.\n"
     ]
    },
    {
     "name": "stderr",
     "output_type": "stream",
     "text": [
      "[I 2025-05-14 18:10:22,458] Trial 31 pruned. Trial was pruned at iteration 13.\n"
     ]
    },
    {
     "name": "stderr",
     "output_type": "stream",
     "text": [
      "[I 2025-05-14 18:10:22,618] Trial 32 pruned. Trial was pruned at iteration 0.\n"
     ]
    },
    {
     "name": "stderr",
     "output_type": "stream",
     "text": [
      "[I 2025-05-14 18:10:22,772] Trial 33 pruned. Trial was pruned at iteration 0.\n"
     ]
    },
    {
     "name": "stderr",
     "output_type": "stream",
     "text": [
      "[I 2025-05-14 18:10:23,475] Trial 34 pruned. Trial was pruned at iteration 18.\n"
     ]
    },
    {
     "name": "stderr",
     "output_type": "stream",
     "text": [
      "[I 2025-05-14 18:10:24,490] Trial 35 finished with value: -0.743758 and parameters: {'max_depth': 19, 'min_child_weight': 18, 'subsample': 0.8326392271190275, 'colsample_bynode': 0.38129333344794925, 'learning_rate': 0.30800504503546094}. Best is trial 10 with value: -0.751107.\n"
     ]
    },
    {
     "name": "stderr",
     "output_type": "stream",
     "text": [
      "[I 2025-05-14 18:10:24,663] Trial 36 pruned. Trial was pruned at iteration 0.\n"
     ]
    },
    {
     "name": "stderr",
     "output_type": "stream",
     "text": [
      "[I 2025-05-14 18:10:24,829] Trial 37 pruned. Trial was pruned at iteration 0.\n"
     ]
    },
    {
     "name": "stderr",
     "output_type": "stream",
     "text": [
      "[I 2025-05-14 18:10:24,992] Trial 38 pruned. Trial was pruned at iteration 0.\n"
     ]
    },
    {
     "name": "stderr",
     "output_type": "stream",
     "text": [
      "[I 2025-05-14 18:10:25,159] Trial 39 pruned. Trial was pruned at iteration 0.\n"
     ]
    },
    {
     "name": "stderr",
     "output_type": "stream",
     "text": [
      "[I 2025-05-14 18:10:25,321] Trial 40 pruned. Trial was pruned at iteration 0.\n"
     ]
    },
    {
     "name": "stderr",
     "output_type": "stream",
     "text": [
      "[I 2025-05-14 18:10:26,159] Trial 41 pruned. Trial was pruned at iteration 28.\n"
     ]
    },
    {
     "name": "stderr",
     "output_type": "stream",
     "text": [
      "[I 2025-05-14 18:10:26,303] Trial 42 pruned. Trial was pruned at iteration 0.\n"
     ]
    },
    {
     "name": "stderr",
     "output_type": "stream",
     "text": [
      "[I 2025-05-14 18:10:26,469] Trial 43 pruned. Trial was pruned at iteration 0.\n"
     ]
    },
    {
     "name": "stderr",
     "output_type": "stream",
     "text": [
      "[I 2025-05-14 18:10:26,625] Trial 44 pruned. Trial was pruned at iteration 0.\n"
     ]
    },
    {
     "name": "stderr",
     "output_type": "stream",
     "text": [
      "[I 2025-05-14 18:10:28,803] Trial 45 pruned. Trial was pruned at iteration 24.\n"
     ]
    },
    {
     "name": "stderr",
     "output_type": "stream",
     "text": [
      "[I 2025-05-14 18:10:28,943] Trial 46 pruned. Trial was pruned at iteration 0.\n"
     ]
    },
    {
     "name": "stderr",
     "output_type": "stream",
     "text": [
      "[I 2025-05-14 18:10:29,121] Trial 47 pruned. Trial was pruned at iteration 3.\n"
     ]
    },
    {
     "name": "stderr",
     "output_type": "stream",
     "text": [
      "[I 2025-05-14 18:10:29,253] Trial 48 pruned. Trial was pruned at iteration 0.\n"
     ]
    },
    {
     "name": "stderr",
     "output_type": "stream",
     "text": [
      "[I 2025-05-14 18:10:30,266] Trial 49 finished with value: -0.761353 and parameters: {'max_depth': 4, 'min_child_weight': 11, 'subsample': 0.8009681134818466, 'colsample_bynode': 0.2922501431865158, 'learning_rate': 0.31343189291925083}. Best is trial 49 with value: -0.761353.\n"
     ]
    }
   ],
   "source": [
    "sampler = optuna.samplers.TPESampler(seed=42)\n",
    "study = optuna.create_study(direction='minimize', sampler=sampler)\n",
    "study.optimize(objective, n_trials=N_TRIALS, gc_after_trial=True)"
   ]
  },
  {
   "cell_type": "code",
   "execution_count": 20,
   "id": "8a1f6257",
   "metadata": {
    "execution": {
     "iopub.execute_input": "2025-05-14T16:10:30.408800Z",
     "iopub.status.busy": "2025-05-14T16:10:30.408603Z",
     "iopub.status.idle": "2025-05-14T16:10:30.453514Z",
     "shell.execute_reply": "2025-05-14T16:10:30.453199Z"
    },
    "papermill": {
     "duration": 0.084918,
     "end_time": "2025-05-14T16:10:30.454437",
     "exception": false,
     "start_time": "2025-05-14T16:10:30.369519",
     "status": "completed"
    },
    "tags": []
   },
   "outputs": [
    {
     "data": {
      "text/plain": [
       "['/scratch_isilon/groups/singlecell/shared/projects/Inflammation-PBMCs-Atlas/03_downstream_analysis/08_gene_importance/xgboost_external_validation/xgboost_TopN_genes/results_20/study/DC_shap_disease_NOstudy_2_xgboost.pkl']"
      ]
     },
     "execution_count": 20,
     "metadata": {},
     "output_type": "execute_result"
    }
   ],
   "source": [
    "out_dir = here(f'03_downstream_analysis/08_gene_importance/xgboost_external_validation/xgboost_TopN_genes/results_{N_GENES}/study')\n",
    "\n",
    "if not os.path.exists(out_dir):\n",
    "    os.makedirs(out_dir)\n",
    "    \n",
    "joblib.dump(study,os.path.join(out_dir, f'{CELL_TYPE}_{SEED}_{TEST_SPLIT_IDX}_xgboost.pkl'))"
   ]
  },
  {
   "cell_type": "code",
   "execution_count": 21,
   "id": "644012d7",
   "metadata": {
    "execution": {
     "iopub.execute_input": "2025-05-14T16:10:30.474067Z",
     "iopub.status.busy": "2025-05-14T16:10:30.473605Z",
     "iopub.status.idle": "2025-05-14T16:10:31.208015Z",
     "shell.execute_reply": "2025-05-14T16:10:31.207625Z"
    },
    "papermill": {
     "duration": 0.745135,
     "end_time": "2025-05-14T16:10:31.209182",
     "exception": false,
     "start_time": "2025-05-14T16:10:30.464047",
     "status": "completed"
    },
    "tags": []
   },
   "outputs": [
    {
     "data": {
      "text/html": [
       "<style>#sk-container-id-1 {\n",
       "  /* Definition of color scheme common for light and dark mode */\n",
       "  --sklearn-color-text: black;\n",
       "  --sklearn-color-line: gray;\n",
       "  /* Definition of color scheme for unfitted estimators */\n",
       "  --sklearn-color-unfitted-level-0: #fff5e6;\n",
       "  --sklearn-color-unfitted-level-1: #f6e4d2;\n",
       "  --sklearn-color-unfitted-level-2: #ffe0b3;\n",
       "  --sklearn-color-unfitted-level-3: chocolate;\n",
       "  /* Definition of color scheme for fitted estimators */\n",
       "  --sklearn-color-fitted-level-0: #f0f8ff;\n",
       "  --sklearn-color-fitted-level-1: #d4ebff;\n",
       "  --sklearn-color-fitted-level-2: #b3dbfd;\n",
       "  --sklearn-color-fitted-level-3: cornflowerblue;\n",
       "\n",
       "  /* Specific color for light theme */\n",
       "  --sklearn-color-text-on-default-background: var(--sg-text-color, var(--theme-code-foreground, var(--jp-content-font-color1, black)));\n",
       "  --sklearn-color-background: var(--sg-background-color, var(--theme-background, var(--jp-layout-color0, white)));\n",
       "  --sklearn-color-border-box: var(--sg-text-color, var(--theme-code-foreground, var(--jp-content-font-color1, black)));\n",
       "  --sklearn-color-icon: #696969;\n",
       "\n",
       "  @media (prefers-color-scheme: dark) {\n",
       "    /* Redefinition of color scheme for dark theme */\n",
       "    --sklearn-color-text-on-default-background: var(--sg-text-color, var(--theme-code-foreground, var(--jp-content-font-color1, white)));\n",
       "    --sklearn-color-background: var(--sg-background-color, var(--theme-background, var(--jp-layout-color0, #111)));\n",
       "    --sklearn-color-border-box: var(--sg-text-color, var(--theme-code-foreground, var(--jp-content-font-color1, white)));\n",
       "    --sklearn-color-icon: #878787;\n",
       "  }\n",
       "}\n",
       "\n",
       "#sk-container-id-1 {\n",
       "  color: var(--sklearn-color-text);\n",
       "}\n",
       "\n",
       "#sk-container-id-1 pre {\n",
       "  padding: 0;\n",
       "}\n",
       "\n",
       "#sk-container-id-1 input.sk-hidden--visually {\n",
       "  border: 0;\n",
       "  clip: rect(1px 1px 1px 1px);\n",
       "  clip: rect(1px, 1px, 1px, 1px);\n",
       "  height: 1px;\n",
       "  margin: -1px;\n",
       "  overflow: hidden;\n",
       "  padding: 0;\n",
       "  position: absolute;\n",
       "  width: 1px;\n",
       "}\n",
       "\n",
       "#sk-container-id-1 div.sk-dashed-wrapped {\n",
       "  border: 1px dashed var(--sklearn-color-line);\n",
       "  margin: 0 0.4em 0.5em 0.4em;\n",
       "  box-sizing: border-box;\n",
       "  padding-bottom: 0.4em;\n",
       "  background-color: var(--sklearn-color-background);\n",
       "}\n",
       "\n",
       "#sk-container-id-1 div.sk-container {\n",
       "  /* jupyter's `normalize.less` sets `[hidden] { display: none; }`\n",
       "     but bootstrap.min.css set `[hidden] { display: none !important; }`\n",
       "     so we also need the `!important` here to be able to override the\n",
       "     default hidden behavior on the sphinx rendered scikit-learn.org.\n",
       "     See: https://github.com/scikit-learn/scikit-learn/issues/21755 */\n",
       "  display: inline-block !important;\n",
       "  position: relative;\n",
       "}\n",
       "\n",
       "#sk-container-id-1 div.sk-text-repr-fallback {\n",
       "  display: none;\n",
       "}\n",
       "\n",
       "div.sk-parallel-item,\n",
       "div.sk-serial,\n",
       "div.sk-item {\n",
       "  /* draw centered vertical line to link estimators */\n",
       "  background-image: linear-gradient(var(--sklearn-color-text-on-default-background), var(--sklearn-color-text-on-default-background));\n",
       "  background-size: 2px 100%;\n",
       "  background-repeat: no-repeat;\n",
       "  background-position: center center;\n",
       "}\n",
       "\n",
       "/* Parallel-specific style estimator block */\n",
       "\n",
       "#sk-container-id-1 div.sk-parallel-item::after {\n",
       "  content: \"\";\n",
       "  width: 100%;\n",
       "  border-bottom: 2px solid var(--sklearn-color-text-on-default-background);\n",
       "  flex-grow: 1;\n",
       "}\n",
       "\n",
       "#sk-container-id-1 div.sk-parallel {\n",
       "  display: flex;\n",
       "  align-items: stretch;\n",
       "  justify-content: center;\n",
       "  background-color: var(--sklearn-color-background);\n",
       "  position: relative;\n",
       "}\n",
       "\n",
       "#sk-container-id-1 div.sk-parallel-item {\n",
       "  display: flex;\n",
       "  flex-direction: column;\n",
       "}\n",
       "\n",
       "#sk-container-id-1 div.sk-parallel-item:first-child::after {\n",
       "  align-self: flex-end;\n",
       "  width: 50%;\n",
       "}\n",
       "\n",
       "#sk-container-id-1 div.sk-parallel-item:last-child::after {\n",
       "  align-self: flex-start;\n",
       "  width: 50%;\n",
       "}\n",
       "\n",
       "#sk-container-id-1 div.sk-parallel-item:only-child::after {\n",
       "  width: 0;\n",
       "}\n",
       "\n",
       "/* Serial-specific style estimator block */\n",
       "\n",
       "#sk-container-id-1 div.sk-serial {\n",
       "  display: flex;\n",
       "  flex-direction: column;\n",
       "  align-items: center;\n",
       "  background-color: var(--sklearn-color-background);\n",
       "  padding-right: 1em;\n",
       "  padding-left: 1em;\n",
       "}\n",
       "\n",
       "\n",
       "/* Toggleable style: style used for estimator/Pipeline/ColumnTransformer box that is\n",
       "clickable and can be expanded/collapsed.\n",
       "- Pipeline and ColumnTransformer use this feature and define the default style\n",
       "- Estimators will overwrite some part of the style using the `sk-estimator` class\n",
       "*/\n",
       "\n",
       "/* Pipeline and ColumnTransformer style (default) */\n",
       "\n",
       "#sk-container-id-1 div.sk-toggleable {\n",
       "  /* Default theme specific background. It is overwritten whether we have a\n",
       "  specific estimator or a Pipeline/ColumnTransformer */\n",
       "  background-color: var(--sklearn-color-background);\n",
       "}\n",
       "\n",
       "/* Toggleable label */\n",
       "#sk-container-id-1 label.sk-toggleable__label {\n",
       "  cursor: pointer;\n",
       "  display: block;\n",
       "  width: 100%;\n",
       "  margin-bottom: 0;\n",
       "  padding: 0.5em;\n",
       "  box-sizing: border-box;\n",
       "  text-align: center;\n",
       "}\n",
       "\n",
       "#sk-container-id-1 label.sk-toggleable__label-arrow:before {\n",
       "  /* Arrow on the left of the label */\n",
       "  content: \"▸\";\n",
       "  float: left;\n",
       "  margin-right: 0.25em;\n",
       "  color: var(--sklearn-color-icon);\n",
       "}\n",
       "\n",
       "#sk-container-id-1 label.sk-toggleable__label-arrow:hover:before {\n",
       "  color: var(--sklearn-color-text);\n",
       "}\n",
       "\n",
       "/* Toggleable content - dropdown */\n",
       "\n",
       "#sk-container-id-1 div.sk-toggleable__content {\n",
       "  max-height: 0;\n",
       "  max-width: 0;\n",
       "  overflow: hidden;\n",
       "  text-align: left;\n",
       "  /* unfitted */\n",
       "  background-color: var(--sklearn-color-unfitted-level-0);\n",
       "}\n",
       "\n",
       "#sk-container-id-1 div.sk-toggleable__content.fitted {\n",
       "  /* fitted */\n",
       "  background-color: var(--sklearn-color-fitted-level-0);\n",
       "}\n",
       "\n",
       "#sk-container-id-1 div.sk-toggleable__content pre {\n",
       "  margin: 0.2em;\n",
       "  border-radius: 0.25em;\n",
       "  color: var(--sklearn-color-text);\n",
       "  /* unfitted */\n",
       "  background-color: var(--sklearn-color-unfitted-level-0);\n",
       "}\n",
       "\n",
       "#sk-container-id-1 div.sk-toggleable__content.fitted pre {\n",
       "  /* unfitted */\n",
       "  background-color: var(--sklearn-color-fitted-level-0);\n",
       "}\n",
       "\n",
       "#sk-container-id-1 input.sk-toggleable__control:checked~div.sk-toggleable__content {\n",
       "  /* Expand drop-down */\n",
       "  max-height: 200px;\n",
       "  max-width: 100%;\n",
       "  overflow: auto;\n",
       "}\n",
       "\n",
       "#sk-container-id-1 input.sk-toggleable__control:checked~label.sk-toggleable__label-arrow:before {\n",
       "  content: \"▾\";\n",
       "}\n",
       "\n",
       "/* Pipeline/ColumnTransformer-specific style */\n",
       "\n",
       "#sk-container-id-1 div.sk-label input.sk-toggleable__control:checked~label.sk-toggleable__label {\n",
       "  color: var(--sklearn-color-text);\n",
       "  background-color: var(--sklearn-color-unfitted-level-2);\n",
       "}\n",
       "\n",
       "#sk-container-id-1 div.sk-label.fitted input.sk-toggleable__control:checked~label.sk-toggleable__label {\n",
       "  background-color: var(--sklearn-color-fitted-level-2);\n",
       "}\n",
       "\n",
       "/* Estimator-specific style */\n",
       "\n",
       "/* Colorize estimator box */\n",
       "#sk-container-id-1 div.sk-estimator input.sk-toggleable__control:checked~label.sk-toggleable__label {\n",
       "  /* unfitted */\n",
       "  background-color: var(--sklearn-color-unfitted-level-2);\n",
       "}\n",
       "\n",
       "#sk-container-id-1 div.sk-estimator.fitted input.sk-toggleable__control:checked~label.sk-toggleable__label {\n",
       "  /* fitted */\n",
       "  background-color: var(--sklearn-color-fitted-level-2);\n",
       "}\n",
       "\n",
       "#sk-container-id-1 div.sk-label label.sk-toggleable__label,\n",
       "#sk-container-id-1 div.sk-label label {\n",
       "  /* The background is the default theme color */\n",
       "  color: var(--sklearn-color-text-on-default-background);\n",
       "}\n",
       "\n",
       "/* On hover, darken the color of the background */\n",
       "#sk-container-id-1 div.sk-label:hover label.sk-toggleable__label {\n",
       "  color: var(--sklearn-color-text);\n",
       "  background-color: var(--sklearn-color-unfitted-level-2);\n",
       "}\n",
       "\n",
       "/* Label box, darken color on hover, fitted */\n",
       "#sk-container-id-1 div.sk-label.fitted:hover label.sk-toggleable__label.fitted {\n",
       "  color: var(--sklearn-color-text);\n",
       "  background-color: var(--sklearn-color-fitted-level-2);\n",
       "}\n",
       "\n",
       "/* Estimator label */\n",
       "\n",
       "#sk-container-id-1 div.sk-label label {\n",
       "  font-family: monospace;\n",
       "  font-weight: bold;\n",
       "  display: inline-block;\n",
       "  line-height: 1.2em;\n",
       "}\n",
       "\n",
       "#sk-container-id-1 div.sk-label-container {\n",
       "  text-align: center;\n",
       "}\n",
       "\n",
       "/* Estimator-specific */\n",
       "#sk-container-id-1 div.sk-estimator {\n",
       "  font-family: monospace;\n",
       "  border: 1px dotted var(--sklearn-color-border-box);\n",
       "  border-radius: 0.25em;\n",
       "  box-sizing: border-box;\n",
       "  margin-bottom: 0.5em;\n",
       "  /* unfitted */\n",
       "  background-color: var(--sklearn-color-unfitted-level-0);\n",
       "}\n",
       "\n",
       "#sk-container-id-1 div.sk-estimator.fitted {\n",
       "  /* fitted */\n",
       "  background-color: var(--sklearn-color-fitted-level-0);\n",
       "}\n",
       "\n",
       "/* on hover */\n",
       "#sk-container-id-1 div.sk-estimator:hover {\n",
       "  /* unfitted */\n",
       "  background-color: var(--sklearn-color-unfitted-level-2);\n",
       "}\n",
       "\n",
       "#sk-container-id-1 div.sk-estimator.fitted:hover {\n",
       "  /* fitted */\n",
       "  background-color: var(--sklearn-color-fitted-level-2);\n",
       "}\n",
       "\n",
       "/* Specification for estimator info (e.g. \"i\" and \"?\") */\n",
       "\n",
       "/* Common style for \"i\" and \"?\" */\n",
       "\n",
       ".sk-estimator-doc-link,\n",
       "a:link.sk-estimator-doc-link,\n",
       "a:visited.sk-estimator-doc-link {\n",
       "  float: right;\n",
       "  font-size: smaller;\n",
       "  line-height: 1em;\n",
       "  font-family: monospace;\n",
       "  background-color: var(--sklearn-color-background);\n",
       "  border-radius: 1em;\n",
       "  height: 1em;\n",
       "  width: 1em;\n",
       "  text-decoration: none !important;\n",
       "  margin-left: 1ex;\n",
       "  /* unfitted */\n",
       "  border: var(--sklearn-color-unfitted-level-1) 1pt solid;\n",
       "  color: var(--sklearn-color-unfitted-level-1);\n",
       "}\n",
       "\n",
       ".sk-estimator-doc-link.fitted,\n",
       "a:link.sk-estimator-doc-link.fitted,\n",
       "a:visited.sk-estimator-doc-link.fitted {\n",
       "  /* fitted */\n",
       "  border: var(--sklearn-color-fitted-level-1) 1pt solid;\n",
       "  color: var(--sklearn-color-fitted-level-1);\n",
       "}\n",
       "\n",
       "/* On hover */\n",
       "div.sk-estimator:hover .sk-estimator-doc-link:hover,\n",
       ".sk-estimator-doc-link:hover,\n",
       "div.sk-label-container:hover .sk-estimator-doc-link:hover,\n",
       ".sk-estimator-doc-link:hover {\n",
       "  /* unfitted */\n",
       "  background-color: var(--sklearn-color-unfitted-level-3);\n",
       "  color: var(--sklearn-color-background);\n",
       "  text-decoration: none;\n",
       "}\n",
       "\n",
       "div.sk-estimator.fitted:hover .sk-estimator-doc-link.fitted:hover,\n",
       ".sk-estimator-doc-link.fitted:hover,\n",
       "div.sk-label-container:hover .sk-estimator-doc-link.fitted:hover,\n",
       ".sk-estimator-doc-link.fitted:hover {\n",
       "  /* fitted */\n",
       "  background-color: var(--sklearn-color-fitted-level-3);\n",
       "  color: var(--sklearn-color-background);\n",
       "  text-decoration: none;\n",
       "}\n",
       "\n",
       "/* Span, style for the box shown on hovering the info icon */\n",
       ".sk-estimator-doc-link span {\n",
       "  display: none;\n",
       "  z-index: 9999;\n",
       "  position: relative;\n",
       "  font-weight: normal;\n",
       "  right: .2ex;\n",
       "  padding: .5ex;\n",
       "  margin: .5ex;\n",
       "  width: min-content;\n",
       "  min-width: 20ex;\n",
       "  max-width: 50ex;\n",
       "  color: var(--sklearn-color-text);\n",
       "  box-shadow: 2pt 2pt 4pt #999;\n",
       "  /* unfitted */\n",
       "  background: var(--sklearn-color-unfitted-level-0);\n",
       "  border: .5pt solid var(--sklearn-color-unfitted-level-3);\n",
       "}\n",
       "\n",
       ".sk-estimator-doc-link.fitted span {\n",
       "  /* fitted */\n",
       "  background: var(--sklearn-color-fitted-level-0);\n",
       "  border: var(--sklearn-color-fitted-level-3);\n",
       "}\n",
       "\n",
       ".sk-estimator-doc-link:hover span {\n",
       "  display: block;\n",
       "}\n",
       "\n",
       "/* \"?\"-specific style due to the `<a>` HTML tag */\n",
       "\n",
       "#sk-container-id-1 a.estimator_doc_link {\n",
       "  float: right;\n",
       "  font-size: 1rem;\n",
       "  line-height: 1em;\n",
       "  font-family: monospace;\n",
       "  background-color: var(--sklearn-color-background);\n",
       "  border-radius: 1rem;\n",
       "  height: 1rem;\n",
       "  width: 1rem;\n",
       "  text-decoration: none;\n",
       "  /* unfitted */\n",
       "  color: var(--sklearn-color-unfitted-level-1);\n",
       "  border: var(--sklearn-color-unfitted-level-1) 1pt solid;\n",
       "}\n",
       "\n",
       "#sk-container-id-1 a.estimator_doc_link.fitted {\n",
       "  /* fitted */\n",
       "  border: var(--sklearn-color-fitted-level-1) 1pt solid;\n",
       "  color: var(--sklearn-color-fitted-level-1);\n",
       "}\n",
       "\n",
       "/* On hover */\n",
       "#sk-container-id-1 a.estimator_doc_link:hover {\n",
       "  /* unfitted */\n",
       "  background-color: var(--sklearn-color-unfitted-level-3);\n",
       "  color: var(--sklearn-color-background);\n",
       "  text-decoration: none;\n",
       "}\n",
       "\n",
       "#sk-container-id-1 a.estimator_doc_link.fitted:hover {\n",
       "  /* fitted */\n",
       "  background-color: var(--sklearn-color-fitted-level-3);\n",
       "}\n",
       "</style><div id=\"sk-container-id-1\" class=\"sk-top-container\"><div class=\"sk-text-repr-fallback\"><pre>XGBClassifier(base_score=None, booster=None, callbacks=None,\n",
       "              colsample_bylevel=None, colsample_bynode=0.2922501431865158,\n",
       "              colsample_bytree=None, device=None, early_stopping_rounds=None,\n",
       "              enable_categorical=False,\n",
       "              eval_metric=&lt;function custom_f1_score at 0x7fa7b5a88040&gt;,\n",
       "              feature_types=None, gamma=None, grow_policy=None,\n",
       "              importance_type=None, interaction_constraints=None,\n",
       "              learning_rate=0.31343189291925083, max_bin=None,\n",
       "              max_cat_threshold=None, max_cat_to_onehot=None,\n",
       "              max_delta_step=None, max_depth=4, max_leaves=None,\n",
       "              min_child_weight=11, missing=nan, monotone_constraints=None,\n",
       "              multi_strategy=None, n_estimators=57, n_jobs=None,\n",
       "              num_parallel_tree=None, objective=&#x27;multi:softprob&#x27;, ...)</pre><b>In a Jupyter environment, please rerun this cell to show the HTML representation or trust the notebook. <br />On GitHub, the HTML representation is unable to render, please try loading this page with nbviewer.org.</b></div><div class=\"sk-container\" hidden><div class=\"sk-item\"><div class=\"sk-estimator fitted sk-toggleable\"><input class=\"sk-toggleable__control sk-hidden--visually\" id=\"sk-estimator-id-1\" type=\"checkbox\" checked><label for=\"sk-estimator-id-1\" class=\"sk-toggleable__label fitted sk-toggleable__label-arrow fitted\">&nbsp;XGBClassifier<span class=\"sk-estimator-doc-link fitted\">i<span>Fitted</span></span></label><div class=\"sk-toggleable__content fitted\"><pre>XGBClassifier(base_score=None, booster=None, callbacks=None,\n",
       "              colsample_bylevel=None, colsample_bynode=0.2922501431865158,\n",
       "              colsample_bytree=None, device=None, early_stopping_rounds=None,\n",
       "              enable_categorical=False,\n",
       "              eval_metric=&lt;function custom_f1_score at 0x7fa7b5a88040&gt;,\n",
       "              feature_types=None, gamma=None, grow_policy=None,\n",
       "              importance_type=None, interaction_constraints=None,\n",
       "              learning_rate=0.31343189291925083, max_bin=None,\n",
       "              max_cat_threshold=None, max_cat_to_onehot=None,\n",
       "              max_delta_step=None, max_depth=4, max_leaves=None,\n",
       "              min_child_weight=11, missing=nan, monotone_constraints=None,\n",
       "              multi_strategy=None, n_estimators=57, n_jobs=None,\n",
       "              num_parallel_tree=None, objective=&#x27;multi:softprob&#x27;, ...)</pre></div> </div></div></div></div>"
      ],
      "text/plain": [
       "XGBClassifier(base_score=None, booster=None, callbacks=None,\n",
       "              colsample_bylevel=None, colsample_bynode=0.2922501431865158,\n",
       "              colsample_bytree=None, device=None, early_stopping_rounds=None,\n",
       "              enable_categorical=False,\n",
       "              eval_metric=<function custom_f1_score at 0x7fa7b5a88040>,\n",
       "              feature_types=None, gamma=None, grow_policy=None,\n",
       "              importance_type=None, interaction_constraints=None,\n",
       "              learning_rate=0.31343189291925083, max_bin=None,\n",
       "              max_cat_threshold=None, max_cat_to_onehot=None,\n",
       "              max_delta_step=None, max_depth=4, max_leaves=None,\n",
       "              min_child_weight=11, missing=nan, monotone_constraints=None,\n",
       "              multi_strategy=None, n_estimators=57, n_jobs=None,\n",
       "              num_parallel_tree=None, objective='multi:softprob', ...)"
      ]
     },
     "execution_count": 21,
     "metadata": {},
     "output_type": "execute_result"
    }
   ],
   "source": [
    "n_estimators = int(study.best_trial.user_attrs['best_iteration']*1.2)\n",
    "xgb = xgboost.XGBClassifier(\n",
    "        eval_metric=eval_metric,\n",
    "        n_estimators=n_estimators,\n",
    "        **study.best_trial.params\n",
    "    )\n",
    "xgb.fit(\n",
    "    ssp.vstack((X_train, X_val)), \n",
    "    np.concatenate((y_train_enc, y_val_enc)),\n",
    "    verbose=1,\n",
    ")"
   ]
  },
  {
   "cell_type": "code",
   "execution_count": 22,
   "id": "3e0547bf",
   "metadata": {
    "execution": {
     "iopub.execute_input": "2025-05-14T16:10:31.229305Z",
     "iopub.status.busy": "2025-05-14T16:10:31.229096Z",
     "iopub.status.idle": "2025-05-14T16:10:31.261730Z",
     "shell.execute_reply": "2025-05-14T16:10:31.261410Z"
    },
    "papermill": {
     "duration": 0.042616,
     "end_time": "2025-05-14T16:10:31.262726",
     "exception": false,
     "start_time": "2025-05-14T16:10:31.220110",
     "status": "completed"
    },
    "tags": []
   },
   "outputs": [
    {
     "data": {
      "text/plain": [
       "['/scratch_isilon/groups/singlecell/shared/projects/Inflammation-PBMCs-Atlas/03_downstream_analysis/08_gene_importance/xgboost_external_validation/xgboost_TopN_genes/results_20/best_model/DC_shap_disease_NOstudy_2_xgb.json']"
      ]
     },
     "execution_count": 22,
     "metadata": {},
     "output_type": "execute_result"
    }
   ],
   "source": [
    "out_dir = here(f'03_downstream_analysis/08_gene_importance/xgboost_external_validation/xgboost_TopN_genes/results_{N_GENES}/best_model')\n",
    "\n",
    "if not os.path.exists(out_dir):\n",
    "    os.makedirs(out_dir)\n",
    "    \n",
    "joblib.dump(xgb, os.path.join(out_dir, f'{CELL_TYPE}_{SEED}_{TEST_SPLIT_IDX}_xgb.json'))"
   ]
  },
  {
   "cell_type": "code",
   "execution_count": 23,
   "id": "6d5d675d",
   "metadata": {
    "execution": {
     "iopub.execute_input": "2025-05-14T16:10:31.421219Z",
     "iopub.status.busy": "2025-05-14T16:10:31.420994Z",
     "iopub.status.idle": "2025-05-14T16:10:31.430838Z",
     "shell.execute_reply": "2025-05-14T16:10:31.430523Z"
    },
    "papermill": {
     "duration": 0.026207,
     "end_time": "2025-05-14T16:10:31.436093",
     "exception": false,
     "start_time": "2025-05-14T16:10:31.409886",
     "status": "completed"
    },
    "tags": []
   },
   "outputs": [],
   "source": [
    "df_pred_test = pd.DataFrame(dict(\n",
    "    cell_id=train_adata.obs.iloc[test_idxs].index.values,\n",
    "    y_true=y_test, \n",
    "    y_true_code=y_test_enc, \n",
    "    y_pred=xgb.predict(X_test))).set_index('cell_id')"
   ]
  },
  {
   "cell_type": "code",
   "execution_count": 24,
   "id": "7e6bb8e6",
   "metadata": {
    "execution": {
     "iopub.execute_input": "2025-05-14T16:10:31.503780Z",
     "iopub.status.busy": "2025-05-14T16:10:31.503400Z",
     "iopub.status.idle": "2025-05-14T16:10:31.519639Z",
     "shell.execute_reply": "2025-05-14T16:10:31.519226Z"
    },
    "papermill": {
     "duration": 0.028365,
     "end_time": "2025-05-14T16:10:31.521051",
     "exception": false,
     "start_time": "2025-05-14T16:10:31.492686",
     "status": "completed"
    },
    "tags": []
   },
   "outputs": [],
   "source": [
    "out_dir = here(f'03_downstream_analysis/08_gene_importance/xgboost_external_validation/xgboost_TopN_genes/results_{N_GENES}/predictions')\n",
    "\n",
    "if not os.path.exists(out_dir):\n",
    "    os.makedirs(out_dir)\n",
    "    \n",
    "df_pred_test.to_csv(os.path.join(out_dir, f'{CELL_TYPE}_{SEED}_{TEST_SPLIT_IDX}_pred_test.zip'))"
   ]
  },
  {
   "cell_type": "code",
   "execution_count": 25,
   "id": "5aa82f5e",
   "metadata": {
    "execution": {
     "iopub.execute_input": "2025-05-14T16:10:31.553298Z",
     "iopub.status.busy": "2025-05-14T16:10:31.552855Z",
     "iopub.status.idle": "2025-05-14T16:10:31.558795Z",
     "shell.execute_reply": "2025-05-14T16:10:31.558493Z"
    },
    "papermill": {
     "duration": 0.028661,
     "end_time": "2025-05-14T16:10:31.559735",
     "exception": false,
     "start_time": "2025-05-14T16:10:31.531074",
     "status": "completed"
    },
    "tags": []
   },
   "outputs": [],
   "source": [
    "metrics_dict = dict(\n",
    "    BAS=balanced_accuracy_score(y_true=df_pred_test.y_true_code, y_pred=df_pred_test.y_pred), WF1=f1_score(y_true=df_pred_test.y_true_code, y_pred=df_pred_test.y_pred,average='weighted'))"
   ]
  },
  {
   "cell_type": "code",
   "execution_count": 26,
   "id": "bb9251b4",
   "metadata": {
    "execution": {
     "iopub.execute_input": "2025-05-14T16:10:31.580551Z",
     "iopub.status.busy": "2025-05-14T16:10:31.580371Z",
     "iopub.status.idle": "2025-05-14T16:10:31.583392Z",
     "shell.execute_reply": "2025-05-14T16:10:31.583072Z"
    },
    "papermill": {
     "duration": 0.014417,
     "end_time": "2025-05-14T16:10:31.584414",
     "exception": false,
     "start_time": "2025-05-14T16:10:31.569997",
     "status": "completed"
    },
    "tags": []
   },
   "outputs": [
    {
     "data": {
      "text/plain": [
       "{'BAS': 0.5762756706626548, 'WF1': 0.8060479707102163}"
      ]
     },
     "execution_count": 26,
     "metadata": {},
     "output_type": "execute_result"
    }
   ],
   "source": [
    "metrics_dict"
   ]
  },
  {
   "cell_type": "code",
   "execution_count": 27,
   "id": "cc50925c",
   "metadata": {
    "execution": {
     "iopub.execute_input": "2025-05-14T16:10:31.605231Z",
     "iopub.status.busy": "2025-05-14T16:10:31.605051Z",
     "iopub.status.idle": "2025-05-14T16:10:31.613279Z",
     "shell.execute_reply": "2025-05-14T16:10:31.612949Z"
    },
    "papermill": {
     "duration": 0.019737,
     "end_time": "2025-05-14T16:10:31.614359",
     "exception": false,
     "start_time": "2025-05-14T16:10:31.594622",
     "status": "completed"
    },
    "tags": []
   },
   "outputs": [
    {
     "data": {
      "text/html": [
       "<div>\n",
       "<style scoped>\n",
       "    .dataframe tbody tr th:only-of-type {\n",
       "        vertical-align: middle;\n",
       "    }\n",
       "\n",
       "    .dataframe tbody tr th {\n",
       "        vertical-align: top;\n",
       "    }\n",
       "\n",
       "    .dataframe thead th {\n",
       "        text-align: right;\n",
       "    }\n",
       "</style>\n",
       "<table border=\"1\" class=\"dataframe\">\n",
       "  <thead>\n",
       "    <tr style=\"text-align: right;\">\n",
       "      <th></th>\n",
       "      <th>BAS</th>\n",
       "      <th>WF1</th>\n",
       "      <th>split_idx</th>\n",
       "      <th>gene_set_seed</th>\n",
       "      <th>cell_type</th>\n",
       "    </tr>\n",
       "  </thead>\n",
       "  <tbody>\n",
       "    <tr>\n",
       "      <th>0</th>\n",
       "      <td>0.576276</td>\n",
       "      <td>0.806048</td>\n",
       "      <td>2</td>\n",
       "      <td>shap_disease_NOstudy</td>\n",
       "      <td>DC</td>\n",
       "    </tr>\n",
       "  </tbody>\n",
       "</table>\n",
       "</div>"
      ],
      "text/plain": [
       "        BAS       WF1  split_idx         gene_set_seed cell_type\n",
       "0  0.576276  0.806048          2  shap_disease_NOstudy        DC"
      ]
     },
     "execution_count": 27,
     "metadata": {},
     "output_type": "execute_result"
    }
   ],
   "source": [
    "metrics_df = pd.DataFrame.from_dict([metrics_dict]).assign(split_idx=TEST_SPLIT_IDX, gene_set_seed=SEED, cell_type=CELL_TYPE)\n",
    "metrics_df"
   ]
  },
  {
   "cell_type": "code",
   "execution_count": 28,
   "id": "8947526c",
   "metadata": {
    "execution": {
     "iopub.execute_input": "2025-05-14T16:10:31.636023Z",
     "iopub.status.busy": "2025-05-14T16:10:31.635827Z",
     "iopub.status.idle": "2025-05-14T16:10:31.644896Z",
     "shell.execute_reply": "2025-05-14T16:10:31.644467Z"
    },
    "papermill": {
     "duration": 0.021585,
     "end_time": "2025-05-14T16:10:31.646206",
     "exception": false,
     "start_time": "2025-05-14T16:10:31.624621",
     "status": "completed"
    },
    "tags": []
   },
   "outputs": [],
   "source": [
    "out_dir = here(f'03_downstream_analysis/08_gene_importance/xgboost_external_validation/xgboost_TopN_genes/results_{N_GENES}/metrics')\n",
    "\n",
    "if not os.path.exists(out_dir):\n",
    "    os.makedirs(out_dir)\n",
    "    \n",
    "metrics_df.to_csv(os.path.join(out_dir, f'{CELL_TYPE}_{SEED}_{TEST_SPLIT_IDX}_metrics.zip'))"
   ]
  }
 ],
 "metadata": {
  "kernelspec": {
   "display_name": "Python 3 (ipykernel)",
   "language": "python",
   "name": "python3"
  },
  "language_info": {
   "codemirror_mode": {
    "name": "ipython",
    "version": 3
   },
   "file_extension": ".py",
   "mimetype": "text/x-python",
   "name": "python",
   "nbconvert_exporter": "python",
   "pygments_lexer": "ipython3",
   "version": "3.12.5"
  },
  "papermill": {
   "default_parameters": {},
   "duration": 40.965974,
   "end_time": "2025-05-14T16:10:32.373715",
   "environment_variables": {},
   "exception": null,
   "input_path": "02_xgboost_fitting_external_20genes.ipynb",
   "output_path": "results_20/executed_notebooks/xgboost_fitting_external_CT_DC_GS_shap_disease_NOstudy_seed2.ipynb",
   "parameters": {
    "CELL_TYPE": "DC",
    "SEED": "shap_disease_NOstudy",
    "TEST_SPLIT_IDX": 2
   },
   "start_time": "2025-05-14T16:09:51.407741",
   "version": "2.6.0"
  }
 },
 "nbformat": 4,
 "nbformat_minor": 5
}