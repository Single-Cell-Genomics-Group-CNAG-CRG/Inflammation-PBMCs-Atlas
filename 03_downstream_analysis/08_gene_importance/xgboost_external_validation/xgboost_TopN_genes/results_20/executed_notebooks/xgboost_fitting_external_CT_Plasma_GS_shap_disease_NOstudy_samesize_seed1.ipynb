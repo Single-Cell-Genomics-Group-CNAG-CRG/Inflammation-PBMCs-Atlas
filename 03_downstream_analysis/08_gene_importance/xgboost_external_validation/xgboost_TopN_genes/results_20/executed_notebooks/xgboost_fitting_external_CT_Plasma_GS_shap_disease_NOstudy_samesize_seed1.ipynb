{
 "cells": [
  {
   "cell_type": "code",
   "execution_count": 1,
   "id": "55125a05",
   "metadata": {
    "editable": true,
    "execution": {
     "iopub.execute_input": "2025-06-13T13:10:03.319515Z",
     "iopub.status.busy": "2025-06-13T13:10:03.319265Z",
     "iopub.status.idle": "2025-06-13T13:10:03.322155Z",
     "shell.execute_reply": "2025-06-13T13:10:03.321778Z"
    },
    "papermill": {
     "duration": 0.011853,
     "end_time": "2025-06-13T13:10:03.323289",
     "exception": false,
     "start_time": "2025-06-13T13:10:03.311436",
     "status": "completed"
    },
    "slideshow": {
     "slide_type": ""
    },
    "tags": [
     "parameters"
    ]
   },
   "outputs": [],
   "source": [
    "CELL_TYPE = 'pDC'\n",
    "N_GENES: int = 20\n",
    "SEED = 'shap_studyID' #'disease_NOstudy' 'study_NOdisease' or 'int' or 'shap_studyID'\n",
    "TEST_SPLIT_IDX: int = 1 #[0,4]"
   ]
  },
  {
   "cell_type": "code",
   "execution_count": 2,
   "id": "1ee2e88e",
   "metadata": {
    "execution": {
     "iopub.execute_input": "2025-06-13T13:10:03.334734Z",
     "iopub.status.busy": "2025-06-13T13:10:03.334518Z",
     "iopub.status.idle": "2025-06-13T13:10:03.336866Z",
     "shell.execute_reply": "2025-06-13T13:10:03.336486Z"
    },
    "papermill": {
     "duration": 0.009091,
     "end_time": "2025-06-13T13:10:03.337776",
     "exception": false,
     "start_time": "2025-06-13T13:10:03.328685",
     "status": "completed"
    },
    "tags": [
     "injected-parameters"
    ]
   },
   "outputs": [],
   "source": [
    "# Parameters\n",
    "CELL_TYPE = \"Plasma\"\n",
    "SEED = \"shap_disease_NOstudy_samesize\"\n",
    "TEST_SPLIT_IDX = 1\n"
   ]
  },
  {
   "cell_type": "code",
   "execution_count": 3,
   "id": "5db06b66",
   "metadata": {
    "execution": {
     "iopub.execute_input": "2025-06-13T13:10:03.348796Z",
     "iopub.status.busy": "2025-06-13T13:10:03.348613Z",
     "iopub.status.idle": "2025-06-13T13:10:03.350890Z",
     "shell.execute_reply": "2025-06-13T13:10:03.350553Z"
    },
    "papermill": {
     "duration": 0.009145,
     "end_time": "2025-06-13T13:10:03.351847",
     "exception": false,
     "start_time": "2025-06-13T13:10:03.342702",
     "status": "completed"
    },
    "tags": []
   },
   "outputs": [],
   "source": [
    "N_SPLITS: int = 5\n",
    "N_TRIALS: int = 50"
   ]
  },
  {
   "cell_type": "code",
   "execution_count": 4,
   "id": "a399aab1",
   "metadata": {
    "execution": {
     "iopub.execute_input": "2025-06-13T13:10:03.363817Z",
     "iopub.status.busy": "2025-06-13T13:10:03.363629Z",
     "iopub.status.idle": "2025-06-13T13:10:04.815620Z",
     "shell.execute_reply": "2025-06-13T13:10:04.815057Z"
    },
    "papermill": {
     "duration": 1.46012,
     "end_time": "2025-06-13T13:10:04.817051",
     "exception": false,
     "start_time": "2025-06-13T13:10:03.356931",
     "status": "completed"
    },
    "tags": []
   },
   "outputs": [],
   "source": [
    "import os\n",
    "import sys\n",
    "from pyprojroot.here import here\n",
    "import pandas as pd\n",
    "import anndata as ad\n",
    "import numpy as np\n",
    "import math\n",
    "from sklearn.model_selection import StratifiedGroupKFold\n",
    "from sklearn.preprocessing import LabelEncoder\n",
    "from sklearn.metrics import f1_score\n",
    "import matplotlib.pyplot as plt\n",
    "import seaborn as sns\n",
    "from itertools import product\n",
    "from sklearn.metrics import balanced_accuracy_score, f1_score\n",
    "import optuna\n",
    "\n",
    "import joblib\n",
    "import pickle\n",
    "import datetime\n",
    "\n",
    "import collections\n",
    "\n",
    "import xgboost\n",
    "from sklearn.preprocessing import LabelEncoder\n",
    "\n",
    "import scipy.sparse as ssp\n",
    "import joblib\n",
    "\n",
    "from dotenv import load_dotenv"
   ]
  },
  {
   "cell_type": "code",
   "execution_count": 5,
   "id": "1a81aee9",
   "metadata": {
    "execution": {
     "iopub.execute_input": "2025-06-13T13:10:04.829185Z",
     "iopub.status.busy": "2025-06-13T13:10:04.828811Z",
     "iopub.status.idle": "2025-06-13T13:10:04.834834Z",
     "shell.execute_reply": "2025-06-13T13:10:04.834435Z"
    },
    "papermill": {
     "duration": 0.013314,
     "end_time": "2025-06-13T13:10:04.836036",
     "exception": false,
     "start_time": "2025-06-13T13:10:04.822722",
     "status": "completed"
    },
    "tags": []
   },
   "outputs": [
    {
     "data": {
      "text/plain": [
       "True"
      ]
     },
     "execution_count": 5,
     "metadata": {},
     "output_type": "execute_result"
    }
   ],
   "source": [
    "load_dotenv()"
   ]
  },
  {
   "cell_type": "markdown",
   "id": "aaf812d2",
   "metadata": {
    "papermill": {
     "duration": 0.00552,
     "end_time": "2025-06-13T13:10:04.847075",
     "exception": false,
     "start_time": "2025-06-13T13:10:04.841555",
     "status": "completed"
    },
    "tags": []
   },
   "source": [
    "# LOAD DATASET"
   ]
  },
  {
   "cell_type": "code",
   "execution_count": 6,
   "id": "c685f004",
   "metadata": {
    "execution": {
     "iopub.execute_input": "2025-06-13T13:10:04.858956Z",
     "iopub.status.busy": "2025-06-13T13:10:04.858486Z",
     "iopub.status.idle": "2025-06-13T13:10:04.900174Z",
     "shell.execute_reply": "2025-06-13T13:10:04.899775Z"
    },
    "papermill": {
     "duration": 0.048712,
     "end_time": "2025-06-13T13:10:04.901325",
     "exception": false,
     "start_time": "2025-06-13T13:10:04.852613",
     "status": "completed"
    },
    "tags": []
   },
   "outputs": [],
   "source": [
    "train_adata = ad.read_h5ad(\n",
    "    here(f'03_downstream_analysis/08_gene_importance/xgboost_external_validation/xgboost_TopN_genes/data_cellTypes/EXTERNAL_{CELL_TYPE}.filtered.log1p.h5ad')\n",
    ")"
   ]
  },
  {
   "cell_type": "code",
   "execution_count": 7,
   "id": "2e2e35f8",
   "metadata": {
    "execution": {
     "iopub.execute_input": "2025-06-13T13:10:04.912948Z",
     "iopub.status.busy": "2025-06-13T13:10:04.912741Z",
     "iopub.status.idle": "2025-06-13T13:10:04.923726Z",
     "shell.execute_reply": "2025-06-13T13:10:04.923250Z"
    },
    "papermill": {
     "duration": 0.017876,
     "end_time": "2025-06-13T13:10:04.924756",
     "exception": false,
     "start_time": "2025-06-13T13:10:04.906880",
     "status": "completed"
    },
    "tags": []
   },
   "outputs": [
    {
     "name": "stdout",
     "output_type": "stream",
     "text": [
      "['ENSG00000011422' 'ENSG00000011600' 'ENSG00000015475' 'ENSG00000019582'\n",
      " 'ENSG00000026103' 'ENSG00000038427' 'ENSG00000051108' 'ENSG00000069399'\n",
      " 'ENSG00000075426' 'ENSG00000076662' 'ENSG00000077380' 'ENSG00000100097'\n",
      " 'ENSG00000100280' 'ENSG00000100368' 'ENSG00000100664' 'ENSG00000100906'\n",
      " 'ENSG00000101350' 'ENSG00000101439' 'ENSG00000102524' 'ENSG00000103522'\n",
      " 'ENSG00000104870' 'ENSG00000105373' 'ENSG00000107968' 'ENSG00000108622'\n",
      " 'ENSG00000109321' 'ENSG00000110057' 'ENSG00000111331' 'ENSG00000112137'\n",
      " 'ENSG00000114013' 'ENSG00000118503' 'ENSG00000118515' 'ENSG00000119535'\n",
      " 'ENSG00000120738' 'ENSG00000120742' 'ENSG00000121774' 'ENSG00000124762'\n",
      " 'ENSG00000125148' 'ENSG00000126267' 'ENSG00000130522' 'ENSG00000130830'\n",
      " 'ENSG00000132002' 'ENSG00000132465' 'ENSG00000134107' 'ENSG00000135404'\n",
      " 'ENSG00000135916' 'ENSG00000136514' 'ENSG00000136732' 'ENSG00000137965'\n",
      " 'ENSG00000139318' 'ENSG00000139514' 'ENSG00000141367' 'ENSG00000141526'\n",
      " 'ENSG00000142208' 'ENSG00000142634' 'ENSG00000143774' 'ENSG00000144802'\n",
      " 'ENSG00000145675' 'ENSG00000150093' 'ENSG00000152495' 'ENSG00000157601'\n",
      " 'ENSG00000158517' 'ENSG00000158769' 'ENSG00000163513' 'ENSG00000163659'\n",
      " 'ENSG00000163660' 'ENSG00000164136' 'ENSG00000164543' 'ENSG00000165527'\n",
      " 'ENSG00000167552' 'ENSG00000168610' 'ENSG00000170017' 'ENSG00000170476'\n",
      " 'ENSG00000170540' 'ENSG00000170581' 'ENSG00000170989' 'ENSG00000171608'\n",
      " 'ENSG00000172005' 'ENSG00000175482' 'ENSG00000176533' 'ENSG00000177606'\n",
      " 'ENSG00000179094' 'ENSG00000179344' 'ENSG00000180008' 'ENSG00000181029'\n",
      " 'ENSG00000182985' 'ENSG00000183508' 'ENSG00000184451' 'ENSG00000184557'\n",
      " 'ENSG00000184897' 'ENSG00000185338' 'ENSG00000186810' 'ENSG00000187608'\n",
      " 'ENSG00000189283' 'ENSG00000196126' 'ENSG00000197061' 'ENSG00000198355'\n",
      " 'ENSG00000198502' 'ENSG00000204257' 'ENSG00000205220' 'ENSG00000211893'\n",
      " 'ENSG00000211896' 'ENSG00000213145' 'ENSG00000213928' 'ENSG00000216490'\n",
      " 'ENSG00000229474' 'ENSG00000234745' 'ENSG00000277443' 'ENSG00000277632']\n"
     ]
    }
   ],
   "source": [
    "if SEED != 'all':\n",
    "    gene_subset = np.load(here(f'03_downstream_analysis/08_gene_importance/xgboost_external_validation/shap_gene_selection/gene_subsets_{N_GENES}/{CELL_TYPE}_{SEED}.npy'), allow_pickle=True)\n",
    "    train_adata = train_adata[:,gene_subset]\n",
    "    print(gene_subset)\n",
    "elif SEED == 'all':\n",
    "    print('Using all genes')\n",
    "else:\n",
    "    raise ValueError()"
   ]
  },
  {
   "cell_type": "code",
   "execution_count": 8,
   "id": "c4aca6d4",
   "metadata": {
    "execution": {
     "iopub.execute_input": "2025-06-13T13:10:04.936390Z",
     "iopub.status.busy": "2025-06-13T13:10:04.936180Z",
     "iopub.status.idle": "2025-06-13T13:10:04.939359Z",
     "shell.execute_reply": "2025-06-13T13:10:04.939014Z"
    },
    "papermill": {
     "duration": 0.009901,
     "end_time": "2025-06-13T13:10:04.940300",
     "exception": false,
     "start_time": "2025-06-13T13:10:04.930399",
     "status": "completed"
    },
    "tags": []
   },
   "outputs": [
    {
     "data": {
      "text/plain": [
       "(542, 108)"
      ]
     },
     "execution_count": 8,
     "metadata": {},
     "output_type": "execute_result"
    }
   ],
   "source": [
    "train_adata.shape"
   ]
  },
  {
   "cell_type": "code",
   "execution_count": 9,
   "id": "ef200a14",
   "metadata": {
    "execution": {
     "iopub.execute_input": "2025-06-13T13:10:04.952155Z",
     "iopub.status.busy": "2025-06-13T13:10:04.951638Z",
     "iopub.status.idle": "2025-06-13T13:10:04.955706Z",
     "shell.execute_reply": "2025-06-13T13:10:04.955333Z"
    },
    "papermill": {
     "duration": 0.010847,
     "end_time": "2025-06-13T13:10:04.956583",
     "exception": false,
     "start_time": "2025-06-13T13:10:04.945736",
     "status": "completed"
    },
    "tags": []
   },
   "outputs": [
    {
     "data": {
      "text/plain": [
       "['RA', 'COVID', 'healthy', 'HIV', 'cirrhosis', 'CD', 'SLE', 'sepsis']\n",
       "Categories (8, object): ['CD', 'COVID', 'HIV', 'RA', 'SLE', 'cirrhosis', 'healthy', 'sepsis']"
      ]
     },
     "execution_count": 9,
     "metadata": {},
     "output_type": "execute_result"
    }
   ],
   "source": [
    "train_adata.obs.disease.unique()"
   ]
  },
  {
   "cell_type": "code",
   "execution_count": 10,
   "id": "55e50612",
   "metadata": {
    "execution": {
     "iopub.execute_input": "2025-06-13T13:10:04.968751Z",
     "iopub.status.busy": "2025-06-13T13:10:04.968345Z",
     "iopub.status.idle": "2025-06-13T13:10:04.972070Z",
     "shell.execute_reply": "2025-06-13T13:10:04.971729Z"
    },
    "papermill": {
     "duration": 0.010805,
     "end_time": "2025-06-13T13:10:04.973029",
     "exception": false,
     "start_time": "2025-06-13T13:10:04.962224",
     "status": "completed"
    },
    "tags": []
   },
   "outputs": [
    {
     "data": {
      "text/plain": [
       "['SCGT00val_I0364_T0', 'SCGT00val_I036019_T0', 'SCGT00val_I036028_T0', 'SCGT00val_I036024_T0', 'SCGT00val_I036016_T0', ..., '10XGenomics_10XHC2_T0', '10XGenomics_10XHC3_T0', '10XGenomics_10XHC5_T0', '10XGenomics_10XHC7_T0', '10XGenomics_10XHC8_T0']\n",
       "Length: 74\n",
       "Categories (74, object): ['10XGenomics_10XHC1_T0', '10XGenomics_10XHC2_T0', '10XGenomics_10XHC3_T0', '10XGenomics_10XHC4_T0', ..., 'Savage2021_BRISL6_T0', 'Savage2021_BRISL7_T0', 'Savage2021_PIDA_T0', 'Savage2021_PIDB_T0']"
      ]
     },
     "execution_count": 10,
     "metadata": {},
     "output_type": "execute_result"
    }
   ],
   "source": [
    "train_adata.obs.sampleID.unique()"
   ]
  },
  {
   "cell_type": "code",
   "execution_count": 11,
   "id": "1948198e",
   "metadata": {
    "execution": {
     "iopub.execute_input": "2025-06-13T13:10:04.984859Z",
     "iopub.status.busy": "2025-06-13T13:10:04.984669Z",
     "iopub.status.idle": "2025-06-13T13:10:05.015220Z",
     "shell.execute_reply": "2025-06-13T13:10:05.014850Z"
    },
    "papermill": {
     "duration": 0.037666,
     "end_time": "2025-06-13T13:10:05.016161",
     "exception": false,
     "start_time": "2025-06-13T13:10:04.978495",
     "status": "completed"
    },
    "tags": []
   },
   "outputs": [],
   "source": [
    "all_idxs = np.arange(train_adata.obs.shape[0])\n",
    "left_out_splits = [s[1] for s in StratifiedGroupKFold(n_splits=N_SPLITS).split(all_idxs, train_adata.obs.disease, train_adata.obs.sampleID)]"
   ]
  },
  {
   "cell_type": "code",
   "execution_count": 12,
   "id": "15b44fa8",
   "metadata": {
    "execution": {
     "iopub.execute_input": "2025-06-13T13:10:05.028193Z",
     "iopub.status.busy": "2025-06-13T13:10:05.027938Z",
     "iopub.status.idle": "2025-06-13T13:10:05.031806Z",
     "shell.execute_reply": "2025-06-13T13:10:05.031462Z"
    },
    "papermill": {
     "duration": 0.011088,
     "end_time": "2025-06-13T13:10:05.032794",
     "exception": false,
     "start_time": "2025-06-13T13:10:05.021706",
     "status": "completed"
    },
    "tags": []
   },
   "outputs": [
    {
     "data": {
      "text/plain": [
       "([0, 3, 4], 2, 1)"
      ]
     },
     "execution_count": 12,
     "metadata": {},
     "output_type": "execute_result"
    }
   ],
   "source": [
    "TRAIN_SPLIT_IDXS = [0,1,2,3,4]\n",
    "VAL_SPLIT_IDX = (TEST_SPLIT_IDX + 1) % 5\n",
    "TRAIN_SPLIT_IDXS.remove(TEST_SPLIT_IDX)\n",
    "TRAIN_SPLIT_IDXS.remove(VAL_SPLIT_IDX)\n",
    "TRAIN_SPLIT_IDXS, VAL_SPLIT_IDX, TEST_SPLIT_IDX"
   ]
  },
  {
   "cell_type": "code",
   "execution_count": 13,
   "id": "e389ebed",
   "metadata": {
    "execution": {
     "iopub.execute_input": "2025-06-13T13:10:05.045406Z",
     "iopub.status.busy": "2025-06-13T13:10:05.045191Z",
     "iopub.status.idle": "2025-06-13T13:10:05.047816Z",
     "shell.execute_reply": "2025-06-13T13:10:05.047463Z"
    },
    "papermill": {
     "duration": 0.010122,
     "end_time": "2025-06-13T13:10:05.048768",
     "exception": false,
     "start_time": "2025-06-13T13:10:05.038646",
     "status": "completed"
    },
    "tags": []
   },
   "outputs": [],
   "source": [
    "train_idxs = np.concatenate([left_out_splits[idx] for idx in TRAIN_SPLIT_IDXS])\n",
    "val_idxs = left_out_splits[VAL_SPLIT_IDX]\n",
    "test_idxs = left_out_splits[TEST_SPLIT_IDX]"
   ]
  },
  {
   "cell_type": "markdown",
   "id": "e485699e",
   "metadata": {
    "papermill": {
     "duration": 0.005649,
     "end_time": "2025-06-13T13:10:05.059896",
     "exception": false,
     "start_time": "2025-06-13T13:10:05.054247",
     "status": "completed"
    },
    "tags": []
   },
   "source": [
    "### SUBSET DATASET INTO TRAIN/TEST/VAL SPLITS"
   ]
  },
  {
   "cell_type": "code",
   "execution_count": 14,
   "id": "1f2c33e0",
   "metadata": {
    "execution": {
     "iopub.execute_input": "2025-06-13T13:10:05.071751Z",
     "iopub.status.busy": "2025-06-13T13:10:05.071561Z",
     "iopub.status.idle": "2025-06-13T13:10:05.078054Z",
     "shell.execute_reply": "2025-06-13T13:10:05.077653Z"
    },
    "papermill": {
     "duration": 0.013618,
     "end_time": "2025-06-13T13:10:05.079170",
     "exception": false,
     "start_time": "2025-06-13T13:10:05.065552",
     "status": "completed"
    },
    "tags": []
   },
   "outputs": [
    {
     "data": {
      "text/plain": [
       "((333, 108), (107, 108), (102, 108))"
      ]
     },
     "execution_count": 14,
     "metadata": {},
     "output_type": "execute_result"
    }
   ],
   "source": [
    "X_train = train_adata.X[train_idxs]\n",
    "X_test = train_adata.X[test_idxs]\n",
    "X_val = train_adata.X[val_idxs]\n",
    "X_train.shape, X_test.shape, X_val.shape"
   ]
  },
  {
   "cell_type": "code",
   "execution_count": 15,
   "id": "88305123",
   "metadata": {
    "execution": {
     "iopub.execute_input": "2025-06-13T13:10:05.091249Z",
     "iopub.status.busy": "2025-06-13T13:10:05.091029Z",
     "iopub.status.idle": "2025-06-13T13:10:05.096193Z",
     "shell.execute_reply": "2025-06-13T13:10:05.095844Z"
    },
    "papermill": {
     "duration": 0.012515,
     "end_time": "2025-06-13T13:10:05.097276",
     "exception": false,
     "start_time": "2025-06-13T13:10:05.084761",
     "status": "completed"
    },
    "tags": []
   },
   "outputs": [
    {
     "data": {
      "text/plain": [
       "((333,), (107,), (102,))"
      ]
     },
     "execution_count": 15,
     "metadata": {},
     "output_type": "execute_result"
    }
   ],
   "source": [
    "y_train = train_adata.obs.iloc[train_idxs].disease.values.astype(str)\n",
    "y_test = train_adata.obs.iloc[test_idxs].disease.values.astype(str)\n",
    "y_val = train_adata.obs.iloc[val_idxs].disease.values.astype(str)\n",
    "y_train.shape, y_test.shape, y_val.shape"
   ]
  },
  {
   "cell_type": "code",
   "execution_count": 16,
   "id": "3e0ffcb6",
   "metadata": {
    "execution": {
     "iopub.execute_input": "2025-06-13T13:10:05.109393Z",
     "iopub.status.busy": "2025-06-13T13:10:05.109087Z",
     "iopub.status.idle": "2025-06-13T13:10:05.112175Z",
     "shell.execute_reply": "2025-06-13T13:10:05.111829Z"
    },
    "papermill": {
     "duration": 0.010292,
     "end_time": "2025-06-13T13:10:05.113111",
     "exception": false,
     "start_time": "2025-06-13T13:10:05.102819",
     "status": "completed"
    },
    "tags": []
   },
   "outputs": [],
   "source": [
    "lenc = LabelEncoder()\n",
    "y_train_enc = lenc.fit_transform(y_train)\n",
    "y_val_enc = lenc.transform(y_val)\n",
    "y_test_enc = lenc.transform(y_test)"
   ]
  },
  {
   "cell_type": "markdown",
   "id": "6e8c566a",
   "metadata": {
    "papermill": {
     "duration": 0.005908,
     "end_time": "2025-06-13T13:10:05.125128",
     "exception": false,
     "start_time": "2025-06-13T13:10:05.119220",
     "status": "completed"
    },
    "tags": []
   },
   "source": [
    "### GENERATE F1 "
   ]
  },
  {
   "cell_type": "code",
   "execution_count": 17,
   "id": "608f360a",
   "metadata": {
    "execution": {
     "iopub.execute_input": "2025-06-13T13:10:05.137207Z",
     "iopub.status.busy": "2025-06-13T13:10:05.137025Z",
     "iopub.status.idle": "2025-06-13T13:10:05.139567Z",
     "shell.execute_reply": "2025-06-13T13:10:05.139181Z"
    },
    "papermill": {
     "duration": 0.009895,
     "end_time": "2025-06-13T13:10:05.140574",
     "exception": false,
     "start_time": "2025-06-13T13:10:05.130679",
     "status": "completed"
    },
    "tags": []
   },
   "outputs": [],
   "source": [
    "def custom_f1_score(y_true, y_pred):\n",
    "    return -f1_score(y_true, y_pred.argmax(1), average='weighted')"
   ]
  },
  {
   "cell_type": "code",
   "execution_count": 18,
   "id": "1ef97069",
   "metadata": {
    "execution": {
     "iopub.execute_input": "2025-06-13T13:10:05.152854Z",
     "iopub.status.busy": "2025-06-13T13:10:05.152573Z",
     "iopub.status.idle": "2025-06-13T13:10:05.156641Z",
     "shell.execute_reply": "2025-06-13T13:10:05.156253Z"
    },
    "papermill": {
     "duration": 0.011227,
     "end_time": "2025-06-13T13:10:05.157560",
     "exception": false,
     "start_time": "2025-06-13T13:10:05.146333",
     "status": "completed"
    },
    "tags": []
   },
   "outputs": [],
   "source": [
    "eval_metric=custom_f1_score\n",
    "eval_metric_name='custom_f1_score'\n",
    "\n",
    "def objective(trial):\n",
    "    params = {\n",
    "        'n_estimators': 1500,\n",
    "        'max_depth': trial.suggest_int('max_depth', 3, 20),\n",
    "        'min_child_weight': trial.suggest_int('min_child_weight', 1, 250),\n",
    "        'subsample': trial.suggest_float('subsample', 0.1, 1.0),\n",
    "        'colsample_bynode': trial.suggest_float('colsample_bynode', 0.1, 1.0),\n",
    "        'learning_rate': trial.suggest_float('learning_rate', 1e-3, 5e-1, log=True),\n",
    "    }\n",
    "    pruning_callback = optuna.integration.XGBoostPruningCallback(trial, f'validation_0-{eval_metric_name}')\n",
    "    es_callback = xgboost.callback.EarlyStopping(20, min_delta=0.001)\n",
    "    xgb = xgboost.XGBClassifier(\n",
    "        eval_metric=eval_metric,\n",
    "        callbacks=[pruning_callback, es_callback],\n",
    "        n_jobs=5,\n",
    "        **params\n",
    "    )\n",
    "    xgb.fit(\n",
    "        X_train, \n",
    "        y_train_enc, \n",
    "        verbose=0,\n",
    "        eval_set=[(X_val, y_val_enc)],\n",
    "    )\n",
    "    trial.set_user_attr('best_iteration', xgb.best_iteration)\n",
    "\n",
    "    return xgb.best_score"
   ]
  },
  {
   "cell_type": "code",
   "execution_count": 19,
   "id": "d1fda549",
   "metadata": {
    "execution": {
     "iopub.execute_input": "2025-06-13T13:10:05.170325Z",
     "iopub.status.busy": "2025-06-13T13:10:05.169851Z",
     "iopub.status.idle": "2025-06-13T13:10:15.328943Z",
     "shell.execute_reply": "2025-06-13T13:10:15.328385Z"
    },
    "papermill": {
     "duration": 10.166359,
     "end_time": "2025-06-13T13:10:15.330111",
     "exception": false,
     "start_time": "2025-06-13T13:10:05.163752",
     "status": "completed"
    },
    "scrolled": true,
    "tags": []
   },
   "outputs": [
    {
     "name": "stderr",
     "output_type": "stream",
     "text": [
      "[I 2025-06-13 15:10:05,171] A new study created in memory with name: no-name-d685755d-d09c-469e-9947-ec53650e455c\n"
     ]
    },
    {
     "name": "stderr",
     "output_type": "stream",
     "text": [
      "[I 2025-06-13 15:10:05,254] Trial 0 finished with value: -0.03313 and parameters: {'max_depth': 9, 'min_child_weight': 238, 'subsample': 0.7587945476302645, 'colsample_bynode': 0.6387926357773329, 'learning_rate': 0.0026368755339723046}. Best is trial 0 with value: -0.03313.\n"
     ]
    },
    {
     "name": "stderr",
     "output_type": "stream",
     "text": [
      "[I 2025-06-13 15:10:05,584] Trial 1 finished with value: -0.37251 and parameters: {'max_depth': 5, 'min_child_weight': 15, 'subsample': 0.8795585311974417, 'colsample_bynode': 0.6410035105688879, 'learning_rate': 0.08148293210105287}. Best is trial 1 with value: -0.37251.\n"
     ]
    },
    {
     "name": "stderr",
     "output_type": "stream",
     "text": [
      "[I 2025-06-13 15:10:05,720] Trial 2 finished with value: -0.03313 and parameters: {'max_depth': 3, 'min_child_weight': 243, 'subsample': 0.8491983767203796, 'colsample_bynode': 0.29110519961044856, 'learning_rate': 0.003095566460242371}. Best is trial 1 with value: -0.37251.\n"
     ]
    },
    {
     "name": "stderr",
     "output_type": "stream",
     "text": [
      "[I 2025-06-13 15:10:05,854] Trial 3 finished with value: -0.03313 and parameters: {'max_depth': 6, 'min_child_weight': 77, 'subsample': 0.5722807884690141, 'colsample_bynode': 0.48875051677790415, 'learning_rate': 0.006109683510122491}. Best is trial 1 with value: -0.37251.\n"
     ]
    },
    {
     "name": "stderr",
     "output_type": "stream",
     "text": [
      "[I 2025-06-13 15:10:06,007] Trial 4 finished with value: -0.03313 and parameters: {'max_depth': 14, 'min_child_weight': 35, 'subsample': 0.3629301836816964, 'colsample_bynode': 0.4297256589643226, 'learning_rate': 0.01701841881702917}. Best is trial 1 with value: -0.37251.\n"
     ]
    },
    {
     "name": "stderr",
     "output_type": "stream",
     "text": [
      "[I 2025-06-13 15:10:06,143] Trial 5 finished with value: -0.03313 and parameters: {'max_depth': 17, 'min_child_weight': 50, 'subsample': 0.5628109945722505, 'colsample_bynode': 0.6331731119758383, 'learning_rate': 0.0013346527038305934}. Best is trial 1 with value: -0.37251.\n"
     ]
    },
    {
     "name": "stderr",
     "output_type": "stream",
     "text": [
      "[I 2025-06-13 15:10:06,302] Trial 6 finished with value: -0.03313 and parameters: {'max_depth': 13, 'min_child_weight': 43, 'subsample': 0.1585464336867516, 'colsample_bynode': 0.9539969835279999, 'learning_rate': 0.4038423798071558}. Best is trial 1 with value: -0.37251.\n"
     ]
    },
    {
     "name": "stderr",
     "output_type": "stream",
     "text": [
      "[I 2025-06-13 15:10:06,441] Trial 7 finished with value: -0.03313 and parameters: {'max_depth': 17, 'min_child_weight': 77, 'subsample': 0.1879049026057455, 'colsample_bynode': 0.7158097238609412, 'learning_rate': 0.015415527060141935}. Best is trial 1 with value: -0.37251.\n"
     ]
    },
    {
     "name": "stderr",
     "output_type": "stream",
     "text": [
      "[I 2025-06-13 15:10:06,594] Trial 8 finished with value: -0.03313 and parameters: {'max_depth': 5, 'min_child_weight': 124, 'subsample': 0.13094966900369656, 'colsample_bynode': 0.9183883618709039, 'learning_rate': 0.004993895014755658}. Best is trial 1 with value: -0.37251.\n"
     ]
    },
    {
     "name": "stderr",
     "output_type": "stream",
     "text": [
      "[I 2025-06-13 15:10:06,731] Trial 9 finished with value: -0.03313 and parameters: {'max_depth': 14, 'min_child_weight': 78, 'subsample': 0.5680612190600297, 'colsample_bynode': 0.5920392514089517, 'learning_rate': 0.0031543990308330965}. Best is trial 1 with value: -0.37251.\n"
     ]
    },
    {
     "name": "stderr",
     "output_type": "stream",
     "text": [
      "[I 2025-06-13 15:10:07,186] Trial 10 finished with value: -0.43446 and parameters: {'max_depth': 9, 'min_child_weight': 2, 'subsample': 0.9725833997090791, 'colsample_bynode': 0.11616568805333755, 'learning_rate': 0.17780618353487967}. Best is trial 10 with value: -0.43446.\n"
     ]
    },
    {
     "name": "stderr",
     "output_type": "stream",
     "text": [
      "[I 2025-06-13 15:10:07,492] Trial 11 finished with value: -0.424907 and parameters: {'max_depth': 9, 'min_child_weight': 4, 'subsample': 0.9818290990185045, 'colsample_bynode': 0.17702656156719, 'learning_rate': 0.11568531411766632}. Best is trial 10 with value: -0.43446.\n"
     ]
    },
    {
     "name": "stderr",
     "output_type": "stream",
     "text": [
      "[I 2025-06-13 15:10:07,897] Trial 12 finished with value: -0.418581 and parameters: {'max_depth': 9, 'min_child_weight': 2, 'subsample': 0.9762317723681219, 'colsample_bynode': 0.1303670507685675, 'learning_rate': 0.14353293664472047}. Best is trial 10 with value: -0.43446.\n"
     ]
    },
    {
     "name": "stderr",
     "output_type": "stream",
     "text": [
      "[I 2025-06-13 15:10:08,053] Trial 13 pruned. Trial was pruned at iteration 20.\n"
     ]
    },
    {
     "name": "stderr",
     "output_type": "stream",
     "text": [
      "[I 2025-06-13 15:10:08,201] Trial 14 pruned. Trial was pruned at iteration 20.\n"
     ]
    },
    {
     "name": "stderr",
     "output_type": "stream",
     "text": [
      "[I 2025-06-13 15:10:08,486] Trial 15 finished with value: -0.388412 and parameters: {'max_depth': 20, 'min_child_weight': 2, 'subsample': 0.719264024177087, 'colsample_bynode': 0.2540835086298475, 'learning_rate': 0.03987682305667138}. Best is trial 10 with value: -0.43446.\n"
     ]
    },
    {
     "name": "stderr",
     "output_type": "stream",
     "text": [
      "[I 2025-06-13 15:10:08,657] Trial 16 finished with value: -0.03313 and parameters: {'max_depth': 11, 'min_child_weight': 125, 'subsample': 0.8815541734801864, 'colsample_bynode': 0.37074095931791284, 'learning_rate': 0.18961687234093502}. Best is trial 10 with value: -0.43446.\n"
     ]
    },
    {
     "name": "stderr",
     "output_type": "stream",
     "text": [
      "[I 2025-06-13 15:10:08,801] Trial 17 pruned. Trial was pruned at iteration 20.\n"
     ]
    },
    {
     "name": "stderr",
     "output_type": "stream",
     "text": [
      "[I 2025-06-13 15:10:08,982] Trial 18 pruned. Trial was pruned at iteration 20.\n"
     ]
    },
    {
     "name": "stderr",
     "output_type": "stream",
     "text": [
      "[I 2025-06-13 15:10:09,137] Trial 19 finished with value: -0.03313 and parameters: {'max_depth': 11, 'min_child_weight': 102, 'subsample': 0.9723428668438461, 'colsample_bynode': 0.3679418363674778, 'learning_rate': 0.03827773069548075}. Best is trial 10 with value: -0.43446.\n"
     ]
    },
    {
     "name": "stderr",
     "output_type": "stream",
     "text": [
      "[I 2025-06-13 15:10:09,308] Trial 20 finished with value: -0.03313 and parameters: {'max_depth': 7, 'min_child_weight': 60, 'subsample': 0.6596113500838445, 'colsample_bynode': 0.20927736326660645, 'learning_rate': 0.25272718592857407}. Best is trial 10 with value: -0.43446.\n"
     ]
    },
    {
     "name": "stderr",
     "output_type": "stream",
     "text": [
      "[I 2025-06-13 15:10:09,702] Trial 21 finished with value: -0.477346 and parameters: {'max_depth': 9, 'min_child_weight': 1, 'subsample': 0.9774164828325145, 'colsample_bynode': 0.10489776969766632, 'learning_rate': 0.12154020308087539}. Best is trial 21 with value: -0.477346.\n"
     ]
    },
    {
     "name": "stderr",
     "output_type": "stream",
     "text": [
      "[I 2025-06-13 15:10:09,871] Trial 22 pruned. Trial was pruned at iteration 20.\n"
     ]
    },
    {
     "name": "stderr",
     "output_type": "stream",
     "text": [
      "[I 2025-06-13 15:10:10,025] Trial 23 pruned. Trial was pruned at iteration 20.\n"
     ]
    },
    {
     "name": "stderr",
     "output_type": "stream",
     "text": [
      "[I 2025-06-13 15:10:10,281] Trial 24 pruned. Trial was pruned at iteration 21.\n"
     ]
    },
    {
     "name": "stderr",
     "output_type": "stream",
     "text": [
      "[I 2025-06-13 15:10:10,434] Trial 25 finished with value: -0.03313 and parameters: {'max_depth': 7, 'min_child_weight': 61, 'subsample': 0.6518609839016476, 'colsample_bynode': 0.19948348190131343, 'learning_rate': 0.025336642287802726}. Best is trial 21 with value: -0.477346.\n"
     ]
    },
    {
     "name": "stderr",
     "output_type": "stream",
     "text": [
      "[I 2025-06-13 15:10:10,604] Trial 26 pruned. Trial was pruned at iteration 20.\n"
     ]
    },
    {
     "name": "stderr",
     "output_type": "stream",
     "text": [
      "[I 2025-06-13 15:10:10,756] Trial 27 finished with value: -0.03313 and parameters: {'max_depth': 5, 'min_child_weight': 100, 'subsample': 0.830994423789636, 'colsample_bynode': 0.13750020087056947, 'learning_rate': 0.05637551706405526}. Best is trial 21 with value: -0.477346.\n"
     ]
    },
    {
     "name": "stderr",
     "output_type": "stream",
     "text": [
      "[I 2025-06-13 15:10:10,920] Trial 28 finished with value: -0.03313 and parameters: {'max_depth': 8, 'min_child_weight': 161, 'subsample': 0.9239274347029691, 'colsample_bynode': 0.252772246030095, 'learning_rate': 0.3492695960511675}. Best is trial 21 with value: -0.477346.\n"
     ]
    },
    {
     "name": "stderr",
     "output_type": "stream",
     "text": [
      "[I 2025-06-13 15:10:11,073] Trial 29 pruned. Trial was pruned at iteration 20.\n"
     ]
    },
    {
     "name": "stderr",
     "output_type": "stream",
     "text": [
      "[I 2025-06-13 15:10:11,237] Trial 30 finished with value: -0.03313 and parameters: {'max_depth': 15, 'min_child_weight': 220, 'subsample': 0.25429084169236593, 'colsample_bynode': 0.3246642424948365, 'learning_rate': 0.027140510012803577}. Best is trial 21 with value: -0.477346.\n"
     ]
    },
    {
     "name": "stderr",
     "output_type": "stream",
     "text": [
      "[I 2025-06-13 15:10:11,478] Trial 31 pruned. Trial was pruned at iteration 21.\n"
     ]
    },
    {
     "name": "stderr",
     "output_type": "stream",
     "text": [
      "[I 2025-06-13 15:10:11,662] Trial 32 pruned. Trial was pruned at iteration 21.\n"
     ]
    },
    {
     "name": "stderr",
     "output_type": "stream",
     "text": [
      "[I 2025-06-13 15:10:11,975] Trial 33 finished with value: -0.438579 and parameters: {'max_depth': 10, 'min_child_weight': 3, 'subsample': 0.8992260978326472, 'colsample_bynode': 0.1554930499496859, 'learning_rate': 0.09351304050185417}. Best is trial 21 with value: -0.477346.\n"
     ]
    },
    {
     "name": "stderr",
     "output_type": "stream",
     "text": [
      "[I 2025-06-13 15:10:12,147] Trial 34 pruned. Trial was pruned at iteration 20.\n"
     ]
    },
    {
     "name": "stderr",
     "output_type": "stream",
     "text": [
      "[I 2025-06-13 15:10:12,304] Trial 35 finished with value: -0.166667 and parameters: {'max_depth': 6, 'min_child_weight': 54, 'subsample': 0.886131764382497, 'colsample_bynode': 0.2590666173927362, 'learning_rate': 0.0598949363978575}. Best is trial 21 with value: -0.477346.\n"
     ]
    },
    {
     "name": "stderr",
     "output_type": "stream",
     "text": [
      "[I 2025-06-13 15:10:12,483] Trial 36 finished with value: -0.309804 and parameters: {'max_depth': 13, 'min_child_weight': 30, 'subsample': 0.8116099306090021, 'colsample_bynode': 0.4212649745749828, 'learning_rate': 0.2468264439070544}. Best is trial 21 with value: -0.477346.\n"
     ]
    },
    {
     "name": "stderr",
     "output_type": "stream",
     "text": [
      "[I 2025-06-13 15:10:12,685] Trial 37 pruned. Trial was pruned at iteration 21.\n"
     ]
    },
    {
     "name": "stderr",
     "output_type": "stream",
     "text": [
      "[I 2025-06-13 15:10:12,840] Trial 38 finished with value: -0.03313 and parameters: {'max_depth': 4, 'min_child_weight': 48, 'subsample': 0.5057966996056662, 'colsample_bynode': 0.14714235903858294, 'learning_rate': 0.03527366925519041}. Best is trial 21 with value: -0.477346.\n"
     ]
    },
    {
     "name": "stderr",
     "output_type": "stream",
     "text": [
      "[I 2025-06-13 15:10:13,006] Trial 39 finished with value: -0.03313 and parameters: {'max_depth': 6, 'min_child_weight': 70, 'subsample': 0.8531904040878109, 'colsample_bynode': 0.6986571664833517, 'learning_rate': 0.3446630519564906}. Best is trial 21 with value: -0.477346.\n"
     ]
    },
    {
     "name": "stderr",
     "output_type": "stream",
     "text": [
      "[I 2025-06-13 15:10:13,189] Trial 40 pruned. Trial was pruned at iteration 20.\n"
     ]
    },
    {
     "name": "stderr",
     "output_type": "stream",
     "text": [
      "[I 2025-06-13 15:10:13,469] Trial 41 pruned. Trial was pruned at iteration 21.\n"
     ]
    },
    {
     "name": "stderr",
     "output_type": "stream",
     "text": [
      "[I 2025-06-13 15:10:13,663] Trial 42 pruned. Trial was pruned at iteration 20.\n"
     ]
    },
    {
     "name": "stderr",
     "output_type": "stream",
     "text": [
      "[I 2025-06-13 15:10:13,820] Trial 43 pruned. Trial was pruned at iteration 20.\n"
     ]
    },
    {
     "name": "stderr",
     "output_type": "stream",
     "text": [
      "[I 2025-06-13 15:10:13,994] Trial 44 pruned. Trial was pruned at iteration 20.\n"
     ]
    },
    {
     "name": "stderr",
     "output_type": "stream",
     "text": [
      "[I 2025-06-13 15:10:14,353] Trial 45 finished with value: -0.419345 and parameters: {'max_depth': 7, 'min_child_weight': 1, 'subsample': 0.9117929482545429, 'colsample_bynode': 0.22957626347388005, 'learning_rate': 0.4856862310439494}. Best is trial 21 with value: -0.477346.\n"
     ]
    },
    {
     "name": "stderr",
     "output_type": "stream",
     "text": [
      "[I 2025-06-13 15:10:14,549] Trial 46 pruned. Trial was pruned at iteration 20.\n"
     ]
    },
    {
     "name": "stderr",
     "output_type": "stream",
     "text": [
      "[I 2025-06-13 15:10:14,709] Trial 47 pruned. Trial was pruned at iteration 20.\n"
     ]
    },
    {
     "name": "stderr",
     "output_type": "stream",
     "text": [
      "[I 2025-06-13 15:10:14,869] Trial 48 pruned. Trial was pruned at iteration 20.\n"
     ]
    },
    {
     "name": "stderr",
     "output_type": "stream",
     "text": [
      "[I 2025-06-13 15:10:15,250] Trial 49 pruned. Trial was pruned at iteration 21.\n"
     ]
    }
   ],
   "source": [
    "sampler = optuna.samplers.TPESampler(seed=42)\n",
    "study = optuna.create_study(direction='minimize', sampler=sampler)\n",
    "study.optimize(objective, n_trials=N_TRIALS, gc_after_trial=True)"
   ]
  },
  {
   "cell_type": "code",
   "execution_count": 20,
   "id": "deb42506",
   "metadata": {
    "execution": {
     "iopub.execute_input": "2025-06-13T13:10:15.491815Z",
     "iopub.status.busy": "2025-06-13T13:10:15.491594Z",
     "iopub.status.idle": "2025-06-13T13:10:15.750100Z",
     "shell.execute_reply": "2025-06-13T13:10:15.749367Z"
    },
    "papermill": {
     "duration": 0.32846,
     "end_time": "2025-06-13T13:10:15.751448",
     "exception": false,
     "start_time": "2025-06-13T13:10:15.422988",
     "status": "completed"
    },
    "tags": []
   },
   "outputs": [
    {
     "data": {
      "text/plain": [
       "['/scratch_isilon/groups/singlecell/shared/projects/Inflammation-PBMCs-Atlas/03_downstream_analysis/08_gene_importance/xgboost_external_validation/xgboost_TopN_genes/results_20/study/Plasma_shap_disease_NOstudy_samesize_1_xgboost.pkl']"
      ]
     },
     "execution_count": 20,
     "metadata": {},
     "output_type": "execute_result"
    }
   ],
   "source": [
    "out_dir = here(f'03_downstream_analysis/08_gene_importance/xgboost_external_validation/xgboost_TopN_genes/results_{N_GENES}/study')\n",
    "\n",
    "if not os.path.exists(out_dir):\n",
    "    os.makedirs(out_dir)\n",
    "    \n",
    "joblib.dump(study,os.path.join(out_dir, f'{CELL_TYPE}_{SEED}_{TEST_SPLIT_IDX}_xgboost.pkl'))"
   ]
  },
  {
   "cell_type": "code",
   "execution_count": 21,
   "id": "7531c110",
   "metadata": {
    "execution": {
     "iopub.execute_input": "2025-06-13T13:10:15.928536Z",
     "iopub.status.busy": "2025-06-13T13:10:15.927797Z",
     "iopub.status.idle": "2025-06-13T13:10:16.152432Z",
     "shell.execute_reply": "2025-06-13T13:10:16.151858Z"
    },
    "papermill": {
     "duration": 0.355801,
     "end_time": "2025-06-13T13:10:16.170625",
     "exception": false,
     "start_time": "2025-06-13T13:10:15.814824",
     "status": "completed"
    },
    "tags": []
   },
   "outputs": [
    {
     "data": {
      "text/html": [
       "<style>#sk-container-id-1 {\n",
       "  /* Definition of color scheme common for light and dark mode */\n",
       "  --sklearn-color-text: black;\n",
       "  --sklearn-color-line: gray;\n",
       "  /* Definition of color scheme for unfitted estimators */\n",
       "  --sklearn-color-unfitted-level-0: #fff5e6;\n",
       "  --sklearn-color-unfitted-level-1: #f6e4d2;\n",
       "  --sklearn-color-unfitted-level-2: #ffe0b3;\n",
       "  --sklearn-color-unfitted-level-3: chocolate;\n",
       "  /* Definition of color scheme for fitted estimators */\n",
       "  --sklearn-color-fitted-level-0: #f0f8ff;\n",
       "  --sklearn-color-fitted-level-1: #d4ebff;\n",
       "  --sklearn-color-fitted-level-2: #b3dbfd;\n",
       "  --sklearn-color-fitted-level-3: cornflowerblue;\n",
       "\n",
       "  /* Specific color for light theme */\n",
       "  --sklearn-color-text-on-default-background: var(--sg-text-color, var(--theme-code-foreground, var(--jp-content-font-color1, black)));\n",
       "  --sklearn-color-background: var(--sg-background-color, var(--theme-background, var(--jp-layout-color0, white)));\n",
       "  --sklearn-color-border-box: var(--sg-text-color, var(--theme-code-foreground, var(--jp-content-font-color1, black)));\n",
       "  --sklearn-color-icon: #696969;\n",
       "\n",
       "  @media (prefers-color-scheme: dark) {\n",
       "    /* Redefinition of color scheme for dark theme */\n",
       "    --sklearn-color-text-on-default-background: var(--sg-text-color, var(--theme-code-foreground, var(--jp-content-font-color1, white)));\n",
       "    --sklearn-color-background: var(--sg-background-color, var(--theme-background, var(--jp-layout-color0, #111)));\n",
       "    --sklearn-color-border-box: var(--sg-text-color, var(--theme-code-foreground, var(--jp-content-font-color1, white)));\n",
       "    --sklearn-color-icon: #878787;\n",
       "  }\n",
       "}\n",
       "\n",
       "#sk-container-id-1 {\n",
       "  color: var(--sklearn-color-text);\n",
       "}\n",
       "\n",
       "#sk-container-id-1 pre {\n",
       "  padding: 0;\n",
       "}\n",
       "\n",
       "#sk-container-id-1 input.sk-hidden--visually {\n",
       "  border: 0;\n",
       "  clip: rect(1px 1px 1px 1px);\n",
       "  clip: rect(1px, 1px, 1px, 1px);\n",
       "  height: 1px;\n",
       "  margin: -1px;\n",
       "  overflow: hidden;\n",
       "  padding: 0;\n",
       "  position: absolute;\n",
       "  width: 1px;\n",
       "}\n",
       "\n",
       "#sk-container-id-1 div.sk-dashed-wrapped {\n",
       "  border: 1px dashed var(--sklearn-color-line);\n",
       "  margin: 0 0.4em 0.5em 0.4em;\n",
       "  box-sizing: border-box;\n",
       "  padding-bottom: 0.4em;\n",
       "  background-color: var(--sklearn-color-background);\n",
       "}\n",
       "\n",
       "#sk-container-id-1 div.sk-container {\n",
       "  /* jupyter's `normalize.less` sets `[hidden] { display: none; }`\n",
       "     but bootstrap.min.css set `[hidden] { display: none !important; }`\n",
       "     so we also need the `!important` here to be able to override the\n",
       "     default hidden behavior on the sphinx rendered scikit-learn.org.\n",
       "     See: https://github.com/scikit-learn/scikit-learn/issues/21755 */\n",
       "  display: inline-block !important;\n",
       "  position: relative;\n",
       "}\n",
       "\n",
       "#sk-container-id-1 div.sk-text-repr-fallback {\n",
       "  display: none;\n",
       "}\n",
       "\n",
       "div.sk-parallel-item,\n",
       "div.sk-serial,\n",
       "div.sk-item {\n",
       "  /* draw centered vertical line to link estimators */\n",
       "  background-image: linear-gradient(var(--sklearn-color-text-on-default-background), var(--sklearn-color-text-on-default-background));\n",
       "  background-size: 2px 100%;\n",
       "  background-repeat: no-repeat;\n",
       "  background-position: center center;\n",
       "}\n",
       "\n",
       "/* Parallel-specific style estimator block */\n",
       "\n",
       "#sk-container-id-1 div.sk-parallel-item::after {\n",
       "  content: \"\";\n",
       "  width: 100%;\n",
       "  border-bottom: 2px solid var(--sklearn-color-text-on-default-background);\n",
       "  flex-grow: 1;\n",
       "}\n",
       "\n",
       "#sk-container-id-1 div.sk-parallel {\n",
       "  display: flex;\n",
       "  align-items: stretch;\n",
       "  justify-content: center;\n",
       "  background-color: var(--sklearn-color-background);\n",
       "  position: relative;\n",
       "}\n",
       "\n",
       "#sk-container-id-1 div.sk-parallel-item {\n",
       "  display: flex;\n",
       "  flex-direction: column;\n",
       "}\n",
       "\n",
       "#sk-container-id-1 div.sk-parallel-item:first-child::after {\n",
       "  align-self: flex-end;\n",
       "  width: 50%;\n",
       "}\n",
       "\n",
       "#sk-container-id-1 div.sk-parallel-item:last-child::after {\n",
       "  align-self: flex-start;\n",
       "  width: 50%;\n",
       "}\n",
       "\n",
       "#sk-container-id-1 div.sk-parallel-item:only-child::after {\n",
       "  width: 0;\n",
       "}\n",
       "\n",
       "/* Serial-specific style estimator block */\n",
       "\n",
       "#sk-container-id-1 div.sk-serial {\n",
       "  display: flex;\n",
       "  flex-direction: column;\n",
       "  align-items: center;\n",
       "  background-color: var(--sklearn-color-background);\n",
       "  padding-right: 1em;\n",
       "  padding-left: 1em;\n",
       "}\n",
       "\n",
       "\n",
       "/* Toggleable style: style used for estimator/Pipeline/ColumnTransformer box that is\n",
       "clickable and can be expanded/collapsed.\n",
       "- Pipeline and ColumnTransformer use this feature and define the default style\n",
       "- Estimators will overwrite some part of the style using the `sk-estimator` class\n",
       "*/\n",
       "\n",
       "/* Pipeline and ColumnTransformer style (default) */\n",
       "\n",
       "#sk-container-id-1 div.sk-toggleable {\n",
       "  /* Default theme specific background. It is overwritten whether we have a\n",
       "  specific estimator or a Pipeline/ColumnTransformer */\n",
       "  background-color: var(--sklearn-color-background);\n",
       "}\n",
       "\n",
       "/* Toggleable label */\n",
       "#sk-container-id-1 label.sk-toggleable__label {\n",
       "  cursor: pointer;\n",
       "  display: block;\n",
       "  width: 100%;\n",
       "  margin-bottom: 0;\n",
       "  padding: 0.5em;\n",
       "  box-sizing: border-box;\n",
       "  text-align: center;\n",
       "}\n",
       "\n",
       "#sk-container-id-1 label.sk-toggleable__label-arrow:before {\n",
       "  /* Arrow on the left of the label */\n",
       "  content: \"▸\";\n",
       "  float: left;\n",
       "  margin-right: 0.25em;\n",
       "  color: var(--sklearn-color-icon);\n",
       "}\n",
       "\n",
       "#sk-container-id-1 label.sk-toggleable__label-arrow:hover:before {\n",
       "  color: var(--sklearn-color-text);\n",
       "}\n",
       "\n",
       "/* Toggleable content - dropdown */\n",
       "\n",
       "#sk-container-id-1 div.sk-toggleable__content {\n",
       "  max-height: 0;\n",
       "  max-width: 0;\n",
       "  overflow: hidden;\n",
       "  text-align: left;\n",
       "  /* unfitted */\n",
       "  background-color: var(--sklearn-color-unfitted-level-0);\n",
       "}\n",
       "\n",
       "#sk-container-id-1 div.sk-toggleable__content.fitted {\n",
       "  /* fitted */\n",
       "  background-color: var(--sklearn-color-fitted-level-0);\n",
       "}\n",
       "\n",
       "#sk-container-id-1 div.sk-toggleable__content pre {\n",
       "  margin: 0.2em;\n",
       "  border-radius: 0.25em;\n",
       "  color: var(--sklearn-color-text);\n",
       "  /* unfitted */\n",
       "  background-color: var(--sklearn-color-unfitted-level-0);\n",
       "}\n",
       "\n",
       "#sk-container-id-1 div.sk-toggleable__content.fitted pre {\n",
       "  /* unfitted */\n",
       "  background-color: var(--sklearn-color-fitted-level-0);\n",
       "}\n",
       "\n",
       "#sk-container-id-1 input.sk-toggleable__control:checked~div.sk-toggleable__content {\n",
       "  /* Expand drop-down */\n",
       "  max-height: 200px;\n",
       "  max-width: 100%;\n",
       "  overflow: auto;\n",
       "}\n",
       "\n",
       "#sk-container-id-1 input.sk-toggleable__control:checked~label.sk-toggleable__label-arrow:before {\n",
       "  content: \"▾\";\n",
       "}\n",
       "\n",
       "/* Pipeline/ColumnTransformer-specific style */\n",
       "\n",
       "#sk-container-id-1 div.sk-label input.sk-toggleable__control:checked~label.sk-toggleable__label {\n",
       "  color: var(--sklearn-color-text);\n",
       "  background-color: var(--sklearn-color-unfitted-level-2);\n",
       "}\n",
       "\n",
       "#sk-container-id-1 div.sk-label.fitted input.sk-toggleable__control:checked~label.sk-toggleable__label {\n",
       "  background-color: var(--sklearn-color-fitted-level-2);\n",
       "}\n",
       "\n",
       "/* Estimator-specific style */\n",
       "\n",
       "/* Colorize estimator box */\n",
       "#sk-container-id-1 div.sk-estimator input.sk-toggleable__control:checked~label.sk-toggleable__label {\n",
       "  /* unfitted */\n",
       "  background-color: var(--sklearn-color-unfitted-level-2);\n",
       "}\n",
       "\n",
       "#sk-container-id-1 div.sk-estimator.fitted input.sk-toggleable__control:checked~label.sk-toggleable__label {\n",
       "  /* fitted */\n",
       "  background-color: var(--sklearn-color-fitted-level-2);\n",
       "}\n",
       "\n",
       "#sk-container-id-1 div.sk-label label.sk-toggleable__label,\n",
       "#sk-container-id-1 div.sk-label label {\n",
       "  /* The background is the default theme color */\n",
       "  color: var(--sklearn-color-text-on-default-background);\n",
       "}\n",
       "\n",
       "/* On hover, darken the color of the background */\n",
       "#sk-container-id-1 div.sk-label:hover label.sk-toggleable__label {\n",
       "  color: var(--sklearn-color-text);\n",
       "  background-color: var(--sklearn-color-unfitted-level-2);\n",
       "}\n",
       "\n",
       "/* Label box, darken color on hover, fitted */\n",
       "#sk-container-id-1 div.sk-label.fitted:hover label.sk-toggleable__label.fitted {\n",
       "  color: var(--sklearn-color-text);\n",
       "  background-color: var(--sklearn-color-fitted-level-2);\n",
       "}\n",
       "\n",
       "/* Estimator label */\n",
       "\n",
       "#sk-container-id-1 div.sk-label label {\n",
       "  font-family: monospace;\n",
       "  font-weight: bold;\n",
       "  display: inline-block;\n",
       "  line-height: 1.2em;\n",
       "}\n",
       "\n",
       "#sk-container-id-1 div.sk-label-container {\n",
       "  text-align: center;\n",
       "}\n",
       "\n",
       "/* Estimator-specific */\n",
       "#sk-container-id-1 div.sk-estimator {\n",
       "  font-family: monospace;\n",
       "  border: 1px dotted var(--sklearn-color-border-box);\n",
       "  border-radius: 0.25em;\n",
       "  box-sizing: border-box;\n",
       "  margin-bottom: 0.5em;\n",
       "  /* unfitted */\n",
       "  background-color: var(--sklearn-color-unfitted-level-0);\n",
       "}\n",
       "\n",
       "#sk-container-id-1 div.sk-estimator.fitted {\n",
       "  /* fitted */\n",
       "  background-color: var(--sklearn-color-fitted-level-0);\n",
       "}\n",
       "\n",
       "/* on hover */\n",
       "#sk-container-id-1 div.sk-estimator:hover {\n",
       "  /* unfitted */\n",
       "  background-color: var(--sklearn-color-unfitted-level-2);\n",
       "}\n",
       "\n",
       "#sk-container-id-1 div.sk-estimator.fitted:hover {\n",
       "  /* fitted */\n",
       "  background-color: var(--sklearn-color-fitted-level-2);\n",
       "}\n",
       "\n",
       "/* Specification for estimator info (e.g. \"i\" and \"?\") */\n",
       "\n",
       "/* Common style for \"i\" and \"?\" */\n",
       "\n",
       ".sk-estimator-doc-link,\n",
       "a:link.sk-estimator-doc-link,\n",
       "a:visited.sk-estimator-doc-link {\n",
       "  float: right;\n",
       "  font-size: smaller;\n",
       "  line-height: 1em;\n",
       "  font-family: monospace;\n",
       "  background-color: var(--sklearn-color-background);\n",
       "  border-radius: 1em;\n",
       "  height: 1em;\n",
       "  width: 1em;\n",
       "  text-decoration: none !important;\n",
       "  margin-left: 1ex;\n",
       "  /* unfitted */\n",
       "  border: var(--sklearn-color-unfitted-level-1) 1pt solid;\n",
       "  color: var(--sklearn-color-unfitted-level-1);\n",
       "}\n",
       "\n",
       ".sk-estimator-doc-link.fitted,\n",
       "a:link.sk-estimator-doc-link.fitted,\n",
       "a:visited.sk-estimator-doc-link.fitted {\n",
       "  /* fitted */\n",
       "  border: var(--sklearn-color-fitted-level-1) 1pt solid;\n",
       "  color: var(--sklearn-color-fitted-level-1);\n",
       "}\n",
       "\n",
       "/* On hover */\n",
       "div.sk-estimator:hover .sk-estimator-doc-link:hover,\n",
       ".sk-estimator-doc-link:hover,\n",
       "div.sk-label-container:hover .sk-estimator-doc-link:hover,\n",
       ".sk-estimator-doc-link:hover {\n",
       "  /* unfitted */\n",
       "  background-color: var(--sklearn-color-unfitted-level-3);\n",
       "  color: var(--sklearn-color-background);\n",
       "  text-decoration: none;\n",
       "}\n",
       "\n",
       "div.sk-estimator.fitted:hover .sk-estimator-doc-link.fitted:hover,\n",
       ".sk-estimator-doc-link.fitted:hover,\n",
       "div.sk-label-container:hover .sk-estimator-doc-link.fitted:hover,\n",
       ".sk-estimator-doc-link.fitted:hover {\n",
       "  /* fitted */\n",
       "  background-color: var(--sklearn-color-fitted-level-3);\n",
       "  color: var(--sklearn-color-background);\n",
       "  text-decoration: none;\n",
       "}\n",
       "\n",
       "/* Span, style for the box shown on hovering the info icon */\n",
       ".sk-estimator-doc-link span {\n",
       "  display: none;\n",
       "  z-index: 9999;\n",
       "  position: relative;\n",
       "  font-weight: normal;\n",
       "  right: .2ex;\n",
       "  padding: .5ex;\n",
       "  margin: .5ex;\n",
       "  width: min-content;\n",
       "  min-width: 20ex;\n",
       "  max-width: 50ex;\n",
       "  color: var(--sklearn-color-text);\n",
       "  box-shadow: 2pt 2pt 4pt #999;\n",
       "  /* unfitted */\n",
       "  background: var(--sklearn-color-unfitted-level-0);\n",
       "  border: .5pt solid var(--sklearn-color-unfitted-level-3);\n",
       "}\n",
       "\n",
       ".sk-estimator-doc-link.fitted span {\n",
       "  /* fitted */\n",
       "  background: var(--sklearn-color-fitted-level-0);\n",
       "  border: var(--sklearn-color-fitted-level-3);\n",
       "}\n",
       "\n",
       ".sk-estimator-doc-link:hover span {\n",
       "  display: block;\n",
       "}\n",
       "\n",
       "/* \"?\"-specific style due to the `<a>` HTML tag */\n",
       "\n",
       "#sk-container-id-1 a.estimator_doc_link {\n",
       "  float: right;\n",
       "  font-size: 1rem;\n",
       "  line-height: 1em;\n",
       "  font-family: monospace;\n",
       "  background-color: var(--sklearn-color-background);\n",
       "  border-radius: 1rem;\n",
       "  height: 1rem;\n",
       "  width: 1rem;\n",
       "  text-decoration: none;\n",
       "  /* unfitted */\n",
       "  color: var(--sklearn-color-unfitted-level-1);\n",
       "  border: var(--sklearn-color-unfitted-level-1) 1pt solid;\n",
       "}\n",
       "\n",
       "#sk-container-id-1 a.estimator_doc_link.fitted {\n",
       "  /* fitted */\n",
       "  border: var(--sklearn-color-fitted-level-1) 1pt solid;\n",
       "  color: var(--sklearn-color-fitted-level-1);\n",
       "}\n",
       "\n",
       "/* On hover */\n",
       "#sk-container-id-1 a.estimator_doc_link:hover {\n",
       "  /* unfitted */\n",
       "  background-color: var(--sklearn-color-unfitted-level-3);\n",
       "  color: var(--sklearn-color-background);\n",
       "  text-decoration: none;\n",
       "}\n",
       "\n",
       "#sk-container-id-1 a.estimator_doc_link.fitted:hover {\n",
       "  /* fitted */\n",
       "  background-color: var(--sklearn-color-fitted-level-3);\n",
       "}\n",
       "</style><div id=\"sk-container-id-1\" class=\"sk-top-container\"><div class=\"sk-text-repr-fallback\"><pre>XGBClassifier(base_score=None, booster=None, callbacks=None,\n",
       "              colsample_bylevel=None, colsample_bynode=0.10489776969766632,\n",
       "              colsample_bytree=None, device=None, early_stopping_rounds=None,\n",
       "              enable_categorical=False,\n",
       "              eval_metric=&lt;function custom_f1_score at 0x7ff509e6c720&gt;,\n",
       "              feature_types=None, gamma=None, grow_policy=None,\n",
       "              importance_type=None, interaction_constraints=None,\n",
       "              learning_rate=0.12154020308087539, max_bin=None,\n",
       "              max_cat_threshold=None, max_cat_to_onehot=None,\n",
       "              max_delta_step=None, max_depth=9, max_leaves=None,\n",
       "              min_child_weight=1, missing=nan, monotone_constraints=None,\n",
       "              multi_strategy=None, n_estimators=14, n_jobs=None,\n",
       "              num_parallel_tree=None, objective=&#x27;multi:softprob&#x27;, ...)</pre><b>In a Jupyter environment, please rerun this cell to show the HTML representation or trust the notebook. <br />On GitHub, the HTML representation is unable to render, please try loading this page with nbviewer.org.</b></div><div class=\"sk-container\" hidden><div class=\"sk-item\"><div class=\"sk-estimator fitted sk-toggleable\"><input class=\"sk-toggleable__control sk-hidden--visually\" id=\"sk-estimator-id-1\" type=\"checkbox\" checked><label for=\"sk-estimator-id-1\" class=\"sk-toggleable__label fitted sk-toggleable__label-arrow fitted\">&nbsp;XGBClassifier<span class=\"sk-estimator-doc-link fitted\">i<span>Fitted</span></span></label><div class=\"sk-toggleable__content fitted\"><pre>XGBClassifier(base_score=None, booster=None, callbacks=None,\n",
       "              colsample_bylevel=None, colsample_bynode=0.10489776969766632,\n",
       "              colsample_bytree=None, device=None, early_stopping_rounds=None,\n",
       "              enable_categorical=False,\n",
       "              eval_metric=&lt;function custom_f1_score at 0x7ff509e6c720&gt;,\n",
       "              feature_types=None, gamma=None, grow_policy=None,\n",
       "              importance_type=None, interaction_constraints=None,\n",
       "              learning_rate=0.12154020308087539, max_bin=None,\n",
       "              max_cat_threshold=None, max_cat_to_onehot=None,\n",
       "              max_delta_step=None, max_depth=9, max_leaves=None,\n",
       "              min_child_weight=1, missing=nan, monotone_constraints=None,\n",
       "              multi_strategy=None, n_estimators=14, n_jobs=None,\n",
       "              num_parallel_tree=None, objective=&#x27;multi:softprob&#x27;, ...)</pre></div> </div></div></div></div>"
      ],
      "text/plain": [
       "XGBClassifier(base_score=None, booster=None, callbacks=None,\n",
       "              colsample_bylevel=None, colsample_bynode=0.10489776969766632,\n",
       "              colsample_bytree=None, device=None, early_stopping_rounds=None,\n",
       "              enable_categorical=False,\n",
       "              eval_metric=<function custom_f1_score at 0x7ff509e6c720>,\n",
       "              feature_types=None, gamma=None, grow_policy=None,\n",
       "              importance_type=None, interaction_constraints=None,\n",
       "              learning_rate=0.12154020308087539, max_bin=None,\n",
       "              max_cat_threshold=None, max_cat_to_onehot=None,\n",
       "              max_delta_step=None, max_depth=9, max_leaves=None,\n",
       "              min_child_weight=1, missing=nan, monotone_constraints=None,\n",
       "              multi_strategy=None, n_estimators=14, n_jobs=None,\n",
       "              num_parallel_tree=None, objective='multi:softprob', ...)"
      ]
     },
     "execution_count": 21,
     "metadata": {},
     "output_type": "execute_result"
    }
   ],
   "source": [
    "n_estimators = int(study.best_trial.user_attrs['best_iteration']*1.2)\n",
    "xgb = xgboost.XGBClassifier(\n",
    "        eval_metric=eval_metric,\n",
    "        n_estimators=n_estimators,\n",
    "        **study.best_trial.params\n",
    "    )\n",
    "xgb.fit(\n",
    "    ssp.vstack((X_train, X_val)), \n",
    "    np.concatenate((y_train_enc, y_val_enc)),\n",
    "    verbose=1,\n",
    ")"
   ]
  },
  {
   "cell_type": "code",
   "execution_count": 22,
   "id": "7444ec66",
   "metadata": {
    "execution": {
     "iopub.execute_input": "2025-06-13T13:10:16.314889Z",
     "iopub.status.busy": "2025-06-13T13:10:16.314678Z",
     "iopub.status.idle": "2025-06-13T13:10:16.520959Z",
     "shell.execute_reply": "2025-06-13T13:10:16.520515Z"
    },
    "papermill": {
     "duration": 0.281154,
     "end_time": "2025-06-13T13:10:16.521966",
     "exception": false,
     "start_time": "2025-06-13T13:10:16.240812",
     "status": "completed"
    },
    "tags": []
   },
   "outputs": [
    {
     "data": {
      "text/plain": [
       "['/scratch_isilon/groups/singlecell/shared/projects/Inflammation-PBMCs-Atlas/03_downstream_analysis/08_gene_importance/xgboost_external_validation/xgboost_TopN_genes/results_20/best_model/Plasma_shap_disease_NOstudy_samesize_1_xgb.json']"
      ]
     },
     "execution_count": 22,
     "metadata": {},
     "output_type": "execute_result"
    }
   ],
   "source": [
    "out_dir = here(f'03_downstream_analysis/08_gene_importance/xgboost_external_validation/xgboost_TopN_genes/results_{N_GENES}/best_model')\n",
    "\n",
    "if not os.path.exists(out_dir):\n",
    "    os.makedirs(out_dir)\n",
    "    \n",
    "joblib.dump(xgb, os.path.join(out_dir, f'{CELL_TYPE}_{SEED}_{TEST_SPLIT_IDX}_xgb.json'))"
   ]
  },
  {
   "cell_type": "code",
   "execution_count": 23,
   "id": "384b3431",
   "metadata": {
    "execution": {
     "iopub.execute_input": "2025-06-13T13:10:16.777256Z",
     "iopub.status.busy": "2025-06-13T13:10:16.776866Z",
     "iopub.status.idle": "2025-06-13T13:10:16.866057Z",
     "shell.execute_reply": "2025-06-13T13:10:16.865590Z"
    },
    "papermill": {
     "duration": 0.166227,
     "end_time": "2025-06-13T13:10:16.867296",
     "exception": false,
     "start_time": "2025-06-13T13:10:16.701069",
     "status": "completed"
    },
    "tags": []
   },
   "outputs": [],
   "source": [
    "df_pred_test = pd.DataFrame(dict(\n",
    "    cell_id=train_adata.obs.iloc[test_idxs].index.values,\n",
    "    y_true=y_test, \n",
    "    y_true_code=y_test_enc, \n",
    "    y_pred=xgb.predict(X_test))).set_index('cell_id')"
   ]
  },
  {
   "cell_type": "code",
   "execution_count": 24,
   "id": "5d098ee2",
   "metadata": {
    "execution": {
     "iopub.execute_input": "2025-06-13T13:10:17.012701Z",
     "iopub.status.busy": "2025-06-13T13:10:17.012404Z",
     "iopub.status.idle": "2025-06-13T13:10:18.702588Z",
     "shell.execute_reply": "2025-06-13T13:10:18.702116Z"
    },
    "papermill": {
     "duration": 1.769878,
     "end_time": "2025-06-13T13:10:18.703557",
     "exception": false,
     "start_time": "2025-06-13T13:10:16.933679",
     "status": "completed"
    },
    "tags": []
   },
   "outputs": [],
   "source": [
    "out_dir = here(f'03_downstream_analysis/08_gene_importance/xgboost_external_validation/xgboost_TopN_genes/results_{N_GENES}/predictions')\n",
    "\n",
    "if not os.path.exists(out_dir):\n",
    "    os.makedirs(out_dir)\n",
    "    \n",
    "df_pred_test.to_csv(os.path.join(out_dir, f'{CELL_TYPE}_{SEED}_{TEST_SPLIT_IDX}_pred_test.zip'))"
   ]
  },
  {
   "cell_type": "code",
   "execution_count": 25,
   "id": "119d7078",
   "metadata": {
    "execution": {
     "iopub.execute_input": "2025-06-13T13:10:18.876995Z",
     "iopub.status.busy": "2025-06-13T13:10:18.876599Z",
     "iopub.status.idle": "2025-06-13T13:10:18.931729Z",
     "shell.execute_reply": "2025-06-13T13:10:18.931258Z"
    },
    "papermill": {
     "duration": 0.130791,
     "end_time": "2025-06-13T13:10:18.932621",
     "exception": false,
     "start_time": "2025-06-13T13:10:18.801830",
     "status": "completed"
    },
    "tags": []
   },
   "outputs": [],
   "source": [
    "metrics_dict = dict(\n",
    "    BAS=balanced_accuracy_score(y_true=df_pred_test.y_true_code, y_pred=df_pred_test.y_pred), WF1=f1_score(y_true=df_pred_test.y_true_code, y_pred=df_pred_test.y_pred,average='weighted'))"
   ]
  },
  {
   "cell_type": "code",
   "execution_count": 26,
   "id": "57dc3b7e",
   "metadata": {
    "execution": {
     "iopub.execute_input": "2025-06-13T13:10:19.092557Z",
     "iopub.status.busy": "2025-06-13T13:10:19.092308Z",
     "iopub.status.idle": "2025-06-13T13:10:19.095204Z",
     "shell.execute_reply": "2025-06-13T13:10:19.094913Z"
    },
    "papermill": {
     "duration": 0.084352,
     "end_time": "2025-06-13T13:10:19.096039",
     "exception": false,
     "start_time": "2025-06-13T13:10:19.011687",
     "status": "completed"
    },
    "tags": []
   },
   "outputs": [
    {
     "data": {
      "text/plain": [
       "{'BAS': 0.33078908428173137, 'WF1': 0.5217411580187757}"
      ]
     },
     "execution_count": 26,
     "metadata": {},
     "output_type": "execute_result"
    }
   ],
   "source": [
    "metrics_dict"
   ]
  },
  {
   "cell_type": "code",
   "execution_count": 27,
   "id": "9e181064",
   "metadata": {
    "execution": {
     "iopub.execute_input": "2025-06-13T13:10:19.242029Z",
     "iopub.status.busy": "2025-06-13T13:10:19.241632Z",
     "iopub.status.idle": "2025-06-13T13:10:19.340211Z",
     "shell.execute_reply": "2025-06-13T13:10:19.339903Z"
    },
    "papermill": {
     "duration": 0.173428,
     "end_time": "2025-06-13T13:10:19.340970",
     "exception": false,
     "start_time": "2025-06-13T13:10:19.167542",
     "status": "completed"
    },
    "tags": []
   },
   "outputs": [
    {
     "data": {
      "text/html": [
       "<div>\n",
       "<style scoped>\n",
       "    .dataframe tbody tr th:only-of-type {\n",
       "        vertical-align: middle;\n",
       "    }\n",
       "\n",
       "    .dataframe tbody tr th {\n",
       "        vertical-align: top;\n",
       "    }\n",
       "\n",
       "    .dataframe thead th {\n",
       "        text-align: right;\n",
       "    }\n",
       "</style>\n",
       "<table border=\"1\" class=\"dataframe\">\n",
       "  <thead>\n",
       "    <tr style=\"text-align: right;\">\n",
       "      <th></th>\n",
       "      <th>BAS</th>\n",
       "      <th>WF1</th>\n",
       "      <th>split_idx</th>\n",
       "      <th>gene_set_seed</th>\n",
       "      <th>cell_type</th>\n",
       "    </tr>\n",
       "  </thead>\n",
       "  <tbody>\n",
       "    <tr>\n",
       "      <th>0</th>\n",
       "      <td>0.330789</td>\n",
       "      <td>0.521741</td>\n",
       "      <td>1</td>\n",
       "      <td>shap_disease_NOstudy_samesize</td>\n",
       "      <td>Plasma</td>\n",
       "    </tr>\n",
       "  </tbody>\n",
       "</table>\n",
       "</div>"
      ],
      "text/plain": [
       "        BAS       WF1  split_idx                  gene_set_seed cell_type\n",
       "0  0.330789  0.521741          1  shap_disease_NOstudy_samesize    Plasma"
      ]
     },
     "execution_count": 27,
     "metadata": {},
     "output_type": "execute_result"
    }
   ],
   "source": [
    "metrics_df = pd.DataFrame.from_dict([metrics_dict]).assign(split_idx=TEST_SPLIT_IDX, gene_set_seed=SEED, cell_type=CELL_TYPE)\n",
    "metrics_df"
   ]
  },
  {
   "cell_type": "code",
   "execution_count": 28,
   "id": "bbbbc26a",
   "metadata": {
    "execution": {
     "iopub.execute_input": "2025-06-13T13:10:19.488180Z",
     "iopub.status.busy": "2025-06-13T13:10:19.487750Z",
     "iopub.status.idle": "2025-06-13T13:10:19.566721Z",
     "shell.execute_reply": "2025-06-13T13:10:19.566267Z"
    },
    "papermill": {
     "duration": 0.155614,
     "end_time": "2025-06-13T13:10:19.567679",
     "exception": false,
     "start_time": "2025-06-13T13:10:19.412065",
     "status": "completed"
    },
    "tags": []
   },
   "outputs": [],
   "source": [
    "out_dir = here(f'03_downstream_analysis/08_gene_importance/xgboost_external_validation/xgboost_TopN_genes/results_{N_GENES}/metrics')\n",
    "\n",
    "if not os.path.exists(out_dir):\n",
    "    os.makedirs(out_dir)\n",
    "    \n",
    "metrics_df.to_csv(os.path.join(out_dir, f'{CELL_TYPE}_{SEED}_{TEST_SPLIT_IDX}_metrics.zip'))"
   ]
  }
 ],
 "metadata": {
  "kernelspec": {
   "display_name": "Python 3 (ipykernel)",
   "language": "python",
   "name": "python3"
  },
  "language_info": {
   "codemirror_mode": {
    "name": "ipython",
    "version": 3
   },
   "file_extension": ".py",
   "mimetype": "text/x-python",
   "name": "python",
   "nbconvert_exporter": "python",
   "pygments_lexer": "ipython3",
   "version": "3.12.5"
  },
  "papermill": {
   "default_parameters": {},
   "duration": 18.131194,
   "end_time": "2025-06-13T13:10:20.193909",
   "environment_variables": {},
   "exception": null,
   "input_path": "02_xgboost_fitting_external_20genes.ipynb",
   "output_path": "results_20/executed_notebooks/xgboost_fitting_external_CT_Plasma_GS_shap_disease_NOstudy_samesize_seed1.ipynb",
   "parameters": {
    "CELL_TYPE": "Plasma",
    "SEED": "shap_disease_NOstudy_samesize",
    "TEST_SPLIT_IDX": 1
   },
   "start_time": "2025-06-13T13:10:02.062715",
   "version": "2.6.0"
  }
 },
 "nbformat": 4,
 "nbformat_minor": 5
}