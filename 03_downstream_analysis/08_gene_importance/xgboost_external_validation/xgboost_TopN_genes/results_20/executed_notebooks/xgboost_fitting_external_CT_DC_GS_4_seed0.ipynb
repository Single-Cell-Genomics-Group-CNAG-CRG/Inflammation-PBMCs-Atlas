{
 "cells": [
  {
   "cell_type": "code",
   "execution_count": 1,
   "id": "11a9e903",
   "metadata": {
    "editable": true,
    "execution": {
     "iopub.execute_input": "2025-05-15T16:14:37.989945Z",
     "iopub.status.busy": "2025-05-15T16:14:37.989649Z",
     "iopub.status.idle": "2025-05-15T16:14:37.992838Z",
     "shell.execute_reply": "2025-05-15T16:14:37.992501Z"
    },
    "papermill": {
     "duration": 0.01215,
     "end_time": "2025-05-15T16:14:37.993742",
     "exception": false,
     "start_time": "2025-05-15T16:14:37.981592",
     "status": "completed"
    },
    "slideshow": {
     "slide_type": ""
    },
    "tags": [
     "parameters"
    ]
   },
   "outputs": [],
   "source": [
    "CELL_TYPE = 'pDC'\n",
    "N_GENES: int = 20\n",
    "SEED = 'shap_studyID' #'disease_NOstudy' 'study_NOdisease' or 'int' or 'shap_studyID'\n",
    "TEST_SPLIT_IDX: int = 1 #[0,4]"
   ]
  },
  {
   "cell_type": "code",
   "execution_count": 2,
   "id": "3d1bd08a",
   "metadata": {
    "execution": {
     "iopub.execute_input": "2025-05-15T16:14:38.005934Z",
     "iopub.status.busy": "2025-05-15T16:14:38.005720Z",
     "iopub.status.idle": "2025-05-15T16:14:38.008023Z",
     "shell.execute_reply": "2025-05-15T16:14:38.007694Z"
    },
    "papermill": {
     "duration": 0.009205,
     "end_time": "2025-05-15T16:14:38.008975",
     "exception": false,
     "start_time": "2025-05-15T16:14:37.999770",
     "status": "completed"
    },
    "tags": [
     "injected-parameters"
    ]
   },
   "outputs": [],
   "source": [
    "# Parameters\n",
    "CELL_TYPE = \"DC\"\n",
    "SEED = 4\n",
    "TEST_SPLIT_IDX = 0\n"
   ]
  },
  {
   "cell_type": "code",
   "execution_count": 3,
   "id": "88f05e43",
   "metadata": {
    "execution": {
     "iopub.execute_input": "2025-05-15T16:14:38.020005Z",
     "iopub.status.busy": "2025-05-15T16:14:38.019735Z",
     "iopub.status.idle": "2025-05-15T16:14:38.021862Z",
     "shell.execute_reply": "2025-05-15T16:14:38.021551Z"
    },
    "papermill": {
     "duration": 0.008502,
     "end_time": "2025-05-15T16:14:38.022673",
     "exception": false,
     "start_time": "2025-05-15T16:14:38.014171",
     "status": "completed"
    },
    "tags": []
   },
   "outputs": [],
   "source": [
    "N_SPLITS: int = 5\n",
    "N_TRIALS: int = 50"
   ]
  },
  {
   "cell_type": "code",
   "execution_count": 4,
   "id": "dda6bca7",
   "metadata": {
    "execution": {
     "iopub.execute_input": "2025-05-15T16:14:38.035421Z",
     "iopub.status.busy": "2025-05-15T16:14:38.035192Z",
     "iopub.status.idle": "2025-05-15T16:14:39.673884Z",
     "shell.execute_reply": "2025-05-15T16:14:39.673461Z"
    },
    "papermill": {
     "duration": 1.647344,
     "end_time": "2025-05-15T16:14:39.675181",
     "exception": false,
     "start_time": "2025-05-15T16:14:38.027837",
     "status": "completed"
    },
    "tags": []
   },
   "outputs": [],
   "source": [
    "import os\n",
    "import sys\n",
    "from pyprojroot.here import here\n",
    "import pandas as pd\n",
    "import anndata as ad\n",
    "import numpy as np\n",
    "import math\n",
    "from sklearn.model_selection import StratifiedGroupKFold\n",
    "from sklearn.preprocessing import LabelEncoder\n",
    "from sklearn.metrics import f1_score\n",
    "import matplotlib.pyplot as plt\n",
    "import seaborn as sns\n",
    "from itertools import product\n",
    "from sklearn.metrics import balanced_accuracy_score, f1_score\n",
    "import optuna\n",
    "\n",
    "import joblib\n",
    "import pickle\n",
    "import datetime\n",
    "\n",
    "import collections\n",
    "\n",
    "import xgboost\n",
    "from sklearn.preprocessing import LabelEncoder\n",
    "\n",
    "import scipy.sparse as ssp\n",
    "import joblib\n",
    "\n",
    "from dotenv import load_dotenv"
   ]
  },
  {
   "cell_type": "code",
   "execution_count": 5,
   "id": "a79ede48",
   "metadata": {
    "execution": {
     "iopub.execute_input": "2025-05-15T16:14:39.688622Z",
     "iopub.status.busy": "2025-05-15T16:14:39.688187Z",
     "iopub.status.idle": "2025-05-15T16:14:39.695240Z",
     "shell.execute_reply": "2025-05-15T16:14:39.694910Z"
    },
    "papermill": {
     "duration": 0.014618,
     "end_time": "2025-05-15T16:14:39.696144",
     "exception": false,
     "start_time": "2025-05-15T16:14:39.681526",
     "status": "completed"
    },
    "tags": []
   },
   "outputs": [
    {
     "data": {
      "text/plain": [
       "True"
      ]
     },
     "execution_count": 5,
     "metadata": {},
     "output_type": "execute_result"
    }
   ],
   "source": [
    "load_dotenv()"
   ]
  },
  {
   "cell_type": "markdown",
   "id": "134c7684",
   "metadata": {
    "papermill": {
     "duration": 0.005471,
     "end_time": "2025-05-15T16:14:39.706974",
     "exception": false,
     "start_time": "2025-05-15T16:14:39.701503",
     "status": "completed"
    },
    "tags": []
   },
   "source": [
    "# LOAD DATASET"
   ]
  },
  {
   "cell_type": "code",
   "execution_count": 6,
   "id": "633f2d6f",
   "metadata": {
    "execution": {
     "iopub.execute_input": "2025-05-15T16:14:39.718651Z",
     "iopub.status.busy": "2025-05-15T16:14:39.718108Z",
     "iopub.status.idle": "2025-05-15T16:14:39.819971Z",
     "shell.execute_reply": "2025-05-15T16:14:39.819447Z"
    },
    "papermill": {
     "duration": 0.109074,
     "end_time": "2025-05-15T16:14:39.821263",
     "exception": false,
     "start_time": "2025-05-15T16:14:39.712189",
     "status": "completed"
    },
    "tags": []
   },
   "outputs": [],
   "source": [
    "train_adata = ad.read_h5ad(\n",
    "    here(f'03_downstream_analysis/08_gene_importance/xgboost_external_validation/xgboost_TopN_genes/data_cellTypes/EXTERNAL_{CELL_TYPE}.filtered.log1p.h5ad')\n",
    ")"
   ]
  },
  {
   "cell_type": "code",
   "execution_count": 7,
   "id": "0449e649",
   "metadata": {
    "execution": {
     "iopub.execute_input": "2025-05-15T16:14:39.833874Z",
     "iopub.status.busy": "2025-05-15T16:14:39.833443Z",
     "iopub.status.idle": "2025-05-15T16:14:39.846225Z",
     "shell.execute_reply": "2025-05-15T16:14:39.845825Z"
    },
    "papermill": {
     "duration": 0.019877,
     "end_time": "2025-05-15T16:14:39.847191",
     "exception": false,
     "start_time": "2025-05-15T16:14:39.827314",
     "status": "completed"
    },
    "tags": []
   },
   "outputs": [
    {
     "name": "stdout",
     "output_type": "stream",
     "text": [
      "['ENSG00000102524' 'ENSG00000171223' 'ENSG00000122862' 'ENSG00000105397'\n",
      " 'ENSG00000197249' 'ENSG00000125538' 'ENSG00000112149' 'ENSG00000160213'\n",
      " 'ENSG00000106799' 'ENSG00000135968' 'ENSG00000198053' 'ENSG00000131981'\n",
      " 'ENSG00000145912' 'ENSG00000141367' 'ENSG00000196961' 'ENSG00000204472'\n",
      " 'ENSG00000119508' 'ENSG00000133246' 'ENSG00000075945' 'ENSG00000197471'\n",
      " 'ENSG00000115828' 'ENSG00000168389' 'ENSG00000123416' 'ENSG00000243749'\n",
      " 'ENSG00000169429' 'ENSG00000254087' 'ENSG00000204482' 'ENSG00000165280'\n",
      " 'ENSG00000136997' 'ENSG00000135046' 'ENSG00000176986' 'ENSG00000143110'\n",
      " 'ENSG00000168461' 'ENSG00000111275' 'ENSG00000035115' 'ENSG00000105835'\n",
      " 'ENSG00000018280' 'ENSG00000122359' 'ENSG00000135916' 'ENSG00000196396'\n",
      " 'ENSG00000175567' 'ENSG00000101347' 'ENSG00000131724' 'ENSG00000126709'\n",
      " 'ENSG00000168394' 'ENSG00000140379' 'ENSG00000132912' 'ENSG00000100934'\n",
      " 'ENSG00000103187' 'ENSG00000135404' 'ENSG00000177721' 'ENSG00000198223'\n",
      " 'ENSG00000026103' 'ENSG00000117984' 'ENSG00000196083' 'ENSG00000169385'\n",
      " 'ENSG00000166949' 'ENSG00000166847' 'ENSG00000121879' 'ENSG00000164104'\n",
      " 'ENSG00000101096' 'ENSG00000138674' 'ENSG00000197102' 'ENSG00000204592'\n",
      " 'ENSG00000121316' 'ENSG00000172183' 'ENSG00000114013' 'ENSG00000276085'\n",
      " 'ENSG00000204267' 'ENSG00000126759' 'ENSG00000090863' 'ENSG00000077150'\n",
      " 'ENSG00000185591' 'ENSG00000125148' 'ENSG00000170458' 'ENSG00000104763'\n",
      " 'ENSG00000119408' 'ENSG00000156587' 'ENSG00000152700' 'ENSG00000160883'\n",
      " 'ENSG00000171791' 'ENSG00000204103' 'ENSG00000170581' 'ENSG00000183023'\n",
      " 'ENSG00000241106' 'ENSG00000180008' 'ENSG00000115073' 'ENSG00000177575'\n",
      " 'ENSG00000182117' 'ENSG00000170525' 'ENSG00000182578' 'ENSG00000127528'\n",
      " 'ENSG00000071073' 'ENSG00000205542' 'ENSG00000051382' 'ENSG00000175482'\n",
      " 'ENSG00000121552' 'ENSG00000138802' 'ENSG00000204287' 'ENSG00000101695'\n",
      " 'ENSG00000140564' 'ENSG00000104689' 'ENSG00000235568' 'ENSG00000090266'\n",
      " 'ENSG00000204264' 'ENSG00000144802' 'ENSG00000155368' 'ENSG00000264364'\n",
      " 'ENSG00000175768' 'ENSG00000100485' 'ENSG00000140264' 'ENSG00000100097'\n",
      " 'ENSG00000075785' 'ENSG00000109321' 'ENSG00000189283' 'ENSG00000134352'\n",
      " 'ENSG00000132432' 'ENSG00000117318']\n"
     ]
    }
   ],
   "source": [
    "if SEED != 'all':\n",
    "    gene_subset = np.load(here(f'03_downstream_analysis/08_gene_importance/xgboost_external_validation/shap_gene_selection/gene_subsets_{N_GENES}/{CELL_TYPE}_{SEED}.npy'), allow_pickle=True)\n",
    "    train_adata = train_adata[:,gene_subset]\n",
    "    print(gene_subset)\n",
    "elif SEED == 'all':\n",
    "    print('Using all genes')\n",
    "else:\n",
    "    raise ValueError()"
   ]
  },
  {
   "cell_type": "code",
   "execution_count": 8,
   "id": "01ffd18d",
   "metadata": {
    "execution": {
     "iopub.execute_input": "2025-05-15T16:14:39.858935Z",
     "iopub.status.busy": "2025-05-15T16:14:39.858608Z",
     "iopub.status.idle": "2025-05-15T16:14:39.861769Z",
     "shell.execute_reply": "2025-05-15T16:14:39.861447Z"
    },
    "papermill": {
     "duration": 0.009952,
     "end_time": "2025-05-15T16:14:39.862660",
     "exception": false,
     "start_time": "2025-05-15T16:14:39.852708",
     "status": "completed"
    },
    "tags": []
   },
   "outputs": [
    {
     "data": {
      "text/plain": [
       "(5232, 118)"
      ]
     },
     "execution_count": 8,
     "metadata": {},
     "output_type": "execute_result"
    }
   ],
   "source": [
    "train_adata.shape"
   ]
  },
  {
   "cell_type": "code",
   "execution_count": 9,
   "id": "36d02e60",
   "metadata": {
    "execution": {
     "iopub.execute_input": "2025-05-15T16:14:39.875678Z",
     "iopub.status.busy": "2025-05-15T16:14:39.875350Z",
     "iopub.status.idle": "2025-05-15T16:14:39.879375Z",
     "shell.execute_reply": "2025-05-15T16:14:39.879057Z"
    },
    "papermill": {
     "duration": 0.011389,
     "end_time": "2025-05-15T16:14:39.880220",
     "exception": false,
     "start_time": "2025-05-15T16:14:39.868831",
     "status": "completed"
    },
    "tags": []
   },
   "outputs": [
    {
     "data": {
      "text/plain": [
       "['RA', 'healthy', 'COVID', 'HIV', 'cirrhosis', 'CD', 'SLE', 'sepsis']\n",
       "Categories (8, object): ['CD', 'COVID', 'HIV', 'RA', 'SLE', 'cirrhosis', 'healthy', 'sepsis']"
      ]
     },
     "execution_count": 9,
     "metadata": {},
     "output_type": "execute_result"
    }
   ],
   "source": [
    "train_adata.obs.disease.unique()"
   ]
  },
  {
   "cell_type": "code",
   "execution_count": 10,
   "id": "76d9080b",
   "metadata": {
    "execution": {
     "iopub.execute_input": "2025-05-15T16:14:39.892279Z",
     "iopub.status.busy": "2025-05-15T16:14:39.891951Z",
     "iopub.status.idle": "2025-05-15T16:14:39.896182Z",
     "shell.execute_reply": "2025-05-15T16:14:39.895851Z"
    },
    "papermill": {
     "duration": 0.011355,
     "end_time": "2025-05-15T16:14:39.897103",
     "exception": false,
     "start_time": "2025-05-15T16:14:39.885748",
     "status": "completed"
    },
    "tags": []
   },
   "outputs": [
    {
     "data": {
      "text/plain": [
       "['SCGT00val_I036021_T0', 'SCGT00val_I036023_T0', 'SCGT00val_I036024_T0', 'SCGT00val_I036019_T0', 'SCGT00val_I0364_T0', ..., '10XGenomics_10XHC2_T0', '10XGenomics_10XHC3_T0', '10XGenomics_10XHC5_T0', '10XGenomics_10XHC7_T0', '10XGenomics_10XHC8_T0']\n",
       "Length: 86\n",
       "Categories (86, object): ['10XGenomics_10XHC1_T0', '10XGenomics_10XHC2_T0', '10XGenomics_10XHC3_T0', '10XGenomics_10XHC4_T0', ..., 'Savage2021_BRISL6_T0', 'Savage2021_BRISL7_T0', 'Savage2021_PIDA_T0', 'Savage2021_PIDB_T0']"
      ]
     },
     "execution_count": 10,
     "metadata": {},
     "output_type": "execute_result"
    }
   ],
   "source": [
    "train_adata.obs.sampleID.unique()"
   ]
  },
  {
   "cell_type": "code",
   "execution_count": 11,
   "id": "04215356",
   "metadata": {
    "execution": {
     "iopub.execute_input": "2025-05-15T16:14:39.910122Z",
     "iopub.status.busy": "2025-05-15T16:14:39.909440Z",
     "iopub.status.idle": "2025-05-15T16:14:39.951668Z",
     "shell.execute_reply": "2025-05-15T16:14:39.950811Z"
    },
    "papermill": {
     "duration": 0.050062,
     "end_time": "2025-05-15T16:14:39.952788",
     "exception": false,
     "start_time": "2025-05-15T16:14:39.902726",
     "status": "completed"
    },
    "tags": []
   },
   "outputs": [],
   "source": [
    "all_idxs = np.arange(train_adata.obs.shape[0])\n",
    "left_out_splits = [s[1] for s in StratifiedGroupKFold(n_splits=N_SPLITS).split(all_idxs, train_adata.obs.disease, train_adata.obs.sampleID)]"
   ]
  },
  {
   "cell_type": "code",
   "execution_count": 12,
   "id": "c9357c8a",
   "metadata": {
    "execution": {
     "iopub.execute_input": "2025-05-15T16:14:39.965723Z",
     "iopub.status.busy": "2025-05-15T16:14:39.965467Z",
     "iopub.status.idle": "2025-05-15T16:14:39.969200Z",
     "shell.execute_reply": "2025-05-15T16:14:39.968872Z"
    },
    "papermill": {
     "duration": 0.01068,
     "end_time": "2025-05-15T16:14:39.970039",
     "exception": false,
     "start_time": "2025-05-15T16:14:39.959359",
     "status": "completed"
    },
    "tags": []
   },
   "outputs": [
    {
     "data": {
      "text/plain": [
       "([2, 3, 4], 1, 0)"
      ]
     },
     "execution_count": 12,
     "metadata": {},
     "output_type": "execute_result"
    }
   ],
   "source": [
    "TRAIN_SPLIT_IDXS = [0,1,2,3,4]\n",
    "VAL_SPLIT_IDX = (TEST_SPLIT_IDX + 1) % 5\n",
    "TRAIN_SPLIT_IDXS.remove(TEST_SPLIT_IDX)\n",
    "TRAIN_SPLIT_IDXS.remove(VAL_SPLIT_IDX)\n",
    "TRAIN_SPLIT_IDXS, VAL_SPLIT_IDX, TEST_SPLIT_IDX"
   ]
  },
  {
   "cell_type": "code",
   "execution_count": 13,
   "id": "bd896195",
   "metadata": {
    "execution": {
     "iopub.execute_input": "2025-05-15T16:14:39.982785Z",
     "iopub.status.busy": "2025-05-15T16:14:39.982561Z",
     "iopub.status.idle": "2025-05-15T16:14:39.985244Z",
     "shell.execute_reply": "2025-05-15T16:14:39.984935Z"
    },
    "papermill": {
     "duration": 0.010191,
     "end_time": "2025-05-15T16:14:39.986038",
     "exception": false,
     "start_time": "2025-05-15T16:14:39.975847",
     "status": "completed"
    },
    "tags": []
   },
   "outputs": [],
   "source": [
    "train_idxs = np.concatenate([left_out_splits[idx] for idx in TRAIN_SPLIT_IDXS])\n",
    "val_idxs = left_out_splits[VAL_SPLIT_IDX]\n",
    "test_idxs = left_out_splits[TEST_SPLIT_IDX]"
   ]
  },
  {
   "cell_type": "markdown",
   "id": "3ec5f15f",
   "metadata": {
    "papermill": {
     "duration": 0.012391,
     "end_time": "2025-05-15T16:14:40.003882",
     "exception": false,
     "start_time": "2025-05-15T16:14:39.991491",
     "status": "completed"
    },
    "tags": []
   },
   "source": [
    "### SUBSET DATASET INTO TRAIN/TEST/VAL SPLITS"
   ]
  },
  {
   "cell_type": "code",
   "execution_count": 14,
   "id": "9eafe0f2",
   "metadata": {
    "execution": {
     "iopub.execute_input": "2025-05-15T16:14:40.054673Z",
     "iopub.status.busy": "2025-05-15T16:14:40.054389Z",
     "iopub.status.idle": "2025-05-15T16:14:40.080680Z",
     "shell.execute_reply": "2025-05-15T16:14:40.080305Z"
    },
    "papermill": {
     "duration": 0.071857,
     "end_time": "2025-05-15T16:14:40.081610",
     "exception": false,
     "start_time": "2025-05-15T16:14:40.009753",
     "status": "completed"
    },
    "tags": []
   },
   "outputs": [
    {
     "data": {
      "text/plain": [
       "((3132, 118), (1033, 118), (1067, 118))"
      ]
     },
     "execution_count": 14,
     "metadata": {},
     "output_type": "execute_result"
    }
   ],
   "source": [
    "X_train = train_adata.X[train_idxs]\n",
    "X_test = train_adata.X[test_idxs]\n",
    "X_val = train_adata.X[val_idxs]\n",
    "X_train.shape, X_test.shape, X_val.shape"
   ]
  },
  {
   "cell_type": "code",
   "execution_count": 15,
   "id": "80bf5075",
   "metadata": {
    "execution": {
     "iopub.execute_input": "2025-05-15T16:14:40.095081Z",
     "iopub.status.busy": "2025-05-15T16:14:40.094849Z",
     "iopub.status.idle": "2025-05-15T16:14:40.100468Z",
     "shell.execute_reply": "2025-05-15T16:14:40.100127Z"
    },
    "papermill": {
     "duration": 0.013765,
     "end_time": "2025-05-15T16:14:40.101551",
     "exception": false,
     "start_time": "2025-05-15T16:14:40.087786",
     "status": "completed"
    },
    "tags": []
   },
   "outputs": [
    {
     "data": {
      "text/plain": [
       "((3132,), (1033,), (1067,))"
      ]
     },
     "execution_count": 15,
     "metadata": {},
     "output_type": "execute_result"
    }
   ],
   "source": [
    "y_train = train_adata.obs.iloc[train_idxs].disease.values.astype(str)\n",
    "y_test = train_adata.obs.iloc[test_idxs].disease.values.astype(str)\n",
    "y_val = train_adata.obs.iloc[val_idxs].disease.values.astype(str)\n",
    "y_train.shape, y_test.shape, y_val.shape"
   ]
  },
  {
   "cell_type": "code",
   "execution_count": 16,
   "id": "2b60b82c",
   "metadata": {
    "execution": {
     "iopub.execute_input": "2025-05-15T16:14:40.190304Z",
     "iopub.status.busy": "2025-05-15T16:14:40.190035Z",
     "iopub.status.idle": "2025-05-15T16:14:40.194222Z",
     "shell.execute_reply": "2025-05-15T16:14:40.193905Z"
    },
    "papermill": {
     "duration": 0.087547,
     "end_time": "2025-05-15T16:14:40.195094",
     "exception": false,
     "start_time": "2025-05-15T16:14:40.107547",
     "status": "completed"
    },
    "tags": []
   },
   "outputs": [],
   "source": [
    "lenc = LabelEncoder()\n",
    "y_train_enc = lenc.fit_transform(y_train)\n",
    "y_val_enc = lenc.transform(y_val)\n",
    "y_test_enc = lenc.transform(y_test)"
   ]
  },
  {
   "cell_type": "markdown",
   "id": "01181ca3",
   "metadata": {
    "papermill": {
     "duration": 0.006016,
     "end_time": "2025-05-15T16:14:40.207434",
     "exception": false,
     "start_time": "2025-05-15T16:14:40.201418",
     "status": "completed"
    },
    "tags": []
   },
   "source": [
    "### GENERATE F1 "
   ]
  },
  {
   "cell_type": "code",
   "execution_count": 17,
   "id": "bba5807d",
   "metadata": {
    "execution": {
     "iopub.execute_input": "2025-05-15T16:14:40.219880Z",
     "iopub.status.busy": "2025-05-15T16:14:40.219611Z",
     "iopub.status.idle": "2025-05-15T16:14:40.222296Z",
     "shell.execute_reply": "2025-05-15T16:14:40.221988Z"
    },
    "papermill": {
     "duration": 0.01026,
     "end_time": "2025-05-15T16:14:40.223151",
     "exception": false,
     "start_time": "2025-05-15T16:14:40.212891",
     "status": "completed"
    },
    "tags": []
   },
   "outputs": [],
   "source": [
    "def custom_f1_score(y_true, y_pred):\n",
    "    return -f1_score(y_true, y_pred.argmax(1), average='weighted')"
   ]
  },
  {
   "cell_type": "code",
   "execution_count": 18,
   "id": "1acfad83",
   "metadata": {
    "execution": {
     "iopub.execute_input": "2025-05-15T16:14:40.235511Z",
     "iopub.status.busy": "2025-05-15T16:14:40.235321Z",
     "iopub.status.idle": "2025-05-15T16:14:40.239077Z",
     "shell.execute_reply": "2025-05-15T16:14:40.238718Z"
    },
    "papermill": {
     "duration": 0.010484,
     "end_time": "2025-05-15T16:14:40.239899",
     "exception": false,
     "start_time": "2025-05-15T16:14:40.229415",
     "status": "completed"
    },
    "tags": []
   },
   "outputs": [],
   "source": [
    "eval_metric=custom_f1_score\n",
    "eval_metric_name='custom_f1_score'\n",
    "\n",
    "def objective(trial):\n",
    "    params = {\n",
    "        'n_estimators': 1500,\n",
    "        'max_depth': trial.suggest_int('max_depth', 3, 20),\n",
    "        'min_child_weight': trial.suggest_int('min_child_weight', 1, 250),\n",
    "        'subsample': trial.suggest_float('subsample', 0.1, 1.0),\n",
    "        'colsample_bynode': trial.suggest_float('colsample_bynode', 0.1, 1.0),\n",
    "        'learning_rate': trial.suggest_float('learning_rate', 1e-3, 5e-1, log=True),\n",
    "    }\n",
    "    pruning_callback = optuna.integration.XGBoostPruningCallback(trial, f'validation_0-{eval_metric_name}')\n",
    "    es_callback = xgboost.callback.EarlyStopping(20, min_delta=0.001)\n",
    "    xgb = xgboost.XGBClassifier(\n",
    "        eval_metric=eval_metric,\n",
    "        callbacks=[pruning_callback, es_callback],\n",
    "        n_jobs=5,\n",
    "        **params\n",
    "    )\n",
    "    xgb.fit(\n",
    "        X_train, \n",
    "        y_train_enc, \n",
    "        verbose=0,\n",
    "        eval_set=[(X_val, y_val_enc)],\n",
    "    )\n",
    "    trial.set_user_attr('best_iteration', xgb.best_iteration)\n",
    "\n",
    "    return xgb.best_score"
   ]
  },
  {
   "cell_type": "code",
   "execution_count": 19,
   "id": "9a7e222e",
   "metadata": {
    "execution": {
     "iopub.execute_input": "2025-05-15T16:14:40.252058Z",
     "iopub.status.busy": "2025-05-15T16:14:40.251852Z",
     "iopub.status.idle": "2025-05-15T16:15:19.411249Z",
     "shell.execute_reply": "2025-05-15T16:15:19.410721Z"
    },
    "papermill": {
     "duration": 39.166718,
     "end_time": "2025-05-15T16:15:19.412320",
     "exception": false,
     "start_time": "2025-05-15T16:14:40.245602",
     "status": "completed"
    },
    "scrolled": true,
    "tags": []
   },
   "outputs": [
    {
     "name": "stderr",
     "output_type": "stream",
     "text": [
      "[I 2025-05-15 18:14:40,253] A new study created in memory with name: no-name-ae94d1a1-de3c-4ed0-8702-17ca428c4f05\n"
     ]
    },
    {
     "name": "stderr",
     "output_type": "stream",
     "text": [
      "[I 2025-05-15 18:14:40,626] Trial 0 finished with value: -0.602823 and parameters: {'max_depth': 9, 'min_child_weight': 238, 'subsample': 0.7587945476302645, 'colsample_bynode': 0.6387926357773329, 'learning_rate': 0.0026368755339723046}. Best is trial 0 with value: -0.602823.\n"
     ]
    },
    {
     "name": "stderr",
     "output_type": "stream",
     "text": [
      "[I 2025-05-15 18:14:42,531] Trial 1 finished with value: -0.74102 and parameters: {'max_depth': 5, 'min_child_weight': 15, 'subsample': 0.8795585311974417, 'colsample_bynode': 0.6410035105688879, 'learning_rate': 0.08148293210105287}. Best is trial 1 with value: -0.74102.\n"
     ]
    },
    {
     "name": "stderr",
     "output_type": "stream",
     "text": [
      "[I 2025-05-15 18:14:42,812] Trial 2 finished with value: -0.620533 and parameters: {'max_depth': 3, 'min_child_weight': 243, 'subsample': 0.8491983767203796, 'colsample_bynode': 0.29110519961044856, 'learning_rate': 0.003095566460242371}. Best is trial 1 with value: -0.74102.\n"
     ]
    },
    {
     "name": "stderr",
     "output_type": "stream",
     "text": [
      "[I 2025-05-15 18:14:43,263] Trial 3 finished with value: -0.642394 and parameters: {'max_depth': 6, 'min_child_weight': 77, 'subsample': 0.5722807884690141, 'colsample_bynode': 0.48875051677790415, 'learning_rate': 0.006109683510122491}. Best is trial 1 with value: -0.74102.\n"
     ]
    },
    {
     "name": "stderr",
     "output_type": "stream",
     "text": [
      "[I 2025-05-15 18:14:43,713] Trial 4 finished with value: -0.64918 and parameters: {'max_depth': 14, 'min_child_weight': 35, 'subsample': 0.3629301836816964, 'colsample_bynode': 0.4297256589643226, 'learning_rate': 0.01701841881702917}. Best is trial 1 with value: -0.74102.\n"
     ]
    },
    {
     "name": "stderr",
     "output_type": "stream",
     "text": [
      "[I 2025-05-15 18:14:44,141] Trial 5 finished with value: -0.663758 and parameters: {'max_depth': 17, 'min_child_weight': 50, 'subsample': 0.5628109945722505, 'colsample_bynode': 0.6331731119758383, 'learning_rate': 0.0013346527038305934}. Best is trial 1 with value: -0.74102.\n"
     ]
    },
    {
     "name": "stderr",
     "output_type": "stream",
     "text": [
      "[I 2025-05-15 18:14:44,268] Trial 6 pruned. Trial was pruned at iteration 0.\n"
     ]
    },
    {
     "name": "stderr",
     "output_type": "stream",
     "text": [
      "[I 2025-05-15 18:14:44,395] Trial 7 pruned. Trial was pruned at iteration 0.\n"
     ]
    },
    {
     "name": "stderr",
     "output_type": "stream",
     "text": [
      "[I 2025-05-15 18:14:44,510] Trial 8 pruned. Trial was pruned at iteration 0.\n"
     ]
    },
    {
     "name": "stderr",
     "output_type": "stream",
     "text": [
      "[I 2025-05-15 18:14:44,891] Trial 9 finished with value: -0.646801 and parameters: {'max_depth': 14, 'min_child_weight': 78, 'subsample': 0.5680612190600297, 'colsample_bynode': 0.5920392514089517, 'learning_rate': 0.0031543990308330965}. Best is trial 1 with value: -0.74102.\n"
     ]
    },
    {
     "name": "stderr",
     "output_type": "stream",
     "text": [
      "[I 2025-05-15 18:14:46,546] Trial 10 pruned. Trial was pruned at iteration 39.\n"
     ]
    },
    {
     "name": "stderr",
     "output_type": "stream",
     "text": [
      "[I 2025-05-15 18:14:50,020] Trial 11 finished with value: -0.748294 and parameters: {'max_depth': 19, 'min_child_weight': 3, 'subsample': 0.6936419035846974, 'colsample_bynode': 0.7730352953321189, 'learning_rate': 0.08587379144532957}. Best is trial 11 with value: -0.748294.\n"
     ]
    },
    {
     "name": "stderr",
     "output_type": "stream",
     "text": [
      "[I 2025-05-15 18:14:52,998] Trial 12 pruned. Trial was pruned at iteration 40.\n"
     ]
    },
    {
     "name": "stderr",
     "output_type": "stream",
     "text": [
      "[I 2025-05-15 18:14:53,147] Trial 13 pruned. Trial was pruned at iteration 0.\n"
     ]
    },
    {
     "name": "stderr",
     "output_type": "stream",
     "text": [
      "[I 2025-05-15 18:14:53,297] Trial 14 pruned. Trial was pruned at iteration 0.\n"
     ]
    },
    {
     "name": "stderr",
     "output_type": "stream",
     "text": [
      "[I 2025-05-15 18:14:55,662] Trial 15 pruned. Trial was pruned at iteration 28.\n"
     ]
    },
    {
     "name": "stderr",
     "output_type": "stream",
     "text": [
      "[I 2025-05-15 18:14:55,829] Trial 16 pruned. Trial was pruned at iteration 0.\n"
     ]
    },
    {
     "name": "stderr",
     "output_type": "stream",
     "text": [
      "[I 2025-05-15 18:14:55,966] Trial 17 pruned. Trial was pruned at iteration 0.\n"
     ]
    },
    {
     "name": "stderr",
     "output_type": "stream",
     "text": [
      "[I 2025-05-15 18:14:56,740] Trial 18 finished with value: -0.715008 and parameters: {'max_depth': 17, 'min_child_weight': 37, 'subsample': 0.8655075802945604, 'colsample_bynode': 0.8714069740636788, 'learning_rate': 0.03693479582881723}. Best is trial 11 with value: -0.748294.\n"
     ]
    },
    {
     "name": "stderr",
     "output_type": "stream",
     "text": [
      "[I 2025-05-15 18:14:56,878] Trial 19 pruned. Trial was pruned at iteration 0.\n"
     ]
    },
    {
     "name": "stderr",
     "output_type": "stream",
     "text": [
      "[I 2025-05-15 18:14:57,541] Trial 20 pruned. Trial was pruned at iteration 26.\n"
     ]
    },
    {
     "name": "stderr",
     "output_type": "stream",
     "text": [
      "[I 2025-05-15 18:14:58,492] Trial 21 finished with value: -0.719525 and parameters: {'max_depth': 17, 'min_child_weight': 25, 'subsample': 0.8524655332992119, 'colsample_bynode': 0.8768444076354649, 'learning_rate': 0.036071858140429645}. Best is trial 11 with value: -0.748294.\n"
     ]
    },
    {
     "name": "stderr",
     "output_type": "stream",
     "text": [
      "[I 2025-05-15 18:14:58,992] Trial 22 pruned. Trial was pruned at iteration 21.\n"
     ]
    },
    {
     "name": "stderr",
     "output_type": "stream",
     "text": [
      "[I 2025-05-15 18:14:59,933] Trial 23 finished with value: -0.716627 and parameters: {'max_depth': 16, 'min_child_weight': 22, 'subsample': 0.9496008791027092, 'colsample_bynode': 0.871535251335568, 'learning_rate': 0.011907932500065162}. Best is trial 11 with value: -0.748294.\n"
     ]
    },
    {
     "name": "stderr",
     "output_type": "stream",
     "text": [
      "[I 2025-05-15 18:15:00,935] Trial 24 finished with value: -0.715986 and parameters: {'max_depth': 20, 'min_child_weight': 18, 'subsample': 0.9156087869704703, 'colsample_bynode': 0.6640768816182884, 'learning_rate': 0.04804918801516844}. Best is trial 11 with value: -0.748294.\n"
     ]
    },
    {
     "name": "stderr",
     "output_type": "stream",
     "text": [
      "[I 2025-05-15 18:15:01,103] Trial 25 pruned. Trial was pruned at iteration 0.\n"
     ]
    },
    {
     "name": "stderr",
     "output_type": "stream",
     "text": [
      "[I 2025-05-15 18:15:02,433] Trial 26 finished with value: -0.745391 and parameters: {'max_depth': 18, 'min_child_weight': 24, 'subsample': 0.8216274792927253, 'colsample_bynode': 0.8915507162992631, 'learning_rate': 0.26121322355262905}. Best is trial 11 with value: -0.748294.\n"
     ]
    },
    {
     "name": "stderr",
     "output_type": "stream",
     "text": [
      "[I 2025-05-15 18:15:02,593] Trial 27 pruned. Trial was pruned at iteration 0.\n"
     ]
    },
    {
     "name": "stderr",
     "output_type": "stream",
     "text": [
      "[I 2025-05-15 18:15:02,762] Trial 28 pruned. Trial was pruned at iteration 0.\n"
     ]
    },
    {
     "name": "stderr",
     "output_type": "stream",
     "text": [
      "[I 2025-05-15 18:15:02,921] Trial 29 pruned. Trial was pruned at iteration 0.\n"
     ]
    },
    {
     "name": "stderr",
     "output_type": "stream",
     "text": [
      "[I 2025-05-15 18:15:03,097] Trial 30 pruned. Trial was pruned at iteration 0.\n"
     ]
    },
    {
     "name": "stderr",
     "output_type": "stream",
     "text": [
      "[I 2025-05-15 18:15:04,215] Trial 31 pruned. Trial was pruned at iteration 25.\n"
     ]
    },
    {
     "name": "stderr",
     "output_type": "stream",
     "text": [
      "[I 2025-05-15 18:15:05,157] Trial 32 finished with value: -0.720637 and parameters: {'max_depth': 18, 'min_child_weight': 32, 'subsample': 0.8969793649836593, 'colsample_bynode': 0.9904016626056938, 'learning_rate': 0.021859219124896058}. Best is trial 11 with value: -0.748294.\n"
     ]
    },
    {
     "name": "stderr",
     "output_type": "stream",
     "text": [
      "[I 2025-05-15 18:15:05,971] Trial 33 finished with value: -0.721289 and parameters: {'max_depth': 18, 'min_child_weight': 40, 'subsample': 0.9174541992388147, 'colsample_bynode': 0.9844915997505926, 'learning_rate': 0.021421060007843468}. Best is trial 11 with value: -0.748294.\n"
     ]
    },
    {
     "name": "stderr",
     "output_type": "stream",
     "text": [
      "[I 2025-05-15 18:15:06,171] Trial 34 pruned. Trial was pruned at iteration 1.\n"
     ]
    },
    {
     "name": "stderr",
     "output_type": "stream",
     "text": [
      "[I 2025-05-15 18:15:06,439] Trial 35 pruned. Trial was pruned at iteration 3.\n"
     ]
    },
    {
     "name": "stderr",
     "output_type": "stream",
     "text": [
      "[I 2025-05-15 18:15:06,625] Trial 36 pruned. Trial was pruned at iteration 0.\n"
     ]
    },
    {
     "name": "stderr",
     "output_type": "stream",
     "text": [
      "[I 2025-05-15 18:15:06,809] Trial 37 pruned. Trial was pruned at iteration 0.\n"
     ]
    },
    {
     "name": "stderr",
     "output_type": "stream",
     "text": [
      "[I 2025-05-15 18:15:06,989] Trial 38 pruned. Trial was pruned at iteration 0.\n"
     ]
    },
    {
     "name": "stderr",
     "output_type": "stream",
     "text": [
      "[I 2025-05-15 18:15:07,963] Trial 39 finished with value: -0.713101 and parameters: {'max_depth': 10, 'min_child_weight': 15, 'subsample': 0.6066941525600227, 'colsample_bynode': 0.8292699504819354, 'learning_rate': 0.015629361980168194}. Best is trial 11 with value: -0.748294.\n"
     ]
    },
    {
     "name": "stderr",
     "output_type": "stream",
     "text": [
      "[I 2025-05-15 18:15:08,147] Trial 40 pruned. Trial was pruned at iteration 0.\n"
     ]
    },
    {
     "name": "stderr",
     "output_type": "stream",
     "text": [
      "[I 2025-05-15 18:15:09,103] Trial 41 pruned. Trial was pruned at iteration 25.\n"
     ]
    },
    {
     "name": "stderr",
     "output_type": "stream",
     "text": [
      "[I 2025-05-15 18:15:09,381] Trial 42 pruned. Trial was pruned at iteration 3.\n"
     ]
    },
    {
     "name": "stderr",
     "output_type": "stream",
     "text": [
      "[I 2025-05-15 18:15:10,823] Trial 43 finished with value: -0.726701 and parameters: {'max_depth': 18, 'min_child_weight': 7, 'subsample': 0.9024194489396054, 'colsample_bynode': 0.9555188070327366, 'learning_rate': 0.012029754634885995}. Best is trial 11 with value: -0.748294.\n"
     ]
    },
    {
     "name": "stderr",
     "output_type": "stream",
     "text": [
      "[I 2025-05-15 18:15:11,020] Trial 44 pruned. Trial was pruned at iteration 0.\n"
     ]
    },
    {
     "name": "stderr",
     "output_type": "stream",
     "text": [
      "[I 2025-05-15 18:15:12,446] Trial 45 pruned. Trial was pruned at iteration 25.\n"
     ]
    },
    {
     "name": "stderr",
     "output_type": "stream",
     "text": [
      "[I 2025-05-15 18:15:12,616] Trial 46 pruned. Trial was pruned at iteration 0.\n"
     ]
    },
    {
     "name": "stderr",
     "output_type": "stream",
     "text": [
      "[I 2025-05-15 18:15:18,069] Trial 47 pruned. Trial was pruned at iteration 39.\n"
     ]
    },
    {
     "name": "stderr",
     "output_type": "stream",
     "text": [
      "[I 2025-05-15 18:15:18,216] Trial 48 pruned. Trial was pruned at iteration 0.\n"
     ]
    },
    {
     "name": "stderr",
     "output_type": "stream",
     "text": [
      "[I 2025-05-15 18:15:19,311] Trial 49 pruned. Trial was pruned at iteration 26.\n"
     ]
    }
   ],
   "source": [
    "sampler = optuna.samplers.TPESampler(seed=42)\n",
    "study = optuna.create_study(direction='minimize', sampler=sampler)\n",
    "study.optimize(objective, n_trials=N_TRIALS, gc_after_trial=True)"
   ]
  },
  {
   "cell_type": "code",
   "execution_count": 20,
   "id": "d0aa8463",
   "metadata": {
    "execution": {
     "iopub.execute_input": "2025-05-15T16:15:19.438399Z",
     "iopub.status.busy": "2025-05-15T16:15:19.438127Z",
     "iopub.status.idle": "2025-05-15T16:15:19.459259Z",
     "shell.execute_reply": "2025-05-15T16:15:19.458932Z"
    },
    "papermill": {
     "duration": 0.031982,
     "end_time": "2025-05-15T16:15:19.460071",
     "exception": false,
     "start_time": "2025-05-15T16:15:19.428089",
     "status": "completed"
    },
    "tags": []
   },
   "outputs": [
    {
     "data": {
      "text/plain": [
       "['/scratch_isilon/groups/singlecell/shared/projects/Inflammation-PBMCs-Atlas/03_downstream_analysis/08_gene_importance/xgboost_external_validation/xgboost_TopN_genes/results_20/study/DC_4_0_xgboost.pkl']"
      ]
     },
     "execution_count": 20,
     "metadata": {},
     "output_type": "execute_result"
    }
   ],
   "source": [
    "out_dir = here(f'03_downstream_analysis/08_gene_importance/xgboost_external_validation/xgboost_TopN_genes/results_{N_GENES}/study')\n",
    "\n",
    "if not os.path.exists(out_dir):\n",
    "    os.makedirs(out_dir)\n",
    "    \n",
    "joblib.dump(study,os.path.join(out_dir, f'{CELL_TYPE}_{SEED}_{TEST_SPLIT_IDX}_xgboost.pkl'))"
   ]
  },
  {
   "cell_type": "code",
   "execution_count": 21,
   "id": "218171ea",
   "metadata": {
    "execution": {
     "iopub.execute_input": "2025-05-15T16:15:19.492227Z",
     "iopub.status.busy": "2025-05-15T16:15:19.491924Z",
     "iopub.status.idle": "2025-05-15T16:15:22.583519Z",
     "shell.execute_reply": "2025-05-15T16:15:22.583172Z"
    },
    "papermill": {
     "duration": 3.116534,
     "end_time": "2025-05-15T16:15:22.584695",
     "exception": false,
     "start_time": "2025-05-15T16:15:19.468161",
     "status": "completed"
    },
    "tags": []
   },
   "outputs": [
    {
     "data": {
      "text/html": [
       "<style>#sk-container-id-1 {\n",
       "  /* Definition of color scheme common for light and dark mode */\n",
       "  --sklearn-color-text: black;\n",
       "  --sklearn-color-line: gray;\n",
       "  /* Definition of color scheme for unfitted estimators */\n",
       "  --sklearn-color-unfitted-level-0: #fff5e6;\n",
       "  --sklearn-color-unfitted-level-1: #f6e4d2;\n",
       "  --sklearn-color-unfitted-level-2: #ffe0b3;\n",
       "  --sklearn-color-unfitted-level-3: chocolate;\n",
       "  /* Definition of color scheme for fitted estimators */\n",
       "  --sklearn-color-fitted-level-0: #f0f8ff;\n",
       "  --sklearn-color-fitted-level-1: #d4ebff;\n",
       "  --sklearn-color-fitted-level-2: #b3dbfd;\n",
       "  --sklearn-color-fitted-level-3: cornflowerblue;\n",
       "\n",
       "  /* Specific color for light theme */\n",
       "  --sklearn-color-text-on-default-background: var(--sg-text-color, var(--theme-code-foreground, var(--jp-content-font-color1, black)));\n",
       "  --sklearn-color-background: var(--sg-background-color, var(--theme-background, var(--jp-layout-color0, white)));\n",
       "  --sklearn-color-border-box: var(--sg-text-color, var(--theme-code-foreground, var(--jp-content-font-color1, black)));\n",
       "  --sklearn-color-icon: #696969;\n",
       "\n",
       "  @media (prefers-color-scheme: dark) {\n",
       "    /* Redefinition of color scheme for dark theme */\n",
       "    --sklearn-color-text-on-default-background: var(--sg-text-color, var(--theme-code-foreground, var(--jp-content-font-color1, white)));\n",
       "    --sklearn-color-background: var(--sg-background-color, var(--theme-background, var(--jp-layout-color0, #111)));\n",
       "    --sklearn-color-border-box: var(--sg-text-color, var(--theme-code-foreground, var(--jp-content-font-color1, white)));\n",
       "    --sklearn-color-icon: #878787;\n",
       "  }\n",
       "}\n",
       "\n",
       "#sk-container-id-1 {\n",
       "  color: var(--sklearn-color-text);\n",
       "}\n",
       "\n",
       "#sk-container-id-1 pre {\n",
       "  padding: 0;\n",
       "}\n",
       "\n",
       "#sk-container-id-1 input.sk-hidden--visually {\n",
       "  border: 0;\n",
       "  clip: rect(1px 1px 1px 1px);\n",
       "  clip: rect(1px, 1px, 1px, 1px);\n",
       "  height: 1px;\n",
       "  margin: -1px;\n",
       "  overflow: hidden;\n",
       "  padding: 0;\n",
       "  position: absolute;\n",
       "  width: 1px;\n",
       "}\n",
       "\n",
       "#sk-container-id-1 div.sk-dashed-wrapped {\n",
       "  border: 1px dashed var(--sklearn-color-line);\n",
       "  margin: 0 0.4em 0.5em 0.4em;\n",
       "  box-sizing: border-box;\n",
       "  padding-bottom: 0.4em;\n",
       "  background-color: var(--sklearn-color-background);\n",
       "}\n",
       "\n",
       "#sk-container-id-1 div.sk-container {\n",
       "  /* jupyter's `normalize.less` sets `[hidden] { display: none; }`\n",
       "     but bootstrap.min.css set `[hidden] { display: none !important; }`\n",
       "     so we also need the `!important` here to be able to override the\n",
       "     default hidden behavior on the sphinx rendered scikit-learn.org.\n",
       "     See: https://github.com/scikit-learn/scikit-learn/issues/21755 */\n",
       "  display: inline-block !important;\n",
       "  position: relative;\n",
       "}\n",
       "\n",
       "#sk-container-id-1 div.sk-text-repr-fallback {\n",
       "  display: none;\n",
       "}\n",
       "\n",
       "div.sk-parallel-item,\n",
       "div.sk-serial,\n",
       "div.sk-item {\n",
       "  /* draw centered vertical line to link estimators */\n",
       "  background-image: linear-gradient(var(--sklearn-color-text-on-default-background), var(--sklearn-color-text-on-default-background));\n",
       "  background-size: 2px 100%;\n",
       "  background-repeat: no-repeat;\n",
       "  background-position: center center;\n",
       "}\n",
       "\n",
       "/* Parallel-specific style estimator block */\n",
       "\n",
       "#sk-container-id-1 div.sk-parallel-item::after {\n",
       "  content: \"\";\n",
       "  width: 100%;\n",
       "  border-bottom: 2px solid var(--sklearn-color-text-on-default-background);\n",
       "  flex-grow: 1;\n",
       "}\n",
       "\n",
       "#sk-container-id-1 div.sk-parallel {\n",
       "  display: flex;\n",
       "  align-items: stretch;\n",
       "  justify-content: center;\n",
       "  background-color: var(--sklearn-color-background);\n",
       "  position: relative;\n",
       "}\n",
       "\n",
       "#sk-container-id-1 div.sk-parallel-item {\n",
       "  display: flex;\n",
       "  flex-direction: column;\n",
       "}\n",
       "\n",
       "#sk-container-id-1 div.sk-parallel-item:first-child::after {\n",
       "  align-self: flex-end;\n",
       "  width: 50%;\n",
       "}\n",
       "\n",
       "#sk-container-id-1 div.sk-parallel-item:last-child::after {\n",
       "  align-self: flex-start;\n",
       "  width: 50%;\n",
       "}\n",
       "\n",
       "#sk-container-id-1 div.sk-parallel-item:only-child::after {\n",
       "  width: 0;\n",
       "}\n",
       "\n",
       "/* Serial-specific style estimator block */\n",
       "\n",
       "#sk-container-id-1 div.sk-serial {\n",
       "  display: flex;\n",
       "  flex-direction: column;\n",
       "  align-items: center;\n",
       "  background-color: var(--sklearn-color-background);\n",
       "  padding-right: 1em;\n",
       "  padding-left: 1em;\n",
       "}\n",
       "\n",
       "\n",
       "/* Toggleable style: style used for estimator/Pipeline/ColumnTransformer box that is\n",
       "clickable and can be expanded/collapsed.\n",
       "- Pipeline and ColumnTransformer use this feature and define the default style\n",
       "- Estimators will overwrite some part of the style using the `sk-estimator` class\n",
       "*/\n",
       "\n",
       "/* Pipeline and ColumnTransformer style (default) */\n",
       "\n",
       "#sk-container-id-1 div.sk-toggleable {\n",
       "  /* Default theme specific background. It is overwritten whether we have a\n",
       "  specific estimator or a Pipeline/ColumnTransformer */\n",
       "  background-color: var(--sklearn-color-background);\n",
       "}\n",
       "\n",
       "/* Toggleable label */\n",
       "#sk-container-id-1 label.sk-toggleable__label {\n",
       "  cursor: pointer;\n",
       "  display: block;\n",
       "  width: 100%;\n",
       "  margin-bottom: 0;\n",
       "  padding: 0.5em;\n",
       "  box-sizing: border-box;\n",
       "  text-align: center;\n",
       "}\n",
       "\n",
       "#sk-container-id-1 label.sk-toggleable__label-arrow:before {\n",
       "  /* Arrow on the left of the label */\n",
       "  content: \"▸\";\n",
       "  float: left;\n",
       "  margin-right: 0.25em;\n",
       "  color: var(--sklearn-color-icon);\n",
       "}\n",
       "\n",
       "#sk-container-id-1 label.sk-toggleable__label-arrow:hover:before {\n",
       "  color: var(--sklearn-color-text);\n",
       "}\n",
       "\n",
       "/* Toggleable content - dropdown */\n",
       "\n",
       "#sk-container-id-1 div.sk-toggleable__content {\n",
       "  max-height: 0;\n",
       "  max-width: 0;\n",
       "  overflow: hidden;\n",
       "  text-align: left;\n",
       "  /* unfitted */\n",
       "  background-color: var(--sklearn-color-unfitted-level-0);\n",
       "}\n",
       "\n",
       "#sk-container-id-1 div.sk-toggleable__content.fitted {\n",
       "  /* fitted */\n",
       "  background-color: var(--sklearn-color-fitted-level-0);\n",
       "}\n",
       "\n",
       "#sk-container-id-1 div.sk-toggleable__content pre {\n",
       "  margin: 0.2em;\n",
       "  border-radius: 0.25em;\n",
       "  color: var(--sklearn-color-text);\n",
       "  /* unfitted */\n",
       "  background-color: var(--sklearn-color-unfitted-level-0);\n",
       "}\n",
       "\n",
       "#sk-container-id-1 div.sk-toggleable__content.fitted pre {\n",
       "  /* unfitted */\n",
       "  background-color: var(--sklearn-color-fitted-level-0);\n",
       "}\n",
       "\n",
       "#sk-container-id-1 input.sk-toggleable__control:checked~div.sk-toggleable__content {\n",
       "  /* Expand drop-down */\n",
       "  max-height: 200px;\n",
       "  max-width: 100%;\n",
       "  overflow: auto;\n",
       "}\n",
       "\n",
       "#sk-container-id-1 input.sk-toggleable__control:checked~label.sk-toggleable__label-arrow:before {\n",
       "  content: \"▾\";\n",
       "}\n",
       "\n",
       "/* Pipeline/ColumnTransformer-specific style */\n",
       "\n",
       "#sk-container-id-1 div.sk-label input.sk-toggleable__control:checked~label.sk-toggleable__label {\n",
       "  color: var(--sklearn-color-text);\n",
       "  background-color: var(--sklearn-color-unfitted-level-2);\n",
       "}\n",
       "\n",
       "#sk-container-id-1 div.sk-label.fitted input.sk-toggleable__control:checked~label.sk-toggleable__label {\n",
       "  background-color: var(--sklearn-color-fitted-level-2);\n",
       "}\n",
       "\n",
       "/* Estimator-specific style */\n",
       "\n",
       "/* Colorize estimator box */\n",
       "#sk-container-id-1 div.sk-estimator input.sk-toggleable__control:checked~label.sk-toggleable__label {\n",
       "  /* unfitted */\n",
       "  background-color: var(--sklearn-color-unfitted-level-2);\n",
       "}\n",
       "\n",
       "#sk-container-id-1 div.sk-estimator.fitted input.sk-toggleable__control:checked~label.sk-toggleable__label {\n",
       "  /* fitted */\n",
       "  background-color: var(--sklearn-color-fitted-level-2);\n",
       "}\n",
       "\n",
       "#sk-container-id-1 div.sk-label label.sk-toggleable__label,\n",
       "#sk-container-id-1 div.sk-label label {\n",
       "  /* The background is the default theme color */\n",
       "  color: var(--sklearn-color-text-on-default-background);\n",
       "}\n",
       "\n",
       "/* On hover, darken the color of the background */\n",
       "#sk-container-id-1 div.sk-label:hover label.sk-toggleable__label {\n",
       "  color: var(--sklearn-color-text);\n",
       "  background-color: var(--sklearn-color-unfitted-level-2);\n",
       "}\n",
       "\n",
       "/* Label box, darken color on hover, fitted */\n",
       "#sk-container-id-1 div.sk-label.fitted:hover label.sk-toggleable__label.fitted {\n",
       "  color: var(--sklearn-color-text);\n",
       "  background-color: var(--sklearn-color-fitted-level-2);\n",
       "}\n",
       "\n",
       "/* Estimator label */\n",
       "\n",
       "#sk-container-id-1 div.sk-label label {\n",
       "  font-family: monospace;\n",
       "  font-weight: bold;\n",
       "  display: inline-block;\n",
       "  line-height: 1.2em;\n",
       "}\n",
       "\n",
       "#sk-container-id-1 div.sk-label-container {\n",
       "  text-align: center;\n",
       "}\n",
       "\n",
       "/* Estimator-specific */\n",
       "#sk-container-id-1 div.sk-estimator {\n",
       "  font-family: monospace;\n",
       "  border: 1px dotted var(--sklearn-color-border-box);\n",
       "  border-radius: 0.25em;\n",
       "  box-sizing: border-box;\n",
       "  margin-bottom: 0.5em;\n",
       "  /* unfitted */\n",
       "  background-color: var(--sklearn-color-unfitted-level-0);\n",
       "}\n",
       "\n",
       "#sk-container-id-1 div.sk-estimator.fitted {\n",
       "  /* fitted */\n",
       "  background-color: var(--sklearn-color-fitted-level-0);\n",
       "}\n",
       "\n",
       "/* on hover */\n",
       "#sk-container-id-1 div.sk-estimator:hover {\n",
       "  /* unfitted */\n",
       "  background-color: var(--sklearn-color-unfitted-level-2);\n",
       "}\n",
       "\n",
       "#sk-container-id-1 div.sk-estimator.fitted:hover {\n",
       "  /* fitted */\n",
       "  background-color: var(--sklearn-color-fitted-level-2);\n",
       "}\n",
       "\n",
       "/* Specification for estimator info (e.g. \"i\" and \"?\") */\n",
       "\n",
       "/* Common style for \"i\" and \"?\" */\n",
       "\n",
       ".sk-estimator-doc-link,\n",
       "a:link.sk-estimator-doc-link,\n",
       "a:visited.sk-estimator-doc-link {\n",
       "  float: right;\n",
       "  font-size: smaller;\n",
       "  line-height: 1em;\n",
       "  font-family: monospace;\n",
       "  background-color: var(--sklearn-color-background);\n",
       "  border-radius: 1em;\n",
       "  height: 1em;\n",
       "  width: 1em;\n",
       "  text-decoration: none !important;\n",
       "  margin-left: 1ex;\n",
       "  /* unfitted */\n",
       "  border: var(--sklearn-color-unfitted-level-1) 1pt solid;\n",
       "  color: var(--sklearn-color-unfitted-level-1);\n",
       "}\n",
       "\n",
       ".sk-estimator-doc-link.fitted,\n",
       "a:link.sk-estimator-doc-link.fitted,\n",
       "a:visited.sk-estimator-doc-link.fitted {\n",
       "  /* fitted */\n",
       "  border: var(--sklearn-color-fitted-level-1) 1pt solid;\n",
       "  color: var(--sklearn-color-fitted-level-1);\n",
       "}\n",
       "\n",
       "/* On hover */\n",
       "div.sk-estimator:hover .sk-estimator-doc-link:hover,\n",
       ".sk-estimator-doc-link:hover,\n",
       "div.sk-label-container:hover .sk-estimator-doc-link:hover,\n",
       ".sk-estimator-doc-link:hover {\n",
       "  /* unfitted */\n",
       "  background-color: var(--sklearn-color-unfitted-level-3);\n",
       "  color: var(--sklearn-color-background);\n",
       "  text-decoration: none;\n",
       "}\n",
       "\n",
       "div.sk-estimator.fitted:hover .sk-estimator-doc-link.fitted:hover,\n",
       ".sk-estimator-doc-link.fitted:hover,\n",
       "div.sk-label-container:hover .sk-estimator-doc-link.fitted:hover,\n",
       ".sk-estimator-doc-link.fitted:hover {\n",
       "  /* fitted */\n",
       "  background-color: var(--sklearn-color-fitted-level-3);\n",
       "  color: var(--sklearn-color-background);\n",
       "  text-decoration: none;\n",
       "}\n",
       "\n",
       "/* Span, style for the box shown on hovering the info icon */\n",
       ".sk-estimator-doc-link span {\n",
       "  display: none;\n",
       "  z-index: 9999;\n",
       "  position: relative;\n",
       "  font-weight: normal;\n",
       "  right: .2ex;\n",
       "  padding: .5ex;\n",
       "  margin: .5ex;\n",
       "  width: min-content;\n",
       "  min-width: 20ex;\n",
       "  max-width: 50ex;\n",
       "  color: var(--sklearn-color-text);\n",
       "  box-shadow: 2pt 2pt 4pt #999;\n",
       "  /* unfitted */\n",
       "  background: var(--sklearn-color-unfitted-level-0);\n",
       "  border: .5pt solid var(--sklearn-color-unfitted-level-3);\n",
       "}\n",
       "\n",
       ".sk-estimator-doc-link.fitted span {\n",
       "  /* fitted */\n",
       "  background: var(--sklearn-color-fitted-level-0);\n",
       "  border: var(--sklearn-color-fitted-level-3);\n",
       "}\n",
       "\n",
       ".sk-estimator-doc-link:hover span {\n",
       "  display: block;\n",
       "}\n",
       "\n",
       "/* \"?\"-specific style due to the `<a>` HTML tag */\n",
       "\n",
       "#sk-container-id-1 a.estimator_doc_link {\n",
       "  float: right;\n",
       "  font-size: 1rem;\n",
       "  line-height: 1em;\n",
       "  font-family: monospace;\n",
       "  background-color: var(--sklearn-color-background);\n",
       "  border-radius: 1rem;\n",
       "  height: 1rem;\n",
       "  width: 1rem;\n",
       "  text-decoration: none;\n",
       "  /* unfitted */\n",
       "  color: var(--sklearn-color-unfitted-level-1);\n",
       "  border: var(--sklearn-color-unfitted-level-1) 1pt solid;\n",
       "}\n",
       "\n",
       "#sk-container-id-1 a.estimator_doc_link.fitted {\n",
       "  /* fitted */\n",
       "  border: var(--sklearn-color-fitted-level-1) 1pt solid;\n",
       "  color: var(--sklearn-color-fitted-level-1);\n",
       "}\n",
       "\n",
       "/* On hover */\n",
       "#sk-container-id-1 a.estimator_doc_link:hover {\n",
       "  /* unfitted */\n",
       "  background-color: var(--sklearn-color-unfitted-level-3);\n",
       "  color: var(--sklearn-color-background);\n",
       "  text-decoration: none;\n",
       "}\n",
       "\n",
       "#sk-container-id-1 a.estimator_doc_link.fitted:hover {\n",
       "  /* fitted */\n",
       "  background-color: var(--sklearn-color-fitted-level-3);\n",
       "}\n",
       "</style><div id=\"sk-container-id-1\" class=\"sk-top-container\"><div class=\"sk-text-repr-fallback\"><pre>XGBClassifier(base_score=None, booster=None, callbacks=None,\n",
       "              colsample_bylevel=None, colsample_bynode=0.7730352953321189,\n",
       "              colsample_bytree=None, device=None, early_stopping_rounds=None,\n",
       "              enable_categorical=False,\n",
       "              eval_metric=&lt;function custom_f1_score at 0x7fe714754540&gt;,\n",
       "              feature_types=None, gamma=None, grow_policy=None,\n",
       "              importance_type=None, interaction_constraints=None,\n",
       "              learning_rate=0.08587379144532957, max_bin=None,\n",
       "              max_cat_threshold=None, max_cat_to_onehot=None,\n",
       "              max_delta_step=None, max_depth=19, max_leaves=None,\n",
       "              min_child_weight=3, missing=nan, monotone_constraints=None,\n",
       "              multi_strategy=None, n_estimators=34, n_jobs=None,\n",
       "              num_parallel_tree=None, objective=&#x27;multi:softprob&#x27;, ...)</pre><b>In a Jupyter environment, please rerun this cell to show the HTML representation or trust the notebook. <br />On GitHub, the HTML representation is unable to render, please try loading this page with nbviewer.org.</b></div><div class=\"sk-container\" hidden><div class=\"sk-item\"><div class=\"sk-estimator fitted sk-toggleable\"><input class=\"sk-toggleable__control sk-hidden--visually\" id=\"sk-estimator-id-1\" type=\"checkbox\" checked><label for=\"sk-estimator-id-1\" class=\"sk-toggleable__label fitted sk-toggleable__label-arrow fitted\">&nbsp;XGBClassifier<span class=\"sk-estimator-doc-link fitted\">i<span>Fitted</span></span></label><div class=\"sk-toggleable__content fitted\"><pre>XGBClassifier(base_score=None, booster=None, callbacks=None,\n",
       "              colsample_bylevel=None, colsample_bynode=0.7730352953321189,\n",
       "              colsample_bytree=None, device=None, early_stopping_rounds=None,\n",
       "              enable_categorical=False,\n",
       "              eval_metric=&lt;function custom_f1_score at 0x7fe714754540&gt;,\n",
       "              feature_types=None, gamma=None, grow_policy=None,\n",
       "              importance_type=None, interaction_constraints=None,\n",
       "              learning_rate=0.08587379144532957, max_bin=None,\n",
       "              max_cat_threshold=None, max_cat_to_onehot=None,\n",
       "              max_delta_step=None, max_depth=19, max_leaves=None,\n",
       "              min_child_weight=3, missing=nan, monotone_constraints=None,\n",
       "              multi_strategy=None, n_estimators=34, n_jobs=None,\n",
       "              num_parallel_tree=None, objective=&#x27;multi:softprob&#x27;, ...)</pre></div> </div></div></div></div>"
      ],
      "text/plain": [
       "XGBClassifier(base_score=None, booster=None, callbacks=None,\n",
       "              colsample_bylevel=None, colsample_bynode=0.7730352953321189,\n",
       "              colsample_bytree=None, device=None, early_stopping_rounds=None,\n",
       "              enable_categorical=False,\n",
       "              eval_metric=<function custom_f1_score at 0x7fe714754540>,\n",
       "              feature_types=None, gamma=None, grow_policy=None,\n",
       "              importance_type=None, interaction_constraints=None,\n",
       "              learning_rate=0.08587379144532957, max_bin=None,\n",
       "              max_cat_threshold=None, max_cat_to_onehot=None,\n",
       "              max_delta_step=None, max_depth=19, max_leaves=None,\n",
       "              min_child_weight=3, missing=nan, monotone_constraints=None,\n",
       "              multi_strategy=None, n_estimators=34, n_jobs=None,\n",
       "              num_parallel_tree=None, objective='multi:softprob', ...)"
      ]
     },
     "execution_count": 21,
     "metadata": {},
     "output_type": "execute_result"
    }
   ],
   "source": [
    "n_estimators = int(study.best_trial.user_attrs['best_iteration']*1.2)\n",
    "xgb = xgboost.XGBClassifier(\n",
    "        eval_metric=eval_metric,\n",
    "        n_estimators=n_estimators,\n",
    "        **study.best_trial.params\n",
    "    )\n",
    "xgb.fit(\n",
    "    ssp.vstack((X_train, X_val)), \n",
    "    np.concatenate((y_train_enc, y_val_enc)),\n",
    "    verbose=1,\n",
    ")"
   ]
  },
  {
   "cell_type": "code",
   "execution_count": 22,
   "id": "49d92b6e",
   "metadata": {
    "execution": {
     "iopub.execute_input": "2025-05-15T16:15:22.604196Z",
     "iopub.status.busy": "2025-05-15T16:15:22.603981Z",
     "iopub.status.idle": "2025-05-15T16:15:22.620986Z",
     "shell.execute_reply": "2025-05-15T16:15:22.620628Z"
    },
    "papermill": {
     "duration": 0.027549,
     "end_time": "2025-05-15T16:15:22.621784",
     "exception": false,
     "start_time": "2025-05-15T16:15:22.594235",
     "status": "completed"
    },
    "tags": []
   },
   "outputs": [
    {
     "data": {
      "text/plain": [
       "['/scratch_isilon/groups/singlecell/shared/projects/Inflammation-PBMCs-Atlas/03_downstream_analysis/08_gene_importance/xgboost_external_validation/xgboost_TopN_genes/results_20/best_model/DC_4_0_xgb.json']"
      ]
     },
     "execution_count": 22,
     "metadata": {},
     "output_type": "execute_result"
    }
   ],
   "source": [
    "out_dir = here(f'03_downstream_analysis/08_gene_importance/xgboost_external_validation/xgboost_TopN_genes/results_{N_GENES}/best_model')\n",
    "\n",
    "if not os.path.exists(out_dir):\n",
    "    os.makedirs(out_dir)\n",
    "    \n",
    "joblib.dump(xgb, os.path.join(out_dir, f'{CELL_TYPE}_{SEED}_{TEST_SPLIT_IDX}_xgb.json'))"
   ]
  },
  {
   "cell_type": "code",
   "execution_count": 23,
   "id": "6939edd6",
   "metadata": {
    "execution": {
     "iopub.execute_input": "2025-05-15T16:15:22.640282Z",
     "iopub.status.busy": "2025-05-15T16:15:22.640079Z",
     "iopub.status.idle": "2025-05-15T16:15:22.650603Z",
     "shell.execute_reply": "2025-05-15T16:15:22.650283Z"
    },
    "papermill": {
     "duration": 0.024812,
     "end_time": "2025-05-15T16:15:22.655240",
     "exception": false,
     "start_time": "2025-05-15T16:15:22.630428",
     "status": "completed"
    },
    "tags": []
   },
   "outputs": [],
   "source": [
    "df_pred_test = pd.DataFrame(dict(\n",
    "    cell_id=train_adata.obs.iloc[test_idxs].index.values,\n",
    "    y_true=y_test, \n",
    "    y_true_code=y_test_enc, \n",
    "    y_pred=xgb.predict(X_test))).set_index('cell_id')"
   ]
  },
  {
   "cell_type": "code",
   "execution_count": 24,
   "id": "646335f1",
   "metadata": {
    "execution": {
     "iopub.execute_input": "2025-05-15T16:15:22.673944Z",
     "iopub.status.busy": "2025-05-15T16:15:22.673682Z",
     "iopub.status.idle": "2025-05-15T16:15:22.691382Z",
     "shell.execute_reply": "2025-05-15T16:15:22.690904Z"
    },
    "papermill": {
     "duration": 0.028065,
     "end_time": "2025-05-15T16:15:22.692256",
     "exception": false,
     "start_time": "2025-05-15T16:15:22.664191",
     "status": "completed"
    },
    "tags": []
   },
   "outputs": [],
   "source": [
    "out_dir = here(f'03_downstream_analysis/08_gene_importance/xgboost_external_validation/xgboost_TopN_genes/results_{N_GENES}/predictions')\n",
    "\n",
    "if not os.path.exists(out_dir):\n",
    "    os.makedirs(out_dir)\n",
    "    \n",
    "df_pred_test.to_csv(os.path.join(out_dir, f'{CELL_TYPE}_{SEED}_{TEST_SPLIT_IDX}_pred_test.zip'))"
   ]
  },
  {
   "cell_type": "code",
   "execution_count": 25,
   "id": "e6d942f4",
   "metadata": {
    "execution": {
     "iopub.execute_input": "2025-05-15T16:15:22.710252Z",
     "iopub.status.busy": "2025-05-15T16:15:22.710035Z",
     "iopub.status.idle": "2025-05-15T16:15:22.716343Z",
     "shell.execute_reply": "2025-05-15T16:15:22.716034Z"
    },
    "papermill": {
     "duration": 0.01609,
     "end_time": "2025-05-15T16:15:22.717141",
     "exception": false,
     "start_time": "2025-05-15T16:15:22.701051",
     "status": "completed"
    },
    "tags": []
   },
   "outputs": [],
   "source": [
    "metrics_dict = dict(\n",
    "    BAS=balanced_accuracy_score(y_true=df_pred_test.y_true_code, y_pred=df_pred_test.y_pred), WF1=f1_score(y_true=df_pred_test.y_true_code, y_pred=df_pred_test.y_pred,average='weighted'))"
   ]
  },
  {
   "cell_type": "code",
   "execution_count": 26,
   "id": "fc923d2c",
   "metadata": {
    "execution": {
     "iopub.execute_input": "2025-05-15T16:15:22.735254Z",
     "iopub.status.busy": "2025-05-15T16:15:22.735040Z",
     "iopub.status.idle": "2025-05-15T16:15:22.738134Z",
     "shell.execute_reply": "2025-05-15T16:15:22.737839Z"
    },
    "papermill": {
     "duration": 0.012958,
     "end_time": "2025-05-15T16:15:22.738930",
     "exception": false,
     "start_time": "2025-05-15T16:15:22.725972",
     "status": "completed"
    },
    "tags": []
   },
   "outputs": [
    {
     "data": {
      "text/plain": [
       "{'BAS': 0.5225282579999618, 'WF1': 0.790267219858084}"
      ]
     },
     "execution_count": 26,
     "metadata": {},
     "output_type": "execute_result"
    }
   ],
   "source": [
    "metrics_dict"
   ]
  },
  {
   "cell_type": "code",
   "execution_count": 27,
   "id": "828fd96f",
   "metadata": {
    "execution": {
     "iopub.execute_input": "2025-05-15T16:15:22.757553Z",
     "iopub.status.busy": "2025-05-15T16:15:22.757054Z",
     "iopub.status.idle": "2025-05-15T16:15:22.766959Z",
     "shell.execute_reply": "2025-05-15T16:15:22.766618Z"
    },
    "papermill": {
     "duration": 0.020073,
     "end_time": "2025-05-15T16:15:22.767780",
     "exception": false,
     "start_time": "2025-05-15T16:15:22.747707",
     "status": "completed"
    },
    "tags": []
   },
   "outputs": [
    {
     "data": {
      "text/html": [
       "<div>\n",
       "<style scoped>\n",
       "    .dataframe tbody tr th:only-of-type {\n",
       "        vertical-align: middle;\n",
       "    }\n",
       "\n",
       "    .dataframe tbody tr th {\n",
       "        vertical-align: top;\n",
       "    }\n",
       "\n",
       "    .dataframe thead th {\n",
       "        text-align: right;\n",
       "    }\n",
       "</style>\n",
       "<table border=\"1\" class=\"dataframe\">\n",
       "  <thead>\n",
       "    <tr style=\"text-align: right;\">\n",
       "      <th></th>\n",
       "      <th>BAS</th>\n",
       "      <th>WF1</th>\n",
       "      <th>split_idx</th>\n",
       "      <th>gene_set_seed</th>\n",
       "      <th>cell_type</th>\n",
       "    </tr>\n",
       "  </thead>\n",
       "  <tbody>\n",
       "    <tr>\n",
       "      <th>0</th>\n",
       "      <td>0.522528</td>\n",
       "      <td>0.790267</td>\n",
       "      <td>0</td>\n",
       "      <td>4</td>\n",
       "      <td>DC</td>\n",
       "    </tr>\n",
       "  </tbody>\n",
       "</table>\n",
       "</div>"
      ],
      "text/plain": [
       "        BAS       WF1  split_idx  gene_set_seed cell_type\n",
       "0  0.522528  0.790267          0              4        DC"
      ]
     },
     "execution_count": 27,
     "metadata": {},
     "output_type": "execute_result"
    }
   ],
   "source": [
    "metrics_df = pd.DataFrame.from_dict([metrics_dict]).assign(split_idx=TEST_SPLIT_IDX, gene_set_seed=SEED, cell_type=CELL_TYPE)\n",
    "metrics_df"
   ]
  },
  {
   "cell_type": "code",
   "execution_count": 28,
   "id": "e1622546",
   "metadata": {
    "execution": {
     "iopub.execute_input": "2025-05-15T16:15:22.786949Z",
     "iopub.status.busy": "2025-05-15T16:15:22.786488Z",
     "iopub.status.idle": "2025-05-15T16:15:22.795857Z",
     "shell.execute_reply": "2025-05-15T16:15:22.795481Z"
    },
    "papermill": {
     "duration": 0.019982,
     "end_time": "2025-05-15T16:15:22.796676",
     "exception": false,
     "start_time": "2025-05-15T16:15:22.776694",
     "status": "completed"
    },
    "tags": []
   },
   "outputs": [],
   "source": [
    "out_dir = here(f'03_downstream_analysis/08_gene_importance/xgboost_external_validation/xgboost_TopN_genes/results_{N_GENES}/metrics')\n",
    "\n",
    "if not os.path.exists(out_dir):\n",
    "    os.makedirs(out_dir)\n",
    "    \n",
    "metrics_df.to_csv(os.path.join(out_dir, f'{CELL_TYPE}_{SEED}_{TEST_SPLIT_IDX}_metrics.zip'))"
   ]
  }
 ],
 "metadata": {
  "kernelspec": {
   "display_name": "Python 3 (ipykernel)",
   "language": "python",
   "name": "python3"
  },
  "language_info": {
   "codemirror_mode": {
    "name": "ipython",
    "version": 3
   },
   "file_extension": ".py",
   "mimetype": "text/x-python",
   "name": "python",
   "nbconvert_exporter": "python",
   "pygments_lexer": "ipython3",
   "version": "3.12.5"
  },
  "papermill": {
   "default_parameters": {},
   "duration": 46.908816,
   "end_time": "2025-05-15T16:15:23.421934",
   "environment_variables": {},
   "exception": null,
   "input_path": "02_xgboost_fitting_external_20genes.ipynb",
   "output_path": "results_20/executed_notebooks/xgboost_fitting_external_CT_DC_GS_4_seed0.ipynb",
   "parameters": {
    "CELL_TYPE": "DC",
    "SEED": 4,
    "TEST_SPLIT_IDX": 0
   },
   "start_time": "2025-05-15T16:14:36.513118",
   "version": "2.6.0"
  }
 },
 "nbformat": 4,
 "nbformat_minor": 5
}