{
 "cells": [
  {
   "cell_type": "code",
   "execution_count": 1,
   "id": "1e2e3658",
   "metadata": {
    "editable": true,
    "execution": {
     "iopub.execute_input": "2025-05-15T15:59:55.432958Z",
     "iopub.status.busy": "2025-05-15T15:59:55.432818Z",
     "iopub.status.idle": "2025-05-15T15:59:55.435471Z",
     "shell.execute_reply": "2025-05-15T15:59:55.435170Z"
    },
    "papermill": {
     "duration": 0.010299,
     "end_time": "2025-05-15T15:59:55.436314",
     "exception": false,
     "start_time": "2025-05-15T15:59:55.426015",
     "status": "completed"
    },
    "slideshow": {
     "slide_type": ""
    },
    "tags": [
     "parameters"
    ]
   },
   "outputs": [],
   "source": [
    "CELL_TYPE = 'pDC'\n",
    "N_GENES: int = 20\n",
    "SEED = 'shap_studyID' #'disease_NOstudy' 'study_NOdisease' or 'int' or 'shap_studyID'\n",
    "TEST_SPLIT_IDX: int = 1 #[0,4]"
   ]
  },
  {
   "cell_type": "code",
   "execution_count": 2,
   "id": "555021be",
   "metadata": {
    "execution": {
     "iopub.execute_input": "2025-05-15T15:59:55.447972Z",
     "iopub.status.busy": "2025-05-15T15:59:55.447796Z",
     "iopub.status.idle": "2025-05-15T15:59:55.449896Z",
     "shell.execute_reply": "2025-05-15T15:59:55.449613Z"
    },
    "papermill": {
     "duration": 0.00861,
     "end_time": "2025-05-15T15:59:55.450679",
     "exception": false,
     "start_time": "2025-05-15T15:59:55.442069",
     "status": "completed"
    },
    "tags": [
     "injected-parameters"
    ]
   },
   "outputs": [],
   "source": [
    "# Parameters\n",
    "CELL_TYPE = \"Mono\"\n",
    "SEED = 13\n",
    "TEST_SPLIT_IDX = 2\n"
   ]
  },
  {
   "cell_type": "code",
   "execution_count": 3,
   "id": "ed8397a2",
   "metadata": {
    "execution": {
     "iopub.execute_input": "2025-05-15T15:59:55.462275Z",
     "iopub.status.busy": "2025-05-15T15:59:55.461829Z",
     "iopub.status.idle": "2025-05-15T15:59:55.463934Z",
     "shell.execute_reply": "2025-05-15T15:59:55.463657Z"
    },
    "papermill": {
     "duration": 0.008766,
     "end_time": "2025-05-15T15:59:55.464732",
     "exception": false,
     "start_time": "2025-05-15T15:59:55.455966",
     "status": "completed"
    },
    "tags": []
   },
   "outputs": [],
   "source": [
    "N_SPLITS: int = 5\n",
    "N_TRIALS: int = 50"
   ]
  },
  {
   "cell_type": "code",
   "execution_count": 4,
   "id": "e5e9ff0e",
   "metadata": {
    "execution": {
     "iopub.execute_input": "2025-05-15T15:59:55.477213Z",
     "iopub.status.busy": "2025-05-15T15:59:55.476669Z",
     "iopub.status.idle": "2025-05-15T15:59:57.017910Z",
     "shell.execute_reply": "2025-05-15T15:59:57.017325Z"
    },
    "papermill": {
     "duration": 1.548938,
     "end_time": "2025-05-15T15:59:57.019104",
     "exception": false,
     "start_time": "2025-05-15T15:59:55.470166",
     "status": "completed"
    },
    "tags": []
   },
   "outputs": [],
   "source": [
    "import os\n",
    "import sys\n",
    "from pyprojroot.here import here\n",
    "import pandas as pd\n",
    "import anndata as ad\n",
    "import numpy as np\n",
    "import math\n",
    "from sklearn.model_selection import StratifiedGroupKFold\n",
    "from sklearn.preprocessing import LabelEncoder\n",
    "from sklearn.metrics import f1_score\n",
    "import matplotlib.pyplot as plt\n",
    "import seaborn as sns\n",
    "from itertools import product\n",
    "from sklearn.metrics import balanced_accuracy_score, f1_score\n",
    "import optuna\n",
    "\n",
    "import joblib\n",
    "import pickle\n",
    "import datetime\n",
    "\n",
    "import collections\n",
    "\n",
    "import xgboost\n",
    "from sklearn.preprocessing import LabelEncoder\n",
    "\n",
    "import scipy.sparse as ssp\n",
    "import joblib\n",
    "\n",
    "from dotenv import load_dotenv"
   ]
  },
  {
   "cell_type": "code",
   "execution_count": 5,
   "id": "dc03a8c6",
   "metadata": {
    "execution": {
     "iopub.execute_input": "2025-05-15T15:59:57.031523Z",
     "iopub.status.busy": "2025-05-15T15:59:57.030648Z",
     "iopub.status.idle": "2025-05-15T15:59:57.036749Z",
     "shell.execute_reply": "2025-05-15T15:59:57.036442Z"
    },
    "papermill": {
     "duration": 0.012702,
     "end_time": "2025-05-15T15:59:57.037536",
     "exception": false,
     "start_time": "2025-05-15T15:59:57.024834",
     "status": "completed"
    },
    "tags": []
   },
   "outputs": [
    {
     "data": {
      "text/plain": [
       "True"
      ]
     },
     "execution_count": 5,
     "metadata": {},
     "output_type": "execute_result"
    }
   ],
   "source": [
    "load_dotenv()"
   ]
  },
  {
   "cell_type": "markdown",
   "id": "34d9be17",
   "metadata": {
    "papermill": {
     "duration": 0.005587,
     "end_time": "2025-05-15T15:59:57.048704",
     "exception": false,
     "start_time": "2025-05-15T15:59:57.043117",
     "status": "completed"
    },
    "tags": []
   },
   "source": [
    "# LOAD DATASET"
   ]
  },
  {
   "cell_type": "code",
   "execution_count": 6,
   "id": "eb6db2cf",
   "metadata": {
    "execution": {
     "iopub.execute_input": "2025-05-15T15:59:57.060242Z",
     "iopub.status.busy": "2025-05-15T15:59:57.060051Z",
     "iopub.status.idle": "2025-05-15T15:59:58.245515Z",
     "shell.execute_reply": "2025-05-15T15:59:58.244907Z"
    },
    "papermill": {
     "duration": 1.192513,
     "end_time": "2025-05-15T15:59:58.246428",
     "exception": false,
     "start_time": "2025-05-15T15:59:57.053915",
     "status": "completed"
    },
    "tags": []
   },
   "outputs": [],
   "source": [
    "train_adata = ad.read_h5ad(\n",
    "    here(f'03_downstream_analysis/08_gene_importance/xgboost_external_validation/xgboost_TopN_genes/data_cellTypes/EXTERNAL_{CELL_TYPE}.filtered.log1p.h5ad')\n",
    ")"
   ]
  },
  {
   "cell_type": "code",
   "execution_count": 7,
   "id": "7b3a1cbd",
   "metadata": {
    "execution": {
     "iopub.execute_input": "2025-05-15T15:59:58.258999Z",
     "iopub.status.busy": "2025-05-15T15:59:58.258378Z",
     "iopub.status.idle": "2025-05-15T15:59:58.291195Z",
     "shell.execute_reply": "2025-05-15T15:59:58.290837Z"
    },
    "papermill": {
     "duration": 0.039844,
     "end_time": "2025-05-15T15:59:58.292039",
     "exception": false,
     "start_time": "2025-05-15T15:59:58.252195",
     "status": "completed"
    },
    "tags": []
   },
   "outputs": [
    {
     "name": "stdout",
     "output_type": "stream",
     "text": [
      "['ENSG00000150782' 'ENSG00000140564' 'ENSG00000150961' 'ENSG00000009790'\n",
      " 'ENSG00000231389' 'ENSG00000076662' 'ENSG00000042753' 'ENSG00000165140'\n",
      " 'ENSG00000059728' 'ENSG00000123268' 'ENSG00000148834' 'ENSG00000182578'\n",
      " 'ENSG00000138107' 'ENSG00000090863' 'ENSG00000125740' 'ENSG00000106799'\n",
      " 'ENSG00000170345' 'ENSG00000196126' 'ENSG00000204592' 'ENSG00000198668'\n",
      " 'ENSG00000198223' 'ENSG00000232810' 'ENSG00000185201' 'ENSG00000171608'\n",
      " 'ENSG00000132912' 'ENSG00000142546' 'ENSG00000175203' 'ENSG00000066136'\n",
      " 'ENSG00000139289' 'ENSG00000143119' 'ENSG00000164674' 'ENSG00000164308'\n",
      " 'ENSG00000119408' 'ENSG00000166888' 'ENSG00000143390' 'ENSG00000115415'\n",
      " 'ENSG00000161921' 'ENSG00000164136' 'ENSG00000170296' 'ENSG00000133246'\n",
      " 'ENSG00000135404' 'ENSG00000163659' 'ENSG00000119917' 'ENSG00000101608'\n",
      " 'ENSG00000134321' 'ENSG00000223865' 'ENSG00000168610' 'ENSG00000185650'\n",
      " 'ENSG00000135720' 'ENSG00000164307' 'ENSG00000106066' 'ENSG00000197965'\n",
      " 'ENSG00000163563' 'ENSG00000121774' 'ENSG00000187608' 'ENSG00000204482'\n",
      " 'ENSG00000117523' 'ENSG00000183023' 'ENSG00000136826' 'ENSG00000109787'\n",
      " 'ENSG00000213928' 'ENSG00000178719' 'ENSG00000068796' 'ENSG00000204267'\n",
      " 'ENSG00000127951' 'ENSG00000068831' 'ENSG00000100911' 'ENSG00000163513'\n",
      " 'ENSG00000118508' 'ENSG00000142089' 'ENSG00000113441' 'ENSG00000172936'\n",
      " 'ENSG00000159128' 'ENSG00000019582' 'ENSG00000206503' 'ENSG00000172183'\n",
      " 'ENSG00000162434' 'ENSG00000140379' 'ENSG00000182117' 'ENSG00000111331'\n",
      " 'ENSG00000166747' 'ENSG00000089280' 'ENSG00000085514' 'ENSG00000089327'\n",
      " 'ENSG00000113615' 'ENSG00000173757' 'ENSG00000125534' 'ENSG00000197766'\n",
      " 'ENSG00000161642' 'ENSG00000175538' 'ENSG00000204103' 'ENSG00000002586'\n",
      " 'ENSG00000169896' 'ENSG00000277632' 'ENSG00000158869' 'ENSG00000179921'\n",
      " 'ENSG00000161203' 'ENSG00000143924' 'ENSG00000152219' 'ENSG00000115145'\n",
      " 'ENSG00000187164' 'ENSG00000110848' 'ENSG00000198053' 'ENSG00000161944'\n",
      " 'ENSG00000107223' 'ENSG00000100300' 'ENSG00000121858' 'ENSG00000204257'\n",
      " 'ENSG00000166825' 'ENSG00000162711' 'ENSG00000123358' 'ENSG00000197746'\n",
      " 'ENSG00000140105' 'ENSG00000160213']\n"
     ]
    }
   ],
   "source": [
    "if SEED != 'all':\n",
    "    gene_subset = np.load(here(f'03_downstream_analysis/08_gene_importance/xgboost_external_validation/shap_gene_selection/gene_subsets_{N_GENES}/{CELL_TYPE}_{SEED}.npy'), allow_pickle=True)\n",
    "    train_adata = train_adata[:,gene_subset]\n",
    "    print(gene_subset)\n",
    "elif SEED == 'all':\n",
    "    print('Using all genes')\n",
    "else:\n",
    "    raise ValueError()"
   ]
  },
  {
   "cell_type": "code",
   "execution_count": 8,
   "id": "b2ca1679",
   "metadata": {
    "execution": {
     "iopub.execute_input": "2025-05-15T15:59:58.303934Z",
     "iopub.status.busy": "2025-05-15T15:59:58.303480Z",
     "iopub.status.idle": "2025-05-15T15:59:58.306708Z",
     "shell.execute_reply": "2025-05-15T15:59:58.306423Z"
    },
    "papermill": {
     "duration": 0.009988,
     "end_time": "2025-05-15T15:59:58.307464",
     "exception": false,
     "start_time": "2025-05-15T15:59:58.297476",
     "status": "completed"
    },
    "tags": []
   },
   "outputs": [
    {
     "data": {
      "text/plain": [
       "(137435, 114)"
      ]
     },
     "execution_count": 8,
     "metadata": {},
     "output_type": "execute_result"
    }
   ],
   "source": [
    "train_adata.shape"
   ]
  },
  {
   "cell_type": "code",
   "execution_count": 9,
   "id": "d8d00a8f",
   "metadata": {
    "execution": {
     "iopub.execute_input": "2025-05-15T15:59:58.320057Z",
     "iopub.status.busy": "2025-05-15T15:59:58.319744Z",
     "iopub.status.idle": "2025-05-15T15:59:58.323570Z",
     "shell.execute_reply": "2025-05-15T15:59:58.323279Z"
    },
    "papermill": {
     "duration": 0.010567,
     "end_time": "2025-05-15T15:59:58.324329",
     "exception": false,
     "start_time": "2025-05-15T15:59:58.313762",
     "status": "completed"
    },
    "tags": []
   },
   "outputs": [
    {
     "data": {
      "text/plain": [
       "['RA', 'healthy', 'COVID', 'HIV', 'cirrhosis', 'CD', 'SLE', 'sepsis']\n",
       "Categories (8, object): ['CD', 'COVID', 'HIV', 'RA', 'SLE', 'cirrhosis', 'healthy', 'sepsis']"
      ]
     },
     "execution_count": 9,
     "metadata": {},
     "output_type": "execute_result"
    }
   ],
   "source": [
    "train_adata.obs.disease.unique()"
   ]
  },
  {
   "cell_type": "code",
   "execution_count": 10,
   "id": "285ab831",
   "metadata": {
    "execution": {
     "iopub.execute_input": "2025-05-15T15:59:58.336439Z",
     "iopub.status.busy": "2025-05-15T15:59:58.336247Z",
     "iopub.status.idle": "2025-05-15T15:59:58.340213Z",
     "shell.execute_reply": "2025-05-15T15:59:58.339927Z"
    },
    "papermill": {
     "duration": 0.010905,
     "end_time": "2025-05-15T15:59:58.341010",
     "exception": false,
     "start_time": "2025-05-15T15:59:58.330105",
     "status": "completed"
    },
    "tags": []
   },
   "outputs": [
    {
     "data": {
      "text/plain": [
       "['SCGT00val_I0364_T0', 'SCGT00val_I036028_T0', 'SCGT00val_I036024_T0', 'SCGT00val_I036023_T0', 'SCGT00val_I036019_T0', ..., '10XGenomics_10XHC2_T0', '10XGenomics_10XHC3_T0', '10XGenomics_10XHC5_T0', '10XGenomics_10XHC7_T0', '10XGenomics_10XHC8_T0']\n",
       "Length: 86\n",
       "Categories (86, object): ['10XGenomics_10XHC1_T0', '10XGenomics_10XHC2_T0', '10XGenomics_10XHC3_T0', '10XGenomics_10XHC4_T0', ..., 'Savage2021_BRISL6_T0', 'Savage2021_BRISL7_T0', 'Savage2021_PIDA_T0', 'Savage2021_PIDB_T0']"
      ]
     },
     "execution_count": 10,
     "metadata": {},
     "output_type": "execute_result"
    }
   ],
   "source": [
    "train_adata.obs.sampleID.unique()"
   ]
  },
  {
   "cell_type": "code",
   "execution_count": 11,
   "id": "088a4823",
   "metadata": {
    "execution": {
     "iopub.execute_input": "2025-05-15T15:59:58.353125Z",
     "iopub.status.busy": "2025-05-15T15:59:58.352710Z",
     "iopub.status.idle": "2025-05-15T15:59:58.679004Z",
     "shell.execute_reply": "2025-05-15T15:59:58.678430Z"
    },
    "papermill": {
     "duration": 0.333104,
     "end_time": "2025-05-15T15:59:58.679930",
     "exception": false,
     "start_time": "2025-05-15T15:59:58.346826",
     "status": "completed"
    },
    "tags": []
   },
   "outputs": [],
   "source": [
    "all_idxs = np.arange(train_adata.obs.shape[0])\n",
    "left_out_splits = [s[1] for s in StratifiedGroupKFold(n_splits=N_SPLITS).split(all_idxs, train_adata.obs.disease, train_adata.obs.sampleID)]"
   ]
  },
  {
   "cell_type": "code",
   "execution_count": 12,
   "id": "23c8c891",
   "metadata": {
    "execution": {
     "iopub.execute_input": "2025-05-15T15:59:58.694631Z",
     "iopub.status.busy": "2025-05-15T15:59:58.694161Z",
     "iopub.status.idle": "2025-05-15T15:59:58.697908Z",
     "shell.execute_reply": "2025-05-15T15:59:58.697616Z"
    },
    "papermill": {
     "duration": 0.011725,
     "end_time": "2025-05-15T15:59:58.698702",
     "exception": false,
     "start_time": "2025-05-15T15:59:58.686977",
     "status": "completed"
    },
    "tags": []
   },
   "outputs": [
    {
     "data": {
      "text/plain": [
       "([0, 1, 4], 3, 2)"
      ]
     },
     "execution_count": 12,
     "metadata": {},
     "output_type": "execute_result"
    }
   ],
   "source": [
    "TRAIN_SPLIT_IDXS = [0,1,2,3,4]\n",
    "VAL_SPLIT_IDX = (TEST_SPLIT_IDX + 1) % 5\n",
    "TRAIN_SPLIT_IDXS.remove(TEST_SPLIT_IDX)\n",
    "TRAIN_SPLIT_IDXS.remove(VAL_SPLIT_IDX)\n",
    "TRAIN_SPLIT_IDXS, VAL_SPLIT_IDX, TEST_SPLIT_IDX"
   ]
  },
  {
   "cell_type": "code",
   "execution_count": 13,
   "id": "c9955d21",
   "metadata": {
    "execution": {
     "iopub.execute_input": "2025-05-15T15:59:58.711295Z",
     "iopub.status.busy": "2025-05-15T15:59:58.710799Z",
     "iopub.status.idle": "2025-05-15T15:59:58.713411Z",
     "shell.execute_reply": "2025-05-15T15:59:58.713112Z"
    },
    "papermill": {
     "duration": 0.009894,
     "end_time": "2025-05-15T15:59:58.714208",
     "exception": false,
     "start_time": "2025-05-15T15:59:58.704314",
     "status": "completed"
    },
    "tags": []
   },
   "outputs": [],
   "source": [
    "train_idxs = np.concatenate([left_out_splits[idx] for idx in TRAIN_SPLIT_IDXS])\n",
    "val_idxs = left_out_splits[VAL_SPLIT_IDX]\n",
    "test_idxs = left_out_splits[TEST_SPLIT_IDX]"
   ]
  },
  {
   "cell_type": "markdown",
   "id": "0e815b60",
   "metadata": {
    "papermill": {
     "duration": 0.005628,
     "end_time": "2025-05-15T15:59:58.725697",
     "exception": false,
     "start_time": "2025-05-15T15:59:58.720069",
     "status": "completed"
    },
    "tags": []
   },
   "source": [
    "### SUBSET DATASET INTO TRAIN/TEST/VAL SPLITS"
   ]
  },
  {
   "cell_type": "code",
   "execution_count": 14,
   "id": "335f604b",
   "metadata": {
    "execution": {
     "iopub.execute_input": "2025-05-15T15:59:58.737818Z",
     "iopub.status.busy": "2025-05-15T15:59:58.737629Z",
     "iopub.status.idle": "2025-05-15T15:59:59.183918Z",
     "shell.execute_reply": "2025-05-15T15:59:59.183554Z"
    },
    "papermill": {
     "duration": 0.453378,
     "end_time": "2025-05-15T15:59:59.184772",
     "exception": false,
     "start_time": "2025-05-15T15:59:58.731394",
     "status": "completed"
    },
    "tags": []
   },
   "outputs": [
    {
     "data": {
      "text/plain": [
       "((81938, 114), (26851, 114), (28646, 114))"
      ]
     },
     "execution_count": 14,
     "metadata": {},
     "output_type": "execute_result"
    }
   ],
   "source": [
    "X_train = train_adata.X[train_idxs]\n",
    "X_test = train_adata.X[test_idxs]\n",
    "X_val = train_adata.X[val_idxs]\n",
    "X_train.shape, X_test.shape, X_val.shape"
   ]
  },
  {
   "cell_type": "code",
   "execution_count": 15,
   "id": "2cbb9fc8",
   "metadata": {
    "execution": {
     "iopub.execute_input": "2025-05-15T15:59:59.197676Z",
     "iopub.status.busy": "2025-05-15T15:59:59.197184Z",
     "iopub.status.idle": "2025-05-15T15:59:59.210786Z",
     "shell.execute_reply": "2025-05-15T15:59:59.210449Z"
    },
    "papermill": {
     "duration": 0.020704,
     "end_time": "2025-05-15T15:59:59.211569",
     "exception": false,
     "start_time": "2025-05-15T15:59:59.190865",
     "status": "completed"
    },
    "tags": []
   },
   "outputs": [
    {
     "data": {
      "text/plain": [
       "((81938,), (26851,), (28646,))"
      ]
     },
     "execution_count": 15,
     "metadata": {},
     "output_type": "execute_result"
    }
   ],
   "source": [
    "y_train = train_adata.obs.iloc[train_idxs].disease.values.astype(str)\n",
    "y_test = train_adata.obs.iloc[test_idxs].disease.values.astype(str)\n",
    "y_val = train_adata.obs.iloc[val_idxs].disease.values.astype(str)\n",
    "y_train.shape, y_test.shape, y_val.shape"
   ]
  },
  {
   "cell_type": "code",
   "execution_count": 16,
   "id": "ea47f955",
   "metadata": {
    "execution": {
     "iopub.execute_input": "2025-05-15T15:59:59.224464Z",
     "iopub.status.busy": "2025-05-15T15:59:59.224171Z",
     "iopub.status.idle": "2025-05-15T15:59:59.254529Z",
     "shell.execute_reply": "2025-05-15T15:59:59.254116Z"
    },
    "papermill": {
     "duration": 0.037764,
     "end_time": "2025-05-15T15:59:59.255355",
     "exception": false,
     "start_time": "2025-05-15T15:59:59.217591",
     "status": "completed"
    },
    "tags": []
   },
   "outputs": [],
   "source": [
    "lenc = LabelEncoder()\n",
    "y_train_enc = lenc.fit_transform(y_train)\n",
    "y_val_enc = lenc.transform(y_val)\n",
    "y_test_enc = lenc.transform(y_test)"
   ]
  },
  {
   "cell_type": "markdown",
   "id": "07eb1565",
   "metadata": {
    "papermill": {
     "duration": 0.006039,
     "end_time": "2025-05-15T15:59:59.267392",
     "exception": false,
     "start_time": "2025-05-15T15:59:59.261353",
     "status": "completed"
    },
    "tags": []
   },
   "source": [
    "### GENERATE F1 "
   ]
  },
  {
   "cell_type": "code",
   "execution_count": 17,
   "id": "60a72185",
   "metadata": {
    "execution": {
     "iopub.execute_input": "2025-05-15T15:59:59.280049Z",
     "iopub.status.busy": "2025-05-15T15:59:59.279823Z",
     "iopub.status.idle": "2025-05-15T15:59:59.282122Z",
     "shell.execute_reply": "2025-05-15T15:59:59.281831Z"
    },
    "papermill": {
     "duration": 0.009807,
     "end_time": "2025-05-15T15:59:59.282908",
     "exception": false,
     "start_time": "2025-05-15T15:59:59.273101",
     "status": "completed"
    },
    "tags": []
   },
   "outputs": [],
   "source": [
    "def custom_f1_score(y_true, y_pred):\n",
    "    return -f1_score(y_true, y_pred.argmax(1), average='weighted')"
   ]
  },
  {
   "cell_type": "code",
   "execution_count": 18,
   "id": "b097b1b7",
   "metadata": {
    "execution": {
     "iopub.execute_input": "2025-05-15T15:59:59.295521Z",
     "iopub.status.busy": "2025-05-15T15:59:59.295338Z",
     "iopub.status.idle": "2025-05-15T15:59:59.298924Z",
     "shell.execute_reply": "2025-05-15T15:59:59.298632Z"
    },
    "papermill": {
     "duration": 0.010902,
     "end_time": "2025-05-15T15:59:59.299829",
     "exception": false,
     "start_time": "2025-05-15T15:59:59.288927",
     "status": "completed"
    },
    "tags": []
   },
   "outputs": [],
   "source": [
    "eval_metric=custom_f1_score\n",
    "eval_metric_name='custom_f1_score'\n",
    "\n",
    "def objective(trial):\n",
    "    params = {\n",
    "        'n_estimators': 1500,\n",
    "        'max_depth': trial.suggest_int('max_depth', 3, 20),\n",
    "        'min_child_weight': trial.suggest_int('min_child_weight', 1, 250),\n",
    "        'subsample': trial.suggest_float('subsample', 0.1, 1.0),\n",
    "        'colsample_bynode': trial.suggest_float('colsample_bynode', 0.1, 1.0),\n",
    "        'learning_rate': trial.suggest_float('learning_rate', 1e-3, 5e-1, log=True),\n",
    "    }\n",
    "    pruning_callback = optuna.integration.XGBoostPruningCallback(trial, f'validation_0-{eval_metric_name}')\n",
    "    es_callback = xgboost.callback.EarlyStopping(20, min_delta=0.001)\n",
    "    xgb = xgboost.XGBClassifier(\n",
    "        eval_metric=eval_metric,\n",
    "        callbacks=[pruning_callback, es_callback],\n",
    "        n_jobs=5,\n",
    "        **params\n",
    "    )\n",
    "    xgb.fit(\n",
    "        X_train, \n",
    "        y_train_enc, \n",
    "        verbose=0,\n",
    "        eval_set=[(X_val, y_val_enc)],\n",
    "    )\n",
    "    trial.set_user_attr('best_iteration', xgb.best_iteration)\n",
    "\n",
    "    return xgb.best_score"
   ]
  },
  {
   "cell_type": "code",
   "execution_count": 19,
   "id": "bf5a74ac",
   "metadata": {
    "execution": {
     "iopub.execute_input": "2025-05-15T15:59:59.312628Z",
     "iopub.status.busy": "2025-05-15T15:59:59.312413Z",
     "iopub.status.idle": "2025-05-15T16:14:58.255931Z",
     "shell.execute_reply": "2025-05-15T16:14:58.255408Z"
    },
    "papermill": {
     "duration": 898.951298,
     "end_time": "2025-05-15T16:14:58.257158",
     "exception": false,
     "start_time": "2025-05-15T15:59:59.305860",
     "status": "completed"
    },
    "scrolled": true,
    "tags": []
   },
   "outputs": [
    {
     "name": "stderr",
     "output_type": "stream",
     "text": [
      "[I 2025-05-15 17:59:59,314] A new study created in memory with name: no-name-2d2b2413-c0ed-4fae-bdbe-72a855a830a8\n"
     ]
    },
    {
     "name": "stderr",
     "output_type": "stream",
     "text": [
      "[I 2025-05-15 18:00:20,711] Trial 0 finished with value: -0.721835 and parameters: {'max_depth': 9, 'min_child_weight': 238, 'subsample': 0.7587945476302645, 'colsample_bynode': 0.6387926357773329, 'learning_rate': 0.0026368755339723046}. Best is trial 0 with value: -0.721835.\n"
     ]
    },
    {
     "name": "stderr",
     "output_type": "stream",
     "text": [
      "[I 2025-05-15 18:01:14,154] Trial 1 finished with value: -0.803008 and parameters: {'max_depth': 5, 'min_child_weight': 15, 'subsample': 0.8795585311974417, 'colsample_bynode': 0.6410035105688879, 'learning_rate': 0.08148293210105287}. Best is trial 1 with value: -0.803008.\n"
     ]
    },
    {
     "name": "stderr",
     "output_type": "stream",
     "text": [
      "[I 2025-05-15 18:01:19,329] Trial 2 finished with value: -0.582581 and parameters: {'max_depth': 3, 'min_child_weight': 243, 'subsample': 0.8491983767203796, 'colsample_bynode': 0.29110519961044856, 'learning_rate': 0.003095566460242371}. Best is trial 1 with value: -0.803008.\n"
     ]
    },
    {
     "name": "stderr",
     "output_type": "stream",
     "text": [
      "[I 2025-05-15 18:01:30,194] Trial 3 finished with value: -0.739223 and parameters: {'max_depth': 6, 'min_child_weight': 77, 'subsample': 0.5722807884690141, 'colsample_bynode': 0.48875051677790415, 'learning_rate': 0.006109683510122491}. Best is trial 1 with value: -0.803008.\n"
     ]
    },
    {
     "name": "stderr",
     "output_type": "stream",
     "text": [
      "[I 2025-05-15 18:02:46,498] Trial 4 finished with value: -0.795619 and parameters: {'max_depth': 14, 'min_child_weight': 35, 'subsample': 0.3629301836816964, 'colsample_bynode': 0.4297256589643226, 'learning_rate': 0.01701841881702917}. Best is trial 1 with value: -0.803008.\n"
     ]
    },
    {
     "name": "stderr",
     "output_type": "stream",
     "text": [
      "[I 2025-05-15 18:03:01,110] Trial 5 pruned. Trial was pruned at iteration 39.\n"
     ]
    },
    {
     "name": "stderr",
     "output_type": "stream",
     "text": [
      "[I 2025-05-15 18:03:13,522] Trial 6 finished with value: -0.783032 and parameters: {'max_depth': 13, 'min_child_weight': 43, 'subsample': 0.1585464336867516, 'colsample_bynode': 0.9539969835279999, 'learning_rate': 0.4038423798071558}. Best is trial 1 with value: -0.803008.\n"
     ]
    },
    {
     "name": "stderr",
     "output_type": "stream",
     "text": [
      "[I 2025-05-15 18:03:14,528] Trial 7 pruned. Trial was pruned at iteration 1.\n"
     ]
    },
    {
     "name": "stderr",
     "output_type": "stream",
     "text": [
      "[I 2025-05-15 18:03:15,207] Trial 8 pruned. Trial was pruned at iteration 0.\n"
     ]
    },
    {
     "name": "stderr",
     "output_type": "stream",
     "text": [
      "[I 2025-05-15 18:03:18,183] Trial 9 pruned. Trial was pruned at iteration 7.\n"
     ]
    },
    {
     "name": "stderr",
     "output_type": "stream",
     "text": [
      "[I 2025-05-15 18:03:19,015] Trial 10 pruned. Trial was pruned at iteration 0.\n"
     ]
    },
    {
     "name": "stderr",
     "output_type": "stream",
     "text": [
      "[I 2025-05-15 18:04:05,269] Trial 11 finished with value: -0.804087 and parameters: {'max_depth': 10, 'min_child_weight': 3, 'subsample': 0.34014304150377095, 'colsample_bynode': 0.40131565860091256, 'learning_rate': 0.057899203666416425}. Best is trial 11 with value: -0.804087.\n"
     ]
    },
    {
     "name": "stderr",
     "output_type": "stream",
     "text": [
      "[I 2025-05-15 18:04:45,936] Trial 12 finished with value: -0.805216 and parameters: {'max_depth': 8, 'min_child_weight': 3, 'subsample': 0.3693916175642251, 'colsample_bynode': 0.351751713087183, 'learning_rate': 0.07220195396446884}. Best is trial 12 with value: -0.805216.\n"
     ]
    },
    {
     "name": "stderr",
     "output_type": "stream",
     "text": [
      "[I 2025-05-15 18:04:46,644] Trial 13 pruned. Trial was pruned at iteration 0.\n"
     ]
    },
    {
     "name": "stderr",
     "output_type": "stream",
     "text": [
      "[I 2025-05-15 18:04:47,321] Trial 14 pruned. Trial was pruned at iteration 0.\n"
     ]
    },
    {
     "name": "stderr",
     "output_type": "stream",
     "text": [
      "[I 2025-05-15 18:04:48,307] Trial 15 pruned. Trial was pruned at iteration 0.\n"
     ]
    },
    {
     "name": "stderr",
     "output_type": "stream",
     "text": [
      "[I 2025-05-15 18:04:49,016] Trial 16 pruned. Trial was pruned at iteration 0.\n"
     ]
    },
    {
     "name": "stderr",
     "output_type": "stream",
     "text": [
      "[I 2025-05-15 18:04:49,704] Trial 17 pruned. Trial was pruned at iteration 0.\n"
     ]
    },
    {
     "name": "stderr",
     "output_type": "stream",
     "text": [
      "[I 2025-05-15 18:04:58,769] Trial 18 pruned. Trial was pruned at iteration 19.\n"
     ]
    },
    {
     "name": "stderr",
     "output_type": "stream",
     "text": [
      "[I 2025-05-15 18:04:59,442] Trial 19 pruned. Trial was pruned at iteration 0.\n"
     ]
    },
    {
     "name": "stderr",
     "output_type": "stream",
     "text": [
      "[I 2025-05-15 18:05:00,242] Trial 20 pruned. Trial was pruned at iteration 0.\n"
     ]
    },
    {
     "name": "stderr",
     "output_type": "stream",
     "text": [
      "[I 2025-05-15 18:05:00,979] Trial 21 pruned. Trial was pruned at iteration 0.\n"
     ]
    },
    {
     "name": "stderr",
     "output_type": "stream",
     "text": [
      "[I 2025-05-15 18:05:01,790] Trial 22 pruned. Trial was pruned at iteration 0.\n"
     ]
    },
    {
     "name": "stderr",
     "output_type": "stream",
     "text": [
      "[I 2025-05-15 18:05:02,495] Trial 23 pruned. Trial was pruned at iteration 0.\n"
     ]
    },
    {
     "name": "stderr",
     "output_type": "stream",
     "text": [
      "[I 2025-05-15 18:05:03,386] Trial 24 pruned. Trial was pruned at iteration 0.\n"
     ]
    },
    {
     "name": "stderr",
     "output_type": "stream",
     "text": [
      "[I 2025-05-15 18:05:04,053] Trial 25 pruned. Trial was pruned at iteration 0.\n"
     ]
    },
    {
     "name": "stderr",
     "output_type": "stream",
     "text": [
      "[I 2025-05-15 18:05:29,027] Trial 26 finished with value: -0.801076 and parameters: {'max_depth': 7, 'min_child_weight': 27, 'subsample': 0.6654487817707111, 'colsample_bynode': 0.8482238888125229, 'learning_rate': 0.26121322355262905}. Best is trial 12 with value: -0.805216.\n"
     ]
    },
    {
     "name": "stderr",
     "output_type": "stream",
     "text": [
      "[I 2025-05-15 18:05:29,770] Trial 27 pruned. Trial was pruned at iteration 0.\n"
     ]
    },
    {
     "name": "stderr",
     "output_type": "stream",
     "text": [
      "[I 2025-05-15 18:05:30,467] Trial 28 pruned. Trial was pruned at iteration 0.\n"
     ]
    },
    {
     "name": "stderr",
     "output_type": "stream",
     "text": [
      "[I 2025-05-15 18:05:31,204] Trial 29 pruned. Trial was pruned at iteration 0.\n"
     ]
    },
    {
     "name": "stderr",
     "output_type": "stream",
     "text": [
      "[I 2025-05-15 18:05:32,847] Trial 30 pruned. Trial was pruned at iteration 3.\n"
     ]
    },
    {
     "name": "stderr",
     "output_type": "stream",
     "text": [
      "[I 2025-05-15 18:05:57,951] Trial 31 finished with value: -0.802071 and parameters: {'max_depth': 7, 'min_child_weight': 20, 'subsample': 0.6699915006375167, 'colsample_bynode': 0.8311655437510109, 'learning_rate': 0.2424449329607127}. Best is trial 12 with value: -0.805216.\n"
     ]
    },
    {
     "name": "stderr",
     "output_type": "stream",
     "text": [
      "[I 2025-05-15 18:06:33,925] Trial 32 finished with value: -0.802172 and parameters: {'max_depth': 9, 'min_child_weight': 16, 'subsample': 0.7804387436832412, 'colsample_bynode': 0.8152636130793514, 'learning_rate': 0.3015344297410941}. Best is trial 12 with value: -0.805216.\n"
     ]
    },
    {
     "name": "stderr",
     "output_type": "stream",
     "text": [
      "[I 2025-05-15 18:07:03,404] Trial 33 pruned. Trial was pruned at iteration 70.\n"
     ]
    },
    {
     "name": "stderr",
     "output_type": "stream",
     "text": [
      "[I 2025-05-15 18:07:45,753] Trial 34 finished with value: -0.806812 and parameters: {'max_depth': 12, 'min_child_weight': 1, 'subsample': 0.7934863000067125, 'colsample_bynode': 0.668894942045317, 'learning_rate': 0.456977476532936}. Best is trial 34 with value: -0.806812.\n"
     ]
    },
    {
     "name": "stderr",
     "output_type": "stream",
     "text": [
      "[I 2025-05-15 18:08:37,577] Trial 35 finished with value: -0.806895 and parameters: {'max_depth': 16, 'min_child_weight': 2, 'subsample': 0.8514935430549714, 'colsample_bynode': 0.6737545529725091, 'learning_rate': 0.48440849369670236}. Best is trial 35 with value: -0.806895.\n"
     ]
    },
    {
     "name": "stderr",
     "output_type": "stream",
     "text": [
      "[I 2025-05-15 18:09:25,870] Trial 36 finished with value: -0.807106 and parameters: {'max_depth': 16, 'min_child_weight': 3, 'subsample': 0.8471220086091287, 'colsample_bynode': 0.6708268142614605, 'learning_rate': 0.4640656286520385}. Best is trial 36 with value: -0.807106.\n"
     ]
    },
    {
     "name": "stderr",
     "output_type": "stream",
     "text": [
      "[I 2025-05-15 18:09:37,101] Trial 37 pruned. Trial was pruned at iteration 24.\n"
     ]
    },
    {
     "name": "stderr",
     "output_type": "stream",
     "text": [
      "[I 2025-05-15 18:09:52,169] Trial 38 pruned. Trial was pruned at iteration 37.\n"
     ]
    },
    {
     "name": "stderr",
     "output_type": "stream",
     "text": [
      "[I 2025-05-15 18:10:09,346] Trial 39 pruned. Trial was pruned at iteration 43.\n"
     ]
    },
    {
     "name": "stderr",
     "output_type": "stream",
     "text": [
      "[I 2025-05-15 18:10:10,957] Trial 40 pruned. Trial was pruned at iteration 2.\n"
     ]
    },
    {
     "name": "stderr",
     "output_type": "stream",
     "text": [
      "[I 2025-05-15 18:10:55,571] Trial 41 finished with value: -0.807083 and parameters: {'max_depth': 12, 'min_child_weight': 2, 'subsample': 0.8997456934681601, 'colsample_bynode': 0.5192398623748589, 'learning_rate': 0.4794351939553809}. Best is trial 36 with value: -0.807106.\n"
     ]
    },
    {
     "name": "stderr",
     "output_type": "stream",
     "text": [
      "[I 2025-05-15 18:11:18,478] Trial 42 pruned. Trial was pruned at iteration 56.\n"
     ]
    },
    {
     "name": "stderr",
     "output_type": "stream",
     "text": [
      "[I 2025-05-15 18:12:19,403] Trial 43 finished with value: -0.810626 and parameters: {'max_depth': 18, 'min_child_weight': 2, 'subsample': 0.9197929065699949, 'colsample_bynode': 0.6282218276063685, 'learning_rate': 0.286568158823887}. Best is trial 43 with value: -0.810626.\n"
     ]
    },
    {
     "name": "stderr",
     "output_type": "stream",
     "text": [
      "[I 2025-05-15 18:12:33,036] Trial 44 pruned. Trial was pruned at iteration 27.\n"
     ]
    },
    {
     "name": "stderr",
     "output_type": "stream",
     "text": [
      "[I 2025-05-15 18:12:48,895] Trial 45 pruned. Trial was pruned at iteration 27.\n"
     ]
    },
    {
     "name": "stderr",
     "output_type": "stream",
     "text": [
      "[I 2025-05-15 18:13:06,111] Trial 46 pruned. Trial was pruned at iteration 43.\n"
     ]
    },
    {
     "name": "stderr",
     "output_type": "stream",
     "text": [
      "[I 2025-05-15 18:13:46,288] Trial 47 pruned. Trial was pruned at iteration 25.\n"
     ]
    },
    {
     "name": "stderr",
     "output_type": "stream",
     "text": [
      "[I 2025-05-15 18:14:34,807] Trial 48 finished with value: -0.808411 and parameters: {'max_depth': 12, 'min_child_weight': 25, 'subsample': 0.8819704164330089, 'colsample_bynode': 0.8774178310791725, 'learning_rate': 0.22896241824114497}. Best is trial 43 with value: -0.810626.\n"
     ]
    },
    {
     "name": "stderr",
     "output_type": "stream",
     "text": [
      "[I 2025-05-15 18:14:58,124] Trial 49 pruned. Trial was pruned at iteration 42.\n"
     ]
    }
   ],
   "source": [
    "sampler = optuna.samplers.TPESampler(seed=42)\n",
    "study = optuna.create_study(direction='minimize', sampler=sampler)\n",
    "study.optimize(objective, n_trials=N_TRIALS, gc_after_trial=True)"
   ]
  },
  {
   "cell_type": "code",
   "execution_count": 20,
   "id": "80b19066",
   "metadata": {
    "execution": {
     "iopub.execute_input": "2025-05-15T16:14:58.279212Z",
     "iopub.status.busy": "2025-05-15T16:14:58.278830Z",
     "iopub.status.idle": "2025-05-15T16:14:58.322339Z",
     "shell.execute_reply": "2025-05-15T16:14:58.321925Z"
    },
    "papermill": {
     "duration": 0.054326,
     "end_time": "2025-05-15T16:14:58.323456",
     "exception": false,
     "start_time": "2025-05-15T16:14:58.269130",
     "status": "completed"
    },
    "tags": []
   },
   "outputs": [
    {
     "data": {
      "text/plain": [
       "['/scratch_isilon/groups/singlecell/shared/projects/Inflammation-PBMCs-Atlas/03_downstream_analysis/08_gene_importance/xgboost_external_validation/xgboost_TopN_genes/results_20/study/Mono_13_2_xgboost.pkl']"
      ]
     },
     "execution_count": 20,
     "metadata": {},
     "output_type": "execute_result"
    }
   ],
   "source": [
    "out_dir = here(f'03_downstream_analysis/08_gene_importance/xgboost_external_validation/xgboost_TopN_genes/results_{N_GENES}/study')\n",
    "\n",
    "if not os.path.exists(out_dir):\n",
    "    os.makedirs(out_dir)\n",
    "    \n",
    "joblib.dump(study,os.path.join(out_dir, f'{CELL_TYPE}_{SEED}_{TEST_SPLIT_IDX}_xgboost.pkl'))"
   ]
  },
  {
   "cell_type": "code",
   "execution_count": 21,
   "id": "9131a0bb",
   "metadata": {
    "execution": {
     "iopub.execute_input": "2025-05-15T16:14:58.365901Z",
     "iopub.status.busy": "2025-05-15T16:14:58.365469Z",
     "iopub.status.idle": "2025-05-15T16:15:53.175242Z",
     "shell.execute_reply": "2025-05-15T16:15:53.174132Z"
    },
    "papermill": {
     "duration": 54.840238,
     "end_time": "2025-05-15T16:15:53.178096",
     "exception": false,
     "start_time": "2025-05-15T16:14:58.337858",
     "status": "completed"
    },
    "tags": []
   },
   "outputs": [
    {
     "data": {
      "text/html": [
       "<style>#sk-container-id-1 {\n",
       "  /* Definition of color scheme common for light and dark mode */\n",
       "  --sklearn-color-text: black;\n",
       "  --sklearn-color-line: gray;\n",
       "  /* Definition of color scheme for unfitted estimators */\n",
       "  --sklearn-color-unfitted-level-0: #fff5e6;\n",
       "  --sklearn-color-unfitted-level-1: #f6e4d2;\n",
       "  --sklearn-color-unfitted-level-2: #ffe0b3;\n",
       "  --sklearn-color-unfitted-level-3: chocolate;\n",
       "  /* Definition of color scheme for fitted estimators */\n",
       "  --sklearn-color-fitted-level-0: #f0f8ff;\n",
       "  --sklearn-color-fitted-level-1: #d4ebff;\n",
       "  --sklearn-color-fitted-level-2: #b3dbfd;\n",
       "  --sklearn-color-fitted-level-3: cornflowerblue;\n",
       "\n",
       "  /* Specific color for light theme */\n",
       "  --sklearn-color-text-on-default-background: var(--sg-text-color, var(--theme-code-foreground, var(--jp-content-font-color1, black)));\n",
       "  --sklearn-color-background: var(--sg-background-color, var(--theme-background, var(--jp-layout-color0, white)));\n",
       "  --sklearn-color-border-box: var(--sg-text-color, var(--theme-code-foreground, var(--jp-content-font-color1, black)));\n",
       "  --sklearn-color-icon: #696969;\n",
       "\n",
       "  @media (prefers-color-scheme: dark) {\n",
       "    /* Redefinition of color scheme for dark theme */\n",
       "    --sklearn-color-text-on-default-background: var(--sg-text-color, var(--theme-code-foreground, var(--jp-content-font-color1, white)));\n",
       "    --sklearn-color-background: var(--sg-background-color, var(--theme-background, var(--jp-layout-color0, #111)));\n",
       "    --sklearn-color-border-box: var(--sg-text-color, var(--theme-code-foreground, var(--jp-content-font-color1, white)));\n",
       "    --sklearn-color-icon: #878787;\n",
       "  }\n",
       "}\n",
       "\n",
       "#sk-container-id-1 {\n",
       "  color: var(--sklearn-color-text);\n",
       "}\n",
       "\n",
       "#sk-container-id-1 pre {\n",
       "  padding: 0;\n",
       "}\n",
       "\n",
       "#sk-container-id-1 input.sk-hidden--visually {\n",
       "  border: 0;\n",
       "  clip: rect(1px 1px 1px 1px);\n",
       "  clip: rect(1px, 1px, 1px, 1px);\n",
       "  height: 1px;\n",
       "  margin: -1px;\n",
       "  overflow: hidden;\n",
       "  padding: 0;\n",
       "  position: absolute;\n",
       "  width: 1px;\n",
       "}\n",
       "\n",
       "#sk-container-id-1 div.sk-dashed-wrapped {\n",
       "  border: 1px dashed var(--sklearn-color-line);\n",
       "  margin: 0 0.4em 0.5em 0.4em;\n",
       "  box-sizing: border-box;\n",
       "  padding-bottom: 0.4em;\n",
       "  background-color: var(--sklearn-color-background);\n",
       "}\n",
       "\n",
       "#sk-container-id-1 div.sk-container {\n",
       "  /* jupyter's `normalize.less` sets `[hidden] { display: none; }`\n",
       "     but bootstrap.min.css set `[hidden] { display: none !important; }`\n",
       "     so we also need the `!important` here to be able to override the\n",
       "     default hidden behavior on the sphinx rendered scikit-learn.org.\n",
       "     See: https://github.com/scikit-learn/scikit-learn/issues/21755 */\n",
       "  display: inline-block !important;\n",
       "  position: relative;\n",
       "}\n",
       "\n",
       "#sk-container-id-1 div.sk-text-repr-fallback {\n",
       "  display: none;\n",
       "}\n",
       "\n",
       "div.sk-parallel-item,\n",
       "div.sk-serial,\n",
       "div.sk-item {\n",
       "  /* draw centered vertical line to link estimators */\n",
       "  background-image: linear-gradient(var(--sklearn-color-text-on-default-background), var(--sklearn-color-text-on-default-background));\n",
       "  background-size: 2px 100%;\n",
       "  background-repeat: no-repeat;\n",
       "  background-position: center center;\n",
       "}\n",
       "\n",
       "/* Parallel-specific style estimator block */\n",
       "\n",
       "#sk-container-id-1 div.sk-parallel-item::after {\n",
       "  content: \"\";\n",
       "  width: 100%;\n",
       "  border-bottom: 2px solid var(--sklearn-color-text-on-default-background);\n",
       "  flex-grow: 1;\n",
       "}\n",
       "\n",
       "#sk-container-id-1 div.sk-parallel {\n",
       "  display: flex;\n",
       "  align-items: stretch;\n",
       "  justify-content: center;\n",
       "  background-color: var(--sklearn-color-background);\n",
       "  position: relative;\n",
       "}\n",
       "\n",
       "#sk-container-id-1 div.sk-parallel-item {\n",
       "  display: flex;\n",
       "  flex-direction: column;\n",
       "}\n",
       "\n",
       "#sk-container-id-1 div.sk-parallel-item:first-child::after {\n",
       "  align-self: flex-end;\n",
       "  width: 50%;\n",
       "}\n",
       "\n",
       "#sk-container-id-1 div.sk-parallel-item:last-child::after {\n",
       "  align-self: flex-start;\n",
       "  width: 50%;\n",
       "}\n",
       "\n",
       "#sk-container-id-1 div.sk-parallel-item:only-child::after {\n",
       "  width: 0;\n",
       "}\n",
       "\n",
       "/* Serial-specific style estimator block */\n",
       "\n",
       "#sk-container-id-1 div.sk-serial {\n",
       "  display: flex;\n",
       "  flex-direction: column;\n",
       "  align-items: center;\n",
       "  background-color: var(--sklearn-color-background);\n",
       "  padding-right: 1em;\n",
       "  padding-left: 1em;\n",
       "}\n",
       "\n",
       "\n",
       "/* Toggleable style: style used for estimator/Pipeline/ColumnTransformer box that is\n",
       "clickable and can be expanded/collapsed.\n",
       "- Pipeline and ColumnTransformer use this feature and define the default style\n",
       "- Estimators will overwrite some part of the style using the `sk-estimator` class\n",
       "*/\n",
       "\n",
       "/* Pipeline and ColumnTransformer style (default) */\n",
       "\n",
       "#sk-container-id-1 div.sk-toggleable {\n",
       "  /* Default theme specific background. It is overwritten whether we have a\n",
       "  specific estimator or a Pipeline/ColumnTransformer */\n",
       "  background-color: var(--sklearn-color-background);\n",
       "}\n",
       "\n",
       "/* Toggleable label */\n",
       "#sk-container-id-1 label.sk-toggleable__label {\n",
       "  cursor: pointer;\n",
       "  display: block;\n",
       "  width: 100%;\n",
       "  margin-bottom: 0;\n",
       "  padding: 0.5em;\n",
       "  box-sizing: border-box;\n",
       "  text-align: center;\n",
       "}\n",
       "\n",
       "#sk-container-id-1 label.sk-toggleable__label-arrow:before {\n",
       "  /* Arrow on the left of the label */\n",
       "  content: \"▸\";\n",
       "  float: left;\n",
       "  margin-right: 0.25em;\n",
       "  color: var(--sklearn-color-icon);\n",
       "}\n",
       "\n",
       "#sk-container-id-1 label.sk-toggleable__label-arrow:hover:before {\n",
       "  color: var(--sklearn-color-text);\n",
       "}\n",
       "\n",
       "/* Toggleable content - dropdown */\n",
       "\n",
       "#sk-container-id-1 div.sk-toggleable__content {\n",
       "  max-height: 0;\n",
       "  max-width: 0;\n",
       "  overflow: hidden;\n",
       "  text-align: left;\n",
       "  /* unfitted */\n",
       "  background-color: var(--sklearn-color-unfitted-level-0);\n",
       "}\n",
       "\n",
       "#sk-container-id-1 div.sk-toggleable__content.fitted {\n",
       "  /* fitted */\n",
       "  background-color: var(--sklearn-color-fitted-level-0);\n",
       "}\n",
       "\n",
       "#sk-container-id-1 div.sk-toggleable__content pre {\n",
       "  margin: 0.2em;\n",
       "  border-radius: 0.25em;\n",
       "  color: var(--sklearn-color-text);\n",
       "  /* unfitted */\n",
       "  background-color: var(--sklearn-color-unfitted-level-0);\n",
       "}\n",
       "\n",
       "#sk-container-id-1 div.sk-toggleable__content.fitted pre {\n",
       "  /* unfitted */\n",
       "  background-color: var(--sklearn-color-fitted-level-0);\n",
       "}\n",
       "\n",
       "#sk-container-id-1 input.sk-toggleable__control:checked~div.sk-toggleable__content {\n",
       "  /* Expand drop-down */\n",
       "  max-height: 200px;\n",
       "  max-width: 100%;\n",
       "  overflow: auto;\n",
       "}\n",
       "\n",
       "#sk-container-id-1 input.sk-toggleable__control:checked~label.sk-toggleable__label-arrow:before {\n",
       "  content: \"▾\";\n",
       "}\n",
       "\n",
       "/* Pipeline/ColumnTransformer-specific style */\n",
       "\n",
       "#sk-container-id-1 div.sk-label input.sk-toggleable__control:checked~label.sk-toggleable__label {\n",
       "  color: var(--sklearn-color-text);\n",
       "  background-color: var(--sklearn-color-unfitted-level-2);\n",
       "}\n",
       "\n",
       "#sk-container-id-1 div.sk-label.fitted input.sk-toggleable__control:checked~label.sk-toggleable__label {\n",
       "  background-color: var(--sklearn-color-fitted-level-2);\n",
       "}\n",
       "\n",
       "/* Estimator-specific style */\n",
       "\n",
       "/* Colorize estimator box */\n",
       "#sk-container-id-1 div.sk-estimator input.sk-toggleable__control:checked~label.sk-toggleable__label {\n",
       "  /* unfitted */\n",
       "  background-color: var(--sklearn-color-unfitted-level-2);\n",
       "}\n",
       "\n",
       "#sk-container-id-1 div.sk-estimator.fitted input.sk-toggleable__control:checked~label.sk-toggleable__label {\n",
       "  /* fitted */\n",
       "  background-color: var(--sklearn-color-fitted-level-2);\n",
       "}\n",
       "\n",
       "#sk-container-id-1 div.sk-label label.sk-toggleable__label,\n",
       "#sk-container-id-1 div.sk-label label {\n",
       "  /* The background is the default theme color */\n",
       "  color: var(--sklearn-color-text-on-default-background);\n",
       "}\n",
       "\n",
       "/* On hover, darken the color of the background */\n",
       "#sk-container-id-1 div.sk-label:hover label.sk-toggleable__label {\n",
       "  color: var(--sklearn-color-text);\n",
       "  background-color: var(--sklearn-color-unfitted-level-2);\n",
       "}\n",
       "\n",
       "/* Label box, darken color on hover, fitted */\n",
       "#sk-container-id-1 div.sk-label.fitted:hover label.sk-toggleable__label.fitted {\n",
       "  color: var(--sklearn-color-text);\n",
       "  background-color: var(--sklearn-color-fitted-level-2);\n",
       "}\n",
       "\n",
       "/* Estimator label */\n",
       "\n",
       "#sk-container-id-1 div.sk-label label {\n",
       "  font-family: monospace;\n",
       "  font-weight: bold;\n",
       "  display: inline-block;\n",
       "  line-height: 1.2em;\n",
       "}\n",
       "\n",
       "#sk-container-id-1 div.sk-label-container {\n",
       "  text-align: center;\n",
       "}\n",
       "\n",
       "/* Estimator-specific */\n",
       "#sk-container-id-1 div.sk-estimator {\n",
       "  font-family: monospace;\n",
       "  border: 1px dotted var(--sklearn-color-border-box);\n",
       "  border-radius: 0.25em;\n",
       "  box-sizing: border-box;\n",
       "  margin-bottom: 0.5em;\n",
       "  /* unfitted */\n",
       "  background-color: var(--sklearn-color-unfitted-level-0);\n",
       "}\n",
       "\n",
       "#sk-container-id-1 div.sk-estimator.fitted {\n",
       "  /* fitted */\n",
       "  background-color: var(--sklearn-color-fitted-level-0);\n",
       "}\n",
       "\n",
       "/* on hover */\n",
       "#sk-container-id-1 div.sk-estimator:hover {\n",
       "  /* unfitted */\n",
       "  background-color: var(--sklearn-color-unfitted-level-2);\n",
       "}\n",
       "\n",
       "#sk-container-id-1 div.sk-estimator.fitted:hover {\n",
       "  /* fitted */\n",
       "  background-color: var(--sklearn-color-fitted-level-2);\n",
       "}\n",
       "\n",
       "/* Specification for estimator info (e.g. \"i\" and \"?\") */\n",
       "\n",
       "/* Common style for \"i\" and \"?\" */\n",
       "\n",
       ".sk-estimator-doc-link,\n",
       "a:link.sk-estimator-doc-link,\n",
       "a:visited.sk-estimator-doc-link {\n",
       "  float: right;\n",
       "  font-size: smaller;\n",
       "  line-height: 1em;\n",
       "  font-family: monospace;\n",
       "  background-color: var(--sklearn-color-background);\n",
       "  border-radius: 1em;\n",
       "  height: 1em;\n",
       "  width: 1em;\n",
       "  text-decoration: none !important;\n",
       "  margin-left: 1ex;\n",
       "  /* unfitted */\n",
       "  border: var(--sklearn-color-unfitted-level-1) 1pt solid;\n",
       "  color: var(--sklearn-color-unfitted-level-1);\n",
       "}\n",
       "\n",
       ".sk-estimator-doc-link.fitted,\n",
       "a:link.sk-estimator-doc-link.fitted,\n",
       "a:visited.sk-estimator-doc-link.fitted {\n",
       "  /* fitted */\n",
       "  border: var(--sklearn-color-fitted-level-1) 1pt solid;\n",
       "  color: var(--sklearn-color-fitted-level-1);\n",
       "}\n",
       "\n",
       "/* On hover */\n",
       "div.sk-estimator:hover .sk-estimator-doc-link:hover,\n",
       ".sk-estimator-doc-link:hover,\n",
       "div.sk-label-container:hover .sk-estimator-doc-link:hover,\n",
       ".sk-estimator-doc-link:hover {\n",
       "  /* unfitted */\n",
       "  background-color: var(--sklearn-color-unfitted-level-3);\n",
       "  color: var(--sklearn-color-background);\n",
       "  text-decoration: none;\n",
       "}\n",
       "\n",
       "div.sk-estimator.fitted:hover .sk-estimator-doc-link.fitted:hover,\n",
       ".sk-estimator-doc-link.fitted:hover,\n",
       "div.sk-label-container:hover .sk-estimator-doc-link.fitted:hover,\n",
       ".sk-estimator-doc-link.fitted:hover {\n",
       "  /* fitted */\n",
       "  background-color: var(--sklearn-color-fitted-level-3);\n",
       "  color: var(--sklearn-color-background);\n",
       "  text-decoration: none;\n",
       "}\n",
       "\n",
       "/* Span, style for the box shown on hovering the info icon */\n",
       ".sk-estimator-doc-link span {\n",
       "  display: none;\n",
       "  z-index: 9999;\n",
       "  position: relative;\n",
       "  font-weight: normal;\n",
       "  right: .2ex;\n",
       "  padding: .5ex;\n",
       "  margin: .5ex;\n",
       "  width: min-content;\n",
       "  min-width: 20ex;\n",
       "  max-width: 50ex;\n",
       "  color: var(--sklearn-color-text);\n",
       "  box-shadow: 2pt 2pt 4pt #999;\n",
       "  /* unfitted */\n",
       "  background: var(--sklearn-color-unfitted-level-0);\n",
       "  border: .5pt solid var(--sklearn-color-unfitted-level-3);\n",
       "}\n",
       "\n",
       ".sk-estimator-doc-link.fitted span {\n",
       "  /* fitted */\n",
       "  background: var(--sklearn-color-fitted-level-0);\n",
       "  border: var(--sklearn-color-fitted-level-3);\n",
       "}\n",
       "\n",
       ".sk-estimator-doc-link:hover span {\n",
       "  display: block;\n",
       "}\n",
       "\n",
       "/* \"?\"-specific style due to the `<a>` HTML tag */\n",
       "\n",
       "#sk-container-id-1 a.estimator_doc_link {\n",
       "  float: right;\n",
       "  font-size: 1rem;\n",
       "  line-height: 1em;\n",
       "  font-family: monospace;\n",
       "  background-color: var(--sklearn-color-background);\n",
       "  border-radius: 1rem;\n",
       "  height: 1rem;\n",
       "  width: 1rem;\n",
       "  text-decoration: none;\n",
       "  /* unfitted */\n",
       "  color: var(--sklearn-color-unfitted-level-1);\n",
       "  border: var(--sklearn-color-unfitted-level-1) 1pt solid;\n",
       "}\n",
       "\n",
       "#sk-container-id-1 a.estimator_doc_link.fitted {\n",
       "  /* fitted */\n",
       "  border: var(--sklearn-color-fitted-level-1) 1pt solid;\n",
       "  color: var(--sklearn-color-fitted-level-1);\n",
       "}\n",
       "\n",
       "/* On hover */\n",
       "#sk-container-id-1 a.estimator_doc_link:hover {\n",
       "  /* unfitted */\n",
       "  background-color: var(--sklearn-color-unfitted-level-3);\n",
       "  color: var(--sklearn-color-background);\n",
       "  text-decoration: none;\n",
       "}\n",
       "\n",
       "#sk-container-id-1 a.estimator_doc_link.fitted:hover {\n",
       "  /* fitted */\n",
       "  background-color: var(--sklearn-color-fitted-level-3);\n",
       "}\n",
       "</style><div id=\"sk-container-id-1\" class=\"sk-top-container\"><div class=\"sk-text-repr-fallback\"><pre>XGBClassifier(base_score=None, booster=None, callbacks=None,\n",
       "              colsample_bylevel=None, colsample_bynode=0.6282218276063685,\n",
       "              colsample_bytree=None, device=None, early_stopping_rounds=None,\n",
       "              enable_categorical=False,\n",
       "              eval_metric=&lt;function custom_f1_score at 0x7f88fca58720&gt;,\n",
       "              feature_types=None, gamma=None, grow_policy=None,\n",
       "              importance_type=None, interaction_constraints=None,\n",
       "              learning_rate=0.286568158823887, max_bin=None,\n",
       "              max_cat_threshold=None, max_cat_to_onehot=None,\n",
       "              max_delta_step=None, max_depth=18, max_leaves=None,\n",
       "              min_child_weight=2, missing=nan, monotone_constraints=None,\n",
       "              multi_strategy=None, n_estimators=105, n_jobs=None,\n",
       "              num_parallel_tree=None, objective=&#x27;multi:softprob&#x27;, ...)</pre><b>In a Jupyter environment, please rerun this cell to show the HTML representation or trust the notebook. <br />On GitHub, the HTML representation is unable to render, please try loading this page with nbviewer.org.</b></div><div class=\"sk-container\" hidden><div class=\"sk-item\"><div class=\"sk-estimator fitted sk-toggleable\"><input class=\"sk-toggleable__control sk-hidden--visually\" id=\"sk-estimator-id-1\" type=\"checkbox\" checked><label for=\"sk-estimator-id-1\" class=\"sk-toggleable__label fitted sk-toggleable__label-arrow fitted\">&nbsp;XGBClassifier<span class=\"sk-estimator-doc-link fitted\">i<span>Fitted</span></span></label><div class=\"sk-toggleable__content fitted\"><pre>XGBClassifier(base_score=None, booster=None, callbacks=None,\n",
       "              colsample_bylevel=None, colsample_bynode=0.6282218276063685,\n",
       "              colsample_bytree=None, device=None, early_stopping_rounds=None,\n",
       "              enable_categorical=False,\n",
       "              eval_metric=&lt;function custom_f1_score at 0x7f88fca58720&gt;,\n",
       "              feature_types=None, gamma=None, grow_policy=None,\n",
       "              importance_type=None, interaction_constraints=None,\n",
       "              learning_rate=0.286568158823887, max_bin=None,\n",
       "              max_cat_threshold=None, max_cat_to_onehot=None,\n",
       "              max_delta_step=None, max_depth=18, max_leaves=None,\n",
       "              min_child_weight=2, missing=nan, monotone_constraints=None,\n",
       "              multi_strategy=None, n_estimators=105, n_jobs=None,\n",
       "              num_parallel_tree=None, objective=&#x27;multi:softprob&#x27;, ...)</pre></div> </div></div></div></div>"
      ],
      "text/plain": [
       "XGBClassifier(base_score=None, booster=None, callbacks=None,\n",
       "              colsample_bylevel=None, colsample_bynode=0.6282218276063685,\n",
       "              colsample_bytree=None, device=None, early_stopping_rounds=None,\n",
       "              enable_categorical=False,\n",
       "              eval_metric=<function custom_f1_score at 0x7f88fca58720>,\n",
       "              feature_types=None, gamma=None, grow_policy=None,\n",
       "              importance_type=None, interaction_constraints=None,\n",
       "              learning_rate=0.286568158823887, max_bin=None,\n",
       "              max_cat_threshold=None, max_cat_to_onehot=None,\n",
       "              max_delta_step=None, max_depth=18, max_leaves=None,\n",
       "              min_child_weight=2, missing=nan, monotone_constraints=None,\n",
       "              multi_strategy=None, n_estimators=105, n_jobs=None,\n",
       "              num_parallel_tree=None, objective='multi:softprob', ...)"
      ]
     },
     "execution_count": 21,
     "metadata": {},
     "output_type": "execute_result"
    }
   ],
   "source": [
    "n_estimators = int(study.best_trial.user_attrs['best_iteration']*1.2)\n",
    "xgb = xgboost.XGBClassifier(\n",
    "        eval_metric=eval_metric,\n",
    "        n_estimators=n_estimators,\n",
    "        **study.best_trial.params\n",
    "    )\n",
    "xgb.fit(\n",
    "    ssp.vstack((X_train, X_val)), \n",
    "    np.concatenate((y_train_enc, y_val_enc)),\n",
    "    verbose=1,\n",
    ")"
   ]
  },
  {
   "cell_type": "code",
   "execution_count": 22,
   "id": "7bfc7d10",
   "metadata": {
    "execution": {
     "iopub.execute_input": "2025-05-15T16:15:53.198344Z",
     "iopub.status.busy": "2025-05-15T16:15:53.197903Z",
     "iopub.status.idle": "2025-05-15T16:15:53.361094Z",
     "shell.execute_reply": "2025-05-15T16:15:53.360623Z"
    },
    "papermill": {
     "duration": 0.174595,
     "end_time": "2025-05-15T16:15:53.362416",
     "exception": false,
     "start_time": "2025-05-15T16:15:53.187821",
     "status": "completed"
    },
    "tags": []
   },
   "outputs": [
    {
     "data": {
      "text/plain": [
       "['/scratch_isilon/groups/singlecell/shared/projects/Inflammation-PBMCs-Atlas/03_downstream_analysis/08_gene_importance/xgboost_external_validation/xgboost_TopN_genes/results_20/best_model/Mono_13_2_xgb.json']"
      ]
     },
     "execution_count": 22,
     "metadata": {},
     "output_type": "execute_result"
    }
   ],
   "source": [
    "out_dir = here(f'03_downstream_analysis/08_gene_importance/xgboost_external_validation/xgboost_TopN_genes/results_{N_GENES}/best_model')\n",
    "\n",
    "if not os.path.exists(out_dir):\n",
    "    os.makedirs(out_dir)\n",
    "    \n",
    "joblib.dump(xgb, os.path.join(out_dir, f'{CELL_TYPE}_{SEED}_{TEST_SPLIT_IDX}_xgb.json'))"
   ]
  },
  {
   "cell_type": "code",
   "execution_count": 23,
   "id": "34c61364",
   "metadata": {
    "execution": {
     "iopub.execute_input": "2025-05-15T16:15:53.383300Z",
     "iopub.status.busy": "2025-05-15T16:15:53.382965Z",
     "iopub.status.idle": "2025-05-15T16:15:54.626511Z",
     "shell.execute_reply": "2025-05-15T16:15:54.625977Z"
    },
    "papermill": {
     "duration": 1.255667,
     "end_time": "2025-05-15T16:15:54.627914",
     "exception": false,
     "start_time": "2025-05-15T16:15:53.372247",
     "status": "completed"
    },
    "tags": []
   },
   "outputs": [],
   "source": [
    "df_pred_test = pd.DataFrame(dict(\n",
    "    cell_id=train_adata.obs.iloc[test_idxs].index.values,\n",
    "    y_true=y_test, \n",
    "    y_true_code=y_test_enc, \n",
    "    y_pred=xgb.predict(X_test))).set_index('cell_id')"
   ]
  },
  {
   "cell_type": "code",
   "execution_count": 24,
   "id": "2ccd087f",
   "metadata": {
    "execution": {
     "iopub.execute_input": "2025-05-15T16:15:54.648159Z",
     "iopub.status.busy": "2025-05-15T16:15:54.647852Z",
     "iopub.status.idle": "2025-05-15T16:15:54.798101Z",
     "shell.execute_reply": "2025-05-15T16:15:54.797636Z"
    },
    "papermill": {
     "duration": 0.161991,
     "end_time": "2025-05-15T16:15:54.799496",
     "exception": false,
     "start_time": "2025-05-15T16:15:54.637505",
     "status": "completed"
    },
    "tags": []
   },
   "outputs": [],
   "source": [
    "out_dir = here(f'03_downstream_analysis/08_gene_importance/xgboost_external_validation/xgboost_TopN_genes/results_{N_GENES}/predictions')\n",
    "\n",
    "if not os.path.exists(out_dir):\n",
    "    os.makedirs(out_dir)\n",
    "    \n",
    "df_pred_test.to_csv(os.path.join(out_dir, f'{CELL_TYPE}_{SEED}_{TEST_SPLIT_IDX}_pred_test.zip'))"
   ]
  },
  {
   "cell_type": "code",
   "execution_count": 25,
   "id": "d2b774a6",
   "metadata": {
    "execution": {
     "iopub.execute_input": "2025-05-15T16:15:54.818899Z",
     "iopub.status.busy": "2025-05-15T16:15:54.818352Z",
     "iopub.status.idle": "2025-05-15T16:15:54.835177Z",
     "shell.execute_reply": "2025-05-15T16:15:54.834769Z"
    },
    "papermill": {
     "duration": 0.027218,
     "end_time": "2025-05-15T16:15:54.836160",
     "exception": false,
     "start_time": "2025-05-15T16:15:54.808942",
     "status": "completed"
    },
    "tags": []
   },
   "outputs": [
    {
     "name": "stderr",
     "output_type": "stream",
     "text": [
      "/scratch_isilon/groups/singlecell/shared/conda_env/xgboost-cpu/lib/python3.12/site-packages/sklearn/metrics/_classification.py:2466: UserWarning: y_pred contains classes not in y_true\n",
      "  warnings.warn(\"y_pred contains classes not in y_true\")\n"
     ]
    }
   ],
   "source": [
    "metrics_dict = dict(\n",
    "    BAS=balanced_accuracy_score(y_true=df_pred_test.y_true_code, y_pred=df_pred_test.y_pred), WF1=f1_score(y_true=df_pred_test.y_true_code, y_pred=df_pred_test.y_pred,average='weighted'))"
   ]
  },
  {
   "cell_type": "code",
   "execution_count": 26,
   "id": "109bda44",
   "metadata": {
    "execution": {
     "iopub.execute_input": "2025-05-15T16:15:54.856396Z",
     "iopub.status.busy": "2025-05-15T16:15:54.856083Z",
     "iopub.status.idle": "2025-05-15T16:15:54.859369Z",
     "shell.execute_reply": "2025-05-15T16:15:54.859003Z"
    },
    "papermill": {
     "duration": 0.015098,
     "end_time": "2025-05-15T16:15:54.860959",
     "exception": false,
     "start_time": "2025-05-15T16:15:54.845861",
     "status": "completed"
    },
    "tags": []
   },
   "outputs": [
    {
     "data": {
      "text/plain": [
       "{'BAS': 0.6171241896739739, 'WF1': 0.8520260880413331}"
      ]
     },
     "execution_count": 26,
     "metadata": {},
     "output_type": "execute_result"
    }
   ],
   "source": [
    "metrics_dict"
   ]
  },
  {
   "cell_type": "code",
   "execution_count": 27,
   "id": "efe0a442",
   "metadata": {
    "execution": {
     "iopub.execute_input": "2025-05-15T16:15:54.880726Z",
     "iopub.status.busy": "2025-05-15T16:15:54.880451Z",
     "iopub.status.idle": "2025-05-15T16:15:54.889560Z",
     "shell.execute_reply": "2025-05-15T16:15:54.889189Z"
    },
    "papermill": {
     "duration": 0.019746,
     "end_time": "2025-05-15T16:15:54.890507",
     "exception": false,
     "start_time": "2025-05-15T16:15:54.870761",
     "status": "completed"
    },
    "tags": []
   },
   "outputs": [
    {
     "data": {
      "text/html": [
       "<div>\n",
       "<style scoped>\n",
       "    .dataframe tbody tr th:only-of-type {\n",
       "        vertical-align: middle;\n",
       "    }\n",
       "\n",
       "    .dataframe tbody tr th {\n",
       "        vertical-align: top;\n",
       "    }\n",
       "\n",
       "    .dataframe thead th {\n",
       "        text-align: right;\n",
       "    }\n",
       "</style>\n",
       "<table border=\"1\" class=\"dataframe\">\n",
       "  <thead>\n",
       "    <tr style=\"text-align: right;\">\n",
       "      <th></th>\n",
       "      <th>BAS</th>\n",
       "      <th>WF1</th>\n",
       "      <th>split_idx</th>\n",
       "      <th>gene_set_seed</th>\n",
       "      <th>cell_type</th>\n",
       "    </tr>\n",
       "  </thead>\n",
       "  <tbody>\n",
       "    <tr>\n",
       "      <th>0</th>\n",
       "      <td>0.617124</td>\n",
       "      <td>0.852026</td>\n",
       "      <td>2</td>\n",
       "      <td>13</td>\n",
       "      <td>Mono</td>\n",
       "    </tr>\n",
       "  </tbody>\n",
       "</table>\n",
       "</div>"
      ],
      "text/plain": [
       "        BAS       WF1  split_idx  gene_set_seed cell_type\n",
       "0  0.617124  0.852026          2             13      Mono"
      ]
     },
     "execution_count": 27,
     "metadata": {},
     "output_type": "execute_result"
    }
   ],
   "source": [
    "metrics_df = pd.DataFrame.from_dict([metrics_dict]).assign(split_idx=TEST_SPLIT_IDX, gene_set_seed=SEED, cell_type=CELL_TYPE)\n",
    "metrics_df"
   ]
  },
  {
   "cell_type": "code",
   "execution_count": 28,
   "id": "586b82fc",
   "metadata": {
    "execution": {
     "iopub.execute_input": "2025-05-15T16:15:54.967476Z",
     "iopub.status.busy": "2025-05-15T16:15:54.967018Z",
     "iopub.status.idle": "2025-05-15T16:15:55.036429Z",
     "shell.execute_reply": "2025-05-15T16:15:55.035886Z"
    },
    "papermill": {
     "duration": 0.138234,
     "end_time": "2025-05-15T16:15:55.037707",
     "exception": false,
     "start_time": "2025-05-15T16:15:54.899473",
     "status": "completed"
    },
    "tags": []
   },
   "outputs": [],
   "source": [
    "out_dir = here(f'03_downstream_analysis/08_gene_importance/xgboost_external_validation/xgboost_TopN_genes/results_{N_GENES}/metrics')\n",
    "\n",
    "if not os.path.exists(out_dir):\n",
    "    os.makedirs(out_dir)\n",
    "    \n",
    "metrics_df.to_csv(os.path.join(out_dir, f'{CELL_TYPE}_{SEED}_{TEST_SPLIT_IDX}_metrics.zip'))"
   ]
  }
 ],
 "metadata": {
  "kernelspec": {
   "display_name": "Python 3 (ipykernel)",
   "language": "python",
   "name": "python3"
  },
  "language_info": {
   "codemirror_mode": {
    "name": "ipython",
    "version": 3
   },
   "file_extension": ".py",
   "mimetype": "text/x-python",
   "name": "python",
   "nbconvert_exporter": "python",
   "pygments_lexer": "ipython3",
   "version": "3.12.5"
  },
  "papermill": {
   "default_parameters": {},
   "duration": 961.584582,
   "end_time": "2025-05-15T16:15:55.665962",
   "environment_variables": {},
   "exception": null,
   "input_path": "02_xgboost_fitting_external_20genes.ipynb",
   "output_path": "results_20/executed_notebooks/xgboost_fitting_external_CT_Mono_GS_13_seed2.ipynb",
   "parameters": {
    "CELL_TYPE": "Mono",
    "SEED": 13,
    "TEST_SPLIT_IDX": 2
   },
   "start_time": "2025-05-15T15:59:54.081380",
   "version": "2.6.0"
  }
 },
 "nbformat": 4,
 "nbformat_minor": 5
}