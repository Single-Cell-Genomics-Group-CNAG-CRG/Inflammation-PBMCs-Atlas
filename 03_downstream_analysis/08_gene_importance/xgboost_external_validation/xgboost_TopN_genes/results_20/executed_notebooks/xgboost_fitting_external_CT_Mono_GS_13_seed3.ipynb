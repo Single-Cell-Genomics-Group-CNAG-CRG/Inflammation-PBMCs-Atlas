{
 "cells": [
  {
   "cell_type": "code",
   "execution_count": 1,
   "id": "9dfc6bd5",
   "metadata": {
    "editable": true,
    "execution": {
     "iopub.execute_input": "2025-05-15T15:59:56.064640Z",
     "iopub.status.busy": "2025-05-15T15:59:56.064456Z",
     "iopub.status.idle": "2025-05-15T15:59:56.067403Z",
     "shell.execute_reply": "2025-05-15T15:59:56.067094Z"
    },
    "papermill": {
     "duration": 0.031112,
     "end_time": "2025-05-15T15:59:56.068290",
     "exception": false,
     "start_time": "2025-05-15T15:59:56.037178",
     "status": "completed"
    },
    "slideshow": {
     "slide_type": ""
    },
    "tags": [
     "parameters"
    ]
   },
   "outputs": [],
   "source": [
    "CELL_TYPE = 'pDC'\n",
    "N_GENES: int = 20\n",
    "SEED = 'shap_studyID' #'disease_NOstudy' 'study_NOdisease' or 'int' or 'shap_studyID'\n",
    "TEST_SPLIT_IDX: int = 1 #[0,4]"
   ]
  },
  {
   "cell_type": "code",
   "execution_count": 2,
   "id": "c25571fb",
   "metadata": {
    "execution": {
     "iopub.execute_input": "2025-05-15T15:59:56.107931Z",
     "iopub.status.busy": "2025-05-15T15:59:56.107562Z",
     "iopub.status.idle": "2025-05-15T15:59:56.109747Z",
     "shell.execute_reply": "2025-05-15T15:59:56.109433Z"
    },
    "papermill": {
     "duration": 0.009907,
     "end_time": "2025-05-15T15:59:56.110544",
     "exception": false,
     "start_time": "2025-05-15T15:59:56.100637",
     "status": "completed"
    },
    "tags": [
     "injected-parameters"
    ]
   },
   "outputs": [],
   "source": [
    "# Parameters\n",
    "CELL_TYPE = \"Mono\"\n",
    "SEED = 13\n",
    "TEST_SPLIT_IDX = 3\n"
   ]
  },
  {
   "cell_type": "code",
   "execution_count": 3,
   "id": "9c2f43ef",
   "metadata": {
    "execution": {
     "iopub.execute_input": "2025-05-15T15:59:56.151337Z",
     "iopub.status.busy": "2025-05-15T15:59:56.150919Z",
     "iopub.status.idle": "2025-05-15T15:59:56.153115Z",
     "shell.execute_reply": "2025-05-15T15:59:56.152811Z"
    },
    "papermill": {
     "duration": 0.026249,
     "end_time": "2025-05-15T15:59:56.153882",
     "exception": false,
     "start_time": "2025-05-15T15:59:56.127633",
     "status": "completed"
    },
    "tags": []
   },
   "outputs": [],
   "source": [
    "N_SPLITS: int = 5\n",
    "N_TRIALS: int = 50"
   ]
  },
  {
   "cell_type": "code",
   "execution_count": 4,
   "id": "9af102e2",
   "metadata": {
    "execution": {
     "iopub.execute_input": "2025-05-15T15:59:56.189398Z",
     "iopub.status.busy": "2025-05-15T15:59:56.189085Z",
     "iopub.status.idle": "2025-05-15T15:59:57.536463Z",
     "shell.execute_reply": "2025-05-15T15:59:57.535980Z"
    },
    "papermill": {
     "duration": 1.366281,
     "end_time": "2025-05-15T15:59:57.537635",
     "exception": false,
     "start_time": "2025-05-15T15:59:56.171354",
     "status": "completed"
    },
    "tags": []
   },
   "outputs": [],
   "source": [
    "import os\n",
    "import sys\n",
    "from pyprojroot.here import here\n",
    "import pandas as pd\n",
    "import anndata as ad\n",
    "import numpy as np\n",
    "import math\n",
    "from sklearn.model_selection import StratifiedGroupKFold\n",
    "from sklearn.preprocessing import LabelEncoder\n",
    "from sklearn.metrics import f1_score\n",
    "import matplotlib.pyplot as plt\n",
    "import seaborn as sns\n",
    "from itertools import product\n",
    "from sklearn.metrics import balanced_accuracy_score, f1_score\n",
    "import optuna\n",
    "\n",
    "import joblib\n",
    "import pickle\n",
    "import datetime\n",
    "\n",
    "import collections\n",
    "\n",
    "import xgboost\n",
    "from sklearn.preprocessing import LabelEncoder\n",
    "\n",
    "import scipy.sparse as ssp\n",
    "import joblib\n",
    "\n",
    "from dotenv import load_dotenv"
   ]
  },
  {
   "cell_type": "code",
   "execution_count": 5,
   "id": "d183ae31",
   "metadata": {
    "execution": {
     "iopub.execute_input": "2025-05-15T15:59:57.573538Z",
     "iopub.status.busy": "2025-05-15T15:59:57.573231Z",
     "iopub.status.idle": "2025-05-15T15:59:57.580174Z",
     "shell.execute_reply": "2025-05-15T15:59:57.579864Z"
    },
    "papermill": {
     "duration": 0.026345,
     "end_time": "2025-05-15T15:59:57.581011",
     "exception": false,
     "start_time": "2025-05-15T15:59:57.554666",
     "status": "completed"
    },
    "tags": []
   },
   "outputs": [
    {
     "data": {
      "text/plain": [
       "True"
      ]
     },
     "execution_count": 5,
     "metadata": {},
     "output_type": "execute_result"
    }
   ],
   "source": [
    "load_dotenv()"
   ]
  },
  {
   "cell_type": "markdown",
   "id": "f7b512f6",
   "metadata": {
    "papermill": {
     "duration": 0.032889,
     "end_time": "2025-05-15T15:59:57.639887",
     "exception": false,
     "start_time": "2025-05-15T15:59:57.606998",
     "status": "completed"
    },
    "tags": []
   },
   "source": [
    "# LOAD DATASET"
   ]
  },
  {
   "cell_type": "code",
   "execution_count": 6,
   "id": "828933c9",
   "metadata": {
    "execution": {
     "iopub.execute_input": "2025-05-15T15:59:57.683772Z",
     "iopub.status.busy": "2025-05-15T15:59:57.683323Z",
     "iopub.status.idle": "2025-05-15T15:59:58.853910Z",
     "shell.execute_reply": "2025-05-15T15:59:58.853350Z"
    },
    "papermill": {
     "duration": 1.191232,
     "end_time": "2025-05-15T15:59:58.855177",
     "exception": false,
     "start_time": "2025-05-15T15:59:57.663945",
     "status": "completed"
    },
    "tags": []
   },
   "outputs": [],
   "source": [
    "train_adata = ad.read_h5ad(\n",
    "    here(f'03_downstream_analysis/08_gene_importance/xgboost_external_validation/xgboost_TopN_genes/data_cellTypes/EXTERNAL_{CELL_TYPE}.filtered.log1p.h5ad')\n",
    ")"
   ]
  },
  {
   "cell_type": "code",
   "execution_count": 7,
   "id": "33eb91c8",
   "metadata": {
    "execution": {
     "iopub.execute_input": "2025-05-15T15:59:58.885335Z",
     "iopub.status.busy": "2025-05-15T15:59:58.885185Z",
     "iopub.status.idle": "2025-05-15T15:59:58.919722Z",
     "shell.execute_reply": "2025-05-15T15:59:58.919194Z"
    },
    "papermill": {
     "duration": 0.053679,
     "end_time": "2025-05-15T15:59:58.920709",
     "exception": false,
     "start_time": "2025-05-15T15:59:58.867030",
     "status": "completed"
    },
    "tags": []
   },
   "outputs": [
    {
     "name": "stdout",
     "output_type": "stream",
     "text": [
      "['ENSG00000150782' 'ENSG00000140564' 'ENSG00000150961' 'ENSG00000009790'\n",
      " 'ENSG00000231389' 'ENSG00000076662' 'ENSG00000042753' 'ENSG00000165140'\n",
      " 'ENSG00000059728' 'ENSG00000123268' 'ENSG00000148834' 'ENSG00000182578'\n",
      " 'ENSG00000138107' 'ENSG00000090863' 'ENSG00000125740' 'ENSG00000106799'\n",
      " 'ENSG00000170345' 'ENSG00000196126' 'ENSG00000204592' 'ENSG00000198668'\n",
      " 'ENSG00000198223' 'ENSG00000232810' 'ENSG00000185201' 'ENSG00000171608'\n",
      " 'ENSG00000132912' 'ENSG00000142546' 'ENSG00000175203' 'ENSG00000066136'\n",
      " 'ENSG00000139289' 'ENSG00000143119' 'ENSG00000164674' 'ENSG00000164308'\n",
      " 'ENSG00000119408' 'ENSG00000166888' 'ENSG00000143390' 'ENSG00000115415'\n",
      " 'ENSG00000161921' 'ENSG00000164136' 'ENSG00000170296' 'ENSG00000133246'\n",
      " 'ENSG00000135404' 'ENSG00000163659' 'ENSG00000119917' 'ENSG00000101608'\n",
      " 'ENSG00000134321' 'ENSG00000223865' 'ENSG00000168610' 'ENSG00000185650'\n",
      " 'ENSG00000135720' 'ENSG00000164307' 'ENSG00000106066' 'ENSG00000197965'\n",
      " 'ENSG00000163563' 'ENSG00000121774' 'ENSG00000187608' 'ENSG00000204482'\n",
      " 'ENSG00000117523' 'ENSG00000183023' 'ENSG00000136826' 'ENSG00000109787'\n",
      " 'ENSG00000213928' 'ENSG00000178719' 'ENSG00000068796' 'ENSG00000204267'\n",
      " 'ENSG00000127951' 'ENSG00000068831' 'ENSG00000100911' 'ENSG00000163513'\n",
      " 'ENSG00000118508' 'ENSG00000142089' 'ENSG00000113441' 'ENSG00000172936'\n",
      " 'ENSG00000159128' 'ENSG00000019582' 'ENSG00000206503' 'ENSG00000172183'\n",
      " 'ENSG00000162434' 'ENSG00000140379' 'ENSG00000182117' 'ENSG00000111331'\n",
      " 'ENSG00000166747' 'ENSG00000089280' 'ENSG00000085514' 'ENSG00000089327'\n",
      " 'ENSG00000113615' 'ENSG00000173757' 'ENSG00000125534' 'ENSG00000197766'\n",
      " 'ENSG00000161642' 'ENSG00000175538' 'ENSG00000204103' 'ENSG00000002586'\n",
      " 'ENSG00000169896' 'ENSG00000277632' 'ENSG00000158869' 'ENSG00000179921'\n",
      " 'ENSG00000161203' 'ENSG00000143924' 'ENSG00000152219' 'ENSG00000115145'\n",
      " 'ENSG00000187164' 'ENSG00000110848' 'ENSG00000198053' 'ENSG00000161944'\n",
      " 'ENSG00000107223' 'ENSG00000100300' 'ENSG00000121858' 'ENSG00000204257'\n",
      " 'ENSG00000166825' 'ENSG00000162711' 'ENSG00000123358' 'ENSG00000197746'\n",
      " 'ENSG00000140105' 'ENSG00000160213']\n"
     ]
    }
   ],
   "source": [
    "if SEED != 'all':\n",
    "    gene_subset = np.load(here(f'03_downstream_analysis/08_gene_importance/xgboost_external_validation/shap_gene_selection/gene_subsets_{N_GENES}/{CELL_TYPE}_{SEED}.npy'), allow_pickle=True)\n",
    "    train_adata = train_adata[:,gene_subset]\n",
    "    print(gene_subset)\n",
    "elif SEED == 'all':\n",
    "    print('Using all genes')\n",
    "else:\n",
    "    raise ValueError()"
   ]
  },
  {
   "cell_type": "code",
   "execution_count": 8,
   "id": "53f1eafb",
   "metadata": {
    "execution": {
     "iopub.execute_input": "2025-05-15T15:59:58.943265Z",
     "iopub.status.busy": "2025-05-15T15:59:58.942942Z",
     "iopub.status.idle": "2025-05-15T15:59:58.947256Z",
     "shell.execute_reply": "2025-05-15T15:59:58.946935Z"
    },
    "papermill": {
     "duration": 0.021171,
     "end_time": "2025-05-15T15:59:58.948105",
     "exception": false,
     "start_time": "2025-05-15T15:59:58.926934",
     "status": "completed"
    },
    "tags": []
   },
   "outputs": [
    {
     "data": {
      "text/plain": [
       "(137435, 114)"
      ]
     },
     "execution_count": 8,
     "metadata": {},
     "output_type": "execute_result"
    }
   ],
   "source": [
    "train_adata.shape"
   ]
  },
  {
   "cell_type": "code",
   "execution_count": 9,
   "id": "375db1bd",
   "metadata": {
    "execution": {
     "iopub.execute_input": "2025-05-15T15:59:58.975145Z",
     "iopub.status.busy": "2025-05-15T15:59:58.974826Z",
     "iopub.status.idle": "2025-05-15T15:59:58.979349Z",
     "shell.execute_reply": "2025-05-15T15:59:58.979037Z"
    },
    "papermill": {
     "duration": 0.012134,
     "end_time": "2025-05-15T15:59:58.980140",
     "exception": false,
     "start_time": "2025-05-15T15:59:58.968006",
     "status": "completed"
    },
    "tags": []
   },
   "outputs": [
    {
     "data": {
      "text/plain": [
       "['RA', 'healthy', 'COVID', 'HIV', 'cirrhosis', 'CD', 'SLE', 'sepsis']\n",
       "Categories (8, object): ['CD', 'COVID', 'HIV', 'RA', 'SLE', 'cirrhosis', 'healthy', 'sepsis']"
      ]
     },
     "execution_count": 9,
     "metadata": {},
     "output_type": "execute_result"
    }
   ],
   "source": [
    "train_adata.obs.disease.unique()"
   ]
  },
  {
   "cell_type": "code",
   "execution_count": 10,
   "id": "320eac01",
   "metadata": {
    "execution": {
     "iopub.execute_input": "2025-05-15T15:59:59.019268Z",
     "iopub.status.busy": "2025-05-15T15:59:59.019000Z",
     "iopub.status.idle": "2025-05-15T15:59:59.023440Z",
     "shell.execute_reply": "2025-05-15T15:59:59.023142Z"
    },
    "papermill": {
     "duration": 0.02747,
     "end_time": "2025-05-15T15:59:59.024248",
     "exception": false,
     "start_time": "2025-05-15T15:59:58.996778",
     "status": "completed"
    },
    "tags": []
   },
   "outputs": [
    {
     "data": {
      "text/plain": [
       "['SCGT00val_I0364_T0', 'SCGT00val_I036028_T0', 'SCGT00val_I036024_T0', 'SCGT00val_I036023_T0', 'SCGT00val_I036019_T0', ..., '10XGenomics_10XHC2_T0', '10XGenomics_10XHC3_T0', '10XGenomics_10XHC5_T0', '10XGenomics_10XHC7_T0', '10XGenomics_10XHC8_T0']\n",
       "Length: 86\n",
       "Categories (86, object): ['10XGenomics_10XHC1_T0', '10XGenomics_10XHC2_T0', '10XGenomics_10XHC3_T0', '10XGenomics_10XHC4_T0', ..., 'Savage2021_BRISL6_T0', 'Savage2021_BRISL7_T0', 'Savage2021_PIDA_T0', 'Savage2021_PIDB_T0']"
      ]
     },
     "execution_count": 10,
     "metadata": {},
     "output_type": "execute_result"
    }
   ],
   "source": [
    "train_adata.obs.sampleID.unique()"
   ]
  },
  {
   "cell_type": "code",
   "execution_count": 11,
   "id": "f47e290b",
   "metadata": {
    "execution": {
     "iopub.execute_input": "2025-05-15T15:59:59.056042Z",
     "iopub.status.busy": "2025-05-15T15:59:59.055816Z",
     "iopub.status.idle": "2025-05-15T15:59:59.380401Z",
     "shell.execute_reply": "2025-05-15T15:59:59.379935Z"
    },
    "papermill": {
     "duration": 0.342793,
     "end_time": "2025-05-15T15:59:59.381530",
     "exception": false,
     "start_time": "2025-05-15T15:59:59.038737",
     "status": "completed"
    },
    "tags": []
   },
   "outputs": [],
   "source": [
    "all_idxs = np.arange(train_adata.obs.shape[0])\n",
    "left_out_splits = [s[1] for s in StratifiedGroupKFold(n_splits=N_SPLITS).split(all_idxs, train_adata.obs.disease, train_adata.obs.sampleID)]"
   ]
  },
  {
   "cell_type": "code",
   "execution_count": 12,
   "id": "f47418f3",
   "metadata": {
    "execution": {
     "iopub.execute_input": "2025-05-15T15:59:59.411401Z",
     "iopub.status.busy": "2025-05-15T15:59:59.410953Z",
     "iopub.status.idle": "2025-05-15T15:59:59.415271Z",
     "shell.execute_reply": "2025-05-15T15:59:59.414962Z"
    },
    "papermill": {
     "duration": 0.020181,
     "end_time": "2025-05-15T15:59:59.416245",
     "exception": false,
     "start_time": "2025-05-15T15:59:59.396064",
     "status": "completed"
    },
    "tags": []
   },
   "outputs": [
    {
     "data": {
      "text/plain": [
       "([0, 1, 2], 4, 3)"
      ]
     },
     "execution_count": 12,
     "metadata": {},
     "output_type": "execute_result"
    }
   ],
   "source": [
    "TRAIN_SPLIT_IDXS = [0,1,2,3,4]\n",
    "VAL_SPLIT_IDX = (TEST_SPLIT_IDX + 1) % 5\n",
    "TRAIN_SPLIT_IDXS.remove(TEST_SPLIT_IDX)\n",
    "TRAIN_SPLIT_IDXS.remove(VAL_SPLIT_IDX)\n",
    "TRAIN_SPLIT_IDXS, VAL_SPLIT_IDX, TEST_SPLIT_IDX"
   ]
  },
  {
   "cell_type": "code",
   "execution_count": 13,
   "id": "5b84199a",
   "metadata": {
    "execution": {
     "iopub.execute_input": "2025-05-15T15:59:59.448223Z",
     "iopub.status.busy": "2025-05-15T15:59:59.447875Z",
     "iopub.status.idle": "2025-05-15T15:59:59.451066Z",
     "shell.execute_reply": "2025-05-15T15:59:59.450726Z"
    },
    "papermill": {
     "duration": 0.011114,
     "end_time": "2025-05-15T15:59:59.451937",
     "exception": false,
     "start_time": "2025-05-15T15:59:59.440823",
     "status": "completed"
    },
    "tags": []
   },
   "outputs": [],
   "source": [
    "train_idxs = np.concatenate([left_out_splits[idx] for idx in TRAIN_SPLIT_IDXS])\n",
    "val_idxs = left_out_splits[VAL_SPLIT_IDX]\n",
    "test_idxs = left_out_splits[TEST_SPLIT_IDX]"
   ]
  },
  {
   "cell_type": "markdown",
   "id": "871f15fb",
   "metadata": {
    "papermill": {
     "duration": 0.018858,
     "end_time": "2025-05-15T15:59:59.479604",
     "exception": false,
     "start_time": "2025-05-15T15:59:59.460746",
     "status": "completed"
    },
    "tags": []
   },
   "source": [
    "### SUBSET DATASET INTO TRAIN/TEST/VAL SPLITS"
   ]
  },
  {
   "cell_type": "code",
   "execution_count": 14,
   "id": "a6853c9e",
   "metadata": {
    "execution": {
     "iopub.execute_input": "2025-05-15T15:59:59.520380Z",
     "iopub.status.busy": "2025-05-15T15:59:59.519951Z",
     "iopub.status.idle": "2025-05-15T15:59:59.964173Z",
     "shell.execute_reply": "2025-05-15T15:59:59.963673Z"
    },
    "papermill": {
     "duration": 0.464584,
     "end_time": "2025-05-15T15:59:59.965135",
     "exception": false,
     "start_time": "2025-05-15T15:59:59.500551",
     "status": "completed"
    },
    "tags": []
   },
   "outputs": [
    {
     "data": {
      "text/plain": [
       "((81752, 114), (28646, 114), (27037, 114))"
      ]
     },
     "execution_count": 14,
     "metadata": {},
     "output_type": "execute_result"
    }
   ],
   "source": [
    "X_train = train_adata.X[train_idxs]\n",
    "X_test = train_adata.X[test_idxs]\n",
    "X_val = train_adata.X[val_idxs]\n",
    "X_train.shape, X_test.shape, X_val.shape"
   ]
  },
  {
   "cell_type": "code",
   "execution_count": 15,
   "id": "4645f6f5",
   "metadata": {
    "execution": {
     "iopub.execute_input": "2025-05-15T16:00:00.008682Z",
     "iopub.status.busy": "2025-05-15T16:00:00.008524Z",
     "iopub.status.idle": "2025-05-15T16:00:00.023057Z",
     "shell.execute_reply": "2025-05-15T16:00:00.022387Z"
    },
    "papermill": {
     "duration": 0.035376,
     "end_time": "2025-05-15T16:00:00.023985",
     "exception": false,
     "start_time": "2025-05-15T15:59:59.988609",
     "status": "completed"
    },
    "tags": []
   },
   "outputs": [
    {
     "data": {
      "text/plain": [
       "((81752,), (28646,), (27037,))"
      ]
     },
     "execution_count": 15,
     "metadata": {},
     "output_type": "execute_result"
    }
   ],
   "source": [
    "y_train = train_adata.obs.iloc[train_idxs].disease.values.astype(str)\n",
    "y_test = train_adata.obs.iloc[test_idxs].disease.values.astype(str)\n",
    "y_val = train_adata.obs.iloc[val_idxs].disease.values.astype(str)\n",
    "y_train.shape, y_test.shape, y_val.shape"
   ]
  },
  {
   "cell_type": "code",
   "execution_count": 16,
   "id": "5dc68e24",
   "metadata": {
    "execution": {
     "iopub.execute_input": "2025-05-15T16:00:00.073495Z",
     "iopub.status.busy": "2025-05-15T16:00:00.073233Z",
     "iopub.status.idle": "2025-05-15T16:00:00.104482Z",
     "shell.execute_reply": "2025-05-15T16:00:00.103972Z"
    },
    "papermill": {
     "duration": 0.062075,
     "end_time": "2025-05-15T16:00:00.105568",
     "exception": false,
     "start_time": "2025-05-15T16:00:00.043493",
     "status": "completed"
    },
    "tags": []
   },
   "outputs": [],
   "source": [
    "lenc = LabelEncoder()\n",
    "y_train_enc = lenc.fit_transform(y_train)\n",
    "y_val_enc = lenc.transform(y_val)\n",
    "y_test_enc = lenc.transform(y_test)"
   ]
  },
  {
   "cell_type": "markdown",
   "id": "29a4bd57",
   "metadata": {
    "papermill": {
     "duration": 0.026239,
     "end_time": "2025-05-15T16:00:00.148997",
     "exception": false,
     "start_time": "2025-05-15T16:00:00.122758",
     "status": "completed"
    },
    "tags": []
   },
   "source": [
    "### GENERATE F1 "
   ]
  },
  {
   "cell_type": "code",
   "execution_count": 17,
   "id": "b07e8485",
   "metadata": {
    "execution": {
     "iopub.execute_input": "2025-05-15T16:00:00.196351Z",
     "iopub.status.busy": "2025-05-15T16:00:00.196205Z",
     "iopub.status.idle": "2025-05-15T16:00:00.199498Z",
     "shell.execute_reply": "2025-05-15T16:00:00.199097Z"
    },
    "papermill": {
     "duration": 0.031816,
     "end_time": "2025-05-15T16:00:00.200325",
     "exception": false,
     "start_time": "2025-05-15T16:00:00.168509",
     "status": "completed"
    },
    "tags": []
   },
   "outputs": [],
   "source": [
    "def custom_f1_score(y_true, y_pred):\n",
    "    return -f1_score(y_true, y_pred.argmax(1), average='weighted')"
   ]
  },
  {
   "cell_type": "code",
   "execution_count": 18,
   "id": "0ddbadc0",
   "metadata": {
    "execution": {
     "iopub.execute_input": "2025-05-15T16:00:00.239893Z",
     "iopub.status.busy": "2025-05-15T16:00:00.239708Z",
     "iopub.status.idle": "2025-05-15T16:00:00.243942Z",
     "shell.execute_reply": "2025-05-15T16:00:00.243571Z"
    },
    "papermill": {
     "duration": 0.018452,
     "end_time": "2025-05-15T16:00:00.244724",
     "exception": false,
     "start_time": "2025-05-15T16:00:00.226272",
     "status": "completed"
    },
    "tags": []
   },
   "outputs": [],
   "source": [
    "eval_metric=custom_f1_score\n",
    "eval_metric_name='custom_f1_score'\n",
    "\n",
    "def objective(trial):\n",
    "    params = {\n",
    "        'n_estimators': 1500,\n",
    "        'max_depth': trial.suggest_int('max_depth', 3, 20),\n",
    "        'min_child_weight': trial.suggest_int('min_child_weight', 1, 250),\n",
    "        'subsample': trial.suggest_float('subsample', 0.1, 1.0),\n",
    "        'colsample_bynode': trial.suggest_float('colsample_bynode', 0.1, 1.0),\n",
    "        'learning_rate': trial.suggest_float('learning_rate', 1e-3, 5e-1, log=True),\n",
    "    }\n",
    "    pruning_callback = optuna.integration.XGBoostPruningCallback(trial, f'validation_0-{eval_metric_name}')\n",
    "    es_callback = xgboost.callback.EarlyStopping(20, min_delta=0.001)\n",
    "    xgb = xgboost.XGBClassifier(\n",
    "        eval_metric=eval_metric,\n",
    "        callbacks=[pruning_callback, es_callback],\n",
    "        n_jobs=5,\n",
    "        **params\n",
    "    )\n",
    "    xgb.fit(\n",
    "        X_train, \n",
    "        y_train_enc, \n",
    "        verbose=0,\n",
    "        eval_set=[(X_val, y_val_enc)],\n",
    "    )\n",
    "    trial.set_user_attr('best_iteration', xgb.best_iteration)\n",
    "\n",
    "    return xgb.best_score"
   ]
  },
  {
   "cell_type": "code",
   "execution_count": 19,
   "id": "3475ff77",
   "metadata": {
    "execution": {
     "iopub.execute_input": "2025-05-15T16:00:00.291169Z",
     "iopub.status.busy": "2025-05-15T16:00:00.290852Z",
     "iopub.status.idle": "2025-05-15T16:18:40.284270Z",
     "shell.execute_reply": "2025-05-15T16:18:40.283738Z"
    },
    "papermill": {
     "duration": 1120.017265,
     "end_time": "2025-05-15T16:18:40.285455",
     "exception": false,
     "start_time": "2025-05-15T16:00:00.268190",
     "status": "completed"
    },
    "scrolled": true,
    "tags": []
   },
   "outputs": [
    {
     "name": "stderr",
     "output_type": "stream",
     "text": [
      "[I 2025-05-15 18:00:00,292] A new study created in memory with name: no-name-364fb4cb-46aa-42fe-8c1c-bcd13e7f601a\n"
     ]
    },
    {
     "name": "stderr",
     "output_type": "stream",
     "text": [
      "[I 2025-05-15 18:00:16,617] Trial 0 finished with value: -0.68641 and parameters: {'max_depth': 9, 'min_child_weight': 238, 'subsample': 0.7587945476302645, 'colsample_bynode': 0.6387926357773329, 'learning_rate': 0.0026368755339723046}. Best is trial 0 with value: -0.68641.\n"
     ]
    },
    {
     "name": "stderr",
     "output_type": "stream",
     "text": [
      "[I 2025-05-15 18:01:29,042] Trial 1 finished with value: -0.783998 and parameters: {'max_depth': 5, 'min_child_weight': 15, 'subsample': 0.8795585311974417, 'colsample_bynode': 0.6410035105688879, 'learning_rate': 0.08148293210105287}. Best is trial 1 with value: -0.783998.\n"
     ]
    },
    {
     "name": "stderr",
     "output_type": "stream",
     "text": [
      "[I 2025-05-15 18:01:38,048] Trial 2 finished with value: -0.652393 and parameters: {'max_depth': 3, 'min_child_weight': 243, 'subsample': 0.8491983767203796, 'colsample_bynode': 0.29110519961044856, 'learning_rate': 0.003095566460242371}. Best is trial 1 with value: -0.783998.\n"
     ]
    },
    {
     "name": "stderr",
     "output_type": "stream",
     "text": [
      "[I 2025-05-15 18:02:50,159] Trial 3 finished with value: -0.716651 and parameters: {'max_depth': 6, 'min_child_weight': 77, 'subsample': 0.5722807884690141, 'colsample_bynode': 0.48875051677790415, 'learning_rate': 0.006109683510122491}. Best is trial 1 with value: -0.783998.\n"
     ]
    },
    {
     "name": "stderr",
     "output_type": "stream",
     "text": [
      "[I 2025-05-15 18:05:20,279] Trial 4 finished with value: -0.776825 and parameters: {'max_depth': 14, 'min_child_weight': 35, 'subsample': 0.3629301836816964, 'colsample_bynode': 0.4297256589643226, 'learning_rate': 0.01701841881702917}. Best is trial 1 with value: -0.783998.\n"
     ]
    },
    {
     "name": "stderr",
     "output_type": "stream",
     "text": [
      "[I 2025-05-15 18:05:31,137] Trial 5 finished with value: -0.707696 and parameters: {'max_depth': 17, 'min_child_weight': 50, 'subsample': 0.5628109945722505, 'colsample_bynode': 0.6331731119758383, 'learning_rate': 0.0013346527038305934}. Best is trial 1 with value: -0.783998.\n"
     ]
    },
    {
     "name": "stderr",
     "output_type": "stream",
     "text": [
      "[I 2025-05-15 18:05:49,570] Trial 6 finished with value: -0.776857 and parameters: {'max_depth': 13, 'min_child_weight': 43, 'subsample': 0.1585464336867516, 'colsample_bynode': 0.9539969835279999, 'learning_rate': 0.4038423798071558}. Best is trial 1 with value: -0.783998.\n"
     ]
    },
    {
     "name": "stderr",
     "output_type": "stream",
     "text": [
      "[I 2025-05-15 18:05:50,251] Trial 7 pruned. Trial was pruned at iteration 0.\n"
     ]
    },
    {
     "name": "stderr",
     "output_type": "stream",
     "text": [
      "[I 2025-05-15 18:05:50,906] Trial 8 pruned. Trial was pruned at iteration 0.\n"
     ]
    },
    {
     "name": "stderr",
     "output_type": "stream",
     "text": [
      "[I 2025-05-15 18:05:53,638] Trial 9 pruned. Trial was pruned at iteration 6.\n"
     ]
    },
    {
     "name": "stderr",
     "output_type": "stream",
     "text": [
      "[I 2025-05-15 18:05:54,506] Trial 10 pruned. Trial was pruned at iteration 0.\n"
     ]
    },
    {
     "name": "stderr",
     "output_type": "stream",
     "text": [
      "[I 2025-05-15 18:06:37,532] Trial 11 finished with value: -0.787988 and parameters: {'max_depth': 11, 'min_child_weight': 3, 'subsample': 0.35229864280210643, 'colsample_bynode': 0.9522656887511343, 'learning_rate': 0.4085535814821633}. Best is trial 11 with value: -0.787988.\n"
     ]
    },
    {
     "name": "stderr",
     "output_type": "stream",
     "text": [
      "[I 2025-05-15 18:08:41,166] Trial 12 finished with value: -0.792567 and parameters: {'max_depth': 20, 'min_child_weight': 3, 'subsample': 0.3693916175642251, 'colsample_bynode': 0.8079926877007318, 'learning_rate': 0.08811282856865725}. Best is trial 12 with value: -0.792567.\n"
     ]
    },
    {
     "name": "stderr",
     "output_type": "stream",
     "text": [
      "[I 2025-05-15 18:08:41,955] Trial 13 pruned. Trial was pruned at iteration 0.\n"
     ]
    },
    {
     "name": "stderr",
     "output_type": "stream",
     "text": [
      "[I 2025-05-15 18:08:42,735] Trial 14 pruned. Trial was pruned at iteration 0.\n"
     ]
    },
    {
     "name": "stderr",
     "output_type": "stream",
     "text": [
      "[I 2025-05-15 18:11:49,557] Trial 15 finished with value: -0.792144 and parameters: {'max_depth': 20, 'min_child_weight': 2, 'subsample': 0.27832770865353873, 'colsample_bynode': 0.9897434266141246, 'learning_rate': 0.057934531680722316}. Best is trial 12 with value: -0.792567.\n"
     ]
    },
    {
     "name": "stderr",
     "output_type": "stream",
     "text": [
      "[I 2025-05-15 18:11:50,280] Trial 16 pruned. Trial was pruned at iteration 0.\n"
     ]
    },
    {
     "name": "stderr",
     "output_type": "stream",
     "text": [
      "[I 2025-05-15 18:11:51,009] Trial 17 pruned. Trial was pruned at iteration 0.\n"
     ]
    },
    {
     "name": "stderr",
     "output_type": "stream",
     "text": [
      "[I 2025-05-15 18:12:51,592] Trial 18 finished with value: -0.790517 and parameters: {'max_depth': 20, 'min_child_weight': 37, 'subsample': 0.663856845060101, 'colsample_bynode': 0.7501939624098687, 'learning_rate': 0.13997813274461146}. Best is trial 12 with value: -0.792567.\n"
     ]
    },
    {
     "name": "stderr",
     "output_type": "stream",
     "text": [
      "[I 2025-05-15 18:12:52,337] Trial 19 pruned. Trial was pruned at iteration 0.\n"
     ]
    },
    {
     "name": "stderr",
     "output_type": "stream",
     "text": [
      "[I 2025-05-15 18:13:42,766] Trial 20 finished with value: -0.793387 and parameters: {'max_depth': 15, 'min_child_weight': 24, 'subsample': 0.4641176707884742, 'colsample_bynode': 0.7313439989320193, 'learning_rate': 0.18646559288362408}. Best is trial 20 with value: -0.793387.\n"
     ]
    },
    {
     "name": "stderr",
     "output_type": "stream",
     "text": [
      "[I 2025-05-15 18:14:28,652] Trial 21 finished with value: -0.792011 and parameters: {'max_depth': 15, 'min_child_weight': 23, 'subsample': 0.46891611782660464, 'colsample_bynode': 0.7151751231344149, 'learning_rate': 0.20901104055631745}. Best is trial 20 with value: -0.793387.\n"
     ]
    },
    {
     "name": "stderr",
     "output_type": "stream",
     "text": [
      "[I 2025-05-15 18:14:29,454] Trial 22 pruned. Trial was pruned at iteration 0.\n"
     ]
    },
    {
     "name": "stderr",
     "output_type": "stream",
     "text": [
      "[I 2025-05-15 18:14:30,287] Trial 23 pruned. Trial was pruned at iteration 0.\n"
     ]
    },
    {
     "name": "stderr",
     "output_type": "stream",
     "text": [
      "[I 2025-05-15 18:14:31,128] Trial 24 pruned. Trial was pruned at iteration 0.\n"
     ]
    },
    {
     "name": "stderr",
     "output_type": "stream",
     "text": [
      "[I 2025-05-15 18:15:17,638] Trial 25 finished with value: -0.786075 and parameters: {'max_depth': 18, 'min_child_weight': 2, 'subsample': 0.2944714255277484, 'colsample_bynode': 0.8627899417501718, 'learning_rate': 0.27531857777259233}. Best is trial 20 with value: -0.793387.\n"
     ]
    },
    {
     "name": "stderr",
     "output_type": "stream",
     "text": [
      "[I 2025-05-15 18:15:18,507] Trial 26 pruned. Trial was pruned at iteration 0.\n"
     ]
    },
    {
     "name": "stderr",
     "output_type": "stream",
     "text": [
      "[I 2025-05-15 18:15:19,217] Trial 27 pruned. Trial was pruned at iteration 0.\n"
     ]
    },
    {
     "name": "stderr",
     "output_type": "stream",
     "text": [
      "[I 2025-05-15 18:15:19,951] Trial 28 pruned. Trial was pruned at iteration 0.\n"
     ]
    },
    {
     "name": "stderr",
     "output_type": "stream",
     "text": [
      "[I 2025-05-15 18:15:20,668] Trial 29 pruned. Trial was pruned at iteration 0.\n"
     ]
    },
    {
     "name": "stderr",
     "output_type": "stream",
     "text": [
      "[I 2025-05-15 18:15:21,418] Trial 30 pruned. Trial was pruned at iteration 0.\n"
     ]
    },
    {
     "name": "stderr",
     "output_type": "stream",
     "text": [
      "[I 2025-05-15 18:16:01,785] Trial 31 finished with value: -0.791719 and parameters: {'max_depth': 12, 'min_child_weight': 28, 'subsample': 0.5144099058117622, 'colsample_bynode': 0.6842803894135696, 'learning_rate': 0.24330906545522688}. Best is trial 20 with value: -0.793387.\n"
     ]
    },
    {
     "name": "stderr",
     "output_type": "stream",
     "text": [
      "[I 2025-05-15 18:16:34,161] Trial 32 finished with value: -0.789079 and parameters: {'max_depth': 15, 'min_child_weight': 20, 'subsample': 0.4225658038923456, 'colsample_bynode': 0.5788457155175171, 'learning_rate': 0.19847760598813555}. Best is trial 20 with value: -0.793387.\n"
     ]
    },
    {
     "name": "stderr",
     "output_type": "stream",
     "text": [
      "[I 2025-05-15 18:16:52,259] Trial 33 pruned. Trial was pruned at iteration 34.\n"
     ]
    },
    {
     "name": "stderr",
     "output_type": "stream",
     "text": [
      "[I 2025-05-15 18:16:52,984] Trial 34 pruned. Trial was pruned at iteration 0.\n"
     ]
    },
    {
     "name": "stderr",
     "output_type": "stream",
     "text": [
      "[I 2025-05-15 18:16:53,656] Trial 35 pruned. Trial was pruned at iteration 0.\n"
     ]
    },
    {
     "name": "stderr",
     "output_type": "stream",
     "text": [
      "[I 2025-05-15 18:16:55,709] Trial 36 pruned. Trial was pruned at iteration 3.\n"
     ]
    },
    {
     "name": "stderr",
     "output_type": "stream",
     "text": [
      "[I 2025-05-15 18:16:56,391] Trial 37 pruned. Trial was pruned at iteration 0.\n"
     ]
    },
    {
     "name": "stderr",
     "output_type": "stream",
     "text": [
      "[I 2025-05-15 18:16:57,109] Trial 38 pruned. Trial was pruned at iteration 0.\n"
     ]
    },
    {
     "name": "stderr",
     "output_type": "stream",
     "text": [
      "[I 2025-05-15 18:16:57,723] Trial 39 pruned. Trial was pruned at iteration 0.\n"
     ]
    },
    {
     "name": "stderr",
     "output_type": "stream",
     "text": [
      "[I 2025-05-15 18:16:58,479] Trial 40 pruned. Trial was pruned at iteration 0.\n"
     ]
    },
    {
     "name": "stderr",
     "output_type": "stream",
     "text": [
      "[I 2025-05-15 18:16:59,286] Trial 41 pruned. Trial was pruned at iteration 0.\n"
     ]
    },
    {
     "name": "stderr",
     "output_type": "stream",
     "text": [
      "[I 2025-05-15 18:17:04,020] Trial 42 pruned. Trial was pruned at iteration 9.\n"
     ]
    },
    {
     "name": "stderr",
     "output_type": "stream",
     "text": [
      "[I 2025-05-15 18:17:04,772] Trial 43 pruned. Trial was pruned at iteration 0.\n"
     ]
    },
    {
     "name": "stderr",
     "output_type": "stream",
     "text": [
      "[I 2025-05-15 18:18:12,389] Trial 44 finished with value: -0.787199 and parameters: {'max_depth': 17, 'min_child_weight': 1, 'subsample': 0.4955188430099212, 'colsample_bynode': 0.7181670147387658, 'learning_rate': 0.20627864012390068}. Best is trial 20 with value: -0.793387.\n"
     ]
    },
    {
     "name": "stderr",
     "output_type": "stream",
     "text": [
      "[I 2025-05-15 18:18:13,112] Trial 45 pruned. Trial was pruned at iteration 0.\n"
     ]
    },
    {
     "name": "stderr",
     "output_type": "stream",
     "text": [
      "[I 2025-05-15 18:18:14,083] Trial 46 pruned. Trial was pruned at iteration 1.\n"
     ]
    },
    {
     "name": "stderr",
     "output_type": "stream",
     "text": [
      "[I 2025-05-15 18:18:14,739] Trial 47 pruned. Trial was pruned at iteration 0.\n"
     ]
    },
    {
     "name": "stderr",
     "output_type": "stream",
     "text": [
      "[I 2025-05-15 18:18:37,976] Trial 48 finished with value: -0.786265 and parameters: {'max_depth': 10, 'min_child_weight': 29, 'subsample': 0.4657697591931419, 'colsample_bynode': 0.8919422704819433, 'learning_rate': 0.348693165756089}. Best is trial 20 with value: -0.793387.\n"
     ]
    },
    {
     "name": "stderr",
     "output_type": "stream",
     "text": [
      "[I 2025-05-15 18:18:40,202] Trial 49 pruned. Trial was pruned at iteration 3.\n"
     ]
    }
   ],
   "source": [
    "sampler = optuna.samplers.TPESampler(seed=42)\n",
    "study = optuna.create_study(direction='minimize', sampler=sampler)\n",
    "study.optimize(objective, n_trials=N_TRIALS, gc_after_trial=True)"
   ]
  },
  {
   "cell_type": "code",
   "execution_count": 20,
   "id": "3ccea3a0",
   "metadata": {
    "execution": {
     "iopub.execute_input": "2025-05-15T16:18:40.303388Z",
     "iopub.status.busy": "2025-05-15T16:18:40.303241Z",
     "iopub.status.idle": "2025-05-15T16:18:40.328916Z",
     "shell.execute_reply": "2025-05-15T16:18:40.328614Z"
    },
    "papermill": {
     "duration": 0.035036,
     "end_time": "2025-05-15T16:18:40.329714",
     "exception": false,
     "start_time": "2025-05-15T16:18:40.294678",
     "status": "completed"
    },
    "tags": []
   },
   "outputs": [
    {
     "data": {
      "text/plain": [
       "['/scratch_isilon/groups/singlecell/shared/projects/Inflammation-PBMCs-Atlas/03_downstream_analysis/08_gene_importance/xgboost_external_validation/xgboost_TopN_genes/results_20/study/Mono_13_3_xgboost.pkl']"
      ]
     },
     "execution_count": 20,
     "metadata": {},
     "output_type": "execute_result"
    }
   ],
   "source": [
    "out_dir = here(f'03_downstream_analysis/08_gene_importance/xgboost_external_validation/xgboost_TopN_genes/results_{N_GENES}/study')\n",
    "\n",
    "if not os.path.exists(out_dir):\n",
    "    os.makedirs(out_dir)\n",
    "    \n",
    "joblib.dump(study,os.path.join(out_dir, f'{CELL_TYPE}_{SEED}_{TEST_SPLIT_IDX}_xgboost.pkl'))"
   ]
  },
  {
   "cell_type": "code",
   "execution_count": 21,
   "id": "543d9509",
   "metadata": {
    "execution": {
     "iopub.execute_input": "2025-05-15T16:18:40.346438Z",
     "iopub.status.busy": "2025-05-15T16:18:40.346177Z",
     "iopub.status.idle": "2025-05-15T16:19:05.176471Z",
     "shell.execute_reply": "2025-05-15T16:19:05.176112Z"
    },
    "papermill": {
     "duration": 24.839723,
     "end_time": "2025-05-15T16:19:05.177404",
     "exception": false,
     "start_time": "2025-05-15T16:18:40.337681",
     "status": "completed"
    },
    "tags": []
   },
   "outputs": [
    {
     "data": {
      "text/html": [
       "<style>#sk-container-id-1 {\n",
       "  /* Definition of color scheme common for light and dark mode */\n",
       "  --sklearn-color-text: black;\n",
       "  --sklearn-color-line: gray;\n",
       "  /* Definition of color scheme for unfitted estimators */\n",
       "  --sklearn-color-unfitted-level-0: #fff5e6;\n",
       "  --sklearn-color-unfitted-level-1: #f6e4d2;\n",
       "  --sklearn-color-unfitted-level-2: #ffe0b3;\n",
       "  --sklearn-color-unfitted-level-3: chocolate;\n",
       "  /* Definition of color scheme for fitted estimators */\n",
       "  --sklearn-color-fitted-level-0: #f0f8ff;\n",
       "  --sklearn-color-fitted-level-1: #d4ebff;\n",
       "  --sklearn-color-fitted-level-2: #b3dbfd;\n",
       "  --sklearn-color-fitted-level-3: cornflowerblue;\n",
       "\n",
       "  /* Specific color for light theme */\n",
       "  --sklearn-color-text-on-default-background: var(--sg-text-color, var(--theme-code-foreground, var(--jp-content-font-color1, black)));\n",
       "  --sklearn-color-background: var(--sg-background-color, var(--theme-background, var(--jp-layout-color0, white)));\n",
       "  --sklearn-color-border-box: var(--sg-text-color, var(--theme-code-foreground, var(--jp-content-font-color1, black)));\n",
       "  --sklearn-color-icon: #696969;\n",
       "\n",
       "  @media (prefers-color-scheme: dark) {\n",
       "    /* Redefinition of color scheme for dark theme */\n",
       "    --sklearn-color-text-on-default-background: var(--sg-text-color, var(--theme-code-foreground, var(--jp-content-font-color1, white)));\n",
       "    --sklearn-color-background: var(--sg-background-color, var(--theme-background, var(--jp-layout-color0, #111)));\n",
       "    --sklearn-color-border-box: var(--sg-text-color, var(--theme-code-foreground, var(--jp-content-font-color1, white)));\n",
       "    --sklearn-color-icon: #878787;\n",
       "  }\n",
       "}\n",
       "\n",
       "#sk-container-id-1 {\n",
       "  color: var(--sklearn-color-text);\n",
       "}\n",
       "\n",
       "#sk-container-id-1 pre {\n",
       "  padding: 0;\n",
       "}\n",
       "\n",
       "#sk-container-id-1 input.sk-hidden--visually {\n",
       "  border: 0;\n",
       "  clip: rect(1px 1px 1px 1px);\n",
       "  clip: rect(1px, 1px, 1px, 1px);\n",
       "  height: 1px;\n",
       "  margin: -1px;\n",
       "  overflow: hidden;\n",
       "  padding: 0;\n",
       "  position: absolute;\n",
       "  width: 1px;\n",
       "}\n",
       "\n",
       "#sk-container-id-1 div.sk-dashed-wrapped {\n",
       "  border: 1px dashed var(--sklearn-color-line);\n",
       "  margin: 0 0.4em 0.5em 0.4em;\n",
       "  box-sizing: border-box;\n",
       "  padding-bottom: 0.4em;\n",
       "  background-color: var(--sklearn-color-background);\n",
       "}\n",
       "\n",
       "#sk-container-id-1 div.sk-container {\n",
       "  /* jupyter's `normalize.less` sets `[hidden] { display: none; }`\n",
       "     but bootstrap.min.css set `[hidden] { display: none !important; }`\n",
       "     so we also need the `!important` here to be able to override the\n",
       "     default hidden behavior on the sphinx rendered scikit-learn.org.\n",
       "     See: https://github.com/scikit-learn/scikit-learn/issues/21755 */\n",
       "  display: inline-block !important;\n",
       "  position: relative;\n",
       "}\n",
       "\n",
       "#sk-container-id-1 div.sk-text-repr-fallback {\n",
       "  display: none;\n",
       "}\n",
       "\n",
       "div.sk-parallel-item,\n",
       "div.sk-serial,\n",
       "div.sk-item {\n",
       "  /* draw centered vertical line to link estimators */\n",
       "  background-image: linear-gradient(var(--sklearn-color-text-on-default-background), var(--sklearn-color-text-on-default-background));\n",
       "  background-size: 2px 100%;\n",
       "  background-repeat: no-repeat;\n",
       "  background-position: center center;\n",
       "}\n",
       "\n",
       "/* Parallel-specific style estimator block */\n",
       "\n",
       "#sk-container-id-1 div.sk-parallel-item::after {\n",
       "  content: \"\";\n",
       "  width: 100%;\n",
       "  border-bottom: 2px solid var(--sklearn-color-text-on-default-background);\n",
       "  flex-grow: 1;\n",
       "}\n",
       "\n",
       "#sk-container-id-1 div.sk-parallel {\n",
       "  display: flex;\n",
       "  align-items: stretch;\n",
       "  justify-content: center;\n",
       "  background-color: var(--sklearn-color-background);\n",
       "  position: relative;\n",
       "}\n",
       "\n",
       "#sk-container-id-1 div.sk-parallel-item {\n",
       "  display: flex;\n",
       "  flex-direction: column;\n",
       "}\n",
       "\n",
       "#sk-container-id-1 div.sk-parallel-item:first-child::after {\n",
       "  align-self: flex-end;\n",
       "  width: 50%;\n",
       "}\n",
       "\n",
       "#sk-container-id-1 div.sk-parallel-item:last-child::after {\n",
       "  align-self: flex-start;\n",
       "  width: 50%;\n",
       "}\n",
       "\n",
       "#sk-container-id-1 div.sk-parallel-item:only-child::after {\n",
       "  width: 0;\n",
       "}\n",
       "\n",
       "/* Serial-specific style estimator block */\n",
       "\n",
       "#sk-container-id-1 div.sk-serial {\n",
       "  display: flex;\n",
       "  flex-direction: column;\n",
       "  align-items: center;\n",
       "  background-color: var(--sklearn-color-background);\n",
       "  padding-right: 1em;\n",
       "  padding-left: 1em;\n",
       "}\n",
       "\n",
       "\n",
       "/* Toggleable style: style used for estimator/Pipeline/ColumnTransformer box that is\n",
       "clickable and can be expanded/collapsed.\n",
       "- Pipeline and ColumnTransformer use this feature and define the default style\n",
       "- Estimators will overwrite some part of the style using the `sk-estimator` class\n",
       "*/\n",
       "\n",
       "/* Pipeline and ColumnTransformer style (default) */\n",
       "\n",
       "#sk-container-id-1 div.sk-toggleable {\n",
       "  /* Default theme specific background. It is overwritten whether we have a\n",
       "  specific estimator or a Pipeline/ColumnTransformer */\n",
       "  background-color: var(--sklearn-color-background);\n",
       "}\n",
       "\n",
       "/* Toggleable label */\n",
       "#sk-container-id-1 label.sk-toggleable__label {\n",
       "  cursor: pointer;\n",
       "  display: block;\n",
       "  width: 100%;\n",
       "  margin-bottom: 0;\n",
       "  padding: 0.5em;\n",
       "  box-sizing: border-box;\n",
       "  text-align: center;\n",
       "}\n",
       "\n",
       "#sk-container-id-1 label.sk-toggleable__label-arrow:before {\n",
       "  /* Arrow on the left of the label */\n",
       "  content: \"▸\";\n",
       "  float: left;\n",
       "  margin-right: 0.25em;\n",
       "  color: var(--sklearn-color-icon);\n",
       "}\n",
       "\n",
       "#sk-container-id-1 label.sk-toggleable__label-arrow:hover:before {\n",
       "  color: var(--sklearn-color-text);\n",
       "}\n",
       "\n",
       "/* Toggleable content - dropdown */\n",
       "\n",
       "#sk-container-id-1 div.sk-toggleable__content {\n",
       "  max-height: 0;\n",
       "  max-width: 0;\n",
       "  overflow: hidden;\n",
       "  text-align: left;\n",
       "  /* unfitted */\n",
       "  background-color: var(--sklearn-color-unfitted-level-0);\n",
       "}\n",
       "\n",
       "#sk-container-id-1 div.sk-toggleable__content.fitted {\n",
       "  /* fitted */\n",
       "  background-color: var(--sklearn-color-fitted-level-0);\n",
       "}\n",
       "\n",
       "#sk-container-id-1 div.sk-toggleable__content pre {\n",
       "  margin: 0.2em;\n",
       "  border-radius: 0.25em;\n",
       "  color: var(--sklearn-color-text);\n",
       "  /* unfitted */\n",
       "  background-color: var(--sklearn-color-unfitted-level-0);\n",
       "}\n",
       "\n",
       "#sk-container-id-1 div.sk-toggleable__content.fitted pre {\n",
       "  /* unfitted */\n",
       "  background-color: var(--sklearn-color-fitted-level-0);\n",
       "}\n",
       "\n",
       "#sk-container-id-1 input.sk-toggleable__control:checked~div.sk-toggleable__content {\n",
       "  /* Expand drop-down */\n",
       "  max-height: 200px;\n",
       "  max-width: 100%;\n",
       "  overflow: auto;\n",
       "}\n",
       "\n",
       "#sk-container-id-1 input.sk-toggleable__control:checked~label.sk-toggleable__label-arrow:before {\n",
       "  content: \"▾\";\n",
       "}\n",
       "\n",
       "/* Pipeline/ColumnTransformer-specific style */\n",
       "\n",
       "#sk-container-id-1 div.sk-label input.sk-toggleable__control:checked~label.sk-toggleable__label {\n",
       "  color: var(--sklearn-color-text);\n",
       "  background-color: var(--sklearn-color-unfitted-level-2);\n",
       "}\n",
       "\n",
       "#sk-container-id-1 div.sk-label.fitted input.sk-toggleable__control:checked~label.sk-toggleable__label {\n",
       "  background-color: var(--sklearn-color-fitted-level-2);\n",
       "}\n",
       "\n",
       "/* Estimator-specific style */\n",
       "\n",
       "/* Colorize estimator box */\n",
       "#sk-container-id-1 div.sk-estimator input.sk-toggleable__control:checked~label.sk-toggleable__label {\n",
       "  /* unfitted */\n",
       "  background-color: var(--sklearn-color-unfitted-level-2);\n",
       "}\n",
       "\n",
       "#sk-container-id-1 div.sk-estimator.fitted input.sk-toggleable__control:checked~label.sk-toggleable__label {\n",
       "  /* fitted */\n",
       "  background-color: var(--sklearn-color-fitted-level-2);\n",
       "}\n",
       "\n",
       "#sk-container-id-1 div.sk-label label.sk-toggleable__label,\n",
       "#sk-container-id-1 div.sk-label label {\n",
       "  /* The background is the default theme color */\n",
       "  color: var(--sklearn-color-text-on-default-background);\n",
       "}\n",
       "\n",
       "/* On hover, darken the color of the background */\n",
       "#sk-container-id-1 div.sk-label:hover label.sk-toggleable__label {\n",
       "  color: var(--sklearn-color-text);\n",
       "  background-color: var(--sklearn-color-unfitted-level-2);\n",
       "}\n",
       "\n",
       "/* Label box, darken color on hover, fitted */\n",
       "#sk-container-id-1 div.sk-label.fitted:hover label.sk-toggleable__label.fitted {\n",
       "  color: var(--sklearn-color-text);\n",
       "  background-color: var(--sklearn-color-fitted-level-2);\n",
       "}\n",
       "\n",
       "/* Estimator label */\n",
       "\n",
       "#sk-container-id-1 div.sk-label label {\n",
       "  font-family: monospace;\n",
       "  font-weight: bold;\n",
       "  display: inline-block;\n",
       "  line-height: 1.2em;\n",
       "}\n",
       "\n",
       "#sk-container-id-1 div.sk-label-container {\n",
       "  text-align: center;\n",
       "}\n",
       "\n",
       "/* Estimator-specific */\n",
       "#sk-container-id-1 div.sk-estimator {\n",
       "  font-family: monospace;\n",
       "  border: 1px dotted var(--sklearn-color-border-box);\n",
       "  border-radius: 0.25em;\n",
       "  box-sizing: border-box;\n",
       "  margin-bottom: 0.5em;\n",
       "  /* unfitted */\n",
       "  background-color: var(--sklearn-color-unfitted-level-0);\n",
       "}\n",
       "\n",
       "#sk-container-id-1 div.sk-estimator.fitted {\n",
       "  /* fitted */\n",
       "  background-color: var(--sklearn-color-fitted-level-0);\n",
       "}\n",
       "\n",
       "/* on hover */\n",
       "#sk-container-id-1 div.sk-estimator:hover {\n",
       "  /* unfitted */\n",
       "  background-color: var(--sklearn-color-unfitted-level-2);\n",
       "}\n",
       "\n",
       "#sk-container-id-1 div.sk-estimator.fitted:hover {\n",
       "  /* fitted */\n",
       "  background-color: var(--sklearn-color-fitted-level-2);\n",
       "}\n",
       "\n",
       "/* Specification for estimator info (e.g. \"i\" and \"?\") */\n",
       "\n",
       "/* Common style for \"i\" and \"?\" */\n",
       "\n",
       ".sk-estimator-doc-link,\n",
       "a:link.sk-estimator-doc-link,\n",
       "a:visited.sk-estimator-doc-link {\n",
       "  float: right;\n",
       "  font-size: smaller;\n",
       "  line-height: 1em;\n",
       "  font-family: monospace;\n",
       "  background-color: var(--sklearn-color-background);\n",
       "  border-radius: 1em;\n",
       "  height: 1em;\n",
       "  width: 1em;\n",
       "  text-decoration: none !important;\n",
       "  margin-left: 1ex;\n",
       "  /* unfitted */\n",
       "  border: var(--sklearn-color-unfitted-level-1) 1pt solid;\n",
       "  color: var(--sklearn-color-unfitted-level-1);\n",
       "}\n",
       "\n",
       ".sk-estimator-doc-link.fitted,\n",
       "a:link.sk-estimator-doc-link.fitted,\n",
       "a:visited.sk-estimator-doc-link.fitted {\n",
       "  /* fitted */\n",
       "  border: var(--sklearn-color-fitted-level-1) 1pt solid;\n",
       "  color: var(--sklearn-color-fitted-level-1);\n",
       "}\n",
       "\n",
       "/* On hover */\n",
       "div.sk-estimator:hover .sk-estimator-doc-link:hover,\n",
       ".sk-estimator-doc-link:hover,\n",
       "div.sk-label-container:hover .sk-estimator-doc-link:hover,\n",
       ".sk-estimator-doc-link:hover {\n",
       "  /* unfitted */\n",
       "  background-color: var(--sklearn-color-unfitted-level-3);\n",
       "  color: var(--sklearn-color-background);\n",
       "  text-decoration: none;\n",
       "}\n",
       "\n",
       "div.sk-estimator.fitted:hover .sk-estimator-doc-link.fitted:hover,\n",
       ".sk-estimator-doc-link.fitted:hover,\n",
       "div.sk-label-container:hover .sk-estimator-doc-link.fitted:hover,\n",
       ".sk-estimator-doc-link.fitted:hover {\n",
       "  /* fitted */\n",
       "  background-color: var(--sklearn-color-fitted-level-3);\n",
       "  color: var(--sklearn-color-background);\n",
       "  text-decoration: none;\n",
       "}\n",
       "\n",
       "/* Span, style for the box shown on hovering the info icon */\n",
       ".sk-estimator-doc-link span {\n",
       "  display: none;\n",
       "  z-index: 9999;\n",
       "  position: relative;\n",
       "  font-weight: normal;\n",
       "  right: .2ex;\n",
       "  padding: .5ex;\n",
       "  margin: .5ex;\n",
       "  width: min-content;\n",
       "  min-width: 20ex;\n",
       "  max-width: 50ex;\n",
       "  color: var(--sklearn-color-text);\n",
       "  box-shadow: 2pt 2pt 4pt #999;\n",
       "  /* unfitted */\n",
       "  background: var(--sklearn-color-unfitted-level-0);\n",
       "  border: .5pt solid var(--sklearn-color-unfitted-level-3);\n",
       "}\n",
       "\n",
       ".sk-estimator-doc-link.fitted span {\n",
       "  /* fitted */\n",
       "  background: var(--sklearn-color-fitted-level-0);\n",
       "  border: var(--sklearn-color-fitted-level-3);\n",
       "}\n",
       "\n",
       ".sk-estimator-doc-link:hover span {\n",
       "  display: block;\n",
       "}\n",
       "\n",
       "/* \"?\"-specific style due to the `<a>` HTML tag */\n",
       "\n",
       "#sk-container-id-1 a.estimator_doc_link {\n",
       "  float: right;\n",
       "  font-size: 1rem;\n",
       "  line-height: 1em;\n",
       "  font-family: monospace;\n",
       "  background-color: var(--sklearn-color-background);\n",
       "  border-radius: 1rem;\n",
       "  height: 1rem;\n",
       "  width: 1rem;\n",
       "  text-decoration: none;\n",
       "  /* unfitted */\n",
       "  color: var(--sklearn-color-unfitted-level-1);\n",
       "  border: var(--sklearn-color-unfitted-level-1) 1pt solid;\n",
       "}\n",
       "\n",
       "#sk-container-id-1 a.estimator_doc_link.fitted {\n",
       "  /* fitted */\n",
       "  border: var(--sklearn-color-fitted-level-1) 1pt solid;\n",
       "  color: var(--sklearn-color-fitted-level-1);\n",
       "}\n",
       "\n",
       "/* On hover */\n",
       "#sk-container-id-1 a.estimator_doc_link:hover {\n",
       "  /* unfitted */\n",
       "  background-color: var(--sklearn-color-unfitted-level-3);\n",
       "  color: var(--sklearn-color-background);\n",
       "  text-decoration: none;\n",
       "}\n",
       "\n",
       "#sk-container-id-1 a.estimator_doc_link.fitted:hover {\n",
       "  /* fitted */\n",
       "  background-color: var(--sklearn-color-fitted-level-3);\n",
       "}\n",
       "</style><div id=\"sk-container-id-1\" class=\"sk-top-container\"><div class=\"sk-text-repr-fallback\"><pre>XGBClassifier(base_score=None, booster=None, callbacks=None,\n",
       "              colsample_bylevel=None, colsample_bynode=0.7313439989320193,\n",
       "              colsample_bytree=None, device=None, early_stopping_rounds=None,\n",
       "              enable_categorical=False,\n",
       "              eval_metric=&lt;function custom_f1_score at 0x7ef982e44720&gt;,\n",
       "              feature_types=None, gamma=None, grow_policy=None,\n",
       "              importance_type=None, interaction_constraints=None,\n",
       "              learning_rate=0.18646559288362408, max_bin=None,\n",
       "              max_cat_threshold=None, max_cat_to_onehot=None,\n",
       "              max_delta_step=None, max_depth=15, max_leaves=None,\n",
       "              min_child_weight=24, missing=nan, monotone_constraints=None,\n",
       "              multi_strategy=None, n_estimators=134, n_jobs=None,\n",
       "              num_parallel_tree=None, objective=&#x27;multi:softprob&#x27;, ...)</pre><b>In a Jupyter environment, please rerun this cell to show the HTML representation or trust the notebook. <br />On GitHub, the HTML representation is unable to render, please try loading this page with nbviewer.org.</b></div><div class=\"sk-container\" hidden><div class=\"sk-item\"><div class=\"sk-estimator fitted sk-toggleable\"><input class=\"sk-toggleable__control sk-hidden--visually\" id=\"sk-estimator-id-1\" type=\"checkbox\" checked><label for=\"sk-estimator-id-1\" class=\"sk-toggleable__label fitted sk-toggleable__label-arrow fitted\">&nbsp;XGBClassifier<span class=\"sk-estimator-doc-link fitted\">i<span>Fitted</span></span></label><div class=\"sk-toggleable__content fitted\"><pre>XGBClassifier(base_score=None, booster=None, callbacks=None,\n",
       "              colsample_bylevel=None, colsample_bynode=0.7313439989320193,\n",
       "              colsample_bytree=None, device=None, early_stopping_rounds=None,\n",
       "              enable_categorical=False,\n",
       "              eval_metric=&lt;function custom_f1_score at 0x7ef982e44720&gt;,\n",
       "              feature_types=None, gamma=None, grow_policy=None,\n",
       "              importance_type=None, interaction_constraints=None,\n",
       "              learning_rate=0.18646559288362408, max_bin=None,\n",
       "              max_cat_threshold=None, max_cat_to_onehot=None,\n",
       "              max_delta_step=None, max_depth=15, max_leaves=None,\n",
       "              min_child_weight=24, missing=nan, monotone_constraints=None,\n",
       "              multi_strategy=None, n_estimators=134, n_jobs=None,\n",
       "              num_parallel_tree=None, objective=&#x27;multi:softprob&#x27;, ...)</pre></div> </div></div></div></div>"
      ],
      "text/plain": [
       "XGBClassifier(base_score=None, booster=None, callbacks=None,\n",
       "              colsample_bylevel=None, colsample_bynode=0.7313439989320193,\n",
       "              colsample_bytree=None, device=None, early_stopping_rounds=None,\n",
       "              enable_categorical=False,\n",
       "              eval_metric=<function custom_f1_score at 0x7ef982e44720>,\n",
       "              feature_types=None, gamma=None, grow_policy=None,\n",
       "              importance_type=None, interaction_constraints=None,\n",
       "              learning_rate=0.18646559288362408, max_bin=None,\n",
       "              max_cat_threshold=None, max_cat_to_onehot=None,\n",
       "              max_delta_step=None, max_depth=15, max_leaves=None,\n",
       "              min_child_weight=24, missing=nan, monotone_constraints=None,\n",
       "              multi_strategy=None, n_estimators=134, n_jobs=None,\n",
       "              num_parallel_tree=None, objective='multi:softprob', ...)"
      ]
     },
     "execution_count": 21,
     "metadata": {},
     "output_type": "execute_result"
    }
   ],
   "source": [
    "n_estimators = int(study.best_trial.user_attrs['best_iteration']*1.2)\n",
    "xgb = xgboost.XGBClassifier(\n",
    "        eval_metric=eval_metric,\n",
    "        n_estimators=n_estimators,\n",
    "        **study.best_trial.params\n",
    "    )\n",
    "xgb.fit(\n",
    "    ssp.vstack((X_train, X_val)), \n",
    "    np.concatenate((y_train_enc, y_val_enc)),\n",
    "    verbose=1,\n",
    ")"
   ]
  },
  {
   "cell_type": "code",
   "execution_count": 22,
   "id": "43a0bb22",
   "metadata": {
    "execution": {
     "iopub.execute_input": "2025-05-15T16:19:05.195508Z",
     "iopub.status.busy": "2025-05-15T16:19:05.195366Z",
     "iopub.status.idle": "2025-05-15T16:19:05.308781Z",
     "shell.execute_reply": "2025-05-15T16:19:05.308434Z"
    },
    "papermill": {
     "duration": 0.122992,
     "end_time": "2025-05-15T16:19:05.309641",
     "exception": false,
     "start_time": "2025-05-15T16:19:05.186649",
     "status": "completed"
    },
    "tags": []
   },
   "outputs": [
    {
     "data": {
      "text/plain": [
       "['/scratch_isilon/groups/singlecell/shared/projects/Inflammation-PBMCs-Atlas/03_downstream_analysis/08_gene_importance/xgboost_external_validation/xgboost_TopN_genes/results_20/best_model/Mono_13_3_xgb.json']"
      ]
     },
     "execution_count": 22,
     "metadata": {},
     "output_type": "execute_result"
    }
   ],
   "source": [
    "out_dir = here(f'03_downstream_analysis/08_gene_importance/xgboost_external_validation/xgboost_TopN_genes/results_{N_GENES}/best_model')\n",
    "\n",
    "if not os.path.exists(out_dir):\n",
    "    os.makedirs(out_dir)\n",
    "    \n",
    "joblib.dump(xgb, os.path.join(out_dir, f'{CELL_TYPE}_{SEED}_{TEST_SPLIT_IDX}_xgb.json'))"
   ]
  },
  {
   "cell_type": "code",
   "execution_count": 23,
   "id": "15428e34",
   "metadata": {
    "execution": {
     "iopub.execute_input": "2025-05-15T16:19:05.328197Z",
     "iopub.status.busy": "2025-05-15T16:19:05.327768Z",
     "iopub.status.idle": "2025-05-15T16:19:06.174830Z",
     "shell.execute_reply": "2025-05-15T16:19:06.174333Z"
    },
    "papermill": {
     "duration": 0.85728,
     "end_time": "2025-05-15T16:19:06.176068",
     "exception": false,
     "start_time": "2025-05-15T16:19:05.318788",
     "status": "completed"
    },
    "tags": []
   },
   "outputs": [],
   "source": [
    "df_pred_test = pd.DataFrame(dict(\n",
    "    cell_id=train_adata.obs.iloc[test_idxs].index.values,\n",
    "    y_true=y_test, \n",
    "    y_true_code=y_test_enc, \n",
    "    y_pred=xgb.predict(X_test))).set_index('cell_id')"
   ]
  },
  {
   "cell_type": "code",
   "execution_count": 24,
   "id": "78292a3b",
   "metadata": {
    "execution": {
     "iopub.execute_input": "2025-05-15T16:19:06.194112Z",
     "iopub.status.busy": "2025-05-15T16:19:06.193965Z",
     "iopub.status.idle": "2025-05-15T16:19:06.336419Z",
     "shell.execute_reply": "2025-05-15T16:19:06.335896Z"
    },
    "papermill": {
     "duration": 0.152477,
     "end_time": "2025-05-15T16:19:06.337401",
     "exception": false,
     "start_time": "2025-05-15T16:19:06.184924",
     "status": "completed"
    },
    "tags": []
   },
   "outputs": [],
   "source": [
    "out_dir = here(f'03_downstream_analysis/08_gene_importance/xgboost_external_validation/xgboost_TopN_genes/results_{N_GENES}/predictions')\n",
    "\n",
    "if not os.path.exists(out_dir):\n",
    "    os.makedirs(out_dir)\n",
    "    \n",
    "df_pred_test.to_csv(os.path.join(out_dir, f'{CELL_TYPE}_{SEED}_{TEST_SPLIT_IDX}_pred_test.zip'))"
   ]
  },
  {
   "cell_type": "code",
   "execution_count": 25,
   "id": "0beb589b",
   "metadata": {
    "execution": {
     "iopub.execute_input": "2025-05-15T16:19:06.355577Z",
     "iopub.status.busy": "2025-05-15T16:19:06.355312Z",
     "iopub.status.idle": "2025-05-15T16:19:06.371672Z",
     "shell.execute_reply": "2025-05-15T16:19:06.371064Z"
    },
    "papermill": {
     "duration": 0.026083,
     "end_time": "2025-05-15T16:19:06.372574",
     "exception": false,
     "start_time": "2025-05-15T16:19:06.346491",
     "status": "completed"
    },
    "tags": []
   },
   "outputs": [
    {
     "name": "stderr",
     "output_type": "stream",
     "text": [
      "/scratch_isilon/groups/singlecell/shared/conda_env/xgboost-cpu/lib/python3.12/site-packages/sklearn/metrics/_classification.py:2466: UserWarning: y_pred contains classes not in y_true\n",
      "  warnings.warn(\"y_pred contains classes not in y_true\")\n"
     ]
    }
   ],
   "source": [
    "metrics_dict = dict(\n",
    "    BAS=balanced_accuracy_score(y_true=df_pred_test.y_true_code, y_pred=df_pred_test.y_pred), WF1=f1_score(y_true=df_pred_test.y_true_code, y_pred=df_pred_test.y_pred,average='weighted'))"
   ]
  },
  {
   "cell_type": "code",
   "execution_count": 26,
   "id": "a9de13b1",
   "metadata": {
    "execution": {
     "iopub.execute_input": "2025-05-15T16:19:06.390265Z",
     "iopub.status.busy": "2025-05-15T16:19:06.390124Z",
     "iopub.status.idle": "2025-05-15T16:19:06.393647Z",
     "shell.execute_reply": "2025-05-15T16:19:06.393336Z"
    },
    "papermill": {
     "duration": 0.013298,
     "end_time": "2025-05-15T16:19:06.394497",
     "exception": false,
     "start_time": "2025-05-15T16:19:06.381199",
     "status": "completed"
    },
    "tags": []
   },
   "outputs": [
    {
     "data": {
      "text/plain": [
       "{'BAS': 0.6680117649248147, 'WF1': 0.812223203761701}"
      ]
     },
     "execution_count": 26,
     "metadata": {},
     "output_type": "execute_result"
    }
   ],
   "source": [
    "metrics_dict"
   ]
  },
  {
   "cell_type": "code",
   "execution_count": 27,
   "id": "261c31ae",
   "metadata": {
    "execution": {
     "iopub.execute_input": "2025-05-15T16:19:06.416657Z",
     "iopub.status.busy": "2025-05-15T16:19:06.416382Z",
     "iopub.status.idle": "2025-05-15T16:19:06.425291Z",
     "shell.execute_reply": "2025-05-15T16:19:06.424854Z"
    },
    "papermill": {
     "duration": 0.021781,
     "end_time": "2025-05-15T16:19:06.426084",
     "exception": false,
     "start_time": "2025-05-15T16:19:06.404303",
     "status": "completed"
    },
    "tags": []
   },
   "outputs": [
    {
     "data": {
      "text/html": [
       "<div>\n",
       "<style scoped>\n",
       "    .dataframe tbody tr th:only-of-type {\n",
       "        vertical-align: middle;\n",
       "    }\n",
       "\n",
       "    .dataframe tbody tr th {\n",
       "        vertical-align: top;\n",
       "    }\n",
       "\n",
       "    .dataframe thead th {\n",
       "        text-align: right;\n",
       "    }\n",
       "</style>\n",
       "<table border=\"1\" class=\"dataframe\">\n",
       "  <thead>\n",
       "    <tr style=\"text-align: right;\">\n",
       "      <th></th>\n",
       "      <th>BAS</th>\n",
       "      <th>WF1</th>\n",
       "      <th>split_idx</th>\n",
       "      <th>gene_set_seed</th>\n",
       "      <th>cell_type</th>\n",
       "    </tr>\n",
       "  </thead>\n",
       "  <tbody>\n",
       "    <tr>\n",
       "      <th>0</th>\n",
       "      <td>0.668012</td>\n",
       "      <td>0.812223</td>\n",
       "      <td>3</td>\n",
       "      <td>13</td>\n",
       "      <td>Mono</td>\n",
       "    </tr>\n",
       "  </tbody>\n",
       "</table>\n",
       "</div>"
      ],
      "text/plain": [
       "        BAS       WF1  split_idx  gene_set_seed cell_type\n",
       "0  0.668012  0.812223          3             13      Mono"
      ]
     },
     "execution_count": 27,
     "metadata": {},
     "output_type": "execute_result"
    }
   ],
   "source": [
    "metrics_df = pd.DataFrame.from_dict([metrics_dict]).assign(split_idx=TEST_SPLIT_IDX, gene_set_seed=SEED, cell_type=CELL_TYPE)\n",
    "metrics_df"
   ]
  },
  {
   "cell_type": "code",
   "execution_count": 28,
   "id": "bc3ad903",
   "metadata": {
    "execution": {
     "iopub.execute_input": "2025-05-15T16:19:06.443923Z",
     "iopub.status.busy": "2025-05-15T16:19:06.443657Z",
     "iopub.status.idle": "2025-05-15T16:19:06.452042Z",
     "shell.execute_reply": "2025-05-15T16:19:06.451703Z"
    },
    "papermill": {
     "duration": 0.018029,
     "end_time": "2025-05-15T16:19:06.452800",
     "exception": false,
     "start_time": "2025-05-15T16:19:06.434771",
     "status": "completed"
    },
    "tags": []
   },
   "outputs": [],
   "source": [
    "out_dir = here(f'03_downstream_analysis/08_gene_importance/xgboost_external_validation/xgboost_TopN_genes/results_{N_GENES}/metrics')\n",
    "\n",
    "if not os.path.exists(out_dir):\n",
    "    os.makedirs(out_dir)\n",
    "    \n",
    "metrics_df.to_csv(os.path.join(out_dir, f'{CELL_TYPE}_{SEED}_{TEST_SPLIT_IDX}_metrics.zip'))"
   ]
  }
 ],
 "metadata": {
  "kernelspec": {
   "display_name": "Python 3 (ipykernel)",
   "language": "python",
   "name": "python3"
  },
  "language_info": {
   "codemirror_mode": {
    "name": "ipython",
    "version": 3
   },
   "file_extension": ".py",
   "mimetype": "text/x-python",
   "name": "python",
   "nbconvert_exporter": "python",
   "pygments_lexer": "ipython3",
   "version": "3.12.5"
  },
  "papermill": {
   "default_parameters": {},
   "duration": 1152.225771,
   "end_time": "2025-05-15T16:19:07.085928",
   "environment_variables": {},
   "exception": null,
   "input_path": "02_xgboost_fitting_external_20genes.ipynb",
   "output_path": "results_20/executed_notebooks/xgboost_fitting_external_CT_Mono_GS_13_seed3.ipynb",
   "parameters": {
    "CELL_TYPE": "Mono",
    "SEED": 13,
    "TEST_SPLIT_IDX": 3
   },
   "start_time": "2025-05-15T15:59:54.860157",
   "version": "2.6.0"
  }
 },
 "nbformat": 4,
 "nbformat_minor": 5
}