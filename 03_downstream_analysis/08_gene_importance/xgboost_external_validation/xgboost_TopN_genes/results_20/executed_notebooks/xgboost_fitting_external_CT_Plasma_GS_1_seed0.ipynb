{
 "cells": [
  {
   "cell_type": "code",
   "execution_count": 1,
   "id": "8387002b",
   "metadata": {
    "editable": true,
    "execution": {
     "iopub.execute_input": "2025-05-15T16:15:26.057072Z",
     "iopub.status.busy": "2025-05-15T16:15:26.056706Z",
     "iopub.status.idle": "2025-05-15T16:15:26.059539Z",
     "shell.execute_reply": "2025-05-15T16:15:26.059208Z"
    },
    "papermill": {
     "duration": 0.011844,
     "end_time": "2025-05-15T16:15:26.060508",
     "exception": false,
     "start_time": "2025-05-15T16:15:26.048664",
     "status": "completed"
    },
    "slideshow": {
     "slide_type": ""
    },
    "tags": [
     "parameters"
    ]
   },
   "outputs": [],
   "source": [
    "CELL_TYPE = 'pDC'\n",
    "N_GENES: int = 20\n",
    "SEED = 'shap_studyID' #'disease_NOstudy' 'study_NOdisease' or 'int' or 'shap_studyID'\n",
    "TEST_SPLIT_IDX: int = 1 #[0,4]"
   ]
  },
  {
   "cell_type": "code",
   "execution_count": 2,
   "id": "cdbec257",
   "metadata": {
    "execution": {
     "iopub.execute_input": "2025-05-15T16:15:26.072548Z",
     "iopub.status.busy": "2025-05-15T16:15:26.072323Z",
     "iopub.status.idle": "2025-05-15T16:15:26.074495Z",
     "shell.execute_reply": "2025-05-15T16:15:26.074163Z"
    },
    "papermill": {
     "duration": 0.009169,
     "end_time": "2025-05-15T16:15:26.075515",
     "exception": false,
     "start_time": "2025-05-15T16:15:26.066346",
     "status": "completed"
    },
    "tags": [
     "injected-parameters"
    ]
   },
   "outputs": [],
   "source": [
    "# Parameters\n",
    "CELL_TYPE = \"Plasma\"\n",
    "SEED = 1\n",
    "TEST_SPLIT_IDX = 0\n"
   ]
  },
  {
   "cell_type": "code",
   "execution_count": 3,
   "id": "8ba539f3",
   "metadata": {
    "execution": {
     "iopub.execute_input": "2025-05-15T16:15:26.096324Z",
     "iopub.status.busy": "2025-05-15T16:15:26.096136Z",
     "iopub.status.idle": "2025-05-15T16:15:26.098328Z",
     "shell.execute_reply": "2025-05-15T16:15:26.097994Z"
    },
    "papermill": {
     "duration": 0.009345,
     "end_time": "2025-05-15T16:15:26.099238",
     "exception": false,
     "start_time": "2025-05-15T16:15:26.089893",
     "status": "completed"
    },
    "tags": []
   },
   "outputs": [],
   "source": [
    "N_SPLITS: int = 5\n",
    "N_TRIALS: int = 50"
   ]
  },
  {
   "cell_type": "code",
   "execution_count": 4,
   "id": "32608bfb",
   "metadata": {
    "execution": {
     "iopub.execute_input": "2025-05-15T16:15:26.120839Z",
     "iopub.status.busy": "2025-05-15T16:15:26.120401Z",
     "iopub.status.idle": "2025-05-15T16:15:28.066014Z",
     "shell.execute_reply": "2025-05-15T16:15:28.065547Z"
    },
    "papermill": {
     "duration": 1.955904,
     "end_time": "2025-05-15T16:15:28.067362",
     "exception": false,
     "start_time": "2025-05-15T16:15:26.111458",
     "status": "completed"
    },
    "tags": []
   },
   "outputs": [],
   "source": [
    "import os\n",
    "import sys\n",
    "from pyprojroot.here import here\n",
    "import pandas as pd\n",
    "import anndata as ad\n",
    "import numpy as np\n",
    "import math\n",
    "from sklearn.model_selection import StratifiedGroupKFold\n",
    "from sklearn.preprocessing import LabelEncoder\n",
    "from sklearn.metrics import f1_score\n",
    "import matplotlib.pyplot as plt\n",
    "import seaborn as sns\n",
    "from itertools import product\n",
    "from sklearn.metrics import balanced_accuracy_score, f1_score\n",
    "import optuna\n",
    "\n",
    "import joblib\n",
    "import pickle\n",
    "import datetime\n",
    "\n",
    "import collections\n",
    "\n",
    "import xgboost\n",
    "from sklearn.preprocessing import LabelEncoder\n",
    "\n",
    "import scipy.sparse as ssp\n",
    "import joblib\n",
    "\n",
    "from dotenv import load_dotenv"
   ]
  },
  {
   "cell_type": "code",
   "execution_count": 5,
   "id": "87a8a35e",
   "metadata": {
    "execution": {
     "iopub.execute_input": "2025-05-15T16:15:28.079955Z",
     "iopub.status.busy": "2025-05-15T16:15:28.079592Z",
     "iopub.status.idle": "2025-05-15T16:15:28.086684Z",
     "shell.execute_reply": "2025-05-15T16:15:28.086362Z"
    },
    "papermill": {
     "duration": 0.014048,
     "end_time": "2025-05-15T16:15:28.087563",
     "exception": false,
     "start_time": "2025-05-15T16:15:28.073515",
     "status": "completed"
    },
    "tags": []
   },
   "outputs": [
    {
     "data": {
      "text/plain": [
       "True"
      ]
     },
     "execution_count": 5,
     "metadata": {},
     "output_type": "execute_result"
    }
   ],
   "source": [
    "load_dotenv()"
   ]
  },
  {
   "cell_type": "markdown",
   "id": "4d615288",
   "metadata": {
    "papermill": {
     "duration": 0.005673,
     "end_time": "2025-05-15T16:15:28.098710",
     "exception": false,
     "start_time": "2025-05-15T16:15:28.093037",
     "status": "completed"
    },
    "tags": []
   },
   "source": [
    "# LOAD DATASET"
   ]
  },
  {
   "cell_type": "code",
   "execution_count": 6,
   "id": "60de5bf0",
   "metadata": {
    "execution": {
     "iopub.execute_input": "2025-05-15T16:15:28.121508Z",
     "iopub.status.busy": "2025-05-15T16:15:28.121321Z",
     "iopub.status.idle": "2025-05-15T16:15:28.162863Z",
     "shell.execute_reply": "2025-05-15T16:15:28.162446Z"
    },
    "papermill": {
     "duration": 0.049107,
     "end_time": "2025-05-15T16:15:28.163898",
     "exception": false,
     "start_time": "2025-05-15T16:15:28.114791",
     "status": "completed"
    },
    "tags": []
   },
   "outputs": [],
   "source": [
    "train_adata = ad.read_h5ad(\n",
    "    here(f'03_downstream_analysis/08_gene_importance/xgboost_external_validation/xgboost_TopN_genes/data_cellTypes/EXTERNAL_{CELL_TYPE}.filtered.log1p.h5ad')\n",
    ")"
   ]
  },
  {
   "cell_type": "code",
   "execution_count": 7,
   "id": "142575b6",
   "metadata": {
    "execution": {
     "iopub.execute_input": "2025-05-15T16:15:28.177681Z",
     "iopub.status.busy": "2025-05-15T16:15:28.177359Z",
     "iopub.status.idle": "2025-05-15T16:15:28.187977Z",
     "shell.execute_reply": "2025-05-15T16:15:28.187610Z"
    },
    "papermill": {
     "duration": 0.018394,
     "end_time": "2025-05-15T16:15:28.188868",
     "exception": false,
     "start_time": "2025-05-15T16:15:28.170474",
     "status": "completed"
    },
    "tags": []
   },
   "outputs": [
    {
     "name": "stdout",
     "output_type": "stream",
     "text": [
      "['ENSG00000118503' 'ENSG00000125740' 'ENSG00000136156' 'ENSG00000027697'\n",
      " 'ENSG00000160213' 'ENSG00000118260' 'ENSG00000042980' 'ENSG00000185591'\n",
      " 'ENSG00000205220' 'ENSG00000106367' 'ENSG00000018280' 'ENSG00000130755'\n",
      " 'ENSG00000169554' 'ENSG00000011590' 'ENSG00000239713' 'ENSG00000089280'\n",
      " 'ENSG00000143933' 'ENSG00000155380' 'ENSG00000120742' 'ENSG00000169564'\n",
      " 'ENSG00000197102' 'ENSG00000125743' 'ENSG00000082074' 'ENSG00000171476'\n",
      " 'ENSG00000126353' 'ENSG00000167996' 'ENSG00000143774' 'ENSG00000104964'\n",
      " 'ENSG00000110876' 'ENSG00000140379' 'ENSG00000228474' 'ENSG00000244687'\n",
      " 'ENSG00000109861' 'ENSG00000068831' 'ENSG00000119535' 'ENSG00000186395'\n",
      " 'ENSG00000108639' 'ENSG00000090339' 'ENSG00000160075' 'ENSG00000071073'\n",
      " 'ENSG00000172005' 'ENSG00000178562' 'ENSG00000148908' 'ENSG00000158769'\n",
      " 'ENSG00000138036' 'ENSG00000009790' 'ENSG00000109321' 'ENSG00000048462'\n",
      " 'ENSG00000204592' 'ENSG00000182866' 'ENSG00000105583' 'ENSG00000161800'\n",
      " 'ENSG00000198846' 'ENSG00000240505' 'ENSG00000160710' 'ENSG00000125534'\n",
      " 'ENSG00000184752' 'ENSG00000059728' 'ENSG00000165527' 'ENSG00000160712'\n",
      " 'ENSG00000159958' 'ENSG00000180644' 'ENSG00000127184' 'ENSG00000117602'\n",
      " 'ENSG00000152778' 'ENSG00000104671' 'ENSG00000085265' 'ENSG00000177721'\n",
      " 'ENSG00000176533' 'ENSG00000163131' 'ENSG00000117450' 'ENSG00000168894'\n",
      " 'ENSG00000164307' 'ENSG00000175354' 'ENSG00000127022' 'ENSG00000162434'\n",
      " 'ENSG00000135114' 'ENSG00000145220' 'ENSG00000075945' 'ENSG00000196961'\n",
      " 'ENSG00000132965' 'ENSG00000131437' 'ENSG00000132912' 'ENSG00000175482'\n",
      " 'ENSG00000183020' 'ENSG00000120129' 'ENSG00000111348' 'ENSG00000162739'\n",
      " 'ENSG00000100393' 'ENSG00000137441' 'ENSG00000123268' 'ENSG00000104921'\n",
      " 'ENSG00000111796' 'ENSG00000113615' 'ENSG00000131788' 'ENSG00000110324'\n",
      " 'ENSG00000141526' 'ENSG00000167552' 'ENSG00000143543' 'ENSG00000130429'\n",
      " 'ENSG00000171223' 'ENSG00000163931' 'ENSG00000104870' 'ENSG00000188404'\n",
      " 'ENSG00000165280' 'ENSG00000101474' 'ENSG00000144746']\n"
     ]
    }
   ],
   "source": [
    "if SEED != 'all':\n",
    "    gene_subset = np.load(here(f'03_downstream_analysis/08_gene_importance/xgboost_external_validation/shap_gene_selection/gene_subsets_{N_GENES}/{CELL_TYPE}_{SEED}.npy'), allow_pickle=True)\n",
    "    train_adata = train_adata[:,gene_subset]\n",
    "    print(gene_subset)\n",
    "elif SEED == 'all':\n",
    "    print('Using all genes')\n",
    "else:\n",
    "    raise ValueError()"
   ]
  },
  {
   "cell_type": "code",
   "execution_count": 8,
   "id": "3e860a2a",
   "metadata": {
    "execution": {
     "iopub.execute_input": "2025-05-15T16:15:28.227700Z",
     "iopub.status.busy": "2025-05-15T16:15:28.227426Z",
     "iopub.status.idle": "2025-05-15T16:15:28.230349Z",
     "shell.execute_reply": "2025-05-15T16:15:28.230036Z"
    },
    "papermill": {
     "duration": 0.010393,
     "end_time": "2025-05-15T16:15:28.231145",
     "exception": false,
     "start_time": "2025-05-15T16:15:28.220752",
     "status": "completed"
    },
    "tags": []
   },
   "outputs": [
    {
     "data": {
      "text/plain": [
       "(542, 107)"
      ]
     },
     "execution_count": 8,
     "metadata": {},
     "output_type": "execute_result"
    }
   ],
   "source": [
    "train_adata.shape"
   ]
  },
  {
   "cell_type": "code",
   "execution_count": 9,
   "id": "030d78a4",
   "metadata": {
    "execution": {
     "iopub.execute_input": "2025-05-15T16:15:28.242904Z",
     "iopub.status.busy": "2025-05-15T16:15:28.242526Z",
     "iopub.status.idle": "2025-05-15T16:15:28.246553Z",
     "shell.execute_reply": "2025-05-15T16:15:28.246231Z"
    },
    "papermill": {
     "duration": 0.010815,
     "end_time": "2025-05-15T16:15:28.247387",
     "exception": false,
     "start_time": "2025-05-15T16:15:28.236572",
     "status": "completed"
    },
    "tags": []
   },
   "outputs": [
    {
     "data": {
      "text/plain": [
       "['RA', 'COVID', 'healthy', 'HIV', 'cirrhosis', 'CD', 'SLE', 'sepsis']\n",
       "Categories (8, object): ['CD', 'COVID', 'HIV', 'RA', 'SLE', 'cirrhosis', 'healthy', 'sepsis']"
      ]
     },
     "execution_count": 9,
     "metadata": {},
     "output_type": "execute_result"
    }
   ],
   "source": [
    "train_adata.obs.disease.unique()"
   ]
  },
  {
   "cell_type": "code",
   "execution_count": 10,
   "id": "137edc13",
   "metadata": {
    "execution": {
     "iopub.execute_input": "2025-05-15T16:15:28.272148Z",
     "iopub.status.busy": "2025-05-15T16:15:28.271956Z",
     "iopub.status.idle": "2025-05-15T16:15:28.276235Z",
     "shell.execute_reply": "2025-05-15T16:15:28.275875Z"
    },
    "papermill": {
     "duration": 0.01454,
     "end_time": "2025-05-15T16:15:28.277085",
     "exception": false,
     "start_time": "2025-05-15T16:15:28.262545",
     "status": "completed"
    },
    "tags": []
   },
   "outputs": [
    {
     "data": {
      "text/plain": [
       "['SCGT00val_I0364_T0', 'SCGT00val_I036019_T0', 'SCGT00val_I036028_T0', 'SCGT00val_I036024_T0', 'SCGT00val_I036016_T0', ..., '10XGenomics_10XHC2_T0', '10XGenomics_10XHC3_T0', '10XGenomics_10XHC5_T0', '10XGenomics_10XHC7_T0', '10XGenomics_10XHC8_T0']\n",
       "Length: 74\n",
       "Categories (74, object): ['10XGenomics_10XHC1_T0', '10XGenomics_10XHC2_T0', '10XGenomics_10XHC3_T0', '10XGenomics_10XHC4_T0', ..., 'Savage2021_BRISL6_T0', 'Savage2021_BRISL7_T0', 'Savage2021_PIDA_T0', 'Savage2021_PIDB_T0']"
      ]
     },
     "execution_count": 10,
     "metadata": {},
     "output_type": "execute_result"
    }
   ],
   "source": [
    "train_adata.obs.sampleID.unique()"
   ]
  },
  {
   "cell_type": "code",
   "execution_count": 11,
   "id": "3a88a784",
   "metadata": {
    "execution": {
     "iopub.execute_input": "2025-05-15T16:15:28.313283Z",
     "iopub.status.busy": "2025-05-15T16:15:28.313060Z",
     "iopub.status.idle": "2025-05-15T16:15:28.342552Z",
     "shell.execute_reply": "2025-05-15T16:15:28.342208Z"
    },
    "papermill": {
     "duration": 0.060648,
     "end_time": "2025-05-15T16:15:28.343413",
     "exception": false,
     "start_time": "2025-05-15T16:15:28.282765",
     "status": "completed"
    },
    "tags": []
   },
   "outputs": [],
   "source": [
    "all_idxs = np.arange(train_adata.obs.shape[0])\n",
    "left_out_splits = [s[1] for s in StratifiedGroupKFold(n_splits=N_SPLITS).split(all_idxs, train_adata.obs.disease, train_adata.obs.sampleID)]"
   ]
  },
  {
   "cell_type": "code",
   "execution_count": 12,
   "id": "53c562fc",
   "metadata": {
    "execution": {
     "iopub.execute_input": "2025-05-15T16:15:28.356407Z",
     "iopub.status.busy": "2025-05-15T16:15:28.356112Z",
     "iopub.status.idle": "2025-05-15T16:15:28.359437Z",
     "shell.execute_reply": "2025-05-15T16:15:28.359119Z"
    },
    "papermill": {
     "duration": 0.010932,
     "end_time": "2025-05-15T16:15:28.360308",
     "exception": false,
     "start_time": "2025-05-15T16:15:28.349376",
     "status": "completed"
    },
    "tags": []
   },
   "outputs": [
    {
     "data": {
      "text/plain": [
       "([2, 3, 4], 1, 0)"
      ]
     },
     "execution_count": 12,
     "metadata": {},
     "output_type": "execute_result"
    }
   ],
   "source": [
    "TRAIN_SPLIT_IDXS = [0,1,2,3,4]\n",
    "VAL_SPLIT_IDX = (TEST_SPLIT_IDX + 1) % 5\n",
    "TRAIN_SPLIT_IDXS.remove(TEST_SPLIT_IDX)\n",
    "TRAIN_SPLIT_IDXS.remove(VAL_SPLIT_IDX)\n",
    "TRAIN_SPLIT_IDXS, VAL_SPLIT_IDX, TEST_SPLIT_IDX"
   ]
  },
  {
   "cell_type": "code",
   "execution_count": 13,
   "id": "8e06ed5a",
   "metadata": {
    "execution": {
     "iopub.execute_input": "2025-05-15T16:15:28.372659Z",
     "iopub.status.busy": "2025-05-15T16:15:28.372477Z",
     "iopub.status.idle": "2025-05-15T16:15:28.375048Z",
     "shell.execute_reply": "2025-05-15T16:15:28.374712Z"
    },
    "papermill": {
     "duration": 0.009645,
     "end_time": "2025-05-15T16:15:28.375891",
     "exception": false,
     "start_time": "2025-05-15T16:15:28.366246",
     "status": "completed"
    },
    "tags": []
   },
   "outputs": [],
   "source": [
    "train_idxs = np.concatenate([left_out_splits[idx] for idx in TRAIN_SPLIT_IDXS])\n",
    "val_idxs = left_out_splits[VAL_SPLIT_IDX]\n",
    "test_idxs = left_out_splits[TEST_SPLIT_IDX]"
   ]
  },
  {
   "cell_type": "markdown",
   "id": "3a2f449a",
   "metadata": {
    "papermill": {
     "duration": 0.005658,
     "end_time": "2025-05-15T16:15:28.387061",
     "exception": false,
     "start_time": "2025-05-15T16:15:28.381403",
     "status": "completed"
    },
    "tags": []
   },
   "source": [
    "### SUBSET DATASET INTO TRAIN/TEST/VAL SPLITS"
   ]
  },
  {
   "cell_type": "code",
   "execution_count": 14,
   "id": "85b5c2d6",
   "metadata": {
    "execution": {
     "iopub.execute_input": "2025-05-15T16:15:28.399249Z",
     "iopub.status.busy": "2025-05-15T16:15:28.399062Z",
     "iopub.status.idle": "2025-05-15T16:15:28.405540Z",
     "shell.execute_reply": "2025-05-15T16:15:28.405219Z"
    },
    "papermill": {
     "duration": 0.013458,
     "end_time": "2025-05-15T16:15:28.406413",
     "exception": false,
     "start_time": "2025-05-15T16:15:28.392955",
     "status": "completed"
    },
    "tags": []
   },
   "outputs": [
    {
     "data": {
      "text/plain": [
       "((317, 107), (118, 107), (107, 107))"
      ]
     },
     "execution_count": 14,
     "metadata": {},
     "output_type": "execute_result"
    }
   ],
   "source": [
    "X_train = train_adata.X[train_idxs]\n",
    "X_test = train_adata.X[test_idxs]\n",
    "X_val = train_adata.X[val_idxs]\n",
    "X_train.shape, X_test.shape, X_val.shape"
   ]
  },
  {
   "cell_type": "code",
   "execution_count": 15,
   "id": "b24209bb",
   "metadata": {
    "execution": {
     "iopub.execute_input": "2025-05-15T16:15:28.419189Z",
     "iopub.status.busy": "2025-05-15T16:15:28.419047Z",
     "iopub.status.idle": "2025-05-15T16:15:28.423804Z",
     "shell.execute_reply": "2025-05-15T16:15:28.423495Z"
    },
    "papermill": {
     "duration": 0.012311,
     "end_time": "2025-05-15T16:15:28.424674",
     "exception": false,
     "start_time": "2025-05-15T16:15:28.412363",
     "status": "completed"
    },
    "tags": []
   },
   "outputs": [
    {
     "data": {
      "text/plain": [
       "((317,), (118,), (107,))"
      ]
     },
     "execution_count": 15,
     "metadata": {},
     "output_type": "execute_result"
    }
   ],
   "source": [
    "y_train = train_adata.obs.iloc[train_idxs].disease.values.astype(str)\n",
    "y_test = train_adata.obs.iloc[test_idxs].disease.values.astype(str)\n",
    "y_val = train_adata.obs.iloc[val_idxs].disease.values.astype(str)\n",
    "y_train.shape, y_test.shape, y_val.shape"
   ]
  },
  {
   "cell_type": "code",
   "execution_count": 16,
   "id": "68d57458",
   "metadata": {
    "execution": {
     "iopub.execute_input": "2025-05-15T16:15:28.440758Z",
     "iopub.status.busy": "2025-05-15T16:15:28.440516Z",
     "iopub.status.idle": "2025-05-15T16:15:28.443318Z",
     "shell.execute_reply": "2025-05-15T16:15:28.442985Z"
    },
    "papermill": {
     "duration": 0.012082,
     "end_time": "2025-05-15T16:15:28.444212",
     "exception": false,
     "start_time": "2025-05-15T16:15:28.432130",
     "status": "completed"
    },
    "tags": []
   },
   "outputs": [],
   "source": [
    "lenc = LabelEncoder()\n",
    "y_train_enc = lenc.fit_transform(y_train)\n",
    "y_val_enc = lenc.transform(y_val)\n",
    "y_test_enc = lenc.transform(y_test)"
   ]
  },
  {
   "cell_type": "markdown",
   "id": "9c72925d",
   "metadata": {
    "papermill": {
     "duration": 0.005861,
     "end_time": "2025-05-15T16:15:28.456125",
     "exception": false,
     "start_time": "2025-05-15T16:15:28.450264",
     "status": "completed"
    },
    "tags": []
   },
   "source": [
    "### GENERATE F1 "
   ]
  },
  {
   "cell_type": "code",
   "execution_count": 17,
   "id": "625d6528",
   "metadata": {
    "execution": {
     "iopub.execute_input": "2025-05-15T16:15:28.468947Z",
     "iopub.status.busy": "2025-05-15T16:15:28.468769Z",
     "iopub.status.idle": "2025-05-15T16:15:28.471094Z",
     "shell.execute_reply": "2025-05-15T16:15:28.470766Z"
    },
    "papermill": {
     "duration": 0.009694,
     "end_time": "2025-05-15T16:15:28.471881",
     "exception": false,
     "start_time": "2025-05-15T16:15:28.462187",
     "status": "completed"
    },
    "tags": []
   },
   "outputs": [],
   "source": [
    "def custom_f1_score(y_true, y_pred):\n",
    "    return -f1_score(y_true, y_pred.argmax(1), average='weighted')"
   ]
  },
  {
   "cell_type": "code",
   "execution_count": 18,
   "id": "5d83539d",
   "metadata": {
    "execution": {
     "iopub.execute_input": "2025-05-15T16:15:28.491091Z",
     "iopub.status.busy": "2025-05-15T16:15:28.490806Z",
     "iopub.status.idle": "2025-05-15T16:15:28.494614Z",
     "shell.execute_reply": "2025-05-15T16:15:28.494288Z"
    },
    "papermill": {
     "duration": 0.017409,
     "end_time": "2025-05-15T16:15:28.495419",
     "exception": false,
     "start_time": "2025-05-15T16:15:28.478010",
     "status": "completed"
    },
    "tags": []
   },
   "outputs": [],
   "source": [
    "eval_metric=custom_f1_score\n",
    "eval_metric_name='custom_f1_score'\n",
    "\n",
    "def objective(trial):\n",
    "    params = {\n",
    "        'n_estimators': 1500,\n",
    "        'max_depth': trial.suggest_int('max_depth', 3, 20),\n",
    "        'min_child_weight': trial.suggest_int('min_child_weight', 1, 250),\n",
    "        'subsample': trial.suggest_float('subsample', 0.1, 1.0),\n",
    "        'colsample_bynode': trial.suggest_float('colsample_bynode', 0.1, 1.0),\n",
    "        'learning_rate': trial.suggest_float('learning_rate', 1e-3, 5e-1, log=True),\n",
    "    }\n",
    "    pruning_callback = optuna.integration.XGBoostPruningCallback(trial, f'validation_0-{eval_metric_name}')\n",
    "    es_callback = xgboost.callback.EarlyStopping(20, min_delta=0.001)\n",
    "    xgb = xgboost.XGBClassifier(\n",
    "        eval_metric=eval_metric,\n",
    "        callbacks=[pruning_callback, es_callback],\n",
    "        n_jobs=5,\n",
    "        **params\n",
    "    )\n",
    "    xgb.fit(\n",
    "        X_train, \n",
    "        y_train_enc, \n",
    "        verbose=0,\n",
    "        eval_set=[(X_val, y_val_enc)],\n",
    "    )\n",
    "    trial.set_user_attr('best_iteration', xgb.best_iteration)\n",
    "\n",
    "    return xgb.best_score"
   ]
  },
  {
   "cell_type": "code",
   "execution_count": 19,
   "id": "91f47aa9",
   "metadata": {
    "execution": {
     "iopub.execute_input": "2025-05-15T16:15:28.508869Z",
     "iopub.status.busy": "2025-05-15T16:15:28.508487Z",
     "iopub.status.idle": "2025-05-15T16:15:41.240997Z",
     "shell.execute_reply": "2025-05-15T16:15:41.240506Z"
    },
    "papermill": {
     "duration": 12.740679,
     "end_time": "2025-05-15T16:15:41.242334",
     "exception": false,
     "start_time": "2025-05-15T16:15:28.501655",
     "status": "completed"
    },
    "scrolled": true,
    "tags": []
   },
   "outputs": [
    {
     "name": "stderr",
     "output_type": "stream",
     "text": [
      "[I 2025-05-15 18:15:28,510] A new study created in memory with name: no-name-797cb236-b09d-489c-9b53-4f5a740a1472\n"
     ]
    },
    {
     "name": "stderr",
     "output_type": "stream",
     "text": [
      "[I 2025-05-15 18:15:28,572] Trial 0 finished with value: -0.019167 and parameters: {'max_depth': 9, 'min_child_weight': 238, 'subsample': 0.7587945476302645, 'colsample_bynode': 0.6387926357773329, 'learning_rate': 0.0026368755339723046}. Best is trial 0 with value: -0.019167.\n"
     ]
    },
    {
     "name": "stderr",
     "output_type": "stream",
     "text": [
      "[I 2025-05-15 18:15:29,334] Trial 1 finished with value: -0.514399 and parameters: {'max_depth': 5, 'min_child_weight': 15, 'subsample': 0.8795585311974417, 'colsample_bynode': 0.6410035105688879, 'learning_rate': 0.08148293210105287}. Best is trial 1 with value: -0.514399.\n"
     ]
    },
    {
     "name": "stderr",
     "output_type": "stream",
     "text": [
      "[I 2025-05-15 18:15:29,487] Trial 2 finished with value: -0.019167 and parameters: {'max_depth': 3, 'min_child_weight': 243, 'subsample': 0.8491983767203796, 'colsample_bynode': 0.29110519961044856, 'learning_rate': 0.003095566460242371}. Best is trial 1 with value: -0.514399.\n"
     ]
    },
    {
     "name": "stderr",
     "output_type": "stream",
     "text": [
      "[I 2025-05-15 18:15:29,645] Trial 3 finished with value: -0.019167 and parameters: {'max_depth': 6, 'min_child_weight': 77, 'subsample': 0.5722807884690141, 'colsample_bynode': 0.48875051677790415, 'learning_rate': 0.006109683510122491}. Best is trial 1 with value: -0.514399.\n"
     ]
    },
    {
     "name": "stderr",
     "output_type": "stream",
     "text": [
      "[I 2025-05-15 18:15:29,803] Trial 4 finished with value: -0.019167 and parameters: {'max_depth': 14, 'min_child_weight': 35, 'subsample': 0.3629301836816964, 'colsample_bynode': 0.4297256589643226, 'learning_rate': 0.01701841881702917}. Best is trial 1 with value: -0.514399.\n"
     ]
    },
    {
     "name": "stderr",
     "output_type": "stream",
     "text": [
      "[I 2025-05-15 18:15:29,959] Trial 5 finished with value: -0.019167 and parameters: {'max_depth': 17, 'min_child_weight': 50, 'subsample': 0.5628109945722505, 'colsample_bynode': 0.6331731119758383, 'learning_rate': 0.0013346527038305934}. Best is trial 1 with value: -0.514399.\n"
     ]
    },
    {
     "name": "stderr",
     "output_type": "stream",
     "text": [
      "[I 2025-05-15 18:15:30,133] Trial 6 finished with value: -0.019167 and parameters: {'max_depth': 13, 'min_child_weight': 43, 'subsample': 0.1585464336867516, 'colsample_bynode': 0.9539969835279999, 'learning_rate': 0.4038423798071558}. Best is trial 1 with value: -0.514399.\n"
     ]
    },
    {
     "name": "stderr",
     "output_type": "stream",
     "text": [
      "[I 2025-05-15 18:15:30,290] Trial 7 finished with value: -0.019167 and parameters: {'max_depth': 17, 'min_child_weight': 77, 'subsample': 0.1879049026057455, 'colsample_bynode': 0.7158097238609412, 'learning_rate': 0.015415527060141935}. Best is trial 1 with value: -0.514399.\n"
     ]
    },
    {
     "name": "stderr",
     "output_type": "stream",
     "text": [
      "[I 2025-05-15 18:15:30,456] Trial 8 finished with value: -0.019167 and parameters: {'max_depth': 5, 'min_child_weight': 124, 'subsample': 0.13094966900369656, 'colsample_bynode': 0.9183883618709039, 'learning_rate': 0.004993895014755658}. Best is trial 1 with value: -0.514399.\n"
     ]
    },
    {
     "name": "stderr",
     "output_type": "stream",
     "text": [
      "[I 2025-05-15 18:15:30,630] Trial 9 finished with value: -0.019167 and parameters: {'max_depth': 14, 'min_child_weight': 78, 'subsample': 0.5680612190600297, 'colsample_bynode': 0.5920392514089517, 'learning_rate': 0.0031543990308330965}. Best is trial 1 with value: -0.514399.\n"
     ]
    },
    {
     "name": "stderr",
     "output_type": "stream",
     "text": [
      "[I 2025-05-15 18:15:31,165] Trial 10 finished with value: -0.531456 and parameters: {'max_depth': 9, 'min_child_weight': 2, 'subsample': 0.9725833997090791, 'colsample_bynode': 0.11616568805333755, 'learning_rate': 0.17780618353487967}. Best is trial 10 with value: -0.531456.\n"
     ]
    },
    {
     "name": "stderr",
     "output_type": "stream",
     "text": [
      "[I 2025-05-15 18:15:31,541] Trial 11 finished with value: -0.487056 and parameters: {'max_depth': 9, 'min_child_weight': 4, 'subsample': 0.9818290990185045, 'colsample_bynode': 0.17702656156719, 'learning_rate': 0.11568531411766632}. Best is trial 10 with value: -0.531456.\n"
     ]
    },
    {
     "name": "stderr",
     "output_type": "stream",
     "text": [
      "[I 2025-05-15 18:15:31,954] Trial 12 finished with value: -0.489765 and parameters: {'max_depth': 9, 'min_child_weight': 3, 'subsample': 0.9754570370311046, 'colsample_bynode': 0.14672783827498995, 'learning_rate': 0.08954997670613858}. Best is trial 10 with value: -0.531456.\n"
     ]
    },
    {
     "name": "stderr",
     "output_type": "stream",
     "text": [
      "[I 2025-05-15 18:15:32,147] Trial 13 finished with value: -0.019167 and parameters: {'max_depth': 6, 'min_child_weight': 173, 'subsample': 0.790863397930712, 'colsample_bynode': 0.8100137258468498, 'learning_rate': 0.09009490635410385}. Best is trial 10 with value: -0.531456.\n"
     ]
    },
    {
     "name": "stderr",
     "output_type": "stream",
     "text": [
      "[I 2025-05-15 18:15:32,321] Trial 14 finished with value: -0.019167 and parameters: {'max_depth': 11, 'min_child_weight': 132, 'subsample': 0.8756857866758896, 'colsample_bynode': 0.37234427067556525, 'learning_rate': 0.33580116263734355}. Best is trial 10 with value: -0.531456.\n"
     ]
    },
    {
     "name": "stderr",
     "output_type": "stream",
     "text": [
      "[I 2025-05-15 18:15:32,780] Trial 15 finished with value: -0.504964 and parameters: {'max_depth': 20, 'min_child_weight': 1, 'subsample': 0.6960027044621645, 'colsample_bynode': 0.29820978139149346, 'learning_rate': 0.03580498851951521}. Best is trial 10 with value: -0.531456.\n"
     ]
    },
    {
     "name": "stderr",
     "output_type": "stream",
     "text": [
      "[I 2025-05-15 18:15:32,975] Trial 16 finished with value: -0.019167 and parameters: {'max_depth': 3, 'min_child_weight': 117, 'subsample': 0.6850154210962394, 'colsample_bynode': 0.7696944218640787, 'learning_rate': 0.18961687234093502}. Best is trial 10 with value: -0.531456.\n"
     ]
    },
    {
     "name": "stderr",
     "output_type": "stream",
     "text": [
      "[I 2025-05-15 18:15:33,140] Trial 17 finished with value: -0.019167 and parameters: {'max_depth': 7, 'min_child_weight': 183, 'subsample': 0.42926887230238714, 'colsample_bynode': 0.515903282561015, 'learning_rate': 0.03429743867756372}. Best is trial 10 with value: -0.531456.\n"
     ]
    },
    {
     "name": "stderr",
     "output_type": "stream",
     "text": [
      "[I 2025-05-15 18:15:33,313] Trial 18 pruned. Trial was pruned at iteration 21.\n"
     ]
    },
    {
     "name": "stderr",
     "output_type": "stream",
     "text": [
      "[I 2025-05-15 18:15:33,472] Trial 19 finished with value: -0.019167 and parameters: {'max_depth': 4, 'min_child_weight': 96, 'subsample': 0.6937203157540224, 'colsample_bynode': 0.10989027031939402, 'learning_rate': 0.0506827706601686}. Best is trial 10 with value: -0.531456.\n"
     ]
    },
    {
     "name": "stderr",
     "output_type": "stream",
     "text": [
      "[I 2025-05-15 18:15:33,677] Trial 20 pruned. Trial was pruned at iteration 21.\n"
     ]
    },
    {
     "name": "stderr",
     "output_type": "stream",
     "text": [
      "[I 2025-05-15 18:15:34,142] Trial 21 finished with value: -0.52163 and parameters: {'max_depth': 11, 'min_child_weight': 1, 'subsample': 0.6851575957735033, 'colsample_bynode': 0.29486021889282044, 'learning_rate': 0.03693968567453824}. Best is trial 10 with value: -0.531456.\n"
     ]
    },
    {
     "name": "stderr",
     "output_type": "stream",
     "text": [
      "[I 2025-05-15 18:15:34,340] Trial 22 pruned. Trial was pruned at iteration 21.\n"
     ]
    },
    {
     "name": "stderr",
     "output_type": "stream",
     "text": [
      "[I 2025-05-15 18:15:34,506] Trial 23 finished with value: -0.153245 and parameters: {'max_depth': 7, 'min_child_weight': 60, 'subsample': 0.8828537444189986, 'colsample_bynode': 0.1915058720860061, 'learning_rate': 0.012180271644019766}. Best is trial 10 with value: -0.531456.\n"
     ]
    },
    {
     "name": "stderr",
     "output_type": "stream",
     "text": [
      "[I 2025-05-15 18:15:34,688] Trial 24 pruned. Trial was pruned at iteration 21.\n"
     ]
    },
    {
     "name": "stderr",
     "output_type": "stream",
     "text": [
      "[I 2025-05-15 18:15:34,850] Trial 25 finished with value: -0.019167 and parameters: {'max_depth': 10, 'min_child_weight': 60, 'subsample': 0.4783088980729126, 'colsample_bynode': 0.10262241239832756, 'learning_rate': 0.03178125099472927}. Best is trial 10 with value: -0.531456.\n"
     ]
    },
    {
     "name": "stderr",
     "output_type": "stream",
     "text": [
      "[I 2025-05-15 18:15:35,216] Trial 26 finished with value: -0.515975 and parameters: {'max_depth': 5, 'min_child_weight': 15, 'subsample': 0.9084684401370251, 'colsample_bynode': 0.6993996736375041, 'learning_rate': 0.26121322355262905}. Best is trial 10 with value: -0.531456.\n"
     ]
    },
    {
     "name": "stderr",
     "output_type": "stream",
     "text": [
      "[I 2025-05-15 18:15:35,393] Trial 27 finished with value: -0.019167 and parameters: {'max_depth': 16, 'min_child_weight': 159, 'subsample': 0.2837646877243558, 'colsample_bynode': 0.3365669908148542, 'learning_rate': 0.46548818814564913}. Best is trial 10 with value: -0.531456.\n"
     ]
    },
    {
     "name": "stderr",
     "output_type": "stream",
     "text": [
      "[I 2025-05-15 18:15:35,567] Trial 28 finished with value: -0.019167 and parameters: {'max_depth': 8, 'min_child_weight': 204, 'subsample': 0.9234353475850134, 'colsample_bynode': 0.41902446271054716, 'learning_rate': 0.2263414243447943}. Best is trial 10 with value: -0.531456.\n"
     ]
    },
    {
     "name": "stderr",
     "output_type": "stream",
     "text": [
      "[I 2025-05-15 18:15:35,739] Trial 29 finished with value: -0.019167 and parameters: {'max_depth': 10, 'min_child_weight': 217, 'subsample': 0.7642360335097551, 'colsample_bynode': 0.7450471687608263, 'learning_rate': 0.12368523882492964}. Best is trial 10 with value: -0.531456.\n"
     ]
    },
    {
     "name": "stderr",
     "output_type": "stream",
     "text": [
      "[I 2025-05-15 18:15:35,917] Trial 30 finished with value: -0.019167 and parameters: {'max_depth': 12, 'min_child_weight': 98, 'subsample': 0.8235114231485356, 'colsample_bynode': 0.6780444539520498, 'learning_rate': 0.26363812508762446}. Best is trial 10 with value: -0.531456.\n"
     ]
    },
    {
     "name": "stderr",
     "output_type": "stream",
     "text": [
      "[I 2025-05-15 18:15:36,156] Trial 31 pruned. Trial was pruned at iteration 21.\n"
     ]
    },
    {
     "name": "stderr",
     "output_type": "stream",
     "text": [
      "[I 2025-05-15 18:15:36,379] Trial 32 pruned. Trial was pruned at iteration 21.\n"
     ]
    },
    {
     "name": "stderr",
     "output_type": "stream",
     "text": [
      "[I 2025-05-15 18:15:36,552] Trial 33 finished with value: -0.153245 and parameters: {'max_depth': 7, 'min_child_weight': 53, 'subsample': 0.7520941046201841, 'colsample_bynode': 0.6759532109632904, 'learning_rate': 0.021958715500358165}. Best is trial 10 with value: -0.531456.\n"
     ]
    },
    {
     "name": "stderr",
     "output_type": "stream",
     "text": [
      "[I 2025-05-15 18:15:36,723] Trial 34 pruned. Trial was pruned at iteration 21.\n"
     ]
    },
    {
     "name": "stderr",
     "output_type": "stream",
     "text": [
      "[I 2025-05-15 18:15:36,955] Trial 35 pruned. Trial was pruned at iteration 21.\n"
     ]
    },
    {
     "name": "stderr",
     "output_type": "stream",
     "text": [
      "[I 2025-05-15 18:15:37,135] Trial 36 pruned. Trial was pruned at iteration 21.\n"
     ]
    },
    {
     "name": "stderr",
     "output_type": "stream",
     "text": [
      "[I 2025-05-15 18:15:37,303] Trial 37 finished with value: -0.153245 and parameters: {'max_depth': 8, 'min_child_weight': 66, 'subsample': 0.9411752112530614, 'colsample_bynode': 0.819800564704332, 'learning_rate': 0.11490208840011916}. Best is trial 10 with value: -0.531456.\n"
     ]
    },
    {
     "name": "stderr",
     "output_type": "stream",
     "text": [
      "[I 2025-05-15 18:15:37,475] Trial 38 finished with value: -0.153245 and parameters: {'max_depth': 10, 'min_child_weight': 48, 'subsample': 0.7419163230206991, 'colsample_bynode': 0.27227273725423007, 'learning_rate': 0.1742966797286985}. Best is trial 10 with value: -0.531456.\n"
     ]
    },
    {
     "name": "stderr",
     "output_type": "stream",
     "text": [
      "[I 2025-05-15 18:15:37,646] Trial 39 finished with value: -0.153245 and parameters: {'max_depth': 15, 'min_child_weight': 31, 'subsample': 0.4918794364214414, 'colsample_bynode': 0.687254777956907, 'learning_rate': 0.022553777724440546}. Best is trial 10 with value: -0.531456.\n"
     ]
    },
    {
     "name": "stderr",
     "output_type": "stream",
     "text": [
      "[I 2025-05-15 18:15:37,858] Trial 40 pruned. Trial was pruned at iteration 21.\n"
     ]
    },
    {
     "name": "stderr",
     "output_type": "stream",
     "text": [
      "[I 2025-05-15 18:15:38,152] Trial 41 pruned. Trial was pruned at iteration 21.\n"
     ]
    },
    {
     "name": "stderr",
     "output_type": "stream",
     "text": [
      "[I 2025-05-15 18:15:38,440] Trial 42 pruned. Trial was pruned at iteration 21.\n"
     ]
    },
    {
     "name": "stderr",
     "output_type": "stream",
     "text": [
      "[I 2025-05-15 18:15:38,652] Trial 43 pruned. Trial was pruned at iteration 21.\n"
     ]
    },
    {
     "name": "stderr",
     "output_type": "stream",
     "text": [
      "[I 2025-05-15 18:15:39,346] Trial 44 finished with value: -0.515829 and parameters: {'max_depth': 13, 'min_child_weight': 1, 'subsample': 0.9515185706963052, 'colsample_bynode': 0.2160220598021773, 'learning_rate': 0.0952297088738391}. Best is trial 10 with value: -0.531456.\n"
     ]
    },
    {
     "name": "stderr",
     "output_type": "stream",
     "text": [
      "[I 2025-05-15 18:15:39,531] Trial 45 pruned. Trial was pruned at iteration 21.\n"
     ]
    },
    {
     "name": "stderr",
     "output_type": "stream",
     "text": [
      "[I 2025-05-15 18:15:39,711] Trial 46 finished with value: -0.019167 and parameters: {'max_depth': 13, 'min_child_weight': 77, 'subsample': 0.9949508438916208, 'colsample_bynode': 0.1540896032215439, 'learning_rate': 0.3484898061117609}. Best is trial 10 with value: -0.531456.\n"
     ]
    },
    {
     "name": "stderr",
     "output_type": "stream",
     "text": [
      "[I 2025-05-15 18:15:39,919] Trial 47 pruned. Trial was pruned at iteration 21.\n"
     ]
    },
    {
     "name": "stderr",
     "output_type": "stream",
     "text": [
      "[I 2025-05-15 18:15:40,107] Trial 48 pruned. Trial was pruned at iteration 21.\n"
     ]
    },
    {
     "name": "stderr",
     "output_type": "stream",
     "text": [
      "[I 2025-05-15 18:15:41,151] Trial 49 finished with value: -0.548679 and parameters: {'max_depth': 9, 'min_child_weight': 1, 'subsample': 0.957439253023559, 'colsample_bynode': 0.7348465043702661, 'learning_rate': 0.15006456132543722}. Best is trial 49 with value: -0.548679.\n"
     ]
    }
   ],
   "source": [
    "sampler = optuna.samplers.TPESampler(seed=42)\n",
    "study = optuna.create_study(direction='minimize', sampler=sampler)\n",
    "study.optimize(objective, n_trials=N_TRIALS, gc_after_trial=True)"
   ]
  },
  {
   "cell_type": "code",
   "execution_count": 20,
   "id": "73e0fd96",
   "metadata": {
    "execution": {
     "iopub.execute_input": "2025-05-15T16:15:41.262407Z",
     "iopub.status.busy": "2025-05-15T16:15:41.262206Z",
     "iopub.status.idle": "2025-05-15T16:15:41.292990Z",
     "shell.execute_reply": "2025-05-15T16:15:41.292667Z"
    },
    "papermill": {
     "duration": 0.040124,
     "end_time": "2025-05-15T16:15:41.293819",
     "exception": false,
     "start_time": "2025-05-15T16:15:41.253695",
     "status": "completed"
    },
    "tags": []
   },
   "outputs": [
    {
     "data": {
      "text/plain": [
       "['/scratch_isilon/groups/singlecell/shared/projects/Inflammation-PBMCs-Atlas/03_downstream_analysis/08_gene_importance/xgboost_external_validation/xgboost_TopN_genes/results_20/study/Plasma_1_0_xgboost.pkl']"
      ]
     },
     "execution_count": 20,
     "metadata": {},
     "output_type": "execute_result"
    }
   ],
   "source": [
    "out_dir = here(f'03_downstream_analysis/08_gene_importance/xgboost_external_validation/xgboost_TopN_genes/results_{N_GENES}/study')\n",
    "\n",
    "if not os.path.exists(out_dir):\n",
    "    os.makedirs(out_dir)\n",
    "    \n",
    "joblib.dump(study,os.path.join(out_dir, f'{CELL_TYPE}_{SEED}_{TEST_SPLIT_IDX}_xgboost.pkl'))"
   ]
  },
  {
   "cell_type": "code",
   "execution_count": 21,
   "id": "e6a5e42c",
   "metadata": {
    "execution": {
     "iopub.execute_input": "2025-05-15T16:15:41.326360Z",
     "iopub.status.busy": "2025-05-15T16:15:41.325905Z",
     "iopub.status.idle": "2025-05-15T16:15:42.391578Z",
     "shell.execute_reply": "2025-05-15T16:15:42.391207Z"
    },
    "papermill": {
     "duration": 1.075283,
     "end_time": "2025-05-15T16:15:42.392566",
     "exception": false,
     "start_time": "2025-05-15T16:15:41.317283",
     "status": "completed"
    },
    "tags": []
   },
   "outputs": [
    {
     "data": {
      "text/html": [
       "<style>#sk-container-id-1 {\n",
       "  /* Definition of color scheme common for light and dark mode */\n",
       "  --sklearn-color-text: black;\n",
       "  --sklearn-color-line: gray;\n",
       "  /* Definition of color scheme for unfitted estimators */\n",
       "  --sklearn-color-unfitted-level-0: #fff5e6;\n",
       "  --sklearn-color-unfitted-level-1: #f6e4d2;\n",
       "  --sklearn-color-unfitted-level-2: #ffe0b3;\n",
       "  --sklearn-color-unfitted-level-3: chocolate;\n",
       "  /* Definition of color scheme for fitted estimators */\n",
       "  --sklearn-color-fitted-level-0: #f0f8ff;\n",
       "  --sklearn-color-fitted-level-1: #d4ebff;\n",
       "  --sklearn-color-fitted-level-2: #b3dbfd;\n",
       "  --sklearn-color-fitted-level-3: cornflowerblue;\n",
       "\n",
       "  /* Specific color for light theme */\n",
       "  --sklearn-color-text-on-default-background: var(--sg-text-color, var(--theme-code-foreground, var(--jp-content-font-color1, black)));\n",
       "  --sklearn-color-background: var(--sg-background-color, var(--theme-background, var(--jp-layout-color0, white)));\n",
       "  --sklearn-color-border-box: var(--sg-text-color, var(--theme-code-foreground, var(--jp-content-font-color1, black)));\n",
       "  --sklearn-color-icon: #696969;\n",
       "\n",
       "  @media (prefers-color-scheme: dark) {\n",
       "    /* Redefinition of color scheme for dark theme */\n",
       "    --sklearn-color-text-on-default-background: var(--sg-text-color, var(--theme-code-foreground, var(--jp-content-font-color1, white)));\n",
       "    --sklearn-color-background: var(--sg-background-color, var(--theme-background, var(--jp-layout-color0, #111)));\n",
       "    --sklearn-color-border-box: var(--sg-text-color, var(--theme-code-foreground, var(--jp-content-font-color1, white)));\n",
       "    --sklearn-color-icon: #878787;\n",
       "  }\n",
       "}\n",
       "\n",
       "#sk-container-id-1 {\n",
       "  color: var(--sklearn-color-text);\n",
       "}\n",
       "\n",
       "#sk-container-id-1 pre {\n",
       "  padding: 0;\n",
       "}\n",
       "\n",
       "#sk-container-id-1 input.sk-hidden--visually {\n",
       "  border: 0;\n",
       "  clip: rect(1px 1px 1px 1px);\n",
       "  clip: rect(1px, 1px, 1px, 1px);\n",
       "  height: 1px;\n",
       "  margin: -1px;\n",
       "  overflow: hidden;\n",
       "  padding: 0;\n",
       "  position: absolute;\n",
       "  width: 1px;\n",
       "}\n",
       "\n",
       "#sk-container-id-1 div.sk-dashed-wrapped {\n",
       "  border: 1px dashed var(--sklearn-color-line);\n",
       "  margin: 0 0.4em 0.5em 0.4em;\n",
       "  box-sizing: border-box;\n",
       "  padding-bottom: 0.4em;\n",
       "  background-color: var(--sklearn-color-background);\n",
       "}\n",
       "\n",
       "#sk-container-id-1 div.sk-container {\n",
       "  /* jupyter's `normalize.less` sets `[hidden] { display: none; }`\n",
       "     but bootstrap.min.css set `[hidden] { display: none !important; }`\n",
       "     so we also need the `!important` here to be able to override the\n",
       "     default hidden behavior on the sphinx rendered scikit-learn.org.\n",
       "     See: https://github.com/scikit-learn/scikit-learn/issues/21755 */\n",
       "  display: inline-block !important;\n",
       "  position: relative;\n",
       "}\n",
       "\n",
       "#sk-container-id-1 div.sk-text-repr-fallback {\n",
       "  display: none;\n",
       "}\n",
       "\n",
       "div.sk-parallel-item,\n",
       "div.sk-serial,\n",
       "div.sk-item {\n",
       "  /* draw centered vertical line to link estimators */\n",
       "  background-image: linear-gradient(var(--sklearn-color-text-on-default-background), var(--sklearn-color-text-on-default-background));\n",
       "  background-size: 2px 100%;\n",
       "  background-repeat: no-repeat;\n",
       "  background-position: center center;\n",
       "}\n",
       "\n",
       "/* Parallel-specific style estimator block */\n",
       "\n",
       "#sk-container-id-1 div.sk-parallel-item::after {\n",
       "  content: \"\";\n",
       "  width: 100%;\n",
       "  border-bottom: 2px solid var(--sklearn-color-text-on-default-background);\n",
       "  flex-grow: 1;\n",
       "}\n",
       "\n",
       "#sk-container-id-1 div.sk-parallel {\n",
       "  display: flex;\n",
       "  align-items: stretch;\n",
       "  justify-content: center;\n",
       "  background-color: var(--sklearn-color-background);\n",
       "  position: relative;\n",
       "}\n",
       "\n",
       "#sk-container-id-1 div.sk-parallel-item {\n",
       "  display: flex;\n",
       "  flex-direction: column;\n",
       "}\n",
       "\n",
       "#sk-container-id-1 div.sk-parallel-item:first-child::after {\n",
       "  align-self: flex-end;\n",
       "  width: 50%;\n",
       "}\n",
       "\n",
       "#sk-container-id-1 div.sk-parallel-item:last-child::after {\n",
       "  align-self: flex-start;\n",
       "  width: 50%;\n",
       "}\n",
       "\n",
       "#sk-container-id-1 div.sk-parallel-item:only-child::after {\n",
       "  width: 0;\n",
       "}\n",
       "\n",
       "/* Serial-specific style estimator block */\n",
       "\n",
       "#sk-container-id-1 div.sk-serial {\n",
       "  display: flex;\n",
       "  flex-direction: column;\n",
       "  align-items: center;\n",
       "  background-color: var(--sklearn-color-background);\n",
       "  padding-right: 1em;\n",
       "  padding-left: 1em;\n",
       "}\n",
       "\n",
       "\n",
       "/* Toggleable style: style used for estimator/Pipeline/ColumnTransformer box that is\n",
       "clickable and can be expanded/collapsed.\n",
       "- Pipeline and ColumnTransformer use this feature and define the default style\n",
       "- Estimators will overwrite some part of the style using the `sk-estimator` class\n",
       "*/\n",
       "\n",
       "/* Pipeline and ColumnTransformer style (default) */\n",
       "\n",
       "#sk-container-id-1 div.sk-toggleable {\n",
       "  /* Default theme specific background. It is overwritten whether we have a\n",
       "  specific estimator or a Pipeline/ColumnTransformer */\n",
       "  background-color: var(--sklearn-color-background);\n",
       "}\n",
       "\n",
       "/* Toggleable label */\n",
       "#sk-container-id-1 label.sk-toggleable__label {\n",
       "  cursor: pointer;\n",
       "  display: block;\n",
       "  width: 100%;\n",
       "  margin-bottom: 0;\n",
       "  padding: 0.5em;\n",
       "  box-sizing: border-box;\n",
       "  text-align: center;\n",
       "}\n",
       "\n",
       "#sk-container-id-1 label.sk-toggleable__label-arrow:before {\n",
       "  /* Arrow on the left of the label */\n",
       "  content: \"▸\";\n",
       "  float: left;\n",
       "  margin-right: 0.25em;\n",
       "  color: var(--sklearn-color-icon);\n",
       "}\n",
       "\n",
       "#sk-container-id-1 label.sk-toggleable__label-arrow:hover:before {\n",
       "  color: var(--sklearn-color-text);\n",
       "}\n",
       "\n",
       "/* Toggleable content - dropdown */\n",
       "\n",
       "#sk-container-id-1 div.sk-toggleable__content {\n",
       "  max-height: 0;\n",
       "  max-width: 0;\n",
       "  overflow: hidden;\n",
       "  text-align: left;\n",
       "  /* unfitted */\n",
       "  background-color: var(--sklearn-color-unfitted-level-0);\n",
       "}\n",
       "\n",
       "#sk-container-id-1 div.sk-toggleable__content.fitted {\n",
       "  /* fitted */\n",
       "  background-color: var(--sklearn-color-fitted-level-0);\n",
       "}\n",
       "\n",
       "#sk-container-id-1 div.sk-toggleable__content pre {\n",
       "  margin: 0.2em;\n",
       "  border-radius: 0.25em;\n",
       "  color: var(--sklearn-color-text);\n",
       "  /* unfitted */\n",
       "  background-color: var(--sklearn-color-unfitted-level-0);\n",
       "}\n",
       "\n",
       "#sk-container-id-1 div.sk-toggleable__content.fitted pre {\n",
       "  /* unfitted */\n",
       "  background-color: var(--sklearn-color-fitted-level-0);\n",
       "}\n",
       "\n",
       "#sk-container-id-1 input.sk-toggleable__control:checked~div.sk-toggleable__content {\n",
       "  /* Expand drop-down */\n",
       "  max-height: 200px;\n",
       "  max-width: 100%;\n",
       "  overflow: auto;\n",
       "}\n",
       "\n",
       "#sk-container-id-1 input.sk-toggleable__control:checked~label.sk-toggleable__label-arrow:before {\n",
       "  content: \"▾\";\n",
       "}\n",
       "\n",
       "/* Pipeline/ColumnTransformer-specific style */\n",
       "\n",
       "#sk-container-id-1 div.sk-label input.sk-toggleable__control:checked~label.sk-toggleable__label {\n",
       "  color: var(--sklearn-color-text);\n",
       "  background-color: var(--sklearn-color-unfitted-level-2);\n",
       "}\n",
       "\n",
       "#sk-container-id-1 div.sk-label.fitted input.sk-toggleable__control:checked~label.sk-toggleable__label {\n",
       "  background-color: var(--sklearn-color-fitted-level-2);\n",
       "}\n",
       "\n",
       "/* Estimator-specific style */\n",
       "\n",
       "/* Colorize estimator box */\n",
       "#sk-container-id-1 div.sk-estimator input.sk-toggleable__control:checked~label.sk-toggleable__label {\n",
       "  /* unfitted */\n",
       "  background-color: var(--sklearn-color-unfitted-level-2);\n",
       "}\n",
       "\n",
       "#sk-container-id-1 div.sk-estimator.fitted input.sk-toggleable__control:checked~label.sk-toggleable__label {\n",
       "  /* fitted */\n",
       "  background-color: var(--sklearn-color-fitted-level-2);\n",
       "}\n",
       "\n",
       "#sk-container-id-1 div.sk-label label.sk-toggleable__label,\n",
       "#sk-container-id-1 div.sk-label label {\n",
       "  /* The background is the default theme color */\n",
       "  color: var(--sklearn-color-text-on-default-background);\n",
       "}\n",
       "\n",
       "/* On hover, darken the color of the background */\n",
       "#sk-container-id-1 div.sk-label:hover label.sk-toggleable__label {\n",
       "  color: var(--sklearn-color-text);\n",
       "  background-color: var(--sklearn-color-unfitted-level-2);\n",
       "}\n",
       "\n",
       "/* Label box, darken color on hover, fitted */\n",
       "#sk-container-id-1 div.sk-label.fitted:hover label.sk-toggleable__label.fitted {\n",
       "  color: var(--sklearn-color-text);\n",
       "  background-color: var(--sklearn-color-fitted-level-2);\n",
       "}\n",
       "\n",
       "/* Estimator label */\n",
       "\n",
       "#sk-container-id-1 div.sk-label label {\n",
       "  font-family: monospace;\n",
       "  font-weight: bold;\n",
       "  display: inline-block;\n",
       "  line-height: 1.2em;\n",
       "}\n",
       "\n",
       "#sk-container-id-1 div.sk-label-container {\n",
       "  text-align: center;\n",
       "}\n",
       "\n",
       "/* Estimator-specific */\n",
       "#sk-container-id-1 div.sk-estimator {\n",
       "  font-family: monospace;\n",
       "  border: 1px dotted var(--sklearn-color-border-box);\n",
       "  border-radius: 0.25em;\n",
       "  box-sizing: border-box;\n",
       "  margin-bottom: 0.5em;\n",
       "  /* unfitted */\n",
       "  background-color: var(--sklearn-color-unfitted-level-0);\n",
       "}\n",
       "\n",
       "#sk-container-id-1 div.sk-estimator.fitted {\n",
       "  /* fitted */\n",
       "  background-color: var(--sklearn-color-fitted-level-0);\n",
       "}\n",
       "\n",
       "/* on hover */\n",
       "#sk-container-id-1 div.sk-estimator:hover {\n",
       "  /* unfitted */\n",
       "  background-color: var(--sklearn-color-unfitted-level-2);\n",
       "}\n",
       "\n",
       "#sk-container-id-1 div.sk-estimator.fitted:hover {\n",
       "  /* fitted */\n",
       "  background-color: var(--sklearn-color-fitted-level-2);\n",
       "}\n",
       "\n",
       "/* Specification for estimator info (e.g. \"i\" and \"?\") */\n",
       "\n",
       "/* Common style for \"i\" and \"?\" */\n",
       "\n",
       ".sk-estimator-doc-link,\n",
       "a:link.sk-estimator-doc-link,\n",
       "a:visited.sk-estimator-doc-link {\n",
       "  float: right;\n",
       "  font-size: smaller;\n",
       "  line-height: 1em;\n",
       "  font-family: monospace;\n",
       "  background-color: var(--sklearn-color-background);\n",
       "  border-radius: 1em;\n",
       "  height: 1em;\n",
       "  width: 1em;\n",
       "  text-decoration: none !important;\n",
       "  margin-left: 1ex;\n",
       "  /* unfitted */\n",
       "  border: var(--sklearn-color-unfitted-level-1) 1pt solid;\n",
       "  color: var(--sklearn-color-unfitted-level-1);\n",
       "}\n",
       "\n",
       ".sk-estimator-doc-link.fitted,\n",
       "a:link.sk-estimator-doc-link.fitted,\n",
       "a:visited.sk-estimator-doc-link.fitted {\n",
       "  /* fitted */\n",
       "  border: var(--sklearn-color-fitted-level-1) 1pt solid;\n",
       "  color: var(--sklearn-color-fitted-level-1);\n",
       "}\n",
       "\n",
       "/* On hover */\n",
       "div.sk-estimator:hover .sk-estimator-doc-link:hover,\n",
       ".sk-estimator-doc-link:hover,\n",
       "div.sk-label-container:hover .sk-estimator-doc-link:hover,\n",
       ".sk-estimator-doc-link:hover {\n",
       "  /* unfitted */\n",
       "  background-color: var(--sklearn-color-unfitted-level-3);\n",
       "  color: var(--sklearn-color-background);\n",
       "  text-decoration: none;\n",
       "}\n",
       "\n",
       "div.sk-estimator.fitted:hover .sk-estimator-doc-link.fitted:hover,\n",
       ".sk-estimator-doc-link.fitted:hover,\n",
       "div.sk-label-container:hover .sk-estimator-doc-link.fitted:hover,\n",
       ".sk-estimator-doc-link.fitted:hover {\n",
       "  /* fitted */\n",
       "  background-color: var(--sklearn-color-fitted-level-3);\n",
       "  color: var(--sklearn-color-background);\n",
       "  text-decoration: none;\n",
       "}\n",
       "\n",
       "/* Span, style for the box shown on hovering the info icon */\n",
       ".sk-estimator-doc-link span {\n",
       "  display: none;\n",
       "  z-index: 9999;\n",
       "  position: relative;\n",
       "  font-weight: normal;\n",
       "  right: .2ex;\n",
       "  padding: .5ex;\n",
       "  margin: .5ex;\n",
       "  width: min-content;\n",
       "  min-width: 20ex;\n",
       "  max-width: 50ex;\n",
       "  color: var(--sklearn-color-text);\n",
       "  box-shadow: 2pt 2pt 4pt #999;\n",
       "  /* unfitted */\n",
       "  background: var(--sklearn-color-unfitted-level-0);\n",
       "  border: .5pt solid var(--sklearn-color-unfitted-level-3);\n",
       "}\n",
       "\n",
       ".sk-estimator-doc-link.fitted span {\n",
       "  /* fitted */\n",
       "  background: var(--sklearn-color-fitted-level-0);\n",
       "  border: var(--sklearn-color-fitted-level-3);\n",
       "}\n",
       "\n",
       ".sk-estimator-doc-link:hover span {\n",
       "  display: block;\n",
       "}\n",
       "\n",
       "/* \"?\"-specific style due to the `<a>` HTML tag */\n",
       "\n",
       "#sk-container-id-1 a.estimator_doc_link {\n",
       "  float: right;\n",
       "  font-size: 1rem;\n",
       "  line-height: 1em;\n",
       "  font-family: monospace;\n",
       "  background-color: var(--sklearn-color-background);\n",
       "  border-radius: 1rem;\n",
       "  height: 1rem;\n",
       "  width: 1rem;\n",
       "  text-decoration: none;\n",
       "  /* unfitted */\n",
       "  color: var(--sklearn-color-unfitted-level-1);\n",
       "  border: var(--sklearn-color-unfitted-level-1) 1pt solid;\n",
       "}\n",
       "\n",
       "#sk-container-id-1 a.estimator_doc_link.fitted {\n",
       "  /* fitted */\n",
       "  border: var(--sklearn-color-fitted-level-1) 1pt solid;\n",
       "  color: var(--sklearn-color-fitted-level-1);\n",
       "}\n",
       "\n",
       "/* On hover */\n",
       "#sk-container-id-1 a.estimator_doc_link:hover {\n",
       "  /* unfitted */\n",
       "  background-color: var(--sklearn-color-unfitted-level-3);\n",
       "  color: var(--sklearn-color-background);\n",
       "  text-decoration: none;\n",
       "}\n",
       "\n",
       "#sk-container-id-1 a.estimator_doc_link.fitted:hover {\n",
       "  /* fitted */\n",
       "  background-color: var(--sklearn-color-fitted-level-3);\n",
       "}\n",
       "</style><div id=\"sk-container-id-1\" class=\"sk-top-container\"><div class=\"sk-text-repr-fallback\"><pre>XGBClassifier(base_score=None, booster=None, callbacks=None,\n",
       "              colsample_bylevel=None, colsample_bynode=0.7348465043702661,\n",
       "              colsample_bytree=None, device=None, early_stopping_rounds=None,\n",
       "              enable_categorical=False,\n",
       "              eval_metric=&lt;function custom_f1_score at 0x7f726e69c540&gt;,\n",
       "              feature_types=None, gamma=None, grow_policy=None,\n",
       "              importance_type=None, interaction_constraints=None,\n",
       "              learning_rate=0.15006456132543722, max_bin=None,\n",
       "              max_cat_threshold=None, max_cat_to_onehot=None,\n",
       "              max_delta_step=None, max_depth=9, max_leaves=None,\n",
       "              min_child_weight=1, missing=nan, monotone_constraints=None,\n",
       "              multi_strategy=None, n_estimators=80, n_jobs=None,\n",
       "              num_parallel_tree=None, objective=&#x27;multi:softprob&#x27;, ...)</pre><b>In a Jupyter environment, please rerun this cell to show the HTML representation or trust the notebook. <br />On GitHub, the HTML representation is unable to render, please try loading this page with nbviewer.org.</b></div><div class=\"sk-container\" hidden><div class=\"sk-item\"><div class=\"sk-estimator fitted sk-toggleable\"><input class=\"sk-toggleable__control sk-hidden--visually\" id=\"sk-estimator-id-1\" type=\"checkbox\" checked><label for=\"sk-estimator-id-1\" class=\"sk-toggleable__label fitted sk-toggleable__label-arrow fitted\">&nbsp;XGBClassifier<span class=\"sk-estimator-doc-link fitted\">i<span>Fitted</span></span></label><div class=\"sk-toggleable__content fitted\"><pre>XGBClassifier(base_score=None, booster=None, callbacks=None,\n",
       "              colsample_bylevel=None, colsample_bynode=0.7348465043702661,\n",
       "              colsample_bytree=None, device=None, early_stopping_rounds=None,\n",
       "              enable_categorical=False,\n",
       "              eval_metric=&lt;function custom_f1_score at 0x7f726e69c540&gt;,\n",
       "              feature_types=None, gamma=None, grow_policy=None,\n",
       "              importance_type=None, interaction_constraints=None,\n",
       "              learning_rate=0.15006456132543722, max_bin=None,\n",
       "              max_cat_threshold=None, max_cat_to_onehot=None,\n",
       "              max_delta_step=None, max_depth=9, max_leaves=None,\n",
       "              min_child_weight=1, missing=nan, monotone_constraints=None,\n",
       "              multi_strategy=None, n_estimators=80, n_jobs=None,\n",
       "              num_parallel_tree=None, objective=&#x27;multi:softprob&#x27;, ...)</pre></div> </div></div></div></div>"
      ],
      "text/plain": [
       "XGBClassifier(base_score=None, booster=None, callbacks=None,\n",
       "              colsample_bylevel=None, colsample_bynode=0.7348465043702661,\n",
       "              colsample_bytree=None, device=None, early_stopping_rounds=None,\n",
       "              enable_categorical=False,\n",
       "              eval_metric=<function custom_f1_score at 0x7f726e69c540>,\n",
       "              feature_types=None, gamma=None, grow_policy=None,\n",
       "              importance_type=None, interaction_constraints=None,\n",
       "              learning_rate=0.15006456132543722, max_bin=None,\n",
       "              max_cat_threshold=None, max_cat_to_onehot=None,\n",
       "              max_delta_step=None, max_depth=9, max_leaves=None,\n",
       "              min_child_weight=1, missing=nan, monotone_constraints=None,\n",
       "              multi_strategy=None, n_estimators=80, n_jobs=None,\n",
       "              num_parallel_tree=None, objective='multi:softprob', ...)"
      ]
     },
     "execution_count": 21,
     "metadata": {},
     "output_type": "execute_result"
    }
   ],
   "source": [
    "n_estimators = int(study.best_trial.user_attrs['best_iteration']*1.2)\n",
    "xgb = xgboost.XGBClassifier(\n",
    "        eval_metric=eval_metric,\n",
    "        n_estimators=n_estimators,\n",
    "        **study.best_trial.params\n",
    "    )\n",
    "xgb.fit(\n",
    "    ssp.vstack((X_train, X_val)), \n",
    "    np.concatenate((y_train_enc, y_val_enc)),\n",
    "    verbose=1,\n",
    ")"
   ]
  },
  {
   "cell_type": "code",
   "execution_count": 22,
   "id": "d733f660",
   "metadata": {
    "execution": {
     "iopub.execute_input": "2025-05-15T16:15:42.418973Z",
     "iopub.status.busy": "2025-05-15T16:15:42.418778Z",
     "iopub.status.idle": "2025-05-15T16:15:42.442877Z",
     "shell.execute_reply": "2025-05-15T16:15:42.442545Z"
    },
    "papermill": {
     "duration": 0.035996,
     "end_time": "2025-05-15T16:15:42.443787",
     "exception": false,
     "start_time": "2025-05-15T16:15:42.407791",
     "status": "completed"
    },
    "tags": []
   },
   "outputs": [
    {
     "data": {
      "text/plain": [
       "['/scratch_isilon/groups/singlecell/shared/projects/Inflammation-PBMCs-Atlas/03_downstream_analysis/08_gene_importance/xgboost_external_validation/xgboost_TopN_genes/results_20/best_model/Plasma_1_0_xgb.json']"
      ]
     },
     "execution_count": 22,
     "metadata": {},
     "output_type": "execute_result"
    }
   ],
   "source": [
    "out_dir = here(f'03_downstream_analysis/08_gene_importance/xgboost_external_validation/xgboost_TopN_genes/results_{N_GENES}/best_model')\n",
    "\n",
    "if not os.path.exists(out_dir):\n",
    "    os.makedirs(out_dir)\n",
    "    \n",
    "joblib.dump(xgb, os.path.join(out_dir, f'{CELL_TYPE}_{SEED}_{TEST_SPLIT_IDX}_xgb.json'))"
   ]
  },
  {
   "cell_type": "code",
   "execution_count": 23,
   "id": "31bb74d3",
   "metadata": {
    "execution": {
     "iopub.execute_input": "2025-05-15T16:15:42.463730Z",
     "iopub.status.busy": "2025-05-15T16:15:42.463544Z",
     "iopub.status.idle": "2025-05-15T16:15:42.473284Z",
     "shell.execute_reply": "2025-05-15T16:15:42.472965Z"
    },
    "papermill": {
     "duration": 0.020653,
     "end_time": "2025-05-15T16:15:42.474719",
     "exception": false,
     "start_time": "2025-05-15T16:15:42.454066",
     "status": "completed"
    },
    "tags": []
   },
   "outputs": [],
   "source": [
    "df_pred_test = pd.DataFrame(dict(\n",
    "    cell_id=train_adata.obs.iloc[test_idxs].index.values,\n",
    "    y_true=y_test, \n",
    "    y_true_code=y_test_enc, \n",
    "    y_pred=xgb.predict(X_test))).set_index('cell_id')"
   ]
  },
  {
   "cell_type": "code",
   "execution_count": 24,
   "id": "01077601",
   "metadata": {
    "execution": {
     "iopub.execute_input": "2025-05-15T16:15:42.493621Z",
     "iopub.status.busy": "2025-05-15T16:15:42.493077Z",
     "iopub.status.idle": "2025-05-15T16:15:42.504286Z",
     "shell.execute_reply": "2025-05-15T16:15:42.503948Z"
    },
    "papermill": {
     "duration": 0.021472,
     "end_time": "2025-05-15T16:15:42.505226",
     "exception": false,
     "start_time": "2025-05-15T16:15:42.483754",
     "status": "completed"
    },
    "tags": []
   },
   "outputs": [],
   "source": [
    "out_dir = here(f'03_downstream_analysis/08_gene_importance/xgboost_external_validation/xgboost_TopN_genes/results_{N_GENES}/predictions')\n",
    "\n",
    "if not os.path.exists(out_dir):\n",
    "    os.makedirs(out_dir)\n",
    "    \n",
    "df_pred_test.to_csv(os.path.join(out_dir, f'{CELL_TYPE}_{SEED}_{TEST_SPLIT_IDX}_pred_test.zip'))"
   ]
  },
  {
   "cell_type": "code",
   "execution_count": 25,
   "id": "3c98beaa",
   "metadata": {
    "execution": {
     "iopub.execute_input": "2025-05-15T16:15:42.523190Z",
     "iopub.status.busy": "2025-05-15T16:15:42.522906Z",
     "iopub.status.idle": "2025-05-15T16:15:42.529788Z",
     "shell.execute_reply": "2025-05-15T16:15:42.529470Z"
    },
    "papermill": {
     "duration": 0.016738,
     "end_time": "2025-05-15T16:15:42.530620",
     "exception": false,
     "start_time": "2025-05-15T16:15:42.513882",
     "status": "completed"
    },
    "tags": []
   },
   "outputs": [
    {
     "name": "stderr",
     "output_type": "stream",
     "text": [
      "/scratch_isilon/groups/singlecell/shared/conda_env/xgboost-cpu/lib/python3.12/site-packages/sklearn/metrics/_classification.py:2466: UserWarning: y_pred contains classes not in y_true\n",
      "  warnings.warn(\"y_pred contains classes not in y_true\")\n"
     ]
    }
   ],
   "source": [
    "metrics_dict = dict(\n",
    "    BAS=balanced_accuracy_score(y_true=df_pred_test.y_true_code, y_pred=df_pred_test.y_pred), WF1=f1_score(y_true=df_pred_test.y_true_code, y_pred=df_pred_test.y_pred,average='weighted'))"
   ]
  },
  {
   "cell_type": "code",
   "execution_count": 26,
   "id": "1c7a36ad",
   "metadata": {
    "execution": {
     "iopub.execute_input": "2025-05-15T16:15:42.548723Z",
     "iopub.status.busy": "2025-05-15T16:15:42.548241Z",
     "iopub.status.idle": "2025-05-15T16:15:42.551252Z",
     "shell.execute_reply": "2025-05-15T16:15:42.550945Z"
    },
    "papermill": {
     "duration": 0.012706,
     "end_time": "2025-05-15T16:15:42.552096",
     "exception": false,
     "start_time": "2025-05-15T16:15:42.539390",
     "status": "completed"
    },
    "tags": []
   },
   "outputs": [
    {
     "data": {
      "text/plain": [
       "{'BAS': 0.6081898012701584, 'WF1': 0.6315889846191679}"
      ]
     },
     "execution_count": 26,
     "metadata": {},
     "output_type": "execute_result"
    }
   ],
   "source": [
    "metrics_dict"
   ]
  },
  {
   "cell_type": "code",
   "execution_count": 27,
   "id": "e226cada",
   "metadata": {
    "execution": {
     "iopub.execute_input": "2025-05-15T16:15:42.581208Z",
     "iopub.status.busy": "2025-05-15T16:15:42.581010Z",
     "iopub.status.idle": "2025-05-15T16:15:42.589875Z",
     "shell.execute_reply": "2025-05-15T16:15:42.589561Z"
    },
    "papermill": {
     "duration": 0.019081,
     "end_time": "2025-05-15T16:15:42.590697",
     "exception": false,
     "start_time": "2025-05-15T16:15:42.571616",
     "status": "completed"
    },
    "tags": []
   },
   "outputs": [
    {
     "data": {
      "text/html": [
       "<div>\n",
       "<style scoped>\n",
       "    .dataframe tbody tr th:only-of-type {\n",
       "        vertical-align: middle;\n",
       "    }\n",
       "\n",
       "    .dataframe tbody tr th {\n",
       "        vertical-align: top;\n",
       "    }\n",
       "\n",
       "    .dataframe thead th {\n",
       "        text-align: right;\n",
       "    }\n",
       "</style>\n",
       "<table border=\"1\" class=\"dataframe\">\n",
       "  <thead>\n",
       "    <tr style=\"text-align: right;\">\n",
       "      <th></th>\n",
       "      <th>BAS</th>\n",
       "      <th>WF1</th>\n",
       "      <th>split_idx</th>\n",
       "      <th>gene_set_seed</th>\n",
       "      <th>cell_type</th>\n",
       "    </tr>\n",
       "  </thead>\n",
       "  <tbody>\n",
       "    <tr>\n",
       "      <th>0</th>\n",
       "      <td>0.60819</td>\n",
       "      <td>0.631589</td>\n",
       "      <td>0</td>\n",
       "      <td>1</td>\n",
       "      <td>Plasma</td>\n",
       "    </tr>\n",
       "  </tbody>\n",
       "</table>\n",
       "</div>"
      ],
      "text/plain": [
       "       BAS       WF1  split_idx  gene_set_seed cell_type\n",
       "0  0.60819  0.631589          0              1    Plasma"
      ]
     },
     "execution_count": 27,
     "metadata": {},
     "output_type": "execute_result"
    }
   ],
   "source": [
    "metrics_df = pd.DataFrame.from_dict([metrics_dict]).assign(split_idx=TEST_SPLIT_IDX, gene_set_seed=SEED, cell_type=CELL_TYPE)\n",
    "metrics_df"
   ]
  },
  {
   "cell_type": "code",
   "execution_count": 28,
   "id": "d3dd18a1",
   "metadata": {
    "execution": {
     "iopub.execute_input": "2025-05-15T16:15:42.609424Z",
     "iopub.status.busy": "2025-05-15T16:15:42.609249Z",
     "iopub.status.idle": "2025-05-15T16:15:42.617551Z",
     "shell.execute_reply": "2025-05-15T16:15:42.617192Z"
    },
    "papermill": {
     "duration": 0.018675,
     "end_time": "2025-05-15T16:15:42.618420",
     "exception": false,
     "start_time": "2025-05-15T16:15:42.599745",
     "status": "completed"
    },
    "tags": []
   },
   "outputs": [],
   "source": [
    "out_dir = here(f'03_downstream_analysis/08_gene_importance/xgboost_external_validation/xgboost_TopN_genes/results_{N_GENES}/metrics')\n",
    "\n",
    "if not os.path.exists(out_dir):\n",
    "    os.makedirs(out_dir)\n",
    "    \n",
    "metrics_df.to_csv(os.path.join(out_dir, f'{CELL_TYPE}_{SEED}_{TEST_SPLIT_IDX}_metrics.zip'))"
   ]
  }
 ],
 "metadata": {
  "kernelspec": {
   "display_name": "Python 3 (ipykernel)",
   "language": "python",
   "name": "python3"
  },
  "language_info": {
   "codemirror_mode": {
    "name": "ipython",
    "version": 3
   },
   "file_extension": ".py",
   "mimetype": "text/x-python",
   "name": "python",
   "nbconvert_exporter": "python",
   "pygments_lexer": "ipython3",
   "version": "3.12.5"
  },
  "papermill": {
   "default_parameters": {},
   "duration": 18.650113,
   "end_time": "2025-05-15T16:15:43.244159",
   "environment_variables": {},
   "exception": null,
   "input_path": "02_xgboost_fitting_external_20genes.ipynb",
   "output_path": "results_20/executed_notebooks/xgboost_fitting_external_CT_Plasma_GS_1_seed0.ipynb",
   "parameters": {
    "CELL_TYPE": "Plasma",
    "SEED": 1,
    "TEST_SPLIT_IDX": 0
   },
   "start_time": "2025-05-15T16:15:24.594046",
   "version": "2.6.0"
  }
 },
 "nbformat": 4,
 "nbformat_minor": 5
}