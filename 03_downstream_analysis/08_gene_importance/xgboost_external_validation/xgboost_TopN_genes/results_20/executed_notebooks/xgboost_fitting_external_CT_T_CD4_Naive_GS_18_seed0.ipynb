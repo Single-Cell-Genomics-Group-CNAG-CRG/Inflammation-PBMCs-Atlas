{
 "cells": [
  {
   "cell_type": "code",
   "execution_count": 1,
   "id": "418f16dc",
   "metadata": {
    "editable": true,
    "execution": {
     "iopub.execute_input": "2025-05-15T16:02:00.197704Z",
     "iopub.status.busy": "2025-05-15T16:02:00.197326Z",
     "iopub.status.idle": "2025-05-15T16:02:00.201650Z",
     "shell.execute_reply": "2025-05-15T16:02:00.201271Z"
    },
    "papermill": {
     "duration": 0.013233,
     "end_time": "2025-05-15T16:02:00.202742",
     "exception": false,
     "start_time": "2025-05-15T16:02:00.189509",
     "status": "completed"
    },
    "slideshow": {
     "slide_type": ""
    },
    "tags": [
     "parameters"
    ]
   },
   "outputs": [],
   "source": [
    "CELL_TYPE = 'pDC'\n",
    "N_GENES: int = 20\n",
    "SEED = 'shap_studyID' #'disease_NOstudy' 'study_NOdisease' or 'int' or 'shap_studyID'\n",
    "TEST_SPLIT_IDX: int = 1 #[0,4]"
   ]
  },
  {
   "cell_type": "code",
   "execution_count": 2,
   "id": "6e487680",
   "metadata": {
    "execution": {
     "iopub.execute_input": "2025-05-15T16:02:00.222883Z",
     "iopub.status.busy": "2025-05-15T16:02:00.222546Z",
     "iopub.status.idle": "2025-05-15T16:02:00.224902Z",
     "shell.execute_reply": "2025-05-15T16:02:00.224602Z"
    },
    "papermill": {
     "duration": 0.009488,
     "end_time": "2025-05-15T16:02:00.225826",
     "exception": false,
     "start_time": "2025-05-15T16:02:00.216338",
     "status": "completed"
    },
    "tags": [
     "injected-parameters"
    ]
   },
   "outputs": [],
   "source": [
    "# Parameters\n",
    "CELL_TYPE = \"T_CD4_Naive\"\n",
    "SEED = 18\n",
    "TEST_SPLIT_IDX = 0\n"
   ]
  },
  {
   "cell_type": "code",
   "execution_count": 3,
   "id": "7274a628",
   "metadata": {
    "execution": {
     "iopub.execute_input": "2025-05-15T16:02:00.252457Z",
     "iopub.status.busy": "2025-05-15T16:02:00.252302Z",
     "iopub.status.idle": "2025-05-15T16:02:00.254258Z",
     "shell.execute_reply": "2025-05-15T16:02:00.253956Z"
    },
    "papermill": {
     "duration": 0.023782,
     "end_time": "2025-05-15T16:02:00.255411",
     "exception": false,
     "start_time": "2025-05-15T16:02:00.231629",
     "status": "completed"
    },
    "tags": []
   },
   "outputs": [],
   "source": [
    "N_SPLITS: int = 5\n",
    "N_TRIALS: int = 50"
   ]
  },
  {
   "cell_type": "code",
   "execution_count": 4,
   "id": "67cb0981",
   "metadata": {
    "execution": {
     "iopub.execute_input": "2025-05-15T16:02:00.268612Z",
     "iopub.status.busy": "2025-05-15T16:02:00.268476Z",
     "iopub.status.idle": "2025-05-15T16:02:09.211493Z",
     "shell.execute_reply": "2025-05-15T16:02:09.211052Z"
    },
    "papermill": {
     "duration": 8.951606,
     "end_time": "2025-05-15T16:02:09.212904",
     "exception": false,
     "start_time": "2025-05-15T16:02:00.261298",
     "status": "completed"
    },
    "tags": []
   },
   "outputs": [],
   "source": [
    "import os\n",
    "import sys\n",
    "from pyprojroot.here import here\n",
    "import pandas as pd\n",
    "import anndata as ad\n",
    "import numpy as np\n",
    "import math\n",
    "from sklearn.model_selection import StratifiedGroupKFold\n",
    "from sklearn.preprocessing import LabelEncoder\n",
    "from sklearn.metrics import f1_score\n",
    "import matplotlib.pyplot as plt\n",
    "import seaborn as sns\n",
    "from itertools import product\n",
    "from sklearn.metrics import balanced_accuracy_score, f1_score\n",
    "import optuna\n",
    "\n",
    "import joblib\n",
    "import pickle\n",
    "import datetime\n",
    "\n",
    "import collections\n",
    "\n",
    "import xgboost\n",
    "from sklearn.preprocessing import LabelEncoder\n",
    "\n",
    "import scipy.sparse as ssp\n",
    "import joblib\n",
    "\n",
    "from dotenv import load_dotenv"
   ]
  },
  {
   "cell_type": "code",
   "execution_count": 5,
   "id": "1aa1bd49",
   "metadata": {
    "execution": {
     "iopub.execute_input": "2025-05-15T16:02:09.248917Z",
     "iopub.status.busy": "2025-05-15T16:02:09.248390Z",
     "iopub.status.idle": "2025-05-15T16:02:09.254826Z",
     "shell.execute_reply": "2025-05-15T16:02:09.254515Z"
    },
    "papermill": {
     "duration": 0.016943,
     "end_time": "2025-05-15T16:02:09.255758",
     "exception": false,
     "start_time": "2025-05-15T16:02:09.238815",
     "status": "completed"
    },
    "tags": []
   },
   "outputs": [
    {
     "data": {
      "text/plain": [
       "True"
      ]
     },
     "execution_count": 5,
     "metadata": {},
     "output_type": "execute_result"
    }
   ],
   "source": [
    "load_dotenv()"
   ]
  },
  {
   "cell_type": "markdown",
   "id": "2d4fa6fb",
   "metadata": {
    "papermill": {
     "duration": 0.008223,
     "end_time": "2025-05-15T16:02:09.273730",
     "exception": false,
     "start_time": "2025-05-15T16:02:09.265507",
     "status": "completed"
    },
    "tags": []
   },
   "source": [
    "# LOAD DATASET"
   ]
  },
  {
   "cell_type": "code",
   "execution_count": 6,
   "id": "28e2009d",
   "metadata": {
    "execution": {
     "iopub.execute_input": "2025-05-15T16:02:09.329387Z",
     "iopub.status.busy": "2025-05-15T16:02:09.328989Z",
     "iopub.status.idle": "2025-05-15T16:02:09.831789Z",
     "shell.execute_reply": "2025-05-15T16:02:09.831357Z"
    },
    "papermill": {
     "duration": 0.542384,
     "end_time": "2025-05-15T16:02:09.832702",
     "exception": false,
     "start_time": "2025-05-15T16:02:09.290318",
     "status": "completed"
    },
    "tags": []
   },
   "outputs": [],
   "source": [
    "train_adata = ad.read_h5ad(\n",
    "    here(f'03_downstream_analysis/08_gene_importance/xgboost_external_validation/xgboost_TopN_genes/data_cellTypes/EXTERNAL_{CELL_TYPE}.filtered.log1p.h5ad')\n",
    ")"
   ]
  },
  {
   "cell_type": "code",
   "execution_count": 7,
   "id": "b4e738e1",
   "metadata": {
    "execution": {
     "iopub.execute_input": "2025-05-15T16:02:09.912237Z",
     "iopub.status.busy": "2025-05-15T16:02:09.911861Z",
     "iopub.status.idle": "2025-05-15T16:02:09.938221Z",
     "shell.execute_reply": "2025-05-15T16:02:09.937886Z"
    },
    "papermill": {
     "duration": 0.041309,
     "end_time": "2025-05-15T16:02:09.939060",
     "exception": false,
     "start_time": "2025-05-15T16:02:09.897751",
     "status": "completed"
    },
    "tags": []
   },
   "outputs": [
    {
     "name": "stdout",
     "output_type": "stream",
     "text": [
      "['ENSG00000163660' 'ENSG00000228474' 'ENSG00000144802' 'ENSG00000120742'\n",
      " 'ENSG00000153234' 'ENSG00000145287' 'ENSG00000126214' 'ENSG00000139192'\n",
      " 'ENSG00000143110' 'ENSG00000141367' 'ENSG00000164308' 'ENSG00000163131'\n",
      " 'ENSG00000204287' 'ENSG00000172183' 'ENSG00000172005' 'ENSG00000186010'\n",
      " 'ENSG00000148908' 'ENSG00000068796' 'ENSG00000166681' 'ENSG00000090382'\n",
      " 'ENSG00000122862' 'ENSG00000005339' 'ENSG00000152778' 'ENSG00000223865'\n",
      " 'ENSG00000113263' 'ENSG00000164307' 'ENSG00000240065' 'ENSG00000142166'\n",
      " 'ENSG00000182117' 'ENSG00000131018' 'ENSG00000175768' 'ENSG00000111678'\n",
      " 'ENSG00000113811' 'ENSG00000122359' 'ENSG00000145220' 'ENSG00000167004'\n",
      " 'ENSG00000154814' 'ENSG00000241837' 'ENSG00000130429' 'ENSG00000182287'\n",
      " 'ENSG00000179218' 'ENSG00000019582' 'ENSG00000101347' 'ENSG00000166710'\n",
      " 'ENSG00000128524' 'ENSG00000129084' 'ENSG00000138107' 'ENSG00000148834'\n",
      " 'ENSG00000168685' 'ENSG00000179094' 'ENSG00000091409' 'ENSG00000082074'\n",
      " 'ENSG00000115415' 'ENSG00000213145' 'ENSG00000163659' 'ENSG00000065978'\n",
      " 'ENSG00000163931' 'ENSG00000115738' 'ENSG00000152495' 'ENSG00000121879'\n",
      " 'ENSG00000118971' 'ENSG00000196154' 'ENSG00000100100' 'ENSG00000134285'\n",
      " 'ENSG00000100393' 'ENSG00000142634' 'ENSG00000172531' 'ENSG00000107223'\n",
      " 'ENSG00000183172' 'ENSG00000175482' 'ENSG00000117523' 'ENSG00000187608'\n",
      " 'ENSG00000164104' 'ENSG00000143761' 'ENSG00000132510' 'ENSG00000204264'\n",
      " 'ENSG00000015475' 'ENSG00000138795' 'ENSG00000160255' 'ENSG00000068831'\n",
      " 'ENSG00000106605' 'ENSG00000104671' 'ENSG00000135968' 'ENSG00000164674'\n",
      " 'ENSG00000205220' 'ENSG00000103187' 'ENSG00000105373' 'ENSG00000104964'\n",
      " 'ENSG00000011600' 'ENSG00000198832' 'ENSG00000109321' 'ENSG00000100911'\n",
      " 'ENSG00000136732' 'ENSG00000090863' 'ENSG00000090554' 'ENSG00000088986'\n",
      " 'ENSG00000265972' 'ENSG00000175203' 'ENSG00000163191' 'ENSG00000152700'\n",
      " 'ENSG00000135720']\n"
     ]
    }
   ],
   "source": [
    "if SEED != 'all':\n",
    "    gene_subset = np.load(here(f'03_downstream_analysis/08_gene_importance/xgboost_external_validation/shap_gene_selection/gene_subsets_{N_GENES}/{CELL_TYPE}_{SEED}.npy'), allow_pickle=True)\n",
    "    train_adata = train_adata[:,gene_subset]\n",
    "    print(gene_subset)\n",
    "elif SEED == 'all':\n",
    "    print('Using all genes')\n",
    "else:\n",
    "    raise ValueError()"
   ]
  },
  {
   "cell_type": "code",
   "execution_count": 8,
   "id": "a3a6d2ca",
   "metadata": {
    "execution": {
     "iopub.execute_input": "2025-05-15T16:02:10.028047Z",
     "iopub.status.busy": "2025-05-15T16:02:10.027741Z",
     "iopub.status.idle": "2025-05-15T16:02:10.031507Z",
     "shell.execute_reply": "2025-05-15T16:02:10.031063Z"
    },
    "papermill": {
     "duration": 0.059029,
     "end_time": "2025-05-15T16:02:10.032277",
     "exception": false,
     "start_time": "2025-05-15T16:02:09.973248",
     "status": "completed"
    },
    "tags": []
   },
   "outputs": [
    {
     "data": {
      "text/plain": [
       "(85497, 101)"
      ]
     },
     "execution_count": 8,
     "metadata": {},
     "output_type": "execute_result"
    }
   ],
   "source": [
    "train_adata.shape"
   ]
  },
  {
   "cell_type": "code",
   "execution_count": 9,
   "id": "fb27977d",
   "metadata": {
    "execution": {
     "iopub.execute_input": "2025-05-15T16:02:10.060443Z",
     "iopub.status.busy": "2025-05-15T16:02:10.060072Z",
     "iopub.status.idle": "2025-05-15T16:02:10.064479Z",
     "shell.execute_reply": "2025-05-15T16:02:10.064164Z"
    },
    "papermill": {
     "duration": 0.018157,
     "end_time": "2025-05-15T16:02:10.065220",
     "exception": false,
     "start_time": "2025-05-15T16:02:10.047063",
     "status": "completed"
    },
    "tags": []
   },
   "outputs": [
    {
     "data": {
      "text/plain": [
       "['RA', 'COVID', 'healthy', 'HIV', 'cirrhosis', 'CD', 'SLE', 'sepsis']\n",
       "Categories (8, object): ['CD', 'COVID', 'HIV', 'RA', 'SLE', 'cirrhosis', 'healthy', 'sepsis']"
      ]
     },
     "execution_count": 9,
     "metadata": {},
     "output_type": "execute_result"
    }
   ],
   "source": [
    "train_adata.obs.disease.unique()"
   ]
  },
  {
   "cell_type": "code",
   "execution_count": 10,
   "id": "d8b45d64",
   "metadata": {
    "execution": {
     "iopub.execute_input": "2025-05-15T16:02:10.102505Z",
     "iopub.status.busy": "2025-05-15T16:02:10.102140Z",
     "iopub.status.idle": "2025-05-15T16:02:10.106594Z",
     "shell.execute_reply": "2025-05-15T16:02:10.106284Z"
    },
    "papermill": {
     "duration": 0.034659,
     "end_time": "2025-05-15T16:02:10.107411",
     "exception": false,
     "start_time": "2025-05-15T16:02:10.072752",
     "status": "completed"
    },
    "tags": []
   },
   "outputs": [
    {
     "data": {
      "text/plain": [
       "['SCGT00val_I036016_T0', 'SCGT00val_I036019_T0', 'SCGT00val_I036023_T0', 'SCGT00val_I036015_T0', 'SCGT00val_I036028_T0', ..., '10XGenomics_10XHC2_T0', '10XGenomics_10XHC3_T0', '10XGenomics_10XHC5_T0', '10XGenomics_10XHC7_T0', '10XGenomics_10XHC8_T0']\n",
       "Length: 86\n",
       "Categories (86, object): ['10XGenomics_10XHC1_T0', '10XGenomics_10XHC2_T0', '10XGenomics_10XHC3_T0', '10XGenomics_10XHC4_T0', ..., 'Savage2021_BRISL6_T0', 'Savage2021_BRISL7_T0', 'Savage2021_PIDA_T0', 'Savage2021_PIDB_T0']"
      ]
     },
     "execution_count": 10,
     "metadata": {},
     "output_type": "execute_result"
    }
   ],
   "source": [
    "train_adata.obs.sampleID.unique()"
   ]
  },
  {
   "cell_type": "code",
   "execution_count": 11,
   "id": "d6142c87",
   "metadata": {
    "execution": {
     "iopub.execute_input": "2025-05-15T16:02:10.163047Z",
     "iopub.status.busy": "2025-05-15T16:02:10.162692Z",
     "iopub.status.idle": "2025-05-15T16:02:10.373094Z",
     "shell.execute_reply": "2025-05-15T16:02:10.372658Z"
    },
    "papermill": {
     "duration": 0.237193,
     "end_time": "2025-05-15T16:02:10.373932",
     "exception": false,
     "start_time": "2025-05-15T16:02:10.136739",
     "status": "completed"
    },
    "tags": []
   },
   "outputs": [],
   "source": [
    "all_idxs = np.arange(train_adata.obs.shape[0])\n",
    "left_out_splits = [s[1] for s in StratifiedGroupKFold(n_splits=N_SPLITS).split(all_idxs, train_adata.obs.disease, train_adata.obs.sampleID)]"
   ]
  },
  {
   "cell_type": "code",
   "execution_count": 12,
   "id": "8cfd96e1",
   "metadata": {
    "execution": {
     "iopub.execute_input": "2025-05-15T16:02:10.418450Z",
     "iopub.status.busy": "2025-05-15T16:02:10.418015Z",
     "iopub.status.idle": "2025-05-15T16:02:10.421544Z",
     "shell.execute_reply": "2025-05-15T16:02:10.421230Z"
    },
    "papermill": {
     "duration": 0.029041,
     "end_time": "2025-05-15T16:02:10.422313",
     "exception": false,
     "start_time": "2025-05-15T16:02:10.393272",
     "status": "completed"
    },
    "tags": []
   },
   "outputs": [
    {
     "data": {
      "text/plain": [
       "([2, 3, 4], 1, 0)"
      ]
     },
     "execution_count": 12,
     "metadata": {},
     "output_type": "execute_result"
    }
   ],
   "source": [
    "TRAIN_SPLIT_IDXS = [0,1,2,3,4]\n",
    "VAL_SPLIT_IDX = (TEST_SPLIT_IDX + 1) % 5\n",
    "TRAIN_SPLIT_IDXS.remove(TEST_SPLIT_IDX)\n",
    "TRAIN_SPLIT_IDXS.remove(VAL_SPLIT_IDX)\n",
    "TRAIN_SPLIT_IDXS, VAL_SPLIT_IDX, TEST_SPLIT_IDX"
   ]
  },
  {
   "cell_type": "code",
   "execution_count": 13,
   "id": "c1b4660f",
   "metadata": {
    "execution": {
     "iopub.execute_input": "2025-05-15T16:02:10.451187Z",
     "iopub.status.busy": "2025-05-15T16:02:10.450847Z",
     "iopub.status.idle": "2025-05-15T16:02:10.453402Z",
     "shell.execute_reply": "2025-05-15T16:02:10.453089Z"
    },
    "papermill": {
     "duration": 0.023737,
     "end_time": "2025-05-15T16:02:10.454207",
     "exception": false,
     "start_time": "2025-05-15T16:02:10.430470",
     "status": "completed"
    },
    "tags": []
   },
   "outputs": [],
   "source": [
    "train_idxs = np.concatenate([left_out_splits[idx] for idx in TRAIN_SPLIT_IDXS])\n",
    "val_idxs = left_out_splits[VAL_SPLIT_IDX]\n",
    "test_idxs = left_out_splits[TEST_SPLIT_IDX]"
   ]
  },
  {
   "cell_type": "markdown",
   "id": "37fe0d18",
   "metadata": {
    "papermill": {
     "duration": 0.049184,
     "end_time": "2025-05-15T16:02:10.517583",
     "exception": false,
     "start_time": "2025-05-15T16:02:10.468399",
     "status": "completed"
    },
    "tags": []
   },
   "source": [
    "### SUBSET DATASET INTO TRAIN/TEST/VAL SPLITS"
   ]
  },
  {
   "cell_type": "code",
   "execution_count": 14,
   "id": "06f8fbf9",
   "metadata": {
    "execution": {
     "iopub.execute_input": "2025-05-15T16:02:10.559234Z",
     "iopub.status.busy": "2025-05-15T16:02:10.558876Z",
     "iopub.status.idle": "2025-05-15T16:02:10.759579Z",
     "shell.execute_reply": "2025-05-15T16:02:10.759227Z"
    },
    "papermill": {
     "duration": 0.230315,
     "end_time": "2025-05-15T16:02:10.760353",
     "exception": false,
     "start_time": "2025-05-15T16:02:10.530038",
     "status": "completed"
    },
    "tags": []
   },
   "outputs": [
    {
     "data": {
      "text/plain": [
       "((52083, 101), (16398, 101), (17016, 101))"
      ]
     },
     "execution_count": 14,
     "metadata": {},
     "output_type": "execute_result"
    }
   ],
   "source": [
    "X_train = train_adata.X[train_idxs]\n",
    "X_test = train_adata.X[test_idxs]\n",
    "X_val = train_adata.X[val_idxs]\n",
    "X_train.shape, X_test.shape, X_val.shape"
   ]
  },
  {
   "cell_type": "code",
   "execution_count": 15,
   "id": "a70c40a0",
   "metadata": {
    "execution": {
     "iopub.execute_input": "2025-05-15T16:02:10.795095Z",
     "iopub.status.busy": "2025-05-15T16:02:10.794774Z",
     "iopub.status.idle": "2025-05-15T16:02:10.805816Z",
     "shell.execute_reply": "2025-05-15T16:02:10.805466Z"
    },
    "papermill": {
     "duration": 0.022058,
     "end_time": "2025-05-15T16:02:10.806592",
     "exception": false,
     "start_time": "2025-05-15T16:02:10.784534",
     "status": "completed"
    },
    "tags": []
   },
   "outputs": [
    {
     "data": {
      "text/plain": [
       "((52083,), (16398,), (17016,))"
      ]
     },
     "execution_count": 15,
     "metadata": {},
     "output_type": "execute_result"
    }
   ],
   "source": [
    "y_train = train_adata.obs.iloc[train_idxs].disease.values.astype(str)\n",
    "y_test = train_adata.obs.iloc[test_idxs].disease.values.astype(str)\n",
    "y_val = train_adata.obs.iloc[val_idxs].disease.values.astype(str)\n",
    "y_train.shape, y_test.shape, y_val.shape"
   ]
  },
  {
   "cell_type": "code",
   "execution_count": 16,
   "id": "99553047",
   "metadata": {
    "execution": {
     "iopub.execute_input": "2025-05-15T16:02:10.863466Z",
     "iopub.status.busy": "2025-05-15T16:02:10.863090Z",
     "iopub.status.idle": "2025-05-15T16:02:10.883133Z",
     "shell.execute_reply": "2025-05-15T16:02:10.882732Z"
    },
    "papermill": {
     "duration": 0.036679,
     "end_time": "2025-05-15T16:02:10.883977",
     "exception": false,
     "start_time": "2025-05-15T16:02:10.847298",
     "status": "completed"
    },
    "tags": []
   },
   "outputs": [],
   "source": [
    "lenc = LabelEncoder()\n",
    "y_train_enc = lenc.fit_transform(y_train)\n",
    "y_val_enc = lenc.transform(y_val)\n",
    "y_test_enc = lenc.transform(y_test)"
   ]
  },
  {
   "cell_type": "markdown",
   "id": "6615acaa",
   "metadata": {
    "papermill": {
     "duration": 0.010824,
     "end_time": "2025-05-15T16:02:10.907065",
     "exception": false,
     "start_time": "2025-05-15T16:02:10.896241",
     "status": "completed"
    },
    "tags": []
   },
   "source": [
    "### GENERATE F1 "
   ]
  },
  {
   "cell_type": "code",
   "execution_count": 17,
   "id": "e20f2a16",
   "metadata": {
    "execution": {
     "iopub.execute_input": "2025-05-15T16:02:10.947035Z",
     "iopub.status.busy": "2025-05-15T16:02:10.946679Z",
     "iopub.status.idle": "2025-05-15T16:02:10.949179Z",
     "shell.execute_reply": "2025-05-15T16:02:10.948874Z"
    },
    "papermill": {
     "duration": 0.024407,
     "end_time": "2025-05-15T16:02:10.949940",
     "exception": false,
     "start_time": "2025-05-15T16:02:10.925533",
     "status": "completed"
    },
    "tags": []
   },
   "outputs": [],
   "source": [
    "def custom_f1_score(y_true, y_pred):\n",
    "    return -f1_score(y_true, y_pred.argmax(1), average='weighted')"
   ]
  },
  {
   "cell_type": "code",
   "execution_count": 18,
   "id": "21f13117",
   "metadata": {
    "execution": {
     "iopub.execute_input": "2025-05-15T16:02:11.004496Z",
     "iopub.status.busy": "2025-05-15T16:02:11.004104Z",
     "iopub.status.idle": "2025-05-15T16:02:11.008024Z",
     "shell.execute_reply": "2025-05-15T16:02:11.007723Z"
    },
    "papermill": {
     "duration": 0.036598,
     "end_time": "2025-05-15T16:02:11.008802",
     "exception": false,
     "start_time": "2025-05-15T16:02:10.972204",
     "status": "completed"
    },
    "tags": []
   },
   "outputs": [],
   "source": [
    "eval_metric=custom_f1_score\n",
    "eval_metric_name='custom_f1_score'\n",
    "\n",
    "def objective(trial):\n",
    "    params = {\n",
    "        'n_estimators': 1500,\n",
    "        'max_depth': trial.suggest_int('max_depth', 3, 20),\n",
    "        'min_child_weight': trial.suggest_int('min_child_weight', 1, 250),\n",
    "        'subsample': trial.suggest_float('subsample', 0.1, 1.0),\n",
    "        'colsample_bynode': trial.suggest_float('colsample_bynode', 0.1, 1.0),\n",
    "        'learning_rate': trial.suggest_float('learning_rate', 1e-3, 5e-1, log=True),\n",
    "    }\n",
    "    pruning_callback = optuna.integration.XGBoostPruningCallback(trial, f'validation_0-{eval_metric_name}')\n",
    "    es_callback = xgboost.callback.EarlyStopping(20, min_delta=0.001)\n",
    "    xgb = xgboost.XGBClassifier(\n",
    "        eval_metric=eval_metric,\n",
    "        callbacks=[pruning_callback, es_callback],\n",
    "        n_jobs=5,\n",
    "        **params\n",
    "    )\n",
    "    xgb.fit(\n",
    "        X_train, \n",
    "        y_train_enc, \n",
    "        verbose=0,\n",
    "        eval_set=[(X_val, y_val_enc)],\n",
    "    )\n",
    "    trial.set_user_attr('best_iteration', xgb.best_iteration)\n",
    "\n",
    "    return xgb.best_score"
   ]
  },
  {
   "cell_type": "code",
   "execution_count": 19,
   "id": "608f2c99",
   "metadata": {
    "execution": {
     "iopub.execute_input": "2025-05-15T16:02:11.083812Z",
     "iopub.status.busy": "2025-05-15T16:02:11.083447Z",
     "iopub.status.idle": "2025-05-15T16:12:08.080756Z",
     "shell.execute_reply": "2025-05-15T16:12:08.080188Z"
    },
    "papermill": {
     "duration": 597.040851,
     "end_time": "2025-05-15T16:12:08.082402",
     "exception": false,
     "start_time": "2025-05-15T16:02:11.041551",
     "status": "completed"
    },
    "scrolled": true,
    "tags": []
   },
   "outputs": [
    {
     "name": "stderr",
     "output_type": "stream",
     "text": [
      "[I 2025-05-15 18:02:11,085] A new study created in memory with name: no-name-7526f960-6709-4b6a-b26e-96cfee248aa6\n"
     ]
    },
    {
     "name": "stderr",
     "output_type": "stream",
     "text": [
      "[I 2025-05-15 18:02:17,350] Trial 0 finished with value: -0.638448 and parameters: {'max_depth': 9, 'min_child_weight': 238, 'subsample': 0.7587945476302645, 'colsample_bynode': 0.6387926357773329, 'learning_rate': 0.0026368755339723046}. Best is trial 0 with value: -0.638448.\n"
     ]
    },
    {
     "name": "stderr",
     "output_type": "stream",
     "text": [
      "[I 2025-05-15 18:02:48,581] Trial 1 finished with value: -0.771533 and parameters: {'max_depth': 5, 'min_child_weight': 15, 'subsample': 0.8795585311974417, 'colsample_bynode': 0.6410035105688879, 'learning_rate': 0.08148293210105287}. Best is trial 1 with value: -0.771533.\n"
     ]
    },
    {
     "name": "stderr",
     "output_type": "stream",
     "text": [
      "[I 2025-05-15 18:02:55,065] Trial 2 finished with value: -0.614358 and parameters: {'max_depth': 3, 'min_child_weight': 243, 'subsample': 0.8491983767203796, 'colsample_bynode': 0.29110519961044856, 'learning_rate': 0.003095566460242371}. Best is trial 1 with value: -0.771533.\n"
     ]
    },
    {
     "name": "stderr",
     "output_type": "stream",
     "text": [
      "[I 2025-05-15 18:03:41,643] Trial 3 finished with value: -0.712417 and parameters: {'max_depth': 6, 'min_child_weight': 77, 'subsample': 0.5722807884690141, 'colsample_bynode': 0.48875051677790415, 'learning_rate': 0.006109683510122491}. Best is trial 1 with value: -0.771533.\n"
     ]
    },
    {
     "name": "stderr",
     "output_type": "stream",
     "text": [
      "[I 2025-05-15 18:05:03,760] Trial 4 finished with value: -0.765893 and parameters: {'max_depth': 14, 'min_child_weight': 35, 'subsample': 0.3629301836816964, 'colsample_bynode': 0.4297256589643226, 'learning_rate': 0.01701841881702917}. Best is trial 1 with value: -0.771533.\n"
     ]
    },
    {
     "name": "stderr",
     "output_type": "stream",
     "text": [
      "[I 2025-05-15 18:05:11,951] Trial 5 finished with value: -0.687764 and parameters: {'max_depth': 17, 'min_child_weight': 50, 'subsample': 0.5628109945722505, 'colsample_bynode': 0.6331731119758383, 'learning_rate': 0.0013346527038305934}. Best is trial 1 with value: -0.771533.\n"
     ]
    },
    {
     "name": "stderr",
     "output_type": "stream",
     "text": [
      "[I 2025-05-15 18:05:12,332] Trial 6 pruned. Trial was pruned at iteration 0.\n"
     ]
    },
    {
     "name": "stderr",
     "output_type": "stream",
     "text": [
      "[I 2025-05-15 18:05:12,695] Trial 7 pruned. Trial was pruned at iteration 0.\n"
     ]
    },
    {
     "name": "stderr",
     "output_type": "stream",
     "text": [
      "[I 2025-05-15 18:05:13,037] Trial 8 pruned. Trial was pruned at iteration 0.\n"
     ]
    },
    {
     "name": "stderr",
     "output_type": "stream",
     "text": [
      "[I 2025-05-15 18:05:14,004] Trial 9 pruned. Trial was pruned at iteration 3.\n"
     ]
    },
    {
     "name": "stderr",
     "output_type": "stream",
     "text": [
      "[I 2025-05-15 18:05:37,652] Trial 10 finished with value: -0.770718 and parameters: {'max_depth': 9, 'min_child_weight': 2, 'subsample': 0.9725833997090791, 'colsample_bynode': 0.11616568805333755, 'learning_rate': 0.17780618353487967}. Best is trial 1 with value: -0.771533.\n"
     ]
    },
    {
     "name": "stderr",
     "output_type": "stream",
     "text": [
      "[I 2025-05-15 18:06:15,828] Trial 11 finished with value: -0.776764 and parameters: {'max_depth': 9, 'min_child_weight': 4, 'subsample': 0.9818290990185045, 'colsample_bynode': 0.17702656156719, 'learning_rate': 0.11568531411766632}. Best is trial 11 with value: -0.776764.\n"
     ]
    },
    {
     "name": "stderr",
     "output_type": "stream",
     "text": [
      "[I 2025-05-15 18:06:41,336] Trial 12 pruned. Trial was pruned at iteration 87.\n"
     ]
    },
    {
     "name": "stderr",
     "output_type": "stream",
     "text": [
      "[I 2025-05-15 18:06:41,765] Trial 13 pruned. Trial was pruned at iteration 0.\n"
     ]
    },
    {
     "name": "stderr",
     "output_type": "stream",
     "text": [
      "[I 2025-05-15 18:06:42,191] Trial 14 pruned. Trial was pruned at iteration 0.\n"
     ]
    },
    {
     "name": "stderr",
     "output_type": "stream",
     "text": [
      "[I 2025-05-15 18:07:25,127] Trial 15 finished with value: -0.769979 and parameters: {'max_depth': 20, 'min_child_weight': 1, 'subsample': 0.7012908959710442, 'colsample_bynode': 0.2540835086298475, 'learning_rate': 0.2833114876720916}. Best is trial 11 with value: -0.776764.\n"
     ]
    },
    {
     "name": "stderr",
     "output_type": "stream",
     "text": [
      "[I 2025-05-15 18:07:25,530] Trial 16 pruned. Trial was pruned at iteration 0.\n"
     ]
    },
    {
     "name": "stderr",
     "output_type": "stream",
     "text": [
      "[I 2025-05-15 18:07:25,970] Trial 17 pruned. Trial was pruned at iteration 0.\n"
     ]
    },
    {
     "name": "stderr",
     "output_type": "stream",
     "text": [
      "[I 2025-05-15 18:07:55,850] Trial 18 finished with value: -0.78076 and parameters: {'max_depth': 11, 'min_child_weight': 37, 'subsample': 0.8988001325877066, 'colsample_bynode': 0.3955466156360019, 'learning_rate': 0.13348559174149954}. Best is trial 18 with value: -0.78076.\n"
     ]
    },
    {
     "name": "stderr",
     "output_type": "stream",
     "text": [
      "[I 2025-05-15 18:07:56,514] Trial 19 pruned. Trial was pruned at iteration 1.\n"
     ]
    },
    {
     "name": "stderr",
     "output_type": "stream",
     "text": [
      "[I 2025-05-15 18:08:03,799] Trial 20 pruned. Trial was pruned at iteration 36.\n"
     ]
    },
    {
     "name": "stderr",
     "output_type": "stream",
     "text": [
      "[I 2025-05-15 18:08:15,344] Trial 21 pruned. Trial was pruned at iteration 52.\n"
     ]
    },
    {
     "name": "stderr",
     "output_type": "stream",
     "text": [
      "[I 2025-05-15 18:08:15,782] Trial 22 pruned. Trial was pruned at iteration 0.\n"
     ]
    },
    {
     "name": "stderr",
     "output_type": "stream",
     "text": [
      "[I 2025-05-15 18:08:24,916] Trial 23 pruned. Trial was pruned at iteration 36.\n"
     ]
    },
    {
     "name": "stderr",
     "output_type": "stream",
     "text": [
      "[I 2025-05-15 18:08:34,876] Trial 24 pruned. Trial was pruned at iteration 52.\n"
     ]
    },
    {
     "name": "stderr",
     "output_type": "stream",
     "text": [
      "[I 2025-05-15 18:08:56,155] Trial 25 finished with value: -0.785311 and parameters: {'max_depth': 16, 'min_child_weight': 19, 'subsample': 0.6754107179778135, 'colsample_bynode': 0.27030683143201956, 'learning_rate': 0.23168559901409894}. Best is trial 25 with value: -0.785311.\n"
     ]
    },
    {
     "name": "stderr",
     "output_type": "stream",
     "text": [
      "[I 2025-05-15 18:08:56,598] Trial 26 pruned. Trial was pruned at iteration 0.\n"
     ]
    },
    {
     "name": "stderr",
     "output_type": "stream",
     "text": [
      "[I 2025-05-15 18:09:16,577] Trial 27 finished with value: -0.781483 and parameters: {'max_depth': 20, 'min_child_weight': 17, 'subsample': 0.6451461746298132, 'colsample_bynode': 0.20899205720966268, 'learning_rate': 0.24298939546043904}. Best is trial 25 with value: -0.785311.\n"
     ]
    },
    {
     "name": "stderr",
     "output_type": "stream",
     "text": [
      "[I 2025-05-15 18:09:17,080] Trial 28 pruned. Trial was pruned at iteration 0.\n"
     ]
    },
    {
     "name": "stderr",
     "output_type": "stream",
     "text": [
      "[I 2025-05-15 18:09:17,491] Trial 29 pruned. Trial was pruned at iteration 0.\n"
     ]
    },
    {
     "name": "stderr",
     "output_type": "stream",
     "text": [
      "[I 2025-05-15 18:09:17,909] Trial 30 pruned. Trial was pruned at iteration 0.\n"
     ]
    },
    {
     "name": "stderr",
     "output_type": "stream",
     "text": [
      "[I 2025-05-15 18:09:48,574] Trial 31 finished with value: -0.778133 and parameters: {'max_depth': 19, 'min_child_weight': 17, 'subsample': 0.7850784888873833, 'colsample_bynode': 0.1952708875915334, 'learning_rate': 0.12071327623908129}. Best is trial 25 with value: -0.785311.\n"
     ]
    },
    {
     "name": "stderr",
     "output_type": "stream",
     "text": [
      "[I 2025-05-15 18:09:49,113] Trial 32 pruned. Trial was pruned at iteration 0.\n"
     ]
    },
    {
     "name": "stderr",
     "output_type": "stream",
     "text": [
      "[I 2025-05-15 18:09:59,341] Trial 33 finished with value: -0.780072 and parameters: {'max_depth': 19, 'min_child_weight': 34, 'subsample': 0.8054568988710126, 'colsample_bynode': 0.2912791301394042, 'learning_rate': 0.47899377689936223}. Best is trial 25 with value: -0.785311.\n"
     ]
    },
    {
     "name": "stderr",
     "output_type": "stream",
     "text": [
      "[I 2025-05-15 18:09:59,843] Trial 34 pruned. Trial was pruned at iteration 0.\n"
     ]
    },
    {
     "name": "stderr",
     "output_type": "stream",
     "text": [
      "[I 2025-05-15 18:10:00,297] Trial 35 pruned. Trial was pruned at iteration 0.\n"
     ]
    },
    {
     "name": "stderr",
     "output_type": "stream",
     "text": [
      "[I 2025-05-15 18:10:00,754] Trial 36 pruned. Trial was pruned at iteration 0.\n"
     ]
    },
    {
     "name": "stderr",
     "output_type": "stream",
     "text": [
      "[I 2025-05-15 18:10:24,114] Trial 37 finished with value: -0.78439 and parameters: {'max_depth': 13, 'min_child_weight': 44, 'subsample': 0.9264464707285464, 'colsample_bynode': 0.3383236332114068, 'learning_rate': 0.22837278970433278}. Best is trial 25 with value: -0.785311.\n"
     ]
    },
    {
     "name": "stderr",
     "output_type": "stream",
     "text": [
      "[I 2025-05-15 18:10:24,534] Trial 38 pruned. Trial was pruned at iteration 0.\n"
     ]
    },
    {
     "name": "stderr",
     "output_type": "stream",
     "text": [
      "[I 2025-05-15 18:10:24,980] Trial 39 pruned. Trial was pruned at iteration 0.\n"
     ]
    },
    {
     "name": "stderr",
     "output_type": "stream",
     "text": [
      "[I 2025-05-15 18:10:25,656] Trial 40 pruned. Trial was pruned at iteration 1.\n"
     ]
    },
    {
     "name": "stderr",
     "output_type": "stream",
     "text": [
      "[I 2025-05-15 18:10:43,674] Trial 41 finished with value: -0.783924 and parameters: {'max_depth': 15, 'min_child_weight': 31, 'subsample': 0.8190717775245373, 'colsample_bynode': 0.3315123117159998, 'learning_rate': 0.38098331385873163}. Best is trial 25 with value: -0.785311.\n"
     ]
    },
    {
     "name": "stderr",
     "output_type": "stream",
     "text": [
      "[I 2025-05-15 18:11:06,696] Trial 42 finished with value: -0.781034 and parameters: {'max_depth': 14, 'min_child_weight': 17, 'subsample': 0.830995402266308, 'colsample_bynode': 0.3212931268146935, 'learning_rate': 0.19976289306638795}. Best is trial 25 with value: -0.785311.\n"
     ]
    },
    {
     "name": "stderr",
     "output_type": "stream",
     "text": [
      "[I 2025-05-15 18:11:09,183] Trial 43 pruned. Trial was pruned at iteration 6.\n"
     ]
    },
    {
     "name": "stderr",
     "output_type": "stream",
     "text": [
      "[I 2025-05-15 18:11:35,466] Trial 44 finished with value: -0.780747 and parameters: {'max_depth': 14, 'min_child_weight': 14, 'subsample': 0.8471362249529754, 'colsample_bynode': 0.26888341312349273, 'learning_rate': 0.19751723232471133}. Best is trial 25 with value: -0.785311.\n"
     ]
    },
    {
     "name": "stderr",
     "output_type": "stream",
     "text": [
      "[I 2025-05-15 18:11:35,977] Trial 45 pruned. Trial was pruned at iteration 0.\n"
     ]
    },
    {
     "name": "stderr",
     "output_type": "stream",
     "text": [
      "[I 2025-05-15 18:12:00,596] Trial 46 finished with value: -0.781752 and parameters: {'max_depth': 15, 'min_child_weight': 12, 'subsample': 0.5830440475684977, 'colsample_bynode': 0.34267856652549866, 'learning_rate': 0.252362765548872}. Best is trial 25 with value: -0.785311.\n"
     ]
    },
    {
     "name": "stderr",
     "output_type": "stream",
     "text": [
      "[I 2025-05-15 18:12:01,259] Trial 47 pruned. Trial was pruned at iteration 1.\n"
     ]
    },
    {
     "name": "stderr",
     "output_type": "stream",
     "text": [
      "[I 2025-05-15 18:12:07,397] Trial 48 pruned. Trial was pruned at iteration 14.\n"
     ]
    },
    {
     "name": "stderr",
     "output_type": "stream",
     "text": [
      "[I 2025-05-15 18:12:07,971] Trial 49 pruned. Trial was pruned at iteration 0.\n"
     ]
    }
   ],
   "source": [
    "sampler = optuna.samplers.TPESampler(seed=42)\n",
    "study = optuna.create_study(direction='minimize', sampler=sampler)\n",
    "study.optimize(objective, n_trials=N_TRIALS, gc_after_trial=True)"
   ]
  },
  {
   "cell_type": "code",
   "execution_count": 20,
   "id": "7d527866",
   "metadata": {
    "execution": {
     "iopub.execute_input": "2025-05-15T16:12:08.112455Z",
     "iopub.status.busy": "2025-05-15T16:12:08.112263Z",
     "iopub.status.idle": "2025-05-15T16:12:08.192064Z",
     "shell.execute_reply": "2025-05-15T16:12:08.191643Z"
    },
    "papermill": {
     "duration": 0.095946,
     "end_time": "2025-05-15T16:12:08.193421",
     "exception": false,
     "start_time": "2025-05-15T16:12:08.097475",
     "status": "completed"
    },
    "tags": []
   },
   "outputs": [
    {
     "data": {
      "text/plain": [
       "['/scratch_isilon/groups/singlecell/shared/projects/Inflammation-PBMCs-Atlas/03_downstream_analysis/08_gene_importance/xgboost_external_validation/xgboost_TopN_genes/results_20/study/T_CD4_Naive_18_0_xgboost.pkl']"
      ]
     },
     "execution_count": 20,
     "metadata": {},
     "output_type": "execute_result"
    }
   ],
   "source": [
    "out_dir = here(f'03_downstream_analysis/08_gene_importance/xgboost_external_validation/xgboost_TopN_genes/results_{N_GENES}/study')\n",
    "\n",
    "if not os.path.exists(out_dir):\n",
    "    os.makedirs(out_dir)\n",
    "    \n",
    "joblib.dump(study,os.path.join(out_dir, f'{CELL_TYPE}_{SEED}_{TEST_SPLIT_IDX}_xgboost.pkl'))"
   ]
  },
  {
   "cell_type": "code",
   "execution_count": 21,
   "id": "d5380776",
   "metadata": {
    "execution": {
     "iopub.execute_input": "2025-05-15T16:12:08.222485Z",
     "iopub.status.busy": "2025-05-15T16:12:08.222308Z",
     "iopub.status.idle": "2025-05-15T16:12:21.858875Z",
     "shell.execute_reply": "2025-05-15T16:12:21.858342Z"
    },
    "papermill": {
     "duration": 13.655132,
     "end_time": "2025-05-15T16:12:21.860144",
     "exception": false,
     "start_time": "2025-05-15T16:12:08.205012",
     "status": "completed"
    },
    "tags": []
   },
   "outputs": [
    {
     "data": {
      "text/html": [
       "<style>#sk-container-id-1 {\n",
       "  /* Definition of color scheme common for light and dark mode */\n",
       "  --sklearn-color-text: black;\n",
       "  --sklearn-color-line: gray;\n",
       "  /* Definition of color scheme for unfitted estimators */\n",
       "  --sklearn-color-unfitted-level-0: #fff5e6;\n",
       "  --sklearn-color-unfitted-level-1: #f6e4d2;\n",
       "  --sklearn-color-unfitted-level-2: #ffe0b3;\n",
       "  --sklearn-color-unfitted-level-3: chocolate;\n",
       "  /* Definition of color scheme for fitted estimators */\n",
       "  --sklearn-color-fitted-level-0: #f0f8ff;\n",
       "  --sklearn-color-fitted-level-1: #d4ebff;\n",
       "  --sklearn-color-fitted-level-2: #b3dbfd;\n",
       "  --sklearn-color-fitted-level-3: cornflowerblue;\n",
       "\n",
       "  /* Specific color for light theme */\n",
       "  --sklearn-color-text-on-default-background: var(--sg-text-color, var(--theme-code-foreground, var(--jp-content-font-color1, black)));\n",
       "  --sklearn-color-background: var(--sg-background-color, var(--theme-background, var(--jp-layout-color0, white)));\n",
       "  --sklearn-color-border-box: var(--sg-text-color, var(--theme-code-foreground, var(--jp-content-font-color1, black)));\n",
       "  --sklearn-color-icon: #696969;\n",
       "\n",
       "  @media (prefers-color-scheme: dark) {\n",
       "    /* Redefinition of color scheme for dark theme */\n",
       "    --sklearn-color-text-on-default-background: var(--sg-text-color, var(--theme-code-foreground, var(--jp-content-font-color1, white)));\n",
       "    --sklearn-color-background: var(--sg-background-color, var(--theme-background, var(--jp-layout-color0, #111)));\n",
       "    --sklearn-color-border-box: var(--sg-text-color, var(--theme-code-foreground, var(--jp-content-font-color1, white)));\n",
       "    --sklearn-color-icon: #878787;\n",
       "  }\n",
       "}\n",
       "\n",
       "#sk-container-id-1 {\n",
       "  color: var(--sklearn-color-text);\n",
       "}\n",
       "\n",
       "#sk-container-id-1 pre {\n",
       "  padding: 0;\n",
       "}\n",
       "\n",
       "#sk-container-id-1 input.sk-hidden--visually {\n",
       "  border: 0;\n",
       "  clip: rect(1px 1px 1px 1px);\n",
       "  clip: rect(1px, 1px, 1px, 1px);\n",
       "  height: 1px;\n",
       "  margin: -1px;\n",
       "  overflow: hidden;\n",
       "  padding: 0;\n",
       "  position: absolute;\n",
       "  width: 1px;\n",
       "}\n",
       "\n",
       "#sk-container-id-1 div.sk-dashed-wrapped {\n",
       "  border: 1px dashed var(--sklearn-color-line);\n",
       "  margin: 0 0.4em 0.5em 0.4em;\n",
       "  box-sizing: border-box;\n",
       "  padding-bottom: 0.4em;\n",
       "  background-color: var(--sklearn-color-background);\n",
       "}\n",
       "\n",
       "#sk-container-id-1 div.sk-container {\n",
       "  /* jupyter's `normalize.less` sets `[hidden] { display: none; }`\n",
       "     but bootstrap.min.css set `[hidden] { display: none !important; }`\n",
       "     so we also need the `!important` here to be able to override the\n",
       "     default hidden behavior on the sphinx rendered scikit-learn.org.\n",
       "     See: https://github.com/scikit-learn/scikit-learn/issues/21755 */\n",
       "  display: inline-block !important;\n",
       "  position: relative;\n",
       "}\n",
       "\n",
       "#sk-container-id-1 div.sk-text-repr-fallback {\n",
       "  display: none;\n",
       "}\n",
       "\n",
       "div.sk-parallel-item,\n",
       "div.sk-serial,\n",
       "div.sk-item {\n",
       "  /* draw centered vertical line to link estimators */\n",
       "  background-image: linear-gradient(var(--sklearn-color-text-on-default-background), var(--sklearn-color-text-on-default-background));\n",
       "  background-size: 2px 100%;\n",
       "  background-repeat: no-repeat;\n",
       "  background-position: center center;\n",
       "}\n",
       "\n",
       "/* Parallel-specific style estimator block */\n",
       "\n",
       "#sk-container-id-1 div.sk-parallel-item::after {\n",
       "  content: \"\";\n",
       "  width: 100%;\n",
       "  border-bottom: 2px solid var(--sklearn-color-text-on-default-background);\n",
       "  flex-grow: 1;\n",
       "}\n",
       "\n",
       "#sk-container-id-1 div.sk-parallel {\n",
       "  display: flex;\n",
       "  align-items: stretch;\n",
       "  justify-content: center;\n",
       "  background-color: var(--sklearn-color-background);\n",
       "  position: relative;\n",
       "}\n",
       "\n",
       "#sk-container-id-1 div.sk-parallel-item {\n",
       "  display: flex;\n",
       "  flex-direction: column;\n",
       "}\n",
       "\n",
       "#sk-container-id-1 div.sk-parallel-item:first-child::after {\n",
       "  align-self: flex-end;\n",
       "  width: 50%;\n",
       "}\n",
       "\n",
       "#sk-container-id-1 div.sk-parallel-item:last-child::after {\n",
       "  align-self: flex-start;\n",
       "  width: 50%;\n",
       "}\n",
       "\n",
       "#sk-container-id-1 div.sk-parallel-item:only-child::after {\n",
       "  width: 0;\n",
       "}\n",
       "\n",
       "/* Serial-specific style estimator block */\n",
       "\n",
       "#sk-container-id-1 div.sk-serial {\n",
       "  display: flex;\n",
       "  flex-direction: column;\n",
       "  align-items: center;\n",
       "  background-color: var(--sklearn-color-background);\n",
       "  padding-right: 1em;\n",
       "  padding-left: 1em;\n",
       "}\n",
       "\n",
       "\n",
       "/* Toggleable style: style used for estimator/Pipeline/ColumnTransformer box that is\n",
       "clickable and can be expanded/collapsed.\n",
       "- Pipeline and ColumnTransformer use this feature and define the default style\n",
       "- Estimators will overwrite some part of the style using the `sk-estimator` class\n",
       "*/\n",
       "\n",
       "/* Pipeline and ColumnTransformer style (default) */\n",
       "\n",
       "#sk-container-id-1 div.sk-toggleable {\n",
       "  /* Default theme specific background. It is overwritten whether we have a\n",
       "  specific estimator or a Pipeline/ColumnTransformer */\n",
       "  background-color: var(--sklearn-color-background);\n",
       "}\n",
       "\n",
       "/* Toggleable label */\n",
       "#sk-container-id-1 label.sk-toggleable__label {\n",
       "  cursor: pointer;\n",
       "  display: block;\n",
       "  width: 100%;\n",
       "  margin-bottom: 0;\n",
       "  padding: 0.5em;\n",
       "  box-sizing: border-box;\n",
       "  text-align: center;\n",
       "}\n",
       "\n",
       "#sk-container-id-1 label.sk-toggleable__label-arrow:before {\n",
       "  /* Arrow on the left of the label */\n",
       "  content: \"▸\";\n",
       "  float: left;\n",
       "  margin-right: 0.25em;\n",
       "  color: var(--sklearn-color-icon);\n",
       "}\n",
       "\n",
       "#sk-container-id-1 label.sk-toggleable__label-arrow:hover:before {\n",
       "  color: var(--sklearn-color-text);\n",
       "}\n",
       "\n",
       "/* Toggleable content - dropdown */\n",
       "\n",
       "#sk-container-id-1 div.sk-toggleable__content {\n",
       "  max-height: 0;\n",
       "  max-width: 0;\n",
       "  overflow: hidden;\n",
       "  text-align: left;\n",
       "  /* unfitted */\n",
       "  background-color: var(--sklearn-color-unfitted-level-0);\n",
       "}\n",
       "\n",
       "#sk-container-id-1 div.sk-toggleable__content.fitted {\n",
       "  /* fitted */\n",
       "  background-color: var(--sklearn-color-fitted-level-0);\n",
       "}\n",
       "\n",
       "#sk-container-id-1 div.sk-toggleable__content pre {\n",
       "  margin: 0.2em;\n",
       "  border-radius: 0.25em;\n",
       "  color: var(--sklearn-color-text);\n",
       "  /* unfitted */\n",
       "  background-color: var(--sklearn-color-unfitted-level-0);\n",
       "}\n",
       "\n",
       "#sk-container-id-1 div.sk-toggleable__content.fitted pre {\n",
       "  /* unfitted */\n",
       "  background-color: var(--sklearn-color-fitted-level-0);\n",
       "}\n",
       "\n",
       "#sk-container-id-1 input.sk-toggleable__control:checked~div.sk-toggleable__content {\n",
       "  /* Expand drop-down */\n",
       "  max-height: 200px;\n",
       "  max-width: 100%;\n",
       "  overflow: auto;\n",
       "}\n",
       "\n",
       "#sk-container-id-1 input.sk-toggleable__control:checked~label.sk-toggleable__label-arrow:before {\n",
       "  content: \"▾\";\n",
       "}\n",
       "\n",
       "/* Pipeline/ColumnTransformer-specific style */\n",
       "\n",
       "#sk-container-id-1 div.sk-label input.sk-toggleable__control:checked~label.sk-toggleable__label {\n",
       "  color: var(--sklearn-color-text);\n",
       "  background-color: var(--sklearn-color-unfitted-level-2);\n",
       "}\n",
       "\n",
       "#sk-container-id-1 div.sk-label.fitted input.sk-toggleable__control:checked~label.sk-toggleable__label {\n",
       "  background-color: var(--sklearn-color-fitted-level-2);\n",
       "}\n",
       "\n",
       "/* Estimator-specific style */\n",
       "\n",
       "/* Colorize estimator box */\n",
       "#sk-container-id-1 div.sk-estimator input.sk-toggleable__control:checked~label.sk-toggleable__label {\n",
       "  /* unfitted */\n",
       "  background-color: var(--sklearn-color-unfitted-level-2);\n",
       "}\n",
       "\n",
       "#sk-container-id-1 div.sk-estimator.fitted input.sk-toggleable__control:checked~label.sk-toggleable__label {\n",
       "  /* fitted */\n",
       "  background-color: var(--sklearn-color-fitted-level-2);\n",
       "}\n",
       "\n",
       "#sk-container-id-1 div.sk-label label.sk-toggleable__label,\n",
       "#sk-container-id-1 div.sk-label label {\n",
       "  /* The background is the default theme color */\n",
       "  color: var(--sklearn-color-text-on-default-background);\n",
       "}\n",
       "\n",
       "/* On hover, darken the color of the background */\n",
       "#sk-container-id-1 div.sk-label:hover label.sk-toggleable__label {\n",
       "  color: var(--sklearn-color-text);\n",
       "  background-color: var(--sklearn-color-unfitted-level-2);\n",
       "}\n",
       "\n",
       "/* Label box, darken color on hover, fitted */\n",
       "#sk-container-id-1 div.sk-label.fitted:hover label.sk-toggleable__label.fitted {\n",
       "  color: var(--sklearn-color-text);\n",
       "  background-color: var(--sklearn-color-fitted-level-2);\n",
       "}\n",
       "\n",
       "/* Estimator label */\n",
       "\n",
       "#sk-container-id-1 div.sk-label label {\n",
       "  font-family: monospace;\n",
       "  font-weight: bold;\n",
       "  display: inline-block;\n",
       "  line-height: 1.2em;\n",
       "}\n",
       "\n",
       "#sk-container-id-1 div.sk-label-container {\n",
       "  text-align: center;\n",
       "}\n",
       "\n",
       "/* Estimator-specific */\n",
       "#sk-container-id-1 div.sk-estimator {\n",
       "  font-family: monospace;\n",
       "  border: 1px dotted var(--sklearn-color-border-box);\n",
       "  border-radius: 0.25em;\n",
       "  box-sizing: border-box;\n",
       "  margin-bottom: 0.5em;\n",
       "  /* unfitted */\n",
       "  background-color: var(--sklearn-color-unfitted-level-0);\n",
       "}\n",
       "\n",
       "#sk-container-id-1 div.sk-estimator.fitted {\n",
       "  /* fitted */\n",
       "  background-color: var(--sklearn-color-fitted-level-0);\n",
       "}\n",
       "\n",
       "/* on hover */\n",
       "#sk-container-id-1 div.sk-estimator:hover {\n",
       "  /* unfitted */\n",
       "  background-color: var(--sklearn-color-unfitted-level-2);\n",
       "}\n",
       "\n",
       "#sk-container-id-1 div.sk-estimator.fitted:hover {\n",
       "  /* fitted */\n",
       "  background-color: var(--sklearn-color-fitted-level-2);\n",
       "}\n",
       "\n",
       "/* Specification for estimator info (e.g. \"i\" and \"?\") */\n",
       "\n",
       "/* Common style for \"i\" and \"?\" */\n",
       "\n",
       ".sk-estimator-doc-link,\n",
       "a:link.sk-estimator-doc-link,\n",
       "a:visited.sk-estimator-doc-link {\n",
       "  float: right;\n",
       "  font-size: smaller;\n",
       "  line-height: 1em;\n",
       "  font-family: monospace;\n",
       "  background-color: var(--sklearn-color-background);\n",
       "  border-radius: 1em;\n",
       "  height: 1em;\n",
       "  width: 1em;\n",
       "  text-decoration: none !important;\n",
       "  margin-left: 1ex;\n",
       "  /* unfitted */\n",
       "  border: var(--sklearn-color-unfitted-level-1) 1pt solid;\n",
       "  color: var(--sklearn-color-unfitted-level-1);\n",
       "}\n",
       "\n",
       ".sk-estimator-doc-link.fitted,\n",
       "a:link.sk-estimator-doc-link.fitted,\n",
       "a:visited.sk-estimator-doc-link.fitted {\n",
       "  /* fitted */\n",
       "  border: var(--sklearn-color-fitted-level-1) 1pt solid;\n",
       "  color: var(--sklearn-color-fitted-level-1);\n",
       "}\n",
       "\n",
       "/* On hover */\n",
       "div.sk-estimator:hover .sk-estimator-doc-link:hover,\n",
       ".sk-estimator-doc-link:hover,\n",
       "div.sk-label-container:hover .sk-estimator-doc-link:hover,\n",
       ".sk-estimator-doc-link:hover {\n",
       "  /* unfitted */\n",
       "  background-color: var(--sklearn-color-unfitted-level-3);\n",
       "  color: var(--sklearn-color-background);\n",
       "  text-decoration: none;\n",
       "}\n",
       "\n",
       "div.sk-estimator.fitted:hover .sk-estimator-doc-link.fitted:hover,\n",
       ".sk-estimator-doc-link.fitted:hover,\n",
       "div.sk-label-container:hover .sk-estimator-doc-link.fitted:hover,\n",
       ".sk-estimator-doc-link.fitted:hover {\n",
       "  /* fitted */\n",
       "  background-color: var(--sklearn-color-fitted-level-3);\n",
       "  color: var(--sklearn-color-background);\n",
       "  text-decoration: none;\n",
       "}\n",
       "\n",
       "/* Span, style for the box shown on hovering the info icon */\n",
       ".sk-estimator-doc-link span {\n",
       "  display: none;\n",
       "  z-index: 9999;\n",
       "  position: relative;\n",
       "  font-weight: normal;\n",
       "  right: .2ex;\n",
       "  padding: .5ex;\n",
       "  margin: .5ex;\n",
       "  width: min-content;\n",
       "  min-width: 20ex;\n",
       "  max-width: 50ex;\n",
       "  color: var(--sklearn-color-text);\n",
       "  box-shadow: 2pt 2pt 4pt #999;\n",
       "  /* unfitted */\n",
       "  background: var(--sklearn-color-unfitted-level-0);\n",
       "  border: .5pt solid var(--sklearn-color-unfitted-level-3);\n",
       "}\n",
       "\n",
       ".sk-estimator-doc-link.fitted span {\n",
       "  /* fitted */\n",
       "  background: var(--sklearn-color-fitted-level-0);\n",
       "  border: var(--sklearn-color-fitted-level-3);\n",
       "}\n",
       "\n",
       ".sk-estimator-doc-link:hover span {\n",
       "  display: block;\n",
       "}\n",
       "\n",
       "/* \"?\"-specific style due to the `<a>` HTML tag */\n",
       "\n",
       "#sk-container-id-1 a.estimator_doc_link {\n",
       "  float: right;\n",
       "  font-size: 1rem;\n",
       "  line-height: 1em;\n",
       "  font-family: monospace;\n",
       "  background-color: var(--sklearn-color-background);\n",
       "  border-radius: 1rem;\n",
       "  height: 1rem;\n",
       "  width: 1rem;\n",
       "  text-decoration: none;\n",
       "  /* unfitted */\n",
       "  color: var(--sklearn-color-unfitted-level-1);\n",
       "  border: var(--sklearn-color-unfitted-level-1) 1pt solid;\n",
       "}\n",
       "\n",
       "#sk-container-id-1 a.estimator_doc_link.fitted {\n",
       "  /* fitted */\n",
       "  border: var(--sklearn-color-fitted-level-1) 1pt solid;\n",
       "  color: var(--sklearn-color-fitted-level-1);\n",
       "}\n",
       "\n",
       "/* On hover */\n",
       "#sk-container-id-1 a.estimator_doc_link:hover {\n",
       "  /* unfitted */\n",
       "  background-color: var(--sklearn-color-unfitted-level-3);\n",
       "  color: var(--sklearn-color-background);\n",
       "  text-decoration: none;\n",
       "}\n",
       "\n",
       "#sk-container-id-1 a.estimator_doc_link.fitted:hover {\n",
       "  /* fitted */\n",
       "  background-color: var(--sklearn-color-fitted-level-3);\n",
       "}\n",
       "</style><div id=\"sk-container-id-1\" class=\"sk-top-container\"><div class=\"sk-text-repr-fallback\"><pre>XGBClassifier(base_score=None, booster=None, callbacks=None,\n",
       "              colsample_bylevel=None, colsample_bynode=0.27030683143201956,\n",
       "              colsample_bytree=None, device=None, early_stopping_rounds=None,\n",
       "              enable_categorical=False,\n",
       "              eval_metric=&lt;function custom_f1_score at 0x7fe392b23d80&gt;,\n",
       "              feature_types=None, gamma=None, grow_policy=None,\n",
       "              importance_type=None, interaction_constraints=None,\n",
       "              learning_rate=0.23168559901409894, max_bin=None,\n",
       "              max_cat_threshold=None, max_cat_to_onehot=None,\n",
       "              max_delta_step=None, max_depth=16, max_leaves=None,\n",
       "              min_child_weight=19, missing=nan, monotone_constraints=None,\n",
       "              multi_strategy=None, n_estimators=91, n_jobs=None,\n",
       "              num_parallel_tree=None, objective=&#x27;multi:softprob&#x27;, ...)</pre><b>In a Jupyter environment, please rerun this cell to show the HTML representation or trust the notebook. <br />On GitHub, the HTML representation is unable to render, please try loading this page with nbviewer.org.</b></div><div class=\"sk-container\" hidden><div class=\"sk-item\"><div class=\"sk-estimator fitted sk-toggleable\"><input class=\"sk-toggleable__control sk-hidden--visually\" id=\"sk-estimator-id-1\" type=\"checkbox\" checked><label for=\"sk-estimator-id-1\" class=\"sk-toggleable__label fitted sk-toggleable__label-arrow fitted\">&nbsp;XGBClassifier<span class=\"sk-estimator-doc-link fitted\">i<span>Fitted</span></span></label><div class=\"sk-toggleable__content fitted\"><pre>XGBClassifier(base_score=None, booster=None, callbacks=None,\n",
       "              colsample_bylevel=None, colsample_bynode=0.27030683143201956,\n",
       "              colsample_bytree=None, device=None, early_stopping_rounds=None,\n",
       "              enable_categorical=False,\n",
       "              eval_metric=&lt;function custom_f1_score at 0x7fe392b23d80&gt;,\n",
       "              feature_types=None, gamma=None, grow_policy=None,\n",
       "              importance_type=None, interaction_constraints=None,\n",
       "              learning_rate=0.23168559901409894, max_bin=None,\n",
       "              max_cat_threshold=None, max_cat_to_onehot=None,\n",
       "              max_delta_step=None, max_depth=16, max_leaves=None,\n",
       "              min_child_weight=19, missing=nan, monotone_constraints=None,\n",
       "              multi_strategy=None, n_estimators=91, n_jobs=None,\n",
       "              num_parallel_tree=None, objective=&#x27;multi:softprob&#x27;, ...)</pre></div> </div></div></div></div>"
      ],
      "text/plain": [
       "XGBClassifier(base_score=None, booster=None, callbacks=None,\n",
       "              colsample_bylevel=None, colsample_bynode=0.27030683143201956,\n",
       "              colsample_bytree=None, device=None, early_stopping_rounds=None,\n",
       "              enable_categorical=False,\n",
       "              eval_metric=<function custom_f1_score at 0x7fe392b23d80>,\n",
       "              feature_types=None, gamma=None, grow_policy=None,\n",
       "              importance_type=None, interaction_constraints=None,\n",
       "              learning_rate=0.23168559901409894, max_bin=None,\n",
       "              max_cat_threshold=None, max_cat_to_onehot=None,\n",
       "              max_delta_step=None, max_depth=16, max_leaves=None,\n",
       "              min_child_weight=19, missing=nan, monotone_constraints=None,\n",
       "              multi_strategy=None, n_estimators=91, n_jobs=None,\n",
       "              num_parallel_tree=None, objective='multi:softprob', ...)"
      ]
     },
     "execution_count": 21,
     "metadata": {},
     "output_type": "execute_result"
    }
   ],
   "source": [
    "n_estimators = int(study.best_trial.user_attrs['best_iteration']*1.2)\n",
    "xgb = xgboost.XGBClassifier(\n",
    "        eval_metric=eval_metric,\n",
    "        n_estimators=n_estimators,\n",
    "        **study.best_trial.params\n",
    "    )\n",
    "xgb.fit(\n",
    "    ssp.vstack((X_train, X_val)), \n",
    "    np.concatenate((y_train_enc, y_val_enc)),\n",
    "    verbose=1,\n",
    ")"
   ]
  },
  {
   "cell_type": "code",
   "execution_count": 22,
   "id": "0db41d56",
   "metadata": {
    "execution": {
     "iopub.execute_input": "2025-05-15T16:12:21.887201Z",
     "iopub.status.busy": "2025-05-15T16:12:21.887030Z",
     "iopub.status.idle": "2025-05-15T16:12:22.018846Z",
     "shell.execute_reply": "2025-05-15T16:12:22.018303Z"
    },
    "papermill": {
     "duration": 0.149354,
     "end_time": "2025-05-15T16:12:22.020182",
     "exception": false,
     "start_time": "2025-05-15T16:12:21.870828",
     "status": "completed"
    },
    "tags": []
   },
   "outputs": [
    {
     "data": {
      "text/plain": [
       "['/scratch_isilon/groups/singlecell/shared/projects/Inflammation-PBMCs-Atlas/03_downstream_analysis/08_gene_importance/xgboost_external_validation/xgboost_TopN_genes/results_20/best_model/T_CD4_Naive_18_0_xgb.json']"
      ]
     },
     "execution_count": 22,
     "metadata": {},
     "output_type": "execute_result"
    }
   ],
   "source": [
    "out_dir = here(f'03_downstream_analysis/08_gene_importance/xgboost_external_validation/xgboost_TopN_genes/results_{N_GENES}/best_model')\n",
    "\n",
    "if not os.path.exists(out_dir):\n",
    "    os.makedirs(out_dir)\n",
    "    \n",
    "joblib.dump(xgb, os.path.join(out_dir, f'{CELL_TYPE}_{SEED}_{TEST_SPLIT_IDX}_xgb.json'))"
   ]
  },
  {
   "cell_type": "code",
   "execution_count": 23,
   "id": "1aa6b2d5",
   "metadata": {
    "execution": {
     "iopub.execute_input": "2025-05-15T16:12:22.053756Z",
     "iopub.status.busy": "2025-05-15T16:12:22.053358Z",
     "iopub.status.idle": "2025-05-15T16:12:22.560847Z",
     "shell.execute_reply": "2025-05-15T16:12:22.560341Z"
    },
    "papermill": {
     "duration": 0.53182,
     "end_time": "2025-05-15T16:12:22.562282",
     "exception": false,
     "start_time": "2025-05-15T16:12:22.030462",
     "status": "completed"
    },
    "tags": []
   },
   "outputs": [],
   "source": [
    "df_pred_test = pd.DataFrame(dict(\n",
    "    cell_id=train_adata.obs.iloc[test_idxs].index.values,\n",
    "    y_true=y_test, \n",
    "    y_true_code=y_test_enc, \n",
    "    y_pred=xgb.predict(X_test))).set_index('cell_id')"
   ]
  },
  {
   "cell_type": "code",
   "execution_count": 24,
   "id": "83725843",
   "metadata": {
    "execution": {
     "iopub.execute_input": "2025-05-15T16:12:22.648183Z",
     "iopub.status.busy": "2025-05-15T16:12:22.647812Z",
     "iopub.status.idle": "2025-05-15T16:12:22.740297Z",
     "shell.execute_reply": "2025-05-15T16:12:22.739806Z"
    },
    "papermill": {
     "duration": 0.150808,
     "end_time": "2025-05-15T16:12:22.741644",
     "exception": false,
     "start_time": "2025-05-15T16:12:22.590836",
     "status": "completed"
    },
    "tags": []
   },
   "outputs": [],
   "source": [
    "out_dir = here(f'03_downstream_analysis/08_gene_importance/xgboost_external_validation/xgboost_TopN_genes/results_{N_GENES}/predictions')\n",
    "\n",
    "if not os.path.exists(out_dir):\n",
    "    os.makedirs(out_dir)\n",
    "    \n",
    "df_pred_test.to_csv(os.path.join(out_dir, f'{CELL_TYPE}_{SEED}_{TEST_SPLIT_IDX}_pred_test.zip'))"
   ]
  },
  {
   "cell_type": "code",
   "execution_count": 25,
   "id": "3c406850",
   "metadata": {
    "execution": {
     "iopub.execute_input": "2025-05-15T16:12:22.771809Z",
     "iopub.status.busy": "2025-05-15T16:12:22.771326Z",
     "iopub.status.idle": "2025-05-15T16:12:22.783053Z",
     "shell.execute_reply": "2025-05-15T16:12:22.782619Z"
    },
    "papermill": {
     "duration": 0.031331,
     "end_time": "2025-05-15T16:12:22.783985",
     "exception": false,
     "start_time": "2025-05-15T16:12:22.752654",
     "status": "completed"
    },
    "tags": []
   },
   "outputs": [],
   "source": [
    "metrics_dict = dict(\n",
    "    BAS=balanced_accuracy_score(y_true=df_pred_test.y_true_code, y_pred=df_pred_test.y_pred), WF1=f1_score(y_true=df_pred_test.y_true_code, y_pred=df_pred_test.y_pred,average='weighted'))"
   ]
  },
  {
   "cell_type": "code",
   "execution_count": 26,
   "id": "63cd52ba",
   "metadata": {
    "execution": {
     "iopub.execute_input": "2025-05-15T16:12:22.823940Z",
     "iopub.status.busy": "2025-05-15T16:12:22.823483Z",
     "iopub.status.idle": "2025-05-15T16:12:22.826787Z",
     "shell.execute_reply": "2025-05-15T16:12:22.826419Z"
    },
    "papermill": {
     "duration": 0.014631,
     "end_time": "2025-05-15T16:12:22.827737",
     "exception": false,
     "start_time": "2025-05-15T16:12:22.813106",
     "status": "completed"
    },
    "tags": []
   },
   "outputs": [
    {
     "data": {
      "text/plain": [
       "{'BAS': 0.6857740632491274, 'WF1': 0.8257006333276714}"
      ]
     },
     "execution_count": 26,
     "metadata": {},
     "output_type": "execute_result"
    }
   ],
   "source": [
    "metrics_dict"
   ]
  },
  {
   "cell_type": "code",
   "execution_count": 27,
   "id": "97bb1225",
   "metadata": {
    "execution": {
     "iopub.execute_input": "2025-05-15T16:12:22.867278Z",
     "iopub.status.busy": "2025-05-15T16:12:22.866893Z",
     "iopub.status.idle": "2025-05-15T16:12:22.876227Z",
     "shell.execute_reply": "2025-05-15T16:12:22.875810Z"
    },
    "papermill": {
     "duration": 0.027155,
     "end_time": "2025-05-15T16:12:22.877158",
     "exception": false,
     "start_time": "2025-05-15T16:12:22.850003",
     "status": "completed"
    },
    "tags": []
   },
   "outputs": [
    {
     "data": {
      "text/html": [
       "<div>\n",
       "<style scoped>\n",
       "    .dataframe tbody tr th:only-of-type {\n",
       "        vertical-align: middle;\n",
       "    }\n",
       "\n",
       "    .dataframe tbody tr th {\n",
       "        vertical-align: top;\n",
       "    }\n",
       "\n",
       "    .dataframe thead th {\n",
       "        text-align: right;\n",
       "    }\n",
       "</style>\n",
       "<table border=\"1\" class=\"dataframe\">\n",
       "  <thead>\n",
       "    <tr style=\"text-align: right;\">\n",
       "      <th></th>\n",
       "      <th>BAS</th>\n",
       "      <th>WF1</th>\n",
       "      <th>split_idx</th>\n",
       "      <th>gene_set_seed</th>\n",
       "      <th>cell_type</th>\n",
       "    </tr>\n",
       "  </thead>\n",
       "  <tbody>\n",
       "    <tr>\n",
       "      <th>0</th>\n",
       "      <td>0.685774</td>\n",
       "      <td>0.825701</td>\n",
       "      <td>0</td>\n",
       "      <td>18</td>\n",
       "      <td>T_CD4_Naive</td>\n",
       "    </tr>\n",
       "  </tbody>\n",
       "</table>\n",
       "</div>"
      ],
      "text/plain": [
       "        BAS       WF1  split_idx  gene_set_seed    cell_type\n",
       "0  0.685774  0.825701          0             18  T_CD4_Naive"
      ]
     },
     "execution_count": 27,
     "metadata": {},
     "output_type": "execute_result"
    }
   ],
   "source": [
    "metrics_df = pd.DataFrame.from_dict([metrics_dict]).assign(split_idx=TEST_SPLIT_IDX, gene_set_seed=SEED, cell_type=CELL_TYPE)\n",
    "metrics_df"
   ]
  },
  {
   "cell_type": "code",
   "execution_count": 28,
   "id": "345677ff",
   "metadata": {
    "execution": {
     "iopub.execute_input": "2025-05-15T16:12:22.911537Z",
     "iopub.status.busy": "2025-05-15T16:12:22.911063Z",
     "iopub.status.idle": "2025-05-15T16:12:22.919885Z",
     "shell.execute_reply": "2025-05-15T16:12:22.919440Z"
    },
    "papermill": {
     "duration": 0.019833,
     "end_time": "2025-05-15T16:12:22.920887",
     "exception": false,
     "start_time": "2025-05-15T16:12:22.901054",
     "status": "completed"
    },
    "tags": []
   },
   "outputs": [],
   "source": [
    "out_dir = here(f'03_downstream_analysis/08_gene_importance/xgboost_external_validation/xgboost_TopN_genes/results_{N_GENES}/metrics')\n",
    "\n",
    "if not os.path.exists(out_dir):\n",
    "    os.makedirs(out_dir)\n",
    "    \n",
    "metrics_df.to_csv(os.path.join(out_dir, f'{CELL_TYPE}_{SEED}_{TEST_SPLIT_IDX}_metrics.zip'))"
   ]
  }
 ],
 "metadata": {
  "kernelspec": {
   "display_name": "Python 3 (ipykernel)",
   "language": "python",
   "name": "python3"
  },
  "language_info": {
   "codemirror_mode": {
    "name": "ipython",
    "version": 3
   },
   "file_extension": ".py",
   "mimetype": "text/x-python",
   "name": "python",
   "nbconvert_exporter": "python",
   "pygments_lexer": "ipython3",
   "version": "3.12.5"
  },
  "papermill": {
   "default_parameters": {},
   "duration": 626.269824,
   "end_time": "2025-05-15T16:12:23.547424",
   "environment_variables": {},
   "exception": null,
   "input_path": "02_xgboost_fitting_external_20genes.ipynb",
   "output_path": "results_20/executed_notebooks/xgboost_fitting_external_CT_T_CD4_Naive_GS_18_seed0.ipynb",
   "parameters": {
    "CELL_TYPE": "T_CD4_Naive",
    "SEED": 18,
    "TEST_SPLIT_IDX": 0
   },
   "start_time": "2025-05-15T16:01:57.277600",
   "version": "2.6.0"
  }
 },
 "nbformat": 4,
 "nbformat_minor": 5
}