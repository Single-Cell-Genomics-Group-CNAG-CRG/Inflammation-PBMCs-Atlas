{
 "cells": [
  {
   "cell_type": "code",
   "execution_count": 1,
   "id": "cf166fa5",
   "metadata": {
    "editable": true,
    "execution": {
     "iopub.execute_input": "2025-05-15T16:15:32.821164Z",
     "iopub.status.busy": "2025-05-15T16:15:32.820423Z",
     "iopub.status.idle": "2025-05-15T16:15:32.824253Z",
     "shell.execute_reply": "2025-05-15T16:15:32.823848Z"
    },
    "papermill": {
     "duration": 0.013684,
     "end_time": "2025-05-15T16:15:32.825333",
     "exception": false,
     "start_time": "2025-05-15T16:15:32.811649",
     "status": "completed"
    },
    "slideshow": {
     "slide_type": ""
    },
    "tags": [
     "parameters"
    ]
   },
   "outputs": [],
   "source": [
    "CELL_TYPE = 'pDC'\n",
    "N_GENES: int = 20\n",
    "SEED = 'shap_studyID' #'disease_NOstudy' 'study_NOdisease' or 'int' or 'shap_studyID'\n",
    "TEST_SPLIT_IDX: int = 1 #[0,4]"
   ]
  },
  {
   "cell_type": "code",
   "execution_count": 2,
   "id": "97cbb8ed",
   "metadata": {
    "execution": {
     "iopub.execute_input": "2025-05-15T16:15:32.844668Z",
     "iopub.status.busy": "2025-05-15T16:15:32.844108Z",
     "iopub.status.idle": "2025-05-15T16:15:32.847051Z",
     "shell.execute_reply": "2025-05-15T16:15:32.846661Z"
    },
    "papermill": {
     "duration": 0.010904,
     "end_time": "2025-05-15T16:15:32.848011",
     "exception": false,
     "start_time": "2025-05-15T16:15:32.837107",
     "status": "completed"
    },
    "tags": [
     "injected-parameters"
    ]
   },
   "outputs": [],
   "source": [
    "# Parameters\n",
    "CELL_TYPE = \"Plasma\"\n",
    "SEED = 6\n",
    "TEST_SPLIT_IDX = 4\n"
   ]
  },
  {
   "cell_type": "code",
   "execution_count": 3,
   "id": "89b66a79",
   "metadata": {
    "execution": {
     "iopub.execute_input": "2025-05-15T16:15:32.876687Z",
     "iopub.status.busy": "2025-05-15T16:15:32.876163Z",
     "iopub.status.idle": "2025-05-15T16:15:32.879048Z",
     "shell.execute_reply": "2025-05-15T16:15:32.878653Z"
    },
    "papermill": {
     "duration": 0.025644,
     "end_time": "2025-05-15T16:15:32.880045",
     "exception": false,
     "start_time": "2025-05-15T16:15:32.854401",
     "status": "completed"
    },
    "tags": []
   },
   "outputs": [],
   "source": [
    "N_SPLITS: int = 5\n",
    "N_TRIALS: int = 50"
   ]
  },
  {
   "cell_type": "code",
   "execution_count": 4,
   "id": "6cdde850",
   "metadata": {
    "execution": {
     "iopub.execute_input": "2025-05-15T16:15:32.949875Z",
     "iopub.status.busy": "2025-05-15T16:15:32.949588Z",
     "iopub.status.idle": "2025-05-15T16:15:35.099711Z",
     "shell.execute_reply": "2025-05-15T16:15:35.099104Z"
    },
    "papermill": {
     "duration": 2.203258,
     "end_time": "2025-05-15T16:15:35.101119",
     "exception": false,
     "start_time": "2025-05-15T16:15:32.897861",
     "status": "completed"
    },
    "tags": []
   },
   "outputs": [],
   "source": [
    "import os\n",
    "import sys\n",
    "from pyprojroot.here import here\n",
    "import pandas as pd\n",
    "import anndata as ad\n",
    "import numpy as np\n",
    "import math\n",
    "from sklearn.model_selection import StratifiedGroupKFold\n",
    "from sklearn.preprocessing import LabelEncoder\n",
    "from sklearn.metrics import f1_score\n",
    "import matplotlib.pyplot as plt\n",
    "import seaborn as sns\n",
    "from itertools import product\n",
    "from sklearn.metrics import balanced_accuracy_score, f1_score\n",
    "import optuna\n",
    "\n",
    "import joblib\n",
    "import pickle\n",
    "import datetime\n",
    "\n",
    "import collections\n",
    "\n",
    "import xgboost\n",
    "from sklearn.preprocessing import LabelEncoder\n",
    "\n",
    "import scipy.sparse as ssp\n",
    "import joblib\n",
    "\n",
    "from dotenv import load_dotenv"
   ]
  },
  {
   "cell_type": "code",
   "execution_count": 5,
   "id": "e205b548",
   "metadata": {
    "execution": {
     "iopub.execute_input": "2025-05-15T16:15:35.115694Z",
     "iopub.status.busy": "2025-05-15T16:15:35.115261Z",
     "iopub.status.idle": "2025-05-15T16:15:35.122786Z",
     "shell.execute_reply": "2025-05-15T16:15:35.122386Z"
    },
    "papermill": {
     "duration": 0.01564,
     "end_time": "2025-05-15T16:15:35.123703",
     "exception": false,
     "start_time": "2025-05-15T16:15:35.108063",
     "status": "completed"
    },
    "tags": []
   },
   "outputs": [
    {
     "data": {
      "text/plain": [
       "True"
      ]
     },
     "execution_count": 5,
     "metadata": {},
     "output_type": "execute_result"
    }
   ],
   "source": [
    "load_dotenv()"
   ]
  },
  {
   "cell_type": "markdown",
   "id": "40d9347a",
   "metadata": {
    "papermill": {
     "duration": 0.006666,
     "end_time": "2025-05-15T16:15:35.144083",
     "exception": false,
     "start_time": "2025-05-15T16:15:35.137417",
     "status": "completed"
    },
    "tags": []
   },
   "source": [
    "# LOAD DATASET"
   ]
  },
  {
   "cell_type": "code",
   "execution_count": 6,
   "id": "3db93c99",
   "metadata": {
    "execution": {
     "iopub.execute_input": "2025-05-15T16:15:35.158332Z",
     "iopub.status.busy": "2025-05-15T16:15:35.157771Z",
     "iopub.status.idle": "2025-05-15T16:15:35.207965Z",
     "shell.execute_reply": "2025-05-15T16:15:35.207354Z"
    },
    "papermill": {
     "duration": 0.058917,
     "end_time": "2025-05-15T16:15:35.209224",
     "exception": false,
     "start_time": "2025-05-15T16:15:35.150307",
     "status": "completed"
    },
    "tags": []
   },
   "outputs": [],
   "source": [
    "train_adata = ad.read_h5ad(\n",
    "    here(f'03_downstream_analysis/08_gene_importance/xgboost_external_validation/xgboost_TopN_genes/data_cellTypes/EXTERNAL_{CELL_TYPE}.filtered.log1p.h5ad')\n",
    ")"
   ]
  },
  {
   "cell_type": "code",
   "execution_count": 7,
   "id": "56d7070c",
   "metadata": {
    "execution": {
     "iopub.execute_input": "2025-05-15T16:15:35.224117Z",
     "iopub.status.busy": "2025-05-15T16:15:35.223702Z",
     "iopub.status.idle": "2025-05-15T16:15:35.235354Z",
     "shell.execute_reply": "2025-05-15T16:15:35.234943Z"
    },
    "papermill": {
     "duration": 0.019706,
     "end_time": "2025-05-15T16:15:35.236315",
     "exception": false,
     "start_time": "2025-05-15T16:15:35.216609",
     "status": "completed"
    },
    "tags": []
   },
   "outputs": [
    {
     "name": "stdout",
     "output_type": "stream",
     "text": [
      "['ENSG00000163131' 'ENSG00000138778' 'ENSG00000275302' 'ENSG00000115073'\n",
      " 'ENSG00000173757' 'ENSG00000131981' 'ENSG00000153064' 'ENSG00000030582'\n",
      " 'ENSG00000133639' 'ENSG00000160888' 'ENSG00000239713' 'ENSG00000121858'\n",
      " 'ENSG00000119535' 'ENSG00000135720' 'ENSG00000179094' 'ENSG00000176986'\n",
      " 'ENSG00000137965' 'ENSG00000096996' 'ENSG00000142546' 'ENSG00000196126'\n",
      " 'ENSG00000130724' 'ENSG00000277734' 'ENSG00000168811' 'ENSG00000159128'\n",
      " 'ENSG00000164543' 'ENSG00000186010' 'ENSG00000114861' 'ENSG00000120742'\n",
      " 'ENSG00000137331' 'ENSG00000125743' 'ENSG00000155380' 'ENSG00000100934'\n",
      " 'ENSG00000113732' 'ENSG00000089327' 'ENSG00000197747' 'ENSG00000126524'\n",
      " 'ENSG00000140564' 'ENSG00000164136' 'ENSG00000081059' 'ENSG00000141506'\n",
      " 'ENSG00000204642' 'ENSG00000110848' 'ENSG00000002586' 'ENSG00000142669'\n",
      " 'ENSG00000100100' 'ENSG00000105374' 'ENSG00000079616' 'ENSG00000066136'\n",
      " 'ENSG00000185201' 'ENSG00000177556' 'ENSG00000189067' 'ENSG00000175768'\n",
      " 'ENSG00000089280' 'ENSG00000127951' 'ENSG00000138107' 'ENSG00000197471'\n",
      " 'ENSG00000168461' 'ENSG00000135114' 'ENSG00000197746' 'ENSG00000180008'\n",
      " 'ENSG00000185436' 'ENSG00000111678' 'ENSG00000030110' 'ENSG00000059728'\n",
      " 'ENSG00000188404' 'ENSG00000183696' 'ENSG00000242574' 'ENSG00000114423'\n",
      " 'ENSG00000127022' 'ENSG00000106367' 'ENSG00000167004' 'ENSG00000197965'\n",
      " 'ENSG00000104689' 'ENSG00000100453' 'ENSG00000107968' 'ENSG00000142634'\n",
      " 'ENSG00000165280' 'ENSG00000169554' 'ENSG00000101608' 'ENSG00000178719'\n",
      " 'ENSG00000170296' 'ENSG00000140264' 'ENSG00000240065' 'ENSG00000163563'\n",
      " 'ENSG00000171476' 'ENSG00000142089' 'ENSG00000196396' 'ENSG00000131143'\n",
      " 'ENSG00000180644' 'ENSG00000167552' 'ENSG00000162434' 'ENSG00000120129'\n",
      " 'ENSG00000158769' 'ENSG00000123268' 'ENSG00000161203' 'ENSG00000130522'\n",
      " 'ENSG00000175482' 'ENSG00000143543' 'ENSG00000172531' 'ENSG00000138378'\n",
      " 'ENSG00000122862' 'ENSG00000107223' 'ENSG00000004468' 'ENSG00000123358'\n",
      " 'ENSG00000111640' 'ENSG00000136003' 'ENSG00000009790']\n"
     ]
    }
   ],
   "source": [
    "if SEED != 'all':\n",
    "    gene_subset = np.load(here(f'03_downstream_analysis/08_gene_importance/xgboost_external_validation/shap_gene_selection/gene_subsets_{N_GENES}/{CELL_TYPE}_{SEED}.npy'), allow_pickle=True)\n",
    "    train_adata = train_adata[:,gene_subset]\n",
    "    print(gene_subset)\n",
    "elif SEED == 'all':\n",
    "    print('Using all genes')\n",
    "else:\n",
    "    raise ValueError()"
   ]
  },
  {
   "cell_type": "code",
   "execution_count": 8,
   "id": "582eef67",
   "metadata": {
    "execution": {
     "iopub.execute_input": "2025-05-15T16:15:35.255689Z",
     "iopub.status.busy": "2025-05-15T16:15:35.255318Z",
     "iopub.status.idle": "2025-05-15T16:15:35.258748Z",
     "shell.execute_reply": "2025-05-15T16:15:35.258388Z"
    },
    "papermill": {
     "duration": 0.016239,
     "end_time": "2025-05-15T16:15:35.259676",
     "exception": false,
     "start_time": "2025-05-15T16:15:35.243437",
     "status": "completed"
    },
    "tags": []
   },
   "outputs": [
    {
     "data": {
      "text/plain": [
       "(542, 107)"
      ]
     },
     "execution_count": 8,
     "metadata": {},
     "output_type": "execute_result"
    }
   ],
   "source": [
    "train_adata.shape"
   ]
  },
  {
   "cell_type": "code",
   "execution_count": 9,
   "id": "20613036",
   "metadata": {
    "execution": {
     "iopub.execute_input": "2025-05-15T16:15:35.274448Z",
     "iopub.status.busy": "2025-05-15T16:15:35.274090Z",
     "iopub.status.idle": "2025-05-15T16:15:35.278088Z",
     "shell.execute_reply": "2025-05-15T16:15:35.277734Z"
    },
    "papermill": {
     "duration": 0.012329,
     "end_time": "2025-05-15T16:15:35.278987",
     "exception": false,
     "start_time": "2025-05-15T16:15:35.266658",
     "status": "completed"
    },
    "tags": []
   },
   "outputs": [
    {
     "data": {
      "text/plain": [
       "['RA', 'COVID', 'healthy', 'HIV', 'cirrhosis', 'CD', 'SLE', 'sepsis']\n",
       "Categories (8, object): ['CD', 'COVID', 'HIV', 'RA', 'SLE', 'cirrhosis', 'healthy', 'sepsis']"
      ]
     },
     "execution_count": 9,
     "metadata": {},
     "output_type": "execute_result"
    }
   ],
   "source": [
    "train_adata.obs.disease.unique()"
   ]
  },
  {
   "cell_type": "code",
   "execution_count": 10,
   "id": "c1095af0",
   "metadata": {
    "execution": {
     "iopub.execute_input": "2025-05-15T16:15:35.293416Z",
     "iopub.status.busy": "2025-05-15T16:15:35.292685Z",
     "iopub.status.idle": "2025-05-15T16:15:35.297972Z",
     "shell.execute_reply": "2025-05-15T16:15:35.297591Z"
    },
    "papermill": {
     "duration": 0.013177,
     "end_time": "2025-05-15T16:15:35.298937",
     "exception": false,
     "start_time": "2025-05-15T16:15:35.285760",
     "status": "completed"
    },
    "tags": []
   },
   "outputs": [
    {
     "data": {
      "text/plain": [
       "['SCGT00val_I0364_T0', 'SCGT00val_I036019_T0', 'SCGT00val_I036028_T0', 'SCGT00val_I036024_T0', 'SCGT00val_I036016_T0', ..., '10XGenomics_10XHC2_T0', '10XGenomics_10XHC3_T0', '10XGenomics_10XHC5_T0', '10XGenomics_10XHC7_T0', '10XGenomics_10XHC8_T0']\n",
       "Length: 74\n",
       "Categories (74, object): ['10XGenomics_10XHC1_T0', '10XGenomics_10XHC2_T0', '10XGenomics_10XHC3_T0', '10XGenomics_10XHC4_T0', ..., 'Savage2021_BRISL6_T0', 'Savage2021_BRISL7_T0', 'Savage2021_PIDA_T0', 'Savage2021_PIDB_T0']"
      ]
     },
     "execution_count": 10,
     "metadata": {},
     "output_type": "execute_result"
    }
   ],
   "source": [
    "train_adata.obs.sampleID.unique()"
   ]
  },
  {
   "cell_type": "code",
   "execution_count": 11,
   "id": "dcfc6e2f",
   "metadata": {
    "execution": {
     "iopub.execute_input": "2025-05-15T16:15:35.313790Z",
     "iopub.status.busy": "2025-05-15T16:15:35.313213Z",
     "iopub.status.idle": "2025-05-15T16:15:35.349222Z",
     "shell.execute_reply": "2025-05-15T16:15:35.348566Z"
    },
    "papermill": {
     "duration": 0.04508,
     "end_time": "2025-05-15T16:15:35.350582",
     "exception": false,
     "start_time": "2025-05-15T16:15:35.305502",
     "status": "completed"
    },
    "tags": []
   },
   "outputs": [],
   "source": [
    "all_idxs = np.arange(train_adata.obs.shape[0])\n",
    "left_out_splits = [s[1] for s in StratifiedGroupKFold(n_splits=N_SPLITS).split(all_idxs, train_adata.obs.disease, train_adata.obs.sampleID)]"
   ]
  },
  {
   "cell_type": "code",
   "execution_count": 12,
   "id": "221b69dd",
   "metadata": {
    "execution": {
     "iopub.execute_input": "2025-05-15T16:15:35.383805Z",
     "iopub.status.busy": "2025-05-15T16:15:35.383150Z",
     "iopub.status.idle": "2025-05-15T16:15:35.387640Z",
     "shell.execute_reply": "2025-05-15T16:15:35.387290Z"
    },
    "papermill": {
     "duration": 0.030272,
     "end_time": "2025-05-15T16:15:35.388569",
     "exception": false,
     "start_time": "2025-05-15T16:15:35.358297",
     "status": "completed"
    },
    "tags": []
   },
   "outputs": [
    {
     "data": {
      "text/plain": [
       "([1, 2, 3], 0, 4)"
      ]
     },
     "execution_count": 12,
     "metadata": {},
     "output_type": "execute_result"
    }
   ],
   "source": [
    "TRAIN_SPLIT_IDXS = [0,1,2,3,4]\n",
    "VAL_SPLIT_IDX = (TEST_SPLIT_IDX + 1) % 5\n",
    "TRAIN_SPLIT_IDXS.remove(TEST_SPLIT_IDX)\n",
    "TRAIN_SPLIT_IDXS.remove(VAL_SPLIT_IDX)\n",
    "TRAIN_SPLIT_IDXS, VAL_SPLIT_IDX, TEST_SPLIT_IDX"
   ]
  },
  {
   "cell_type": "code",
   "execution_count": 13,
   "id": "4700e2a0",
   "metadata": {
    "execution": {
     "iopub.execute_input": "2025-05-15T16:15:35.403000Z",
     "iopub.status.busy": "2025-05-15T16:15:35.402751Z",
     "iopub.status.idle": "2025-05-15T16:15:35.405424Z",
     "shell.execute_reply": "2025-05-15T16:15:35.405067Z"
    },
    "papermill": {
     "duration": 0.011187,
     "end_time": "2025-05-15T16:15:35.406379",
     "exception": false,
     "start_time": "2025-05-15T16:15:35.395192",
     "status": "completed"
    },
    "tags": []
   },
   "outputs": [],
   "source": [
    "train_idxs = np.concatenate([left_out_splits[idx] for idx in TRAIN_SPLIT_IDXS])\n",
    "val_idxs = left_out_splits[VAL_SPLIT_IDX]\n",
    "test_idxs = left_out_splits[TEST_SPLIT_IDX]"
   ]
  },
  {
   "cell_type": "markdown",
   "id": "8c8e3ab9",
   "metadata": {
    "papermill": {
     "duration": 0.006617,
     "end_time": "2025-05-15T16:15:35.419584",
     "exception": false,
     "start_time": "2025-05-15T16:15:35.412967",
     "status": "completed"
    },
    "tags": []
   },
   "source": [
    "### SUBSET DATASET INTO TRAIN/TEST/VAL SPLITS"
   ]
  },
  {
   "cell_type": "code",
   "execution_count": 14,
   "id": "7f70e182",
   "metadata": {
    "execution": {
     "iopub.execute_input": "2025-05-15T16:15:35.464786Z",
     "iopub.status.busy": "2025-05-15T16:15:35.464511Z",
     "iopub.status.idle": "2025-05-15T16:15:35.471444Z",
     "shell.execute_reply": "2025-05-15T16:15:35.471099Z"
    },
    "papermill": {
     "duration": 0.01574,
     "end_time": "2025-05-15T16:15:35.472375",
     "exception": false,
     "start_time": "2025-05-15T16:15:35.456635",
     "status": "completed"
    },
    "tags": []
   },
   "outputs": [
    {
     "data": {
      "text/plain": [
       "((308, 107), (116, 107), (118, 107))"
      ]
     },
     "execution_count": 14,
     "metadata": {},
     "output_type": "execute_result"
    }
   ],
   "source": [
    "X_train = train_adata.X[train_idxs]\n",
    "X_test = train_adata.X[test_idxs]\n",
    "X_val = train_adata.X[val_idxs]\n",
    "X_train.shape, X_test.shape, X_val.shape"
   ]
  },
  {
   "cell_type": "code",
   "execution_count": 15,
   "id": "2f807366",
   "metadata": {
    "execution": {
     "iopub.execute_input": "2025-05-15T16:15:35.486771Z",
     "iopub.status.busy": "2025-05-15T16:15:35.486552Z",
     "iopub.status.idle": "2025-05-15T16:15:35.491765Z",
     "shell.execute_reply": "2025-05-15T16:15:35.491447Z"
    },
    "papermill": {
     "duration": 0.013556,
     "end_time": "2025-05-15T16:15:35.492712",
     "exception": false,
     "start_time": "2025-05-15T16:15:35.479156",
     "status": "completed"
    },
    "tags": []
   },
   "outputs": [
    {
     "data": {
      "text/plain": [
       "((308,), (116,), (118,))"
      ]
     },
     "execution_count": 15,
     "metadata": {},
     "output_type": "execute_result"
    }
   ],
   "source": [
    "y_train = train_adata.obs.iloc[train_idxs].disease.values.astype(str)\n",
    "y_test = train_adata.obs.iloc[test_idxs].disease.values.astype(str)\n",
    "y_val = train_adata.obs.iloc[val_idxs].disease.values.astype(str)\n",
    "y_train.shape, y_test.shape, y_val.shape"
   ]
  },
  {
   "cell_type": "code",
   "execution_count": 16,
   "id": "648ac798",
   "metadata": {
    "execution": {
     "iopub.execute_input": "2025-05-15T16:15:35.518338Z",
     "iopub.status.busy": "2025-05-15T16:15:35.517605Z",
     "iopub.status.idle": "2025-05-15T16:15:35.521461Z",
     "shell.execute_reply": "2025-05-15T16:15:35.521094Z"
    },
    "papermill": {
     "duration": 0.012317,
     "end_time": "2025-05-15T16:15:35.522424",
     "exception": false,
     "start_time": "2025-05-15T16:15:35.510107",
     "status": "completed"
    },
    "tags": []
   },
   "outputs": [],
   "source": [
    "lenc = LabelEncoder()\n",
    "y_train_enc = lenc.fit_transform(y_train)\n",
    "y_val_enc = lenc.transform(y_val)\n",
    "y_test_enc = lenc.transform(y_test)"
   ]
  },
  {
   "cell_type": "markdown",
   "id": "0351d032",
   "metadata": {
    "papermill": {
     "duration": 0.007356,
     "end_time": "2025-05-15T16:15:35.536512",
     "exception": false,
     "start_time": "2025-05-15T16:15:35.529156",
     "status": "completed"
    },
    "tags": []
   },
   "source": [
    "### GENERATE F1 "
   ]
  },
  {
   "cell_type": "code",
   "execution_count": 17,
   "id": "5165db94",
   "metadata": {
    "execution": {
     "iopub.execute_input": "2025-05-15T16:15:35.552000Z",
     "iopub.status.busy": "2025-05-15T16:15:35.551572Z",
     "iopub.status.idle": "2025-05-15T16:15:35.554518Z",
     "shell.execute_reply": "2025-05-15T16:15:35.554132Z"
    },
    "papermill": {
     "duration": 0.011565,
     "end_time": "2025-05-15T16:15:35.555453",
     "exception": false,
     "start_time": "2025-05-15T16:15:35.543888",
     "status": "completed"
    },
    "tags": []
   },
   "outputs": [],
   "source": [
    "def custom_f1_score(y_true, y_pred):\n",
    "    return -f1_score(y_true, y_pred.argmax(1), average='weighted')"
   ]
  },
  {
   "cell_type": "code",
   "execution_count": 18,
   "id": "f7803d98",
   "metadata": {
    "execution": {
     "iopub.execute_input": "2025-05-15T16:15:35.571064Z",
     "iopub.status.busy": "2025-05-15T16:15:35.570431Z",
     "iopub.status.idle": "2025-05-15T16:15:35.574887Z",
     "shell.execute_reply": "2025-05-15T16:15:35.574512Z"
    },
    "papermill": {
     "duration": 0.013138,
     "end_time": "2025-05-15T16:15:35.575770",
     "exception": false,
     "start_time": "2025-05-15T16:15:35.562632",
     "status": "completed"
    },
    "tags": []
   },
   "outputs": [],
   "source": [
    "eval_metric=custom_f1_score\n",
    "eval_metric_name='custom_f1_score'\n",
    "\n",
    "def objective(trial):\n",
    "    params = {\n",
    "        'n_estimators': 1500,\n",
    "        'max_depth': trial.suggest_int('max_depth', 3, 20),\n",
    "        'min_child_weight': trial.suggest_int('min_child_weight', 1, 250),\n",
    "        'subsample': trial.suggest_float('subsample', 0.1, 1.0),\n",
    "        'colsample_bynode': trial.suggest_float('colsample_bynode', 0.1, 1.0),\n",
    "        'learning_rate': trial.suggest_float('learning_rate', 1e-3, 5e-1, log=True),\n",
    "    }\n",
    "    pruning_callback = optuna.integration.XGBoostPruningCallback(trial, f'validation_0-{eval_metric_name}')\n",
    "    es_callback = xgboost.callback.EarlyStopping(20, min_delta=0.001)\n",
    "    xgb = xgboost.XGBClassifier(\n",
    "        eval_metric=eval_metric,\n",
    "        callbacks=[pruning_callback, es_callback],\n",
    "        n_jobs=5,\n",
    "        **params\n",
    "    )\n",
    "    xgb.fit(\n",
    "        X_train, \n",
    "        y_train_enc, \n",
    "        verbose=0,\n",
    "        eval_set=[(X_val, y_val_enc)],\n",
    "    )\n",
    "    trial.set_user_attr('best_iteration', xgb.best_iteration)\n",
    "\n",
    "    return xgb.best_score"
   ]
  },
  {
   "cell_type": "code",
   "execution_count": 19,
   "id": "929ac8be",
   "metadata": {
    "execution": {
     "iopub.execute_input": "2025-05-15T16:15:35.589902Z",
     "iopub.status.busy": "2025-05-15T16:15:35.589668Z",
     "iopub.status.idle": "2025-05-15T16:15:47.680246Z",
     "shell.execute_reply": "2025-05-15T16:15:47.679741Z"
    },
    "papermill": {
     "duration": 12.098685,
     "end_time": "2025-05-15T16:15:47.681306",
     "exception": false,
     "start_time": "2025-05-15T16:15:35.582621",
     "status": "completed"
    },
    "scrolled": true,
    "tags": []
   },
   "outputs": [
    {
     "name": "stderr",
     "output_type": "stream",
     "text": [
      "[I 2025-05-15 18:15:35,591] A new study created in memory with name: no-name-9f988f2a-c809-4248-9fad-6c3a6ab8b4bf\n"
     ]
    },
    {
     "name": "stderr",
     "output_type": "stream",
     "text": [
      "[I 2025-05-15 18:15:35,663] Trial 0 finished with value: -0.015898 and parameters: {'max_depth': 9, 'min_child_weight': 238, 'subsample': 0.7587945476302645, 'colsample_bynode': 0.6387926357773329, 'learning_rate': 0.0026368755339723046}. Best is trial 0 with value: -0.015898.\n"
     ]
    },
    {
     "name": "stderr",
     "output_type": "stream",
     "text": [
      "[I 2025-05-15 18:15:36,174] Trial 1 finished with value: -0.440496 and parameters: {'max_depth': 5, 'min_child_weight': 15, 'subsample': 0.8795585311974417, 'colsample_bynode': 0.6410035105688879, 'learning_rate': 0.08148293210105287}. Best is trial 1 with value: -0.440496.\n"
     ]
    },
    {
     "name": "stderr",
     "output_type": "stream",
     "text": [
      "[I 2025-05-15 18:15:36,354] Trial 2 finished with value: -0.015898 and parameters: {'max_depth': 3, 'min_child_weight': 243, 'subsample': 0.8491983767203796, 'colsample_bynode': 0.29110519961044856, 'learning_rate': 0.003095566460242371}. Best is trial 1 with value: -0.440496.\n"
     ]
    },
    {
     "name": "stderr",
     "output_type": "stream",
     "text": [
      "[I 2025-05-15 18:15:36,507] Trial 3 finished with value: -0.015898 and parameters: {'max_depth': 6, 'min_child_weight': 77, 'subsample': 0.5722807884690141, 'colsample_bynode': 0.48875051677790415, 'learning_rate': 0.006109683510122491}. Best is trial 1 with value: -0.440496.\n"
     ]
    },
    {
     "name": "stderr",
     "output_type": "stream",
     "text": [
      "[I 2025-05-15 18:15:36,664] Trial 4 finished with value: -0.015898 and parameters: {'max_depth': 14, 'min_child_weight': 35, 'subsample': 0.3629301836816964, 'colsample_bynode': 0.4297256589643226, 'learning_rate': 0.01701841881702917}. Best is trial 1 with value: -0.440496.\n"
     ]
    },
    {
     "name": "stderr",
     "output_type": "stream",
     "text": [
      "[I 2025-05-15 18:15:36,839] Trial 5 finished with value: -0.015898 and parameters: {'max_depth': 17, 'min_child_weight': 50, 'subsample': 0.5628109945722505, 'colsample_bynode': 0.6331731119758383, 'learning_rate': 0.0013346527038305934}. Best is trial 1 with value: -0.440496.\n"
     ]
    },
    {
     "name": "stderr",
     "output_type": "stream",
     "text": [
      "[I 2025-05-15 18:15:37,014] Trial 6 finished with value: -0.015898 and parameters: {'max_depth': 13, 'min_child_weight': 43, 'subsample': 0.1585464336867516, 'colsample_bynode': 0.9539969835279999, 'learning_rate': 0.4038423798071558}. Best is trial 1 with value: -0.440496.\n"
     ]
    },
    {
     "name": "stderr",
     "output_type": "stream",
     "text": [
      "[I 2025-05-15 18:15:37,191] Trial 7 finished with value: -0.015898 and parameters: {'max_depth': 17, 'min_child_weight': 77, 'subsample': 0.1879049026057455, 'colsample_bynode': 0.7158097238609412, 'learning_rate': 0.015415527060141935}. Best is trial 1 with value: -0.440496.\n"
     ]
    },
    {
     "name": "stderr",
     "output_type": "stream",
     "text": [
      "[I 2025-05-15 18:15:37,365] Trial 8 finished with value: -0.015898 and parameters: {'max_depth': 5, 'min_child_weight': 124, 'subsample': 0.13094966900369656, 'colsample_bynode': 0.9183883618709039, 'learning_rate': 0.004993895014755658}. Best is trial 1 with value: -0.440496.\n"
     ]
    },
    {
     "name": "stderr",
     "output_type": "stream",
     "text": [
      "[I 2025-05-15 18:15:37,541] Trial 9 finished with value: -0.015898 and parameters: {'max_depth': 14, 'min_child_weight': 78, 'subsample': 0.5680612190600297, 'colsample_bynode': 0.5920392514089517, 'learning_rate': 0.0031543990308330965}. Best is trial 1 with value: -0.440496.\n"
     ]
    },
    {
     "name": "stderr",
     "output_type": "stream",
     "text": [
      "[I 2025-05-15 18:15:37,919] Trial 10 finished with value: -0.436261 and parameters: {'max_depth': 9, 'min_child_weight': 2, 'subsample': 0.9725833997090791, 'colsample_bynode': 0.11616568805333755, 'learning_rate': 0.17780618353487967}. Best is trial 1 with value: -0.440496.\n"
     ]
    },
    {
     "name": "stderr",
     "output_type": "stream",
     "text": [
      "[I 2025-05-15 18:15:38,500] Trial 11 finished with value: -0.480033 and parameters: {'max_depth': 9, 'min_child_weight': 4, 'subsample': 0.9818290990185045, 'colsample_bynode': 0.17702656156719, 'learning_rate': 0.11568531411766632}. Best is trial 11 with value: -0.480033.\n"
     ]
    },
    {
     "name": "stderr",
     "output_type": "stream",
     "text": [
      "[I 2025-05-15 18:15:38,816] Trial 12 pruned. Trial was pruned at iteration 22.\n"
     ]
    },
    {
     "name": "stderr",
     "output_type": "stream",
     "text": [
      "[I 2025-05-15 18:15:39,001] Trial 13 finished with value: -0.015898 and parameters: {'max_depth': 6, 'min_child_weight': 173, 'subsample': 0.790863397930712, 'colsample_bynode': 0.8100137258468498, 'learning_rate': 0.05535376435186281}. Best is trial 11 with value: -0.480033.\n"
     ]
    },
    {
     "name": "stderr",
     "output_type": "stream",
     "text": [
      "[I 2025-05-15 18:15:39,182] Trial 14 finished with value: -0.015898 and parameters: {'max_depth': 11, 'min_child_weight': 132, 'subsample': 0.878759458887783, 'colsample_bynode': 0.3470364759542328, 'learning_rate': 0.07805789099500472}. Best is trial 11 with value: -0.480033.\n"
     ]
    },
    {
     "name": "stderr",
     "output_type": "stream",
     "text": [
      "[I 2025-05-15 18:15:39,861] Trial 15 finished with value: -0.529118 and parameters: {'max_depth': 20, 'min_child_weight': 1, 'subsample': 0.7012908959710442, 'colsample_bynode': 0.2540835086298475, 'learning_rate': 0.2833114876720916}. Best is trial 15 with value: -0.529118.\n"
     ]
    },
    {
     "name": "stderr",
     "output_type": "stream",
     "text": [
      "[I 2025-05-15 18:15:40,041] Trial 16 finished with value: -0.015898 and parameters: {'max_depth': 20, 'min_child_weight': 116, 'subsample': 0.6730263351162008, 'colsample_bynode': 0.2703877080693743, 'learning_rate': 0.48964439032767854}. Best is trial 15 with value: -0.529118.\n"
     ]
    },
    {
     "name": "stderr",
     "output_type": "stream",
     "text": [
      "[I 2025-05-15 18:15:40,219] Trial 17 finished with value: -0.015898 and parameters: {'max_depth': 20, 'min_child_weight': 183, 'subsample': 0.4250336809517294, 'colsample_bynode': 0.20374479402943746, 'learning_rate': 0.1906908207755482}. Best is trial 15 with value: -0.529118.\n"
     ]
    },
    {
     "name": "stderr",
     "output_type": "stream",
     "text": [
      "[I 2025-05-15 18:15:40,397] Trial 18 finished with value: -0.115706 and parameters: {'max_depth': 17, 'min_child_weight': 37, 'subsample': 0.6833191012025311, 'colsample_bynode': 0.3847517288564645, 'learning_rate': 0.035746000463052124}. Best is trial 15 with value: -0.529118.\n"
     ]
    },
    {
     "name": "stderr",
     "output_type": "stream",
     "text": [
      "[I 2025-05-15 18:15:40,569] Trial 19 finished with value: -0.015898 and parameters: {'max_depth': 11, 'min_child_weight': 99, 'subsample': 0.4454102535277396, 'colsample_bynode': 0.23137873991992036, 'learning_rate': 0.18087324291125878}. Best is trial 15 with value: -0.529118.\n"
     ]
    },
    {
     "name": "stderr",
     "output_type": "stream",
     "text": [
      "[I 2025-05-15 18:15:40,748] Trial 20 pruned. Trial was pruned at iteration 21.\n"
     ]
    },
    {
     "name": "stderr",
     "output_type": "stream",
     "text": [
      "[I 2025-05-15 18:15:41,075] Trial 21 pruned. Trial was pruned at iteration 22.\n"
     ]
    },
    {
     "name": "stderr",
     "output_type": "stream",
     "text": [
      "[I 2025-05-15 18:15:41,274] Trial 22 pruned. Trial was pruned at iteration 21.\n"
     ]
    },
    {
     "name": "stderr",
     "output_type": "stream",
     "text": [
      "[I 2025-05-15 18:15:41,456] Trial 23 finished with value: -0.015898 and parameters: {'max_depth': 7, 'min_child_weight': 60, 'subsample': 0.7958652657116481, 'colsample_bynode': 0.3386882882471741, 'learning_rate': 0.12968731196460231}. Best is trial 15 with value: -0.529118.\n"
     ]
    },
    {
     "name": "stderr",
     "output_type": "stream",
     "text": [
      "[I 2025-05-15 18:15:41,681] Trial 24 finished with value: -0.442348 and parameters: {'max_depth': 12, 'min_child_weight': 24, 'subsample': 0.9993234633009218, 'colsample_bynode': 0.45027734451762147, 'learning_rate': 0.27510254899458203}. Best is trial 15 with value: -0.529118.\n"
     ]
    },
    {
     "name": "stderr",
     "output_type": "stream",
     "text": [
      "[I 2025-05-15 18:15:41,874] Trial 25 pruned. Trial was pruned at iteration 21.\n"
     ]
    },
    {
     "name": "stderr",
     "output_type": "stream",
     "text": [
      "[I 2025-05-15 18:15:42,058] Trial 26 finished with value: -0.015898 and parameters: {'max_depth': 15, 'min_child_weight': 23, 'subsample': 0.2395148499116176, 'colsample_bynode': 0.2812272588305944, 'learning_rate': 0.24666773881926357}. Best is trial 15 with value: -0.529118.\n"
     ]
    },
    {
     "name": "stderr",
     "output_type": "stream",
     "text": [
      "[I 2025-05-15 18:15:42,239] Trial 27 finished with value: -0.015898 and parameters: {'max_depth': 18, 'min_child_weight': 155, 'subsample': 0.9278659742008757, 'colsample_bynode': 0.37114153090155516, 'learning_rate': 0.1343395208825858}. Best is trial 15 with value: -0.529118.\n"
     ]
    },
    {
     "name": "stderr",
     "output_type": "stream",
     "text": [
      "[I 2025-05-15 18:15:42,412] Trial 28 finished with value: -0.015898 and parameters: {'max_depth': 10, 'min_child_weight': 97, 'subsample': 0.8166065174447603, 'colsample_bynode': 0.11409703379182234, 'learning_rate': 0.4963665048750467}. Best is trial 15 with value: -0.529118.\n"
     ]
    },
    {
     "name": "stderr",
     "output_type": "stream",
     "text": [
      "[I 2025-05-15 18:15:42,595] Trial 29 finished with value: -0.015898 and parameters: {'max_depth': 15, 'min_child_weight': 217, 'subsample': 0.7402936428387548, 'colsample_bynode': 0.22037739203158307, 'learning_rate': 0.036967521790375775}. Best is trial 15 with value: -0.529118.\n"
     ]
    },
    {
     "name": "stderr",
     "output_type": "stream",
     "text": [
      "[I 2025-05-15 18:15:42,780] Trial 30 finished with value: -0.015898 and parameters: {'max_depth': 12, 'min_child_weight': 55, 'subsample': 0.6159960504182994, 'colsample_bynode': 0.30847774303064845, 'learning_rate': 0.26868126484502397}. Best is trial 15 with value: -0.529118.\n"
     ]
    },
    {
     "name": "stderr",
     "output_type": "stream",
     "text": [
      "[I 2025-05-15 18:15:43,043] Trial 31 pruned. Trial was pruned at iteration 24.\n"
     ]
    },
    {
     "name": "stderr",
     "output_type": "stream",
     "text": [
      "[I 2025-05-15 18:15:43,288] Trial 32 pruned. Trial was pruned at iteration 26.\n"
     ]
    },
    {
     "name": "stderr",
     "output_type": "stream",
     "text": [
      "[I 2025-05-15 18:15:43,476] Trial 33 pruned. Trial was pruned at iteration 21.\n"
     ]
    },
    {
     "name": "stderr",
     "output_type": "stream",
     "text": [
      "[I 2025-05-15 18:15:43,736] Trial 34 pruned. Trial was pruned at iteration 22.\n"
     ]
    },
    {
     "name": "stderr",
     "output_type": "stream",
     "text": [
      "[I 2025-05-15 18:15:43,913] Trial 35 pruned. Trial was pruned at iteration 21.\n"
     ]
    },
    {
     "name": "stderr",
     "output_type": "stream",
     "text": [
      "[I 2025-05-15 18:15:44,085] Trial 36 finished with value: -0.115706 and parameters: {'max_depth': 4, 'min_child_weight': 47, 'subsample': 0.9296681769309695, 'colsample_bynode': 0.628542476293521, 'learning_rate': 0.009862192293732096}. Best is trial 15 with value: -0.529118.\n"
     ]
    },
    {
     "name": "stderr",
     "output_type": "stream",
     "text": [
      "[I 2025-05-15 18:15:44,264] Trial 37 finished with value: -0.015898 and parameters: {'max_depth': 16, 'min_child_weight': 66, 'subsample': 0.6349041301542484, 'colsample_bynode': 0.16137065154257318, 'learning_rate': 0.37273025631022655}. Best is trial 15 with value: -0.529118.\n"
     ]
    },
    {
     "name": "stderr",
     "output_type": "stream",
     "text": [
      "[I 2025-05-15 18:15:44,490] Trial 38 pruned. Trial was pruned at iteration 21.\n"
     ]
    },
    {
     "name": "stderr",
     "output_type": "stream",
     "text": [
      "[I 2025-05-15 18:15:44,683] Trial 39 pruned. Trial was pruned at iteration 21.\n"
     ]
    },
    {
     "name": "stderr",
     "output_type": "stream",
     "text": [
      "[I 2025-05-15 18:15:44,868] Trial 40 finished with value: -0.115706 and parameters: {'max_depth': 8, 'min_child_weight': 46, 'subsample': 0.872463947308886, 'colsample_bynode': 0.6728080585901951, 'learning_rate': 0.062034942867157036}. Best is trial 15 with value: -0.529118.\n"
     ]
    },
    {
     "name": "stderr",
     "output_type": "stream",
     "text": [
      "[I 2025-05-15 18:15:45,253] Trial 41 pruned. Trial was pruned at iteration 27.\n"
     ]
    },
    {
     "name": "stderr",
     "output_type": "stream",
     "text": [
      "[I 2025-05-15 18:15:45,503] Trial 42 pruned. Trial was pruned at iteration 27.\n"
     ]
    },
    {
     "name": "stderr",
     "output_type": "stream",
     "text": [
      "[I 2025-05-15 18:15:45,712] Trial 43 pruned. Trial was pruned at iteration 21.\n"
     ]
    },
    {
     "name": "stderr",
     "output_type": "stream",
     "text": [
      "[I 2025-05-15 18:15:46,159] Trial 44 finished with value: -0.458416 and parameters: {'max_depth': 7, 'min_child_weight': 1, 'subsample': 0.8625777915421966, 'colsample_bynode': 0.314285215821306, 'learning_rate': 0.07575238598975453}. Best is trial 15 with value: -0.529118.\n"
     ]
    },
    {
     "name": "stderr",
     "output_type": "stream",
     "text": [
      "[I 2025-05-15 18:15:46,342] Trial 45 finished with value: -0.015898 and parameters: {'max_depth': 7, 'min_child_weight': 77, 'subsample': 0.8666088622049117, 'colsample_bynode': 0.28963835308888974, 'learning_rate': 0.04906961540426077}. Best is trial 15 with value: -0.529118.\n"
     ]
    },
    {
     "name": "stderr",
     "output_type": "stream",
     "text": [
      "[I 2025-05-15 18:15:46,526] Trial 46 finished with value: -0.115706 and parameters: {'max_depth': 5, 'min_child_weight': 40, 'subsample': 0.7760038978355555, 'colsample_bynode': 0.3180705311578915, 'learning_rate': 0.025177424893678746}. Best is trial 15 with value: -0.529118.\n"
     ]
    },
    {
     "name": "stderr",
     "output_type": "stream",
     "text": [
      "[I 2025-05-15 18:15:46,943] Trial 47 finished with value: -0.465454 and parameters: {'max_depth': 6, 'min_child_weight': 1, 'subsample': 0.8296421653844201, 'colsample_bynode': 0.402225192841233, 'learning_rate': 0.07552190947318929}. Best is trial 15 with value: -0.529118.\n"
     ]
    },
    {
     "name": "stderr",
     "output_type": "stream",
     "text": [
      "[I 2025-05-15 18:15:47,186] Trial 48 pruned. Trial was pruned at iteration 21.\n"
     ]
    },
    {
     "name": "stderr",
     "output_type": "stream",
     "text": [
      "[I 2025-05-15 18:15:47,580] Trial 49 pruned. Trial was pruned at iteration 21.\n"
     ]
    }
   ],
   "source": [
    "sampler = optuna.samplers.TPESampler(seed=42)\n",
    "study = optuna.create_study(direction='minimize', sampler=sampler)\n",
    "study.optimize(objective, n_trials=N_TRIALS, gc_after_trial=True)"
   ]
  },
  {
   "cell_type": "code",
   "execution_count": 20,
   "id": "ca2305c8",
   "metadata": {
    "execution": {
     "iopub.execute_input": "2025-05-15T16:15:47.713016Z",
     "iopub.status.busy": "2025-05-15T16:15:47.712347Z",
     "iopub.status.idle": "2025-05-15T16:15:47.738593Z",
     "shell.execute_reply": "2025-05-15T16:15:47.738160Z"
    },
    "papermill": {
     "duration": 0.048076,
     "end_time": "2025-05-15T16:15:47.739548",
     "exception": false,
     "start_time": "2025-05-15T16:15:47.691472",
     "status": "completed"
    },
    "tags": []
   },
   "outputs": [
    {
     "data": {
      "text/plain": [
       "['/scratch_isilon/groups/singlecell/shared/projects/Inflammation-PBMCs-Atlas/03_downstream_analysis/08_gene_importance/xgboost_external_validation/xgboost_TopN_genes/results_20/study/Plasma_6_4_xgboost.pkl']"
      ]
     },
     "execution_count": 20,
     "metadata": {},
     "output_type": "execute_result"
    }
   ],
   "source": [
    "out_dir = here(f'03_downstream_analysis/08_gene_importance/xgboost_external_validation/xgboost_TopN_genes/results_{N_GENES}/study')\n",
    "\n",
    "if not os.path.exists(out_dir):\n",
    "    os.makedirs(out_dir)\n",
    "    \n",
    "joblib.dump(study,os.path.join(out_dir, f'{CELL_TYPE}_{SEED}_{TEST_SPLIT_IDX}_xgboost.pkl'))"
   ]
  },
  {
   "cell_type": "code",
   "execution_count": 21,
   "id": "4d32b591",
   "metadata": {
    "execution": {
     "iopub.execute_input": "2025-05-15T16:15:47.783222Z",
     "iopub.status.busy": "2025-05-15T16:15:47.782471Z",
     "iopub.status.idle": "2025-05-15T16:15:48.325703Z",
     "shell.execute_reply": "2025-05-15T16:15:48.325124Z"
    },
    "papermill": {
     "duration": 0.558396,
     "end_time": "2025-05-15T16:15:48.327124",
     "exception": false,
     "start_time": "2025-05-15T16:15:47.768728",
     "status": "completed"
    },
    "tags": []
   },
   "outputs": [
    {
     "data": {
      "text/html": [
       "<style>#sk-container-id-1 {\n",
       "  /* Definition of color scheme common for light and dark mode */\n",
       "  --sklearn-color-text: black;\n",
       "  --sklearn-color-line: gray;\n",
       "  /* Definition of color scheme for unfitted estimators */\n",
       "  --sklearn-color-unfitted-level-0: #fff5e6;\n",
       "  --sklearn-color-unfitted-level-1: #f6e4d2;\n",
       "  --sklearn-color-unfitted-level-2: #ffe0b3;\n",
       "  --sklearn-color-unfitted-level-3: chocolate;\n",
       "  /* Definition of color scheme for fitted estimators */\n",
       "  --sklearn-color-fitted-level-0: #f0f8ff;\n",
       "  --sklearn-color-fitted-level-1: #d4ebff;\n",
       "  --sklearn-color-fitted-level-2: #b3dbfd;\n",
       "  --sklearn-color-fitted-level-3: cornflowerblue;\n",
       "\n",
       "  /* Specific color for light theme */\n",
       "  --sklearn-color-text-on-default-background: var(--sg-text-color, var(--theme-code-foreground, var(--jp-content-font-color1, black)));\n",
       "  --sklearn-color-background: var(--sg-background-color, var(--theme-background, var(--jp-layout-color0, white)));\n",
       "  --sklearn-color-border-box: var(--sg-text-color, var(--theme-code-foreground, var(--jp-content-font-color1, black)));\n",
       "  --sklearn-color-icon: #696969;\n",
       "\n",
       "  @media (prefers-color-scheme: dark) {\n",
       "    /* Redefinition of color scheme for dark theme */\n",
       "    --sklearn-color-text-on-default-background: var(--sg-text-color, var(--theme-code-foreground, var(--jp-content-font-color1, white)));\n",
       "    --sklearn-color-background: var(--sg-background-color, var(--theme-background, var(--jp-layout-color0, #111)));\n",
       "    --sklearn-color-border-box: var(--sg-text-color, var(--theme-code-foreground, var(--jp-content-font-color1, white)));\n",
       "    --sklearn-color-icon: #878787;\n",
       "  }\n",
       "}\n",
       "\n",
       "#sk-container-id-1 {\n",
       "  color: var(--sklearn-color-text);\n",
       "}\n",
       "\n",
       "#sk-container-id-1 pre {\n",
       "  padding: 0;\n",
       "}\n",
       "\n",
       "#sk-container-id-1 input.sk-hidden--visually {\n",
       "  border: 0;\n",
       "  clip: rect(1px 1px 1px 1px);\n",
       "  clip: rect(1px, 1px, 1px, 1px);\n",
       "  height: 1px;\n",
       "  margin: -1px;\n",
       "  overflow: hidden;\n",
       "  padding: 0;\n",
       "  position: absolute;\n",
       "  width: 1px;\n",
       "}\n",
       "\n",
       "#sk-container-id-1 div.sk-dashed-wrapped {\n",
       "  border: 1px dashed var(--sklearn-color-line);\n",
       "  margin: 0 0.4em 0.5em 0.4em;\n",
       "  box-sizing: border-box;\n",
       "  padding-bottom: 0.4em;\n",
       "  background-color: var(--sklearn-color-background);\n",
       "}\n",
       "\n",
       "#sk-container-id-1 div.sk-container {\n",
       "  /* jupyter's `normalize.less` sets `[hidden] { display: none; }`\n",
       "     but bootstrap.min.css set `[hidden] { display: none !important; }`\n",
       "     so we also need the `!important` here to be able to override the\n",
       "     default hidden behavior on the sphinx rendered scikit-learn.org.\n",
       "     See: https://github.com/scikit-learn/scikit-learn/issues/21755 */\n",
       "  display: inline-block !important;\n",
       "  position: relative;\n",
       "}\n",
       "\n",
       "#sk-container-id-1 div.sk-text-repr-fallback {\n",
       "  display: none;\n",
       "}\n",
       "\n",
       "div.sk-parallel-item,\n",
       "div.sk-serial,\n",
       "div.sk-item {\n",
       "  /* draw centered vertical line to link estimators */\n",
       "  background-image: linear-gradient(var(--sklearn-color-text-on-default-background), var(--sklearn-color-text-on-default-background));\n",
       "  background-size: 2px 100%;\n",
       "  background-repeat: no-repeat;\n",
       "  background-position: center center;\n",
       "}\n",
       "\n",
       "/* Parallel-specific style estimator block */\n",
       "\n",
       "#sk-container-id-1 div.sk-parallel-item::after {\n",
       "  content: \"\";\n",
       "  width: 100%;\n",
       "  border-bottom: 2px solid var(--sklearn-color-text-on-default-background);\n",
       "  flex-grow: 1;\n",
       "}\n",
       "\n",
       "#sk-container-id-1 div.sk-parallel {\n",
       "  display: flex;\n",
       "  align-items: stretch;\n",
       "  justify-content: center;\n",
       "  background-color: var(--sklearn-color-background);\n",
       "  position: relative;\n",
       "}\n",
       "\n",
       "#sk-container-id-1 div.sk-parallel-item {\n",
       "  display: flex;\n",
       "  flex-direction: column;\n",
       "}\n",
       "\n",
       "#sk-container-id-1 div.sk-parallel-item:first-child::after {\n",
       "  align-self: flex-end;\n",
       "  width: 50%;\n",
       "}\n",
       "\n",
       "#sk-container-id-1 div.sk-parallel-item:last-child::after {\n",
       "  align-self: flex-start;\n",
       "  width: 50%;\n",
       "}\n",
       "\n",
       "#sk-container-id-1 div.sk-parallel-item:only-child::after {\n",
       "  width: 0;\n",
       "}\n",
       "\n",
       "/* Serial-specific style estimator block */\n",
       "\n",
       "#sk-container-id-1 div.sk-serial {\n",
       "  display: flex;\n",
       "  flex-direction: column;\n",
       "  align-items: center;\n",
       "  background-color: var(--sklearn-color-background);\n",
       "  padding-right: 1em;\n",
       "  padding-left: 1em;\n",
       "}\n",
       "\n",
       "\n",
       "/* Toggleable style: style used for estimator/Pipeline/ColumnTransformer box that is\n",
       "clickable and can be expanded/collapsed.\n",
       "- Pipeline and ColumnTransformer use this feature and define the default style\n",
       "- Estimators will overwrite some part of the style using the `sk-estimator` class\n",
       "*/\n",
       "\n",
       "/* Pipeline and ColumnTransformer style (default) */\n",
       "\n",
       "#sk-container-id-1 div.sk-toggleable {\n",
       "  /* Default theme specific background. It is overwritten whether we have a\n",
       "  specific estimator or a Pipeline/ColumnTransformer */\n",
       "  background-color: var(--sklearn-color-background);\n",
       "}\n",
       "\n",
       "/* Toggleable label */\n",
       "#sk-container-id-1 label.sk-toggleable__label {\n",
       "  cursor: pointer;\n",
       "  display: block;\n",
       "  width: 100%;\n",
       "  margin-bottom: 0;\n",
       "  padding: 0.5em;\n",
       "  box-sizing: border-box;\n",
       "  text-align: center;\n",
       "}\n",
       "\n",
       "#sk-container-id-1 label.sk-toggleable__label-arrow:before {\n",
       "  /* Arrow on the left of the label */\n",
       "  content: \"▸\";\n",
       "  float: left;\n",
       "  margin-right: 0.25em;\n",
       "  color: var(--sklearn-color-icon);\n",
       "}\n",
       "\n",
       "#sk-container-id-1 label.sk-toggleable__label-arrow:hover:before {\n",
       "  color: var(--sklearn-color-text);\n",
       "}\n",
       "\n",
       "/* Toggleable content - dropdown */\n",
       "\n",
       "#sk-container-id-1 div.sk-toggleable__content {\n",
       "  max-height: 0;\n",
       "  max-width: 0;\n",
       "  overflow: hidden;\n",
       "  text-align: left;\n",
       "  /* unfitted */\n",
       "  background-color: var(--sklearn-color-unfitted-level-0);\n",
       "}\n",
       "\n",
       "#sk-container-id-1 div.sk-toggleable__content.fitted {\n",
       "  /* fitted */\n",
       "  background-color: var(--sklearn-color-fitted-level-0);\n",
       "}\n",
       "\n",
       "#sk-container-id-1 div.sk-toggleable__content pre {\n",
       "  margin: 0.2em;\n",
       "  border-radius: 0.25em;\n",
       "  color: var(--sklearn-color-text);\n",
       "  /* unfitted */\n",
       "  background-color: var(--sklearn-color-unfitted-level-0);\n",
       "}\n",
       "\n",
       "#sk-container-id-1 div.sk-toggleable__content.fitted pre {\n",
       "  /* unfitted */\n",
       "  background-color: var(--sklearn-color-fitted-level-0);\n",
       "}\n",
       "\n",
       "#sk-container-id-1 input.sk-toggleable__control:checked~div.sk-toggleable__content {\n",
       "  /* Expand drop-down */\n",
       "  max-height: 200px;\n",
       "  max-width: 100%;\n",
       "  overflow: auto;\n",
       "}\n",
       "\n",
       "#sk-container-id-1 input.sk-toggleable__control:checked~label.sk-toggleable__label-arrow:before {\n",
       "  content: \"▾\";\n",
       "}\n",
       "\n",
       "/* Pipeline/ColumnTransformer-specific style */\n",
       "\n",
       "#sk-container-id-1 div.sk-label input.sk-toggleable__control:checked~label.sk-toggleable__label {\n",
       "  color: var(--sklearn-color-text);\n",
       "  background-color: var(--sklearn-color-unfitted-level-2);\n",
       "}\n",
       "\n",
       "#sk-container-id-1 div.sk-label.fitted input.sk-toggleable__control:checked~label.sk-toggleable__label {\n",
       "  background-color: var(--sklearn-color-fitted-level-2);\n",
       "}\n",
       "\n",
       "/* Estimator-specific style */\n",
       "\n",
       "/* Colorize estimator box */\n",
       "#sk-container-id-1 div.sk-estimator input.sk-toggleable__control:checked~label.sk-toggleable__label {\n",
       "  /* unfitted */\n",
       "  background-color: var(--sklearn-color-unfitted-level-2);\n",
       "}\n",
       "\n",
       "#sk-container-id-1 div.sk-estimator.fitted input.sk-toggleable__control:checked~label.sk-toggleable__label {\n",
       "  /* fitted */\n",
       "  background-color: var(--sklearn-color-fitted-level-2);\n",
       "}\n",
       "\n",
       "#sk-container-id-1 div.sk-label label.sk-toggleable__label,\n",
       "#sk-container-id-1 div.sk-label label {\n",
       "  /* The background is the default theme color */\n",
       "  color: var(--sklearn-color-text-on-default-background);\n",
       "}\n",
       "\n",
       "/* On hover, darken the color of the background */\n",
       "#sk-container-id-1 div.sk-label:hover label.sk-toggleable__label {\n",
       "  color: var(--sklearn-color-text);\n",
       "  background-color: var(--sklearn-color-unfitted-level-2);\n",
       "}\n",
       "\n",
       "/* Label box, darken color on hover, fitted */\n",
       "#sk-container-id-1 div.sk-label.fitted:hover label.sk-toggleable__label.fitted {\n",
       "  color: var(--sklearn-color-text);\n",
       "  background-color: var(--sklearn-color-fitted-level-2);\n",
       "}\n",
       "\n",
       "/* Estimator label */\n",
       "\n",
       "#sk-container-id-1 div.sk-label label {\n",
       "  font-family: monospace;\n",
       "  font-weight: bold;\n",
       "  display: inline-block;\n",
       "  line-height: 1.2em;\n",
       "}\n",
       "\n",
       "#sk-container-id-1 div.sk-label-container {\n",
       "  text-align: center;\n",
       "}\n",
       "\n",
       "/* Estimator-specific */\n",
       "#sk-container-id-1 div.sk-estimator {\n",
       "  font-family: monospace;\n",
       "  border: 1px dotted var(--sklearn-color-border-box);\n",
       "  border-radius: 0.25em;\n",
       "  box-sizing: border-box;\n",
       "  margin-bottom: 0.5em;\n",
       "  /* unfitted */\n",
       "  background-color: var(--sklearn-color-unfitted-level-0);\n",
       "}\n",
       "\n",
       "#sk-container-id-1 div.sk-estimator.fitted {\n",
       "  /* fitted */\n",
       "  background-color: var(--sklearn-color-fitted-level-0);\n",
       "}\n",
       "\n",
       "/* on hover */\n",
       "#sk-container-id-1 div.sk-estimator:hover {\n",
       "  /* unfitted */\n",
       "  background-color: var(--sklearn-color-unfitted-level-2);\n",
       "}\n",
       "\n",
       "#sk-container-id-1 div.sk-estimator.fitted:hover {\n",
       "  /* fitted */\n",
       "  background-color: var(--sklearn-color-fitted-level-2);\n",
       "}\n",
       "\n",
       "/* Specification for estimator info (e.g. \"i\" and \"?\") */\n",
       "\n",
       "/* Common style for \"i\" and \"?\" */\n",
       "\n",
       ".sk-estimator-doc-link,\n",
       "a:link.sk-estimator-doc-link,\n",
       "a:visited.sk-estimator-doc-link {\n",
       "  float: right;\n",
       "  font-size: smaller;\n",
       "  line-height: 1em;\n",
       "  font-family: monospace;\n",
       "  background-color: var(--sklearn-color-background);\n",
       "  border-radius: 1em;\n",
       "  height: 1em;\n",
       "  width: 1em;\n",
       "  text-decoration: none !important;\n",
       "  margin-left: 1ex;\n",
       "  /* unfitted */\n",
       "  border: var(--sklearn-color-unfitted-level-1) 1pt solid;\n",
       "  color: var(--sklearn-color-unfitted-level-1);\n",
       "}\n",
       "\n",
       ".sk-estimator-doc-link.fitted,\n",
       "a:link.sk-estimator-doc-link.fitted,\n",
       "a:visited.sk-estimator-doc-link.fitted {\n",
       "  /* fitted */\n",
       "  border: var(--sklearn-color-fitted-level-1) 1pt solid;\n",
       "  color: var(--sklearn-color-fitted-level-1);\n",
       "}\n",
       "\n",
       "/* On hover */\n",
       "div.sk-estimator:hover .sk-estimator-doc-link:hover,\n",
       ".sk-estimator-doc-link:hover,\n",
       "div.sk-label-container:hover .sk-estimator-doc-link:hover,\n",
       ".sk-estimator-doc-link:hover {\n",
       "  /* unfitted */\n",
       "  background-color: var(--sklearn-color-unfitted-level-3);\n",
       "  color: var(--sklearn-color-background);\n",
       "  text-decoration: none;\n",
       "}\n",
       "\n",
       "div.sk-estimator.fitted:hover .sk-estimator-doc-link.fitted:hover,\n",
       ".sk-estimator-doc-link.fitted:hover,\n",
       "div.sk-label-container:hover .sk-estimator-doc-link.fitted:hover,\n",
       ".sk-estimator-doc-link.fitted:hover {\n",
       "  /* fitted */\n",
       "  background-color: var(--sklearn-color-fitted-level-3);\n",
       "  color: var(--sklearn-color-background);\n",
       "  text-decoration: none;\n",
       "}\n",
       "\n",
       "/* Span, style for the box shown on hovering the info icon */\n",
       ".sk-estimator-doc-link span {\n",
       "  display: none;\n",
       "  z-index: 9999;\n",
       "  position: relative;\n",
       "  font-weight: normal;\n",
       "  right: .2ex;\n",
       "  padding: .5ex;\n",
       "  margin: .5ex;\n",
       "  width: min-content;\n",
       "  min-width: 20ex;\n",
       "  max-width: 50ex;\n",
       "  color: var(--sklearn-color-text);\n",
       "  box-shadow: 2pt 2pt 4pt #999;\n",
       "  /* unfitted */\n",
       "  background: var(--sklearn-color-unfitted-level-0);\n",
       "  border: .5pt solid var(--sklearn-color-unfitted-level-3);\n",
       "}\n",
       "\n",
       ".sk-estimator-doc-link.fitted span {\n",
       "  /* fitted */\n",
       "  background: var(--sklearn-color-fitted-level-0);\n",
       "  border: var(--sklearn-color-fitted-level-3);\n",
       "}\n",
       "\n",
       ".sk-estimator-doc-link:hover span {\n",
       "  display: block;\n",
       "}\n",
       "\n",
       "/* \"?\"-specific style due to the `<a>` HTML tag */\n",
       "\n",
       "#sk-container-id-1 a.estimator_doc_link {\n",
       "  float: right;\n",
       "  font-size: 1rem;\n",
       "  line-height: 1em;\n",
       "  font-family: monospace;\n",
       "  background-color: var(--sklearn-color-background);\n",
       "  border-radius: 1rem;\n",
       "  height: 1rem;\n",
       "  width: 1rem;\n",
       "  text-decoration: none;\n",
       "  /* unfitted */\n",
       "  color: var(--sklearn-color-unfitted-level-1);\n",
       "  border: var(--sklearn-color-unfitted-level-1) 1pt solid;\n",
       "}\n",
       "\n",
       "#sk-container-id-1 a.estimator_doc_link.fitted {\n",
       "  /* fitted */\n",
       "  border: var(--sklearn-color-fitted-level-1) 1pt solid;\n",
       "  color: var(--sklearn-color-fitted-level-1);\n",
       "}\n",
       "\n",
       "/* On hover */\n",
       "#sk-container-id-1 a.estimator_doc_link:hover {\n",
       "  /* unfitted */\n",
       "  background-color: var(--sklearn-color-unfitted-level-3);\n",
       "  color: var(--sklearn-color-background);\n",
       "  text-decoration: none;\n",
       "}\n",
       "\n",
       "#sk-container-id-1 a.estimator_doc_link.fitted:hover {\n",
       "  /* fitted */\n",
       "  background-color: var(--sklearn-color-fitted-level-3);\n",
       "}\n",
       "</style><div id=\"sk-container-id-1\" class=\"sk-top-container\"><div class=\"sk-text-repr-fallback\"><pre>XGBClassifier(base_score=None, booster=None, callbacks=None,\n",
       "              colsample_bylevel=None, colsample_bynode=0.2540835086298475,\n",
       "              colsample_bytree=None, device=None, early_stopping_rounds=None,\n",
       "              enable_categorical=False,\n",
       "              eval_metric=&lt;function custom_f1_score at 0x7f4a2d478680&gt;,\n",
       "              feature_types=None, gamma=None, grow_policy=None,\n",
       "              importance_type=None, interaction_constraints=None,\n",
       "              learning_rate=0.2833114876720916, max_bin=None,\n",
       "              max_cat_threshold=None, max_cat_to_onehot=None,\n",
       "              max_delta_step=None, max_depth=20, max_leaves=None,\n",
       "              min_child_weight=1, missing=nan, monotone_constraints=None,\n",
       "              multi_strategy=None, n_estimators=75, n_jobs=None,\n",
       "              num_parallel_tree=None, objective=&#x27;multi:softprob&#x27;, ...)</pre><b>In a Jupyter environment, please rerun this cell to show the HTML representation or trust the notebook. <br />On GitHub, the HTML representation is unable to render, please try loading this page with nbviewer.org.</b></div><div class=\"sk-container\" hidden><div class=\"sk-item\"><div class=\"sk-estimator fitted sk-toggleable\"><input class=\"sk-toggleable__control sk-hidden--visually\" id=\"sk-estimator-id-1\" type=\"checkbox\" checked><label for=\"sk-estimator-id-1\" class=\"sk-toggleable__label fitted sk-toggleable__label-arrow fitted\">&nbsp;XGBClassifier<span class=\"sk-estimator-doc-link fitted\">i<span>Fitted</span></span></label><div class=\"sk-toggleable__content fitted\"><pre>XGBClassifier(base_score=None, booster=None, callbacks=None,\n",
       "              colsample_bylevel=None, colsample_bynode=0.2540835086298475,\n",
       "              colsample_bytree=None, device=None, early_stopping_rounds=None,\n",
       "              enable_categorical=False,\n",
       "              eval_metric=&lt;function custom_f1_score at 0x7f4a2d478680&gt;,\n",
       "              feature_types=None, gamma=None, grow_policy=None,\n",
       "              importance_type=None, interaction_constraints=None,\n",
       "              learning_rate=0.2833114876720916, max_bin=None,\n",
       "              max_cat_threshold=None, max_cat_to_onehot=None,\n",
       "              max_delta_step=None, max_depth=20, max_leaves=None,\n",
       "              min_child_weight=1, missing=nan, monotone_constraints=None,\n",
       "              multi_strategy=None, n_estimators=75, n_jobs=None,\n",
       "              num_parallel_tree=None, objective=&#x27;multi:softprob&#x27;, ...)</pre></div> </div></div></div></div>"
      ],
      "text/plain": [
       "XGBClassifier(base_score=None, booster=None, callbacks=None,\n",
       "              colsample_bylevel=None, colsample_bynode=0.2540835086298475,\n",
       "              colsample_bytree=None, device=None, early_stopping_rounds=None,\n",
       "              enable_categorical=False,\n",
       "              eval_metric=<function custom_f1_score at 0x7f4a2d478680>,\n",
       "              feature_types=None, gamma=None, grow_policy=None,\n",
       "              importance_type=None, interaction_constraints=None,\n",
       "              learning_rate=0.2833114876720916, max_bin=None,\n",
       "              max_cat_threshold=None, max_cat_to_onehot=None,\n",
       "              max_delta_step=None, max_depth=20, max_leaves=None,\n",
       "              min_child_weight=1, missing=nan, monotone_constraints=None,\n",
       "              multi_strategy=None, n_estimators=75, n_jobs=None,\n",
       "              num_parallel_tree=None, objective='multi:softprob', ...)"
      ]
     },
     "execution_count": 21,
     "metadata": {},
     "output_type": "execute_result"
    }
   ],
   "source": [
    "n_estimators = int(study.best_trial.user_attrs['best_iteration']*1.2)\n",
    "xgb = xgboost.XGBClassifier(\n",
    "        eval_metric=eval_metric,\n",
    "        n_estimators=n_estimators,\n",
    "        **study.best_trial.params\n",
    "    )\n",
    "xgb.fit(\n",
    "    ssp.vstack((X_train, X_val)), \n",
    "    np.concatenate((y_train_enc, y_val_enc)),\n",
    "    verbose=1,\n",
    ")"
   ]
  },
  {
   "cell_type": "code",
   "execution_count": 22,
   "id": "a813ff96",
   "metadata": {
    "execution": {
     "iopub.execute_input": "2025-05-15T16:15:48.349426Z",
     "iopub.status.busy": "2025-05-15T16:15:48.348819Z",
     "iopub.status.idle": "2025-05-15T16:15:48.366488Z",
     "shell.execute_reply": "2025-05-15T16:15:48.366090Z"
    },
    "papermill": {
     "duration": 0.029228,
     "end_time": "2025-05-15T16:15:48.367493",
     "exception": false,
     "start_time": "2025-05-15T16:15:48.338265",
     "status": "completed"
    },
    "tags": []
   },
   "outputs": [
    {
     "data": {
      "text/plain": [
       "['/scratch_isilon/groups/singlecell/shared/projects/Inflammation-PBMCs-Atlas/03_downstream_analysis/08_gene_importance/xgboost_external_validation/xgboost_TopN_genes/results_20/best_model/Plasma_6_4_xgb.json']"
      ]
     },
     "execution_count": 22,
     "metadata": {},
     "output_type": "execute_result"
    }
   ],
   "source": [
    "out_dir = here(f'03_downstream_analysis/08_gene_importance/xgboost_external_validation/xgboost_TopN_genes/results_{N_GENES}/best_model')\n",
    "\n",
    "if not os.path.exists(out_dir):\n",
    "    os.makedirs(out_dir)\n",
    "    \n",
    "joblib.dump(xgb, os.path.join(out_dir, f'{CELL_TYPE}_{SEED}_{TEST_SPLIT_IDX}_xgb.json'))"
   ]
  },
  {
   "cell_type": "code",
   "execution_count": 23,
   "id": "4d8cf1d1",
   "metadata": {
    "execution": {
     "iopub.execute_input": "2025-05-15T16:15:48.387331Z",
     "iopub.status.busy": "2025-05-15T16:15:48.386968Z",
     "iopub.status.idle": "2025-05-15T16:15:48.396640Z",
     "shell.execute_reply": "2025-05-15T16:15:48.396296Z"
    },
    "papermill": {
     "duration": 0.025167,
     "end_time": "2025-05-15T16:15:48.402381",
     "exception": false,
     "start_time": "2025-05-15T16:15:48.377214",
     "status": "completed"
    },
    "tags": []
   },
   "outputs": [],
   "source": [
    "df_pred_test = pd.DataFrame(dict(\n",
    "    cell_id=train_adata.obs.iloc[test_idxs].index.values,\n",
    "    y_true=y_test, \n",
    "    y_true_code=y_test_enc, \n",
    "    y_pred=xgb.predict(X_test))).set_index('cell_id')"
   ]
  },
  {
   "cell_type": "code",
   "execution_count": 24,
   "id": "dbdda10e",
   "metadata": {
    "execution": {
     "iopub.execute_input": "2025-05-15T16:15:48.423631Z",
     "iopub.status.busy": "2025-05-15T16:15:48.423128Z",
     "iopub.status.idle": "2025-05-15T16:15:48.435112Z",
     "shell.execute_reply": "2025-05-15T16:15:48.434674Z"
    },
    "papermill": {
     "duration": 0.023475,
     "end_time": "2025-05-15T16:15:48.436092",
     "exception": false,
     "start_time": "2025-05-15T16:15:48.412617",
     "status": "completed"
    },
    "tags": []
   },
   "outputs": [],
   "source": [
    "out_dir = here(f'03_downstream_analysis/08_gene_importance/xgboost_external_validation/xgboost_TopN_genes/results_{N_GENES}/predictions')\n",
    "\n",
    "if not os.path.exists(out_dir):\n",
    "    os.makedirs(out_dir)\n",
    "    \n",
    "df_pred_test.to_csv(os.path.join(out_dir, f'{CELL_TYPE}_{SEED}_{TEST_SPLIT_IDX}_pred_test.zip'))"
   ]
  },
  {
   "cell_type": "code",
   "execution_count": 25,
   "id": "f48e755f",
   "metadata": {
    "execution": {
     "iopub.execute_input": "2025-05-15T16:15:48.456375Z",
     "iopub.status.busy": "2025-05-15T16:15:48.455881Z",
     "iopub.status.idle": "2025-05-15T16:15:48.462701Z",
     "shell.execute_reply": "2025-05-15T16:15:48.462363Z"
    },
    "papermill": {
     "duration": 0.017627,
     "end_time": "2025-05-15T16:15:48.463622",
     "exception": false,
     "start_time": "2025-05-15T16:15:48.445995",
     "status": "completed"
    },
    "tags": []
   },
   "outputs": [
    {
     "name": "stderr",
     "output_type": "stream",
     "text": [
      "/scratch_isilon/groups/singlecell/shared/conda_env/xgboost-cpu/lib/python3.12/site-packages/sklearn/metrics/_classification.py:2466: UserWarning: y_pred contains classes not in y_true\n",
      "  warnings.warn(\"y_pred contains classes not in y_true\")\n"
     ]
    }
   ],
   "source": [
    "metrics_dict = dict(\n",
    "    BAS=balanced_accuracy_score(y_true=df_pred_test.y_true_code, y_pred=df_pred_test.y_pred), WF1=f1_score(y_true=df_pred_test.y_true_code, y_pred=df_pred_test.y_pred,average='weighted'))"
   ]
  },
  {
   "cell_type": "code",
   "execution_count": 26,
   "id": "ee26c6b7",
   "metadata": {
    "execution": {
     "iopub.execute_input": "2025-05-15T16:15:48.498684Z",
     "iopub.status.busy": "2025-05-15T16:15:48.498171Z",
     "iopub.status.idle": "2025-05-15T16:15:48.502433Z",
     "shell.execute_reply": "2025-05-15T16:15:48.502015Z"
    },
    "papermill": {
     "duration": 0.016811,
     "end_time": "2025-05-15T16:15:48.503408",
     "exception": false,
     "start_time": "2025-05-15T16:15:48.486597",
     "status": "completed"
    },
    "tags": []
   },
   "outputs": [
    {
     "data": {
      "text/plain": [
       "{'BAS': 0.5203754578754579, 'WF1': 0.7017222523393123}"
      ]
     },
     "execution_count": 26,
     "metadata": {},
     "output_type": "execute_result"
    }
   ],
   "source": [
    "metrics_dict"
   ]
  },
  {
   "cell_type": "code",
   "execution_count": 27,
   "id": "161845dd",
   "metadata": {
    "execution": {
     "iopub.execute_input": "2025-05-15T16:15:48.532954Z",
     "iopub.status.busy": "2025-05-15T16:15:48.532399Z",
     "iopub.status.idle": "2025-05-15T16:15:48.543808Z",
     "shell.execute_reply": "2025-05-15T16:15:48.543380Z"
    },
    "papermill": {
     "duration": 0.030515,
     "end_time": "2025-05-15T16:15:48.544739",
     "exception": false,
     "start_time": "2025-05-15T16:15:48.514224",
     "status": "completed"
    },
    "tags": []
   },
   "outputs": [
    {
     "data": {
      "text/html": [
       "<div>\n",
       "<style scoped>\n",
       "    .dataframe tbody tr th:only-of-type {\n",
       "        vertical-align: middle;\n",
       "    }\n",
       "\n",
       "    .dataframe tbody tr th {\n",
       "        vertical-align: top;\n",
       "    }\n",
       "\n",
       "    .dataframe thead th {\n",
       "        text-align: right;\n",
       "    }\n",
       "</style>\n",
       "<table border=\"1\" class=\"dataframe\">\n",
       "  <thead>\n",
       "    <tr style=\"text-align: right;\">\n",
       "      <th></th>\n",
       "      <th>BAS</th>\n",
       "      <th>WF1</th>\n",
       "      <th>split_idx</th>\n",
       "      <th>gene_set_seed</th>\n",
       "      <th>cell_type</th>\n",
       "    </tr>\n",
       "  </thead>\n",
       "  <tbody>\n",
       "    <tr>\n",
       "      <th>0</th>\n",
       "      <td>0.520375</td>\n",
       "      <td>0.701722</td>\n",
       "      <td>4</td>\n",
       "      <td>6</td>\n",
       "      <td>Plasma</td>\n",
       "    </tr>\n",
       "  </tbody>\n",
       "</table>\n",
       "</div>"
      ],
      "text/plain": [
       "        BAS       WF1  split_idx  gene_set_seed cell_type\n",
       "0  0.520375  0.701722          4              6    Plasma"
      ]
     },
     "execution_count": 27,
     "metadata": {},
     "output_type": "execute_result"
    }
   ],
   "source": [
    "metrics_df = pd.DataFrame.from_dict([metrics_dict]).assign(split_idx=TEST_SPLIT_IDX, gene_set_seed=SEED, cell_type=CELL_TYPE)\n",
    "metrics_df"
   ]
  },
  {
   "cell_type": "code",
   "execution_count": 28,
   "id": "3946f6be",
   "metadata": {
    "execution": {
     "iopub.execute_input": "2025-05-15T16:15:48.567432Z",
     "iopub.status.busy": "2025-05-15T16:15:48.566916Z",
     "iopub.status.idle": "2025-05-15T16:15:48.577568Z",
     "shell.execute_reply": "2025-05-15T16:15:48.577099Z"
    },
    "papermill": {
     "duration": 0.023043,
     "end_time": "2025-05-15T16:15:48.578545",
     "exception": false,
     "start_time": "2025-05-15T16:15:48.555502",
     "status": "completed"
    },
    "tags": []
   },
   "outputs": [],
   "source": [
    "out_dir = here(f'03_downstream_analysis/08_gene_importance/xgboost_external_validation/xgboost_TopN_genes/results_{N_GENES}/metrics')\n",
    "\n",
    "if not os.path.exists(out_dir):\n",
    "    os.makedirs(out_dir)\n",
    "    \n",
    "metrics_df.to_csv(os.path.join(out_dir, f'{CELL_TYPE}_{SEED}_{TEST_SPLIT_IDX}_metrics.zip'))"
   ]
  }
 ],
 "metadata": {
  "kernelspec": {
   "display_name": "Python 3 (ipykernel)",
   "language": "python",
   "name": "python3"
  },
  "language_info": {
   "codemirror_mode": {
    "name": "ipython",
    "version": 3
   },
   "file_extension": ".py",
   "mimetype": "text/x-python",
   "name": "python",
   "nbconvert_exporter": "python",
   "pygments_lexer": "ipython3",
   "version": "3.12.5"
  },
  "papermill": {
   "default_parameters": {},
   "duration": 18.251365,
   "end_time": "2025-05-15T16:15:49.319035",
   "environment_variables": {},
   "exception": null,
   "input_path": "02_xgboost_fitting_external_20genes.ipynb",
   "output_path": "results_20/executed_notebooks/xgboost_fitting_external_CT_Plasma_GS_6_seed4.ipynb",
   "parameters": {
    "CELL_TYPE": "Plasma",
    "SEED": 6,
    "TEST_SPLIT_IDX": 4
   },
   "start_time": "2025-05-15T16:15:31.067670",
   "version": "2.6.0"
  }
 },
 "nbformat": 4,
 "nbformat_minor": 5
}