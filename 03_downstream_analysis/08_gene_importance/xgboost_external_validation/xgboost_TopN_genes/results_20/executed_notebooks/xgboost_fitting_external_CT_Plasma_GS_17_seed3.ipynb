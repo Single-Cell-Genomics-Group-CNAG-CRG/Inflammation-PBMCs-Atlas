{
 "cells": [
  {
   "cell_type": "code",
   "execution_count": 1,
   "id": "52908bcd",
   "metadata": {
    "editable": true,
    "execution": {
     "iopub.execute_input": "2025-05-15T16:15:47.313172Z",
     "iopub.status.busy": "2025-05-15T16:15:47.312809Z",
     "iopub.status.idle": "2025-05-15T16:15:47.315579Z",
     "shell.execute_reply": "2025-05-15T16:15:47.315268Z"
    },
    "papermill": {
     "duration": 0.011374,
     "end_time": "2025-05-15T16:15:47.316673",
     "exception": false,
     "start_time": "2025-05-15T16:15:47.305299",
     "status": "completed"
    },
    "slideshow": {
     "slide_type": ""
    },
    "tags": [
     "parameters"
    ]
   },
   "outputs": [],
   "source": [
    "CELL_TYPE = 'pDC'\n",
    "N_GENES: int = 20\n",
    "SEED = 'shap_studyID' #'disease_NOstudy' 'study_NOdisease' or 'int' or 'shap_studyID'\n",
    "TEST_SPLIT_IDX: int = 1 #[0,4]"
   ]
  },
  {
   "cell_type": "code",
   "execution_count": 2,
   "id": "f6c0d14e",
   "metadata": {
    "execution": {
     "iopub.execute_input": "2025-05-15T16:15:47.328290Z",
     "iopub.status.busy": "2025-05-15T16:15:47.328106Z",
     "iopub.status.idle": "2025-05-15T16:15:47.330346Z",
     "shell.execute_reply": "2025-05-15T16:15:47.330058Z"
    },
    "papermill": {
     "duration": 0.008972,
     "end_time": "2025-05-15T16:15:47.331298",
     "exception": false,
     "start_time": "2025-05-15T16:15:47.322326",
     "status": "completed"
    },
    "tags": [
     "injected-parameters"
    ]
   },
   "outputs": [],
   "source": [
    "# Parameters\n",
    "CELL_TYPE = \"Plasma\"\n",
    "SEED = 17\n",
    "TEST_SPLIT_IDX = 3\n"
   ]
  },
  {
   "cell_type": "code",
   "execution_count": 3,
   "id": "1affc1f2",
   "metadata": {
    "execution": {
     "iopub.execute_input": "2025-05-15T16:15:47.343080Z",
     "iopub.status.busy": "2025-05-15T16:15:47.342906Z",
     "iopub.status.idle": "2025-05-15T16:15:47.345541Z",
     "shell.execute_reply": "2025-05-15T16:15:47.345223Z"
    },
    "papermill": {
     "duration": 0.009605,
     "end_time": "2025-05-15T16:15:47.346390",
     "exception": false,
     "start_time": "2025-05-15T16:15:47.336785",
     "status": "completed"
    },
    "tags": []
   },
   "outputs": [],
   "source": [
    "N_SPLITS: int = 5\n",
    "N_TRIALS: int = 50"
   ]
  },
  {
   "cell_type": "code",
   "execution_count": 4,
   "id": "668f9d34",
   "metadata": {
    "execution": {
     "iopub.execute_input": "2025-05-15T16:15:47.359062Z",
     "iopub.status.busy": "2025-05-15T16:15:47.358656Z",
     "iopub.status.idle": "2025-05-15T16:15:49.027004Z",
     "shell.execute_reply": "2025-05-15T16:15:49.026489Z"
    },
    "papermill": {
     "duration": 1.676489,
     "end_time": "2025-05-15T16:15:49.028288",
     "exception": false,
     "start_time": "2025-05-15T16:15:47.351799",
     "status": "completed"
    },
    "tags": []
   },
   "outputs": [],
   "source": [
    "import os\n",
    "import sys\n",
    "from pyprojroot.here import here\n",
    "import pandas as pd\n",
    "import anndata as ad\n",
    "import numpy as np\n",
    "import math\n",
    "from sklearn.model_selection import StratifiedGroupKFold\n",
    "from sklearn.preprocessing import LabelEncoder\n",
    "from sklearn.metrics import f1_score\n",
    "import matplotlib.pyplot as plt\n",
    "import seaborn as sns\n",
    "from itertools import product\n",
    "from sklearn.metrics import balanced_accuracy_score, f1_score\n",
    "import optuna\n",
    "\n",
    "import joblib\n",
    "import pickle\n",
    "import datetime\n",
    "\n",
    "import collections\n",
    "\n",
    "import xgboost\n",
    "from sklearn.preprocessing import LabelEncoder\n",
    "\n",
    "import scipy.sparse as ssp\n",
    "import joblib\n",
    "\n",
    "from dotenv import load_dotenv"
   ]
  },
  {
   "cell_type": "code",
   "execution_count": 5,
   "id": "30fee083",
   "metadata": {
    "execution": {
     "iopub.execute_input": "2025-05-15T16:15:49.040921Z",
     "iopub.status.busy": "2025-05-15T16:15:49.040583Z",
     "iopub.status.idle": "2025-05-15T16:15:49.046974Z",
     "shell.execute_reply": "2025-05-15T16:15:49.046655Z"
    },
    "papermill": {
     "duration": 0.013658,
     "end_time": "2025-05-15T16:15:49.048029",
     "exception": false,
     "start_time": "2025-05-15T16:15:49.034371",
     "status": "completed"
    },
    "tags": []
   },
   "outputs": [
    {
     "data": {
      "text/plain": [
       "True"
      ]
     },
     "execution_count": 5,
     "metadata": {},
     "output_type": "execute_result"
    }
   ],
   "source": [
    "load_dotenv()"
   ]
  },
  {
   "cell_type": "markdown",
   "id": "a62c4476",
   "metadata": {
    "papermill": {
     "duration": 0.005461,
     "end_time": "2025-05-15T16:15:49.059061",
     "exception": false,
     "start_time": "2025-05-15T16:15:49.053600",
     "status": "completed"
    },
    "tags": []
   },
   "source": [
    "# LOAD DATASET"
   ]
  },
  {
   "cell_type": "code",
   "execution_count": 6,
   "id": "4eed042f",
   "metadata": {
    "execution": {
     "iopub.execute_input": "2025-05-15T16:15:49.070812Z",
     "iopub.status.busy": "2025-05-15T16:15:49.070445Z",
     "iopub.status.idle": "2025-05-15T16:15:49.109941Z",
     "shell.execute_reply": "2025-05-15T16:15:49.109555Z"
    },
    "papermill": {
     "duration": 0.046469,
     "end_time": "2025-05-15T16:15:49.110982",
     "exception": false,
     "start_time": "2025-05-15T16:15:49.064513",
     "status": "completed"
    },
    "tags": []
   },
   "outputs": [],
   "source": [
    "train_adata = ad.read_h5ad(\n",
    "    here(f'03_downstream_analysis/08_gene_importance/xgboost_external_validation/xgboost_TopN_genes/data_cellTypes/EXTERNAL_{CELL_TYPE}.filtered.log1p.h5ad')\n",
    ")"
   ]
  },
  {
   "cell_type": "code",
   "execution_count": 7,
   "id": "b4f64b87",
   "metadata": {
    "execution": {
     "iopub.execute_input": "2025-05-15T16:15:49.123243Z",
     "iopub.status.busy": "2025-05-15T16:15:49.122882Z",
     "iopub.status.idle": "2025-05-15T16:15:49.133301Z",
     "shell.execute_reply": "2025-05-15T16:15:49.132943Z"
    },
    "papermill": {
     "duration": 0.017168,
     "end_time": "2025-05-15T16:15:49.134097",
     "exception": false,
     "start_time": "2025-05-15T16:15:49.116929",
     "status": "completed"
    },
    "tags": []
   },
   "outputs": [
    {
     "name": "stdout",
     "output_type": "stream",
     "text": [
      "['ENSG00000204267' 'ENSG00000104998' 'ENSG00000005844' 'ENSG00000152518'\n",
      " 'ENSG00000196154' 'ENSG00000153283' 'ENSG00000115232' 'ENSG00000121879'\n",
      " 'ENSG00000143119' 'ENSG00000139514' 'ENSG00000136997' 'ENSG00000033800'\n",
      " 'ENSG00000223865' 'ENSG00000130429' 'ENSG00000206503' 'ENSG00000165280'\n",
      " 'ENSG00000184557' 'ENSG00000168461' 'ENSG00000105221' 'ENSG00000026025'\n",
      " 'ENSG00000186010' 'ENSG00000164307' 'ENSG00000110876' 'ENSG00000100393'\n",
      " 'ENSG00000179218' 'ENSG00000180008' 'ENSG00000104964' 'ENSG00000068831'\n",
      " 'ENSG00000104856' 'ENSG00000157514' 'ENSG00000240505' 'ENSG00000171791'\n",
      " 'ENSG00000145247' 'ENSG00000140379' 'ENSG00000101350' 'ENSG00000113811'\n",
      " 'ENSG00000136003' 'ENSG00000133639' 'ENSG00000105397' 'ENSG00000160888'\n",
      " 'ENSG00000175482' 'ENSG00000116171' 'ENSG00000099204' 'ENSG00000152778'\n",
      " 'ENSG00000100100' 'ENSG00000120837' 'ENSG00000244687' 'ENSG00000136156'\n",
      " 'ENSG00000166710' 'ENSG00000122705' 'ENSG00000030110' 'ENSG00000106605'\n",
      " 'ENSG00000137965' 'ENSG00000140264' 'ENSG00000231925' 'ENSG00000115738'\n",
      " 'ENSG00000142546' 'ENSG00000132475' 'ENSG00000240065' 'ENSG00000075234'\n",
      " 'ENSG00000170540' 'ENSG00000121807' 'ENSG00000100600' 'ENSG00000120738'\n",
      " 'ENSG00000127022' 'ENSG00000168389' 'ENSG00000096996' 'ENSG00000140105'\n",
      " 'ENSG00000130066' 'ENSG00000197471' 'ENSG00000231389' 'ENSG00000103187'\n",
      " 'ENSG00000101017' 'ENSG00000171700' 'ENSG00000090554' 'ENSG00000185436'\n",
      " 'ENSG00000152234' 'ENSG00000009790' 'ENSG00000100385' 'ENSG00000006125'\n",
      " 'ENSG00000082074' 'ENSG00000001167' 'ENSG00000158050' 'ENSG00000189067'\n",
      " 'ENSG00000153234' 'ENSG00000139318' 'ENSG00000105583' 'ENSG00000048462'\n",
      " 'ENSG00000118503' 'ENSG00000165168' 'ENSG00000146457' 'ENSG00000108639'\n",
      " 'ENSG00000145675' 'ENSG00000127951' 'ENSG00000138107' 'ENSG00000182866'\n",
      " 'ENSG00000018280' 'ENSG00000145912' 'ENSG00000115145' 'ENSG00000164308'\n",
      " 'ENSG00000076944' 'ENSG00000148908' 'ENSG00000166747' 'ENSG00000155368'\n",
      " 'ENSG00000116815' 'ENSG00000127184' 'ENSG00000002586']\n"
     ]
    }
   ],
   "source": [
    "if SEED != 'all':\n",
    "    gene_subset = np.load(here(f'03_downstream_analysis/08_gene_importance/xgboost_external_validation/shap_gene_selection/gene_subsets_{N_GENES}/{CELL_TYPE}_{SEED}.npy'), allow_pickle=True)\n",
    "    train_adata = train_adata[:,gene_subset]\n",
    "    print(gene_subset)\n",
    "elif SEED == 'all':\n",
    "    print('Using all genes')\n",
    "else:\n",
    "    raise ValueError()"
   ]
  },
  {
   "cell_type": "code",
   "execution_count": 8,
   "id": "9463983c",
   "metadata": {
    "execution": {
     "iopub.execute_input": "2025-05-15T16:15:49.145849Z",
     "iopub.status.busy": "2025-05-15T16:15:49.145632Z",
     "iopub.status.idle": "2025-05-15T16:15:49.148554Z",
     "shell.execute_reply": "2025-05-15T16:15:49.148243Z"
    },
    "papermill": {
     "duration": 0.009782,
     "end_time": "2025-05-15T16:15:49.149552",
     "exception": false,
     "start_time": "2025-05-15T16:15:49.139770",
     "status": "completed"
    },
    "tags": []
   },
   "outputs": [
    {
     "data": {
      "text/plain": [
       "(542, 107)"
      ]
     },
     "execution_count": 8,
     "metadata": {},
     "output_type": "execute_result"
    }
   ],
   "source": [
    "train_adata.shape"
   ]
  },
  {
   "cell_type": "code",
   "execution_count": 9,
   "id": "da312f92",
   "metadata": {
    "execution": {
     "iopub.execute_input": "2025-05-15T16:15:49.161217Z",
     "iopub.status.busy": "2025-05-15T16:15:49.161049Z",
     "iopub.status.idle": "2025-05-15T16:15:49.164618Z",
     "shell.execute_reply": "2025-05-15T16:15:49.164246Z"
    },
    "papermill": {
     "duration": 0.010269,
     "end_time": "2025-05-15T16:15:49.165434",
     "exception": false,
     "start_time": "2025-05-15T16:15:49.155165",
     "status": "completed"
    },
    "tags": []
   },
   "outputs": [
    {
     "data": {
      "text/plain": [
       "['RA', 'COVID', 'healthy', 'HIV', 'cirrhosis', 'CD', 'SLE', 'sepsis']\n",
       "Categories (8, object): ['CD', 'COVID', 'HIV', 'RA', 'SLE', 'cirrhosis', 'healthy', 'sepsis']"
      ]
     },
     "execution_count": 9,
     "metadata": {},
     "output_type": "execute_result"
    }
   ],
   "source": [
    "train_adata.obs.disease.unique()"
   ]
  },
  {
   "cell_type": "code",
   "execution_count": 10,
   "id": "67eedf3e",
   "metadata": {
    "execution": {
     "iopub.execute_input": "2025-05-15T16:15:49.177306Z",
     "iopub.status.busy": "2025-05-15T16:15:49.177086Z",
     "iopub.status.idle": "2025-05-15T16:15:49.180715Z",
     "shell.execute_reply": "2025-05-15T16:15:49.180384Z"
    },
    "papermill": {
     "duration": 0.010565,
     "end_time": "2025-05-15T16:15:49.181600",
     "exception": false,
     "start_time": "2025-05-15T16:15:49.171035",
     "status": "completed"
    },
    "tags": []
   },
   "outputs": [
    {
     "data": {
      "text/plain": [
       "['SCGT00val_I0364_T0', 'SCGT00val_I036019_T0', 'SCGT00val_I036028_T0', 'SCGT00val_I036024_T0', 'SCGT00val_I036016_T0', ..., '10XGenomics_10XHC2_T0', '10XGenomics_10XHC3_T0', '10XGenomics_10XHC5_T0', '10XGenomics_10XHC7_T0', '10XGenomics_10XHC8_T0']\n",
       "Length: 74\n",
       "Categories (74, object): ['10XGenomics_10XHC1_T0', '10XGenomics_10XHC2_T0', '10XGenomics_10XHC3_T0', '10XGenomics_10XHC4_T0', ..., 'Savage2021_BRISL6_T0', 'Savage2021_BRISL7_T0', 'Savage2021_PIDA_T0', 'Savage2021_PIDB_T0']"
      ]
     },
     "execution_count": 10,
     "metadata": {},
     "output_type": "execute_result"
    }
   ],
   "source": [
    "train_adata.obs.sampleID.unique()"
   ]
  },
  {
   "cell_type": "code",
   "execution_count": 11,
   "id": "2c451bc5",
   "metadata": {
    "execution": {
     "iopub.execute_input": "2025-05-15T16:15:49.194209Z",
     "iopub.status.busy": "2025-05-15T16:15:49.193865Z",
     "iopub.status.idle": "2025-05-15T16:15:49.222739Z",
     "shell.execute_reply": "2025-05-15T16:15:49.222329Z"
    },
    "papermill": {
     "duration": 0.036269,
     "end_time": "2025-05-15T16:15:49.223602",
     "exception": false,
     "start_time": "2025-05-15T16:15:49.187333",
     "status": "completed"
    },
    "tags": []
   },
   "outputs": [],
   "source": [
    "all_idxs = np.arange(train_adata.obs.shape[0])\n",
    "left_out_splits = [s[1] for s in StratifiedGroupKFold(n_splits=N_SPLITS).split(all_idxs, train_adata.obs.disease, train_adata.obs.sampleID)]"
   ]
  },
  {
   "cell_type": "code",
   "execution_count": 12,
   "id": "ecfbec44",
   "metadata": {
    "execution": {
     "iopub.execute_input": "2025-05-15T16:15:49.236282Z",
     "iopub.status.busy": "2025-05-15T16:15:49.236011Z",
     "iopub.status.idle": "2025-05-15T16:15:49.239056Z",
     "shell.execute_reply": "2025-05-15T16:15:49.238772Z"
    },
    "papermill": {
     "duration": 0.010331,
     "end_time": "2025-05-15T16:15:49.239822",
     "exception": false,
     "start_time": "2025-05-15T16:15:49.229491",
     "status": "completed"
    },
    "tags": []
   },
   "outputs": [
    {
     "data": {
      "text/plain": [
       "([0, 1, 2], 4, 3)"
      ]
     },
     "execution_count": 12,
     "metadata": {},
     "output_type": "execute_result"
    }
   ],
   "source": [
    "TRAIN_SPLIT_IDXS = [0,1,2,3,4]\n",
    "VAL_SPLIT_IDX = (TEST_SPLIT_IDX + 1) % 5\n",
    "TRAIN_SPLIT_IDXS.remove(TEST_SPLIT_IDX)\n",
    "TRAIN_SPLIT_IDXS.remove(VAL_SPLIT_IDX)\n",
    "TRAIN_SPLIT_IDXS, VAL_SPLIT_IDX, TEST_SPLIT_IDX"
   ]
  },
  {
   "cell_type": "code",
   "execution_count": 13,
   "id": "0fb4731d",
   "metadata": {
    "execution": {
     "iopub.execute_input": "2025-05-15T16:15:49.252456Z",
     "iopub.status.busy": "2025-05-15T16:15:49.252113Z",
     "iopub.status.idle": "2025-05-15T16:15:49.254371Z",
     "shell.execute_reply": "2025-05-15T16:15:49.254069Z"
    },
    "papermill": {
     "duration": 0.009662,
     "end_time": "2025-05-15T16:15:49.255172",
     "exception": false,
     "start_time": "2025-05-15T16:15:49.245510",
     "status": "completed"
    },
    "tags": []
   },
   "outputs": [],
   "source": [
    "train_idxs = np.concatenate([left_out_splits[idx] for idx in TRAIN_SPLIT_IDXS])\n",
    "val_idxs = left_out_splits[VAL_SPLIT_IDX]\n",
    "test_idxs = left_out_splits[TEST_SPLIT_IDX]"
   ]
  },
  {
   "cell_type": "markdown",
   "id": "0c505ece",
   "metadata": {
    "papermill": {
     "duration": 0.005887,
     "end_time": "2025-05-15T16:15:49.266607",
     "exception": false,
     "start_time": "2025-05-15T16:15:49.260720",
     "status": "completed"
    },
    "tags": []
   },
   "source": [
    "### SUBSET DATASET INTO TRAIN/TEST/VAL SPLITS"
   ]
  },
  {
   "cell_type": "code",
   "execution_count": 14,
   "id": "40379ade",
   "metadata": {
    "execution": {
     "iopub.execute_input": "2025-05-15T16:15:49.279549Z",
     "iopub.status.busy": "2025-05-15T16:15:49.279136Z",
     "iopub.status.idle": "2025-05-15T16:15:49.285562Z",
     "shell.execute_reply": "2025-05-15T16:15:49.285251Z"
    },
    "papermill": {
     "duration": 0.014018,
     "end_time": "2025-05-15T16:15:49.286410",
     "exception": false,
     "start_time": "2025-05-15T16:15:49.272392",
     "status": "completed"
    },
    "tags": []
   },
   "outputs": [
    {
     "data": {
      "text/plain": [
       "((327, 107), (99, 107), (116, 107))"
      ]
     },
     "execution_count": 14,
     "metadata": {},
     "output_type": "execute_result"
    }
   ],
   "source": [
    "X_train = train_adata.X[train_idxs]\n",
    "X_test = train_adata.X[test_idxs]\n",
    "X_val = train_adata.X[val_idxs]\n",
    "X_train.shape, X_test.shape, X_val.shape"
   ]
  },
  {
   "cell_type": "code",
   "execution_count": 15,
   "id": "f5c0dd59",
   "metadata": {
    "execution": {
     "iopub.execute_input": "2025-05-15T16:15:49.299664Z",
     "iopub.status.busy": "2025-05-15T16:15:49.299512Z",
     "iopub.status.idle": "2025-05-15T16:15:49.304161Z",
     "shell.execute_reply": "2025-05-15T16:15:49.303864Z"
    },
    "papermill": {
     "duration": 0.011849,
     "end_time": "2025-05-15T16:15:49.305007",
     "exception": false,
     "start_time": "2025-05-15T16:15:49.293158",
     "status": "completed"
    },
    "tags": []
   },
   "outputs": [
    {
     "data": {
      "text/plain": [
       "((327,), (99,), (116,))"
      ]
     },
     "execution_count": 15,
     "metadata": {},
     "output_type": "execute_result"
    }
   ],
   "source": [
    "y_train = train_adata.obs.iloc[train_idxs].disease.values.astype(str)\n",
    "y_test = train_adata.obs.iloc[test_idxs].disease.values.astype(str)\n",
    "y_val = train_adata.obs.iloc[val_idxs].disease.values.astype(str)\n",
    "y_train.shape, y_test.shape, y_val.shape"
   ]
  },
  {
   "cell_type": "code",
   "execution_count": 16,
   "id": "ed9659e6",
   "metadata": {
    "execution": {
     "iopub.execute_input": "2025-05-15T16:15:49.317575Z",
     "iopub.status.busy": "2025-05-15T16:15:49.317380Z",
     "iopub.status.idle": "2025-05-15T16:15:49.320090Z",
     "shell.execute_reply": "2025-05-15T16:15:49.319796Z"
    },
    "papermill": {
     "duration": 0.009915,
     "end_time": "2025-05-15T16:15:49.320868",
     "exception": false,
     "start_time": "2025-05-15T16:15:49.310953",
     "status": "completed"
    },
    "tags": []
   },
   "outputs": [],
   "source": [
    "lenc = LabelEncoder()\n",
    "y_train_enc = lenc.fit_transform(y_train)\n",
    "y_val_enc = lenc.transform(y_val)\n",
    "y_test_enc = lenc.transform(y_test)"
   ]
  },
  {
   "cell_type": "markdown",
   "id": "31b94bfb",
   "metadata": {
    "papermill": {
     "duration": 0.00613,
     "end_time": "2025-05-15T16:15:49.332864",
     "exception": false,
     "start_time": "2025-05-15T16:15:49.326734",
     "status": "completed"
    },
    "tags": []
   },
   "source": [
    "### GENERATE F1 "
   ]
  },
  {
   "cell_type": "code",
   "execution_count": 17,
   "id": "eb2f9835",
   "metadata": {
    "execution": {
     "iopub.execute_input": "2025-05-15T16:15:49.345307Z",
     "iopub.status.busy": "2025-05-15T16:15:49.345090Z",
     "iopub.status.idle": "2025-05-15T16:15:49.347354Z",
     "shell.execute_reply": "2025-05-15T16:15:49.347068Z"
    },
    "papermill": {
     "duration": 0.009347,
     "end_time": "2025-05-15T16:15:49.348172",
     "exception": false,
     "start_time": "2025-05-15T16:15:49.338825",
     "status": "completed"
    },
    "tags": []
   },
   "outputs": [],
   "source": [
    "def custom_f1_score(y_true, y_pred):\n",
    "    return -f1_score(y_true, y_pred.argmax(1), average='weighted')"
   ]
  },
  {
   "cell_type": "code",
   "execution_count": 18,
   "id": "05e5f75b",
   "metadata": {
    "execution": {
     "iopub.execute_input": "2025-05-15T16:15:49.360528Z",
     "iopub.status.busy": "2025-05-15T16:15:49.360392Z",
     "iopub.status.idle": "2025-05-15T16:15:49.363960Z",
     "shell.execute_reply": "2025-05-15T16:15:49.363664Z"
    },
    "papermill": {
     "duration": 0.010592,
     "end_time": "2025-05-15T16:15:49.364730",
     "exception": false,
     "start_time": "2025-05-15T16:15:49.354138",
     "status": "completed"
    },
    "tags": []
   },
   "outputs": [],
   "source": [
    "eval_metric=custom_f1_score\n",
    "eval_metric_name='custom_f1_score'\n",
    "\n",
    "def objective(trial):\n",
    "    params = {\n",
    "        'n_estimators': 1500,\n",
    "        'max_depth': trial.suggest_int('max_depth', 3, 20),\n",
    "        'min_child_weight': trial.suggest_int('min_child_weight', 1, 250),\n",
    "        'subsample': trial.suggest_float('subsample', 0.1, 1.0),\n",
    "        'colsample_bynode': trial.suggest_float('colsample_bynode', 0.1, 1.0),\n",
    "        'learning_rate': trial.suggest_float('learning_rate', 1e-3, 5e-1, log=True),\n",
    "    }\n",
    "    pruning_callback = optuna.integration.XGBoostPruningCallback(trial, f'validation_0-{eval_metric_name}')\n",
    "    es_callback = xgboost.callback.EarlyStopping(20, min_delta=0.001)\n",
    "    xgb = xgboost.XGBClassifier(\n",
    "        eval_metric=eval_metric,\n",
    "        callbacks=[pruning_callback, es_callback],\n",
    "        n_jobs=5,\n",
    "        **params\n",
    "    )\n",
    "    xgb.fit(\n",
    "        X_train, \n",
    "        y_train_enc, \n",
    "        verbose=0,\n",
    "        eval_set=[(X_val, y_val_enc)],\n",
    "    )\n",
    "    trial.set_user_attr('best_iteration', xgb.best_iteration)\n",
    "\n",
    "    return xgb.best_score"
   ]
  },
  {
   "cell_type": "code",
   "execution_count": 19,
   "id": "fecec11c",
   "metadata": {
    "execution": {
     "iopub.execute_input": "2025-05-15T16:15:49.377452Z",
     "iopub.status.busy": "2025-05-15T16:15:49.377243Z",
     "iopub.status.idle": "2025-05-15T16:16:00.513137Z",
     "shell.execute_reply": "2025-05-15T16:16:00.512719Z"
    },
    "papermill": {
     "duration": 11.143607,
     "end_time": "2025-05-15T16:16:00.514236",
     "exception": false,
     "start_time": "2025-05-15T16:15:49.370629",
     "status": "completed"
    },
    "scrolled": true,
    "tags": []
   },
   "outputs": [
    {
     "name": "stderr",
     "output_type": "stream",
     "text": [
      "[I 2025-05-15 18:15:49,379] A new study created in memory with name: no-name-219b0b97-b518-4469-9827-3446af13c272\n"
     ]
    },
    {
     "name": "stderr",
     "output_type": "stream",
     "text": [
      "[I 2025-05-15 18:15:49,450] Trial 0 finished with value: -0.041688 and parameters: {'max_depth': 9, 'min_child_weight': 238, 'subsample': 0.7587945476302645, 'colsample_bynode': 0.6387926357773329, 'learning_rate': 0.0026368755339723046}. Best is trial 0 with value: -0.041688.\n"
     ]
    },
    {
     "name": "stderr",
     "output_type": "stream",
     "text": [
      "[I 2025-05-15 18:15:49,870] Trial 1 finished with value: -0.609836 and parameters: {'max_depth': 5, 'min_child_weight': 15, 'subsample': 0.8795585311974417, 'colsample_bynode': 0.6410035105688879, 'learning_rate': 0.08148293210105287}. Best is trial 1 with value: -0.609836.\n"
     ]
    },
    {
     "name": "stderr",
     "output_type": "stream",
     "text": [
      "[I 2025-05-15 18:15:49,998] Trial 2 finished with value: -0.041688 and parameters: {'max_depth': 3, 'min_child_weight': 243, 'subsample': 0.8491983767203796, 'colsample_bynode': 0.29110519961044856, 'learning_rate': 0.003095566460242371}. Best is trial 1 with value: -0.609836.\n"
     ]
    },
    {
     "name": "stderr",
     "output_type": "stream",
     "text": [
      "[I 2025-05-15 18:15:50,129] Trial 3 finished with value: -0.041688 and parameters: {'max_depth': 6, 'min_child_weight': 77, 'subsample': 0.5722807884690141, 'colsample_bynode': 0.48875051677790415, 'learning_rate': 0.006109683510122491}. Best is trial 1 with value: -0.609836.\n"
     ]
    },
    {
     "name": "stderr",
     "output_type": "stream",
     "text": [
      "[I 2025-05-15 18:15:50,260] Trial 4 finished with value: -0.041688 and parameters: {'max_depth': 14, 'min_child_weight': 35, 'subsample': 0.3629301836816964, 'colsample_bynode': 0.4297256589643226, 'learning_rate': 0.01701841881702917}. Best is trial 1 with value: -0.609836.\n"
     ]
    },
    {
     "name": "stderr",
     "output_type": "stream",
     "text": [
      "[I 2025-05-15 18:15:50,396] Trial 5 finished with value: -0.041688 and parameters: {'max_depth': 17, 'min_child_weight': 50, 'subsample': 0.5628109945722505, 'colsample_bynode': 0.6331731119758383, 'learning_rate': 0.0013346527038305934}. Best is trial 1 with value: -0.609836.\n"
     ]
    },
    {
     "name": "stderr",
     "output_type": "stream",
     "text": [
      "[I 2025-05-15 18:15:50,537] Trial 6 finished with value: -0.041688 and parameters: {'max_depth': 13, 'min_child_weight': 43, 'subsample': 0.1585464336867516, 'colsample_bynode': 0.9539969835279999, 'learning_rate': 0.4038423798071558}. Best is trial 1 with value: -0.609836.\n"
     ]
    },
    {
     "name": "stderr",
     "output_type": "stream",
     "text": [
      "[I 2025-05-15 18:15:50,675] Trial 7 finished with value: -0.041688 and parameters: {'max_depth': 17, 'min_child_weight': 77, 'subsample': 0.1879049026057455, 'colsample_bynode': 0.7158097238609412, 'learning_rate': 0.015415527060141935}. Best is trial 1 with value: -0.609836.\n"
     ]
    },
    {
     "name": "stderr",
     "output_type": "stream",
     "text": [
      "[I 2025-05-15 18:15:50,817] Trial 8 finished with value: -0.041688 and parameters: {'max_depth': 5, 'min_child_weight': 124, 'subsample': 0.13094966900369656, 'colsample_bynode': 0.9183883618709039, 'learning_rate': 0.004993895014755658}. Best is trial 1 with value: -0.609836.\n"
     ]
    },
    {
     "name": "stderr",
     "output_type": "stream",
     "text": [
      "[I 2025-05-15 18:15:50,957] Trial 9 finished with value: -0.041688 and parameters: {'max_depth': 14, 'min_child_weight': 78, 'subsample': 0.5680612190600297, 'colsample_bynode': 0.5920392514089517, 'learning_rate': 0.0031543990308330965}. Best is trial 1 with value: -0.609836.\n"
     ]
    },
    {
     "name": "stderr",
     "output_type": "stream",
     "text": [
      "[I 2025-05-15 18:15:51,470] Trial 10 finished with value: -0.624053 and parameters: {'max_depth': 9, 'min_child_weight': 2, 'subsample': 0.9725833997090791, 'colsample_bynode': 0.11616568805333755, 'learning_rate': 0.17780618353487967}. Best is trial 10 with value: -0.624053.\n"
     ]
    },
    {
     "name": "stderr",
     "output_type": "stream",
     "text": [
      "[I 2025-05-15 18:15:51,859] Trial 11 finished with value: -0.64543 and parameters: {'max_depth': 9, 'min_child_weight': 4, 'subsample': 0.9818290990185045, 'colsample_bynode': 0.17702656156719, 'learning_rate': 0.11568531411766632}. Best is trial 11 with value: -0.64543.\n"
     ]
    },
    {
     "name": "stderr",
     "output_type": "stream",
     "text": [
      "[I 2025-05-15 18:15:52,326] Trial 12 pruned. Trial was pruned at iteration 55.\n"
     ]
    },
    {
     "name": "stderr",
     "output_type": "stream",
     "text": [
      "[I 2025-05-15 18:15:52,477] Trial 13 finished with value: -0.041688 and parameters: {'max_depth': 10, 'min_child_weight': 173, 'subsample': 0.9990589868255076, 'colsample_bynode': 0.10388397775802007, 'learning_rate': 0.08343244313100631}. Best is trial 11 with value: -0.64543.\n"
     ]
    },
    {
     "name": "stderr",
     "output_type": "stream",
     "text": [
      "[I 2025-05-15 18:15:52,632] Trial 14 finished with value: -0.041688 and parameters: {'max_depth': 7, 'min_child_weight': 132, 'subsample': 0.7251427075087294, 'colsample_bynode': 0.2827065087684573, 'learning_rate': 0.4477473783244542}. Best is trial 11 with value: -0.64543.\n"
     ]
    },
    {
     "name": "stderr",
     "output_type": "stream",
     "text": [
      "[I 2025-05-15 18:15:53,317] Trial 15 finished with value: -0.639803 and parameters: {'max_depth': 20, 'min_child_weight': 2, 'subsample': 0.719264024177087, 'colsample_bynode': 0.2540835086298475, 'learning_rate': 0.03987682305667138}. Best is trial 11 with value: -0.64543.\n"
     ]
    },
    {
     "name": "stderr",
     "output_type": "stream",
     "text": [
      "[I 2025-05-15 18:15:53,469] Trial 16 finished with value: -0.041688 and parameters: {'max_depth': 20, 'min_child_weight': 117, 'subsample': 0.6730263351162008, 'colsample_bynode': 0.2703877080693743, 'learning_rate': 0.04110937244314767}. Best is trial 11 with value: -0.64543.\n"
     ]
    },
    {
     "name": "stderr",
     "output_type": "stream",
     "text": [
      "[I 2025-05-15 18:15:53,617] Trial 17 finished with value: -0.041688 and parameters: {'max_depth': 20, 'min_child_weight': 183, 'subsample': 0.37310167079970213, 'colsample_bynode': 0.38835173273745516, 'learning_rate': 0.041262202391515325}. Best is trial 11 with value: -0.64543.\n"
     ]
    },
    {
     "name": "stderr",
     "output_type": "stream",
     "text": [
      "[I 2025-05-15 18:15:53,765] Trial 18 finished with value: -0.119292 and parameters: {'max_depth': 12, 'min_child_weight': 37, 'subsample': 0.8259163781171385, 'colsample_bynode': 0.21488984204344502, 'learning_rate': 0.0311521997998309}. Best is trial 11 with value: -0.64543.\n"
     ]
    },
    {
     "name": "stderr",
     "output_type": "stream",
     "text": [
      "[I 2025-05-15 18:15:53,914] Trial 19 finished with value: -0.041688 and parameters: {'max_depth': 17, 'min_child_weight': 99, 'subsample': 0.664982025414379, 'colsample_bynode': 0.4027887943468127, 'learning_rate': 0.19303118935659103}. Best is trial 11 with value: -0.64543.\n"
     ]
    },
    {
     "name": "stderr",
     "output_type": "stream",
     "text": [
      "[I 2025-05-15 18:15:54,061] Trial 20 pruned. Trial was pruned at iteration 21.\n"
     ]
    },
    {
     "name": "stderr",
     "output_type": "stream",
     "text": [
      "[I 2025-05-15 18:15:54,502] Trial 21 pruned. Trial was pruned at iteration 44.\n"
     ]
    },
    {
     "name": "stderr",
     "output_type": "stream",
     "text": [
      "[I 2025-05-15 18:15:54,659] Trial 22 finished with value: -0.119292 and parameters: {'max_depth': 8, 'min_child_weight': 56, 'subsample': 0.7982423974446629, 'colsample_bynode': 0.33157318456967083, 'learning_rate': 0.14023760395671528}. Best is trial 11 with value: -0.64543.\n"
     ]
    },
    {
     "name": "stderr",
     "output_type": "stream",
     "text": [
      "[I 2025-05-15 18:15:54,830] Trial 23 pruned. Trial was pruned at iteration 21.\n"
     ]
    },
    {
     "name": "stderr",
     "output_type": "stream",
     "text": [
      "[I 2025-05-15 18:15:55,342] Trial 24 finished with value: -0.681514 and parameters: {'max_depth': 8, 'min_child_weight': 4, 'subsample': 0.9311377556803607, 'colsample_bynode': 0.8162809857042157, 'learning_rate': 0.27510254899458203}. Best is trial 24 with value: -0.681514.\n"
     ]
    },
    {
     "name": "stderr",
     "output_type": "stream",
     "text": [
      "[I 2025-05-15 18:15:55,504] Trial 25 finished with value: -0.041688 and parameters: {'max_depth': 3, 'min_child_weight': 62, 'subsample': 0.6690431969283666, 'colsample_bynode': 0.8368811542739161, 'learning_rate': 0.3359188325848136}. Best is trial 24 with value: -0.681514.\n"
     ]
    },
    {
     "name": "stderr",
     "output_type": "stream",
     "text": [
      "[I 2025-05-15 18:15:55,699] Trial 26 pruned. Trial was pruned at iteration 21.\n"
     ]
    },
    {
     "name": "stderr",
     "output_type": "stream",
     "text": [
      "[I 2025-05-15 18:15:55,858] Trial 27 finished with value: -0.041688 and parameters: {'max_depth': 10, 'min_child_weight': 164, 'subsample': 0.7499057733296676, 'colsample_bynode': 0.5102594581148544, 'learning_rate': 0.27030298674224046}. Best is trial 24 with value: -0.681514.\n"
     ]
    },
    {
     "name": "stderr",
     "output_type": "stream",
     "text": [
      "[I 2025-05-15 18:15:56,016] Trial 28 finished with value: -0.041688 and parameters: {'max_depth': 18, 'min_child_weight': 208, 'subsample': 0.8087812736817006, 'colsample_bynode': 0.7547835364105744, 'learning_rate': 0.11466963548920447}. Best is trial 24 with value: -0.681514.\n"
     ]
    },
    {
     "name": "stderr",
     "output_type": "stream",
     "text": [
      "[I 2025-05-15 18:15:56,176] Trial 29 finished with value: -0.041688 and parameters: {'max_depth': 8, 'min_child_weight': 102, 'subsample': 0.4784500760073389, 'colsample_bynode': 0.9944585065447379, 'learning_rate': 0.05011383935846556}. Best is trial 24 with value: -0.681514.\n"
     ]
    },
    {
     "name": "stderr",
     "output_type": "stream",
     "text": [
      "[I 2025-05-15 18:15:56,333] Trial 30 finished with value: -0.041688 and parameters: {'max_depth': 12, 'min_child_weight': 220, 'subsample': 0.9416718271095663, 'colsample_bynode': 0.36107866779339803, 'learning_rate': 0.02466750364275751}. Best is trial 24 with value: -0.681514.\n"
     ]
    },
    {
     "name": "stderr",
     "output_type": "stream",
     "text": [
      "[I 2025-05-15 18:15:56,610] Trial 31 finished with value: -0.611606 and parameters: {'max_depth': 9, 'min_child_weight': 4, 'subsample': 0.9966476301986823, 'colsample_bynode': 0.1961820285218943, 'learning_rate': 0.1640287395246375}. Best is trial 24 with value: -0.681514.\n"
     ]
    },
    {
     "name": "stderr",
     "output_type": "stream",
     "text": [
      "[I 2025-05-15 18:15:56,795] Trial 32 pruned. Trial was pruned at iteration 21.\n"
     ]
    },
    {
     "name": "stderr",
     "output_type": "stream",
     "text": [
      "[I 2025-05-15 18:15:56,963] Trial 33 pruned. Trial was pruned at iteration 21.\n"
     ]
    },
    {
     "name": "stderr",
     "output_type": "stream",
     "text": [
      "[I 2025-05-15 18:15:57,148] Trial 34 pruned. Trial was pruned at iteration 21.\n"
     ]
    },
    {
     "name": "stderr",
     "output_type": "stream",
     "text": [
      "[I 2025-05-15 18:15:57,301] Trial 35 finished with value: -0.041688 and parameters: {'max_depth': 6, 'min_child_weight': 67, 'subsample': 0.7682852297065706, 'colsample_bynode': 0.3340630607581552, 'learning_rate': 0.24873565948263954}. Best is trial 24 with value: -0.681514.\n"
     ]
    },
    {
     "name": "stderr",
     "output_type": "stream",
     "text": [
      "[I 2025-05-15 18:15:57,462] Trial 36 pruned. Trial was pruned at iteration 21.\n"
     ]
    },
    {
     "name": "stderr",
     "output_type": "stream",
     "text": [
      "[I 2025-05-15 18:15:57,620] Trial 37 finished with value: -0.119292 and parameters: {'max_depth': 4, 'min_child_weight': 45, 'subsample': 0.9489697202882197, 'colsample_bynode': 0.7112900398848462, 'learning_rate': 0.01542429408475207}. Best is trial 24 with value: -0.681514.\n"
     ]
    },
    {
     "name": "stderr",
     "output_type": "stream",
     "text": [
      "[I 2025-05-15 18:15:57,779] Trial 38 pruned. Trial was pruned at iteration 21.\n"
     ]
    },
    {
     "name": "stderr",
     "output_type": "stream",
     "text": [
      "[I 2025-05-15 18:15:58,191] Trial 39 finished with value: -0.635626 and parameters: {'max_depth': 6, 'min_child_weight': 7, 'subsample': 0.8691217063254666, 'colsample_bynode': 0.46772844026793237, 'learning_rate': 0.028687888762307566}. Best is trial 24 with value: -0.681514.\n"
     ]
    },
    {
     "name": "stderr",
     "output_type": "stream",
     "text": [
      "[I 2025-05-15 18:15:58,352] Trial 40 finished with value: -0.041688 and parameters: {'max_depth': 6, 'min_child_weight': 48, 'subsample': 0.6135397358527036, 'colsample_bynode': 0.6028559206328793, 'learning_rate': 0.00927232116827117}. Best is trial 24 with value: -0.681514.\n"
     ]
    },
    {
     "name": "stderr",
     "output_type": "stream",
     "text": [
      "[I 2025-05-15 18:15:58,848] Trial 41 pruned. Trial was pruned at iteration 30.\n"
     ]
    },
    {
     "name": "stderr",
     "output_type": "stream",
     "text": [
      "[I 2025-05-15 18:15:59,062] Trial 42 pruned. Trial was pruned at iteration 21.\n"
     ]
    },
    {
     "name": "stderr",
     "output_type": "stream",
     "text": [
      "[I 2025-05-15 18:15:59,238] Trial 43 pruned. Trial was pruned at iteration 21.\n"
     ]
    },
    {
     "name": "stderr",
     "output_type": "stream",
     "text": [
      "[I 2025-05-15 18:15:59,430] Trial 44 pruned. Trial was pruned at iteration 21.\n"
     ]
    },
    {
     "name": "stderr",
     "output_type": "stream",
     "text": [
      "[I 2025-05-15 18:15:59,602] Trial 45 pruned. Trial was pruned at iteration 21.\n"
     ]
    },
    {
     "name": "stderr",
     "output_type": "stream",
     "text": [
      "[I 2025-05-15 18:15:59,794] Trial 46 pruned. Trial was pruned at iteration 21.\n"
     ]
    },
    {
     "name": "stderr",
     "output_type": "stream",
     "text": [
      "[I 2025-05-15 18:16:00,099] Trial 47 pruned. Trial was pruned at iteration 21.\n"
     ]
    },
    {
     "name": "stderr",
     "output_type": "stream",
     "text": [
      "[I 2025-05-15 18:16:00,260] Trial 48 finished with value: -0.041688 and parameters: {'max_depth': 15, 'min_child_weight': 144, 'subsample': 0.5233232141331158, 'colsample_bynode': 0.4394196899859525, 'learning_rate': 0.31736307158228977}. Best is trial 24 with value: -0.681514.\n"
     ]
    },
    {
     "name": "stderr",
     "output_type": "stream",
     "text": [
      "[I 2025-05-15 18:16:00,423] Trial 49 finished with value: -0.041688 and parameters: {'max_depth': 4, 'min_child_weight': 83, 'subsample': 0.957439253023559, 'colsample_bynode': 0.2922501431865158, 'learning_rate': 0.07722891167256593}. Best is trial 24 with value: -0.681514.\n"
     ]
    }
   ],
   "source": [
    "sampler = optuna.samplers.TPESampler(seed=42)\n",
    "study = optuna.create_study(direction='minimize', sampler=sampler)\n",
    "study.optimize(objective, n_trials=N_TRIALS, gc_after_trial=True)"
   ]
  },
  {
   "cell_type": "code",
   "execution_count": 20,
   "id": "10d1b962",
   "metadata": {
    "execution": {
     "iopub.execute_input": "2025-05-15T16:16:00.532932Z",
     "iopub.status.busy": "2025-05-15T16:16:00.532723Z",
     "iopub.status.idle": "2025-05-15T16:16:00.555036Z",
     "shell.execute_reply": "2025-05-15T16:16:00.554610Z"
    },
    "papermill": {
     "duration": 0.031929,
     "end_time": "2025-05-15T16:16:00.555938",
     "exception": false,
     "start_time": "2025-05-15T16:16:00.524009",
     "status": "completed"
    },
    "tags": []
   },
   "outputs": [
    {
     "data": {
      "text/plain": [
       "['/scratch_isilon/groups/singlecell/shared/projects/Inflammation-PBMCs-Atlas/03_downstream_analysis/08_gene_importance/xgboost_external_validation/xgboost_TopN_genes/results_20/study/Plasma_17_3_xgboost.pkl']"
      ]
     },
     "execution_count": 20,
     "metadata": {},
     "output_type": "execute_result"
    }
   ],
   "source": [
    "out_dir = here(f'03_downstream_analysis/08_gene_importance/xgboost_external_validation/xgboost_TopN_genes/results_{N_GENES}/study')\n",
    "\n",
    "if not os.path.exists(out_dir):\n",
    "    os.makedirs(out_dir)\n",
    "    \n",
    "joblib.dump(study,os.path.join(out_dir, f'{CELL_TYPE}_{SEED}_{TEST_SPLIT_IDX}_xgboost.pkl'))"
   ]
  },
  {
   "cell_type": "code",
   "execution_count": 21,
   "id": "27303391",
   "metadata": {
    "execution": {
     "iopub.execute_input": "2025-05-15T16:16:00.572655Z",
     "iopub.status.busy": "2025-05-15T16:16:00.572497Z",
     "iopub.status.idle": "2025-05-15T16:16:00.971015Z",
     "shell.execute_reply": "2025-05-15T16:16:00.970654Z"
    },
    "papermill": {
     "duration": 0.408041,
     "end_time": "2025-05-15T16:16:00.972018",
     "exception": false,
     "start_time": "2025-05-15T16:16:00.563977",
     "status": "completed"
    },
    "tags": []
   },
   "outputs": [
    {
     "data": {
      "text/html": [
       "<style>#sk-container-id-1 {\n",
       "  /* Definition of color scheme common for light and dark mode */\n",
       "  --sklearn-color-text: black;\n",
       "  --sklearn-color-line: gray;\n",
       "  /* Definition of color scheme for unfitted estimators */\n",
       "  --sklearn-color-unfitted-level-0: #fff5e6;\n",
       "  --sklearn-color-unfitted-level-1: #f6e4d2;\n",
       "  --sklearn-color-unfitted-level-2: #ffe0b3;\n",
       "  --sklearn-color-unfitted-level-3: chocolate;\n",
       "  /* Definition of color scheme for fitted estimators */\n",
       "  --sklearn-color-fitted-level-0: #f0f8ff;\n",
       "  --sklearn-color-fitted-level-1: #d4ebff;\n",
       "  --sklearn-color-fitted-level-2: #b3dbfd;\n",
       "  --sklearn-color-fitted-level-3: cornflowerblue;\n",
       "\n",
       "  /* Specific color for light theme */\n",
       "  --sklearn-color-text-on-default-background: var(--sg-text-color, var(--theme-code-foreground, var(--jp-content-font-color1, black)));\n",
       "  --sklearn-color-background: var(--sg-background-color, var(--theme-background, var(--jp-layout-color0, white)));\n",
       "  --sklearn-color-border-box: var(--sg-text-color, var(--theme-code-foreground, var(--jp-content-font-color1, black)));\n",
       "  --sklearn-color-icon: #696969;\n",
       "\n",
       "  @media (prefers-color-scheme: dark) {\n",
       "    /* Redefinition of color scheme for dark theme */\n",
       "    --sklearn-color-text-on-default-background: var(--sg-text-color, var(--theme-code-foreground, var(--jp-content-font-color1, white)));\n",
       "    --sklearn-color-background: var(--sg-background-color, var(--theme-background, var(--jp-layout-color0, #111)));\n",
       "    --sklearn-color-border-box: var(--sg-text-color, var(--theme-code-foreground, var(--jp-content-font-color1, white)));\n",
       "    --sklearn-color-icon: #878787;\n",
       "  }\n",
       "}\n",
       "\n",
       "#sk-container-id-1 {\n",
       "  color: var(--sklearn-color-text);\n",
       "}\n",
       "\n",
       "#sk-container-id-1 pre {\n",
       "  padding: 0;\n",
       "}\n",
       "\n",
       "#sk-container-id-1 input.sk-hidden--visually {\n",
       "  border: 0;\n",
       "  clip: rect(1px 1px 1px 1px);\n",
       "  clip: rect(1px, 1px, 1px, 1px);\n",
       "  height: 1px;\n",
       "  margin: -1px;\n",
       "  overflow: hidden;\n",
       "  padding: 0;\n",
       "  position: absolute;\n",
       "  width: 1px;\n",
       "}\n",
       "\n",
       "#sk-container-id-1 div.sk-dashed-wrapped {\n",
       "  border: 1px dashed var(--sklearn-color-line);\n",
       "  margin: 0 0.4em 0.5em 0.4em;\n",
       "  box-sizing: border-box;\n",
       "  padding-bottom: 0.4em;\n",
       "  background-color: var(--sklearn-color-background);\n",
       "}\n",
       "\n",
       "#sk-container-id-1 div.sk-container {\n",
       "  /* jupyter's `normalize.less` sets `[hidden] { display: none; }`\n",
       "     but bootstrap.min.css set `[hidden] { display: none !important; }`\n",
       "     so we also need the `!important` here to be able to override the\n",
       "     default hidden behavior on the sphinx rendered scikit-learn.org.\n",
       "     See: https://github.com/scikit-learn/scikit-learn/issues/21755 */\n",
       "  display: inline-block !important;\n",
       "  position: relative;\n",
       "}\n",
       "\n",
       "#sk-container-id-1 div.sk-text-repr-fallback {\n",
       "  display: none;\n",
       "}\n",
       "\n",
       "div.sk-parallel-item,\n",
       "div.sk-serial,\n",
       "div.sk-item {\n",
       "  /* draw centered vertical line to link estimators */\n",
       "  background-image: linear-gradient(var(--sklearn-color-text-on-default-background), var(--sklearn-color-text-on-default-background));\n",
       "  background-size: 2px 100%;\n",
       "  background-repeat: no-repeat;\n",
       "  background-position: center center;\n",
       "}\n",
       "\n",
       "/* Parallel-specific style estimator block */\n",
       "\n",
       "#sk-container-id-1 div.sk-parallel-item::after {\n",
       "  content: \"\";\n",
       "  width: 100%;\n",
       "  border-bottom: 2px solid var(--sklearn-color-text-on-default-background);\n",
       "  flex-grow: 1;\n",
       "}\n",
       "\n",
       "#sk-container-id-1 div.sk-parallel {\n",
       "  display: flex;\n",
       "  align-items: stretch;\n",
       "  justify-content: center;\n",
       "  background-color: var(--sklearn-color-background);\n",
       "  position: relative;\n",
       "}\n",
       "\n",
       "#sk-container-id-1 div.sk-parallel-item {\n",
       "  display: flex;\n",
       "  flex-direction: column;\n",
       "}\n",
       "\n",
       "#sk-container-id-1 div.sk-parallel-item:first-child::after {\n",
       "  align-self: flex-end;\n",
       "  width: 50%;\n",
       "}\n",
       "\n",
       "#sk-container-id-1 div.sk-parallel-item:last-child::after {\n",
       "  align-self: flex-start;\n",
       "  width: 50%;\n",
       "}\n",
       "\n",
       "#sk-container-id-1 div.sk-parallel-item:only-child::after {\n",
       "  width: 0;\n",
       "}\n",
       "\n",
       "/* Serial-specific style estimator block */\n",
       "\n",
       "#sk-container-id-1 div.sk-serial {\n",
       "  display: flex;\n",
       "  flex-direction: column;\n",
       "  align-items: center;\n",
       "  background-color: var(--sklearn-color-background);\n",
       "  padding-right: 1em;\n",
       "  padding-left: 1em;\n",
       "}\n",
       "\n",
       "\n",
       "/* Toggleable style: style used for estimator/Pipeline/ColumnTransformer box that is\n",
       "clickable and can be expanded/collapsed.\n",
       "- Pipeline and ColumnTransformer use this feature and define the default style\n",
       "- Estimators will overwrite some part of the style using the `sk-estimator` class\n",
       "*/\n",
       "\n",
       "/* Pipeline and ColumnTransformer style (default) */\n",
       "\n",
       "#sk-container-id-1 div.sk-toggleable {\n",
       "  /* Default theme specific background. It is overwritten whether we have a\n",
       "  specific estimator or a Pipeline/ColumnTransformer */\n",
       "  background-color: var(--sklearn-color-background);\n",
       "}\n",
       "\n",
       "/* Toggleable label */\n",
       "#sk-container-id-1 label.sk-toggleable__label {\n",
       "  cursor: pointer;\n",
       "  display: block;\n",
       "  width: 100%;\n",
       "  margin-bottom: 0;\n",
       "  padding: 0.5em;\n",
       "  box-sizing: border-box;\n",
       "  text-align: center;\n",
       "}\n",
       "\n",
       "#sk-container-id-1 label.sk-toggleable__label-arrow:before {\n",
       "  /* Arrow on the left of the label */\n",
       "  content: \"▸\";\n",
       "  float: left;\n",
       "  margin-right: 0.25em;\n",
       "  color: var(--sklearn-color-icon);\n",
       "}\n",
       "\n",
       "#sk-container-id-1 label.sk-toggleable__label-arrow:hover:before {\n",
       "  color: var(--sklearn-color-text);\n",
       "}\n",
       "\n",
       "/* Toggleable content - dropdown */\n",
       "\n",
       "#sk-container-id-1 div.sk-toggleable__content {\n",
       "  max-height: 0;\n",
       "  max-width: 0;\n",
       "  overflow: hidden;\n",
       "  text-align: left;\n",
       "  /* unfitted */\n",
       "  background-color: var(--sklearn-color-unfitted-level-0);\n",
       "}\n",
       "\n",
       "#sk-container-id-1 div.sk-toggleable__content.fitted {\n",
       "  /* fitted */\n",
       "  background-color: var(--sklearn-color-fitted-level-0);\n",
       "}\n",
       "\n",
       "#sk-container-id-1 div.sk-toggleable__content pre {\n",
       "  margin: 0.2em;\n",
       "  border-radius: 0.25em;\n",
       "  color: var(--sklearn-color-text);\n",
       "  /* unfitted */\n",
       "  background-color: var(--sklearn-color-unfitted-level-0);\n",
       "}\n",
       "\n",
       "#sk-container-id-1 div.sk-toggleable__content.fitted pre {\n",
       "  /* unfitted */\n",
       "  background-color: var(--sklearn-color-fitted-level-0);\n",
       "}\n",
       "\n",
       "#sk-container-id-1 input.sk-toggleable__control:checked~div.sk-toggleable__content {\n",
       "  /* Expand drop-down */\n",
       "  max-height: 200px;\n",
       "  max-width: 100%;\n",
       "  overflow: auto;\n",
       "}\n",
       "\n",
       "#sk-container-id-1 input.sk-toggleable__control:checked~label.sk-toggleable__label-arrow:before {\n",
       "  content: \"▾\";\n",
       "}\n",
       "\n",
       "/* Pipeline/ColumnTransformer-specific style */\n",
       "\n",
       "#sk-container-id-1 div.sk-label input.sk-toggleable__control:checked~label.sk-toggleable__label {\n",
       "  color: var(--sklearn-color-text);\n",
       "  background-color: var(--sklearn-color-unfitted-level-2);\n",
       "}\n",
       "\n",
       "#sk-container-id-1 div.sk-label.fitted input.sk-toggleable__control:checked~label.sk-toggleable__label {\n",
       "  background-color: var(--sklearn-color-fitted-level-2);\n",
       "}\n",
       "\n",
       "/* Estimator-specific style */\n",
       "\n",
       "/* Colorize estimator box */\n",
       "#sk-container-id-1 div.sk-estimator input.sk-toggleable__control:checked~label.sk-toggleable__label {\n",
       "  /* unfitted */\n",
       "  background-color: var(--sklearn-color-unfitted-level-2);\n",
       "}\n",
       "\n",
       "#sk-container-id-1 div.sk-estimator.fitted input.sk-toggleable__control:checked~label.sk-toggleable__label {\n",
       "  /* fitted */\n",
       "  background-color: var(--sklearn-color-fitted-level-2);\n",
       "}\n",
       "\n",
       "#sk-container-id-1 div.sk-label label.sk-toggleable__label,\n",
       "#sk-container-id-1 div.sk-label label {\n",
       "  /* The background is the default theme color */\n",
       "  color: var(--sklearn-color-text-on-default-background);\n",
       "}\n",
       "\n",
       "/* On hover, darken the color of the background */\n",
       "#sk-container-id-1 div.sk-label:hover label.sk-toggleable__label {\n",
       "  color: var(--sklearn-color-text);\n",
       "  background-color: var(--sklearn-color-unfitted-level-2);\n",
       "}\n",
       "\n",
       "/* Label box, darken color on hover, fitted */\n",
       "#sk-container-id-1 div.sk-label.fitted:hover label.sk-toggleable__label.fitted {\n",
       "  color: var(--sklearn-color-text);\n",
       "  background-color: var(--sklearn-color-fitted-level-2);\n",
       "}\n",
       "\n",
       "/* Estimator label */\n",
       "\n",
       "#sk-container-id-1 div.sk-label label {\n",
       "  font-family: monospace;\n",
       "  font-weight: bold;\n",
       "  display: inline-block;\n",
       "  line-height: 1.2em;\n",
       "}\n",
       "\n",
       "#sk-container-id-1 div.sk-label-container {\n",
       "  text-align: center;\n",
       "}\n",
       "\n",
       "/* Estimator-specific */\n",
       "#sk-container-id-1 div.sk-estimator {\n",
       "  font-family: monospace;\n",
       "  border: 1px dotted var(--sklearn-color-border-box);\n",
       "  border-radius: 0.25em;\n",
       "  box-sizing: border-box;\n",
       "  margin-bottom: 0.5em;\n",
       "  /* unfitted */\n",
       "  background-color: var(--sklearn-color-unfitted-level-0);\n",
       "}\n",
       "\n",
       "#sk-container-id-1 div.sk-estimator.fitted {\n",
       "  /* fitted */\n",
       "  background-color: var(--sklearn-color-fitted-level-0);\n",
       "}\n",
       "\n",
       "/* on hover */\n",
       "#sk-container-id-1 div.sk-estimator:hover {\n",
       "  /* unfitted */\n",
       "  background-color: var(--sklearn-color-unfitted-level-2);\n",
       "}\n",
       "\n",
       "#sk-container-id-1 div.sk-estimator.fitted:hover {\n",
       "  /* fitted */\n",
       "  background-color: var(--sklearn-color-fitted-level-2);\n",
       "}\n",
       "\n",
       "/* Specification for estimator info (e.g. \"i\" and \"?\") */\n",
       "\n",
       "/* Common style for \"i\" and \"?\" */\n",
       "\n",
       ".sk-estimator-doc-link,\n",
       "a:link.sk-estimator-doc-link,\n",
       "a:visited.sk-estimator-doc-link {\n",
       "  float: right;\n",
       "  font-size: smaller;\n",
       "  line-height: 1em;\n",
       "  font-family: monospace;\n",
       "  background-color: var(--sklearn-color-background);\n",
       "  border-radius: 1em;\n",
       "  height: 1em;\n",
       "  width: 1em;\n",
       "  text-decoration: none !important;\n",
       "  margin-left: 1ex;\n",
       "  /* unfitted */\n",
       "  border: var(--sklearn-color-unfitted-level-1) 1pt solid;\n",
       "  color: var(--sklearn-color-unfitted-level-1);\n",
       "}\n",
       "\n",
       ".sk-estimator-doc-link.fitted,\n",
       "a:link.sk-estimator-doc-link.fitted,\n",
       "a:visited.sk-estimator-doc-link.fitted {\n",
       "  /* fitted */\n",
       "  border: var(--sklearn-color-fitted-level-1) 1pt solid;\n",
       "  color: var(--sklearn-color-fitted-level-1);\n",
       "}\n",
       "\n",
       "/* On hover */\n",
       "div.sk-estimator:hover .sk-estimator-doc-link:hover,\n",
       ".sk-estimator-doc-link:hover,\n",
       "div.sk-label-container:hover .sk-estimator-doc-link:hover,\n",
       ".sk-estimator-doc-link:hover {\n",
       "  /* unfitted */\n",
       "  background-color: var(--sklearn-color-unfitted-level-3);\n",
       "  color: var(--sklearn-color-background);\n",
       "  text-decoration: none;\n",
       "}\n",
       "\n",
       "div.sk-estimator.fitted:hover .sk-estimator-doc-link.fitted:hover,\n",
       ".sk-estimator-doc-link.fitted:hover,\n",
       "div.sk-label-container:hover .sk-estimator-doc-link.fitted:hover,\n",
       ".sk-estimator-doc-link.fitted:hover {\n",
       "  /* fitted */\n",
       "  background-color: var(--sklearn-color-fitted-level-3);\n",
       "  color: var(--sklearn-color-background);\n",
       "  text-decoration: none;\n",
       "}\n",
       "\n",
       "/* Span, style for the box shown on hovering the info icon */\n",
       ".sk-estimator-doc-link span {\n",
       "  display: none;\n",
       "  z-index: 9999;\n",
       "  position: relative;\n",
       "  font-weight: normal;\n",
       "  right: .2ex;\n",
       "  padding: .5ex;\n",
       "  margin: .5ex;\n",
       "  width: min-content;\n",
       "  min-width: 20ex;\n",
       "  max-width: 50ex;\n",
       "  color: var(--sklearn-color-text);\n",
       "  box-shadow: 2pt 2pt 4pt #999;\n",
       "  /* unfitted */\n",
       "  background: var(--sklearn-color-unfitted-level-0);\n",
       "  border: .5pt solid var(--sklearn-color-unfitted-level-3);\n",
       "}\n",
       "\n",
       ".sk-estimator-doc-link.fitted span {\n",
       "  /* fitted */\n",
       "  background: var(--sklearn-color-fitted-level-0);\n",
       "  border: var(--sklearn-color-fitted-level-3);\n",
       "}\n",
       "\n",
       ".sk-estimator-doc-link:hover span {\n",
       "  display: block;\n",
       "}\n",
       "\n",
       "/* \"?\"-specific style due to the `<a>` HTML tag */\n",
       "\n",
       "#sk-container-id-1 a.estimator_doc_link {\n",
       "  float: right;\n",
       "  font-size: 1rem;\n",
       "  line-height: 1em;\n",
       "  font-family: monospace;\n",
       "  background-color: var(--sklearn-color-background);\n",
       "  border-radius: 1rem;\n",
       "  height: 1rem;\n",
       "  width: 1rem;\n",
       "  text-decoration: none;\n",
       "  /* unfitted */\n",
       "  color: var(--sklearn-color-unfitted-level-1);\n",
       "  border: var(--sklearn-color-unfitted-level-1) 1pt solid;\n",
       "}\n",
       "\n",
       "#sk-container-id-1 a.estimator_doc_link.fitted {\n",
       "  /* fitted */\n",
       "  border: var(--sklearn-color-fitted-level-1) 1pt solid;\n",
       "  color: var(--sklearn-color-fitted-level-1);\n",
       "}\n",
       "\n",
       "/* On hover */\n",
       "#sk-container-id-1 a.estimator_doc_link:hover {\n",
       "  /* unfitted */\n",
       "  background-color: var(--sklearn-color-unfitted-level-3);\n",
       "  color: var(--sklearn-color-background);\n",
       "  text-decoration: none;\n",
       "}\n",
       "\n",
       "#sk-container-id-1 a.estimator_doc_link.fitted:hover {\n",
       "  /* fitted */\n",
       "  background-color: var(--sklearn-color-fitted-level-3);\n",
       "}\n",
       "</style><div id=\"sk-container-id-1\" class=\"sk-top-container\"><div class=\"sk-text-repr-fallback\"><pre>XGBClassifier(base_score=None, booster=None, callbacks=None,\n",
       "              colsample_bylevel=None, colsample_bynode=0.8162809857042157,\n",
       "              colsample_bytree=None, device=None, early_stopping_rounds=None,\n",
       "              enable_categorical=False,\n",
       "              eval_metric=&lt;function custom_f1_score at 0x7f26f90e4220&gt;,\n",
       "              feature_types=None, gamma=None, grow_policy=None,\n",
       "              importance_type=None, interaction_constraints=None,\n",
       "              learning_rate=0.27510254899458203, max_bin=None,\n",
       "              max_cat_threshold=None, max_cat_to_onehot=None,\n",
       "              max_delta_step=None, max_depth=8, max_leaves=None,\n",
       "              min_child_weight=4, missing=nan, monotone_constraints=None,\n",
       "              multi_strategy=None, n_estimators=45, n_jobs=None,\n",
       "              num_parallel_tree=None, objective=&#x27;multi:softprob&#x27;, ...)</pre><b>In a Jupyter environment, please rerun this cell to show the HTML representation or trust the notebook. <br />On GitHub, the HTML representation is unable to render, please try loading this page with nbviewer.org.</b></div><div class=\"sk-container\" hidden><div class=\"sk-item\"><div class=\"sk-estimator fitted sk-toggleable\"><input class=\"sk-toggleable__control sk-hidden--visually\" id=\"sk-estimator-id-1\" type=\"checkbox\" checked><label for=\"sk-estimator-id-1\" class=\"sk-toggleable__label fitted sk-toggleable__label-arrow fitted\">&nbsp;XGBClassifier<span class=\"sk-estimator-doc-link fitted\">i<span>Fitted</span></span></label><div class=\"sk-toggleable__content fitted\"><pre>XGBClassifier(base_score=None, booster=None, callbacks=None,\n",
       "              colsample_bylevel=None, colsample_bynode=0.8162809857042157,\n",
       "              colsample_bytree=None, device=None, early_stopping_rounds=None,\n",
       "              enable_categorical=False,\n",
       "              eval_metric=&lt;function custom_f1_score at 0x7f26f90e4220&gt;,\n",
       "              feature_types=None, gamma=None, grow_policy=None,\n",
       "              importance_type=None, interaction_constraints=None,\n",
       "              learning_rate=0.27510254899458203, max_bin=None,\n",
       "              max_cat_threshold=None, max_cat_to_onehot=None,\n",
       "              max_delta_step=None, max_depth=8, max_leaves=None,\n",
       "              min_child_weight=4, missing=nan, monotone_constraints=None,\n",
       "              multi_strategy=None, n_estimators=45, n_jobs=None,\n",
       "              num_parallel_tree=None, objective=&#x27;multi:softprob&#x27;, ...)</pre></div> </div></div></div></div>"
      ],
      "text/plain": [
       "XGBClassifier(base_score=None, booster=None, callbacks=None,\n",
       "              colsample_bylevel=None, colsample_bynode=0.8162809857042157,\n",
       "              colsample_bytree=None, device=None, early_stopping_rounds=None,\n",
       "              enable_categorical=False,\n",
       "              eval_metric=<function custom_f1_score at 0x7f26f90e4220>,\n",
       "              feature_types=None, gamma=None, grow_policy=None,\n",
       "              importance_type=None, interaction_constraints=None,\n",
       "              learning_rate=0.27510254899458203, max_bin=None,\n",
       "              max_cat_threshold=None, max_cat_to_onehot=None,\n",
       "              max_delta_step=None, max_depth=8, max_leaves=None,\n",
       "              min_child_weight=4, missing=nan, monotone_constraints=None,\n",
       "              multi_strategy=None, n_estimators=45, n_jobs=None,\n",
       "              num_parallel_tree=None, objective='multi:softprob', ...)"
      ]
     },
     "execution_count": 21,
     "metadata": {},
     "output_type": "execute_result"
    }
   ],
   "source": [
    "n_estimators = int(study.best_trial.user_attrs['best_iteration']*1.2)\n",
    "xgb = xgboost.XGBClassifier(\n",
    "        eval_metric=eval_metric,\n",
    "        n_estimators=n_estimators,\n",
    "        **study.best_trial.params\n",
    "    )\n",
    "xgb.fit(\n",
    "    ssp.vstack((X_train, X_val)), \n",
    "    np.concatenate((y_train_enc, y_val_enc)),\n",
    "    verbose=1,\n",
    ")"
   ]
  },
  {
   "cell_type": "code",
   "execution_count": 22,
   "id": "b83489ee",
   "metadata": {
    "execution": {
     "iopub.execute_input": "2025-05-15T16:16:00.990115Z",
     "iopub.status.busy": "2025-05-15T16:16:00.989928Z",
     "iopub.status.idle": "2025-05-15T16:16:01.002769Z",
     "shell.execute_reply": "2025-05-15T16:16:01.002446Z"
    },
    "papermill": {
     "duration": 0.023429,
     "end_time": "2025-05-15T16:16:01.004625",
     "exception": false,
     "start_time": "2025-05-15T16:16:00.981196",
     "status": "completed"
    },
    "tags": []
   },
   "outputs": [
    {
     "data": {
      "text/plain": [
       "['/scratch_isilon/groups/singlecell/shared/projects/Inflammation-PBMCs-Atlas/03_downstream_analysis/08_gene_importance/xgboost_external_validation/xgboost_TopN_genes/results_20/best_model/Plasma_17_3_xgb.json']"
      ]
     },
     "execution_count": 22,
     "metadata": {},
     "output_type": "execute_result"
    }
   ],
   "source": [
    "out_dir = here(f'03_downstream_analysis/08_gene_importance/xgboost_external_validation/xgboost_TopN_genes/results_{N_GENES}/best_model')\n",
    "\n",
    "if not os.path.exists(out_dir):\n",
    "    os.makedirs(out_dir)\n",
    "    \n",
    "joblib.dump(xgb, os.path.join(out_dir, f'{CELL_TYPE}_{SEED}_{TEST_SPLIT_IDX}_xgb.json'))"
   ]
  },
  {
   "cell_type": "code",
   "execution_count": 23,
   "id": "799f70cb",
   "metadata": {
    "execution": {
     "iopub.execute_input": "2025-05-15T16:16:01.023158Z",
     "iopub.status.busy": "2025-05-15T16:16:01.022785Z",
     "iopub.status.idle": "2025-05-15T16:16:01.028604Z",
     "shell.execute_reply": "2025-05-15T16:16:01.028293Z"
    },
    "papermill": {
     "duration": 0.015625,
     "end_time": "2025-05-15T16:16:01.029550",
     "exception": false,
     "start_time": "2025-05-15T16:16:01.013925",
     "status": "completed"
    },
    "tags": []
   },
   "outputs": [],
   "source": [
    "df_pred_test = pd.DataFrame(dict(\n",
    "    cell_id=train_adata.obs.iloc[test_idxs].index.values,\n",
    "    y_true=y_test, \n",
    "    y_true_code=y_test_enc, \n",
    "    y_pred=xgb.predict(X_test))).set_index('cell_id')"
   ]
  },
  {
   "cell_type": "code",
   "execution_count": 24,
   "id": "aa6a5a46",
   "metadata": {
    "execution": {
     "iopub.execute_input": "2025-05-15T16:16:01.047384Z",
     "iopub.status.busy": "2025-05-15T16:16:01.047134Z",
     "iopub.status.idle": "2025-05-15T16:16:01.058060Z",
     "shell.execute_reply": "2025-05-15T16:16:01.057650Z"
    },
    "papermill": {
     "duration": 0.020866,
     "end_time": "2025-05-15T16:16:01.058882",
     "exception": false,
     "start_time": "2025-05-15T16:16:01.038016",
     "status": "completed"
    },
    "tags": []
   },
   "outputs": [],
   "source": [
    "out_dir = here(f'03_downstream_analysis/08_gene_importance/xgboost_external_validation/xgboost_TopN_genes/results_{N_GENES}/predictions')\n",
    "\n",
    "if not os.path.exists(out_dir):\n",
    "    os.makedirs(out_dir)\n",
    "    \n",
    "df_pred_test.to_csv(os.path.join(out_dir, f'{CELL_TYPE}_{SEED}_{TEST_SPLIT_IDX}_pred_test.zip'))"
   ]
  },
  {
   "cell_type": "code",
   "execution_count": 25,
   "id": "e34ceea0",
   "metadata": {
    "execution": {
     "iopub.execute_input": "2025-05-15T16:16:01.076810Z",
     "iopub.status.busy": "2025-05-15T16:16:01.076464Z",
     "iopub.status.idle": "2025-05-15T16:16:01.081895Z",
     "shell.execute_reply": "2025-05-15T16:16:01.081600Z"
    },
    "papermill": {
     "duration": 0.015344,
     "end_time": "2025-05-15T16:16:01.082740",
     "exception": false,
     "start_time": "2025-05-15T16:16:01.067396",
     "status": "completed"
    },
    "tags": []
   },
   "outputs": [],
   "source": [
    "metrics_dict = dict(\n",
    "    BAS=balanced_accuracy_score(y_true=df_pred_test.y_true_code, y_pred=df_pred_test.y_pred), WF1=f1_score(y_true=df_pred_test.y_true_code, y_pred=df_pred_test.y_pred,average='weighted'))"
   ]
  },
  {
   "cell_type": "code",
   "execution_count": 26,
   "id": "3000b707",
   "metadata": {
    "execution": {
     "iopub.execute_input": "2025-05-15T16:16:01.100102Z",
     "iopub.status.busy": "2025-05-15T16:16:01.099927Z",
     "iopub.status.idle": "2025-05-15T16:16:01.103318Z",
     "shell.execute_reply": "2025-05-15T16:16:01.103004Z"
    },
    "papermill": {
     "duration": 0.013035,
     "end_time": "2025-05-15T16:16:01.104155",
     "exception": false,
     "start_time": "2025-05-15T16:16:01.091120",
     "status": "completed"
    },
    "tags": []
   },
   "outputs": [
    {
     "data": {
      "text/plain": [
       "{'BAS': 0.38877788877788877, 'WF1': 0.5369976171376318}"
      ]
     },
     "execution_count": 26,
     "metadata": {},
     "output_type": "execute_result"
    }
   ],
   "source": [
    "metrics_dict"
   ]
  },
  {
   "cell_type": "code",
   "execution_count": 27,
   "id": "48a0663e",
   "metadata": {
    "execution": {
     "iopub.execute_input": "2025-05-15T16:16:01.121572Z",
     "iopub.status.busy": "2025-05-15T16:16:01.121303Z",
     "iopub.status.idle": "2025-05-15T16:16:01.128970Z",
     "shell.execute_reply": "2025-05-15T16:16:01.128657Z"
    },
    "papermill": {
     "duration": 0.017356,
     "end_time": "2025-05-15T16:16:01.129828",
     "exception": false,
     "start_time": "2025-05-15T16:16:01.112472",
     "status": "completed"
    },
    "tags": []
   },
   "outputs": [
    {
     "data": {
      "text/html": [
       "<div>\n",
       "<style scoped>\n",
       "    .dataframe tbody tr th:only-of-type {\n",
       "        vertical-align: middle;\n",
       "    }\n",
       "\n",
       "    .dataframe tbody tr th {\n",
       "        vertical-align: top;\n",
       "    }\n",
       "\n",
       "    .dataframe thead th {\n",
       "        text-align: right;\n",
       "    }\n",
       "</style>\n",
       "<table border=\"1\" class=\"dataframe\">\n",
       "  <thead>\n",
       "    <tr style=\"text-align: right;\">\n",
       "      <th></th>\n",
       "      <th>BAS</th>\n",
       "      <th>WF1</th>\n",
       "      <th>split_idx</th>\n",
       "      <th>gene_set_seed</th>\n",
       "      <th>cell_type</th>\n",
       "    </tr>\n",
       "  </thead>\n",
       "  <tbody>\n",
       "    <tr>\n",
       "      <th>0</th>\n",
       "      <td>0.388778</td>\n",
       "      <td>0.536998</td>\n",
       "      <td>3</td>\n",
       "      <td>17</td>\n",
       "      <td>Plasma</td>\n",
       "    </tr>\n",
       "  </tbody>\n",
       "</table>\n",
       "</div>"
      ],
      "text/plain": [
       "        BAS       WF1  split_idx  gene_set_seed cell_type\n",
       "0  0.388778  0.536998          3             17    Plasma"
      ]
     },
     "execution_count": 27,
     "metadata": {},
     "output_type": "execute_result"
    }
   ],
   "source": [
    "metrics_df = pd.DataFrame.from_dict([metrics_dict]).assign(split_idx=TEST_SPLIT_IDX, gene_set_seed=SEED, cell_type=CELL_TYPE)\n",
    "metrics_df"
   ]
  },
  {
   "cell_type": "code",
   "execution_count": 28,
   "id": "826e863b",
   "metadata": {
    "execution": {
     "iopub.execute_input": "2025-05-15T16:16:01.147727Z",
     "iopub.status.busy": "2025-05-15T16:16:01.147549Z",
     "iopub.status.idle": "2025-05-15T16:16:01.155235Z",
     "shell.execute_reply": "2025-05-15T16:16:01.154880Z"
    },
    "papermill": {
     "duration": 0.01753,
     "end_time": "2025-05-15T16:16:01.156100",
     "exception": false,
     "start_time": "2025-05-15T16:16:01.138570",
     "status": "completed"
    },
    "tags": []
   },
   "outputs": [],
   "source": [
    "out_dir = here(f'03_downstream_analysis/08_gene_importance/xgboost_external_validation/xgboost_TopN_genes/results_{N_GENES}/metrics')\n",
    "\n",
    "if not os.path.exists(out_dir):\n",
    "    os.makedirs(out_dir)\n",
    "    \n",
    "metrics_df.to_csv(os.path.join(out_dir, f'{CELL_TYPE}_{SEED}_{TEST_SPLIT_IDX}_metrics.zip'))"
   ]
  }
 ],
 "metadata": {
  "kernelspec": {
   "display_name": "Python 3 (ipykernel)",
   "language": "python",
   "name": "python3"
  },
  "language_info": {
   "codemirror_mode": {
    "name": "ipython",
    "version": 3
   },
   "file_extension": ".py",
   "mimetype": "text/x-python",
   "name": "python",
   "nbconvert_exporter": "python",
   "pygments_lexer": "ipython3",
   "version": "3.12.5"
  },
  "papermill": {
   "default_parameters": {},
   "duration": 15.718891,
   "end_time": "2025-05-15T16:16:01.781162",
   "environment_variables": {},
   "exception": null,
   "input_path": "02_xgboost_fitting_external_20genes.ipynb",
   "output_path": "results_20/executed_notebooks/xgboost_fitting_external_CT_Plasma_GS_17_seed3.ipynb",
   "parameters": {
    "CELL_TYPE": "Plasma",
    "SEED": 17,
    "TEST_SPLIT_IDX": 3
   },
   "start_time": "2025-05-15T16:15:46.062271",
   "version": "2.6.0"
  }
 },
 "nbformat": 4,
 "nbformat_minor": 5
}