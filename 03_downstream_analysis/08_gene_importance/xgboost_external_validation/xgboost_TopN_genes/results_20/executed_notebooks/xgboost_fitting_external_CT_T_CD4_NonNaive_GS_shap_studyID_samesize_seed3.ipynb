{
 "cells": [
  {
   "cell_type": "code",
   "execution_count": 1,
   "id": "98daa0cc",
   "metadata": {
    "editable": true,
    "execution": {
     "iopub.execute_input": "2025-06-13T13:02:15.550847Z",
     "iopub.status.busy": "2025-06-13T13:02:15.550673Z",
     "iopub.status.idle": "2025-06-13T13:02:15.553248Z",
     "shell.execute_reply": "2025-06-13T13:02:15.552928Z"
    },
    "papermill": {
     "duration": 0.0443,
     "end_time": "2025-06-13T13:02:15.554090",
     "exception": false,
     "start_time": "2025-06-13T13:02:15.509790",
     "status": "completed"
    },
    "slideshow": {
     "slide_type": ""
    },
    "tags": [
     "parameters"
    ]
   },
   "outputs": [],
   "source": [
    "CELL_TYPE = 'pDC'\n",
    "N_GENES: int = 20\n",
    "SEED = 'shap_studyID' #'disease_NOstudy' 'study_NOdisease' or 'int' or 'shap_studyID'\n",
    "TEST_SPLIT_IDX: int = 1 #[0,4]"
   ]
  },
  {
   "cell_type": "code",
   "execution_count": 2,
   "id": "36b9f472",
   "metadata": {
    "execution": {
     "iopub.execute_input": "2025-06-13T13:02:15.572903Z",
     "iopub.status.busy": "2025-06-13T13:02:15.572601Z",
     "iopub.status.idle": "2025-06-13T13:02:15.574586Z",
     "shell.execute_reply": "2025-06-13T13:02:15.574296Z"
    },
    "papermill": {
     "duration": 0.010155,
     "end_time": "2025-06-13T13:02:15.575420",
     "exception": false,
     "start_time": "2025-06-13T13:02:15.565265",
     "status": "completed"
    },
    "tags": [
     "injected-parameters"
    ]
   },
   "outputs": [],
   "source": [
    "# Parameters\n",
    "CELL_TYPE = \"T_CD4_NonNaive\"\n",
    "SEED = \"shap_studyID_samesize\"\n",
    "TEST_SPLIT_IDX = 3\n"
   ]
  },
  {
   "cell_type": "code",
   "execution_count": 3,
   "id": "32f9ae34",
   "metadata": {
    "execution": {
     "iopub.execute_input": "2025-06-13T13:02:15.587854Z",
     "iopub.status.busy": "2025-06-13T13:02:15.587694Z",
     "iopub.status.idle": "2025-06-13T13:02:15.589669Z",
     "shell.execute_reply": "2025-06-13T13:02:15.589384Z"
    },
    "papermill": {
     "duration": 0.008147,
     "end_time": "2025-06-13T13:02:15.590492",
     "exception": false,
     "start_time": "2025-06-13T13:02:15.582345",
     "status": "completed"
    },
    "tags": []
   },
   "outputs": [],
   "source": [
    "N_SPLITS: int = 5\n",
    "N_TRIALS: int = 50"
   ]
  },
  {
   "cell_type": "code",
   "execution_count": 4,
   "id": "d0712b43",
   "metadata": {
    "execution": {
     "iopub.execute_input": "2025-06-13T13:02:15.623934Z",
     "iopub.status.busy": "2025-06-13T13:02:15.623509Z",
     "iopub.status.idle": "2025-06-13T13:02:18.964479Z",
     "shell.execute_reply": "2025-06-13T13:02:18.964082Z"
    },
    "papermill": {
     "duration": 3.352534,
     "end_time": "2025-06-13T13:02:18.965690",
     "exception": false,
     "start_time": "2025-06-13T13:02:15.613156",
     "status": "completed"
    },
    "tags": []
   },
   "outputs": [],
   "source": [
    "import os\n",
    "import sys\n",
    "from pyprojroot.here import here\n",
    "import pandas as pd\n",
    "import anndata as ad\n",
    "import numpy as np\n",
    "import math\n",
    "from sklearn.model_selection import StratifiedGroupKFold\n",
    "from sklearn.preprocessing import LabelEncoder\n",
    "from sklearn.metrics import f1_score\n",
    "import matplotlib.pyplot as plt\n",
    "import seaborn as sns\n",
    "from itertools import product\n",
    "from sklearn.metrics import balanced_accuracy_score, f1_score\n",
    "import optuna\n",
    "\n",
    "import joblib\n",
    "import pickle\n",
    "import datetime\n",
    "\n",
    "import collections\n",
    "\n",
    "import xgboost\n",
    "from sklearn.preprocessing import LabelEncoder\n",
    "\n",
    "import scipy.sparse as ssp\n",
    "import joblib\n",
    "\n",
    "from dotenv import load_dotenv"
   ]
  },
  {
   "cell_type": "code",
   "execution_count": 5,
   "id": "a4ed41f4",
   "metadata": {
    "execution": {
     "iopub.execute_input": "2025-06-13T13:02:19.072456Z",
     "iopub.status.busy": "2025-06-13T13:02:19.072130Z",
     "iopub.status.idle": "2025-06-13T13:02:19.079212Z",
     "shell.execute_reply": "2025-06-13T13:02:19.078877Z"
    },
    "papermill": {
     "duration": 0.023972,
     "end_time": "2025-06-13T13:02:19.080108",
     "exception": false,
     "start_time": "2025-06-13T13:02:19.056136",
     "status": "completed"
    },
    "tags": []
   },
   "outputs": [
    {
     "data": {
      "text/plain": [
       "True"
      ]
     },
     "execution_count": 5,
     "metadata": {},
     "output_type": "execute_result"
    }
   ],
   "source": [
    "load_dotenv()"
   ]
  },
  {
   "cell_type": "markdown",
   "id": "712d8ea1",
   "metadata": {
    "papermill": {
     "duration": 0.00548,
     "end_time": "2025-06-13T13:02:19.095383",
     "exception": false,
     "start_time": "2025-06-13T13:02:19.089903",
     "status": "completed"
    },
    "tags": []
   },
   "source": [
    "# LOAD DATASET"
   ]
  },
  {
   "cell_type": "code",
   "execution_count": 6,
   "id": "9241530d",
   "metadata": {
    "execution": {
     "iopub.execute_input": "2025-06-13T13:02:19.106586Z",
     "iopub.status.busy": "2025-06-13T13:02:19.106412Z",
     "iopub.status.idle": "2025-06-13T13:02:19.864363Z",
     "shell.execute_reply": "2025-06-13T13:02:19.863939Z"
    },
    "papermill": {
     "duration": 0.764834,
     "end_time": "2025-06-13T13:02:19.865557",
     "exception": false,
     "start_time": "2025-06-13T13:02:19.100723",
     "status": "completed"
    },
    "tags": []
   },
   "outputs": [],
   "source": [
    "train_adata = ad.read_h5ad(\n",
    "    here(f'03_downstream_analysis/08_gene_importance/xgboost_external_validation/xgboost_TopN_genes/data_cellTypes/EXTERNAL_{CELL_TYPE}.filtered.log1p.h5ad')\n",
    ")"
   ]
  },
  {
   "cell_type": "code",
   "execution_count": 7,
   "id": "c13eebef",
   "metadata": {
    "execution": {
     "iopub.execute_input": "2025-06-13T13:02:19.958002Z",
     "iopub.status.busy": "2025-06-13T13:02:19.957751Z",
     "iopub.status.idle": "2025-06-13T13:02:19.993059Z",
     "shell.execute_reply": "2025-06-13T13:02:19.992662Z"
    },
    "papermill": {
     "duration": 0.101157,
     "end_time": "2025-06-13T13:02:19.994089",
     "exception": false,
     "start_time": "2025-06-13T13:02:19.892932",
     "status": "completed"
    },
    "tags": []
   },
   "outputs": [
    {
     "name": "stdout",
     "output_type": "stream",
     "text": [
      "['ENSG00000106588' 'ENSG00000105329' 'ENSG00000175354' 'ENSG00000197111'\n",
      " 'ENSG00000165280' 'ENSG00000108561' 'ENSG00000172349' 'ENSG00000115073'\n",
      " 'ENSG00000143774' 'ENSG00000170296' 'ENSG00000185650' 'ENSG00000127528'\n",
      " 'ENSG00000243749' 'ENSG00000205220' 'ENSG00000181029' 'ENSG00000243678'\n",
      " 'ENSG00000152082' 'ENSG00000216490' 'ENSG00000132465' 'ENSG00000264364'\n",
      " 'ENSG00000076944' 'ENSG00000184557' 'ENSG00000126561' 'ENSG00000178719'\n",
      " 'ENSG00000164308' 'ENSG00000184897' 'ENSG00000144746' 'ENSG00000184007'\n",
      " 'ENSG00000105221' 'ENSG00000211895' 'ENSG00000206503' 'ENSG00000177885'\n",
      " 'ENSG00000129084' 'ENSG00000135720' 'ENSG00000027697' 'ENSG00000219200'\n",
      " 'ENSG00000147168' 'ENSG00000108774' 'ENSG00000115875' 'ENSG00000142089'\n",
      " 'ENSG00000205542' 'ENSG00000120837' 'ENSG00000213928' 'ENSG00000164104'\n",
      " 'ENSG00000171223' 'ENSG00000254772' 'ENSG00000204592' 'ENSG00000244687'\n",
      " 'ENSG00000075945' 'ENSG00000135916' 'ENSG00000186395' 'ENSG00000173039'\n",
      " 'ENSG00000132912' 'ENSG00000203896' 'ENSG00000099624' 'ENSG00000100902'\n",
      " 'ENSG00000165527' 'ENSG00000110395' 'ENSG00000162368' 'ENSG00000152700'\n",
      " 'ENSG00000127540' 'ENSG00000133639' 'ENSG00000136003' 'ENSG00000170540'\n",
      " 'ENSG00000102524' 'ENSG00000123416' 'ENSG00000125534' 'ENSG00000171608'\n",
      " 'ENSG00000015475' 'ENSG00000066136' 'ENSG00000067182' 'ENSG00000100906'\n",
      " 'ENSG00000234745' 'ENSG00000185883' 'ENSG00000163220' 'ENSG00000121774'\n",
      " 'ENSG00000177606' 'ENSG00000166747' 'ENSG00000198668' 'ENSG00000241837'\n",
      " 'ENSG00000169564' 'ENSG00000127314' 'ENSG00000138674' 'ENSG00000126214'\n",
      " 'ENSG00000072958' 'ENSG00000143543' 'ENSG00000069399' 'ENSG00000160888'\n",
      " 'ENSG00000051523' 'ENSG00000076662' 'ENSG00000125740' 'ENSG00000075785'\n",
      " 'ENSG00000204267' 'ENSG00000141367' 'ENSG00000121966' 'ENSG00000168610'\n",
      " 'ENSG00000009790' 'ENSG00000186010' 'ENSG00000239697' 'ENSG00000105583'\n",
      " 'ENSG00000143933' 'ENSG00000127152' 'ENSG00000152234' 'ENSG00000140105'\n",
      " 'ENSG00000132475']\n"
     ]
    }
   ],
   "source": [
    "if SEED != 'all':\n",
    "    gene_subset = np.load(here(f'03_downstream_analysis/08_gene_importance/xgboost_external_validation/shap_gene_selection/gene_subsets_{N_GENES}/{CELL_TYPE}_{SEED}.npy'), allow_pickle=True)\n",
    "    train_adata = train_adata[:,gene_subset]\n",
    "    print(gene_subset)\n",
    "elif SEED == 'all':\n",
    "    print('Using all genes')\n",
    "else:\n",
    "    raise ValueError()"
   ]
  },
  {
   "cell_type": "code",
   "execution_count": 8,
   "id": "95f540f5",
   "metadata": {
    "execution": {
     "iopub.execute_input": "2025-06-13T13:02:20.007119Z",
     "iopub.status.busy": "2025-06-13T13:02:20.006938Z",
     "iopub.status.idle": "2025-06-13T13:02:20.009856Z",
     "shell.execute_reply": "2025-06-13T13:02:20.009540Z"
    },
    "papermill": {
     "duration": 0.010865,
     "end_time": "2025-06-13T13:02:20.010699",
     "exception": false,
     "start_time": "2025-06-13T13:02:19.999834",
     "status": "completed"
    },
    "tags": []
   },
   "outputs": [
    {
     "data": {
      "text/plain": [
       "(124886, 105)"
      ]
     },
     "execution_count": 8,
     "metadata": {},
     "output_type": "execute_result"
    }
   ],
   "source": [
    "train_adata.shape"
   ]
  },
  {
   "cell_type": "code",
   "execution_count": 9,
   "id": "a8eb79c0",
   "metadata": {
    "execution": {
     "iopub.execute_input": "2025-06-13T13:02:20.078990Z",
     "iopub.status.busy": "2025-06-13T13:02:20.078668Z",
     "iopub.status.idle": "2025-06-13T13:02:20.082560Z",
     "shell.execute_reply": "2025-06-13T13:02:20.082234Z"
    },
    "papermill": {
     "duration": 0.012209,
     "end_time": "2025-06-13T13:02:20.083502",
     "exception": false,
     "start_time": "2025-06-13T13:02:20.071293",
     "status": "completed"
    },
    "tags": []
   },
   "outputs": [
    {
     "data": {
      "text/plain": [
       "['RA', 'healthy', 'COVID', 'HIV', 'cirrhosis', 'CD', 'SLE', 'sepsis']\n",
       "Categories (8, object): ['CD', 'COVID', 'HIV', 'RA', 'SLE', 'cirrhosis', 'healthy', 'sepsis']"
      ]
     },
     "execution_count": 9,
     "metadata": {},
     "output_type": "execute_result"
    }
   ],
   "source": [
    "train_adata.obs.disease.unique()"
   ]
  },
  {
   "cell_type": "code",
   "execution_count": 10,
   "id": "a761e412",
   "metadata": {
    "execution": {
     "iopub.execute_input": "2025-06-13T13:02:20.168573Z",
     "iopub.status.busy": "2025-06-13T13:02:20.168403Z",
     "iopub.status.idle": "2025-06-13T13:02:20.172228Z",
     "shell.execute_reply": "2025-06-13T13:02:20.171930Z"
    },
    "papermill": {
     "duration": 0.018261,
     "end_time": "2025-06-13T13:02:20.173036",
     "exception": false,
     "start_time": "2025-06-13T13:02:20.154775",
     "status": "completed"
    },
    "tags": []
   },
   "outputs": [
    {
     "data": {
      "text/plain": [
       "['SCGT00val_I036016_T0', 'SCGT00val_I036023_T0', 'SCGT00val_I036015_T0', 'SCGT00val_I036028_T0', 'SCGT00val_I0364_T0', ..., '10XGenomics_10XHC2_T0', '10XGenomics_10XHC3_T0', '10XGenomics_10XHC5_T0', '10XGenomics_10XHC7_T0', '10XGenomics_10XHC8_T0']\n",
       "Length: 86\n",
       "Categories (86, object): ['10XGenomics_10XHC1_T0', '10XGenomics_10XHC2_T0', '10XGenomics_10XHC3_T0', '10XGenomics_10XHC4_T0', ..., 'Savage2021_BRISL6_T0', 'Savage2021_BRISL7_T0', 'Savage2021_PIDA_T0', 'Savage2021_PIDB_T0']"
      ]
     },
     "execution_count": 10,
     "metadata": {},
     "output_type": "execute_result"
    }
   ],
   "source": [
    "train_adata.obs.sampleID.unique()"
   ]
  },
  {
   "cell_type": "code",
   "execution_count": 11,
   "id": "b32a5f4c",
   "metadata": {
    "execution": {
     "iopub.execute_input": "2025-06-13T13:02:20.208488Z",
     "iopub.status.busy": "2025-06-13T13:02:20.208196Z",
     "iopub.status.idle": "2025-06-13T13:02:20.501335Z",
     "shell.execute_reply": "2025-06-13T13:02:20.500915Z"
    },
    "papermill": {
     "duration": 0.319391,
     "end_time": "2025-06-13T13:02:20.502447",
     "exception": false,
     "start_time": "2025-06-13T13:02:20.183056",
     "status": "completed"
    },
    "tags": []
   },
   "outputs": [],
   "source": [
    "all_idxs = np.arange(train_adata.obs.shape[0])\n",
    "left_out_splits = [s[1] for s in StratifiedGroupKFold(n_splits=N_SPLITS).split(all_idxs, train_adata.obs.disease, train_adata.obs.sampleID)]"
   ]
  },
  {
   "cell_type": "code",
   "execution_count": 12,
   "id": "a61f80e9",
   "metadata": {
    "execution": {
     "iopub.execute_input": "2025-06-13T13:02:20.577616Z",
     "iopub.status.busy": "2025-06-13T13:02:20.577438Z",
     "iopub.status.idle": "2025-06-13T13:02:20.580555Z",
     "shell.execute_reply": "2025-06-13T13:02:20.580277Z"
    },
    "papermill": {
     "duration": 0.048851,
     "end_time": "2025-06-13T13:02:20.581430",
     "exception": false,
     "start_time": "2025-06-13T13:02:20.532579",
     "status": "completed"
    },
    "tags": []
   },
   "outputs": [
    {
     "data": {
      "text/plain": [
       "([0, 1, 2], 4, 3)"
      ]
     },
     "execution_count": 12,
     "metadata": {},
     "output_type": "execute_result"
    }
   ],
   "source": [
    "TRAIN_SPLIT_IDXS = [0,1,2,3,4]\n",
    "VAL_SPLIT_IDX = (TEST_SPLIT_IDX + 1) % 5\n",
    "TRAIN_SPLIT_IDXS.remove(TEST_SPLIT_IDX)\n",
    "TRAIN_SPLIT_IDXS.remove(VAL_SPLIT_IDX)\n",
    "TRAIN_SPLIT_IDXS, VAL_SPLIT_IDX, TEST_SPLIT_IDX"
   ]
  },
  {
   "cell_type": "code",
   "execution_count": 13,
   "id": "cbae058d",
   "metadata": {
    "execution": {
     "iopub.execute_input": "2025-06-13T13:02:20.594343Z",
     "iopub.status.busy": "2025-06-13T13:02:20.594131Z",
     "iopub.status.idle": "2025-06-13T13:02:20.596593Z",
     "shell.execute_reply": "2025-06-13T13:02:20.596270Z"
    },
    "papermill": {
     "duration": 0.010165,
     "end_time": "2025-06-13T13:02:20.597356",
     "exception": false,
     "start_time": "2025-06-13T13:02:20.587191",
     "status": "completed"
    },
    "tags": []
   },
   "outputs": [],
   "source": [
    "train_idxs = np.concatenate([left_out_splits[idx] for idx in TRAIN_SPLIT_IDXS])\n",
    "val_idxs = left_out_splits[VAL_SPLIT_IDX]\n",
    "test_idxs = left_out_splits[TEST_SPLIT_IDX]"
   ]
  },
  {
   "cell_type": "markdown",
   "id": "bd3bac1b",
   "metadata": {
    "papermill": {
     "duration": 0.065417,
     "end_time": "2025-06-13T13:02:20.680489",
     "exception": false,
     "start_time": "2025-06-13T13:02:20.615072",
     "status": "completed"
    },
    "tags": []
   },
   "source": [
    "### SUBSET DATASET INTO TRAIN/TEST/VAL SPLITS"
   ]
  },
  {
   "cell_type": "code",
   "execution_count": 14,
   "id": "fe5532b0",
   "metadata": {
    "execution": {
     "iopub.execute_input": "2025-06-13T13:02:20.696221Z",
     "iopub.status.busy": "2025-06-13T13:02:20.695992Z",
     "iopub.status.idle": "2025-06-13T13:02:20.963536Z",
     "shell.execute_reply": "2025-06-13T13:02:20.963187Z"
    },
    "papermill": {
     "duration": 0.274471,
     "end_time": "2025-06-13T13:02:20.964447",
     "exception": false,
     "start_time": "2025-06-13T13:02:20.689976",
     "status": "completed"
    },
    "tags": []
   },
   "outputs": [
    {
     "data": {
      "text/plain": [
       "((76153, 105), (24616, 105), (24117, 105))"
      ]
     },
     "execution_count": 14,
     "metadata": {},
     "output_type": "execute_result"
    }
   ],
   "source": [
    "X_train = train_adata.X[train_idxs]\n",
    "X_test = train_adata.X[test_idxs]\n",
    "X_val = train_adata.X[val_idxs]\n",
    "X_train.shape, X_test.shape, X_val.shape"
   ]
  },
  {
   "cell_type": "code",
   "execution_count": 15,
   "id": "2d696ad2",
   "metadata": {
    "execution": {
     "iopub.execute_input": "2025-06-13T13:02:21.060070Z",
     "iopub.status.busy": "2025-06-13T13:02:21.059874Z",
     "iopub.status.idle": "2025-06-13T13:02:21.071550Z",
     "shell.execute_reply": "2025-06-13T13:02:21.071191Z"
    },
    "papermill": {
     "duration": 0.039976,
     "end_time": "2025-06-13T13:02:21.072422",
     "exception": false,
     "start_time": "2025-06-13T13:02:21.032446",
     "status": "completed"
    },
    "tags": []
   },
   "outputs": [
    {
     "data": {
      "text/plain": [
       "((76153,), (24616,), (24117,))"
      ]
     },
     "execution_count": 15,
     "metadata": {},
     "output_type": "execute_result"
    }
   ],
   "source": [
    "y_train = train_adata.obs.iloc[train_idxs].disease.values.astype(str)\n",
    "y_test = train_adata.obs.iloc[test_idxs].disease.values.astype(str)\n",
    "y_val = train_adata.obs.iloc[val_idxs].disease.values.astype(str)\n",
    "y_train.shape, y_test.shape, y_val.shape"
   ]
  },
  {
   "cell_type": "code",
   "execution_count": 16,
   "id": "a7729793",
   "metadata": {
    "execution": {
     "iopub.execute_input": "2025-06-13T13:02:21.091735Z",
     "iopub.status.busy": "2025-06-13T13:02:21.091545Z",
     "iopub.status.idle": "2025-06-13T13:02:21.117504Z",
     "shell.execute_reply": "2025-06-13T13:02:21.117157Z"
    },
    "papermill": {
     "duration": 0.036777,
     "end_time": "2025-06-13T13:02:21.118511",
     "exception": false,
     "start_time": "2025-06-13T13:02:21.081734",
     "status": "completed"
    },
    "tags": []
   },
   "outputs": [],
   "source": [
    "lenc = LabelEncoder()\n",
    "y_train_enc = lenc.fit_transform(y_train)\n",
    "y_val_enc = lenc.transform(y_val)\n",
    "y_test_enc = lenc.transform(y_test)"
   ]
  },
  {
   "cell_type": "markdown",
   "id": "ad21fc10",
   "metadata": {
    "papermill": {
     "duration": 0.017308,
     "end_time": "2025-06-13T13:02:21.147570",
     "exception": false,
     "start_time": "2025-06-13T13:02:21.130262",
     "status": "completed"
    },
    "tags": []
   },
   "source": [
    "### GENERATE F1 "
   ]
  },
  {
   "cell_type": "code",
   "execution_count": 17,
   "id": "e630de24",
   "metadata": {
    "execution": {
     "iopub.execute_input": "2025-06-13T13:02:21.294190Z",
     "iopub.status.busy": "2025-06-13T13:02:21.294012Z",
     "iopub.status.idle": "2025-06-13T13:02:21.296217Z",
     "shell.execute_reply": "2025-06-13T13:02:21.295902Z"
    },
    "papermill": {
     "duration": 0.070141,
     "end_time": "2025-06-13T13:02:21.297030",
     "exception": false,
     "start_time": "2025-06-13T13:02:21.226889",
     "status": "completed"
    },
    "tags": []
   },
   "outputs": [],
   "source": [
    "def custom_f1_score(y_true, y_pred):\n",
    "    return -f1_score(y_true, y_pred.argmax(1), average='weighted')"
   ]
  },
  {
   "cell_type": "code",
   "execution_count": 18,
   "id": "3a103f26",
   "metadata": {
    "execution": {
     "iopub.execute_input": "2025-06-13T13:02:21.481761Z",
     "iopub.status.busy": "2025-06-13T13:02:21.481466Z",
     "iopub.status.idle": "2025-06-13T13:02:21.485735Z",
     "shell.execute_reply": "2025-06-13T13:02:21.485443Z"
    },
    "papermill": {
     "duration": 0.092052,
     "end_time": "2025-06-13T13:02:21.486554",
     "exception": false,
     "start_time": "2025-06-13T13:02:21.394502",
     "status": "completed"
    },
    "tags": []
   },
   "outputs": [],
   "source": [
    "eval_metric=custom_f1_score\n",
    "eval_metric_name='custom_f1_score'\n",
    "\n",
    "def objective(trial):\n",
    "    params = {\n",
    "        'n_estimators': 1500,\n",
    "        'max_depth': trial.suggest_int('max_depth', 3, 20),\n",
    "        'min_child_weight': trial.suggest_int('min_child_weight', 1, 250),\n",
    "        'subsample': trial.suggest_float('subsample', 0.1, 1.0),\n",
    "        'colsample_bynode': trial.suggest_float('colsample_bynode', 0.1, 1.0),\n",
    "        'learning_rate': trial.suggest_float('learning_rate', 1e-3, 5e-1, log=True),\n",
    "    }\n",
    "    pruning_callback = optuna.integration.XGBoostPruningCallback(trial, f'validation_0-{eval_metric_name}')\n",
    "    es_callback = xgboost.callback.EarlyStopping(20, min_delta=0.001)\n",
    "    xgb = xgboost.XGBClassifier(\n",
    "        eval_metric=eval_metric,\n",
    "        callbacks=[pruning_callback, es_callback],\n",
    "        n_jobs=5,\n",
    "        **params\n",
    "    )\n",
    "    xgb.fit(\n",
    "        X_train, \n",
    "        y_train_enc, \n",
    "        verbose=0,\n",
    "        eval_set=[(X_val, y_val_enc)],\n",
    "    )\n",
    "    trial.set_user_attr('best_iteration', xgb.best_iteration)\n",
    "\n",
    "    return xgb.best_score"
   ]
  },
  {
   "cell_type": "code",
   "execution_count": 19,
   "id": "b44e574d",
   "metadata": {
    "execution": {
     "iopub.execute_input": "2025-06-13T13:02:21.509830Z",
     "iopub.status.busy": "2025-06-13T13:02:21.509500Z",
     "iopub.status.idle": "2025-06-13T13:12:56.820403Z",
     "shell.execute_reply": "2025-06-13T13:12:56.819924Z"
    },
    "papermill": {
     "duration": 635.322703,
     "end_time": "2025-06-13T13:12:56.821520",
     "exception": false,
     "start_time": "2025-06-13T13:02:21.498817",
     "status": "completed"
    },
    "scrolled": true,
    "tags": []
   },
   "outputs": [
    {
     "name": "stderr",
     "output_type": "stream",
     "text": [
      "[I 2025-06-13 15:02:21,511] A new study created in memory with name: no-name-f6b96dff-9c8f-4aaf-9649-f89372125ac4\n"
     ]
    },
    {
     "name": "stderr",
     "output_type": "stream",
     "text": [
      "[I 2025-06-13 15:02:28,263] Trial 0 finished with value: -0.736157 and parameters: {'max_depth': 9, 'min_child_weight': 238, 'subsample': 0.7587945476302645, 'colsample_bynode': 0.6387926357773329, 'learning_rate': 0.0026368755339723046}. Best is trial 0 with value: -0.736157.\n"
     ]
    },
    {
     "name": "stderr",
     "output_type": "stream",
     "text": [
      "[I 2025-06-13 15:03:25,367] Trial 1 finished with value: -0.846341 and parameters: {'max_depth': 5, 'min_child_weight': 15, 'subsample': 0.8795585311974417, 'colsample_bynode': 0.6410035105688879, 'learning_rate': 0.08148293210105287}. Best is trial 1 with value: -0.846341.\n"
     ]
    },
    {
     "name": "stderr",
     "output_type": "stream",
     "text": [
      "[I 2025-06-13 15:03:30,443] Trial 2 finished with value: -0.686317 and parameters: {'max_depth': 3, 'min_child_weight': 243, 'subsample': 0.8491983767203796, 'colsample_bynode': 0.29110519961044856, 'learning_rate': 0.003095566460242371}. Best is trial 1 with value: -0.846341.\n"
     ]
    },
    {
     "name": "stderr",
     "output_type": "stream",
     "text": [
      "[I 2025-06-13 15:04:31,538] Trial 3 finished with value: -0.790466 and parameters: {'max_depth': 6, 'min_child_weight': 77, 'subsample': 0.5722807884690141, 'colsample_bynode': 0.48875051677790415, 'learning_rate': 0.006109683510122491}. Best is trial 1 with value: -0.846341.\n"
     ]
    },
    {
     "name": "stderr",
     "output_type": "stream",
     "text": [
      "[I 2025-06-13 15:06:13,386] Trial 4 finished with value: -0.836653 and parameters: {'max_depth': 14, 'min_child_weight': 35, 'subsample': 0.3629301836816964, 'colsample_bynode': 0.4297256589643226, 'learning_rate': 0.01701841881702917}. Best is trial 1 with value: -0.846341.\n"
     ]
    },
    {
     "name": "stderr",
     "output_type": "stream",
     "text": [
      "[I 2025-06-13 15:06:23,745] Trial 5 pruned. Trial was pruned at iteration 28.\n"
     ]
    },
    {
     "name": "stderr",
     "output_type": "stream",
     "text": [
      "[I 2025-06-13 15:06:46,834] Trial 6 finished with value: -0.848549 and parameters: {'max_depth': 13, 'min_child_weight': 43, 'subsample': 0.1585464336867516, 'colsample_bynode': 0.9539969835279999, 'learning_rate': 0.4038423798071558}. Best is trial 6 with value: -0.848549.\n"
     ]
    },
    {
     "name": "stderr",
     "output_type": "stream",
     "text": [
      "[I 2025-06-13 15:06:47,444] Trial 7 pruned. Trial was pruned at iteration 0.\n"
     ]
    },
    {
     "name": "stderr",
     "output_type": "stream",
     "text": [
      "[I 2025-06-13 15:06:48,031] Trial 8 pruned. Trial was pruned at iteration 0.\n"
     ]
    },
    {
     "name": "stderr",
     "output_type": "stream",
     "text": [
      "[I 2025-06-13 15:06:52,482] Trial 9 pruned. Trial was pruned at iteration 12.\n"
     ]
    },
    {
     "name": "stderr",
     "output_type": "stream",
     "text": [
      "[I 2025-06-13 15:06:53,102] Trial 10 pruned. Trial was pruned at iteration 0.\n"
     ]
    },
    {
     "name": "stderr",
     "output_type": "stream",
     "text": [
      "[I 2025-06-13 15:07:31,443] Trial 11 finished with value: -0.847682 and parameters: {'max_depth': 10, 'min_child_weight': 3, 'subsample': 0.9785259098721957, 'colsample_bynode': 0.8052666590341151, 'learning_rate': 0.2758695468716421}. Best is trial 6 with value: -0.848549.\n"
     ]
    },
    {
     "name": "stderr",
     "output_type": "stream",
     "text": [
      "[I 2025-06-13 15:08:09,116] Trial 12 finished with value: -0.846739 and parameters: {'max_depth': 10, 'min_child_weight': 3, 'subsample': 0.9575013734813995, 'colsample_bynode': 0.8617981444074343, 'learning_rate': 0.48918351051991577}. Best is trial 6 with value: -0.848549.\n"
     ]
    },
    {
     "name": "stderr",
     "output_type": "stream",
     "text": [
      "[I 2025-06-13 15:08:10,101] Trial 13 pruned. Trial was pruned at iteration 1.\n"
     ]
    },
    {
     "name": "stderr",
     "output_type": "stream",
     "text": [
      "[I 2025-06-13 15:08:10,713] Trial 14 pruned. Trial was pruned at iteration 0.\n"
     ]
    },
    {
     "name": "stderr",
     "output_type": "stream",
     "text": [
      "[I 2025-06-13 15:08:11,672] Trial 15 pruned. Trial was pruned at iteration 1.\n"
     ]
    },
    {
     "name": "stderr",
     "output_type": "stream",
     "text": [
      "[I 2025-06-13 15:09:07,612] Trial 16 finished with value: -0.848402 and parameters: {'max_depth': 16, 'min_child_weight': 1, 'subsample': 0.448547053172712, 'colsample_bynode': 0.8448363213508442, 'learning_rate': 0.224490645285956}. Best is trial 6 with value: -0.848549.\n"
     ]
    },
    {
     "name": "stderr",
     "output_type": "stream",
     "text": [
      "[I 2025-06-13 15:09:08,266] Trial 17 pruned. Trial was pruned at iteration 0.\n"
     ]
    },
    {
     "name": "stderr",
     "output_type": "stream",
     "text": [
      "[I 2025-06-13 15:09:08,850] Trial 18 pruned. Trial was pruned at iteration 0.\n"
     ]
    },
    {
     "name": "stderr",
     "output_type": "stream",
     "text": [
      "[I 2025-06-13 15:09:09,417] Trial 19 pruned. Trial was pruned at iteration 0.\n"
     ]
    },
    {
     "name": "stderr",
     "output_type": "stream",
     "text": [
      "[I 2025-06-13 15:09:10,404] Trial 20 pruned. Trial was pruned at iteration 1.\n"
     ]
    },
    {
     "name": "stderr",
     "output_type": "stream",
     "text": [
      "[I 2025-06-13 15:10:02,964] Trial 21 pruned. Trial was pruned at iteration 76.\n"
     ]
    },
    {
     "name": "stderr",
     "output_type": "stream",
     "text": [
      "[I 2025-06-13 15:10:31,320] Trial 22 finished with value: -0.850814 and parameters: {'max_depth': 15, 'min_child_weight': 23, 'subsample': 0.6581340170061017, 'colsample_bynode': 0.9797488896315226, 'learning_rate': 0.3054068200443764}. Best is trial 22 with value: -0.850814.\n"
     ]
    },
    {
     "name": "stderr",
     "output_type": "stream",
     "text": [
      "[I 2025-06-13 15:10:42,370] Trial 23 pruned. Trial was pruned at iteration 21.\n"
     ]
    },
    {
     "name": "stderr",
     "output_type": "stream",
     "text": [
      "[I 2025-06-13 15:10:43,060] Trial 24 pruned. Trial was pruned at iteration 0.\n"
     ]
    },
    {
     "name": "stderr",
     "output_type": "stream",
     "text": [
      "[I 2025-06-13 15:10:44,096] Trial 25 pruned. Trial was pruned at iteration 1.\n"
     ]
    },
    {
     "name": "stderr",
     "output_type": "stream",
     "text": [
      "[I 2025-06-13 15:10:44,696] Trial 26 pruned. Trial was pruned at iteration 0.\n"
     ]
    },
    {
     "name": "stderr",
     "output_type": "stream",
     "text": [
      "[I 2025-06-13 15:10:45,589] Trial 27 pruned. Trial was pruned at iteration 1.\n"
     ]
    },
    {
     "name": "stderr",
     "output_type": "stream",
     "text": [
      "[I 2025-06-13 15:10:49,587] Trial 28 pruned. Trial was pruned at iteration 8.\n"
     ]
    },
    {
     "name": "stderr",
     "output_type": "stream",
     "text": [
      "[I 2025-06-13 15:10:50,215] Trial 29 pruned. Trial was pruned at iteration 0.\n"
     ]
    },
    {
     "name": "stderr",
     "output_type": "stream",
     "text": [
      "[I 2025-06-13 15:10:56,256] Trial 30 pruned. Trial was pruned at iteration 17.\n"
     ]
    },
    {
     "name": "stderr",
     "output_type": "stream",
     "text": [
      "[I 2025-06-13 15:11:08,554] Trial 31 pruned. Trial was pruned at iteration 21.\n"
     ]
    },
    {
     "name": "stderr",
     "output_type": "stream",
     "text": [
      "[I 2025-06-13 15:11:37,155] Trial 32 finished with value: -0.850889 and parameters: {'max_depth': 11, 'min_child_weight': 16, 'subsample': 0.7920786910010633, 'colsample_bynode': 0.9377806962291786, 'learning_rate': 0.31465899417782006}. Best is trial 32 with value: -0.850889.\n"
     ]
    },
    {
     "name": "stderr",
     "output_type": "stream",
     "text": [
      "[I 2025-06-13 15:11:45,616] Trial 33 pruned. Trial was pruned at iteration 15.\n"
     ]
    },
    {
     "name": "stderr",
     "output_type": "stream",
     "text": [
      "[I 2025-06-13 15:11:47,374] Trial 34 pruned. Trial was pruned at iteration 3.\n"
     ]
    },
    {
     "name": "stderr",
     "output_type": "stream",
     "text": [
      "[I 2025-06-13 15:11:54,642] Trial 35 pruned. Trial was pruned at iteration 20.\n"
     ]
    },
    {
     "name": "stderr",
     "output_type": "stream",
     "text": [
      "[I 2025-06-13 15:11:58,526] Trial 36 pruned. Trial was pruned at iteration 11.\n"
     ]
    },
    {
     "name": "stderr",
     "output_type": "stream",
     "text": [
      "[I 2025-06-13 15:11:59,465] Trial 37 pruned. Trial was pruned at iteration 1.\n"
     ]
    },
    {
     "name": "stderr",
     "output_type": "stream",
     "text": [
      "[I 2025-06-13 15:12:00,696] Trial 38 pruned. Trial was pruned at iteration 2.\n"
     ]
    },
    {
     "name": "stderr",
     "output_type": "stream",
     "text": [
      "[I 2025-06-13 15:12:01,227] Trial 39 pruned. Trial was pruned at iteration 0.\n"
     ]
    },
    {
     "name": "stderr",
     "output_type": "stream",
     "text": [
      "[I 2025-06-13 15:12:01,751] Trial 40 pruned. Trial was pruned at iteration 0.\n"
     ]
    },
    {
     "name": "stderr",
     "output_type": "stream",
     "text": [
      "[I 2025-06-13 15:12:11,657] Trial 41 pruned. Trial was pruned at iteration 21.\n"
     ]
    },
    {
     "name": "stderr",
     "output_type": "stream",
     "text": [
      "[I 2025-06-13 15:12:28,139] Trial 42 finished with value: -0.848889 and parameters: {'max_depth': 9, 'min_child_weight': 26, 'subsample': 0.593058461950968, 'colsample_bynode': 0.883638155066957, 'learning_rate': 0.4850552927472658}. Best is trial 32 with value: -0.850889.\n"
     ]
    },
    {
     "name": "stderr",
     "output_type": "stream",
     "text": [
      "[I 2025-06-13 15:12:28,987] Trial 43 pruned. Trial was pruned at iteration 1.\n"
     ]
    },
    {
     "name": "stderr",
     "output_type": "stream",
     "text": [
      "[I 2025-06-13 15:12:52,137] Trial 44 finished with value: -0.850041 and parameters: {'max_depth': 17, 'min_child_weight': 20, 'subsample': 0.5331871801507428, 'colsample_bynode': 0.9610158546202292, 'learning_rate': 0.3768962251383548}. Best is trial 32 with value: -0.850889.\n"
     ]
    },
    {
     "name": "stderr",
     "output_type": "stream",
     "text": [
      "[I 2025-06-13 15:12:53,087] Trial 45 pruned. Trial was pruned at iteration 1.\n"
     ]
    },
    {
     "name": "stderr",
     "output_type": "stream",
     "text": [
      "[I 2025-06-13 15:12:53,750] Trial 46 pruned. Trial was pruned at iteration 0.\n"
     ]
    },
    {
     "name": "stderr",
     "output_type": "stream",
     "text": [
      "[I 2025-06-13 15:12:55,558] Trial 47 pruned. Trial was pruned at iteration 3.\n"
     ]
    },
    {
     "name": "stderr",
     "output_type": "stream",
     "text": [
      "[I 2025-06-13 15:12:56,138] Trial 48 pruned. Trial was pruned at iteration 0.\n"
     ]
    },
    {
     "name": "stderr",
     "output_type": "stream",
     "text": [
      "[I 2025-06-13 15:12:56,743] Trial 49 pruned. Trial was pruned at iteration 0.\n"
     ]
    }
   ],
   "source": [
    "sampler = optuna.samplers.TPESampler(seed=42)\n",
    "study = optuna.create_study(direction='minimize', sampler=sampler)\n",
    "study.optimize(objective, n_trials=N_TRIALS, gc_after_trial=True)"
   ]
  },
  {
   "cell_type": "code",
   "execution_count": 20,
   "id": "433f7a47",
   "metadata": {
    "execution": {
     "iopub.execute_input": "2025-06-13T13:12:56.840089Z",
     "iopub.status.busy": "2025-06-13T13:12:56.839829Z",
     "iopub.status.idle": "2025-06-13T13:12:56.865474Z",
     "shell.execute_reply": "2025-06-13T13:12:56.865100Z"
    },
    "papermill": {
     "duration": 0.035644,
     "end_time": "2025-06-13T13:12:56.866374",
     "exception": false,
     "start_time": "2025-06-13T13:12:56.830730",
     "status": "completed"
    },
    "tags": []
   },
   "outputs": [
    {
     "data": {
      "text/plain": [
       "['/scratch_isilon/groups/singlecell/shared/projects/Inflammation-PBMCs-Atlas/03_downstream_analysis/08_gene_importance/xgboost_external_validation/xgboost_TopN_genes/results_20/study/T_CD4_NonNaive_shap_studyID_samesize_3_xgboost.pkl']"
      ]
     },
     "execution_count": 20,
     "metadata": {},
     "output_type": "execute_result"
    }
   ],
   "source": [
    "out_dir = here(f'03_downstream_analysis/08_gene_importance/xgboost_external_validation/xgboost_TopN_genes/results_{N_GENES}/study')\n",
    "\n",
    "if not os.path.exists(out_dir):\n",
    "    os.makedirs(out_dir)\n",
    "    \n",
    "joblib.dump(study,os.path.join(out_dir, f'{CELL_TYPE}_{SEED}_{TEST_SPLIT_IDX}_xgboost.pkl'))"
   ]
  },
  {
   "cell_type": "code",
   "execution_count": 21,
   "id": "edb92be4",
   "metadata": {
    "execution": {
     "iopub.execute_input": "2025-06-13T13:12:56.884391Z",
     "iopub.status.busy": "2025-06-13T13:12:56.883920Z",
     "iopub.status.idle": "2025-06-13T13:13:11.402386Z",
     "shell.execute_reply": "2025-06-13T13:13:11.402007Z"
    },
    "papermill": {
     "duration": 14.528587,
     "end_time": "2025-06-13T13:13:11.403447",
     "exception": false,
     "start_time": "2025-06-13T13:12:56.874860",
     "status": "completed"
    },
    "tags": []
   },
   "outputs": [
    {
     "data": {
      "text/html": [
       "<style>#sk-container-id-1 {\n",
       "  /* Definition of color scheme common for light and dark mode */\n",
       "  --sklearn-color-text: black;\n",
       "  --sklearn-color-line: gray;\n",
       "  /* Definition of color scheme for unfitted estimators */\n",
       "  --sklearn-color-unfitted-level-0: #fff5e6;\n",
       "  --sklearn-color-unfitted-level-1: #f6e4d2;\n",
       "  --sklearn-color-unfitted-level-2: #ffe0b3;\n",
       "  --sklearn-color-unfitted-level-3: chocolate;\n",
       "  /* Definition of color scheme for fitted estimators */\n",
       "  --sklearn-color-fitted-level-0: #f0f8ff;\n",
       "  --sklearn-color-fitted-level-1: #d4ebff;\n",
       "  --sklearn-color-fitted-level-2: #b3dbfd;\n",
       "  --sklearn-color-fitted-level-3: cornflowerblue;\n",
       "\n",
       "  /* Specific color for light theme */\n",
       "  --sklearn-color-text-on-default-background: var(--sg-text-color, var(--theme-code-foreground, var(--jp-content-font-color1, black)));\n",
       "  --sklearn-color-background: var(--sg-background-color, var(--theme-background, var(--jp-layout-color0, white)));\n",
       "  --sklearn-color-border-box: var(--sg-text-color, var(--theme-code-foreground, var(--jp-content-font-color1, black)));\n",
       "  --sklearn-color-icon: #696969;\n",
       "\n",
       "  @media (prefers-color-scheme: dark) {\n",
       "    /* Redefinition of color scheme for dark theme */\n",
       "    --sklearn-color-text-on-default-background: var(--sg-text-color, var(--theme-code-foreground, var(--jp-content-font-color1, white)));\n",
       "    --sklearn-color-background: var(--sg-background-color, var(--theme-background, var(--jp-layout-color0, #111)));\n",
       "    --sklearn-color-border-box: var(--sg-text-color, var(--theme-code-foreground, var(--jp-content-font-color1, white)));\n",
       "    --sklearn-color-icon: #878787;\n",
       "  }\n",
       "}\n",
       "\n",
       "#sk-container-id-1 {\n",
       "  color: var(--sklearn-color-text);\n",
       "}\n",
       "\n",
       "#sk-container-id-1 pre {\n",
       "  padding: 0;\n",
       "}\n",
       "\n",
       "#sk-container-id-1 input.sk-hidden--visually {\n",
       "  border: 0;\n",
       "  clip: rect(1px 1px 1px 1px);\n",
       "  clip: rect(1px, 1px, 1px, 1px);\n",
       "  height: 1px;\n",
       "  margin: -1px;\n",
       "  overflow: hidden;\n",
       "  padding: 0;\n",
       "  position: absolute;\n",
       "  width: 1px;\n",
       "}\n",
       "\n",
       "#sk-container-id-1 div.sk-dashed-wrapped {\n",
       "  border: 1px dashed var(--sklearn-color-line);\n",
       "  margin: 0 0.4em 0.5em 0.4em;\n",
       "  box-sizing: border-box;\n",
       "  padding-bottom: 0.4em;\n",
       "  background-color: var(--sklearn-color-background);\n",
       "}\n",
       "\n",
       "#sk-container-id-1 div.sk-container {\n",
       "  /* jupyter's `normalize.less` sets `[hidden] { display: none; }`\n",
       "     but bootstrap.min.css set `[hidden] { display: none !important; }`\n",
       "     so we also need the `!important` here to be able to override the\n",
       "     default hidden behavior on the sphinx rendered scikit-learn.org.\n",
       "     See: https://github.com/scikit-learn/scikit-learn/issues/21755 */\n",
       "  display: inline-block !important;\n",
       "  position: relative;\n",
       "}\n",
       "\n",
       "#sk-container-id-1 div.sk-text-repr-fallback {\n",
       "  display: none;\n",
       "}\n",
       "\n",
       "div.sk-parallel-item,\n",
       "div.sk-serial,\n",
       "div.sk-item {\n",
       "  /* draw centered vertical line to link estimators */\n",
       "  background-image: linear-gradient(var(--sklearn-color-text-on-default-background), var(--sklearn-color-text-on-default-background));\n",
       "  background-size: 2px 100%;\n",
       "  background-repeat: no-repeat;\n",
       "  background-position: center center;\n",
       "}\n",
       "\n",
       "/* Parallel-specific style estimator block */\n",
       "\n",
       "#sk-container-id-1 div.sk-parallel-item::after {\n",
       "  content: \"\";\n",
       "  width: 100%;\n",
       "  border-bottom: 2px solid var(--sklearn-color-text-on-default-background);\n",
       "  flex-grow: 1;\n",
       "}\n",
       "\n",
       "#sk-container-id-1 div.sk-parallel {\n",
       "  display: flex;\n",
       "  align-items: stretch;\n",
       "  justify-content: center;\n",
       "  background-color: var(--sklearn-color-background);\n",
       "  position: relative;\n",
       "}\n",
       "\n",
       "#sk-container-id-1 div.sk-parallel-item {\n",
       "  display: flex;\n",
       "  flex-direction: column;\n",
       "}\n",
       "\n",
       "#sk-container-id-1 div.sk-parallel-item:first-child::after {\n",
       "  align-self: flex-end;\n",
       "  width: 50%;\n",
       "}\n",
       "\n",
       "#sk-container-id-1 div.sk-parallel-item:last-child::after {\n",
       "  align-self: flex-start;\n",
       "  width: 50%;\n",
       "}\n",
       "\n",
       "#sk-container-id-1 div.sk-parallel-item:only-child::after {\n",
       "  width: 0;\n",
       "}\n",
       "\n",
       "/* Serial-specific style estimator block */\n",
       "\n",
       "#sk-container-id-1 div.sk-serial {\n",
       "  display: flex;\n",
       "  flex-direction: column;\n",
       "  align-items: center;\n",
       "  background-color: var(--sklearn-color-background);\n",
       "  padding-right: 1em;\n",
       "  padding-left: 1em;\n",
       "}\n",
       "\n",
       "\n",
       "/* Toggleable style: style used for estimator/Pipeline/ColumnTransformer box that is\n",
       "clickable and can be expanded/collapsed.\n",
       "- Pipeline and ColumnTransformer use this feature and define the default style\n",
       "- Estimators will overwrite some part of the style using the `sk-estimator` class\n",
       "*/\n",
       "\n",
       "/* Pipeline and ColumnTransformer style (default) */\n",
       "\n",
       "#sk-container-id-1 div.sk-toggleable {\n",
       "  /* Default theme specific background. It is overwritten whether we have a\n",
       "  specific estimator or a Pipeline/ColumnTransformer */\n",
       "  background-color: var(--sklearn-color-background);\n",
       "}\n",
       "\n",
       "/* Toggleable label */\n",
       "#sk-container-id-1 label.sk-toggleable__label {\n",
       "  cursor: pointer;\n",
       "  display: block;\n",
       "  width: 100%;\n",
       "  margin-bottom: 0;\n",
       "  padding: 0.5em;\n",
       "  box-sizing: border-box;\n",
       "  text-align: center;\n",
       "}\n",
       "\n",
       "#sk-container-id-1 label.sk-toggleable__label-arrow:before {\n",
       "  /* Arrow on the left of the label */\n",
       "  content: \"▸\";\n",
       "  float: left;\n",
       "  margin-right: 0.25em;\n",
       "  color: var(--sklearn-color-icon);\n",
       "}\n",
       "\n",
       "#sk-container-id-1 label.sk-toggleable__label-arrow:hover:before {\n",
       "  color: var(--sklearn-color-text);\n",
       "}\n",
       "\n",
       "/* Toggleable content - dropdown */\n",
       "\n",
       "#sk-container-id-1 div.sk-toggleable__content {\n",
       "  max-height: 0;\n",
       "  max-width: 0;\n",
       "  overflow: hidden;\n",
       "  text-align: left;\n",
       "  /* unfitted */\n",
       "  background-color: var(--sklearn-color-unfitted-level-0);\n",
       "}\n",
       "\n",
       "#sk-container-id-1 div.sk-toggleable__content.fitted {\n",
       "  /* fitted */\n",
       "  background-color: var(--sklearn-color-fitted-level-0);\n",
       "}\n",
       "\n",
       "#sk-container-id-1 div.sk-toggleable__content pre {\n",
       "  margin: 0.2em;\n",
       "  border-radius: 0.25em;\n",
       "  color: var(--sklearn-color-text);\n",
       "  /* unfitted */\n",
       "  background-color: var(--sklearn-color-unfitted-level-0);\n",
       "}\n",
       "\n",
       "#sk-container-id-1 div.sk-toggleable__content.fitted pre {\n",
       "  /* unfitted */\n",
       "  background-color: var(--sklearn-color-fitted-level-0);\n",
       "}\n",
       "\n",
       "#sk-container-id-1 input.sk-toggleable__control:checked~div.sk-toggleable__content {\n",
       "  /* Expand drop-down */\n",
       "  max-height: 200px;\n",
       "  max-width: 100%;\n",
       "  overflow: auto;\n",
       "}\n",
       "\n",
       "#sk-container-id-1 input.sk-toggleable__control:checked~label.sk-toggleable__label-arrow:before {\n",
       "  content: \"▾\";\n",
       "}\n",
       "\n",
       "/* Pipeline/ColumnTransformer-specific style */\n",
       "\n",
       "#sk-container-id-1 div.sk-label input.sk-toggleable__control:checked~label.sk-toggleable__label {\n",
       "  color: var(--sklearn-color-text);\n",
       "  background-color: var(--sklearn-color-unfitted-level-2);\n",
       "}\n",
       "\n",
       "#sk-container-id-1 div.sk-label.fitted input.sk-toggleable__control:checked~label.sk-toggleable__label {\n",
       "  background-color: var(--sklearn-color-fitted-level-2);\n",
       "}\n",
       "\n",
       "/* Estimator-specific style */\n",
       "\n",
       "/* Colorize estimator box */\n",
       "#sk-container-id-1 div.sk-estimator input.sk-toggleable__control:checked~label.sk-toggleable__label {\n",
       "  /* unfitted */\n",
       "  background-color: var(--sklearn-color-unfitted-level-2);\n",
       "}\n",
       "\n",
       "#sk-container-id-1 div.sk-estimator.fitted input.sk-toggleable__control:checked~label.sk-toggleable__label {\n",
       "  /* fitted */\n",
       "  background-color: var(--sklearn-color-fitted-level-2);\n",
       "}\n",
       "\n",
       "#sk-container-id-1 div.sk-label label.sk-toggleable__label,\n",
       "#sk-container-id-1 div.sk-label label {\n",
       "  /* The background is the default theme color */\n",
       "  color: var(--sklearn-color-text-on-default-background);\n",
       "}\n",
       "\n",
       "/* On hover, darken the color of the background */\n",
       "#sk-container-id-1 div.sk-label:hover label.sk-toggleable__label {\n",
       "  color: var(--sklearn-color-text);\n",
       "  background-color: var(--sklearn-color-unfitted-level-2);\n",
       "}\n",
       "\n",
       "/* Label box, darken color on hover, fitted */\n",
       "#sk-container-id-1 div.sk-label.fitted:hover label.sk-toggleable__label.fitted {\n",
       "  color: var(--sklearn-color-text);\n",
       "  background-color: var(--sklearn-color-fitted-level-2);\n",
       "}\n",
       "\n",
       "/* Estimator label */\n",
       "\n",
       "#sk-container-id-1 div.sk-label label {\n",
       "  font-family: monospace;\n",
       "  font-weight: bold;\n",
       "  display: inline-block;\n",
       "  line-height: 1.2em;\n",
       "}\n",
       "\n",
       "#sk-container-id-1 div.sk-label-container {\n",
       "  text-align: center;\n",
       "}\n",
       "\n",
       "/* Estimator-specific */\n",
       "#sk-container-id-1 div.sk-estimator {\n",
       "  font-family: monospace;\n",
       "  border: 1px dotted var(--sklearn-color-border-box);\n",
       "  border-radius: 0.25em;\n",
       "  box-sizing: border-box;\n",
       "  margin-bottom: 0.5em;\n",
       "  /* unfitted */\n",
       "  background-color: var(--sklearn-color-unfitted-level-0);\n",
       "}\n",
       "\n",
       "#sk-container-id-1 div.sk-estimator.fitted {\n",
       "  /* fitted */\n",
       "  background-color: var(--sklearn-color-fitted-level-0);\n",
       "}\n",
       "\n",
       "/* on hover */\n",
       "#sk-container-id-1 div.sk-estimator:hover {\n",
       "  /* unfitted */\n",
       "  background-color: var(--sklearn-color-unfitted-level-2);\n",
       "}\n",
       "\n",
       "#sk-container-id-1 div.sk-estimator.fitted:hover {\n",
       "  /* fitted */\n",
       "  background-color: var(--sklearn-color-fitted-level-2);\n",
       "}\n",
       "\n",
       "/* Specification for estimator info (e.g. \"i\" and \"?\") */\n",
       "\n",
       "/* Common style for \"i\" and \"?\" */\n",
       "\n",
       ".sk-estimator-doc-link,\n",
       "a:link.sk-estimator-doc-link,\n",
       "a:visited.sk-estimator-doc-link {\n",
       "  float: right;\n",
       "  font-size: smaller;\n",
       "  line-height: 1em;\n",
       "  font-family: monospace;\n",
       "  background-color: var(--sklearn-color-background);\n",
       "  border-radius: 1em;\n",
       "  height: 1em;\n",
       "  width: 1em;\n",
       "  text-decoration: none !important;\n",
       "  margin-left: 1ex;\n",
       "  /* unfitted */\n",
       "  border: var(--sklearn-color-unfitted-level-1) 1pt solid;\n",
       "  color: var(--sklearn-color-unfitted-level-1);\n",
       "}\n",
       "\n",
       ".sk-estimator-doc-link.fitted,\n",
       "a:link.sk-estimator-doc-link.fitted,\n",
       "a:visited.sk-estimator-doc-link.fitted {\n",
       "  /* fitted */\n",
       "  border: var(--sklearn-color-fitted-level-1) 1pt solid;\n",
       "  color: var(--sklearn-color-fitted-level-1);\n",
       "}\n",
       "\n",
       "/* On hover */\n",
       "div.sk-estimator:hover .sk-estimator-doc-link:hover,\n",
       ".sk-estimator-doc-link:hover,\n",
       "div.sk-label-container:hover .sk-estimator-doc-link:hover,\n",
       ".sk-estimator-doc-link:hover {\n",
       "  /* unfitted */\n",
       "  background-color: var(--sklearn-color-unfitted-level-3);\n",
       "  color: var(--sklearn-color-background);\n",
       "  text-decoration: none;\n",
       "}\n",
       "\n",
       "div.sk-estimator.fitted:hover .sk-estimator-doc-link.fitted:hover,\n",
       ".sk-estimator-doc-link.fitted:hover,\n",
       "div.sk-label-container:hover .sk-estimator-doc-link.fitted:hover,\n",
       ".sk-estimator-doc-link.fitted:hover {\n",
       "  /* fitted */\n",
       "  background-color: var(--sklearn-color-fitted-level-3);\n",
       "  color: var(--sklearn-color-background);\n",
       "  text-decoration: none;\n",
       "}\n",
       "\n",
       "/* Span, style for the box shown on hovering the info icon */\n",
       ".sk-estimator-doc-link span {\n",
       "  display: none;\n",
       "  z-index: 9999;\n",
       "  position: relative;\n",
       "  font-weight: normal;\n",
       "  right: .2ex;\n",
       "  padding: .5ex;\n",
       "  margin: .5ex;\n",
       "  width: min-content;\n",
       "  min-width: 20ex;\n",
       "  max-width: 50ex;\n",
       "  color: var(--sklearn-color-text);\n",
       "  box-shadow: 2pt 2pt 4pt #999;\n",
       "  /* unfitted */\n",
       "  background: var(--sklearn-color-unfitted-level-0);\n",
       "  border: .5pt solid var(--sklearn-color-unfitted-level-3);\n",
       "}\n",
       "\n",
       ".sk-estimator-doc-link.fitted span {\n",
       "  /* fitted */\n",
       "  background: var(--sklearn-color-fitted-level-0);\n",
       "  border: var(--sklearn-color-fitted-level-3);\n",
       "}\n",
       "\n",
       ".sk-estimator-doc-link:hover span {\n",
       "  display: block;\n",
       "}\n",
       "\n",
       "/* \"?\"-specific style due to the `<a>` HTML tag */\n",
       "\n",
       "#sk-container-id-1 a.estimator_doc_link {\n",
       "  float: right;\n",
       "  font-size: 1rem;\n",
       "  line-height: 1em;\n",
       "  font-family: monospace;\n",
       "  background-color: var(--sklearn-color-background);\n",
       "  border-radius: 1rem;\n",
       "  height: 1rem;\n",
       "  width: 1rem;\n",
       "  text-decoration: none;\n",
       "  /* unfitted */\n",
       "  color: var(--sklearn-color-unfitted-level-1);\n",
       "  border: var(--sklearn-color-unfitted-level-1) 1pt solid;\n",
       "}\n",
       "\n",
       "#sk-container-id-1 a.estimator_doc_link.fitted {\n",
       "  /* fitted */\n",
       "  border: var(--sklearn-color-fitted-level-1) 1pt solid;\n",
       "  color: var(--sklearn-color-fitted-level-1);\n",
       "}\n",
       "\n",
       "/* On hover */\n",
       "#sk-container-id-1 a.estimator_doc_link:hover {\n",
       "  /* unfitted */\n",
       "  background-color: var(--sklearn-color-unfitted-level-3);\n",
       "  color: var(--sklearn-color-background);\n",
       "  text-decoration: none;\n",
       "}\n",
       "\n",
       "#sk-container-id-1 a.estimator_doc_link.fitted:hover {\n",
       "  /* fitted */\n",
       "  background-color: var(--sklearn-color-fitted-level-3);\n",
       "}\n",
       "</style><div id=\"sk-container-id-1\" class=\"sk-top-container\"><div class=\"sk-text-repr-fallback\"><pre>XGBClassifier(base_score=None, booster=None, callbacks=None,\n",
       "              colsample_bylevel=None, colsample_bynode=0.9377806962291786,\n",
       "              colsample_bytree=None, device=None, early_stopping_rounds=None,\n",
       "              enable_categorical=False,\n",
       "              eval_metric=&lt;function custom_f1_score at 0x7fb26d4184a0&gt;,\n",
       "              feature_types=None, gamma=None, grow_policy=None,\n",
       "              importance_type=None, interaction_constraints=None,\n",
       "              learning_rate=0.31465899417782006, max_bin=None,\n",
       "              max_cat_threshold=None, max_cat_to_onehot=None,\n",
       "              max_delta_step=None, max_depth=11, max_leaves=None,\n",
       "              min_child_weight=16, missing=nan, monotone_constraints=None,\n",
       "              multi_strategy=None, n_estimators=73, n_jobs=None,\n",
       "              num_parallel_tree=None, objective=&#x27;multi:softprob&#x27;, ...)</pre><b>In a Jupyter environment, please rerun this cell to show the HTML representation or trust the notebook. <br />On GitHub, the HTML representation is unable to render, please try loading this page with nbviewer.org.</b></div><div class=\"sk-container\" hidden><div class=\"sk-item\"><div class=\"sk-estimator fitted sk-toggleable\"><input class=\"sk-toggleable__control sk-hidden--visually\" id=\"sk-estimator-id-1\" type=\"checkbox\" checked><label for=\"sk-estimator-id-1\" class=\"sk-toggleable__label fitted sk-toggleable__label-arrow fitted\">&nbsp;XGBClassifier<span class=\"sk-estimator-doc-link fitted\">i<span>Fitted</span></span></label><div class=\"sk-toggleable__content fitted\"><pre>XGBClassifier(base_score=None, booster=None, callbacks=None,\n",
       "              colsample_bylevel=None, colsample_bynode=0.9377806962291786,\n",
       "              colsample_bytree=None, device=None, early_stopping_rounds=None,\n",
       "              enable_categorical=False,\n",
       "              eval_metric=&lt;function custom_f1_score at 0x7fb26d4184a0&gt;,\n",
       "              feature_types=None, gamma=None, grow_policy=None,\n",
       "              importance_type=None, interaction_constraints=None,\n",
       "              learning_rate=0.31465899417782006, max_bin=None,\n",
       "              max_cat_threshold=None, max_cat_to_onehot=None,\n",
       "              max_delta_step=None, max_depth=11, max_leaves=None,\n",
       "              min_child_weight=16, missing=nan, monotone_constraints=None,\n",
       "              multi_strategy=None, n_estimators=73, n_jobs=None,\n",
       "              num_parallel_tree=None, objective=&#x27;multi:softprob&#x27;, ...)</pre></div> </div></div></div></div>"
      ],
      "text/plain": [
       "XGBClassifier(base_score=None, booster=None, callbacks=None,\n",
       "              colsample_bylevel=None, colsample_bynode=0.9377806962291786,\n",
       "              colsample_bytree=None, device=None, early_stopping_rounds=None,\n",
       "              enable_categorical=False,\n",
       "              eval_metric=<function custom_f1_score at 0x7fb26d4184a0>,\n",
       "              feature_types=None, gamma=None, grow_policy=None,\n",
       "              importance_type=None, interaction_constraints=None,\n",
       "              learning_rate=0.31465899417782006, max_bin=None,\n",
       "              max_cat_threshold=None, max_cat_to_onehot=None,\n",
       "              max_delta_step=None, max_depth=11, max_leaves=None,\n",
       "              min_child_weight=16, missing=nan, monotone_constraints=None,\n",
       "              multi_strategy=None, n_estimators=73, n_jobs=None,\n",
       "              num_parallel_tree=None, objective='multi:softprob', ...)"
      ]
     },
     "execution_count": 21,
     "metadata": {},
     "output_type": "execute_result"
    }
   ],
   "source": [
    "n_estimators = int(study.best_trial.user_attrs['best_iteration']*1.2)\n",
    "xgb = xgboost.XGBClassifier(\n",
    "        eval_metric=eval_metric,\n",
    "        n_estimators=n_estimators,\n",
    "        **study.best_trial.params\n",
    "    )\n",
    "xgb.fit(\n",
    "    ssp.vstack((X_train, X_val)), \n",
    "    np.concatenate((y_train_enc, y_val_enc)),\n",
    "    verbose=1,\n",
    ")"
   ]
  },
  {
   "cell_type": "code",
   "execution_count": 22,
   "id": "1967827e",
   "metadata": {
    "execution": {
     "iopub.execute_input": "2025-06-13T13:13:11.432306Z",
     "iopub.status.busy": "2025-06-13T13:13:11.431967Z",
     "iopub.status.idle": "2025-06-13T13:13:11.476516Z",
     "shell.execute_reply": "2025-06-13T13:13:11.476111Z"
    },
    "papermill": {
     "duration": 0.063434,
     "end_time": "2025-06-13T13:13:11.477505",
     "exception": false,
     "start_time": "2025-06-13T13:13:11.414071",
     "status": "completed"
    },
    "tags": []
   },
   "outputs": [
    {
     "data": {
      "text/plain": [
       "['/scratch_isilon/groups/singlecell/shared/projects/Inflammation-PBMCs-Atlas/03_downstream_analysis/08_gene_importance/xgboost_external_validation/xgboost_TopN_genes/results_20/best_model/T_CD4_NonNaive_shap_studyID_samesize_3_xgb.json']"
      ]
     },
     "execution_count": 22,
     "metadata": {},
     "output_type": "execute_result"
    }
   ],
   "source": [
    "out_dir = here(f'03_downstream_analysis/08_gene_importance/xgboost_external_validation/xgboost_TopN_genes/results_{N_GENES}/best_model')\n",
    "\n",
    "if not os.path.exists(out_dir):\n",
    "    os.makedirs(out_dir)\n",
    "    \n",
    "joblib.dump(xgb, os.path.join(out_dir, f'{CELL_TYPE}_{SEED}_{TEST_SPLIT_IDX}_xgb.json'))"
   ]
  },
  {
   "cell_type": "code",
   "execution_count": 23,
   "id": "6762602c",
   "metadata": {
    "execution": {
     "iopub.execute_input": "2025-06-13T13:13:11.498008Z",
     "iopub.status.busy": "2025-06-13T13:13:11.497669Z",
     "iopub.status.idle": "2025-06-13T13:13:12.096459Z",
     "shell.execute_reply": "2025-06-13T13:13:12.095988Z"
    },
    "papermill": {
     "duration": 0.610628,
     "end_time": "2025-06-13T13:13:12.097809",
     "exception": false,
     "start_time": "2025-06-13T13:13:11.487181",
     "status": "completed"
    },
    "tags": []
   },
   "outputs": [],
   "source": [
    "df_pred_test = pd.DataFrame(dict(\n",
    "    cell_id=train_adata.obs.iloc[test_idxs].index.values,\n",
    "    y_true=y_test, \n",
    "    y_true_code=y_test_enc, \n",
    "    y_pred=xgb.predict(X_test))).set_index('cell_id')"
   ]
  },
  {
   "cell_type": "code",
   "execution_count": 24,
   "id": "a3eb9128",
   "metadata": {
    "execution": {
     "iopub.execute_input": "2025-06-13T13:13:12.141367Z",
     "iopub.status.busy": "2025-06-13T13:13:12.141117Z",
     "iopub.status.idle": "2025-06-13T13:13:12.285385Z",
     "shell.execute_reply": "2025-06-13T13:13:12.284940Z"
    },
    "papermill": {
     "duration": 0.15953,
     "end_time": "2025-06-13T13:13:12.286679",
     "exception": false,
     "start_time": "2025-06-13T13:13:12.127149",
     "status": "completed"
    },
    "tags": []
   },
   "outputs": [],
   "source": [
    "out_dir = here(f'03_downstream_analysis/08_gene_importance/xgboost_external_validation/xgboost_TopN_genes/results_{N_GENES}/predictions')\n",
    "\n",
    "if not os.path.exists(out_dir):\n",
    "    os.makedirs(out_dir)\n",
    "    \n",
    "df_pred_test.to_csv(os.path.join(out_dir, f'{CELL_TYPE}_{SEED}_{TEST_SPLIT_IDX}_pred_test.zip'))"
   ]
  },
  {
   "cell_type": "code",
   "execution_count": 25,
   "id": "024f132b",
   "metadata": {
    "execution": {
     "iopub.execute_input": "2025-06-13T13:13:12.308152Z",
     "iopub.status.busy": "2025-06-13T13:13:12.307887Z",
     "iopub.status.idle": "2025-06-13T13:13:12.323829Z",
     "shell.execute_reply": "2025-06-13T13:13:12.323469Z"
    },
    "papermill": {
     "duration": 0.028407,
     "end_time": "2025-06-13T13:13:12.324853",
     "exception": false,
     "start_time": "2025-06-13T13:13:12.296446",
     "status": "completed"
    },
    "tags": []
   },
   "outputs": [
    {
     "name": "stderr",
     "output_type": "stream",
     "text": [
      "/scratch_isilon/groups/singlecell/shared/conda_env/xgboost-cpu/lib/python3.12/site-packages/sklearn/metrics/_classification.py:2466: UserWarning: y_pred contains classes not in y_true\n",
      "  warnings.warn(\"y_pred contains classes not in y_true\")\n"
     ]
    }
   ],
   "source": [
    "metrics_dict = dict(\n",
    "    BAS=balanced_accuracy_score(y_true=df_pred_test.y_true_code, y_pred=df_pred_test.y_pred), WF1=f1_score(y_true=df_pred_test.y_true_code, y_pred=df_pred_test.y_pred,average='weighted'))"
   ]
  },
  {
   "cell_type": "code",
   "execution_count": 26,
   "id": "10f4487e",
   "metadata": {
    "execution": {
     "iopub.execute_input": "2025-06-13T13:13:12.344606Z",
     "iopub.status.busy": "2025-06-13T13:13:12.344264Z",
     "iopub.status.idle": "2025-06-13T13:13:12.347373Z",
     "shell.execute_reply": "2025-06-13T13:13:12.346970Z"
    },
    "papermill": {
     "duration": 0.01433,
     "end_time": "2025-06-13T13:13:12.348454",
     "exception": false,
     "start_time": "2025-06-13T13:13:12.334124",
     "status": "completed"
    },
    "tags": []
   },
   "outputs": [
    {
     "data": {
      "text/plain": [
       "{'BAS': 0.6523903472123147, 'WF1': 0.8039100053319936}"
      ]
     },
     "execution_count": 26,
     "metadata": {},
     "output_type": "execute_result"
    }
   ],
   "source": [
    "metrics_dict"
   ]
  },
  {
   "cell_type": "code",
   "execution_count": 27,
   "id": "4f4e14e4",
   "metadata": {
    "execution": {
     "iopub.execute_input": "2025-06-13T13:13:12.368441Z",
     "iopub.status.busy": "2025-06-13T13:13:12.368095Z",
     "iopub.status.idle": "2025-06-13T13:13:12.377118Z",
     "shell.execute_reply": "2025-06-13T13:13:12.376764Z"
    },
    "papermill": {
     "duration": 0.020059,
     "end_time": "2025-06-13T13:13:12.378125",
     "exception": false,
     "start_time": "2025-06-13T13:13:12.358066",
     "status": "completed"
    },
    "tags": []
   },
   "outputs": [
    {
     "data": {
      "text/html": [
       "<div>\n",
       "<style scoped>\n",
       "    .dataframe tbody tr th:only-of-type {\n",
       "        vertical-align: middle;\n",
       "    }\n",
       "\n",
       "    .dataframe tbody tr th {\n",
       "        vertical-align: top;\n",
       "    }\n",
       "\n",
       "    .dataframe thead th {\n",
       "        text-align: right;\n",
       "    }\n",
       "</style>\n",
       "<table border=\"1\" class=\"dataframe\">\n",
       "  <thead>\n",
       "    <tr style=\"text-align: right;\">\n",
       "      <th></th>\n",
       "      <th>BAS</th>\n",
       "      <th>WF1</th>\n",
       "      <th>split_idx</th>\n",
       "      <th>gene_set_seed</th>\n",
       "      <th>cell_type</th>\n",
       "    </tr>\n",
       "  </thead>\n",
       "  <tbody>\n",
       "    <tr>\n",
       "      <th>0</th>\n",
       "      <td>0.65239</td>\n",
       "      <td>0.80391</td>\n",
       "      <td>3</td>\n",
       "      <td>shap_studyID_samesize</td>\n",
       "      <td>T_CD4_NonNaive</td>\n",
       "    </tr>\n",
       "  </tbody>\n",
       "</table>\n",
       "</div>"
      ],
      "text/plain": [
       "       BAS      WF1  split_idx          gene_set_seed       cell_type\n",
       "0  0.65239  0.80391          3  shap_studyID_samesize  T_CD4_NonNaive"
      ]
     },
     "execution_count": 27,
     "metadata": {},
     "output_type": "execute_result"
    }
   ],
   "source": [
    "metrics_df = pd.DataFrame.from_dict([metrics_dict]).assign(split_idx=TEST_SPLIT_IDX, gene_set_seed=SEED, cell_type=CELL_TYPE)\n",
    "metrics_df"
   ]
  },
  {
   "cell_type": "code",
   "execution_count": 28,
   "id": "e61169b0",
   "metadata": {
    "execution": {
     "iopub.execute_input": "2025-06-13T13:13:12.397995Z",
     "iopub.status.busy": "2025-06-13T13:13:12.397784Z",
     "iopub.status.idle": "2025-06-13T13:13:12.406625Z",
     "shell.execute_reply": "2025-06-13T13:13:12.406264Z"
    },
    "papermill": {
     "duration": 0.02029,
     "end_time": "2025-06-13T13:13:12.407638",
     "exception": false,
     "start_time": "2025-06-13T13:13:12.387348",
     "status": "completed"
    },
    "tags": []
   },
   "outputs": [],
   "source": [
    "out_dir = here(f'03_downstream_analysis/08_gene_importance/xgboost_external_validation/xgboost_TopN_genes/results_{N_GENES}/metrics')\n",
    "\n",
    "if not os.path.exists(out_dir):\n",
    "    os.makedirs(out_dir)\n",
    "    \n",
    "metrics_df.to_csv(os.path.join(out_dir, f'{CELL_TYPE}_{SEED}_{TEST_SPLIT_IDX}_metrics.zip'))"
   ]
  }
 ],
 "metadata": {
  "kernelspec": {
   "display_name": "Python 3 (ipykernel)",
   "language": "python",
   "name": "python3"
  },
  "language_info": {
   "codemirror_mode": {
    "name": "ipython",
    "version": 3
   },
   "file_extension": ".py",
   "mimetype": "text/x-python",
   "name": "python",
   "nbconvert_exporter": "python",
   "pygments_lexer": "ipython3",
   "version": "3.12.5"
  },
  "papermill": {
   "default_parameters": {},
   "duration": 659.749027,
   "end_time": "2025-06-13T13:13:13.434615",
   "environment_variables": {},
   "exception": null,
   "input_path": "02_xgboost_fitting_external_20genes.ipynb",
   "output_path": "results_20/executed_notebooks/xgboost_fitting_external_CT_T_CD4_NonNaive_GS_shap_studyID_samesize_seed3.ipynb",
   "parameters": {
    "CELL_TYPE": "T_CD4_NonNaive",
    "SEED": "shap_studyID_samesize",
    "TEST_SPLIT_IDX": 3
   },
   "start_time": "2025-06-13T13:02:13.685588",
   "version": "2.6.0"
  }
 },
 "nbformat": 4,
 "nbformat_minor": 5
}