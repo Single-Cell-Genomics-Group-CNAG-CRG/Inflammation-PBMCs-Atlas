{
 "cells": [
  {
   "cell_type": "code",
   "execution_count": 1,
   "id": "b81b5e17",
   "metadata": {
    "editable": true,
    "execution": {
     "iopub.execute_input": "2025-05-14T16:09:39.559586Z",
     "iopub.status.busy": "2025-05-14T16:09:39.558637Z",
     "iopub.status.idle": "2025-05-14T16:09:39.562819Z",
     "shell.execute_reply": "2025-05-14T16:09:39.562445Z"
    },
    "papermill": {
     "duration": 0.020628,
     "end_time": "2025-05-14T16:09:39.564006",
     "exception": false,
     "start_time": "2025-05-14T16:09:39.543378",
     "status": "completed"
    },
    "slideshow": {
     "slide_type": ""
    },
    "tags": [
     "parameters"
    ]
   },
   "outputs": [],
   "source": [
    "CELL_TYPE = 'pDC'\n",
    "N_GENES: int = 20\n",
    "SEED = 'shap_studyID' #'disease_NOstudy' 'study_NOdisease' or 'int' or 'shap_studyID'\n",
    "TEST_SPLIT_IDX: int = 1 #[0,4]"
   ]
  },
  {
   "cell_type": "code",
   "execution_count": 2,
   "id": "05b1670d",
   "metadata": {
    "execution": {
     "iopub.execute_input": "2025-05-14T16:09:39.577973Z",
     "iopub.status.busy": "2025-05-14T16:09:39.577625Z",
     "iopub.status.idle": "2025-05-14T16:09:39.580677Z",
     "shell.execute_reply": "2025-05-14T16:09:39.580293Z"
    },
    "papermill": {
     "duration": 0.010809,
     "end_time": "2025-05-14T16:09:39.581901",
     "exception": false,
     "start_time": "2025-05-14T16:09:39.571092",
     "status": "completed"
    },
    "tags": [
     "injected-parameters"
    ]
   },
   "outputs": [],
   "source": [
    "# Parameters\n",
    "CELL_TYPE = \"ILC\"\n",
    "SEED = \"shap_studyID\"\n",
    "TEST_SPLIT_IDX = 1\n"
   ]
  },
  {
   "cell_type": "code",
   "execution_count": 3,
   "id": "c658db12",
   "metadata": {
    "execution": {
     "iopub.execute_input": "2025-05-14T16:09:39.598019Z",
     "iopub.status.busy": "2025-05-14T16:09:39.597863Z",
     "iopub.status.idle": "2025-05-14T16:09:39.600016Z",
     "shell.execute_reply": "2025-05-14T16:09:39.599649Z"
    },
    "papermill": {
     "duration": 0.01133,
     "end_time": "2025-05-14T16:09:39.601460",
     "exception": false,
     "start_time": "2025-05-14T16:09:39.590130",
     "status": "completed"
    },
    "tags": []
   },
   "outputs": [],
   "source": [
    "N_SPLITS: int = 5\n",
    "N_TRIALS: int = 50"
   ]
  },
  {
   "cell_type": "code",
   "execution_count": 4,
   "id": "9de31656",
   "metadata": {
    "execution": {
     "iopub.execute_input": "2025-05-14T16:09:39.614760Z",
     "iopub.status.busy": "2025-05-14T16:09:39.614603Z",
     "iopub.status.idle": "2025-05-14T16:09:42.707520Z",
     "shell.execute_reply": "2025-05-14T16:09:42.707020Z"
    },
    "papermill": {
     "duration": 3.101803,
     "end_time": "2025-05-14T16:09:42.708816",
     "exception": false,
     "start_time": "2025-05-14T16:09:39.607013",
     "status": "completed"
    },
    "tags": []
   },
   "outputs": [],
   "source": [
    "import os\n",
    "import sys\n",
    "from pyprojroot.here import here\n",
    "import pandas as pd\n",
    "import anndata as ad\n",
    "import numpy as np\n",
    "import math\n",
    "from sklearn.model_selection import StratifiedGroupKFold\n",
    "from sklearn.preprocessing import LabelEncoder\n",
    "from sklearn.metrics import f1_score\n",
    "import matplotlib.pyplot as plt\n",
    "import seaborn as sns\n",
    "from itertools import product\n",
    "from sklearn.metrics import balanced_accuracy_score, f1_score\n",
    "import optuna\n",
    "\n",
    "import joblib\n",
    "import pickle\n",
    "import datetime\n",
    "\n",
    "import collections\n",
    "\n",
    "import xgboost\n",
    "from sklearn.preprocessing import LabelEncoder\n",
    "\n",
    "import scipy.sparse as ssp\n",
    "import joblib\n",
    "\n",
    "from dotenv import load_dotenv"
   ]
  },
  {
   "cell_type": "code",
   "execution_count": 5,
   "id": "4ceb7cd9",
   "metadata": {
    "execution": {
     "iopub.execute_input": "2025-05-14T16:09:42.722067Z",
     "iopub.status.busy": "2025-05-14T16:09:42.721681Z",
     "iopub.status.idle": "2025-05-14T16:09:42.728220Z",
     "shell.execute_reply": "2025-05-14T16:09:42.727886Z"
    },
    "papermill": {
     "duration": 0.01393,
     "end_time": "2025-05-14T16:09:42.729136",
     "exception": false,
     "start_time": "2025-05-14T16:09:42.715206",
     "status": "completed"
    },
    "tags": []
   },
   "outputs": [
    {
     "data": {
      "text/plain": [
       "True"
      ]
     },
     "execution_count": 5,
     "metadata": {},
     "output_type": "execute_result"
    }
   ],
   "source": [
    "load_dotenv()"
   ]
  },
  {
   "cell_type": "markdown",
   "id": "b4ca953c",
   "metadata": {
    "papermill": {
     "duration": 0.006116,
     "end_time": "2025-05-14T16:09:42.741135",
     "exception": false,
     "start_time": "2025-05-14T16:09:42.735019",
     "status": "completed"
    },
    "tags": []
   },
   "source": [
    "# LOAD DATASET"
   ]
  },
  {
   "cell_type": "code",
   "execution_count": 6,
   "id": "c4224db8",
   "metadata": {
    "execution": {
     "iopub.execute_input": "2025-05-14T16:09:42.761824Z",
     "iopub.status.busy": "2025-05-14T16:09:42.761265Z",
     "iopub.status.idle": "2025-05-14T16:09:43.049885Z",
     "shell.execute_reply": "2025-05-14T16:09:43.049412Z"
    },
    "papermill": {
     "duration": 0.297003,
     "end_time": "2025-05-14T16:09:43.051221",
     "exception": false,
     "start_time": "2025-05-14T16:09:42.754218",
     "status": "completed"
    },
    "tags": []
   },
   "outputs": [],
   "source": [
    "train_adata = ad.read_h5ad(\n",
    "    here(f'03_downstream_analysis/08_gene_importance/xgboost_external_validation/xgboost_TopN_genes/data_cellTypes/EXTERNAL_{CELL_TYPE}.filtered.log1p.h5ad')\n",
    ")"
   ]
  },
  {
   "cell_type": "code",
   "execution_count": 7,
   "id": "a0be3b07",
   "metadata": {
    "execution": {
     "iopub.execute_input": "2025-05-14T16:09:43.064367Z",
     "iopub.status.busy": "2025-05-14T16:09:43.063967Z",
     "iopub.status.idle": "2025-05-14T16:09:43.082344Z",
     "shell.execute_reply": "2025-05-14T16:09:43.081988Z"
    },
    "papermill": {
     "duration": 0.025822,
     "end_time": "2025-05-14T16:09:43.083298",
     "exception": false,
     "start_time": "2025-05-14T16:09:43.057476",
     "status": "completed"
    },
    "tags": []
   },
   "outputs": [
    {
     "name": "stdout",
     "output_type": "stream",
     "text": [
      "['ENSG00000138107' 'ENSG00000115073' 'ENSG00000160710' 'ENSG00000204472'\n",
      " 'ENSG00000122359' 'ENSG00000072958' 'ENSG00000182287' 'ENSG00000196961'\n",
      " 'ENSG00000143761' 'ENSG00000165527' 'ENSG00000152219' 'ENSG00000170540'\n",
      " 'ENSG00000123268' 'ENSG00000152234' 'ENSG00000099624' 'ENSG00000156411'\n",
      " 'ENSG00000241837' 'ENSG00000185883' 'ENSG00000069399' 'ENSG00000135441'\n",
      " 'ENSG00000133639' 'ENSG00000111678' 'ENSG00000108561' 'ENSG00000198668'\n",
      " 'ENSG00000143933' 'ENSG00000118971' 'ENSG00000002586' 'ENSG00000162368'\n",
      " 'ENSG00000213145' 'ENSG00000101439' 'ENSG00000117984' 'ENSG00000051523'\n",
      " 'ENSG00000204843' 'ENSG00000089737' 'ENSG00000139318' 'ENSG00000135720'\n",
      " 'ENSG00000088986' 'ENSG00000107223' 'ENSG00000254772' 'ENSG00000173812'\n",
      " 'ENSG00000142227' 'ENSG00000100393' 'ENSG00000085265' 'ENSG00000125740'\n",
      " 'ENSG00000114861' 'ENSG00000167996' 'ENSG00000089280' 'ENSG00000170296'\n",
      " 'ENSG00000179144' 'ENSG00000135821' 'ENSG00000242616' 'ENSG00000177885'\n",
      " 'ENSG00000184897' 'ENSG00000132475' 'ENSG00000197061' 'ENSG00000206503'\n",
      " 'ENSG00000234745' 'ENSG00000204525' 'ENSG00000204592' 'ENSG00000204642'\n",
      " 'ENSG00000164104' 'ENSG00000108622' 'ENSG00000115738' 'ENSG00000216490'\n",
      " 'ENSG00000119922' 'ENSG00000185885' 'ENSG00000142166' 'ENSG00000159110'\n",
      " 'ENSG00000211895' 'ENSG00000147168' 'ENSG00000125347' 'ENSG00000213928'\n",
      " 'ENSG00000172183' 'ENSG00000136156' 'ENSG00000143543' 'ENSG00000177606'\n",
      " 'ENSG00000171223' 'ENSG00000130522' 'ENSG00000121774' 'ENSG00000068796'\n",
      " 'ENSG00000075945' 'ENSG00000126214' 'ENSG00000127528' 'ENSG00000205810'\n",
      " 'ENSG00000150045' 'ENSG00000186395' 'ENSG00000002549' 'ENSG00000104660'\n",
      " 'ENSG00000203896' 'ENSG00000189067' 'ENSG00000145220' 'ENSG00000090382'\n",
      " 'ENSG00000125148' 'ENSG00000059728' 'ENSG00000152082' 'ENSG00000186010'\n",
      " 'ENSG00000100906' 'ENSG00000120837' 'ENSG00000066136' 'ENSG00000153234'\n",
      " 'ENSG00000228474' 'ENSG00000197111' 'ENSG00000179094' 'ENSG00000078043'\n",
      " 'ENSG00000121879' 'ENSG00000146278' 'ENSG00000175482' 'ENSG00000125534'\n",
      " 'ENSG00000057657' 'ENSG00000106588' 'ENSG00000100902' 'ENSG00000205220'\n",
      " 'ENSG00000184007' 'ENSG00000103490' 'ENSG00000108774' 'ENSG00000075785'\n",
      " 'ENSG00000173039' 'ENSG00000104312' 'ENSG00000219200' 'ENSG00000101695'\n",
      " 'ENSG00000168894' 'ENSG00000143546' 'ENSG00000163220' 'ENSG00000101347'\n",
      " 'ENSG00000152700' 'ENSG00000126524' 'ENSG00000141526' 'ENSG00000160075'\n",
      " 'ENSG00000168610' 'ENSG00000108639' 'ENSG00000168394' 'ENSG00000204267'\n",
      " 'ENSG00000073861' 'ENSG00000105329' 'ENSG00000243749' 'ENSG00000205542'\n",
      " 'ENSG00000239697' 'ENSG00000102524' 'ENSG00000009790' 'ENSG00000181029'\n",
      " 'ENSG00000123416' 'ENSG00000265972' 'ENSG00000105397' 'ENSG00000025708'\n",
      " 'ENSG00000244687' 'ENSG00000140105' 'ENSG00000105583' 'ENSG00000146457'\n",
      " 'ENSG00000065978' 'ENSG00000185650']\n"
     ]
    }
   ],
   "source": [
    "if SEED != 'all':\n",
    "    gene_subset = np.load(here(f'03_downstream_analysis/08_gene_importance/xgboost_external_validation/shap_gene_selection/gene_subsets_{N_GENES}/{CELL_TYPE}_{SEED}.npy'), allow_pickle=True)\n",
    "    train_adata = train_adata[:,gene_subset]\n",
    "    print(gene_subset)\n",
    "elif SEED == 'all':\n",
    "    print('Using all genes')\n",
    "else:\n",
    "    raise ValueError()"
   ]
  },
  {
   "cell_type": "code",
   "execution_count": 8,
   "id": "982a9128",
   "metadata": {
    "execution": {
     "iopub.execute_input": "2025-05-14T16:09:43.096456Z",
     "iopub.status.busy": "2025-05-14T16:09:43.096154Z",
     "iopub.status.idle": "2025-05-14T16:09:43.099299Z",
     "shell.execute_reply": "2025-05-14T16:09:43.098968Z"
    },
    "papermill": {
     "duration": 0.010488,
     "end_time": "2025-05-14T16:09:43.100206",
     "exception": false,
     "start_time": "2025-05-14T16:09:43.089718",
     "status": "completed"
    },
    "tags": []
   },
   "outputs": [
    {
     "data": {
      "text/plain": [
       "(36633, 150)"
      ]
     },
     "execution_count": 8,
     "metadata": {},
     "output_type": "execute_result"
    }
   ],
   "source": [
    "train_adata.shape"
   ]
  },
  {
   "cell_type": "code",
   "execution_count": 9,
   "id": "8137d0d6",
   "metadata": {
    "execution": {
     "iopub.execute_input": "2025-05-14T16:09:43.113089Z",
     "iopub.status.busy": "2025-05-14T16:09:43.112662Z",
     "iopub.status.idle": "2025-05-14T16:09:43.116640Z",
     "shell.execute_reply": "2025-05-14T16:09:43.116296Z"
    },
    "papermill": {
     "duration": 0.011396,
     "end_time": "2025-05-14T16:09:43.117548",
     "exception": false,
     "start_time": "2025-05-14T16:09:43.106152",
     "status": "completed"
    },
    "tags": []
   },
   "outputs": [
    {
     "data": {
      "text/plain": [
       "['RA', 'COVID', 'healthy', 'HIV', 'cirrhosis', 'CD', 'SLE', 'sepsis']\n",
       "Categories (8, object): ['CD', 'COVID', 'HIV', 'RA', 'SLE', 'cirrhosis', 'healthy', 'sepsis']"
      ]
     },
     "execution_count": 9,
     "metadata": {},
     "output_type": "execute_result"
    }
   ],
   "source": [
    "train_adata.obs.disease.unique()"
   ]
  },
  {
   "cell_type": "code",
   "execution_count": 10,
   "id": "cdb0e37a",
   "metadata": {
    "execution": {
     "iopub.execute_input": "2025-05-14T16:09:43.137170Z",
     "iopub.status.busy": "2025-05-14T16:09:43.136929Z",
     "iopub.status.idle": "2025-05-14T16:09:43.140758Z",
     "shell.execute_reply": "2025-05-14T16:09:43.140423Z"
    },
    "papermill": {
     "duration": 0.015438,
     "end_time": "2025-05-14T16:09:43.141718",
     "exception": false,
     "start_time": "2025-05-14T16:09:43.126280",
     "status": "completed"
    },
    "tags": []
   },
   "outputs": [
    {
     "data": {
      "text/plain": [
       "['SCGT00val_I036024_T0', 'SCGT00val_I036016_T0', 'SCGT00val_I036023_T0', 'SCGT00val_I036021_T0', 'SCGT00val_I036028_T0', ..., '10XGenomics_10XHC2_T0', '10XGenomics_10XHC3_T0', '10XGenomics_10XHC5_T0', '10XGenomics_10XHC7_T0', '10XGenomics_10XHC8_T0']\n",
       "Length: 86\n",
       "Categories (86, object): ['10XGenomics_10XHC1_T0', '10XGenomics_10XHC2_T0', '10XGenomics_10XHC3_T0', '10XGenomics_10XHC4_T0', ..., 'Savage2021_BRISL6_T0', 'Savage2021_BRISL7_T0', 'Savage2021_PIDA_T0', 'Savage2021_PIDB_T0']"
      ]
     },
     "execution_count": 10,
     "metadata": {},
     "output_type": "execute_result"
    }
   ],
   "source": [
    "train_adata.obs.sampleID.unique()"
   ]
  },
  {
   "cell_type": "code",
   "execution_count": 11,
   "id": "8a89f563",
   "metadata": {
    "execution": {
     "iopub.execute_input": "2025-05-14T16:09:43.159258Z",
     "iopub.status.busy": "2025-05-14T16:09:43.158824Z",
     "iopub.status.idle": "2025-05-14T16:09:43.280288Z",
     "shell.execute_reply": "2025-05-14T16:09:43.279756Z"
    },
    "papermill": {
     "duration": 0.130741,
     "end_time": "2025-05-14T16:09:43.281449",
     "exception": false,
     "start_time": "2025-05-14T16:09:43.150708",
     "status": "completed"
    },
    "tags": []
   },
   "outputs": [],
   "source": [
    "all_idxs = np.arange(train_adata.obs.shape[0])\n",
    "left_out_splits = [s[1] for s in StratifiedGroupKFold(n_splits=N_SPLITS).split(all_idxs, train_adata.obs.disease, train_adata.obs.sampleID)]"
   ]
  },
  {
   "cell_type": "code",
   "execution_count": 12,
   "id": "a64545b9",
   "metadata": {
    "execution": {
     "iopub.execute_input": "2025-05-14T16:09:43.294974Z",
     "iopub.status.busy": "2025-05-14T16:09:43.294767Z",
     "iopub.status.idle": "2025-05-14T16:09:43.298433Z",
     "shell.execute_reply": "2025-05-14T16:09:43.298050Z"
    },
    "papermill": {
     "duration": 0.011231,
     "end_time": "2025-05-14T16:09:43.299334",
     "exception": false,
     "start_time": "2025-05-14T16:09:43.288103",
     "status": "completed"
    },
    "tags": []
   },
   "outputs": [
    {
     "data": {
      "text/plain": [
       "([0, 3, 4], 2, 1)"
      ]
     },
     "execution_count": 12,
     "metadata": {},
     "output_type": "execute_result"
    }
   ],
   "source": [
    "TRAIN_SPLIT_IDXS = [0,1,2,3,4]\n",
    "VAL_SPLIT_IDX = (TEST_SPLIT_IDX + 1) % 5\n",
    "TRAIN_SPLIT_IDXS.remove(TEST_SPLIT_IDX)\n",
    "TRAIN_SPLIT_IDXS.remove(VAL_SPLIT_IDX)\n",
    "TRAIN_SPLIT_IDXS, VAL_SPLIT_IDX, TEST_SPLIT_IDX"
   ]
  },
  {
   "cell_type": "code",
   "execution_count": 13,
   "id": "ce768e7b",
   "metadata": {
    "execution": {
     "iopub.execute_input": "2025-05-14T16:09:43.317351Z",
     "iopub.status.busy": "2025-05-14T16:09:43.317129Z",
     "iopub.status.idle": "2025-05-14T16:09:43.319755Z",
     "shell.execute_reply": "2025-05-14T16:09:43.319417Z"
    },
    "papermill": {
     "duration": 0.010321,
     "end_time": "2025-05-14T16:09:43.320649",
     "exception": false,
     "start_time": "2025-05-14T16:09:43.310328",
     "status": "completed"
    },
    "tags": []
   },
   "outputs": [],
   "source": [
    "train_idxs = np.concatenate([left_out_splits[idx] for idx in TRAIN_SPLIT_IDXS])\n",
    "val_idxs = left_out_splits[VAL_SPLIT_IDX]\n",
    "test_idxs = left_out_splits[TEST_SPLIT_IDX]"
   ]
  },
  {
   "cell_type": "markdown",
   "id": "0c3c597c",
   "metadata": {
    "papermill": {
     "duration": 0.00617,
     "end_time": "2025-05-14T16:09:43.332894",
     "exception": false,
     "start_time": "2025-05-14T16:09:43.326724",
     "status": "completed"
    },
    "tags": []
   },
   "source": [
    "### SUBSET DATASET INTO TRAIN/TEST/VAL SPLITS"
   ]
  },
  {
   "cell_type": "code",
   "execution_count": 14,
   "id": "3289da52",
   "metadata": {
    "execution": {
     "iopub.execute_input": "2025-05-14T16:09:43.345861Z",
     "iopub.status.busy": "2025-05-14T16:09:43.345592Z",
     "iopub.status.idle": "2025-05-14T16:09:43.468867Z",
     "shell.execute_reply": "2025-05-14T16:09:43.468454Z"
    },
    "papermill": {
     "duration": 0.131172,
     "end_time": "2025-05-14T16:09:43.470308",
     "exception": false,
     "start_time": "2025-05-14T16:09:43.339136",
     "status": "completed"
    },
    "tags": []
   },
   "outputs": [
    {
     "data": {
      "text/plain": [
       "((22023, 150), (7160, 150), (7450, 150))"
      ]
     },
     "execution_count": 14,
     "metadata": {},
     "output_type": "execute_result"
    }
   ],
   "source": [
    "X_train = train_adata.X[train_idxs]\n",
    "X_test = train_adata.X[test_idxs]\n",
    "X_val = train_adata.X[val_idxs]\n",
    "X_train.shape, X_test.shape, X_val.shape"
   ]
  },
  {
   "cell_type": "code",
   "execution_count": 15,
   "id": "79201fd0",
   "metadata": {
    "execution": {
     "iopub.execute_input": "2025-05-14T16:09:43.484194Z",
     "iopub.status.busy": "2025-05-14T16:09:43.483966Z",
     "iopub.status.idle": "2025-05-14T16:09:43.491214Z",
     "shell.execute_reply": "2025-05-14T16:09:43.490868Z"
    },
    "papermill": {
     "duration": 0.015106,
     "end_time": "2025-05-14T16:09:43.492217",
     "exception": false,
     "start_time": "2025-05-14T16:09:43.477111",
     "status": "completed"
    },
    "tags": []
   },
   "outputs": [
    {
     "data": {
      "text/plain": [
       "((22023,), (7160,), (7450,))"
      ]
     },
     "execution_count": 15,
     "metadata": {},
     "output_type": "execute_result"
    }
   ],
   "source": [
    "y_train = train_adata.obs.iloc[train_idxs].disease.values.astype(str)\n",
    "y_test = train_adata.obs.iloc[test_idxs].disease.values.astype(str)\n",
    "y_val = train_adata.obs.iloc[val_idxs].disease.values.astype(str)\n",
    "y_train.shape, y_test.shape, y_val.shape"
   ]
  },
  {
   "cell_type": "code",
   "execution_count": 16,
   "id": "11301def",
   "metadata": {
    "execution": {
     "iopub.execute_input": "2025-05-14T16:09:43.506213Z",
     "iopub.status.busy": "2025-05-14T16:09:43.505906Z",
     "iopub.status.idle": "2025-05-14T16:09:43.516902Z",
     "shell.execute_reply": "2025-05-14T16:09:43.516464Z"
    },
    "papermill": {
     "duration": 0.019276,
     "end_time": "2025-05-14T16:09:43.517899",
     "exception": false,
     "start_time": "2025-05-14T16:09:43.498623",
     "status": "completed"
    },
    "tags": []
   },
   "outputs": [],
   "source": [
    "lenc = LabelEncoder()\n",
    "y_train_enc = lenc.fit_transform(y_train)\n",
    "y_val_enc = lenc.transform(y_val)\n",
    "y_test_enc = lenc.transform(y_test)"
   ]
  },
  {
   "cell_type": "markdown",
   "id": "cd13a419",
   "metadata": {
    "papermill": {
     "duration": 0.007397,
     "end_time": "2025-05-14T16:09:43.531845",
     "exception": false,
     "start_time": "2025-05-14T16:09:43.524448",
     "status": "completed"
    },
    "tags": []
   },
   "source": [
    "### GENERATE F1 "
   ]
  },
  {
   "cell_type": "code",
   "execution_count": 17,
   "id": "1c495587",
   "metadata": {
    "execution": {
     "iopub.execute_input": "2025-05-14T16:09:43.546961Z",
     "iopub.status.busy": "2025-05-14T16:09:43.546735Z",
     "iopub.status.idle": "2025-05-14T16:09:43.549172Z",
     "shell.execute_reply": "2025-05-14T16:09:43.548821Z"
    },
    "papermill": {
     "duration": 0.011838,
     "end_time": "2025-05-14T16:09:43.550156",
     "exception": false,
     "start_time": "2025-05-14T16:09:43.538318",
     "status": "completed"
    },
    "tags": []
   },
   "outputs": [],
   "source": [
    "def custom_f1_score(y_true, y_pred):\n",
    "    return -f1_score(y_true, y_pred.argmax(1), average='weighted')"
   ]
  },
  {
   "cell_type": "code",
   "execution_count": 18,
   "id": "bdbc9889",
   "metadata": {
    "execution": {
     "iopub.execute_input": "2025-05-14T16:09:43.564496Z",
     "iopub.status.busy": "2025-05-14T16:09:43.564221Z",
     "iopub.status.idle": "2025-05-14T16:09:43.568786Z",
     "shell.execute_reply": "2025-05-14T16:09:43.568384Z"
    },
    "papermill": {
     "duration": 0.012573,
     "end_time": "2025-05-14T16:09:43.569755",
     "exception": false,
     "start_time": "2025-05-14T16:09:43.557182",
     "status": "completed"
    },
    "tags": []
   },
   "outputs": [],
   "source": [
    "eval_metric=custom_f1_score\n",
    "eval_metric_name='custom_f1_score'\n",
    "\n",
    "def objective(trial):\n",
    "    params = {\n",
    "        'n_estimators': 1500,\n",
    "        'max_depth': trial.suggest_int('max_depth', 3, 20),\n",
    "        'min_child_weight': trial.suggest_int('min_child_weight', 1, 250),\n",
    "        'subsample': trial.suggest_float('subsample', 0.1, 1.0),\n",
    "        'colsample_bynode': trial.suggest_float('colsample_bynode', 0.1, 1.0),\n",
    "        'learning_rate': trial.suggest_float('learning_rate', 1e-3, 5e-1, log=True),\n",
    "    }\n",
    "    pruning_callback = optuna.integration.XGBoostPruningCallback(trial, f'validation_0-{eval_metric_name}')\n",
    "    es_callback = xgboost.callback.EarlyStopping(20, min_delta=0.001)\n",
    "    xgb = xgboost.XGBClassifier(\n",
    "        eval_metric=eval_metric,\n",
    "        callbacks=[pruning_callback, es_callback],\n",
    "        n_jobs=5,\n",
    "        **params\n",
    "    )\n",
    "    xgb.fit(\n",
    "        X_train, \n",
    "        y_train_enc, \n",
    "        verbose=0,\n",
    "        eval_set=[(X_val, y_val_enc)],\n",
    "    )\n",
    "    trial.set_user_attr('best_iteration', xgb.best_iteration)\n",
    "\n",
    "    return xgb.best_score"
   ]
  },
  {
   "cell_type": "code",
   "execution_count": 19,
   "id": "578ba39f",
   "metadata": {
    "execution": {
     "iopub.execute_input": "2025-05-14T16:09:43.584405Z",
     "iopub.status.busy": "2025-05-14T16:09:43.583613Z",
     "iopub.status.idle": "2025-05-14T16:13:18.309574Z",
     "shell.execute_reply": "2025-05-14T16:13:18.309017Z"
    },
    "papermill": {
     "duration": 214.734426,
     "end_time": "2025-05-14T16:13:18.310876",
     "exception": false,
     "start_time": "2025-05-14T16:09:43.576450",
     "status": "completed"
    },
    "scrolled": true,
    "tags": []
   },
   "outputs": [
    {
     "name": "stderr",
     "output_type": "stream",
     "text": [
      "[I 2025-05-14 18:09:43,585] A new study created in memory with name: no-name-a2c88672-4d75-4ece-b45f-c8db78027790\n"
     ]
    },
    {
     "name": "stderr",
     "output_type": "stream",
     "text": [
      "[I 2025-05-14 18:09:45,373] Trial 0 finished with value: -0.605459 and parameters: {'max_depth': 9, 'min_child_weight': 238, 'subsample': 0.7587945476302645, 'colsample_bynode': 0.6387926357773329, 'learning_rate': 0.0026368755339723046}. Best is trial 0 with value: -0.605459.\n"
     ]
    },
    {
     "name": "stderr",
     "output_type": "stream",
     "text": [
      "[I 2025-05-14 18:09:58,181] Trial 1 finished with value: -0.725983 and parameters: {'max_depth': 5, 'min_child_weight': 15, 'subsample': 0.8795585311974417, 'colsample_bynode': 0.6410035105688879, 'learning_rate': 0.08148293210105287}. Best is trial 1 with value: -0.725983.\n"
     ]
    },
    {
     "name": "stderr",
     "output_type": "stream",
     "text": [
      "[I 2025-05-14 18:09:59,610] Trial 2 finished with value: -0.609414 and parameters: {'max_depth': 3, 'min_child_weight': 243, 'subsample': 0.8491983767203796, 'colsample_bynode': 0.29110519961044856, 'learning_rate': 0.003095566460242371}. Best is trial 1 with value: -0.725983.\n"
     ]
    },
    {
     "name": "stderr",
     "output_type": "stream",
     "text": [
      "[I 2025-05-14 18:10:40,421] Trial 3 finished with value: -0.688898 and parameters: {'max_depth': 6, 'min_child_weight': 77, 'subsample': 0.5722807884690141, 'colsample_bynode': 0.48875051677790415, 'learning_rate': 0.006109683510122491}. Best is trial 1 with value: -0.725983.\n"
     ]
    },
    {
     "name": "stderr",
     "output_type": "stream",
     "text": [
      "[I 2025-05-14 18:11:07,684] Trial 4 finished with value: -0.715665 and parameters: {'max_depth': 14, 'min_child_weight': 35, 'subsample': 0.3629301836816964, 'colsample_bynode': 0.4297256589643226, 'learning_rate': 0.01701841881702917}. Best is trial 1 with value: -0.725983.\n"
     ]
    },
    {
     "name": "stderr",
     "output_type": "stream",
     "text": [
      "[I 2025-05-14 18:11:10,397] Trial 5 pruned. Trial was pruned at iteration 23.\n"
     ]
    },
    {
     "name": "stderr",
     "output_type": "stream",
     "text": [
      "[I 2025-05-14 18:11:10,731] Trial 6 pruned. Trial was pruned at iteration 1.\n"
     ]
    },
    {
     "name": "stderr",
     "output_type": "stream",
     "text": [
      "[I 2025-05-14 18:11:10,969] Trial 7 pruned. Trial was pruned at iteration 0.\n"
     ]
    },
    {
     "name": "stderr",
     "output_type": "stream",
     "text": [
      "[I 2025-05-14 18:11:11,193] Trial 8 pruned. Trial was pruned at iteration 0.\n"
     ]
    },
    {
     "name": "stderr",
     "output_type": "stream",
     "text": [
      "[I 2025-05-14 18:11:11,724] Trial 9 pruned. Trial was pruned at iteration 3.\n"
     ]
    },
    {
     "name": "stderr",
     "output_type": "stream",
     "text": [
      "[I 2025-05-14 18:11:23,003] Trial 10 finished with value: -0.734925 and parameters: {'max_depth': 9, 'min_child_weight': 2, 'subsample': 0.9725833997090791, 'colsample_bynode': 0.11616568805333755, 'learning_rate': 0.17780618353487967}. Best is trial 10 with value: -0.734925.\n"
     ]
    },
    {
     "name": "stderr",
     "output_type": "stream",
     "text": [
      "[I 2025-05-14 18:11:34,889] Trial 11 finished with value: -0.732217 and parameters: {'max_depth': 9, 'min_child_weight': 4, 'subsample': 0.9818290990185045, 'colsample_bynode': 0.17702656156719, 'learning_rate': 0.11568531411766632}. Best is trial 10 with value: -0.734925.\n"
     ]
    },
    {
     "name": "stderr",
     "output_type": "stream",
     "text": [
      "[I 2025-05-14 18:11:45,882] Trial 12 finished with value: -0.733487 and parameters: {'max_depth': 9, 'min_child_weight': 2, 'subsample': 0.9762317723681219, 'colsample_bynode': 0.1303670507685675, 'learning_rate': 0.14353293664472047}. Best is trial 10 with value: -0.734925.\n"
     ]
    },
    {
     "name": "stderr",
     "output_type": "stream",
     "text": [
      "[I 2025-05-14 18:11:46,147] Trial 13 pruned. Trial was pruned at iteration 0.\n"
     ]
    },
    {
     "name": "stderr",
     "output_type": "stream",
     "text": [
      "[I 2025-05-14 18:11:46,405] Trial 14 pruned. Trial was pruned at iteration 0.\n"
     ]
    },
    {
     "name": "stderr",
     "output_type": "stream",
     "text": [
      "[I 2025-05-14 18:12:19,951] Trial 15 finished with value: -0.73391 and parameters: {'max_depth': 20, 'min_child_weight': 2, 'subsample': 0.7161698798894325, 'colsample_bynode': 0.31554979471905614, 'learning_rate': 0.19723736175781964}. Best is trial 10 with value: -0.734925.\n"
     ]
    },
    {
     "name": "stderr",
     "output_type": "stream",
     "text": [
      "[I 2025-05-14 18:12:20,227] Trial 16 pruned. Trial was pruned at iteration 0.\n"
     ]
    },
    {
     "name": "stderr",
     "output_type": "stream",
     "text": [
      "[I 2025-05-14 18:12:20,476] Trial 17 pruned. Trial was pruned at iteration 0.\n"
     ]
    },
    {
     "name": "stderr",
     "output_type": "stream",
     "text": [
      "[I 2025-05-14 18:12:20,898] Trial 18 pruned. Trial was pruned at iteration 1.\n"
     ]
    },
    {
     "name": "stderr",
     "output_type": "stream",
     "text": [
      "[I 2025-05-14 18:12:21,169] Trial 19 pruned. Trial was pruned at iteration 0.\n"
     ]
    },
    {
     "name": "stderr",
     "output_type": "stream",
     "text": [
      "[I 2025-05-14 18:12:21,442] Trial 20 pruned. Trial was pruned at iteration 0.\n"
     ]
    },
    {
     "name": "stderr",
     "output_type": "stream",
     "text": [
      "[I 2025-05-14 18:12:40,467] Trial 21 finished with value: -0.737415 and parameters: {'max_depth': 11, 'min_child_weight': 1, 'subsample': 0.9276253373351508, 'colsample_bynode': 0.10240060689893642, 'learning_rate': 0.1625775610263898}. Best is trial 21 with value: -0.737415.\n"
     ]
    },
    {
     "name": "stderr",
     "output_type": "stream",
     "text": [
      "[I 2025-05-14 18:12:40,792] Trial 22 pruned. Trial was pruned at iteration 0.\n"
     ]
    },
    {
     "name": "stderr",
     "output_type": "stream",
     "text": [
      "[I 2025-05-14 18:12:41,089] Trial 23 pruned. Trial was pruned at iteration 0.\n"
     ]
    },
    {
     "name": "stderr",
     "output_type": "stream",
     "text": [
      "[I 2025-05-14 18:12:47,225] Trial 24 pruned. Trial was pruned at iteration 23.\n"
     ]
    },
    {
     "name": "stderr",
     "output_type": "stream",
     "text": [
      "[I 2025-05-14 18:12:47,532] Trial 25 pruned. Trial was pruned at iteration 0.\n"
     ]
    },
    {
     "name": "stderr",
     "output_type": "stream",
     "text": [
      "[I 2025-05-14 18:12:47,938] Trial 26 pruned. Trial was pruned at iteration 1.\n"
     ]
    },
    {
     "name": "stderr",
     "output_type": "stream",
     "text": [
      "[I 2025-05-14 18:12:48,221] Trial 27 pruned. Trial was pruned at iteration 0.\n"
     ]
    },
    {
     "name": "stderr",
     "output_type": "stream",
     "text": [
      "[I 2025-05-14 18:12:48,507] Trial 28 pruned. Trial was pruned at iteration 0.\n"
     ]
    },
    {
     "name": "stderr",
     "output_type": "stream",
     "text": [
      "[I 2025-05-14 18:12:48,758] Trial 29 pruned. Trial was pruned at iteration 0.\n"
     ]
    },
    {
     "name": "stderr",
     "output_type": "stream",
     "text": [
      "[I 2025-05-14 18:12:49,002] Trial 30 pruned. Trial was pruned at iteration 0.\n"
     ]
    },
    {
     "name": "stderr",
     "output_type": "stream",
     "text": [
      "[I 2025-05-14 18:12:52,519] Trial 31 pruned. Trial was pruned at iteration 23.\n"
     ]
    },
    {
     "name": "stderr",
     "output_type": "stream",
     "text": [
      "[I 2025-05-14 18:12:52,841] Trial 32 pruned. Trial was pruned at iteration 0.\n"
     ]
    },
    {
     "name": "stderr",
     "output_type": "stream",
     "text": [
      "[I 2025-05-14 18:12:58,316] Trial 33 pruned. Trial was pruned at iteration 23.\n"
     ]
    },
    {
     "name": "stderr",
     "output_type": "stream",
     "text": [
      "[I 2025-05-14 18:12:58,592] Trial 34 pruned. Trial was pruned at iteration 0.\n"
     ]
    },
    {
     "name": "stderr",
     "output_type": "stream",
     "text": [
      "[I 2025-05-14 18:12:59,053] Trial 35 pruned. Trial was pruned at iteration 1.\n"
     ]
    },
    {
     "name": "stderr",
     "output_type": "stream",
     "text": [
      "[I 2025-05-14 18:12:59,375] Trial 36 pruned. Trial was pruned at iteration 0.\n"
     ]
    },
    {
     "name": "stderr",
     "output_type": "stream",
     "text": [
      "[I 2025-05-14 18:12:59,662] Trial 37 pruned. Trial was pruned at iteration 0.\n"
     ]
    },
    {
     "name": "stderr",
     "output_type": "stream",
     "text": [
      "[I 2025-05-14 18:12:59,924] Trial 38 pruned. Trial was pruned at iteration 0.\n"
     ]
    },
    {
     "name": "stderr",
     "output_type": "stream",
     "text": [
      "[I 2025-05-14 18:13:00,374] Trial 39 pruned. Trial was pruned at iteration 1.\n"
     ]
    },
    {
     "name": "stderr",
     "output_type": "stream",
     "text": [
      "[I 2025-05-14 18:13:00,702] Trial 40 pruned. Trial was pruned at iteration 0.\n"
     ]
    },
    {
     "name": "stderr",
     "output_type": "stream",
     "text": [
      "[I 2025-05-14 18:13:05,086] Trial 41 pruned. Trial was pruned at iteration 23.\n"
     ]
    },
    {
     "name": "stderr",
     "output_type": "stream",
     "text": [
      "[I 2025-05-14 18:13:05,405] Trial 42 pruned. Trial was pruned at iteration 0.\n"
     ]
    },
    {
     "name": "stderr",
     "output_type": "stream",
     "text": [
      "[I 2025-05-14 18:13:05,732] Trial 43 pruned. Trial was pruned at iteration 0.\n"
     ]
    },
    {
     "name": "stderr",
     "output_type": "stream",
     "text": [
      "[I 2025-05-14 18:13:06,040] Trial 44 pruned. Trial was pruned at iteration 0.\n"
     ]
    },
    {
     "name": "stderr",
     "output_type": "stream",
     "text": [
      "[I 2025-05-14 18:13:13,712] Trial 45 pruned. Trial was pruned at iteration 38.\n"
     ]
    },
    {
     "name": "stderr",
     "output_type": "stream",
     "text": [
      "[I 2025-05-14 18:13:14,351] Trial 46 pruned. Trial was pruned at iteration 2.\n"
     ]
    },
    {
     "name": "stderr",
     "output_type": "stream",
     "text": [
      "[I 2025-05-14 18:13:17,625] Trial 47 pruned. Trial was pruned at iteration 23.\n"
     ]
    },
    {
     "name": "stderr",
     "output_type": "stream",
     "text": [
      "[I 2025-05-14 18:13:17,947] Trial 48 pruned. Trial was pruned at iteration 0.\n"
     ]
    },
    {
     "name": "stderr",
     "output_type": "stream",
     "text": [
      "[I 2025-05-14 18:13:18,232] Trial 49 pruned. Trial was pruned at iteration 0.\n"
     ]
    }
   ],
   "source": [
    "sampler = optuna.samplers.TPESampler(seed=42)\n",
    "study = optuna.create_study(direction='minimize', sampler=sampler)\n",
    "study.optimize(objective, n_trials=N_TRIALS, gc_after_trial=True)"
   ]
  },
  {
   "cell_type": "code",
   "execution_count": 20,
   "id": "3cd9d127",
   "metadata": {
    "execution": {
     "iopub.execute_input": "2025-05-14T16:13:18.330524Z",
     "iopub.status.busy": "2025-05-14T16:13:18.330300Z",
     "iopub.status.idle": "2025-05-14T16:13:18.366088Z",
     "shell.execute_reply": "2025-05-14T16:13:18.365740Z"
    },
    "papermill": {
     "duration": 0.046719,
     "end_time": "2025-05-14T16:13:18.367392",
     "exception": false,
     "start_time": "2025-05-14T16:13:18.320673",
     "status": "completed"
    },
    "tags": []
   },
   "outputs": [
    {
     "data": {
      "text/plain": [
       "['/scratch_isilon/groups/singlecell/shared/projects/Inflammation-PBMCs-Atlas/03_downstream_analysis/08_gene_importance/xgboost_external_validation/xgboost_TopN_genes/results_20/study/ILC_shap_studyID_1_xgboost.pkl']"
      ]
     },
     "execution_count": 20,
     "metadata": {},
     "output_type": "execute_result"
    }
   ],
   "source": [
    "out_dir = here(f'03_downstream_analysis/08_gene_importance/xgboost_external_validation/xgboost_TopN_genes/results_{N_GENES}/study')\n",
    "\n",
    "if not os.path.exists(out_dir):\n",
    "    os.makedirs(out_dir)\n",
    "    \n",
    "joblib.dump(study,os.path.join(out_dir, f'{CELL_TYPE}_{SEED}_{TEST_SPLIT_IDX}_xgboost.pkl'))"
   ]
  },
  {
   "cell_type": "code",
   "execution_count": 21,
   "id": "1134c8b3",
   "metadata": {
    "execution": {
     "iopub.execute_input": "2025-05-14T16:13:18.392276Z",
     "iopub.status.busy": "2025-05-14T16:13:18.391401Z",
     "iopub.status.idle": "2025-05-14T16:13:36.530621Z",
     "shell.execute_reply": "2025-05-14T16:13:36.530224Z"
    },
    "papermill": {
     "duration": 18.153966,
     "end_time": "2025-05-14T16:13:36.531701",
     "exception": false,
     "start_time": "2025-05-14T16:13:18.377735",
     "status": "completed"
    },
    "tags": []
   },
   "outputs": [
    {
     "data": {
      "text/html": [
       "<style>#sk-container-id-1 {\n",
       "  /* Definition of color scheme common for light and dark mode */\n",
       "  --sklearn-color-text: black;\n",
       "  --sklearn-color-line: gray;\n",
       "  /* Definition of color scheme for unfitted estimators */\n",
       "  --sklearn-color-unfitted-level-0: #fff5e6;\n",
       "  --sklearn-color-unfitted-level-1: #f6e4d2;\n",
       "  --sklearn-color-unfitted-level-2: #ffe0b3;\n",
       "  --sklearn-color-unfitted-level-3: chocolate;\n",
       "  /* Definition of color scheme for fitted estimators */\n",
       "  --sklearn-color-fitted-level-0: #f0f8ff;\n",
       "  --sklearn-color-fitted-level-1: #d4ebff;\n",
       "  --sklearn-color-fitted-level-2: #b3dbfd;\n",
       "  --sklearn-color-fitted-level-3: cornflowerblue;\n",
       "\n",
       "  /* Specific color for light theme */\n",
       "  --sklearn-color-text-on-default-background: var(--sg-text-color, var(--theme-code-foreground, var(--jp-content-font-color1, black)));\n",
       "  --sklearn-color-background: var(--sg-background-color, var(--theme-background, var(--jp-layout-color0, white)));\n",
       "  --sklearn-color-border-box: var(--sg-text-color, var(--theme-code-foreground, var(--jp-content-font-color1, black)));\n",
       "  --sklearn-color-icon: #696969;\n",
       "\n",
       "  @media (prefers-color-scheme: dark) {\n",
       "    /* Redefinition of color scheme for dark theme */\n",
       "    --sklearn-color-text-on-default-background: var(--sg-text-color, var(--theme-code-foreground, var(--jp-content-font-color1, white)));\n",
       "    --sklearn-color-background: var(--sg-background-color, var(--theme-background, var(--jp-layout-color0, #111)));\n",
       "    --sklearn-color-border-box: var(--sg-text-color, var(--theme-code-foreground, var(--jp-content-font-color1, white)));\n",
       "    --sklearn-color-icon: #878787;\n",
       "  }\n",
       "}\n",
       "\n",
       "#sk-container-id-1 {\n",
       "  color: var(--sklearn-color-text);\n",
       "}\n",
       "\n",
       "#sk-container-id-1 pre {\n",
       "  padding: 0;\n",
       "}\n",
       "\n",
       "#sk-container-id-1 input.sk-hidden--visually {\n",
       "  border: 0;\n",
       "  clip: rect(1px 1px 1px 1px);\n",
       "  clip: rect(1px, 1px, 1px, 1px);\n",
       "  height: 1px;\n",
       "  margin: -1px;\n",
       "  overflow: hidden;\n",
       "  padding: 0;\n",
       "  position: absolute;\n",
       "  width: 1px;\n",
       "}\n",
       "\n",
       "#sk-container-id-1 div.sk-dashed-wrapped {\n",
       "  border: 1px dashed var(--sklearn-color-line);\n",
       "  margin: 0 0.4em 0.5em 0.4em;\n",
       "  box-sizing: border-box;\n",
       "  padding-bottom: 0.4em;\n",
       "  background-color: var(--sklearn-color-background);\n",
       "}\n",
       "\n",
       "#sk-container-id-1 div.sk-container {\n",
       "  /* jupyter's `normalize.less` sets `[hidden] { display: none; }`\n",
       "     but bootstrap.min.css set `[hidden] { display: none !important; }`\n",
       "     so we also need the `!important` here to be able to override the\n",
       "     default hidden behavior on the sphinx rendered scikit-learn.org.\n",
       "     See: https://github.com/scikit-learn/scikit-learn/issues/21755 */\n",
       "  display: inline-block !important;\n",
       "  position: relative;\n",
       "}\n",
       "\n",
       "#sk-container-id-1 div.sk-text-repr-fallback {\n",
       "  display: none;\n",
       "}\n",
       "\n",
       "div.sk-parallel-item,\n",
       "div.sk-serial,\n",
       "div.sk-item {\n",
       "  /* draw centered vertical line to link estimators */\n",
       "  background-image: linear-gradient(var(--sklearn-color-text-on-default-background), var(--sklearn-color-text-on-default-background));\n",
       "  background-size: 2px 100%;\n",
       "  background-repeat: no-repeat;\n",
       "  background-position: center center;\n",
       "}\n",
       "\n",
       "/* Parallel-specific style estimator block */\n",
       "\n",
       "#sk-container-id-1 div.sk-parallel-item::after {\n",
       "  content: \"\";\n",
       "  width: 100%;\n",
       "  border-bottom: 2px solid var(--sklearn-color-text-on-default-background);\n",
       "  flex-grow: 1;\n",
       "}\n",
       "\n",
       "#sk-container-id-1 div.sk-parallel {\n",
       "  display: flex;\n",
       "  align-items: stretch;\n",
       "  justify-content: center;\n",
       "  background-color: var(--sklearn-color-background);\n",
       "  position: relative;\n",
       "}\n",
       "\n",
       "#sk-container-id-1 div.sk-parallel-item {\n",
       "  display: flex;\n",
       "  flex-direction: column;\n",
       "}\n",
       "\n",
       "#sk-container-id-1 div.sk-parallel-item:first-child::after {\n",
       "  align-self: flex-end;\n",
       "  width: 50%;\n",
       "}\n",
       "\n",
       "#sk-container-id-1 div.sk-parallel-item:last-child::after {\n",
       "  align-self: flex-start;\n",
       "  width: 50%;\n",
       "}\n",
       "\n",
       "#sk-container-id-1 div.sk-parallel-item:only-child::after {\n",
       "  width: 0;\n",
       "}\n",
       "\n",
       "/* Serial-specific style estimator block */\n",
       "\n",
       "#sk-container-id-1 div.sk-serial {\n",
       "  display: flex;\n",
       "  flex-direction: column;\n",
       "  align-items: center;\n",
       "  background-color: var(--sklearn-color-background);\n",
       "  padding-right: 1em;\n",
       "  padding-left: 1em;\n",
       "}\n",
       "\n",
       "\n",
       "/* Toggleable style: style used for estimator/Pipeline/ColumnTransformer box that is\n",
       "clickable and can be expanded/collapsed.\n",
       "- Pipeline and ColumnTransformer use this feature and define the default style\n",
       "- Estimators will overwrite some part of the style using the `sk-estimator` class\n",
       "*/\n",
       "\n",
       "/* Pipeline and ColumnTransformer style (default) */\n",
       "\n",
       "#sk-container-id-1 div.sk-toggleable {\n",
       "  /* Default theme specific background. It is overwritten whether we have a\n",
       "  specific estimator or a Pipeline/ColumnTransformer */\n",
       "  background-color: var(--sklearn-color-background);\n",
       "}\n",
       "\n",
       "/* Toggleable label */\n",
       "#sk-container-id-1 label.sk-toggleable__label {\n",
       "  cursor: pointer;\n",
       "  display: block;\n",
       "  width: 100%;\n",
       "  margin-bottom: 0;\n",
       "  padding: 0.5em;\n",
       "  box-sizing: border-box;\n",
       "  text-align: center;\n",
       "}\n",
       "\n",
       "#sk-container-id-1 label.sk-toggleable__label-arrow:before {\n",
       "  /* Arrow on the left of the label */\n",
       "  content: \"▸\";\n",
       "  float: left;\n",
       "  margin-right: 0.25em;\n",
       "  color: var(--sklearn-color-icon);\n",
       "}\n",
       "\n",
       "#sk-container-id-1 label.sk-toggleable__label-arrow:hover:before {\n",
       "  color: var(--sklearn-color-text);\n",
       "}\n",
       "\n",
       "/* Toggleable content - dropdown */\n",
       "\n",
       "#sk-container-id-1 div.sk-toggleable__content {\n",
       "  max-height: 0;\n",
       "  max-width: 0;\n",
       "  overflow: hidden;\n",
       "  text-align: left;\n",
       "  /* unfitted */\n",
       "  background-color: var(--sklearn-color-unfitted-level-0);\n",
       "}\n",
       "\n",
       "#sk-container-id-1 div.sk-toggleable__content.fitted {\n",
       "  /* fitted */\n",
       "  background-color: var(--sklearn-color-fitted-level-0);\n",
       "}\n",
       "\n",
       "#sk-container-id-1 div.sk-toggleable__content pre {\n",
       "  margin: 0.2em;\n",
       "  border-radius: 0.25em;\n",
       "  color: var(--sklearn-color-text);\n",
       "  /* unfitted */\n",
       "  background-color: var(--sklearn-color-unfitted-level-0);\n",
       "}\n",
       "\n",
       "#sk-container-id-1 div.sk-toggleable__content.fitted pre {\n",
       "  /* unfitted */\n",
       "  background-color: var(--sklearn-color-fitted-level-0);\n",
       "}\n",
       "\n",
       "#sk-container-id-1 input.sk-toggleable__control:checked~div.sk-toggleable__content {\n",
       "  /* Expand drop-down */\n",
       "  max-height: 200px;\n",
       "  max-width: 100%;\n",
       "  overflow: auto;\n",
       "}\n",
       "\n",
       "#sk-container-id-1 input.sk-toggleable__control:checked~label.sk-toggleable__label-arrow:before {\n",
       "  content: \"▾\";\n",
       "}\n",
       "\n",
       "/* Pipeline/ColumnTransformer-specific style */\n",
       "\n",
       "#sk-container-id-1 div.sk-label input.sk-toggleable__control:checked~label.sk-toggleable__label {\n",
       "  color: var(--sklearn-color-text);\n",
       "  background-color: var(--sklearn-color-unfitted-level-2);\n",
       "}\n",
       "\n",
       "#sk-container-id-1 div.sk-label.fitted input.sk-toggleable__control:checked~label.sk-toggleable__label {\n",
       "  background-color: var(--sklearn-color-fitted-level-2);\n",
       "}\n",
       "\n",
       "/* Estimator-specific style */\n",
       "\n",
       "/* Colorize estimator box */\n",
       "#sk-container-id-1 div.sk-estimator input.sk-toggleable__control:checked~label.sk-toggleable__label {\n",
       "  /* unfitted */\n",
       "  background-color: var(--sklearn-color-unfitted-level-2);\n",
       "}\n",
       "\n",
       "#sk-container-id-1 div.sk-estimator.fitted input.sk-toggleable__control:checked~label.sk-toggleable__label {\n",
       "  /* fitted */\n",
       "  background-color: var(--sklearn-color-fitted-level-2);\n",
       "}\n",
       "\n",
       "#sk-container-id-1 div.sk-label label.sk-toggleable__label,\n",
       "#sk-container-id-1 div.sk-label label {\n",
       "  /* The background is the default theme color */\n",
       "  color: var(--sklearn-color-text-on-default-background);\n",
       "}\n",
       "\n",
       "/* On hover, darken the color of the background */\n",
       "#sk-container-id-1 div.sk-label:hover label.sk-toggleable__label {\n",
       "  color: var(--sklearn-color-text);\n",
       "  background-color: var(--sklearn-color-unfitted-level-2);\n",
       "}\n",
       "\n",
       "/* Label box, darken color on hover, fitted */\n",
       "#sk-container-id-1 div.sk-label.fitted:hover label.sk-toggleable__label.fitted {\n",
       "  color: var(--sklearn-color-text);\n",
       "  background-color: var(--sklearn-color-fitted-level-2);\n",
       "}\n",
       "\n",
       "/* Estimator label */\n",
       "\n",
       "#sk-container-id-1 div.sk-label label {\n",
       "  font-family: monospace;\n",
       "  font-weight: bold;\n",
       "  display: inline-block;\n",
       "  line-height: 1.2em;\n",
       "}\n",
       "\n",
       "#sk-container-id-1 div.sk-label-container {\n",
       "  text-align: center;\n",
       "}\n",
       "\n",
       "/* Estimator-specific */\n",
       "#sk-container-id-1 div.sk-estimator {\n",
       "  font-family: monospace;\n",
       "  border: 1px dotted var(--sklearn-color-border-box);\n",
       "  border-radius: 0.25em;\n",
       "  box-sizing: border-box;\n",
       "  margin-bottom: 0.5em;\n",
       "  /* unfitted */\n",
       "  background-color: var(--sklearn-color-unfitted-level-0);\n",
       "}\n",
       "\n",
       "#sk-container-id-1 div.sk-estimator.fitted {\n",
       "  /* fitted */\n",
       "  background-color: var(--sklearn-color-fitted-level-0);\n",
       "}\n",
       "\n",
       "/* on hover */\n",
       "#sk-container-id-1 div.sk-estimator:hover {\n",
       "  /* unfitted */\n",
       "  background-color: var(--sklearn-color-unfitted-level-2);\n",
       "}\n",
       "\n",
       "#sk-container-id-1 div.sk-estimator.fitted:hover {\n",
       "  /* fitted */\n",
       "  background-color: var(--sklearn-color-fitted-level-2);\n",
       "}\n",
       "\n",
       "/* Specification for estimator info (e.g. \"i\" and \"?\") */\n",
       "\n",
       "/* Common style for \"i\" and \"?\" */\n",
       "\n",
       ".sk-estimator-doc-link,\n",
       "a:link.sk-estimator-doc-link,\n",
       "a:visited.sk-estimator-doc-link {\n",
       "  float: right;\n",
       "  font-size: smaller;\n",
       "  line-height: 1em;\n",
       "  font-family: monospace;\n",
       "  background-color: var(--sklearn-color-background);\n",
       "  border-radius: 1em;\n",
       "  height: 1em;\n",
       "  width: 1em;\n",
       "  text-decoration: none !important;\n",
       "  margin-left: 1ex;\n",
       "  /* unfitted */\n",
       "  border: var(--sklearn-color-unfitted-level-1) 1pt solid;\n",
       "  color: var(--sklearn-color-unfitted-level-1);\n",
       "}\n",
       "\n",
       ".sk-estimator-doc-link.fitted,\n",
       "a:link.sk-estimator-doc-link.fitted,\n",
       "a:visited.sk-estimator-doc-link.fitted {\n",
       "  /* fitted */\n",
       "  border: var(--sklearn-color-fitted-level-1) 1pt solid;\n",
       "  color: var(--sklearn-color-fitted-level-1);\n",
       "}\n",
       "\n",
       "/* On hover */\n",
       "div.sk-estimator:hover .sk-estimator-doc-link:hover,\n",
       ".sk-estimator-doc-link:hover,\n",
       "div.sk-label-container:hover .sk-estimator-doc-link:hover,\n",
       ".sk-estimator-doc-link:hover {\n",
       "  /* unfitted */\n",
       "  background-color: var(--sklearn-color-unfitted-level-3);\n",
       "  color: var(--sklearn-color-background);\n",
       "  text-decoration: none;\n",
       "}\n",
       "\n",
       "div.sk-estimator.fitted:hover .sk-estimator-doc-link.fitted:hover,\n",
       ".sk-estimator-doc-link.fitted:hover,\n",
       "div.sk-label-container:hover .sk-estimator-doc-link.fitted:hover,\n",
       ".sk-estimator-doc-link.fitted:hover {\n",
       "  /* fitted */\n",
       "  background-color: var(--sklearn-color-fitted-level-3);\n",
       "  color: var(--sklearn-color-background);\n",
       "  text-decoration: none;\n",
       "}\n",
       "\n",
       "/* Span, style for the box shown on hovering the info icon */\n",
       ".sk-estimator-doc-link span {\n",
       "  display: none;\n",
       "  z-index: 9999;\n",
       "  position: relative;\n",
       "  font-weight: normal;\n",
       "  right: .2ex;\n",
       "  padding: .5ex;\n",
       "  margin: .5ex;\n",
       "  width: min-content;\n",
       "  min-width: 20ex;\n",
       "  max-width: 50ex;\n",
       "  color: var(--sklearn-color-text);\n",
       "  box-shadow: 2pt 2pt 4pt #999;\n",
       "  /* unfitted */\n",
       "  background: var(--sklearn-color-unfitted-level-0);\n",
       "  border: .5pt solid var(--sklearn-color-unfitted-level-3);\n",
       "}\n",
       "\n",
       ".sk-estimator-doc-link.fitted span {\n",
       "  /* fitted */\n",
       "  background: var(--sklearn-color-fitted-level-0);\n",
       "  border: var(--sklearn-color-fitted-level-3);\n",
       "}\n",
       "\n",
       ".sk-estimator-doc-link:hover span {\n",
       "  display: block;\n",
       "}\n",
       "\n",
       "/* \"?\"-specific style due to the `<a>` HTML tag */\n",
       "\n",
       "#sk-container-id-1 a.estimator_doc_link {\n",
       "  float: right;\n",
       "  font-size: 1rem;\n",
       "  line-height: 1em;\n",
       "  font-family: monospace;\n",
       "  background-color: var(--sklearn-color-background);\n",
       "  border-radius: 1rem;\n",
       "  height: 1rem;\n",
       "  width: 1rem;\n",
       "  text-decoration: none;\n",
       "  /* unfitted */\n",
       "  color: var(--sklearn-color-unfitted-level-1);\n",
       "  border: var(--sklearn-color-unfitted-level-1) 1pt solid;\n",
       "}\n",
       "\n",
       "#sk-container-id-1 a.estimator_doc_link.fitted {\n",
       "  /* fitted */\n",
       "  border: var(--sklearn-color-fitted-level-1) 1pt solid;\n",
       "  color: var(--sklearn-color-fitted-level-1);\n",
       "}\n",
       "\n",
       "/* On hover */\n",
       "#sk-container-id-1 a.estimator_doc_link:hover {\n",
       "  /* unfitted */\n",
       "  background-color: var(--sklearn-color-unfitted-level-3);\n",
       "  color: var(--sklearn-color-background);\n",
       "  text-decoration: none;\n",
       "}\n",
       "\n",
       "#sk-container-id-1 a.estimator_doc_link.fitted:hover {\n",
       "  /* fitted */\n",
       "  background-color: var(--sklearn-color-fitted-level-3);\n",
       "}\n",
       "</style><div id=\"sk-container-id-1\" class=\"sk-top-container\"><div class=\"sk-text-repr-fallback\"><pre>XGBClassifier(base_score=None, booster=None, callbacks=None,\n",
       "              colsample_bylevel=None, colsample_bynode=0.10240060689893642,\n",
       "              colsample_bytree=None, device=None, early_stopping_rounds=None,\n",
       "              enable_categorical=False,\n",
       "              eval_metric=&lt;function custom_f1_score at 0x7f2a5c424680&gt;,\n",
       "              feature_types=None, gamma=None, grow_policy=None,\n",
       "              importance_type=None, interaction_constraints=None,\n",
       "              learning_rate=0.1625775610263898, max_bin=None,\n",
       "              max_cat_threshold=None, max_cat_to_onehot=None,\n",
       "              max_delta_step=None, max_depth=11, max_leaves=None,\n",
       "              min_child_weight=1, missing=nan, monotone_constraints=None,\n",
       "              multi_strategy=None, n_estimators=135, n_jobs=None,\n",
       "              num_parallel_tree=None, objective=&#x27;multi:softprob&#x27;, ...)</pre><b>In a Jupyter environment, please rerun this cell to show the HTML representation or trust the notebook. <br />On GitHub, the HTML representation is unable to render, please try loading this page with nbviewer.org.</b></div><div class=\"sk-container\" hidden><div class=\"sk-item\"><div class=\"sk-estimator fitted sk-toggleable\"><input class=\"sk-toggleable__control sk-hidden--visually\" id=\"sk-estimator-id-1\" type=\"checkbox\" checked><label for=\"sk-estimator-id-1\" class=\"sk-toggleable__label fitted sk-toggleable__label-arrow fitted\">&nbsp;XGBClassifier<span class=\"sk-estimator-doc-link fitted\">i<span>Fitted</span></span></label><div class=\"sk-toggleable__content fitted\"><pre>XGBClassifier(base_score=None, booster=None, callbacks=None,\n",
       "              colsample_bylevel=None, colsample_bynode=0.10240060689893642,\n",
       "              colsample_bytree=None, device=None, early_stopping_rounds=None,\n",
       "              enable_categorical=False,\n",
       "              eval_metric=&lt;function custom_f1_score at 0x7f2a5c424680&gt;,\n",
       "              feature_types=None, gamma=None, grow_policy=None,\n",
       "              importance_type=None, interaction_constraints=None,\n",
       "              learning_rate=0.1625775610263898, max_bin=None,\n",
       "              max_cat_threshold=None, max_cat_to_onehot=None,\n",
       "              max_delta_step=None, max_depth=11, max_leaves=None,\n",
       "              min_child_weight=1, missing=nan, monotone_constraints=None,\n",
       "              multi_strategy=None, n_estimators=135, n_jobs=None,\n",
       "              num_parallel_tree=None, objective=&#x27;multi:softprob&#x27;, ...)</pre></div> </div></div></div></div>"
      ],
      "text/plain": [
       "XGBClassifier(base_score=None, booster=None, callbacks=None,\n",
       "              colsample_bylevel=None, colsample_bynode=0.10240060689893642,\n",
       "              colsample_bytree=None, device=None, early_stopping_rounds=None,\n",
       "              enable_categorical=False,\n",
       "              eval_metric=<function custom_f1_score at 0x7f2a5c424680>,\n",
       "              feature_types=None, gamma=None, grow_policy=None,\n",
       "              importance_type=None, interaction_constraints=None,\n",
       "              learning_rate=0.1625775610263898, max_bin=None,\n",
       "              max_cat_threshold=None, max_cat_to_onehot=None,\n",
       "              max_delta_step=None, max_depth=11, max_leaves=None,\n",
       "              min_child_weight=1, missing=nan, monotone_constraints=None,\n",
       "              multi_strategy=None, n_estimators=135, n_jobs=None,\n",
       "              num_parallel_tree=None, objective='multi:softprob', ...)"
      ]
     },
     "execution_count": 21,
     "metadata": {},
     "output_type": "execute_result"
    }
   ],
   "source": [
    "n_estimators = int(study.best_trial.user_attrs['best_iteration']*1.2)\n",
    "xgb = xgboost.XGBClassifier(\n",
    "        eval_metric=eval_metric,\n",
    "        n_estimators=n_estimators,\n",
    "        **study.best_trial.params\n",
    "    )\n",
    "xgb.fit(\n",
    "    ssp.vstack((X_train, X_val)), \n",
    "    np.concatenate((y_train_enc, y_val_enc)),\n",
    "    verbose=1,\n",
    ")"
   ]
  },
  {
   "cell_type": "code",
   "execution_count": 22,
   "id": "96264163",
   "metadata": {
    "execution": {
     "iopub.execute_input": "2025-05-14T16:13:36.564455Z",
     "iopub.status.busy": "2025-05-14T16:13:36.564014Z",
     "iopub.status.idle": "2025-05-14T16:13:36.777394Z",
     "shell.execute_reply": "2025-05-14T16:13:36.777008Z"
    },
    "papermill": {
     "duration": 0.224985,
     "end_time": "2025-05-14T16:13:36.778300",
     "exception": false,
     "start_time": "2025-05-14T16:13:36.553315",
     "status": "completed"
    },
    "tags": []
   },
   "outputs": [
    {
     "data": {
      "text/plain": [
       "['/scratch_isilon/groups/singlecell/shared/projects/Inflammation-PBMCs-Atlas/03_downstream_analysis/08_gene_importance/xgboost_external_validation/xgboost_TopN_genes/results_20/best_model/ILC_shap_studyID_1_xgb.json']"
      ]
     },
     "execution_count": 22,
     "metadata": {},
     "output_type": "execute_result"
    }
   ],
   "source": [
    "out_dir = here(f'03_downstream_analysis/08_gene_importance/xgboost_external_validation/xgboost_TopN_genes/results_{N_GENES}/best_model')\n",
    "\n",
    "if not os.path.exists(out_dir):\n",
    "    os.makedirs(out_dir)\n",
    "    \n",
    "joblib.dump(xgb, os.path.join(out_dir, f'{CELL_TYPE}_{SEED}_{TEST_SPLIT_IDX}_xgb.json'))"
   ]
  },
  {
   "cell_type": "code",
   "execution_count": 23,
   "id": "003dfa8b",
   "metadata": {
    "execution": {
     "iopub.execute_input": "2025-05-14T16:13:36.798362Z",
     "iopub.status.busy": "2025-05-14T16:13:36.798135Z",
     "iopub.status.idle": "2025-05-14T16:13:37.119903Z",
     "shell.execute_reply": "2025-05-14T16:13:37.119509Z"
    },
    "papermill": {
     "duration": 0.332705,
     "end_time": "2025-05-14T16:13:37.120946",
     "exception": false,
     "start_time": "2025-05-14T16:13:36.788241",
     "status": "completed"
    },
    "tags": []
   },
   "outputs": [],
   "source": [
    "df_pred_test = pd.DataFrame(dict(\n",
    "    cell_id=train_adata.obs.iloc[test_idxs].index.values,\n",
    "    y_true=y_test, \n",
    "    y_true_code=y_test_enc, \n",
    "    y_pred=xgb.predict(X_test))).set_index('cell_id')"
   ]
  },
  {
   "cell_type": "code",
   "execution_count": 24,
   "id": "cec6b7c8",
   "metadata": {
    "execution": {
     "iopub.execute_input": "2025-05-14T16:13:37.149687Z",
     "iopub.status.busy": "2025-05-14T16:13:37.149405Z",
     "iopub.status.idle": "2025-05-14T16:13:37.202600Z",
     "shell.execute_reply": "2025-05-14T16:13:37.202178Z"
    },
    "papermill": {
     "duration": 0.068436,
     "end_time": "2025-05-14T16:13:37.203559",
     "exception": false,
     "start_time": "2025-05-14T16:13:37.135123",
     "status": "completed"
    },
    "tags": []
   },
   "outputs": [],
   "source": [
    "out_dir = here(f'03_downstream_analysis/08_gene_importance/xgboost_external_validation/xgboost_TopN_genes/results_{N_GENES}/predictions')\n",
    "\n",
    "if not os.path.exists(out_dir):\n",
    "    os.makedirs(out_dir)\n",
    "    \n",
    "df_pred_test.to_csv(os.path.join(out_dir, f'{CELL_TYPE}_{SEED}_{TEST_SPLIT_IDX}_pred_test.zip'))"
   ]
  },
  {
   "cell_type": "code",
   "execution_count": 25,
   "id": "0a72eb99",
   "metadata": {
    "execution": {
     "iopub.execute_input": "2025-05-14T16:13:37.223422Z",
     "iopub.status.busy": "2025-05-14T16:13:37.223154Z",
     "iopub.status.idle": "2025-05-14T16:13:37.231847Z",
     "shell.execute_reply": "2025-05-14T16:13:37.231508Z"
    },
    "papermill": {
     "duration": 0.019589,
     "end_time": "2025-05-14T16:13:37.232734",
     "exception": false,
     "start_time": "2025-05-14T16:13:37.213145",
     "status": "completed"
    },
    "tags": []
   },
   "outputs": [],
   "source": [
    "metrics_dict = dict(\n",
    "    BAS=balanced_accuracy_score(y_true=df_pred_test.y_true_code, y_pred=df_pred_test.y_pred), WF1=f1_score(y_true=df_pred_test.y_true_code, y_pred=df_pred_test.y_pred,average='weighted'))"
   ]
  },
  {
   "cell_type": "code",
   "execution_count": 26,
   "id": "bcf9a11a",
   "metadata": {
    "execution": {
     "iopub.execute_input": "2025-05-14T16:13:37.301620Z",
     "iopub.status.busy": "2025-05-14T16:13:37.301268Z",
     "iopub.status.idle": "2025-05-14T16:13:37.304143Z",
     "shell.execute_reply": "2025-05-14T16:13:37.303819Z"
    },
    "papermill": {
     "duration": 0.015134,
     "end_time": "2025-05-14T16:13:37.305001",
     "exception": false,
     "start_time": "2025-05-14T16:13:37.289867",
     "status": "completed"
    },
    "tags": []
   },
   "outputs": [
    {
     "data": {
      "text/plain": [
       "{'BAS': 0.5779361203056297, 'WF1': 0.7656347124868079}"
      ]
     },
     "execution_count": 26,
     "metadata": {},
     "output_type": "execute_result"
    }
   ],
   "source": [
    "metrics_dict"
   ]
  },
  {
   "cell_type": "code",
   "execution_count": 27,
   "id": "82cee314",
   "metadata": {
    "execution": {
     "iopub.execute_input": "2025-05-14T16:13:37.327184Z",
     "iopub.status.busy": "2025-05-14T16:13:37.326901Z",
     "iopub.status.idle": "2025-05-14T16:13:37.336403Z",
     "shell.execute_reply": "2025-05-14T16:13:37.336073Z"
    },
    "papermill": {
     "duration": 0.021494,
     "end_time": "2025-05-14T16:13:37.337304",
     "exception": false,
     "start_time": "2025-05-14T16:13:37.315810",
     "status": "completed"
    },
    "tags": []
   },
   "outputs": [
    {
     "data": {
      "text/html": [
       "<div>\n",
       "<style scoped>\n",
       "    .dataframe tbody tr th:only-of-type {\n",
       "        vertical-align: middle;\n",
       "    }\n",
       "\n",
       "    .dataframe tbody tr th {\n",
       "        vertical-align: top;\n",
       "    }\n",
       "\n",
       "    .dataframe thead th {\n",
       "        text-align: right;\n",
       "    }\n",
       "</style>\n",
       "<table border=\"1\" class=\"dataframe\">\n",
       "  <thead>\n",
       "    <tr style=\"text-align: right;\">\n",
       "      <th></th>\n",
       "      <th>BAS</th>\n",
       "      <th>WF1</th>\n",
       "      <th>split_idx</th>\n",
       "      <th>gene_set_seed</th>\n",
       "      <th>cell_type</th>\n",
       "    </tr>\n",
       "  </thead>\n",
       "  <tbody>\n",
       "    <tr>\n",
       "      <th>0</th>\n",
       "      <td>0.577936</td>\n",
       "      <td>0.765635</td>\n",
       "      <td>1</td>\n",
       "      <td>shap_studyID</td>\n",
       "      <td>ILC</td>\n",
       "    </tr>\n",
       "  </tbody>\n",
       "</table>\n",
       "</div>"
      ],
      "text/plain": [
       "        BAS       WF1  split_idx gene_set_seed cell_type\n",
       "0  0.577936  0.765635          1  shap_studyID       ILC"
      ]
     },
     "execution_count": 27,
     "metadata": {},
     "output_type": "execute_result"
    }
   ],
   "source": [
    "metrics_df = pd.DataFrame.from_dict([metrics_dict]).assign(split_idx=TEST_SPLIT_IDX, gene_set_seed=SEED, cell_type=CELL_TYPE)\n",
    "metrics_df"
   ]
  },
  {
   "cell_type": "code",
   "execution_count": 28,
   "id": "d6c01389",
   "metadata": {
    "execution": {
     "iopub.execute_input": "2025-05-14T16:13:37.357726Z",
     "iopub.status.busy": "2025-05-14T16:13:37.357432Z",
     "iopub.status.idle": "2025-05-14T16:13:37.365636Z",
     "shell.execute_reply": "2025-05-14T16:13:37.365238Z"
    },
    "papermill": {
     "duration": 0.019048,
     "end_time": "2025-05-14T16:13:37.366520",
     "exception": false,
     "start_time": "2025-05-14T16:13:37.347472",
     "status": "completed"
    },
    "tags": []
   },
   "outputs": [],
   "source": [
    "out_dir = here(f'03_downstream_analysis/08_gene_importance/xgboost_external_validation/xgboost_TopN_genes/results_{N_GENES}/metrics')\n",
    "\n",
    "if not os.path.exists(out_dir):\n",
    "    os.makedirs(out_dir)\n",
    "    \n",
    "metrics_df.to_csv(os.path.join(out_dir, f'{CELL_TYPE}_{SEED}_{TEST_SPLIT_IDX}_metrics.zip'))"
   ]
  }
 ],
 "metadata": {
  "kernelspec": {
   "display_name": "Python 3 (ipykernel)",
   "language": "python",
   "name": "python3"
  },
  "language_info": {
   "codemirror_mode": {
    "name": "ipython",
    "version": 3
   },
   "file_extension": ".py",
   "mimetype": "text/x-python",
   "name": "python",
   "nbconvert_exporter": "python",
   "pygments_lexer": "ipython3",
   "version": "3.12.5"
  },
  "papermill": {
   "default_parameters": {},
   "duration": 240.59276,
   "end_time": "2025-05-14T16:13:37.893346",
   "environment_variables": {},
   "exception": null,
   "input_path": "02_xgboost_fitting_external_20genes.ipynb",
   "output_path": "results_20/executed_notebooks/xgboost_fitting_external_CT_ILC_GS_shap_studyID_seed1.ipynb",
   "parameters": {
    "CELL_TYPE": "ILC",
    "SEED": "shap_studyID",
    "TEST_SPLIT_IDX": 1
   },
   "start_time": "2025-05-14T16:09:37.300586",
   "version": "2.6.0"
  }
 },
 "nbformat": 4,
 "nbformat_minor": 5
}