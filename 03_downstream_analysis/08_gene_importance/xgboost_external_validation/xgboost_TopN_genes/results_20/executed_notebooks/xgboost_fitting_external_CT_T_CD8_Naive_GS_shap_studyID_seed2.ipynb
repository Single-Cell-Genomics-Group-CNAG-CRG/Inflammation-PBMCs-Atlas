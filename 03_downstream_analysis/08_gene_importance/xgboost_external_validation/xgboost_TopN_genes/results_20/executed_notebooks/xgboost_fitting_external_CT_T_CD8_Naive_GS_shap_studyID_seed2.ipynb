{
 "cells": [
  {
   "cell_type": "code",
   "execution_count": 1,
   "id": "40306ca2",
   "metadata": {
    "editable": true,
    "execution": {
     "iopub.execute_input": "2025-05-14T16:08:18.255433Z",
     "iopub.status.busy": "2025-05-14T16:08:18.255251Z",
     "iopub.status.idle": "2025-05-14T16:08:18.258363Z",
     "shell.execute_reply": "2025-05-14T16:08:18.257966Z"
    },
    "papermill": {
     "duration": 0.011449,
     "end_time": "2025-05-14T16:08:18.259254",
     "exception": false,
     "start_time": "2025-05-14T16:08:18.247805",
     "status": "completed"
    },
    "slideshow": {
     "slide_type": ""
    },
    "tags": [
     "parameters"
    ]
   },
   "outputs": [],
   "source": [
    "CELL_TYPE = 'pDC'\n",
    "N_GENES: int = 20\n",
    "SEED = 'shap_studyID' #'disease_NOstudy' 'study_NOdisease' or 'int' or 'shap_studyID'\n",
    "TEST_SPLIT_IDX: int = 1 #[0,4]"
   ]
  },
  {
   "cell_type": "code",
   "execution_count": 2,
   "id": "d71bad39",
   "metadata": {
    "execution": {
     "iopub.execute_input": "2025-05-14T16:08:18.271434Z",
     "iopub.status.busy": "2025-05-14T16:08:18.271170Z",
     "iopub.status.idle": "2025-05-14T16:08:18.273357Z",
     "shell.execute_reply": "2025-05-14T16:08:18.273039Z"
    },
    "papermill": {
     "duration": 0.008922,
     "end_time": "2025-05-14T16:08:18.274255",
     "exception": false,
     "start_time": "2025-05-14T16:08:18.265333",
     "status": "completed"
    },
    "tags": [
     "injected-parameters"
    ]
   },
   "outputs": [],
   "source": [
    "# Parameters\n",
    "CELL_TYPE = \"T_CD8_Naive\"\n",
    "SEED = \"shap_studyID\"\n",
    "TEST_SPLIT_IDX = 2\n"
   ]
  },
  {
   "cell_type": "code",
   "execution_count": 3,
   "id": "711a105f",
   "metadata": {
    "execution": {
     "iopub.execute_input": "2025-05-14T16:08:18.300398Z",
     "iopub.status.busy": "2025-05-14T16:08:18.300141Z",
     "iopub.status.idle": "2025-05-14T16:08:18.302114Z",
     "shell.execute_reply": "2025-05-14T16:08:18.301799Z"
    },
    "papermill": {
     "duration": 0.02312,
     "end_time": "2025-05-14T16:08:18.302962",
     "exception": false,
     "start_time": "2025-05-14T16:08:18.279842",
     "status": "completed"
    },
    "tags": []
   },
   "outputs": [],
   "source": [
    "N_SPLITS: int = 5\n",
    "N_TRIALS: int = 50"
   ]
  },
  {
   "cell_type": "code",
   "execution_count": 4,
   "id": "02f8eb21",
   "metadata": {
    "execution": {
     "iopub.execute_input": "2025-05-14T16:08:18.314956Z",
     "iopub.status.busy": "2025-05-14T16:08:18.314784Z",
     "iopub.status.idle": "2025-05-14T16:08:21.254236Z",
     "shell.execute_reply": "2025-05-14T16:08:21.253807Z"
    },
    "papermill": {
     "duration": 2.947198,
     "end_time": "2025-05-14T16:08:21.255379",
     "exception": false,
     "start_time": "2025-05-14T16:08:18.308181",
     "status": "completed"
    },
    "tags": []
   },
   "outputs": [],
   "source": [
    "import os\n",
    "import sys\n",
    "from pyprojroot.here import here\n",
    "import pandas as pd\n",
    "import anndata as ad\n",
    "import numpy as np\n",
    "import math\n",
    "from sklearn.model_selection import StratifiedGroupKFold\n",
    "from sklearn.preprocessing import LabelEncoder\n",
    "from sklearn.metrics import f1_score\n",
    "import matplotlib.pyplot as plt\n",
    "import seaborn as sns\n",
    "from itertools import product\n",
    "from sklearn.metrics import balanced_accuracy_score, f1_score\n",
    "import optuna\n",
    "\n",
    "import joblib\n",
    "import pickle\n",
    "import datetime\n",
    "\n",
    "import collections\n",
    "\n",
    "import xgboost\n",
    "from sklearn.preprocessing import LabelEncoder\n",
    "\n",
    "import scipy.sparse as ssp\n",
    "import joblib\n",
    "\n",
    "from dotenv import load_dotenv"
   ]
  },
  {
   "cell_type": "code",
   "execution_count": 5,
   "id": "78189deb",
   "metadata": {
    "execution": {
     "iopub.execute_input": "2025-05-14T16:08:21.267555Z",
     "iopub.status.busy": "2025-05-14T16:08:21.267199Z",
     "iopub.status.idle": "2025-05-14T16:08:21.272415Z",
     "shell.execute_reply": "2025-05-14T16:08:21.272107Z"
    },
    "papermill": {
     "duration": 0.011858,
     "end_time": "2025-05-14T16:08:21.273222",
     "exception": false,
     "start_time": "2025-05-14T16:08:21.261364",
     "status": "completed"
    },
    "tags": []
   },
   "outputs": [
    {
     "data": {
      "text/plain": [
       "True"
      ]
     },
     "execution_count": 5,
     "metadata": {},
     "output_type": "execute_result"
    }
   ],
   "source": [
    "load_dotenv()"
   ]
  },
  {
   "cell_type": "markdown",
   "id": "674929dc",
   "metadata": {
    "papermill": {
     "duration": 0.005475,
     "end_time": "2025-05-14T16:08:21.284022",
     "exception": false,
     "start_time": "2025-05-14T16:08:21.278547",
     "status": "completed"
    },
    "tags": []
   },
   "source": [
    "# LOAD DATASET"
   ]
  },
  {
   "cell_type": "code",
   "execution_count": 6,
   "id": "d9c86f3d",
   "metadata": {
    "execution": {
     "iopub.execute_input": "2025-05-14T16:08:21.295819Z",
     "iopub.status.busy": "2025-05-14T16:08:21.295569Z",
     "iopub.status.idle": "2025-05-14T16:08:21.554496Z",
     "shell.execute_reply": "2025-05-14T16:08:21.554097Z"
    },
    "papermill": {
     "duration": 0.26617,
     "end_time": "2025-05-14T16:08:21.555699",
     "exception": false,
     "start_time": "2025-05-14T16:08:21.289529",
     "status": "completed"
    },
    "tags": []
   },
   "outputs": [],
   "source": [
    "train_adata = ad.read_h5ad(\n",
    "    here(f'03_downstream_analysis/08_gene_importance/xgboost_external_validation/xgboost_TopN_genes/data_cellTypes/EXTERNAL_{CELL_TYPE}.filtered.log1p.h5ad')\n",
    ")"
   ]
  },
  {
   "cell_type": "code",
   "execution_count": 7,
   "id": "f4409664",
   "metadata": {
    "execution": {
     "iopub.execute_input": "2025-05-14T16:08:21.570219Z",
     "iopub.status.busy": "2025-05-14T16:08:21.569903Z",
     "iopub.status.idle": "2025-05-14T16:08:21.586898Z",
     "shell.execute_reply": "2025-05-14T16:08:21.586483Z"
    },
    "papermill": {
     "duration": 0.024125,
     "end_time": "2025-05-14T16:08:21.587774",
     "exception": false,
     "start_time": "2025-05-14T16:08:21.563649",
     "status": "completed"
    },
    "tags": []
   },
   "outputs": [
    {
     "name": "stdout",
     "output_type": "stream",
     "text": [
      "['ENSG00000138107' 'ENSG00000115073' 'ENSG00000105221' 'ENSG00000117020'\n",
      " 'ENSG00000122359' 'ENSG00000166747' 'ENSG00000072958' 'ENSG00000182287'\n",
      " 'ENSG00000006125' 'ENSG00000161203' 'ENSG00000042753' 'ENSG00000165527'\n",
      " 'ENSG00000111348' 'ENSG00000152219' 'ENSG00000170540' 'ENSG00000144746'\n",
      " 'ENSG00000123268' 'ENSG00000152234' 'ENSG00000099624' 'ENSG00000167283'\n",
      " 'ENSG00000185883' 'ENSG00000113732' 'ENSG00000166710' 'ENSG00000127152'\n",
      " 'ENSG00000133134' 'ENSG00000015475' 'ENSG00000135441' 'ENSG00000133639'\n",
      " 'ENSG00000143110' 'ENSG00000198668' 'ENSG00000143933' 'ENSG00000110395'\n",
      " 'ENSG00000126353' 'ENSG00000104894' 'ENSG00000169442' 'ENSG00000143119'\n",
      " 'ENSG00000135404' 'ENSG00000019582' 'ENSG00000002586' 'ENSG00000118260'\n",
      " 'ENSG00000005339' 'ENSG00000213145' 'ENSG00000101439' 'ENSG00000117984'\n",
      " 'ENSG00000051523' 'ENSG00000104671' 'ENSG00000089737' 'ENSG00000132002'\n",
      " 'ENSG00000079805' 'ENSG00000120129' 'ENSG00000197102' 'ENSG00000088986'\n",
      " 'ENSG00000264364' 'ENSG00000107223' 'ENSG00000254772' 'ENSG00000142227'\n",
      " 'ENSG00000134954' 'ENSG00000170345' 'ENSG00000125740' 'ENSG00000170296'\n",
      " 'ENSG00000090863' 'ENSG00000242616' 'ENSG00000115523' 'ENSG00000177885'\n",
      " 'ENSG00000148834' 'ENSG00000184897' 'ENSG00000132475' 'ENSG00000206503'\n",
      " 'ENSG00000234745' 'ENSG00000231389' 'ENSG00000223865' 'ENSG00000204287'\n",
      " 'ENSG00000196126' 'ENSG00000204592' 'ENSG00000164104' 'ENSG00000108622'\n",
      " 'ENSG00000115738' 'ENSG00000216490' 'ENSG00000126709' 'ENSG00000185885'\n",
      " 'ENSG00000142089' 'ENSG00000142166' 'ENSG00000159110' 'ENSG00000243646'\n",
      " 'ENSG00000147168' 'ENSG00000008517' 'ENSG00000125347' 'ENSG00000213928'\n",
      " 'ENSG00000115232' 'ENSG00000005844' 'ENSG00000136156' 'ENSG00000143543'\n",
      " 'ENSG00000177606' 'ENSG00000171223' 'ENSG00000121774' 'ENSG00000079616'\n",
      " 'ENSG00000068796' 'ENSG00000127528' 'ENSG00000002549' 'ENSG00000111716'\n",
      " 'ENSG00000138795' 'ENSG00000104660' 'ENSG00000203896' 'ENSG00000189067'\n",
      " 'ENSG00000204482' 'ENSG00000090382' 'ENSG00000007264' 'ENSG00000172936'\n",
      " 'ENSG00000152082' 'ENSG00000158517' 'ENSG00000184752' 'ENSG00000066136'\n",
      " 'ENSG00000243678' 'ENSG00000153234' 'ENSG00000169564' 'ENSG00000197111'\n",
      " 'ENSG00000167004' 'ENSG00000078043' 'ENSG00000146278' 'ENSG00000175482'\n",
      " 'ENSG00000125534' 'ENSG00000197746' 'ENSG00000129084' 'ENSG00000106588'\n",
      " 'ENSG00000184007' 'ENSG00000196396' 'ENSG00000175354' 'ENSG00000108774'\n",
      " 'ENSG00000173039' 'ENSG00000219200' 'ENSG00000143546' 'ENSG00000163220'\n",
      " 'ENSG00000170989' 'ENSG00000157020' 'ENSG00000138674' 'ENSG00000140264'\n",
      " 'ENSG00000120742' 'ENSG00000142669' 'ENSG00000183172' 'ENSG00000184557'\n",
      " 'ENSG00000115875' 'ENSG00000168610' 'ENSG00000126561' 'ENSG00000166888'\n",
      " 'ENSG00000168394' 'ENSG00000081059' 'ENSG00000105329' 'ENSG00000104964'\n",
      " 'ENSG00000243749' 'ENSG00000205542' 'ENSG00000239697' 'ENSG00000106952'\n",
      " 'ENSG00000277734' 'ENSG00000009790' 'ENSG00000181029' 'ENSG00000123416'\n",
      " 'ENSG00000265972' 'ENSG00000025708' 'ENSG00000011600' 'ENSG00000244687'\n",
      " 'ENSG00000118640' 'ENSG00000165280' 'ENSG00000105583' 'ENSG00000146457'\n",
      " 'ENSG00000065978' 'ENSG00000185650']\n"
     ]
    }
   ],
   "source": [
    "if SEED != 'all':\n",
    "    gene_subset = np.load(here(f'03_downstream_analysis/08_gene_importance/xgboost_external_validation/shap_gene_selection/gene_subsets_{N_GENES}/{CELL_TYPE}_{SEED}.npy'), allow_pickle=True)\n",
    "    train_adata = train_adata[:,gene_subset]\n",
    "    print(gene_subset)\n",
    "elif SEED == 'all':\n",
    "    print('Using all genes')\n",
    "else:\n",
    "    raise ValueError()"
   ]
  },
  {
   "cell_type": "code",
   "execution_count": 8,
   "id": "af9fee92",
   "metadata": {
    "execution": {
     "iopub.execute_input": "2025-05-14T16:08:21.600382Z",
     "iopub.status.busy": "2025-05-14T16:08:21.600013Z",
     "iopub.status.idle": "2025-05-14T16:08:21.603122Z",
     "shell.execute_reply": "2025-05-14T16:08:21.602803Z"
    },
    "papermill": {
     "duration": 0.010225,
     "end_time": "2025-05-14T16:08:21.603951",
     "exception": false,
     "start_time": "2025-05-14T16:08:21.593726",
     "status": "completed"
    },
    "tags": []
   },
   "outputs": [
    {
     "data": {
      "text/plain": [
       "(37072, 166)"
      ]
     },
     "execution_count": 8,
     "metadata": {},
     "output_type": "execute_result"
    }
   ],
   "source": [
    "train_adata.shape"
   ]
  },
  {
   "cell_type": "code",
   "execution_count": 9,
   "id": "7a0d1979",
   "metadata": {
    "execution": {
     "iopub.execute_input": "2025-05-14T16:08:21.616013Z",
     "iopub.status.busy": "2025-05-14T16:08:21.615823Z",
     "iopub.status.idle": "2025-05-14T16:08:21.619255Z",
     "shell.execute_reply": "2025-05-14T16:08:21.618951Z"
    },
    "papermill": {
     "duration": 0.010298,
     "end_time": "2025-05-14T16:08:21.620065",
     "exception": false,
     "start_time": "2025-05-14T16:08:21.609767",
     "status": "completed"
    },
    "tags": []
   },
   "outputs": [
    {
     "data": {
      "text/plain": [
       "['RA', 'COVID', 'healthy', 'HIV', 'cirrhosis', 'CD', 'SLE', 'sepsis']\n",
       "Categories (8, object): ['CD', 'COVID', 'HIV', 'RA', 'SLE', 'cirrhosis', 'healthy', 'sepsis']"
      ]
     },
     "execution_count": 9,
     "metadata": {},
     "output_type": "execute_result"
    }
   ],
   "source": [
    "train_adata.obs.disease.unique()"
   ]
  },
  {
   "cell_type": "code",
   "execution_count": 10,
   "id": "7bd796cf",
   "metadata": {
    "execution": {
     "iopub.execute_input": "2025-05-14T16:08:21.638419Z",
     "iopub.status.busy": "2025-05-14T16:08:21.638189Z",
     "iopub.status.idle": "2025-05-14T16:08:21.641461Z",
     "shell.execute_reply": "2025-05-14T16:08:21.641157Z"
    },
    "papermill": {
     "duration": 0.010233,
     "end_time": "2025-05-14T16:08:21.642349",
     "exception": false,
     "start_time": "2025-05-14T16:08:21.632116",
     "status": "completed"
    },
    "tags": []
   },
   "outputs": [
    {
     "data": {
      "text/plain": [
       "['SCGT00val_I036024_T0', 'SCGT00val_I0364_T0', 'SCGT00val_I036019_T0', 'SCGT00val_I036028_T0', 'SCGT00val_I036021_T0', ..., '10XGenomics_10XHC2_T0', '10XGenomics_10XHC3_T0', '10XGenomics_10XHC5_T0', '10XGenomics_10XHC7_T0', '10XGenomics_10XHC8_T0']\n",
       "Length: 86\n",
       "Categories (86, object): ['10XGenomics_10XHC1_T0', '10XGenomics_10XHC2_T0', '10XGenomics_10XHC3_T0', '10XGenomics_10XHC4_T0', ..., 'Savage2021_BRISL6_T0', 'Savage2021_BRISL7_T0', 'Savage2021_PIDA_T0', 'Savage2021_PIDB_T0']"
      ]
     },
     "execution_count": 10,
     "metadata": {},
     "output_type": "execute_result"
    }
   ],
   "source": [
    "train_adata.obs.sampleID.unique()"
   ]
  },
  {
   "cell_type": "code",
   "execution_count": 11,
   "id": "fa45d45f",
   "metadata": {
    "execution": {
     "iopub.execute_input": "2025-05-14T16:08:21.655327Z",
     "iopub.status.busy": "2025-05-14T16:08:21.655160Z",
     "iopub.status.idle": "2025-05-14T16:08:21.760802Z",
     "shell.execute_reply": "2025-05-14T16:08:21.760401Z"
    },
    "papermill": {
     "duration": 0.113215,
     "end_time": "2025-05-14T16:08:21.761800",
     "exception": false,
     "start_time": "2025-05-14T16:08:21.648585",
     "status": "completed"
    },
    "tags": []
   },
   "outputs": [],
   "source": [
    "all_idxs = np.arange(train_adata.obs.shape[0])\n",
    "left_out_splits = [s[1] for s in StratifiedGroupKFold(n_splits=N_SPLITS).split(all_idxs, train_adata.obs.disease, train_adata.obs.sampleID)]"
   ]
  },
  {
   "cell_type": "code",
   "execution_count": 12,
   "id": "af551195",
   "metadata": {
    "execution": {
     "iopub.execute_input": "2025-05-14T16:08:21.787025Z",
     "iopub.status.busy": "2025-05-14T16:08:21.786814Z",
     "iopub.status.idle": "2025-05-14T16:08:21.790166Z",
     "shell.execute_reply": "2025-05-14T16:08:21.789843Z"
    },
    "papermill": {
     "duration": 0.010881,
     "end_time": "2025-05-14T16:08:21.790950",
     "exception": false,
     "start_time": "2025-05-14T16:08:21.780069",
     "status": "completed"
    },
    "tags": []
   },
   "outputs": [
    {
     "data": {
      "text/plain": [
       "([0, 1, 4], 3, 2)"
      ]
     },
     "execution_count": 12,
     "metadata": {},
     "output_type": "execute_result"
    }
   ],
   "source": [
    "TRAIN_SPLIT_IDXS = [0,1,2,3,4]\n",
    "VAL_SPLIT_IDX = (TEST_SPLIT_IDX + 1) % 5\n",
    "TRAIN_SPLIT_IDXS.remove(TEST_SPLIT_IDX)\n",
    "TRAIN_SPLIT_IDXS.remove(VAL_SPLIT_IDX)\n",
    "TRAIN_SPLIT_IDXS, VAL_SPLIT_IDX, TEST_SPLIT_IDX"
   ]
  },
  {
   "cell_type": "code",
   "execution_count": 13,
   "id": "6c53e5b2",
   "metadata": {
    "execution": {
     "iopub.execute_input": "2025-05-14T16:08:21.803148Z",
     "iopub.status.busy": "2025-05-14T16:08:21.802892Z",
     "iopub.status.idle": "2025-05-14T16:08:21.805208Z",
     "shell.execute_reply": "2025-05-14T16:08:21.804912Z"
    },
    "papermill": {
     "duration": 0.009388,
     "end_time": "2025-05-14T16:08:21.806090",
     "exception": false,
     "start_time": "2025-05-14T16:08:21.796702",
     "status": "completed"
    },
    "tags": []
   },
   "outputs": [],
   "source": [
    "train_idxs = np.concatenate([left_out_splits[idx] for idx in TRAIN_SPLIT_IDXS])\n",
    "val_idxs = left_out_splits[VAL_SPLIT_IDX]\n",
    "test_idxs = left_out_splits[TEST_SPLIT_IDX]"
   ]
  },
  {
   "cell_type": "markdown",
   "id": "f8e9277f",
   "metadata": {
    "papermill": {
     "duration": 0.005701,
     "end_time": "2025-05-14T16:08:21.817651",
     "exception": false,
     "start_time": "2025-05-14T16:08:21.811950",
     "status": "completed"
    },
    "tags": []
   },
   "source": [
    "### SUBSET DATASET INTO TRAIN/TEST/VAL SPLITS"
   ]
  },
  {
   "cell_type": "code",
   "execution_count": 14,
   "id": "c369c635",
   "metadata": {
    "execution": {
     "iopub.execute_input": "2025-05-14T16:08:21.830103Z",
     "iopub.status.busy": "2025-05-14T16:08:21.829920Z",
     "iopub.status.idle": "2025-05-14T16:08:21.972394Z",
     "shell.execute_reply": "2025-05-14T16:08:21.972040Z"
    },
    "papermill": {
     "duration": 0.149721,
     "end_time": "2025-05-14T16:08:21.973305",
     "exception": false,
     "start_time": "2025-05-14T16:08:21.823584",
     "status": "completed"
    },
    "tags": []
   },
   "outputs": [
    {
     "data": {
      "text/plain": [
       "((22727, 166), (6859, 166), (7486, 166))"
      ]
     },
     "execution_count": 14,
     "metadata": {},
     "output_type": "execute_result"
    }
   ],
   "source": [
    "X_train = train_adata.X[train_idxs]\n",
    "X_test = train_adata.X[test_idxs]\n",
    "X_val = train_adata.X[val_idxs]\n",
    "X_train.shape, X_test.shape, X_val.shape"
   ]
  },
  {
   "cell_type": "code",
   "execution_count": 15,
   "id": "ac77ee91",
   "metadata": {
    "execution": {
     "iopub.execute_input": "2025-05-14T16:08:21.986400Z",
     "iopub.status.busy": "2025-05-14T16:08:21.986212Z",
     "iopub.status.idle": "2025-05-14T16:08:21.993551Z",
     "shell.execute_reply": "2025-05-14T16:08:21.993190Z"
    },
    "papermill": {
     "duration": 0.014736,
     "end_time": "2025-05-14T16:08:21.994427",
     "exception": false,
     "start_time": "2025-05-14T16:08:21.979691",
     "status": "completed"
    },
    "tags": []
   },
   "outputs": [
    {
     "data": {
      "text/plain": [
       "((22727,), (6859,), (7486,))"
      ]
     },
     "execution_count": 15,
     "metadata": {},
     "output_type": "execute_result"
    }
   ],
   "source": [
    "y_train = train_adata.obs.iloc[train_idxs].disease.values.astype(str)\n",
    "y_test = train_adata.obs.iloc[test_idxs].disease.values.astype(str)\n",
    "y_val = train_adata.obs.iloc[val_idxs].disease.values.astype(str)\n",
    "y_train.shape, y_test.shape, y_val.shape"
   ]
  },
  {
   "cell_type": "code",
   "execution_count": 16,
   "id": "817a53cb",
   "metadata": {
    "execution": {
     "iopub.execute_input": "2025-05-14T16:08:22.017695Z",
     "iopub.status.busy": "2025-05-14T16:08:22.017484Z",
     "iopub.status.idle": "2025-05-14T16:08:22.026911Z",
     "shell.execute_reply": "2025-05-14T16:08:22.026613Z"
    },
    "papermill": {
     "duration": 0.017102,
     "end_time": "2025-05-14T16:08:22.027773",
     "exception": false,
     "start_time": "2025-05-14T16:08:22.010671",
     "status": "completed"
    },
    "tags": []
   },
   "outputs": [],
   "source": [
    "lenc = LabelEncoder()\n",
    "y_train_enc = lenc.fit_transform(y_train)\n",
    "y_val_enc = lenc.transform(y_val)\n",
    "y_test_enc = lenc.transform(y_test)"
   ]
  },
  {
   "cell_type": "markdown",
   "id": "9efb110f",
   "metadata": {
    "papermill": {
     "duration": 0.005816,
     "end_time": "2025-05-14T16:08:22.039403",
     "exception": false,
     "start_time": "2025-05-14T16:08:22.033587",
     "status": "completed"
    },
    "tags": []
   },
   "source": [
    "### GENERATE F1 "
   ]
  },
  {
   "cell_type": "code",
   "execution_count": 17,
   "id": "95851ff8",
   "metadata": {
    "execution": {
     "iopub.execute_input": "2025-05-14T16:08:22.052275Z",
     "iopub.status.busy": "2025-05-14T16:08:22.051862Z",
     "iopub.status.idle": "2025-05-14T16:08:22.054185Z",
     "shell.execute_reply": "2025-05-14T16:08:22.053881Z"
    },
    "papermill": {
     "duration": 0.009565,
     "end_time": "2025-05-14T16:08:22.054955",
     "exception": false,
     "start_time": "2025-05-14T16:08:22.045390",
     "status": "completed"
    },
    "tags": []
   },
   "outputs": [],
   "source": [
    "def custom_f1_score(y_true, y_pred):\n",
    "    return -f1_score(y_true, y_pred.argmax(1), average='weighted')"
   ]
  },
  {
   "cell_type": "code",
   "execution_count": 18,
   "id": "ea959371",
   "metadata": {
    "execution": {
     "iopub.execute_input": "2025-05-14T16:08:22.067447Z",
     "iopub.status.busy": "2025-05-14T16:08:22.067059Z",
     "iopub.status.idle": "2025-05-14T16:08:22.070992Z",
     "shell.execute_reply": "2025-05-14T16:08:22.070648Z"
    },
    "papermill": {
     "duration": 0.011186,
     "end_time": "2025-05-14T16:08:22.071922",
     "exception": false,
     "start_time": "2025-05-14T16:08:22.060736",
     "status": "completed"
    },
    "tags": []
   },
   "outputs": [],
   "source": [
    "eval_metric=custom_f1_score\n",
    "eval_metric_name='custom_f1_score'\n",
    "\n",
    "def objective(trial):\n",
    "    params = {\n",
    "        'n_estimators': 1500,\n",
    "        'max_depth': trial.suggest_int('max_depth', 3, 20),\n",
    "        'min_child_weight': trial.suggest_int('min_child_weight', 1, 250),\n",
    "        'subsample': trial.suggest_float('subsample', 0.1, 1.0),\n",
    "        'colsample_bynode': trial.suggest_float('colsample_bynode', 0.1, 1.0),\n",
    "        'learning_rate': trial.suggest_float('learning_rate', 1e-3, 5e-1, log=True),\n",
    "    }\n",
    "    pruning_callback = optuna.integration.XGBoostPruningCallback(trial, f'validation_0-{eval_metric_name}')\n",
    "    es_callback = xgboost.callback.EarlyStopping(20, min_delta=0.001)\n",
    "    xgb = xgboost.XGBClassifier(\n",
    "        eval_metric=eval_metric,\n",
    "        callbacks=[pruning_callback, es_callback],\n",
    "        n_jobs=5,\n",
    "        **params\n",
    "    )\n",
    "    xgb.fit(\n",
    "        X_train, \n",
    "        y_train_enc, \n",
    "        verbose=0,\n",
    "        eval_set=[(X_val, y_val_enc)],\n",
    "    )\n",
    "    trial.set_user_attr('best_iteration', xgb.best_iteration)\n",
    "\n",
    "    return xgb.best_score"
   ]
  },
  {
   "cell_type": "code",
   "execution_count": 19,
   "id": "bd586708",
   "metadata": {
    "execution": {
     "iopub.execute_input": "2025-05-14T16:08:22.084749Z",
     "iopub.status.busy": "2025-05-14T16:08:22.084532Z",
     "iopub.status.idle": "2025-05-14T16:11:43.270435Z",
     "shell.execute_reply": "2025-05-14T16:11:43.269827Z"
    },
    "papermill": {
     "duration": 201.193669,
     "end_time": "2025-05-14T16:11:43.271623",
     "exception": false,
     "start_time": "2025-05-14T16:08:22.077954",
     "status": "completed"
    },
    "scrolled": true,
    "tags": []
   },
   "outputs": [
    {
     "name": "stderr",
     "output_type": "stream",
     "text": [
      "[I 2025-05-14 18:08:22,086] A new study created in memory with name: no-name-bb34d9c0-6b4f-4204-976b-733022c4efb9\n"
     ]
    },
    {
     "name": "stderr",
     "output_type": "stream",
     "text": [
      "[I 2025-05-14 18:08:26,190] Trial 0 finished with value: -0.606495 and parameters: {'max_depth': 9, 'min_child_weight': 238, 'subsample': 0.7587945476302645, 'colsample_bynode': 0.6387926357773329, 'learning_rate': 0.0026368755339723046}. Best is trial 0 with value: -0.606495.\n"
     ]
    },
    {
     "name": "stderr",
     "output_type": "stream",
     "text": [
      "[I 2025-05-14 18:08:46,103] Trial 1 finished with value: -0.791569 and parameters: {'max_depth': 5, 'min_child_weight': 15, 'subsample': 0.8795585311974417, 'colsample_bynode': 0.6410035105688879, 'learning_rate': 0.08148293210105287}. Best is trial 1 with value: -0.791569.\n"
     ]
    },
    {
     "name": "stderr",
     "output_type": "stream",
     "text": [
      "[I 2025-05-14 18:08:47,638] Trial 2 finished with value: -0.571303 and parameters: {'max_depth': 3, 'min_child_weight': 243, 'subsample': 0.8491983767203796, 'colsample_bynode': 0.29110519961044856, 'learning_rate': 0.003095566460242371}. Best is trial 1 with value: -0.791569.\n"
     ]
    },
    {
     "name": "stderr",
     "output_type": "stream",
     "text": [
      "[I 2025-05-14 18:08:50,257] Trial 3 finished with value: -0.651782 and parameters: {'max_depth': 6, 'min_child_weight': 77, 'subsample': 0.5722807884690141, 'colsample_bynode': 0.48875051677790415, 'learning_rate': 0.006109683510122491}. Best is trial 1 with value: -0.791569.\n"
     ]
    },
    {
     "name": "stderr",
     "output_type": "stream",
     "text": [
      "[I 2025-05-14 18:08:52,783] Trial 4 finished with value: -0.687457 and parameters: {'max_depth': 14, 'min_child_weight': 35, 'subsample': 0.3629301836816964, 'colsample_bynode': 0.4297256589643226, 'learning_rate': 0.01701841881702917}. Best is trial 1 with value: -0.791569.\n"
     ]
    },
    {
     "name": "stderr",
     "output_type": "stream",
     "text": [
      "[I 2025-05-14 18:08:56,464] Trial 5 pruned. Trial was pruned at iteration 30.\n"
     ]
    },
    {
     "name": "stderr",
     "output_type": "stream",
     "text": [
      "[I 2025-05-14 18:09:01,368] Trial 6 finished with value: -0.768628 and parameters: {'max_depth': 13, 'min_child_weight': 43, 'subsample': 0.1585464336867516, 'colsample_bynode': 0.9539969835279999, 'learning_rate': 0.4038423798071558}. Best is trial 1 with value: -0.791569.\n"
     ]
    },
    {
     "name": "stderr",
     "output_type": "stream",
     "text": [
      "[I 2025-05-14 18:09:01,693] Trial 7 pruned. Trial was pruned at iteration 0.\n"
     ]
    },
    {
     "name": "stderr",
     "output_type": "stream",
     "text": [
      "[I 2025-05-14 18:09:02,006] Trial 8 pruned. Trial was pruned at iteration 0.\n"
     ]
    },
    {
     "name": "stderr",
     "output_type": "stream",
     "text": [
      "[I 2025-05-14 18:09:02,469] Trial 9 pruned. Trial was pruned at iteration 1.\n"
     ]
    },
    {
     "name": "stderr",
     "output_type": "stream",
     "text": [
      "[I 2025-05-14 18:09:18,076] Trial 10 finished with value: -0.78184 and parameters: {'max_depth': 9, 'min_child_weight': 2, 'subsample': 0.9725833997090791, 'colsample_bynode': 0.11616568805333755, 'learning_rate': 0.17780618353487967}. Best is trial 1 with value: -0.791569.\n"
     ]
    },
    {
     "name": "stderr",
     "output_type": "stream",
     "text": [
      "[I 2025-05-14 18:09:33,033] Trial 11 finished with value: -0.785292 and parameters: {'max_depth': 9, 'min_child_weight': 4, 'subsample': 0.9818290990185045, 'colsample_bynode': 0.17702656156719, 'learning_rate': 0.11568531411766632}. Best is trial 1 with value: -0.791569.\n"
     ]
    },
    {
     "name": "stderr",
     "output_type": "stream",
     "text": [
      "[I 2025-05-14 18:09:39,187] Trial 12 pruned. Trial was pruned at iteration 27.\n"
     ]
    },
    {
     "name": "stderr",
     "output_type": "stream",
     "text": [
      "[I 2025-05-14 18:09:39,558] Trial 13 pruned. Trial was pruned at iteration 0.\n"
     ]
    },
    {
     "name": "stderr",
     "output_type": "stream",
     "text": [
      "[I 2025-05-14 18:09:39,918] Trial 14 pruned. Trial was pruned at iteration 0.\n"
     ]
    },
    {
     "name": "stderr",
     "output_type": "stream",
     "text": [
      "[I 2025-05-14 18:09:59,647] Trial 15 finished with value: -0.786913 and parameters: {'max_depth': 20, 'min_child_weight': 1, 'subsample': 0.7012908959710442, 'colsample_bynode': 0.2540835086298475, 'learning_rate': 0.2833114876720916}. Best is trial 1 with value: -0.791569.\n"
     ]
    },
    {
     "name": "stderr",
     "output_type": "stream",
     "text": [
      "[I 2025-05-14 18:10:00,006] Trial 16 pruned. Trial was pruned at iteration 0.\n"
     ]
    },
    {
     "name": "stderr",
     "output_type": "stream",
     "text": [
      "[I 2025-05-14 18:10:00,347] Trial 17 pruned. Trial was pruned at iteration 0.\n"
     ]
    },
    {
     "name": "stderr",
     "output_type": "stream",
     "text": [
      "[I 2025-05-14 18:10:11,515] Trial 18 finished with value: -0.798336 and parameters: {'max_depth': 17, 'min_child_weight': 37, 'subsample': 0.6985649591979675, 'colsample_bynode': 0.4599826294453433, 'learning_rate': 0.23729000655414553}. Best is trial 18 with value: -0.798336.\n"
     ]
    },
    {
     "name": "stderr",
     "output_type": "stream",
     "text": [
      "[I 2025-05-14 18:10:11,895] Trial 19 pruned. Trial was pruned at iteration 0.\n"
     ]
    },
    {
     "name": "stderr",
     "output_type": "stream",
     "text": [
      "[I 2025-05-14 18:10:15,695] Trial 20 pruned. Trial was pruned at iteration 27.\n"
     ]
    },
    {
     "name": "stderr",
     "output_type": "stream",
     "text": [
      "[I 2025-05-14 18:10:24,515] Trial 21 finished with value: -0.79782 and parameters: {'max_depth': 18, 'min_child_weight': 25, 'subsample': 0.6883148261714448, 'colsample_bynode': 0.2533319273785757, 'learning_rate': 0.29197717699486075}. Best is trial 18 with value: -0.798336.\n"
     ]
    },
    {
     "name": "stderr",
     "output_type": "stream",
     "text": [
      "[I 2025-05-14 18:10:24,910] Trial 22 pruned. Trial was pruned at iteration 0.\n"
     ]
    },
    {
     "name": "stderr",
     "output_type": "stream",
     "text": [
      "[I 2025-05-14 18:10:32,760] Trial 23 finished with value: -0.787254 and parameters: {'max_depth': 18, 'min_child_weight': 25, 'subsample': 0.7662937136134971, 'colsample_bynode': 0.5245439853781069, 'learning_rate': 0.2870964669525365}. Best is trial 18 with value: -0.798336.\n"
     ]
    },
    {
     "name": "stderr",
     "output_type": "stream",
     "text": [
      "[I 2025-05-14 18:10:33,111] Trial 24 pruned. Trial was pruned at iteration 0.\n"
     ]
    },
    {
     "name": "stderr",
     "output_type": "stream",
     "text": [
      "[I 2025-05-14 18:10:33,431] Trial 25 pruned. Trial was pruned at iteration 0.\n"
     ]
    },
    {
     "name": "stderr",
     "output_type": "stream",
     "text": [
      "[I 2025-05-14 18:10:33,778] Trial 26 pruned. Trial was pruned at iteration 0.\n"
     ]
    },
    {
     "name": "stderr",
     "output_type": "stream",
     "text": [
      "[I 2025-05-14 18:10:34,125] Trial 27 pruned. Trial was pruned at iteration 0.\n"
     ]
    },
    {
     "name": "stderr",
     "output_type": "stream",
     "text": [
      "[I 2025-05-14 18:10:36,519] Trial 28 pruned. Trial was pruned at iteration 9.\n"
     ]
    },
    {
     "name": "stderr",
     "output_type": "stream",
     "text": [
      "[I 2025-05-14 18:10:36,871] Trial 29 pruned. Trial was pruned at iteration 0.\n"
     ]
    },
    {
     "name": "stderr",
     "output_type": "stream",
     "text": [
      "[I 2025-05-14 18:10:37,290] Trial 30 pruned. Trial was pruned at iteration 0.\n"
     ]
    },
    {
     "name": "stderr",
     "output_type": "stream",
     "text": [
      "[I 2025-05-14 18:10:52,000] Trial 31 finished with value: -0.797762 and parameters: {'max_depth': 18, 'min_child_weight': 20, 'subsample': 0.768652213306744, 'colsample_bynode': 0.5185223239463752, 'learning_rate': 0.2503310312358838}. Best is trial 18 with value: -0.798336.\n"
     ]
    },
    {
     "name": "stderr",
     "output_type": "stream",
     "text": [
      "[I 2025-05-14 18:10:52,380] Trial 32 pruned. Trial was pruned at iteration 0.\n"
     ]
    },
    {
     "name": "stderr",
     "output_type": "stream",
     "text": [
      "[I 2025-05-14 18:10:56,169] Trial 33 pruned. Trial was pruned at iteration 18.\n"
     ]
    },
    {
     "name": "stderr",
     "output_type": "stream",
     "text": [
      "[I 2025-05-14 18:10:56,597] Trial 34 pruned. Trial was pruned at iteration 0.\n"
     ]
    },
    {
     "name": "stderr",
     "output_type": "stream",
     "text": [
      "[I 2025-05-14 18:10:56,925] Trial 35 pruned. Trial was pruned at iteration 0.\n"
     ]
    },
    {
     "name": "stderr",
     "output_type": "stream",
     "text": [
      "[I 2025-05-14 18:10:57,315] Trial 36 pruned. Trial was pruned at iteration 0.\n"
     ]
    },
    {
     "name": "stderr",
     "output_type": "stream",
     "text": [
      "[I 2025-05-14 18:10:57,669] Trial 37 pruned. Trial was pruned at iteration 0.\n"
     ]
    },
    {
     "name": "stderr",
     "output_type": "stream",
     "text": [
      "[I 2025-05-14 18:10:58,009] Trial 38 pruned. Trial was pruned at iteration 0.\n"
     ]
    },
    {
     "name": "stderr",
     "output_type": "stream",
     "text": [
      "[I 2025-05-14 18:10:58,417] Trial 39 pruned. Trial was pruned at iteration 0.\n"
     ]
    },
    {
     "name": "stderr",
     "output_type": "stream",
     "text": [
      "[I 2025-05-14 18:10:58,953] Trial 40 pruned. Trial was pruned at iteration 1.\n"
     ]
    },
    {
     "name": "stderr",
     "output_type": "stream",
     "text": [
      "[I 2025-05-14 18:11:10,906] Trial 41 pruned. Trial was pruned at iteration 100.\n"
     ]
    },
    {
     "name": "stderr",
     "output_type": "stream",
     "text": [
      "[I 2025-05-14 18:11:11,329] Trial 42 pruned. Trial was pruned at iteration 0.\n"
     ]
    },
    {
     "name": "stderr",
     "output_type": "stream",
     "text": [
      "[I 2025-05-14 18:11:23,365] Trial 43 finished with value: -0.792039 and parameters: {'max_depth': 15, 'min_child_weight': 13, 'subsample': 0.7283309101041259, 'colsample_bynode': 0.5535695487026262, 'learning_rate': 0.22902666062022692}. Best is trial 18 with value: -0.798336.\n"
     ]
    },
    {
     "name": "stderr",
     "output_type": "stream",
     "text": [
      "[I 2025-05-14 18:11:29,089] Trial 44 pruned. Trial was pruned at iteration 23.\n"
     ]
    },
    {
     "name": "stderr",
     "output_type": "stream",
     "text": [
      "[I 2025-05-14 18:11:35,979] Trial 45 pruned. Trial was pruned at iteration 30.\n"
     ]
    },
    {
     "name": "stderr",
     "output_type": "stream",
     "text": [
      "[I 2025-05-14 18:11:36,515] Trial 46 pruned. Trial was pruned at iteration 1.\n"
     ]
    },
    {
     "name": "stderr",
     "output_type": "stream",
     "text": [
      "[I 2025-05-14 18:11:36,906] Trial 47 pruned. Trial was pruned at iteration 0.\n"
     ]
    },
    {
     "name": "stderr",
     "output_type": "stream",
     "text": [
      "[I 2025-05-14 18:11:37,264] Trial 48 pruned. Trial was pruned at iteration 0.\n"
     ]
    },
    {
     "name": "stderr",
     "output_type": "stream",
     "text": [
      "[I 2025-05-14 18:11:43,118] Trial 49 pruned. Trial was pruned at iteration 14.\n"
     ]
    }
   ],
   "source": [
    "sampler = optuna.samplers.TPESampler(seed=42)\n",
    "study = optuna.create_study(direction='minimize', sampler=sampler)\n",
    "study.optimize(objective, n_trials=N_TRIALS, gc_after_trial=True)"
   ]
  },
  {
   "cell_type": "code",
   "execution_count": 20,
   "id": "ad8048a6",
   "metadata": {
    "execution": {
     "iopub.execute_input": "2025-05-14T16:11:43.291804Z",
     "iopub.status.busy": "2025-05-14T16:11:43.291391Z",
     "iopub.status.idle": "2025-05-14T16:11:43.329206Z",
     "shell.execute_reply": "2025-05-14T16:11:43.328755Z"
    },
    "papermill": {
     "duration": 0.047849,
     "end_time": "2025-05-14T16:11:43.330177",
     "exception": false,
     "start_time": "2025-05-14T16:11:43.282328",
     "status": "completed"
    },
    "tags": []
   },
   "outputs": [
    {
     "data": {
      "text/plain": [
       "['/scratch_isilon/groups/singlecell/shared/projects/Inflammation-PBMCs-Atlas/03_downstream_analysis/08_gene_importance/xgboost_external_validation/xgboost_TopN_genes/results_20/study/T_CD8_Naive_shap_studyID_2_xgboost.pkl']"
      ]
     },
     "execution_count": 20,
     "metadata": {},
     "output_type": "execute_result"
    }
   ],
   "source": [
    "out_dir = here(f'03_downstream_analysis/08_gene_importance/xgboost_external_validation/xgboost_TopN_genes/results_{N_GENES}/study')\n",
    "\n",
    "if not os.path.exists(out_dir):\n",
    "    os.makedirs(out_dir)\n",
    "    \n",
    "joblib.dump(study,os.path.join(out_dir, f'{CELL_TYPE}_{SEED}_{TEST_SPLIT_IDX}_xgboost.pkl'))"
   ]
  },
  {
   "cell_type": "code",
   "execution_count": 21,
   "id": "447c30b8",
   "metadata": {
    "execution": {
     "iopub.execute_input": "2025-05-14T16:11:43.346995Z",
     "iopub.status.busy": "2025-05-14T16:11:43.346824Z",
     "iopub.status.idle": "2025-05-14T16:11:51.083335Z",
     "shell.execute_reply": "2025-05-14T16:11:51.082793Z"
    },
    "papermill": {
     "duration": 7.746479,
     "end_time": "2025-05-14T16:11:51.084499",
     "exception": false,
     "start_time": "2025-05-14T16:11:43.338020",
     "status": "completed"
    },
    "tags": []
   },
   "outputs": [
    {
     "data": {
      "text/html": [
       "<style>#sk-container-id-1 {\n",
       "  /* Definition of color scheme common for light and dark mode */\n",
       "  --sklearn-color-text: black;\n",
       "  --sklearn-color-line: gray;\n",
       "  /* Definition of color scheme for unfitted estimators */\n",
       "  --sklearn-color-unfitted-level-0: #fff5e6;\n",
       "  --sklearn-color-unfitted-level-1: #f6e4d2;\n",
       "  --sklearn-color-unfitted-level-2: #ffe0b3;\n",
       "  --sklearn-color-unfitted-level-3: chocolate;\n",
       "  /* Definition of color scheme for fitted estimators */\n",
       "  --sklearn-color-fitted-level-0: #f0f8ff;\n",
       "  --sklearn-color-fitted-level-1: #d4ebff;\n",
       "  --sklearn-color-fitted-level-2: #b3dbfd;\n",
       "  --sklearn-color-fitted-level-3: cornflowerblue;\n",
       "\n",
       "  /* Specific color for light theme */\n",
       "  --sklearn-color-text-on-default-background: var(--sg-text-color, var(--theme-code-foreground, var(--jp-content-font-color1, black)));\n",
       "  --sklearn-color-background: var(--sg-background-color, var(--theme-background, var(--jp-layout-color0, white)));\n",
       "  --sklearn-color-border-box: var(--sg-text-color, var(--theme-code-foreground, var(--jp-content-font-color1, black)));\n",
       "  --sklearn-color-icon: #696969;\n",
       "\n",
       "  @media (prefers-color-scheme: dark) {\n",
       "    /* Redefinition of color scheme for dark theme */\n",
       "    --sklearn-color-text-on-default-background: var(--sg-text-color, var(--theme-code-foreground, var(--jp-content-font-color1, white)));\n",
       "    --sklearn-color-background: var(--sg-background-color, var(--theme-background, var(--jp-layout-color0, #111)));\n",
       "    --sklearn-color-border-box: var(--sg-text-color, var(--theme-code-foreground, var(--jp-content-font-color1, white)));\n",
       "    --sklearn-color-icon: #878787;\n",
       "  }\n",
       "}\n",
       "\n",
       "#sk-container-id-1 {\n",
       "  color: var(--sklearn-color-text);\n",
       "}\n",
       "\n",
       "#sk-container-id-1 pre {\n",
       "  padding: 0;\n",
       "}\n",
       "\n",
       "#sk-container-id-1 input.sk-hidden--visually {\n",
       "  border: 0;\n",
       "  clip: rect(1px 1px 1px 1px);\n",
       "  clip: rect(1px, 1px, 1px, 1px);\n",
       "  height: 1px;\n",
       "  margin: -1px;\n",
       "  overflow: hidden;\n",
       "  padding: 0;\n",
       "  position: absolute;\n",
       "  width: 1px;\n",
       "}\n",
       "\n",
       "#sk-container-id-1 div.sk-dashed-wrapped {\n",
       "  border: 1px dashed var(--sklearn-color-line);\n",
       "  margin: 0 0.4em 0.5em 0.4em;\n",
       "  box-sizing: border-box;\n",
       "  padding-bottom: 0.4em;\n",
       "  background-color: var(--sklearn-color-background);\n",
       "}\n",
       "\n",
       "#sk-container-id-1 div.sk-container {\n",
       "  /* jupyter's `normalize.less` sets `[hidden] { display: none; }`\n",
       "     but bootstrap.min.css set `[hidden] { display: none !important; }`\n",
       "     so we also need the `!important` here to be able to override the\n",
       "     default hidden behavior on the sphinx rendered scikit-learn.org.\n",
       "     See: https://github.com/scikit-learn/scikit-learn/issues/21755 */\n",
       "  display: inline-block !important;\n",
       "  position: relative;\n",
       "}\n",
       "\n",
       "#sk-container-id-1 div.sk-text-repr-fallback {\n",
       "  display: none;\n",
       "}\n",
       "\n",
       "div.sk-parallel-item,\n",
       "div.sk-serial,\n",
       "div.sk-item {\n",
       "  /* draw centered vertical line to link estimators */\n",
       "  background-image: linear-gradient(var(--sklearn-color-text-on-default-background), var(--sklearn-color-text-on-default-background));\n",
       "  background-size: 2px 100%;\n",
       "  background-repeat: no-repeat;\n",
       "  background-position: center center;\n",
       "}\n",
       "\n",
       "/* Parallel-specific style estimator block */\n",
       "\n",
       "#sk-container-id-1 div.sk-parallel-item::after {\n",
       "  content: \"\";\n",
       "  width: 100%;\n",
       "  border-bottom: 2px solid var(--sklearn-color-text-on-default-background);\n",
       "  flex-grow: 1;\n",
       "}\n",
       "\n",
       "#sk-container-id-1 div.sk-parallel {\n",
       "  display: flex;\n",
       "  align-items: stretch;\n",
       "  justify-content: center;\n",
       "  background-color: var(--sklearn-color-background);\n",
       "  position: relative;\n",
       "}\n",
       "\n",
       "#sk-container-id-1 div.sk-parallel-item {\n",
       "  display: flex;\n",
       "  flex-direction: column;\n",
       "}\n",
       "\n",
       "#sk-container-id-1 div.sk-parallel-item:first-child::after {\n",
       "  align-self: flex-end;\n",
       "  width: 50%;\n",
       "}\n",
       "\n",
       "#sk-container-id-1 div.sk-parallel-item:last-child::after {\n",
       "  align-self: flex-start;\n",
       "  width: 50%;\n",
       "}\n",
       "\n",
       "#sk-container-id-1 div.sk-parallel-item:only-child::after {\n",
       "  width: 0;\n",
       "}\n",
       "\n",
       "/* Serial-specific style estimator block */\n",
       "\n",
       "#sk-container-id-1 div.sk-serial {\n",
       "  display: flex;\n",
       "  flex-direction: column;\n",
       "  align-items: center;\n",
       "  background-color: var(--sklearn-color-background);\n",
       "  padding-right: 1em;\n",
       "  padding-left: 1em;\n",
       "}\n",
       "\n",
       "\n",
       "/* Toggleable style: style used for estimator/Pipeline/ColumnTransformer box that is\n",
       "clickable and can be expanded/collapsed.\n",
       "- Pipeline and ColumnTransformer use this feature and define the default style\n",
       "- Estimators will overwrite some part of the style using the `sk-estimator` class\n",
       "*/\n",
       "\n",
       "/* Pipeline and ColumnTransformer style (default) */\n",
       "\n",
       "#sk-container-id-1 div.sk-toggleable {\n",
       "  /* Default theme specific background. It is overwritten whether we have a\n",
       "  specific estimator or a Pipeline/ColumnTransformer */\n",
       "  background-color: var(--sklearn-color-background);\n",
       "}\n",
       "\n",
       "/* Toggleable label */\n",
       "#sk-container-id-1 label.sk-toggleable__label {\n",
       "  cursor: pointer;\n",
       "  display: block;\n",
       "  width: 100%;\n",
       "  margin-bottom: 0;\n",
       "  padding: 0.5em;\n",
       "  box-sizing: border-box;\n",
       "  text-align: center;\n",
       "}\n",
       "\n",
       "#sk-container-id-1 label.sk-toggleable__label-arrow:before {\n",
       "  /* Arrow on the left of the label */\n",
       "  content: \"▸\";\n",
       "  float: left;\n",
       "  margin-right: 0.25em;\n",
       "  color: var(--sklearn-color-icon);\n",
       "}\n",
       "\n",
       "#sk-container-id-1 label.sk-toggleable__label-arrow:hover:before {\n",
       "  color: var(--sklearn-color-text);\n",
       "}\n",
       "\n",
       "/* Toggleable content - dropdown */\n",
       "\n",
       "#sk-container-id-1 div.sk-toggleable__content {\n",
       "  max-height: 0;\n",
       "  max-width: 0;\n",
       "  overflow: hidden;\n",
       "  text-align: left;\n",
       "  /* unfitted */\n",
       "  background-color: var(--sklearn-color-unfitted-level-0);\n",
       "}\n",
       "\n",
       "#sk-container-id-1 div.sk-toggleable__content.fitted {\n",
       "  /* fitted */\n",
       "  background-color: var(--sklearn-color-fitted-level-0);\n",
       "}\n",
       "\n",
       "#sk-container-id-1 div.sk-toggleable__content pre {\n",
       "  margin: 0.2em;\n",
       "  border-radius: 0.25em;\n",
       "  color: var(--sklearn-color-text);\n",
       "  /* unfitted */\n",
       "  background-color: var(--sklearn-color-unfitted-level-0);\n",
       "}\n",
       "\n",
       "#sk-container-id-1 div.sk-toggleable__content.fitted pre {\n",
       "  /* unfitted */\n",
       "  background-color: var(--sklearn-color-fitted-level-0);\n",
       "}\n",
       "\n",
       "#sk-container-id-1 input.sk-toggleable__control:checked~div.sk-toggleable__content {\n",
       "  /* Expand drop-down */\n",
       "  max-height: 200px;\n",
       "  max-width: 100%;\n",
       "  overflow: auto;\n",
       "}\n",
       "\n",
       "#sk-container-id-1 input.sk-toggleable__control:checked~label.sk-toggleable__label-arrow:before {\n",
       "  content: \"▾\";\n",
       "}\n",
       "\n",
       "/* Pipeline/ColumnTransformer-specific style */\n",
       "\n",
       "#sk-container-id-1 div.sk-label input.sk-toggleable__control:checked~label.sk-toggleable__label {\n",
       "  color: var(--sklearn-color-text);\n",
       "  background-color: var(--sklearn-color-unfitted-level-2);\n",
       "}\n",
       "\n",
       "#sk-container-id-1 div.sk-label.fitted input.sk-toggleable__control:checked~label.sk-toggleable__label {\n",
       "  background-color: var(--sklearn-color-fitted-level-2);\n",
       "}\n",
       "\n",
       "/* Estimator-specific style */\n",
       "\n",
       "/* Colorize estimator box */\n",
       "#sk-container-id-1 div.sk-estimator input.sk-toggleable__control:checked~label.sk-toggleable__label {\n",
       "  /* unfitted */\n",
       "  background-color: var(--sklearn-color-unfitted-level-2);\n",
       "}\n",
       "\n",
       "#sk-container-id-1 div.sk-estimator.fitted input.sk-toggleable__control:checked~label.sk-toggleable__label {\n",
       "  /* fitted */\n",
       "  background-color: var(--sklearn-color-fitted-level-2);\n",
       "}\n",
       "\n",
       "#sk-container-id-1 div.sk-label label.sk-toggleable__label,\n",
       "#sk-container-id-1 div.sk-label label {\n",
       "  /* The background is the default theme color */\n",
       "  color: var(--sklearn-color-text-on-default-background);\n",
       "}\n",
       "\n",
       "/* On hover, darken the color of the background */\n",
       "#sk-container-id-1 div.sk-label:hover label.sk-toggleable__label {\n",
       "  color: var(--sklearn-color-text);\n",
       "  background-color: var(--sklearn-color-unfitted-level-2);\n",
       "}\n",
       "\n",
       "/* Label box, darken color on hover, fitted */\n",
       "#sk-container-id-1 div.sk-label.fitted:hover label.sk-toggleable__label.fitted {\n",
       "  color: var(--sklearn-color-text);\n",
       "  background-color: var(--sklearn-color-fitted-level-2);\n",
       "}\n",
       "\n",
       "/* Estimator label */\n",
       "\n",
       "#sk-container-id-1 div.sk-label label {\n",
       "  font-family: monospace;\n",
       "  font-weight: bold;\n",
       "  display: inline-block;\n",
       "  line-height: 1.2em;\n",
       "}\n",
       "\n",
       "#sk-container-id-1 div.sk-label-container {\n",
       "  text-align: center;\n",
       "}\n",
       "\n",
       "/* Estimator-specific */\n",
       "#sk-container-id-1 div.sk-estimator {\n",
       "  font-family: monospace;\n",
       "  border: 1px dotted var(--sklearn-color-border-box);\n",
       "  border-radius: 0.25em;\n",
       "  box-sizing: border-box;\n",
       "  margin-bottom: 0.5em;\n",
       "  /* unfitted */\n",
       "  background-color: var(--sklearn-color-unfitted-level-0);\n",
       "}\n",
       "\n",
       "#sk-container-id-1 div.sk-estimator.fitted {\n",
       "  /* fitted */\n",
       "  background-color: var(--sklearn-color-fitted-level-0);\n",
       "}\n",
       "\n",
       "/* on hover */\n",
       "#sk-container-id-1 div.sk-estimator:hover {\n",
       "  /* unfitted */\n",
       "  background-color: var(--sklearn-color-unfitted-level-2);\n",
       "}\n",
       "\n",
       "#sk-container-id-1 div.sk-estimator.fitted:hover {\n",
       "  /* fitted */\n",
       "  background-color: var(--sklearn-color-fitted-level-2);\n",
       "}\n",
       "\n",
       "/* Specification for estimator info (e.g. \"i\" and \"?\") */\n",
       "\n",
       "/* Common style for \"i\" and \"?\" */\n",
       "\n",
       ".sk-estimator-doc-link,\n",
       "a:link.sk-estimator-doc-link,\n",
       "a:visited.sk-estimator-doc-link {\n",
       "  float: right;\n",
       "  font-size: smaller;\n",
       "  line-height: 1em;\n",
       "  font-family: monospace;\n",
       "  background-color: var(--sklearn-color-background);\n",
       "  border-radius: 1em;\n",
       "  height: 1em;\n",
       "  width: 1em;\n",
       "  text-decoration: none !important;\n",
       "  margin-left: 1ex;\n",
       "  /* unfitted */\n",
       "  border: var(--sklearn-color-unfitted-level-1) 1pt solid;\n",
       "  color: var(--sklearn-color-unfitted-level-1);\n",
       "}\n",
       "\n",
       ".sk-estimator-doc-link.fitted,\n",
       "a:link.sk-estimator-doc-link.fitted,\n",
       "a:visited.sk-estimator-doc-link.fitted {\n",
       "  /* fitted */\n",
       "  border: var(--sklearn-color-fitted-level-1) 1pt solid;\n",
       "  color: var(--sklearn-color-fitted-level-1);\n",
       "}\n",
       "\n",
       "/* On hover */\n",
       "div.sk-estimator:hover .sk-estimator-doc-link:hover,\n",
       ".sk-estimator-doc-link:hover,\n",
       "div.sk-label-container:hover .sk-estimator-doc-link:hover,\n",
       ".sk-estimator-doc-link:hover {\n",
       "  /* unfitted */\n",
       "  background-color: var(--sklearn-color-unfitted-level-3);\n",
       "  color: var(--sklearn-color-background);\n",
       "  text-decoration: none;\n",
       "}\n",
       "\n",
       "div.sk-estimator.fitted:hover .sk-estimator-doc-link.fitted:hover,\n",
       ".sk-estimator-doc-link.fitted:hover,\n",
       "div.sk-label-container:hover .sk-estimator-doc-link.fitted:hover,\n",
       ".sk-estimator-doc-link.fitted:hover {\n",
       "  /* fitted */\n",
       "  background-color: var(--sklearn-color-fitted-level-3);\n",
       "  color: var(--sklearn-color-background);\n",
       "  text-decoration: none;\n",
       "}\n",
       "\n",
       "/* Span, style for the box shown on hovering the info icon */\n",
       ".sk-estimator-doc-link span {\n",
       "  display: none;\n",
       "  z-index: 9999;\n",
       "  position: relative;\n",
       "  font-weight: normal;\n",
       "  right: .2ex;\n",
       "  padding: .5ex;\n",
       "  margin: .5ex;\n",
       "  width: min-content;\n",
       "  min-width: 20ex;\n",
       "  max-width: 50ex;\n",
       "  color: var(--sklearn-color-text);\n",
       "  box-shadow: 2pt 2pt 4pt #999;\n",
       "  /* unfitted */\n",
       "  background: var(--sklearn-color-unfitted-level-0);\n",
       "  border: .5pt solid var(--sklearn-color-unfitted-level-3);\n",
       "}\n",
       "\n",
       ".sk-estimator-doc-link.fitted span {\n",
       "  /* fitted */\n",
       "  background: var(--sklearn-color-fitted-level-0);\n",
       "  border: var(--sklearn-color-fitted-level-3);\n",
       "}\n",
       "\n",
       ".sk-estimator-doc-link:hover span {\n",
       "  display: block;\n",
       "}\n",
       "\n",
       "/* \"?\"-specific style due to the `<a>` HTML tag */\n",
       "\n",
       "#sk-container-id-1 a.estimator_doc_link {\n",
       "  float: right;\n",
       "  font-size: 1rem;\n",
       "  line-height: 1em;\n",
       "  font-family: monospace;\n",
       "  background-color: var(--sklearn-color-background);\n",
       "  border-radius: 1rem;\n",
       "  height: 1rem;\n",
       "  width: 1rem;\n",
       "  text-decoration: none;\n",
       "  /* unfitted */\n",
       "  color: var(--sklearn-color-unfitted-level-1);\n",
       "  border: var(--sklearn-color-unfitted-level-1) 1pt solid;\n",
       "}\n",
       "\n",
       "#sk-container-id-1 a.estimator_doc_link.fitted {\n",
       "  /* fitted */\n",
       "  border: var(--sklearn-color-fitted-level-1) 1pt solid;\n",
       "  color: var(--sklearn-color-fitted-level-1);\n",
       "}\n",
       "\n",
       "/* On hover */\n",
       "#sk-container-id-1 a.estimator_doc_link:hover {\n",
       "  /* unfitted */\n",
       "  background-color: var(--sklearn-color-unfitted-level-3);\n",
       "  color: var(--sklearn-color-background);\n",
       "  text-decoration: none;\n",
       "}\n",
       "\n",
       "#sk-container-id-1 a.estimator_doc_link.fitted:hover {\n",
       "  /* fitted */\n",
       "  background-color: var(--sklearn-color-fitted-level-3);\n",
       "}\n",
       "</style><div id=\"sk-container-id-1\" class=\"sk-top-container\"><div class=\"sk-text-repr-fallback\"><pre>XGBClassifier(base_score=None, booster=None, callbacks=None,\n",
       "              colsample_bylevel=None, colsample_bynode=0.4599826294453433,\n",
       "              colsample_bytree=None, device=None, early_stopping_rounds=None,\n",
       "              enable_categorical=False,\n",
       "              eval_metric=&lt;function custom_f1_score at 0x7f24b9c774c0&gt;,\n",
       "              feature_types=None, gamma=None, grow_policy=None,\n",
       "              importance_type=None, interaction_constraints=None,\n",
       "              learning_rate=0.23729000655414553, max_bin=None,\n",
       "              max_cat_threshold=None, max_cat_to_onehot=None,\n",
       "              max_delta_step=None, max_depth=17, max_leaves=None,\n",
       "              min_child_weight=37, missing=nan, monotone_constraints=None,\n",
       "              multi_strategy=None, n_estimators=104, n_jobs=None,\n",
       "              num_parallel_tree=None, objective=&#x27;multi:softprob&#x27;, ...)</pre><b>In a Jupyter environment, please rerun this cell to show the HTML representation or trust the notebook. <br />On GitHub, the HTML representation is unable to render, please try loading this page with nbviewer.org.</b></div><div class=\"sk-container\" hidden><div class=\"sk-item\"><div class=\"sk-estimator fitted sk-toggleable\"><input class=\"sk-toggleable__control sk-hidden--visually\" id=\"sk-estimator-id-1\" type=\"checkbox\" checked><label for=\"sk-estimator-id-1\" class=\"sk-toggleable__label fitted sk-toggleable__label-arrow fitted\">&nbsp;XGBClassifier<span class=\"sk-estimator-doc-link fitted\">i<span>Fitted</span></span></label><div class=\"sk-toggleable__content fitted\"><pre>XGBClassifier(base_score=None, booster=None, callbacks=None,\n",
       "              colsample_bylevel=None, colsample_bynode=0.4599826294453433,\n",
       "              colsample_bytree=None, device=None, early_stopping_rounds=None,\n",
       "              enable_categorical=False,\n",
       "              eval_metric=&lt;function custom_f1_score at 0x7f24b9c774c0&gt;,\n",
       "              feature_types=None, gamma=None, grow_policy=None,\n",
       "              importance_type=None, interaction_constraints=None,\n",
       "              learning_rate=0.23729000655414553, max_bin=None,\n",
       "              max_cat_threshold=None, max_cat_to_onehot=None,\n",
       "              max_delta_step=None, max_depth=17, max_leaves=None,\n",
       "              min_child_weight=37, missing=nan, monotone_constraints=None,\n",
       "              multi_strategy=None, n_estimators=104, n_jobs=None,\n",
       "              num_parallel_tree=None, objective=&#x27;multi:softprob&#x27;, ...)</pre></div> </div></div></div></div>"
      ],
      "text/plain": [
       "XGBClassifier(base_score=None, booster=None, callbacks=None,\n",
       "              colsample_bylevel=None, colsample_bynode=0.4599826294453433,\n",
       "              colsample_bytree=None, device=None, early_stopping_rounds=None,\n",
       "              enable_categorical=False,\n",
       "              eval_metric=<function custom_f1_score at 0x7f24b9c774c0>,\n",
       "              feature_types=None, gamma=None, grow_policy=None,\n",
       "              importance_type=None, interaction_constraints=None,\n",
       "              learning_rate=0.23729000655414553, max_bin=None,\n",
       "              max_cat_threshold=None, max_cat_to_onehot=None,\n",
       "              max_delta_step=None, max_depth=17, max_leaves=None,\n",
       "              min_child_weight=37, missing=nan, monotone_constraints=None,\n",
       "              multi_strategy=None, n_estimators=104, n_jobs=None,\n",
       "              num_parallel_tree=None, objective='multi:softprob', ...)"
      ]
     },
     "execution_count": 21,
     "metadata": {},
     "output_type": "execute_result"
    }
   ],
   "source": [
    "n_estimators = int(study.best_trial.user_attrs['best_iteration']*1.2)\n",
    "xgb = xgboost.XGBClassifier(\n",
    "        eval_metric=eval_metric,\n",
    "        n_estimators=n_estimators,\n",
    "        **study.best_trial.params\n",
    "    )\n",
    "xgb.fit(\n",
    "    ssp.vstack((X_train, X_val)), \n",
    "    np.concatenate((y_train_enc, y_val_enc)),\n",
    "    verbose=1,\n",
    ")"
   ]
  },
  {
   "cell_type": "code",
   "execution_count": 22,
   "id": "cb76cf16",
   "metadata": {
    "execution": {
     "iopub.execute_input": "2025-05-14T16:11:51.106098Z",
     "iopub.status.busy": "2025-05-14T16:11:51.105532Z",
     "iopub.status.idle": "2025-05-14T16:11:51.188180Z",
     "shell.execute_reply": "2025-05-14T16:11:51.187675Z"
    },
    "papermill": {
     "duration": 0.093468,
     "end_time": "2025-05-14T16:11:51.189070",
     "exception": false,
     "start_time": "2025-05-14T16:11:51.095602",
     "status": "completed"
    },
    "tags": []
   },
   "outputs": [
    {
     "data": {
      "text/plain": [
       "['/scratch_isilon/groups/singlecell/shared/projects/Inflammation-PBMCs-Atlas/03_downstream_analysis/08_gene_importance/xgboost_external_validation/xgboost_TopN_genes/results_20/best_model/T_CD8_Naive_shap_studyID_2_xgb.json']"
      ]
     },
     "execution_count": 22,
     "metadata": {},
     "output_type": "execute_result"
    }
   ],
   "source": [
    "out_dir = here(f'03_downstream_analysis/08_gene_importance/xgboost_external_validation/xgboost_TopN_genes/results_{N_GENES}/best_model')\n",
    "\n",
    "if not os.path.exists(out_dir):\n",
    "    os.makedirs(out_dir)\n",
    "    \n",
    "joblib.dump(xgb, os.path.join(out_dir, f'{CELL_TYPE}_{SEED}_{TEST_SPLIT_IDX}_xgb.json'))"
   ]
  },
  {
   "cell_type": "code",
   "execution_count": 23,
   "id": "5319700a",
   "metadata": {
    "execution": {
     "iopub.execute_input": "2025-05-14T16:11:51.207708Z",
     "iopub.status.busy": "2025-05-14T16:11:51.207139Z",
     "iopub.status.idle": "2025-05-14T16:11:51.314173Z",
     "shell.execute_reply": "2025-05-14T16:11:51.313622Z"
    },
    "papermill": {
     "duration": 0.117342,
     "end_time": "2025-05-14T16:11:51.315233",
     "exception": false,
     "start_time": "2025-05-14T16:11:51.197891",
     "status": "completed"
    },
    "tags": []
   },
   "outputs": [],
   "source": [
    "df_pred_test = pd.DataFrame(dict(\n",
    "    cell_id=train_adata.obs.iloc[test_idxs].index.values,\n",
    "    y_true=y_test, \n",
    "    y_true_code=y_test_enc, \n",
    "    y_pred=xgb.predict(X_test))).set_index('cell_id')"
   ]
  },
  {
   "cell_type": "code",
   "execution_count": 24,
   "id": "320c57b0",
   "metadata": {
    "execution": {
     "iopub.execute_input": "2025-05-14T16:11:51.333482Z",
     "iopub.status.busy": "2025-05-14T16:11:51.333106Z",
     "iopub.status.idle": "2025-05-14T16:11:51.406191Z",
     "shell.execute_reply": "2025-05-14T16:11:51.405517Z"
    },
    "papermill": {
     "duration": 0.083139,
     "end_time": "2025-05-14T16:11:51.407131",
     "exception": false,
     "start_time": "2025-05-14T16:11:51.323992",
     "status": "completed"
    },
    "tags": []
   },
   "outputs": [],
   "source": [
    "out_dir = here(f'03_downstream_analysis/08_gene_importance/xgboost_external_validation/xgboost_TopN_genes/results_{N_GENES}/predictions')\n",
    "\n",
    "if not os.path.exists(out_dir):\n",
    "    os.makedirs(out_dir)\n",
    "    \n",
    "df_pred_test.to_csv(os.path.join(out_dir, f'{CELL_TYPE}_{SEED}_{TEST_SPLIT_IDX}_pred_test.zip'))"
   ]
  },
  {
   "cell_type": "code",
   "execution_count": 25,
   "id": "23176462",
   "metadata": {
    "execution": {
     "iopub.execute_input": "2025-05-14T16:11:51.425285Z",
     "iopub.status.busy": "2025-05-14T16:11:51.424866Z",
     "iopub.status.idle": "2025-05-14T16:11:51.434261Z",
     "shell.execute_reply": "2025-05-14T16:11:51.433705Z"
    },
    "papermill": {
     "duration": 0.019489,
     "end_time": "2025-05-14T16:11:51.435146",
     "exception": false,
     "start_time": "2025-05-14T16:11:51.415657",
     "status": "completed"
    },
    "tags": []
   },
   "outputs": [],
   "source": [
    "metrics_dict = dict(\n",
    "    BAS=balanced_accuracy_score(y_true=df_pred_test.y_true_code, y_pred=df_pred_test.y_pred), WF1=f1_score(y_true=df_pred_test.y_true_code, y_pred=df_pred_test.y_pred,average='weighted'))"
   ]
  },
  {
   "cell_type": "code",
   "execution_count": 26,
   "id": "402340e0",
   "metadata": {
    "execution": {
     "iopub.execute_input": "2025-05-14T16:11:51.453365Z",
     "iopub.status.busy": "2025-05-14T16:11:51.452898Z",
     "iopub.status.idle": "2025-05-14T16:11:51.456167Z",
     "shell.execute_reply": "2025-05-14T16:11:51.455797Z"
    },
    "papermill": {
     "duration": 0.013259,
     "end_time": "2025-05-14T16:11:51.456999",
     "exception": false,
     "start_time": "2025-05-14T16:11:51.443740",
     "status": "completed"
    },
    "tags": []
   },
   "outputs": [
    {
     "data": {
      "text/plain": [
       "{'BAS': 0.7537328638132195, 'WF1': 0.8533497083406715}"
      ]
     },
     "execution_count": 26,
     "metadata": {},
     "output_type": "execute_result"
    }
   ],
   "source": [
    "metrics_dict"
   ]
  },
  {
   "cell_type": "code",
   "execution_count": 27,
   "id": "a18c365a",
   "metadata": {
    "execution": {
     "iopub.execute_input": "2025-05-14T16:11:51.475441Z",
     "iopub.status.busy": "2025-05-14T16:11:51.474887Z",
     "iopub.status.idle": "2025-05-14T16:11:51.485840Z",
     "shell.execute_reply": "2025-05-14T16:11:51.485388Z"
    },
    "papermill": {
     "duration": 0.020853,
     "end_time": "2025-05-14T16:11:51.486653",
     "exception": false,
     "start_time": "2025-05-14T16:11:51.465800",
     "status": "completed"
    },
    "tags": []
   },
   "outputs": [
    {
     "data": {
      "text/html": [
       "<div>\n",
       "<style scoped>\n",
       "    .dataframe tbody tr th:only-of-type {\n",
       "        vertical-align: middle;\n",
       "    }\n",
       "\n",
       "    .dataframe tbody tr th {\n",
       "        vertical-align: top;\n",
       "    }\n",
       "\n",
       "    .dataframe thead th {\n",
       "        text-align: right;\n",
       "    }\n",
       "</style>\n",
       "<table border=\"1\" class=\"dataframe\">\n",
       "  <thead>\n",
       "    <tr style=\"text-align: right;\">\n",
       "      <th></th>\n",
       "      <th>BAS</th>\n",
       "      <th>WF1</th>\n",
       "      <th>split_idx</th>\n",
       "      <th>gene_set_seed</th>\n",
       "      <th>cell_type</th>\n",
       "    </tr>\n",
       "  </thead>\n",
       "  <tbody>\n",
       "    <tr>\n",
       "      <th>0</th>\n",
       "      <td>0.753733</td>\n",
       "      <td>0.85335</td>\n",
       "      <td>2</td>\n",
       "      <td>shap_studyID</td>\n",
       "      <td>T_CD8_Naive</td>\n",
       "    </tr>\n",
       "  </tbody>\n",
       "</table>\n",
       "</div>"
      ],
      "text/plain": [
       "        BAS      WF1  split_idx gene_set_seed    cell_type\n",
       "0  0.753733  0.85335          2  shap_studyID  T_CD8_Naive"
      ]
     },
     "execution_count": 27,
     "metadata": {},
     "output_type": "execute_result"
    }
   ],
   "source": [
    "metrics_df = pd.DataFrame.from_dict([metrics_dict]).assign(split_idx=TEST_SPLIT_IDX, gene_set_seed=SEED, cell_type=CELL_TYPE)\n",
    "metrics_df"
   ]
  },
  {
   "cell_type": "code",
   "execution_count": 28,
   "id": "91a8ffd4",
   "metadata": {
    "execution": {
     "iopub.execute_input": "2025-05-14T16:11:51.505291Z",
     "iopub.status.busy": "2025-05-14T16:11:51.504717Z",
     "iopub.status.idle": "2025-05-14T16:11:51.513880Z",
     "shell.execute_reply": "2025-05-14T16:11:51.513366Z"
    },
    "papermill": {
     "duration": 0.019538,
     "end_time": "2025-05-14T16:11:51.514776",
     "exception": false,
     "start_time": "2025-05-14T16:11:51.495238",
     "status": "completed"
    },
    "tags": []
   },
   "outputs": [],
   "source": [
    "out_dir = here(f'03_downstream_analysis/08_gene_importance/xgboost_external_validation/xgboost_TopN_genes/results_{N_GENES}/metrics')\n",
    "\n",
    "if not os.path.exists(out_dir):\n",
    "    os.makedirs(out_dir)\n",
    "    \n",
    "metrics_df.to_csv(os.path.join(out_dir, f'{CELL_TYPE}_{SEED}_{TEST_SPLIT_IDX}_metrics.zip'))"
   ]
  }
 ],
 "metadata": {
  "kernelspec": {
   "display_name": "Python 3 (ipykernel)",
   "language": "python",
   "name": "python3"
  },
  "language_info": {
   "codemirror_mode": {
    "name": "ipython",
    "version": 3
   },
   "file_extension": ".py",
   "mimetype": "text/x-python",
   "name": "python",
   "nbconvert_exporter": "python",
   "pygments_lexer": "ipython3",
   "version": "3.12.5"
  },
  "papermill": {
   "default_parameters": {},
   "duration": 215.67162,
   "end_time": "2025-05-14T16:11:52.339204",
   "environment_variables": {},
   "exception": null,
   "input_path": "02_xgboost_fitting_external_20genes.ipynb",
   "output_path": "results_20/executed_notebooks/xgboost_fitting_external_CT_T_CD8_Naive_GS_shap_studyID_seed2.ipynb",
   "parameters": {
    "CELL_TYPE": "T_CD8_Naive",
    "SEED": "shap_studyID",
    "TEST_SPLIT_IDX": 2
   },
   "start_time": "2025-05-14T16:08:16.667584",
   "version": "2.6.0"
  }
 },
 "nbformat": 4,
 "nbformat_minor": 5
}