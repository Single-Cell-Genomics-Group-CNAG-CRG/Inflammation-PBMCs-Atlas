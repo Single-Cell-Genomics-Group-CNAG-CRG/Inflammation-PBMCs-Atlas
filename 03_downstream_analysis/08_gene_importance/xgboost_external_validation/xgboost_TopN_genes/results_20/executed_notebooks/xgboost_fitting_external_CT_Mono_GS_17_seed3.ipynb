{
 "cells": [
  {
   "cell_type": "code",
   "execution_count": 1,
   "id": "b20337c5",
   "metadata": {
    "editable": true,
    "execution": {
     "iopub.execute_input": "2025-05-15T16:00:16.365437Z",
     "iopub.status.busy": "2025-05-15T16:00:16.365248Z",
     "iopub.status.idle": "2025-05-15T16:00:16.367884Z",
     "shell.execute_reply": "2025-05-15T16:00:16.367579Z"
    },
    "papermill": {
     "duration": 0.054975,
     "end_time": "2025-05-15T16:00:16.368871",
     "exception": false,
     "start_time": "2025-05-15T16:00:16.313896",
     "status": "completed"
    },
    "slideshow": {
     "slide_type": ""
    },
    "tags": [
     "parameters"
    ]
   },
   "outputs": [],
   "source": [
    "CELL_TYPE = 'pDC'\n",
    "N_GENES: int = 20\n",
    "SEED = 'shap_studyID' #'disease_NOstudy' 'study_NOdisease' or 'int' or 'shap_studyID'\n",
    "TEST_SPLIT_IDX: int = 1 #[0,4]"
   ]
  },
  {
   "cell_type": "code",
   "execution_count": 2,
   "id": "2e99cd07",
   "metadata": {
    "execution": {
     "iopub.execute_input": "2025-05-15T16:00:16.417912Z",
     "iopub.status.busy": "2025-05-15T16:00:16.417634Z",
     "iopub.status.idle": "2025-05-15T16:00:16.419745Z",
     "shell.execute_reply": "2025-05-15T16:00:16.419435Z"
    },
    "papermill": {
     "duration": 0.042825,
     "end_time": "2025-05-15T16:00:16.420575",
     "exception": false,
     "start_time": "2025-05-15T16:00:16.377750",
     "status": "completed"
    },
    "tags": [
     "injected-parameters"
    ]
   },
   "outputs": [],
   "source": [
    "# Parameters\n",
    "CELL_TYPE = \"Mono\"\n",
    "SEED = 17\n",
    "TEST_SPLIT_IDX = 3\n"
   ]
  },
  {
   "cell_type": "code",
   "execution_count": 3,
   "id": "e5c75bb0",
   "metadata": {
    "execution": {
     "iopub.execute_input": "2025-05-15T16:00:16.460941Z",
     "iopub.status.busy": "2025-05-15T16:00:16.460713Z",
     "iopub.status.idle": "2025-05-15T16:00:16.462665Z",
     "shell.execute_reply": "2025-05-15T16:00:16.462358Z"
    },
    "papermill": {
     "duration": 0.008855,
     "end_time": "2025-05-15T16:00:16.463441",
     "exception": false,
     "start_time": "2025-05-15T16:00:16.454586",
     "status": "completed"
    },
    "tags": []
   },
   "outputs": [],
   "source": [
    "N_SPLITS: int = 5\n",
    "N_TRIALS: int = 50"
   ]
  },
  {
   "cell_type": "code",
   "execution_count": 4,
   "id": "e7b25299",
   "metadata": {
    "execution": {
     "iopub.execute_input": "2025-05-15T16:00:16.489253Z",
     "iopub.status.busy": "2025-05-15T16:00:16.488904Z",
     "iopub.status.idle": "2025-05-15T16:00:17.891154Z",
     "shell.execute_reply": "2025-05-15T16:00:17.890705Z"
    },
    "papermill": {
     "duration": 1.410595,
     "end_time": "2025-05-15T16:00:17.892260",
     "exception": false,
     "start_time": "2025-05-15T16:00:16.481665",
     "status": "completed"
    },
    "tags": []
   },
   "outputs": [],
   "source": [
    "import os\n",
    "import sys\n",
    "from pyprojroot.here import here\n",
    "import pandas as pd\n",
    "import anndata as ad\n",
    "import numpy as np\n",
    "import math\n",
    "from sklearn.model_selection import StratifiedGroupKFold\n",
    "from sklearn.preprocessing import LabelEncoder\n",
    "from sklearn.metrics import f1_score\n",
    "import matplotlib.pyplot as plt\n",
    "import seaborn as sns\n",
    "from itertools import product\n",
    "from sklearn.metrics import balanced_accuracy_score, f1_score\n",
    "import optuna\n",
    "\n",
    "import joblib\n",
    "import pickle\n",
    "import datetime\n",
    "\n",
    "import collections\n",
    "\n",
    "import xgboost\n",
    "from sklearn.preprocessing import LabelEncoder\n",
    "\n",
    "import scipy.sparse as ssp\n",
    "import joblib\n",
    "\n",
    "from dotenv import load_dotenv"
   ]
  },
  {
   "cell_type": "code",
   "execution_count": 5,
   "id": "b0e0b28f",
   "metadata": {
    "execution": {
     "iopub.execute_input": "2025-05-15T16:00:17.910118Z",
     "iopub.status.busy": "2025-05-15T16:00:17.909774Z",
     "iopub.status.idle": "2025-05-15T16:00:17.915216Z",
     "shell.execute_reply": "2025-05-15T16:00:17.914920Z"
    },
    "papermill": {
     "duration": 0.018172,
     "end_time": "2025-05-15T16:00:17.916056",
     "exception": false,
     "start_time": "2025-05-15T16:00:17.897884",
     "status": "completed"
    },
    "tags": []
   },
   "outputs": [
    {
     "data": {
      "text/plain": [
       "True"
      ]
     },
     "execution_count": 5,
     "metadata": {},
     "output_type": "execute_result"
    }
   ],
   "source": [
    "load_dotenv()"
   ]
  },
  {
   "cell_type": "markdown",
   "id": "268751d0",
   "metadata": {
    "papermill": {
     "duration": 0.015388,
     "end_time": "2025-05-15T16:00:17.938111",
     "exception": false,
     "start_time": "2025-05-15T16:00:17.922723",
     "status": "completed"
    },
    "tags": []
   },
   "source": [
    "# LOAD DATASET"
   ]
  },
  {
   "cell_type": "code",
   "execution_count": 6,
   "id": "6c4829da",
   "metadata": {
    "execution": {
     "iopub.execute_input": "2025-05-15T16:00:17.948872Z",
     "iopub.status.busy": "2025-05-15T16:00:17.948702Z",
     "iopub.status.idle": "2025-05-15T16:00:19.118277Z",
     "shell.execute_reply": "2025-05-15T16:00:19.117897Z"
    },
    "papermill": {
     "duration": 1.176145,
     "end_time": "2025-05-15T16:00:19.119351",
     "exception": false,
     "start_time": "2025-05-15T16:00:17.943206",
     "status": "completed"
    },
    "tags": []
   },
   "outputs": [],
   "source": [
    "train_adata = ad.read_h5ad(\n",
    "    here(f'03_downstream_analysis/08_gene_importance/xgboost_external_validation/xgboost_TopN_genes/data_cellTypes/EXTERNAL_{CELL_TYPE}.filtered.log1p.h5ad')\n",
    ")"
   ]
  },
  {
   "cell_type": "code",
   "execution_count": 7,
   "id": "9b12118e",
   "metadata": {
    "execution": {
     "iopub.execute_input": "2025-05-15T16:00:19.131894Z",
     "iopub.status.busy": "2025-05-15T16:00:19.131645Z",
     "iopub.status.idle": "2025-05-15T16:00:19.163349Z",
     "shell.execute_reply": "2025-05-15T16:00:19.163008Z"
    },
    "papermill": {
     "duration": 0.038778,
     "end_time": "2025-05-15T16:00:19.164237",
     "exception": false,
     "start_time": "2025-05-15T16:00:19.125459",
     "status": "completed"
    },
    "tags": []
   },
   "outputs": [
    {
     "name": "stdout",
     "output_type": "stream",
     "text": [
      "['ENSG00000119508' 'ENSG00000166825' 'ENSG00000118640' 'ENSG00000124731'\n",
      " 'ENSG00000149311' 'ENSG00000197102' 'ENSG00000138061' 'ENSG00000175203'\n",
      " 'ENSG00000196154' 'ENSG00000172183' 'ENSG00000125148' 'ENSG00000026103'\n",
      " 'ENSG00000015475' 'ENSG00000100393' 'ENSG00000104894' 'ENSG00000188313'\n",
      " 'ENSG00000152778' 'ENSG00000143543' 'ENSG00000125534' 'ENSG00000158050'\n",
      " 'ENSG00000158869' 'ENSG00000113916' 'ENSG00000092820' 'ENSG00000204642'\n",
      " 'ENSG00000100097' 'ENSG00000026025' 'ENSG00000167283' 'ENSG00000157601'\n",
      " 'ENSG00000090376' 'ENSG00000130724' 'ENSG00000057657' 'ENSG00000204257'\n",
      " 'ENSG00000141526' 'ENSG00000141506' 'ENSG00000100100' 'ENSG00000121774'\n",
      " 'ENSG00000166747' 'ENSG00000106605' 'ENSG00000175104' 'ENSG00000106803'\n",
      " 'ENSG00000158517' 'ENSG00000088827' 'ENSG00000168394' 'ENSG00000139192'\n",
      " 'ENSG00000137331' 'ENSG00000163659' 'ENSG00000008517' 'ENSG00000277632'\n",
      " 'ENSG00000169554' 'ENSG00000175567' 'ENSG00000118515' 'ENSG00000119917'\n",
      " 'ENSG00000237541' 'ENSG00000077150' 'ENSG00000197632' 'ENSG00000150961'\n",
      " 'ENSG00000134352' 'ENSG00000130066' 'ENSG00000204103' 'ENSG00000213145'\n",
      " 'ENSG00000161203' 'ENSG00000152234' 'ENSG00000100485' 'ENSG00000123268'\n",
      " 'ENSG00000102265' 'ENSG00000005339' 'ENSG00000009790' 'ENSG00000157020'\n",
      " 'ENSG00000271503' 'ENSG00000141505' 'ENSG00000130830' 'ENSG00000117984'\n",
      " 'ENSG00000143933' 'ENSG00000227507' 'ENSG00000030582' 'ENSG00000168329'\n",
      " 'ENSG00000128340' 'ENSG00000135404' 'ENSG00000120594' 'ENSG00000139289'\n",
      " 'ENSG00000108774' 'ENSG00000187164' 'ENSG00000179218' 'ENSG00000141574'\n",
      " 'ENSG00000108639' 'ENSG00000140678' 'ENSG00000101336' 'ENSG00000183172'\n",
      " 'ENSG00000156587' 'ENSG00000105397' 'ENSG00000137801' 'ENSG00000118508'\n",
      " 'ENSG00000160932' 'ENSG00000140105' 'ENSG00000111348' 'ENSG00000129084'\n",
      " 'ENSG00000130755' 'ENSG00000033800' 'ENSG00000141367' 'ENSG00000071073'\n",
      " 'ENSG00000198053' 'ENSG00000002549' 'ENSG00000143924' 'ENSG00000011422'\n",
      " 'ENSG00000123358' 'ENSG00000110203' 'ENSG00000150782' 'ENSG00000166949'\n",
      " 'ENSG00000183023' 'ENSG00000156411' 'ENSG00000104093' 'ENSG00000169564'\n",
      " 'ENSG00000068831' 'ENSG00000185201']\n"
     ]
    }
   ],
   "source": [
    "if SEED != 'all':\n",
    "    gene_subset = np.load(here(f'03_downstream_analysis/08_gene_importance/xgboost_external_validation/shap_gene_selection/gene_subsets_{N_GENES}/{CELL_TYPE}_{SEED}.npy'), allow_pickle=True)\n",
    "    train_adata = train_adata[:,gene_subset]\n",
    "    print(gene_subset)\n",
    "elif SEED == 'all':\n",
    "    print('Using all genes')\n",
    "else:\n",
    "    raise ValueError()"
   ]
  },
  {
   "cell_type": "code",
   "execution_count": 8,
   "id": "08589e17",
   "metadata": {
    "execution": {
     "iopub.execute_input": "2025-05-15T16:00:19.176012Z",
     "iopub.status.busy": "2025-05-15T16:00:19.175728Z",
     "iopub.status.idle": "2025-05-15T16:00:19.178567Z",
     "shell.execute_reply": "2025-05-15T16:00:19.178248Z"
    },
    "papermill": {
     "duration": 0.009505,
     "end_time": "2025-05-15T16:00:19.179397",
     "exception": false,
     "start_time": "2025-05-15T16:00:19.169892",
     "status": "completed"
    },
    "tags": []
   },
   "outputs": [
    {
     "data": {
      "text/plain": [
       "(137435, 114)"
      ]
     },
     "execution_count": 8,
     "metadata": {},
     "output_type": "execute_result"
    }
   ],
   "source": [
    "train_adata.shape"
   ]
  },
  {
   "cell_type": "code",
   "execution_count": 9,
   "id": "fdb4afca",
   "metadata": {
    "execution": {
     "iopub.execute_input": "2025-05-15T16:00:19.192895Z",
     "iopub.status.busy": "2025-05-15T16:00:19.192758Z",
     "iopub.status.idle": "2025-05-15T16:00:19.196375Z",
     "shell.execute_reply": "2025-05-15T16:00:19.196069Z"
    },
    "papermill": {
     "duration": 0.011841,
     "end_time": "2025-05-15T16:00:19.197185",
     "exception": false,
     "start_time": "2025-05-15T16:00:19.185344",
     "status": "completed"
    },
    "tags": []
   },
   "outputs": [
    {
     "data": {
      "text/plain": [
       "['RA', 'healthy', 'COVID', 'HIV', 'cirrhosis', 'CD', 'SLE', 'sepsis']\n",
       "Categories (8, object): ['CD', 'COVID', 'HIV', 'RA', 'SLE', 'cirrhosis', 'healthy', 'sepsis']"
      ]
     },
     "execution_count": 9,
     "metadata": {},
     "output_type": "execute_result"
    }
   ],
   "source": [
    "train_adata.obs.disease.unique()"
   ]
  },
  {
   "cell_type": "code",
   "execution_count": 10,
   "id": "9dde34e3",
   "metadata": {
    "execution": {
     "iopub.execute_input": "2025-05-15T16:00:19.223751Z",
     "iopub.status.busy": "2025-05-15T16:00:19.223542Z",
     "iopub.status.idle": "2025-05-15T16:00:19.227189Z",
     "shell.execute_reply": "2025-05-15T16:00:19.226897Z"
    },
    "papermill": {
     "duration": 0.0107,
     "end_time": "2025-05-15T16:00:19.228054",
     "exception": false,
     "start_time": "2025-05-15T16:00:19.217354",
     "status": "completed"
    },
    "tags": []
   },
   "outputs": [
    {
     "data": {
      "text/plain": [
       "['SCGT00val_I0364_T0', 'SCGT00val_I036028_T0', 'SCGT00val_I036024_T0', 'SCGT00val_I036023_T0', 'SCGT00val_I036019_T0', ..., '10XGenomics_10XHC2_T0', '10XGenomics_10XHC3_T0', '10XGenomics_10XHC5_T0', '10XGenomics_10XHC7_T0', '10XGenomics_10XHC8_T0']\n",
       "Length: 86\n",
       "Categories (86, object): ['10XGenomics_10XHC1_T0', '10XGenomics_10XHC2_T0', '10XGenomics_10XHC3_T0', '10XGenomics_10XHC4_T0', ..., 'Savage2021_BRISL6_T0', 'Savage2021_BRISL7_T0', 'Savage2021_PIDA_T0', 'Savage2021_PIDB_T0']"
      ]
     },
     "execution_count": 10,
     "metadata": {},
     "output_type": "execute_result"
    }
   ],
   "source": [
    "train_adata.obs.sampleID.unique()"
   ]
  },
  {
   "cell_type": "code",
   "execution_count": 11,
   "id": "078f44ef",
   "metadata": {
    "execution": {
     "iopub.execute_input": "2025-05-15T16:00:19.240016Z",
     "iopub.status.busy": "2025-05-15T16:00:19.239736Z",
     "iopub.status.idle": "2025-05-15T16:00:19.561215Z",
     "shell.execute_reply": "2025-05-15T16:00:19.560836Z"
    },
    "papermill": {
     "duration": 0.328625,
     "end_time": "2025-05-15T16:00:19.562351",
     "exception": false,
     "start_time": "2025-05-15T16:00:19.233726",
     "status": "completed"
    },
    "tags": []
   },
   "outputs": [],
   "source": [
    "all_idxs = np.arange(train_adata.obs.shape[0])\n",
    "left_out_splits = [s[1] for s in StratifiedGroupKFold(n_splits=N_SPLITS).split(all_idxs, train_adata.obs.disease, train_adata.obs.sampleID)]"
   ]
  },
  {
   "cell_type": "code",
   "execution_count": 12,
   "id": "f0f70de0",
   "metadata": {
    "execution": {
     "iopub.execute_input": "2025-05-15T16:00:19.575301Z",
     "iopub.status.busy": "2025-05-15T16:00:19.575103Z",
     "iopub.status.idle": "2025-05-15T16:00:19.578311Z",
     "shell.execute_reply": "2025-05-15T16:00:19.578011Z"
    },
    "papermill": {
     "duration": 0.010614,
     "end_time": "2025-05-15T16:00:19.579151",
     "exception": false,
     "start_time": "2025-05-15T16:00:19.568537",
     "status": "completed"
    },
    "tags": []
   },
   "outputs": [
    {
     "data": {
      "text/plain": [
       "([0, 1, 2], 4, 3)"
      ]
     },
     "execution_count": 12,
     "metadata": {},
     "output_type": "execute_result"
    }
   ],
   "source": [
    "TRAIN_SPLIT_IDXS = [0,1,2,3,4]\n",
    "VAL_SPLIT_IDX = (TEST_SPLIT_IDX + 1) % 5\n",
    "TRAIN_SPLIT_IDXS.remove(TEST_SPLIT_IDX)\n",
    "TRAIN_SPLIT_IDXS.remove(VAL_SPLIT_IDX)\n",
    "TRAIN_SPLIT_IDXS, VAL_SPLIT_IDX, TEST_SPLIT_IDX"
   ]
  },
  {
   "cell_type": "code",
   "execution_count": 13,
   "id": "fcd372b9",
   "metadata": {
    "execution": {
     "iopub.execute_input": "2025-05-15T16:00:19.591082Z",
     "iopub.status.busy": "2025-05-15T16:00:19.590861Z",
     "iopub.status.idle": "2025-05-15T16:00:19.593045Z",
     "shell.execute_reply": "2025-05-15T16:00:19.592753Z"
    },
    "papermill": {
     "duration": 0.008958,
     "end_time": "2025-05-15T16:00:19.593875",
     "exception": false,
     "start_time": "2025-05-15T16:00:19.584917",
     "status": "completed"
    },
    "tags": []
   },
   "outputs": [],
   "source": [
    "train_idxs = np.concatenate([left_out_splits[idx] for idx in TRAIN_SPLIT_IDXS])\n",
    "val_idxs = left_out_splits[VAL_SPLIT_IDX]\n",
    "test_idxs = left_out_splits[TEST_SPLIT_IDX]"
   ]
  },
  {
   "cell_type": "markdown",
   "id": "62b72f53",
   "metadata": {
    "papermill": {
     "duration": 0.00568,
     "end_time": "2025-05-15T16:00:19.605778",
     "exception": false,
     "start_time": "2025-05-15T16:00:19.600098",
     "status": "completed"
    },
    "tags": []
   },
   "source": [
    "### SUBSET DATASET INTO TRAIN/TEST/VAL SPLITS"
   ]
  },
  {
   "cell_type": "code",
   "execution_count": 14,
   "id": "1a25db51",
   "metadata": {
    "execution": {
     "iopub.execute_input": "2025-05-15T16:00:19.628550Z",
     "iopub.status.busy": "2025-05-15T16:00:19.628298Z",
     "iopub.status.idle": "2025-05-15T16:00:20.063934Z",
     "shell.execute_reply": "2025-05-15T16:00:20.063606Z"
    },
    "papermill": {
     "duration": 0.453196,
     "end_time": "2025-05-15T16:00:20.064830",
     "exception": false,
     "start_time": "2025-05-15T16:00:19.611634",
     "status": "completed"
    },
    "tags": []
   },
   "outputs": [
    {
     "data": {
      "text/plain": [
       "((81752, 114), (28646, 114), (27037, 114))"
      ]
     },
     "execution_count": 14,
     "metadata": {},
     "output_type": "execute_result"
    }
   ],
   "source": [
    "X_train = train_adata.X[train_idxs]\n",
    "X_test = train_adata.X[test_idxs]\n",
    "X_val = train_adata.X[val_idxs]\n",
    "X_train.shape, X_test.shape, X_val.shape"
   ]
  },
  {
   "cell_type": "code",
   "execution_count": 15,
   "id": "053bdb2c",
   "metadata": {
    "execution": {
     "iopub.execute_input": "2025-05-15T16:00:20.099750Z",
     "iopub.status.busy": "2025-05-15T16:00:20.099499Z",
     "iopub.status.idle": "2025-05-15T16:00:20.111737Z",
     "shell.execute_reply": "2025-05-15T16:00:20.111383Z"
    },
    "papermill": {
     "duration": 0.035935,
     "end_time": "2025-05-15T16:00:20.112640",
     "exception": false,
     "start_time": "2025-05-15T16:00:20.076705",
     "status": "completed"
    },
    "tags": []
   },
   "outputs": [
    {
     "data": {
      "text/plain": [
       "((81752,), (28646,), (27037,))"
      ]
     },
     "execution_count": 15,
     "metadata": {},
     "output_type": "execute_result"
    }
   ],
   "source": [
    "y_train = train_adata.obs.iloc[train_idxs].disease.values.astype(str)\n",
    "y_test = train_adata.obs.iloc[test_idxs].disease.values.astype(str)\n",
    "y_val = train_adata.obs.iloc[val_idxs].disease.values.astype(str)\n",
    "y_train.shape, y_test.shape, y_val.shape"
   ]
  },
  {
   "cell_type": "code",
   "execution_count": 16,
   "id": "ad469a37",
   "metadata": {
    "execution": {
     "iopub.execute_input": "2025-05-15T16:00:20.125381Z",
     "iopub.status.busy": "2025-05-15T16:00:20.125208Z",
     "iopub.status.idle": "2025-05-15T16:00:20.154409Z",
     "shell.execute_reply": "2025-05-15T16:00:20.154046Z"
    },
    "papermill": {
     "duration": 0.036718,
     "end_time": "2025-05-15T16:00:20.155441",
     "exception": false,
     "start_time": "2025-05-15T16:00:20.118723",
     "status": "completed"
    },
    "tags": []
   },
   "outputs": [],
   "source": [
    "lenc = LabelEncoder()\n",
    "y_train_enc = lenc.fit_transform(y_train)\n",
    "y_val_enc = lenc.transform(y_val)\n",
    "y_test_enc = lenc.transform(y_test)"
   ]
  },
  {
   "cell_type": "markdown",
   "id": "889cb0a5",
   "metadata": {
    "papermill": {
     "duration": 0.006051,
     "end_time": "2025-05-15T16:00:20.173436",
     "exception": false,
     "start_time": "2025-05-15T16:00:20.167385",
     "status": "completed"
    },
    "tags": []
   },
   "source": [
    "### GENERATE F1 "
   ]
  },
  {
   "cell_type": "code",
   "execution_count": 17,
   "id": "252c7e5c",
   "metadata": {
    "execution": {
     "iopub.execute_input": "2025-05-15T16:00:20.187424Z",
     "iopub.status.busy": "2025-05-15T16:00:20.187204Z",
     "iopub.status.idle": "2025-05-15T16:00:20.189605Z",
     "shell.execute_reply": "2025-05-15T16:00:20.189279Z"
    },
    "papermill": {
     "duration": 0.011081,
     "end_time": "2025-05-15T16:00:20.190438",
     "exception": false,
     "start_time": "2025-05-15T16:00:20.179357",
     "status": "completed"
    },
    "tags": []
   },
   "outputs": [],
   "source": [
    "def custom_f1_score(y_true, y_pred):\n",
    "    return -f1_score(y_true, y_pred.argmax(1), average='weighted')"
   ]
  },
  {
   "cell_type": "code",
   "execution_count": 18,
   "id": "0e4f65a9",
   "metadata": {
    "execution": {
     "iopub.execute_input": "2025-05-15T16:00:20.202416Z",
     "iopub.status.busy": "2025-05-15T16:00:20.202201Z",
     "iopub.status.idle": "2025-05-15T16:00:20.205593Z",
     "shell.execute_reply": "2025-05-15T16:00:20.205280Z"
    },
    "papermill": {
     "duration": 0.010153,
     "end_time": "2025-05-15T16:00:20.206422",
     "exception": false,
     "start_time": "2025-05-15T16:00:20.196269",
     "status": "completed"
    },
    "tags": []
   },
   "outputs": [],
   "source": [
    "eval_metric=custom_f1_score\n",
    "eval_metric_name='custom_f1_score'\n",
    "\n",
    "def objective(trial):\n",
    "    params = {\n",
    "        'n_estimators': 1500,\n",
    "        'max_depth': trial.suggest_int('max_depth', 3, 20),\n",
    "        'min_child_weight': trial.suggest_int('min_child_weight', 1, 250),\n",
    "        'subsample': trial.suggest_float('subsample', 0.1, 1.0),\n",
    "        'colsample_bynode': trial.suggest_float('colsample_bynode', 0.1, 1.0),\n",
    "        'learning_rate': trial.suggest_float('learning_rate', 1e-3, 5e-1, log=True),\n",
    "    }\n",
    "    pruning_callback = optuna.integration.XGBoostPruningCallback(trial, f'validation_0-{eval_metric_name}')\n",
    "    es_callback = xgboost.callback.EarlyStopping(20, min_delta=0.001)\n",
    "    xgb = xgboost.XGBClassifier(\n",
    "        eval_metric=eval_metric,\n",
    "        callbacks=[pruning_callback, es_callback],\n",
    "        n_jobs=5,\n",
    "        **params\n",
    "    )\n",
    "    xgb.fit(\n",
    "        X_train, \n",
    "        y_train_enc, \n",
    "        verbose=0,\n",
    "        eval_set=[(X_val, y_val_enc)],\n",
    "    )\n",
    "    trial.set_user_attr('best_iteration', xgb.best_iteration)\n",
    "\n",
    "    return xgb.best_score"
   ]
  },
  {
   "cell_type": "code",
   "execution_count": 19,
   "id": "b5f151e4",
   "metadata": {
    "execution": {
     "iopub.execute_input": "2025-05-15T16:00:20.226307Z",
     "iopub.status.busy": "2025-05-15T16:00:20.226021Z",
     "iopub.status.idle": "2025-05-15T16:25:00.407002Z",
     "shell.execute_reply": "2025-05-15T16:25:00.406617Z"
    },
    "papermill": {
     "duration": 1480.188094,
     "end_time": "2025-05-15T16:25:00.407995",
     "exception": false,
     "start_time": "2025-05-15T16:00:20.219901",
     "status": "completed"
    },
    "scrolled": true,
    "tags": []
   },
   "outputs": [
    {
     "name": "stderr",
     "output_type": "stream",
     "text": [
      "[I 2025-05-15 18:00:20,227] A new study created in memory with name: no-name-28dbe8ac-c024-43a6-917f-5f177adbc26a\n"
     ]
    },
    {
     "name": "stderr",
     "output_type": "stream",
     "text": [
      "[I 2025-05-15 18:00:56,509] Trial 0 finished with value: -0.703156 and parameters: {'max_depth': 9, 'min_child_weight': 238, 'subsample': 0.7587945476302645, 'colsample_bynode': 0.6387926357773329, 'learning_rate': 0.0026368755339723046}. Best is trial 0 with value: -0.703156.\n"
     ]
    },
    {
     "name": "stderr",
     "output_type": "stream",
     "text": [
      "[I 2025-05-15 18:02:13,441] Trial 1 finished with value: -0.782966 and parameters: {'max_depth': 5, 'min_child_weight': 15, 'subsample': 0.8795585311974417, 'colsample_bynode': 0.6410035105688879, 'learning_rate': 0.08148293210105287}. Best is trial 1 with value: -0.782966.\n"
     ]
    },
    {
     "name": "stderr",
     "output_type": "stream",
     "text": [
      "[I 2025-05-15 18:03:46,024] Trial 2 finished with value: -0.694616 and parameters: {'max_depth': 3, 'min_child_weight': 243, 'subsample': 0.8491983767203796, 'colsample_bynode': 0.29110519961044856, 'learning_rate': 0.003095566460242371}. Best is trial 1 with value: -0.782966.\n"
     ]
    },
    {
     "name": "stderr",
     "output_type": "stream",
     "text": [
      "[I 2025-05-15 18:04:30,150] Trial 3 finished with value: -0.725823 and parameters: {'max_depth': 6, 'min_child_weight': 77, 'subsample': 0.5722807884690141, 'colsample_bynode': 0.48875051677790415, 'learning_rate': 0.006109683510122491}. Best is trial 1 with value: -0.782966.\n"
     ]
    },
    {
     "name": "stderr",
     "output_type": "stream",
     "text": [
      "[I 2025-05-15 18:05:39,253] Trial 4 finished with value: -0.754494 and parameters: {'max_depth': 14, 'min_child_weight': 35, 'subsample': 0.3629301836816964, 'colsample_bynode': 0.4297256589643226, 'learning_rate': 0.01701841881702917}. Best is trial 1 with value: -0.782966.\n"
     ]
    },
    {
     "name": "stderr",
     "output_type": "stream",
     "text": [
      "[I 2025-05-15 18:06:02,396] Trial 5 finished with value: -0.717671 and parameters: {'max_depth': 17, 'min_child_weight': 50, 'subsample': 0.5628109945722505, 'colsample_bynode': 0.6331731119758383, 'learning_rate': 0.0013346527038305934}. Best is trial 1 with value: -0.782966.\n"
     ]
    },
    {
     "name": "stderr",
     "output_type": "stream",
     "text": [
      "[I 2025-05-15 18:06:20,434] Trial 6 finished with value: -0.767879 and parameters: {'max_depth': 13, 'min_child_weight': 43, 'subsample': 0.1585464336867516, 'colsample_bynode': 0.9539969835279999, 'learning_rate': 0.4038423798071558}. Best is trial 1 with value: -0.782966.\n"
     ]
    },
    {
     "name": "stderr",
     "output_type": "stream",
     "text": [
      "[I 2025-05-15 18:06:21,142] Trial 7 pruned. Trial was pruned at iteration 0.\n"
     ]
    },
    {
     "name": "stderr",
     "output_type": "stream",
     "text": [
      "[I 2025-05-15 18:06:21,800] Trial 8 pruned. Trial was pruned at iteration 0.\n"
     ]
    },
    {
     "name": "stderr",
     "output_type": "stream",
     "text": [
      "[I 2025-05-15 18:06:27,673] Trial 9 pruned. Trial was pruned at iteration 14.\n"
     ]
    },
    {
     "name": "stderr",
     "output_type": "stream",
     "text": [
      "[I 2025-05-15 18:07:34,456] Trial 10 finished with value: -0.788081 and parameters: {'max_depth': 9, 'min_child_weight': 2, 'subsample': 0.9725833997090791, 'colsample_bynode': 0.11616568805333755, 'learning_rate': 0.17780618353487967}. Best is trial 10 with value: -0.788081.\n"
     ]
    },
    {
     "name": "stderr",
     "output_type": "stream",
     "text": [
      "[I 2025-05-15 18:08:48,271] Trial 11 finished with value: -0.787828 and parameters: {'max_depth': 9, 'min_child_weight': 4, 'subsample': 0.9818290990185045, 'colsample_bynode': 0.17702656156719, 'learning_rate': 0.11568531411766632}. Best is trial 10 with value: -0.788081.\n"
     ]
    },
    {
     "name": "stderr",
     "output_type": "stream",
     "text": [
      "[I 2025-05-15 18:08:49,134] Trial 12 pruned. Trial was pruned at iteration 0.\n"
     ]
    },
    {
     "name": "stderr",
     "output_type": "stream",
     "text": [
      "[I 2025-05-15 18:08:49,881] Trial 13 pruned. Trial was pruned at iteration 0.\n"
     ]
    },
    {
     "name": "stderr",
     "output_type": "stream",
     "text": [
      "[I 2025-05-15 18:08:50,604] Trial 14 pruned. Trial was pruned at iteration 0.\n"
     ]
    },
    {
     "name": "stderr",
     "output_type": "stream",
     "text": [
      "[I 2025-05-15 18:11:27,982] Trial 15 pruned. Trial was pruned at iteration 148.\n"
     ]
    },
    {
     "name": "stderr",
     "output_type": "stream",
     "text": [
      "[I 2025-05-15 18:12:05,279] Trial 16 finished with value: -0.780904 and parameters: {'max_depth': 11, 'min_child_weight': 125, 'subsample': 0.8815541734801864, 'colsample_bynode': 0.37074095931791284, 'learning_rate': 0.18961687234093502}. Best is trial 10 with value: -0.788081.\n"
     ]
    },
    {
     "name": "stderr",
     "output_type": "stream",
     "text": [
      "[I 2025-05-15 18:12:05,977] Trial 17 pruned. Trial was pruned at iteration 0.\n"
     ]
    },
    {
     "name": "stderr",
     "output_type": "stream",
     "text": [
      "[I 2025-05-15 18:12:50,349] Trial 18 finished with value: -0.787013 and parameters: {'max_depth': 12, 'min_child_weight': 35, 'subsample': 0.8272602031120428, 'colsample_bynode': 0.8109691196781996, 'learning_rate': 0.20046188160978387}. Best is trial 10 with value: -0.788081.\n"
     ]
    },
    {
     "name": "stderr",
     "output_type": "stream",
     "text": [
      "[I 2025-05-15 18:12:51,853] Trial 19 pruned. Trial was pruned at iteration 2.\n"
     ]
    },
    {
     "name": "stderr",
     "output_type": "stream",
     "text": [
      "[I 2025-05-15 18:12:52,589] Trial 20 pruned. Trial was pruned at iteration 0.\n"
     ]
    },
    {
     "name": "stderr",
     "output_type": "stream",
     "text": [
      "[I 2025-05-15 18:14:02,177] Trial 21 finished with value: -0.787289 and parameters: {'max_depth': 13, 'min_child_weight': 26, 'subsample': 0.819134819511958, 'colsample_bynode': 0.7873726554233677, 'learning_rate': 0.12154020308087539}. Best is trial 10 with value: -0.788081.\n"
     ]
    },
    {
     "name": "stderr",
     "output_type": "stream",
     "text": [
      "[I 2025-05-15 18:15:10,508] Trial 22 finished with value: -0.786236 and parameters: {'max_depth': 16, 'min_child_weight': 25, 'subsample': 0.9222290433640746, 'colsample_bynode': 0.8180675201201806, 'learning_rate': 0.12531858365842882}. Best is trial 10 with value: -0.788081.\n"
     ]
    },
    {
     "name": "stderr",
     "output_type": "stream",
     "text": [
      "[I 2025-05-15 18:15:20,660] Trial 23 pruned. Trial was pruned at iteration 19.\n"
     ]
    },
    {
     "name": "stderr",
     "output_type": "stream",
     "text": [
      "[I 2025-05-15 18:15:58,478] Trial 24 finished with value: -0.784986 and parameters: {'max_depth': 13, 'min_child_weight': 60, 'subsample': 0.7894871038116024, 'colsample_bynode': 0.8162809857042157, 'learning_rate': 0.27344287748763757}. Best is trial 10 with value: -0.788081.\n"
     ]
    },
    {
     "name": "stderr",
     "output_type": "stream",
     "text": [
      "[I 2025-05-15 18:15:59,946] Trial 25 pruned. Trial was pruned at iteration 0.\n"
     ]
    },
    {
     "name": "stderr",
     "output_type": "stream",
     "text": [
      "[I 2025-05-15 18:16:00,770] Trial 26 pruned. Trial was pruned at iteration 0.\n"
     ]
    },
    {
     "name": "stderr",
     "output_type": "stream",
     "text": [
      "[I 2025-05-15 18:16:01,957] Trial 27 pruned. Trial was pruned at iteration 1.\n"
     ]
    },
    {
     "name": "stderr",
     "output_type": "stream",
     "text": [
      "[I 2025-05-15 18:16:33,850] Trial 28 finished with value: -0.783969 and parameters: {'max_depth': 20, 'min_child_weight': 98, 'subsample': 0.9225776123131725, 'colsample_bynode': 0.7547835364105744, 'learning_rate': 0.3492695960511675}. Best is trial 10 with value: -0.788081.\n"
     ]
    },
    {
     "name": "stderr",
     "output_type": "stream",
     "text": [
      "[I 2025-05-15 18:16:34,583] Trial 29 pruned. Trial was pruned at iteration 0.\n"
     ]
    },
    {
     "name": "stderr",
     "output_type": "stream",
     "text": [
      "[I 2025-05-15 18:16:35,225] Trial 30 pruned. Trial was pruned at iteration 0.\n"
     ]
    },
    {
     "name": "stderr",
     "output_type": "stream",
     "text": [
      "[I 2025-05-15 18:17:21,329] Trial 31 finished with value: -0.787976 and parameters: {'max_depth': 12, 'min_child_weight': 34, 'subsample': 0.7944280959509858, 'colsample_bynode': 0.7043700482530932, 'learning_rate': 0.1741381667788713}. Best is trial 10 with value: -0.788081.\n"
     ]
    },
    {
     "name": "stderr",
     "output_type": "stream",
     "text": [
      "[I 2025-05-15 18:17:25,704] Trial 32 pruned. Trial was pruned at iteration 7.\n"
     ]
    },
    {
     "name": "stderr",
     "output_type": "stream",
     "text": [
      "[I 2025-05-15 18:18:22,983] Trial 33 finished with value: -0.791158 and parameters: {'max_depth': 13, 'min_child_weight': 34, 'subsample': 0.9094820503367312, 'colsample_bynode': 0.5393833829892098, 'learning_rate': 0.17245886914466724}. Best is trial 33 with value: -0.791158.\n"
     ]
    },
    {
     "name": "stderr",
     "output_type": "stream",
     "text": [
      "[I 2025-05-15 18:19:02,109] Trial 34 finished with value: -0.787715 and parameters: {'max_depth': 11, 'min_child_weight': 39, 'subsample': 0.9040844586652085, 'colsample_bynode': 0.577854467240809, 'learning_rate': 0.20534179479586812}. Best is trial 33 with value: -0.791158.\n"
     ]
    },
    {
     "name": "stderr",
     "output_type": "stream",
     "text": [
      "[I 2025-05-15 18:19:37,126] Trial 35 finished with value: -0.785102 and parameters: {'max_depth': 9, 'min_child_weight': 10, 'subsample': 0.9994721446789168, 'colsample_bynode': 0.5387252939031719, 'learning_rate': 0.31446700826063195}. Best is trial 33 with value: -0.791158.\n"
     ]
    },
    {
     "name": "stderr",
     "output_type": "stream",
     "text": [
      "[I 2025-05-15 18:19:37,875] Trial 36 pruned. Trial was pruned at iteration 0.\n"
     ]
    },
    {
     "name": "stderr",
     "output_type": "stream",
     "text": [
      "[I 2025-05-15 18:19:38,517] Trial 37 pruned. Trial was pruned at iteration 0.\n"
     ]
    },
    {
     "name": "stderr",
     "output_type": "stream",
     "text": [
      "[I 2025-05-15 18:19:39,210] Trial 38 pruned. Trial was pruned at iteration 0.\n"
     ]
    },
    {
     "name": "stderr",
     "output_type": "stream",
     "text": [
      "[I 2025-05-15 18:19:39,815] Trial 39 pruned. Trial was pruned at iteration 0.\n"
     ]
    },
    {
     "name": "stderr",
     "output_type": "stream",
     "text": [
      "[I 2025-05-15 18:20:32,738] Trial 40 finished with value: -0.789624 and parameters: {'max_depth': 12, 'min_child_weight': 12, 'subsample': 0.7872279446278094, 'colsample_bynode': 0.6306228242643848, 'learning_rate': 0.2314752198205236}. Best is trial 33 with value: -0.791158.\n"
     ]
    },
    {
     "name": "stderr",
     "output_type": "stream",
     "text": [
      "[I 2025-05-15 18:21:19,200] Trial 41 finished with value: -0.786838 and parameters: {'max_depth': 12, 'min_child_weight': 18, 'subsample': 0.8528231846811626, 'colsample_bynode': 0.6185667206941349, 'learning_rate': 0.255091568459933}. Best is trial 33 with value: -0.791158.\n"
     ]
    },
    {
     "name": "stderr",
     "output_type": "stream",
     "text": [
      "[I 2025-05-15 18:23:20,065] Trial 42 finished with value: -0.788244 and parameters: {'max_depth': 14, 'min_child_weight': 11, 'subsample': 0.7891085735009266, 'colsample_bynode': 0.5213741301148758, 'learning_rate': 0.1765395832272625}. Best is trial 33 with value: -0.791158.\n"
     ]
    },
    {
     "name": "stderr",
     "output_type": "stream",
     "text": [
      "[I 2025-05-15 18:23:20,792] Trial 43 pruned. Trial was pruned at iteration 0.\n"
     ]
    },
    {
     "name": "stderr",
     "output_type": "stream",
     "text": [
      "[I 2025-05-15 18:24:00,144] Trial 44 finished with value: -0.785513 and parameters: {'max_depth': 13, 'min_child_weight': 31, 'subsample': 0.7628221994192746, 'colsample_bynode': 0.7343448449958948, 'learning_rate': 0.2215402371453697}. Best is trial 33 with value: -0.791158.\n"
     ]
    },
    {
     "name": "stderr",
     "output_type": "stream",
     "text": [
      "[I 2025-05-15 18:24:29,443] Trial 45 pruned. Trial was pruned at iteration 76.\n"
     ]
    },
    {
     "name": "stderr",
     "output_type": "stream",
     "text": [
      "[I 2025-05-15 18:24:30,199] Trial 46 pruned. Trial was pruned at iteration 0.\n"
     ]
    },
    {
     "name": "stderr",
     "output_type": "stream",
     "text": [
      "[I 2025-05-15 18:24:30,988] Trial 47 pruned. Trial was pruned at iteration 0.\n"
     ]
    },
    {
     "name": "stderr",
     "output_type": "stream",
     "text": [
      "[I 2025-05-15 18:24:59,244] Trial 48 pruned. Trial was pruned at iteration 73.\n"
     ]
    },
    {
     "name": "stderr",
     "output_type": "stream",
     "text": [
      "[I 2025-05-15 18:25:00,329] Trial 49 pruned. Trial was pruned at iteration 1.\n"
     ]
    }
   ],
   "source": [
    "sampler = optuna.samplers.TPESampler(seed=42)\n",
    "study = optuna.create_study(direction='minimize', sampler=sampler)\n",
    "study.optimize(objective, n_trials=N_TRIALS, gc_after_trial=True)"
   ]
  },
  {
   "cell_type": "code",
   "execution_count": 20,
   "id": "ec79f9bd",
   "metadata": {
    "execution": {
     "iopub.execute_input": "2025-05-15T16:25:00.439949Z",
     "iopub.status.busy": "2025-05-15T16:25:00.439672Z",
     "iopub.status.idle": "2025-05-15T16:25:00.468714Z",
     "shell.execute_reply": "2025-05-15T16:25:00.468414Z"
    },
    "papermill": {
     "duration": 0.038735,
     "end_time": "2025-05-15T16:25:00.469491",
     "exception": false,
     "start_time": "2025-05-15T16:25:00.430756",
     "status": "completed"
    },
    "tags": []
   },
   "outputs": [
    {
     "data": {
      "text/plain": [
       "['/scratch_isilon/groups/singlecell/shared/projects/Inflammation-PBMCs-Atlas/03_downstream_analysis/08_gene_importance/xgboost_external_validation/xgboost_TopN_genes/results_20/study/Mono_17_3_xgboost.pkl']"
      ]
     },
     "execution_count": 20,
     "metadata": {},
     "output_type": "execute_result"
    }
   ],
   "source": [
    "out_dir = here(f'03_downstream_analysis/08_gene_importance/xgboost_external_validation/xgboost_TopN_genes/results_{N_GENES}/study')\n",
    "\n",
    "if not os.path.exists(out_dir):\n",
    "    os.makedirs(out_dir)\n",
    "    \n",
    "joblib.dump(study,os.path.join(out_dir, f'{CELL_TYPE}_{SEED}_{TEST_SPLIT_IDX}_xgboost.pkl'))"
   ]
  },
  {
   "cell_type": "code",
   "execution_count": 21,
   "id": "2f4047fa",
   "metadata": {
    "execution": {
     "iopub.execute_input": "2025-05-15T16:25:00.506491Z",
     "iopub.status.busy": "2025-05-15T16:25:00.506241Z",
     "iopub.status.idle": "2025-05-15T16:25:28.452078Z",
     "shell.execute_reply": "2025-05-15T16:25:28.451743Z"
    },
    "papermill": {
     "duration": 27.966378,
     "end_time": "2025-05-15T16:25:28.453079",
     "exception": false,
     "start_time": "2025-05-15T16:25:00.486701",
     "status": "completed"
    },
    "tags": []
   },
   "outputs": [
    {
     "data": {
      "text/html": [
       "<style>#sk-container-id-1 {\n",
       "  /* Definition of color scheme common for light and dark mode */\n",
       "  --sklearn-color-text: black;\n",
       "  --sklearn-color-line: gray;\n",
       "  /* Definition of color scheme for unfitted estimators */\n",
       "  --sklearn-color-unfitted-level-0: #fff5e6;\n",
       "  --sklearn-color-unfitted-level-1: #f6e4d2;\n",
       "  --sklearn-color-unfitted-level-2: #ffe0b3;\n",
       "  --sklearn-color-unfitted-level-3: chocolate;\n",
       "  /* Definition of color scheme for fitted estimators */\n",
       "  --sklearn-color-fitted-level-0: #f0f8ff;\n",
       "  --sklearn-color-fitted-level-1: #d4ebff;\n",
       "  --sklearn-color-fitted-level-2: #b3dbfd;\n",
       "  --sklearn-color-fitted-level-3: cornflowerblue;\n",
       "\n",
       "  /* Specific color for light theme */\n",
       "  --sklearn-color-text-on-default-background: var(--sg-text-color, var(--theme-code-foreground, var(--jp-content-font-color1, black)));\n",
       "  --sklearn-color-background: var(--sg-background-color, var(--theme-background, var(--jp-layout-color0, white)));\n",
       "  --sklearn-color-border-box: var(--sg-text-color, var(--theme-code-foreground, var(--jp-content-font-color1, black)));\n",
       "  --sklearn-color-icon: #696969;\n",
       "\n",
       "  @media (prefers-color-scheme: dark) {\n",
       "    /* Redefinition of color scheme for dark theme */\n",
       "    --sklearn-color-text-on-default-background: var(--sg-text-color, var(--theme-code-foreground, var(--jp-content-font-color1, white)));\n",
       "    --sklearn-color-background: var(--sg-background-color, var(--theme-background, var(--jp-layout-color0, #111)));\n",
       "    --sklearn-color-border-box: var(--sg-text-color, var(--theme-code-foreground, var(--jp-content-font-color1, white)));\n",
       "    --sklearn-color-icon: #878787;\n",
       "  }\n",
       "}\n",
       "\n",
       "#sk-container-id-1 {\n",
       "  color: var(--sklearn-color-text);\n",
       "}\n",
       "\n",
       "#sk-container-id-1 pre {\n",
       "  padding: 0;\n",
       "}\n",
       "\n",
       "#sk-container-id-1 input.sk-hidden--visually {\n",
       "  border: 0;\n",
       "  clip: rect(1px 1px 1px 1px);\n",
       "  clip: rect(1px, 1px, 1px, 1px);\n",
       "  height: 1px;\n",
       "  margin: -1px;\n",
       "  overflow: hidden;\n",
       "  padding: 0;\n",
       "  position: absolute;\n",
       "  width: 1px;\n",
       "}\n",
       "\n",
       "#sk-container-id-1 div.sk-dashed-wrapped {\n",
       "  border: 1px dashed var(--sklearn-color-line);\n",
       "  margin: 0 0.4em 0.5em 0.4em;\n",
       "  box-sizing: border-box;\n",
       "  padding-bottom: 0.4em;\n",
       "  background-color: var(--sklearn-color-background);\n",
       "}\n",
       "\n",
       "#sk-container-id-1 div.sk-container {\n",
       "  /* jupyter's `normalize.less` sets `[hidden] { display: none; }`\n",
       "     but bootstrap.min.css set `[hidden] { display: none !important; }`\n",
       "     so we also need the `!important` here to be able to override the\n",
       "     default hidden behavior on the sphinx rendered scikit-learn.org.\n",
       "     See: https://github.com/scikit-learn/scikit-learn/issues/21755 */\n",
       "  display: inline-block !important;\n",
       "  position: relative;\n",
       "}\n",
       "\n",
       "#sk-container-id-1 div.sk-text-repr-fallback {\n",
       "  display: none;\n",
       "}\n",
       "\n",
       "div.sk-parallel-item,\n",
       "div.sk-serial,\n",
       "div.sk-item {\n",
       "  /* draw centered vertical line to link estimators */\n",
       "  background-image: linear-gradient(var(--sklearn-color-text-on-default-background), var(--sklearn-color-text-on-default-background));\n",
       "  background-size: 2px 100%;\n",
       "  background-repeat: no-repeat;\n",
       "  background-position: center center;\n",
       "}\n",
       "\n",
       "/* Parallel-specific style estimator block */\n",
       "\n",
       "#sk-container-id-1 div.sk-parallel-item::after {\n",
       "  content: \"\";\n",
       "  width: 100%;\n",
       "  border-bottom: 2px solid var(--sklearn-color-text-on-default-background);\n",
       "  flex-grow: 1;\n",
       "}\n",
       "\n",
       "#sk-container-id-1 div.sk-parallel {\n",
       "  display: flex;\n",
       "  align-items: stretch;\n",
       "  justify-content: center;\n",
       "  background-color: var(--sklearn-color-background);\n",
       "  position: relative;\n",
       "}\n",
       "\n",
       "#sk-container-id-1 div.sk-parallel-item {\n",
       "  display: flex;\n",
       "  flex-direction: column;\n",
       "}\n",
       "\n",
       "#sk-container-id-1 div.sk-parallel-item:first-child::after {\n",
       "  align-self: flex-end;\n",
       "  width: 50%;\n",
       "}\n",
       "\n",
       "#sk-container-id-1 div.sk-parallel-item:last-child::after {\n",
       "  align-self: flex-start;\n",
       "  width: 50%;\n",
       "}\n",
       "\n",
       "#sk-container-id-1 div.sk-parallel-item:only-child::after {\n",
       "  width: 0;\n",
       "}\n",
       "\n",
       "/* Serial-specific style estimator block */\n",
       "\n",
       "#sk-container-id-1 div.sk-serial {\n",
       "  display: flex;\n",
       "  flex-direction: column;\n",
       "  align-items: center;\n",
       "  background-color: var(--sklearn-color-background);\n",
       "  padding-right: 1em;\n",
       "  padding-left: 1em;\n",
       "}\n",
       "\n",
       "\n",
       "/* Toggleable style: style used for estimator/Pipeline/ColumnTransformer box that is\n",
       "clickable and can be expanded/collapsed.\n",
       "- Pipeline and ColumnTransformer use this feature and define the default style\n",
       "- Estimators will overwrite some part of the style using the `sk-estimator` class\n",
       "*/\n",
       "\n",
       "/* Pipeline and ColumnTransformer style (default) */\n",
       "\n",
       "#sk-container-id-1 div.sk-toggleable {\n",
       "  /* Default theme specific background. It is overwritten whether we have a\n",
       "  specific estimator or a Pipeline/ColumnTransformer */\n",
       "  background-color: var(--sklearn-color-background);\n",
       "}\n",
       "\n",
       "/* Toggleable label */\n",
       "#sk-container-id-1 label.sk-toggleable__label {\n",
       "  cursor: pointer;\n",
       "  display: block;\n",
       "  width: 100%;\n",
       "  margin-bottom: 0;\n",
       "  padding: 0.5em;\n",
       "  box-sizing: border-box;\n",
       "  text-align: center;\n",
       "}\n",
       "\n",
       "#sk-container-id-1 label.sk-toggleable__label-arrow:before {\n",
       "  /* Arrow on the left of the label */\n",
       "  content: \"▸\";\n",
       "  float: left;\n",
       "  margin-right: 0.25em;\n",
       "  color: var(--sklearn-color-icon);\n",
       "}\n",
       "\n",
       "#sk-container-id-1 label.sk-toggleable__label-arrow:hover:before {\n",
       "  color: var(--sklearn-color-text);\n",
       "}\n",
       "\n",
       "/* Toggleable content - dropdown */\n",
       "\n",
       "#sk-container-id-1 div.sk-toggleable__content {\n",
       "  max-height: 0;\n",
       "  max-width: 0;\n",
       "  overflow: hidden;\n",
       "  text-align: left;\n",
       "  /* unfitted */\n",
       "  background-color: var(--sklearn-color-unfitted-level-0);\n",
       "}\n",
       "\n",
       "#sk-container-id-1 div.sk-toggleable__content.fitted {\n",
       "  /* fitted */\n",
       "  background-color: var(--sklearn-color-fitted-level-0);\n",
       "}\n",
       "\n",
       "#sk-container-id-1 div.sk-toggleable__content pre {\n",
       "  margin: 0.2em;\n",
       "  border-radius: 0.25em;\n",
       "  color: var(--sklearn-color-text);\n",
       "  /* unfitted */\n",
       "  background-color: var(--sklearn-color-unfitted-level-0);\n",
       "}\n",
       "\n",
       "#sk-container-id-1 div.sk-toggleable__content.fitted pre {\n",
       "  /* unfitted */\n",
       "  background-color: var(--sklearn-color-fitted-level-0);\n",
       "}\n",
       "\n",
       "#sk-container-id-1 input.sk-toggleable__control:checked~div.sk-toggleable__content {\n",
       "  /* Expand drop-down */\n",
       "  max-height: 200px;\n",
       "  max-width: 100%;\n",
       "  overflow: auto;\n",
       "}\n",
       "\n",
       "#sk-container-id-1 input.sk-toggleable__control:checked~label.sk-toggleable__label-arrow:before {\n",
       "  content: \"▾\";\n",
       "}\n",
       "\n",
       "/* Pipeline/ColumnTransformer-specific style */\n",
       "\n",
       "#sk-container-id-1 div.sk-label input.sk-toggleable__control:checked~label.sk-toggleable__label {\n",
       "  color: var(--sklearn-color-text);\n",
       "  background-color: var(--sklearn-color-unfitted-level-2);\n",
       "}\n",
       "\n",
       "#sk-container-id-1 div.sk-label.fitted input.sk-toggleable__control:checked~label.sk-toggleable__label {\n",
       "  background-color: var(--sklearn-color-fitted-level-2);\n",
       "}\n",
       "\n",
       "/* Estimator-specific style */\n",
       "\n",
       "/* Colorize estimator box */\n",
       "#sk-container-id-1 div.sk-estimator input.sk-toggleable__control:checked~label.sk-toggleable__label {\n",
       "  /* unfitted */\n",
       "  background-color: var(--sklearn-color-unfitted-level-2);\n",
       "}\n",
       "\n",
       "#sk-container-id-1 div.sk-estimator.fitted input.sk-toggleable__control:checked~label.sk-toggleable__label {\n",
       "  /* fitted */\n",
       "  background-color: var(--sklearn-color-fitted-level-2);\n",
       "}\n",
       "\n",
       "#sk-container-id-1 div.sk-label label.sk-toggleable__label,\n",
       "#sk-container-id-1 div.sk-label label {\n",
       "  /* The background is the default theme color */\n",
       "  color: var(--sklearn-color-text-on-default-background);\n",
       "}\n",
       "\n",
       "/* On hover, darken the color of the background */\n",
       "#sk-container-id-1 div.sk-label:hover label.sk-toggleable__label {\n",
       "  color: var(--sklearn-color-text);\n",
       "  background-color: var(--sklearn-color-unfitted-level-2);\n",
       "}\n",
       "\n",
       "/* Label box, darken color on hover, fitted */\n",
       "#sk-container-id-1 div.sk-label.fitted:hover label.sk-toggleable__label.fitted {\n",
       "  color: var(--sklearn-color-text);\n",
       "  background-color: var(--sklearn-color-fitted-level-2);\n",
       "}\n",
       "\n",
       "/* Estimator label */\n",
       "\n",
       "#sk-container-id-1 div.sk-label label {\n",
       "  font-family: monospace;\n",
       "  font-weight: bold;\n",
       "  display: inline-block;\n",
       "  line-height: 1.2em;\n",
       "}\n",
       "\n",
       "#sk-container-id-1 div.sk-label-container {\n",
       "  text-align: center;\n",
       "}\n",
       "\n",
       "/* Estimator-specific */\n",
       "#sk-container-id-1 div.sk-estimator {\n",
       "  font-family: monospace;\n",
       "  border: 1px dotted var(--sklearn-color-border-box);\n",
       "  border-radius: 0.25em;\n",
       "  box-sizing: border-box;\n",
       "  margin-bottom: 0.5em;\n",
       "  /* unfitted */\n",
       "  background-color: var(--sklearn-color-unfitted-level-0);\n",
       "}\n",
       "\n",
       "#sk-container-id-1 div.sk-estimator.fitted {\n",
       "  /* fitted */\n",
       "  background-color: var(--sklearn-color-fitted-level-0);\n",
       "}\n",
       "\n",
       "/* on hover */\n",
       "#sk-container-id-1 div.sk-estimator:hover {\n",
       "  /* unfitted */\n",
       "  background-color: var(--sklearn-color-unfitted-level-2);\n",
       "}\n",
       "\n",
       "#sk-container-id-1 div.sk-estimator.fitted:hover {\n",
       "  /* fitted */\n",
       "  background-color: var(--sklearn-color-fitted-level-2);\n",
       "}\n",
       "\n",
       "/* Specification for estimator info (e.g. \"i\" and \"?\") */\n",
       "\n",
       "/* Common style for \"i\" and \"?\" */\n",
       "\n",
       ".sk-estimator-doc-link,\n",
       "a:link.sk-estimator-doc-link,\n",
       "a:visited.sk-estimator-doc-link {\n",
       "  float: right;\n",
       "  font-size: smaller;\n",
       "  line-height: 1em;\n",
       "  font-family: monospace;\n",
       "  background-color: var(--sklearn-color-background);\n",
       "  border-radius: 1em;\n",
       "  height: 1em;\n",
       "  width: 1em;\n",
       "  text-decoration: none !important;\n",
       "  margin-left: 1ex;\n",
       "  /* unfitted */\n",
       "  border: var(--sklearn-color-unfitted-level-1) 1pt solid;\n",
       "  color: var(--sklearn-color-unfitted-level-1);\n",
       "}\n",
       "\n",
       ".sk-estimator-doc-link.fitted,\n",
       "a:link.sk-estimator-doc-link.fitted,\n",
       "a:visited.sk-estimator-doc-link.fitted {\n",
       "  /* fitted */\n",
       "  border: var(--sklearn-color-fitted-level-1) 1pt solid;\n",
       "  color: var(--sklearn-color-fitted-level-1);\n",
       "}\n",
       "\n",
       "/* On hover */\n",
       "div.sk-estimator:hover .sk-estimator-doc-link:hover,\n",
       ".sk-estimator-doc-link:hover,\n",
       "div.sk-label-container:hover .sk-estimator-doc-link:hover,\n",
       ".sk-estimator-doc-link:hover {\n",
       "  /* unfitted */\n",
       "  background-color: var(--sklearn-color-unfitted-level-3);\n",
       "  color: var(--sklearn-color-background);\n",
       "  text-decoration: none;\n",
       "}\n",
       "\n",
       "div.sk-estimator.fitted:hover .sk-estimator-doc-link.fitted:hover,\n",
       ".sk-estimator-doc-link.fitted:hover,\n",
       "div.sk-label-container:hover .sk-estimator-doc-link.fitted:hover,\n",
       ".sk-estimator-doc-link.fitted:hover {\n",
       "  /* fitted */\n",
       "  background-color: var(--sklearn-color-fitted-level-3);\n",
       "  color: var(--sklearn-color-background);\n",
       "  text-decoration: none;\n",
       "}\n",
       "\n",
       "/* Span, style for the box shown on hovering the info icon */\n",
       ".sk-estimator-doc-link span {\n",
       "  display: none;\n",
       "  z-index: 9999;\n",
       "  position: relative;\n",
       "  font-weight: normal;\n",
       "  right: .2ex;\n",
       "  padding: .5ex;\n",
       "  margin: .5ex;\n",
       "  width: min-content;\n",
       "  min-width: 20ex;\n",
       "  max-width: 50ex;\n",
       "  color: var(--sklearn-color-text);\n",
       "  box-shadow: 2pt 2pt 4pt #999;\n",
       "  /* unfitted */\n",
       "  background: var(--sklearn-color-unfitted-level-0);\n",
       "  border: .5pt solid var(--sklearn-color-unfitted-level-3);\n",
       "}\n",
       "\n",
       ".sk-estimator-doc-link.fitted span {\n",
       "  /* fitted */\n",
       "  background: var(--sklearn-color-fitted-level-0);\n",
       "  border: var(--sklearn-color-fitted-level-3);\n",
       "}\n",
       "\n",
       ".sk-estimator-doc-link:hover span {\n",
       "  display: block;\n",
       "}\n",
       "\n",
       "/* \"?\"-specific style due to the `<a>` HTML tag */\n",
       "\n",
       "#sk-container-id-1 a.estimator_doc_link {\n",
       "  float: right;\n",
       "  font-size: 1rem;\n",
       "  line-height: 1em;\n",
       "  font-family: monospace;\n",
       "  background-color: var(--sklearn-color-background);\n",
       "  border-radius: 1rem;\n",
       "  height: 1rem;\n",
       "  width: 1rem;\n",
       "  text-decoration: none;\n",
       "  /* unfitted */\n",
       "  color: var(--sklearn-color-unfitted-level-1);\n",
       "  border: var(--sklearn-color-unfitted-level-1) 1pt solid;\n",
       "}\n",
       "\n",
       "#sk-container-id-1 a.estimator_doc_link.fitted {\n",
       "  /* fitted */\n",
       "  border: var(--sklearn-color-fitted-level-1) 1pt solid;\n",
       "  color: var(--sklearn-color-fitted-level-1);\n",
       "}\n",
       "\n",
       "/* On hover */\n",
       "#sk-container-id-1 a.estimator_doc_link:hover {\n",
       "  /* unfitted */\n",
       "  background-color: var(--sklearn-color-unfitted-level-3);\n",
       "  color: var(--sklearn-color-background);\n",
       "  text-decoration: none;\n",
       "}\n",
       "\n",
       "#sk-container-id-1 a.estimator_doc_link.fitted:hover {\n",
       "  /* fitted */\n",
       "  background-color: var(--sklearn-color-fitted-level-3);\n",
       "}\n",
       "</style><div id=\"sk-container-id-1\" class=\"sk-top-container\"><div class=\"sk-text-repr-fallback\"><pre>XGBClassifier(base_score=None, booster=None, callbacks=None,\n",
       "              colsample_bylevel=None, colsample_bynode=0.5393833829892098,\n",
       "              colsample_bytree=None, device=None, early_stopping_rounds=None,\n",
       "              enable_categorical=False,\n",
       "              eval_metric=&lt;function custom_f1_score at 0x7f88d81a0540&gt;,\n",
       "              feature_types=None, gamma=None, grow_policy=None,\n",
       "              importance_type=None, interaction_constraints=None,\n",
       "              learning_rate=0.17245886914466724, max_bin=None,\n",
       "              max_cat_threshold=None, max_cat_to_onehot=None,\n",
       "              max_delta_step=None, max_depth=13, max_leaves=None,\n",
       "              min_child_weight=34, missing=nan, monotone_constraints=None,\n",
       "              multi_strategy=None, n_estimators=170, n_jobs=None,\n",
       "              num_parallel_tree=None, objective=&#x27;multi:softprob&#x27;, ...)</pre><b>In a Jupyter environment, please rerun this cell to show the HTML representation or trust the notebook. <br />On GitHub, the HTML representation is unable to render, please try loading this page with nbviewer.org.</b></div><div class=\"sk-container\" hidden><div class=\"sk-item\"><div class=\"sk-estimator fitted sk-toggleable\"><input class=\"sk-toggleable__control sk-hidden--visually\" id=\"sk-estimator-id-1\" type=\"checkbox\" checked><label for=\"sk-estimator-id-1\" class=\"sk-toggleable__label fitted sk-toggleable__label-arrow fitted\">&nbsp;XGBClassifier<span class=\"sk-estimator-doc-link fitted\">i<span>Fitted</span></span></label><div class=\"sk-toggleable__content fitted\"><pre>XGBClassifier(base_score=None, booster=None, callbacks=None,\n",
       "              colsample_bylevel=None, colsample_bynode=0.5393833829892098,\n",
       "              colsample_bytree=None, device=None, early_stopping_rounds=None,\n",
       "              enable_categorical=False,\n",
       "              eval_metric=&lt;function custom_f1_score at 0x7f88d81a0540&gt;,\n",
       "              feature_types=None, gamma=None, grow_policy=None,\n",
       "              importance_type=None, interaction_constraints=None,\n",
       "              learning_rate=0.17245886914466724, max_bin=None,\n",
       "              max_cat_threshold=None, max_cat_to_onehot=None,\n",
       "              max_delta_step=None, max_depth=13, max_leaves=None,\n",
       "              min_child_weight=34, missing=nan, monotone_constraints=None,\n",
       "              multi_strategy=None, n_estimators=170, n_jobs=None,\n",
       "              num_parallel_tree=None, objective=&#x27;multi:softprob&#x27;, ...)</pre></div> </div></div></div></div>"
      ],
      "text/plain": [
       "XGBClassifier(base_score=None, booster=None, callbacks=None,\n",
       "              colsample_bylevel=None, colsample_bynode=0.5393833829892098,\n",
       "              colsample_bytree=None, device=None, early_stopping_rounds=None,\n",
       "              enable_categorical=False,\n",
       "              eval_metric=<function custom_f1_score at 0x7f88d81a0540>,\n",
       "              feature_types=None, gamma=None, grow_policy=None,\n",
       "              importance_type=None, interaction_constraints=None,\n",
       "              learning_rate=0.17245886914466724, max_bin=None,\n",
       "              max_cat_threshold=None, max_cat_to_onehot=None,\n",
       "              max_delta_step=None, max_depth=13, max_leaves=None,\n",
       "              min_child_weight=34, missing=nan, monotone_constraints=None,\n",
       "              multi_strategy=None, n_estimators=170, n_jobs=None,\n",
       "              num_parallel_tree=None, objective='multi:softprob', ...)"
      ]
     },
     "execution_count": 21,
     "metadata": {},
     "output_type": "execute_result"
    }
   ],
   "source": [
    "n_estimators = int(study.best_trial.user_attrs['best_iteration']*1.2)\n",
    "xgb = xgboost.XGBClassifier(\n",
    "        eval_metric=eval_metric,\n",
    "        n_estimators=n_estimators,\n",
    "        **study.best_trial.params\n",
    "    )\n",
    "xgb.fit(\n",
    "    ssp.vstack((X_train, X_val)), \n",
    "    np.concatenate((y_train_enc, y_val_enc)),\n",
    "    verbose=1,\n",
    ")"
   ]
  },
  {
   "cell_type": "code",
   "execution_count": 22,
   "id": "1ea34cfc",
   "metadata": {
    "execution": {
     "iopub.execute_input": "2025-05-15T16:25:28.471361Z",
     "iopub.status.busy": "2025-05-15T16:25:28.471100Z",
     "iopub.status.idle": "2025-05-15T16:25:28.517121Z",
     "shell.execute_reply": "2025-05-15T16:25:28.516775Z"
    },
    "papermill": {
     "duration": 0.055735,
     "end_time": "2025-05-15T16:25:28.517916",
     "exception": false,
     "start_time": "2025-05-15T16:25:28.462181",
     "status": "completed"
    },
    "tags": []
   },
   "outputs": [
    {
     "data": {
      "text/plain": [
       "['/scratch_isilon/groups/singlecell/shared/projects/Inflammation-PBMCs-Atlas/03_downstream_analysis/08_gene_importance/xgboost_external_validation/xgboost_TopN_genes/results_20/best_model/Mono_17_3_xgb.json']"
      ]
     },
     "execution_count": 22,
     "metadata": {},
     "output_type": "execute_result"
    }
   ],
   "source": [
    "out_dir = here(f'03_downstream_analysis/08_gene_importance/xgboost_external_validation/xgboost_TopN_genes/results_{N_GENES}/best_model')\n",
    "\n",
    "if not os.path.exists(out_dir):\n",
    "    os.makedirs(out_dir)\n",
    "    \n",
    "joblib.dump(xgb, os.path.join(out_dir, f'{CELL_TYPE}_{SEED}_{TEST_SPLIT_IDX}_xgb.json'))"
   ]
  },
  {
   "cell_type": "code",
   "execution_count": 23,
   "id": "4f995fff",
   "metadata": {
    "execution": {
     "iopub.execute_input": "2025-05-15T16:25:28.544591Z",
     "iopub.status.busy": "2025-05-15T16:25:28.544357Z",
     "iopub.status.idle": "2025-05-15T16:25:29.774647Z",
     "shell.execute_reply": "2025-05-15T16:25:29.774219Z"
    },
    "papermill": {
     "duration": 1.240377,
     "end_time": "2025-05-15T16:25:29.775576",
     "exception": false,
     "start_time": "2025-05-15T16:25:28.535199",
     "status": "completed"
    },
    "tags": []
   },
   "outputs": [],
   "source": [
    "df_pred_test = pd.DataFrame(dict(\n",
    "    cell_id=train_adata.obs.iloc[test_idxs].index.values,\n",
    "    y_true=y_test, \n",
    "    y_true_code=y_test_enc, \n",
    "    y_pred=xgb.predict(X_test))).set_index('cell_id')"
   ]
  },
  {
   "cell_type": "code",
   "execution_count": 24,
   "id": "516021d6",
   "metadata": {
    "execution": {
     "iopub.execute_input": "2025-05-15T16:25:29.798272Z",
     "iopub.status.busy": "2025-05-15T16:25:29.797975Z",
     "iopub.status.idle": "2025-05-15T16:25:30.030521Z",
     "shell.execute_reply": "2025-05-15T16:25:30.030130Z"
    },
    "papermill": {
     "duration": 0.24228,
     "end_time": "2025-05-15T16:25:30.031660",
     "exception": false,
     "start_time": "2025-05-15T16:25:29.789380",
     "status": "completed"
    },
    "tags": []
   },
   "outputs": [],
   "source": [
    "out_dir = here(f'03_downstream_analysis/08_gene_importance/xgboost_external_validation/xgboost_TopN_genes/results_{N_GENES}/predictions')\n",
    "\n",
    "if not os.path.exists(out_dir):\n",
    "    os.makedirs(out_dir)\n",
    "    \n",
    "df_pred_test.to_csv(os.path.join(out_dir, f'{CELL_TYPE}_{SEED}_{TEST_SPLIT_IDX}_pred_test.zip'))"
   ]
  },
  {
   "cell_type": "code",
   "execution_count": 25,
   "id": "5f896e05",
   "metadata": {
    "execution": {
     "iopub.execute_input": "2025-05-15T16:25:30.061561Z",
     "iopub.status.busy": "2025-05-15T16:25:30.061222Z",
     "iopub.status.idle": "2025-05-15T16:25:30.080663Z",
     "shell.execute_reply": "2025-05-15T16:25:30.080338Z"
    },
    "papermill": {
     "duration": 0.029032,
     "end_time": "2025-05-15T16:25:30.081416",
     "exception": false,
     "start_time": "2025-05-15T16:25:30.052384",
     "status": "completed"
    },
    "tags": []
   },
   "outputs": [
    {
     "name": "stderr",
     "output_type": "stream",
     "text": [
      "/scratch_isilon/groups/singlecell/shared/conda_env/xgboost-cpu/lib/python3.12/site-packages/sklearn/metrics/_classification.py:2466: UserWarning: y_pred contains classes not in y_true\n",
      "  warnings.warn(\"y_pred contains classes not in y_true\")\n"
     ]
    }
   ],
   "source": [
    "metrics_dict = dict(\n",
    "    BAS=balanced_accuracy_score(y_true=df_pred_test.y_true_code, y_pred=df_pred_test.y_pred), WF1=f1_score(y_true=df_pred_test.y_true_code, y_pred=df_pred_test.y_pred,average='weighted'))"
   ]
  },
  {
   "cell_type": "code",
   "execution_count": 26,
   "id": "fcab1bf6",
   "metadata": {
    "execution": {
     "iopub.execute_input": "2025-05-15T16:25:30.116614Z",
     "iopub.status.busy": "2025-05-15T16:25:30.116432Z",
     "iopub.status.idle": "2025-05-15T16:25:30.119139Z",
     "shell.execute_reply": "2025-05-15T16:25:30.118844Z"
    },
    "papermill": {
     "duration": 0.029168,
     "end_time": "2025-05-15T16:25:30.119905",
     "exception": false,
     "start_time": "2025-05-15T16:25:30.090737",
     "status": "completed"
    },
    "tags": []
   },
   "outputs": [
    {
     "data": {
      "text/plain": [
       "{'BAS': 0.6608797817758453, 'WF1': 0.8140167097684241}"
      ]
     },
     "execution_count": 26,
     "metadata": {},
     "output_type": "execute_result"
    }
   ],
   "source": [
    "metrics_dict"
   ]
  },
  {
   "cell_type": "code",
   "execution_count": 27,
   "id": "add0cd9a",
   "metadata": {
    "execution": {
     "iopub.execute_input": "2025-05-15T16:25:30.159579Z",
     "iopub.status.busy": "2025-05-15T16:25:30.159280Z",
     "iopub.status.idle": "2025-05-15T16:25:30.169096Z",
     "shell.execute_reply": "2025-05-15T16:25:30.168796Z"
    },
    "papermill": {
     "duration": 0.041778,
     "end_time": "2025-05-15T16:25:30.169862",
     "exception": false,
     "start_time": "2025-05-15T16:25:30.128084",
     "status": "completed"
    },
    "tags": []
   },
   "outputs": [
    {
     "data": {
      "text/html": [
       "<div>\n",
       "<style scoped>\n",
       "    .dataframe tbody tr th:only-of-type {\n",
       "        vertical-align: middle;\n",
       "    }\n",
       "\n",
       "    .dataframe tbody tr th {\n",
       "        vertical-align: top;\n",
       "    }\n",
       "\n",
       "    .dataframe thead th {\n",
       "        text-align: right;\n",
       "    }\n",
       "</style>\n",
       "<table border=\"1\" class=\"dataframe\">\n",
       "  <thead>\n",
       "    <tr style=\"text-align: right;\">\n",
       "      <th></th>\n",
       "      <th>BAS</th>\n",
       "      <th>WF1</th>\n",
       "      <th>split_idx</th>\n",
       "      <th>gene_set_seed</th>\n",
       "      <th>cell_type</th>\n",
       "    </tr>\n",
       "  </thead>\n",
       "  <tbody>\n",
       "    <tr>\n",
       "      <th>0</th>\n",
       "      <td>0.66088</td>\n",
       "      <td>0.814017</td>\n",
       "      <td>3</td>\n",
       "      <td>17</td>\n",
       "      <td>Mono</td>\n",
       "    </tr>\n",
       "  </tbody>\n",
       "</table>\n",
       "</div>"
      ],
      "text/plain": [
       "       BAS       WF1  split_idx  gene_set_seed cell_type\n",
       "0  0.66088  0.814017          3             17      Mono"
      ]
     },
     "execution_count": 27,
     "metadata": {},
     "output_type": "execute_result"
    }
   ],
   "source": [
    "metrics_df = pd.DataFrame.from_dict([metrics_dict]).assign(split_idx=TEST_SPLIT_IDX, gene_set_seed=SEED, cell_type=CELL_TYPE)\n",
    "metrics_df"
   ]
  },
  {
   "cell_type": "code",
   "execution_count": 28,
   "id": "b2aa04f8",
   "metadata": {
    "execution": {
     "iopub.execute_input": "2025-05-15T16:25:30.187885Z",
     "iopub.status.busy": "2025-05-15T16:25:30.187701Z",
     "iopub.status.idle": "2025-05-15T16:25:30.195816Z",
     "shell.execute_reply": "2025-05-15T16:25:30.195521Z"
    },
    "papermill": {
     "duration": 0.018045,
     "end_time": "2025-05-15T16:25:30.196563",
     "exception": false,
     "start_time": "2025-05-15T16:25:30.178518",
     "status": "completed"
    },
    "tags": []
   },
   "outputs": [],
   "source": [
    "out_dir = here(f'03_downstream_analysis/08_gene_importance/xgboost_external_validation/xgboost_TopN_genes/results_{N_GENES}/metrics')\n",
    "\n",
    "if not os.path.exists(out_dir):\n",
    "    os.makedirs(out_dir)\n",
    "    \n",
    "metrics_df.to_csv(os.path.join(out_dir, f'{CELL_TYPE}_{SEED}_{TEST_SPLIT_IDX}_metrics.zip'))"
   ]
  }
 ],
 "metadata": {
  "kernelspec": {
   "display_name": "Python 3 (ipykernel)",
   "language": "python",
   "name": "python3"
  },
  "language_info": {
   "codemirror_mode": {
    "name": "ipython",
    "version": 3
   },
   "file_extension": ".py",
   "mimetype": "text/x-python",
   "name": "python",
   "nbconvert_exporter": "python",
   "pygments_lexer": "ipython3",
   "version": "3.12.5"
  },
  "papermill": {
   "default_parameters": {},
   "duration": 1515.694328,
   "end_time": "2025-05-15T16:25:30.819941",
   "environment_variables": {},
   "exception": null,
   "input_path": "02_xgboost_fitting_external_20genes.ipynb",
   "output_path": "results_20/executed_notebooks/xgboost_fitting_external_CT_Mono_GS_17_seed3.ipynb",
   "parameters": {
    "CELL_TYPE": "Mono",
    "SEED": 17,
    "TEST_SPLIT_IDX": 3
   },
   "start_time": "2025-05-15T16:00:15.125613",
   "version": "2.6.0"
  }
 },
 "nbformat": 4,
 "nbformat_minor": 5
}