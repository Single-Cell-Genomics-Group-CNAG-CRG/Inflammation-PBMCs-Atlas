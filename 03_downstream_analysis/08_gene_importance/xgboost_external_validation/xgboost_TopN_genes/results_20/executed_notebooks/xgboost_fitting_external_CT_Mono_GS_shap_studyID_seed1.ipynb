{
 "cells": [
  {
   "cell_type": "code",
   "execution_count": 1,
   "id": "1f3d6d66",
   "metadata": {
    "editable": true,
    "execution": {
     "iopub.execute_input": "2025-05-14T16:07:19.613983Z",
     "iopub.status.busy": "2025-05-14T16:07:19.613837Z",
     "iopub.status.idle": "2025-05-14T16:07:19.616841Z",
     "shell.execute_reply": "2025-05-14T16:07:19.616459Z"
    },
    "papermill": {
     "duration": 0.02922,
     "end_time": "2025-05-14T16:07:19.617740",
     "exception": false,
     "start_time": "2025-05-14T16:07:19.588520",
     "status": "completed"
    },
    "slideshow": {
     "slide_type": ""
    },
    "tags": [
     "parameters"
    ]
   },
   "outputs": [],
   "source": [
    "CELL_TYPE = 'pDC'\n",
    "N_GENES: int = 20\n",
    "SEED = 'shap_studyID' #'disease_NOstudy' 'study_NOdisease' or 'int' or 'shap_studyID'\n",
    "TEST_SPLIT_IDX: int = 1 #[0,4]"
   ]
  },
  {
   "cell_type": "code",
   "execution_count": 2,
   "id": "18a1317a",
   "metadata": {
    "execution": {
     "iopub.execute_input": "2025-05-14T16:07:19.669231Z",
     "iopub.status.busy": "2025-05-14T16:07:19.669086Z",
     "iopub.status.idle": "2025-05-14T16:07:19.671448Z",
     "shell.execute_reply": "2025-05-14T16:07:19.671055Z"
    },
    "papermill": {
     "duration": 0.034721,
     "end_time": "2025-05-14T16:07:19.672235",
     "exception": false,
     "start_time": "2025-05-14T16:07:19.637514",
     "status": "completed"
    },
    "tags": [
     "injected-parameters"
    ]
   },
   "outputs": [],
   "source": [
    "# Parameters\n",
    "CELL_TYPE = \"Mono\"\n",
    "SEED = \"shap_studyID\"\n",
    "TEST_SPLIT_IDX = 1\n"
   ]
  },
  {
   "cell_type": "code",
   "execution_count": 3,
   "id": "044ffff8",
   "metadata": {
    "execution": {
     "iopub.execute_input": "2025-05-14T16:07:19.702024Z",
     "iopub.status.busy": "2025-05-14T16:07:19.701596Z",
     "iopub.status.idle": "2025-05-14T16:07:19.703874Z",
     "shell.execute_reply": "2025-05-14T16:07:19.703502Z"
    },
    "papermill": {
     "duration": 0.015858,
     "end_time": "2025-05-14T16:07:19.704654",
     "exception": false,
     "start_time": "2025-05-14T16:07:19.688796",
     "status": "completed"
    },
    "tags": []
   },
   "outputs": [],
   "source": [
    "N_SPLITS: int = 5\n",
    "N_TRIALS: int = 50"
   ]
  },
  {
   "cell_type": "code",
   "execution_count": 4,
   "id": "9562d725",
   "metadata": {
    "execution": {
     "iopub.execute_input": "2025-05-14T16:07:19.724746Z",
     "iopub.status.busy": "2025-05-14T16:07:19.724422Z",
     "iopub.status.idle": "2025-05-14T16:07:46.942394Z",
     "shell.execute_reply": "2025-05-14T16:07:46.941971Z"
    },
    "papermill": {
     "duration": 27.226477,
     "end_time": "2025-05-14T16:07:46.943659",
     "exception": false,
     "start_time": "2025-05-14T16:07:19.717182",
     "status": "completed"
    },
    "tags": []
   },
   "outputs": [],
   "source": [
    "import os\n",
    "import sys\n",
    "from pyprojroot.here import here\n",
    "import pandas as pd\n",
    "import anndata as ad\n",
    "import numpy as np\n",
    "import math\n",
    "from sklearn.model_selection import StratifiedGroupKFold\n",
    "from sklearn.preprocessing import LabelEncoder\n",
    "from sklearn.metrics import f1_score\n",
    "import matplotlib.pyplot as plt\n",
    "import seaborn as sns\n",
    "from itertools import product\n",
    "from sklearn.metrics import balanced_accuracy_score, f1_score\n",
    "import optuna\n",
    "\n",
    "import joblib\n",
    "import pickle\n",
    "import datetime\n",
    "\n",
    "import collections\n",
    "\n",
    "import xgboost\n",
    "from sklearn.preprocessing import LabelEncoder\n",
    "\n",
    "import scipy.sparse as ssp\n",
    "import joblib\n",
    "\n",
    "from dotenv import load_dotenv"
   ]
  },
  {
   "cell_type": "code",
   "execution_count": 5,
   "id": "37fb8f7c",
   "metadata": {
    "execution": {
     "iopub.execute_input": "2025-05-14T16:07:46.981272Z",
     "iopub.status.busy": "2025-05-14T16:07:46.980851Z",
     "iopub.status.idle": "2025-05-14T16:07:46.986037Z",
     "shell.execute_reply": "2025-05-14T16:07:46.985745Z"
    },
    "papermill": {
     "duration": 0.022261,
     "end_time": "2025-05-14T16:07:46.986881",
     "exception": false,
     "start_time": "2025-05-14T16:07:46.964620",
     "status": "completed"
    },
    "tags": []
   },
   "outputs": [
    {
     "data": {
      "text/plain": [
       "True"
      ]
     },
     "execution_count": 5,
     "metadata": {},
     "output_type": "execute_result"
    }
   ],
   "source": [
    "load_dotenv()"
   ]
  },
  {
   "cell_type": "markdown",
   "id": "e52a33e1",
   "metadata": {
    "papermill": {
     "duration": 0.012258,
     "end_time": "2025-05-14T16:07:47.007230",
     "exception": false,
     "start_time": "2025-05-14T16:07:46.994972",
     "status": "completed"
    },
    "tags": []
   },
   "source": [
    "# LOAD DATASET"
   ]
  },
  {
   "cell_type": "code",
   "execution_count": 6,
   "id": "1043c5c1",
   "metadata": {
    "execution": {
     "iopub.execute_input": "2025-05-14T16:07:47.036531Z",
     "iopub.status.busy": "2025-05-14T16:07:47.036202Z",
     "iopub.status.idle": "2025-05-14T16:07:48.311580Z",
     "shell.execute_reply": "2025-05-14T16:07:48.311136Z"
    },
    "papermill": {
     "duration": 1.29272,
     "end_time": "2025-05-14T16:07:48.312675",
     "exception": false,
     "start_time": "2025-05-14T16:07:47.019955",
     "status": "completed"
    },
    "tags": []
   },
   "outputs": [],
   "source": [
    "train_adata = ad.read_h5ad(\n",
    "    here(f'03_downstream_analysis/08_gene_importance/xgboost_external_validation/xgboost_TopN_genes/data_cellTypes/EXTERNAL_{CELL_TYPE}.filtered.log1p.h5ad')\n",
    ")"
   ]
  },
  {
   "cell_type": "code",
   "execution_count": 7,
   "id": "b8703982",
   "metadata": {
    "execution": {
     "iopub.execute_input": "2025-05-14T16:07:48.365372Z",
     "iopub.status.busy": "2025-05-14T16:07:48.365080Z",
     "iopub.status.idle": "2025-05-14T16:07:48.398566Z",
     "shell.execute_reply": "2025-05-14T16:07:48.398242Z"
    },
    "papermill": {
     "duration": 0.070811,
     "end_time": "2025-05-14T16:07:48.399389",
     "exception": false,
     "start_time": "2025-05-14T16:07:48.328578",
     "status": "completed"
    },
    "tags": []
   },
   "outputs": [
    {
     "name": "stdout",
     "output_type": "stream",
     "text": [
      "['ENSG00000142208' 'ENSG00000165092' 'ENSG00000106367' 'ENSG00000182287'\n",
      " 'ENSG00000165527' 'ENSG00000170540' 'ENSG00000130429' 'ENSG00000162704'\n",
      " 'ENSG00000123268' 'ENSG00000152234' 'ENSG00000099624' 'ENSG00000167863'\n",
      " 'ENSG00000241837' 'ENSG00000185883' 'ENSG00000069399' 'ENSG00000113916'\n",
      " 'ENSG00000135441' 'ENSG00000133639' 'ENSG00000111678' 'ENSG00000258315'\n",
      " 'ENSG00000198668' 'ENSG00000170458' 'ENSG00000013297' 'ENSG00000141367'\n",
      " 'ENSG00000162368' 'ENSG00000126267' 'ENSG00000118260' 'ENSG00000121552'\n",
      " 'ENSG00000121966' 'ENSG00000051523' 'ENSG00000104671' 'ENSG00000132002'\n",
      " 'ENSG00000120129' 'ENSG00000088986' 'ENSG00000264364' 'ENSG00000254772'\n",
      " 'ENSG00000142634' 'ENSG00000122877' 'ENSG00000179388' 'ENSG00000100664'\n",
      " 'ENSG00000142227' 'ENSG00000026103' 'ENSG00000085265' 'ENSG00000125740'\n",
      " 'ENSG00000075426' 'ENSG00000089327' 'ENSG00000170296' 'ENSG00000179144'\n",
      " 'ENSG00000090863' 'ENSG00000242616' 'ENSG00000177885' 'ENSG00000178719'\n",
      " 'ENSG00000143774' 'ENSG00000184897' 'ENSG00000132475' 'ENSG00000197061'\n",
      " 'ENSG00000113070' 'ENSG00000216490' 'ENSG00000159110' 'ENSG00000027697'\n",
      " 'ENSG00000211895' 'ENSG00000243646' 'ENSG00000172349' 'ENSG00000147168'\n",
      " 'ENSG00000008517' 'ENSG00000160712' 'ENSG00000125347' 'ENSG00000213928'\n",
      " 'ENSG00000160255' 'ENSG00000132465' 'ENSG00000143543' 'ENSG00000177606'\n",
      " 'ENSG00000171223' 'ENSG00000068796' 'ENSG00000127528' 'ENSG00000136826'\n",
      " 'ENSG00000186395' 'ENSG00000189067' 'ENSG00000185022' 'ENSG00000107968'\n",
      " 'ENSG00000163563' 'ENSG00000152082' 'ENSG00000186010' 'ENSG00000235568'\n",
      " 'ENSG00000105374' 'ENSG00000243678' 'ENSG00000182117' 'ENSG00000105373'\n",
      " 'ENSG00000123358' 'ENSG00000153234' 'ENSG00000119508' 'ENSG00000169564'\n",
      " 'ENSG00000197111' 'ENSG00000108518' 'ENSG00000139289' 'ENSG00000121879'\n",
      " 'ENSG00000137193' 'ENSG00000198355' 'ENSG00000146278' 'ENSG00000175482'\n",
      " 'ENSG00000129084' 'ENSG00000106588' 'ENSG00000100902' 'ENSG00000184007'\n",
      " 'ENSG00000103490' 'ENSG00000118508' 'ENSG00000108774' 'ENSG00000128340'\n",
      " 'ENSG00000127314' 'ENSG00000173039' 'ENSG00000104312' 'ENSG00000219200'\n",
      " 'ENSG00000168894' 'ENSG00000126524' 'ENSG00000140264' 'ENSG00000120742'\n",
      " 'ENSG00000155465' 'ENSG00000184557' 'ENSG00000066336' 'ENSG00000122862'\n",
      " 'ENSG00000160075' 'ENSG00000136738' 'ENSG00000168610' 'ENSG00000173757'\n",
      " 'ENSG00000164543' 'ENSG00000135604' 'ENSG00000105329' 'ENSG00000243749'\n",
      " 'ENSG00000205542' 'ENSG00000239697' 'ENSG00000161955' 'ENSG00000102524'\n",
      " 'ENSG00000181029' 'ENSG00000123416' 'ENSG00000011600' 'ENSG00000244687'\n",
      " 'ENSG00000183696' 'ENSG00000127540' 'ENSG00000105583' 'ENSG00000146457'\n",
      " 'ENSG00000161642']\n"
     ]
    }
   ],
   "source": [
    "if SEED != 'all':\n",
    "    gene_subset = np.load(here(f'03_downstream_analysis/08_gene_importance/xgboost_external_validation/shap_gene_selection/gene_subsets_{N_GENES}/{CELL_TYPE}_{SEED}.npy'), allow_pickle=True)\n",
    "    train_adata = train_adata[:,gene_subset]\n",
    "    print(gene_subset)\n",
    "elif SEED == 'all':\n",
    "    print('Using all genes')\n",
    "else:\n",
    "    raise ValueError()"
   ]
  },
  {
   "cell_type": "code",
   "execution_count": 8,
   "id": "8e1556ee",
   "metadata": {
    "execution": {
     "iopub.execute_input": "2025-05-14T16:07:48.428265Z",
     "iopub.status.busy": "2025-05-14T16:07:48.428012Z",
     "iopub.status.idle": "2025-05-14T16:07:48.430878Z",
     "shell.execute_reply": "2025-05-14T16:07:48.430587Z"
    },
    "papermill": {
     "duration": 0.022373,
     "end_time": "2025-05-14T16:07:48.431741",
     "exception": false,
     "start_time": "2025-05-14T16:07:48.409368",
     "status": "completed"
    },
    "tags": []
   },
   "outputs": [
    {
     "data": {
      "text/plain": [
       "(137435, 141)"
      ]
     },
     "execution_count": 8,
     "metadata": {},
     "output_type": "execute_result"
    }
   ],
   "source": [
    "train_adata.shape"
   ]
  },
  {
   "cell_type": "code",
   "execution_count": 9,
   "id": "29884d1e",
   "metadata": {
    "execution": {
     "iopub.execute_input": "2025-05-14T16:07:48.467974Z",
     "iopub.status.busy": "2025-05-14T16:07:48.467662Z",
     "iopub.status.idle": "2025-05-14T16:07:48.472041Z",
     "shell.execute_reply": "2025-05-14T16:07:48.471744Z"
    },
    "papermill": {
     "duration": 0.028661,
     "end_time": "2025-05-14T16:07:48.472846",
     "exception": false,
     "start_time": "2025-05-14T16:07:48.444185",
     "status": "completed"
    },
    "tags": []
   },
   "outputs": [
    {
     "data": {
      "text/plain": [
       "['RA', 'healthy', 'COVID', 'HIV', 'cirrhosis', 'CD', 'SLE', 'sepsis']\n",
       "Categories (8, object): ['CD', 'COVID', 'HIV', 'RA', 'SLE', 'cirrhosis', 'healthy', 'sepsis']"
      ]
     },
     "execution_count": 9,
     "metadata": {},
     "output_type": "execute_result"
    }
   ],
   "source": [
    "train_adata.obs.disease.unique()"
   ]
  },
  {
   "cell_type": "code",
   "execution_count": 10,
   "id": "0e84e520",
   "metadata": {
    "execution": {
     "iopub.execute_input": "2025-05-14T16:07:48.489131Z",
     "iopub.status.busy": "2025-05-14T16:07:48.488884Z",
     "iopub.status.idle": "2025-05-14T16:07:48.492955Z",
     "shell.execute_reply": "2025-05-14T16:07:48.492656Z"
    },
    "papermill": {
     "duration": 0.013215,
     "end_time": "2025-05-14T16:07:48.493762",
     "exception": false,
     "start_time": "2025-05-14T16:07:48.480547",
     "status": "completed"
    },
    "tags": []
   },
   "outputs": [
    {
     "data": {
      "text/plain": [
       "['SCGT00val_I0364_T0', 'SCGT00val_I036028_T0', 'SCGT00val_I036024_T0', 'SCGT00val_I036023_T0', 'SCGT00val_I036019_T0', ..., '10XGenomics_10XHC2_T0', '10XGenomics_10XHC3_T0', '10XGenomics_10XHC5_T0', '10XGenomics_10XHC7_T0', '10XGenomics_10XHC8_T0']\n",
       "Length: 86\n",
       "Categories (86, object): ['10XGenomics_10XHC1_T0', '10XGenomics_10XHC2_T0', '10XGenomics_10XHC3_T0', '10XGenomics_10XHC4_T0', ..., 'Savage2021_BRISL6_T0', 'Savage2021_BRISL7_T0', 'Savage2021_PIDA_T0', 'Savage2021_PIDB_T0']"
      ]
     },
     "execution_count": 10,
     "metadata": {},
     "output_type": "execute_result"
    }
   ],
   "source": [
    "train_adata.obs.sampleID.unique()"
   ]
  },
  {
   "cell_type": "code",
   "execution_count": 11,
   "id": "5e97625c",
   "metadata": {
    "execution": {
     "iopub.execute_input": "2025-05-14T16:07:48.514351Z",
     "iopub.status.busy": "2025-05-14T16:07:48.514069Z",
     "iopub.status.idle": "2025-05-14T16:07:48.836633Z",
     "shell.execute_reply": "2025-05-14T16:07:48.836251Z"
    },
    "papermill": {
     "duration": 0.332566,
     "end_time": "2025-05-14T16:07:48.837755",
     "exception": false,
     "start_time": "2025-05-14T16:07:48.505189",
     "status": "completed"
    },
    "tags": []
   },
   "outputs": [],
   "source": [
    "all_idxs = np.arange(train_adata.obs.shape[0])\n",
    "left_out_splits = [s[1] for s in StratifiedGroupKFold(n_splits=N_SPLITS).split(all_idxs, train_adata.obs.disease, train_adata.obs.sampleID)]"
   ]
  },
  {
   "cell_type": "code",
   "execution_count": 12,
   "id": "c5393ea8",
   "metadata": {
    "execution": {
     "iopub.execute_input": "2025-05-14T16:07:48.851797Z",
     "iopub.status.busy": "2025-05-14T16:07:48.851543Z",
     "iopub.status.idle": "2025-05-14T16:07:48.854710Z",
     "shell.execute_reply": "2025-05-14T16:07:48.854424Z"
    },
    "papermill": {
     "duration": 0.011134,
     "end_time": "2025-05-14T16:07:48.855565",
     "exception": false,
     "start_time": "2025-05-14T16:07:48.844431",
     "status": "completed"
    },
    "tags": []
   },
   "outputs": [
    {
     "data": {
      "text/plain": [
       "([0, 3, 4], 2, 1)"
      ]
     },
     "execution_count": 12,
     "metadata": {},
     "output_type": "execute_result"
    }
   ],
   "source": [
    "TRAIN_SPLIT_IDXS = [0,1,2,3,4]\n",
    "VAL_SPLIT_IDX = (TEST_SPLIT_IDX + 1) % 5\n",
    "TRAIN_SPLIT_IDXS.remove(TEST_SPLIT_IDX)\n",
    "TRAIN_SPLIT_IDXS.remove(VAL_SPLIT_IDX)\n",
    "TRAIN_SPLIT_IDXS, VAL_SPLIT_IDX, TEST_SPLIT_IDX"
   ]
  },
  {
   "cell_type": "code",
   "execution_count": 13,
   "id": "e6594fb2",
   "metadata": {
    "execution": {
     "iopub.execute_input": "2025-05-14T16:07:48.870228Z",
     "iopub.status.busy": "2025-05-14T16:07:48.869976Z",
     "iopub.status.idle": "2025-05-14T16:07:48.872343Z",
     "shell.execute_reply": "2025-05-14T16:07:48.872046Z"
    },
    "papermill": {
     "duration": 0.011692,
     "end_time": "2025-05-14T16:07:48.873165",
     "exception": false,
     "start_time": "2025-05-14T16:07:48.861473",
     "status": "completed"
    },
    "tags": []
   },
   "outputs": [],
   "source": [
    "train_idxs = np.concatenate([left_out_splits[idx] for idx in TRAIN_SPLIT_IDXS])\n",
    "val_idxs = left_out_splits[VAL_SPLIT_IDX]\n",
    "test_idxs = left_out_splits[TEST_SPLIT_IDX]"
   ]
  },
  {
   "cell_type": "markdown",
   "id": "319edf0a",
   "metadata": {
    "papermill": {
     "duration": 0.006426,
     "end_time": "2025-05-14T16:07:48.887282",
     "exception": false,
     "start_time": "2025-05-14T16:07:48.880856",
     "status": "completed"
    },
    "tags": []
   },
   "source": [
    "### SUBSET DATASET INTO TRAIN/TEST/VAL SPLITS"
   ]
  },
  {
   "cell_type": "code",
   "execution_count": 14,
   "id": "2289cc7a",
   "metadata": {
    "execution": {
     "iopub.execute_input": "2025-05-14T16:07:48.900843Z",
     "iopub.status.busy": "2025-05-14T16:07:48.900606Z",
     "iopub.status.idle": "2025-05-14T16:07:49.448691Z",
     "shell.execute_reply": "2025-05-14T16:07:49.448357Z"
    },
    "papermill": {
     "duration": 0.556215,
     "end_time": "2025-05-14T16:07:49.450133",
     "exception": false,
     "start_time": "2025-05-14T16:07:48.893918",
     "status": "completed"
    },
    "tags": []
   },
   "outputs": [
    {
     "data": {
      "text/plain": [
       "((83097, 141), (27487, 141), (26851, 141))"
      ]
     },
     "execution_count": 14,
     "metadata": {},
     "output_type": "execute_result"
    }
   ],
   "source": [
    "X_train = train_adata.X[train_idxs]\n",
    "X_test = train_adata.X[test_idxs]\n",
    "X_val = train_adata.X[val_idxs]\n",
    "X_train.shape, X_test.shape, X_val.shape"
   ]
  },
  {
   "cell_type": "code",
   "execution_count": 15,
   "id": "1e7bd2ba",
   "metadata": {
    "execution": {
     "iopub.execute_input": "2025-05-14T16:07:49.464720Z",
     "iopub.status.busy": "2025-05-14T16:07:49.464552Z",
     "iopub.status.idle": "2025-05-14T16:07:49.481107Z",
     "shell.execute_reply": "2025-05-14T16:07:49.480775Z"
    },
    "papermill": {
     "duration": 0.025189,
     "end_time": "2025-05-14T16:07:49.482119",
     "exception": false,
     "start_time": "2025-05-14T16:07:49.456930",
     "status": "completed"
    },
    "tags": []
   },
   "outputs": [
    {
     "data": {
      "text/plain": [
       "((83097,), (27487,), (26851,))"
      ]
     },
     "execution_count": 15,
     "metadata": {},
     "output_type": "execute_result"
    }
   ],
   "source": [
    "y_train = train_adata.obs.iloc[train_idxs].disease.values.astype(str)\n",
    "y_test = train_adata.obs.iloc[test_idxs].disease.values.astype(str)\n",
    "y_val = train_adata.obs.iloc[val_idxs].disease.values.astype(str)\n",
    "y_train.shape, y_test.shape, y_val.shape"
   ]
  },
  {
   "cell_type": "code",
   "execution_count": 16,
   "id": "6523f1a9",
   "metadata": {
    "execution": {
     "iopub.execute_input": "2025-05-14T16:07:49.496448Z",
     "iopub.status.busy": "2025-05-14T16:07:49.496086Z",
     "iopub.status.idle": "2025-05-14T16:07:49.528604Z",
     "shell.execute_reply": "2025-05-14T16:07:49.528225Z"
    },
    "papermill": {
     "duration": 0.04116,
     "end_time": "2025-05-14T16:07:49.529916",
     "exception": false,
     "start_time": "2025-05-14T16:07:49.488756",
     "status": "completed"
    },
    "tags": []
   },
   "outputs": [],
   "source": [
    "lenc = LabelEncoder()\n",
    "y_train_enc = lenc.fit_transform(y_train)\n",
    "y_val_enc = lenc.transform(y_val)\n",
    "y_test_enc = lenc.transform(y_test)"
   ]
  },
  {
   "cell_type": "markdown",
   "id": "5b2d690d",
   "metadata": {
    "papermill": {
     "duration": 0.006342,
     "end_time": "2025-05-14T16:07:49.542343",
     "exception": false,
     "start_time": "2025-05-14T16:07:49.536001",
     "status": "completed"
    },
    "tags": []
   },
   "source": [
    "### GENERATE F1 "
   ]
  },
  {
   "cell_type": "code",
   "execution_count": 17,
   "id": "a56411db",
   "metadata": {
    "execution": {
     "iopub.execute_input": "2025-05-14T16:07:49.555686Z",
     "iopub.status.busy": "2025-05-14T16:07:49.555350Z",
     "iopub.status.idle": "2025-05-14T16:07:49.557692Z",
     "shell.execute_reply": "2025-05-14T16:07:49.557378Z"
    },
    "papermill": {
     "duration": 0.010629,
     "end_time": "2025-05-14T16:07:49.558976",
     "exception": false,
     "start_time": "2025-05-14T16:07:49.548347",
     "status": "completed"
    },
    "tags": []
   },
   "outputs": [],
   "source": [
    "def custom_f1_score(y_true, y_pred):\n",
    "    return -f1_score(y_true, y_pred.argmax(1), average='weighted')"
   ]
  },
  {
   "cell_type": "code",
   "execution_count": 18,
   "id": "3e4689d9",
   "metadata": {
    "execution": {
     "iopub.execute_input": "2025-05-14T16:07:49.576913Z",
     "iopub.status.busy": "2025-05-14T16:07:49.576751Z",
     "iopub.status.idle": "2025-05-14T16:07:49.580900Z",
     "shell.execute_reply": "2025-05-14T16:07:49.580445Z"
    },
    "papermill": {
     "duration": 0.01678,
     "end_time": "2025-05-14T16:07:49.581759",
     "exception": false,
     "start_time": "2025-05-14T16:07:49.564979",
     "status": "completed"
    },
    "tags": []
   },
   "outputs": [],
   "source": [
    "eval_metric=custom_f1_score\n",
    "eval_metric_name='custom_f1_score'\n",
    "\n",
    "def objective(trial):\n",
    "    params = {\n",
    "        'n_estimators': 1500,\n",
    "        'max_depth': trial.suggest_int('max_depth', 3, 20),\n",
    "        'min_child_weight': trial.suggest_int('min_child_weight', 1, 250),\n",
    "        'subsample': trial.suggest_float('subsample', 0.1, 1.0),\n",
    "        'colsample_bynode': trial.suggest_float('colsample_bynode', 0.1, 1.0),\n",
    "        'learning_rate': trial.suggest_float('learning_rate', 1e-3, 5e-1, log=True),\n",
    "    }\n",
    "    pruning_callback = optuna.integration.XGBoostPruningCallback(trial, f'validation_0-{eval_metric_name}')\n",
    "    es_callback = xgboost.callback.EarlyStopping(20, min_delta=0.001)\n",
    "    xgb = xgboost.XGBClassifier(\n",
    "        eval_metric=eval_metric,\n",
    "        callbacks=[pruning_callback, es_callback],\n",
    "        n_jobs=5,\n",
    "        **params\n",
    "    )\n",
    "    xgb.fit(\n",
    "        X_train, \n",
    "        y_train_enc, \n",
    "        verbose=0,\n",
    "        eval_set=[(X_val, y_val_enc)],\n",
    "    )\n",
    "    trial.set_user_attr('best_iteration', xgb.best_iteration)\n",
    "\n",
    "    return xgb.best_score"
   ]
  },
  {
   "cell_type": "code",
   "execution_count": 19,
   "id": "570debbe",
   "metadata": {
    "execution": {
     "iopub.execute_input": "2025-05-14T16:07:49.599878Z",
     "iopub.status.busy": "2025-05-14T16:07:49.599636Z",
     "iopub.status.idle": "2025-05-14T16:26:02.617021Z",
     "shell.execute_reply": "2025-05-14T16:26:02.616574Z"
    },
    "papermill": {
     "duration": 1093.026848,
     "end_time": "2025-05-14T16:26:02.617991",
     "exception": false,
     "start_time": "2025-05-14T16:07:49.591143",
     "status": "completed"
    },
    "scrolled": true,
    "tags": []
   },
   "outputs": [
    {
     "name": "stderr",
     "output_type": "stream",
     "text": [
      "[I 2025-05-14 18:07:49,601] A new study created in memory with name: no-name-7a0436d7-7b55-4865-bb24-619ae57e8251\n"
     ]
    },
    {
     "name": "stderr",
     "output_type": "stream",
     "text": [
      "[I 2025-05-14 18:08:04,219] Trial 0 finished with value: -0.678857 and parameters: {'max_depth': 9, 'min_child_weight': 238, 'subsample': 0.7587945476302645, 'colsample_bynode': 0.6387926357773329, 'learning_rate': 0.0026368755339723046}. Best is trial 0 with value: -0.678857.\n"
     ]
    },
    {
     "name": "stderr",
     "output_type": "stream",
     "text": [
      "[I 2025-05-14 18:09:29,420] Trial 1 finished with value: -0.848076 and parameters: {'max_depth': 5, 'min_child_weight': 15, 'subsample': 0.8795585311974417, 'colsample_bynode': 0.6410035105688879, 'learning_rate': 0.08148293210105287}. Best is trial 1 with value: -0.848076.\n"
     ]
    },
    {
     "name": "stderr",
     "output_type": "stream",
     "text": [
      "[I 2025-05-14 18:09:34,608] Trial 2 finished with value: -0.638624 and parameters: {'max_depth': 3, 'min_child_weight': 243, 'subsample': 0.8491983767203796, 'colsample_bynode': 0.29110519961044856, 'learning_rate': 0.003095566460242371}. Best is trial 1 with value: -0.848076.\n"
     ]
    },
    {
     "name": "stderr",
     "output_type": "stream",
     "text": [
      "[I 2025-05-14 18:11:51,080] Trial 3 finished with value: -0.755597 and parameters: {'max_depth': 6, 'min_child_weight': 77, 'subsample': 0.5722807884690141, 'colsample_bynode': 0.48875051677790415, 'learning_rate': 0.006109683510122491}. Best is trial 1 with value: -0.848076.\n"
     ]
    },
    {
     "name": "stderr",
     "output_type": "stream",
     "text": [
      "[I 2025-05-14 18:14:43,581] Trial 4 finished with value: -0.839056 and parameters: {'max_depth': 14, 'min_child_weight': 35, 'subsample': 0.3629301836816964, 'colsample_bynode': 0.4297256589643226, 'learning_rate': 0.01701841881702917}. Best is trial 1 with value: -0.848076.\n"
     ]
    },
    {
     "name": "stderr",
     "output_type": "stream",
     "text": [
      "[I 2025-05-14 18:14:52,177] Trial 5 pruned. Trial was pruned at iteration 23.\n"
     ]
    },
    {
     "name": "stderr",
     "output_type": "stream",
     "text": [
      "[I 2025-05-14 18:14:52,941] Trial 6 pruned. Trial was pruned at iteration 0.\n"
     ]
    },
    {
     "name": "stderr",
     "output_type": "stream",
     "text": [
      "[I 2025-05-14 18:14:53,663] Trial 7 pruned. Trial was pruned at iteration 0.\n"
     ]
    },
    {
     "name": "stderr",
     "output_type": "stream",
     "text": [
      "[I 2025-05-14 18:14:54,365] Trial 8 pruned. Trial was pruned at iteration 0.\n"
     ]
    },
    {
     "name": "stderr",
     "output_type": "stream",
     "text": [
      "[I 2025-05-14 18:15:01,603] Trial 9 pruned. Trial was pruned at iteration 21.\n"
     ]
    },
    {
     "name": "stderr",
     "output_type": "stream",
     "text": [
      "[I 2025-05-14 18:15:57,182] Trial 10 finished with value: -0.840574 and parameters: {'max_depth': 9, 'min_child_weight': 2, 'subsample': 0.9725833997090791, 'colsample_bynode': 0.11616568805333755, 'learning_rate': 0.17780618353487967}. Best is trial 1 with value: -0.848076.\n"
     ]
    },
    {
     "name": "stderr",
     "output_type": "stream",
     "text": [
      "[I 2025-05-14 18:17:04,457] Trial 11 finished with value: -0.843902 and parameters: {'max_depth': 9, 'min_child_weight': 4, 'subsample': 0.9818290990185045, 'colsample_bynode': 0.17702656156719, 'learning_rate': 0.11568531411766632}. Best is trial 1 with value: -0.848076.\n"
     ]
    },
    {
     "name": "stderr",
     "output_type": "stream",
     "text": [
      "[I 2025-05-14 18:18:37,797] Trial 12 finished with value: -0.840469 and parameters: {'max_depth': 9, 'min_child_weight': 3, 'subsample': 0.9762317723681219, 'colsample_bynode': 0.14667845540225039, 'learning_rate': 0.07220195396446884}. Best is trial 1 with value: -0.848076.\n"
     ]
    },
    {
     "name": "stderr",
     "output_type": "stream",
     "text": [
      "[I 2025-05-14 18:18:38,553] Trial 13 pruned. Trial was pruned at iteration 0.\n"
     ]
    },
    {
     "name": "stderr",
     "output_type": "stream",
     "text": [
      "[I 2025-05-14 18:18:39,342] Trial 14 pruned. Trial was pruned at iteration 0.\n"
     ]
    },
    {
     "name": "stderr",
     "output_type": "stream",
     "text": [
      "[I 2025-05-14 18:19:33,588] Trial 15 finished with value: -0.830881 and parameters: {'max_depth': 20, 'min_child_weight': 1, 'subsample': 0.7012908959710442, 'colsample_bynode': 0.2540835086298475, 'learning_rate': 0.2833114876720916}. Best is trial 1 with value: -0.848076.\n"
     ]
    },
    {
     "name": "stderr",
     "output_type": "stream",
     "text": [
      "[I 2025-05-14 18:19:34,297] Trial 16 pruned. Trial was pruned at iteration 0.\n"
     ]
    },
    {
     "name": "stderr",
     "output_type": "stream",
     "text": [
      "[I 2025-05-14 18:19:35,031] Trial 17 pruned. Trial was pruned at iteration 0.\n"
     ]
    },
    {
     "name": "stderr",
     "output_type": "stream",
     "text": [
      "[I 2025-05-14 18:20:24,433] Trial 18 finished with value: -0.849746 and parameters: {'max_depth': 11, 'min_child_weight': 37, 'subsample': 0.8988001325877066, 'colsample_bynode': 0.3955466156360019, 'learning_rate': 0.13348559174149954}. Best is trial 18 with value: -0.849746.\n"
     ]
    },
    {
     "name": "stderr",
     "output_type": "stream",
     "text": [
      "[I 2025-05-14 18:20:25,232] Trial 19 pruned. Trial was pruned at iteration 0.\n"
     ]
    },
    {
     "name": "stderr",
     "output_type": "stream",
     "text": [
      "[I 2025-05-14 18:20:26,101] Trial 20 pruned. Trial was pruned at iteration 0.\n"
     ]
    },
    {
     "name": "stderr",
     "output_type": "stream",
     "text": [
      "[I 2025-05-14 18:20:26,891] Trial 21 pruned. Trial was pruned at iteration 0.\n"
     ]
    },
    {
     "name": "stderr",
     "output_type": "stream",
     "text": [
      "[I 2025-05-14 18:20:27,708] Trial 22 pruned. Trial was pruned at iteration 0.\n"
     ]
    },
    {
     "name": "stderr",
     "output_type": "stream",
     "text": [
      "[I 2025-05-14 18:20:28,436] Trial 23 pruned. Trial was pruned at iteration 0.\n"
     ]
    },
    {
     "name": "stderr",
     "output_type": "stream",
     "text": [
      "[I 2025-05-14 18:20:39,391] Trial 24 pruned. Trial was pruned at iteration 22.\n"
     ]
    },
    {
     "name": "stderr",
     "output_type": "stream",
     "text": [
      "[I 2025-05-14 18:20:40,194] Trial 25 pruned. Trial was pruned at iteration 0.\n"
     ]
    },
    {
     "name": "stderr",
     "output_type": "stream",
     "text": [
      "[I 2025-05-14 18:20:40,947] Trial 26 pruned. Trial was pruned at iteration 0.\n"
     ]
    },
    {
     "name": "stderr",
     "output_type": "stream",
     "text": [
      "[I 2025-05-14 18:20:41,669] Trial 27 pruned. Trial was pruned at iteration 0.\n"
     ]
    },
    {
     "name": "stderr",
     "output_type": "stream",
     "text": [
      "[I 2025-05-14 18:20:42,485] Trial 28 pruned. Trial was pruned at iteration 0.\n"
     ]
    },
    {
     "name": "stderr",
     "output_type": "stream",
     "text": [
      "[I 2025-05-14 18:20:43,241] Trial 29 pruned. Trial was pruned at iteration 0.\n"
     ]
    },
    {
     "name": "stderr",
     "output_type": "stream",
     "text": [
      "[I 2025-05-14 18:20:44,034] Trial 30 pruned. Trial was pruned at iteration 0.\n"
     ]
    },
    {
     "name": "stderr",
     "output_type": "stream",
     "text": [
      "[I 2025-05-14 18:21:20,927] Trial 31 finished with value: -0.841118 and parameters: {'max_depth': 9, 'min_child_weight': 4, 'subsample': 0.9914528690508893, 'colsample_bynode': 0.13437405460088098, 'learning_rate': 0.21065044478981804}. Best is trial 18 with value: -0.849746.\n"
     ]
    },
    {
     "name": "stderr",
     "output_type": "stream",
     "text": [
      "[I 2025-05-14 18:22:06,169] Trial 32 finished with value: -0.845184 and parameters: {'max_depth': 13, 'min_child_weight': 12, 'subsample': 0.9947989749982717, 'colsample_bynode': 0.1849610636134306, 'learning_rate': 0.2035261415003552}. Best is trial 18 with value: -0.849746.\n"
     ]
    },
    {
     "name": "stderr",
     "output_type": "stream",
     "text": [
      "[I 2025-05-14 18:22:54,350] Trial 33 finished with value: -0.85333 and parameters: {'max_depth': 15, 'min_child_weight': 33, 'subsample': 0.8276739823932207, 'colsample_bynode': 0.20965042233332948, 'learning_rate': 0.15820065024418278}. Best is trial 33 with value: -0.85333.\n"
     ]
    },
    {
     "name": "stderr",
     "output_type": "stream",
     "text": [
      "[I 2025-05-14 18:23:27,161] Trial 34 finished with value: -0.848695 and parameters: {'max_depth': 15, 'min_child_weight': 29, 'subsample': 0.8401824205386059, 'colsample_bynode': 0.2927786061708212, 'learning_rate': 0.38978519520604465}. Best is trial 33 with value: -0.85333.\n"
     ]
    },
    {
     "name": "stderr",
     "output_type": "stream",
     "text": [
      "[I 2025-05-14 18:23:53,801] Trial 35 finished with value: -0.853676 and parameters: {'max_depth': 16, 'min_child_weight': 33, 'subsample': 0.8019964934019481, 'colsample_bynode': 0.2621884110064244, 'learning_rate': 0.3433591898719518}. Best is trial 35 with value: -0.853676.\n"
     ]
    },
    {
     "name": "stderr",
     "output_type": "stream",
     "text": [
      "[I 2025-05-14 18:24:17,471] Trial 36 finished with value: -0.849324 and parameters: {'max_depth': 16, 'min_child_weight': 37, 'subsample': 0.8228772955545723, 'colsample_bynode': 0.2555202435375986, 'learning_rate': 0.3476032944614117}. Best is trial 35 with value: -0.853676.\n"
     ]
    },
    {
     "name": "stderr",
     "output_type": "stream",
     "text": [
      "[I 2025-05-14 18:24:18,298] Trial 37 pruned. Trial was pruned at iteration 0.\n"
     ]
    },
    {
     "name": "stderr",
     "output_type": "stream",
     "text": [
      "[I 2025-05-14 18:24:19,096] Trial 38 pruned. Trial was pruned at iteration 0.\n"
     ]
    },
    {
     "name": "stderr",
     "output_type": "stream",
     "text": [
      "[I 2025-05-14 18:24:19,865] Trial 39 pruned. Trial was pruned at iteration 0.\n"
     ]
    },
    {
     "name": "stderr",
     "output_type": "stream",
     "text": [
      "[I 2025-05-14 18:24:20,626] Trial 40 pruned. Trial was pruned at iteration 0.\n"
     ]
    },
    {
     "name": "stderr",
     "output_type": "stream",
     "text": [
      "[I 2025-05-14 18:24:55,609] Trial 41 finished with value: -0.850148 and parameters: {'max_depth': 15, 'min_child_weight': 30, 'subsample': 0.8255642647370919, 'colsample_bynode': 0.3908518034710487, 'learning_rate': 0.33061278812848693}. Best is trial 35 with value: -0.853676.\n"
     ]
    },
    {
     "name": "stderr",
     "output_type": "stream",
     "text": [
      "[I 2025-05-14 18:24:56,453] Trial 42 pruned. Trial was pruned at iteration 0.\n"
     ]
    },
    {
     "name": "stderr",
     "output_type": "stream",
     "text": [
      "[I 2025-05-14 18:25:33,151] Trial 43 finished with value: -0.852983 and parameters: {'max_depth': 17, 'min_child_weight': 37, 'subsample': 0.7344085079401942, 'colsample_bynode': 0.41140298981694945, 'learning_rate': 0.2485074655956615}. Best is trial 35 with value: -0.853676.\n"
     ]
    },
    {
     "name": "stderr",
     "output_type": "stream",
     "text": [
      "[I 2025-05-14 18:25:33,967] Trial 44 pruned. Trial was pruned at iteration 0.\n"
     ]
    },
    {
     "name": "stderr",
     "output_type": "stream",
     "text": [
      "[I 2025-05-14 18:25:57,412] Trial 45 finished with value: -0.849309 and parameters: {'max_depth': 14, 'min_child_weight': 53, 'subsample': 0.7564998281485223, 'colsample_bynode': 0.5243605042928747, 'learning_rate': 0.496657450008525}. Best is trial 35 with value: -0.853676.\n"
     ]
    },
    {
     "name": "stderr",
     "output_type": "stream",
     "text": [
      "[I 2025-05-14 18:25:59,401] Trial 46 pruned. Trial was pruned at iteration 3.\n"
     ]
    },
    {
     "name": "stderr",
     "output_type": "stream",
     "text": [
      "[I 2025-05-14 18:26:00,222] Trial 47 pruned. Trial was pruned at iteration 0.\n"
     ]
    },
    {
     "name": "stderr",
     "output_type": "stream",
     "text": [
      "[I 2025-05-14 18:26:01,025] Trial 48 pruned. Trial was pruned at iteration 0.\n"
     ]
    },
    {
     "name": "stderr",
     "output_type": "stream",
     "text": [
      "[I 2025-05-14 18:26:02,535] Trial 49 pruned. Trial was pruned at iteration 1.\n"
     ]
    }
   ],
   "source": [
    "sampler = optuna.samplers.TPESampler(seed=42)\n",
    "study = optuna.create_study(direction='minimize', sampler=sampler)\n",
    "study.optimize(objective, n_trials=N_TRIALS, gc_after_trial=True)"
   ]
  },
  {
   "cell_type": "code",
   "execution_count": 20,
   "id": "d5d603bb",
   "metadata": {
    "execution": {
     "iopub.execute_input": "2025-05-14T16:26:02.638036Z",
     "iopub.status.busy": "2025-05-14T16:26:02.637839Z",
     "iopub.status.idle": "2025-05-14T16:26:02.667953Z",
     "shell.execute_reply": "2025-05-14T16:26:02.667626Z"
    },
    "papermill": {
     "duration": 0.039966,
     "end_time": "2025-05-14T16:26:02.668781",
     "exception": false,
     "start_time": "2025-05-14T16:26:02.628815",
     "status": "completed"
    },
    "tags": []
   },
   "outputs": [
    {
     "data": {
      "text/plain": [
       "['/scratch_isilon/groups/singlecell/shared/projects/Inflammation-PBMCs-Atlas/03_downstream_analysis/08_gene_importance/xgboost_external_validation/xgboost_TopN_genes/results_20/study/Mono_shap_studyID_1_xgboost.pkl']"
      ]
     },
     "execution_count": 20,
     "metadata": {},
     "output_type": "execute_result"
    }
   ],
   "source": [
    "out_dir = here(f'03_downstream_analysis/08_gene_importance/xgboost_external_validation/xgboost_TopN_genes/results_{N_GENES}/study')\n",
    "\n",
    "if not os.path.exists(out_dir):\n",
    "    os.makedirs(out_dir)\n",
    "    \n",
    "joblib.dump(study,os.path.join(out_dir, f'{CELL_TYPE}_{SEED}_{TEST_SPLIT_IDX}_xgboost.pkl'))"
   ]
  },
  {
   "cell_type": "code",
   "execution_count": 21,
   "id": "3d97018d",
   "metadata": {
    "execution": {
     "iopub.execute_input": "2025-05-14T16:26:02.686909Z",
     "iopub.status.busy": "2025-05-14T16:26:02.686404Z",
     "iopub.status.idle": "2025-05-14T16:26:16.112907Z",
     "shell.execute_reply": "2025-05-14T16:26:16.112572Z"
    },
    "papermill": {
     "duration": 13.435919,
     "end_time": "2025-05-14T16:26:16.113913",
     "exception": false,
     "start_time": "2025-05-14T16:26:02.677994",
     "status": "completed"
    },
    "tags": []
   },
   "outputs": [
    {
     "data": {
      "text/html": [
       "<style>#sk-container-id-1 {\n",
       "  /* Definition of color scheme common for light and dark mode */\n",
       "  --sklearn-color-text: black;\n",
       "  --sklearn-color-line: gray;\n",
       "  /* Definition of color scheme for unfitted estimators */\n",
       "  --sklearn-color-unfitted-level-0: #fff5e6;\n",
       "  --sklearn-color-unfitted-level-1: #f6e4d2;\n",
       "  --sklearn-color-unfitted-level-2: #ffe0b3;\n",
       "  --sklearn-color-unfitted-level-3: chocolate;\n",
       "  /* Definition of color scheme for fitted estimators */\n",
       "  --sklearn-color-fitted-level-0: #f0f8ff;\n",
       "  --sklearn-color-fitted-level-1: #d4ebff;\n",
       "  --sklearn-color-fitted-level-2: #b3dbfd;\n",
       "  --sklearn-color-fitted-level-3: cornflowerblue;\n",
       "\n",
       "  /* Specific color for light theme */\n",
       "  --sklearn-color-text-on-default-background: var(--sg-text-color, var(--theme-code-foreground, var(--jp-content-font-color1, black)));\n",
       "  --sklearn-color-background: var(--sg-background-color, var(--theme-background, var(--jp-layout-color0, white)));\n",
       "  --sklearn-color-border-box: var(--sg-text-color, var(--theme-code-foreground, var(--jp-content-font-color1, black)));\n",
       "  --sklearn-color-icon: #696969;\n",
       "\n",
       "  @media (prefers-color-scheme: dark) {\n",
       "    /* Redefinition of color scheme for dark theme */\n",
       "    --sklearn-color-text-on-default-background: var(--sg-text-color, var(--theme-code-foreground, var(--jp-content-font-color1, white)));\n",
       "    --sklearn-color-background: var(--sg-background-color, var(--theme-background, var(--jp-layout-color0, #111)));\n",
       "    --sklearn-color-border-box: var(--sg-text-color, var(--theme-code-foreground, var(--jp-content-font-color1, white)));\n",
       "    --sklearn-color-icon: #878787;\n",
       "  }\n",
       "}\n",
       "\n",
       "#sk-container-id-1 {\n",
       "  color: var(--sklearn-color-text);\n",
       "}\n",
       "\n",
       "#sk-container-id-1 pre {\n",
       "  padding: 0;\n",
       "}\n",
       "\n",
       "#sk-container-id-1 input.sk-hidden--visually {\n",
       "  border: 0;\n",
       "  clip: rect(1px 1px 1px 1px);\n",
       "  clip: rect(1px, 1px, 1px, 1px);\n",
       "  height: 1px;\n",
       "  margin: -1px;\n",
       "  overflow: hidden;\n",
       "  padding: 0;\n",
       "  position: absolute;\n",
       "  width: 1px;\n",
       "}\n",
       "\n",
       "#sk-container-id-1 div.sk-dashed-wrapped {\n",
       "  border: 1px dashed var(--sklearn-color-line);\n",
       "  margin: 0 0.4em 0.5em 0.4em;\n",
       "  box-sizing: border-box;\n",
       "  padding-bottom: 0.4em;\n",
       "  background-color: var(--sklearn-color-background);\n",
       "}\n",
       "\n",
       "#sk-container-id-1 div.sk-container {\n",
       "  /* jupyter's `normalize.less` sets `[hidden] { display: none; }`\n",
       "     but bootstrap.min.css set `[hidden] { display: none !important; }`\n",
       "     so we also need the `!important` here to be able to override the\n",
       "     default hidden behavior on the sphinx rendered scikit-learn.org.\n",
       "     See: https://github.com/scikit-learn/scikit-learn/issues/21755 */\n",
       "  display: inline-block !important;\n",
       "  position: relative;\n",
       "}\n",
       "\n",
       "#sk-container-id-1 div.sk-text-repr-fallback {\n",
       "  display: none;\n",
       "}\n",
       "\n",
       "div.sk-parallel-item,\n",
       "div.sk-serial,\n",
       "div.sk-item {\n",
       "  /* draw centered vertical line to link estimators */\n",
       "  background-image: linear-gradient(var(--sklearn-color-text-on-default-background), var(--sklearn-color-text-on-default-background));\n",
       "  background-size: 2px 100%;\n",
       "  background-repeat: no-repeat;\n",
       "  background-position: center center;\n",
       "}\n",
       "\n",
       "/* Parallel-specific style estimator block */\n",
       "\n",
       "#sk-container-id-1 div.sk-parallel-item::after {\n",
       "  content: \"\";\n",
       "  width: 100%;\n",
       "  border-bottom: 2px solid var(--sklearn-color-text-on-default-background);\n",
       "  flex-grow: 1;\n",
       "}\n",
       "\n",
       "#sk-container-id-1 div.sk-parallel {\n",
       "  display: flex;\n",
       "  align-items: stretch;\n",
       "  justify-content: center;\n",
       "  background-color: var(--sklearn-color-background);\n",
       "  position: relative;\n",
       "}\n",
       "\n",
       "#sk-container-id-1 div.sk-parallel-item {\n",
       "  display: flex;\n",
       "  flex-direction: column;\n",
       "}\n",
       "\n",
       "#sk-container-id-1 div.sk-parallel-item:first-child::after {\n",
       "  align-self: flex-end;\n",
       "  width: 50%;\n",
       "}\n",
       "\n",
       "#sk-container-id-1 div.sk-parallel-item:last-child::after {\n",
       "  align-self: flex-start;\n",
       "  width: 50%;\n",
       "}\n",
       "\n",
       "#sk-container-id-1 div.sk-parallel-item:only-child::after {\n",
       "  width: 0;\n",
       "}\n",
       "\n",
       "/* Serial-specific style estimator block */\n",
       "\n",
       "#sk-container-id-1 div.sk-serial {\n",
       "  display: flex;\n",
       "  flex-direction: column;\n",
       "  align-items: center;\n",
       "  background-color: var(--sklearn-color-background);\n",
       "  padding-right: 1em;\n",
       "  padding-left: 1em;\n",
       "}\n",
       "\n",
       "\n",
       "/* Toggleable style: style used for estimator/Pipeline/ColumnTransformer box that is\n",
       "clickable and can be expanded/collapsed.\n",
       "- Pipeline and ColumnTransformer use this feature and define the default style\n",
       "- Estimators will overwrite some part of the style using the `sk-estimator` class\n",
       "*/\n",
       "\n",
       "/* Pipeline and ColumnTransformer style (default) */\n",
       "\n",
       "#sk-container-id-1 div.sk-toggleable {\n",
       "  /* Default theme specific background. It is overwritten whether we have a\n",
       "  specific estimator or a Pipeline/ColumnTransformer */\n",
       "  background-color: var(--sklearn-color-background);\n",
       "}\n",
       "\n",
       "/* Toggleable label */\n",
       "#sk-container-id-1 label.sk-toggleable__label {\n",
       "  cursor: pointer;\n",
       "  display: block;\n",
       "  width: 100%;\n",
       "  margin-bottom: 0;\n",
       "  padding: 0.5em;\n",
       "  box-sizing: border-box;\n",
       "  text-align: center;\n",
       "}\n",
       "\n",
       "#sk-container-id-1 label.sk-toggleable__label-arrow:before {\n",
       "  /* Arrow on the left of the label */\n",
       "  content: \"▸\";\n",
       "  float: left;\n",
       "  margin-right: 0.25em;\n",
       "  color: var(--sklearn-color-icon);\n",
       "}\n",
       "\n",
       "#sk-container-id-1 label.sk-toggleable__label-arrow:hover:before {\n",
       "  color: var(--sklearn-color-text);\n",
       "}\n",
       "\n",
       "/* Toggleable content - dropdown */\n",
       "\n",
       "#sk-container-id-1 div.sk-toggleable__content {\n",
       "  max-height: 0;\n",
       "  max-width: 0;\n",
       "  overflow: hidden;\n",
       "  text-align: left;\n",
       "  /* unfitted */\n",
       "  background-color: var(--sklearn-color-unfitted-level-0);\n",
       "}\n",
       "\n",
       "#sk-container-id-1 div.sk-toggleable__content.fitted {\n",
       "  /* fitted */\n",
       "  background-color: var(--sklearn-color-fitted-level-0);\n",
       "}\n",
       "\n",
       "#sk-container-id-1 div.sk-toggleable__content pre {\n",
       "  margin: 0.2em;\n",
       "  border-radius: 0.25em;\n",
       "  color: var(--sklearn-color-text);\n",
       "  /* unfitted */\n",
       "  background-color: var(--sklearn-color-unfitted-level-0);\n",
       "}\n",
       "\n",
       "#sk-container-id-1 div.sk-toggleable__content.fitted pre {\n",
       "  /* unfitted */\n",
       "  background-color: var(--sklearn-color-fitted-level-0);\n",
       "}\n",
       "\n",
       "#sk-container-id-1 input.sk-toggleable__control:checked~div.sk-toggleable__content {\n",
       "  /* Expand drop-down */\n",
       "  max-height: 200px;\n",
       "  max-width: 100%;\n",
       "  overflow: auto;\n",
       "}\n",
       "\n",
       "#sk-container-id-1 input.sk-toggleable__control:checked~label.sk-toggleable__label-arrow:before {\n",
       "  content: \"▾\";\n",
       "}\n",
       "\n",
       "/* Pipeline/ColumnTransformer-specific style */\n",
       "\n",
       "#sk-container-id-1 div.sk-label input.sk-toggleable__control:checked~label.sk-toggleable__label {\n",
       "  color: var(--sklearn-color-text);\n",
       "  background-color: var(--sklearn-color-unfitted-level-2);\n",
       "}\n",
       "\n",
       "#sk-container-id-1 div.sk-label.fitted input.sk-toggleable__control:checked~label.sk-toggleable__label {\n",
       "  background-color: var(--sklearn-color-fitted-level-2);\n",
       "}\n",
       "\n",
       "/* Estimator-specific style */\n",
       "\n",
       "/* Colorize estimator box */\n",
       "#sk-container-id-1 div.sk-estimator input.sk-toggleable__control:checked~label.sk-toggleable__label {\n",
       "  /* unfitted */\n",
       "  background-color: var(--sklearn-color-unfitted-level-2);\n",
       "}\n",
       "\n",
       "#sk-container-id-1 div.sk-estimator.fitted input.sk-toggleable__control:checked~label.sk-toggleable__label {\n",
       "  /* fitted */\n",
       "  background-color: var(--sklearn-color-fitted-level-2);\n",
       "}\n",
       "\n",
       "#sk-container-id-1 div.sk-label label.sk-toggleable__label,\n",
       "#sk-container-id-1 div.sk-label label {\n",
       "  /* The background is the default theme color */\n",
       "  color: var(--sklearn-color-text-on-default-background);\n",
       "}\n",
       "\n",
       "/* On hover, darken the color of the background */\n",
       "#sk-container-id-1 div.sk-label:hover label.sk-toggleable__label {\n",
       "  color: var(--sklearn-color-text);\n",
       "  background-color: var(--sklearn-color-unfitted-level-2);\n",
       "}\n",
       "\n",
       "/* Label box, darken color on hover, fitted */\n",
       "#sk-container-id-1 div.sk-label.fitted:hover label.sk-toggleable__label.fitted {\n",
       "  color: var(--sklearn-color-text);\n",
       "  background-color: var(--sklearn-color-fitted-level-2);\n",
       "}\n",
       "\n",
       "/* Estimator label */\n",
       "\n",
       "#sk-container-id-1 div.sk-label label {\n",
       "  font-family: monospace;\n",
       "  font-weight: bold;\n",
       "  display: inline-block;\n",
       "  line-height: 1.2em;\n",
       "}\n",
       "\n",
       "#sk-container-id-1 div.sk-label-container {\n",
       "  text-align: center;\n",
       "}\n",
       "\n",
       "/* Estimator-specific */\n",
       "#sk-container-id-1 div.sk-estimator {\n",
       "  font-family: monospace;\n",
       "  border: 1px dotted var(--sklearn-color-border-box);\n",
       "  border-radius: 0.25em;\n",
       "  box-sizing: border-box;\n",
       "  margin-bottom: 0.5em;\n",
       "  /* unfitted */\n",
       "  background-color: var(--sklearn-color-unfitted-level-0);\n",
       "}\n",
       "\n",
       "#sk-container-id-1 div.sk-estimator.fitted {\n",
       "  /* fitted */\n",
       "  background-color: var(--sklearn-color-fitted-level-0);\n",
       "}\n",
       "\n",
       "/* on hover */\n",
       "#sk-container-id-1 div.sk-estimator:hover {\n",
       "  /* unfitted */\n",
       "  background-color: var(--sklearn-color-unfitted-level-2);\n",
       "}\n",
       "\n",
       "#sk-container-id-1 div.sk-estimator.fitted:hover {\n",
       "  /* fitted */\n",
       "  background-color: var(--sklearn-color-fitted-level-2);\n",
       "}\n",
       "\n",
       "/* Specification for estimator info (e.g. \"i\" and \"?\") */\n",
       "\n",
       "/* Common style for \"i\" and \"?\" */\n",
       "\n",
       ".sk-estimator-doc-link,\n",
       "a:link.sk-estimator-doc-link,\n",
       "a:visited.sk-estimator-doc-link {\n",
       "  float: right;\n",
       "  font-size: smaller;\n",
       "  line-height: 1em;\n",
       "  font-family: monospace;\n",
       "  background-color: var(--sklearn-color-background);\n",
       "  border-radius: 1em;\n",
       "  height: 1em;\n",
       "  width: 1em;\n",
       "  text-decoration: none !important;\n",
       "  margin-left: 1ex;\n",
       "  /* unfitted */\n",
       "  border: var(--sklearn-color-unfitted-level-1) 1pt solid;\n",
       "  color: var(--sklearn-color-unfitted-level-1);\n",
       "}\n",
       "\n",
       ".sk-estimator-doc-link.fitted,\n",
       "a:link.sk-estimator-doc-link.fitted,\n",
       "a:visited.sk-estimator-doc-link.fitted {\n",
       "  /* fitted */\n",
       "  border: var(--sklearn-color-fitted-level-1) 1pt solid;\n",
       "  color: var(--sklearn-color-fitted-level-1);\n",
       "}\n",
       "\n",
       "/* On hover */\n",
       "div.sk-estimator:hover .sk-estimator-doc-link:hover,\n",
       ".sk-estimator-doc-link:hover,\n",
       "div.sk-label-container:hover .sk-estimator-doc-link:hover,\n",
       ".sk-estimator-doc-link:hover {\n",
       "  /* unfitted */\n",
       "  background-color: var(--sklearn-color-unfitted-level-3);\n",
       "  color: var(--sklearn-color-background);\n",
       "  text-decoration: none;\n",
       "}\n",
       "\n",
       "div.sk-estimator.fitted:hover .sk-estimator-doc-link.fitted:hover,\n",
       ".sk-estimator-doc-link.fitted:hover,\n",
       "div.sk-label-container:hover .sk-estimator-doc-link.fitted:hover,\n",
       ".sk-estimator-doc-link.fitted:hover {\n",
       "  /* fitted */\n",
       "  background-color: var(--sklearn-color-fitted-level-3);\n",
       "  color: var(--sklearn-color-background);\n",
       "  text-decoration: none;\n",
       "}\n",
       "\n",
       "/* Span, style for the box shown on hovering the info icon */\n",
       ".sk-estimator-doc-link span {\n",
       "  display: none;\n",
       "  z-index: 9999;\n",
       "  position: relative;\n",
       "  font-weight: normal;\n",
       "  right: .2ex;\n",
       "  padding: .5ex;\n",
       "  margin: .5ex;\n",
       "  width: min-content;\n",
       "  min-width: 20ex;\n",
       "  max-width: 50ex;\n",
       "  color: var(--sklearn-color-text);\n",
       "  box-shadow: 2pt 2pt 4pt #999;\n",
       "  /* unfitted */\n",
       "  background: var(--sklearn-color-unfitted-level-0);\n",
       "  border: .5pt solid var(--sklearn-color-unfitted-level-3);\n",
       "}\n",
       "\n",
       ".sk-estimator-doc-link.fitted span {\n",
       "  /* fitted */\n",
       "  background: var(--sklearn-color-fitted-level-0);\n",
       "  border: var(--sklearn-color-fitted-level-3);\n",
       "}\n",
       "\n",
       ".sk-estimator-doc-link:hover span {\n",
       "  display: block;\n",
       "}\n",
       "\n",
       "/* \"?\"-specific style due to the `<a>` HTML tag */\n",
       "\n",
       "#sk-container-id-1 a.estimator_doc_link {\n",
       "  float: right;\n",
       "  font-size: 1rem;\n",
       "  line-height: 1em;\n",
       "  font-family: monospace;\n",
       "  background-color: var(--sklearn-color-background);\n",
       "  border-radius: 1rem;\n",
       "  height: 1rem;\n",
       "  width: 1rem;\n",
       "  text-decoration: none;\n",
       "  /* unfitted */\n",
       "  color: var(--sklearn-color-unfitted-level-1);\n",
       "  border: var(--sklearn-color-unfitted-level-1) 1pt solid;\n",
       "}\n",
       "\n",
       "#sk-container-id-1 a.estimator_doc_link.fitted {\n",
       "  /* fitted */\n",
       "  border: var(--sklearn-color-fitted-level-1) 1pt solid;\n",
       "  color: var(--sklearn-color-fitted-level-1);\n",
       "}\n",
       "\n",
       "/* On hover */\n",
       "#sk-container-id-1 a.estimator_doc_link:hover {\n",
       "  /* unfitted */\n",
       "  background-color: var(--sklearn-color-unfitted-level-3);\n",
       "  color: var(--sklearn-color-background);\n",
       "  text-decoration: none;\n",
       "}\n",
       "\n",
       "#sk-container-id-1 a.estimator_doc_link.fitted:hover {\n",
       "  /* fitted */\n",
       "  background-color: var(--sklearn-color-fitted-level-3);\n",
       "}\n",
       "</style><div id=\"sk-container-id-1\" class=\"sk-top-container\"><div class=\"sk-text-repr-fallback\"><pre>XGBClassifier(base_score=None, booster=None, callbacks=None,\n",
       "              colsample_bylevel=None, colsample_bynode=0.2621884110064244,\n",
       "              colsample_bytree=None, device=None, early_stopping_rounds=None,\n",
       "              enable_categorical=False,\n",
       "              eval_metric=&lt;function custom_f1_score at 0x7fa70e22f920&gt;,\n",
       "              feature_types=None, gamma=None, grow_policy=None,\n",
       "              importance_type=None, interaction_constraints=None,\n",
       "              learning_rate=0.3433591898719518, max_bin=None,\n",
       "              max_cat_threshold=None, max_cat_to_onehot=None,\n",
       "              max_delta_step=None, max_depth=16, max_leaves=None,\n",
       "              min_child_weight=33, missing=nan, monotone_constraints=None,\n",
       "              multi_strategy=None, n_estimators=85, n_jobs=None,\n",
       "              num_parallel_tree=None, objective=&#x27;multi:softprob&#x27;, ...)</pre><b>In a Jupyter environment, please rerun this cell to show the HTML representation or trust the notebook. <br />On GitHub, the HTML representation is unable to render, please try loading this page with nbviewer.org.</b></div><div class=\"sk-container\" hidden><div class=\"sk-item\"><div class=\"sk-estimator fitted sk-toggleable\"><input class=\"sk-toggleable__control sk-hidden--visually\" id=\"sk-estimator-id-1\" type=\"checkbox\" checked><label for=\"sk-estimator-id-1\" class=\"sk-toggleable__label fitted sk-toggleable__label-arrow fitted\">&nbsp;XGBClassifier<span class=\"sk-estimator-doc-link fitted\">i<span>Fitted</span></span></label><div class=\"sk-toggleable__content fitted\"><pre>XGBClassifier(base_score=None, booster=None, callbacks=None,\n",
       "              colsample_bylevel=None, colsample_bynode=0.2621884110064244,\n",
       "              colsample_bytree=None, device=None, early_stopping_rounds=None,\n",
       "              enable_categorical=False,\n",
       "              eval_metric=&lt;function custom_f1_score at 0x7fa70e22f920&gt;,\n",
       "              feature_types=None, gamma=None, grow_policy=None,\n",
       "              importance_type=None, interaction_constraints=None,\n",
       "              learning_rate=0.3433591898719518, max_bin=None,\n",
       "              max_cat_threshold=None, max_cat_to_onehot=None,\n",
       "              max_delta_step=None, max_depth=16, max_leaves=None,\n",
       "              min_child_weight=33, missing=nan, monotone_constraints=None,\n",
       "              multi_strategy=None, n_estimators=85, n_jobs=None,\n",
       "              num_parallel_tree=None, objective=&#x27;multi:softprob&#x27;, ...)</pre></div> </div></div></div></div>"
      ],
      "text/plain": [
       "XGBClassifier(base_score=None, booster=None, callbacks=None,\n",
       "              colsample_bylevel=None, colsample_bynode=0.2621884110064244,\n",
       "              colsample_bytree=None, device=None, early_stopping_rounds=None,\n",
       "              enable_categorical=False,\n",
       "              eval_metric=<function custom_f1_score at 0x7fa70e22f920>,\n",
       "              feature_types=None, gamma=None, grow_policy=None,\n",
       "              importance_type=None, interaction_constraints=None,\n",
       "              learning_rate=0.3433591898719518, max_bin=None,\n",
       "              max_cat_threshold=None, max_cat_to_onehot=None,\n",
       "              max_delta_step=None, max_depth=16, max_leaves=None,\n",
       "              min_child_weight=33, missing=nan, monotone_constraints=None,\n",
       "              multi_strategy=None, n_estimators=85, n_jobs=None,\n",
       "              num_parallel_tree=None, objective='multi:softprob', ...)"
      ]
     },
     "execution_count": 21,
     "metadata": {},
     "output_type": "execute_result"
    }
   ],
   "source": [
    "n_estimators = int(study.best_trial.user_attrs['best_iteration']*1.2)\n",
    "xgb = xgboost.XGBClassifier(\n",
    "        eval_metric=eval_metric,\n",
    "        n_estimators=n_estimators,\n",
    "        **study.best_trial.params\n",
    "    )\n",
    "xgb.fit(\n",
    "    ssp.vstack((X_train, X_val)), \n",
    "    np.concatenate((y_train_enc, y_val_enc)),\n",
    "    verbose=1,\n",
    ")"
   ]
  },
  {
   "cell_type": "code",
   "execution_count": 22,
   "id": "be8eb29c",
   "metadata": {
    "execution": {
     "iopub.execute_input": "2025-05-14T16:26:16.558448Z",
     "iopub.status.busy": "2025-05-14T16:26:16.558238Z",
     "iopub.status.idle": "2025-05-14T16:26:17.024445Z",
     "shell.execute_reply": "2025-05-14T16:26:17.024103Z"
    },
    "papermill": {
     "duration": 0.674094,
     "end_time": "2025-05-14T16:26:17.025353",
     "exception": false,
     "start_time": "2025-05-14T16:26:16.351259",
     "status": "completed"
    },
    "tags": []
   },
   "outputs": [
    {
     "data": {
      "text/plain": [
       "['/scratch_isilon/groups/singlecell/shared/projects/Inflammation-PBMCs-Atlas/03_downstream_analysis/08_gene_importance/xgboost_external_validation/xgboost_TopN_genes/results_20/best_model/Mono_shap_studyID_1_xgb.json']"
      ]
     },
     "execution_count": 22,
     "metadata": {},
     "output_type": "execute_result"
    }
   ],
   "source": [
    "out_dir = here(f'03_downstream_analysis/08_gene_importance/xgboost_external_validation/xgboost_TopN_genes/results_{N_GENES}/best_model')\n",
    "\n",
    "if not os.path.exists(out_dir):\n",
    "    os.makedirs(out_dir)\n",
    "    \n",
    "joblib.dump(xgb, os.path.join(out_dir, f'{CELL_TYPE}_{SEED}_{TEST_SPLIT_IDX}_xgb.json'))"
   ]
  },
  {
   "cell_type": "code",
   "execution_count": 23,
   "id": "a28c7acc",
   "metadata": {
    "execution": {
     "iopub.execute_input": "2025-05-14T16:26:17.280013Z",
     "iopub.status.busy": "2025-05-14T16:26:17.279132Z",
     "iopub.status.idle": "2025-05-14T16:26:17.963719Z",
     "shell.execute_reply": "2025-05-14T16:26:17.963266Z"
    },
    "papermill": {
     "duration": 0.830058,
     "end_time": "2025-05-14T16:26:17.965111",
     "exception": false,
     "start_time": "2025-05-14T16:26:17.135053",
     "status": "completed"
    },
    "tags": []
   },
   "outputs": [],
   "source": [
    "df_pred_test = pd.DataFrame(dict(\n",
    "    cell_id=train_adata.obs.iloc[test_idxs].index.values,\n",
    "    y_true=y_test, \n",
    "    y_true_code=y_test_enc, \n",
    "    y_pred=xgb.predict(X_test))).set_index('cell_id')"
   ]
  },
  {
   "cell_type": "code",
   "execution_count": 24,
   "id": "f1c15558",
   "metadata": {
    "execution": {
     "iopub.execute_input": "2025-05-14T16:26:18.112937Z",
     "iopub.status.busy": "2025-05-14T16:26:18.112645Z",
     "iopub.status.idle": "2025-05-14T16:26:18.272914Z",
     "shell.execute_reply": "2025-05-14T16:26:18.272467Z"
    },
    "papermill": {
     "duration": 0.171341,
     "end_time": "2025-05-14T16:26:18.274257",
     "exception": false,
     "start_time": "2025-05-14T16:26:18.102916",
     "status": "completed"
    },
    "tags": []
   },
   "outputs": [],
   "source": [
    "out_dir = here(f'03_downstream_analysis/08_gene_importance/xgboost_external_validation/xgboost_TopN_genes/results_{N_GENES}/predictions')\n",
    "\n",
    "if not os.path.exists(out_dir):\n",
    "    os.makedirs(out_dir)\n",
    "    \n",
    "df_pred_test.to_csv(os.path.join(out_dir, f'{CELL_TYPE}_{SEED}_{TEST_SPLIT_IDX}_pred_test.zip'))"
   ]
  },
  {
   "cell_type": "code",
   "execution_count": 25,
   "id": "75a6bcb4",
   "metadata": {
    "execution": {
     "iopub.execute_input": "2025-05-14T16:26:18.293935Z",
     "iopub.status.busy": "2025-05-14T16:26:18.293659Z",
     "iopub.status.idle": "2025-05-14T16:26:18.307441Z",
     "shell.execute_reply": "2025-05-14T16:26:18.307091Z"
    },
    "papermill": {
     "duration": 0.025255,
     "end_time": "2025-05-14T16:26:18.308558",
     "exception": false,
     "start_time": "2025-05-14T16:26:18.283303",
     "status": "completed"
    },
    "tags": []
   },
   "outputs": [],
   "source": [
    "metrics_dict = dict(\n",
    "    BAS=balanced_accuracy_score(y_true=df_pred_test.y_true_code, y_pred=df_pred_test.y_pred), WF1=f1_score(y_true=df_pred_test.y_true_code, y_pred=df_pred_test.y_pred,average='weighted'))"
   ]
  },
  {
   "cell_type": "code",
   "execution_count": 26,
   "id": "ec902f65",
   "metadata": {
    "execution": {
     "iopub.execute_input": "2025-05-14T16:26:18.331380Z",
     "iopub.status.busy": "2025-05-14T16:26:18.331109Z",
     "iopub.status.idle": "2025-05-14T16:26:18.334622Z",
     "shell.execute_reply": "2025-05-14T16:26:18.334310Z"
    },
    "papermill": {
     "duration": 0.018205,
     "end_time": "2025-05-14T16:26:18.335696",
     "exception": false,
     "start_time": "2025-05-14T16:26:18.317491",
     "status": "completed"
    },
    "tags": []
   },
   "outputs": [
    {
     "data": {
      "text/plain": [
       "{'BAS': 0.7544703673078619, 'WF1': 0.8621008918400818}"
      ]
     },
     "execution_count": 26,
     "metadata": {},
     "output_type": "execute_result"
    }
   ],
   "source": [
    "metrics_dict"
   ]
  },
  {
   "cell_type": "code",
   "execution_count": 27,
   "id": "f705ec1c",
   "metadata": {
    "execution": {
     "iopub.execute_input": "2025-05-14T16:26:18.379605Z",
     "iopub.status.busy": "2025-05-14T16:26:18.379457Z",
     "iopub.status.idle": "2025-05-14T16:26:18.388760Z",
     "shell.execute_reply": "2025-05-14T16:26:18.388448Z"
    },
    "papermill": {
     "duration": 0.019488,
     "end_time": "2025-05-14T16:26:18.389832",
     "exception": false,
     "start_time": "2025-05-14T16:26:18.370344",
     "status": "completed"
    },
    "tags": []
   },
   "outputs": [
    {
     "data": {
      "text/html": [
       "<div>\n",
       "<style scoped>\n",
       "    .dataframe tbody tr th:only-of-type {\n",
       "        vertical-align: middle;\n",
       "    }\n",
       "\n",
       "    .dataframe tbody tr th {\n",
       "        vertical-align: top;\n",
       "    }\n",
       "\n",
       "    .dataframe thead th {\n",
       "        text-align: right;\n",
       "    }\n",
       "</style>\n",
       "<table border=\"1\" class=\"dataframe\">\n",
       "  <thead>\n",
       "    <tr style=\"text-align: right;\">\n",
       "      <th></th>\n",
       "      <th>BAS</th>\n",
       "      <th>WF1</th>\n",
       "      <th>split_idx</th>\n",
       "      <th>gene_set_seed</th>\n",
       "      <th>cell_type</th>\n",
       "    </tr>\n",
       "  </thead>\n",
       "  <tbody>\n",
       "    <tr>\n",
       "      <th>0</th>\n",
       "      <td>0.75447</td>\n",
       "      <td>0.862101</td>\n",
       "      <td>1</td>\n",
       "      <td>shap_studyID</td>\n",
       "      <td>Mono</td>\n",
       "    </tr>\n",
       "  </tbody>\n",
       "</table>\n",
       "</div>"
      ],
      "text/plain": [
       "       BAS       WF1  split_idx gene_set_seed cell_type\n",
       "0  0.75447  0.862101          1  shap_studyID      Mono"
      ]
     },
     "execution_count": 27,
     "metadata": {},
     "output_type": "execute_result"
    }
   ],
   "source": [
    "metrics_df = pd.DataFrame.from_dict([metrics_dict]).assign(split_idx=TEST_SPLIT_IDX, gene_set_seed=SEED, cell_type=CELL_TYPE)\n",
    "metrics_df"
   ]
  },
  {
   "cell_type": "code",
   "execution_count": 28,
   "id": "addb5a0c",
   "metadata": {
    "execution": {
     "iopub.execute_input": "2025-05-14T16:26:18.408395Z",
     "iopub.status.busy": "2025-05-14T16:26:18.408238Z",
     "iopub.status.idle": "2025-05-14T16:26:18.416640Z",
     "shell.execute_reply": "2025-05-14T16:26:18.416292Z"
    },
    "papermill": {
     "duration": 0.019271,
     "end_time": "2025-05-14T16:26:18.417663",
     "exception": false,
     "start_time": "2025-05-14T16:26:18.398392",
     "status": "completed"
    },
    "tags": []
   },
   "outputs": [],
   "source": [
    "out_dir = here(f'03_downstream_analysis/08_gene_importance/xgboost_external_validation/xgboost_TopN_genes/results_{N_GENES}/metrics')\n",
    "\n",
    "if not os.path.exists(out_dir):\n",
    "    os.makedirs(out_dir)\n",
    "    \n",
    "metrics_df.to_csv(os.path.join(out_dir, f'{CELL_TYPE}_{SEED}_{TEST_SPLIT_IDX}_metrics.zip'))"
   ]
  }
 ],
 "metadata": {
  "kernelspec": {
   "display_name": "Python 3 (ipykernel)",
   "language": "python",
   "name": "python3"
  },
  "language_info": {
   "codemirror_mode": {
    "name": "ipython",
    "version": 3
   },
   "file_extension": ".py",
   "mimetype": "text/x-python",
   "name": "python",
   "nbconvert_exporter": "python",
   "pygments_lexer": "ipython3",
   "version": "3.12.5"
  },
  "papermill": {
   "default_parameters": {},
   "duration": 1143.228533,
   "end_time": "2025-05-14T16:26:19.862435",
   "environment_variables": {},
   "exception": null,
   "input_path": "02_xgboost_fitting_external_20genes.ipynb",
   "output_path": "results_20/executed_notebooks/xgboost_fitting_external_CT_Mono_GS_shap_studyID_seed1.ipynb",
   "parameters": {
    "CELL_TYPE": "Mono",
    "SEED": "shap_studyID",
    "TEST_SPLIT_IDX": 1
   },
   "start_time": "2025-05-14T16:07:16.633902",
   "version": "2.6.0"
  }
 },
 "nbformat": 4,
 "nbformat_minor": 5
}