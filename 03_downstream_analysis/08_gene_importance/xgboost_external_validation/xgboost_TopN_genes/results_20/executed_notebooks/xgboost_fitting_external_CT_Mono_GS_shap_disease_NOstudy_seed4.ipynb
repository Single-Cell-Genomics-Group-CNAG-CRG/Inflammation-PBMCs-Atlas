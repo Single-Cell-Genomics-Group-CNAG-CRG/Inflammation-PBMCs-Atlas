{
 "cells": [
  {
   "cell_type": "code",
   "execution_count": 1,
   "id": "c5f94a2b",
   "metadata": {
    "editable": true,
    "execution": {
     "iopub.execute_input": "2025-05-14T16:07:19.411365Z",
     "iopub.status.busy": "2025-05-14T16:07:19.411222Z",
     "iopub.status.idle": "2025-05-14T16:07:19.414407Z",
     "shell.execute_reply": "2025-05-14T16:07:19.414020Z"
    },
    "papermill": {
     "duration": 0.012002,
     "end_time": "2025-05-14T16:07:19.415311",
     "exception": false,
     "start_time": "2025-05-14T16:07:19.403309",
     "status": "completed"
    },
    "slideshow": {
     "slide_type": ""
    },
    "tags": [
     "parameters"
    ]
   },
   "outputs": [],
   "source": [
    "CELL_TYPE = 'pDC'\n",
    "N_GENES: int = 20\n",
    "SEED = 'shap_studyID' #'disease_NOstudy' 'study_NOdisease' or 'int' or 'shap_studyID'\n",
    "TEST_SPLIT_IDX: int = 1 #[0,4]"
   ]
  },
  {
   "cell_type": "code",
   "execution_count": 2,
   "id": "172900f1",
   "metadata": {
    "execution": {
     "iopub.execute_input": "2025-05-14T16:07:19.428055Z",
     "iopub.status.busy": "2025-05-14T16:07:19.427904Z",
     "iopub.status.idle": "2025-05-14T16:07:19.430200Z",
     "shell.execute_reply": "2025-05-14T16:07:19.429829Z"
    },
    "papermill": {
     "duration": 0.009852,
     "end_time": "2025-05-14T16:07:19.431022",
     "exception": false,
     "start_time": "2025-05-14T16:07:19.421170",
     "status": "completed"
    },
    "tags": [
     "injected-parameters"
    ]
   },
   "outputs": [],
   "source": [
    "# Parameters\n",
    "CELL_TYPE = \"Mono\"\n",
    "SEED = \"shap_disease_NOstudy\"\n",
    "TEST_SPLIT_IDX = 4\n"
   ]
  },
  {
   "cell_type": "code",
   "execution_count": 3,
   "id": "2b0325ad",
   "metadata": {
    "execution": {
     "iopub.execute_input": "2025-05-14T16:07:19.470879Z",
     "iopub.status.busy": "2025-05-14T16:07:19.470387Z",
     "iopub.status.idle": "2025-05-14T16:07:19.472749Z",
     "shell.execute_reply": "2025-05-14T16:07:19.472365Z"
    },
    "papermill": {
     "duration": 0.010556,
     "end_time": "2025-05-14T16:07:19.473613",
     "exception": false,
     "start_time": "2025-05-14T16:07:19.463057",
     "status": "completed"
    },
    "tags": []
   },
   "outputs": [],
   "source": [
    "N_SPLITS: int = 5\n",
    "N_TRIALS: int = 50"
   ]
  },
  {
   "cell_type": "code",
   "execution_count": 4,
   "id": "9cd67d52",
   "metadata": {
    "execution": {
     "iopub.execute_input": "2025-05-14T16:07:19.487903Z",
     "iopub.status.busy": "2025-05-14T16:07:19.487342Z",
     "iopub.status.idle": "2025-05-14T16:07:46.939109Z",
     "shell.execute_reply": "2025-05-14T16:07:46.938588Z"
    },
    "papermill": {
     "duration": 27.460117,
     "end_time": "2025-05-14T16:07:46.940539",
     "exception": false,
     "start_time": "2025-05-14T16:07:19.480422",
     "status": "completed"
    },
    "tags": []
   },
   "outputs": [],
   "source": [
    "import os\n",
    "import sys\n",
    "from pyprojroot.here import here\n",
    "import pandas as pd\n",
    "import anndata as ad\n",
    "import numpy as np\n",
    "import math\n",
    "from sklearn.model_selection import StratifiedGroupKFold\n",
    "from sklearn.preprocessing import LabelEncoder\n",
    "from sklearn.metrics import f1_score\n",
    "import matplotlib.pyplot as plt\n",
    "import seaborn as sns\n",
    "from itertools import product\n",
    "from sklearn.metrics import balanced_accuracy_score, f1_score\n",
    "import optuna\n",
    "\n",
    "import joblib\n",
    "import pickle\n",
    "import datetime\n",
    "\n",
    "import collections\n",
    "\n",
    "import xgboost\n",
    "from sklearn.preprocessing import LabelEncoder\n",
    "\n",
    "import scipy.sparse as ssp\n",
    "import joblib\n",
    "\n",
    "from dotenv import load_dotenv"
   ]
  },
  {
   "cell_type": "code",
   "execution_count": 5,
   "id": "4fa911c4",
   "metadata": {
    "execution": {
     "iopub.execute_input": "2025-05-14T16:07:46.958065Z",
     "iopub.status.busy": "2025-05-14T16:07:46.957603Z",
     "iopub.status.idle": "2025-05-14T16:07:46.963700Z",
     "shell.execute_reply": "2025-05-14T16:07:46.963354Z"
    },
    "papermill": {
     "duration": 0.013597,
     "end_time": "2025-05-14T16:07:46.964534",
     "exception": false,
     "start_time": "2025-05-14T16:07:46.950937",
     "status": "completed"
    },
    "tags": []
   },
   "outputs": [
    {
     "data": {
      "text/plain": [
       "True"
      ]
     },
     "execution_count": 5,
     "metadata": {},
     "output_type": "execute_result"
    }
   ],
   "source": [
    "load_dotenv()"
   ]
  },
  {
   "cell_type": "markdown",
   "id": "f65dc542",
   "metadata": {
    "papermill": {
     "duration": 0.006377,
     "end_time": "2025-05-14T16:07:46.980614",
     "exception": false,
     "start_time": "2025-05-14T16:07:46.974237",
     "status": "completed"
    },
    "tags": []
   },
   "source": [
    "# LOAD DATASET"
   ]
  },
  {
   "cell_type": "code",
   "execution_count": 6,
   "id": "e4387ef2",
   "metadata": {
    "execution": {
     "iopub.execute_input": "2025-05-14T16:07:46.996009Z",
     "iopub.status.busy": "2025-05-14T16:07:46.995411Z",
     "iopub.status.idle": "2025-05-14T16:07:48.425586Z",
     "shell.execute_reply": "2025-05-14T16:07:48.425107Z"
    },
    "papermill": {
     "duration": 1.438685,
     "end_time": "2025-05-14T16:07:48.426563",
     "exception": false,
     "start_time": "2025-05-14T16:07:46.987878",
     "status": "completed"
    },
    "tags": []
   },
   "outputs": [],
   "source": [
    "train_adata = ad.read_h5ad(\n",
    "    here(f'03_downstream_analysis/08_gene_importance/xgboost_external_validation/xgboost_TopN_genes/data_cellTypes/EXTERNAL_{CELL_TYPE}.filtered.log1p.h5ad')\n",
    ")"
   ]
  },
  {
   "cell_type": "code",
   "execution_count": 7,
   "id": "0c233926",
   "metadata": {
    "execution": {
     "iopub.execute_input": "2025-05-14T16:07:48.439072Z",
     "iopub.status.busy": "2025-05-14T16:07:48.438831Z",
     "iopub.status.idle": "2025-05-14T16:07:48.473267Z",
     "shell.execute_reply": "2025-05-14T16:07:48.472892Z"
    },
    "papermill": {
     "duration": 0.041563,
     "end_time": "2025-05-14T16:07:48.474102",
     "exception": false,
     "start_time": "2025-05-14T16:07:48.432539",
     "status": "completed"
    },
    "tags": []
   },
   "outputs": [
    {
     "name": "stdout",
     "output_type": "stream",
     "text": [
      "['ENSG00000002586' 'ENSG00000005844' 'ENSG00000011422' 'ENSG00000011600'\n",
      " 'ENSG00000038427' 'ENSG00000067182' 'ENSG00000079616' 'ENSG00000085265'\n",
      " 'ENSG00000088827' 'ENSG00000088986' 'ENSG00000089127' 'ENSG00000100097'\n",
      " 'ENSG00000100906' 'ENSG00000101474' 'ENSG00000104312' 'ENSG00000104671'\n",
      " 'ENSG00000104856' 'ENSG00000105373' 'ENSG00000105374' 'ENSG00000105397'\n",
      " 'ENSG00000105835' 'ENSG00000106565' 'ENSG00000106588' 'ENSG00000107223'\n",
      " 'ENSG00000107968' 'ENSG00000109321' 'ENSG00000111331' 'ENSG00000111335'\n",
      " 'ENSG00000112137' 'ENSG00000112149' 'ENSG00000115232' 'ENSG00000115267'\n",
      " 'ENSG00000115415' 'ENSG00000115523' 'ENSG00000115738' 'ENSG00000118508'\n",
      " 'ENSG00000118515' 'ENSG00000119535' 'ENSG00000120742' 'ENSG00000120889'\n",
      " 'ENSG00000123358' 'ENSG00000123689' 'ENSG00000125347' 'ENSG00000126264'\n",
      " 'ENSG00000126709' 'ENSG00000127314' 'ENSG00000127540' 'ENSG00000127951'\n",
      " 'ENSG00000128524' 'ENSG00000132465' 'ENSG00000132475' 'ENSG00000134107'\n",
      " 'ENSG00000134321' 'ENSG00000135047' 'ENSG00000135077' 'ENSG00000135114'\n",
      " 'ENSG00000135363' 'ENSG00000135503' 'ENSG00000135821' 'ENSG00000136869'\n",
      " 'ENSG00000137801' 'ENSG00000137965' 'ENSG00000139289' 'ENSG00000140264'\n",
      " 'ENSG00000141526' 'ENSG00000142089' 'ENSG00000142669' 'ENSG00000143110'\n",
      " 'ENSG00000143543' 'ENSG00000143933' 'ENSG00000145287' 'ENSG00000147443'\n",
      " 'ENSG00000149311' 'ENSG00000149357' 'ENSG00000150093' 'ENSG00000152082'\n",
      " 'ENSG00000152219' 'ENSG00000152518' 'ENSG00000157601' 'ENSG00000158050'\n",
      " 'ENSG00000158517' 'ENSG00000159128' 'ENSG00000160255' 'ENSG00000160932'\n",
      " 'ENSG00000162704' 'ENSG00000162772' 'ENSG00000163221' 'ENSG00000163513'\n",
      " 'ENSG00000163737' 'ENSG00000164308' 'ENSG00000164543' 'ENSG00000165140'\n",
      " 'ENSG00000165527' 'ENSG00000165949' 'ENSG00000168394' 'ENSG00000169554'\n",
      " 'ENSG00000172349' 'ENSG00000172936' 'ENSG00000173372' 'ENSG00000175354'\n",
      " 'ENSG00000175489' 'ENSG00000177575' 'ENSG00000177606' 'ENSG00000177663'\n",
      " 'ENSG00000179144' 'ENSG00000181029' 'ENSG00000182287' 'ENSG00000183486'\n",
      " 'ENSG00000185022' 'ENSG00000185201' 'ENSG00000185745' 'ENSG00000186395'\n",
      " 'ENSG00000188313' 'ENSG00000197061' 'ENSG00000198223' 'ENSG00000198355'\n",
      " 'ENSG00000204525' 'ENSG00000213928' 'ENSG00000216490' 'ENSG00000228474'\n",
      " 'ENSG00000229474' 'ENSG00000239697' 'ENSG00000241837' 'ENSG00000243678'\n",
      " 'ENSG00000271503' 'ENSG00000276085']\n"
     ]
    }
   ],
   "source": [
    "if SEED != 'all':\n",
    "    gene_subset = np.load(here(f'03_downstream_analysis/08_gene_importance/xgboost_external_validation/shap_gene_selection/gene_subsets_{N_GENES}/{CELL_TYPE}_{SEED}.npy'), allow_pickle=True)\n",
    "    train_adata = train_adata[:,gene_subset]\n",
    "    print(gene_subset)\n",
    "elif SEED == 'all':\n",
    "    print('Using all genes')\n",
    "else:\n",
    "    raise ValueError()"
   ]
  },
  {
   "cell_type": "code",
   "execution_count": 8,
   "id": "a035a04f",
   "metadata": {
    "execution": {
     "iopub.execute_input": "2025-05-14T16:07:48.487298Z",
     "iopub.status.busy": "2025-05-14T16:07:48.486911Z",
     "iopub.status.idle": "2025-05-14T16:07:48.490315Z",
     "shell.execute_reply": "2025-05-14T16:07:48.489985Z"
    },
    "papermill": {
     "duration": 0.010904,
     "end_time": "2025-05-14T16:07:48.491145",
     "exception": false,
     "start_time": "2025-05-14T16:07:48.480241",
     "status": "completed"
    },
    "tags": []
   },
   "outputs": [
    {
     "data": {
      "text/plain": [
       "(137435, 126)"
      ]
     },
     "execution_count": 8,
     "metadata": {},
     "output_type": "execute_result"
    }
   ],
   "source": [
    "train_adata.shape"
   ]
  },
  {
   "cell_type": "code",
   "execution_count": 9,
   "id": "4fc36756",
   "metadata": {
    "execution": {
     "iopub.execute_input": "2025-05-14T16:07:48.504227Z",
     "iopub.status.busy": "2025-05-14T16:07:48.503780Z",
     "iopub.status.idle": "2025-05-14T16:07:48.508495Z",
     "shell.execute_reply": "2025-05-14T16:07:48.508139Z"
    },
    "papermill": {
     "duration": 0.012259,
     "end_time": "2025-05-14T16:07:48.509325",
     "exception": false,
     "start_time": "2025-05-14T16:07:48.497066",
     "status": "completed"
    },
    "tags": []
   },
   "outputs": [
    {
     "data": {
      "text/plain": [
       "['RA', 'healthy', 'COVID', 'HIV', 'cirrhosis', 'CD', 'SLE', 'sepsis']\n",
       "Categories (8, object): ['CD', 'COVID', 'HIV', 'RA', 'SLE', 'cirrhosis', 'healthy', 'sepsis']"
      ]
     },
     "execution_count": 9,
     "metadata": {},
     "output_type": "execute_result"
    }
   ],
   "source": [
    "train_adata.obs.disease.unique()"
   ]
  },
  {
   "cell_type": "code",
   "execution_count": 10,
   "id": "91b59eef",
   "metadata": {
    "execution": {
     "iopub.execute_input": "2025-05-14T16:07:48.522072Z",
     "iopub.status.busy": "2025-05-14T16:07:48.521870Z",
     "iopub.status.idle": "2025-05-14T16:07:48.526350Z",
     "shell.execute_reply": "2025-05-14T16:07:48.526020Z"
    },
    "papermill": {
     "duration": 0.01176,
     "end_time": "2025-05-14T16:07:48.527179",
     "exception": false,
     "start_time": "2025-05-14T16:07:48.515419",
     "status": "completed"
    },
    "tags": []
   },
   "outputs": [
    {
     "data": {
      "text/plain": [
       "['SCGT00val_I0364_T0', 'SCGT00val_I036028_T0', 'SCGT00val_I036024_T0', 'SCGT00val_I036023_T0', 'SCGT00val_I036019_T0', ..., '10XGenomics_10XHC2_T0', '10XGenomics_10XHC3_T0', '10XGenomics_10XHC5_T0', '10XGenomics_10XHC7_T0', '10XGenomics_10XHC8_T0']\n",
       "Length: 86\n",
       "Categories (86, object): ['10XGenomics_10XHC1_T0', '10XGenomics_10XHC2_T0', '10XGenomics_10XHC3_T0', '10XGenomics_10XHC4_T0', ..., 'Savage2021_BRISL6_T0', 'Savage2021_BRISL7_T0', 'Savage2021_PIDA_T0', 'Savage2021_PIDB_T0']"
      ]
     },
     "execution_count": 10,
     "metadata": {},
     "output_type": "execute_result"
    }
   ],
   "source": [
    "train_adata.obs.sampleID.unique()"
   ]
  },
  {
   "cell_type": "code",
   "execution_count": 11,
   "id": "8886184f",
   "metadata": {
    "execution": {
     "iopub.execute_input": "2025-05-14T16:07:48.543117Z",
     "iopub.status.busy": "2025-05-14T16:07:48.542724Z",
     "iopub.status.idle": "2025-05-14T16:07:48.877797Z",
     "shell.execute_reply": "2025-05-14T16:07:48.877332Z"
    },
    "papermill": {
     "duration": 0.342884,
     "end_time": "2025-05-14T16:07:48.878719",
     "exception": false,
     "start_time": "2025-05-14T16:07:48.535835",
     "status": "completed"
    },
    "tags": []
   },
   "outputs": [],
   "source": [
    "all_idxs = np.arange(train_adata.obs.shape[0])\n",
    "left_out_splits = [s[1] for s in StratifiedGroupKFold(n_splits=N_SPLITS).split(all_idxs, train_adata.obs.disease, train_adata.obs.sampleID)]"
   ]
  },
  {
   "cell_type": "code",
   "execution_count": 12,
   "id": "351feeae",
   "metadata": {
    "execution": {
     "iopub.execute_input": "2025-05-14T16:07:48.892258Z",
     "iopub.status.busy": "2025-05-14T16:07:48.891878Z",
     "iopub.status.idle": "2025-05-14T16:07:48.895410Z",
     "shell.execute_reply": "2025-05-14T16:07:48.895108Z"
    },
    "papermill": {
     "duration": 0.011265,
     "end_time": "2025-05-14T16:07:48.896209",
     "exception": false,
     "start_time": "2025-05-14T16:07:48.884944",
     "status": "completed"
    },
    "tags": []
   },
   "outputs": [
    {
     "data": {
      "text/plain": [
       "([1, 2, 3], 0, 4)"
      ]
     },
     "execution_count": 12,
     "metadata": {},
     "output_type": "execute_result"
    }
   ],
   "source": [
    "TRAIN_SPLIT_IDXS = [0,1,2,3,4]\n",
    "VAL_SPLIT_IDX = (TEST_SPLIT_IDX + 1) % 5\n",
    "TRAIN_SPLIT_IDXS.remove(TEST_SPLIT_IDX)\n",
    "TRAIN_SPLIT_IDXS.remove(VAL_SPLIT_IDX)\n",
    "TRAIN_SPLIT_IDXS, VAL_SPLIT_IDX, TEST_SPLIT_IDX"
   ]
  },
  {
   "cell_type": "code",
   "execution_count": 13,
   "id": "6946230d",
   "metadata": {
    "execution": {
     "iopub.execute_input": "2025-05-14T16:07:48.910065Z",
     "iopub.status.busy": "2025-05-14T16:07:48.909680Z",
     "iopub.status.idle": "2025-05-14T16:07:48.912440Z",
     "shell.execute_reply": "2025-05-14T16:07:48.912124Z"
    },
    "papermill": {
     "duration": 0.010808,
     "end_time": "2025-05-14T16:07:48.913265",
     "exception": false,
     "start_time": "2025-05-14T16:07:48.902457",
     "status": "completed"
    },
    "tags": []
   },
   "outputs": [],
   "source": [
    "train_idxs = np.concatenate([left_out_splits[idx] for idx in TRAIN_SPLIT_IDXS])\n",
    "val_idxs = left_out_splits[VAL_SPLIT_IDX]\n",
    "test_idxs = left_out_splits[TEST_SPLIT_IDX]"
   ]
  },
  {
   "cell_type": "markdown",
   "id": "58e73611",
   "metadata": {
    "papermill": {
     "duration": 0.006067,
     "end_time": "2025-05-14T16:07:48.925827",
     "exception": false,
     "start_time": "2025-05-14T16:07:48.919760",
     "status": "completed"
    },
    "tags": []
   },
   "source": [
    "### SUBSET DATASET INTO TRAIN/TEST/VAL SPLITS"
   ]
  },
  {
   "cell_type": "code",
   "execution_count": 14,
   "id": "d4b110d4",
   "metadata": {
    "execution": {
     "iopub.execute_input": "2025-05-14T16:07:48.939444Z",
     "iopub.status.busy": "2025-05-14T16:07:48.939146Z",
     "iopub.status.idle": "2025-05-14T16:07:49.494142Z",
     "shell.execute_reply": "2025-05-14T16:07:49.493785Z"
    },
    "papermill": {
     "duration": 0.562773,
     "end_time": "2025-05-14T16:07:49.494984",
     "exception": false,
     "start_time": "2025-05-14T16:07:48.932211",
     "status": "completed"
    },
    "tags": []
   },
   "outputs": [
    {
     "data": {
      "text/plain": [
       "((82984, 126), (27037, 126), (27414, 126))"
      ]
     },
     "execution_count": 14,
     "metadata": {},
     "output_type": "execute_result"
    }
   ],
   "source": [
    "X_train = train_adata.X[train_idxs]\n",
    "X_test = train_adata.X[test_idxs]\n",
    "X_val = train_adata.X[val_idxs]\n",
    "X_train.shape, X_test.shape, X_val.shape"
   ]
  },
  {
   "cell_type": "code",
   "execution_count": 15,
   "id": "399645e4",
   "metadata": {
    "execution": {
     "iopub.execute_input": "2025-05-14T16:07:49.508204Z",
     "iopub.status.busy": "2025-05-14T16:07:49.507763Z",
     "iopub.status.idle": "2025-05-14T16:07:49.522081Z",
     "shell.execute_reply": "2025-05-14T16:07:49.521730Z"
    },
    "papermill": {
     "duration": 0.021717,
     "end_time": "2025-05-14T16:07:49.522895",
     "exception": false,
     "start_time": "2025-05-14T16:07:49.501178",
     "status": "completed"
    },
    "tags": []
   },
   "outputs": [
    {
     "data": {
      "text/plain": [
       "((82984,), (27037,), (27414,))"
      ]
     },
     "execution_count": 15,
     "metadata": {},
     "output_type": "execute_result"
    }
   ],
   "source": [
    "y_train = train_adata.obs.iloc[train_idxs].disease.values.astype(str)\n",
    "y_test = train_adata.obs.iloc[test_idxs].disease.values.astype(str)\n",
    "y_val = train_adata.obs.iloc[val_idxs].disease.values.astype(str)\n",
    "y_train.shape, y_test.shape, y_val.shape"
   ]
  },
  {
   "cell_type": "code",
   "execution_count": 16,
   "id": "4f2b7179",
   "metadata": {
    "execution": {
     "iopub.execute_input": "2025-05-14T16:07:49.535948Z",
     "iopub.status.busy": "2025-05-14T16:07:49.535496Z",
     "iopub.status.idle": "2025-05-14T16:07:49.567611Z",
     "shell.execute_reply": "2025-05-14T16:07:49.566945Z"
    },
    "papermill": {
     "duration": 0.039569,
     "end_time": "2025-05-14T16:07:49.568434",
     "exception": false,
     "start_time": "2025-05-14T16:07:49.528865",
     "status": "completed"
    },
    "tags": []
   },
   "outputs": [],
   "source": [
    "lenc = LabelEncoder()\n",
    "y_train_enc = lenc.fit_transform(y_train)\n",
    "y_val_enc = lenc.transform(y_val)\n",
    "y_test_enc = lenc.transform(y_test)"
   ]
  },
  {
   "cell_type": "markdown",
   "id": "3fb896df",
   "metadata": {
    "papermill": {
     "duration": 0.008265,
     "end_time": "2025-05-14T16:07:49.583215",
     "exception": false,
     "start_time": "2025-05-14T16:07:49.574950",
     "status": "completed"
    },
    "tags": []
   },
   "source": [
    "### GENERATE F1 "
   ]
  },
  {
   "cell_type": "code",
   "execution_count": 17,
   "id": "3379f20e",
   "metadata": {
    "execution": {
     "iopub.execute_input": "2025-05-14T16:07:49.598801Z",
     "iopub.status.busy": "2025-05-14T16:07:49.598548Z",
     "iopub.status.idle": "2025-05-14T16:07:49.601012Z",
     "shell.execute_reply": "2025-05-14T16:07:49.600681Z"
    },
    "papermill": {
     "duration": 0.01235,
     "end_time": "2025-05-14T16:07:49.601861",
     "exception": false,
     "start_time": "2025-05-14T16:07:49.589511",
     "status": "completed"
    },
    "tags": []
   },
   "outputs": [],
   "source": [
    "def custom_f1_score(y_true, y_pred):\n",
    "    return -f1_score(y_true, y_pred.argmax(1), average='weighted')"
   ]
  },
  {
   "cell_type": "code",
   "execution_count": 18,
   "id": "50a724c3",
   "metadata": {
    "execution": {
     "iopub.execute_input": "2025-05-14T16:07:49.616483Z",
     "iopub.status.busy": "2025-05-14T16:07:49.616074Z",
     "iopub.status.idle": "2025-05-14T16:07:49.619982Z",
     "shell.execute_reply": "2025-05-14T16:07:49.619664Z"
    },
    "papermill": {
     "duration": 0.012595,
     "end_time": "2025-05-14T16:07:49.620842",
     "exception": false,
     "start_time": "2025-05-14T16:07:49.608247",
     "status": "completed"
    },
    "tags": []
   },
   "outputs": [],
   "source": [
    "eval_metric=custom_f1_score\n",
    "eval_metric_name='custom_f1_score'\n",
    "\n",
    "def objective(trial):\n",
    "    params = {\n",
    "        'n_estimators': 1500,\n",
    "        'max_depth': trial.suggest_int('max_depth', 3, 20),\n",
    "        'min_child_weight': trial.suggest_int('min_child_weight', 1, 250),\n",
    "        'subsample': trial.suggest_float('subsample', 0.1, 1.0),\n",
    "        'colsample_bynode': trial.suggest_float('colsample_bynode', 0.1, 1.0),\n",
    "        'learning_rate': trial.suggest_float('learning_rate', 1e-3, 5e-1, log=True),\n",
    "    }\n",
    "    pruning_callback = optuna.integration.XGBoostPruningCallback(trial, f'validation_0-{eval_metric_name}')\n",
    "    es_callback = xgboost.callback.EarlyStopping(20, min_delta=0.001)\n",
    "    xgb = xgboost.XGBClassifier(\n",
    "        eval_metric=eval_metric,\n",
    "        callbacks=[pruning_callback, es_callback],\n",
    "        n_jobs=5,\n",
    "        **params\n",
    "    )\n",
    "    xgb.fit(\n",
    "        X_train, \n",
    "        y_train_enc, \n",
    "        verbose=0,\n",
    "        eval_set=[(X_val, y_val_enc)],\n",
    "    )\n",
    "    trial.set_user_attr('best_iteration', xgb.best_iteration)\n",
    "\n",
    "    return xgb.best_score"
   ]
  },
  {
   "cell_type": "code",
   "execution_count": 19,
   "id": "a5a6e6df",
   "metadata": {
    "execution": {
     "iopub.execute_input": "2025-05-14T16:07:49.634795Z",
     "iopub.status.busy": "2025-05-14T16:07:49.634537Z",
     "iopub.status.idle": "2025-05-14T16:28:53.982231Z",
     "shell.execute_reply": "2025-05-14T16:28:53.981759Z"
    },
    "papermill": {
     "duration": 1266.588811,
     "end_time": "2025-05-14T16:28:56.216125",
     "exception": false,
     "start_time": "2025-05-14T16:07:49.627314",
     "status": "completed"
    },
    "scrolled": true,
    "tags": []
   },
   "outputs": [
    {
     "name": "stderr",
     "output_type": "stream",
     "text": [
      "[I 2025-05-14 18:07:49,636] A new study created in memory with name: no-name-505b64fd-8f51-4cc2-9dea-f2680be64d07\n"
     ]
    },
    {
     "name": "stderr",
     "output_type": "stream",
     "text": [
      "[I 2025-05-14 18:08:15,715] Trial 0 finished with value: -0.787232 and parameters: {'max_depth': 9, 'min_child_weight': 238, 'subsample': 0.7587945476302645, 'colsample_bynode': 0.6387926357773329, 'learning_rate': 0.0026368755339723046}. Best is trial 0 with value: -0.787232.\n"
     ]
    },
    {
     "name": "stderr",
     "output_type": "stream",
     "text": [
      "[I 2025-05-14 18:09:34,932] Trial 1 finished with value: -0.891401 and parameters: {'max_depth': 5, 'min_child_weight': 15, 'subsample': 0.8795585311974417, 'colsample_bynode': 0.6410035105688879, 'learning_rate': 0.08148293210105287}. Best is trial 1 with value: -0.891401.\n"
     ]
    },
    {
     "name": "stderr",
     "output_type": "stream",
     "text": [
      "[I 2025-05-14 18:09:55,726] Trial 2 finished with value: -0.715297 and parameters: {'max_depth': 3, 'min_child_weight': 243, 'subsample': 0.8491983767203796, 'colsample_bynode': 0.29110519961044856, 'learning_rate': 0.003095566460242371}. Best is trial 1 with value: -0.891401.\n"
     ]
    },
    {
     "name": "stderr",
     "output_type": "stream",
     "text": [
      "[I 2025-05-14 18:10:16,582] Trial 3 finished with value: -0.809361 and parameters: {'max_depth': 6, 'min_child_weight': 77, 'subsample': 0.5722807884690141, 'colsample_bynode': 0.48875051677790415, 'learning_rate': 0.006109683510122491}. Best is trial 1 with value: -0.891401.\n"
     ]
    },
    {
     "name": "stderr",
     "output_type": "stream",
     "text": [
      "[I 2025-05-14 18:12:30,492] Trial 4 finished with value: -0.872945 and parameters: {'max_depth': 14, 'min_child_weight': 35, 'subsample': 0.3629301836816964, 'colsample_bynode': 0.4297256589643226, 'learning_rate': 0.01701841881702917}. Best is trial 1 with value: -0.891401.\n"
     ]
    },
    {
     "name": "stderr",
     "output_type": "stream",
     "text": [
      "[I 2025-05-14 18:12:57,974] Trial 5 finished with value: -0.823577 and parameters: {'max_depth': 17, 'min_child_weight': 50, 'subsample': 0.5628109945722505, 'colsample_bynode': 0.6331731119758383, 'learning_rate': 0.0013346527038305934}. Best is trial 1 with value: -0.891401.\n"
     ]
    },
    {
     "name": "stderr",
     "output_type": "stream",
     "text": [
      "[I 2025-05-14 18:13:21,902] Trial 6 finished with value: -0.884557 and parameters: {'max_depth': 13, 'min_child_weight': 43, 'subsample': 0.1585464336867516, 'colsample_bynode': 0.9539969835279999, 'learning_rate': 0.4038423798071558}. Best is trial 1 with value: -0.891401.\n"
     ]
    },
    {
     "name": "stderr",
     "output_type": "stream",
     "text": [
      "[I 2025-05-14 18:13:22,751] Trial 7 pruned. Trial was pruned at iteration 0.\n"
     ]
    },
    {
     "name": "stderr",
     "output_type": "stream",
     "text": [
      "[I 2025-05-14 18:13:23,563] Trial 8 pruned. Trial was pruned at iteration 0.\n"
     ]
    },
    {
     "name": "stderr",
     "output_type": "stream",
     "text": [
      "[I 2025-05-14 18:13:29,010] Trial 9 pruned. Trial was pruned at iteration 12.\n"
     ]
    },
    {
     "name": "stderr",
     "output_type": "stream",
     "text": [
      "[I 2025-05-14 18:14:35,575] Trial 10 finished with value: -0.890575 and parameters: {'max_depth': 9, 'min_child_weight': 2, 'subsample': 0.9725833997090791, 'colsample_bynode': 0.11616568805333755, 'learning_rate': 0.17780618353487967}. Best is trial 1 with value: -0.891401.\n"
     ]
    },
    {
     "name": "stderr",
     "output_type": "stream",
     "text": [
      "[I 2025-05-14 18:15:25,916] Trial 11 finished with value: -0.885029 and parameters: {'max_depth': 9, 'min_child_weight': 4, 'subsample': 0.9818290990185045, 'colsample_bynode': 0.17702656156719, 'learning_rate': 0.11568531411766632}. Best is trial 1 with value: -0.891401.\n"
     ]
    },
    {
     "name": "stderr",
     "output_type": "stream",
     "text": [
      "[I 2025-05-14 18:16:31,408] Trial 12 finished with value: -0.885717 and parameters: {'max_depth': 9, 'min_child_weight': 3, 'subsample': 0.9754570370311046, 'colsample_bynode': 0.14672783827498995, 'learning_rate': 0.08954997670613858}. Best is trial 1 with value: -0.891401.\n"
     ]
    },
    {
     "name": "stderr",
     "output_type": "stream",
     "text": [
      "[I 2025-05-14 18:16:32,656] Trial 13 pruned. Trial was pruned at iteration 1.\n"
     ]
    },
    {
     "name": "stderr",
     "output_type": "stream",
     "text": [
      "[I 2025-05-14 18:17:07,055] Trial 14 finished with value: -0.892637 and parameters: {'max_depth': 11, 'min_child_weight': 132, 'subsample': 0.8756857866758896, 'colsample_bynode': 0.37234427067556525, 'learning_rate': 0.33580116263734355}. Best is trial 14 with value: -0.892637.\n"
     ]
    },
    {
     "name": "stderr",
     "output_type": "stream",
     "text": [
      "[I 2025-05-14 18:17:07,918] Trial 15 pruned. Trial was pruned at iteration 0.\n"
     ]
    },
    {
     "name": "stderr",
     "output_type": "stream",
     "text": [
      "[I 2025-05-14 18:17:08,676] Trial 16 pruned. Trial was pruned at iteration 0.\n"
     ]
    },
    {
     "name": "stderr",
     "output_type": "stream",
     "text": [
      "[I 2025-05-14 18:17:09,560] Trial 17 pruned. Trial was pruned at iteration 0.\n"
     ]
    },
    {
     "name": "stderr",
     "output_type": "stream",
     "text": [
      "[I 2025-05-14 18:17:10,440] Trial 18 pruned. Trial was pruned at iteration 0.\n"
     ]
    },
    {
     "name": "stderr",
     "output_type": "stream",
     "text": [
      "[I 2025-05-14 18:17:11,265] Trial 19 pruned. Trial was pruned at iteration 0.\n"
     ]
    },
    {
     "name": "stderr",
     "output_type": "stream",
     "text": [
      "[I 2025-05-14 18:17:48,259] Trial 20 finished with value: -0.8906 and parameters: {'max_depth': 16, 'min_child_weight': 97, 'subsample': 0.8748387796448982, 'colsample_bynode': 0.7126227165401009, 'learning_rate': 0.2221537505158567}. Best is trial 14 with value: -0.892637.\n"
     ]
    },
    {
     "name": "stderr",
     "output_type": "stream",
     "text": [
      "[I 2025-05-14 18:17:49,220] Trial 21 pruned. Trial was pruned at iteration 0.\n"
     ]
    },
    {
     "name": "stderr",
     "output_type": "stream",
     "text": [
      "[I 2025-05-14 18:18:50,279] Trial 22 finished with value: -0.893488 and parameters: {'max_depth': 20, 'min_child_weight': 144, 'subsample': 0.8836216304888935, 'colsample_bynode': 0.4802468302404881, 'learning_rate': 0.14160051434726262}. Best is trial 22 with value: -0.893488.\n"
     ]
    },
    {
     "name": "stderr",
     "output_type": "stream",
     "text": [
      "[I 2025-05-14 18:18:51,480] Trial 23 pruned. Trial was pruned at iteration 1.\n"
     ]
    },
    {
     "name": "stderr",
     "output_type": "stream",
     "text": [
      "[I 2025-05-14 18:18:52,299] Trial 24 pruned. Trial was pruned at iteration 0.\n"
     ]
    },
    {
     "name": "stderr",
     "output_type": "stream",
     "text": [
      "[I 2025-05-14 18:18:53,107] Trial 25 pruned. Trial was pruned at iteration 0.\n"
     ]
    },
    {
     "name": "stderr",
     "output_type": "stream",
     "text": [
      "[I 2025-05-14 18:18:53,871] Trial 26 pruned. Trial was pruned at iteration 0.\n"
     ]
    },
    {
     "name": "stderr",
     "output_type": "stream",
     "text": [
      "[I 2025-05-14 18:18:54,680] Trial 27 pruned. Trial was pruned at iteration 0.\n"
     ]
    },
    {
     "name": "stderr",
     "output_type": "stream",
     "text": [
      "[I 2025-05-14 18:18:55,485] Trial 28 pruned. Trial was pruned at iteration 0.\n"
     ]
    },
    {
     "name": "stderr",
     "output_type": "stream",
     "text": [
      "[I 2025-05-14 18:18:56,359] Trial 29 pruned. Trial was pruned at iteration 0.\n"
     ]
    },
    {
     "name": "stderr",
     "output_type": "stream",
     "text": [
      "[I 2025-05-14 18:18:57,164] Trial 30 pruned. Trial was pruned at iteration 0.\n"
     ]
    },
    {
     "name": "stderr",
     "output_type": "stream",
     "text": [
      "[I 2025-05-14 18:19:38,295] Trial 31 finished with value: -0.891933 and parameters: {'max_depth': 18, 'min_child_weight': 104, 'subsample': 0.8535318575918284, 'colsample_bynode': 0.7613002263897296, 'learning_rate': 0.19879936499434708}. Best is trial 22 with value: -0.893488.\n"
     ]
    },
    {
     "name": "stderr",
     "output_type": "stream",
     "text": [
      "[I 2025-05-14 18:20:34,619] Trial 32 finished with value: -0.892048 and parameters: {'max_depth': 19, 'min_child_weight': 22, 'subsample': 0.8217085495160081, 'colsample_bynode': 0.8659118953350515, 'learning_rate': 0.16609835912583695}. Best is trial 22 with value: -0.893488.\n"
     ]
    },
    {
     "name": "stderr",
     "output_type": "stream",
     "text": [
      "[I 2025-05-14 18:21:03,289] Trial 33 finished with value: -0.892802 and parameters: {'max_depth': 19, 'min_child_weight': 59, 'subsample': 0.9324075180231721, 'colsample_bynode': 0.875691158536414, 'learning_rate': 0.49247351060698075}. Best is trial 22 with value: -0.893488.\n"
     ]
    },
    {
     "name": "stderr",
     "output_type": "stream",
     "text": [
      "[I 2025-05-14 18:21:47,648] Trial 34 finished with value: -0.895676 and parameters: {'max_depth': 19, 'min_child_weight': 25, 'subsample': 0.9265057979152992, 'colsample_bynode': 0.8927584680627597, 'learning_rate': 0.4746364123004451}. Best is trial 34 with value: -0.895676.\n"
     ]
    },
    {
     "name": "stderr",
     "output_type": "stream",
     "text": [
      "[I 2025-05-14 18:22:23,348] Trial 35 finished with value: -0.895655 and parameters: {'max_depth': 19, 'min_child_weight': 55, 'subsample': 0.9320676416894493, 'colsample_bynode': 0.8749118868642306, 'learning_rate': 0.49058590177169004}. Best is trial 34 with value: -0.895676.\n"
     ]
    },
    {
     "name": "stderr",
     "output_type": "stream",
     "text": [
      "[I 2025-05-14 18:22:51,797] Trial 36 finished with value: -0.893425 and parameters: {'max_depth': 19, 'min_child_weight': 62, 'subsample': 0.9527057662761643, 'colsample_bynode': 0.9957370163062518, 'learning_rate': 0.47622842465997367}. Best is trial 34 with value: -0.895676.\n"
     ]
    },
    {
     "name": "stderr",
     "output_type": "stream",
     "text": [
      "[I 2025-05-14 18:23:29,687] Trial 37 finished with value: -0.893493 and parameters: {'max_depth': 18, 'min_child_weight': 28, 'subsample': 0.926936348106227, 'colsample_bynode': 0.9794940148585298, 'learning_rate': 0.3134182112491957}. Best is trial 34 with value: -0.895676.\n"
     ]
    },
    {
     "name": "stderr",
     "output_type": "stream",
     "text": [
      "[I 2025-05-14 18:23:30,578] Trial 38 pruned. Trial was pruned at iteration 0.\n"
     ]
    },
    {
     "name": "stderr",
     "output_type": "stream",
     "text": [
      "[I 2025-05-14 18:24:04,570] Trial 39 finished with value: -0.891983 and parameters: {'max_depth': 16, 'min_child_weight': 41, 'subsample': 0.9077955471832757, 'colsample_bynode': 0.8683872330872624, 'learning_rate': 0.32703621114126835}. Best is trial 34 with value: -0.895676.\n"
     ]
    },
    {
     "name": "stderr",
     "output_type": "stream",
     "text": [
      "[I 2025-05-14 18:24:19,386] Trial 40 pruned. Trial was pruned at iteration 21.\n"
     ]
    },
    {
     "name": "stderr",
     "output_type": "stream",
     "text": [
      "[I 2025-05-14 18:24:56,879] Trial 41 finished with value: -0.893097 and parameters: {'max_depth': 18, 'min_child_weight': 57, 'subsample': 0.9424602071372299, 'colsample_bynode': 0.9837585831427538, 'learning_rate': 0.46988697811819713}. Best is trial 34 with value: -0.895676.\n"
     ]
    },
    {
     "name": "stderr",
     "output_type": "stream",
     "text": [
      "[I 2025-05-14 18:25:27,483] Trial 42 finished with value: -0.891173 and parameters: {'max_depth': 19, 'min_child_weight': 65, 'subsample': 0.9870260746231978, 'colsample_bynode': 0.8353275072039152, 'learning_rate': 0.49554471387439286}. Best is trial 34 with value: -0.895676.\n"
     ]
    },
    {
     "name": "stderr",
     "output_type": "stream",
     "text": [
      "[I 2025-05-14 18:25:32,510] Trial 43 pruned. Trial was pruned at iteration 4.\n"
     ]
    },
    {
     "name": "stderr",
     "output_type": "stream",
     "text": [
      "[I 2025-05-14 18:26:17,656] Trial 44 finished with value: -0.89637 and parameters: {'max_depth': 20, 'min_child_weight': 69, 'subsample': 0.81519914923487, 'colsample_bynode': 0.8971540695840756, 'learning_rate': 0.3552301036313505}. Best is trial 44 with value: -0.89637.\n"
     ]
    },
    {
     "name": "stderr",
     "output_type": "stream",
     "text": [
      "[I 2025-05-14 18:26:52,604] Trial 45 finished with value: -0.893174 and parameters: {'max_depth': 20, 'min_child_weight': 83, 'subsample': 0.8326219908707857, 'colsample_bynode': 0.9408044998029644, 'learning_rate': 0.3478244032425241}. Best is trial 44 with value: -0.89637.\n"
     ]
    },
    {
     "name": "stderr",
     "output_type": "stream",
     "text": [
      "[I 2025-05-14 18:26:54,415] Trial 46 pruned. Trial was pruned at iteration 2.\n"
     ]
    },
    {
     "name": "stderr",
     "output_type": "stream",
     "text": [
      "[I 2025-05-14 18:27:41,144] Trial 47 finished with value: -0.896521 and parameters: {'max_depth': 18, 'min_child_weight': 41, 'subsample': 0.8095630690465756, 'colsample_bynode': 0.7685258013907962, 'learning_rate': 0.2674549992581559}. Best is trial 47 with value: -0.896521.\n"
     ]
    },
    {
     "name": "stderr",
     "output_type": "stream",
     "text": [
      "[I 2025-05-14 18:28:09,139] Trial 48 pruned. Trial was pruned at iteration 74.\n"
     ]
    },
    {
     "name": "stderr",
     "output_type": "stream",
     "text": [
      "[I 2025-05-14 18:28:53,898] Trial 49 finished with value: -0.893056 and parameters: {'max_depth': 18, 'min_child_weight': 13, 'subsample': 0.7154358442776847, 'colsample_bynode': 0.8947099188519714, 'learning_rate': 0.35370345674649384}. Best is trial 47 with value: -0.896521.\n"
     ]
    }
   ],
   "source": [
    "sampler = optuna.samplers.TPESampler(seed=42)\n",
    "study = optuna.create_study(direction='minimize', sampler=sampler)\n",
    "study.optimize(objective, n_trials=N_TRIALS, gc_after_trial=True)"
   ]
  },
  {
   "cell_type": "code",
   "execution_count": 20,
   "id": "b0c7077f",
   "metadata": {
    "execution": {
     "iopub.execute_input": "2025-05-14T16:28:57.307228Z",
     "iopub.status.busy": "2025-05-14T16:28:57.306776Z",
     "iopub.status.idle": "2025-05-14T16:29:02.183918Z",
     "shell.execute_reply": "2025-05-14T16:29:02.183586Z"
    },
    "papermill": {
     "duration": 5.4179,
     "end_time": "2025-05-14T16:29:02.184899",
     "exception": false,
     "start_time": "2025-05-14T16:28:56.766999",
     "status": "completed"
    },
    "tags": []
   },
   "outputs": [
    {
     "data": {
      "text/plain": [
       "['/scratch_isilon/groups/singlecell/shared/projects/Inflammation-PBMCs-Atlas/03_downstream_analysis/08_gene_importance/xgboost_external_validation/xgboost_TopN_genes/results_20/study/Mono_shap_disease_NOstudy_4_xgboost.pkl']"
      ]
     },
     "execution_count": 20,
     "metadata": {},
     "output_type": "execute_result"
    }
   ],
   "source": [
    "out_dir = here(f'03_downstream_analysis/08_gene_importance/xgboost_external_validation/xgboost_TopN_genes/results_{N_GENES}/study')\n",
    "\n",
    "if not os.path.exists(out_dir):\n",
    "    os.makedirs(out_dir)\n",
    "    \n",
    "joblib.dump(study,os.path.join(out_dir, f'{CELL_TYPE}_{SEED}_{TEST_SPLIT_IDX}_xgboost.pkl'))"
   ]
  },
  {
   "cell_type": "code",
   "execution_count": 21,
   "id": "e1e679b0",
   "metadata": {
    "execution": {
     "iopub.execute_input": "2025-05-14T16:29:03.734797Z",
     "iopub.status.busy": "2025-05-14T16:29:03.734617Z",
     "iopub.status.idle": "2025-05-14T16:29:26.315001Z",
     "shell.execute_reply": "2025-05-14T16:29:26.314575Z"
    },
    "papermill": {
     "duration": 23.07394,
     "end_time": "2025-05-14T16:29:26.316034",
     "exception": false,
     "start_time": "2025-05-14T16:29:03.242094",
     "status": "completed"
    },
    "tags": []
   },
   "outputs": [
    {
     "data": {
      "text/html": [
       "<style>#sk-container-id-1 {\n",
       "  /* Definition of color scheme common for light and dark mode */\n",
       "  --sklearn-color-text: black;\n",
       "  --sklearn-color-line: gray;\n",
       "  /* Definition of color scheme for unfitted estimators */\n",
       "  --sklearn-color-unfitted-level-0: #fff5e6;\n",
       "  --sklearn-color-unfitted-level-1: #f6e4d2;\n",
       "  --sklearn-color-unfitted-level-2: #ffe0b3;\n",
       "  --sklearn-color-unfitted-level-3: chocolate;\n",
       "  /* Definition of color scheme for fitted estimators */\n",
       "  --sklearn-color-fitted-level-0: #f0f8ff;\n",
       "  --sklearn-color-fitted-level-1: #d4ebff;\n",
       "  --sklearn-color-fitted-level-2: #b3dbfd;\n",
       "  --sklearn-color-fitted-level-3: cornflowerblue;\n",
       "\n",
       "  /* Specific color for light theme */\n",
       "  --sklearn-color-text-on-default-background: var(--sg-text-color, var(--theme-code-foreground, var(--jp-content-font-color1, black)));\n",
       "  --sklearn-color-background: var(--sg-background-color, var(--theme-background, var(--jp-layout-color0, white)));\n",
       "  --sklearn-color-border-box: var(--sg-text-color, var(--theme-code-foreground, var(--jp-content-font-color1, black)));\n",
       "  --sklearn-color-icon: #696969;\n",
       "\n",
       "  @media (prefers-color-scheme: dark) {\n",
       "    /* Redefinition of color scheme for dark theme */\n",
       "    --sklearn-color-text-on-default-background: var(--sg-text-color, var(--theme-code-foreground, var(--jp-content-font-color1, white)));\n",
       "    --sklearn-color-background: var(--sg-background-color, var(--theme-background, var(--jp-layout-color0, #111)));\n",
       "    --sklearn-color-border-box: var(--sg-text-color, var(--theme-code-foreground, var(--jp-content-font-color1, white)));\n",
       "    --sklearn-color-icon: #878787;\n",
       "  }\n",
       "}\n",
       "\n",
       "#sk-container-id-1 {\n",
       "  color: var(--sklearn-color-text);\n",
       "}\n",
       "\n",
       "#sk-container-id-1 pre {\n",
       "  padding: 0;\n",
       "}\n",
       "\n",
       "#sk-container-id-1 input.sk-hidden--visually {\n",
       "  border: 0;\n",
       "  clip: rect(1px 1px 1px 1px);\n",
       "  clip: rect(1px, 1px, 1px, 1px);\n",
       "  height: 1px;\n",
       "  margin: -1px;\n",
       "  overflow: hidden;\n",
       "  padding: 0;\n",
       "  position: absolute;\n",
       "  width: 1px;\n",
       "}\n",
       "\n",
       "#sk-container-id-1 div.sk-dashed-wrapped {\n",
       "  border: 1px dashed var(--sklearn-color-line);\n",
       "  margin: 0 0.4em 0.5em 0.4em;\n",
       "  box-sizing: border-box;\n",
       "  padding-bottom: 0.4em;\n",
       "  background-color: var(--sklearn-color-background);\n",
       "}\n",
       "\n",
       "#sk-container-id-1 div.sk-container {\n",
       "  /* jupyter's `normalize.less` sets `[hidden] { display: none; }`\n",
       "     but bootstrap.min.css set `[hidden] { display: none !important; }`\n",
       "     so we also need the `!important` here to be able to override the\n",
       "     default hidden behavior on the sphinx rendered scikit-learn.org.\n",
       "     See: https://github.com/scikit-learn/scikit-learn/issues/21755 */\n",
       "  display: inline-block !important;\n",
       "  position: relative;\n",
       "}\n",
       "\n",
       "#sk-container-id-1 div.sk-text-repr-fallback {\n",
       "  display: none;\n",
       "}\n",
       "\n",
       "div.sk-parallel-item,\n",
       "div.sk-serial,\n",
       "div.sk-item {\n",
       "  /* draw centered vertical line to link estimators */\n",
       "  background-image: linear-gradient(var(--sklearn-color-text-on-default-background), var(--sklearn-color-text-on-default-background));\n",
       "  background-size: 2px 100%;\n",
       "  background-repeat: no-repeat;\n",
       "  background-position: center center;\n",
       "}\n",
       "\n",
       "/* Parallel-specific style estimator block */\n",
       "\n",
       "#sk-container-id-1 div.sk-parallel-item::after {\n",
       "  content: \"\";\n",
       "  width: 100%;\n",
       "  border-bottom: 2px solid var(--sklearn-color-text-on-default-background);\n",
       "  flex-grow: 1;\n",
       "}\n",
       "\n",
       "#sk-container-id-1 div.sk-parallel {\n",
       "  display: flex;\n",
       "  align-items: stretch;\n",
       "  justify-content: center;\n",
       "  background-color: var(--sklearn-color-background);\n",
       "  position: relative;\n",
       "}\n",
       "\n",
       "#sk-container-id-1 div.sk-parallel-item {\n",
       "  display: flex;\n",
       "  flex-direction: column;\n",
       "}\n",
       "\n",
       "#sk-container-id-1 div.sk-parallel-item:first-child::after {\n",
       "  align-self: flex-end;\n",
       "  width: 50%;\n",
       "}\n",
       "\n",
       "#sk-container-id-1 div.sk-parallel-item:last-child::after {\n",
       "  align-self: flex-start;\n",
       "  width: 50%;\n",
       "}\n",
       "\n",
       "#sk-container-id-1 div.sk-parallel-item:only-child::after {\n",
       "  width: 0;\n",
       "}\n",
       "\n",
       "/* Serial-specific style estimator block */\n",
       "\n",
       "#sk-container-id-1 div.sk-serial {\n",
       "  display: flex;\n",
       "  flex-direction: column;\n",
       "  align-items: center;\n",
       "  background-color: var(--sklearn-color-background);\n",
       "  padding-right: 1em;\n",
       "  padding-left: 1em;\n",
       "}\n",
       "\n",
       "\n",
       "/* Toggleable style: style used for estimator/Pipeline/ColumnTransformer box that is\n",
       "clickable and can be expanded/collapsed.\n",
       "- Pipeline and ColumnTransformer use this feature and define the default style\n",
       "- Estimators will overwrite some part of the style using the `sk-estimator` class\n",
       "*/\n",
       "\n",
       "/* Pipeline and ColumnTransformer style (default) */\n",
       "\n",
       "#sk-container-id-1 div.sk-toggleable {\n",
       "  /* Default theme specific background. It is overwritten whether we have a\n",
       "  specific estimator or a Pipeline/ColumnTransformer */\n",
       "  background-color: var(--sklearn-color-background);\n",
       "}\n",
       "\n",
       "/* Toggleable label */\n",
       "#sk-container-id-1 label.sk-toggleable__label {\n",
       "  cursor: pointer;\n",
       "  display: block;\n",
       "  width: 100%;\n",
       "  margin-bottom: 0;\n",
       "  padding: 0.5em;\n",
       "  box-sizing: border-box;\n",
       "  text-align: center;\n",
       "}\n",
       "\n",
       "#sk-container-id-1 label.sk-toggleable__label-arrow:before {\n",
       "  /* Arrow on the left of the label */\n",
       "  content: \"▸\";\n",
       "  float: left;\n",
       "  margin-right: 0.25em;\n",
       "  color: var(--sklearn-color-icon);\n",
       "}\n",
       "\n",
       "#sk-container-id-1 label.sk-toggleable__label-arrow:hover:before {\n",
       "  color: var(--sklearn-color-text);\n",
       "}\n",
       "\n",
       "/* Toggleable content - dropdown */\n",
       "\n",
       "#sk-container-id-1 div.sk-toggleable__content {\n",
       "  max-height: 0;\n",
       "  max-width: 0;\n",
       "  overflow: hidden;\n",
       "  text-align: left;\n",
       "  /* unfitted */\n",
       "  background-color: var(--sklearn-color-unfitted-level-0);\n",
       "}\n",
       "\n",
       "#sk-container-id-1 div.sk-toggleable__content.fitted {\n",
       "  /* fitted */\n",
       "  background-color: var(--sklearn-color-fitted-level-0);\n",
       "}\n",
       "\n",
       "#sk-container-id-1 div.sk-toggleable__content pre {\n",
       "  margin: 0.2em;\n",
       "  border-radius: 0.25em;\n",
       "  color: var(--sklearn-color-text);\n",
       "  /* unfitted */\n",
       "  background-color: var(--sklearn-color-unfitted-level-0);\n",
       "}\n",
       "\n",
       "#sk-container-id-1 div.sk-toggleable__content.fitted pre {\n",
       "  /* unfitted */\n",
       "  background-color: var(--sklearn-color-fitted-level-0);\n",
       "}\n",
       "\n",
       "#sk-container-id-1 input.sk-toggleable__control:checked~div.sk-toggleable__content {\n",
       "  /* Expand drop-down */\n",
       "  max-height: 200px;\n",
       "  max-width: 100%;\n",
       "  overflow: auto;\n",
       "}\n",
       "\n",
       "#sk-container-id-1 input.sk-toggleable__control:checked~label.sk-toggleable__label-arrow:before {\n",
       "  content: \"▾\";\n",
       "}\n",
       "\n",
       "/* Pipeline/ColumnTransformer-specific style */\n",
       "\n",
       "#sk-container-id-1 div.sk-label input.sk-toggleable__control:checked~label.sk-toggleable__label {\n",
       "  color: var(--sklearn-color-text);\n",
       "  background-color: var(--sklearn-color-unfitted-level-2);\n",
       "}\n",
       "\n",
       "#sk-container-id-1 div.sk-label.fitted input.sk-toggleable__control:checked~label.sk-toggleable__label {\n",
       "  background-color: var(--sklearn-color-fitted-level-2);\n",
       "}\n",
       "\n",
       "/* Estimator-specific style */\n",
       "\n",
       "/* Colorize estimator box */\n",
       "#sk-container-id-1 div.sk-estimator input.sk-toggleable__control:checked~label.sk-toggleable__label {\n",
       "  /* unfitted */\n",
       "  background-color: var(--sklearn-color-unfitted-level-2);\n",
       "}\n",
       "\n",
       "#sk-container-id-1 div.sk-estimator.fitted input.sk-toggleable__control:checked~label.sk-toggleable__label {\n",
       "  /* fitted */\n",
       "  background-color: var(--sklearn-color-fitted-level-2);\n",
       "}\n",
       "\n",
       "#sk-container-id-1 div.sk-label label.sk-toggleable__label,\n",
       "#sk-container-id-1 div.sk-label label {\n",
       "  /* The background is the default theme color */\n",
       "  color: var(--sklearn-color-text-on-default-background);\n",
       "}\n",
       "\n",
       "/* On hover, darken the color of the background */\n",
       "#sk-container-id-1 div.sk-label:hover label.sk-toggleable__label {\n",
       "  color: var(--sklearn-color-text);\n",
       "  background-color: var(--sklearn-color-unfitted-level-2);\n",
       "}\n",
       "\n",
       "/* Label box, darken color on hover, fitted */\n",
       "#sk-container-id-1 div.sk-label.fitted:hover label.sk-toggleable__label.fitted {\n",
       "  color: var(--sklearn-color-text);\n",
       "  background-color: var(--sklearn-color-fitted-level-2);\n",
       "}\n",
       "\n",
       "/* Estimator label */\n",
       "\n",
       "#sk-container-id-1 div.sk-label label {\n",
       "  font-family: monospace;\n",
       "  font-weight: bold;\n",
       "  display: inline-block;\n",
       "  line-height: 1.2em;\n",
       "}\n",
       "\n",
       "#sk-container-id-1 div.sk-label-container {\n",
       "  text-align: center;\n",
       "}\n",
       "\n",
       "/* Estimator-specific */\n",
       "#sk-container-id-1 div.sk-estimator {\n",
       "  font-family: monospace;\n",
       "  border: 1px dotted var(--sklearn-color-border-box);\n",
       "  border-radius: 0.25em;\n",
       "  box-sizing: border-box;\n",
       "  margin-bottom: 0.5em;\n",
       "  /* unfitted */\n",
       "  background-color: var(--sklearn-color-unfitted-level-0);\n",
       "}\n",
       "\n",
       "#sk-container-id-1 div.sk-estimator.fitted {\n",
       "  /* fitted */\n",
       "  background-color: var(--sklearn-color-fitted-level-0);\n",
       "}\n",
       "\n",
       "/* on hover */\n",
       "#sk-container-id-1 div.sk-estimator:hover {\n",
       "  /* unfitted */\n",
       "  background-color: var(--sklearn-color-unfitted-level-2);\n",
       "}\n",
       "\n",
       "#sk-container-id-1 div.sk-estimator.fitted:hover {\n",
       "  /* fitted */\n",
       "  background-color: var(--sklearn-color-fitted-level-2);\n",
       "}\n",
       "\n",
       "/* Specification for estimator info (e.g. \"i\" and \"?\") */\n",
       "\n",
       "/* Common style for \"i\" and \"?\" */\n",
       "\n",
       ".sk-estimator-doc-link,\n",
       "a:link.sk-estimator-doc-link,\n",
       "a:visited.sk-estimator-doc-link {\n",
       "  float: right;\n",
       "  font-size: smaller;\n",
       "  line-height: 1em;\n",
       "  font-family: monospace;\n",
       "  background-color: var(--sklearn-color-background);\n",
       "  border-radius: 1em;\n",
       "  height: 1em;\n",
       "  width: 1em;\n",
       "  text-decoration: none !important;\n",
       "  margin-left: 1ex;\n",
       "  /* unfitted */\n",
       "  border: var(--sklearn-color-unfitted-level-1) 1pt solid;\n",
       "  color: var(--sklearn-color-unfitted-level-1);\n",
       "}\n",
       "\n",
       ".sk-estimator-doc-link.fitted,\n",
       "a:link.sk-estimator-doc-link.fitted,\n",
       "a:visited.sk-estimator-doc-link.fitted {\n",
       "  /* fitted */\n",
       "  border: var(--sklearn-color-fitted-level-1) 1pt solid;\n",
       "  color: var(--sklearn-color-fitted-level-1);\n",
       "}\n",
       "\n",
       "/* On hover */\n",
       "div.sk-estimator:hover .sk-estimator-doc-link:hover,\n",
       ".sk-estimator-doc-link:hover,\n",
       "div.sk-label-container:hover .sk-estimator-doc-link:hover,\n",
       ".sk-estimator-doc-link:hover {\n",
       "  /* unfitted */\n",
       "  background-color: var(--sklearn-color-unfitted-level-3);\n",
       "  color: var(--sklearn-color-background);\n",
       "  text-decoration: none;\n",
       "}\n",
       "\n",
       "div.sk-estimator.fitted:hover .sk-estimator-doc-link.fitted:hover,\n",
       ".sk-estimator-doc-link.fitted:hover,\n",
       "div.sk-label-container:hover .sk-estimator-doc-link.fitted:hover,\n",
       ".sk-estimator-doc-link.fitted:hover {\n",
       "  /* fitted */\n",
       "  background-color: var(--sklearn-color-fitted-level-3);\n",
       "  color: var(--sklearn-color-background);\n",
       "  text-decoration: none;\n",
       "}\n",
       "\n",
       "/* Span, style for the box shown on hovering the info icon */\n",
       ".sk-estimator-doc-link span {\n",
       "  display: none;\n",
       "  z-index: 9999;\n",
       "  position: relative;\n",
       "  font-weight: normal;\n",
       "  right: .2ex;\n",
       "  padding: .5ex;\n",
       "  margin: .5ex;\n",
       "  width: min-content;\n",
       "  min-width: 20ex;\n",
       "  max-width: 50ex;\n",
       "  color: var(--sklearn-color-text);\n",
       "  box-shadow: 2pt 2pt 4pt #999;\n",
       "  /* unfitted */\n",
       "  background: var(--sklearn-color-unfitted-level-0);\n",
       "  border: .5pt solid var(--sklearn-color-unfitted-level-3);\n",
       "}\n",
       "\n",
       ".sk-estimator-doc-link.fitted span {\n",
       "  /* fitted */\n",
       "  background: var(--sklearn-color-fitted-level-0);\n",
       "  border: var(--sklearn-color-fitted-level-3);\n",
       "}\n",
       "\n",
       ".sk-estimator-doc-link:hover span {\n",
       "  display: block;\n",
       "}\n",
       "\n",
       "/* \"?\"-specific style due to the `<a>` HTML tag */\n",
       "\n",
       "#sk-container-id-1 a.estimator_doc_link {\n",
       "  float: right;\n",
       "  font-size: 1rem;\n",
       "  line-height: 1em;\n",
       "  font-family: monospace;\n",
       "  background-color: var(--sklearn-color-background);\n",
       "  border-radius: 1rem;\n",
       "  height: 1rem;\n",
       "  width: 1rem;\n",
       "  text-decoration: none;\n",
       "  /* unfitted */\n",
       "  color: var(--sklearn-color-unfitted-level-1);\n",
       "  border: var(--sklearn-color-unfitted-level-1) 1pt solid;\n",
       "}\n",
       "\n",
       "#sk-container-id-1 a.estimator_doc_link.fitted {\n",
       "  /* fitted */\n",
       "  border: var(--sklearn-color-fitted-level-1) 1pt solid;\n",
       "  color: var(--sklearn-color-fitted-level-1);\n",
       "}\n",
       "\n",
       "/* On hover */\n",
       "#sk-container-id-1 a.estimator_doc_link:hover {\n",
       "  /* unfitted */\n",
       "  background-color: var(--sklearn-color-unfitted-level-3);\n",
       "  color: var(--sklearn-color-background);\n",
       "  text-decoration: none;\n",
       "}\n",
       "\n",
       "#sk-container-id-1 a.estimator_doc_link.fitted:hover {\n",
       "  /* fitted */\n",
       "  background-color: var(--sklearn-color-fitted-level-3);\n",
       "}\n",
       "</style><div id=\"sk-container-id-1\" class=\"sk-top-container\"><div class=\"sk-text-repr-fallback\"><pre>XGBClassifier(base_score=None, booster=None, callbacks=None,\n",
       "              colsample_bylevel=None, colsample_bynode=0.7685258013907962,\n",
       "              colsample_bytree=None, device=None, early_stopping_rounds=None,\n",
       "              enable_categorical=False,\n",
       "              eval_metric=&lt;function custom_f1_score at 0x7f1cba994400&gt;,\n",
       "              feature_types=None, gamma=None, grow_policy=None,\n",
       "              importance_type=None, interaction_constraints=None,\n",
       "              learning_rate=0.2674549992581559, max_bin=None,\n",
       "              max_cat_threshold=None, max_cat_to_onehot=None,\n",
       "              max_delta_step=None, max_depth=18, max_leaves=None,\n",
       "              min_child_weight=41, missing=nan, monotone_constraints=None,\n",
       "              multi_strategy=None, n_estimators=124, n_jobs=None,\n",
       "              num_parallel_tree=None, objective=&#x27;multi:softprob&#x27;, ...)</pre><b>In a Jupyter environment, please rerun this cell to show the HTML representation or trust the notebook. <br />On GitHub, the HTML representation is unable to render, please try loading this page with nbviewer.org.</b></div><div class=\"sk-container\" hidden><div class=\"sk-item\"><div class=\"sk-estimator fitted sk-toggleable\"><input class=\"sk-toggleable__control sk-hidden--visually\" id=\"sk-estimator-id-1\" type=\"checkbox\" checked><label for=\"sk-estimator-id-1\" class=\"sk-toggleable__label fitted sk-toggleable__label-arrow fitted\">&nbsp;XGBClassifier<span class=\"sk-estimator-doc-link fitted\">i<span>Fitted</span></span></label><div class=\"sk-toggleable__content fitted\"><pre>XGBClassifier(base_score=None, booster=None, callbacks=None,\n",
       "              colsample_bylevel=None, colsample_bynode=0.7685258013907962,\n",
       "              colsample_bytree=None, device=None, early_stopping_rounds=None,\n",
       "              enable_categorical=False,\n",
       "              eval_metric=&lt;function custom_f1_score at 0x7f1cba994400&gt;,\n",
       "              feature_types=None, gamma=None, grow_policy=None,\n",
       "              importance_type=None, interaction_constraints=None,\n",
       "              learning_rate=0.2674549992581559, max_bin=None,\n",
       "              max_cat_threshold=None, max_cat_to_onehot=None,\n",
       "              max_delta_step=None, max_depth=18, max_leaves=None,\n",
       "              min_child_weight=41, missing=nan, monotone_constraints=None,\n",
       "              multi_strategy=None, n_estimators=124, n_jobs=None,\n",
       "              num_parallel_tree=None, objective=&#x27;multi:softprob&#x27;, ...)</pre></div> </div></div></div></div>"
      ],
      "text/plain": [
       "XGBClassifier(base_score=None, booster=None, callbacks=None,\n",
       "              colsample_bylevel=None, colsample_bynode=0.7685258013907962,\n",
       "              colsample_bytree=None, device=None, early_stopping_rounds=None,\n",
       "              enable_categorical=False,\n",
       "              eval_metric=<function custom_f1_score at 0x7f1cba994400>,\n",
       "              feature_types=None, gamma=None, grow_policy=None,\n",
       "              importance_type=None, interaction_constraints=None,\n",
       "              learning_rate=0.2674549992581559, max_bin=None,\n",
       "              max_cat_threshold=None, max_cat_to_onehot=None,\n",
       "              max_delta_step=None, max_depth=18, max_leaves=None,\n",
       "              min_child_weight=41, missing=nan, monotone_constraints=None,\n",
       "              multi_strategy=None, n_estimators=124, n_jobs=None,\n",
       "              num_parallel_tree=None, objective='multi:softprob', ...)"
      ]
     },
     "execution_count": 21,
     "metadata": {},
     "output_type": "execute_result"
    }
   ],
   "source": [
    "n_estimators = int(study.best_trial.user_attrs['best_iteration']*1.2)\n",
    "xgb = xgboost.XGBClassifier(\n",
    "        eval_metric=eval_metric,\n",
    "        n_estimators=n_estimators,\n",
    "        **study.best_trial.params\n",
    "    )\n",
    "xgb.fit(\n",
    "    ssp.vstack((X_train, X_val)), \n",
    "    np.concatenate((y_train_enc, y_val_enc)),\n",
    "    verbose=1,\n",
    ")"
   ]
  },
  {
   "cell_type": "code",
   "execution_count": 22,
   "id": "d4344b6b",
   "metadata": {
    "execution": {
     "iopub.execute_input": "2025-05-14T16:29:27.022968Z",
     "iopub.status.busy": "2025-05-14T16:29:27.022665Z",
     "iopub.status.idle": "2025-05-14T16:29:28.021991Z",
     "shell.execute_reply": "2025-05-14T16:29:28.021626Z"
    },
    "papermill": {
     "duration": 1.230278,
     "end_time": "2025-05-14T16:29:28.023071",
     "exception": false,
     "start_time": "2025-05-14T16:29:26.792793",
     "status": "completed"
    },
    "tags": []
   },
   "outputs": [
    {
     "data": {
      "text/plain": [
       "['/scratch_isilon/groups/singlecell/shared/projects/Inflammation-PBMCs-Atlas/03_downstream_analysis/08_gene_importance/xgboost_external_validation/xgboost_TopN_genes/results_20/best_model/Mono_shap_disease_NOstudy_4_xgb.json']"
      ]
     },
     "execution_count": 22,
     "metadata": {},
     "output_type": "execute_result"
    }
   ],
   "source": [
    "out_dir = here(f'03_downstream_analysis/08_gene_importance/xgboost_external_validation/xgboost_TopN_genes/results_{N_GENES}/best_model')\n",
    "\n",
    "if not os.path.exists(out_dir):\n",
    "    os.makedirs(out_dir)\n",
    "    \n",
    "joblib.dump(xgb, os.path.join(out_dir, f'{CELL_TYPE}_{SEED}_{TEST_SPLIT_IDX}_xgb.json'))"
   ]
  },
  {
   "cell_type": "code",
   "execution_count": 23,
   "id": "fa0b4f66",
   "metadata": {
    "execution": {
     "iopub.execute_input": "2025-05-14T16:29:28.639497Z",
     "iopub.status.busy": "2025-05-14T16:29:28.639190Z",
     "iopub.status.idle": "2025-05-14T16:29:29.563945Z",
     "shell.execute_reply": "2025-05-14T16:29:29.563425Z"
    },
    "papermill": {
     "duration": 1.357153,
     "end_time": "2025-05-14T16:29:29.565225",
     "exception": false,
     "start_time": "2025-05-14T16:29:28.208072",
     "status": "completed"
    },
    "tags": []
   },
   "outputs": [],
   "source": [
    "df_pred_test = pd.DataFrame(dict(\n",
    "    cell_id=train_adata.obs.iloc[test_idxs].index.values,\n",
    "    y_true=y_test, \n",
    "    y_true_code=y_test_enc, \n",
    "    y_pred=xgb.predict(X_test))).set_index('cell_id')"
   ]
  },
  {
   "cell_type": "code",
   "execution_count": 24,
   "id": "350077d7",
   "metadata": {
    "execution": {
     "iopub.execute_input": "2025-05-14T16:29:30.015226Z",
     "iopub.status.busy": "2025-05-14T16:29:30.015031Z",
     "iopub.status.idle": "2025-05-14T16:29:33.265271Z",
     "shell.execute_reply": "2025-05-14T16:29:33.264819Z"
    },
    "papermill": {
     "duration": 3.413857,
     "end_time": "2025-05-14T16:29:33.266472",
     "exception": false,
     "start_time": "2025-05-14T16:29:29.852615",
     "status": "completed"
    },
    "tags": []
   },
   "outputs": [],
   "source": [
    "out_dir = here(f'03_downstream_analysis/08_gene_importance/xgboost_external_validation/xgboost_TopN_genes/results_{N_GENES}/predictions')\n",
    "\n",
    "if not os.path.exists(out_dir):\n",
    "    os.makedirs(out_dir)\n",
    "    \n",
    "df_pred_test.to_csv(os.path.join(out_dir, f'{CELL_TYPE}_{SEED}_{TEST_SPLIT_IDX}_pred_test.zip'))"
   ]
  },
  {
   "cell_type": "code",
   "execution_count": 25,
   "id": "9849439a",
   "metadata": {
    "execution": {
     "iopub.execute_input": "2025-05-14T16:29:33.515945Z",
     "iopub.status.busy": "2025-05-14T16:29:33.515771Z",
     "iopub.status.idle": "2025-05-14T16:29:33.583977Z",
     "shell.execute_reply": "2025-05-14T16:29:33.583550Z"
    },
    "papermill": {
     "duration": 0.253586,
     "end_time": "2025-05-14T16:29:33.584894",
     "exception": false,
     "start_time": "2025-05-14T16:29:33.331308",
     "status": "completed"
    },
    "tags": []
   },
   "outputs": [],
   "source": [
    "metrics_dict = dict(\n",
    "    BAS=balanced_accuracy_score(y_true=df_pred_test.y_true_code, y_pred=df_pred_test.y_pred), WF1=f1_score(y_true=df_pred_test.y_true_code, y_pred=df_pred_test.y_pred,average='weighted'))"
   ]
  },
  {
   "cell_type": "code",
   "execution_count": 26,
   "id": "d167087b",
   "metadata": {
    "execution": {
     "iopub.execute_input": "2025-05-14T16:29:34.025475Z",
     "iopub.status.busy": "2025-05-14T16:29:34.024943Z",
     "iopub.status.idle": "2025-05-14T16:29:34.028221Z",
     "shell.execute_reply": "2025-05-14T16:29:34.027940Z"
    },
    "papermill": {
     "duration": 0.183397,
     "end_time": "2025-05-14T16:29:34.028974",
     "exception": false,
     "start_time": "2025-05-14T16:29:33.845577",
     "status": "completed"
    },
    "tags": []
   },
   "outputs": [
    {
     "data": {
      "text/plain": [
       "{'BAS': 0.553474057420059, 'WF1': 0.8174046286319253}"
      ]
     },
     "execution_count": 26,
     "metadata": {},
     "output_type": "execute_result"
    }
   ],
   "source": [
    "metrics_dict"
   ]
  },
  {
   "cell_type": "code",
   "execution_count": 27,
   "id": "31f091c4",
   "metadata": {
    "execution": {
     "iopub.execute_input": "2025-05-14T16:29:34.410197Z",
     "iopub.status.busy": "2025-05-14T16:29:34.409982Z",
     "iopub.status.idle": "2025-05-14T16:29:34.809048Z",
     "shell.execute_reply": "2025-05-14T16:29:34.808747Z"
    },
    "papermill": {
     "duration": 0.538911,
     "end_time": "2025-05-14T16:29:34.810347",
     "exception": false,
     "start_time": "2025-05-14T16:29:34.271436",
     "status": "completed"
    },
    "tags": []
   },
   "outputs": [
    {
     "data": {
      "text/html": [
       "<div>\n",
       "<style scoped>\n",
       "    .dataframe tbody tr th:only-of-type {\n",
       "        vertical-align: middle;\n",
       "    }\n",
       "\n",
       "    .dataframe tbody tr th {\n",
       "        vertical-align: top;\n",
       "    }\n",
       "\n",
       "    .dataframe thead th {\n",
       "        text-align: right;\n",
       "    }\n",
       "</style>\n",
       "<table border=\"1\" class=\"dataframe\">\n",
       "  <thead>\n",
       "    <tr style=\"text-align: right;\">\n",
       "      <th></th>\n",
       "      <th>BAS</th>\n",
       "      <th>WF1</th>\n",
       "      <th>split_idx</th>\n",
       "      <th>gene_set_seed</th>\n",
       "      <th>cell_type</th>\n",
       "    </tr>\n",
       "  </thead>\n",
       "  <tbody>\n",
       "    <tr>\n",
       "      <th>0</th>\n",
       "      <td>0.553474</td>\n",
       "      <td>0.817405</td>\n",
       "      <td>4</td>\n",
       "      <td>shap_disease_NOstudy</td>\n",
       "      <td>Mono</td>\n",
       "    </tr>\n",
       "  </tbody>\n",
       "</table>\n",
       "</div>"
      ],
      "text/plain": [
       "        BAS       WF1  split_idx         gene_set_seed cell_type\n",
       "0  0.553474  0.817405          4  shap_disease_NOstudy      Mono"
      ]
     },
     "execution_count": 27,
     "metadata": {},
     "output_type": "execute_result"
    }
   ],
   "source": [
    "metrics_df = pd.DataFrame.from_dict([metrics_dict]).assign(split_idx=TEST_SPLIT_IDX, gene_set_seed=SEED, cell_type=CELL_TYPE)\n",
    "metrics_df"
   ]
  },
  {
   "cell_type": "code",
   "execution_count": 28,
   "id": "ae8c858b",
   "metadata": {
    "execution": {
     "iopub.execute_input": "2025-05-14T16:29:34.933917Z",
     "iopub.status.busy": "2025-05-14T16:29:34.933707Z",
     "iopub.status.idle": "2025-05-14T16:29:35.011361Z",
     "shell.execute_reply": "2025-05-14T16:29:35.010990Z"
    },
    "papermill": {
     "duration": 0.110704,
     "end_time": "2025-05-14T16:29:35.012443",
     "exception": false,
     "start_time": "2025-05-14T16:29:34.901739",
     "status": "completed"
    },
    "tags": []
   },
   "outputs": [],
   "source": [
    "out_dir = here(f'03_downstream_analysis/08_gene_importance/xgboost_external_validation/xgboost_TopN_genes/results_{N_GENES}/metrics')\n",
    "\n",
    "if not os.path.exists(out_dir):\n",
    "    os.makedirs(out_dir)\n",
    "    \n",
    "metrics_df.to_csv(os.path.join(out_dir, f'{CELL_TYPE}_{SEED}_{TEST_SPLIT_IDX}_metrics.zip'))"
   ]
  }
 ],
 "metadata": {
  "kernelspec": {
   "display_name": "Python 3 (ipykernel)",
   "language": "python",
   "name": "python3"
  },
  "language_info": {
   "codemirror_mode": {
    "name": "ipython",
    "version": 3
   },
   "file_extension": ".py",
   "mimetype": "text/x-python",
   "name": "python",
   "nbconvert_exporter": "python",
   "pygments_lexer": "ipython3",
   "version": "3.12.5"
  },
  "papermill": {
   "default_parameters": {},
   "duration": 1341.560924,
   "end_time": "2025-05-14T16:29:36.787790",
   "environment_variables": {},
   "exception": null,
   "input_path": "02_xgboost_fitting_external_20genes.ipynb",
   "output_path": "results_20/executed_notebooks/xgboost_fitting_external_CT_Mono_GS_shap_disease_NOstudy_seed4.ipynb",
   "parameters": {
    "CELL_TYPE": "Mono",
    "SEED": "shap_disease_NOstudy",
    "TEST_SPLIT_IDX": 4
   },
   "start_time": "2025-05-14T16:07:15.226866",
   "version": "2.6.0"
  }
 },
 "nbformat": 4,
 "nbformat_minor": 5
}