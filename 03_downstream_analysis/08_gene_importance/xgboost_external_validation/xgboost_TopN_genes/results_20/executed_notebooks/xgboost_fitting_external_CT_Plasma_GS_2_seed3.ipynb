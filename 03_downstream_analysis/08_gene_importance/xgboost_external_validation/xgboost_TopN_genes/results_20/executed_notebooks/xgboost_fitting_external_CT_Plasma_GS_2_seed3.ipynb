{
 "cells": [
  {
   "cell_type": "code",
   "execution_count": 1,
   "id": "0246866f",
   "metadata": {
    "editable": true,
    "execution": {
     "iopub.execute_input": "2025-05-15T16:15:25.990266Z",
     "iopub.status.busy": "2025-05-15T16:15:25.989927Z",
     "iopub.status.idle": "2025-05-15T16:15:25.992836Z",
     "shell.execute_reply": "2025-05-15T16:15:25.992500Z"
    },
    "papermill": {
     "duration": 0.012058,
     "end_time": "2025-05-15T16:15:25.993814",
     "exception": false,
     "start_time": "2025-05-15T16:15:25.981756",
     "status": "completed"
    },
    "slideshow": {
     "slide_type": ""
    },
    "tags": [
     "parameters"
    ]
   },
   "outputs": [],
   "source": [
    "CELL_TYPE = 'pDC'\n",
    "N_GENES: int = 20\n",
    "SEED = 'shap_studyID' #'disease_NOstudy' 'study_NOdisease' or 'int' or 'shap_studyID'\n",
    "TEST_SPLIT_IDX: int = 1 #[0,4]"
   ]
  },
  {
   "cell_type": "code",
   "execution_count": 2,
   "id": "111e431c",
   "metadata": {
    "execution": {
     "iopub.execute_input": "2025-05-15T16:15:26.006296Z",
     "iopub.status.busy": "2025-05-15T16:15:26.006018Z",
     "iopub.status.idle": "2025-05-15T16:15:26.008241Z",
     "shell.execute_reply": "2025-05-15T16:15:26.007892Z"
    },
    "papermill": {
     "duration": 0.009342,
     "end_time": "2025-05-15T16:15:26.009233",
     "exception": false,
     "start_time": "2025-05-15T16:15:25.999891",
     "status": "completed"
    },
    "tags": [
     "injected-parameters"
    ]
   },
   "outputs": [],
   "source": [
    "# Parameters\n",
    "CELL_TYPE = \"Plasma\"\n",
    "SEED = 2\n",
    "TEST_SPLIT_IDX = 3\n"
   ]
  },
  {
   "cell_type": "code",
   "execution_count": 3,
   "id": "7f36d94c",
   "metadata": {
    "execution": {
     "iopub.execute_input": "2025-05-15T16:15:26.021799Z",
     "iopub.status.busy": "2025-05-15T16:15:26.021609Z",
     "iopub.status.idle": "2025-05-15T16:15:26.023772Z",
     "shell.execute_reply": "2025-05-15T16:15:26.023431Z"
    },
    "papermill": {
     "duration": 0.009077,
     "end_time": "2025-05-15T16:15:26.024702",
     "exception": false,
     "start_time": "2025-05-15T16:15:26.015625",
     "status": "completed"
    },
    "tags": []
   },
   "outputs": [],
   "source": [
    "N_SPLITS: int = 5\n",
    "N_TRIALS: int = 50"
   ]
  },
  {
   "cell_type": "code",
   "execution_count": 4,
   "id": "925e737d",
   "metadata": {
    "execution": {
     "iopub.execute_input": "2025-05-15T16:15:26.037580Z",
     "iopub.status.busy": "2025-05-15T16:15:26.037368Z",
     "iopub.status.idle": "2025-05-15T16:15:27.575662Z",
     "shell.execute_reply": "2025-05-15T16:15:27.575177Z"
    },
    "papermill": {
     "duration": 1.546884,
     "end_time": "2025-05-15T16:15:27.577115",
     "exception": false,
     "start_time": "2025-05-15T16:15:26.030231",
     "status": "completed"
    },
    "tags": []
   },
   "outputs": [],
   "source": [
    "import os\n",
    "import sys\n",
    "from pyprojroot.here import here\n",
    "import pandas as pd\n",
    "import anndata as ad\n",
    "import numpy as np\n",
    "import math\n",
    "from sklearn.model_selection import StratifiedGroupKFold\n",
    "from sklearn.preprocessing import LabelEncoder\n",
    "from sklearn.metrics import f1_score\n",
    "import matplotlib.pyplot as plt\n",
    "import seaborn as sns\n",
    "from itertools import product\n",
    "from sklearn.metrics import balanced_accuracy_score, f1_score\n",
    "import optuna\n",
    "\n",
    "import joblib\n",
    "import pickle\n",
    "import datetime\n",
    "\n",
    "import collections\n",
    "\n",
    "import xgboost\n",
    "from sklearn.preprocessing import LabelEncoder\n",
    "\n",
    "import scipy.sparse as ssp\n",
    "import joblib\n",
    "\n",
    "from dotenv import load_dotenv"
   ]
  },
  {
   "cell_type": "code",
   "execution_count": 5,
   "id": "c03e1606",
   "metadata": {
    "execution": {
     "iopub.execute_input": "2025-05-15T16:15:27.589754Z",
     "iopub.status.busy": "2025-05-15T16:15:27.589372Z",
     "iopub.status.idle": "2025-05-15T16:15:27.596126Z",
     "shell.execute_reply": "2025-05-15T16:15:27.595751Z"
    },
    "papermill": {
     "duration": 0.013763,
     "end_time": "2025-05-15T16:15:27.597004",
     "exception": false,
     "start_time": "2025-05-15T16:15:27.583241",
     "status": "completed"
    },
    "tags": []
   },
   "outputs": [
    {
     "data": {
      "text/plain": [
       "True"
      ]
     },
     "execution_count": 5,
     "metadata": {},
     "output_type": "execute_result"
    }
   ],
   "source": [
    "load_dotenv()"
   ]
  },
  {
   "cell_type": "markdown",
   "id": "f621cfb2",
   "metadata": {
    "papermill": {
     "duration": 0.00588,
     "end_time": "2025-05-15T16:15:27.618044",
     "exception": false,
     "start_time": "2025-05-15T16:15:27.612164",
     "status": "completed"
    },
    "tags": []
   },
   "source": [
    "# LOAD DATASET"
   ]
  },
  {
   "cell_type": "code",
   "execution_count": 6,
   "id": "997766bf",
   "metadata": {
    "execution": {
     "iopub.execute_input": "2025-05-15T16:15:27.630227Z",
     "iopub.status.busy": "2025-05-15T16:15:27.629887Z",
     "iopub.status.idle": "2025-05-15T16:15:27.676317Z",
     "shell.execute_reply": "2025-05-15T16:15:27.675925Z"
    },
    "papermill": {
     "duration": 0.053886,
     "end_time": "2025-05-15T16:15:27.677402",
     "exception": false,
     "start_time": "2025-05-15T16:15:27.623516",
     "status": "completed"
    },
    "tags": []
   },
   "outputs": [],
   "source": [
    "train_adata = ad.read_h5ad(\n",
    "    here(f'03_downstream_analysis/08_gene_importance/xgboost_external_validation/xgboost_TopN_genes/data_cellTypes/EXTERNAL_{CELL_TYPE}.filtered.log1p.h5ad')\n",
    ")"
   ]
  },
  {
   "cell_type": "code",
   "execution_count": 7,
   "id": "9bd04a54",
   "metadata": {
    "execution": {
     "iopub.execute_input": "2025-05-15T16:15:27.691210Z",
     "iopub.status.busy": "2025-05-15T16:15:27.690929Z",
     "iopub.status.idle": "2025-05-15T16:15:27.702076Z",
     "shell.execute_reply": "2025-05-15T16:15:27.701716Z"
    },
    "papermill": {
     "duration": 0.018769,
     "end_time": "2025-05-15T16:15:27.702957",
     "exception": false,
     "start_time": "2025-05-15T16:15:27.684188",
     "status": "completed"
    },
    "tags": []
   },
   "outputs": [
    {
     "name": "stdout",
     "output_type": "stream",
     "text": [
      "['ENSG00000138778' 'ENSG00000104894' 'ENSG00000128340' 'ENSG00000143761'\n",
      " 'ENSG00000129084' 'ENSG00000136156' 'ENSG00000143933' 'ENSG00000048462'\n",
      " 'ENSG00000121858' 'ENSG00000153064' 'ENSG00000165280' 'ENSG00000156587'\n",
      " 'ENSG00000235162' 'ENSG00000175482' 'ENSG00000184752' 'ENSG00000134539'\n",
      " 'ENSG00000103187' 'ENSG00000175104' 'ENSG00000142669' 'ENSG00000138378'\n",
      " 'ENSG00000028137' 'ENSG00000177556' 'ENSG00000164104' 'ENSG00000096996'\n",
      " 'ENSG00000172543' 'ENSG00000079805' 'ENSG00000132510' 'ENSG00000206503'\n",
      " 'ENSG00000130830' 'ENSG00000075234' 'ENSG00000185436' 'ENSG00000147168'\n",
      " 'ENSG00000116815' 'ENSG00000105851' 'ENSG00000104870' 'ENSG00000121774'\n",
      " 'ENSG00000117450' 'ENSG00000142166' 'ENSG00000145287' 'ENSG00000112561'\n",
      " 'ENSG00000152495' 'ENSG00000109861' 'ENSG00000137441' 'ENSG00000227507'\n",
      " 'ENSG00000160213' 'ENSG00000171791' 'ENSG00000133639' 'ENSG00000175203'\n",
      " 'ENSG00000117523' 'ENSG00000155380' 'ENSG00000241837' 'ENSG00000135968'\n",
      " 'ENSG00000077150' 'ENSG00000158869' 'ENSG00000103490' 'ENSG00000196961'\n",
      " 'ENSG00000110077' 'ENSG00000121807' 'ENSG00000231925' 'ENSG00000146457'\n",
      " 'ENSG00000197956' 'ENSG00000105221' 'ENSG00000205542' 'ENSG00000173812'\n",
      " 'ENSG00000277632' 'ENSG00000131143' 'ENSG00000026103' 'ENSG00000107485'\n",
      " 'ENSG00000176986' 'ENSG00000079616' 'ENSG00000134352' 'ENSG00000182287'\n",
      " 'ENSG00000117318' 'ENSG00000167552' 'ENSG00000170581' 'ENSG00000197102'\n",
      " 'ENSG00000118503' 'ENSG00000115073' 'ENSG00000145912' 'ENSG00000105374'\n",
      " 'ENSG00000228474' 'ENSG00000141526' 'ENSG00000149311' 'ENSG00000125347'\n",
      " 'ENSG00000104921' 'ENSG00000111348' 'ENSG00000136003' 'ENSG00000100485'\n",
      " 'ENSG00000130522' 'ENSG00000198846' 'ENSG00000133872' 'ENSG00000171700'\n",
      " 'ENSG00000033800' 'ENSG00000168811' 'ENSG00000100934' 'ENSG00000168394'\n",
      " 'ENSG00000100911' 'ENSG00000132475' 'ENSG00000143543' 'ENSG00000160075'\n",
      " 'ENSG00000078596' 'ENSG00000134470' 'ENSG00000139318' 'ENSG00000143119'\n",
      " 'ENSG00000113441' 'ENSG00000163191' 'ENSG00000161800']\n"
     ]
    }
   ],
   "source": [
    "if SEED != 'all':\n",
    "    gene_subset = np.load(here(f'03_downstream_analysis/08_gene_importance/xgboost_external_validation/shap_gene_selection/gene_subsets_{N_GENES}/{CELL_TYPE}_{SEED}.npy'), allow_pickle=True)\n",
    "    train_adata = train_adata[:,gene_subset]\n",
    "    print(gene_subset)\n",
    "elif SEED == 'all':\n",
    "    print('Using all genes')\n",
    "else:\n",
    "    raise ValueError()"
   ]
  },
  {
   "cell_type": "code",
   "execution_count": 8,
   "id": "e2a9d198",
   "metadata": {
    "execution": {
     "iopub.execute_input": "2025-05-15T16:15:27.715235Z",
     "iopub.status.busy": "2025-05-15T16:15:27.715007Z",
     "iopub.status.idle": "2025-05-15T16:15:27.718116Z",
     "shell.execute_reply": "2025-05-15T16:15:27.717744Z"
    },
    "papermill": {
     "duration": 0.010372,
     "end_time": "2025-05-15T16:15:27.719044",
     "exception": false,
     "start_time": "2025-05-15T16:15:27.708672",
     "status": "completed"
    },
    "tags": []
   },
   "outputs": [
    {
     "data": {
      "text/plain": [
       "(542, 107)"
      ]
     },
     "execution_count": 8,
     "metadata": {},
     "output_type": "execute_result"
    }
   ],
   "source": [
    "train_adata.shape"
   ]
  },
  {
   "cell_type": "code",
   "execution_count": 9,
   "id": "7476097a",
   "metadata": {
    "execution": {
     "iopub.execute_input": "2025-05-15T16:15:27.743021Z",
     "iopub.status.busy": "2025-05-15T16:15:27.742735Z",
     "iopub.status.idle": "2025-05-15T16:15:27.746464Z",
     "shell.execute_reply": "2025-05-15T16:15:27.746106Z"
    },
    "papermill": {
     "duration": 0.011456,
     "end_time": "2025-05-15T16:15:27.747387",
     "exception": false,
     "start_time": "2025-05-15T16:15:27.735931",
     "status": "completed"
    },
    "tags": []
   },
   "outputs": [
    {
     "data": {
      "text/plain": [
       "['RA', 'COVID', 'healthy', 'HIV', 'cirrhosis', 'CD', 'SLE', 'sepsis']\n",
       "Categories (8, object): ['CD', 'COVID', 'HIV', 'RA', 'SLE', 'cirrhosis', 'healthy', 'sepsis']"
      ]
     },
     "execution_count": 9,
     "metadata": {},
     "output_type": "execute_result"
    }
   ],
   "source": [
    "train_adata.obs.disease.unique()"
   ]
  },
  {
   "cell_type": "code",
   "execution_count": 10,
   "id": "04063473",
   "metadata": {
    "execution": {
     "iopub.execute_input": "2025-05-15T16:15:27.759675Z",
     "iopub.status.busy": "2025-05-15T16:15:27.759298Z",
     "iopub.status.idle": "2025-05-15T16:15:27.763093Z",
     "shell.execute_reply": "2025-05-15T16:15:27.762724Z"
    },
    "papermill": {
     "duration": 0.010988,
     "end_time": "2025-05-15T16:15:27.764054",
     "exception": false,
     "start_time": "2025-05-15T16:15:27.753066",
     "status": "completed"
    },
    "tags": []
   },
   "outputs": [
    {
     "data": {
      "text/plain": [
       "['SCGT00val_I0364_T0', 'SCGT00val_I036019_T0', 'SCGT00val_I036028_T0', 'SCGT00val_I036024_T0', 'SCGT00val_I036016_T0', ..., '10XGenomics_10XHC2_T0', '10XGenomics_10XHC3_T0', '10XGenomics_10XHC5_T0', '10XGenomics_10XHC7_T0', '10XGenomics_10XHC8_T0']\n",
       "Length: 74\n",
       "Categories (74, object): ['10XGenomics_10XHC1_T0', '10XGenomics_10XHC2_T0', '10XGenomics_10XHC3_T0', '10XGenomics_10XHC4_T0', ..., 'Savage2021_BRISL6_T0', 'Savage2021_BRISL7_T0', 'Savage2021_PIDA_T0', 'Savage2021_PIDB_T0']"
      ]
     },
     "execution_count": 10,
     "metadata": {},
     "output_type": "execute_result"
    }
   ],
   "source": [
    "train_adata.obs.sampleID.unique()"
   ]
  },
  {
   "cell_type": "code",
   "execution_count": 11,
   "id": "343b9f1d",
   "metadata": {
    "execution": {
     "iopub.execute_input": "2025-05-15T16:15:27.777032Z",
     "iopub.status.busy": "2025-05-15T16:15:27.776836Z",
     "iopub.status.idle": "2025-05-15T16:15:27.808304Z",
     "shell.execute_reply": "2025-05-15T16:15:27.807920Z"
    },
    "papermill": {
     "duration": 0.039547,
     "end_time": "2025-05-15T16:15:27.809362",
     "exception": false,
     "start_time": "2025-05-15T16:15:27.769815",
     "status": "completed"
    },
    "tags": []
   },
   "outputs": [],
   "source": [
    "all_idxs = np.arange(train_adata.obs.shape[0])\n",
    "left_out_splits = [s[1] for s in StratifiedGroupKFold(n_splits=N_SPLITS).split(all_idxs, train_adata.obs.disease, train_adata.obs.sampleID)]"
   ]
  },
  {
   "cell_type": "code",
   "execution_count": 12,
   "id": "69bd5833",
   "metadata": {
    "execution": {
     "iopub.execute_input": "2025-05-15T16:15:27.873308Z",
     "iopub.status.busy": "2025-05-15T16:15:27.872901Z",
     "iopub.status.idle": "2025-05-15T16:15:27.876936Z",
     "shell.execute_reply": "2025-05-15T16:15:27.876593Z"
    },
    "papermill": {
     "duration": 0.01153,
     "end_time": "2025-05-15T16:15:27.877880",
     "exception": false,
     "start_time": "2025-05-15T16:15:27.866350",
     "status": "completed"
    },
    "tags": []
   },
   "outputs": [
    {
     "data": {
      "text/plain": [
       "([0, 1, 2], 4, 3)"
      ]
     },
     "execution_count": 12,
     "metadata": {},
     "output_type": "execute_result"
    }
   ],
   "source": [
    "TRAIN_SPLIT_IDXS = [0,1,2,3,4]\n",
    "VAL_SPLIT_IDX = (TEST_SPLIT_IDX + 1) % 5\n",
    "TRAIN_SPLIT_IDXS.remove(TEST_SPLIT_IDX)\n",
    "TRAIN_SPLIT_IDXS.remove(VAL_SPLIT_IDX)\n",
    "TRAIN_SPLIT_IDXS, VAL_SPLIT_IDX, TEST_SPLIT_IDX"
   ]
  },
  {
   "cell_type": "code",
   "execution_count": 13,
   "id": "f3d852da",
   "metadata": {
    "execution": {
     "iopub.execute_input": "2025-05-15T16:15:27.890750Z",
     "iopub.status.busy": "2025-05-15T16:15:27.890463Z",
     "iopub.status.idle": "2025-05-15T16:15:27.892943Z",
     "shell.execute_reply": "2025-05-15T16:15:27.892611Z"
    },
    "papermill": {
     "duration": 0.009762,
     "end_time": "2025-05-15T16:15:27.893889",
     "exception": false,
     "start_time": "2025-05-15T16:15:27.884127",
     "status": "completed"
    },
    "tags": []
   },
   "outputs": [],
   "source": [
    "train_idxs = np.concatenate([left_out_splits[idx] for idx in TRAIN_SPLIT_IDXS])\n",
    "val_idxs = left_out_splits[VAL_SPLIT_IDX]\n",
    "test_idxs = left_out_splits[TEST_SPLIT_IDX]"
   ]
  },
  {
   "cell_type": "markdown",
   "id": "e83fadc9",
   "metadata": {
    "papermill": {
     "duration": 0.031229,
     "end_time": "2025-05-15T16:15:27.935897",
     "exception": false,
     "start_time": "2025-05-15T16:15:27.904668",
     "status": "completed"
    },
    "tags": []
   },
   "source": [
    "### SUBSET DATASET INTO TRAIN/TEST/VAL SPLITS"
   ]
  },
  {
   "cell_type": "code",
   "execution_count": 14,
   "id": "db55a387",
   "metadata": {
    "execution": {
     "iopub.execute_input": "2025-05-15T16:15:27.949110Z",
     "iopub.status.busy": "2025-05-15T16:15:27.948903Z",
     "iopub.status.idle": "2025-05-15T16:15:27.955936Z",
     "shell.execute_reply": "2025-05-15T16:15:27.955563Z"
    },
    "papermill": {
     "duration": 0.014444,
     "end_time": "2025-05-15T16:15:27.956924",
     "exception": false,
     "start_time": "2025-05-15T16:15:27.942480",
     "status": "completed"
    },
    "tags": []
   },
   "outputs": [
    {
     "data": {
      "text/plain": [
       "((327, 107), (99, 107), (116, 107))"
      ]
     },
     "execution_count": 14,
     "metadata": {},
     "output_type": "execute_result"
    }
   ],
   "source": [
    "X_train = train_adata.X[train_idxs]\n",
    "X_test = train_adata.X[test_idxs]\n",
    "X_val = train_adata.X[val_idxs]\n",
    "X_train.shape, X_test.shape, X_val.shape"
   ]
  },
  {
   "cell_type": "code",
   "execution_count": 15,
   "id": "12aab2e0",
   "metadata": {
    "execution": {
     "iopub.execute_input": "2025-05-15T16:15:27.970037Z",
     "iopub.status.busy": "2025-05-15T16:15:27.969639Z",
     "iopub.status.idle": "2025-05-15T16:15:27.975027Z",
     "shell.execute_reply": "2025-05-15T16:15:27.974683Z"
    },
    "papermill": {
     "duration": 0.013003,
     "end_time": "2025-05-15T16:15:27.975900",
     "exception": false,
     "start_time": "2025-05-15T16:15:27.962897",
     "status": "completed"
    },
    "tags": []
   },
   "outputs": [
    {
     "data": {
      "text/plain": [
       "((327,), (99,), (116,))"
      ]
     },
     "execution_count": 15,
     "metadata": {},
     "output_type": "execute_result"
    }
   ],
   "source": [
    "y_train = train_adata.obs.iloc[train_idxs].disease.values.astype(str)\n",
    "y_test = train_adata.obs.iloc[test_idxs].disease.values.astype(str)\n",
    "y_val = train_adata.obs.iloc[val_idxs].disease.values.astype(str)\n",
    "y_train.shape, y_test.shape, y_val.shape"
   ]
  },
  {
   "cell_type": "code",
   "execution_count": 16,
   "id": "d8d02b1e",
   "metadata": {
    "execution": {
     "iopub.execute_input": "2025-05-15T16:15:27.989232Z",
     "iopub.status.busy": "2025-05-15T16:15:27.988976Z",
     "iopub.status.idle": "2025-05-15T16:15:27.991838Z",
     "shell.execute_reply": "2025-05-15T16:15:27.991495Z"
    },
    "papermill": {
     "duration": 0.010669,
     "end_time": "2025-05-15T16:15:27.992700",
     "exception": false,
     "start_time": "2025-05-15T16:15:27.982031",
     "status": "completed"
    },
    "tags": []
   },
   "outputs": [],
   "source": [
    "lenc = LabelEncoder()\n",
    "y_train_enc = lenc.fit_transform(y_train)\n",
    "y_val_enc = lenc.transform(y_val)\n",
    "y_test_enc = lenc.transform(y_test)"
   ]
  },
  {
   "cell_type": "markdown",
   "id": "2cc7053f",
   "metadata": {
    "papermill": {
     "duration": 0.005947,
     "end_time": "2025-05-15T16:15:28.004687",
     "exception": false,
     "start_time": "2025-05-15T16:15:27.998740",
     "status": "completed"
    },
    "tags": []
   },
   "source": [
    "### GENERATE F1 "
   ]
  },
  {
   "cell_type": "code",
   "execution_count": 17,
   "id": "e5b165dc",
   "metadata": {
    "execution": {
     "iopub.execute_input": "2025-05-15T16:15:28.017490Z",
     "iopub.status.busy": "2025-05-15T16:15:28.017245Z",
     "iopub.status.idle": "2025-05-15T16:15:28.019574Z",
     "shell.execute_reply": "2025-05-15T16:15:28.019231Z"
    },
    "papermill": {
     "duration": 0.00968,
     "end_time": "2025-05-15T16:15:28.020505",
     "exception": false,
     "start_time": "2025-05-15T16:15:28.010825",
     "status": "completed"
    },
    "tags": []
   },
   "outputs": [],
   "source": [
    "def custom_f1_score(y_true, y_pred):\n",
    "    return -f1_score(y_true, y_pred.argmax(1), average='weighted')"
   ]
  },
  {
   "cell_type": "code",
   "execution_count": 18,
   "id": "5ee8607c",
   "metadata": {
    "execution": {
     "iopub.execute_input": "2025-05-15T16:15:28.032878Z",
     "iopub.status.busy": "2025-05-15T16:15:28.032686Z",
     "iopub.status.idle": "2025-05-15T16:15:28.036415Z",
     "shell.execute_reply": "2025-05-15T16:15:28.036079Z"
    },
    "papermill": {
     "duration": 0.010808,
     "end_time": "2025-05-15T16:15:28.037265",
     "exception": false,
     "start_time": "2025-05-15T16:15:28.026457",
     "status": "completed"
    },
    "tags": []
   },
   "outputs": [],
   "source": [
    "eval_metric=custom_f1_score\n",
    "eval_metric_name='custom_f1_score'\n",
    "\n",
    "def objective(trial):\n",
    "    params = {\n",
    "        'n_estimators': 1500,\n",
    "        'max_depth': trial.suggest_int('max_depth', 3, 20),\n",
    "        'min_child_weight': trial.suggest_int('min_child_weight', 1, 250),\n",
    "        'subsample': trial.suggest_float('subsample', 0.1, 1.0),\n",
    "        'colsample_bynode': trial.suggest_float('colsample_bynode', 0.1, 1.0),\n",
    "        'learning_rate': trial.suggest_float('learning_rate', 1e-3, 5e-1, log=True),\n",
    "    }\n",
    "    pruning_callback = optuna.integration.XGBoostPruningCallback(trial, f'validation_0-{eval_metric_name}')\n",
    "    es_callback = xgboost.callback.EarlyStopping(20, min_delta=0.001)\n",
    "    xgb = xgboost.XGBClassifier(\n",
    "        eval_metric=eval_metric,\n",
    "        callbacks=[pruning_callback, es_callback],\n",
    "        n_jobs=5,\n",
    "        **params\n",
    "    )\n",
    "    xgb.fit(\n",
    "        X_train, \n",
    "        y_train_enc, \n",
    "        verbose=0,\n",
    "        eval_set=[(X_val, y_val_enc)],\n",
    "    )\n",
    "    trial.set_user_attr('best_iteration', xgb.best_iteration)\n",
    "\n",
    "    return xgb.best_score"
   ]
  },
  {
   "cell_type": "code",
   "execution_count": 19,
   "id": "c670238e",
   "metadata": {
    "execution": {
     "iopub.execute_input": "2025-05-15T16:15:28.049944Z",
     "iopub.status.busy": "2025-05-15T16:15:28.049581Z",
     "iopub.status.idle": "2025-05-15T16:15:39.917628Z",
     "shell.execute_reply": "2025-05-15T16:15:39.917097Z"
    },
    "papermill": {
     "duration": 11.875564,
     "end_time": "2025-05-15T16:15:39.918702",
     "exception": false,
     "start_time": "2025-05-15T16:15:28.043138",
     "status": "completed"
    },
    "scrolled": true,
    "tags": []
   },
   "outputs": [
    {
     "name": "stderr",
     "output_type": "stream",
     "text": [
      "[I 2025-05-15 18:15:28,051] A new study created in memory with name: no-name-31e23c5d-cab8-4d19-8420-f50257a9e44e\n"
     ]
    },
    {
     "name": "stderr",
     "output_type": "stream",
     "text": [
      "[I 2025-05-15 18:15:28,130] Trial 0 finished with value: -0.041688 and parameters: {'max_depth': 9, 'min_child_weight': 238, 'subsample': 0.7587945476302645, 'colsample_bynode': 0.6387926357773329, 'learning_rate': 0.0026368755339723046}. Best is trial 0 with value: -0.041688.\n"
     ]
    },
    {
     "name": "stderr",
     "output_type": "stream",
     "text": [
      "[I 2025-05-15 18:15:28,404] Trial 1 finished with value: -0.45511 and parameters: {'max_depth': 5, 'min_child_weight': 15, 'subsample': 0.8795585311974417, 'colsample_bynode': 0.6410035105688879, 'learning_rate': 0.08148293210105287}. Best is trial 1 with value: -0.45511.\n"
     ]
    },
    {
     "name": "stderr",
     "output_type": "stream",
     "text": [
      "[I 2025-05-15 18:15:28,580] Trial 2 finished with value: -0.041688 and parameters: {'max_depth': 3, 'min_child_weight': 243, 'subsample': 0.8491983767203796, 'colsample_bynode': 0.29110519961044856, 'learning_rate': 0.003095566460242371}. Best is trial 1 with value: -0.45511.\n"
     ]
    },
    {
     "name": "stderr",
     "output_type": "stream",
     "text": [
      "[I 2025-05-15 18:15:28,750] Trial 3 finished with value: -0.041688 and parameters: {'max_depth': 6, 'min_child_weight': 77, 'subsample': 0.5722807884690141, 'colsample_bynode': 0.48875051677790415, 'learning_rate': 0.006109683510122491}. Best is trial 1 with value: -0.45511.\n"
     ]
    },
    {
     "name": "stderr",
     "output_type": "stream",
     "text": [
      "[I 2025-05-15 18:15:28,921] Trial 4 finished with value: -0.041688 and parameters: {'max_depth': 14, 'min_child_weight': 35, 'subsample': 0.3629301836816964, 'colsample_bynode': 0.4297256589643226, 'learning_rate': 0.01701841881702917}. Best is trial 1 with value: -0.45511.\n"
     ]
    },
    {
     "name": "stderr",
     "output_type": "stream",
     "text": [
      "[I 2025-05-15 18:15:29,097] Trial 5 finished with value: -0.041688 and parameters: {'max_depth': 17, 'min_child_weight': 50, 'subsample': 0.5628109945722505, 'colsample_bynode': 0.6331731119758383, 'learning_rate': 0.0013346527038305934}. Best is trial 1 with value: -0.45511.\n"
     ]
    },
    {
     "name": "stderr",
     "output_type": "stream",
     "text": [
      "[I 2025-05-15 18:15:29,262] Trial 6 finished with value: -0.041688 and parameters: {'max_depth': 13, 'min_child_weight': 43, 'subsample': 0.1585464336867516, 'colsample_bynode': 0.9539969835279999, 'learning_rate': 0.4038423798071558}. Best is trial 1 with value: -0.45511.\n"
     ]
    },
    {
     "name": "stderr",
     "output_type": "stream",
     "text": [
      "[I 2025-05-15 18:15:29,439] Trial 7 finished with value: -0.041688 and parameters: {'max_depth': 17, 'min_child_weight': 77, 'subsample': 0.1879049026057455, 'colsample_bynode': 0.7158097238609412, 'learning_rate': 0.015415527060141935}. Best is trial 1 with value: -0.45511.\n"
     ]
    },
    {
     "name": "stderr",
     "output_type": "stream",
     "text": [
      "[I 2025-05-15 18:15:29,614] Trial 8 finished with value: -0.041688 and parameters: {'max_depth': 5, 'min_child_weight': 124, 'subsample': 0.13094966900369656, 'colsample_bynode': 0.9183883618709039, 'learning_rate': 0.004993895014755658}. Best is trial 1 with value: -0.45511.\n"
     ]
    },
    {
     "name": "stderr",
     "output_type": "stream",
     "text": [
      "[I 2025-05-15 18:15:29,784] Trial 9 finished with value: -0.041688 and parameters: {'max_depth': 14, 'min_child_weight': 78, 'subsample': 0.5680612190600297, 'colsample_bynode': 0.5920392514089517, 'learning_rate': 0.0031543990308330965}. Best is trial 1 with value: -0.45511.\n"
     ]
    },
    {
     "name": "stderr",
     "output_type": "stream",
     "text": [
      "[I 2025-05-15 18:15:30,283] Trial 10 finished with value: -0.470778 and parameters: {'max_depth': 9, 'min_child_weight': 2, 'subsample': 0.9725833997090791, 'colsample_bynode': 0.11616568805333755, 'learning_rate': 0.17780618353487967}. Best is trial 10 with value: -0.470778.\n"
     ]
    },
    {
     "name": "stderr",
     "output_type": "stream",
     "text": [
      "[I 2025-05-15 18:15:30,607] Trial 11 pruned. Trial was pruned at iteration 21.\n"
     ]
    },
    {
     "name": "stderr",
     "output_type": "stream",
     "text": [
      "[I 2025-05-15 18:15:30,994] Trial 12 finished with value: -0.523792 and parameters: {'max_depth': 9, 'min_child_weight': 3, 'subsample': 0.9754570370311046, 'colsample_bynode': 0.14672783827498995, 'learning_rate': 0.08954997670613858}. Best is trial 12 with value: -0.523792.\n"
     ]
    },
    {
     "name": "stderr",
     "output_type": "stream",
     "text": [
      "[I 2025-05-15 18:15:31,197] Trial 13 finished with value: -0.041688 and parameters: {'max_depth': 10, 'min_child_weight': 173, 'subsample': 0.9990365834996398, 'colsample_bynode': 0.10388397775802007, 'learning_rate': 0.08954294267079196}. Best is trial 12 with value: -0.523792.\n"
     ]
    },
    {
     "name": "stderr",
     "output_type": "stream",
     "text": [
      "[I 2025-05-15 18:15:31,390] Trial 14 finished with value: -0.041688 and parameters: {'max_depth': 7, 'min_child_weight': 132, 'subsample': 0.7251427075087294, 'colsample_bynode': 0.2827065087684573, 'learning_rate': 0.39514801085683204}. Best is trial 12 with value: -0.523792.\n"
     ]
    },
    {
     "name": "stderr",
     "output_type": "stream",
     "text": [
      "[I 2025-05-15 18:15:31,850] Trial 15 finished with value: -0.549417 and parameters: {'max_depth': 20, 'min_child_weight': 2, 'subsample': 0.7157386387695167, 'colsample_bynode': 0.31387503510266057, 'learning_rate': 0.19723736175781964}. Best is trial 15 with value: -0.549417.\n"
     ]
    },
    {
     "name": "stderr",
     "output_type": "stream",
     "text": [
      "[I 2025-05-15 18:15:32,044] Trial 16 finished with value: -0.041688 and parameters: {'max_depth': 20, 'min_child_weight': 117, 'subsample': 0.6730263351162008, 'colsample_bynode': 0.3385576284212829, 'learning_rate': 0.03981038544023995}. Best is trial 15 with value: -0.549417.\n"
     ]
    },
    {
     "name": "stderr",
     "output_type": "stream",
     "text": [
      "[I 2025-05-15 18:15:32,235] Trial 17 finished with value: -0.041688 and parameters: {'max_depth': 20, 'min_child_weight': 183, 'subsample': 0.37310167079970213, 'colsample_bynode': 0.22493155379732882, 'learning_rate': 0.03693978001808522}. Best is trial 15 with value: -0.549417.\n"
     ]
    },
    {
     "name": "stderr",
     "output_type": "stream",
     "text": [
      "[I 2025-05-15 18:15:32,437] Trial 18 pruned. Trial was pruned at iteration 21.\n"
     ]
    },
    {
     "name": "stderr",
     "output_type": "stream",
     "text": [
      "[I 2025-05-15 18:15:32,636] Trial 19 finished with value: -0.041688 and parameters: {'max_depth': 17, 'min_child_weight': 99, 'subsample': 0.6637428431059115, 'colsample_bynode': 0.21504189185437605, 'learning_rate': 0.044342843556182426}. Best is trial 15 with value: -0.549417.\n"
     ]
    },
    {
     "name": "stderr",
     "output_type": "stream",
     "text": [
      "[I 2025-05-15 18:15:32,831] Trial 20 pruned. Trial was pruned at iteration 21.\n"
     ]
    },
    {
     "name": "stderr",
     "output_type": "stream",
     "text": [
      "[I 2025-05-15 18:15:33,290] Trial 21 pruned. Trial was pruned at iteration 27.\n"
     ]
    },
    {
     "name": "stderr",
     "output_type": "stream",
     "text": [
      "[I 2025-05-15 18:15:33,494] Trial 22 finished with value: -0.119292 and parameters: {'max_depth': 8, 'min_child_weight': 56, 'subsample': 0.7982423974446629, 'colsample_bynode': 0.17243816785003457, 'learning_rate': 0.06928140953647935}. Best is trial 15 with value: -0.549417.\n"
     ]
    },
    {
     "name": "stderr",
     "output_type": "stream",
     "text": [
      "[I 2025-05-15 18:15:33,715] Trial 23 pruned. Trial was pruned at iteration 21.\n"
     ]
    },
    {
     "name": "stderr",
     "output_type": "stream",
     "text": [
      "[I 2025-05-15 18:15:34,230] Trial 24 finished with value: -0.532105 and parameters: {'max_depth': 8, 'min_child_weight': 4, 'subsample': 0.9303633190626198, 'colsample_bynode': 0.15112832683401511, 'learning_rate': 0.1352367196799636}. Best is trial 15 with value: -0.549417.\n"
     ]
    },
    {
     "name": "stderr",
     "output_type": "stream",
     "text": [
      "[I 2025-05-15 18:15:34,419] Trial 25 finished with value: -0.041688 and parameters: {'max_depth': 3, 'min_child_weight': 62, 'subsample': 0.6649423612848963, 'colsample_bynode': 0.4503977998113829, 'learning_rate': 0.05776956315722726}. Best is trial 15 with value: -0.549417.\n"
     ]
    },
    {
     "name": "stderr",
     "output_type": "stream",
     "text": [
      "[I 2025-05-15 18:15:34,654] Trial 26 finished with value: -0.392638 and parameters: {'max_depth': 7, 'min_child_weight': 23, 'subsample': 0.926674820402831, 'colsample_bynode': 0.3245350922093553, 'learning_rate': 0.02818736860278231}. Best is trial 15 with value: -0.549417.\n"
     ]
    },
    {
     "name": "stderr",
     "output_type": "stream",
     "text": [
      "[I 2025-05-15 18:15:34,852] Trial 27 finished with value: -0.041688 and parameters: {'max_depth': 10, 'min_child_weight': 164, 'subsample': 0.7468156334694096, 'colsample_bynode': 0.5082944821752585, 'learning_rate': 0.11140482948905692}. Best is trial 15 with value: -0.549417.\n"
     ]
    },
    {
     "name": "stderr",
     "output_type": "stream",
     "text": [
      "[I 2025-05-15 18:15:35,055] Trial 28 finished with value: -0.041688 and parameters: {'max_depth': 18, 'min_child_weight': 208, 'subsample': 0.8064298479766671, 'colsample_bynode': 0.17287173219568833, 'learning_rate': 0.493036325975959}. Best is trial 15 with value: -0.549417.\n"
     ]
    },
    {
     "name": "stderr",
     "output_type": "stream",
     "text": [
      "[I 2025-05-15 18:15:35,250] Trial 29 finished with value: -0.041688 and parameters: {'max_depth': 8, 'min_child_weight': 101, 'subsample': 0.472071625829665, 'colsample_bynode': 0.7450471687608263, 'learning_rate': 0.010709004830646147}. Best is trial 15 with value: -0.549417.\n"
     ]
    },
    {
     "name": "stderr",
     "output_type": "stream",
     "text": [
      "[I 2025-05-15 18:15:35,441] Trial 30 finished with value: -0.041688 and parameters: {'max_depth': 12, 'min_child_weight': 220, 'subsample': 0.7626637791897475, 'colsample_bynode': 0.23474034571696867, 'learning_rate': 0.12517921516719294}. Best is trial 15 with value: -0.549417.\n"
     ]
    },
    {
     "name": "stderr",
     "output_type": "stream",
     "text": [
      "[I 2025-05-15 18:15:35,941] Trial 31 finished with value: -0.554775 and parameters: {'max_depth': 9, 'min_child_weight': 4, 'subsample': 0.9412980531527818, 'colsample_bynode': 0.14005604270070104, 'learning_rate': 0.2641752632585646}. Best is trial 31 with value: -0.554775.\n"
     ]
    },
    {
     "name": "stderr",
     "output_type": "stream",
     "text": [
      "[I 2025-05-15 18:15:36,151] Trial 32 pruned. Trial was pruned at iteration 22.\n"
     ]
    },
    {
     "name": "stderr",
     "output_type": "stream",
     "text": [
      "[I 2025-05-15 18:15:36,358] Trial 33 pruned. Trial was pruned at iteration 21.\n"
     ]
    },
    {
     "name": "stderr",
     "output_type": "stream",
     "text": [
      "[I 2025-05-15 18:15:36,550] Trial 34 pruned. Trial was pruned at iteration 21.\n"
     ]
    },
    {
     "name": "stderr",
     "output_type": "stream",
     "text": [
      "[I 2025-05-15 18:15:36,800] Trial 35 pruned. Trial was pruned at iteration 22.\n"
     ]
    },
    {
     "name": "stderr",
     "output_type": "stream",
     "text": [
      "[I 2025-05-15 18:15:36,977] Trial 36 finished with value: -0.041688 and parameters: {'max_depth': 7, 'min_child_weight': 64, 'subsample': 0.7068452748767308, 'colsample_bynode': 0.210108102754839, 'learning_rate': 0.09426896972230325}. Best is trial 31 with value: -0.554775.\n"
     ]
    },
    {
     "name": "stderr",
     "output_type": "stream",
     "text": [
      "[I 2025-05-15 18:15:37,166] Trial 37 pruned. Trial was pruned at iteration 21.\n"
     ]
    },
    {
     "name": "stderr",
     "output_type": "stream",
     "text": [
      "[I 2025-05-15 18:15:37,349] Trial 38 finished with value: -0.041688 and parameters: {'max_depth': 13, 'min_child_weight': 49, 'subsample': 0.25720599485408774, 'colsample_bynode': 0.14744068122185916, 'learning_rate': 0.055767236748131825}. Best is trial 31 with value: -0.554775.\n"
     ]
    },
    {
     "name": "stderr",
     "output_type": "stream",
     "text": [
      "[I 2025-05-15 18:15:37,549] Trial 39 pruned. Trial was pruned at iteration 21.\n"
     ]
    },
    {
     "name": "stderr",
     "output_type": "stream",
     "text": [
      "[I 2025-05-15 18:15:37,733] Trial 40 pruned. Trial was pruned at iteration 21.\n"
     ]
    },
    {
     "name": "stderr",
     "output_type": "stream",
     "text": [
      "[I 2025-05-15 18:15:38,049] Trial 41 pruned. Trial was pruned at iteration 21.\n"
     ]
    },
    {
     "name": "stderr",
     "output_type": "stream",
     "text": [
      "[I 2025-05-15 18:15:38,269] Trial 42 pruned. Trial was pruned at iteration 21.\n"
     ]
    },
    {
     "name": "stderr",
     "output_type": "stream",
     "text": [
      "[I 2025-05-15 18:15:38,450] Trial 43 pruned. Trial was pruned at iteration 21.\n"
     ]
    },
    {
     "name": "stderr",
     "output_type": "stream",
     "text": [
      "[I 2025-05-15 18:15:38,820] Trial 44 pruned. Trial was pruned at iteration 21.\n"
     ]
    },
    {
     "name": "stderr",
     "output_type": "stream",
     "text": [
      "[I 2025-05-15 18:15:39,001] Trial 45 finished with value: -0.041688 and parameters: {'max_depth': 8, 'min_child_weight': 74, 'subsample': 0.9391573510120519, 'colsample_bynode': 0.3131675026683077, 'learning_rate': 0.48818028256986684}. Best is trial 31 with value: -0.554775.\n"
     ]
    },
    {
     "name": "stderr",
     "output_type": "stream",
     "text": [
      "[I 2025-05-15 18:15:39,244] Trial 46 pruned. Trial was pruned at iteration 22.\n"
     ]
    },
    {
     "name": "stderr",
     "output_type": "stream",
     "text": [
      "[I 2025-05-15 18:15:39,452] Trial 47 pruned. Trial was pruned at iteration 21.\n"
     ]
    },
    {
     "name": "stderr",
     "output_type": "stream",
     "text": [
      "[I 2025-05-15 18:15:39,629] Trial 48 finished with value: -0.041688 and parameters: {'max_depth': 10, 'min_child_weight': 145, 'subsample': 0.9489768190599119, 'colsample_bynode': 0.15127643607522334, 'learning_rate': 0.1334169216074552}. Best is trial 31 with value: -0.554775.\n"
     ]
    },
    {
     "name": "stderr",
     "output_type": "stream",
     "text": [
      "[I 2025-05-15 18:15:39,818] Trial 49 finished with value: -0.119292 and parameters: {'max_depth': 13, 'min_child_weight': 40, 'subsample': 0.598174414388706, 'colsample_bynode': 0.43324950347450675, 'learning_rate': 0.10261946470622371}. Best is trial 31 with value: -0.554775.\n"
     ]
    }
   ],
   "source": [
    "sampler = optuna.samplers.TPESampler(seed=42)\n",
    "study = optuna.create_study(direction='minimize', sampler=sampler)\n",
    "study.optimize(objective, n_trials=N_TRIALS, gc_after_trial=True)"
   ]
  },
  {
   "cell_type": "code",
   "execution_count": 20,
   "id": "0906c932",
   "metadata": {
    "execution": {
     "iopub.execute_input": "2025-05-15T16:15:39.992404Z",
     "iopub.status.busy": "2025-05-15T16:15:39.992186Z",
     "iopub.status.idle": "2025-05-15T16:15:40.033725Z",
     "shell.execute_reply": "2025-05-15T16:15:40.033369Z"
    },
    "papermill": {
     "duration": 0.10563,
     "end_time": "2025-05-15T16:15:40.034672",
     "exception": false,
     "start_time": "2025-05-15T16:15:39.929042",
     "status": "completed"
    },
    "tags": []
   },
   "outputs": [
    {
     "data": {
      "text/plain": [
       "['/scratch_isilon/groups/singlecell/shared/projects/Inflammation-PBMCs-Atlas/03_downstream_analysis/08_gene_importance/xgboost_external_validation/xgboost_TopN_genes/results_20/study/Plasma_2_3_xgboost.pkl']"
      ]
     },
     "execution_count": 20,
     "metadata": {},
     "output_type": "execute_result"
    }
   ],
   "source": [
    "out_dir = here(f'03_downstream_analysis/08_gene_importance/xgboost_external_validation/xgboost_TopN_genes/results_{N_GENES}/study')\n",
    "\n",
    "if not os.path.exists(out_dir):\n",
    "    os.makedirs(out_dir)\n",
    "    \n",
    "joblib.dump(study,os.path.join(out_dir, f'{CELL_TYPE}_{SEED}_{TEST_SPLIT_IDX}_xgboost.pkl'))"
   ]
  },
  {
   "cell_type": "code",
   "execution_count": 21,
   "id": "c58ca4aa",
   "metadata": {
    "execution": {
     "iopub.execute_input": "2025-05-15T16:15:40.078630Z",
     "iopub.status.busy": "2025-05-15T16:15:40.078426Z",
     "iopub.status.idle": "2025-05-15T16:15:40.385100Z",
     "shell.execute_reply": "2025-05-15T16:15:40.384703Z"
    },
    "papermill": {
     "duration": 0.342517,
     "end_time": "2025-05-15T16:15:40.386274",
     "exception": false,
     "start_time": "2025-05-15T16:15:40.043757",
     "status": "completed"
    },
    "tags": []
   },
   "outputs": [
    {
     "data": {
      "text/html": [
       "<style>#sk-container-id-1 {\n",
       "  /* Definition of color scheme common for light and dark mode */\n",
       "  --sklearn-color-text: black;\n",
       "  --sklearn-color-line: gray;\n",
       "  /* Definition of color scheme for unfitted estimators */\n",
       "  --sklearn-color-unfitted-level-0: #fff5e6;\n",
       "  --sklearn-color-unfitted-level-1: #f6e4d2;\n",
       "  --sklearn-color-unfitted-level-2: #ffe0b3;\n",
       "  --sklearn-color-unfitted-level-3: chocolate;\n",
       "  /* Definition of color scheme for fitted estimators */\n",
       "  --sklearn-color-fitted-level-0: #f0f8ff;\n",
       "  --sklearn-color-fitted-level-1: #d4ebff;\n",
       "  --sklearn-color-fitted-level-2: #b3dbfd;\n",
       "  --sklearn-color-fitted-level-3: cornflowerblue;\n",
       "\n",
       "  /* Specific color for light theme */\n",
       "  --sklearn-color-text-on-default-background: var(--sg-text-color, var(--theme-code-foreground, var(--jp-content-font-color1, black)));\n",
       "  --sklearn-color-background: var(--sg-background-color, var(--theme-background, var(--jp-layout-color0, white)));\n",
       "  --sklearn-color-border-box: var(--sg-text-color, var(--theme-code-foreground, var(--jp-content-font-color1, black)));\n",
       "  --sklearn-color-icon: #696969;\n",
       "\n",
       "  @media (prefers-color-scheme: dark) {\n",
       "    /* Redefinition of color scheme for dark theme */\n",
       "    --sklearn-color-text-on-default-background: var(--sg-text-color, var(--theme-code-foreground, var(--jp-content-font-color1, white)));\n",
       "    --sklearn-color-background: var(--sg-background-color, var(--theme-background, var(--jp-layout-color0, #111)));\n",
       "    --sklearn-color-border-box: var(--sg-text-color, var(--theme-code-foreground, var(--jp-content-font-color1, white)));\n",
       "    --sklearn-color-icon: #878787;\n",
       "  }\n",
       "}\n",
       "\n",
       "#sk-container-id-1 {\n",
       "  color: var(--sklearn-color-text);\n",
       "}\n",
       "\n",
       "#sk-container-id-1 pre {\n",
       "  padding: 0;\n",
       "}\n",
       "\n",
       "#sk-container-id-1 input.sk-hidden--visually {\n",
       "  border: 0;\n",
       "  clip: rect(1px 1px 1px 1px);\n",
       "  clip: rect(1px, 1px, 1px, 1px);\n",
       "  height: 1px;\n",
       "  margin: -1px;\n",
       "  overflow: hidden;\n",
       "  padding: 0;\n",
       "  position: absolute;\n",
       "  width: 1px;\n",
       "}\n",
       "\n",
       "#sk-container-id-1 div.sk-dashed-wrapped {\n",
       "  border: 1px dashed var(--sklearn-color-line);\n",
       "  margin: 0 0.4em 0.5em 0.4em;\n",
       "  box-sizing: border-box;\n",
       "  padding-bottom: 0.4em;\n",
       "  background-color: var(--sklearn-color-background);\n",
       "}\n",
       "\n",
       "#sk-container-id-1 div.sk-container {\n",
       "  /* jupyter's `normalize.less` sets `[hidden] { display: none; }`\n",
       "     but bootstrap.min.css set `[hidden] { display: none !important; }`\n",
       "     so we also need the `!important` here to be able to override the\n",
       "     default hidden behavior on the sphinx rendered scikit-learn.org.\n",
       "     See: https://github.com/scikit-learn/scikit-learn/issues/21755 */\n",
       "  display: inline-block !important;\n",
       "  position: relative;\n",
       "}\n",
       "\n",
       "#sk-container-id-1 div.sk-text-repr-fallback {\n",
       "  display: none;\n",
       "}\n",
       "\n",
       "div.sk-parallel-item,\n",
       "div.sk-serial,\n",
       "div.sk-item {\n",
       "  /* draw centered vertical line to link estimators */\n",
       "  background-image: linear-gradient(var(--sklearn-color-text-on-default-background), var(--sklearn-color-text-on-default-background));\n",
       "  background-size: 2px 100%;\n",
       "  background-repeat: no-repeat;\n",
       "  background-position: center center;\n",
       "}\n",
       "\n",
       "/* Parallel-specific style estimator block */\n",
       "\n",
       "#sk-container-id-1 div.sk-parallel-item::after {\n",
       "  content: \"\";\n",
       "  width: 100%;\n",
       "  border-bottom: 2px solid var(--sklearn-color-text-on-default-background);\n",
       "  flex-grow: 1;\n",
       "}\n",
       "\n",
       "#sk-container-id-1 div.sk-parallel {\n",
       "  display: flex;\n",
       "  align-items: stretch;\n",
       "  justify-content: center;\n",
       "  background-color: var(--sklearn-color-background);\n",
       "  position: relative;\n",
       "}\n",
       "\n",
       "#sk-container-id-1 div.sk-parallel-item {\n",
       "  display: flex;\n",
       "  flex-direction: column;\n",
       "}\n",
       "\n",
       "#sk-container-id-1 div.sk-parallel-item:first-child::after {\n",
       "  align-self: flex-end;\n",
       "  width: 50%;\n",
       "}\n",
       "\n",
       "#sk-container-id-1 div.sk-parallel-item:last-child::after {\n",
       "  align-self: flex-start;\n",
       "  width: 50%;\n",
       "}\n",
       "\n",
       "#sk-container-id-1 div.sk-parallel-item:only-child::after {\n",
       "  width: 0;\n",
       "}\n",
       "\n",
       "/* Serial-specific style estimator block */\n",
       "\n",
       "#sk-container-id-1 div.sk-serial {\n",
       "  display: flex;\n",
       "  flex-direction: column;\n",
       "  align-items: center;\n",
       "  background-color: var(--sklearn-color-background);\n",
       "  padding-right: 1em;\n",
       "  padding-left: 1em;\n",
       "}\n",
       "\n",
       "\n",
       "/* Toggleable style: style used for estimator/Pipeline/ColumnTransformer box that is\n",
       "clickable and can be expanded/collapsed.\n",
       "- Pipeline and ColumnTransformer use this feature and define the default style\n",
       "- Estimators will overwrite some part of the style using the `sk-estimator` class\n",
       "*/\n",
       "\n",
       "/* Pipeline and ColumnTransformer style (default) */\n",
       "\n",
       "#sk-container-id-1 div.sk-toggleable {\n",
       "  /* Default theme specific background. It is overwritten whether we have a\n",
       "  specific estimator or a Pipeline/ColumnTransformer */\n",
       "  background-color: var(--sklearn-color-background);\n",
       "}\n",
       "\n",
       "/* Toggleable label */\n",
       "#sk-container-id-1 label.sk-toggleable__label {\n",
       "  cursor: pointer;\n",
       "  display: block;\n",
       "  width: 100%;\n",
       "  margin-bottom: 0;\n",
       "  padding: 0.5em;\n",
       "  box-sizing: border-box;\n",
       "  text-align: center;\n",
       "}\n",
       "\n",
       "#sk-container-id-1 label.sk-toggleable__label-arrow:before {\n",
       "  /* Arrow on the left of the label */\n",
       "  content: \"▸\";\n",
       "  float: left;\n",
       "  margin-right: 0.25em;\n",
       "  color: var(--sklearn-color-icon);\n",
       "}\n",
       "\n",
       "#sk-container-id-1 label.sk-toggleable__label-arrow:hover:before {\n",
       "  color: var(--sklearn-color-text);\n",
       "}\n",
       "\n",
       "/* Toggleable content - dropdown */\n",
       "\n",
       "#sk-container-id-1 div.sk-toggleable__content {\n",
       "  max-height: 0;\n",
       "  max-width: 0;\n",
       "  overflow: hidden;\n",
       "  text-align: left;\n",
       "  /* unfitted */\n",
       "  background-color: var(--sklearn-color-unfitted-level-0);\n",
       "}\n",
       "\n",
       "#sk-container-id-1 div.sk-toggleable__content.fitted {\n",
       "  /* fitted */\n",
       "  background-color: var(--sklearn-color-fitted-level-0);\n",
       "}\n",
       "\n",
       "#sk-container-id-1 div.sk-toggleable__content pre {\n",
       "  margin: 0.2em;\n",
       "  border-radius: 0.25em;\n",
       "  color: var(--sklearn-color-text);\n",
       "  /* unfitted */\n",
       "  background-color: var(--sklearn-color-unfitted-level-0);\n",
       "}\n",
       "\n",
       "#sk-container-id-1 div.sk-toggleable__content.fitted pre {\n",
       "  /* unfitted */\n",
       "  background-color: var(--sklearn-color-fitted-level-0);\n",
       "}\n",
       "\n",
       "#sk-container-id-1 input.sk-toggleable__control:checked~div.sk-toggleable__content {\n",
       "  /* Expand drop-down */\n",
       "  max-height: 200px;\n",
       "  max-width: 100%;\n",
       "  overflow: auto;\n",
       "}\n",
       "\n",
       "#sk-container-id-1 input.sk-toggleable__control:checked~label.sk-toggleable__label-arrow:before {\n",
       "  content: \"▾\";\n",
       "}\n",
       "\n",
       "/* Pipeline/ColumnTransformer-specific style */\n",
       "\n",
       "#sk-container-id-1 div.sk-label input.sk-toggleable__control:checked~label.sk-toggleable__label {\n",
       "  color: var(--sklearn-color-text);\n",
       "  background-color: var(--sklearn-color-unfitted-level-2);\n",
       "}\n",
       "\n",
       "#sk-container-id-1 div.sk-label.fitted input.sk-toggleable__control:checked~label.sk-toggleable__label {\n",
       "  background-color: var(--sklearn-color-fitted-level-2);\n",
       "}\n",
       "\n",
       "/* Estimator-specific style */\n",
       "\n",
       "/* Colorize estimator box */\n",
       "#sk-container-id-1 div.sk-estimator input.sk-toggleable__control:checked~label.sk-toggleable__label {\n",
       "  /* unfitted */\n",
       "  background-color: var(--sklearn-color-unfitted-level-2);\n",
       "}\n",
       "\n",
       "#sk-container-id-1 div.sk-estimator.fitted input.sk-toggleable__control:checked~label.sk-toggleable__label {\n",
       "  /* fitted */\n",
       "  background-color: var(--sklearn-color-fitted-level-2);\n",
       "}\n",
       "\n",
       "#sk-container-id-1 div.sk-label label.sk-toggleable__label,\n",
       "#sk-container-id-1 div.sk-label label {\n",
       "  /* The background is the default theme color */\n",
       "  color: var(--sklearn-color-text-on-default-background);\n",
       "}\n",
       "\n",
       "/* On hover, darken the color of the background */\n",
       "#sk-container-id-1 div.sk-label:hover label.sk-toggleable__label {\n",
       "  color: var(--sklearn-color-text);\n",
       "  background-color: var(--sklearn-color-unfitted-level-2);\n",
       "}\n",
       "\n",
       "/* Label box, darken color on hover, fitted */\n",
       "#sk-container-id-1 div.sk-label.fitted:hover label.sk-toggleable__label.fitted {\n",
       "  color: var(--sklearn-color-text);\n",
       "  background-color: var(--sklearn-color-fitted-level-2);\n",
       "}\n",
       "\n",
       "/* Estimator label */\n",
       "\n",
       "#sk-container-id-1 div.sk-label label {\n",
       "  font-family: monospace;\n",
       "  font-weight: bold;\n",
       "  display: inline-block;\n",
       "  line-height: 1.2em;\n",
       "}\n",
       "\n",
       "#sk-container-id-1 div.sk-label-container {\n",
       "  text-align: center;\n",
       "}\n",
       "\n",
       "/* Estimator-specific */\n",
       "#sk-container-id-1 div.sk-estimator {\n",
       "  font-family: monospace;\n",
       "  border: 1px dotted var(--sklearn-color-border-box);\n",
       "  border-radius: 0.25em;\n",
       "  box-sizing: border-box;\n",
       "  margin-bottom: 0.5em;\n",
       "  /* unfitted */\n",
       "  background-color: var(--sklearn-color-unfitted-level-0);\n",
       "}\n",
       "\n",
       "#sk-container-id-1 div.sk-estimator.fitted {\n",
       "  /* fitted */\n",
       "  background-color: var(--sklearn-color-fitted-level-0);\n",
       "}\n",
       "\n",
       "/* on hover */\n",
       "#sk-container-id-1 div.sk-estimator:hover {\n",
       "  /* unfitted */\n",
       "  background-color: var(--sklearn-color-unfitted-level-2);\n",
       "}\n",
       "\n",
       "#sk-container-id-1 div.sk-estimator.fitted:hover {\n",
       "  /* fitted */\n",
       "  background-color: var(--sklearn-color-fitted-level-2);\n",
       "}\n",
       "\n",
       "/* Specification for estimator info (e.g. \"i\" and \"?\") */\n",
       "\n",
       "/* Common style for \"i\" and \"?\" */\n",
       "\n",
       ".sk-estimator-doc-link,\n",
       "a:link.sk-estimator-doc-link,\n",
       "a:visited.sk-estimator-doc-link {\n",
       "  float: right;\n",
       "  font-size: smaller;\n",
       "  line-height: 1em;\n",
       "  font-family: monospace;\n",
       "  background-color: var(--sklearn-color-background);\n",
       "  border-radius: 1em;\n",
       "  height: 1em;\n",
       "  width: 1em;\n",
       "  text-decoration: none !important;\n",
       "  margin-left: 1ex;\n",
       "  /* unfitted */\n",
       "  border: var(--sklearn-color-unfitted-level-1) 1pt solid;\n",
       "  color: var(--sklearn-color-unfitted-level-1);\n",
       "}\n",
       "\n",
       ".sk-estimator-doc-link.fitted,\n",
       "a:link.sk-estimator-doc-link.fitted,\n",
       "a:visited.sk-estimator-doc-link.fitted {\n",
       "  /* fitted */\n",
       "  border: var(--sklearn-color-fitted-level-1) 1pt solid;\n",
       "  color: var(--sklearn-color-fitted-level-1);\n",
       "}\n",
       "\n",
       "/* On hover */\n",
       "div.sk-estimator:hover .sk-estimator-doc-link:hover,\n",
       ".sk-estimator-doc-link:hover,\n",
       "div.sk-label-container:hover .sk-estimator-doc-link:hover,\n",
       ".sk-estimator-doc-link:hover {\n",
       "  /* unfitted */\n",
       "  background-color: var(--sklearn-color-unfitted-level-3);\n",
       "  color: var(--sklearn-color-background);\n",
       "  text-decoration: none;\n",
       "}\n",
       "\n",
       "div.sk-estimator.fitted:hover .sk-estimator-doc-link.fitted:hover,\n",
       ".sk-estimator-doc-link.fitted:hover,\n",
       "div.sk-label-container:hover .sk-estimator-doc-link.fitted:hover,\n",
       ".sk-estimator-doc-link.fitted:hover {\n",
       "  /* fitted */\n",
       "  background-color: var(--sklearn-color-fitted-level-3);\n",
       "  color: var(--sklearn-color-background);\n",
       "  text-decoration: none;\n",
       "}\n",
       "\n",
       "/* Span, style for the box shown on hovering the info icon */\n",
       ".sk-estimator-doc-link span {\n",
       "  display: none;\n",
       "  z-index: 9999;\n",
       "  position: relative;\n",
       "  font-weight: normal;\n",
       "  right: .2ex;\n",
       "  padding: .5ex;\n",
       "  margin: .5ex;\n",
       "  width: min-content;\n",
       "  min-width: 20ex;\n",
       "  max-width: 50ex;\n",
       "  color: var(--sklearn-color-text);\n",
       "  box-shadow: 2pt 2pt 4pt #999;\n",
       "  /* unfitted */\n",
       "  background: var(--sklearn-color-unfitted-level-0);\n",
       "  border: .5pt solid var(--sklearn-color-unfitted-level-3);\n",
       "}\n",
       "\n",
       ".sk-estimator-doc-link.fitted span {\n",
       "  /* fitted */\n",
       "  background: var(--sklearn-color-fitted-level-0);\n",
       "  border: var(--sklearn-color-fitted-level-3);\n",
       "}\n",
       "\n",
       ".sk-estimator-doc-link:hover span {\n",
       "  display: block;\n",
       "}\n",
       "\n",
       "/* \"?\"-specific style due to the `<a>` HTML tag */\n",
       "\n",
       "#sk-container-id-1 a.estimator_doc_link {\n",
       "  float: right;\n",
       "  font-size: 1rem;\n",
       "  line-height: 1em;\n",
       "  font-family: monospace;\n",
       "  background-color: var(--sklearn-color-background);\n",
       "  border-radius: 1rem;\n",
       "  height: 1rem;\n",
       "  width: 1rem;\n",
       "  text-decoration: none;\n",
       "  /* unfitted */\n",
       "  color: var(--sklearn-color-unfitted-level-1);\n",
       "  border: var(--sklearn-color-unfitted-level-1) 1pt solid;\n",
       "}\n",
       "\n",
       "#sk-container-id-1 a.estimator_doc_link.fitted {\n",
       "  /* fitted */\n",
       "  border: var(--sklearn-color-fitted-level-1) 1pt solid;\n",
       "  color: var(--sklearn-color-fitted-level-1);\n",
       "}\n",
       "\n",
       "/* On hover */\n",
       "#sk-container-id-1 a.estimator_doc_link:hover {\n",
       "  /* unfitted */\n",
       "  background-color: var(--sklearn-color-unfitted-level-3);\n",
       "  color: var(--sklearn-color-background);\n",
       "  text-decoration: none;\n",
       "}\n",
       "\n",
       "#sk-container-id-1 a.estimator_doc_link.fitted:hover {\n",
       "  /* fitted */\n",
       "  background-color: var(--sklearn-color-fitted-level-3);\n",
       "}\n",
       "</style><div id=\"sk-container-id-1\" class=\"sk-top-container\"><div class=\"sk-text-repr-fallback\"><pre>XGBClassifier(base_score=None, booster=None, callbacks=None,\n",
       "              colsample_bylevel=None, colsample_bynode=0.14005604270070104,\n",
       "              colsample_bytree=None, device=None, early_stopping_rounds=None,\n",
       "              enable_categorical=False,\n",
       "              eval_metric=&lt;function custom_f1_score at 0x7f1b252985e0&gt;,\n",
       "              feature_types=None, gamma=None, grow_policy=None,\n",
       "              importance_type=None, interaction_constraints=None,\n",
       "              learning_rate=0.2641752632585646, max_bin=None,\n",
       "              max_cat_threshold=None, max_cat_to_onehot=None,\n",
       "              max_delta_step=None, max_depth=9, max_leaves=None,\n",
       "              min_child_weight=4, missing=nan, monotone_constraints=None,\n",
       "              multi_strategy=None, n_estimators=67, n_jobs=None,\n",
       "              num_parallel_tree=None, objective=&#x27;multi:softprob&#x27;, ...)</pre><b>In a Jupyter environment, please rerun this cell to show the HTML representation or trust the notebook. <br />On GitHub, the HTML representation is unable to render, please try loading this page with nbviewer.org.</b></div><div class=\"sk-container\" hidden><div class=\"sk-item\"><div class=\"sk-estimator fitted sk-toggleable\"><input class=\"sk-toggleable__control sk-hidden--visually\" id=\"sk-estimator-id-1\" type=\"checkbox\" checked><label for=\"sk-estimator-id-1\" class=\"sk-toggleable__label fitted sk-toggleable__label-arrow fitted\">&nbsp;XGBClassifier<span class=\"sk-estimator-doc-link fitted\">i<span>Fitted</span></span></label><div class=\"sk-toggleable__content fitted\"><pre>XGBClassifier(base_score=None, booster=None, callbacks=None,\n",
       "              colsample_bylevel=None, colsample_bynode=0.14005604270070104,\n",
       "              colsample_bytree=None, device=None, early_stopping_rounds=None,\n",
       "              enable_categorical=False,\n",
       "              eval_metric=&lt;function custom_f1_score at 0x7f1b252985e0&gt;,\n",
       "              feature_types=None, gamma=None, grow_policy=None,\n",
       "              importance_type=None, interaction_constraints=None,\n",
       "              learning_rate=0.2641752632585646, max_bin=None,\n",
       "              max_cat_threshold=None, max_cat_to_onehot=None,\n",
       "              max_delta_step=None, max_depth=9, max_leaves=None,\n",
       "              min_child_weight=4, missing=nan, monotone_constraints=None,\n",
       "              multi_strategy=None, n_estimators=67, n_jobs=None,\n",
       "              num_parallel_tree=None, objective=&#x27;multi:softprob&#x27;, ...)</pre></div> </div></div></div></div>"
      ],
      "text/plain": [
       "XGBClassifier(base_score=None, booster=None, callbacks=None,\n",
       "              colsample_bylevel=None, colsample_bynode=0.14005604270070104,\n",
       "              colsample_bytree=None, device=None, early_stopping_rounds=None,\n",
       "              enable_categorical=False,\n",
       "              eval_metric=<function custom_f1_score at 0x7f1b252985e0>,\n",
       "              feature_types=None, gamma=None, grow_policy=None,\n",
       "              importance_type=None, interaction_constraints=None,\n",
       "              learning_rate=0.2641752632585646, max_bin=None,\n",
       "              max_cat_threshold=None, max_cat_to_onehot=None,\n",
       "              max_delta_step=None, max_depth=9, max_leaves=None,\n",
       "              min_child_weight=4, missing=nan, monotone_constraints=None,\n",
       "              multi_strategy=None, n_estimators=67, n_jobs=None,\n",
       "              num_parallel_tree=None, objective='multi:softprob', ...)"
      ]
     },
     "execution_count": 21,
     "metadata": {},
     "output_type": "execute_result"
    }
   ],
   "source": [
    "n_estimators = int(study.best_trial.user_attrs['best_iteration']*1.2)\n",
    "xgb = xgboost.XGBClassifier(\n",
    "        eval_metric=eval_metric,\n",
    "        n_estimators=n_estimators,\n",
    "        **study.best_trial.params\n",
    "    )\n",
    "xgb.fit(\n",
    "    ssp.vstack((X_train, X_val)), \n",
    "    np.concatenate((y_train_enc, y_val_enc)),\n",
    "    verbose=1,\n",
    ")"
   ]
  },
  {
   "cell_type": "code",
   "execution_count": 22,
   "id": "32c86600",
   "metadata": {
    "execution": {
     "iopub.execute_input": "2025-05-15T16:15:40.428404Z",
     "iopub.status.busy": "2025-05-15T16:15:40.428186Z",
     "iopub.status.idle": "2025-05-15T16:15:40.462437Z",
     "shell.execute_reply": "2025-05-15T16:15:40.462090Z"
    },
    "papermill": {
     "duration": 0.045541,
     "end_time": "2025-05-15T16:15:40.463387",
     "exception": false,
     "start_time": "2025-05-15T16:15:40.417846",
     "status": "completed"
    },
    "tags": []
   },
   "outputs": [
    {
     "data": {
      "text/plain": [
       "['/scratch_isilon/groups/singlecell/shared/projects/Inflammation-PBMCs-Atlas/03_downstream_analysis/08_gene_importance/xgboost_external_validation/xgboost_TopN_genes/results_20/best_model/Plasma_2_3_xgb.json']"
      ]
     },
     "execution_count": 22,
     "metadata": {},
     "output_type": "execute_result"
    }
   ],
   "source": [
    "out_dir = here(f'03_downstream_analysis/08_gene_importance/xgboost_external_validation/xgboost_TopN_genes/results_{N_GENES}/best_model')\n",
    "\n",
    "if not os.path.exists(out_dir):\n",
    "    os.makedirs(out_dir)\n",
    "    \n",
    "joblib.dump(xgb, os.path.join(out_dir, f'{CELL_TYPE}_{SEED}_{TEST_SPLIT_IDX}_xgb.json'))"
   ]
  },
  {
   "cell_type": "code",
   "execution_count": 23,
   "id": "49e9ddcc",
   "metadata": {
    "execution": {
     "iopub.execute_input": "2025-05-15T16:15:40.483518Z",
     "iopub.status.busy": "2025-05-15T16:15:40.483061Z",
     "iopub.status.idle": "2025-05-15T16:15:40.493173Z",
     "shell.execute_reply": "2025-05-15T16:15:40.492814Z"
    },
    "papermill": {
     "duration": 0.0213,
     "end_time": "2025-05-15T16:15:40.494371",
     "exception": false,
     "start_time": "2025-05-15T16:15:40.473071",
     "status": "completed"
    },
    "tags": []
   },
   "outputs": [],
   "source": [
    "df_pred_test = pd.DataFrame(dict(\n",
    "    cell_id=train_adata.obs.iloc[test_idxs].index.values,\n",
    "    y_true=y_test, \n",
    "    y_true_code=y_test_enc, \n",
    "    y_pred=xgb.predict(X_test))).set_index('cell_id')"
   ]
  },
  {
   "cell_type": "code",
   "execution_count": 24,
   "id": "55c8f7eb",
   "metadata": {
    "execution": {
     "iopub.execute_input": "2025-05-15T16:15:40.561884Z",
     "iopub.status.busy": "2025-05-15T16:15:40.561688Z",
     "iopub.status.idle": "2025-05-15T16:15:40.572937Z",
     "shell.execute_reply": "2025-05-15T16:15:40.572481Z"
    },
    "papermill": {
     "duration": 0.051012,
     "end_time": "2025-05-15T16:15:40.573851",
     "exception": false,
     "start_time": "2025-05-15T16:15:40.522839",
     "status": "completed"
    },
    "tags": []
   },
   "outputs": [],
   "source": [
    "out_dir = here(f'03_downstream_analysis/08_gene_importance/xgboost_external_validation/xgboost_TopN_genes/results_{N_GENES}/predictions')\n",
    "\n",
    "if not os.path.exists(out_dir):\n",
    "    os.makedirs(out_dir)\n",
    "    \n",
    "df_pred_test.to_csv(os.path.join(out_dir, f'{CELL_TYPE}_{SEED}_{TEST_SPLIT_IDX}_pred_test.zip'))"
   ]
  },
  {
   "cell_type": "code",
   "execution_count": 25,
   "id": "46f88ede",
   "metadata": {
    "execution": {
     "iopub.execute_input": "2025-05-15T16:15:40.622751Z",
     "iopub.status.busy": "2025-05-15T16:15:40.622447Z",
     "iopub.status.idle": "2025-05-15T16:15:40.628489Z",
     "shell.execute_reply": "2025-05-15T16:15:40.628159Z"
    },
    "papermill": {
     "duration": 0.035708,
     "end_time": "2025-05-15T16:15:40.629389",
     "exception": false,
     "start_time": "2025-05-15T16:15:40.593681",
     "status": "completed"
    },
    "tags": []
   },
   "outputs": [],
   "source": [
    "metrics_dict = dict(\n",
    "    BAS=balanced_accuracy_score(y_true=df_pred_test.y_true_code, y_pred=df_pred_test.y_pred), WF1=f1_score(y_true=df_pred_test.y_true_code, y_pred=df_pred_test.y_pred,average='weighted'))"
   ]
  },
  {
   "cell_type": "code",
   "execution_count": 26,
   "id": "a8ca5e97",
   "metadata": {
    "execution": {
     "iopub.execute_input": "2025-05-15T16:15:40.671011Z",
     "iopub.status.busy": "2025-05-15T16:15:40.670693Z",
     "iopub.status.idle": "2025-05-15T16:15:40.675156Z",
     "shell.execute_reply": "2025-05-15T16:15:40.674781Z"
    },
    "papermill": {
     "duration": 0.01597,
     "end_time": "2025-05-15T16:15:40.676117",
     "exception": false,
     "start_time": "2025-05-15T16:15:40.660147",
     "status": "completed"
    },
    "tags": []
   },
   "outputs": [
    {
     "data": {
      "text/plain": [
       "{'BAS': 0.3966242091242091, 'WF1': 0.5697043170477706}"
      ]
     },
     "execution_count": 26,
     "metadata": {},
     "output_type": "execute_result"
    }
   ],
   "source": [
    "metrics_dict"
   ]
  },
  {
   "cell_type": "code",
   "execution_count": 27,
   "id": "1ca2ec19",
   "metadata": {
    "execution": {
     "iopub.execute_input": "2025-05-15T16:15:40.720424Z",
     "iopub.status.busy": "2025-05-15T16:15:40.720212Z",
     "iopub.status.idle": "2025-05-15T16:15:40.730172Z",
     "shell.execute_reply": "2025-05-15T16:15:40.729809Z"
    },
    "papermill": {
     "duration": 0.021645,
     "end_time": "2025-05-15T16:15:40.731128",
     "exception": false,
     "start_time": "2025-05-15T16:15:40.709483",
     "status": "completed"
    },
    "tags": []
   },
   "outputs": [
    {
     "data": {
      "text/html": [
       "<div>\n",
       "<style scoped>\n",
       "    .dataframe tbody tr th:only-of-type {\n",
       "        vertical-align: middle;\n",
       "    }\n",
       "\n",
       "    .dataframe tbody tr th {\n",
       "        vertical-align: top;\n",
       "    }\n",
       "\n",
       "    .dataframe thead th {\n",
       "        text-align: right;\n",
       "    }\n",
       "</style>\n",
       "<table border=\"1\" class=\"dataframe\">\n",
       "  <thead>\n",
       "    <tr style=\"text-align: right;\">\n",
       "      <th></th>\n",
       "      <th>BAS</th>\n",
       "      <th>WF1</th>\n",
       "      <th>split_idx</th>\n",
       "      <th>gene_set_seed</th>\n",
       "      <th>cell_type</th>\n",
       "    </tr>\n",
       "  </thead>\n",
       "  <tbody>\n",
       "    <tr>\n",
       "      <th>0</th>\n",
       "      <td>0.396624</td>\n",
       "      <td>0.569704</td>\n",
       "      <td>3</td>\n",
       "      <td>2</td>\n",
       "      <td>Plasma</td>\n",
       "    </tr>\n",
       "  </tbody>\n",
       "</table>\n",
       "</div>"
      ],
      "text/plain": [
       "        BAS       WF1  split_idx  gene_set_seed cell_type\n",
       "0  0.396624  0.569704          3              2    Plasma"
      ]
     },
     "execution_count": 27,
     "metadata": {},
     "output_type": "execute_result"
    }
   ],
   "source": [
    "metrics_df = pd.DataFrame.from_dict([metrics_dict]).assign(split_idx=TEST_SPLIT_IDX, gene_set_seed=SEED, cell_type=CELL_TYPE)\n",
    "metrics_df"
   ]
  },
  {
   "cell_type": "code",
   "execution_count": 28,
   "id": "ec688f40",
   "metadata": {
    "execution": {
     "iopub.execute_input": "2025-05-15T16:15:40.764005Z",
     "iopub.status.busy": "2025-05-15T16:15:40.763678Z",
     "iopub.status.idle": "2025-05-15T16:15:40.772084Z",
     "shell.execute_reply": "2025-05-15T16:15:40.771689Z"
    },
    "papermill": {
     "duration": 0.019367,
     "end_time": "2025-05-15T16:15:40.772922",
     "exception": false,
     "start_time": "2025-05-15T16:15:40.753555",
     "status": "completed"
    },
    "tags": []
   },
   "outputs": [],
   "source": [
    "out_dir = here(f'03_downstream_analysis/08_gene_importance/xgboost_external_validation/xgboost_TopN_genes/results_{N_GENES}/metrics')\n",
    "\n",
    "if not os.path.exists(out_dir):\n",
    "    os.makedirs(out_dir)\n",
    "    \n",
    "metrics_df.to_csv(os.path.join(out_dir, f'{CELL_TYPE}_{SEED}_{TEST_SPLIT_IDX}_metrics.zip'))"
   ]
  }
 ],
 "metadata": {
  "kernelspec": {
   "display_name": "Python 3 (ipykernel)",
   "language": "python",
   "name": "python3"
  },
  "language_info": {
   "codemirror_mode": {
    "name": "ipython",
    "version": 3
   },
   "file_extension": ".py",
   "mimetype": "text/x-python",
   "name": "python",
   "nbconvert_exporter": "python",
   "pygments_lexer": "ipython3",
   "version": "3.12.5"
  },
  "papermill": {
   "default_parameters": {},
   "duration": 16.692844,
   "end_time": "2025-05-15T16:15:41.398827",
   "environment_variables": {},
   "exception": null,
   "input_path": "02_xgboost_fitting_external_20genes.ipynb",
   "output_path": "results_20/executed_notebooks/xgboost_fitting_external_CT_Plasma_GS_2_seed3.ipynb",
   "parameters": {
    "CELL_TYPE": "Plasma",
    "SEED": 2,
    "TEST_SPLIT_IDX": 3
   },
   "start_time": "2025-05-15T16:15:24.705983",
   "version": "2.6.0"
  }
 },
 "nbformat": 4,
 "nbformat_minor": 5
}