{
 "cells": [
  {
   "cell_type": "code",
   "execution_count": 1,
   "id": "7b269e81",
   "metadata": {
    "editable": true,
    "execution": {
     "iopub.execute_input": "2025-05-15T16:16:01.469474Z",
     "iopub.status.busy": "2025-05-15T16:16:01.469175Z",
     "iopub.status.idle": "2025-05-15T16:16:01.472554Z",
     "shell.execute_reply": "2025-05-15T16:16:01.472176Z"
    },
    "papermill": {
     "duration": 0.013057,
     "end_time": "2025-05-15T16:16:01.473567",
     "exception": false,
     "start_time": "2025-05-15T16:16:01.460510",
     "status": "completed"
    },
    "slideshow": {
     "slide_type": ""
    },
    "tags": [
     "parameters"
    ]
   },
   "outputs": [],
   "source": [
    "CELL_TYPE = 'pDC'\n",
    "N_GENES: int = 20\n",
    "SEED = 'shap_studyID' #'disease_NOstudy' 'study_NOdisease' or 'int' or 'shap_studyID'\n",
    "TEST_SPLIT_IDX: int = 1 #[0,4]"
   ]
  },
  {
   "cell_type": "code",
   "execution_count": 2,
   "id": "1aedb86c",
   "metadata": {
    "execution": {
     "iopub.execute_input": "2025-05-15T16:16:01.486294Z",
     "iopub.status.busy": "2025-05-15T16:16:01.486079Z",
     "iopub.status.idle": "2025-05-15T16:16:01.488494Z",
     "shell.execute_reply": "2025-05-15T16:16:01.488144Z"
    },
    "papermill": {
     "duration": 0.009741,
     "end_time": "2025-05-15T16:16:01.489405",
     "exception": false,
     "start_time": "2025-05-15T16:16:01.479664",
     "status": "completed"
    },
    "tags": [
     "injected-parameters"
    ]
   },
   "outputs": [],
   "source": [
    "# Parameters\n",
    "CELL_TYPE = \"pDC\"\n",
    "SEED = 13\n",
    "TEST_SPLIT_IDX = 1\n"
   ]
  },
  {
   "cell_type": "code",
   "execution_count": 3,
   "id": "93a2d42c",
   "metadata": {
    "execution": {
     "iopub.execute_input": "2025-05-15T16:16:01.502379Z",
     "iopub.status.busy": "2025-05-15T16:16:01.502032Z",
     "iopub.status.idle": "2025-05-15T16:16:01.504422Z",
     "shell.execute_reply": "2025-05-15T16:16:01.504073Z"
    },
    "papermill": {
     "duration": 0.009877,
     "end_time": "2025-05-15T16:16:01.505301",
     "exception": false,
     "start_time": "2025-05-15T16:16:01.495424",
     "status": "completed"
    },
    "tags": []
   },
   "outputs": [],
   "source": [
    "N_SPLITS: int = 5\n",
    "N_TRIALS: int = 50"
   ]
  },
  {
   "cell_type": "code",
   "execution_count": 4,
   "id": "ce8ff174",
   "metadata": {
    "execution": {
     "iopub.execute_input": "2025-05-15T16:16:01.519088Z",
     "iopub.status.busy": "2025-05-15T16:16:01.518674Z",
     "iopub.status.idle": "2025-05-15T16:16:03.128614Z",
     "shell.execute_reply": "2025-05-15T16:16:03.127996Z"
    },
    "papermill": {
     "duration": 1.618953,
     "end_time": "2025-05-15T16:16:03.129958",
     "exception": false,
     "start_time": "2025-05-15T16:16:01.511005",
     "status": "completed"
    },
    "tags": []
   },
   "outputs": [],
   "source": [
    "import os\n",
    "import sys\n",
    "from pyprojroot.here import here\n",
    "import pandas as pd\n",
    "import anndata as ad\n",
    "import numpy as np\n",
    "import math\n",
    "from sklearn.model_selection import StratifiedGroupKFold\n",
    "from sklearn.preprocessing import LabelEncoder\n",
    "from sklearn.metrics import f1_score\n",
    "import matplotlib.pyplot as plt\n",
    "import seaborn as sns\n",
    "from itertools import product\n",
    "from sklearn.metrics import balanced_accuracy_score, f1_score\n",
    "import optuna\n",
    "\n",
    "import joblib\n",
    "import pickle\n",
    "import datetime\n",
    "\n",
    "import collections\n",
    "\n",
    "import xgboost\n",
    "from sklearn.preprocessing import LabelEncoder\n",
    "\n",
    "import scipy.sparse as ssp\n",
    "import joblib\n",
    "\n",
    "from dotenv import load_dotenv"
   ]
  },
  {
   "cell_type": "code",
   "execution_count": 5,
   "id": "94e76d39",
   "metadata": {
    "execution": {
     "iopub.execute_input": "2025-05-15T16:16:03.143373Z",
     "iopub.status.busy": "2025-05-15T16:16:03.142732Z",
     "iopub.status.idle": "2025-05-15T16:16:03.149323Z",
     "shell.execute_reply": "2025-05-15T16:16:03.148987Z"
    },
    "papermill": {
     "duration": 0.014018,
     "end_time": "2025-05-15T16:16:03.150227",
     "exception": false,
     "start_time": "2025-05-15T16:16:03.136209",
     "status": "completed"
    },
    "tags": []
   },
   "outputs": [
    {
     "data": {
      "text/plain": [
       "True"
      ]
     },
     "execution_count": 5,
     "metadata": {},
     "output_type": "execute_result"
    }
   ],
   "source": [
    "load_dotenv()"
   ]
  },
  {
   "cell_type": "markdown",
   "id": "c894540b",
   "metadata": {
    "papermill": {
     "duration": 0.006051,
     "end_time": "2025-05-15T16:16:03.162035",
     "exception": false,
     "start_time": "2025-05-15T16:16:03.155984",
     "status": "completed"
    },
    "tags": []
   },
   "source": [
    "# LOAD DATASET"
   ]
  },
  {
   "cell_type": "code",
   "execution_count": 6,
   "id": "a62144c6",
   "metadata": {
    "execution": {
     "iopub.execute_input": "2025-05-15T16:16:03.174461Z",
     "iopub.status.busy": "2025-05-15T16:16:03.174224Z",
     "iopub.status.idle": "2025-05-15T16:16:03.236973Z",
     "shell.execute_reply": "2025-05-15T16:16:03.236451Z"
    },
    "papermill": {
     "duration": 0.070654,
     "end_time": "2025-05-15T16:16:03.238393",
     "exception": false,
     "start_time": "2025-05-15T16:16:03.167739",
     "status": "completed"
    },
    "tags": []
   },
   "outputs": [],
   "source": [
    "train_adata = ad.read_h5ad(\n",
    "    here(f'03_downstream_analysis/08_gene_importance/xgboost_external_validation/xgboost_TopN_genes/data_cellTypes/EXTERNAL_{CELL_TYPE}.filtered.log1p.h5ad')\n",
    ")"
   ]
  },
  {
   "cell_type": "code",
   "execution_count": 7,
   "id": "d831620b",
   "metadata": {
    "execution": {
     "iopub.execute_input": "2025-05-15T16:16:03.252340Z",
     "iopub.status.busy": "2025-05-15T16:16:03.251878Z",
     "iopub.status.idle": "2025-05-15T16:16:03.263993Z",
     "shell.execute_reply": "2025-05-15T16:16:03.263572Z"
    },
    "papermill": {
     "duration": 0.019718,
     "end_time": "2025-05-15T16:16:03.264919",
     "exception": false,
     "start_time": "2025-05-15T16:16:03.245201",
     "status": "completed"
    },
    "tags": []
   },
   "outputs": [
    {
     "name": "stdout",
     "output_type": "stream",
     "text": [
      "['ENSG00000157601' 'ENSG00000168394' 'ENSG00000138623' 'ENSG00000113811'\n",
      " 'ENSG00000100365' 'ENSG00000157020' 'ENSG00000264364' 'ENSG00000143390'\n",
      " 'ENSG00000090266' 'ENSG00000125534' 'ENSG00000164307' 'ENSG00000135046'\n",
      " 'ENSG00000204472' 'ENSG00000168894' 'ENSG00000165140' 'ENSG00000006125'\n",
      " 'ENSG00000157514' 'ENSG00000119922' 'ENSG00000105835' 'ENSG00000165168'\n",
      " 'ENSG00000160932' 'ENSG00000066294' 'ENSG00000163660' 'ENSG00000197965'\n",
      " 'ENSG00000165280' 'ENSG00000122025' 'ENSG00000134285' 'ENSG00000179295'\n",
      " 'ENSG00000204843' 'ENSG00000175482' 'ENSG00000111275' 'ENSG00000167664'\n",
      " 'ENSG00000069399' 'ENSG00000089280' 'ENSG00000160223' 'ENSG00000111335'\n",
      " 'ENSG00000131788' 'ENSG00000001167' 'ENSG00000158517' 'ENSG00000161203'\n",
      " 'ENSG00000143575' 'ENSG00000137965' 'ENSG00000119408' 'ENSG00000106799'\n",
      " 'ENSG00000112149' 'ENSG00000130755' 'ENSG00000141526' 'ENSG00000142166'\n",
      " 'ENSG00000188906' 'ENSG00000163191' 'ENSG00000101439' 'ENSG00000239713'\n",
      " 'ENSG00000145675' 'ENSG00000223865' 'ENSG00000118503' 'ENSG00000185650'\n",
      " 'ENSG00000075785' 'ENSG00000089327' 'ENSG00000158050' 'ENSG00000145912'\n",
      " 'ENSG00000108774' 'ENSG00000175567' 'ENSG00000163659' 'ENSG00000115415'\n",
      " 'ENSG00000198668' 'ENSG00000170525' 'ENSG00000140968' 'ENSG00000132912'\n",
      " 'ENSG00000178719' 'ENSG00000116171' 'ENSG00000153234' 'ENSG00000196735'\n",
      " 'ENSG00000152219' 'ENSG00000173812' 'ENSG00000126264' 'ENSG00000168610'\n",
      " 'ENSG00000277791' 'ENSG00000150961' 'ENSG00000131143' 'ENSG00000271503'\n",
      " 'ENSG00000019582' 'ENSG00000165272' 'ENSG00000141367' 'ENSG00000138378'\n",
      " 'ENSG00000135968' 'ENSG00000109861' 'ENSG00000108622' 'ENSG00000169442'\n",
      " 'ENSG00000158769' 'ENSG00000185338' 'ENSG00000175489' 'ENSG00000169554'\n",
      " 'ENSG00000133639' 'ENSG00000075624' 'ENSG00000204287' 'ENSG00000182578'\n",
      " 'ENSG00000167552' 'ENSG00000160712' 'ENSG00000206503' 'ENSG00000068796'\n",
      " 'ENSG00000111716' 'ENSG00000100485' 'ENSG00000159128' 'ENSG00000072958'\n",
      " 'ENSG00000160213' 'ENSG00000134954' 'ENSG00000118260' 'ENSG00000078043'\n",
      " 'ENSG00000185201' 'ENSG00000197956' 'ENSG00000170017' 'ENSG00000089127']\n"
     ]
    }
   ],
   "source": [
    "if SEED != 'all':\n",
    "    gene_subset = np.load(here(f'03_downstream_analysis/08_gene_importance/xgboost_external_validation/shap_gene_selection/gene_subsets_{N_GENES}/{CELL_TYPE}_{SEED}.npy'), allow_pickle=True)\n",
    "    train_adata = train_adata[:,gene_subset]\n",
    "    print(gene_subset)\n",
    "elif SEED == 'all':\n",
    "    print('Using all genes')\n",
    "else:\n",
    "    raise ValueError()"
   ]
  },
  {
   "cell_type": "code",
   "execution_count": 8,
   "id": "b26f1aee",
   "metadata": {
    "execution": {
     "iopub.execute_input": "2025-05-15T16:16:03.277579Z",
     "iopub.status.busy": "2025-05-15T16:16:03.277371Z",
     "iopub.status.idle": "2025-05-15T16:16:03.280634Z",
     "shell.execute_reply": "2025-05-15T16:16:03.280314Z"
    },
    "papermill": {
     "duration": 0.010592,
     "end_time": "2025-05-15T16:16:03.281529",
     "exception": false,
     "start_time": "2025-05-15T16:16:03.270937",
     "status": "completed"
    },
    "tags": []
   },
   "outputs": [
    {
     "data": {
      "text/plain": [
       "(2320, 112)"
      ]
     },
     "execution_count": 8,
     "metadata": {},
     "output_type": "execute_result"
    }
   ],
   "source": [
    "train_adata.shape"
   ]
  },
  {
   "cell_type": "code",
   "execution_count": 9,
   "id": "bbb8f8b8",
   "metadata": {
    "execution": {
     "iopub.execute_input": "2025-05-15T16:16:03.294250Z",
     "iopub.status.busy": "2025-05-15T16:16:03.293955Z",
     "iopub.status.idle": "2025-05-15T16:16:03.297801Z",
     "shell.execute_reply": "2025-05-15T16:16:03.297474Z"
    },
    "papermill": {
     "duration": 0.01123,
     "end_time": "2025-05-15T16:16:03.298702",
     "exception": false,
     "start_time": "2025-05-15T16:16:03.287472",
     "status": "completed"
    },
    "tags": []
   },
   "outputs": [
    {
     "data": {
      "text/plain": [
       "['RA', 'healthy', 'COVID', 'HIV', 'cirrhosis', 'CD', 'SLE', 'sepsis']\n",
       "Categories (8, object): ['CD', 'COVID', 'HIV', 'RA', 'SLE', 'cirrhosis', 'healthy', 'sepsis']"
      ]
     },
     "execution_count": 9,
     "metadata": {},
     "output_type": "execute_result"
    }
   ],
   "source": [
    "train_adata.obs.disease.unique()"
   ]
  },
  {
   "cell_type": "code",
   "execution_count": 10,
   "id": "e3e08390",
   "metadata": {
    "execution": {
     "iopub.execute_input": "2025-05-15T16:16:03.311746Z",
     "iopub.status.busy": "2025-05-15T16:16:03.311455Z",
     "iopub.status.idle": "2025-05-15T16:16:03.315471Z",
     "shell.execute_reply": "2025-05-15T16:16:03.315138Z"
    },
    "papermill": {
     "duration": 0.011823,
     "end_time": "2025-05-15T16:16:03.316595",
     "exception": false,
     "start_time": "2025-05-15T16:16:03.304772",
     "status": "completed"
    },
    "tags": []
   },
   "outputs": [
    {
     "data": {
      "text/plain": [
       "['SCGT00val_I036023_T0', 'SCGT00val_I036024_T0', 'SCGT00val_I0364_T0', 'SCGT00val_I036015_T0', 'SCGT00val_I036019_T0', ..., '10XGenomics_10XHC2_T0', '10XGenomics_10XHC3_T0', '10XGenomics_10XHC5_T0', '10XGenomics_10XHC7_T0', '10XGenomics_10XHC8_T0']\n",
       "Length: 77\n",
       "Categories (77, object): ['10XGenomics_10XHC1_T0', '10XGenomics_10XHC2_T0', '10XGenomics_10XHC3_T0', '10XGenomics_10XHC4_T0', ..., 'Savage2021_BRISL6_T0', 'Savage2021_BRISL7_T0', 'Savage2021_PIDA_T0', 'Savage2021_PIDB_T0']"
      ]
     },
     "execution_count": 10,
     "metadata": {},
     "output_type": "execute_result"
    }
   ],
   "source": [
    "train_adata.obs.sampleID.unique()"
   ]
  },
  {
   "cell_type": "code",
   "execution_count": 11,
   "id": "83be2524",
   "metadata": {
    "execution": {
     "iopub.execute_input": "2025-05-15T16:16:03.330561Z",
     "iopub.status.busy": "2025-05-15T16:16:03.330305Z",
     "iopub.status.idle": "2025-05-15T16:16:03.367254Z",
     "shell.execute_reply": "2025-05-15T16:16:03.366847Z"
    },
    "papermill": {
     "duration": 0.044829,
     "end_time": "2025-05-15T16:16:03.368386",
     "exception": false,
     "start_time": "2025-05-15T16:16:03.323557",
     "status": "completed"
    },
    "tags": []
   },
   "outputs": [
    {
     "name": "stderr",
     "output_type": "stream",
     "text": [
      "/scratch_isilon/groups/singlecell/shared/conda_env/xgboost-cpu/lib/python3.12/site-packages/sklearn/model_selection/_split.py:994: UserWarning: The least populated class in y has only 4 members, which is less than n_splits=5.\n",
      "  warnings.warn(\n"
     ]
    }
   ],
   "source": [
    "all_idxs = np.arange(train_adata.obs.shape[0])\n",
    "left_out_splits = [s[1] for s in StratifiedGroupKFold(n_splits=N_SPLITS).split(all_idxs, train_adata.obs.disease, train_adata.obs.sampleID)]"
   ]
  },
  {
   "cell_type": "code",
   "execution_count": 12,
   "id": "c5e119aa",
   "metadata": {
    "execution": {
     "iopub.execute_input": "2025-05-15T16:16:03.383942Z",
     "iopub.status.busy": "2025-05-15T16:16:03.383629Z",
     "iopub.status.idle": "2025-05-15T16:16:03.387412Z",
     "shell.execute_reply": "2025-05-15T16:16:03.387076Z"
    },
    "papermill": {
     "duration": 0.012292,
     "end_time": "2025-05-15T16:16:03.388352",
     "exception": false,
     "start_time": "2025-05-15T16:16:03.376060",
     "status": "completed"
    },
    "tags": []
   },
   "outputs": [
    {
     "data": {
      "text/plain": [
       "([0, 3, 4], 2, 1)"
      ]
     },
     "execution_count": 12,
     "metadata": {},
     "output_type": "execute_result"
    }
   ],
   "source": [
    "TRAIN_SPLIT_IDXS = [0,1,2,3,4]\n",
    "VAL_SPLIT_IDX = (TEST_SPLIT_IDX + 1) % 5\n",
    "TRAIN_SPLIT_IDXS.remove(TEST_SPLIT_IDX)\n",
    "TRAIN_SPLIT_IDXS.remove(VAL_SPLIT_IDX)\n",
    "TRAIN_SPLIT_IDXS, VAL_SPLIT_IDX, TEST_SPLIT_IDX"
   ]
  },
  {
   "cell_type": "code",
   "execution_count": 13,
   "id": "df228d8c",
   "metadata": {
    "execution": {
     "iopub.execute_input": "2025-05-15T16:16:03.402460Z",
     "iopub.status.busy": "2025-05-15T16:16:03.402074Z",
     "iopub.status.idle": "2025-05-15T16:16:03.404698Z",
     "shell.execute_reply": "2025-05-15T16:16:03.404356Z"
    },
    "papermill": {
     "duration": 0.01062,
     "end_time": "2025-05-15T16:16:03.405631",
     "exception": false,
     "start_time": "2025-05-15T16:16:03.395011",
     "status": "completed"
    },
    "tags": []
   },
   "outputs": [],
   "source": [
    "train_idxs = np.concatenate([left_out_splits[idx] for idx in TRAIN_SPLIT_IDXS])\n",
    "val_idxs = left_out_splits[VAL_SPLIT_IDX]\n",
    "test_idxs = left_out_splits[TEST_SPLIT_IDX]"
   ]
  },
  {
   "cell_type": "markdown",
   "id": "0457f701",
   "metadata": {
    "papermill": {
     "duration": 0.007091,
     "end_time": "2025-05-15T16:16:03.422208",
     "exception": false,
     "start_time": "2025-05-15T16:16:03.415117",
     "status": "completed"
    },
    "tags": []
   },
   "source": [
    "### SUBSET DATASET INTO TRAIN/TEST/VAL SPLITS"
   ]
  },
  {
   "cell_type": "code",
   "execution_count": 14,
   "id": "6f2384df",
   "metadata": {
    "execution": {
     "iopub.execute_input": "2025-05-15T16:16:03.437100Z",
     "iopub.status.busy": "2025-05-15T16:16:03.436677Z",
     "iopub.status.idle": "2025-05-15T16:16:03.449375Z",
     "shell.execute_reply": "2025-05-15T16:16:03.449032Z"
    },
    "papermill": {
     "duration": 0.021835,
     "end_time": "2025-05-15T16:16:03.450435",
     "exception": false,
     "start_time": "2025-05-15T16:16:03.428600",
     "status": "completed"
    },
    "tags": []
   },
   "outputs": [
    {
     "data": {
      "text/plain": [
       "((1359, 112), (480, 112), (481, 112))"
      ]
     },
     "execution_count": 14,
     "metadata": {},
     "output_type": "execute_result"
    }
   ],
   "source": [
    "X_train = train_adata.X[train_idxs]\n",
    "X_test = train_adata.X[test_idxs]\n",
    "X_val = train_adata.X[val_idxs]\n",
    "X_train.shape, X_test.shape, X_val.shape"
   ]
  },
  {
   "cell_type": "code",
   "execution_count": 15,
   "id": "905458e2",
   "metadata": {
    "execution": {
     "iopub.execute_input": "2025-05-15T16:16:03.465092Z",
     "iopub.status.busy": "2025-05-15T16:16:03.464663Z",
     "iopub.status.idle": "2025-05-15T16:16:03.470188Z",
     "shell.execute_reply": "2025-05-15T16:16:03.469852Z"
    },
    "papermill": {
     "duration": 0.013515,
     "end_time": "2025-05-15T16:16:03.471234",
     "exception": false,
     "start_time": "2025-05-15T16:16:03.457719",
     "status": "completed"
    },
    "tags": []
   },
   "outputs": [
    {
     "data": {
      "text/plain": [
       "((1359,), (480,), (481,))"
      ]
     },
     "execution_count": 15,
     "metadata": {},
     "output_type": "execute_result"
    }
   ],
   "source": [
    "y_train = train_adata.obs.iloc[train_idxs].disease.values.astype(str)\n",
    "y_test = train_adata.obs.iloc[test_idxs].disease.values.astype(str)\n",
    "y_val = train_adata.obs.iloc[val_idxs].disease.values.astype(str)\n",
    "y_train.shape, y_test.shape, y_val.shape"
   ]
  },
  {
   "cell_type": "code",
   "execution_count": 16,
   "id": "ad67d836",
   "metadata": {
    "execution": {
     "iopub.execute_input": "2025-05-15T16:16:03.485241Z",
     "iopub.status.busy": "2025-05-15T16:16:03.484860Z",
     "iopub.status.idle": "2025-05-15T16:16:03.488374Z",
     "shell.execute_reply": "2025-05-15T16:16:03.488020Z"
    },
    "papermill": {
     "duration": 0.011327,
     "end_time": "2025-05-15T16:16:03.489346",
     "exception": false,
     "start_time": "2025-05-15T16:16:03.478019",
     "status": "completed"
    },
    "tags": []
   },
   "outputs": [],
   "source": [
    "lenc = LabelEncoder()\n",
    "y_train_enc = lenc.fit_transform(y_train)\n",
    "y_val_enc = lenc.transform(y_val)\n",
    "y_test_enc = lenc.transform(y_test)"
   ]
  },
  {
   "cell_type": "markdown",
   "id": "423bc7c0",
   "metadata": {
    "papermill": {
     "duration": 0.008289,
     "end_time": "2025-05-15T16:16:03.504428",
     "exception": false,
     "start_time": "2025-05-15T16:16:03.496139",
     "status": "completed"
    },
    "tags": []
   },
   "source": [
    "### GENERATE F1 "
   ]
  },
  {
   "cell_type": "code",
   "execution_count": 17,
   "id": "db84491d",
   "metadata": {
    "execution": {
     "iopub.execute_input": "2025-05-15T16:16:03.519273Z",
     "iopub.status.busy": "2025-05-15T16:16:03.518847Z",
     "iopub.status.idle": "2025-05-15T16:16:03.521273Z",
     "shell.execute_reply": "2025-05-15T16:16:03.520929Z"
    },
    "papermill": {
     "duration": 0.011092,
     "end_time": "2025-05-15T16:16:03.522391",
     "exception": false,
     "start_time": "2025-05-15T16:16:03.511299",
     "status": "completed"
    },
    "tags": []
   },
   "outputs": [],
   "source": [
    "def custom_f1_score(y_true, y_pred):\n",
    "    return -f1_score(y_true, y_pred.argmax(1), average='weighted')"
   ]
  },
  {
   "cell_type": "code",
   "execution_count": 18,
   "id": "251f140d",
   "metadata": {
    "execution": {
     "iopub.execute_input": "2025-05-15T16:16:03.536572Z",
     "iopub.status.busy": "2025-05-15T16:16:03.536380Z",
     "iopub.status.idle": "2025-05-15T16:16:03.540632Z",
     "shell.execute_reply": "2025-05-15T16:16:03.540262Z"
    },
    "papermill": {
     "duration": 0.012199,
     "end_time": "2025-05-15T16:16:03.541529",
     "exception": false,
     "start_time": "2025-05-15T16:16:03.529330",
     "status": "completed"
    },
    "tags": []
   },
   "outputs": [],
   "source": [
    "eval_metric=custom_f1_score\n",
    "eval_metric_name='custom_f1_score'\n",
    "\n",
    "def objective(trial):\n",
    "    params = {\n",
    "        'n_estimators': 1500,\n",
    "        'max_depth': trial.suggest_int('max_depth', 3, 20),\n",
    "        'min_child_weight': trial.suggest_int('min_child_weight', 1, 250),\n",
    "        'subsample': trial.suggest_float('subsample', 0.1, 1.0),\n",
    "        'colsample_bynode': trial.suggest_float('colsample_bynode', 0.1, 1.0),\n",
    "        'learning_rate': trial.suggest_float('learning_rate', 1e-3, 5e-1, log=True),\n",
    "    }\n",
    "    pruning_callback = optuna.integration.XGBoostPruningCallback(trial, f'validation_0-{eval_metric_name}')\n",
    "    es_callback = xgboost.callback.EarlyStopping(20, min_delta=0.001)\n",
    "    xgb = xgboost.XGBClassifier(\n",
    "        eval_metric=eval_metric,\n",
    "        callbacks=[pruning_callback, es_callback],\n",
    "        n_jobs=5,\n",
    "        **params\n",
    "    )\n",
    "    xgb.fit(\n",
    "        X_train, \n",
    "        y_train_enc, \n",
    "        verbose=0,\n",
    "        eval_set=[(X_val, y_val_enc)],\n",
    "    )\n",
    "    trial.set_user_attr('best_iteration', xgb.best_iteration)\n",
    "\n",
    "    return xgb.best_score"
   ]
  },
  {
   "cell_type": "code",
   "execution_count": 19,
   "id": "68d4694f",
   "metadata": {
    "execution": {
     "iopub.execute_input": "2025-05-15T16:16:03.555419Z",
     "iopub.status.busy": "2025-05-15T16:16:03.554988Z",
     "iopub.status.idle": "2025-05-15T16:16:19.562324Z",
     "shell.execute_reply": "2025-05-15T16:16:19.561785Z"
    },
    "papermill": {
     "duration": 16.015703,
     "end_time": "2025-05-15T16:16:19.563695",
     "exception": false,
     "start_time": "2025-05-15T16:16:03.547992",
     "status": "completed"
    },
    "scrolled": true,
    "tags": []
   },
   "outputs": [
    {
     "name": "stderr",
     "output_type": "stream",
     "text": [
      "[I 2025-05-15 18:16:03,556] A new study created in memory with name: no-name-de0ed735-638e-47cf-ad97-11b09c29f115\n"
     ]
    },
    {
     "name": "stderr",
     "output_type": "stream",
     "text": [
      "[I 2025-05-15 18:16:03,702] Trial 0 finished with value: -0.0027 and parameters: {'max_depth': 9, 'min_child_weight': 238, 'subsample': 0.7587945476302645, 'colsample_bynode': 0.6387926357773329, 'learning_rate': 0.0026368755339723046}. Best is trial 0 with value: -0.0027.\n"
     ]
    },
    {
     "name": "stderr",
     "output_type": "stream",
     "text": [
      "[I 2025-05-15 18:16:05,310] Trial 1 finished with value: -0.721389 and parameters: {'max_depth': 5, 'min_child_weight': 15, 'subsample': 0.8795585311974417, 'colsample_bynode': 0.6410035105688879, 'learning_rate': 0.08148293210105287}. Best is trial 1 with value: -0.721389.\n"
     ]
    },
    {
     "name": "stderr",
     "output_type": "stream",
     "text": [
      "[I 2025-05-15 18:16:05,531] Trial 2 finished with value: -0.231838 and parameters: {'max_depth': 3, 'min_child_weight': 243, 'subsample': 0.8491983767203796, 'colsample_bynode': 0.29110519961044856, 'learning_rate': 0.003095566460242371}. Best is trial 1 with value: -0.721389.\n"
     ]
    },
    {
     "name": "stderr",
     "output_type": "stream",
     "text": [
      "[I 2025-05-15 18:16:05,955] Trial 3 finished with value: -0.555229 and parameters: {'max_depth': 6, 'min_child_weight': 77, 'subsample': 0.5722807884690141, 'colsample_bynode': 0.48875051677790415, 'learning_rate': 0.006109683510122491}. Best is trial 1 with value: -0.721389.\n"
     ]
    },
    {
     "name": "stderr",
     "output_type": "stream",
     "text": [
      "[I 2025-05-15 18:16:06,355] Trial 4 finished with value: -0.57506 and parameters: {'max_depth': 14, 'min_child_weight': 35, 'subsample': 0.3629301836816964, 'colsample_bynode': 0.4297256589643226, 'learning_rate': 0.01701841881702917}. Best is trial 1 with value: -0.721389.\n"
     ]
    },
    {
     "name": "stderr",
     "output_type": "stream",
     "text": [
      "[I 2025-05-15 18:16:06,614] Trial 5 pruned. Trial was pruned at iteration 21.\n"
     ]
    },
    {
     "name": "stderr",
     "output_type": "stream",
     "text": [
      "[I 2025-05-15 18:16:06,739] Trial 6 pruned. Trial was pruned at iteration 0.\n"
     ]
    },
    {
     "name": "stderr",
     "output_type": "stream",
     "text": [
      "[I 2025-05-15 18:16:06,867] Trial 7 pruned. Trial was pruned at iteration 0.\n"
     ]
    },
    {
     "name": "stderr",
     "output_type": "stream",
     "text": [
      "[I 2025-05-15 18:16:06,978] Trial 8 pruned. Trial was pruned at iteration 0.\n"
     ]
    },
    {
     "name": "stderr",
     "output_type": "stream",
     "text": [
      "[I 2025-05-15 18:16:07,105] Trial 9 pruned. Trial was pruned at iteration 0.\n"
     ]
    },
    {
     "name": "stderr",
     "output_type": "stream",
     "text": [
      "[I 2025-05-15 18:16:08,470] Trial 10 pruned. Trial was pruned at iteration 81.\n"
     ]
    },
    {
     "name": "stderr",
     "output_type": "stream",
     "text": [
      "[I 2025-05-15 18:16:09,636] Trial 11 pruned. Trial was pruned at iteration 51.\n"
     ]
    },
    {
     "name": "stderr",
     "output_type": "stream",
     "text": [
      "[I 2025-05-15 18:16:09,797] Trial 12 pruned. Trial was pruned at iteration 0.\n"
     ]
    },
    {
     "name": "stderr",
     "output_type": "stream",
     "text": [
      "[I 2025-05-15 18:16:09,957] Trial 13 pruned. Trial was pruned at iteration 0.\n"
     ]
    },
    {
     "name": "stderr",
     "output_type": "stream",
     "text": [
      "[I 2025-05-15 18:16:10,411] Trial 14 pruned. Trial was pruned at iteration 23.\n"
     ]
    },
    {
     "name": "stderr",
     "output_type": "stream",
     "text": [
      "[I 2025-05-15 18:16:10,570] Trial 15 pruned. Trial was pruned at iteration 0.\n"
     ]
    },
    {
     "name": "stderr",
     "output_type": "stream",
     "text": [
      "[I 2025-05-15 18:16:10,726] Trial 16 pruned. Trial was pruned at iteration 0.\n"
     ]
    },
    {
     "name": "stderr",
     "output_type": "stream",
     "text": [
      "[I 2025-05-15 18:16:10,882] Trial 17 pruned. Trial was pruned at iteration 0.\n"
     ]
    },
    {
     "name": "stderr",
     "output_type": "stream",
     "text": [
      "[I 2025-05-15 18:16:11,041] Trial 18 pruned. Trial was pruned at iteration 0.\n"
     ]
    },
    {
     "name": "stderr",
     "output_type": "stream",
     "text": [
      "[I 2025-05-15 18:16:11,182] Trial 19 pruned. Trial was pruned at iteration 0.\n"
     ]
    },
    {
     "name": "stderr",
     "output_type": "stream",
     "text": [
      "[I 2025-05-15 18:16:11,609] Trial 20 pruned. Trial was pruned at iteration 51.\n"
     ]
    },
    {
     "name": "stderr",
     "output_type": "stream",
     "text": [
      "[I 2025-05-15 18:16:11,880] Trial 21 pruned. Trial was pruned at iteration 21.\n"
     ]
    },
    {
     "name": "stderr",
     "output_type": "stream",
     "text": [
      "[I 2025-05-15 18:16:12,246] Trial 22 finished with value: -0.57658 and parameters: {'max_depth': 5, 'min_child_weight': 29, 'subsample': 0.4609511965645572, 'colsample_bynode': 0.34736765409573644, 'learning_rate': 0.00658837118255699}. Best is trial 1 with value: -0.721389.\n"
     ]
    },
    {
     "name": "stderr",
     "output_type": "stream",
     "text": [
      "[I 2025-05-15 18:16:12,771] Trial 23 finished with value: -0.589547 and parameters: {'max_depth': 4, 'min_child_weight': 25, 'subsample': 0.4837868374211358, 'colsample_bynode': 0.37025094499418987, 'learning_rate': 0.03595959027934193}. Best is trial 1 with value: -0.721389.\n"
     ]
    },
    {
     "name": "stderr",
     "output_type": "stream",
     "text": [
      "[I 2025-05-15 18:16:12,926] Trial 24 pruned. Trial was pruned at iteration 1.\n"
     ]
    },
    {
     "name": "stderr",
     "output_type": "stream",
     "text": [
      "[I 2025-05-15 18:16:13,075] Trial 25 pruned. Trial was pruned at iteration 1.\n"
     ]
    },
    {
     "name": "stderr",
     "output_type": "stream",
     "text": [
      "[I 2025-05-15 18:16:13,210] Trial 26 pruned. Trial was pruned at iteration 0.\n"
     ]
    },
    {
     "name": "stderr",
     "output_type": "stream",
     "text": [
      "[I 2025-05-15 18:16:13,916] Trial 27 finished with value: -0.625477 and parameters: {'max_depth': 5, 'min_child_weight': 2, 'subsample': 0.830994423789636, 'colsample_bynode': 0.5703836739958317, 'learning_rate': 0.0013092407112602006}. Best is trial 1 with value: -0.721389.\n"
     ]
    },
    {
     "name": "stderr",
     "output_type": "stream",
     "text": [
      "[I 2025-05-15 18:16:14,373] Trial 28 finished with value: -0.572943 and parameters: {'max_depth': 3, 'min_child_weight': 1, 'subsample': 0.8886644838506003, 'colsample_bynode': 0.6804479078731208, 'learning_rate': 0.0010978469498299063}. Best is trial 1 with value: -0.721389.\n"
     ]
    },
    {
     "name": "stderr",
     "output_type": "stream",
     "text": [
      "[I 2025-05-15 18:16:14,518] Trial 29 pruned. Trial was pruned at iteration 0.\n"
     ]
    },
    {
     "name": "stderr",
     "output_type": "stream",
     "text": [
      "[I 2025-05-15 18:16:15,022] Trial 30 finished with value: -0.608502 and parameters: {'max_depth': 5, 'min_child_weight': 16, 'subsample': 0.9114569444067171, 'colsample_bynode': 0.571641343532595, 'learning_rate': 0.04788224833213737}. Best is trial 1 with value: -0.721389.\n"
     ]
    },
    {
     "name": "stderr",
     "output_type": "stream",
     "text": [
      "[I 2025-05-15 18:16:15,527] Trial 31 finished with value: -0.590841 and parameters: {'max_depth': 5, 'min_child_weight': 16, 'subsample': 0.8034061771877764, 'colsample_bynode': 0.6028476065612848, 'learning_rate': 0.05011800000205376}. Best is trial 1 with value: -0.721389.\n"
     ]
    },
    {
     "name": "stderr",
     "output_type": "stream",
     "text": [
      "[I 2025-05-15 18:16:15,747] Trial 32 pruned. Trial was pruned at iteration 2.\n"
     ]
    },
    {
     "name": "stderr",
     "output_type": "stream",
     "text": [
      "[I 2025-05-15 18:16:15,892] Trial 33 pruned. Trial was pruned at iteration 0.\n"
     ]
    },
    {
     "name": "stderr",
     "output_type": "stream",
     "text": [
      "[I 2025-05-15 18:16:16,044] Trial 34 pruned. Trial was pruned at iteration 0.\n"
     ]
    },
    {
     "name": "stderr",
     "output_type": "stream",
     "text": [
      "[I 2025-05-15 18:16:16,491] Trial 35 finished with value: -0.58892 and parameters: {'max_depth': 3, 'min_child_weight': 15, 'subsample': 0.925125628401506, 'colsample_bynode': 0.8458833094836274, 'learning_rate': 0.054200310504799266}. Best is trial 1 with value: -0.721389.\n"
     ]
    },
    {
     "name": "stderr",
     "output_type": "stream",
     "text": [
      "[I 2025-05-15 18:16:16,641] Trial 36 pruned. Trial was pruned at iteration 0.\n"
     ]
    },
    {
     "name": "stderr",
     "output_type": "stream",
     "text": [
      "[I 2025-05-15 18:16:16,784] Trial 37 pruned. Trial was pruned at iteration 0.\n"
     ]
    },
    {
     "name": "stderr",
     "output_type": "stream",
     "text": [
      "[I 2025-05-15 18:16:16,932] Trial 38 pruned. Trial was pruned at iteration 0.\n"
     ]
    },
    {
     "name": "stderr",
     "output_type": "stream",
     "text": [
      "[I 2025-05-15 18:16:17,086] Trial 39 pruned. Trial was pruned at iteration 0.\n"
     ]
    },
    {
     "name": "stderr",
     "output_type": "stream",
     "text": [
      "[I 2025-05-15 18:16:17,235] Trial 40 pruned. Trial was pruned at iteration 0.\n"
     ]
    },
    {
     "name": "stderr",
     "output_type": "stream",
     "text": [
      "[I 2025-05-15 18:16:17,377] Trial 41 pruned. Trial was pruned at iteration 0.\n"
     ]
    },
    {
     "name": "stderr",
     "output_type": "stream",
     "text": [
      "[I 2025-05-15 18:16:17,524] Trial 42 pruned. Trial was pruned at iteration 0.\n"
     ]
    },
    {
     "name": "stderr",
     "output_type": "stream",
     "text": [
      "[I 2025-05-15 18:16:18,060] Trial 43 finished with value: -0.604503 and parameters: {'max_depth': 5, 'min_child_weight': 7, 'subsample': 0.5272302451952564, 'colsample_bynode': 0.598209642887341, 'learning_rate': 0.004294954849258996}. Best is trial 1 with value: -0.721389.\n"
     ]
    },
    {
     "name": "stderr",
     "output_type": "stream",
     "text": [
      "[I 2025-05-15 18:16:18,230] Trial 44 pruned. Trial was pruned at iteration 0.\n"
     ]
    },
    {
     "name": "stderr",
     "output_type": "stream",
     "text": [
      "[I 2025-05-15 18:16:18,382] Trial 45 pruned. Trial was pruned at iteration 0.\n"
     ]
    },
    {
     "name": "stderr",
     "output_type": "stream",
     "text": [
      "[I 2025-05-15 18:16:18,529] Trial 46 pruned. Trial was pruned at iteration 0.\n"
     ]
    },
    {
     "name": "stderr",
     "output_type": "stream",
     "text": [
      "[I 2025-05-15 18:16:18,676] Trial 47 pruned. Trial was pruned at iteration 0.\n"
     ]
    },
    {
     "name": "stderr",
     "output_type": "stream",
     "text": [
      "[I 2025-05-15 18:16:19,264] Trial 48 finished with value: -0.611318 and parameters: {'max_depth': 6, 'min_child_weight': 7, 'subsample': 0.7198790966445353, 'colsample_bynode': 0.5490424894605435, 'learning_rate': 0.0016377927862767142}. Best is trial 1 with value: -0.721389.\n"
     ]
    },
    {
     "name": "stderr",
     "output_type": "stream",
     "text": [
      "[I 2025-05-15 18:16:19,449] Trial 49 pruned. Trial was pruned at iteration 0.\n"
     ]
    }
   ],
   "source": [
    "sampler = optuna.samplers.TPESampler(seed=42)\n",
    "study = optuna.create_study(direction='minimize', sampler=sampler)\n",
    "study.optimize(objective, n_trials=N_TRIALS, gc_after_trial=True)"
   ]
  },
  {
   "cell_type": "code",
   "execution_count": 20,
   "id": "99187bf6",
   "metadata": {
    "execution": {
     "iopub.execute_input": "2025-05-15T16:16:19.587912Z",
     "iopub.status.busy": "2025-05-15T16:16:19.587670Z",
     "iopub.status.idle": "2025-05-15T16:16:19.626746Z",
     "shell.execute_reply": "2025-05-15T16:16:19.626415Z"
    },
    "papermill": {
     "duration": 0.051706,
     "end_time": "2025-05-15T16:16:19.628047",
     "exception": false,
     "start_time": "2025-05-15T16:16:19.576341",
     "status": "completed"
    },
    "tags": []
   },
   "outputs": [
    {
     "data": {
      "text/plain": [
       "['/scratch_isilon/groups/singlecell/shared/projects/Inflammation-PBMCs-Atlas/03_downstream_analysis/08_gene_importance/xgboost_external_validation/xgboost_TopN_genes/results_20/study/pDC_13_1_xgboost.pkl']"
      ]
     },
     "execution_count": 20,
     "metadata": {},
     "output_type": "execute_result"
    }
   ],
   "source": [
    "out_dir = here(f'03_downstream_analysis/08_gene_importance/xgboost_external_validation/xgboost_TopN_genes/results_{N_GENES}/study')\n",
    "\n",
    "if not os.path.exists(out_dir):\n",
    "    os.makedirs(out_dir)\n",
    "    \n",
    "joblib.dump(study,os.path.join(out_dir, f'{CELL_TYPE}_{SEED}_{TEST_SPLIT_IDX}_xgboost.pkl'))"
   ]
  },
  {
   "cell_type": "code",
   "execution_count": 21,
   "id": "16f1e612",
   "metadata": {
    "execution": {
     "iopub.execute_input": "2025-05-15T16:16:19.650188Z",
     "iopub.status.busy": "2025-05-15T16:16:19.649926Z",
     "iopub.status.idle": "2025-05-15T16:16:21.351949Z",
     "shell.execute_reply": "2025-05-15T16:16:21.351551Z"
    },
    "papermill": {
     "duration": 1.713524,
     "end_time": "2025-05-15T16:16:21.353034",
     "exception": false,
     "start_time": "2025-05-15T16:16:19.639510",
     "status": "completed"
    },
    "tags": []
   },
   "outputs": [
    {
     "data": {
      "text/html": [
       "<style>#sk-container-id-1 {\n",
       "  /* Definition of color scheme common for light and dark mode */\n",
       "  --sklearn-color-text: black;\n",
       "  --sklearn-color-line: gray;\n",
       "  /* Definition of color scheme for unfitted estimators */\n",
       "  --sklearn-color-unfitted-level-0: #fff5e6;\n",
       "  --sklearn-color-unfitted-level-1: #f6e4d2;\n",
       "  --sklearn-color-unfitted-level-2: #ffe0b3;\n",
       "  --sklearn-color-unfitted-level-3: chocolate;\n",
       "  /* Definition of color scheme for fitted estimators */\n",
       "  --sklearn-color-fitted-level-0: #f0f8ff;\n",
       "  --sklearn-color-fitted-level-1: #d4ebff;\n",
       "  --sklearn-color-fitted-level-2: #b3dbfd;\n",
       "  --sklearn-color-fitted-level-3: cornflowerblue;\n",
       "\n",
       "  /* Specific color for light theme */\n",
       "  --sklearn-color-text-on-default-background: var(--sg-text-color, var(--theme-code-foreground, var(--jp-content-font-color1, black)));\n",
       "  --sklearn-color-background: var(--sg-background-color, var(--theme-background, var(--jp-layout-color0, white)));\n",
       "  --sklearn-color-border-box: var(--sg-text-color, var(--theme-code-foreground, var(--jp-content-font-color1, black)));\n",
       "  --sklearn-color-icon: #696969;\n",
       "\n",
       "  @media (prefers-color-scheme: dark) {\n",
       "    /* Redefinition of color scheme for dark theme */\n",
       "    --sklearn-color-text-on-default-background: var(--sg-text-color, var(--theme-code-foreground, var(--jp-content-font-color1, white)));\n",
       "    --sklearn-color-background: var(--sg-background-color, var(--theme-background, var(--jp-layout-color0, #111)));\n",
       "    --sklearn-color-border-box: var(--sg-text-color, var(--theme-code-foreground, var(--jp-content-font-color1, white)));\n",
       "    --sklearn-color-icon: #878787;\n",
       "  }\n",
       "}\n",
       "\n",
       "#sk-container-id-1 {\n",
       "  color: var(--sklearn-color-text);\n",
       "}\n",
       "\n",
       "#sk-container-id-1 pre {\n",
       "  padding: 0;\n",
       "}\n",
       "\n",
       "#sk-container-id-1 input.sk-hidden--visually {\n",
       "  border: 0;\n",
       "  clip: rect(1px 1px 1px 1px);\n",
       "  clip: rect(1px, 1px, 1px, 1px);\n",
       "  height: 1px;\n",
       "  margin: -1px;\n",
       "  overflow: hidden;\n",
       "  padding: 0;\n",
       "  position: absolute;\n",
       "  width: 1px;\n",
       "}\n",
       "\n",
       "#sk-container-id-1 div.sk-dashed-wrapped {\n",
       "  border: 1px dashed var(--sklearn-color-line);\n",
       "  margin: 0 0.4em 0.5em 0.4em;\n",
       "  box-sizing: border-box;\n",
       "  padding-bottom: 0.4em;\n",
       "  background-color: var(--sklearn-color-background);\n",
       "}\n",
       "\n",
       "#sk-container-id-1 div.sk-container {\n",
       "  /* jupyter's `normalize.less` sets `[hidden] { display: none; }`\n",
       "     but bootstrap.min.css set `[hidden] { display: none !important; }`\n",
       "     so we also need the `!important` here to be able to override the\n",
       "     default hidden behavior on the sphinx rendered scikit-learn.org.\n",
       "     See: https://github.com/scikit-learn/scikit-learn/issues/21755 */\n",
       "  display: inline-block !important;\n",
       "  position: relative;\n",
       "}\n",
       "\n",
       "#sk-container-id-1 div.sk-text-repr-fallback {\n",
       "  display: none;\n",
       "}\n",
       "\n",
       "div.sk-parallel-item,\n",
       "div.sk-serial,\n",
       "div.sk-item {\n",
       "  /* draw centered vertical line to link estimators */\n",
       "  background-image: linear-gradient(var(--sklearn-color-text-on-default-background), var(--sklearn-color-text-on-default-background));\n",
       "  background-size: 2px 100%;\n",
       "  background-repeat: no-repeat;\n",
       "  background-position: center center;\n",
       "}\n",
       "\n",
       "/* Parallel-specific style estimator block */\n",
       "\n",
       "#sk-container-id-1 div.sk-parallel-item::after {\n",
       "  content: \"\";\n",
       "  width: 100%;\n",
       "  border-bottom: 2px solid var(--sklearn-color-text-on-default-background);\n",
       "  flex-grow: 1;\n",
       "}\n",
       "\n",
       "#sk-container-id-1 div.sk-parallel {\n",
       "  display: flex;\n",
       "  align-items: stretch;\n",
       "  justify-content: center;\n",
       "  background-color: var(--sklearn-color-background);\n",
       "  position: relative;\n",
       "}\n",
       "\n",
       "#sk-container-id-1 div.sk-parallel-item {\n",
       "  display: flex;\n",
       "  flex-direction: column;\n",
       "}\n",
       "\n",
       "#sk-container-id-1 div.sk-parallel-item:first-child::after {\n",
       "  align-self: flex-end;\n",
       "  width: 50%;\n",
       "}\n",
       "\n",
       "#sk-container-id-1 div.sk-parallel-item:last-child::after {\n",
       "  align-self: flex-start;\n",
       "  width: 50%;\n",
       "}\n",
       "\n",
       "#sk-container-id-1 div.sk-parallel-item:only-child::after {\n",
       "  width: 0;\n",
       "}\n",
       "\n",
       "/* Serial-specific style estimator block */\n",
       "\n",
       "#sk-container-id-1 div.sk-serial {\n",
       "  display: flex;\n",
       "  flex-direction: column;\n",
       "  align-items: center;\n",
       "  background-color: var(--sklearn-color-background);\n",
       "  padding-right: 1em;\n",
       "  padding-left: 1em;\n",
       "}\n",
       "\n",
       "\n",
       "/* Toggleable style: style used for estimator/Pipeline/ColumnTransformer box that is\n",
       "clickable and can be expanded/collapsed.\n",
       "- Pipeline and ColumnTransformer use this feature and define the default style\n",
       "- Estimators will overwrite some part of the style using the `sk-estimator` class\n",
       "*/\n",
       "\n",
       "/* Pipeline and ColumnTransformer style (default) */\n",
       "\n",
       "#sk-container-id-1 div.sk-toggleable {\n",
       "  /* Default theme specific background. It is overwritten whether we have a\n",
       "  specific estimator or a Pipeline/ColumnTransformer */\n",
       "  background-color: var(--sklearn-color-background);\n",
       "}\n",
       "\n",
       "/* Toggleable label */\n",
       "#sk-container-id-1 label.sk-toggleable__label {\n",
       "  cursor: pointer;\n",
       "  display: block;\n",
       "  width: 100%;\n",
       "  margin-bottom: 0;\n",
       "  padding: 0.5em;\n",
       "  box-sizing: border-box;\n",
       "  text-align: center;\n",
       "}\n",
       "\n",
       "#sk-container-id-1 label.sk-toggleable__label-arrow:before {\n",
       "  /* Arrow on the left of the label */\n",
       "  content: \"▸\";\n",
       "  float: left;\n",
       "  margin-right: 0.25em;\n",
       "  color: var(--sklearn-color-icon);\n",
       "}\n",
       "\n",
       "#sk-container-id-1 label.sk-toggleable__label-arrow:hover:before {\n",
       "  color: var(--sklearn-color-text);\n",
       "}\n",
       "\n",
       "/* Toggleable content - dropdown */\n",
       "\n",
       "#sk-container-id-1 div.sk-toggleable__content {\n",
       "  max-height: 0;\n",
       "  max-width: 0;\n",
       "  overflow: hidden;\n",
       "  text-align: left;\n",
       "  /* unfitted */\n",
       "  background-color: var(--sklearn-color-unfitted-level-0);\n",
       "}\n",
       "\n",
       "#sk-container-id-1 div.sk-toggleable__content.fitted {\n",
       "  /* fitted */\n",
       "  background-color: var(--sklearn-color-fitted-level-0);\n",
       "}\n",
       "\n",
       "#sk-container-id-1 div.sk-toggleable__content pre {\n",
       "  margin: 0.2em;\n",
       "  border-radius: 0.25em;\n",
       "  color: var(--sklearn-color-text);\n",
       "  /* unfitted */\n",
       "  background-color: var(--sklearn-color-unfitted-level-0);\n",
       "}\n",
       "\n",
       "#sk-container-id-1 div.sk-toggleable__content.fitted pre {\n",
       "  /* unfitted */\n",
       "  background-color: var(--sklearn-color-fitted-level-0);\n",
       "}\n",
       "\n",
       "#sk-container-id-1 input.sk-toggleable__control:checked~div.sk-toggleable__content {\n",
       "  /* Expand drop-down */\n",
       "  max-height: 200px;\n",
       "  max-width: 100%;\n",
       "  overflow: auto;\n",
       "}\n",
       "\n",
       "#sk-container-id-1 input.sk-toggleable__control:checked~label.sk-toggleable__label-arrow:before {\n",
       "  content: \"▾\";\n",
       "}\n",
       "\n",
       "/* Pipeline/ColumnTransformer-specific style */\n",
       "\n",
       "#sk-container-id-1 div.sk-label input.sk-toggleable__control:checked~label.sk-toggleable__label {\n",
       "  color: var(--sklearn-color-text);\n",
       "  background-color: var(--sklearn-color-unfitted-level-2);\n",
       "}\n",
       "\n",
       "#sk-container-id-1 div.sk-label.fitted input.sk-toggleable__control:checked~label.sk-toggleable__label {\n",
       "  background-color: var(--sklearn-color-fitted-level-2);\n",
       "}\n",
       "\n",
       "/* Estimator-specific style */\n",
       "\n",
       "/* Colorize estimator box */\n",
       "#sk-container-id-1 div.sk-estimator input.sk-toggleable__control:checked~label.sk-toggleable__label {\n",
       "  /* unfitted */\n",
       "  background-color: var(--sklearn-color-unfitted-level-2);\n",
       "}\n",
       "\n",
       "#sk-container-id-1 div.sk-estimator.fitted input.sk-toggleable__control:checked~label.sk-toggleable__label {\n",
       "  /* fitted */\n",
       "  background-color: var(--sklearn-color-fitted-level-2);\n",
       "}\n",
       "\n",
       "#sk-container-id-1 div.sk-label label.sk-toggleable__label,\n",
       "#sk-container-id-1 div.sk-label label {\n",
       "  /* The background is the default theme color */\n",
       "  color: var(--sklearn-color-text-on-default-background);\n",
       "}\n",
       "\n",
       "/* On hover, darken the color of the background */\n",
       "#sk-container-id-1 div.sk-label:hover label.sk-toggleable__label {\n",
       "  color: var(--sklearn-color-text);\n",
       "  background-color: var(--sklearn-color-unfitted-level-2);\n",
       "}\n",
       "\n",
       "/* Label box, darken color on hover, fitted */\n",
       "#sk-container-id-1 div.sk-label.fitted:hover label.sk-toggleable__label.fitted {\n",
       "  color: var(--sklearn-color-text);\n",
       "  background-color: var(--sklearn-color-fitted-level-2);\n",
       "}\n",
       "\n",
       "/* Estimator label */\n",
       "\n",
       "#sk-container-id-1 div.sk-label label {\n",
       "  font-family: monospace;\n",
       "  font-weight: bold;\n",
       "  display: inline-block;\n",
       "  line-height: 1.2em;\n",
       "}\n",
       "\n",
       "#sk-container-id-1 div.sk-label-container {\n",
       "  text-align: center;\n",
       "}\n",
       "\n",
       "/* Estimator-specific */\n",
       "#sk-container-id-1 div.sk-estimator {\n",
       "  font-family: monospace;\n",
       "  border: 1px dotted var(--sklearn-color-border-box);\n",
       "  border-radius: 0.25em;\n",
       "  box-sizing: border-box;\n",
       "  margin-bottom: 0.5em;\n",
       "  /* unfitted */\n",
       "  background-color: var(--sklearn-color-unfitted-level-0);\n",
       "}\n",
       "\n",
       "#sk-container-id-1 div.sk-estimator.fitted {\n",
       "  /* fitted */\n",
       "  background-color: var(--sklearn-color-fitted-level-0);\n",
       "}\n",
       "\n",
       "/* on hover */\n",
       "#sk-container-id-1 div.sk-estimator:hover {\n",
       "  /* unfitted */\n",
       "  background-color: var(--sklearn-color-unfitted-level-2);\n",
       "}\n",
       "\n",
       "#sk-container-id-1 div.sk-estimator.fitted:hover {\n",
       "  /* fitted */\n",
       "  background-color: var(--sklearn-color-fitted-level-2);\n",
       "}\n",
       "\n",
       "/* Specification for estimator info (e.g. \"i\" and \"?\") */\n",
       "\n",
       "/* Common style for \"i\" and \"?\" */\n",
       "\n",
       ".sk-estimator-doc-link,\n",
       "a:link.sk-estimator-doc-link,\n",
       "a:visited.sk-estimator-doc-link {\n",
       "  float: right;\n",
       "  font-size: smaller;\n",
       "  line-height: 1em;\n",
       "  font-family: monospace;\n",
       "  background-color: var(--sklearn-color-background);\n",
       "  border-radius: 1em;\n",
       "  height: 1em;\n",
       "  width: 1em;\n",
       "  text-decoration: none !important;\n",
       "  margin-left: 1ex;\n",
       "  /* unfitted */\n",
       "  border: var(--sklearn-color-unfitted-level-1) 1pt solid;\n",
       "  color: var(--sklearn-color-unfitted-level-1);\n",
       "}\n",
       "\n",
       ".sk-estimator-doc-link.fitted,\n",
       "a:link.sk-estimator-doc-link.fitted,\n",
       "a:visited.sk-estimator-doc-link.fitted {\n",
       "  /* fitted */\n",
       "  border: var(--sklearn-color-fitted-level-1) 1pt solid;\n",
       "  color: var(--sklearn-color-fitted-level-1);\n",
       "}\n",
       "\n",
       "/* On hover */\n",
       "div.sk-estimator:hover .sk-estimator-doc-link:hover,\n",
       ".sk-estimator-doc-link:hover,\n",
       "div.sk-label-container:hover .sk-estimator-doc-link:hover,\n",
       ".sk-estimator-doc-link:hover {\n",
       "  /* unfitted */\n",
       "  background-color: var(--sklearn-color-unfitted-level-3);\n",
       "  color: var(--sklearn-color-background);\n",
       "  text-decoration: none;\n",
       "}\n",
       "\n",
       "div.sk-estimator.fitted:hover .sk-estimator-doc-link.fitted:hover,\n",
       ".sk-estimator-doc-link.fitted:hover,\n",
       "div.sk-label-container:hover .sk-estimator-doc-link.fitted:hover,\n",
       ".sk-estimator-doc-link.fitted:hover {\n",
       "  /* fitted */\n",
       "  background-color: var(--sklearn-color-fitted-level-3);\n",
       "  color: var(--sklearn-color-background);\n",
       "  text-decoration: none;\n",
       "}\n",
       "\n",
       "/* Span, style for the box shown on hovering the info icon */\n",
       ".sk-estimator-doc-link span {\n",
       "  display: none;\n",
       "  z-index: 9999;\n",
       "  position: relative;\n",
       "  font-weight: normal;\n",
       "  right: .2ex;\n",
       "  padding: .5ex;\n",
       "  margin: .5ex;\n",
       "  width: min-content;\n",
       "  min-width: 20ex;\n",
       "  max-width: 50ex;\n",
       "  color: var(--sklearn-color-text);\n",
       "  box-shadow: 2pt 2pt 4pt #999;\n",
       "  /* unfitted */\n",
       "  background: var(--sklearn-color-unfitted-level-0);\n",
       "  border: .5pt solid var(--sklearn-color-unfitted-level-3);\n",
       "}\n",
       "\n",
       ".sk-estimator-doc-link.fitted span {\n",
       "  /* fitted */\n",
       "  background: var(--sklearn-color-fitted-level-0);\n",
       "  border: var(--sklearn-color-fitted-level-3);\n",
       "}\n",
       "\n",
       ".sk-estimator-doc-link:hover span {\n",
       "  display: block;\n",
       "}\n",
       "\n",
       "/* \"?\"-specific style due to the `<a>` HTML tag */\n",
       "\n",
       "#sk-container-id-1 a.estimator_doc_link {\n",
       "  float: right;\n",
       "  font-size: 1rem;\n",
       "  line-height: 1em;\n",
       "  font-family: monospace;\n",
       "  background-color: var(--sklearn-color-background);\n",
       "  border-radius: 1rem;\n",
       "  height: 1rem;\n",
       "  width: 1rem;\n",
       "  text-decoration: none;\n",
       "  /* unfitted */\n",
       "  color: var(--sklearn-color-unfitted-level-1);\n",
       "  border: var(--sklearn-color-unfitted-level-1) 1pt solid;\n",
       "}\n",
       "\n",
       "#sk-container-id-1 a.estimator_doc_link.fitted {\n",
       "  /* fitted */\n",
       "  border: var(--sklearn-color-fitted-level-1) 1pt solid;\n",
       "  color: var(--sklearn-color-fitted-level-1);\n",
       "}\n",
       "\n",
       "/* On hover */\n",
       "#sk-container-id-1 a.estimator_doc_link:hover {\n",
       "  /* unfitted */\n",
       "  background-color: var(--sklearn-color-unfitted-level-3);\n",
       "  color: var(--sklearn-color-background);\n",
       "  text-decoration: none;\n",
       "}\n",
       "\n",
       "#sk-container-id-1 a.estimator_doc_link.fitted:hover {\n",
       "  /* fitted */\n",
       "  background-color: var(--sklearn-color-fitted-level-3);\n",
       "}\n",
       "</style><div id=\"sk-container-id-1\" class=\"sk-top-container\"><div class=\"sk-text-repr-fallback\"><pre>XGBClassifier(base_score=None, booster=None, callbacks=None,\n",
       "              colsample_bylevel=None, colsample_bynode=0.6410035105688879,\n",
       "              colsample_bytree=None, device=None, early_stopping_rounds=None,\n",
       "              enable_categorical=False,\n",
       "              eval_metric=&lt;function custom_f1_score at 0x7f8ed8ffb7e0&gt;,\n",
       "              feature_types=None, gamma=None, grow_policy=None,\n",
       "              importance_type=None, interaction_constraints=None,\n",
       "              learning_rate=0.08148293210105287, max_bin=None,\n",
       "              max_cat_threshold=None, max_cat_to_onehot=None,\n",
       "              max_delta_step=None, max_depth=5, max_leaves=None,\n",
       "              min_child_weight=15, missing=nan, monotone_constraints=None,\n",
       "              multi_strategy=None, n_estimators=112, n_jobs=None,\n",
       "              num_parallel_tree=None, objective=&#x27;multi:softprob&#x27;, ...)</pre><b>In a Jupyter environment, please rerun this cell to show the HTML representation or trust the notebook. <br />On GitHub, the HTML representation is unable to render, please try loading this page with nbviewer.org.</b></div><div class=\"sk-container\" hidden><div class=\"sk-item\"><div class=\"sk-estimator fitted sk-toggleable\"><input class=\"sk-toggleable__control sk-hidden--visually\" id=\"sk-estimator-id-1\" type=\"checkbox\" checked><label for=\"sk-estimator-id-1\" class=\"sk-toggleable__label fitted sk-toggleable__label-arrow fitted\">&nbsp;XGBClassifier<span class=\"sk-estimator-doc-link fitted\">i<span>Fitted</span></span></label><div class=\"sk-toggleable__content fitted\"><pre>XGBClassifier(base_score=None, booster=None, callbacks=None,\n",
       "              colsample_bylevel=None, colsample_bynode=0.6410035105688879,\n",
       "              colsample_bytree=None, device=None, early_stopping_rounds=None,\n",
       "              enable_categorical=False,\n",
       "              eval_metric=&lt;function custom_f1_score at 0x7f8ed8ffb7e0&gt;,\n",
       "              feature_types=None, gamma=None, grow_policy=None,\n",
       "              importance_type=None, interaction_constraints=None,\n",
       "              learning_rate=0.08148293210105287, max_bin=None,\n",
       "              max_cat_threshold=None, max_cat_to_onehot=None,\n",
       "              max_delta_step=None, max_depth=5, max_leaves=None,\n",
       "              min_child_weight=15, missing=nan, monotone_constraints=None,\n",
       "              multi_strategy=None, n_estimators=112, n_jobs=None,\n",
       "              num_parallel_tree=None, objective=&#x27;multi:softprob&#x27;, ...)</pre></div> </div></div></div></div>"
      ],
      "text/plain": [
       "XGBClassifier(base_score=None, booster=None, callbacks=None,\n",
       "              colsample_bylevel=None, colsample_bynode=0.6410035105688879,\n",
       "              colsample_bytree=None, device=None, early_stopping_rounds=None,\n",
       "              enable_categorical=False,\n",
       "              eval_metric=<function custom_f1_score at 0x7f8ed8ffb7e0>,\n",
       "              feature_types=None, gamma=None, grow_policy=None,\n",
       "              importance_type=None, interaction_constraints=None,\n",
       "              learning_rate=0.08148293210105287, max_bin=None,\n",
       "              max_cat_threshold=None, max_cat_to_onehot=None,\n",
       "              max_delta_step=None, max_depth=5, max_leaves=None,\n",
       "              min_child_weight=15, missing=nan, monotone_constraints=None,\n",
       "              multi_strategy=None, n_estimators=112, n_jobs=None,\n",
       "              num_parallel_tree=None, objective='multi:softprob', ...)"
      ]
     },
     "execution_count": 21,
     "metadata": {},
     "output_type": "execute_result"
    }
   ],
   "source": [
    "n_estimators = int(study.best_trial.user_attrs['best_iteration']*1.2)\n",
    "xgb = xgboost.XGBClassifier(\n",
    "        eval_metric=eval_metric,\n",
    "        n_estimators=n_estimators,\n",
    "        **study.best_trial.params\n",
    "    )\n",
    "xgb.fit(\n",
    "    ssp.vstack((X_train, X_val)), \n",
    "    np.concatenate((y_train_enc, y_val_enc)),\n",
    "    verbose=1,\n",
    ")"
   ]
  },
  {
   "cell_type": "code",
   "execution_count": 22,
   "id": "e148ee93",
   "metadata": {
    "execution": {
     "iopub.execute_input": "2025-05-15T16:16:21.373405Z",
     "iopub.status.busy": "2025-05-15T16:16:21.373192Z",
     "iopub.status.idle": "2025-05-15T16:16:21.416309Z",
     "shell.execute_reply": "2025-05-15T16:16:21.415979Z"
    },
    "papermill": {
     "duration": 0.05474,
     "end_time": "2025-05-15T16:16:21.417673",
     "exception": false,
     "start_time": "2025-05-15T16:16:21.362933",
     "status": "completed"
    },
    "tags": []
   },
   "outputs": [
    {
     "data": {
      "text/plain": [
       "['/scratch_isilon/groups/singlecell/shared/projects/Inflammation-PBMCs-Atlas/03_downstream_analysis/08_gene_importance/xgboost_external_validation/xgboost_TopN_genes/results_20/best_model/pDC_13_1_xgb.json']"
      ]
     },
     "execution_count": 22,
     "metadata": {},
     "output_type": "execute_result"
    }
   ],
   "source": [
    "out_dir = here(f'03_downstream_analysis/08_gene_importance/xgboost_external_validation/xgboost_TopN_genes/results_{N_GENES}/best_model')\n",
    "\n",
    "if not os.path.exists(out_dir):\n",
    "    os.makedirs(out_dir)\n",
    "    \n",
    "joblib.dump(xgb, os.path.join(out_dir, f'{CELL_TYPE}_{SEED}_{TEST_SPLIT_IDX}_xgb.json'))"
   ]
  },
  {
   "cell_type": "code",
   "execution_count": 23,
   "id": "245977d7",
   "metadata": {
    "execution": {
     "iopub.execute_input": "2025-05-15T16:16:21.438872Z",
     "iopub.status.busy": "2025-05-15T16:16:21.438674Z",
     "iopub.status.idle": "2025-05-15T16:16:21.447969Z",
     "shell.execute_reply": "2025-05-15T16:16:21.447636Z"
    },
    "papermill": {
     "duration": 0.024876,
     "end_time": "2025-05-15T16:16:21.453217",
     "exception": false,
     "start_time": "2025-05-15T16:16:21.428341",
     "status": "completed"
    },
    "tags": []
   },
   "outputs": [],
   "source": [
    "df_pred_test = pd.DataFrame(dict(\n",
    "    cell_id=train_adata.obs.iloc[test_idxs].index.values,\n",
    "    y_true=y_test, \n",
    "    y_true_code=y_test_enc, \n",
    "    y_pred=xgb.predict(X_test))).set_index('cell_id')"
   ]
  },
  {
   "cell_type": "code",
   "execution_count": 24,
   "id": "26d6c5a1",
   "metadata": {
    "execution": {
     "iopub.execute_input": "2025-05-15T16:16:21.475147Z",
     "iopub.status.busy": "2025-05-15T16:16:21.474824Z",
     "iopub.status.idle": "2025-05-15T16:16:21.490462Z",
     "shell.execute_reply": "2025-05-15T16:16:21.490037Z"
    },
    "papermill": {
     "duration": 0.028811,
     "end_time": "2025-05-15T16:16:21.492059",
     "exception": false,
     "start_time": "2025-05-15T16:16:21.463248",
     "status": "completed"
    },
    "tags": []
   },
   "outputs": [],
   "source": [
    "out_dir = here(f'03_downstream_analysis/08_gene_importance/xgboost_external_validation/xgboost_TopN_genes/results_{N_GENES}/predictions')\n",
    "\n",
    "if not os.path.exists(out_dir):\n",
    "    os.makedirs(out_dir)\n",
    "    \n",
    "df_pred_test.to_csv(os.path.join(out_dir, f'{CELL_TYPE}_{SEED}_{TEST_SPLIT_IDX}_pred_test.zip'))"
   ]
  },
  {
   "cell_type": "code",
   "execution_count": 25,
   "id": "f4d98a2a",
   "metadata": {
    "execution": {
     "iopub.execute_input": "2025-05-15T16:16:21.513865Z",
     "iopub.status.busy": "2025-05-15T16:16:21.513586Z",
     "iopub.status.idle": "2025-05-15T16:16:21.520436Z",
     "shell.execute_reply": "2025-05-15T16:16:21.520091Z"
    },
    "papermill": {
     "duration": 0.018681,
     "end_time": "2025-05-15T16:16:21.521438",
     "exception": false,
     "start_time": "2025-05-15T16:16:21.502757",
     "status": "completed"
    },
    "tags": []
   },
   "outputs": [
    {
     "name": "stderr",
     "output_type": "stream",
     "text": [
      "/scratch_isilon/groups/singlecell/shared/conda_env/xgboost-cpu/lib/python3.12/site-packages/sklearn/metrics/_classification.py:2466: UserWarning: y_pred contains classes not in y_true\n",
      "  warnings.warn(\"y_pred contains classes not in y_true\")\n"
     ]
    }
   ],
   "source": [
    "metrics_dict = dict(\n",
    "    BAS=balanced_accuracy_score(y_true=df_pred_test.y_true_code, y_pred=df_pred_test.y_pred), WF1=f1_score(y_true=df_pred_test.y_true_code, y_pred=df_pred_test.y_pred,average='weighted'))"
   ]
  },
  {
   "cell_type": "code",
   "execution_count": 26,
   "id": "29269944",
   "metadata": {
    "execution": {
     "iopub.execute_input": "2025-05-15T16:16:21.541495Z",
     "iopub.status.busy": "2025-05-15T16:16:21.541081Z",
     "iopub.status.idle": "2025-05-15T16:16:21.544023Z",
     "shell.execute_reply": "2025-05-15T16:16:21.543710Z"
    },
    "papermill": {
     "duration": 0.013533,
     "end_time": "2025-05-15T16:16:21.544838",
     "exception": false,
     "start_time": "2025-05-15T16:16:21.531305",
     "status": "completed"
    },
    "tags": []
   },
   "outputs": [
    {
     "data": {
      "text/plain": [
       "{'BAS': 0.360495860607446, 'WF1': 0.5810534446810013}"
      ]
     },
     "execution_count": 26,
     "metadata": {},
     "output_type": "execute_result"
    }
   ],
   "source": [
    "metrics_dict"
   ]
  },
  {
   "cell_type": "code",
   "execution_count": 27,
   "id": "6ba955ac",
   "metadata": {
    "execution": {
     "iopub.execute_input": "2025-05-15T16:16:21.566124Z",
     "iopub.status.busy": "2025-05-15T16:16:21.565663Z",
     "iopub.status.idle": "2025-05-15T16:16:21.574181Z",
     "shell.execute_reply": "2025-05-15T16:16:21.573858Z"
    },
    "papermill": {
     "duration": 0.020944,
     "end_time": "2025-05-15T16:16:21.575158",
     "exception": false,
     "start_time": "2025-05-15T16:16:21.554214",
     "status": "completed"
    },
    "tags": []
   },
   "outputs": [
    {
     "data": {
      "text/html": [
       "<div>\n",
       "<style scoped>\n",
       "    .dataframe tbody tr th:only-of-type {\n",
       "        vertical-align: middle;\n",
       "    }\n",
       "\n",
       "    .dataframe tbody tr th {\n",
       "        vertical-align: top;\n",
       "    }\n",
       "\n",
       "    .dataframe thead th {\n",
       "        text-align: right;\n",
       "    }\n",
       "</style>\n",
       "<table border=\"1\" class=\"dataframe\">\n",
       "  <thead>\n",
       "    <tr style=\"text-align: right;\">\n",
       "      <th></th>\n",
       "      <th>BAS</th>\n",
       "      <th>WF1</th>\n",
       "      <th>split_idx</th>\n",
       "      <th>gene_set_seed</th>\n",
       "      <th>cell_type</th>\n",
       "    </tr>\n",
       "  </thead>\n",
       "  <tbody>\n",
       "    <tr>\n",
       "      <th>0</th>\n",
       "      <td>0.360496</td>\n",
       "      <td>0.581053</td>\n",
       "      <td>1</td>\n",
       "      <td>13</td>\n",
       "      <td>pDC</td>\n",
       "    </tr>\n",
       "  </tbody>\n",
       "</table>\n",
       "</div>"
      ],
      "text/plain": [
       "        BAS       WF1  split_idx  gene_set_seed cell_type\n",
       "0  0.360496  0.581053          1             13       pDC"
      ]
     },
     "execution_count": 27,
     "metadata": {},
     "output_type": "execute_result"
    }
   ],
   "source": [
    "metrics_df = pd.DataFrame.from_dict([metrics_dict]).assign(split_idx=TEST_SPLIT_IDX, gene_set_seed=SEED, cell_type=CELL_TYPE)\n",
    "metrics_df"
   ]
  },
  {
   "cell_type": "code",
   "execution_count": 28,
   "id": "898be6c4",
   "metadata": {
    "execution": {
     "iopub.execute_input": "2025-05-15T16:16:21.597063Z",
     "iopub.status.busy": "2025-05-15T16:16:21.596667Z",
     "iopub.status.idle": "2025-05-15T16:16:21.604327Z",
     "shell.execute_reply": "2025-05-15T16:16:21.603905Z"
    },
    "papermill": {
     "duration": 0.02029,
     "end_time": "2025-05-15T16:16:21.605811",
     "exception": false,
     "start_time": "2025-05-15T16:16:21.585521",
     "status": "completed"
    },
    "tags": []
   },
   "outputs": [],
   "source": [
    "out_dir = here(f'03_downstream_analysis/08_gene_importance/xgboost_external_validation/xgboost_TopN_genes/results_{N_GENES}/metrics')\n",
    "\n",
    "if not os.path.exists(out_dir):\n",
    "    os.makedirs(out_dir)\n",
    "    \n",
    "metrics_df.to_csv(os.path.join(out_dir, f'{CELL_TYPE}_{SEED}_{TEST_SPLIT_IDX}_metrics.zip'))"
   ]
  }
 ],
 "metadata": {
  "kernelspec": {
   "display_name": "Python 3 (ipykernel)",
   "language": "python",
   "name": "python3"
  },
  "language_info": {
   "codemirror_mode": {
    "name": "ipython",
    "version": 3
   },
   "file_extension": ".py",
   "mimetype": "text/x-python",
   "name": "python",
   "nbconvert_exporter": "python",
   "pygments_lexer": "ipython3",
   "version": "3.12.5"
  },
  "papermill": {
   "default_parameters": {},
   "duration": 21.998231,
   "end_time": "2025-05-15T16:16:22.235656",
   "environment_variables": {},
   "exception": null,
   "input_path": "02_xgboost_fitting_external_20genes.ipynb",
   "output_path": "results_20/executed_notebooks/xgboost_fitting_external_CT_pDC_GS_13_seed1.ipynb",
   "parameters": {
    "CELL_TYPE": "pDC",
    "SEED": 13,
    "TEST_SPLIT_IDX": 1
   },
   "start_time": "2025-05-15T16:16:00.237425",
   "version": "2.6.0"
  }
 },
 "nbformat": 4,
 "nbformat_minor": 5
}