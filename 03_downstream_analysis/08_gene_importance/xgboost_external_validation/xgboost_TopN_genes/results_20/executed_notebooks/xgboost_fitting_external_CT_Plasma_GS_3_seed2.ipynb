{
 "cells": [
  {
   "cell_type": "code",
   "execution_count": 1,
   "id": "3ad2c4e1",
   "metadata": {
    "editable": true,
    "execution": {
     "iopub.execute_input": "2025-05-15T16:15:26.504715Z",
     "iopub.status.busy": "2025-05-15T16:15:26.504567Z",
     "iopub.status.idle": "2025-05-15T16:15:26.507737Z",
     "shell.execute_reply": "2025-05-15T16:15:26.507264Z"
    },
    "papermill": {
     "duration": 0.011227,
     "end_time": "2025-05-15T16:15:26.508596",
     "exception": false,
     "start_time": "2025-05-15T16:15:26.497369",
     "status": "completed"
    },
    "slideshow": {
     "slide_type": ""
    },
    "tags": [
     "parameters"
    ]
   },
   "outputs": [],
   "source": [
    "CELL_TYPE = 'pDC'\n",
    "N_GENES: int = 20\n",
    "SEED = 'shap_studyID' #'disease_NOstudy' 'study_NOdisease' or 'int' or 'shap_studyID'\n",
    "TEST_SPLIT_IDX: int = 1 #[0,4]"
   ]
  },
  {
   "cell_type": "code",
   "execution_count": 2,
   "id": "0f675696",
   "metadata": {
    "execution": {
     "iopub.execute_input": "2025-05-15T16:15:26.520722Z",
     "iopub.status.busy": "2025-05-15T16:15:26.520567Z",
     "iopub.status.idle": "2025-05-15T16:15:26.523031Z",
     "shell.execute_reply": "2025-05-15T16:15:26.522664Z"
    },
    "papermill": {
     "duration": 0.009163,
     "end_time": "2025-05-15T16:15:26.523806",
     "exception": false,
     "start_time": "2025-05-15T16:15:26.514643",
     "status": "completed"
    },
    "tags": [
     "injected-parameters"
    ]
   },
   "outputs": [],
   "source": [
    "# Parameters\n",
    "CELL_TYPE = \"Plasma\"\n",
    "SEED = 3\n",
    "TEST_SPLIT_IDX = 2\n"
   ]
  },
  {
   "cell_type": "code",
   "execution_count": 3,
   "id": "19dbe09a",
   "metadata": {
    "execution": {
     "iopub.execute_input": "2025-05-15T16:15:26.535258Z",
     "iopub.status.busy": "2025-05-15T16:15:26.534847Z",
     "iopub.status.idle": "2025-05-15T16:15:26.537014Z",
     "shell.execute_reply": "2025-05-15T16:15:26.536662Z"
    },
    "papermill": {
     "duration": 0.00869,
     "end_time": "2025-05-15T16:15:26.537787",
     "exception": false,
     "start_time": "2025-05-15T16:15:26.529097",
     "status": "completed"
    },
    "tags": []
   },
   "outputs": [],
   "source": [
    "N_SPLITS: int = 5\n",
    "N_TRIALS: int = 50"
   ]
  },
  {
   "cell_type": "code",
   "execution_count": 4,
   "id": "1da534c7",
   "metadata": {
    "execution": {
     "iopub.execute_input": "2025-05-15T16:15:26.550395Z",
     "iopub.status.busy": "2025-05-15T16:15:26.550258Z",
     "iopub.status.idle": "2025-05-15T16:15:28.371530Z",
     "shell.execute_reply": "2025-05-15T16:15:28.371043Z"
    },
    "papermill": {
     "duration": 1.829356,
     "end_time": "2025-05-15T16:15:28.372700",
     "exception": false,
     "start_time": "2025-05-15T16:15:26.543344",
     "status": "completed"
    },
    "tags": []
   },
   "outputs": [],
   "source": [
    "import os\n",
    "import sys\n",
    "from pyprojroot.here import here\n",
    "import pandas as pd\n",
    "import anndata as ad\n",
    "import numpy as np\n",
    "import math\n",
    "from sklearn.model_selection import StratifiedGroupKFold\n",
    "from sklearn.preprocessing import LabelEncoder\n",
    "from sklearn.metrics import f1_score\n",
    "import matplotlib.pyplot as plt\n",
    "import seaborn as sns\n",
    "from itertools import product\n",
    "from sklearn.metrics import balanced_accuracy_score, f1_score\n",
    "import optuna\n",
    "\n",
    "import joblib\n",
    "import pickle\n",
    "import datetime\n",
    "\n",
    "import collections\n",
    "\n",
    "import xgboost\n",
    "from sklearn.preprocessing import LabelEncoder\n",
    "\n",
    "import scipy.sparse as ssp\n",
    "import joblib\n",
    "\n",
    "from dotenv import load_dotenv"
   ]
  },
  {
   "cell_type": "code",
   "execution_count": 5,
   "id": "67cf247b",
   "metadata": {
    "execution": {
     "iopub.execute_input": "2025-05-15T16:15:28.385551Z",
     "iopub.status.busy": "2025-05-15T16:15:28.385242Z",
     "iopub.status.idle": "2025-05-15T16:15:28.390695Z",
     "shell.execute_reply": "2025-05-15T16:15:28.390399Z"
    },
    "papermill": {
     "duration": 0.012583,
     "end_time": "2025-05-15T16:15:28.391474",
     "exception": false,
     "start_time": "2025-05-15T16:15:28.378891",
     "status": "completed"
    },
    "tags": []
   },
   "outputs": [
    {
     "data": {
      "text/plain": [
       "True"
      ]
     },
     "execution_count": 5,
     "metadata": {},
     "output_type": "execute_result"
    }
   ],
   "source": [
    "load_dotenv()"
   ]
  },
  {
   "cell_type": "markdown",
   "id": "8d94d2c8",
   "metadata": {
    "papermill": {
     "duration": 0.010015,
     "end_time": "2025-05-15T16:15:28.406785",
     "exception": false,
     "start_time": "2025-05-15T16:15:28.396770",
     "status": "completed"
    },
    "tags": []
   },
   "source": [
    "# LOAD DATASET"
   ]
  },
  {
   "cell_type": "code",
   "execution_count": 6,
   "id": "3f813ef6",
   "metadata": {
    "execution": {
     "iopub.execute_input": "2025-05-15T16:15:28.418425Z",
     "iopub.status.busy": "2025-05-15T16:15:28.418183Z",
     "iopub.status.idle": "2025-05-15T16:15:28.459586Z",
     "shell.execute_reply": "2025-05-15T16:15:28.459155Z"
    },
    "papermill": {
     "duration": 0.048583,
     "end_time": "2025-05-15T16:15:28.460592",
     "exception": false,
     "start_time": "2025-05-15T16:15:28.412009",
     "status": "completed"
    },
    "tags": []
   },
   "outputs": [],
   "source": [
    "train_adata = ad.read_h5ad(\n",
    "    here(f'03_downstream_analysis/08_gene_importance/xgboost_external_validation/xgboost_TopN_genes/data_cellTypes/EXTERNAL_{CELL_TYPE}.filtered.log1p.h5ad')\n",
    ")"
   ]
  },
  {
   "cell_type": "code",
   "execution_count": 7,
   "id": "3a249054",
   "metadata": {
    "execution": {
     "iopub.execute_input": "2025-05-15T16:15:28.473014Z",
     "iopub.status.busy": "2025-05-15T16:15:28.472826Z",
     "iopub.status.idle": "2025-05-15T16:15:28.482956Z",
     "shell.execute_reply": "2025-05-15T16:15:28.482585Z"
    },
    "papermill": {
     "duration": 0.016985,
     "end_time": "2025-05-15T16:15:28.483776",
     "exception": false,
     "start_time": "2025-05-15T16:15:28.466791",
     "status": "completed"
    },
    "tags": []
   },
   "outputs": [
    {
     "name": "stdout",
     "output_type": "stream",
     "text": [
      "['ENSG00000147168' 'ENSG00000108561' 'ENSG00000198846' 'ENSG00000028137'\n",
      " 'ENSG00000125743' 'ENSG00000149357' 'ENSG00000137331' 'ENSG00000146457'\n",
      " 'ENSG00000078596' 'ENSG00000134539' 'ENSG00000135441' 'ENSG00000121807'\n",
      " 'ENSG00000168811' 'ENSG00000161203' 'ENSG00000197746' 'ENSG00000075426'\n",
      " 'ENSG00000156411' 'ENSG00000157514' 'ENSG00000139514' 'ENSG00000002586'\n",
      " 'ENSG00000163131' 'ENSG00000188313' 'ENSG00000196396' 'ENSG00000076944'\n",
      " 'ENSG00000145850' 'ENSG00000173757' 'ENSG00000123416' 'ENSG00000100368'\n",
      " 'ENSG00000173812' 'ENSG00000105221' 'ENSG00000106605' 'ENSG00000231389'\n",
      " 'ENSG00000167996' 'ENSG00000111348' 'ENSG00000164104' 'ENSG00000204472'\n",
      " 'ENSG00000110876' 'ENSG00000163931' 'ENSG00000116815' 'ENSG00000172349'\n",
      " 'ENSG00000026025' 'ENSG00000068796' 'ENSG00000158050' 'ENSG00000018280'\n",
      " 'ENSG00000182287' 'ENSG00000135821' 'ENSG00000159128' 'ENSG00000105374'\n",
      " 'ENSG00000120837' 'ENSG00000205542' 'ENSG00000275302' 'ENSG00000118971'\n",
      " 'ENSG00000163660' 'ENSG00000143543' 'ENSG00000104964' 'ENSG00000143390'\n",
      " 'ENSG00000179144' 'ENSG00000001167' 'ENSG00000120742' 'ENSG00000081059'\n",
      " 'ENSG00000172531' 'ENSG00000152518' 'ENSG00000240065' 'ENSG00000111716'\n",
      " 'ENSG00000104312' 'ENSG00000197872' 'ENSG00000105397' 'ENSG00000131018'\n",
      " 'ENSG00000101347' 'ENSG00000185436' 'ENSG00000160075' 'ENSG00000183696'\n",
      " 'ENSG00000177663' 'ENSG00000204257' 'ENSG00000092820' 'ENSG00000112137'\n",
      " 'ENSG00000241837' 'ENSG00000104671' 'ENSG00000126267' 'ENSG00000111796'\n",
      " 'ENSG00000198668' 'ENSG00000123358' 'ENSG00000152219' 'ENSG00000175482'\n",
      " 'ENSG00000153283' 'ENSG00000122862' 'ENSG00000172183' 'ENSG00000155380'\n",
      " 'ENSG00000164307' 'ENSG00000116171' 'ENSG00000184007' 'ENSG00000100385'\n",
      " 'ENSG00000143924' 'ENSG00000133872' 'ENSG00000015475' 'ENSG00000129084'\n",
      " 'ENSG00000197329' 'ENSG00000138107' 'ENSG00000126353' 'ENSG00000110077'\n",
      " 'ENSG00000130830' 'ENSG00000130522' 'ENSG00000100393' 'ENSG00000099958'\n",
      " 'ENSG00000240505' 'ENSG00000135968' 'ENSG00000175390']\n"
     ]
    }
   ],
   "source": [
    "if SEED != 'all':\n",
    "    gene_subset = np.load(here(f'03_downstream_analysis/08_gene_importance/xgboost_external_validation/shap_gene_selection/gene_subsets_{N_GENES}/{CELL_TYPE}_{SEED}.npy'), allow_pickle=True)\n",
    "    train_adata = train_adata[:,gene_subset]\n",
    "    print(gene_subset)\n",
    "elif SEED == 'all':\n",
    "    print('Using all genes')\n",
    "else:\n",
    "    raise ValueError()"
   ]
  },
  {
   "cell_type": "code",
   "execution_count": 8,
   "id": "c3a5ef02",
   "metadata": {
    "execution": {
     "iopub.execute_input": "2025-05-15T16:15:28.495897Z",
     "iopub.status.busy": "2025-05-15T16:15:28.495657Z",
     "iopub.status.idle": "2025-05-15T16:15:28.498398Z",
     "shell.execute_reply": "2025-05-15T16:15:28.498110Z"
    },
    "papermill": {
     "duration": 0.009395,
     "end_time": "2025-05-15T16:15:28.499209",
     "exception": false,
     "start_time": "2025-05-15T16:15:28.489814",
     "status": "completed"
    },
    "tags": []
   },
   "outputs": [
    {
     "data": {
      "text/plain": [
       "(542, 107)"
      ]
     },
     "execution_count": 8,
     "metadata": {},
     "output_type": "execute_result"
    }
   ],
   "source": [
    "train_adata.shape"
   ]
  },
  {
   "cell_type": "code",
   "execution_count": 9,
   "id": "97149e50",
   "metadata": {
    "execution": {
     "iopub.execute_input": "2025-05-15T16:15:28.510760Z",
     "iopub.status.busy": "2025-05-15T16:15:28.510385Z",
     "iopub.status.idle": "2025-05-15T16:15:28.513677Z",
     "shell.execute_reply": "2025-05-15T16:15:28.513373Z"
    },
    "papermill": {
     "duration": 0.009668,
     "end_time": "2025-05-15T16:15:28.514436",
     "exception": false,
     "start_time": "2025-05-15T16:15:28.504768",
     "status": "completed"
    },
    "tags": []
   },
   "outputs": [
    {
     "data": {
      "text/plain": [
       "['RA', 'COVID', 'healthy', 'HIV', 'cirrhosis', 'CD', 'SLE', 'sepsis']\n",
       "Categories (8, object): ['CD', 'COVID', 'HIV', 'RA', 'SLE', 'cirrhosis', 'healthy', 'sepsis']"
      ]
     },
     "execution_count": 9,
     "metadata": {},
     "output_type": "execute_result"
    }
   ],
   "source": [
    "train_adata.obs.disease.unique()"
   ]
  },
  {
   "cell_type": "code",
   "execution_count": 10,
   "id": "f7635380",
   "metadata": {
    "execution": {
     "iopub.execute_input": "2025-05-15T16:15:28.526167Z",
     "iopub.status.busy": "2025-05-15T16:15:28.525918Z",
     "iopub.status.idle": "2025-05-15T16:15:28.529213Z",
     "shell.execute_reply": "2025-05-15T16:15:28.528920Z"
    },
    "papermill": {
     "duration": 0.010064,
     "end_time": "2025-05-15T16:15:28.530061",
     "exception": false,
     "start_time": "2025-05-15T16:15:28.519997",
     "status": "completed"
    },
    "tags": []
   },
   "outputs": [
    {
     "data": {
      "text/plain": [
       "['SCGT00val_I0364_T0', 'SCGT00val_I036019_T0', 'SCGT00val_I036028_T0', 'SCGT00val_I036024_T0', 'SCGT00val_I036016_T0', ..., '10XGenomics_10XHC2_T0', '10XGenomics_10XHC3_T0', '10XGenomics_10XHC5_T0', '10XGenomics_10XHC7_T0', '10XGenomics_10XHC8_T0']\n",
       "Length: 74\n",
       "Categories (74, object): ['10XGenomics_10XHC1_T0', '10XGenomics_10XHC2_T0', '10XGenomics_10XHC3_T0', '10XGenomics_10XHC4_T0', ..., 'Savage2021_BRISL6_T0', 'Savage2021_BRISL7_T0', 'Savage2021_PIDA_T0', 'Savage2021_PIDB_T0']"
      ]
     },
     "execution_count": 10,
     "metadata": {},
     "output_type": "execute_result"
    }
   ],
   "source": [
    "train_adata.obs.sampleID.unique()"
   ]
  },
  {
   "cell_type": "code",
   "execution_count": 11,
   "id": "1fb5e63d",
   "metadata": {
    "execution": {
     "iopub.execute_input": "2025-05-15T16:15:28.541662Z",
     "iopub.status.busy": "2025-05-15T16:15:28.541454Z",
     "iopub.status.idle": "2025-05-15T16:15:28.570361Z",
     "shell.execute_reply": "2025-05-15T16:15:28.570062Z"
    },
    "papermill": {
     "duration": 0.035744,
     "end_time": "2025-05-15T16:15:28.571271",
     "exception": false,
     "start_time": "2025-05-15T16:15:28.535527",
     "status": "completed"
    },
    "tags": []
   },
   "outputs": [],
   "source": [
    "all_idxs = np.arange(train_adata.obs.shape[0])\n",
    "left_out_splits = [s[1] for s in StratifiedGroupKFold(n_splits=N_SPLITS).split(all_idxs, train_adata.obs.disease, train_adata.obs.sampleID)]"
   ]
  },
  {
   "cell_type": "code",
   "execution_count": 12,
   "id": "ef466984",
   "metadata": {
    "execution": {
     "iopub.execute_input": "2025-05-15T16:15:28.583842Z",
     "iopub.status.busy": "2025-05-15T16:15:28.583471Z",
     "iopub.status.idle": "2025-05-15T16:15:28.586575Z",
     "shell.execute_reply": "2025-05-15T16:15:28.586279Z"
    },
    "papermill": {
     "duration": 0.010028,
     "end_time": "2025-05-15T16:15:28.587333",
     "exception": false,
     "start_time": "2025-05-15T16:15:28.577305",
     "status": "completed"
    },
    "tags": []
   },
   "outputs": [
    {
     "data": {
      "text/plain": [
       "([0, 1, 4], 3, 2)"
      ]
     },
     "execution_count": 12,
     "metadata": {},
     "output_type": "execute_result"
    }
   ],
   "source": [
    "TRAIN_SPLIT_IDXS = [0,1,2,3,4]\n",
    "VAL_SPLIT_IDX = (TEST_SPLIT_IDX + 1) % 5\n",
    "TRAIN_SPLIT_IDXS.remove(TEST_SPLIT_IDX)\n",
    "TRAIN_SPLIT_IDXS.remove(VAL_SPLIT_IDX)\n",
    "TRAIN_SPLIT_IDXS, VAL_SPLIT_IDX, TEST_SPLIT_IDX"
   ]
  },
  {
   "cell_type": "code",
   "execution_count": 13,
   "id": "f4201ab2",
   "metadata": {
    "execution": {
     "iopub.execute_input": "2025-05-15T16:15:28.599569Z",
     "iopub.status.busy": "2025-05-15T16:15:28.599236Z",
     "iopub.status.idle": "2025-05-15T16:15:28.601426Z",
     "shell.execute_reply": "2025-05-15T16:15:28.601135Z"
    },
    "papermill": {
     "duration": 0.00917,
     "end_time": "2025-05-15T16:15:28.602195",
     "exception": false,
     "start_time": "2025-05-15T16:15:28.593025",
     "status": "completed"
    },
    "tags": []
   },
   "outputs": [],
   "source": [
    "train_idxs = np.concatenate([left_out_splits[idx] for idx in TRAIN_SPLIT_IDXS])\n",
    "val_idxs = left_out_splits[VAL_SPLIT_IDX]\n",
    "test_idxs = left_out_splits[TEST_SPLIT_IDX]"
   ]
  },
  {
   "cell_type": "markdown",
   "id": "a1b1a443",
   "metadata": {
    "papermill": {
     "duration": 0.005579,
     "end_time": "2025-05-15T16:15:28.613570",
     "exception": false,
     "start_time": "2025-05-15T16:15:28.607991",
     "status": "completed"
    },
    "tags": []
   },
   "source": [
    "### SUBSET DATASET INTO TRAIN/TEST/VAL SPLITS"
   ]
  },
  {
   "cell_type": "code",
   "execution_count": 14,
   "id": "5f0879d5",
   "metadata": {
    "execution": {
     "iopub.execute_input": "2025-05-15T16:15:28.626716Z",
     "iopub.status.busy": "2025-05-15T16:15:28.626344Z",
     "iopub.status.idle": "2025-05-15T16:15:28.632143Z",
     "shell.execute_reply": "2025-05-15T16:15:28.631852Z"
    },
    "papermill": {
     "duration": 0.013174,
     "end_time": "2025-05-15T16:15:28.632942",
     "exception": false,
     "start_time": "2025-05-15T16:15:28.619768",
     "status": "completed"
    },
    "tags": []
   },
   "outputs": [
    {
     "data": {
      "text/plain": [
       "((341, 107), (102, 107), (99, 107))"
      ]
     },
     "execution_count": 14,
     "metadata": {},
     "output_type": "execute_result"
    }
   ],
   "source": [
    "X_train = train_adata.X[train_idxs]\n",
    "X_test = train_adata.X[test_idxs]\n",
    "X_val = train_adata.X[val_idxs]\n",
    "X_train.shape, X_test.shape, X_val.shape"
   ]
  },
  {
   "cell_type": "code",
   "execution_count": 15,
   "id": "bf7e8047",
   "metadata": {
    "execution": {
     "iopub.execute_input": "2025-05-15T16:15:28.645413Z",
     "iopub.status.busy": "2025-05-15T16:15:28.645013Z",
     "iopub.status.idle": "2025-05-15T16:15:28.649499Z",
     "shell.execute_reply": "2025-05-15T16:15:28.649214Z"
    },
    "papermill": {
     "duration": 0.011661,
     "end_time": "2025-05-15T16:15:28.650312",
     "exception": false,
     "start_time": "2025-05-15T16:15:28.638651",
     "status": "completed"
    },
    "tags": []
   },
   "outputs": [
    {
     "data": {
      "text/plain": [
       "((341,), (102,), (99,))"
      ]
     },
     "execution_count": 15,
     "metadata": {},
     "output_type": "execute_result"
    }
   ],
   "source": [
    "y_train = train_adata.obs.iloc[train_idxs].disease.values.astype(str)\n",
    "y_test = train_adata.obs.iloc[test_idxs].disease.values.astype(str)\n",
    "y_val = train_adata.obs.iloc[val_idxs].disease.values.astype(str)\n",
    "y_train.shape, y_test.shape, y_val.shape"
   ]
  },
  {
   "cell_type": "code",
   "execution_count": 16,
   "id": "20f77b32",
   "metadata": {
    "execution": {
     "iopub.execute_input": "2025-05-15T16:15:28.662357Z",
     "iopub.status.busy": "2025-05-15T16:15:28.662163Z",
     "iopub.status.idle": "2025-05-15T16:15:28.664712Z",
     "shell.execute_reply": "2025-05-15T16:15:28.664408Z"
    },
    "papermill": {
     "duration": 0.009393,
     "end_time": "2025-05-15T16:15:28.665473",
     "exception": false,
     "start_time": "2025-05-15T16:15:28.656080",
     "status": "completed"
    },
    "tags": []
   },
   "outputs": [],
   "source": [
    "lenc = LabelEncoder()\n",
    "y_train_enc = lenc.fit_transform(y_train)\n",
    "y_val_enc = lenc.transform(y_val)\n",
    "y_test_enc = lenc.transform(y_test)"
   ]
  },
  {
   "cell_type": "markdown",
   "id": "b4178c56",
   "metadata": {
    "papermill": {
     "duration": 0.005494,
     "end_time": "2025-05-15T16:15:28.676952",
     "exception": false,
     "start_time": "2025-05-15T16:15:28.671458",
     "status": "completed"
    },
    "tags": []
   },
   "source": [
    "### GENERATE F1 "
   ]
  },
  {
   "cell_type": "code",
   "execution_count": 17,
   "id": "80e1b2e0",
   "metadata": {
    "execution": {
     "iopub.execute_input": "2025-05-15T16:15:28.688993Z",
     "iopub.status.busy": "2025-05-15T16:15:28.688601Z",
     "iopub.status.idle": "2025-05-15T16:15:28.690816Z",
     "shell.execute_reply": "2025-05-15T16:15:28.690530Z"
    },
    "papermill": {
     "duration": 0.009018,
     "end_time": "2025-05-15T16:15:28.691597",
     "exception": false,
     "start_time": "2025-05-15T16:15:28.682579",
     "status": "completed"
    },
    "tags": []
   },
   "outputs": [],
   "source": [
    "def custom_f1_score(y_true, y_pred):\n",
    "    return -f1_score(y_true, y_pred.argmax(1), average='weighted')"
   ]
  },
  {
   "cell_type": "code",
   "execution_count": 18,
   "id": "0a8e7884",
   "metadata": {
    "execution": {
     "iopub.execute_input": "2025-05-15T16:15:28.704064Z",
     "iopub.status.busy": "2025-05-15T16:15:28.703718Z",
     "iopub.status.idle": "2025-05-15T16:15:28.707223Z",
     "shell.execute_reply": "2025-05-15T16:15:28.706936Z"
    },
    "papermill": {
     "duration": 0.01061,
     "end_time": "2025-05-15T16:15:28.707993",
     "exception": false,
     "start_time": "2025-05-15T16:15:28.697383",
     "status": "completed"
    },
    "tags": []
   },
   "outputs": [],
   "source": [
    "eval_metric=custom_f1_score\n",
    "eval_metric_name='custom_f1_score'\n",
    "\n",
    "def objective(trial):\n",
    "    params = {\n",
    "        'n_estimators': 1500,\n",
    "        'max_depth': trial.suggest_int('max_depth', 3, 20),\n",
    "        'min_child_weight': trial.suggest_int('min_child_weight', 1, 250),\n",
    "        'subsample': trial.suggest_float('subsample', 0.1, 1.0),\n",
    "        'colsample_bynode': trial.suggest_float('colsample_bynode', 0.1, 1.0),\n",
    "        'learning_rate': trial.suggest_float('learning_rate', 1e-3, 5e-1, log=True),\n",
    "    }\n",
    "    pruning_callback = optuna.integration.XGBoostPruningCallback(trial, f'validation_0-{eval_metric_name}')\n",
    "    es_callback = xgboost.callback.EarlyStopping(20, min_delta=0.001)\n",
    "    xgb = xgboost.XGBClassifier(\n",
    "        eval_metric=eval_metric,\n",
    "        callbacks=[pruning_callback, es_callback],\n",
    "        n_jobs=5,\n",
    "        **params\n",
    "    )\n",
    "    xgb.fit(\n",
    "        X_train, \n",
    "        y_train_enc, \n",
    "        verbose=0,\n",
    "        eval_set=[(X_val, y_val_enc)],\n",
    "    )\n",
    "    trial.set_user_attr('best_iteration', xgb.best_iteration)\n",
    "\n",
    "    return xgb.best_score"
   ]
  },
  {
   "cell_type": "code",
   "execution_count": 19,
   "id": "6d90f2d0",
   "metadata": {
    "execution": {
     "iopub.execute_input": "2025-05-15T16:15:28.720721Z",
     "iopub.status.busy": "2025-05-15T16:15:28.720547Z",
     "iopub.status.idle": "2025-05-15T16:15:56.652339Z",
     "shell.execute_reply": "2025-05-15T16:15:56.651948Z"
    },
    "papermill": {
     "duration": 27.939141,
     "end_time": "2025-05-15T16:15:56.653267",
     "exception": false,
     "start_time": "2025-05-15T16:15:28.714126",
     "status": "completed"
    },
    "scrolled": true,
    "tags": []
   },
   "outputs": [
    {
     "name": "stderr",
     "output_type": "stream",
     "text": [
      "[I 2025-05-15 18:15:28,722] A new study created in memory with name: no-name-aa10db85-b129-428a-b256-29d556bc3003\n"
     ]
    },
    {
     "name": "stderr",
     "output_type": "stream",
     "text": [
      "[I 2025-05-15 18:15:45,599] Trial 0 finished with value: -0.022222 and parameters: {'max_depth': 9, 'min_child_weight': 238, 'subsample': 0.7587945476302645, 'colsample_bynode': 0.6387926357773329, 'learning_rate': 0.0026368755339723046}. Best is trial 0 with value: -0.022222.\n"
     ]
    },
    {
     "name": "stderr",
     "output_type": "stream",
     "text": [
      "[I 2025-05-15 18:15:46,649] Trial 1 finished with value: -0.553191 and parameters: {'max_depth': 5, 'min_child_weight': 15, 'subsample': 0.8795585311974417, 'colsample_bynode': 0.6410035105688879, 'learning_rate': 0.08148293210105287}. Best is trial 1 with value: -0.553191.\n"
     ]
    },
    {
     "name": "stderr",
     "output_type": "stream",
     "text": [
      "[I 2025-05-15 18:15:46,776] Trial 2 finished with value: -0.022222 and parameters: {'max_depth': 3, 'min_child_weight': 243, 'subsample': 0.8491983767203796, 'colsample_bynode': 0.29110519961044856, 'learning_rate': 0.003095566460242371}. Best is trial 1 with value: -0.553191.\n"
     ]
    },
    {
     "name": "stderr",
     "output_type": "stream",
     "text": [
      "[I 2025-05-15 18:15:46,905] Trial 3 finished with value: -0.022222 and parameters: {'max_depth': 6, 'min_child_weight': 77, 'subsample': 0.5722807884690141, 'colsample_bynode': 0.48875051677790415, 'learning_rate': 0.006109683510122491}. Best is trial 1 with value: -0.553191.\n"
     ]
    },
    {
     "name": "stderr",
     "output_type": "stream",
     "text": [
      "[I 2025-05-15 18:15:47,032] Trial 4 finished with value: -0.022222 and parameters: {'max_depth': 14, 'min_child_weight': 35, 'subsample': 0.3629301836816964, 'colsample_bynode': 0.4297256589643226, 'learning_rate': 0.01701841881702917}. Best is trial 1 with value: -0.553191.\n"
     ]
    },
    {
     "name": "stderr",
     "output_type": "stream",
     "text": [
      "[I 2025-05-15 18:15:47,164] Trial 5 finished with value: -0.022222 and parameters: {'max_depth': 17, 'min_child_weight': 50, 'subsample': 0.5628109945722505, 'colsample_bynode': 0.6331731119758383, 'learning_rate': 0.0013346527038305934}. Best is trial 1 with value: -0.553191.\n"
     ]
    },
    {
     "name": "stderr",
     "output_type": "stream",
     "text": [
      "[I 2025-05-15 18:15:47,301] Trial 6 finished with value: -0.022222 and parameters: {'max_depth': 13, 'min_child_weight': 43, 'subsample': 0.1585464336867516, 'colsample_bynode': 0.9539969835279999, 'learning_rate': 0.4038423798071558}. Best is trial 1 with value: -0.553191.\n"
     ]
    },
    {
     "name": "stderr",
     "output_type": "stream",
     "text": [
      "[I 2025-05-15 18:15:47,438] Trial 7 finished with value: -0.022222 and parameters: {'max_depth': 17, 'min_child_weight': 77, 'subsample': 0.1879049026057455, 'colsample_bynode': 0.7158097238609412, 'learning_rate': 0.015415527060141935}. Best is trial 1 with value: -0.553191.\n"
     ]
    },
    {
     "name": "stderr",
     "output_type": "stream",
     "text": [
      "[I 2025-05-15 18:15:47,574] Trial 8 finished with value: -0.022222 and parameters: {'max_depth': 5, 'min_child_weight': 124, 'subsample': 0.13094966900369656, 'colsample_bynode': 0.9183883618709039, 'learning_rate': 0.004993895014755658}. Best is trial 1 with value: -0.553191.\n"
     ]
    },
    {
     "name": "stderr",
     "output_type": "stream",
     "text": [
      "[I 2025-05-15 18:15:47,710] Trial 9 finished with value: -0.022222 and parameters: {'max_depth': 14, 'min_child_weight': 78, 'subsample': 0.5680612190600297, 'colsample_bynode': 0.5920392514089517, 'learning_rate': 0.0031543990308330965}. Best is trial 1 with value: -0.553191.\n"
     ]
    },
    {
     "name": "stderr",
     "output_type": "stream",
     "text": [
      "[I 2025-05-15 18:15:48,054] Trial 10 finished with value: -0.591466 and parameters: {'max_depth': 9, 'min_child_weight': 2, 'subsample': 0.9725833997090791, 'colsample_bynode': 0.11616568805333755, 'learning_rate': 0.17780618353487967}. Best is trial 10 with value: -0.591466.\n"
     ]
    },
    {
     "name": "stderr",
     "output_type": "stream",
     "text": [
      "[I 2025-05-15 18:15:48,608] Trial 11 finished with value: -0.628836 and parameters: {'max_depth': 9, 'min_child_weight': 4, 'subsample': 0.9818290990185045, 'colsample_bynode': 0.17702656156719, 'learning_rate': 0.11568531411766632}. Best is trial 11 with value: -0.628836.\n"
     ]
    },
    {
     "name": "stderr",
     "output_type": "stream",
     "text": [
      "[I 2025-05-15 18:15:48,947] Trial 12 finished with value: -0.593821 and parameters: {'max_depth': 9, 'min_child_weight': 2, 'subsample': 0.9762317723681219, 'colsample_bynode': 0.1303670507685675, 'learning_rate': 0.14353293664472047}. Best is trial 11 with value: -0.628836.\n"
     ]
    },
    {
     "name": "stderr",
     "output_type": "stream",
     "text": [
      "[I 2025-05-15 18:15:49,093] Trial 13 finished with value: -0.022222 and parameters: {'max_depth': 10, 'min_child_weight': 173, 'subsample': 0.9983199992874873, 'colsample_bynode': 0.10704152171942566, 'learning_rate': 0.05919442728092993}. Best is trial 11 with value: -0.628836.\n"
     ]
    },
    {
     "name": "stderr",
     "output_type": "stream",
     "text": [
      "[I 2025-05-15 18:15:49,237] Trial 14 finished with value: -0.022222 and parameters: {'max_depth': 7, 'min_child_weight': 127, 'subsample': 0.7205729667945842, 'colsample_bynode': 0.2618040655423697, 'learning_rate': 0.049429871639666105}. Best is trial 11 with value: -0.628836.\n"
     ]
    },
    {
     "name": "stderr",
     "output_type": "stream",
     "text": [
      "[I 2025-05-15 18:15:49,591] Trial 15 finished with value: -0.637795 and parameters: {'max_depth': 20, 'min_child_weight': 1, 'subsample': 0.7300199336663715, 'colsample_bynode': 0.2687793682900305, 'learning_rate': 0.46839194821741}. Best is trial 15 with value: -0.637795.\n"
     ]
    },
    {
     "name": "stderr",
     "output_type": "stream",
     "text": [
      "[I 2025-05-15 18:15:49,741] Trial 16 finished with value: -0.022222 and parameters: {'max_depth': 20, 'min_child_weight': 116, 'subsample': 0.6730263351162008, 'colsample_bynode': 0.30980388065172204, 'learning_rate': 0.49216618465218137}. Best is trial 15 with value: -0.637795.\n"
     ]
    },
    {
     "name": "stderr",
     "output_type": "stream",
     "text": [
      "[I 2025-05-15 18:15:49,888] Trial 17 finished with value: -0.022222 and parameters: {'max_depth': 20, 'min_child_weight': 183, 'subsample': 0.37310167079970213, 'colsample_bynode': 0.38835173273745516, 'learning_rate': 0.224845788871819}. Best is trial 15 with value: -0.637795.\n"
     ]
    },
    {
     "name": "stderr",
     "output_type": "stream",
     "text": [
      "[I 2025-05-15 18:15:50,036] Trial 18 pruned. Trial was pruned at iteration 21.\n"
     ]
    },
    {
     "name": "stderr",
     "output_type": "stream",
     "text": [
      "[I 2025-05-15 18:15:50,184] Trial 19 finished with value: -0.022222 and parameters: {'max_depth': 17, 'min_child_weight': 99, 'subsample': 0.6724862681211705, 'colsample_bynode': 0.21504189185437605, 'learning_rate': 0.273575903558848}. Best is trial 15 with value: -0.637795.\n"
     ]
    },
    {
     "name": "stderr",
     "output_type": "stream",
     "text": [
      "[I 2025-05-15 18:15:50,342] Trial 20 pruned. Trial was pruned at iteration 21.\n"
     ]
    },
    {
     "name": "stderr",
     "output_type": "stream",
     "text": [
      "[I 2025-05-15 18:15:50,916] Trial 21 pruned. Trial was pruned at iteration 50.\n"
     ]
    },
    {
     "name": "stderr",
     "output_type": "stream",
     "text": [
      "[I 2025-05-15 18:15:51,068] Trial 22 pruned. Trial was pruned at iteration 21.\n"
     ]
    },
    {
     "name": "stderr",
     "output_type": "stream",
     "text": [
      "[I 2025-05-15 18:15:51,332] Trial 23 pruned. Trial was pruned at iteration 43.\n"
     ]
    },
    {
     "name": "stderr",
     "output_type": "stream",
     "text": [
      "[I 2025-05-15 18:15:51,481] Trial 24 finished with value: -0.166667 and parameters: {'max_depth': 8, 'min_child_weight': 61, 'subsample': 0.9153877188129658, 'colsample_bynode': 0.1213053354388553, 'learning_rate': 0.035905133041901835}. Best is trial 15 with value: -0.637795.\n"
     ]
    },
    {
     "name": "stderr",
     "output_type": "stream",
     "text": [
      "[I 2025-05-15 18:15:51,868] Trial 25 finished with value: -0.586653 and parameters: {'max_depth': 3, 'min_child_weight': 2, 'subsample': 0.6609230442833429, 'colsample_bynode': 0.8368811542739161, 'learning_rate': 0.08052202950762004}. Best is trial 15 with value: -0.637795.\n"
     ]
    },
    {
     "name": "stderr",
     "output_type": "stream",
     "text": [
      "[I 2025-05-15 18:15:52,031] Trial 26 pruned. Trial was pruned at iteration 21.\n"
     ]
    },
    {
     "name": "stderr",
     "output_type": "stream",
     "text": [
      "[I 2025-05-15 18:15:52,181] Trial 27 finished with value: -0.022222 and parameters: {'max_depth': 12, 'min_child_weight': 172, 'subsample': 0.9878355699832455, 'colsample_bynode': 0.21638963725749938, 'learning_rate': 0.24298939546043904}. Best is trial 15 with value: -0.637795.\n"
     ]
    },
    {
     "name": "stderr",
     "output_type": "stream",
     "text": [
      "[I 2025-05-15 18:15:52,328] Trial 28 finished with value: -0.022222 and parameters: {'max_depth': 7, 'min_child_weight': 207, 'subsample': 0.4856935111294972, 'colsample_bynode': 0.2561006073403286, 'learning_rate': 0.10020465848382586}. Best is trial 15 with value: -0.637795.\n"
     ]
    },
    {
     "name": "stderr",
     "output_type": "stream",
     "text": [
      "[I 2025-05-15 18:15:52,507] Trial 29 pruned. Trial was pruned at iteration 21.\n"
     ]
    },
    {
     "name": "stderr",
     "output_type": "stream",
     "text": [
      "[I 2025-05-15 18:15:52,672] Trial 30 finished with value: -0.022222 and parameters: {'max_depth': 16, 'min_child_weight': 150, 'subsample': 0.9121885560268579, 'colsample_bynode': 0.531730752336086, 'learning_rate': 0.1461994649040996}. Best is trial 15 with value: -0.637795.\n"
     ]
    },
    {
     "name": "stderr",
     "output_type": "stream",
     "text": [
      "[I 2025-05-15 18:15:53,056] Trial 31 finished with value: -0.635819 and parameters: {'max_depth': 9, 'min_child_weight': 4, 'subsample': 0.962107286472606, 'colsample_bynode': 0.1470391845830329, 'learning_rate': 0.1640287395246375}. Best is trial 15 with value: -0.637795.\n"
     ]
    },
    {
     "name": "stderr",
     "output_type": "stream",
     "text": [
      "[I 2025-05-15 18:15:53,262] Trial 32 pruned. Trial was pruned at iteration 21.\n"
     ]
    },
    {
     "name": "stderr",
     "output_type": "stream",
     "text": [
      "[I 2025-05-15 18:15:53,428] Trial 33 pruned. Trial was pruned at iteration 21.\n"
     ]
    },
    {
     "name": "stderr",
     "output_type": "stream",
     "text": [
      "[I 2025-05-15 18:15:53,584] Trial 34 finished with value: -0.166667 and parameters: {'max_depth': 5, 'min_child_weight': 63, 'subsample': 0.934326063788364, 'colsample_bynode': 0.33200688073413476, 'learning_rate': 0.08957869593301535}. Best is trial 15 with value: -0.637795.\n"
     ]
    },
    {
     "name": "stderr",
     "output_type": "stream",
     "text": [
      "[I 2025-05-15 18:15:53,776] Trial 35 pruned. Trial was pruned at iteration 21.\n"
     ]
    },
    {
     "name": "stderr",
     "output_type": "stream",
     "text": [
      "[I 2025-05-15 18:15:53,931] Trial 36 pruned. Trial was pruned at iteration 21.\n"
     ]
    },
    {
     "name": "stderr",
     "output_type": "stream",
     "text": [
      "[I 2025-05-15 18:15:54,325] Trial 37 finished with value: -0.64026 and parameters: {'max_depth': 13, 'min_child_weight': 1, 'subsample': 0.6246815701271736, 'colsample_bynode': 0.14253796101639335, 'learning_rate': 0.33254237912147394}. Best is trial 37 with value: -0.64026.\n"
     ]
    },
    {
     "name": "stderr",
     "output_type": "stream",
     "text": [
      "[I 2025-05-15 18:15:54,477] Trial 38 pruned. Trial was pruned at iteration 21.\n"
     ]
    },
    {
     "name": "stderr",
     "output_type": "stream",
     "text": [
      "[I 2025-05-15 18:15:54,628] Trial 39 finished with value: -0.022222 and parameters: {'max_depth': 19, 'min_child_weight': 87, 'subsample': 0.6183536529214273, 'colsample_bynode': 0.6986571664833517, 'learning_rate': 0.06877852426775347}. Best is trial 37 with value: -0.64026.\n"
     ]
    },
    {
     "name": "stderr",
     "output_type": "stream",
     "text": [
      "[I 2025-05-15 18:15:54,781] Trial 40 finished with value: -0.022222 and parameters: {'max_depth': 4, 'min_child_weight': 218, 'subsample': 0.6135397358527036, 'colsample_bynode': 0.27357415611147423, 'learning_rate': 0.3530189501538447}. Best is trial 37 with value: -0.64026.\n"
     ]
    },
    {
     "name": "stderr",
     "output_type": "stream",
     "text": [
      "[I 2025-05-15 18:15:54,938] Trial 41 pruned. Trial was pruned at iteration 21.\n"
     ]
    },
    {
     "name": "stderr",
     "output_type": "stream",
     "text": [
      "[I 2025-05-15 18:15:55,194] Trial 42 pruned. Trial was pruned at iteration 21.\n"
     ]
    },
    {
     "name": "stderr",
     "output_type": "stream",
     "text": [
      "[I 2025-05-15 18:15:55,360] Trial 43 pruned. Trial was pruned at iteration 21.\n"
     ]
    },
    {
     "name": "stderr",
     "output_type": "stream",
     "text": [
      "[I 2025-05-15 18:15:55,741] Trial 44 finished with value: -0.654603 and parameters: {'max_depth': 10, 'min_child_weight': 11, 'subsample': 0.8304382235639749, 'colsample_bynode': 0.14762051884252497, 'learning_rate': 0.17645109506735435}. Best is trial 44 with value: -0.654603.\n"
     ]
    },
    {
     "name": "stderr",
     "output_type": "stream",
     "text": [
      "[I 2025-05-15 18:15:55,939] Trial 45 pruned. Trial was pruned at iteration 21.\n"
     ]
    },
    {
     "name": "stderr",
     "output_type": "stream",
     "text": [
      "[I 2025-05-15 18:15:56,110] Trial 46 finished with value: -0.449207 and parameters: {'max_depth': 10, 'min_child_weight': 27, 'subsample': 0.8863361551251485, 'colsample_bynode': 0.34267856652549866, 'learning_rate': 0.0017640765324178564}. Best is trial 44 with value: -0.654603.\n"
     ]
    },
    {
     "name": "stderr",
     "output_type": "stream",
     "text": [
      "[I 2025-05-15 18:15:56,256] Trial 47 finished with value: -0.166667 and parameters: {'max_depth': 14, 'min_child_weight': 53, 'subsample': 0.761322315998286, 'colsample_bynode': 0.14284809778177, 'learning_rate': 0.12018601699099894}. Best is trial 44 with value: -0.654603.\n"
     ]
    },
    {
     "name": "stderr",
     "output_type": "stream",
     "text": [
      "[I 2025-05-15 18:15:56,412] Trial 48 finished with value: -0.022222 and parameters: {'max_depth': 18, 'min_child_weight': 70, 'subsample': 0.7061725461071968, 'colsample_bynode': 0.293302891528181, 'learning_rate': 0.38980774267057383}. Best is trial 44 with value: -0.654603.\n"
     ]
    },
    {
     "name": "stderr",
     "output_type": "stream",
     "text": [
      "[I 2025-05-15 18:15:56,578] Trial 49 pruned. Trial was pruned at iteration 21.\n"
     ]
    }
   ],
   "source": [
    "sampler = optuna.samplers.TPESampler(seed=42)\n",
    "study = optuna.create_study(direction='minimize', sampler=sampler)\n",
    "study.optimize(objective, n_trials=N_TRIALS, gc_after_trial=True)"
   ]
  },
  {
   "cell_type": "code",
   "execution_count": 20,
   "id": "1b4f7aa5",
   "metadata": {
    "execution": {
     "iopub.execute_input": "2025-05-15T16:15:56.681245Z",
     "iopub.status.busy": "2025-05-15T16:15:56.681061Z",
     "iopub.status.idle": "2025-05-15T16:15:56.703610Z",
     "shell.execute_reply": "2025-05-15T16:15:56.703279Z"
    },
    "papermill": {
     "duration": 0.031945,
     "end_time": "2025-05-15T16:15:56.704468",
     "exception": false,
     "start_time": "2025-05-15T16:15:56.672523",
     "status": "completed"
    },
    "tags": []
   },
   "outputs": [
    {
     "data": {
      "text/plain": [
       "['/scratch_isilon/groups/singlecell/shared/projects/Inflammation-PBMCs-Atlas/03_downstream_analysis/08_gene_importance/xgboost_external_validation/xgboost_TopN_genes/results_20/study/Plasma_3_2_xgboost.pkl']"
      ]
     },
     "execution_count": 20,
     "metadata": {},
     "output_type": "execute_result"
    }
   ],
   "source": [
    "out_dir = here(f'03_downstream_analysis/08_gene_importance/xgboost_external_validation/xgboost_TopN_genes/results_{N_GENES}/study')\n",
    "\n",
    "if not os.path.exists(out_dir):\n",
    "    os.makedirs(out_dir)\n",
    "    \n",
    "joblib.dump(study,os.path.join(out_dir, f'{CELL_TYPE}_{SEED}_{TEST_SPLIT_IDX}_xgboost.pkl'))"
   ]
  },
  {
   "cell_type": "code",
   "execution_count": 21,
   "id": "990bdf9a",
   "metadata": {
    "execution": {
     "iopub.execute_input": "2025-05-15T16:15:56.720774Z",
     "iopub.status.busy": "2025-05-15T16:15:56.720607Z",
     "iopub.status.idle": "2025-05-15T16:15:56.948185Z",
     "shell.execute_reply": "2025-05-15T16:15:56.947776Z"
    },
    "papermill": {
     "duration": 0.236802,
     "end_time": "2025-05-15T16:15:56.949176",
     "exception": false,
     "start_time": "2025-05-15T16:15:56.712374",
     "status": "completed"
    },
    "tags": []
   },
   "outputs": [
    {
     "data": {
      "text/html": [
       "<style>#sk-container-id-1 {\n",
       "  /* Definition of color scheme common for light and dark mode */\n",
       "  --sklearn-color-text: black;\n",
       "  --sklearn-color-line: gray;\n",
       "  /* Definition of color scheme for unfitted estimators */\n",
       "  --sklearn-color-unfitted-level-0: #fff5e6;\n",
       "  --sklearn-color-unfitted-level-1: #f6e4d2;\n",
       "  --sklearn-color-unfitted-level-2: #ffe0b3;\n",
       "  --sklearn-color-unfitted-level-3: chocolate;\n",
       "  /* Definition of color scheme for fitted estimators */\n",
       "  --sklearn-color-fitted-level-0: #f0f8ff;\n",
       "  --sklearn-color-fitted-level-1: #d4ebff;\n",
       "  --sklearn-color-fitted-level-2: #b3dbfd;\n",
       "  --sklearn-color-fitted-level-3: cornflowerblue;\n",
       "\n",
       "  /* Specific color for light theme */\n",
       "  --sklearn-color-text-on-default-background: var(--sg-text-color, var(--theme-code-foreground, var(--jp-content-font-color1, black)));\n",
       "  --sklearn-color-background: var(--sg-background-color, var(--theme-background, var(--jp-layout-color0, white)));\n",
       "  --sklearn-color-border-box: var(--sg-text-color, var(--theme-code-foreground, var(--jp-content-font-color1, black)));\n",
       "  --sklearn-color-icon: #696969;\n",
       "\n",
       "  @media (prefers-color-scheme: dark) {\n",
       "    /* Redefinition of color scheme for dark theme */\n",
       "    --sklearn-color-text-on-default-background: var(--sg-text-color, var(--theme-code-foreground, var(--jp-content-font-color1, white)));\n",
       "    --sklearn-color-background: var(--sg-background-color, var(--theme-background, var(--jp-layout-color0, #111)));\n",
       "    --sklearn-color-border-box: var(--sg-text-color, var(--theme-code-foreground, var(--jp-content-font-color1, white)));\n",
       "    --sklearn-color-icon: #878787;\n",
       "  }\n",
       "}\n",
       "\n",
       "#sk-container-id-1 {\n",
       "  color: var(--sklearn-color-text);\n",
       "}\n",
       "\n",
       "#sk-container-id-1 pre {\n",
       "  padding: 0;\n",
       "}\n",
       "\n",
       "#sk-container-id-1 input.sk-hidden--visually {\n",
       "  border: 0;\n",
       "  clip: rect(1px 1px 1px 1px);\n",
       "  clip: rect(1px, 1px, 1px, 1px);\n",
       "  height: 1px;\n",
       "  margin: -1px;\n",
       "  overflow: hidden;\n",
       "  padding: 0;\n",
       "  position: absolute;\n",
       "  width: 1px;\n",
       "}\n",
       "\n",
       "#sk-container-id-1 div.sk-dashed-wrapped {\n",
       "  border: 1px dashed var(--sklearn-color-line);\n",
       "  margin: 0 0.4em 0.5em 0.4em;\n",
       "  box-sizing: border-box;\n",
       "  padding-bottom: 0.4em;\n",
       "  background-color: var(--sklearn-color-background);\n",
       "}\n",
       "\n",
       "#sk-container-id-1 div.sk-container {\n",
       "  /* jupyter's `normalize.less` sets `[hidden] { display: none; }`\n",
       "     but bootstrap.min.css set `[hidden] { display: none !important; }`\n",
       "     so we also need the `!important` here to be able to override the\n",
       "     default hidden behavior on the sphinx rendered scikit-learn.org.\n",
       "     See: https://github.com/scikit-learn/scikit-learn/issues/21755 */\n",
       "  display: inline-block !important;\n",
       "  position: relative;\n",
       "}\n",
       "\n",
       "#sk-container-id-1 div.sk-text-repr-fallback {\n",
       "  display: none;\n",
       "}\n",
       "\n",
       "div.sk-parallel-item,\n",
       "div.sk-serial,\n",
       "div.sk-item {\n",
       "  /* draw centered vertical line to link estimators */\n",
       "  background-image: linear-gradient(var(--sklearn-color-text-on-default-background), var(--sklearn-color-text-on-default-background));\n",
       "  background-size: 2px 100%;\n",
       "  background-repeat: no-repeat;\n",
       "  background-position: center center;\n",
       "}\n",
       "\n",
       "/* Parallel-specific style estimator block */\n",
       "\n",
       "#sk-container-id-1 div.sk-parallel-item::after {\n",
       "  content: \"\";\n",
       "  width: 100%;\n",
       "  border-bottom: 2px solid var(--sklearn-color-text-on-default-background);\n",
       "  flex-grow: 1;\n",
       "}\n",
       "\n",
       "#sk-container-id-1 div.sk-parallel {\n",
       "  display: flex;\n",
       "  align-items: stretch;\n",
       "  justify-content: center;\n",
       "  background-color: var(--sklearn-color-background);\n",
       "  position: relative;\n",
       "}\n",
       "\n",
       "#sk-container-id-1 div.sk-parallel-item {\n",
       "  display: flex;\n",
       "  flex-direction: column;\n",
       "}\n",
       "\n",
       "#sk-container-id-1 div.sk-parallel-item:first-child::after {\n",
       "  align-self: flex-end;\n",
       "  width: 50%;\n",
       "}\n",
       "\n",
       "#sk-container-id-1 div.sk-parallel-item:last-child::after {\n",
       "  align-self: flex-start;\n",
       "  width: 50%;\n",
       "}\n",
       "\n",
       "#sk-container-id-1 div.sk-parallel-item:only-child::after {\n",
       "  width: 0;\n",
       "}\n",
       "\n",
       "/* Serial-specific style estimator block */\n",
       "\n",
       "#sk-container-id-1 div.sk-serial {\n",
       "  display: flex;\n",
       "  flex-direction: column;\n",
       "  align-items: center;\n",
       "  background-color: var(--sklearn-color-background);\n",
       "  padding-right: 1em;\n",
       "  padding-left: 1em;\n",
       "}\n",
       "\n",
       "\n",
       "/* Toggleable style: style used for estimator/Pipeline/ColumnTransformer box that is\n",
       "clickable and can be expanded/collapsed.\n",
       "- Pipeline and ColumnTransformer use this feature and define the default style\n",
       "- Estimators will overwrite some part of the style using the `sk-estimator` class\n",
       "*/\n",
       "\n",
       "/* Pipeline and ColumnTransformer style (default) */\n",
       "\n",
       "#sk-container-id-1 div.sk-toggleable {\n",
       "  /* Default theme specific background. It is overwritten whether we have a\n",
       "  specific estimator or a Pipeline/ColumnTransformer */\n",
       "  background-color: var(--sklearn-color-background);\n",
       "}\n",
       "\n",
       "/* Toggleable label */\n",
       "#sk-container-id-1 label.sk-toggleable__label {\n",
       "  cursor: pointer;\n",
       "  display: block;\n",
       "  width: 100%;\n",
       "  margin-bottom: 0;\n",
       "  padding: 0.5em;\n",
       "  box-sizing: border-box;\n",
       "  text-align: center;\n",
       "}\n",
       "\n",
       "#sk-container-id-1 label.sk-toggleable__label-arrow:before {\n",
       "  /* Arrow on the left of the label */\n",
       "  content: \"▸\";\n",
       "  float: left;\n",
       "  margin-right: 0.25em;\n",
       "  color: var(--sklearn-color-icon);\n",
       "}\n",
       "\n",
       "#sk-container-id-1 label.sk-toggleable__label-arrow:hover:before {\n",
       "  color: var(--sklearn-color-text);\n",
       "}\n",
       "\n",
       "/* Toggleable content - dropdown */\n",
       "\n",
       "#sk-container-id-1 div.sk-toggleable__content {\n",
       "  max-height: 0;\n",
       "  max-width: 0;\n",
       "  overflow: hidden;\n",
       "  text-align: left;\n",
       "  /* unfitted */\n",
       "  background-color: var(--sklearn-color-unfitted-level-0);\n",
       "}\n",
       "\n",
       "#sk-container-id-1 div.sk-toggleable__content.fitted {\n",
       "  /* fitted */\n",
       "  background-color: var(--sklearn-color-fitted-level-0);\n",
       "}\n",
       "\n",
       "#sk-container-id-1 div.sk-toggleable__content pre {\n",
       "  margin: 0.2em;\n",
       "  border-radius: 0.25em;\n",
       "  color: var(--sklearn-color-text);\n",
       "  /* unfitted */\n",
       "  background-color: var(--sklearn-color-unfitted-level-0);\n",
       "}\n",
       "\n",
       "#sk-container-id-1 div.sk-toggleable__content.fitted pre {\n",
       "  /* unfitted */\n",
       "  background-color: var(--sklearn-color-fitted-level-0);\n",
       "}\n",
       "\n",
       "#sk-container-id-1 input.sk-toggleable__control:checked~div.sk-toggleable__content {\n",
       "  /* Expand drop-down */\n",
       "  max-height: 200px;\n",
       "  max-width: 100%;\n",
       "  overflow: auto;\n",
       "}\n",
       "\n",
       "#sk-container-id-1 input.sk-toggleable__control:checked~label.sk-toggleable__label-arrow:before {\n",
       "  content: \"▾\";\n",
       "}\n",
       "\n",
       "/* Pipeline/ColumnTransformer-specific style */\n",
       "\n",
       "#sk-container-id-1 div.sk-label input.sk-toggleable__control:checked~label.sk-toggleable__label {\n",
       "  color: var(--sklearn-color-text);\n",
       "  background-color: var(--sklearn-color-unfitted-level-2);\n",
       "}\n",
       "\n",
       "#sk-container-id-1 div.sk-label.fitted input.sk-toggleable__control:checked~label.sk-toggleable__label {\n",
       "  background-color: var(--sklearn-color-fitted-level-2);\n",
       "}\n",
       "\n",
       "/* Estimator-specific style */\n",
       "\n",
       "/* Colorize estimator box */\n",
       "#sk-container-id-1 div.sk-estimator input.sk-toggleable__control:checked~label.sk-toggleable__label {\n",
       "  /* unfitted */\n",
       "  background-color: var(--sklearn-color-unfitted-level-2);\n",
       "}\n",
       "\n",
       "#sk-container-id-1 div.sk-estimator.fitted input.sk-toggleable__control:checked~label.sk-toggleable__label {\n",
       "  /* fitted */\n",
       "  background-color: var(--sklearn-color-fitted-level-2);\n",
       "}\n",
       "\n",
       "#sk-container-id-1 div.sk-label label.sk-toggleable__label,\n",
       "#sk-container-id-1 div.sk-label label {\n",
       "  /* The background is the default theme color */\n",
       "  color: var(--sklearn-color-text-on-default-background);\n",
       "}\n",
       "\n",
       "/* On hover, darken the color of the background */\n",
       "#sk-container-id-1 div.sk-label:hover label.sk-toggleable__label {\n",
       "  color: var(--sklearn-color-text);\n",
       "  background-color: var(--sklearn-color-unfitted-level-2);\n",
       "}\n",
       "\n",
       "/* Label box, darken color on hover, fitted */\n",
       "#sk-container-id-1 div.sk-label.fitted:hover label.sk-toggleable__label.fitted {\n",
       "  color: var(--sklearn-color-text);\n",
       "  background-color: var(--sklearn-color-fitted-level-2);\n",
       "}\n",
       "\n",
       "/* Estimator label */\n",
       "\n",
       "#sk-container-id-1 div.sk-label label {\n",
       "  font-family: monospace;\n",
       "  font-weight: bold;\n",
       "  display: inline-block;\n",
       "  line-height: 1.2em;\n",
       "}\n",
       "\n",
       "#sk-container-id-1 div.sk-label-container {\n",
       "  text-align: center;\n",
       "}\n",
       "\n",
       "/* Estimator-specific */\n",
       "#sk-container-id-1 div.sk-estimator {\n",
       "  font-family: monospace;\n",
       "  border: 1px dotted var(--sklearn-color-border-box);\n",
       "  border-radius: 0.25em;\n",
       "  box-sizing: border-box;\n",
       "  margin-bottom: 0.5em;\n",
       "  /* unfitted */\n",
       "  background-color: var(--sklearn-color-unfitted-level-0);\n",
       "}\n",
       "\n",
       "#sk-container-id-1 div.sk-estimator.fitted {\n",
       "  /* fitted */\n",
       "  background-color: var(--sklearn-color-fitted-level-0);\n",
       "}\n",
       "\n",
       "/* on hover */\n",
       "#sk-container-id-1 div.sk-estimator:hover {\n",
       "  /* unfitted */\n",
       "  background-color: var(--sklearn-color-unfitted-level-2);\n",
       "}\n",
       "\n",
       "#sk-container-id-1 div.sk-estimator.fitted:hover {\n",
       "  /* fitted */\n",
       "  background-color: var(--sklearn-color-fitted-level-2);\n",
       "}\n",
       "\n",
       "/* Specification for estimator info (e.g. \"i\" and \"?\") */\n",
       "\n",
       "/* Common style for \"i\" and \"?\" */\n",
       "\n",
       ".sk-estimator-doc-link,\n",
       "a:link.sk-estimator-doc-link,\n",
       "a:visited.sk-estimator-doc-link {\n",
       "  float: right;\n",
       "  font-size: smaller;\n",
       "  line-height: 1em;\n",
       "  font-family: monospace;\n",
       "  background-color: var(--sklearn-color-background);\n",
       "  border-radius: 1em;\n",
       "  height: 1em;\n",
       "  width: 1em;\n",
       "  text-decoration: none !important;\n",
       "  margin-left: 1ex;\n",
       "  /* unfitted */\n",
       "  border: var(--sklearn-color-unfitted-level-1) 1pt solid;\n",
       "  color: var(--sklearn-color-unfitted-level-1);\n",
       "}\n",
       "\n",
       ".sk-estimator-doc-link.fitted,\n",
       "a:link.sk-estimator-doc-link.fitted,\n",
       "a:visited.sk-estimator-doc-link.fitted {\n",
       "  /* fitted */\n",
       "  border: var(--sklearn-color-fitted-level-1) 1pt solid;\n",
       "  color: var(--sklearn-color-fitted-level-1);\n",
       "}\n",
       "\n",
       "/* On hover */\n",
       "div.sk-estimator:hover .sk-estimator-doc-link:hover,\n",
       ".sk-estimator-doc-link:hover,\n",
       "div.sk-label-container:hover .sk-estimator-doc-link:hover,\n",
       ".sk-estimator-doc-link:hover {\n",
       "  /* unfitted */\n",
       "  background-color: var(--sklearn-color-unfitted-level-3);\n",
       "  color: var(--sklearn-color-background);\n",
       "  text-decoration: none;\n",
       "}\n",
       "\n",
       "div.sk-estimator.fitted:hover .sk-estimator-doc-link.fitted:hover,\n",
       ".sk-estimator-doc-link.fitted:hover,\n",
       "div.sk-label-container:hover .sk-estimator-doc-link.fitted:hover,\n",
       ".sk-estimator-doc-link.fitted:hover {\n",
       "  /* fitted */\n",
       "  background-color: var(--sklearn-color-fitted-level-3);\n",
       "  color: var(--sklearn-color-background);\n",
       "  text-decoration: none;\n",
       "}\n",
       "\n",
       "/* Span, style for the box shown on hovering the info icon */\n",
       ".sk-estimator-doc-link span {\n",
       "  display: none;\n",
       "  z-index: 9999;\n",
       "  position: relative;\n",
       "  font-weight: normal;\n",
       "  right: .2ex;\n",
       "  padding: .5ex;\n",
       "  margin: .5ex;\n",
       "  width: min-content;\n",
       "  min-width: 20ex;\n",
       "  max-width: 50ex;\n",
       "  color: var(--sklearn-color-text);\n",
       "  box-shadow: 2pt 2pt 4pt #999;\n",
       "  /* unfitted */\n",
       "  background: var(--sklearn-color-unfitted-level-0);\n",
       "  border: .5pt solid var(--sklearn-color-unfitted-level-3);\n",
       "}\n",
       "\n",
       ".sk-estimator-doc-link.fitted span {\n",
       "  /* fitted */\n",
       "  background: var(--sklearn-color-fitted-level-0);\n",
       "  border: var(--sklearn-color-fitted-level-3);\n",
       "}\n",
       "\n",
       ".sk-estimator-doc-link:hover span {\n",
       "  display: block;\n",
       "}\n",
       "\n",
       "/* \"?\"-specific style due to the `<a>` HTML tag */\n",
       "\n",
       "#sk-container-id-1 a.estimator_doc_link {\n",
       "  float: right;\n",
       "  font-size: 1rem;\n",
       "  line-height: 1em;\n",
       "  font-family: monospace;\n",
       "  background-color: var(--sklearn-color-background);\n",
       "  border-radius: 1rem;\n",
       "  height: 1rem;\n",
       "  width: 1rem;\n",
       "  text-decoration: none;\n",
       "  /* unfitted */\n",
       "  color: var(--sklearn-color-unfitted-level-1);\n",
       "  border: var(--sklearn-color-unfitted-level-1) 1pt solid;\n",
       "}\n",
       "\n",
       "#sk-container-id-1 a.estimator_doc_link.fitted {\n",
       "  /* fitted */\n",
       "  border: var(--sklearn-color-fitted-level-1) 1pt solid;\n",
       "  color: var(--sklearn-color-fitted-level-1);\n",
       "}\n",
       "\n",
       "/* On hover */\n",
       "#sk-container-id-1 a.estimator_doc_link:hover {\n",
       "  /* unfitted */\n",
       "  background-color: var(--sklearn-color-unfitted-level-3);\n",
       "  color: var(--sklearn-color-background);\n",
       "  text-decoration: none;\n",
       "}\n",
       "\n",
       "#sk-container-id-1 a.estimator_doc_link.fitted:hover {\n",
       "  /* fitted */\n",
       "  background-color: var(--sklearn-color-fitted-level-3);\n",
       "}\n",
       "</style><div id=\"sk-container-id-1\" class=\"sk-top-container\"><div class=\"sk-text-repr-fallback\"><pre>XGBClassifier(base_score=None, booster=None, callbacks=None,\n",
       "              colsample_bylevel=None, colsample_bynode=0.14762051884252497,\n",
       "              colsample_bytree=None, device=None, early_stopping_rounds=None,\n",
       "              enable_categorical=False,\n",
       "              eval_metric=&lt;function custom_f1_score at 0x7fa520534040&gt;,\n",
       "              feature_types=None, gamma=None, grow_policy=None,\n",
       "              importance_type=None, interaction_constraints=None,\n",
       "              learning_rate=0.17645109506735435, max_bin=None,\n",
       "              max_cat_threshold=None, max_cat_to_onehot=None,\n",
       "              max_delta_step=None, max_depth=10, max_leaves=None,\n",
       "              min_child_weight=11, missing=nan, monotone_constraints=None,\n",
       "              multi_strategy=None, n_estimators=56, n_jobs=None,\n",
       "              num_parallel_tree=None, objective=&#x27;multi:softprob&#x27;, ...)</pre><b>In a Jupyter environment, please rerun this cell to show the HTML representation or trust the notebook. <br />On GitHub, the HTML representation is unable to render, please try loading this page with nbviewer.org.</b></div><div class=\"sk-container\" hidden><div class=\"sk-item\"><div class=\"sk-estimator fitted sk-toggleable\"><input class=\"sk-toggleable__control sk-hidden--visually\" id=\"sk-estimator-id-1\" type=\"checkbox\" checked><label for=\"sk-estimator-id-1\" class=\"sk-toggleable__label fitted sk-toggleable__label-arrow fitted\">&nbsp;XGBClassifier<span class=\"sk-estimator-doc-link fitted\">i<span>Fitted</span></span></label><div class=\"sk-toggleable__content fitted\"><pre>XGBClassifier(base_score=None, booster=None, callbacks=None,\n",
       "              colsample_bylevel=None, colsample_bynode=0.14762051884252497,\n",
       "              colsample_bytree=None, device=None, early_stopping_rounds=None,\n",
       "              enable_categorical=False,\n",
       "              eval_metric=&lt;function custom_f1_score at 0x7fa520534040&gt;,\n",
       "              feature_types=None, gamma=None, grow_policy=None,\n",
       "              importance_type=None, interaction_constraints=None,\n",
       "              learning_rate=0.17645109506735435, max_bin=None,\n",
       "              max_cat_threshold=None, max_cat_to_onehot=None,\n",
       "              max_delta_step=None, max_depth=10, max_leaves=None,\n",
       "              min_child_weight=11, missing=nan, monotone_constraints=None,\n",
       "              multi_strategy=None, n_estimators=56, n_jobs=None,\n",
       "              num_parallel_tree=None, objective=&#x27;multi:softprob&#x27;, ...)</pre></div> </div></div></div></div>"
      ],
      "text/plain": [
       "XGBClassifier(base_score=None, booster=None, callbacks=None,\n",
       "              colsample_bylevel=None, colsample_bynode=0.14762051884252497,\n",
       "              colsample_bytree=None, device=None, early_stopping_rounds=None,\n",
       "              enable_categorical=False,\n",
       "              eval_metric=<function custom_f1_score at 0x7fa520534040>,\n",
       "              feature_types=None, gamma=None, grow_policy=None,\n",
       "              importance_type=None, interaction_constraints=None,\n",
       "              learning_rate=0.17645109506735435, max_bin=None,\n",
       "              max_cat_threshold=None, max_cat_to_onehot=None,\n",
       "              max_delta_step=None, max_depth=10, max_leaves=None,\n",
       "              min_child_weight=11, missing=nan, monotone_constraints=None,\n",
       "              multi_strategy=None, n_estimators=56, n_jobs=None,\n",
       "              num_parallel_tree=None, objective='multi:softprob', ...)"
      ]
     },
     "execution_count": 21,
     "metadata": {},
     "output_type": "execute_result"
    }
   ],
   "source": [
    "n_estimators = int(study.best_trial.user_attrs['best_iteration']*1.2)\n",
    "xgb = xgboost.XGBClassifier(\n",
    "        eval_metric=eval_metric,\n",
    "        n_estimators=n_estimators,\n",
    "        **study.best_trial.params\n",
    "    )\n",
    "xgb.fit(\n",
    "    ssp.vstack((X_train, X_val)), \n",
    "    np.concatenate((y_train_enc, y_val_enc)),\n",
    "    verbose=1,\n",
    ")"
   ]
  },
  {
   "cell_type": "code",
   "execution_count": 22,
   "id": "a6e7adb7",
   "metadata": {
    "execution": {
     "iopub.execute_input": "2025-05-15T16:15:56.972491Z",
     "iopub.status.busy": "2025-05-15T16:15:56.972164Z",
     "iopub.status.idle": "2025-05-15T16:15:57.004203Z",
     "shell.execute_reply": "2025-05-15T16:15:57.003902Z"
    },
    "papermill": {
     "duration": 0.046865,
     "end_time": "2025-05-15T16:15:57.005016",
     "exception": false,
     "start_time": "2025-05-15T16:15:56.958151",
     "status": "completed"
    },
    "tags": []
   },
   "outputs": [
    {
     "data": {
      "text/plain": [
       "['/scratch_isilon/groups/singlecell/shared/projects/Inflammation-PBMCs-Atlas/03_downstream_analysis/08_gene_importance/xgboost_external_validation/xgboost_TopN_genes/results_20/best_model/Plasma_3_2_xgb.json']"
      ]
     },
     "execution_count": 22,
     "metadata": {},
     "output_type": "execute_result"
    }
   ],
   "source": [
    "out_dir = here(f'03_downstream_analysis/08_gene_importance/xgboost_external_validation/xgboost_TopN_genes/results_{N_GENES}/best_model')\n",
    "\n",
    "if not os.path.exists(out_dir):\n",
    "    os.makedirs(out_dir)\n",
    "    \n",
    "joblib.dump(xgb, os.path.join(out_dir, f'{CELL_TYPE}_{SEED}_{TEST_SPLIT_IDX}_xgb.json'))"
   ]
  },
  {
   "cell_type": "code",
   "execution_count": 23,
   "id": "ff18c694",
   "metadata": {
    "execution": {
     "iopub.execute_input": "2025-05-15T16:15:57.022832Z",
     "iopub.status.busy": "2025-05-15T16:15:57.022660Z",
     "iopub.status.idle": "2025-05-15T16:15:57.028007Z",
     "shell.execute_reply": "2025-05-15T16:15:57.027707Z"
    },
    "papermill": {
     "duration": 0.016365,
     "end_time": "2025-05-15T16:15:57.030170",
     "exception": false,
     "start_time": "2025-05-15T16:15:57.013805",
     "status": "completed"
    },
    "tags": []
   },
   "outputs": [],
   "source": [
    "df_pred_test = pd.DataFrame(dict(\n",
    "    cell_id=train_adata.obs.iloc[test_idxs].index.values,\n",
    "    y_true=y_test, \n",
    "    y_true_code=y_test_enc, \n",
    "    y_pred=xgb.predict(X_test))).set_index('cell_id')"
   ]
  },
  {
   "cell_type": "code",
   "execution_count": 24,
   "id": "9c75d694",
   "metadata": {
    "execution": {
     "iopub.execute_input": "2025-05-15T16:15:57.066692Z",
     "iopub.status.busy": "2025-05-15T16:15:57.066297Z",
     "iopub.status.idle": "2025-05-15T16:15:57.076792Z",
     "shell.execute_reply": "2025-05-15T16:15:57.076417Z"
    },
    "papermill": {
     "duration": 0.039355,
     "end_time": "2025-05-15T16:15:57.077661",
     "exception": false,
     "start_time": "2025-05-15T16:15:57.038306",
     "status": "completed"
    },
    "tags": []
   },
   "outputs": [],
   "source": [
    "out_dir = here(f'03_downstream_analysis/08_gene_importance/xgboost_external_validation/xgboost_TopN_genes/results_{N_GENES}/predictions')\n",
    "\n",
    "if not os.path.exists(out_dir):\n",
    "    os.makedirs(out_dir)\n",
    "    \n",
    "df_pred_test.to_csv(os.path.join(out_dir, f'{CELL_TYPE}_{SEED}_{TEST_SPLIT_IDX}_pred_test.zip'))"
   ]
  },
  {
   "cell_type": "code",
   "execution_count": 25,
   "id": "e49f6953",
   "metadata": {
    "execution": {
     "iopub.execute_input": "2025-05-15T16:15:57.095092Z",
     "iopub.status.busy": "2025-05-15T16:15:57.094920Z",
     "iopub.status.idle": "2025-05-15T16:15:57.100229Z",
     "shell.execute_reply": "2025-05-15T16:15:57.099926Z"
    },
    "papermill": {
     "duration": 0.014807,
     "end_time": "2025-05-15T16:15:57.101031",
     "exception": false,
     "start_time": "2025-05-15T16:15:57.086224",
     "status": "completed"
    },
    "tags": []
   },
   "outputs": [],
   "source": [
    "metrics_dict = dict(\n",
    "    BAS=balanced_accuracy_score(y_true=df_pred_test.y_true_code, y_pred=df_pred_test.y_pred), WF1=f1_score(y_true=df_pred_test.y_true_code, y_pred=df_pred_test.y_pred,average='weighted'))"
   ]
  },
  {
   "cell_type": "code",
   "execution_count": 26,
   "id": "06242ff5",
   "metadata": {
    "execution": {
     "iopub.execute_input": "2025-05-15T16:15:57.121293Z",
     "iopub.status.busy": "2025-05-15T16:15:57.120954Z",
     "iopub.status.idle": "2025-05-15T16:15:57.123728Z",
     "shell.execute_reply": "2025-05-15T16:15:57.123432Z"
    },
    "papermill": {
     "duration": 0.015012,
     "end_time": "2025-05-15T16:15:57.124499",
     "exception": false,
     "start_time": "2025-05-15T16:15:57.109487",
     "status": "completed"
    },
    "tags": []
   },
   "outputs": [
    {
     "data": {
      "text/plain": [
       "{'BAS': 0.2716615492350786, 'WF1': 0.45851556577046776}"
      ]
     },
     "execution_count": 26,
     "metadata": {},
     "output_type": "execute_result"
    }
   ],
   "source": [
    "metrics_dict"
   ]
  },
  {
   "cell_type": "code",
   "execution_count": 27,
   "id": "53ea6b7c",
   "metadata": {
    "execution": {
     "iopub.execute_input": "2025-05-15T16:15:57.142279Z",
     "iopub.status.busy": "2025-05-15T16:15:57.142020Z",
     "iopub.status.idle": "2025-05-15T16:15:57.149711Z",
     "shell.execute_reply": "2025-05-15T16:15:57.149381Z"
    },
    "papermill": {
     "duration": 0.017552,
     "end_time": "2025-05-15T16:15:57.150488",
     "exception": false,
     "start_time": "2025-05-15T16:15:57.132936",
     "status": "completed"
    },
    "tags": []
   },
   "outputs": [
    {
     "data": {
      "text/html": [
       "<div>\n",
       "<style scoped>\n",
       "    .dataframe tbody tr th:only-of-type {\n",
       "        vertical-align: middle;\n",
       "    }\n",
       "\n",
       "    .dataframe tbody tr th {\n",
       "        vertical-align: top;\n",
       "    }\n",
       "\n",
       "    .dataframe thead th {\n",
       "        text-align: right;\n",
       "    }\n",
       "</style>\n",
       "<table border=\"1\" class=\"dataframe\">\n",
       "  <thead>\n",
       "    <tr style=\"text-align: right;\">\n",
       "      <th></th>\n",
       "      <th>BAS</th>\n",
       "      <th>WF1</th>\n",
       "      <th>split_idx</th>\n",
       "      <th>gene_set_seed</th>\n",
       "      <th>cell_type</th>\n",
       "    </tr>\n",
       "  </thead>\n",
       "  <tbody>\n",
       "    <tr>\n",
       "      <th>0</th>\n",
       "      <td>0.271662</td>\n",
       "      <td>0.458516</td>\n",
       "      <td>2</td>\n",
       "      <td>3</td>\n",
       "      <td>Plasma</td>\n",
       "    </tr>\n",
       "  </tbody>\n",
       "</table>\n",
       "</div>"
      ],
      "text/plain": [
       "        BAS       WF1  split_idx  gene_set_seed cell_type\n",
       "0  0.271662  0.458516          2              3    Plasma"
      ]
     },
     "execution_count": 27,
     "metadata": {},
     "output_type": "execute_result"
    }
   ],
   "source": [
    "metrics_df = pd.DataFrame.from_dict([metrics_dict]).assign(split_idx=TEST_SPLIT_IDX, gene_set_seed=SEED, cell_type=CELL_TYPE)\n",
    "metrics_df"
   ]
  },
  {
   "cell_type": "code",
   "execution_count": 28,
   "id": "272ab481",
   "metadata": {
    "execution": {
     "iopub.execute_input": "2025-05-15T16:15:57.171658Z",
     "iopub.status.busy": "2025-05-15T16:15:57.171463Z",
     "iopub.status.idle": "2025-05-15T16:15:57.190354Z",
     "shell.execute_reply": "2025-05-15T16:15:57.189983Z"
    },
    "papermill": {
     "duration": 0.031051,
     "end_time": "2025-05-15T16:15:57.191150",
     "exception": false,
     "start_time": "2025-05-15T16:15:57.160099",
     "status": "completed"
    },
    "tags": []
   },
   "outputs": [],
   "source": [
    "out_dir = here(f'03_downstream_analysis/08_gene_importance/xgboost_external_validation/xgboost_TopN_genes/results_{N_GENES}/metrics')\n",
    "\n",
    "if not os.path.exists(out_dir):\n",
    "    os.makedirs(out_dir)\n",
    "    \n",
    "metrics_df.to_csv(os.path.join(out_dir, f'{CELL_TYPE}_{SEED}_{TEST_SPLIT_IDX}_metrics.zip'))"
   ]
  }
 ],
 "metadata": {
  "kernelspec": {
   "display_name": "Python 3 (ipykernel)",
   "language": "python",
   "name": "python3"
  },
  "language_info": {
   "codemirror_mode": {
    "name": "ipython",
    "version": 3
   },
   "file_extension": ".py",
   "mimetype": "text/x-python",
   "name": "python",
   "nbconvert_exporter": "python",
   "pygments_lexer": "ipython3",
   "version": "3.12.5"
  },
  "papermill": {
   "default_parameters": {},
   "duration": 32.86238,
   "end_time": "2025-05-15T16:15:58.014749",
   "environment_variables": {},
   "exception": null,
   "input_path": "02_xgboost_fitting_external_20genes.ipynb",
   "output_path": "results_20/executed_notebooks/xgboost_fitting_external_CT_Plasma_GS_3_seed2.ipynb",
   "parameters": {
    "CELL_TYPE": "Plasma",
    "SEED": 3,
    "TEST_SPLIT_IDX": 2
   },
   "start_time": "2025-05-15T16:15:25.152369",
   "version": "2.6.0"
  }
 },
 "nbformat": 4,
 "nbformat_minor": 5
}