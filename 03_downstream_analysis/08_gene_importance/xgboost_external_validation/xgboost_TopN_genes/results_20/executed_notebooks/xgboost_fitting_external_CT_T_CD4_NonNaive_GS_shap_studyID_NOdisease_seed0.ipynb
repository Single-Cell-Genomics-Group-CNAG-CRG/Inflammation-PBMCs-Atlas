{
 "cells": [
  {
   "cell_type": "code",
   "execution_count": 1,
   "id": "12ef4fa7",
   "metadata": {
    "editable": true,
    "execution": {
     "iopub.execute_input": "2025-05-14T16:08:01.712903Z",
     "iopub.status.busy": "2025-05-14T16:08:01.712749Z",
     "iopub.status.idle": "2025-05-14T16:08:01.716572Z",
     "shell.execute_reply": "2025-05-14T16:08:01.716164Z"
    },
    "papermill": {
     "duration": 0.011883,
     "end_time": "2025-05-14T16:08:01.717476",
     "exception": false,
     "start_time": "2025-05-14T16:08:01.705593",
     "status": "completed"
    },
    "slideshow": {
     "slide_type": ""
    },
    "tags": [
     "parameters"
    ]
   },
   "outputs": [],
   "source": [
    "CELL_TYPE = 'pDC'\n",
    "N_GENES: int = 20\n",
    "SEED = 'shap_studyID' #'disease_NOstudy' 'study_NOdisease' or 'int' or 'shap_studyID'\n",
    "TEST_SPLIT_IDX: int = 1 #[0,4]"
   ]
  },
  {
   "cell_type": "code",
   "execution_count": 2,
   "id": "f81f91ca",
   "metadata": {
    "execution": {
     "iopub.execute_input": "2025-05-14T16:08:01.734960Z",
     "iopub.status.busy": "2025-05-14T16:08:01.734776Z",
     "iopub.status.idle": "2025-05-14T16:08:01.737085Z",
     "shell.execute_reply": "2025-05-14T16:08:01.736721Z"
    },
    "papermill": {
     "duration": 0.0151,
     "end_time": "2025-05-14T16:08:01.737860",
     "exception": false,
     "start_time": "2025-05-14T16:08:01.722760",
     "status": "completed"
    },
    "tags": [
     "injected-parameters"
    ]
   },
   "outputs": [],
   "source": [
    "# Parameters\n",
    "CELL_TYPE = \"T_CD4_NonNaive\"\n",
    "SEED = \"shap_studyID_NOdisease\"\n",
    "TEST_SPLIT_IDX = 0\n"
   ]
  },
  {
   "cell_type": "code",
   "execution_count": 3,
   "id": "adfc18f9",
   "metadata": {
    "execution": {
     "iopub.execute_input": "2025-05-14T16:08:01.748343Z",
     "iopub.status.busy": "2025-05-14T16:08:01.748109Z",
     "iopub.status.idle": "2025-05-14T16:08:01.750348Z",
     "shell.execute_reply": "2025-05-14T16:08:01.749981Z"
    },
    "papermill": {
     "duration": 0.008428,
     "end_time": "2025-05-14T16:08:01.751118",
     "exception": false,
     "start_time": "2025-05-14T16:08:01.742690",
     "status": "completed"
    },
    "tags": []
   },
   "outputs": [],
   "source": [
    "N_SPLITS: int = 5\n",
    "N_TRIALS: int = 50"
   ]
  },
  {
   "cell_type": "code",
   "execution_count": 4,
   "id": "47e26b47",
   "metadata": {
    "execution": {
     "iopub.execute_input": "2025-05-14T16:08:01.762986Z",
     "iopub.status.busy": "2025-05-14T16:08:01.762620Z",
     "iopub.status.idle": "2025-05-14T16:08:03.497218Z",
     "shell.execute_reply": "2025-05-14T16:08:03.496814Z"
    },
    "papermill": {
     "duration": 1.742066,
     "end_time": "2025-05-14T16:08:03.498402",
     "exception": false,
     "start_time": "2025-05-14T16:08:01.756336",
     "status": "completed"
    },
    "tags": []
   },
   "outputs": [],
   "source": [
    "import os\n",
    "import sys\n",
    "from pyprojroot.here import here\n",
    "import pandas as pd\n",
    "import anndata as ad\n",
    "import numpy as np\n",
    "import math\n",
    "from sklearn.model_selection import StratifiedGroupKFold\n",
    "from sklearn.preprocessing import LabelEncoder\n",
    "from sklearn.metrics import f1_score\n",
    "import matplotlib.pyplot as plt\n",
    "import seaborn as sns\n",
    "from itertools import product\n",
    "from sklearn.metrics import balanced_accuracy_score, f1_score\n",
    "import optuna\n",
    "\n",
    "import joblib\n",
    "import pickle\n",
    "import datetime\n",
    "\n",
    "import collections\n",
    "\n",
    "import xgboost\n",
    "from sklearn.preprocessing import LabelEncoder\n",
    "\n",
    "import scipy.sparse as ssp\n",
    "import joblib\n",
    "\n",
    "from dotenv import load_dotenv"
   ]
  },
  {
   "cell_type": "code",
   "execution_count": 5,
   "id": "d66417d2",
   "metadata": {
    "execution": {
     "iopub.execute_input": "2025-05-14T16:08:03.512124Z",
     "iopub.status.busy": "2025-05-14T16:08:03.511699Z",
     "iopub.status.idle": "2025-05-14T16:08:03.517096Z",
     "shell.execute_reply": "2025-05-14T16:08:03.516803Z"
    },
    "papermill": {
     "duration": 0.012031,
     "end_time": "2025-05-14T16:08:03.517888",
     "exception": false,
     "start_time": "2025-05-14T16:08:03.505857",
     "status": "completed"
    },
    "tags": []
   },
   "outputs": [
    {
     "data": {
      "text/plain": [
       "True"
      ]
     },
     "execution_count": 5,
     "metadata": {},
     "output_type": "execute_result"
    }
   ],
   "source": [
    "load_dotenv()"
   ]
  },
  {
   "cell_type": "markdown",
   "id": "ff3ff70a",
   "metadata": {
    "papermill": {
     "duration": 0.004991,
     "end_time": "2025-05-14T16:08:03.528321",
     "exception": false,
     "start_time": "2025-05-14T16:08:03.523330",
     "status": "completed"
    },
    "tags": []
   },
   "source": [
    "# LOAD DATASET"
   ]
  },
  {
   "cell_type": "code",
   "execution_count": 6,
   "id": "407451bd",
   "metadata": {
    "execution": {
     "iopub.execute_input": "2025-05-14T16:08:03.538928Z",
     "iopub.status.busy": "2025-05-14T16:08:03.538542Z",
     "iopub.status.idle": "2025-05-14T16:08:04.212528Z",
     "shell.execute_reply": "2025-05-14T16:08:04.212101Z"
    },
    "papermill": {
     "duration": 0.680245,
     "end_time": "2025-05-14T16:08:04.213406",
     "exception": false,
     "start_time": "2025-05-14T16:08:03.533161",
     "status": "completed"
    },
    "tags": []
   },
   "outputs": [],
   "source": [
    "train_adata = ad.read_h5ad(\n",
    "    here(f'03_downstream_analysis/08_gene_importance/xgboost_external_validation/xgboost_TopN_genes/data_cellTypes/EXTERNAL_{CELL_TYPE}.filtered.log1p.h5ad')\n",
    ")"
   ]
  },
  {
   "cell_type": "code",
   "execution_count": 7,
   "id": "506b3693",
   "metadata": {
    "execution": {
     "iopub.execute_input": "2025-05-14T16:08:04.225345Z",
     "iopub.status.busy": "2025-05-14T16:08:04.225010Z",
     "iopub.status.idle": "2025-05-14T16:08:04.259071Z",
     "shell.execute_reply": "2025-05-14T16:08:04.258767Z"
    },
    "papermill": {
     "duration": 0.040584,
     "end_time": "2025-05-14T16:08:04.259855",
     "exception": false,
     "start_time": "2025-05-14T16:08:04.219271",
     "status": "completed"
    },
    "tags": []
   },
   "outputs": [
    {
     "name": "stdout",
     "output_type": "stream",
     "text": [
      "['ENSG00000002549' 'ENSG00000002586' 'ENSG00000005339' 'ENSG00000005844'\n",
      " 'ENSG00000008517' 'ENSG00000011600' 'ENSG00000015475' 'ENSG00000019582'\n",
      " 'ENSG00000026025' 'ENSG00000026103' 'ENSG00000028137' 'ENSG00000035115'\n",
      " 'ENSG00000042753' 'ENSG00000051108' 'ENSG00000066294' 'ENSG00000069702'\n",
      " 'ENSG00000075426' 'ENSG00000075624' 'ENSG00000077150' 'ENSG00000077984'\n",
      " 'ENSG00000078596' 'ENSG00000081059' 'ENSG00000084207' 'ENSG00000089127'\n",
      " 'ENSG00000089280' 'ENSG00000089327' 'ENSG00000089737' 'ENSG00000091409'\n",
      " 'ENSG00000092820' 'ENSG00000099204' 'ENSG00000100097' 'ENSG00000100365'\n",
      " 'ENSG00000100393' 'ENSG00000100906' 'ENSG00000101347' 'ENSG00000102265'\n",
      " 'ENSG00000104904' 'ENSG00000106803' 'ENSG00000107485' 'ENSG00000110876'\n",
      " 'ENSG00000111348' 'ENSG00000113732' 'ENSG00000115738' 'ENSG00000115875'\n",
      " 'ENSG00000116171' 'ENSG00000117450' 'ENSG00000118515' 'ENSG00000120742'\n",
      " 'ENSG00000122862' 'ENSG00000125743' 'ENSG00000126264' 'ENSG00000126353'\n",
      " 'ENSG00000132510' 'ENSG00000133872' 'ENSG00000135916' 'ENSG00000135968'\n",
      " 'ENSG00000137100' 'ENSG00000137965' 'ENSG00000138802' 'ENSG00000139193'\n",
      " 'ENSG00000142089' 'ENSG00000142669' 'ENSG00000145912' 'ENSG00000152219'\n",
      " 'ENSG00000152234' 'ENSG00000155368' 'ENSG00000156587' 'ENSG00000157873'\n",
      " 'ENSG00000158869' 'ENSG00000163191' 'ENSG00000164307' 'ENSG00000164674'\n",
      " 'ENSG00000166681' 'ENSG00000167863' 'ENSG00000168394' 'ENSG00000168685'\n",
      " 'ENSG00000168894' 'ENSG00000169554' 'ENSG00000171608' 'ENSG00000171700'\n",
      " 'ENSG00000172531' 'ENSG00000172543' 'ENSG00000182866' 'ENSG00000183020'\n",
      " 'ENSG00000185201' 'ENSG00000186810' 'ENSG00000188404' 'ENSG00000189067'\n",
      " 'ENSG00000196154' 'ENSG00000196396' 'ENSG00000197747' 'ENSG00000197956'\n",
      " 'ENSG00000223865' 'ENSG00000229474' 'ENSG00000240065' 'ENSG00000241837']\n"
     ]
    }
   ],
   "source": [
    "if SEED != 'all':\n",
    "    gene_subset = np.load(here(f'03_downstream_analysis/08_gene_importance/xgboost_external_validation/shap_gene_selection/gene_subsets_{N_GENES}/{CELL_TYPE}_{SEED}.npy'), allow_pickle=True)\n",
    "    train_adata = train_adata[:,gene_subset]\n",
    "    print(gene_subset)\n",
    "elif SEED == 'all':\n",
    "    print('Using all genes')\n",
    "else:\n",
    "    raise ValueError()"
   ]
  },
  {
   "cell_type": "code",
   "execution_count": 8,
   "id": "33470607",
   "metadata": {
    "execution": {
     "iopub.execute_input": "2025-05-14T16:08:04.272179Z",
     "iopub.status.busy": "2025-05-14T16:08:04.271765Z",
     "iopub.status.idle": "2025-05-14T16:08:04.274618Z",
     "shell.execute_reply": "2025-05-14T16:08:04.274324Z"
    },
    "papermill": {
     "duration": 0.009778,
     "end_time": "2025-05-14T16:08:04.275377",
     "exception": false,
     "start_time": "2025-05-14T16:08:04.265599",
     "status": "completed"
    },
    "tags": []
   },
   "outputs": [
    {
     "data": {
      "text/plain": [
       "(124886, 96)"
      ]
     },
     "execution_count": 8,
     "metadata": {},
     "output_type": "execute_result"
    }
   ],
   "source": [
    "train_adata.shape"
   ]
  },
  {
   "cell_type": "code",
   "execution_count": 9,
   "id": "06cc3b60",
   "metadata": {
    "execution": {
     "iopub.execute_input": "2025-05-14T16:08:04.287073Z",
     "iopub.status.busy": "2025-05-14T16:08:04.286638Z",
     "iopub.status.idle": "2025-05-14T16:08:04.290532Z",
     "shell.execute_reply": "2025-05-14T16:08:04.290237Z"
    },
    "papermill": {
     "duration": 0.010371,
     "end_time": "2025-05-14T16:08:04.291288",
     "exception": false,
     "start_time": "2025-05-14T16:08:04.280917",
     "status": "completed"
    },
    "tags": []
   },
   "outputs": [
    {
     "data": {
      "text/plain": [
       "['RA', 'healthy', 'COVID', 'HIV', 'cirrhosis', 'CD', 'SLE', 'sepsis']\n",
       "Categories (8, object): ['CD', 'COVID', 'HIV', 'RA', 'SLE', 'cirrhosis', 'healthy', 'sepsis']"
      ]
     },
     "execution_count": 9,
     "metadata": {},
     "output_type": "execute_result"
    }
   ],
   "source": [
    "train_adata.obs.disease.unique()"
   ]
  },
  {
   "cell_type": "code",
   "execution_count": 10,
   "id": "aeb8402c",
   "metadata": {
    "execution": {
     "iopub.execute_input": "2025-05-14T16:08:04.302857Z",
     "iopub.status.busy": "2025-05-14T16:08:04.302418Z",
     "iopub.status.idle": "2025-05-14T16:08:04.306182Z",
     "shell.execute_reply": "2025-05-14T16:08:04.305893Z"
    },
    "papermill": {
     "duration": 0.010359,
     "end_time": "2025-05-14T16:08:04.306930",
     "exception": false,
     "start_time": "2025-05-14T16:08:04.296571",
     "status": "completed"
    },
    "tags": []
   },
   "outputs": [
    {
     "data": {
      "text/plain": [
       "['SCGT00val_I036016_T0', 'SCGT00val_I036023_T0', 'SCGT00val_I036015_T0', 'SCGT00val_I036028_T0', 'SCGT00val_I0364_T0', ..., '10XGenomics_10XHC2_T0', '10XGenomics_10XHC3_T0', '10XGenomics_10XHC5_T0', '10XGenomics_10XHC7_T0', '10XGenomics_10XHC8_T0']\n",
       "Length: 86\n",
       "Categories (86, object): ['10XGenomics_10XHC1_T0', '10XGenomics_10XHC2_T0', '10XGenomics_10XHC3_T0', '10XGenomics_10XHC4_T0', ..., 'Savage2021_BRISL6_T0', 'Savage2021_BRISL7_T0', 'Savage2021_PIDA_T0', 'Savage2021_PIDB_T0']"
      ]
     },
     "execution_count": 10,
     "metadata": {},
     "output_type": "execute_result"
    }
   ],
   "source": [
    "train_adata.obs.sampleID.unique()"
   ]
  },
  {
   "cell_type": "code",
   "execution_count": 11,
   "id": "32538975",
   "metadata": {
    "execution": {
     "iopub.execute_input": "2025-05-14T16:08:04.319080Z",
     "iopub.status.busy": "2025-05-14T16:08:04.318658Z",
     "iopub.status.idle": "2025-05-14T16:08:04.612017Z",
     "shell.execute_reply": "2025-05-14T16:08:04.611608Z"
    },
    "papermill": {
     "duration": 0.30116,
     "end_time": "2025-05-14T16:08:04.613332",
     "exception": false,
     "start_time": "2025-05-14T16:08:04.312172",
     "status": "completed"
    },
    "tags": []
   },
   "outputs": [],
   "source": [
    "all_idxs = np.arange(train_adata.obs.shape[0])\n",
    "left_out_splits = [s[1] for s in StratifiedGroupKFold(n_splits=N_SPLITS).split(all_idxs, train_adata.obs.disease, train_adata.obs.sampleID)]"
   ]
  },
  {
   "cell_type": "code",
   "execution_count": 12,
   "id": "c5b31d79",
   "metadata": {
    "execution": {
     "iopub.execute_input": "2025-05-14T16:08:04.626920Z",
     "iopub.status.busy": "2025-05-14T16:08:04.626748Z",
     "iopub.status.idle": "2025-05-14T16:08:04.630379Z",
     "shell.execute_reply": "2025-05-14T16:08:04.630025Z"
    },
    "papermill": {
     "duration": 0.011699,
     "end_time": "2025-05-14T16:08:04.631207",
     "exception": false,
     "start_time": "2025-05-14T16:08:04.619508",
     "status": "completed"
    },
    "tags": []
   },
   "outputs": [
    {
     "data": {
      "text/plain": [
       "([2, 3, 4], 1, 0)"
      ]
     },
     "execution_count": 12,
     "metadata": {},
     "output_type": "execute_result"
    }
   ],
   "source": [
    "TRAIN_SPLIT_IDXS = [0,1,2,3,4]\n",
    "VAL_SPLIT_IDX = (TEST_SPLIT_IDX + 1) % 5\n",
    "TRAIN_SPLIT_IDXS.remove(TEST_SPLIT_IDX)\n",
    "TRAIN_SPLIT_IDXS.remove(VAL_SPLIT_IDX)\n",
    "TRAIN_SPLIT_IDXS, VAL_SPLIT_IDX, TEST_SPLIT_IDX"
   ]
  },
  {
   "cell_type": "code",
   "execution_count": 13,
   "id": "c52be2b2",
   "metadata": {
    "execution": {
     "iopub.execute_input": "2025-05-14T16:08:04.643527Z",
     "iopub.status.busy": "2025-05-14T16:08:04.643316Z",
     "iopub.status.idle": "2025-05-14T16:08:04.645853Z",
     "shell.execute_reply": "2025-05-14T16:08:04.645562Z"
    },
    "papermill": {
     "duration": 0.009204,
     "end_time": "2025-05-14T16:08:04.646631",
     "exception": false,
     "start_time": "2025-05-14T16:08:04.637427",
     "status": "completed"
    },
    "tags": []
   },
   "outputs": [],
   "source": [
    "train_idxs = np.concatenate([left_out_splits[idx] for idx in TRAIN_SPLIT_IDXS])\n",
    "val_idxs = left_out_splits[VAL_SPLIT_IDX]\n",
    "test_idxs = left_out_splits[TEST_SPLIT_IDX]"
   ]
  },
  {
   "cell_type": "markdown",
   "id": "bdb318d8",
   "metadata": {
    "papermill": {
     "duration": 0.005579,
     "end_time": "2025-05-14T16:08:04.658108",
     "exception": false,
     "start_time": "2025-05-14T16:08:04.652529",
     "status": "completed"
    },
    "tags": []
   },
   "source": [
    "### SUBSET DATASET INTO TRAIN/TEST/VAL SPLITS"
   ]
  },
  {
   "cell_type": "code",
   "execution_count": 14,
   "id": "0db63cfa",
   "metadata": {
    "execution": {
     "iopub.execute_input": "2025-05-14T16:08:04.669873Z",
     "iopub.status.busy": "2025-05-14T16:08:04.669594Z",
     "iopub.status.idle": "2025-05-14T16:08:04.932133Z",
     "shell.execute_reply": "2025-05-14T16:08:04.931790Z"
    },
    "papermill": {
     "duration": 0.269138,
     "end_time": "2025-05-14T16:08:04.933017",
     "exception": false,
     "start_time": "2025-05-14T16:08:04.663879",
     "status": "completed"
    },
    "tags": []
   },
   "outputs": [
    {
     "data": {
      "text/plain": [
       "((74333, 96), (24277, 96), (26276, 96))"
      ]
     },
     "execution_count": 14,
     "metadata": {},
     "output_type": "execute_result"
    }
   ],
   "source": [
    "X_train = train_adata.X[train_idxs]\n",
    "X_test = train_adata.X[test_idxs]\n",
    "X_val = train_adata.X[val_idxs]\n",
    "X_train.shape, X_test.shape, X_val.shape"
   ]
  },
  {
   "cell_type": "code",
   "execution_count": 15,
   "id": "55a1c4b0",
   "metadata": {
    "execution": {
     "iopub.execute_input": "2025-05-14T16:08:04.945366Z",
     "iopub.status.busy": "2025-05-14T16:08:04.944985Z",
     "iopub.status.idle": "2025-05-14T16:08:04.957120Z",
     "shell.execute_reply": "2025-05-14T16:08:04.956780Z"
    },
    "papermill": {
     "duration": 0.018978,
     "end_time": "2025-05-14T16:08:04.957986",
     "exception": false,
     "start_time": "2025-05-14T16:08:04.939008",
     "status": "completed"
    },
    "tags": []
   },
   "outputs": [
    {
     "data": {
      "text/plain": [
       "((74333,), (24277,), (26276,))"
      ]
     },
     "execution_count": 15,
     "metadata": {},
     "output_type": "execute_result"
    }
   ],
   "source": [
    "y_train = train_adata.obs.iloc[train_idxs].disease.values.astype(str)\n",
    "y_test = train_adata.obs.iloc[test_idxs].disease.values.astype(str)\n",
    "y_val = train_adata.obs.iloc[val_idxs].disease.values.astype(str)\n",
    "y_train.shape, y_test.shape, y_val.shape"
   ]
  },
  {
   "cell_type": "code",
   "execution_count": 16,
   "id": "38bfdd9c",
   "metadata": {
    "execution": {
     "iopub.execute_input": "2025-05-14T16:08:04.970661Z",
     "iopub.status.busy": "2025-05-14T16:08:04.970308Z",
     "iopub.status.idle": "2025-05-14T16:08:04.996906Z",
     "shell.execute_reply": "2025-05-14T16:08:04.996525Z"
    },
    "papermill": {
     "duration": 0.033915,
     "end_time": "2025-05-14T16:08:04.997854",
     "exception": false,
     "start_time": "2025-05-14T16:08:04.963939",
     "status": "completed"
    },
    "tags": []
   },
   "outputs": [],
   "source": [
    "lenc = LabelEncoder()\n",
    "y_train_enc = lenc.fit_transform(y_train)\n",
    "y_val_enc = lenc.transform(y_val)\n",
    "y_test_enc = lenc.transform(y_test)"
   ]
  },
  {
   "cell_type": "markdown",
   "id": "afa78b02",
   "metadata": {
    "papermill": {
     "duration": 0.005718,
     "end_time": "2025-05-14T16:08:05.009723",
     "exception": false,
     "start_time": "2025-05-14T16:08:05.004005",
     "status": "completed"
    },
    "tags": []
   },
   "source": [
    "### GENERATE F1 "
   ]
  },
  {
   "cell_type": "code",
   "execution_count": 17,
   "id": "b83aaa4d",
   "metadata": {
    "execution": {
     "iopub.execute_input": "2025-05-14T16:08:05.022305Z",
     "iopub.status.busy": "2025-05-14T16:08:05.021962Z",
     "iopub.status.idle": "2025-05-14T16:08:05.024373Z",
     "shell.execute_reply": "2025-05-14T16:08:05.024080Z"
    },
    "papermill": {
     "duration": 0.009172,
     "end_time": "2025-05-14T16:08:05.025159",
     "exception": false,
     "start_time": "2025-05-14T16:08:05.015987",
     "status": "completed"
    },
    "tags": []
   },
   "outputs": [],
   "source": [
    "def custom_f1_score(y_true, y_pred):\n",
    "    return -f1_score(y_true, y_pred.argmax(1), average='weighted')"
   ]
  },
  {
   "cell_type": "code",
   "execution_count": 18,
   "id": "704dd5d1",
   "metadata": {
    "execution": {
     "iopub.execute_input": "2025-05-14T16:08:05.037339Z",
     "iopub.status.busy": "2025-05-14T16:08:05.036934Z",
     "iopub.status.idle": "2025-05-14T16:08:05.040669Z",
     "shell.execute_reply": "2025-05-14T16:08:05.040374Z"
    },
    "papermill": {
     "duration": 0.010512,
     "end_time": "2025-05-14T16:08:05.041461",
     "exception": false,
     "start_time": "2025-05-14T16:08:05.030949",
     "status": "completed"
    },
    "tags": []
   },
   "outputs": [],
   "source": [
    "eval_metric=custom_f1_score\n",
    "eval_metric_name='custom_f1_score'\n",
    "\n",
    "def objective(trial):\n",
    "    params = {\n",
    "        'n_estimators': 1500,\n",
    "        'max_depth': trial.suggest_int('max_depth', 3, 20),\n",
    "        'min_child_weight': trial.suggest_int('min_child_weight', 1, 250),\n",
    "        'subsample': trial.suggest_float('subsample', 0.1, 1.0),\n",
    "        'colsample_bynode': trial.suggest_float('colsample_bynode', 0.1, 1.0),\n",
    "        'learning_rate': trial.suggest_float('learning_rate', 1e-3, 5e-1, log=True),\n",
    "    }\n",
    "    pruning_callback = optuna.integration.XGBoostPruningCallback(trial, f'validation_0-{eval_metric_name}')\n",
    "    es_callback = xgboost.callback.EarlyStopping(20, min_delta=0.001)\n",
    "    xgb = xgboost.XGBClassifier(\n",
    "        eval_metric=eval_metric,\n",
    "        callbacks=[pruning_callback, es_callback],\n",
    "        n_jobs=5,\n",
    "        **params\n",
    "    )\n",
    "    xgb.fit(\n",
    "        X_train, \n",
    "        y_train_enc, \n",
    "        verbose=0,\n",
    "        eval_set=[(X_val, y_val_enc)],\n",
    "    )\n",
    "    trial.set_user_attr('best_iteration', xgb.best_iteration)\n",
    "\n",
    "    return xgb.best_score"
   ]
  },
  {
   "cell_type": "code",
   "execution_count": 19,
   "id": "3a58daac",
   "metadata": {
    "execution": {
     "iopub.execute_input": "2025-05-14T16:08:05.053468Z",
     "iopub.status.busy": "2025-05-14T16:08:05.053112Z",
     "iopub.status.idle": "2025-05-14T16:26:11.863705Z",
     "shell.execute_reply": "2025-05-14T16:26:11.863234Z"
    },
    "papermill": {
     "duration": 1086.829106,
     "end_time": "2025-05-14T16:26:11.876366",
     "exception": false,
     "start_time": "2025-05-14T16:08:05.047260",
     "status": "completed"
    },
    "scrolled": true,
    "tags": []
   },
   "outputs": [
    {
     "name": "stderr",
     "output_type": "stream",
     "text": [
      "[I 2025-05-14 18:08:05,054] A new study created in memory with name: no-name-c716a5be-1d37-4a1e-b215-edf49f5fb356\n"
     ]
    },
    {
     "name": "stderr",
     "output_type": "stream",
     "text": [
      "[I 2025-05-14 18:08:12,254] Trial 0 finished with value: -0.573555 and parameters: {'max_depth': 9, 'min_child_weight': 238, 'subsample': 0.7587945476302645, 'colsample_bynode': 0.6387926357773329, 'learning_rate': 0.0026368755339723046}. Best is trial 0 with value: -0.573555.\n"
     ]
    },
    {
     "name": "stderr",
     "output_type": "stream",
     "text": [
      "[I 2025-05-14 18:09:37,902] Trial 1 finished with value: -0.749059 and parameters: {'max_depth': 5, 'min_child_weight': 15, 'subsample': 0.8795585311974417, 'colsample_bynode': 0.6410035105688879, 'learning_rate': 0.08148293210105287}. Best is trial 1 with value: -0.749059.\n"
     ]
    },
    {
     "name": "stderr",
     "output_type": "stream",
     "text": [
      "[I 2025-05-14 18:09:43,801] Trial 2 finished with value: -0.526948 and parameters: {'max_depth': 3, 'min_child_weight': 243, 'subsample': 0.8491983767203796, 'colsample_bynode': 0.29110519961044856, 'learning_rate': 0.003095566460242371}. Best is trial 1 with value: -0.749059.\n"
     ]
    },
    {
     "name": "stderr",
     "output_type": "stream",
     "text": [
      "[I 2025-05-14 18:10:00,403] Trial 3 finished with value: -0.594218 and parameters: {'max_depth': 6, 'min_child_weight': 77, 'subsample': 0.5722807884690141, 'colsample_bynode': 0.48875051677790415, 'learning_rate': 0.006109683510122491}. Best is trial 1 with value: -0.749059.\n"
     ]
    },
    {
     "name": "stderr",
     "output_type": "stream",
     "text": [
      "[I 2025-05-14 18:13:54,744] Trial 4 finished with value: -0.744763 and parameters: {'max_depth': 14, 'min_child_weight': 35, 'subsample': 0.3629301836816964, 'colsample_bynode': 0.4297256589643226, 'learning_rate': 0.01701841881702917}. Best is trial 1 with value: -0.749059.\n"
     ]
    },
    {
     "name": "stderr",
     "output_type": "stream",
     "text": [
      "[I 2025-05-14 18:14:05,108] Trial 5 pruned. Trial was pruned at iteration 23.\n"
     ]
    },
    {
     "name": "stderr",
     "output_type": "stream",
     "text": [
      "[I 2025-05-14 18:14:05,798] Trial 6 pruned. Trial was pruned at iteration 0.\n"
     ]
    },
    {
     "name": "stderr",
     "output_type": "stream",
     "text": [
      "[I 2025-05-14 18:14:06,429] Trial 7 pruned. Trial was pruned at iteration 0.\n"
     ]
    },
    {
     "name": "stderr",
     "output_type": "stream",
     "text": [
      "[I 2025-05-14 18:14:07,038] Trial 8 pruned. Trial was pruned at iteration 0.\n"
     ]
    },
    {
     "name": "stderr",
     "output_type": "stream",
     "text": [
      "[I 2025-05-14 18:14:16,032] Trial 9 pruned. Trial was pruned at iteration 21.\n"
     ]
    },
    {
     "name": "stderr",
     "output_type": "stream",
     "text": [
      "[I 2025-05-14 18:15:05,598] Trial 10 finished with value: -0.748823 and parameters: {'max_depth': 9, 'min_child_weight': 2, 'subsample': 0.9725833997090791, 'colsample_bynode': 0.11616568805333755, 'learning_rate': 0.17780618353487967}. Best is trial 1 with value: -0.749059.\n"
     ]
    },
    {
     "name": "stderr",
     "output_type": "stream",
     "text": [
      "[I 2025-05-14 18:16:18,397] Trial 11 finished with value: -0.751661 and parameters: {'max_depth': 9, 'min_child_weight': 4, 'subsample': 0.9818290990185045, 'colsample_bynode': 0.17702656156719, 'learning_rate': 0.11568531411766632}. Best is trial 11 with value: -0.751661.\n"
     ]
    },
    {
     "name": "stderr",
     "output_type": "stream",
     "text": [
      "[I 2025-05-14 18:17:50,435] Trial 12 finished with value: -0.746568 and parameters: {'max_depth': 9, 'min_child_weight': 3, 'subsample': 0.9762317723681219, 'colsample_bynode': 0.14667845540225039, 'learning_rate': 0.07220195396446884}. Best is trial 11 with value: -0.751661.\n"
     ]
    },
    {
     "name": "stderr",
     "output_type": "stream",
     "text": [
      "[I 2025-05-14 18:17:51,031] Trial 13 pruned. Trial was pruned at iteration 0.\n"
     ]
    },
    {
     "name": "stderr",
     "output_type": "stream",
     "text": [
      "[I 2025-05-14 18:17:51,672] Trial 14 pruned. Trial was pruned at iteration 0.\n"
     ]
    },
    {
     "name": "stderr",
     "output_type": "stream",
     "text": [
      "[I 2025-05-14 18:19:09,451] Trial 15 finished with value: -0.745104 and parameters: {'max_depth': 20, 'min_child_weight': 1, 'subsample': 0.7012908959710442, 'colsample_bynode': 0.2540835086298475, 'learning_rate': 0.2833114876720916}. Best is trial 11 with value: -0.751661.\n"
     ]
    },
    {
     "name": "stderr",
     "output_type": "stream",
     "text": [
      "[I 2025-05-14 18:19:10,030] Trial 16 pruned. Trial was pruned at iteration 0.\n"
     ]
    },
    {
     "name": "stderr",
     "output_type": "stream",
     "text": [
      "[I 2025-05-14 18:19:10,635] Trial 17 pruned. Trial was pruned at iteration 0.\n"
     ]
    },
    {
     "name": "stderr",
     "output_type": "stream",
     "text": [
      "[I 2025-05-14 18:20:15,008] Trial 18 finished with value: -0.756705 and parameters: {'max_depth': 11, 'min_child_weight': 37, 'subsample': 0.8988001325877066, 'colsample_bynode': 0.3955466156360019, 'learning_rate': 0.13348559174149954}. Best is trial 18 with value: -0.756705.\n"
     ]
    },
    {
     "name": "stderr",
     "output_type": "stream",
     "text": [
      "[I 2025-05-14 18:20:15,688] Trial 19 pruned. Trial was pruned at iteration 0.\n"
     ]
    },
    {
     "name": "stderr",
     "output_type": "stream",
     "text": [
      "[I 2025-05-14 18:20:16,695] Trial 20 pruned. Trial was pruned at iteration 1.\n"
     ]
    },
    {
     "name": "stderr",
     "output_type": "stream",
     "text": [
      "[I 2025-05-14 18:20:25,951] Trial 21 pruned. Trial was pruned at iteration 23.\n"
     ]
    },
    {
     "name": "stderr",
     "output_type": "stream",
     "text": [
      "[I 2025-05-14 18:20:26,519] Trial 22 pruned. Trial was pruned at iteration 0.\n"
     ]
    },
    {
     "name": "stderr",
     "output_type": "stream",
     "text": [
      "[I 2025-05-14 18:20:35,372] Trial 23 pruned. Trial was pruned at iteration 21.\n"
     ]
    },
    {
     "name": "stderr",
     "output_type": "stream",
     "text": [
      "[I 2025-05-14 18:20:36,359] Trial 24 pruned. Trial was pruned at iteration 1.\n"
     ]
    },
    {
     "name": "stderr",
     "output_type": "stream",
     "text": [
      "[I 2025-05-14 18:21:17,625] Trial 25 finished with value: -0.752499 and parameters: {'max_depth': 16, 'min_child_weight': 19, 'subsample': 0.6754107179778135, 'colsample_bynode': 0.27030683143201956, 'learning_rate': 0.23168559901409894}. Best is trial 18 with value: -0.756705.\n"
     ]
    },
    {
     "name": "stderr",
     "output_type": "stream",
     "text": [
      "[I 2025-05-14 18:21:18,278] Trial 26 pruned. Trial was pruned at iteration 0.\n"
     ]
    },
    {
     "name": "stderr",
     "output_type": "stream",
     "text": [
      "[I 2025-05-14 18:22:12,543] Trial 27 finished with value: -0.754776 and parameters: {'max_depth': 20, 'min_child_weight': 17, 'subsample': 0.6451461746298132, 'colsample_bynode': 0.20899205720966268, 'learning_rate': 0.24298939546043904}. Best is trial 18 with value: -0.756705.\n"
     ]
    },
    {
     "name": "stderr",
     "output_type": "stream",
     "text": [
      "[I 2025-05-14 18:22:13,154] Trial 28 pruned. Trial was pruned at iteration 0.\n"
     ]
    },
    {
     "name": "stderr",
     "output_type": "stream",
     "text": [
      "[I 2025-05-14 18:22:13,719] Trial 29 pruned. Trial was pruned at iteration 0.\n"
     ]
    },
    {
     "name": "stderr",
     "output_type": "stream",
     "text": [
      "[I 2025-05-14 18:22:14,288] Trial 30 pruned. Trial was pruned at iteration 0.\n"
     ]
    },
    {
     "name": "stderr",
     "output_type": "stream",
     "text": [
      "[I 2025-05-14 18:23:05,285] Trial 31 finished with value: -0.750395 and parameters: {'max_depth': 19, 'min_child_weight': 17, 'subsample': 0.7850784888873833, 'colsample_bynode': 0.1952708875915334, 'learning_rate': 0.12071327623908129}. Best is trial 18 with value: -0.756705.\n"
     ]
    },
    {
     "name": "stderr",
     "output_type": "stream",
     "text": [
      "[I 2025-05-14 18:23:05,917] Trial 32 pruned. Trial was pruned at iteration 0.\n"
     ]
    },
    {
     "name": "stderr",
     "output_type": "stream",
     "text": [
      "[I 2025-05-14 18:23:42,435] Trial 33 finished with value: -0.748914 and parameters: {'max_depth': 10, 'min_child_weight': 18, 'subsample': 0.9285498128179106, 'colsample_bynode': 0.27347550368887097, 'learning_rate': 0.4798318600553979}. Best is trial 18 with value: -0.756705.\n"
     ]
    },
    {
     "name": "stderr",
     "output_type": "stream",
     "text": [
      "[I 2025-05-14 18:23:53,072] Trial 34 pruned. Trial was pruned at iteration 20.\n"
     ]
    },
    {
     "name": "stderr",
     "output_type": "stream",
     "text": [
      "[I 2025-05-14 18:23:54,128] Trial 35 pruned. Trial was pruned at iteration 1.\n"
     ]
    },
    {
     "name": "stderr",
     "output_type": "stream",
     "text": [
      "[I 2025-05-14 18:23:54,684] Trial 36 pruned. Trial was pruned at iteration 0.\n"
     ]
    },
    {
     "name": "stderr",
     "output_type": "stream",
     "text": [
      "[I 2025-05-14 18:23:55,268] Trial 37 pruned. Trial was pruned at iteration 0.\n"
     ]
    },
    {
     "name": "stderr",
     "output_type": "stream",
     "text": [
      "[I 2025-05-14 18:23:55,883] Trial 38 pruned. Trial was pruned at iteration 0.\n"
     ]
    },
    {
     "name": "stderr",
     "output_type": "stream",
     "text": [
      "[I 2025-05-14 18:23:59,519] Trial 39 pruned. Trial was pruned at iteration 7.\n"
     ]
    },
    {
     "name": "stderr",
     "output_type": "stream",
     "text": [
      "[I 2025-05-14 18:24:00,131] Trial 40 pruned. Trial was pruned at iteration 0.\n"
     ]
    },
    {
     "name": "stderr",
     "output_type": "stream",
     "text": [
      "[I 2025-05-14 18:24:26,753] Trial 41 pruned. Trial was pruned at iteration 61.\n"
     ]
    },
    {
     "name": "stderr",
     "output_type": "stream",
     "text": [
      "[I 2025-05-14 18:24:27,512] Trial 42 pruned. Trial was pruned at iteration 0.\n"
     ]
    },
    {
     "name": "stderr",
     "output_type": "stream",
     "text": [
      "[I 2025-05-14 18:25:01,578] Trial 43 pruned. Trial was pruned at iteration 96.\n"
     ]
    },
    {
     "name": "stderr",
     "output_type": "stream",
     "text": [
      "[I 2025-05-14 18:25:02,613] Trial 44 pruned. Trial was pruned at iteration 1.\n"
     ]
    },
    {
     "name": "stderr",
     "output_type": "stream",
     "text": [
      "[I 2025-05-14 18:25:40,253] Trial 45 pruned. Trial was pruned at iteration 35.\n"
     ]
    },
    {
     "name": "stderr",
     "output_type": "stream",
     "text": [
      "[I 2025-05-14 18:25:40,870] Trial 46 pruned. Trial was pruned at iteration 0.\n"
     ]
    },
    {
     "name": "stderr",
     "output_type": "stream",
     "text": [
      "[I 2025-05-14 18:25:41,439] Trial 47 pruned. Trial was pruned at iteration 0.\n"
     ]
    },
    {
     "name": "stderr",
     "output_type": "stream",
     "text": [
      "[I 2025-05-14 18:25:42,055] Trial 48 pruned. Trial was pruned at iteration 0.\n"
     ]
    },
    {
     "name": "stderr",
     "output_type": "stream",
     "text": [
      "[I 2025-05-14 18:26:11,769] Trial 49 pruned. Trial was pruned at iteration 61.\n"
     ]
    }
   ],
   "source": [
    "sampler = optuna.samplers.TPESampler(seed=42)\n",
    "study = optuna.create_study(direction='minimize', sampler=sampler)\n",
    "study.optimize(objective, n_trials=N_TRIALS, gc_after_trial=True)"
   ]
  },
  {
   "cell_type": "code",
   "execution_count": 20,
   "id": "07032e4b",
   "metadata": {
    "execution": {
     "iopub.execute_input": "2025-05-14T16:26:11.901884Z",
     "iopub.status.busy": "2025-05-14T16:26:11.901672Z",
     "iopub.status.idle": "2025-05-14T16:26:11.929448Z",
     "shell.execute_reply": "2025-05-14T16:26:11.929052Z"
    },
    "papermill": {
     "duration": 0.03704,
     "end_time": "2025-05-14T16:26:11.930272",
     "exception": false,
     "start_time": "2025-05-14T16:26:11.893232",
     "status": "completed"
    },
    "tags": []
   },
   "outputs": [
    {
     "data": {
      "text/plain": [
       "['/scratch_isilon/groups/singlecell/shared/projects/Inflammation-PBMCs-Atlas/03_downstream_analysis/08_gene_importance/xgboost_external_validation/xgboost_TopN_genes/results_20/study/T_CD4_NonNaive_shap_studyID_NOdisease_0_xgboost.pkl']"
      ]
     },
     "execution_count": 20,
     "metadata": {},
     "output_type": "execute_result"
    }
   ],
   "source": [
    "out_dir = here(f'03_downstream_analysis/08_gene_importance/xgboost_external_validation/xgboost_TopN_genes/results_{N_GENES}/study')\n",
    "\n",
    "if not os.path.exists(out_dir):\n",
    "    os.makedirs(out_dir)\n",
    "    \n",
    "joblib.dump(study,os.path.join(out_dir, f'{CELL_TYPE}_{SEED}_{TEST_SPLIT_IDX}_xgboost.pkl'))"
   ]
  },
  {
   "cell_type": "code",
   "execution_count": 21,
   "id": "5e9ba7b9",
   "metadata": {
    "execution": {
     "iopub.execute_input": "2025-05-14T16:26:11.947377Z",
     "iopub.status.busy": "2025-05-14T16:26:11.947137Z",
     "iopub.status.idle": "2025-05-14T16:26:35.321513Z",
     "shell.execute_reply": "2025-05-14T16:26:35.321177Z"
    },
    "papermill": {
     "duration": 23.383783,
     "end_time": "2025-05-14T16:26:35.322409",
     "exception": false,
     "start_time": "2025-05-14T16:26:11.938626",
     "status": "completed"
    },
    "tags": []
   },
   "outputs": [
    {
     "data": {
      "text/html": [
       "<style>#sk-container-id-1 {\n",
       "  /* Definition of color scheme common for light and dark mode */\n",
       "  --sklearn-color-text: black;\n",
       "  --sklearn-color-line: gray;\n",
       "  /* Definition of color scheme for unfitted estimators */\n",
       "  --sklearn-color-unfitted-level-0: #fff5e6;\n",
       "  --sklearn-color-unfitted-level-1: #f6e4d2;\n",
       "  --sklearn-color-unfitted-level-2: #ffe0b3;\n",
       "  --sklearn-color-unfitted-level-3: chocolate;\n",
       "  /* Definition of color scheme for fitted estimators */\n",
       "  --sklearn-color-fitted-level-0: #f0f8ff;\n",
       "  --sklearn-color-fitted-level-1: #d4ebff;\n",
       "  --sklearn-color-fitted-level-2: #b3dbfd;\n",
       "  --sklearn-color-fitted-level-3: cornflowerblue;\n",
       "\n",
       "  /* Specific color for light theme */\n",
       "  --sklearn-color-text-on-default-background: var(--sg-text-color, var(--theme-code-foreground, var(--jp-content-font-color1, black)));\n",
       "  --sklearn-color-background: var(--sg-background-color, var(--theme-background, var(--jp-layout-color0, white)));\n",
       "  --sklearn-color-border-box: var(--sg-text-color, var(--theme-code-foreground, var(--jp-content-font-color1, black)));\n",
       "  --sklearn-color-icon: #696969;\n",
       "\n",
       "  @media (prefers-color-scheme: dark) {\n",
       "    /* Redefinition of color scheme for dark theme */\n",
       "    --sklearn-color-text-on-default-background: var(--sg-text-color, var(--theme-code-foreground, var(--jp-content-font-color1, white)));\n",
       "    --sklearn-color-background: var(--sg-background-color, var(--theme-background, var(--jp-layout-color0, #111)));\n",
       "    --sklearn-color-border-box: var(--sg-text-color, var(--theme-code-foreground, var(--jp-content-font-color1, white)));\n",
       "    --sklearn-color-icon: #878787;\n",
       "  }\n",
       "}\n",
       "\n",
       "#sk-container-id-1 {\n",
       "  color: var(--sklearn-color-text);\n",
       "}\n",
       "\n",
       "#sk-container-id-1 pre {\n",
       "  padding: 0;\n",
       "}\n",
       "\n",
       "#sk-container-id-1 input.sk-hidden--visually {\n",
       "  border: 0;\n",
       "  clip: rect(1px 1px 1px 1px);\n",
       "  clip: rect(1px, 1px, 1px, 1px);\n",
       "  height: 1px;\n",
       "  margin: -1px;\n",
       "  overflow: hidden;\n",
       "  padding: 0;\n",
       "  position: absolute;\n",
       "  width: 1px;\n",
       "}\n",
       "\n",
       "#sk-container-id-1 div.sk-dashed-wrapped {\n",
       "  border: 1px dashed var(--sklearn-color-line);\n",
       "  margin: 0 0.4em 0.5em 0.4em;\n",
       "  box-sizing: border-box;\n",
       "  padding-bottom: 0.4em;\n",
       "  background-color: var(--sklearn-color-background);\n",
       "}\n",
       "\n",
       "#sk-container-id-1 div.sk-container {\n",
       "  /* jupyter's `normalize.less` sets `[hidden] { display: none; }`\n",
       "     but bootstrap.min.css set `[hidden] { display: none !important; }`\n",
       "     so we also need the `!important` here to be able to override the\n",
       "     default hidden behavior on the sphinx rendered scikit-learn.org.\n",
       "     See: https://github.com/scikit-learn/scikit-learn/issues/21755 */\n",
       "  display: inline-block !important;\n",
       "  position: relative;\n",
       "}\n",
       "\n",
       "#sk-container-id-1 div.sk-text-repr-fallback {\n",
       "  display: none;\n",
       "}\n",
       "\n",
       "div.sk-parallel-item,\n",
       "div.sk-serial,\n",
       "div.sk-item {\n",
       "  /* draw centered vertical line to link estimators */\n",
       "  background-image: linear-gradient(var(--sklearn-color-text-on-default-background), var(--sklearn-color-text-on-default-background));\n",
       "  background-size: 2px 100%;\n",
       "  background-repeat: no-repeat;\n",
       "  background-position: center center;\n",
       "}\n",
       "\n",
       "/* Parallel-specific style estimator block */\n",
       "\n",
       "#sk-container-id-1 div.sk-parallel-item::after {\n",
       "  content: \"\";\n",
       "  width: 100%;\n",
       "  border-bottom: 2px solid var(--sklearn-color-text-on-default-background);\n",
       "  flex-grow: 1;\n",
       "}\n",
       "\n",
       "#sk-container-id-1 div.sk-parallel {\n",
       "  display: flex;\n",
       "  align-items: stretch;\n",
       "  justify-content: center;\n",
       "  background-color: var(--sklearn-color-background);\n",
       "  position: relative;\n",
       "}\n",
       "\n",
       "#sk-container-id-1 div.sk-parallel-item {\n",
       "  display: flex;\n",
       "  flex-direction: column;\n",
       "}\n",
       "\n",
       "#sk-container-id-1 div.sk-parallel-item:first-child::after {\n",
       "  align-self: flex-end;\n",
       "  width: 50%;\n",
       "}\n",
       "\n",
       "#sk-container-id-1 div.sk-parallel-item:last-child::after {\n",
       "  align-self: flex-start;\n",
       "  width: 50%;\n",
       "}\n",
       "\n",
       "#sk-container-id-1 div.sk-parallel-item:only-child::after {\n",
       "  width: 0;\n",
       "}\n",
       "\n",
       "/* Serial-specific style estimator block */\n",
       "\n",
       "#sk-container-id-1 div.sk-serial {\n",
       "  display: flex;\n",
       "  flex-direction: column;\n",
       "  align-items: center;\n",
       "  background-color: var(--sklearn-color-background);\n",
       "  padding-right: 1em;\n",
       "  padding-left: 1em;\n",
       "}\n",
       "\n",
       "\n",
       "/* Toggleable style: style used for estimator/Pipeline/ColumnTransformer box that is\n",
       "clickable and can be expanded/collapsed.\n",
       "- Pipeline and ColumnTransformer use this feature and define the default style\n",
       "- Estimators will overwrite some part of the style using the `sk-estimator` class\n",
       "*/\n",
       "\n",
       "/* Pipeline and ColumnTransformer style (default) */\n",
       "\n",
       "#sk-container-id-1 div.sk-toggleable {\n",
       "  /* Default theme specific background. It is overwritten whether we have a\n",
       "  specific estimator or a Pipeline/ColumnTransformer */\n",
       "  background-color: var(--sklearn-color-background);\n",
       "}\n",
       "\n",
       "/* Toggleable label */\n",
       "#sk-container-id-1 label.sk-toggleable__label {\n",
       "  cursor: pointer;\n",
       "  display: block;\n",
       "  width: 100%;\n",
       "  margin-bottom: 0;\n",
       "  padding: 0.5em;\n",
       "  box-sizing: border-box;\n",
       "  text-align: center;\n",
       "}\n",
       "\n",
       "#sk-container-id-1 label.sk-toggleable__label-arrow:before {\n",
       "  /* Arrow on the left of the label */\n",
       "  content: \"▸\";\n",
       "  float: left;\n",
       "  margin-right: 0.25em;\n",
       "  color: var(--sklearn-color-icon);\n",
       "}\n",
       "\n",
       "#sk-container-id-1 label.sk-toggleable__label-arrow:hover:before {\n",
       "  color: var(--sklearn-color-text);\n",
       "}\n",
       "\n",
       "/* Toggleable content - dropdown */\n",
       "\n",
       "#sk-container-id-1 div.sk-toggleable__content {\n",
       "  max-height: 0;\n",
       "  max-width: 0;\n",
       "  overflow: hidden;\n",
       "  text-align: left;\n",
       "  /* unfitted */\n",
       "  background-color: var(--sklearn-color-unfitted-level-0);\n",
       "}\n",
       "\n",
       "#sk-container-id-1 div.sk-toggleable__content.fitted {\n",
       "  /* fitted */\n",
       "  background-color: var(--sklearn-color-fitted-level-0);\n",
       "}\n",
       "\n",
       "#sk-container-id-1 div.sk-toggleable__content pre {\n",
       "  margin: 0.2em;\n",
       "  border-radius: 0.25em;\n",
       "  color: var(--sklearn-color-text);\n",
       "  /* unfitted */\n",
       "  background-color: var(--sklearn-color-unfitted-level-0);\n",
       "}\n",
       "\n",
       "#sk-container-id-1 div.sk-toggleable__content.fitted pre {\n",
       "  /* unfitted */\n",
       "  background-color: var(--sklearn-color-fitted-level-0);\n",
       "}\n",
       "\n",
       "#sk-container-id-1 input.sk-toggleable__control:checked~div.sk-toggleable__content {\n",
       "  /* Expand drop-down */\n",
       "  max-height: 200px;\n",
       "  max-width: 100%;\n",
       "  overflow: auto;\n",
       "}\n",
       "\n",
       "#sk-container-id-1 input.sk-toggleable__control:checked~label.sk-toggleable__label-arrow:before {\n",
       "  content: \"▾\";\n",
       "}\n",
       "\n",
       "/* Pipeline/ColumnTransformer-specific style */\n",
       "\n",
       "#sk-container-id-1 div.sk-label input.sk-toggleable__control:checked~label.sk-toggleable__label {\n",
       "  color: var(--sklearn-color-text);\n",
       "  background-color: var(--sklearn-color-unfitted-level-2);\n",
       "}\n",
       "\n",
       "#sk-container-id-1 div.sk-label.fitted input.sk-toggleable__control:checked~label.sk-toggleable__label {\n",
       "  background-color: var(--sklearn-color-fitted-level-2);\n",
       "}\n",
       "\n",
       "/* Estimator-specific style */\n",
       "\n",
       "/* Colorize estimator box */\n",
       "#sk-container-id-1 div.sk-estimator input.sk-toggleable__control:checked~label.sk-toggleable__label {\n",
       "  /* unfitted */\n",
       "  background-color: var(--sklearn-color-unfitted-level-2);\n",
       "}\n",
       "\n",
       "#sk-container-id-1 div.sk-estimator.fitted input.sk-toggleable__control:checked~label.sk-toggleable__label {\n",
       "  /* fitted */\n",
       "  background-color: var(--sklearn-color-fitted-level-2);\n",
       "}\n",
       "\n",
       "#sk-container-id-1 div.sk-label label.sk-toggleable__label,\n",
       "#sk-container-id-1 div.sk-label label {\n",
       "  /* The background is the default theme color */\n",
       "  color: var(--sklearn-color-text-on-default-background);\n",
       "}\n",
       "\n",
       "/* On hover, darken the color of the background */\n",
       "#sk-container-id-1 div.sk-label:hover label.sk-toggleable__label {\n",
       "  color: var(--sklearn-color-text);\n",
       "  background-color: var(--sklearn-color-unfitted-level-2);\n",
       "}\n",
       "\n",
       "/* Label box, darken color on hover, fitted */\n",
       "#sk-container-id-1 div.sk-label.fitted:hover label.sk-toggleable__label.fitted {\n",
       "  color: var(--sklearn-color-text);\n",
       "  background-color: var(--sklearn-color-fitted-level-2);\n",
       "}\n",
       "\n",
       "/* Estimator label */\n",
       "\n",
       "#sk-container-id-1 div.sk-label label {\n",
       "  font-family: monospace;\n",
       "  font-weight: bold;\n",
       "  display: inline-block;\n",
       "  line-height: 1.2em;\n",
       "}\n",
       "\n",
       "#sk-container-id-1 div.sk-label-container {\n",
       "  text-align: center;\n",
       "}\n",
       "\n",
       "/* Estimator-specific */\n",
       "#sk-container-id-1 div.sk-estimator {\n",
       "  font-family: monospace;\n",
       "  border: 1px dotted var(--sklearn-color-border-box);\n",
       "  border-radius: 0.25em;\n",
       "  box-sizing: border-box;\n",
       "  margin-bottom: 0.5em;\n",
       "  /* unfitted */\n",
       "  background-color: var(--sklearn-color-unfitted-level-0);\n",
       "}\n",
       "\n",
       "#sk-container-id-1 div.sk-estimator.fitted {\n",
       "  /* fitted */\n",
       "  background-color: var(--sklearn-color-fitted-level-0);\n",
       "}\n",
       "\n",
       "/* on hover */\n",
       "#sk-container-id-1 div.sk-estimator:hover {\n",
       "  /* unfitted */\n",
       "  background-color: var(--sklearn-color-unfitted-level-2);\n",
       "}\n",
       "\n",
       "#sk-container-id-1 div.sk-estimator.fitted:hover {\n",
       "  /* fitted */\n",
       "  background-color: var(--sklearn-color-fitted-level-2);\n",
       "}\n",
       "\n",
       "/* Specification for estimator info (e.g. \"i\" and \"?\") */\n",
       "\n",
       "/* Common style for \"i\" and \"?\" */\n",
       "\n",
       ".sk-estimator-doc-link,\n",
       "a:link.sk-estimator-doc-link,\n",
       "a:visited.sk-estimator-doc-link {\n",
       "  float: right;\n",
       "  font-size: smaller;\n",
       "  line-height: 1em;\n",
       "  font-family: monospace;\n",
       "  background-color: var(--sklearn-color-background);\n",
       "  border-radius: 1em;\n",
       "  height: 1em;\n",
       "  width: 1em;\n",
       "  text-decoration: none !important;\n",
       "  margin-left: 1ex;\n",
       "  /* unfitted */\n",
       "  border: var(--sklearn-color-unfitted-level-1) 1pt solid;\n",
       "  color: var(--sklearn-color-unfitted-level-1);\n",
       "}\n",
       "\n",
       ".sk-estimator-doc-link.fitted,\n",
       "a:link.sk-estimator-doc-link.fitted,\n",
       "a:visited.sk-estimator-doc-link.fitted {\n",
       "  /* fitted */\n",
       "  border: var(--sklearn-color-fitted-level-1) 1pt solid;\n",
       "  color: var(--sklearn-color-fitted-level-1);\n",
       "}\n",
       "\n",
       "/* On hover */\n",
       "div.sk-estimator:hover .sk-estimator-doc-link:hover,\n",
       ".sk-estimator-doc-link:hover,\n",
       "div.sk-label-container:hover .sk-estimator-doc-link:hover,\n",
       ".sk-estimator-doc-link:hover {\n",
       "  /* unfitted */\n",
       "  background-color: var(--sklearn-color-unfitted-level-3);\n",
       "  color: var(--sklearn-color-background);\n",
       "  text-decoration: none;\n",
       "}\n",
       "\n",
       "div.sk-estimator.fitted:hover .sk-estimator-doc-link.fitted:hover,\n",
       ".sk-estimator-doc-link.fitted:hover,\n",
       "div.sk-label-container:hover .sk-estimator-doc-link.fitted:hover,\n",
       ".sk-estimator-doc-link.fitted:hover {\n",
       "  /* fitted */\n",
       "  background-color: var(--sklearn-color-fitted-level-3);\n",
       "  color: var(--sklearn-color-background);\n",
       "  text-decoration: none;\n",
       "}\n",
       "\n",
       "/* Span, style for the box shown on hovering the info icon */\n",
       ".sk-estimator-doc-link span {\n",
       "  display: none;\n",
       "  z-index: 9999;\n",
       "  position: relative;\n",
       "  font-weight: normal;\n",
       "  right: .2ex;\n",
       "  padding: .5ex;\n",
       "  margin: .5ex;\n",
       "  width: min-content;\n",
       "  min-width: 20ex;\n",
       "  max-width: 50ex;\n",
       "  color: var(--sklearn-color-text);\n",
       "  box-shadow: 2pt 2pt 4pt #999;\n",
       "  /* unfitted */\n",
       "  background: var(--sklearn-color-unfitted-level-0);\n",
       "  border: .5pt solid var(--sklearn-color-unfitted-level-3);\n",
       "}\n",
       "\n",
       ".sk-estimator-doc-link.fitted span {\n",
       "  /* fitted */\n",
       "  background: var(--sklearn-color-fitted-level-0);\n",
       "  border: var(--sklearn-color-fitted-level-3);\n",
       "}\n",
       "\n",
       ".sk-estimator-doc-link:hover span {\n",
       "  display: block;\n",
       "}\n",
       "\n",
       "/* \"?\"-specific style due to the `<a>` HTML tag */\n",
       "\n",
       "#sk-container-id-1 a.estimator_doc_link {\n",
       "  float: right;\n",
       "  font-size: 1rem;\n",
       "  line-height: 1em;\n",
       "  font-family: monospace;\n",
       "  background-color: var(--sklearn-color-background);\n",
       "  border-radius: 1rem;\n",
       "  height: 1rem;\n",
       "  width: 1rem;\n",
       "  text-decoration: none;\n",
       "  /* unfitted */\n",
       "  color: var(--sklearn-color-unfitted-level-1);\n",
       "  border: var(--sklearn-color-unfitted-level-1) 1pt solid;\n",
       "}\n",
       "\n",
       "#sk-container-id-1 a.estimator_doc_link.fitted {\n",
       "  /* fitted */\n",
       "  border: var(--sklearn-color-fitted-level-1) 1pt solid;\n",
       "  color: var(--sklearn-color-fitted-level-1);\n",
       "}\n",
       "\n",
       "/* On hover */\n",
       "#sk-container-id-1 a.estimator_doc_link:hover {\n",
       "  /* unfitted */\n",
       "  background-color: var(--sklearn-color-unfitted-level-3);\n",
       "  color: var(--sklearn-color-background);\n",
       "  text-decoration: none;\n",
       "}\n",
       "\n",
       "#sk-container-id-1 a.estimator_doc_link.fitted:hover {\n",
       "  /* fitted */\n",
       "  background-color: var(--sklearn-color-fitted-level-3);\n",
       "}\n",
       "</style><div id=\"sk-container-id-1\" class=\"sk-top-container\"><div class=\"sk-text-repr-fallback\"><pre>XGBClassifier(base_score=None, booster=None, callbacks=None,\n",
       "              colsample_bylevel=None, colsample_bynode=0.3955466156360019,\n",
       "              colsample_bytree=None, device=None, early_stopping_rounds=None,\n",
       "              enable_categorical=False,\n",
       "              eval_metric=&lt;function custom_f1_score at 0x7f1eb49305e0&gt;,\n",
       "              feature_types=None, gamma=None, grow_policy=None,\n",
       "              importance_type=None, interaction_constraints=None,\n",
       "              learning_rate=0.13348559174149954, max_bin=None,\n",
       "              max_cat_threshold=None, max_cat_to_onehot=None,\n",
       "              max_delta_step=None, max_depth=11, max_leaves=None,\n",
       "              min_child_weight=37, missing=nan, monotone_constraints=None,\n",
       "              multi_strategy=None, n_estimators=192, n_jobs=None,\n",
       "              num_parallel_tree=None, objective=&#x27;multi:softprob&#x27;, ...)</pre><b>In a Jupyter environment, please rerun this cell to show the HTML representation or trust the notebook. <br />On GitHub, the HTML representation is unable to render, please try loading this page with nbviewer.org.</b></div><div class=\"sk-container\" hidden><div class=\"sk-item\"><div class=\"sk-estimator fitted sk-toggleable\"><input class=\"sk-toggleable__control sk-hidden--visually\" id=\"sk-estimator-id-1\" type=\"checkbox\" checked><label for=\"sk-estimator-id-1\" class=\"sk-toggleable__label fitted sk-toggleable__label-arrow fitted\">&nbsp;XGBClassifier<span class=\"sk-estimator-doc-link fitted\">i<span>Fitted</span></span></label><div class=\"sk-toggleable__content fitted\"><pre>XGBClassifier(base_score=None, booster=None, callbacks=None,\n",
       "              colsample_bylevel=None, colsample_bynode=0.3955466156360019,\n",
       "              colsample_bytree=None, device=None, early_stopping_rounds=None,\n",
       "              enable_categorical=False,\n",
       "              eval_metric=&lt;function custom_f1_score at 0x7f1eb49305e0&gt;,\n",
       "              feature_types=None, gamma=None, grow_policy=None,\n",
       "              importance_type=None, interaction_constraints=None,\n",
       "              learning_rate=0.13348559174149954, max_bin=None,\n",
       "              max_cat_threshold=None, max_cat_to_onehot=None,\n",
       "              max_delta_step=None, max_depth=11, max_leaves=None,\n",
       "              min_child_weight=37, missing=nan, monotone_constraints=None,\n",
       "              multi_strategy=None, n_estimators=192, n_jobs=None,\n",
       "              num_parallel_tree=None, objective=&#x27;multi:softprob&#x27;, ...)</pre></div> </div></div></div></div>"
      ],
      "text/plain": [
       "XGBClassifier(base_score=None, booster=None, callbacks=None,\n",
       "              colsample_bylevel=None, colsample_bynode=0.3955466156360019,\n",
       "              colsample_bytree=None, device=None, early_stopping_rounds=None,\n",
       "              enable_categorical=False,\n",
       "              eval_metric=<function custom_f1_score at 0x7f1eb49305e0>,\n",
       "              feature_types=None, gamma=None, grow_policy=None,\n",
       "              importance_type=None, interaction_constraints=None,\n",
       "              learning_rate=0.13348559174149954, max_bin=None,\n",
       "              max_cat_threshold=None, max_cat_to_onehot=None,\n",
       "              max_delta_step=None, max_depth=11, max_leaves=None,\n",
       "              min_child_weight=37, missing=nan, monotone_constraints=None,\n",
       "              multi_strategy=None, n_estimators=192, n_jobs=None,\n",
       "              num_parallel_tree=None, objective='multi:softprob', ...)"
      ]
     },
     "execution_count": 21,
     "metadata": {},
     "output_type": "execute_result"
    }
   ],
   "source": [
    "n_estimators = int(study.best_trial.user_attrs['best_iteration']*1.2)\n",
    "xgb = xgboost.XGBClassifier(\n",
    "        eval_metric=eval_metric,\n",
    "        n_estimators=n_estimators,\n",
    "        **study.best_trial.params\n",
    "    )\n",
    "xgb.fit(\n",
    "    ssp.vstack((X_train, X_val)), \n",
    "    np.concatenate((y_train_enc, y_val_enc)),\n",
    "    verbose=1,\n",
    ")"
   ]
  },
  {
   "cell_type": "code",
   "execution_count": 22,
   "id": "54a42841",
   "metadata": {
    "execution": {
     "iopub.execute_input": "2025-05-14T16:26:35.341505Z",
     "iopub.status.busy": "2025-05-14T16:26:35.341298Z",
     "iopub.status.idle": "2025-05-14T16:26:35.469158Z",
     "shell.execute_reply": "2025-05-14T16:26:35.468808Z"
    },
    "papermill": {
     "duration": 0.138353,
     "end_time": "2025-05-14T16:26:35.470091",
     "exception": false,
     "start_time": "2025-05-14T16:26:35.331738",
     "status": "completed"
    },
    "tags": []
   },
   "outputs": [
    {
     "data": {
      "text/plain": [
       "['/scratch_isilon/groups/singlecell/shared/projects/Inflammation-PBMCs-Atlas/03_downstream_analysis/08_gene_importance/xgboost_external_validation/xgboost_TopN_genes/results_20/best_model/T_CD4_NonNaive_shap_studyID_NOdisease_0_xgb.json']"
      ]
     },
     "execution_count": 22,
     "metadata": {},
     "output_type": "execute_result"
    }
   ],
   "source": [
    "out_dir = here(f'03_downstream_analysis/08_gene_importance/xgboost_external_validation/xgboost_TopN_genes/results_{N_GENES}/best_model')\n",
    "\n",
    "if not os.path.exists(out_dir):\n",
    "    os.makedirs(out_dir)\n",
    "    \n",
    "joblib.dump(xgb, os.path.join(out_dir, f'{CELL_TYPE}_{SEED}_{TEST_SPLIT_IDX}_xgb.json'))"
   ]
  },
  {
   "cell_type": "code",
   "execution_count": 23,
   "id": "918434dc",
   "metadata": {
    "execution": {
     "iopub.execute_input": "2025-05-14T16:26:35.488545Z",
     "iopub.status.busy": "2025-05-14T16:26:35.488329Z",
     "iopub.status.idle": "2025-05-14T16:26:36.743836Z",
     "shell.execute_reply": "2025-05-14T16:26:36.743410Z"
    },
    "papermill": {
     "duration": 1.265669,
     "end_time": "2025-05-14T16:26:36.745051",
     "exception": false,
     "start_time": "2025-05-14T16:26:35.479382",
     "status": "completed"
    },
    "tags": []
   },
   "outputs": [],
   "source": [
    "df_pred_test = pd.DataFrame(dict(\n",
    "    cell_id=train_adata.obs.iloc[test_idxs].index.values,\n",
    "    y_true=y_test, \n",
    "    y_true_code=y_test_enc, \n",
    "    y_pred=xgb.predict(X_test))).set_index('cell_id')"
   ]
  },
  {
   "cell_type": "code",
   "execution_count": 24,
   "id": "527632a0",
   "metadata": {
    "execution": {
     "iopub.execute_input": "2025-05-14T16:26:36.763693Z",
     "iopub.status.busy": "2025-05-14T16:26:36.763375Z",
     "iopub.status.idle": "2025-05-14T16:26:37.196403Z",
     "shell.execute_reply": "2025-05-14T16:26:37.196008Z"
    },
    "papermill": {
     "duration": 0.443483,
     "end_time": "2025-05-14T16:26:37.197472",
     "exception": false,
     "start_time": "2025-05-14T16:26:36.753989",
     "status": "completed"
    },
    "tags": []
   },
   "outputs": [],
   "source": [
    "out_dir = here(f'03_downstream_analysis/08_gene_importance/xgboost_external_validation/xgboost_TopN_genes/results_{N_GENES}/predictions')\n",
    "\n",
    "if not os.path.exists(out_dir):\n",
    "    os.makedirs(out_dir)\n",
    "    \n",
    "df_pred_test.to_csv(os.path.join(out_dir, f'{CELL_TYPE}_{SEED}_{TEST_SPLIT_IDX}_pred_test.zip'))"
   ]
  },
  {
   "cell_type": "code",
   "execution_count": 25,
   "id": "ed3919e6",
   "metadata": {
    "execution": {
     "iopub.execute_input": "2025-05-14T16:26:37.217418Z",
     "iopub.status.busy": "2025-05-14T16:26:37.217142Z",
     "iopub.status.idle": "2025-05-14T16:26:37.234883Z",
     "shell.execute_reply": "2025-05-14T16:26:37.234512Z"
    },
    "papermill": {
     "duration": 0.028596,
     "end_time": "2025-05-14T16:26:37.235702",
     "exception": false,
     "start_time": "2025-05-14T16:26:37.207106",
     "status": "completed"
    },
    "tags": []
   },
   "outputs": [],
   "source": [
    "metrics_dict = dict(\n",
    "    BAS=balanced_accuracy_score(y_true=df_pred_test.y_true_code, y_pred=df_pred_test.y_pred), WF1=f1_score(y_true=df_pred_test.y_true_code, y_pred=df_pred_test.y_pred,average='weighted'))"
   ]
  },
  {
   "cell_type": "code",
   "execution_count": 26,
   "id": "b2650d04",
   "metadata": {
    "execution": {
     "iopub.execute_input": "2025-05-14T16:26:37.265754Z",
     "iopub.status.busy": "2025-05-14T16:26:37.265577Z",
     "iopub.status.idle": "2025-05-14T16:26:37.268462Z",
     "shell.execute_reply": "2025-05-14T16:26:37.268148Z"
    },
    "papermill": {
     "duration": 0.012768,
     "end_time": "2025-05-14T16:26:37.269218",
     "exception": false,
     "start_time": "2025-05-14T16:26:37.256450",
     "status": "completed"
    },
    "tags": []
   },
   "outputs": [
    {
     "data": {
      "text/plain": [
       "{'BAS': 0.5866733611028765, 'WF1': 0.7597660797452797}"
      ]
     },
     "execution_count": 26,
     "metadata": {},
     "output_type": "execute_result"
    }
   ],
   "source": [
    "metrics_dict"
   ]
  },
  {
   "cell_type": "code",
   "execution_count": 27,
   "id": "4125ed5f",
   "metadata": {
    "execution": {
     "iopub.execute_input": "2025-05-14T16:26:37.321472Z",
     "iopub.status.busy": "2025-05-14T16:26:37.321279Z",
     "iopub.status.idle": "2025-05-14T16:26:37.331474Z",
     "shell.execute_reply": "2025-05-14T16:26:37.331177Z"
    },
    "papermill": {
     "duration": 0.031179,
     "end_time": "2025-05-14T16:26:37.332313",
     "exception": false,
     "start_time": "2025-05-14T16:26:37.301134",
     "status": "completed"
    },
    "tags": []
   },
   "outputs": [
    {
     "data": {
      "text/html": [
       "<div>\n",
       "<style scoped>\n",
       "    .dataframe tbody tr th:only-of-type {\n",
       "        vertical-align: middle;\n",
       "    }\n",
       "\n",
       "    .dataframe tbody tr th {\n",
       "        vertical-align: top;\n",
       "    }\n",
       "\n",
       "    .dataframe thead th {\n",
       "        text-align: right;\n",
       "    }\n",
       "</style>\n",
       "<table border=\"1\" class=\"dataframe\">\n",
       "  <thead>\n",
       "    <tr style=\"text-align: right;\">\n",
       "      <th></th>\n",
       "      <th>BAS</th>\n",
       "      <th>WF1</th>\n",
       "      <th>split_idx</th>\n",
       "      <th>gene_set_seed</th>\n",
       "      <th>cell_type</th>\n",
       "    </tr>\n",
       "  </thead>\n",
       "  <tbody>\n",
       "    <tr>\n",
       "      <th>0</th>\n",
       "      <td>0.586673</td>\n",
       "      <td>0.759766</td>\n",
       "      <td>0</td>\n",
       "      <td>shap_studyID_NOdisease</td>\n",
       "      <td>T_CD4_NonNaive</td>\n",
       "    </tr>\n",
       "  </tbody>\n",
       "</table>\n",
       "</div>"
      ],
      "text/plain": [
       "        BAS       WF1  split_idx           gene_set_seed       cell_type\n",
       "0  0.586673  0.759766          0  shap_studyID_NOdisease  T_CD4_NonNaive"
      ]
     },
     "execution_count": 27,
     "metadata": {},
     "output_type": "execute_result"
    }
   ],
   "source": [
    "metrics_df = pd.DataFrame.from_dict([metrics_dict]).assign(split_idx=TEST_SPLIT_IDX, gene_set_seed=SEED, cell_type=CELL_TYPE)\n",
    "metrics_df"
   ]
  },
  {
   "cell_type": "code",
   "execution_count": 28,
   "id": "a98f2f99",
   "metadata": {
    "execution": {
     "iopub.execute_input": "2025-05-14T16:26:37.350568Z",
     "iopub.status.busy": "2025-05-14T16:26:37.350240Z",
     "iopub.status.idle": "2025-05-14T16:26:37.358661Z",
     "shell.execute_reply": "2025-05-14T16:26:37.358300Z"
    },
    "papermill": {
     "duration": 0.018514,
     "end_time": "2025-05-14T16:26:37.359470",
     "exception": false,
     "start_time": "2025-05-14T16:26:37.340956",
     "status": "completed"
    },
    "tags": []
   },
   "outputs": [],
   "source": [
    "out_dir = here(f'03_downstream_analysis/08_gene_importance/xgboost_external_validation/xgboost_TopN_genes/results_{N_GENES}/metrics')\n",
    "\n",
    "if not os.path.exists(out_dir):\n",
    "    os.makedirs(out_dir)\n",
    "    \n",
    "metrics_df.to_csv(os.path.join(out_dir, f'{CELL_TYPE}_{SEED}_{TEST_SPLIT_IDX}_metrics.zip'))"
   ]
  }
 ],
 "metadata": {
  "kernelspec": {
   "display_name": "Python 3 (ipykernel)",
   "language": "python",
   "name": "python3"
  },
  "language_info": {
   "codemirror_mode": {
    "name": "ipython",
    "version": 3
   },
   "file_extension": ".py",
   "mimetype": "text/x-python",
   "name": "python",
   "nbconvert_exporter": "python",
   "pygments_lexer": "ipython3",
   "version": "3.12.5"
  },
  "papermill": {
   "default_parameters": {},
   "duration": 1117.684321,
   "end_time": "2025-05-14T16:26:38.083610",
   "environment_variables": {},
   "exception": null,
   "input_path": "02_xgboost_fitting_external_20genes.ipynb",
   "output_path": "results_20/executed_notebooks/xgboost_fitting_external_CT_T_CD4_NonNaive_GS_shap_studyID_NOdisease_seed0.ipynb",
   "parameters": {
    "CELL_TYPE": "T_CD4_NonNaive",
    "SEED": "shap_studyID_NOdisease",
    "TEST_SPLIT_IDX": 0
   },
   "start_time": "2025-05-14T16:08:00.399289",
   "version": "2.6.0"
  }
 },
 "nbformat": 4,
 "nbformat_minor": 5
}