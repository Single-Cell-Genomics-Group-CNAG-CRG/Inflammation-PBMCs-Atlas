{
 "cells": [
  {
   "cell_type": "code",
   "execution_count": 1,
   "id": "5fc5b188",
   "metadata": {
    "editable": true,
    "execution": {
     "iopub.execute_input": "2025-05-15T16:15:28.816523Z",
     "iopub.status.busy": "2025-05-15T16:15:28.816001Z",
     "iopub.status.idle": "2025-05-15T16:15:28.819676Z",
     "shell.execute_reply": "2025-05-15T16:15:28.819278Z"
    },
    "papermill": {
     "duration": 0.012981,
     "end_time": "2025-05-15T16:15:28.820646",
     "exception": false,
     "start_time": "2025-05-15T16:15:28.807665",
     "status": "completed"
    },
    "slideshow": {
     "slide_type": ""
    },
    "tags": [
     "parameters"
    ]
   },
   "outputs": [],
   "source": [
    "CELL_TYPE = 'pDC'\n",
    "N_GENES: int = 20\n",
    "SEED = 'shap_studyID' #'disease_NOstudy' 'study_NOdisease' or 'int' or 'shap_studyID'\n",
    "TEST_SPLIT_IDX: int = 1 #[0,4]"
   ]
  },
  {
   "cell_type": "code",
   "execution_count": 2,
   "id": "6e5feac8",
   "metadata": {
    "execution": {
     "iopub.execute_input": "2025-05-15T16:15:28.833240Z",
     "iopub.status.busy": "2025-05-15T16:15:28.832987Z",
     "iopub.status.idle": "2025-05-15T16:15:28.835686Z",
     "shell.execute_reply": "2025-05-15T16:15:28.835326Z"
    },
    "papermill": {
     "duration": 0.009681,
     "end_time": "2025-05-15T16:15:28.836487",
     "exception": false,
     "start_time": "2025-05-15T16:15:28.826806",
     "status": "completed"
    },
    "tags": [
     "injected-parameters"
    ]
   },
   "outputs": [],
   "source": [
    "# Parameters\n",
    "CELL_TYPE = \"Plasma\"\n",
    "SEED = 5\n",
    "TEST_SPLIT_IDX = 4\n"
   ]
  },
  {
   "cell_type": "code",
   "execution_count": 3,
   "id": "e5e4d30f",
   "metadata": {
    "execution": {
     "iopub.execute_input": "2025-05-15T16:15:28.848363Z",
     "iopub.status.busy": "2025-05-15T16:15:28.848140Z",
     "iopub.status.idle": "2025-05-15T16:15:28.850748Z",
     "shell.execute_reply": "2025-05-15T16:15:28.850373Z"
    },
    "papermill": {
     "duration": 0.009756,
     "end_time": "2025-05-15T16:15:28.851588",
     "exception": false,
     "start_time": "2025-05-15T16:15:28.841832",
     "status": "completed"
    },
    "tags": []
   },
   "outputs": [],
   "source": [
    "N_SPLITS: int = 5\n",
    "N_TRIALS: int = 50"
   ]
  },
  {
   "cell_type": "code",
   "execution_count": 4,
   "id": "bbf7e87a",
   "metadata": {
    "execution": {
     "iopub.execute_input": "2025-05-15T16:15:28.865609Z",
     "iopub.status.busy": "2025-05-15T16:15:28.865162Z",
     "iopub.status.idle": "2025-05-15T16:15:30.409502Z",
     "shell.execute_reply": "2025-05-15T16:15:30.408997Z"
    },
    "papermill": {
     "duration": 1.55324,
     "end_time": "2025-05-15T16:15:30.410830",
     "exception": false,
     "start_time": "2025-05-15T16:15:28.857590",
     "status": "completed"
    },
    "tags": []
   },
   "outputs": [],
   "source": [
    "import os\n",
    "import sys\n",
    "from pyprojroot.here import here\n",
    "import pandas as pd\n",
    "import anndata as ad\n",
    "import numpy as np\n",
    "import math\n",
    "from sklearn.model_selection import StratifiedGroupKFold\n",
    "from sklearn.preprocessing import LabelEncoder\n",
    "from sklearn.metrics import f1_score\n",
    "import matplotlib.pyplot as plt\n",
    "import seaborn as sns\n",
    "from itertools import product\n",
    "from sklearn.metrics import balanced_accuracy_score, f1_score\n",
    "import optuna\n",
    "\n",
    "import joblib\n",
    "import pickle\n",
    "import datetime\n",
    "\n",
    "import collections\n",
    "\n",
    "import xgboost\n",
    "from sklearn.preprocessing import LabelEncoder\n",
    "\n",
    "import scipy.sparse as ssp\n",
    "import joblib\n",
    "\n",
    "from dotenv import load_dotenv"
   ]
  },
  {
   "cell_type": "code",
   "execution_count": 5,
   "id": "e1261cfd",
   "metadata": {
    "execution": {
     "iopub.execute_input": "2025-05-15T16:15:30.423688Z",
     "iopub.status.busy": "2025-05-15T16:15:30.423369Z",
     "iopub.status.idle": "2025-05-15T16:15:30.429979Z",
     "shell.execute_reply": "2025-05-15T16:15:30.429520Z"
    },
    "papermill": {
     "duration": 0.013732,
     "end_time": "2025-05-15T16:15:30.430935",
     "exception": false,
     "start_time": "2025-05-15T16:15:30.417203",
     "status": "completed"
    },
    "tags": []
   },
   "outputs": [
    {
     "data": {
      "text/plain": [
       "True"
      ]
     },
     "execution_count": 5,
     "metadata": {},
     "output_type": "execute_result"
    }
   ],
   "source": [
    "load_dotenv()"
   ]
  },
  {
   "cell_type": "markdown",
   "id": "15e27d2f",
   "metadata": {
    "papermill": {
     "duration": 0.005914,
     "end_time": "2025-05-15T16:15:30.443181",
     "exception": false,
     "start_time": "2025-05-15T16:15:30.437267",
     "status": "completed"
    },
    "tags": []
   },
   "source": [
    "# LOAD DATASET"
   ]
  },
  {
   "cell_type": "code",
   "execution_count": 6,
   "id": "faecd53f",
   "metadata": {
    "execution": {
     "iopub.execute_input": "2025-05-15T16:15:30.461319Z",
     "iopub.status.busy": "2025-05-15T16:15:30.460979Z",
     "iopub.status.idle": "2025-05-15T16:15:30.505511Z",
     "shell.execute_reply": "2025-05-15T16:15:30.504953Z"
    },
    "papermill": {
     "duration": 0.052865,
     "end_time": "2025-05-15T16:15:30.506850",
     "exception": false,
     "start_time": "2025-05-15T16:15:30.453985",
     "status": "completed"
    },
    "tags": []
   },
   "outputs": [],
   "source": [
    "train_adata = ad.read_h5ad(\n",
    "    here(f'03_downstream_analysis/08_gene_importance/xgboost_external_validation/xgboost_TopN_genes/data_cellTypes/EXTERNAL_{CELL_TYPE}.filtered.log1p.h5ad')\n",
    ")"
   ]
  },
  {
   "cell_type": "code",
   "execution_count": 7,
   "id": "fee4165d",
   "metadata": {
    "execution": {
     "iopub.execute_input": "2025-05-15T16:15:30.520929Z",
     "iopub.status.busy": "2025-05-15T16:15:30.520598Z",
     "iopub.status.idle": "2025-05-15T16:15:30.532874Z",
     "shell.execute_reply": "2025-05-15T16:15:30.532309Z"
    },
    "papermill": {
     "duration": 0.020355,
     "end_time": "2025-05-15T16:15:30.533898",
     "exception": false,
     "start_time": "2025-05-15T16:15:30.513543",
     "status": "completed"
    },
    "tags": []
   },
   "outputs": [
    {
     "name": "stdout",
     "output_type": "stream",
     "text": [
      "['ENSG00000117523' 'ENSG00000244687' 'ENSG00000155368' 'ENSG00000197956'\n",
      " 'ENSG00000143110' 'ENSG00000112561' 'ENSG00000114423' 'ENSG00000178562'\n",
      " 'ENSG00000254087' 'ENSG00000184557' 'ENSG00000079805' 'ENSG00000170476'\n",
      " 'ENSG00000118260' 'ENSG00000115884' 'ENSG00000258315' 'ENSG00000115145'\n",
      " 'ENSG00000231389' 'ENSG00000134470' 'ENSG00000009790' 'ENSG00000145220'\n",
      " 'ENSG00000204843' 'ENSG00000170581' 'ENSG00000123268' 'ENSG00000141526'\n",
      " 'ENSG00000107223' 'ENSG00000111796' 'ENSG00000136997' 'ENSG00000001167'\n",
      " 'ENSG00000089327' 'ENSG00000239713' 'ENSG00000130724' 'ENSG00000106605'\n",
      " 'ENSG00000152219' 'ENSG00000179218' 'ENSG00000169442' 'ENSG00000204257'\n",
      " 'ENSG00000140379' 'ENSG00000127951' 'ENSG00000027697' 'ENSG00000030110'\n",
      " 'ENSG00000170458' 'ENSG00000006125' 'ENSG00000133134' 'ENSG00000137193'\n",
      " 'ENSG00000100911' 'ENSG00000111335' 'ENSG00000130830' 'ENSG00000100902'\n",
      " 'ENSG00000104904' 'ENSG00000197965' 'ENSG00000107485' 'ENSG00000100365'\n",
      " 'ENSG00000164483' 'ENSG00000137441' 'ENSG00000172005' 'ENSG00000138107'\n",
      " 'ENSG00000100934' 'ENSG00000180008' 'ENSG00000090266' 'ENSG00000145850'\n",
      " 'ENSG00000164543' 'ENSG00000138160' 'ENSG00000104660' 'ENSG00000105851'\n",
      " 'ENSG00000042980' 'ENSG00000106588' 'ENSG00000051382' 'ENSG00000156738'\n",
      " 'ENSG00000105583' 'ENSG00000137331' 'ENSG00000106367' 'ENSG00000115523'\n",
      " 'ENSG00000100453' 'ENSG00000160710' 'ENSG00000089280' 'ENSG00000157873'\n",
      " 'ENSG00000158769' 'ENSG00000121879' 'ENSG00000169564' 'ENSG00000100385'\n",
      " 'ENSG00000171223' 'ENSG00000198668' 'ENSG00000197111' 'ENSG00000117602'\n",
      " 'ENSG00000030582' 'ENSG00000184752' 'ENSG00000173812' 'ENSG00000165527'\n",
      " 'ENSG00000176986' 'ENSG00000231925' 'ENSG00000172009' 'ENSG00000197329'\n",
      " 'ENSG00000197747' 'ENSG00000100368' 'ENSG00000026103' 'ENSG00000092820'\n",
      " 'ENSG00000122862' 'ENSG00000162704' 'ENSG00000104763' 'ENSG00000127184'\n",
      " 'ENSG00000172543' 'ENSG00000175768' 'ENSG00000243646' 'ENSG00000142089'\n",
      " 'ENSG00000136156' 'ENSG00000203747' 'ENSG00000077150']\n"
     ]
    }
   ],
   "source": [
    "if SEED != 'all':\n",
    "    gene_subset = np.load(here(f'03_downstream_analysis/08_gene_importance/xgboost_external_validation/shap_gene_selection/gene_subsets_{N_GENES}/{CELL_TYPE}_{SEED}.npy'), allow_pickle=True)\n",
    "    train_adata = train_adata[:,gene_subset]\n",
    "    print(gene_subset)\n",
    "elif SEED == 'all':\n",
    "    print('Using all genes')\n",
    "else:\n",
    "    raise ValueError()"
   ]
  },
  {
   "cell_type": "code",
   "execution_count": 8,
   "id": "c14513a4",
   "metadata": {
    "execution": {
     "iopub.execute_input": "2025-05-15T16:15:30.547154Z",
     "iopub.status.busy": "2025-05-15T16:15:30.546598Z",
     "iopub.status.idle": "2025-05-15T16:15:30.550216Z",
     "shell.execute_reply": "2025-05-15T16:15:30.549819Z"
    },
    "papermill": {
     "duration": 0.010919,
     "end_time": "2025-05-15T16:15:30.551054",
     "exception": false,
     "start_time": "2025-05-15T16:15:30.540135",
     "status": "completed"
    },
    "tags": []
   },
   "outputs": [
    {
     "data": {
      "text/plain": [
       "(542, 107)"
      ]
     },
     "execution_count": 8,
     "metadata": {},
     "output_type": "execute_result"
    }
   ],
   "source": [
    "train_adata.shape"
   ]
  },
  {
   "cell_type": "code",
   "execution_count": 9,
   "id": "c7cbb24f",
   "metadata": {
    "execution": {
     "iopub.execute_input": "2025-05-15T16:15:30.563269Z",
     "iopub.status.busy": "2025-05-15T16:15:30.562788Z",
     "iopub.status.idle": "2025-05-15T16:15:30.567071Z",
     "shell.execute_reply": "2025-05-15T16:15:30.566666Z"
    },
    "papermill": {
     "duration": 0.011136,
     "end_time": "2025-05-15T16:15:30.567989",
     "exception": false,
     "start_time": "2025-05-15T16:15:30.556853",
     "status": "completed"
    },
    "tags": []
   },
   "outputs": [
    {
     "data": {
      "text/plain": [
       "['RA', 'COVID', 'healthy', 'HIV', 'cirrhosis', 'CD', 'SLE', 'sepsis']\n",
       "Categories (8, object): ['CD', 'COVID', 'HIV', 'RA', 'SLE', 'cirrhosis', 'healthy', 'sepsis']"
      ]
     },
     "execution_count": 9,
     "metadata": {},
     "output_type": "execute_result"
    }
   ],
   "source": [
    "train_adata.obs.disease.unique()"
   ]
  },
  {
   "cell_type": "code",
   "execution_count": 10,
   "id": "4ee06f71",
   "metadata": {
    "execution": {
     "iopub.execute_input": "2025-05-15T16:15:30.582332Z",
     "iopub.status.busy": "2025-05-15T16:15:30.581564Z",
     "iopub.status.idle": "2025-05-15T16:15:30.586873Z",
     "shell.execute_reply": "2025-05-15T16:15:30.586442Z"
    },
    "papermill": {
     "duration": 0.013338,
     "end_time": "2025-05-15T16:15:30.587795",
     "exception": false,
     "start_time": "2025-05-15T16:15:30.574457",
     "status": "completed"
    },
    "tags": []
   },
   "outputs": [
    {
     "data": {
      "text/plain": [
       "['SCGT00val_I0364_T0', 'SCGT00val_I036019_T0', 'SCGT00val_I036028_T0', 'SCGT00val_I036024_T0', 'SCGT00val_I036016_T0', ..., '10XGenomics_10XHC2_T0', '10XGenomics_10XHC3_T0', '10XGenomics_10XHC5_T0', '10XGenomics_10XHC7_T0', '10XGenomics_10XHC8_T0']\n",
       "Length: 74\n",
       "Categories (74, object): ['10XGenomics_10XHC1_T0', '10XGenomics_10XHC2_T0', '10XGenomics_10XHC3_T0', '10XGenomics_10XHC4_T0', ..., 'Savage2021_BRISL6_T0', 'Savage2021_BRISL7_T0', 'Savage2021_PIDA_T0', 'Savage2021_PIDB_T0']"
      ]
     },
     "execution_count": 10,
     "metadata": {},
     "output_type": "execute_result"
    }
   ],
   "source": [
    "train_adata.obs.sampleID.unique()"
   ]
  },
  {
   "cell_type": "code",
   "execution_count": 11,
   "id": "1b34b874",
   "metadata": {
    "execution": {
     "iopub.execute_input": "2025-05-15T16:15:30.602154Z",
     "iopub.status.busy": "2025-05-15T16:15:30.601531Z",
     "iopub.status.idle": "2025-05-15T16:15:30.632329Z",
     "shell.execute_reply": "2025-05-15T16:15:30.631847Z"
    },
    "papermill": {
     "duration": 0.039193,
     "end_time": "2025-05-15T16:15:30.633358",
     "exception": false,
     "start_time": "2025-05-15T16:15:30.594165",
     "status": "completed"
    },
    "tags": []
   },
   "outputs": [],
   "source": [
    "all_idxs = np.arange(train_adata.obs.shape[0])\n",
    "left_out_splits = [s[1] for s in StratifiedGroupKFold(n_splits=N_SPLITS).split(all_idxs, train_adata.obs.disease, train_adata.obs.sampleID)]"
   ]
  },
  {
   "cell_type": "code",
   "execution_count": 12,
   "id": "da203b56",
   "metadata": {
    "execution": {
     "iopub.execute_input": "2025-05-15T16:15:30.648786Z",
     "iopub.status.busy": "2025-05-15T16:15:30.648272Z",
     "iopub.status.idle": "2025-05-15T16:15:30.652309Z",
     "shell.execute_reply": "2025-05-15T16:15:30.651898Z"
    },
    "papermill": {
     "duration": 0.012578,
     "end_time": "2025-05-15T16:15:30.653228",
     "exception": false,
     "start_time": "2025-05-15T16:15:30.640650",
     "status": "completed"
    },
    "tags": []
   },
   "outputs": [
    {
     "data": {
      "text/plain": [
       "([1, 2, 3], 0, 4)"
      ]
     },
     "execution_count": 12,
     "metadata": {},
     "output_type": "execute_result"
    }
   ],
   "source": [
    "TRAIN_SPLIT_IDXS = [0,1,2,3,4]\n",
    "VAL_SPLIT_IDX = (TEST_SPLIT_IDX + 1) % 5\n",
    "TRAIN_SPLIT_IDXS.remove(TEST_SPLIT_IDX)\n",
    "TRAIN_SPLIT_IDXS.remove(VAL_SPLIT_IDX)\n",
    "TRAIN_SPLIT_IDXS, VAL_SPLIT_IDX, TEST_SPLIT_IDX"
   ]
  },
  {
   "cell_type": "code",
   "execution_count": 13,
   "id": "5fcb15c0",
   "metadata": {
    "execution": {
     "iopub.execute_input": "2025-05-15T16:15:30.669804Z",
     "iopub.status.busy": "2025-05-15T16:15:30.669259Z",
     "iopub.status.idle": "2025-05-15T16:15:30.672382Z",
     "shell.execute_reply": "2025-05-15T16:15:30.671958Z"
    },
    "papermill": {
     "duration": 0.012557,
     "end_time": "2025-05-15T16:15:30.673323",
     "exception": false,
     "start_time": "2025-05-15T16:15:30.660766",
     "status": "completed"
    },
    "tags": []
   },
   "outputs": [],
   "source": [
    "train_idxs = np.concatenate([left_out_splits[idx] for idx in TRAIN_SPLIT_IDXS])\n",
    "val_idxs = left_out_splits[VAL_SPLIT_IDX]\n",
    "test_idxs = left_out_splits[TEST_SPLIT_IDX]"
   ]
  },
  {
   "cell_type": "markdown",
   "id": "9cdd8c2e",
   "metadata": {
    "papermill": {
     "duration": 0.005798,
     "end_time": "2025-05-15T16:15:30.685835",
     "exception": false,
     "start_time": "2025-05-15T16:15:30.680037",
     "status": "completed"
    },
    "tags": []
   },
   "source": [
    "### SUBSET DATASET INTO TRAIN/TEST/VAL SPLITS"
   ]
  },
  {
   "cell_type": "code",
   "execution_count": 14,
   "id": "01f0ef9c",
   "metadata": {
    "execution": {
     "iopub.execute_input": "2025-05-15T16:15:30.699074Z",
     "iopub.status.busy": "2025-05-15T16:15:30.698516Z",
     "iopub.status.idle": "2025-05-15T16:15:30.705858Z",
     "shell.execute_reply": "2025-05-15T16:15:30.705445Z"
    },
    "papermill": {
     "duration": 0.014942,
     "end_time": "2025-05-15T16:15:30.706805",
     "exception": false,
     "start_time": "2025-05-15T16:15:30.691863",
     "status": "completed"
    },
    "tags": []
   },
   "outputs": [
    {
     "data": {
      "text/plain": [
       "((308, 107), (116, 107), (118, 107))"
      ]
     },
     "execution_count": 14,
     "metadata": {},
     "output_type": "execute_result"
    }
   ],
   "source": [
    "X_train = train_adata.X[train_idxs]\n",
    "X_test = train_adata.X[test_idxs]\n",
    "X_val = train_adata.X[val_idxs]\n",
    "X_train.shape, X_test.shape, X_val.shape"
   ]
  },
  {
   "cell_type": "code",
   "execution_count": 15,
   "id": "142c991f",
   "metadata": {
    "execution": {
     "iopub.execute_input": "2025-05-15T16:15:30.721116Z",
     "iopub.status.busy": "2025-05-15T16:15:30.720545Z",
     "iopub.status.idle": "2025-05-15T16:15:30.726677Z",
     "shell.execute_reply": "2025-05-15T16:15:30.726281Z"
    },
    "papermill": {
     "duration": 0.014216,
     "end_time": "2025-05-15T16:15:30.727586",
     "exception": false,
     "start_time": "2025-05-15T16:15:30.713370",
     "status": "completed"
    },
    "tags": []
   },
   "outputs": [
    {
     "data": {
      "text/plain": [
       "((308,), (116,), (118,))"
      ]
     },
     "execution_count": 15,
     "metadata": {},
     "output_type": "execute_result"
    }
   ],
   "source": [
    "y_train = train_adata.obs.iloc[train_idxs].disease.values.astype(str)\n",
    "y_test = train_adata.obs.iloc[test_idxs].disease.values.astype(str)\n",
    "y_val = train_adata.obs.iloc[val_idxs].disease.values.astype(str)\n",
    "y_train.shape, y_test.shape, y_val.shape"
   ]
  },
  {
   "cell_type": "code",
   "execution_count": 16,
   "id": "5fbfd2c0",
   "metadata": {
    "execution": {
     "iopub.execute_input": "2025-05-15T16:15:30.742495Z",
     "iopub.status.busy": "2025-05-15T16:15:30.741916Z",
     "iopub.status.idle": "2025-05-15T16:15:30.745441Z",
     "shell.execute_reply": "2025-05-15T16:15:30.745085Z"
    },
    "papermill": {
     "duration": 0.01199,
     "end_time": "2025-05-15T16:15:30.746278",
     "exception": false,
     "start_time": "2025-05-15T16:15:30.734288",
     "status": "completed"
    },
    "tags": []
   },
   "outputs": [],
   "source": [
    "lenc = LabelEncoder()\n",
    "y_train_enc = lenc.fit_transform(y_train)\n",
    "y_val_enc = lenc.transform(y_val)\n",
    "y_test_enc = lenc.transform(y_test)"
   ]
  },
  {
   "cell_type": "markdown",
   "id": "bae96caf",
   "metadata": {
    "papermill": {
     "duration": 0.005807,
     "end_time": "2025-05-15T16:15:30.758486",
     "exception": false,
     "start_time": "2025-05-15T16:15:30.752679",
     "status": "completed"
    },
    "tags": []
   },
   "source": [
    "### GENERATE F1 "
   ]
  },
  {
   "cell_type": "code",
   "execution_count": 17,
   "id": "d8d64f21",
   "metadata": {
    "execution": {
     "iopub.execute_input": "2025-05-15T16:15:30.772062Z",
     "iopub.status.busy": "2025-05-15T16:15:30.771511Z",
     "iopub.status.idle": "2025-05-15T16:15:30.774328Z",
     "shell.execute_reply": "2025-05-15T16:15:30.773963Z"
    },
    "papermill": {
     "duration": 0.010592,
     "end_time": "2025-05-15T16:15:30.775245",
     "exception": false,
     "start_time": "2025-05-15T16:15:30.764653",
     "status": "completed"
    },
    "tags": []
   },
   "outputs": [],
   "source": [
    "def custom_f1_score(y_true, y_pred):\n",
    "    return -f1_score(y_true, y_pred.argmax(1), average='weighted')"
   ]
  },
  {
   "cell_type": "code",
   "execution_count": 18,
   "id": "a58526ae",
   "metadata": {
    "execution": {
     "iopub.execute_input": "2025-05-15T16:15:30.789243Z",
     "iopub.status.busy": "2025-05-15T16:15:30.788811Z",
     "iopub.status.idle": "2025-05-15T16:15:30.793457Z",
     "shell.execute_reply": "2025-05-15T16:15:30.793007Z"
    },
    "papermill": {
     "duration": 0.012702,
     "end_time": "2025-05-15T16:15:30.794397",
     "exception": false,
     "start_time": "2025-05-15T16:15:30.781695",
     "status": "completed"
    },
    "tags": []
   },
   "outputs": [],
   "source": [
    "eval_metric=custom_f1_score\n",
    "eval_metric_name='custom_f1_score'\n",
    "\n",
    "def objective(trial):\n",
    "    params = {\n",
    "        'n_estimators': 1500,\n",
    "        'max_depth': trial.suggest_int('max_depth', 3, 20),\n",
    "        'min_child_weight': trial.suggest_int('min_child_weight', 1, 250),\n",
    "        'subsample': trial.suggest_float('subsample', 0.1, 1.0),\n",
    "        'colsample_bynode': trial.suggest_float('colsample_bynode', 0.1, 1.0),\n",
    "        'learning_rate': trial.suggest_float('learning_rate', 1e-3, 5e-1, log=True),\n",
    "    }\n",
    "    pruning_callback = optuna.integration.XGBoostPruningCallback(trial, f'validation_0-{eval_metric_name}')\n",
    "    es_callback = xgboost.callback.EarlyStopping(20, min_delta=0.001)\n",
    "    xgb = xgboost.XGBClassifier(\n",
    "        eval_metric=eval_metric,\n",
    "        callbacks=[pruning_callback, es_callback],\n",
    "        n_jobs=5,\n",
    "        **params\n",
    "    )\n",
    "    xgb.fit(\n",
    "        X_train, \n",
    "        y_train_enc, \n",
    "        verbose=0,\n",
    "        eval_set=[(X_val, y_val_enc)],\n",
    "    )\n",
    "    trial.set_user_attr('best_iteration', xgb.best_iteration)\n",
    "\n",
    "    return xgb.best_score"
   ]
  },
  {
   "cell_type": "code",
   "execution_count": 19,
   "id": "d19bd322",
   "metadata": {
    "execution": {
     "iopub.execute_input": "2025-05-15T16:15:30.808860Z",
     "iopub.status.busy": "2025-05-15T16:15:30.808248Z",
     "iopub.status.idle": "2025-05-15T16:15:41.482182Z",
     "shell.execute_reply": "2025-05-15T16:15:41.481727Z"
    },
    "papermill": {
     "duration": 10.682099,
     "end_time": "2025-05-15T16:15:41.483135",
     "exception": false,
     "start_time": "2025-05-15T16:15:30.801036",
     "status": "completed"
    },
    "scrolled": true,
    "tags": []
   },
   "outputs": [
    {
     "name": "stderr",
     "output_type": "stream",
     "text": [
      "[I 2025-05-15 18:15:30,810] A new study created in memory with name: no-name-bf689369-1ee9-4d72-8b5f-75f358ecec82\n"
     ]
    },
    {
     "name": "stderr",
     "output_type": "stream",
     "text": [
      "[I 2025-05-15 18:15:30,883] Trial 0 finished with value: -0.015898 and parameters: {'max_depth': 9, 'min_child_weight': 238, 'subsample': 0.7587945476302645, 'colsample_bynode': 0.6387926357773329, 'learning_rate': 0.0026368755339723046}. Best is trial 0 with value: -0.015898.\n"
     ]
    },
    {
     "name": "stderr",
     "output_type": "stream",
     "text": [
      "[I 2025-05-15 18:15:31,193] Trial 1 finished with value: -0.413874 and parameters: {'max_depth': 5, 'min_child_weight': 15, 'subsample': 0.8795585311974417, 'colsample_bynode': 0.6410035105688879, 'learning_rate': 0.08148293210105287}. Best is trial 1 with value: -0.413874.\n"
     ]
    },
    {
     "name": "stderr",
     "output_type": "stream",
     "text": [
      "[I 2025-05-15 18:15:31,340] Trial 2 finished with value: -0.015898 and parameters: {'max_depth': 3, 'min_child_weight': 243, 'subsample': 0.8491983767203796, 'colsample_bynode': 0.29110519961044856, 'learning_rate': 0.003095566460242371}. Best is trial 1 with value: -0.413874.\n"
     ]
    },
    {
     "name": "stderr",
     "output_type": "stream",
     "text": [
      "[I 2025-05-15 18:15:31,489] Trial 3 finished with value: -0.015898 and parameters: {'max_depth': 6, 'min_child_weight': 77, 'subsample': 0.5722807884690141, 'colsample_bynode': 0.48875051677790415, 'learning_rate': 0.006109683510122491}. Best is trial 1 with value: -0.413874.\n"
     ]
    },
    {
     "name": "stderr",
     "output_type": "stream",
     "text": [
      "[I 2025-05-15 18:15:31,636] Trial 4 finished with value: -0.015898 and parameters: {'max_depth': 14, 'min_child_weight': 35, 'subsample': 0.3629301836816964, 'colsample_bynode': 0.4297256589643226, 'learning_rate': 0.01701841881702917}. Best is trial 1 with value: -0.413874.\n"
     ]
    },
    {
     "name": "stderr",
     "output_type": "stream",
     "text": [
      "[I 2025-05-15 18:15:31,791] Trial 5 finished with value: -0.015898 and parameters: {'max_depth': 17, 'min_child_weight': 50, 'subsample': 0.5628109945722505, 'colsample_bynode': 0.6331731119758383, 'learning_rate': 0.0013346527038305934}. Best is trial 1 with value: -0.413874.\n"
     ]
    },
    {
     "name": "stderr",
     "output_type": "stream",
     "text": [
      "[I 2025-05-15 18:15:31,947] Trial 6 finished with value: -0.015898 and parameters: {'max_depth': 13, 'min_child_weight': 43, 'subsample': 0.1585464336867516, 'colsample_bynode': 0.9539969835279999, 'learning_rate': 0.4038423798071558}. Best is trial 1 with value: -0.413874.\n"
     ]
    },
    {
     "name": "stderr",
     "output_type": "stream",
     "text": [
      "[I 2025-05-15 18:15:32,102] Trial 7 finished with value: -0.015898 and parameters: {'max_depth': 17, 'min_child_weight': 77, 'subsample': 0.1879049026057455, 'colsample_bynode': 0.7158097238609412, 'learning_rate': 0.015415527060141935}. Best is trial 1 with value: -0.413874.\n"
     ]
    },
    {
     "name": "stderr",
     "output_type": "stream",
     "text": [
      "[I 2025-05-15 18:15:32,256] Trial 8 finished with value: -0.015898 and parameters: {'max_depth': 5, 'min_child_weight': 124, 'subsample': 0.13094966900369656, 'colsample_bynode': 0.9183883618709039, 'learning_rate': 0.004993895014755658}. Best is trial 1 with value: -0.413874.\n"
     ]
    },
    {
     "name": "stderr",
     "output_type": "stream",
     "text": [
      "[I 2025-05-15 18:15:32,412] Trial 9 finished with value: -0.015898 and parameters: {'max_depth': 14, 'min_child_weight': 78, 'subsample': 0.5680612190600297, 'colsample_bynode': 0.5920392514089517, 'learning_rate': 0.0031543990308330965}. Best is trial 1 with value: -0.413874.\n"
     ]
    },
    {
     "name": "stderr",
     "output_type": "stream",
     "text": [
      "[I 2025-05-15 18:15:32,830] Trial 10 finished with value: -0.433584 and parameters: {'max_depth': 9, 'min_child_weight': 2, 'subsample': 0.9725833997090791, 'colsample_bynode': 0.11616568805333755, 'learning_rate': 0.17780618353487967}. Best is trial 10 with value: -0.433584.\n"
     ]
    },
    {
     "name": "stderr",
     "output_type": "stream",
     "text": [
      "[I 2025-05-15 18:15:33,132] Trial 11 finished with value: -0.428568 and parameters: {'max_depth': 9, 'min_child_weight': 4, 'subsample': 0.9818290990185045, 'colsample_bynode': 0.17702656156719, 'learning_rate': 0.11568531411766632}. Best is trial 10 with value: -0.433584.\n"
     ]
    },
    {
     "name": "stderr",
     "output_type": "stream",
     "text": [
      "[I 2025-05-15 18:15:33,447] Trial 12 pruned. Trial was pruned at iteration 24.\n"
     ]
    },
    {
     "name": "stderr",
     "output_type": "stream",
     "text": [
      "[I 2025-05-15 18:15:33,611] Trial 13 finished with value: -0.015898 and parameters: {'max_depth': 10, 'min_child_weight': 173, 'subsample': 0.9990589868255076, 'colsample_bynode': 0.10388397775802007, 'learning_rate': 0.08343244313100631}. Best is trial 10 with value: -0.433584.\n"
     ]
    },
    {
     "name": "stderr",
     "output_type": "stream",
     "text": [
      "[I 2025-05-15 18:15:33,776] Trial 14 finished with value: -0.015898 and parameters: {'max_depth': 7, 'min_child_weight': 132, 'subsample': 0.7251427075087294, 'colsample_bynode': 0.2827065087684573, 'learning_rate': 0.4477473783244542}. Best is trial 10 with value: -0.433584.\n"
     ]
    },
    {
     "name": "stderr",
     "output_type": "stream",
     "text": [
      "[I 2025-05-15 18:15:34,232] Trial 15 finished with value: -0.420439 and parameters: {'max_depth': 20, 'min_child_weight': 2, 'subsample': 0.719264024177087, 'colsample_bynode': 0.2540835086298475, 'learning_rate': 0.03987682305667138}. Best is trial 10 with value: -0.433584.\n"
     ]
    },
    {
     "name": "stderr",
     "output_type": "stream",
     "text": [
      "[I 2025-05-15 18:15:34,398] Trial 16 finished with value: -0.015898 and parameters: {'max_depth': 11, 'min_child_weight': 125, 'subsample': 0.8815541734801864, 'colsample_bynode': 0.37074095931791284, 'learning_rate': 0.18961687234093502}. Best is trial 10 with value: -0.433584.\n"
     ]
    },
    {
     "name": "stderr",
     "output_type": "stream",
     "text": [
      "[I 2025-05-15 18:15:34,560] Trial 17 finished with value: -0.015898 and parameters: {'max_depth': 8, 'min_child_weight': 183, 'subsample': 0.38147523481218437, 'colsample_bynode': 0.18808734027794596, 'learning_rate': 0.0535465309609203}. Best is trial 10 with value: -0.433584.\n"
     ]
    },
    {
     "name": "stderr",
     "output_type": "stream",
     "text": [
      "[I 2025-05-15 18:15:34,733] Trial 18 pruned. Trial was pruned at iteration 21.\n"
     ]
    },
    {
     "name": "stderr",
     "output_type": "stream",
     "text": [
      "[I 2025-05-15 18:15:34,893] Trial 19 finished with value: -0.015898 and parameters: {'max_depth': 11, 'min_child_weight': 102, 'subsample': 0.9723428668438461, 'colsample_bynode': 0.3679418363674778, 'learning_rate': 0.03827773069548075}. Best is trial 10 with value: -0.433584.\n"
     ]
    },
    {
     "name": "stderr",
     "output_type": "stream",
     "text": [
      "[I 2025-05-15 18:15:35,059] Trial 20 finished with value: -0.015898 and parameters: {'max_depth': 7, 'min_child_weight': 60, 'subsample': 0.6596113500838445, 'colsample_bynode': 0.20927736326660645, 'learning_rate': 0.25272718592857407}. Best is trial 10 with value: -0.433584.\n"
     ]
    },
    {
     "name": "stderr",
     "output_type": "stream",
     "text": [
      "[I 2025-05-15 18:15:35,439] Trial 21 pruned. Trial was pruned at iteration 25.\n"
     ]
    },
    {
     "name": "stderr",
     "output_type": "stream",
     "text": [
      "[I 2025-05-15 18:15:35,618] Trial 22 pruned. Trial was pruned at iteration 21.\n"
     ]
    },
    {
     "name": "stderr",
     "output_type": "stream",
     "text": [
      "[I 2025-05-15 18:15:35,780] Trial 23 finished with value: -0.115706 and parameters: {'max_depth': 20, 'min_child_weight': 24, 'subsample': 0.4338471634549505, 'colsample_bynode': 0.3386882882471741, 'learning_rate': 0.030714656524023304}. Best is trial 10 with value: -0.433584.\n"
     ]
    },
    {
     "name": "stderr",
     "output_type": "stream",
     "text": [
      "[I 2025-05-15 18:15:35,981] Trial 24 pruned. Trial was pruned at iteration 21.\n"
     ]
    },
    {
     "name": "stderr",
     "output_type": "stream",
     "text": [
      "[I 2025-05-15 18:15:36,143] Trial 25 finished with value: -0.015898 and parameters: {'max_depth': 16, 'min_child_weight': 62, 'subsample': 0.8185252773927588, 'colsample_bynode': 0.44962073954150006, 'learning_rate': 0.009112709864862251}. Best is trial 10 with value: -0.433584.\n"
     ]
    },
    {
     "name": "stderr",
     "output_type": "stream",
     "text": [
      "[I 2025-05-15 18:15:36,322] Trial 26 pruned. Trial was pruned at iteration 21.\n"
     ]
    },
    {
     "name": "stderr",
     "output_type": "stream",
     "text": [
      "[I 2025-05-15 18:15:36,479] Trial 27 finished with value: -0.015898 and parameters: {'max_depth': 15, 'min_child_weight': 100, 'subsample': 0.7829679980266037, 'colsample_bynode': 0.32043051466257816, 'learning_rate': 0.05187670714424153}. Best is trial 10 with value: -0.433584.\n"
     ]
    },
    {
     "name": "stderr",
     "output_type": "stream",
     "text": [
      "[I 2025-05-15 18:15:36,643] Trial 28 finished with value: -0.015898 and parameters: {'max_depth': 12, 'min_child_weight': 161, 'subsample': 0.4700546128616854, 'colsample_bynode': 0.1637020245151603, 'learning_rate': 0.11110345631036936}. Best is trial 10 with value: -0.433584.\n"
     ]
    },
    {
     "name": "stderr",
     "output_type": "stream",
     "text": [
      "[I 2025-05-15 18:15:36,806] Trial 29 finished with value: -0.015898 and parameters: {'max_depth': 10, 'min_child_weight': 217, 'subsample': 0.6819363860339779, 'colsample_bynode': 0.5023477222406295, 'learning_rate': 0.020960346740135003}. Best is trial 10 with value: -0.433584.\n"
     ]
    },
    {
     "name": "stderr",
     "output_type": "stream",
     "text": [
      "[I 2025-05-15 18:15:36,967] Trial 30 finished with value: -0.015898 and parameters: {'max_depth': 8, 'min_child_weight': 220, 'subsample': 0.935589054951823, 'colsample_bynode': 0.10031039299187057, 'learning_rate': 0.05549518295920771}. Best is trial 10 with value: -0.433584.\n"
     ]
    },
    {
     "name": "stderr",
     "output_type": "stream",
     "text": [
      "[I 2025-05-15 18:15:37,176] Trial 31 pruned. Trial was pruned at iteration 21.\n"
     ]
    },
    {
     "name": "stderr",
     "output_type": "stream",
     "text": [
      "[I 2025-05-15 18:15:37,396] Trial 32 finished with value: -0.378952 and parameters: {'max_depth': 5, 'min_child_weight': 13, 'subsample': 0.8117249299120847, 'colsample_bynode': 0.7818021908600666, 'learning_rate': 0.1505648581047364}. Best is trial 10 with value: -0.433584.\n"
     ]
    },
    {
     "name": "stderr",
     "output_type": "stream",
     "text": [
      "[I 2025-05-15 18:15:37,564] Trial 33 pruned. Trial was pruned at iteration 21.\n"
     ]
    },
    {
     "name": "stderr",
     "output_type": "stream",
     "text": [
      "[I 2025-05-15 18:15:37,726] Trial 34 finished with value: -0.115706 and parameters: {'max_depth': 7, 'min_child_weight': 52, 'subsample': 0.8587874007933554, 'colsample_bynode': 0.25717342244366637, 'learning_rate': 0.11065469301301047}. Best is trial 10 with value: -0.433584.\n"
     ]
    },
    {
     "name": "stderr",
     "output_type": "stream",
     "text": [
      "[I 2025-05-15 18:15:37,899] Trial 35 pruned. Trial was pruned at iteration 21.\n"
     ]
    },
    {
     "name": "stderr",
     "output_type": "stream",
     "text": [
      "[I 2025-05-15 18:15:38,097] Trial 36 pruned. Trial was pruned at iteration 21.\n"
     ]
    },
    {
     "name": "stderr",
     "output_type": "stream",
     "text": [
      "[I 2025-05-15 18:15:38,270] Trial 37 finished with value: -0.115706 and parameters: {'max_depth': 10, 'min_child_weight': 46, 'subsample': 0.7432175746919831, 'colsample_bynode': 0.6343379568037191, 'learning_rate': 0.01542429408475207}. Best is trial 10 with value: -0.433584.\n"
     ]
    },
    {
     "name": "stderr",
     "output_type": "stream",
     "text": [
      "[I 2025-05-15 18:15:38,444] Trial 38 finished with value: -0.015898 and parameters: {'max_depth': 8, 'min_child_weight': 72, 'subsample': 0.25720599485408774, 'colsample_bynode': 0.859640954352695, 'learning_rate': 0.009569888671126483}. Best is trial 10 with value: -0.433584.\n"
     ]
    },
    {
     "name": "stderr",
     "output_type": "stream",
     "text": [
      "[I 2025-05-15 18:15:38,614] Trial 39 finished with value: -0.015898 and parameters: {'max_depth': 13, 'min_child_weight': 97, 'subsample': 0.771973442317847, 'colsample_bynode': 0.6986571664833517, 'learning_rate': 0.03970714035232679}. Best is trial 10 with value: -0.433584.\n"
     ]
    },
    {
     "name": "stderr",
     "output_type": "stream",
     "text": [
      "[I 2025-05-15 18:15:38,790] Trial 40 pruned. Trial was pruned at iteration 21.\n"
     ]
    },
    {
     "name": "stderr",
     "output_type": "stream",
     "text": [
      "[I 2025-05-15 18:15:39,029] Trial 41 pruned. Trial was pruned at iteration 24.\n"
     ]
    },
    {
     "name": "stderr",
     "output_type": "stream",
     "text": [
      "[I 2025-05-15 18:15:39,271] Trial 42 finished with value: -0.408481 and parameters: {'max_depth': 6, 'min_child_weight': 12, 'subsample': 0.8820618988245319, 'colsample_bynode': 0.8945399585033189, 'learning_rate': 0.1343086795984808}. Best is trial 10 with value: -0.433584.\n"
     ]
    },
    {
     "name": "stderr",
     "output_type": "stream",
     "text": [
      "[I 2025-05-15 18:15:39,449] Trial 43 pruned. Trial was pruned at iteration 21.\n"
     ]
    },
    {
     "name": "stderr",
     "output_type": "stream",
     "text": [
      "[I 2025-05-15 18:15:39,969] Trial 44 finished with value: -0.438491 and parameters: {'max_depth': 4, 'min_child_weight': 1, 'subsample': 0.9597713552430124, 'colsample_bynode': 0.9556541166800724, 'learning_rate': 0.37909412466868586}. Best is trial 44 with value: -0.438491.\n"
     ]
    },
    {
     "name": "stderr",
     "output_type": "stream",
     "text": [
      "[I 2025-05-15 18:15:40,417] Trial 45 finished with value: -0.448569 and parameters: {'max_depth': 4, 'min_child_weight': 1, 'subsample': 0.9597192231526225, 'colsample_bynode': 0.9497226842877291, 'learning_rate': 0.3676161341763355}. Best is trial 45 with value: -0.448569.\n"
     ]
    },
    {
     "name": "stderr",
     "output_type": "stream",
     "text": [
      "[I 2025-05-15 18:15:40,666] Trial 46 finished with value: -0.524987 and parameters: {'max_depth': 4, 'min_child_weight': 9, 'subsample': 0.9744621581033603, 'colsample_bynode': 0.9984405173814572, 'learning_rate': 0.3863939357694363}. Best is trial 46 with value: -0.524987.\n"
     ]
    },
    {
     "name": "stderr",
     "output_type": "stream",
     "text": [
      "[I 2025-05-15 18:15:41,015] Trial 47 finished with value: -0.464102 and parameters: {'max_depth': 4, 'min_child_weight': 1, 'subsample': 0.9618038007975979, 'colsample_bynode': 0.991958863819997, 'learning_rate': 0.4901441224614271}. Best is trial 46 with value: -0.524987.\n"
     ]
    },
    {
     "name": "stderr",
     "output_type": "stream",
     "text": [
      "[I 2025-05-15 18:15:41,195] Trial 48 pruned. Trial was pruned at iteration 21.\n"
     ]
    },
    {
     "name": "stderr",
     "output_type": "stream",
     "text": [
      "[I 2025-05-15 18:15:41,386] Trial 49 pruned. Trial was pruned at iteration 21.\n"
     ]
    }
   ],
   "source": [
    "sampler = optuna.samplers.TPESampler(seed=42)\n",
    "study = optuna.create_study(direction='minimize', sampler=sampler)\n",
    "study.optimize(objective, n_trials=N_TRIALS, gc_after_trial=True)"
   ]
  },
  {
   "cell_type": "code",
   "execution_count": 20,
   "id": "bc2c3f1c",
   "metadata": {
    "execution": {
     "iopub.execute_input": "2025-05-15T16:15:41.528623Z",
     "iopub.status.busy": "2025-05-15T16:15:41.528424Z",
     "iopub.status.idle": "2025-05-15T16:15:41.549617Z",
     "shell.execute_reply": "2025-05-15T16:15:41.549322Z"
    },
    "papermill": {
     "duration": 0.039337,
     "end_time": "2025-05-15T16:15:41.550498",
     "exception": false,
     "start_time": "2025-05-15T16:15:41.511161",
     "status": "completed"
    },
    "tags": []
   },
   "outputs": [
    {
     "data": {
      "text/plain": [
       "['/scratch_isilon/groups/singlecell/shared/projects/Inflammation-PBMCs-Atlas/03_downstream_analysis/08_gene_importance/xgboost_external_validation/xgboost_TopN_genes/results_20/study/Plasma_5_4_xgboost.pkl']"
      ]
     },
     "execution_count": 20,
     "metadata": {},
     "output_type": "execute_result"
    }
   ],
   "source": [
    "out_dir = here(f'03_downstream_analysis/08_gene_importance/xgboost_external_validation/xgboost_TopN_genes/results_{N_GENES}/study')\n",
    "\n",
    "if not os.path.exists(out_dir):\n",
    "    os.makedirs(out_dir)\n",
    "    \n",
    "joblib.dump(study,os.path.join(out_dir, f'{CELL_TYPE}_{SEED}_{TEST_SPLIT_IDX}_xgboost.pkl'))"
   ]
  },
  {
   "cell_type": "code",
   "execution_count": 21,
   "id": "09dc4fe8",
   "metadata": {
    "execution": {
     "iopub.execute_input": "2025-05-15T16:15:41.583443Z",
     "iopub.status.busy": "2025-05-15T16:15:41.583004Z",
     "iopub.status.idle": "2025-05-15T16:15:41.603309Z",
     "shell.execute_reply": "2025-05-15T16:15:41.603003Z"
    },
    "papermill": {
     "duration": 0.031402,
     "end_time": "2025-05-15T16:15:41.604609",
     "exception": false,
     "start_time": "2025-05-15T16:15:41.573207",
     "status": "completed"
    },
    "tags": []
   },
   "outputs": [
    {
     "data": {
      "text/html": [
       "<style>#sk-container-id-1 {\n",
       "  /* Definition of color scheme common for light and dark mode */\n",
       "  --sklearn-color-text: black;\n",
       "  --sklearn-color-line: gray;\n",
       "  /* Definition of color scheme for unfitted estimators */\n",
       "  --sklearn-color-unfitted-level-0: #fff5e6;\n",
       "  --sklearn-color-unfitted-level-1: #f6e4d2;\n",
       "  --sklearn-color-unfitted-level-2: #ffe0b3;\n",
       "  --sklearn-color-unfitted-level-3: chocolate;\n",
       "  /* Definition of color scheme for fitted estimators */\n",
       "  --sklearn-color-fitted-level-0: #f0f8ff;\n",
       "  --sklearn-color-fitted-level-1: #d4ebff;\n",
       "  --sklearn-color-fitted-level-2: #b3dbfd;\n",
       "  --sklearn-color-fitted-level-3: cornflowerblue;\n",
       "\n",
       "  /* Specific color for light theme */\n",
       "  --sklearn-color-text-on-default-background: var(--sg-text-color, var(--theme-code-foreground, var(--jp-content-font-color1, black)));\n",
       "  --sklearn-color-background: var(--sg-background-color, var(--theme-background, var(--jp-layout-color0, white)));\n",
       "  --sklearn-color-border-box: var(--sg-text-color, var(--theme-code-foreground, var(--jp-content-font-color1, black)));\n",
       "  --sklearn-color-icon: #696969;\n",
       "\n",
       "  @media (prefers-color-scheme: dark) {\n",
       "    /* Redefinition of color scheme for dark theme */\n",
       "    --sklearn-color-text-on-default-background: var(--sg-text-color, var(--theme-code-foreground, var(--jp-content-font-color1, white)));\n",
       "    --sklearn-color-background: var(--sg-background-color, var(--theme-background, var(--jp-layout-color0, #111)));\n",
       "    --sklearn-color-border-box: var(--sg-text-color, var(--theme-code-foreground, var(--jp-content-font-color1, white)));\n",
       "    --sklearn-color-icon: #878787;\n",
       "  }\n",
       "}\n",
       "\n",
       "#sk-container-id-1 {\n",
       "  color: var(--sklearn-color-text);\n",
       "}\n",
       "\n",
       "#sk-container-id-1 pre {\n",
       "  padding: 0;\n",
       "}\n",
       "\n",
       "#sk-container-id-1 input.sk-hidden--visually {\n",
       "  border: 0;\n",
       "  clip: rect(1px 1px 1px 1px);\n",
       "  clip: rect(1px, 1px, 1px, 1px);\n",
       "  height: 1px;\n",
       "  margin: -1px;\n",
       "  overflow: hidden;\n",
       "  padding: 0;\n",
       "  position: absolute;\n",
       "  width: 1px;\n",
       "}\n",
       "\n",
       "#sk-container-id-1 div.sk-dashed-wrapped {\n",
       "  border: 1px dashed var(--sklearn-color-line);\n",
       "  margin: 0 0.4em 0.5em 0.4em;\n",
       "  box-sizing: border-box;\n",
       "  padding-bottom: 0.4em;\n",
       "  background-color: var(--sklearn-color-background);\n",
       "}\n",
       "\n",
       "#sk-container-id-1 div.sk-container {\n",
       "  /* jupyter's `normalize.less` sets `[hidden] { display: none; }`\n",
       "     but bootstrap.min.css set `[hidden] { display: none !important; }`\n",
       "     so we also need the `!important` here to be able to override the\n",
       "     default hidden behavior on the sphinx rendered scikit-learn.org.\n",
       "     See: https://github.com/scikit-learn/scikit-learn/issues/21755 */\n",
       "  display: inline-block !important;\n",
       "  position: relative;\n",
       "}\n",
       "\n",
       "#sk-container-id-1 div.sk-text-repr-fallback {\n",
       "  display: none;\n",
       "}\n",
       "\n",
       "div.sk-parallel-item,\n",
       "div.sk-serial,\n",
       "div.sk-item {\n",
       "  /* draw centered vertical line to link estimators */\n",
       "  background-image: linear-gradient(var(--sklearn-color-text-on-default-background), var(--sklearn-color-text-on-default-background));\n",
       "  background-size: 2px 100%;\n",
       "  background-repeat: no-repeat;\n",
       "  background-position: center center;\n",
       "}\n",
       "\n",
       "/* Parallel-specific style estimator block */\n",
       "\n",
       "#sk-container-id-1 div.sk-parallel-item::after {\n",
       "  content: \"\";\n",
       "  width: 100%;\n",
       "  border-bottom: 2px solid var(--sklearn-color-text-on-default-background);\n",
       "  flex-grow: 1;\n",
       "}\n",
       "\n",
       "#sk-container-id-1 div.sk-parallel {\n",
       "  display: flex;\n",
       "  align-items: stretch;\n",
       "  justify-content: center;\n",
       "  background-color: var(--sklearn-color-background);\n",
       "  position: relative;\n",
       "}\n",
       "\n",
       "#sk-container-id-1 div.sk-parallel-item {\n",
       "  display: flex;\n",
       "  flex-direction: column;\n",
       "}\n",
       "\n",
       "#sk-container-id-1 div.sk-parallel-item:first-child::after {\n",
       "  align-self: flex-end;\n",
       "  width: 50%;\n",
       "}\n",
       "\n",
       "#sk-container-id-1 div.sk-parallel-item:last-child::after {\n",
       "  align-self: flex-start;\n",
       "  width: 50%;\n",
       "}\n",
       "\n",
       "#sk-container-id-1 div.sk-parallel-item:only-child::after {\n",
       "  width: 0;\n",
       "}\n",
       "\n",
       "/* Serial-specific style estimator block */\n",
       "\n",
       "#sk-container-id-1 div.sk-serial {\n",
       "  display: flex;\n",
       "  flex-direction: column;\n",
       "  align-items: center;\n",
       "  background-color: var(--sklearn-color-background);\n",
       "  padding-right: 1em;\n",
       "  padding-left: 1em;\n",
       "}\n",
       "\n",
       "\n",
       "/* Toggleable style: style used for estimator/Pipeline/ColumnTransformer box that is\n",
       "clickable and can be expanded/collapsed.\n",
       "- Pipeline and ColumnTransformer use this feature and define the default style\n",
       "- Estimators will overwrite some part of the style using the `sk-estimator` class\n",
       "*/\n",
       "\n",
       "/* Pipeline and ColumnTransformer style (default) */\n",
       "\n",
       "#sk-container-id-1 div.sk-toggleable {\n",
       "  /* Default theme specific background. It is overwritten whether we have a\n",
       "  specific estimator or a Pipeline/ColumnTransformer */\n",
       "  background-color: var(--sklearn-color-background);\n",
       "}\n",
       "\n",
       "/* Toggleable label */\n",
       "#sk-container-id-1 label.sk-toggleable__label {\n",
       "  cursor: pointer;\n",
       "  display: block;\n",
       "  width: 100%;\n",
       "  margin-bottom: 0;\n",
       "  padding: 0.5em;\n",
       "  box-sizing: border-box;\n",
       "  text-align: center;\n",
       "}\n",
       "\n",
       "#sk-container-id-1 label.sk-toggleable__label-arrow:before {\n",
       "  /* Arrow on the left of the label */\n",
       "  content: \"▸\";\n",
       "  float: left;\n",
       "  margin-right: 0.25em;\n",
       "  color: var(--sklearn-color-icon);\n",
       "}\n",
       "\n",
       "#sk-container-id-1 label.sk-toggleable__label-arrow:hover:before {\n",
       "  color: var(--sklearn-color-text);\n",
       "}\n",
       "\n",
       "/* Toggleable content - dropdown */\n",
       "\n",
       "#sk-container-id-1 div.sk-toggleable__content {\n",
       "  max-height: 0;\n",
       "  max-width: 0;\n",
       "  overflow: hidden;\n",
       "  text-align: left;\n",
       "  /* unfitted */\n",
       "  background-color: var(--sklearn-color-unfitted-level-0);\n",
       "}\n",
       "\n",
       "#sk-container-id-1 div.sk-toggleable__content.fitted {\n",
       "  /* fitted */\n",
       "  background-color: var(--sklearn-color-fitted-level-0);\n",
       "}\n",
       "\n",
       "#sk-container-id-1 div.sk-toggleable__content pre {\n",
       "  margin: 0.2em;\n",
       "  border-radius: 0.25em;\n",
       "  color: var(--sklearn-color-text);\n",
       "  /* unfitted */\n",
       "  background-color: var(--sklearn-color-unfitted-level-0);\n",
       "}\n",
       "\n",
       "#sk-container-id-1 div.sk-toggleable__content.fitted pre {\n",
       "  /* unfitted */\n",
       "  background-color: var(--sklearn-color-fitted-level-0);\n",
       "}\n",
       "\n",
       "#sk-container-id-1 input.sk-toggleable__control:checked~div.sk-toggleable__content {\n",
       "  /* Expand drop-down */\n",
       "  max-height: 200px;\n",
       "  max-width: 100%;\n",
       "  overflow: auto;\n",
       "}\n",
       "\n",
       "#sk-container-id-1 input.sk-toggleable__control:checked~label.sk-toggleable__label-arrow:before {\n",
       "  content: \"▾\";\n",
       "}\n",
       "\n",
       "/* Pipeline/ColumnTransformer-specific style */\n",
       "\n",
       "#sk-container-id-1 div.sk-label input.sk-toggleable__control:checked~label.sk-toggleable__label {\n",
       "  color: var(--sklearn-color-text);\n",
       "  background-color: var(--sklearn-color-unfitted-level-2);\n",
       "}\n",
       "\n",
       "#sk-container-id-1 div.sk-label.fitted input.sk-toggleable__control:checked~label.sk-toggleable__label {\n",
       "  background-color: var(--sklearn-color-fitted-level-2);\n",
       "}\n",
       "\n",
       "/* Estimator-specific style */\n",
       "\n",
       "/* Colorize estimator box */\n",
       "#sk-container-id-1 div.sk-estimator input.sk-toggleable__control:checked~label.sk-toggleable__label {\n",
       "  /* unfitted */\n",
       "  background-color: var(--sklearn-color-unfitted-level-2);\n",
       "}\n",
       "\n",
       "#sk-container-id-1 div.sk-estimator.fitted input.sk-toggleable__control:checked~label.sk-toggleable__label {\n",
       "  /* fitted */\n",
       "  background-color: var(--sklearn-color-fitted-level-2);\n",
       "}\n",
       "\n",
       "#sk-container-id-1 div.sk-label label.sk-toggleable__label,\n",
       "#sk-container-id-1 div.sk-label label {\n",
       "  /* The background is the default theme color */\n",
       "  color: var(--sklearn-color-text-on-default-background);\n",
       "}\n",
       "\n",
       "/* On hover, darken the color of the background */\n",
       "#sk-container-id-1 div.sk-label:hover label.sk-toggleable__label {\n",
       "  color: var(--sklearn-color-text);\n",
       "  background-color: var(--sklearn-color-unfitted-level-2);\n",
       "}\n",
       "\n",
       "/* Label box, darken color on hover, fitted */\n",
       "#sk-container-id-1 div.sk-label.fitted:hover label.sk-toggleable__label.fitted {\n",
       "  color: var(--sklearn-color-text);\n",
       "  background-color: var(--sklearn-color-fitted-level-2);\n",
       "}\n",
       "\n",
       "/* Estimator label */\n",
       "\n",
       "#sk-container-id-1 div.sk-label label {\n",
       "  font-family: monospace;\n",
       "  font-weight: bold;\n",
       "  display: inline-block;\n",
       "  line-height: 1.2em;\n",
       "}\n",
       "\n",
       "#sk-container-id-1 div.sk-label-container {\n",
       "  text-align: center;\n",
       "}\n",
       "\n",
       "/* Estimator-specific */\n",
       "#sk-container-id-1 div.sk-estimator {\n",
       "  font-family: monospace;\n",
       "  border: 1px dotted var(--sklearn-color-border-box);\n",
       "  border-radius: 0.25em;\n",
       "  box-sizing: border-box;\n",
       "  margin-bottom: 0.5em;\n",
       "  /* unfitted */\n",
       "  background-color: var(--sklearn-color-unfitted-level-0);\n",
       "}\n",
       "\n",
       "#sk-container-id-1 div.sk-estimator.fitted {\n",
       "  /* fitted */\n",
       "  background-color: var(--sklearn-color-fitted-level-0);\n",
       "}\n",
       "\n",
       "/* on hover */\n",
       "#sk-container-id-1 div.sk-estimator:hover {\n",
       "  /* unfitted */\n",
       "  background-color: var(--sklearn-color-unfitted-level-2);\n",
       "}\n",
       "\n",
       "#sk-container-id-1 div.sk-estimator.fitted:hover {\n",
       "  /* fitted */\n",
       "  background-color: var(--sklearn-color-fitted-level-2);\n",
       "}\n",
       "\n",
       "/* Specification for estimator info (e.g. \"i\" and \"?\") */\n",
       "\n",
       "/* Common style for \"i\" and \"?\" */\n",
       "\n",
       ".sk-estimator-doc-link,\n",
       "a:link.sk-estimator-doc-link,\n",
       "a:visited.sk-estimator-doc-link {\n",
       "  float: right;\n",
       "  font-size: smaller;\n",
       "  line-height: 1em;\n",
       "  font-family: monospace;\n",
       "  background-color: var(--sklearn-color-background);\n",
       "  border-radius: 1em;\n",
       "  height: 1em;\n",
       "  width: 1em;\n",
       "  text-decoration: none !important;\n",
       "  margin-left: 1ex;\n",
       "  /* unfitted */\n",
       "  border: var(--sklearn-color-unfitted-level-1) 1pt solid;\n",
       "  color: var(--sklearn-color-unfitted-level-1);\n",
       "}\n",
       "\n",
       ".sk-estimator-doc-link.fitted,\n",
       "a:link.sk-estimator-doc-link.fitted,\n",
       "a:visited.sk-estimator-doc-link.fitted {\n",
       "  /* fitted */\n",
       "  border: var(--sklearn-color-fitted-level-1) 1pt solid;\n",
       "  color: var(--sklearn-color-fitted-level-1);\n",
       "}\n",
       "\n",
       "/* On hover */\n",
       "div.sk-estimator:hover .sk-estimator-doc-link:hover,\n",
       ".sk-estimator-doc-link:hover,\n",
       "div.sk-label-container:hover .sk-estimator-doc-link:hover,\n",
       ".sk-estimator-doc-link:hover {\n",
       "  /* unfitted */\n",
       "  background-color: var(--sklearn-color-unfitted-level-3);\n",
       "  color: var(--sklearn-color-background);\n",
       "  text-decoration: none;\n",
       "}\n",
       "\n",
       "div.sk-estimator.fitted:hover .sk-estimator-doc-link.fitted:hover,\n",
       ".sk-estimator-doc-link.fitted:hover,\n",
       "div.sk-label-container:hover .sk-estimator-doc-link.fitted:hover,\n",
       ".sk-estimator-doc-link.fitted:hover {\n",
       "  /* fitted */\n",
       "  background-color: var(--sklearn-color-fitted-level-3);\n",
       "  color: var(--sklearn-color-background);\n",
       "  text-decoration: none;\n",
       "}\n",
       "\n",
       "/* Span, style for the box shown on hovering the info icon */\n",
       ".sk-estimator-doc-link span {\n",
       "  display: none;\n",
       "  z-index: 9999;\n",
       "  position: relative;\n",
       "  font-weight: normal;\n",
       "  right: .2ex;\n",
       "  padding: .5ex;\n",
       "  margin: .5ex;\n",
       "  width: min-content;\n",
       "  min-width: 20ex;\n",
       "  max-width: 50ex;\n",
       "  color: var(--sklearn-color-text);\n",
       "  box-shadow: 2pt 2pt 4pt #999;\n",
       "  /* unfitted */\n",
       "  background: var(--sklearn-color-unfitted-level-0);\n",
       "  border: .5pt solid var(--sklearn-color-unfitted-level-3);\n",
       "}\n",
       "\n",
       ".sk-estimator-doc-link.fitted span {\n",
       "  /* fitted */\n",
       "  background: var(--sklearn-color-fitted-level-0);\n",
       "  border: var(--sklearn-color-fitted-level-3);\n",
       "}\n",
       "\n",
       ".sk-estimator-doc-link:hover span {\n",
       "  display: block;\n",
       "}\n",
       "\n",
       "/* \"?\"-specific style due to the `<a>` HTML tag */\n",
       "\n",
       "#sk-container-id-1 a.estimator_doc_link {\n",
       "  float: right;\n",
       "  font-size: 1rem;\n",
       "  line-height: 1em;\n",
       "  font-family: monospace;\n",
       "  background-color: var(--sklearn-color-background);\n",
       "  border-radius: 1rem;\n",
       "  height: 1rem;\n",
       "  width: 1rem;\n",
       "  text-decoration: none;\n",
       "  /* unfitted */\n",
       "  color: var(--sklearn-color-unfitted-level-1);\n",
       "  border: var(--sklearn-color-unfitted-level-1) 1pt solid;\n",
       "}\n",
       "\n",
       "#sk-container-id-1 a.estimator_doc_link.fitted {\n",
       "  /* fitted */\n",
       "  border: var(--sklearn-color-fitted-level-1) 1pt solid;\n",
       "  color: var(--sklearn-color-fitted-level-1);\n",
       "}\n",
       "\n",
       "/* On hover */\n",
       "#sk-container-id-1 a.estimator_doc_link:hover {\n",
       "  /* unfitted */\n",
       "  background-color: var(--sklearn-color-unfitted-level-3);\n",
       "  color: var(--sklearn-color-background);\n",
       "  text-decoration: none;\n",
       "}\n",
       "\n",
       "#sk-container-id-1 a.estimator_doc_link.fitted:hover {\n",
       "  /* fitted */\n",
       "  background-color: var(--sklearn-color-fitted-level-3);\n",
       "}\n",
       "</style><div id=\"sk-container-id-1\" class=\"sk-top-container\"><div class=\"sk-text-repr-fallback\"><pre>XGBClassifier(base_score=None, booster=None, callbacks=None,\n",
       "              colsample_bylevel=None, colsample_bynode=0.9984405173814572,\n",
       "              colsample_bytree=None, device=None, early_stopping_rounds=None,\n",
       "              enable_categorical=False,\n",
       "              eval_metric=&lt;function custom_f1_score at 0x7facfca84720&gt;,\n",
       "              feature_types=None, gamma=None, grow_policy=None,\n",
       "              importance_type=None, interaction_constraints=None,\n",
       "              learning_rate=0.3863939357694363, max_bin=None,\n",
       "              max_cat_threshold=None, max_cat_to_onehot=None,\n",
       "              max_delta_step=None, max_depth=4, max_leaves=None,\n",
       "              min_child_weight=9, missing=nan, monotone_constraints=None,\n",
       "              multi_strategy=None, n_estimators=1, n_jobs=None,\n",
       "              num_parallel_tree=None, objective=&#x27;multi:softprob&#x27;, ...)</pre><b>In a Jupyter environment, please rerun this cell to show the HTML representation or trust the notebook. <br />On GitHub, the HTML representation is unable to render, please try loading this page with nbviewer.org.</b></div><div class=\"sk-container\" hidden><div class=\"sk-item\"><div class=\"sk-estimator fitted sk-toggleable\"><input class=\"sk-toggleable__control sk-hidden--visually\" id=\"sk-estimator-id-1\" type=\"checkbox\" checked><label for=\"sk-estimator-id-1\" class=\"sk-toggleable__label fitted sk-toggleable__label-arrow fitted\">&nbsp;XGBClassifier<span class=\"sk-estimator-doc-link fitted\">i<span>Fitted</span></span></label><div class=\"sk-toggleable__content fitted\"><pre>XGBClassifier(base_score=None, booster=None, callbacks=None,\n",
       "              colsample_bylevel=None, colsample_bynode=0.9984405173814572,\n",
       "              colsample_bytree=None, device=None, early_stopping_rounds=None,\n",
       "              enable_categorical=False,\n",
       "              eval_metric=&lt;function custom_f1_score at 0x7facfca84720&gt;,\n",
       "              feature_types=None, gamma=None, grow_policy=None,\n",
       "              importance_type=None, interaction_constraints=None,\n",
       "              learning_rate=0.3863939357694363, max_bin=None,\n",
       "              max_cat_threshold=None, max_cat_to_onehot=None,\n",
       "              max_delta_step=None, max_depth=4, max_leaves=None,\n",
       "              min_child_weight=9, missing=nan, monotone_constraints=None,\n",
       "              multi_strategy=None, n_estimators=1, n_jobs=None,\n",
       "              num_parallel_tree=None, objective=&#x27;multi:softprob&#x27;, ...)</pre></div> </div></div></div></div>"
      ],
      "text/plain": [
       "XGBClassifier(base_score=None, booster=None, callbacks=None,\n",
       "              colsample_bylevel=None, colsample_bynode=0.9984405173814572,\n",
       "              colsample_bytree=None, device=None, early_stopping_rounds=None,\n",
       "              enable_categorical=False,\n",
       "              eval_metric=<function custom_f1_score at 0x7facfca84720>,\n",
       "              feature_types=None, gamma=None, grow_policy=None,\n",
       "              importance_type=None, interaction_constraints=None,\n",
       "              learning_rate=0.3863939357694363, max_bin=None,\n",
       "              max_cat_threshold=None, max_cat_to_onehot=None,\n",
       "              max_delta_step=None, max_depth=4, max_leaves=None,\n",
       "              min_child_weight=9, missing=nan, monotone_constraints=None,\n",
       "              multi_strategy=None, n_estimators=1, n_jobs=None,\n",
       "              num_parallel_tree=None, objective='multi:softprob', ...)"
      ]
     },
     "execution_count": 21,
     "metadata": {},
     "output_type": "execute_result"
    }
   ],
   "source": [
    "n_estimators = int(study.best_trial.user_attrs['best_iteration']*1.2)\n",
    "xgb = xgboost.XGBClassifier(\n",
    "        eval_metric=eval_metric,\n",
    "        n_estimators=n_estimators,\n",
    "        **study.best_trial.params\n",
    "    )\n",
    "xgb.fit(\n",
    "    ssp.vstack((X_train, X_val)), \n",
    "    np.concatenate((y_train_enc, y_val_enc)),\n",
    "    verbose=1,\n",
    ")"
   ]
  },
  {
   "cell_type": "code",
   "execution_count": 22,
   "id": "23abf54a",
   "metadata": {
    "execution": {
     "iopub.execute_input": "2025-05-15T16:15:41.624136Z",
     "iopub.status.busy": "2025-05-15T16:15:41.623901Z",
     "iopub.status.idle": "2025-05-15T16:15:41.632842Z",
     "shell.execute_reply": "2025-05-15T16:15:41.632553Z"
    },
    "papermill": {
     "duration": 0.021256,
     "end_time": "2025-05-15T16:15:41.635471",
     "exception": false,
     "start_time": "2025-05-15T16:15:41.614215",
     "status": "completed"
    },
    "tags": []
   },
   "outputs": [
    {
     "data": {
      "text/plain": [
       "['/scratch_isilon/groups/singlecell/shared/projects/Inflammation-PBMCs-Atlas/03_downstream_analysis/08_gene_importance/xgboost_external_validation/xgboost_TopN_genes/results_20/best_model/Plasma_5_4_xgb.json']"
      ]
     },
     "execution_count": 22,
     "metadata": {},
     "output_type": "execute_result"
    }
   ],
   "source": [
    "out_dir = here(f'03_downstream_analysis/08_gene_importance/xgboost_external_validation/xgboost_TopN_genes/results_{N_GENES}/best_model')\n",
    "\n",
    "if not os.path.exists(out_dir):\n",
    "    os.makedirs(out_dir)\n",
    "    \n",
    "joblib.dump(xgb, os.path.join(out_dir, f'{CELL_TYPE}_{SEED}_{TEST_SPLIT_IDX}_xgb.json'))"
   ]
  },
  {
   "cell_type": "code",
   "execution_count": 23,
   "id": "7bc0d4fc",
   "metadata": {
    "execution": {
     "iopub.execute_input": "2025-05-15T16:15:41.654602Z",
     "iopub.status.busy": "2025-05-15T16:15:41.654420Z",
     "iopub.status.idle": "2025-05-15T16:15:41.659092Z",
     "shell.execute_reply": "2025-05-15T16:15:41.658790Z"
    },
    "papermill": {
     "duration": 0.019296,
     "end_time": "2025-05-15T16:15:41.664303",
     "exception": false,
     "start_time": "2025-05-15T16:15:41.645007",
     "status": "completed"
    },
    "tags": []
   },
   "outputs": [],
   "source": [
    "df_pred_test = pd.DataFrame(dict(\n",
    "    cell_id=train_adata.obs.iloc[test_idxs].index.values,\n",
    "    y_true=y_test, \n",
    "    y_true_code=y_test_enc, \n",
    "    y_pred=xgb.predict(X_test))).set_index('cell_id')"
   ]
  },
  {
   "cell_type": "code",
   "execution_count": 24,
   "id": "573b2f0e",
   "metadata": {
    "execution": {
     "iopub.execute_input": "2025-05-15T16:15:41.694256Z",
     "iopub.status.busy": "2025-05-15T16:15:41.693855Z",
     "iopub.status.idle": "2025-05-15T16:15:41.706306Z",
     "shell.execute_reply": "2025-05-15T16:15:41.705919Z"
    },
    "papermill": {
     "duration": 0.033879,
     "end_time": "2025-05-15T16:15:41.707424",
     "exception": false,
     "start_time": "2025-05-15T16:15:41.673545",
     "status": "completed"
    },
    "tags": []
   },
   "outputs": [],
   "source": [
    "out_dir = here(f'03_downstream_analysis/08_gene_importance/xgboost_external_validation/xgboost_TopN_genes/results_{N_GENES}/predictions')\n",
    "\n",
    "if not os.path.exists(out_dir):\n",
    "    os.makedirs(out_dir)\n",
    "    \n",
    "df_pred_test.to_csv(os.path.join(out_dir, f'{CELL_TYPE}_{SEED}_{TEST_SPLIT_IDX}_pred_test.zip'))"
   ]
  },
  {
   "cell_type": "code",
   "execution_count": 25,
   "id": "9762a155",
   "metadata": {
    "execution": {
     "iopub.execute_input": "2025-05-15T16:15:41.727231Z",
     "iopub.status.busy": "2025-05-15T16:15:41.726839Z",
     "iopub.status.idle": "2025-05-15T16:15:41.732165Z",
     "shell.execute_reply": "2025-05-15T16:15:41.731823Z"
    },
    "papermill": {
     "duration": 0.015706,
     "end_time": "2025-05-15T16:15:41.733007",
     "exception": false,
     "start_time": "2025-05-15T16:15:41.717301",
     "status": "completed"
    },
    "tags": []
   },
   "outputs": [],
   "source": [
    "metrics_dict = dict(\n",
    "    BAS=balanced_accuracy_score(y_true=df_pred_test.y_true_code, y_pred=df_pred_test.y_pred), WF1=f1_score(y_true=df_pred_test.y_true_code, y_pred=df_pred_test.y_pred,average='weighted'))"
   ]
  },
  {
   "cell_type": "code",
   "execution_count": 26,
   "id": "f95dd5f2",
   "metadata": {
    "execution": {
     "iopub.execute_input": "2025-05-15T16:15:41.753564Z",
     "iopub.status.busy": "2025-05-15T16:15:41.753179Z",
     "iopub.status.idle": "2025-05-15T16:15:41.755924Z",
     "shell.execute_reply": "2025-05-15T16:15:41.755608Z"
    },
    "papermill": {
     "duration": 0.014081,
     "end_time": "2025-05-15T16:15:41.756696",
     "exception": false,
     "start_time": "2025-05-15T16:15:41.742615",
     "status": "completed"
    },
    "tags": []
   },
   "outputs": [
    {
     "data": {
      "text/plain": [
       "{'BAS': 0.28243284493284493, 'WF1': 0.4117716161588757}"
      ]
     },
     "execution_count": 26,
     "metadata": {},
     "output_type": "execute_result"
    }
   ],
   "source": [
    "metrics_dict"
   ]
  },
  {
   "cell_type": "code",
   "execution_count": 27,
   "id": "a36e90d1",
   "metadata": {
    "execution": {
     "iopub.execute_input": "2025-05-15T16:15:41.792706Z",
     "iopub.status.busy": "2025-05-15T16:15:41.792452Z",
     "iopub.status.idle": "2025-05-15T16:15:41.800210Z",
     "shell.execute_reply": "2025-05-15T16:15:41.799921Z"
    },
    "papermill": {
     "duration": 0.035615,
     "end_time": "2025-05-15T16:15:41.801077",
     "exception": false,
     "start_time": "2025-05-15T16:15:41.765462",
     "status": "completed"
    },
    "tags": []
   },
   "outputs": [
    {
     "data": {
      "text/html": [
       "<div>\n",
       "<style scoped>\n",
       "    .dataframe tbody tr th:only-of-type {\n",
       "        vertical-align: middle;\n",
       "    }\n",
       "\n",
       "    .dataframe tbody tr th {\n",
       "        vertical-align: top;\n",
       "    }\n",
       "\n",
       "    .dataframe thead th {\n",
       "        text-align: right;\n",
       "    }\n",
       "</style>\n",
       "<table border=\"1\" class=\"dataframe\">\n",
       "  <thead>\n",
       "    <tr style=\"text-align: right;\">\n",
       "      <th></th>\n",
       "      <th>BAS</th>\n",
       "      <th>WF1</th>\n",
       "      <th>split_idx</th>\n",
       "      <th>gene_set_seed</th>\n",
       "      <th>cell_type</th>\n",
       "    </tr>\n",
       "  </thead>\n",
       "  <tbody>\n",
       "    <tr>\n",
       "      <th>0</th>\n",
       "      <td>0.282433</td>\n",
       "      <td>0.411772</td>\n",
       "      <td>4</td>\n",
       "      <td>5</td>\n",
       "      <td>Plasma</td>\n",
       "    </tr>\n",
       "  </tbody>\n",
       "</table>\n",
       "</div>"
      ],
      "text/plain": [
       "        BAS       WF1  split_idx  gene_set_seed cell_type\n",
       "0  0.282433  0.411772          4              5    Plasma"
      ]
     },
     "execution_count": 27,
     "metadata": {},
     "output_type": "execute_result"
    }
   ],
   "source": [
    "metrics_df = pd.DataFrame.from_dict([metrics_dict]).assign(split_idx=TEST_SPLIT_IDX, gene_set_seed=SEED, cell_type=CELL_TYPE)\n",
    "metrics_df"
   ]
  },
  {
   "cell_type": "code",
   "execution_count": 28,
   "id": "5eed8ccf",
   "metadata": {
    "execution": {
     "iopub.execute_input": "2025-05-15T16:15:41.836935Z",
     "iopub.status.busy": "2025-05-15T16:15:41.836533Z",
     "iopub.status.idle": "2025-05-15T16:15:41.844264Z",
     "shell.execute_reply": "2025-05-15T16:15:41.843900Z"
    },
    "papermill": {
     "duration": 0.033805,
     "end_time": "2025-05-15T16:15:41.845133",
     "exception": false,
     "start_time": "2025-05-15T16:15:41.811328",
     "status": "completed"
    },
    "tags": []
   },
   "outputs": [],
   "source": [
    "out_dir = here(f'03_downstream_analysis/08_gene_importance/xgboost_external_validation/xgboost_TopN_genes/results_{N_GENES}/metrics')\n",
    "\n",
    "if not os.path.exists(out_dir):\n",
    "    os.makedirs(out_dir)\n",
    "    \n",
    "metrics_df.to_csv(os.path.join(out_dir, f'{CELL_TYPE}_{SEED}_{TEST_SPLIT_IDX}_metrics.zip'))"
   ]
  }
 ],
 "metadata": {
  "kernelspec": {
   "display_name": "Python 3 (ipykernel)",
   "language": "python",
   "name": "python3"
  },
  "language_info": {
   "codemirror_mode": {
    "name": "ipython",
    "version": 3
   },
   "file_extension": ".py",
   "mimetype": "text/x-python",
   "name": "python",
   "nbconvert_exporter": "python",
   "pygments_lexer": "ipython3",
   "version": "3.12.5"
  },
  "papermill": {
   "default_parameters": {},
   "duration": 14.888871,
   "end_time": "2025-05-15T16:15:42.470670",
   "environment_variables": {},
   "exception": null,
   "input_path": "02_xgboost_fitting_external_20genes.ipynb",
   "output_path": "results_20/executed_notebooks/xgboost_fitting_external_CT_Plasma_GS_5_seed4.ipynb",
   "parameters": {
    "CELL_TYPE": "Plasma",
    "SEED": 5,
    "TEST_SPLIT_IDX": 4
   },
   "start_time": "2025-05-15T16:15:27.581799",
   "version": "2.6.0"
  }
 },
 "nbformat": 4,
 "nbformat_minor": 5
}