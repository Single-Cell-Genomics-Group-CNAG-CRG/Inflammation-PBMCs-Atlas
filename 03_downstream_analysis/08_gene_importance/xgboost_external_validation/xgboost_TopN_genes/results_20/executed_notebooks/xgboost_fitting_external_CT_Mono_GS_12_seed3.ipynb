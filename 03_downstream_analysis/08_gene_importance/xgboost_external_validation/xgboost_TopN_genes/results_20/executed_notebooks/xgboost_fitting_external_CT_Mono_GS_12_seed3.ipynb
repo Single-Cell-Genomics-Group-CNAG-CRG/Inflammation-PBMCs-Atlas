{
 "cells": [
  {
   "cell_type": "code",
   "execution_count": 1,
   "id": "4d8b79ae",
   "metadata": {
    "editable": true,
    "execution": {
     "iopub.execute_input": "2025-05-15T15:59:52.164057Z",
     "iopub.status.busy": "2025-05-15T15:59:52.163851Z",
     "iopub.status.idle": "2025-05-15T15:59:52.166817Z",
     "shell.execute_reply": "2025-05-15T15:59:52.166517Z"
    },
    "papermill": {
     "duration": 0.010191,
     "end_time": "2025-05-15T15:59:52.167643",
     "exception": false,
     "start_time": "2025-05-15T15:59:52.157452",
     "status": "completed"
    },
    "slideshow": {
     "slide_type": ""
    },
    "tags": [
     "parameters"
    ]
   },
   "outputs": [],
   "source": [
    "CELL_TYPE = 'pDC'\n",
    "N_GENES: int = 20\n",
    "SEED = 'shap_studyID' #'disease_NOstudy' 'study_NOdisease' or 'int' or 'shap_studyID'\n",
    "TEST_SPLIT_IDX: int = 1 #[0,4]"
   ]
  },
  {
   "cell_type": "code",
   "execution_count": 2,
   "id": "4fc8a779",
   "metadata": {
    "execution": {
     "iopub.execute_input": "2025-05-15T15:59:52.179052Z",
     "iopub.status.busy": "2025-05-15T15:59:52.178857Z",
     "iopub.status.idle": "2025-05-15T15:59:52.181252Z",
     "shell.execute_reply": "2025-05-15T15:59:52.180973Z"
    },
    "papermill": {
     "duration": 0.009026,
     "end_time": "2025-05-15T15:59:52.182012",
     "exception": false,
     "start_time": "2025-05-15T15:59:52.172986",
     "status": "completed"
    },
    "tags": [
     "injected-parameters"
    ]
   },
   "outputs": [],
   "source": [
    "# Parameters\n",
    "CELL_TYPE = \"Mono\"\n",
    "SEED = 12\n",
    "TEST_SPLIT_IDX = 3\n"
   ]
  },
  {
   "cell_type": "code",
   "execution_count": 3,
   "id": "70f76102",
   "metadata": {
    "execution": {
     "iopub.execute_input": "2025-05-15T15:59:52.192354Z",
     "iopub.status.busy": "2025-05-15T15:59:52.192179Z",
     "iopub.status.idle": "2025-05-15T15:59:52.194429Z",
     "shell.execute_reply": "2025-05-15T15:59:52.194150Z"
    },
    "papermill": {
     "duration": 0.00808,
     "end_time": "2025-05-15T15:59:52.195192",
     "exception": false,
     "start_time": "2025-05-15T15:59:52.187112",
     "status": "completed"
    },
    "tags": []
   },
   "outputs": [],
   "source": [
    "N_SPLITS: int = 5\n",
    "N_TRIALS: int = 50"
   ]
  },
  {
   "cell_type": "code",
   "execution_count": 4,
   "id": "83c02685",
   "metadata": {
    "execution": {
     "iopub.execute_input": "2025-05-15T15:59:52.206348Z",
     "iopub.status.busy": "2025-05-15T15:59:52.205973Z",
     "iopub.status.idle": "2025-05-15T15:59:53.592149Z",
     "shell.execute_reply": "2025-05-15T15:59:53.591680Z"
    },
    "papermill": {
     "duration": 1.393309,
     "end_time": "2025-05-15T15:59:53.593333",
     "exception": false,
     "start_time": "2025-05-15T15:59:52.200024",
     "status": "completed"
    },
    "tags": []
   },
   "outputs": [],
   "source": [
    "import os\n",
    "import sys\n",
    "from pyprojroot.here import here\n",
    "import pandas as pd\n",
    "import anndata as ad\n",
    "import numpy as np\n",
    "import math\n",
    "from sklearn.model_selection import StratifiedGroupKFold\n",
    "from sklearn.preprocessing import LabelEncoder\n",
    "from sklearn.metrics import f1_score\n",
    "import matplotlib.pyplot as plt\n",
    "import seaborn as sns\n",
    "from itertools import product\n",
    "from sklearn.metrics import balanced_accuracy_score, f1_score\n",
    "import optuna\n",
    "\n",
    "import joblib\n",
    "import pickle\n",
    "import datetime\n",
    "\n",
    "import collections\n",
    "\n",
    "import xgboost\n",
    "from sklearn.preprocessing import LabelEncoder\n",
    "\n",
    "import scipy.sparse as ssp\n",
    "import joblib\n",
    "\n",
    "from dotenv import load_dotenv"
   ]
  },
  {
   "cell_type": "code",
   "execution_count": 5,
   "id": "f6546a74",
   "metadata": {
    "execution": {
     "iopub.execute_input": "2025-05-15T15:59:53.604645Z",
     "iopub.status.busy": "2025-05-15T15:59:53.604276Z",
     "iopub.status.idle": "2025-05-15T15:59:53.609863Z",
     "shell.execute_reply": "2025-05-15T15:59:53.609557Z"
    },
    "papermill": {
     "duration": 0.01197,
     "end_time": "2025-05-15T15:59:53.610658",
     "exception": false,
     "start_time": "2025-05-15T15:59:53.598688",
     "status": "completed"
    },
    "tags": []
   },
   "outputs": [
    {
     "data": {
      "text/plain": [
       "True"
      ]
     },
     "execution_count": 5,
     "metadata": {},
     "output_type": "execute_result"
    }
   ],
   "source": [
    "load_dotenv()"
   ]
  },
  {
   "cell_type": "markdown",
   "id": "0319d3af",
   "metadata": {
    "papermill": {
     "duration": 0.005086,
     "end_time": "2025-05-15T15:59:53.620729",
     "exception": false,
     "start_time": "2025-05-15T15:59:53.615643",
     "status": "completed"
    },
    "tags": []
   },
   "source": [
    "# LOAD DATASET"
   ]
  },
  {
   "cell_type": "code",
   "execution_count": 6,
   "id": "bc112041",
   "metadata": {
    "execution": {
     "iopub.execute_input": "2025-05-15T15:59:53.631958Z",
     "iopub.status.busy": "2025-05-15T15:59:53.631466Z",
     "iopub.status.idle": "2025-05-15T15:59:54.797834Z",
     "shell.execute_reply": "2025-05-15T15:59:54.797340Z"
    },
    "papermill": {
     "duration": 1.172729,
     "end_time": "2025-05-15T15:59:54.798688",
     "exception": false,
     "start_time": "2025-05-15T15:59:53.625959",
     "status": "completed"
    },
    "tags": []
   },
   "outputs": [],
   "source": [
    "train_adata = ad.read_h5ad(\n",
    "    here(f'03_downstream_analysis/08_gene_importance/xgboost_external_validation/xgboost_TopN_genes/data_cellTypes/EXTERNAL_{CELL_TYPE}.filtered.log1p.h5ad')\n",
    ")"
   ]
  },
  {
   "cell_type": "code",
   "execution_count": 7,
   "id": "dd87978d",
   "metadata": {
    "execution": {
     "iopub.execute_input": "2025-05-15T15:59:54.830995Z",
     "iopub.status.busy": "2025-05-15T15:59:54.830661Z",
     "iopub.status.idle": "2025-05-15T15:59:54.862690Z",
     "shell.execute_reply": "2025-05-15T15:59:54.862255Z"
    },
    "papermill": {
     "duration": 0.038174,
     "end_time": "2025-05-15T15:59:54.863461",
     "exception": false,
     "start_time": "2025-05-15T15:59:54.825287",
     "status": "completed"
    },
    "tags": []
   },
   "outputs": [
    {
     "name": "stdout",
     "output_type": "stream",
     "text": [
      "['ENSG00000105397' 'ENSG00000277443' 'ENSG00000185591' 'ENSG00000173757'\n",
      " 'ENSG00000169564' 'ENSG00000162444' 'ENSG00000100393' 'ENSG00000147168'\n",
      " 'ENSG00000127314' 'ENSG00000128340' 'ENSG00000078043' 'ENSG00000178695'\n",
      " 'ENSG00000171608' 'ENSG00000082074' 'ENSG00000137331' 'ENSG00000167004'\n",
      " 'ENSG00000170296' 'ENSG00000113811' 'ENSG00000167552' 'ENSG00000178719'\n",
      " 'ENSG00000167283' 'ENSG00000243678' 'ENSG00000166949' 'ENSG00000165732'\n",
      " 'ENSG00000197329' 'ENSG00000185885' 'ENSG00000117984' 'ENSG00000163131'\n",
      " 'ENSG00000076944' 'ENSG00000142546' 'ENSG00000182578' 'ENSG00000115145'\n",
      " 'ENSG00000141574' 'ENSG00000109743' 'ENSG00000127507' 'ENSG00000155368'\n",
      " 'ENSG00000101017' 'ENSG00000100280' 'ENSG00000166927' 'ENSG00000169403'\n",
      " 'ENSG00000002586' 'ENSG00000135114' 'ENSG00000101350' 'ENSG00000160712'\n",
      " 'ENSG00000196083' 'ENSG00000231925' 'ENSG00000175203' 'ENSG00000213145'\n",
      " 'ENSG00000127528' 'ENSG00000150337' 'ENSG00000090382' 'ENSG00000198668'\n",
      " 'ENSG00000150782' 'ENSG00000198355' 'ENSG00000276070' 'ENSG00000160213'\n",
      " 'ENSG00000204592' 'ENSG00000101608' 'ENSG00000110876' 'ENSG00000205220'\n",
      " 'ENSG00000196154' 'ENSG00000123416' 'ENSG00000120594' 'ENSG00000180008'\n",
      " 'ENSG00000125538' 'ENSG00000156411' 'ENSG00000100934' 'ENSG00000142166'\n",
      " 'ENSG00000143543' 'ENSG00000172183' 'ENSG00000143226' 'ENSG00000125534'\n",
      " 'ENSG00000051382' 'ENSG00000228474' 'ENSG00000271503' 'ENSG00000170345'\n",
      " 'ENSG00000175567' 'ENSG00000196396' 'ENSG00000166888' 'ENSG00000172531'\n",
      " 'ENSG00000100097' 'ENSG00000059728' 'ENSG00000177663' 'ENSG00000112561'\n",
      " 'ENSG00000033800' 'ENSG00000179094' 'ENSG00000175768' 'ENSG00000204577'\n",
      " 'ENSG00000115875' 'ENSG00000163191' 'ENSG00000110848' 'ENSG00000011600'\n",
      " 'ENSG00000101695' 'ENSG00000104918' 'ENSG00000108622' 'ENSG00000105835'\n",
      " 'ENSG00000152518' 'ENSG00000127022' 'ENSG00000167863' 'ENSG00000241837'\n",
      " 'ENSG00000092820' 'ENSG00000142089' 'ENSG00000188906' 'ENSG00000143924'\n",
      " 'ENSG00000118260' 'ENSG00000168329' 'ENSG00000235568' 'ENSG00000188313'\n",
      " 'ENSG00000136156' 'ENSG00000137462' 'ENSG00000108774' 'ENSG00000156587'\n",
      " 'ENSG00000119408' 'ENSG00000150961']\n"
     ]
    }
   ],
   "source": [
    "if SEED != 'all':\n",
    "    gene_subset = np.load(here(f'03_downstream_analysis/08_gene_importance/xgboost_external_validation/shap_gene_selection/gene_subsets_{N_GENES}/{CELL_TYPE}_{SEED}.npy'), allow_pickle=True)\n",
    "    train_adata = train_adata[:,gene_subset]\n",
    "    print(gene_subset)\n",
    "elif SEED == 'all':\n",
    "    print('Using all genes')\n",
    "else:\n",
    "    raise ValueError()"
   ]
  },
  {
   "cell_type": "code",
   "execution_count": 8,
   "id": "29b65fb7",
   "metadata": {
    "execution": {
     "iopub.execute_input": "2025-05-15T15:59:54.887866Z",
     "iopub.status.busy": "2025-05-15T15:59:54.887471Z",
     "iopub.status.idle": "2025-05-15T15:59:54.890499Z",
     "shell.execute_reply": "2025-05-15T15:59:54.890212Z"
    },
    "papermill": {
     "duration": 0.009231,
     "end_time": "2025-05-15T15:59:54.891255",
     "exception": false,
     "start_time": "2025-05-15T15:59:54.882024",
     "status": "completed"
    },
    "tags": []
   },
   "outputs": [
    {
     "data": {
      "text/plain": [
       "(137435, 114)"
      ]
     },
     "execution_count": 8,
     "metadata": {},
     "output_type": "execute_result"
    }
   ],
   "source": [
    "train_adata.shape"
   ]
  },
  {
   "cell_type": "code",
   "execution_count": 9,
   "id": "9cb16813",
   "metadata": {
    "execution": {
     "iopub.execute_input": "2025-05-15T15:59:54.902131Z",
     "iopub.status.busy": "2025-05-15T15:59:54.901518Z",
     "iopub.status.idle": "2025-05-15T15:59:54.905653Z",
     "shell.execute_reply": "2025-05-15T15:59:54.905355Z"
    },
    "papermill": {
     "duration": 0.010138,
     "end_time": "2025-05-15T15:59:54.906437",
     "exception": false,
     "start_time": "2025-05-15T15:59:54.896299",
     "status": "completed"
    },
    "tags": []
   },
   "outputs": [
    {
     "data": {
      "text/plain": [
       "['RA', 'healthy', 'COVID', 'HIV', 'cirrhosis', 'CD', 'SLE', 'sepsis']\n",
       "Categories (8, object): ['CD', 'COVID', 'HIV', 'RA', 'SLE', 'cirrhosis', 'healthy', 'sepsis']"
      ]
     },
     "execution_count": 9,
     "metadata": {},
     "output_type": "execute_result"
    }
   ],
   "source": [
    "train_adata.obs.disease.unique()"
   ]
  },
  {
   "cell_type": "code",
   "execution_count": 10,
   "id": "7f53fca4",
   "metadata": {
    "execution": {
     "iopub.execute_input": "2025-05-15T15:59:54.917604Z",
     "iopub.status.busy": "2025-05-15T15:59:54.917341Z",
     "iopub.status.idle": "2025-05-15T15:59:54.921065Z",
     "shell.execute_reply": "2025-05-15T15:59:54.920784Z"
    },
    "papermill": {
     "duration": 0.010076,
     "end_time": "2025-05-15T15:59:54.921849",
     "exception": false,
     "start_time": "2025-05-15T15:59:54.911773",
     "status": "completed"
    },
    "tags": []
   },
   "outputs": [
    {
     "data": {
      "text/plain": [
       "['SCGT00val_I0364_T0', 'SCGT00val_I036028_T0', 'SCGT00val_I036024_T0', 'SCGT00val_I036023_T0', 'SCGT00val_I036019_T0', ..., '10XGenomics_10XHC2_T0', '10XGenomics_10XHC3_T0', '10XGenomics_10XHC5_T0', '10XGenomics_10XHC7_T0', '10XGenomics_10XHC8_T0']\n",
       "Length: 86\n",
       "Categories (86, object): ['10XGenomics_10XHC1_T0', '10XGenomics_10XHC2_T0', '10XGenomics_10XHC3_T0', '10XGenomics_10XHC4_T0', ..., 'Savage2021_BRISL6_T0', 'Savage2021_BRISL7_T0', 'Savage2021_PIDA_T0', 'Savage2021_PIDB_T0']"
      ]
     },
     "execution_count": 10,
     "metadata": {},
     "output_type": "execute_result"
    }
   ],
   "source": [
    "train_adata.obs.sampleID.unique()"
   ]
  },
  {
   "cell_type": "code",
   "execution_count": 11,
   "id": "0bc5493f",
   "metadata": {
    "execution": {
     "iopub.execute_input": "2025-05-15T15:59:54.933017Z",
     "iopub.status.busy": "2025-05-15T15:59:54.932766Z",
     "iopub.status.idle": "2025-05-15T15:59:55.252902Z",
     "shell.execute_reply": "2025-05-15T15:59:55.252454Z"
    },
    "papermill": {
     "duration": 0.327024,
     "end_time": "2025-05-15T15:59:55.254166",
     "exception": false,
     "start_time": "2025-05-15T15:59:54.927142",
     "status": "completed"
    },
    "tags": []
   },
   "outputs": [],
   "source": [
    "all_idxs = np.arange(train_adata.obs.shape[0])\n",
    "left_out_splits = [s[1] for s in StratifiedGroupKFold(n_splits=N_SPLITS).split(all_idxs, train_adata.obs.disease, train_adata.obs.sampleID)]"
   ]
  },
  {
   "cell_type": "code",
   "execution_count": 12,
   "id": "1d3efeea",
   "metadata": {
    "execution": {
     "iopub.execute_input": "2025-05-15T15:59:55.266408Z",
     "iopub.status.busy": "2025-05-15T15:59:55.266195Z",
     "iopub.status.idle": "2025-05-15T15:59:55.269919Z",
     "shell.execute_reply": "2025-05-15T15:59:55.269620Z"
    },
    "papermill": {
     "duration": 0.010577,
     "end_time": "2025-05-15T15:59:55.270692",
     "exception": false,
     "start_time": "2025-05-15T15:59:55.260115",
     "status": "completed"
    },
    "tags": []
   },
   "outputs": [
    {
     "data": {
      "text/plain": [
       "([0, 1, 2], 4, 3)"
      ]
     },
     "execution_count": 12,
     "metadata": {},
     "output_type": "execute_result"
    }
   ],
   "source": [
    "TRAIN_SPLIT_IDXS = [0,1,2,3,4]\n",
    "VAL_SPLIT_IDX = (TEST_SPLIT_IDX + 1) % 5\n",
    "TRAIN_SPLIT_IDXS.remove(TEST_SPLIT_IDX)\n",
    "TRAIN_SPLIT_IDXS.remove(VAL_SPLIT_IDX)\n",
    "TRAIN_SPLIT_IDXS, VAL_SPLIT_IDX, TEST_SPLIT_IDX"
   ]
  },
  {
   "cell_type": "code",
   "execution_count": 13,
   "id": "fd1c6aed",
   "metadata": {
    "execution": {
     "iopub.execute_input": "2025-05-15T15:59:55.283426Z",
     "iopub.status.busy": "2025-05-15T15:59:55.282900Z",
     "iopub.status.idle": "2025-05-15T15:59:55.285475Z",
     "shell.execute_reply": "2025-05-15T15:59:55.285189Z"
    },
    "papermill": {
     "duration": 0.010075,
     "end_time": "2025-05-15T15:59:55.286243",
     "exception": false,
     "start_time": "2025-05-15T15:59:55.276168",
     "status": "completed"
    },
    "tags": []
   },
   "outputs": [],
   "source": [
    "train_idxs = np.concatenate([left_out_splits[idx] for idx in TRAIN_SPLIT_IDXS])\n",
    "val_idxs = left_out_splits[VAL_SPLIT_IDX]\n",
    "test_idxs = left_out_splits[TEST_SPLIT_IDX]"
   ]
  },
  {
   "cell_type": "markdown",
   "id": "5d9aa5a4",
   "metadata": {
    "papermill": {
     "duration": 0.00584,
     "end_time": "2025-05-15T15:59:55.307545",
     "exception": false,
     "start_time": "2025-05-15T15:59:55.301705",
     "status": "completed"
    },
    "tags": []
   },
   "source": [
    "### SUBSET DATASET INTO TRAIN/TEST/VAL SPLITS"
   ]
  },
  {
   "cell_type": "code",
   "execution_count": 14,
   "id": "8ec526b3",
   "metadata": {
    "execution": {
     "iopub.execute_input": "2025-05-15T15:59:55.319830Z",
     "iopub.status.busy": "2025-05-15T15:59:55.319162Z",
     "iopub.status.idle": "2025-05-15T15:59:55.762924Z",
     "shell.execute_reply": "2025-05-15T15:59:55.762562Z"
    },
    "papermill": {
     "duration": 0.450485,
     "end_time": "2025-05-15T15:59:55.764003",
     "exception": false,
     "start_time": "2025-05-15T15:59:55.313518",
     "status": "completed"
    },
    "tags": []
   },
   "outputs": [
    {
     "data": {
      "text/plain": [
       "((81752, 114), (28646, 114), (27037, 114))"
      ]
     },
     "execution_count": 14,
     "metadata": {},
     "output_type": "execute_result"
    }
   ],
   "source": [
    "X_train = train_adata.X[train_idxs]\n",
    "X_test = train_adata.X[test_idxs]\n",
    "X_val = train_adata.X[val_idxs]\n",
    "X_train.shape, X_test.shape, X_val.shape"
   ]
  },
  {
   "cell_type": "code",
   "execution_count": 15,
   "id": "24416f22",
   "metadata": {
    "execution": {
     "iopub.execute_input": "2025-05-15T15:59:55.787621Z",
     "iopub.status.busy": "2025-05-15T15:59:55.787424Z",
     "iopub.status.idle": "2025-05-15T15:59:55.799409Z",
     "shell.execute_reply": "2025-05-15T15:59:55.798957Z"
    },
    "papermill": {
     "duration": 0.02877,
     "end_time": "2025-05-15T15:59:55.800212",
     "exception": false,
     "start_time": "2025-05-15T15:59:55.771442",
     "status": "completed"
    },
    "tags": []
   },
   "outputs": [
    {
     "data": {
      "text/plain": [
       "((81752,), (28646,), (27037,))"
      ]
     },
     "execution_count": 15,
     "metadata": {},
     "output_type": "execute_result"
    }
   ],
   "source": [
    "y_train = train_adata.obs.iloc[train_idxs].disease.values.astype(str)\n",
    "y_test = train_adata.obs.iloc[test_idxs].disease.values.astype(str)\n",
    "y_val = train_adata.obs.iloc[val_idxs].disease.values.astype(str)\n",
    "y_train.shape, y_test.shape, y_val.shape"
   ]
  },
  {
   "cell_type": "code",
   "execution_count": 16,
   "id": "5fe808d9",
   "metadata": {
    "execution": {
     "iopub.execute_input": "2025-05-15T15:59:55.812170Z",
     "iopub.status.busy": "2025-05-15T15:59:55.811847Z",
     "iopub.status.idle": "2025-05-15T15:59:55.840641Z",
     "shell.execute_reply": "2025-05-15T15:59:55.840176Z"
    },
    "papermill": {
     "duration": 0.035559,
     "end_time": "2025-05-15T15:59:55.841431",
     "exception": false,
     "start_time": "2025-05-15T15:59:55.805872",
     "status": "completed"
    },
    "tags": []
   },
   "outputs": [],
   "source": [
    "lenc = LabelEncoder()\n",
    "y_train_enc = lenc.fit_transform(y_train)\n",
    "y_val_enc = lenc.transform(y_val)\n",
    "y_test_enc = lenc.transform(y_test)"
   ]
  },
  {
   "cell_type": "markdown",
   "id": "89da0438",
   "metadata": {
    "papermill": {
     "duration": 0.005809,
     "end_time": "2025-05-15T15:59:55.853038",
     "exception": false,
     "start_time": "2025-05-15T15:59:55.847229",
     "status": "completed"
    },
    "tags": []
   },
   "source": [
    "### GENERATE F1 "
   ]
  },
  {
   "cell_type": "code",
   "execution_count": 17,
   "id": "91933f21",
   "metadata": {
    "execution": {
     "iopub.execute_input": "2025-05-15T15:59:55.866327Z",
     "iopub.status.busy": "2025-05-15T15:59:55.866001Z",
     "iopub.status.idle": "2025-05-15T15:59:55.868379Z",
     "shell.execute_reply": "2025-05-15T15:59:55.868090Z"
    },
    "papermill": {
     "duration": 0.009902,
     "end_time": "2025-05-15T15:59:55.869175",
     "exception": false,
     "start_time": "2025-05-15T15:59:55.859273",
     "status": "completed"
    },
    "tags": []
   },
   "outputs": [],
   "source": [
    "def custom_f1_score(y_true, y_pred):\n",
    "    return -f1_score(y_true, y_pred.argmax(1), average='weighted')"
   ]
  },
  {
   "cell_type": "code",
   "execution_count": 18,
   "id": "f9dd4038",
   "metadata": {
    "execution": {
     "iopub.execute_input": "2025-05-15T15:59:55.882061Z",
     "iopub.status.busy": "2025-05-15T15:59:55.881803Z",
     "iopub.status.idle": "2025-05-15T15:59:55.885478Z",
     "shell.execute_reply": "2025-05-15T15:59:55.885192Z"
    },
    "papermill": {
     "duration": 0.010926,
     "end_time": "2025-05-15T15:59:55.886309",
     "exception": false,
     "start_time": "2025-05-15T15:59:55.875383",
     "status": "completed"
    },
    "tags": []
   },
   "outputs": [],
   "source": [
    "eval_metric=custom_f1_score\n",
    "eval_metric_name='custom_f1_score'\n",
    "\n",
    "def objective(trial):\n",
    "    params = {\n",
    "        'n_estimators': 1500,\n",
    "        'max_depth': trial.suggest_int('max_depth', 3, 20),\n",
    "        'min_child_weight': trial.suggest_int('min_child_weight', 1, 250),\n",
    "        'subsample': trial.suggest_float('subsample', 0.1, 1.0),\n",
    "        'colsample_bynode': trial.suggest_float('colsample_bynode', 0.1, 1.0),\n",
    "        'learning_rate': trial.suggest_float('learning_rate', 1e-3, 5e-1, log=True),\n",
    "    }\n",
    "    pruning_callback = optuna.integration.XGBoostPruningCallback(trial, f'validation_0-{eval_metric_name}')\n",
    "    es_callback = xgboost.callback.EarlyStopping(20, min_delta=0.001)\n",
    "    xgb = xgboost.XGBClassifier(\n",
    "        eval_metric=eval_metric,\n",
    "        callbacks=[pruning_callback, es_callback],\n",
    "        n_jobs=5,\n",
    "        **params\n",
    "    )\n",
    "    xgb.fit(\n",
    "        X_train, \n",
    "        y_train_enc, \n",
    "        verbose=0,\n",
    "        eval_set=[(X_val, y_val_enc)],\n",
    "    )\n",
    "    trial.set_user_attr('best_iteration', xgb.best_iteration)\n",
    "\n",
    "    return xgb.best_score"
   ]
  },
  {
   "cell_type": "code",
   "execution_count": 19,
   "id": "b4f9b897",
   "metadata": {
    "execution": {
     "iopub.execute_input": "2025-05-15T15:59:55.900795Z",
     "iopub.status.busy": "2025-05-15T15:59:55.900318Z",
     "iopub.status.idle": "2025-05-15T16:14:22.181035Z",
     "shell.execute_reply": "2025-05-15T16:14:22.180408Z"
    },
    "papermill": {
     "duration": 866.289775,
     "end_time": "2025-05-15T16:14:22.182524",
     "exception": false,
     "start_time": "2025-05-15T15:59:55.892749",
     "status": "completed"
    },
    "scrolled": true,
    "tags": []
   },
   "outputs": [
    {
     "name": "stderr",
     "output_type": "stream",
     "text": [
      "[I 2025-05-15 17:59:55,902] A new study created in memory with name: no-name-f5b3b7f7-8cfa-4e8f-8694-201e380c589d\n"
     ]
    },
    {
     "name": "stderr",
     "output_type": "stream",
     "text": [
      "[I 2025-05-15 18:00:09,410] Trial 0 finished with value: -0.695954 and parameters: {'max_depth': 9, 'min_child_weight': 238, 'subsample': 0.7587945476302645, 'colsample_bynode': 0.6387926357773329, 'learning_rate': 0.0026368755339723046}. Best is trial 0 with value: -0.695954.\n"
     ]
    },
    {
     "name": "stderr",
     "output_type": "stream",
     "text": [
      "[I 2025-05-15 18:01:05,356] Trial 1 finished with value: -0.795629 and parameters: {'max_depth': 5, 'min_child_weight': 15, 'subsample': 0.8795585311974417, 'colsample_bynode': 0.6410035105688879, 'learning_rate': 0.08148293210105287}. Best is trial 1 with value: -0.795629.\n"
     ]
    },
    {
     "name": "stderr",
     "output_type": "stream",
     "text": [
      "[I 2025-05-15 18:01:13,970] Trial 2 finished with value: -0.661407 and parameters: {'max_depth': 3, 'min_child_weight': 243, 'subsample': 0.8491983767203796, 'colsample_bynode': 0.29110519961044856, 'learning_rate': 0.003095566460242371}. Best is trial 1 with value: -0.795629.\n"
     ]
    },
    {
     "name": "stderr",
     "output_type": "stream",
     "text": [
      "[I 2025-05-15 18:01:57,238] Trial 3 finished with value: -0.727185 and parameters: {'max_depth': 6, 'min_child_weight': 77, 'subsample': 0.5722807884690141, 'colsample_bynode': 0.48875051677790415, 'learning_rate': 0.006109683510122491}. Best is trial 1 with value: -0.795629.\n"
     ]
    },
    {
     "name": "stderr",
     "output_type": "stream",
     "text": [
      "[I 2025-05-15 18:04:18,321] Trial 4 finished with value: -0.791967 and parameters: {'max_depth': 14, 'min_child_weight': 35, 'subsample': 0.3629301836816964, 'colsample_bynode': 0.4297256589643226, 'learning_rate': 0.01701841881702917}. Best is trial 1 with value: -0.795629.\n"
     ]
    },
    {
     "name": "stderr",
     "output_type": "stream",
     "text": [
      "[I 2025-05-15 18:04:32,241] Trial 5 pruned. Trial was pruned at iteration 37.\n"
     ]
    },
    {
     "name": "stderr",
     "output_type": "stream",
     "text": [
      "[I 2025-05-15 18:04:55,973] Trial 6 finished with value: -0.796915 and parameters: {'max_depth': 13, 'min_child_weight': 43, 'subsample': 0.1585464336867516, 'colsample_bynode': 0.9539969835279999, 'learning_rate': 0.4038423798071558}. Best is trial 6 with value: -0.796915.\n"
     ]
    },
    {
     "name": "stderr",
     "output_type": "stream",
     "text": [
      "[I 2025-05-15 18:04:56,646] Trial 7 pruned. Trial was pruned at iteration 0.\n"
     ]
    },
    {
     "name": "stderr",
     "output_type": "stream",
     "text": [
      "[I 2025-05-15 18:04:57,287] Trial 8 pruned. Trial was pruned at iteration 0.\n"
     ]
    },
    {
     "name": "stderr",
     "output_type": "stream",
     "text": [
      "[I 2025-05-15 18:04:58,655] Trial 9 pruned. Trial was pruned at iteration 2.\n"
     ]
    },
    {
     "name": "stderr",
     "output_type": "stream",
     "text": [
      "[I 2025-05-15 18:04:59,348] Trial 10 pruned. Trial was pruned at iteration 0.\n"
     ]
    },
    {
     "name": "stderr",
     "output_type": "stream",
     "text": [
      "[I 2025-05-15 18:05:50,797] Trial 11 finished with value: -0.801118 and parameters: {'max_depth': 10, 'min_child_weight': 3, 'subsample': 0.9785259098721957, 'colsample_bynode': 0.8052666590341151, 'learning_rate': 0.2758695468716421}. Best is trial 11 with value: -0.801118.\n"
     ]
    },
    {
     "name": "stderr",
     "output_type": "stream",
     "text": [
      "[I 2025-05-15 18:06:30,428] Trial 12 finished with value: -0.798788 and parameters: {'max_depth': 10, 'min_child_weight': 3, 'subsample': 0.9575013734813995, 'colsample_bynode': 0.8617981444074343, 'learning_rate': 0.48918351051991577}. Best is trial 11 with value: -0.801118.\n"
     ]
    },
    {
     "name": "stderr",
     "output_type": "stream",
     "text": [
      "[I 2025-05-15 18:07:42,944] Trial 13 finished with value: -0.798356 and parameters: {'max_depth': 9, 'min_child_weight': 2, 'subsample': 0.99831866990243, 'colsample_bynode': 0.8228797494499728, 'learning_rate': 0.11321089671237052}. Best is trial 11 with value: -0.801118.\n"
     ]
    },
    {
     "name": "stderr",
     "output_type": "stream",
     "text": [
      "[I 2025-05-15 18:07:59,441] Trial 14 pruned. Trial was pruned at iteration 48.\n"
     ]
    },
    {
     "name": "stderr",
     "output_type": "stream",
     "text": [
      "[I 2025-05-15 18:08:46,109] Trial 15 finished with value: -0.800833 and parameters: {'max_depth': 11, 'min_child_weight': 2, 'subsample': 0.7282341236970885, 'colsample_bynode': 0.17061614647010237, 'learning_rate': 0.23979925579021713}. Best is trial 11 with value: -0.801118.\n"
     ]
    },
    {
     "name": "stderr",
     "output_type": "stream",
     "text": [
      "[I 2025-05-15 18:08:46,916] Trial 16 pruned. Trial was pruned at iteration 0.\n"
     ]
    },
    {
     "name": "stderr",
     "output_type": "stream",
     "text": [
      "[I 2025-05-15 18:08:47,672] Trial 17 pruned. Trial was pruned at iteration 0.\n"
     ]
    },
    {
     "name": "stderr",
     "output_type": "stream",
     "text": [
      "[I 2025-05-15 18:08:49,961] Trial 18 pruned. Trial was pruned at iteration 4.\n"
     ]
    },
    {
     "name": "stderr",
     "output_type": "stream",
     "text": [
      "[I 2025-05-15 18:09:21,558] Trial 19 finished with value: -0.799196 and parameters: {'max_depth': 16, 'min_child_weight': 99, 'subsample': 0.8151808277008799, 'colsample_bynode': 0.436579935167426, 'learning_rate': 0.19639430835530272}. Best is trial 11 with value: -0.801118.\n"
     ]
    },
    {
     "name": "stderr",
     "output_type": "stream",
     "text": [
      "[I 2025-05-15 18:09:59,782] Trial 20 finished with value: -0.805768 and parameters: {'max_depth': 8, 'min_child_weight': 24, 'subsample': 0.4441664982036272, 'colsample_bynode': 0.7393413557988933, 'learning_rate': 0.22336724144364956}. Best is trial 20 with value: -0.805768.\n"
     ]
    },
    {
     "name": "stderr",
     "output_type": "stream",
     "text": [
      "[I 2025-05-15 18:10:43,634] Trial 21 finished with value: -0.806474 and parameters: {'max_depth': 8, 'min_child_weight': 23, 'subsample': 0.432561161075058, 'colsample_bynode': 0.7476987174423069, 'learning_rate': 0.2221527168586374}. Best is trial 21 with value: -0.806474.\n"
     ]
    },
    {
     "name": "stderr",
     "output_type": "stream",
     "text": [
      "[I 2025-05-15 18:10:45,137] Trial 22 pruned. Trial was pruned at iteration 2.\n"
     ]
    },
    {
     "name": "stderr",
     "output_type": "stream",
     "text": [
      "[I 2025-05-15 18:10:46,186] Trial 23 pruned. Trial was pruned at iteration 1.\n"
     ]
    },
    {
     "name": "stderr",
     "output_type": "stream",
     "text": [
      "[I 2025-05-15 18:10:46,871] Trial 24 pruned. Trial was pruned at iteration 0.\n"
     ]
    },
    {
     "name": "stderr",
     "output_type": "stream",
     "text": [
      "[I 2025-05-15 18:11:23,285] Trial 25 finished with value: -0.801813 and parameters: {'max_depth': 8, 'min_child_weight': 24, 'subsample': 0.48470831940657033, 'colsample_bynode': 0.8681431605026977, 'learning_rate': 0.3055650676007562}. Best is trial 21 with value: -0.806474.\n"
     ]
    },
    {
     "name": "stderr",
     "output_type": "stream",
     "text": [
      "[I 2025-05-15 18:11:24,265] Trial 26 pruned. Trial was pruned at iteration 1.\n"
     ]
    },
    {
     "name": "stderr",
     "output_type": "stream",
     "text": [
      "[I 2025-05-15 18:11:24,987] Trial 27 pruned. Trial was pruned at iteration 0.\n"
     ]
    },
    {
     "name": "stderr",
     "output_type": "stream",
     "text": [
      "[I 2025-05-15 18:11:25,671] Trial 28 pruned. Trial was pruned at iteration 0.\n"
     ]
    },
    {
     "name": "stderr",
     "output_type": "stream",
     "text": [
      "[I 2025-05-15 18:11:26,380] Trial 29 pruned. Trial was pruned at iteration 0.\n"
     ]
    },
    {
     "name": "stderr",
     "output_type": "stream",
     "text": [
      "[I 2025-05-15 18:11:27,116] Trial 30 pruned. Trial was pruned at iteration 0.\n"
     ]
    },
    {
     "name": "stderr",
     "output_type": "stream",
     "text": [
      "[I 2025-05-15 18:12:02,500] Trial 31 finished with value: -0.80402 and parameters: {'max_depth': 10, 'min_child_weight': 20, 'subsample': 0.5228333508477434, 'colsample_bynode': 0.8144718412561417, 'learning_rate': 0.33520941417627514}. Best is trial 21 with value: -0.806474.\n"
     ]
    },
    {
     "name": "stderr",
     "output_type": "stream",
     "text": [
      "[I 2025-05-15 18:12:27,024] Trial 32 finished with value: -0.803542 and parameters: {'max_depth': 7, 'min_child_weight': 26, 'subsample': 0.5197823097053015, 'colsample_bynode': 0.8551480808991664, 'learning_rate': 0.339173726559022}. Best is trial 21 with value: -0.806474.\n"
     ]
    },
    {
     "name": "stderr",
     "output_type": "stream",
     "text": [
      "[I 2025-05-15 18:12:27,695] Trial 33 pruned. Trial was pruned at iteration 0.\n"
     ]
    },
    {
     "name": "stderr",
     "output_type": "stream",
     "text": [
      "[I 2025-05-15 18:12:28,421] Trial 34 pruned. Trial was pruned at iteration 0.\n"
     ]
    },
    {
     "name": "stderr",
     "output_type": "stream",
     "text": [
      "[I 2025-05-15 18:12:45,681] Trial 35 finished with value: -0.795178 and parameters: {'max_depth': 7, 'min_child_weight': 16, 'subsample': 0.4301447867794912, 'colsample_bynode': 0.5782827179596828, 'learning_rate': 0.3415397400053133}. Best is trial 21 with value: -0.806474.\n"
     ]
    },
    {
     "name": "stderr",
     "output_type": "stream",
     "text": [
      "[I 2025-05-15 18:12:46,448] Trial 36 pruned. Trial was pruned at iteration 0.\n"
     ]
    },
    {
     "name": "stderr",
     "output_type": "stream",
     "text": [
      "[I 2025-05-15 18:12:47,193] Trial 37 pruned. Trial was pruned at iteration 0.\n"
     ]
    },
    {
     "name": "stderr",
     "output_type": "stream",
     "text": [
      "[I 2025-05-15 18:12:47,895] Trial 38 pruned. Trial was pruned at iteration 0.\n"
     ]
    },
    {
     "name": "stderr",
     "output_type": "stream",
     "text": [
      "[I 2025-05-15 18:12:48,663] Trial 39 pruned. Trial was pruned at iteration 0.\n"
     ]
    },
    {
     "name": "stderr",
     "output_type": "stream",
     "text": [
      "[I 2025-05-15 18:12:53,872] Trial 40 pruned. Trial was pruned at iteration 9.\n"
     ]
    },
    {
     "name": "stderr",
     "output_type": "stream",
     "text": [
      "[I 2025-05-15 18:13:26,826] Trial 41 finished with value: -0.802453 and parameters: {'max_depth': 8, 'min_child_weight': 27, 'subsample': 0.4762569042913461, 'colsample_bynode': 0.8753606649855364, 'learning_rate': 0.3043662549549837}. Best is trial 21 with value: -0.806474.\n"
     ]
    },
    {
     "name": "stderr",
     "output_type": "stream",
     "text": [
      "[I 2025-05-15 18:13:27,552] Trial 42 pruned. Trial was pruned at iteration 0.\n"
     ]
    },
    {
     "name": "stderr",
     "output_type": "stream",
     "text": [
      "[I 2025-05-15 18:14:02,969] Trial 43 finished with value: -0.804357 and parameters: {'max_depth': 7, 'min_child_weight': 15, 'subsample': 0.3382454798242111, 'colsample_bynode': 0.9142862742049936, 'learning_rate': 0.3528037447155918}. Best is trial 21 with value: -0.806474.\n"
     ]
    },
    {
     "name": "stderr",
     "output_type": "stream",
     "text": [
      "[I 2025-05-15 18:14:03,692] Trial 44 pruned. Trial was pruned at iteration 0.\n"
     ]
    },
    {
     "name": "stderr",
     "output_type": "stream",
     "text": [
      "[I 2025-05-15 18:14:04,359] Trial 45 pruned. Trial was pruned at iteration 0.\n"
     ]
    },
    {
     "name": "stderr",
     "output_type": "stream",
     "text": [
      "[I 2025-05-15 18:14:05,087] Trial 46 pruned. Trial was pruned at iteration 0.\n"
     ]
    },
    {
     "name": "stderr",
     "output_type": "stream",
     "text": [
      "[I 2025-05-15 18:14:05,795] Trial 47 pruned. Trial was pruned at iteration 0.\n"
     ]
    },
    {
     "name": "stderr",
     "output_type": "stream",
     "text": [
      "[I 2025-05-15 18:14:20,829] Trial 48 pruned. Trial was pruned at iteration 38.\n"
     ]
    },
    {
     "name": "stderr",
     "output_type": "stream",
     "text": [
      "[I 2025-05-15 18:14:22,098] Trial 49 pruned. Trial was pruned at iteration 2.\n"
     ]
    }
   ],
   "source": [
    "sampler = optuna.samplers.TPESampler(seed=42)\n",
    "study = optuna.create_study(direction='minimize', sampler=sampler)\n",
    "study.optimize(objective, n_trials=N_TRIALS, gc_after_trial=True)"
   ]
  },
  {
   "cell_type": "code",
   "execution_count": 20,
   "id": "03787669",
   "metadata": {
    "execution": {
     "iopub.execute_input": "2025-05-15T16:14:22.202024Z",
     "iopub.status.busy": "2025-05-15T16:14:22.201774Z",
     "iopub.status.idle": "2025-05-15T16:14:22.228328Z",
     "shell.execute_reply": "2025-05-15T16:14:22.227878Z"
    },
    "papermill": {
     "duration": 0.036465,
     "end_time": "2025-05-15T16:14:22.229213",
     "exception": false,
     "start_time": "2025-05-15T16:14:22.192748",
     "status": "completed"
    },
    "tags": []
   },
   "outputs": [
    {
     "data": {
      "text/plain": [
       "['/scratch_isilon/groups/singlecell/shared/projects/Inflammation-PBMCs-Atlas/03_downstream_analysis/08_gene_importance/xgboost_external_validation/xgboost_TopN_genes/results_20/study/Mono_12_3_xgboost.pkl']"
      ]
     },
     "execution_count": 20,
     "metadata": {},
     "output_type": "execute_result"
    }
   ],
   "source": [
    "out_dir = here(f'03_downstream_analysis/08_gene_importance/xgboost_external_validation/xgboost_TopN_genes/results_{N_GENES}/study')\n",
    "\n",
    "if not os.path.exists(out_dir):\n",
    "    os.makedirs(out_dir)\n",
    "    \n",
    "joblib.dump(study,os.path.join(out_dir, f'{CELL_TYPE}_{SEED}_{TEST_SPLIT_IDX}_xgboost.pkl'))"
   ]
  },
  {
   "cell_type": "code",
   "execution_count": 21,
   "id": "c4c71cbf",
   "metadata": {
    "execution": {
     "iopub.execute_input": "2025-05-15T16:14:22.246903Z",
     "iopub.status.busy": "2025-05-15T16:14:22.246742Z",
     "iopub.status.idle": "2025-05-15T16:14:43.312446Z",
     "shell.execute_reply": "2025-05-15T16:14:43.312020Z"
    },
    "papermill": {
     "duration": 21.075757,
     "end_time": "2025-05-15T16:14:43.313588",
     "exception": false,
     "start_time": "2025-05-15T16:14:22.237831",
     "status": "completed"
    },
    "tags": []
   },
   "outputs": [
    {
     "data": {
      "text/html": [
       "<style>#sk-container-id-1 {\n",
       "  /* Definition of color scheme common for light and dark mode */\n",
       "  --sklearn-color-text: black;\n",
       "  --sklearn-color-line: gray;\n",
       "  /* Definition of color scheme for unfitted estimators */\n",
       "  --sklearn-color-unfitted-level-0: #fff5e6;\n",
       "  --sklearn-color-unfitted-level-1: #f6e4d2;\n",
       "  --sklearn-color-unfitted-level-2: #ffe0b3;\n",
       "  --sklearn-color-unfitted-level-3: chocolate;\n",
       "  /* Definition of color scheme for fitted estimators */\n",
       "  --sklearn-color-fitted-level-0: #f0f8ff;\n",
       "  --sklearn-color-fitted-level-1: #d4ebff;\n",
       "  --sklearn-color-fitted-level-2: #b3dbfd;\n",
       "  --sklearn-color-fitted-level-3: cornflowerblue;\n",
       "\n",
       "  /* Specific color for light theme */\n",
       "  --sklearn-color-text-on-default-background: var(--sg-text-color, var(--theme-code-foreground, var(--jp-content-font-color1, black)));\n",
       "  --sklearn-color-background: var(--sg-background-color, var(--theme-background, var(--jp-layout-color0, white)));\n",
       "  --sklearn-color-border-box: var(--sg-text-color, var(--theme-code-foreground, var(--jp-content-font-color1, black)));\n",
       "  --sklearn-color-icon: #696969;\n",
       "\n",
       "  @media (prefers-color-scheme: dark) {\n",
       "    /* Redefinition of color scheme for dark theme */\n",
       "    --sklearn-color-text-on-default-background: var(--sg-text-color, var(--theme-code-foreground, var(--jp-content-font-color1, white)));\n",
       "    --sklearn-color-background: var(--sg-background-color, var(--theme-background, var(--jp-layout-color0, #111)));\n",
       "    --sklearn-color-border-box: var(--sg-text-color, var(--theme-code-foreground, var(--jp-content-font-color1, white)));\n",
       "    --sklearn-color-icon: #878787;\n",
       "  }\n",
       "}\n",
       "\n",
       "#sk-container-id-1 {\n",
       "  color: var(--sklearn-color-text);\n",
       "}\n",
       "\n",
       "#sk-container-id-1 pre {\n",
       "  padding: 0;\n",
       "}\n",
       "\n",
       "#sk-container-id-1 input.sk-hidden--visually {\n",
       "  border: 0;\n",
       "  clip: rect(1px 1px 1px 1px);\n",
       "  clip: rect(1px, 1px, 1px, 1px);\n",
       "  height: 1px;\n",
       "  margin: -1px;\n",
       "  overflow: hidden;\n",
       "  padding: 0;\n",
       "  position: absolute;\n",
       "  width: 1px;\n",
       "}\n",
       "\n",
       "#sk-container-id-1 div.sk-dashed-wrapped {\n",
       "  border: 1px dashed var(--sklearn-color-line);\n",
       "  margin: 0 0.4em 0.5em 0.4em;\n",
       "  box-sizing: border-box;\n",
       "  padding-bottom: 0.4em;\n",
       "  background-color: var(--sklearn-color-background);\n",
       "}\n",
       "\n",
       "#sk-container-id-1 div.sk-container {\n",
       "  /* jupyter's `normalize.less` sets `[hidden] { display: none; }`\n",
       "     but bootstrap.min.css set `[hidden] { display: none !important; }`\n",
       "     so we also need the `!important` here to be able to override the\n",
       "     default hidden behavior on the sphinx rendered scikit-learn.org.\n",
       "     See: https://github.com/scikit-learn/scikit-learn/issues/21755 */\n",
       "  display: inline-block !important;\n",
       "  position: relative;\n",
       "}\n",
       "\n",
       "#sk-container-id-1 div.sk-text-repr-fallback {\n",
       "  display: none;\n",
       "}\n",
       "\n",
       "div.sk-parallel-item,\n",
       "div.sk-serial,\n",
       "div.sk-item {\n",
       "  /* draw centered vertical line to link estimators */\n",
       "  background-image: linear-gradient(var(--sklearn-color-text-on-default-background), var(--sklearn-color-text-on-default-background));\n",
       "  background-size: 2px 100%;\n",
       "  background-repeat: no-repeat;\n",
       "  background-position: center center;\n",
       "}\n",
       "\n",
       "/* Parallel-specific style estimator block */\n",
       "\n",
       "#sk-container-id-1 div.sk-parallel-item::after {\n",
       "  content: \"\";\n",
       "  width: 100%;\n",
       "  border-bottom: 2px solid var(--sklearn-color-text-on-default-background);\n",
       "  flex-grow: 1;\n",
       "}\n",
       "\n",
       "#sk-container-id-1 div.sk-parallel {\n",
       "  display: flex;\n",
       "  align-items: stretch;\n",
       "  justify-content: center;\n",
       "  background-color: var(--sklearn-color-background);\n",
       "  position: relative;\n",
       "}\n",
       "\n",
       "#sk-container-id-1 div.sk-parallel-item {\n",
       "  display: flex;\n",
       "  flex-direction: column;\n",
       "}\n",
       "\n",
       "#sk-container-id-1 div.sk-parallel-item:first-child::after {\n",
       "  align-self: flex-end;\n",
       "  width: 50%;\n",
       "}\n",
       "\n",
       "#sk-container-id-1 div.sk-parallel-item:last-child::after {\n",
       "  align-self: flex-start;\n",
       "  width: 50%;\n",
       "}\n",
       "\n",
       "#sk-container-id-1 div.sk-parallel-item:only-child::after {\n",
       "  width: 0;\n",
       "}\n",
       "\n",
       "/* Serial-specific style estimator block */\n",
       "\n",
       "#sk-container-id-1 div.sk-serial {\n",
       "  display: flex;\n",
       "  flex-direction: column;\n",
       "  align-items: center;\n",
       "  background-color: var(--sklearn-color-background);\n",
       "  padding-right: 1em;\n",
       "  padding-left: 1em;\n",
       "}\n",
       "\n",
       "\n",
       "/* Toggleable style: style used for estimator/Pipeline/ColumnTransformer box that is\n",
       "clickable and can be expanded/collapsed.\n",
       "- Pipeline and ColumnTransformer use this feature and define the default style\n",
       "- Estimators will overwrite some part of the style using the `sk-estimator` class\n",
       "*/\n",
       "\n",
       "/* Pipeline and ColumnTransformer style (default) */\n",
       "\n",
       "#sk-container-id-1 div.sk-toggleable {\n",
       "  /* Default theme specific background. It is overwritten whether we have a\n",
       "  specific estimator or a Pipeline/ColumnTransformer */\n",
       "  background-color: var(--sklearn-color-background);\n",
       "}\n",
       "\n",
       "/* Toggleable label */\n",
       "#sk-container-id-1 label.sk-toggleable__label {\n",
       "  cursor: pointer;\n",
       "  display: block;\n",
       "  width: 100%;\n",
       "  margin-bottom: 0;\n",
       "  padding: 0.5em;\n",
       "  box-sizing: border-box;\n",
       "  text-align: center;\n",
       "}\n",
       "\n",
       "#sk-container-id-1 label.sk-toggleable__label-arrow:before {\n",
       "  /* Arrow on the left of the label */\n",
       "  content: \"▸\";\n",
       "  float: left;\n",
       "  margin-right: 0.25em;\n",
       "  color: var(--sklearn-color-icon);\n",
       "}\n",
       "\n",
       "#sk-container-id-1 label.sk-toggleable__label-arrow:hover:before {\n",
       "  color: var(--sklearn-color-text);\n",
       "}\n",
       "\n",
       "/* Toggleable content - dropdown */\n",
       "\n",
       "#sk-container-id-1 div.sk-toggleable__content {\n",
       "  max-height: 0;\n",
       "  max-width: 0;\n",
       "  overflow: hidden;\n",
       "  text-align: left;\n",
       "  /* unfitted */\n",
       "  background-color: var(--sklearn-color-unfitted-level-0);\n",
       "}\n",
       "\n",
       "#sk-container-id-1 div.sk-toggleable__content.fitted {\n",
       "  /* fitted */\n",
       "  background-color: var(--sklearn-color-fitted-level-0);\n",
       "}\n",
       "\n",
       "#sk-container-id-1 div.sk-toggleable__content pre {\n",
       "  margin: 0.2em;\n",
       "  border-radius: 0.25em;\n",
       "  color: var(--sklearn-color-text);\n",
       "  /* unfitted */\n",
       "  background-color: var(--sklearn-color-unfitted-level-0);\n",
       "}\n",
       "\n",
       "#sk-container-id-1 div.sk-toggleable__content.fitted pre {\n",
       "  /* unfitted */\n",
       "  background-color: var(--sklearn-color-fitted-level-0);\n",
       "}\n",
       "\n",
       "#sk-container-id-1 input.sk-toggleable__control:checked~div.sk-toggleable__content {\n",
       "  /* Expand drop-down */\n",
       "  max-height: 200px;\n",
       "  max-width: 100%;\n",
       "  overflow: auto;\n",
       "}\n",
       "\n",
       "#sk-container-id-1 input.sk-toggleable__control:checked~label.sk-toggleable__label-arrow:before {\n",
       "  content: \"▾\";\n",
       "}\n",
       "\n",
       "/* Pipeline/ColumnTransformer-specific style */\n",
       "\n",
       "#sk-container-id-1 div.sk-label input.sk-toggleable__control:checked~label.sk-toggleable__label {\n",
       "  color: var(--sklearn-color-text);\n",
       "  background-color: var(--sklearn-color-unfitted-level-2);\n",
       "}\n",
       "\n",
       "#sk-container-id-1 div.sk-label.fitted input.sk-toggleable__control:checked~label.sk-toggleable__label {\n",
       "  background-color: var(--sklearn-color-fitted-level-2);\n",
       "}\n",
       "\n",
       "/* Estimator-specific style */\n",
       "\n",
       "/* Colorize estimator box */\n",
       "#sk-container-id-1 div.sk-estimator input.sk-toggleable__control:checked~label.sk-toggleable__label {\n",
       "  /* unfitted */\n",
       "  background-color: var(--sklearn-color-unfitted-level-2);\n",
       "}\n",
       "\n",
       "#sk-container-id-1 div.sk-estimator.fitted input.sk-toggleable__control:checked~label.sk-toggleable__label {\n",
       "  /* fitted */\n",
       "  background-color: var(--sklearn-color-fitted-level-2);\n",
       "}\n",
       "\n",
       "#sk-container-id-1 div.sk-label label.sk-toggleable__label,\n",
       "#sk-container-id-1 div.sk-label label {\n",
       "  /* The background is the default theme color */\n",
       "  color: var(--sklearn-color-text-on-default-background);\n",
       "}\n",
       "\n",
       "/* On hover, darken the color of the background */\n",
       "#sk-container-id-1 div.sk-label:hover label.sk-toggleable__label {\n",
       "  color: var(--sklearn-color-text);\n",
       "  background-color: var(--sklearn-color-unfitted-level-2);\n",
       "}\n",
       "\n",
       "/* Label box, darken color on hover, fitted */\n",
       "#sk-container-id-1 div.sk-label.fitted:hover label.sk-toggleable__label.fitted {\n",
       "  color: var(--sklearn-color-text);\n",
       "  background-color: var(--sklearn-color-fitted-level-2);\n",
       "}\n",
       "\n",
       "/* Estimator label */\n",
       "\n",
       "#sk-container-id-1 div.sk-label label {\n",
       "  font-family: monospace;\n",
       "  font-weight: bold;\n",
       "  display: inline-block;\n",
       "  line-height: 1.2em;\n",
       "}\n",
       "\n",
       "#sk-container-id-1 div.sk-label-container {\n",
       "  text-align: center;\n",
       "}\n",
       "\n",
       "/* Estimator-specific */\n",
       "#sk-container-id-1 div.sk-estimator {\n",
       "  font-family: monospace;\n",
       "  border: 1px dotted var(--sklearn-color-border-box);\n",
       "  border-radius: 0.25em;\n",
       "  box-sizing: border-box;\n",
       "  margin-bottom: 0.5em;\n",
       "  /* unfitted */\n",
       "  background-color: var(--sklearn-color-unfitted-level-0);\n",
       "}\n",
       "\n",
       "#sk-container-id-1 div.sk-estimator.fitted {\n",
       "  /* fitted */\n",
       "  background-color: var(--sklearn-color-fitted-level-0);\n",
       "}\n",
       "\n",
       "/* on hover */\n",
       "#sk-container-id-1 div.sk-estimator:hover {\n",
       "  /* unfitted */\n",
       "  background-color: var(--sklearn-color-unfitted-level-2);\n",
       "}\n",
       "\n",
       "#sk-container-id-1 div.sk-estimator.fitted:hover {\n",
       "  /* fitted */\n",
       "  background-color: var(--sklearn-color-fitted-level-2);\n",
       "}\n",
       "\n",
       "/* Specification for estimator info (e.g. \"i\" and \"?\") */\n",
       "\n",
       "/* Common style for \"i\" and \"?\" */\n",
       "\n",
       ".sk-estimator-doc-link,\n",
       "a:link.sk-estimator-doc-link,\n",
       "a:visited.sk-estimator-doc-link {\n",
       "  float: right;\n",
       "  font-size: smaller;\n",
       "  line-height: 1em;\n",
       "  font-family: monospace;\n",
       "  background-color: var(--sklearn-color-background);\n",
       "  border-radius: 1em;\n",
       "  height: 1em;\n",
       "  width: 1em;\n",
       "  text-decoration: none !important;\n",
       "  margin-left: 1ex;\n",
       "  /* unfitted */\n",
       "  border: var(--sklearn-color-unfitted-level-1) 1pt solid;\n",
       "  color: var(--sklearn-color-unfitted-level-1);\n",
       "}\n",
       "\n",
       ".sk-estimator-doc-link.fitted,\n",
       "a:link.sk-estimator-doc-link.fitted,\n",
       "a:visited.sk-estimator-doc-link.fitted {\n",
       "  /* fitted */\n",
       "  border: var(--sklearn-color-fitted-level-1) 1pt solid;\n",
       "  color: var(--sklearn-color-fitted-level-1);\n",
       "}\n",
       "\n",
       "/* On hover */\n",
       "div.sk-estimator:hover .sk-estimator-doc-link:hover,\n",
       ".sk-estimator-doc-link:hover,\n",
       "div.sk-label-container:hover .sk-estimator-doc-link:hover,\n",
       ".sk-estimator-doc-link:hover {\n",
       "  /* unfitted */\n",
       "  background-color: var(--sklearn-color-unfitted-level-3);\n",
       "  color: var(--sklearn-color-background);\n",
       "  text-decoration: none;\n",
       "}\n",
       "\n",
       "div.sk-estimator.fitted:hover .sk-estimator-doc-link.fitted:hover,\n",
       ".sk-estimator-doc-link.fitted:hover,\n",
       "div.sk-label-container:hover .sk-estimator-doc-link.fitted:hover,\n",
       ".sk-estimator-doc-link.fitted:hover {\n",
       "  /* fitted */\n",
       "  background-color: var(--sklearn-color-fitted-level-3);\n",
       "  color: var(--sklearn-color-background);\n",
       "  text-decoration: none;\n",
       "}\n",
       "\n",
       "/* Span, style for the box shown on hovering the info icon */\n",
       ".sk-estimator-doc-link span {\n",
       "  display: none;\n",
       "  z-index: 9999;\n",
       "  position: relative;\n",
       "  font-weight: normal;\n",
       "  right: .2ex;\n",
       "  padding: .5ex;\n",
       "  margin: .5ex;\n",
       "  width: min-content;\n",
       "  min-width: 20ex;\n",
       "  max-width: 50ex;\n",
       "  color: var(--sklearn-color-text);\n",
       "  box-shadow: 2pt 2pt 4pt #999;\n",
       "  /* unfitted */\n",
       "  background: var(--sklearn-color-unfitted-level-0);\n",
       "  border: .5pt solid var(--sklearn-color-unfitted-level-3);\n",
       "}\n",
       "\n",
       ".sk-estimator-doc-link.fitted span {\n",
       "  /* fitted */\n",
       "  background: var(--sklearn-color-fitted-level-0);\n",
       "  border: var(--sklearn-color-fitted-level-3);\n",
       "}\n",
       "\n",
       ".sk-estimator-doc-link:hover span {\n",
       "  display: block;\n",
       "}\n",
       "\n",
       "/* \"?\"-specific style due to the `<a>` HTML tag */\n",
       "\n",
       "#sk-container-id-1 a.estimator_doc_link {\n",
       "  float: right;\n",
       "  font-size: 1rem;\n",
       "  line-height: 1em;\n",
       "  font-family: monospace;\n",
       "  background-color: var(--sklearn-color-background);\n",
       "  border-radius: 1rem;\n",
       "  height: 1rem;\n",
       "  width: 1rem;\n",
       "  text-decoration: none;\n",
       "  /* unfitted */\n",
       "  color: var(--sklearn-color-unfitted-level-1);\n",
       "  border: var(--sklearn-color-unfitted-level-1) 1pt solid;\n",
       "}\n",
       "\n",
       "#sk-container-id-1 a.estimator_doc_link.fitted {\n",
       "  /* fitted */\n",
       "  border: var(--sklearn-color-fitted-level-1) 1pt solid;\n",
       "  color: var(--sklearn-color-fitted-level-1);\n",
       "}\n",
       "\n",
       "/* On hover */\n",
       "#sk-container-id-1 a.estimator_doc_link:hover {\n",
       "  /* unfitted */\n",
       "  background-color: var(--sklearn-color-unfitted-level-3);\n",
       "  color: var(--sklearn-color-background);\n",
       "  text-decoration: none;\n",
       "}\n",
       "\n",
       "#sk-container-id-1 a.estimator_doc_link.fitted:hover {\n",
       "  /* fitted */\n",
       "  background-color: var(--sklearn-color-fitted-level-3);\n",
       "}\n",
       "</style><div id=\"sk-container-id-1\" class=\"sk-top-container\"><div class=\"sk-text-repr-fallback\"><pre>XGBClassifier(base_score=None, booster=None, callbacks=None,\n",
       "              colsample_bylevel=None, colsample_bynode=0.7476987174423069,\n",
       "              colsample_bytree=None, device=None, early_stopping_rounds=None,\n",
       "              enable_categorical=False,\n",
       "              eval_metric=&lt;function custom_f1_score at 0x7fab062f7b00&gt;,\n",
       "              feature_types=None, gamma=None, grow_policy=None,\n",
       "              importance_type=None, interaction_constraints=None,\n",
       "              learning_rate=0.2221527168586374, max_bin=None,\n",
       "              max_cat_threshold=None, max_cat_to_onehot=None,\n",
       "              max_delta_step=None, max_depth=8, max_leaves=None,\n",
       "              min_child_weight=23, missing=nan, monotone_constraints=None,\n",
       "              multi_strategy=None, n_estimators=150, n_jobs=None,\n",
       "              num_parallel_tree=None, objective=&#x27;multi:softprob&#x27;, ...)</pre><b>In a Jupyter environment, please rerun this cell to show the HTML representation or trust the notebook. <br />On GitHub, the HTML representation is unable to render, please try loading this page with nbviewer.org.</b></div><div class=\"sk-container\" hidden><div class=\"sk-item\"><div class=\"sk-estimator fitted sk-toggleable\"><input class=\"sk-toggleable__control sk-hidden--visually\" id=\"sk-estimator-id-1\" type=\"checkbox\" checked><label for=\"sk-estimator-id-1\" class=\"sk-toggleable__label fitted sk-toggleable__label-arrow fitted\">&nbsp;XGBClassifier<span class=\"sk-estimator-doc-link fitted\">i<span>Fitted</span></span></label><div class=\"sk-toggleable__content fitted\"><pre>XGBClassifier(base_score=None, booster=None, callbacks=None,\n",
       "              colsample_bylevel=None, colsample_bynode=0.7476987174423069,\n",
       "              colsample_bytree=None, device=None, early_stopping_rounds=None,\n",
       "              enable_categorical=False,\n",
       "              eval_metric=&lt;function custom_f1_score at 0x7fab062f7b00&gt;,\n",
       "              feature_types=None, gamma=None, grow_policy=None,\n",
       "              importance_type=None, interaction_constraints=None,\n",
       "              learning_rate=0.2221527168586374, max_bin=None,\n",
       "              max_cat_threshold=None, max_cat_to_onehot=None,\n",
       "              max_delta_step=None, max_depth=8, max_leaves=None,\n",
       "              min_child_weight=23, missing=nan, monotone_constraints=None,\n",
       "              multi_strategy=None, n_estimators=150, n_jobs=None,\n",
       "              num_parallel_tree=None, objective=&#x27;multi:softprob&#x27;, ...)</pre></div> </div></div></div></div>"
      ],
      "text/plain": [
       "XGBClassifier(base_score=None, booster=None, callbacks=None,\n",
       "              colsample_bylevel=None, colsample_bynode=0.7476987174423069,\n",
       "              colsample_bytree=None, device=None, early_stopping_rounds=None,\n",
       "              enable_categorical=False,\n",
       "              eval_metric=<function custom_f1_score at 0x7fab062f7b00>,\n",
       "              feature_types=None, gamma=None, grow_policy=None,\n",
       "              importance_type=None, interaction_constraints=None,\n",
       "              learning_rate=0.2221527168586374, max_bin=None,\n",
       "              max_cat_threshold=None, max_cat_to_onehot=None,\n",
       "              max_delta_step=None, max_depth=8, max_leaves=None,\n",
       "              min_child_weight=23, missing=nan, monotone_constraints=None,\n",
       "              multi_strategy=None, n_estimators=150, n_jobs=None,\n",
       "              num_parallel_tree=None, objective='multi:softprob', ...)"
      ]
     },
     "execution_count": 21,
     "metadata": {},
     "output_type": "execute_result"
    }
   ],
   "source": [
    "n_estimators = int(study.best_trial.user_attrs['best_iteration']*1.2)\n",
    "xgb = xgboost.XGBClassifier(\n",
    "        eval_metric=eval_metric,\n",
    "        n_estimators=n_estimators,\n",
    "        **study.best_trial.params\n",
    "    )\n",
    "xgb.fit(\n",
    "    ssp.vstack((X_train, X_val)), \n",
    "    np.concatenate((y_train_enc, y_val_enc)),\n",
    "    verbose=1,\n",
    ")"
   ]
  },
  {
   "cell_type": "code",
   "execution_count": 22,
   "id": "14703193",
   "metadata": {
    "execution": {
     "iopub.execute_input": "2025-05-15T16:14:43.371434Z",
     "iopub.status.busy": "2025-05-15T16:14:43.370955Z",
     "iopub.status.idle": "2025-05-15T16:14:43.464516Z",
     "shell.execute_reply": "2025-05-15T16:14:43.464159Z"
    },
    "papermill": {
     "duration": 0.125526,
     "end_time": "2025-05-15T16:14:43.465435",
     "exception": false,
     "start_time": "2025-05-15T16:14:43.339909",
     "status": "completed"
    },
    "tags": []
   },
   "outputs": [
    {
     "data": {
      "text/plain": [
       "['/scratch_isilon/groups/singlecell/shared/projects/Inflammation-PBMCs-Atlas/03_downstream_analysis/08_gene_importance/xgboost_external_validation/xgboost_TopN_genes/results_20/best_model/Mono_12_3_xgb.json']"
      ]
     },
     "execution_count": 22,
     "metadata": {},
     "output_type": "execute_result"
    }
   ],
   "source": [
    "out_dir = here(f'03_downstream_analysis/08_gene_importance/xgboost_external_validation/xgboost_TopN_genes/results_{N_GENES}/best_model')\n",
    "\n",
    "if not os.path.exists(out_dir):\n",
    "    os.makedirs(out_dir)\n",
    "    \n",
    "joblib.dump(xgb, os.path.join(out_dir, f'{CELL_TYPE}_{SEED}_{TEST_SPLIT_IDX}_xgb.json'))"
   ]
  },
  {
   "cell_type": "code",
   "execution_count": 23,
   "id": "ebc167c2",
   "metadata": {
    "execution": {
     "iopub.execute_input": "2025-05-15T16:14:43.490570Z",
     "iopub.status.busy": "2025-05-15T16:14:43.490129Z",
     "iopub.status.idle": "2025-05-15T16:14:44.343633Z",
     "shell.execute_reply": "2025-05-15T16:14:44.343036Z"
    },
    "papermill": {
     "duration": 0.865466,
     "end_time": "2025-05-15T16:14:44.344986",
     "exception": false,
     "start_time": "2025-05-15T16:14:43.479520",
     "status": "completed"
    },
    "tags": []
   },
   "outputs": [],
   "source": [
    "df_pred_test = pd.DataFrame(dict(\n",
    "    cell_id=train_adata.obs.iloc[test_idxs].index.values,\n",
    "    y_true=y_test, \n",
    "    y_true_code=y_test_enc, \n",
    "    y_pred=xgb.predict(X_test))).set_index('cell_id')"
   ]
  },
  {
   "cell_type": "code",
   "execution_count": 24,
   "id": "62aa897c",
   "metadata": {
    "execution": {
     "iopub.execute_input": "2025-05-15T16:14:44.394588Z",
     "iopub.status.busy": "2025-05-15T16:14:44.394025Z",
     "iopub.status.idle": "2025-05-15T16:14:44.595657Z",
     "shell.execute_reply": "2025-05-15T16:14:44.595106Z"
    },
    "papermill": {
     "duration": 0.226801,
     "end_time": "2025-05-15T16:14:44.597030",
     "exception": false,
     "start_time": "2025-05-15T16:14:44.370229",
     "status": "completed"
    },
    "tags": []
   },
   "outputs": [],
   "source": [
    "out_dir = here(f'03_downstream_analysis/08_gene_importance/xgboost_external_validation/xgboost_TopN_genes/results_{N_GENES}/predictions')\n",
    "\n",
    "if not os.path.exists(out_dir):\n",
    "    os.makedirs(out_dir)\n",
    "    \n",
    "df_pred_test.to_csv(os.path.join(out_dir, f'{CELL_TYPE}_{SEED}_{TEST_SPLIT_IDX}_pred_test.zip'))"
   ]
  },
  {
   "cell_type": "code",
   "execution_count": 25,
   "id": "35736fc0",
   "metadata": {
    "execution": {
     "iopub.execute_input": "2025-05-15T16:14:44.630382Z",
     "iopub.status.busy": "2025-05-15T16:14:44.629884Z",
     "iopub.status.idle": "2025-05-15T16:14:44.650245Z",
     "shell.execute_reply": "2025-05-15T16:14:44.649708Z"
    },
    "papermill": {
     "duration": 0.0322,
     "end_time": "2025-05-15T16:14:44.651223",
     "exception": false,
     "start_time": "2025-05-15T16:14:44.619023",
     "status": "completed"
    },
    "tags": []
   },
   "outputs": [
    {
     "name": "stderr",
     "output_type": "stream",
     "text": [
      "/scratch_isilon/groups/singlecell/shared/conda_env/xgboost-cpu/lib/python3.12/site-packages/sklearn/metrics/_classification.py:2466: UserWarning: y_pred contains classes not in y_true\n",
      "  warnings.warn(\"y_pred contains classes not in y_true\")\n"
     ]
    }
   ],
   "source": [
    "metrics_dict = dict(\n",
    "    BAS=balanced_accuracy_score(y_true=df_pred_test.y_true_code, y_pred=df_pred_test.y_pred), WF1=f1_score(y_true=df_pred_test.y_true_code, y_pred=df_pred_test.y_pred,average='weighted'))"
   ]
  },
  {
   "cell_type": "code",
   "execution_count": 26,
   "id": "7341688c",
   "metadata": {
    "execution": {
     "iopub.execute_input": "2025-05-15T16:14:44.686092Z",
     "iopub.status.busy": "2025-05-15T16:14:44.685254Z",
     "iopub.status.idle": "2025-05-15T16:14:44.689530Z",
     "shell.execute_reply": "2025-05-15T16:14:44.689177Z"
    },
    "papermill": {
     "duration": 0.028361,
     "end_time": "2025-05-15T16:14:44.690439",
     "exception": false,
     "start_time": "2025-05-15T16:14:44.662078",
     "status": "completed"
    },
    "tags": []
   },
   "outputs": [
    {
     "data": {
      "text/plain": [
       "{'BAS': 0.7112716793568884, 'WF1': 0.8317084664644281}"
      ]
     },
     "execution_count": 26,
     "metadata": {},
     "output_type": "execute_result"
    }
   ],
   "source": [
    "metrics_dict"
   ]
  },
  {
   "cell_type": "code",
   "execution_count": 27,
   "id": "df733bed",
   "metadata": {
    "execution": {
     "iopub.execute_input": "2025-05-15T16:14:44.728582Z",
     "iopub.status.busy": "2025-05-15T16:14:44.728112Z",
     "iopub.status.idle": "2025-05-15T16:14:44.738419Z",
     "shell.execute_reply": "2025-05-15T16:14:44.738097Z"
    },
    "papermill": {
     "duration": 0.022301,
     "end_time": "2025-05-15T16:14:44.739298",
     "exception": false,
     "start_time": "2025-05-15T16:14:44.716997",
     "status": "completed"
    },
    "tags": []
   },
   "outputs": [
    {
     "data": {
      "text/html": [
       "<div>\n",
       "<style scoped>\n",
       "    .dataframe tbody tr th:only-of-type {\n",
       "        vertical-align: middle;\n",
       "    }\n",
       "\n",
       "    .dataframe tbody tr th {\n",
       "        vertical-align: top;\n",
       "    }\n",
       "\n",
       "    .dataframe thead th {\n",
       "        text-align: right;\n",
       "    }\n",
       "</style>\n",
       "<table border=\"1\" class=\"dataframe\">\n",
       "  <thead>\n",
       "    <tr style=\"text-align: right;\">\n",
       "      <th></th>\n",
       "      <th>BAS</th>\n",
       "      <th>WF1</th>\n",
       "      <th>split_idx</th>\n",
       "      <th>gene_set_seed</th>\n",
       "      <th>cell_type</th>\n",
       "    </tr>\n",
       "  </thead>\n",
       "  <tbody>\n",
       "    <tr>\n",
       "      <th>0</th>\n",
       "      <td>0.711272</td>\n",
       "      <td>0.831708</td>\n",
       "      <td>3</td>\n",
       "      <td>12</td>\n",
       "      <td>Mono</td>\n",
       "    </tr>\n",
       "  </tbody>\n",
       "</table>\n",
       "</div>"
      ],
      "text/plain": [
       "        BAS       WF1  split_idx  gene_set_seed cell_type\n",
       "0  0.711272  0.831708          3             12      Mono"
      ]
     },
     "execution_count": 27,
     "metadata": {},
     "output_type": "execute_result"
    }
   ],
   "source": [
    "metrics_df = pd.DataFrame.from_dict([metrics_dict]).assign(split_idx=TEST_SPLIT_IDX, gene_set_seed=SEED, cell_type=CELL_TYPE)\n",
    "metrics_df"
   ]
  },
  {
   "cell_type": "code",
   "execution_count": 28,
   "id": "51f26b61",
   "metadata": {
    "execution": {
     "iopub.execute_input": "2025-05-15T16:14:44.760987Z",
     "iopub.status.busy": "2025-05-15T16:14:44.760241Z",
     "iopub.status.idle": "2025-05-15T16:14:44.793804Z",
     "shell.execute_reply": "2025-05-15T16:14:44.793301Z"
    },
    "papermill": {
     "duration": 0.045983,
     "end_time": "2025-05-15T16:14:44.795133",
     "exception": false,
     "start_time": "2025-05-15T16:14:44.749150",
     "status": "completed"
    },
    "tags": []
   },
   "outputs": [],
   "source": [
    "out_dir = here(f'03_downstream_analysis/08_gene_importance/xgboost_external_validation/xgboost_TopN_genes/results_{N_GENES}/metrics')\n",
    "\n",
    "if not os.path.exists(out_dir):\n",
    "    os.makedirs(out_dir)\n",
    "    \n",
    "metrics_df.to_csv(os.path.join(out_dir, f'{CELL_TYPE}_{SEED}_{TEST_SPLIT_IDX}_metrics.zip'))"
   ]
  }
 ],
 "metadata": {
  "kernelspec": {
   "display_name": "Python 3 (ipykernel)",
   "language": "python",
   "name": "python3"
  },
  "language_info": {
   "codemirror_mode": {
    "name": "ipython",
    "version": 3
   },
   "file_extension": ".py",
   "mimetype": "text/x-python",
   "name": "python",
   "nbconvert_exporter": "python",
   "pygments_lexer": "ipython3",
   "version": "3.12.5"
  },
  "papermill": {
   "default_parameters": {},
   "duration": 894.557789,
   "end_time": "2025-05-15T16:14:45.533123",
   "environment_variables": {},
   "exception": null,
   "input_path": "02_xgboost_fitting_external_20genes.ipynb",
   "output_path": "results_20/executed_notebooks/xgboost_fitting_external_CT_Mono_GS_12_seed3.ipynb",
   "parameters": {
    "CELL_TYPE": "Mono",
    "SEED": 12,
    "TEST_SPLIT_IDX": 3
   },
   "start_time": "2025-05-15T15:59:50.975334",
   "version": "2.6.0"
  }
 },
 "nbformat": 4,
 "nbformat_minor": 5
}