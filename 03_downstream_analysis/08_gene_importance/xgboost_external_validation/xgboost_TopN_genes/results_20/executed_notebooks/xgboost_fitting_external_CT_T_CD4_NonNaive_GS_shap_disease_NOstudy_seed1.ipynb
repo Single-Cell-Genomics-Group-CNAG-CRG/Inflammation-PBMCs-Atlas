{
 "cells": [
  {
   "cell_type": "code",
   "execution_count": 1,
   "id": "2a1004af",
   "metadata": {
    "editable": true,
    "execution": {
     "iopub.execute_input": "2025-05-14T16:07:54.028788Z",
     "iopub.status.busy": "2025-05-14T16:07:54.028640Z",
     "iopub.status.idle": "2025-05-14T16:07:54.031563Z",
     "shell.execute_reply": "2025-05-14T16:07:54.031170Z"
    },
    "papermill": {
     "duration": 0.010656,
     "end_time": "2025-05-14T16:07:54.032444",
     "exception": false,
     "start_time": "2025-05-14T16:07:54.021788",
     "status": "completed"
    },
    "slideshow": {
     "slide_type": ""
    },
    "tags": [
     "parameters"
    ]
   },
   "outputs": [],
   "source": [
    "CELL_TYPE = 'pDC'\n",
    "N_GENES: int = 20\n",
    "SEED = 'shap_studyID' #'disease_NOstudy' 'study_NOdisease' or 'int' or 'shap_studyID'\n",
    "TEST_SPLIT_IDX: int = 1 #[0,4]"
   ]
  },
  {
   "cell_type": "code",
   "execution_count": 2,
   "id": "3d18729d",
   "metadata": {
    "execution": {
     "iopub.execute_input": "2025-05-14T16:07:54.050441Z",
     "iopub.status.busy": "2025-05-14T16:07:54.050303Z",
     "iopub.status.idle": "2025-05-14T16:07:54.052454Z",
     "shell.execute_reply": "2025-05-14T16:07:54.052081Z"
    },
    "papermill": {
     "duration": 0.01554,
     "end_time": "2025-05-14T16:07:54.053245",
     "exception": false,
     "start_time": "2025-05-14T16:07:54.037705",
     "status": "completed"
    },
    "tags": [
     "injected-parameters"
    ]
   },
   "outputs": [],
   "source": [
    "# Parameters\n",
    "CELL_TYPE = \"T_CD4_NonNaive\"\n",
    "SEED = \"shap_disease_NOstudy\"\n",
    "TEST_SPLIT_IDX = 1\n"
   ]
  },
  {
   "cell_type": "code",
   "execution_count": 3,
   "id": "a2172ff7",
   "metadata": {
    "execution": {
     "iopub.execute_input": "2025-05-14T16:07:54.069362Z",
     "iopub.status.busy": "2025-05-14T16:07:54.069221Z",
     "iopub.status.idle": "2025-05-14T16:07:54.071315Z",
     "shell.execute_reply": "2025-05-14T16:07:54.070912Z"
    },
    "papermill": {
     "duration": 0.008552,
     "end_time": "2025-05-14T16:07:54.072122",
     "exception": false,
     "start_time": "2025-05-14T16:07:54.063570",
     "status": "completed"
    },
    "tags": []
   },
   "outputs": [],
   "source": [
    "N_SPLITS: int = 5\n",
    "N_TRIALS: int = 50"
   ]
  },
  {
   "cell_type": "code",
   "execution_count": 4,
   "id": "fb3cedc1",
   "metadata": {
    "execution": {
     "iopub.execute_input": "2025-05-14T16:07:54.088840Z",
     "iopub.status.busy": "2025-05-14T16:07:54.088706Z",
     "iopub.status.idle": "2025-05-14T16:07:57.436864Z",
     "shell.execute_reply": "2025-05-14T16:07:57.436405Z"
    },
    "papermill": {
     "duration": 3.3612,
     "end_time": "2025-05-14T16:07:57.438192",
     "exception": false,
     "start_time": "2025-05-14T16:07:54.076992",
     "status": "completed"
    },
    "tags": []
   },
   "outputs": [],
   "source": [
    "import os\n",
    "import sys\n",
    "from pyprojroot.here import here\n",
    "import pandas as pd\n",
    "import anndata as ad\n",
    "import numpy as np\n",
    "import math\n",
    "from sklearn.model_selection import StratifiedGroupKFold\n",
    "from sklearn.preprocessing import LabelEncoder\n",
    "from sklearn.metrics import f1_score\n",
    "import matplotlib.pyplot as plt\n",
    "import seaborn as sns\n",
    "from itertools import product\n",
    "from sklearn.metrics import balanced_accuracy_score, f1_score\n",
    "import optuna\n",
    "\n",
    "import joblib\n",
    "import pickle\n",
    "import datetime\n",
    "\n",
    "import collections\n",
    "\n",
    "import xgboost\n",
    "from sklearn.preprocessing import LabelEncoder\n",
    "\n",
    "import scipy.sparse as ssp\n",
    "import joblib\n",
    "\n",
    "from dotenv import load_dotenv"
   ]
  },
  {
   "cell_type": "code",
   "execution_count": 5,
   "id": "9bd1bd14",
   "metadata": {
    "execution": {
     "iopub.execute_input": "2025-05-14T16:07:57.459391Z",
     "iopub.status.busy": "2025-05-14T16:07:57.459104Z",
     "iopub.status.idle": "2025-05-14T16:07:57.465473Z",
     "shell.execute_reply": "2025-05-14T16:07:57.465164Z"
    },
    "papermill": {
     "duration": 0.014064,
     "end_time": "2025-05-14T16:07:57.466315",
     "exception": false,
     "start_time": "2025-05-14T16:07:57.452251",
     "status": "completed"
    },
    "tags": []
   },
   "outputs": [
    {
     "data": {
      "text/plain": [
       "True"
      ]
     },
     "execution_count": 5,
     "metadata": {},
     "output_type": "execute_result"
    }
   ],
   "source": [
    "load_dotenv()"
   ]
  },
  {
   "cell_type": "markdown",
   "id": "a6e8013c",
   "metadata": {
    "papermill": {
     "duration": 0.00655,
     "end_time": "2025-05-14T16:07:57.478827",
     "exception": false,
     "start_time": "2025-05-14T16:07:57.472277",
     "status": "completed"
    },
    "tags": []
   },
   "source": [
    "# LOAD DATASET"
   ]
  },
  {
   "cell_type": "code",
   "execution_count": 6,
   "id": "d81591a4",
   "metadata": {
    "execution": {
     "iopub.execute_input": "2025-05-14T16:07:57.512261Z",
     "iopub.status.busy": "2025-05-14T16:07:57.512041Z",
     "iopub.status.idle": "2025-05-14T16:07:58.207255Z",
     "shell.execute_reply": "2025-05-14T16:07:58.206821Z"
    },
    "papermill": {
     "duration": 0.707623,
     "end_time": "2025-05-14T16:07:58.208227",
     "exception": false,
     "start_time": "2025-05-14T16:07:57.500604",
     "status": "completed"
    },
    "tags": []
   },
   "outputs": [],
   "source": [
    "train_adata = ad.read_h5ad(\n",
    "    here(f'03_downstream_analysis/08_gene_importance/xgboost_external_validation/xgboost_TopN_genes/data_cellTypes/EXTERNAL_{CELL_TYPE}.filtered.log1p.h5ad')\n",
    ")"
   ]
  },
  {
   "cell_type": "code",
   "execution_count": 7,
   "id": "124375b3",
   "metadata": {
    "execution": {
     "iopub.execute_input": "2025-05-14T16:07:58.219696Z",
     "iopub.status.busy": "2025-05-14T16:07:58.219303Z",
     "iopub.status.idle": "2025-05-14T16:07:58.251010Z",
     "shell.execute_reply": "2025-05-14T16:07:58.250543Z"
    },
    "papermill": {
     "duration": 0.038462,
     "end_time": "2025-05-14T16:07:58.251963",
     "exception": false,
     "start_time": "2025-05-14T16:07:58.213501",
     "status": "completed"
    },
    "tags": []
   },
   "outputs": [
    {
     "name": "stdout",
     "output_type": "stream",
     "text": [
      "['ENSG00000006125' 'ENSG00000019582' 'ENSG00000030582' 'ENSG00000065978'\n",
      " 'ENSG00000067182' 'ENSG00000072958' 'ENSG00000076944' 'ENSG00000077380'\n",
      " 'ENSG00000079616' 'ENSG00000079805' 'ENSG00000085265' 'ENSG00000090266'\n",
      " 'ENSG00000090382' 'ENSG00000090863' 'ENSG00000100664' 'ENSG00000104998'\n",
      " 'ENSG00000105373' 'ENSG00000106952' 'ENSG00000108561' 'ENSG00000109787'\n",
      " 'ENSG00000110848' 'ENSG00000110876' 'ENSG00000111348' 'ENSG00000111716'\n",
      " 'ENSG00000112149' 'ENSG00000113732' 'ENSG00000117318' 'ENSG00000118503'\n",
      " 'ENSG00000120129' 'ENSG00000121774' 'ENSG00000121879' 'ENSG00000125347'\n",
      " 'ENSG00000125534' 'ENSG00000125740' 'ENSG00000126524' 'ENSG00000126561'\n",
      " 'ENSG00000126709' 'ENSG00000127152' 'ENSG00000130522' 'ENSG00000132002'\n",
      " 'ENSG00000132465' 'ENSG00000132475' 'ENSG00000134954' 'ENSG00000137959'\n",
      " 'ENSG00000137965' 'ENSG00000138674' 'ENSG00000143119' 'ENSG00000143543'\n",
      " 'ENSG00000143575' 'ENSG00000145247' 'ENSG00000146278' 'ENSG00000146457'\n",
      " 'ENSG00000147168' 'ENSG00000149357' 'ENSG00000152082' 'ENSG00000152234'\n",
      " 'ENSG00000152495' 'ENSG00000152778' 'ENSG00000154589' 'ENSG00000157601'\n",
      " 'ENSG00000158050' 'ENSG00000158517' 'ENSG00000160932' 'ENSG00000162368'\n",
      " 'ENSG00000162739' 'ENSG00000163660' 'ENSG00000164543' 'ENSG00000165280'\n",
      " 'ENSG00000165732' 'ENSG00000166888' 'ENSG00000167552' 'ENSG00000167996'\n",
      " 'ENSG00000169442' 'ENSG00000169564' 'ENSG00000170345' 'ENSG00000170525'\n",
      " 'ENSG00000170989' 'ENSG00000172349' 'ENSG00000172936' 'ENSG00000175354'\n",
      " 'ENSG00000175768' 'ENSG00000176986' 'ENSG00000177606' 'ENSG00000179094'\n",
      " 'ENSG00000179144' 'ENSG00000181029' 'ENSG00000183020' 'ENSG00000183172'\n",
      " 'ENSG00000183508' 'ENSG00000183696' 'ENSG00000184007' 'ENSG00000184897'\n",
      " 'ENSG00000185201' 'ENSG00000185338' 'ENSG00000185650' 'ENSG00000185883'\n",
      " 'ENSG00000186010' 'ENSG00000186395' 'ENSG00000196396' 'ENSG00000197061'\n",
      " 'ENSG00000197102' 'ENSG00000197111' 'ENSG00000197746' 'ENSG00000198355'\n",
      " 'ENSG00000198502' 'ENSG00000203896' 'ENSG00000204267' 'ENSG00000204525'\n",
      " 'ENSG00000211895' 'ENSG00000213145' 'ENSG00000213928' 'ENSG00000229474'\n",
      " 'ENSG00000239697' 'ENSG00000242616' 'ENSG00000243646' 'ENSG00000254772'\n",
      " 'ENSG00000258315' 'ENSG00000264364']\n"
     ]
    }
   ],
   "source": [
    "if SEED != 'all':\n",
    "    gene_subset = np.load(here(f'03_downstream_analysis/08_gene_importance/xgboost_external_validation/shap_gene_selection/gene_subsets_{N_GENES}/{CELL_TYPE}_{SEED}.npy'), allow_pickle=True)\n",
    "    train_adata = train_adata[:,gene_subset]\n",
    "    print(gene_subset)\n",
    "elif SEED == 'all':\n",
    "    print('Using all genes')\n",
    "else:\n",
    "    raise ValueError()"
   ]
  },
  {
   "cell_type": "code",
   "execution_count": 8,
   "id": "7dfdd8a7",
   "metadata": {
    "execution": {
     "iopub.execute_input": "2025-05-14T16:07:58.270007Z",
     "iopub.status.busy": "2025-05-14T16:07:58.269770Z",
     "iopub.status.idle": "2025-05-14T16:07:58.272843Z",
     "shell.execute_reply": "2025-05-14T16:07:58.272520Z"
    },
    "papermill": {
     "duration": 0.015821,
     "end_time": "2025-05-14T16:07:58.273627",
     "exception": false,
     "start_time": "2025-05-14T16:07:58.257806",
     "status": "completed"
    },
    "tags": []
   },
   "outputs": [
    {
     "data": {
      "text/plain": [
       "(124886, 118)"
      ]
     },
     "execution_count": 8,
     "metadata": {},
     "output_type": "execute_result"
    }
   ],
   "source": [
    "train_adata.shape"
   ]
  },
  {
   "cell_type": "code",
   "execution_count": 9,
   "id": "bcc2003f",
   "metadata": {
    "execution": {
     "iopub.execute_input": "2025-05-14T16:07:58.285484Z",
     "iopub.status.busy": "2025-05-14T16:07:58.285188Z",
     "iopub.status.idle": "2025-05-14T16:07:58.289100Z",
     "shell.execute_reply": "2025-05-14T16:07:58.288707Z"
    },
    "papermill": {
     "duration": 0.010738,
     "end_time": "2025-05-14T16:07:58.289999",
     "exception": false,
     "start_time": "2025-05-14T16:07:58.279261",
     "status": "completed"
    },
    "tags": []
   },
   "outputs": [
    {
     "data": {
      "text/plain": [
       "['RA', 'healthy', 'COVID', 'HIV', 'cirrhosis', 'CD', 'SLE', 'sepsis']\n",
       "Categories (8, object): ['CD', 'COVID', 'HIV', 'RA', 'SLE', 'cirrhosis', 'healthy', 'sepsis']"
      ]
     },
     "execution_count": 9,
     "metadata": {},
     "output_type": "execute_result"
    }
   ],
   "source": [
    "train_adata.obs.disease.unique()"
   ]
  },
  {
   "cell_type": "code",
   "execution_count": 10,
   "id": "163c8265",
   "metadata": {
    "execution": {
     "iopub.execute_input": "2025-05-14T16:07:58.301797Z",
     "iopub.status.busy": "2025-05-14T16:07:58.301427Z",
     "iopub.status.idle": "2025-05-14T16:07:58.305878Z",
     "shell.execute_reply": "2025-05-14T16:07:58.305572Z"
    },
    "papermill": {
     "duration": 0.011369,
     "end_time": "2025-05-14T16:07:58.306677",
     "exception": false,
     "start_time": "2025-05-14T16:07:58.295308",
     "status": "completed"
    },
    "tags": []
   },
   "outputs": [
    {
     "data": {
      "text/plain": [
       "['SCGT00val_I036016_T0', 'SCGT00val_I036023_T0', 'SCGT00val_I036015_T0', 'SCGT00val_I036028_T0', 'SCGT00val_I0364_T0', ..., '10XGenomics_10XHC2_T0', '10XGenomics_10XHC3_T0', '10XGenomics_10XHC5_T0', '10XGenomics_10XHC7_T0', '10XGenomics_10XHC8_T0']\n",
       "Length: 86\n",
       "Categories (86, object): ['10XGenomics_10XHC1_T0', '10XGenomics_10XHC2_T0', '10XGenomics_10XHC3_T0', '10XGenomics_10XHC4_T0', ..., 'Savage2021_BRISL6_T0', 'Savage2021_BRISL7_T0', 'Savage2021_PIDA_T0', 'Savage2021_PIDB_T0']"
      ]
     },
     "execution_count": 10,
     "metadata": {},
     "output_type": "execute_result"
    }
   ],
   "source": [
    "train_adata.obs.sampleID.unique()"
   ]
  },
  {
   "cell_type": "code",
   "execution_count": 11,
   "id": "7964add7",
   "metadata": {
    "execution": {
     "iopub.execute_input": "2025-05-14T16:07:58.321834Z",
     "iopub.status.busy": "2025-05-14T16:07:58.321586Z",
     "iopub.status.idle": "2025-05-14T16:07:58.616528Z",
     "shell.execute_reply": "2025-05-14T16:07:58.616130Z"
    },
    "papermill": {
     "duration": 0.303055,
     "end_time": "2025-05-14T16:07:58.617712",
     "exception": false,
     "start_time": "2025-05-14T16:07:58.314657",
     "status": "completed"
    },
    "tags": []
   },
   "outputs": [],
   "source": [
    "all_idxs = np.arange(train_adata.obs.shape[0])\n",
    "left_out_splits = [s[1] for s in StratifiedGroupKFold(n_splits=N_SPLITS).split(all_idxs, train_adata.obs.disease, train_adata.obs.sampleID)]"
   ]
  },
  {
   "cell_type": "code",
   "execution_count": 12,
   "id": "2a4f860a",
   "metadata": {
    "execution": {
     "iopub.execute_input": "2025-05-14T16:07:58.630110Z",
     "iopub.status.busy": "2025-05-14T16:07:58.629752Z",
     "iopub.status.idle": "2025-05-14T16:07:58.633210Z",
     "shell.execute_reply": "2025-05-14T16:07:58.632911Z"
    },
    "papermill": {
     "duration": 0.01043,
     "end_time": "2025-05-14T16:07:58.634021",
     "exception": false,
     "start_time": "2025-05-14T16:07:58.623591",
     "status": "completed"
    },
    "tags": []
   },
   "outputs": [
    {
     "data": {
      "text/plain": [
       "([0, 3, 4], 2, 1)"
      ]
     },
     "execution_count": 12,
     "metadata": {},
     "output_type": "execute_result"
    }
   ],
   "source": [
    "TRAIN_SPLIT_IDXS = [0,1,2,3,4]\n",
    "VAL_SPLIT_IDX = (TEST_SPLIT_IDX + 1) % 5\n",
    "TRAIN_SPLIT_IDXS.remove(TEST_SPLIT_IDX)\n",
    "TRAIN_SPLIT_IDXS.remove(VAL_SPLIT_IDX)\n",
    "TRAIN_SPLIT_IDXS, VAL_SPLIT_IDX, TEST_SPLIT_IDX"
   ]
  },
  {
   "cell_type": "code",
   "execution_count": 13,
   "id": "67847c42",
   "metadata": {
    "execution": {
     "iopub.execute_input": "2025-05-14T16:07:58.650007Z",
     "iopub.status.busy": "2025-05-14T16:07:58.649777Z",
     "iopub.status.idle": "2025-05-14T16:07:58.652140Z",
     "shell.execute_reply": "2025-05-14T16:07:58.651847Z"
    },
    "papermill": {
     "duration": 0.009322,
     "end_time": "2025-05-14T16:07:58.652931",
     "exception": false,
     "start_time": "2025-05-14T16:07:58.643609",
     "status": "completed"
    },
    "tags": []
   },
   "outputs": [],
   "source": [
    "train_idxs = np.concatenate([left_out_splits[idx] for idx in TRAIN_SPLIT_IDXS])\n",
    "val_idxs = left_out_splits[VAL_SPLIT_IDX]\n",
    "test_idxs = left_out_splits[TEST_SPLIT_IDX]"
   ]
  },
  {
   "cell_type": "markdown",
   "id": "4b017137",
   "metadata": {
    "papermill": {
     "duration": 0.005498,
     "end_time": "2025-05-14T16:07:58.663899",
     "exception": false,
     "start_time": "2025-05-14T16:07:58.658401",
     "status": "completed"
    },
    "tags": []
   },
   "source": [
    "### SUBSET DATASET INTO TRAIN/TEST/VAL SPLITS"
   ]
  },
  {
   "cell_type": "code",
   "execution_count": 14,
   "id": "bab61f4b",
   "metadata": {
    "execution": {
     "iopub.execute_input": "2025-05-14T16:07:58.676210Z",
     "iopub.status.busy": "2025-05-14T16:07:58.676075Z",
     "iopub.status.idle": "2025-05-14T16:07:58.976691Z",
     "shell.execute_reply": "2025-05-14T16:07:58.976323Z"
    },
    "papermill": {
     "duration": 0.308213,
     "end_time": "2025-05-14T16:07:58.977850",
     "exception": false,
     "start_time": "2025-05-14T16:07:58.669637",
     "status": "completed"
    },
    "tags": []
   },
   "outputs": [
    {
     "data": {
      "text/plain": [
       "((73010, 118), (26276, 118), (25600, 118))"
      ]
     },
     "execution_count": 14,
     "metadata": {},
     "output_type": "execute_result"
    }
   ],
   "source": [
    "X_train = train_adata.X[train_idxs]\n",
    "X_test = train_adata.X[test_idxs]\n",
    "X_val = train_adata.X[val_idxs]\n",
    "X_train.shape, X_test.shape, X_val.shape"
   ]
  },
  {
   "cell_type": "code",
   "execution_count": 15,
   "id": "52c813c7",
   "metadata": {
    "execution": {
     "iopub.execute_input": "2025-05-14T16:07:58.990592Z",
     "iopub.status.busy": "2025-05-14T16:07:58.990335Z",
     "iopub.status.idle": "2025-05-14T16:07:59.004020Z",
     "shell.execute_reply": "2025-05-14T16:07:59.003669Z"
    },
    "papermill": {
     "duration": 0.020903,
     "end_time": "2025-05-14T16:07:59.004928",
     "exception": false,
     "start_time": "2025-05-14T16:07:58.984025",
     "status": "completed"
    },
    "tags": []
   },
   "outputs": [
    {
     "data": {
      "text/plain": [
       "((73010,), (26276,), (25600,))"
      ]
     },
     "execution_count": 15,
     "metadata": {},
     "output_type": "execute_result"
    }
   ],
   "source": [
    "y_train = train_adata.obs.iloc[train_idxs].disease.values.astype(str)\n",
    "y_test = train_adata.obs.iloc[test_idxs].disease.values.astype(str)\n",
    "y_val = train_adata.obs.iloc[val_idxs].disease.values.astype(str)\n",
    "y_train.shape, y_test.shape, y_val.shape"
   ]
  },
  {
   "cell_type": "code",
   "execution_count": 16,
   "id": "c7c9ab9b",
   "metadata": {
    "execution": {
     "iopub.execute_input": "2025-05-14T16:07:59.017260Z",
     "iopub.status.busy": "2025-05-14T16:07:59.016878Z",
     "iopub.status.idle": "2025-05-14T16:07:59.044705Z",
     "shell.execute_reply": "2025-05-14T16:07:59.044296Z"
    },
    "papermill": {
     "duration": 0.035094,
     "end_time": "2025-05-14T16:07:59.045740",
     "exception": false,
     "start_time": "2025-05-14T16:07:59.010646",
     "status": "completed"
    },
    "tags": []
   },
   "outputs": [],
   "source": [
    "lenc = LabelEncoder()\n",
    "y_train_enc = lenc.fit_transform(y_train)\n",
    "y_val_enc = lenc.transform(y_val)\n",
    "y_test_enc = lenc.transform(y_test)"
   ]
  },
  {
   "cell_type": "markdown",
   "id": "932151bf",
   "metadata": {
    "papermill": {
     "duration": 0.005738,
     "end_time": "2025-05-14T16:07:59.057494",
     "exception": false,
     "start_time": "2025-05-14T16:07:59.051756",
     "status": "completed"
    },
    "tags": []
   },
   "source": [
    "### GENERATE F1 "
   ]
  },
  {
   "cell_type": "code",
   "execution_count": 17,
   "id": "0fa158d1",
   "metadata": {
    "execution": {
     "iopub.execute_input": "2025-05-14T16:07:59.084576Z",
     "iopub.status.busy": "2025-05-14T16:07:59.084311Z",
     "iopub.status.idle": "2025-05-14T16:07:59.086929Z",
     "shell.execute_reply": "2025-05-14T16:07:59.086422Z"
    },
    "papermill": {
     "duration": 0.013736,
     "end_time": "2025-05-14T16:07:59.087731",
     "exception": false,
     "start_time": "2025-05-14T16:07:59.073995",
     "status": "completed"
    },
    "tags": []
   },
   "outputs": [],
   "source": [
    "def custom_f1_score(y_true, y_pred):\n",
    "    return -f1_score(y_true, y_pred.argmax(1), average='weighted')"
   ]
  },
  {
   "cell_type": "code",
   "execution_count": 18,
   "id": "bcb342ad",
   "metadata": {
    "execution": {
     "iopub.execute_input": "2025-05-14T16:07:59.099654Z",
     "iopub.status.busy": "2025-05-14T16:07:59.099399Z",
     "iopub.status.idle": "2025-05-14T16:07:59.103257Z",
     "shell.execute_reply": "2025-05-14T16:07:59.102962Z"
    },
    "papermill": {
     "duration": 0.010541,
     "end_time": "2025-05-14T16:07:59.104024",
     "exception": false,
     "start_time": "2025-05-14T16:07:59.093483",
     "status": "completed"
    },
    "tags": []
   },
   "outputs": [],
   "source": [
    "eval_metric=custom_f1_score\n",
    "eval_metric_name='custom_f1_score'\n",
    "\n",
    "def objective(trial):\n",
    "    params = {\n",
    "        'n_estimators': 1500,\n",
    "        'max_depth': trial.suggest_int('max_depth', 3, 20),\n",
    "        'min_child_weight': trial.suggest_int('min_child_weight', 1, 250),\n",
    "        'subsample': trial.suggest_float('subsample', 0.1, 1.0),\n",
    "        'colsample_bynode': trial.suggest_float('colsample_bynode', 0.1, 1.0),\n",
    "        'learning_rate': trial.suggest_float('learning_rate', 1e-3, 5e-1, log=True),\n",
    "    }\n",
    "    pruning_callback = optuna.integration.XGBoostPruningCallback(trial, f'validation_0-{eval_metric_name}')\n",
    "    es_callback = xgboost.callback.EarlyStopping(20, min_delta=0.001)\n",
    "    xgb = xgboost.XGBClassifier(\n",
    "        eval_metric=eval_metric,\n",
    "        callbacks=[pruning_callback, es_callback],\n",
    "        n_jobs=5,\n",
    "        **params\n",
    "    )\n",
    "    xgb.fit(\n",
    "        X_train, \n",
    "        y_train_enc, \n",
    "        verbose=0,\n",
    "        eval_set=[(X_val, y_val_enc)],\n",
    "    )\n",
    "    trial.set_user_attr('best_iteration', xgb.best_iteration)\n",
    "\n",
    "    return xgb.best_score"
   ]
  },
  {
   "cell_type": "code",
   "execution_count": 19,
   "id": "769be769",
   "metadata": {
    "execution": {
     "iopub.execute_input": "2025-05-14T16:07:59.126723Z",
     "iopub.status.busy": "2025-05-14T16:07:59.126343Z",
     "iopub.status.idle": "2025-05-14T16:25:13.074100Z",
     "shell.execute_reply": "2025-05-14T16:25:13.073563Z"
    },
    "papermill": {
     "duration": 1033.956072,
     "end_time": "2025-05-14T16:25:13.075212",
     "exception": false,
     "start_time": "2025-05-14T16:07:59.119140",
     "status": "completed"
    },
    "scrolled": true,
    "tags": []
   },
   "outputs": [
    {
     "name": "stderr",
     "output_type": "stream",
     "text": [
      "[I 2025-05-14 18:07:59,128] A new study created in memory with name: no-name-0f351e93-f44e-43d3-a4f3-b5089b598d39\n"
     ]
    },
    {
     "name": "stderr",
     "output_type": "stream",
     "text": [
      "[I 2025-05-14 18:08:06,234] Trial 0 finished with value: -0.683291 and parameters: {'max_depth': 9, 'min_child_weight': 238, 'subsample': 0.7587945476302645, 'colsample_bynode': 0.6387926357773329, 'learning_rate': 0.0026368755339723046}. Best is trial 0 with value: -0.683291.\n"
     ]
    },
    {
     "name": "stderr",
     "output_type": "stream",
     "text": [
      "[I 2025-05-14 18:09:08,118] Trial 1 finished with value: -0.803543 and parameters: {'max_depth': 5, 'min_child_weight': 15, 'subsample': 0.8795585311974417, 'colsample_bynode': 0.6410035105688879, 'learning_rate': 0.08148293210105287}. Best is trial 1 with value: -0.803543.\n"
     ]
    },
    {
     "name": "stderr",
     "output_type": "stream",
     "text": [
      "[I 2025-05-14 18:09:13,438] Trial 2 finished with value: -0.637155 and parameters: {'max_depth': 3, 'min_child_weight': 243, 'subsample': 0.8491983767203796, 'colsample_bynode': 0.29110519961044856, 'learning_rate': 0.003095566460242371}. Best is trial 1 with value: -0.803543.\n"
     ]
    },
    {
     "name": "stderr",
     "output_type": "stream",
     "text": [
      "[I 2025-05-14 18:11:33,483] Trial 3 finished with value: -0.748909 and parameters: {'max_depth': 6, 'min_child_weight': 77, 'subsample': 0.5722807884690141, 'colsample_bynode': 0.48875051677790415, 'learning_rate': 0.006109683510122491}. Best is trial 1 with value: -0.803543.\n"
     ]
    },
    {
     "name": "stderr",
     "output_type": "stream",
     "text": [
      "[I 2025-05-14 18:14:25,334] Trial 4 finished with value: -0.797447 and parameters: {'max_depth': 14, 'min_child_weight': 35, 'subsample': 0.3629301836816964, 'colsample_bynode': 0.4297256589643226, 'learning_rate': 0.01701841881702917}. Best is trial 1 with value: -0.803543.\n"
     ]
    },
    {
     "name": "stderr",
     "output_type": "stream",
     "text": [
      "[I 2025-05-14 18:14:39,404] Trial 5 pruned. Trial was pruned at iteration 21.\n"
     ]
    },
    {
     "name": "stderr",
     "output_type": "stream",
     "text": [
      "[I 2025-05-14 18:14:40,010] Trial 6 pruned. Trial was pruned at iteration 0.\n"
     ]
    },
    {
     "name": "stderr",
     "output_type": "stream",
     "text": [
      "[I 2025-05-14 18:14:40,584] Trial 7 pruned. Trial was pruned at iteration 0.\n"
     ]
    },
    {
     "name": "stderr",
     "output_type": "stream",
     "text": [
      "[I 2025-05-14 18:14:41,119] Trial 8 pruned. Trial was pruned at iteration 0.\n"
     ]
    },
    {
     "name": "stderr",
     "output_type": "stream",
     "text": [
      "[I 2025-05-14 18:14:47,418] Trial 9 pruned. Trial was pruned at iteration 18.\n"
     ]
    },
    {
     "name": "stderr",
     "output_type": "stream",
     "text": [
      "[I 2025-05-14 18:15:18,563] Trial 10 finished with value: -0.801913 and parameters: {'max_depth': 9, 'min_child_weight': 2, 'subsample': 0.9725833997090791, 'colsample_bynode': 0.11616568805333755, 'learning_rate': 0.17780618353487967}. Best is trial 1 with value: -0.803543.\n"
     ]
    },
    {
     "name": "stderr",
     "output_type": "stream",
     "text": [
      "[I 2025-05-14 18:16:10,575] Trial 11 finished with value: -0.801445 and parameters: {'max_depth': 9, 'min_child_weight': 4, 'subsample': 0.9818290990185045, 'colsample_bynode': 0.17702656156719, 'learning_rate': 0.11568531411766632}. Best is trial 1 with value: -0.803543.\n"
     ]
    },
    {
     "name": "stderr",
     "output_type": "stream",
     "text": [
      "[I 2025-05-14 18:17:17,078] Trial 12 finished with value: -0.802991 and parameters: {'max_depth': 9, 'min_child_weight': 3, 'subsample': 0.9754570370311046, 'colsample_bynode': 0.14672783827498995, 'learning_rate': 0.08954997670613858}. Best is trial 1 with value: -0.803543.\n"
     ]
    },
    {
     "name": "stderr",
     "output_type": "stream",
     "text": [
      "[I 2025-05-14 18:17:17,647] Trial 13 pruned. Trial was pruned at iteration 0.\n"
     ]
    },
    {
     "name": "stderr",
     "output_type": "stream",
     "text": [
      "[I 2025-05-14 18:17:18,279] Trial 14 pruned. Trial was pruned at iteration 0.\n"
     ]
    },
    {
     "name": "stderr",
     "output_type": "stream",
     "text": [
      "[I 2025-05-14 18:18:26,369] Trial 15 pruned. Trial was pruned at iteration 74.\n"
     ]
    },
    {
     "name": "stderr",
     "output_type": "stream",
     "text": [
      "[I 2025-05-14 18:18:27,067] Trial 16 pruned. Trial was pruned at iteration 0.\n"
     ]
    },
    {
     "name": "stderr",
     "output_type": "stream",
     "text": [
      "[I 2025-05-14 18:18:27,653] Trial 17 pruned. Trial was pruned at iteration 0.\n"
     ]
    },
    {
     "name": "stderr",
     "output_type": "stream",
     "text": [
      "[I 2025-05-14 18:18:40,265] Trial 18 pruned. Trial was pruned at iteration 32.\n"
     ]
    },
    {
     "name": "stderr",
     "output_type": "stream",
     "text": [
      "[I 2025-05-14 18:18:40,832] Trial 19 pruned. Trial was pruned at iteration 0.\n"
     ]
    },
    {
     "name": "stderr",
     "output_type": "stream",
     "text": [
      "[I 2025-05-14 18:18:49,433] Trial 20 pruned. Trial was pruned at iteration 21.\n"
     ]
    },
    {
     "name": "stderr",
     "output_type": "stream",
     "text": [
      "[I 2025-05-14 18:18:50,367] Trial 21 pruned. Trial was pruned at iteration 0.\n"
     ]
    },
    {
     "name": "stderr",
     "output_type": "stream",
     "text": [
      "[I 2025-05-14 18:18:51,004] Trial 22 pruned. Trial was pruned at iteration 0.\n"
     ]
    },
    {
     "name": "stderr",
     "output_type": "stream",
     "text": [
      "[I 2025-05-14 18:19:48,765] Trial 23 finished with value: -0.812624 and parameters: {'max_depth': 12, 'min_child_weight': 60, 'subsample': 0.8153620263131856, 'colsample_bynode': 0.1915058720860061, 'learning_rate': 0.09053510836808383}. Best is trial 23 with value: -0.812624.\n"
     ]
    },
    {
     "name": "stderr",
     "output_type": "stream",
     "text": [
      "[I 2025-05-14 18:19:49,431] Trial 24 pruned. Trial was pruned at iteration 0.\n"
     ]
    },
    {
     "name": "stderr",
     "output_type": "stream",
     "text": [
      "[I 2025-05-14 18:19:50,092] Trial 25 pruned. Trial was pruned at iteration 0.\n"
     ]
    },
    {
     "name": "stderr",
     "output_type": "stream",
     "text": [
      "[I 2025-05-14 18:20:45,248] Trial 26 finished with value: -0.808866 and parameters: {'max_depth': 12, 'min_child_weight': 24, 'subsample': 0.7318676637220671, 'colsample_bynode': 0.4573787689545735, 'learning_rate': 0.09739025579379348}. Best is trial 23 with value: -0.812624.\n"
     ]
    },
    {
     "name": "stderr",
     "output_type": "stream",
     "text": [
      "[I 2025-05-14 18:21:06,754] Trial 27 finished with value: -0.809192 and parameters: {'max_depth': 12, 'min_child_weight': 26, 'subsample': 0.7347171231658784, 'colsample_bynode': 0.42974463404835267, 'learning_rate': 0.3469134828392889}. Best is trial 23 with value: -0.812624.\n"
     ]
    },
    {
     "name": "stderr",
     "output_type": "stream",
     "text": [
      "[I 2025-05-14 18:21:07,408] Trial 28 pruned. Trial was pruned at iteration 0.\n"
     ]
    },
    {
     "name": "stderr",
     "output_type": "stream",
     "text": [
      "[I 2025-05-14 18:21:08,007] Trial 29 pruned. Trial was pruned at iteration 0.\n"
     ]
    },
    {
     "name": "stderr",
     "output_type": "stream",
     "text": [
      "[I 2025-05-14 18:21:08,614] Trial 30 pruned. Trial was pruned at iteration 0.\n"
     ]
    },
    {
     "name": "stderr",
     "output_type": "stream",
     "text": [
      "[I 2025-05-14 18:21:13,933] Trial 31 pruned. Trial was pruned at iteration 11.\n"
     ]
    },
    {
     "name": "stderr",
     "output_type": "stream",
     "text": [
      "[I 2025-05-14 18:22:11,110] Trial 32 finished with value: -0.809555 and parameters: {'max_depth': 12, 'min_child_weight': 23, 'subsample': 0.8217085495160081, 'colsample_bynode': 0.5230139344598618, 'learning_rate': 0.12158028349221599}. Best is trial 23 with value: -0.812624.\n"
     ]
    },
    {
     "name": "stderr",
     "output_type": "stream",
     "text": [
      "[I 2025-05-14 18:22:50,046] Trial 33 finished with value: -0.810495 and parameters: {'max_depth': 13, 'min_child_weight': 33, 'subsample': 0.6198323198848258, 'colsample_bynode': 0.5037731159127116, 'learning_rate': 0.14811827447155115}. Best is trial 23 with value: -0.812624.\n"
     ]
    },
    {
     "name": "stderr",
     "output_type": "stream",
     "text": [
      "[I 2025-05-14 18:22:50,702] Trial 34 pruned. Trial was pruned at iteration 0.\n"
     ]
    },
    {
     "name": "stderr",
     "output_type": "stream",
     "text": [
      "[I 2025-05-14 18:22:51,415] Trial 35 pruned. Trial was pruned at iteration 0.\n"
     ]
    },
    {
     "name": "stderr",
     "output_type": "stream",
     "text": [
      "[I 2025-05-14 18:22:52,405] Trial 36 pruned. Trial was pruned at iteration 1.\n"
     ]
    },
    {
     "name": "stderr",
     "output_type": "stream",
     "text": [
      "[I 2025-05-14 18:22:53,036] Trial 37 pruned. Trial was pruned at iteration 0.\n"
     ]
    },
    {
     "name": "stderr",
     "output_type": "stream",
     "text": [
      "[I 2025-05-14 18:22:53,615] Trial 38 pruned. Trial was pruned at iteration 0.\n"
     ]
    },
    {
     "name": "stderr",
     "output_type": "stream",
     "text": [
      "[I 2025-05-14 18:23:17,924] Trial 39 finished with value: -0.811567 and parameters: {'max_depth': 13, 'min_child_weight': 48, 'subsample': 0.7634974204962631, 'colsample_bynode': 0.6895388626611387, 'learning_rate': 0.4727363411197455}. Best is trial 23 with value: -0.812624.\n"
     ]
    },
    {
     "name": "stderr",
     "output_type": "stream",
     "text": [
      "[I 2025-05-14 18:23:19,433] Trial 40 pruned. Trial was pruned at iteration 2.\n"
     ]
    },
    {
     "name": "stderr",
     "output_type": "stream",
     "text": [
      "[I 2025-05-14 18:23:47,315] Trial 41 finished with value: -0.808561 and parameters: {'max_depth': 13, 'min_child_weight': 30, 'subsample': 0.787275379856865, 'colsample_bynode': 0.669981135580804, 'learning_rate': 0.4797688109427329}. Best is trial 23 with value: -0.812624.\n"
     ]
    },
    {
     "name": "stderr",
     "output_type": "stream",
     "text": [
      "[I 2025-05-14 18:23:47,989] Trial 42 pruned. Trial was pruned at iteration 0.\n"
     ]
    },
    {
     "name": "stderr",
     "output_type": "stream",
     "text": [
      "[I 2025-05-14 18:24:24,761] Trial 43 finished with value: -0.806517 and parameters: {'max_depth': 14, 'min_child_weight': 15, 'subsample': 0.7738005041789219, 'colsample_bynode': 0.5334942959560006, 'learning_rate': 0.2319500428911721}. Best is trial 23 with value: -0.812624.\n"
     ]
    },
    {
     "name": "stderr",
     "output_type": "stream",
     "text": [
      "[I 2025-05-14 18:24:25,437] Trial 44 pruned. Trial was pruned at iteration 0.\n"
     ]
    },
    {
     "name": "stderr",
     "output_type": "stream",
     "text": [
      "[I 2025-05-14 18:24:26,101] Trial 45 pruned. Trial was pruned at iteration 0.\n"
     ]
    },
    {
     "name": "stderr",
     "output_type": "stream",
     "text": [
      "[I 2025-05-14 18:24:56,522] Trial 46 finished with value: -0.811966 and parameters: {'max_depth': 13, 'min_child_weight': 41, 'subsample': 0.6683368399617964, 'colsample_bynode': 0.6561162239889211, 'learning_rate': 0.26763228625853736}. Best is trial 23 with value: -0.812624.\n"
     ]
    },
    {
     "name": "stderr",
     "output_type": "stream",
     "text": [
      "[I 2025-05-14 18:24:57,625] Trial 47 pruned. Trial was pruned at iteration 1.\n"
     ]
    },
    {
     "name": "stderr",
     "output_type": "stream",
     "text": [
      "[I 2025-05-14 18:24:58,259] Trial 48 pruned. Trial was pruned at iteration 0.\n"
     ]
    },
    {
     "name": "stderr",
     "output_type": "stream",
     "text": [
      "[I 2025-05-14 18:25:12,979] Trial 49 pruned. Trial was pruned at iteration 33.\n"
     ]
    }
   ],
   "source": [
    "sampler = optuna.samplers.TPESampler(seed=42)\n",
    "study = optuna.create_study(direction='minimize', sampler=sampler)\n",
    "study.optimize(objective, n_trials=N_TRIALS, gc_after_trial=True)"
   ]
  },
  {
   "cell_type": "code",
   "execution_count": 20,
   "id": "76221626",
   "metadata": {
    "execution": {
     "iopub.execute_input": "2025-05-14T16:25:13.098000Z",
     "iopub.status.busy": "2025-05-14T16:25:13.097498Z",
     "iopub.status.idle": "2025-05-14T16:25:13.145316Z",
     "shell.execute_reply": "2025-05-14T16:25:13.144929Z"
    },
    "papermill": {
     "duration": 0.061662,
     "end_time": "2025-05-14T16:25:13.146271",
     "exception": false,
     "start_time": "2025-05-14T16:25:13.084609",
     "status": "completed"
    },
    "tags": []
   },
   "outputs": [
    {
     "data": {
      "text/plain": [
       "['/scratch_isilon/groups/singlecell/shared/projects/Inflammation-PBMCs-Atlas/03_downstream_analysis/08_gene_importance/xgboost_external_validation/xgboost_TopN_genes/results_20/study/T_CD4_NonNaive_shap_disease_NOstudy_1_xgboost.pkl']"
      ]
     },
     "execution_count": 20,
     "metadata": {},
     "output_type": "execute_result"
    }
   ],
   "source": [
    "out_dir = here(f'03_downstream_analysis/08_gene_importance/xgboost_external_validation/xgboost_TopN_genes/results_{N_GENES}/study')\n",
    "\n",
    "if not os.path.exists(out_dir):\n",
    "    os.makedirs(out_dir)\n",
    "    \n",
    "joblib.dump(study,os.path.join(out_dir, f'{CELL_TYPE}_{SEED}_{TEST_SPLIT_IDX}_xgboost.pkl'))"
   ]
  },
  {
   "cell_type": "code",
   "execution_count": 21,
   "id": "b4839733",
   "metadata": {
    "execution": {
     "iopub.execute_input": "2025-05-14T16:25:13.164807Z",
     "iopub.status.busy": "2025-05-14T16:25:13.164369Z",
     "iopub.status.idle": "2025-05-14T16:25:35.424824Z",
     "shell.execute_reply": "2025-05-14T16:25:35.424444Z"
    },
    "papermill": {
     "duration": 22.270858,
     "end_time": "2025-05-14T16:25:35.425966",
     "exception": false,
     "start_time": "2025-05-14T16:25:13.155108",
     "status": "completed"
    },
    "tags": []
   },
   "outputs": [
    {
     "data": {
      "text/html": [
       "<style>#sk-container-id-1 {\n",
       "  /* Definition of color scheme common for light and dark mode */\n",
       "  --sklearn-color-text: black;\n",
       "  --sklearn-color-line: gray;\n",
       "  /* Definition of color scheme for unfitted estimators */\n",
       "  --sklearn-color-unfitted-level-0: #fff5e6;\n",
       "  --sklearn-color-unfitted-level-1: #f6e4d2;\n",
       "  --sklearn-color-unfitted-level-2: #ffe0b3;\n",
       "  --sklearn-color-unfitted-level-3: chocolate;\n",
       "  /* Definition of color scheme for fitted estimators */\n",
       "  --sklearn-color-fitted-level-0: #f0f8ff;\n",
       "  --sklearn-color-fitted-level-1: #d4ebff;\n",
       "  --sklearn-color-fitted-level-2: #b3dbfd;\n",
       "  --sklearn-color-fitted-level-3: cornflowerblue;\n",
       "\n",
       "  /* Specific color for light theme */\n",
       "  --sklearn-color-text-on-default-background: var(--sg-text-color, var(--theme-code-foreground, var(--jp-content-font-color1, black)));\n",
       "  --sklearn-color-background: var(--sg-background-color, var(--theme-background, var(--jp-layout-color0, white)));\n",
       "  --sklearn-color-border-box: var(--sg-text-color, var(--theme-code-foreground, var(--jp-content-font-color1, black)));\n",
       "  --sklearn-color-icon: #696969;\n",
       "\n",
       "  @media (prefers-color-scheme: dark) {\n",
       "    /* Redefinition of color scheme for dark theme */\n",
       "    --sklearn-color-text-on-default-background: var(--sg-text-color, var(--theme-code-foreground, var(--jp-content-font-color1, white)));\n",
       "    --sklearn-color-background: var(--sg-background-color, var(--theme-background, var(--jp-layout-color0, #111)));\n",
       "    --sklearn-color-border-box: var(--sg-text-color, var(--theme-code-foreground, var(--jp-content-font-color1, white)));\n",
       "    --sklearn-color-icon: #878787;\n",
       "  }\n",
       "}\n",
       "\n",
       "#sk-container-id-1 {\n",
       "  color: var(--sklearn-color-text);\n",
       "}\n",
       "\n",
       "#sk-container-id-1 pre {\n",
       "  padding: 0;\n",
       "}\n",
       "\n",
       "#sk-container-id-1 input.sk-hidden--visually {\n",
       "  border: 0;\n",
       "  clip: rect(1px 1px 1px 1px);\n",
       "  clip: rect(1px, 1px, 1px, 1px);\n",
       "  height: 1px;\n",
       "  margin: -1px;\n",
       "  overflow: hidden;\n",
       "  padding: 0;\n",
       "  position: absolute;\n",
       "  width: 1px;\n",
       "}\n",
       "\n",
       "#sk-container-id-1 div.sk-dashed-wrapped {\n",
       "  border: 1px dashed var(--sklearn-color-line);\n",
       "  margin: 0 0.4em 0.5em 0.4em;\n",
       "  box-sizing: border-box;\n",
       "  padding-bottom: 0.4em;\n",
       "  background-color: var(--sklearn-color-background);\n",
       "}\n",
       "\n",
       "#sk-container-id-1 div.sk-container {\n",
       "  /* jupyter's `normalize.less` sets `[hidden] { display: none; }`\n",
       "     but bootstrap.min.css set `[hidden] { display: none !important; }`\n",
       "     so we also need the `!important` here to be able to override the\n",
       "     default hidden behavior on the sphinx rendered scikit-learn.org.\n",
       "     See: https://github.com/scikit-learn/scikit-learn/issues/21755 */\n",
       "  display: inline-block !important;\n",
       "  position: relative;\n",
       "}\n",
       "\n",
       "#sk-container-id-1 div.sk-text-repr-fallback {\n",
       "  display: none;\n",
       "}\n",
       "\n",
       "div.sk-parallel-item,\n",
       "div.sk-serial,\n",
       "div.sk-item {\n",
       "  /* draw centered vertical line to link estimators */\n",
       "  background-image: linear-gradient(var(--sklearn-color-text-on-default-background), var(--sklearn-color-text-on-default-background));\n",
       "  background-size: 2px 100%;\n",
       "  background-repeat: no-repeat;\n",
       "  background-position: center center;\n",
       "}\n",
       "\n",
       "/* Parallel-specific style estimator block */\n",
       "\n",
       "#sk-container-id-1 div.sk-parallel-item::after {\n",
       "  content: \"\";\n",
       "  width: 100%;\n",
       "  border-bottom: 2px solid var(--sklearn-color-text-on-default-background);\n",
       "  flex-grow: 1;\n",
       "}\n",
       "\n",
       "#sk-container-id-1 div.sk-parallel {\n",
       "  display: flex;\n",
       "  align-items: stretch;\n",
       "  justify-content: center;\n",
       "  background-color: var(--sklearn-color-background);\n",
       "  position: relative;\n",
       "}\n",
       "\n",
       "#sk-container-id-1 div.sk-parallel-item {\n",
       "  display: flex;\n",
       "  flex-direction: column;\n",
       "}\n",
       "\n",
       "#sk-container-id-1 div.sk-parallel-item:first-child::after {\n",
       "  align-self: flex-end;\n",
       "  width: 50%;\n",
       "}\n",
       "\n",
       "#sk-container-id-1 div.sk-parallel-item:last-child::after {\n",
       "  align-self: flex-start;\n",
       "  width: 50%;\n",
       "}\n",
       "\n",
       "#sk-container-id-1 div.sk-parallel-item:only-child::after {\n",
       "  width: 0;\n",
       "}\n",
       "\n",
       "/* Serial-specific style estimator block */\n",
       "\n",
       "#sk-container-id-1 div.sk-serial {\n",
       "  display: flex;\n",
       "  flex-direction: column;\n",
       "  align-items: center;\n",
       "  background-color: var(--sklearn-color-background);\n",
       "  padding-right: 1em;\n",
       "  padding-left: 1em;\n",
       "}\n",
       "\n",
       "\n",
       "/* Toggleable style: style used for estimator/Pipeline/ColumnTransformer box that is\n",
       "clickable and can be expanded/collapsed.\n",
       "- Pipeline and ColumnTransformer use this feature and define the default style\n",
       "- Estimators will overwrite some part of the style using the `sk-estimator` class\n",
       "*/\n",
       "\n",
       "/* Pipeline and ColumnTransformer style (default) */\n",
       "\n",
       "#sk-container-id-1 div.sk-toggleable {\n",
       "  /* Default theme specific background. It is overwritten whether we have a\n",
       "  specific estimator or a Pipeline/ColumnTransformer */\n",
       "  background-color: var(--sklearn-color-background);\n",
       "}\n",
       "\n",
       "/* Toggleable label */\n",
       "#sk-container-id-1 label.sk-toggleable__label {\n",
       "  cursor: pointer;\n",
       "  display: block;\n",
       "  width: 100%;\n",
       "  margin-bottom: 0;\n",
       "  padding: 0.5em;\n",
       "  box-sizing: border-box;\n",
       "  text-align: center;\n",
       "}\n",
       "\n",
       "#sk-container-id-1 label.sk-toggleable__label-arrow:before {\n",
       "  /* Arrow on the left of the label */\n",
       "  content: \"▸\";\n",
       "  float: left;\n",
       "  margin-right: 0.25em;\n",
       "  color: var(--sklearn-color-icon);\n",
       "}\n",
       "\n",
       "#sk-container-id-1 label.sk-toggleable__label-arrow:hover:before {\n",
       "  color: var(--sklearn-color-text);\n",
       "}\n",
       "\n",
       "/* Toggleable content - dropdown */\n",
       "\n",
       "#sk-container-id-1 div.sk-toggleable__content {\n",
       "  max-height: 0;\n",
       "  max-width: 0;\n",
       "  overflow: hidden;\n",
       "  text-align: left;\n",
       "  /* unfitted */\n",
       "  background-color: var(--sklearn-color-unfitted-level-0);\n",
       "}\n",
       "\n",
       "#sk-container-id-1 div.sk-toggleable__content.fitted {\n",
       "  /* fitted */\n",
       "  background-color: var(--sklearn-color-fitted-level-0);\n",
       "}\n",
       "\n",
       "#sk-container-id-1 div.sk-toggleable__content pre {\n",
       "  margin: 0.2em;\n",
       "  border-radius: 0.25em;\n",
       "  color: var(--sklearn-color-text);\n",
       "  /* unfitted */\n",
       "  background-color: var(--sklearn-color-unfitted-level-0);\n",
       "}\n",
       "\n",
       "#sk-container-id-1 div.sk-toggleable__content.fitted pre {\n",
       "  /* unfitted */\n",
       "  background-color: var(--sklearn-color-fitted-level-0);\n",
       "}\n",
       "\n",
       "#sk-container-id-1 input.sk-toggleable__control:checked~div.sk-toggleable__content {\n",
       "  /* Expand drop-down */\n",
       "  max-height: 200px;\n",
       "  max-width: 100%;\n",
       "  overflow: auto;\n",
       "}\n",
       "\n",
       "#sk-container-id-1 input.sk-toggleable__control:checked~label.sk-toggleable__label-arrow:before {\n",
       "  content: \"▾\";\n",
       "}\n",
       "\n",
       "/* Pipeline/ColumnTransformer-specific style */\n",
       "\n",
       "#sk-container-id-1 div.sk-label input.sk-toggleable__control:checked~label.sk-toggleable__label {\n",
       "  color: var(--sklearn-color-text);\n",
       "  background-color: var(--sklearn-color-unfitted-level-2);\n",
       "}\n",
       "\n",
       "#sk-container-id-1 div.sk-label.fitted input.sk-toggleable__control:checked~label.sk-toggleable__label {\n",
       "  background-color: var(--sklearn-color-fitted-level-2);\n",
       "}\n",
       "\n",
       "/* Estimator-specific style */\n",
       "\n",
       "/* Colorize estimator box */\n",
       "#sk-container-id-1 div.sk-estimator input.sk-toggleable__control:checked~label.sk-toggleable__label {\n",
       "  /* unfitted */\n",
       "  background-color: var(--sklearn-color-unfitted-level-2);\n",
       "}\n",
       "\n",
       "#sk-container-id-1 div.sk-estimator.fitted input.sk-toggleable__control:checked~label.sk-toggleable__label {\n",
       "  /* fitted */\n",
       "  background-color: var(--sklearn-color-fitted-level-2);\n",
       "}\n",
       "\n",
       "#sk-container-id-1 div.sk-label label.sk-toggleable__label,\n",
       "#sk-container-id-1 div.sk-label label {\n",
       "  /* The background is the default theme color */\n",
       "  color: var(--sklearn-color-text-on-default-background);\n",
       "}\n",
       "\n",
       "/* On hover, darken the color of the background */\n",
       "#sk-container-id-1 div.sk-label:hover label.sk-toggleable__label {\n",
       "  color: var(--sklearn-color-text);\n",
       "  background-color: var(--sklearn-color-unfitted-level-2);\n",
       "}\n",
       "\n",
       "/* Label box, darken color on hover, fitted */\n",
       "#sk-container-id-1 div.sk-label.fitted:hover label.sk-toggleable__label.fitted {\n",
       "  color: var(--sklearn-color-text);\n",
       "  background-color: var(--sklearn-color-fitted-level-2);\n",
       "}\n",
       "\n",
       "/* Estimator label */\n",
       "\n",
       "#sk-container-id-1 div.sk-label label {\n",
       "  font-family: monospace;\n",
       "  font-weight: bold;\n",
       "  display: inline-block;\n",
       "  line-height: 1.2em;\n",
       "}\n",
       "\n",
       "#sk-container-id-1 div.sk-label-container {\n",
       "  text-align: center;\n",
       "}\n",
       "\n",
       "/* Estimator-specific */\n",
       "#sk-container-id-1 div.sk-estimator {\n",
       "  font-family: monospace;\n",
       "  border: 1px dotted var(--sklearn-color-border-box);\n",
       "  border-radius: 0.25em;\n",
       "  box-sizing: border-box;\n",
       "  margin-bottom: 0.5em;\n",
       "  /* unfitted */\n",
       "  background-color: var(--sklearn-color-unfitted-level-0);\n",
       "}\n",
       "\n",
       "#sk-container-id-1 div.sk-estimator.fitted {\n",
       "  /* fitted */\n",
       "  background-color: var(--sklearn-color-fitted-level-0);\n",
       "}\n",
       "\n",
       "/* on hover */\n",
       "#sk-container-id-1 div.sk-estimator:hover {\n",
       "  /* unfitted */\n",
       "  background-color: var(--sklearn-color-unfitted-level-2);\n",
       "}\n",
       "\n",
       "#sk-container-id-1 div.sk-estimator.fitted:hover {\n",
       "  /* fitted */\n",
       "  background-color: var(--sklearn-color-fitted-level-2);\n",
       "}\n",
       "\n",
       "/* Specification for estimator info (e.g. \"i\" and \"?\") */\n",
       "\n",
       "/* Common style for \"i\" and \"?\" */\n",
       "\n",
       ".sk-estimator-doc-link,\n",
       "a:link.sk-estimator-doc-link,\n",
       "a:visited.sk-estimator-doc-link {\n",
       "  float: right;\n",
       "  font-size: smaller;\n",
       "  line-height: 1em;\n",
       "  font-family: monospace;\n",
       "  background-color: var(--sklearn-color-background);\n",
       "  border-radius: 1em;\n",
       "  height: 1em;\n",
       "  width: 1em;\n",
       "  text-decoration: none !important;\n",
       "  margin-left: 1ex;\n",
       "  /* unfitted */\n",
       "  border: var(--sklearn-color-unfitted-level-1) 1pt solid;\n",
       "  color: var(--sklearn-color-unfitted-level-1);\n",
       "}\n",
       "\n",
       ".sk-estimator-doc-link.fitted,\n",
       "a:link.sk-estimator-doc-link.fitted,\n",
       "a:visited.sk-estimator-doc-link.fitted {\n",
       "  /* fitted */\n",
       "  border: var(--sklearn-color-fitted-level-1) 1pt solid;\n",
       "  color: var(--sklearn-color-fitted-level-1);\n",
       "}\n",
       "\n",
       "/* On hover */\n",
       "div.sk-estimator:hover .sk-estimator-doc-link:hover,\n",
       ".sk-estimator-doc-link:hover,\n",
       "div.sk-label-container:hover .sk-estimator-doc-link:hover,\n",
       ".sk-estimator-doc-link:hover {\n",
       "  /* unfitted */\n",
       "  background-color: var(--sklearn-color-unfitted-level-3);\n",
       "  color: var(--sklearn-color-background);\n",
       "  text-decoration: none;\n",
       "}\n",
       "\n",
       "div.sk-estimator.fitted:hover .sk-estimator-doc-link.fitted:hover,\n",
       ".sk-estimator-doc-link.fitted:hover,\n",
       "div.sk-label-container:hover .sk-estimator-doc-link.fitted:hover,\n",
       ".sk-estimator-doc-link.fitted:hover {\n",
       "  /* fitted */\n",
       "  background-color: var(--sklearn-color-fitted-level-3);\n",
       "  color: var(--sklearn-color-background);\n",
       "  text-decoration: none;\n",
       "}\n",
       "\n",
       "/* Span, style for the box shown on hovering the info icon */\n",
       ".sk-estimator-doc-link span {\n",
       "  display: none;\n",
       "  z-index: 9999;\n",
       "  position: relative;\n",
       "  font-weight: normal;\n",
       "  right: .2ex;\n",
       "  padding: .5ex;\n",
       "  margin: .5ex;\n",
       "  width: min-content;\n",
       "  min-width: 20ex;\n",
       "  max-width: 50ex;\n",
       "  color: var(--sklearn-color-text);\n",
       "  box-shadow: 2pt 2pt 4pt #999;\n",
       "  /* unfitted */\n",
       "  background: var(--sklearn-color-unfitted-level-0);\n",
       "  border: .5pt solid var(--sklearn-color-unfitted-level-3);\n",
       "}\n",
       "\n",
       ".sk-estimator-doc-link.fitted span {\n",
       "  /* fitted */\n",
       "  background: var(--sklearn-color-fitted-level-0);\n",
       "  border: var(--sklearn-color-fitted-level-3);\n",
       "}\n",
       "\n",
       ".sk-estimator-doc-link:hover span {\n",
       "  display: block;\n",
       "}\n",
       "\n",
       "/* \"?\"-specific style due to the `<a>` HTML tag */\n",
       "\n",
       "#sk-container-id-1 a.estimator_doc_link {\n",
       "  float: right;\n",
       "  font-size: 1rem;\n",
       "  line-height: 1em;\n",
       "  font-family: monospace;\n",
       "  background-color: var(--sklearn-color-background);\n",
       "  border-radius: 1rem;\n",
       "  height: 1rem;\n",
       "  width: 1rem;\n",
       "  text-decoration: none;\n",
       "  /* unfitted */\n",
       "  color: var(--sklearn-color-unfitted-level-1);\n",
       "  border: var(--sklearn-color-unfitted-level-1) 1pt solid;\n",
       "}\n",
       "\n",
       "#sk-container-id-1 a.estimator_doc_link.fitted {\n",
       "  /* fitted */\n",
       "  border: var(--sklearn-color-fitted-level-1) 1pt solid;\n",
       "  color: var(--sklearn-color-fitted-level-1);\n",
       "}\n",
       "\n",
       "/* On hover */\n",
       "#sk-container-id-1 a.estimator_doc_link:hover {\n",
       "  /* unfitted */\n",
       "  background-color: var(--sklearn-color-unfitted-level-3);\n",
       "  color: var(--sklearn-color-background);\n",
       "  text-decoration: none;\n",
       "}\n",
       "\n",
       "#sk-container-id-1 a.estimator_doc_link.fitted:hover {\n",
       "  /* fitted */\n",
       "  background-color: var(--sklearn-color-fitted-level-3);\n",
       "}\n",
       "</style><div id=\"sk-container-id-1\" class=\"sk-top-container\"><div class=\"sk-text-repr-fallback\"><pre>XGBClassifier(base_score=None, booster=None, callbacks=None,\n",
       "              colsample_bylevel=None, colsample_bynode=0.1915058720860061,\n",
       "              colsample_bytree=None, device=None, early_stopping_rounds=None,\n",
       "              enable_categorical=False,\n",
       "              eval_metric=&lt;function custom_f1_score at 0x7f957ee9c680&gt;,\n",
       "              feature_types=None, gamma=None, grow_policy=None,\n",
       "              importance_type=None, interaction_constraints=None,\n",
       "              learning_rate=0.09053510836808383, max_bin=None,\n",
       "              max_cat_threshold=None, max_cat_to_onehot=None,\n",
       "              max_delta_step=None, max_depth=12, max_leaves=None,\n",
       "              min_child_weight=60, missing=nan, monotone_constraints=None,\n",
       "              multi_strategy=None, n_estimators=214, n_jobs=None,\n",
       "              num_parallel_tree=None, objective=&#x27;multi:softprob&#x27;, ...)</pre><b>In a Jupyter environment, please rerun this cell to show the HTML representation or trust the notebook. <br />On GitHub, the HTML representation is unable to render, please try loading this page with nbviewer.org.</b></div><div class=\"sk-container\" hidden><div class=\"sk-item\"><div class=\"sk-estimator fitted sk-toggleable\"><input class=\"sk-toggleable__control sk-hidden--visually\" id=\"sk-estimator-id-1\" type=\"checkbox\" checked><label for=\"sk-estimator-id-1\" class=\"sk-toggleable__label fitted sk-toggleable__label-arrow fitted\">&nbsp;XGBClassifier<span class=\"sk-estimator-doc-link fitted\">i<span>Fitted</span></span></label><div class=\"sk-toggleable__content fitted\"><pre>XGBClassifier(base_score=None, booster=None, callbacks=None,\n",
       "              colsample_bylevel=None, colsample_bynode=0.1915058720860061,\n",
       "              colsample_bytree=None, device=None, early_stopping_rounds=None,\n",
       "              enable_categorical=False,\n",
       "              eval_metric=&lt;function custom_f1_score at 0x7f957ee9c680&gt;,\n",
       "              feature_types=None, gamma=None, grow_policy=None,\n",
       "              importance_type=None, interaction_constraints=None,\n",
       "              learning_rate=0.09053510836808383, max_bin=None,\n",
       "              max_cat_threshold=None, max_cat_to_onehot=None,\n",
       "              max_delta_step=None, max_depth=12, max_leaves=None,\n",
       "              min_child_weight=60, missing=nan, monotone_constraints=None,\n",
       "              multi_strategy=None, n_estimators=214, n_jobs=None,\n",
       "              num_parallel_tree=None, objective=&#x27;multi:softprob&#x27;, ...)</pre></div> </div></div></div></div>"
      ],
      "text/plain": [
       "XGBClassifier(base_score=None, booster=None, callbacks=None,\n",
       "              colsample_bylevel=None, colsample_bynode=0.1915058720860061,\n",
       "              colsample_bytree=None, device=None, early_stopping_rounds=None,\n",
       "              enable_categorical=False,\n",
       "              eval_metric=<function custom_f1_score at 0x7f957ee9c680>,\n",
       "              feature_types=None, gamma=None, grow_policy=None,\n",
       "              importance_type=None, interaction_constraints=None,\n",
       "              learning_rate=0.09053510836808383, max_bin=None,\n",
       "              max_cat_threshold=None, max_cat_to_onehot=None,\n",
       "              max_delta_step=None, max_depth=12, max_leaves=None,\n",
       "              min_child_weight=60, missing=nan, monotone_constraints=None,\n",
       "              multi_strategy=None, n_estimators=214, n_jobs=None,\n",
       "              num_parallel_tree=None, objective='multi:softprob', ...)"
      ]
     },
     "execution_count": 21,
     "metadata": {},
     "output_type": "execute_result"
    }
   ],
   "source": [
    "n_estimators = int(study.best_trial.user_attrs['best_iteration']*1.2)\n",
    "xgb = xgboost.XGBClassifier(\n",
    "        eval_metric=eval_metric,\n",
    "        n_estimators=n_estimators,\n",
    "        **study.best_trial.params\n",
    "    )\n",
    "xgb.fit(\n",
    "    ssp.vstack((X_train, X_val)), \n",
    "    np.concatenate((y_train_enc, y_val_enc)),\n",
    "    verbose=1,\n",
    ")"
   ]
  },
  {
   "cell_type": "code",
   "execution_count": 22,
   "id": "d4010b2a",
   "metadata": {
    "execution": {
     "iopub.execute_input": "2025-05-14T16:25:35.495255Z",
     "iopub.status.busy": "2025-05-14T16:25:35.494795Z",
     "iopub.status.idle": "2025-05-14T16:25:35.654638Z",
     "shell.execute_reply": "2025-05-14T16:25:35.654265Z"
    },
    "papermill": {
     "duration": 0.219349,
     "end_time": "2025-05-14T16:25:35.655561",
     "exception": false,
     "start_time": "2025-05-14T16:25:35.436212",
     "status": "completed"
    },
    "tags": []
   },
   "outputs": [
    {
     "data": {
      "text/plain": [
       "['/scratch_isilon/groups/singlecell/shared/projects/Inflammation-PBMCs-Atlas/03_downstream_analysis/08_gene_importance/xgboost_external_validation/xgboost_TopN_genes/results_20/best_model/T_CD4_NonNaive_shap_disease_NOstudy_1_xgb.json']"
      ]
     },
     "execution_count": 22,
     "metadata": {},
     "output_type": "execute_result"
    }
   ],
   "source": [
    "out_dir = here(f'03_downstream_analysis/08_gene_importance/xgboost_external_validation/xgboost_TopN_genes/results_{N_GENES}/best_model')\n",
    "\n",
    "if not os.path.exists(out_dir):\n",
    "    os.makedirs(out_dir)\n",
    "    \n",
    "joblib.dump(xgb, os.path.join(out_dir, f'{CELL_TYPE}_{SEED}_{TEST_SPLIT_IDX}_xgb.json'))"
   ]
  },
  {
   "cell_type": "code",
   "execution_count": 23,
   "id": "98858238",
   "metadata": {
    "execution": {
     "iopub.execute_input": "2025-05-14T16:25:35.675797Z",
     "iopub.status.busy": "2025-05-14T16:25:35.675328Z",
     "iopub.status.idle": "2025-05-14T16:25:36.910099Z",
     "shell.execute_reply": "2025-05-14T16:25:36.909679Z"
    },
    "papermill": {
     "duration": 1.246106,
     "end_time": "2025-05-14T16:25:36.911291",
     "exception": false,
     "start_time": "2025-05-14T16:25:35.665185",
     "status": "completed"
    },
    "tags": []
   },
   "outputs": [],
   "source": [
    "df_pred_test = pd.DataFrame(dict(\n",
    "    cell_id=train_adata.obs.iloc[test_idxs].index.values,\n",
    "    y_true=y_test, \n",
    "    y_true_code=y_test_enc, \n",
    "    y_pred=xgb.predict(X_test))).set_index('cell_id')"
   ]
  },
  {
   "cell_type": "code",
   "execution_count": 24,
   "id": "a733ef8b",
   "metadata": {
    "execution": {
     "iopub.execute_input": "2025-05-14T16:25:36.930679Z",
     "iopub.status.busy": "2025-05-14T16:25:36.930378Z",
     "iopub.status.idle": "2025-05-14T16:25:37.111247Z",
     "shell.execute_reply": "2025-05-14T16:25:37.110706Z"
    },
    "papermill": {
     "duration": 0.191918,
     "end_time": "2025-05-14T16:25:37.112272",
     "exception": false,
     "start_time": "2025-05-14T16:25:36.920354",
     "status": "completed"
    },
    "tags": []
   },
   "outputs": [],
   "source": [
    "out_dir = here(f'03_downstream_analysis/08_gene_importance/xgboost_external_validation/xgboost_TopN_genes/results_{N_GENES}/predictions')\n",
    "\n",
    "if not os.path.exists(out_dir):\n",
    "    os.makedirs(out_dir)\n",
    "    \n",
    "df_pred_test.to_csv(os.path.join(out_dir, f'{CELL_TYPE}_{SEED}_{TEST_SPLIT_IDX}_pred_test.zip'))"
   ]
  },
  {
   "cell_type": "code",
   "execution_count": 25,
   "id": "06aad307",
   "metadata": {
    "execution": {
     "iopub.execute_input": "2025-05-14T16:25:37.131903Z",
     "iopub.status.busy": "2025-05-14T16:25:37.131443Z",
     "iopub.status.idle": "2025-05-14T16:25:37.151379Z",
     "shell.execute_reply": "2025-05-14T16:25:37.150979Z"
    },
    "papermill": {
     "duration": 0.030673,
     "end_time": "2025-05-14T16:25:37.152235",
     "exception": false,
     "start_time": "2025-05-14T16:25:37.121562",
     "status": "completed"
    },
    "tags": []
   },
   "outputs": [
    {
     "name": "stderr",
     "output_type": "stream",
     "text": [
      "/scratch_isilon/groups/singlecell/shared/conda_env/xgboost-cpu/lib/python3.12/site-packages/sklearn/metrics/_classification.py:2466: UserWarning: y_pred contains classes not in y_true\n",
      "  warnings.warn(\"y_pred contains classes not in y_true\")\n"
     ]
    }
   ],
   "source": [
    "metrics_dict = dict(\n",
    "    BAS=balanced_accuracy_score(y_true=df_pred_test.y_true_code, y_pred=df_pred_test.y_pred), WF1=f1_score(y_true=df_pred_test.y_true_code, y_pred=df_pred_test.y_pred,average='weighted'))"
   ]
  },
  {
   "cell_type": "code",
   "execution_count": 26,
   "id": "0ea2a8bf",
   "metadata": {
    "execution": {
     "iopub.execute_input": "2025-05-14T16:25:37.171041Z",
     "iopub.status.busy": "2025-05-14T16:25:37.170763Z",
     "iopub.status.idle": "2025-05-14T16:25:37.174075Z",
     "shell.execute_reply": "2025-05-14T16:25:37.173732Z"
    },
    "papermill": {
     "duration": 0.013498,
     "end_time": "2025-05-14T16:25:37.174853",
     "exception": false,
     "start_time": "2025-05-14T16:25:37.161355",
     "status": "completed"
    },
    "tags": []
   },
   "outputs": [
    {
     "data": {
      "text/plain": [
       "{'BAS': 0.7105230259739196, 'WF1': 0.8567509141403801}"
      ]
     },
     "execution_count": 26,
     "metadata": {},
     "output_type": "execute_result"
    }
   ],
   "source": [
    "metrics_dict"
   ]
  },
  {
   "cell_type": "code",
   "execution_count": 27,
   "id": "430c94e8",
   "metadata": {
    "execution": {
     "iopub.execute_input": "2025-05-14T16:25:37.193244Z",
     "iopub.status.busy": "2025-05-14T16:25:37.192992Z",
     "iopub.status.idle": "2025-05-14T16:25:37.202702Z",
     "shell.execute_reply": "2025-05-14T16:25:37.202334Z"
    },
    "papermill": {
     "duration": 0.020035,
     "end_time": "2025-05-14T16:25:37.203515",
     "exception": false,
     "start_time": "2025-05-14T16:25:37.183480",
     "status": "completed"
    },
    "tags": []
   },
   "outputs": [
    {
     "data": {
      "text/html": [
       "<div>\n",
       "<style scoped>\n",
       "    .dataframe tbody tr th:only-of-type {\n",
       "        vertical-align: middle;\n",
       "    }\n",
       "\n",
       "    .dataframe tbody tr th {\n",
       "        vertical-align: top;\n",
       "    }\n",
       "\n",
       "    .dataframe thead th {\n",
       "        text-align: right;\n",
       "    }\n",
       "</style>\n",
       "<table border=\"1\" class=\"dataframe\">\n",
       "  <thead>\n",
       "    <tr style=\"text-align: right;\">\n",
       "      <th></th>\n",
       "      <th>BAS</th>\n",
       "      <th>WF1</th>\n",
       "      <th>split_idx</th>\n",
       "      <th>gene_set_seed</th>\n",
       "      <th>cell_type</th>\n",
       "    </tr>\n",
       "  </thead>\n",
       "  <tbody>\n",
       "    <tr>\n",
       "      <th>0</th>\n",
       "      <td>0.710523</td>\n",
       "      <td>0.856751</td>\n",
       "      <td>1</td>\n",
       "      <td>shap_disease_NOstudy</td>\n",
       "      <td>T_CD4_NonNaive</td>\n",
       "    </tr>\n",
       "  </tbody>\n",
       "</table>\n",
       "</div>"
      ],
      "text/plain": [
       "        BAS       WF1  split_idx         gene_set_seed       cell_type\n",
       "0  0.710523  0.856751          1  shap_disease_NOstudy  T_CD4_NonNaive"
      ]
     },
     "execution_count": 27,
     "metadata": {},
     "output_type": "execute_result"
    }
   ],
   "source": [
    "metrics_df = pd.DataFrame.from_dict([metrics_dict]).assign(split_idx=TEST_SPLIT_IDX, gene_set_seed=SEED, cell_type=CELL_TYPE)\n",
    "metrics_df"
   ]
  },
  {
   "cell_type": "code",
   "execution_count": 28,
   "id": "7c3c2977",
   "metadata": {
    "execution": {
     "iopub.execute_input": "2025-05-14T16:25:37.222916Z",
     "iopub.status.busy": "2025-05-14T16:25:37.222393Z",
     "iopub.status.idle": "2025-05-14T16:25:37.240583Z",
     "shell.execute_reply": "2025-05-14T16:25:37.240132Z"
    },
    "papermill": {
     "duration": 0.029098,
     "end_time": "2025-05-14T16:25:37.241493",
     "exception": false,
     "start_time": "2025-05-14T16:25:37.212395",
     "status": "completed"
    },
    "tags": []
   },
   "outputs": [],
   "source": [
    "out_dir = here(f'03_downstream_analysis/08_gene_importance/xgboost_external_validation/xgboost_TopN_genes/results_{N_GENES}/metrics')\n",
    "\n",
    "if not os.path.exists(out_dir):\n",
    "    os.makedirs(out_dir)\n",
    "    \n",
    "metrics_df.to_csv(os.path.join(out_dir, f'{CELL_TYPE}_{SEED}_{TEST_SPLIT_IDX}_metrics.zip'))"
   ]
  }
 ],
 "metadata": {
  "kernelspec": {
   "display_name": "Python 3 (ipykernel)",
   "language": "python",
   "name": "python3"
  },
  "language_info": {
   "codemirror_mode": {
    "name": "ipython",
    "version": 3
   },
   "file_extension": ".py",
   "mimetype": "text/x-python",
   "name": "python",
   "nbconvert_exporter": "python",
   "pygments_lexer": "ipython3",
   "version": "3.12.5"
  },
  "papermill": {
   "default_parameters": {},
   "duration": 1065.6744,
   "end_time": "2025-05-14T16:25:37.868108",
   "environment_variables": {},
   "exception": null,
   "input_path": "02_xgboost_fitting_external_20genes.ipynb",
   "output_path": "results_20/executed_notebooks/xgboost_fitting_external_CT_T_CD4_NonNaive_GS_shap_disease_NOstudy_seed1.ipynb",
   "parameters": {
    "CELL_TYPE": "T_CD4_NonNaive",
    "SEED": "shap_disease_NOstudy",
    "TEST_SPLIT_IDX": 1
   },
   "start_time": "2025-05-14T16:07:52.193708",
   "version": "2.6.0"
  }
 },
 "nbformat": 4,
 "nbformat_minor": 5
}