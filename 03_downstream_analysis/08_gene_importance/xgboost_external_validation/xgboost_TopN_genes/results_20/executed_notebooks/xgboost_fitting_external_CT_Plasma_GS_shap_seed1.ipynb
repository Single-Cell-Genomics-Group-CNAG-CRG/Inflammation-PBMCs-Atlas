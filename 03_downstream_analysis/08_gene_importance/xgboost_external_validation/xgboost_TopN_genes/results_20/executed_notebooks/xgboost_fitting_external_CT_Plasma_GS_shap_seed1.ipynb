{
 "cells": [
  {
   "cell_type": "code",
   "execution_count": 1,
   "id": "2d49a95a",
   "metadata": {
    "editable": true,
    "execution": {
     "iopub.execute_input": "2025-05-14T16:10:28.633251Z",
     "iopub.status.busy": "2025-05-14T16:10:28.632832Z",
     "iopub.status.idle": "2025-05-14T16:10:28.635578Z",
     "shell.execute_reply": "2025-05-14T16:10:28.635275Z"
    },
    "papermill": {
     "duration": 0.011807,
     "end_time": "2025-05-14T16:10:28.636545",
     "exception": false,
     "start_time": "2025-05-14T16:10:28.624738",
     "status": "completed"
    },
    "slideshow": {
     "slide_type": ""
    },
    "tags": [
     "parameters"
    ]
   },
   "outputs": [],
   "source": [
    "CELL_TYPE = 'pDC'\n",
    "N_GENES: int = 20\n",
    "SEED = 'shap_studyID' #'disease_NOstudy' 'study_NOdisease' or 'int' or 'shap_studyID'\n",
    "TEST_SPLIT_IDX: int = 1 #[0,4]"
   ]
  },
  {
   "cell_type": "code",
   "execution_count": 2,
   "id": "c75ecac8",
   "metadata": {
    "execution": {
     "iopub.execute_input": "2025-05-14T16:10:28.649705Z",
     "iopub.status.busy": "2025-05-14T16:10:28.649474Z",
     "iopub.status.idle": "2025-05-14T16:10:28.651465Z",
     "shell.execute_reply": "2025-05-14T16:10:28.651151Z"
    },
    "papermill": {
     "duration": 0.009431,
     "end_time": "2025-05-14T16:10:28.652334",
     "exception": false,
     "start_time": "2025-05-14T16:10:28.642903",
     "status": "completed"
    },
    "tags": [
     "injected-parameters"
    ]
   },
   "outputs": [],
   "source": [
    "# Parameters\n",
    "CELL_TYPE = \"Plasma\"\n",
    "SEED = \"shap\"\n",
    "TEST_SPLIT_IDX = 1\n"
   ]
  },
  {
   "cell_type": "code",
   "execution_count": 3,
   "id": "9fec9031",
   "metadata": {
    "execution": {
     "iopub.execute_input": "2025-05-14T16:10:28.665617Z",
     "iopub.status.busy": "2025-05-14T16:10:28.665285Z",
     "iopub.status.idle": "2025-05-14T16:10:28.667342Z",
     "shell.execute_reply": "2025-05-14T16:10:28.667042Z"
    },
    "papermill": {
     "duration": 0.009796,
     "end_time": "2025-05-14T16:10:28.668174",
     "exception": false,
     "start_time": "2025-05-14T16:10:28.658378",
     "status": "completed"
    },
    "tags": []
   },
   "outputs": [],
   "source": [
    "N_SPLITS: int = 5\n",
    "N_TRIALS: int = 50"
   ]
  },
  {
   "cell_type": "code",
   "execution_count": 4,
   "id": "d7f4c8b3",
   "metadata": {
    "execution": {
     "iopub.execute_input": "2025-05-14T16:10:28.681590Z",
     "iopub.status.busy": "2025-05-14T16:10:28.681383Z",
     "iopub.status.idle": "2025-05-14T16:10:30.319760Z",
     "shell.execute_reply": "2025-05-14T16:10:30.319315Z"
    },
    "papermill": {
     "duration": 1.647019,
     "end_time": "2025-05-14T16:10:30.321000",
     "exception": false,
     "start_time": "2025-05-14T16:10:28.673981",
     "status": "completed"
    },
    "tags": []
   },
   "outputs": [],
   "source": [
    "import os\n",
    "import sys\n",
    "from pyprojroot.here import here\n",
    "import pandas as pd\n",
    "import anndata as ad\n",
    "import numpy as np\n",
    "import math\n",
    "from sklearn.model_selection import StratifiedGroupKFold\n",
    "from sklearn.preprocessing import LabelEncoder\n",
    "from sklearn.metrics import f1_score\n",
    "import matplotlib.pyplot as plt\n",
    "import seaborn as sns\n",
    "from itertools import product\n",
    "from sklearn.metrics import balanced_accuracy_score, f1_score\n",
    "import optuna\n",
    "\n",
    "import joblib\n",
    "import pickle\n",
    "import datetime\n",
    "\n",
    "import collections\n",
    "\n",
    "import xgboost\n",
    "from sklearn.preprocessing import LabelEncoder\n",
    "\n",
    "import scipy.sparse as ssp\n",
    "import joblib\n",
    "\n",
    "from dotenv import load_dotenv"
   ]
  },
  {
   "cell_type": "code",
   "execution_count": 5,
   "id": "87ca88bc",
   "metadata": {
    "execution": {
     "iopub.execute_input": "2025-05-14T16:10:30.334073Z",
     "iopub.status.busy": "2025-05-14T16:10:30.333747Z",
     "iopub.status.idle": "2025-05-14T16:10:30.339291Z",
     "shell.execute_reply": "2025-05-14T16:10:30.338983Z"
    },
    "papermill": {
     "duration": 0.012634,
     "end_time": "2025-05-14T16:10:30.340080",
     "exception": false,
     "start_time": "2025-05-14T16:10:30.327446",
     "status": "completed"
    },
    "tags": []
   },
   "outputs": [
    {
     "data": {
      "text/plain": [
       "True"
      ]
     },
     "execution_count": 5,
     "metadata": {},
     "output_type": "execute_result"
    }
   ],
   "source": [
    "load_dotenv()"
   ]
  },
  {
   "cell_type": "markdown",
   "id": "3f4e9b6f",
   "metadata": {
    "papermill": {
     "duration": 0.005935,
     "end_time": "2025-05-14T16:10:30.351849",
     "exception": false,
     "start_time": "2025-05-14T16:10:30.345914",
     "status": "completed"
    },
    "tags": []
   },
   "source": [
    "# LOAD DATASET"
   ]
  },
  {
   "cell_type": "code",
   "execution_count": 6,
   "id": "6c4427ca",
   "metadata": {
    "execution": {
     "iopub.execute_input": "2025-05-14T16:10:30.363820Z",
     "iopub.status.busy": "2025-05-14T16:10:30.363616Z",
     "iopub.status.idle": "2025-05-14T16:10:30.403244Z",
     "shell.execute_reply": "2025-05-14T16:10:30.402830Z"
    },
    "papermill": {
     "duration": 0.046871,
     "end_time": "2025-05-14T16:10:30.404353",
     "exception": false,
     "start_time": "2025-05-14T16:10:30.357482",
     "status": "completed"
    },
    "tags": []
   },
   "outputs": [],
   "source": [
    "train_adata = ad.read_h5ad(\n",
    "    here(f'03_downstream_analysis/08_gene_importance/xgboost_external_validation/xgboost_TopN_genes/data_cellTypes/EXTERNAL_{CELL_TYPE}.filtered.log1p.h5ad')\n",
    ")"
   ]
  },
  {
   "cell_type": "code",
   "execution_count": 7,
   "id": "f5e41fdf",
   "metadata": {
    "execution": {
     "iopub.execute_input": "2025-05-14T16:10:30.417569Z",
     "iopub.status.busy": "2025-05-14T16:10:30.417239Z",
     "iopub.status.idle": "2025-05-14T16:10:30.427063Z",
     "shell.execute_reply": "2025-05-14T16:10:30.426718Z"
    },
    "papermill": {
     "duration": 0.017436,
     "end_time": "2025-05-14T16:10:30.427924",
     "exception": false,
     "start_time": "2025-05-14T16:10:30.410488",
     "status": "completed"
    },
    "tags": []
   },
   "outputs": [
    {
     "name": "stdout",
     "output_type": "stream",
     "text": [
      "['ENSG00000111275' 'ENSG00000072958' 'ENSG00000099624' 'ENSG00000167863'\n",
      " 'ENSG00000185883' 'ENSG00000176788' 'ENSG00000069399' 'ENSG00000214212'\n",
      " 'ENSG00000182985' 'ENSG00000184451' 'ENSG00000139193' 'ENSG00000135404'\n",
      " 'ENSG00000114013' 'ENSG00000124762' 'ENSG00000197766' 'ENSG00000013297'\n",
      " 'ENSG00000169583' 'ENSG00000162368' 'ENSG00000213145' 'ENSG00000101439'\n",
      " 'ENSG00000117984' 'ENSG00000186810' 'ENSG00000121966' 'ENSG00000051523'\n",
      " 'ENSG00000088986' 'ENSG00000254772' 'ENSG00000142227' 'ENSG00000189283'\n",
      " 'ENSG00000134285' 'ENSG00000170345' 'ENSG00000177885' 'ENSG00000084207'\n",
      " 'ENSG00000136732' 'ENSG00000184897' 'ENSG00000197061' 'ENSG00000051108'\n",
      " 'ENSG00000234745' 'ENSG00000204525' 'ENSG00000196735' 'ENSG00000237541'\n",
      " 'ENSG00000179344' 'ENSG00000198502' 'ENSG00000108622' 'ENSG00000076662'\n",
      " 'ENSG00000165949' 'ENSG00000216490' 'ENSG00000137959' 'ENSG00000126709'\n",
      " 'ENSG00000115267' 'ENSG00000185745' 'ENSG00000185885' 'ENSG00000159110'\n",
      " 'ENSG00000211895' 'ENSG00000211890' 'ENSG00000211896' 'ENSG00000211893'\n",
      " 'ENSG00000211897' 'ENSG00000211892' 'ENSG00000103522' 'ENSG00000137265'\n",
      " 'ENSG00000213928' 'ENSG00000150093' 'ENSG00000139626' 'ENSG00000135916'\n",
      " 'ENSG00000132465' 'ENSG00000177606' 'ENSG00000126214' 'ENSG00000127528'\n",
      " 'ENSG00000109787' 'ENSG00000100097' 'ENSG00000203896' 'ENSG00000204482'\n",
      " 'ENSG00000154589' 'ENSG00000090382' 'ENSG00000185022' 'ENSG00000277443'\n",
      " 'ENSG00000125148' 'ENSG00000157601' 'ENSG00000183486' 'ENSG00000152082'\n",
      " 'ENSG00000144802' 'ENSG00000243678' 'ENSG00000119655' 'ENSG00000089127'\n",
      " 'ENSG00000229474' 'ENSG00000163737' 'ENSG00000146278' 'ENSG00000057657'\n",
      " 'ENSG00000143333' 'ENSG00000219200' 'ENSG00000026297' 'ENSG00000136514'\n",
      " 'ENSG00000163221' 'ENSG00000143546' 'ENSG00000162512' 'ENSG00000150961'\n",
      " 'ENSG00000118515' 'ENSG00000135604' 'ENSG00000183508' 'ENSG00000105329'\n",
      " 'ENSG00000137801' 'ENSG00000163659' 'ENSG00000243749' 'ENSG00000102524'\n",
      " 'ENSG00000181029' 'ENSG00000025708' 'ENSG00000110057']\n"
     ]
    }
   ],
   "source": [
    "if SEED != 'all':\n",
    "    gene_subset = np.load(here(f'03_downstream_analysis/08_gene_importance/xgboost_external_validation/shap_gene_selection/gene_subsets_{N_GENES}/{CELL_TYPE}_{SEED}.npy'), allow_pickle=True)\n",
    "    train_adata = train_adata[:,gene_subset]\n",
    "    print(gene_subset)\n",
    "elif SEED == 'all':\n",
    "    print('Using all genes')\n",
    "else:\n",
    "    raise ValueError()"
   ]
  },
  {
   "cell_type": "code",
   "execution_count": 8,
   "id": "995721bb",
   "metadata": {
    "execution": {
     "iopub.execute_input": "2025-05-14T16:10:30.440395Z",
     "iopub.status.busy": "2025-05-14T16:10:30.440160Z",
     "iopub.status.idle": "2025-05-14T16:10:30.443009Z",
     "shell.execute_reply": "2025-05-14T16:10:30.442677Z"
    },
    "papermill": {
     "duration": 0.00994,
     "end_time": "2025-05-14T16:10:30.443933",
     "exception": false,
     "start_time": "2025-05-14T16:10:30.433993",
     "status": "completed"
    },
    "tags": []
   },
   "outputs": [
    {
     "data": {
      "text/plain": [
       "(542, 107)"
      ]
     },
     "execution_count": 8,
     "metadata": {},
     "output_type": "execute_result"
    }
   ],
   "source": [
    "train_adata.shape"
   ]
  },
  {
   "cell_type": "code",
   "execution_count": 9,
   "id": "6a1adbec",
   "metadata": {
    "execution": {
     "iopub.execute_input": "2025-05-14T16:10:30.457288Z",
     "iopub.status.busy": "2025-05-14T16:10:30.457034Z",
     "iopub.status.idle": "2025-05-14T16:10:30.460353Z",
     "shell.execute_reply": "2025-05-14T16:10:30.460059Z"
    },
    "papermill": {
     "duration": 0.011375,
     "end_time": "2025-05-14T16:10:30.461092",
     "exception": false,
     "start_time": "2025-05-14T16:10:30.449717",
     "status": "completed"
    },
    "tags": []
   },
   "outputs": [
    {
     "data": {
      "text/plain": [
       "['RA', 'COVID', 'healthy', 'HIV', 'cirrhosis', 'CD', 'SLE', 'sepsis']\n",
       "Categories (8, object): ['CD', 'COVID', 'HIV', 'RA', 'SLE', 'cirrhosis', 'healthy', 'sepsis']"
      ]
     },
     "execution_count": 9,
     "metadata": {},
     "output_type": "execute_result"
    }
   ],
   "source": [
    "train_adata.obs.disease.unique()"
   ]
  },
  {
   "cell_type": "code",
   "execution_count": 10,
   "id": "5150c486",
   "metadata": {
    "execution": {
     "iopub.execute_input": "2025-05-14T16:10:30.473800Z",
     "iopub.status.busy": "2025-05-14T16:10:30.473519Z",
     "iopub.status.idle": "2025-05-14T16:10:30.476904Z",
     "shell.execute_reply": "2025-05-14T16:10:30.476602Z"
    },
    "papermill": {
     "duration": 0.010639,
     "end_time": "2025-05-14T16:10:30.477803",
     "exception": false,
     "start_time": "2025-05-14T16:10:30.467164",
     "status": "completed"
    },
    "tags": []
   },
   "outputs": [
    {
     "data": {
      "text/plain": [
       "['SCGT00val_I0364_T0', 'SCGT00val_I036019_T0', 'SCGT00val_I036028_T0', 'SCGT00val_I036024_T0', 'SCGT00val_I036016_T0', ..., '10XGenomics_10XHC2_T0', '10XGenomics_10XHC3_T0', '10XGenomics_10XHC5_T0', '10XGenomics_10XHC7_T0', '10XGenomics_10XHC8_T0']\n",
       "Length: 74\n",
       "Categories (74, object): ['10XGenomics_10XHC1_T0', '10XGenomics_10XHC2_T0', '10XGenomics_10XHC3_T0', '10XGenomics_10XHC4_T0', ..., 'Savage2021_BRISL6_T0', 'Savage2021_BRISL7_T0', 'Savage2021_PIDA_T0', 'Savage2021_PIDB_T0']"
      ]
     },
     "execution_count": 10,
     "metadata": {},
     "output_type": "execute_result"
    }
   ],
   "source": [
    "train_adata.obs.sampleID.unique()"
   ]
  },
  {
   "cell_type": "code",
   "execution_count": 11,
   "id": "cee514f1",
   "metadata": {
    "execution": {
     "iopub.execute_input": "2025-05-14T16:10:30.503875Z",
     "iopub.status.busy": "2025-05-14T16:10:30.503699Z",
     "iopub.status.idle": "2025-05-14T16:10:30.531324Z",
     "shell.execute_reply": "2025-05-14T16:10:30.531004Z"
    },
    "papermill": {
     "duration": 0.035482,
     "end_time": "2025-05-14T16:10:30.532194",
     "exception": false,
     "start_time": "2025-05-14T16:10:30.496712",
     "status": "completed"
    },
    "tags": []
   },
   "outputs": [],
   "source": [
    "all_idxs = np.arange(train_adata.obs.shape[0])\n",
    "left_out_splits = [s[1] for s in StratifiedGroupKFold(n_splits=N_SPLITS).split(all_idxs, train_adata.obs.disease, train_adata.obs.sampleID)]"
   ]
  },
  {
   "cell_type": "code",
   "execution_count": 12,
   "id": "ea8950e6",
   "metadata": {
    "execution": {
     "iopub.execute_input": "2025-05-14T16:10:30.545396Z",
     "iopub.status.busy": "2025-05-14T16:10:30.545131Z",
     "iopub.status.idle": "2025-05-14T16:10:30.548110Z",
     "shell.execute_reply": "2025-05-14T16:10:30.547819Z"
    },
    "papermill": {
     "duration": 0.010539,
     "end_time": "2025-05-14T16:10:30.548965",
     "exception": false,
     "start_time": "2025-05-14T16:10:30.538426",
     "status": "completed"
    },
    "tags": []
   },
   "outputs": [
    {
     "data": {
      "text/plain": [
       "([0, 3, 4], 2, 1)"
      ]
     },
     "execution_count": 12,
     "metadata": {},
     "output_type": "execute_result"
    }
   ],
   "source": [
    "TRAIN_SPLIT_IDXS = [0,1,2,3,4]\n",
    "VAL_SPLIT_IDX = (TEST_SPLIT_IDX + 1) % 5\n",
    "TRAIN_SPLIT_IDXS.remove(TEST_SPLIT_IDX)\n",
    "TRAIN_SPLIT_IDXS.remove(VAL_SPLIT_IDX)\n",
    "TRAIN_SPLIT_IDXS, VAL_SPLIT_IDX, TEST_SPLIT_IDX"
   ]
  },
  {
   "cell_type": "code",
   "execution_count": 13,
   "id": "d1d761de",
   "metadata": {
    "execution": {
     "iopub.execute_input": "2025-05-14T16:10:30.561778Z",
     "iopub.status.busy": "2025-05-14T16:10:30.561538Z",
     "iopub.status.idle": "2025-05-14T16:10:30.563760Z",
     "shell.execute_reply": "2025-05-14T16:10:30.563462Z"
    },
    "papermill": {
     "duration": 0.009554,
     "end_time": "2025-05-14T16:10:30.564604",
     "exception": false,
     "start_time": "2025-05-14T16:10:30.555050",
     "status": "completed"
    },
    "tags": []
   },
   "outputs": [],
   "source": [
    "train_idxs = np.concatenate([left_out_splits[idx] for idx in TRAIN_SPLIT_IDXS])\n",
    "val_idxs = left_out_splits[VAL_SPLIT_IDX]\n",
    "test_idxs = left_out_splits[TEST_SPLIT_IDX]"
   ]
  },
  {
   "cell_type": "markdown",
   "id": "8d892e78",
   "metadata": {
    "papermill": {
     "duration": 0.005732,
     "end_time": "2025-05-14T16:10:30.576302",
     "exception": false,
     "start_time": "2025-05-14T16:10:30.570570",
     "status": "completed"
    },
    "tags": []
   },
   "source": [
    "### SUBSET DATASET INTO TRAIN/TEST/VAL SPLITS"
   ]
  },
  {
   "cell_type": "code",
   "execution_count": 14,
   "id": "7fa0b1e4",
   "metadata": {
    "execution": {
     "iopub.execute_input": "2025-05-14T16:10:30.589823Z",
     "iopub.status.busy": "2025-05-14T16:10:30.589591Z",
     "iopub.status.idle": "2025-05-14T16:10:30.595218Z",
     "shell.execute_reply": "2025-05-14T16:10:30.594917Z"
    },
    "papermill": {
     "duration": 0.013618,
     "end_time": "2025-05-14T16:10:30.596038",
     "exception": false,
     "start_time": "2025-05-14T16:10:30.582420",
     "status": "completed"
    },
    "tags": []
   },
   "outputs": [
    {
     "data": {
      "text/plain": [
       "((333, 107), (107, 107), (102, 107))"
      ]
     },
     "execution_count": 14,
     "metadata": {},
     "output_type": "execute_result"
    }
   ],
   "source": [
    "X_train = train_adata.X[train_idxs]\n",
    "X_test = train_adata.X[test_idxs]\n",
    "X_val = train_adata.X[val_idxs]\n",
    "X_train.shape, X_test.shape, X_val.shape"
   ]
  },
  {
   "cell_type": "code",
   "execution_count": 15,
   "id": "90ef7931",
   "metadata": {
    "execution": {
     "iopub.execute_input": "2025-05-14T16:10:30.609392Z",
     "iopub.status.busy": "2025-05-14T16:10:30.609200Z",
     "iopub.status.idle": "2025-05-14T16:10:30.613774Z",
     "shell.execute_reply": "2025-05-14T16:10:30.613460Z"
    },
    "papermill": {
     "duration": 0.012161,
     "end_time": "2025-05-14T16:10:30.614630",
     "exception": false,
     "start_time": "2025-05-14T16:10:30.602469",
     "status": "completed"
    },
    "tags": []
   },
   "outputs": [
    {
     "data": {
      "text/plain": [
       "((333,), (107,), (102,))"
      ]
     },
     "execution_count": 15,
     "metadata": {},
     "output_type": "execute_result"
    }
   ],
   "source": [
    "y_train = train_adata.obs.iloc[train_idxs].disease.values.astype(str)\n",
    "y_test = train_adata.obs.iloc[test_idxs].disease.values.astype(str)\n",
    "y_val = train_adata.obs.iloc[val_idxs].disease.values.astype(str)\n",
    "y_train.shape, y_test.shape, y_val.shape"
   ]
  },
  {
   "cell_type": "code",
   "execution_count": 16,
   "id": "9b3aef28",
   "metadata": {
    "execution": {
     "iopub.execute_input": "2025-05-14T16:10:30.627993Z",
     "iopub.status.busy": "2025-05-14T16:10:30.627687Z",
     "iopub.status.idle": "2025-05-14T16:10:30.630279Z",
     "shell.execute_reply": "2025-05-14T16:10:30.629987Z"
    },
    "papermill": {
     "duration": 0.010099,
     "end_time": "2025-05-14T16:10:30.631103",
     "exception": false,
     "start_time": "2025-05-14T16:10:30.621004",
     "status": "completed"
    },
    "tags": []
   },
   "outputs": [],
   "source": [
    "lenc = LabelEncoder()\n",
    "y_train_enc = lenc.fit_transform(y_train)\n",
    "y_val_enc = lenc.transform(y_val)\n",
    "y_test_enc = lenc.transform(y_test)"
   ]
  },
  {
   "cell_type": "markdown",
   "id": "d5791b53",
   "metadata": {
    "papermill": {
     "duration": 0.00656,
     "end_time": "2025-05-14T16:10:30.643798",
     "exception": false,
     "start_time": "2025-05-14T16:10:30.637238",
     "status": "completed"
    },
    "tags": []
   },
   "source": [
    "### GENERATE F1 "
   ]
  },
  {
   "cell_type": "code",
   "execution_count": 17,
   "id": "eec2d613",
   "metadata": {
    "execution": {
     "iopub.execute_input": "2025-05-14T16:10:30.656903Z",
     "iopub.status.busy": "2025-05-14T16:10:30.656726Z",
     "iopub.status.idle": "2025-05-14T16:10:30.658899Z",
     "shell.execute_reply": "2025-05-14T16:10:30.658615Z"
    },
    "papermill": {
     "duration": 0.009924,
     "end_time": "2025-05-14T16:10:30.659772",
     "exception": false,
     "start_time": "2025-05-14T16:10:30.649848",
     "status": "completed"
    },
    "tags": []
   },
   "outputs": [],
   "source": [
    "def custom_f1_score(y_true, y_pred):\n",
    "    return -f1_score(y_true, y_pred.argmax(1), average='weighted')"
   ]
  },
  {
   "cell_type": "code",
   "execution_count": 18,
   "id": "24c5b072",
   "metadata": {
    "execution": {
     "iopub.execute_input": "2025-05-14T16:10:30.674714Z",
     "iopub.status.busy": "2025-05-14T16:10:30.674390Z",
     "iopub.status.idle": "2025-05-14T16:10:30.677855Z",
     "shell.execute_reply": "2025-05-14T16:10:30.677553Z"
    },
    "papermill": {
     "duration": 0.01154,
     "end_time": "2025-05-14T16:10:30.678727",
     "exception": false,
     "start_time": "2025-05-14T16:10:30.667187",
     "status": "completed"
    },
    "tags": []
   },
   "outputs": [],
   "source": [
    "eval_metric=custom_f1_score\n",
    "eval_metric_name='custom_f1_score'\n",
    "\n",
    "def objective(trial):\n",
    "    params = {\n",
    "        'n_estimators': 1500,\n",
    "        'max_depth': trial.suggest_int('max_depth', 3, 20),\n",
    "        'min_child_weight': trial.suggest_int('min_child_weight', 1, 250),\n",
    "        'subsample': trial.suggest_float('subsample', 0.1, 1.0),\n",
    "        'colsample_bynode': trial.suggest_float('colsample_bynode', 0.1, 1.0),\n",
    "        'learning_rate': trial.suggest_float('learning_rate', 1e-3, 5e-1, log=True),\n",
    "    }\n",
    "    pruning_callback = optuna.integration.XGBoostPruningCallback(trial, f'validation_0-{eval_metric_name}')\n",
    "    es_callback = xgboost.callback.EarlyStopping(20, min_delta=0.001)\n",
    "    xgb = xgboost.XGBClassifier(\n",
    "        eval_metric=eval_metric,\n",
    "        callbacks=[pruning_callback, es_callback],\n",
    "        n_jobs=5,\n",
    "        **params\n",
    "    )\n",
    "    xgb.fit(\n",
    "        X_train, \n",
    "        y_train_enc, \n",
    "        verbose=0,\n",
    "        eval_set=[(X_val, y_val_enc)],\n",
    "    )\n",
    "    trial.set_user_attr('best_iteration', xgb.best_iteration)\n",
    "\n",
    "    return xgb.best_score"
   ]
  },
  {
   "cell_type": "code",
   "execution_count": 19,
   "id": "b1245a1b",
   "metadata": {
    "execution": {
     "iopub.execute_input": "2025-05-14T16:10:30.695228Z",
     "iopub.status.busy": "2025-05-14T16:10:30.694927Z",
     "iopub.status.idle": "2025-05-14T16:10:45.589323Z",
     "shell.execute_reply": "2025-05-14T16:10:45.588947Z"
    },
    "papermill": {
     "duration": 14.902315,
     "end_time": "2025-05-14T16:10:45.590202",
     "exception": false,
     "start_time": "2025-05-14T16:10:30.687887",
     "status": "completed"
    },
    "scrolled": true,
    "tags": []
   },
   "outputs": [
    {
     "name": "stderr",
     "output_type": "stream",
     "text": [
      "[I 2025-05-14 18:10:30,696] A new study created in memory with name: no-name-8f87bbde-e894-428b-b2e9-b86179f589ac\n"
     ]
    },
    {
     "name": "stderr",
     "output_type": "stream",
     "text": [
      "[I 2025-05-14 18:10:37,380] Trial 0 finished with value: -0.03313 and parameters: {'max_depth': 9, 'min_child_weight': 238, 'subsample': 0.7587945476302645, 'colsample_bynode': 0.6387926357773329, 'learning_rate': 0.0026368755339723046}. Best is trial 0 with value: -0.03313.\n"
     ]
    },
    {
     "name": "stderr",
     "output_type": "stream",
     "text": [
      "[I 2025-05-14 18:10:37,658] Trial 1 finished with value: -0.304724 and parameters: {'max_depth': 5, 'min_child_weight': 15, 'subsample': 0.8795585311974417, 'colsample_bynode': 0.6410035105688879, 'learning_rate': 0.08148293210105287}. Best is trial 1 with value: -0.304724.\n"
     ]
    },
    {
     "name": "stderr",
     "output_type": "stream",
     "text": [
      "[I 2025-05-14 18:10:37,776] Trial 2 finished with value: -0.03313 and parameters: {'max_depth': 3, 'min_child_weight': 243, 'subsample': 0.8491983767203796, 'colsample_bynode': 0.29110519961044856, 'learning_rate': 0.003095566460242371}. Best is trial 1 with value: -0.304724.\n"
     ]
    },
    {
     "name": "stderr",
     "output_type": "stream",
     "text": [
      "[I 2025-05-14 18:10:37,895] Trial 3 finished with value: -0.03313 and parameters: {'max_depth': 6, 'min_child_weight': 77, 'subsample': 0.5722807884690141, 'colsample_bynode': 0.48875051677790415, 'learning_rate': 0.006109683510122491}. Best is trial 1 with value: -0.304724.\n"
     ]
    },
    {
     "name": "stderr",
     "output_type": "stream",
     "text": [
      "[I 2025-05-14 18:10:38,014] Trial 4 finished with value: -0.03313 and parameters: {'max_depth': 14, 'min_child_weight': 35, 'subsample': 0.3629301836816964, 'colsample_bynode': 0.4297256589643226, 'learning_rate': 0.01701841881702917}. Best is trial 1 with value: -0.304724.\n"
     ]
    },
    {
     "name": "stderr",
     "output_type": "stream",
     "text": [
      "[I 2025-05-14 18:10:38,140] Trial 5 finished with value: -0.03313 and parameters: {'max_depth': 17, 'min_child_weight': 50, 'subsample': 0.5628109945722505, 'colsample_bynode': 0.6331731119758383, 'learning_rate': 0.0013346527038305934}. Best is trial 1 with value: -0.304724.\n"
     ]
    },
    {
     "name": "stderr",
     "output_type": "stream",
     "text": [
      "[I 2025-05-14 18:10:38,265] Trial 6 finished with value: -0.03313 and parameters: {'max_depth': 13, 'min_child_weight': 43, 'subsample': 0.1585464336867516, 'colsample_bynode': 0.9539969835279999, 'learning_rate': 0.4038423798071558}. Best is trial 1 with value: -0.304724.\n"
     ]
    },
    {
     "name": "stderr",
     "output_type": "stream",
     "text": [
      "[I 2025-05-14 18:10:38,389] Trial 7 finished with value: -0.03313 and parameters: {'max_depth': 17, 'min_child_weight': 77, 'subsample': 0.1879049026057455, 'colsample_bynode': 0.7158097238609412, 'learning_rate': 0.015415527060141935}. Best is trial 1 with value: -0.304724.\n"
     ]
    },
    {
     "name": "stderr",
     "output_type": "stream",
     "text": [
      "[I 2025-05-14 18:10:38,514] Trial 8 finished with value: -0.03313 and parameters: {'max_depth': 5, 'min_child_weight': 124, 'subsample': 0.13094966900369656, 'colsample_bynode': 0.9183883618709039, 'learning_rate': 0.004993895014755658}. Best is trial 1 with value: -0.304724.\n"
     ]
    },
    {
     "name": "stderr",
     "output_type": "stream",
     "text": [
      "[I 2025-05-14 18:10:38,637] Trial 9 finished with value: -0.03313 and parameters: {'max_depth': 14, 'min_child_weight': 78, 'subsample': 0.5680612190600297, 'colsample_bynode': 0.5920392514089517, 'learning_rate': 0.0031543990308330965}. Best is trial 1 with value: -0.304724.\n"
     ]
    },
    {
     "name": "stderr",
     "output_type": "stream",
     "text": [
      "[I 2025-05-14 18:10:39,010] Trial 10 finished with value: -0.406095 and parameters: {'max_depth': 9, 'min_child_weight': 2, 'subsample': 0.9725833997090791, 'colsample_bynode': 0.11616568805333755, 'learning_rate': 0.17780618353487967}. Best is trial 10 with value: -0.406095.\n"
     ]
    },
    {
     "name": "stderr",
     "output_type": "stream",
     "text": [
      "[I 2025-05-14 18:10:39,250] Trial 11 finished with value: -0.376528 and parameters: {'max_depth': 9, 'min_child_weight': 4, 'subsample': 0.9818290990185045, 'colsample_bynode': 0.17702656156719, 'learning_rate': 0.11568531411766632}. Best is trial 10 with value: -0.406095.\n"
     ]
    },
    {
     "name": "stderr",
     "output_type": "stream",
     "text": [
      "[I 2025-05-14 18:10:39,566] Trial 12 finished with value: -0.376551 and parameters: {'max_depth': 9, 'min_child_weight': 2, 'subsample': 0.9762317723681219, 'colsample_bynode': 0.1303670507685675, 'learning_rate': 0.14353293664472047}. Best is trial 10 with value: -0.406095.\n"
     ]
    },
    {
     "name": "stderr",
     "output_type": "stream",
     "text": [
      "[I 2025-05-14 18:10:39,702] Trial 13 finished with value: -0.03313 and parameters: {'max_depth': 10, 'min_child_weight': 173, 'subsample': 0.9990393512605992, 'colsample_bynode': 0.10388397775802007, 'learning_rate': 0.37291254806324053}. Best is trial 10 with value: -0.406095.\n"
     ]
    },
    {
     "name": "stderr",
     "output_type": "stream",
     "text": [
      "[I 2025-05-14 18:10:39,838] Trial 14 finished with value: -0.03313 and parameters: {'max_depth': 7, 'min_child_weight': 132, 'subsample': 0.7251427075087294, 'colsample_bynode': 0.2827065087684573, 'learning_rate': 0.07805789099500472}. Best is trial 10 with value: -0.406095.\n"
     ]
    },
    {
     "name": "stderr",
     "output_type": "stream",
     "text": [
      "[I 2025-05-14 18:10:40,087] Trial 15 finished with value: -0.406259 and parameters: {'max_depth': 20, 'min_child_weight': 2, 'subsample': 0.7161698798894325, 'colsample_bynode': 0.31554979471905614, 'learning_rate': 0.19723736175781964}. Best is trial 15 with value: -0.406259.\n"
     ]
    },
    {
     "name": "stderr",
     "output_type": "stream",
     "text": [
      "[I 2025-05-14 18:10:40,225] Trial 16 finished with value: -0.03313 and parameters: {'max_depth': 20, 'min_child_weight': 125, 'subsample': 0.6730263351162008, 'colsample_bynode': 0.3231598967437774, 'learning_rate': 0.03981038544023995}. Best is trial 15 with value: -0.406259.\n"
     ]
    },
    {
     "name": "stderr",
     "output_type": "stream",
     "text": [
      "[I 2025-05-14 18:10:40,362] Trial 17 finished with value: -0.03313 and parameters: {'max_depth': 20, 'min_child_weight': 183, 'subsample': 0.37310167079970213, 'colsample_bynode': 0.3825598252559864, 'learning_rate': 0.21642622102480416}. Best is trial 15 with value: -0.406259.\n"
     ]
    },
    {
     "name": "stderr",
     "output_type": "stream",
     "text": [
      "[I 2025-05-14 18:10:40,501] Trial 18 finished with value: -0.166667 and parameters: {'max_depth': 12, 'min_child_weight': 35, 'subsample': 0.82627557595022, 'colsample_bynode': 0.2216935231949378, 'learning_rate': 0.03584616718789388}. Best is trial 15 with value: -0.406259.\n"
     ]
    },
    {
     "name": "stderr",
     "output_type": "stream",
     "text": [
      "[I 2025-05-14 18:10:40,637] Trial 19 finished with value: -0.03313 and parameters: {'max_depth': 17, 'min_child_weight': 102, 'subsample': 0.6615650030016702, 'colsample_bynode': 0.22953128026070213, 'learning_rate': 0.23429781155006768}. Best is trial 15 with value: -0.406259.\n"
     ]
    },
    {
     "name": "stderr",
     "output_type": "stream",
     "text": [
      "[I 2025-05-14 18:10:40,775] Trial 20 finished with value: -0.03313 and parameters: {'max_depth': 15, 'min_child_weight': 60, 'subsample': 0.4281387178513411, 'colsample_bynode': 0.39955810525382657, 'learning_rate': 0.052276361631478065}. Best is trial 15 with value: -0.406259.\n"
     ]
    },
    {
     "name": "stderr",
     "output_type": "stream",
     "text": [
      "[I 2025-05-14 18:10:41,030] Trial 21 pruned. Trial was pruned at iteration 21.\n"
     ]
    },
    {
     "name": "stderr",
     "output_type": "stream",
     "text": [
      "[I 2025-05-14 18:10:41,173] Trial 22 pruned. Trial was pruned at iteration 21.\n"
     ]
    },
    {
     "name": "stderr",
     "output_type": "stream",
     "text": [
      "[I 2025-05-14 18:10:41,324] Trial 23 pruned. Trial was pruned at iteration 21.\n"
     ]
    },
    {
     "name": "stderr",
     "output_type": "stream",
     "text": [
      "[I 2025-05-14 18:10:41,462] Trial 24 finished with value: -0.166667 and parameters: {'max_depth': 8, 'min_child_weight': 60, 'subsample': 0.9304576241418754, 'colsample_bynode': 0.3376633298161329, 'learning_rate': 0.263961308534885}. Best is trial 15 with value: -0.406259.\n"
     ]
    },
    {
     "name": "stderr",
     "output_type": "stream",
     "text": [
      "[I 2025-05-14 18:10:41,659] Trial 25 finished with value: -0.376703 and parameters: {'max_depth': 3, 'min_child_weight': 2, 'subsample': 0.6886563865128211, 'colsample_bynode': 0.2282720019773668, 'learning_rate': 0.08651399176605215}. Best is trial 15 with value: -0.406259.\n"
     ]
    },
    {
     "name": "stderr",
     "output_type": "stream",
     "text": [
      "[I 2025-05-14 18:10:41,802] Trial 26 finished with value: -0.166667 and parameters: {'max_depth': 3, 'min_child_weight': 21, 'subsample': 0.48159097903204107, 'colsample_bynode': 0.24147180080099506, 'learning_rate': 0.0855174393023044}. Best is trial 15 with value: -0.406259.\n"
     ]
    },
    {
     "name": "stderr",
     "output_type": "stream",
     "text": [
      "[I 2025-05-14 18:10:41,941] Trial 27 finished with value: -0.03313 and parameters: {'max_depth': 4, 'min_child_weight': 165, 'subsample': 0.6693673534860863, 'colsample_bynode': 0.5082944821752585, 'learning_rate': 0.0292465205972092}. Best is trial 15 with value: -0.406259.\n"
     ]
    },
    {
     "name": "stderr",
     "output_type": "stream",
     "text": [
      "[I 2025-05-14 18:10:42,083] Trial 28 finished with value: -0.03313 and parameters: {'max_depth': 18, 'min_child_weight': 98, 'subsample': 0.6198299570704617, 'colsample_bynode': 0.8094643907024937, 'learning_rate': 0.05447711768908842}. Best is trial 15 with value: -0.406259.\n"
     ]
    },
    {
     "name": "stderr",
     "output_type": "stream",
     "text": [
      "[I 2025-05-14 18:10:42,224] Trial 29 finished with value: -0.03313 and parameters: {'max_depth': 6, 'min_child_weight': 217, 'subsample': 0.7510563628572415, 'colsample_bynode': 0.43047670069627203, 'learning_rate': 0.010709004830646147}. Best is trial 15 with value: -0.406259.\n"
     ]
    },
    {
     "name": "stderr",
     "output_type": "stream",
     "text": [
      "[I 2025-05-14 18:10:42,362] Trial 30 finished with value: -0.03313 and parameters: {'max_depth': 15, 'min_child_weight': 56, 'subsample': 0.48408877480742074, 'colsample_bynode': 0.24734114371299493, 'learning_rate': 0.2286008729131288}. Best is trial 15 with value: -0.406259.\n"
     ]
    },
    {
     "name": "stderr",
     "output_type": "stream",
     "text": [
      "[I 2025-05-14 18:10:42,573] Trial 31 finished with value: -0.395845 and parameters: {'max_depth': 9, 'min_child_weight': 4, 'subsample': 0.7850784888873833, 'colsample_bynode': 0.14797330545649057, 'learning_rate': 0.11577392369543751}. Best is trial 15 with value: -0.406259.\n"
     ]
    },
    {
     "name": "stderr",
     "output_type": "stream",
     "text": [
      "[I 2025-05-14 18:10:42,733] Trial 32 pruned. Trial was pruned at iteration 21.\n"
     ]
    },
    {
     "name": "stderr",
     "output_type": "stream",
     "text": [
      "[I 2025-05-14 18:10:42,878] Trial 33 pruned. Trial was pruned at iteration 21.\n"
     ]
    },
    {
     "name": "stderr",
     "output_type": "stream",
     "text": [
      "[I 2025-05-14 18:10:43,042] Trial 34 pruned. Trial was pruned at iteration 21.\n"
     ]
    },
    {
     "name": "stderr",
     "output_type": "stream",
     "text": [
      "[I 2025-05-14 18:10:43,243] Trial 35 finished with value: -0.383447 and parameters: {'max_depth': 5, 'min_child_weight': 12, 'subsample': 0.617236460744927, 'colsample_bynode': 0.15021786496675313, 'learning_rate': 0.31446700826063195}. Best is trial 15 with value: -0.406259.\n"
     ]
    },
    {
     "name": "stderr",
     "output_type": "stream",
     "text": [
      "[I 2025-05-14 18:10:43,383] Trial 36 pruned. Trial was pruned at iteration 21.\n"
     ]
    },
    {
     "name": "stderr",
     "output_type": "stream",
     "text": [
      "[I 2025-05-14 18:10:43,522] Trial 37 finished with value: -0.166667 and parameters: {'max_depth': 10, 'min_child_weight': 46, 'subsample': 0.7979550813061012, 'colsample_bynode': 0.19493410888071322, 'learning_rate': 0.3139703135133186}. Best is trial 15 with value: -0.406259.\n"
     ]
    },
    {
     "name": "stderr",
     "output_type": "stream",
     "text": [
      "[I 2025-05-14 18:10:43,670] Trial 38 pruned. Trial was pruned at iteration 21.\n"
     ]
    },
    {
     "name": "stderr",
     "output_type": "stream",
     "text": [
      "[I 2025-05-14 18:10:43,810] Trial 39 finished with value: -0.03313 and parameters: {'max_depth': 6, 'min_child_weight': 66, 'subsample': 0.60303709563267, 'colsample_bynode': 0.3554793195183459, 'learning_rate': 0.4727363411197455}. Best is trial 15 with value: -0.406259.\n"
     ]
    },
    {
     "name": "stderr",
     "output_type": "stream",
     "text": [
      "[I 2025-05-14 18:10:43,951] Trial 40 finished with value: -0.166667 and parameters: {'max_depth': 8, 'min_child_weight': 39, 'subsample': 0.9079435686088697, 'colsample_bynode': 0.4847281641858229, 'learning_rate': 0.020974603951793357}. Best is trial 15 with value: -0.406259.\n"
     ]
    },
    {
     "name": "stderr",
     "output_type": "stream",
     "text": [
      "[I 2025-05-14 18:10:44,154] Trial 41 pruned. Trial was pruned at iteration 21.\n"
     ]
    },
    {
     "name": "stderr",
     "output_type": "stream",
     "text": [
      "[I 2025-05-14 18:10:44,315] Trial 42 finished with value: -0.302831 and parameters: {'max_depth': 4, 'min_child_weight': 13, 'subsample': 0.5339344918585318, 'colsample_bynode': 0.21211079129180704, 'learning_rate': 0.0605440679848339}. Best is trial 15 with value: -0.406259.\n"
     ]
    },
    {
     "name": "stderr",
     "output_type": "stream",
     "text": [
      "[I 2025-05-14 18:10:44,453] Trial 43 finished with value: -0.03313 and parameters: {'max_depth': 4, 'min_child_weight': 29, 'subsample': 0.2597626652250229, 'colsample_bynode': 0.15026529384405907, 'learning_rate': 0.32189267198050936}. Best is trial 15 with value: -0.406259.\n"
     ]
    },
    {
     "name": "stderr",
     "output_type": "stream",
     "text": [
      "[I 2025-05-14 18:10:44,620] Trial 44 pruned. Trial was pruned at iteration 21.\n"
     ]
    },
    {
     "name": "stderr",
     "output_type": "stream",
     "text": [
      "[I 2025-05-14 18:10:44,760] Trial 45 finished with value: -0.166667 and parameters: {'max_depth': 13, 'min_child_weight': 48, 'subsample': 0.6961259451932853, 'colsample_bynode': 0.25772784265351095, 'learning_rate': 0.11013532484452114}. Best is trial 15 with value: -0.406259.\n"
     ]
    },
    {
     "name": "stderr",
     "output_type": "stream",
     "text": [
      "[I 2025-05-14 18:10:44,909] Trial 46 pruned. Trial was pruned at iteration 21.\n"
     ]
    },
    {
     "name": "stderr",
     "output_type": "stream",
     "text": [
      "[I 2025-05-14 18:10:45,173] Trial 47 finished with value: -0.379407 and parameters: {'max_depth': 3, 'min_child_weight': 1, 'subsample': 0.6427684280635254, 'colsample_bynode': 0.30114481247767855, 'learning_rate': 0.36551824413506456}. Best is trial 15 with value: -0.406259.\n"
     ]
    },
    {
     "name": "stderr",
     "output_type": "stream",
     "text": [
      "[I 2025-05-14 18:10:45,318] Trial 48 finished with value: -0.03313 and parameters: {'max_depth': 9, 'min_child_weight': 75, 'subsample': 0.638607054940296, 'colsample_bynode': 0.5473598108520347, 'learning_rate': 0.494694924837157}. Best is trial 15 with value: -0.406259.\n"
     ]
    },
    {
     "name": "stderr",
     "output_type": "stream",
     "text": [
      "[I 2025-05-14 18:10:45,518] Trial 49 pruned. Trial was pruned at iteration 35.\n"
     ]
    }
   ],
   "source": [
    "sampler = optuna.samplers.TPESampler(seed=42)\n",
    "study = optuna.create_study(direction='minimize', sampler=sampler)\n",
    "study.optimize(objective, n_trials=N_TRIALS, gc_after_trial=True)"
   ]
  },
  {
   "cell_type": "code",
   "execution_count": 20,
   "id": "0db05b91",
   "metadata": {
    "execution": {
     "iopub.execute_input": "2025-05-14T16:10:45.612431Z",
     "iopub.status.busy": "2025-05-14T16:10:45.612108Z",
     "iopub.status.idle": "2025-05-14T16:10:45.634309Z",
     "shell.execute_reply": "2025-05-14T16:10:45.633994Z"
    },
    "papermill": {
     "duration": 0.035442,
     "end_time": "2025-05-14T16:10:45.635157",
     "exception": false,
     "start_time": "2025-05-14T16:10:45.599715",
     "status": "completed"
    },
    "tags": []
   },
   "outputs": [
    {
     "data": {
      "text/plain": [
       "['/scratch_isilon/groups/singlecell/shared/projects/Inflammation-PBMCs-Atlas/03_downstream_analysis/08_gene_importance/xgboost_external_validation/xgboost_TopN_genes/results_20/study/Plasma_shap_1_xgboost.pkl']"
      ]
     },
     "execution_count": 20,
     "metadata": {},
     "output_type": "execute_result"
    }
   ],
   "source": [
    "out_dir = here(f'03_downstream_analysis/08_gene_importance/xgboost_external_validation/xgboost_TopN_genes/results_{N_GENES}/study')\n",
    "\n",
    "if not os.path.exists(out_dir):\n",
    "    os.makedirs(out_dir)\n",
    "    \n",
    "joblib.dump(study,os.path.join(out_dir, f'{CELL_TYPE}_{SEED}_{TEST_SPLIT_IDX}_xgboost.pkl'))"
   ]
  },
  {
   "cell_type": "code",
   "execution_count": 21,
   "id": "685d804f",
   "metadata": {
    "execution": {
     "iopub.execute_input": "2025-05-14T16:10:45.665296Z",
     "iopub.status.busy": "2025-05-14T16:10:45.665128Z",
     "iopub.status.idle": "2025-05-14T16:10:45.697073Z",
     "shell.execute_reply": "2025-05-14T16:10:45.696730Z"
    },
    "papermill": {
     "duration": 0.048318,
     "end_time": "2025-05-14T16:10:45.698026",
     "exception": false,
     "start_time": "2025-05-14T16:10:45.649708",
     "status": "completed"
    },
    "tags": []
   },
   "outputs": [
    {
     "data": {
      "text/html": [
       "<style>#sk-container-id-1 {\n",
       "  /* Definition of color scheme common for light and dark mode */\n",
       "  --sklearn-color-text: black;\n",
       "  --sklearn-color-line: gray;\n",
       "  /* Definition of color scheme for unfitted estimators */\n",
       "  --sklearn-color-unfitted-level-0: #fff5e6;\n",
       "  --sklearn-color-unfitted-level-1: #f6e4d2;\n",
       "  --sklearn-color-unfitted-level-2: #ffe0b3;\n",
       "  --sklearn-color-unfitted-level-3: chocolate;\n",
       "  /* Definition of color scheme for fitted estimators */\n",
       "  --sklearn-color-fitted-level-0: #f0f8ff;\n",
       "  --sklearn-color-fitted-level-1: #d4ebff;\n",
       "  --sklearn-color-fitted-level-2: #b3dbfd;\n",
       "  --sklearn-color-fitted-level-3: cornflowerblue;\n",
       "\n",
       "  /* Specific color for light theme */\n",
       "  --sklearn-color-text-on-default-background: var(--sg-text-color, var(--theme-code-foreground, var(--jp-content-font-color1, black)));\n",
       "  --sklearn-color-background: var(--sg-background-color, var(--theme-background, var(--jp-layout-color0, white)));\n",
       "  --sklearn-color-border-box: var(--sg-text-color, var(--theme-code-foreground, var(--jp-content-font-color1, black)));\n",
       "  --sklearn-color-icon: #696969;\n",
       "\n",
       "  @media (prefers-color-scheme: dark) {\n",
       "    /* Redefinition of color scheme for dark theme */\n",
       "    --sklearn-color-text-on-default-background: var(--sg-text-color, var(--theme-code-foreground, var(--jp-content-font-color1, white)));\n",
       "    --sklearn-color-background: var(--sg-background-color, var(--theme-background, var(--jp-layout-color0, #111)));\n",
       "    --sklearn-color-border-box: var(--sg-text-color, var(--theme-code-foreground, var(--jp-content-font-color1, white)));\n",
       "    --sklearn-color-icon: #878787;\n",
       "  }\n",
       "}\n",
       "\n",
       "#sk-container-id-1 {\n",
       "  color: var(--sklearn-color-text);\n",
       "}\n",
       "\n",
       "#sk-container-id-1 pre {\n",
       "  padding: 0;\n",
       "}\n",
       "\n",
       "#sk-container-id-1 input.sk-hidden--visually {\n",
       "  border: 0;\n",
       "  clip: rect(1px 1px 1px 1px);\n",
       "  clip: rect(1px, 1px, 1px, 1px);\n",
       "  height: 1px;\n",
       "  margin: -1px;\n",
       "  overflow: hidden;\n",
       "  padding: 0;\n",
       "  position: absolute;\n",
       "  width: 1px;\n",
       "}\n",
       "\n",
       "#sk-container-id-1 div.sk-dashed-wrapped {\n",
       "  border: 1px dashed var(--sklearn-color-line);\n",
       "  margin: 0 0.4em 0.5em 0.4em;\n",
       "  box-sizing: border-box;\n",
       "  padding-bottom: 0.4em;\n",
       "  background-color: var(--sklearn-color-background);\n",
       "}\n",
       "\n",
       "#sk-container-id-1 div.sk-container {\n",
       "  /* jupyter's `normalize.less` sets `[hidden] { display: none; }`\n",
       "     but bootstrap.min.css set `[hidden] { display: none !important; }`\n",
       "     so we also need the `!important` here to be able to override the\n",
       "     default hidden behavior on the sphinx rendered scikit-learn.org.\n",
       "     See: https://github.com/scikit-learn/scikit-learn/issues/21755 */\n",
       "  display: inline-block !important;\n",
       "  position: relative;\n",
       "}\n",
       "\n",
       "#sk-container-id-1 div.sk-text-repr-fallback {\n",
       "  display: none;\n",
       "}\n",
       "\n",
       "div.sk-parallel-item,\n",
       "div.sk-serial,\n",
       "div.sk-item {\n",
       "  /* draw centered vertical line to link estimators */\n",
       "  background-image: linear-gradient(var(--sklearn-color-text-on-default-background), var(--sklearn-color-text-on-default-background));\n",
       "  background-size: 2px 100%;\n",
       "  background-repeat: no-repeat;\n",
       "  background-position: center center;\n",
       "}\n",
       "\n",
       "/* Parallel-specific style estimator block */\n",
       "\n",
       "#sk-container-id-1 div.sk-parallel-item::after {\n",
       "  content: \"\";\n",
       "  width: 100%;\n",
       "  border-bottom: 2px solid var(--sklearn-color-text-on-default-background);\n",
       "  flex-grow: 1;\n",
       "}\n",
       "\n",
       "#sk-container-id-1 div.sk-parallel {\n",
       "  display: flex;\n",
       "  align-items: stretch;\n",
       "  justify-content: center;\n",
       "  background-color: var(--sklearn-color-background);\n",
       "  position: relative;\n",
       "}\n",
       "\n",
       "#sk-container-id-1 div.sk-parallel-item {\n",
       "  display: flex;\n",
       "  flex-direction: column;\n",
       "}\n",
       "\n",
       "#sk-container-id-1 div.sk-parallel-item:first-child::after {\n",
       "  align-self: flex-end;\n",
       "  width: 50%;\n",
       "}\n",
       "\n",
       "#sk-container-id-1 div.sk-parallel-item:last-child::after {\n",
       "  align-self: flex-start;\n",
       "  width: 50%;\n",
       "}\n",
       "\n",
       "#sk-container-id-1 div.sk-parallel-item:only-child::after {\n",
       "  width: 0;\n",
       "}\n",
       "\n",
       "/* Serial-specific style estimator block */\n",
       "\n",
       "#sk-container-id-1 div.sk-serial {\n",
       "  display: flex;\n",
       "  flex-direction: column;\n",
       "  align-items: center;\n",
       "  background-color: var(--sklearn-color-background);\n",
       "  padding-right: 1em;\n",
       "  padding-left: 1em;\n",
       "}\n",
       "\n",
       "\n",
       "/* Toggleable style: style used for estimator/Pipeline/ColumnTransformer box that is\n",
       "clickable and can be expanded/collapsed.\n",
       "- Pipeline and ColumnTransformer use this feature and define the default style\n",
       "- Estimators will overwrite some part of the style using the `sk-estimator` class\n",
       "*/\n",
       "\n",
       "/* Pipeline and ColumnTransformer style (default) */\n",
       "\n",
       "#sk-container-id-1 div.sk-toggleable {\n",
       "  /* Default theme specific background. It is overwritten whether we have a\n",
       "  specific estimator or a Pipeline/ColumnTransformer */\n",
       "  background-color: var(--sklearn-color-background);\n",
       "}\n",
       "\n",
       "/* Toggleable label */\n",
       "#sk-container-id-1 label.sk-toggleable__label {\n",
       "  cursor: pointer;\n",
       "  display: block;\n",
       "  width: 100%;\n",
       "  margin-bottom: 0;\n",
       "  padding: 0.5em;\n",
       "  box-sizing: border-box;\n",
       "  text-align: center;\n",
       "}\n",
       "\n",
       "#sk-container-id-1 label.sk-toggleable__label-arrow:before {\n",
       "  /* Arrow on the left of the label */\n",
       "  content: \"▸\";\n",
       "  float: left;\n",
       "  margin-right: 0.25em;\n",
       "  color: var(--sklearn-color-icon);\n",
       "}\n",
       "\n",
       "#sk-container-id-1 label.sk-toggleable__label-arrow:hover:before {\n",
       "  color: var(--sklearn-color-text);\n",
       "}\n",
       "\n",
       "/* Toggleable content - dropdown */\n",
       "\n",
       "#sk-container-id-1 div.sk-toggleable__content {\n",
       "  max-height: 0;\n",
       "  max-width: 0;\n",
       "  overflow: hidden;\n",
       "  text-align: left;\n",
       "  /* unfitted */\n",
       "  background-color: var(--sklearn-color-unfitted-level-0);\n",
       "}\n",
       "\n",
       "#sk-container-id-1 div.sk-toggleable__content.fitted {\n",
       "  /* fitted */\n",
       "  background-color: var(--sklearn-color-fitted-level-0);\n",
       "}\n",
       "\n",
       "#sk-container-id-1 div.sk-toggleable__content pre {\n",
       "  margin: 0.2em;\n",
       "  border-radius: 0.25em;\n",
       "  color: var(--sklearn-color-text);\n",
       "  /* unfitted */\n",
       "  background-color: var(--sklearn-color-unfitted-level-0);\n",
       "}\n",
       "\n",
       "#sk-container-id-1 div.sk-toggleable__content.fitted pre {\n",
       "  /* unfitted */\n",
       "  background-color: var(--sklearn-color-fitted-level-0);\n",
       "}\n",
       "\n",
       "#sk-container-id-1 input.sk-toggleable__control:checked~div.sk-toggleable__content {\n",
       "  /* Expand drop-down */\n",
       "  max-height: 200px;\n",
       "  max-width: 100%;\n",
       "  overflow: auto;\n",
       "}\n",
       "\n",
       "#sk-container-id-1 input.sk-toggleable__control:checked~label.sk-toggleable__label-arrow:before {\n",
       "  content: \"▾\";\n",
       "}\n",
       "\n",
       "/* Pipeline/ColumnTransformer-specific style */\n",
       "\n",
       "#sk-container-id-1 div.sk-label input.sk-toggleable__control:checked~label.sk-toggleable__label {\n",
       "  color: var(--sklearn-color-text);\n",
       "  background-color: var(--sklearn-color-unfitted-level-2);\n",
       "}\n",
       "\n",
       "#sk-container-id-1 div.sk-label.fitted input.sk-toggleable__control:checked~label.sk-toggleable__label {\n",
       "  background-color: var(--sklearn-color-fitted-level-2);\n",
       "}\n",
       "\n",
       "/* Estimator-specific style */\n",
       "\n",
       "/* Colorize estimator box */\n",
       "#sk-container-id-1 div.sk-estimator input.sk-toggleable__control:checked~label.sk-toggleable__label {\n",
       "  /* unfitted */\n",
       "  background-color: var(--sklearn-color-unfitted-level-2);\n",
       "}\n",
       "\n",
       "#sk-container-id-1 div.sk-estimator.fitted input.sk-toggleable__control:checked~label.sk-toggleable__label {\n",
       "  /* fitted */\n",
       "  background-color: var(--sklearn-color-fitted-level-2);\n",
       "}\n",
       "\n",
       "#sk-container-id-1 div.sk-label label.sk-toggleable__label,\n",
       "#sk-container-id-1 div.sk-label label {\n",
       "  /* The background is the default theme color */\n",
       "  color: var(--sklearn-color-text-on-default-background);\n",
       "}\n",
       "\n",
       "/* On hover, darken the color of the background */\n",
       "#sk-container-id-1 div.sk-label:hover label.sk-toggleable__label {\n",
       "  color: var(--sklearn-color-text);\n",
       "  background-color: var(--sklearn-color-unfitted-level-2);\n",
       "}\n",
       "\n",
       "/* Label box, darken color on hover, fitted */\n",
       "#sk-container-id-1 div.sk-label.fitted:hover label.sk-toggleable__label.fitted {\n",
       "  color: var(--sklearn-color-text);\n",
       "  background-color: var(--sklearn-color-fitted-level-2);\n",
       "}\n",
       "\n",
       "/* Estimator label */\n",
       "\n",
       "#sk-container-id-1 div.sk-label label {\n",
       "  font-family: monospace;\n",
       "  font-weight: bold;\n",
       "  display: inline-block;\n",
       "  line-height: 1.2em;\n",
       "}\n",
       "\n",
       "#sk-container-id-1 div.sk-label-container {\n",
       "  text-align: center;\n",
       "}\n",
       "\n",
       "/* Estimator-specific */\n",
       "#sk-container-id-1 div.sk-estimator {\n",
       "  font-family: monospace;\n",
       "  border: 1px dotted var(--sklearn-color-border-box);\n",
       "  border-radius: 0.25em;\n",
       "  box-sizing: border-box;\n",
       "  margin-bottom: 0.5em;\n",
       "  /* unfitted */\n",
       "  background-color: var(--sklearn-color-unfitted-level-0);\n",
       "}\n",
       "\n",
       "#sk-container-id-1 div.sk-estimator.fitted {\n",
       "  /* fitted */\n",
       "  background-color: var(--sklearn-color-fitted-level-0);\n",
       "}\n",
       "\n",
       "/* on hover */\n",
       "#sk-container-id-1 div.sk-estimator:hover {\n",
       "  /* unfitted */\n",
       "  background-color: var(--sklearn-color-unfitted-level-2);\n",
       "}\n",
       "\n",
       "#sk-container-id-1 div.sk-estimator.fitted:hover {\n",
       "  /* fitted */\n",
       "  background-color: var(--sklearn-color-fitted-level-2);\n",
       "}\n",
       "\n",
       "/* Specification for estimator info (e.g. \"i\" and \"?\") */\n",
       "\n",
       "/* Common style for \"i\" and \"?\" */\n",
       "\n",
       ".sk-estimator-doc-link,\n",
       "a:link.sk-estimator-doc-link,\n",
       "a:visited.sk-estimator-doc-link {\n",
       "  float: right;\n",
       "  font-size: smaller;\n",
       "  line-height: 1em;\n",
       "  font-family: monospace;\n",
       "  background-color: var(--sklearn-color-background);\n",
       "  border-radius: 1em;\n",
       "  height: 1em;\n",
       "  width: 1em;\n",
       "  text-decoration: none !important;\n",
       "  margin-left: 1ex;\n",
       "  /* unfitted */\n",
       "  border: var(--sklearn-color-unfitted-level-1) 1pt solid;\n",
       "  color: var(--sklearn-color-unfitted-level-1);\n",
       "}\n",
       "\n",
       ".sk-estimator-doc-link.fitted,\n",
       "a:link.sk-estimator-doc-link.fitted,\n",
       "a:visited.sk-estimator-doc-link.fitted {\n",
       "  /* fitted */\n",
       "  border: var(--sklearn-color-fitted-level-1) 1pt solid;\n",
       "  color: var(--sklearn-color-fitted-level-1);\n",
       "}\n",
       "\n",
       "/* On hover */\n",
       "div.sk-estimator:hover .sk-estimator-doc-link:hover,\n",
       ".sk-estimator-doc-link:hover,\n",
       "div.sk-label-container:hover .sk-estimator-doc-link:hover,\n",
       ".sk-estimator-doc-link:hover {\n",
       "  /* unfitted */\n",
       "  background-color: var(--sklearn-color-unfitted-level-3);\n",
       "  color: var(--sklearn-color-background);\n",
       "  text-decoration: none;\n",
       "}\n",
       "\n",
       "div.sk-estimator.fitted:hover .sk-estimator-doc-link.fitted:hover,\n",
       ".sk-estimator-doc-link.fitted:hover,\n",
       "div.sk-label-container:hover .sk-estimator-doc-link.fitted:hover,\n",
       ".sk-estimator-doc-link.fitted:hover {\n",
       "  /* fitted */\n",
       "  background-color: var(--sklearn-color-fitted-level-3);\n",
       "  color: var(--sklearn-color-background);\n",
       "  text-decoration: none;\n",
       "}\n",
       "\n",
       "/* Span, style for the box shown on hovering the info icon */\n",
       ".sk-estimator-doc-link span {\n",
       "  display: none;\n",
       "  z-index: 9999;\n",
       "  position: relative;\n",
       "  font-weight: normal;\n",
       "  right: .2ex;\n",
       "  padding: .5ex;\n",
       "  margin: .5ex;\n",
       "  width: min-content;\n",
       "  min-width: 20ex;\n",
       "  max-width: 50ex;\n",
       "  color: var(--sklearn-color-text);\n",
       "  box-shadow: 2pt 2pt 4pt #999;\n",
       "  /* unfitted */\n",
       "  background: var(--sklearn-color-unfitted-level-0);\n",
       "  border: .5pt solid var(--sklearn-color-unfitted-level-3);\n",
       "}\n",
       "\n",
       ".sk-estimator-doc-link.fitted span {\n",
       "  /* fitted */\n",
       "  background: var(--sklearn-color-fitted-level-0);\n",
       "  border: var(--sklearn-color-fitted-level-3);\n",
       "}\n",
       "\n",
       ".sk-estimator-doc-link:hover span {\n",
       "  display: block;\n",
       "}\n",
       "\n",
       "/* \"?\"-specific style due to the `<a>` HTML tag */\n",
       "\n",
       "#sk-container-id-1 a.estimator_doc_link {\n",
       "  float: right;\n",
       "  font-size: 1rem;\n",
       "  line-height: 1em;\n",
       "  font-family: monospace;\n",
       "  background-color: var(--sklearn-color-background);\n",
       "  border-radius: 1rem;\n",
       "  height: 1rem;\n",
       "  width: 1rem;\n",
       "  text-decoration: none;\n",
       "  /* unfitted */\n",
       "  color: var(--sklearn-color-unfitted-level-1);\n",
       "  border: var(--sklearn-color-unfitted-level-1) 1pt solid;\n",
       "}\n",
       "\n",
       "#sk-container-id-1 a.estimator_doc_link.fitted {\n",
       "  /* fitted */\n",
       "  border: var(--sklearn-color-fitted-level-1) 1pt solid;\n",
       "  color: var(--sklearn-color-fitted-level-1);\n",
       "}\n",
       "\n",
       "/* On hover */\n",
       "#sk-container-id-1 a.estimator_doc_link:hover {\n",
       "  /* unfitted */\n",
       "  background-color: var(--sklearn-color-unfitted-level-3);\n",
       "  color: var(--sklearn-color-background);\n",
       "  text-decoration: none;\n",
       "}\n",
       "\n",
       "#sk-container-id-1 a.estimator_doc_link.fitted:hover {\n",
       "  /* fitted */\n",
       "  background-color: var(--sklearn-color-fitted-level-3);\n",
       "}\n",
       "</style><div id=\"sk-container-id-1\" class=\"sk-top-container\"><div class=\"sk-text-repr-fallback\"><pre>XGBClassifier(base_score=None, booster=None, callbacks=None,\n",
       "              colsample_bylevel=None, colsample_bynode=0.31554979471905614,\n",
       "              colsample_bytree=None, device=None, early_stopping_rounds=None,\n",
       "              enable_categorical=False,\n",
       "              eval_metric=&lt;function custom_f1_score at 0x7fd7c9be0400&gt;,\n",
       "              feature_types=None, gamma=None, grow_policy=None,\n",
       "              importance_type=None, interaction_constraints=None,\n",
       "              learning_rate=0.19723736175781964, max_bin=None,\n",
       "              max_cat_threshold=None, max_cat_to_onehot=None,\n",
       "              max_delta_step=None, max_depth=20, max_leaves=None,\n",
       "              min_child_weight=2, missing=nan, monotone_constraints=None,\n",
       "              multi_strategy=None, n_estimators=2, n_jobs=None,\n",
       "              num_parallel_tree=None, objective=&#x27;multi:softprob&#x27;, ...)</pre><b>In a Jupyter environment, please rerun this cell to show the HTML representation or trust the notebook. <br />On GitHub, the HTML representation is unable to render, please try loading this page with nbviewer.org.</b></div><div class=\"sk-container\" hidden><div class=\"sk-item\"><div class=\"sk-estimator fitted sk-toggleable\"><input class=\"sk-toggleable__control sk-hidden--visually\" id=\"sk-estimator-id-1\" type=\"checkbox\" checked><label for=\"sk-estimator-id-1\" class=\"sk-toggleable__label fitted sk-toggleable__label-arrow fitted\">&nbsp;XGBClassifier<span class=\"sk-estimator-doc-link fitted\">i<span>Fitted</span></span></label><div class=\"sk-toggleable__content fitted\"><pre>XGBClassifier(base_score=None, booster=None, callbacks=None,\n",
       "              colsample_bylevel=None, colsample_bynode=0.31554979471905614,\n",
       "              colsample_bytree=None, device=None, early_stopping_rounds=None,\n",
       "              enable_categorical=False,\n",
       "              eval_metric=&lt;function custom_f1_score at 0x7fd7c9be0400&gt;,\n",
       "              feature_types=None, gamma=None, grow_policy=None,\n",
       "              importance_type=None, interaction_constraints=None,\n",
       "              learning_rate=0.19723736175781964, max_bin=None,\n",
       "              max_cat_threshold=None, max_cat_to_onehot=None,\n",
       "              max_delta_step=None, max_depth=20, max_leaves=None,\n",
       "              min_child_weight=2, missing=nan, monotone_constraints=None,\n",
       "              multi_strategy=None, n_estimators=2, n_jobs=None,\n",
       "              num_parallel_tree=None, objective=&#x27;multi:softprob&#x27;, ...)</pre></div> </div></div></div></div>"
      ],
      "text/plain": [
       "XGBClassifier(base_score=None, booster=None, callbacks=None,\n",
       "              colsample_bylevel=None, colsample_bynode=0.31554979471905614,\n",
       "              colsample_bytree=None, device=None, early_stopping_rounds=None,\n",
       "              enable_categorical=False,\n",
       "              eval_metric=<function custom_f1_score at 0x7fd7c9be0400>,\n",
       "              feature_types=None, gamma=None, grow_policy=None,\n",
       "              importance_type=None, interaction_constraints=None,\n",
       "              learning_rate=0.19723736175781964, max_bin=None,\n",
       "              max_cat_threshold=None, max_cat_to_onehot=None,\n",
       "              max_delta_step=None, max_depth=20, max_leaves=None,\n",
       "              min_child_weight=2, missing=nan, monotone_constraints=None,\n",
       "              multi_strategy=None, n_estimators=2, n_jobs=None,\n",
       "              num_parallel_tree=None, objective='multi:softprob', ...)"
      ]
     },
     "execution_count": 21,
     "metadata": {},
     "output_type": "execute_result"
    }
   ],
   "source": [
    "n_estimators = int(study.best_trial.user_attrs['best_iteration']*1.2)\n",
    "xgb = xgboost.XGBClassifier(\n",
    "        eval_metric=eval_metric,\n",
    "        n_estimators=n_estimators,\n",
    "        **study.best_trial.params\n",
    "    )\n",
    "xgb.fit(\n",
    "    ssp.vstack((X_train, X_val)), \n",
    "    np.concatenate((y_train_enc, y_val_enc)),\n",
    "    verbose=1,\n",
    ")"
   ]
  },
  {
   "cell_type": "code",
   "execution_count": 22,
   "id": "612f3996",
   "metadata": {
    "execution": {
     "iopub.execute_input": "2025-05-14T16:10:45.718552Z",
     "iopub.status.busy": "2025-05-14T16:10:45.718241Z",
     "iopub.status.idle": "2025-05-14T16:10:45.729490Z",
     "shell.execute_reply": "2025-05-14T16:10:45.729165Z"
    },
    "papermill": {
     "duration": 0.025612,
     "end_time": "2025-05-14T16:10:45.733065",
     "exception": false,
     "start_time": "2025-05-14T16:10:45.707453",
     "status": "completed"
    },
    "tags": []
   },
   "outputs": [
    {
     "data": {
      "text/plain": [
       "['/scratch_isilon/groups/singlecell/shared/projects/Inflammation-PBMCs-Atlas/03_downstream_analysis/08_gene_importance/xgboost_external_validation/xgboost_TopN_genes/results_20/best_model/Plasma_shap_1_xgb.json']"
      ]
     },
     "execution_count": 22,
     "metadata": {},
     "output_type": "execute_result"
    }
   ],
   "source": [
    "out_dir = here(f'03_downstream_analysis/08_gene_importance/xgboost_external_validation/xgboost_TopN_genes/results_{N_GENES}/best_model')\n",
    "\n",
    "if not os.path.exists(out_dir):\n",
    "    os.makedirs(out_dir)\n",
    "    \n",
    "joblib.dump(xgb, os.path.join(out_dir, f'{CELL_TYPE}_{SEED}_{TEST_SPLIT_IDX}_xgb.json'))"
   ]
  },
  {
   "cell_type": "code",
   "execution_count": 23,
   "id": "9faa1cf4",
   "metadata": {
    "execution": {
     "iopub.execute_input": "2025-05-14T16:10:45.751552Z",
     "iopub.status.busy": "2025-05-14T16:10:45.751245Z",
     "iopub.status.idle": "2025-05-14T16:10:45.756464Z",
     "shell.execute_reply": "2025-05-14T16:10:45.756144Z"
    },
    "papermill": {
     "duration": 0.015374,
     "end_time": "2025-05-14T16:10:45.757329",
     "exception": false,
     "start_time": "2025-05-14T16:10:45.741955",
     "status": "completed"
    },
    "tags": []
   },
   "outputs": [],
   "source": [
    "df_pred_test = pd.DataFrame(dict(\n",
    "    cell_id=train_adata.obs.iloc[test_idxs].index.values,\n",
    "    y_true=y_test, \n",
    "    y_true_code=y_test_enc, \n",
    "    y_pred=xgb.predict(X_test))).set_index('cell_id')"
   ]
  },
  {
   "cell_type": "code",
   "execution_count": 24,
   "id": "8ba3f97f",
   "metadata": {
    "execution": {
     "iopub.execute_input": "2025-05-14T16:10:45.777555Z",
     "iopub.status.busy": "2025-05-14T16:10:45.777342Z",
     "iopub.status.idle": "2025-05-14T16:10:45.790685Z",
     "shell.execute_reply": "2025-05-14T16:10:45.790356Z"
    },
    "papermill": {
     "duration": 0.024468,
     "end_time": "2025-05-14T16:10:45.791604",
     "exception": false,
     "start_time": "2025-05-14T16:10:45.767136",
     "status": "completed"
    },
    "tags": []
   },
   "outputs": [],
   "source": [
    "out_dir = here(f'03_downstream_analysis/08_gene_importance/xgboost_external_validation/xgboost_TopN_genes/results_{N_GENES}/predictions')\n",
    "\n",
    "if not os.path.exists(out_dir):\n",
    "    os.makedirs(out_dir)\n",
    "    \n",
    "df_pred_test.to_csv(os.path.join(out_dir, f'{CELL_TYPE}_{SEED}_{TEST_SPLIT_IDX}_pred_test.zip'))"
   ]
  },
  {
   "cell_type": "code",
   "execution_count": 25,
   "id": "0303bb01",
   "metadata": {
    "execution": {
     "iopub.execute_input": "2025-05-14T16:10:45.809619Z",
     "iopub.status.busy": "2025-05-14T16:10:45.809435Z",
     "iopub.status.idle": "2025-05-14T16:10:45.814600Z",
     "shell.execute_reply": "2025-05-14T16:10:45.814287Z"
    },
    "papermill": {
     "duration": 0.01494,
     "end_time": "2025-05-14T16:10:45.815467",
     "exception": false,
     "start_time": "2025-05-14T16:10:45.800527",
     "status": "completed"
    },
    "tags": []
   },
   "outputs": [],
   "source": [
    "metrics_dict = dict(\n",
    "    BAS=balanced_accuracy_score(y_true=df_pred_test.y_true_code, y_pred=df_pred_test.y_pred), WF1=f1_score(y_true=df_pred_test.y_true_code, y_pred=df_pred_test.y_pred,average='weighted'))"
   ]
  },
  {
   "cell_type": "code",
   "execution_count": 26,
   "id": "f6f88466",
   "metadata": {
    "execution": {
     "iopub.execute_input": "2025-05-14T16:10:45.841184Z",
     "iopub.status.busy": "2025-05-14T16:10:45.840948Z",
     "iopub.status.idle": "2025-05-14T16:10:45.843652Z",
     "shell.execute_reply": "2025-05-14T16:10:45.843346Z"
    },
    "papermill": {
     "duration": 0.018684,
     "end_time": "2025-05-14T16:10:45.844502",
     "exception": false,
     "start_time": "2025-05-14T16:10:45.825818",
     "status": "completed"
    },
    "tags": []
   },
   "outputs": [
    {
     "data": {
      "text/plain": [
       "{'BAS': 0.4170510249554367, 'WF1': 0.5816486100923322}"
      ]
     },
     "execution_count": 26,
     "metadata": {},
     "output_type": "execute_result"
    }
   ],
   "source": [
    "metrics_dict"
   ]
  },
  {
   "cell_type": "code",
   "execution_count": 27,
   "id": "cebd4781",
   "metadata": {
    "execution": {
     "iopub.execute_input": "2025-05-14T16:10:45.876339Z",
     "iopub.status.busy": "2025-05-14T16:10:45.876072Z",
     "iopub.status.idle": "2025-05-14T16:10:45.884609Z",
     "shell.execute_reply": "2025-05-14T16:10:45.884296Z"
    },
    "papermill": {
     "duration": 0.018622,
     "end_time": "2025-05-14T16:10:45.885517",
     "exception": false,
     "start_time": "2025-05-14T16:10:45.866895",
     "status": "completed"
    },
    "tags": []
   },
   "outputs": [
    {
     "data": {
      "text/html": [
       "<div>\n",
       "<style scoped>\n",
       "    .dataframe tbody tr th:only-of-type {\n",
       "        vertical-align: middle;\n",
       "    }\n",
       "\n",
       "    .dataframe tbody tr th {\n",
       "        vertical-align: top;\n",
       "    }\n",
       "\n",
       "    .dataframe thead th {\n",
       "        text-align: right;\n",
       "    }\n",
       "</style>\n",
       "<table border=\"1\" class=\"dataframe\">\n",
       "  <thead>\n",
       "    <tr style=\"text-align: right;\">\n",
       "      <th></th>\n",
       "      <th>BAS</th>\n",
       "      <th>WF1</th>\n",
       "      <th>split_idx</th>\n",
       "      <th>gene_set_seed</th>\n",
       "      <th>cell_type</th>\n",
       "    </tr>\n",
       "  </thead>\n",
       "  <tbody>\n",
       "    <tr>\n",
       "      <th>0</th>\n",
       "      <td>0.417051</td>\n",
       "      <td>0.581649</td>\n",
       "      <td>1</td>\n",
       "      <td>shap</td>\n",
       "      <td>Plasma</td>\n",
       "    </tr>\n",
       "  </tbody>\n",
       "</table>\n",
       "</div>"
      ],
      "text/plain": [
       "        BAS       WF1  split_idx gene_set_seed cell_type\n",
       "0  0.417051  0.581649          1          shap    Plasma"
      ]
     },
     "execution_count": 27,
     "metadata": {},
     "output_type": "execute_result"
    }
   ],
   "source": [
    "metrics_df = pd.DataFrame.from_dict([metrics_dict]).assign(split_idx=TEST_SPLIT_IDX, gene_set_seed=SEED, cell_type=CELL_TYPE)\n",
    "metrics_df"
   ]
  },
  {
   "cell_type": "code",
   "execution_count": 28,
   "id": "2bc1418f",
   "metadata": {
    "execution": {
     "iopub.execute_input": "2025-05-14T16:10:45.924071Z",
     "iopub.status.busy": "2025-05-14T16:10:45.923770Z",
     "iopub.status.idle": "2025-05-14T16:10:45.933791Z",
     "shell.execute_reply": "2025-05-14T16:10:45.933488Z"
    },
    "papermill": {
     "duration": 0.040449,
     "end_time": "2025-05-14T16:10:45.934618",
     "exception": false,
     "start_time": "2025-05-14T16:10:45.894169",
     "status": "completed"
    },
    "tags": []
   },
   "outputs": [],
   "source": [
    "out_dir = here(f'03_downstream_analysis/08_gene_importance/xgboost_external_validation/xgboost_TopN_genes/results_{N_GENES}/metrics')\n",
    "\n",
    "if not os.path.exists(out_dir):\n",
    "    os.makedirs(out_dir)\n",
    "    \n",
    "metrics_df.to_csv(os.path.join(out_dir, f'{CELL_TYPE}_{SEED}_{TEST_SPLIT_IDX}_metrics.zip'))"
   ]
  }
 ],
 "metadata": {
  "kernelspec": {
   "display_name": "Python 3 (ipykernel)",
   "language": "python",
   "name": "python3"
  },
  "language_info": {
   "codemirror_mode": {
    "name": "ipython",
    "version": 3
   },
   "file_extension": ".py",
   "mimetype": "text/x-python",
   "name": "python",
   "nbconvert_exporter": "python",
   "pygments_lexer": "ipython3",
   "version": "3.12.5"
  },
  "papermill": {
   "default_parameters": {},
   "duration": 19.122028,
   "end_time": "2025-05-14T16:10:46.458486",
   "environment_variables": {},
   "exception": null,
   "input_path": "02_xgboost_fitting_external_20genes.ipynb",
   "output_path": "results_20/executed_notebooks/xgboost_fitting_external_CT_Plasma_GS_shap_seed1.ipynb",
   "parameters": {
    "CELL_TYPE": "Plasma",
    "SEED": "shap",
    "TEST_SPLIT_IDX": 1
   },
   "start_time": "2025-05-14T16:10:27.336458",
   "version": "2.6.0"
  }
 },
 "nbformat": 4,
 "nbformat_minor": 5
}