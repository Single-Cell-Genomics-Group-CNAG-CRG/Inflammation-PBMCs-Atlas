{
 "cells": [
  {
   "cell_type": "code",
   "execution_count": 1,
   "id": "f46476cb",
   "metadata": {
    "editable": true,
    "execution": {
     "iopub.execute_input": "2025-05-15T16:14:31.524003Z",
     "iopub.status.busy": "2025-05-15T16:14:31.523590Z",
     "iopub.status.idle": "2025-05-15T16:14:31.526328Z",
     "shell.execute_reply": "2025-05-15T16:14:31.526010Z"
    },
    "papermill": {
     "duration": 0.010573,
     "end_time": "2025-05-15T16:14:31.527236",
     "exception": false,
     "start_time": "2025-05-15T16:14:31.516663",
     "status": "completed"
    },
    "slideshow": {
     "slide_type": ""
    },
    "tags": [
     "parameters"
    ]
   },
   "outputs": [],
   "source": [
    "CELL_TYPE = 'pDC'\n",
    "N_GENES: int = 20\n",
    "SEED = 'shap_studyID' #'disease_NOstudy' 'study_NOdisease' or 'int' or 'shap_studyID'\n",
    "TEST_SPLIT_IDX: int = 1 #[0,4]"
   ]
  },
  {
   "cell_type": "code",
   "execution_count": 2,
   "id": "0a2048fe",
   "metadata": {
    "execution": {
     "iopub.execute_input": "2025-05-15T16:14:31.538430Z",
     "iopub.status.busy": "2025-05-15T16:14:31.538210Z",
     "iopub.status.idle": "2025-05-15T16:14:31.540343Z",
     "shell.execute_reply": "2025-05-15T16:14:31.540039Z"
    },
    "papermill": {
     "duration": 0.008598,
     "end_time": "2025-05-15T16:14:31.541214",
     "exception": false,
     "start_time": "2025-05-15T16:14:31.532616",
     "status": "completed"
    },
    "tags": [
     "injected-parameters"
    ]
   },
   "outputs": [],
   "source": [
    "# Parameters\n",
    "CELL_TYPE = \"DC\"\n",
    "SEED = 2\n",
    "TEST_SPLIT_IDX = 0\n"
   ]
  },
  {
   "cell_type": "code",
   "execution_count": 3,
   "id": "9b27c9c1",
   "metadata": {
    "execution": {
     "iopub.execute_input": "2025-05-15T16:14:31.551916Z",
     "iopub.status.busy": "2025-05-15T16:14:31.551741Z",
     "iopub.status.idle": "2025-05-15T16:14:31.553813Z",
     "shell.execute_reply": "2025-05-15T16:14:31.553513Z"
    },
    "papermill": {
     "duration": 0.008396,
     "end_time": "2025-05-15T16:14:31.554619",
     "exception": false,
     "start_time": "2025-05-15T16:14:31.546223",
     "status": "completed"
    },
    "tags": []
   },
   "outputs": [],
   "source": [
    "N_SPLITS: int = 5\n",
    "N_TRIALS: int = 50"
   ]
  },
  {
   "cell_type": "code",
   "execution_count": 4,
   "id": "e14f73bd",
   "metadata": {
    "execution": {
     "iopub.execute_input": "2025-05-15T16:14:31.566391Z",
     "iopub.status.busy": "2025-05-15T16:14:31.565997Z",
     "iopub.status.idle": "2025-05-15T16:14:32.982691Z",
     "shell.execute_reply": "2025-05-15T16:14:32.982157Z"
    },
    "papermill": {
     "duration": 1.424387,
     "end_time": "2025-05-15T16:14:32.983994",
     "exception": false,
     "start_time": "2025-05-15T16:14:31.559607",
     "status": "completed"
    },
    "tags": []
   },
   "outputs": [],
   "source": [
    "import os\n",
    "import sys\n",
    "from pyprojroot.here import here\n",
    "import pandas as pd\n",
    "import anndata as ad\n",
    "import numpy as np\n",
    "import math\n",
    "from sklearn.model_selection import StratifiedGroupKFold\n",
    "from sklearn.preprocessing import LabelEncoder\n",
    "from sklearn.metrics import f1_score\n",
    "import matplotlib.pyplot as plt\n",
    "import seaborn as sns\n",
    "from itertools import product\n",
    "from sklearn.metrics import balanced_accuracy_score, f1_score\n",
    "import optuna\n",
    "\n",
    "import joblib\n",
    "import pickle\n",
    "import datetime\n",
    "\n",
    "import collections\n",
    "\n",
    "import xgboost\n",
    "from sklearn.preprocessing import LabelEncoder\n",
    "\n",
    "import scipy.sparse as ssp\n",
    "import joblib\n",
    "\n",
    "from dotenv import load_dotenv"
   ]
  },
  {
   "cell_type": "code",
   "execution_count": 5,
   "id": "b4242311",
   "metadata": {
    "execution": {
     "iopub.execute_input": "2025-05-15T16:14:32.995375Z",
     "iopub.status.busy": "2025-05-15T16:14:32.995061Z",
     "iopub.status.idle": "2025-05-15T16:14:33.000439Z",
     "shell.execute_reply": "2025-05-15T16:14:33.000129Z"
    },
    "papermill": {
     "duration": 0.011937,
     "end_time": "2025-05-15T16:14:33.001333",
     "exception": false,
     "start_time": "2025-05-15T16:14:32.989396",
     "status": "completed"
    },
    "tags": []
   },
   "outputs": [
    {
     "data": {
      "text/plain": [
       "True"
      ]
     },
     "execution_count": 5,
     "metadata": {},
     "output_type": "execute_result"
    }
   ],
   "source": [
    "load_dotenv()"
   ]
  },
  {
   "cell_type": "markdown",
   "id": "4955824b",
   "metadata": {
    "papermill": {
     "duration": 0.004993,
     "end_time": "2025-05-15T16:14:33.011186",
     "exception": false,
     "start_time": "2025-05-15T16:14:33.006193",
     "status": "completed"
    },
    "tags": []
   },
   "source": [
    "# LOAD DATASET"
   ]
  },
  {
   "cell_type": "code",
   "execution_count": 6,
   "id": "f420b7a3",
   "metadata": {
    "execution": {
     "iopub.execute_input": "2025-05-15T16:14:33.022147Z",
     "iopub.status.busy": "2025-05-15T16:14:33.021791Z",
     "iopub.status.idle": "2025-05-15T16:14:33.116199Z",
     "shell.execute_reply": "2025-05-15T16:14:33.115750Z"
    },
    "papermill": {
     "duration": 0.101057,
     "end_time": "2025-05-15T16:14:33.117448",
     "exception": false,
     "start_time": "2025-05-15T16:14:33.016391",
     "status": "completed"
    },
    "tags": []
   },
   "outputs": [],
   "source": [
    "train_adata = ad.read_h5ad(\n",
    "    here(f'03_downstream_analysis/08_gene_importance/xgboost_external_validation/xgboost_TopN_genes/data_cellTypes/EXTERNAL_{CELL_TYPE}.filtered.log1p.h5ad')\n",
    ")"
   ]
  },
  {
   "cell_type": "code",
   "execution_count": 7,
   "id": "1ce19439",
   "metadata": {
    "execution": {
     "iopub.execute_input": "2025-05-15T16:14:33.128839Z",
     "iopub.status.busy": "2025-05-15T16:14:33.128646Z",
     "iopub.status.idle": "2025-05-15T16:14:33.138803Z",
     "shell.execute_reply": "2025-05-15T16:14:33.138482Z"
    },
    "papermill": {
     "duration": 0.016703,
     "end_time": "2025-05-15T16:14:33.139681",
     "exception": false,
     "start_time": "2025-05-15T16:14:33.122978",
     "status": "completed"
    },
    "tags": []
   },
   "outputs": [
    {
     "name": "stdout",
     "output_type": "stream",
     "text": [
      "['ENSG00000172009' 'ENSG00000170296' 'ENSG00000178695' 'ENSG00000142546'\n",
      " 'ENSG00000264364' 'ENSG00000136689' 'ENSG00000154589' 'ENSG00000104763'\n",
      " 'ENSG00000105374' 'ENSG00000179144' 'ENSG00000026103' 'ENSG00000167863'\n",
      " 'ENSG00000136997' 'ENSG00000133246' 'ENSG00000122705' 'ENSG00000115145'\n",
      " 'ENSG00000229474' 'ENSG00000148908' 'ENSG00000235162' 'ENSG00000084207'\n",
      " 'ENSG00000160932' 'ENSG00000165527' 'ENSG00000106066' 'ENSG00000131018'\n",
      " 'ENSG00000176788' 'ENSG00000242574' 'ENSG00000155465' 'ENSG00000145912'\n",
      " 'ENSG00000141505' 'ENSG00000115523' 'ENSG00000130724' 'ENSG00000128383'\n",
      " 'ENSG00000136738' 'ENSG00000138674' 'ENSG00000042753' 'ENSG00000143546'\n",
      " 'ENSG00000204642' 'ENSG00000119508' 'ENSG00000163660' 'ENSG00000204264'\n",
      " 'ENSG00000127528' 'ENSG00000143924' 'ENSG00000277632' 'ENSG00000125384'\n",
      " 'ENSG00000106565' 'ENSG00000139192' 'ENSG00000129084' 'ENSG00000146278'\n",
      " 'ENSG00000197746' 'ENSG00000147443' 'ENSG00000171608' 'ENSG00000101096'\n",
      " 'ENSG00000100097' 'ENSG00000136003' 'ENSG00000187608' 'ENSG00000163513'\n",
      " 'ENSG00000166927' 'ENSG00000059728' 'ENSG00000123268' 'ENSG00000196961'\n",
      " 'ENSG00000172936' 'ENSG00000120594' 'ENSG00000134352' 'ENSG00000104870'\n",
      " 'ENSG00000090266' 'ENSG00000118515' 'ENSG00000160791' 'ENSG00000160075'\n",
      " 'ENSG00000198355' 'ENSG00000125743' 'ENSG00000197102' 'ENSG00000167705'\n",
      " 'ENSG00000135441' 'ENSG00000085265' 'ENSG00000110077' 'ENSG00000075945'\n",
      " 'ENSG00000277791' 'ENSG00000132432' 'ENSG00000138678' 'ENSG00000113615'\n",
      " 'ENSG00000101695' 'ENSG00000152056' 'ENSG00000198668' 'ENSG00000169896'\n",
      " 'ENSG00000132912' 'ENSG00000135046' 'ENSG00000028137' 'ENSG00000175104'\n",
      " 'ENSG00000175567' 'ENSG00000119535' 'ENSG00000142166' 'ENSG00000143110'\n",
      " 'ENSG00000112486' 'ENSG00000116667' 'ENSG00000163131' 'ENSG00000111331'\n",
      " 'ENSG00000085514' 'ENSG00000183508' 'ENSG00000183023' 'ENSG00000130066'\n",
      " 'ENSG00000170581' 'ENSG00000172183' 'ENSG00000177575' 'ENSG00000101474'\n",
      " 'ENSG00000204472' 'ENSG00000152234' 'ENSG00000079616' 'ENSG00000160710'\n",
      " 'ENSG00000173757' 'ENSG00000108639' 'ENSG00000170525' 'ENSG00000082074'\n",
      " 'ENSG00000111335' 'ENSG00000156411' 'ENSG00000141574' 'ENSG00000149311'\n",
      " 'ENSG00000106803' 'ENSG00000138448']\n"
     ]
    }
   ],
   "source": [
    "if SEED != 'all':\n",
    "    gene_subset = np.load(here(f'03_downstream_analysis/08_gene_importance/xgboost_external_validation/shap_gene_selection/gene_subsets_{N_GENES}/{CELL_TYPE}_{SEED}.npy'), allow_pickle=True)\n",
    "    train_adata = train_adata[:,gene_subset]\n",
    "    print(gene_subset)\n",
    "elif SEED == 'all':\n",
    "    print('Using all genes')\n",
    "else:\n",
    "    raise ValueError()"
   ]
  },
  {
   "cell_type": "code",
   "execution_count": 8,
   "id": "115abef6",
   "metadata": {
    "execution": {
     "iopub.execute_input": "2025-05-15T16:14:33.150865Z",
     "iopub.status.busy": "2025-05-15T16:14:33.150538Z",
     "iopub.status.idle": "2025-05-15T16:14:33.153499Z",
     "shell.execute_reply": "2025-05-15T16:14:33.153190Z"
    },
    "papermill": {
     "duration": 0.009691,
     "end_time": "2025-05-15T16:14:33.154361",
     "exception": false,
     "start_time": "2025-05-15T16:14:33.144670",
     "status": "completed"
    },
    "tags": []
   },
   "outputs": [
    {
     "data": {
      "text/plain": [
       "(5232, 118)"
      ]
     },
     "execution_count": 8,
     "metadata": {},
     "output_type": "execute_result"
    }
   ],
   "source": [
    "train_adata.shape"
   ]
  },
  {
   "cell_type": "code",
   "execution_count": 9,
   "id": "8ff31fc7",
   "metadata": {
    "execution": {
     "iopub.execute_input": "2025-05-15T16:14:33.165929Z",
     "iopub.status.busy": "2025-05-15T16:14:33.165526Z",
     "iopub.status.idle": "2025-05-15T16:14:33.168952Z",
     "shell.execute_reply": "2025-05-15T16:14:33.168645Z"
    },
    "papermill": {
     "duration": 0.010264,
     "end_time": "2025-05-15T16:14:33.169785",
     "exception": false,
     "start_time": "2025-05-15T16:14:33.159521",
     "status": "completed"
    },
    "tags": []
   },
   "outputs": [
    {
     "data": {
      "text/plain": [
       "['RA', 'healthy', 'COVID', 'HIV', 'cirrhosis', 'CD', 'SLE', 'sepsis']\n",
       "Categories (8, object): ['CD', 'COVID', 'HIV', 'RA', 'SLE', 'cirrhosis', 'healthy', 'sepsis']"
      ]
     },
     "execution_count": 9,
     "metadata": {},
     "output_type": "execute_result"
    }
   ],
   "source": [
    "train_adata.obs.disease.unique()"
   ]
  },
  {
   "cell_type": "code",
   "execution_count": 10,
   "id": "c7af4f77",
   "metadata": {
    "execution": {
     "iopub.execute_input": "2025-05-15T16:14:33.181009Z",
     "iopub.status.busy": "2025-05-15T16:14:33.180734Z",
     "iopub.status.idle": "2025-05-15T16:14:33.184259Z",
     "shell.execute_reply": "2025-05-15T16:14:33.183944Z"
    },
    "papermill": {
     "duration": 0.01026,
     "end_time": "2025-05-15T16:14:33.185153",
     "exception": false,
     "start_time": "2025-05-15T16:14:33.174893",
     "status": "completed"
    },
    "tags": []
   },
   "outputs": [
    {
     "data": {
      "text/plain": [
       "['SCGT00val_I036021_T0', 'SCGT00val_I036023_T0', 'SCGT00val_I036024_T0', 'SCGT00val_I036019_T0', 'SCGT00val_I0364_T0', ..., '10XGenomics_10XHC2_T0', '10XGenomics_10XHC3_T0', '10XGenomics_10XHC5_T0', '10XGenomics_10XHC7_T0', '10XGenomics_10XHC8_T0']\n",
       "Length: 86\n",
       "Categories (86, object): ['10XGenomics_10XHC1_T0', '10XGenomics_10XHC2_T0', '10XGenomics_10XHC3_T0', '10XGenomics_10XHC4_T0', ..., 'Savage2021_BRISL6_T0', 'Savage2021_BRISL7_T0', 'Savage2021_PIDA_T0', 'Savage2021_PIDB_T0']"
      ]
     },
     "execution_count": 10,
     "metadata": {},
     "output_type": "execute_result"
    }
   ],
   "source": [
    "train_adata.obs.sampleID.unique()"
   ]
  },
  {
   "cell_type": "code",
   "execution_count": 11,
   "id": "3bdccc9f",
   "metadata": {
    "execution": {
     "iopub.execute_input": "2025-05-15T16:14:33.196477Z",
     "iopub.status.busy": "2025-05-15T16:14:33.196304Z",
     "iopub.status.idle": "2025-05-15T16:14:33.235869Z",
     "shell.execute_reply": "2025-05-15T16:14:33.235513Z"
    },
    "papermill": {
     "duration": 0.046132,
     "end_time": "2025-05-15T16:14:33.236685",
     "exception": false,
     "start_time": "2025-05-15T16:14:33.190553",
     "status": "completed"
    },
    "tags": []
   },
   "outputs": [],
   "source": [
    "all_idxs = np.arange(train_adata.obs.shape[0])\n",
    "left_out_splits = [s[1] for s in StratifiedGroupKFold(n_splits=N_SPLITS).split(all_idxs, train_adata.obs.disease, train_adata.obs.sampleID)]"
   ]
  },
  {
   "cell_type": "code",
   "execution_count": 12,
   "id": "0a366a0d",
   "metadata": {
    "execution": {
     "iopub.execute_input": "2025-05-15T16:14:33.248800Z",
     "iopub.status.busy": "2025-05-15T16:14:33.248368Z",
     "iopub.status.idle": "2025-05-15T16:14:33.251591Z",
     "shell.execute_reply": "2025-05-15T16:14:33.251290Z"
    },
    "papermill": {
     "duration": 0.010034,
     "end_time": "2025-05-15T16:14:33.252411",
     "exception": false,
     "start_time": "2025-05-15T16:14:33.242377",
     "status": "completed"
    },
    "tags": []
   },
   "outputs": [
    {
     "data": {
      "text/plain": [
       "([2, 3, 4], 1, 0)"
      ]
     },
     "execution_count": 12,
     "metadata": {},
     "output_type": "execute_result"
    }
   ],
   "source": [
    "TRAIN_SPLIT_IDXS = [0,1,2,3,4]\n",
    "VAL_SPLIT_IDX = (TEST_SPLIT_IDX + 1) % 5\n",
    "TRAIN_SPLIT_IDXS.remove(TEST_SPLIT_IDX)\n",
    "TRAIN_SPLIT_IDXS.remove(VAL_SPLIT_IDX)\n",
    "TRAIN_SPLIT_IDXS, VAL_SPLIT_IDX, TEST_SPLIT_IDX"
   ]
  },
  {
   "cell_type": "code",
   "execution_count": 13,
   "id": "829f210c",
   "metadata": {
    "execution": {
     "iopub.execute_input": "2025-05-15T16:14:33.264001Z",
     "iopub.status.busy": "2025-05-15T16:14:33.263710Z",
     "iopub.status.idle": "2025-05-15T16:14:33.266448Z",
     "shell.execute_reply": "2025-05-15T16:14:33.266058Z"
    },
    "papermill": {
     "duration": 0.009452,
     "end_time": "2025-05-15T16:14:33.267267",
     "exception": false,
     "start_time": "2025-05-15T16:14:33.257815",
     "status": "completed"
    },
    "tags": []
   },
   "outputs": [],
   "source": [
    "train_idxs = np.concatenate([left_out_splits[idx] for idx in TRAIN_SPLIT_IDXS])\n",
    "val_idxs = left_out_splits[VAL_SPLIT_IDX]\n",
    "test_idxs = left_out_splits[TEST_SPLIT_IDX]"
   ]
  },
  {
   "cell_type": "markdown",
   "id": "fb415389",
   "metadata": {
    "papermill": {
     "duration": 0.005513,
     "end_time": "2025-05-15T16:14:33.278210",
     "exception": false,
     "start_time": "2025-05-15T16:14:33.272697",
     "status": "completed"
    },
    "tags": []
   },
   "source": [
    "### SUBSET DATASET INTO TRAIN/TEST/VAL SPLITS"
   ]
  },
  {
   "cell_type": "code",
   "execution_count": 14,
   "id": "59cdb2e5",
   "metadata": {
    "execution": {
     "iopub.execute_input": "2025-05-15T16:14:33.289911Z",
     "iopub.status.busy": "2025-05-15T16:14:33.289570Z",
     "iopub.status.idle": "2025-05-15T16:14:33.316240Z",
     "shell.execute_reply": "2025-05-15T16:14:33.315761Z"
    },
    "papermill": {
     "duration": 0.033581,
     "end_time": "2025-05-15T16:14:33.317280",
     "exception": false,
     "start_time": "2025-05-15T16:14:33.283699",
     "status": "completed"
    },
    "tags": []
   },
   "outputs": [
    {
     "data": {
      "text/plain": [
       "((3132, 118), (1033, 118), (1067, 118))"
      ]
     },
     "execution_count": 14,
     "metadata": {},
     "output_type": "execute_result"
    }
   ],
   "source": [
    "X_train = train_adata.X[train_idxs]\n",
    "X_test = train_adata.X[test_idxs]\n",
    "X_val = train_adata.X[val_idxs]\n",
    "X_train.shape, X_test.shape, X_val.shape"
   ]
  },
  {
   "cell_type": "code",
   "execution_count": 15,
   "id": "664a0f7e",
   "metadata": {
    "execution": {
     "iopub.execute_input": "2025-05-15T16:14:33.329695Z",
     "iopub.status.busy": "2025-05-15T16:14:33.329503Z",
     "iopub.status.idle": "2025-05-15T16:14:33.334884Z",
     "shell.execute_reply": "2025-05-15T16:14:33.334578Z"
    },
    "papermill": {
     "duration": 0.012415,
     "end_time": "2025-05-15T16:14:33.335719",
     "exception": false,
     "start_time": "2025-05-15T16:14:33.323304",
     "status": "completed"
    },
    "tags": []
   },
   "outputs": [
    {
     "data": {
      "text/plain": [
       "((3132,), (1033,), (1067,))"
      ]
     },
     "execution_count": 15,
     "metadata": {},
     "output_type": "execute_result"
    }
   ],
   "source": [
    "y_train = train_adata.obs.iloc[train_idxs].disease.values.astype(str)\n",
    "y_test = train_adata.obs.iloc[test_idxs].disease.values.astype(str)\n",
    "y_val = train_adata.obs.iloc[val_idxs].disease.values.astype(str)\n",
    "y_train.shape, y_test.shape, y_val.shape"
   ]
  },
  {
   "cell_type": "code",
   "execution_count": 16,
   "id": "26615424",
   "metadata": {
    "execution": {
     "iopub.execute_input": "2025-05-15T16:14:33.347457Z",
     "iopub.status.busy": "2025-05-15T16:14:33.347245Z",
     "iopub.status.idle": "2025-05-15T16:14:33.350860Z",
     "shell.execute_reply": "2025-05-15T16:14:33.350540Z"
    },
    "papermill": {
     "duration": 0.0105,
     "end_time": "2025-05-15T16:14:33.351701",
     "exception": false,
     "start_time": "2025-05-15T16:14:33.341201",
     "status": "completed"
    },
    "tags": []
   },
   "outputs": [],
   "source": [
    "lenc = LabelEncoder()\n",
    "y_train_enc = lenc.fit_transform(y_train)\n",
    "y_val_enc = lenc.transform(y_val)\n",
    "y_test_enc = lenc.transform(y_test)"
   ]
  },
  {
   "cell_type": "markdown",
   "id": "7a563692",
   "metadata": {
    "papermill": {
     "duration": 0.005438,
     "end_time": "2025-05-15T16:14:33.362851",
     "exception": false,
     "start_time": "2025-05-15T16:14:33.357413",
     "status": "completed"
    },
    "tags": []
   },
   "source": [
    "### GENERATE F1 "
   ]
  },
  {
   "cell_type": "code",
   "execution_count": 17,
   "id": "57d15689",
   "metadata": {
    "execution": {
     "iopub.execute_input": "2025-05-15T16:14:33.374798Z",
     "iopub.status.busy": "2025-05-15T16:14:33.374458Z",
     "iopub.status.idle": "2025-05-15T16:14:33.376758Z",
     "shell.execute_reply": "2025-05-15T16:14:33.376458Z"
    },
    "papermill": {
     "duration": 0.0091,
     "end_time": "2025-05-15T16:14:33.377551",
     "exception": false,
     "start_time": "2025-05-15T16:14:33.368451",
     "status": "completed"
    },
    "tags": []
   },
   "outputs": [],
   "source": [
    "def custom_f1_score(y_true, y_pred):\n",
    "    return -f1_score(y_true, y_pred.argmax(1), average='weighted')"
   ]
  },
  {
   "cell_type": "code",
   "execution_count": 18,
   "id": "c52284fa",
   "metadata": {
    "execution": {
     "iopub.execute_input": "2025-05-15T16:14:33.389694Z",
     "iopub.status.busy": "2025-05-15T16:14:33.389477Z",
     "iopub.status.idle": "2025-05-15T16:14:33.393235Z",
     "shell.execute_reply": "2025-05-15T16:14:33.392872Z"
    },
    "papermill": {
     "duration": 0.010984,
     "end_time": "2025-05-15T16:14:33.394198",
     "exception": false,
     "start_time": "2025-05-15T16:14:33.383214",
     "status": "completed"
    },
    "tags": []
   },
   "outputs": [],
   "source": [
    "eval_metric=custom_f1_score\n",
    "eval_metric_name='custom_f1_score'\n",
    "\n",
    "def objective(trial):\n",
    "    params = {\n",
    "        'n_estimators': 1500,\n",
    "        'max_depth': trial.suggest_int('max_depth', 3, 20),\n",
    "        'min_child_weight': trial.suggest_int('min_child_weight', 1, 250),\n",
    "        'subsample': trial.suggest_float('subsample', 0.1, 1.0),\n",
    "        'colsample_bynode': trial.suggest_float('colsample_bynode', 0.1, 1.0),\n",
    "        'learning_rate': trial.suggest_float('learning_rate', 1e-3, 5e-1, log=True),\n",
    "    }\n",
    "    pruning_callback = optuna.integration.XGBoostPruningCallback(trial, f'validation_0-{eval_metric_name}')\n",
    "    es_callback = xgboost.callback.EarlyStopping(20, min_delta=0.001)\n",
    "    xgb = xgboost.XGBClassifier(\n",
    "        eval_metric=eval_metric,\n",
    "        callbacks=[pruning_callback, es_callback],\n",
    "        n_jobs=5,\n",
    "        **params\n",
    "    )\n",
    "    xgb.fit(\n",
    "        X_train, \n",
    "        y_train_enc, \n",
    "        verbose=0,\n",
    "        eval_set=[(X_val, y_val_enc)],\n",
    "    )\n",
    "    trial.set_user_attr('best_iteration', xgb.best_iteration)\n",
    "\n",
    "    return xgb.best_score"
   ]
  },
  {
   "cell_type": "code",
   "execution_count": 19,
   "id": "752f2035",
   "metadata": {
    "execution": {
     "iopub.execute_input": "2025-05-15T16:14:33.406596Z",
     "iopub.status.busy": "2025-05-15T16:14:33.406179Z",
     "iopub.status.idle": "2025-05-15T16:15:02.451085Z",
     "shell.execute_reply": "2025-05-15T16:15:02.450645Z"
    },
    "papermill": {
     "duration": 29.052008,
     "end_time": "2025-05-15T16:15:02.452077",
     "exception": false,
     "start_time": "2025-05-15T16:14:33.400069",
     "status": "completed"
    },
    "scrolled": true,
    "tags": []
   },
   "outputs": [
    {
     "name": "stderr",
     "output_type": "stream",
     "text": [
      "[I 2025-05-15 18:14:33,408] A new study created in memory with name: no-name-afb25489-d983-481b-9c3e-95861de3e94b\n"
     ]
    },
    {
     "name": "stderr",
     "output_type": "stream",
     "text": [
      "[I 2025-05-15 18:14:33,598] Trial 0 finished with value: -0.55177 and parameters: {'max_depth': 9, 'min_child_weight': 238, 'subsample': 0.7587945476302645, 'colsample_bynode': 0.6387926357773329, 'learning_rate': 0.0026368755339723046}. Best is trial 0 with value: -0.55177.\n"
     ]
    },
    {
     "name": "stderr",
     "output_type": "stream",
     "text": [
      "[I 2025-05-15 18:14:36,275] Trial 1 finished with value: -0.747545 and parameters: {'max_depth': 5, 'min_child_weight': 15, 'subsample': 0.8795585311974417, 'colsample_bynode': 0.6410035105688879, 'learning_rate': 0.08148293210105287}. Best is trial 1 with value: -0.747545.\n"
     ]
    },
    {
     "name": "stderr",
     "output_type": "stream",
     "text": [
      "[I 2025-05-15 18:14:36,628] Trial 2 finished with value: -0.575448 and parameters: {'max_depth': 3, 'min_child_weight': 243, 'subsample': 0.8491983767203796, 'colsample_bynode': 0.29110519961044856, 'learning_rate': 0.003095566460242371}. Best is trial 1 with value: -0.747545.\n"
     ]
    },
    {
     "name": "stderr",
     "output_type": "stream",
     "text": [
      "[I 2025-05-15 18:14:37,520] Trial 3 finished with value: -0.589096 and parameters: {'max_depth': 6, 'min_child_weight': 77, 'subsample': 0.5722807884690141, 'colsample_bynode': 0.48875051677790415, 'learning_rate': 0.006109683510122491}. Best is trial 1 with value: -0.747545.\n"
     ]
    },
    {
     "name": "stderr",
     "output_type": "stream",
     "text": [
      "[I 2025-05-15 18:14:38,180] Trial 4 finished with value: -0.609979 and parameters: {'max_depth': 14, 'min_child_weight': 35, 'subsample': 0.3629301836816964, 'colsample_bynode': 0.4297256589643226, 'learning_rate': 0.01701841881702917}. Best is trial 1 with value: -0.747545.\n"
     ]
    },
    {
     "name": "stderr",
     "output_type": "stream",
     "text": [
      "[I 2025-05-15 18:14:38,599] Trial 5 finished with value: -0.615986 and parameters: {'max_depth': 17, 'min_child_weight': 50, 'subsample': 0.5628109945722505, 'colsample_bynode': 0.6331731119758383, 'learning_rate': 0.0013346527038305934}. Best is trial 1 with value: -0.747545.\n"
     ]
    },
    {
     "name": "stderr",
     "output_type": "stream",
     "text": [
      "[I 2025-05-15 18:14:38,721] Trial 6 pruned. Trial was pruned at iteration 0.\n"
     ]
    },
    {
     "name": "stderr",
     "output_type": "stream",
     "text": [
      "[I 2025-05-15 18:14:38,837] Trial 7 pruned. Trial was pruned at iteration 0.\n"
     ]
    },
    {
     "name": "stderr",
     "output_type": "stream",
     "text": [
      "[I 2025-05-15 18:14:38,957] Trial 8 pruned. Trial was pruned at iteration 0.\n"
     ]
    },
    {
     "name": "stderr",
     "output_type": "stream",
     "text": [
      "[I 2025-05-15 18:14:39,075] Trial 9 pruned. Trial was pruned at iteration 0.\n"
     ]
    },
    {
     "name": "stderr",
     "output_type": "stream",
     "text": [
      "[I 2025-05-15 18:14:41,285] Trial 10 pruned. Trial was pruned at iteration 67.\n"
     ]
    },
    {
     "name": "stderr",
     "output_type": "stream",
     "text": [
      "[I 2025-05-15 18:14:46,271] Trial 11 pruned. Trial was pruned at iteration 88.\n"
     ]
    },
    {
     "name": "stderr",
     "output_type": "stream",
     "text": [
      "[I 2025-05-15 18:14:46,421] Trial 12 pruned. Trial was pruned at iteration 0.\n"
     ]
    },
    {
     "name": "stderr",
     "output_type": "stream",
     "text": [
      "[I 2025-05-15 18:14:46,562] Trial 13 pruned. Trial was pruned at iteration 0.\n"
     ]
    },
    {
     "name": "stderr",
     "output_type": "stream",
     "text": [
      "[I 2025-05-15 18:14:47,291] Trial 14 pruned. Trial was pruned at iteration 46.\n"
     ]
    },
    {
     "name": "stderr",
     "output_type": "stream",
     "text": [
      "[I 2025-05-15 18:14:47,421] Trial 15 pruned. Trial was pruned at iteration 0.\n"
     ]
    },
    {
     "name": "stderr",
     "output_type": "stream",
     "text": [
      "[I 2025-05-15 18:14:48,417] Trial 16 finished with value: -0.674618 and parameters: {'max_depth': 3, 'min_child_weight': 27, 'subsample': 0.8631980957138053, 'colsample_bynode': 0.6970657857507844, 'learning_rate': 0.0313403095944194}. Best is trial 1 with value: -0.747545.\n"
     ]
    },
    {
     "name": "stderr",
     "output_type": "stream",
     "text": [
      "[I 2025-05-15 18:14:48,881] Trial 17 finished with value: -0.674098 and parameters: {'max_depth': 3, 'min_child_weight': 15, 'subsample': 0.859461694462958, 'colsample_bynode': 0.5071005570133115, 'learning_rate': 0.03429743867756372}. Best is trial 1 with value: -0.747545.\n"
     ]
    },
    {
     "name": "stderr",
     "output_type": "stream",
     "text": [
      "[I 2025-05-15 18:14:49,027] Trial 18 pruned. Trial was pruned at iteration 0.\n"
     ]
    },
    {
     "name": "stderr",
     "output_type": "stream",
     "text": [
      "[I 2025-05-15 18:14:49,159] Trial 19 pruned. Trial was pruned at iteration 0.\n"
     ]
    },
    {
     "name": "stderr",
     "output_type": "stream",
     "text": [
      "[I 2025-05-15 18:14:50,119] Trial 20 pruned. Trial was pruned at iteration 67.\n"
     ]
    },
    {
     "name": "stderr",
     "output_type": "stream",
     "text": [
      "[I 2025-05-15 18:14:50,615] Trial 21 finished with value: -0.658438 and parameters: {'max_depth': 3, 'min_child_weight': 18, 'subsample': 0.819134819511958, 'colsample_bynode': 0.5300431660350162, 'learning_rate': 0.036071858140429645}. Best is trial 1 with value: -0.747545.\n"
     ]
    },
    {
     "name": "stderr",
     "output_type": "stream",
     "text": [
      "[I 2025-05-15 18:14:50,757] Trial 22 pruned. Trial was pruned at iteration 0.\n"
     ]
    },
    {
     "name": "stderr",
     "output_type": "stream",
     "text": [
      "[I 2025-05-15 18:14:52,116] Trial 23 pruned. Trial was pruned at iteration 67.\n"
     ]
    },
    {
     "name": "stderr",
     "output_type": "stream",
     "text": [
      "[I 2025-05-15 18:14:52,251] Trial 24 pruned. Trial was pruned at iteration 0.\n"
     ]
    },
    {
     "name": "stderr",
     "output_type": "stream",
     "text": [
      "[I 2025-05-15 18:14:52,930] Trial 25 finished with value: -0.668573 and parameters: {'max_depth': 4, 'min_child_weight': 3, 'subsample': 0.7922946954063617, 'colsample_bynode': 0.5434848006700226, 'learning_rate': 0.011431528382436208}. Best is trial 1 with value: -0.747545.\n"
     ]
    },
    {
     "name": "stderr",
     "output_type": "stream",
     "text": [
      "[I 2025-05-15 18:14:55,134] Trial 26 finished with value: -0.74969 and parameters: {'max_depth': 9, 'min_child_weight': 31, 'subsample': 0.92078509757011, 'colsample_bynode': 0.7972101499293454, 'learning_rate': 0.11302262870839216}. Best is trial 26 with value: -0.74969.\n"
     ]
    },
    {
     "name": "stderr",
     "output_type": "stream",
     "text": [
      "[I 2025-05-15 18:14:55,296] Trial 27 pruned. Trial was pruned at iteration 0.\n"
     ]
    },
    {
     "name": "stderr",
     "output_type": "stream",
     "text": [
      "[I 2025-05-15 18:14:55,454] Trial 28 pruned. Trial was pruned at iteration 0.\n"
     ]
    },
    {
     "name": "stderr",
     "output_type": "stream",
     "text": [
      "[I 2025-05-15 18:14:55,597] Trial 29 pruned. Trial was pruned at iteration 0.\n"
     ]
    },
    {
     "name": "stderr",
     "output_type": "stream",
     "text": [
      "[I 2025-05-15 18:14:55,755] Trial 30 pruned. Trial was pruned at iteration 0.\n"
     ]
    },
    {
     "name": "stderr",
     "output_type": "stream",
     "text": [
      "[I 2025-05-15 18:14:56,400] Trial 31 finished with value: -0.667059 and parameters: {'max_depth': 4, 'min_child_weight': 15, 'subsample': 0.841434207898403, 'colsample_bynode': 0.5829515299994854, 'learning_rate': 0.02247288083621899}. Best is trial 26 with value: -0.74969.\n"
     ]
    },
    {
     "name": "stderr",
     "output_type": "stream",
     "text": [
      "[I 2025-05-15 18:14:56,580] Trial 32 pruned. Trial was pruned at iteration 1.\n"
     ]
    },
    {
     "name": "stderr",
     "output_type": "stream",
     "text": [
      "[I 2025-05-15 18:14:57,956] Trial 33 pruned. Trial was pruned at iteration 77.\n"
     ]
    },
    {
     "name": "stderr",
     "output_type": "stream",
     "text": [
      "[I 2025-05-15 18:14:58,149] Trial 34 pruned. Trial was pruned at iteration 2.\n"
     ]
    },
    {
     "name": "stderr",
     "output_type": "stream",
     "text": [
      "[I 2025-05-15 18:14:58,314] Trial 35 pruned. Trial was pruned at iteration 0.\n"
     ]
    },
    {
     "name": "stderr",
     "output_type": "stream",
     "text": [
      "[I 2025-05-15 18:14:58,465] Trial 36 pruned. Trial was pruned at iteration 0.\n"
     ]
    },
    {
     "name": "stderr",
     "output_type": "stream",
     "text": [
      "[I 2025-05-15 18:14:58,881] Trial 37 finished with value: -0.657204 and parameters: {'max_depth': 3, 'min_child_weight': 13, 'subsample': 0.6280258545439438, 'colsample_bynode': 0.34035170607631715, 'learning_rate': 0.008240486236357382}. Best is trial 26 with value: -0.74969.\n"
     ]
    },
    {
     "name": "stderr",
     "output_type": "stream",
     "text": [
      "[I 2025-05-15 18:14:59,041] Trial 38 pruned. Trial was pruned at iteration 0.\n"
     ]
    },
    {
     "name": "stderr",
     "output_type": "stream",
     "text": [
      "[I 2025-05-15 18:14:59,202] Trial 39 pruned. Trial was pruned at iteration 0.\n"
     ]
    },
    {
     "name": "stderr",
     "output_type": "stream",
     "text": [
      "[I 2025-05-15 18:14:59,361] Trial 40 pruned. Trial was pruned at iteration 0.\n"
     ]
    },
    {
     "name": "stderr",
     "output_type": "stream",
     "text": [
      "[I 2025-05-15 18:15:00,071] Trial 41 finished with value: -0.673328 and parameters: {'max_depth': 4, 'min_child_weight': 2, 'subsample': 0.7728732514979291, 'colsample_bynode': 0.505413087591716, 'learning_rate': 0.012200784465143071}. Best is trial 26 with value: -0.74969.\n"
     ]
    },
    {
     "name": "stderr",
     "output_type": "stream",
     "text": [
      "[I 2025-05-15 18:15:00,843] Trial 42 finished with value: -0.678749 and parameters: {'max_depth': 4, 'min_child_weight': 2, 'subsample': 0.7971333937399627, 'colsample_bynode': 0.4997867479421264, 'learning_rate': 0.0065831794578547695}. Best is trial 26 with value: -0.74969.\n"
     ]
    },
    {
     "name": "stderr",
     "output_type": "stream",
     "text": [
      "[I 2025-05-15 18:15:00,993] Trial 43 pruned. Trial was pruned at iteration 0.\n"
     ]
    },
    {
     "name": "stderr",
     "output_type": "stream",
     "text": [
      "[I 2025-05-15 18:15:01,510] Trial 44 finished with value: -0.665371 and parameters: {'max_depth': 3, 'min_child_weight': 14, 'subsample': 0.8748073005041662, 'colsample_bynode': 0.6835658345200772, 'learning_rate': 0.006262839682142178}. Best is trial 26 with value: -0.74969.\n"
     ]
    },
    {
     "name": "stderr",
     "output_type": "stream",
     "text": [
      "[I 2025-05-15 18:15:01,672] Trial 45 pruned. Trial was pruned at iteration 1.\n"
     ]
    },
    {
     "name": "stderr",
     "output_type": "stream",
     "text": [
      "[I 2025-05-15 18:15:01,828] Trial 46 pruned. Trial was pruned at iteration 0.\n"
     ]
    },
    {
     "name": "stderr",
     "output_type": "stream",
     "text": [
      "[I 2025-05-15 18:15:01,985] Trial 47 pruned. Trial was pruned at iteration 0.\n"
     ]
    },
    {
     "name": "stderr",
     "output_type": "stream",
     "text": [
      "[I 2025-05-15 18:15:02,146] Trial 48 pruned. Trial was pruned at iteration 0.\n"
     ]
    },
    {
     "name": "stderr",
     "output_type": "stream",
     "text": [
      "[I 2025-05-15 18:15:02,343] Trial 49 pruned. Trial was pruned at iteration 1.\n"
     ]
    }
   ],
   "source": [
    "sampler = optuna.samplers.TPESampler(seed=42)\n",
    "study = optuna.create_study(direction='minimize', sampler=sampler)\n",
    "study.optimize(objective, n_trials=N_TRIALS, gc_after_trial=True)"
   ]
  },
  {
   "cell_type": "code",
   "execution_count": 20,
   "id": "970564c8",
   "metadata": {
    "execution": {
     "iopub.execute_input": "2025-05-15T16:15:02.471432Z",
     "iopub.status.busy": "2025-05-15T16:15:02.471231Z",
     "iopub.status.idle": "2025-05-15T16:15:02.492459Z",
     "shell.execute_reply": "2025-05-15T16:15:02.492109Z"
    },
    "papermill": {
     "duration": 0.030936,
     "end_time": "2025-05-15T16:15:02.493353",
     "exception": false,
     "start_time": "2025-05-15T16:15:02.462417",
     "status": "completed"
    },
    "tags": []
   },
   "outputs": [
    {
     "data": {
      "text/plain": [
       "['/scratch_isilon/groups/singlecell/shared/projects/Inflammation-PBMCs-Atlas/03_downstream_analysis/08_gene_importance/xgboost_external_validation/xgboost_TopN_genes/results_20/study/DC_2_0_xgboost.pkl']"
      ]
     },
     "execution_count": 20,
     "metadata": {},
     "output_type": "execute_result"
    }
   ],
   "source": [
    "out_dir = here(f'03_downstream_analysis/08_gene_importance/xgboost_external_validation/xgboost_TopN_genes/results_{N_GENES}/study')\n",
    "\n",
    "if not os.path.exists(out_dir):\n",
    "    os.makedirs(out_dir)\n",
    "    \n",
    "joblib.dump(study,os.path.join(out_dir, f'{CELL_TYPE}_{SEED}_{TEST_SPLIT_IDX}_xgboost.pkl'))"
   ]
  },
  {
   "cell_type": "code",
   "execution_count": 21,
   "id": "2e71d57a",
   "metadata": {
    "execution": {
     "iopub.execute_input": "2025-05-15T16:15:02.510581Z",
     "iopub.status.busy": "2025-05-15T16:15:02.510350Z",
     "iopub.status.idle": "2025-05-15T16:15:04.899072Z",
     "shell.execute_reply": "2025-05-15T16:15:04.898515Z"
    },
    "papermill": {
     "duration": 2.398527,
     "end_time": "2025-05-15T16:15:04.900150",
     "exception": false,
     "start_time": "2025-05-15T16:15:02.501623",
     "status": "completed"
    },
    "tags": []
   },
   "outputs": [
    {
     "data": {
      "text/html": [
       "<style>#sk-container-id-1 {\n",
       "  /* Definition of color scheme common for light and dark mode */\n",
       "  --sklearn-color-text: black;\n",
       "  --sklearn-color-line: gray;\n",
       "  /* Definition of color scheme for unfitted estimators */\n",
       "  --sklearn-color-unfitted-level-0: #fff5e6;\n",
       "  --sklearn-color-unfitted-level-1: #f6e4d2;\n",
       "  --sklearn-color-unfitted-level-2: #ffe0b3;\n",
       "  --sklearn-color-unfitted-level-3: chocolate;\n",
       "  /* Definition of color scheme for fitted estimators */\n",
       "  --sklearn-color-fitted-level-0: #f0f8ff;\n",
       "  --sklearn-color-fitted-level-1: #d4ebff;\n",
       "  --sklearn-color-fitted-level-2: #b3dbfd;\n",
       "  --sklearn-color-fitted-level-3: cornflowerblue;\n",
       "\n",
       "  /* Specific color for light theme */\n",
       "  --sklearn-color-text-on-default-background: var(--sg-text-color, var(--theme-code-foreground, var(--jp-content-font-color1, black)));\n",
       "  --sklearn-color-background: var(--sg-background-color, var(--theme-background, var(--jp-layout-color0, white)));\n",
       "  --sklearn-color-border-box: var(--sg-text-color, var(--theme-code-foreground, var(--jp-content-font-color1, black)));\n",
       "  --sklearn-color-icon: #696969;\n",
       "\n",
       "  @media (prefers-color-scheme: dark) {\n",
       "    /* Redefinition of color scheme for dark theme */\n",
       "    --sklearn-color-text-on-default-background: var(--sg-text-color, var(--theme-code-foreground, var(--jp-content-font-color1, white)));\n",
       "    --sklearn-color-background: var(--sg-background-color, var(--theme-background, var(--jp-layout-color0, #111)));\n",
       "    --sklearn-color-border-box: var(--sg-text-color, var(--theme-code-foreground, var(--jp-content-font-color1, white)));\n",
       "    --sklearn-color-icon: #878787;\n",
       "  }\n",
       "}\n",
       "\n",
       "#sk-container-id-1 {\n",
       "  color: var(--sklearn-color-text);\n",
       "}\n",
       "\n",
       "#sk-container-id-1 pre {\n",
       "  padding: 0;\n",
       "}\n",
       "\n",
       "#sk-container-id-1 input.sk-hidden--visually {\n",
       "  border: 0;\n",
       "  clip: rect(1px 1px 1px 1px);\n",
       "  clip: rect(1px, 1px, 1px, 1px);\n",
       "  height: 1px;\n",
       "  margin: -1px;\n",
       "  overflow: hidden;\n",
       "  padding: 0;\n",
       "  position: absolute;\n",
       "  width: 1px;\n",
       "}\n",
       "\n",
       "#sk-container-id-1 div.sk-dashed-wrapped {\n",
       "  border: 1px dashed var(--sklearn-color-line);\n",
       "  margin: 0 0.4em 0.5em 0.4em;\n",
       "  box-sizing: border-box;\n",
       "  padding-bottom: 0.4em;\n",
       "  background-color: var(--sklearn-color-background);\n",
       "}\n",
       "\n",
       "#sk-container-id-1 div.sk-container {\n",
       "  /* jupyter's `normalize.less` sets `[hidden] { display: none; }`\n",
       "     but bootstrap.min.css set `[hidden] { display: none !important; }`\n",
       "     so we also need the `!important` here to be able to override the\n",
       "     default hidden behavior on the sphinx rendered scikit-learn.org.\n",
       "     See: https://github.com/scikit-learn/scikit-learn/issues/21755 */\n",
       "  display: inline-block !important;\n",
       "  position: relative;\n",
       "}\n",
       "\n",
       "#sk-container-id-1 div.sk-text-repr-fallback {\n",
       "  display: none;\n",
       "}\n",
       "\n",
       "div.sk-parallel-item,\n",
       "div.sk-serial,\n",
       "div.sk-item {\n",
       "  /* draw centered vertical line to link estimators */\n",
       "  background-image: linear-gradient(var(--sklearn-color-text-on-default-background), var(--sklearn-color-text-on-default-background));\n",
       "  background-size: 2px 100%;\n",
       "  background-repeat: no-repeat;\n",
       "  background-position: center center;\n",
       "}\n",
       "\n",
       "/* Parallel-specific style estimator block */\n",
       "\n",
       "#sk-container-id-1 div.sk-parallel-item::after {\n",
       "  content: \"\";\n",
       "  width: 100%;\n",
       "  border-bottom: 2px solid var(--sklearn-color-text-on-default-background);\n",
       "  flex-grow: 1;\n",
       "}\n",
       "\n",
       "#sk-container-id-1 div.sk-parallel {\n",
       "  display: flex;\n",
       "  align-items: stretch;\n",
       "  justify-content: center;\n",
       "  background-color: var(--sklearn-color-background);\n",
       "  position: relative;\n",
       "}\n",
       "\n",
       "#sk-container-id-1 div.sk-parallel-item {\n",
       "  display: flex;\n",
       "  flex-direction: column;\n",
       "}\n",
       "\n",
       "#sk-container-id-1 div.sk-parallel-item:first-child::after {\n",
       "  align-self: flex-end;\n",
       "  width: 50%;\n",
       "}\n",
       "\n",
       "#sk-container-id-1 div.sk-parallel-item:last-child::after {\n",
       "  align-self: flex-start;\n",
       "  width: 50%;\n",
       "}\n",
       "\n",
       "#sk-container-id-1 div.sk-parallel-item:only-child::after {\n",
       "  width: 0;\n",
       "}\n",
       "\n",
       "/* Serial-specific style estimator block */\n",
       "\n",
       "#sk-container-id-1 div.sk-serial {\n",
       "  display: flex;\n",
       "  flex-direction: column;\n",
       "  align-items: center;\n",
       "  background-color: var(--sklearn-color-background);\n",
       "  padding-right: 1em;\n",
       "  padding-left: 1em;\n",
       "}\n",
       "\n",
       "\n",
       "/* Toggleable style: style used for estimator/Pipeline/ColumnTransformer box that is\n",
       "clickable and can be expanded/collapsed.\n",
       "- Pipeline and ColumnTransformer use this feature and define the default style\n",
       "- Estimators will overwrite some part of the style using the `sk-estimator` class\n",
       "*/\n",
       "\n",
       "/* Pipeline and ColumnTransformer style (default) */\n",
       "\n",
       "#sk-container-id-1 div.sk-toggleable {\n",
       "  /* Default theme specific background. It is overwritten whether we have a\n",
       "  specific estimator or a Pipeline/ColumnTransformer */\n",
       "  background-color: var(--sklearn-color-background);\n",
       "}\n",
       "\n",
       "/* Toggleable label */\n",
       "#sk-container-id-1 label.sk-toggleable__label {\n",
       "  cursor: pointer;\n",
       "  display: block;\n",
       "  width: 100%;\n",
       "  margin-bottom: 0;\n",
       "  padding: 0.5em;\n",
       "  box-sizing: border-box;\n",
       "  text-align: center;\n",
       "}\n",
       "\n",
       "#sk-container-id-1 label.sk-toggleable__label-arrow:before {\n",
       "  /* Arrow on the left of the label */\n",
       "  content: \"▸\";\n",
       "  float: left;\n",
       "  margin-right: 0.25em;\n",
       "  color: var(--sklearn-color-icon);\n",
       "}\n",
       "\n",
       "#sk-container-id-1 label.sk-toggleable__label-arrow:hover:before {\n",
       "  color: var(--sklearn-color-text);\n",
       "}\n",
       "\n",
       "/* Toggleable content - dropdown */\n",
       "\n",
       "#sk-container-id-1 div.sk-toggleable__content {\n",
       "  max-height: 0;\n",
       "  max-width: 0;\n",
       "  overflow: hidden;\n",
       "  text-align: left;\n",
       "  /* unfitted */\n",
       "  background-color: var(--sklearn-color-unfitted-level-0);\n",
       "}\n",
       "\n",
       "#sk-container-id-1 div.sk-toggleable__content.fitted {\n",
       "  /* fitted */\n",
       "  background-color: var(--sklearn-color-fitted-level-0);\n",
       "}\n",
       "\n",
       "#sk-container-id-1 div.sk-toggleable__content pre {\n",
       "  margin: 0.2em;\n",
       "  border-radius: 0.25em;\n",
       "  color: var(--sklearn-color-text);\n",
       "  /* unfitted */\n",
       "  background-color: var(--sklearn-color-unfitted-level-0);\n",
       "}\n",
       "\n",
       "#sk-container-id-1 div.sk-toggleable__content.fitted pre {\n",
       "  /* unfitted */\n",
       "  background-color: var(--sklearn-color-fitted-level-0);\n",
       "}\n",
       "\n",
       "#sk-container-id-1 input.sk-toggleable__control:checked~div.sk-toggleable__content {\n",
       "  /* Expand drop-down */\n",
       "  max-height: 200px;\n",
       "  max-width: 100%;\n",
       "  overflow: auto;\n",
       "}\n",
       "\n",
       "#sk-container-id-1 input.sk-toggleable__control:checked~label.sk-toggleable__label-arrow:before {\n",
       "  content: \"▾\";\n",
       "}\n",
       "\n",
       "/* Pipeline/ColumnTransformer-specific style */\n",
       "\n",
       "#sk-container-id-1 div.sk-label input.sk-toggleable__control:checked~label.sk-toggleable__label {\n",
       "  color: var(--sklearn-color-text);\n",
       "  background-color: var(--sklearn-color-unfitted-level-2);\n",
       "}\n",
       "\n",
       "#sk-container-id-1 div.sk-label.fitted input.sk-toggleable__control:checked~label.sk-toggleable__label {\n",
       "  background-color: var(--sklearn-color-fitted-level-2);\n",
       "}\n",
       "\n",
       "/* Estimator-specific style */\n",
       "\n",
       "/* Colorize estimator box */\n",
       "#sk-container-id-1 div.sk-estimator input.sk-toggleable__control:checked~label.sk-toggleable__label {\n",
       "  /* unfitted */\n",
       "  background-color: var(--sklearn-color-unfitted-level-2);\n",
       "}\n",
       "\n",
       "#sk-container-id-1 div.sk-estimator.fitted input.sk-toggleable__control:checked~label.sk-toggleable__label {\n",
       "  /* fitted */\n",
       "  background-color: var(--sklearn-color-fitted-level-2);\n",
       "}\n",
       "\n",
       "#sk-container-id-1 div.sk-label label.sk-toggleable__label,\n",
       "#sk-container-id-1 div.sk-label label {\n",
       "  /* The background is the default theme color */\n",
       "  color: var(--sklearn-color-text-on-default-background);\n",
       "}\n",
       "\n",
       "/* On hover, darken the color of the background */\n",
       "#sk-container-id-1 div.sk-label:hover label.sk-toggleable__label {\n",
       "  color: var(--sklearn-color-text);\n",
       "  background-color: var(--sklearn-color-unfitted-level-2);\n",
       "}\n",
       "\n",
       "/* Label box, darken color on hover, fitted */\n",
       "#sk-container-id-1 div.sk-label.fitted:hover label.sk-toggleable__label.fitted {\n",
       "  color: var(--sklearn-color-text);\n",
       "  background-color: var(--sklearn-color-fitted-level-2);\n",
       "}\n",
       "\n",
       "/* Estimator label */\n",
       "\n",
       "#sk-container-id-1 div.sk-label label {\n",
       "  font-family: monospace;\n",
       "  font-weight: bold;\n",
       "  display: inline-block;\n",
       "  line-height: 1.2em;\n",
       "}\n",
       "\n",
       "#sk-container-id-1 div.sk-label-container {\n",
       "  text-align: center;\n",
       "}\n",
       "\n",
       "/* Estimator-specific */\n",
       "#sk-container-id-1 div.sk-estimator {\n",
       "  font-family: monospace;\n",
       "  border: 1px dotted var(--sklearn-color-border-box);\n",
       "  border-radius: 0.25em;\n",
       "  box-sizing: border-box;\n",
       "  margin-bottom: 0.5em;\n",
       "  /* unfitted */\n",
       "  background-color: var(--sklearn-color-unfitted-level-0);\n",
       "}\n",
       "\n",
       "#sk-container-id-1 div.sk-estimator.fitted {\n",
       "  /* fitted */\n",
       "  background-color: var(--sklearn-color-fitted-level-0);\n",
       "}\n",
       "\n",
       "/* on hover */\n",
       "#sk-container-id-1 div.sk-estimator:hover {\n",
       "  /* unfitted */\n",
       "  background-color: var(--sklearn-color-unfitted-level-2);\n",
       "}\n",
       "\n",
       "#sk-container-id-1 div.sk-estimator.fitted:hover {\n",
       "  /* fitted */\n",
       "  background-color: var(--sklearn-color-fitted-level-2);\n",
       "}\n",
       "\n",
       "/* Specification for estimator info (e.g. \"i\" and \"?\") */\n",
       "\n",
       "/* Common style for \"i\" and \"?\" */\n",
       "\n",
       ".sk-estimator-doc-link,\n",
       "a:link.sk-estimator-doc-link,\n",
       "a:visited.sk-estimator-doc-link {\n",
       "  float: right;\n",
       "  font-size: smaller;\n",
       "  line-height: 1em;\n",
       "  font-family: monospace;\n",
       "  background-color: var(--sklearn-color-background);\n",
       "  border-radius: 1em;\n",
       "  height: 1em;\n",
       "  width: 1em;\n",
       "  text-decoration: none !important;\n",
       "  margin-left: 1ex;\n",
       "  /* unfitted */\n",
       "  border: var(--sklearn-color-unfitted-level-1) 1pt solid;\n",
       "  color: var(--sklearn-color-unfitted-level-1);\n",
       "}\n",
       "\n",
       ".sk-estimator-doc-link.fitted,\n",
       "a:link.sk-estimator-doc-link.fitted,\n",
       "a:visited.sk-estimator-doc-link.fitted {\n",
       "  /* fitted */\n",
       "  border: var(--sklearn-color-fitted-level-1) 1pt solid;\n",
       "  color: var(--sklearn-color-fitted-level-1);\n",
       "}\n",
       "\n",
       "/* On hover */\n",
       "div.sk-estimator:hover .sk-estimator-doc-link:hover,\n",
       ".sk-estimator-doc-link:hover,\n",
       "div.sk-label-container:hover .sk-estimator-doc-link:hover,\n",
       ".sk-estimator-doc-link:hover {\n",
       "  /* unfitted */\n",
       "  background-color: var(--sklearn-color-unfitted-level-3);\n",
       "  color: var(--sklearn-color-background);\n",
       "  text-decoration: none;\n",
       "}\n",
       "\n",
       "div.sk-estimator.fitted:hover .sk-estimator-doc-link.fitted:hover,\n",
       ".sk-estimator-doc-link.fitted:hover,\n",
       "div.sk-label-container:hover .sk-estimator-doc-link.fitted:hover,\n",
       ".sk-estimator-doc-link.fitted:hover {\n",
       "  /* fitted */\n",
       "  background-color: var(--sklearn-color-fitted-level-3);\n",
       "  color: var(--sklearn-color-background);\n",
       "  text-decoration: none;\n",
       "}\n",
       "\n",
       "/* Span, style for the box shown on hovering the info icon */\n",
       ".sk-estimator-doc-link span {\n",
       "  display: none;\n",
       "  z-index: 9999;\n",
       "  position: relative;\n",
       "  font-weight: normal;\n",
       "  right: .2ex;\n",
       "  padding: .5ex;\n",
       "  margin: .5ex;\n",
       "  width: min-content;\n",
       "  min-width: 20ex;\n",
       "  max-width: 50ex;\n",
       "  color: var(--sklearn-color-text);\n",
       "  box-shadow: 2pt 2pt 4pt #999;\n",
       "  /* unfitted */\n",
       "  background: var(--sklearn-color-unfitted-level-0);\n",
       "  border: .5pt solid var(--sklearn-color-unfitted-level-3);\n",
       "}\n",
       "\n",
       ".sk-estimator-doc-link.fitted span {\n",
       "  /* fitted */\n",
       "  background: var(--sklearn-color-fitted-level-0);\n",
       "  border: var(--sklearn-color-fitted-level-3);\n",
       "}\n",
       "\n",
       ".sk-estimator-doc-link:hover span {\n",
       "  display: block;\n",
       "}\n",
       "\n",
       "/* \"?\"-specific style due to the `<a>` HTML tag */\n",
       "\n",
       "#sk-container-id-1 a.estimator_doc_link {\n",
       "  float: right;\n",
       "  font-size: 1rem;\n",
       "  line-height: 1em;\n",
       "  font-family: monospace;\n",
       "  background-color: var(--sklearn-color-background);\n",
       "  border-radius: 1rem;\n",
       "  height: 1rem;\n",
       "  width: 1rem;\n",
       "  text-decoration: none;\n",
       "  /* unfitted */\n",
       "  color: var(--sklearn-color-unfitted-level-1);\n",
       "  border: var(--sklearn-color-unfitted-level-1) 1pt solid;\n",
       "}\n",
       "\n",
       "#sk-container-id-1 a.estimator_doc_link.fitted {\n",
       "  /* fitted */\n",
       "  border: var(--sklearn-color-fitted-level-1) 1pt solid;\n",
       "  color: var(--sklearn-color-fitted-level-1);\n",
       "}\n",
       "\n",
       "/* On hover */\n",
       "#sk-container-id-1 a.estimator_doc_link:hover {\n",
       "  /* unfitted */\n",
       "  background-color: var(--sklearn-color-unfitted-level-3);\n",
       "  color: var(--sklearn-color-background);\n",
       "  text-decoration: none;\n",
       "}\n",
       "\n",
       "#sk-container-id-1 a.estimator_doc_link.fitted:hover {\n",
       "  /* fitted */\n",
       "  background-color: var(--sklearn-color-fitted-level-3);\n",
       "}\n",
       "</style><div id=\"sk-container-id-1\" class=\"sk-top-container\"><div class=\"sk-text-repr-fallback\"><pre>XGBClassifier(base_score=None, booster=None, callbacks=None,\n",
       "              colsample_bylevel=None, colsample_bynode=0.7972101499293454,\n",
       "              colsample_bytree=None, device=None, early_stopping_rounds=None,\n",
       "              enable_categorical=False,\n",
       "              eval_metric=&lt;function custom_f1_score at 0x7f78157ab920&gt;,\n",
       "              feature_types=None, gamma=None, grow_policy=None,\n",
       "              importance_type=None, interaction_constraints=None,\n",
       "              learning_rate=0.11302262870839216, max_bin=None,\n",
       "              max_cat_threshold=None, max_cat_to_onehot=None,\n",
       "              max_delta_step=None, max_depth=9, max_leaves=None,\n",
       "              min_child_weight=31, missing=nan, monotone_constraints=None,\n",
       "              multi_strategy=None, n_estimators=102, n_jobs=None,\n",
       "              num_parallel_tree=None, objective=&#x27;multi:softprob&#x27;, ...)</pre><b>In a Jupyter environment, please rerun this cell to show the HTML representation or trust the notebook. <br />On GitHub, the HTML representation is unable to render, please try loading this page with nbviewer.org.</b></div><div class=\"sk-container\" hidden><div class=\"sk-item\"><div class=\"sk-estimator fitted sk-toggleable\"><input class=\"sk-toggleable__control sk-hidden--visually\" id=\"sk-estimator-id-1\" type=\"checkbox\" checked><label for=\"sk-estimator-id-1\" class=\"sk-toggleable__label fitted sk-toggleable__label-arrow fitted\">&nbsp;XGBClassifier<span class=\"sk-estimator-doc-link fitted\">i<span>Fitted</span></span></label><div class=\"sk-toggleable__content fitted\"><pre>XGBClassifier(base_score=None, booster=None, callbacks=None,\n",
       "              colsample_bylevel=None, colsample_bynode=0.7972101499293454,\n",
       "              colsample_bytree=None, device=None, early_stopping_rounds=None,\n",
       "              enable_categorical=False,\n",
       "              eval_metric=&lt;function custom_f1_score at 0x7f78157ab920&gt;,\n",
       "              feature_types=None, gamma=None, grow_policy=None,\n",
       "              importance_type=None, interaction_constraints=None,\n",
       "              learning_rate=0.11302262870839216, max_bin=None,\n",
       "              max_cat_threshold=None, max_cat_to_onehot=None,\n",
       "              max_delta_step=None, max_depth=9, max_leaves=None,\n",
       "              min_child_weight=31, missing=nan, monotone_constraints=None,\n",
       "              multi_strategy=None, n_estimators=102, n_jobs=None,\n",
       "              num_parallel_tree=None, objective=&#x27;multi:softprob&#x27;, ...)</pre></div> </div></div></div></div>"
      ],
      "text/plain": [
       "XGBClassifier(base_score=None, booster=None, callbacks=None,\n",
       "              colsample_bylevel=None, colsample_bynode=0.7972101499293454,\n",
       "              colsample_bytree=None, device=None, early_stopping_rounds=None,\n",
       "              enable_categorical=False,\n",
       "              eval_metric=<function custom_f1_score at 0x7f78157ab920>,\n",
       "              feature_types=None, gamma=None, grow_policy=None,\n",
       "              importance_type=None, interaction_constraints=None,\n",
       "              learning_rate=0.11302262870839216, max_bin=None,\n",
       "              max_cat_threshold=None, max_cat_to_onehot=None,\n",
       "              max_delta_step=None, max_depth=9, max_leaves=None,\n",
       "              min_child_weight=31, missing=nan, monotone_constraints=None,\n",
       "              multi_strategy=None, n_estimators=102, n_jobs=None,\n",
       "              num_parallel_tree=None, objective='multi:softprob', ...)"
      ]
     },
     "execution_count": 21,
     "metadata": {},
     "output_type": "execute_result"
    }
   ],
   "source": [
    "n_estimators = int(study.best_trial.user_attrs['best_iteration']*1.2)\n",
    "xgb = xgboost.XGBClassifier(\n",
    "        eval_metric=eval_metric,\n",
    "        n_estimators=n_estimators,\n",
    "        **study.best_trial.params\n",
    "    )\n",
    "xgb.fit(\n",
    "    ssp.vstack((X_train, X_val)), \n",
    "    np.concatenate((y_train_enc, y_val_enc)),\n",
    "    verbose=1,\n",
    ")"
   ]
  },
  {
   "cell_type": "code",
   "execution_count": 22,
   "id": "eb2aad94",
   "metadata": {
    "execution": {
     "iopub.execute_input": "2025-05-15T16:15:04.919070Z",
     "iopub.status.busy": "2025-05-15T16:15:04.918755Z",
     "iopub.status.idle": "2025-05-15T16:15:04.937302Z",
     "shell.execute_reply": "2025-05-15T16:15:04.936978Z"
    },
    "papermill": {
     "duration": 0.028685,
     "end_time": "2025-05-15T16:15:04.938201",
     "exception": false,
     "start_time": "2025-05-15T16:15:04.909516",
     "status": "completed"
    },
    "tags": []
   },
   "outputs": [
    {
     "data": {
      "text/plain": [
       "['/scratch_isilon/groups/singlecell/shared/projects/Inflammation-PBMCs-Atlas/03_downstream_analysis/08_gene_importance/xgboost_external_validation/xgboost_TopN_genes/results_20/best_model/DC_2_0_xgb.json']"
      ]
     },
     "execution_count": 22,
     "metadata": {},
     "output_type": "execute_result"
    }
   ],
   "source": [
    "out_dir = here(f'03_downstream_analysis/08_gene_importance/xgboost_external_validation/xgboost_TopN_genes/results_{N_GENES}/best_model')\n",
    "\n",
    "if not os.path.exists(out_dir):\n",
    "    os.makedirs(out_dir)\n",
    "    \n",
    "joblib.dump(xgb, os.path.join(out_dir, f'{CELL_TYPE}_{SEED}_{TEST_SPLIT_IDX}_xgb.json'))"
   ]
  },
  {
   "cell_type": "code",
   "execution_count": 23,
   "id": "8b0361d7",
   "metadata": {
    "execution": {
     "iopub.execute_input": "2025-05-15T16:15:04.956897Z",
     "iopub.status.busy": "2025-05-15T16:15:04.956707Z",
     "iopub.status.idle": "2025-05-15T16:15:04.970193Z",
     "shell.execute_reply": "2025-05-15T16:15:04.969870Z"
    },
    "papermill": {
     "duration": 0.02725,
     "end_time": "2025-05-15T16:15:04.974762",
     "exception": false,
     "start_time": "2025-05-15T16:15:04.947512",
     "status": "completed"
    },
    "tags": []
   },
   "outputs": [],
   "source": [
    "df_pred_test = pd.DataFrame(dict(\n",
    "    cell_id=train_adata.obs.iloc[test_idxs].index.values,\n",
    "    y_true=y_test, \n",
    "    y_true_code=y_test_enc, \n",
    "    y_pred=xgb.predict(X_test))).set_index('cell_id')"
   ]
  },
  {
   "cell_type": "code",
   "execution_count": 24,
   "id": "52a9a889",
   "metadata": {
    "execution": {
     "iopub.execute_input": "2025-05-15T16:15:04.993004Z",
     "iopub.status.busy": "2025-05-15T16:15:04.992785Z",
     "iopub.status.idle": "2025-05-15T16:15:05.008732Z",
     "shell.execute_reply": "2025-05-15T16:15:05.008419Z"
    },
    "papermill": {
     "duration": 0.026117,
     "end_time": "2025-05-15T16:15:05.009628",
     "exception": false,
     "start_time": "2025-05-15T16:15:04.983511",
     "status": "completed"
    },
    "tags": []
   },
   "outputs": [],
   "source": [
    "out_dir = here(f'03_downstream_analysis/08_gene_importance/xgboost_external_validation/xgboost_TopN_genes/results_{N_GENES}/predictions')\n",
    "\n",
    "if not os.path.exists(out_dir):\n",
    "    os.makedirs(out_dir)\n",
    "    \n",
    "df_pred_test.to_csv(os.path.join(out_dir, f'{CELL_TYPE}_{SEED}_{TEST_SPLIT_IDX}_pred_test.zip'))"
   ]
  },
  {
   "cell_type": "code",
   "execution_count": 25,
   "id": "ee27f13b",
   "metadata": {
    "execution": {
     "iopub.execute_input": "2025-05-15T16:15:05.028232Z",
     "iopub.status.busy": "2025-05-15T16:15:05.027950Z",
     "iopub.status.idle": "2025-05-15T16:15:05.033578Z",
     "shell.execute_reply": "2025-05-15T16:15:05.033275Z"
    },
    "papermill": {
     "duration": 0.015794,
     "end_time": "2025-05-15T16:15:05.034436",
     "exception": false,
     "start_time": "2025-05-15T16:15:05.018642",
     "status": "completed"
    },
    "tags": []
   },
   "outputs": [],
   "source": [
    "metrics_dict = dict(\n",
    "    BAS=balanced_accuracy_score(y_true=df_pred_test.y_true_code, y_pred=df_pred_test.y_pred), WF1=f1_score(y_true=df_pred_test.y_true_code, y_pred=df_pred_test.y_pred,average='weighted'))"
   ]
  },
  {
   "cell_type": "code",
   "execution_count": 26,
   "id": "b95907c0",
   "metadata": {
    "execution": {
     "iopub.execute_input": "2025-05-15T16:15:05.055170Z",
     "iopub.status.busy": "2025-05-15T16:15:05.054941Z",
     "iopub.status.idle": "2025-05-15T16:15:05.057713Z",
     "shell.execute_reply": "2025-05-15T16:15:05.057413Z"
    },
    "papermill": {
     "duration": 0.013362,
     "end_time": "2025-05-15T16:15:05.058572",
     "exception": false,
     "start_time": "2025-05-15T16:15:05.045210",
     "status": "completed"
    },
    "tags": []
   },
   "outputs": [
    {
     "data": {
      "text/plain": [
       "{'BAS': 0.5256997294388757, 'WF1': 0.8151039583473475}"
      ]
     },
     "execution_count": 26,
     "metadata": {},
     "output_type": "execute_result"
    }
   ],
   "source": [
    "metrics_dict"
   ]
  },
  {
   "cell_type": "code",
   "execution_count": 27,
   "id": "bf6fc590",
   "metadata": {
    "execution": {
     "iopub.execute_input": "2025-05-15T16:15:05.100808Z",
     "iopub.status.busy": "2025-05-15T16:15:05.100502Z",
     "iopub.status.idle": "2025-05-15T16:15:05.108562Z",
     "shell.execute_reply": "2025-05-15T16:15:05.108231Z"
    },
    "papermill": {
     "duration": 0.025237,
     "end_time": "2025-05-15T16:15:05.109395",
     "exception": false,
     "start_time": "2025-05-15T16:15:05.084158",
     "status": "completed"
    },
    "tags": []
   },
   "outputs": [
    {
     "data": {
      "text/html": [
       "<div>\n",
       "<style scoped>\n",
       "    .dataframe tbody tr th:only-of-type {\n",
       "        vertical-align: middle;\n",
       "    }\n",
       "\n",
       "    .dataframe tbody tr th {\n",
       "        vertical-align: top;\n",
       "    }\n",
       "\n",
       "    .dataframe thead th {\n",
       "        text-align: right;\n",
       "    }\n",
       "</style>\n",
       "<table border=\"1\" class=\"dataframe\">\n",
       "  <thead>\n",
       "    <tr style=\"text-align: right;\">\n",
       "      <th></th>\n",
       "      <th>BAS</th>\n",
       "      <th>WF1</th>\n",
       "      <th>split_idx</th>\n",
       "      <th>gene_set_seed</th>\n",
       "      <th>cell_type</th>\n",
       "    </tr>\n",
       "  </thead>\n",
       "  <tbody>\n",
       "    <tr>\n",
       "      <th>0</th>\n",
       "      <td>0.5257</td>\n",
       "      <td>0.815104</td>\n",
       "      <td>0</td>\n",
       "      <td>2</td>\n",
       "      <td>DC</td>\n",
       "    </tr>\n",
       "  </tbody>\n",
       "</table>\n",
       "</div>"
      ],
      "text/plain": [
       "      BAS       WF1  split_idx  gene_set_seed cell_type\n",
       "0  0.5257  0.815104          0              2        DC"
      ]
     },
     "execution_count": 27,
     "metadata": {},
     "output_type": "execute_result"
    }
   ],
   "source": [
    "metrics_df = pd.DataFrame.from_dict([metrics_dict]).assign(split_idx=TEST_SPLIT_IDX, gene_set_seed=SEED, cell_type=CELL_TYPE)\n",
    "metrics_df"
   ]
  },
  {
   "cell_type": "code",
   "execution_count": 28,
   "id": "0a3d20b4",
   "metadata": {
    "execution": {
     "iopub.execute_input": "2025-05-15T16:15:05.136756Z",
     "iopub.status.busy": "2025-05-15T16:15:05.136527Z",
     "iopub.status.idle": "2025-05-15T16:15:05.162273Z",
     "shell.execute_reply": "2025-05-15T16:15:05.161934Z"
    },
    "papermill": {
     "duration": 0.037884,
     "end_time": "2025-05-15T16:15:05.163157",
     "exception": false,
     "start_time": "2025-05-15T16:15:05.125273",
     "status": "completed"
    },
    "tags": []
   },
   "outputs": [],
   "source": [
    "out_dir = here(f'03_downstream_analysis/08_gene_importance/xgboost_external_validation/xgboost_TopN_genes/results_{N_GENES}/metrics')\n",
    "\n",
    "if not os.path.exists(out_dir):\n",
    "    os.makedirs(out_dir)\n",
    "    \n",
    "metrics_df.to_csv(os.path.join(out_dir, f'{CELL_TYPE}_{SEED}_{TEST_SPLIT_IDX}_metrics.zip'))"
   ]
  }
 ],
 "metadata": {
  "kernelspec": {
   "display_name": "Python 3 (ipykernel)",
   "language": "python",
   "name": "python3"
  },
  "language_info": {
   "codemirror_mode": {
    "name": "ipython",
    "version": 3
   },
   "file_extension": ".py",
   "mimetype": "text/x-python",
   "name": "python",
   "nbconvert_exporter": "python",
   "pygments_lexer": "ipython3",
   "version": "3.12.5"
  },
  "papermill": {
   "default_parameters": {},
   "duration": 35.451782,
   "end_time": "2025-05-15T16:15:05.791832",
   "environment_variables": {},
   "exception": null,
   "input_path": "02_xgboost_fitting_external_20genes.ipynb",
   "output_path": "results_20/executed_notebooks/xgboost_fitting_external_CT_DC_GS_2_seed0.ipynb",
   "parameters": {
    "CELL_TYPE": "DC",
    "SEED": 2,
    "TEST_SPLIT_IDX": 0
   },
   "start_time": "2025-05-15T16:14:30.340050",
   "version": "2.6.0"
  }
 },
 "nbformat": 4,
 "nbformat_minor": 5
}