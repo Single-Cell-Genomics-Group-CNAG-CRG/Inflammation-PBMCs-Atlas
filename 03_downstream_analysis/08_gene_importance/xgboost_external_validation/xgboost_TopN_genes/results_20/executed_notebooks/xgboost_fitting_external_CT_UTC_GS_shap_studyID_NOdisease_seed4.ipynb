{
 "cells": [
  {
   "cell_type": "code",
   "execution_count": 1,
   "id": "66bb563f",
   "metadata": {
    "editable": true,
    "execution": {
     "iopub.execute_input": "2025-05-14T16:09:27.350729Z",
     "iopub.status.busy": "2025-05-14T16:09:27.350428Z",
     "iopub.status.idle": "2025-05-14T16:09:27.353286Z",
     "shell.execute_reply": "2025-05-14T16:09:27.352916Z"
    },
    "papermill": {
     "duration": 0.011122,
     "end_time": "2025-05-14T16:09:27.354131",
     "exception": false,
     "start_time": "2025-05-14T16:09:27.343009",
     "status": "completed"
    },
    "slideshow": {
     "slide_type": ""
    },
    "tags": [
     "parameters"
    ]
   },
   "outputs": [],
   "source": [
    "CELL_TYPE = 'pDC'\n",
    "N_GENES: int = 20\n",
    "SEED = 'shap_studyID' #'disease_NOstudy' 'study_NOdisease' or 'int' or 'shap_studyID'\n",
    "TEST_SPLIT_IDX: int = 1 #[0,4]"
   ]
  },
  {
   "cell_type": "code",
   "execution_count": 2,
   "id": "c202afa3",
   "metadata": {
    "execution": {
     "iopub.execute_input": "2025-05-14T16:09:27.365685Z",
     "iopub.status.busy": "2025-05-14T16:09:27.365213Z",
     "iopub.status.idle": "2025-05-14T16:09:27.367768Z",
     "shell.execute_reply": "2025-05-14T16:09:27.367396Z"
    },
    "papermill": {
     "duration": 0.008699,
     "end_time": "2025-05-14T16:09:27.368572",
     "exception": false,
     "start_time": "2025-05-14T16:09:27.359873",
     "status": "completed"
    },
    "tags": [
     "injected-parameters"
    ]
   },
   "outputs": [],
   "source": [
    "# Parameters\n",
    "CELL_TYPE = \"UTC\"\n",
    "SEED = \"shap_studyID_NOdisease\"\n",
    "TEST_SPLIT_IDX = 4\n"
   ]
  },
  {
   "cell_type": "code",
   "execution_count": 3,
   "id": "9e322b1a",
   "metadata": {
    "execution": {
     "iopub.execute_input": "2025-05-14T16:09:27.379636Z",
     "iopub.status.busy": "2025-05-14T16:09:27.379068Z",
     "iopub.status.idle": "2025-05-14T16:09:27.381481Z",
     "shell.execute_reply": "2025-05-14T16:09:27.381100Z"
    },
    "papermill": {
     "duration": 0.008555,
     "end_time": "2025-05-14T16:09:27.382281",
     "exception": false,
     "start_time": "2025-05-14T16:09:27.373726",
     "status": "completed"
    },
    "tags": []
   },
   "outputs": [],
   "source": [
    "N_SPLITS: int = 5\n",
    "N_TRIALS: int = 50"
   ]
  },
  {
   "cell_type": "code",
   "execution_count": 4,
   "id": "c3773c57",
   "metadata": {
    "execution": {
     "iopub.execute_input": "2025-05-14T16:09:27.393717Z",
     "iopub.status.busy": "2025-05-14T16:09:27.393380Z",
     "iopub.status.idle": "2025-05-14T16:09:30.206565Z",
     "shell.execute_reply": "2025-05-14T16:09:30.206000Z"
    },
    "papermill": {
     "duration": 2.820285,
     "end_time": "2025-05-14T16:09:30.207760",
     "exception": false,
     "start_time": "2025-05-14T16:09:27.387475",
     "status": "completed"
    },
    "tags": []
   },
   "outputs": [],
   "source": [
    "import os\n",
    "import sys\n",
    "from pyprojroot.here import here\n",
    "import pandas as pd\n",
    "import anndata as ad\n",
    "import numpy as np\n",
    "import math\n",
    "from sklearn.model_selection import StratifiedGroupKFold\n",
    "from sklearn.preprocessing import LabelEncoder\n",
    "from sklearn.metrics import f1_score\n",
    "import matplotlib.pyplot as plt\n",
    "import seaborn as sns\n",
    "from itertools import product\n",
    "from sklearn.metrics import balanced_accuracy_score, f1_score\n",
    "import optuna\n",
    "\n",
    "import joblib\n",
    "import pickle\n",
    "import datetime\n",
    "\n",
    "import collections\n",
    "\n",
    "import xgboost\n",
    "from sklearn.preprocessing import LabelEncoder\n",
    "\n",
    "import scipy.sparse as ssp\n",
    "import joblib\n",
    "\n",
    "from dotenv import load_dotenv"
   ]
  },
  {
   "cell_type": "code",
   "execution_count": 5,
   "id": "b9ac719b",
   "metadata": {
    "execution": {
     "iopub.execute_input": "2025-05-14T16:09:30.218905Z",
     "iopub.status.busy": "2025-05-14T16:09:30.218517Z",
     "iopub.status.idle": "2025-05-14T16:09:30.224818Z",
     "shell.execute_reply": "2025-05-14T16:09:30.224512Z"
    },
    "papermill": {
     "duration": 0.012626,
     "end_time": "2025-05-14T16:09:30.225611",
     "exception": false,
     "start_time": "2025-05-14T16:09:30.212985",
     "status": "completed"
    },
    "tags": []
   },
   "outputs": [
    {
     "data": {
      "text/plain": [
       "True"
      ]
     },
     "execution_count": 5,
     "metadata": {},
     "output_type": "execute_result"
    }
   ],
   "source": [
    "load_dotenv()"
   ]
  },
  {
   "cell_type": "markdown",
   "id": "aeceaa02",
   "metadata": {
    "papermill": {
     "duration": 0.004927,
     "end_time": "2025-05-14T16:09:30.235549",
     "exception": false,
     "start_time": "2025-05-14T16:09:30.230622",
     "status": "completed"
    },
    "tags": []
   },
   "source": [
    "# LOAD DATASET"
   ]
  },
  {
   "cell_type": "code",
   "execution_count": 6,
   "id": "039fb9ea",
   "metadata": {
    "execution": {
     "iopub.execute_input": "2025-05-14T16:09:30.245955Z",
     "iopub.status.busy": "2025-05-14T16:09:30.245817Z",
     "iopub.status.idle": "2025-05-14T16:09:30.384786Z",
     "shell.execute_reply": "2025-05-14T16:09:30.384310Z"
    },
    "papermill": {
     "duration": 0.145384,
     "end_time": "2025-05-14T16:09:30.385889",
     "exception": false,
     "start_time": "2025-05-14T16:09:30.240505",
     "status": "completed"
    },
    "tags": []
   },
   "outputs": [],
   "source": [
    "train_adata = ad.read_h5ad(\n",
    "    here(f'03_downstream_analysis/08_gene_importance/xgboost_external_validation/xgboost_TopN_genes/data_cellTypes/EXTERNAL_{CELL_TYPE}.filtered.log1p.h5ad')\n",
    ")"
   ]
  },
  {
   "cell_type": "code",
   "execution_count": 7,
   "id": "f7a3b5ec",
   "metadata": {
    "execution": {
     "iopub.execute_input": "2025-05-14T16:09:30.398170Z",
     "iopub.status.busy": "2025-05-14T16:09:30.397719Z",
     "iopub.status.idle": "2025-05-14T16:09:30.412159Z",
     "shell.execute_reply": "2025-05-14T16:09:30.411800Z"
    },
    "papermill": {
     "duration": 0.020996,
     "end_time": "2025-05-14T16:09:30.412970",
     "exception": false,
     "start_time": "2025-05-14T16:09:30.391974",
     "status": "completed"
    },
    "tags": []
   },
   "outputs": [
    {
     "name": "stdout",
     "output_type": "stream",
     "text": [
      "['ENSG00000005339' 'ENSG00000005844' 'ENSG00000009790' 'ENSG00000019582'\n",
      " 'ENSG00000025708' 'ENSG00000026025' 'ENSG00000028137' 'ENSG00000033800'\n",
      " 'ENSG00000069702' 'ENSG00000075234' 'ENSG00000075426' 'ENSG00000075624'\n",
      " 'ENSG00000075945' 'ENSG00000077150' 'ENSG00000077238' 'ENSG00000077984'\n",
      " 'ENSG00000079616' 'ENSG00000082074' 'ENSG00000089737' 'ENSG00000090266'\n",
      " 'ENSG00000090382' 'ENSG00000090554' 'ENSG00000099204' 'ENSG00000099624'\n",
      " 'ENSG00000100321' 'ENSG00000100450' 'ENSG00000100453' 'ENSG00000100911'\n",
      " 'ENSG00000100934' 'ENSG00000101347' 'ENSG00000101474' 'ENSG00000101608'\n",
      " 'ENSG00000101695' 'ENSG00000103522' 'ENSG00000105221' 'ENSG00000105583'\n",
      " 'ENSG00000106803' 'ENSG00000106952' 'ENSG00000108518' 'ENSG00000108622'\n",
      " 'ENSG00000108639' 'ENSG00000110395' 'ENSG00000110876' 'ENSG00000111796'\n",
      " 'ENSG00000115738' 'ENSG00000117020' 'ENSG00000117523' 'ENSG00000117602'\n",
      " 'ENSG00000118503' 'ENSG00000118640' 'ENSG00000118971' 'ENSG00000120742'\n",
      " 'ENSG00000121774' 'ENSG00000125347' 'ENSG00000126214' 'ENSG00000126264'\n",
      " 'ENSG00000127152' 'ENSG00000128340' 'ENSG00000131981' 'ENSG00000132432'\n",
      " 'ENSG00000132510' 'ENSG00000133872' 'ENSG00000134285' 'ENSG00000134539'\n",
      " 'ENSG00000135404' 'ENSG00000135720' 'ENSG00000135821' 'ENSG00000136003'\n",
      " 'ENSG00000136997' 'ENSG00000138802' 'ENSG00000139289' 'ENSG00000140379'\n",
      " 'ENSG00000141367' 'ENSG00000141506' 'ENSG00000142227' 'ENSG00000142669'\n",
      " 'ENSG00000143575' 'ENSG00000145247' 'ENSG00000145287' 'ENSG00000145675'\n",
      " 'ENSG00000145912' 'ENSG00000148834' 'ENSG00000149311' 'ENSG00000149357'\n",
      " 'ENSG00000153234' 'ENSG00000154814' 'ENSG00000157020' 'ENSG00000157873'\n",
      " 'ENSG00000158050' 'ENSG00000160888' 'ENSG00000162739' 'ENSG00000163513'\n",
      " 'ENSG00000163660' 'ENSG00000166888' 'ENSG00000167863' 'ENSG00000167996'\n",
      " 'ENSG00000168610' 'ENSG00000168894' 'ENSG00000169554' 'ENSG00000172215'\n",
      " 'ENSG00000172349' 'ENSG00000172543' 'ENSG00000173757' 'ENSG00000175354'\n",
      " 'ENSG00000175768' 'ENSG00000177663' 'ENSG00000180739' 'ENSG00000182287'\n",
      " 'ENSG00000183696' 'ENSG00000185338' 'ENSG00000196154' 'ENSG00000197540'\n",
      " 'ENSG00000204257' 'ENSG00000204264' 'ENSG00000204592' 'ENSG00000205220'\n",
      " 'ENSG00000219200' 'ENSG00000228474' 'ENSG00000229474' 'ENSG00000275302'\n",
      " 'ENSG00000277791']\n"
     ]
    }
   ],
   "source": [
    "if SEED != 'all':\n",
    "    gene_subset = np.load(here(f'03_downstream_analysis/08_gene_importance/xgboost_external_validation/shap_gene_selection/gene_subsets_{N_GENES}/{CELL_TYPE}_{SEED}.npy'), allow_pickle=True)\n",
    "    train_adata = train_adata[:,gene_subset]\n",
    "    print(gene_subset)\n",
    "elif SEED == 'all':\n",
    "    print('Using all genes')\n",
    "else:\n",
    "    raise ValueError()"
   ]
  },
  {
   "cell_type": "code",
   "execution_count": 8,
   "id": "2f9709ea",
   "metadata": {
    "execution": {
     "iopub.execute_input": "2025-05-14T16:09:30.424309Z",
     "iopub.status.busy": "2025-05-14T16:09:30.423855Z",
     "iopub.status.idle": "2025-05-14T16:09:30.426997Z",
     "shell.execute_reply": "2025-05-14T16:09:30.426705Z"
    },
    "papermill": {
     "duration": 0.009472,
     "end_time": "2025-05-14T16:09:30.427768",
     "exception": false,
     "start_time": "2025-05-14T16:09:30.418296",
     "status": "completed"
    },
    "tags": []
   },
   "outputs": [
    {
     "data": {
      "text/plain": [
       "(14828, 121)"
      ]
     },
     "execution_count": 8,
     "metadata": {},
     "output_type": "execute_result"
    }
   ],
   "source": [
    "train_adata.shape"
   ]
  },
  {
   "cell_type": "code",
   "execution_count": 9,
   "id": "f2b55fae",
   "metadata": {
    "execution": {
     "iopub.execute_input": "2025-05-14T16:09:30.438856Z",
     "iopub.status.busy": "2025-05-14T16:09:30.438613Z",
     "iopub.status.idle": "2025-05-14T16:09:30.442226Z",
     "shell.execute_reply": "2025-05-14T16:09:30.441940Z"
    },
    "papermill": {
     "duration": 0.009834,
     "end_time": "2025-05-14T16:09:30.442976",
     "exception": false,
     "start_time": "2025-05-14T16:09:30.433142",
     "status": "completed"
    },
    "tags": []
   },
   "outputs": [
    {
     "data": {
      "text/plain": [
       "['RA', 'COVID', 'healthy', 'HIV', 'cirrhosis', 'CD', 'SLE', 'sepsis']\n",
       "Categories (8, object): ['CD', 'COVID', 'HIV', 'RA', 'SLE', 'cirrhosis', 'healthy', 'sepsis']"
      ]
     },
     "execution_count": 9,
     "metadata": {},
     "output_type": "execute_result"
    }
   ],
   "source": [
    "train_adata.obs.disease.unique()"
   ]
  },
  {
   "cell_type": "code",
   "execution_count": 10,
   "id": "3a6619f9",
   "metadata": {
    "execution": {
     "iopub.execute_input": "2025-05-14T16:09:30.454415Z",
     "iopub.status.busy": "2025-05-14T16:09:30.453950Z",
     "iopub.status.idle": "2025-05-14T16:09:30.457738Z",
     "shell.execute_reply": "2025-05-14T16:09:30.457445Z"
    },
    "papermill": {
     "duration": 0.01047,
     "end_time": "2025-05-14T16:09:30.458532",
     "exception": false,
     "start_time": "2025-05-14T16:09:30.448062",
     "status": "completed"
    },
    "tags": []
   },
   "outputs": [
    {
     "data": {
      "text/plain": [
       "['SCGT00val_I0364_T0', 'SCGT00val_I036016_T0', 'SCGT00val_I036021_T0', 'SCGT00val_I036015_T0', 'SCGT00val_I036023_T0', ..., '10XGenomics_10XHC2_T0', '10XGenomics_10XHC3_T0', '10XGenomics_10XHC5_T0', '10XGenomics_10XHC7_T0', '10XGenomics_10XHC8_T0']\n",
       "Length: 86\n",
       "Categories (86, object): ['10XGenomics_10XHC1_T0', '10XGenomics_10XHC2_T0', '10XGenomics_10XHC3_T0', '10XGenomics_10XHC4_T0', ..., 'Savage2021_BRISL6_T0', 'Savage2021_BRISL7_T0', 'Savage2021_PIDA_T0', 'Savage2021_PIDB_T0']"
      ]
     },
     "execution_count": 10,
     "metadata": {},
     "output_type": "execute_result"
    }
   ],
   "source": [
    "train_adata.obs.sampleID.unique()"
   ]
  },
  {
   "cell_type": "code",
   "execution_count": 11,
   "id": "3ee972b0",
   "metadata": {
    "execution": {
     "iopub.execute_input": "2025-05-14T16:09:30.469598Z",
     "iopub.status.busy": "2025-05-14T16:09:30.469190Z",
     "iopub.status.idle": "2025-05-14T16:09:30.526332Z",
     "shell.execute_reply": "2025-05-14T16:09:30.525962Z"
    },
    "papermill": {
     "duration": 0.063458,
     "end_time": "2025-05-14T16:09:30.527138",
     "exception": false,
     "start_time": "2025-05-14T16:09:30.463680",
     "status": "completed"
    },
    "tags": []
   },
   "outputs": [],
   "source": [
    "all_idxs = np.arange(train_adata.obs.shape[0])\n",
    "left_out_splits = [s[1] for s in StratifiedGroupKFold(n_splits=N_SPLITS).split(all_idxs, train_adata.obs.disease, train_adata.obs.sampleID)]"
   ]
  },
  {
   "cell_type": "code",
   "execution_count": 12,
   "id": "e645a9bc",
   "metadata": {
    "execution": {
     "iopub.execute_input": "2025-05-14T16:09:30.539281Z",
     "iopub.status.busy": "2025-05-14T16:09:30.539002Z",
     "iopub.status.idle": "2025-05-14T16:09:30.542199Z",
     "shell.execute_reply": "2025-05-14T16:09:30.541910Z"
    },
    "papermill": {
     "duration": 0.00967,
     "end_time": "2025-05-14T16:09:30.542956",
     "exception": false,
     "start_time": "2025-05-14T16:09:30.533286",
     "status": "completed"
    },
    "tags": []
   },
   "outputs": [
    {
     "data": {
      "text/plain": [
       "([1, 2, 3], 0, 4)"
      ]
     },
     "execution_count": 12,
     "metadata": {},
     "output_type": "execute_result"
    }
   ],
   "source": [
    "TRAIN_SPLIT_IDXS = [0,1,2,3,4]\n",
    "VAL_SPLIT_IDX = (TEST_SPLIT_IDX + 1) % 5\n",
    "TRAIN_SPLIT_IDXS.remove(TEST_SPLIT_IDX)\n",
    "TRAIN_SPLIT_IDXS.remove(VAL_SPLIT_IDX)\n",
    "TRAIN_SPLIT_IDXS, VAL_SPLIT_IDX, TEST_SPLIT_IDX"
   ]
  },
  {
   "cell_type": "code",
   "execution_count": 13,
   "id": "c06140fd",
   "metadata": {
    "execution": {
     "iopub.execute_input": "2025-05-14T16:09:30.554868Z",
     "iopub.status.busy": "2025-05-14T16:09:30.554736Z",
     "iopub.status.idle": "2025-05-14T16:09:30.557187Z",
     "shell.execute_reply": "2025-05-14T16:09:30.556897Z"
    },
    "papermill": {
     "duration": 0.009361,
     "end_time": "2025-05-14T16:09:30.558032",
     "exception": false,
     "start_time": "2025-05-14T16:09:30.548671",
     "status": "completed"
    },
    "tags": []
   },
   "outputs": [],
   "source": [
    "train_idxs = np.concatenate([left_out_splits[idx] for idx in TRAIN_SPLIT_IDXS])\n",
    "val_idxs = left_out_splits[VAL_SPLIT_IDX]\n",
    "test_idxs = left_out_splits[TEST_SPLIT_IDX]"
   ]
  },
  {
   "cell_type": "markdown",
   "id": "140f34ca",
   "metadata": {
    "papermill": {
     "duration": 0.00512,
     "end_time": "2025-05-14T16:09:30.568514",
     "exception": false,
     "start_time": "2025-05-14T16:09:30.563394",
     "status": "completed"
    },
    "tags": []
   },
   "source": [
    "### SUBSET DATASET INTO TRAIN/TEST/VAL SPLITS"
   ]
  },
  {
   "cell_type": "code",
   "execution_count": 14,
   "id": "8053d61c",
   "metadata": {
    "execution": {
     "iopub.execute_input": "2025-05-14T16:09:30.579583Z",
     "iopub.status.busy": "2025-05-14T16:09:30.579245Z",
     "iopub.status.idle": "2025-05-14T16:09:30.625809Z",
     "shell.execute_reply": "2025-05-14T16:09:30.625476Z"
    },
    "papermill": {
     "duration": 0.052932,
     "end_time": "2025-05-14T16:09:30.626611",
     "exception": false,
     "start_time": "2025-05-14T16:09:30.573679",
     "status": "completed"
    },
    "tags": []
   },
   "outputs": [
    {
     "data": {
      "text/plain": [
       "((9045, 121), (2943, 121), (2840, 121))"
      ]
     },
     "execution_count": 14,
     "metadata": {},
     "output_type": "execute_result"
    }
   ],
   "source": [
    "X_train = train_adata.X[train_idxs]\n",
    "X_test = train_adata.X[test_idxs]\n",
    "X_val = train_adata.X[val_idxs]\n",
    "X_train.shape, X_test.shape, X_val.shape"
   ]
  },
  {
   "cell_type": "code",
   "execution_count": 15,
   "id": "8b96d195",
   "metadata": {
    "execution": {
     "iopub.execute_input": "2025-05-14T16:09:30.638039Z",
     "iopub.status.busy": "2025-05-14T16:09:30.637899Z",
     "iopub.status.idle": "2025-05-14T16:09:30.643326Z",
     "shell.execute_reply": "2025-05-14T16:09:30.643027Z"
    },
    "papermill": {
     "duration": 0.01224,
     "end_time": "2025-05-14T16:09:30.644099",
     "exception": false,
     "start_time": "2025-05-14T16:09:30.631859",
     "status": "completed"
    },
    "tags": []
   },
   "outputs": [
    {
     "data": {
      "text/plain": [
       "((9045,), (2943,), (2840,))"
      ]
     },
     "execution_count": 15,
     "metadata": {},
     "output_type": "execute_result"
    }
   ],
   "source": [
    "y_train = train_adata.obs.iloc[train_idxs].disease.values.astype(str)\n",
    "y_test = train_adata.obs.iloc[test_idxs].disease.values.astype(str)\n",
    "y_val = train_adata.obs.iloc[val_idxs].disease.values.astype(str)\n",
    "y_train.shape, y_test.shape, y_val.shape"
   ]
  },
  {
   "cell_type": "code",
   "execution_count": 16,
   "id": "5365d3db",
   "metadata": {
    "execution": {
     "iopub.execute_input": "2025-05-14T16:09:30.656033Z",
     "iopub.status.busy": "2025-05-14T16:09:30.655600Z",
     "iopub.status.idle": "2025-05-14T16:09:30.661161Z",
     "shell.execute_reply": "2025-05-14T16:09:30.660846Z"
    },
    "papermill": {
     "duration": 0.012234,
     "end_time": "2025-05-14T16:09:30.661920",
     "exception": false,
     "start_time": "2025-05-14T16:09:30.649686",
     "status": "completed"
    },
    "tags": []
   },
   "outputs": [],
   "source": [
    "lenc = LabelEncoder()\n",
    "y_train_enc = lenc.fit_transform(y_train)\n",
    "y_val_enc = lenc.transform(y_val)\n",
    "y_test_enc = lenc.transform(y_test)"
   ]
  },
  {
   "cell_type": "markdown",
   "id": "9b53ce3e",
   "metadata": {
    "papermill": {
     "duration": 0.005675,
     "end_time": "2025-05-14T16:09:30.673074",
     "exception": false,
     "start_time": "2025-05-14T16:09:30.667399",
     "status": "completed"
    },
    "tags": []
   },
   "source": [
    "### GENERATE F1 "
   ]
  },
  {
   "cell_type": "code",
   "execution_count": 17,
   "id": "0d80f5a5",
   "metadata": {
    "execution": {
     "iopub.execute_input": "2025-05-14T16:09:30.684706Z",
     "iopub.status.busy": "2025-05-14T16:09:30.684575Z",
     "iopub.status.idle": "2025-05-14T16:09:30.686756Z",
     "shell.execute_reply": "2025-05-14T16:09:30.686465Z"
    },
    "papermill": {
     "duration": 0.008859,
     "end_time": "2025-05-14T16:09:30.687567",
     "exception": false,
     "start_time": "2025-05-14T16:09:30.678708",
     "status": "completed"
    },
    "tags": []
   },
   "outputs": [],
   "source": [
    "def custom_f1_score(y_true, y_pred):\n",
    "    return -f1_score(y_true, y_pred.argmax(1), average='weighted')"
   ]
  },
  {
   "cell_type": "code",
   "execution_count": 18,
   "id": "c83c1edc",
   "metadata": {
    "execution": {
     "iopub.execute_input": "2025-05-14T16:09:30.699426Z",
     "iopub.status.busy": "2025-05-14T16:09:30.699055Z",
     "iopub.status.idle": "2025-05-14T16:09:30.702687Z",
     "shell.execute_reply": "2025-05-14T16:09:30.702357Z"
    },
    "papermill": {
     "duration": 0.010494,
     "end_time": "2025-05-14T16:09:30.703478",
     "exception": false,
     "start_time": "2025-05-14T16:09:30.692984",
     "status": "completed"
    },
    "tags": []
   },
   "outputs": [],
   "source": [
    "eval_metric=custom_f1_score\n",
    "eval_metric_name='custom_f1_score'\n",
    "\n",
    "def objective(trial):\n",
    "    params = {\n",
    "        'n_estimators': 1500,\n",
    "        'max_depth': trial.suggest_int('max_depth', 3, 20),\n",
    "        'min_child_weight': trial.suggest_int('min_child_weight', 1, 250),\n",
    "        'subsample': trial.suggest_float('subsample', 0.1, 1.0),\n",
    "        'colsample_bynode': trial.suggest_float('colsample_bynode', 0.1, 1.0),\n",
    "        'learning_rate': trial.suggest_float('learning_rate', 1e-3, 5e-1, log=True),\n",
    "    }\n",
    "    pruning_callback = optuna.integration.XGBoostPruningCallback(trial, f'validation_0-{eval_metric_name}')\n",
    "    es_callback = xgboost.callback.EarlyStopping(20, min_delta=0.001)\n",
    "    xgb = xgboost.XGBClassifier(\n",
    "        eval_metric=eval_metric,\n",
    "        callbacks=[pruning_callback, es_callback],\n",
    "        n_jobs=5,\n",
    "        **params\n",
    "    )\n",
    "    xgb.fit(\n",
    "        X_train, \n",
    "        y_train_enc, \n",
    "        verbose=0,\n",
    "        eval_set=[(X_val, y_val_enc)],\n",
    "    )\n",
    "    trial.set_user_attr('best_iteration', xgb.best_iteration)\n",
    "\n",
    "    return xgb.best_score"
   ]
  },
  {
   "cell_type": "code",
   "execution_count": 19,
   "id": "16be97d3",
   "metadata": {
    "execution": {
     "iopub.execute_input": "2025-05-14T16:09:30.714940Z",
     "iopub.status.busy": "2025-05-14T16:09:30.714536Z",
     "iopub.status.idle": "2025-05-14T16:10:49.345444Z",
     "shell.execute_reply": "2025-05-14T16:10:49.344823Z"
    },
    "papermill": {
     "duration": 78.637621,
     "end_time": "2025-05-14T16:10:49.346493",
     "exception": false,
     "start_time": "2025-05-14T16:09:30.708872",
     "status": "completed"
    },
    "scrolled": true,
    "tags": []
   },
   "outputs": [
    {
     "name": "stderr",
     "output_type": "stream",
     "text": [
      "[I 2025-05-14 18:09:30,716] A new study created in memory with name: no-name-37a32103-ac13-434f-acd0-8f60a5e92be8\n"
     ]
    },
    {
     "name": "stderr",
     "output_type": "stream",
     "text": [
      "[I 2025-05-14 18:09:32,430] Trial 0 finished with value: -0.625147 and parameters: {'max_depth': 9, 'min_child_weight': 238, 'subsample': 0.7587945476302645, 'colsample_bynode': 0.6387926357773329, 'learning_rate': 0.0026368755339723046}. Best is trial 0 with value: -0.625147.\n"
     ]
    },
    {
     "name": "stderr",
     "output_type": "stream",
     "text": [
      "[I 2025-05-14 18:09:34,560] Trial 1 finished with value: -0.758287 and parameters: {'max_depth': 5, 'min_child_weight': 15, 'subsample': 0.8795585311974417, 'colsample_bynode': 0.6410035105688879, 'learning_rate': 0.08148293210105287}. Best is trial 1 with value: -0.758287.\n"
     ]
    },
    {
     "name": "stderr",
     "output_type": "stream",
     "text": [
      "[I 2025-05-14 18:09:35,545] Trial 2 finished with value: -0.676035 and parameters: {'max_depth': 3, 'min_child_weight': 243, 'subsample': 0.8491983767203796, 'colsample_bynode': 0.29110519961044856, 'learning_rate': 0.003095566460242371}. Best is trial 1 with value: -0.758287.\n"
     ]
    },
    {
     "name": "stderr",
     "output_type": "stream",
     "text": [
      "[I 2025-05-14 18:09:39,902] Trial 3 finished with value: -0.725361 and parameters: {'max_depth': 6, 'min_child_weight': 77, 'subsample': 0.5722807884690141, 'colsample_bynode': 0.48875051677790415, 'learning_rate': 0.006109683510122491}. Best is trial 1 with value: -0.758287.\n"
     ]
    },
    {
     "name": "stderr",
     "output_type": "stream",
     "text": [
      "[I 2025-05-14 18:09:44,479] Trial 4 finished with value: -0.759808 and parameters: {'max_depth': 14, 'min_child_weight': 35, 'subsample': 0.3629301836816964, 'colsample_bynode': 0.4297256589643226, 'learning_rate': 0.01701841881702917}. Best is trial 4 with value: -0.759808.\n"
     ]
    },
    {
     "name": "stderr",
     "output_type": "stream",
     "text": [
      "[I 2025-05-14 18:09:44,713] Trial 5 pruned. Trial was pruned at iteration 1.\n"
     ]
    },
    {
     "name": "stderr",
     "output_type": "stream",
     "text": [
      "[I 2025-05-14 18:09:44,877] Trial 6 pruned. Trial was pruned at iteration 0.\n"
     ]
    },
    {
     "name": "stderr",
     "output_type": "stream",
     "text": [
      "[I 2025-05-14 18:09:45,037] Trial 7 pruned. Trial was pruned at iteration 0.\n"
     ]
    },
    {
     "name": "stderr",
     "output_type": "stream",
     "text": [
      "[I 2025-05-14 18:09:45,193] Trial 8 pruned. Trial was pruned at iteration 0.\n"
     ]
    },
    {
     "name": "stderr",
     "output_type": "stream",
     "text": [
      "[I 2025-05-14 18:09:45,492] Trial 9 pruned. Trial was pruned at iteration 4.\n"
     ]
    },
    {
     "name": "stderr",
     "output_type": "stream",
     "text": [
      "[I 2025-05-14 18:09:45,661] Trial 10 pruned. Trial was pruned at iteration 0.\n"
     ]
    },
    {
     "name": "stderr",
     "output_type": "stream",
     "text": [
      "[I 2025-05-14 18:09:50,348] Trial 11 finished with value: -0.76219 and parameters: {'max_depth': 10, 'min_child_weight': 3, 'subsample': 0.9785259098721957, 'colsample_bynode': 0.40131565860091256, 'learning_rate': 0.08587379144532957}. Best is trial 11 with value: -0.76219.\n"
     ]
    },
    {
     "name": "stderr",
     "output_type": "stream",
     "text": [
      "[I 2025-05-14 18:09:54,453] Trial 12 finished with value: -0.754606 and parameters: {'max_depth': 10, 'min_child_weight': 3, 'subsample': 0.37777201587536535, 'colsample_bynode': 0.3630146189517875, 'learning_rate': 0.14603786032022117}. Best is trial 11 with value: -0.76219.\n"
     ]
    },
    {
     "name": "stderr",
     "output_type": "stream",
     "text": [
      "[I 2025-05-14 18:09:54,634] Trial 13 pruned. Trial was pruned at iteration 0.\n"
     ]
    },
    {
     "name": "stderr",
     "output_type": "stream",
     "text": [
      "[I 2025-05-14 18:09:54,819] Trial 14 pruned. Trial was pruned at iteration 0.\n"
     ]
    },
    {
     "name": "stderr",
     "output_type": "stream",
     "text": [
      "[I 2025-05-14 18:09:58,563] Trial 15 finished with value: -0.751559 and parameters: {'max_depth': 9, 'min_child_weight': 1, 'subsample': 0.706477734046452, 'colsample_bynode': 0.2687793682900305, 'learning_rate': 0.22610098086419064}. Best is trial 11 with value: -0.76219.\n"
     ]
    },
    {
     "name": "stderr",
     "output_type": "stream",
     "text": [
      "[I 2025-05-14 18:09:58,740] Trial 16 pruned. Trial was pruned at iteration 0.\n"
     ]
    },
    {
     "name": "stderr",
     "output_type": "stream",
     "text": [
      "[I 2025-05-14 18:09:58,921] Trial 17 pruned. Trial was pruned at iteration 0.\n"
     ]
    },
    {
     "name": "stderr",
     "output_type": "stream",
     "text": [
      "[I 2025-05-14 18:10:00,473] Trial 18 finished with value: -0.76756 and parameters: {'max_depth': 16, 'min_child_weight': 61, 'subsample': 0.6911529320987619, 'colsample_bynode': 0.3513304994819167, 'learning_rate': 0.10008067633488864}. Best is trial 18 with value: -0.76756.\n"
     ]
    },
    {
     "name": "stderr",
     "output_type": "stream",
     "text": [
      "[I 2025-05-14 18:10:00,701] Trial 19 pruned. Trial was pruned at iteration 1.\n"
     ]
    },
    {
     "name": "stderr",
     "output_type": "stream",
     "text": [
      "[I 2025-05-14 18:10:00,888] Trial 20 pruned. Trial was pruned at iteration 0.\n"
     ]
    },
    {
     "name": "stderr",
     "output_type": "stream",
     "text": [
      "[I 2025-05-14 18:10:01,141] Trial 21 pruned. Trial was pruned at iteration 1.\n"
     ]
    },
    {
     "name": "stderr",
     "output_type": "stream",
     "text": [
      "[I 2025-05-14 18:10:01,350] Trial 22 pruned. Trial was pruned at iteration 0.\n"
     ]
    },
    {
     "name": "stderr",
     "output_type": "stream",
     "text": [
      "[I 2025-05-14 18:10:01,533] Trial 23 pruned. Trial was pruned at iteration 0.\n"
     ]
    },
    {
     "name": "stderr",
     "output_type": "stream",
     "text": [
      "[I 2025-05-14 18:10:01,739] Trial 24 pruned. Trial was pruned at iteration 0.\n"
     ]
    },
    {
     "name": "stderr",
     "output_type": "stream",
     "text": [
      "[I 2025-05-14 18:10:01,994] Trial 25 pruned. Trial was pruned at iteration 0.\n"
     ]
    },
    {
     "name": "stderr",
     "output_type": "stream",
     "text": [
      "[I 2025-05-14 18:10:02,194] Trial 26 pruned. Trial was pruned at iteration 0.\n"
     ]
    },
    {
     "name": "stderr",
     "output_type": "stream",
     "text": [
      "[I 2025-05-14 18:10:02,389] Trial 27 pruned. Trial was pruned at iteration 0.\n"
     ]
    },
    {
     "name": "stderr",
     "output_type": "stream",
     "text": [
      "[I 2025-05-14 18:10:02,990] Trial 28 pruned. Trial was pruned at iteration 0.\n"
     ]
    },
    {
     "name": "stderr",
     "output_type": "stream",
     "text": [
      "[I 2025-05-14 18:10:03,236] Trial 29 pruned. Trial was pruned at iteration 0.\n"
     ]
    },
    {
     "name": "stderr",
     "output_type": "stream",
     "text": [
      "[I 2025-05-14 18:10:05,674] Trial 30 finished with value: -0.768636 and parameters: {'max_depth': 16, 'min_child_weight': 35, 'subsample': 0.9158566415693857, 'colsample_bynode': 0.10163349810505512, 'learning_rate': 0.029252464896844264}. Best is trial 30 with value: -0.768636.\n"
     ]
    },
    {
     "name": "stderr",
     "output_type": "stream",
     "text": [
      "[I 2025-05-14 18:10:10,728] Trial 31 finished with value: -0.772832 and parameters: {'max_depth': 16, 'min_child_weight': 44, 'subsample': 0.9361040431087676, 'colsample_bynode': 0.11839657059960937, 'learning_rate': 0.01983400959654686}. Best is trial 31 with value: -0.772832.\n"
     ]
    },
    {
     "name": "stderr",
     "output_type": "stream",
     "text": [
      "[I 2025-05-14 18:10:15,125] Trial 32 finished with value: -0.776415 and parameters: {'max_depth': 16, 'min_child_weight': 10, 'subsample': 0.9022046810977089, 'colsample_bynode': 0.12390746897553372, 'learning_rate': 0.030441573354991383}. Best is trial 32 with value: -0.776415.\n"
     ]
    },
    {
     "name": "stderr",
     "output_type": "stream",
     "text": [
      "[I 2025-05-14 18:10:18,599] Trial 33 finished with value: -0.771286 and parameters: {'max_depth': 16, 'min_child_weight': 17, 'subsample': 0.9087703293048705, 'colsample_bynode': 0.11966540540351799, 'learning_rate': 0.029034097215999755}. Best is trial 32 with value: -0.776415.\n"
     ]
    },
    {
     "name": "stderr",
     "output_type": "stream",
     "text": [
      "[I 2025-05-14 18:10:23,973] Trial 34 finished with value: -0.776273 and parameters: {'max_depth': 19, 'min_child_weight': 15, 'subsample': 0.9176309701050188, 'colsample_bynode': 0.10148407403685365, 'learning_rate': 0.03213851570240838}. Best is trial 32 with value: -0.776415.\n"
     ]
    },
    {
     "name": "stderr",
     "output_type": "stream",
     "text": [
      "[I 2025-05-14 18:10:24,423] Trial 35 pruned. Trial was pruned at iteration 2.\n"
     ]
    },
    {
     "name": "stderr",
     "output_type": "stream",
     "text": [
      "[I 2025-05-14 18:10:29,794] Trial 36 finished with value: -0.773626 and parameters: {'max_depth': 19, 'min_child_weight': 16, 'subsample': 0.933443007603579, 'colsample_bynode': 0.14122944763289969, 'learning_rate': 0.019296072538596384}. Best is trial 32 with value: -0.776415.\n"
     ]
    },
    {
     "name": "stderr",
     "output_type": "stream",
     "text": [
      "[I 2025-05-14 18:10:30,076] Trial 37 pruned. Trial was pruned at iteration 0.\n"
     ]
    },
    {
     "name": "stderr",
     "output_type": "stream",
     "text": [
      "[I 2025-05-14 18:10:30,402] Trial 38 pruned. Trial was pruned at iteration 1.\n"
     ]
    },
    {
     "name": "stderr",
     "output_type": "stream",
     "text": [
      "[I 2025-05-14 18:10:33,729] Trial 39 finished with value: -0.766257 and parameters: {'max_depth': 18, 'min_child_weight': 11, 'subsample': 0.8130622209945024, 'colsample_bynode': 0.21990539340610776, 'learning_rate': 0.01942564094913121}. Best is trial 32 with value: -0.776415.\n"
     ]
    },
    {
     "name": "stderr",
     "output_type": "stream",
     "text": [
      "[I 2025-05-14 18:10:34,011] Trial 40 pruned. Trial was pruned at iteration 0.\n"
     ]
    },
    {
     "name": "stderr",
     "output_type": "stream",
     "text": [
      "[I 2025-05-14 18:10:37,853] Trial 41 finished with value: -0.770384 and parameters: {'max_depth': 16, 'min_child_weight': 15, 'subsample': 0.9401071917192179, 'colsample_bynode': 0.14559425084013905, 'learning_rate': 0.03415381353259552}. Best is trial 32 with value: -0.776415.\n"
     ]
    },
    {
     "name": "stderr",
     "output_type": "stream",
     "text": [
      "[I 2025-05-14 18:10:40,157] Trial 42 finished with value: -0.772379 and parameters: {'max_depth': 17, 'min_child_weight': 21, 'subsample': 0.900633635297867, 'colsample_bynode': 0.10137445267265444, 'learning_rate': 0.02112300855338649}. Best is trial 32 with value: -0.776415.\n"
     ]
    },
    {
     "name": "stderr",
     "output_type": "stream",
     "text": [
      "[I 2025-05-14 18:10:40,367] Trial 43 pruned. Trial was pruned at iteration 0.\n"
     ]
    },
    {
     "name": "stderr",
     "output_type": "stream",
     "text": [
      "[I 2025-05-14 18:10:40,563] Trial 44 pruned. Trial was pruned at iteration 0.\n"
     ]
    },
    {
     "name": "stderr",
     "output_type": "stream",
     "text": [
      "[I 2025-05-14 18:10:40,964] Trial 45 pruned. Trial was pruned at iteration 0.\n"
     ]
    },
    {
     "name": "stderr",
     "output_type": "stream",
     "text": [
      "[I 2025-05-14 18:10:41,263] Trial 46 pruned. Trial was pruned at iteration 1.\n"
     ]
    },
    {
     "name": "stderr",
     "output_type": "stream",
     "text": [
      "[I 2025-05-14 18:10:45,438] Trial 47 finished with value: -0.775004 and parameters: {'max_depth': 20, 'min_child_weight': 9, 'subsample': 0.8486884326202128, 'colsample_bynode': 0.20422891643249685, 'learning_rate': 0.02151340484783297}. Best is trial 32 with value: -0.776415.\n"
     ]
    },
    {
     "name": "stderr",
     "output_type": "stream",
     "text": [
      "[I 2025-05-14 18:10:49,010] Trial 48 finished with value: -0.765501 and parameters: {'max_depth': 20, 'min_child_weight': 7, 'subsample': 0.8525448831142827, 'colsample_bynode': 0.2108130227428791, 'learning_rate': 0.012451517415011788}. Best is trial 32 with value: -0.776415.\n"
     ]
    },
    {
     "name": "stderr",
     "output_type": "stream",
     "text": [
      "[I 2025-05-14 18:10:49,228] Trial 49 pruned. Trial was pruned at iteration 0.\n"
     ]
    }
   ],
   "source": [
    "sampler = optuna.samplers.TPESampler(seed=42)\n",
    "study = optuna.create_study(direction='minimize', sampler=sampler)\n",
    "study.optimize(objective, n_trials=N_TRIALS, gc_after_trial=True)"
   ]
  },
  {
   "cell_type": "code",
   "execution_count": 20,
   "id": "aa7a4d58",
   "metadata": {
    "execution": {
     "iopub.execute_input": "2025-05-14T16:10:49.387424Z",
     "iopub.status.busy": "2025-05-14T16:10:49.387062Z",
     "iopub.status.idle": "2025-05-14T16:10:49.410458Z",
     "shell.execute_reply": "2025-05-14T16:10:49.409933Z"
    },
    "papermill": {
     "duration": 0.052839,
     "end_time": "2025-05-14T16:10:49.411382",
     "exception": false,
     "start_time": "2025-05-14T16:10:49.358543",
     "status": "completed"
    },
    "tags": []
   },
   "outputs": [
    {
     "data": {
      "text/plain": [
       "['/scratch_isilon/groups/singlecell/shared/projects/Inflammation-PBMCs-Atlas/03_downstream_analysis/08_gene_importance/xgboost_external_validation/xgboost_TopN_genes/results_20/study/UTC_shap_studyID_NOdisease_4_xgboost.pkl']"
      ]
     },
     "execution_count": 20,
     "metadata": {},
     "output_type": "execute_result"
    }
   ],
   "source": [
    "out_dir = here(f'03_downstream_analysis/08_gene_importance/xgboost_external_validation/xgboost_TopN_genes/results_{N_GENES}/study')\n",
    "\n",
    "if not os.path.exists(out_dir):\n",
    "    os.makedirs(out_dir)\n",
    "    \n",
    "joblib.dump(study,os.path.join(out_dir, f'{CELL_TYPE}_{SEED}_{TEST_SPLIT_IDX}_xgboost.pkl'))"
   ]
  },
  {
   "cell_type": "code",
   "execution_count": 21,
   "id": "b14cb832",
   "metadata": {
    "execution": {
     "iopub.execute_input": "2025-05-14T16:10:49.430124Z",
     "iopub.status.busy": "2025-05-14T16:10:49.429413Z",
     "iopub.status.idle": "2025-05-14T16:10:52.776474Z",
     "shell.execute_reply": "2025-05-14T16:10:52.775665Z"
    },
    "papermill": {
     "duration": 3.357581,
     "end_time": "2025-05-14T16:10:52.777672",
     "exception": false,
     "start_time": "2025-05-14T16:10:49.420091",
     "status": "completed"
    },
    "tags": []
   },
   "outputs": [
    {
     "data": {
      "text/html": [
       "<style>#sk-container-id-1 {\n",
       "  /* Definition of color scheme common for light and dark mode */\n",
       "  --sklearn-color-text: black;\n",
       "  --sklearn-color-line: gray;\n",
       "  /* Definition of color scheme for unfitted estimators */\n",
       "  --sklearn-color-unfitted-level-0: #fff5e6;\n",
       "  --sklearn-color-unfitted-level-1: #f6e4d2;\n",
       "  --sklearn-color-unfitted-level-2: #ffe0b3;\n",
       "  --sklearn-color-unfitted-level-3: chocolate;\n",
       "  /* Definition of color scheme for fitted estimators */\n",
       "  --sklearn-color-fitted-level-0: #f0f8ff;\n",
       "  --sklearn-color-fitted-level-1: #d4ebff;\n",
       "  --sklearn-color-fitted-level-2: #b3dbfd;\n",
       "  --sklearn-color-fitted-level-3: cornflowerblue;\n",
       "\n",
       "  /* Specific color for light theme */\n",
       "  --sklearn-color-text-on-default-background: var(--sg-text-color, var(--theme-code-foreground, var(--jp-content-font-color1, black)));\n",
       "  --sklearn-color-background: var(--sg-background-color, var(--theme-background, var(--jp-layout-color0, white)));\n",
       "  --sklearn-color-border-box: var(--sg-text-color, var(--theme-code-foreground, var(--jp-content-font-color1, black)));\n",
       "  --sklearn-color-icon: #696969;\n",
       "\n",
       "  @media (prefers-color-scheme: dark) {\n",
       "    /* Redefinition of color scheme for dark theme */\n",
       "    --sklearn-color-text-on-default-background: var(--sg-text-color, var(--theme-code-foreground, var(--jp-content-font-color1, white)));\n",
       "    --sklearn-color-background: var(--sg-background-color, var(--theme-background, var(--jp-layout-color0, #111)));\n",
       "    --sklearn-color-border-box: var(--sg-text-color, var(--theme-code-foreground, var(--jp-content-font-color1, white)));\n",
       "    --sklearn-color-icon: #878787;\n",
       "  }\n",
       "}\n",
       "\n",
       "#sk-container-id-1 {\n",
       "  color: var(--sklearn-color-text);\n",
       "}\n",
       "\n",
       "#sk-container-id-1 pre {\n",
       "  padding: 0;\n",
       "}\n",
       "\n",
       "#sk-container-id-1 input.sk-hidden--visually {\n",
       "  border: 0;\n",
       "  clip: rect(1px 1px 1px 1px);\n",
       "  clip: rect(1px, 1px, 1px, 1px);\n",
       "  height: 1px;\n",
       "  margin: -1px;\n",
       "  overflow: hidden;\n",
       "  padding: 0;\n",
       "  position: absolute;\n",
       "  width: 1px;\n",
       "}\n",
       "\n",
       "#sk-container-id-1 div.sk-dashed-wrapped {\n",
       "  border: 1px dashed var(--sklearn-color-line);\n",
       "  margin: 0 0.4em 0.5em 0.4em;\n",
       "  box-sizing: border-box;\n",
       "  padding-bottom: 0.4em;\n",
       "  background-color: var(--sklearn-color-background);\n",
       "}\n",
       "\n",
       "#sk-container-id-1 div.sk-container {\n",
       "  /* jupyter's `normalize.less` sets `[hidden] { display: none; }`\n",
       "     but bootstrap.min.css set `[hidden] { display: none !important; }`\n",
       "     so we also need the `!important` here to be able to override the\n",
       "     default hidden behavior on the sphinx rendered scikit-learn.org.\n",
       "     See: https://github.com/scikit-learn/scikit-learn/issues/21755 */\n",
       "  display: inline-block !important;\n",
       "  position: relative;\n",
       "}\n",
       "\n",
       "#sk-container-id-1 div.sk-text-repr-fallback {\n",
       "  display: none;\n",
       "}\n",
       "\n",
       "div.sk-parallel-item,\n",
       "div.sk-serial,\n",
       "div.sk-item {\n",
       "  /* draw centered vertical line to link estimators */\n",
       "  background-image: linear-gradient(var(--sklearn-color-text-on-default-background), var(--sklearn-color-text-on-default-background));\n",
       "  background-size: 2px 100%;\n",
       "  background-repeat: no-repeat;\n",
       "  background-position: center center;\n",
       "}\n",
       "\n",
       "/* Parallel-specific style estimator block */\n",
       "\n",
       "#sk-container-id-1 div.sk-parallel-item::after {\n",
       "  content: \"\";\n",
       "  width: 100%;\n",
       "  border-bottom: 2px solid var(--sklearn-color-text-on-default-background);\n",
       "  flex-grow: 1;\n",
       "}\n",
       "\n",
       "#sk-container-id-1 div.sk-parallel {\n",
       "  display: flex;\n",
       "  align-items: stretch;\n",
       "  justify-content: center;\n",
       "  background-color: var(--sklearn-color-background);\n",
       "  position: relative;\n",
       "}\n",
       "\n",
       "#sk-container-id-1 div.sk-parallel-item {\n",
       "  display: flex;\n",
       "  flex-direction: column;\n",
       "}\n",
       "\n",
       "#sk-container-id-1 div.sk-parallel-item:first-child::after {\n",
       "  align-self: flex-end;\n",
       "  width: 50%;\n",
       "}\n",
       "\n",
       "#sk-container-id-1 div.sk-parallel-item:last-child::after {\n",
       "  align-self: flex-start;\n",
       "  width: 50%;\n",
       "}\n",
       "\n",
       "#sk-container-id-1 div.sk-parallel-item:only-child::after {\n",
       "  width: 0;\n",
       "}\n",
       "\n",
       "/* Serial-specific style estimator block */\n",
       "\n",
       "#sk-container-id-1 div.sk-serial {\n",
       "  display: flex;\n",
       "  flex-direction: column;\n",
       "  align-items: center;\n",
       "  background-color: var(--sklearn-color-background);\n",
       "  padding-right: 1em;\n",
       "  padding-left: 1em;\n",
       "}\n",
       "\n",
       "\n",
       "/* Toggleable style: style used for estimator/Pipeline/ColumnTransformer box that is\n",
       "clickable and can be expanded/collapsed.\n",
       "- Pipeline and ColumnTransformer use this feature and define the default style\n",
       "- Estimators will overwrite some part of the style using the `sk-estimator` class\n",
       "*/\n",
       "\n",
       "/* Pipeline and ColumnTransformer style (default) */\n",
       "\n",
       "#sk-container-id-1 div.sk-toggleable {\n",
       "  /* Default theme specific background. It is overwritten whether we have a\n",
       "  specific estimator or a Pipeline/ColumnTransformer */\n",
       "  background-color: var(--sklearn-color-background);\n",
       "}\n",
       "\n",
       "/* Toggleable label */\n",
       "#sk-container-id-1 label.sk-toggleable__label {\n",
       "  cursor: pointer;\n",
       "  display: block;\n",
       "  width: 100%;\n",
       "  margin-bottom: 0;\n",
       "  padding: 0.5em;\n",
       "  box-sizing: border-box;\n",
       "  text-align: center;\n",
       "}\n",
       "\n",
       "#sk-container-id-1 label.sk-toggleable__label-arrow:before {\n",
       "  /* Arrow on the left of the label */\n",
       "  content: \"▸\";\n",
       "  float: left;\n",
       "  margin-right: 0.25em;\n",
       "  color: var(--sklearn-color-icon);\n",
       "}\n",
       "\n",
       "#sk-container-id-1 label.sk-toggleable__label-arrow:hover:before {\n",
       "  color: var(--sklearn-color-text);\n",
       "}\n",
       "\n",
       "/* Toggleable content - dropdown */\n",
       "\n",
       "#sk-container-id-1 div.sk-toggleable__content {\n",
       "  max-height: 0;\n",
       "  max-width: 0;\n",
       "  overflow: hidden;\n",
       "  text-align: left;\n",
       "  /* unfitted */\n",
       "  background-color: var(--sklearn-color-unfitted-level-0);\n",
       "}\n",
       "\n",
       "#sk-container-id-1 div.sk-toggleable__content.fitted {\n",
       "  /* fitted */\n",
       "  background-color: var(--sklearn-color-fitted-level-0);\n",
       "}\n",
       "\n",
       "#sk-container-id-1 div.sk-toggleable__content pre {\n",
       "  margin: 0.2em;\n",
       "  border-radius: 0.25em;\n",
       "  color: var(--sklearn-color-text);\n",
       "  /* unfitted */\n",
       "  background-color: var(--sklearn-color-unfitted-level-0);\n",
       "}\n",
       "\n",
       "#sk-container-id-1 div.sk-toggleable__content.fitted pre {\n",
       "  /* unfitted */\n",
       "  background-color: var(--sklearn-color-fitted-level-0);\n",
       "}\n",
       "\n",
       "#sk-container-id-1 input.sk-toggleable__control:checked~div.sk-toggleable__content {\n",
       "  /* Expand drop-down */\n",
       "  max-height: 200px;\n",
       "  max-width: 100%;\n",
       "  overflow: auto;\n",
       "}\n",
       "\n",
       "#sk-container-id-1 input.sk-toggleable__control:checked~label.sk-toggleable__label-arrow:before {\n",
       "  content: \"▾\";\n",
       "}\n",
       "\n",
       "/* Pipeline/ColumnTransformer-specific style */\n",
       "\n",
       "#sk-container-id-1 div.sk-label input.sk-toggleable__control:checked~label.sk-toggleable__label {\n",
       "  color: var(--sklearn-color-text);\n",
       "  background-color: var(--sklearn-color-unfitted-level-2);\n",
       "}\n",
       "\n",
       "#sk-container-id-1 div.sk-label.fitted input.sk-toggleable__control:checked~label.sk-toggleable__label {\n",
       "  background-color: var(--sklearn-color-fitted-level-2);\n",
       "}\n",
       "\n",
       "/* Estimator-specific style */\n",
       "\n",
       "/* Colorize estimator box */\n",
       "#sk-container-id-1 div.sk-estimator input.sk-toggleable__control:checked~label.sk-toggleable__label {\n",
       "  /* unfitted */\n",
       "  background-color: var(--sklearn-color-unfitted-level-2);\n",
       "}\n",
       "\n",
       "#sk-container-id-1 div.sk-estimator.fitted input.sk-toggleable__control:checked~label.sk-toggleable__label {\n",
       "  /* fitted */\n",
       "  background-color: var(--sklearn-color-fitted-level-2);\n",
       "}\n",
       "\n",
       "#sk-container-id-1 div.sk-label label.sk-toggleable__label,\n",
       "#sk-container-id-1 div.sk-label label {\n",
       "  /* The background is the default theme color */\n",
       "  color: var(--sklearn-color-text-on-default-background);\n",
       "}\n",
       "\n",
       "/* On hover, darken the color of the background */\n",
       "#sk-container-id-1 div.sk-label:hover label.sk-toggleable__label {\n",
       "  color: var(--sklearn-color-text);\n",
       "  background-color: var(--sklearn-color-unfitted-level-2);\n",
       "}\n",
       "\n",
       "/* Label box, darken color on hover, fitted */\n",
       "#sk-container-id-1 div.sk-label.fitted:hover label.sk-toggleable__label.fitted {\n",
       "  color: var(--sklearn-color-text);\n",
       "  background-color: var(--sklearn-color-fitted-level-2);\n",
       "}\n",
       "\n",
       "/* Estimator label */\n",
       "\n",
       "#sk-container-id-1 div.sk-label label {\n",
       "  font-family: monospace;\n",
       "  font-weight: bold;\n",
       "  display: inline-block;\n",
       "  line-height: 1.2em;\n",
       "}\n",
       "\n",
       "#sk-container-id-1 div.sk-label-container {\n",
       "  text-align: center;\n",
       "}\n",
       "\n",
       "/* Estimator-specific */\n",
       "#sk-container-id-1 div.sk-estimator {\n",
       "  font-family: monospace;\n",
       "  border: 1px dotted var(--sklearn-color-border-box);\n",
       "  border-radius: 0.25em;\n",
       "  box-sizing: border-box;\n",
       "  margin-bottom: 0.5em;\n",
       "  /* unfitted */\n",
       "  background-color: var(--sklearn-color-unfitted-level-0);\n",
       "}\n",
       "\n",
       "#sk-container-id-1 div.sk-estimator.fitted {\n",
       "  /* fitted */\n",
       "  background-color: var(--sklearn-color-fitted-level-0);\n",
       "}\n",
       "\n",
       "/* on hover */\n",
       "#sk-container-id-1 div.sk-estimator:hover {\n",
       "  /* unfitted */\n",
       "  background-color: var(--sklearn-color-unfitted-level-2);\n",
       "}\n",
       "\n",
       "#sk-container-id-1 div.sk-estimator.fitted:hover {\n",
       "  /* fitted */\n",
       "  background-color: var(--sklearn-color-fitted-level-2);\n",
       "}\n",
       "\n",
       "/* Specification for estimator info (e.g. \"i\" and \"?\") */\n",
       "\n",
       "/* Common style for \"i\" and \"?\" */\n",
       "\n",
       ".sk-estimator-doc-link,\n",
       "a:link.sk-estimator-doc-link,\n",
       "a:visited.sk-estimator-doc-link {\n",
       "  float: right;\n",
       "  font-size: smaller;\n",
       "  line-height: 1em;\n",
       "  font-family: monospace;\n",
       "  background-color: var(--sklearn-color-background);\n",
       "  border-radius: 1em;\n",
       "  height: 1em;\n",
       "  width: 1em;\n",
       "  text-decoration: none !important;\n",
       "  margin-left: 1ex;\n",
       "  /* unfitted */\n",
       "  border: var(--sklearn-color-unfitted-level-1) 1pt solid;\n",
       "  color: var(--sklearn-color-unfitted-level-1);\n",
       "}\n",
       "\n",
       ".sk-estimator-doc-link.fitted,\n",
       "a:link.sk-estimator-doc-link.fitted,\n",
       "a:visited.sk-estimator-doc-link.fitted {\n",
       "  /* fitted */\n",
       "  border: var(--sklearn-color-fitted-level-1) 1pt solid;\n",
       "  color: var(--sklearn-color-fitted-level-1);\n",
       "}\n",
       "\n",
       "/* On hover */\n",
       "div.sk-estimator:hover .sk-estimator-doc-link:hover,\n",
       ".sk-estimator-doc-link:hover,\n",
       "div.sk-label-container:hover .sk-estimator-doc-link:hover,\n",
       ".sk-estimator-doc-link:hover {\n",
       "  /* unfitted */\n",
       "  background-color: var(--sklearn-color-unfitted-level-3);\n",
       "  color: var(--sklearn-color-background);\n",
       "  text-decoration: none;\n",
       "}\n",
       "\n",
       "div.sk-estimator.fitted:hover .sk-estimator-doc-link.fitted:hover,\n",
       ".sk-estimator-doc-link.fitted:hover,\n",
       "div.sk-label-container:hover .sk-estimator-doc-link.fitted:hover,\n",
       ".sk-estimator-doc-link.fitted:hover {\n",
       "  /* fitted */\n",
       "  background-color: var(--sklearn-color-fitted-level-3);\n",
       "  color: var(--sklearn-color-background);\n",
       "  text-decoration: none;\n",
       "}\n",
       "\n",
       "/* Span, style for the box shown on hovering the info icon */\n",
       ".sk-estimator-doc-link span {\n",
       "  display: none;\n",
       "  z-index: 9999;\n",
       "  position: relative;\n",
       "  font-weight: normal;\n",
       "  right: .2ex;\n",
       "  padding: .5ex;\n",
       "  margin: .5ex;\n",
       "  width: min-content;\n",
       "  min-width: 20ex;\n",
       "  max-width: 50ex;\n",
       "  color: var(--sklearn-color-text);\n",
       "  box-shadow: 2pt 2pt 4pt #999;\n",
       "  /* unfitted */\n",
       "  background: var(--sklearn-color-unfitted-level-0);\n",
       "  border: .5pt solid var(--sklearn-color-unfitted-level-3);\n",
       "}\n",
       "\n",
       ".sk-estimator-doc-link.fitted span {\n",
       "  /* fitted */\n",
       "  background: var(--sklearn-color-fitted-level-0);\n",
       "  border: var(--sklearn-color-fitted-level-3);\n",
       "}\n",
       "\n",
       ".sk-estimator-doc-link:hover span {\n",
       "  display: block;\n",
       "}\n",
       "\n",
       "/* \"?\"-specific style due to the `<a>` HTML tag */\n",
       "\n",
       "#sk-container-id-1 a.estimator_doc_link {\n",
       "  float: right;\n",
       "  font-size: 1rem;\n",
       "  line-height: 1em;\n",
       "  font-family: monospace;\n",
       "  background-color: var(--sklearn-color-background);\n",
       "  border-radius: 1rem;\n",
       "  height: 1rem;\n",
       "  width: 1rem;\n",
       "  text-decoration: none;\n",
       "  /* unfitted */\n",
       "  color: var(--sklearn-color-unfitted-level-1);\n",
       "  border: var(--sklearn-color-unfitted-level-1) 1pt solid;\n",
       "}\n",
       "\n",
       "#sk-container-id-1 a.estimator_doc_link.fitted {\n",
       "  /* fitted */\n",
       "  border: var(--sklearn-color-fitted-level-1) 1pt solid;\n",
       "  color: var(--sklearn-color-fitted-level-1);\n",
       "}\n",
       "\n",
       "/* On hover */\n",
       "#sk-container-id-1 a.estimator_doc_link:hover {\n",
       "  /* unfitted */\n",
       "  background-color: var(--sklearn-color-unfitted-level-3);\n",
       "  color: var(--sklearn-color-background);\n",
       "  text-decoration: none;\n",
       "}\n",
       "\n",
       "#sk-container-id-1 a.estimator_doc_link.fitted:hover {\n",
       "  /* fitted */\n",
       "  background-color: var(--sklearn-color-fitted-level-3);\n",
       "}\n",
       "</style><div id=\"sk-container-id-1\" class=\"sk-top-container\"><div class=\"sk-text-repr-fallback\"><pre>XGBClassifier(base_score=None, booster=None, callbacks=None,\n",
       "              colsample_bylevel=None, colsample_bynode=0.12390746897553372,\n",
       "              colsample_bytree=None, device=None, early_stopping_rounds=None,\n",
       "              enable_categorical=False,\n",
       "              eval_metric=&lt;function custom_f1_score at 0x7f89741c45e0&gt;,\n",
       "              feature_types=None, gamma=None, grow_policy=None,\n",
       "              importance_type=None, interaction_constraints=None,\n",
       "              learning_rate=0.030441573354991383, max_bin=None,\n",
       "              max_cat_threshold=None, max_cat_to_onehot=None,\n",
       "              max_delta_step=None, max_depth=16, max_leaves=None,\n",
       "              min_child_weight=10, missing=nan, monotone_constraints=None,\n",
       "              multi_strategy=None, n_estimators=39, n_jobs=None,\n",
       "              num_parallel_tree=None, objective=&#x27;multi:softprob&#x27;, ...)</pre><b>In a Jupyter environment, please rerun this cell to show the HTML representation or trust the notebook. <br />On GitHub, the HTML representation is unable to render, please try loading this page with nbviewer.org.</b></div><div class=\"sk-container\" hidden><div class=\"sk-item\"><div class=\"sk-estimator fitted sk-toggleable\"><input class=\"sk-toggleable__control sk-hidden--visually\" id=\"sk-estimator-id-1\" type=\"checkbox\" checked><label for=\"sk-estimator-id-1\" class=\"sk-toggleable__label fitted sk-toggleable__label-arrow fitted\">&nbsp;XGBClassifier<span class=\"sk-estimator-doc-link fitted\">i<span>Fitted</span></span></label><div class=\"sk-toggleable__content fitted\"><pre>XGBClassifier(base_score=None, booster=None, callbacks=None,\n",
       "              colsample_bylevel=None, colsample_bynode=0.12390746897553372,\n",
       "              colsample_bytree=None, device=None, early_stopping_rounds=None,\n",
       "              enable_categorical=False,\n",
       "              eval_metric=&lt;function custom_f1_score at 0x7f89741c45e0&gt;,\n",
       "              feature_types=None, gamma=None, grow_policy=None,\n",
       "              importance_type=None, interaction_constraints=None,\n",
       "              learning_rate=0.030441573354991383, max_bin=None,\n",
       "              max_cat_threshold=None, max_cat_to_onehot=None,\n",
       "              max_delta_step=None, max_depth=16, max_leaves=None,\n",
       "              min_child_weight=10, missing=nan, monotone_constraints=None,\n",
       "              multi_strategy=None, n_estimators=39, n_jobs=None,\n",
       "              num_parallel_tree=None, objective=&#x27;multi:softprob&#x27;, ...)</pre></div> </div></div></div></div>"
      ],
      "text/plain": [
       "XGBClassifier(base_score=None, booster=None, callbacks=None,\n",
       "              colsample_bylevel=None, colsample_bynode=0.12390746897553372,\n",
       "              colsample_bytree=None, device=None, early_stopping_rounds=None,\n",
       "              enable_categorical=False,\n",
       "              eval_metric=<function custom_f1_score at 0x7f89741c45e0>,\n",
       "              feature_types=None, gamma=None, grow_policy=None,\n",
       "              importance_type=None, interaction_constraints=None,\n",
       "              learning_rate=0.030441573354991383, max_bin=None,\n",
       "              max_cat_threshold=None, max_cat_to_onehot=None,\n",
       "              max_delta_step=None, max_depth=16, max_leaves=None,\n",
       "              min_child_weight=10, missing=nan, monotone_constraints=None,\n",
       "              multi_strategy=None, n_estimators=39, n_jobs=None,\n",
       "              num_parallel_tree=None, objective='multi:softprob', ...)"
      ]
     },
     "execution_count": 21,
     "metadata": {},
     "output_type": "execute_result"
    }
   ],
   "source": [
    "n_estimators = int(study.best_trial.user_attrs['best_iteration']*1.2)\n",
    "xgb = xgboost.XGBClassifier(\n",
    "        eval_metric=eval_metric,\n",
    "        n_estimators=n_estimators,\n",
    "        **study.best_trial.params\n",
    "    )\n",
    "xgb.fit(\n",
    "    ssp.vstack((X_train, X_val)), \n",
    "    np.concatenate((y_train_enc, y_val_enc)),\n",
    "    verbose=1,\n",
    ")"
   ]
  },
  {
   "cell_type": "code",
   "execution_count": 22,
   "id": "4877a0b4",
   "metadata": {
    "execution": {
     "iopub.execute_input": "2025-05-14T16:10:52.895843Z",
     "iopub.status.busy": "2025-05-14T16:10:52.895091Z",
     "iopub.status.idle": "2025-05-14T16:10:52.944495Z",
     "shell.execute_reply": "2025-05-14T16:10:52.943965Z"
    },
    "papermill": {
     "duration": 0.157554,
     "end_time": "2025-05-14T16:10:52.945481",
     "exception": false,
     "start_time": "2025-05-14T16:10:52.787927",
     "status": "completed"
    },
    "tags": []
   },
   "outputs": [
    {
     "data": {
      "text/plain": [
       "['/scratch_isilon/groups/singlecell/shared/projects/Inflammation-PBMCs-Atlas/03_downstream_analysis/08_gene_importance/xgboost_external_validation/xgboost_TopN_genes/results_20/best_model/UTC_shap_studyID_NOdisease_4_xgb.json']"
      ]
     },
     "execution_count": 22,
     "metadata": {},
     "output_type": "execute_result"
    }
   ],
   "source": [
    "out_dir = here(f'03_downstream_analysis/08_gene_importance/xgboost_external_validation/xgboost_TopN_genes/results_{N_GENES}/best_model')\n",
    "\n",
    "if not os.path.exists(out_dir):\n",
    "    os.makedirs(out_dir)\n",
    "    \n",
    "joblib.dump(xgb, os.path.join(out_dir, f'{CELL_TYPE}_{SEED}_{TEST_SPLIT_IDX}_xgb.json'))"
   ]
  },
  {
   "cell_type": "code",
   "execution_count": 23,
   "id": "7847a593",
   "metadata": {
    "execution": {
     "iopub.execute_input": "2025-05-14T16:10:52.977614Z",
     "iopub.status.busy": "2025-05-14T16:10:52.976868Z",
     "iopub.status.idle": "2025-05-14T16:10:53.009476Z",
     "shell.execute_reply": "2025-05-14T16:10:53.008920Z"
    },
    "papermill": {
     "duration": 0.043585,
     "end_time": "2025-05-14T16:10:53.010657",
     "exception": false,
     "start_time": "2025-05-14T16:10:52.967072",
     "status": "completed"
    },
    "tags": []
   },
   "outputs": [],
   "source": [
    "df_pred_test = pd.DataFrame(dict(\n",
    "    cell_id=train_adata.obs.iloc[test_idxs].index.values,\n",
    "    y_true=y_test, \n",
    "    y_true_code=y_test_enc, \n",
    "    y_pred=xgb.predict(X_test))).set_index('cell_id')"
   ]
  },
  {
   "cell_type": "code",
   "execution_count": 24,
   "id": "4ef6770c",
   "metadata": {
    "execution": {
     "iopub.execute_input": "2025-05-14T16:10:53.117968Z",
     "iopub.status.busy": "2025-05-14T16:10:53.117361Z",
     "iopub.status.idle": "2025-05-14T16:10:53.144583Z",
     "shell.execute_reply": "2025-05-14T16:10:53.144013Z"
    },
    "papermill": {
     "duration": 0.039316,
     "end_time": "2025-05-14T16:10:53.145688",
     "exception": false,
     "start_time": "2025-05-14T16:10:53.106372",
     "status": "completed"
    },
    "tags": []
   },
   "outputs": [],
   "source": [
    "out_dir = here(f'03_downstream_analysis/08_gene_importance/xgboost_external_validation/xgboost_TopN_genes/results_{N_GENES}/predictions')\n",
    "\n",
    "if not os.path.exists(out_dir):\n",
    "    os.makedirs(out_dir)\n",
    "    \n",
    "df_pred_test.to_csv(os.path.join(out_dir, f'{CELL_TYPE}_{SEED}_{TEST_SPLIT_IDX}_pred_test.zip'))"
   ]
  },
  {
   "cell_type": "code",
   "execution_count": 25,
   "id": "e47e4174",
   "metadata": {
    "execution": {
     "iopub.execute_input": "2025-05-14T16:10:53.183698Z",
     "iopub.status.busy": "2025-05-14T16:10:53.183038Z",
     "iopub.status.idle": "2025-05-14T16:10:53.193100Z",
     "shell.execute_reply": "2025-05-14T16:10:53.192530Z"
    },
    "papermill": {
     "duration": 0.021259,
     "end_time": "2025-05-14T16:10:53.194018",
     "exception": false,
     "start_time": "2025-05-14T16:10:53.172759",
     "status": "completed"
    },
    "tags": []
   },
   "outputs": [
    {
     "name": "stderr",
     "output_type": "stream",
     "text": [
      "/scratch_isilon/groups/singlecell/shared/conda_env/xgboost-cpu/lib/python3.12/site-packages/sklearn/metrics/_classification.py:2466: UserWarning: y_pred contains classes not in y_true\n",
      "  warnings.warn(\"y_pred contains classes not in y_true\")\n"
     ]
    }
   ],
   "source": [
    "metrics_dict = dict(\n",
    "    BAS=balanced_accuracy_score(y_true=df_pred_test.y_true_code, y_pred=df_pred_test.y_pred), WF1=f1_score(y_true=df_pred_test.y_true_code, y_pred=df_pred_test.y_pred,average='weighted'))"
   ]
  },
  {
   "cell_type": "code",
   "execution_count": 26,
   "id": "ad3473b4",
   "metadata": {
    "execution": {
     "iopub.execute_input": "2025-05-14T16:10:53.235805Z",
     "iopub.status.busy": "2025-05-14T16:10:53.234837Z",
     "iopub.status.idle": "2025-05-14T16:10:53.239185Z",
     "shell.execute_reply": "2025-05-14T16:10:53.238769Z"
    },
    "papermill": {
     "duration": 0.030622,
     "end_time": "2025-05-14T16:10:53.240044",
     "exception": false,
     "start_time": "2025-05-14T16:10:53.209422",
     "status": "completed"
    },
    "tags": []
   },
   "outputs": [
    {
     "data": {
      "text/plain": [
       "{'BAS': 0.36874812861542733, 'WF1': 0.5968353251340129}"
      ]
     },
     "execution_count": 26,
     "metadata": {},
     "output_type": "execute_result"
    }
   ],
   "source": [
    "metrics_dict"
   ]
  },
  {
   "cell_type": "code",
   "execution_count": 27,
   "id": "a93bf6d6",
   "metadata": {
    "execution": {
     "iopub.execute_input": "2025-05-14T16:10:53.260255Z",
     "iopub.status.busy": "2025-05-14T16:10:53.259502Z",
     "iopub.status.idle": "2025-05-14T16:10:53.271020Z",
     "shell.execute_reply": "2025-05-14T16:10:53.270576Z"
    },
    "papermill": {
     "duration": 0.022984,
     "end_time": "2025-05-14T16:10:53.272024",
     "exception": false,
     "start_time": "2025-05-14T16:10:53.249040",
     "status": "completed"
    },
    "tags": []
   },
   "outputs": [
    {
     "data": {
      "text/html": [
       "<div>\n",
       "<style scoped>\n",
       "    .dataframe tbody tr th:only-of-type {\n",
       "        vertical-align: middle;\n",
       "    }\n",
       "\n",
       "    .dataframe tbody tr th {\n",
       "        vertical-align: top;\n",
       "    }\n",
       "\n",
       "    .dataframe thead th {\n",
       "        text-align: right;\n",
       "    }\n",
       "</style>\n",
       "<table border=\"1\" class=\"dataframe\">\n",
       "  <thead>\n",
       "    <tr style=\"text-align: right;\">\n",
       "      <th></th>\n",
       "      <th>BAS</th>\n",
       "      <th>WF1</th>\n",
       "      <th>split_idx</th>\n",
       "      <th>gene_set_seed</th>\n",
       "      <th>cell_type</th>\n",
       "    </tr>\n",
       "  </thead>\n",
       "  <tbody>\n",
       "    <tr>\n",
       "      <th>0</th>\n",
       "      <td>0.368748</td>\n",
       "      <td>0.596835</td>\n",
       "      <td>4</td>\n",
       "      <td>shap_studyID_NOdisease</td>\n",
       "      <td>UTC</td>\n",
       "    </tr>\n",
       "  </tbody>\n",
       "</table>\n",
       "</div>"
      ],
      "text/plain": [
       "        BAS       WF1  split_idx           gene_set_seed cell_type\n",
       "0  0.368748  0.596835          4  shap_studyID_NOdisease       UTC"
      ]
     },
     "execution_count": 27,
     "metadata": {},
     "output_type": "execute_result"
    }
   ],
   "source": [
    "metrics_df = pd.DataFrame.from_dict([metrics_dict]).assign(split_idx=TEST_SPLIT_IDX, gene_set_seed=SEED, cell_type=CELL_TYPE)\n",
    "metrics_df"
   ]
  },
  {
   "cell_type": "code",
   "execution_count": 28,
   "id": "5d5d2a70",
   "metadata": {
    "execution": {
     "iopub.execute_input": "2025-05-14T16:10:53.308906Z",
     "iopub.status.busy": "2025-05-14T16:10:53.308358Z",
     "iopub.status.idle": "2025-05-14T16:10:53.329947Z",
     "shell.execute_reply": "2025-05-14T16:10:53.329232Z"
    },
    "papermill": {
     "duration": 0.033294,
     "end_time": "2025-05-14T16:10:53.330926",
     "exception": false,
     "start_time": "2025-05-14T16:10:53.297632",
     "status": "completed"
    },
    "tags": []
   },
   "outputs": [],
   "source": [
    "out_dir = here(f'03_downstream_analysis/08_gene_importance/xgboost_external_validation/xgboost_TopN_genes/results_{N_GENES}/metrics')\n",
    "\n",
    "if not os.path.exists(out_dir):\n",
    "    os.makedirs(out_dir)\n",
    "    \n",
    "metrics_df.to_csv(os.path.join(out_dir, f'{CELL_TYPE}_{SEED}_{TEST_SPLIT_IDX}_metrics.zip'))"
   ]
  }
 ],
 "metadata": {
  "kernelspec": {
   "display_name": "Python 3 (ipykernel)",
   "language": "python",
   "name": "python3"
  },
  "language_info": {
   "codemirror_mode": {
    "name": "ipython",
    "version": 3
   },
   "file_extension": ".py",
   "mimetype": "text/x-python",
   "name": "python",
   "nbconvert_exporter": "python",
   "pygments_lexer": "ipython3",
   "version": "3.12.5"
  },
  "papermill": {
   "default_parameters": {},
   "duration": 88.392169,
   "end_time": "2025-05-14T16:10:54.164621",
   "environment_variables": {},
   "exception": null,
   "input_path": "02_xgboost_fitting_external_20genes.ipynb",
   "output_path": "results_20/executed_notebooks/xgboost_fitting_external_CT_UTC_GS_shap_studyID_NOdisease_seed4.ipynb",
   "parameters": {
    "CELL_TYPE": "UTC",
    "SEED": "shap_studyID_NOdisease",
    "TEST_SPLIT_IDX": 4
   },
   "start_time": "2025-05-14T16:09:25.772452",
   "version": "2.6.0"
  }
 },
 "nbformat": 4,
 "nbformat_minor": 5
}