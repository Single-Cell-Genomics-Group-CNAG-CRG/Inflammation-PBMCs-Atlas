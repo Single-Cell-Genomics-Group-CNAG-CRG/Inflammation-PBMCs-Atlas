{
 "cells": [
  {
   "cell_type": "code",
   "execution_count": 1,
   "id": "e2754ebe",
   "metadata": {
    "editable": true,
    "execution": {
     "iopub.execute_input": "2025-05-15T15:59:57.005373Z",
     "iopub.status.busy": "2025-05-15T15:59:57.005223Z",
     "iopub.status.idle": "2025-05-15T15:59:57.008075Z",
     "shell.execute_reply": "2025-05-15T15:59:57.007706Z"
    },
    "papermill": {
     "duration": 0.010276,
     "end_time": "2025-05-15T15:59:57.009130",
     "exception": false,
     "start_time": "2025-05-15T15:59:56.998854",
     "status": "completed"
    },
    "slideshow": {
     "slide_type": ""
    },
    "tags": [
     "parameters"
    ]
   },
   "outputs": [],
   "source": [
    "CELL_TYPE = 'pDC'\n",
    "N_GENES: int = 20\n",
    "SEED = 'shap_studyID' #'disease_NOstudy' 'study_NOdisease' or 'int' or 'shap_studyID'\n",
    "TEST_SPLIT_IDX: int = 1 #[0,4]"
   ]
  },
  {
   "cell_type": "code",
   "execution_count": 2,
   "id": "bfc5dd64",
   "metadata": {
    "execution": {
     "iopub.execute_input": "2025-05-15T15:59:57.020194Z",
     "iopub.status.busy": "2025-05-15T15:59:57.019837Z",
     "iopub.status.idle": "2025-05-15T15:59:57.022037Z",
     "shell.execute_reply": "2025-05-15T15:59:57.021701Z"
    },
    "papermill": {
     "duration": 0.008643,
     "end_time": "2025-05-15T15:59:57.022963",
     "exception": false,
     "start_time": "2025-05-15T15:59:57.014320",
     "status": "completed"
    },
    "tags": [
     "injected-parameters"
    ]
   },
   "outputs": [],
   "source": [
    "# Parameters\n",
    "CELL_TYPE = \"Mono\"\n",
    "SEED = 10\n",
    "TEST_SPLIT_IDX = 0\n"
   ]
  },
  {
   "cell_type": "code",
   "execution_count": 3,
   "id": "20a75bac",
   "metadata": {
    "execution": {
     "iopub.execute_input": "2025-05-15T15:59:57.033474Z",
     "iopub.status.busy": "2025-05-15T15:59:57.033208Z",
     "iopub.status.idle": "2025-05-15T15:59:57.035835Z",
     "shell.execute_reply": "2025-05-15T15:59:57.035542Z"
    },
    "papermill": {
     "duration": 0.008931,
     "end_time": "2025-05-15T15:59:57.036709",
     "exception": false,
     "start_time": "2025-05-15T15:59:57.027778",
     "status": "completed"
    },
    "tags": []
   },
   "outputs": [],
   "source": [
    "N_SPLITS: int = 5\n",
    "N_TRIALS: int = 50"
   ]
  },
  {
   "cell_type": "code",
   "execution_count": 4,
   "id": "b41433d0",
   "metadata": {
    "execution": {
     "iopub.execute_input": "2025-05-15T15:59:57.048396Z",
     "iopub.status.busy": "2025-05-15T15:59:57.048079Z",
     "iopub.status.idle": "2025-05-15T15:59:59.376413Z",
     "shell.execute_reply": "2025-05-15T15:59:59.375943Z"
    },
    "papermill": {
     "duration": 2.336065,
     "end_time": "2025-05-15T15:59:59.377741",
     "exception": false,
     "start_time": "2025-05-15T15:59:57.041676",
     "status": "completed"
    },
    "tags": []
   },
   "outputs": [],
   "source": [
    "import os\n",
    "import sys\n",
    "from pyprojroot.here import here\n",
    "import pandas as pd\n",
    "import anndata as ad\n",
    "import numpy as np\n",
    "import math\n",
    "from sklearn.model_selection import StratifiedGroupKFold\n",
    "from sklearn.preprocessing import LabelEncoder\n",
    "from sklearn.metrics import f1_score\n",
    "import matplotlib.pyplot as plt\n",
    "import seaborn as sns\n",
    "from itertools import product\n",
    "from sklearn.metrics import balanced_accuracy_score, f1_score\n",
    "import optuna\n",
    "\n",
    "import joblib\n",
    "import pickle\n",
    "import datetime\n",
    "\n",
    "import collections\n",
    "\n",
    "import xgboost\n",
    "from sklearn.preprocessing import LabelEncoder\n",
    "\n",
    "import scipy.sparse as ssp\n",
    "import joblib\n",
    "\n",
    "from dotenv import load_dotenv"
   ]
  },
  {
   "cell_type": "code",
   "execution_count": 5,
   "id": "d0c4d776",
   "metadata": {
    "execution": {
     "iopub.execute_input": "2025-05-15T15:59:59.389846Z",
     "iopub.status.busy": "2025-05-15T15:59:59.389524Z",
     "iopub.status.idle": "2025-05-15T15:59:59.396374Z",
     "shell.execute_reply": "2025-05-15T15:59:59.396051Z"
    },
    "papermill": {
     "duration": 0.013821,
     "end_time": "2025-05-15T15:59:59.397234",
     "exception": false,
     "start_time": "2025-05-15T15:59:59.383413",
     "status": "completed"
    },
    "tags": []
   },
   "outputs": [
    {
     "data": {
      "text/plain": [
       "True"
      ]
     },
     "execution_count": 5,
     "metadata": {},
     "output_type": "execute_result"
    }
   ],
   "source": [
    "load_dotenv()"
   ]
  },
  {
   "cell_type": "markdown",
   "id": "58ebb13a",
   "metadata": {
    "papermill": {
     "duration": 0.005319,
     "end_time": "2025-05-15T15:59:59.407884",
     "exception": false,
     "start_time": "2025-05-15T15:59:59.402565",
     "status": "completed"
    },
    "tags": []
   },
   "source": [
    "# LOAD DATASET"
   ]
  },
  {
   "cell_type": "code",
   "execution_count": 6,
   "id": "a175ae7d",
   "metadata": {
    "execution": {
     "iopub.execute_input": "2025-05-15T15:59:59.418974Z",
     "iopub.status.busy": "2025-05-15T15:59:59.418536Z",
     "iopub.status.idle": "2025-05-15T16:00:00.577225Z",
     "shell.execute_reply": "2025-05-15T16:00:00.576770Z"
    },
    "papermill": {
     "duration": 1.165664,
     "end_time": "2025-05-15T16:00:00.578497",
     "exception": false,
     "start_time": "2025-05-15T15:59:59.412833",
     "status": "completed"
    },
    "tags": []
   },
   "outputs": [],
   "source": [
    "train_adata = ad.read_h5ad(\n",
    "    here(f'03_downstream_analysis/08_gene_importance/xgboost_external_validation/xgboost_TopN_genes/data_cellTypes/EXTERNAL_{CELL_TYPE}.filtered.log1p.h5ad')\n",
    ")"
   ]
  },
  {
   "cell_type": "code",
   "execution_count": 7,
   "id": "058578f0",
   "metadata": {
    "execution": {
     "iopub.execute_input": "2025-05-15T16:00:00.589721Z",
     "iopub.status.busy": "2025-05-15T16:00:00.589561Z",
     "iopub.status.idle": "2025-05-15T16:00:00.622474Z",
     "shell.execute_reply": "2025-05-15T16:00:00.622109Z"
    },
    "papermill": {
     "duration": 0.039535,
     "end_time": "2025-05-15T16:00:00.623365",
     "exception": false,
     "start_time": "2025-05-15T16:00:00.583830",
     "status": "completed"
    },
    "tags": []
   },
   "outputs": [
    {
     "name": "stdout",
     "output_type": "stream",
     "text": [
      "['ENSG00000119655' 'ENSG00000146592' 'ENSG00000231925' 'ENSG00000131981'\n",
      " 'ENSG00000239998' 'ENSG00000175482' 'ENSG00000229474' 'ENSG00000169896'\n",
      " 'ENSG00000242574' 'ENSG00000085514' 'ENSG00000120738' 'ENSG00000137100'\n",
      " 'ENSG00000136003' 'ENSG00000121552' 'ENSG00000110077' 'ENSG00000090339'\n",
      " 'ENSG00000145220' 'ENSG00000235568' 'ENSG00000106799' 'ENSG00000163660'\n",
      " 'ENSG00000121774' 'ENSG00000131724' 'ENSG00000159128' 'ENSG00000164674'\n",
      " 'ENSG00000135968' 'ENSG00000077150' 'ENSG00000134321' 'ENSG00000179921'\n",
      " 'ENSG00000090376' 'ENSG00000143543' 'ENSG00000157514' 'ENSG00000111275'\n",
      " 'ENSG00000109861' 'ENSG00000105221' 'ENSG00000160712' 'ENSG00000205220'\n",
      " 'ENSG00000101350' 'ENSG00000166710' 'ENSG00000130724' 'ENSG00000110324'\n",
      " 'ENSG00000015475' 'ENSG00000158869' 'ENSG00000170458' 'ENSG00000143933'\n",
      " 'ENSG00000161203' 'ENSG00000163221' 'ENSG00000135404' 'ENSG00000100300'\n",
      " 'ENSG00000169564' 'ENSG00000171608' 'ENSG00000132912' 'ENSG00000123358'\n",
      " 'ENSG00000137462' 'ENSG00000197632' 'ENSG00000092820' 'ENSG00000158050'\n",
      " 'ENSG00000100097' 'ENSG00000160255' 'ENSG00000169429' 'ENSG00000100365'\n",
      " 'ENSG00000203747' 'ENSG00000188313' 'ENSG00000184752' 'ENSG00000176788'\n",
      " 'ENSG00000175489' 'ENSG00000116171' 'ENSG00000089327' 'ENSG00000183019'\n",
      " 'ENSG00000065978' 'ENSG00000138678' 'ENSG00000115232' 'ENSG00000178719'\n",
      " 'ENSG00000185201' 'ENSG00000165029' 'ENSG00000175390' 'ENSG00000160075'\n",
      " 'ENSG00000135720' 'ENSG00000231389' 'ENSG00000112561' 'ENSG00000124762'\n",
      " 'ENSG00000185650' 'ENSG00000116815' 'ENSG00000125384' 'ENSG00000118508'\n",
      " 'ENSG00000179583' 'ENSG00000167705' 'ENSG00000110203' 'ENSG00000254087'\n",
      " 'ENSG00000106605' 'ENSG00000170296' 'ENSG00000177663' 'ENSG00000130522'\n",
      " 'ENSG00000175567' 'ENSG00000120889' 'ENSG00000204525' 'ENSG00000115875'\n",
      " 'ENSG00000105397' 'ENSG00000115145' 'ENSG00000100393' 'ENSG00000176986'\n",
      " 'ENSG00000060982' 'ENSG00000005844' 'ENSG00000090554' 'ENSG00000111716'\n",
      " 'ENSG00000277791' 'ENSG00000204482' 'ENSG00000172531' 'ENSG00000101695'\n",
      " 'ENSG00000135503' 'ENSG00000164308' 'ENSG00000168329' 'ENSG00000185215'\n",
      " 'ENSG00000169554' 'ENSG00000122862']\n"
     ]
    }
   ],
   "source": [
    "if SEED != 'all':\n",
    "    gene_subset = np.load(here(f'03_downstream_analysis/08_gene_importance/xgboost_external_validation/shap_gene_selection/gene_subsets_{N_GENES}/{CELL_TYPE}_{SEED}.npy'), allow_pickle=True)\n",
    "    train_adata = train_adata[:,gene_subset]\n",
    "    print(gene_subset)\n",
    "elif SEED == 'all':\n",
    "    print('Using all genes')\n",
    "else:\n",
    "    raise ValueError()"
   ]
  },
  {
   "cell_type": "code",
   "execution_count": 8,
   "id": "3b1af429",
   "metadata": {
    "execution": {
     "iopub.execute_input": "2025-05-15T16:00:00.634871Z",
     "iopub.status.busy": "2025-05-15T16:00:00.634514Z",
     "iopub.status.idle": "2025-05-15T16:00:00.637754Z",
     "shell.execute_reply": "2025-05-15T16:00:00.637452Z"
    },
    "papermill": {
     "duration": 0.009755,
     "end_time": "2025-05-15T16:00:00.638553",
     "exception": false,
     "start_time": "2025-05-15T16:00:00.628798",
     "status": "completed"
    },
    "tags": []
   },
   "outputs": [
    {
     "data": {
      "text/plain": [
       "(137435, 114)"
      ]
     },
     "execution_count": 8,
     "metadata": {},
     "output_type": "execute_result"
    }
   ],
   "source": [
    "train_adata.shape"
   ]
  },
  {
   "cell_type": "code",
   "execution_count": 9,
   "id": "c73111bf",
   "metadata": {
    "execution": {
     "iopub.execute_input": "2025-05-15T16:00:00.650638Z",
     "iopub.status.busy": "2025-05-15T16:00:00.650392Z",
     "iopub.status.idle": "2025-05-15T16:00:00.654607Z",
     "shell.execute_reply": "2025-05-15T16:00:00.654315Z"
    },
    "papermill": {
     "duration": 0.010746,
     "end_time": "2025-05-15T16:00:00.655414",
     "exception": false,
     "start_time": "2025-05-15T16:00:00.644668",
     "status": "completed"
    },
    "tags": []
   },
   "outputs": [
    {
     "data": {
      "text/plain": [
       "['RA', 'healthy', 'COVID', 'HIV', 'cirrhosis', 'CD', 'SLE', 'sepsis']\n",
       "Categories (8, object): ['CD', 'COVID', 'HIV', 'RA', 'SLE', 'cirrhosis', 'healthy', 'sepsis']"
      ]
     },
     "execution_count": 9,
     "metadata": {},
     "output_type": "execute_result"
    }
   ],
   "source": [
    "train_adata.obs.disease.unique()"
   ]
  },
  {
   "cell_type": "code",
   "execution_count": 10,
   "id": "5a7a3fbf",
   "metadata": {
    "execution": {
     "iopub.execute_input": "2025-05-15T16:00:00.666961Z",
     "iopub.status.busy": "2025-05-15T16:00:00.666566Z",
     "iopub.status.idle": "2025-05-15T16:00:00.670586Z",
     "shell.execute_reply": "2025-05-15T16:00:00.670299Z"
    },
    "papermill": {
     "duration": 0.010971,
     "end_time": "2025-05-15T16:00:00.671369",
     "exception": false,
     "start_time": "2025-05-15T16:00:00.660398",
     "status": "completed"
    },
    "tags": []
   },
   "outputs": [
    {
     "data": {
      "text/plain": [
       "['SCGT00val_I0364_T0', 'SCGT00val_I036028_T0', 'SCGT00val_I036024_T0', 'SCGT00val_I036023_T0', 'SCGT00val_I036019_T0', ..., '10XGenomics_10XHC2_T0', '10XGenomics_10XHC3_T0', '10XGenomics_10XHC5_T0', '10XGenomics_10XHC7_T0', '10XGenomics_10XHC8_T0']\n",
       "Length: 86\n",
       "Categories (86, object): ['10XGenomics_10XHC1_T0', '10XGenomics_10XHC2_T0', '10XGenomics_10XHC3_T0', '10XGenomics_10XHC4_T0', ..., 'Savage2021_BRISL6_T0', 'Savage2021_BRISL7_T0', 'Savage2021_PIDA_T0', 'Savage2021_PIDB_T0']"
      ]
     },
     "execution_count": 10,
     "metadata": {},
     "output_type": "execute_result"
    }
   ],
   "source": [
    "train_adata.obs.sampleID.unique()"
   ]
  },
  {
   "cell_type": "code",
   "execution_count": 11,
   "id": "dac389dd",
   "metadata": {
    "execution": {
     "iopub.execute_input": "2025-05-15T16:00:00.683112Z",
     "iopub.status.busy": "2025-05-15T16:00:00.682647Z",
     "iopub.status.idle": "2025-05-15T16:00:01.003377Z",
     "shell.execute_reply": "2025-05-15T16:00:01.002867Z"
    },
    "papermill": {
     "duration": 0.327733,
     "end_time": "2025-05-15T16:00:01.004675",
     "exception": false,
     "start_time": "2025-05-15T16:00:00.676942",
     "status": "completed"
    },
    "tags": []
   },
   "outputs": [],
   "source": [
    "all_idxs = np.arange(train_adata.obs.shape[0])\n",
    "left_out_splits = [s[1] for s in StratifiedGroupKFold(n_splits=N_SPLITS).split(all_idxs, train_adata.obs.disease, train_adata.obs.sampleID)]"
   ]
  },
  {
   "cell_type": "code",
   "execution_count": 12,
   "id": "5a89f414",
   "metadata": {
    "execution": {
     "iopub.execute_input": "2025-05-15T16:00:01.017155Z",
     "iopub.status.busy": "2025-05-15T16:00:01.016974Z",
     "iopub.status.idle": "2025-05-15T16:00:01.020881Z",
     "shell.execute_reply": "2025-05-15T16:00:01.020561Z"
    },
    "papermill": {
     "duration": 0.01092,
     "end_time": "2025-05-15T16:00:01.021846",
     "exception": false,
     "start_time": "2025-05-15T16:00:01.010926",
     "status": "completed"
    },
    "tags": []
   },
   "outputs": [
    {
     "data": {
      "text/plain": [
       "([2, 3, 4], 1, 0)"
      ]
     },
     "execution_count": 12,
     "metadata": {},
     "output_type": "execute_result"
    }
   ],
   "source": [
    "TRAIN_SPLIT_IDXS = [0,1,2,3,4]\n",
    "VAL_SPLIT_IDX = (TEST_SPLIT_IDX + 1) % 5\n",
    "TRAIN_SPLIT_IDXS.remove(TEST_SPLIT_IDX)\n",
    "TRAIN_SPLIT_IDXS.remove(VAL_SPLIT_IDX)\n",
    "TRAIN_SPLIT_IDXS, VAL_SPLIT_IDX, TEST_SPLIT_IDX"
   ]
  },
  {
   "cell_type": "code",
   "execution_count": 13,
   "id": "ad444735",
   "metadata": {
    "execution": {
     "iopub.execute_input": "2025-05-15T16:00:01.034215Z",
     "iopub.status.busy": "2025-05-15T16:00:01.033733Z",
     "iopub.status.idle": "2025-05-15T16:00:01.036271Z",
     "shell.execute_reply": "2025-05-15T16:00:01.035967Z"
    },
    "papermill": {
     "duration": 0.009458,
     "end_time": "2025-05-15T16:00:01.037085",
     "exception": false,
     "start_time": "2025-05-15T16:00:01.027627",
     "status": "completed"
    },
    "tags": []
   },
   "outputs": [],
   "source": [
    "train_idxs = np.concatenate([left_out_splits[idx] for idx in TRAIN_SPLIT_IDXS])\n",
    "val_idxs = left_out_splits[VAL_SPLIT_IDX]\n",
    "test_idxs = left_out_splits[TEST_SPLIT_IDX]"
   ]
  },
  {
   "cell_type": "markdown",
   "id": "e9964ba7",
   "metadata": {
    "papermill": {
     "duration": 0.005476,
     "end_time": "2025-05-15T16:00:01.048066",
     "exception": false,
     "start_time": "2025-05-15T16:00:01.042590",
     "status": "completed"
    },
    "tags": []
   },
   "source": [
    "### SUBSET DATASET INTO TRAIN/TEST/VAL SPLITS"
   ]
  },
  {
   "cell_type": "code",
   "execution_count": 14,
   "id": "6c8ad6a1",
   "metadata": {
    "execution": {
     "iopub.execute_input": "2025-05-15T16:00:01.059968Z",
     "iopub.status.busy": "2025-05-15T16:00:01.059545Z",
     "iopub.status.idle": "2025-05-15T16:00:01.517726Z",
     "shell.execute_reply": "2025-05-15T16:00:01.517348Z"
    },
    "papermill": {
     "duration": 0.465145,
     "end_time": "2025-05-15T16:00:01.518639",
     "exception": false,
     "start_time": "2025-05-15T16:00:01.053494",
     "status": "completed"
    },
    "tags": []
   },
   "outputs": [
    {
     "data": {
      "text/plain": [
       "((82534, 114), (27414, 114), (27487, 114))"
      ]
     },
     "execution_count": 14,
     "metadata": {},
     "output_type": "execute_result"
    }
   ],
   "source": [
    "X_train = train_adata.X[train_idxs]\n",
    "X_test = train_adata.X[test_idxs]\n",
    "X_val = train_adata.X[val_idxs]\n",
    "X_train.shape, X_test.shape, X_val.shape"
   ]
  },
  {
   "cell_type": "code",
   "execution_count": 15,
   "id": "4921d2e2",
   "metadata": {
    "execution": {
     "iopub.execute_input": "2025-05-15T16:00:01.532673Z",
     "iopub.status.busy": "2025-05-15T16:00:01.531957Z",
     "iopub.status.idle": "2025-05-15T16:00:01.547766Z",
     "shell.execute_reply": "2025-05-15T16:00:01.547394Z"
    },
    "papermill": {
     "duration": 0.024111,
     "end_time": "2025-05-15T16:00:01.548633",
     "exception": false,
     "start_time": "2025-05-15T16:00:01.524522",
     "status": "completed"
    },
    "tags": []
   },
   "outputs": [
    {
     "data": {
      "text/plain": [
       "((82534,), (27414,), (27487,))"
      ]
     },
     "execution_count": 15,
     "metadata": {},
     "output_type": "execute_result"
    }
   ],
   "source": [
    "y_train = train_adata.obs.iloc[train_idxs].disease.values.astype(str)\n",
    "y_test = train_adata.obs.iloc[test_idxs].disease.values.astype(str)\n",
    "y_val = train_adata.obs.iloc[val_idxs].disease.values.astype(str)\n",
    "y_train.shape, y_test.shape, y_val.shape"
   ]
  },
  {
   "cell_type": "code",
   "execution_count": 16,
   "id": "4433239b",
   "metadata": {
    "execution": {
     "iopub.execute_input": "2025-05-15T16:00:01.562144Z",
     "iopub.status.busy": "2025-05-15T16:00:01.561992Z",
     "iopub.status.idle": "2025-05-15T16:00:01.592059Z",
     "shell.execute_reply": "2025-05-15T16:00:01.591404Z"
    },
    "papermill": {
     "duration": 0.038608,
     "end_time": "2025-05-15T16:00:01.593035",
     "exception": false,
     "start_time": "2025-05-15T16:00:01.554427",
     "status": "completed"
    },
    "tags": []
   },
   "outputs": [],
   "source": [
    "lenc = LabelEncoder()\n",
    "y_train_enc = lenc.fit_transform(y_train)\n",
    "y_val_enc = lenc.transform(y_val)\n",
    "y_test_enc = lenc.transform(y_test)"
   ]
  },
  {
   "cell_type": "markdown",
   "id": "443551ce",
   "metadata": {
    "papermill": {
     "duration": 0.005828,
     "end_time": "2025-05-15T16:00:01.604799",
     "exception": false,
     "start_time": "2025-05-15T16:00:01.598971",
     "status": "completed"
    },
    "tags": []
   },
   "source": [
    "### GENERATE F1 "
   ]
  },
  {
   "cell_type": "code",
   "execution_count": 17,
   "id": "3bf9ac55",
   "metadata": {
    "execution": {
     "iopub.execute_input": "2025-05-15T16:00:01.617099Z",
     "iopub.status.busy": "2025-05-15T16:00:01.616936Z",
     "iopub.status.idle": "2025-05-15T16:00:01.620418Z",
     "shell.execute_reply": "2025-05-15T16:00:01.620089Z"
    },
    "papermill": {
     "duration": 0.010728,
     "end_time": "2025-05-15T16:00:01.621206",
     "exception": false,
     "start_time": "2025-05-15T16:00:01.610478",
     "status": "completed"
    },
    "tags": []
   },
   "outputs": [],
   "source": [
    "def custom_f1_score(y_true, y_pred):\n",
    "    return -f1_score(y_true, y_pred.argmax(1), average='weighted')"
   ]
  },
  {
   "cell_type": "code",
   "execution_count": 18,
   "id": "2f8e5c3a",
   "metadata": {
    "execution": {
     "iopub.execute_input": "2025-05-15T16:00:01.633247Z",
     "iopub.status.busy": "2025-05-15T16:00:01.632816Z",
     "iopub.status.idle": "2025-05-15T16:00:01.638575Z",
     "shell.execute_reply": "2025-05-15T16:00:01.638127Z"
    },
    "papermill": {
     "duration": 0.01292,
     "end_time": "2025-05-15T16:00:01.639524",
     "exception": false,
     "start_time": "2025-05-15T16:00:01.626604",
     "status": "completed"
    },
    "tags": []
   },
   "outputs": [],
   "source": [
    "eval_metric=custom_f1_score\n",
    "eval_metric_name='custom_f1_score'\n",
    "\n",
    "def objective(trial):\n",
    "    params = {\n",
    "        'n_estimators': 1500,\n",
    "        'max_depth': trial.suggest_int('max_depth', 3, 20),\n",
    "        'min_child_weight': trial.suggest_int('min_child_weight', 1, 250),\n",
    "        'subsample': trial.suggest_float('subsample', 0.1, 1.0),\n",
    "        'colsample_bynode': trial.suggest_float('colsample_bynode', 0.1, 1.0),\n",
    "        'learning_rate': trial.suggest_float('learning_rate', 1e-3, 5e-1, log=True),\n",
    "    }\n",
    "    pruning_callback = optuna.integration.XGBoostPruningCallback(trial, f'validation_0-{eval_metric_name}')\n",
    "    es_callback = xgboost.callback.EarlyStopping(20, min_delta=0.001)\n",
    "    xgb = xgboost.XGBClassifier(\n",
    "        eval_metric=eval_metric,\n",
    "        callbacks=[pruning_callback, es_callback],\n",
    "        n_jobs=5,\n",
    "        **params\n",
    "    )\n",
    "    xgb.fit(\n",
    "        X_train, \n",
    "        y_train_enc, \n",
    "        verbose=0,\n",
    "        eval_set=[(X_val, y_val_enc)],\n",
    "    )\n",
    "    trial.set_user_attr('best_iteration', xgb.best_iteration)\n",
    "\n",
    "    return xgb.best_score"
   ]
  },
  {
   "cell_type": "code",
   "execution_count": 19,
   "id": "99b80a42",
   "metadata": {
    "execution": {
     "iopub.execute_input": "2025-05-15T16:00:01.651882Z",
     "iopub.status.busy": "2025-05-15T16:00:01.651507Z",
     "iopub.status.idle": "2025-05-15T16:17:10.165295Z",
     "shell.execute_reply": "2025-05-15T16:17:10.164741Z"
    },
    "papermill": {
     "duration": 1028.521409,
     "end_time": "2025-05-15T16:17:10.166416",
     "exception": false,
     "start_time": "2025-05-15T16:00:01.645007",
     "status": "completed"
    },
    "scrolled": true,
    "tags": []
   },
   "outputs": [
    {
     "name": "stderr",
     "output_type": "stream",
     "text": [
      "[I 2025-05-15 18:00:01,654] A new study created in memory with name: no-name-353b7855-324c-4e9e-a464-5dd2887dd5a4\n"
     ]
    },
    {
     "name": "stderr",
     "output_type": "stream",
     "text": [
      "[I 2025-05-15 18:00:09,672] Trial 0 finished with value: -0.611256 and parameters: {'max_depth': 9, 'min_child_weight': 238, 'subsample': 0.7587945476302645, 'colsample_bynode': 0.6387926357773329, 'learning_rate': 0.0026368755339723046}. Best is trial 0 with value: -0.611256.\n"
     ]
    },
    {
     "name": "stderr",
     "output_type": "stream",
     "text": [
      "[I 2025-05-15 18:01:12,661] Trial 1 finished with value: -0.709763 and parameters: {'max_depth': 5, 'min_child_weight': 15, 'subsample': 0.8795585311974417, 'colsample_bynode': 0.6410035105688879, 'learning_rate': 0.08148293210105287}. Best is trial 1 with value: -0.709763.\n"
     ]
    },
    {
     "name": "stderr",
     "output_type": "stream",
     "text": [
      "[I 2025-05-15 18:01:17,801] Trial 2 finished with value: -0.576287 and parameters: {'max_depth': 3, 'min_child_weight': 243, 'subsample': 0.8491983767203796, 'colsample_bynode': 0.29110519961044856, 'learning_rate': 0.003095566460242371}. Best is trial 1 with value: -0.709763.\n"
     ]
    },
    {
     "name": "stderr",
     "output_type": "stream",
     "text": [
      "[I 2025-05-15 18:01:40,503] Trial 3 finished with value: -0.626638 and parameters: {'max_depth': 6, 'min_child_weight': 77, 'subsample': 0.5722807884690141, 'colsample_bynode': 0.48875051677790415, 'learning_rate': 0.006109683510122491}. Best is trial 1 with value: -0.709763.\n"
     ]
    },
    {
     "name": "stderr",
     "output_type": "stream",
     "text": [
      "[I 2025-05-15 18:04:15,927] Trial 4 finished with value: -0.701818 and parameters: {'max_depth': 14, 'min_child_weight': 35, 'subsample': 0.3629301836816964, 'colsample_bynode': 0.4297256589643226, 'learning_rate': 0.01701841881702917}. Best is trial 1 with value: -0.709763.\n"
     ]
    },
    {
     "name": "stderr",
     "output_type": "stream",
     "text": [
      "[I 2025-05-15 18:04:27,341] Trial 5 pruned. Trial was pruned at iteration 27.\n"
     ]
    },
    {
     "name": "stderr",
     "output_type": "stream",
     "text": [
      "[I 2025-05-15 18:04:28,140] Trial 6 pruned. Trial was pruned at iteration 0.\n"
     ]
    },
    {
     "name": "stderr",
     "output_type": "stream",
     "text": [
      "[I 2025-05-15 18:04:28,899] Trial 7 pruned. Trial was pruned at iteration 0.\n"
     ]
    },
    {
     "name": "stderr",
     "output_type": "stream",
     "text": [
      "[I 2025-05-15 18:04:29,595] Trial 8 pruned. Trial was pruned at iteration 0.\n"
     ]
    },
    {
     "name": "stderr",
     "output_type": "stream",
     "text": [
      "[I 2025-05-15 18:04:39,839] Trial 9 pruned. Trial was pruned at iteration 27.\n"
     ]
    },
    {
     "name": "stderr",
     "output_type": "stream",
     "text": [
      "[I 2025-05-15 18:05:39,094] Trial 10 finished with value: -0.708408 and parameters: {'max_depth': 9, 'min_child_weight': 2, 'subsample': 0.9725833997090791, 'colsample_bynode': 0.11616568805333755, 'learning_rate': 0.17780618353487967}. Best is trial 1 with value: -0.709763.\n"
     ]
    },
    {
     "name": "stderr",
     "output_type": "stream",
     "text": [
      "[I 2025-05-15 18:06:35,557] Trial 11 finished with value: -0.704683 and parameters: {'max_depth': 9, 'min_child_weight': 4, 'subsample': 0.9818290990185045, 'colsample_bynode': 0.17702656156719, 'learning_rate': 0.11568531411766632}. Best is trial 1 with value: -0.709763.\n"
     ]
    },
    {
     "name": "stderr",
     "output_type": "stream",
     "text": [
      "[I 2025-05-15 18:07:31,801] Trial 12 pruned. Trial was pruned at iteration 142.\n"
     ]
    },
    {
     "name": "stderr",
     "output_type": "stream",
     "text": [
      "[I 2025-05-15 18:07:32,626] Trial 13 pruned. Trial was pruned at iteration 0.\n"
     ]
    },
    {
     "name": "stderr",
     "output_type": "stream",
     "text": [
      "[I 2025-05-15 18:08:16,778] Trial 14 finished with value: -0.722238 and parameters: {'max_depth': 11, 'min_child_weight': 132, 'subsample': 0.8756857866758896, 'colsample_bynode': 0.37234427067556525, 'learning_rate': 0.33580116263734355}. Best is trial 14 with value: -0.722238.\n"
     ]
    },
    {
     "name": "stderr",
     "output_type": "stream",
     "text": [
      "[I 2025-05-15 18:08:17,588] Trial 15 pruned. Trial was pruned at iteration 0.\n"
     ]
    },
    {
     "name": "stderr",
     "output_type": "stream",
     "text": [
      "[I 2025-05-15 18:08:18,332] Trial 16 pruned. Trial was pruned at iteration 0.\n"
     ]
    },
    {
     "name": "stderr",
     "output_type": "stream",
     "text": [
      "[I 2025-05-15 18:08:28,539] Trial 17 pruned. Trial was pruned at iteration 27.\n"
     ]
    },
    {
     "name": "stderr",
     "output_type": "stream",
     "text": [
      "[I 2025-05-15 18:08:29,353] Trial 18 pruned. Trial was pruned at iteration 0.\n"
     ]
    },
    {
     "name": "stderr",
     "output_type": "stream",
     "text": [
      "[I 2025-05-15 18:08:30,124] Trial 19 pruned. Trial was pruned at iteration 0.\n"
     ]
    },
    {
     "name": "stderr",
     "output_type": "stream",
     "text": [
      "[I 2025-05-15 18:09:11,036] Trial 20 finished with value: -0.720058 and parameters: {'max_depth': 16, 'min_child_weight': 97, 'subsample': 0.8748387796448982, 'colsample_bynode': 0.7126227165401009, 'learning_rate': 0.2221537505158567}. Best is trial 14 with value: -0.722238.\n"
     ]
    },
    {
     "name": "stderr",
     "output_type": "stream",
     "text": [
      "[I 2025-05-15 18:09:45,391] Trial 21 finished with value: -0.718034 and parameters: {'max_depth': 17, 'min_child_weight': 102, 'subsample': 0.8524655332992119, 'colsample_bynode': 0.709201395816767, 'learning_rate': 0.21785745115509195}. Best is trial 14 with value: -0.722238.\n"
     ]
    },
    {
     "name": "stderr",
     "output_type": "stream",
     "text": [
      "[I 2025-05-15 18:10:15,962] Trial 22 finished with value: -0.71926 and parameters: {'max_depth': 17, 'min_child_weight': 98, 'subsample': 0.8260814509041043, 'colsample_bynode': 0.7473415461352028, 'learning_rate': 0.2588030054182303}. Best is trial 14 with value: -0.722238.\n"
     ]
    },
    {
     "name": "stderr",
     "output_type": "stream",
     "text": [
      "[I 2025-05-15 18:10:45,716] Trial 23 finished with value: -0.717628 and parameters: {'max_depth': 20, 'min_child_weight': 147, 'subsample': 0.7869809687876267, 'colsample_bynode': 0.8162896992417841, 'learning_rate': 0.31030372320086513}. Best is trial 14 with value: -0.722238.\n"
     ]
    },
    {
     "name": "stderr",
     "output_type": "stream",
     "text": [
      "[I 2025-05-15 18:10:56,590] Trial 24 pruned. Trial was pruned at iteration 27.\n"
     ]
    },
    {
     "name": "stderr",
     "output_type": "stream",
     "text": [
      "[I 2025-05-15 18:10:57,391] Trial 25 pruned. Trial was pruned at iteration 0.\n"
     ]
    },
    {
     "name": "stderr",
     "output_type": "stream",
     "text": [
      "[I 2025-05-15 18:10:58,224] Trial 26 pruned. Trial was pruned at iteration 0.\n"
     ]
    },
    {
     "name": "stderr",
     "output_type": "stream",
     "text": [
      "[I 2025-05-15 18:11:06,821] Trial 27 pruned. Trial was pruned at iteration 21.\n"
     ]
    },
    {
     "name": "stderr",
     "output_type": "stream",
     "text": [
      "[I 2025-05-15 18:11:07,684] Trial 28 pruned. Trial was pruned at iteration 0.\n"
     ]
    },
    {
     "name": "stderr",
     "output_type": "stream",
     "text": [
      "[I 2025-05-15 18:11:08,535] Trial 29 pruned. Trial was pruned at iteration 0.\n"
     ]
    },
    {
     "name": "stderr",
     "output_type": "stream",
     "text": [
      "[I 2025-05-15 18:11:09,351] Trial 30 pruned. Trial was pruned at iteration 0.\n"
     ]
    },
    {
     "name": "stderr",
     "output_type": "stream",
     "text": [
      "[I 2025-05-15 18:11:49,911] Trial 31 finished with value: -0.720912 and parameters: {'max_depth': 18, 'min_child_weight': 96, 'subsample': 0.9039070990091349, 'colsample_bynode': 0.692910796961594, 'learning_rate': 0.22174455774244475}. Best is trial 14 with value: -0.722238.\n"
     ]
    },
    {
     "name": "stderr",
     "output_type": "stream",
     "text": [
      "[I 2025-05-15 18:12:22,945] Trial 32 finished with value: -0.721362 and parameters: {'max_depth': 19, 'min_child_weight': 92, 'subsample': 0.9393903161689398, 'colsample_bynode': 0.6560003608562253, 'learning_rate': 0.3049710145985505}. Best is trial 14 with value: -0.722238.\n"
     ]
    },
    {
     "name": "stderr",
     "output_type": "stream",
     "text": [
      "[I 2025-05-15 18:12:52,340] Trial 33 finished with value: -0.721393 and parameters: {'max_depth': 19, 'min_child_weight': 59, 'subsample': 0.9220705001958289, 'colsample_bynode': 0.634548519275616, 'learning_rate': 0.49247351060698075}. Best is trial 14 with value: -0.722238.\n"
     ]
    },
    {
     "name": "stderr",
     "output_type": "stream",
     "text": [
      "[I 2025-05-15 18:13:24,822] Trial 34 finished with value: -0.723022 and parameters: {'max_depth': 19, 'min_child_weight': 64, 'subsample': 0.9227739376296141, 'colsample_bynode': 0.6122241362678785, 'learning_rate': 0.4746364123004451}. Best is trial 34 with value: -0.723022.\n"
     ]
    },
    {
     "name": "stderr",
     "output_type": "stream",
     "text": [
      "[I 2025-05-15 18:13:51,418] Trial 35 finished with value: -0.721849 and parameters: {'max_depth': 19, 'min_child_weight': 58, 'subsample': 0.940897447129998, 'colsample_bynode': 0.6376432331552988, 'learning_rate': 0.49058590177169004}. Best is trial 34 with value: -0.723022.\n"
     ]
    },
    {
     "name": "stderr",
     "output_type": "stream",
     "text": [
      "[I 2025-05-15 18:14:18,979] Trial 36 finished with value: -0.721615 and parameters: {'max_depth': 19, 'min_child_weight': 60, 'subsample': 0.9083964771661374, 'colsample_bynode': 0.5928556933472215, 'learning_rate': 0.4794577128398497}. Best is trial 34 with value: -0.723022.\n"
     ]
    },
    {
     "name": "stderr",
     "output_type": "stream",
     "text": [
      "[I 2025-05-15 18:14:53,995] Trial 37 finished with value: -0.718644 and parameters: {'max_depth': 20, 'min_child_weight': 30, 'subsample': 0.9798283295737001, 'colsample_bynode': 0.4161507581982826, 'learning_rate': 0.3531382534840938}. Best is trial 34 with value: -0.723022.\n"
     ]
    },
    {
     "name": "stderr",
     "output_type": "stream",
     "text": [
      "[I 2025-05-15 18:14:54,882] Trial 38 pruned. Trial was pruned at iteration 0.\n"
     ]
    },
    {
     "name": "stderr",
     "output_type": "stream",
     "text": [
      "[I 2025-05-15 18:14:59,143] Trial 39 pruned. Trial was pruned at iteration 7.\n"
     ]
    },
    {
     "name": "stderr",
     "output_type": "stream",
     "text": [
      "[I 2025-05-15 18:15:03,197] Trial 40 pruned. Trial was pruned at iteration 7.\n"
     ]
    },
    {
     "name": "stderr",
     "output_type": "stream",
     "text": [
      "[I 2025-05-15 18:15:29,645] Trial 41 finished with value: -0.72219 and parameters: {'max_depth': 19, 'min_child_weight': 66, 'subsample': 0.9306237681828671, 'colsample_bynode': 0.630525566693152, 'learning_rate': 0.480017729532331}. Best is trial 34 with value: -0.723022.\n"
     ]
    },
    {
     "name": "stderr",
     "output_type": "stream",
     "text": [
      "[I 2025-05-15 18:15:56,505] Trial 42 finished with value: -0.71838 and parameters: {'max_depth': 19, 'min_child_weight': 53, 'subsample': 0.8816559059248327, 'colsample_bynode': 0.5863630216449776, 'learning_rate': 0.34320976591354385}. Best is trial 34 with value: -0.723022.\n"
     ]
    },
    {
     "name": "stderr",
     "output_type": "stream",
     "text": [
      "[I 2025-05-15 18:15:57,377] Trial 43 pruned. Trial was pruned at iteration 0.\n"
     ]
    },
    {
     "name": "stderr",
     "output_type": "stream",
     "text": [
      "[I 2025-05-15 18:16:32,646] Trial 44 finished with value: -0.719932 and parameters: {'max_depth': 20, 'min_child_weight': 24, 'subsample': 0.9480833941588659, 'colsample_bynode': 0.6252194747408271, 'learning_rate': 0.48593610898261175}. Best is trial 34 with value: -0.723022.\n"
     ]
    },
    {
     "name": "stderr",
     "output_type": "stream",
     "text": [
      "[I 2025-05-15 18:16:34,719] Trial 45 pruned. Trial was pruned at iteration 3.\n"
     ]
    },
    {
     "name": "stderr",
     "output_type": "stream",
     "text": [
      "[I 2025-05-15 18:17:07,233] Trial 46 finished with value: -0.723273 and parameters: {'max_depth': 8, 'min_child_weight': 70, 'subsample': 0.9525995067333913, 'colsample_bynode': 0.5605077834778656, 'learning_rate': 0.34138978914294765}. Best is trial 46 with value: -0.723273.\n"
     ]
    },
    {
     "name": "stderr",
     "output_type": "stream",
     "text": [
      "[I 2025-05-15 18:17:08,651] Trial 47 pruned. Trial was pruned at iteration 2.\n"
     ]
    },
    {
     "name": "stderr",
     "output_type": "stream",
     "text": [
      "[I 2025-05-15 18:17:09,398] Trial 48 pruned. Trial was pruned at iteration 0.\n"
     ]
    },
    {
     "name": "stderr",
     "output_type": "stream",
     "text": [
      "[I 2025-05-15 18:17:10,081] Trial 49 pruned. Trial was pruned at iteration 0.\n"
     ]
    }
   ],
   "source": [
    "sampler = optuna.samplers.TPESampler(seed=42)\n",
    "study = optuna.create_study(direction='minimize', sampler=sampler)\n",
    "study.optimize(objective, n_trials=N_TRIALS, gc_after_trial=True)"
   ]
  },
  {
   "cell_type": "code",
   "execution_count": 20,
   "id": "6e2923f6",
   "metadata": {
    "execution": {
     "iopub.execute_input": "2025-05-15T16:17:10.185257Z",
     "iopub.status.busy": "2025-05-15T16:17:10.184963Z",
     "iopub.status.idle": "2025-05-15T16:17:10.215803Z",
     "shell.execute_reply": "2025-05-15T16:17:10.215263Z"
    },
    "papermill": {
     "duration": 0.040909,
     "end_time": "2025-05-15T16:17:10.216842",
     "exception": false,
     "start_time": "2025-05-15T16:17:10.175933",
     "status": "completed"
    },
    "tags": []
   },
   "outputs": [
    {
     "data": {
      "text/plain": [
       "['/scratch_isilon/groups/singlecell/shared/projects/Inflammation-PBMCs-Atlas/03_downstream_analysis/08_gene_importance/xgboost_external_validation/xgboost_TopN_genes/results_20/study/Mono_10_0_xgboost.pkl']"
      ]
     },
     "execution_count": 20,
     "metadata": {},
     "output_type": "execute_result"
    }
   ],
   "source": [
    "out_dir = here(f'03_downstream_analysis/08_gene_importance/xgboost_external_validation/xgboost_TopN_genes/results_{N_GENES}/study')\n",
    "\n",
    "if not os.path.exists(out_dir):\n",
    "    os.makedirs(out_dir)\n",
    "    \n",
    "joblib.dump(study,os.path.join(out_dir, f'{CELL_TYPE}_{SEED}_{TEST_SPLIT_IDX}_xgboost.pkl'))"
   ]
  },
  {
   "cell_type": "code",
   "execution_count": 21,
   "id": "5993e02f",
   "metadata": {
    "execution": {
     "iopub.execute_input": "2025-05-15T16:17:10.236567Z",
     "iopub.status.busy": "2025-05-15T16:17:10.236211Z",
     "iopub.status.idle": "2025-05-15T16:19:04.177177Z",
     "shell.execute_reply": "2025-05-15T16:19:04.176742Z"
    },
    "papermill": {
     "duration": 113.963008,
     "end_time": "2025-05-15T16:19:04.188961",
     "exception": false,
     "start_time": "2025-05-15T16:17:10.225953",
     "status": "completed"
    },
    "tags": []
   },
   "outputs": [
    {
     "data": {
      "text/html": [
       "<style>#sk-container-id-1 {\n",
       "  /* Definition of color scheme common for light and dark mode */\n",
       "  --sklearn-color-text: black;\n",
       "  --sklearn-color-line: gray;\n",
       "  /* Definition of color scheme for unfitted estimators */\n",
       "  --sklearn-color-unfitted-level-0: #fff5e6;\n",
       "  --sklearn-color-unfitted-level-1: #f6e4d2;\n",
       "  --sklearn-color-unfitted-level-2: #ffe0b3;\n",
       "  --sklearn-color-unfitted-level-3: chocolate;\n",
       "  /* Definition of color scheme for fitted estimators */\n",
       "  --sklearn-color-fitted-level-0: #f0f8ff;\n",
       "  --sklearn-color-fitted-level-1: #d4ebff;\n",
       "  --sklearn-color-fitted-level-2: #b3dbfd;\n",
       "  --sklearn-color-fitted-level-3: cornflowerblue;\n",
       "\n",
       "  /* Specific color for light theme */\n",
       "  --sklearn-color-text-on-default-background: var(--sg-text-color, var(--theme-code-foreground, var(--jp-content-font-color1, black)));\n",
       "  --sklearn-color-background: var(--sg-background-color, var(--theme-background, var(--jp-layout-color0, white)));\n",
       "  --sklearn-color-border-box: var(--sg-text-color, var(--theme-code-foreground, var(--jp-content-font-color1, black)));\n",
       "  --sklearn-color-icon: #696969;\n",
       "\n",
       "  @media (prefers-color-scheme: dark) {\n",
       "    /* Redefinition of color scheme for dark theme */\n",
       "    --sklearn-color-text-on-default-background: var(--sg-text-color, var(--theme-code-foreground, var(--jp-content-font-color1, white)));\n",
       "    --sklearn-color-background: var(--sg-background-color, var(--theme-background, var(--jp-layout-color0, #111)));\n",
       "    --sklearn-color-border-box: var(--sg-text-color, var(--theme-code-foreground, var(--jp-content-font-color1, white)));\n",
       "    --sklearn-color-icon: #878787;\n",
       "  }\n",
       "}\n",
       "\n",
       "#sk-container-id-1 {\n",
       "  color: var(--sklearn-color-text);\n",
       "}\n",
       "\n",
       "#sk-container-id-1 pre {\n",
       "  padding: 0;\n",
       "}\n",
       "\n",
       "#sk-container-id-1 input.sk-hidden--visually {\n",
       "  border: 0;\n",
       "  clip: rect(1px 1px 1px 1px);\n",
       "  clip: rect(1px, 1px, 1px, 1px);\n",
       "  height: 1px;\n",
       "  margin: -1px;\n",
       "  overflow: hidden;\n",
       "  padding: 0;\n",
       "  position: absolute;\n",
       "  width: 1px;\n",
       "}\n",
       "\n",
       "#sk-container-id-1 div.sk-dashed-wrapped {\n",
       "  border: 1px dashed var(--sklearn-color-line);\n",
       "  margin: 0 0.4em 0.5em 0.4em;\n",
       "  box-sizing: border-box;\n",
       "  padding-bottom: 0.4em;\n",
       "  background-color: var(--sklearn-color-background);\n",
       "}\n",
       "\n",
       "#sk-container-id-1 div.sk-container {\n",
       "  /* jupyter's `normalize.less` sets `[hidden] { display: none; }`\n",
       "     but bootstrap.min.css set `[hidden] { display: none !important; }`\n",
       "     so we also need the `!important` here to be able to override the\n",
       "     default hidden behavior on the sphinx rendered scikit-learn.org.\n",
       "     See: https://github.com/scikit-learn/scikit-learn/issues/21755 */\n",
       "  display: inline-block !important;\n",
       "  position: relative;\n",
       "}\n",
       "\n",
       "#sk-container-id-1 div.sk-text-repr-fallback {\n",
       "  display: none;\n",
       "}\n",
       "\n",
       "div.sk-parallel-item,\n",
       "div.sk-serial,\n",
       "div.sk-item {\n",
       "  /* draw centered vertical line to link estimators */\n",
       "  background-image: linear-gradient(var(--sklearn-color-text-on-default-background), var(--sklearn-color-text-on-default-background));\n",
       "  background-size: 2px 100%;\n",
       "  background-repeat: no-repeat;\n",
       "  background-position: center center;\n",
       "}\n",
       "\n",
       "/* Parallel-specific style estimator block */\n",
       "\n",
       "#sk-container-id-1 div.sk-parallel-item::after {\n",
       "  content: \"\";\n",
       "  width: 100%;\n",
       "  border-bottom: 2px solid var(--sklearn-color-text-on-default-background);\n",
       "  flex-grow: 1;\n",
       "}\n",
       "\n",
       "#sk-container-id-1 div.sk-parallel {\n",
       "  display: flex;\n",
       "  align-items: stretch;\n",
       "  justify-content: center;\n",
       "  background-color: var(--sklearn-color-background);\n",
       "  position: relative;\n",
       "}\n",
       "\n",
       "#sk-container-id-1 div.sk-parallel-item {\n",
       "  display: flex;\n",
       "  flex-direction: column;\n",
       "}\n",
       "\n",
       "#sk-container-id-1 div.sk-parallel-item:first-child::after {\n",
       "  align-self: flex-end;\n",
       "  width: 50%;\n",
       "}\n",
       "\n",
       "#sk-container-id-1 div.sk-parallel-item:last-child::after {\n",
       "  align-self: flex-start;\n",
       "  width: 50%;\n",
       "}\n",
       "\n",
       "#sk-container-id-1 div.sk-parallel-item:only-child::after {\n",
       "  width: 0;\n",
       "}\n",
       "\n",
       "/* Serial-specific style estimator block */\n",
       "\n",
       "#sk-container-id-1 div.sk-serial {\n",
       "  display: flex;\n",
       "  flex-direction: column;\n",
       "  align-items: center;\n",
       "  background-color: var(--sklearn-color-background);\n",
       "  padding-right: 1em;\n",
       "  padding-left: 1em;\n",
       "}\n",
       "\n",
       "\n",
       "/* Toggleable style: style used for estimator/Pipeline/ColumnTransformer box that is\n",
       "clickable and can be expanded/collapsed.\n",
       "- Pipeline and ColumnTransformer use this feature and define the default style\n",
       "- Estimators will overwrite some part of the style using the `sk-estimator` class\n",
       "*/\n",
       "\n",
       "/* Pipeline and ColumnTransformer style (default) */\n",
       "\n",
       "#sk-container-id-1 div.sk-toggleable {\n",
       "  /* Default theme specific background. It is overwritten whether we have a\n",
       "  specific estimator or a Pipeline/ColumnTransformer */\n",
       "  background-color: var(--sklearn-color-background);\n",
       "}\n",
       "\n",
       "/* Toggleable label */\n",
       "#sk-container-id-1 label.sk-toggleable__label {\n",
       "  cursor: pointer;\n",
       "  display: block;\n",
       "  width: 100%;\n",
       "  margin-bottom: 0;\n",
       "  padding: 0.5em;\n",
       "  box-sizing: border-box;\n",
       "  text-align: center;\n",
       "}\n",
       "\n",
       "#sk-container-id-1 label.sk-toggleable__label-arrow:before {\n",
       "  /* Arrow on the left of the label */\n",
       "  content: \"▸\";\n",
       "  float: left;\n",
       "  margin-right: 0.25em;\n",
       "  color: var(--sklearn-color-icon);\n",
       "}\n",
       "\n",
       "#sk-container-id-1 label.sk-toggleable__label-arrow:hover:before {\n",
       "  color: var(--sklearn-color-text);\n",
       "}\n",
       "\n",
       "/* Toggleable content - dropdown */\n",
       "\n",
       "#sk-container-id-1 div.sk-toggleable__content {\n",
       "  max-height: 0;\n",
       "  max-width: 0;\n",
       "  overflow: hidden;\n",
       "  text-align: left;\n",
       "  /* unfitted */\n",
       "  background-color: var(--sklearn-color-unfitted-level-0);\n",
       "}\n",
       "\n",
       "#sk-container-id-1 div.sk-toggleable__content.fitted {\n",
       "  /* fitted */\n",
       "  background-color: var(--sklearn-color-fitted-level-0);\n",
       "}\n",
       "\n",
       "#sk-container-id-1 div.sk-toggleable__content pre {\n",
       "  margin: 0.2em;\n",
       "  border-radius: 0.25em;\n",
       "  color: var(--sklearn-color-text);\n",
       "  /* unfitted */\n",
       "  background-color: var(--sklearn-color-unfitted-level-0);\n",
       "}\n",
       "\n",
       "#sk-container-id-1 div.sk-toggleable__content.fitted pre {\n",
       "  /* unfitted */\n",
       "  background-color: var(--sklearn-color-fitted-level-0);\n",
       "}\n",
       "\n",
       "#sk-container-id-1 input.sk-toggleable__control:checked~div.sk-toggleable__content {\n",
       "  /* Expand drop-down */\n",
       "  max-height: 200px;\n",
       "  max-width: 100%;\n",
       "  overflow: auto;\n",
       "}\n",
       "\n",
       "#sk-container-id-1 input.sk-toggleable__control:checked~label.sk-toggleable__label-arrow:before {\n",
       "  content: \"▾\";\n",
       "}\n",
       "\n",
       "/* Pipeline/ColumnTransformer-specific style */\n",
       "\n",
       "#sk-container-id-1 div.sk-label input.sk-toggleable__control:checked~label.sk-toggleable__label {\n",
       "  color: var(--sklearn-color-text);\n",
       "  background-color: var(--sklearn-color-unfitted-level-2);\n",
       "}\n",
       "\n",
       "#sk-container-id-1 div.sk-label.fitted input.sk-toggleable__control:checked~label.sk-toggleable__label {\n",
       "  background-color: var(--sklearn-color-fitted-level-2);\n",
       "}\n",
       "\n",
       "/* Estimator-specific style */\n",
       "\n",
       "/* Colorize estimator box */\n",
       "#sk-container-id-1 div.sk-estimator input.sk-toggleable__control:checked~label.sk-toggleable__label {\n",
       "  /* unfitted */\n",
       "  background-color: var(--sklearn-color-unfitted-level-2);\n",
       "}\n",
       "\n",
       "#sk-container-id-1 div.sk-estimator.fitted input.sk-toggleable__control:checked~label.sk-toggleable__label {\n",
       "  /* fitted */\n",
       "  background-color: var(--sklearn-color-fitted-level-2);\n",
       "}\n",
       "\n",
       "#sk-container-id-1 div.sk-label label.sk-toggleable__label,\n",
       "#sk-container-id-1 div.sk-label label {\n",
       "  /* The background is the default theme color */\n",
       "  color: var(--sklearn-color-text-on-default-background);\n",
       "}\n",
       "\n",
       "/* On hover, darken the color of the background */\n",
       "#sk-container-id-1 div.sk-label:hover label.sk-toggleable__label {\n",
       "  color: var(--sklearn-color-text);\n",
       "  background-color: var(--sklearn-color-unfitted-level-2);\n",
       "}\n",
       "\n",
       "/* Label box, darken color on hover, fitted */\n",
       "#sk-container-id-1 div.sk-label.fitted:hover label.sk-toggleable__label.fitted {\n",
       "  color: var(--sklearn-color-text);\n",
       "  background-color: var(--sklearn-color-fitted-level-2);\n",
       "}\n",
       "\n",
       "/* Estimator label */\n",
       "\n",
       "#sk-container-id-1 div.sk-label label {\n",
       "  font-family: monospace;\n",
       "  font-weight: bold;\n",
       "  display: inline-block;\n",
       "  line-height: 1.2em;\n",
       "}\n",
       "\n",
       "#sk-container-id-1 div.sk-label-container {\n",
       "  text-align: center;\n",
       "}\n",
       "\n",
       "/* Estimator-specific */\n",
       "#sk-container-id-1 div.sk-estimator {\n",
       "  font-family: monospace;\n",
       "  border: 1px dotted var(--sklearn-color-border-box);\n",
       "  border-radius: 0.25em;\n",
       "  box-sizing: border-box;\n",
       "  margin-bottom: 0.5em;\n",
       "  /* unfitted */\n",
       "  background-color: var(--sklearn-color-unfitted-level-0);\n",
       "}\n",
       "\n",
       "#sk-container-id-1 div.sk-estimator.fitted {\n",
       "  /* fitted */\n",
       "  background-color: var(--sklearn-color-fitted-level-0);\n",
       "}\n",
       "\n",
       "/* on hover */\n",
       "#sk-container-id-1 div.sk-estimator:hover {\n",
       "  /* unfitted */\n",
       "  background-color: var(--sklearn-color-unfitted-level-2);\n",
       "}\n",
       "\n",
       "#sk-container-id-1 div.sk-estimator.fitted:hover {\n",
       "  /* fitted */\n",
       "  background-color: var(--sklearn-color-fitted-level-2);\n",
       "}\n",
       "\n",
       "/* Specification for estimator info (e.g. \"i\" and \"?\") */\n",
       "\n",
       "/* Common style for \"i\" and \"?\" */\n",
       "\n",
       ".sk-estimator-doc-link,\n",
       "a:link.sk-estimator-doc-link,\n",
       "a:visited.sk-estimator-doc-link {\n",
       "  float: right;\n",
       "  font-size: smaller;\n",
       "  line-height: 1em;\n",
       "  font-family: monospace;\n",
       "  background-color: var(--sklearn-color-background);\n",
       "  border-radius: 1em;\n",
       "  height: 1em;\n",
       "  width: 1em;\n",
       "  text-decoration: none !important;\n",
       "  margin-left: 1ex;\n",
       "  /* unfitted */\n",
       "  border: var(--sklearn-color-unfitted-level-1) 1pt solid;\n",
       "  color: var(--sklearn-color-unfitted-level-1);\n",
       "}\n",
       "\n",
       ".sk-estimator-doc-link.fitted,\n",
       "a:link.sk-estimator-doc-link.fitted,\n",
       "a:visited.sk-estimator-doc-link.fitted {\n",
       "  /* fitted */\n",
       "  border: var(--sklearn-color-fitted-level-1) 1pt solid;\n",
       "  color: var(--sklearn-color-fitted-level-1);\n",
       "}\n",
       "\n",
       "/* On hover */\n",
       "div.sk-estimator:hover .sk-estimator-doc-link:hover,\n",
       ".sk-estimator-doc-link:hover,\n",
       "div.sk-label-container:hover .sk-estimator-doc-link:hover,\n",
       ".sk-estimator-doc-link:hover {\n",
       "  /* unfitted */\n",
       "  background-color: var(--sklearn-color-unfitted-level-3);\n",
       "  color: var(--sklearn-color-background);\n",
       "  text-decoration: none;\n",
       "}\n",
       "\n",
       "div.sk-estimator.fitted:hover .sk-estimator-doc-link.fitted:hover,\n",
       ".sk-estimator-doc-link.fitted:hover,\n",
       "div.sk-label-container:hover .sk-estimator-doc-link.fitted:hover,\n",
       ".sk-estimator-doc-link.fitted:hover {\n",
       "  /* fitted */\n",
       "  background-color: var(--sklearn-color-fitted-level-3);\n",
       "  color: var(--sklearn-color-background);\n",
       "  text-decoration: none;\n",
       "}\n",
       "\n",
       "/* Span, style for the box shown on hovering the info icon */\n",
       ".sk-estimator-doc-link span {\n",
       "  display: none;\n",
       "  z-index: 9999;\n",
       "  position: relative;\n",
       "  font-weight: normal;\n",
       "  right: .2ex;\n",
       "  padding: .5ex;\n",
       "  margin: .5ex;\n",
       "  width: min-content;\n",
       "  min-width: 20ex;\n",
       "  max-width: 50ex;\n",
       "  color: var(--sklearn-color-text);\n",
       "  box-shadow: 2pt 2pt 4pt #999;\n",
       "  /* unfitted */\n",
       "  background: var(--sklearn-color-unfitted-level-0);\n",
       "  border: .5pt solid var(--sklearn-color-unfitted-level-3);\n",
       "}\n",
       "\n",
       ".sk-estimator-doc-link.fitted span {\n",
       "  /* fitted */\n",
       "  background: var(--sklearn-color-fitted-level-0);\n",
       "  border: var(--sklearn-color-fitted-level-3);\n",
       "}\n",
       "\n",
       ".sk-estimator-doc-link:hover span {\n",
       "  display: block;\n",
       "}\n",
       "\n",
       "/* \"?\"-specific style due to the `<a>` HTML tag */\n",
       "\n",
       "#sk-container-id-1 a.estimator_doc_link {\n",
       "  float: right;\n",
       "  font-size: 1rem;\n",
       "  line-height: 1em;\n",
       "  font-family: monospace;\n",
       "  background-color: var(--sklearn-color-background);\n",
       "  border-radius: 1rem;\n",
       "  height: 1rem;\n",
       "  width: 1rem;\n",
       "  text-decoration: none;\n",
       "  /* unfitted */\n",
       "  color: var(--sklearn-color-unfitted-level-1);\n",
       "  border: var(--sklearn-color-unfitted-level-1) 1pt solid;\n",
       "}\n",
       "\n",
       "#sk-container-id-1 a.estimator_doc_link.fitted {\n",
       "  /* fitted */\n",
       "  border: var(--sklearn-color-fitted-level-1) 1pt solid;\n",
       "  color: var(--sklearn-color-fitted-level-1);\n",
       "}\n",
       "\n",
       "/* On hover */\n",
       "#sk-container-id-1 a.estimator_doc_link:hover {\n",
       "  /* unfitted */\n",
       "  background-color: var(--sklearn-color-unfitted-level-3);\n",
       "  color: var(--sklearn-color-background);\n",
       "  text-decoration: none;\n",
       "}\n",
       "\n",
       "#sk-container-id-1 a.estimator_doc_link.fitted:hover {\n",
       "  /* fitted */\n",
       "  background-color: var(--sklearn-color-fitted-level-3);\n",
       "}\n",
       "</style><div id=\"sk-container-id-1\" class=\"sk-top-container\"><div class=\"sk-text-repr-fallback\"><pre>XGBClassifier(base_score=None, booster=None, callbacks=None,\n",
       "              colsample_bylevel=None, colsample_bynode=0.5605077834778656,\n",
       "              colsample_bytree=None, device=None, early_stopping_rounds=None,\n",
       "              enable_categorical=False,\n",
       "              eval_metric=&lt;function custom_f1_score at 0x7f11be8c85e0&gt;,\n",
       "              feature_types=None, gamma=None, grow_policy=None,\n",
       "              importance_type=None, interaction_constraints=None,\n",
       "              learning_rate=0.34138978914294765, max_bin=None,\n",
       "              max_cat_threshold=None, max_cat_to_onehot=None,\n",
       "              max_delta_step=None, max_depth=8, max_leaves=None,\n",
       "              min_child_weight=70, missing=nan, monotone_constraints=None,\n",
       "              multi_strategy=None, n_estimators=123, n_jobs=None,\n",
       "              num_parallel_tree=None, objective=&#x27;multi:softprob&#x27;, ...)</pre><b>In a Jupyter environment, please rerun this cell to show the HTML representation or trust the notebook. <br />On GitHub, the HTML representation is unable to render, please try loading this page with nbviewer.org.</b></div><div class=\"sk-container\" hidden><div class=\"sk-item\"><div class=\"sk-estimator fitted sk-toggleable\"><input class=\"sk-toggleable__control sk-hidden--visually\" id=\"sk-estimator-id-1\" type=\"checkbox\" checked><label for=\"sk-estimator-id-1\" class=\"sk-toggleable__label fitted sk-toggleable__label-arrow fitted\">&nbsp;XGBClassifier<span class=\"sk-estimator-doc-link fitted\">i<span>Fitted</span></span></label><div class=\"sk-toggleable__content fitted\"><pre>XGBClassifier(base_score=None, booster=None, callbacks=None,\n",
       "              colsample_bylevel=None, colsample_bynode=0.5605077834778656,\n",
       "              colsample_bytree=None, device=None, early_stopping_rounds=None,\n",
       "              enable_categorical=False,\n",
       "              eval_metric=&lt;function custom_f1_score at 0x7f11be8c85e0&gt;,\n",
       "              feature_types=None, gamma=None, grow_policy=None,\n",
       "              importance_type=None, interaction_constraints=None,\n",
       "              learning_rate=0.34138978914294765, max_bin=None,\n",
       "              max_cat_threshold=None, max_cat_to_onehot=None,\n",
       "              max_delta_step=None, max_depth=8, max_leaves=None,\n",
       "              min_child_weight=70, missing=nan, monotone_constraints=None,\n",
       "              multi_strategy=None, n_estimators=123, n_jobs=None,\n",
       "              num_parallel_tree=None, objective=&#x27;multi:softprob&#x27;, ...)</pre></div> </div></div></div></div>"
      ],
      "text/plain": [
       "XGBClassifier(base_score=None, booster=None, callbacks=None,\n",
       "              colsample_bylevel=None, colsample_bynode=0.5605077834778656,\n",
       "              colsample_bytree=None, device=None, early_stopping_rounds=None,\n",
       "              enable_categorical=False,\n",
       "              eval_metric=<function custom_f1_score at 0x7f11be8c85e0>,\n",
       "              feature_types=None, gamma=None, grow_policy=None,\n",
       "              importance_type=None, interaction_constraints=None,\n",
       "              learning_rate=0.34138978914294765, max_bin=None,\n",
       "              max_cat_threshold=None, max_cat_to_onehot=None,\n",
       "              max_delta_step=None, max_depth=8, max_leaves=None,\n",
       "              min_child_weight=70, missing=nan, monotone_constraints=None,\n",
       "              multi_strategy=None, n_estimators=123, n_jobs=None,\n",
       "              num_parallel_tree=None, objective='multi:softprob', ...)"
      ]
     },
     "execution_count": 21,
     "metadata": {},
     "output_type": "execute_result"
    }
   ],
   "source": [
    "n_estimators = int(study.best_trial.user_attrs['best_iteration']*1.2)\n",
    "xgb = xgboost.XGBClassifier(\n",
    "        eval_metric=eval_metric,\n",
    "        n_estimators=n_estimators,\n",
    "        **study.best_trial.params\n",
    "    )\n",
    "xgb.fit(\n",
    "    ssp.vstack((X_train, X_val)), \n",
    "    np.concatenate((y_train_enc, y_val_enc)),\n",
    "    verbose=1,\n",
    ")"
   ]
  },
  {
   "cell_type": "code",
   "execution_count": 22,
   "id": "d85852a9",
   "metadata": {
    "execution": {
     "iopub.execute_input": "2025-05-15T16:19:04.216953Z",
     "iopub.status.busy": "2025-05-15T16:19:04.216580Z",
     "iopub.status.idle": "2025-05-15T16:19:04.314585Z",
     "shell.execute_reply": "2025-05-15T16:19:04.314156Z"
    },
    "papermill": {
     "duration": 0.117578,
     "end_time": "2025-05-15T16:19:04.315571",
     "exception": false,
     "start_time": "2025-05-15T16:19:04.197993",
     "status": "completed"
    },
    "tags": []
   },
   "outputs": [
    {
     "data": {
      "text/plain": [
       "['/scratch_isilon/groups/singlecell/shared/projects/Inflammation-PBMCs-Atlas/03_downstream_analysis/08_gene_importance/xgboost_external_validation/xgboost_TopN_genes/results_20/best_model/Mono_10_0_xgb.json']"
      ]
     },
     "execution_count": 22,
     "metadata": {},
     "output_type": "execute_result"
    }
   ],
   "source": [
    "out_dir = here(f'03_downstream_analysis/08_gene_importance/xgboost_external_validation/xgboost_TopN_genes/results_{N_GENES}/best_model')\n",
    "\n",
    "if not os.path.exists(out_dir):\n",
    "    os.makedirs(out_dir)\n",
    "    \n",
    "joblib.dump(xgb, os.path.join(out_dir, f'{CELL_TYPE}_{SEED}_{TEST_SPLIT_IDX}_xgb.json'))"
   ]
  },
  {
   "cell_type": "code",
   "execution_count": 23,
   "id": "0e7d3cc5",
   "metadata": {
    "execution": {
     "iopub.execute_input": "2025-05-15T16:19:04.343079Z",
     "iopub.status.busy": "2025-05-15T16:19:04.342818Z",
     "iopub.status.idle": "2025-05-15T16:19:04.889296Z",
     "shell.execute_reply": "2025-05-15T16:19:04.888791Z"
    },
    "papermill": {
     "duration": 0.56562,
     "end_time": "2025-05-15T16:19:04.890471",
     "exception": false,
     "start_time": "2025-05-15T16:19:04.324851",
     "status": "completed"
    },
    "tags": []
   },
   "outputs": [],
   "source": [
    "df_pred_test = pd.DataFrame(dict(\n",
    "    cell_id=train_adata.obs.iloc[test_idxs].index.values,\n",
    "    y_true=y_test, \n",
    "    y_true_code=y_test_enc, \n",
    "    y_pred=xgb.predict(X_test))).set_index('cell_id')"
   ]
  },
  {
   "cell_type": "code",
   "execution_count": 24,
   "id": "795d2446",
   "metadata": {
    "execution": {
     "iopub.execute_input": "2025-05-15T16:19:04.910693Z",
     "iopub.status.busy": "2025-05-15T16:19:04.910505Z",
     "iopub.status.idle": "2025-05-15T16:19:05.052352Z",
     "shell.execute_reply": "2025-05-15T16:19:05.051824Z"
    },
    "papermill": {
     "duration": 0.153687,
     "end_time": "2025-05-15T16:19:05.053656",
     "exception": false,
     "start_time": "2025-05-15T16:19:04.899969",
     "status": "completed"
    },
    "tags": []
   },
   "outputs": [],
   "source": [
    "out_dir = here(f'03_downstream_analysis/08_gene_importance/xgboost_external_validation/xgboost_TopN_genes/results_{N_GENES}/predictions')\n",
    "\n",
    "if not os.path.exists(out_dir):\n",
    "    os.makedirs(out_dir)\n",
    "    \n",
    "df_pred_test.to_csv(os.path.join(out_dir, f'{CELL_TYPE}_{SEED}_{TEST_SPLIT_IDX}_pred_test.zip'))"
   ]
  },
  {
   "cell_type": "code",
   "execution_count": 25,
   "id": "f3ca7f37",
   "metadata": {
    "execution": {
     "iopub.execute_input": "2025-05-15T16:19:05.073005Z",
     "iopub.status.busy": "2025-05-15T16:19:05.072622Z",
     "iopub.status.idle": "2025-05-15T16:19:05.090102Z",
     "shell.execute_reply": "2025-05-15T16:19:05.089555Z"
    },
    "papermill": {
     "duration": 0.028183,
     "end_time": "2025-05-15T16:19:05.091219",
     "exception": false,
     "start_time": "2025-05-15T16:19:05.063036",
     "status": "completed"
    },
    "tags": []
   },
   "outputs": [],
   "source": [
    "metrics_dict = dict(\n",
    "    BAS=balanced_accuracy_score(y_true=df_pred_test.y_true_code, y_pred=df_pred_test.y_pred), WF1=f1_score(y_true=df_pred_test.y_true_code, y_pred=df_pred_test.y_pred,average='weighted'))"
   ]
  },
  {
   "cell_type": "code",
   "execution_count": 26,
   "id": "174e0fc6",
   "metadata": {
    "execution": {
     "iopub.execute_input": "2025-05-15T16:19:05.121519Z",
     "iopub.status.busy": "2025-05-15T16:19:05.121203Z",
     "iopub.status.idle": "2025-05-15T16:19:05.124537Z",
     "shell.execute_reply": "2025-05-15T16:19:05.124172Z"
    },
    "papermill": {
     "duration": 0.014616,
     "end_time": "2025-05-15T16:19:05.125374",
     "exception": false,
     "start_time": "2025-05-15T16:19:05.110758",
     "status": "completed"
    },
    "tags": []
   },
   "outputs": [
    {
     "data": {
      "text/plain": [
       "{'BAS': 0.632017484067767, 'WF1': 0.8369192611528027}"
      ]
     },
     "execution_count": 26,
     "metadata": {},
     "output_type": "execute_result"
    }
   ],
   "source": [
    "metrics_dict"
   ]
  },
  {
   "cell_type": "code",
   "execution_count": 27,
   "id": "1d7f7af7",
   "metadata": {
    "execution": {
     "iopub.execute_input": "2025-05-15T16:19:05.143814Z",
     "iopub.status.busy": "2025-05-15T16:19:05.143524Z",
     "iopub.status.idle": "2025-05-15T16:19:05.152682Z",
     "shell.execute_reply": "2025-05-15T16:19:05.152324Z"
    },
    "papermill": {
     "duration": 0.019732,
     "end_time": "2025-05-15T16:19:05.153498",
     "exception": false,
     "start_time": "2025-05-15T16:19:05.133766",
     "status": "completed"
    },
    "tags": []
   },
   "outputs": [
    {
     "data": {
      "text/html": [
       "<div>\n",
       "<style scoped>\n",
       "    .dataframe tbody tr th:only-of-type {\n",
       "        vertical-align: middle;\n",
       "    }\n",
       "\n",
       "    .dataframe tbody tr th {\n",
       "        vertical-align: top;\n",
       "    }\n",
       "\n",
       "    .dataframe thead th {\n",
       "        text-align: right;\n",
       "    }\n",
       "</style>\n",
       "<table border=\"1\" class=\"dataframe\">\n",
       "  <thead>\n",
       "    <tr style=\"text-align: right;\">\n",
       "      <th></th>\n",
       "      <th>BAS</th>\n",
       "      <th>WF1</th>\n",
       "      <th>split_idx</th>\n",
       "      <th>gene_set_seed</th>\n",
       "      <th>cell_type</th>\n",
       "    </tr>\n",
       "  </thead>\n",
       "  <tbody>\n",
       "    <tr>\n",
       "      <th>0</th>\n",
       "      <td>0.632017</td>\n",
       "      <td>0.836919</td>\n",
       "      <td>0</td>\n",
       "      <td>10</td>\n",
       "      <td>Mono</td>\n",
       "    </tr>\n",
       "  </tbody>\n",
       "</table>\n",
       "</div>"
      ],
      "text/plain": [
       "        BAS       WF1  split_idx  gene_set_seed cell_type\n",
       "0  0.632017  0.836919          0             10      Mono"
      ]
     },
     "execution_count": 27,
     "metadata": {},
     "output_type": "execute_result"
    }
   ],
   "source": [
    "metrics_df = pd.DataFrame.from_dict([metrics_dict]).assign(split_idx=TEST_SPLIT_IDX, gene_set_seed=SEED, cell_type=CELL_TYPE)\n",
    "metrics_df"
   ]
  },
  {
   "cell_type": "code",
   "execution_count": 28,
   "id": "b5b13faa",
   "metadata": {
    "execution": {
     "iopub.execute_input": "2025-05-15T16:19:05.173412Z",
     "iopub.status.busy": "2025-05-15T16:19:05.173179Z",
     "iopub.status.idle": "2025-05-15T16:19:05.181114Z",
     "shell.execute_reply": "2025-05-15T16:19:05.180752Z"
    },
    "papermill": {
     "duration": 0.017702,
     "end_time": "2025-05-15T16:19:05.181877",
     "exception": false,
     "start_time": "2025-05-15T16:19:05.164175",
     "status": "completed"
    },
    "tags": []
   },
   "outputs": [],
   "source": [
    "out_dir = here(f'03_downstream_analysis/08_gene_importance/xgboost_external_validation/xgboost_TopN_genes/results_{N_GENES}/metrics')\n",
    "\n",
    "if not os.path.exists(out_dir):\n",
    "    os.makedirs(out_dir)\n",
    "    \n",
    "metrics_df.to_csv(os.path.join(out_dir, f'{CELL_TYPE}_{SEED}_{TEST_SPLIT_IDX}_metrics.zip'))"
   ]
  }
 ],
 "metadata": {
  "kernelspec": {
   "display_name": "Python 3 (ipykernel)",
   "language": "python",
   "name": "python3"
  },
  "language_info": {
   "codemirror_mode": {
    "name": "ipython",
    "version": 3
   },
   "file_extension": ".py",
   "mimetype": "text/x-python",
   "name": "python",
   "nbconvert_exporter": "python",
   "pygments_lexer": "ipython3",
   "version": "3.12.5"
  },
  "papermill": {
   "default_parameters": {},
   "duration": 1150.162564,
   "end_time": "2025-05-15T16:19:05.908021",
   "environment_variables": {},
   "exception": null,
   "input_path": "02_xgboost_fitting_external_20genes.ipynb",
   "output_path": "results_20/executed_notebooks/xgboost_fitting_external_CT_Mono_GS_10_seed0.ipynb",
   "parameters": {
    "CELL_TYPE": "Mono",
    "SEED": 10,
    "TEST_SPLIT_IDX": 0
   },
   "start_time": "2025-05-15T15:59:55.745457",
   "version": "2.6.0"
  }
 },
 "nbformat": 4,
 "nbformat_minor": 5
}