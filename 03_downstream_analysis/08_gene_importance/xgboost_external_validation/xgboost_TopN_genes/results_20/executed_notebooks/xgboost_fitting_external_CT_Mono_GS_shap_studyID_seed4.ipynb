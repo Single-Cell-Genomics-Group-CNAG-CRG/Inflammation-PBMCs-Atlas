{
 "cells": [
  {
   "cell_type": "code",
   "execution_count": 1,
   "id": "28703181",
   "metadata": {
    "editable": true,
    "execution": {
     "iopub.execute_input": "2025-05-14T16:07:20.939234Z",
     "iopub.status.busy": "2025-05-14T16:07:20.939089Z",
     "iopub.status.idle": "2025-05-14T16:07:20.941916Z",
     "shell.execute_reply": "2025-05-14T16:07:20.941615Z"
    },
    "papermill": {
     "duration": 0.010225,
     "end_time": "2025-05-14T16:07:20.942797",
     "exception": false,
     "start_time": "2025-05-14T16:07:20.932572",
     "status": "completed"
    },
    "slideshow": {
     "slide_type": ""
    },
    "tags": [
     "parameters"
    ]
   },
   "outputs": [],
   "source": [
    "CELL_TYPE = 'pDC'\n",
    "N_GENES: int = 20\n",
    "SEED = 'shap_studyID' #'disease_NOstudy' 'study_NOdisease' or 'int' or 'shap_studyID'\n",
    "TEST_SPLIT_IDX: int = 1 #[0,4]"
   ]
  },
  {
   "cell_type": "code",
   "execution_count": 2,
   "id": "52111fd7",
   "metadata": {
    "execution": {
     "iopub.execute_input": "2025-05-14T16:07:20.953697Z",
     "iopub.status.busy": "2025-05-14T16:07:20.953345Z",
     "iopub.status.idle": "2025-05-14T16:07:20.955467Z",
     "shell.execute_reply": "2025-05-14T16:07:20.955178Z"
    },
    "papermill": {
     "duration": 0.008094,
     "end_time": "2025-05-14T16:07:20.956230",
     "exception": false,
     "start_time": "2025-05-14T16:07:20.948136",
     "status": "completed"
    },
    "tags": [
     "injected-parameters"
    ]
   },
   "outputs": [],
   "source": [
    "# Parameters\n",
    "CELL_TYPE = \"Mono\"\n",
    "SEED = \"shap_studyID\"\n",
    "TEST_SPLIT_IDX = 4\n"
   ]
  },
  {
   "cell_type": "code",
   "execution_count": 3,
   "id": "83f9eebc",
   "metadata": {
    "execution": {
     "iopub.execute_input": "2025-05-14T16:07:20.977946Z",
     "iopub.status.busy": "2025-05-14T16:07:20.977522Z",
     "iopub.status.idle": "2025-05-14T16:07:20.979624Z",
     "shell.execute_reply": "2025-05-14T16:07:20.979292Z"
    },
    "papermill": {
     "duration": 0.008294,
     "end_time": "2025-05-14T16:07:20.980417",
     "exception": false,
     "start_time": "2025-05-14T16:07:20.972123",
     "status": "completed"
    },
    "tags": []
   },
   "outputs": [],
   "source": [
    "N_SPLITS: int = 5\n",
    "N_TRIALS: int = 50"
   ]
  },
  {
   "cell_type": "code",
   "execution_count": 4,
   "id": "e4f40939",
   "metadata": {
    "execution": {
     "iopub.execute_input": "2025-05-14T16:07:20.992713Z",
     "iopub.status.busy": "2025-05-14T16:07:20.992278Z",
     "iopub.status.idle": "2025-05-14T16:07:46.939785Z",
     "shell.execute_reply": "2025-05-14T16:07:46.939211Z"
    },
    "papermill": {
     "duration": 25.955473,
     "end_time": "2025-05-14T16:07:46.941327",
     "exception": false,
     "start_time": "2025-05-14T16:07:20.985854",
     "status": "completed"
    },
    "tags": []
   },
   "outputs": [],
   "source": [
    "import os\n",
    "import sys\n",
    "from pyprojroot.here import here\n",
    "import pandas as pd\n",
    "import anndata as ad\n",
    "import numpy as np\n",
    "import math\n",
    "from sklearn.model_selection import StratifiedGroupKFold\n",
    "from sklearn.preprocessing import LabelEncoder\n",
    "from sklearn.metrics import f1_score\n",
    "import matplotlib.pyplot as plt\n",
    "import seaborn as sns\n",
    "from itertools import product\n",
    "from sklearn.metrics import balanced_accuracy_score, f1_score\n",
    "import optuna\n",
    "\n",
    "import joblib\n",
    "import pickle\n",
    "import datetime\n",
    "\n",
    "import collections\n",
    "\n",
    "import xgboost\n",
    "from sklearn.preprocessing import LabelEncoder\n",
    "\n",
    "import scipy.sparse as ssp\n",
    "import joblib\n",
    "\n",
    "from dotenv import load_dotenv"
   ]
  },
  {
   "cell_type": "code",
   "execution_count": 5,
   "id": "82024c76",
   "metadata": {
    "execution": {
     "iopub.execute_input": "2025-05-14T16:07:46.954735Z",
     "iopub.status.busy": "2025-05-14T16:07:46.954348Z",
     "iopub.status.idle": "2025-05-14T16:07:46.960340Z",
     "shell.execute_reply": "2025-05-14T16:07:46.960031Z"
    },
    "papermill": {
     "duration": 0.012974,
     "end_time": "2025-05-14T16:07:46.961153",
     "exception": false,
     "start_time": "2025-05-14T16:07:46.948179",
     "status": "completed"
    },
    "tags": []
   },
   "outputs": [
    {
     "data": {
      "text/plain": [
       "True"
      ]
     },
     "execution_count": 5,
     "metadata": {},
     "output_type": "execute_result"
    }
   ],
   "source": [
    "load_dotenv()"
   ]
  },
  {
   "cell_type": "markdown",
   "id": "2be2055f",
   "metadata": {
    "papermill": {
     "duration": 0.005556,
     "end_time": "2025-05-14T16:07:46.971933",
     "exception": false,
     "start_time": "2025-05-14T16:07:46.966377",
     "status": "completed"
    },
    "tags": []
   },
   "source": [
    "# LOAD DATASET"
   ]
  },
  {
   "cell_type": "code",
   "execution_count": 6,
   "id": "786899fc",
   "metadata": {
    "execution": {
     "iopub.execute_input": "2025-05-14T16:07:46.983819Z",
     "iopub.status.busy": "2025-05-14T16:07:46.983676Z",
     "iopub.status.idle": "2025-05-14T16:07:48.305371Z",
     "shell.execute_reply": "2025-05-14T16:07:48.304853Z"
    },
    "papermill": {
     "duration": 1.328878,
     "end_time": "2025-05-14T16:07:48.306675",
     "exception": false,
     "start_time": "2025-05-14T16:07:46.977797",
     "status": "completed"
    },
    "tags": []
   },
   "outputs": [],
   "source": [
    "train_adata = ad.read_h5ad(\n",
    "    here(f'03_downstream_analysis/08_gene_importance/xgboost_external_validation/xgboost_TopN_genes/data_cellTypes/EXTERNAL_{CELL_TYPE}.filtered.log1p.h5ad')\n",
    ")"
   ]
  },
  {
   "cell_type": "code",
   "execution_count": 7,
   "id": "4278bf5a",
   "metadata": {
    "execution": {
     "iopub.execute_input": "2025-05-14T16:07:48.326046Z",
     "iopub.status.busy": "2025-05-14T16:07:48.325874Z",
     "iopub.status.idle": "2025-05-14T16:07:48.359201Z",
     "shell.execute_reply": "2025-05-14T16:07:48.358821Z"
    },
    "papermill": {
     "duration": 0.047635,
     "end_time": "2025-05-14T16:07:48.360093",
     "exception": false,
     "start_time": "2025-05-14T16:07:48.312458",
     "status": "completed"
    },
    "tags": []
   },
   "outputs": [
    {
     "name": "stdout",
     "output_type": "stream",
     "text": [
      "['ENSG00000142208' 'ENSG00000165092' 'ENSG00000106367' 'ENSG00000182287'\n",
      " 'ENSG00000165527' 'ENSG00000170540' 'ENSG00000130429' 'ENSG00000162704'\n",
      " 'ENSG00000123268' 'ENSG00000152234' 'ENSG00000099624' 'ENSG00000167863'\n",
      " 'ENSG00000241837' 'ENSG00000185883' 'ENSG00000069399' 'ENSG00000113916'\n",
      " 'ENSG00000135441' 'ENSG00000133639' 'ENSG00000111678' 'ENSG00000258315'\n",
      " 'ENSG00000198668' 'ENSG00000170458' 'ENSG00000013297' 'ENSG00000141367'\n",
      " 'ENSG00000162368' 'ENSG00000126267' 'ENSG00000118260' 'ENSG00000121552'\n",
      " 'ENSG00000121966' 'ENSG00000051523' 'ENSG00000104671' 'ENSG00000132002'\n",
      " 'ENSG00000120129' 'ENSG00000088986' 'ENSG00000264364' 'ENSG00000254772'\n",
      " 'ENSG00000142634' 'ENSG00000122877' 'ENSG00000179388' 'ENSG00000100664'\n",
      " 'ENSG00000142227' 'ENSG00000026103' 'ENSG00000085265' 'ENSG00000125740'\n",
      " 'ENSG00000075426' 'ENSG00000089327' 'ENSG00000170296' 'ENSG00000179144'\n",
      " 'ENSG00000090863' 'ENSG00000242616' 'ENSG00000177885' 'ENSG00000178719'\n",
      " 'ENSG00000143774' 'ENSG00000184897' 'ENSG00000132475' 'ENSG00000197061'\n",
      " 'ENSG00000113070' 'ENSG00000216490' 'ENSG00000159110' 'ENSG00000027697'\n",
      " 'ENSG00000211895' 'ENSG00000243646' 'ENSG00000172349' 'ENSG00000147168'\n",
      " 'ENSG00000008517' 'ENSG00000160712' 'ENSG00000125347' 'ENSG00000213928'\n",
      " 'ENSG00000160255' 'ENSG00000132465' 'ENSG00000143543' 'ENSG00000177606'\n",
      " 'ENSG00000171223' 'ENSG00000068796' 'ENSG00000127528' 'ENSG00000136826'\n",
      " 'ENSG00000186395' 'ENSG00000189067' 'ENSG00000185022' 'ENSG00000107968'\n",
      " 'ENSG00000163563' 'ENSG00000152082' 'ENSG00000186010' 'ENSG00000235568'\n",
      " 'ENSG00000105374' 'ENSG00000243678' 'ENSG00000182117' 'ENSG00000105373'\n",
      " 'ENSG00000123358' 'ENSG00000153234' 'ENSG00000119508' 'ENSG00000169564'\n",
      " 'ENSG00000197111' 'ENSG00000108518' 'ENSG00000139289' 'ENSG00000121879'\n",
      " 'ENSG00000137193' 'ENSG00000198355' 'ENSG00000146278' 'ENSG00000175482'\n",
      " 'ENSG00000129084' 'ENSG00000106588' 'ENSG00000100902' 'ENSG00000184007'\n",
      " 'ENSG00000103490' 'ENSG00000118508' 'ENSG00000108774' 'ENSG00000128340'\n",
      " 'ENSG00000127314' 'ENSG00000173039' 'ENSG00000104312' 'ENSG00000219200'\n",
      " 'ENSG00000168894' 'ENSG00000126524' 'ENSG00000140264' 'ENSG00000120742'\n",
      " 'ENSG00000155465' 'ENSG00000184557' 'ENSG00000066336' 'ENSG00000122862'\n",
      " 'ENSG00000160075' 'ENSG00000136738' 'ENSG00000168610' 'ENSG00000173757'\n",
      " 'ENSG00000164543' 'ENSG00000135604' 'ENSG00000105329' 'ENSG00000243749'\n",
      " 'ENSG00000205542' 'ENSG00000239697' 'ENSG00000161955' 'ENSG00000102524'\n",
      " 'ENSG00000181029' 'ENSG00000123416' 'ENSG00000011600' 'ENSG00000244687'\n",
      " 'ENSG00000183696' 'ENSG00000127540' 'ENSG00000105583' 'ENSG00000146457'\n",
      " 'ENSG00000161642']\n"
     ]
    }
   ],
   "source": [
    "if SEED != 'all':\n",
    "    gene_subset = np.load(here(f'03_downstream_analysis/08_gene_importance/xgboost_external_validation/shap_gene_selection/gene_subsets_{N_GENES}/{CELL_TYPE}_{SEED}.npy'), allow_pickle=True)\n",
    "    train_adata = train_adata[:,gene_subset]\n",
    "    print(gene_subset)\n",
    "elif SEED == 'all':\n",
    "    print('Using all genes')\n",
    "else:\n",
    "    raise ValueError()"
   ]
  },
  {
   "cell_type": "code",
   "execution_count": 8,
   "id": "67f360a5",
   "metadata": {
    "execution": {
     "iopub.execute_input": "2025-05-14T16:07:48.374327Z",
     "iopub.status.busy": "2025-05-14T16:07:48.373852Z",
     "iopub.status.idle": "2025-05-14T16:07:48.376991Z",
     "shell.execute_reply": "2025-05-14T16:07:48.376667Z"
    },
    "papermill": {
     "duration": 0.0107,
     "end_time": "2025-05-14T16:07:48.377739",
     "exception": false,
     "start_time": "2025-05-14T16:07:48.367039",
     "status": "completed"
    },
    "tags": []
   },
   "outputs": [
    {
     "data": {
      "text/plain": [
       "(137435, 141)"
      ]
     },
     "execution_count": 8,
     "metadata": {},
     "output_type": "execute_result"
    }
   ],
   "source": [
    "train_adata.shape"
   ]
  },
  {
   "cell_type": "code",
   "execution_count": 9,
   "id": "9953d029",
   "metadata": {
    "execution": {
     "iopub.execute_input": "2025-05-14T16:07:48.389010Z",
     "iopub.status.busy": "2025-05-14T16:07:48.388611Z",
     "iopub.status.idle": "2025-05-14T16:07:48.392630Z",
     "shell.execute_reply": "2025-05-14T16:07:48.392328Z"
    },
    "papermill": {
     "duration": 0.010561,
     "end_time": "2025-05-14T16:07:48.393418",
     "exception": false,
     "start_time": "2025-05-14T16:07:48.382857",
     "status": "completed"
    },
    "tags": []
   },
   "outputs": [
    {
     "data": {
      "text/plain": [
       "['RA', 'healthy', 'COVID', 'HIV', 'cirrhosis', 'CD', 'SLE', 'sepsis']\n",
       "Categories (8, object): ['CD', 'COVID', 'HIV', 'RA', 'SLE', 'cirrhosis', 'healthy', 'sepsis']"
      ]
     },
     "execution_count": 9,
     "metadata": {},
     "output_type": "execute_result"
    }
   ],
   "source": [
    "train_adata.obs.disease.unique()"
   ]
  },
  {
   "cell_type": "code",
   "execution_count": 10,
   "id": "a59e6d83",
   "metadata": {
    "execution": {
     "iopub.execute_input": "2025-05-14T16:07:48.405167Z",
     "iopub.status.busy": "2025-05-14T16:07:48.404804Z",
     "iopub.status.idle": "2025-05-14T16:07:48.408703Z",
     "shell.execute_reply": "2025-05-14T16:07:48.408395Z"
    },
    "papermill": {
     "duration": 0.010593,
     "end_time": "2025-05-14T16:07:48.409483",
     "exception": false,
     "start_time": "2025-05-14T16:07:48.398890",
     "status": "completed"
    },
    "tags": []
   },
   "outputs": [
    {
     "data": {
      "text/plain": [
       "['SCGT00val_I0364_T0', 'SCGT00val_I036028_T0', 'SCGT00val_I036024_T0', 'SCGT00val_I036023_T0', 'SCGT00val_I036019_T0', ..., '10XGenomics_10XHC2_T0', '10XGenomics_10XHC3_T0', '10XGenomics_10XHC5_T0', '10XGenomics_10XHC7_T0', '10XGenomics_10XHC8_T0']\n",
       "Length: 86\n",
       "Categories (86, object): ['10XGenomics_10XHC1_T0', '10XGenomics_10XHC2_T0', '10XGenomics_10XHC3_T0', '10XGenomics_10XHC4_T0', ..., 'Savage2021_BRISL6_T0', 'Savage2021_BRISL7_T0', 'Savage2021_PIDA_T0', 'Savage2021_PIDB_T0']"
      ]
     },
     "execution_count": 10,
     "metadata": {},
     "output_type": "execute_result"
    }
   ],
   "source": [
    "train_adata.obs.sampleID.unique()"
   ]
  },
  {
   "cell_type": "code",
   "execution_count": 11,
   "id": "decb2d6e",
   "metadata": {
    "execution": {
     "iopub.execute_input": "2025-05-14T16:07:48.421089Z",
     "iopub.status.busy": "2025-05-14T16:07:48.420805Z",
     "iopub.status.idle": "2025-05-14T16:07:48.741870Z",
     "shell.execute_reply": "2025-05-14T16:07:48.741393Z"
    },
    "papermill": {
     "duration": 0.327907,
     "end_time": "2025-05-14T16:07:48.742766",
     "exception": false,
     "start_time": "2025-05-14T16:07:48.414859",
     "status": "completed"
    },
    "tags": []
   },
   "outputs": [],
   "source": [
    "all_idxs = np.arange(train_adata.obs.shape[0])\n",
    "left_out_splits = [s[1] for s in StratifiedGroupKFold(n_splits=N_SPLITS).split(all_idxs, train_adata.obs.disease, train_adata.obs.sampleID)]"
   ]
  },
  {
   "cell_type": "code",
   "execution_count": 12,
   "id": "a754eaf6",
   "metadata": {
    "execution": {
     "iopub.execute_input": "2025-05-14T16:07:48.754639Z",
     "iopub.status.busy": "2025-05-14T16:07:48.754406Z",
     "iopub.status.idle": "2025-05-14T16:07:48.757940Z",
     "shell.execute_reply": "2025-05-14T16:07:48.757623Z"
    },
    "papermill": {
     "duration": 0.010366,
     "end_time": "2025-05-14T16:07:48.758779",
     "exception": false,
     "start_time": "2025-05-14T16:07:48.748413",
     "status": "completed"
    },
    "tags": []
   },
   "outputs": [
    {
     "data": {
      "text/plain": [
       "([1, 2, 3], 0, 4)"
      ]
     },
     "execution_count": 12,
     "metadata": {},
     "output_type": "execute_result"
    }
   ],
   "source": [
    "TRAIN_SPLIT_IDXS = [0,1,2,3,4]\n",
    "VAL_SPLIT_IDX = (TEST_SPLIT_IDX + 1) % 5\n",
    "TRAIN_SPLIT_IDXS.remove(TEST_SPLIT_IDX)\n",
    "TRAIN_SPLIT_IDXS.remove(VAL_SPLIT_IDX)\n",
    "TRAIN_SPLIT_IDXS, VAL_SPLIT_IDX, TEST_SPLIT_IDX"
   ]
  },
  {
   "cell_type": "code",
   "execution_count": 13,
   "id": "8955f687",
   "metadata": {
    "execution": {
     "iopub.execute_input": "2025-05-14T16:07:48.771283Z",
     "iopub.status.busy": "2025-05-14T16:07:48.770894Z",
     "iopub.status.idle": "2025-05-14T16:07:48.773657Z",
     "shell.execute_reply": "2025-05-14T16:07:48.773361Z"
    },
    "papermill": {
     "duration": 0.010101,
     "end_time": "2025-05-14T16:07:48.774462",
     "exception": false,
     "start_time": "2025-05-14T16:07:48.764361",
     "status": "completed"
    },
    "tags": []
   },
   "outputs": [],
   "source": [
    "train_idxs = np.concatenate([left_out_splits[idx] for idx in TRAIN_SPLIT_IDXS])\n",
    "val_idxs = left_out_splits[VAL_SPLIT_IDX]\n",
    "test_idxs = left_out_splits[TEST_SPLIT_IDX]"
   ]
  },
  {
   "cell_type": "markdown",
   "id": "74e62dd0",
   "metadata": {
    "papermill": {
     "duration": 0.008907,
     "end_time": "2025-05-14T16:07:48.788622",
     "exception": false,
     "start_time": "2025-05-14T16:07:48.779715",
     "status": "completed"
    },
    "tags": []
   },
   "source": [
    "### SUBSET DATASET INTO TRAIN/TEST/VAL SPLITS"
   ]
  },
  {
   "cell_type": "code",
   "execution_count": 14,
   "id": "3bb7df67",
   "metadata": {
    "execution": {
     "iopub.execute_input": "2025-05-14T16:07:48.807708Z",
     "iopub.status.busy": "2025-05-14T16:07:48.807285Z",
     "iopub.status.idle": "2025-05-14T16:07:49.369302Z",
     "shell.execute_reply": "2025-05-14T16:07:49.368831Z"
    },
    "papermill": {
     "duration": 0.569632,
     "end_time": "2025-05-14T16:07:49.370640",
     "exception": false,
     "start_time": "2025-05-14T16:07:48.801008",
     "status": "completed"
    },
    "tags": []
   },
   "outputs": [
    {
     "data": {
      "text/plain": [
       "((82984, 141), (27037, 141), (27414, 141))"
      ]
     },
     "execution_count": 14,
     "metadata": {},
     "output_type": "execute_result"
    }
   ],
   "source": [
    "X_train = train_adata.X[train_idxs]\n",
    "X_test = train_adata.X[test_idxs]\n",
    "X_val = train_adata.X[val_idxs]\n",
    "X_train.shape, X_test.shape, X_val.shape"
   ]
  },
  {
   "cell_type": "code",
   "execution_count": 15,
   "id": "53647b0c",
   "metadata": {
    "execution": {
     "iopub.execute_input": "2025-05-14T16:07:49.383574Z",
     "iopub.status.busy": "2025-05-14T16:07:49.383198Z",
     "iopub.status.idle": "2025-05-14T16:07:49.397354Z",
     "shell.execute_reply": "2025-05-14T16:07:49.397001Z"
    },
    "papermill": {
     "duration": 0.021267,
     "end_time": "2025-05-14T16:07:49.398282",
     "exception": false,
     "start_time": "2025-05-14T16:07:49.377015",
     "status": "completed"
    },
    "tags": []
   },
   "outputs": [
    {
     "data": {
      "text/plain": [
       "((82984,), (27037,), (27414,))"
      ]
     },
     "execution_count": 15,
     "metadata": {},
     "output_type": "execute_result"
    }
   ],
   "source": [
    "y_train = train_adata.obs.iloc[train_idxs].disease.values.astype(str)\n",
    "y_test = train_adata.obs.iloc[test_idxs].disease.values.astype(str)\n",
    "y_val = train_adata.obs.iloc[val_idxs].disease.values.astype(str)\n",
    "y_train.shape, y_test.shape, y_val.shape"
   ]
  },
  {
   "cell_type": "code",
   "execution_count": 16,
   "id": "7050276e",
   "metadata": {
    "execution": {
     "iopub.execute_input": "2025-05-14T16:07:49.410645Z",
     "iopub.status.busy": "2025-05-14T16:07:49.410338Z",
     "iopub.status.idle": "2025-05-14T16:07:49.441170Z",
     "shell.execute_reply": "2025-05-14T16:07:49.440778Z"
    },
    "papermill": {
     "duration": 0.03825,
     "end_time": "2025-05-14T16:07:49.442175",
     "exception": false,
     "start_time": "2025-05-14T16:07:49.403925",
     "status": "completed"
    },
    "tags": []
   },
   "outputs": [],
   "source": [
    "lenc = LabelEncoder()\n",
    "y_train_enc = lenc.fit_transform(y_train)\n",
    "y_val_enc = lenc.transform(y_val)\n",
    "y_test_enc = lenc.transform(y_test)"
   ]
  },
  {
   "cell_type": "markdown",
   "id": "0239f8cc",
   "metadata": {
    "papermill": {
     "duration": 0.006178,
     "end_time": "2025-05-14T16:07:49.455383",
     "exception": false,
     "start_time": "2025-05-14T16:07:49.449205",
     "status": "completed"
    },
    "tags": []
   },
   "source": [
    "### GENERATE F1 "
   ]
  },
  {
   "cell_type": "code",
   "execution_count": 17,
   "id": "fa95d8aa",
   "metadata": {
    "execution": {
     "iopub.execute_input": "2025-05-14T16:07:49.468356Z",
     "iopub.status.busy": "2025-05-14T16:07:49.468017Z",
     "iopub.status.idle": "2025-05-14T16:07:49.470667Z",
     "shell.execute_reply": "2025-05-14T16:07:49.470362Z"
    },
    "papermill": {
     "duration": 0.010216,
     "end_time": "2025-05-14T16:07:49.471580",
     "exception": false,
     "start_time": "2025-05-14T16:07:49.461364",
     "status": "completed"
    },
    "tags": []
   },
   "outputs": [],
   "source": [
    "def custom_f1_score(y_true, y_pred):\n",
    "    return -f1_score(y_true, y_pred.argmax(1), average='weighted')"
   ]
  },
  {
   "cell_type": "code",
   "execution_count": 18,
   "id": "c4ad8928",
   "metadata": {
    "execution": {
     "iopub.execute_input": "2025-05-14T16:07:49.484159Z",
     "iopub.status.busy": "2025-05-14T16:07:49.483813Z",
     "iopub.status.idle": "2025-05-14T16:07:49.488722Z",
     "shell.execute_reply": "2025-05-14T16:07:49.488324Z"
    },
    "papermill": {
     "duration": 0.012178,
     "end_time": "2025-05-14T16:07:49.489727",
     "exception": false,
     "start_time": "2025-05-14T16:07:49.477549",
     "status": "completed"
    },
    "tags": []
   },
   "outputs": [],
   "source": [
    "eval_metric=custom_f1_score\n",
    "eval_metric_name='custom_f1_score'\n",
    "\n",
    "def objective(trial):\n",
    "    params = {\n",
    "        'n_estimators': 1500,\n",
    "        'max_depth': trial.suggest_int('max_depth', 3, 20),\n",
    "        'min_child_weight': trial.suggest_int('min_child_weight', 1, 250),\n",
    "        'subsample': trial.suggest_float('subsample', 0.1, 1.0),\n",
    "        'colsample_bynode': trial.suggest_float('colsample_bynode', 0.1, 1.0),\n",
    "        'learning_rate': trial.suggest_float('learning_rate', 1e-3, 5e-1, log=True),\n",
    "    }\n",
    "    pruning_callback = optuna.integration.XGBoostPruningCallback(trial, f'validation_0-{eval_metric_name}')\n",
    "    es_callback = xgboost.callback.EarlyStopping(20, min_delta=0.001)\n",
    "    xgb = xgboost.XGBClassifier(\n",
    "        eval_metric=eval_metric,\n",
    "        callbacks=[pruning_callback, es_callback],\n",
    "        n_jobs=5,\n",
    "        **params\n",
    "    )\n",
    "    xgb.fit(\n",
    "        X_train, \n",
    "        y_train_enc, \n",
    "        verbose=0,\n",
    "        eval_set=[(X_val, y_val_enc)],\n",
    "    )\n",
    "    trial.set_user_attr('best_iteration', xgb.best_iteration)\n",
    "\n",
    "    return xgb.best_score"
   ]
  },
  {
   "cell_type": "code",
   "execution_count": 19,
   "id": "94e73913",
   "metadata": {
    "execution": {
     "iopub.execute_input": "2025-05-14T16:07:49.502318Z",
     "iopub.status.busy": "2025-05-14T16:07:49.502172Z",
     "iopub.status.idle": "2025-05-14T16:19:10.161553Z",
     "shell.execute_reply": "2025-05-14T16:19:10.161036Z"
    },
    "papermill": {
     "duration": 680.666991,
     "end_time": "2025-05-14T16:19:10.162578",
     "exception": false,
     "start_time": "2025-05-14T16:07:49.495587",
     "status": "completed"
    },
    "scrolled": true,
    "tags": []
   },
   "outputs": [
    {
     "name": "stderr",
     "output_type": "stream",
     "text": [
      "[I 2025-05-14 18:07:49,503] A new study created in memory with name: no-name-0d01d371-177e-497a-bf65-70b3f041ee3f\n"
     ]
    },
    {
     "name": "stderr",
     "output_type": "stream",
     "text": [
      "[I 2025-05-14 18:07:58,285] Trial 0 finished with value: -0.825172 and parameters: {'max_depth': 9, 'min_child_weight': 238, 'subsample': 0.7587945476302645, 'colsample_bynode': 0.6387926357773329, 'learning_rate': 0.0026368755339723046}. Best is trial 0 with value: -0.825172.\n"
     ]
    },
    {
     "name": "stderr",
     "output_type": "stream",
     "text": [
      "[I 2025-05-14 18:08:57,824] Trial 1 finished with value: -0.905785 and parameters: {'max_depth': 5, 'min_child_weight': 15, 'subsample': 0.8795585311974417, 'colsample_bynode': 0.6410035105688879, 'learning_rate': 0.08148293210105287}. Best is trial 1 with value: -0.905785.\n"
     ]
    },
    {
     "name": "stderr",
     "output_type": "stream",
     "text": [
      "[I 2025-05-14 18:09:05,494] Trial 2 finished with value: -0.831332 and parameters: {'max_depth': 3, 'min_child_weight': 243, 'subsample': 0.8491983767203796, 'colsample_bynode': 0.29110519961044856, 'learning_rate': 0.003095566460242371}. Best is trial 1 with value: -0.905785.\n"
     ]
    },
    {
     "name": "stderr",
     "output_type": "stream",
     "text": [
      "[I 2025-05-14 18:09:32,626] Trial 3 finished with value: -0.855219 and parameters: {'max_depth': 6, 'min_child_weight': 77, 'subsample': 0.5722807884690141, 'colsample_bynode': 0.48875051677790415, 'learning_rate': 0.006109683510122491}. Best is trial 1 with value: -0.905785.\n"
     ]
    },
    {
     "name": "stderr",
     "output_type": "stream",
     "text": [
      "[I 2025-05-14 18:11:35,341] Trial 4 finished with value: -0.88963 and parameters: {'max_depth': 14, 'min_child_weight': 35, 'subsample': 0.3629301836816964, 'colsample_bynode': 0.4297256589643226, 'learning_rate': 0.01701841881702917}. Best is trial 1 with value: -0.905785.\n"
     ]
    },
    {
     "name": "stderr",
     "output_type": "stream",
     "text": [
      "[I 2025-05-14 18:11:47,017] Trial 5 pruned. Trial was pruned at iteration 29.\n"
     ]
    },
    {
     "name": "stderr",
     "output_type": "stream",
     "text": [
      "[I 2025-05-14 18:11:47,849] Trial 6 pruned. Trial was pruned at iteration 0.\n"
     ]
    },
    {
     "name": "stderr",
     "output_type": "stream",
     "text": [
      "[I 2025-05-14 18:11:48,642] Trial 7 pruned. Trial was pruned at iteration 0.\n"
     ]
    },
    {
     "name": "stderr",
     "output_type": "stream",
     "text": [
      "[I 2025-05-14 18:11:49,430] Trial 8 pruned. Trial was pruned at iteration 0.\n"
     ]
    },
    {
     "name": "stderr",
     "output_type": "stream",
     "text": [
      "[I 2025-05-14 18:11:50,961] Trial 9 pruned. Trial was pruned at iteration 2.\n"
     ]
    },
    {
     "name": "stderr",
     "output_type": "stream",
     "text": [
      "[I 2025-05-14 18:12:30,144] Trial 10 finished with value: -0.902661 and parameters: {'max_depth': 9, 'min_child_weight': 2, 'subsample': 0.9725833997090791, 'colsample_bynode': 0.11616568805333755, 'learning_rate': 0.17780618353487967}. Best is trial 1 with value: -0.905785.\n"
     ]
    },
    {
     "name": "stderr",
     "output_type": "stream",
     "text": [
      "[I 2025-05-14 18:13:13,286] Trial 11 finished with value: -0.902263 and parameters: {'max_depth': 9, 'min_child_weight': 4, 'subsample': 0.9818290990185045, 'colsample_bynode': 0.17702656156719, 'learning_rate': 0.11568531411766632}. Best is trial 1 with value: -0.905785.\n"
     ]
    },
    {
     "name": "stderr",
     "output_type": "stream",
     "text": [
      "[I 2025-05-14 18:14:12,636] Trial 12 finished with value: -0.903456 and parameters: {'max_depth': 9, 'min_child_weight': 3, 'subsample': 0.9754570370311046, 'colsample_bynode': 0.14672783827498995, 'learning_rate': 0.08954997670613858}. Best is trial 1 with value: -0.905785.\n"
     ]
    },
    {
     "name": "stderr",
     "output_type": "stream",
     "text": [
      "[I 2025-05-14 18:14:13,488] Trial 13 pruned. Trial was pruned at iteration 0.\n"
     ]
    },
    {
     "name": "stderr",
     "output_type": "stream",
     "text": [
      "[I 2025-05-14 18:14:16,898] Trial 14 pruned. Trial was pruned at iteration 8.\n"
     ]
    },
    {
     "name": "stderr",
     "output_type": "stream",
     "text": [
      "[I 2025-05-14 18:15:28,563] Trial 15 finished with value: -0.889858 and parameters: {'max_depth': 20, 'min_child_weight': 1, 'subsample': 0.6976571731485348, 'colsample_bynode': 0.2687793682900305, 'learning_rate': 0.05863083689005785}. Best is trial 1 with value: -0.905785.\n"
     ]
    },
    {
     "name": "stderr",
     "output_type": "stream",
     "text": [
      "[I 2025-05-14 18:15:29,361] Trial 16 pruned. Trial was pruned at iteration 0.\n"
     ]
    },
    {
     "name": "stderr",
     "output_type": "stream",
     "text": [
      "[I 2025-05-14 18:15:30,215] Trial 17 pruned. Trial was pruned at iteration 0.\n"
     ]
    },
    {
     "name": "stderr",
     "output_type": "stream",
     "text": [
      "[I 2025-05-14 18:15:42,653] Trial 18 pruned. Trial was pruned at iteration 29.\n"
     ]
    },
    {
     "name": "stderr",
     "output_type": "stream",
     "text": [
      "[I 2025-05-14 18:15:43,457] Trial 19 pruned. Trial was pruned at iteration 0.\n"
     ]
    },
    {
     "name": "stderr",
     "output_type": "stream",
     "text": [
      "[I 2025-05-14 18:15:54,229] Trial 20 pruned. Trial was pruned at iteration 24.\n"
     ]
    },
    {
     "name": "stderr",
     "output_type": "stream",
     "text": [
      "[I 2025-05-14 18:15:55,365] Trial 21 pruned. Trial was pruned at iteration 0.\n"
     ]
    },
    {
     "name": "stderr",
     "output_type": "stream",
     "text": [
      "[I 2025-05-14 18:16:27,441] Trial 22 finished with value: -0.910006 and parameters: {'max_depth': 8, 'min_child_weight': 19, 'subsample': 0.9099154362855527, 'colsample_bynode': 0.11829336179454893, 'learning_rate': 0.23513596055388197}. Best is trial 22 with value: -0.910006.\n"
     ]
    },
    {
     "name": "stderr",
     "output_type": "stream",
     "text": [
      "[I 2025-05-14 18:16:28,309] Trial 23 pruned. Trial was pruned at iteration 0.\n"
     ]
    },
    {
     "name": "stderr",
     "output_type": "stream",
     "text": [
      "[I 2025-05-14 18:16:30,242] Trial 24 pruned. Trial was pruned at iteration 3.\n"
     ]
    },
    {
     "name": "stderr",
     "output_type": "stream",
     "text": [
      "[I 2025-05-14 18:16:31,047] Trial 25 pruned. Trial was pruned at iteration 0.\n"
     ]
    },
    {
     "name": "stderr",
     "output_type": "stream",
     "text": [
      "[I 2025-05-14 18:17:02,507] Trial 26 finished with value: -0.910416 and parameters: {'max_depth': 8, 'min_child_weight': 24, 'subsample': 0.9084684401370251, 'colsample_bynode': 0.4573787689545735, 'learning_rate': 0.2812143103098838}. Best is trial 26 with value: -0.910416.\n"
     ]
    },
    {
     "name": "stderr",
     "output_type": "stream",
     "text": [
      "[I 2025-05-14 18:17:34,251] Trial 27 finished with value: -0.908542 and parameters: {'max_depth': 7, 'min_child_weight': 26, 'subsample': 0.8988506845392773, 'colsample_bynode': 0.438255554114852, 'learning_rate': 0.27241295144742367}. Best is trial 26 with value: -0.910416.\n"
     ]
    },
    {
     "name": "stderr",
     "output_type": "stream",
     "text": [
      "[I 2025-05-14 18:17:35,108] Trial 28 pruned. Trial was pruned at iteration 0.\n"
     ]
    },
    {
     "name": "stderr",
     "output_type": "stream",
     "text": [
      "[I 2025-05-14 18:17:35,984] Trial 29 pruned. Trial was pruned at iteration 0.\n"
     ]
    },
    {
     "name": "stderr",
     "output_type": "stream",
     "text": [
      "[I 2025-05-14 18:17:36,852] Trial 30 pruned. Trial was pruned at iteration 0.\n"
     ]
    },
    {
     "name": "stderr",
     "output_type": "stream",
     "text": [
      "[I 2025-05-14 18:17:37,970] Trial 31 pruned. Trial was pruned at iteration 1.\n"
     ]
    },
    {
     "name": "stderr",
     "output_type": "stream",
     "text": [
      "[I 2025-05-14 18:17:40,597] Trial 32 pruned. Trial was pruned at iteration 5.\n"
     ]
    },
    {
     "name": "stderr",
     "output_type": "stream",
     "text": [
      "[I 2025-05-14 18:17:41,463] Trial 33 pruned. Trial was pruned at iteration 0.\n"
     ]
    },
    {
     "name": "stderr",
     "output_type": "stream",
     "text": [
      "[I 2025-05-14 18:17:42,390] Trial 34 pruned. Trial was pruned at iteration 0.\n"
     ]
    },
    {
     "name": "stderr",
     "output_type": "stream",
     "text": [
      "[I 2025-05-14 18:17:43,225] Trial 35 pruned. Trial was pruned at iteration 0.\n"
     ]
    },
    {
     "name": "stderr",
     "output_type": "stream",
     "text": [
      "[I 2025-05-14 18:18:10,861] Trial 36 finished with value: -0.909003 and parameters: {'max_depth': 7, 'min_child_weight': 46, 'subsample': 0.768380094456328, 'colsample_bynode': 0.46347421025367597, 'learning_rate': 0.35180648284276494}. Best is trial 26 with value: -0.910416.\n"
     ]
    },
    {
     "name": "stderr",
     "output_type": "stream",
     "text": [
      "[I 2025-05-14 18:18:12,141] Trial 37 pruned. Trial was pruned at iteration 1.\n"
     ]
    },
    {
     "name": "stderr",
     "output_type": "stream",
     "text": [
      "[I 2025-05-14 18:18:13,075] Trial 38 pruned. Trial was pruned at iteration 0.\n"
     ]
    },
    {
     "name": "stderr",
     "output_type": "stream",
     "text": [
      "[I 2025-05-14 18:18:14,557] Trial 39 pruned. Trial was pruned at iteration 2.\n"
     ]
    },
    {
     "name": "stderr",
     "output_type": "stream",
     "text": [
      "[I 2025-05-14 18:18:16,129] Trial 40 pruned. Trial was pruned at iteration 2.\n"
     ]
    },
    {
     "name": "stderr",
     "output_type": "stream",
     "text": [
      "[I 2025-05-14 18:18:17,576] Trial 41 pruned. Trial was pruned at iteration 2.\n"
     ]
    },
    {
     "name": "stderr",
     "output_type": "stream",
     "text": [
      "[I 2025-05-14 18:18:18,376] Trial 42 pruned. Trial was pruned at iteration 0.\n"
     ]
    },
    {
     "name": "stderr",
     "output_type": "stream",
     "text": [
      "[I 2025-05-14 18:18:19,475] Trial 43 pruned. Trial was pruned at iteration 1.\n"
     ]
    },
    {
     "name": "stderr",
     "output_type": "stream",
     "text": [
      "[I 2025-05-14 18:18:42,799] Trial 44 finished with value: -0.906198 and parameters: {'max_depth': 7, 'min_child_weight': 13, 'subsample': 0.8748073005041662, 'colsample_bynode': 0.4700207145015336, 'learning_rate': 0.38021493309642795}. Best is trial 26 with value: -0.910416.\n"
     ]
    },
    {
     "name": "stderr",
     "output_type": "stream",
     "text": [
      "[I 2025-05-14 18:19:03,354] Trial 45 finished with value: -0.907785 and parameters: {'max_depth': 9, 'min_child_weight': 11, 'subsample': 0.6242488149791064, 'colsample_bynode': 0.4467272512322839, 'learning_rate': 0.39759397922944556}. Best is trial 26 with value: -0.910416.\n"
     ]
    },
    {
     "name": "stderr",
     "output_type": "stream",
     "text": [
      "[I 2025-05-14 18:19:04,594] Trial 46 pruned. Trial was pruned at iteration 1.\n"
     ]
    },
    {
     "name": "stderr",
     "output_type": "stream",
     "text": [
      "[I 2025-05-14 18:19:07,486] Trial 47 pruned. Trial was pruned at iteration 5.\n"
     ]
    },
    {
     "name": "stderr",
     "output_type": "stream",
     "text": [
      "[I 2025-05-14 18:19:08,403] Trial 48 pruned. Trial was pruned at iteration 0.\n"
     ]
    },
    {
     "name": "stderr",
     "output_type": "stream",
     "text": [
      "[I 2025-05-14 18:19:10,060] Trial 49 pruned. Trial was pruned at iteration 2.\n"
     ]
    }
   ],
   "source": [
    "sampler = optuna.samplers.TPESampler(seed=42)\n",
    "study = optuna.create_study(direction='minimize', sampler=sampler)\n",
    "study.optimize(objective, n_trials=N_TRIALS, gc_after_trial=True)"
   ]
  },
  {
   "cell_type": "code",
   "execution_count": 20,
   "id": "75fa3f40",
   "metadata": {
    "execution": {
     "iopub.execute_input": "2025-05-14T16:19:10.221499Z",
     "iopub.status.busy": "2025-05-14T16:19:10.220851Z",
     "iopub.status.idle": "2025-05-14T16:19:10.251030Z",
     "shell.execute_reply": "2025-05-14T16:19:10.250621Z"
    },
    "papermill": {
     "duration": 0.065047,
     "end_time": "2025-05-14T16:19:10.251916",
     "exception": false,
     "start_time": "2025-05-14T16:19:10.186869",
     "status": "completed"
    },
    "tags": []
   },
   "outputs": [
    {
     "data": {
      "text/plain": [
       "['/scratch_isilon/groups/singlecell/shared/projects/Inflammation-PBMCs-Atlas/03_downstream_analysis/08_gene_importance/xgboost_external_validation/xgboost_TopN_genes/results_20/study/Mono_shap_studyID_4_xgboost.pkl']"
      ]
     },
     "execution_count": 20,
     "metadata": {},
     "output_type": "execute_result"
    }
   ],
   "source": [
    "out_dir = here(f'03_downstream_analysis/08_gene_importance/xgboost_external_validation/xgboost_TopN_genes/results_{N_GENES}/study')\n",
    "\n",
    "if not os.path.exists(out_dir):\n",
    "    os.makedirs(out_dir)\n",
    "    \n",
    "joblib.dump(study,os.path.join(out_dir, f'{CELL_TYPE}_{SEED}_{TEST_SPLIT_IDX}_xgboost.pkl'))"
   ]
  },
  {
   "cell_type": "code",
   "execution_count": 21,
   "id": "48fefa21",
   "metadata": {
    "execution": {
     "iopub.execute_input": "2025-05-14T16:19:10.269924Z",
     "iopub.status.busy": "2025-05-14T16:19:10.269579Z",
     "iopub.status.idle": "2025-05-14T16:19:24.253930Z",
     "shell.execute_reply": "2025-05-14T16:19:24.253341Z"
    },
    "papermill": {
     "duration": 13.994411,
     "end_time": "2025-05-14T16:19:24.254922",
     "exception": false,
     "start_time": "2025-05-14T16:19:10.260511",
     "status": "completed"
    },
    "tags": []
   },
   "outputs": [
    {
     "data": {
      "text/html": [
       "<style>#sk-container-id-1 {\n",
       "  /* Definition of color scheme common for light and dark mode */\n",
       "  --sklearn-color-text: black;\n",
       "  --sklearn-color-line: gray;\n",
       "  /* Definition of color scheme for unfitted estimators */\n",
       "  --sklearn-color-unfitted-level-0: #fff5e6;\n",
       "  --sklearn-color-unfitted-level-1: #f6e4d2;\n",
       "  --sklearn-color-unfitted-level-2: #ffe0b3;\n",
       "  --sklearn-color-unfitted-level-3: chocolate;\n",
       "  /* Definition of color scheme for fitted estimators */\n",
       "  --sklearn-color-fitted-level-0: #f0f8ff;\n",
       "  --sklearn-color-fitted-level-1: #d4ebff;\n",
       "  --sklearn-color-fitted-level-2: #b3dbfd;\n",
       "  --sklearn-color-fitted-level-3: cornflowerblue;\n",
       "\n",
       "  /* Specific color for light theme */\n",
       "  --sklearn-color-text-on-default-background: var(--sg-text-color, var(--theme-code-foreground, var(--jp-content-font-color1, black)));\n",
       "  --sklearn-color-background: var(--sg-background-color, var(--theme-background, var(--jp-layout-color0, white)));\n",
       "  --sklearn-color-border-box: var(--sg-text-color, var(--theme-code-foreground, var(--jp-content-font-color1, black)));\n",
       "  --sklearn-color-icon: #696969;\n",
       "\n",
       "  @media (prefers-color-scheme: dark) {\n",
       "    /* Redefinition of color scheme for dark theme */\n",
       "    --sklearn-color-text-on-default-background: var(--sg-text-color, var(--theme-code-foreground, var(--jp-content-font-color1, white)));\n",
       "    --sklearn-color-background: var(--sg-background-color, var(--theme-background, var(--jp-layout-color0, #111)));\n",
       "    --sklearn-color-border-box: var(--sg-text-color, var(--theme-code-foreground, var(--jp-content-font-color1, white)));\n",
       "    --sklearn-color-icon: #878787;\n",
       "  }\n",
       "}\n",
       "\n",
       "#sk-container-id-1 {\n",
       "  color: var(--sklearn-color-text);\n",
       "}\n",
       "\n",
       "#sk-container-id-1 pre {\n",
       "  padding: 0;\n",
       "}\n",
       "\n",
       "#sk-container-id-1 input.sk-hidden--visually {\n",
       "  border: 0;\n",
       "  clip: rect(1px 1px 1px 1px);\n",
       "  clip: rect(1px, 1px, 1px, 1px);\n",
       "  height: 1px;\n",
       "  margin: -1px;\n",
       "  overflow: hidden;\n",
       "  padding: 0;\n",
       "  position: absolute;\n",
       "  width: 1px;\n",
       "}\n",
       "\n",
       "#sk-container-id-1 div.sk-dashed-wrapped {\n",
       "  border: 1px dashed var(--sklearn-color-line);\n",
       "  margin: 0 0.4em 0.5em 0.4em;\n",
       "  box-sizing: border-box;\n",
       "  padding-bottom: 0.4em;\n",
       "  background-color: var(--sklearn-color-background);\n",
       "}\n",
       "\n",
       "#sk-container-id-1 div.sk-container {\n",
       "  /* jupyter's `normalize.less` sets `[hidden] { display: none; }`\n",
       "     but bootstrap.min.css set `[hidden] { display: none !important; }`\n",
       "     so we also need the `!important` here to be able to override the\n",
       "     default hidden behavior on the sphinx rendered scikit-learn.org.\n",
       "     See: https://github.com/scikit-learn/scikit-learn/issues/21755 */\n",
       "  display: inline-block !important;\n",
       "  position: relative;\n",
       "}\n",
       "\n",
       "#sk-container-id-1 div.sk-text-repr-fallback {\n",
       "  display: none;\n",
       "}\n",
       "\n",
       "div.sk-parallel-item,\n",
       "div.sk-serial,\n",
       "div.sk-item {\n",
       "  /* draw centered vertical line to link estimators */\n",
       "  background-image: linear-gradient(var(--sklearn-color-text-on-default-background), var(--sklearn-color-text-on-default-background));\n",
       "  background-size: 2px 100%;\n",
       "  background-repeat: no-repeat;\n",
       "  background-position: center center;\n",
       "}\n",
       "\n",
       "/* Parallel-specific style estimator block */\n",
       "\n",
       "#sk-container-id-1 div.sk-parallel-item::after {\n",
       "  content: \"\";\n",
       "  width: 100%;\n",
       "  border-bottom: 2px solid var(--sklearn-color-text-on-default-background);\n",
       "  flex-grow: 1;\n",
       "}\n",
       "\n",
       "#sk-container-id-1 div.sk-parallel {\n",
       "  display: flex;\n",
       "  align-items: stretch;\n",
       "  justify-content: center;\n",
       "  background-color: var(--sklearn-color-background);\n",
       "  position: relative;\n",
       "}\n",
       "\n",
       "#sk-container-id-1 div.sk-parallel-item {\n",
       "  display: flex;\n",
       "  flex-direction: column;\n",
       "}\n",
       "\n",
       "#sk-container-id-1 div.sk-parallel-item:first-child::after {\n",
       "  align-self: flex-end;\n",
       "  width: 50%;\n",
       "}\n",
       "\n",
       "#sk-container-id-1 div.sk-parallel-item:last-child::after {\n",
       "  align-self: flex-start;\n",
       "  width: 50%;\n",
       "}\n",
       "\n",
       "#sk-container-id-1 div.sk-parallel-item:only-child::after {\n",
       "  width: 0;\n",
       "}\n",
       "\n",
       "/* Serial-specific style estimator block */\n",
       "\n",
       "#sk-container-id-1 div.sk-serial {\n",
       "  display: flex;\n",
       "  flex-direction: column;\n",
       "  align-items: center;\n",
       "  background-color: var(--sklearn-color-background);\n",
       "  padding-right: 1em;\n",
       "  padding-left: 1em;\n",
       "}\n",
       "\n",
       "\n",
       "/* Toggleable style: style used for estimator/Pipeline/ColumnTransformer box that is\n",
       "clickable and can be expanded/collapsed.\n",
       "- Pipeline and ColumnTransformer use this feature and define the default style\n",
       "- Estimators will overwrite some part of the style using the `sk-estimator` class\n",
       "*/\n",
       "\n",
       "/* Pipeline and ColumnTransformer style (default) */\n",
       "\n",
       "#sk-container-id-1 div.sk-toggleable {\n",
       "  /* Default theme specific background. It is overwritten whether we have a\n",
       "  specific estimator or a Pipeline/ColumnTransformer */\n",
       "  background-color: var(--sklearn-color-background);\n",
       "}\n",
       "\n",
       "/* Toggleable label */\n",
       "#sk-container-id-1 label.sk-toggleable__label {\n",
       "  cursor: pointer;\n",
       "  display: block;\n",
       "  width: 100%;\n",
       "  margin-bottom: 0;\n",
       "  padding: 0.5em;\n",
       "  box-sizing: border-box;\n",
       "  text-align: center;\n",
       "}\n",
       "\n",
       "#sk-container-id-1 label.sk-toggleable__label-arrow:before {\n",
       "  /* Arrow on the left of the label */\n",
       "  content: \"▸\";\n",
       "  float: left;\n",
       "  margin-right: 0.25em;\n",
       "  color: var(--sklearn-color-icon);\n",
       "}\n",
       "\n",
       "#sk-container-id-1 label.sk-toggleable__label-arrow:hover:before {\n",
       "  color: var(--sklearn-color-text);\n",
       "}\n",
       "\n",
       "/* Toggleable content - dropdown */\n",
       "\n",
       "#sk-container-id-1 div.sk-toggleable__content {\n",
       "  max-height: 0;\n",
       "  max-width: 0;\n",
       "  overflow: hidden;\n",
       "  text-align: left;\n",
       "  /* unfitted */\n",
       "  background-color: var(--sklearn-color-unfitted-level-0);\n",
       "}\n",
       "\n",
       "#sk-container-id-1 div.sk-toggleable__content.fitted {\n",
       "  /* fitted */\n",
       "  background-color: var(--sklearn-color-fitted-level-0);\n",
       "}\n",
       "\n",
       "#sk-container-id-1 div.sk-toggleable__content pre {\n",
       "  margin: 0.2em;\n",
       "  border-radius: 0.25em;\n",
       "  color: var(--sklearn-color-text);\n",
       "  /* unfitted */\n",
       "  background-color: var(--sklearn-color-unfitted-level-0);\n",
       "}\n",
       "\n",
       "#sk-container-id-1 div.sk-toggleable__content.fitted pre {\n",
       "  /* unfitted */\n",
       "  background-color: var(--sklearn-color-fitted-level-0);\n",
       "}\n",
       "\n",
       "#sk-container-id-1 input.sk-toggleable__control:checked~div.sk-toggleable__content {\n",
       "  /* Expand drop-down */\n",
       "  max-height: 200px;\n",
       "  max-width: 100%;\n",
       "  overflow: auto;\n",
       "}\n",
       "\n",
       "#sk-container-id-1 input.sk-toggleable__control:checked~label.sk-toggleable__label-arrow:before {\n",
       "  content: \"▾\";\n",
       "}\n",
       "\n",
       "/* Pipeline/ColumnTransformer-specific style */\n",
       "\n",
       "#sk-container-id-1 div.sk-label input.sk-toggleable__control:checked~label.sk-toggleable__label {\n",
       "  color: var(--sklearn-color-text);\n",
       "  background-color: var(--sklearn-color-unfitted-level-2);\n",
       "}\n",
       "\n",
       "#sk-container-id-1 div.sk-label.fitted input.sk-toggleable__control:checked~label.sk-toggleable__label {\n",
       "  background-color: var(--sklearn-color-fitted-level-2);\n",
       "}\n",
       "\n",
       "/* Estimator-specific style */\n",
       "\n",
       "/* Colorize estimator box */\n",
       "#sk-container-id-1 div.sk-estimator input.sk-toggleable__control:checked~label.sk-toggleable__label {\n",
       "  /* unfitted */\n",
       "  background-color: var(--sklearn-color-unfitted-level-2);\n",
       "}\n",
       "\n",
       "#sk-container-id-1 div.sk-estimator.fitted input.sk-toggleable__control:checked~label.sk-toggleable__label {\n",
       "  /* fitted */\n",
       "  background-color: var(--sklearn-color-fitted-level-2);\n",
       "}\n",
       "\n",
       "#sk-container-id-1 div.sk-label label.sk-toggleable__label,\n",
       "#sk-container-id-1 div.sk-label label {\n",
       "  /* The background is the default theme color */\n",
       "  color: var(--sklearn-color-text-on-default-background);\n",
       "}\n",
       "\n",
       "/* On hover, darken the color of the background */\n",
       "#sk-container-id-1 div.sk-label:hover label.sk-toggleable__label {\n",
       "  color: var(--sklearn-color-text);\n",
       "  background-color: var(--sklearn-color-unfitted-level-2);\n",
       "}\n",
       "\n",
       "/* Label box, darken color on hover, fitted */\n",
       "#sk-container-id-1 div.sk-label.fitted:hover label.sk-toggleable__label.fitted {\n",
       "  color: var(--sklearn-color-text);\n",
       "  background-color: var(--sklearn-color-fitted-level-2);\n",
       "}\n",
       "\n",
       "/* Estimator label */\n",
       "\n",
       "#sk-container-id-1 div.sk-label label {\n",
       "  font-family: monospace;\n",
       "  font-weight: bold;\n",
       "  display: inline-block;\n",
       "  line-height: 1.2em;\n",
       "}\n",
       "\n",
       "#sk-container-id-1 div.sk-label-container {\n",
       "  text-align: center;\n",
       "}\n",
       "\n",
       "/* Estimator-specific */\n",
       "#sk-container-id-1 div.sk-estimator {\n",
       "  font-family: monospace;\n",
       "  border: 1px dotted var(--sklearn-color-border-box);\n",
       "  border-radius: 0.25em;\n",
       "  box-sizing: border-box;\n",
       "  margin-bottom: 0.5em;\n",
       "  /* unfitted */\n",
       "  background-color: var(--sklearn-color-unfitted-level-0);\n",
       "}\n",
       "\n",
       "#sk-container-id-1 div.sk-estimator.fitted {\n",
       "  /* fitted */\n",
       "  background-color: var(--sklearn-color-fitted-level-0);\n",
       "}\n",
       "\n",
       "/* on hover */\n",
       "#sk-container-id-1 div.sk-estimator:hover {\n",
       "  /* unfitted */\n",
       "  background-color: var(--sklearn-color-unfitted-level-2);\n",
       "}\n",
       "\n",
       "#sk-container-id-1 div.sk-estimator.fitted:hover {\n",
       "  /* fitted */\n",
       "  background-color: var(--sklearn-color-fitted-level-2);\n",
       "}\n",
       "\n",
       "/* Specification for estimator info (e.g. \"i\" and \"?\") */\n",
       "\n",
       "/* Common style for \"i\" and \"?\" */\n",
       "\n",
       ".sk-estimator-doc-link,\n",
       "a:link.sk-estimator-doc-link,\n",
       "a:visited.sk-estimator-doc-link {\n",
       "  float: right;\n",
       "  font-size: smaller;\n",
       "  line-height: 1em;\n",
       "  font-family: monospace;\n",
       "  background-color: var(--sklearn-color-background);\n",
       "  border-radius: 1em;\n",
       "  height: 1em;\n",
       "  width: 1em;\n",
       "  text-decoration: none !important;\n",
       "  margin-left: 1ex;\n",
       "  /* unfitted */\n",
       "  border: var(--sklearn-color-unfitted-level-1) 1pt solid;\n",
       "  color: var(--sklearn-color-unfitted-level-1);\n",
       "}\n",
       "\n",
       ".sk-estimator-doc-link.fitted,\n",
       "a:link.sk-estimator-doc-link.fitted,\n",
       "a:visited.sk-estimator-doc-link.fitted {\n",
       "  /* fitted */\n",
       "  border: var(--sklearn-color-fitted-level-1) 1pt solid;\n",
       "  color: var(--sklearn-color-fitted-level-1);\n",
       "}\n",
       "\n",
       "/* On hover */\n",
       "div.sk-estimator:hover .sk-estimator-doc-link:hover,\n",
       ".sk-estimator-doc-link:hover,\n",
       "div.sk-label-container:hover .sk-estimator-doc-link:hover,\n",
       ".sk-estimator-doc-link:hover {\n",
       "  /* unfitted */\n",
       "  background-color: var(--sklearn-color-unfitted-level-3);\n",
       "  color: var(--sklearn-color-background);\n",
       "  text-decoration: none;\n",
       "}\n",
       "\n",
       "div.sk-estimator.fitted:hover .sk-estimator-doc-link.fitted:hover,\n",
       ".sk-estimator-doc-link.fitted:hover,\n",
       "div.sk-label-container:hover .sk-estimator-doc-link.fitted:hover,\n",
       ".sk-estimator-doc-link.fitted:hover {\n",
       "  /* fitted */\n",
       "  background-color: var(--sklearn-color-fitted-level-3);\n",
       "  color: var(--sklearn-color-background);\n",
       "  text-decoration: none;\n",
       "}\n",
       "\n",
       "/* Span, style for the box shown on hovering the info icon */\n",
       ".sk-estimator-doc-link span {\n",
       "  display: none;\n",
       "  z-index: 9999;\n",
       "  position: relative;\n",
       "  font-weight: normal;\n",
       "  right: .2ex;\n",
       "  padding: .5ex;\n",
       "  margin: .5ex;\n",
       "  width: min-content;\n",
       "  min-width: 20ex;\n",
       "  max-width: 50ex;\n",
       "  color: var(--sklearn-color-text);\n",
       "  box-shadow: 2pt 2pt 4pt #999;\n",
       "  /* unfitted */\n",
       "  background: var(--sklearn-color-unfitted-level-0);\n",
       "  border: .5pt solid var(--sklearn-color-unfitted-level-3);\n",
       "}\n",
       "\n",
       ".sk-estimator-doc-link.fitted span {\n",
       "  /* fitted */\n",
       "  background: var(--sklearn-color-fitted-level-0);\n",
       "  border: var(--sklearn-color-fitted-level-3);\n",
       "}\n",
       "\n",
       ".sk-estimator-doc-link:hover span {\n",
       "  display: block;\n",
       "}\n",
       "\n",
       "/* \"?\"-specific style due to the `<a>` HTML tag */\n",
       "\n",
       "#sk-container-id-1 a.estimator_doc_link {\n",
       "  float: right;\n",
       "  font-size: 1rem;\n",
       "  line-height: 1em;\n",
       "  font-family: monospace;\n",
       "  background-color: var(--sklearn-color-background);\n",
       "  border-radius: 1rem;\n",
       "  height: 1rem;\n",
       "  width: 1rem;\n",
       "  text-decoration: none;\n",
       "  /* unfitted */\n",
       "  color: var(--sklearn-color-unfitted-level-1);\n",
       "  border: var(--sklearn-color-unfitted-level-1) 1pt solid;\n",
       "}\n",
       "\n",
       "#sk-container-id-1 a.estimator_doc_link.fitted {\n",
       "  /* fitted */\n",
       "  border: var(--sklearn-color-fitted-level-1) 1pt solid;\n",
       "  color: var(--sklearn-color-fitted-level-1);\n",
       "}\n",
       "\n",
       "/* On hover */\n",
       "#sk-container-id-1 a.estimator_doc_link:hover {\n",
       "  /* unfitted */\n",
       "  background-color: var(--sklearn-color-unfitted-level-3);\n",
       "  color: var(--sklearn-color-background);\n",
       "  text-decoration: none;\n",
       "}\n",
       "\n",
       "#sk-container-id-1 a.estimator_doc_link.fitted:hover {\n",
       "  /* fitted */\n",
       "  background-color: var(--sklearn-color-fitted-level-3);\n",
       "}\n",
       "</style><div id=\"sk-container-id-1\" class=\"sk-top-container\"><div class=\"sk-text-repr-fallback\"><pre>XGBClassifier(base_score=None, booster=None, callbacks=None,\n",
       "              colsample_bylevel=None, colsample_bynode=0.4573787689545735,\n",
       "              colsample_bytree=None, device=None, early_stopping_rounds=None,\n",
       "              enable_categorical=False,\n",
       "              eval_metric=&lt;function custom_f1_score at 0x7f490e3845e0&gt;,\n",
       "              feature_types=None, gamma=None, grow_policy=None,\n",
       "              importance_type=None, interaction_constraints=None,\n",
       "              learning_rate=0.2812143103098838, max_bin=None,\n",
       "              max_cat_threshold=None, max_cat_to_onehot=None,\n",
       "              max_delta_step=None, max_depth=8, max_leaves=None,\n",
       "              min_child_weight=24, missing=nan, monotone_constraints=None,\n",
       "              multi_strategy=None, n_estimators=90, n_jobs=None,\n",
       "              num_parallel_tree=None, objective=&#x27;multi:softprob&#x27;, ...)</pre><b>In a Jupyter environment, please rerun this cell to show the HTML representation or trust the notebook. <br />On GitHub, the HTML representation is unable to render, please try loading this page with nbviewer.org.</b></div><div class=\"sk-container\" hidden><div class=\"sk-item\"><div class=\"sk-estimator fitted sk-toggleable\"><input class=\"sk-toggleable__control sk-hidden--visually\" id=\"sk-estimator-id-1\" type=\"checkbox\" checked><label for=\"sk-estimator-id-1\" class=\"sk-toggleable__label fitted sk-toggleable__label-arrow fitted\">&nbsp;XGBClassifier<span class=\"sk-estimator-doc-link fitted\">i<span>Fitted</span></span></label><div class=\"sk-toggleable__content fitted\"><pre>XGBClassifier(base_score=None, booster=None, callbacks=None,\n",
       "              colsample_bylevel=None, colsample_bynode=0.4573787689545735,\n",
       "              colsample_bytree=None, device=None, early_stopping_rounds=None,\n",
       "              enable_categorical=False,\n",
       "              eval_metric=&lt;function custom_f1_score at 0x7f490e3845e0&gt;,\n",
       "              feature_types=None, gamma=None, grow_policy=None,\n",
       "              importance_type=None, interaction_constraints=None,\n",
       "              learning_rate=0.2812143103098838, max_bin=None,\n",
       "              max_cat_threshold=None, max_cat_to_onehot=None,\n",
       "              max_delta_step=None, max_depth=8, max_leaves=None,\n",
       "              min_child_weight=24, missing=nan, monotone_constraints=None,\n",
       "              multi_strategy=None, n_estimators=90, n_jobs=None,\n",
       "              num_parallel_tree=None, objective=&#x27;multi:softprob&#x27;, ...)</pre></div> </div></div></div></div>"
      ],
      "text/plain": [
       "XGBClassifier(base_score=None, booster=None, callbacks=None,\n",
       "              colsample_bylevel=None, colsample_bynode=0.4573787689545735,\n",
       "              colsample_bytree=None, device=None, early_stopping_rounds=None,\n",
       "              enable_categorical=False,\n",
       "              eval_metric=<function custom_f1_score at 0x7f490e3845e0>,\n",
       "              feature_types=None, gamma=None, grow_policy=None,\n",
       "              importance_type=None, interaction_constraints=None,\n",
       "              learning_rate=0.2812143103098838, max_bin=None,\n",
       "              max_cat_threshold=None, max_cat_to_onehot=None,\n",
       "              max_delta_step=None, max_depth=8, max_leaves=None,\n",
       "              min_child_weight=24, missing=nan, monotone_constraints=None,\n",
       "              multi_strategy=None, n_estimators=90, n_jobs=None,\n",
       "              num_parallel_tree=None, objective='multi:softprob', ...)"
      ]
     },
     "execution_count": 21,
     "metadata": {},
     "output_type": "execute_result"
    }
   ],
   "source": [
    "n_estimators = int(study.best_trial.user_attrs['best_iteration']*1.2)\n",
    "xgb = xgboost.XGBClassifier(\n",
    "        eval_metric=eval_metric,\n",
    "        n_estimators=n_estimators,\n",
    "        **study.best_trial.params\n",
    "    )\n",
    "xgb.fit(\n",
    "    ssp.vstack((X_train, X_val)), \n",
    "    np.concatenate((y_train_enc, y_val_enc)),\n",
    "    verbose=1,\n",
    ")"
   ]
  },
  {
   "cell_type": "code",
   "execution_count": 22,
   "id": "ef1f4448",
   "metadata": {
    "execution": {
     "iopub.execute_input": "2025-05-14T16:19:24.278017Z",
     "iopub.status.busy": "2025-05-14T16:19:24.276936Z",
     "iopub.status.idle": "2025-05-14T16:19:24.357808Z",
     "shell.execute_reply": "2025-05-14T16:19:24.357444Z"
    },
    "papermill": {
     "duration": 0.093596,
     "end_time": "2025-05-14T16:19:24.358646",
     "exception": false,
     "start_time": "2025-05-14T16:19:24.265050",
     "status": "completed"
    },
    "tags": []
   },
   "outputs": [
    {
     "data": {
      "text/plain": [
       "['/scratch_isilon/groups/singlecell/shared/projects/Inflammation-PBMCs-Atlas/03_downstream_analysis/08_gene_importance/xgboost_external_validation/xgboost_TopN_genes/results_20/best_model/Mono_shap_studyID_4_xgb.json']"
      ]
     },
     "execution_count": 22,
     "metadata": {},
     "output_type": "execute_result"
    }
   ],
   "source": [
    "out_dir = here(f'03_downstream_analysis/08_gene_importance/xgboost_external_validation/xgboost_TopN_genes/results_{N_GENES}/best_model')\n",
    "\n",
    "if not os.path.exists(out_dir):\n",
    "    os.makedirs(out_dir)\n",
    "    \n",
    "joblib.dump(xgb, os.path.join(out_dir, f'{CELL_TYPE}_{SEED}_{TEST_SPLIT_IDX}_xgb.json'))"
   ]
  },
  {
   "cell_type": "code",
   "execution_count": 23,
   "id": "58ac4b6d",
   "metadata": {
    "execution": {
     "iopub.execute_input": "2025-05-14T16:19:24.389229Z",
     "iopub.status.busy": "2025-05-14T16:19:24.388536Z",
     "iopub.status.idle": "2025-05-14T16:19:24.826127Z",
     "shell.execute_reply": "2025-05-14T16:19:24.825646Z"
    },
    "papermill": {
     "duration": 0.459807,
     "end_time": "2025-05-14T16:19:24.827609",
     "exception": false,
     "start_time": "2025-05-14T16:19:24.367802",
     "status": "completed"
    },
    "tags": []
   },
   "outputs": [],
   "source": [
    "df_pred_test = pd.DataFrame(dict(\n",
    "    cell_id=train_adata.obs.iloc[test_idxs].index.values,\n",
    "    y_true=y_test, \n",
    "    y_true_code=y_test_enc, \n",
    "    y_pred=xgb.predict(X_test))).set_index('cell_id')"
   ]
  },
  {
   "cell_type": "code",
   "execution_count": 24,
   "id": "d5ef378c",
   "metadata": {
    "execution": {
     "iopub.execute_input": "2025-05-14T16:19:24.870568Z",
     "iopub.status.busy": "2025-05-14T16:19:24.870270Z",
     "iopub.status.idle": "2025-05-14T16:19:25.032735Z",
     "shell.execute_reply": "2025-05-14T16:19:25.032213Z"
    },
    "papermill": {
     "duration": 0.19663,
     "end_time": "2025-05-14T16:19:25.033629",
     "exception": false,
     "start_time": "2025-05-14T16:19:24.836999",
     "status": "completed"
    },
    "tags": []
   },
   "outputs": [],
   "source": [
    "out_dir = here(f'03_downstream_analysis/08_gene_importance/xgboost_external_validation/xgboost_TopN_genes/results_{N_GENES}/predictions')\n",
    "\n",
    "if not os.path.exists(out_dir):\n",
    "    os.makedirs(out_dir)\n",
    "    \n",
    "df_pred_test.to_csv(os.path.join(out_dir, f'{CELL_TYPE}_{SEED}_{TEST_SPLIT_IDX}_pred_test.zip'))"
   ]
  },
  {
   "cell_type": "code",
   "execution_count": 25,
   "id": "de8e34d8",
   "metadata": {
    "execution": {
     "iopub.execute_input": "2025-05-14T16:19:25.053648Z",
     "iopub.status.busy": "2025-05-14T16:19:25.053317Z",
     "iopub.status.idle": "2025-05-14T16:19:25.071534Z",
     "shell.execute_reply": "2025-05-14T16:19:25.071146Z"
    },
    "papermill": {
     "duration": 0.028722,
     "end_time": "2025-05-14T16:19:25.072375",
     "exception": false,
     "start_time": "2025-05-14T16:19:25.043653",
     "status": "completed"
    },
    "tags": []
   },
   "outputs": [],
   "source": [
    "metrics_dict = dict(\n",
    "    BAS=balanced_accuracy_score(y_true=df_pred_test.y_true_code, y_pred=df_pred_test.y_pred), WF1=f1_score(y_true=df_pred_test.y_true_code, y_pred=df_pred_test.y_pred,average='weighted'))"
   ]
  },
  {
   "cell_type": "code",
   "execution_count": 26,
   "id": "f36e2762",
   "metadata": {
    "execution": {
     "iopub.execute_input": "2025-05-14T16:19:25.094622Z",
     "iopub.status.busy": "2025-05-14T16:19:25.094247Z",
     "iopub.status.idle": "2025-05-14T16:19:25.097272Z",
     "shell.execute_reply": "2025-05-14T16:19:25.096967Z"
    },
    "papermill": {
     "duration": 0.016445,
     "end_time": "2025-05-14T16:19:25.098094",
     "exception": false,
     "start_time": "2025-05-14T16:19:25.081649",
     "status": "completed"
    },
    "tags": []
   },
   "outputs": [
    {
     "data": {
      "text/plain": [
       "{'BAS': 0.571931107239827, 'WF1': 0.730169654237309}"
      ]
     },
     "execution_count": 26,
     "metadata": {},
     "output_type": "execute_result"
    }
   ],
   "source": [
    "metrics_dict"
   ]
  },
  {
   "cell_type": "code",
   "execution_count": 27,
   "id": "fb977d20",
   "metadata": {
    "execution": {
     "iopub.execute_input": "2025-05-14T16:19:25.117863Z",
     "iopub.status.busy": "2025-05-14T16:19:25.117662Z",
     "iopub.status.idle": "2025-05-14T16:19:25.126494Z",
     "shell.execute_reply": "2025-05-14T16:19:25.126184Z"
    },
    "papermill": {
     "duration": 0.019225,
     "end_time": "2025-05-14T16:19:25.127332",
     "exception": false,
     "start_time": "2025-05-14T16:19:25.108107",
     "status": "completed"
    },
    "tags": []
   },
   "outputs": [
    {
     "data": {
      "text/html": [
       "<div>\n",
       "<style scoped>\n",
       "    .dataframe tbody tr th:only-of-type {\n",
       "        vertical-align: middle;\n",
       "    }\n",
       "\n",
       "    .dataframe tbody tr th {\n",
       "        vertical-align: top;\n",
       "    }\n",
       "\n",
       "    .dataframe thead th {\n",
       "        text-align: right;\n",
       "    }\n",
       "</style>\n",
       "<table border=\"1\" class=\"dataframe\">\n",
       "  <thead>\n",
       "    <tr style=\"text-align: right;\">\n",
       "      <th></th>\n",
       "      <th>BAS</th>\n",
       "      <th>WF1</th>\n",
       "      <th>split_idx</th>\n",
       "      <th>gene_set_seed</th>\n",
       "      <th>cell_type</th>\n",
       "    </tr>\n",
       "  </thead>\n",
       "  <tbody>\n",
       "    <tr>\n",
       "      <th>0</th>\n",
       "      <td>0.571931</td>\n",
       "      <td>0.73017</td>\n",
       "      <td>4</td>\n",
       "      <td>shap_studyID</td>\n",
       "      <td>Mono</td>\n",
       "    </tr>\n",
       "  </tbody>\n",
       "</table>\n",
       "</div>"
      ],
      "text/plain": [
       "        BAS      WF1  split_idx gene_set_seed cell_type\n",
       "0  0.571931  0.73017          4  shap_studyID      Mono"
      ]
     },
     "execution_count": 27,
     "metadata": {},
     "output_type": "execute_result"
    }
   ],
   "source": [
    "metrics_df = pd.DataFrame.from_dict([metrics_dict]).assign(split_idx=TEST_SPLIT_IDX, gene_set_seed=SEED, cell_type=CELL_TYPE)\n",
    "metrics_df"
   ]
  },
  {
   "cell_type": "code",
   "execution_count": 28,
   "id": "5396e3c9",
   "metadata": {
    "execution": {
     "iopub.execute_input": "2025-05-14T16:19:25.146858Z",
     "iopub.status.busy": "2025-05-14T16:19:25.146367Z",
     "iopub.status.idle": "2025-05-14T16:19:25.155507Z",
     "shell.execute_reply": "2025-05-14T16:19:25.155127Z"
    },
    "papermill": {
     "duration": 0.019829,
     "end_time": "2025-05-14T16:19:25.156327",
     "exception": false,
     "start_time": "2025-05-14T16:19:25.136498",
     "status": "completed"
    },
    "tags": []
   },
   "outputs": [],
   "source": [
    "out_dir = here(f'03_downstream_analysis/08_gene_importance/xgboost_external_validation/xgboost_TopN_genes/results_{N_GENES}/metrics')\n",
    "\n",
    "if not os.path.exists(out_dir):\n",
    "    os.makedirs(out_dir)\n",
    "    \n",
    "metrics_df.to_csv(os.path.join(out_dir, f'{CELL_TYPE}_{SEED}_{TEST_SPLIT_IDX}_metrics.zip'))"
   ]
  }
 ],
 "metadata": {
  "kernelspec": {
   "display_name": "Python 3 (ipykernel)",
   "language": "python",
   "name": "python3"
  },
  "language_info": {
   "codemirror_mode": {
    "name": "ipython",
    "version": 3
   },
   "file_extension": ".py",
   "mimetype": "text/x-python",
   "name": "python",
   "nbconvert_exporter": "python",
   "pygments_lexer": "ipython3",
   "version": "3.12.5"
  },
  "papermill": {
   "default_parameters": {},
   "duration": 726.6985,
   "end_time": "2025-05-14T16:19:25.885361",
   "environment_variables": {},
   "exception": null,
   "input_path": "02_xgboost_fitting_external_20genes.ipynb",
   "output_path": "results_20/executed_notebooks/xgboost_fitting_external_CT_Mono_GS_shap_studyID_seed4.ipynb",
   "parameters": {
    "CELL_TYPE": "Mono",
    "SEED": "shap_studyID",
    "TEST_SPLIT_IDX": 4
   },
   "start_time": "2025-05-14T16:07:19.186861",
   "version": "2.6.0"
  }
 },
 "nbformat": 4,
 "nbformat_minor": 5
}