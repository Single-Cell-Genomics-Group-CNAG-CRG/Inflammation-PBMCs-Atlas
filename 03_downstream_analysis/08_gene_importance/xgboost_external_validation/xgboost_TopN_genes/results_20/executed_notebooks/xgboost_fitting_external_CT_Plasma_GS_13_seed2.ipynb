{
 "cells": [
  {
   "cell_type": "code",
   "execution_count": 1,
   "id": "49ede456",
   "metadata": {
    "editable": true,
    "execution": {
     "iopub.execute_input": "2025-05-15T16:15:44.150590Z",
     "iopub.status.busy": "2025-05-15T16:15:44.150362Z",
     "iopub.status.idle": "2025-05-15T16:15:44.153361Z",
     "shell.execute_reply": "2025-05-15T16:15:44.152995Z"
    },
    "papermill": {
     "duration": 0.013859,
     "end_time": "2025-05-15T16:15:44.154321",
     "exception": false,
     "start_time": "2025-05-15T16:15:44.140462",
     "status": "completed"
    },
    "slideshow": {
     "slide_type": ""
    },
    "tags": [
     "parameters"
    ]
   },
   "outputs": [],
   "source": [
    "CELL_TYPE = 'pDC'\n",
    "N_GENES: int = 20\n",
    "SEED = 'shap_studyID' #'disease_NOstudy' 'study_NOdisease' or 'int' or 'shap_studyID'\n",
    "TEST_SPLIT_IDX: int = 1 #[0,4]"
   ]
  },
  {
   "cell_type": "code",
   "execution_count": 2,
   "id": "159672f7",
   "metadata": {
    "execution": {
     "iopub.execute_input": "2025-05-15T16:15:44.166659Z",
     "iopub.status.busy": "2025-05-15T16:15:44.166149Z",
     "iopub.status.idle": "2025-05-15T16:15:44.168624Z",
     "shell.execute_reply": "2025-05-15T16:15:44.168288Z"
    },
    "papermill": {
     "duration": 0.009462,
     "end_time": "2025-05-15T16:15:44.169554",
     "exception": false,
     "start_time": "2025-05-15T16:15:44.160092",
     "status": "completed"
    },
    "tags": [
     "injected-parameters"
    ]
   },
   "outputs": [],
   "source": [
    "# Parameters\n",
    "CELL_TYPE = \"Plasma\"\n",
    "SEED = 13\n",
    "TEST_SPLIT_IDX = 2\n"
   ]
  },
  {
   "cell_type": "code",
   "execution_count": 3,
   "id": "99e30d62",
   "metadata": {
    "execution": {
     "iopub.execute_input": "2025-05-15T16:15:44.180987Z",
     "iopub.status.busy": "2025-05-15T16:15:44.180778Z",
     "iopub.status.idle": "2025-05-15T16:15:44.183674Z",
     "shell.execute_reply": "2025-05-15T16:15:44.183336Z"
    },
    "papermill": {
     "duration": 0.009645,
     "end_time": "2025-05-15T16:15:44.184622",
     "exception": false,
     "start_time": "2025-05-15T16:15:44.174977",
     "status": "completed"
    },
    "tags": []
   },
   "outputs": [],
   "source": [
    "N_SPLITS: int = 5\n",
    "N_TRIALS: int = 50"
   ]
  },
  {
   "cell_type": "code",
   "execution_count": 4,
   "id": "fa826c05",
   "metadata": {
    "execution": {
     "iopub.execute_input": "2025-05-15T16:15:44.197018Z",
     "iopub.status.busy": "2025-05-15T16:15:44.196804Z",
     "iopub.status.idle": "2025-05-15T16:15:46.042576Z",
     "shell.execute_reply": "2025-05-15T16:15:46.042059Z"
    },
    "papermill": {
     "duration": 1.854032,
     "end_time": "2025-05-15T16:15:46.044062",
     "exception": false,
     "start_time": "2025-05-15T16:15:44.190030",
     "status": "completed"
    },
    "tags": []
   },
   "outputs": [],
   "source": [
    "import os\n",
    "import sys\n",
    "from pyprojroot.here import here\n",
    "import pandas as pd\n",
    "import anndata as ad\n",
    "import numpy as np\n",
    "import math\n",
    "from sklearn.model_selection import StratifiedGroupKFold\n",
    "from sklearn.preprocessing import LabelEncoder\n",
    "from sklearn.metrics import f1_score\n",
    "import matplotlib.pyplot as plt\n",
    "import seaborn as sns\n",
    "from itertools import product\n",
    "from sklearn.metrics import balanced_accuracy_score, f1_score\n",
    "import optuna\n",
    "\n",
    "import joblib\n",
    "import pickle\n",
    "import datetime\n",
    "\n",
    "import collections\n",
    "\n",
    "import xgboost\n",
    "from sklearn.preprocessing import LabelEncoder\n",
    "\n",
    "import scipy.sparse as ssp\n",
    "import joblib\n",
    "\n",
    "from dotenv import load_dotenv"
   ]
  },
  {
   "cell_type": "code",
   "execution_count": 5,
   "id": "3c2893d6",
   "metadata": {
    "execution": {
     "iopub.execute_input": "2025-05-15T16:15:46.058653Z",
     "iopub.status.busy": "2025-05-15T16:15:46.058255Z",
     "iopub.status.idle": "2025-05-15T16:15:46.066025Z",
     "shell.execute_reply": "2025-05-15T16:15:46.065518Z"
    },
    "papermill": {
     "duration": 0.015487,
     "end_time": "2025-05-15T16:15:46.067134",
     "exception": false,
     "start_time": "2025-05-15T16:15:46.051647",
     "status": "completed"
    },
    "tags": []
   },
   "outputs": [
    {
     "data": {
      "text/plain": [
       "True"
      ]
     },
     "execution_count": 5,
     "metadata": {},
     "output_type": "execute_result"
    }
   ],
   "source": [
    "load_dotenv()"
   ]
  },
  {
   "cell_type": "markdown",
   "id": "4264c744",
   "metadata": {
    "papermill": {
     "duration": 0.006514,
     "end_time": "2025-05-15T16:15:46.079885",
     "exception": false,
     "start_time": "2025-05-15T16:15:46.073371",
     "status": "completed"
    },
    "tags": []
   },
   "source": [
    "# LOAD DATASET"
   ]
  },
  {
   "cell_type": "code",
   "execution_count": 6,
   "id": "890122c9",
   "metadata": {
    "execution": {
     "iopub.execute_input": "2025-05-15T16:15:46.092686Z",
     "iopub.status.busy": "2025-05-15T16:15:46.092475Z",
     "iopub.status.idle": "2025-05-15T16:15:46.138199Z",
     "shell.execute_reply": "2025-05-15T16:15:46.137790Z"
    },
    "papermill": {
     "duration": 0.053367,
     "end_time": "2025-05-15T16:15:46.139369",
     "exception": false,
     "start_time": "2025-05-15T16:15:46.086002",
     "status": "completed"
    },
    "tags": []
   },
   "outputs": [],
   "source": [
    "train_adata = ad.read_h5ad(\n",
    "    here(f'03_downstream_analysis/08_gene_importance/xgboost_external_validation/xgboost_TopN_genes/data_cellTypes/EXTERNAL_{CELL_TYPE}.filtered.log1p.h5ad')\n",
    ")"
   ]
  },
  {
   "cell_type": "code",
   "execution_count": 7,
   "id": "a2a0394f",
   "metadata": {
    "execution": {
     "iopub.execute_input": "2025-05-15T16:15:46.152243Z",
     "iopub.status.busy": "2025-05-15T16:15:46.151996Z",
     "iopub.status.idle": "2025-05-15T16:15:46.163233Z",
     "shell.execute_reply": "2025-05-15T16:15:46.162869Z"
    },
    "papermill": {
     "duration": 0.018437,
     "end_time": "2025-05-15T16:15:46.164159",
     "exception": false,
     "start_time": "2025-05-15T16:15:46.145722",
     "status": "completed"
    },
    "tags": []
   },
   "outputs": [
    {
     "name": "stdout",
     "output_type": "stream",
     "text": [
      "['ENSG00000235162' 'ENSG00000110324' 'ENSG00000133639' 'ENSG00000115523'\n",
      " 'ENSG00000158769' 'ENSG00000158517' 'ENSG00000204257' 'ENSG00000147168'\n",
      " 'ENSG00000145220' 'ENSG00000068831' 'ENSG00000100292' 'ENSG00000006125'\n",
      " 'ENSG00000172349' 'ENSG00000186010' 'ENSG00000179094' 'ENSG00000242616'\n",
      " 'ENSG00000143110' 'ENSG00000105374' 'ENSG00000065978' 'ENSG00000155368'\n",
      " 'ENSG00000146457' 'ENSG00000156411' 'ENSG00000168811' 'ENSG00000162772'\n",
      " 'ENSG00000111716' 'ENSG00000179295' 'ENSG00000116171' 'ENSG00000170458'\n",
      " 'ENSG00000118640' 'ENSG00000162704' 'ENSG00000075785' 'ENSG00000188313'\n",
      " 'ENSG00000168894' 'ENSG00000204287' 'ENSG00000122705' 'ENSG00000120738'\n",
      " 'ENSG00000137965' 'ENSG00000164543' 'ENSG00000081059' 'ENSG00000018280'\n",
      " 'ENSG00000164307' 'ENSG00000242574' 'ENSG00000089280' 'ENSG00000107485'\n",
      " 'ENSG00000197746' 'ENSG00000197471' 'ENSG00000118260' 'ENSG00000142208'\n",
      " 'ENSG00000241837' 'ENSG00000170581' 'ENSG00000231925' 'ENSG00000160932'\n",
      " 'ENSG00000106367' 'ENSG00000160712' 'ENSG00000163660' 'ENSG00000131143'\n",
      " 'ENSG00000198846' 'ENSG00000132432' 'ENSG00000100450' 'ENSG00000185591'\n",
      " 'ENSG00000123268' 'ENSG00000171476' 'ENSG00000158869' 'ENSG00000197111'\n",
      " 'ENSG00000175354' 'ENSG00000166888' 'ENSG00000145850' 'ENSG00000159958'\n",
      " 'ENSG00000163563' 'ENSG00000002549' 'ENSG00000135720' 'ENSG00000131788'\n",
      " 'ENSG00000162739' 'ENSG00000104904' 'ENSG00000204592' 'ENSG00000184007'\n",
      " 'ENSG00000155380' 'ENSG00000137100' 'ENSG00000158050' 'ENSG00000275302'\n",
      " 'ENSG00000120742' 'ENSG00000168610' 'ENSG00000115073' 'ENSG00000127022'\n",
      " 'ENSG00000092820' 'ENSG00000138160' 'ENSG00000091409' 'ENSG00000089327'\n",
      " 'ENSG00000228474' 'ENSG00000048462' 'ENSG00000171700' 'ENSG00000104964'\n",
      " 'ENSG00000134352' 'ENSG00000197872' 'ENSG00000164308' 'ENSG00000205542'\n",
      " 'ENSG00000108561' 'ENSG00000138674' 'ENSG00000171223' 'ENSG00000038427'\n",
      " 'ENSG00000163191' 'ENSG00000182287' 'ENSG00000138778' 'ENSG00000182866'\n",
      " 'ENSG00000141526' 'ENSG00000197956' 'ENSG00000113615']\n"
     ]
    }
   ],
   "source": [
    "if SEED != 'all':\n",
    "    gene_subset = np.load(here(f'03_downstream_analysis/08_gene_importance/xgboost_external_validation/shap_gene_selection/gene_subsets_{N_GENES}/{CELL_TYPE}_{SEED}.npy'), allow_pickle=True)\n",
    "    train_adata = train_adata[:,gene_subset]\n",
    "    print(gene_subset)\n",
    "elif SEED == 'all':\n",
    "    print('Using all genes')\n",
    "else:\n",
    "    raise ValueError()"
   ]
  },
  {
   "cell_type": "code",
   "execution_count": 8,
   "id": "cab0dbb9",
   "metadata": {
    "execution": {
     "iopub.execute_input": "2025-05-15T16:15:46.177030Z",
     "iopub.status.busy": "2025-05-15T16:15:46.176814Z",
     "iopub.status.idle": "2025-05-15T16:15:46.180061Z",
     "shell.execute_reply": "2025-05-15T16:15:46.179691Z"
    },
    "papermill": {
     "duration": 0.010498,
     "end_time": "2025-05-15T16:15:46.181003",
     "exception": false,
     "start_time": "2025-05-15T16:15:46.170505",
     "status": "completed"
    },
    "tags": []
   },
   "outputs": [
    {
     "data": {
      "text/plain": [
       "(542, 107)"
      ]
     },
     "execution_count": 8,
     "metadata": {},
     "output_type": "execute_result"
    }
   ],
   "source": [
    "train_adata.shape"
   ]
  },
  {
   "cell_type": "code",
   "execution_count": 9,
   "id": "1745ca3f",
   "metadata": {
    "execution": {
     "iopub.execute_input": "2025-05-15T16:15:46.193524Z",
     "iopub.status.busy": "2025-05-15T16:15:46.193278Z",
     "iopub.status.idle": "2025-05-15T16:15:46.197229Z",
     "shell.execute_reply": "2025-05-15T16:15:46.196877Z"
    },
    "papermill": {
     "duration": 0.011154,
     "end_time": "2025-05-15T16:15:46.198224",
     "exception": false,
     "start_time": "2025-05-15T16:15:46.187070",
     "status": "completed"
    },
    "tags": []
   },
   "outputs": [
    {
     "data": {
      "text/plain": [
       "['RA', 'COVID', 'healthy', 'HIV', 'cirrhosis', 'CD', 'SLE', 'sepsis']\n",
       "Categories (8, object): ['CD', 'COVID', 'HIV', 'RA', 'SLE', 'cirrhosis', 'healthy', 'sepsis']"
      ]
     },
     "execution_count": 9,
     "metadata": {},
     "output_type": "execute_result"
    }
   ],
   "source": [
    "train_adata.obs.disease.unique()"
   ]
  },
  {
   "cell_type": "code",
   "execution_count": 10,
   "id": "6a62b753",
   "metadata": {
    "execution": {
     "iopub.execute_input": "2025-05-15T16:15:46.211382Z",
     "iopub.status.busy": "2025-05-15T16:15:46.211182Z",
     "iopub.status.idle": "2025-05-15T16:15:46.215310Z",
     "shell.execute_reply": "2025-05-15T16:15:46.214960Z"
    },
    "papermill": {
     "duration": 0.012118,
     "end_time": "2025-05-15T16:15:46.216277",
     "exception": false,
     "start_time": "2025-05-15T16:15:46.204159",
     "status": "completed"
    },
    "tags": []
   },
   "outputs": [
    {
     "data": {
      "text/plain": [
       "['SCGT00val_I0364_T0', 'SCGT00val_I036019_T0', 'SCGT00val_I036028_T0', 'SCGT00val_I036024_T0', 'SCGT00val_I036016_T0', ..., '10XGenomics_10XHC2_T0', '10XGenomics_10XHC3_T0', '10XGenomics_10XHC5_T0', '10XGenomics_10XHC7_T0', '10XGenomics_10XHC8_T0']\n",
       "Length: 74\n",
       "Categories (74, object): ['10XGenomics_10XHC1_T0', '10XGenomics_10XHC2_T0', '10XGenomics_10XHC3_T0', '10XGenomics_10XHC4_T0', ..., 'Savage2021_BRISL6_T0', 'Savage2021_BRISL7_T0', 'Savage2021_PIDA_T0', 'Savage2021_PIDB_T0']"
      ]
     },
     "execution_count": 10,
     "metadata": {},
     "output_type": "execute_result"
    }
   ],
   "source": [
    "train_adata.obs.sampleID.unique()"
   ]
  },
  {
   "cell_type": "code",
   "execution_count": 11,
   "id": "20e6b4eb",
   "metadata": {
    "execution": {
     "iopub.execute_input": "2025-05-15T16:15:46.229912Z",
     "iopub.status.busy": "2025-05-15T16:15:46.229688Z",
     "iopub.status.idle": "2025-05-15T16:15:46.263025Z",
     "shell.execute_reply": "2025-05-15T16:15:46.262565Z"
    },
    "papermill": {
     "duration": 0.04109,
     "end_time": "2025-05-15T16:15:46.264098",
     "exception": false,
     "start_time": "2025-05-15T16:15:46.223008",
     "status": "completed"
    },
    "tags": []
   },
   "outputs": [],
   "source": [
    "all_idxs = np.arange(train_adata.obs.shape[0])\n",
    "left_out_splits = [s[1] for s in StratifiedGroupKFold(n_splits=N_SPLITS).split(all_idxs, train_adata.obs.disease, train_adata.obs.sampleID)]"
   ]
  },
  {
   "cell_type": "code",
   "execution_count": 12,
   "id": "1018111f",
   "metadata": {
    "execution": {
     "iopub.execute_input": "2025-05-15T16:15:46.278590Z",
     "iopub.status.busy": "2025-05-15T16:15:46.278088Z",
     "iopub.status.idle": "2025-05-15T16:15:46.281688Z",
     "shell.execute_reply": "2025-05-15T16:15:46.281335Z"
    },
    "papermill": {
     "duration": 0.011505,
     "end_time": "2025-05-15T16:15:46.282661",
     "exception": false,
     "start_time": "2025-05-15T16:15:46.271156",
     "status": "completed"
    },
    "tags": []
   },
   "outputs": [
    {
     "data": {
      "text/plain": [
       "([0, 1, 4], 3, 2)"
      ]
     },
     "execution_count": 12,
     "metadata": {},
     "output_type": "execute_result"
    }
   ],
   "source": [
    "TRAIN_SPLIT_IDXS = [0,1,2,3,4]\n",
    "VAL_SPLIT_IDX = (TEST_SPLIT_IDX + 1) % 5\n",
    "TRAIN_SPLIT_IDXS.remove(TEST_SPLIT_IDX)\n",
    "TRAIN_SPLIT_IDXS.remove(VAL_SPLIT_IDX)\n",
    "TRAIN_SPLIT_IDXS, VAL_SPLIT_IDX, TEST_SPLIT_IDX"
   ]
  },
  {
   "cell_type": "code",
   "execution_count": 13,
   "id": "31e9b3c9",
   "metadata": {
    "execution": {
     "iopub.execute_input": "2025-05-15T16:15:46.302700Z",
     "iopub.status.busy": "2025-05-15T16:15:46.302069Z",
     "iopub.status.idle": "2025-05-15T16:15:46.304921Z",
     "shell.execute_reply": "2025-05-15T16:15:46.304560Z"
    },
    "papermill": {
     "duration": 0.01019,
     "end_time": "2025-05-15T16:15:46.305797",
     "exception": false,
     "start_time": "2025-05-15T16:15:46.295607",
     "status": "completed"
    },
    "tags": []
   },
   "outputs": [],
   "source": [
    "train_idxs = np.concatenate([left_out_splits[idx] for idx in TRAIN_SPLIT_IDXS])\n",
    "val_idxs = left_out_splits[VAL_SPLIT_IDX]\n",
    "test_idxs = left_out_splits[TEST_SPLIT_IDX]"
   ]
  },
  {
   "cell_type": "markdown",
   "id": "a0eb80b0",
   "metadata": {
    "papermill": {
     "duration": 0.006606,
     "end_time": "2025-05-15T16:15:46.318809",
     "exception": false,
     "start_time": "2025-05-15T16:15:46.312203",
     "status": "completed"
    },
    "tags": []
   },
   "source": [
    "### SUBSET DATASET INTO TRAIN/TEST/VAL SPLITS"
   ]
  },
  {
   "cell_type": "code",
   "execution_count": 14,
   "id": "16d964b4",
   "metadata": {
    "execution": {
     "iopub.execute_input": "2025-05-15T16:15:46.332506Z",
     "iopub.status.busy": "2025-05-15T16:15:46.332005Z",
     "iopub.status.idle": "2025-05-15T16:15:46.339508Z",
     "shell.execute_reply": "2025-05-15T16:15:46.339151Z"
    },
    "papermill": {
     "duration": 0.015072,
     "end_time": "2025-05-15T16:15:46.340449",
     "exception": false,
     "start_time": "2025-05-15T16:15:46.325377",
     "status": "completed"
    },
    "tags": []
   },
   "outputs": [
    {
     "data": {
      "text/plain": [
       "((341, 107), (102, 107), (99, 107))"
      ]
     },
     "execution_count": 14,
     "metadata": {},
     "output_type": "execute_result"
    }
   ],
   "source": [
    "X_train = train_adata.X[train_idxs]\n",
    "X_test = train_adata.X[test_idxs]\n",
    "X_val = train_adata.X[val_idxs]\n",
    "X_train.shape, X_test.shape, X_val.shape"
   ]
  },
  {
   "cell_type": "code",
   "execution_count": 15,
   "id": "5125e1d1",
   "metadata": {
    "execution": {
     "iopub.execute_input": "2025-05-15T16:15:46.354241Z",
     "iopub.status.busy": "2025-05-15T16:15:46.353883Z",
     "iopub.status.idle": "2025-05-15T16:15:46.359555Z",
     "shell.execute_reply": "2025-05-15T16:15:46.359218Z"
    },
    "papermill": {
     "duration": 0.013344,
     "end_time": "2025-05-15T16:15:46.360432",
     "exception": false,
     "start_time": "2025-05-15T16:15:46.347088",
     "status": "completed"
    },
    "tags": []
   },
   "outputs": [
    {
     "data": {
      "text/plain": [
       "((341,), (102,), (99,))"
      ]
     },
     "execution_count": 15,
     "metadata": {},
     "output_type": "execute_result"
    }
   ],
   "source": [
    "y_train = train_adata.obs.iloc[train_idxs].disease.values.astype(str)\n",
    "y_test = train_adata.obs.iloc[test_idxs].disease.values.astype(str)\n",
    "y_val = train_adata.obs.iloc[val_idxs].disease.values.astype(str)\n",
    "y_train.shape, y_test.shape, y_val.shape"
   ]
  },
  {
   "cell_type": "code",
   "execution_count": 16,
   "id": "010f0059",
   "metadata": {
    "execution": {
     "iopub.execute_input": "2025-05-15T16:15:46.373686Z",
     "iopub.status.busy": "2025-05-15T16:15:46.373491Z",
     "iopub.status.idle": "2025-05-15T16:15:46.376571Z",
     "shell.execute_reply": "2025-05-15T16:15:46.376242Z"
    },
    "papermill": {
     "duration": 0.010857,
     "end_time": "2025-05-15T16:15:46.377537",
     "exception": false,
     "start_time": "2025-05-15T16:15:46.366680",
     "status": "completed"
    },
    "tags": []
   },
   "outputs": [],
   "source": [
    "lenc = LabelEncoder()\n",
    "y_train_enc = lenc.fit_transform(y_train)\n",
    "y_val_enc = lenc.transform(y_val)\n",
    "y_test_enc = lenc.transform(y_test)"
   ]
  },
  {
   "cell_type": "markdown",
   "id": "b3cdcc10",
   "metadata": {
    "papermill": {
     "duration": 0.0061,
     "end_time": "2025-05-15T16:15:46.389698",
     "exception": false,
     "start_time": "2025-05-15T16:15:46.383598",
     "status": "completed"
    },
    "tags": []
   },
   "source": [
    "### GENERATE F1 "
   ]
  },
  {
   "cell_type": "code",
   "execution_count": 17,
   "id": "6dc8d0c3",
   "metadata": {
    "execution": {
     "iopub.execute_input": "2025-05-15T16:15:46.402604Z",
     "iopub.status.busy": "2025-05-15T16:15:46.402209Z",
     "iopub.status.idle": "2025-05-15T16:15:46.404742Z",
     "shell.execute_reply": "2025-05-15T16:15:46.404392Z"
    },
    "papermill": {
     "duration": 0.009973,
     "end_time": "2025-05-15T16:15:46.405625",
     "exception": false,
     "start_time": "2025-05-15T16:15:46.395652",
     "status": "completed"
    },
    "tags": []
   },
   "outputs": [],
   "source": [
    "def custom_f1_score(y_true, y_pred):\n",
    "    return -f1_score(y_true, y_pred.argmax(1), average='weighted')"
   ]
  },
  {
   "cell_type": "code",
   "execution_count": 18,
   "id": "c887629f",
   "metadata": {
    "execution": {
     "iopub.execute_input": "2025-05-15T16:15:46.419035Z",
     "iopub.status.busy": "2025-05-15T16:15:46.418621Z",
     "iopub.status.idle": "2025-05-15T16:15:46.422840Z",
     "shell.execute_reply": "2025-05-15T16:15:46.422460Z"
    },
    "papermill": {
     "duration": 0.011718,
     "end_time": "2025-05-15T16:15:46.423727",
     "exception": false,
     "start_time": "2025-05-15T16:15:46.412009",
     "status": "completed"
    },
    "tags": []
   },
   "outputs": [],
   "source": [
    "eval_metric=custom_f1_score\n",
    "eval_metric_name='custom_f1_score'\n",
    "\n",
    "def objective(trial):\n",
    "    params = {\n",
    "        'n_estimators': 1500,\n",
    "        'max_depth': trial.suggest_int('max_depth', 3, 20),\n",
    "        'min_child_weight': trial.suggest_int('min_child_weight', 1, 250),\n",
    "        'subsample': trial.suggest_float('subsample', 0.1, 1.0),\n",
    "        'colsample_bynode': trial.suggest_float('colsample_bynode', 0.1, 1.0),\n",
    "        'learning_rate': trial.suggest_float('learning_rate', 1e-3, 5e-1, log=True),\n",
    "    }\n",
    "    pruning_callback = optuna.integration.XGBoostPruningCallback(trial, f'validation_0-{eval_metric_name}')\n",
    "    es_callback = xgboost.callback.EarlyStopping(20, min_delta=0.001)\n",
    "    xgb = xgboost.XGBClassifier(\n",
    "        eval_metric=eval_metric,\n",
    "        callbacks=[pruning_callback, es_callback],\n",
    "        n_jobs=5,\n",
    "        **params\n",
    "    )\n",
    "    xgb.fit(\n",
    "        X_train, \n",
    "        y_train_enc, \n",
    "        verbose=0,\n",
    "        eval_set=[(X_val, y_val_enc)],\n",
    "    )\n",
    "    trial.set_user_attr('best_iteration', xgb.best_iteration)\n",
    "\n",
    "    return xgb.best_score"
   ]
  },
  {
   "cell_type": "code",
   "execution_count": 19,
   "id": "ab2b5e26",
   "metadata": {
    "execution": {
     "iopub.execute_input": "2025-05-15T16:15:46.436965Z",
     "iopub.status.busy": "2025-05-15T16:15:46.436542Z",
     "iopub.status.idle": "2025-05-15T16:15:58.163440Z",
     "shell.execute_reply": "2025-05-15T16:15:58.162900Z"
    },
    "papermill": {
     "duration": 11.735028,
     "end_time": "2025-05-15T16:15:58.164931",
     "exception": false,
     "start_time": "2025-05-15T16:15:46.429903",
     "status": "completed"
    },
    "scrolled": true,
    "tags": []
   },
   "outputs": [
    {
     "name": "stderr",
     "output_type": "stream",
     "text": [
      "[I 2025-05-15 18:15:46,438] A new study created in memory with name: no-name-543139d2-0492-47fc-aaca-2ba716049311\n"
     ]
    },
    {
     "name": "stderr",
     "output_type": "stream",
     "text": [
      "[I 2025-05-15 18:15:46,539] Trial 0 finished with value: -0.022222 and parameters: {'max_depth': 9, 'min_child_weight': 238, 'subsample': 0.7587945476302645, 'colsample_bynode': 0.6387926357773329, 'learning_rate': 0.0026368755339723046}. Best is trial 0 with value: -0.022222.\n"
     ]
    },
    {
     "name": "stderr",
     "output_type": "stream",
     "text": [
      "[I 2025-05-15 18:15:46,921] Trial 1 finished with value: -0.572869 and parameters: {'max_depth': 5, 'min_child_weight': 15, 'subsample': 0.8795585311974417, 'colsample_bynode': 0.6410035105688879, 'learning_rate': 0.08148293210105287}. Best is trial 1 with value: -0.572869.\n"
     ]
    },
    {
     "name": "stderr",
     "output_type": "stream",
     "text": [
      "[I 2025-05-15 18:15:47,076] Trial 2 finished with value: -0.022222 and parameters: {'max_depth': 3, 'min_child_weight': 243, 'subsample': 0.8491983767203796, 'colsample_bynode': 0.29110519961044856, 'learning_rate': 0.003095566460242371}. Best is trial 1 with value: -0.572869.\n"
     ]
    },
    {
     "name": "stderr",
     "output_type": "stream",
     "text": [
      "[I 2025-05-15 18:15:47,231] Trial 3 finished with value: -0.022222 and parameters: {'max_depth': 6, 'min_child_weight': 77, 'subsample': 0.5722807884690141, 'colsample_bynode': 0.48875051677790415, 'learning_rate': 0.006109683510122491}. Best is trial 1 with value: -0.572869.\n"
     ]
    },
    {
     "name": "stderr",
     "output_type": "stream",
     "text": [
      "[I 2025-05-15 18:15:47,378] Trial 4 finished with value: -0.022222 and parameters: {'max_depth': 14, 'min_child_weight': 35, 'subsample': 0.3629301836816964, 'colsample_bynode': 0.4297256589643226, 'learning_rate': 0.01701841881702917}. Best is trial 1 with value: -0.572869.\n"
     ]
    },
    {
     "name": "stderr",
     "output_type": "stream",
     "text": [
      "[I 2025-05-15 18:15:47,549] Trial 5 finished with value: -0.022222 and parameters: {'max_depth': 17, 'min_child_weight': 50, 'subsample': 0.5628109945722505, 'colsample_bynode': 0.6331731119758383, 'learning_rate': 0.0013346527038305934}. Best is trial 1 with value: -0.572869.\n"
     ]
    },
    {
     "name": "stderr",
     "output_type": "stream",
     "text": [
      "[I 2025-05-15 18:15:47,715] Trial 6 finished with value: -0.022222 and parameters: {'max_depth': 13, 'min_child_weight': 43, 'subsample': 0.1585464336867516, 'colsample_bynode': 0.9539969835279999, 'learning_rate': 0.4038423798071558}. Best is trial 1 with value: -0.572869.\n"
     ]
    },
    {
     "name": "stderr",
     "output_type": "stream",
     "text": [
      "[I 2025-05-15 18:15:47,897] Trial 7 finished with value: -0.022222 and parameters: {'max_depth': 17, 'min_child_weight': 77, 'subsample': 0.1879049026057455, 'colsample_bynode': 0.7158097238609412, 'learning_rate': 0.015415527060141935}. Best is trial 1 with value: -0.572869.\n"
     ]
    },
    {
     "name": "stderr",
     "output_type": "stream",
     "text": [
      "[I 2025-05-15 18:15:48,065] Trial 8 finished with value: -0.022222 and parameters: {'max_depth': 5, 'min_child_weight': 124, 'subsample': 0.13094966900369656, 'colsample_bynode': 0.9183883618709039, 'learning_rate': 0.004993895014755658}. Best is trial 1 with value: -0.572869.\n"
     ]
    },
    {
     "name": "stderr",
     "output_type": "stream",
     "text": [
      "[I 2025-05-15 18:15:48,222] Trial 9 finished with value: -0.022222 and parameters: {'max_depth': 14, 'min_child_weight': 78, 'subsample': 0.5680612190600297, 'colsample_bynode': 0.5920392514089517, 'learning_rate': 0.0031543990308330965}. Best is trial 1 with value: -0.572869.\n"
     ]
    },
    {
     "name": "stderr",
     "output_type": "stream",
     "text": [
      "[I 2025-05-15 18:15:48,652] Trial 10 finished with value: -0.628977 and parameters: {'max_depth': 9, 'min_child_weight': 2, 'subsample': 0.9725833997090791, 'colsample_bynode': 0.11616568805333755, 'learning_rate': 0.17780618353487967}. Best is trial 10 with value: -0.628977.\n"
     ]
    },
    {
     "name": "stderr",
     "output_type": "stream",
     "text": [
      "[I 2025-05-15 18:15:49,146] Trial 11 finished with value: -0.63364 and parameters: {'max_depth': 9, 'min_child_weight': 4, 'subsample': 0.9818290990185045, 'colsample_bynode': 0.17702656156719, 'learning_rate': 0.11568531411766632}. Best is trial 11 with value: -0.63364.\n"
     ]
    },
    {
     "name": "stderr",
     "output_type": "stream",
     "text": [
      "[I 2025-05-15 18:15:49,472] Trial 12 pruned. Trial was pruned at iteration 23.\n"
     ]
    },
    {
     "name": "stderr",
     "output_type": "stream",
     "text": [
      "[I 2025-05-15 18:15:49,653] Trial 13 finished with value: -0.022222 and parameters: {'max_depth': 10, 'min_child_weight': 173, 'subsample': 0.9990589868255076, 'colsample_bynode': 0.10388397775802007, 'learning_rate': 0.08343244313100631}. Best is trial 11 with value: -0.63364.\n"
     ]
    },
    {
     "name": "stderr",
     "output_type": "stream",
     "text": [
      "[I 2025-05-15 18:15:49,819] Trial 14 finished with value: -0.022222 and parameters: {'max_depth': 7, 'min_child_weight': 132, 'subsample': 0.7251427075087294, 'colsample_bynode': 0.2827065087684573, 'learning_rate': 0.4477473783244542}. Best is trial 11 with value: -0.63364.\n"
     ]
    },
    {
     "name": "stderr",
     "output_type": "stream",
     "text": [
      "[I 2025-05-15 18:15:50,190] Trial 15 pruned. Trial was pruned at iteration 26.\n"
     ]
    },
    {
     "name": "stderr",
     "output_type": "stream",
     "text": [
      "[I 2025-05-15 18:15:50,376] Trial 16 finished with value: -0.022222 and parameters: {'max_depth': 11, 'min_child_weight': 125, 'subsample': 0.8815541734801864, 'colsample_bynode': 0.37074095931791284, 'learning_rate': 0.18961687234093502}. Best is trial 11 with value: -0.63364.\n"
     ]
    },
    {
     "name": "stderr",
     "output_type": "stream",
     "text": [
      "[I 2025-05-15 18:15:50,559] Trial 17 finished with value: -0.022222 and parameters: {'max_depth': 8, 'min_child_weight': 183, 'subsample': 0.38147523481218437, 'colsample_bynode': 0.18808734027794596, 'learning_rate': 0.0535465309609203}. Best is trial 11 with value: -0.63364.\n"
     ]
    },
    {
     "name": "stderr",
     "output_type": "stream",
     "text": [
      "[I 2025-05-15 18:15:50,748] Trial 18 pruned. Trial was pruned at iteration 21.\n"
     ]
    },
    {
     "name": "stderr",
     "output_type": "stream",
     "text": [
      "[I 2025-05-15 18:15:50,926] Trial 19 finished with value: -0.022222 and parameters: {'max_depth': 11, 'min_child_weight': 102, 'subsample': 0.9723428668438461, 'colsample_bynode': 0.3679418363674778, 'learning_rate': 0.03827773069548075}. Best is trial 11 with value: -0.63364.\n"
     ]
    },
    {
     "name": "stderr",
     "output_type": "stream",
     "text": [
      "[I 2025-05-15 18:15:51,100] Trial 20 finished with value: -0.022222 and parameters: {'max_depth': 7, 'min_child_weight': 60, 'subsample': 0.6596113500838445, 'colsample_bynode': 0.20927736326660645, 'learning_rate': 0.25272718592857407}. Best is trial 11 with value: -0.63364.\n"
     ]
    },
    {
     "name": "stderr",
     "output_type": "stream",
     "text": [
      "[I 2025-05-15 18:15:51,315] Trial 21 pruned. Trial was pruned at iteration 21.\n"
     ]
    },
    {
     "name": "stderr",
     "output_type": "stream",
     "text": [
      "[I 2025-05-15 18:15:51,539] Trial 22 pruned. Trial was pruned at iteration 21.\n"
     ]
    },
    {
     "name": "stderr",
     "output_type": "stream",
     "text": [
      "[I 2025-05-15 18:15:51,751] Trial 23 pruned. Trial was pruned at iteration 21.\n"
     ]
    },
    {
     "name": "stderr",
     "output_type": "stream",
     "text": [
      "[I 2025-05-15 18:15:52,063] Trial 24 pruned. Trial was pruned at iteration 21.\n"
     ]
    },
    {
     "name": "stderr",
     "output_type": "stream",
     "text": [
      "[I 2025-05-15 18:15:52,239] Trial 25 finished with value: -0.022222 and parameters: {'max_depth': 6, 'min_child_weight': 60, 'subsample': 0.6456116649072785, 'colsample_bynode': 0.8505437758796104, 'learning_rate': 0.281809190534241}. Best is trial 11 with value: -0.63364.\n"
     ]
    },
    {
     "name": "stderr",
     "output_type": "stream",
     "text": [
      "[I 2025-05-15 18:15:52,407] Trial 26 finished with value: -0.166667 and parameters: {'max_depth': 10, 'min_child_weight': 27, 'subsample': 0.4415145059632183, 'colsample_bynode': 0.5223114639733216, 'learning_rate': 0.0668037040487806}. Best is trial 11 with value: -0.63364.\n"
     ]
    },
    {
     "name": "stderr",
     "output_type": "stream",
     "text": [
      "[I 2025-05-15 18:15:52,582] Trial 27 finished with value: -0.022222 and parameters: {'max_depth': 8, 'min_child_weight': 104, 'subsample': 0.830994423789636, 'colsample_bynode': 0.6784889090373202, 'learning_rate': 0.1346978034114215}. Best is trial 11 with value: -0.63364.\n"
     ]
    },
    {
     "name": "stderr",
     "output_type": "stream",
     "text": [
      "[I 2025-05-15 18:15:52,766] Trial 28 finished with value: -0.022222 and parameters: {'max_depth': 6, 'min_child_weight': 202, 'subsample': 0.9213273744508348, 'colsample_bynode': 0.23166494645076852, 'learning_rate': 0.02490686433339173}. Best is trial 11 with value: -0.63364.\n"
     ]
    },
    {
     "name": "stderr",
     "output_type": "stream",
     "text": [
      "[I 2025-05-15 18:15:52,943] Trial 29 finished with value: -0.022222 and parameters: {'max_depth': 9, 'min_child_weight': 217, 'subsample': 0.7827787036528077, 'colsample_bynode': 0.5877091799618283, 'learning_rate': 0.010709004830646147}. Best is trial 11 with value: -0.63364.\n"
     ]
    },
    {
     "name": "stderr",
     "output_type": "stream",
     "text": [
      "[I 2025-05-15 18:15:53,136] Trial 30 finished with value: -0.022222 and parameters: {'max_depth': 4, 'min_child_weight': 150, 'subsample': 0.9906011688533779, 'colsample_bynode': 0.4395182436362797, 'learning_rate': 0.05681672104284709}. Best is trial 11 with value: -0.63364.\n"
     ]
    },
    {
     "name": "stderr",
     "output_type": "stream",
     "text": [
      "[I 2025-05-15 18:15:53,330] Trial 31 pruned. Trial was pruned at iteration 21.\n"
     ]
    },
    {
     "name": "stderr",
     "output_type": "stream",
     "text": [
      "[I 2025-05-15 18:15:53,506] Trial 32 finished with value: -0.166667 and parameters: {'max_depth': 10, 'min_child_weight': 31, 'subsample': 0.4731205629085496, 'colsample_bynode': 0.5230139344598618, 'learning_rate': 0.10546130795239268}. Best is trial 11 with value: -0.63364.\n"
     ]
    },
    {
     "name": "stderr",
     "output_type": "stream",
     "text": [
      "[I 2025-05-15 18:15:53,685] Trial 33 finished with value: -0.022222 and parameters: {'max_depth': 10, 'min_child_weight': 53, 'subsample': 0.2767856454257953, 'colsample_bynode': 0.16400089125689796, 'learning_rate': 0.1731875419129977}. Best is trial 11 with value: -0.63364.\n"
     ]
    },
    {
     "name": "stderr",
     "output_type": "stream",
     "text": [
      "[I 2025-05-15 18:15:53,887] Trial 34 pruned. Trial was pruned at iteration 21.\n"
     ]
    },
    {
     "name": "stderr",
     "output_type": "stream",
     "text": [
      "[I 2025-05-15 18:15:54,077] Trial 35 finished with value: -0.022222 and parameters: {'max_depth': 15, 'min_child_weight': 32, 'subsample': 0.30998064053558805, 'colsample_bynode': 0.4373181608565437, 'learning_rate': 0.045269381266846924}. Best is trial 11 with value: -0.63364.\n"
     ]
    },
    {
     "name": "stderr",
     "output_type": "stream",
     "text": [
      "[I 2025-05-15 18:15:54,271] Trial 36 finished with value: -0.022222 and parameters: {'max_depth': 13, 'min_child_weight': 78, 'subsample': 0.6455464340543567, 'colsample_bynode': 0.628542476293521, 'learning_rate': 0.07125212722960977}. Best is trial 11 with value: -0.63364.\n"
     ]
    },
    {
     "name": "stderr",
     "output_type": "stream",
     "text": [
      "[I 2025-05-15 18:15:54,462] Trial 37 finished with value: -0.166667 and parameters: {'max_depth': 10, 'min_child_weight': 46, 'subsample': 0.8630614191843066, 'colsample_bynode': 0.3268972335896002, 'learning_rate': 0.01542429408475207}. Best is trial 11 with value: -0.63364.\n"
     ]
    },
    {
     "name": "stderr",
     "output_type": "stream",
     "text": [
      "[I 2025-05-15 18:15:54,648] Trial 38 pruned. Trial was pruned at iteration 21.\n"
     ]
    },
    {
     "name": "stderr",
     "output_type": "stream",
     "text": [
      "[I 2025-05-15 18:15:54,827] Trial 39 finished with value: -0.022222 and parameters: {'max_depth': 5, 'min_child_weight': 97, 'subsample': 0.24599469295988852, 'colsample_bynode': 0.5537638020512118, 'learning_rate': 0.022553777724440546}. Best is trial 11 with value: -0.63364.\n"
     ]
    },
    {
     "name": "stderr",
     "output_type": "stream",
     "text": [
      "[I 2025-05-15 18:15:55,018] Trial 40 finished with value: -0.166667 and parameters: {'max_depth': 13, 'min_child_weight': 68, 'subsample': 0.9361576808439279, 'colsample_bynode': 0.6728080585901951, 'learning_rate': 0.11917062138613371}. Best is trial 11 with value: -0.63364.\n"
     ]
    },
    {
     "name": "stderr",
     "output_type": "stream",
     "text": [
      "[I 2025-05-15 18:15:55,209] Trial 41 finished with value: -0.166667 and parameters: {'max_depth': 10, 'min_child_weight': 38, 'subsample': 0.4682782895078185, 'colsample_bynode': 0.505413087591716, 'learning_rate': 0.09603525192607994}. Best is trial 11 with value: -0.63364.\n"
     ]
    },
    {
     "name": "stderr",
     "output_type": "stream",
     "text": [
      "[I 2025-05-15 18:15:55,405] Trial 42 pruned. Trial was pruned at iteration 21.\n"
     ]
    },
    {
     "name": "stderr",
     "output_type": "stream",
     "text": [
      "[I 2025-05-15 18:15:55,601] Trial 43 pruned. Trial was pruned at iteration 21.\n"
     ]
    },
    {
     "name": "stderr",
     "output_type": "stream",
     "text": [
      "[I 2025-05-15 18:15:56,107] Trial 44 finished with value: -0.637307 and parameters: {'max_depth': 8, 'min_child_weight': 1, 'subsample': 0.5952062280587437, 'colsample_bynode': 0.5780566205750419, 'learning_rate': 0.3296064554022948}. Best is trial 44 with value: -0.637307.\n"
     ]
    },
    {
     "name": "stderr",
     "output_type": "stream",
     "text": [
      "[I 2025-05-15 18:15:56,558] Trial 45 finished with value: -0.633648 and parameters: {'max_depth': 8, 'min_child_weight': 1, 'subsample': 0.5993060885364823, 'colsample_bynode': 0.5619316959607701, 'learning_rate': 0.3820464996303266}. Best is trial 44 with value: -0.637307.\n"
     ]
    },
    {
     "name": "stderr",
     "output_type": "stream",
     "text": [
      "[I 2025-05-15 18:15:56,826] Trial 46 pruned. Trial was pruned at iteration 21.\n"
     ]
    },
    {
     "name": "stderr",
     "output_type": "stream",
     "text": [
      "[I 2025-05-15 18:15:57,270] Trial 47 finished with value: -0.622587 and parameters: {'max_depth': 8, 'min_child_weight': 1, 'subsample': 0.7153662745826938, 'colsample_bynode': 0.6419919013944073, 'learning_rate': 0.4900313545794605}. Best is trial 44 with value: -0.637307.\n"
     ]
    },
    {
     "name": "stderr",
     "output_type": "stream",
     "text": [
      "[I 2025-05-15 18:15:57,574] Trial 48 pruned. Trial was pruned at iteration 22.\n"
     ]
    },
    {
     "name": "stderr",
     "output_type": "stream",
     "text": [
      "[I 2025-05-15 18:15:58,067] Trial 49 finished with value: -0.640996 and parameters: {'max_depth': 8, 'min_child_weight': 1, 'subsample': 0.7556632236019685, 'colsample_bynode': 0.5680143588931301, 'learning_rate': 0.33178224108084087}. Best is trial 49 with value: -0.640996.\n"
     ]
    }
   ],
   "source": [
    "sampler = optuna.samplers.TPESampler(seed=42)\n",
    "study = optuna.create_study(direction='minimize', sampler=sampler)\n",
    "study.optimize(objective, n_trials=N_TRIALS, gc_after_trial=True)"
   ]
  },
  {
   "cell_type": "code",
   "execution_count": 20,
   "id": "068cad04",
   "metadata": {
    "execution": {
     "iopub.execute_input": "2025-05-15T16:15:58.186110Z",
     "iopub.status.busy": "2025-05-15T16:15:58.185809Z",
     "iopub.status.idle": "2025-05-15T16:15:58.229283Z",
     "shell.execute_reply": "2025-05-15T16:15:58.228935Z"
    },
    "papermill": {
     "duration": 0.054251,
     "end_time": "2025-05-15T16:15:58.230203",
     "exception": false,
     "start_time": "2025-05-15T16:15:58.175952",
     "status": "completed"
    },
    "tags": []
   },
   "outputs": [
    {
     "data": {
      "text/plain": [
       "['/scratch_isilon/groups/singlecell/shared/projects/Inflammation-PBMCs-Atlas/03_downstream_analysis/08_gene_importance/xgboost_external_validation/xgboost_TopN_genes/results_20/study/Plasma_13_2_xgboost.pkl']"
      ]
     },
     "execution_count": 20,
     "metadata": {},
     "output_type": "execute_result"
    }
   ],
   "source": [
    "out_dir = here(f'03_downstream_analysis/08_gene_importance/xgboost_external_validation/xgboost_TopN_genes/results_{N_GENES}/study')\n",
    "\n",
    "if not os.path.exists(out_dir):\n",
    "    os.makedirs(out_dir)\n",
    "    \n",
    "joblib.dump(study,os.path.join(out_dir, f'{CELL_TYPE}_{SEED}_{TEST_SPLIT_IDX}_xgboost.pkl'))"
   ]
  },
  {
   "cell_type": "code",
   "execution_count": 21,
   "id": "ddf6f14b",
   "metadata": {
    "execution": {
     "iopub.execute_input": "2025-05-15T16:15:58.249679Z",
     "iopub.status.busy": "2025-05-15T16:15:58.249347Z",
     "iopub.status.idle": "2025-05-15T16:15:58.552302Z",
     "shell.execute_reply": "2025-05-15T16:15:58.551778Z"
    },
    "papermill": {
     "duration": 0.313852,
     "end_time": "2025-05-15T16:15:58.553402",
     "exception": false,
     "start_time": "2025-05-15T16:15:58.239550",
     "status": "completed"
    },
    "tags": []
   },
   "outputs": [
    {
     "data": {
      "text/html": [
       "<style>#sk-container-id-1 {\n",
       "  /* Definition of color scheme common for light and dark mode */\n",
       "  --sklearn-color-text: black;\n",
       "  --sklearn-color-line: gray;\n",
       "  /* Definition of color scheme for unfitted estimators */\n",
       "  --sklearn-color-unfitted-level-0: #fff5e6;\n",
       "  --sklearn-color-unfitted-level-1: #f6e4d2;\n",
       "  --sklearn-color-unfitted-level-2: #ffe0b3;\n",
       "  --sklearn-color-unfitted-level-3: chocolate;\n",
       "  /* Definition of color scheme for fitted estimators */\n",
       "  --sklearn-color-fitted-level-0: #f0f8ff;\n",
       "  --sklearn-color-fitted-level-1: #d4ebff;\n",
       "  --sklearn-color-fitted-level-2: #b3dbfd;\n",
       "  --sklearn-color-fitted-level-3: cornflowerblue;\n",
       "\n",
       "  /* Specific color for light theme */\n",
       "  --sklearn-color-text-on-default-background: var(--sg-text-color, var(--theme-code-foreground, var(--jp-content-font-color1, black)));\n",
       "  --sklearn-color-background: var(--sg-background-color, var(--theme-background, var(--jp-layout-color0, white)));\n",
       "  --sklearn-color-border-box: var(--sg-text-color, var(--theme-code-foreground, var(--jp-content-font-color1, black)));\n",
       "  --sklearn-color-icon: #696969;\n",
       "\n",
       "  @media (prefers-color-scheme: dark) {\n",
       "    /* Redefinition of color scheme for dark theme */\n",
       "    --sklearn-color-text-on-default-background: var(--sg-text-color, var(--theme-code-foreground, var(--jp-content-font-color1, white)));\n",
       "    --sklearn-color-background: var(--sg-background-color, var(--theme-background, var(--jp-layout-color0, #111)));\n",
       "    --sklearn-color-border-box: var(--sg-text-color, var(--theme-code-foreground, var(--jp-content-font-color1, white)));\n",
       "    --sklearn-color-icon: #878787;\n",
       "  }\n",
       "}\n",
       "\n",
       "#sk-container-id-1 {\n",
       "  color: var(--sklearn-color-text);\n",
       "}\n",
       "\n",
       "#sk-container-id-1 pre {\n",
       "  padding: 0;\n",
       "}\n",
       "\n",
       "#sk-container-id-1 input.sk-hidden--visually {\n",
       "  border: 0;\n",
       "  clip: rect(1px 1px 1px 1px);\n",
       "  clip: rect(1px, 1px, 1px, 1px);\n",
       "  height: 1px;\n",
       "  margin: -1px;\n",
       "  overflow: hidden;\n",
       "  padding: 0;\n",
       "  position: absolute;\n",
       "  width: 1px;\n",
       "}\n",
       "\n",
       "#sk-container-id-1 div.sk-dashed-wrapped {\n",
       "  border: 1px dashed var(--sklearn-color-line);\n",
       "  margin: 0 0.4em 0.5em 0.4em;\n",
       "  box-sizing: border-box;\n",
       "  padding-bottom: 0.4em;\n",
       "  background-color: var(--sklearn-color-background);\n",
       "}\n",
       "\n",
       "#sk-container-id-1 div.sk-container {\n",
       "  /* jupyter's `normalize.less` sets `[hidden] { display: none; }`\n",
       "     but bootstrap.min.css set `[hidden] { display: none !important; }`\n",
       "     so we also need the `!important` here to be able to override the\n",
       "     default hidden behavior on the sphinx rendered scikit-learn.org.\n",
       "     See: https://github.com/scikit-learn/scikit-learn/issues/21755 */\n",
       "  display: inline-block !important;\n",
       "  position: relative;\n",
       "}\n",
       "\n",
       "#sk-container-id-1 div.sk-text-repr-fallback {\n",
       "  display: none;\n",
       "}\n",
       "\n",
       "div.sk-parallel-item,\n",
       "div.sk-serial,\n",
       "div.sk-item {\n",
       "  /* draw centered vertical line to link estimators */\n",
       "  background-image: linear-gradient(var(--sklearn-color-text-on-default-background), var(--sklearn-color-text-on-default-background));\n",
       "  background-size: 2px 100%;\n",
       "  background-repeat: no-repeat;\n",
       "  background-position: center center;\n",
       "}\n",
       "\n",
       "/* Parallel-specific style estimator block */\n",
       "\n",
       "#sk-container-id-1 div.sk-parallel-item::after {\n",
       "  content: \"\";\n",
       "  width: 100%;\n",
       "  border-bottom: 2px solid var(--sklearn-color-text-on-default-background);\n",
       "  flex-grow: 1;\n",
       "}\n",
       "\n",
       "#sk-container-id-1 div.sk-parallel {\n",
       "  display: flex;\n",
       "  align-items: stretch;\n",
       "  justify-content: center;\n",
       "  background-color: var(--sklearn-color-background);\n",
       "  position: relative;\n",
       "}\n",
       "\n",
       "#sk-container-id-1 div.sk-parallel-item {\n",
       "  display: flex;\n",
       "  flex-direction: column;\n",
       "}\n",
       "\n",
       "#sk-container-id-1 div.sk-parallel-item:first-child::after {\n",
       "  align-self: flex-end;\n",
       "  width: 50%;\n",
       "}\n",
       "\n",
       "#sk-container-id-1 div.sk-parallel-item:last-child::after {\n",
       "  align-self: flex-start;\n",
       "  width: 50%;\n",
       "}\n",
       "\n",
       "#sk-container-id-1 div.sk-parallel-item:only-child::after {\n",
       "  width: 0;\n",
       "}\n",
       "\n",
       "/* Serial-specific style estimator block */\n",
       "\n",
       "#sk-container-id-1 div.sk-serial {\n",
       "  display: flex;\n",
       "  flex-direction: column;\n",
       "  align-items: center;\n",
       "  background-color: var(--sklearn-color-background);\n",
       "  padding-right: 1em;\n",
       "  padding-left: 1em;\n",
       "}\n",
       "\n",
       "\n",
       "/* Toggleable style: style used for estimator/Pipeline/ColumnTransformer box that is\n",
       "clickable and can be expanded/collapsed.\n",
       "- Pipeline and ColumnTransformer use this feature and define the default style\n",
       "- Estimators will overwrite some part of the style using the `sk-estimator` class\n",
       "*/\n",
       "\n",
       "/* Pipeline and ColumnTransformer style (default) */\n",
       "\n",
       "#sk-container-id-1 div.sk-toggleable {\n",
       "  /* Default theme specific background. It is overwritten whether we have a\n",
       "  specific estimator or a Pipeline/ColumnTransformer */\n",
       "  background-color: var(--sklearn-color-background);\n",
       "}\n",
       "\n",
       "/* Toggleable label */\n",
       "#sk-container-id-1 label.sk-toggleable__label {\n",
       "  cursor: pointer;\n",
       "  display: block;\n",
       "  width: 100%;\n",
       "  margin-bottom: 0;\n",
       "  padding: 0.5em;\n",
       "  box-sizing: border-box;\n",
       "  text-align: center;\n",
       "}\n",
       "\n",
       "#sk-container-id-1 label.sk-toggleable__label-arrow:before {\n",
       "  /* Arrow on the left of the label */\n",
       "  content: \"▸\";\n",
       "  float: left;\n",
       "  margin-right: 0.25em;\n",
       "  color: var(--sklearn-color-icon);\n",
       "}\n",
       "\n",
       "#sk-container-id-1 label.sk-toggleable__label-arrow:hover:before {\n",
       "  color: var(--sklearn-color-text);\n",
       "}\n",
       "\n",
       "/* Toggleable content - dropdown */\n",
       "\n",
       "#sk-container-id-1 div.sk-toggleable__content {\n",
       "  max-height: 0;\n",
       "  max-width: 0;\n",
       "  overflow: hidden;\n",
       "  text-align: left;\n",
       "  /* unfitted */\n",
       "  background-color: var(--sklearn-color-unfitted-level-0);\n",
       "}\n",
       "\n",
       "#sk-container-id-1 div.sk-toggleable__content.fitted {\n",
       "  /* fitted */\n",
       "  background-color: var(--sklearn-color-fitted-level-0);\n",
       "}\n",
       "\n",
       "#sk-container-id-1 div.sk-toggleable__content pre {\n",
       "  margin: 0.2em;\n",
       "  border-radius: 0.25em;\n",
       "  color: var(--sklearn-color-text);\n",
       "  /* unfitted */\n",
       "  background-color: var(--sklearn-color-unfitted-level-0);\n",
       "}\n",
       "\n",
       "#sk-container-id-1 div.sk-toggleable__content.fitted pre {\n",
       "  /* unfitted */\n",
       "  background-color: var(--sklearn-color-fitted-level-0);\n",
       "}\n",
       "\n",
       "#sk-container-id-1 input.sk-toggleable__control:checked~div.sk-toggleable__content {\n",
       "  /* Expand drop-down */\n",
       "  max-height: 200px;\n",
       "  max-width: 100%;\n",
       "  overflow: auto;\n",
       "}\n",
       "\n",
       "#sk-container-id-1 input.sk-toggleable__control:checked~label.sk-toggleable__label-arrow:before {\n",
       "  content: \"▾\";\n",
       "}\n",
       "\n",
       "/* Pipeline/ColumnTransformer-specific style */\n",
       "\n",
       "#sk-container-id-1 div.sk-label input.sk-toggleable__control:checked~label.sk-toggleable__label {\n",
       "  color: var(--sklearn-color-text);\n",
       "  background-color: var(--sklearn-color-unfitted-level-2);\n",
       "}\n",
       "\n",
       "#sk-container-id-1 div.sk-label.fitted input.sk-toggleable__control:checked~label.sk-toggleable__label {\n",
       "  background-color: var(--sklearn-color-fitted-level-2);\n",
       "}\n",
       "\n",
       "/* Estimator-specific style */\n",
       "\n",
       "/* Colorize estimator box */\n",
       "#sk-container-id-1 div.sk-estimator input.sk-toggleable__control:checked~label.sk-toggleable__label {\n",
       "  /* unfitted */\n",
       "  background-color: var(--sklearn-color-unfitted-level-2);\n",
       "}\n",
       "\n",
       "#sk-container-id-1 div.sk-estimator.fitted input.sk-toggleable__control:checked~label.sk-toggleable__label {\n",
       "  /* fitted */\n",
       "  background-color: var(--sklearn-color-fitted-level-2);\n",
       "}\n",
       "\n",
       "#sk-container-id-1 div.sk-label label.sk-toggleable__label,\n",
       "#sk-container-id-1 div.sk-label label {\n",
       "  /* The background is the default theme color */\n",
       "  color: var(--sklearn-color-text-on-default-background);\n",
       "}\n",
       "\n",
       "/* On hover, darken the color of the background */\n",
       "#sk-container-id-1 div.sk-label:hover label.sk-toggleable__label {\n",
       "  color: var(--sklearn-color-text);\n",
       "  background-color: var(--sklearn-color-unfitted-level-2);\n",
       "}\n",
       "\n",
       "/* Label box, darken color on hover, fitted */\n",
       "#sk-container-id-1 div.sk-label.fitted:hover label.sk-toggleable__label.fitted {\n",
       "  color: var(--sklearn-color-text);\n",
       "  background-color: var(--sklearn-color-fitted-level-2);\n",
       "}\n",
       "\n",
       "/* Estimator label */\n",
       "\n",
       "#sk-container-id-1 div.sk-label label {\n",
       "  font-family: monospace;\n",
       "  font-weight: bold;\n",
       "  display: inline-block;\n",
       "  line-height: 1.2em;\n",
       "}\n",
       "\n",
       "#sk-container-id-1 div.sk-label-container {\n",
       "  text-align: center;\n",
       "}\n",
       "\n",
       "/* Estimator-specific */\n",
       "#sk-container-id-1 div.sk-estimator {\n",
       "  font-family: monospace;\n",
       "  border: 1px dotted var(--sklearn-color-border-box);\n",
       "  border-radius: 0.25em;\n",
       "  box-sizing: border-box;\n",
       "  margin-bottom: 0.5em;\n",
       "  /* unfitted */\n",
       "  background-color: var(--sklearn-color-unfitted-level-0);\n",
       "}\n",
       "\n",
       "#sk-container-id-1 div.sk-estimator.fitted {\n",
       "  /* fitted */\n",
       "  background-color: var(--sklearn-color-fitted-level-0);\n",
       "}\n",
       "\n",
       "/* on hover */\n",
       "#sk-container-id-1 div.sk-estimator:hover {\n",
       "  /* unfitted */\n",
       "  background-color: var(--sklearn-color-unfitted-level-2);\n",
       "}\n",
       "\n",
       "#sk-container-id-1 div.sk-estimator.fitted:hover {\n",
       "  /* fitted */\n",
       "  background-color: var(--sklearn-color-fitted-level-2);\n",
       "}\n",
       "\n",
       "/* Specification for estimator info (e.g. \"i\" and \"?\") */\n",
       "\n",
       "/* Common style for \"i\" and \"?\" */\n",
       "\n",
       ".sk-estimator-doc-link,\n",
       "a:link.sk-estimator-doc-link,\n",
       "a:visited.sk-estimator-doc-link {\n",
       "  float: right;\n",
       "  font-size: smaller;\n",
       "  line-height: 1em;\n",
       "  font-family: monospace;\n",
       "  background-color: var(--sklearn-color-background);\n",
       "  border-radius: 1em;\n",
       "  height: 1em;\n",
       "  width: 1em;\n",
       "  text-decoration: none !important;\n",
       "  margin-left: 1ex;\n",
       "  /* unfitted */\n",
       "  border: var(--sklearn-color-unfitted-level-1) 1pt solid;\n",
       "  color: var(--sklearn-color-unfitted-level-1);\n",
       "}\n",
       "\n",
       ".sk-estimator-doc-link.fitted,\n",
       "a:link.sk-estimator-doc-link.fitted,\n",
       "a:visited.sk-estimator-doc-link.fitted {\n",
       "  /* fitted */\n",
       "  border: var(--sklearn-color-fitted-level-1) 1pt solid;\n",
       "  color: var(--sklearn-color-fitted-level-1);\n",
       "}\n",
       "\n",
       "/* On hover */\n",
       "div.sk-estimator:hover .sk-estimator-doc-link:hover,\n",
       ".sk-estimator-doc-link:hover,\n",
       "div.sk-label-container:hover .sk-estimator-doc-link:hover,\n",
       ".sk-estimator-doc-link:hover {\n",
       "  /* unfitted */\n",
       "  background-color: var(--sklearn-color-unfitted-level-3);\n",
       "  color: var(--sklearn-color-background);\n",
       "  text-decoration: none;\n",
       "}\n",
       "\n",
       "div.sk-estimator.fitted:hover .sk-estimator-doc-link.fitted:hover,\n",
       ".sk-estimator-doc-link.fitted:hover,\n",
       "div.sk-label-container:hover .sk-estimator-doc-link.fitted:hover,\n",
       ".sk-estimator-doc-link.fitted:hover {\n",
       "  /* fitted */\n",
       "  background-color: var(--sklearn-color-fitted-level-3);\n",
       "  color: var(--sklearn-color-background);\n",
       "  text-decoration: none;\n",
       "}\n",
       "\n",
       "/* Span, style for the box shown on hovering the info icon */\n",
       ".sk-estimator-doc-link span {\n",
       "  display: none;\n",
       "  z-index: 9999;\n",
       "  position: relative;\n",
       "  font-weight: normal;\n",
       "  right: .2ex;\n",
       "  padding: .5ex;\n",
       "  margin: .5ex;\n",
       "  width: min-content;\n",
       "  min-width: 20ex;\n",
       "  max-width: 50ex;\n",
       "  color: var(--sklearn-color-text);\n",
       "  box-shadow: 2pt 2pt 4pt #999;\n",
       "  /* unfitted */\n",
       "  background: var(--sklearn-color-unfitted-level-0);\n",
       "  border: .5pt solid var(--sklearn-color-unfitted-level-3);\n",
       "}\n",
       "\n",
       ".sk-estimator-doc-link.fitted span {\n",
       "  /* fitted */\n",
       "  background: var(--sklearn-color-fitted-level-0);\n",
       "  border: var(--sklearn-color-fitted-level-3);\n",
       "}\n",
       "\n",
       ".sk-estimator-doc-link:hover span {\n",
       "  display: block;\n",
       "}\n",
       "\n",
       "/* \"?\"-specific style due to the `<a>` HTML tag */\n",
       "\n",
       "#sk-container-id-1 a.estimator_doc_link {\n",
       "  float: right;\n",
       "  font-size: 1rem;\n",
       "  line-height: 1em;\n",
       "  font-family: monospace;\n",
       "  background-color: var(--sklearn-color-background);\n",
       "  border-radius: 1rem;\n",
       "  height: 1rem;\n",
       "  width: 1rem;\n",
       "  text-decoration: none;\n",
       "  /* unfitted */\n",
       "  color: var(--sklearn-color-unfitted-level-1);\n",
       "  border: var(--sklearn-color-unfitted-level-1) 1pt solid;\n",
       "}\n",
       "\n",
       "#sk-container-id-1 a.estimator_doc_link.fitted {\n",
       "  /* fitted */\n",
       "  border: var(--sklearn-color-fitted-level-1) 1pt solid;\n",
       "  color: var(--sklearn-color-fitted-level-1);\n",
       "}\n",
       "\n",
       "/* On hover */\n",
       "#sk-container-id-1 a.estimator_doc_link:hover {\n",
       "  /* unfitted */\n",
       "  background-color: var(--sklearn-color-unfitted-level-3);\n",
       "  color: var(--sklearn-color-background);\n",
       "  text-decoration: none;\n",
       "}\n",
       "\n",
       "#sk-container-id-1 a.estimator_doc_link.fitted:hover {\n",
       "  /* fitted */\n",
       "  background-color: var(--sklearn-color-fitted-level-3);\n",
       "}\n",
       "</style><div id=\"sk-container-id-1\" class=\"sk-top-container\"><div class=\"sk-text-repr-fallback\"><pre>XGBClassifier(base_score=None, booster=None, callbacks=None,\n",
       "              colsample_bylevel=None, colsample_bynode=0.5680143588931301,\n",
       "              colsample_bytree=None, device=None, early_stopping_rounds=None,\n",
       "              enable_categorical=False,\n",
       "              eval_metric=&lt;function custom_f1_score at 0x7fdcda7c7d80&gt;,\n",
       "              feature_types=None, gamma=None, grow_policy=None,\n",
       "              importance_type=None, interaction_constraints=None,\n",
       "              learning_rate=0.33178224108084087, max_bin=None,\n",
       "              max_cat_threshold=None, max_cat_to_onehot=None,\n",
       "              max_delta_step=None, max_depth=8, max_leaves=None,\n",
       "              min_child_weight=1, missing=nan, monotone_constraints=None,\n",
       "              multi_strategy=None, n_estimators=21, n_jobs=None,\n",
       "              num_parallel_tree=None, objective=&#x27;multi:softprob&#x27;, ...)</pre><b>In a Jupyter environment, please rerun this cell to show the HTML representation or trust the notebook. <br />On GitHub, the HTML representation is unable to render, please try loading this page with nbviewer.org.</b></div><div class=\"sk-container\" hidden><div class=\"sk-item\"><div class=\"sk-estimator fitted sk-toggleable\"><input class=\"sk-toggleable__control sk-hidden--visually\" id=\"sk-estimator-id-1\" type=\"checkbox\" checked><label for=\"sk-estimator-id-1\" class=\"sk-toggleable__label fitted sk-toggleable__label-arrow fitted\">&nbsp;XGBClassifier<span class=\"sk-estimator-doc-link fitted\">i<span>Fitted</span></span></label><div class=\"sk-toggleable__content fitted\"><pre>XGBClassifier(base_score=None, booster=None, callbacks=None,\n",
       "              colsample_bylevel=None, colsample_bynode=0.5680143588931301,\n",
       "              colsample_bytree=None, device=None, early_stopping_rounds=None,\n",
       "              enable_categorical=False,\n",
       "              eval_metric=&lt;function custom_f1_score at 0x7fdcda7c7d80&gt;,\n",
       "              feature_types=None, gamma=None, grow_policy=None,\n",
       "              importance_type=None, interaction_constraints=None,\n",
       "              learning_rate=0.33178224108084087, max_bin=None,\n",
       "              max_cat_threshold=None, max_cat_to_onehot=None,\n",
       "              max_delta_step=None, max_depth=8, max_leaves=None,\n",
       "              min_child_weight=1, missing=nan, monotone_constraints=None,\n",
       "              multi_strategy=None, n_estimators=21, n_jobs=None,\n",
       "              num_parallel_tree=None, objective=&#x27;multi:softprob&#x27;, ...)</pre></div> </div></div></div></div>"
      ],
      "text/plain": [
       "XGBClassifier(base_score=None, booster=None, callbacks=None,\n",
       "              colsample_bylevel=None, colsample_bynode=0.5680143588931301,\n",
       "              colsample_bytree=None, device=None, early_stopping_rounds=None,\n",
       "              enable_categorical=False,\n",
       "              eval_metric=<function custom_f1_score at 0x7fdcda7c7d80>,\n",
       "              feature_types=None, gamma=None, grow_policy=None,\n",
       "              importance_type=None, interaction_constraints=None,\n",
       "              learning_rate=0.33178224108084087, max_bin=None,\n",
       "              max_cat_threshold=None, max_cat_to_onehot=None,\n",
       "              max_delta_step=None, max_depth=8, max_leaves=None,\n",
       "              min_child_weight=1, missing=nan, monotone_constraints=None,\n",
       "              multi_strategy=None, n_estimators=21, n_jobs=None,\n",
       "              num_parallel_tree=None, objective='multi:softprob', ...)"
      ]
     },
     "execution_count": 21,
     "metadata": {},
     "output_type": "execute_result"
    }
   ],
   "source": [
    "n_estimators = int(study.best_trial.user_attrs['best_iteration']*1.2)\n",
    "xgb = xgboost.XGBClassifier(\n",
    "        eval_metric=eval_metric,\n",
    "        n_estimators=n_estimators,\n",
    "        **study.best_trial.params\n",
    "    )\n",
    "xgb.fit(\n",
    "    ssp.vstack((X_train, X_val)), \n",
    "    np.concatenate((y_train_enc, y_val_enc)),\n",
    "    verbose=1,\n",
    ")"
   ]
  },
  {
   "cell_type": "code",
   "execution_count": 22,
   "id": "02e3a018",
   "metadata": {
    "execution": {
     "iopub.execute_input": "2025-05-15T16:15:58.614844Z",
     "iopub.status.busy": "2025-05-15T16:15:58.614624Z",
     "iopub.status.idle": "2025-05-15T16:15:58.627983Z",
     "shell.execute_reply": "2025-05-15T16:15:58.627606Z"
    },
    "papermill": {
     "duration": 0.02494,
     "end_time": "2025-05-15T16:15:58.629159",
     "exception": false,
     "start_time": "2025-05-15T16:15:58.604219",
     "status": "completed"
    },
    "tags": []
   },
   "outputs": [
    {
     "data": {
      "text/plain": [
       "['/scratch_isilon/groups/singlecell/shared/projects/Inflammation-PBMCs-Atlas/03_downstream_analysis/08_gene_importance/xgboost_external_validation/xgboost_TopN_genes/results_20/best_model/Plasma_13_2_xgb.json']"
      ]
     },
     "execution_count": 22,
     "metadata": {},
     "output_type": "execute_result"
    }
   ],
   "source": [
    "out_dir = here(f'03_downstream_analysis/08_gene_importance/xgboost_external_validation/xgboost_TopN_genes/results_{N_GENES}/best_model')\n",
    "\n",
    "if not os.path.exists(out_dir):\n",
    "    os.makedirs(out_dir)\n",
    "    \n",
    "joblib.dump(xgb, os.path.join(out_dir, f'{CELL_TYPE}_{SEED}_{TEST_SPLIT_IDX}_xgb.json'))"
   ]
  },
  {
   "cell_type": "code",
   "execution_count": 23,
   "id": "c7e08674",
   "metadata": {
    "execution": {
     "iopub.execute_input": "2025-05-15T16:15:58.649699Z",
     "iopub.status.busy": "2025-05-15T16:15:58.649482Z",
     "iopub.status.idle": "2025-05-15T16:15:58.655377Z",
     "shell.execute_reply": "2025-05-15T16:15:58.655019Z"
    },
    "papermill": {
     "duration": 0.022096,
     "end_time": "2025-05-15T16:15:58.661287",
     "exception": false,
     "start_time": "2025-05-15T16:15:58.639191",
     "status": "completed"
    },
    "tags": []
   },
   "outputs": [],
   "source": [
    "df_pred_test = pd.DataFrame(dict(\n",
    "    cell_id=train_adata.obs.iloc[test_idxs].index.values,\n",
    "    y_true=y_test, \n",
    "    y_true_code=y_test_enc, \n",
    "    y_pred=xgb.predict(X_test))).set_index('cell_id')"
   ]
  },
  {
   "cell_type": "code",
   "execution_count": 24,
   "id": "e342ded8",
   "metadata": {
    "execution": {
     "iopub.execute_input": "2025-05-15T16:15:58.688698Z",
     "iopub.status.busy": "2025-05-15T16:15:58.688497Z",
     "iopub.status.idle": "2025-05-15T16:15:58.701014Z",
     "shell.execute_reply": "2025-05-15T16:15:58.700556Z"
    },
    "papermill": {
     "duration": 0.023434,
     "end_time": "2025-05-15T16:15:58.701940",
     "exception": false,
     "start_time": "2025-05-15T16:15:58.678506",
     "status": "completed"
    },
    "tags": []
   },
   "outputs": [],
   "source": [
    "out_dir = here(f'03_downstream_analysis/08_gene_importance/xgboost_external_validation/xgboost_TopN_genes/results_{N_GENES}/predictions')\n",
    "\n",
    "if not os.path.exists(out_dir):\n",
    "    os.makedirs(out_dir)\n",
    "    \n",
    "df_pred_test.to_csv(os.path.join(out_dir, f'{CELL_TYPE}_{SEED}_{TEST_SPLIT_IDX}_pred_test.zip'))"
   ]
  },
  {
   "cell_type": "code",
   "execution_count": 25,
   "id": "32aad2e3",
   "metadata": {
    "execution": {
     "iopub.execute_input": "2025-05-15T16:15:58.741151Z",
     "iopub.status.busy": "2025-05-15T16:15:58.740937Z",
     "iopub.status.idle": "2025-05-15T16:15:58.747210Z",
     "shell.execute_reply": "2025-05-15T16:15:58.746844Z"
    },
    "papermill": {
     "duration": 0.036133,
     "end_time": "2025-05-15T16:15:58.748147",
     "exception": false,
     "start_time": "2025-05-15T16:15:58.712014",
     "status": "completed"
    },
    "tags": []
   },
   "outputs": [],
   "source": [
    "metrics_dict = dict(\n",
    "    BAS=balanced_accuracy_score(y_true=df_pred_test.y_true_code, y_pred=df_pred_test.y_pred), WF1=f1_score(y_true=df_pred_test.y_true_code, y_pred=df_pred_test.y_pred,average='weighted'))"
   ]
  },
  {
   "cell_type": "code",
   "execution_count": 26,
   "id": "bc6370c5",
   "metadata": {
    "execution": {
     "iopub.execute_input": "2025-05-15T16:15:58.769231Z",
     "iopub.status.busy": "2025-05-15T16:15:58.769032Z",
     "iopub.status.idle": "2025-05-15T16:15:58.772109Z",
     "shell.execute_reply": "2025-05-15T16:15:58.771763Z"
    },
    "papermill": {
     "duration": 0.014648,
     "end_time": "2025-05-15T16:15:58.773036",
     "exception": false,
     "start_time": "2025-05-15T16:15:58.758388",
     "status": "completed"
    },
    "tags": []
   },
   "outputs": [
    {
     "data": {
      "text/plain": [
       "{'BAS': 0.39864792070674426, 'WF1': 0.5399087835027382}"
      ]
     },
     "execution_count": 26,
     "metadata": {},
     "output_type": "execute_result"
    }
   ],
   "source": [
    "metrics_dict"
   ]
  },
  {
   "cell_type": "code",
   "execution_count": 27,
   "id": "8ae57f2e",
   "metadata": {
    "execution": {
     "iopub.execute_input": "2025-05-15T16:15:58.793908Z",
     "iopub.status.busy": "2025-05-15T16:15:58.793387Z",
     "iopub.status.idle": "2025-05-15T16:15:58.802522Z",
     "shell.execute_reply": "2025-05-15T16:15:58.802177Z"
    },
    "papermill": {
     "duration": 0.020398,
     "end_time": "2025-05-15T16:15:58.803459",
     "exception": false,
     "start_time": "2025-05-15T16:15:58.783061",
     "status": "completed"
    },
    "tags": []
   },
   "outputs": [
    {
     "data": {
      "text/html": [
       "<div>\n",
       "<style scoped>\n",
       "    .dataframe tbody tr th:only-of-type {\n",
       "        vertical-align: middle;\n",
       "    }\n",
       "\n",
       "    .dataframe tbody tr th {\n",
       "        vertical-align: top;\n",
       "    }\n",
       "\n",
       "    .dataframe thead th {\n",
       "        text-align: right;\n",
       "    }\n",
       "</style>\n",
       "<table border=\"1\" class=\"dataframe\">\n",
       "  <thead>\n",
       "    <tr style=\"text-align: right;\">\n",
       "      <th></th>\n",
       "      <th>BAS</th>\n",
       "      <th>WF1</th>\n",
       "      <th>split_idx</th>\n",
       "      <th>gene_set_seed</th>\n",
       "      <th>cell_type</th>\n",
       "    </tr>\n",
       "  </thead>\n",
       "  <tbody>\n",
       "    <tr>\n",
       "      <th>0</th>\n",
       "      <td>0.398648</td>\n",
       "      <td>0.539909</td>\n",
       "      <td>2</td>\n",
       "      <td>13</td>\n",
       "      <td>Plasma</td>\n",
       "    </tr>\n",
       "  </tbody>\n",
       "</table>\n",
       "</div>"
      ],
      "text/plain": [
       "        BAS       WF1  split_idx  gene_set_seed cell_type\n",
       "0  0.398648  0.539909          2             13    Plasma"
      ]
     },
     "execution_count": 27,
     "metadata": {},
     "output_type": "execute_result"
    }
   ],
   "source": [
    "metrics_df = pd.DataFrame.from_dict([metrics_dict]).assign(split_idx=TEST_SPLIT_IDX, gene_set_seed=SEED, cell_type=CELL_TYPE)\n",
    "metrics_df"
   ]
  },
  {
   "cell_type": "code",
   "execution_count": 28,
   "id": "5169cfda",
   "metadata": {
    "execution": {
     "iopub.execute_input": "2025-05-15T16:15:58.836712Z",
     "iopub.status.busy": "2025-05-15T16:15:58.836483Z",
     "iopub.status.idle": "2025-05-15T16:15:58.845129Z",
     "shell.execute_reply": "2025-05-15T16:15:58.844722Z"
    },
    "papermill": {
     "duration": 0.032594,
     "end_time": "2025-05-15T16:15:58.846040",
     "exception": false,
     "start_time": "2025-05-15T16:15:58.813446",
     "status": "completed"
    },
    "tags": []
   },
   "outputs": [],
   "source": [
    "out_dir = here(f'03_downstream_analysis/08_gene_importance/xgboost_external_validation/xgboost_TopN_genes/results_{N_GENES}/metrics')\n",
    "\n",
    "if not os.path.exists(out_dir):\n",
    "    os.makedirs(out_dir)\n",
    "    \n",
    "metrics_df.to_csv(os.path.join(out_dir, f'{CELL_TYPE}_{SEED}_{TEST_SPLIT_IDX}_metrics.zip'))"
   ]
  }
 ],
 "metadata": {
  "kernelspec": {
   "display_name": "Python 3 (ipykernel)",
   "language": "python",
   "name": "python3"
  },
  "language_info": {
   "codemirror_mode": {
    "name": "ipython",
    "version": 3
   },
   "file_extension": ".py",
   "mimetype": "text/x-python",
   "name": "python",
   "nbconvert_exporter": "python",
   "pygments_lexer": "ipython3",
   "version": "3.12.5"
  },
  "papermill": {
   "default_parameters": {},
   "duration": 16.616431,
   "end_time": "2025-05-15T16:15:59.475575",
   "environment_variables": {},
   "exception": null,
   "input_path": "02_xgboost_fitting_external_20genes.ipynb",
   "output_path": "results_20/executed_notebooks/xgboost_fitting_external_CT_Plasma_GS_13_seed2.ipynb",
   "parameters": {
    "CELL_TYPE": "Plasma",
    "SEED": 13,
    "TEST_SPLIT_IDX": 2
   },
   "start_time": "2025-05-15T16:15:42.859144",
   "version": "2.6.0"
  }
 },
 "nbformat": 4,
 "nbformat_minor": 5
}