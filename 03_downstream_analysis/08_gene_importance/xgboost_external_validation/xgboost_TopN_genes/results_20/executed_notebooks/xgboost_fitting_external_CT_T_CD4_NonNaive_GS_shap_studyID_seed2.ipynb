{
 "cells": [
  {
   "cell_type": "code",
   "execution_count": 1,
   "id": "9b4477c2",
   "metadata": {
    "editable": true,
    "execution": {
     "iopub.execute_input": "2025-05-14T16:08:00.024388Z",
     "iopub.status.busy": "2025-05-14T16:08:00.024228Z",
     "iopub.status.idle": "2025-05-14T16:08:00.027138Z",
     "shell.execute_reply": "2025-05-14T16:08:00.026777Z"
    },
    "papermill": {
     "duration": 0.010977,
     "end_time": "2025-05-14T16:08:00.028061",
     "exception": false,
     "start_time": "2025-05-14T16:08:00.017084",
     "status": "completed"
    },
    "slideshow": {
     "slide_type": ""
    },
    "tags": [
     "parameters"
    ]
   },
   "outputs": [],
   "source": [
    "CELL_TYPE = 'pDC'\n",
    "N_GENES: int = 20\n",
    "SEED = 'shap_studyID' #'disease_NOstudy' 'study_NOdisease' or 'int' or 'shap_studyID'\n",
    "TEST_SPLIT_IDX: int = 1 #[0,4]"
   ]
  },
  {
   "cell_type": "code",
   "execution_count": 2,
   "id": "63945dfd",
   "metadata": {
    "execution": {
     "iopub.execute_input": "2025-05-14T16:08:00.041028Z",
     "iopub.status.busy": "2025-05-14T16:08:00.040798Z",
     "iopub.status.idle": "2025-05-14T16:08:00.043013Z",
     "shell.execute_reply": "2025-05-14T16:08:00.042663Z"
    },
    "papermill": {
     "duration": 0.008839,
     "end_time": "2025-05-14T16:08:00.043919",
     "exception": false,
     "start_time": "2025-05-14T16:08:00.035080",
     "status": "completed"
    },
    "tags": [
     "injected-parameters"
    ]
   },
   "outputs": [],
   "source": [
    "# Parameters\n",
    "CELL_TYPE = \"T_CD4_NonNaive\"\n",
    "SEED = \"shap_studyID\"\n",
    "TEST_SPLIT_IDX = 2\n"
   ]
  },
  {
   "cell_type": "code",
   "execution_count": 3,
   "id": "b9d41260",
   "metadata": {
    "execution": {
     "iopub.execute_input": "2025-05-14T16:08:00.056792Z",
     "iopub.status.busy": "2025-05-14T16:08:00.056322Z",
     "iopub.status.idle": "2025-05-14T16:08:00.058633Z",
     "shell.execute_reply": "2025-05-14T16:08:00.058226Z"
    },
    "papermill": {
     "duration": 0.010127,
     "end_time": "2025-05-14T16:08:00.059545",
     "exception": false,
     "start_time": "2025-05-14T16:08:00.049418",
     "status": "completed"
    },
    "tags": []
   },
   "outputs": [],
   "source": [
    "N_SPLITS: int = 5\n",
    "N_TRIALS: int = 50"
   ]
  },
  {
   "cell_type": "code",
   "execution_count": 4,
   "id": "95cdb3f6",
   "metadata": {
    "execution": {
     "iopub.execute_input": "2025-05-14T16:08:00.072807Z",
     "iopub.status.busy": "2025-05-14T16:08:00.072488Z",
     "iopub.status.idle": "2025-05-14T16:08:03.497449Z",
     "shell.execute_reply": "2025-05-14T16:08:03.496971Z"
    },
    "papermill": {
     "duration": 3.43329,
     "end_time": "2025-05-14T16:08:03.498694",
     "exception": false,
     "start_time": "2025-05-14T16:08:00.065404",
     "status": "completed"
    },
    "tags": []
   },
   "outputs": [],
   "source": [
    "import os\n",
    "import sys\n",
    "from pyprojroot.here import here\n",
    "import pandas as pd\n",
    "import anndata as ad\n",
    "import numpy as np\n",
    "import math\n",
    "from sklearn.model_selection import StratifiedGroupKFold\n",
    "from sklearn.preprocessing import LabelEncoder\n",
    "from sklearn.metrics import f1_score\n",
    "import matplotlib.pyplot as plt\n",
    "import seaborn as sns\n",
    "from itertools import product\n",
    "from sklearn.metrics import balanced_accuracy_score, f1_score\n",
    "import optuna\n",
    "\n",
    "import joblib\n",
    "import pickle\n",
    "import datetime\n",
    "\n",
    "import collections\n",
    "\n",
    "import xgboost\n",
    "from sklearn.preprocessing import LabelEncoder\n",
    "\n",
    "import scipy.sparse as ssp\n",
    "import joblib\n",
    "\n",
    "from dotenv import load_dotenv"
   ]
  },
  {
   "cell_type": "code",
   "execution_count": 5,
   "id": "65b1f8a2",
   "metadata": {
    "execution": {
     "iopub.execute_input": "2025-05-14T16:08:03.524710Z",
     "iopub.status.busy": "2025-05-14T16:08:03.524256Z",
     "iopub.status.idle": "2025-05-14T16:08:03.529906Z",
     "shell.execute_reply": "2025-05-14T16:08:03.529501Z"
    },
    "papermill": {
     "duration": 0.024956,
     "end_time": "2025-05-14T16:08:03.530759",
     "exception": false,
     "start_time": "2025-05-14T16:08:03.505803",
     "status": "completed"
    },
    "tags": []
   },
   "outputs": [
    {
     "data": {
      "text/plain": [
       "True"
      ]
     },
     "execution_count": 5,
     "metadata": {},
     "output_type": "execute_result"
    }
   ],
   "source": [
    "load_dotenv()"
   ]
  },
  {
   "cell_type": "markdown",
   "id": "0175f65d",
   "metadata": {
    "papermill": {
     "duration": 0.006534,
     "end_time": "2025-05-14T16:08:03.545178",
     "exception": false,
     "start_time": "2025-05-14T16:08:03.538644",
     "status": "completed"
    },
    "tags": []
   },
   "source": [
    "# LOAD DATASET"
   ]
  },
  {
   "cell_type": "code",
   "execution_count": 6,
   "id": "64195697",
   "metadata": {
    "execution": {
     "iopub.execute_input": "2025-05-14T16:08:03.608192Z",
     "iopub.status.busy": "2025-05-14T16:08:03.607981Z",
     "iopub.status.idle": "2025-05-14T16:08:04.257466Z",
     "shell.execute_reply": "2025-05-14T16:08:04.256985Z"
    },
    "papermill": {
     "duration": 0.707835,
     "end_time": "2025-05-14T16:08:04.258641",
     "exception": false,
     "start_time": "2025-05-14T16:08:03.550806",
     "status": "completed"
    },
    "tags": []
   },
   "outputs": [],
   "source": [
    "train_adata = ad.read_h5ad(\n",
    "    here(f'03_downstream_analysis/08_gene_importance/xgboost_external_validation/xgboost_TopN_genes/data_cellTypes/EXTERNAL_{CELL_TYPE}.filtered.log1p.h5ad')\n",
    ")"
   ]
  },
  {
   "cell_type": "code",
   "execution_count": 7,
   "id": "8cfdd5ed",
   "metadata": {
    "execution": {
     "iopub.execute_input": "2025-05-14T16:08:04.271323Z",
     "iopub.status.busy": "2025-05-14T16:08:04.271131Z",
     "iopub.status.idle": "2025-05-14T16:08:04.302600Z",
     "shell.execute_reply": "2025-05-14T16:08:04.302071Z"
    },
    "papermill": {
     "duration": 0.038896,
     "end_time": "2025-05-14T16:08:04.303479",
     "exception": false,
     "start_time": "2025-05-14T16:08:04.264583",
     "status": "completed"
    },
    "tags": []
   },
   "outputs": [
    {
     "name": "stdout",
     "output_type": "stream",
     "text": [
      "['ENSG00000075624' 'ENSG00000115073' 'ENSG00000160710' 'ENSG00000105221'\n",
      " 'ENSG00000166747' 'ENSG00000072958' 'ENSG00000182287' 'ENSG00000196961'\n",
      " 'ENSG00000006125' 'ENSG00000165527' 'ENSG00000152219' 'ENSG00000170540'\n",
      " 'ENSG00000144746' 'ENSG00000152234' 'ENSG00000099624' 'ENSG00000241837'\n",
      " 'ENSG00000185883' 'ENSG00000127152' 'ENSG00000069399' 'ENSG00000015475'\n",
      " 'ENSG00000133639' 'ENSG00000108561' 'ENSG00000198668' 'ENSG00000143933'\n",
      " 'ENSG00000110395' 'ENSG00000104894' 'ENSG00000002586' 'ENSG00000141367'\n",
      " 'ENSG00000162368' 'ENSG00000103187' 'ENSG00000005339' 'ENSG00000101439'\n",
      " 'ENSG00000121966' 'ENSG00000051523' 'ENSG00000132912' 'ENSG00000104671'\n",
      " 'ENSG00000089737' 'ENSG00000079805' 'ENSG00000120129' 'ENSG00000158050'\n",
      " 'ENSG00000077380' 'ENSG00000135720' 'ENSG00000088986' 'ENSG00000264364'\n",
      " 'ENSG00000107223' 'ENSG00000254772' 'ENSG00000143924' 'ENSG00000142227'\n",
      " 'ENSG00000164307' 'ENSG00000134954' 'ENSG00000125740' 'ENSG00000089280'\n",
      " 'ENSG00000089327' 'ENSG00000170296' 'ENSG00000242616' 'ENSG00000177885'\n",
      " 'ENSG00000178719' 'ENSG00000143774' 'ENSG00000184897' 'ENSG00000132475'\n",
      " 'ENSG00000197061' 'ENSG00000206503' 'ENSG00000234745' 'ENSG00000204592'\n",
      " 'ENSG00000164104' 'ENSG00000076662' 'ENSG00000160888' 'ENSG00000216490'\n",
      " 'ENSG00000185885' 'ENSG00000142089' 'ENSG00000027697' 'ENSG00000211895'\n",
      " 'ENSG00000243646' 'ENSG00000172349' 'ENSG00000147168' 'ENSG00000008517'\n",
      " 'ENSG00000213928' 'ENSG00000136003' 'ENSG00000187608' 'ENSG00000005844'\n",
      " 'ENSG00000078596' 'ENSG00000135916' 'ENSG00000132465' 'ENSG00000143543'\n",
      " 'ENSG00000177606' 'ENSG00000171223' 'ENSG00000121774' 'ENSG00000068796'\n",
      " 'ENSG00000075945' 'ENSG00000126214' 'ENSG00000127528' 'ENSG00000186395'\n",
      " 'ENSG00000149357' 'ENSG00000002549' 'ENSG00000203896' 'ENSG00000172936'\n",
      " 'ENSG00000152082' 'ENSG00000186010' 'ENSG00000100906' 'ENSG00000144802'\n",
      " 'ENSG00000120837' 'ENSG00000066136' 'ENSG00000243678' 'ENSG00000105373'\n",
      " 'ENSG00000169564' 'ENSG00000197111' 'ENSG00000171608' 'ENSG00000198355'\n",
      " 'ENSG00000175482' 'ENSG00000125534' 'ENSG00000197746' 'ENSG00000129084'\n",
      " 'ENSG00000106588' 'ENSG00000100902' 'ENSG00000205220' 'ENSG00000184007'\n",
      " 'ENSG00000175354' 'ENSG00000108774' 'ENSG00000075785' 'ENSG00000127314'\n",
      " 'ENSG00000173039' 'ENSG00000171700' 'ENSG00000219200' 'ENSG00000168894'\n",
      " 'ENSG00000143546' 'ENSG00000163220' 'ENSG00000152700' 'ENSG00000138674'\n",
      " 'ENSG00000185338' 'ENSG00000184557' 'ENSG00000115875' 'ENSG00000160075'\n",
      " 'ENSG00000168610' 'ENSG00000126561' 'ENSG00000076944' 'ENSG00000108639'\n",
      " 'ENSG00000204267' 'ENSG00000183508' 'ENSG00000105329' 'ENSG00000243749'\n",
      " 'ENSG00000205542' 'ENSG00000232810' 'ENSG00000157873' 'ENSG00000067182'\n",
      " 'ENSG00000239697' 'ENSG00000102524' 'ENSG00000277734' 'ENSG00000009790'\n",
      " 'ENSG00000181029' 'ENSG00000100300' 'ENSG00000167552' 'ENSG00000123416'\n",
      " 'ENSG00000011600' 'ENSG00000244687' 'ENSG00000127540' 'ENSG00000165280'\n",
      " 'ENSG00000140105' 'ENSG00000105583' 'ENSG00000185650']\n"
     ]
    }
   ],
   "source": [
    "if SEED != 'all':\n",
    "    gene_subset = np.load(here(f'03_downstream_analysis/08_gene_importance/xgboost_external_validation/shap_gene_selection/gene_subsets_{N_GENES}/{CELL_TYPE}_{SEED}.npy'), allow_pickle=True)\n",
    "    train_adata = train_adata[:,gene_subset]\n",
    "    print(gene_subset)\n",
    "elif SEED == 'all':\n",
    "    print('Using all genes')\n",
    "else:\n",
    "    raise ValueError()"
   ]
  },
  {
   "cell_type": "code",
   "execution_count": 8,
   "id": "6c4a349f",
   "metadata": {
    "execution": {
     "iopub.execute_input": "2025-05-14T16:08:04.316306Z",
     "iopub.status.busy": "2025-05-14T16:08:04.316116Z",
     "iopub.status.idle": "2025-05-14T16:08:04.319180Z",
     "shell.execute_reply": "2025-05-14T16:08:04.318886Z"
    },
    "papermill": {
     "duration": 0.010665,
     "end_time": "2025-05-14T16:08:04.320013",
     "exception": false,
     "start_time": "2025-05-14T16:08:04.309348",
     "status": "completed"
    },
    "tags": []
   },
   "outputs": [
    {
     "data": {
      "text/plain": [
       "(124886, 159)"
      ]
     },
     "execution_count": 8,
     "metadata": {},
     "output_type": "execute_result"
    }
   ],
   "source": [
    "train_adata.shape"
   ]
  },
  {
   "cell_type": "code",
   "execution_count": 9,
   "id": "c916500a",
   "metadata": {
    "execution": {
     "iopub.execute_input": "2025-05-14T16:08:04.332832Z",
     "iopub.status.busy": "2025-05-14T16:08:04.332655Z",
     "iopub.status.idle": "2025-05-14T16:08:04.336399Z",
     "shell.execute_reply": "2025-05-14T16:08:04.336094Z"
    },
    "papermill": {
     "duration": 0.011385,
     "end_time": "2025-05-14T16:08:04.337237",
     "exception": false,
     "start_time": "2025-05-14T16:08:04.325852",
     "status": "completed"
    },
    "tags": []
   },
   "outputs": [
    {
     "data": {
      "text/plain": [
       "['RA', 'healthy', 'COVID', 'HIV', 'cirrhosis', 'CD', 'SLE', 'sepsis']\n",
       "Categories (8, object): ['CD', 'COVID', 'HIV', 'RA', 'SLE', 'cirrhosis', 'healthy', 'sepsis']"
      ]
     },
     "execution_count": 9,
     "metadata": {},
     "output_type": "execute_result"
    }
   ],
   "source": [
    "train_adata.obs.disease.unique()"
   ]
  },
  {
   "cell_type": "code",
   "execution_count": 10,
   "id": "2576d6b0",
   "metadata": {
    "execution": {
     "iopub.execute_input": "2025-05-14T16:08:04.394888Z",
     "iopub.status.busy": "2025-05-14T16:08:04.394714Z",
     "iopub.status.idle": "2025-05-14T16:08:04.398701Z",
     "shell.execute_reply": "2025-05-14T16:08:04.398407Z"
    },
    "papermill": {
     "duration": 0.055488,
     "end_time": "2025-05-14T16:08:04.399552",
     "exception": false,
     "start_time": "2025-05-14T16:08:04.344064",
     "status": "completed"
    },
    "tags": []
   },
   "outputs": [
    {
     "data": {
      "text/plain": [
       "['SCGT00val_I036016_T0', 'SCGT00val_I036023_T0', 'SCGT00val_I036015_T0', 'SCGT00val_I036028_T0', 'SCGT00val_I0364_T0', ..., '10XGenomics_10XHC2_T0', '10XGenomics_10XHC3_T0', '10XGenomics_10XHC5_T0', '10XGenomics_10XHC7_T0', '10XGenomics_10XHC8_T0']\n",
       "Length: 86\n",
       "Categories (86, object): ['10XGenomics_10XHC1_T0', '10XGenomics_10XHC2_T0', '10XGenomics_10XHC3_T0', '10XGenomics_10XHC4_T0', ..., 'Savage2021_BRISL6_T0', 'Savage2021_BRISL7_T0', 'Savage2021_PIDA_T0', 'Savage2021_PIDB_T0']"
      ]
     },
     "execution_count": 10,
     "metadata": {},
     "output_type": "execute_result"
    }
   ],
   "source": [
    "train_adata.obs.sampleID.unique()"
   ]
  },
  {
   "cell_type": "code",
   "execution_count": 11,
   "id": "d24daced",
   "metadata": {
    "execution": {
     "iopub.execute_input": "2025-05-14T16:08:04.412542Z",
     "iopub.status.busy": "2025-05-14T16:08:04.412280Z",
     "iopub.status.idle": "2025-05-14T16:08:04.706275Z",
     "shell.execute_reply": "2025-05-14T16:08:04.705864Z"
    },
    "papermill": {
     "duration": 0.301598,
     "end_time": "2025-05-14T16:08:04.707480",
     "exception": false,
     "start_time": "2025-05-14T16:08:04.405882",
     "status": "completed"
    },
    "tags": []
   },
   "outputs": [],
   "source": [
    "all_idxs = np.arange(train_adata.obs.shape[0])\n",
    "left_out_splits = [s[1] for s in StratifiedGroupKFold(n_splits=N_SPLITS).split(all_idxs, train_adata.obs.disease, train_adata.obs.sampleID)]"
   ]
  },
  {
   "cell_type": "code",
   "execution_count": 12,
   "id": "4176af2a",
   "metadata": {
    "execution": {
     "iopub.execute_input": "2025-05-14T16:08:04.720319Z",
     "iopub.status.busy": "2025-05-14T16:08:04.720126Z",
     "iopub.status.idle": "2025-05-14T16:08:04.723445Z",
     "shell.execute_reply": "2025-05-14T16:08:04.723133Z"
    },
    "papermill": {
     "duration": 0.010323,
     "end_time": "2025-05-14T16:08:04.724319",
     "exception": false,
     "start_time": "2025-05-14T16:08:04.713996",
     "status": "completed"
    },
    "tags": []
   },
   "outputs": [
    {
     "data": {
      "text/plain": [
       "([0, 1, 4], 3, 2)"
      ]
     },
     "execution_count": 12,
     "metadata": {},
     "output_type": "execute_result"
    }
   ],
   "source": [
    "TRAIN_SPLIT_IDXS = [0,1,2,3,4]\n",
    "VAL_SPLIT_IDX = (TEST_SPLIT_IDX + 1) % 5\n",
    "TRAIN_SPLIT_IDXS.remove(TEST_SPLIT_IDX)\n",
    "TRAIN_SPLIT_IDXS.remove(VAL_SPLIT_IDX)\n",
    "TRAIN_SPLIT_IDXS, VAL_SPLIT_IDX, TEST_SPLIT_IDX"
   ]
  },
  {
   "cell_type": "code",
   "execution_count": 13,
   "id": "c22210d9",
   "metadata": {
    "execution": {
     "iopub.execute_input": "2025-05-14T16:08:04.749868Z",
     "iopub.status.busy": "2025-05-14T16:08:04.749697Z",
     "iopub.status.idle": "2025-05-14T16:08:04.752014Z",
     "shell.execute_reply": "2025-05-14T16:08:04.751719Z"
    },
    "papermill": {
     "duration": 0.016789,
     "end_time": "2025-05-14T16:08:04.752884",
     "exception": false,
     "start_time": "2025-05-14T16:08:04.736095",
     "status": "completed"
    },
    "tags": []
   },
   "outputs": [],
   "source": [
    "train_idxs = np.concatenate([left_out_splits[idx] for idx in TRAIN_SPLIT_IDXS])\n",
    "val_idxs = left_out_splits[VAL_SPLIT_IDX]\n",
    "test_idxs = left_out_splits[TEST_SPLIT_IDX]"
   ]
  },
  {
   "cell_type": "markdown",
   "id": "589c0c48",
   "metadata": {
    "papermill": {
     "duration": 0.006449,
     "end_time": "2025-05-14T16:08:04.776016",
     "exception": false,
     "start_time": "2025-05-14T16:08:04.769567",
     "status": "completed"
    },
    "tags": []
   },
   "source": [
    "### SUBSET DATASET INTO TRAIN/TEST/VAL SPLITS"
   ]
  },
  {
   "cell_type": "code",
   "execution_count": 14,
   "id": "33e4a102",
   "metadata": {
    "execution": {
     "iopub.execute_input": "2025-05-14T16:08:04.788601Z",
     "iopub.status.busy": "2025-05-14T16:08:04.788430Z",
     "iopub.status.idle": "2025-05-14T16:08:05.148392Z",
     "shell.execute_reply": "2025-05-14T16:08:05.148034Z"
    },
    "papermill": {
     "duration": 0.367164,
     "end_time": "2025-05-14T16:08:05.149277",
     "exception": false,
     "start_time": "2025-05-14T16:08:04.782113",
     "status": "completed"
    },
    "tags": []
   },
   "outputs": [
    {
     "data": {
      "text/plain": [
       "((74670, 159), (25600, 159), (24616, 159))"
      ]
     },
     "execution_count": 14,
     "metadata": {},
     "output_type": "execute_result"
    }
   ],
   "source": [
    "X_train = train_adata.X[train_idxs]\n",
    "X_test = train_adata.X[test_idxs]\n",
    "X_val = train_adata.X[val_idxs]\n",
    "X_train.shape, X_test.shape, X_val.shape"
   ]
  },
  {
   "cell_type": "code",
   "execution_count": 15,
   "id": "d778e4b1",
   "metadata": {
    "execution": {
     "iopub.execute_input": "2025-05-14T16:08:05.162806Z",
     "iopub.status.busy": "2025-05-14T16:08:05.162621Z",
     "iopub.status.idle": "2025-05-14T16:08:05.174981Z",
     "shell.execute_reply": "2025-05-14T16:08:05.174639Z"
    },
    "papermill": {
     "duration": 0.020151,
     "end_time": "2025-05-14T16:08:05.175852",
     "exception": false,
     "start_time": "2025-05-14T16:08:05.155701",
     "status": "completed"
    },
    "tags": []
   },
   "outputs": [
    {
     "data": {
      "text/plain": [
       "((74670,), (25600,), (24616,))"
      ]
     },
     "execution_count": 15,
     "metadata": {},
     "output_type": "execute_result"
    }
   ],
   "source": [
    "y_train = train_adata.obs.iloc[train_idxs].disease.values.astype(str)\n",
    "y_test = train_adata.obs.iloc[test_idxs].disease.values.astype(str)\n",
    "y_val = train_adata.obs.iloc[val_idxs].disease.values.astype(str)\n",
    "y_train.shape, y_test.shape, y_val.shape"
   ]
  },
  {
   "cell_type": "code",
   "execution_count": 16,
   "id": "4e082383",
   "metadata": {
    "execution": {
     "iopub.execute_input": "2025-05-14T16:08:05.198267Z",
     "iopub.status.busy": "2025-05-14T16:08:05.198059Z",
     "iopub.status.idle": "2025-05-14T16:08:05.225485Z",
     "shell.execute_reply": "2025-05-14T16:08:05.224996Z"
    },
    "papermill": {
     "duration": 0.044818,
     "end_time": "2025-05-14T16:08:05.226728",
     "exception": false,
     "start_time": "2025-05-14T16:08:05.181910",
     "status": "completed"
    },
    "tags": []
   },
   "outputs": [],
   "source": [
    "lenc = LabelEncoder()\n",
    "y_train_enc = lenc.fit_transform(y_train)\n",
    "y_val_enc = lenc.transform(y_val)\n",
    "y_test_enc = lenc.transform(y_test)"
   ]
  },
  {
   "cell_type": "markdown",
   "id": "242c3508",
   "metadata": {
    "papermill": {
     "duration": 0.006559,
     "end_time": "2025-05-14T16:08:05.258012",
     "exception": false,
     "start_time": "2025-05-14T16:08:05.251453",
     "status": "completed"
    },
    "tags": []
   },
   "source": [
    "### GENERATE F1 "
   ]
  },
  {
   "cell_type": "code",
   "execution_count": 17,
   "id": "9855fc93",
   "metadata": {
    "execution": {
     "iopub.execute_input": "2025-05-14T16:08:05.271643Z",
     "iopub.status.busy": "2025-05-14T16:08:05.271238Z",
     "iopub.status.idle": "2025-05-14T16:08:05.274491Z",
     "shell.execute_reply": "2025-05-14T16:08:05.274158Z"
    },
    "papermill": {
     "duration": 0.011279,
     "end_time": "2025-05-14T16:08:05.275503",
     "exception": false,
     "start_time": "2025-05-14T16:08:05.264224",
     "status": "completed"
    },
    "tags": []
   },
   "outputs": [],
   "source": [
    "def custom_f1_score(y_true, y_pred):\n",
    "    return -f1_score(y_true, y_pred.argmax(1), average='weighted')"
   ]
  },
  {
   "cell_type": "code",
   "execution_count": 18,
   "id": "61cc9132",
   "metadata": {
    "execution": {
     "iopub.execute_input": "2025-05-14T16:08:05.288335Z",
     "iopub.status.busy": "2025-05-14T16:08:05.288136Z",
     "iopub.status.idle": "2025-05-14T16:08:05.291826Z",
     "shell.execute_reply": "2025-05-14T16:08:05.291521Z"
    },
    "papermill": {
     "duration": 0.011369,
     "end_time": "2025-05-14T16:08:05.292680",
     "exception": false,
     "start_time": "2025-05-14T16:08:05.281311",
     "status": "completed"
    },
    "tags": []
   },
   "outputs": [],
   "source": [
    "eval_metric=custom_f1_score\n",
    "eval_metric_name='custom_f1_score'\n",
    "\n",
    "def objective(trial):\n",
    "    params = {\n",
    "        'n_estimators': 1500,\n",
    "        'max_depth': trial.suggest_int('max_depth', 3, 20),\n",
    "        'min_child_weight': trial.suggest_int('min_child_weight', 1, 250),\n",
    "        'subsample': trial.suggest_float('subsample', 0.1, 1.0),\n",
    "        'colsample_bynode': trial.suggest_float('colsample_bynode', 0.1, 1.0),\n",
    "        'learning_rate': trial.suggest_float('learning_rate', 1e-3, 5e-1, log=True),\n",
    "    }\n",
    "    pruning_callback = optuna.integration.XGBoostPruningCallback(trial, f'validation_0-{eval_metric_name}')\n",
    "    es_callback = xgboost.callback.EarlyStopping(20, min_delta=0.001)\n",
    "    xgb = xgboost.XGBClassifier(\n",
    "        eval_metric=eval_metric,\n",
    "        callbacks=[pruning_callback, es_callback],\n",
    "        n_jobs=5,\n",
    "        **params\n",
    "    )\n",
    "    xgb.fit(\n",
    "        X_train, \n",
    "        y_train_enc, \n",
    "        verbose=0,\n",
    "        eval_set=[(X_val, y_val_enc)],\n",
    "    )\n",
    "    trial.set_user_attr('best_iteration', xgb.best_iteration)\n",
    "\n",
    "    return xgb.best_score"
   ]
  },
  {
   "cell_type": "code",
   "execution_count": 19,
   "id": "7a2d0ba7",
   "metadata": {
    "execution": {
     "iopub.execute_input": "2025-05-14T16:08:05.305267Z",
     "iopub.status.busy": "2025-05-14T16:08:05.305095Z",
     "iopub.status.idle": "2025-05-14T16:14:36.365897Z",
     "shell.execute_reply": "2025-05-14T16:14:36.365378Z"
    },
    "papermill": {
     "duration": 391.068136,
     "end_time": "2025-05-14T16:14:36.367037",
     "exception": false,
     "start_time": "2025-05-14T16:08:05.298901",
     "status": "completed"
    },
    "scrolled": true,
    "tags": []
   },
   "outputs": [
    {
     "name": "stderr",
     "output_type": "stream",
     "text": [
      "[I 2025-05-14 18:08:05,306] A new study created in memory with name: no-name-9ca90fa1-25d3-403d-a2d5-98e7257a5dde\n"
     ]
    },
    {
     "name": "stderr",
     "output_type": "stream",
     "text": [
      "[I 2025-05-14 18:08:34,296] Trial 0 finished with value: -0.759238 and parameters: {'max_depth': 9, 'min_child_weight': 238, 'subsample': 0.7587945476302645, 'colsample_bynode': 0.6387926357773329, 'learning_rate': 0.0026368755339723046}. Best is trial 0 with value: -0.759238.\n"
     ]
    },
    {
     "name": "stderr",
     "output_type": "stream",
     "text": [
      "[I 2025-05-14 18:08:43,468] Trial 1 finished with value: -0.762225 and parameters: {'max_depth': 5, 'min_child_weight': 15, 'subsample': 0.8795585311974417, 'colsample_bynode': 0.6410035105688879, 'learning_rate': 0.08148293210105287}. Best is trial 1 with value: -0.762225.\n"
     ]
    },
    {
     "name": "stderr",
     "output_type": "stream",
     "text": [
      "[I 2025-05-14 18:08:51,954] Trial 2 finished with value: -0.709542 and parameters: {'max_depth': 3, 'min_child_weight': 243, 'subsample': 0.8491983767203796, 'colsample_bynode': 0.29110519961044856, 'learning_rate': 0.003095566460242371}. Best is trial 1 with value: -0.762225.\n"
     ]
    },
    {
     "name": "stderr",
     "output_type": "stream",
     "text": [
      "[I 2025-05-14 18:09:01,036] Trial 3 finished with value: -0.759324 and parameters: {'max_depth': 6, 'min_child_weight': 77, 'subsample': 0.5722807884690141, 'colsample_bynode': 0.48875051677790415, 'learning_rate': 0.006109683510122491}. Best is trial 1 with value: -0.762225.\n"
     ]
    },
    {
     "name": "stderr",
     "output_type": "stream",
     "text": [
      "[I 2025-05-14 18:09:21,688] Trial 4 finished with value: -0.76566 and parameters: {'max_depth': 14, 'min_child_weight': 35, 'subsample': 0.3629301836816964, 'colsample_bynode': 0.4297256589643226, 'learning_rate': 0.01701841881702917}. Best is trial 4 with value: -0.76566.\n"
     ]
    },
    {
     "name": "stderr",
     "output_type": "stream",
     "text": [
      "[I 2025-05-14 18:09:22,619] Trial 5 pruned. Trial was pruned at iteration 0.\n"
     ]
    },
    {
     "name": "stderr",
     "output_type": "stream",
     "text": [
      "[I 2025-05-14 18:09:45,620] Trial 6 finished with value: -0.792314 and parameters: {'max_depth': 13, 'min_child_weight': 43, 'subsample': 0.1585464336867516, 'colsample_bynode': 0.9539969835279999, 'learning_rate': 0.4038423798071558}. Best is trial 6 with value: -0.792314.\n"
     ]
    },
    {
     "name": "stderr",
     "output_type": "stream",
     "text": [
      "[I 2025-05-14 18:09:46,443] Trial 7 pruned. Trial was pruned at iteration 0.\n"
     ]
    },
    {
     "name": "stderr",
     "output_type": "stream",
     "text": [
      "[I 2025-05-14 18:09:47,226] Trial 8 pruned. Trial was pruned at iteration 0.\n"
     ]
    },
    {
     "name": "stderr",
     "output_type": "stream",
     "text": [
      "[I 2025-05-14 18:09:48,102] Trial 9 pruned. Trial was pruned at iteration 0.\n"
     ]
    },
    {
     "name": "stderr",
     "output_type": "stream",
     "text": [
      "[I 2025-05-14 18:09:48,933] Trial 10 pruned. Trial was pruned at iteration 0.\n"
     ]
    },
    {
     "name": "stderr",
     "output_type": "stream",
     "text": [
      "[I 2025-05-14 18:09:50,020] Trial 11 pruned. Trial was pruned at iteration 0.\n"
     ]
    },
    {
     "name": "stderr",
     "output_type": "stream",
     "text": [
      "[I 2025-05-14 18:09:50,836] Trial 12 pruned. Trial was pruned at iteration 0.\n"
     ]
    },
    {
     "name": "stderr",
     "output_type": "stream",
     "text": [
      "[I 2025-05-14 18:10:01,158] Trial 13 finished with value: -0.783607 and parameters: {'max_depth': 9, 'min_child_weight': 41, 'subsample': 0.24049827227484538, 'colsample_bynode': 0.8199895981263988, 'learning_rate': 0.045374058486930414}. Best is trial 6 with value: -0.792314.\n"
     ]
    },
    {
     "name": "stderr",
     "output_type": "stream",
     "text": [
      "[I 2025-05-14 18:10:01,979] Trial 14 pruned. Trial was pruned at iteration 0.\n"
     ]
    },
    {
     "name": "stderr",
     "output_type": "stream",
     "text": [
      "[I 2025-05-14 18:10:02,830] Trial 15 pruned. Trial was pruned at iteration 0.\n"
     ]
    },
    {
     "name": "stderr",
     "output_type": "stream",
     "text": [
      "[I 2025-05-14 18:10:03,700] Trial 16 pruned. Trial was pruned at iteration 0.\n"
     ]
    },
    {
     "name": "stderr",
     "output_type": "stream",
     "text": [
      "[I 2025-05-14 18:10:04,501] Trial 17 pruned. Trial was pruned at iteration 0.\n"
     ]
    },
    {
     "name": "stderr",
     "output_type": "stream",
     "text": [
      "[I 2025-05-14 18:10:48,008] Trial 18 finished with value: -0.793895 and parameters: {'max_depth': 16, 'min_child_weight': 32, 'subsample': 0.4588856334675963, 'colsample_bynode': 0.7515218542762717, 'learning_rate': 0.2114672367101647}. Best is trial 18 with value: -0.793895.\n"
     ]
    },
    {
     "name": "stderr",
     "output_type": "stream",
     "text": [
      "[I 2025-05-14 18:10:48,888] Trial 19 pruned. Trial was pruned at iteration 0.\n"
     ]
    },
    {
     "name": "stderr",
     "output_type": "stream",
     "text": [
      "[I 2025-05-14 18:11:27,830] Trial 20 finished with value: -0.794728 and parameters: {'max_depth': 20, 'min_child_weight': 18, 'subsample': 0.7034906283443978, 'colsample_bynode': 0.905590478485629, 'learning_rate': 0.22283404441501467}. Best is trial 20 with value: -0.794728.\n"
     ]
    },
    {
     "name": "stderr",
     "output_type": "stream",
     "text": [
      "[I 2025-05-14 18:12:08,209] Trial 21 finished with value: -0.793876 and parameters: {'max_depth': 19, 'min_child_weight': 25, 'subsample': 0.6926093176572774, 'colsample_bynode': 0.9013318590111397, 'learning_rate': 0.23850622460083318}. Best is trial 20 with value: -0.794728.\n"
     ]
    },
    {
     "name": "stderr",
     "output_type": "stream",
     "text": [
      "[I 2025-05-14 18:12:27,206] Trial 22 pruned. Trial was pruned at iteration 23.\n"
     ]
    },
    {
     "name": "stderr",
     "output_type": "stream",
     "text": [
      "[I 2025-05-14 18:12:28,307] Trial 23 pruned. Trial was pruned at iteration 0.\n"
     ]
    },
    {
     "name": "stderr",
     "output_type": "stream",
     "text": [
      "[I 2025-05-14 18:12:53,550] Trial 24 pruned. Trial was pruned at iteration 46.\n"
     ]
    },
    {
     "name": "stderr",
     "output_type": "stream",
     "text": [
      "[I 2025-05-14 18:12:55,413] Trial 25 pruned. Trial was pruned at iteration 0.\n"
     ]
    },
    {
     "name": "stderr",
     "output_type": "stream",
     "text": [
      "[I 2025-05-14 18:13:09,008] Trial 26 finished with value: -0.787945 and parameters: {'max_depth': 18, 'min_child_weight': 102, 'subsample': 0.8014853820805108, 'colsample_bynode': 0.8788837434376017, 'learning_rate': 0.0668037040487806}. Best is trial 20 with value: -0.794728.\n"
     ]
    },
    {
     "name": "stderr",
     "output_type": "stream",
     "text": [
      "[I 2025-05-14 18:13:09,988] Trial 27 pruned. Trial was pruned at iteration 0.\n"
     ]
    },
    {
     "name": "stderr",
     "output_type": "stream",
     "text": [
      "[I 2025-05-14 18:13:11,116] Trial 28 pruned. Trial was pruned at iteration 0.\n"
     ]
    },
    {
     "name": "stderr",
     "output_type": "stream",
     "text": [
      "[I 2025-05-14 18:13:11,994] Trial 29 pruned. Trial was pruned at iteration 0.\n"
     ]
    },
    {
     "name": "stderr",
     "output_type": "stream",
     "text": [
      "[I 2025-05-14 18:13:12,976] Trial 30 pruned. Trial was pruned at iteration 0.\n"
     ]
    },
    {
     "name": "stderr",
     "output_type": "stream",
     "text": [
      "[I 2025-05-14 18:13:47,761] Trial 31 finished with value: -0.795108 and parameters: {'max_depth': 11, 'min_child_weight': 31, 'subsample': 0.7322327293467886, 'colsample_bynode': 0.9581225661048948, 'learning_rate': 0.35969108623070134}. Best is trial 31 with value: -0.795108.\n"
     ]
    },
    {
     "name": "stderr",
     "output_type": "stream",
     "text": [
      "[I 2025-05-14 18:14:04,600] Trial 32 pruned. Trial was pruned at iteration 25.\n"
     ]
    },
    {
     "name": "stderr",
     "output_type": "stream",
     "text": [
      "[I 2025-05-14 18:14:05,924] Trial 33 pruned. Trial was pruned at iteration 0.\n"
     ]
    },
    {
     "name": "stderr",
     "output_type": "stream",
     "text": [
      "[I 2025-05-14 18:14:06,928] Trial 34 pruned. Trial was pruned at iteration 0.\n"
     ]
    },
    {
     "name": "stderr",
     "output_type": "stream",
     "text": [
      "[I 2025-05-14 18:14:20,687] Trial 35 finished with value: -0.780042 and parameters: {'max_depth': 11, 'min_child_weight': 33, 'subsample': 0.750137672837387, 'colsample_bynode': 0.9398565574263442, 'learning_rate': 0.09303281471073632}. Best is trial 31 with value: -0.795108.\n"
     ]
    },
    {
     "name": "stderr",
     "output_type": "stream",
     "text": [
      "[I 2025-05-14 18:14:21,669] Trial 36 pruned. Trial was pruned at iteration 0.\n"
     ]
    },
    {
     "name": "stderr",
     "output_type": "stream",
     "text": [
      "[I 2025-05-14 18:14:22,693] Trial 37 pruned. Trial was pruned at iteration 0.\n"
     ]
    },
    {
     "name": "stderr",
     "output_type": "stream",
     "text": [
      "[I 2025-05-14 18:14:23,675] Trial 38 pruned. Trial was pruned at iteration 0.\n"
     ]
    },
    {
     "name": "stderr",
     "output_type": "stream",
     "text": [
      "[I 2025-05-14 18:14:24,547] Trial 39 pruned. Trial was pruned at iteration 0.\n"
     ]
    },
    {
     "name": "stderr",
     "output_type": "stream",
     "text": [
      "[I 2025-05-14 18:14:25,594] Trial 40 pruned. Trial was pruned at iteration 0.\n"
     ]
    },
    {
     "name": "stderr",
     "output_type": "stream",
     "text": [
      "[I 2025-05-14 18:14:27,291] Trial 41 pruned. Trial was pruned at iteration 1.\n"
     ]
    },
    {
     "name": "stderr",
     "output_type": "stream",
     "text": [
      "[I 2025-05-14 18:14:28,567] Trial 42 pruned. Trial was pruned at iteration 0.\n"
     ]
    },
    {
     "name": "stderr",
     "output_type": "stream",
     "text": [
      "[I 2025-05-14 18:14:29,660] Trial 43 pruned. Trial was pruned at iteration 0.\n"
     ]
    },
    {
     "name": "stderr",
     "output_type": "stream",
     "text": [
      "[I 2025-05-14 18:14:31,210] Trial 44 pruned. Trial was pruned at iteration 0.\n"
     ]
    },
    {
     "name": "stderr",
     "output_type": "stream",
     "text": [
      "[I 2025-05-14 18:14:32,234] Trial 45 pruned. Trial was pruned at iteration 0.\n"
     ]
    },
    {
     "name": "stderr",
     "output_type": "stream",
     "text": [
      "[I 2025-05-14 18:14:33,138] Trial 46 pruned. Trial was pruned at iteration 0.\n"
     ]
    },
    {
     "name": "stderr",
     "output_type": "stream",
     "text": [
      "[I 2025-05-14 18:14:34,079] Trial 47 pruned. Trial was pruned at iteration 0.\n"
     ]
    },
    {
     "name": "stderr",
     "output_type": "stream",
     "text": [
      "[I 2025-05-14 18:14:35,046] Trial 48 pruned. Trial was pruned at iteration 0.\n"
     ]
    },
    {
     "name": "stderr",
     "output_type": "stream",
     "text": [
      "[I 2025-05-14 18:14:36,246] Trial 49 pruned. Trial was pruned at iteration 0.\n"
     ]
    }
   ],
   "source": [
    "sampler = optuna.samplers.TPESampler(seed=42)\n",
    "study = optuna.create_study(direction='minimize', sampler=sampler)\n",
    "study.optimize(objective, n_trials=N_TRIALS, gc_after_trial=True)"
   ]
  },
  {
   "cell_type": "code",
   "execution_count": 20,
   "id": "01ef30e5",
   "metadata": {
    "execution": {
     "iopub.execute_input": "2025-05-14T16:14:36.387371Z",
     "iopub.status.busy": "2025-05-14T16:14:36.387164Z",
     "iopub.status.idle": "2025-05-14T16:14:36.409311Z",
     "shell.execute_reply": "2025-05-14T16:14:36.408985Z"
    },
    "papermill": {
     "duration": 0.032199,
     "end_time": "2025-05-14T16:14:36.410234",
     "exception": false,
     "start_time": "2025-05-14T16:14:36.378035",
     "status": "completed"
    },
    "tags": []
   },
   "outputs": [
    {
     "data": {
      "text/plain": [
       "['/scratch_isilon/groups/singlecell/shared/projects/Inflammation-PBMCs-Atlas/03_downstream_analysis/08_gene_importance/xgboost_external_validation/xgboost_TopN_genes/results_20/study/T_CD4_NonNaive_shap_studyID_2_xgboost.pkl']"
      ]
     },
     "execution_count": 20,
     "metadata": {},
     "output_type": "execute_result"
    }
   ],
   "source": [
    "out_dir = here(f'03_downstream_analysis/08_gene_importance/xgboost_external_validation/xgboost_TopN_genes/results_{N_GENES}/study')\n",
    "\n",
    "if not os.path.exists(out_dir):\n",
    "    os.makedirs(out_dir)\n",
    "    \n",
    "joblib.dump(study,os.path.join(out_dir, f'{CELL_TYPE}_{SEED}_{TEST_SPLIT_IDX}_xgboost.pkl'))"
   ]
  },
  {
   "cell_type": "code",
   "execution_count": 21,
   "id": "5159a952",
   "metadata": {
    "execution": {
     "iopub.execute_input": "2025-05-14T16:14:36.438811Z",
     "iopub.status.busy": "2025-05-14T16:14:36.438621Z",
     "iopub.status.idle": "2025-05-14T16:14:49.645161Z",
     "shell.execute_reply": "2025-05-14T16:14:49.644711Z"
    },
    "papermill": {
     "duration": 13.222942,
     "end_time": "2025-05-14T16:14:49.646265",
     "exception": false,
     "start_time": "2025-05-14T16:14:36.423323",
     "status": "completed"
    },
    "tags": []
   },
   "outputs": [
    {
     "data": {
      "text/html": [
       "<style>#sk-container-id-1 {\n",
       "  /* Definition of color scheme common for light and dark mode */\n",
       "  --sklearn-color-text: black;\n",
       "  --sklearn-color-line: gray;\n",
       "  /* Definition of color scheme for unfitted estimators */\n",
       "  --sklearn-color-unfitted-level-0: #fff5e6;\n",
       "  --sklearn-color-unfitted-level-1: #f6e4d2;\n",
       "  --sklearn-color-unfitted-level-2: #ffe0b3;\n",
       "  --sklearn-color-unfitted-level-3: chocolate;\n",
       "  /* Definition of color scheme for fitted estimators */\n",
       "  --sklearn-color-fitted-level-0: #f0f8ff;\n",
       "  --sklearn-color-fitted-level-1: #d4ebff;\n",
       "  --sklearn-color-fitted-level-2: #b3dbfd;\n",
       "  --sklearn-color-fitted-level-3: cornflowerblue;\n",
       "\n",
       "  /* Specific color for light theme */\n",
       "  --sklearn-color-text-on-default-background: var(--sg-text-color, var(--theme-code-foreground, var(--jp-content-font-color1, black)));\n",
       "  --sklearn-color-background: var(--sg-background-color, var(--theme-background, var(--jp-layout-color0, white)));\n",
       "  --sklearn-color-border-box: var(--sg-text-color, var(--theme-code-foreground, var(--jp-content-font-color1, black)));\n",
       "  --sklearn-color-icon: #696969;\n",
       "\n",
       "  @media (prefers-color-scheme: dark) {\n",
       "    /* Redefinition of color scheme for dark theme */\n",
       "    --sklearn-color-text-on-default-background: var(--sg-text-color, var(--theme-code-foreground, var(--jp-content-font-color1, white)));\n",
       "    --sklearn-color-background: var(--sg-background-color, var(--theme-background, var(--jp-layout-color0, #111)));\n",
       "    --sklearn-color-border-box: var(--sg-text-color, var(--theme-code-foreground, var(--jp-content-font-color1, white)));\n",
       "    --sklearn-color-icon: #878787;\n",
       "  }\n",
       "}\n",
       "\n",
       "#sk-container-id-1 {\n",
       "  color: var(--sklearn-color-text);\n",
       "}\n",
       "\n",
       "#sk-container-id-1 pre {\n",
       "  padding: 0;\n",
       "}\n",
       "\n",
       "#sk-container-id-1 input.sk-hidden--visually {\n",
       "  border: 0;\n",
       "  clip: rect(1px 1px 1px 1px);\n",
       "  clip: rect(1px, 1px, 1px, 1px);\n",
       "  height: 1px;\n",
       "  margin: -1px;\n",
       "  overflow: hidden;\n",
       "  padding: 0;\n",
       "  position: absolute;\n",
       "  width: 1px;\n",
       "}\n",
       "\n",
       "#sk-container-id-1 div.sk-dashed-wrapped {\n",
       "  border: 1px dashed var(--sklearn-color-line);\n",
       "  margin: 0 0.4em 0.5em 0.4em;\n",
       "  box-sizing: border-box;\n",
       "  padding-bottom: 0.4em;\n",
       "  background-color: var(--sklearn-color-background);\n",
       "}\n",
       "\n",
       "#sk-container-id-1 div.sk-container {\n",
       "  /* jupyter's `normalize.less` sets `[hidden] { display: none; }`\n",
       "     but bootstrap.min.css set `[hidden] { display: none !important; }`\n",
       "     so we also need the `!important` here to be able to override the\n",
       "     default hidden behavior on the sphinx rendered scikit-learn.org.\n",
       "     See: https://github.com/scikit-learn/scikit-learn/issues/21755 */\n",
       "  display: inline-block !important;\n",
       "  position: relative;\n",
       "}\n",
       "\n",
       "#sk-container-id-1 div.sk-text-repr-fallback {\n",
       "  display: none;\n",
       "}\n",
       "\n",
       "div.sk-parallel-item,\n",
       "div.sk-serial,\n",
       "div.sk-item {\n",
       "  /* draw centered vertical line to link estimators */\n",
       "  background-image: linear-gradient(var(--sklearn-color-text-on-default-background), var(--sklearn-color-text-on-default-background));\n",
       "  background-size: 2px 100%;\n",
       "  background-repeat: no-repeat;\n",
       "  background-position: center center;\n",
       "}\n",
       "\n",
       "/* Parallel-specific style estimator block */\n",
       "\n",
       "#sk-container-id-1 div.sk-parallel-item::after {\n",
       "  content: \"\";\n",
       "  width: 100%;\n",
       "  border-bottom: 2px solid var(--sklearn-color-text-on-default-background);\n",
       "  flex-grow: 1;\n",
       "}\n",
       "\n",
       "#sk-container-id-1 div.sk-parallel {\n",
       "  display: flex;\n",
       "  align-items: stretch;\n",
       "  justify-content: center;\n",
       "  background-color: var(--sklearn-color-background);\n",
       "  position: relative;\n",
       "}\n",
       "\n",
       "#sk-container-id-1 div.sk-parallel-item {\n",
       "  display: flex;\n",
       "  flex-direction: column;\n",
       "}\n",
       "\n",
       "#sk-container-id-1 div.sk-parallel-item:first-child::after {\n",
       "  align-self: flex-end;\n",
       "  width: 50%;\n",
       "}\n",
       "\n",
       "#sk-container-id-1 div.sk-parallel-item:last-child::after {\n",
       "  align-self: flex-start;\n",
       "  width: 50%;\n",
       "}\n",
       "\n",
       "#sk-container-id-1 div.sk-parallel-item:only-child::after {\n",
       "  width: 0;\n",
       "}\n",
       "\n",
       "/* Serial-specific style estimator block */\n",
       "\n",
       "#sk-container-id-1 div.sk-serial {\n",
       "  display: flex;\n",
       "  flex-direction: column;\n",
       "  align-items: center;\n",
       "  background-color: var(--sklearn-color-background);\n",
       "  padding-right: 1em;\n",
       "  padding-left: 1em;\n",
       "}\n",
       "\n",
       "\n",
       "/* Toggleable style: style used for estimator/Pipeline/ColumnTransformer box that is\n",
       "clickable and can be expanded/collapsed.\n",
       "- Pipeline and ColumnTransformer use this feature and define the default style\n",
       "- Estimators will overwrite some part of the style using the `sk-estimator` class\n",
       "*/\n",
       "\n",
       "/* Pipeline and ColumnTransformer style (default) */\n",
       "\n",
       "#sk-container-id-1 div.sk-toggleable {\n",
       "  /* Default theme specific background. It is overwritten whether we have a\n",
       "  specific estimator or a Pipeline/ColumnTransformer */\n",
       "  background-color: var(--sklearn-color-background);\n",
       "}\n",
       "\n",
       "/* Toggleable label */\n",
       "#sk-container-id-1 label.sk-toggleable__label {\n",
       "  cursor: pointer;\n",
       "  display: block;\n",
       "  width: 100%;\n",
       "  margin-bottom: 0;\n",
       "  padding: 0.5em;\n",
       "  box-sizing: border-box;\n",
       "  text-align: center;\n",
       "}\n",
       "\n",
       "#sk-container-id-1 label.sk-toggleable__label-arrow:before {\n",
       "  /* Arrow on the left of the label */\n",
       "  content: \"▸\";\n",
       "  float: left;\n",
       "  margin-right: 0.25em;\n",
       "  color: var(--sklearn-color-icon);\n",
       "}\n",
       "\n",
       "#sk-container-id-1 label.sk-toggleable__label-arrow:hover:before {\n",
       "  color: var(--sklearn-color-text);\n",
       "}\n",
       "\n",
       "/* Toggleable content - dropdown */\n",
       "\n",
       "#sk-container-id-1 div.sk-toggleable__content {\n",
       "  max-height: 0;\n",
       "  max-width: 0;\n",
       "  overflow: hidden;\n",
       "  text-align: left;\n",
       "  /* unfitted */\n",
       "  background-color: var(--sklearn-color-unfitted-level-0);\n",
       "}\n",
       "\n",
       "#sk-container-id-1 div.sk-toggleable__content.fitted {\n",
       "  /* fitted */\n",
       "  background-color: var(--sklearn-color-fitted-level-0);\n",
       "}\n",
       "\n",
       "#sk-container-id-1 div.sk-toggleable__content pre {\n",
       "  margin: 0.2em;\n",
       "  border-radius: 0.25em;\n",
       "  color: var(--sklearn-color-text);\n",
       "  /* unfitted */\n",
       "  background-color: var(--sklearn-color-unfitted-level-0);\n",
       "}\n",
       "\n",
       "#sk-container-id-1 div.sk-toggleable__content.fitted pre {\n",
       "  /* unfitted */\n",
       "  background-color: var(--sklearn-color-fitted-level-0);\n",
       "}\n",
       "\n",
       "#sk-container-id-1 input.sk-toggleable__control:checked~div.sk-toggleable__content {\n",
       "  /* Expand drop-down */\n",
       "  max-height: 200px;\n",
       "  max-width: 100%;\n",
       "  overflow: auto;\n",
       "}\n",
       "\n",
       "#sk-container-id-1 input.sk-toggleable__control:checked~label.sk-toggleable__label-arrow:before {\n",
       "  content: \"▾\";\n",
       "}\n",
       "\n",
       "/* Pipeline/ColumnTransformer-specific style */\n",
       "\n",
       "#sk-container-id-1 div.sk-label input.sk-toggleable__control:checked~label.sk-toggleable__label {\n",
       "  color: var(--sklearn-color-text);\n",
       "  background-color: var(--sklearn-color-unfitted-level-2);\n",
       "}\n",
       "\n",
       "#sk-container-id-1 div.sk-label.fitted input.sk-toggleable__control:checked~label.sk-toggleable__label {\n",
       "  background-color: var(--sklearn-color-fitted-level-2);\n",
       "}\n",
       "\n",
       "/* Estimator-specific style */\n",
       "\n",
       "/* Colorize estimator box */\n",
       "#sk-container-id-1 div.sk-estimator input.sk-toggleable__control:checked~label.sk-toggleable__label {\n",
       "  /* unfitted */\n",
       "  background-color: var(--sklearn-color-unfitted-level-2);\n",
       "}\n",
       "\n",
       "#sk-container-id-1 div.sk-estimator.fitted input.sk-toggleable__control:checked~label.sk-toggleable__label {\n",
       "  /* fitted */\n",
       "  background-color: var(--sklearn-color-fitted-level-2);\n",
       "}\n",
       "\n",
       "#sk-container-id-1 div.sk-label label.sk-toggleable__label,\n",
       "#sk-container-id-1 div.sk-label label {\n",
       "  /* The background is the default theme color */\n",
       "  color: var(--sklearn-color-text-on-default-background);\n",
       "}\n",
       "\n",
       "/* On hover, darken the color of the background */\n",
       "#sk-container-id-1 div.sk-label:hover label.sk-toggleable__label {\n",
       "  color: var(--sklearn-color-text);\n",
       "  background-color: var(--sklearn-color-unfitted-level-2);\n",
       "}\n",
       "\n",
       "/* Label box, darken color on hover, fitted */\n",
       "#sk-container-id-1 div.sk-label.fitted:hover label.sk-toggleable__label.fitted {\n",
       "  color: var(--sklearn-color-text);\n",
       "  background-color: var(--sklearn-color-fitted-level-2);\n",
       "}\n",
       "\n",
       "/* Estimator label */\n",
       "\n",
       "#sk-container-id-1 div.sk-label label {\n",
       "  font-family: monospace;\n",
       "  font-weight: bold;\n",
       "  display: inline-block;\n",
       "  line-height: 1.2em;\n",
       "}\n",
       "\n",
       "#sk-container-id-1 div.sk-label-container {\n",
       "  text-align: center;\n",
       "}\n",
       "\n",
       "/* Estimator-specific */\n",
       "#sk-container-id-1 div.sk-estimator {\n",
       "  font-family: monospace;\n",
       "  border: 1px dotted var(--sklearn-color-border-box);\n",
       "  border-radius: 0.25em;\n",
       "  box-sizing: border-box;\n",
       "  margin-bottom: 0.5em;\n",
       "  /* unfitted */\n",
       "  background-color: var(--sklearn-color-unfitted-level-0);\n",
       "}\n",
       "\n",
       "#sk-container-id-1 div.sk-estimator.fitted {\n",
       "  /* fitted */\n",
       "  background-color: var(--sklearn-color-fitted-level-0);\n",
       "}\n",
       "\n",
       "/* on hover */\n",
       "#sk-container-id-1 div.sk-estimator:hover {\n",
       "  /* unfitted */\n",
       "  background-color: var(--sklearn-color-unfitted-level-2);\n",
       "}\n",
       "\n",
       "#sk-container-id-1 div.sk-estimator.fitted:hover {\n",
       "  /* fitted */\n",
       "  background-color: var(--sklearn-color-fitted-level-2);\n",
       "}\n",
       "\n",
       "/* Specification for estimator info (e.g. \"i\" and \"?\") */\n",
       "\n",
       "/* Common style for \"i\" and \"?\" */\n",
       "\n",
       ".sk-estimator-doc-link,\n",
       "a:link.sk-estimator-doc-link,\n",
       "a:visited.sk-estimator-doc-link {\n",
       "  float: right;\n",
       "  font-size: smaller;\n",
       "  line-height: 1em;\n",
       "  font-family: monospace;\n",
       "  background-color: var(--sklearn-color-background);\n",
       "  border-radius: 1em;\n",
       "  height: 1em;\n",
       "  width: 1em;\n",
       "  text-decoration: none !important;\n",
       "  margin-left: 1ex;\n",
       "  /* unfitted */\n",
       "  border: var(--sklearn-color-unfitted-level-1) 1pt solid;\n",
       "  color: var(--sklearn-color-unfitted-level-1);\n",
       "}\n",
       "\n",
       ".sk-estimator-doc-link.fitted,\n",
       "a:link.sk-estimator-doc-link.fitted,\n",
       "a:visited.sk-estimator-doc-link.fitted {\n",
       "  /* fitted */\n",
       "  border: var(--sklearn-color-fitted-level-1) 1pt solid;\n",
       "  color: var(--sklearn-color-fitted-level-1);\n",
       "}\n",
       "\n",
       "/* On hover */\n",
       "div.sk-estimator:hover .sk-estimator-doc-link:hover,\n",
       ".sk-estimator-doc-link:hover,\n",
       "div.sk-label-container:hover .sk-estimator-doc-link:hover,\n",
       ".sk-estimator-doc-link:hover {\n",
       "  /* unfitted */\n",
       "  background-color: var(--sklearn-color-unfitted-level-3);\n",
       "  color: var(--sklearn-color-background);\n",
       "  text-decoration: none;\n",
       "}\n",
       "\n",
       "div.sk-estimator.fitted:hover .sk-estimator-doc-link.fitted:hover,\n",
       ".sk-estimator-doc-link.fitted:hover,\n",
       "div.sk-label-container:hover .sk-estimator-doc-link.fitted:hover,\n",
       ".sk-estimator-doc-link.fitted:hover {\n",
       "  /* fitted */\n",
       "  background-color: var(--sklearn-color-fitted-level-3);\n",
       "  color: var(--sklearn-color-background);\n",
       "  text-decoration: none;\n",
       "}\n",
       "\n",
       "/* Span, style for the box shown on hovering the info icon */\n",
       ".sk-estimator-doc-link span {\n",
       "  display: none;\n",
       "  z-index: 9999;\n",
       "  position: relative;\n",
       "  font-weight: normal;\n",
       "  right: .2ex;\n",
       "  padding: .5ex;\n",
       "  margin: .5ex;\n",
       "  width: min-content;\n",
       "  min-width: 20ex;\n",
       "  max-width: 50ex;\n",
       "  color: var(--sklearn-color-text);\n",
       "  box-shadow: 2pt 2pt 4pt #999;\n",
       "  /* unfitted */\n",
       "  background: var(--sklearn-color-unfitted-level-0);\n",
       "  border: .5pt solid var(--sklearn-color-unfitted-level-3);\n",
       "}\n",
       "\n",
       ".sk-estimator-doc-link.fitted span {\n",
       "  /* fitted */\n",
       "  background: var(--sklearn-color-fitted-level-0);\n",
       "  border: var(--sklearn-color-fitted-level-3);\n",
       "}\n",
       "\n",
       ".sk-estimator-doc-link:hover span {\n",
       "  display: block;\n",
       "}\n",
       "\n",
       "/* \"?\"-specific style due to the `<a>` HTML tag */\n",
       "\n",
       "#sk-container-id-1 a.estimator_doc_link {\n",
       "  float: right;\n",
       "  font-size: 1rem;\n",
       "  line-height: 1em;\n",
       "  font-family: monospace;\n",
       "  background-color: var(--sklearn-color-background);\n",
       "  border-radius: 1rem;\n",
       "  height: 1rem;\n",
       "  width: 1rem;\n",
       "  text-decoration: none;\n",
       "  /* unfitted */\n",
       "  color: var(--sklearn-color-unfitted-level-1);\n",
       "  border: var(--sklearn-color-unfitted-level-1) 1pt solid;\n",
       "}\n",
       "\n",
       "#sk-container-id-1 a.estimator_doc_link.fitted {\n",
       "  /* fitted */\n",
       "  border: var(--sklearn-color-fitted-level-1) 1pt solid;\n",
       "  color: var(--sklearn-color-fitted-level-1);\n",
       "}\n",
       "\n",
       "/* On hover */\n",
       "#sk-container-id-1 a.estimator_doc_link:hover {\n",
       "  /* unfitted */\n",
       "  background-color: var(--sklearn-color-unfitted-level-3);\n",
       "  color: var(--sklearn-color-background);\n",
       "  text-decoration: none;\n",
       "}\n",
       "\n",
       "#sk-container-id-1 a.estimator_doc_link.fitted:hover {\n",
       "  /* fitted */\n",
       "  background-color: var(--sklearn-color-fitted-level-3);\n",
       "}\n",
       "</style><div id=\"sk-container-id-1\" class=\"sk-top-container\"><div class=\"sk-text-repr-fallback\"><pre>XGBClassifier(base_score=None, booster=None, callbacks=None,\n",
       "              colsample_bylevel=None, colsample_bynode=0.9581225661048948,\n",
       "              colsample_bytree=None, device=None, early_stopping_rounds=None,\n",
       "              enable_categorical=False,\n",
       "              eval_metric=&lt;function custom_f1_score at 0x7f7f109ec680&gt;,\n",
       "              feature_types=None, gamma=None, grow_policy=None,\n",
       "              importance_type=None, interaction_constraints=None,\n",
       "              learning_rate=0.35969108623070134, max_bin=None,\n",
       "              max_cat_threshold=None, max_cat_to_onehot=None,\n",
       "              max_delta_step=None, max_depth=11, max_leaves=None,\n",
       "              min_child_weight=31, missing=nan, monotone_constraints=None,\n",
       "              multi_strategy=None, n_estimators=56, n_jobs=None,\n",
       "              num_parallel_tree=None, objective=&#x27;multi:softprob&#x27;, ...)</pre><b>In a Jupyter environment, please rerun this cell to show the HTML representation or trust the notebook. <br />On GitHub, the HTML representation is unable to render, please try loading this page with nbviewer.org.</b></div><div class=\"sk-container\" hidden><div class=\"sk-item\"><div class=\"sk-estimator fitted sk-toggleable\"><input class=\"sk-toggleable__control sk-hidden--visually\" id=\"sk-estimator-id-1\" type=\"checkbox\" checked><label for=\"sk-estimator-id-1\" class=\"sk-toggleable__label fitted sk-toggleable__label-arrow fitted\">&nbsp;XGBClassifier<span class=\"sk-estimator-doc-link fitted\">i<span>Fitted</span></span></label><div class=\"sk-toggleable__content fitted\"><pre>XGBClassifier(base_score=None, booster=None, callbacks=None,\n",
       "              colsample_bylevel=None, colsample_bynode=0.9581225661048948,\n",
       "              colsample_bytree=None, device=None, early_stopping_rounds=None,\n",
       "              enable_categorical=False,\n",
       "              eval_metric=&lt;function custom_f1_score at 0x7f7f109ec680&gt;,\n",
       "              feature_types=None, gamma=None, grow_policy=None,\n",
       "              importance_type=None, interaction_constraints=None,\n",
       "              learning_rate=0.35969108623070134, max_bin=None,\n",
       "              max_cat_threshold=None, max_cat_to_onehot=None,\n",
       "              max_delta_step=None, max_depth=11, max_leaves=None,\n",
       "              min_child_weight=31, missing=nan, monotone_constraints=None,\n",
       "              multi_strategy=None, n_estimators=56, n_jobs=None,\n",
       "              num_parallel_tree=None, objective=&#x27;multi:softprob&#x27;, ...)</pre></div> </div></div></div></div>"
      ],
      "text/plain": [
       "XGBClassifier(base_score=None, booster=None, callbacks=None,\n",
       "              colsample_bylevel=None, colsample_bynode=0.9581225661048948,\n",
       "              colsample_bytree=None, device=None, early_stopping_rounds=None,\n",
       "              enable_categorical=False,\n",
       "              eval_metric=<function custom_f1_score at 0x7f7f109ec680>,\n",
       "              feature_types=None, gamma=None, grow_policy=None,\n",
       "              importance_type=None, interaction_constraints=None,\n",
       "              learning_rate=0.35969108623070134, max_bin=None,\n",
       "              max_cat_threshold=None, max_cat_to_onehot=None,\n",
       "              max_delta_step=None, max_depth=11, max_leaves=None,\n",
       "              min_child_weight=31, missing=nan, monotone_constraints=None,\n",
       "              multi_strategy=None, n_estimators=56, n_jobs=None,\n",
       "              num_parallel_tree=None, objective='multi:softprob', ...)"
      ]
     },
     "execution_count": 21,
     "metadata": {},
     "output_type": "execute_result"
    }
   ],
   "source": [
    "n_estimators = int(study.best_trial.user_attrs['best_iteration']*1.2)\n",
    "xgb = xgboost.XGBClassifier(\n",
    "        eval_metric=eval_metric,\n",
    "        n_estimators=n_estimators,\n",
    "        **study.best_trial.params\n",
    "    )\n",
    "xgb.fit(\n",
    "    ssp.vstack((X_train, X_val)), \n",
    "    np.concatenate((y_train_enc, y_val_enc)),\n",
    "    verbose=1,\n",
    ")"
   ]
  },
  {
   "cell_type": "code",
   "execution_count": 22,
   "id": "95b1bde5",
   "metadata": {
    "execution": {
     "iopub.execute_input": "2025-05-14T16:14:49.707328Z",
     "iopub.status.busy": "2025-05-14T16:14:49.706865Z",
     "iopub.status.idle": "2025-05-14T16:14:49.766408Z",
     "shell.execute_reply": "2025-05-14T16:14:49.766022Z"
    },
    "papermill": {
     "duration": 0.081595,
     "end_time": "2025-05-14T16:14:49.767403",
     "exception": false,
     "start_time": "2025-05-14T16:14:49.685808",
     "status": "completed"
    },
    "tags": []
   },
   "outputs": [
    {
     "data": {
      "text/plain": [
       "['/scratch_isilon/groups/singlecell/shared/projects/Inflammation-PBMCs-Atlas/03_downstream_analysis/08_gene_importance/xgboost_external_validation/xgboost_TopN_genes/results_20/best_model/T_CD4_NonNaive_shap_studyID_2_xgb.json']"
      ]
     },
     "execution_count": 22,
     "metadata": {},
     "output_type": "execute_result"
    }
   ],
   "source": [
    "out_dir = here(f'03_downstream_analysis/08_gene_importance/xgboost_external_validation/xgboost_TopN_genes/results_{N_GENES}/best_model')\n",
    "\n",
    "if not os.path.exists(out_dir):\n",
    "    os.makedirs(out_dir)\n",
    "    \n",
    "joblib.dump(xgb, os.path.join(out_dir, f'{CELL_TYPE}_{SEED}_{TEST_SPLIT_IDX}_xgb.json'))"
   ]
  },
  {
   "cell_type": "code",
   "execution_count": 23,
   "id": "2b1ef9e1",
   "metadata": {
    "execution": {
     "iopub.execute_input": "2025-05-14T16:14:49.786628Z",
     "iopub.status.busy": "2025-05-14T16:14:49.786432Z",
     "iopub.status.idle": "2025-05-14T16:14:50.075901Z",
     "shell.execute_reply": "2025-05-14T16:14:50.075324Z"
    },
    "papermill": {
     "duration": 0.300595,
     "end_time": "2025-05-14T16:14:50.077422",
     "exception": false,
     "start_time": "2025-05-14T16:14:49.776827",
     "status": "completed"
    },
    "tags": []
   },
   "outputs": [],
   "source": [
    "df_pred_test = pd.DataFrame(dict(\n",
    "    cell_id=train_adata.obs.iloc[test_idxs].index.values,\n",
    "    y_true=y_test, \n",
    "    y_true_code=y_test_enc, \n",
    "    y_pred=xgb.predict(X_test))).set_index('cell_id')"
   ]
  },
  {
   "cell_type": "code",
   "execution_count": 24,
   "id": "0bc70877",
   "metadata": {
    "execution": {
     "iopub.execute_input": "2025-05-14T16:14:50.117799Z",
     "iopub.status.busy": "2025-05-14T16:14:50.117491Z",
     "iopub.status.idle": "2025-05-14T16:14:50.304979Z",
     "shell.execute_reply": "2025-05-14T16:14:50.304504Z"
    },
    "papermill": {
     "duration": 0.218207,
     "end_time": "2025-05-14T16:14:50.306225",
     "exception": false,
     "start_time": "2025-05-14T16:14:50.088018",
     "status": "completed"
    },
    "tags": []
   },
   "outputs": [],
   "source": [
    "out_dir = here(f'03_downstream_analysis/08_gene_importance/xgboost_external_validation/xgboost_TopN_genes/results_{N_GENES}/predictions')\n",
    "\n",
    "if not os.path.exists(out_dir):\n",
    "    os.makedirs(out_dir)\n",
    "    \n",
    "df_pred_test.to_csv(os.path.join(out_dir, f'{CELL_TYPE}_{SEED}_{TEST_SPLIT_IDX}_pred_test.zip'))"
   ]
  },
  {
   "cell_type": "code",
   "execution_count": 25,
   "id": "78b3a7c4",
   "metadata": {
    "execution": {
     "iopub.execute_input": "2025-05-14T16:14:50.349600Z",
     "iopub.status.busy": "2025-05-14T16:14:50.349113Z",
     "iopub.status.idle": "2025-05-14T16:14:50.364283Z",
     "shell.execute_reply": "2025-05-14T16:14:50.363900Z"
    },
    "papermill": {
     "duration": 0.025657,
     "end_time": "2025-05-14T16:14:50.365227",
     "exception": false,
     "start_time": "2025-05-14T16:14:50.339570",
     "status": "completed"
    },
    "tags": []
   },
   "outputs": [],
   "source": [
    "metrics_dict = dict(\n",
    "    BAS=balanced_accuracy_score(y_true=df_pred_test.y_true_code, y_pred=df_pred_test.y_pred), WF1=f1_score(y_true=df_pred_test.y_true_code, y_pred=df_pred_test.y_pred,average='weighted'))"
   ]
  },
  {
   "cell_type": "code",
   "execution_count": 26,
   "id": "2ff98d26",
   "metadata": {
    "execution": {
     "iopub.execute_input": "2025-05-14T16:14:50.389697Z",
     "iopub.status.busy": "2025-05-14T16:14:50.389494Z",
     "iopub.status.idle": "2025-05-14T16:14:50.392568Z",
     "shell.execute_reply": "2025-05-14T16:14:50.392248Z"
    },
    "papermill": {
     "duration": 0.013238,
     "end_time": "2025-05-14T16:14:50.393497",
     "exception": false,
     "start_time": "2025-05-14T16:14:50.380259",
     "status": "completed"
    },
    "tags": []
   },
   "outputs": [
    {
     "data": {
      "text/plain": [
       "{'BAS': 0.7141601801251773, 'WF1': 0.8443747468467525}"
      ]
     },
     "execution_count": 26,
     "metadata": {},
     "output_type": "execute_result"
    }
   ],
   "source": [
    "metrics_dict"
   ]
  },
  {
   "cell_type": "code",
   "execution_count": 27,
   "id": "f8f3031b",
   "metadata": {
    "execution": {
     "iopub.execute_input": "2025-05-14T16:14:50.423920Z",
     "iopub.status.busy": "2025-05-14T16:14:50.423654Z",
     "iopub.status.idle": "2025-05-14T16:14:50.433582Z",
     "shell.execute_reply": "2025-05-14T16:14:50.433254Z"
    },
    "papermill": {
     "duration": 0.020152,
     "end_time": "2025-05-14T16:14:50.434519",
     "exception": false,
     "start_time": "2025-05-14T16:14:50.414367",
     "status": "completed"
    },
    "tags": []
   },
   "outputs": [
    {
     "data": {
      "text/html": [
       "<div>\n",
       "<style scoped>\n",
       "    .dataframe tbody tr th:only-of-type {\n",
       "        vertical-align: middle;\n",
       "    }\n",
       "\n",
       "    .dataframe tbody tr th {\n",
       "        vertical-align: top;\n",
       "    }\n",
       "\n",
       "    .dataframe thead th {\n",
       "        text-align: right;\n",
       "    }\n",
       "</style>\n",
       "<table border=\"1\" class=\"dataframe\">\n",
       "  <thead>\n",
       "    <tr style=\"text-align: right;\">\n",
       "      <th></th>\n",
       "      <th>BAS</th>\n",
       "      <th>WF1</th>\n",
       "      <th>split_idx</th>\n",
       "      <th>gene_set_seed</th>\n",
       "      <th>cell_type</th>\n",
       "    </tr>\n",
       "  </thead>\n",
       "  <tbody>\n",
       "    <tr>\n",
       "      <th>0</th>\n",
       "      <td>0.71416</td>\n",
       "      <td>0.844375</td>\n",
       "      <td>2</td>\n",
       "      <td>shap_studyID</td>\n",
       "      <td>T_CD4_NonNaive</td>\n",
       "    </tr>\n",
       "  </tbody>\n",
       "</table>\n",
       "</div>"
      ],
      "text/plain": [
       "       BAS       WF1  split_idx gene_set_seed       cell_type\n",
       "0  0.71416  0.844375          2  shap_studyID  T_CD4_NonNaive"
      ]
     },
     "execution_count": 27,
     "metadata": {},
     "output_type": "execute_result"
    }
   ],
   "source": [
    "metrics_df = pd.DataFrame.from_dict([metrics_dict]).assign(split_idx=TEST_SPLIT_IDX, gene_set_seed=SEED, cell_type=CELL_TYPE)\n",
    "metrics_df"
   ]
  },
  {
   "cell_type": "code",
   "execution_count": 28,
   "id": "43083c4b",
   "metadata": {
    "execution": {
     "iopub.execute_input": "2025-05-14T16:14:50.453238Z",
     "iopub.status.busy": "2025-05-14T16:14:50.452827Z",
     "iopub.status.idle": "2025-05-14T16:14:50.462494Z",
     "shell.execute_reply": "2025-05-14T16:14:50.462074Z"
    },
    "papermill": {
     "duration": 0.019988,
     "end_time": "2025-05-14T16:14:50.463385",
     "exception": false,
     "start_time": "2025-05-14T16:14:50.443397",
     "status": "completed"
    },
    "tags": []
   },
   "outputs": [],
   "source": [
    "out_dir = here(f'03_downstream_analysis/08_gene_importance/xgboost_external_validation/xgboost_TopN_genes/results_{N_GENES}/metrics')\n",
    "\n",
    "if not os.path.exists(out_dir):\n",
    "    os.makedirs(out_dir)\n",
    "    \n",
    "metrics_df.to_csv(os.path.join(out_dir, f'{CELL_TYPE}_{SEED}_{TEST_SPLIT_IDX}_metrics.zip'))"
   ]
  }
 ],
 "metadata": {
  "kernelspec": {
   "display_name": "Python 3 (ipykernel)",
   "language": "python",
   "name": "python3"
  },
  "language_info": {
   "codemirror_mode": {
    "name": "ipython",
    "version": 3
   },
   "file_extension": ".py",
   "mimetype": "text/x-python",
   "name": "python",
   "nbconvert_exporter": "python",
   "pygments_lexer": "ipython3",
   "version": "3.12.5"
  },
  "papermill": {
   "default_parameters": {},
   "duration": 412.773789,
   "end_time": "2025-05-14T16:14:51.189040",
   "environment_variables": {},
   "exception": null,
   "input_path": "02_xgboost_fitting_external_20genes.ipynb",
   "output_path": "results_20/executed_notebooks/xgboost_fitting_external_CT_T_CD4_NonNaive_GS_shap_studyID_seed2.ipynb",
   "parameters": {
    "CELL_TYPE": "T_CD4_NonNaive",
    "SEED": "shap_studyID",
    "TEST_SPLIT_IDX": 2
   },
   "start_time": "2025-05-14T16:07:58.415251",
   "version": "2.6.0"
  }
 },
 "nbformat": 4,
 "nbformat_minor": 5
}