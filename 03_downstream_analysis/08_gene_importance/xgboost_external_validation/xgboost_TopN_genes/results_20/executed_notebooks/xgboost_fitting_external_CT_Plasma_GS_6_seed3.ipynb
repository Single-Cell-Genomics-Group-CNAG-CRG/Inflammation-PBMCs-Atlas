{
 "cells": [
  {
   "cell_type": "code",
   "execution_count": 1,
   "id": "4c8f6298",
   "metadata": {
    "editable": true,
    "execution": {
     "iopub.execute_input": "2025-05-15T16:15:31.842689Z",
     "iopub.status.busy": "2025-05-15T16:15:31.842271Z",
     "iopub.status.idle": "2025-05-15T16:15:31.846343Z",
     "shell.execute_reply": "2025-05-15T16:15:31.845996Z"
    },
    "papermill": {
     "duration": 0.013022,
     "end_time": "2025-05-15T16:15:31.847335",
     "exception": false,
     "start_time": "2025-05-15T16:15:31.834313",
     "status": "completed"
    },
    "slideshow": {
     "slide_type": ""
    },
    "tags": [
     "parameters"
    ]
   },
   "outputs": [],
   "source": [
    "CELL_TYPE = 'pDC'\n",
    "N_GENES: int = 20\n",
    "SEED = 'shap_studyID' #'disease_NOstudy' 'study_NOdisease' or 'int' or 'shap_studyID'\n",
    "TEST_SPLIT_IDX: int = 1 #[0,4]"
   ]
  },
  {
   "cell_type": "code",
   "execution_count": 2,
   "id": "ebb1a5b7",
   "metadata": {
    "execution": {
     "iopub.execute_input": "2025-05-15T16:15:31.858773Z",
     "iopub.status.busy": "2025-05-15T16:15:31.858566Z",
     "iopub.status.idle": "2025-05-15T16:15:31.860790Z",
     "shell.execute_reply": "2025-05-15T16:15:31.860492Z"
    },
    "papermill": {
     "duration": 0.008773,
     "end_time": "2025-05-15T16:15:31.861673",
     "exception": false,
     "start_time": "2025-05-15T16:15:31.852900",
     "status": "completed"
    },
    "tags": [
     "injected-parameters"
    ]
   },
   "outputs": [],
   "source": [
    "# Parameters\n",
    "CELL_TYPE = \"Plasma\"\n",
    "SEED = 6\n",
    "TEST_SPLIT_IDX = 3\n"
   ]
  },
  {
   "cell_type": "code",
   "execution_count": 3,
   "id": "eae02466",
   "metadata": {
    "execution": {
     "iopub.execute_input": "2025-05-15T16:15:31.872713Z",
     "iopub.status.busy": "2025-05-15T16:15:31.872327Z",
     "iopub.status.idle": "2025-05-15T16:15:31.874564Z",
     "shell.execute_reply": "2025-05-15T16:15:31.874266Z"
    },
    "papermill": {
     "duration": 0.008733,
     "end_time": "2025-05-15T16:15:31.875423",
     "exception": false,
     "start_time": "2025-05-15T16:15:31.866690",
     "status": "completed"
    },
    "tags": []
   },
   "outputs": [],
   "source": [
    "N_SPLITS: int = 5\n",
    "N_TRIALS: int = 50"
   ]
  },
  {
   "cell_type": "code",
   "execution_count": 4,
   "id": "461cdf20",
   "metadata": {
    "execution": {
     "iopub.execute_input": "2025-05-15T16:15:31.888767Z",
     "iopub.status.busy": "2025-05-15T16:15:31.888558Z",
     "iopub.status.idle": "2025-05-15T16:15:33.357678Z",
     "shell.execute_reply": "2025-05-15T16:15:33.357181Z"
    },
    "papermill": {
     "duration": 1.477249,
     "end_time": "2025-05-15T16:15:33.359048",
     "exception": false,
     "start_time": "2025-05-15T16:15:31.881799",
     "status": "completed"
    },
    "tags": []
   },
   "outputs": [],
   "source": [
    "import os\n",
    "import sys\n",
    "from pyprojroot.here import here\n",
    "import pandas as pd\n",
    "import anndata as ad\n",
    "import numpy as np\n",
    "import math\n",
    "from sklearn.model_selection import StratifiedGroupKFold\n",
    "from sklearn.preprocessing import LabelEncoder\n",
    "from sklearn.metrics import f1_score\n",
    "import matplotlib.pyplot as plt\n",
    "import seaborn as sns\n",
    "from itertools import product\n",
    "from sklearn.metrics import balanced_accuracy_score, f1_score\n",
    "import optuna\n",
    "\n",
    "import joblib\n",
    "import pickle\n",
    "import datetime\n",
    "\n",
    "import collections\n",
    "\n",
    "import xgboost\n",
    "from sklearn.preprocessing import LabelEncoder\n",
    "\n",
    "import scipy.sparse as ssp\n",
    "import joblib\n",
    "\n",
    "from dotenv import load_dotenv"
   ]
  },
  {
   "cell_type": "code",
   "execution_count": 5,
   "id": "2a5996c5",
   "metadata": {
    "execution": {
     "iopub.execute_input": "2025-05-15T16:15:33.371896Z",
     "iopub.status.busy": "2025-05-15T16:15:33.371439Z",
     "iopub.status.idle": "2025-05-15T16:15:33.377726Z",
     "shell.execute_reply": "2025-05-15T16:15:33.377335Z"
    },
    "papermill": {
     "duration": 0.013805,
     "end_time": "2025-05-15T16:15:33.378680",
     "exception": false,
     "start_time": "2025-05-15T16:15:33.364875",
     "status": "completed"
    },
    "tags": []
   },
   "outputs": [
    {
     "data": {
      "text/plain": [
       "True"
      ]
     },
     "execution_count": 5,
     "metadata": {},
     "output_type": "execute_result"
    }
   ],
   "source": [
    "load_dotenv()"
   ]
  },
  {
   "cell_type": "markdown",
   "id": "0fe949a9",
   "metadata": {
    "papermill": {
     "duration": 0.005406,
     "end_time": "2025-05-15T16:15:33.389640",
     "exception": false,
     "start_time": "2025-05-15T16:15:33.384234",
     "status": "completed"
    },
    "tags": []
   },
   "source": [
    "# LOAD DATASET"
   ]
  },
  {
   "cell_type": "code",
   "execution_count": 6,
   "id": "c8652259",
   "metadata": {
    "execution": {
     "iopub.execute_input": "2025-05-15T16:15:33.401624Z",
     "iopub.status.busy": "2025-05-15T16:15:33.401337Z",
     "iopub.status.idle": "2025-05-15T16:15:33.443665Z",
     "shell.execute_reply": "2025-05-15T16:15:33.443165Z"
    },
    "papermill": {
     "duration": 0.049993,
     "end_time": "2025-05-15T16:15:33.445159",
     "exception": false,
     "start_time": "2025-05-15T16:15:33.395166",
     "status": "completed"
    },
    "tags": []
   },
   "outputs": [],
   "source": [
    "train_adata = ad.read_h5ad(\n",
    "    here(f'03_downstream_analysis/08_gene_importance/xgboost_external_validation/xgboost_TopN_genes/data_cellTypes/EXTERNAL_{CELL_TYPE}.filtered.log1p.h5ad')\n",
    ")"
   ]
  },
  {
   "cell_type": "code",
   "execution_count": 7,
   "id": "f7789ad1",
   "metadata": {
    "execution": {
     "iopub.execute_input": "2025-05-15T16:15:33.459848Z",
     "iopub.status.busy": "2025-05-15T16:15:33.459555Z",
     "iopub.status.idle": "2025-05-15T16:15:33.470925Z",
     "shell.execute_reply": "2025-05-15T16:15:33.470531Z"
    },
    "papermill": {
     "duration": 0.020905,
     "end_time": "2025-05-15T16:15:33.471869",
     "exception": false,
     "start_time": "2025-05-15T16:15:33.450964",
     "status": "completed"
    },
    "tags": []
   },
   "outputs": [
    {
     "name": "stdout",
     "output_type": "stream",
     "text": [
      "['ENSG00000163131' 'ENSG00000138778' 'ENSG00000275302' 'ENSG00000115073'\n",
      " 'ENSG00000173757' 'ENSG00000131981' 'ENSG00000153064' 'ENSG00000030582'\n",
      " 'ENSG00000133639' 'ENSG00000160888' 'ENSG00000239713' 'ENSG00000121858'\n",
      " 'ENSG00000119535' 'ENSG00000135720' 'ENSG00000179094' 'ENSG00000176986'\n",
      " 'ENSG00000137965' 'ENSG00000096996' 'ENSG00000142546' 'ENSG00000196126'\n",
      " 'ENSG00000130724' 'ENSG00000277734' 'ENSG00000168811' 'ENSG00000159128'\n",
      " 'ENSG00000164543' 'ENSG00000186010' 'ENSG00000114861' 'ENSG00000120742'\n",
      " 'ENSG00000137331' 'ENSG00000125743' 'ENSG00000155380' 'ENSG00000100934'\n",
      " 'ENSG00000113732' 'ENSG00000089327' 'ENSG00000197747' 'ENSG00000126524'\n",
      " 'ENSG00000140564' 'ENSG00000164136' 'ENSG00000081059' 'ENSG00000141506'\n",
      " 'ENSG00000204642' 'ENSG00000110848' 'ENSG00000002586' 'ENSG00000142669'\n",
      " 'ENSG00000100100' 'ENSG00000105374' 'ENSG00000079616' 'ENSG00000066136'\n",
      " 'ENSG00000185201' 'ENSG00000177556' 'ENSG00000189067' 'ENSG00000175768'\n",
      " 'ENSG00000089280' 'ENSG00000127951' 'ENSG00000138107' 'ENSG00000197471'\n",
      " 'ENSG00000168461' 'ENSG00000135114' 'ENSG00000197746' 'ENSG00000180008'\n",
      " 'ENSG00000185436' 'ENSG00000111678' 'ENSG00000030110' 'ENSG00000059728'\n",
      " 'ENSG00000188404' 'ENSG00000183696' 'ENSG00000242574' 'ENSG00000114423'\n",
      " 'ENSG00000127022' 'ENSG00000106367' 'ENSG00000167004' 'ENSG00000197965'\n",
      " 'ENSG00000104689' 'ENSG00000100453' 'ENSG00000107968' 'ENSG00000142634'\n",
      " 'ENSG00000165280' 'ENSG00000169554' 'ENSG00000101608' 'ENSG00000178719'\n",
      " 'ENSG00000170296' 'ENSG00000140264' 'ENSG00000240065' 'ENSG00000163563'\n",
      " 'ENSG00000171476' 'ENSG00000142089' 'ENSG00000196396' 'ENSG00000131143'\n",
      " 'ENSG00000180644' 'ENSG00000167552' 'ENSG00000162434' 'ENSG00000120129'\n",
      " 'ENSG00000158769' 'ENSG00000123268' 'ENSG00000161203' 'ENSG00000130522'\n",
      " 'ENSG00000175482' 'ENSG00000143543' 'ENSG00000172531' 'ENSG00000138378'\n",
      " 'ENSG00000122862' 'ENSG00000107223' 'ENSG00000004468' 'ENSG00000123358'\n",
      " 'ENSG00000111640' 'ENSG00000136003' 'ENSG00000009790']\n"
     ]
    }
   ],
   "source": [
    "if SEED != 'all':\n",
    "    gene_subset = np.load(here(f'03_downstream_analysis/08_gene_importance/xgboost_external_validation/shap_gene_selection/gene_subsets_{N_GENES}/{CELL_TYPE}_{SEED}.npy'), allow_pickle=True)\n",
    "    train_adata = train_adata[:,gene_subset]\n",
    "    print(gene_subset)\n",
    "elif SEED == 'all':\n",
    "    print('Using all genes')\n",
    "else:\n",
    "    raise ValueError()"
   ]
  },
  {
   "cell_type": "code",
   "execution_count": 8,
   "id": "4996e5e7",
   "metadata": {
    "execution": {
     "iopub.execute_input": "2025-05-15T16:15:33.484434Z",
     "iopub.status.busy": "2025-05-15T16:15:33.484200Z",
     "iopub.status.idle": "2025-05-15T16:15:33.487530Z",
     "shell.execute_reply": "2025-05-15T16:15:33.487223Z"
    },
    "papermill": {
     "duration": 0.010501,
     "end_time": "2025-05-15T16:15:33.488386",
     "exception": false,
     "start_time": "2025-05-15T16:15:33.477885",
     "status": "completed"
    },
    "tags": []
   },
   "outputs": [
    {
     "data": {
      "text/plain": [
       "(542, 107)"
      ]
     },
     "execution_count": 8,
     "metadata": {},
     "output_type": "execute_result"
    }
   ],
   "source": [
    "train_adata.shape"
   ]
  },
  {
   "cell_type": "code",
   "execution_count": 9,
   "id": "e746ad61",
   "metadata": {
    "execution": {
     "iopub.execute_input": "2025-05-15T16:15:33.500465Z",
     "iopub.status.busy": "2025-05-15T16:15:33.500233Z",
     "iopub.status.idle": "2025-05-15T16:15:33.504819Z",
     "shell.execute_reply": "2025-05-15T16:15:33.504504Z"
    },
    "papermill": {
     "duration": 0.011514,
     "end_time": "2025-05-15T16:15:33.505681",
     "exception": false,
     "start_time": "2025-05-15T16:15:33.494167",
     "status": "completed"
    },
    "tags": []
   },
   "outputs": [
    {
     "data": {
      "text/plain": [
       "['RA', 'COVID', 'healthy', 'HIV', 'cirrhosis', 'CD', 'SLE', 'sepsis']\n",
       "Categories (8, object): ['CD', 'COVID', 'HIV', 'RA', 'SLE', 'cirrhosis', 'healthy', 'sepsis']"
      ]
     },
     "execution_count": 9,
     "metadata": {},
     "output_type": "execute_result"
    }
   ],
   "source": [
    "train_adata.obs.disease.unique()"
   ]
  },
  {
   "cell_type": "code",
   "execution_count": 10,
   "id": "7fec0c9b",
   "metadata": {
    "execution": {
     "iopub.execute_input": "2025-05-15T16:15:33.517770Z",
     "iopub.status.busy": "2025-05-15T16:15:33.517565Z",
     "iopub.status.idle": "2025-05-15T16:15:33.521797Z",
     "shell.execute_reply": "2025-05-15T16:15:33.521476Z"
    },
    "papermill": {
     "duration": 0.0112,
     "end_time": "2025-05-15T16:15:33.522652",
     "exception": false,
     "start_time": "2025-05-15T16:15:33.511452",
     "status": "completed"
    },
    "tags": []
   },
   "outputs": [
    {
     "data": {
      "text/plain": [
       "['SCGT00val_I0364_T0', 'SCGT00val_I036019_T0', 'SCGT00val_I036028_T0', 'SCGT00val_I036024_T0', 'SCGT00val_I036016_T0', ..., '10XGenomics_10XHC2_T0', '10XGenomics_10XHC3_T0', '10XGenomics_10XHC5_T0', '10XGenomics_10XHC7_T0', '10XGenomics_10XHC8_T0']\n",
       "Length: 74\n",
       "Categories (74, object): ['10XGenomics_10XHC1_T0', '10XGenomics_10XHC2_T0', '10XGenomics_10XHC3_T0', '10XGenomics_10XHC4_T0', ..., 'Savage2021_BRISL6_T0', 'Savage2021_BRISL7_T0', 'Savage2021_PIDA_T0', 'Savage2021_PIDB_T0']"
      ]
     },
     "execution_count": 10,
     "metadata": {},
     "output_type": "execute_result"
    }
   ],
   "source": [
    "train_adata.obs.sampleID.unique()"
   ]
  },
  {
   "cell_type": "code",
   "execution_count": 11,
   "id": "3d435774",
   "metadata": {
    "execution": {
     "iopub.execute_input": "2025-05-15T16:15:33.534803Z",
     "iopub.status.busy": "2025-05-15T16:15:33.534431Z",
     "iopub.status.idle": "2025-05-15T16:15:33.564810Z",
     "shell.execute_reply": "2025-05-15T16:15:33.564373Z"
    },
    "papermill": {
     "duration": 0.037465,
     "end_time": "2025-05-15T16:15:33.565789",
     "exception": false,
     "start_time": "2025-05-15T16:15:33.528324",
     "status": "completed"
    },
    "tags": []
   },
   "outputs": [],
   "source": [
    "all_idxs = np.arange(train_adata.obs.shape[0])\n",
    "left_out_splits = [s[1] for s in StratifiedGroupKFold(n_splits=N_SPLITS).split(all_idxs, train_adata.obs.disease, train_adata.obs.sampleID)]"
   ]
  },
  {
   "cell_type": "code",
   "execution_count": 12,
   "id": "d2a3de60",
   "metadata": {
    "execution": {
     "iopub.execute_input": "2025-05-15T16:15:33.578312Z",
     "iopub.status.busy": "2025-05-15T16:15:33.578056Z",
     "iopub.status.idle": "2025-05-15T16:15:33.581508Z",
     "shell.execute_reply": "2025-05-15T16:15:33.581196Z"
    },
    "papermill": {
     "duration": 0.010321,
     "end_time": "2025-05-15T16:15:33.582322",
     "exception": false,
     "start_time": "2025-05-15T16:15:33.572001",
     "status": "completed"
    },
    "tags": []
   },
   "outputs": [
    {
     "data": {
      "text/plain": [
       "([0, 1, 2], 4, 3)"
      ]
     },
     "execution_count": 12,
     "metadata": {},
     "output_type": "execute_result"
    }
   ],
   "source": [
    "TRAIN_SPLIT_IDXS = [0,1,2,3,4]\n",
    "VAL_SPLIT_IDX = (TEST_SPLIT_IDX + 1) % 5\n",
    "TRAIN_SPLIT_IDXS.remove(TEST_SPLIT_IDX)\n",
    "TRAIN_SPLIT_IDXS.remove(VAL_SPLIT_IDX)\n",
    "TRAIN_SPLIT_IDXS, VAL_SPLIT_IDX, TEST_SPLIT_IDX"
   ]
  },
  {
   "cell_type": "code",
   "execution_count": 13,
   "id": "c0981a67",
   "metadata": {
    "execution": {
     "iopub.execute_input": "2025-05-15T16:15:33.594846Z",
     "iopub.status.busy": "2025-05-15T16:15:33.594471Z",
     "iopub.status.idle": "2025-05-15T16:15:33.597178Z",
     "shell.execute_reply": "2025-05-15T16:15:33.596863Z"
    },
    "papermill": {
     "duration": 0.009909,
     "end_time": "2025-05-15T16:15:33.597981",
     "exception": false,
     "start_time": "2025-05-15T16:15:33.588072",
     "status": "completed"
    },
    "tags": []
   },
   "outputs": [],
   "source": [
    "train_idxs = np.concatenate([left_out_splits[idx] for idx in TRAIN_SPLIT_IDXS])\n",
    "val_idxs = left_out_splits[VAL_SPLIT_IDX]\n",
    "test_idxs = left_out_splits[TEST_SPLIT_IDX]"
   ]
  },
  {
   "cell_type": "markdown",
   "id": "264dc616",
   "metadata": {
    "papermill": {
     "duration": 0.00567,
     "end_time": "2025-05-15T16:15:33.609386",
     "exception": false,
     "start_time": "2025-05-15T16:15:33.603716",
     "status": "completed"
    },
    "tags": []
   },
   "source": [
    "### SUBSET DATASET INTO TRAIN/TEST/VAL SPLITS"
   ]
  },
  {
   "cell_type": "code",
   "execution_count": 14,
   "id": "ea7286dd",
   "metadata": {
    "execution": {
     "iopub.execute_input": "2025-05-15T16:15:33.622223Z",
     "iopub.status.busy": "2025-05-15T16:15:33.621917Z",
     "iopub.status.idle": "2025-05-15T16:15:33.628865Z",
     "shell.execute_reply": "2025-05-15T16:15:33.628540Z"
    },
    "papermill": {
     "duration": 0.014325,
     "end_time": "2025-05-15T16:15:33.629704",
     "exception": false,
     "start_time": "2025-05-15T16:15:33.615379",
     "status": "completed"
    },
    "tags": []
   },
   "outputs": [
    {
     "data": {
      "text/plain": [
       "((327, 107), (99, 107), (116, 107))"
      ]
     },
     "execution_count": 14,
     "metadata": {},
     "output_type": "execute_result"
    }
   ],
   "source": [
    "X_train = train_adata.X[train_idxs]\n",
    "X_test = train_adata.X[test_idxs]\n",
    "X_val = train_adata.X[val_idxs]\n",
    "X_train.shape, X_test.shape, X_val.shape"
   ]
  },
  {
   "cell_type": "code",
   "execution_count": 15,
   "id": "c6251adb",
   "metadata": {
    "execution": {
     "iopub.execute_input": "2025-05-15T16:15:33.642533Z",
     "iopub.status.busy": "2025-05-15T16:15:33.642190Z",
     "iopub.status.idle": "2025-05-15T16:15:33.647559Z",
     "shell.execute_reply": "2025-05-15T16:15:33.647241Z"
    },
    "papermill": {
     "duration": 0.012601,
     "end_time": "2025-05-15T16:15:33.648398",
     "exception": false,
     "start_time": "2025-05-15T16:15:33.635797",
     "status": "completed"
    },
    "tags": []
   },
   "outputs": [
    {
     "data": {
      "text/plain": [
       "((327,), (99,), (116,))"
      ]
     },
     "execution_count": 15,
     "metadata": {},
     "output_type": "execute_result"
    }
   ],
   "source": [
    "y_train = train_adata.obs.iloc[train_idxs].disease.values.astype(str)\n",
    "y_test = train_adata.obs.iloc[test_idxs].disease.values.astype(str)\n",
    "y_val = train_adata.obs.iloc[val_idxs].disease.values.astype(str)\n",
    "y_train.shape, y_test.shape, y_val.shape"
   ]
  },
  {
   "cell_type": "code",
   "execution_count": 16,
   "id": "0e58de1b",
   "metadata": {
    "execution": {
     "iopub.execute_input": "2025-05-15T16:15:33.661656Z",
     "iopub.status.busy": "2025-05-15T16:15:33.661443Z",
     "iopub.status.idle": "2025-05-15T16:15:33.664608Z",
     "shell.execute_reply": "2025-05-15T16:15:33.664304Z"
    },
    "papermill": {
     "duration": 0.010778,
     "end_time": "2025-05-15T16:15:33.665427",
     "exception": false,
     "start_time": "2025-05-15T16:15:33.654649",
     "status": "completed"
    },
    "tags": []
   },
   "outputs": [],
   "source": [
    "lenc = LabelEncoder()\n",
    "y_train_enc = lenc.fit_transform(y_train)\n",
    "y_val_enc = lenc.transform(y_val)\n",
    "y_test_enc = lenc.transform(y_test)"
   ]
  },
  {
   "cell_type": "markdown",
   "id": "dd03d411",
   "metadata": {
    "papermill": {
     "duration": 0.005651,
     "end_time": "2025-05-15T16:15:33.677565",
     "exception": false,
     "start_time": "2025-05-15T16:15:33.671914",
     "status": "completed"
    },
    "tags": []
   },
   "source": [
    "### GENERATE F1 "
   ]
  },
  {
   "cell_type": "code",
   "execution_count": 17,
   "id": "47b06c80",
   "metadata": {
    "execution": {
     "iopub.execute_input": "2025-05-15T16:15:33.690131Z",
     "iopub.status.busy": "2025-05-15T16:15:33.689921Z",
     "iopub.status.idle": "2025-05-15T16:15:33.692182Z",
     "shell.execute_reply": "2025-05-15T16:15:33.691881Z"
    },
    "papermill": {
     "duration": 0.009397,
     "end_time": "2025-05-15T16:15:33.692984",
     "exception": false,
     "start_time": "2025-05-15T16:15:33.683587",
     "status": "completed"
    },
    "tags": []
   },
   "outputs": [],
   "source": [
    "def custom_f1_score(y_true, y_pred):\n",
    "    return -f1_score(y_true, y_pred.argmax(1), average='weighted')"
   ]
  },
  {
   "cell_type": "code",
   "execution_count": 18,
   "id": "3fcd93d5",
   "metadata": {
    "execution": {
     "iopub.execute_input": "2025-05-15T16:15:33.704798Z",
     "iopub.status.busy": "2025-05-15T16:15:33.704541Z",
     "iopub.status.idle": "2025-05-15T16:15:33.708318Z",
     "shell.execute_reply": "2025-05-15T16:15:33.707952Z"
    },
    "papermill": {
     "duration": 0.010703,
     "end_time": "2025-05-15T16:15:33.709165",
     "exception": false,
     "start_time": "2025-05-15T16:15:33.698462",
     "status": "completed"
    },
    "tags": []
   },
   "outputs": [],
   "source": [
    "eval_metric=custom_f1_score\n",
    "eval_metric_name='custom_f1_score'\n",
    "\n",
    "def objective(trial):\n",
    "    params = {\n",
    "        'n_estimators': 1500,\n",
    "        'max_depth': trial.suggest_int('max_depth', 3, 20),\n",
    "        'min_child_weight': trial.suggest_int('min_child_weight', 1, 250),\n",
    "        'subsample': trial.suggest_float('subsample', 0.1, 1.0),\n",
    "        'colsample_bynode': trial.suggest_float('colsample_bynode', 0.1, 1.0),\n",
    "        'learning_rate': trial.suggest_float('learning_rate', 1e-3, 5e-1, log=True),\n",
    "    }\n",
    "    pruning_callback = optuna.integration.XGBoostPruningCallback(trial, f'validation_0-{eval_metric_name}')\n",
    "    es_callback = xgboost.callback.EarlyStopping(20, min_delta=0.001)\n",
    "    xgb = xgboost.XGBClassifier(\n",
    "        eval_metric=eval_metric,\n",
    "        callbacks=[pruning_callback, es_callback],\n",
    "        n_jobs=5,\n",
    "        **params\n",
    "    )\n",
    "    xgb.fit(\n",
    "        X_train, \n",
    "        y_train_enc, \n",
    "        verbose=0,\n",
    "        eval_set=[(X_val, y_val_enc)],\n",
    "    )\n",
    "    trial.set_user_attr('best_iteration', xgb.best_iteration)\n",
    "\n",
    "    return xgb.best_score"
   ]
  },
  {
   "cell_type": "code",
   "execution_count": 19,
   "id": "8f773915",
   "metadata": {
    "execution": {
     "iopub.execute_input": "2025-05-15T16:15:33.721580Z",
     "iopub.status.busy": "2025-05-15T16:15:33.721326Z",
     "iopub.status.idle": "2025-05-15T16:15:45.665332Z",
     "shell.execute_reply": "2025-05-15T16:15:45.664766Z"
    },
    "papermill": {
     "duration": 11.951634,
     "end_time": "2025-05-15T16:15:45.666638",
     "exception": false,
     "start_time": "2025-05-15T16:15:33.715004",
     "status": "completed"
    },
    "scrolled": true,
    "tags": []
   },
   "outputs": [
    {
     "name": "stderr",
     "output_type": "stream",
     "text": [
      "[I 2025-05-15 18:15:33,723] A new study created in memory with name: no-name-d6ddcc1a-bb50-4708-9448-d7f16c1968fc\n"
     ]
    },
    {
     "name": "stderr",
     "output_type": "stream",
     "text": [
      "[I 2025-05-15 18:15:33,789] Trial 0 finished with value: -0.041688 and parameters: {'max_depth': 9, 'min_child_weight': 238, 'subsample': 0.7587945476302645, 'colsample_bynode': 0.6387926357773329, 'learning_rate': 0.0026368755339723046}. Best is trial 0 with value: -0.041688.\n"
     ]
    },
    {
     "name": "stderr",
     "output_type": "stream",
     "text": [
      "[I 2025-05-15 18:15:34,131] Trial 1 finished with value: -0.609414 and parameters: {'max_depth': 5, 'min_child_weight': 15, 'subsample': 0.8795585311974417, 'colsample_bynode': 0.6410035105688879, 'learning_rate': 0.08148293210105287}. Best is trial 1 with value: -0.609414.\n"
     ]
    },
    {
     "name": "stderr",
     "output_type": "stream",
     "text": [
      "[I 2025-05-15 18:15:34,280] Trial 2 finished with value: -0.041688 and parameters: {'max_depth': 3, 'min_child_weight': 243, 'subsample': 0.8491983767203796, 'colsample_bynode': 0.29110519961044856, 'learning_rate': 0.003095566460242371}. Best is trial 1 with value: -0.609414.\n"
     ]
    },
    {
     "name": "stderr",
     "output_type": "stream",
     "text": [
      "[I 2025-05-15 18:15:34,409] Trial 3 finished with value: -0.041688 and parameters: {'max_depth': 6, 'min_child_weight': 77, 'subsample': 0.5722807884690141, 'colsample_bynode': 0.48875051677790415, 'learning_rate': 0.006109683510122491}. Best is trial 1 with value: -0.609414.\n"
     ]
    },
    {
     "name": "stderr",
     "output_type": "stream",
     "text": [
      "[I 2025-05-15 18:15:34,544] Trial 4 finished with value: -0.041688 and parameters: {'max_depth': 14, 'min_child_weight': 35, 'subsample': 0.3629301836816964, 'colsample_bynode': 0.4297256589643226, 'learning_rate': 0.01701841881702917}. Best is trial 1 with value: -0.609414.\n"
     ]
    },
    {
     "name": "stderr",
     "output_type": "stream",
     "text": [
      "[I 2025-05-15 18:15:34,722] Trial 5 finished with value: -0.041688 and parameters: {'max_depth': 17, 'min_child_weight': 50, 'subsample': 0.5628109945722505, 'colsample_bynode': 0.6331731119758383, 'learning_rate': 0.0013346527038305934}. Best is trial 1 with value: -0.609414.\n"
     ]
    },
    {
     "name": "stderr",
     "output_type": "stream",
     "text": [
      "[I 2025-05-15 18:15:34,915] Trial 6 finished with value: -0.041688 and parameters: {'max_depth': 13, 'min_child_weight': 43, 'subsample': 0.1585464336867516, 'colsample_bynode': 0.9539969835279999, 'learning_rate': 0.4038423798071558}. Best is trial 1 with value: -0.609414.\n"
     ]
    },
    {
     "name": "stderr",
     "output_type": "stream",
     "text": [
      "[I 2025-05-15 18:15:35,095] Trial 7 finished with value: -0.041688 and parameters: {'max_depth': 17, 'min_child_weight': 77, 'subsample': 0.1879049026057455, 'colsample_bynode': 0.7158097238609412, 'learning_rate': 0.015415527060141935}. Best is trial 1 with value: -0.609414.\n"
     ]
    },
    {
     "name": "stderr",
     "output_type": "stream",
     "text": [
      "[I 2025-05-15 18:15:35,268] Trial 8 finished with value: -0.041688 and parameters: {'max_depth': 5, 'min_child_weight': 124, 'subsample': 0.13094966900369656, 'colsample_bynode': 0.9183883618709039, 'learning_rate': 0.004993895014755658}. Best is trial 1 with value: -0.609414.\n"
     ]
    },
    {
     "name": "stderr",
     "output_type": "stream",
     "text": [
      "[I 2025-05-15 18:15:35,437] Trial 9 finished with value: -0.041688 and parameters: {'max_depth': 14, 'min_child_weight': 78, 'subsample': 0.5680612190600297, 'colsample_bynode': 0.5920392514089517, 'learning_rate': 0.0031543990308330965}. Best is trial 1 with value: -0.609414.\n"
     ]
    },
    {
     "name": "stderr",
     "output_type": "stream",
     "text": [
      "[I 2025-05-15 18:15:35,932] Trial 10 finished with value: -0.700707 and parameters: {'max_depth': 9, 'min_child_weight': 2, 'subsample': 0.9725833997090791, 'colsample_bynode': 0.11616568805333755, 'learning_rate': 0.17780618353487967}. Best is trial 10 with value: -0.700707.\n"
     ]
    },
    {
     "name": "stderr",
     "output_type": "stream",
     "text": [
      "[I 2025-05-15 18:15:36,250] Trial 11 pruned. Trial was pruned at iteration 21.\n"
     ]
    },
    {
     "name": "stderr",
     "output_type": "stream",
     "text": [
      "[I 2025-05-15 18:15:36,954] Trial 12 finished with value: -0.721451 and parameters: {'max_depth': 9, 'min_child_weight': 3, 'subsample': 0.9754570370311046, 'colsample_bynode': 0.14672783827498995, 'learning_rate': 0.08954997670613858}. Best is trial 12 with value: -0.721451.\n"
     ]
    },
    {
     "name": "stderr",
     "output_type": "stream",
     "text": [
      "[I 2025-05-15 18:15:37,115] Trial 13 finished with value: -0.041688 and parameters: {'max_depth': 10, 'min_child_weight': 173, 'subsample': 0.9990365834996398, 'colsample_bynode': 0.10388397775802007, 'learning_rate': 0.08954294267079196}. Best is trial 12 with value: -0.721451.\n"
     ]
    },
    {
     "name": "stderr",
     "output_type": "stream",
     "text": [
      "[I 2025-05-15 18:15:37,266] Trial 14 finished with value: -0.041688 and parameters: {'max_depth': 7, 'min_child_weight': 132, 'subsample': 0.7251427075087294, 'colsample_bynode': 0.2827065087684573, 'learning_rate': 0.39514801085683204}. Best is trial 12 with value: -0.721451.\n"
     ]
    },
    {
     "name": "stderr",
     "output_type": "stream",
     "text": [
      "[I 2025-05-15 18:15:37,632] Trial 15 finished with value: -0.682741 and parameters: {'max_depth': 20, 'min_child_weight': 2, 'subsample': 0.7157386387695167, 'colsample_bynode': 0.31387503510266057, 'learning_rate': 0.19723736175781964}. Best is trial 12 with value: -0.721451.\n"
     ]
    },
    {
     "name": "stderr",
     "output_type": "stream",
     "text": [
      "[I 2025-05-15 18:15:37,793] Trial 16 finished with value: -0.041688 and parameters: {'max_depth': 11, 'min_child_weight': 125, 'subsample': 0.8815541734801864, 'colsample_bynode': 0.11794375140013524, 'learning_rate': 0.049223809345826965}. Best is trial 12 with value: -0.721451.\n"
     ]
    },
    {
     "name": "stderr",
     "output_type": "stream",
     "text": [
      "[I 2025-05-15 18:15:37,955] Trial 17 finished with value: -0.041688 and parameters: {'max_depth': 8, 'min_child_weight': 183, 'subsample': 0.38147523481218437, 'colsample_bynode': 0.22493155379732882, 'learning_rate': 0.04721213780493888}. Best is trial 12 with value: -0.721451.\n"
     ]
    },
    {
     "name": "stderr",
     "output_type": "stream",
     "text": [
      "[I 2025-05-15 18:15:38,121] Trial 18 pruned. Trial was pruned at iteration 21.\n"
     ]
    },
    {
     "name": "stderr",
     "output_type": "stream",
     "text": [
      "[I 2025-05-15 18:15:38,276] Trial 19 finished with value: -0.041688 and parameters: {'max_depth': 11, 'min_child_weight': 102, 'subsample': 0.9723428668438461, 'colsample_bynode': 0.21061250777137863, 'learning_rate': 0.0340013005982499}. Best is trial 12 with value: -0.721451.\n"
     ]
    },
    {
     "name": "stderr",
     "output_type": "stream",
     "text": [
      "[I 2025-05-15 18:15:38,437] Trial 20 finished with value: -0.041688 and parameters: {'max_depth': 7, 'min_child_weight': 60, 'subsample': 0.6557531039489988, 'colsample_bynode': 0.792643950018397, 'learning_rate': 0.19601104640141212}. Best is trial 12 with value: -0.721451.\n"
     ]
    },
    {
     "name": "stderr",
     "output_type": "stream",
     "text": [
      "[I 2025-05-15 18:15:38,785] Trial 21 pruned. Trial was pruned at iteration 21.\n"
     ]
    },
    {
     "name": "stderr",
     "output_type": "stream",
     "text": [
      "[I 2025-05-15 18:15:38,957] Trial 22 pruned. Trial was pruned at iteration 21.\n"
     ]
    },
    {
     "name": "stderr",
     "output_type": "stream",
     "text": [
      "[I 2025-05-15 18:15:39,120] Trial 23 pruned. Trial was pruned at iteration 21.\n"
     ]
    },
    {
     "name": "stderr",
     "output_type": "stream",
     "text": [
      "[I 2025-05-15 18:15:39,320] Trial 24 pruned. Trial was pruned at iteration 21.\n"
     ]
    },
    {
     "name": "stderr",
     "output_type": "stream",
     "text": [
      "[I 2025-05-15 18:15:39,483] Trial 25 finished with value: -0.041688 and parameters: {'max_depth': 16, 'min_child_weight': 62, 'subsample': 0.6475658271677043, 'colsample_bynode': 0.10303270357702729, 'learning_rate': 0.02608936873858633}. Best is trial 12 with value: -0.721451.\n"
     ]
    },
    {
     "name": "stderr",
     "output_type": "stream",
     "text": [
      "[I 2025-05-15 18:15:39,664] Trial 26 pruned. Trial was pruned at iteration 21.\n"
     ]
    },
    {
     "name": "stderr",
     "output_type": "stream",
     "text": [
      "[I 2025-05-15 18:15:39,839] Trial 27 finished with value: -0.041688 and parameters: {'max_depth': 15, 'min_child_weight': 101, 'subsample': 0.7803900705327996, 'colsample_bynode': 0.5082944821752585, 'learning_rate': 0.1216994578512989}. Best is trial 12 with value: -0.721451.\n"
     ]
    },
    {
     "name": "stderr",
     "output_type": "stream",
     "text": [
      "[I 2025-05-15 18:15:40,002] Trial 28 finished with value: -0.041688 and parameters: {'max_depth': 12, 'min_child_weight': 161, 'subsample': 0.4638608238347109, 'colsample_bynode': 0.1637020245151603, 'learning_rate': 0.4951776786065656}. Best is trial 12 with value: -0.721451.\n"
     ]
    },
    {
     "name": "stderr",
     "output_type": "stream",
     "text": [
      "[I 2025-05-15 18:15:40,160] Trial 29 finished with value: -0.041688 and parameters: {'max_depth': 10, 'min_child_weight': 217, 'subsample': 0.6781100189025315, 'colsample_bynode': 0.34094914797190495, 'learning_rate': 0.05709860603030382}. Best is trial 12 with value: -0.721451.\n"
     ]
    },
    {
     "name": "stderr",
     "output_type": "stream",
     "text": [
      "[I 2025-05-15 18:15:40,317] Trial 30 finished with value: -0.041688 and parameters: {'max_depth': 8, 'min_child_weight': 220, 'subsample': 0.9340265599875419, 'colsample_bynode': 0.24186861057174333, 'learning_rate': 0.15032006127528116}. Best is trial 12 with value: -0.721451.\n"
     ]
    },
    {
     "name": "stderr",
     "output_type": "stream",
     "text": [
      "[I 2025-05-15 18:15:40,551] Trial 31 pruned. Trial was pruned at iteration 21.\n"
     ]
    },
    {
     "name": "stderr",
     "output_type": "stream",
     "text": [
      "[I 2025-05-15 18:15:40,781] Trial 32 pruned. Trial was pruned at iteration 21.\n"
     ]
    },
    {
     "name": "stderr",
     "output_type": "stream",
     "text": [
      "[I 2025-05-15 18:15:40,953] Trial 33 pruned. Trial was pruned at iteration 21.\n"
     ]
    },
    {
     "name": "stderr",
     "output_type": "stream",
     "text": [
      "[I 2025-05-15 18:15:41,460] Trial 34 finished with value: -0.67059 and parameters: {'max_depth': 7, 'min_child_weight': 1, 'subsample': 0.7574921264395115, 'colsample_bynode': 0.4665264772757945, 'learning_rate': 0.03242578833232445}. Best is trial 12 with value: -0.721451.\n"
     ]
    },
    {
     "name": "stderr",
     "output_type": "stream",
     "text": [
      "[I 2025-05-15 18:15:41,616] Trial 35 pruned. Trial was pruned at iteration 21.\n"
     ]
    },
    {
     "name": "stderr",
     "output_type": "stream",
     "text": [
      "[I 2025-05-15 18:15:41,790] Trial 36 pruned. Trial was pruned at iteration 21.\n"
     ]
    },
    {
     "name": "stderr",
     "output_type": "stream",
     "text": [
      "[I 2025-05-15 18:15:42,698] Trial 37 finished with value: -0.743845 and parameters: {'max_depth': 19, 'min_child_weight': 1, 'subsample': 0.6264871252894523, 'colsample_bynode': 0.3670224921929689, 'learning_rate': 0.06796538231721945}. Best is trial 37 with value: -0.743845.\n"
     ]
    },
    {
     "name": "stderr",
     "output_type": "stream",
     "text": [
      "[I 2025-05-15 18:15:42,856] Trial 38 finished with value: -0.041688 and parameters: {'max_depth': 18, 'min_child_weight': 48, 'subsample': 0.5057966996056662, 'colsample_bynode': 0.2771695400507176, 'learning_rate': 0.06020982571245652}. Best is trial 37 with value: -0.743845.\n"
     ]
    },
    {
     "name": "stderr",
     "output_type": "stream",
     "text": [
      "[I 2025-05-15 18:15:43,019] Trial 39 finished with value: -0.041688 and parameters: {'max_depth': 19, 'min_child_weight': 70, 'subsample': 0.5920948426105834, 'colsample_bynode': 0.15827935770228097, 'learning_rate': 0.13817927853347917}. Best is trial 37 with value: -0.743845.\n"
     ]
    },
    {
     "name": "stderr",
     "output_type": "stream",
     "text": [
      "[I 2025-05-15 18:15:43,199] Trial 40 pruned. Trial was pruned at iteration 21.\n"
     ]
    },
    {
     "name": "stderr",
     "output_type": "stream",
     "text": [
      "[I 2025-05-15 18:15:43,639] Trial 41 finished with value: -0.708661 and parameters: {'max_depth': 8, 'min_child_weight': 2, 'subsample': 0.760670013247366, 'colsample_bynode': 0.45593321987940805, 'learning_rate': 0.034457645932299996}. Best is trial 37 with value: -0.743845.\n"
     ]
    },
    {
     "name": "stderr",
     "output_type": "stream",
     "text": [
      "[I 2025-05-15 18:15:43,793] Trial 42 finished with value: -0.119292 and parameters: {'max_depth': 8, 'min_child_weight': 39, 'subsample': 0.5312860219480278, 'colsample_bynode': 0.37898459799616857, 'learning_rate': 0.07706009861470728}. Best is trial 37 with value: -0.743845.\n"
     ]
    },
    {
     "name": "stderr",
     "output_type": "stream",
     "text": [
      "[I 2025-05-15 18:15:43,969] Trial 43 finished with value: -0.119292 and parameters: {'max_depth': 13, 'min_child_weight': 13, 'subsample': 0.2597626652250229, 'colsample_bynode': 0.5073252429489695, 'learning_rate': 0.011355643107206154}. Best is trial 37 with value: -0.743845.\n"
     ]
    },
    {
     "name": "stderr",
     "output_type": "stream",
     "text": [
      "[I 2025-05-15 18:15:44,151] Trial 44 pruned. Trial was pruned at iteration 21.\n"
     ]
    },
    {
     "name": "stderr",
     "output_type": "stream",
     "text": [
      "[I 2025-05-15 18:15:44,352] Trial 45 pruned. Trial was pruned at iteration 21.\n"
     ]
    },
    {
     "name": "stderr",
     "output_type": "stream",
     "text": [
      "[I 2025-05-15 18:15:44,525] Trial 46 finished with value: -0.119292 and parameters: {'max_depth': 18, 'min_child_weight': 42, 'subsample': 0.8208722171180595, 'colsample_bynode': 0.6062744177322589, 'learning_rate': 0.02346563989613043}. Best is trial 37 with value: -0.743845.\n"
     ]
    },
    {
     "name": "stderr",
     "output_type": "stream",
     "text": [
      "[I 2025-05-15 18:15:45,051] Trial 47 pruned. Trial was pruned at iteration 39.\n"
     ]
    },
    {
     "name": "stderr",
     "output_type": "stream",
     "text": [
      "[I 2025-05-15 18:15:45,203] Trial 48 finished with value: -0.041688 and parameters: {'max_depth': 10, 'min_child_weight': 93, 'subsample': 0.7226474666338798, 'colsample_bynode': 0.4391974836578001, 'learning_rate': 0.064649108526241}. Best is trial 37 with value: -0.743845.\n"
     ]
    },
    {
     "name": "stderr",
     "output_type": "stream",
     "text": [
      "[I 2025-05-15 18:15:45,567] Trial 49 pruned. Trial was pruned at iteration 39.\n"
     ]
    }
   ],
   "source": [
    "sampler = optuna.samplers.TPESampler(seed=42)\n",
    "study = optuna.create_study(direction='minimize', sampler=sampler)\n",
    "study.optimize(objective, n_trials=N_TRIALS, gc_after_trial=True)"
   ]
  },
  {
   "cell_type": "code",
   "execution_count": 20,
   "id": "8c3d50ef",
   "metadata": {
    "execution": {
     "iopub.execute_input": "2025-05-15T16:15:45.704647Z",
     "iopub.status.busy": "2025-05-15T16:15:45.704379Z",
     "iopub.status.idle": "2025-05-15T16:15:45.726440Z",
     "shell.execute_reply": "2025-05-15T16:15:45.726044Z"
    },
    "papermill": {
     "duration": 0.03233,
     "end_time": "2025-05-15T16:15:45.727288",
     "exception": false,
     "start_time": "2025-05-15T16:15:45.694958",
     "status": "completed"
    },
    "tags": []
   },
   "outputs": [
    {
     "data": {
      "text/plain": [
       "['/scratch_isilon/groups/singlecell/shared/projects/Inflammation-PBMCs-Atlas/03_downstream_analysis/08_gene_importance/xgboost_external_validation/xgboost_TopN_genes/results_20/study/Plasma_6_3_xgboost.pkl']"
      ]
     },
     "execution_count": 20,
     "metadata": {},
     "output_type": "execute_result"
    }
   ],
   "source": [
    "out_dir = here(f'03_downstream_analysis/08_gene_importance/xgboost_external_validation/xgboost_TopN_genes/results_{N_GENES}/study')\n",
    "\n",
    "if not os.path.exists(out_dir):\n",
    "    os.makedirs(out_dir)\n",
    "    \n",
    "joblib.dump(study,os.path.join(out_dir, f'{CELL_TYPE}_{SEED}_{TEST_SPLIT_IDX}_xgboost.pkl'))"
   ]
  },
  {
   "cell_type": "code",
   "execution_count": 21,
   "id": "cafa55bd",
   "metadata": {
    "execution": {
     "iopub.execute_input": "2025-05-15T16:15:45.766646Z",
     "iopub.status.busy": "2025-05-15T16:15:45.766440Z",
     "iopub.status.idle": "2025-05-15T16:15:46.645280Z",
     "shell.execute_reply": "2025-05-15T16:15:46.644912Z"
    },
    "papermill": {
     "duration": 0.912104,
     "end_time": "2025-05-15T16:15:46.647989",
     "exception": false,
     "start_time": "2025-05-15T16:15:45.735885",
     "status": "completed"
    },
    "tags": []
   },
   "outputs": [
    {
     "data": {
      "text/html": [
       "<style>#sk-container-id-1 {\n",
       "  /* Definition of color scheme common for light and dark mode */\n",
       "  --sklearn-color-text: black;\n",
       "  --sklearn-color-line: gray;\n",
       "  /* Definition of color scheme for unfitted estimators */\n",
       "  --sklearn-color-unfitted-level-0: #fff5e6;\n",
       "  --sklearn-color-unfitted-level-1: #f6e4d2;\n",
       "  --sklearn-color-unfitted-level-2: #ffe0b3;\n",
       "  --sklearn-color-unfitted-level-3: chocolate;\n",
       "  /* Definition of color scheme for fitted estimators */\n",
       "  --sklearn-color-fitted-level-0: #f0f8ff;\n",
       "  --sklearn-color-fitted-level-1: #d4ebff;\n",
       "  --sklearn-color-fitted-level-2: #b3dbfd;\n",
       "  --sklearn-color-fitted-level-3: cornflowerblue;\n",
       "\n",
       "  /* Specific color for light theme */\n",
       "  --sklearn-color-text-on-default-background: var(--sg-text-color, var(--theme-code-foreground, var(--jp-content-font-color1, black)));\n",
       "  --sklearn-color-background: var(--sg-background-color, var(--theme-background, var(--jp-layout-color0, white)));\n",
       "  --sklearn-color-border-box: var(--sg-text-color, var(--theme-code-foreground, var(--jp-content-font-color1, black)));\n",
       "  --sklearn-color-icon: #696969;\n",
       "\n",
       "  @media (prefers-color-scheme: dark) {\n",
       "    /* Redefinition of color scheme for dark theme */\n",
       "    --sklearn-color-text-on-default-background: var(--sg-text-color, var(--theme-code-foreground, var(--jp-content-font-color1, white)));\n",
       "    --sklearn-color-background: var(--sg-background-color, var(--theme-background, var(--jp-layout-color0, #111)));\n",
       "    --sklearn-color-border-box: var(--sg-text-color, var(--theme-code-foreground, var(--jp-content-font-color1, white)));\n",
       "    --sklearn-color-icon: #878787;\n",
       "  }\n",
       "}\n",
       "\n",
       "#sk-container-id-1 {\n",
       "  color: var(--sklearn-color-text);\n",
       "}\n",
       "\n",
       "#sk-container-id-1 pre {\n",
       "  padding: 0;\n",
       "}\n",
       "\n",
       "#sk-container-id-1 input.sk-hidden--visually {\n",
       "  border: 0;\n",
       "  clip: rect(1px 1px 1px 1px);\n",
       "  clip: rect(1px, 1px, 1px, 1px);\n",
       "  height: 1px;\n",
       "  margin: -1px;\n",
       "  overflow: hidden;\n",
       "  padding: 0;\n",
       "  position: absolute;\n",
       "  width: 1px;\n",
       "}\n",
       "\n",
       "#sk-container-id-1 div.sk-dashed-wrapped {\n",
       "  border: 1px dashed var(--sklearn-color-line);\n",
       "  margin: 0 0.4em 0.5em 0.4em;\n",
       "  box-sizing: border-box;\n",
       "  padding-bottom: 0.4em;\n",
       "  background-color: var(--sklearn-color-background);\n",
       "}\n",
       "\n",
       "#sk-container-id-1 div.sk-container {\n",
       "  /* jupyter's `normalize.less` sets `[hidden] { display: none; }`\n",
       "     but bootstrap.min.css set `[hidden] { display: none !important; }`\n",
       "     so we also need the `!important` here to be able to override the\n",
       "     default hidden behavior on the sphinx rendered scikit-learn.org.\n",
       "     See: https://github.com/scikit-learn/scikit-learn/issues/21755 */\n",
       "  display: inline-block !important;\n",
       "  position: relative;\n",
       "}\n",
       "\n",
       "#sk-container-id-1 div.sk-text-repr-fallback {\n",
       "  display: none;\n",
       "}\n",
       "\n",
       "div.sk-parallel-item,\n",
       "div.sk-serial,\n",
       "div.sk-item {\n",
       "  /* draw centered vertical line to link estimators */\n",
       "  background-image: linear-gradient(var(--sklearn-color-text-on-default-background), var(--sklearn-color-text-on-default-background));\n",
       "  background-size: 2px 100%;\n",
       "  background-repeat: no-repeat;\n",
       "  background-position: center center;\n",
       "}\n",
       "\n",
       "/* Parallel-specific style estimator block */\n",
       "\n",
       "#sk-container-id-1 div.sk-parallel-item::after {\n",
       "  content: \"\";\n",
       "  width: 100%;\n",
       "  border-bottom: 2px solid var(--sklearn-color-text-on-default-background);\n",
       "  flex-grow: 1;\n",
       "}\n",
       "\n",
       "#sk-container-id-1 div.sk-parallel {\n",
       "  display: flex;\n",
       "  align-items: stretch;\n",
       "  justify-content: center;\n",
       "  background-color: var(--sklearn-color-background);\n",
       "  position: relative;\n",
       "}\n",
       "\n",
       "#sk-container-id-1 div.sk-parallel-item {\n",
       "  display: flex;\n",
       "  flex-direction: column;\n",
       "}\n",
       "\n",
       "#sk-container-id-1 div.sk-parallel-item:first-child::after {\n",
       "  align-self: flex-end;\n",
       "  width: 50%;\n",
       "}\n",
       "\n",
       "#sk-container-id-1 div.sk-parallel-item:last-child::after {\n",
       "  align-self: flex-start;\n",
       "  width: 50%;\n",
       "}\n",
       "\n",
       "#sk-container-id-1 div.sk-parallel-item:only-child::after {\n",
       "  width: 0;\n",
       "}\n",
       "\n",
       "/* Serial-specific style estimator block */\n",
       "\n",
       "#sk-container-id-1 div.sk-serial {\n",
       "  display: flex;\n",
       "  flex-direction: column;\n",
       "  align-items: center;\n",
       "  background-color: var(--sklearn-color-background);\n",
       "  padding-right: 1em;\n",
       "  padding-left: 1em;\n",
       "}\n",
       "\n",
       "\n",
       "/* Toggleable style: style used for estimator/Pipeline/ColumnTransformer box that is\n",
       "clickable and can be expanded/collapsed.\n",
       "- Pipeline and ColumnTransformer use this feature and define the default style\n",
       "- Estimators will overwrite some part of the style using the `sk-estimator` class\n",
       "*/\n",
       "\n",
       "/* Pipeline and ColumnTransformer style (default) */\n",
       "\n",
       "#sk-container-id-1 div.sk-toggleable {\n",
       "  /* Default theme specific background. It is overwritten whether we have a\n",
       "  specific estimator or a Pipeline/ColumnTransformer */\n",
       "  background-color: var(--sklearn-color-background);\n",
       "}\n",
       "\n",
       "/* Toggleable label */\n",
       "#sk-container-id-1 label.sk-toggleable__label {\n",
       "  cursor: pointer;\n",
       "  display: block;\n",
       "  width: 100%;\n",
       "  margin-bottom: 0;\n",
       "  padding: 0.5em;\n",
       "  box-sizing: border-box;\n",
       "  text-align: center;\n",
       "}\n",
       "\n",
       "#sk-container-id-1 label.sk-toggleable__label-arrow:before {\n",
       "  /* Arrow on the left of the label */\n",
       "  content: \"▸\";\n",
       "  float: left;\n",
       "  margin-right: 0.25em;\n",
       "  color: var(--sklearn-color-icon);\n",
       "}\n",
       "\n",
       "#sk-container-id-1 label.sk-toggleable__label-arrow:hover:before {\n",
       "  color: var(--sklearn-color-text);\n",
       "}\n",
       "\n",
       "/* Toggleable content - dropdown */\n",
       "\n",
       "#sk-container-id-1 div.sk-toggleable__content {\n",
       "  max-height: 0;\n",
       "  max-width: 0;\n",
       "  overflow: hidden;\n",
       "  text-align: left;\n",
       "  /* unfitted */\n",
       "  background-color: var(--sklearn-color-unfitted-level-0);\n",
       "}\n",
       "\n",
       "#sk-container-id-1 div.sk-toggleable__content.fitted {\n",
       "  /* fitted */\n",
       "  background-color: var(--sklearn-color-fitted-level-0);\n",
       "}\n",
       "\n",
       "#sk-container-id-1 div.sk-toggleable__content pre {\n",
       "  margin: 0.2em;\n",
       "  border-radius: 0.25em;\n",
       "  color: var(--sklearn-color-text);\n",
       "  /* unfitted */\n",
       "  background-color: var(--sklearn-color-unfitted-level-0);\n",
       "}\n",
       "\n",
       "#sk-container-id-1 div.sk-toggleable__content.fitted pre {\n",
       "  /* unfitted */\n",
       "  background-color: var(--sklearn-color-fitted-level-0);\n",
       "}\n",
       "\n",
       "#sk-container-id-1 input.sk-toggleable__control:checked~div.sk-toggleable__content {\n",
       "  /* Expand drop-down */\n",
       "  max-height: 200px;\n",
       "  max-width: 100%;\n",
       "  overflow: auto;\n",
       "}\n",
       "\n",
       "#sk-container-id-1 input.sk-toggleable__control:checked~label.sk-toggleable__label-arrow:before {\n",
       "  content: \"▾\";\n",
       "}\n",
       "\n",
       "/* Pipeline/ColumnTransformer-specific style */\n",
       "\n",
       "#sk-container-id-1 div.sk-label input.sk-toggleable__control:checked~label.sk-toggleable__label {\n",
       "  color: var(--sklearn-color-text);\n",
       "  background-color: var(--sklearn-color-unfitted-level-2);\n",
       "}\n",
       "\n",
       "#sk-container-id-1 div.sk-label.fitted input.sk-toggleable__control:checked~label.sk-toggleable__label {\n",
       "  background-color: var(--sklearn-color-fitted-level-2);\n",
       "}\n",
       "\n",
       "/* Estimator-specific style */\n",
       "\n",
       "/* Colorize estimator box */\n",
       "#sk-container-id-1 div.sk-estimator input.sk-toggleable__control:checked~label.sk-toggleable__label {\n",
       "  /* unfitted */\n",
       "  background-color: var(--sklearn-color-unfitted-level-2);\n",
       "}\n",
       "\n",
       "#sk-container-id-1 div.sk-estimator.fitted input.sk-toggleable__control:checked~label.sk-toggleable__label {\n",
       "  /* fitted */\n",
       "  background-color: var(--sklearn-color-fitted-level-2);\n",
       "}\n",
       "\n",
       "#sk-container-id-1 div.sk-label label.sk-toggleable__label,\n",
       "#sk-container-id-1 div.sk-label label {\n",
       "  /* The background is the default theme color */\n",
       "  color: var(--sklearn-color-text-on-default-background);\n",
       "}\n",
       "\n",
       "/* On hover, darken the color of the background */\n",
       "#sk-container-id-1 div.sk-label:hover label.sk-toggleable__label {\n",
       "  color: var(--sklearn-color-text);\n",
       "  background-color: var(--sklearn-color-unfitted-level-2);\n",
       "}\n",
       "\n",
       "/* Label box, darken color on hover, fitted */\n",
       "#sk-container-id-1 div.sk-label.fitted:hover label.sk-toggleable__label.fitted {\n",
       "  color: var(--sklearn-color-text);\n",
       "  background-color: var(--sklearn-color-fitted-level-2);\n",
       "}\n",
       "\n",
       "/* Estimator label */\n",
       "\n",
       "#sk-container-id-1 div.sk-label label {\n",
       "  font-family: monospace;\n",
       "  font-weight: bold;\n",
       "  display: inline-block;\n",
       "  line-height: 1.2em;\n",
       "}\n",
       "\n",
       "#sk-container-id-1 div.sk-label-container {\n",
       "  text-align: center;\n",
       "}\n",
       "\n",
       "/* Estimator-specific */\n",
       "#sk-container-id-1 div.sk-estimator {\n",
       "  font-family: monospace;\n",
       "  border: 1px dotted var(--sklearn-color-border-box);\n",
       "  border-radius: 0.25em;\n",
       "  box-sizing: border-box;\n",
       "  margin-bottom: 0.5em;\n",
       "  /* unfitted */\n",
       "  background-color: var(--sklearn-color-unfitted-level-0);\n",
       "}\n",
       "\n",
       "#sk-container-id-1 div.sk-estimator.fitted {\n",
       "  /* fitted */\n",
       "  background-color: var(--sklearn-color-fitted-level-0);\n",
       "}\n",
       "\n",
       "/* on hover */\n",
       "#sk-container-id-1 div.sk-estimator:hover {\n",
       "  /* unfitted */\n",
       "  background-color: var(--sklearn-color-unfitted-level-2);\n",
       "}\n",
       "\n",
       "#sk-container-id-1 div.sk-estimator.fitted:hover {\n",
       "  /* fitted */\n",
       "  background-color: var(--sklearn-color-fitted-level-2);\n",
       "}\n",
       "\n",
       "/* Specification for estimator info (e.g. \"i\" and \"?\") */\n",
       "\n",
       "/* Common style for \"i\" and \"?\" */\n",
       "\n",
       ".sk-estimator-doc-link,\n",
       "a:link.sk-estimator-doc-link,\n",
       "a:visited.sk-estimator-doc-link {\n",
       "  float: right;\n",
       "  font-size: smaller;\n",
       "  line-height: 1em;\n",
       "  font-family: monospace;\n",
       "  background-color: var(--sklearn-color-background);\n",
       "  border-radius: 1em;\n",
       "  height: 1em;\n",
       "  width: 1em;\n",
       "  text-decoration: none !important;\n",
       "  margin-left: 1ex;\n",
       "  /* unfitted */\n",
       "  border: var(--sklearn-color-unfitted-level-1) 1pt solid;\n",
       "  color: var(--sklearn-color-unfitted-level-1);\n",
       "}\n",
       "\n",
       ".sk-estimator-doc-link.fitted,\n",
       "a:link.sk-estimator-doc-link.fitted,\n",
       "a:visited.sk-estimator-doc-link.fitted {\n",
       "  /* fitted */\n",
       "  border: var(--sklearn-color-fitted-level-1) 1pt solid;\n",
       "  color: var(--sklearn-color-fitted-level-1);\n",
       "}\n",
       "\n",
       "/* On hover */\n",
       "div.sk-estimator:hover .sk-estimator-doc-link:hover,\n",
       ".sk-estimator-doc-link:hover,\n",
       "div.sk-label-container:hover .sk-estimator-doc-link:hover,\n",
       ".sk-estimator-doc-link:hover {\n",
       "  /* unfitted */\n",
       "  background-color: var(--sklearn-color-unfitted-level-3);\n",
       "  color: var(--sklearn-color-background);\n",
       "  text-decoration: none;\n",
       "}\n",
       "\n",
       "div.sk-estimator.fitted:hover .sk-estimator-doc-link.fitted:hover,\n",
       ".sk-estimator-doc-link.fitted:hover,\n",
       "div.sk-label-container:hover .sk-estimator-doc-link.fitted:hover,\n",
       ".sk-estimator-doc-link.fitted:hover {\n",
       "  /* fitted */\n",
       "  background-color: var(--sklearn-color-fitted-level-3);\n",
       "  color: var(--sklearn-color-background);\n",
       "  text-decoration: none;\n",
       "}\n",
       "\n",
       "/* Span, style for the box shown on hovering the info icon */\n",
       ".sk-estimator-doc-link span {\n",
       "  display: none;\n",
       "  z-index: 9999;\n",
       "  position: relative;\n",
       "  font-weight: normal;\n",
       "  right: .2ex;\n",
       "  padding: .5ex;\n",
       "  margin: .5ex;\n",
       "  width: min-content;\n",
       "  min-width: 20ex;\n",
       "  max-width: 50ex;\n",
       "  color: var(--sklearn-color-text);\n",
       "  box-shadow: 2pt 2pt 4pt #999;\n",
       "  /* unfitted */\n",
       "  background: var(--sklearn-color-unfitted-level-0);\n",
       "  border: .5pt solid var(--sklearn-color-unfitted-level-3);\n",
       "}\n",
       "\n",
       ".sk-estimator-doc-link.fitted span {\n",
       "  /* fitted */\n",
       "  background: var(--sklearn-color-fitted-level-0);\n",
       "  border: var(--sklearn-color-fitted-level-3);\n",
       "}\n",
       "\n",
       ".sk-estimator-doc-link:hover span {\n",
       "  display: block;\n",
       "}\n",
       "\n",
       "/* \"?\"-specific style due to the `<a>` HTML tag */\n",
       "\n",
       "#sk-container-id-1 a.estimator_doc_link {\n",
       "  float: right;\n",
       "  font-size: 1rem;\n",
       "  line-height: 1em;\n",
       "  font-family: monospace;\n",
       "  background-color: var(--sklearn-color-background);\n",
       "  border-radius: 1rem;\n",
       "  height: 1rem;\n",
       "  width: 1rem;\n",
       "  text-decoration: none;\n",
       "  /* unfitted */\n",
       "  color: var(--sklearn-color-unfitted-level-1);\n",
       "  border: var(--sklearn-color-unfitted-level-1) 1pt solid;\n",
       "}\n",
       "\n",
       "#sk-container-id-1 a.estimator_doc_link.fitted {\n",
       "  /* fitted */\n",
       "  border: var(--sklearn-color-fitted-level-1) 1pt solid;\n",
       "  color: var(--sklearn-color-fitted-level-1);\n",
       "}\n",
       "\n",
       "/* On hover */\n",
       "#sk-container-id-1 a.estimator_doc_link:hover {\n",
       "  /* unfitted */\n",
       "  background-color: var(--sklearn-color-unfitted-level-3);\n",
       "  color: var(--sklearn-color-background);\n",
       "  text-decoration: none;\n",
       "}\n",
       "\n",
       "#sk-container-id-1 a.estimator_doc_link.fitted:hover {\n",
       "  /* fitted */\n",
       "  background-color: var(--sklearn-color-fitted-level-3);\n",
       "}\n",
       "</style><div id=\"sk-container-id-1\" class=\"sk-top-container\"><div class=\"sk-text-repr-fallback\"><pre>XGBClassifier(base_score=None, booster=None, callbacks=None,\n",
       "              colsample_bylevel=None, colsample_bynode=0.3670224921929689,\n",
       "              colsample_bytree=None, device=None, early_stopping_rounds=None,\n",
       "              enable_categorical=False,\n",
       "              eval_metric=&lt;function custom_f1_score at 0x7f598ec70400&gt;,\n",
       "              feature_types=None, gamma=None, grow_policy=None,\n",
       "              importance_type=None, interaction_constraints=None,\n",
       "              learning_rate=0.06796538231721945, max_bin=None,\n",
       "              max_cat_threshold=None, max_cat_to_onehot=None,\n",
       "              max_delta_step=None, max_depth=19, max_leaves=None,\n",
       "              min_child_weight=1, missing=nan, monotone_constraints=None,\n",
       "              multi_strategy=None, n_estimators=58, n_jobs=None,\n",
       "              num_parallel_tree=None, objective=&#x27;multi:softprob&#x27;, ...)</pre><b>In a Jupyter environment, please rerun this cell to show the HTML representation or trust the notebook. <br />On GitHub, the HTML representation is unable to render, please try loading this page with nbviewer.org.</b></div><div class=\"sk-container\" hidden><div class=\"sk-item\"><div class=\"sk-estimator fitted sk-toggleable\"><input class=\"sk-toggleable__control sk-hidden--visually\" id=\"sk-estimator-id-1\" type=\"checkbox\" checked><label for=\"sk-estimator-id-1\" class=\"sk-toggleable__label fitted sk-toggleable__label-arrow fitted\">&nbsp;XGBClassifier<span class=\"sk-estimator-doc-link fitted\">i<span>Fitted</span></span></label><div class=\"sk-toggleable__content fitted\"><pre>XGBClassifier(base_score=None, booster=None, callbacks=None,\n",
       "              colsample_bylevel=None, colsample_bynode=0.3670224921929689,\n",
       "              colsample_bytree=None, device=None, early_stopping_rounds=None,\n",
       "              enable_categorical=False,\n",
       "              eval_metric=&lt;function custom_f1_score at 0x7f598ec70400&gt;,\n",
       "              feature_types=None, gamma=None, grow_policy=None,\n",
       "              importance_type=None, interaction_constraints=None,\n",
       "              learning_rate=0.06796538231721945, max_bin=None,\n",
       "              max_cat_threshold=None, max_cat_to_onehot=None,\n",
       "              max_delta_step=None, max_depth=19, max_leaves=None,\n",
       "              min_child_weight=1, missing=nan, monotone_constraints=None,\n",
       "              multi_strategy=None, n_estimators=58, n_jobs=None,\n",
       "              num_parallel_tree=None, objective=&#x27;multi:softprob&#x27;, ...)</pre></div> </div></div></div></div>"
      ],
      "text/plain": [
       "XGBClassifier(base_score=None, booster=None, callbacks=None,\n",
       "              colsample_bylevel=None, colsample_bynode=0.3670224921929689,\n",
       "              colsample_bytree=None, device=None, early_stopping_rounds=None,\n",
       "              enable_categorical=False,\n",
       "              eval_metric=<function custom_f1_score at 0x7f598ec70400>,\n",
       "              feature_types=None, gamma=None, grow_policy=None,\n",
       "              importance_type=None, interaction_constraints=None,\n",
       "              learning_rate=0.06796538231721945, max_bin=None,\n",
       "              max_cat_threshold=None, max_cat_to_onehot=None,\n",
       "              max_delta_step=None, max_depth=19, max_leaves=None,\n",
       "              min_child_weight=1, missing=nan, monotone_constraints=None,\n",
       "              multi_strategy=None, n_estimators=58, n_jobs=None,\n",
       "              num_parallel_tree=None, objective='multi:softprob', ...)"
      ]
     },
     "execution_count": 21,
     "metadata": {},
     "output_type": "execute_result"
    }
   ],
   "source": [
    "n_estimators = int(study.best_trial.user_attrs['best_iteration']*1.2)\n",
    "xgb = xgboost.XGBClassifier(\n",
    "        eval_metric=eval_metric,\n",
    "        n_estimators=n_estimators,\n",
    "        **study.best_trial.params\n",
    "    )\n",
    "xgb.fit(\n",
    "    ssp.vstack((X_train, X_val)), \n",
    "    np.concatenate((y_train_enc, y_val_enc)),\n",
    "    verbose=1,\n",
    ")"
   ]
  },
  {
   "cell_type": "code",
   "execution_count": 22,
   "id": "98397992",
   "metadata": {
    "execution": {
     "iopub.execute_input": "2025-05-15T16:15:46.672823Z",
     "iopub.status.busy": "2025-05-15T16:15:46.672616Z",
     "iopub.status.idle": "2025-05-15T16:15:46.694285Z",
     "shell.execute_reply": "2025-05-15T16:15:46.693967Z"
    },
    "papermill": {
     "duration": 0.037313,
     "end_time": "2025-05-15T16:15:46.695132",
     "exception": false,
     "start_time": "2025-05-15T16:15:46.657819",
     "status": "completed"
    },
    "tags": []
   },
   "outputs": [
    {
     "data": {
      "text/plain": [
       "['/scratch_isilon/groups/singlecell/shared/projects/Inflammation-PBMCs-Atlas/03_downstream_analysis/08_gene_importance/xgboost_external_validation/xgboost_TopN_genes/results_20/best_model/Plasma_6_3_xgb.json']"
      ]
     },
     "execution_count": 22,
     "metadata": {},
     "output_type": "execute_result"
    }
   ],
   "source": [
    "out_dir = here(f'03_downstream_analysis/08_gene_importance/xgboost_external_validation/xgboost_TopN_genes/results_{N_GENES}/best_model')\n",
    "\n",
    "if not os.path.exists(out_dir):\n",
    "    os.makedirs(out_dir)\n",
    "    \n",
    "joblib.dump(xgb, os.path.join(out_dir, f'{CELL_TYPE}_{SEED}_{TEST_SPLIT_IDX}_xgb.json'))"
   ]
  },
  {
   "cell_type": "code",
   "execution_count": 23,
   "id": "0f3e4faf",
   "metadata": {
    "execution": {
     "iopub.execute_input": "2025-05-15T16:15:46.718772Z",
     "iopub.status.busy": "2025-05-15T16:15:46.718556Z",
     "iopub.status.idle": "2025-05-15T16:15:46.724079Z",
     "shell.execute_reply": "2025-05-15T16:15:46.723760Z"
    },
    "papermill": {
     "duration": 0.020997,
     "end_time": "2025-05-15T16:15:46.729058",
     "exception": false,
     "start_time": "2025-05-15T16:15:46.708061",
     "status": "completed"
    },
    "tags": []
   },
   "outputs": [],
   "source": [
    "df_pred_test = pd.DataFrame(dict(\n",
    "    cell_id=train_adata.obs.iloc[test_idxs].index.values,\n",
    "    y_true=y_test, \n",
    "    y_true_code=y_test_enc, \n",
    "    y_pred=xgb.predict(X_test))).set_index('cell_id')"
   ]
  },
  {
   "cell_type": "code",
   "execution_count": 24,
   "id": "0ca3009e",
   "metadata": {
    "execution": {
     "iopub.execute_input": "2025-05-15T16:15:46.754501Z",
     "iopub.status.busy": "2025-05-15T16:15:46.754251Z",
     "iopub.status.idle": "2025-05-15T16:15:46.765987Z",
     "shell.execute_reply": "2025-05-15T16:15:46.765676Z"
    },
    "papermill": {
     "duration": 0.02908,
     "end_time": "2025-05-15T16:15:46.766885",
     "exception": false,
     "start_time": "2025-05-15T16:15:46.737805",
     "status": "completed"
    },
    "tags": []
   },
   "outputs": [],
   "source": [
    "out_dir = here(f'03_downstream_analysis/08_gene_importance/xgboost_external_validation/xgboost_TopN_genes/results_{N_GENES}/predictions')\n",
    "\n",
    "if not os.path.exists(out_dir):\n",
    "    os.makedirs(out_dir)\n",
    "    \n",
    "df_pred_test.to_csv(os.path.join(out_dir, f'{CELL_TYPE}_{SEED}_{TEST_SPLIT_IDX}_pred_test.zip'))"
   ]
  },
  {
   "cell_type": "code",
   "execution_count": 25,
   "id": "ddf34846",
   "metadata": {
    "execution": {
     "iopub.execute_input": "2025-05-15T16:15:46.785179Z",
     "iopub.status.busy": "2025-05-15T16:15:46.784914Z",
     "iopub.status.idle": "2025-05-15T16:15:46.790116Z",
     "shell.execute_reply": "2025-05-15T16:15:46.789803Z"
    },
    "papermill": {
     "duration": 0.015285,
     "end_time": "2025-05-15T16:15:46.790918",
     "exception": false,
     "start_time": "2025-05-15T16:15:46.775633",
     "status": "completed"
    },
    "tags": []
   },
   "outputs": [],
   "source": [
    "metrics_dict = dict(\n",
    "    BAS=balanced_accuracy_score(y_true=df_pred_test.y_true_code, y_pred=df_pred_test.y_pred), WF1=f1_score(y_true=df_pred_test.y_true_code, y_pred=df_pred_test.y_pred,average='weighted'))"
   ]
  },
  {
   "cell_type": "code",
   "execution_count": 26,
   "id": "2c80df41",
   "metadata": {
    "execution": {
     "iopub.execute_input": "2025-05-15T16:15:46.834220Z",
     "iopub.status.busy": "2025-05-15T16:15:46.833966Z",
     "iopub.status.idle": "2025-05-15T16:15:46.836694Z",
     "shell.execute_reply": "2025-05-15T16:15:46.836407Z"
    },
    "papermill": {
     "duration": 0.037582,
     "end_time": "2025-05-15T16:15:46.837505",
     "exception": false,
     "start_time": "2025-05-15T16:15:46.799923",
     "status": "completed"
    },
    "tags": []
   },
   "outputs": [
    {
     "data": {
      "text/plain": [
       "{'BAS': 0.4091533466533467, 'WF1': 0.6617353736844878}"
      ]
     },
     "execution_count": 26,
     "metadata": {},
     "output_type": "execute_result"
    }
   ],
   "source": [
    "metrics_dict"
   ]
  },
  {
   "cell_type": "code",
   "execution_count": 27,
   "id": "1b1e94f3",
   "metadata": {
    "execution": {
     "iopub.execute_input": "2025-05-15T16:15:46.856391Z",
     "iopub.status.busy": "2025-05-15T16:15:46.856052Z",
     "iopub.status.idle": "2025-05-15T16:15:46.863714Z",
     "shell.execute_reply": "2025-05-15T16:15:46.863424Z"
    },
    "papermill": {
     "duration": 0.018213,
     "end_time": "2025-05-15T16:15:46.864539",
     "exception": false,
     "start_time": "2025-05-15T16:15:46.846326",
     "status": "completed"
    },
    "tags": []
   },
   "outputs": [
    {
     "data": {
      "text/html": [
       "<div>\n",
       "<style scoped>\n",
       "    .dataframe tbody tr th:only-of-type {\n",
       "        vertical-align: middle;\n",
       "    }\n",
       "\n",
       "    .dataframe tbody tr th {\n",
       "        vertical-align: top;\n",
       "    }\n",
       "\n",
       "    .dataframe thead th {\n",
       "        text-align: right;\n",
       "    }\n",
       "</style>\n",
       "<table border=\"1\" class=\"dataframe\">\n",
       "  <thead>\n",
       "    <tr style=\"text-align: right;\">\n",
       "      <th></th>\n",
       "      <th>BAS</th>\n",
       "      <th>WF1</th>\n",
       "      <th>split_idx</th>\n",
       "      <th>gene_set_seed</th>\n",
       "      <th>cell_type</th>\n",
       "    </tr>\n",
       "  </thead>\n",
       "  <tbody>\n",
       "    <tr>\n",
       "      <th>0</th>\n",
       "      <td>0.409153</td>\n",
       "      <td>0.661735</td>\n",
       "      <td>3</td>\n",
       "      <td>6</td>\n",
       "      <td>Plasma</td>\n",
       "    </tr>\n",
       "  </tbody>\n",
       "</table>\n",
       "</div>"
      ],
      "text/plain": [
       "        BAS       WF1  split_idx  gene_set_seed cell_type\n",
       "0  0.409153  0.661735          3              6    Plasma"
      ]
     },
     "execution_count": 27,
     "metadata": {},
     "output_type": "execute_result"
    }
   ],
   "source": [
    "metrics_df = pd.DataFrame.from_dict([metrics_dict]).assign(split_idx=TEST_SPLIT_IDX, gene_set_seed=SEED, cell_type=CELL_TYPE)\n",
    "metrics_df"
   ]
  },
  {
   "cell_type": "code",
   "execution_count": 28,
   "id": "f49d16fd",
   "metadata": {
    "execution": {
     "iopub.execute_input": "2025-05-15T16:15:46.883034Z",
     "iopub.status.busy": "2025-05-15T16:15:46.882752Z",
     "iopub.status.idle": "2025-05-15T16:15:46.890048Z",
     "shell.execute_reply": "2025-05-15T16:15:46.889742Z"
    },
    "papermill": {
     "duration": 0.017411,
     "end_time": "2025-05-15T16:15:46.890858",
     "exception": false,
     "start_time": "2025-05-15T16:15:46.873447",
     "status": "completed"
    },
    "tags": []
   },
   "outputs": [],
   "source": [
    "out_dir = here(f'03_downstream_analysis/08_gene_importance/xgboost_external_validation/xgboost_TopN_genes/results_{N_GENES}/metrics')\n",
    "\n",
    "if not os.path.exists(out_dir):\n",
    "    os.makedirs(out_dir)\n",
    "    \n",
    "metrics_df.to_csv(os.path.join(out_dir, f'{CELL_TYPE}_{SEED}_{TEST_SPLIT_IDX}_metrics.zip'))"
   ]
  }
 ],
 "metadata": {
  "kernelspec": {
   "display_name": "Python 3 (ipykernel)",
   "language": "python",
   "name": "python3"
  },
  "language_info": {
   "codemirror_mode": {
    "name": "ipython",
    "version": 3
   },
   "file_extension": ".py",
   "mimetype": "text/x-python",
   "name": "python",
   "nbconvert_exporter": "python",
   "pygments_lexer": "ipython3",
   "version": "3.12.5"
  },
  "papermill": {
   "default_parameters": {},
   "duration": 16.877369,
   "end_time": "2025-05-15T16:15:47.514583",
   "environment_variables": {},
   "exception": null,
   "input_path": "02_xgboost_fitting_external_20genes.ipynb",
   "output_path": "results_20/executed_notebooks/xgboost_fitting_external_CT_Plasma_GS_6_seed3.ipynb",
   "parameters": {
    "CELL_TYPE": "Plasma",
    "SEED": 6,
    "TEST_SPLIT_IDX": 3
   },
   "start_time": "2025-05-15T16:15:30.637214",
   "version": "2.6.0"
  }
 },
 "nbformat": 4,
 "nbformat_minor": 5
}