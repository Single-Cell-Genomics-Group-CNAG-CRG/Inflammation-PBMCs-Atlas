{
 "cells": [
  {
   "cell_type": "code",
   "execution_count": 1,
   "id": "5e0cddf6",
   "metadata": {
    "editable": true,
    "execution": {
     "iopub.execute_input": "2025-05-15T16:15:10.509292Z",
     "iopub.status.busy": "2025-05-15T16:15:10.509076Z",
     "iopub.status.idle": "2025-05-15T16:15:10.512223Z",
     "shell.execute_reply": "2025-05-15T16:15:10.511848Z"
    },
    "papermill": {
     "duration": 0.01216,
     "end_time": "2025-05-15T16:15:10.513309",
     "exception": false,
     "start_time": "2025-05-15T16:15:10.501149",
     "status": "completed"
    },
    "slideshow": {
     "slide_type": ""
    },
    "tags": [
     "parameters"
    ]
   },
   "outputs": [],
   "source": [
    "CELL_TYPE = 'pDC'\n",
    "N_GENES: int = 20\n",
    "SEED = 'shap_studyID' #'disease_NOstudy' 'study_NOdisease' or 'int' or 'shap_studyID'\n",
    "TEST_SPLIT_IDX: int = 1 #[0,4]"
   ]
  },
  {
   "cell_type": "code",
   "execution_count": 2,
   "id": "0f2321a4",
   "metadata": {
    "execution": {
     "iopub.execute_input": "2025-05-15T16:15:10.526069Z",
     "iopub.status.busy": "2025-05-15T16:15:10.525724Z",
     "iopub.status.idle": "2025-05-15T16:15:10.528108Z",
     "shell.execute_reply": "2025-05-15T16:15:10.527741Z"
    },
    "papermill": {
     "duration": 0.00993,
     "end_time": "2025-05-15T16:15:10.529191",
     "exception": false,
     "start_time": "2025-05-15T16:15:10.519261",
     "status": "completed"
    },
    "tags": [
     "injected-parameters"
    ]
   },
   "outputs": [],
   "source": [
    "# Parameters\n",
    "CELL_TYPE = \"DC\"\n",
    "SEED = 13\n",
    "TEST_SPLIT_IDX = 4\n"
   ]
  },
  {
   "cell_type": "code",
   "execution_count": 3,
   "id": "2ad3aae0",
   "metadata": {
    "execution": {
     "iopub.execute_input": "2025-05-15T16:15:10.541984Z",
     "iopub.status.busy": "2025-05-15T16:15:10.541522Z",
     "iopub.status.idle": "2025-05-15T16:15:10.543850Z",
     "shell.execute_reply": "2025-05-15T16:15:10.543496Z"
    },
    "papermill": {
     "duration": 0.009669,
     "end_time": "2025-05-15T16:15:10.544868",
     "exception": false,
     "start_time": "2025-05-15T16:15:10.535199",
     "status": "completed"
    },
    "tags": []
   },
   "outputs": [],
   "source": [
    "N_SPLITS: int = 5\n",
    "N_TRIALS: int = 50"
   ]
  },
  {
   "cell_type": "code",
   "execution_count": 4,
   "id": "889209db",
   "metadata": {
    "execution": {
     "iopub.execute_input": "2025-05-15T16:15:10.557922Z",
     "iopub.status.busy": "2025-05-15T16:15:10.557621Z",
     "iopub.status.idle": "2025-05-15T16:15:12.108588Z",
     "shell.execute_reply": "2025-05-15T16:15:12.108063Z"
    },
    "papermill": {
     "duration": 1.559467,
     "end_time": "2025-05-15T16:15:12.110047",
     "exception": false,
     "start_time": "2025-05-15T16:15:10.550580",
     "status": "completed"
    },
    "tags": []
   },
   "outputs": [],
   "source": [
    "import os\n",
    "import sys\n",
    "from pyprojroot.here import here\n",
    "import pandas as pd\n",
    "import anndata as ad\n",
    "import numpy as np\n",
    "import math\n",
    "from sklearn.model_selection import StratifiedGroupKFold\n",
    "from sklearn.preprocessing import LabelEncoder\n",
    "from sklearn.metrics import f1_score\n",
    "import matplotlib.pyplot as plt\n",
    "import seaborn as sns\n",
    "from itertools import product\n",
    "from sklearn.metrics import balanced_accuracy_score, f1_score\n",
    "import optuna\n",
    "\n",
    "import joblib\n",
    "import pickle\n",
    "import datetime\n",
    "\n",
    "import collections\n",
    "\n",
    "import xgboost\n",
    "from sklearn.preprocessing import LabelEncoder\n",
    "\n",
    "import scipy.sparse as ssp\n",
    "import joblib\n",
    "\n",
    "from dotenv import load_dotenv"
   ]
  },
  {
   "cell_type": "code",
   "execution_count": 5,
   "id": "a013d10d",
   "metadata": {
    "execution": {
     "iopub.execute_input": "2025-05-15T16:15:12.123290Z",
     "iopub.status.busy": "2025-05-15T16:15:12.122924Z",
     "iopub.status.idle": "2025-05-15T16:15:12.129326Z",
     "shell.execute_reply": "2025-05-15T16:15:12.128762Z"
    },
    "papermill": {
     "duration": 0.013867,
     "end_time": "2025-05-15T16:15:12.130290",
     "exception": false,
     "start_time": "2025-05-15T16:15:12.116423",
     "status": "completed"
    },
    "tags": []
   },
   "outputs": [
    {
     "data": {
      "text/plain": [
       "True"
      ]
     },
     "execution_count": 5,
     "metadata": {},
     "output_type": "execute_result"
    }
   ],
   "source": [
    "load_dotenv()"
   ]
  },
  {
   "cell_type": "markdown",
   "id": "54dd95b6",
   "metadata": {
    "papermill": {
     "duration": 0.005814,
     "end_time": "2025-05-15T16:15:12.142098",
     "exception": false,
     "start_time": "2025-05-15T16:15:12.136284",
     "status": "completed"
    },
    "tags": []
   },
   "source": [
    "# LOAD DATASET"
   ]
  },
  {
   "cell_type": "code",
   "execution_count": 6,
   "id": "136baf36",
   "metadata": {
    "execution": {
     "iopub.execute_input": "2025-05-15T16:15:12.153878Z",
     "iopub.status.busy": "2025-05-15T16:15:12.153530Z",
     "iopub.status.idle": "2025-05-15T16:15:12.266778Z",
     "shell.execute_reply": "2025-05-15T16:15:12.266249Z"
    },
    "papermill": {
     "duration": 0.120625,
     "end_time": "2025-05-15T16:15:12.268278",
     "exception": false,
     "start_time": "2025-05-15T16:15:12.147653",
     "status": "completed"
    },
    "tags": []
   },
   "outputs": [],
   "source": [
    "train_adata = ad.read_h5ad(\n",
    "    here(f'03_downstream_analysis/08_gene_importance/xgboost_external_validation/xgboost_TopN_genes/data_cellTypes/EXTERNAL_{CELL_TYPE}.filtered.log1p.h5ad')\n",
    ")"
   ]
  },
  {
   "cell_type": "code",
   "execution_count": 7,
   "id": "412e386d",
   "metadata": {
    "execution": {
     "iopub.execute_input": "2025-05-15T16:15:12.282184Z",
     "iopub.status.busy": "2025-05-15T16:15:12.281963Z",
     "iopub.status.idle": "2025-05-15T16:15:12.294300Z",
     "shell.execute_reply": "2025-05-15T16:15:12.293917Z"
    },
    "papermill": {
     "duration": 0.02007,
     "end_time": "2025-05-15T16:15:12.295300",
     "exception": false,
     "start_time": "2025-05-15T16:15:12.275230",
     "status": "completed"
    },
    "tags": []
   },
   "outputs": [
    {
     "name": "stdout",
     "output_type": "stream",
     "text": [
      "['ENSG00000170017' 'ENSG00000169554' 'ENSG00000198668' 'ENSG00000140264'\n",
      " 'ENSG00000134352' 'ENSG00000169564' 'ENSG00000116191' 'ENSG00000169403'\n",
      " 'ENSG00000185650' 'ENSG00000100911' 'ENSG00000183696' 'ENSG00000141505'\n",
      " 'ENSG00000177721' 'ENSG00000197746' 'ENSG00000066294' 'ENSG00000164136'\n",
      " 'ENSG00000100368' 'ENSG00000160075' 'ENSG00000214212' 'ENSG00000155368'\n",
      " 'ENSG00000196154' 'ENSG00000170581' 'ENSG00000166927' 'ENSG00000158769'\n",
      " 'ENSG00000101474' 'ENSG00000145675' 'ENSG00000110077' 'ENSG00000006327'\n",
      " 'ENSG00000131042' 'ENSG00000124731' 'ENSG00000162704' 'ENSG00000158517'\n",
      " 'ENSG00000168610' 'ENSG00000106565' 'ENSG00000153898' 'ENSG00000137100'\n",
      " 'ENSG00000168394' 'ENSG00000196961' 'ENSG00000185950' 'ENSG00000163191'\n",
      " 'ENSG00000175482' 'ENSG00000110848' 'ENSG00000197061' 'ENSG00000089127'\n",
      " 'ENSG00000137965' 'ENSG00000133639' 'ENSG00000154589' 'ENSG00000111335'\n",
      " 'ENSG00000132432' 'ENSG00000204642' 'ENSG00000042980' 'ENSG00000138674'\n",
      " 'ENSG00000131018' 'ENSG00000132912' 'ENSG00000113916' 'ENSG00000160791'\n",
      " 'ENSG00000120738' 'ENSG00000118508' 'ENSG00000197956' 'ENSG00000197766'\n",
      " 'ENSG00000141447' 'ENSG00000019169' 'ENSG00000117318' 'ENSG00000165527'\n",
      " 'ENSG00000168461' 'ENSG00000121552' 'ENSG00000163221' 'ENSG00000163931'\n",
      " 'ENSG00000108622' 'ENSG00000183172' 'ENSG00000123685' 'ENSG00000140749'\n",
      " 'ENSG00000075426' 'ENSG00000198223' 'ENSG00000157445' 'ENSG00000135968'\n",
      " 'ENSG00000168685' 'ENSG00000179344' 'ENSG00000092820' 'ENSG00000118260'\n",
      " 'ENSG00000177556' 'ENSG00000089737' 'ENSG00000166747' 'ENSG00000242574'\n",
      " 'ENSG00000162772' 'ENSG00000077150' 'ENSG00000142669' 'ENSG00000119922'\n",
      " 'ENSG00000106799' 'ENSG00000160712' 'ENSG00000135046' 'ENSG00000164307'\n",
      " 'ENSG00000164104' 'ENSG00000163659' 'ENSG00000145912' 'ENSG00000113070'\n",
      " 'ENSG00000002586' 'ENSG00000166825' 'ENSG00000096996' 'ENSG00000163220'\n",
      " 'ENSG00000090339' 'ENSG00000138448' 'ENSG00000105397' 'ENSG00000126709'\n",
      " 'ENSG00000223865' 'ENSG00000115738' 'ENSG00000231389' 'ENSG00000143546'\n",
      " 'ENSG00000160223' 'ENSG00000162711' 'ENSG00000171051' 'ENSG00000158869'\n",
      " 'ENSG00000182117' 'ENSG00000068831' 'ENSG00000121807' 'ENSG00000196126'\n",
      " 'ENSG00000164543' 'ENSG00000144746']\n"
     ]
    }
   ],
   "source": [
    "if SEED != 'all':\n",
    "    gene_subset = np.load(here(f'03_downstream_analysis/08_gene_importance/xgboost_external_validation/shap_gene_selection/gene_subsets_{N_GENES}/{CELL_TYPE}_{SEED}.npy'), allow_pickle=True)\n",
    "    train_adata = train_adata[:,gene_subset]\n",
    "    print(gene_subset)\n",
    "elif SEED == 'all':\n",
    "    print('Using all genes')\n",
    "else:\n",
    "    raise ValueError()"
   ]
  },
  {
   "cell_type": "code",
   "execution_count": 8,
   "id": "e6615e59",
   "metadata": {
    "execution": {
     "iopub.execute_input": "2025-05-15T16:15:12.307993Z",
     "iopub.status.busy": "2025-05-15T16:15:12.307509Z",
     "iopub.status.idle": "2025-05-15T16:15:12.310850Z",
     "shell.execute_reply": "2025-05-15T16:15:12.310492Z"
    },
    "papermill": {
     "duration": 0.010631,
     "end_time": "2025-05-15T16:15:12.311858",
     "exception": false,
     "start_time": "2025-05-15T16:15:12.301227",
     "status": "completed"
    },
    "tags": []
   },
   "outputs": [
    {
     "data": {
      "text/plain": [
       "(5232, 118)"
      ]
     },
     "execution_count": 8,
     "metadata": {},
     "output_type": "execute_result"
    }
   ],
   "source": [
    "train_adata.shape"
   ]
  },
  {
   "cell_type": "code",
   "execution_count": 9,
   "id": "7e18bc19",
   "metadata": {
    "execution": {
     "iopub.execute_input": "2025-05-15T16:15:12.324303Z",
     "iopub.status.busy": "2025-05-15T16:15:12.324108Z",
     "iopub.status.idle": "2025-05-15T16:15:12.328059Z",
     "shell.execute_reply": "2025-05-15T16:15:12.327701Z"
    },
    "papermill": {
     "duration": 0.011159,
     "end_time": "2025-05-15T16:15:12.329001",
     "exception": false,
     "start_time": "2025-05-15T16:15:12.317842",
     "status": "completed"
    },
    "tags": []
   },
   "outputs": [
    {
     "data": {
      "text/plain": [
       "['RA', 'healthy', 'COVID', 'HIV', 'cirrhosis', 'CD', 'SLE', 'sepsis']\n",
       "Categories (8, object): ['CD', 'COVID', 'HIV', 'RA', 'SLE', 'cirrhosis', 'healthy', 'sepsis']"
      ]
     },
     "execution_count": 9,
     "metadata": {},
     "output_type": "execute_result"
    }
   ],
   "source": [
    "train_adata.obs.disease.unique()"
   ]
  },
  {
   "cell_type": "code",
   "execution_count": 10,
   "id": "435a34fa",
   "metadata": {
    "execution": {
     "iopub.execute_input": "2025-05-15T16:15:12.341505Z",
     "iopub.status.busy": "2025-05-15T16:15:12.341297Z",
     "iopub.status.idle": "2025-05-15T16:15:12.345274Z",
     "shell.execute_reply": "2025-05-15T16:15:12.344920Z"
    },
    "papermill": {
     "duration": 0.011221,
     "end_time": "2025-05-15T16:15:12.346228",
     "exception": false,
     "start_time": "2025-05-15T16:15:12.335007",
     "status": "completed"
    },
    "tags": []
   },
   "outputs": [
    {
     "data": {
      "text/plain": [
       "['SCGT00val_I036021_T0', 'SCGT00val_I036023_T0', 'SCGT00val_I036024_T0', 'SCGT00val_I036019_T0', 'SCGT00val_I0364_T0', ..., '10XGenomics_10XHC2_T0', '10XGenomics_10XHC3_T0', '10XGenomics_10XHC5_T0', '10XGenomics_10XHC7_T0', '10XGenomics_10XHC8_T0']\n",
       "Length: 86\n",
       "Categories (86, object): ['10XGenomics_10XHC1_T0', '10XGenomics_10XHC2_T0', '10XGenomics_10XHC3_T0', '10XGenomics_10XHC4_T0', ..., 'Savage2021_BRISL6_T0', 'Savage2021_BRISL7_T0', 'Savage2021_PIDA_T0', 'Savage2021_PIDB_T0']"
      ]
     },
     "execution_count": 10,
     "metadata": {},
     "output_type": "execute_result"
    }
   ],
   "source": [
    "train_adata.obs.sampleID.unique()"
   ]
  },
  {
   "cell_type": "code",
   "execution_count": 11,
   "id": "e7a2f9d2",
   "metadata": {
    "execution": {
     "iopub.execute_input": "2025-05-15T16:15:12.359977Z",
     "iopub.status.busy": "2025-05-15T16:15:12.359510Z",
     "iopub.status.idle": "2025-05-15T16:15:12.410425Z",
     "shell.execute_reply": "2025-05-15T16:15:12.409977Z"
    },
    "papermill": {
     "duration": 0.058822,
     "end_time": "2025-05-15T16:15:12.411517",
     "exception": false,
     "start_time": "2025-05-15T16:15:12.352695",
     "status": "completed"
    },
    "tags": []
   },
   "outputs": [],
   "source": [
    "all_idxs = np.arange(train_adata.obs.shape[0])\n",
    "left_out_splits = [s[1] for s in StratifiedGroupKFold(n_splits=N_SPLITS).split(all_idxs, train_adata.obs.disease, train_adata.obs.sampleID)]"
   ]
  },
  {
   "cell_type": "code",
   "execution_count": 12,
   "id": "2350bdcb",
   "metadata": {
    "execution": {
     "iopub.execute_input": "2025-05-15T16:15:12.424858Z",
     "iopub.status.busy": "2025-05-15T16:15:12.424640Z",
     "iopub.status.idle": "2025-05-15T16:15:12.428368Z",
     "shell.execute_reply": "2025-05-15T16:15:12.428000Z"
    },
    "papermill": {
     "duration": 0.01156,
     "end_time": "2025-05-15T16:15:12.429472",
     "exception": false,
     "start_time": "2025-05-15T16:15:12.417912",
     "status": "completed"
    },
    "tags": []
   },
   "outputs": [
    {
     "data": {
      "text/plain": [
       "([1, 2, 3], 0, 4)"
      ]
     },
     "execution_count": 12,
     "metadata": {},
     "output_type": "execute_result"
    }
   ],
   "source": [
    "TRAIN_SPLIT_IDXS = [0,1,2,3,4]\n",
    "VAL_SPLIT_IDX = (TEST_SPLIT_IDX + 1) % 5\n",
    "TRAIN_SPLIT_IDXS.remove(TEST_SPLIT_IDX)\n",
    "TRAIN_SPLIT_IDXS.remove(VAL_SPLIT_IDX)\n",
    "TRAIN_SPLIT_IDXS, VAL_SPLIT_IDX, TEST_SPLIT_IDX"
   ]
  },
  {
   "cell_type": "code",
   "execution_count": 13,
   "id": "b5b1e56c",
   "metadata": {
    "execution": {
     "iopub.execute_input": "2025-05-15T16:15:12.443348Z",
     "iopub.status.busy": "2025-05-15T16:15:12.443144Z",
     "iopub.status.idle": "2025-05-15T16:15:12.445753Z",
     "shell.execute_reply": "2025-05-15T16:15:12.445410Z"
    },
    "papermill": {
     "duration": 0.010864,
     "end_time": "2025-05-15T16:15:12.446794",
     "exception": false,
     "start_time": "2025-05-15T16:15:12.435930",
     "status": "completed"
    },
    "tags": []
   },
   "outputs": [],
   "source": [
    "train_idxs = np.concatenate([left_out_splits[idx] for idx in TRAIN_SPLIT_IDXS])\n",
    "val_idxs = left_out_splits[VAL_SPLIT_IDX]\n",
    "test_idxs = left_out_splits[TEST_SPLIT_IDX]"
   ]
  },
  {
   "cell_type": "markdown",
   "id": "4559e0b3",
   "metadata": {
    "papermill": {
     "duration": 0.005986,
     "end_time": "2025-05-15T16:15:12.458758",
     "exception": false,
     "start_time": "2025-05-15T16:15:12.452772",
     "status": "completed"
    },
    "tags": []
   },
   "source": [
    "### SUBSET DATASET INTO TRAIN/TEST/VAL SPLITS"
   ]
  },
  {
   "cell_type": "code",
   "execution_count": 14,
   "id": "ebcfa67a",
   "metadata": {
    "execution": {
     "iopub.execute_input": "2025-05-15T16:15:12.472362Z",
     "iopub.status.busy": "2025-05-15T16:15:12.472168Z",
     "iopub.status.idle": "2025-05-15T16:15:12.503000Z",
     "shell.execute_reply": "2025-05-15T16:15:12.502525Z"
    },
    "papermill": {
     "duration": 0.03862,
     "end_time": "2025-05-15T16:15:12.504074",
     "exception": false,
     "start_time": "2025-05-15T16:15:12.465454",
     "status": "completed"
    },
    "tags": []
   },
   "outputs": [
    {
     "data": {
      "text/plain": [
       "((3186, 118), (1013, 118), (1033, 118))"
      ]
     },
     "execution_count": 14,
     "metadata": {},
     "output_type": "execute_result"
    }
   ],
   "source": [
    "X_train = train_adata.X[train_idxs]\n",
    "X_test = train_adata.X[test_idxs]\n",
    "X_val = train_adata.X[val_idxs]\n",
    "X_train.shape, X_test.shape, X_val.shape"
   ]
  },
  {
   "cell_type": "code",
   "execution_count": 15,
   "id": "d15fd971",
   "metadata": {
    "execution": {
     "iopub.execute_input": "2025-05-15T16:15:12.517978Z",
     "iopub.status.busy": "2025-05-15T16:15:12.517616Z",
     "iopub.status.idle": "2025-05-15T16:15:12.523799Z",
     "shell.execute_reply": "2025-05-15T16:15:12.523293Z"
    },
    "papermill": {
     "duration": 0.01374,
     "end_time": "2025-05-15T16:15:12.524715",
     "exception": false,
     "start_time": "2025-05-15T16:15:12.510975",
     "status": "completed"
    },
    "tags": []
   },
   "outputs": [
    {
     "data": {
      "text/plain": [
       "((3186,), (1013,), (1033,))"
      ]
     },
     "execution_count": 15,
     "metadata": {},
     "output_type": "execute_result"
    }
   ],
   "source": [
    "y_train = train_adata.obs.iloc[train_idxs].disease.values.astype(str)\n",
    "y_test = train_adata.obs.iloc[test_idxs].disease.values.astype(str)\n",
    "y_val = train_adata.obs.iloc[val_idxs].disease.values.astype(str)\n",
    "y_train.shape, y_test.shape, y_val.shape"
   ]
  },
  {
   "cell_type": "code",
   "execution_count": 16,
   "id": "7b83fe28",
   "metadata": {
    "execution": {
     "iopub.execute_input": "2025-05-15T16:15:12.537785Z",
     "iopub.status.busy": "2025-05-15T16:15:12.537244Z",
     "iopub.status.idle": "2025-05-15T16:15:12.541720Z",
     "shell.execute_reply": "2025-05-15T16:15:12.541394Z"
    },
    "papermill": {
     "duration": 0.011908,
     "end_time": "2025-05-15T16:15:12.542630",
     "exception": false,
     "start_time": "2025-05-15T16:15:12.530722",
     "status": "completed"
    },
    "tags": []
   },
   "outputs": [],
   "source": [
    "lenc = LabelEncoder()\n",
    "y_train_enc = lenc.fit_transform(y_train)\n",
    "y_val_enc = lenc.transform(y_val)\n",
    "y_test_enc = lenc.transform(y_test)"
   ]
  },
  {
   "cell_type": "markdown",
   "id": "e535bbe7",
   "metadata": {
    "papermill": {
     "duration": 0.006049,
     "end_time": "2025-05-15T16:15:12.554677",
     "exception": false,
     "start_time": "2025-05-15T16:15:12.548628",
     "status": "completed"
    },
    "tags": []
   },
   "source": [
    "### GENERATE F1 "
   ]
  },
  {
   "cell_type": "code",
   "execution_count": 17,
   "id": "4384e64e",
   "metadata": {
    "execution": {
     "iopub.execute_input": "2025-05-15T16:15:12.568497Z",
     "iopub.status.busy": "2025-05-15T16:15:12.568203Z",
     "iopub.status.idle": "2025-05-15T16:15:12.570565Z",
     "shell.execute_reply": "2025-05-15T16:15:12.570210Z"
    },
    "papermill": {
     "duration": 0.010863,
     "end_time": "2025-05-15T16:15:12.571614",
     "exception": false,
     "start_time": "2025-05-15T16:15:12.560751",
     "status": "completed"
    },
    "tags": []
   },
   "outputs": [],
   "source": [
    "def custom_f1_score(y_true, y_pred):\n",
    "    return -f1_score(y_true, y_pred.argmax(1), average='weighted')"
   ]
  },
  {
   "cell_type": "code",
   "execution_count": 18,
   "id": "1dfc576a",
   "metadata": {
    "execution": {
     "iopub.execute_input": "2025-05-15T16:15:12.585281Z",
     "iopub.status.busy": "2025-05-15T16:15:12.585052Z",
     "iopub.status.idle": "2025-05-15T16:15:12.589636Z",
     "shell.execute_reply": "2025-05-15T16:15:12.589228Z"
    },
    "papermill": {
     "duration": 0.012731,
     "end_time": "2025-05-15T16:15:12.590580",
     "exception": false,
     "start_time": "2025-05-15T16:15:12.577849",
     "status": "completed"
    },
    "tags": []
   },
   "outputs": [],
   "source": [
    "eval_metric=custom_f1_score\n",
    "eval_metric_name='custom_f1_score'\n",
    "\n",
    "def objective(trial):\n",
    "    params = {\n",
    "        'n_estimators': 1500,\n",
    "        'max_depth': trial.suggest_int('max_depth', 3, 20),\n",
    "        'min_child_weight': trial.suggest_int('min_child_weight', 1, 250),\n",
    "        'subsample': trial.suggest_float('subsample', 0.1, 1.0),\n",
    "        'colsample_bynode': trial.suggest_float('colsample_bynode', 0.1, 1.0),\n",
    "        'learning_rate': trial.suggest_float('learning_rate', 1e-3, 5e-1, log=True),\n",
    "    }\n",
    "    pruning_callback = optuna.integration.XGBoostPruningCallback(trial, f'validation_0-{eval_metric_name}')\n",
    "    es_callback = xgboost.callback.EarlyStopping(20, min_delta=0.001)\n",
    "    xgb = xgboost.XGBClassifier(\n",
    "        eval_metric=eval_metric,\n",
    "        callbacks=[pruning_callback, es_callback],\n",
    "        n_jobs=5,\n",
    "        **params\n",
    "    )\n",
    "    xgb.fit(\n",
    "        X_train, \n",
    "        y_train_enc, \n",
    "        verbose=0,\n",
    "        eval_set=[(X_val, y_val_enc)],\n",
    "    )\n",
    "    trial.set_user_attr('best_iteration', xgb.best_iteration)\n",
    "\n",
    "    return xgb.best_score"
   ]
  },
  {
   "cell_type": "code",
   "execution_count": 19,
   "id": "515978b4",
   "metadata": {
    "execution": {
     "iopub.execute_input": "2025-05-15T16:15:12.604495Z",
     "iopub.status.busy": "2025-05-15T16:15:12.603873Z",
     "iopub.status.idle": "2025-05-15T16:15:48.714410Z",
     "shell.execute_reply": "2025-05-15T16:15:48.713632Z"
    },
    "papermill": {
     "duration": 36.118635,
     "end_time": "2025-05-15T16:15:48.715824",
     "exception": false,
     "start_time": "2025-05-15T16:15:12.597189",
     "status": "completed"
    },
    "scrolled": true,
    "tags": []
   },
   "outputs": [
    {
     "name": "stderr",
     "output_type": "stream",
     "text": [
      "[I 2025-05-15 18:15:12,606] A new study created in memory with name: no-name-c7a31c91-902e-4eab-9b2a-8960fadbb113\n"
     ]
    },
    {
     "name": "stderr",
     "output_type": "stream",
     "text": [
      "[I 2025-05-15 18:15:13,209] Trial 0 finished with value: -0.60161 and parameters: {'max_depth': 9, 'min_child_weight': 238, 'subsample': 0.7587945476302645, 'colsample_bynode': 0.6387926357773329, 'learning_rate': 0.0026368755339723046}. Best is trial 0 with value: -0.60161.\n"
     ]
    },
    {
     "name": "stderr",
     "output_type": "stream",
     "text": [
      "[I 2025-05-15 18:15:15,282] Trial 1 finished with value: -0.760257 and parameters: {'max_depth': 5, 'min_child_weight': 15, 'subsample': 0.8795585311974417, 'colsample_bynode': 0.6410035105688879, 'learning_rate': 0.08148293210105287}. Best is trial 1 with value: -0.760257.\n"
     ]
    },
    {
     "name": "stderr",
     "output_type": "stream",
     "text": [
      "[I 2025-05-15 18:15:15,788] Trial 2 finished with value: -0.603171 and parameters: {'max_depth': 3, 'min_child_weight': 243, 'subsample': 0.8491983767203796, 'colsample_bynode': 0.29110519961044856, 'learning_rate': 0.003095566460242371}. Best is trial 1 with value: -0.760257.\n"
     ]
    },
    {
     "name": "stderr",
     "output_type": "stream",
     "text": [
      "[I 2025-05-15 18:15:16,484] Trial 3 finished with value: -0.617341 and parameters: {'max_depth': 6, 'min_child_weight': 77, 'subsample': 0.5722807884690141, 'colsample_bynode': 0.48875051677790415, 'learning_rate': 0.006109683510122491}. Best is trial 1 with value: -0.760257.\n"
     ]
    },
    {
     "name": "stderr",
     "output_type": "stream",
     "text": [
      "[I 2025-05-15 18:15:20,269] Trial 4 finished with value: -0.704796 and parameters: {'max_depth': 14, 'min_child_weight': 35, 'subsample': 0.3629301836816964, 'colsample_bynode': 0.4297256589643226, 'learning_rate': 0.01701841881702917}. Best is trial 1 with value: -0.760257.\n"
     ]
    },
    {
     "name": "stderr",
     "output_type": "stream",
     "text": [
      "[I 2025-05-15 18:15:20,758] Trial 5 finished with value: -0.620941 and parameters: {'max_depth': 17, 'min_child_weight': 50, 'subsample': 0.5628109945722505, 'colsample_bynode': 0.6331731119758383, 'learning_rate': 0.0013346527038305934}. Best is trial 1 with value: -0.760257.\n"
     ]
    },
    {
     "name": "stderr",
     "output_type": "stream",
     "text": [
      "[I 2025-05-15 18:15:20,885] Trial 6 pruned. Trial was pruned at iteration 0.\n"
     ]
    },
    {
     "name": "stderr",
     "output_type": "stream",
     "text": [
      "[I 2025-05-15 18:15:21,002] Trial 7 pruned. Trial was pruned at iteration 0.\n"
     ]
    },
    {
     "name": "stderr",
     "output_type": "stream",
     "text": [
      "[I 2025-05-15 18:15:21,107] Trial 8 pruned. Trial was pruned at iteration 0.\n"
     ]
    },
    {
     "name": "stderr",
     "output_type": "stream",
     "text": [
      "[I 2025-05-15 18:15:21,264] Trial 9 pruned. Trial was pruned at iteration 2.\n"
     ]
    },
    {
     "name": "stderr",
     "output_type": "stream",
     "text": [
      "[I 2025-05-15 18:15:23,859] Trial 10 finished with value: -0.739396 and parameters: {'max_depth': 9, 'min_child_weight': 2, 'subsample': 0.9725833997090791, 'colsample_bynode': 0.11616568805333755, 'learning_rate': 0.17780618353487967}. Best is trial 1 with value: -0.760257.\n"
     ]
    },
    {
     "name": "stderr",
     "output_type": "stream",
     "text": [
      "[I 2025-05-15 18:15:25,626] Trial 11 finished with value: -0.753423 and parameters: {'max_depth': 9, 'min_child_weight': 4, 'subsample': 0.9818290990185045, 'colsample_bynode': 0.17702656156719, 'learning_rate': 0.11568531411766632}. Best is trial 1 with value: -0.760257.\n"
     ]
    },
    {
     "name": "stderr",
     "output_type": "stream",
     "text": [
      "[I 2025-05-15 18:15:29,308] Trial 12 finished with value: -0.748628 and parameters: {'max_depth': 9, 'min_child_weight': 3, 'subsample': 0.9762317723681219, 'colsample_bynode': 0.14667845540225039, 'learning_rate': 0.07220195396446884}. Best is trial 1 with value: -0.760257.\n"
     ]
    },
    {
     "name": "stderr",
     "output_type": "stream",
     "text": [
      "[I 2025-05-15 18:15:29,470] Trial 13 pruned. Trial was pruned at iteration 0.\n"
     ]
    },
    {
     "name": "stderr",
     "output_type": "stream",
     "text": [
      "[I 2025-05-15 18:15:29,620] Trial 14 pruned. Trial was pruned at iteration 0.\n"
     ]
    },
    {
     "name": "stderr",
     "output_type": "stream",
     "text": [
      "[I 2025-05-15 18:15:32,197] Trial 15 finished with value: -0.76993 and parameters: {'max_depth': 20, 'min_child_weight': 1, 'subsample': 0.7012908959710442, 'colsample_bynode': 0.2540835086298475, 'learning_rate': 0.2833114876720916}. Best is trial 15 with value: -0.76993.\n"
     ]
    },
    {
     "name": "stderr",
     "output_type": "stream",
     "text": [
      "[I 2025-05-15 18:15:32,345] Trial 16 pruned. Trial was pruned at iteration 0.\n"
     ]
    },
    {
     "name": "stderr",
     "output_type": "stream",
     "text": [
      "[I 2025-05-15 18:15:32,479] Trial 17 pruned. Trial was pruned at iteration 0.\n"
     ]
    },
    {
     "name": "stderr",
     "output_type": "stream",
     "text": [
      "[I 2025-05-15 18:15:32,622] Trial 18 pruned. Trial was pruned at iteration 0.\n"
     ]
    },
    {
     "name": "stderr",
     "output_type": "stream",
     "text": [
      "[I 2025-05-15 18:15:32,769] Trial 19 pruned. Trial was pruned at iteration 0.\n"
     ]
    },
    {
     "name": "stderr",
     "output_type": "stream",
     "text": [
      "[I 2025-05-15 18:15:32,934] Trial 20 pruned. Trial was pruned at iteration 0.\n"
     ]
    },
    {
     "name": "stderr",
     "output_type": "stream",
     "text": [
      "[I 2025-05-15 18:15:33,087] Trial 21 pruned. Trial was pruned at iteration 0.\n"
     ]
    },
    {
     "name": "stderr",
     "output_type": "stream",
     "text": [
      "[I 2025-05-15 18:15:33,282] Trial 22 pruned. Trial was pruned at iteration 1.\n"
     ]
    },
    {
     "name": "stderr",
     "output_type": "stream",
     "text": [
      "[I 2025-05-15 18:15:33,448] Trial 23 pruned. Trial was pruned at iteration 0.\n"
     ]
    },
    {
     "name": "stderr",
     "output_type": "stream",
     "text": [
      "[I 2025-05-15 18:15:36,496] Trial 24 finished with value: -0.761044 and parameters: {'max_depth': 12, 'min_child_weight': 24, 'subsample': 0.9993234633009218, 'colsample_bynode': 0.7010132046256832, 'learning_rate': 0.09325501053431078}. Best is trial 15 with value: -0.76993.\n"
     ]
    },
    {
     "name": "stderr",
     "output_type": "stream",
     "text": [
      "[I 2025-05-15 18:15:36,659] Trial 25 pruned. Trial was pruned at iteration 0.\n"
     ]
    },
    {
     "name": "stderr",
     "output_type": "stream",
     "text": [
      "[I 2025-05-15 18:15:36,873] Trial 26 pruned. Trial was pruned at iteration 1.\n"
     ]
    },
    {
     "name": "stderr",
     "output_type": "stream",
     "text": [
      "[I 2025-05-15 18:15:37,021] Trial 27 pruned. Trial was pruned at iteration 0.\n"
     ]
    },
    {
     "name": "stderr",
     "output_type": "stream",
     "text": [
      "[I 2025-05-15 18:15:37,189] Trial 28 pruned. Trial was pruned at iteration 0.\n"
     ]
    },
    {
     "name": "stderr",
     "output_type": "stream",
     "text": [
      "[I 2025-05-15 18:15:37,340] Trial 29 pruned. Trial was pruned at iteration 0.\n"
     ]
    },
    {
     "name": "stderr",
     "output_type": "stream",
     "text": [
      "[I 2025-05-15 18:15:37,486] Trial 30 pruned. Trial was pruned at iteration 0.\n"
     ]
    },
    {
     "name": "stderr",
     "output_type": "stream",
     "text": [
      "[I 2025-05-15 18:15:37,695] Trial 31 pruned. Trial was pruned at iteration 1.\n"
     ]
    },
    {
     "name": "stderr",
     "output_type": "stream",
     "text": [
      "[I 2025-05-15 18:15:37,868] Trial 32 pruned. Trial was pruned at iteration 0.\n"
     ]
    },
    {
     "name": "stderr",
     "output_type": "stream",
     "text": [
      "[I 2025-05-15 18:15:38,032] Trial 33 pruned. Trial was pruned at iteration 0.\n"
     ]
    },
    {
     "name": "stderr",
     "output_type": "stream",
     "text": [
      "[I 2025-05-15 18:15:39,526] Trial 34 finished with value: -0.776961 and parameters: {'max_depth': 8, 'min_child_weight': 13, 'subsample': 0.9927064862558185, 'colsample_bynode': 0.3321028734021645, 'learning_rate': 0.2632217288225071}. Best is trial 34 with value: -0.776961.\n"
     ]
    },
    {
     "name": "stderr",
     "output_type": "stream",
     "text": [
      "[I 2025-05-15 18:15:39,705] Trial 35 pruned. Trial was pruned at iteration 0.\n"
     ]
    },
    {
     "name": "stderr",
     "output_type": "stream",
     "text": [
      "[I 2025-05-15 18:15:40,659] Trial 36 finished with value: -0.779244 and parameters: {'max_depth': 4, 'min_child_weight': 14, 'subsample': 0.9353994909720165, 'colsample_bynode': 0.5011225641460966, 'learning_rate': 0.3553138839753996}. Best is trial 36 with value: -0.779244.\n"
     ]
    },
    {
     "name": "stderr",
     "output_type": "stream",
     "text": [
      "[I 2025-05-15 18:15:40,808] Trial 37 pruned. Trial was pruned at iteration 0.\n"
     ]
    },
    {
     "name": "stderr",
     "output_type": "stream",
     "text": [
      "[I 2025-05-15 18:15:40,978] Trial 38 pruned. Trial was pruned at iteration 0.\n"
     ]
    },
    {
     "name": "stderr",
     "output_type": "stream",
     "text": [
      "[I 2025-05-15 18:15:41,127] Trial 39 pruned. Trial was pruned at iteration 0.\n"
     ]
    },
    {
     "name": "stderr",
     "output_type": "stream",
     "text": [
      "[I 2025-05-15 18:15:41,276] Trial 40 pruned. Trial was pruned at iteration 0.\n"
     ]
    },
    {
     "name": "stderr",
     "output_type": "stream",
     "text": [
      "[I 2025-05-15 18:15:43,115] Trial 41 finished with value: -0.79083 and parameters: {'max_depth': 5, 'min_child_weight': 14, 'subsample': 0.9439286494582341, 'colsample_bynode': 0.6618452742592585, 'learning_rate': 0.2431344834049225}. Best is trial 41 with value: -0.79083.\n"
     ]
    },
    {
     "name": "stderr",
     "output_type": "stream",
     "text": [
      "[I 2025-05-15 18:15:45,206] Trial 42 finished with value: -0.785202 and parameters: {'max_depth': 4, 'min_child_weight': 13, 'subsample': 0.9550585970118002, 'colsample_bynode': 0.664497068761668, 'learning_rate': 0.2593340132394848}. Best is trial 41 with value: -0.79083.\n"
     ]
    },
    {
     "name": "stderr",
     "output_type": "stream",
     "text": [
      "[I 2025-05-15 18:15:46,660] Trial 43 finished with value: -0.788111 and parameters: {'max_depth': 4, 'min_child_weight': 10, 'subsample': 0.9390486963489898, 'colsample_bynode': 0.59848805315841, 'learning_rate': 0.2525131068614947}. Best is trial 41 with value: -0.79083.\n"
     ]
    },
    {
     "name": "stderr",
     "output_type": "stream",
     "text": [
      "[I 2025-05-15 18:15:47,835] Trial 44 finished with value: -0.786266 and parameters: {'max_depth': 4, 'min_child_weight': 13, 'subsample': 0.9489973142858139, 'colsample_bynode': 0.6036634985969331, 'learning_rate': 0.3725913610989221}. Best is trial 41 with value: -0.79083.\n"
     ]
    },
    {
     "name": "stderr",
     "output_type": "stream",
     "text": [
      "[I 2025-05-15 18:15:47,974] Trial 45 pruned. Trial was pruned at iteration 0.\n"
     ]
    },
    {
     "name": "stderr",
     "output_type": "stream",
     "text": [
      "[I 2025-05-15 18:15:48,149] Trial 46 pruned. Trial was pruned at iteration 0.\n"
     ]
    },
    {
     "name": "stderr",
     "output_type": "stream",
     "text": [
      "[I 2025-05-15 18:15:48,300] Trial 47 pruned. Trial was pruned at iteration 0.\n"
     ]
    },
    {
     "name": "stderr",
     "output_type": "stream",
     "text": [
      "[I 2025-05-15 18:15:48,437] Trial 48 pruned. Trial was pruned at iteration 0.\n"
     ]
    },
    {
     "name": "stderr",
     "output_type": "stream",
     "text": [
      "[I 2025-05-15 18:15:48,629] Trial 49 pruned. Trial was pruned at iteration 1.\n"
     ]
    }
   ],
   "source": [
    "sampler = optuna.samplers.TPESampler(seed=42)\n",
    "study = optuna.create_study(direction='minimize', sampler=sampler)\n",
    "study.optimize(objective, n_trials=N_TRIALS, gc_after_trial=True)"
   ]
  },
  {
   "cell_type": "code",
   "execution_count": 20,
   "id": "a5daeb70",
   "metadata": {
    "execution": {
     "iopub.execute_input": "2025-05-15T16:15:48.737105Z",
     "iopub.status.busy": "2025-05-15T16:15:48.736767Z",
     "iopub.status.idle": "2025-05-15T16:15:48.760690Z",
     "shell.execute_reply": "2025-05-15T16:15:48.760279Z"
    },
    "papermill": {
     "duration": 0.034376,
     "end_time": "2025-05-15T16:15:48.761646",
     "exception": false,
     "start_time": "2025-05-15T16:15:48.727270",
     "status": "completed"
    },
    "tags": []
   },
   "outputs": [
    {
     "data": {
      "text/plain": [
       "['/scratch_isilon/groups/singlecell/shared/projects/Inflammation-PBMCs-Atlas/03_downstream_analysis/08_gene_importance/xgboost_external_validation/xgboost_TopN_genes/results_20/study/DC_13_4_xgboost.pkl']"
      ]
     },
     "execution_count": 20,
     "metadata": {},
     "output_type": "execute_result"
    }
   ],
   "source": [
    "out_dir = here(f'03_downstream_analysis/08_gene_importance/xgboost_external_validation/xgboost_TopN_genes/results_{N_GENES}/study')\n",
    "\n",
    "if not os.path.exists(out_dir):\n",
    "    os.makedirs(out_dir)\n",
    "    \n",
    "joblib.dump(study,os.path.join(out_dir, f'{CELL_TYPE}_{SEED}_{TEST_SPLIT_IDX}_xgboost.pkl'))"
   ]
  },
  {
   "cell_type": "code",
   "execution_count": 21,
   "id": "b0851c2b",
   "metadata": {
    "execution": {
     "iopub.execute_input": "2025-05-15T16:15:48.781090Z",
     "iopub.status.busy": "2025-05-15T16:15:48.780240Z",
     "iopub.status.idle": "2025-05-15T16:15:50.345710Z",
     "shell.execute_reply": "2025-05-15T16:15:50.344990Z"
    },
    "papermill": {
     "duration": 1.575891,
     "end_time": "2025-05-15T16:15:50.346723",
     "exception": false,
     "start_time": "2025-05-15T16:15:48.770832",
     "status": "completed"
    },
    "tags": []
   },
   "outputs": [
    {
     "data": {
      "text/html": [
       "<style>#sk-container-id-1 {\n",
       "  /* Definition of color scheme common for light and dark mode */\n",
       "  --sklearn-color-text: black;\n",
       "  --sklearn-color-line: gray;\n",
       "  /* Definition of color scheme for unfitted estimators */\n",
       "  --sklearn-color-unfitted-level-0: #fff5e6;\n",
       "  --sklearn-color-unfitted-level-1: #f6e4d2;\n",
       "  --sklearn-color-unfitted-level-2: #ffe0b3;\n",
       "  --sklearn-color-unfitted-level-3: chocolate;\n",
       "  /* Definition of color scheme for fitted estimators */\n",
       "  --sklearn-color-fitted-level-0: #f0f8ff;\n",
       "  --sklearn-color-fitted-level-1: #d4ebff;\n",
       "  --sklearn-color-fitted-level-2: #b3dbfd;\n",
       "  --sklearn-color-fitted-level-3: cornflowerblue;\n",
       "\n",
       "  /* Specific color for light theme */\n",
       "  --sklearn-color-text-on-default-background: var(--sg-text-color, var(--theme-code-foreground, var(--jp-content-font-color1, black)));\n",
       "  --sklearn-color-background: var(--sg-background-color, var(--theme-background, var(--jp-layout-color0, white)));\n",
       "  --sklearn-color-border-box: var(--sg-text-color, var(--theme-code-foreground, var(--jp-content-font-color1, black)));\n",
       "  --sklearn-color-icon: #696969;\n",
       "\n",
       "  @media (prefers-color-scheme: dark) {\n",
       "    /* Redefinition of color scheme for dark theme */\n",
       "    --sklearn-color-text-on-default-background: var(--sg-text-color, var(--theme-code-foreground, var(--jp-content-font-color1, white)));\n",
       "    --sklearn-color-background: var(--sg-background-color, var(--theme-background, var(--jp-layout-color0, #111)));\n",
       "    --sklearn-color-border-box: var(--sg-text-color, var(--theme-code-foreground, var(--jp-content-font-color1, white)));\n",
       "    --sklearn-color-icon: #878787;\n",
       "  }\n",
       "}\n",
       "\n",
       "#sk-container-id-1 {\n",
       "  color: var(--sklearn-color-text);\n",
       "}\n",
       "\n",
       "#sk-container-id-1 pre {\n",
       "  padding: 0;\n",
       "}\n",
       "\n",
       "#sk-container-id-1 input.sk-hidden--visually {\n",
       "  border: 0;\n",
       "  clip: rect(1px 1px 1px 1px);\n",
       "  clip: rect(1px, 1px, 1px, 1px);\n",
       "  height: 1px;\n",
       "  margin: -1px;\n",
       "  overflow: hidden;\n",
       "  padding: 0;\n",
       "  position: absolute;\n",
       "  width: 1px;\n",
       "}\n",
       "\n",
       "#sk-container-id-1 div.sk-dashed-wrapped {\n",
       "  border: 1px dashed var(--sklearn-color-line);\n",
       "  margin: 0 0.4em 0.5em 0.4em;\n",
       "  box-sizing: border-box;\n",
       "  padding-bottom: 0.4em;\n",
       "  background-color: var(--sklearn-color-background);\n",
       "}\n",
       "\n",
       "#sk-container-id-1 div.sk-container {\n",
       "  /* jupyter's `normalize.less` sets `[hidden] { display: none; }`\n",
       "     but bootstrap.min.css set `[hidden] { display: none !important; }`\n",
       "     so we also need the `!important` here to be able to override the\n",
       "     default hidden behavior on the sphinx rendered scikit-learn.org.\n",
       "     See: https://github.com/scikit-learn/scikit-learn/issues/21755 */\n",
       "  display: inline-block !important;\n",
       "  position: relative;\n",
       "}\n",
       "\n",
       "#sk-container-id-1 div.sk-text-repr-fallback {\n",
       "  display: none;\n",
       "}\n",
       "\n",
       "div.sk-parallel-item,\n",
       "div.sk-serial,\n",
       "div.sk-item {\n",
       "  /* draw centered vertical line to link estimators */\n",
       "  background-image: linear-gradient(var(--sklearn-color-text-on-default-background), var(--sklearn-color-text-on-default-background));\n",
       "  background-size: 2px 100%;\n",
       "  background-repeat: no-repeat;\n",
       "  background-position: center center;\n",
       "}\n",
       "\n",
       "/* Parallel-specific style estimator block */\n",
       "\n",
       "#sk-container-id-1 div.sk-parallel-item::after {\n",
       "  content: \"\";\n",
       "  width: 100%;\n",
       "  border-bottom: 2px solid var(--sklearn-color-text-on-default-background);\n",
       "  flex-grow: 1;\n",
       "}\n",
       "\n",
       "#sk-container-id-1 div.sk-parallel {\n",
       "  display: flex;\n",
       "  align-items: stretch;\n",
       "  justify-content: center;\n",
       "  background-color: var(--sklearn-color-background);\n",
       "  position: relative;\n",
       "}\n",
       "\n",
       "#sk-container-id-1 div.sk-parallel-item {\n",
       "  display: flex;\n",
       "  flex-direction: column;\n",
       "}\n",
       "\n",
       "#sk-container-id-1 div.sk-parallel-item:first-child::after {\n",
       "  align-self: flex-end;\n",
       "  width: 50%;\n",
       "}\n",
       "\n",
       "#sk-container-id-1 div.sk-parallel-item:last-child::after {\n",
       "  align-self: flex-start;\n",
       "  width: 50%;\n",
       "}\n",
       "\n",
       "#sk-container-id-1 div.sk-parallel-item:only-child::after {\n",
       "  width: 0;\n",
       "}\n",
       "\n",
       "/* Serial-specific style estimator block */\n",
       "\n",
       "#sk-container-id-1 div.sk-serial {\n",
       "  display: flex;\n",
       "  flex-direction: column;\n",
       "  align-items: center;\n",
       "  background-color: var(--sklearn-color-background);\n",
       "  padding-right: 1em;\n",
       "  padding-left: 1em;\n",
       "}\n",
       "\n",
       "\n",
       "/* Toggleable style: style used for estimator/Pipeline/ColumnTransformer box that is\n",
       "clickable and can be expanded/collapsed.\n",
       "- Pipeline and ColumnTransformer use this feature and define the default style\n",
       "- Estimators will overwrite some part of the style using the `sk-estimator` class\n",
       "*/\n",
       "\n",
       "/* Pipeline and ColumnTransformer style (default) */\n",
       "\n",
       "#sk-container-id-1 div.sk-toggleable {\n",
       "  /* Default theme specific background. It is overwritten whether we have a\n",
       "  specific estimator or a Pipeline/ColumnTransformer */\n",
       "  background-color: var(--sklearn-color-background);\n",
       "}\n",
       "\n",
       "/* Toggleable label */\n",
       "#sk-container-id-1 label.sk-toggleable__label {\n",
       "  cursor: pointer;\n",
       "  display: block;\n",
       "  width: 100%;\n",
       "  margin-bottom: 0;\n",
       "  padding: 0.5em;\n",
       "  box-sizing: border-box;\n",
       "  text-align: center;\n",
       "}\n",
       "\n",
       "#sk-container-id-1 label.sk-toggleable__label-arrow:before {\n",
       "  /* Arrow on the left of the label */\n",
       "  content: \"▸\";\n",
       "  float: left;\n",
       "  margin-right: 0.25em;\n",
       "  color: var(--sklearn-color-icon);\n",
       "}\n",
       "\n",
       "#sk-container-id-1 label.sk-toggleable__label-arrow:hover:before {\n",
       "  color: var(--sklearn-color-text);\n",
       "}\n",
       "\n",
       "/* Toggleable content - dropdown */\n",
       "\n",
       "#sk-container-id-1 div.sk-toggleable__content {\n",
       "  max-height: 0;\n",
       "  max-width: 0;\n",
       "  overflow: hidden;\n",
       "  text-align: left;\n",
       "  /* unfitted */\n",
       "  background-color: var(--sklearn-color-unfitted-level-0);\n",
       "}\n",
       "\n",
       "#sk-container-id-1 div.sk-toggleable__content.fitted {\n",
       "  /* fitted */\n",
       "  background-color: var(--sklearn-color-fitted-level-0);\n",
       "}\n",
       "\n",
       "#sk-container-id-1 div.sk-toggleable__content pre {\n",
       "  margin: 0.2em;\n",
       "  border-radius: 0.25em;\n",
       "  color: var(--sklearn-color-text);\n",
       "  /* unfitted */\n",
       "  background-color: var(--sklearn-color-unfitted-level-0);\n",
       "}\n",
       "\n",
       "#sk-container-id-1 div.sk-toggleable__content.fitted pre {\n",
       "  /* unfitted */\n",
       "  background-color: var(--sklearn-color-fitted-level-0);\n",
       "}\n",
       "\n",
       "#sk-container-id-1 input.sk-toggleable__control:checked~div.sk-toggleable__content {\n",
       "  /* Expand drop-down */\n",
       "  max-height: 200px;\n",
       "  max-width: 100%;\n",
       "  overflow: auto;\n",
       "}\n",
       "\n",
       "#sk-container-id-1 input.sk-toggleable__control:checked~label.sk-toggleable__label-arrow:before {\n",
       "  content: \"▾\";\n",
       "}\n",
       "\n",
       "/* Pipeline/ColumnTransformer-specific style */\n",
       "\n",
       "#sk-container-id-1 div.sk-label input.sk-toggleable__control:checked~label.sk-toggleable__label {\n",
       "  color: var(--sklearn-color-text);\n",
       "  background-color: var(--sklearn-color-unfitted-level-2);\n",
       "}\n",
       "\n",
       "#sk-container-id-1 div.sk-label.fitted input.sk-toggleable__control:checked~label.sk-toggleable__label {\n",
       "  background-color: var(--sklearn-color-fitted-level-2);\n",
       "}\n",
       "\n",
       "/* Estimator-specific style */\n",
       "\n",
       "/* Colorize estimator box */\n",
       "#sk-container-id-1 div.sk-estimator input.sk-toggleable__control:checked~label.sk-toggleable__label {\n",
       "  /* unfitted */\n",
       "  background-color: var(--sklearn-color-unfitted-level-2);\n",
       "}\n",
       "\n",
       "#sk-container-id-1 div.sk-estimator.fitted input.sk-toggleable__control:checked~label.sk-toggleable__label {\n",
       "  /* fitted */\n",
       "  background-color: var(--sklearn-color-fitted-level-2);\n",
       "}\n",
       "\n",
       "#sk-container-id-1 div.sk-label label.sk-toggleable__label,\n",
       "#sk-container-id-1 div.sk-label label {\n",
       "  /* The background is the default theme color */\n",
       "  color: var(--sklearn-color-text-on-default-background);\n",
       "}\n",
       "\n",
       "/* On hover, darken the color of the background */\n",
       "#sk-container-id-1 div.sk-label:hover label.sk-toggleable__label {\n",
       "  color: var(--sklearn-color-text);\n",
       "  background-color: var(--sklearn-color-unfitted-level-2);\n",
       "}\n",
       "\n",
       "/* Label box, darken color on hover, fitted */\n",
       "#sk-container-id-1 div.sk-label.fitted:hover label.sk-toggleable__label.fitted {\n",
       "  color: var(--sklearn-color-text);\n",
       "  background-color: var(--sklearn-color-fitted-level-2);\n",
       "}\n",
       "\n",
       "/* Estimator label */\n",
       "\n",
       "#sk-container-id-1 div.sk-label label {\n",
       "  font-family: monospace;\n",
       "  font-weight: bold;\n",
       "  display: inline-block;\n",
       "  line-height: 1.2em;\n",
       "}\n",
       "\n",
       "#sk-container-id-1 div.sk-label-container {\n",
       "  text-align: center;\n",
       "}\n",
       "\n",
       "/* Estimator-specific */\n",
       "#sk-container-id-1 div.sk-estimator {\n",
       "  font-family: monospace;\n",
       "  border: 1px dotted var(--sklearn-color-border-box);\n",
       "  border-radius: 0.25em;\n",
       "  box-sizing: border-box;\n",
       "  margin-bottom: 0.5em;\n",
       "  /* unfitted */\n",
       "  background-color: var(--sklearn-color-unfitted-level-0);\n",
       "}\n",
       "\n",
       "#sk-container-id-1 div.sk-estimator.fitted {\n",
       "  /* fitted */\n",
       "  background-color: var(--sklearn-color-fitted-level-0);\n",
       "}\n",
       "\n",
       "/* on hover */\n",
       "#sk-container-id-1 div.sk-estimator:hover {\n",
       "  /* unfitted */\n",
       "  background-color: var(--sklearn-color-unfitted-level-2);\n",
       "}\n",
       "\n",
       "#sk-container-id-1 div.sk-estimator.fitted:hover {\n",
       "  /* fitted */\n",
       "  background-color: var(--sklearn-color-fitted-level-2);\n",
       "}\n",
       "\n",
       "/* Specification for estimator info (e.g. \"i\" and \"?\") */\n",
       "\n",
       "/* Common style for \"i\" and \"?\" */\n",
       "\n",
       ".sk-estimator-doc-link,\n",
       "a:link.sk-estimator-doc-link,\n",
       "a:visited.sk-estimator-doc-link {\n",
       "  float: right;\n",
       "  font-size: smaller;\n",
       "  line-height: 1em;\n",
       "  font-family: monospace;\n",
       "  background-color: var(--sklearn-color-background);\n",
       "  border-radius: 1em;\n",
       "  height: 1em;\n",
       "  width: 1em;\n",
       "  text-decoration: none !important;\n",
       "  margin-left: 1ex;\n",
       "  /* unfitted */\n",
       "  border: var(--sklearn-color-unfitted-level-1) 1pt solid;\n",
       "  color: var(--sklearn-color-unfitted-level-1);\n",
       "}\n",
       "\n",
       ".sk-estimator-doc-link.fitted,\n",
       "a:link.sk-estimator-doc-link.fitted,\n",
       "a:visited.sk-estimator-doc-link.fitted {\n",
       "  /* fitted */\n",
       "  border: var(--sklearn-color-fitted-level-1) 1pt solid;\n",
       "  color: var(--sklearn-color-fitted-level-1);\n",
       "}\n",
       "\n",
       "/* On hover */\n",
       "div.sk-estimator:hover .sk-estimator-doc-link:hover,\n",
       ".sk-estimator-doc-link:hover,\n",
       "div.sk-label-container:hover .sk-estimator-doc-link:hover,\n",
       ".sk-estimator-doc-link:hover {\n",
       "  /* unfitted */\n",
       "  background-color: var(--sklearn-color-unfitted-level-3);\n",
       "  color: var(--sklearn-color-background);\n",
       "  text-decoration: none;\n",
       "}\n",
       "\n",
       "div.sk-estimator.fitted:hover .sk-estimator-doc-link.fitted:hover,\n",
       ".sk-estimator-doc-link.fitted:hover,\n",
       "div.sk-label-container:hover .sk-estimator-doc-link.fitted:hover,\n",
       ".sk-estimator-doc-link.fitted:hover {\n",
       "  /* fitted */\n",
       "  background-color: var(--sklearn-color-fitted-level-3);\n",
       "  color: var(--sklearn-color-background);\n",
       "  text-decoration: none;\n",
       "}\n",
       "\n",
       "/* Span, style for the box shown on hovering the info icon */\n",
       ".sk-estimator-doc-link span {\n",
       "  display: none;\n",
       "  z-index: 9999;\n",
       "  position: relative;\n",
       "  font-weight: normal;\n",
       "  right: .2ex;\n",
       "  padding: .5ex;\n",
       "  margin: .5ex;\n",
       "  width: min-content;\n",
       "  min-width: 20ex;\n",
       "  max-width: 50ex;\n",
       "  color: var(--sklearn-color-text);\n",
       "  box-shadow: 2pt 2pt 4pt #999;\n",
       "  /* unfitted */\n",
       "  background: var(--sklearn-color-unfitted-level-0);\n",
       "  border: .5pt solid var(--sklearn-color-unfitted-level-3);\n",
       "}\n",
       "\n",
       ".sk-estimator-doc-link.fitted span {\n",
       "  /* fitted */\n",
       "  background: var(--sklearn-color-fitted-level-0);\n",
       "  border: var(--sklearn-color-fitted-level-3);\n",
       "}\n",
       "\n",
       ".sk-estimator-doc-link:hover span {\n",
       "  display: block;\n",
       "}\n",
       "\n",
       "/* \"?\"-specific style due to the `<a>` HTML tag */\n",
       "\n",
       "#sk-container-id-1 a.estimator_doc_link {\n",
       "  float: right;\n",
       "  font-size: 1rem;\n",
       "  line-height: 1em;\n",
       "  font-family: monospace;\n",
       "  background-color: var(--sklearn-color-background);\n",
       "  border-radius: 1rem;\n",
       "  height: 1rem;\n",
       "  width: 1rem;\n",
       "  text-decoration: none;\n",
       "  /* unfitted */\n",
       "  color: var(--sklearn-color-unfitted-level-1);\n",
       "  border: var(--sklearn-color-unfitted-level-1) 1pt solid;\n",
       "}\n",
       "\n",
       "#sk-container-id-1 a.estimator_doc_link.fitted {\n",
       "  /* fitted */\n",
       "  border: var(--sklearn-color-fitted-level-1) 1pt solid;\n",
       "  color: var(--sklearn-color-fitted-level-1);\n",
       "}\n",
       "\n",
       "/* On hover */\n",
       "#sk-container-id-1 a.estimator_doc_link:hover {\n",
       "  /* unfitted */\n",
       "  background-color: var(--sklearn-color-unfitted-level-3);\n",
       "  color: var(--sklearn-color-background);\n",
       "  text-decoration: none;\n",
       "}\n",
       "\n",
       "#sk-container-id-1 a.estimator_doc_link.fitted:hover {\n",
       "  /* fitted */\n",
       "  background-color: var(--sklearn-color-fitted-level-3);\n",
       "}\n",
       "</style><div id=\"sk-container-id-1\" class=\"sk-top-container\"><div class=\"sk-text-repr-fallback\"><pre>XGBClassifier(base_score=None, booster=None, callbacks=None,\n",
       "              colsample_bylevel=None, colsample_bynode=0.6618452742592585,\n",
       "              colsample_bytree=None, device=None, early_stopping_rounds=None,\n",
       "              enable_categorical=False,\n",
       "              eval_metric=&lt;function custom_f1_score at 0x7fcf5deac680&gt;,\n",
       "              feature_types=None, gamma=None, grow_policy=None,\n",
       "              importance_type=None, interaction_constraints=None,\n",
       "              learning_rate=0.2431344834049225, max_bin=None,\n",
       "              max_cat_threshold=None, max_cat_to_onehot=None,\n",
       "              max_delta_step=None, max_depth=5, max_leaves=None,\n",
       "              min_child_weight=14, missing=nan, monotone_constraints=None,\n",
       "              multi_strategy=None, n_estimators=70, n_jobs=None,\n",
       "              num_parallel_tree=None, objective=&#x27;multi:softprob&#x27;, ...)</pre><b>In a Jupyter environment, please rerun this cell to show the HTML representation or trust the notebook. <br />On GitHub, the HTML representation is unable to render, please try loading this page with nbviewer.org.</b></div><div class=\"sk-container\" hidden><div class=\"sk-item\"><div class=\"sk-estimator fitted sk-toggleable\"><input class=\"sk-toggleable__control sk-hidden--visually\" id=\"sk-estimator-id-1\" type=\"checkbox\" checked><label for=\"sk-estimator-id-1\" class=\"sk-toggleable__label fitted sk-toggleable__label-arrow fitted\">&nbsp;XGBClassifier<span class=\"sk-estimator-doc-link fitted\">i<span>Fitted</span></span></label><div class=\"sk-toggleable__content fitted\"><pre>XGBClassifier(base_score=None, booster=None, callbacks=None,\n",
       "              colsample_bylevel=None, colsample_bynode=0.6618452742592585,\n",
       "              colsample_bytree=None, device=None, early_stopping_rounds=None,\n",
       "              enable_categorical=False,\n",
       "              eval_metric=&lt;function custom_f1_score at 0x7fcf5deac680&gt;,\n",
       "              feature_types=None, gamma=None, grow_policy=None,\n",
       "              importance_type=None, interaction_constraints=None,\n",
       "              learning_rate=0.2431344834049225, max_bin=None,\n",
       "              max_cat_threshold=None, max_cat_to_onehot=None,\n",
       "              max_delta_step=None, max_depth=5, max_leaves=None,\n",
       "              min_child_weight=14, missing=nan, monotone_constraints=None,\n",
       "              multi_strategy=None, n_estimators=70, n_jobs=None,\n",
       "              num_parallel_tree=None, objective=&#x27;multi:softprob&#x27;, ...)</pre></div> </div></div></div></div>"
      ],
      "text/plain": [
       "XGBClassifier(base_score=None, booster=None, callbacks=None,\n",
       "              colsample_bylevel=None, colsample_bynode=0.6618452742592585,\n",
       "              colsample_bytree=None, device=None, early_stopping_rounds=None,\n",
       "              enable_categorical=False,\n",
       "              eval_metric=<function custom_f1_score at 0x7fcf5deac680>,\n",
       "              feature_types=None, gamma=None, grow_policy=None,\n",
       "              importance_type=None, interaction_constraints=None,\n",
       "              learning_rate=0.2431344834049225, max_bin=None,\n",
       "              max_cat_threshold=None, max_cat_to_onehot=None,\n",
       "              max_delta_step=None, max_depth=5, max_leaves=None,\n",
       "              min_child_weight=14, missing=nan, monotone_constraints=None,\n",
       "              multi_strategy=None, n_estimators=70, n_jobs=None,\n",
       "              num_parallel_tree=None, objective='multi:softprob', ...)"
      ]
     },
     "execution_count": 21,
     "metadata": {},
     "output_type": "execute_result"
    }
   ],
   "source": [
    "n_estimators = int(study.best_trial.user_attrs['best_iteration']*1.2)\n",
    "xgb = xgboost.XGBClassifier(\n",
    "        eval_metric=eval_metric,\n",
    "        n_estimators=n_estimators,\n",
    "        **study.best_trial.params\n",
    "    )\n",
    "xgb.fit(\n",
    "    ssp.vstack((X_train, X_val)), \n",
    "    np.concatenate((y_train_enc, y_val_enc)),\n",
    "    verbose=1,\n",
    ")"
   ]
  },
  {
   "cell_type": "code",
   "execution_count": 22,
   "id": "27870427",
   "metadata": {
    "execution": {
     "iopub.execute_input": "2025-05-15T16:15:50.367695Z",
     "iopub.status.busy": "2025-05-15T16:15:50.367455Z",
     "iopub.status.idle": "2025-05-15T16:15:50.390240Z",
     "shell.execute_reply": "2025-05-15T16:15:50.389867Z"
    },
    "papermill": {
     "duration": 0.033571,
     "end_time": "2025-05-15T16:15:50.391266",
     "exception": false,
     "start_time": "2025-05-15T16:15:50.357695",
     "status": "completed"
    },
    "tags": []
   },
   "outputs": [
    {
     "data": {
      "text/plain": [
       "['/scratch_isilon/groups/singlecell/shared/projects/Inflammation-PBMCs-Atlas/03_downstream_analysis/08_gene_importance/xgboost_external_validation/xgboost_TopN_genes/results_20/best_model/DC_13_4_xgb.json']"
      ]
     },
     "execution_count": 22,
     "metadata": {},
     "output_type": "execute_result"
    }
   ],
   "source": [
    "out_dir = here(f'03_downstream_analysis/08_gene_importance/xgboost_external_validation/xgboost_TopN_genes/results_{N_GENES}/best_model')\n",
    "\n",
    "if not os.path.exists(out_dir):\n",
    "    os.makedirs(out_dir)\n",
    "    \n",
    "joblib.dump(xgb, os.path.join(out_dir, f'{CELL_TYPE}_{SEED}_{TEST_SPLIT_IDX}_xgb.json'))"
   ]
  },
  {
   "cell_type": "code",
   "execution_count": 23,
   "id": "59a23e6e",
   "metadata": {
    "execution": {
     "iopub.execute_input": "2025-05-15T16:15:50.411083Z",
     "iopub.status.busy": "2025-05-15T16:15:50.410696Z",
     "iopub.status.idle": "2025-05-15T16:15:50.422838Z",
     "shell.execute_reply": "2025-05-15T16:15:50.422494Z"
    },
    "papermill": {
     "duration": 0.02308,
     "end_time": "2025-05-15T16:15:50.423865",
     "exception": false,
     "start_time": "2025-05-15T16:15:50.400785",
     "status": "completed"
    },
    "tags": []
   },
   "outputs": [],
   "source": [
    "df_pred_test = pd.DataFrame(dict(\n",
    "    cell_id=train_adata.obs.iloc[test_idxs].index.values,\n",
    "    y_true=y_test, \n",
    "    y_true_code=y_test_enc, \n",
    "    y_pred=xgb.predict(X_test))).set_index('cell_id')"
   ]
  },
  {
   "cell_type": "code",
   "execution_count": 24,
   "id": "dec00dac",
   "metadata": {
    "execution": {
     "iopub.execute_input": "2025-05-15T16:15:50.449131Z",
     "iopub.status.busy": "2025-05-15T16:15:50.448879Z",
     "iopub.status.idle": "2025-05-15T16:15:50.484194Z",
     "shell.execute_reply": "2025-05-15T16:15:50.483647Z"
    },
    "papermill": {
     "duration": 0.046803,
     "end_time": "2025-05-15T16:15:50.485136",
     "exception": false,
     "start_time": "2025-05-15T16:15:50.438333",
     "status": "completed"
    },
    "tags": []
   },
   "outputs": [],
   "source": [
    "out_dir = here(f'03_downstream_analysis/08_gene_importance/xgboost_external_validation/xgboost_TopN_genes/results_{N_GENES}/predictions')\n",
    "\n",
    "if not os.path.exists(out_dir):\n",
    "    os.makedirs(out_dir)\n",
    "    \n",
    "df_pred_test.to_csv(os.path.join(out_dir, f'{CELL_TYPE}_{SEED}_{TEST_SPLIT_IDX}_pred_test.zip'))"
   ]
  },
  {
   "cell_type": "code",
   "execution_count": 25,
   "id": "7d7a6dd9",
   "metadata": {
    "execution": {
     "iopub.execute_input": "2025-05-15T16:15:50.505196Z",
     "iopub.status.busy": "2025-05-15T16:15:50.504877Z",
     "iopub.status.idle": "2025-05-15T16:15:50.513265Z",
     "shell.execute_reply": "2025-05-15T16:15:50.512587Z"
    },
    "papermill": {
     "duration": 0.0192,
     "end_time": "2025-05-15T16:15:50.514222",
     "exception": false,
     "start_time": "2025-05-15T16:15:50.495022",
     "status": "completed"
    },
    "tags": []
   },
   "outputs": [
    {
     "name": "stderr",
     "output_type": "stream",
     "text": [
      "/scratch_isilon/groups/singlecell/shared/conda_env/xgboost-cpu/lib/python3.12/site-packages/sklearn/metrics/_classification.py:2466: UserWarning: y_pred contains classes not in y_true\n",
      "  warnings.warn(\"y_pred contains classes not in y_true\")\n"
     ]
    }
   ],
   "source": [
    "metrics_dict = dict(\n",
    "    BAS=balanced_accuracy_score(y_true=df_pred_test.y_true_code, y_pred=df_pred_test.y_pred), WF1=f1_score(y_true=df_pred_test.y_true_code, y_pred=df_pred_test.y_pred,average='weighted'))"
   ]
  },
  {
   "cell_type": "code",
   "execution_count": 26,
   "id": "2adc02da",
   "metadata": {
    "execution": {
     "iopub.execute_input": "2025-05-15T16:15:50.535673Z",
     "iopub.status.busy": "2025-05-15T16:15:50.535280Z",
     "iopub.status.idle": "2025-05-15T16:15:50.539364Z",
     "shell.execute_reply": "2025-05-15T16:15:50.539003Z"
    },
    "papermill": {
     "duration": 0.016336,
     "end_time": "2025-05-15T16:15:50.540320",
     "exception": false,
     "start_time": "2025-05-15T16:15:50.523984",
     "status": "completed"
    },
    "tags": []
   },
   "outputs": [
    {
     "data": {
      "text/plain": [
       "{'BAS': 0.6291257936042889, 'WF1': 0.8567492540857004}"
      ]
     },
     "execution_count": 26,
     "metadata": {},
     "output_type": "execute_result"
    }
   ],
   "source": [
    "metrics_dict"
   ]
  },
  {
   "cell_type": "code",
   "execution_count": 27,
   "id": "a74fa685",
   "metadata": {
    "execution": {
     "iopub.execute_input": "2025-05-15T16:15:50.561116Z",
     "iopub.status.busy": "2025-05-15T16:15:50.560858Z",
     "iopub.status.idle": "2025-05-15T16:15:50.570496Z",
     "shell.execute_reply": "2025-05-15T16:15:50.570157Z"
    },
    "papermill": {
     "duration": 0.02086,
     "end_time": "2025-05-15T16:15:50.571440",
     "exception": false,
     "start_time": "2025-05-15T16:15:50.550580",
     "status": "completed"
    },
    "tags": []
   },
   "outputs": [
    {
     "data": {
      "text/html": [
       "<div>\n",
       "<style scoped>\n",
       "    .dataframe tbody tr th:only-of-type {\n",
       "        vertical-align: middle;\n",
       "    }\n",
       "\n",
       "    .dataframe tbody tr th {\n",
       "        vertical-align: top;\n",
       "    }\n",
       "\n",
       "    .dataframe thead th {\n",
       "        text-align: right;\n",
       "    }\n",
       "</style>\n",
       "<table border=\"1\" class=\"dataframe\">\n",
       "  <thead>\n",
       "    <tr style=\"text-align: right;\">\n",
       "      <th></th>\n",
       "      <th>BAS</th>\n",
       "      <th>WF1</th>\n",
       "      <th>split_idx</th>\n",
       "      <th>gene_set_seed</th>\n",
       "      <th>cell_type</th>\n",
       "    </tr>\n",
       "  </thead>\n",
       "  <tbody>\n",
       "    <tr>\n",
       "      <th>0</th>\n",
       "      <td>0.629126</td>\n",
       "      <td>0.856749</td>\n",
       "      <td>4</td>\n",
       "      <td>13</td>\n",
       "      <td>DC</td>\n",
       "    </tr>\n",
       "  </tbody>\n",
       "</table>\n",
       "</div>"
      ],
      "text/plain": [
       "        BAS       WF1  split_idx  gene_set_seed cell_type\n",
       "0  0.629126  0.856749          4             13        DC"
      ]
     },
     "execution_count": 27,
     "metadata": {},
     "output_type": "execute_result"
    }
   ],
   "source": [
    "metrics_df = pd.DataFrame.from_dict([metrics_dict]).assign(split_idx=TEST_SPLIT_IDX, gene_set_seed=SEED, cell_type=CELL_TYPE)\n",
    "metrics_df"
   ]
  },
  {
   "cell_type": "code",
   "execution_count": 28,
   "id": "13c16fc9",
   "metadata": {
    "execution": {
     "iopub.execute_input": "2025-05-15T16:15:50.592130Z",
     "iopub.status.busy": "2025-05-15T16:15:50.591878Z",
     "iopub.status.idle": "2025-05-15T16:15:50.607869Z",
     "shell.execute_reply": "2025-05-15T16:15:50.607412Z"
    },
    "papermill": {
     "duration": 0.027262,
     "end_time": "2025-05-15T16:15:50.608794",
     "exception": false,
     "start_time": "2025-05-15T16:15:50.581532",
     "status": "completed"
    },
    "tags": []
   },
   "outputs": [],
   "source": [
    "out_dir = here(f'03_downstream_analysis/08_gene_importance/xgboost_external_validation/xgboost_TopN_genes/results_{N_GENES}/metrics')\n",
    "\n",
    "if not os.path.exists(out_dir):\n",
    "    os.makedirs(out_dir)\n",
    "    \n",
    "metrics_df.to_csv(os.path.join(out_dir, f'{CELL_TYPE}_{SEED}_{TEST_SPLIT_IDX}_metrics.zip'))"
   ]
  }
 ],
 "metadata": {
  "kernelspec": {
   "display_name": "Python 3 (ipykernel)",
   "language": "python",
   "name": "python3"
  },
  "language_info": {
   "codemirror_mode": {
    "name": "ipython",
    "version": 3
   },
   "file_extension": ".py",
   "mimetype": "text/x-python",
   "name": "python",
   "nbconvert_exporter": "python",
   "pygments_lexer": "ipython3",
   "version": "3.12.5"
  },
  "papermill": {
   "default_parameters": {},
   "duration": 41.929593,
   "end_time": "2025-05-15T16:15:51.235923",
   "environment_variables": {},
   "exception": null,
   "input_path": "02_xgboost_fitting_external_20genes.ipynb",
   "output_path": "results_20/executed_notebooks/xgboost_fitting_external_CT_DC_GS_13_seed4.ipynb",
   "parameters": {
    "CELL_TYPE": "DC",
    "SEED": 13,
    "TEST_SPLIT_IDX": 4
   },
   "start_time": "2025-05-15T16:15:09.306330",
   "version": "2.6.0"
  }
 },
 "nbformat": 4,
 "nbformat_minor": 5
}