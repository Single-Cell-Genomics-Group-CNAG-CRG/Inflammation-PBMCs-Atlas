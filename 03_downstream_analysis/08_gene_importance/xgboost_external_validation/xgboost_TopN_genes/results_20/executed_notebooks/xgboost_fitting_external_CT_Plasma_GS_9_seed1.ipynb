{
 "cells": [
  {
   "cell_type": "code",
   "execution_count": 1,
   "id": "6386c90d",
   "metadata": {
    "editable": true,
    "execution": {
     "iopub.execute_input": "2025-05-15T16:15:34.907789Z",
     "iopub.status.busy": "2025-05-15T16:15:34.907371Z",
     "iopub.status.idle": "2025-05-15T16:15:34.910230Z",
     "shell.execute_reply": "2025-05-15T16:15:34.909930Z"
    },
    "papermill": {
     "duration": 0.010832,
     "end_time": "2025-05-15T16:15:34.911094",
     "exception": false,
     "start_time": "2025-05-15T16:15:34.900262",
     "status": "completed"
    },
    "slideshow": {
     "slide_type": ""
    },
    "tags": [
     "parameters"
    ]
   },
   "outputs": [],
   "source": [
    "CELL_TYPE = 'pDC'\n",
    "N_GENES: int = 20\n",
    "SEED = 'shap_studyID' #'disease_NOstudy' 'study_NOdisease' or 'int' or 'shap_studyID'\n",
    "TEST_SPLIT_IDX: int = 1 #[0,4]"
   ]
  },
  {
   "cell_type": "code",
   "execution_count": 2,
   "id": "4a958dcd",
   "metadata": {
    "execution": {
     "iopub.execute_input": "2025-05-15T16:15:34.922033Z",
     "iopub.status.busy": "2025-05-15T16:15:34.921750Z",
     "iopub.status.idle": "2025-05-15T16:15:34.923898Z",
     "shell.execute_reply": "2025-05-15T16:15:34.923610Z"
    },
    "papermill": {
     "duration": 0.008441,
     "end_time": "2025-05-15T16:15:34.924694",
     "exception": false,
     "start_time": "2025-05-15T16:15:34.916253",
     "status": "completed"
    },
    "tags": [
     "injected-parameters"
    ]
   },
   "outputs": [],
   "source": [
    "# Parameters\n",
    "CELL_TYPE = \"Plasma\"\n",
    "SEED = 9\n",
    "TEST_SPLIT_IDX = 1\n"
   ]
  },
  {
   "cell_type": "code",
   "execution_count": 3,
   "id": "2fa5ad14",
   "metadata": {
    "execution": {
     "iopub.execute_input": "2025-05-15T16:15:34.935626Z",
     "iopub.status.busy": "2025-05-15T16:15:34.935070Z",
     "iopub.status.idle": "2025-05-15T16:15:34.937487Z",
     "shell.execute_reply": "2025-05-15T16:15:34.937184Z"
    },
    "papermill": {
     "duration": 0.008481,
     "end_time": "2025-05-15T16:15:34.938294",
     "exception": false,
     "start_time": "2025-05-15T16:15:34.929813",
     "status": "completed"
    },
    "tags": []
   },
   "outputs": [],
   "source": [
    "N_SPLITS: int = 5\n",
    "N_TRIALS: int = 50"
   ]
  },
  {
   "cell_type": "code",
   "execution_count": 4,
   "id": "979b1254",
   "metadata": {
    "execution": {
     "iopub.execute_input": "2025-05-15T16:15:34.949888Z",
     "iopub.status.busy": "2025-05-15T16:15:34.949573Z",
     "iopub.status.idle": "2025-05-15T16:15:36.310975Z",
     "shell.execute_reply": "2025-05-15T16:15:36.310448Z"
    },
    "papermill": {
     "duration": 1.368971,
     "end_time": "2025-05-15T16:15:36.312205",
     "exception": false,
     "start_time": "2025-05-15T16:15:34.943234",
     "status": "completed"
    },
    "tags": []
   },
   "outputs": [],
   "source": [
    "import os\n",
    "import sys\n",
    "from pyprojroot.here import here\n",
    "import pandas as pd\n",
    "import anndata as ad\n",
    "import numpy as np\n",
    "import math\n",
    "from sklearn.model_selection import StratifiedGroupKFold\n",
    "from sklearn.preprocessing import LabelEncoder\n",
    "from sklearn.metrics import f1_score\n",
    "import matplotlib.pyplot as plt\n",
    "import seaborn as sns\n",
    "from itertools import product\n",
    "from sklearn.metrics import balanced_accuracy_score, f1_score\n",
    "import optuna\n",
    "\n",
    "import joblib\n",
    "import pickle\n",
    "import datetime\n",
    "\n",
    "import collections\n",
    "\n",
    "import xgboost\n",
    "from sklearn.preprocessing import LabelEncoder\n",
    "\n",
    "import scipy.sparse as ssp\n",
    "import joblib\n",
    "\n",
    "from dotenv import load_dotenv"
   ]
  },
  {
   "cell_type": "code",
   "execution_count": 5,
   "id": "d41b6c62",
   "metadata": {
    "execution": {
     "iopub.execute_input": "2025-05-15T16:15:36.327092Z",
     "iopub.status.busy": "2025-05-15T16:15:36.326619Z",
     "iopub.status.idle": "2025-05-15T16:15:36.332909Z",
     "shell.execute_reply": "2025-05-15T16:15:36.332531Z"
    },
    "papermill": {
     "duration": 0.015894,
     "end_time": "2025-05-15T16:15:36.333770",
     "exception": false,
     "start_time": "2025-05-15T16:15:36.317876",
     "status": "completed"
    },
    "tags": []
   },
   "outputs": [
    {
     "data": {
      "text/plain": [
       "True"
      ]
     },
     "execution_count": 5,
     "metadata": {},
     "output_type": "execute_result"
    }
   ],
   "source": [
    "load_dotenv()"
   ]
  },
  {
   "cell_type": "markdown",
   "id": "c57f24a8",
   "metadata": {
    "papermill": {
     "duration": 0.004817,
     "end_time": "2025-05-15T16:15:36.343820",
     "exception": false,
     "start_time": "2025-05-15T16:15:36.339003",
     "status": "completed"
    },
    "tags": []
   },
   "source": [
    "# LOAD DATASET"
   ]
  },
  {
   "cell_type": "code",
   "execution_count": 6,
   "id": "f62f552a",
   "metadata": {
    "execution": {
     "iopub.execute_input": "2025-05-15T16:15:36.354314Z",
     "iopub.status.busy": "2025-05-15T16:15:36.353880Z",
     "iopub.status.idle": "2025-05-15T16:15:36.395214Z",
     "shell.execute_reply": "2025-05-15T16:15:36.394612Z"
    },
    "papermill": {
     "duration": 0.047713,
     "end_time": "2025-05-15T16:15:36.396287",
     "exception": false,
     "start_time": "2025-05-15T16:15:36.348574",
     "status": "completed"
    },
    "tags": []
   },
   "outputs": [],
   "source": [
    "train_adata = ad.read_h5ad(\n",
    "    here(f'03_downstream_analysis/08_gene_importance/xgboost_external_validation/xgboost_TopN_genes/data_cellTypes/EXTERNAL_{CELL_TYPE}.filtered.log1p.h5ad')\n",
    ")"
   ]
  },
  {
   "cell_type": "code",
   "execution_count": 7,
   "id": "d29fbb57",
   "metadata": {
    "execution": {
     "iopub.execute_input": "2025-05-15T16:15:36.407023Z",
     "iopub.status.busy": "2025-05-15T16:15:36.406744Z",
     "iopub.status.idle": "2025-05-15T16:15:36.416914Z",
     "shell.execute_reply": "2025-05-15T16:15:36.416557Z"
    },
    "papermill": {
     "duration": 0.016316,
     "end_time": "2025-05-15T16:15:36.417760",
     "exception": false,
     "start_time": "2025-05-15T16:15:36.401444",
     "status": "completed"
    },
    "tags": []
   },
   "outputs": [
    {
     "name": "stdout",
     "output_type": "stream",
     "text": [
      "['ENSG00000168394' 'ENSG00000149311' 'ENSG00000143119' 'ENSG00000108774'\n",
      " 'ENSG00000275302' 'ENSG00000185201' 'ENSG00000185591' 'ENSG00000152495'\n",
      " 'ENSG00000197329' 'ENSG00000002586' 'ENSG00000005844' 'ENSG00000104312'\n",
      " 'ENSG00000131437' 'ENSG00000140968' 'ENSG00000186010' 'ENSG00000111640'\n",
      " 'ENSG00000147168' 'ENSG00000171223' 'ENSG00000137965' 'ENSG00000185436'\n",
      " 'ENSG00000168685' 'ENSG00000146457' 'ENSG00000145850' 'ENSG00000277791'\n",
      " 'ENSG00000168811' 'ENSG00000188404' 'ENSG00000156738' 'ENSG00000205220'\n",
      " 'ENSG00000244687' 'ENSG00000111335' 'ENSG00000167996' 'ENSG00000172543'\n",
      " 'ENSG00000167283' 'ENSG00000110395' 'ENSG00000132432' 'ENSG00000105373'\n",
      " 'ENSG00000121807' 'ENSG00000176533' 'ENSG00000179218' 'ENSG00000160888'\n",
      " 'ENSG00000082074' 'ENSG00000101096' 'ENSG00000153283' 'ENSG00000179144'\n",
      " 'ENSG00000071073' 'ENSG00000106367' 'ENSG00000228474' 'ENSG00000164136'\n",
      " 'ENSG00000075945' 'ENSG00000130429' 'ENSG00000139318' 'ENSG00000197111'\n",
      " 'ENSG00000117602' 'ENSG00000102265' 'ENSG00000113811' 'ENSG00000165280'\n",
      " 'ENSG00000100280' 'ENSG00000169564' 'ENSG00000162772' 'ENSG00000175567'\n",
      " 'ENSG00000081059' 'ENSG00000125743' 'ENSG00000132002' 'ENSG00000118503'\n",
      " 'ENSG00000158050' 'ENSG00000183696' 'ENSG00000171608' 'ENSG00000001167'\n",
      " 'ENSG00000108561' 'ENSG00000075426' 'ENSG00000197872' 'ENSG00000160075'\n",
      " 'ENSG00000145247' 'ENSG00000138802' 'ENSG00000170476' 'ENSG00000167004'\n",
      " 'ENSG00000178562' 'ENSG00000105583' 'ENSG00000163191' 'ENSG00000175104'\n",
      " 'ENSG00000103490' 'ENSG00000160932' 'ENSG00000092820' 'ENSG00000048462'\n",
      " 'ENSG00000051382' 'ENSG00000121858' 'ENSG00000175390' 'ENSG00000110077'\n",
      " 'ENSG00000115875' 'ENSG00000178719' 'ENSG00000171700' 'ENSG00000143761'\n",
      " 'ENSG00000127951' 'ENSG00000139514' 'ENSG00000011590' 'ENSG00000197249'\n",
      " 'ENSG00000117523' 'ENSG00000127152' 'ENSG00000155368' 'ENSG00000135968'\n",
      " 'ENSG00000090863' 'ENSG00000142089' 'ENSG00000177721' 'ENSG00000096996'\n",
      " 'ENSG00000140564' 'ENSG00000077984' 'ENSG00000059728']\n"
     ]
    }
   ],
   "source": [
    "if SEED != 'all':\n",
    "    gene_subset = np.load(here(f'03_downstream_analysis/08_gene_importance/xgboost_external_validation/shap_gene_selection/gene_subsets_{N_GENES}/{CELL_TYPE}_{SEED}.npy'), allow_pickle=True)\n",
    "    train_adata = train_adata[:,gene_subset]\n",
    "    print(gene_subset)\n",
    "elif SEED == 'all':\n",
    "    print('Using all genes')\n",
    "else:\n",
    "    raise ValueError()"
   ]
  },
  {
   "cell_type": "code",
   "execution_count": 8,
   "id": "106509bf",
   "metadata": {
    "execution": {
     "iopub.execute_input": "2025-05-15T16:15:36.428484Z",
     "iopub.status.busy": "2025-05-15T16:15:36.428306Z",
     "iopub.status.idle": "2025-05-15T16:15:36.431247Z",
     "shell.execute_reply": "2025-05-15T16:15:36.430940Z"
    },
    "papermill": {
     "duration": 0.009175,
     "end_time": "2025-05-15T16:15:36.432081",
     "exception": false,
     "start_time": "2025-05-15T16:15:36.422906",
     "status": "completed"
    },
    "tags": []
   },
   "outputs": [
    {
     "data": {
      "text/plain": [
       "(542, 107)"
      ]
     },
     "execution_count": 8,
     "metadata": {},
     "output_type": "execute_result"
    }
   ],
   "source": [
    "train_adata.shape"
   ]
  },
  {
   "cell_type": "code",
   "execution_count": 9,
   "id": "bc96cf40",
   "metadata": {
    "execution": {
     "iopub.execute_input": "2025-05-15T16:15:36.442957Z",
     "iopub.status.busy": "2025-05-15T16:15:36.442604Z",
     "iopub.status.idle": "2025-05-15T16:15:36.446300Z",
     "shell.execute_reply": "2025-05-15T16:15:36.446002Z"
    },
    "papermill": {
     "duration": 0.010042,
     "end_time": "2025-05-15T16:15:36.447217",
     "exception": false,
     "start_time": "2025-05-15T16:15:36.437175",
     "status": "completed"
    },
    "tags": []
   },
   "outputs": [
    {
     "data": {
      "text/plain": [
       "['RA', 'COVID', 'healthy', 'HIV', 'cirrhosis', 'CD', 'SLE', 'sepsis']\n",
       "Categories (8, object): ['CD', 'COVID', 'HIV', 'RA', 'SLE', 'cirrhosis', 'healthy', 'sepsis']"
      ]
     },
     "execution_count": 9,
     "metadata": {},
     "output_type": "execute_result"
    }
   ],
   "source": [
    "train_adata.obs.disease.unique()"
   ]
  },
  {
   "cell_type": "code",
   "execution_count": 10,
   "id": "1e99a22f",
   "metadata": {
    "execution": {
     "iopub.execute_input": "2025-05-15T16:15:36.458831Z",
     "iopub.status.busy": "2025-05-15T16:15:36.458647Z",
     "iopub.status.idle": "2025-05-15T16:15:36.462203Z",
     "shell.execute_reply": "2025-05-15T16:15:36.461890Z"
    },
    "papermill": {
     "duration": 0.01022,
     "end_time": "2025-05-15T16:15:36.463222",
     "exception": false,
     "start_time": "2025-05-15T16:15:36.453002",
     "status": "completed"
    },
    "tags": []
   },
   "outputs": [
    {
     "data": {
      "text/plain": [
       "['SCGT00val_I0364_T0', 'SCGT00val_I036019_T0', 'SCGT00val_I036028_T0', 'SCGT00val_I036024_T0', 'SCGT00val_I036016_T0', ..., '10XGenomics_10XHC2_T0', '10XGenomics_10XHC3_T0', '10XGenomics_10XHC5_T0', '10XGenomics_10XHC7_T0', '10XGenomics_10XHC8_T0']\n",
       "Length: 74\n",
       "Categories (74, object): ['10XGenomics_10XHC1_T0', '10XGenomics_10XHC2_T0', '10XGenomics_10XHC3_T0', '10XGenomics_10XHC4_T0', ..., 'Savage2021_BRISL6_T0', 'Savage2021_BRISL7_T0', 'Savage2021_PIDA_T0', 'Savage2021_PIDB_T0']"
      ]
     },
     "execution_count": 10,
     "metadata": {},
     "output_type": "execute_result"
    }
   ],
   "source": [
    "train_adata.obs.sampleID.unique()"
   ]
  },
  {
   "cell_type": "code",
   "execution_count": 11,
   "id": "9895ed6d",
   "metadata": {
    "execution": {
     "iopub.execute_input": "2025-05-15T16:15:36.474707Z",
     "iopub.status.busy": "2025-05-15T16:15:36.474273Z",
     "iopub.status.idle": "2025-05-15T16:15:36.502737Z",
     "shell.execute_reply": "2025-05-15T16:15:36.502347Z"
    },
    "papermill": {
     "duration": 0.035053,
     "end_time": "2025-05-15T16:15:36.503559",
     "exception": false,
     "start_time": "2025-05-15T16:15:36.468506",
     "status": "completed"
    },
    "tags": []
   },
   "outputs": [],
   "source": [
    "all_idxs = np.arange(train_adata.obs.shape[0])\n",
    "left_out_splits = [s[1] for s in StratifiedGroupKFold(n_splits=N_SPLITS).split(all_idxs, train_adata.obs.disease, train_adata.obs.sampleID)]"
   ]
  },
  {
   "cell_type": "code",
   "execution_count": 12,
   "id": "dfcb8d66",
   "metadata": {
    "execution": {
     "iopub.execute_input": "2025-05-15T16:15:36.514979Z",
     "iopub.status.busy": "2025-05-15T16:15:36.514580Z",
     "iopub.status.idle": "2025-05-15T16:15:36.517684Z",
     "shell.execute_reply": "2025-05-15T16:15:36.517395Z"
    },
    "papermill": {
     "duration": 0.009376,
     "end_time": "2025-05-15T16:15:36.518471",
     "exception": false,
     "start_time": "2025-05-15T16:15:36.509095",
     "status": "completed"
    },
    "tags": []
   },
   "outputs": [
    {
     "data": {
      "text/plain": [
       "([0, 3, 4], 2, 1)"
      ]
     },
     "execution_count": 12,
     "metadata": {},
     "output_type": "execute_result"
    }
   ],
   "source": [
    "TRAIN_SPLIT_IDXS = [0,1,2,3,4]\n",
    "VAL_SPLIT_IDX = (TEST_SPLIT_IDX + 1) % 5\n",
    "TRAIN_SPLIT_IDXS.remove(TEST_SPLIT_IDX)\n",
    "TRAIN_SPLIT_IDXS.remove(VAL_SPLIT_IDX)\n",
    "TRAIN_SPLIT_IDXS, VAL_SPLIT_IDX, TEST_SPLIT_IDX"
   ]
  },
  {
   "cell_type": "code",
   "execution_count": 13,
   "id": "9a4ec783",
   "metadata": {
    "execution": {
     "iopub.execute_input": "2025-05-15T16:15:36.530077Z",
     "iopub.status.busy": "2025-05-15T16:15:36.529675Z",
     "iopub.status.idle": "2025-05-15T16:15:36.531985Z",
     "shell.execute_reply": "2025-05-15T16:15:36.531692Z"
    },
    "papermill": {
     "duration": 0.00902,
     "end_time": "2025-05-15T16:15:36.532882",
     "exception": false,
     "start_time": "2025-05-15T16:15:36.523862",
     "status": "completed"
    },
    "tags": []
   },
   "outputs": [],
   "source": [
    "train_idxs = np.concatenate([left_out_splits[idx] for idx in TRAIN_SPLIT_IDXS])\n",
    "val_idxs = left_out_splits[VAL_SPLIT_IDX]\n",
    "test_idxs = left_out_splits[TEST_SPLIT_IDX]"
   ]
  },
  {
   "cell_type": "markdown",
   "id": "ac18b404",
   "metadata": {
    "papermill": {
     "duration": 0.005613,
     "end_time": "2025-05-15T16:15:36.544232",
     "exception": false,
     "start_time": "2025-05-15T16:15:36.538619",
     "status": "completed"
    },
    "tags": []
   },
   "source": [
    "### SUBSET DATASET INTO TRAIN/TEST/VAL SPLITS"
   ]
  },
  {
   "cell_type": "code",
   "execution_count": 14,
   "id": "d59de192",
   "metadata": {
    "execution": {
     "iopub.execute_input": "2025-05-15T16:15:36.557074Z",
     "iopub.status.busy": "2025-05-15T16:15:36.556832Z",
     "iopub.status.idle": "2025-05-15T16:15:36.562654Z",
     "shell.execute_reply": "2025-05-15T16:15:36.562372Z"
    },
    "papermill": {
     "duration": 0.013455,
     "end_time": "2025-05-15T16:15:36.563691",
     "exception": false,
     "start_time": "2025-05-15T16:15:36.550236",
     "status": "completed"
    },
    "tags": []
   },
   "outputs": [
    {
     "data": {
      "text/plain": [
       "((333, 107), (107, 107), (102, 107))"
      ]
     },
     "execution_count": 14,
     "metadata": {},
     "output_type": "execute_result"
    }
   ],
   "source": [
    "X_train = train_adata.X[train_idxs]\n",
    "X_test = train_adata.X[test_idxs]\n",
    "X_val = train_adata.X[val_idxs]\n",
    "X_train.shape, X_test.shape, X_val.shape"
   ]
  },
  {
   "cell_type": "code",
   "execution_count": 15,
   "id": "b58bac8f",
   "metadata": {
    "execution": {
     "iopub.execute_input": "2025-05-15T16:15:36.576411Z",
     "iopub.status.busy": "2025-05-15T16:15:36.576144Z",
     "iopub.status.idle": "2025-05-15T16:15:36.580647Z",
     "shell.execute_reply": "2025-05-15T16:15:36.580361Z"
    },
    "papermill": {
     "duration": 0.012027,
     "end_time": "2025-05-15T16:15:36.581494",
     "exception": false,
     "start_time": "2025-05-15T16:15:36.569467",
     "status": "completed"
    },
    "tags": []
   },
   "outputs": [
    {
     "data": {
      "text/plain": [
       "((333,), (107,), (102,))"
      ]
     },
     "execution_count": 15,
     "metadata": {},
     "output_type": "execute_result"
    }
   ],
   "source": [
    "y_train = train_adata.obs.iloc[train_idxs].disease.values.astype(str)\n",
    "y_test = train_adata.obs.iloc[test_idxs].disease.values.astype(str)\n",
    "y_val = train_adata.obs.iloc[val_idxs].disease.values.astype(str)\n",
    "y_train.shape, y_test.shape, y_val.shape"
   ]
  },
  {
   "cell_type": "code",
   "execution_count": 16,
   "id": "fbb37056",
   "metadata": {
    "execution": {
     "iopub.execute_input": "2025-05-15T16:15:36.593902Z",
     "iopub.status.busy": "2025-05-15T16:15:36.593603Z",
     "iopub.status.idle": "2025-05-15T16:15:36.596293Z",
     "shell.execute_reply": "2025-05-15T16:15:36.596007Z"
    },
    "papermill": {
     "duration": 0.009743,
     "end_time": "2025-05-15T16:15:36.597099",
     "exception": false,
     "start_time": "2025-05-15T16:15:36.587356",
     "status": "completed"
    },
    "tags": []
   },
   "outputs": [],
   "source": [
    "lenc = LabelEncoder()\n",
    "y_train_enc = lenc.fit_transform(y_train)\n",
    "y_val_enc = lenc.transform(y_val)\n",
    "y_test_enc = lenc.transform(y_test)"
   ]
  },
  {
   "cell_type": "markdown",
   "id": "a1482f2d",
   "metadata": {
    "papermill": {
     "duration": 0.005657,
     "end_time": "2025-05-15T16:15:36.608635",
     "exception": false,
     "start_time": "2025-05-15T16:15:36.602978",
     "status": "completed"
    },
    "tags": []
   },
   "source": [
    "### GENERATE F1 "
   ]
  },
  {
   "cell_type": "code",
   "execution_count": 17,
   "id": "d9ff1340",
   "metadata": {
    "execution": {
     "iopub.execute_input": "2025-05-15T16:15:36.620898Z",
     "iopub.status.busy": "2025-05-15T16:15:36.620619Z",
     "iopub.status.idle": "2025-05-15T16:15:36.622838Z",
     "shell.execute_reply": "2025-05-15T16:15:36.622544Z"
    },
    "papermill": {
     "duration": 0.009529,
     "end_time": "2025-05-15T16:15:36.623648",
     "exception": false,
     "start_time": "2025-05-15T16:15:36.614119",
     "status": "completed"
    },
    "tags": []
   },
   "outputs": [],
   "source": [
    "def custom_f1_score(y_true, y_pred):\n",
    "    return -f1_score(y_true, y_pred.argmax(1), average='weighted')"
   ]
  },
  {
   "cell_type": "code",
   "execution_count": 18,
   "id": "1232c559",
   "metadata": {
    "execution": {
     "iopub.execute_input": "2025-05-15T16:15:36.635710Z",
     "iopub.status.busy": "2025-05-15T16:15:36.635367Z",
     "iopub.status.idle": "2025-05-15T16:15:36.639132Z",
     "shell.execute_reply": "2025-05-15T16:15:36.638731Z"
    },
    "papermill": {
     "duration": 0.010448,
     "end_time": "2025-05-15T16:15:36.639894",
     "exception": false,
     "start_time": "2025-05-15T16:15:36.629446",
     "status": "completed"
    },
    "tags": []
   },
   "outputs": [],
   "source": [
    "eval_metric=custom_f1_score\n",
    "eval_metric_name='custom_f1_score'\n",
    "\n",
    "def objective(trial):\n",
    "    params = {\n",
    "        'n_estimators': 1500,\n",
    "        'max_depth': trial.suggest_int('max_depth', 3, 20),\n",
    "        'min_child_weight': trial.suggest_int('min_child_weight', 1, 250),\n",
    "        'subsample': trial.suggest_float('subsample', 0.1, 1.0),\n",
    "        'colsample_bynode': trial.suggest_float('colsample_bynode', 0.1, 1.0),\n",
    "        'learning_rate': trial.suggest_float('learning_rate', 1e-3, 5e-1, log=True),\n",
    "    }\n",
    "    pruning_callback = optuna.integration.XGBoostPruningCallback(trial, f'validation_0-{eval_metric_name}')\n",
    "    es_callback = xgboost.callback.EarlyStopping(20, min_delta=0.001)\n",
    "    xgb = xgboost.XGBClassifier(\n",
    "        eval_metric=eval_metric,\n",
    "        callbacks=[pruning_callback, es_callback],\n",
    "        n_jobs=5,\n",
    "        **params\n",
    "    )\n",
    "    xgb.fit(\n",
    "        X_train, \n",
    "        y_train_enc, \n",
    "        verbose=0,\n",
    "        eval_set=[(X_val, y_val_enc)],\n",
    "    )\n",
    "    trial.set_user_attr('best_iteration', xgb.best_iteration)\n",
    "\n",
    "    return xgb.best_score"
   ]
  },
  {
   "cell_type": "code",
   "execution_count": 19,
   "id": "affb7d20",
   "metadata": {
    "execution": {
     "iopub.execute_input": "2025-05-15T16:15:36.651267Z",
     "iopub.status.busy": "2025-05-15T16:15:36.651094Z",
     "iopub.status.idle": "2025-05-15T16:15:46.331392Z",
     "shell.execute_reply": "2025-05-15T16:15:46.330872Z"
    },
    "papermill": {
     "duration": 9.687202,
     "end_time": "2025-05-15T16:15:46.332655",
     "exception": false,
     "start_time": "2025-05-15T16:15:36.645453",
     "status": "completed"
    },
    "scrolled": true,
    "tags": []
   },
   "outputs": [
    {
     "name": "stderr",
     "output_type": "stream",
     "text": [
      "[I 2025-05-15 18:15:36,652] A new study created in memory with name: no-name-99588bc3-67d2-4b37-a4b4-8d1b910bd051\n"
     ]
    },
    {
     "name": "stderr",
     "output_type": "stream",
     "text": [
      "[I 2025-05-15 18:15:36,715] Trial 0 finished with value: -0.03313 and parameters: {'max_depth': 9, 'min_child_weight': 238, 'subsample': 0.7587945476302645, 'colsample_bynode': 0.6387926357773329, 'learning_rate': 0.0026368755339723046}. Best is trial 0 with value: -0.03313.\n"
     ]
    },
    {
     "name": "stderr",
     "output_type": "stream",
     "text": [
      "[I 2025-05-15 18:15:36,908] Trial 1 finished with value: -0.307049 and parameters: {'max_depth': 5, 'min_child_weight': 15, 'subsample': 0.8795585311974417, 'colsample_bynode': 0.6410035105688879, 'learning_rate': 0.08148293210105287}. Best is trial 1 with value: -0.307049.\n"
     ]
    },
    {
     "name": "stderr",
     "output_type": "stream",
     "text": [
      "[I 2025-05-15 18:15:37,040] Trial 2 finished with value: -0.03313 and parameters: {'max_depth': 3, 'min_child_weight': 243, 'subsample': 0.8491983767203796, 'colsample_bynode': 0.29110519961044856, 'learning_rate': 0.003095566460242371}. Best is trial 1 with value: -0.307049.\n"
     ]
    },
    {
     "name": "stderr",
     "output_type": "stream",
     "text": [
      "[I 2025-05-15 18:15:37,171] Trial 3 finished with value: -0.03313 and parameters: {'max_depth': 6, 'min_child_weight': 77, 'subsample': 0.5722807884690141, 'colsample_bynode': 0.48875051677790415, 'learning_rate': 0.006109683510122491}. Best is trial 1 with value: -0.307049.\n"
     ]
    },
    {
     "name": "stderr",
     "output_type": "stream",
     "text": [
      "[I 2025-05-15 18:15:37,307] Trial 4 finished with value: -0.03313 and parameters: {'max_depth': 14, 'min_child_weight': 35, 'subsample': 0.3629301836816964, 'colsample_bynode': 0.4297256589643226, 'learning_rate': 0.01701841881702917}. Best is trial 1 with value: -0.307049.\n"
     ]
    },
    {
     "name": "stderr",
     "output_type": "stream",
     "text": [
      "[I 2025-05-15 18:15:37,448] Trial 5 finished with value: -0.03313 and parameters: {'max_depth': 17, 'min_child_weight': 50, 'subsample': 0.5628109945722505, 'colsample_bynode': 0.6331731119758383, 'learning_rate': 0.0013346527038305934}. Best is trial 1 with value: -0.307049.\n"
     ]
    },
    {
     "name": "stderr",
     "output_type": "stream",
     "text": [
      "[I 2025-05-15 18:15:37,584] Trial 6 finished with value: -0.03313 and parameters: {'max_depth': 13, 'min_child_weight': 43, 'subsample': 0.1585464336867516, 'colsample_bynode': 0.9539969835279999, 'learning_rate': 0.4038423798071558}. Best is trial 1 with value: -0.307049.\n"
     ]
    },
    {
     "name": "stderr",
     "output_type": "stream",
     "text": [
      "[I 2025-05-15 18:15:37,721] Trial 7 finished with value: -0.03313 and parameters: {'max_depth': 17, 'min_child_weight': 77, 'subsample': 0.1879049026057455, 'colsample_bynode': 0.7158097238609412, 'learning_rate': 0.015415527060141935}. Best is trial 1 with value: -0.307049.\n"
     ]
    },
    {
     "name": "stderr",
     "output_type": "stream",
     "text": [
      "[I 2025-05-15 18:15:37,863] Trial 8 finished with value: -0.03313 and parameters: {'max_depth': 5, 'min_child_weight': 124, 'subsample': 0.13094966900369656, 'colsample_bynode': 0.9183883618709039, 'learning_rate': 0.004993895014755658}. Best is trial 1 with value: -0.307049.\n"
     ]
    },
    {
     "name": "stderr",
     "output_type": "stream",
     "text": [
      "[I 2025-05-15 18:15:38,001] Trial 9 finished with value: -0.03313 and parameters: {'max_depth': 14, 'min_child_weight': 78, 'subsample': 0.5680612190600297, 'colsample_bynode': 0.5920392514089517, 'learning_rate': 0.0031543990308330965}. Best is trial 1 with value: -0.307049.\n"
     ]
    },
    {
     "name": "stderr",
     "output_type": "stream",
     "text": [
      "[I 2025-05-15 18:15:38,528] Trial 10 finished with value: -0.428054 and parameters: {'max_depth': 9, 'min_child_weight': 2, 'subsample': 0.9725833997090791, 'colsample_bynode': 0.11616568805333755, 'learning_rate': 0.17780618353487967}. Best is trial 10 with value: -0.428054.\n"
     ]
    },
    {
     "name": "stderr",
     "output_type": "stream",
     "text": [
      "[I 2025-05-15 18:15:38,870] Trial 11 pruned. Trial was pruned at iteration 30.\n"
     ]
    },
    {
     "name": "stderr",
     "output_type": "stream",
     "text": [
      "[I 2025-05-15 18:15:39,218] Trial 12 pruned. Trial was pruned at iteration 29.\n"
     ]
    },
    {
     "name": "stderr",
     "output_type": "stream",
     "text": [
      "[I 2025-05-15 18:15:39,384] Trial 13 finished with value: -0.03313 and parameters: {'max_depth': 6, 'min_child_weight': 173, 'subsample': 0.790863397930712, 'colsample_bynode': 0.8100137258468498, 'learning_rate': 0.09009490635410385}. Best is trial 10 with value: -0.428054.\n"
     ]
    },
    {
     "name": "stderr",
     "output_type": "stream",
     "text": [
      "[I 2025-05-15 18:15:39,542] Trial 14 finished with value: -0.03313 and parameters: {'max_depth': 11, 'min_child_weight': 132, 'subsample': 0.8756857866758896, 'colsample_bynode': 0.37234427067556525, 'learning_rate': 0.33580116263734355}. Best is trial 10 with value: -0.428054.\n"
     ]
    },
    {
     "name": "stderr",
     "output_type": "stream",
     "text": [
      "[I 2025-05-15 18:15:39,954] Trial 15 finished with value: -0.418649 and parameters: {'max_depth': 20, 'min_child_weight': 1, 'subsample': 0.6960027044621645, 'colsample_bynode': 0.29820978139149346, 'learning_rate': 0.03580498851951521}. Best is trial 10 with value: -0.428054.\n"
     ]
    },
    {
     "name": "stderr",
     "output_type": "stream",
     "text": [
      "[I 2025-05-15 18:15:40,098] Trial 16 finished with value: -0.03313 and parameters: {'max_depth': 20, 'min_child_weight': 116, 'subsample': 0.6730263351162008, 'colsample_bynode': 0.2727828997776047, 'learning_rate': 0.04069492241758615}. Best is trial 10 with value: -0.428054.\n"
     ]
    },
    {
     "name": "stderr",
     "output_type": "stream",
     "text": [
      "[I 2025-05-15 18:15:40,248] Trial 17 finished with value: -0.03313 and parameters: {'max_depth': 20, 'min_child_weight': 183, 'subsample': 0.4247113570339343, 'colsample_bynode': 0.12785121757072282, 'learning_rate': 0.2299310555205761}. Best is trial 10 with value: -0.428054.\n"
     ]
    },
    {
     "name": "stderr",
     "output_type": "stream",
     "text": [
      "[I 2025-05-15 18:15:40,402] Trial 18 finished with value: -0.166667 and parameters: {'max_depth': 17, 'min_child_weight': 37, 'subsample': 0.6810314786755066, 'colsample_bynode': 0.2665066863805862, 'learning_rate': 0.03874577508783683}. Best is trial 10 with value: -0.428054.\n"
     ]
    },
    {
     "name": "stderr",
     "output_type": "stream",
     "text": [
      "[I 2025-05-15 18:15:40,549] Trial 19 finished with value: -0.03313 and parameters: {'max_depth': 11, 'min_child_weight': 99, 'subsample': 0.4449158851718158, 'colsample_bynode': 0.3679418363674778, 'learning_rate': 0.184705251713814}. Best is trial 10 with value: -0.428054.\n"
     ]
    },
    {
     "name": "stderr",
     "output_type": "stream",
     "text": [
      "[I 2025-05-15 18:15:40,695] Trial 20 finished with value: -0.03313 and parameters: {'max_depth': 8, 'min_child_weight': 59, 'subsample': 0.7034906283443978, 'colsample_bynode': 0.20927736326660645, 'learning_rate': 0.02795316968542322}. Best is trial 10 with value: -0.428054.\n"
     ]
    },
    {
     "name": "stderr",
     "output_type": "stream",
     "text": [
      "[I 2025-05-15 18:15:40,877] Trial 21 pruned. Trial was pruned at iteration 21.\n"
     ]
    },
    {
     "name": "stderr",
     "output_type": "stream",
     "text": [
      "[I 2025-05-15 18:15:41,239] Trial 22 finished with value: -0.396097 and parameters: {'max_depth': 5, 'min_child_weight': 2, 'subsample': 0.9226694909907923, 'colsample_bynode': 0.7065234741891823, 'learning_rate': 0.1532797666777473}. Best is trial 10 with value: -0.428054.\n"
     ]
    },
    {
     "name": "stderr",
     "output_type": "stream",
     "text": [
      "[I 2025-05-15 18:15:41,432] Trial 23 pruned. Trial was pruned at iteration 21.\n"
     ]
    },
    {
     "name": "stderr",
     "output_type": "stream",
     "text": [
      "[I 2025-05-15 18:15:41,591] Trial 24 finished with value: -0.03313 and parameters: {'max_depth': 12, 'min_child_weight': 60, 'subsample': 0.7825765063552437, 'colsample_bynode': 0.8162809857042157, 'learning_rate': 0.010411200658390636}. Best is trial 10 with value: -0.428054.\n"
     ]
    },
    {
     "name": "stderr",
     "output_type": "stream",
     "text": [
      "[I 2025-05-15 18:15:41,874] Trial 25 pruned. Trial was pruned at iteration 37.\n"
     ]
    },
    {
     "name": "stderr",
     "output_type": "stream",
     "text": [
      "[I 2025-05-15 18:15:42,031] Trial 26 pruned. Trial was pruned at iteration 21.\n"
     ]
    },
    {
     "name": "stderr",
     "output_type": "stream",
     "text": [
      "[I 2025-05-15 18:15:42,181] Trial 27 finished with value: -0.03313 and parameters: {'max_depth': 10, 'min_child_weight': 165, 'subsample': 0.8138871702585931, 'colsample_bynode': 0.336953977151347, 'learning_rate': 0.04675365154451305}. Best is trial 10 with value: -0.428054.\n"
     ]
    },
    {
     "name": "stderr",
     "output_type": "stream",
     "text": [
      "[I 2025-05-15 18:15:42,335] Trial 28 finished with value: -0.03313 and parameters: {'max_depth': 7, 'min_child_weight': 209, 'subsample': 0.9262508065463787, 'colsample_bynode': 0.41885926193580825, 'learning_rate': 0.14643090405097756}. Best is trial 10 with value: -0.428054.\n"
     ]
    },
    {
     "name": "stderr",
     "output_type": "stream",
     "text": [
      "[I 2025-05-15 18:15:42,485] Trial 29 finished with value: -0.03313 and parameters: {'max_depth': 8, 'min_child_weight': 101, 'subsample': 0.7461643466838445, 'colsample_bynode': 0.5064355432829684, 'learning_rate': 0.05590077096713094}. Best is trial 10 with value: -0.428054.\n"
     ]
    },
    {
     "name": "stderr",
     "output_type": "stream",
     "text": [
      "[I 2025-05-15 18:15:42,641] Trial 30 finished with value: -0.03313 and parameters: {'max_depth': 10, 'min_child_weight': 150, 'subsample': 0.48408877480742074, 'colsample_bynode': 0.6842806967999209, 'learning_rate': 0.027106705113553353}. Best is trial 10 with value: -0.428054.\n"
     ]
    },
    {
     "name": "stderr",
     "output_type": "stream",
     "text": [
      "[I 2025-05-15 18:15:42,833] Trial 31 finished with value: -0.323374 and parameters: {'max_depth': 5, 'min_child_weight': 19, 'subsample': 0.8961104960398099, 'colsample_bynode': 0.6245605679262596, 'learning_rate': 0.08934419237628653}. Best is trial 10 with value: -0.428054.\n"
     ]
    },
    {
     "name": "stderr",
     "output_type": "stream",
     "text": [
      "[I 2025-05-15 18:15:43,016] Trial 32 pruned. Trial was pruned at iteration 21.\n"
     ]
    },
    {
     "name": "stderr",
     "output_type": "stream",
     "text": [
      "[I 2025-05-15 18:15:43,307] Trial 33 pruned. Trial was pruned at iteration 21.\n"
     ]
    },
    {
     "name": "stderr",
     "output_type": "stream",
     "text": [
      "[I 2025-05-15 18:15:43,485] Trial 34 pruned. Trial was pruned at iteration 21.\n"
     ]
    },
    {
     "name": "stderr",
     "output_type": "stream",
     "text": [
      "[I 2025-05-15 18:15:43,689] Trial 35 pruned. Trial was pruned at iteration 28.\n"
     ]
    },
    {
     "name": "stderr",
     "output_type": "stream",
     "text": [
      "[I 2025-05-15 18:15:43,840] Trial 36 finished with value: -0.166667 and parameters: {'max_depth': 7, 'min_child_weight': 49, 'subsample': 0.8487503886558603, 'colsample_bynode': 0.4547138006238975, 'learning_rate': 0.08085760486360793}. Best is trial 10 with value: -0.428054.\n"
     ]
    },
    {
     "name": "stderr",
     "output_type": "stream",
     "text": [
      "[I 2025-05-15 18:15:43,989] Trial 37 finished with value: -0.03313 and parameters: {'max_depth': 18, 'min_child_weight': 66, 'subsample': 0.6279881916269285, 'colsample_bynode': 0.5354610941595421, 'learning_rate': 0.016714917730033793}. Best is trial 10 with value: -0.428054.\n"
     ]
    },
    {
     "name": "stderr",
     "output_type": "stream",
     "text": [
      "[I 2025-05-15 18:15:44,145] Trial 38 finished with value: -0.166667 and parameters: {'max_depth': 4, 'min_child_weight': 14, 'subsample': 0.25720599485408774, 'colsample_bynode': 0.3240367305525651, 'learning_rate': 0.03322138782797648}. Best is trial 10 with value: -0.428054.\n"
     ]
    },
    {
     "name": "stderr",
     "output_type": "stream",
     "text": [
      "[I 2025-05-15 18:15:44,300] Trial 39 finished with value: -0.166667 and parameters: {'max_depth': 15, 'min_child_weight': 39, 'subsample': 0.8896588374135628, 'colsample_bynode': 0.6183802636901408, 'learning_rate': 0.011182617020071863}. Best is trial 10 with value: -0.428054.\n"
     ]
    },
    {
     "name": "stderr",
     "output_type": "stream",
     "text": [
      "[I 2025-05-15 18:15:44,454] Trial 40 finished with value: -0.03313 and parameters: {'max_depth': 8, 'min_child_weight': 218, 'subsample': 0.8110992428338384, 'colsample_bynode': 0.6960928125502843, 'learning_rate': 0.34469594988856356}. Best is trial 10 with value: -0.428054.\n"
     ]
    },
    {
     "name": "stderr",
     "output_type": "stream",
     "text": [
      "[I 2025-05-15 18:15:44,709] Trial 41 pruned. Trial was pruned at iteration 30.\n"
     ]
    },
    {
     "name": "stderr",
     "output_type": "stream",
     "text": [
      "[I 2025-05-15 18:15:44,878] Trial 42 pruned. Trial was pruned at iteration 21.\n"
     ]
    },
    {
     "name": "stderr",
     "output_type": "stream",
     "text": [
      "[I 2025-05-15 18:15:45,112] Trial 43 pruned. Trial was pruned at iteration 21.\n"
     ]
    },
    {
     "name": "stderr",
     "output_type": "stream",
     "text": [
      "[I 2025-05-15 18:15:45,269] Trial 44 pruned. Trial was pruned at iteration 21.\n"
     ]
    },
    {
     "name": "stderr",
     "output_type": "stream",
     "text": [
      "[I 2025-05-15 18:15:45,519] Trial 45 pruned. Trial was pruned at iteration 21.\n"
     ]
    },
    {
     "name": "stderr",
     "output_type": "stream",
     "text": [
      "[I 2025-05-15 18:15:45,672] Trial 46 finished with value: -0.03313 and parameters: {'max_depth': 7, 'min_child_weight': 80, 'subsample': 0.8793718838535025, 'colsample_bynode': 0.17454917593161384, 'learning_rate': 0.14004204641744006}. Best is trial 10 with value: -0.428054.\n"
     ]
    },
    {
     "name": "stderr",
     "output_type": "stream",
     "text": [
      "[I 2025-05-15 18:15:45,840] Trial 47 pruned. Trial was pruned at iteration 21.\n"
     ]
    },
    {
     "name": "stderr",
     "output_type": "stream",
     "text": [
      "[I 2025-05-15 18:15:45,997] Trial 48 finished with value: -0.03313 and parameters: {'max_depth': 6, 'min_child_weight': 51, 'subsample': 0.5144308267032431, 'colsample_bynode': 0.5386435154399173, 'learning_rate': 0.2921852456612444}. Best is trial 10 with value: -0.428054.\n"
     ]
    },
    {
     "name": "stderr",
     "output_type": "stream",
     "text": [
      "[I 2025-05-15 18:15:46,252] Trial 49 pruned. Trial was pruned at iteration 21.\n"
     ]
    }
   ],
   "source": [
    "sampler = optuna.samplers.TPESampler(seed=42)\n",
    "study = optuna.create_study(direction='minimize', sampler=sampler)\n",
    "study.optimize(objective, n_trials=N_TRIALS, gc_after_trial=True)"
   ]
  },
  {
   "cell_type": "code",
   "execution_count": 20,
   "id": "a347b5c3",
   "metadata": {
    "execution": {
     "iopub.execute_input": "2025-05-15T16:15:46.351485Z",
     "iopub.status.busy": "2025-05-15T16:15:46.350856Z",
     "iopub.status.idle": "2025-05-15T16:15:46.372425Z",
     "shell.execute_reply": "2025-05-15T16:15:46.372101Z"
    },
    "papermill": {
     "duration": 0.031486,
     "end_time": "2025-05-15T16:15:46.373262",
     "exception": false,
     "start_time": "2025-05-15T16:15:46.341776",
     "status": "completed"
    },
    "tags": []
   },
   "outputs": [
    {
     "data": {
      "text/plain": [
       "['/scratch_isilon/groups/singlecell/shared/projects/Inflammation-PBMCs-Atlas/03_downstream_analysis/08_gene_importance/xgboost_external_validation/xgboost_TopN_genes/results_20/study/Plasma_9_1_xgboost.pkl']"
      ]
     },
     "execution_count": 20,
     "metadata": {},
     "output_type": "execute_result"
    }
   ],
   "source": [
    "out_dir = here(f'03_downstream_analysis/08_gene_importance/xgboost_external_validation/xgboost_TopN_genes/results_{N_GENES}/study')\n",
    "\n",
    "if not os.path.exists(out_dir):\n",
    "    os.makedirs(out_dir)\n",
    "    \n",
    "joblib.dump(study,os.path.join(out_dir, f'{CELL_TYPE}_{SEED}_{TEST_SPLIT_IDX}_xgboost.pkl'))"
   ]
  },
  {
   "cell_type": "code",
   "execution_count": 21,
   "id": "876c669a",
   "metadata": {
    "execution": {
     "iopub.execute_input": "2025-05-15T16:15:46.390948Z",
     "iopub.status.busy": "2025-05-15T16:15:46.390488Z",
     "iopub.status.idle": "2025-05-15T16:15:46.760601Z",
     "shell.execute_reply": "2025-05-15T16:15:46.760265Z"
    },
    "papermill": {
     "duration": 0.38038,
     "end_time": "2025-05-15T16:15:46.761604",
     "exception": false,
     "start_time": "2025-05-15T16:15:46.381224",
     "status": "completed"
    },
    "tags": []
   },
   "outputs": [
    {
     "data": {
      "text/html": [
       "<style>#sk-container-id-1 {\n",
       "  /* Definition of color scheme common for light and dark mode */\n",
       "  --sklearn-color-text: black;\n",
       "  --sklearn-color-line: gray;\n",
       "  /* Definition of color scheme for unfitted estimators */\n",
       "  --sklearn-color-unfitted-level-0: #fff5e6;\n",
       "  --sklearn-color-unfitted-level-1: #f6e4d2;\n",
       "  --sklearn-color-unfitted-level-2: #ffe0b3;\n",
       "  --sklearn-color-unfitted-level-3: chocolate;\n",
       "  /* Definition of color scheme for fitted estimators */\n",
       "  --sklearn-color-fitted-level-0: #f0f8ff;\n",
       "  --sklearn-color-fitted-level-1: #d4ebff;\n",
       "  --sklearn-color-fitted-level-2: #b3dbfd;\n",
       "  --sklearn-color-fitted-level-3: cornflowerblue;\n",
       "\n",
       "  /* Specific color for light theme */\n",
       "  --sklearn-color-text-on-default-background: var(--sg-text-color, var(--theme-code-foreground, var(--jp-content-font-color1, black)));\n",
       "  --sklearn-color-background: var(--sg-background-color, var(--theme-background, var(--jp-layout-color0, white)));\n",
       "  --sklearn-color-border-box: var(--sg-text-color, var(--theme-code-foreground, var(--jp-content-font-color1, black)));\n",
       "  --sklearn-color-icon: #696969;\n",
       "\n",
       "  @media (prefers-color-scheme: dark) {\n",
       "    /* Redefinition of color scheme for dark theme */\n",
       "    --sklearn-color-text-on-default-background: var(--sg-text-color, var(--theme-code-foreground, var(--jp-content-font-color1, white)));\n",
       "    --sklearn-color-background: var(--sg-background-color, var(--theme-background, var(--jp-layout-color0, #111)));\n",
       "    --sklearn-color-border-box: var(--sg-text-color, var(--theme-code-foreground, var(--jp-content-font-color1, white)));\n",
       "    --sklearn-color-icon: #878787;\n",
       "  }\n",
       "}\n",
       "\n",
       "#sk-container-id-1 {\n",
       "  color: var(--sklearn-color-text);\n",
       "}\n",
       "\n",
       "#sk-container-id-1 pre {\n",
       "  padding: 0;\n",
       "}\n",
       "\n",
       "#sk-container-id-1 input.sk-hidden--visually {\n",
       "  border: 0;\n",
       "  clip: rect(1px 1px 1px 1px);\n",
       "  clip: rect(1px, 1px, 1px, 1px);\n",
       "  height: 1px;\n",
       "  margin: -1px;\n",
       "  overflow: hidden;\n",
       "  padding: 0;\n",
       "  position: absolute;\n",
       "  width: 1px;\n",
       "}\n",
       "\n",
       "#sk-container-id-1 div.sk-dashed-wrapped {\n",
       "  border: 1px dashed var(--sklearn-color-line);\n",
       "  margin: 0 0.4em 0.5em 0.4em;\n",
       "  box-sizing: border-box;\n",
       "  padding-bottom: 0.4em;\n",
       "  background-color: var(--sklearn-color-background);\n",
       "}\n",
       "\n",
       "#sk-container-id-1 div.sk-container {\n",
       "  /* jupyter's `normalize.less` sets `[hidden] { display: none; }`\n",
       "     but bootstrap.min.css set `[hidden] { display: none !important; }`\n",
       "     so we also need the `!important` here to be able to override the\n",
       "     default hidden behavior on the sphinx rendered scikit-learn.org.\n",
       "     See: https://github.com/scikit-learn/scikit-learn/issues/21755 */\n",
       "  display: inline-block !important;\n",
       "  position: relative;\n",
       "}\n",
       "\n",
       "#sk-container-id-1 div.sk-text-repr-fallback {\n",
       "  display: none;\n",
       "}\n",
       "\n",
       "div.sk-parallel-item,\n",
       "div.sk-serial,\n",
       "div.sk-item {\n",
       "  /* draw centered vertical line to link estimators */\n",
       "  background-image: linear-gradient(var(--sklearn-color-text-on-default-background), var(--sklearn-color-text-on-default-background));\n",
       "  background-size: 2px 100%;\n",
       "  background-repeat: no-repeat;\n",
       "  background-position: center center;\n",
       "}\n",
       "\n",
       "/* Parallel-specific style estimator block */\n",
       "\n",
       "#sk-container-id-1 div.sk-parallel-item::after {\n",
       "  content: \"\";\n",
       "  width: 100%;\n",
       "  border-bottom: 2px solid var(--sklearn-color-text-on-default-background);\n",
       "  flex-grow: 1;\n",
       "}\n",
       "\n",
       "#sk-container-id-1 div.sk-parallel {\n",
       "  display: flex;\n",
       "  align-items: stretch;\n",
       "  justify-content: center;\n",
       "  background-color: var(--sklearn-color-background);\n",
       "  position: relative;\n",
       "}\n",
       "\n",
       "#sk-container-id-1 div.sk-parallel-item {\n",
       "  display: flex;\n",
       "  flex-direction: column;\n",
       "}\n",
       "\n",
       "#sk-container-id-1 div.sk-parallel-item:first-child::after {\n",
       "  align-self: flex-end;\n",
       "  width: 50%;\n",
       "}\n",
       "\n",
       "#sk-container-id-1 div.sk-parallel-item:last-child::after {\n",
       "  align-self: flex-start;\n",
       "  width: 50%;\n",
       "}\n",
       "\n",
       "#sk-container-id-1 div.sk-parallel-item:only-child::after {\n",
       "  width: 0;\n",
       "}\n",
       "\n",
       "/* Serial-specific style estimator block */\n",
       "\n",
       "#sk-container-id-1 div.sk-serial {\n",
       "  display: flex;\n",
       "  flex-direction: column;\n",
       "  align-items: center;\n",
       "  background-color: var(--sklearn-color-background);\n",
       "  padding-right: 1em;\n",
       "  padding-left: 1em;\n",
       "}\n",
       "\n",
       "\n",
       "/* Toggleable style: style used for estimator/Pipeline/ColumnTransformer box that is\n",
       "clickable and can be expanded/collapsed.\n",
       "- Pipeline and ColumnTransformer use this feature and define the default style\n",
       "- Estimators will overwrite some part of the style using the `sk-estimator` class\n",
       "*/\n",
       "\n",
       "/* Pipeline and ColumnTransformer style (default) */\n",
       "\n",
       "#sk-container-id-1 div.sk-toggleable {\n",
       "  /* Default theme specific background. It is overwritten whether we have a\n",
       "  specific estimator or a Pipeline/ColumnTransformer */\n",
       "  background-color: var(--sklearn-color-background);\n",
       "}\n",
       "\n",
       "/* Toggleable label */\n",
       "#sk-container-id-1 label.sk-toggleable__label {\n",
       "  cursor: pointer;\n",
       "  display: block;\n",
       "  width: 100%;\n",
       "  margin-bottom: 0;\n",
       "  padding: 0.5em;\n",
       "  box-sizing: border-box;\n",
       "  text-align: center;\n",
       "}\n",
       "\n",
       "#sk-container-id-1 label.sk-toggleable__label-arrow:before {\n",
       "  /* Arrow on the left of the label */\n",
       "  content: \"▸\";\n",
       "  float: left;\n",
       "  margin-right: 0.25em;\n",
       "  color: var(--sklearn-color-icon);\n",
       "}\n",
       "\n",
       "#sk-container-id-1 label.sk-toggleable__label-arrow:hover:before {\n",
       "  color: var(--sklearn-color-text);\n",
       "}\n",
       "\n",
       "/* Toggleable content - dropdown */\n",
       "\n",
       "#sk-container-id-1 div.sk-toggleable__content {\n",
       "  max-height: 0;\n",
       "  max-width: 0;\n",
       "  overflow: hidden;\n",
       "  text-align: left;\n",
       "  /* unfitted */\n",
       "  background-color: var(--sklearn-color-unfitted-level-0);\n",
       "}\n",
       "\n",
       "#sk-container-id-1 div.sk-toggleable__content.fitted {\n",
       "  /* fitted */\n",
       "  background-color: var(--sklearn-color-fitted-level-0);\n",
       "}\n",
       "\n",
       "#sk-container-id-1 div.sk-toggleable__content pre {\n",
       "  margin: 0.2em;\n",
       "  border-radius: 0.25em;\n",
       "  color: var(--sklearn-color-text);\n",
       "  /* unfitted */\n",
       "  background-color: var(--sklearn-color-unfitted-level-0);\n",
       "}\n",
       "\n",
       "#sk-container-id-1 div.sk-toggleable__content.fitted pre {\n",
       "  /* unfitted */\n",
       "  background-color: var(--sklearn-color-fitted-level-0);\n",
       "}\n",
       "\n",
       "#sk-container-id-1 input.sk-toggleable__control:checked~div.sk-toggleable__content {\n",
       "  /* Expand drop-down */\n",
       "  max-height: 200px;\n",
       "  max-width: 100%;\n",
       "  overflow: auto;\n",
       "}\n",
       "\n",
       "#sk-container-id-1 input.sk-toggleable__control:checked~label.sk-toggleable__label-arrow:before {\n",
       "  content: \"▾\";\n",
       "}\n",
       "\n",
       "/* Pipeline/ColumnTransformer-specific style */\n",
       "\n",
       "#sk-container-id-1 div.sk-label input.sk-toggleable__control:checked~label.sk-toggleable__label {\n",
       "  color: var(--sklearn-color-text);\n",
       "  background-color: var(--sklearn-color-unfitted-level-2);\n",
       "}\n",
       "\n",
       "#sk-container-id-1 div.sk-label.fitted input.sk-toggleable__control:checked~label.sk-toggleable__label {\n",
       "  background-color: var(--sklearn-color-fitted-level-2);\n",
       "}\n",
       "\n",
       "/* Estimator-specific style */\n",
       "\n",
       "/* Colorize estimator box */\n",
       "#sk-container-id-1 div.sk-estimator input.sk-toggleable__control:checked~label.sk-toggleable__label {\n",
       "  /* unfitted */\n",
       "  background-color: var(--sklearn-color-unfitted-level-2);\n",
       "}\n",
       "\n",
       "#sk-container-id-1 div.sk-estimator.fitted input.sk-toggleable__control:checked~label.sk-toggleable__label {\n",
       "  /* fitted */\n",
       "  background-color: var(--sklearn-color-fitted-level-2);\n",
       "}\n",
       "\n",
       "#sk-container-id-1 div.sk-label label.sk-toggleable__label,\n",
       "#sk-container-id-1 div.sk-label label {\n",
       "  /* The background is the default theme color */\n",
       "  color: var(--sklearn-color-text-on-default-background);\n",
       "}\n",
       "\n",
       "/* On hover, darken the color of the background */\n",
       "#sk-container-id-1 div.sk-label:hover label.sk-toggleable__label {\n",
       "  color: var(--sklearn-color-text);\n",
       "  background-color: var(--sklearn-color-unfitted-level-2);\n",
       "}\n",
       "\n",
       "/* Label box, darken color on hover, fitted */\n",
       "#sk-container-id-1 div.sk-label.fitted:hover label.sk-toggleable__label.fitted {\n",
       "  color: var(--sklearn-color-text);\n",
       "  background-color: var(--sklearn-color-fitted-level-2);\n",
       "}\n",
       "\n",
       "/* Estimator label */\n",
       "\n",
       "#sk-container-id-1 div.sk-label label {\n",
       "  font-family: monospace;\n",
       "  font-weight: bold;\n",
       "  display: inline-block;\n",
       "  line-height: 1.2em;\n",
       "}\n",
       "\n",
       "#sk-container-id-1 div.sk-label-container {\n",
       "  text-align: center;\n",
       "}\n",
       "\n",
       "/* Estimator-specific */\n",
       "#sk-container-id-1 div.sk-estimator {\n",
       "  font-family: monospace;\n",
       "  border: 1px dotted var(--sklearn-color-border-box);\n",
       "  border-radius: 0.25em;\n",
       "  box-sizing: border-box;\n",
       "  margin-bottom: 0.5em;\n",
       "  /* unfitted */\n",
       "  background-color: var(--sklearn-color-unfitted-level-0);\n",
       "}\n",
       "\n",
       "#sk-container-id-1 div.sk-estimator.fitted {\n",
       "  /* fitted */\n",
       "  background-color: var(--sklearn-color-fitted-level-0);\n",
       "}\n",
       "\n",
       "/* on hover */\n",
       "#sk-container-id-1 div.sk-estimator:hover {\n",
       "  /* unfitted */\n",
       "  background-color: var(--sklearn-color-unfitted-level-2);\n",
       "}\n",
       "\n",
       "#sk-container-id-1 div.sk-estimator.fitted:hover {\n",
       "  /* fitted */\n",
       "  background-color: var(--sklearn-color-fitted-level-2);\n",
       "}\n",
       "\n",
       "/* Specification for estimator info (e.g. \"i\" and \"?\") */\n",
       "\n",
       "/* Common style for \"i\" and \"?\" */\n",
       "\n",
       ".sk-estimator-doc-link,\n",
       "a:link.sk-estimator-doc-link,\n",
       "a:visited.sk-estimator-doc-link {\n",
       "  float: right;\n",
       "  font-size: smaller;\n",
       "  line-height: 1em;\n",
       "  font-family: monospace;\n",
       "  background-color: var(--sklearn-color-background);\n",
       "  border-radius: 1em;\n",
       "  height: 1em;\n",
       "  width: 1em;\n",
       "  text-decoration: none !important;\n",
       "  margin-left: 1ex;\n",
       "  /* unfitted */\n",
       "  border: var(--sklearn-color-unfitted-level-1) 1pt solid;\n",
       "  color: var(--sklearn-color-unfitted-level-1);\n",
       "}\n",
       "\n",
       ".sk-estimator-doc-link.fitted,\n",
       "a:link.sk-estimator-doc-link.fitted,\n",
       "a:visited.sk-estimator-doc-link.fitted {\n",
       "  /* fitted */\n",
       "  border: var(--sklearn-color-fitted-level-1) 1pt solid;\n",
       "  color: var(--sklearn-color-fitted-level-1);\n",
       "}\n",
       "\n",
       "/* On hover */\n",
       "div.sk-estimator:hover .sk-estimator-doc-link:hover,\n",
       ".sk-estimator-doc-link:hover,\n",
       "div.sk-label-container:hover .sk-estimator-doc-link:hover,\n",
       ".sk-estimator-doc-link:hover {\n",
       "  /* unfitted */\n",
       "  background-color: var(--sklearn-color-unfitted-level-3);\n",
       "  color: var(--sklearn-color-background);\n",
       "  text-decoration: none;\n",
       "}\n",
       "\n",
       "div.sk-estimator.fitted:hover .sk-estimator-doc-link.fitted:hover,\n",
       ".sk-estimator-doc-link.fitted:hover,\n",
       "div.sk-label-container:hover .sk-estimator-doc-link.fitted:hover,\n",
       ".sk-estimator-doc-link.fitted:hover {\n",
       "  /* fitted */\n",
       "  background-color: var(--sklearn-color-fitted-level-3);\n",
       "  color: var(--sklearn-color-background);\n",
       "  text-decoration: none;\n",
       "}\n",
       "\n",
       "/* Span, style for the box shown on hovering the info icon */\n",
       ".sk-estimator-doc-link span {\n",
       "  display: none;\n",
       "  z-index: 9999;\n",
       "  position: relative;\n",
       "  font-weight: normal;\n",
       "  right: .2ex;\n",
       "  padding: .5ex;\n",
       "  margin: .5ex;\n",
       "  width: min-content;\n",
       "  min-width: 20ex;\n",
       "  max-width: 50ex;\n",
       "  color: var(--sklearn-color-text);\n",
       "  box-shadow: 2pt 2pt 4pt #999;\n",
       "  /* unfitted */\n",
       "  background: var(--sklearn-color-unfitted-level-0);\n",
       "  border: .5pt solid var(--sklearn-color-unfitted-level-3);\n",
       "}\n",
       "\n",
       ".sk-estimator-doc-link.fitted span {\n",
       "  /* fitted */\n",
       "  background: var(--sklearn-color-fitted-level-0);\n",
       "  border: var(--sklearn-color-fitted-level-3);\n",
       "}\n",
       "\n",
       ".sk-estimator-doc-link:hover span {\n",
       "  display: block;\n",
       "}\n",
       "\n",
       "/* \"?\"-specific style due to the `<a>` HTML tag */\n",
       "\n",
       "#sk-container-id-1 a.estimator_doc_link {\n",
       "  float: right;\n",
       "  font-size: 1rem;\n",
       "  line-height: 1em;\n",
       "  font-family: monospace;\n",
       "  background-color: var(--sklearn-color-background);\n",
       "  border-radius: 1rem;\n",
       "  height: 1rem;\n",
       "  width: 1rem;\n",
       "  text-decoration: none;\n",
       "  /* unfitted */\n",
       "  color: var(--sklearn-color-unfitted-level-1);\n",
       "  border: var(--sklearn-color-unfitted-level-1) 1pt solid;\n",
       "}\n",
       "\n",
       "#sk-container-id-1 a.estimator_doc_link.fitted {\n",
       "  /* fitted */\n",
       "  border: var(--sklearn-color-fitted-level-1) 1pt solid;\n",
       "  color: var(--sklearn-color-fitted-level-1);\n",
       "}\n",
       "\n",
       "/* On hover */\n",
       "#sk-container-id-1 a.estimator_doc_link:hover {\n",
       "  /* unfitted */\n",
       "  background-color: var(--sklearn-color-unfitted-level-3);\n",
       "  color: var(--sklearn-color-background);\n",
       "  text-decoration: none;\n",
       "}\n",
       "\n",
       "#sk-container-id-1 a.estimator_doc_link.fitted:hover {\n",
       "  /* fitted */\n",
       "  background-color: var(--sklearn-color-fitted-level-3);\n",
       "}\n",
       "</style><div id=\"sk-container-id-1\" class=\"sk-top-container\"><div class=\"sk-text-repr-fallback\"><pre>XGBClassifier(base_score=None, booster=None, callbacks=None,\n",
       "              colsample_bylevel=None, colsample_bynode=0.11616568805333755,\n",
       "              colsample_bytree=None, device=None, early_stopping_rounds=None,\n",
       "              enable_categorical=False,\n",
       "              eval_metric=&lt;function custom_f1_score at 0x7febe2e3b7e0&gt;,\n",
       "              feature_types=None, gamma=None, grow_policy=None,\n",
       "              importance_type=None, interaction_constraints=None,\n",
       "              learning_rate=0.17780618353487967, max_bin=None,\n",
       "              max_cat_threshold=None, max_cat_to_onehot=None,\n",
       "              max_delta_step=None, max_depth=9, max_leaves=None,\n",
       "              min_child_weight=2, missing=nan, monotone_constraints=None,\n",
       "              multi_strategy=None, n_estimators=48, n_jobs=None,\n",
       "              num_parallel_tree=None, objective=&#x27;multi:softprob&#x27;, ...)</pre><b>In a Jupyter environment, please rerun this cell to show the HTML representation or trust the notebook. <br />On GitHub, the HTML representation is unable to render, please try loading this page with nbviewer.org.</b></div><div class=\"sk-container\" hidden><div class=\"sk-item\"><div class=\"sk-estimator fitted sk-toggleable\"><input class=\"sk-toggleable__control sk-hidden--visually\" id=\"sk-estimator-id-1\" type=\"checkbox\" checked><label for=\"sk-estimator-id-1\" class=\"sk-toggleable__label fitted sk-toggleable__label-arrow fitted\">&nbsp;XGBClassifier<span class=\"sk-estimator-doc-link fitted\">i<span>Fitted</span></span></label><div class=\"sk-toggleable__content fitted\"><pre>XGBClassifier(base_score=None, booster=None, callbacks=None,\n",
       "              colsample_bylevel=None, colsample_bynode=0.11616568805333755,\n",
       "              colsample_bytree=None, device=None, early_stopping_rounds=None,\n",
       "              enable_categorical=False,\n",
       "              eval_metric=&lt;function custom_f1_score at 0x7febe2e3b7e0&gt;,\n",
       "              feature_types=None, gamma=None, grow_policy=None,\n",
       "              importance_type=None, interaction_constraints=None,\n",
       "              learning_rate=0.17780618353487967, max_bin=None,\n",
       "              max_cat_threshold=None, max_cat_to_onehot=None,\n",
       "              max_delta_step=None, max_depth=9, max_leaves=None,\n",
       "              min_child_weight=2, missing=nan, monotone_constraints=None,\n",
       "              multi_strategy=None, n_estimators=48, n_jobs=None,\n",
       "              num_parallel_tree=None, objective=&#x27;multi:softprob&#x27;, ...)</pre></div> </div></div></div></div>"
      ],
      "text/plain": [
       "XGBClassifier(base_score=None, booster=None, callbacks=None,\n",
       "              colsample_bylevel=None, colsample_bynode=0.11616568805333755,\n",
       "              colsample_bytree=None, device=None, early_stopping_rounds=None,\n",
       "              enable_categorical=False,\n",
       "              eval_metric=<function custom_f1_score at 0x7febe2e3b7e0>,\n",
       "              feature_types=None, gamma=None, grow_policy=None,\n",
       "              importance_type=None, interaction_constraints=None,\n",
       "              learning_rate=0.17780618353487967, max_bin=None,\n",
       "              max_cat_threshold=None, max_cat_to_onehot=None,\n",
       "              max_delta_step=None, max_depth=9, max_leaves=None,\n",
       "              min_child_weight=2, missing=nan, monotone_constraints=None,\n",
       "              multi_strategy=None, n_estimators=48, n_jobs=None,\n",
       "              num_parallel_tree=None, objective='multi:softprob', ...)"
      ]
     },
     "execution_count": 21,
     "metadata": {},
     "output_type": "execute_result"
    }
   ],
   "source": [
    "n_estimators = int(study.best_trial.user_attrs['best_iteration']*1.2)\n",
    "xgb = xgboost.XGBClassifier(\n",
    "        eval_metric=eval_metric,\n",
    "        n_estimators=n_estimators,\n",
    "        **study.best_trial.params\n",
    "    )\n",
    "xgb.fit(\n",
    "    ssp.vstack((X_train, X_val)), \n",
    "    np.concatenate((y_train_enc, y_val_enc)),\n",
    "    verbose=1,\n",
    ")"
   ]
  },
  {
   "cell_type": "code",
   "execution_count": 22,
   "id": "c7237f0c",
   "metadata": {
    "execution": {
     "iopub.execute_input": "2025-05-15T16:15:46.780683Z",
     "iopub.status.busy": "2025-05-15T16:15:46.780469Z",
     "iopub.status.idle": "2025-05-15T16:15:46.817483Z",
     "shell.execute_reply": "2025-05-15T16:15:46.817117Z"
    },
    "papermill": {
     "duration": 0.04764,
     "end_time": "2025-05-15T16:15:46.818368",
     "exception": false,
     "start_time": "2025-05-15T16:15:46.770728",
     "status": "completed"
    },
    "tags": []
   },
   "outputs": [
    {
     "data": {
      "text/plain": [
       "['/scratch_isilon/groups/singlecell/shared/projects/Inflammation-PBMCs-Atlas/03_downstream_analysis/08_gene_importance/xgboost_external_validation/xgboost_TopN_genes/results_20/best_model/Plasma_9_1_xgb.json']"
      ]
     },
     "execution_count": 22,
     "metadata": {},
     "output_type": "execute_result"
    }
   ],
   "source": [
    "out_dir = here(f'03_downstream_analysis/08_gene_importance/xgboost_external_validation/xgboost_TopN_genes/results_{N_GENES}/best_model')\n",
    "\n",
    "if not os.path.exists(out_dir):\n",
    "    os.makedirs(out_dir)\n",
    "    \n",
    "joblib.dump(xgb, os.path.join(out_dir, f'{CELL_TYPE}_{SEED}_{TEST_SPLIT_IDX}_xgb.json'))"
   ]
  },
  {
   "cell_type": "code",
   "execution_count": 23,
   "id": "d2502fe1",
   "metadata": {
    "execution": {
     "iopub.execute_input": "2025-05-15T16:15:46.837296Z",
     "iopub.status.busy": "2025-05-15T16:15:46.837089Z",
     "iopub.status.idle": "2025-05-15T16:15:46.842507Z",
     "shell.execute_reply": "2025-05-15T16:15:46.842187Z"
    },
    "papermill": {
     "duration": 0.019272,
     "end_time": "2025-05-15T16:15:46.847257",
     "exception": false,
     "start_time": "2025-05-15T16:15:46.827985",
     "status": "completed"
    },
    "tags": []
   },
   "outputs": [],
   "source": [
    "df_pred_test = pd.DataFrame(dict(\n",
    "    cell_id=train_adata.obs.iloc[test_idxs].index.values,\n",
    "    y_true=y_test, \n",
    "    y_true_code=y_test_enc, \n",
    "    y_pred=xgb.predict(X_test))).set_index('cell_id')"
   ]
  },
  {
   "cell_type": "code",
   "execution_count": 24,
   "id": "655e0f2e",
   "metadata": {
    "execution": {
     "iopub.execute_input": "2025-05-15T16:15:46.880127Z",
     "iopub.status.busy": "2025-05-15T16:15:46.879855Z",
     "iopub.status.idle": "2025-05-15T16:15:46.910657Z",
     "shell.execute_reply": "2025-05-15T16:15:46.910220Z"
    },
    "papermill": {
     "duration": 0.04258,
     "end_time": "2025-05-15T16:15:46.912043",
     "exception": false,
     "start_time": "2025-05-15T16:15:46.869463",
     "status": "completed"
    },
    "tags": []
   },
   "outputs": [],
   "source": [
    "out_dir = here(f'03_downstream_analysis/08_gene_importance/xgboost_external_validation/xgboost_TopN_genes/results_{N_GENES}/predictions')\n",
    "\n",
    "if not os.path.exists(out_dir):\n",
    "    os.makedirs(out_dir)\n",
    "    \n",
    "df_pred_test.to_csv(os.path.join(out_dir, f'{CELL_TYPE}_{SEED}_{TEST_SPLIT_IDX}_pred_test.zip'))"
   ]
  },
  {
   "cell_type": "code",
   "execution_count": 25,
   "id": "20d3961b",
   "metadata": {
    "execution": {
     "iopub.execute_input": "2025-05-15T16:15:46.931394Z",
     "iopub.status.busy": "2025-05-15T16:15:46.930988Z",
     "iopub.status.idle": "2025-05-15T16:15:46.937025Z",
     "shell.execute_reply": "2025-05-15T16:15:46.936612Z"
    },
    "papermill": {
     "duration": 0.016687,
     "end_time": "2025-05-15T16:15:46.937834",
     "exception": false,
     "start_time": "2025-05-15T16:15:46.921147",
     "status": "completed"
    },
    "tags": []
   },
   "outputs": [],
   "source": [
    "metrics_dict = dict(\n",
    "    BAS=balanced_accuracy_score(y_true=df_pred_test.y_true_code, y_pred=df_pred_test.y_pred), WF1=f1_score(y_true=df_pred_test.y_true_code, y_pred=df_pred_test.y_pred,average='weighted'))"
   ]
  },
  {
   "cell_type": "code",
   "execution_count": 26,
   "id": "b8890c74",
   "metadata": {
    "execution": {
     "iopub.execute_input": "2025-05-15T16:15:46.956351Z",
     "iopub.status.busy": "2025-05-15T16:15:46.956057Z",
     "iopub.status.idle": "2025-05-15T16:15:46.959092Z",
     "shell.execute_reply": "2025-05-15T16:15:46.958784Z"
    },
    "papermill": {
     "duration": 0.013225,
     "end_time": "2025-05-15T16:15:46.959883",
     "exception": false,
     "start_time": "2025-05-15T16:15:46.946658",
     "status": "completed"
    },
    "tags": []
   },
   "outputs": [
    {
     "data": {
      "text/plain": [
       "{'BAS': 0.29777983454454043, 'WF1': 0.47094669108580217}"
      ]
     },
     "execution_count": 26,
     "metadata": {},
     "output_type": "execute_result"
    }
   ],
   "source": [
    "metrics_dict"
   ]
  },
  {
   "cell_type": "code",
   "execution_count": 27,
   "id": "9a874c49",
   "metadata": {
    "execution": {
     "iopub.execute_input": "2025-05-15T16:15:46.978483Z",
     "iopub.status.busy": "2025-05-15T16:15:46.978188Z",
     "iopub.status.idle": "2025-05-15T16:15:46.986835Z",
     "shell.execute_reply": "2025-05-15T16:15:46.986517Z"
    },
    "papermill": {
     "duration": 0.01882,
     "end_time": "2025-05-15T16:15:46.987634",
     "exception": false,
     "start_time": "2025-05-15T16:15:46.968814",
     "status": "completed"
    },
    "tags": []
   },
   "outputs": [
    {
     "data": {
      "text/html": [
       "<div>\n",
       "<style scoped>\n",
       "    .dataframe tbody tr th:only-of-type {\n",
       "        vertical-align: middle;\n",
       "    }\n",
       "\n",
       "    .dataframe tbody tr th {\n",
       "        vertical-align: top;\n",
       "    }\n",
       "\n",
       "    .dataframe thead th {\n",
       "        text-align: right;\n",
       "    }\n",
       "</style>\n",
       "<table border=\"1\" class=\"dataframe\">\n",
       "  <thead>\n",
       "    <tr style=\"text-align: right;\">\n",
       "      <th></th>\n",
       "      <th>BAS</th>\n",
       "      <th>WF1</th>\n",
       "      <th>split_idx</th>\n",
       "      <th>gene_set_seed</th>\n",
       "      <th>cell_type</th>\n",
       "    </tr>\n",
       "  </thead>\n",
       "  <tbody>\n",
       "    <tr>\n",
       "      <th>0</th>\n",
       "      <td>0.29778</td>\n",
       "      <td>0.470947</td>\n",
       "      <td>1</td>\n",
       "      <td>9</td>\n",
       "      <td>Plasma</td>\n",
       "    </tr>\n",
       "  </tbody>\n",
       "</table>\n",
       "</div>"
      ],
      "text/plain": [
       "       BAS       WF1  split_idx  gene_set_seed cell_type\n",
       "0  0.29778  0.470947          1              9    Plasma"
      ]
     },
     "execution_count": 27,
     "metadata": {},
     "output_type": "execute_result"
    }
   ],
   "source": [
    "metrics_df = pd.DataFrame.from_dict([metrics_dict]).assign(split_idx=TEST_SPLIT_IDX, gene_set_seed=SEED, cell_type=CELL_TYPE)\n",
    "metrics_df"
   ]
  },
  {
   "cell_type": "code",
   "execution_count": 28,
   "id": "c26fb765",
   "metadata": {
    "execution": {
     "iopub.execute_input": "2025-05-15T16:15:47.013516Z",
     "iopub.status.busy": "2025-05-15T16:15:47.013084Z",
     "iopub.status.idle": "2025-05-15T16:15:47.021881Z",
     "shell.execute_reply": "2025-05-15T16:15:47.021513Z"
    },
    "papermill": {
     "duration": 0.02045,
     "end_time": "2025-05-15T16:15:47.023121",
     "exception": false,
     "start_time": "2025-05-15T16:15:47.002671",
     "status": "completed"
    },
    "tags": []
   },
   "outputs": [],
   "source": [
    "out_dir = here(f'03_downstream_analysis/08_gene_importance/xgboost_external_validation/xgboost_TopN_genes/results_{N_GENES}/metrics')\n",
    "\n",
    "if not os.path.exists(out_dir):\n",
    "    os.makedirs(out_dir)\n",
    "    \n",
    "metrics_df.to_csv(os.path.join(out_dir, f'{CELL_TYPE}_{SEED}_{TEST_SPLIT_IDX}_metrics.zip'))"
   ]
  }
 ],
 "metadata": {
  "kernelspec": {
   "display_name": "Python 3 (ipykernel)",
   "language": "python",
   "name": "python3"
  },
  "language_info": {
   "codemirror_mode": {
    "name": "ipython",
    "version": 3
   },
   "file_extension": ".py",
   "mimetype": "text/x-python",
   "name": "python",
   "nbconvert_exporter": "python",
   "pygments_lexer": "ipython3",
   "version": "3.12.5"
  },
  "papermill": {
   "default_parameters": {},
   "duration": 13.929645,
   "end_time": "2025-05-15T16:15:47.649457",
   "environment_variables": {},
   "exception": null,
   "input_path": "02_xgboost_fitting_external_20genes.ipynb",
   "output_path": "results_20/executed_notebooks/xgboost_fitting_external_CT_Plasma_GS_9_seed1.ipynb",
   "parameters": {
    "CELL_TYPE": "Plasma",
    "SEED": 9,
    "TEST_SPLIT_IDX": 1
   },
   "start_time": "2025-05-15T16:15:33.719812",
   "version": "2.6.0"
  }
 },
 "nbformat": 4,
 "nbformat_minor": 5
}