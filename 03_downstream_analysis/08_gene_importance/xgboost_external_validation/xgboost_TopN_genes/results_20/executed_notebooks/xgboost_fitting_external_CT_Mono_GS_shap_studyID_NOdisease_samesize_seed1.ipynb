{
 "cells": [
  {
   "cell_type": "code",
   "execution_count": 1,
   "id": "b5799928",
   "metadata": {
    "editable": true,
    "execution": {
     "iopub.execute_input": "2025-06-13T13:00:55.222753Z",
     "iopub.status.busy": "2025-06-13T13:00:55.222338Z",
     "iopub.status.idle": "2025-06-13T13:00:55.226507Z",
     "shell.execute_reply": "2025-06-13T13:00:55.226069Z"
    },
    "papermill": {
     "duration": 0.013129,
     "end_time": "2025-06-13T13:00:55.227544",
     "exception": false,
     "start_time": "2025-06-13T13:00:55.214415",
     "status": "completed"
    },
    "slideshow": {
     "slide_type": ""
    },
    "tags": [
     "parameters"
    ]
   },
   "outputs": [],
   "source": [
    "CELL_TYPE = 'pDC'\n",
    "N_GENES: int = 20\n",
    "SEED = 'shap_studyID' #'disease_NOstudy' 'study_NOdisease' or 'int' or 'shap_studyID'\n",
    "TEST_SPLIT_IDX: int = 1 #[0,4]"
   ]
  },
  {
   "cell_type": "code",
   "execution_count": 2,
   "id": "6c0b7b3d",
   "metadata": {
    "execution": {
     "iopub.execute_input": "2025-06-13T13:00:55.241909Z",
     "iopub.status.busy": "2025-06-13T13:00:55.241473Z",
     "iopub.status.idle": "2025-06-13T13:00:55.244721Z",
     "shell.execute_reply": "2025-06-13T13:00:55.244331Z"
    },
    "papermill": {
     "duration": 0.0123,
     "end_time": "2025-06-13T13:00:55.245741",
     "exception": false,
     "start_time": "2025-06-13T13:00:55.233441",
     "status": "completed"
    },
    "tags": [
     "injected-parameters"
    ]
   },
   "outputs": [],
   "source": [
    "# Parameters\n",
    "CELL_TYPE = \"Mono\"\n",
    "SEED = \"shap_studyID_NOdisease_samesize\"\n",
    "TEST_SPLIT_IDX = 1\n"
   ]
  },
  {
   "cell_type": "code",
   "execution_count": 3,
   "id": "bd5171ab",
   "metadata": {
    "execution": {
     "iopub.execute_input": "2025-06-13T13:00:55.264598Z",
     "iopub.status.busy": "2025-06-13T13:00:55.264029Z",
     "iopub.status.idle": "2025-06-13T13:00:55.266714Z",
     "shell.execute_reply": "2025-06-13T13:00:55.266278Z"
    },
    "papermill": {
     "duration": 0.013195,
     "end_time": "2025-06-13T13:00:55.267784",
     "exception": false,
     "start_time": "2025-06-13T13:00:55.254589",
     "status": "completed"
    },
    "tags": []
   },
   "outputs": [],
   "source": [
    "N_SPLITS: int = 5\n",
    "N_TRIALS: int = 50"
   ]
  },
  {
   "cell_type": "code",
   "execution_count": 4,
   "id": "22395b0b",
   "metadata": {
    "execution": {
     "iopub.execute_input": "2025-06-13T13:00:55.282146Z",
     "iopub.status.busy": "2025-06-13T13:00:55.281705Z",
     "iopub.status.idle": "2025-06-13T13:00:57.256798Z",
     "shell.execute_reply": "2025-06-13T13:00:57.256323Z"
    },
    "papermill": {
     "duration": 2.006668,
     "end_time": "2025-06-13T13:00:57.279940",
     "exception": false,
     "start_time": "2025-06-13T13:00:55.273272",
     "status": "completed"
    },
    "tags": []
   },
   "outputs": [],
   "source": [
    "import os\n",
    "import sys\n",
    "from pyprojroot.here import here\n",
    "import pandas as pd\n",
    "import anndata as ad\n",
    "import numpy as np\n",
    "import math\n",
    "from sklearn.model_selection import StratifiedGroupKFold\n",
    "from sklearn.preprocessing import LabelEncoder\n",
    "from sklearn.metrics import f1_score\n",
    "import matplotlib.pyplot as plt\n",
    "import seaborn as sns\n",
    "from itertools import product\n",
    "from sklearn.metrics import balanced_accuracy_score, f1_score\n",
    "import optuna\n",
    "\n",
    "import joblib\n",
    "import pickle\n",
    "import datetime\n",
    "\n",
    "import collections\n",
    "\n",
    "import xgboost\n",
    "from sklearn.preprocessing import LabelEncoder\n",
    "\n",
    "import scipy.sparse as ssp\n",
    "import joblib\n",
    "\n",
    "from dotenv import load_dotenv"
   ]
  },
  {
   "cell_type": "code",
   "execution_count": 5,
   "id": "c65f8951",
   "metadata": {
    "execution": {
     "iopub.execute_input": "2025-06-13T13:00:57.297309Z",
     "iopub.status.busy": "2025-06-13T13:00:57.296914Z",
     "iopub.status.idle": "2025-06-13T13:00:57.303104Z",
     "shell.execute_reply": "2025-06-13T13:00:57.302773Z"
    },
    "papermill": {
     "duration": 0.016476,
     "end_time": "2025-06-13T13:00:57.304061",
     "exception": false,
     "start_time": "2025-06-13T13:00:57.287585",
     "status": "completed"
    },
    "tags": []
   },
   "outputs": [
    {
     "data": {
      "text/plain": [
       "True"
      ]
     },
     "execution_count": 5,
     "metadata": {},
     "output_type": "execute_result"
    }
   ],
   "source": [
    "load_dotenv()"
   ]
  },
  {
   "cell_type": "markdown",
   "id": "ad98a5f5",
   "metadata": {
    "papermill": {
     "duration": 0.02297,
     "end_time": "2025-06-13T13:00:57.332812",
     "exception": false,
     "start_time": "2025-06-13T13:00:57.309842",
     "status": "completed"
    },
    "tags": []
   },
   "source": [
    "# LOAD DATASET"
   ]
  },
  {
   "cell_type": "code",
   "execution_count": 6,
   "id": "db8308df",
   "metadata": {
    "execution": {
     "iopub.execute_input": "2025-06-13T13:00:57.356486Z",
     "iopub.status.busy": "2025-06-13T13:00:57.356217Z",
     "iopub.status.idle": "2025-06-13T13:00:58.594151Z",
     "shell.execute_reply": "2025-06-13T13:00:58.593559Z"
    },
    "papermill": {
     "duration": 1.24679,
     "end_time": "2025-06-13T13:00:58.595560",
     "exception": false,
     "start_time": "2025-06-13T13:00:57.348770",
     "status": "completed"
    },
    "tags": []
   },
   "outputs": [],
   "source": [
    "train_adata = ad.read_h5ad(\n",
    "    here(f'03_downstream_analysis/08_gene_importance/xgboost_external_validation/xgboost_TopN_genes/data_cellTypes/EXTERNAL_{CELL_TYPE}.filtered.log1p.h5ad')\n",
    ")"
   ]
  },
  {
   "cell_type": "code",
   "execution_count": 7,
   "id": "82191b07",
   "metadata": {
    "execution": {
     "iopub.execute_input": "2025-06-13T13:00:58.615840Z",
     "iopub.status.busy": "2025-06-13T13:00:58.615587Z",
     "iopub.status.idle": "2025-06-13T13:00:58.653459Z",
     "shell.execute_reply": "2025-06-13T13:00:58.653007Z"
    },
    "papermill": {
     "duration": 0.051388,
     "end_time": "2025-06-13T13:00:58.654396",
     "exception": false,
     "start_time": "2025-06-13T13:00:58.603008",
     "status": "completed"
    },
    "tags": []
   },
   "outputs": [
    {
     "name": "stdout",
     "output_type": "stream",
     "text": [
      "['ENSG00000002549' 'ENSG00000002586' 'ENSG00000010327' 'ENSG00000018280'\n",
      " 'ENSG00000026025' 'ENSG00000028137' 'ENSG00000033800' 'ENSG00000042753'\n",
      " 'ENSG00000059728' 'ENSG00000075785' 'ENSG00000077150' 'ENSG00000078043'\n",
      " 'ENSG00000089737' 'ENSG00000090863' 'ENSG00000099624' 'ENSG00000100300'\n",
      " 'ENSG00000100365' 'ENSG00000100368' 'ENSG00000100393' 'ENSG00000100664'\n",
      " 'ENSG00000100911' 'ENSG00000101350' 'ENSG00000101608' 'ENSG00000101695'\n",
      " 'ENSG00000104093' 'ENSG00000104904' 'ENSG00000104964' 'ENSG00000104998'\n",
      " 'ENSG00000105851' 'ENSG00000106803' 'ENSG00000108639' 'ENSG00000110395'\n",
      " 'ENSG00000110876' 'ENSG00000111348' 'ENSG00000111640' 'ENSG00000111716'\n",
      " 'ENSG00000112561' 'ENSG00000113070' 'ENSG00000113441' 'ENSG00000113615'\n",
      " 'ENSG00000115073' 'ENSG00000116171' 'ENSG00000116701' 'ENSG00000116815'\n",
      " 'ENSG00000117602' 'ENSG00000118640' 'ENSG00000118971' 'ENSG00000120594'\n",
      " 'ENSG00000121316' 'ENSG00000121879' 'ENSG00000125538' 'ENSG00000125743'\n",
      " 'ENSG00000127022' 'ENSG00000127314' 'ENSG00000127507' 'ENSG00000128524'\n",
      " 'ENSG00000130755' 'ENSG00000131042' 'ENSG00000131143' 'ENSG00000131196'\n",
      " 'ENSG00000132912' 'ENSG00000135046' 'ENSG00000135441' 'ENSG00000135720'\n",
      " 'ENSG00000135968' 'ENSG00000136156' 'ENSG00000137100' 'ENSG00000138674'\n",
      " 'ENSG00000139192' 'ENSG00000140379' 'ENSG00000141574' 'ENSG00000142208'\n",
      " 'ENSG00000143924' 'ENSG00000144746' 'ENSG00000148908' 'ENSG00000150093'\n",
      " 'ENSG00000160213' 'ENSG00000160883' 'ENSG00000161921' 'ENSG00000163191'\n",
      " 'ENSG00000163220' 'ENSG00000163513' 'ENSG00000163659' 'ENSG00000163660'\n",
      " 'ENSG00000163737' 'ENSG00000163823' 'ENSG00000163931' 'ENSG00000164104'\n",
      " 'ENSG00000164136' 'ENSG00000164307' 'ENSG00000164308' 'ENSG00000166927'\n",
      " 'ENSG00000166949' 'ENSG00000167004' 'ENSG00000173757' 'ENSG00000175489'\n",
      " 'ENSG00000176986' 'ENSG00000177556' 'ENSG00000177663' 'ENSG00000179218'\n",
      " 'ENSG00000179295' 'ENSG00000180008' 'ENSG00000182578' 'ENSG00000184007'\n",
      " 'ENSG00000184752' 'ENSG00000185215' 'ENSG00000185291' 'ENSG00000185745'\n",
      " 'ENSG00000185950' 'ENSG00000196126' 'ENSG00000196735' 'ENSG00000197102'\n",
      " 'ENSG00000197329' 'ENSG00000197632' 'ENSG00000197746' 'ENSG00000203747'\n",
      " 'ENSG00000204264' 'ENSG00000277791']\n"
     ]
    }
   ],
   "source": [
    "if SEED != 'all':\n",
    "    gene_subset = np.load(here(f'03_downstream_analysis/08_gene_importance/xgboost_external_validation/shap_gene_selection/gene_subsets_{N_GENES}/{CELL_TYPE}_{SEED}.npy'), allow_pickle=True)\n",
    "    train_adata = train_adata[:,gene_subset]\n",
    "    print(gene_subset)\n",
    "elif SEED == 'all':\n",
    "    print('Using all genes')\n",
    "else:\n",
    "    raise ValueError()"
   ]
  },
  {
   "cell_type": "code",
   "execution_count": 8,
   "id": "81c5bae1",
   "metadata": {
    "execution": {
     "iopub.execute_input": "2025-06-13T13:00:58.667063Z",
     "iopub.status.busy": "2025-06-13T13:00:58.666768Z",
     "iopub.status.idle": "2025-06-13T13:00:58.670509Z",
     "shell.execute_reply": "2025-06-13T13:00:58.670126Z"
    },
    "papermill": {
     "duration": 0.010802,
     "end_time": "2025-06-13T13:00:58.671391",
     "exception": false,
     "start_time": "2025-06-13T13:00:58.660589",
     "status": "completed"
    },
    "tags": []
   },
   "outputs": [
    {
     "data": {
      "text/plain": [
       "(137435, 118)"
      ]
     },
     "execution_count": 8,
     "metadata": {},
     "output_type": "execute_result"
    }
   ],
   "source": [
    "train_adata.shape"
   ]
  },
  {
   "cell_type": "code",
   "execution_count": 9,
   "id": "6c2bdc52",
   "metadata": {
    "execution": {
     "iopub.execute_input": "2025-06-13T13:00:58.694388Z",
     "iopub.status.busy": "2025-06-13T13:00:58.693796Z",
     "iopub.status.idle": "2025-06-13T13:00:58.698870Z",
     "shell.execute_reply": "2025-06-13T13:00:58.698505Z"
    },
    "papermill": {
     "duration": 0.021919,
     "end_time": "2025-06-13T13:00:58.699764",
     "exception": false,
     "start_time": "2025-06-13T13:00:58.677845",
     "status": "completed"
    },
    "tags": []
   },
   "outputs": [
    {
     "data": {
      "text/plain": [
       "['RA', 'healthy', 'COVID', 'HIV', 'cirrhosis', 'CD', 'SLE', 'sepsis']\n",
       "Categories (8, object): ['CD', 'COVID', 'HIV', 'RA', 'SLE', 'cirrhosis', 'healthy', 'sepsis']"
      ]
     },
     "execution_count": 9,
     "metadata": {},
     "output_type": "execute_result"
    }
   ],
   "source": [
    "train_adata.obs.disease.unique()"
   ]
  },
  {
   "cell_type": "code",
   "execution_count": 10,
   "id": "1457e47c",
   "metadata": {
    "execution": {
     "iopub.execute_input": "2025-06-13T13:00:58.713533Z",
     "iopub.status.busy": "2025-06-13T13:00:58.713319Z",
     "iopub.status.idle": "2025-06-13T13:00:58.717556Z",
     "shell.execute_reply": "2025-06-13T13:00:58.717228Z"
    },
    "papermill": {
     "duration": 0.012152,
     "end_time": "2025-06-13T13:00:58.718471",
     "exception": false,
     "start_time": "2025-06-13T13:00:58.706319",
     "status": "completed"
    },
    "tags": []
   },
   "outputs": [
    {
     "data": {
      "text/plain": [
       "['SCGT00val_I0364_T0', 'SCGT00val_I036028_T0', 'SCGT00val_I036024_T0', 'SCGT00val_I036023_T0', 'SCGT00val_I036019_T0', ..., '10XGenomics_10XHC2_T0', '10XGenomics_10XHC3_T0', '10XGenomics_10XHC5_T0', '10XGenomics_10XHC7_T0', '10XGenomics_10XHC8_T0']\n",
       "Length: 86\n",
       "Categories (86, object): ['10XGenomics_10XHC1_T0', '10XGenomics_10XHC2_T0', '10XGenomics_10XHC3_T0', '10XGenomics_10XHC4_T0', ..., 'Savage2021_BRISL6_T0', 'Savage2021_BRISL7_T0', 'Savage2021_PIDA_T0', 'Savage2021_PIDB_T0']"
      ]
     },
     "execution_count": 10,
     "metadata": {},
     "output_type": "execute_result"
    }
   ],
   "source": [
    "train_adata.obs.sampleID.unique()"
   ]
  },
  {
   "cell_type": "code",
   "execution_count": 11,
   "id": "5eeba654",
   "metadata": {
    "execution": {
     "iopub.execute_input": "2025-06-13T13:00:58.741639Z",
     "iopub.status.busy": "2025-06-13T13:00:58.741170Z",
     "iopub.status.idle": "2025-06-13T13:00:59.076335Z",
     "shell.execute_reply": "2025-06-13T13:00:59.075767Z"
    },
    "papermill": {
     "duration": 0.352704,
     "end_time": "2025-06-13T13:00:59.077683",
     "exception": false,
     "start_time": "2025-06-13T13:00:58.724979",
     "status": "completed"
    },
    "tags": []
   },
   "outputs": [],
   "source": [
    "all_idxs = np.arange(train_adata.obs.shape[0])\n",
    "left_out_splits = [s[1] for s in StratifiedGroupKFold(n_splits=N_SPLITS).split(all_idxs, train_adata.obs.disease, train_adata.obs.sampleID)]"
   ]
  },
  {
   "cell_type": "code",
   "execution_count": 12,
   "id": "9dff7250",
   "metadata": {
    "execution": {
     "iopub.execute_input": "2025-06-13T13:00:59.094858Z",
     "iopub.status.busy": "2025-06-13T13:00:59.094622Z",
     "iopub.status.idle": "2025-06-13T13:00:59.098792Z",
     "shell.execute_reply": "2025-06-13T13:00:59.098394Z"
    },
    "papermill": {
     "duration": 0.01552,
     "end_time": "2025-06-13T13:00:59.099656",
     "exception": false,
     "start_time": "2025-06-13T13:00:59.084136",
     "status": "completed"
    },
    "tags": []
   },
   "outputs": [
    {
     "data": {
      "text/plain": [
       "([0, 3, 4], 2, 1)"
      ]
     },
     "execution_count": 12,
     "metadata": {},
     "output_type": "execute_result"
    }
   ],
   "source": [
    "TRAIN_SPLIT_IDXS = [0,1,2,3,4]\n",
    "VAL_SPLIT_IDX = (TEST_SPLIT_IDX + 1) % 5\n",
    "TRAIN_SPLIT_IDXS.remove(TEST_SPLIT_IDX)\n",
    "TRAIN_SPLIT_IDXS.remove(VAL_SPLIT_IDX)\n",
    "TRAIN_SPLIT_IDXS, VAL_SPLIT_IDX, TEST_SPLIT_IDX"
   ]
  },
  {
   "cell_type": "code",
   "execution_count": 13,
   "id": "058301d0",
   "metadata": {
    "execution": {
     "iopub.execute_input": "2025-06-13T13:00:59.117204Z",
     "iopub.status.busy": "2025-06-13T13:00:59.116665Z",
     "iopub.status.idle": "2025-06-13T13:00:59.119447Z",
     "shell.execute_reply": "2025-06-13T13:00:59.119115Z"
    },
    "papermill": {
     "duration": 0.010425,
     "end_time": "2025-06-13T13:00:59.120357",
     "exception": false,
     "start_time": "2025-06-13T13:00:59.109932",
     "status": "completed"
    },
    "tags": []
   },
   "outputs": [],
   "source": [
    "train_idxs = np.concatenate([left_out_splits[idx] for idx in TRAIN_SPLIT_IDXS])\n",
    "val_idxs = left_out_splits[VAL_SPLIT_IDX]\n",
    "test_idxs = left_out_splits[TEST_SPLIT_IDX]"
   ]
  },
  {
   "cell_type": "markdown",
   "id": "fc05ddba",
   "metadata": {
    "papermill": {
     "duration": 0.007127,
     "end_time": "2025-06-13T13:00:59.133920",
     "exception": false,
     "start_time": "2025-06-13T13:00:59.126793",
     "status": "completed"
    },
    "tags": []
   },
   "source": [
    "### SUBSET DATASET INTO TRAIN/TEST/VAL SPLITS"
   ]
  },
  {
   "cell_type": "code",
   "execution_count": 14,
   "id": "76ea4fd3",
   "metadata": {
    "execution": {
     "iopub.execute_input": "2025-06-13T13:00:59.149213Z",
     "iopub.status.busy": "2025-06-13T13:00:59.148778Z",
     "iopub.status.idle": "2025-06-13T13:00:59.625713Z",
     "shell.execute_reply": "2025-06-13T13:00:59.625276Z"
    },
    "papermill": {
     "duration": 0.486401,
     "end_time": "2025-06-13T13:00:59.626697",
     "exception": false,
     "start_time": "2025-06-13T13:00:59.140296",
     "status": "completed"
    },
    "tags": []
   },
   "outputs": [
    {
     "data": {
      "text/plain": [
       "((83097, 118), (27487, 118), (26851, 118))"
      ]
     },
     "execution_count": 14,
     "metadata": {},
     "output_type": "execute_result"
    }
   ],
   "source": [
    "X_train = train_adata.X[train_idxs]\n",
    "X_test = train_adata.X[test_idxs]\n",
    "X_val = train_adata.X[val_idxs]\n",
    "X_train.shape, X_test.shape, X_val.shape"
   ]
  },
  {
   "cell_type": "code",
   "execution_count": 15,
   "id": "67a00034",
   "metadata": {
    "execution": {
     "iopub.execute_input": "2025-06-13T13:00:59.674879Z",
     "iopub.status.busy": "2025-06-13T13:00:59.674583Z",
     "iopub.status.idle": "2025-06-13T13:00:59.688843Z",
     "shell.execute_reply": "2025-06-13T13:00:59.688281Z"
    },
    "papermill": {
     "duration": 0.056888,
     "end_time": "2025-06-13T13:00:59.689821",
     "exception": false,
     "start_time": "2025-06-13T13:00:59.632933",
     "status": "completed"
    },
    "tags": []
   },
   "outputs": [
    {
     "data": {
      "text/plain": [
       "((83097,), (27487,), (26851,))"
      ]
     },
     "execution_count": 15,
     "metadata": {},
     "output_type": "execute_result"
    }
   ],
   "source": [
    "y_train = train_adata.obs.iloc[train_idxs].disease.values.astype(str)\n",
    "y_test = train_adata.obs.iloc[test_idxs].disease.values.astype(str)\n",
    "y_val = train_adata.obs.iloc[val_idxs].disease.values.astype(str)\n",
    "y_train.shape, y_test.shape, y_val.shape"
   ]
  },
  {
   "cell_type": "code",
   "execution_count": 16,
   "id": "1eb1082b",
   "metadata": {
    "execution": {
     "iopub.execute_input": "2025-06-13T13:00:59.704920Z",
     "iopub.status.busy": "2025-06-13T13:00:59.704467Z",
     "iopub.status.idle": "2025-06-13T13:00:59.736273Z",
     "shell.execute_reply": "2025-06-13T13:00:59.735725Z"
    },
    "papermill": {
     "duration": 0.041512,
     "end_time": "2025-06-13T13:00:59.737562",
     "exception": false,
     "start_time": "2025-06-13T13:00:59.696050",
     "status": "completed"
    },
    "tags": []
   },
   "outputs": [],
   "source": [
    "lenc = LabelEncoder()\n",
    "y_train_enc = lenc.fit_transform(y_train)\n",
    "y_val_enc = lenc.transform(y_val)\n",
    "y_test_enc = lenc.transform(y_test)"
   ]
  },
  {
   "cell_type": "markdown",
   "id": "60898de0",
   "metadata": {
    "papermill": {
     "duration": 0.007454,
     "end_time": "2025-06-13T13:00:59.754526",
     "exception": false,
     "start_time": "2025-06-13T13:00:59.747072",
     "status": "completed"
    },
    "tags": []
   },
   "source": [
    "### GENERATE F1 "
   ]
  },
  {
   "cell_type": "code",
   "execution_count": 17,
   "id": "8c007ccf",
   "metadata": {
    "execution": {
     "iopub.execute_input": "2025-06-13T13:00:59.768496Z",
     "iopub.status.busy": "2025-06-13T13:00:59.768213Z",
     "iopub.status.idle": "2025-06-13T13:00:59.771221Z",
     "shell.execute_reply": "2025-06-13T13:00:59.770844Z"
    },
    "papermill": {
     "duration": 0.011246,
     "end_time": "2025-06-13T13:00:59.772176",
     "exception": false,
     "start_time": "2025-06-13T13:00:59.760930",
     "status": "completed"
    },
    "tags": []
   },
   "outputs": [],
   "source": [
    "def custom_f1_score(y_true, y_pred):\n",
    "    return -f1_score(y_true, y_pred.argmax(1), average='weighted')"
   ]
  },
  {
   "cell_type": "code",
   "execution_count": 18,
   "id": "f3801d80",
   "metadata": {
    "execution": {
     "iopub.execute_input": "2025-06-13T13:00:59.787901Z",
     "iopub.status.busy": "2025-06-13T13:00:59.787293Z",
     "iopub.status.idle": "2025-06-13T13:00:59.791774Z",
     "shell.execute_reply": "2025-06-13T13:00:59.791402Z"
    },
    "papermill": {
     "duration": 0.01387,
     "end_time": "2025-06-13T13:00:59.792681",
     "exception": false,
     "start_time": "2025-06-13T13:00:59.778811",
     "status": "completed"
    },
    "tags": []
   },
   "outputs": [],
   "source": [
    "eval_metric=custom_f1_score\n",
    "eval_metric_name='custom_f1_score'\n",
    "\n",
    "def objective(trial):\n",
    "    params = {\n",
    "        'n_estimators': 1500,\n",
    "        'max_depth': trial.suggest_int('max_depth', 3, 20),\n",
    "        'min_child_weight': trial.suggest_int('min_child_weight', 1, 250),\n",
    "        'subsample': trial.suggest_float('subsample', 0.1, 1.0),\n",
    "        'colsample_bynode': trial.suggest_float('colsample_bynode', 0.1, 1.0),\n",
    "        'learning_rate': trial.suggest_float('learning_rate', 1e-3, 5e-1, log=True),\n",
    "    }\n",
    "    pruning_callback = optuna.integration.XGBoostPruningCallback(trial, f'validation_0-{eval_metric_name}')\n",
    "    es_callback = xgboost.callback.EarlyStopping(20, min_delta=0.001)\n",
    "    xgb = xgboost.XGBClassifier(\n",
    "        eval_metric=eval_metric,\n",
    "        callbacks=[pruning_callback, es_callback],\n",
    "        n_jobs=5,\n",
    "        **params\n",
    "    )\n",
    "    xgb.fit(\n",
    "        X_train, \n",
    "        y_train_enc, \n",
    "        verbose=0,\n",
    "        eval_set=[(X_val, y_val_enc)],\n",
    "    )\n",
    "    trial.set_user_attr('best_iteration', xgb.best_iteration)\n",
    "\n",
    "    return xgb.best_score"
   ]
  },
  {
   "cell_type": "code",
   "execution_count": 19,
   "id": "0b93f1ee",
   "metadata": {
    "execution": {
     "iopub.execute_input": "2025-06-13T13:00:59.821635Z",
     "iopub.status.busy": "2025-06-13T13:00:59.821217Z",
     "iopub.status.idle": "2025-06-13T13:23:15.411285Z",
     "shell.execute_reply": "2025-06-13T13:23:15.410832Z"
    },
    "papermill": {
     "duration": 1335.599358,
     "end_time": "2025-06-13T13:23:15.412484",
     "exception": false,
     "start_time": "2025-06-13T13:00:59.813126",
     "status": "completed"
    },
    "scrolled": true,
    "tags": []
   },
   "outputs": [
    {
     "name": "stderr",
     "output_type": "stream",
     "text": [
      "[I 2025-06-13 15:00:59,823] A new study created in memory with name: no-name-d830476e-4822-4ee5-a9d2-534703c7b7b4\n"
     ]
    },
    {
     "name": "stderr",
     "output_type": "stream",
     "text": [
      "[I 2025-06-13 15:02:40,917] Trial 0 finished with value: -0.672026 and parameters: {'max_depth': 9, 'min_child_weight': 238, 'subsample': 0.7587945476302645, 'colsample_bynode': 0.6387926357773329, 'learning_rate': 0.0026368755339723046}. Best is trial 0 with value: -0.672026.\n"
     ]
    },
    {
     "name": "stderr",
     "output_type": "stream",
     "text": [
      "[I 2025-06-13 15:04:13,078] Trial 1 finished with value: -0.787266 and parameters: {'max_depth': 5, 'min_child_weight': 15, 'subsample': 0.8795585311974417, 'colsample_bynode': 0.6410035105688879, 'learning_rate': 0.08148293210105287}. Best is trial 1 with value: -0.787266.\n"
     ]
    },
    {
     "name": "stderr",
     "output_type": "stream",
     "text": [
      "[I 2025-06-13 15:04:29,253] Trial 2 finished with value: -0.617465 and parameters: {'max_depth': 3, 'min_child_weight': 243, 'subsample': 0.8491983767203796, 'colsample_bynode': 0.29110519961044856, 'learning_rate': 0.003095566460242371}. Best is trial 1 with value: -0.787266.\n"
     ]
    },
    {
     "name": "stderr",
     "output_type": "stream",
     "text": [
      "[I 2025-06-13 15:07:50,262] Trial 3 finished with value: -0.734934 and parameters: {'max_depth': 6, 'min_child_weight': 77, 'subsample': 0.5722807884690141, 'colsample_bynode': 0.48875051677790415, 'learning_rate': 0.006109683510122491}. Best is trial 1 with value: -0.787266.\n"
     ]
    },
    {
     "name": "stderr",
     "output_type": "stream",
     "text": [
      "[I 2025-06-13 15:10:26,853] Trial 4 finished with value: -0.770733 and parameters: {'max_depth': 14, 'min_child_weight': 35, 'subsample': 0.3629301836816964, 'colsample_bynode': 0.4297256589643226, 'learning_rate': 0.01701841881702917}. Best is trial 1 with value: -0.787266.\n"
     ]
    },
    {
     "name": "stderr",
     "output_type": "stream",
     "text": [
      "[I 2025-06-13 15:10:42,462] Trial 5 finished with value: -0.681942 and parameters: {'max_depth': 17, 'min_child_weight': 50, 'subsample': 0.5628109945722505, 'colsample_bynode': 0.6331731119758383, 'learning_rate': 0.0013346527038305934}. Best is trial 1 with value: -0.787266.\n"
     ]
    },
    {
     "name": "stderr",
     "output_type": "stream",
     "text": [
      "[I 2025-06-13 15:10:43,196] Trial 6 pruned. Trial was pruned at iteration 0.\n"
     ]
    },
    {
     "name": "stderr",
     "output_type": "stream",
     "text": [
      "[I 2025-06-13 15:10:43,904] Trial 7 pruned. Trial was pruned at iteration 0.\n"
     ]
    },
    {
     "name": "stderr",
     "output_type": "stream",
     "text": [
      "[I 2025-06-13 15:10:44,571] Trial 8 pruned. Trial was pruned at iteration 0.\n"
     ]
    },
    {
     "name": "stderr",
     "output_type": "stream",
     "text": [
      "[I 2025-06-13 15:10:45,376] Trial 9 pruned. Trial was pruned at iteration 0.\n"
     ]
    },
    {
     "name": "stderr",
     "output_type": "stream",
     "text": [
      "[I 2025-06-13 15:10:46,239] Trial 10 pruned. Trial was pruned at iteration 0.\n"
     ]
    },
    {
     "name": "stderr",
     "output_type": "stream",
     "text": [
      "[I 2025-06-13 15:12:22,710] Trial 11 finished with value: -0.788751 and parameters: {'max_depth': 10, 'min_child_weight': 3, 'subsample': 0.34014304150377095, 'colsample_bynode': 0.40131565860091256, 'learning_rate': 0.057899203666416425}. Best is trial 11 with value: -0.788751.\n"
     ]
    },
    {
     "name": "stderr",
     "output_type": "stream",
     "text": [
      "[I 2025-06-13 15:13:49,933] Trial 12 finished with value: -0.79109 and parameters: {'max_depth': 8, 'min_child_weight': 3, 'subsample': 0.3693916175642251, 'colsample_bynode': 0.351751713087183, 'learning_rate': 0.07220195396446884}. Best is trial 12 with value: -0.79109.\n"
     ]
    },
    {
     "name": "stderr",
     "output_type": "stream",
     "text": [
      "[I 2025-06-13 15:13:50,742] Trial 13 pruned. Trial was pruned at iteration 0.\n"
     ]
    },
    {
     "name": "stderr",
     "output_type": "stream",
     "text": [
      "[I 2025-06-13 15:13:51,438] Trial 14 pruned. Trial was pruned at iteration 0.\n"
     ]
    },
    {
     "name": "stderr",
     "output_type": "stream",
     "text": [
      "[I 2025-06-13 15:13:52,587] Trial 15 pruned. Trial was pruned at iteration 0.\n"
     ]
    },
    {
     "name": "stderr",
     "output_type": "stream",
     "text": [
      "[I 2025-06-13 15:13:53,372] Trial 16 pruned. Trial was pruned at iteration 0.\n"
     ]
    },
    {
     "name": "stderr",
     "output_type": "stream",
     "text": [
      "[I 2025-06-13 15:13:54,073] Trial 17 pruned. Trial was pruned at iteration 0.\n"
     ]
    },
    {
     "name": "stderr",
     "output_type": "stream",
     "text": [
      "[I 2025-06-13 15:14:13,464] Trial 18 pruned. Trial was pruned at iteration 38.\n"
     ]
    },
    {
     "name": "stderr",
     "output_type": "stream",
     "text": [
      "[I 2025-06-13 15:14:14,138] Trial 19 pruned. Trial was pruned at iteration 0.\n"
     ]
    },
    {
     "name": "stderr",
     "output_type": "stream",
     "text": [
      "[I 2025-06-13 15:15:07,716] Trial 20 finished with value: -0.793866 and parameters: {'max_depth': 13, 'min_child_weight': 60, 'subsample': 0.6483339605894612, 'colsample_bynode': 0.3771398643019687, 'learning_rate': 0.14635034057613103}. Best is trial 20 with value: -0.793866.\n"
     ]
    },
    {
     "name": "stderr",
     "output_type": "stream",
     "text": [
      "[I 2025-06-13 15:15:51,885] Trial 21 finished with value: -0.793173 and parameters: {'max_depth': 12, 'min_child_weight': 27, 'subsample': 0.6633981323438212, 'colsample_bynode': 0.36083155599825745, 'learning_rate': 0.20901104055631745}. Best is trial 20 with value: -0.793866.\n"
     ]
    },
    {
     "name": "stderr",
     "output_type": "stream",
     "text": [
      "[I 2025-06-13 15:16:16,044] Trial 22 finished with value: -0.787141 and parameters: {'max_depth': 13, 'min_child_weight': 57, 'subsample': 0.6744764819227362, 'colsample_bynode': 0.26954414184558356, 'learning_rate': 0.45497257784433626}. Best is trial 20 with value: -0.793866.\n"
     ]
    },
    {
     "name": "stderr",
     "output_type": "stream",
     "text": [
      "[I 2025-06-13 15:17:14,421] Trial 23 finished with value: -0.793074 and parameters: {'max_depth': 15, 'min_child_weight': 27, 'subsample': 0.6638310221964546, 'colsample_bynode': 0.4927663986336904, 'learning_rate': 0.15737820771039915}. Best is trial 20 with value: -0.793866.\n"
     ]
    },
    {
     "name": "stderr",
     "output_type": "stream",
     "text": [
      "[I 2025-06-13 15:18:08,804] Trial 24 finished with value: -0.79408 and parameters: {'max_depth': 16, 'min_child_weight': 64, 'subsample': 0.6838796345220448, 'colsample_bynode': 0.5208510250346013, 'learning_rate': 0.17344209427464793}. Best is trial 24 with value: -0.79408.\n"
     ]
    },
    {
     "name": "stderr",
     "output_type": "stream",
     "text": [
      "[I 2025-06-13 15:18:09,602] Trial 25 pruned. Trial was pruned at iteration 0.\n"
     ]
    },
    {
     "name": "stderr",
     "output_type": "stream",
     "text": [
      "[I 2025-06-13 15:18:10,431] Trial 26 pruned. Trial was pruned at iteration 0.\n"
     ]
    },
    {
     "name": "stderr",
     "output_type": "stream",
     "text": [
      "[I 2025-06-13 15:18:50,446] Trial 27 finished with value: -0.794635 and parameters: {'max_depth': 16, 'min_child_weight': 68, 'subsample': 0.7067266722645328, 'colsample_bynode': 0.35318076412986676, 'learning_rate': 0.26113925787801795}. Best is trial 27 with value: -0.794635.\n"
     ]
    },
    {
     "name": "stderr",
     "output_type": "stream",
     "text": [
      "[I 2025-06-13 15:19:29,523] Trial 28 finished with value: -0.789663 and parameters: {'max_depth': 16, 'min_child_weight': 97, 'subsample': 0.9788037939302158, 'colsample_bynode': 0.7547835364105744, 'learning_rate': 0.3164337703138364}. Best is trial 27 with value: -0.794635.\n"
     ]
    },
    {
     "name": "stderr",
     "output_type": "stream",
     "text": [
      "[I 2025-06-13 15:19:30,307] Trial 29 pruned. Trial was pruned at iteration 0.\n"
     ]
    },
    {
     "name": "stderr",
     "output_type": "stream",
     "text": [
      "[I 2025-06-13 15:19:31,024] Trial 30 pruned. Trial was pruned at iteration 0.\n"
     ]
    },
    {
     "name": "stderr",
     "output_type": "stream",
     "text": [
      "[I 2025-06-13 15:19:31,827] Trial 31 pruned. Trial was pruned at iteration 0.\n"
     ]
    },
    {
     "name": "stderr",
     "output_type": "stream",
     "text": [
      "[I 2025-06-13 15:20:11,509] Trial 32 finished with value: -0.789608 and parameters: {'max_depth': 18, 'min_child_weight': 29, 'subsample': 0.7729014624968322, 'colsample_bynode': 0.32979818032581637, 'learning_rate': 0.21743359943357263}. Best is trial 27 with value: -0.794635.\n"
     ]
    },
    {
     "name": "stderr",
     "output_type": "stream",
     "text": [
      "[I 2025-06-13 15:20:12,323] Trial 33 pruned. Trial was pruned at iteration 0.\n"
     ]
    },
    {
     "name": "stderr",
     "output_type": "stream",
     "text": [
      "[I 2025-06-13 15:20:31,658] Trial 34 pruned. Trial was pruned at iteration 37.\n"
     ]
    },
    {
     "name": "stderr",
     "output_type": "stream",
     "text": [
      "[I 2025-06-13 15:20:32,555] Trial 35 pruned. Trial was pruned at iteration 0.\n"
     ]
    },
    {
     "name": "stderr",
     "output_type": "stream",
     "text": [
      "[I 2025-06-13 15:20:33,364] Trial 36 pruned. Trial was pruned at iteration 0.\n"
     ]
    },
    {
     "name": "stderr",
     "output_type": "stream",
     "text": [
      "[I 2025-06-13 15:20:34,120] Trial 37 pruned. Trial was pruned at iteration 0.\n"
     ]
    },
    {
     "name": "stderr",
     "output_type": "stream",
     "text": [
      "[I 2025-06-13 15:20:37,206] Trial 38 pruned. Trial was pruned at iteration 5.\n"
     ]
    },
    {
     "name": "stderr",
     "output_type": "stream",
     "text": [
      "[I 2025-06-13 15:20:38,029] Trial 39 pruned. Trial was pruned at iteration 0.\n"
     ]
    },
    {
     "name": "stderr",
     "output_type": "stream",
     "text": [
      "[I 2025-06-13 15:21:26,289] Trial 40 finished with value: -0.790347 and parameters: {'max_depth': 14, 'min_child_weight': 18, 'subsample': 0.7053418029251486, 'colsample_bynode': 0.5314358009014011, 'learning_rate': 0.2265923557328068}. Best is trial 27 with value: -0.794635.\n"
     ]
    },
    {
     "name": "stderr",
     "output_type": "stream",
     "text": [
      "[I 2025-06-13 15:21:52,736] Trial 41 pruned. Trial was pruned at iteration 65.\n"
     ]
    },
    {
     "name": "stderr",
     "output_type": "stream",
     "text": [
      "[I 2025-06-13 15:22:24,767] Trial 42 pruned. Trial was pruned at iteration 71.\n"
     ]
    },
    {
     "name": "stderr",
     "output_type": "stream",
     "text": [
      "[I 2025-06-13 15:22:25,653] Trial 43 pruned. Trial was pruned at iteration 0.\n"
     ]
    },
    {
     "name": "stderr",
     "output_type": "stream",
     "text": [
      "[I 2025-06-13 15:22:26,490] Trial 44 pruned. Trial was pruned at iteration 0.\n"
     ]
    },
    {
     "name": "stderr",
     "output_type": "stream",
     "text": [
      "[I 2025-06-13 15:23:05,212] Trial 45 finished with value: -0.788569 and parameters: {'max_depth': 17, 'min_child_weight': 33, 'subsample': 0.688028150129823, 'colsample_bynode': 0.5777157554971601, 'learning_rate': 0.3152702929215044}. Best is trial 27 with value: -0.794635.\n"
     ]
    },
    {
     "name": "stderr",
     "output_type": "stream",
     "text": [
      "[I 2025-06-13 15:23:09,007] Trial 46 pruned. Trial was pruned at iteration 5.\n"
     ]
    },
    {
     "name": "stderr",
     "output_type": "stream",
     "text": [
      "[I 2025-06-13 15:23:09,877] Trial 47 pruned. Trial was pruned at iteration 0.\n"
     ]
    },
    {
     "name": "stderr",
     "output_type": "stream",
     "text": [
      "[I 2025-06-13 15:23:11,161] Trial 48 pruned. Trial was pruned at iteration 1.\n"
     ]
    },
    {
     "name": "stderr",
     "output_type": "stream",
     "text": [
      "[I 2025-06-13 15:23:15,323] Trial 49 pruned. Trial was pruned at iteration 7.\n"
     ]
    }
   ],
   "source": [
    "sampler = optuna.samplers.TPESampler(seed=42)\n",
    "study = optuna.create_study(direction='minimize', sampler=sampler)\n",
    "study.optimize(objective, n_trials=N_TRIALS, gc_after_trial=True)"
   ]
  },
  {
   "cell_type": "code",
   "execution_count": 20,
   "id": "fec6d9c7",
   "metadata": {
    "execution": {
     "iopub.execute_input": "2025-06-13T13:23:16.301755Z",
     "iopub.status.busy": "2025-06-13T13:23:16.301493Z",
     "iopub.status.idle": "2025-06-13T13:23:17.935775Z",
     "shell.execute_reply": "2025-06-13T13:23:17.935274Z"
    },
    "papermill": {
     "duration": 1.835711,
     "end_time": "2025-06-13T13:23:17.938147",
     "exception": false,
     "start_time": "2025-06-13T13:23:16.102436",
     "status": "completed"
    },
    "tags": []
   },
   "outputs": [
    {
     "data": {
      "text/plain": [
       "['/scratch_isilon/groups/singlecell/shared/projects/Inflammation-PBMCs-Atlas/03_downstream_analysis/08_gene_importance/xgboost_external_validation/xgboost_TopN_genes/results_20/study/Mono_shap_studyID_NOdisease_samesize_1_xgboost.pkl']"
      ]
     },
     "execution_count": 20,
     "metadata": {},
     "output_type": "execute_result"
    }
   ],
   "source": [
    "out_dir = here(f'03_downstream_analysis/08_gene_importance/xgboost_external_validation/xgboost_TopN_genes/results_{N_GENES}/study')\n",
    "\n",
    "if not os.path.exists(out_dir):\n",
    "    os.makedirs(out_dir)\n",
    "    \n",
    "joblib.dump(study,os.path.join(out_dir, f'{CELL_TYPE}_{SEED}_{TEST_SPLIT_IDX}_xgboost.pkl'))"
   ]
  },
  {
   "cell_type": "code",
   "execution_count": 21,
   "id": "884ba1e5",
   "metadata": {
    "execution": {
     "iopub.execute_input": "2025-06-13T13:23:18.067643Z",
     "iopub.status.busy": "2025-06-13T13:23:18.067269Z",
     "iopub.status.idle": "2025-06-13T13:23:37.211988Z",
     "shell.execute_reply": "2025-06-13T13:23:37.211577Z"
    },
    "papermill": {
     "duration": 19.155617,
     "end_time": "2025-06-13T13:23:37.213037",
     "exception": false,
     "start_time": "2025-06-13T13:23:18.057420",
     "status": "completed"
    },
    "tags": []
   },
   "outputs": [
    {
     "data": {
      "text/html": [
       "<style>#sk-container-id-1 {\n",
       "  /* Definition of color scheme common for light and dark mode */\n",
       "  --sklearn-color-text: black;\n",
       "  --sklearn-color-line: gray;\n",
       "  /* Definition of color scheme for unfitted estimators */\n",
       "  --sklearn-color-unfitted-level-0: #fff5e6;\n",
       "  --sklearn-color-unfitted-level-1: #f6e4d2;\n",
       "  --sklearn-color-unfitted-level-2: #ffe0b3;\n",
       "  --sklearn-color-unfitted-level-3: chocolate;\n",
       "  /* Definition of color scheme for fitted estimators */\n",
       "  --sklearn-color-fitted-level-0: #f0f8ff;\n",
       "  --sklearn-color-fitted-level-1: #d4ebff;\n",
       "  --sklearn-color-fitted-level-2: #b3dbfd;\n",
       "  --sklearn-color-fitted-level-3: cornflowerblue;\n",
       "\n",
       "  /* Specific color for light theme */\n",
       "  --sklearn-color-text-on-default-background: var(--sg-text-color, var(--theme-code-foreground, var(--jp-content-font-color1, black)));\n",
       "  --sklearn-color-background: var(--sg-background-color, var(--theme-background, var(--jp-layout-color0, white)));\n",
       "  --sklearn-color-border-box: var(--sg-text-color, var(--theme-code-foreground, var(--jp-content-font-color1, black)));\n",
       "  --sklearn-color-icon: #696969;\n",
       "\n",
       "  @media (prefers-color-scheme: dark) {\n",
       "    /* Redefinition of color scheme for dark theme */\n",
       "    --sklearn-color-text-on-default-background: var(--sg-text-color, var(--theme-code-foreground, var(--jp-content-font-color1, white)));\n",
       "    --sklearn-color-background: var(--sg-background-color, var(--theme-background, var(--jp-layout-color0, #111)));\n",
       "    --sklearn-color-border-box: var(--sg-text-color, var(--theme-code-foreground, var(--jp-content-font-color1, white)));\n",
       "    --sklearn-color-icon: #878787;\n",
       "  }\n",
       "}\n",
       "\n",
       "#sk-container-id-1 {\n",
       "  color: var(--sklearn-color-text);\n",
       "}\n",
       "\n",
       "#sk-container-id-1 pre {\n",
       "  padding: 0;\n",
       "}\n",
       "\n",
       "#sk-container-id-1 input.sk-hidden--visually {\n",
       "  border: 0;\n",
       "  clip: rect(1px 1px 1px 1px);\n",
       "  clip: rect(1px, 1px, 1px, 1px);\n",
       "  height: 1px;\n",
       "  margin: -1px;\n",
       "  overflow: hidden;\n",
       "  padding: 0;\n",
       "  position: absolute;\n",
       "  width: 1px;\n",
       "}\n",
       "\n",
       "#sk-container-id-1 div.sk-dashed-wrapped {\n",
       "  border: 1px dashed var(--sklearn-color-line);\n",
       "  margin: 0 0.4em 0.5em 0.4em;\n",
       "  box-sizing: border-box;\n",
       "  padding-bottom: 0.4em;\n",
       "  background-color: var(--sklearn-color-background);\n",
       "}\n",
       "\n",
       "#sk-container-id-1 div.sk-container {\n",
       "  /* jupyter's `normalize.less` sets `[hidden] { display: none; }`\n",
       "     but bootstrap.min.css set `[hidden] { display: none !important; }`\n",
       "     so we also need the `!important` here to be able to override the\n",
       "     default hidden behavior on the sphinx rendered scikit-learn.org.\n",
       "     See: https://github.com/scikit-learn/scikit-learn/issues/21755 */\n",
       "  display: inline-block !important;\n",
       "  position: relative;\n",
       "}\n",
       "\n",
       "#sk-container-id-1 div.sk-text-repr-fallback {\n",
       "  display: none;\n",
       "}\n",
       "\n",
       "div.sk-parallel-item,\n",
       "div.sk-serial,\n",
       "div.sk-item {\n",
       "  /* draw centered vertical line to link estimators */\n",
       "  background-image: linear-gradient(var(--sklearn-color-text-on-default-background), var(--sklearn-color-text-on-default-background));\n",
       "  background-size: 2px 100%;\n",
       "  background-repeat: no-repeat;\n",
       "  background-position: center center;\n",
       "}\n",
       "\n",
       "/* Parallel-specific style estimator block */\n",
       "\n",
       "#sk-container-id-1 div.sk-parallel-item::after {\n",
       "  content: \"\";\n",
       "  width: 100%;\n",
       "  border-bottom: 2px solid var(--sklearn-color-text-on-default-background);\n",
       "  flex-grow: 1;\n",
       "}\n",
       "\n",
       "#sk-container-id-1 div.sk-parallel {\n",
       "  display: flex;\n",
       "  align-items: stretch;\n",
       "  justify-content: center;\n",
       "  background-color: var(--sklearn-color-background);\n",
       "  position: relative;\n",
       "}\n",
       "\n",
       "#sk-container-id-1 div.sk-parallel-item {\n",
       "  display: flex;\n",
       "  flex-direction: column;\n",
       "}\n",
       "\n",
       "#sk-container-id-1 div.sk-parallel-item:first-child::after {\n",
       "  align-self: flex-end;\n",
       "  width: 50%;\n",
       "}\n",
       "\n",
       "#sk-container-id-1 div.sk-parallel-item:last-child::after {\n",
       "  align-self: flex-start;\n",
       "  width: 50%;\n",
       "}\n",
       "\n",
       "#sk-container-id-1 div.sk-parallel-item:only-child::after {\n",
       "  width: 0;\n",
       "}\n",
       "\n",
       "/* Serial-specific style estimator block */\n",
       "\n",
       "#sk-container-id-1 div.sk-serial {\n",
       "  display: flex;\n",
       "  flex-direction: column;\n",
       "  align-items: center;\n",
       "  background-color: var(--sklearn-color-background);\n",
       "  padding-right: 1em;\n",
       "  padding-left: 1em;\n",
       "}\n",
       "\n",
       "\n",
       "/* Toggleable style: style used for estimator/Pipeline/ColumnTransformer box that is\n",
       "clickable and can be expanded/collapsed.\n",
       "- Pipeline and ColumnTransformer use this feature and define the default style\n",
       "- Estimators will overwrite some part of the style using the `sk-estimator` class\n",
       "*/\n",
       "\n",
       "/* Pipeline and ColumnTransformer style (default) */\n",
       "\n",
       "#sk-container-id-1 div.sk-toggleable {\n",
       "  /* Default theme specific background. It is overwritten whether we have a\n",
       "  specific estimator or a Pipeline/ColumnTransformer */\n",
       "  background-color: var(--sklearn-color-background);\n",
       "}\n",
       "\n",
       "/* Toggleable label */\n",
       "#sk-container-id-1 label.sk-toggleable__label {\n",
       "  cursor: pointer;\n",
       "  display: block;\n",
       "  width: 100%;\n",
       "  margin-bottom: 0;\n",
       "  padding: 0.5em;\n",
       "  box-sizing: border-box;\n",
       "  text-align: center;\n",
       "}\n",
       "\n",
       "#sk-container-id-1 label.sk-toggleable__label-arrow:before {\n",
       "  /* Arrow on the left of the label */\n",
       "  content: \"▸\";\n",
       "  float: left;\n",
       "  margin-right: 0.25em;\n",
       "  color: var(--sklearn-color-icon);\n",
       "}\n",
       "\n",
       "#sk-container-id-1 label.sk-toggleable__label-arrow:hover:before {\n",
       "  color: var(--sklearn-color-text);\n",
       "}\n",
       "\n",
       "/* Toggleable content - dropdown */\n",
       "\n",
       "#sk-container-id-1 div.sk-toggleable__content {\n",
       "  max-height: 0;\n",
       "  max-width: 0;\n",
       "  overflow: hidden;\n",
       "  text-align: left;\n",
       "  /* unfitted */\n",
       "  background-color: var(--sklearn-color-unfitted-level-0);\n",
       "}\n",
       "\n",
       "#sk-container-id-1 div.sk-toggleable__content.fitted {\n",
       "  /* fitted */\n",
       "  background-color: var(--sklearn-color-fitted-level-0);\n",
       "}\n",
       "\n",
       "#sk-container-id-1 div.sk-toggleable__content pre {\n",
       "  margin: 0.2em;\n",
       "  border-radius: 0.25em;\n",
       "  color: var(--sklearn-color-text);\n",
       "  /* unfitted */\n",
       "  background-color: var(--sklearn-color-unfitted-level-0);\n",
       "}\n",
       "\n",
       "#sk-container-id-1 div.sk-toggleable__content.fitted pre {\n",
       "  /* unfitted */\n",
       "  background-color: var(--sklearn-color-fitted-level-0);\n",
       "}\n",
       "\n",
       "#sk-container-id-1 input.sk-toggleable__control:checked~div.sk-toggleable__content {\n",
       "  /* Expand drop-down */\n",
       "  max-height: 200px;\n",
       "  max-width: 100%;\n",
       "  overflow: auto;\n",
       "}\n",
       "\n",
       "#sk-container-id-1 input.sk-toggleable__control:checked~label.sk-toggleable__label-arrow:before {\n",
       "  content: \"▾\";\n",
       "}\n",
       "\n",
       "/* Pipeline/ColumnTransformer-specific style */\n",
       "\n",
       "#sk-container-id-1 div.sk-label input.sk-toggleable__control:checked~label.sk-toggleable__label {\n",
       "  color: var(--sklearn-color-text);\n",
       "  background-color: var(--sklearn-color-unfitted-level-2);\n",
       "}\n",
       "\n",
       "#sk-container-id-1 div.sk-label.fitted input.sk-toggleable__control:checked~label.sk-toggleable__label {\n",
       "  background-color: var(--sklearn-color-fitted-level-2);\n",
       "}\n",
       "\n",
       "/* Estimator-specific style */\n",
       "\n",
       "/* Colorize estimator box */\n",
       "#sk-container-id-1 div.sk-estimator input.sk-toggleable__control:checked~label.sk-toggleable__label {\n",
       "  /* unfitted */\n",
       "  background-color: var(--sklearn-color-unfitted-level-2);\n",
       "}\n",
       "\n",
       "#sk-container-id-1 div.sk-estimator.fitted input.sk-toggleable__control:checked~label.sk-toggleable__label {\n",
       "  /* fitted */\n",
       "  background-color: var(--sklearn-color-fitted-level-2);\n",
       "}\n",
       "\n",
       "#sk-container-id-1 div.sk-label label.sk-toggleable__label,\n",
       "#sk-container-id-1 div.sk-label label {\n",
       "  /* The background is the default theme color */\n",
       "  color: var(--sklearn-color-text-on-default-background);\n",
       "}\n",
       "\n",
       "/* On hover, darken the color of the background */\n",
       "#sk-container-id-1 div.sk-label:hover label.sk-toggleable__label {\n",
       "  color: var(--sklearn-color-text);\n",
       "  background-color: var(--sklearn-color-unfitted-level-2);\n",
       "}\n",
       "\n",
       "/* Label box, darken color on hover, fitted */\n",
       "#sk-container-id-1 div.sk-label.fitted:hover label.sk-toggleable__label.fitted {\n",
       "  color: var(--sklearn-color-text);\n",
       "  background-color: var(--sklearn-color-fitted-level-2);\n",
       "}\n",
       "\n",
       "/* Estimator label */\n",
       "\n",
       "#sk-container-id-1 div.sk-label label {\n",
       "  font-family: monospace;\n",
       "  font-weight: bold;\n",
       "  display: inline-block;\n",
       "  line-height: 1.2em;\n",
       "}\n",
       "\n",
       "#sk-container-id-1 div.sk-label-container {\n",
       "  text-align: center;\n",
       "}\n",
       "\n",
       "/* Estimator-specific */\n",
       "#sk-container-id-1 div.sk-estimator {\n",
       "  font-family: monospace;\n",
       "  border: 1px dotted var(--sklearn-color-border-box);\n",
       "  border-radius: 0.25em;\n",
       "  box-sizing: border-box;\n",
       "  margin-bottom: 0.5em;\n",
       "  /* unfitted */\n",
       "  background-color: var(--sklearn-color-unfitted-level-0);\n",
       "}\n",
       "\n",
       "#sk-container-id-1 div.sk-estimator.fitted {\n",
       "  /* fitted */\n",
       "  background-color: var(--sklearn-color-fitted-level-0);\n",
       "}\n",
       "\n",
       "/* on hover */\n",
       "#sk-container-id-1 div.sk-estimator:hover {\n",
       "  /* unfitted */\n",
       "  background-color: var(--sklearn-color-unfitted-level-2);\n",
       "}\n",
       "\n",
       "#sk-container-id-1 div.sk-estimator.fitted:hover {\n",
       "  /* fitted */\n",
       "  background-color: var(--sklearn-color-fitted-level-2);\n",
       "}\n",
       "\n",
       "/* Specification for estimator info (e.g. \"i\" and \"?\") */\n",
       "\n",
       "/* Common style for \"i\" and \"?\" */\n",
       "\n",
       ".sk-estimator-doc-link,\n",
       "a:link.sk-estimator-doc-link,\n",
       "a:visited.sk-estimator-doc-link {\n",
       "  float: right;\n",
       "  font-size: smaller;\n",
       "  line-height: 1em;\n",
       "  font-family: monospace;\n",
       "  background-color: var(--sklearn-color-background);\n",
       "  border-radius: 1em;\n",
       "  height: 1em;\n",
       "  width: 1em;\n",
       "  text-decoration: none !important;\n",
       "  margin-left: 1ex;\n",
       "  /* unfitted */\n",
       "  border: var(--sklearn-color-unfitted-level-1) 1pt solid;\n",
       "  color: var(--sklearn-color-unfitted-level-1);\n",
       "}\n",
       "\n",
       ".sk-estimator-doc-link.fitted,\n",
       "a:link.sk-estimator-doc-link.fitted,\n",
       "a:visited.sk-estimator-doc-link.fitted {\n",
       "  /* fitted */\n",
       "  border: var(--sklearn-color-fitted-level-1) 1pt solid;\n",
       "  color: var(--sklearn-color-fitted-level-1);\n",
       "}\n",
       "\n",
       "/* On hover */\n",
       "div.sk-estimator:hover .sk-estimator-doc-link:hover,\n",
       ".sk-estimator-doc-link:hover,\n",
       "div.sk-label-container:hover .sk-estimator-doc-link:hover,\n",
       ".sk-estimator-doc-link:hover {\n",
       "  /* unfitted */\n",
       "  background-color: var(--sklearn-color-unfitted-level-3);\n",
       "  color: var(--sklearn-color-background);\n",
       "  text-decoration: none;\n",
       "}\n",
       "\n",
       "div.sk-estimator.fitted:hover .sk-estimator-doc-link.fitted:hover,\n",
       ".sk-estimator-doc-link.fitted:hover,\n",
       "div.sk-label-container:hover .sk-estimator-doc-link.fitted:hover,\n",
       ".sk-estimator-doc-link.fitted:hover {\n",
       "  /* fitted */\n",
       "  background-color: var(--sklearn-color-fitted-level-3);\n",
       "  color: var(--sklearn-color-background);\n",
       "  text-decoration: none;\n",
       "}\n",
       "\n",
       "/* Span, style for the box shown on hovering the info icon */\n",
       ".sk-estimator-doc-link span {\n",
       "  display: none;\n",
       "  z-index: 9999;\n",
       "  position: relative;\n",
       "  font-weight: normal;\n",
       "  right: .2ex;\n",
       "  padding: .5ex;\n",
       "  margin: .5ex;\n",
       "  width: min-content;\n",
       "  min-width: 20ex;\n",
       "  max-width: 50ex;\n",
       "  color: var(--sklearn-color-text);\n",
       "  box-shadow: 2pt 2pt 4pt #999;\n",
       "  /* unfitted */\n",
       "  background: var(--sklearn-color-unfitted-level-0);\n",
       "  border: .5pt solid var(--sklearn-color-unfitted-level-3);\n",
       "}\n",
       "\n",
       ".sk-estimator-doc-link.fitted span {\n",
       "  /* fitted */\n",
       "  background: var(--sklearn-color-fitted-level-0);\n",
       "  border: var(--sklearn-color-fitted-level-3);\n",
       "}\n",
       "\n",
       ".sk-estimator-doc-link:hover span {\n",
       "  display: block;\n",
       "}\n",
       "\n",
       "/* \"?\"-specific style due to the `<a>` HTML tag */\n",
       "\n",
       "#sk-container-id-1 a.estimator_doc_link {\n",
       "  float: right;\n",
       "  font-size: 1rem;\n",
       "  line-height: 1em;\n",
       "  font-family: monospace;\n",
       "  background-color: var(--sklearn-color-background);\n",
       "  border-radius: 1rem;\n",
       "  height: 1rem;\n",
       "  width: 1rem;\n",
       "  text-decoration: none;\n",
       "  /* unfitted */\n",
       "  color: var(--sklearn-color-unfitted-level-1);\n",
       "  border: var(--sklearn-color-unfitted-level-1) 1pt solid;\n",
       "}\n",
       "\n",
       "#sk-container-id-1 a.estimator_doc_link.fitted {\n",
       "  /* fitted */\n",
       "  border: var(--sklearn-color-fitted-level-1) 1pt solid;\n",
       "  color: var(--sklearn-color-fitted-level-1);\n",
       "}\n",
       "\n",
       "/* On hover */\n",
       "#sk-container-id-1 a.estimator_doc_link:hover {\n",
       "  /* unfitted */\n",
       "  background-color: var(--sklearn-color-unfitted-level-3);\n",
       "  color: var(--sklearn-color-background);\n",
       "  text-decoration: none;\n",
       "}\n",
       "\n",
       "#sk-container-id-1 a.estimator_doc_link.fitted:hover {\n",
       "  /* fitted */\n",
       "  background-color: var(--sklearn-color-fitted-level-3);\n",
       "}\n",
       "</style><div id=\"sk-container-id-1\" class=\"sk-top-container\"><div class=\"sk-text-repr-fallback\"><pre>XGBClassifier(base_score=None, booster=None, callbacks=None,\n",
       "              colsample_bylevel=None, colsample_bynode=0.35318076412986676,\n",
       "              colsample_bytree=None, device=None, early_stopping_rounds=None,\n",
       "              enable_categorical=False,\n",
       "              eval_metric=&lt;function custom_f1_score at 0x7fde3e0b4540&gt;,\n",
       "              feature_types=None, gamma=None, grow_policy=None,\n",
       "              importance_type=None, interaction_constraints=None,\n",
       "              learning_rate=0.26113925787801795, max_bin=None,\n",
       "              max_cat_threshold=None, max_cat_to_onehot=None,\n",
       "              max_delta_step=None, max_depth=16, max_leaves=None,\n",
       "              min_child_weight=68, missing=nan, monotone_constraints=None,\n",
       "              multi_strategy=None, n_estimators=123, n_jobs=None,\n",
       "              num_parallel_tree=None, objective=&#x27;multi:softprob&#x27;, ...)</pre><b>In a Jupyter environment, please rerun this cell to show the HTML representation or trust the notebook. <br />On GitHub, the HTML representation is unable to render, please try loading this page with nbviewer.org.</b></div><div class=\"sk-container\" hidden><div class=\"sk-item\"><div class=\"sk-estimator fitted sk-toggleable\"><input class=\"sk-toggleable__control sk-hidden--visually\" id=\"sk-estimator-id-1\" type=\"checkbox\" checked><label for=\"sk-estimator-id-1\" class=\"sk-toggleable__label fitted sk-toggleable__label-arrow fitted\">&nbsp;XGBClassifier<span class=\"sk-estimator-doc-link fitted\">i<span>Fitted</span></span></label><div class=\"sk-toggleable__content fitted\"><pre>XGBClassifier(base_score=None, booster=None, callbacks=None,\n",
       "              colsample_bylevel=None, colsample_bynode=0.35318076412986676,\n",
       "              colsample_bytree=None, device=None, early_stopping_rounds=None,\n",
       "              enable_categorical=False,\n",
       "              eval_metric=&lt;function custom_f1_score at 0x7fde3e0b4540&gt;,\n",
       "              feature_types=None, gamma=None, grow_policy=None,\n",
       "              importance_type=None, interaction_constraints=None,\n",
       "              learning_rate=0.26113925787801795, max_bin=None,\n",
       "              max_cat_threshold=None, max_cat_to_onehot=None,\n",
       "              max_delta_step=None, max_depth=16, max_leaves=None,\n",
       "              min_child_weight=68, missing=nan, monotone_constraints=None,\n",
       "              multi_strategy=None, n_estimators=123, n_jobs=None,\n",
       "              num_parallel_tree=None, objective=&#x27;multi:softprob&#x27;, ...)</pre></div> </div></div></div></div>"
      ],
      "text/plain": [
       "XGBClassifier(base_score=None, booster=None, callbacks=None,\n",
       "              colsample_bylevel=None, colsample_bynode=0.35318076412986676,\n",
       "              colsample_bytree=None, device=None, early_stopping_rounds=None,\n",
       "              enable_categorical=False,\n",
       "              eval_metric=<function custom_f1_score at 0x7fde3e0b4540>,\n",
       "              feature_types=None, gamma=None, grow_policy=None,\n",
       "              importance_type=None, interaction_constraints=None,\n",
       "              learning_rate=0.26113925787801795, max_bin=None,\n",
       "              max_cat_threshold=None, max_cat_to_onehot=None,\n",
       "              max_delta_step=None, max_depth=16, max_leaves=None,\n",
       "              min_child_weight=68, missing=nan, monotone_constraints=None,\n",
       "              multi_strategy=None, n_estimators=123, n_jobs=None,\n",
       "              num_parallel_tree=None, objective='multi:softprob', ...)"
      ]
     },
     "execution_count": 21,
     "metadata": {},
     "output_type": "execute_result"
    }
   ],
   "source": [
    "n_estimators = int(study.best_trial.user_attrs['best_iteration']*1.2)\n",
    "xgb = xgboost.XGBClassifier(\n",
    "        eval_metric=eval_metric,\n",
    "        n_estimators=n_estimators,\n",
    "        **study.best_trial.params\n",
    "    )\n",
    "xgb.fit(\n",
    "    ssp.vstack((X_train, X_val)), \n",
    "    np.concatenate((y_train_enc, y_val_enc)),\n",
    "    verbose=1,\n",
    ")"
   ]
  },
  {
   "cell_type": "code",
   "execution_count": 22,
   "id": "fb91149b",
   "metadata": {
    "execution": {
     "iopub.execute_input": "2025-06-13T13:23:37.236952Z",
     "iopub.status.busy": "2025-06-13T13:23:37.236735Z",
     "iopub.status.idle": "2025-06-13T13:23:37.292473Z",
     "shell.execute_reply": "2025-06-13T13:23:37.292073Z"
    },
    "papermill": {
     "duration": 0.067732,
     "end_time": "2025-06-13T13:23:37.293466",
     "exception": false,
     "start_time": "2025-06-13T13:23:37.225734",
     "status": "completed"
    },
    "tags": []
   },
   "outputs": [
    {
     "data": {
      "text/plain": [
       "['/scratch_isilon/groups/singlecell/shared/projects/Inflammation-PBMCs-Atlas/03_downstream_analysis/08_gene_importance/xgboost_external_validation/xgboost_TopN_genes/results_20/best_model/Mono_shap_studyID_NOdisease_samesize_1_xgb.json']"
      ]
     },
     "execution_count": 22,
     "metadata": {},
     "output_type": "execute_result"
    }
   ],
   "source": [
    "out_dir = here(f'03_downstream_analysis/08_gene_importance/xgboost_external_validation/xgboost_TopN_genes/results_{N_GENES}/best_model')\n",
    "\n",
    "if not os.path.exists(out_dir):\n",
    "    os.makedirs(out_dir)\n",
    "    \n",
    "joblib.dump(xgb, os.path.join(out_dir, f'{CELL_TYPE}_{SEED}_{TEST_SPLIT_IDX}_xgb.json'))"
   ]
  },
  {
   "cell_type": "code",
   "execution_count": 23,
   "id": "473ea22b",
   "metadata": {
    "execution": {
     "iopub.execute_input": "2025-06-13T13:23:37.315424Z",
     "iopub.status.busy": "2025-06-13T13:23:37.315219Z",
     "iopub.status.idle": "2025-06-13T13:23:38.148782Z",
     "shell.execute_reply": "2025-06-13T13:23:38.148354Z"
    },
    "papermill": {
     "duration": 0.84673,
     "end_time": "2025-06-13T13:23:38.150085",
     "exception": false,
     "start_time": "2025-06-13T13:23:37.303355",
     "status": "completed"
    },
    "tags": []
   },
   "outputs": [],
   "source": [
    "df_pred_test = pd.DataFrame(dict(\n",
    "    cell_id=train_adata.obs.iloc[test_idxs].index.values,\n",
    "    y_true=y_test, \n",
    "    y_true_code=y_test_enc, \n",
    "    y_pred=xgb.predict(X_test))).set_index('cell_id')"
   ]
  },
  {
   "cell_type": "code",
   "execution_count": 24,
   "id": "4bb23066",
   "metadata": {
    "execution": {
     "iopub.execute_input": "2025-06-13T13:23:38.170310Z",
     "iopub.status.busy": "2025-06-13T13:23:38.169964Z",
     "iopub.status.idle": "2025-06-13T13:23:38.410507Z",
     "shell.execute_reply": "2025-06-13T13:23:38.410052Z"
    },
    "papermill": {
     "duration": 0.25206,
     "end_time": "2025-06-13T13:23:38.411786",
     "exception": false,
     "start_time": "2025-06-13T13:23:38.159726",
     "status": "completed"
    },
    "tags": []
   },
   "outputs": [],
   "source": [
    "out_dir = here(f'03_downstream_analysis/08_gene_importance/xgboost_external_validation/xgboost_TopN_genes/results_{N_GENES}/predictions')\n",
    "\n",
    "if not os.path.exists(out_dir):\n",
    "    os.makedirs(out_dir)\n",
    "    \n",
    "df_pred_test.to_csv(os.path.join(out_dir, f'{CELL_TYPE}_{SEED}_{TEST_SPLIT_IDX}_pred_test.zip'))"
   ]
  },
  {
   "cell_type": "code",
   "execution_count": 25,
   "id": "b77b34f3",
   "metadata": {
    "execution": {
     "iopub.execute_input": "2025-06-13T13:23:38.432846Z",
     "iopub.status.busy": "2025-06-13T13:23:38.432474Z",
     "iopub.status.idle": "2025-06-13T13:23:38.451108Z",
     "shell.execute_reply": "2025-06-13T13:23:38.450685Z"
    },
    "papermill": {
     "duration": 0.030174,
     "end_time": "2025-06-13T13:23:38.452191",
     "exception": false,
     "start_time": "2025-06-13T13:23:38.422017",
     "status": "completed"
    },
    "tags": []
   },
   "outputs": [],
   "source": [
    "metrics_dict = dict(\n",
    "    BAS=balanced_accuracy_score(y_true=df_pred_test.y_true_code, y_pred=df_pred_test.y_pred), WF1=f1_score(y_true=df_pred_test.y_true_code, y_pred=df_pred_test.y_pred,average='weighted'))"
   ]
  },
  {
   "cell_type": "code",
   "execution_count": 26,
   "id": "c5bf4c71",
   "metadata": {
    "execution": {
     "iopub.execute_input": "2025-06-13T13:23:38.474522Z",
     "iopub.status.busy": "2025-06-13T13:23:38.474173Z",
     "iopub.status.idle": "2025-06-13T13:23:38.477263Z",
     "shell.execute_reply": "2025-06-13T13:23:38.476937Z"
    },
    "papermill": {
     "duration": 0.017388,
     "end_time": "2025-06-13T13:23:38.479626",
     "exception": false,
     "start_time": "2025-06-13T13:23:38.462238",
     "status": "completed"
    },
    "tags": []
   },
   "outputs": [
    {
     "data": {
      "text/plain": [
       "{'BAS': 0.5008386897192179, 'WF1': 0.7180643498996905}"
      ]
     },
     "execution_count": 26,
     "metadata": {},
     "output_type": "execute_result"
    }
   ],
   "source": [
    "metrics_dict"
   ]
  },
  {
   "cell_type": "code",
   "execution_count": 27,
   "id": "8cb44ba7",
   "metadata": {
    "execution": {
     "iopub.execute_input": "2025-06-13T13:23:38.500672Z",
     "iopub.status.busy": "2025-06-13T13:23:38.500322Z",
     "iopub.status.idle": "2025-06-13T13:23:38.510433Z",
     "shell.execute_reply": "2025-06-13T13:23:38.510080Z"
    },
    "papermill": {
     "duration": 0.022076,
     "end_time": "2025-06-13T13:23:38.511383",
     "exception": false,
     "start_time": "2025-06-13T13:23:38.489307",
     "status": "completed"
    },
    "tags": []
   },
   "outputs": [
    {
     "data": {
      "text/html": [
       "<div>\n",
       "<style scoped>\n",
       "    .dataframe tbody tr th:only-of-type {\n",
       "        vertical-align: middle;\n",
       "    }\n",
       "\n",
       "    .dataframe tbody tr th {\n",
       "        vertical-align: top;\n",
       "    }\n",
       "\n",
       "    .dataframe thead th {\n",
       "        text-align: right;\n",
       "    }\n",
       "</style>\n",
       "<table border=\"1\" class=\"dataframe\">\n",
       "  <thead>\n",
       "    <tr style=\"text-align: right;\">\n",
       "      <th></th>\n",
       "      <th>BAS</th>\n",
       "      <th>WF1</th>\n",
       "      <th>split_idx</th>\n",
       "      <th>gene_set_seed</th>\n",
       "      <th>cell_type</th>\n",
       "    </tr>\n",
       "  </thead>\n",
       "  <tbody>\n",
       "    <tr>\n",
       "      <th>0</th>\n",
       "      <td>0.500839</td>\n",
       "      <td>0.718064</td>\n",
       "      <td>1</td>\n",
       "      <td>shap_studyID_NOdisease_samesize</td>\n",
       "      <td>Mono</td>\n",
       "    </tr>\n",
       "  </tbody>\n",
       "</table>\n",
       "</div>"
      ],
      "text/plain": [
       "        BAS       WF1  split_idx                    gene_set_seed cell_type\n",
       "0  0.500839  0.718064          1  shap_studyID_NOdisease_samesize      Mono"
      ]
     },
     "execution_count": 27,
     "metadata": {},
     "output_type": "execute_result"
    }
   ],
   "source": [
    "metrics_df = pd.DataFrame.from_dict([metrics_dict]).assign(split_idx=TEST_SPLIT_IDX, gene_set_seed=SEED, cell_type=CELL_TYPE)\n",
    "metrics_df"
   ]
  },
  {
   "cell_type": "code",
   "execution_count": 28,
   "id": "6f890c08",
   "metadata": {
    "execution": {
     "iopub.execute_input": "2025-06-13T13:23:38.531836Z",
     "iopub.status.busy": "2025-06-13T13:23:38.531636Z",
     "iopub.status.idle": "2025-06-13T13:23:38.539668Z",
     "shell.execute_reply": "2025-06-13T13:23:38.539317Z"
    },
    "papermill": {
     "duration": 0.019838,
     "end_time": "2025-06-13T13:23:38.540712",
     "exception": false,
     "start_time": "2025-06-13T13:23:38.520874",
     "status": "completed"
    },
    "tags": []
   },
   "outputs": [],
   "source": [
    "out_dir = here(f'03_downstream_analysis/08_gene_importance/xgboost_external_validation/xgboost_TopN_genes/results_{N_GENES}/metrics')\n",
    "\n",
    "if not os.path.exists(out_dir):\n",
    "    os.makedirs(out_dir)\n",
    "    \n",
    "metrics_df.to_csv(os.path.join(out_dir, f'{CELL_TYPE}_{SEED}_{TEST_SPLIT_IDX}_metrics.zip'))"
   ]
  }
 ],
 "metadata": {
  "kernelspec": {
   "display_name": "Python 3 (ipykernel)",
   "language": "python",
   "name": "python3"
  },
  "language_info": {
   "codemirror_mode": {
    "name": "ipython",
    "version": 3
   },
   "file_extension": ".py",
   "mimetype": "text/x-python",
   "name": "python",
   "nbconvert_exporter": "python",
   "pygments_lexer": "ipython3",
   "version": "3.12.5"
  },
  "papermill": {
   "default_parameters": {},
   "duration": 1365.480946,
   "end_time": "2025-06-13T13:23:39.266459",
   "environment_variables": {},
   "exception": null,
   "input_path": "02_xgboost_fitting_external_20genes.ipynb",
   "output_path": "results_20/executed_notebooks/xgboost_fitting_external_CT_Mono_GS_shap_studyID_NOdisease_samesize_seed1.ipynb",
   "parameters": {
    "CELL_TYPE": "Mono",
    "SEED": "shap_studyID_NOdisease_samesize",
    "TEST_SPLIT_IDX": 1
   },
   "start_time": "2025-06-13T13:00:53.785513",
   "version": "2.6.0"
  }
 },
 "nbformat": 4,
 "nbformat_minor": 5
}