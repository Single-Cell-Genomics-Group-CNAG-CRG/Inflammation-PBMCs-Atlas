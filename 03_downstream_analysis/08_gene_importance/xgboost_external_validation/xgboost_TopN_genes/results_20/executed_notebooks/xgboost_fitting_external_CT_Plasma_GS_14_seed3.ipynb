{
 "cells": [
  {
   "cell_type": "code",
   "execution_count": 1,
   "id": "7ef9c239",
   "metadata": {
    "editable": true,
    "execution": {
     "iopub.execute_input": "2025-05-15T16:15:44.111722Z",
     "iopub.status.busy": "2025-05-15T16:15:44.111414Z",
     "iopub.status.idle": "2025-05-15T16:15:44.114635Z",
     "shell.execute_reply": "2025-05-15T16:15:44.114304Z"
    },
    "papermill": {
     "duration": 0.023638,
     "end_time": "2025-05-15T16:15:44.115578",
     "exception": false,
     "start_time": "2025-05-15T16:15:44.091940",
     "status": "completed"
    },
    "slideshow": {
     "slide_type": ""
    },
    "tags": [
     "parameters"
    ]
   },
   "outputs": [],
   "source": [
    "CELL_TYPE = 'pDC'\n",
    "N_GENES: int = 20\n",
    "SEED = 'shap_studyID' #'disease_NOstudy' 'study_NOdisease' or 'int' or 'shap_studyID'\n",
    "TEST_SPLIT_IDX: int = 1 #[0,4]"
   ]
  },
  {
   "cell_type": "code",
   "execution_count": 2,
   "id": "4cdc70e6",
   "metadata": {
    "execution": {
     "iopub.execute_input": "2025-05-15T16:15:44.128524Z",
     "iopub.status.busy": "2025-05-15T16:15:44.128222Z",
     "iopub.status.idle": "2025-05-15T16:15:44.130644Z",
     "shell.execute_reply": "2025-05-15T16:15:44.130227Z"
    },
    "papermill": {
     "duration": 0.00974,
     "end_time": "2025-05-15T16:15:44.131536",
     "exception": false,
     "start_time": "2025-05-15T16:15:44.121796",
     "status": "completed"
    },
    "tags": [
     "injected-parameters"
    ]
   },
   "outputs": [],
   "source": [
    "# Parameters\n",
    "CELL_TYPE = \"Plasma\"\n",
    "SEED = 14\n",
    "TEST_SPLIT_IDX = 3\n"
   ]
  },
  {
   "cell_type": "code",
   "execution_count": 3,
   "id": "522cc68b",
   "metadata": {
    "execution": {
     "iopub.execute_input": "2025-05-15T16:15:44.145211Z",
     "iopub.status.busy": "2025-05-15T16:15:44.144911Z",
     "iopub.status.idle": "2025-05-15T16:15:44.147521Z",
     "shell.execute_reply": "2025-05-15T16:15:44.147198Z"
    },
    "papermill": {
     "duration": 0.010961,
     "end_time": "2025-05-15T16:15:44.148427",
     "exception": false,
     "start_time": "2025-05-15T16:15:44.137466",
     "status": "completed"
    },
    "tags": []
   },
   "outputs": [],
   "source": [
    "N_SPLITS: int = 5\n",
    "N_TRIALS: int = 50"
   ]
  },
  {
   "cell_type": "code",
   "execution_count": 4,
   "id": "ed6a5aa5",
   "metadata": {
    "execution": {
     "iopub.execute_input": "2025-05-15T16:15:44.162496Z",
     "iopub.status.busy": "2025-05-15T16:15:44.162211Z",
     "iopub.status.idle": "2025-05-15T16:15:45.706077Z",
     "shell.execute_reply": "2025-05-15T16:15:45.705477Z"
    },
    "papermill": {
     "duration": 1.552939,
     "end_time": "2025-05-15T16:15:45.707525",
     "exception": false,
     "start_time": "2025-05-15T16:15:44.154586",
     "status": "completed"
    },
    "tags": []
   },
   "outputs": [],
   "source": [
    "import os\n",
    "import sys\n",
    "from pyprojroot.here import here\n",
    "import pandas as pd\n",
    "import anndata as ad\n",
    "import numpy as np\n",
    "import math\n",
    "from sklearn.model_selection import StratifiedGroupKFold\n",
    "from sklearn.preprocessing import LabelEncoder\n",
    "from sklearn.metrics import f1_score\n",
    "import matplotlib.pyplot as plt\n",
    "import seaborn as sns\n",
    "from itertools import product\n",
    "from sklearn.metrics import balanced_accuracy_score, f1_score\n",
    "import optuna\n",
    "\n",
    "import joblib\n",
    "import pickle\n",
    "import datetime\n",
    "\n",
    "import collections\n",
    "\n",
    "import xgboost\n",
    "from sklearn.preprocessing import LabelEncoder\n",
    "\n",
    "import scipy.sparse as ssp\n",
    "import joblib\n",
    "\n",
    "from dotenv import load_dotenv"
   ]
  },
  {
   "cell_type": "code",
   "execution_count": 5,
   "id": "97c83b3b",
   "metadata": {
    "execution": {
     "iopub.execute_input": "2025-05-15T16:15:45.720907Z",
     "iopub.status.busy": "2025-05-15T16:15:45.720319Z",
     "iopub.status.idle": "2025-05-15T16:15:45.726130Z",
     "shell.execute_reply": "2025-05-15T16:15:45.725803Z"
    },
    "papermill": {
     "duration": 0.013099,
     "end_time": "2025-05-15T16:15:45.727023",
     "exception": false,
     "start_time": "2025-05-15T16:15:45.713924",
     "status": "completed"
    },
    "tags": []
   },
   "outputs": [
    {
     "data": {
      "text/plain": [
       "True"
      ]
     },
     "execution_count": 5,
     "metadata": {},
     "output_type": "execute_result"
    }
   ],
   "source": [
    "load_dotenv()"
   ]
  },
  {
   "cell_type": "markdown",
   "id": "17c9064a",
   "metadata": {
    "papermill": {
     "duration": 0.006305,
     "end_time": "2025-05-15T16:15:45.739980",
     "exception": false,
     "start_time": "2025-05-15T16:15:45.733675",
     "status": "completed"
    },
    "tags": []
   },
   "source": [
    "# LOAD DATASET"
   ]
  },
  {
   "cell_type": "code",
   "execution_count": 6,
   "id": "c1d8f7cd",
   "metadata": {
    "execution": {
     "iopub.execute_input": "2025-05-15T16:15:45.752676Z",
     "iopub.status.busy": "2025-05-15T16:15:45.752212Z",
     "iopub.status.idle": "2025-05-15T16:15:45.793229Z",
     "shell.execute_reply": "2025-05-15T16:15:45.792671Z"
    },
    "papermill": {
     "duration": 0.049044,
     "end_time": "2025-05-15T16:15:45.794516",
     "exception": false,
     "start_time": "2025-05-15T16:15:45.745472",
     "status": "completed"
    },
    "tags": []
   },
   "outputs": [],
   "source": [
    "train_adata = ad.read_h5ad(\n",
    "    here(f'03_downstream_analysis/08_gene_importance/xgboost_external_validation/xgboost_TopN_genes/data_cellTypes/EXTERNAL_{CELL_TYPE}.filtered.log1p.h5ad')\n",
    ")"
   ]
  },
  {
   "cell_type": "code",
   "execution_count": 7,
   "id": "e376be66",
   "metadata": {
    "execution": {
     "iopub.execute_input": "2025-05-15T16:15:45.807828Z",
     "iopub.status.busy": "2025-05-15T16:15:45.807410Z",
     "iopub.status.idle": "2025-05-15T16:15:45.820914Z",
     "shell.execute_reply": "2025-05-15T16:15:45.820259Z"
    },
    "papermill": {
     "duration": 0.020996,
     "end_time": "2025-05-15T16:15:45.821851",
     "exception": false,
     "start_time": "2025-05-15T16:15:45.800855",
     "status": "completed"
    },
    "tags": []
   },
   "outputs": [
    {
     "name": "stdout",
     "output_type": "stream",
     "text": [
      "['ENSG00000123268' 'ENSG00000165280' 'ENSG00000082074' 'ENSG00000204264'\n",
      " 'ENSG00000171476' 'ENSG00000160075' 'ENSG00000178719' 'ENSG00000100600'\n",
      " 'ENSG00000138802' 'ENSG00000125743' 'ENSG00000135114' 'ENSG00000143543'\n",
      " 'ENSG00000157873' 'ENSG00000163931' 'ENSG00000168389' 'ENSG00000111640'\n",
      " 'ENSG00000172183' 'ENSG00000100368' 'ENSG00000035115' 'ENSG00000100911'\n",
      " 'ENSG00000162739' 'ENSG00000163220' 'ENSG00000275302' 'ENSG00000107223'\n",
      " 'ENSG00000116191' 'ENSG00000148834' 'ENSG00000127184' 'ENSG00000167004'\n",
      " 'ENSG00000169442' 'ENSG00000104763' 'ENSG00000106367' 'ENSG00000164307'\n",
      " 'ENSG00000111678' 'ENSG00000112137' 'ENSG00000153283' 'ENSG00000136156'\n",
      " 'ENSG00000185650' 'ENSG00000172531' 'ENSG00000118503' 'ENSG00000277734'\n",
      " 'ENSG00000113811' 'ENSG00000103187' 'ENSG00000131018' 'ENSG00000254087'\n",
      " 'ENSG00000125740' 'ENSG00000165527' 'ENSG00000100300' 'ENSG00000189067'\n",
      " 'ENSG00000145912' 'ENSG00000183172' 'ENSG00000180008' 'ENSG00000198832'\n",
      " 'ENSG00000143774' 'ENSG00000042980' 'ENSG00000142166' 'ENSG00000158517'\n",
      " 'ENSG00000100365' 'ENSG00000121552' 'ENSG00000152518' 'ENSG00000011600'\n",
      " 'ENSG00000162434' 'ENSG00000171791' 'ENSG00000265972' 'ENSG00000068831'\n",
      " 'ENSG00000099204' 'ENSG00000167996' 'ENSG00000173757' 'ENSG00000089280'\n",
      " 'ENSG00000090554' 'ENSG00000164674' 'ENSG00000196961' 'ENSG00000015475'\n",
      " 'ENSG00000101474' 'ENSG00000179218' 'ENSG00000132432' 'ENSG00000075426'\n",
      " 'ENSG00000018280' 'ENSG00000101608' 'ENSG00000197747' 'ENSG00000110395'\n",
      " 'ENSG00000155368' 'ENSG00000185338' 'ENSG00000204267' 'ENSG00000113088'\n",
      " 'ENSG00000059728' 'ENSG00000159958' 'ENSG00000130830' 'ENSG00000136738'\n",
      " 'ENSG00000085265' 'ENSG00000170476' 'ENSG00000048462' 'ENSG00000182117'\n",
      " 'ENSG00000171608' 'ENSG00000149311' 'ENSG00000164543' 'ENSG00000242616'\n",
      " 'ENSG00000241106' 'ENSG00000179144' 'ENSG00000177663' 'ENSG00000100450'\n",
      " 'ENSG00000077984' 'ENSG00000172543' 'ENSG00000111796' 'ENSG00000168685'\n",
      " 'ENSG00000163513' 'ENSG00000184557' 'ENSG00000001167']\n"
     ]
    }
   ],
   "source": [
    "if SEED != 'all':\n",
    "    gene_subset = np.load(here(f'03_downstream_analysis/08_gene_importance/xgboost_external_validation/shap_gene_selection/gene_subsets_{N_GENES}/{CELL_TYPE}_{SEED}.npy'), allow_pickle=True)\n",
    "    train_adata = train_adata[:,gene_subset]\n",
    "    print(gene_subset)\n",
    "elif SEED == 'all':\n",
    "    print('Using all genes')\n",
    "else:\n",
    "    raise ValueError()"
   ]
  },
  {
   "cell_type": "code",
   "execution_count": 8,
   "id": "cc2c0a0c",
   "metadata": {
    "execution": {
     "iopub.execute_input": "2025-05-15T16:15:45.834924Z",
     "iopub.status.busy": "2025-05-15T16:15:45.834661Z",
     "iopub.status.idle": "2025-05-15T16:15:45.838446Z",
     "shell.execute_reply": "2025-05-15T16:15:45.838029Z"
    },
    "papermill": {
     "duration": 0.011293,
     "end_time": "2025-05-15T16:15:45.839351",
     "exception": false,
     "start_time": "2025-05-15T16:15:45.828058",
     "status": "completed"
    },
    "tags": []
   },
   "outputs": [
    {
     "data": {
      "text/plain": [
       "(542, 107)"
      ]
     },
     "execution_count": 8,
     "metadata": {},
     "output_type": "execute_result"
    }
   ],
   "source": [
    "train_adata.shape"
   ]
  },
  {
   "cell_type": "code",
   "execution_count": 9,
   "id": "160a294c",
   "metadata": {
    "execution": {
     "iopub.execute_input": "2025-05-15T16:15:45.852141Z",
     "iopub.status.busy": "2025-05-15T16:15:45.851869Z",
     "iopub.status.idle": "2025-05-15T16:15:45.856105Z",
     "shell.execute_reply": "2025-05-15T16:15:45.855625Z"
    },
    "papermill": {
     "duration": 0.011522,
     "end_time": "2025-05-15T16:15:45.857015",
     "exception": false,
     "start_time": "2025-05-15T16:15:45.845493",
     "status": "completed"
    },
    "tags": []
   },
   "outputs": [
    {
     "data": {
      "text/plain": [
       "['RA', 'COVID', 'healthy', 'HIV', 'cirrhosis', 'CD', 'SLE', 'sepsis']\n",
       "Categories (8, object): ['CD', 'COVID', 'HIV', 'RA', 'SLE', 'cirrhosis', 'healthy', 'sepsis']"
      ]
     },
     "execution_count": 9,
     "metadata": {},
     "output_type": "execute_result"
    }
   ],
   "source": [
    "train_adata.obs.disease.unique()"
   ]
  },
  {
   "cell_type": "code",
   "execution_count": 10,
   "id": "ac56a4c9",
   "metadata": {
    "execution": {
     "iopub.execute_input": "2025-05-15T16:15:45.876735Z",
     "iopub.status.busy": "2025-05-15T16:15:45.876460Z",
     "iopub.status.idle": "2025-05-15T16:15:45.881937Z",
     "shell.execute_reply": "2025-05-15T16:15:45.881479Z"
    },
    "papermill": {
     "duration": 0.019494,
     "end_time": "2025-05-15T16:15:45.882838",
     "exception": false,
     "start_time": "2025-05-15T16:15:45.863344",
     "status": "completed"
    },
    "tags": []
   },
   "outputs": [
    {
     "data": {
      "text/plain": [
       "['SCGT00val_I0364_T0', 'SCGT00val_I036019_T0', 'SCGT00val_I036028_T0', 'SCGT00val_I036024_T0', 'SCGT00val_I036016_T0', ..., '10XGenomics_10XHC2_T0', '10XGenomics_10XHC3_T0', '10XGenomics_10XHC5_T0', '10XGenomics_10XHC7_T0', '10XGenomics_10XHC8_T0']\n",
       "Length: 74\n",
       "Categories (74, object): ['10XGenomics_10XHC1_T0', '10XGenomics_10XHC2_T0', '10XGenomics_10XHC3_T0', '10XGenomics_10XHC4_T0', ..., 'Savage2021_BRISL6_T0', 'Savage2021_BRISL7_T0', 'Savage2021_PIDA_T0', 'Savage2021_PIDB_T0']"
      ]
     },
     "execution_count": 10,
     "metadata": {},
     "output_type": "execute_result"
    }
   ],
   "source": [
    "train_adata.obs.sampleID.unique()"
   ]
  },
  {
   "cell_type": "code",
   "execution_count": 11,
   "id": "ca3e2179",
   "metadata": {
    "execution": {
     "iopub.execute_input": "2025-05-15T16:15:45.898203Z",
     "iopub.status.busy": "2025-05-15T16:15:45.897869Z",
     "iopub.status.idle": "2025-05-15T16:15:45.931561Z",
     "shell.execute_reply": "2025-05-15T16:15:45.930977Z"
    },
    "papermill": {
     "duration": 0.04166,
     "end_time": "2025-05-15T16:15:45.932487",
     "exception": false,
     "start_time": "2025-05-15T16:15:45.890827",
     "status": "completed"
    },
    "tags": []
   },
   "outputs": [],
   "source": [
    "all_idxs = np.arange(train_adata.obs.shape[0])\n",
    "left_out_splits = [s[1] for s in StratifiedGroupKFold(n_splits=N_SPLITS).split(all_idxs, train_adata.obs.disease, train_adata.obs.sampleID)]"
   ]
  },
  {
   "cell_type": "code",
   "execution_count": 12,
   "id": "f72cba39",
   "metadata": {
    "execution": {
     "iopub.execute_input": "2025-05-15T16:15:45.949952Z",
     "iopub.status.busy": "2025-05-15T16:15:45.949617Z",
     "iopub.status.idle": "2025-05-15T16:15:45.953904Z",
     "shell.execute_reply": "2025-05-15T16:15:45.953466Z"
    },
    "papermill": {
     "duration": 0.014802,
     "end_time": "2025-05-15T16:15:45.954842",
     "exception": false,
     "start_time": "2025-05-15T16:15:45.940040",
     "status": "completed"
    },
    "tags": []
   },
   "outputs": [
    {
     "data": {
      "text/plain": [
       "([0, 1, 2], 4, 3)"
      ]
     },
     "execution_count": 12,
     "metadata": {},
     "output_type": "execute_result"
    }
   ],
   "source": [
    "TRAIN_SPLIT_IDXS = [0,1,2,3,4]\n",
    "VAL_SPLIT_IDX = (TEST_SPLIT_IDX + 1) % 5\n",
    "TRAIN_SPLIT_IDXS.remove(TEST_SPLIT_IDX)\n",
    "TRAIN_SPLIT_IDXS.remove(VAL_SPLIT_IDX)\n",
    "TRAIN_SPLIT_IDXS, VAL_SPLIT_IDX, TEST_SPLIT_IDX"
   ]
  },
  {
   "cell_type": "code",
   "execution_count": 13,
   "id": "64cdb8a1",
   "metadata": {
    "execution": {
     "iopub.execute_input": "2025-05-15T16:15:46.001206Z",
     "iopub.status.busy": "2025-05-15T16:15:46.000922Z",
     "iopub.status.idle": "2025-05-15T16:15:46.004188Z",
     "shell.execute_reply": "2025-05-15T16:15:46.003740Z"
    },
    "papermill": {
     "duration": 0.043982,
     "end_time": "2025-05-15T16:15:46.005019",
     "exception": false,
     "start_time": "2025-05-15T16:15:45.961037",
     "status": "completed"
    },
    "tags": []
   },
   "outputs": [],
   "source": [
    "train_idxs = np.concatenate([left_out_splits[idx] for idx in TRAIN_SPLIT_IDXS])\n",
    "val_idxs = left_out_splits[VAL_SPLIT_IDX]\n",
    "test_idxs = left_out_splits[TEST_SPLIT_IDX]"
   ]
  },
  {
   "cell_type": "markdown",
   "id": "41fbdec8",
   "metadata": {
    "papermill": {
     "duration": 0.006236,
     "end_time": "2025-05-15T16:15:46.031785",
     "exception": false,
     "start_time": "2025-05-15T16:15:46.025549",
     "status": "completed"
    },
    "tags": []
   },
   "source": [
    "### SUBSET DATASET INTO TRAIN/TEST/VAL SPLITS"
   ]
  },
  {
   "cell_type": "code",
   "execution_count": 14,
   "id": "9c705175",
   "metadata": {
    "execution": {
     "iopub.execute_input": "2025-05-15T16:15:46.065812Z",
     "iopub.status.busy": "2025-05-15T16:15:46.065528Z",
     "iopub.status.idle": "2025-05-15T16:15:46.073811Z",
     "shell.execute_reply": "2025-05-15T16:15:46.073334Z"
    },
    "papermill": {
     "duration": 0.022666,
     "end_time": "2025-05-15T16:15:46.074775",
     "exception": false,
     "start_time": "2025-05-15T16:15:46.052109",
     "status": "completed"
    },
    "tags": []
   },
   "outputs": [
    {
     "data": {
      "text/plain": [
       "((327, 107), (99, 107), (116, 107))"
      ]
     },
     "execution_count": 14,
     "metadata": {},
     "output_type": "execute_result"
    }
   ],
   "source": [
    "X_train = train_adata.X[train_idxs]\n",
    "X_test = train_adata.X[test_idxs]\n",
    "X_val = train_adata.X[val_idxs]\n",
    "X_train.shape, X_test.shape, X_val.shape"
   ]
  },
  {
   "cell_type": "code",
   "execution_count": 15,
   "id": "e9fb21be",
   "metadata": {
    "execution": {
     "iopub.execute_input": "2025-05-15T16:15:46.089657Z",
     "iopub.status.busy": "2025-05-15T16:15:46.089454Z",
     "iopub.status.idle": "2025-05-15T16:15:46.095146Z",
     "shell.execute_reply": "2025-05-15T16:15:46.094764Z"
    },
    "papermill": {
     "duration": 0.014005,
     "end_time": "2025-05-15T16:15:46.096055",
     "exception": false,
     "start_time": "2025-05-15T16:15:46.082050",
     "status": "completed"
    },
    "tags": []
   },
   "outputs": [
    {
     "data": {
      "text/plain": [
       "((327,), (99,), (116,))"
      ]
     },
     "execution_count": 15,
     "metadata": {},
     "output_type": "execute_result"
    }
   ],
   "source": [
    "y_train = train_adata.obs.iloc[train_idxs].disease.values.astype(str)\n",
    "y_test = train_adata.obs.iloc[test_idxs].disease.values.astype(str)\n",
    "y_val = train_adata.obs.iloc[val_idxs].disease.values.astype(str)\n",
    "y_train.shape, y_test.shape, y_val.shape"
   ]
  },
  {
   "cell_type": "code",
   "execution_count": 16,
   "id": "4490da64",
   "metadata": {
    "execution": {
     "iopub.execute_input": "2025-05-15T16:15:46.111951Z",
     "iopub.status.busy": "2025-05-15T16:15:46.111694Z",
     "iopub.status.idle": "2025-05-15T16:15:46.115347Z",
     "shell.execute_reply": "2025-05-15T16:15:46.114923Z"
    },
    "papermill": {
     "duration": 0.012089,
     "end_time": "2025-05-15T16:15:46.116215",
     "exception": false,
     "start_time": "2025-05-15T16:15:46.104126",
     "status": "completed"
    },
    "tags": []
   },
   "outputs": [],
   "source": [
    "lenc = LabelEncoder()\n",
    "y_train_enc = lenc.fit_transform(y_train)\n",
    "y_val_enc = lenc.transform(y_val)\n",
    "y_test_enc = lenc.transform(y_test)"
   ]
  },
  {
   "cell_type": "markdown",
   "id": "0c90c139",
   "metadata": {
    "papermill": {
     "duration": 0.006411,
     "end_time": "2025-05-15T16:15:46.129133",
     "exception": false,
     "start_time": "2025-05-15T16:15:46.122722",
     "status": "completed"
    },
    "tags": []
   },
   "source": [
    "### GENERATE F1 "
   ]
  },
  {
   "cell_type": "code",
   "execution_count": 17,
   "id": "0bfcdc33",
   "metadata": {
    "execution": {
     "iopub.execute_input": "2025-05-15T16:15:46.143867Z",
     "iopub.status.busy": "2025-05-15T16:15:46.143398Z",
     "iopub.status.idle": "2025-05-15T16:15:46.146916Z",
     "shell.execute_reply": "2025-05-15T16:15:46.146381Z"
    },
    "papermill": {
     "duration": 0.011966,
     "end_time": "2025-05-15T16:15:46.147798",
     "exception": false,
     "start_time": "2025-05-15T16:15:46.135832",
     "status": "completed"
    },
    "tags": []
   },
   "outputs": [],
   "source": [
    "def custom_f1_score(y_true, y_pred):\n",
    "    return -f1_score(y_true, y_pred.argmax(1), average='weighted')"
   ]
  },
  {
   "cell_type": "code",
   "execution_count": 18,
   "id": "4ef46f8a",
   "metadata": {
    "execution": {
     "iopub.execute_input": "2025-05-15T16:15:46.234628Z",
     "iopub.status.busy": "2025-05-15T16:15:46.234342Z",
     "iopub.status.idle": "2025-05-15T16:15:46.239187Z",
     "shell.execute_reply": "2025-05-15T16:15:46.238609Z"
    },
    "papermill": {
     "duration": 0.013816,
     "end_time": "2025-05-15T16:15:46.240107",
     "exception": false,
     "start_time": "2025-05-15T16:15:46.226291",
     "status": "completed"
    },
    "tags": []
   },
   "outputs": [],
   "source": [
    "eval_metric=custom_f1_score\n",
    "eval_metric_name='custom_f1_score'\n",
    "\n",
    "def objective(trial):\n",
    "    params = {\n",
    "        'n_estimators': 1500,\n",
    "        'max_depth': trial.suggest_int('max_depth', 3, 20),\n",
    "        'min_child_weight': trial.suggest_int('min_child_weight', 1, 250),\n",
    "        'subsample': trial.suggest_float('subsample', 0.1, 1.0),\n",
    "        'colsample_bynode': trial.suggest_float('colsample_bynode', 0.1, 1.0),\n",
    "        'learning_rate': trial.suggest_float('learning_rate', 1e-3, 5e-1, log=True),\n",
    "    }\n",
    "    pruning_callback = optuna.integration.XGBoostPruningCallback(trial, f'validation_0-{eval_metric_name}')\n",
    "    es_callback = xgboost.callback.EarlyStopping(20, min_delta=0.001)\n",
    "    xgb = xgboost.XGBClassifier(\n",
    "        eval_metric=eval_metric,\n",
    "        callbacks=[pruning_callback, es_callback],\n",
    "        n_jobs=5,\n",
    "        **params\n",
    "    )\n",
    "    xgb.fit(\n",
    "        X_train, \n",
    "        y_train_enc, \n",
    "        verbose=0,\n",
    "        eval_set=[(X_val, y_val_enc)],\n",
    "    )\n",
    "    trial.set_user_attr('best_iteration', xgb.best_iteration)\n",
    "\n",
    "    return xgb.best_score"
   ]
  },
  {
   "cell_type": "code",
   "execution_count": 19,
   "id": "14f452ce",
   "metadata": {
    "execution": {
     "iopub.execute_input": "2025-05-15T16:15:46.254509Z",
     "iopub.status.busy": "2025-05-15T16:15:46.254150Z",
     "iopub.status.idle": "2025-05-15T16:16:00.034888Z",
     "shell.execute_reply": "2025-05-15T16:16:00.034385Z"
    },
    "papermill": {
     "duration": 13.789181,
     "end_time": "2025-05-15T16:16:00.035953",
     "exception": false,
     "start_time": "2025-05-15T16:15:46.246772",
     "status": "completed"
    },
    "scrolled": true,
    "tags": []
   },
   "outputs": [
    {
     "name": "stderr",
     "output_type": "stream",
     "text": [
      "[I 2025-05-15 18:15:46,256] A new study created in memory with name: no-name-cd34ad0b-27ce-4dc1-ae89-1208fc88e5b8\n"
     ]
    },
    {
     "name": "stderr",
     "output_type": "stream",
     "text": [
      "[I 2025-05-15 18:15:46,343] Trial 0 finished with value: -0.041688 and parameters: {'max_depth': 9, 'min_child_weight': 238, 'subsample': 0.7587945476302645, 'colsample_bynode': 0.6387926357773329, 'learning_rate': 0.0026368755339723046}. Best is trial 0 with value: -0.041688.\n"
     ]
    },
    {
     "name": "stderr",
     "output_type": "stream",
     "text": [
      "[I 2025-05-15 18:15:47,335] Trial 1 finished with value: -0.563734 and parameters: {'max_depth': 5, 'min_child_weight': 15, 'subsample': 0.8795585311974417, 'colsample_bynode': 0.6410035105688879, 'learning_rate': 0.08148293210105287}. Best is trial 1 with value: -0.563734.\n"
     ]
    },
    {
     "name": "stderr",
     "output_type": "stream",
     "text": [
      "[I 2025-05-15 18:15:47,513] Trial 2 finished with value: -0.041688 and parameters: {'max_depth': 3, 'min_child_weight': 243, 'subsample': 0.8491983767203796, 'colsample_bynode': 0.29110519961044856, 'learning_rate': 0.003095566460242371}. Best is trial 1 with value: -0.563734.\n"
     ]
    },
    {
     "name": "stderr",
     "output_type": "stream",
     "text": [
      "[I 2025-05-15 18:15:47,693] Trial 3 finished with value: -0.041688 and parameters: {'max_depth': 6, 'min_child_weight': 77, 'subsample': 0.5722807884690141, 'colsample_bynode': 0.48875051677790415, 'learning_rate': 0.006109683510122491}. Best is trial 1 with value: -0.563734.\n"
     ]
    },
    {
     "name": "stderr",
     "output_type": "stream",
     "text": [
      "[I 2025-05-15 18:15:47,882] Trial 4 finished with value: -0.041688 and parameters: {'max_depth': 14, 'min_child_weight': 35, 'subsample': 0.3629301836816964, 'colsample_bynode': 0.4297256589643226, 'learning_rate': 0.01701841881702917}. Best is trial 1 with value: -0.563734.\n"
     ]
    },
    {
     "name": "stderr",
     "output_type": "stream",
     "text": [
      "[I 2025-05-15 18:15:48,080] Trial 5 finished with value: -0.041688 and parameters: {'max_depth': 17, 'min_child_weight': 50, 'subsample': 0.5628109945722505, 'colsample_bynode': 0.6331731119758383, 'learning_rate': 0.0013346527038305934}. Best is trial 1 with value: -0.563734.\n"
     ]
    },
    {
     "name": "stderr",
     "output_type": "stream",
     "text": [
      "[I 2025-05-15 18:15:48,267] Trial 6 finished with value: -0.041688 and parameters: {'max_depth': 13, 'min_child_weight': 43, 'subsample': 0.1585464336867516, 'colsample_bynode': 0.9539969835279999, 'learning_rate': 0.4038423798071558}. Best is trial 1 with value: -0.563734.\n"
     ]
    },
    {
     "name": "stderr",
     "output_type": "stream",
     "text": [
      "[I 2025-05-15 18:15:48,465] Trial 7 finished with value: -0.041688 and parameters: {'max_depth': 17, 'min_child_weight': 77, 'subsample': 0.1879049026057455, 'colsample_bynode': 0.7158097238609412, 'learning_rate': 0.015415527060141935}. Best is trial 1 with value: -0.563734.\n"
     ]
    },
    {
     "name": "stderr",
     "output_type": "stream",
     "text": [
      "[I 2025-05-15 18:15:48,653] Trial 8 finished with value: -0.041688 and parameters: {'max_depth': 5, 'min_child_weight': 124, 'subsample': 0.13094966900369656, 'colsample_bynode': 0.9183883618709039, 'learning_rate': 0.004993895014755658}. Best is trial 1 with value: -0.563734.\n"
     ]
    },
    {
     "name": "stderr",
     "output_type": "stream",
     "text": [
      "[I 2025-05-15 18:15:48,838] Trial 9 finished with value: -0.041688 and parameters: {'max_depth': 14, 'min_child_weight': 78, 'subsample': 0.5680612190600297, 'colsample_bynode': 0.5920392514089517, 'learning_rate': 0.0031543990308330965}. Best is trial 1 with value: -0.563734.\n"
     ]
    },
    {
     "name": "stderr",
     "output_type": "stream",
     "text": [
      "[I 2025-05-15 18:15:49,612] Trial 10 finished with value: -0.564168 and parameters: {'max_depth': 9, 'min_child_weight': 2, 'subsample': 0.9725833997090791, 'colsample_bynode': 0.11616568805333755, 'learning_rate': 0.17780618353487967}. Best is trial 10 with value: -0.564168.\n"
     ]
    },
    {
     "name": "stderr",
     "output_type": "stream",
     "text": [
      "[I 2025-05-15 18:15:50,300] Trial 11 finished with value: -0.571983 and parameters: {'max_depth': 9, 'min_child_weight': 4, 'subsample': 0.9818290990185045, 'colsample_bynode': 0.17702656156719, 'learning_rate': 0.11568531411766632}. Best is trial 11 with value: -0.571983.\n"
     ]
    },
    {
     "name": "stderr",
     "output_type": "stream",
     "text": [
      "[I 2025-05-15 18:15:51,061] Trial 12 finished with value: -0.616914 and parameters: {'max_depth': 9, 'min_child_weight': 2, 'subsample': 0.9762317723681219, 'colsample_bynode': 0.1303670507685675, 'learning_rate': 0.14353293664472047}. Best is trial 12 with value: -0.616914.\n"
     ]
    },
    {
     "name": "stderr",
     "output_type": "stream",
     "text": [
      "[I 2025-05-15 18:15:51,253] Trial 13 finished with value: -0.041688 and parameters: {'max_depth': 10, 'min_child_weight': 173, 'subsample': 0.9983199992874873, 'colsample_bynode': 0.10704152171942566, 'learning_rate': 0.05919442728092993}. Best is trial 12 with value: -0.616914.\n"
     ]
    },
    {
     "name": "stderr",
     "output_type": "stream",
     "text": [
      "[I 2025-05-15 18:15:51,448] Trial 14 finished with value: -0.041688 and parameters: {'max_depth': 7, 'min_child_weight': 127, 'subsample': 0.7205729667945842, 'colsample_bynode': 0.2618040655423697, 'learning_rate': 0.049429871639666105}. Best is trial 12 with value: -0.616914.\n"
     ]
    },
    {
     "name": "stderr",
     "output_type": "stream",
     "text": [
      "[I 2025-05-15 18:15:51,898] Trial 15 finished with value: -0.622407 and parameters: {'max_depth': 20, 'min_child_weight': 1, 'subsample': 0.7300199336663715, 'colsample_bynode': 0.2687793682900305, 'learning_rate': 0.46839194821741}. Best is trial 15 with value: -0.622407.\n"
     ]
    },
    {
     "name": "stderr",
     "output_type": "stream",
     "text": [
      "[I 2025-05-15 18:15:52,080] Trial 16 finished with value: -0.041688 and parameters: {'max_depth': 20, 'min_child_weight': 116, 'subsample': 0.6730263351162008, 'colsample_bynode': 0.3435683215737632, 'learning_rate': 0.49216618465218137}. Best is trial 15 with value: -0.622407.\n"
     ]
    },
    {
     "name": "stderr",
     "output_type": "stream",
     "text": [
      "[I 2025-05-15 18:15:52,258] Trial 17 finished with value: -0.041688 and parameters: {'max_depth': 20, 'min_child_weight': 183, 'subsample': 0.37310167079970213, 'colsample_bynode': 0.22493155379732882, 'learning_rate': 0.224845788871819}. Best is trial 15 with value: -0.622407.\n"
     ]
    },
    {
     "name": "stderr",
     "output_type": "stream",
     "text": [
      "[I 2025-05-15 18:15:52,480] Trial 18 pruned. Trial was pruned at iteration 21.\n"
     ]
    },
    {
     "name": "stderr",
     "output_type": "stream",
     "text": [
      "[I 2025-05-15 18:15:52,687] Trial 19 finished with value: -0.041688 and parameters: {'max_depth': 17, 'min_child_weight': 99, 'subsample': 0.6763345562420628, 'colsample_bynode': 0.4759359243067308, 'learning_rate': 0.03892743572591741}. Best is trial 15 with value: -0.622407.\n"
     ]
    },
    {
     "name": "stderr",
     "output_type": "stream",
     "text": [
      "[I 2025-05-15 18:15:52,898] Trial 20 pruned. Trial was pruned at iteration 21.\n"
     ]
    },
    {
     "name": "stderr",
     "output_type": "stream",
     "text": [
      "[I 2025-05-15 18:15:53,626] Trial 21 finished with value: -0.588308 and parameters: {'max_depth': 11, 'min_child_weight': 1, 'subsample': 0.9493755964653445, 'colsample_bynode': 0.1689819979084456, 'learning_rate': 0.1072482932857308}. Best is trial 15 with value: -0.622407.\n"
     ]
    },
    {
     "name": "stderr",
     "output_type": "stream",
     "text": [
      "[I 2025-05-15 18:15:53,839] Trial 22 finished with value: -0.119292 and parameters: {'max_depth': 11, 'min_child_weight': 56, 'subsample': 0.9035969683416092, 'colsample_bynode': 0.3139295194124999, 'learning_rate': 0.03155195897956944}. Best is trial 15 with value: -0.622407.\n"
     ]
    },
    {
     "name": "stderr",
     "output_type": "stream",
     "text": [
      "[I 2025-05-15 18:15:54,075] Trial 23 pruned. Trial was pruned at iteration 21.\n"
     ]
    },
    {
     "name": "stderr",
     "output_type": "stream",
     "text": [
      "[I 2025-05-15 18:15:54,513] Trial 24 pruned. Trial was pruned at iteration 27.\n"
     ]
    },
    {
     "name": "stderr",
     "output_type": "stream",
     "text": [
      "[I 2025-05-15 18:15:54,738] Trial 25 finished with value: -0.041688 and parameters: {'max_depth': 11, 'min_child_weight': 61, 'subsample': 0.7715244788256409, 'colsample_bynode': 0.2663387558985642, 'learning_rate': 0.08137711855092332}. Best is trial 15 with value: -0.622407.\n"
     ]
    },
    {
     "name": "stderr",
     "output_type": "stream",
     "text": [
      "[I 2025-05-15 18:15:54,923] Trial 26 pruned. Trial was pruned at iteration 20.\n"
     ]
    },
    {
     "name": "stderr",
     "output_type": "stream",
     "text": [
      "[I 2025-05-15 18:15:55,109] Trial 27 pruned. Trial was pruned at iteration 21.\n"
     ]
    },
    {
     "name": "stderr",
     "output_type": "stream",
     "text": [
      "[I 2025-05-15 18:15:55,283] Trial 28 finished with value: -0.041688 and parameters: {'max_depth': 18, 'min_child_weight': 207, 'subsample': 0.8376269160154843, 'colsample_bynode': 0.10203349704566486, 'learning_rate': 0.49199510434526794}. Best is trial 15 with value: -0.622407.\n"
     ]
    },
    {
     "name": "stderr",
     "output_type": "stream",
     "text": [
      "[I 2025-05-15 18:15:55,455] Trial 29 pruned. Trial was pruned at iteration 20.\n"
     ]
    },
    {
     "name": "stderr",
     "output_type": "stream",
     "text": [
      "[I 2025-05-15 18:15:55,627] Trial 30 pruned. Trial was pruned at iteration 20.\n"
     ]
    },
    {
     "name": "stderr",
     "output_type": "stream",
     "text": [
      "[I 2025-05-15 18:15:55,957] Trial 31 pruned. Trial was pruned at iteration 21.\n"
     ]
    },
    {
     "name": "stderr",
     "output_type": "stream",
     "text": [
      "[I 2025-05-15 18:15:56,172] Trial 32 pruned. Trial was pruned at iteration 21.\n"
     ]
    },
    {
     "name": "stderr",
     "output_type": "stream",
     "text": [
      "[I 2025-05-15 18:15:56,395] Trial 33 pruned. Trial was pruned at iteration 21.\n"
     ]
    },
    {
     "name": "stderr",
     "output_type": "stream",
     "text": [
      "[I 2025-05-15 18:15:56,713] Trial 34 pruned. Trial was pruned at iteration 21.\n"
     ]
    },
    {
     "name": "stderr",
     "output_type": "stream",
     "text": [
      "[I 2025-05-15 18:15:56,897] Trial 35 pruned. Trial was pruned at iteration 21.\n"
     ]
    },
    {
     "name": "stderr",
     "output_type": "stream",
     "text": [
      "[I 2025-05-15 18:15:57,115] Trial 36 pruned. Trial was pruned at iteration 21.\n"
     ]
    },
    {
     "name": "stderr",
     "output_type": "stream",
     "text": [
      "[I 2025-05-15 18:15:57,289] Trial 37 pruned. Trial was pruned at iteration 20.\n"
     ]
    },
    {
     "name": "stderr",
     "output_type": "stream",
     "text": [
      "[I 2025-05-15 18:15:57,484] Trial 38 pruned. Trial was pruned at iteration 21.\n"
     ]
    },
    {
     "name": "stderr",
     "output_type": "stream",
     "text": [
      "[I 2025-05-15 18:15:57,657] Trial 39 pruned. Trial was pruned at iteration 20.\n"
     ]
    },
    {
     "name": "stderr",
     "output_type": "stream",
     "text": [
      "[I 2025-05-15 18:15:57,837] Trial 40 finished with value: -0.041688 and parameters: {'max_depth': 9, 'min_child_weight': 93, 'subsample': 0.6135397358527036, 'colsample_bynode': 0.452172939886394, 'learning_rate': 0.01762387035468314}. Best is trial 15 with value: -0.622407.\n"
     ]
    },
    {
     "name": "stderr",
     "output_type": "stream",
     "text": [
      "[I 2025-05-15 18:15:58,220] Trial 41 finished with value: -0.562639 and parameters: {'max_depth': 9, 'min_child_weight': 2, 'subsample': 0.9677614957015229, 'colsample_bynode': 0.14359555941225605, 'learning_rate': 0.17557543240654994}. Best is trial 15 with value: -0.622407.\n"
     ]
    },
    {
     "name": "stderr",
     "output_type": "stream",
     "text": [
      "[I 2025-05-15 18:15:58,443] Trial 42 pruned. Trial was pruned at iteration 21.\n"
     ]
    },
    {
     "name": "stderr",
     "output_type": "stream",
     "text": [
      "[I 2025-05-15 18:15:58,627] Trial 43 pruned. Trial was pruned at iteration 20.\n"
     ]
    },
    {
     "name": "stderr",
     "output_type": "stream",
     "text": [
      "[I 2025-05-15 18:15:58,865] Trial 44 pruned. Trial was pruned at iteration 21.\n"
     ]
    },
    {
     "name": "stderr",
     "output_type": "stream",
     "text": [
      "[I 2025-05-15 18:15:59,043] Trial 45 pruned. Trial was pruned at iteration 20.\n"
     ]
    },
    {
     "name": "stderr",
     "output_type": "stream",
     "text": [
      "[I 2025-05-15 18:15:59,218] Trial 46 pruned. Trial was pruned at iteration 20.\n"
     ]
    },
    {
     "name": "stderr",
     "output_type": "stream",
     "text": [
      "[I 2025-05-15 18:15:59,575] Trial 47 pruned. Trial was pruned at iteration 26.\n"
     ]
    },
    {
     "name": "stderr",
     "output_type": "stream",
     "text": [
      "[I 2025-05-15 18:15:59,763] Trial 48 pruned. Trial was pruned at iteration 20.\n"
     ]
    },
    {
     "name": "stderr",
     "output_type": "stream",
     "text": [
      "[I 2025-05-15 18:15:59,933] Trial 49 pruned. Trial was pruned at iteration 20.\n"
     ]
    }
   ],
   "source": [
    "sampler = optuna.samplers.TPESampler(seed=42)\n",
    "study = optuna.create_study(direction='minimize', sampler=sampler)\n",
    "study.optimize(objective, n_trials=N_TRIALS, gc_after_trial=True)"
   ]
  },
  {
   "cell_type": "code",
   "execution_count": 20,
   "id": "4dc168f3",
   "metadata": {
    "execution": {
     "iopub.execute_input": "2025-05-15T16:16:00.057244Z",
     "iopub.status.busy": "2025-05-15T16:16:00.056719Z",
     "iopub.status.idle": "2025-05-15T16:16:00.080806Z",
     "shell.execute_reply": "2025-05-15T16:16:00.080395Z"
    },
    "papermill": {
     "duration": 0.034106,
     "end_time": "2025-05-15T16:16:00.081762",
     "exception": false,
     "start_time": "2025-05-15T16:16:00.047656",
     "status": "completed"
    },
    "tags": []
   },
   "outputs": [
    {
     "data": {
      "text/plain": [
       "['/scratch_isilon/groups/singlecell/shared/projects/Inflammation-PBMCs-Atlas/03_downstream_analysis/08_gene_importance/xgboost_external_validation/xgboost_TopN_genes/results_20/study/Plasma_14_3_xgboost.pkl']"
      ]
     },
     "execution_count": 20,
     "metadata": {},
     "output_type": "execute_result"
    }
   ],
   "source": [
    "out_dir = here(f'03_downstream_analysis/08_gene_importance/xgboost_external_validation/xgboost_TopN_genes/results_{N_GENES}/study')\n",
    "\n",
    "if not os.path.exists(out_dir):\n",
    "    os.makedirs(out_dir)\n",
    "    \n",
    "joblib.dump(study,os.path.join(out_dir, f'{CELL_TYPE}_{SEED}_{TEST_SPLIT_IDX}_xgboost.pkl'))"
   ]
  },
  {
   "cell_type": "code",
   "execution_count": 21,
   "id": "21cd369e",
   "metadata": {
    "execution": {
     "iopub.execute_input": "2025-05-15T16:16:00.099663Z",
     "iopub.status.busy": "2025-05-15T16:16:00.099260Z",
     "iopub.status.idle": "2025-05-15T16:16:00.315044Z",
     "shell.execute_reply": "2025-05-15T16:16:00.314585Z"
    },
    "papermill": {
     "duration": 0.225785,
     "end_time": "2025-05-15T16:16:00.316136",
     "exception": false,
     "start_time": "2025-05-15T16:16:00.090351",
     "status": "completed"
    },
    "tags": []
   },
   "outputs": [
    {
     "data": {
      "text/html": [
       "<style>#sk-container-id-1 {\n",
       "  /* Definition of color scheme common for light and dark mode */\n",
       "  --sklearn-color-text: black;\n",
       "  --sklearn-color-line: gray;\n",
       "  /* Definition of color scheme for unfitted estimators */\n",
       "  --sklearn-color-unfitted-level-0: #fff5e6;\n",
       "  --sklearn-color-unfitted-level-1: #f6e4d2;\n",
       "  --sklearn-color-unfitted-level-2: #ffe0b3;\n",
       "  --sklearn-color-unfitted-level-3: chocolate;\n",
       "  /* Definition of color scheme for fitted estimators */\n",
       "  --sklearn-color-fitted-level-0: #f0f8ff;\n",
       "  --sklearn-color-fitted-level-1: #d4ebff;\n",
       "  --sklearn-color-fitted-level-2: #b3dbfd;\n",
       "  --sklearn-color-fitted-level-3: cornflowerblue;\n",
       "\n",
       "  /* Specific color for light theme */\n",
       "  --sklearn-color-text-on-default-background: var(--sg-text-color, var(--theme-code-foreground, var(--jp-content-font-color1, black)));\n",
       "  --sklearn-color-background: var(--sg-background-color, var(--theme-background, var(--jp-layout-color0, white)));\n",
       "  --sklearn-color-border-box: var(--sg-text-color, var(--theme-code-foreground, var(--jp-content-font-color1, black)));\n",
       "  --sklearn-color-icon: #696969;\n",
       "\n",
       "  @media (prefers-color-scheme: dark) {\n",
       "    /* Redefinition of color scheme for dark theme */\n",
       "    --sklearn-color-text-on-default-background: var(--sg-text-color, var(--theme-code-foreground, var(--jp-content-font-color1, white)));\n",
       "    --sklearn-color-background: var(--sg-background-color, var(--theme-background, var(--jp-layout-color0, #111)));\n",
       "    --sklearn-color-border-box: var(--sg-text-color, var(--theme-code-foreground, var(--jp-content-font-color1, white)));\n",
       "    --sklearn-color-icon: #878787;\n",
       "  }\n",
       "}\n",
       "\n",
       "#sk-container-id-1 {\n",
       "  color: var(--sklearn-color-text);\n",
       "}\n",
       "\n",
       "#sk-container-id-1 pre {\n",
       "  padding: 0;\n",
       "}\n",
       "\n",
       "#sk-container-id-1 input.sk-hidden--visually {\n",
       "  border: 0;\n",
       "  clip: rect(1px 1px 1px 1px);\n",
       "  clip: rect(1px, 1px, 1px, 1px);\n",
       "  height: 1px;\n",
       "  margin: -1px;\n",
       "  overflow: hidden;\n",
       "  padding: 0;\n",
       "  position: absolute;\n",
       "  width: 1px;\n",
       "}\n",
       "\n",
       "#sk-container-id-1 div.sk-dashed-wrapped {\n",
       "  border: 1px dashed var(--sklearn-color-line);\n",
       "  margin: 0 0.4em 0.5em 0.4em;\n",
       "  box-sizing: border-box;\n",
       "  padding-bottom: 0.4em;\n",
       "  background-color: var(--sklearn-color-background);\n",
       "}\n",
       "\n",
       "#sk-container-id-1 div.sk-container {\n",
       "  /* jupyter's `normalize.less` sets `[hidden] { display: none; }`\n",
       "     but bootstrap.min.css set `[hidden] { display: none !important; }`\n",
       "     so we also need the `!important` here to be able to override the\n",
       "     default hidden behavior on the sphinx rendered scikit-learn.org.\n",
       "     See: https://github.com/scikit-learn/scikit-learn/issues/21755 */\n",
       "  display: inline-block !important;\n",
       "  position: relative;\n",
       "}\n",
       "\n",
       "#sk-container-id-1 div.sk-text-repr-fallback {\n",
       "  display: none;\n",
       "}\n",
       "\n",
       "div.sk-parallel-item,\n",
       "div.sk-serial,\n",
       "div.sk-item {\n",
       "  /* draw centered vertical line to link estimators */\n",
       "  background-image: linear-gradient(var(--sklearn-color-text-on-default-background), var(--sklearn-color-text-on-default-background));\n",
       "  background-size: 2px 100%;\n",
       "  background-repeat: no-repeat;\n",
       "  background-position: center center;\n",
       "}\n",
       "\n",
       "/* Parallel-specific style estimator block */\n",
       "\n",
       "#sk-container-id-1 div.sk-parallel-item::after {\n",
       "  content: \"\";\n",
       "  width: 100%;\n",
       "  border-bottom: 2px solid var(--sklearn-color-text-on-default-background);\n",
       "  flex-grow: 1;\n",
       "}\n",
       "\n",
       "#sk-container-id-1 div.sk-parallel {\n",
       "  display: flex;\n",
       "  align-items: stretch;\n",
       "  justify-content: center;\n",
       "  background-color: var(--sklearn-color-background);\n",
       "  position: relative;\n",
       "}\n",
       "\n",
       "#sk-container-id-1 div.sk-parallel-item {\n",
       "  display: flex;\n",
       "  flex-direction: column;\n",
       "}\n",
       "\n",
       "#sk-container-id-1 div.sk-parallel-item:first-child::after {\n",
       "  align-self: flex-end;\n",
       "  width: 50%;\n",
       "}\n",
       "\n",
       "#sk-container-id-1 div.sk-parallel-item:last-child::after {\n",
       "  align-self: flex-start;\n",
       "  width: 50%;\n",
       "}\n",
       "\n",
       "#sk-container-id-1 div.sk-parallel-item:only-child::after {\n",
       "  width: 0;\n",
       "}\n",
       "\n",
       "/* Serial-specific style estimator block */\n",
       "\n",
       "#sk-container-id-1 div.sk-serial {\n",
       "  display: flex;\n",
       "  flex-direction: column;\n",
       "  align-items: center;\n",
       "  background-color: var(--sklearn-color-background);\n",
       "  padding-right: 1em;\n",
       "  padding-left: 1em;\n",
       "}\n",
       "\n",
       "\n",
       "/* Toggleable style: style used for estimator/Pipeline/ColumnTransformer box that is\n",
       "clickable and can be expanded/collapsed.\n",
       "- Pipeline and ColumnTransformer use this feature and define the default style\n",
       "- Estimators will overwrite some part of the style using the `sk-estimator` class\n",
       "*/\n",
       "\n",
       "/* Pipeline and ColumnTransformer style (default) */\n",
       "\n",
       "#sk-container-id-1 div.sk-toggleable {\n",
       "  /* Default theme specific background. It is overwritten whether we have a\n",
       "  specific estimator or a Pipeline/ColumnTransformer */\n",
       "  background-color: var(--sklearn-color-background);\n",
       "}\n",
       "\n",
       "/* Toggleable label */\n",
       "#sk-container-id-1 label.sk-toggleable__label {\n",
       "  cursor: pointer;\n",
       "  display: block;\n",
       "  width: 100%;\n",
       "  margin-bottom: 0;\n",
       "  padding: 0.5em;\n",
       "  box-sizing: border-box;\n",
       "  text-align: center;\n",
       "}\n",
       "\n",
       "#sk-container-id-1 label.sk-toggleable__label-arrow:before {\n",
       "  /* Arrow on the left of the label */\n",
       "  content: \"▸\";\n",
       "  float: left;\n",
       "  margin-right: 0.25em;\n",
       "  color: var(--sklearn-color-icon);\n",
       "}\n",
       "\n",
       "#sk-container-id-1 label.sk-toggleable__label-arrow:hover:before {\n",
       "  color: var(--sklearn-color-text);\n",
       "}\n",
       "\n",
       "/* Toggleable content - dropdown */\n",
       "\n",
       "#sk-container-id-1 div.sk-toggleable__content {\n",
       "  max-height: 0;\n",
       "  max-width: 0;\n",
       "  overflow: hidden;\n",
       "  text-align: left;\n",
       "  /* unfitted */\n",
       "  background-color: var(--sklearn-color-unfitted-level-0);\n",
       "}\n",
       "\n",
       "#sk-container-id-1 div.sk-toggleable__content.fitted {\n",
       "  /* fitted */\n",
       "  background-color: var(--sklearn-color-fitted-level-0);\n",
       "}\n",
       "\n",
       "#sk-container-id-1 div.sk-toggleable__content pre {\n",
       "  margin: 0.2em;\n",
       "  border-radius: 0.25em;\n",
       "  color: var(--sklearn-color-text);\n",
       "  /* unfitted */\n",
       "  background-color: var(--sklearn-color-unfitted-level-0);\n",
       "}\n",
       "\n",
       "#sk-container-id-1 div.sk-toggleable__content.fitted pre {\n",
       "  /* unfitted */\n",
       "  background-color: var(--sklearn-color-fitted-level-0);\n",
       "}\n",
       "\n",
       "#sk-container-id-1 input.sk-toggleable__control:checked~div.sk-toggleable__content {\n",
       "  /* Expand drop-down */\n",
       "  max-height: 200px;\n",
       "  max-width: 100%;\n",
       "  overflow: auto;\n",
       "}\n",
       "\n",
       "#sk-container-id-1 input.sk-toggleable__control:checked~label.sk-toggleable__label-arrow:before {\n",
       "  content: \"▾\";\n",
       "}\n",
       "\n",
       "/* Pipeline/ColumnTransformer-specific style */\n",
       "\n",
       "#sk-container-id-1 div.sk-label input.sk-toggleable__control:checked~label.sk-toggleable__label {\n",
       "  color: var(--sklearn-color-text);\n",
       "  background-color: var(--sklearn-color-unfitted-level-2);\n",
       "}\n",
       "\n",
       "#sk-container-id-1 div.sk-label.fitted input.sk-toggleable__control:checked~label.sk-toggleable__label {\n",
       "  background-color: var(--sklearn-color-fitted-level-2);\n",
       "}\n",
       "\n",
       "/* Estimator-specific style */\n",
       "\n",
       "/* Colorize estimator box */\n",
       "#sk-container-id-1 div.sk-estimator input.sk-toggleable__control:checked~label.sk-toggleable__label {\n",
       "  /* unfitted */\n",
       "  background-color: var(--sklearn-color-unfitted-level-2);\n",
       "}\n",
       "\n",
       "#sk-container-id-1 div.sk-estimator.fitted input.sk-toggleable__control:checked~label.sk-toggleable__label {\n",
       "  /* fitted */\n",
       "  background-color: var(--sklearn-color-fitted-level-2);\n",
       "}\n",
       "\n",
       "#sk-container-id-1 div.sk-label label.sk-toggleable__label,\n",
       "#sk-container-id-1 div.sk-label label {\n",
       "  /* The background is the default theme color */\n",
       "  color: var(--sklearn-color-text-on-default-background);\n",
       "}\n",
       "\n",
       "/* On hover, darken the color of the background */\n",
       "#sk-container-id-1 div.sk-label:hover label.sk-toggleable__label {\n",
       "  color: var(--sklearn-color-text);\n",
       "  background-color: var(--sklearn-color-unfitted-level-2);\n",
       "}\n",
       "\n",
       "/* Label box, darken color on hover, fitted */\n",
       "#sk-container-id-1 div.sk-label.fitted:hover label.sk-toggleable__label.fitted {\n",
       "  color: var(--sklearn-color-text);\n",
       "  background-color: var(--sklearn-color-fitted-level-2);\n",
       "}\n",
       "\n",
       "/* Estimator label */\n",
       "\n",
       "#sk-container-id-1 div.sk-label label {\n",
       "  font-family: monospace;\n",
       "  font-weight: bold;\n",
       "  display: inline-block;\n",
       "  line-height: 1.2em;\n",
       "}\n",
       "\n",
       "#sk-container-id-1 div.sk-label-container {\n",
       "  text-align: center;\n",
       "}\n",
       "\n",
       "/* Estimator-specific */\n",
       "#sk-container-id-1 div.sk-estimator {\n",
       "  font-family: monospace;\n",
       "  border: 1px dotted var(--sklearn-color-border-box);\n",
       "  border-radius: 0.25em;\n",
       "  box-sizing: border-box;\n",
       "  margin-bottom: 0.5em;\n",
       "  /* unfitted */\n",
       "  background-color: var(--sklearn-color-unfitted-level-0);\n",
       "}\n",
       "\n",
       "#sk-container-id-1 div.sk-estimator.fitted {\n",
       "  /* fitted */\n",
       "  background-color: var(--sklearn-color-fitted-level-0);\n",
       "}\n",
       "\n",
       "/* on hover */\n",
       "#sk-container-id-1 div.sk-estimator:hover {\n",
       "  /* unfitted */\n",
       "  background-color: var(--sklearn-color-unfitted-level-2);\n",
       "}\n",
       "\n",
       "#sk-container-id-1 div.sk-estimator.fitted:hover {\n",
       "  /* fitted */\n",
       "  background-color: var(--sklearn-color-fitted-level-2);\n",
       "}\n",
       "\n",
       "/* Specification for estimator info (e.g. \"i\" and \"?\") */\n",
       "\n",
       "/* Common style for \"i\" and \"?\" */\n",
       "\n",
       ".sk-estimator-doc-link,\n",
       "a:link.sk-estimator-doc-link,\n",
       "a:visited.sk-estimator-doc-link {\n",
       "  float: right;\n",
       "  font-size: smaller;\n",
       "  line-height: 1em;\n",
       "  font-family: monospace;\n",
       "  background-color: var(--sklearn-color-background);\n",
       "  border-radius: 1em;\n",
       "  height: 1em;\n",
       "  width: 1em;\n",
       "  text-decoration: none !important;\n",
       "  margin-left: 1ex;\n",
       "  /* unfitted */\n",
       "  border: var(--sklearn-color-unfitted-level-1) 1pt solid;\n",
       "  color: var(--sklearn-color-unfitted-level-1);\n",
       "}\n",
       "\n",
       ".sk-estimator-doc-link.fitted,\n",
       "a:link.sk-estimator-doc-link.fitted,\n",
       "a:visited.sk-estimator-doc-link.fitted {\n",
       "  /* fitted */\n",
       "  border: var(--sklearn-color-fitted-level-1) 1pt solid;\n",
       "  color: var(--sklearn-color-fitted-level-1);\n",
       "}\n",
       "\n",
       "/* On hover */\n",
       "div.sk-estimator:hover .sk-estimator-doc-link:hover,\n",
       ".sk-estimator-doc-link:hover,\n",
       "div.sk-label-container:hover .sk-estimator-doc-link:hover,\n",
       ".sk-estimator-doc-link:hover {\n",
       "  /* unfitted */\n",
       "  background-color: var(--sklearn-color-unfitted-level-3);\n",
       "  color: var(--sklearn-color-background);\n",
       "  text-decoration: none;\n",
       "}\n",
       "\n",
       "div.sk-estimator.fitted:hover .sk-estimator-doc-link.fitted:hover,\n",
       ".sk-estimator-doc-link.fitted:hover,\n",
       "div.sk-label-container:hover .sk-estimator-doc-link.fitted:hover,\n",
       ".sk-estimator-doc-link.fitted:hover {\n",
       "  /* fitted */\n",
       "  background-color: var(--sklearn-color-fitted-level-3);\n",
       "  color: var(--sklearn-color-background);\n",
       "  text-decoration: none;\n",
       "}\n",
       "\n",
       "/* Span, style for the box shown on hovering the info icon */\n",
       ".sk-estimator-doc-link span {\n",
       "  display: none;\n",
       "  z-index: 9999;\n",
       "  position: relative;\n",
       "  font-weight: normal;\n",
       "  right: .2ex;\n",
       "  padding: .5ex;\n",
       "  margin: .5ex;\n",
       "  width: min-content;\n",
       "  min-width: 20ex;\n",
       "  max-width: 50ex;\n",
       "  color: var(--sklearn-color-text);\n",
       "  box-shadow: 2pt 2pt 4pt #999;\n",
       "  /* unfitted */\n",
       "  background: var(--sklearn-color-unfitted-level-0);\n",
       "  border: .5pt solid var(--sklearn-color-unfitted-level-3);\n",
       "}\n",
       "\n",
       ".sk-estimator-doc-link.fitted span {\n",
       "  /* fitted */\n",
       "  background: var(--sklearn-color-fitted-level-0);\n",
       "  border: var(--sklearn-color-fitted-level-3);\n",
       "}\n",
       "\n",
       ".sk-estimator-doc-link:hover span {\n",
       "  display: block;\n",
       "}\n",
       "\n",
       "/* \"?\"-specific style due to the `<a>` HTML tag */\n",
       "\n",
       "#sk-container-id-1 a.estimator_doc_link {\n",
       "  float: right;\n",
       "  font-size: 1rem;\n",
       "  line-height: 1em;\n",
       "  font-family: monospace;\n",
       "  background-color: var(--sklearn-color-background);\n",
       "  border-radius: 1rem;\n",
       "  height: 1rem;\n",
       "  width: 1rem;\n",
       "  text-decoration: none;\n",
       "  /* unfitted */\n",
       "  color: var(--sklearn-color-unfitted-level-1);\n",
       "  border: var(--sklearn-color-unfitted-level-1) 1pt solid;\n",
       "}\n",
       "\n",
       "#sk-container-id-1 a.estimator_doc_link.fitted {\n",
       "  /* fitted */\n",
       "  border: var(--sklearn-color-fitted-level-1) 1pt solid;\n",
       "  color: var(--sklearn-color-fitted-level-1);\n",
       "}\n",
       "\n",
       "/* On hover */\n",
       "#sk-container-id-1 a.estimator_doc_link:hover {\n",
       "  /* unfitted */\n",
       "  background-color: var(--sklearn-color-unfitted-level-3);\n",
       "  color: var(--sklearn-color-background);\n",
       "  text-decoration: none;\n",
       "}\n",
       "\n",
       "#sk-container-id-1 a.estimator_doc_link.fitted:hover {\n",
       "  /* fitted */\n",
       "  background-color: var(--sklearn-color-fitted-level-3);\n",
       "}\n",
       "</style><div id=\"sk-container-id-1\" class=\"sk-top-container\"><div class=\"sk-text-repr-fallback\"><pre>XGBClassifier(base_score=None, booster=None, callbacks=None,\n",
       "              colsample_bylevel=None, colsample_bynode=0.2687793682900305,\n",
       "              colsample_bytree=None, device=None, early_stopping_rounds=None,\n",
       "              enable_categorical=False,\n",
       "              eval_metric=&lt;function custom_f1_score at 0x7fce093285e0&gt;,\n",
       "              feature_types=None, gamma=None, grow_policy=None,\n",
       "              importance_type=None, interaction_constraints=None,\n",
       "              learning_rate=0.46839194821741, max_bin=None,\n",
       "              max_cat_threshold=None, max_cat_to_onehot=None,\n",
       "              max_delta_step=None, max_depth=20, max_leaves=None,\n",
       "              min_child_weight=1, missing=nan, monotone_constraints=None,\n",
       "              multi_strategy=None, n_estimators=16, n_jobs=None,\n",
       "              num_parallel_tree=None, objective=&#x27;multi:softprob&#x27;, ...)</pre><b>In a Jupyter environment, please rerun this cell to show the HTML representation or trust the notebook. <br />On GitHub, the HTML representation is unable to render, please try loading this page with nbviewer.org.</b></div><div class=\"sk-container\" hidden><div class=\"sk-item\"><div class=\"sk-estimator fitted sk-toggleable\"><input class=\"sk-toggleable__control sk-hidden--visually\" id=\"sk-estimator-id-1\" type=\"checkbox\" checked><label for=\"sk-estimator-id-1\" class=\"sk-toggleable__label fitted sk-toggleable__label-arrow fitted\">&nbsp;XGBClassifier<span class=\"sk-estimator-doc-link fitted\">i<span>Fitted</span></span></label><div class=\"sk-toggleable__content fitted\"><pre>XGBClassifier(base_score=None, booster=None, callbacks=None,\n",
       "              colsample_bylevel=None, colsample_bynode=0.2687793682900305,\n",
       "              colsample_bytree=None, device=None, early_stopping_rounds=None,\n",
       "              enable_categorical=False,\n",
       "              eval_metric=&lt;function custom_f1_score at 0x7fce093285e0&gt;,\n",
       "              feature_types=None, gamma=None, grow_policy=None,\n",
       "              importance_type=None, interaction_constraints=None,\n",
       "              learning_rate=0.46839194821741, max_bin=None,\n",
       "              max_cat_threshold=None, max_cat_to_onehot=None,\n",
       "              max_delta_step=None, max_depth=20, max_leaves=None,\n",
       "              min_child_weight=1, missing=nan, monotone_constraints=None,\n",
       "              multi_strategy=None, n_estimators=16, n_jobs=None,\n",
       "              num_parallel_tree=None, objective=&#x27;multi:softprob&#x27;, ...)</pre></div> </div></div></div></div>"
      ],
      "text/plain": [
       "XGBClassifier(base_score=None, booster=None, callbacks=None,\n",
       "              colsample_bylevel=None, colsample_bynode=0.2687793682900305,\n",
       "              colsample_bytree=None, device=None, early_stopping_rounds=None,\n",
       "              enable_categorical=False,\n",
       "              eval_metric=<function custom_f1_score at 0x7fce093285e0>,\n",
       "              feature_types=None, gamma=None, grow_policy=None,\n",
       "              importance_type=None, interaction_constraints=None,\n",
       "              learning_rate=0.46839194821741, max_bin=None,\n",
       "              max_cat_threshold=None, max_cat_to_onehot=None,\n",
       "              max_delta_step=None, max_depth=20, max_leaves=None,\n",
       "              min_child_weight=1, missing=nan, monotone_constraints=None,\n",
       "              multi_strategy=None, n_estimators=16, n_jobs=None,\n",
       "              num_parallel_tree=None, objective='multi:softprob', ...)"
      ]
     },
     "execution_count": 21,
     "metadata": {},
     "output_type": "execute_result"
    }
   ],
   "source": [
    "n_estimators = int(study.best_trial.user_attrs['best_iteration']*1.2)\n",
    "xgb = xgboost.XGBClassifier(\n",
    "        eval_metric=eval_metric,\n",
    "        n_estimators=n_estimators,\n",
    "        **study.best_trial.params\n",
    "    )\n",
    "xgb.fit(\n",
    "    ssp.vstack((X_train, X_val)), \n",
    "    np.concatenate((y_train_enc, y_val_enc)),\n",
    "    verbose=1,\n",
    ")"
   ]
  },
  {
   "cell_type": "code",
   "execution_count": 22,
   "id": "5923f666",
   "metadata": {
    "execution": {
     "iopub.execute_input": "2025-05-15T16:16:00.336231Z",
     "iopub.status.busy": "2025-05-15T16:16:00.336057Z",
     "iopub.status.idle": "2025-05-15T16:16:00.364821Z",
     "shell.execute_reply": "2025-05-15T16:16:00.364472Z"
    },
    "papermill": {
     "duration": 0.039673,
     "end_time": "2025-05-15T16:16:00.365914",
     "exception": false,
     "start_time": "2025-05-15T16:16:00.326241",
     "status": "completed"
    },
    "tags": []
   },
   "outputs": [
    {
     "data": {
      "text/plain": [
       "['/scratch_isilon/groups/singlecell/shared/projects/Inflammation-PBMCs-Atlas/03_downstream_analysis/08_gene_importance/xgboost_external_validation/xgboost_TopN_genes/results_20/best_model/Plasma_14_3_xgb.json']"
      ]
     },
     "execution_count": 22,
     "metadata": {},
     "output_type": "execute_result"
    }
   ],
   "source": [
    "out_dir = here(f'03_downstream_analysis/08_gene_importance/xgboost_external_validation/xgboost_TopN_genes/results_{N_GENES}/best_model')\n",
    "\n",
    "if not os.path.exists(out_dir):\n",
    "    os.makedirs(out_dir)\n",
    "    \n",
    "joblib.dump(xgb, os.path.join(out_dir, f'{CELL_TYPE}_{SEED}_{TEST_SPLIT_IDX}_xgb.json'))"
   ]
  },
  {
   "cell_type": "code",
   "execution_count": 23,
   "id": "e25c82c0",
   "metadata": {
    "execution": {
     "iopub.execute_input": "2025-05-15T16:16:00.384692Z",
     "iopub.status.busy": "2025-05-15T16:16:00.384539Z",
     "iopub.status.idle": "2025-05-15T16:16:00.390205Z",
     "shell.execute_reply": "2025-05-15T16:16:00.389869Z"
    },
    "papermill": {
     "duration": 0.016664,
     "end_time": "2025-05-15T16:16:00.391720",
     "exception": false,
     "start_time": "2025-05-15T16:16:00.375056",
     "status": "completed"
    },
    "tags": []
   },
   "outputs": [],
   "source": [
    "df_pred_test = pd.DataFrame(dict(\n",
    "    cell_id=train_adata.obs.iloc[test_idxs].index.values,\n",
    "    y_true=y_test, \n",
    "    y_true_code=y_test_enc, \n",
    "    y_pred=xgb.predict(X_test))).set_index('cell_id')"
   ]
  },
  {
   "cell_type": "code",
   "execution_count": 24,
   "id": "ec07f4eb",
   "metadata": {
    "execution": {
     "iopub.execute_input": "2025-05-15T16:16:00.410341Z",
     "iopub.status.busy": "2025-05-15T16:16:00.410086Z",
     "iopub.status.idle": "2025-05-15T16:16:00.420856Z",
     "shell.execute_reply": "2025-05-15T16:16:00.420520Z"
    },
    "papermill": {
     "duration": 0.020921,
     "end_time": "2025-05-15T16:16:00.421742",
     "exception": false,
     "start_time": "2025-05-15T16:16:00.400821",
     "status": "completed"
    },
    "tags": []
   },
   "outputs": [],
   "source": [
    "out_dir = here(f'03_downstream_analysis/08_gene_importance/xgboost_external_validation/xgboost_TopN_genes/results_{N_GENES}/predictions')\n",
    "\n",
    "if not os.path.exists(out_dir):\n",
    "    os.makedirs(out_dir)\n",
    "    \n",
    "df_pred_test.to_csv(os.path.join(out_dir, f'{CELL_TYPE}_{SEED}_{TEST_SPLIT_IDX}_pred_test.zip'))"
   ]
  },
  {
   "cell_type": "code",
   "execution_count": 25,
   "id": "20a91548",
   "metadata": {
    "execution": {
     "iopub.execute_input": "2025-05-15T16:16:00.439943Z",
     "iopub.status.busy": "2025-05-15T16:16:00.439707Z",
     "iopub.status.idle": "2025-05-15T16:16:00.446143Z",
     "shell.execute_reply": "2025-05-15T16:16:00.445799Z"
    },
    "papermill": {
     "duration": 0.01654,
     "end_time": "2025-05-15T16:16:00.447036",
     "exception": false,
     "start_time": "2025-05-15T16:16:00.430496",
     "status": "completed"
    },
    "tags": []
   },
   "outputs": [],
   "source": [
    "metrics_dict = dict(\n",
    "    BAS=balanced_accuracy_score(y_true=df_pred_test.y_true_code, y_pred=df_pred_test.y_pred), WF1=f1_score(y_true=df_pred_test.y_true_code, y_pred=df_pred_test.y_pred,average='weighted'))"
   ]
  },
  {
   "cell_type": "code",
   "execution_count": 26,
   "id": "1675f405",
   "metadata": {
    "execution": {
     "iopub.execute_input": "2025-05-15T16:16:00.465620Z",
     "iopub.status.busy": "2025-05-15T16:16:00.465408Z",
     "iopub.status.idle": "2025-05-15T16:16:00.468771Z",
     "shell.execute_reply": "2025-05-15T16:16:00.468352Z"
    },
    "papermill": {
     "duration": 0.014084,
     "end_time": "2025-05-15T16:16:00.469709",
     "exception": false,
     "start_time": "2025-05-15T16:16:00.455625",
     "status": "completed"
    },
    "tags": []
   },
   "outputs": [
    {
     "data": {
      "text/plain": [
       "{'BAS': 0.3021769896769897, 'WF1': 0.5108151941954758}"
      ]
     },
     "execution_count": 26,
     "metadata": {},
     "output_type": "execute_result"
    }
   ],
   "source": [
    "metrics_dict"
   ]
  },
  {
   "cell_type": "code",
   "execution_count": 27,
   "id": "70dce6a1",
   "metadata": {
    "execution": {
     "iopub.execute_input": "2025-05-15T16:16:00.488040Z",
     "iopub.status.busy": "2025-05-15T16:16:00.487873Z",
     "iopub.status.idle": "2025-05-15T16:16:00.497151Z",
     "shell.execute_reply": "2025-05-15T16:16:00.496759Z"
    },
    "papermill": {
     "duration": 0.019722,
     "end_time": "2025-05-15T16:16:00.498082",
     "exception": false,
     "start_time": "2025-05-15T16:16:00.478360",
     "status": "completed"
    },
    "tags": []
   },
   "outputs": [
    {
     "data": {
      "text/html": [
       "<div>\n",
       "<style scoped>\n",
       "    .dataframe tbody tr th:only-of-type {\n",
       "        vertical-align: middle;\n",
       "    }\n",
       "\n",
       "    .dataframe tbody tr th {\n",
       "        vertical-align: top;\n",
       "    }\n",
       "\n",
       "    .dataframe thead th {\n",
       "        text-align: right;\n",
       "    }\n",
       "</style>\n",
       "<table border=\"1\" class=\"dataframe\">\n",
       "  <thead>\n",
       "    <tr style=\"text-align: right;\">\n",
       "      <th></th>\n",
       "      <th>BAS</th>\n",
       "      <th>WF1</th>\n",
       "      <th>split_idx</th>\n",
       "      <th>gene_set_seed</th>\n",
       "      <th>cell_type</th>\n",
       "    </tr>\n",
       "  </thead>\n",
       "  <tbody>\n",
       "    <tr>\n",
       "      <th>0</th>\n",
       "      <td>0.302177</td>\n",
       "      <td>0.510815</td>\n",
       "      <td>3</td>\n",
       "      <td>14</td>\n",
       "      <td>Plasma</td>\n",
       "    </tr>\n",
       "  </tbody>\n",
       "</table>\n",
       "</div>"
      ],
      "text/plain": [
       "        BAS       WF1  split_idx  gene_set_seed cell_type\n",
       "0  0.302177  0.510815          3             14    Plasma"
      ]
     },
     "execution_count": 27,
     "metadata": {},
     "output_type": "execute_result"
    }
   ],
   "source": [
    "metrics_df = pd.DataFrame.from_dict([metrics_dict]).assign(split_idx=TEST_SPLIT_IDX, gene_set_seed=SEED, cell_type=CELL_TYPE)\n",
    "metrics_df"
   ]
  },
  {
   "cell_type": "code",
   "execution_count": 28,
   "id": "db6a256f",
   "metadata": {
    "execution": {
     "iopub.execute_input": "2025-05-15T16:16:00.517378Z",
     "iopub.status.busy": "2025-05-15T16:16:00.517122Z",
     "iopub.status.idle": "2025-05-15T16:16:00.525226Z",
     "shell.execute_reply": "2025-05-15T16:16:00.524837Z"
    },
    "papermill": {
     "duration": 0.01878,
     "end_time": "2025-05-15T16:16:00.526198",
     "exception": false,
     "start_time": "2025-05-15T16:16:00.507418",
     "status": "completed"
    },
    "tags": []
   },
   "outputs": [],
   "source": [
    "out_dir = here(f'03_downstream_analysis/08_gene_importance/xgboost_external_validation/xgboost_TopN_genes/results_{N_GENES}/metrics')\n",
    "\n",
    "if not os.path.exists(out_dir):\n",
    "    os.makedirs(out_dir)\n",
    "    \n",
    "metrics_df.to_csv(os.path.join(out_dir, f'{CELL_TYPE}_{SEED}_{TEST_SPLIT_IDX}_metrics.zip'))"
   ]
  }
 ],
 "metadata": {
  "kernelspec": {
   "display_name": "Python 3 (ipykernel)",
   "language": "python",
   "name": "python3"
  },
  "language_info": {
   "codemirror_mode": {
    "name": "ipython",
    "version": 3
   },
   "file_extension": ".py",
   "mimetype": "text/x-python",
   "name": "python",
   "nbconvert_exporter": "python",
   "pygments_lexer": "ipython3",
   "version": "3.12.5"
  },
  "papermill": {
   "default_parameters": {},
   "duration": 18.292017,
   "end_time": "2025-05-15T16:16:01.152118",
   "environment_variables": {},
   "exception": null,
   "input_path": "02_xgboost_fitting_external_20genes.ipynb",
   "output_path": "results_20/executed_notebooks/xgboost_fitting_external_CT_Plasma_GS_14_seed3.ipynb",
   "parameters": {
    "CELL_TYPE": "Plasma",
    "SEED": 14,
    "TEST_SPLIT_IDX": 3
   },
   "start_time": "2025-05-15T16:15:42.860101",
   "version": "2.6.0"
  }
 },
 "nbformat": 4,
 "nbformat_minor": 5
}