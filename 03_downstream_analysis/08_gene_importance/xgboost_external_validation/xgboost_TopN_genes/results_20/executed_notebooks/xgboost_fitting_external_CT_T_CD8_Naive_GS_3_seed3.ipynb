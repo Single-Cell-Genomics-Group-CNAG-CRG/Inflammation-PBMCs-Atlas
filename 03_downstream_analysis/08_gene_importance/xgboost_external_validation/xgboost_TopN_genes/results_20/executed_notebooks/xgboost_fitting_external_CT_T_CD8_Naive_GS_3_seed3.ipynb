{
 "cells": [
  {
   "cell_type": "code",
   "execution_count": 1,
   "id": "95d0d40b",
   "metadata": {
    "editable": true,
    "execution": {
     "iopub.execute_input": "2025-05-15T16:03:52.171366Z",
     "iopub.status.busy": "2025-05-15T16:03:52.171086Z",
     "iopub.status.idle": "2025-05-15T16:03:52.173891Z",
     "shell.execute_reply": "2025-05-15T16:03:52.173567Z"
    },
    "papermill": {
     "duration": 0.010519,
     "end_time": "2025-05-15T16:03:52.174749",
     "exception": false,
     "start_time": "2025-05-15T16:03:52.164230",
     "status": "completed"
    },
    "slideshow": {
     "slide_type": ""
    },
    "tags": [
     "parameters"
    ]
   },
   "outputs": [],
   "source": [
    "CELL_TYPE = 'pDC'\n",
    "N_GENES: int = 20\n",
    "SEED = 'shap_studyID' #'disease_NOstudy' 'study_NOdisease' or 'int' or 'shap_studyID'\n",
    "TEST_SPLIT_IDX: int = 1 #[0,4]"
   ]
  },
  {
   "cell_type": "code",
   "execution_count": 2,
   "id": "68d52222",
   "metadata": {
    "execution": {
     "iopub.execute_input": "2025-05-15T16:03:52.185695Z",
     "iopub.status.busy": "2025-05-15T16:03:52.185517Z",
     "iopub.status.idle": "2025-05-15T16:03:52.187632Z",
     "shell.execute_reply": "2025-05-15T16:03:52.187318Z"
    },
    "papermill": {
     "duration": 0.008542,
     "end_time": "2025-05-15T16:03:52.188487",
     "exception": false,
     "start_time": "2025-05-15T16:03:52.179945",
     "status": "completed"
    },
    "tags": [
     "injected-parameters"
    ]
   },
   "outputs": [],
   "source": [
    "# Parameters\n",
    "CELL_TYPE = \"T_CD8_Naive\"\n",
    "SEED = 3\n",
    "TEST_SPLIT_IDX = 3\n"
   ]
  },
  {
   "cell_type": "code",
   "execution_count": 3,
   "id": "5f8ec847",
   "metadata": {
    "execution": {
     "iopub.execute_input": "2025-05-15T16:03:52.199484Z",
     "iopub.status.busy": "2025-05-15T16:03:52.199310Z",
     "iopub.status.idle": "2025-05-15T16:03:52.201390Z",
     "shell.execute_reply": "2025-05-15T16:03:52.201047Z"
    },
    "papermill": {
     "duration": 0.008566,
     "end_time": "2025-05-15T16:03:52.202269",
     "exception": false,
     "start_time": "2025-05-15T16:03:52.193703",
     "status": "completed"
    },
    "tags": []
   },
   "outputs": [],
   "source": [
    "N_SPLITS: int = 5\n",
    "N_TRIALS: int = 50"
   ]
  },
  {
   "cell_type": "code",
   "execution_count": 4,
   "id": "d67d27fe",
   "metadata": {
    "execution": {
     "iopub.execute_input": "2025-05-15T16:03:52.214522Z",
     "iopub.status.busy": "2025-05-15T16:03:52.214336Z",
     "iopub.status.idle": "2025-05-15T16:03:53.622853Z",
     "shell.execute_reply": "2025-05-15T16:03:53.622376Z"
    },
    "papermill": {
     "duration": 1.416642,
     "end_time": "2025-05-15T16:03:53.624205",
     "exception": false,
     "start_time": "2025-05-15T16:03:52.207563",
     "status": "completed"
    },
    "tags": []
   },
   "outputs": [],
   "source": [
    "import os\n",
    "import sys\n",
    "from pyprojroot.here import here\n",
    "import pandas as pd\n",
    "import anndata as ad\n",
    "import numpy as np\n",
    "import math\n",
    "from sklearn.model_selection import StratifiedGroupKFold\n",
    "from sklearn.preprocessing import LabelEncoder\n",
    "from sklearn.metrics import f1_score\n",
    "import matplotlib.pyplot as plt\n",
    "import seaborn as sns\n",
    "from itertools import product\n",
    "from sklearn.metrics import balanced_accuracy_score, f1_score\n",
    "import optuna\n",
    "\n",
    "import joblib\n",
    "import pickle\n",
    "import datetime\n",
    "\n",
    "import collections\n",
    "\n",
    "import xgboost\n",
    "from sklearn.preprocessing import LabelEncoder\n",
    "\n",
    "import scipy.sparse as ssp\n",
    "import joblib\n",
    "\n",
    "from dotenv import load_dotenv"
   ]
  },
  {
   "cell_type": "code",
   "execution_count": 5,
   "id": "be9e6655",
   "metadata": {
    "execution": {
     "iopub.execute_input": "2025-05-15T16:03:53.636123Z",
     "iopub.status.busy": "2025-05-15T16:03:53.635778Z",
     "iopub.status.idle": "2025-05-15T16:03:53.641926Z",
     "shell.execute_reply": "2025-05-15T16:03:53.641565Z"
    },
    "papermill": {
     "duration": 0.013059,
     "end_time": "2025-05-15T16:03:53.642826",
     "exception": false,
     "start_time": "2025-05-15T16:03:53.629767",
     "status": "completed"
    },
    "tags": []
   },
   "outputs": [
    {
     "data": {
      "text/plain": [
       "True"
      ]
     },
     "execution_count": 5,
     "metadata": {},
     "output_type": "execute_result"
    }
   ],
   "source": [
    "load_dotenv()"
   ]
  },
  {
   "cell_type": "markdown",
   "id": "abd86412",
   "metadata": {
    "papermill": {
     "duration": 0.005685,
     "end_time": "2025-05-15T16:03:53.654004",
     "exception": false,
     "start_time": "2025-05-15T16:03:53.648319",
     "status": "completed"
    },
    "tags": []
   },
   "source": [
    "# LOAD DATASET"
   ]
  },
  {
   "cell_type": "code",
   "execution_count": 6,
   "id": "a0a42cee",
   "metadata": {
    "execution": {
     "iopub.execute_input": "2025-05-15T16:03:53.665819Z",
     "iopub.status.busy": "2025-05-15T16:03:53.665501Z",
     "iopub.status.idle": "2025-05-15T16:03:53.930009Z",
     "shell.execute_reply": "2025-05-15T16:03:53.929515Z"
    },
    "papermill": {
     "duration": 0.271602,
     "end_time": "2025-05-15T16:03:53.931064",
     "exception": false,
     "start_time": "2025-05-15T16:03:53.659462",
     "status": "completed"
    },
    "tags": []
   },
   "outputs": [],
   "source": [
    "train_adata = ad.read_h5ad(\n",
    "    here(f'03_downstream_analysis/08_gene_importance/xgboost_external_validation/xgboost_TopN_genes/data_cellTypes/EXTERNAL_{CELL_TYPE}.filtered.log1p.h5ad')\n",
    ")"
   ]
  },
  {
   "cell_type": "code",
   "execution_count": 7,
   "id": "06344758",
   "metadata": {
    "execution": {
     "iopub.execute_input": "2025-05-15T16:03:53.942810Z",
     "iopub.status.busy": "2025-05-15T16:03:53.942599Z",
     "iopub.status.idle": "2025-05-15T16:03:53.959748Z",
     "shell.execute_reply": "2025-05-15T16:03:53.959356Z"
    },
    "papermill": {
     "duration": 0.024013,
     "end_time": "2025-05-15T16:03:53.960659",
     "exception": false,
     "start_time": "2025-05-15T16:03:53.936646",
     "status": "completed"
    },
    "tags": []
   },
   "outputs": [
    {
     "name": "stdout",
     "output_type": "stream",
     "text": [
      "['ENSG00000142166' 'ENSG00000182866' 'ENSG00000127022' 'ENSG00000128524'\n",
      " 'ENSG00000227507' 'ENSG00000172005' 'ENSG00000108518' 'ENSG00000136003'\n",
      " 'ENSG00000104894' 'ENSG00000115415' 'ENSG00000159128' 'ENSG00000178562'\n",
      " 'ENSG00000139192' 'ENSG00000151882' 'ENSG00000100393' 'ENSG00000152234'\n",
      " 'ENSG00000188404' 'ENSG00000216490' 'ENSG00000077238' 'ENSG00000183172'\n",
      " 'ENSG00000108622' 'ENSG00000139193' 'ENSG00000160213' 'ENSG00000143543'\n",
      " 'ENSG00000177663' 'ENSG00000146278' 'ENSG00000005844' 'ENSG00000033800'\n",
      " 'ENSG00000092820' 'ENSG00000171223' 'ENSG00000173812' 'ENSG00000186395'\n",
      " 'ENSG00000171700' 'ENSG00000167863' 'ENSG00000118640' 'ENSG00000133872'\n",
      " 'ENSG00000183020' 'ENSG00000170296' 'ENSG00000138674' 'ENSG00000117020'\n",
      " 'ENSG00000100097' 'ENSG00000264364' 'ENSG00000157514' 'ENSG00000243678'\n",
      " 'ENSG00000117602' 'ENSG00000066294' 'ENSG00000109861' 'ENSG00000076662'\n",
      " 'ENSG00000111348' 'ENSG00000091409' 'ENSG00000177556' 'ENSG00000197329'\n",
      " 'ENSG00000241837' 'ENSG00000115738' 'ENSG00000132510' 'ENSG00000126267'\n",
      " 'ENSG00000277734' 'ENSG00000175768' 'ENSG00000127540' 'ENSG00000144802'\n",
      " 'ENSG00000117523' 'ENSG00000163131' 'ENSG00000100911' 'ENSG00000160888'\n",
      " 'ENSG00000132432' 'ENSG00000135720' 'ENSG00000143575' 'ENSG00000125740'\n",
      " 'ENSG00000113732' 'ENSG00000172183' 'ENSG00000101608' 'ENSG00000143119'\n",
      " 'ENSG00000179218' 'ENSG00000118503' 'ENSG00000182117' 'ENSG00000110848'\n",
      " 'ENSG00000205220' 'ENSG00000172531' 'ENSG00000111716' 'ENSG00000197540'\n",
      " 'ENSG00000157601' 'ENSG00000126561' 'ENSG00000123416' 'ENSG00000166681'\n",
      " 'ENSG00000104904' 'ENSG00000177606' 'ENSG00000196396' 'ENSG00000160075'\n",
      " 'ENSG00000026297' 'ENSG00000163659' 'ENSG00000152778' 'ENSG00000107485'\n",
      " 'ENSG00000105835' 'ENSG00000166888' 'ENSG00000145220' 'ENSG00000157873'\n",
      " 'ENSG00000108639' 'ENSG00000100100' 'ENSG00000142546' 'ENSG00000105583'\n",
      " 'ENSG00000082074' 'ENSG00000090266' 'ENSG00000079805' 'ENSG00000120742'\n",
      " 'ENSG00000005339' 'ENSG00000077150' 'ENSG00000132912' 'ENSG00000179094'\n",
      " 'ENSG00000146457' 'ENSG00000138107']\n"
     ]
    }
   ],
   "source": [
    "if SEED != 'all':\n",
    "    gene_subset = np.load(here(f'03_downstream_analysis/08_gene_importance/xgboost_external_validation/shap_gene_selection/gene_subsets_{N_GENES}/{CELL_TYPE}_{SEED}.npy'), allow_pickle=True)\n",
    "    train_adata = train_adata[:,gene_subset]\n",
    "    print(gene_subset)\n",
    "elif SEED == 'all':\n",
    "    print('Using all genes')\n",
    "else:\n",
    "    raise ValueError()"
   ]
  },
  {
   "cell_type": "code",
   "execution_count": 8,
   "id": "486ce393",
   "metadata": {
    "execution": {
     "iopub.execute_input": "2025-05-15T16:03:53.972697Z",
     "iopub.status.busy": "2025-05-15T16:03:53.972324Z",
     "iopub.status.idle": "2025-05-15T16:03:53.975495Z",
     "shell.execute_reply": "2025-05-15T16:03:53.975147Z"
    },
    "papermill": {
     "duration": 0.010157,
     "end_time": "2025-05-15T16:03:53.976361",
     "exception": false,
     "start_time": "2025-05-15T16:03:53.966204",
     "status": "completed"
    },
    "tags": []
   },
   "outputs": [
    {
     "data": {
      "text/plain": [
       "(37072, 110)"
      ]
     },
     "execution_count": 8,
     "metadata": {},
     "output_type": "execute_result"
    }
   ],
   "source": [
    "train_adata.shape"
   ]
  },
  {
   "cell_type": "code",
   "execution_count": 9,
   "id": "9877b64b",
   "metadata": {
    "execution": {
     "iopub.execute_input": "2025-05-15T16:03:53.987859Z",
     "iopub.status.busy": "2025-05-15T16:03:53.987588Z",
     "iopub.status.idle": "2025-05-15T16:03:53.991589Z",
     "shell.execute_reply": "2025-05-15T16:03:53.991265Z"
    },
    "papermill": {
     "duration": 0.010621,
     "end_time": "2025-05-15T16:03:53.992442",
     "exception": false,
     "start_time": "2025-05-15T16:03:53.981821",
     "status": "completed"
    },
    "tags": []
   },
   "outputs": [
    {
     "data": {
      "text/plain": [
       "['RA', 'COVID', 'healthy', 'HIV', 'cirrhosis', 'CD', 'SLE', 'sepsis']\n",
       "Categories (8, object): ['CD', 'COVID', 'HIV', 'RA', 'SLE', 'cirrhosis', 'healthy', 'sepsis']"
      ]
     },
     "execution_count": 9,
     "metadata": {},
     "output_type": "execute_result"
    }
   ],
   "source": [
    "train_adata.obs.disease.unique()"
   ]
  },
  {
   "cell_type": "code",
   "execution_count": 10,
   "id": "c71bd742",
   "metadata": {
    "execution": {
     "iopub.execute_input": "2025-05-15T16:03:54.004305Z",
     "iopub.status.busy": "2025-05-15T16:03:54.003958Z",
     "iopub.status.idle": "2025-05-15T16:03:54.007728Z",
     "shell.execute_reply": "2025-05-15T16:03:54.007402Z"
    },
    "papermill": {
     "duration": 0.010705,
     "end_time": "2025-05-15T16:03:54.008641",
     "exception": false,
     "start_time": "2025-05-15T16:03:53.997936",
     "status": "completed"
    },
    "tags": []
   },
   "outputs": [
    {
     "data": {
      "text/plain": [
       "['SCGT00val_I036024_T0', 'SCGT00val_I0364_T0', 'SCGT00val_I036019_T0', 'SCGT00val_I036028_T0', 'SCGT00val_I036021_T0', ..., '10XGenomics_10XHC2_T0', '10XGenomics_10XHC3_T0', '10XGenomics_10XHC5_T0', '10XGenomics_10XHC7_T0', '10XGenomics_10XHC8_T0']\n",
       "Length: 86\n",
       "Categories (86, object): ['10XGenomics_10XHC1_T0', '10XGenomics_10XHC2_T0', '10XGenomics_10XHC3_T0', '10XGenomics_10XHC4_T0', ..., 'Savage2021_BRISL6_T0', 'Savage2021_BRISL7_T0', 'Savage2021_PIDA_T0', 'Savage2021_PIDB_T0']"
      ]
     },
     "execution_count": 10,
     "metadata": {},
     "output_type": "execute_result"
    }
   ],
   "source": [
    "train_adata.obs.sampleID.unique()"
   ]
  },
  {
   "cell_type": "code",
   "execution_count": 11,
   "id": "1f514550",
   "metadata": {
    "execution": {
     "iopub.execute_input": "2025-05-15T16:03:54.020921Z",
     "iopub.status.busy": "2025-05-15T16:03:54.020655Z",
     "iopub.status.idle": "2025-05-15T16:03:54.141060Z",
     "shell.execute_reply": "2025-05-15T16:03:54.140660Z"
    },
    "papermill": {
     "duration": 0.127704,
     "end_time": "2025-05-15T16:03:54.142129",
     "exception": false,
     "start_time": "2025-05-15T16:03:54.014425",
     "status": "completed"
    },
    "tags": []
   },
   "outputs": [],
   "source": [
    "all_idxs = np.arange(train_adata.obs.shape[0])\n",
    "left_out_splits = [s[1] for s in StratifiedGroupKFold(n_splits=N_SPLITS).split(all_idxs, train_adata.obs.disease, train_adata.obs.sampleID)]"
   ]
  },
  {
   "cell_type": "code",
   "execution_count": 12,
   "id": "7d2889e3",
   "metadata": {
    "execution": {
     "iopub.execute_input": "2025-05-15T16:03:54.155275Z",
     "iopub.status.busy": "2025-05-15T16:03:54.154982Z",
     "iopub.status.idle": "2025-05-15T16:03:54.158601Z",
     "shell.execute_reply": "2025-05-15T16:03:54.158264Z"
    },
    "papermill": {
     "duration": 0.011015,
     "end_time": "2025-05-15T16:03:54.159480",
     "exception": false,
     "start_time": "2025-05-15T16:03:54.148465",
     "status": "completed"
    },
    "tags": []
   },
   "outputs": [
    {
     "data": {
      "text/plain": [
       "([0, 1, 2], 4, 3)"
      ]
     },
     "execution_count": 12,
     "metadata": {},
     "output_type": "execute_result"
    }
   ],
   "source": [
    "TRAIN_SPLIT_IDXS = [0,1,2,3,4]\n",
    "VAL_SPLIT_IDX = (TEST_SPLIT_IDX + 1) % 5\n",
    "TRAIN_SPLIT_IDXS.remove(TEST_SPLIT_IDX)\n",
    "TRAIN_SPLIT_IDXS.remove(VAL_SPLIT_IDX)\n",
    "TRAIN_SPLIT_IDXS, VAL_SPLIT_IDX, TEST_SPLIT_IDX"
   ]
  },
  {
   "cell_type": "code",
   "execution_count": 13,
   "id": "926720c3",
   "metadata": {
    "execution": {
     "iopub.execute_input": "2025-05-15T16:03:54.171654Z",
     "iopub.status.busy": "2025-05-15T16:03:54.171304Z",
     "iopub.status.idle": "2025-05-15T16:03:54.173780Z",
     "shell.execute_reply": "2025-05-15T16:03:54.173460Z"
    },
    "papermill": {
     "duration": 0.0094,
     "end_time": "2025-05-15T16:03:54.174616",
     "exception": false,
     "start_time": "2025-05-15T16:03:54.165216",
     "status": "completed"
    },
    "tags": []
   },
   "outputs": [],
   "source": [
    "train_idxs = np.concatenate([left_out_splits[idx] for idx in TRAIN_SPLIT_IDXS])\n",
    "val_idxs = left_out_splits[VAL_SPLIT_IDX]\n",
    "test_idxs = left_out_splits[TEST_SPLIT_IDX]"
   ]
  },
  {
   "cell_type": "markdown",
   "id": "d4e2666c",
   "metadata": {
    "papermill": {
     "duration": 0.00555,
     "end_time": "2025-05-15T16:03:54.185919",
     "exception": false,
     "start_time": "2025-05-15T16:03:54.180369",
     "status": "completed"
    },
    "tags": []
   },
   "source": [
    "### SUBSET DATASET INTO TRAIN/TEST/VAL SPLITS"
   ]
  },
  {
   "cell_type": "code",
   "execution_count": 14,
   "id": "e8b33a18",
   "metadata": {
    "execution": {
     "iopub.execute_input": "2025-05-15T16:03:54.198216Z",
     "iopub.status.busy": "2025-05-15T16:03:54.198029Z",
     "iopub.status.idle": "2025-05-15T16:03:54.311203Z",
     "shell.execute_reply": "2025-05-15T16:03:54.310814Z"
    },
    "papermill": {
     "duration": 0.12069,
     "end_time": "2025-05-15T16:03:54.312310",
     "exception": false,
     "start_time": "2025-05-15T16:03:54.191620",
     "status": "completed"
    },
    "tags": []
   },
   "outputs": [
    {
     "data": {
      "text/plain": [
       "((22845, 110), (7486, 110), (6741, 110))"
      ]
     },
     "execution_count": 14,
     "metadata": {},
     "output_type": "execute_result"
    }
   ],
   "source": [
    "X_train = train_adata.X[train_idxs]\n",
    "X_test = train_adata.X[test_idxs]\n",
    "X_val = train_adata.X[val_idxs]\n",
    "X_train.shape, X_test.shape, X_val.shape"
   ]
  },
  {
   "cell_type": "code",
   "execution_count": 15,
   "id": "08efc81e",
   "metadata": {
    "execution": {
     "iopub.execute_input": "2025-05-15T16:03:54.325747Z",
     "iopub.status.busy": "2025-05-15T16:03:54.325500Z",
     "iopub.status.idle": "2025-05-15T16:03:54.332538Z",
     "shell.execute_reply": "2025-05-15T16:03:54.332212Z"
    },
    "papermill": {
     "duration": 0.014824,
     "end_time": "2025-05-15T16:03:54.333433",
     "exception": false,
     "start_time": "2025-05-15T16:03:54.318609",
     "status": "completed"
    },
    "tags": []
   },
   "outputs": [
    {
     "data": {
      "text/plain": [
       "((22845,), (7486,), (6741,))"
      ]
     },
     "execution_count": 15,
     "metadata": {},
     "output_type": "execute_result"
    }
   ],
   "source": [
    "y_train = train_adata.obs.iloc[train_idxs].disease.values.astype(str)\n",
    "y_test = train_adata.obs.iloc[test_idxs].disease.values.astype(str)\n",
    "y_val = train_adata.obs.iloc[val_idxs].disease.values.astype(str)\n",
    "y_train.shape, y_test.shape, y_val.shape"
   ]
  },
  {
   "cell_type": "code",
   "execution_count": 16,
   "id": "4470a817",
   "metadata": {
    "execution": {
     "iopub.execute_input": "2025-05-15T16:03:54.346778Z",
     "iopub.status.busy": "2025-05-15T16:03:54.346435Z",
     "iopub.status.idle": "2025-05-15T16:03:54.357507Z",
     "shell.execute_reply": "2025-05-15T16:03:54.357171Z"
    },
    "papermill": {
     "duration": 0.018947,
     "end_time": "2025-05-15T16:03:54.358452",
     "exception": false,
     "start_time": "2025-05-15T16:03:54.339505",
     "status": "completed"
    },
    "tags": []
   },
   "outputs": [],
   "source": [
    "lenc = LabelEncoder()\n",
    "y_train_enc = lenc.fit_transform(y_train)\n",
    "y_val_enc = lenc.transform(y_val)\n",
    "y_test_enc = lenc.transform(y_test)"
   ]
  },
  {
   "cell_type": "markdown",
   "id": "7b154203",
   "metadata": {
    "papermill": {
     "duration": 0.005876,
     "end_time": "2025-05-15T16:03:54.370344",
     "exception": false,
     "start_time": "2025-05-15T16:03:54.364468",
     "status": "completed"
    },
    "tags": []
   },
   "source": [
    "### GENERATE F1 "
   ]
  },
  {
   "cell_type": "code",
   "execution_count": 17,
   "id": "0b8c971f",
   "metadata": {
    "execution": {
     "iopub.execute_input": "2025-05-15T16:03:54.382905Z",
     "iopub.status.busy": "2025-05-15T16:03:54.382482Z",
     "iopub.status.idle": "2025-05-15T16:03:54.384924Z",
     "shell.execute_reply": "2025-05-15T16:03:54.384577Z"
    },
    "papermill": {
     "duration": 0.009558,
     "end_time": "2025-05-15T16:03:54.385823",
     "exception": false,
     "start_time": "2025-05-15T16:03:54.376265",
     "status": "completed"
    },
    "tags": []
   },
   "outputs": [],
   "source": [
    "def custom_f1_score(y_true, y_pred):\n",
    "    return -f1_score(y_true, y_pred.argmax(1), average='weighted')"
   ]
  },
  {
   "cell_type": "code",
   "execution_count": 18,
   "id": "e878c932",
   "metadata": {
    "execution": {
     "iopub.execute_input": "2025-05-15T16:03:54.398204Z",
     "iopub.status.busy": "2025-05-15T16:03:54.397872Z",
     "iopub.status.idle": "2025-05-15T16:03:54.401950Z",
     "shell.execute_reply": "2025-05-15T16:03:54.401630Z"
    },
    "papermill": {
     "duration": 0.011016,
     "end_time": "2025-05-15T16:03:54.402776",
     "exception": false,
     "start_time": "2025-05-15T16:03:54.391760",
     "status": "completed"
    },
    "tags": []
   },
   "outputs": [],
   "source": [
    "eval_metric=custom_f1_score\n",
    "eval_metric_name='custom_f1_score'\n",
    "\n",
    "def objective(trial):\n",
    "    params = {\n",
    "        'n_estimators': 1500,\n",
    "        'max_depth': trial.suggest_int('max_depth', 3, 20),\n",
    "        'min_child_weight': trial.suggest_int('min_child_weight', 1, 250),\n",
    "        'subsample': trial.suggest_float('subsample', 0.1, 1.0),\n",
    "        'colsample_bynode': trial.suggest_float('colsample_bynode', 0.1, 1.0),\n",
    "        'learning_rate': trial.suggest_float('learning_rate', 1e-3, 5e-1, log=True),\n",
    "    }\n",
    "    pruning_callback = optuna.integration.XGBoostPruningCallback(trial, f'validation_0-{eval_metric_name}')\n",
    "    es_callback = xgboost.callback.EarlyStopping(20, min_delta=0.001)\n",
    "    xgb = xgboost.XGBClassifier(\n",
    "        eval_metric=eval_metric,\n",
    "        callbacks=[pruning_callback, es_callback],\n",
    "        n_jobs=5,\n",
    "        **params\n",
    "    )\n",
    "    xgb.fit(\n",
    "        X_train, \n",
    "        y_train_enc, \n",
    "        verbose=0,\n",
    "        eval_set=[(X_val, y_val_enc)],\n",
    "    )\n",
    "    trial.set_user_attr('best_iteration', xgb.best_iteration)\n",
    "\n",
    "    return xgb.best_score"
   ]
  },
  {
   "cell_type": "code",
   "execution_count": 19,
   "id": "f016b770",
   "metadata": {
    "execution": {
     "iopub.execute_input": "2025-05-15T16:03:54.415399Z",
     "iopub.status.busy": "2025-05-15T16:03:54.415136Z",
     "iopub.status.idle": "2025-05-15T16:08:21.806947Z",
     "shell.execute_reply": "2025-05-15T16:08:21.806469Z"
    },
    "papermill": {
     "duration": 267.399556,
     "end_time": "2025-05-15T16:08:21.808307",
     "exception": false,
     "start_time": "2025-05-15T16:03:54.408751",
     "status": "completed"
    },
    "scrolled": true,
    "tags": []
   },
   "outputs": [
    {
     "name": "stderr",
     "output_type": "stream",
     "text": [
      "[I 2025-05-15 18:03:54,417] A new study created in memory with name: no-name-66893817-70cd-4c69-9a56-a243ec939879\n"
     ]
    },
    {
     "name": "stderr",
     "output_type": "stream",
     "text": [
      "[I 2025-05-15 18:03:55,732] Trial 0 finished with value: -0.675887 and parameters: {'max_depth': 9, 'min_child_weight': 238, 'subsample': 0.7587945476302645, 'colsample_bynode': 0.6387926357773329, 'learning_rate': 0.0026368755339723046}. Best is trial 0 with value: -0.675887.\n"
     ]
    },
    {
     "name": "stderr",
     "output_type": "stream",
     "text": [
      "[I 2025-05-15 18:04:10,233] Trial 1 finished with value: -0.813753 and parameters: {'max_depth': 5, 'min_child_weight': 15, 'subsample': 0.8795585311974417, 'colsample_bynode': 0.6410035105688879, 'learning_rate': 0.08148293210105287}. Best is trial 1 with value: -0.813753.\n"
     ]
    },
    {
     "name": "stderr",
     "output_type": "stream",
     "text": [
      "[I 2025-05-15 18:04:12,167] Trial 2 finished with value: -0.67352 and parameters: {'max_depth': 3, 'min_child_weight': 243, 'subsample': 0.8491983767203796, 'colsample_bynode': 0.29110519961044856, 'learning_rate': 0.003095566460242371}. Best is trial 1 with value: -0.813753.\n"
     ]
    },
    {
     "name": "stderr",
     "output_type": "stream",
     "text": [
      "[I 2025-05-15 18:04:14,044] Trial 3 finished with value: -0.701503 and parameters: {'max_depth': 6, 'min_child_weight': 77, 'subsample': 0.5722807884690141, 'colsample_bynode': 0.48875051677790415, 'learning_rate': 0.006109683510122491}. Best is trial 1 with value: -0.813753.\n"
     ]
    },
    {
     "name": "stderr",
     "output_type": "stream",
     "text": [
      "[I 2025-05-15 18:04:41,422] Trial 4 finished with value: -0.77817 and parameters: {'max_depth': 14, 'min_child_weight': 35, 'subsample': 0.3629301836816964, 'colsample_bynode': 0.4297256589643226, 'learning_rate': 0.01701841881702917}. Best is trial 1 with value: -0.813753.\n"
     ]
    },
    {
     "name": "stderr",
     "output_type": "stream",
     "text": [
      "[I 2025-05-15 18:04:43,907] Trial 5 finished with value: -0.717836 and parameters: {'max_depth': 17, 'min_child_weight': 50, 'subsample': 0.5628109945722505, 'colsample_bynode': 0.6331731119758383, 'learning_rate': 0.0013346527038305934}. Best is trial 1 with value: -0.813753.\n"
     ]
    },
    {
     "name": "stderr",
     "output_type": "stream",
     "text": [
      "[I 2025-05-15 18:04:44,212] Trial 6 pruned. Trial was pruned at iteration 0.\n"
     ]
    },
    {
     "name": "stderr",
     "output_type": "stream",
     "text": [
      "[I 2025-05-15 18:04:44,508] Trial 7 pruned. Trial was pruned at iteration 0.\n"
     ]
    },
    {
     "name": "stderr",
     "output_type": "stream",
     "text": [
      "[I 2025-05-15 18:04:44,797] Trial 8 pruned. Trial was pruned at iteration 0.\n"
     ]
    },
    {
     "name": "stderr",
     "output_type": "stream",
     "text": [
      "[I 2025-05-15 18:04:46,721] Trial 9 finished with value: -0.707349 and parameters: {'max_depth': 14, 'min_child_weight': 78, 'subsample': 0.5680612190600297, 'colsample_bynode': 0.5920392514089517, 'learning_rate': 0.0031543990308330965}. Best is trial 1 with value: -0.813753.\n"
     ]
    },
    {
     "name": "stderr",
     "output_type": "stream",
     "text": [
      "[I 2025-05-15 18:04:58,726] Trial 10 finished with value: -0.803231 and parameters: {'max_depth': 9, 'min_child_weight': 2, 'subsample': 0.9725833997090791, 'colsample_bynode': 0.11616568805333755, 'learning_rate': 0.17780618353487967}. Best is trial 1 with value: -0.813753.\n"
     ]
    },
    {
     "name": "stderr",
     "output_type": "stream",
     "text": [
      "[I 2025-05-15 18:05:13,193] Trial 11 finished with value: -0.804937 and parameters: {'max_depth': 9, 'min_child_weight': 4, 'subsample': 0.9818290990185045, 'colsample_bynode': 0.17702656156719, 'learning_rate': 0.11568531411766632}. Best is trial 1 with value: -0.813753.\n"
     ]
    },
    {
     "name": "stderr",
     "output_type": "stream",
     "text": [
      "[I 2025-05-15 18:05:19,716] Trial 12 pruned. Trial was pruned at iteration 42.\n"
     ]
    },
    {
     "name": "stderr",
     "output_type": "stream",
     "text": [
      "[I 2025-05-15 18:05:20,057] Trial 13 pruned. Trial was pruned at iteration 0.\n"
     ]
    },
    {
     "name": "stderr",
     "output_type": "stream",
     "text": [
      "[I 2025-05-15 18:05:20,386] Trial 14 pruned. Trial was pruned at iteration 0.\n"
     ]
    },
    {
     "name": "stderr",
     "output_type": "stream",
     "text": [
      "[I 2025-05-15 18:05:40,149] Trial 15 pruned. Trial was pruned at iteration 102.\n"
     ]
    },
    {
     "name": "stderr",
     "output_type": "stream",
     "text": [
      "[I 2025-05-15 18:05:40,493] Trial 16 pruned. Trial was pruned at iteration 0.\n"
     ]
    },
    {
     "name": "stderr",
     "output_type": "stream",
     "text": [
      "[I 2025-05-15 18:05:40,816] Trial 17 pruned. Trial was pruned at iteration 0.\n"
     ]
    },
    {
     "name": "stderr",
     "output_type": "stream",
     "text": [
      "[I 2025-05-15 18:05:52,777] Trial 18 finished with value: -0.816556 and parameters: {'max_depth': 11, 'min_child_weight': 37, 'subsample': 0.8988001325877066, 'colsample_bynode': 0.3955466156360019, 'learning_rate': 0.13348559174149954}. Best is trial 18 with value: -0.816556.\n"
     ]
    },
    {
     "name": "stderr",
     "output_type": "stream",
     "text": [
      "[I 2025-05-15 18:05:53,112] Trial 19 pruned. Trial was pruned at iteration 0.\n"
     ]
    },
    {
     "name": "stderr",
     "output_type": "stream",
     "text": [
      "[I 2025-05-15 18:06:01,716] Trial 20 finished with value: -0.813528 and parameters: {'max_depth': 16, 'min_child_weight': 36, 'subsample': 0.6578156841377696, 'colsample_bynode': 0.5501785677119223, 'learning_rate': 0.2221537505158567}. Best is trial 18 with value: -0.816556.\n"
     ]
    },
    {
     "name": "stderr",
     "output_type": "stream",
     "text": [
      "[I 2025-05-15 18:06:13,070] Trial 21 finished with value: -0.822305 and parameters: {'max_depth': 17, 'min_child_weight': 32, 'subsample': 0.6689074388587125, 'colsample_bynode': 0.5334907331464369, 'learning_rate': 0.24892967230551474}. Best is trial 21 with value: -0.822305.\n"
     ]
    },
    {
     "name": "stderr",
     "output_type": "stream",
     "text": [
      "[I 2025-05-15 18:06:21,074] Trial 22 finished with value: -0.814684 and parameters: {'max_depth': 20, 'min_child_weight': 28, 'subsample': 0.8937167085341449, 'colsample_bynode': 0.6978949090872939, 'learning_rate': 0.45094685506428994}. Best is trial 21 with value: -0.822305.\n"
     ]
    },
    {
     "name": "stderr",
     "output_type": "stream",
     "text": [
      "[I 2025-05-15 18:06:21,415] Trial 23 pruned. Trial was pruned at iteration 0.\n"
     ]
    },
    {
     "name": "stderr",
     "output_type": "stream",
     "text": [
      "[I 2025-05-15 18:06:30,263] Trial 24 finished with value: -0.814743 and parameters: {'max_depth': 18, 'min_child_weight': 32, 'subsample': 0.7684918098308352, 'colsample_bynode': 0.7010132046256832, 'learning_rate': 0.4612060492359103}. Best is trial 21 with value: -0.822305.\n"
     ]
    },
    {
     "name": "stderr",
     "output_type": "stream",
     "text": [
      "[I 2025-05-15 18:06:37,841] Trial 25 finished with value: -0.812285 and parameters: {'max_depth': 16, 'min_child_weight': 62, 'subsample': 0.7715244788256409, 'colsample_bynode': 0.5181595489481016, 'learning_rate': 0.24707888760688015}. Best is trial 21 with value: -0.822305.\n"
     ]
    },
    {
     "name": "stderr",
     "output_type": "stream",
     "text": [
      "[I 2025-05-15 18:06:38,125] Trial 26 pruned. Trial was pruned at iteration 0.\n"
     ]
    },
    {
     "name": "stderr",
     "output_type": "stream",
     "text": [
      "[I 2025-05-15 18:06:38,411] Trial 27 pruned. Trial was pruned at iteration 0.\n"
     ]
    },
    {
     "name": "stderr",
     "output_type": "stream",
     "text": [
      "[I 2025-05-15 18:06:45,675] Trial 28 finished with value: -0.810687 and parameters: {'max_depth': 18, 'min_child_weight': 21, 'subsample': 0.7478459349287867, 'colsample_bynode': 0.5628099412798021, 'learning_rate': 0.49750214589162883}. Best is trial 21 with value: -0.822305.\n"
     ]
    },
    {
     "name": "stderr",
     "output_type": "stream",
     "text": [
      "[I 2025-05-15 18:06:45,961] Trial 29 pruned. Trial was pruned at iteration 0.\n"
     ]
    },
    {
     "name": "stderr",
     "output_type": "stream",
     "text": [
      "[I 2025-05-15 18:06:46,271] Trial 30 pruned. Trial was pruned at iteration 0.\n"
     ]
    },
    {
     "name": "stderr",
     "output_type": "stream",
     "text": [
      "[I 2025-05-15 18:06:55,583] Trial 31 finished with value: -0.818549 and parameters: {'max_depth': 19, 'min_child_weight': 24, 'subsample': 0.8907643059247299, 'colsample_bynode': 0.7274065443696016, 'learning_rate': 0.366821223024414}. Best is trial 21 with value: -0.822305.\n"
     ]
    },
    {
     "name": "stderr",
     "output_type": "stream",
     "text": [
      "[I 2025-05-15 18:07:00,784] Trial 32 pruned. Trial was pruned at iteration 26.\n"
     ]
    },
    {
     "name": "stderr",
     "output_type": "stream",
     "text": [
      "[I 2025-05-15 18:07:08,941] Trial 33 finished with value: -0.81721 and parameters: {'max_depth': 19, 'min_child_weight': 40, 'subsample': 0.9148362146279557, 'colsample_bynode': 0.7746460778601428, 'learning_rate': 0.324713575515192}. Best is trial 21 with value: -0.822305.\n"
     ]
    },
    {
     "name": "stderr",
     "output_type": "stream",
     "text": [
      "[I 2025-05-15 18:07:12,160] Trial 34 pruned. Trial was pruned at iteration 21.\n"
     ]
    },
    {
     "name": "stderr",
     "output_type": "stream",
     "text": [
      "[I 2025-05-15 18:07:15,370] Trial 35 pruned. Trial was pruned at iteration 14.\n"
     ]
    },
    {
     "name": "stderr",
     "output_type": "stream",
     "text": [
      "[I 2025-05-15 18:07:15,648] Trial 36 pruned. Trial was pruned at iteration 0.\n"
     ]
    },
    {
     "name": "stderr",
     "output_type": "stream",
     "text": [
      "[I 2025-05-15 18:07:15,929] Trial 37 pruned. Trial was pruned at iteration 0.\n"
     ]
    },
    {
     "name": "stderr",
     "output_type": "stream",
     "text": [
      "[I 2025-05-15 18:07:16,231] Trial 38 pruned. Trial was pruned at iteration 0.\n"
     ]
    },
    {
     "name": "stderr",
     "output_type": "stream",
     "text": [
      "[I 2025-05-15 18:07:16,501] Trial 39 pruned. Trial was pruned at iteration 0.\n"
     ]
    },
    {
     "name": "stderr",
     "output_type": "stream",
     "text": [
      "[I 2025-05-15 18:07:16,918] Trial 40 pruned. Trial was pruned at iteration 1.\n"
     ]
    },
    {
     "name": "stderr",
     "output_type": "stream",
     "text": [
      "[I 2025-05-15 18:07:23,966] Trial 41 finished with value: -0.811981 and parameters: {'max_depth': 18, 'min_child_weight': 34, 'subsample': 0.7249057042294447, 'colsample_bynode': 0.7576455028785182, 'learning_rate': 0.3586596696089883}. Best is trial 21 with value: -0.822305.\n"
     ]
    },
    {
     "name": "stderr",
     "output_type": "stream",
     "text": [
      "[I 2025-05-15 18:07:31,904] Trial 42 finished with value: -0.814117 and parameters: {'max_depth': 18, 'min_child_weight': 15, 'subsample': 0.8052043345866375, 'colsample_bynode': 0.6670747410946014, 'learning_rate': 0.4952866242055612}. Best is trial 21 with value: -0.822305.\n"
     ]
    },
    {
     "name": "stderr",
     "output_type": "stream",
     "text": [
      "[I 2025-05-15 18:07:32,627] Trial 43 pruned. Trial was pruned at iteration 2.\n"
     ]
    },
    {
     "name": "stderr",
     "output_type": "stream",
     "text": [
      "[I 2025-05-15 18:07:32,934] Trial 44 pruned. Trial was pruned at iteration 0.\n"
     ]
    },
    {
     "name": "stderr",
     "output_type": "stream",
     "text": [
      "[I 2025-05-15 18:07:45,459] Trial 45 finished with value: -0.820177 and parameters: {'max_depth': 19, 'min_child_weight': 14, 'subsample': 0.865789499796055, 'colsample_bynode': 0.6130175761356529, 'learning_rate': 0.23569750980049264}. Best is trial 21 with value: -0.822305.\n"
     ]
    },
    {
     "name": "stderr",
     "output_type": "stream",
     "text": [
      "[I 2025-05-15 18:07:48,009] Trial 46 pruned. Trial was pruned at iteration 9.\n"
     ]
    },
    {
     "name": "stderr",
     "output_type": "stream",
     "text": [
      "[I 2025-05-15 18:08:02,407] Trial 47 finished with value: -0.818383 and parameters: {'max_depth': 20, 'min_child_weight': 13, 'subsample': 0.8596670869661388, 'colsample_bynode': 0.626540465761918, 'learning_rate': 0.21656090408418827}. Best is trial 21 with value: -0.822305.\n"
     ]
    },
    {
     "name": "stderr",
     "output_type": "stream",
     "text": [
      "[I 2025-05-15 18:08:04,495] Trial 48 pruned. Trial was pruned at iteration 8.\n"
     ]
    },
    {
     "name": "stderr",
     "output_type": "stream",
     "text": [
      "[I 2025-05-15 18:08:21,685] Trial 49 finished with value: -0.826567 and parameters: {'max_depth': 19, 'min_child_weight': 23, 'subsample': 0.9474539270338269, 'colsample_bynode': 0.6702982649898976, 'learning_rate': 0.20563550632545685}. Best is trial 49 with value: -0.826567.\n"
     ]
    }
   ],
   "source": [
    "sampler = optuna.samplers.TPESampler(seed=42)\n",
    "study = optuna.create_study(direction='minimize', sampler=sampler)\n",
    "study.optimize(objective, n_trials=N_TRIALS, gc_after_trial=True)"
   ]
  },
  {
   "cell_type": "code",
   "execution_count": 20,
   "id": "6b62d5be",
   "metadata": {
    "execution": {
     "iopub.execute_input": "2025-05-15T16:08:21.832165Z",
     "iopub.status.busy": "2025-05-15T16:08:21.831917Z",
     "iopub.status.idle": "2025-05-15T16:08:21.860263Z",
     "shell.execute_reply": "2025-05-15T16:08:21.859887Z"
    },
    "papermill": {
     "duration": 0.043876,
     "end_time": "2025-05-15T16:08:21.863873",
     "exception": false,
     "start_time": "2025-05-15T16:08:21.819997",
     "status": "completed"
    },
    "tags": []
   },
   "outputs": [
    {
     "data": {
      "text/plain": [
       "['/scratch_isilon/groups/singlecell/shared/projects/Inflammation-PBMCs-Atlas/03_downstream_analysis/08_gene_importance/xgboost_external_validation/xgboost_TopN_genes/results_20/study/T_CD8_Naive_3_3_xgboost.pkl']"
      ]
     },
     "execution_count": 20,
     "metadata": {},
     "output_type": "execute_result"
    }
   ],
   "source": [
    "out_dir = here(f'03_downstream_analysis/08_gene_importance/xgboost_external_validation/xgboost_TopN_genes/results_{N_GENES}/study')\n",
    "\n",
    "if not os.path.exists(out_dir):\n",
    "    os.makedirs(out_dir)\n",
    "    \n",
    "joblib.dump(study,os.path.join(out_dir, f'{CELL_TYPE}_{SEED}_{TEST_SPLIT_IDX}_xgboost.pkl'))"
   ]
  },
  {
   "cell_type": "code",
   "execution_count": 21,
   "id": "eee67467",
   "metadata": {
    "execution": {
     "iopub.execute_input": "2025-05-15T16:08:21.887364Z",
     "iopub.status.busy": "2025-05-15T16:08:21.886905Z",
     "iopub.status.idle": "2025-05-15T16:08:38.446324Z",
     "shell.execute_reply": "2025-05-15T16:08:38.445880Z"
    },
    "papermill": {
     "duration": 16.574106,
     "end_time": "2025-05-15T16:08:38.448101",
     "exception": false,
     "start_time": "2025-05-15T16:08:21.873995",
     "status": "completed"
    },
    "tags": []
   },
   "outputs": [
    {
     "data": {
      "text/html": [
       "<style>#sk-container-id-1 {\n",
       "  /* Definition of color scheme common for light and dark mode */\n",
       "  --sklearn-color-text: black;\n",
       "  --sklearn-color-line: gray;\n",
       "  /* Definition of color scheme for unfitted estimators */\n",
       "  --sklearn-color-unfitted-level-0: #fff5e6;\n",
       "  --sklearn-color-unfitted-level-1: #f6e4d2;\n",
       "  --sklearn-color-unfitted-level-2: #ffe0b3;\n",
       "  --sklearn-color-unfitted-level-3: chocolate;\n",
       "  /* Definition of color scheme for fitted estimators */\n",
       "  --sklearn-color-fitted-level-0: #f0f8ff;\n",
       "  --sklearn-color-fitted-level-1: #d4ebff;\n",
       "  --sklearn-color-fitted-level-2: #b3dbfd;\n",
       "  --sklearn-color-fitted-level-3: cornflowerblue;\n",
       "\n",
       "  /* Specific color for light theme */\n",
       "  --sklearn-color-text-on-default-background: var(--sg-text-color, var(--theme-code-foreground, var(--jp-content-font-color1, black)));\n",
       "  --sklearn-color-background: var(--sg-background-color, var(--theme-background, var(--jp-layout-color0, white)));\n",
       "  --sklearn-color-border-box: var(--sg-text-color, var(--theme-code-foreground, var(--jp-content-font-color1, black)));\n",
       "  --sklearn-color-icon: #696969;\n",
       "\n",
       "  @media (prefers-color-scheme: dark) {\n",
       "    /* Redefinition of color scheme for dark theme */\n",
       "    --sklearn-color-text-on-default-background: var(--sg-text-color, var(--theme-code-foreground, var(--jp-content-font-color1, white)));\n",
       "    --sklearn-color-background: var(--sg-background-color, var(--theme-background, var(--jp-layout-color0, #111)));\n",
       "    --sklearn-color-border-box: var(--sg-text-color, var(--theme-code-foreground, var(--jp-content-font-color1, white)));\n",
       "    --sklearn-color-icon: #878787;\n",
       "  }\n",
       "}\n",
       "\n",
       "#sk-container-id-1 {\n",
       "  color: var(--sklearn-color-text);\n",
       "}\n",
       "\n",
       "#sk-container-id-1 pre {\n",
       "  padding: 0;\n",
       "}\n",
       "\n",
       "#sk-container-id-1 input.sk-hidden--visually {\n",
       "  border: 0;\n",
       "  clip: rect(1px 1px 1px 1px);\n",
       "  clip: rect(1px, 1px, 1px, 1px);\n",
       "  height: 1px;\n",
       "  margin: -1px;\n",
       "  overflow: hidden;\n",
       "  padding: 0;\n",
       "  position: absolute;\n",
       "  width: 1px;\n",
       "}\n",
       "\n",
       "#sk-container-id-1 div.sk-dashed-wrapped {\n",
       "  border: 1px dashed var(--sklearn-color-line);\n",
       "  margin: 0 0.4em 0.5em 0.4em;\n",
       "  box-sizing: border-box;\n",
       "  padding-bottom: 0.4em;\n",
       "  background-color: var(--sklearn-color-background);\n",
       "}\n",
       "\n",
       "#sk-container-id-1 div.sk-container {\n",
       "  /* jupyter's `normalize.less` sets `[hidden] { display: none; }`\n",
       "     but bootstrap.min.css set `[hidden] { display: none !important; }`\n",
       "     so we also need the `!important` here to be able to override the\n",
       "     default hidden behavior on the sphinx rendered scikit-learn.org.\n",
       "     See: https://github.com/scikit-learn/scikit-learn/issues/21755 */\n",
       "  display: inline-block !important;\n",
       "  position: relative;\n",
       "}\n",
       "\n",
       "#sk-container-id-1 div.sk-text-repr-fallback {\n",
       "  display: none;\n",
       "}\n",
       "\n",
       "div.sk-parallel-item,\n",
       "div.sk-serial,\n",
       "div.sk-item {\n",
       "  /* draw centered vertical line to link estimators */\n",
       "  background-image: linear-gradient(var(--sklearn-color-text-on-default-background), var(--sklearn-color-text-on-default-background));\n",
       "  background-size: 2px 100%;\n",
       "  background-repeat: no-repeat;\n",
       "  background-position: center center;\n",
       "}\n",
       "\n",
       "/* Parallel-specific style estimator block */\n",
       "\n",
       "#sk-container-id-1 div.sk-parallel-item::after {\n",
       "  content: \"\";\n",
       "  width: 100%;\n",
       "  border-bottom: 2px solid var(--sklearn-color-text-on-default-background);\n",
       "  flex-grow: 1;\n",
       "}\n",
       "\n",
       "#sk-container-id-1 div.sk-parallel {\n",
       "  display: flex;\n",
       "  align-items: stretch;\n",
       "  justify-content: center;\n",
       "  background-color: var(--sklearn-color-background);\n",
       "  position: relative;\n",
       "}\n",
       "\n",
       "#sk-container-id-1 div.sk-parallel-item {\n",
       "  display: flex;\n",
       "  flex-direction: column;\n",
       "}\n",
       "\n",
       "#sk-container-id-1 div.sk-parallel-item:first-child::after {\n",
       "  align-self: flex-end;\n",
       "  width: 50%;\n",
       "}\n",
       "\n",
       "#sk-container-id-1 div.sk-parallel-item:last-child::after {\n",
       "  align-self: flex-start;\n",
       "  width: 50%;\n",
       "}\n",
       "\n",
       "#sk-container-id-1 div.sk-parallel-item:only-child::after {\n",
       "  width: 0;\n",
       "}\n",
       "\n",
       "/* Serial-specific style estimator block */\n",
       "\n",
       "#sk-container-id-1 div.sk-serial {\n",
       "  display: flex;\n",
       "  flex-direction: column;\n",
       "  align-items: center;\n",
       "  background-color: var(--sklearn-color-background);\n",
       "  padding-right: 1em;\n",
       "  padding-left: 1em;\n",
       "}\n",
       "\n",
       "\n",
       "/* Toggleable style: style used for estimator/Pipeline/ColumnTransformer box that is\n",
       "clickable and can be expanded/collapsed.\n",
       "- Pipeline and ColumnTransformer use this feature and define the default style\n",
       "- Estimators will overwrite some part of the style using the `sk-estimator` class\n",
       "*/\n",
       "\n",
       "/* Pipeline and ColumnTransformer style (default) */\n",
       "\n",
       "#sk-container-id-1 div.sk-toggleable {\n",
       "  /* Default theme specific background. It is overwritten whether we have a\n",
       "  specific estimator or a Pipeline/ColumnTransformer */\n",
       "  background-color: var(--sklearn-color-background);\n",
       "}\n",
       "\n",
       "/* Toggleable label */\n",
       "#sk-container-id-1 label.sk-toggleable__label {\n",
       "  cursor: pointer;\n",
       "  display: block;\n",
       "  width: 100%;\n",
       "  margin-bottom: 0;\n",
       "  padding: 0.5em;\n",
       "  box-sizing: border-box;\n",
       "  text-align: center;\n",
       "}\n",
       "\n",
       "#sk-container-id-1 label.sk-toggleable__label-arrow:before {\n",
       "  /* Arrow on the left of the label */\n",
       "  content: \"▸\";\n",
       "  float: left;\n",
       "  margin-right: 0.25em;\n",
       "  color: var(--sklearn-color-icon);\n",
       "}\n",
       "\n",
       "#sk-container-id-1 label.sk-toggleable__label-arrow:hover:before {\n",
       "  color: var(--sklearn-color-text);\n",
       "}\n",
       "\n",
       "/* Toggleable content - dropdown */\n",
       "\n",
       "#sk-container-id-1 div.sk-toggleable__content {\n",
       "  max-height: 0;\n",
       "  max-width: 0;\n",
       "  overflow: hidden;\n",
       "  text-align: left;\n",
       "  /* unfitted */\n",
       "  background-color: var(--sklearn-color-unfitted-level-0);\n",
       "}\n",
       "\n",
       "#sk-container-id-1 div.sk-toggleable__content.fitted {\n",
       "  /* fitted */\n",
       "  background-color: var(--sklearn-color-fitted-level-0);\n",
       "}\n",
       "\n",
       "#sk-container-id-1 div.sk-toggleable__content pre {\n",
       "  margin: 0.2em;\n",
       "  border-radius: 0.25em;\n",
       "  color: var(--sklearn-color-text);\n",
       "  /* unfitted */\n",
       "  background-color: var(--sklearn-color-unfitted-level-0);\n",
       "}\n",
       "\n",
       "#sk-container-id-1 div.sk-toggleable__content.fitted pre {\n",
       "  /* unfitted */\n",
       "  background-color: var(--sklearn-color-fitted-level-0);\n",
       "}\n",
       "\n",
       "#sk-container-id-1 input.sk-toggleable__control:checked~div.sk-toggleable__content {\n",
       "  /* Expand drop-down */\n",
       "  max-height: 200px;\n",
       "  max-width: 100%;\n",
       "  overflow: auto;\n",
       "}\n",
       "\n",
       "#sk-container-id-1 input.sk-toggleable__control:checked~label.sk-toggleable__label-arrow:before {\n",
       "  content: \"▾\";\n",
       "}\n",
       "\n",
       "/* Pipeline/ColumnTransformer-specific style */\n",
       "\n",
       "#sk-container-id-1 div.sk-label input.sk-toggleable__control:checked~label.sk-toggleable__label {\n",
       "  color: var(--sklearn-color-text);\n",
       "  background-color: var(--sklearn-color-unfitted-level-2);\n",
       "}\n",
       "\n",
       "#sk-container-id-1 div.sk-label.fitted input.sk-toggleable__control:checked~label.sk-toggleable__label {\n",
       "  background-color: var(--sklearn-color-fitted-level-2);\n",
       "}\n",
       "\n",
       "/* Estimator-specific style */\n",
       "\n",
       "/* Colorize estimator box */\n",
       "#sk-container-id-1 div.sk-estimator input.sk-toggleable__control:checked~label.sk-toggleable__label {\n",
       "  /* unfitted */\n",
       "  background-color: var(--sklearn-color-unfitted-level-2);\n",
       "}\n",
       "\n",
       "#sk-container-id-1 div.sk-estimator.fitted input.sk-toggleable__control:checked~label.sk-toggleable__label {\n",
       "  /* fitted */\n",
       "  background-color: var(--sklearn-color-fitted-level-2);\n",
       "}\n",
       "\n",
       "#sk-container-id-1 div.sk-label label.sk-toggleable__label,\n",
       "#sk-container-id-1 div.sk-label label {\n",
       "  /* The background is the default theme color */\n",
       "  color: var(--sklearn-color-text-on-default-background);\n",
       "}\n",
       "\n",
       "/* On hover, darken the color of the background */\n",
       "#sk-container-id-1 div.sk-label:hover label.sk-toggleable__label {\n",
       "  color: var(--sklearn-color-text);\n",
       "  background-color: var(--sklearn-color-unfitted-level-2);\n",
       "}\n",
       "\n",
       "/* Label box, darken color on hover, fitted */\n",
       "#sk-container-id-1 div.sk-label.fitted:hover label.sk-toggleable__label.fitted {\n",
       "  color: var(--sklearn-color-text);\n",
       "  background-color: var(--sklearn-color-fitted-level-2);\n",
       "}\n",
       "\n",
       "/* Estimator label */\n",
       "\n",
       "#sk-container-id-1 div.sk-label label {\n",
       "  font-family: monospace;\n",
       "  font-weight: bold;\n",
       "  display: inline-block;\n",
       "  line-height: 1.2em;\n",
       "}\n",
       "\n",
       "#sk-container-id-1 div.sk-label-container {\n",
       "  text-align: center;\n",
       "}\n",
       "\n",
       "/* Estimator-specific */\n",
       "#sk-container-id-1 div.sk-estimator {\n",
       "  font-family: monospace;\n",
       "  border: 1px dotted var(--sklearn-color-border-box);\n",
       "  border-radius: 0.25em;\n",
       "  box-sizing: border-box;\n",
       "  margin-bottom: 0.5em;\n",
       "  /* unfitted */\n",
       "  background-color: var(--sklearn-color-unfitted-level-0);\n",
       "}\n",
       "\n",
       "#sk-container-id-1 div.sk-estimator.fitted {\n",
       "  /* fitted */\n",
       "  background-color: var(--sklearn-color-fitted-level-0);\n",
       "}\n",
       "\n",
       "/* on hover */\n",
       "#sk-container-id-1 div.sk-estimator:hover {\n",
       "  /* unfitted */\n",
       "  background-color: var(--sklearn-color-unfitted-level-2);\n",
       "}\n",
       "\n",
       "#sk-container-id-1 div.sk-estimator.fitted:hover {\n",
       "  /* fitted */\n",
       "  background-color: var(--sklearn-color-fitted-level-2);\n",
       "}\n",
       "\n",
       "/* Specification for estimator info (e.g. \"i\" and \"?\") */\n",
       "\n",
       "/* Common style for \"i\" and \"?\" */\n",
       "\n",
       ".sk-estimator-doc-link,\n",
       "a:link.sk-estimator-doc-link,\n",
       "a:visited.sk-estimator-doc-link {\n",
       "  float: right;\n",
       "  font-size: smaller;\n",
       "  line-height: 1em;\n",
       "  font-family: monospace;\n",
       "  background-color: var(--sklearn-color-background);\n",
       "  border-radius: 1em;\n",
       "  height: 1em;\n",
       "  width: 1em;\n",
       "  text-decoration: none !important;\n",
       "  margin-left: 1ex;\n",
       "  /* unfitted */\n",
       "  border: var(--sklearn-color-unfitted-level-1) 1pt solid;\n",
       "  color: var(--sklearn-color-unfitted-level-1);\n",
       "}\n",
       "\n",
       ".sk-estimator-doc-link.fitted,\n",
       "a:link.sk-estimator-doc-link.fitted,\n",
       "a:visited.sk-estimator-doc-link.fitted {\n",
       "  /* fitted */\n",
       "  border: var(--sklearn-color-fitted-level-1) 1pt solid;\n",
       "  color: var(--sklearn-color-fitted-level-1);\n",
       "}\n",
       "\n",
       "/* On hover */\n",
       "div.sk-estimator:hover .sk-estimator-doc-link:hover,\n",
       ".sk-estimator-doc-link:hover,\n",
       "div.sk-label-container:hover .sk-estimator-doc-link:hover,\n",
       ".sk-estimator-doc-link:hover {\n",
       "  /* unfitted */\n",
       "  background-color: var(--sklearn-color-unfitted-level-3);\n",
       "  color: var(--sklearn-color-background);\n",
       "  text-decoration: none;\n",
       "}\n",
       "\n",
       "div.sk-estimator.fitted:hover .sk-estimator-doc-link.fitted:hover,\n",
       ".sk-estimator-doc-link.fitted:hover,\n",
       "div.sk-label-container:hover .sk-estimator-doc-link.fitted:hover,\n",
       ".sk-estimator-doc-link.fitted:hover {\n",
       "  /* fitted */\n",
       "  background-color: var(--sklearn-color-fitted-level-3);\n",
       "  color: var(--sklearn-color-background);\n",
       "  text-decoration: none;\n",
       "}\n",
       "\n",
       "/* Span, style for the box shown on hovering the info icon */\n",
       ".sk-estimator-doc-link span {\n",
       "  display: none;\n",
       "  z-index: 9999;\n",
       "  position: relative;\n",
       "  font-weight: normal;\n",
       "  right: .2ex;\n",
       "  padding: .5ex;\n",
       "  margin: .5ex;\n",
       "  width: min-content;\n",
       "  min-width: 20ex;\n",
       "  max-width: 50ex;\n",
       "  color: var(--sklearn-color-text);\n",
       "  box-shadow: 2pt 2pt 4pt #999;\n",
       "  /* unfitted */\n",
       "  background: var(--sklearn-color-unfitted-level-0);\n",
       "  border: .5pt solid var(--sklearn-color-unfitted-level-3);\n",
       "}\n",
       "\n",
       ".sk-estimator-doc-link.fitted span {\n",
       "  /* fitted */\n",
       "  background: var(--sklearn-color-fitted-level-0);\n",
       "  border: var(--sklearn-color-fitted-level-3);\n",
       "}\n",
       "\n",
       ".sk-estimator-doc-link:hover span {\n",
       "  display: block;\n",
       "}\n",
       "\n",
       "/* \"?\"-specific style due to the `<a>` HTML tag */\n",
       "\n",
       "#sk-container-id-1 a.estimator_doc_link {\n",
       "  float: right;\n",
       "  font-size: 1rem;\n",
       "  line-height: 1em;\n",
       "  font-family: monospace;\n",
       "  background-color: var(--sklearn-color-background);\n",
       "  border-radius: 1rem;\n",
       "  height: 1rem;\n",
       "  width: 1rem;\n",
       "  text-decoration: none;\n",
       "  /* unfitted */\n",
       "  color: var(--sklearn-color-unfitted-level-1);\n",
       "  border: var(--sklearn-color-unfitted-level-1) 1pt solid;\n",
       "}\n",
       "\n",
       "#sk-container-id-1 a.estimator_doc_link.fitted {\n",
       "  /* fitted */\n",
       "  border: var(--sklearn-color-fitted-level-1) 1pt solid;\n",
       "  color: var(--sklearn-color-fitted-level-1);\n",
       "}\n",
       "\n",
       "/* On hover */\n",
       "#sk-container-id-1 a.estimator_doc_link:hover {\n",
       "  /* unfitted */\n",
       "  background-color: var(--sklearn-color-unfitted-level-3);\n",
       "  color: var(--sklearn-color-background);\n",
       "  text-decoration: none;\n",
       "}\n",
       "\n",
       "#sk-container-id-1 a.estimator_doc_link.fitted:hover {\n",
       "  /* fitted */\n",
       "  background-color: var(--sklearn-color-fitted-level-3);\n",
       "}\n",
       "</style><div id=\"sk-container-id-1\" class=\"sk-top-container\"><div class=\"sk-text-repr-fallback\"><pre>XGBClassifier(base_score=None, booster=None, callbacks=None,\n",
       "              colsample_bylevel=None, colsample_bynode=0.6702982649898976,\n",
       "              colsample_bytree=None, device=None, early_stopping_rounds=None,\n",
       "              enable_categorical=False,\n",
       "              eval_metric=&lt;function custom_f1_score at 0x7f5da46685e0&gt;,\n",
       "              feature_types=None, gamma=None, grow_policy=None,\n",
       "              importance_type=None, interaction_constraints=None,\n",
       "              learning_rate=0.20563550632545685, max_bin=None,\n",
       "              max_cat_threshold=None, max_cat_to_onehot=None,\n",
       "              max_delta_step=None, max_depth=19, max_leaves=None,\n",
       "              min_child_weight=23, missing=nan, monotone_constraints=None,\n",
       "              multi_strategy=None, n_estimators=152, n_jobs=None,\n",
       "              num_parallel_tree=None, objective=&#x27;multi:softprob&#x27;, ...)</pre><b>In a Jupyter environment, please rerun this cell to show the HTML representation or trust the notebook. <br />On GitHub, the HTML representation is unable to render, please try loading this page with nbviewer.org.</b></div><div class=\"sk-container\" hidden><div class=\"sk-item\"><div class=\"sk-estimator fitted sk-toggleable\"><input class=\"sk-toggleable__control sk-hidden--visually\" id=\"sk-estimator-id-1\" type=\"checkbox\" checked><label for=\"sk-estimator-id-1\" class=\"sk-toggleable__label fitted sk-toggleable__label-arrow fitted\">&nbsp;XGBClassifier<span class=\"sk-estimator-doc-link fitted\">i<span>Fitted</span></span></label><div class=\"sk-toggleable__content fitted\"><pre>XGBClassifier(base_score=None, booster=None, callbacks=None,\n",
       "              colsample_bylevel=None, colsample_bynode=0.6702982649898976,\n",
       "              colsample_bytree=None, device=None, early_stopping_rounds=None,\n",
       "              enable_categorical=False,\n",
       "              eval_metric=&lt;function custom_f1_score at 0x7f5da46685e0&gt;,\n",
       "              feature_types=None, gamma=None, grow_policy=None,\n",
       "              importance_type=None, interaction_constraints=None,\n",
       "              learning_rate=0.20563550632545685, max_bin=None,\n",
       "              max_cat_threshold=None, max_cat_to_onehot=None,\n",
       "              max_delta_step=None, max_depth=19, max_leaves=None,\n",
       "              min_child_weight=23, missing=nan, monotone_constraints=None,\n",
       "              multi_strategy=None, n_estimators=152, n_jobs=None,\n",
       "              num_parallel_tree=None, objective=&#x27;multi:softprob&#x27;, ...)</pre></div> </div></div></div></div>"
      ],
      "text/plain": [
       "XGBClassifier(base_score=None, booster=None, callbacks=None,\n",
       "              colsample_bylevel=None, colsample_bynode=0.6702982649898976,\n",
       "              colsample_bytree=None, device=None, early_stopping_rounds=None,\n",
       "              enable_categorical=False,\n",
       "              eval_metric=<function custom_f1_score at 0x7f5da46685e0>,\n",
       "              feature_types=None, gamma=None, grow_policy=None,\n",
       "              importance_type=None, interaction_constraints=None,\n",
       "              learning_rate=0.20563550632545685, max_bin=None,\n",
       "              max_cat_threshold=None, max_cat_to_onehot=None,\n",
       "              max_delta_step=None, max_depth=19, max_leaves=None,\n",
       "              min_child_weight=23, missing=nan, monotone_constraints=None,\n",
       "              multi_strategy=None, n_estimators=152, n_jobs=None,\n",
       "              num_parallel_tree=None, objective='multi:softprob', ...)"
      ]
     },
     "execution_count": 21,
     "metadata": {},
     "output_type": "execute_result"
    }
   ],
   "source": [
    "n_estimators = int(study.best_trial.user_attrs['best_iteration']*1.2)\n",
    "xgb = xgboost.XGBClassifier(\n",
    "        eval_metric=eval_metric,\n",
    "        n_estimators=n_estimators,\n",
    "        **study.best_trial.params\n",
    "    )\n",
    "xgb.fit(\n",
    "    ssp.vstack((X_train, X_val)), \n",
    "    np.concatenate((y_train_enc, y_val_enc)),\n",
    "    verbose=1,\n",
    ")"
   ]
  },
  {
   "cell_type": "code",
   "execution_count": 22,
   "id": "faa3725f",
   "metadata": {
    "execution": {
     "iopub.execute_input": "2025-05-15T16:08:38.471710Z",
     "iopub.status.busy": "2025-05-15T16:08:38.471492Z",
     "iopub.status.idle": "2025-05-15T16:08:38.523234Z",
     "shell.execute_reply": "2025-05-15T16:08:38.522822Z"
    },
    "papermill": {
     "duration": 0.064109,
     "end_time": "2025-05-15T16:08:38.524267",
     "exception": false,
     "start_time": "2025-05-15T16:08:38.460158",
     "status": "completed"
    },
    "tags": []
   },
   "outputs": [
    {
     "data": {
      "text/plain": [
       "['/scratch_isilon/groups/singlecell/shared/projects/Inflammation-PBMCs-Atlas/03_downstream_analysis/08_gene_importance/xgboost_external_validation/xgboost_TopN_genes/results_20/best_model/T_CD8_Naive_3_3_xgb.json']"
      ]
     },
     "execution_count": 22,
     "metadata": {},
     "output_type": "execute_result"
    }
   ],
   "source": [
    "out_dir = here(f'03_downstream_analysis/08_gene_importance/xgboost_external_validation/xgboost_TopN_genes/results_{N_GENES}/best_model')\n",
    "\n",
    "if not os.path.exists(out_dir):\n",
    "    os.makedirs(out_dir)\n",
    "    \n",
    "joblib.dump(xgb, os.path.join(out_dir, f'{CELL_TYPE}_{SEED}_{TEST_SPLIT_IDX}_xgb.json'))"
   ]
  },
  {
   "cell_type": "code",
   "execution_count": 23,
   "id": "1d604d26",
   "metadata": {
    "execution": {
     "iopub.execute_input": "2025-05-15T16:08:38.548531Z",
     "iopub.status.busy": "2025-05-15T16:08:38.548322Z",
     "iopub.status.idle": "2025-05-15T16:08:38.879935Z",
     "shell.execute_reply": "2025-05-15T16:08:38.879488Z"
    },
    "papermill": {
     "duration": 0.345395,
     "end_time": "2025-05-15T16:08:38.881477",
     "exception": false,
     "start_time": "2025-05-15T16:08:38.536082",
     "status": "completed"
    },
    "tags": []
   },
   "outputs": [],
   "source": [
    "df_pred_test = pd.DataFrame(dict(\n",
    "    cell_id=train_adata.obs.iloc[test_idxs].index.values,\n",
    "    y_true=y_test, \n",
    "    y_true_code=y_test_enc, \n",
    "    y_pred=xgb.predict(X_test))).set_index('cell_id')"
   ]
  },
  {
   "cell_type": "code",
   "execution_count": 24,
   "id": "d070d8c6",
   "metadata": {
    "execution": {
     "iopub.execute_input": "2025-05-15T16:08:38.907162Z",
     "iopub.status.busy": "2025-05-15T16:08:38.906921Z",
     "iopub.status.idle": "2025-05-15T16:08:38.961798Z",
     "shell.execute_reply": "2025-05-15T16:08:38.961315Z"
    },
    "papermill": {
     "duration": 0.0689,
     "end_time": "2025-05-15T16:08:38.963376",
     "exception": false,
     "start_time": "2025-05-15T16:08:38.894476",
     "status": "completed"
    },
    "tags": []
   },
   "outputs": [],
   "source": [
    "out_dir = here(f'03_downstream_analysis/08_gene_importance/xgboost_external_validation/xgboost_TopN_genes/results_{N_GENES}/predictions')\n",
    "\n",
    "if not os.path.exists(out_dir):\n",
    "    os.makedirs(out_dir)\n",
    "    \n",
    "df_pred_test.to_csv(os.path.join(out_dir, f'{CELL_TYPE}_{SEED}_{TEST_SPLIT_IDX}_pred_test.zip'))"
   ]
  },
  {
   "cell_type": "code",
   "execution_count": 25,
   "id": "e65802b3",
   "metadata": {
    "execution": {
     "iopub.execute_input": "2025-05-15T16:08:38.987033Z",
     "iopub.status.busy": "2025-05-15T16:08:38.986721Z",
     "iopub.status.idle": "2025-05-15T16:08:38.996603Z",
     "shell.execute_reply": "2025-05-15T16:08:38.996226Z"
    },
    "papermill": {
     "duration": 0.02324,
     "end_time": "2025-05-15T16:08:38.997631",
     "exception": false,
     "start_time": "2025-05-15T16:08:38.974391",
     "status": "completed"
    },
    "tags": []
   },
   "outputs": [],
   "source": [
    "metrics_dict = dict(\n",
    "    BAS=balanced_accuracy_score(y_true=df_pred_test.y_true_code, y_pred=df_pred_test.y_pred), WF1=f1_score(y_true=df_pred_test.y_true_code, y_pred=df_pred_test.y_pred,average='weighted'))"
   ]
  },
  {
   "cell_type": "code",
   "execution_count": 26,
   "id": "2796e241",
   "metadata": {
    "execution": {
     "iopub.execute_input": "2025-05-15T16:08:39.022787Z",
     "iopub.status.busy": "2025-05-15T16:08:39.022566Z",
     "iopub.status.idle": "2025-05-15T16:08:39.025819Z",
     "shell.execute_reply": "2025-05-15T16:08:39.025451Z"
    },
    "papermill": {
     "duration": 0.016303,
     "end_time": "2025-05-15T16:08:39.026830",
     "exception": false,
     "start_time": "2025-05-15T16:08:39.010527",
     "status": "completed"
    },
    "tags": []
   },
   "outputs": [
    {
     "data": {
      "text/plain": [
       "{'BAS': 0.5280746077555918, 'WF1': 0.7236382686540827}"
      ]
     },
     "execution_count": 26,
     "metadata": {},
     "output_type": "execute_result"
    }
   ],
   "source": [
    "metrics_dict"
   ]
  },
  {
   "cell_type": "code",
   "execution_count": 27,
   "id": "7367d15e",
   "metadata": {
    "execution": {
     "iopub.execute_input": "2025-05-15T16:08:39.052557Z",
     "iopub.status.busy": "2025-05-15T16:08:39.052346Z",
     "iopub.status.idle": "2025-05-15T16:08:39.061674Z",
     "shell.execute_reply": "2025-05-15T16:08:39.061330Z"
    },
    "papermill": {
     "duration": 0.023034,
     "end_time": "2025-05-15T16:08:39.062660",
     "exception": false,
     "start_time": "2025-05-15T16:08:39.039626",
     "status": "completed"
    },
    "tags": []
   },
   "outputs": [
    {
     "data": {
      "text/html": [
       "<div>\n",
       "<style scoped>\n",
       "    .dataframe tbody tr th:only-of-type {\n",
       "        vertical-align: middle;\n",
       "    }\n",
       "\n",
       "    .dataframe tbody tr th {\n",
       "        vertical-align: top;\n",
       "    }\n",
       "\n",
       "    .dataframe thead th {\n",
       "        text-align: right;\n",
       "    }\n",
       "</style>\n",
       "<table border=\"1\" class=\"dataframe\">\n",
       "  <thead>\n",
       "    <tr style=\"text-align: right;\">\n",
       "      <th></th>\n",
       "      <th>BAS</th>\n",
       "      <th>WF1</th>\n",
       "      <th>split_idx</th>\n",
       "      <th>gene_set_seed</th>\n",
       "      <th>cell_type</th>\n",
       "    </tr>\n",
       "  </thead>\n",
       "  <tbody>\n",
       "    <tr>\n",
       "      <th>0</th>\n",
       "      <td>0.528075</td>\n",
       "      <td>0.723638</td>\n",
       "      <td>3</td>\n",
       "      <td>3</td>\n",
       "      <td>T_CD8_Naive</td>\n",
       "    </tr>\n",
       "  </tbody>\n",
       "</table>\n",
       "</div>"
      ],
      "text/plain": [
       "        BAS       WF1  split_idx  gene_set_seed    cell_type\n",
       "0  0.528075  0.723638          3              3  T_CD8_Naive"
      ]
     },
     "execution_count": 27,
     "metadata": {},
     "output_type": "execute_result"
    }
   ],
   "source": [
    "metrics_df = pd.DataFrame.from_dict([metrics_dict]).assign(split_idx=TEST_SPLIT_IDX, gene_set_seed=SEED, cell_type=CELL_TYPE)\n",
    "metrics_df"
   ]
  },
  {
   "cell_type": "code",
   "execution_count": 28,
   "id": "329a3370",
   "metadata": {
    "execution": {
     "iopub.execute_input": "2025-05-15T16:08:39.086590Z",
     "iopub.status.busy": "2025-05-15T16:08:39.086219Z",
     "iopub.status.idle": "2025-05-15T16:08:39.094650Z",
     "shell.execute_reply": "2025-05-15T16:08:39.094256Z"
    },
    "papermill": {
     "duration": 0.020734,
     "end_time": "2025-05-15T16:08:39.095705",
     "exception": false,
     "start_time": "2025-05-15T16:08:39.074971",
     "status": "completed"
    },
    "tags": []
   },
   "outputs": [],
   "source": [
    "out_dir = here(f'03_downstream_analysis/08_gene_importance/xgboost_external_validation/xgboost_TopN_genes/results_{N_GENES}/metrics')\n",
    "\n",
    "if not os.path.exists(out_dir):\n",
    "    os.makedirs(out_dir)\n",
    "    \n",
    "metrics_df.to_csv(os.path.join(out_dir, f'{CELL_TYPE}_{SEED}_{TEST_SPLIT_IDX}_metrics.zip'))"
   ]
  }
 ],
 "metadata": {
  "kernelspec": {
   "display_name": "Python 3 (ipykernel)",
   "language": "python",
   "name": "python3"
  },
  "language_info": {
   "codemirror_mode": {
    "name": "ipython",
    "version": 3
   },
   "file_extension": ".py",
   "mimetype": "text/x-python",
   "name": "python",
   "nbconvert_exporter": "python",
   "pygments_lexer": "ipython3",
   "version": "3.12.5"
  },
  "papermill": {
   "default_parameters": {},
   "duration": 288.936586,
   "end_time": "2025-05-15T16:08:39.925737",
   "environment_variables": {},
   "exception": null,
   "input_path": "02_xgboost_fitting_external_20genes.ipynb",
   "output_path": "results_20/executed_notebooks/xgboost_fitting_external_CT_T_CD8_Naive_GS_3_seed3.ipynb",
   "parameters": {
    "CELL_TYPE": "T_CD8_Naive",
    "SEED": 3,
    "TEST_SPLIT_IDX": 3
   },
   "start_time": "2025-05-15T16:03:50.989151",
   "version": "2.6.0"
  }
 },
 "nbformat": 4,
 "nbformat_minor": 5
}