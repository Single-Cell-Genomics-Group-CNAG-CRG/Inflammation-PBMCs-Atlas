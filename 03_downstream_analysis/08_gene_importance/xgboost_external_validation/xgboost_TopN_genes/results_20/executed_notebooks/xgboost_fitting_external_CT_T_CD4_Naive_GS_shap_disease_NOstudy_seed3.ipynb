{
 "cells": [
  {
   "cell_type": "code",
   "execution_count": 1,
   "id": "271d8ba8",
   "metadata": {
    "editable": true,
    "execution": {
     "iopub.execute_input": "2025-05-14T16:07:34.996821Z",
     "iopub.status.busy": "2025-05-14T16:07:34.996341Z",
     "iopub.status.idle": "2025-05-14T16:07:34.999193Z",
     "shell.execute_reply": "2025-05-14T16:07:34.998888Z"
    },
    "papermill": {
     "duration": 0.011527,
     "end_time": "2025-05-14T16:07:35.000038",
     "exception": false,
     "start_time": "2025-05-14T16:07:34.988511",
     "status": "completed"
    },
    "slideshow": {
     "slide_type": ""
    },
    "tags": [
     "parameters"
    ]
   },
   "outputs": [],
   "source": [
    "CELL_TYPE = 'pDC'\n",
    "N_GENES: int = 20\n",
    "SEED = 'shap_studyID' #'disease_NOstudy' 'study_NOdisease' or 'int' or 'shap_studyID'\n",
    "TEST_SPLIT_IDX: int = 1 #[0,4]"
   ]
  },
  {
   "cell_type": "code",
   "execution_count": 2,
   "id": "3cddf185",
   "metadata": {
    "execution": {
     "iopub.execute_input": "2025-05-14T16:07:35.012664Z",
     "iopub.status.busy": "2025-05-14T16:07:35.012514Z",
     "iopub.status.idle": "2025-05-14T16:07:35.014738Z",
     "shell.execute_reply": "2025-05-14T16:07:35.014430Z"
    },
    "papermill": {
     "duration": 0.009182,
     "end_time": "2025-05-14T16:07:35.015558",
     "exception": false,
     "start_time": "2025-05-14T16:07:35.006376",
     "status": "completed"
    },
    "tags": [
     "injected-parameters"
    ]
   },
   "outputs": [],
   "source": [
    "# Parameters\n",
    "CELL_TYPE = \"T_CD4_Naive\"\n",
    "SEED = \"shap_disease_NOstudy\"\n",
    "TEST_SPLIT_IDX = 3\n"
   ]
  },
  {
   "cell_type": "code",
   "execution_count": 3,
   "id": "4c74273c",
   "metadata": {
    "execution": {
     "iopub.execute_input": "2025-05-14T16:07:35.046686Z",
     "iopub.status.busy": "2025-05-14T16:07:35.046329Z",
     "iopub.status.idle": "2025-05-14T16:07:35.048552Z",
     "shell.execute_reply": "2025-05-14T16:07:35.048250Z"
    },
    "papermill": {
     "duration": 0.009919,
     "end_time": "2025-05-14T16:07:35.049320",
     "exception": false,
     "start_time": "2025-05-14T16:07:35.039401",
     "status": "completed"
    },
    "tags": []
   },
   "outputs": [],
   "source": [
    "N_SPLITS: int = 5\n",
    "N_TRIALS: int = 50"
   ]
  },
  {
   "cell_type": "code",
   "execution_count": 4,
   "id": "dcddb165",
   "metadata": {
    "execution": {
     "iopub.execute_input": "2025-05-14T16:07:35.063410Z",
     "iopub.status.busy": "2025-05-14T16:07:35.063103Z",
     "iopub.status.idle": "2025-05-14T16:07:46.939232Z",
     "shell.execute_reply": "2025-05-14T16:07:46.938732Z"
    },
    "papermill": {
     "duration": 11.885582,
     "end_time": "2025-05-14T16:07:46.940441",
     "exception": false,
     "start_time": "2025-05-14T16:07:35.054859",
     "status": "completed"
    },
    "tags": []
   },
   "outputs": [],
   "source": [
    "import os\n",
    "import sys\n",
    "from pyprojroot.here import here\n",
    "import pandas as pd\n",
    "import anndata as ad\n",
    "import numpy as np\n",
    "import math\n",
    "from sklearn.model_selection import StratifiedGroupKFold\n",
    "from sklearn.preprocessing import LabelEncoder\n",
    "from sklearn.metrics import f1_score\n",
    "import matplotlib.pyplot as plt\n",
    "import seaborn as sns\n",
    "from itertools import product\n",
    "from sklearn.metrics import balanced_accuracy_score, f1_score\n",
    "import optuna\n",
    "\n",
    "import joblib\n",
    "import pickle\n",
    "import datetime\n",
    "\n",
    "import collections\n",
    "\n",
    "import xgboost\n",
    "from sklearn.preprocessing import LabelEncoder\n",
    "\n",
    "import scipy.sparse as ssp\n",
    "import joblib\n",
    "\n",
    "from dotenv import load_dotenv"
   ]
  },
  {
   "cell_type": "code",
   "execution_count": 5,
   "id": "2d06d2ae",
   "metadata": {
    "execution": {
     "iopub.execute_input": "2025-05-14T16:07:47.011380Z",
     "iopub.status.busy": "2025-05-14T16:07:47.010989Z",
     "iopub.status.idle": "2025-05-14T16:07:47.016829Z",
     "shell.execute_reply": "2025-05-14T16:07:47.016541Z"
    },
    "papermill": {
     "duration": 0.026272,
     "end_time": "2025-05-14T16:07:47.017692",
     "exception": false,
     "start_time": "2025-05-14T16:07:46.991420",
     "status": "completed"
    },
    "tags": []
   },
   "outputs": [
    {
     "data": {
      "text/plain": [
       "True"
      ]
     },
     "execution_count": 5,
     "metadata": {},
     "output_type": "execute_result"
    }
   ],
   "source": [
    "load_dotenv()"
   ]
  },
  {
   "cell_type": "markdown",
   "id": "c3c5b152",
   "metadata": {
    "papermill": {
     "duration": 0.00627,
     "end_time": "2025-05-14T16:07:47.034714",
     "exception": false,
     "start_time": "2025-05-14T16:07:47.028444",
     "status": "completed"
    },
    "tags": []
   },
   "source": [
    "# LOAD DATASET"
   ]
  },
  {
   "cell_type": "code",
   "execution_count": 6,
   "id": "9a238d9c",
   "metadata": {
    "execution": {
     "iopub.execute_input": "2025-05-14T16:07:47.054124Z",
     "iopub.status.busy": "2025-05-14T16:07:47.053820Z",
     "iopub.status.idle": "2025-05-14T16:07:47.570081Z",
     "shell.execute_reply": "2025-05-14T16:07:47.569604Z"
    },
    "papermill": {
     "duration": 0.531118,
     "end_time": "2025-05-14T16:07:47.571214",
     "exception": false,
     "start_time": "2025-05-14T16:07:47.040096",
     "status": "completed"
    },
    "tags": []
   },
   "outputs": [],
   "source": [
    "train_adata = ad.read_h5ad(\n",
    "    here(f'03_downstream_analysis/08_gene_importance/xgboost_external_validation/xgboost_TopN_genes/data_cellTypes/EXTERNAL_{CELL_TYPE}.filtered.log1p.h5ad')\n",
    ")"
   ]
  },
  {
   "cell_type": "code",
   "execution_count": 7,
   "id": "55b8c0d4",
   "metadata": {
    "execution": {
     "iopub.execute_input": "2025-05-14T16:07:47.585099Z",
     "iopub.status.busy": "2025-05-14T16:07:47.584722Z",
     "iopub.status.idle": "2025-05-14T16:07:47.609661Z",
     "shell.execute_reply": "2025-05-14T16:07:47.609287Z"
    },
    "papermill": {
     "duration": 0.032505,
     "end_time": "2025-05-14T16:07:47.610538",
     "exception": false,
     "start_time": "2025-05-14T16:07:47.578033",
     "status": "completed"
    },
    "tags": []
   },
   "outputs": [
    {
     "name": "stdout",
     "output_type": "stream",
     "text": [
      "['ENSG00000002549' 'ENSG00000002586' 'ENSG00000008517' 'ENSG00000027697'\n",
      " 'ENSG00000028137' 'ENSG00000030582' 'ENSG00000075785' 'ENSG00000076662'\n",
      " 'ENSG00000077150' 'ENSG00000077380' 'ENSG00000079616' 'ENSG00000081059'\n",
      " 'ENSG00000088986' 'ENSG00000089280' 'ENSG00000101608' 'ENSG00000102245'\n",
      " 'ENSG00000104689' 'ENSG00000104870' 'ENSG00000104904' 'ENSG00000104964'\n",
      " 'ENSG00000104998' 'ENSG00000105835' 'ENSG00000106952' 'ENSG00000108622'\n",
      " 'ENSG00000109787' 'ENSG00000109861' 'ENSG00000110324' 'ENSG00000110848'\n",
      " 'ENSG00000113263' 'ENSG00000113732' 'ENSG00000115415' 'ENSG00000115738'\n",
      " 'ENSG00000116171' 'ENSG00000117318' 'ENSG00000117450' 'ENSG00000118503'\n",
      " 'ENSG00000118515' 'ENSG00000119655' 'ENSG00000121966' 'ENSG00000125384'\n",
      " 'ENSG00000125743' 'ENSG00000126353' 'ENSG00000127022' 'ENSG00000127152'\n",
      " 'ENSG00000127528' 'ENSG00000128524' 'ENSG00000130429' 'ENSG00000130522'\n",
      " 'ENSG00000132475' 'ENSG00000133134' 'ENSG00000135046' 'ENSG00000136997'\n",
      " 'ENSG00000137193' 'ENSG00000137959' 'ENSG00000139192' 'ENSG00000139626'\n",
      " 'ENSG00000141506' 'ENSG00000143543' 'ENSG00000145220' 'ENSG00000145675'\n",
      " 'ENSG00000147168' 'ENSG00000150093' 'ENSG00000152234' 'ENSG00000152518'\n",
      " 'ENSG00000157601' 'ENSG00000159128' 'ENSG00000162368' 'ENSG00000163131'\n",
      " 'ENSG00000163191' 'ENSG00000163600' 'ENSG00000163659' 'ENSG00000164307'\n",
      " 'ENSG00000165732' 'ENSG00000166681' 'ENSG00000167004' 'ENSG00000167552'\n",
      " 'ENSG00000167996' 'ENSG00000169429' 'ENSG00000169564' 'ENSG00000172183'\n",
      " 'ENSG00000172543' 'ENSG00000172936' 'ENSG00000175567' 'ENSG00000175768'\n",
      " 'ENSG00000177885' 'ENSG00000178719' 'ENSG00000179094' 'ENSG00000179144'\n",
      " 'ENSG00000179218' 'ENSG00000182117' 'ENSG00000182866' 'ENSG00000183508'\n",
      " 'ENSG00000183696' 'ENSG00000184007' 'ENSG00000184557' 'ENSG00000185201'\n",
      " 'ENSG00000185338' 'ENSG00000185950' 'ENSG00000187608' 'ENSG00000196126'\n",
      " 'ENSG00000196396' 'ENSG00000197329' 'ENSG00000197471' 'ENSG00000197956'\n",
      " 'ENSG00000198520' 'ENSG00000198832' 'ENSG00000204264' 'ENSG00000204287'\n",
      " 'ENSG00000204482' 'ENSG00000204525' 'ENSG00000204592' 'ENSG00000205220'\n",
      " 'ENSG00000205542' 'ENSG00000206503' 'ENSG00000211895' 'ENSG00000213145'\n",
      " 'ENSG00000226979' 'ENSG00000227507' 'ENSG00000231389' 'ENSG00000234745'\n",
      " 'ENSG00000243749' 'ENSG00000264364' 'ENSG00000265972']\n"
     ]
    }
   ],
   "source": [
    "if SEED != 'all':\n",
    "    gene_subset = np.load(here(f'03_downstream_analysis/08_gene_importance/xgboost_external_validation/shap_gene_selection/gene_subsets_{N_GENES}/{CELL_TYPE}_{SEED}.npy'), allow_pickle=True)\n",
    "    train_adata = train_adata[:,gene_subset]\n",
    "    print(gene_subset)\n",
    "elif SEED == 'all':\n",
    "    print('Using all genes')\n",
    "else:\n",
    "    raise ValueError()"
   ]
  },
  {
   "cell_type": "code",
   "execution_count": 8,
   "id": "976cda58",
   "metadata": {
    "execution": {
     "iopub.execute_input": "2025-05-14T16:07:47.695104Z",
     "iopub.status.busy": "2025-05-14T16:07:47.694669Z",
     "iopub.status.idle": "2025-05-14T16:07:47.697727Z",
     "shell.execute_reply": "2025-05-14T16:07:47.697401Z"
    },
    "papermill": {
     "duration": 0.019588,
     "end_time": "2025-05-14T16:07:47.698496",
     "exception": false,
     "start_time": "2025-05-14T16:07:47.678908",
     "status": "completed"
    },
    "tags": []
   },
   "outputs": [
    {
     "data": {
      "text/plain": [
       "(85497, 123)"
      ]
     },
     "execution_count": 8,
     "metadata": {},
     "output_type": "execute_result"
    }
   ],
   "source": [
    "train_adata.shape"
   ]
  },
  {
   "cell_type": "code",
   "execution_count": 9,
   "id": "83bbec6c",
   "metadata": {
    "execution": {
     "iopub.execute_input": "2025-05-14T16:07:47.711425Z",
     "iopub.status.busy": "2025-05-14T16:07:47.711197Z",
     "iopub.status.idle": "2025-05-14T16:07:47.715597Z",
     "shell.execute_reply": "2025-05-14T16:07:47.715236Z"
    },
    "papermill": {
     "duration": 0.011725,
     "end_time": "2025-05-14T16:07:47.716435",
     "exception": false,
     "start_time": "2025-05-14T16:07:47.704710",
     "status": "completed"
    },
    "tags": []
   },
   "outputs": [
    {
     "data": {
      "text/plain": [
       "['RA', 'COVID', 'healthy', 'HIV', 'cirrhosis', 'CD', 'SLE', 'sepsis']\n",
       "Categories (8, object): ['CD', 'COVID', 'HIV', 'RA', 'SLE', 'cirrhosis', 'healthy', 'sepsis']"
      ]
     },
     "execution_count": 9,
     "metadata": {},
     "output_type": "execute_result"
    }
   ],
   "source": [
    "train_adata.obs.disease.unique()"
   ]
  },
  {
   "cell_type": "code",
   "execution_count": 10,
   "id": "471ab934",
   "metadata": {
    "execution": {
     "iopub.execute_input": "2025-05-14T16:07:47.728946Z",
     "iopub.status.busy": "2025-05-14T16:07:47.728588Z",
     "iopub.status.idle": "2025-05-14T16:07:47.732634Z",
     "shell.execute_reply": "2025-05-14T16:07:47.732271Z"
    },
    "papermill": {
     "duration": 0.011286,
     "end_time": "2025-05-14T16:07:47.733510",
     "exception": false,
     "start_time": "2025-05-14T16:07:47.722224",
     "status": "completed"
    },
    "tags": []
   },
   "outputs": [
    {
     "data": {
      "text/plain": [
       "['SCGT00val_I036016_T0', 'SCGT00val_I036019_T0', 'SCGT00val_I036023_T0', 'SCGT00val_I036015_T0', 'SCGT00val_I036028_T0', ..., '10XGenomics_10XHC2_T0', '10XGenomics_10XHC3_T0', '10XGenomics_10XHC5_T0', '10XGenomics_10XHC7_T0', '10XGenomics_10XHC8_T0']\n",
       "Length: 86\n",
       "Categories (86, object): ['10XGenomics_10XHC1_T0', '10XGenomics_10XHC2_T0', '10XGenomics_10XHC3_T0', '10XGenomics_10XHC4_T0', ..., 'Savage2021_BRISL6_T0', 'Savage2021_BRISL7_T0', 'Savage2021_PIDA_T0', 'Savage2021_PIDB_T0']"
      ]
     },
     "execution_count": 10,
     "metadata": {},
     "output_type": "execute_result"
    }
   ],
   "source": [
    "train_adata.obs.sampleID.unique()"
   ]
  },
  {
   "cell_type": "code",
   "execution_count": 11,
   "id": "fb61cc87",
   "metadata": {
    "execution": {
     "iopub.execute_input": "2025-05-14T16:07:47.758896Z",
     "iopub.status.busy": "2025-05-14T16:07:47.758673Z",
     "iopub.status.idle": "2025-05-14T16:07:47.969143Z",
     "shell.execute_reply": "2025-05-14T16:07:47.968763Z"
    },
    "papermill": {
     "duration": 0.228531,
     "end_time": "2025-05-14T16:07:47.970119",
     "exception": false,
     "start_time": "2025-05-14T16:07:47.741588",
     "status": "completed"
    },
    "tags": []
   },
   "outputs": [],
   "source": [
    "all_idxs = np.arange(train_adata.obs.shape[0])\n",
    "left_out_splits = [s[1] for s in StratifiedGroupKFold(n_splits=N_SPLITS).split(all_idxs, train_adata.obs.disease, train_adata.obs.sampleID)]"
   ]
  },
  {
   "cell_type": "code",
   "execution_count": 12,
   "id": "5b481691",
   "metadata": {
    "execution": {
     "iopub.execute_input": "2025-05-14T16:07:47.983917Z",
     "iopub.status.busy": "2025-05-14T16:07:47.983615Z",
     "iopub.status.idle": "2025-05-14T16:07:47.986904Z",
     "shell.execute_reply": "2025-05-14T16:07:47.986599Z"
    },
    "papermill": {
     "duration": 0.011114,
     "end_time": "2025-05-14T16:07:47.987669",
     "exception": false,
     "start_time": "2025-05-14T16:07:47.976555",
     "status": "completed"
    },
    "tags": []
   },
   "outputs": [
    {
     "data": {
      "text/plain": [
       "([0, 1, 2], 4, 3)"
      ]
     },
     "execution_count": 12,
     "metadata": {},
     "output_type": "execute_result"
    }
   ],
   "source": [
    "TRAIN_SPLIT_IDXS = [0,1,2,3,4]\n",
    "VAL_SPLIT_IDX = (TEST_SPLIT_IDX + 1) % 5\n",
    "TRAIN_SPLIT_IDXS.remove(TEST_SPLIT_IDX)\n",
    "TRAIN_SPLIT_IDXS.remove(VAL_SPLIT_IDX)\n",
    "TRAIN_SPLIT_IDXS, VAL_SPLIT_IDX, TEST_SPLIT_IDX"
   ]
  },
  {
   "cell_type": "code",
   "execution_count": 13,
   "id": "948cef0b",
   "metadata": {
    "execution": {
     "iopub.execute_input": "2025-05-14T16:07:48.012654Z",
     "iopub.status.busy": "2025-05-14T16:07:48.012415Z",
     "iopub.status.idle": "2025-05-14T16:07:48.014807Z",
     "shell.execute_reply": "2025-05-14T16:07:48.014500Z"
    },
    "papermill": {
     "duration": 0.010009,
     "end_time": "2025-05-14T16:07:48.015651",
     "exception": false,
     "start_time": "2025-05-14T16:07:48.005642",
     "status": "completed"
    },
    "tags": []
   },
   "outputs": [],
   "source": [
    "train_idxs = np.concatenate([left_out_splits[idx] for idx in TRAIN_SPLIT_IDXS])\n",
    "val_idxs = left_out_splits[VAL_SPLIT_IDX]\n",
    "test_idxs = left_out_splits[TEST_SPLIT_IDX]"
   ]
  },
  {
   "cell_type": "markdown",
   "id": "9fca575c",
   "metadata": {
    "papermill": {
     "duration": 0.013003,
     "end_time": "2025-05-14T16:07:48.038492",
     "exception": false,
     "start_time": "2025-05-14T16:07:48.025489",
     "status": "completed"
    },
    "tags": []
   },
   "source": [
    "### SUBSET DATASET INTO TRAIN/TEST/VAL SPLITS"
   ]
  },
  {
   "cell_type": "code",
   "execution_count": 14,
   "id": "4ef18010",
   "metadata": {
    "execution": {
     "iopub.execute_input": "2025-05-14T16:07:48.076753Z",
     "iopub.status.busy": "2025-05-14T16:07:48.076259Z",
     "iopub.status.idle": "2025-05-14T16:07:48.275357Z",
     "shell.execute_reply": "2025-05-14T16:07:48.275008Z"
    },
    "papermill": {
     "duration": 0.217944,
     "end_time": "2025-05-14T16:07:48.276288",
     "exception": false,
     "start_time": "2025-05-14T16:07:48.058344",
     "status": "completed"
    },
    "tags": []
   },
   "outputs": [
    {
     "data": {
      "text/plain": [
       "((50067, 123), (18551, 123), (16879, 123))"
      ]
     },
     "execution_count": 14,
     "metadata": {},
     "output_type": "execute_result"
    }
   ],
   "source": [
    "X_train = train_adata.X[train_idxs]\n",
    "X_test = train_adata.X[test_idxs]\n",
    "X_val = train_adata.X[val_idxs]\n",
    "X_train.shape, X_test.shape, X_val.shape"
   ]
  },
  {
   "cell_type": "code",
   "execution_count": 15,
   "id": "8e160ed9",
   "metadata": {
    "execution": {
     "iopub.execute_input": "2025-05-14T16:07:48.325572Z",
     "iopub.status.busy": "2025-05-14T16:07:48.325298Z",
     "iopub.status.idle": "2025-05-14T16:07:48.335779Z",
     "shell.execute_reply": "2025-05-14T16:07:48.335398Z"
    },
    "papermill": {
     "duration": 0.034093,
     "end_time": "2025-05-14T16:07:48.336873",
     "exception": false,
     "start_time": "2025-05-14T16:07:48.302780",
     "status": "completed"
    },
    "tags": []
   },
   "outputs": [
    {
     "data": {
      "text/plain": [
       "((50067,), (18551,), (16879,))"
      ]
     },
     "execution_count": 15,
     "metadata": {},
     "output_type": "execute_result"
    }
   ],
   "source": [
    "y_train = train_adata.obs.iloc[train_idxs].disease.values.astype(str)\n",
    "y_test = train_adata.obs.iloc[test_idxs].disease.values.astype(str)\n",
    "y_val = train_adata.obs.iloc[val_idxs].disease.values.astype(str)\n",
    "y_train.shape, y_test.shape, y_val.shape"
   ]
  },
  {
   "cell_type": "code",
   "execution_count": 16,
   "id": "f3fc9c9f",
   "metadata": {
    "execution": {
     "iopub.execute_input": "2025-05-14T16:07:48.350955Z",
     "iopub.status.busy": "2025-05-14T16:07:48.350726Z",
     "iopub.status.idle": "2025-05-14T16:07:48.370456Z",
     "shell.execute_reply": "2025-05-14T16:07:48.370016Z"
    },
    "papermill": {
     "duration": 0.027788,
     "end_time": "2025-05-14T16:07:48.371364",
     "exception": false,
     "start_time": "2025-05-14T16:07:48.343576",
     "status": "completed"
    },
    "tags": []
   },
   "outputs": [],
   "source": [
    "lenc = LabelEncoder()\n",
    "y_train_enc = lenc.fit_transform(y_train)\n",
    "y_val_enc = lenc.transform(y_val)\n",
    "y_test_enc = lenc.transform(y_test)"
   ]
  },
  {
   "cell_type": "markdown",
   "id": "b009123f",
   "metadata": {
    "papermill": {
     "duration": 0.020039,
     "end_time": "2025-05-14T16:07:48.425992",
     "exception": false,
     "start_time": "2025-05-14T16:07:48.405953",
     "status": "completed"
    },
    "tags": []
   },
   "source": [
    "### GENERATE F1 "
   ]
  },
  {
   "cell_type": "code",
   "execution_count": 17,
   "id": "944a9f60",
   "metadata": {
    "execution": {
     "iopub.execute_input": "2025-05-14T16:07:48.502693Z",
     "iopub.status.busy": "2025-05-14T16:07:48.502498Z",
     "iopub.status.idle": "2025-05-14T16:07:48.505620Z",
     "shell.execute_reply": "2025-05-14T16:07:48.505263Z"
    },
    "papermill": {
     "duration": 0.046905,
     "end_time": "2025-05-14T16:07:48.506544",
     "exception": false,
     "start_time": "2025-05-14T16:07:48.459639",
     "status": "completed"
    },
    "tags": []
   },
   "outputs": [],
   "source": [
    "def custom_f1_score(y_true, y_pred):\n",
    "    return -f1_score(y_true, y_pred.argmax(1), average='weighted')"
   ]
  },
  {
   "cell_type": "code",
   "execution_count": 18,
   "id": "70e81bd3",
   "metadata": {
    "execution": {
     "iopub.execute_input": "2025-05-14T16:07:48.521040Z",
     "iopub.status.busy": "2025-05-14T16:07:48.520419Z",
     "iopub.status.idle": "2025-05-14T16:07:48.525146Z",
     "shell.execute_reply": "2025-05-14T16:07:48.524721Z"
    },
    "papermill": {
     "duration": 0.012989,
     "end_time": "2025-05-14T16:07:48.526032",
     "exception": false,
     "start_time": "2025-05-14T16:07:48.513043",
     "status": "completed"
    },
    "tags": []
   },
   "outputs": [],
   "source": [
    "eval_metric=custom_f1_score\n",
    "eval_metric_name='custom_f1_score'\n",
    "\n",
    "def objective(trial):\n",
    "    params = {\n",
    "        'n_estimators': 1500,\n",
    "        'max_depth': trial.suggest_int('max_depth', 3, 20),\n",
    "        'min_child_weight': trial.suggest_int('min_child_weight', 1, 250),\n",
    "        'subsample': trial.suggest_float('subsample', 0.1, 1.0),\n",
    "        'colsample_bynode': trial.suggest_float('colsample_bynode', 0.1, 1.0),\n",
    "        'learning_rate': trial.suggest_float('learning_rate', 1e-3, 5e-1, log=True),\n",
    "    }\n",
    "    pruning_callback = optuna.integration.XGBoostPruningCallback(trial, f'validation_0-{eval_metric_name}')\n",
    "    es_callback = xgboost.callback.EarlyStopping(20, min_delta=0.001)\n",
    "    xgb = xgboost.XGBClassifier(\n",
    "        eval_metric=eval_metric,\n",
    "        callbacks=[pruning_callback, es_callback],\n",
    "        n_jobs=5,\n",
    "        **params\n",
    "    )\n",
    "    xgb.fit(\n",
    "        X_train, \n",
    "        y_train_enc, \n",
    "        verbose=0,\n",
    "        eval_set=[(X_val, y_val_enc)],\n",
    "    )\n",
    "    trial.set_user_attr('best_iteration', xgb.best_iteration)\n",
    "\n",
    "    return xgb.best_score"
   ]
  },
  {
   "cell_type": "code",
   "execution_count": 19,
   "id": "96f96d18",
   "metadata": {
    "execution": {
     "iopub.execute_input": "2025-05-14T16:07:48.592575Z",
     "iopub.status.busy": "2025-05-14T16:07:48.592406Z",
     "iopub.status.idle": "2025-05-14T16:13:48.074842Z",
     "shell.execute_reply": "2025-05-14T16:13:48.074315Z"
    },
    "papermill": {
     "duration": 359.491572,
     "end_time": "2025-05-14T16:13:48.076636",
     "exception": false,
     "start_time": "2025-05-14T16:07:48.585064",
     "status": "completed"
    },
    "scrolled": true,
    "tags": []
   },
   "outputs": [
    {
     "name": "stderr",
     "output_type": "stream",
     "text": [
      "[I 2025-05-14 18:07:48,594] A new study created in memory with name: no-name-edf33921-fc48-41c3-be4a-580348691cbd\n"
     ]
    },
    {
     "name": "stderr",
     "output_type": "stream",
     "text": [
      "[I 2025-05-14 18:07:53,441] Trial 0 finished with value: -0.678894 and parameters: {'max_depth': 9, 'min_child_weight': 238, 'subsample': 0.7587945476302645, 'colsample_bynode': 0.6387926357773329, 'learning_rate': 0.0026368755339723046}. Best is trial 0 with value: -0.678894.\n"
     ]
    },
    {
     "name": "stderr",
     "output_type": "stream",
     "text": [
      "[I 2025-05-14 18:07:57,975] Trial 1 finished with value: -0.714503 and parameters: {'max_depth': 5, 'min_child_weight': 15, 'subsample': 0.8795585311974417, 'colsample_bynode': 0.6410035105688879, 'learning_rate': 0.08148293210105287}. Best is trial 1 with value: -0.714503.\n"
     ]
    },
    {
     "name": "stderr",
     "output_type": "stream",
     "text": [
      "[I 2025-05-14 18:08:03,374] Trial 2 finished with value: -0.672772 and parameters: {'max_depth': 3, 'min_child_weight': 243, 'subsample': 0.8491983767203796, 'colsample_bynode': 0.29110519961044856, 'learning_rate': 0.003095566460242371}. Best is trial 1 with value: -0.714503.\n"
     ]
    },
    {
     "name": "stderr",
     "output_type": "stream",
     "text": [
      "[I 2025-05-14 18:08:16,300] Trial 3 finished with value: -0.689152 and parameters: {'max_depth': 6, 'min_child_weight': 77, 'subsample': 0.5722807884690141, 'colsample_bynode': 0.48875051677790415, 'learning_rate': 0.006109683510122491}. Best is trial 1 with value: -0.714503.\n"
     ]
    },
    {
     "name": "stderr",
     "output_type": "stream",
     "text": [
      "[I 2025-05-14 18:09:10,741] Trial 4 finished with value: -0.722152 and parameters: {'max_depth': 14, 'min_child_weight': 35, 'subsample': 0.3629301836816964, 'colsample_bynode': 0.4297256589643226, 'learning_rate': 0.01701841881702917}. Best is trial 4 with value: -0.722152.\n"
     ]
    },
    {
     "name": "stderr",
     "output_type": "stream",
     "text": [
      "[I 2025-05-14 18:09:17,589] Trial 5 finished with value: -0.695657 and parameters: {'max_depth': 17, 'min_child_weight': 50, 'subsample': 0.5628109945722505, 'colsample_bynode': 0.6331731119758383, 'learning_rate': 0.0013346527038305934}. Best is trial 4 with value: -0.722152.\n"
     ]
    },
    {
     "name": "stderr",
     "output_type": "stream",
     "text": [
      "[I 2025-05-14 18:09:18,052] Trial 6 pruned. Trial was pruned at iteration 0.\n"
     ]
    },
    {
     "name": "stderr",
     "output_type": "stream",
     "text": [
      "[I 2025-05-14 18:09:18,489] Trial 7 pruned. Trial was pruned at iteration 0.\n"
     ]
    },
    {
     "name": "stderr",
     "output_type": "stream",
     "text": [
      "[I 2025-05-14 18:09:18,897] Trial 8 pruned. Trial was pruned at iteration 0.\n"
     ]
    },
    {
     "name": "stderr",
     "output_type": "stream",
     "text": [
      "[I 2025-05-14 18:09:25,980] Trial 9 finished with value: -0.694299 and parameters: {'max_depth': 14, 'min_child_weight': 78, 'subsample': 0.5680612190600297, 'colsample_bynode': 0.5920392514089517, 'learning_rate': 0.0031543990308330965}. Best is trial 4 with value: -0.722152.\n"
     ]
    },
    {
     "name": "stderr",
     "output_type": "stream",
     "text": [
      "[I 2025-05-14 18:09:26,405] Trial 10 pruned. Trial was pruned at iteration 0.\n"
     ]
    },
    {
     "name": "stderr",
     "output_type": "stream",
     "text": [
      "[I 2025-05-14 18:10:05,675] Trial 11 finished with value: -0.732492 and parameters: {'max_depth': 10, 'min_child_weight': 3, 'subsample': 0.9785259098721957, 'colsample_bynode': 0.40131565860091256, 'learning_rate': 0.08587379144532957}. Best is trial 11 with value: -0.732492.\n"
     ]
    },
    {
     "name": "stderr",
     "output_type": "stream",
     "text": [
      "[I 2025-05-14 18:10:30,143] Trial 12 finished with value: -0.737324 and parameters: {'max_depth': 10, 'min_child_weight': 3, 'subsample': 0.37777201587536535, 'colsample_bynode': 0.3630146189517875, 'learning_rate': 0.14603786032022117}. Best is trial 12 with value: -0.737324.\n"
     ]
    },
    {
     "name": "stderr",
     "output_type": "stream",
     "text": [
      "[I 2025-05-14 18:10:48,686] Trial 13 finished with value: -0.738012 and parameters: {'max_depth': 9, 'min_child_weight': 2, 'subsample': 0.3841566497358624, 'colsample_bynode': 0.304245503208456, 'learning_rate': 0.2586083232188041}. Best is trial 13 with value: -0.738012.\n"
     ]
    },
    {
     "name": "stderr",
     "output_type": "stream",
     "text": [
      "[I 2025-05-14 18:10:49,147] Trial 14 pruned. Trial was pruned at iteration 0.\n"
     ]
    },
    {
     "name": "stderr",
     "output_type": "stream",
     "text": [
      "[I 2025-05-14 18:11:24,338] Trial 15 finished with value: -0.740797 and parameters: {'max_depth': 11, 'min_child_weight': 1, 'subsample': 0.40851935943968465, 'colsample_bynode': 0.2687793682900305, 'learning_rate': 0.19250825305327754}. Best is trial 15 with value: -0.740797.\n"
     ]
    },
    {
     "name": "stderr",
     "output_type": "stream",
     "text": [
      "[I 2025-05-14 18:11:24,828] Trial 16 pruned. Trial was pruned at iteration 0.\n"
     ]
    },
    {
     "name": "stderr",
     "output_type": "stream",
     "text": [
      "[I 2025-05-14 18:11:25,284] Trial 17 pruned. Trial was pruned at iteration 0.\n"
     ]
    },
    {
     "name": "stderr",
     "output_type": "stream",
     "text": [
      "[I 2025-05-14 18:11:32,581] Trial 18 pruned. Trial was pruned at iteration 26.\n"
     ]
    },
    {
     "name": "stderr",
     "output_type": "stream",
     "text": [
      "[I 2025-05-14 18:11:33,098] Trial 19 pruned. Trial was pruned at iteration 0.\n"
     ]
    },
    {
     "name": "stderr",
     "output_type": "stream",
     "text": [
      "[I 2025-05-14 18:11:33,557] Trial 20 pruned. Trial was pruned at iteration 0.\n"
     ]
    },
    {
     "name": "stderr",
     "output_type": "stream",
     "text": [
      "[I 2025-05-14 18:11:55,578] Trial 21 pruned. Trial was pruned at iteration 63.\n"
     ]
    },
    {
     "name": "stderr",
     "output_type": "stream",
     "text": [
      "[I 2025-05-14 18:12:15,519] Trial 22 finished with value: -0.742162 and parameters: {'max_depth': 11, 'min_child_weight': 23, 'subsample': 0.4802227218665789, 'colsample_bynode': 0.4223970024936481, 'learning_rate': 0.27409045882801153}. Best is trial 22 with value: -0.742162.\n"
     ]
    },
    {
     "name": "stderr",
     "output_type": "stream",
     "text": [
      "[I 2025-05-14 18:12:40,781] Trial 23 finished with value: -0.744025 and parameters: {'max_depth': 12, 'min_child_weight': 27, 'subsample': 0.6638310221964546, 'colsample_bynode': 0.4487454931980359, 'learning_rate': 0.3277841235978591}. Best is trial 23 with value: -0.744025.\n"
     ]
    },
    {
     "name": "stderr",
     "output_type": "stream",
     "text": [
      "[I 2025-05-14 18:12:41,305] Trial 24 pruned. Trial was pruned at iteration 0.\n"
     ]
    },
    {
     "name": "stderr",
     "output_type": "stream",
     "text": [
      "[I 2025-05-14 18:12:49,333] Trial 25 pruned. Trial was pruned at iteration 23.\n"
     ]
    },
    {
     "name": "stderr",
     "output_type": "stream",
     "text": [
      "[I 2025-05-14 18:13:05,110] Trial 26 finished with value: -0.743631 and parameters: {'max_depth': 13, 'min_child_weight': 60, 'subsample': 0.4861251112150538, 'colsample_bynode': 0.5080290714368191, 'learning_rate': 0.31228006624352783}. Best is trial 23 with value: -0.744025.\n"
     ]
    },
    {
     "name": "stderr",
     "output_type": "stream",
     "text": [
      "[I 2025-05-14 18:13:05,621] Trial 27 pruned. Trial was pruned at iteration 0.\n"
     ]
    },
    {
     "name": "stderr",
     "output_type": "stream",
     "text": [
      "[I 2025-05-14 18:13:06,116] Trial 28 pruned. Trial was pruned at iteration 0.\n"
     ]
    },
    {
     "name": "stderr",
     "output_type": "stream",
     "text": [
      "[I 2025-05-14 18:13:06,577] Trial 29 pruned. Trial was pruned at iteration 0.\n"
     ]
    },
    {
     "name": "stderr",
     "output_type": "stream",
     "text": [
      "[I 2025-05-14 18:13:08,016] Trial 30 pruned. Trial was pruned at iteration 3.\n"
     ]
    },
    {
     "name": "stderr",
     "output_type": "stream",
     "text": [
      "[I 2025-05-14 18:13:16,395] Trial 31 pruned. Trial was pruned at iteration 32.\n"
     ]
    },
    {
     "name": "stderr",
     "output_type": "stream",
     "text": [
      "[I 2025-05-14 18:13:16,919] Trial 32 pruned. Trial was pruned at iteration 0.\n"
     ]
    },
    {
     "name": "stderr",
     "output_type": "stream",
     "text": [
      "[I 2025-05-14 18:13:17,399] Trial 33 pruned. Trial was pruned at iteration 0.\n"
     ]
    },
    {
     "name": "stderr",
     "output_type": "stream",
     "text": [
      "[I 2025-05-14 18:13:17,859] Trial 34 pruned. Trial was pruned at iteration 0.\n"
     ]
    },
    {
     "name": "stderr",
     "output_type": "stream",
     "text": [
      "[I 2025-05-14 18:13:18,331] Trial 35 pruned. Trial was pruned at iteration 0.\n"
     ]
    },
    {
     "name": "stderr",
     "output_type": "stream",
     "text": [
      "[I 2025-05-14 18:13:18,956] Trial 36 pruned. Trial was pruned at iteration 0.\n"
     ]
    },
    {
     "name": "stderr",
     "output_type": "stream",
     "text": [
      "[I 2025-05-14 18:13:24,489] Trial 37 finished with value: -0.719311 and parameters: {'max_depth': 13, 'min_child_weight': 44, 'subsample': 0.43851091643201395, 'colsample_bynode': 0.819800564704332, 'learning_rate': 0.06257399911076907}. Best is trial 23 with value: -0.744025.\n"
     ]
    },
    {
     "name": "stderr",
     "output_type": "stream",
     "text": [
      "[I 2025-05-14 18:13:24,926] Trial 38 pruned. Trial was pruned at iteration 0.\n"
     ]
    },
    {
     "name": "stderr",
     "output_type": "stream",
     "text": [
      "[I 2025-05-14 18:13:25,398] Trial 39 pruned. Trial was pruned at iteration 0.\n"
     ]
    },
    {
     "name": "stderr",
     "output_type": "stream",
     "text": [
      "[I 2025-05-14 18:13:26,049] Trial 40 pruned. Trial was pruned at iteration 0.\n"
     ]
    },
    {
     "name": "stderr",
     "output_type": "stream",
     "text": [
      "[I 2025-05-14 18:13:26,618] Trial 41 pruned. Trial was pruned at iteration 0.\n"
     ]
    },
    {
     "name": "stderr",
     "output_type": "stream",
     "text": [
      "[I 2025-05-14 18:13:42,154] Trial 42 finished with value: -0.750638 and parameters: {'max_depth': 8, 'min_child_weight': 30, 'subsample': 0.39537301737481617, 'colsample_bynode': 0.2827888179553448, 'learning_rate': 0.33864715141878854}. Best is trial 42 with value: -0.750638.\n"
     ]
    },
    {
     "name": "stderr",
     "output_type": "stream",
     "text": [
      "[I 2025-05-14 18:13:42,641] Trial 43 pruned. Trial was pruned at iteration 0.\n"
     ]
    },
    {
     "name": "stderr",
     "output_type": "stream",
     "text": [
      "[I 2025-05-14 18:13:43,139] Trial 44 pruned. Trial was pruned at iteration 0.\n"
     ]
    },
    {
     "name": "stderr",
     "output_type": "stream",
     "text": [
      "[I 2025-05-14 18:13:43,780] Trial 45 pruned. Trial was pruned at iteration 0.\n"
     ]
    },
    {
     "name": "stderr",
     "output_type": "stream",
     "text": [
      "[I 2025-05-14 18:13:46,346] Trial 46 pruned. Trial was pruned at iteration 9.\n"
     ]
    },
    {
     "name": "stderr",
     "output_type": "stream",
     "text": [
      "[I 2025-05-14 18:13:46,971] Trial 47 pruned. Trial was pruned at iteration 0.\n"
     ]
    },
    {
     "name": "stderr",
     "output_type": "stream",
     "text": [
      "[I 2025-05-14 18:13:47,467] Trial 48 pruned. Trial was pruned at iteration 0.\n"
     ]
    },
    {
     "name": "stderr",
     "output_type": "stream",
     "text": [
      "[I 2025-05-14 18:13:47,977] Trial 49 pruned. Trial was pruned at iteration 0.\n"
     ]
    }
   ],
   "source": [
    "sampler = optuna.samplers.TPESampler(seed=42)\n",
    "study = optuna.create_study(direction='minimize', sampler=sampler)\n",
    "study.optimize(objective, n_trials=N_TRIALS, gc_after_trial=True)"
   ]
  },
  {
   "cell_type": "code",
   "execution_count": 20,
   "id": "b16d7951",
   "metadata": {
    "execution": {
     "iopub.execute_input": "2025-05-14T16:13:48.100294Z",
     "iopub.status.busy": "2025-05-14T16:13:48.099922Z",
     "iopub.status.idle": "2025-05-14T16:13:48.130669Z",
     "shell.execute_reply": "2025-05-14T16:13:48.130332Z"
    },
    "papermill": {
     "duration": 0.043517,
     "end_time": "2025-05-14T16:13:48.131751",
     "exception": false,
     "start_time": "2025-05-14T16:13:48.088234",
     "status": "completed"
    },
    "tags": []
   },
   "outputs": [
    {
     "data": {
      "text/plain": [
       "['/scratch_isilon/groups/singlecell/shared/projects/Inflammation-PBMCs-Atlas/03_downstream_analysis/08_gene_importance/xgboost_external_validation/xgboost_TopN_genes/results_20/study/T_CD4_Naive_shap_disease_NOstudy_3_xgboost.pkl']"
      ]
     },
     "execution_count": 20,
     "metadata": {},
     "output_type": "execute_result"
    }
   ],
   "source": [
    "out_dir = here(f'03_downstream_analysis/08_gene_importance/xgboost_external_validation/xgboost_TopN_genes/results_{N_GENES}/study')\n",
    "\n",
    "if not os.path.exists(out_dir):\n",
    "    os.makedirs(out_dir)\n",
    "    \n",
    "joblib.dump(study,os.path.join(out_dir, f'{CELL_TYPE}_{SEED}_{TEST_SPLIT_IDX}_xgboost.pkl'))"
   ]
  },
  {
   "cell_type": "code",
   "execution_count": 21,
   "id": "05f37a06",
   "metadata": {
    "execution": {
     "iopub.execute_input": "2025-05-14T16:13:48.178806Z",
     "iopub.status.busy": "2025-05-14T16:13:48.178656Z",
     "iopub.status.idle": "2025-05-14T16:13:52.869018Z",
     "shell.execute_reply": "2025-05-14T16:13:52.868576Z"
    },
    "papermill": {
     "duration": 4.7024,
     "end_time": "2025-05-14T16:13:52.870073",
     "exception": false,
     "start_time": "2025-05-14T16:13:48.167673",
     "status": "completed"
    },
    "tags": []
   },
   "outputs": [
    {
     "data": {
      "text/html": [
       "<style>#sk-container-id-1 {\n",
       "  /* Definition of color scheme common for light and dark mode */\n",
       "  --sklearn-color-text: black;\n",
       "  --sklearn-color-line: gray;\n",
       "  /* Definition of color scheme for unfitted estimators */\n",
       "  --sklearn-color-unfitted-level-0: #fff5e6;\n",
       "  --sklearn-color-unfitted-level-1: #f6e4d2;\n",
       "  --sklearn-color-unfitted-level-2: #ffe0b3;\n",
       "  --sklearn-color-unfitted-level-3: chocolate;\n",
       "  /* Definition of color scheme for fitted estimators */\n",
       "  --sklearn-color-fitted-level-0: #f0f8ff;\n",
       "  --sklearn-color-fitted-level-1: #d4ebff;\n",
       "  --sklearn-color-fitted-level-2: #b3dbfd;\n",
       "  --sklearn-color-fitted-level-3: cornflowerblue;\n",
       "\n",
       "  /* Specific color for light theme */\n",
       "  --sklearn-color-text-on-default-background: var(--sg-text-color, var(--theme-code-foreground, var(--jp-content-font-color1, black)));\n",
       "  --sklearn-color-background: var(--sg-background-color, var(--theme-background, var(--jp-layout-color0, white)));\n",
       "  --sklearn-color-border-box: var(--sg-text-color, var(--theme-code-foreground, var(--jp-content-font-color1, black)));\n",
       "  --sklearn-color-icon: #696969;\n",
       "\n",
       "  @media (prefers-color-scheme: dark) {\n",
       "    /* Redefinition of color scheme for dark theme */\n",
       "    --sklearn-color-text-on-default-background: var(--sg-text-color, var(--theme-code-foreground, var(--jp-content-font-color1, white)));\n",
       "    --sklearn-color-background: var(--sg-background-color, var(--theme-background, var(--jp-layout-color0, #111)));\n",
       "    --sklearn-color-border-box: var(--sg-text-color, var(--theme-code-foreground, var(--jp-content-font-color1, white)));\n",
       "    --sklearn-color-icon: #878787;\n",
       "  }\n",
       "}\n",
       "\n",
       "#sk-container-id-1 {\n",
       "  color: var(--sklearn-color-text);\n",
       "}\n",
       "\n",
       "#sk-container-id-1 pre {\n",
       "  padding: 0;\n",
       "}\n",
       "\n",
       "#sk-container-id-1 input.sk-hidden--visually {\n",
       "  border: 0;\n",
       "  clip: rect(1px 1px 1px 1px);\n",
       "  clip: rect(1px, 1px, 1px, 1px);\n",
       "  height: 1px;\n",
       "  margin: -1px;\n",
       "  overflow: hidden;\n",
       "  padding: 0;\n",
       "  position: absolute;\n",
       "  width: 1px;\n",
       "}\n",
       "\n",
       "#sk-container-id-1 div.sk-dashed-wrapped {\n",
       "  border: 1px dashed var(--sklearn-color-line);\n",
       "  margin: 0 0.4em 0.5em 0.4em;\n",
       "  box-sizing: border-box;\n",
       "  padding-bottom: 0.4em;\n",
       "  background-color: var(--sklearn-color-background);\n",
       "}\n",
       "\n",
       "#sk-container-id-1 div.sk-container {\n",
       "  /* jupyter's `normalize.less` sets `[hidden] { display: none; }`\n",
       "     but bootstrap.min.css set `[hidden] { display: none !important; }`\n",
       "     so we also need the `!important` here to be able to override the\n",
       "     default hidden behavior on the sphinx rendered scikit-learn.org.\n",
       "     See: https://github.com/scikit-learn/scikit-learn/issues/21755 */\n",
       "  display: inline-block !important;\n",
       "  position: relative;\n",
       "}\n",
       "\n",
       "#sk-container-id-1 div.sk-text-repr-fallback {\n",
       "  display: none;\n",
       "}\n",
       "\n",
       "div.sk-parallel-item,\n",
       "div.sk-serial,\n",
       "div.sk-item {\n",
       "  /* draw centered vertical line to link estimators */\n",
       "  background-image: linear-gradient(var(--sklearn-color-text-on-default-background), var(--sklearn-color-text-on-default-background));\n",
       "  background-size: 2px 100%;\n",
       "  background-repeat: no-repeat;\n",
       "  background-position: center center;\n",
       "}\n",
       "\n",
       "/* Parallel-specific style estimator block */\n",
       "\n",
       "#sk-container-id-1 div.sk-parallel-item::after {\n",
       "  content: \"\";\n",
       "  width: 100%;\n",
       "  border-bottom: 2px solid var(--sklearn-color-text-on-default-background);\n",
       "  flex-grow: 1;\n",
       "}\n",
       "\n",
       "#sk-container-id-1 div.sk-parallel {\n",
       "  display: flex;\n",
       "  align-items: stretch;\n",
       "  justify-content: center;\n",
       "  background-color: var(--sklearn-color-background);\n",
       "  position: relative;\n",
       "}\n",
       "\n",
       "#sk-container-id-1 div.sk-parallel-item {\n",
       "  display: flex;\n",
       "  flex-direction: column;\n",
       "}\n",
       "\n",
       "#sk-container-id-1 div.sk-parallel-item:first-child::after {\n",
       "  align-self: flex-end;\n",
       "  width: 50%;\n",
       "}\n",
       "\n",
       "#sk-container-id-1 div.sk-parallel-item:last-child::after {\n",
       "  align-self: flex-start;\n",
       "  width: 50%;\n",
       "}\n",
       "\n",
       "#sk-container-id-1 div.sk-parallel-item:only-child::after {\n",
       "  width: 0;\n",
       "}\n",
       "\n",
       "/* Serial-specific style estimator block */\n",
       "\n",
       "#sk-container-id-1 div.sk-serial {\n",
       "  display: flex;\n",
       "  flex-direction: column;\n",
       "  align-items: center;\n",
       "  background-color: var(--sklearn-color-background);\n",
       "  padding-right: 1em;\n",
       "  padding-left: 1em;\n",
       "}\n",
       "\n",
       "\n",
       "/* Toggleable style: style used for estimator/Pipeline/ColumnTransformer box that is\n",
       "clickable and can be expanded/collapsed.\n",
       "- Pipeline and ColumnTransformer use this feature and define the default style\n",
       "- Estimators will overwrite some part of the style using the `sk-estimator` class\n",
       "*/\n",
       "\n",
       "/* Pipeline and ColumnTransformer style (default) */\n",
       "\n",
       "#sk-container-id-1 div.sk-toggleable {\n",
       "  /* Default theme specific background. It is overwritten whether we have a\n",
       "  specific estimator or a Pipeline/ColumnTransformer */\n",
       "  background-color: var(--sklearn-color-background);\n",
       "}\n",
       "\n",
       "/* Toggleable label */\n",
       "#sk-container-id-1 label.sk-toggleable__label {\n",
       "  cursor: pointer;\n",
       "  display: block;\n",
       "  width: 100%;\n",
       "  margin-bottom: 0;\n",
       "  padding: 0.5em;\n",
       "  box-sizing: border-box;\n",
       "  text-align: center;\n",
       "}\n",
       "\n",
       "#sk-container-id-1 label.sk-toggleable__label-arrow:before {\n",
       "  /* Arrow on the left of the label */\n",
       "  content: \"▸\";\n",
       "  float: left;\n",
       "  margin-right: 0.25em;\n",
       "  color: var(--sklearn-color-icon);\n",
       "}\n",
       "\n",
       "#sk-container-id-1 label.sk-toggleable__label-arrow:hover:before {\n",
       "  color: var(--sklearn-color-text);\n",
       "}\n",
       "\n",
       "/* Toggleable content - dropdown */\n",
       "\n",
       "#sk-container-id-1 div.sk-toggleable__content {\n",
       "  max-height: 0;\n",
       "  max-width: 0;\n",
       "  overflow: hidden;\n",
       "  text-align: left;\n",
       "  /* unfitted */\n",
       "  background-color: var(--sklearn-color-unfitted-level-0);\n",
       "}\n",
       "\n",
       "#sk-container-id-1 div.sk-toggleable__content.fitted {\n",
       "  /* fitted */\n",
       "  background-color: var(--sklearn-color-fitted-level-0);\n",
       "}\n",
       "\n",
       "#sk-container-id-1 div.sk-toggleable__content pre {\n",
       "  margin: 0.2em;\n",
       "  border-radius: 0.25em;\n",
       "  color: var(--sklearn-color-text);\n",
       "  /* unfitted */\n",
       "  background-color: var(--sklearn-color-unfitted-level-0);\n",
       "}\n",
       "\n",
       "#sk-container-id-1 div.sk-toggleable__content.fitted pre {\n",
       "  /* unfitted */\n",
       "  background-color: var(--sklearn-color-fitted-level-0);\n",
       "}\n",
       "\n",
       "#sk-container-id-1 input.sk-toggleable__control:checked~div.sk-toggleable__content {\n",
       "  /* Expand drop-down */\n",
       "  max-height: 200px;\n",
       "  max-width: 100%;\n",
       "  overflow: auto;\n",
       "}\n",
       "\n",
       "#sk-container-id-1 input.sk-toggleable__control:checked~label.sk-toggleable__label-arrow:before {\n",
       "  content: \"▾\";\n",
       "}\n",
       "\n",
       "/* Pipeline/ColumnTransformer-specific style */\n",
       "\n",
       "#sk-container-id-1 div.sk-label input.sk-toggleable__control:checked~label.sk-toggleable__label {\n",
       "  color: var(--sklearn-color-text);\n",
       "  background-color: var(--sklearn-color-unfitted-level-2);\n",
       "}\n",
       "\n",
       "#sk-container-id-1 div.sk-label.fitted input.sk-toggleable__control:checked~label.sk-toggleable__label {\n",
       "  background-color: var(--sklearn-color-fitted-level-2);\n",
       "}\n",
       "\n",
       "/* Estimator-specific style */\n",
       "\n",
       "/* Colorize estimator box */\n",
       "#sk-container-id-1 div.sk-estimator input.sk-toggleable__control:checked~label.sk-toggleable__label {\n",
       "  /* unfitted */\n",
       "  background-color: var(--sklearn-color-unfitted-level-2);\n",
       "}\n",
       "\n",
       "#sk-container-id-1 div.sk-estimator.fitted input.sk-toggleable__control:checked~label.sk-toggleable__label {\n",
       "  /* fitted */\n",
       "  background-color: var(--sklearn-color-fitted-level-2);\n",
       "}\n",
       "\n",
       "#sk-container-id-1 div.sk-label label.sk-toggleable__label,\n",
       "#sk-container-id-1 div.sk-label label {\n",
       "  /* The background is the default theme color */\n",
       "  color: var(--sklearn-color-text-on-default-background);\n",
       "}\n",
       "\n",
       "/* On hover, darken the color of the background */\n",
       "#sk-container-id-1 div.sk-label:hover label.sk-toggleable__label {\n",
       "  color: var(--sklearn-color-text);\n",
       "  background-color: var(--sklearn-color-unfitted-level-2);\n",
       "}\n",
       "\n",
       "/* Label box, darken color on hover, fitted */\n",
       "#sk-container-id-1 div.sk-label.fitted:hover label.sk-toggleable__label.fitted {\n",
       "  color: var(--sklearn-color-text);\n",
       "  background-color: var(--sklearn-color-fitted-level-2);\n",
       "}\n",
       "\n",
       "/* Estimator label */\n",
       "\n",
       "#sk-container-id-1 div.sk-label label {\n",
       "  font-family: monospace;\n",
       "  font-weight: bold;\n",
       "  display: inline-block;\n",
       "  line-height: 1.2em;\n",
       "}\n",
       "\n",
       "#sk-container-id-1 div.sk-label-container {\n",
       "  text-align: center;\n",
       "}\n",
       "\n",
       "/* Estimator-specific */\n",
       "#sk-container-id-1 div.sk-estimator {\n",
       "  font-family: monospace;\n",
       "  border: 1px dotted var(--sklearn-color-border-box);\n",
       "  border-radius: 0.25em;\n",
       "  box-sizing: border-box;\n",
       "  margin-bottom: 0.5em;\n",
       "  /* unfitted */\n",
       "  background-color: var(--sklearn-color-unfitted-level-0);\n",
       "}\n",
       "\n",
       "#sk-container-id-1 div.sk-estimator.fitted {\n",
       "  /* fitted */\n",
       "  background-color: var(--sklearn-color-fitted-level-0);\n",
       "}\n",
       "\n",
       "/* on hover */\n",
       "#sk-container-id-1 div.sk-estimator:hover {\n",
       "  /* unfitted */\n",
       "  background-color: var(--sklearn-color-unfitted-level-2);\n",
       "}\n",
       "\n",
       "#sk-container-id-1 div.sk-estimator.fitted:hover {\n",
       "  /* fitted */\n",
       "  background-color: var(--sklearn-color-fitted-level-2);\n",
       "}\n",
       "\n",
       "/* Specification for estimator info (e.g. \"i\" and \"?\") */\n",
       "\n",
       "/* Common style for \"i\" and \"?\" */\n",
       "\n",
       ".sk-estimator-doc-link,\n",
       "a:link.sk-estimator-doc-link,\n",
       "a:visited.sk-estimator-doc-link {\n",
       "  float: right;\n",
       "  font-size: smaller;\n",
       "  line-height: 1em;\n",
       "  font-family: monospace;\n",
       "  background-color: var(--sklearn-color-background);\n",
       "  border-radius: 1em;\n",
       "  height: 1em;\n",
       "  width: 1em;\n",
       "  text-decoration: none !important;\n",
       "  margin-left: 1ex;\n",
       "  /* unfitted */\n",
       "  border: var(--sklearn-color-unfitted-level-1) 1pt solid;\n",
       "  color: var(--sklearn-color-unfitted-level-1);\n",
       "}\n",
       "\n",
       ".sk-estimator-doc-link.fitted,\n",
       "a:link.sk-estimator-doc-link.fitted,\n",
       "a:visited.sk-estimator-doc-link.fitted {\n",
       "  /* fitted */\n",
       "  border: var(--sklearn-color-fitted-level-1) 1pt solid;\n",
       "  color: var(--sklearn-color-fitted-level-1);\n",
       "}\n",
       "\n",
       "/* On hover */\n",
       "div.sk-estimator:hover .sk-estimator-doc-link:hover,\n",
       ".sk-estimator-doc-link:hover,\n",
       "div.sk-label-container:hover .sk-estimator-doc-link:hover,\n",
       ".sk-estimator-doc-link:hover {\n",
       "  /* unfitted */\n",
       "  background-color: var(--sklearn-color-unfitted-level-3);\n",
       "  color: var(--sklearn-color-background);\n",
       "  text-decoration: none;\n",
       "}\n",
       "\n",
       "div.sk-estimator.fitted:hover .sk-estimator-doc-link.fitted:hover,\n",
       ".sk-estimator-doc-link.fitted:hover,\n",
       "div.sk-label-container:hover .sk-estimator-doc-link.fitted:hover,\n",
       ".sk-estimator-doc-link.fitted:hover {\n",
       "  /* fitted */\n",
       "  background-color: var(--sklearn-color-fitted-level-3);\n",
       "  color: var(--sklearn-color-background);\n",
       "  text-decoration: none;\n",
       "}\n",
       "\n",
       "/* Span, style for the box shown on hovering the info icon */\n",
       ".sk-estimator-doc-link span {\n",
       "  display: none;\n",
       "  z-index: 9999;\n",
       "  position: relative;\n",
       "  font-weight: normal;\n",
       "  right: .2ex;\n",
       "  padding: .5ex;\n",
       "  margin: .5ex;\n",
       "  width: min-content;\n",
       "  min-width: 20ex;\n",
       "  max-width: 50ex;\n",
       "  color: var(--sklearn-color-text);\n",
       "  box-shadow: 2pt 2pt 4pt #999;\n",
       "  /* unfitted */\n",
       "  background: var(--sklearn-color-unfitted-level-0);\n",
       "  border: .5pt solid var(--sklearn-color-unfitted-level-3);\n",
       "}\n",
       "\n",
       ".sk-estimator-doc-link.fitted span {\n",
       "  /* fitted */\n",
       "  background: var(--sklearn-color-fitted-level-0);\n",
       "  border: var(--sklearn-color-fitted-level-3);\n",
       "}\n",
       "\n",
       ".sk-estimator-doc-link:hover span {\n",
       "  display: block;\n",
       "}\n",
       "\n",
       "/* \"?\"-specific style due to the `<a>` HTML tag */\n",
       "\n",
       "#sk-container-id-1 a.estimator_doc_link {\n",
       "  float: right;\n",
       "  font-size: 1rem;\n",
       "  line-height: 1em;\n",
       "  font-family: monospace;\n",
       "  background-color: var(--sklearn-color-background);\n",
       "  border-radius: 1rem;\n",
       "  height: 1rem;\n",
       "  width: 1rem;\n",
       "  text-decoration: none;\n",
       "  /* unfitted */\n",
       "  color: var(--sklearn-color-unfitted-level-1);\n",
       "  border: var(--sklearn-color-unfitted-level-1) 1pt solid;\n",
       "}\n",
       "\n",
       "#sk-container-id-1 a.estimator_doc_link.fitted {\n",
       "  /* fitted */\n",
       "  border: var(--sklearn-color-fitted-level-1) 1pt solid;\n",
       "  color: var(--sklearn-color-fitted-level-1);\n",
       "}\n",
       "\n",
       "/* On hover */\n",
       "#sk-container-id-1 a.estimator_doc_link:hover {\n",
       "  /* unfitted */\n",
       "  background-color: var(--sklearn-color-unfitted-level-3);\n",
       "  color: var(--sklearn-color-background);\n",
       "  text-decoration: none;\n",
       "}\n",
       "\n",
       "#sk-container-id-1 a.estimator_doc_link.fitted:hover {\n",
       "  /* fitted */\n",
       "  background-color: var(--sklearn-color-fitted-level-3);\n",
       "}\n",
       "</style><div id=\"sk-container-id-1\" class=\"sk-top-container\"><div class=\"sk-text-repr-fallback\"><pre>XGBClassifier(base_score=None, booster=None, callbacks=None,\n",
       "              colsample_bylevel=None, colsample_bynode=0.2827888179553448,\n",
       "              colsample_bytree=None, device=None, early_stopping_rounds=None,\n",
       "              enable_categorical=False,\n",
       "              eval_metric=&lt;function custom_f1_score at 0x7f5c845c8720&gt;,\n",
       "              feature_types=None, gamma=None, grow_policy=None,\n",
       "              importance_type=None, interaction_constraints=None,\n",
       "              learning_rate=0.33864715141878854, max_bin=None,\n",
       "              max_cat_threshold=None, max_cat_to_onehot=None,\n",
       "              max_delta_step=None, max_depth=8, max_leaves=None,\n",
       "              min_child_weight=30, missing=nan, monotone_constraints=None,\n",
       "              multi_strategy=None, n_estimators=68, n_jobs=None,\n",
       "              num_parallel_tree=None, objective=&#x27;multi:softprob&#x27;, ...)</pre><b>In a Jupyter environment, please rerun this cell to show the HTML representation or trust the notebook. <br />On GitHub, the HTML representation is unable to render, please try loading this page with nbviewer.org.</b></div><div class=\"sk-container\" hidden><div class=\"sk-item\"><div class=\"sk-estimator fitted sk-toggleable\"><input class=\"sk-toggleable__control sk-hidden--visually\" id=\"sk-estimator-id-1\" type=\"checkbox\" checked><label for=\"sk-estimator-id-1\" class=\"sk-toggleable__label fitted sk-toggleable__label-arrow fitted\">&nbsp;XGBClassifier<span class=\"sk-estimator-doc-link fitted\">i<span>Fitted</span></span></label><div class=\"sk-toggleable__content fitted\"><pre>XGBClassifier(base_score=None, booster=None, callbacks=None,\n",
       "              colsample_bylevel=None, colsample_bynode=0.2827888179553448,\n",
       "              colsample_bytree=None, device=None, early_stopping_rounds=None,\n",
       "              enable_categorical=False,\n",
       "              eval_metric=&lt;function custom_f1_score at 0x7f5c845c8720&gt;,\n",
       "              feature_types=None, gamma=None, grow_policy=None,\n",
       "              importance_type=None, interaction_constraints=None,\n",
       "              learning_rate=0.33864715141878854, max_bin=None,\n",
       "              max_cat_threshold=None, max_cat_to_onehot=None,\n",
       "              max_delta_step=None, max_depth=8, max_leaves=None,\n",
       "              min_child_weight=30, missing=nan, monotone_constraints=None,\n",
       "              multi_strategy=None, n_estimators=68, n_jobs=None,\n",
       "              num_parallel_tree=None, objective=&#x27;multi:softprob&#x27;, ...)</pre></div> </div></div></div></div>"
      ],
      "text/plain": [
       "XGBClassifier(base_score=None, booster=None, callbacks=None,\n",
       "              colsample_bylevel=None, colsample_bynode=0.2827888179553448,\n",
       "              colsample_bytree=None, device=None, early_stopping_rounds=None,\n",
       "              enable_categorical=False,\n",
       "              eval_metric=<function custom_f1_score at 0x7f5c845c8720>,\n",
       "              feature_types=None, gamma=None, grow_policy=None,\n",
       "              importance_type=None, interaction_constraints=None,\n",
       "              learning_rate=0.33864715141878854, max_bin=None,\n",
       "              max_cat_threshold=None, max_cat_to_onehot=None,\n",
       "              max_delta_step=None, max_depth=8, max_leaves=None,\n",
       "              min_child_weight=30, missing=nan, monotone_constraints=None,\n",
       "              multi_strategy=None, n_estimators=68, n_jobs=None,\n",
       "              num_parallel_tree=None, objective='multi:softprob', ...)"
      ]
     },
     "execution_count": 21,
     "metadata": {},
     "output_type": "execute_result"
    }
   ],
   "source": [
    "n_estimators = int(study.best_trial.user_attrs['best_iteration']*1.2)\n",
    "xgb = xgboost.XGBClassifier(\n",
    "        eval_metric=eval_metric,\n",
    "        n_estimators=n_estimators,\n",
    "        **study.best_trial.params\n",
    "    )\n",
    "xgb.fit(\n",
    "    ssp.vstack((X_train, X_val)), \n",
    "    np.concatenate((y_train_enc, y_val_enc)),\n",
    "    verbose=1,\n",
    ")"
   ]
  },
  {
   "cell_type": "code",
   "execution_count": 22,
   "id": "0d92e5a7",
   "metadata": {
    "execution": {
     "iopub.execute_input": "2025-05-14T16:13:52.891019Z",
     "iopub.status.busy": "2025-05-14T16:13:52.890840Z",
     "iopub.status.idle": "2025-05-14T16:13:52.951264Z",
     "shell.execute_reply": "2025-05-14T16:13:52.950880Z"
    },
    "papermill": {
     "duration": 0.071496,
     "end_time": "2025-05-14T16:13:52.952295",
     "exception": false,
     "start_time": "2025-05-14T16:13:52.880799",
     "status": "completed"
    },
    "tags": []
   },
   "outputs": [
    {
     "data": {
      "text/plain": [
       "['/scratch_isilon/groups/singlecell/shared/projects/Inflammation-PBMCs-Atlas/03_downstream_analysis/08_gene_importance/xgboost_external_validation/xgboost_TopN_genes/results_20/best_model/T_CD4_Naive_shap_disease_NOstudy_3_xgb.json']"
      ]
     },
     "execution_count": 22,
     "metadata": {},
     "output_type": "execute_result"
    }
   ],
   "source": [
    "out_dir = here(f'03_downstream_analysis/08_gene_importance/xgboost_external_validation/xgboost_TopN_genes/results_{N_GENES}/best_model')\n",
    "\n",
    "if not os.path.exists(out_dir):\n",
    "    os.makedirs(out_dir)\n",
    "    \n",
    "joblib.dump(xgb, os.path.join(out_dir, f'{CELL_TYPE}_{SEED}_{TEST_SPLIT_IDX}_xgb.json'))"
   ]
  },
  {
   "cell_type": "code",
   "execution_count": 23,
   "id": "cd1bda14",
   "metadata": {
    "execution": {
     "iopub.execute_input": "2025-05-14T16:13:52.972875Z",
     "iopub.status.busy": "2025-05-14T16:13:52.972706Z",
     "iopub.status.idle": "2025-05-14T16:13:53.180330Z",
     "shell.execute_reply": "2025-05-14T16:13:53.179781Z"
    },
    "papermill": {
     "duration": 0.219341,
     "end_time": "2025-05-14T16:13:53.181586",
     "exception": false,
     "start_time": "2025-05-14T16:13:52.962245",
     "status": "completed"
    },
    "tags": []
   },
   "outputs": [],
   "source": [
    "df_pred_test = pd.DataFrame(dict(\n",
    "    cell_id=train_adata.obs.iloc[test_idxs].index.values,\n",
    "    y_true=y_test, \n",
    "    y_true_code=y_test_enc, \n",
    "    y_pred=xgb.predict(X_test))).set_index('cell_id')"
   ]
  },
  {
   "cell_type": "code",
   "execution_count": 24,
   "id": "fe409590",
   "metadata": {
    "execution": {
     "iopub.execute_input": "2025-05-14T16:13:53.201689Z",
     "iopub.status.busy": "2025-05-14T16:13:53.201491Z",
     "iopub.status.idle": "2025-05-14T16:13:53.311355Z",
     "shell.execute_reply": "2025-05-14T16:13:53.310864Z"
    },
    "papermill": {
     "duration": 0.120968,
     "end_time": "2025-05-14T16:13:53.312627",
     "exception": false,
     "start_time": "2025-05-14T16:13:53.191659",
     "status": "completed"
    },
    "tags": []
   },
   "outputs": [],
   "source": [
    "out_dir = here(f'03_downstream_analysis/08_gene_importance/xgboost_external_validation/xgboost_TopN_genes/results_{N_GENES}/predictions')\n",
    "\n",
    "if not os.path.exists(out_dir):\n",
    "    os.makedirs(out_dir)\n",
    "    \n",
    "df_pred_test.to_csv(os.path.join(out_dir, f'{CELL_TYPE}_{SEED}_{TEST_SPLIT_IDX}_pred_test.zip'))"
   ]
  },
  {
   "cell_type": "code",
   "execution_count": 25,
   "id": "b21ae09d",
   "metadata": {
    "execution": {
     "iopub.execute_input": "2025-05-14T16:13:53.346254Z",
     "iopub.status.busy": "2025-05-14T16:13:53.345766Z",
     "iopub.status.idle": "2025-05-14T16:13:53.361297Z",
     "shell.execute_reply": "2025-05-14T16:13:53.360902Z"
    },
    "papermill": {
     "duration": 0.034733,
     "end_time": "2025-05-14T16:13:53.362249",
     "exception": false,
     "start_time": "2025-05-14T16:13:53.327516",
     "status": "completed"
    },
    "tags": []
   },
   "outputs": [
    {
     "name": "stderr",
     "output_type": "stream",
     "text": [
      "/scratch_isilon/groups/singlecell/shared/conda_env/xgboost-cpu/lib/python3.12/site-packages/sklearn/metrics/_classification.py:2466: UserWarning: y_pred contains classes not in y_true\n",
      "  warnings.warn(\"y_pred contains classes not in y_true\")\n"
     ]
    }
   ],
   "source": [
    "metrics_dict = dict(\n",
    "    BAS=balanced_accuracy_score(y_true=df_pred_test.y_true_code, y_pred=df_pred_test.y_pred), WF1=f1_score(y_true=df_pred_test.y_true_code, y_pred=df_pred_test.y_pred,average='weighted'))"
   ]
  },
  {
   "cell_type": "code",
   "execution_count": 26,
   "id": "aafb7f6a",
   "metadata": {
    "execution": {
     "iopub.execute_input": "2025-05-14T16:13:53.381682Z",
     "iopub.status.busy": "2025-05-14T16:13:53.381423Z",
     "iopub.status.idle": "2025-05-14T16:13:53.385352Z",
     "shell.execute_reply": "2025-05-14T16:13:53.384977Z"
    },
    "papermill": {
     "duration": 0.014644,
     "end_time": "2025-05-14T16:13:53.386360",
     "exception": false,
     "start_time": "2025-05-14T16:13:53.371716",
     "status": "completed"
    },
    "tags": []
   },
   "outputs": [
    {
     "data": {
      "text/plain": [
       "{'BAS': 0.5299295662727097, 'WF1': 0.6669169705053754}"
      ]
     },
     "execution_count": 26,
     "metadata": {},
     "output_type": "execute_result"
    }
   ],
   "source": [
    "metrics_dict"
   ]
  },
  {
   "cell_type": "code",
   "execution_count": 27,
   "id": "efd9ab7a",
   "metadata": {
    "execution": {
     "iopub.execute_input": "2025-05-14T16:13:53.405592Z",
     "iopub.status.busy": "2025-05-14T16:13:53.405419Z",
     "iopub.status.idle": "2025-05-14T16:13:53.415000Z",
     "shell.execute_reply": "2025-05-14T16:13:53.414675Z"
    },
    "papermill": {
     "duration": 0.020306,
     "end_time": "2025-05-14T16:13:53.415952",
     "exception": false,
     "start_time": "2025-05-14T16:13:53.395646",
     "status": "completed"
    },
    "tags": []
   },
   "outputs": [
    {
     "data": {
      "text/html": [
       "<div>\n",
       "<style scoped>\n",
       "    .dataframe tbody tr th:only-of-type {\n",
       "        vertical-align: middle;\n",
       "    }\n",
       "\n",
       "    .dataframe tbody tr th {\n",
       "        vertical-align: top;\n",
       "    }\n",
       "\n",
       "    .dataframe thead th {\n",
       "        text-align: right;\n",
       "    }\n",
       "</style>\n",
       "<table border=\"1\" class=\"dataframe\">\n",
       "  <thead>\n",
       "    <tr style=\"text-align: right;\">\n",
       "      <th></th>\n",
       "      <th>BAS</th>\n",
       "      <th>WF1</th>\n",
       "      <th>split_idx</th>\n",
       "      <th>gene_set_seed</th>\n",
       "      <th>cell_type</th>\n",
       "    </tr>\n",
       "  </thead>\n",
       "  <tbody>\n",
       "    <tr>\n",
       "      <th>0</th>\n",
       "      <td>0.52993</td>\n",
       "      <td>0.666917</td>\n",
       "      <td>3</td>\n",
       "      <td>shap_disease_NOstudy</td>\n",
       "      <td>T_CD4_Naive</td>\n",
       "    </tr>\n",
       "  </tbody>\n",
       "</table>\n",
       "</div>"
      ],
      "text/plain": [
       "       BAS       WF1  split_idx         gene_set_seed    cell_type\n",
       "0  0.52993  0.666917          3  shap_disease_NOstudy  T_CD4_Naive"
      ]
     },
     "execution_count": 27,
     "metadata": {},
     "output_type": "execute_result"
    }
   ],
   "source": [
    "metrics_df = pd.DataFrame.from_dict([metrics_dict]).assign(split_idx=TEST_SPLIT_IDX, gene_set_seed=SEED, cell_type=CELL_TYPE)\n",
    "metrics_df"
   ]
  },
  {
   "cell_type": "code",
   "execution_count": 28,
   "id": "04c0d503",
   "metadata": {
    "execution": {
     "iopub.execute_input": "2025-05-14T16:13:53.442993Z",
     "iopub.status.busy": "2025-05-14T16:13:53.442759Z",
     "iopub.status.idle": "2025-05-14T16:13:53.456252Z",
     "shell.execute_reply": "2025-05-14T16:13:53.455896Z"
    },
    "papermill": {
     "duration": 0.023945,
     "end_time": "2025-05-14T16:13:53.457112",
     "exception": false,
     "start_time": "2025-05-14T16:13:53.433167",
     "status": "completed"
    },
    "tags": []
   },
   "outputs": [],
   "source": [
    "out_dir = here(f'03_downstream_analysis/08_gene_importance/xgboost_external_validation/xgboost_TopN_genes/results_{N_GENES}/metrics')\n",
    "\n",
    "if not os.path.exists(out_dir):\n",
    "    os.makedirs(out_dir)\n",
    "    \n",
    "metrics_df.to_csv(os.path.join(out_dir, f'{CELL_TYPE}_{SEED}_{TEST_SPLIT_IDX}_metrics.zip'))"
   ]
  }
 ],
 "metadata": {
  "kernelspec": {
   "display_name": "Python 3 (ipykernel)",
   "language": "python",
   "name": "python3"
  },
  "language_info": {
   "codemirror_mode": {
    "name": "ipython",
    "version": 3
   },
   "file_extension": ".py",
   "mimetype": "text/x-python",
   "name": "python",
   "nbconvert_exporter": "python",
   "pygments_lexer": "ipython3",
   "version": "3.12.5"
  },
  "papermill": {
   "default_parameters": {},
   "duration": 380.408252,
   "end_time": "2025-05-14T16:13:54.216902",
   "environment_variables": {},
   "exception": null,
   "input_path": "02_xgboost_fitting_external_20genes.ipynb",
   "output_path": "results_20/executed_notebooks/xgboost_fitting_external_CT_T_CD4_Naive_GS_shap_disease_NOstudy_seed3.ipynb",
   "parameters": {
    "CELL_TYPE": "T_CD4_Naive",
    "SEED": "shap_disease_NOstudy",
    "TEST_SPLIT_IDX": 3
   },
   "start_time": "2025-05-14T16:07:33.808650",
   "version": "2.6.0"
  }
 },
 "nbformat": 4,
 "nbformat_minor": 5
}