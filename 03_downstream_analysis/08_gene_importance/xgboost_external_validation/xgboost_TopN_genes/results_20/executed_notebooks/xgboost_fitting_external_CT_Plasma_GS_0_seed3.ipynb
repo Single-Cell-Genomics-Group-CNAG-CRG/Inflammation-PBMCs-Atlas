{
 "cells": [
  {
   "cell_type": "code",
   "execution_count": 1,
   "id": "5775836d",
   "metadata": {
    "editable": true,
    "execution": {
     "iopub.execute_input": "2025-05-15T15:57:52.439734Z",
     "iopub.status.busy": "2025-05-15T15:57:52.439303Z",
     "iopub.status.idle": "2025-05-15T15:57:52.442274Z",
     "shell.execute_reply": "2025-05-15T15:57:52.441900Z"
    },
    "papermill": {
     "duration": 0.010329,
     "end_time": "2025-05-15T15:57:52.443127",
     "exception": false,
     "start_time": "2025-05-15T15:57:52.432798",
     "status": "completed"
    },
    "slideshow": {
     "slide_type": ""
    },
    "tags": [
     "parameters"
    ]
   },
   "outputs": [],
   "source": [
    "CELL_TYPE = 'pDC'\n",
    "N_GENES: int = 20\n",
    "SEED = 'shap_studyID' #'disease_NOstudy' 'study_NOdisease' or 'int' or 'shap_studyID'\n",
    "TEST_SPLIT_IDX: int = 1 #[0,4]"
   ]
  },
  {
   "cell_type": "code",
   "execution_count": 2,
   "id": "2a810b5b",
   "metadata": {
    "execution": {
     "iopub.execute_input": "2025-05-15T15:57:52.453509Z",
     "iopub.status.busy": "2025-05-15T15:57:52.453378Z",
     "iopub.status.idle": "2025-05-15T15:57:52.455543Z",
     "shell.execute_reply": "2025-05-15T15:57:52.455171Z"
    },
    "papermill": {
     "duration": 0.008213,
     "end_time": "2025-05-15T15:57:52.456395",
     "exception": false,
     "start_time": "2025-05-15T15:57:52.448182",
     "status": "completed"
    },
    "tags": [
     "injected-parameters"
    ]
   },
   "outputs": [],
   "source": [
    "# Parameters\n",
    "CELL_TYPE = \"Plasma\"\n",
    "SEED = 0\n",
    "TEST_SPLIT_IDX = 3\n"
   ]
  },
  {
   "cell_type": "code",
   "execution_count": 3,
   "id": "f863c1e1",
   "metadata": {
    "execution": {
     "iopub.execute_input": "2025-05-15T15:57:52.466727Z",
     "iopub.status.busy": "2025-05-15T15:57:52.466597Z",
     "iopub.status.idle": "2025-05-15T15:57:52.468604Z",
     "shell.execute_reply": "2025-05-15T15:57:52.468314Z"
    },
    "papermill": {
     "duration": 0.008057,
     "end_time": "2025-05-15T15:57:52.469385",
     "exception": false,
     "start_time": "2025-05-15T15:57:52.461328",
     "status": "completed"
    },
    "tags": []
   },
   "outputs": [],
   "source": [
    "N_SPLITS: int = 5\n",
    "N_TRIALS: int = 50"
   ]
  },
  {
   "cell_type": "code",
   "execution_count": 4,
   "id": "f3b5b425",
   "metadata": {
    "execution": {
     "iopub.execute_input": "2025-05-15T15:57:52.480522Z",
     "iopub.status.busy": "2025-05-15T15:57:52.480395Z",
     "iopub.status.idle": "2025-05-15T15:57:53.921854Z",
     "shell.execute_reply": "2025-05-15T15:57:53.921341Z"
    },
    "papermill": {
     "duration": 1.448739,
     "end_time": "2025-05-15T15:57:53.922943",
     "exception": false,
     "start_time": "2025-05-15T15:57:52.474204",
     "status": "completed"
    },
    "tags": []
   },
   "outputs": [],
   "source": [
    "import os\n",
    "import sys\n",
    "from pyprojroot.here import here\n",
    "import pandas as pd\n",
    "import anndata as ad\n",
    "import numpy as np\n",
    "import math\n",
    "from sklearn.model_selection import StratifiedGroupKFold\n",
    "from sklearn.preprocessing import LabelEncoder\n",
    "from sklearn.metrics import f1_score\n",
    "import matplotlib.pyplot as plt\n",
    "import seaborn as sns\n",
    "from itertools import product\n",
    "from sklearn.metrics import balanced_accuracy_score, f1_score\n",
    "import optuna\n",
    "\n",
    "import joblib\n",
    "import pickle\n",
    "import datetime\n",
    "\n",
    "import collections\n",
    "\n",
    "import xgboost\n",
    "from sklearn.preprocessing import LabelEncoder\n",
    "\n",
    "import scipy.sparse as ssp\n",
    "import joblib\n",
    "\n",
    "from dotenv import load_dotenv"
   ]
  },
  {
   "cell_type": "code",
   "execution_count": 5,
   "id": "e42a6bc6",
   "metadata": {
    "execution": {
     "iopub.execute_input": "2025-05-15T15:57:53.934634Z",
     "iopub.status.busy": "2025-05-15T15:57:53.934087Z",
     "iopub.status.idle": "2025-05-15T15:57:53.940127Z",
     "shell.execute_reply": "2025-05-15T15:57:53.939829Z"
    },
    "papermill": {
     "duration": 0.012509,
     "end_time": "2025-05-15T15:57:53.940912",
     "exception": false,
     "start_time": "2025-05-15T15:57:53.928403",
     "status": "completed"
    },
    "tags": []
   },
   "outputs": [
    {
     "data": {
      "text/plain": [
       "True"
      ]
     },
     "execution_count": 5,
     "metadata": {},
     "output_type": "execute_result"
    }
   ],
   "source": [
    "load_dotenv()"
   ]
  },
  {
   "cell_type": "markdown",
   "id": "ddd0ee9e",
   "metadata": {
    "papermill": {
     "duration": 0.005822,
     "end_time": "2025-05-15T15:57:53.951742",
     "exception": false,
     "start_time": "2025-05-15T15:57:53.945920",
     "status": "completed"
    },
    "tags": []
   },
   "source": [
    "# LOAD DATASET"
   ]
  },
  {
   "cell_type": "code",
   "execution_count": 6,
   "id": "541e313d",
   "metadata": {
    "execution": {
     "iopub.execute_input": "2025-05-15T15:57:53.963320Z",
     "iopub.status.busy": "2025-05-15T15:57:53.962973Z",
     "iopub.status.idle": "2025-05-15T15:57:54.001880Z",
     "shell.execute_reply": "2025-05-15T15:57:54.001534Z"
    },
    "papermill": {
     "duration": 0.04539,
     "end_time": "2025-05-15T15:57:54.002886",
     "exception": false,
     "start_time": "2025-05-15T15:57:53.957496",
     "status": "completed"
    },
    "tags": []
   },
   "outputs": [],
   "source": [
    "train_adata = ad.read_h5ad(\n",
    "    here(f'03_downstream_analysis/08_gene_importance/xgboost_external_validation/xgboost_TopN_genes/data_cellTypes/EXTERNAL_{CELL_TYPE}.filtered.log1p.h5ad')\n",
    ")"
   ]
  },
  {
   "cell_type": "code",
   "execution_count": 7,
   "id": "c05cf89e",
   "metadata": {
    "execution": {
     "iopub.execute_input": "2025-05-15T15:57:54.014577Z",
     "iopub.status.busy": "2025-05-15T15:57:54.014146Z",
     "iopub.status.idle": "2025-05-15T15:57:54.023444Z",
     "shell.execute_reply": "2025-05-15T15:57:54.023119Z"
    },
    "papermill": {
     "duration": 0.01585,
     "end_time": "2025-05-15T15:57:54.024261",
     "exception": false,
     "start_time": "2025-05-15T15:57:54.008411",
     "status": "completed"
    },
    "tags": []
   },
   "outputs": [
    {
     "name": "stdout",
     "output_type": "stream",
     "text": [
      "['ENSG00000075945' 'ENSG00000128340' 'ENSG00000144746' 'ENSG00000153283'\n",
      " 'ENSG00000159958' 'ENSG00000026025' 'ENSG00000172183' 'ENSG00000138107'\n",
      " 'ENSG00000011600' 'ENSG00000235162' 'ENSG00000011422' 'ENSG00000137193'\n",
      " 'ENSG00000157873' 'ENSG00000107968' 'ENSG00000089327' 'ENSG00000132510'\n",
      " 'ENSG00000115884' 'ENSG00000075785' 'ENSG00000004468' 'ENSG00000140105'\n",
      " 'ENSG00000018280' 'ENSG00000118640' 'ENSG00000038427' 'ENSG00000170581'\n",
      " 'ENSG00000117450' 'ENSG00000127184' 'ENSG00000002549' 'ENSG00000105835'\n",
      " 'ENSG00000186395' 'ENSG00000158517' 'ENSG00000182866' 'ENSG00000142546'\n",
      " 'ENSG00000171700' 'ENSG00000173757' 'ENSG00000115415' 'ENSG00000129084'\n",
      " 'ENSG00000164136' 'ENSG00000123268' 'ENSG00000122359' 'ENSG00000134470'\n",
      " 'ENSG00000153234' 'ENSG00000002586' 'ENSG00000100453' 'ENSG00000198846'\n",
      " 'ENSG00000116171' 'ENSG00000141367' 'ENSG00000068831' 'ENSG00000167552'\n",
      " 'ENSG00000136738' 'ENSG00000118971' 'ENSG00000119535' 'ENSG00000162704'\n",
      " 'ENSG00000120742' 'ENSG00000126561' 'ENSG00000163563' 'ENSG00000160932'\n",
      " 'ENSG00000265972' 'ENSG00000172349' 'ENSG00000155465' 'ENSG00000106588'\n",
      " 'ENSG00000142208' 'ENSG00000184007' 'ENSG00000134539' 'ENSG00000177556'\n",
      " 'ENSG00000160888' 'ENSG00000127540' 'ENSG00000121552' 'ENSG00000075426'\n",
      " 'ENSG00000180644' 'ENSG00000204472' 'ENSG00000092820' 'ENSG00000206503'\n",
      " 'ENSG00000127022' 'ENSG00000241106' 'ENSG00000006125' 'ENSG00000106367'\n",
      " 'ENSG00000158769' 'ENSG00000105373' 'ENSG00000162434' 'ENSG00000170296'\n",
      " 'ENSG00000139192' 'ENSG00000152778' 'ENSG00000187608' 'ENSG00000179094'\n",
      " 'ENSG00000165527' 'ENSG00000204592' 'ENSG00000162739' 'ENSG00000166681'\n",
      " 'ENSG00000100365' 'ENSG00000228474' 'ENSG00000134352' 'ENSG00000185201'\n",
      " 'ENSG00000110395' 'ENSG00000196126' 'ENSG00000108561' 'ENSG00000133639'\n",
      " 'ENSG00000143543' 'ENSG00000136997' 'ENSG00000204642' 'ENSG00000125534'\n",
      " 'ENSG00000147168' 'ENSG00000117318' 'ENSG00000148908' 'ENSG00000197329'\n",
      " 'ENSG00000183172' 'ENSG00000113441' 'ENSG00000059728']\n"
     ]
    }
   ],
   "source": [
    "if SEED != 'all':\n",
    "    gene_subset = np.load(here(f'03_downstream_analysis/08_gene_importance/xgboost_external_validation/shap_gene_selection/gene_subsets_{N_GENES}/{CELL_TYPE}_{SEED}.npy'), allow_pickle=True)\n",
    "    train_adata = train_adata[:,gene_subset]\n",
    "    print(gene_subset)\n",
    "elif SEED == 'all':\n",
    "    print('Using all genes')\n",
    "else:\n",
    "    raise ValueError()"
   ]
  },
  {
   "cell_type": "code",
   "execution_count": 8,
   "id": "9c255264",
   "metadata": {
    "execution": {
     "iopub.execute_input": "2025-05-15T15:57:54.035672Z",
     "iopub.status.busy": "2025-05-15T15:57:54.035422Z",
     "iopub.status.idle": "2025-05-15T15:57:54.038310Z",
     "shell.execute_reply": "2025-05-15T15:57:54.038014Z"
    },
    "papermill": {
     "duration": 0.009243,
     "end_time": "2025-05-15T15:57:54.039084",
     "exception": false,
     "start_time": "2025-05-15T15:57:54.029841",
     "status": "completed"
    },
    "tags": []
   },
   "outputs": [
    {
     "data": {
      "text/plain": [
       "(542, 107)"
      ]
     },
     "execution_count": 8,
     "metadata": {},
     "output_type": "execute_result"
    }
   ],
   "source": [
    "train_adata.shape"
   ]
  },
  {
   "cell_type": "code",
   "execution_count": 9,
   "id": "ed614e54",
   "metadata": {
    "execution": {
     "iopub.execute_input": "2025-05-15T15:57:54.050001Z",
     "iopub.status.busy": "2025-05-15T15:57:54.049642Z",
     "iopub.status.idle": "2025-05-15T15:57:54.052958Z",
     "shell.execute_reply": "2025-05-15T15:57:54.052675Z"
    },
    "papermill": {
     "duration": 0.009608,
     "end_time": "2025-05-15T15:57:54.053729",
     "exception": false,
     "start_time": "2025-05-15T15:57:54.044121",
     "status": "completed"
    },
    "tags": []
   },
   "outputs": [
    {
     "data": {
      "text/plain": [
       "['RA', 'COVID', 'healthy', 'HIV', 'cirrhosis', 'CD', 'SLE', 'sepsis']\n",
       "Categories (8, object): ['CD', 'COVID', 'HIV', 'RA', 'SLE', 'cirrhosis', 'healthy', 'sepsis']"
      ]
     },
     "execution_count": 9,
     "metadata": {},
     "output_type": "execute_result"
    }
   ],
   "source": [
    "train_adata.obs.disease.unique()"
   ]
  },
  {
   "cell_type": "code",
   "execution_count": 10,
   "id": "48d38e01",
   "metadata": {
    "execution": {
     "iopub.execute_input": "2025-05-15T15:57:54.064477Z",
     "iopub.status.busy": "2025-05-15T15:57:54.064248Z",
     "iopub.status.idle": "2025-05-15T15:57:54.067704Z",
     "shell.execute_reply": "2025-05-15T15:57:54.067416Z"
    },
    "papermill": {
     "duration": 0.009707,
     "end_time": "2025-05-15T15:57:54.068505",
     "exception": false,
     "start_time": "2025-05-15T15:57:54.058798",
     "status": "completed"
    },
    "tags": []
   },
   "outputs": [
    {
     "data": {
      "text/plain": [
       "['SCGT00val_I0364_T0', 'SCGT00val_I036019_T0', 'SCGT00val_I036028_T0', 'SCGT00val_I036024_T0', 'SCGT00val_I036016_T0', ..., '10XGenomics_10XHC2_T0', '10XGenomics_10XHC3_T0', '10XGenomics_10XHC5_T0', '10XGenomics_10XHC7_T0', '10XGenomics_10XHC8_T0']\n",
       "Length: 74\n",
       "Categories (74, object): ['10XGenomics_10XHC1_T0', '10XGenomics_10XHC2_T0', '10XGenomics_10XHC3_T0', '10XGenomics_10XHC4_T0', ..., 'Savage2021_BRISL6_T0', 'Savage2021_BRISL7_T0', 'Savage2021_PIDA_T0', 'Savage2021_PIDB_T0']"
      ]
     },
     "execution_count": 10,
     "metadata": {},
     "output_type": "execute_result"
    }
   ],
   "source": [
    "train_adata.obs.sampleID.unique()"
   ]
  },
  {
   "cell_type": "code",
   "execution_count": 11,
   "id": "c0c41180",
   "metadata": {
    "execution": {
     "iopub.execute_input": "2025-05-15T15:57:54.086527Z",
     "iopub.status.busy": "2025-05-15T15:57:54.086299Z",
     "iopub.status.idle": "2025-05-15T15:57:54.114645Z",
     "shell.execute_reply": "2025-05-15T15:57:54.114321Z"
    },
    "papermill": {
     "duration": 0.041757,
     "end_time": "2025-05-15T15:57:54.115410",
     "exception": false,
     "start_time": "2025-05-15T15:57:54.073653",
     "status": "completed"
    },
    "tags": []
   },
   "outputs": [],
   "source": [
    "all_idxs = np.arange(train_adata.obs.shape[0])\n",
    "left_out_splits = [s[1] for s in StratifiedGroupKFold(n_splits=N_SPLITS).split(all_idxs, train_adata.obs.disease, train_adata.obs.sampleID)]"
   ]
  },
  {
   "cell_type": "code",
   "execution_count": 12,
   "id": "73ed88ea",
   "metadata": {
    "execution": {
     "iopub.execute_input": "2025-05-15T15:57:54.127695Z",
     "iopub.status.busy": "2025-05-15T15:57:54.127460Z",
     "iopub.status.idle": "2025-05-15T15:57:54.130690Z",
     "shell.execute_reply": "2025-05-15T15:57:54.130387Z"
    },
    "papermill": {
     "duration": 0.010231,
     "end_time": "2025-05-15T15:57:54.131451",
     "exception": false,
     "start_time": "2025-05-15T15:57:54.121220",
     "status": "completed"
    },
    "tags": []
   },
   "outputs": [
    {
     "data": {
      "text/plain": [
       "([0, 1, 2], 4, 3)"
      ]
     },
     "execution_count": 12,
     "metadata": {},
     "output_type": "execute_result"
    }
   ],
   "source": [
    "TRAIN_SPLIT_IDXS = [0,1,2,3,4]\n",
    "VAL_SPLIT_IDX = (TEST_SPLIT_IDX + 1) % 5\n",
    "TRAIN_SPLIT_IDXS.remove(TEST_SPLIT_IDX)\n",
    "TRAIN_SPLIT_IDXS.remove(VAL_SPLIT_IDX)\n",
    "TRAIN_SPLIT_IDXS, VAL_SPLIT_IDX, TEST_SPLIT_IDX"
   ]
  },
  {
   "cell_type": "code",
   "execution_count": 13,
   "id": "d03df4e7",
   "metadata": {
    "execution": {
     "iopub.execute_input": "2025-05-15T15:57:54.150275Z",
     "iopub.status.busy": "2025-05-15T15:57:54.150136Z",
     "iopub.status.idle": "2025-05-15T15:57:54.152467Z",
     "shell.execute_reply": "2025-05-15T15:57:54.152129Z"
    },
    "papermill": {
     "duration": 0.009306,
     "end_time": "2025-05-15T15:57:54.153213",
     "exception": false,
     "start_time": "2025-05-15T15:57:54.143907",
     "status": "completed"
    },
    "tags": []
   },
   "outputs": [],
   "source": [
    "train_idxs = np.concatenate([left_out_splits[idx] for idx in TRAIN_SPLIT_IDXS])\n",
    "val_idxs = left_out_splits[VAL_SPLIT_IDX]\n",
    "test_idxs = left_out_splits[TEST_SPLIT_IDX]"
   ]
  },
  {
   "cell_type": "markdown",
   "id": "c258100f",
   "metadata": {
    "papermill": {
     "duration": 0.005609,
     "end_time": "2025-05-15T15:57:54.164136",
     "exception": false,
     "start_time": "2025-05-15T15:57:54.158527",
     "status": "completed"
    },
    "tags": []
   },
   "source": [
    "### SUBSET DATASET INTO TRAIN/TEST/VAL SPLITS"
   ]
  },
  {
   "cell_type": "code",
   "execution_count": 14,
   "id": "f5748430",
   "metadata": {
    "execution": {
     "iopub.execute_input": "2025-05-15T15:57:54.191620Z",
     "iopub.status.busy": "2025-05-15T15:57:54.191393Z",
     "iopub.status.idle": "2025-05-15T15:57:54.197084Z",
     "shell.execute_reply": "2025-05-15T15:57:54.196798Z"
    },
    "papermill": {
     "duration": 0.028471,
     "end_time": "2025-05-15T15:57:54.197843",
     "exception": false,
     "start_time": "2025-05-15T15:57:54.169372",
     "status": "completed"
    },
    "tags": []
   },
   "outputs": [
    {
     "data": {
      "text/plain": [
       "((327, 107), (99, 107), (116, 107))"
      ]
     },
     "execution_count": 14,
     "metadata": {},
     "output_type": "execute_result"
    }
   ],
   "source": [
    "X_train = train_adata.X[train_idxs]\n",
    "X_test = train_adata.X[test_idxs]\n",
    "X_val = train_adata.X[val_idxs]\n",
    "X_train.shape, X_test.shape, X_val.shape"
   ]
  },
  {
   "cell_type": "code",
   "execution_count": 15,
   "id": "afb3a78b",
   "metadata": {
    "execution": {
     "iopub.execute_input": "2025-05-15T15:57:54.209927Z",
     "iopub.status.busy": "2025-05-15T15:57:54.209638Z",
     "iopub.status.idle": "2025-05-15T15:57:54.214091Z",
     "shell.execute_reply": "2025-05-15T15:57:54.213810Z"
    },
    "papermill": {
     "duration": 0.011649,
     "end_time": "2025-05-15T15:57:54.214861",
     "exception": false,
     "start_time": "2025-05-15T15:57:54.203212",
     "status": "completed"
    },
    "tags": []
   },
   "outputs": [
    {
     "data": {
      "text/plain": [
       "((327,), (99,), (116,))"
      ]
     },
     "execution_count": 15,
     "metadata": {},
     "output_type": "execute_result"
    }
   ],
   "source": [
    "y_train = train_adata.obs.iloc[train_idxs].disease.values.astype(str)\n",
    "y_test = train_adata.obs.iloc[test_idxs].disease.values.astype(str)\n",
    "y_val = train_adata.obs.iloc[val_idxs].disease.values.astype(str)\n",
    "y_train.shape, y_test.shape, y_val.shape"
   ]
  },
  {
   "cell_type": "code",
   "execution_count": 16,
   "id": "7d8fd444",
   "metadata": {
    "execution": {
     "iopub.execute_input": "2025-05-15T15:57:54.230523Z",
     "iopub.status.busy": "2025-05-15T15:57:54.230272Z",
     "iopub.status.idle": "2025-05-15T15:57:54.232978Z",
     "shell.execute_reply": "2025-05-15T15:57:54.232686Z"
    },
    "papermill": {
     "duration": 0.009203,
     "end_time": "2025-05-15T15:57:54.233730",
     "exception": false,
     "start_time": "2025-05-15T15:57:54.224527",
     "status": "completed"
    },
    "tags": []
   },
   "outputs": [],
   "source": [
    "lenc = LabelEncoder()\n",
    "y_train_enc = lenc.fit_transform(y_train)\n",
    "y_val_enc = lenc.transform(y_val)\n",
    "y_test_enc = lenc.transform(y_test)"
   ]
  },
  {
   "cell_type": "markdown",
   "id": "eec775e7",
   "metadata": {
    "papermill": {
     "duration": 0.005263,
     "end_time": "2025-05-15T15:57:54.244492",
     "exception": false,
     "start_time": "2025-05-15T15:57:54.239229",
     "status": "completed"
    },
    "tags": []
   },
   "source": [
    "### GENERATE F1 "
   ]
  },
  {
   "cell_type": "code",
   "execution_count": 17,
   "id": "a81fac70",
   "metadata": {
    "execution": {
     "iopub.execute_input": "2025-05-15T15:57:54.256382Z",
     "iopub.status.busy": "2025-05-15T15:57:54.256010Z",
     "iopub.status.idle": "2025-05-15T15:57:54.258244Z",
     "shell.execute_reply": "2025-05-15T15:57:54.257951Z"
    },
    "papermill": {
     "duration": 0.008949,
     "end_time": "2025-05-15T15:57:54.258980",
     "exception": false,
     "start_time": "2025-05-15T15:57:54.250031",
     "status": "completed"
    },
    "tags": []
   },
   "outputs": [],
   "source": [
    "def custom_f1_score(y_true, y_pred):\n",
    "    return -f1_score(y_true, y_pred.argmax(1), average='weighted')"
   ]
  },
  {
   "cell_type": "code",
   "execution_count": 18,
   "id": "c056266c",
   "metadata": {
    "execution": {
     "iopub.execute_input": "2025-05-15T15:57:54.270767Z",
     "iopub.status.busy": "2025-05-15T15:57:54.270464Z",
     "iopub.status.idle": "2025-05-15T15:57:54.274163Z",
     "shell.execute_reply": "2025-05-15T15:57:54.273832Z"
    },
    "papermill": {
     "duration": 0.010342,
     "end_time": "2025-05-15T15:57:54.274912",
     "exception": false,
     "start_time": "2025-05-15T15:57:54.264570",
     "status": "completed"
    },
    "tags": []
   },
   "outputs": [],
   "source": [
    "eval_metric=custom_f1_score\n",
    "eval_metric_name='custom_f1_score'\n",
    "\n",
    "def objective(trial):\n",
    "    params = {\n",
    "        'n_estimators': 1500,\n",
    "        'max_depth': trial.suggest_int('max_depth', 3, 20),\n",
    "        'min_child_weight': trial.suggest_int('min_child_weight', 1, 250),\n",
    "        'subsample': trial.suggest_float('subsample', 0.1, 1.0),\n",
    "        'colsample_bynode': trial.suggest_float('colsample_bynode', 0.1, 1.0),\n",
    "        'learning_rate': trial.suggest_float('learning_rate', 1e-3, 5e-1, log=True),\n",
    "    }\n",
    "    pruning_callback = optuna.integration.XGBoostPruningCallback(trial, f'validation_0-{eval_metric_name}')\n",
    "    es_callback = xgboost.callback.EarlyStopping(20, min_delta=0.001)\n",
    "    xgb = xgboost.XGBClassifier(\n",
    "        eval_metric=eval_metric,\n",
    "        callbacks=[pruning_callback, es_callback],\n",
    "        n_jobs=5,\n",
    "        **params\n",
    "    )\n",
    "    xgb.fit(\n",
    "        X_train, \n",
    "        y_train_enc, \n",
    "        verbose=0,\n",
    "        eval_set=[(X_val, y_val_enc)],\n",
    "    )\n",
    "    trial.set_user_attr('best_iteration', xgb.best_iteration)\n",
    "\n",
    "    return xgb.best_score"
   ]
  },
  {
   "cell_type": "code",
   "execution_count": 19,
   "id": "564ae9ba",
   "metadata": {
    "execution": {
     "iopub.execute_input": "2025-05-15T15:57:54.286125Z",
     "iopub.status.busy": "2025-05-15T15:57:54.285897Z",
     "iopub.status.idle": "2025-05-15T15:58:02.803800Z",
     "shell.execute_reply": "2025-05-15T15:58:02.803365Z"
    },
    "papermill": {
     "duration": 8.52432,
     "end_time": "2025-05-15T15:58:02.804700",
     "exception": false,
     "start_time": "2025-05-15T15:57:54.280380",
     "status": "completed"
    },
    "scrolled": true,
    "tags": []
   },
   "outputs": [
    {
     "name": "stderr",
     "output_type": "stream",
     "text": [
      "[I 2025-05-15 17:57:54,287] A new study created in memory with name: no-name-295036ba-5f58-4c7c-8a91-67793fa849fb\n"
     ]
    },
    {
     "name": "stderr",
     "output_type": "stream",
     "text": [
      "[I 2025-05-15 17:57:54,373] Trial 0 finished with value: -0.041688 and parameters: {'max_depth': 9, 'min_child_weight': 238, 'subsample': 0.7587945476302645, 'colsample_bynode': 0.6387926357773329, 'learning_rate': 0.0026368755339723046}. Best is trial 0 with value: -0.041688.\n"
     ]
    },
    {
     "name": "stderr",
     "output_type": "stream",
     "text": [
      "[I 2025-05-15 17:57:54,714] Trial 1 finished with value: -0.618405 and parameters: {'max_depth': 5, 'min_child_weight': 15, 'subsample': 0.8795585311974417, 'colsample_bynode': 0.6410035105688879, 'learning_rate': 0.08148293210105287}. Best is trial 1 with value: -0.618405.\n"
     ]
    },
    {
     "name": "stderr",
     "output_type": "stream",
     "text": [
      "[I 2025-05-15 17:57:54,841] Trial 2 finished with value: -0.041688 and parameters: {'max_depth': 3, 'min_child_weight': 243, 'subsample': 0.8491983767203796, 'colsample_bynode': 0.29110519961044856, 'learning_rate': 0.003095566460242371}. Best is trial 1 with value: -0.618405.\n"
     ]
    },
    {
     "name": "stderr",
     "output_type": "stream",
     "text": [
      "[I 2025-05-15 17:57:54,969] Trial 3 finished with value: -0.041688 and parameters: {'max_depth': 6, 'min_child_weight': 77, 'subsample': 0.5722807884690141, 'colsample_bynode': 0.48875051677790415, 'learning_rate': 0.006109683510122491}. Best is trial 1 with value: -0.618405.\n"
     ]
    },
    {
     "name": "stderr",
     "output_type": "stream",
     "text": [
      "[I 2025-05-15 17:57:55,096] Trial 4 finished with value: -0.041688 and parameters: {'max_depth': 14, 'min_child_weight': 35, 'subsample': 0.3629301836816964, 'colsample_bynode': 0.4297256589643226, 'learning_rate': 0.01701841881702917}. Best is trial 1 with value: -0.618405.\n"
     ]
    },
    {
     "name": "stderr",
     "output_type": "stream",
     "text": [
      "[I 2025-05-15 17:57:55,228] Trial 5 finished with value: -0.041688 and parameters: {'max_depth': 17, 'min_child_weight': 50, 'subsample': 0.5628109945722505, 'colsample_bynode': 0.6331731119758383, 'learning_rate': 0.0013346527038305934}. Best is trial 1 with value: -0.618405.\n"
     ]
    },
    {
     "name": "stderr",
     "output_type": "stream",
     "text": [
      "[I 2025-05-15 17:57:55,362] Trial 6 finished with value: -0.041688 and parameters: {'max_depth': 13, 'min_child_weight': 43, 'subsample': 0.1585464336867516, 'colsample_bynode': 0.9539969835279999, 'learning_rate': 0.4038423798071558}. Best is trial 1 with value: -0.618405.\n"
     ]
    },
    {
     "name": "stderr",
     "output_type": "stream",
     "text": [
      "[I 2025-05-15 17:57:55,495] Trial 7 finished with value: -0.041688 and parameters: {'max_depth': 17, 'min_child_weight': 77, 'subsample': 0.1879049026057455, 'colsample_bynode': 0.7158097238609412, 'learning_rate': 0.015415527060141935}. Best is trial 1 with value: -0.618405.\n"
     ]
    },
    {
     "name": "stderr",
     "output_type": "stream",
     "text": [
      "[I 2025-05-15 17:57:55,630] Trial 8 finished with value: -0.041688 and parameters: {'max_depth': 5, 'min_child_weight': 124, 'subsample': 0.13094966900369656, 'colsample_bynode': 0.9183883618709039, 'learning_rate': 0.004993895014755658}. Best is trial 1 with value: -0.618405.\n"
     ]
    },
    {
     "name": "stderr",
     "output_type": "stream",
     "text": [
      "[I 2025-05-15 17:57:55,763] Trial 9 finished with value: -0.041688 and parameters: {'max_depth': 14, 'min_child_weight': 78, 'subsample': 0.5680612190600297, 'colsample_bynode': 0.5920392514089517, 'learning_rate': 0.0031543990308330965}. Best is trial 1 with value: -0.618405.\n"
     ]
    },
    {
     "name": "stderr",
     "output_type": "stream",
     "text": [
      "[I 2025-05-15 17:57:56,048] Trial 10 pruned. Trial was pruned at iteration 21.\n"
     ]
    },
    {
     "name": "stderr",
     "output_type": "stream",
     "text": [
      "[I 2025-05-15 17:57:56,204] Trial 11 finished with value: -0.041688 and parameters: {'max_depth': 9, 'min_child_weight': 244, 'subsample': 0.7759918276625105, 'colsample_bynode': 0.7714157288516674, 'learning_rate': 0.06989197786403963}. Best is trial 1 with value: -0.618405.\n"
     ]
    },
    {
     "name": "stderr",
     "output_type": "stream",
     "text": [
      "[I 2025-05-15 17:57:56,356] Trial 12 finished with value: -0.041688 and parameters: {'max_depth': 9, 'min_child_weight': 187, 'subsample': 0.7810886706853567, 'colsample_bynode': 0.7908156974794198, 'learning_rate': 0.0852514223226423}. Best is trial 1 with value: -0.618405.\n"
     ]
    },
    {
     "name": "stderr",
     "output_type": "stream",
     "text": [
      "[I 2025-05-15 17:57:56,504] Trial 13 finished with value: -0.041688 and parameters: {'max_depth': 7, 'min_child_weight': 173, 'subsample': 0.9985711586801754, 'colsample_bynode': 0.3542314315933605, 'learning_rate': 0.05535376435186281}. Best is trial 1 with value: -0.618405.\n"
     ]
    },
    {
     "name": "stderr",
     "output_type": "stream",
     "text": [
      "[I 2025-05-15 17:57:56,654] Trial 14 finished with value: -0.041688 and parameters: {'max_depth': 4, 'min_child_weight': 140, 'subsample': 0.7252785471204157, 'colsample_bynode': 0.6251170185028069, 'learning_rate': 0.028603454172866558}. Best is trial 1 with value: -0.618405.\n"
     ]
    },
    {
     "name": "stderr",
     "output_type": "stream",
     "text": [
      "[I 2025-05-15 17:57:56,806] Trial 15 finished with value: -0.041688 and parameters: {'max_depth': 20, 'min_child_weight': 204, 'subsample': 0.6803150824063098, 'colsample_bynode': 0.8501087117926959, 'learning_rate': 0.001019745930894758}. Best is trial 1 with value: -0.618405.\n"
     ]
    },
    {
     "name": "stderr",
     "output_type": "stream",
     "text": [
      "[I 2025-05-15 17:57:56,955] Trial 16 finished with value: -0.041688 and parameters: {'max_depth': 8, 'min_child_weight': 121, 'subsample': 0.8625632182518037, 'colsample_bynode': 0.6970657857507844, 'learning_rate': 0.18961687234093502}. Best is trial 1 with value: -0.618405.\n"
     ]
    },
    {
     "name": "stderr",
     "output_type": "stream",
     "text": [
      "[I 2025-05-15 17:57:57,260] Trial 17 pruned. Trial was pruned at iteration 36.\n"
     ]
    },
    {
     "name": "stderr",
     "output_type": "stream",
     "text": [
      "[I 2025-05-15 17:57:57,408] Trial 18 finished with value: -0.041688 and parameters: {'max_depth': 12, 'min_child_weight': 156, 'subsample': 0.8964450909290851, 'colsample_bynode': 0.24900065324684006, 'learning_rate': 0.03544069195285818}. Best is trial 1 with value: -0.618405.\n"
     ]
    },
    {
     "name": "stderr",
     "output_type": "stream",
     "text": [
      "[I 2025-05-15 17:57:57,559] Trial 19 finished with value: -0.041688 and parameters: {'max_depth': 3, 'min_child_weight': 213, 'subsample': 0.6729427260151626, 'colsample_bynode': 0.436579935167426, 'learning_rate': 0.15796261807789636}. Best is trial 1 with value: -0.618405.\n"
     ]
    },
    {
     "name": "stderr",
     "output_type": "stream",
     "text": [
      "[I 2025-05-15 17:57:57,714] Trial 20 finished with value: -0.041688 and parameters: {'max_depth': 6, 'min_child_weight': 108, 'subsample': 0.9267723049850893, 'colsample_bynode': 0.8638570884100472, 'learning_rate': 0.0018743644531145694}. Best is trial 1 with value: -0.618405.\n"
     ]
    },
    {
     "name": "stderr",
     "output_type": "stream",
     "text": [
      "[I 2025-05-15 17:57:57,865] Trial 21 finished with value: -0.041688 and parameters: {'max_depth': 3, 'min_child_weight': 243, 'subsample': 0.8381380797607554, 'colsample_bynode': 0.2936648591260932, 'learning_rate': 0.0028697910354236454}. Best is trial 1 with value: -0.618405.\n"
     ]
    },
    {
     "name": "stderr",
     "output_type": "stream",
     "text": [
      "[I 2025-05-15 17:57:58,016] Trial 22 finished with value: -0.041688 and parameters: {'max_depth': 4, 'min_child_weight': 222, 'subsample': 0.7982423974446629, 'colsample_bynode': 0.18807836392607669, 'learning_rate': 0.008881632187327966}. Best is trial 1 with value: -0.618405.\n"
     ]
    },
    {
     "name": "stderr",
     "output_type": "stream",
     "text": [
      "[I 2025-05-15 17:57:58,170] Trial 23 finished with value: -0.041688 and parameters: {'max_depth': 6, 'min_child_weight': 232, 'subsample': 0.6638310221964546, 'colsample_bynode': 0.566298809027901, 'learning_rate': 0.0027719217784443364}. Best is trial 1 with value: -0.618405.\n"
     ]
    },
    {
     "name": "stderr",
     "output_type": "stream",
     "text": [
      "[I 2025-05-15 17:57:58,322] Trial 24 finished with value: -0.041688 and parameters: {'max_depth': 11, 'min_child_weight': 200, 'subsample': 0.9143238627389314, 'colsample_bynode': 0.3905434007926093, 'learning_rate': 0.004380634708425319}. Best is trial 1 with value: -0.618405.\n"
     ]
    },
    {
     "name": "stderr",
     "output_type": "stream",
     "text": [
      "[I 2025-05-15 17:57:58,477] Trial 25 finished with value: -0.041688 and parameters: {'max_depth': 5, 'min_child_weight': 169, 'subsample': 0.7535701176502512, 'colsample_bynode': 0.6875962023752984, 'learning_rate': 0.001751366603937793}. Best is trial 1 with value: -0.618405.\n"
     ]
    },
    {
     "name": "stderr",
     "output_type": "stream",
     "text": [
      "[I 2025-05-15 17:57:58,630] Trial 26 finished with value: -0.041688 and parameters: {'max_depth': 8, 'min_child_weight': 102, 'subsample': 0.4415145059632183, 'colsample_bynode': 0.5054559356236007, 'learning_rate': 0.009981136121838687}. Best is trial 1 with value: -0.618405.\n"
     ]
    },
    {
     "name": "stderr",
     "output_type": "stream",
     "text": [
      "[I 2025-05-15 17:57:58,783] Trial 27 finished with value: -0.041688 and parameters: {'max_depth': 3, 'min_child_weight': 250, 'subsample': 0.836332296140562, 'colsample_bynode': 0.3224983221137091, 'learning_rate': 0.33751469567913717}. Best is trial 1 with value: -0.618405.\n"
     ]
    },
    {
     "name": "stderr",
     "output_type": "stream",
     "text": [
      "[I 2025-05-15 17:57:58,934] Trial 28 finished with value: -0.041688 and parameters: {'max_depth': 7, 'min_child_weight': 196, 'subsample': 0.9395802867292293, 'colsample_bynode': 0.10419856137301844, 'learning_rate': 0.12287823020042174}. Best is trial 1 with value: -0.618405.\n"
     ]
    },
    {
     "name": "stderr",
     "output_type": "stream",
     "text": [
      "[I 2025-05-15 17:57:59,089] Trial 29 finished with value: -0.041688 and parameters: {'max_depth': 5, 'min_child_weight': 146, 'subsample': 0.6524726734756583, 'colsample_bynode': 0.46569851971471055, 'learning_rate': 0.040578771578418715}. Best is trial 1 with value: -0.618405.\n"
     ]
    },
    {
     "name": "stderr",
     "output_type": "stream",
     "text": [
      "[I 2025-05-15 17:57:59,245] Trial 30 finished with value: -0.041688 and parameters: {'max_depth': 10, 'min_child_weight': 224, 'subsample': 0.48408877480742074, 'colsample_bynode': 0.6525741718054756, 'learning_rate': 0.006846398548333891}. Best is trial 1 with value: -0.618405.\n"
     ]
    },
    {
     "name": "stderr",
     "output_type": "stream",
     "text": [
      "[I 2025-05-15 17:57:59,401] Trial 31 finished with value: -0.119292 and parameters: {'max_depth': 7, 'min_child_weight': 24, 'subsample': 0.3232833115120691, 'colsample_bynode': 0.5340951687982394, 'learning_rate': 0.018630252572623195}. Best is trial 1 with value: -0.618405.\n"
     ]
    },
    {
     "name": "stderr",
     "output_type": "stream",
     "text": [
      "[I 2025-05-15 17:57:59,555] Trial 32 pruned. Trial was pruned at iteration 21.\n"
     ]
    },
    {
     "name": "stderr",
     "output_type": "stream",
     "text": [
      "[I 2025-05-15 17:57:59,716] Trial 33 finished with value: -0.119292 and parameters: {'max_depth': 4, 'min_child_weight': 18, 'subsample': 0.35339784691902887, 'colsample_bynode': 0.772378839469825, 'learning_rate': 0.02397016963272627}. Best is trial 1 with value: -0.618405.\n"
     ]
    },
    {
     "name": "stderr",
     "output_type": "stream",
     "text": [
      "[I 2025-05-15 17:57:59,876] Trial 34 finished with value: -0.119292 and parameters: {'max_depth': 8, 'min_child_weight': 22, 'subsample': 0.29240534170625704, 'colsample_bynode': 0.7526453947294727, 'learning_rate': 0.02279438327753854}. Best is trial 1 with value: -0.618405.\n"
     ]
    },
    {
     "name": "stderr",
     "output_type": "stream",
     "text": [
      "[I 2025-05-15 17:58:00,041] Trial 35 finished with value: -0.119292 and parameters: {'max_depth': 6, 'min_child_weight': 22, 'subsample': 0.29978867259842573, 'colsample_bynode': 0.7644351726597581, 'learning_rate': 0.024446528116819945}. Best is trial 1 with value: -0.618405.\n"
     ]
    },
    {
     "name": "stderr",
     "output_type": "stream",
     "text": [
      "[I 2025-05-15 17:58:00,199] Trial 36 finished with value: -0.041688 and parameters: {'max_depth': 4, 'min_child_weight': 58, 'subsample': 0.22302075185446074, 'colsample_bynode': 0.7333531621313284, 'learning_rate': 0.012880344714907324}. Best is trial 1 with value: -0.618405.\n"
     ]
    },
    {
     "name": "stderr",
     "output_type": "stream",
     "text": [
      "[I 2025-05-15 17:58:00,360] Trial 37 finished with value: -0.041688 and parameters: {'max_depth': 8, 'min_child_weight': 60, 'subsample': 0.37066756334899276, 'colsample_bynode': 0.8397493494153583, 'learning_rate': 0.04766435123980736}. Best is trial 1 with value: -0.618405.\n"
     ]
    },
    {
     "name": "stderr",
     "output_type": "stream",
     "text": [
      "[I 2025-05-15 17:58:00,520] Trial 38 finished with value: -0.119292 and parameters: {'max_depth': 5, 'min_child_weight': 20, 'subsample': 0.25720599485408774, 'colsample_bynode': 0.5892447591338933, 'learning_rate': 0.02129225940977665}. Best is trial 1 with value: -0.618405.\n"
     ]
    },
    {
     "name": "stderr",
     "output_type": "stream",
     "text": [
      "[I 2025-05-15 17:58:00,700] Trial 39 finished with value: -0.041688 and parameters: {'max_depth': 10, 'min_child_weight': 37, 'subsample': 0.3510072628320127, 'colsample_bynode': 0.9045503244547972, 'learning_rate': 0.03196858533980793}. Best is trial 1 with value: -0.618405.\n"
     ]
    },
    {
     "name": "stderr",
     "output_type": "stream",
     "text": [
      "[I 2025-05-15 17:58:00,921] Trial 40 pruned. Trial was pruned at iteration 21.\n"
     ]
    },
    {
     "name": "stderr",
     "output_type": "stream",
     "text": [
      "[I 2025-05-15 17:58:01,105] Trial 41 finished with value: -0.119292 and parameters: {'max_depth': 6, 'min_child_weight': 25, 'subsample': 0.32798076771857604, 'colsample_bynode': 0.7808515085696967, 'learning_rate': 0.024249257042922162}. Best is trial 1 with value: -0.618405.\n"
     ]
    },
    {
     "name": "stderr",
     "output_type": "stream",
     "text": [
      "[I 2025-05-15 17:58:01,288] Trial 42 finished with value: -0.041688 and parameters: {'max_depth': 4, 'min_child_weight': 47, 'subsample': 0.3026002052660755, 'colsample_bynode': 0.7414592554456488, 'learning_rate': 0.07706009861470728}. Best is trial 1 with value: -0.618405.\n"
     ]
    },
    {
     "name": "stderr",
     "output_type": "stream",
     "text": [
      "[I 2025-05-15 17:58:01,469] Trial 43 finished with value: -0.041688 and parameters: {'max_depth': 5, 'min_child_weight': 31, 'subsample': 0.19619903667394745, 'colsample_bynode': 0.6490098716716075, 'learning_rate': 0.025915291303504718}. Best is trial 1 with value: -0.618405.\n"
     ]
    },
    {
     "name": "stderr",
     "output_type": "stream",
     "text": [
      "[I 2025-05-15 17:58:01,661] Trial 44 finished with value: -0.041688 and parameters: {'max_depth': 6, 'min_child_weight': 74, 'subsample': 0.4017739114317844, 'colsample_bynode': 0.8053974297446163, 'learning_rate': 0.059052318052313583}. Best is trial 1 with value: -0.618405.\n"
     ]
    },
    {
     "name": "stderr",
     "output_type": "stream",
     "text": [
      "[I 2025-05-15 17:58:01,856] Trial 45 finished with value: -0.041688 and parameters: {'max_depth': 8, 'min_child_weight': 13, 'subsample': 0.11521808474275219, 'colsample_bynode': 0.6726668466009901, 'learning_rate': 0.11118949701534248}. Best is trial 1 with value: -0.618405.\n"
     ]
    },
    {
     "name": "stderr",
     "output_type": "stream",
     "text": [
      "[I 2025-05-15 17:58:02,044] Trial 46 finished with value: -0.041688 and parameters: {'max_depth': 7, 'min_child_weight': 61, 'subsample': 0.24149889309531802, 'colsample_bynode': 0.6201459627184754, 'learning_rate': 0.018003108570603478}. Best is trial 1 with value: -0.618405.\n"
     ]
    },
    {
     "name": "stderr",
     "output_type": "stream",
     "text": [
      "[I 2025-05-15 17:58:02,339] Trial 47 pruned. Trial was pruned at iteration 21.\n"
     ]
    },
    {
     "name": "stderr",
     "output_type": "stream",
     "text": [
      "[I 2025-05-15 17:58:02,514] Trial 48 finished with value: -0.041688 and parameters: {'max_depth': 10, 'min_child_weight': 40, 'subsample': 0.30000106644878277, 'colsample_bynode': 0.7467125832982526, 'learning_rate': 0.0417488674376911}. Best is trial 1 with value: -0.618405.\n"
     ]
    },
    {
     "name": "stderr",
     "output_type": "stream",
     "text": [
      "[I 2025-05-15 17:58:02,708] Trial 49 pruned. Trial was pruned at iteration 21.\n"
     ]
    }
   ],
   "source": [
    "sampler = optuna.samplers.TPESampler(seed=42)\n",
    "study = optuna.create_study(direction='minimize', sampler=sampler)\n",
    "study.optimize(objective, n_trials=N_TRIALS, gc_after_trial=True)"
   ]
  },
  {
   "cell_type": "code",
   "execution_count": 20,
   "id": "88fdb246",
   "metadata": {
    "execution": {
     "iopub.execute_input": "2025-05-15T15:58:02.823144Z",
     "iopub.status.busy": "2025-05-15T15:58:02.822698Z",
     "iopub.status.idle": "2025-05-15T15:58:02.845901Z",
     "shell.execute_reply": "2025-05-15T15:58:02.845615Z"
    },
    "papermill": {
     "duration": 0.03278,
     "end_time": "2025-05-15T15:58:02.846689",
     "exception": false,
     "start_time": "2025-05-15T15:58:02.813909",
     "status": "completed"
    },
    "tags": []
   },
   "outputs": [
    {
     "data": {
      "text/plain": [
       "['/scratch_isilon/groups/singlecell/shared/projects/Inflammation-PBMCs-Atlas/03_downstream_analysis/08_gene_importance/xgboost_external_validation/xgboost_TopN_genes/results_20/study/Plasma_0_3_xgboost.pkl']"
      ]
     },
     "execution_count": 20,
     "metadata": {},
     "output_type": "execute_result"
    }
   ],
   "source": [
    "out_dir = here(f'03_downstream_analysis/08_gene_importance/xgboost_external_validation/xgboost_TopN_genes/results_{N_GENES}/study')\n",
    "\n",
    "if not os.path.exists(out_dir):\n",
    "    os.makedirs(out_dir)\n",
    "    \n",
    "joblib.dump(study,os.path.join(out_dir, f'{CELL_TYPE}_{SEED}_{TEST_SPLIT_IDX}_xgboost.pkl'))"
   ]
  },
  {
   "cell_type": "code",
   "execution_count": 21,
   "id": "d88dd971",
   "metadata": {
    "execution": {
     "iopub.execute_input": "2025-05-15T15:58:02.864488Z",
     "iopub.status.busy": "2025-05-15T15:58:02.864350Z",
     "iopub.status.idle": "2025-05-15T15:58:03.200883Z",
     "shell.execute_reply": "2025-05-15T15:58:03.200544Z"
    },
    "papermill": {
     "duration": 0.346776,
     "end_time": "2025-05-15T15:58:03.201796",
     "exception": false,
     "start_time": "2025-05-15T15:58:02.855020",
     "status": "completed"
    },
    "tags": []
   },
   "outputs": [
    {
     "data": {
      "text/html": [
       "<style>#sk-container-id-1 {\n",
       "  /* Definition of color scheme common for light and dark mode */\n",
       "  --sklearn-color-text: black;\n",
       "  --sklearn-color-line: gray;\n",
       "  /* Definition of color scheme for unfitted estimators */\n",
       "  --sklearn-color-unfitted-level-0: #fff5e6;\n",
       "  --sklearn-color-unfitted-level-1: #f6e4d2;\n",
       "  --sklearn-color-unfitted-level-2: #ffe0b3;\n",
       "  --sklearn-color-unfitted-level-3: chocolate;\n",
       "  /* Definition of color scheme for fitted estimators */\n",
       "  --sklearn-color-fitted-level-0: #f0f8ff;\n",
       "  --sklearn-color-fitted-level-1: #d4ebff;\n",
       "  --sklearn-color-fitted-level-2: #b3dbfd;\n",
       "  --sklearn-color-fitted-level-3: cornflowerblue;\n",
       "\n",
       "  /* Specific color for light theme */\n",
       "  --sklearn-color-text-on-default-background: var(--sg-text-color, var(--theme-code-foreground, var(--jp-content-font-color1, black)));\n",
       "  --sklearn-color-background: var(--sg-background-color, var(--theme-background, var(--jp-layout-color0, white)));\n",
       "  --sklearn-color-border-box: var(--sg-text-color, var(--theme-code-foreground, var(--jp-content-font-color1, black)));\n",
       "  --sklearn-color-icon: #696969;\n",
       "\n",
       "  @media (prefers-color-scheme: dark) {\n",
       "    /* Redefinition of color scheme for dark theme */\n",
       "    --sklearn-color-text-on-default-background: var(--sg-text-color, var(--theme-code-foreground, var(--jp-content-font-color1, white)));\n",
       "    --sklearn-color-background: var(--sg-background-color, var(--theme-background, var(--jp-layout-color0, #111)));\n",
       "    --sklearn-color-border-box: var(--sg-text-color, var(--theme-code-foreground, var(--jp-content-font-color1, white)));\n",
       "    --sklearn-color-icon: #878787;\n",
       "  }\n",
       "}\n",
       "\n",
       "#sk-container-id-1 {\n",
       "  color: var(--sklearn-color-text);\n",
       "}\n",
       "\n",
       "#sk-container-id-1 pre {\n",
       "  padding: 0;\n",
       "}\n",
       "\n",
       "#sk-container-id-1 input.sk-hidden--visually {\n",
       "  border: 0;\n",
       "  clip: rect(1px 1px 1px 1px);\n",
       "  clip: rect(1px, 1px, 1px, 1px);\n",
       "  height: 1px;\n",
       "  margin: -1px;\n",
       "  overflow: hidden;\n",
       "  padding: 0;\n",
       "  position: absolute;\n",
       "  width: 1px;\n",
       "}\n",
       "\n",
       "#sk-container-id-1 div.sk-dashed-wrapped {\n",
       "  border: 1px dashed var(--sklearn-color-line);\n",
       "  margin: 0 0.4em 0.5em 0.4em;\n",
       "  box-sizing: border-box;\n",
       "  padding-bottom: 0.4em;\n",
       "  background-color: var(--sklearn-color-background);\n",
       "}\n",
       "\n",
       "#sk-container-id-1 div.sk-container {\n",
       "  /* jupyter's `normalize.less` sets `[hidden] { display: none; }`\n",
       "     but bootstrap.min.css set `[hidden] { display: none !important; }`\n",
       "     so we also need the `!important` here to be able to override the\n",
       "     default hidden behavior on the sphinx rendered scikit-learn.org.\n",
       "     See: https://github.com/scikit-learn/scikit-learn/issues/21755 */\n",
       "  display: inline-block !important;\n",
       "  position: relative;\n",
       "}\n",
       "\n",
       "#sk-container-id-1 div.sk-text-repr-fallback {\n",
       "  display: none;\n",
       "}\n",
       "\n",
       "div.sk-parallel-item,\n",
       "div.sk-serial,\n",
       "div.sk-item {\n",
       "  /* draw centered vertical line to link estimators */\n",
       "  background-image: linear-gradient(var(--sklearn-color-text-on-default-background), var(--sklearn-color-text-on-default-background));\n",
       "  background-size: 2px 100%;\n",
       "  background-repeat: no-repeat;\n",
       "  background-position: center center;\n",
       "}\n",
       "\n",
       "/* Parallel-specific style estimator block */\n",
       "\n",
       "#sk-container-id-1 div.sk-parallel-item::after {\n",
       "  content: \"\";\n",
       "  width: 100%;\n",
       "  border-bottom: 2px solid var(--sklearn-color-text-on-default-background);\n",
       "  flex-grow: 1;\n",
       "}\n",
       "\n",
       "#sk-container-id-1 div.sk-parallel {\n",
       "  display: flex;\n",
       "  align-items: stretch;\n",
       "  justify-content: center;\n",
       "  background-color: var(--sklearn-color-background);\n",
       "  position: relative;\n",
       "}\n",
       "\n",
       "#sk-container-id-1 div.sk-parallel-item {\n",
       "  display: flex;\n",
       "  flex-direction: column;\n",
       "}\n",
       "\n",
       "#sk-container-id-1 div.sk-parallel-item:first-child::after {\n",
       "  align-self: flex-end;\n",
       "  width: 50%;\n",
       "}\n",
       "\n",
       "#sk-container-id-1 div.sk-parallel-item:last-child::after {\n",
       "  align-self: flex-start;\n",
       "  width: 50%;\n",
       "}\n",
       "\n",
       "#sk-container-id-1 div.sk-parallel-item:only-child::after {\n",
       "  width: 0;\n",
       "}\n",
       "\n",
       "/* Serial-specific style estimator block */\n",
       "\n",
       "#sk-container-id-1 div.sk-serial {\n",
       "  display: flex;\n",
       "  flex-direction: column;\n",
       "  align-items: center;\n",
       "  background-color: var(--sklearn-color-background);\n",
       "  padding-right: 1em;\n",
       "  padding-left: 1em;\n",
       "}\n",
       "\n",
       "\n",
       "/* Toggleable style: style used for estimator/Pipeline/ColumnTransformer box that is\n",
       "clickable and can be expanded/collapsed.\n",
       "- Pipeline and ColumnTransformer use this feature and define the default style\n",
       "- Estimators will overwrite some part of the style using the `sk-estimator` class\n",
       "*/\n",
       "\n",
       "/* Pipeline and ColumnTransformer style (default) */\n",
       "\n",
       "#sk-container-id-1 div.sk-toggleable {\n",
       "  /* Default theme specific background. It is overwritten whether we have a\n",
       "  specific estimator or a Pipeline/ColumnTransformer */\n",
       "  background-color: var(--sklearn-color-background);\n",
       "}\n",
       "\n",
       "/* Toggleable label */\n",
       "#sk-container-id-1 label.sk-toggleable__label {\n",
       "  cursor: pointer;\n",
       "  display: block;\n",
       "  width: 100%;\n",
       "  margin-bottom: 0;\n",
       "  padding: 0.5em;\n",
       "  box-sizing: border-box;\n",
       "  text-align: center;\n",
       "}\n",
       "\n",
       "#sk-container-id-1 label.sk-toggleable__label-arrow:before {\n",
       "  /* Arrow on the left of the label */\n",
       "  content: \"▸\";\n",
       "  float: left;\n",
       "  margin-right: 0.25em;\n",
       "  color: var(--sklearn-color-icon);\n",
       "}\n",
       "\n",
       "#sk-container-id-1 label.sk-toggleable__label-arrow:hover:before {\n",
       "  color: var(--sklearn-color-text);\n",
       "}\n",
       "\n",
       "/* Toggleable content - dropdown */\n",
       "\n",
       "#sk-container-id-1 div.sk-toggleable__content {\n",
       "  max-height: 0;\n",
       "  max-width: 0;\n",
       "  overflow: hidden;\n",
       "  text-align: left;\n",
       "  /* unfitted */\n",
       "  background-color: var(--sklearn-color-unfitted-level-0);\n",
       "}\n",
       "\n",
       "#sk-container-id-1 div.sk-toggleable__content.fitted {\n",
       "  /* fitted */\n",
       "  background-color: var(--sklearn-color-fitted-level-0);\n",
       "}\n",
       "\n",
       "#sk-container-id-1 div.sk-toggleable__content pre {\n",
       "  margin: 0.2em;\n",
       "  border-radius: 0.25em;\n",
       "  color: var(--sklearn-color-text);\n",
       "  /* unfitted */\n",
       "  background-color: var(--sklearn-color-unfitted-level-0);\n",
       "}\n",
       "\n",
       "#sk-container-id-1 div.sk-toggleable__content.fitted pre {\n",
       "  /* unfitted */\n",
       "  background-color: var(--sklearn-color-fitted-level-0);\n",
       "}\n",
       "\n",
       "#sk-container-id-1 input.sk-toggleable__control:checked~div.sk-toggleable__content {\n",
       "  /* Expand drop-down */\n",
       "  max-height: 200px;\n",
       "  max-width: 100%;\n",
       "  overflow: auto;\n",
       "}\n",
       "\n",
       "#sk-container-id-1 input.sk-toggleable__control:checked~label.sk-toggleable__label-arrow:before {\n",
       "  content: \"▾\";\n",
       "}\n",
       "\n",
       "/* Pipeline/ColumnTransformer-specific style */\n",
       "\n",
       "#sk-container-id-1 div.sk-label input.sk-toggleable__control:checked~label.sk-toggleable__label {\n",
       "  color: var(--sklearn-color-text);\n",
       "  background-color: var(--sklearn-color-unfitted-level-2);\n",
       "}\n",
       "\n",
       "#sk-container-id-1 div.sk-label.fitted input.sk-toggleable__control:checked~label.sk-toggleable__label {\n",
       "  background-color: var(--sklearn-color-fitted-level-2);\n",
       "}\n",
       "\n",
       "/* Estimator-specific style */\n",
       "\n",
       "/* Colorize estimator box */\n",
       "#sk-container-id-1 div.sk-estimator input.sk-toggleable__control:checked~label.sk-toggleable__label {\n",
       "  /* unfitted */\n",
       "  background-color: var(--sklearn-color-unfitted-level-2);\n",
       "}\n",
       "\n",
       "#sk-container-id-1 div.sk-estimator.fitted input.sk-toggleable__control:checked~label.sk-toggleable__label {\n",
       "  /* fitted */\n",
       "  background-color: var(--sklearn-color-fitted-level-2);\n",
       "}\n",
       "\n",
       "#sk-container-id-1 div.sk-label label.sk-toggleable__label,\n",
       "#sk-container-id-1 div.sk-label label {\n",
       "  /* The background is the default theme color */\n",
       "  color: var(--sklearn-color-text-on-default-background);\n",
       "}\n",
       "\n",
       "/* On hover, darken the color of the background */\n",
       "#sk-container-id-1 div.sk-label:hover label.sk-toggleable__label {\n",
       "  color: var(--sklearn-color-text);\n",
       "  background-color: var(--sklearn-color-unfitted-level-2);\n",
       "}\n",
       "\n",
       "/* Label box, darken color on hover, fitted */\n",
       "#sk-container-id-1 div.sk-label.fitted:hover label.sk-toggleable__label.fitted {\n",
       "  color: var(--sklearn-color-text);\n",
       "  background-color: var(--sklearn-color-fitted-level-2);\n",
       "}\n",
       "\n",
       "/* Estimator label */\n",
       "\n",
       "#sk-container-id-1 div.sk-label label {\n",
       "  font-family: monospace;\n",
       "  font-weight: bold;\n",
       "  display: inline-block;\n",
       "  line-height: 1.2em;\n",
       "}\n",
       "\n",
       "#sk-container-id-1 div.sk-label-container {\n",
       "  text-align: center;\n",
       "}\n",
       "\n",
       "/* Estimator-specific */\n",
       "#sk-container-id-1 div.sk-estimator {\n",
       "  font-family: monospace;\n",
       "  border: 1px dotted var(--sklearn-color-border-box);\n",
       "  border-radius: 0.25em;\n",
       "  box-sizing: border-box;\n",
       "  margin-bottom: 0.5em;\n",
       "  /* unfitted */\n",
       "  background-color: var(--sklearn-color-unfitted-level-0);\n",
       "}\n",
       "\n",
       "#sk-container-id-1 div.sk-estimator.fitted {\n",
       "  /* fitted */\n",
       "  background-color: var(--sklearn-color-fitted-level-0);\n",
       "}\n",
       "\n",
       "/* on hover */\n",
       "#sk-container-id-1 div.sk-estimator:hover {\n",
       "  /* unfitted */\n",
       "  background-color: var(--sklearn-color-unfitted-level-2);\n",
       "}\n",
       "\n",
       "#sk-container-id-1 div.sk-estimator.fitted:hover {\n",
       "  /* fitted */\n",
       "  background-color: var(--sklearn-color-fitted-level-2);\n",
       "}\n",
       "\n",
       "/* Specification for estimator info (e.g. \"i\" and \"?\") */\n",
       "\n",
       "/* Common style for \"i\" and \"?\" */\n",
       "\n",
       ".sk-estimator-doc-link,\n",
       "a:link.sk-estimator-doc-link,\n",
       "a:visited.sk-estimator-doc-link {\n",
       "  float: right;\n",
       "  font-size: smaller;\n",
       "  line-height: 1em;\n",
       "  font-family: monospace;\n",
       "  background-color: var(--sklearn-color-background);\n",
       "  border-radius: 1em;\n",
       "  height: 1em;\n",
       "  width: 1em;\n",
       "  text-decoration: none !important;\n",
       "  margin-left: 1ex;\n",
       "  /* unfitted */\n",
       "  border: var(--sklearn-color-unfitted-level-1) 1pt solid;\n",
       "  color: var(--sklearn-color-unfitted-level-1);\n",
       "}\n",
       "\n",
       ".sk-estimator-doc-link.fitted,\n",
       "a:link.sk-estimator-doc-link.fitted,\n",
       "a:visited.sk-estimator-doc-link.fitted {\n",
       "  /* fitted */\n",
       "  border: var(--sklearn-color-fitted-level-1) 1pt solid;\n",
       "  color: var(--sklearn-color-fitted-level-1);\n",
       "}\n",
       "\n",
       "/* On hover */\n",
       "div.sk-estimator:hover .sk-estimator-doc-link:hover,\n",
       ".sk-estimator-doc-link:hover,\n",
       "div.sk-label-container:hover .sk-estimator-doc-link:hover,\n",
       ".sk-estimator-doc-link:hover {\n",
       "  /* unfitted */\n",
       "  background-color: var(--sklearn-color-unfitted-level-3);\n",
       "  color: var(--sklearn-color-background);\n",
       "  text-decoration: none;\n",
       "}\n",
       "\n",
       "div.sk-estimator.fitted:hover .sk-estimator-doc-link.fitted:hover,\n",
       ".sk-estimator-doc-link.fitted:hover,\n",
       "div.sk-label-container:hover .sk-estimator-doc-link.fitted:hover,\n",
       ".sk-estimator-doc-link.fitted:hover {\n",
       "  /* fitted */\n",
       "  background-color: var(--sklearn-color-fitted-level-3);\n",
       "  color: var(--sklearn-color-background);\n",
       "  text-decoration: none;\n",
       "}\n",
       "\n",
       "/* Span, style for the box shown on hovering the info icon */\n",
       ".sk-estimator-doc-link span {\n",
       "  display: none;\n",
       "  z-index: 9999;\n",
       "  position: relative;\n",
       "  font-weight: normal;\n",
       "  right: .2ex;\n",
       "  padding: .5ex;\n",
       "  margin: .5ex;\n",
       "  width: min-content;\n",
       "  min-width: 20ex;\n",
       "  max-width: 50ex;\n",
       "  color: var(--sklearn-color-text);\n",
       "  box-shadow: 2pt 2pt 4pt #999;\n",
       "  /* unfitted */\n",
       "  background: var(--sklearn-color-unfitted-level-0);\n",
       "  border: .5pt solid var(--sklearn-color-unfitted-level-3);\n",
       "}\n",
       "\n",
       ".sk-estimator-doc-link.fitted span {\n",
       "  /* fitted */\n",
       "  background: var(--sklearn-color-fitted-level-0);\n",
       "  border: var(--sklearn-color-fitted-level-3);\n",
       "}\n",
       "\n",
       ".sk-estimator-doc-link:hover span {\n",
       "  display: block;\n",
       "}\n",
       "\n",
       "/* \"?\"-specific style due to the `<a>` HTML tag */\n",
       "\n",
       "#sk-container-id-1 a.estimator_doc_link {\n",
       "  float: right;\n",
       "  font-size: 1rem;\n",
       "  line-height: 1em;\n",
       "  font-family: monospace;\n",
       "  background-color: var(--sklearn-color-background);\n",
       "  border-radius: 1rem;\n",
       "  height: 1rem;\n",
       "  width: 1rem;\n",
       "  text-decoration: none;\n",
       "  /* unfitted */\n",
       "  color: var(--sklearn-color-unfitted-level-1);\n",
       "  border: var(--sklearn-color-unfitted-level-1) 1pt solid;\n",
       "}\n",
       "\n",
       "#sk-container-id-1 a.estimator_doc_link.fitted {\n",
       "  /* fitted */\n",
       "  border: var(--sklearn-color-fitted-level-1) 1pt solid;\n",
       "  color: var(--sklearn-color-fitted-level-1);\n",
       "}\n",
       "\n",
       "/* On hover */\n",
       "#sk-container-id-1 a.estimator_doc_link:hover {\n",
       "  /* unfitted */\n",
       "  background-color: var(--sklearn-color-unfitted-level-3);\n",
       "  color: var(--sklearn-color-background);\n",
       "  text-decoration: none;\n",
       "}\n",
       "\n",
       "#sk-container-id-1 a.estimator_doc_link.fitted:hover {\n",
       "  /* fitted */\n",
       "  background-color: var(--sklearn-color-fitted-level-3);\n",
       "}\n",
       "</style><div id=\"sk-container-id-1\" class=\"sk-top-container\"><div class=\"sk-text-repr-fallback\"><pre>XGBClassifier(base_score=None, booster=None, callbacks=None,\n",
       "              colsample_bylevel=None, colsample_bynode=0.6410035105688879,\n",
       "              colsample_bytree=None, device=None, early_stopping_rounds=None,\n",
       "              enable_categorical=False,\n",
       "              eval_metric=&lt;function custom_f1_score at 0x7fe3f8bfbf60&gt;,\n",
       "              feature_types=None, gamma=None, grow_policy=None,\n",
       "              importance_type=None, interaction_constraints=None,\n",
       "              learning_rate=0.08148293210105287, max_bin=None,\n",
       "              max_cat_threshold=None, max_cat_to_onehot=None,\n",
       "              max_delta_step=None, max_depth=5, max_leaves=None,\n",
       "              min_child_weight=15, missing=nan, monotone_constraints=None,\n",
       "              multi_strategy=None, n_estimators=43, n_jobs=None,\n",
       "              num_parallel_tree=None, objective=&#x27;multi:softprob&#x27;, ...)</pre><b>In a Jupyter environment, please rerun this cell to show the HTML representation or trust the notebook. <br />On GitHub, the HTML representation is unable to render, please try loading this page with nbviewer.org.</b></div><div class=\"sk-container\" hidden><div class=\"sk-item\"><div class=\"sk-estimator fitted sk-toggleable\"><input class=\"sk-toggleable__control sk-hidden--visually\" id=\"sk-estimator-id-1\" type=\"checkbox\" checked><label for=\"sk-estimator-id-1\" class=\"sk-toggleable__label fitted sk-toggleable__label-arrow fitted\">&nbsp;XGBClassifier<span class=\"sk-estimator-doc-link fitted\">i<span>Fitted</span></span></label><div class=\"sk-toggleable__content fitted\"><pre>XGBClassifier(base_score=None, booster=None, callbacks=None,\n",
       "              colsample_bylevel=None, colsample_bynode=0.6410035105688879,\n",
       "              colsample_bytree=None, device=None, early_stopping_rounds=None,\n",
       "              enable_categorical=False,\n",
       "              eval_metric=&lt;function custom_f1_score at 0x7fe3f8bfbf60&gt;,\n",
       "              feature_types=None, gamma=None, grow_policy=None,\n",
       "              importance_type=None, interaction_constraints=None,\n",
       "              learning_rate=0.08148293210105287, max_bin=None,\n",
       "              max_cat_threshold=None, max_cat_to_onehot=None,\n",
       "              max_delta_step=None, max_depth=5, max_leaves=None,\n",
       "              min_child_weight=15, missing=nan, monotone_constraints=None,\n",
       "              multi_strategy=None, n_estimators=43, n_jobs=None,\n",
       "              num_parallel_tree=None, objective=&#x27;multi:softprob&#x27;, ...)</pre></div> </div></div></div></div>"
      ],
      "text/plain": [
       "XGBClassifier(base_score=None, booster=None, callbacks=None,\n",
       "              colsample_bylevel=None, colsample_bynode=0.6410035105688879,\n",
       "              colsample_bytree=None, device=None, early_stopping_rounds=None,\n",
       "              enable_categorical=False,\n",
       "              eval_metric=<function custom_f1_score at 0x7fe3f8bfbf60>,\n",
       "              feature_types=None, gamma=None, grow_policy=None,\n",
       "              importance_type=None, interaction_constraints=None,\n",
       "              learning_rate=0.08148293210105287, max_bin=None,\n",
       "              max_cat_threshold=None, max_cat_to_onehot=None,\n",
       "              max_delta_step=None, max_depth=5, max_leaves=None,\n",
       "              min_child_weight=15, missing=nan, monotone_constraints=None,\n",
       "              multi_strategy=None, n_estimators=43, n_jobs=None,\n",
       "              num_parallel_tree=None, objective='multi:softprob', ...)"
      ]
     },
     "execution_count": 21,
     "metadata": {},
     "output_type": "execute_result"
    }
   ],
   "source": [
    "n_estimators = int(study.best_trial.user_attrs['best_iteration']*1.2)\n",
    "xgb = xgboost.XGBClassifier(\n",
    "        eval_metric=eval_metric,\n",
    "        n_estimators=n_estimators,\n",
    "        **study.best_trial.params\n",
    "    )\n",
    "xgb.fit(\n",
    "    ssp.vstack((X_train, X_val)), \n",
    "    np.concatenate((y_train_enc, y_val_enc)),\n",
    "    verbose=1,\n",
    ")"
   ]
  },
  {
   "cell_type": "code",
   "execution_count": 22,
   "id": "af8d79b1",
   "metadata": {
    "execution": {
     "iopub.execute_input": "2025-05-15T15:58:03.220876Z",
     "iopub.status.busy": "2025-05-15T15:58:03.220670Z",
     "iopub.status.idle": "2025-05-15T15:58:03.236727Z",
     "shell.execute_reply": "2025-05-15T15:58:03.236417Z"
    },
    "papermill": {
     "duration": 0.026307,
     "end_time": "2025-05-15T15:58:03.237603",
     "exception": false,
     "start_time": "2025-05-15T15:58:03.211296",
     "status": "completed"
    },
    "tags": []
   },
   "outputs": [
    {
     "data": {
      "text/plain": [
       "['/scratch_isilon/groups/singlecell/shared/projects/Inflammation-PBMCs-Atlas/03_downstream_analysis/08_gene_importance/xgboost_external_validation/xgboost_TopN_genes/results_20/best_model/Plasma_0_3_xgb.json']"
      ]
     },
     "execution_count": 22,
     "metadata": {},
     "output_type": "execute_result"
    }
   ],
   "source": [
    "out_dir = here(f'03_downstream_analysis/08_gene_importance/xgboost_external_validation/xgboost_TopN_genes/results_{N_GENES}/best_model')\n",
    "\n",
    "if not os.path.exists(out_dir):\n",
    "    os.makedirs(out_dir)\n",
    "    \n",
    "joblib.dump(xgb, os.path.join(out_dir, f'{CELL_TYPE}_{SEED}_{TEST_SPLIT_IDX}_xgb.json'))"
   ]
  },
  {
   "cell_type": "code",
   "execution_count": 23,
   "id": "88d98153",
   "metadata": {
    "execution": {
     "iopub.execute_input": "2025-05-15T15:58:03.255864Z",
     "iopub.status.busy": "2025-05-15T15:58:03.255618Z",
     "iopub.status.idle": "2025-05-15T15:58:03.260164Z",
     "shell.execute_reply": "2025-05-15T15:58:03.259867Z"
    },
    "papermill": {
     "duration": 0.018211,
     "end_time": "2025-05-15T15:58:03.264809",
     "exception": false,
     "start_time": "2025-05-15T15:58:03.246598",
     "status": "completed"
    },
    "tags": []
   },
   "outputs": [],
   "source": [
    "df_pred_test = pd.DataFrame(dict(\n",
    "    cell_id=train_adata.obs.iloc[test_idxs].index.values,\n",
    "    y_true=y_test, \n",
    "    y_true_code=y_test_enc, \n",
    "    y_pred=xgb.predict(X_test))).set_index('cell_id')"
   ]
  },
  {
   "cell_type": "code",
   "execution_count": 24,
   "id": "66c8043a",
   "metadata": {
    "execution": {
     "iopub.execute_input": "2025-05-15T15:58:03.282856Z",
     "iopub.status.busy": "2025-05-15T15:58:03.282652Z",
     "iopub.status.idle": "2025-05-15T15:58:03.310074Z",
     "shell.execute_reply": "2025-05-15T15:58:03.309690Z"
    },
    "papermill": {
     "duration": 0.037227,
     "end_time": "2025-05-15T15:58:03.310912",
     "exception": false,
     "start_time": "2025-05-15T15:58:03.273685",
     "status": "completed"
    },
    "tags": []
   },
   "outputs": [],
   "source": [
    "out_dir = here(f'03_downstream_analysis/08_gene_importance/xgboost_external_validation/xgboost_TopN_genes/results_{N_GENES}/predictions')\n",
    "\n",
    "if not os.path.exists(out_dir):\n",
    "    os.makedirs(out_dir)\n",
    "    \n",
    "df_pred_test.to_csv(os.path.join(out_dir, f'{CELL_TYPE}_{SEED}_{TEST_SPLIT_IDX}_pred_test.zip'))"
   ]
  },
  {
   "cell_type": "code",
   "execution_count": 25,
   "id": "25fc192a",
   "metadata": {
    "execution": {
     "iopub.execute_input": "2025-05-15T15:58:03.329689Z",
     "iopub.status.busy": "2025-05-15T15:58:03.329444Z",
     "iopub.status.idle": "2025-05-15T15:58:03.334835Z",
     "shell.execute_reply": "2025-05-15T15:58:03.334537Z"
    },
    "papermill": {
     "duration": 0.015779,
     "end_time": "2025-05-15T15:58:03.335619",
     "exception": false,
     "start_time": "2025-05-15T15:58:03.319840",
     "status": "completed"
    },
    "tags": []
   },
   "outputs": [],
   "source": [
    "metrics_dict = dict(\n",
    "    BAS=balanced_accuracy_score(y_true=df_pred_test.y_true_code, y_pred=df_pred_test.y_pred), WF1=f1_score(y_true=df_pred_test.y_true_code, y_pred=df_pred_test.y_pred,average='weighted'))"
   ]
  },
  {
   "cell_type": "code",
   "execution_count": 26,
   "id": "f63ea35f",
   "metadata": {
    "execution": {
     "iopub.execute_input": "2025-05-15T15:58:03.354011Z",
     "iopub.status.busy": "2025-05-15T15:58:03.353719Z",
     "iopub.status.idle": "2025-05-15T15:58:03.356398Z",
     "shell.execute_reply": "2025-05-15T15:58:03.356102Z"
    },
    "papermill": {
     "duration": 0.012768,
     "end_time": "2025-05-15T15:58:03.357196",
     "exception": false,
     "start_time": "2025-05-15T15:58:03.344428",
     "status": "completed"
    },
    "tags": []
   },
   "outputs": [
    {
     "data": {
      "text/plain": [
       "{'BAS': 0.3383907758907759, 'WF1': 0.5882387386223704}"
      ]
     },
     "execution_count": 26,
     "metadata": {},
     "output_type": "execute_result"
    }
   ],
   "source": [
    "metrics_dict"
   ]
  },
  {
   "cell_type": "code",
   "execution_count": 27,
   "id": "4a747286",
   "metadata": {
    "execution": {
     "iopub.execute_input": "2025-05-15T15:58:03.375471Z",
     "iopub.status.busy": "2025-05-15T15:58:03.375256Z",
     "iopub.status.idle": "2025-05-15T15:58:03.411050Z",
     "shell.execute_reply": "2025-05-15T15:58:03.410760Z"
    },
    "papermill": {
     "duration": 0.045935,
     "end_time": "2025-05-15T15:58:03.411855",
     "exception": false,
     "start_time": "2025-05-15T15:58:03.365920",
     "status": "completed"
    },
    "tags": []
   },
   "outputs": [
    {
     "data": {
      "text/html": [
       "<div>\n",
       "<style scoped>\n",
       "    .dataframe tbody tr th:only-of-type {\n",
       "        vertical-align: middle;\n",
       "    }\n",
       "\n",
       "    .dataframe tbody tr th {\n",
       "        vertical-align: top;\n",
       "    }\n",
       "\n",
       "    .dataframe thead th {\n",
       "        text-align: right;\n",
       "    }\n",
       "</style>\n",
       "<table border=\"1\" class=\"dataframe\">\n",
       "  <thead>\n",
       "    <tr style=\"text-align: right;\">\n",
       "      <th></th>\n",
       "      <th>BAS</th>\n",
       "      <th>WF1</th>\n",
       "      <th>split_idx</th>\n",
       "      <th>gene_set_seed</th>\n",
       "      <th>cell_type</th>\n",
       "    </tr>\n",
       "  </thead>\n",
       "  <tbody>\n",
       "    <tr>\n",
       "      <th>0</th>\n",
       "      <td>0.338391</td>\n",
       "      <td>0.588239</td>\n",
       "      <td>3</td>\n",
       "      <td>0</td>\n",
       "      <td>Plasma</td>\n",
       "    </tr>\n",
       "  </tbody>\n",
       "</table>\n",
       "</div>"
      ],
      "text/plain": [
       "        BAS       WF1  split_idx  gene_set_seed cell_type\n",
       "0  0.338391  0.588239          3              0    Plasma"
      ]
     },
     "execution_count": 27,
     "metadata": {},
     "output_type": "execute_result"
    }
   ],
   "source": [
    "metrics_df = pd.DataFrame.from_dict([metrics_dict]).assign(split_idx=TEST_SPLIT_IDX, gene_set_seed=SEED, cell_type=CELL_TYPE)\n",
    "metrics_df"
   ]
  },
  {
   "cell_type": "code",
   "execution_count": 28,
   "id": "92c76d2a",
   "metadata": {
    "execution": {
     "iopub.execute_input": "2025-05-15T15:58:03.430896Z",
     "iopub.status.busy": "2025-05-15T15:58:03.430646Z",
     "iopub.status.idle": "2025-05-15T15:58:03.441116Z",
     "shell.execute_reply": "2025-05-15T15:58:03.440766Z"
    },
    "papermill": {
     "duration": 0.020831,
     "end_time": "2025-05-15T15:58:03.441886",
     "exception": false,
     "start_time": "2025-05-15T15:58:03.421055",
     "status": "completed"
    },
    "tags": []
   },
   "outputs": [],
   "source": [
    "out_dir = here(f'03_downstream_analysis/08_gene_importance/xgboost_external_validation/xgboost_TopN_genes/results_{N_GENES}/metrics')\n",
    "\n",
    "if not os.path.exists(out_dir):\n",
    "    os.makedirs(out_dir)\n",
    "    \n",
    "metrics_df.to_csv(os.path.join(out_dir, f'{CELL_TYPE}_{SEED}_{TEST_SPLIT_IDX}_metrics.zip'))"
   ]
  }
 ],
 "metadata": {
  "kernelspec": {
   "display_name": "Python 3 (ipykernel)",
   "language": "python",
   "name": "python3"
  },
  "language_info": {
   "codemirror_mode": {
    "name": "ipython",
    "version": 3
   },
   "file_extension": ".py",
   "mimetype": "text/x-python",
   "name": "python",
   "nbconvert_exporter": "python",
   "pygments_lexer": "ipython3",
   "version": "3.12.5"
  },
  "papermill": {
   "default_parameters": {},
   "duration": 12.826077,
   "end_time": "2025-05-15T15:58:04.067646",
   "environment_variables": {},
   "exception": null,
   "input_path": "02_xgboost_fitting_external_20genes.ipynb",
   "output_path": "results_20/executed_notebooks/xgboost_fitting_external_CT_Plasma_GS_0_seed3.ipynb",
   "parameters": {
    "CELL_TYPE": "Plasma",
    "SEED": 0,
    "TEST_SPLIT_IDX": 3
   },
   "start_time": "2025-05-15T15:57:51.241569",
   "version": "2.6.0"
  }
 },
 "nbformat": 4,
 "nbformat_minor": 5
}