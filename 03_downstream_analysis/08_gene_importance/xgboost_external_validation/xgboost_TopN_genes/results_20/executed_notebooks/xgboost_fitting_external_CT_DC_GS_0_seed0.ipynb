{
 "cells": [
  {
   "cell_type": "code",
   "execution_count": 1,
   "id": "72223aff",
   "metadata": {
    "editable": true,
    "execution": {
     "iopub.execute_input": "2025-05-15T15:57:44.349775Z",
     "iopub.status.busy": "2025-05-15T15:57:44.349450Z",
     "iopub.status.idle": "2025-05-15T15:57:44.352059Z",
     "shell.execute_reply": "2025-05-15T15:57:44.351752Z"
    },
    "papermill": {
     "duration": 0.010426,
     "end_time": "2025-05-15T15:57:44.352874",
     "exception": false,
     "start_time": "2025-05-15T15:57:44.342448",
     "status": "completed"
    },
    "slideshow": {
     "slide_type": ""
    },
    "tags": [
     "parameters"
    ]
   },
   "outputs": [],
   "source": [
    "CELL_TYPE = 'pDC'\n",
    "N_GENES: int = 20\n",
    "SEED = 'shap_studyID' #'disease_NOstudy' 'study_NOdisease' or 'int' or 'shap_studyID'\n",
    "TEST_SPLIT_IDX: int = 1 #[0,4]"
   ]
  },
  {
   "cell_type": "code",
   "execution_count": 2,
   "id": "053c50bc",
   "metadata": {
    "execution": {
     "iopub.execute_input": "2025-05-15T15:57:44.364238Z",
     "iopub.status.busy": "2025-05-15T15:57:44.363991Z",
     "iopub.status.idle": "2025-05-15T15:57:44.366152Z",
     "shell.execute_reply": "2025-05-15T15:57:44.365849Z"
    },
    "papermill": {
     "duration": 0.00871,
     "end_time": "2025-05-15T15:57:44.366907",
     "exception": false,
     "start_time": "2025-05-15T15:57:44.358197",
     "status": "completed"
    },
    "tags": [
     "injected-parameters"
    ]
   },
   "outputs": [],
   "source": [
    "# Parameters\n",
    "CELL_TYPE = \"DC\"\n",
    "SEED = 0\n",
    "TEST_SPLIT_IDX = 0\n"
   ]
  },
  {
   "cell_type": "code",
   "execution_count": 3,
   "id": "3a837dd6",
   "metadata": {
    "execution": {
     "iopub.execute_input": "2025-05-15T15:57:44.377638Z",
     "iopub.status.busy": "2025-05-15T15:57:44.377358Z",
     "iopub.status.idle": "2025-05-15T15:57:44.379315Z",
     "shell.execute_reply": "2025-05-15T15:57:44.379021Z"
    },
    "papermill": {
     "duration": 0.008135,
     "end_time": "2025-05-15T15:57:44.380072",
     "exception": false,
     "start_time": "2025-05-15T15:57:44.371937",
     "status": "completed"
    },
    "tags": []
   },
   "outputs": [],
   "source": [
    "N_SPLITS: int = 5\n",
    "N_TRIALS: int = 50"
   ]
  },
  {
   "cell_type": "code",
   "execution_count": 4,
   "id": "aeb4dffa",
   "metadata": {
    "execution": {
     "iopub.execute_input": "2025-05-15T15:57:44.391542Z",
     "iopub.status.busy": "2025-05-15T15:57:44.391370Z",
     "iopub.status.idle": "2025-05-15T15:57:45.749593Z",
     "shell.execute_reply": "2025-05-15T15:57:45.749201Z"
    },
    "papermill": {
     "duration": 1.365946,
     "end_time": "2025-05-15T15:57:45.750982",
     "exception": false,
     "start_time": "2025-05-15T15:57:44.385036",
     "status": "completed"
    },
    "tags": []
   },
   "outputs": [],
   "source": [
    "import os\n",
    "import sys\n",
    "from pyprojroot.here import here\n",
    "import pandas as pd\n",
    "import anndata as ad\n",
    "import numpy as np\n",
    "import math\n",
    "from sklearn.model_selection import StratifiedGroupKFold\n",
    "from sklearn.preprocessing import LabelEncoder\n",
    "from sklearn.metrics import f1_score\n",
    "import matplotlib.pyplot as plt\n",
    "import seaborn as sns\n",
    "from itertools import product\n",
    "from sklearn.metrics import balanced_accuracy_score, f1_score\n",
    "import optuna\n",
    "\n",
    "import joblib\n",
    "import pickle\n",
    "import datetime\n",
    "\n",
    "import collections\n",
    "\n",
    "import xgboost\n",
    "from sklearn.preprocessing import LabelEncoder\n",
    "\n",
    "import scipy.sparse as ssp\n",
    "import joblib\n",
    "\n",
    "from dotenv import load_dotenv"
   ]
  },
  {
   "cell_type": "code",
   "execution_count": 5,
   "id": "ea4fc5ac",
   "metadata": {
    "execution": {
     "iopub.execute_input": "2025-05-15T15:57:45.763698Z",
     "iopub.status.busy": "2025-05-15T15:57:45.763333Z",
     "iopub.status.idle": "2025-05-15T15:57:45.768798Z",
     "shell.execute_reply": "2025-05-15T15:57:45.768500Z"
    },
    "papermill": {
     "duration": 0.012691,
     "end_time": "2025-05-15T15:57:45.769559",
     "exception": false,
     "start_time": "2025-05-15T15:57:45.756868",
     "status": "completed"
    },
    "tags": []
   },
   "outputs": [
    {
     "data": {
      "text/plain": [
       "True"
      ]
     },
     "execution_count": 5,
     "metadata": {},
     "output_type": "execute_result"
    }
   ],
   "source": [
    "load_dotenv()"
   ]
  },
  {
   "cell_type": "markdown",
   "id": "122ff2a7",
   "metadata": {
    "papermill": {
     "duration": 0.005193,
     "end_time": "2025-05-15T15:57:45.779932",
     "exception": false,
     "start_time": "2025-05-15T15:57:45.774739",
     "status": "completed"
    },
    "tags": []
   },
   "source": [
    "# LOAD DATASET"
   ]
  },
  {
   "cell_type": "code",
   "execution_count": 6,
   "id": "04cf31ac",
   "metadata": {
    "execution": {
     "iopub.execute_input": "2025-05-15T15:57:45.791162Z",
     "iopub.status.busy": "2025-05-15T15:57:45.790822Z",
     "iopub.status.idle": "2025-05-15T15:57:45.912380Z",
     "shell.execute_reply": "2025-05-15T15:57:45.911834Z"
    },
    "papermill": {
     "duration": 0.128709,
     "end_time": "2025-05-15T15:57:45.913479",
     "exception": false,
     "start_time": "2025-05-15T15:57:45.784770",
     "status": "completed"
    },
    "tags": []
   },
   "outputs": [],
   "source": [
    "train_adata = ad.read_h5ad(\n",
    "    here(f'03_downstream_analysis/08_gene_importance/xgboost_external_validation/xgboost_TopN_genes/data_cellTypes/EXTERNAL_{CELL_TYPE}.filtered.log1p.h5ad')\n",
    ")"
   ]
  },
  {
   "cell_type": "code",
   "execution_count": 7,
   "id": "c81c2339",
   "metadata": {
    "execution": {
     "iopub.execute_input": "2025-05-15T15:57:45.925837Z",
     "iopub.status.busy": "2025-05-15T15:57:45.925158Z",
     "iopub.status.idle": "2025-05-15T15:57:45.937956Z",
     "shell.execute_reply": "2025-05-15T15:57:45.937425Z"
    },
    "papermill": {
     "duration": 0.019633,
     "end_time": "2025-05-15T15:57:45.938846",
     "exception": false,
     "start_time": "2025-05-15T15:57:45.919213",
     "status": "completed"
    },
    "tags": []
   },
   "outputs": [
    {
     "name": "stdout",
     "output_type": "stream",
     "text": [
      "['ENSG00000170296' 'ENSG00000116815' 'ENSG00000153234' 'ENSG00000118971'\n",
      " 'ENSG00000002586' 'ENSG00000183172' 'ENSG00000141574' 'ENSG00000075234'\n",
      " 'ENSG00000187608' 'ENSG00000169385' 'ENSG00000117602' 'ENSG00000165527'\n",
      " 'ENSG00000099985' 'ENSG00000260314' 'ENSG00000160710' 'ENSG00000127507'\n",
      " 'ENSG00000127951' 'ENSG00000171051' 'ENSG00000187116' 'ENSG00000188313'\n",
      " 'ENSG00000170017' 'ENSG00000177556' 'ENSG00000042980' 'ENSG00000066336'\n",
      " 'ENSG00000137331' 'ENSG00000167283' 'ENSG00000076662' 'ENSG00000172936'\n",
      " 'ENSG00000135404' 'ENSG00000143575' 'ENSG00000119535' 'ENSG00000141506'\n",
      " 'ENSG00000155380' 'ENSG00000163659' 'ENSG00000136738' 'ENSG00000100453'\n",
      " 'ENSG00000107223' 'ENSG00000109787' 'ENSG00000010327' 'ENSG00000171791'\n",
      " 'ENSG00000123416' 'ENSG00000162704' 'ENSG00000196083' 'ENSG00000149311'\n",
      " 'ENSG00000109861' 'ENSG00000128524' 'ENSG00000276085' 'ENSG00000106799'\n",
      " 'ENSG00000125148' 'ENSG00000160883' 'ENSG00000161955' 'ENSG00000146592'\n",
      " 'ENSG00000185591' 'ENSG00000126267' 'ENSG00000110395' 'ENSG00000119922'\n",
      " 'ENSG00000015475' 'ENSG00000006327' 'ENSG00000165140' 'ENSG00000167600'\n",
      " 'ENSG00000137801' 'ENSG00000153064' 'ENSG00000005339' 'ENSG00000172260'\n",
      " 'ENSG00000143924' 'ENSG00000135077' 'ENSG00000019169' 'ENSG00000026103'\n",
      " 'ENSG00000188404' 'ENSG00000139514' 'ENSG00000182117' 'ENSG00000133639'\n",
      " 'ENSG00000166888' 'ENSG00000165280' 'ENSG00000189067' 'ENSG00000242574'\n",
      " 'ENSG00000181631' 'ENSG00000138448' 'ENSG00000161921' 'ENSG00000126353'\n",
      " 'ENSG00000157445' 'ENSG00000158769' 'ENSG00000120742' 'ENSG00000120594'\n",
      " 'ENSG00000124731' 'ENSG00000175489' 'ENSG00000090266' 'ENSG00000132965'\n",
      " 'ENSG00000163191' 'ENSG00000004468' 'ENSG00000121858' 'ENSG00000111716'\n",
      " 'ENSG00000136732' 'ENSG00000115415' 'ENSG00000196126' 'ENSG00000108639'\n",
      " 'ENSG00000144802' 'ENSG00000157601' 'ENSG00000075426' 'ENSG00000110876'\n",
      " 'ENSG00000183508' 'ENSG00000185215' 'ENSG00000109321' 'ENSG00000111640'\n",
      " 'ENSG00000121552' 'ENSG00000152056' 'ENSG00000100934' 'ENSG00000077238'\n",
      " 'ENSG00000122025' 'ENSG00000170458' 'ENSG00000140564' 'ENSG00000077150'\n",
      " 'ENSG00000143226' 'ENSG00000133872' 'ENSG00000185291' 'ENSG00000140749'\n",
      " 'ENSG00000068796' 'ENSG00000118260']\n"
     ]
    }
   ],
   "source": [
    "if SEED != 'all':\n",
    "    gene_subset = np.load(here(f'03_downstream_analysis/08_gene_importance/xgboost_external_validation/shap_gene_selection/gene_subsets_{N_GENES}/{CELL_TYPE}_{SEED}.npy'), allow_pickle=True)\n",
    "    train_adata = train_adata[:,gene_subset]\n",
    "    print(gene_subset)\n",
    "elif SEED == 'all':\n",
    "    print('Using all genes')\n",
    "else:\n",
    "    raise ValueError()"
   ]
  },
  {
   "cell_type": "code",
   "execution_count": 8,
   "id": "d43ebc21",
   "metadata": {
    "execution": {
     "iopub.execute_input": "2025-05-15T15:57:45.950529Z",
     "iopub.status.busy": "2025-05-15T15:57:45.950366Z",
     "iopub.status.idle": "2025-05-15T15:57:45.953936Z",
     "shell.execute_reply": "2025-05-15T15:57:45.953551Z"
    },
    "papermill": {
     "duration": 0.010127,
     "end_time": "2025-05-15T15:57:45.954802",
     "exception": false,
     "start_time": "2025-05-15T15:57:45.944675",
     "status": "completed"
    },
    "tags": []
   },
   "outputs": [
    {
     "data": {
      "text/plain": [
       "(5232, 118)"
      ]
     },
     "execution_count": 8,
     "metadata": {},
     "output_type": "execute_result"
    }
   ],
   "source": [
    "train_adata.shape"
   ]
  },
  {
   "cell_type": "code",
   "execution_count": 9,
   "id": "ff5e356e",
   "metadata": {
    "execution": {
     "iopub.execute_input": "2025-05-15T15:57:45.965922Z",
     "iopub.status.busy": "2025-05-15T15:57:45.965460Z",
     "iopub.status.idle": "2025-05-15T15:57:45.969475Z",
     "shell.execute_reply": "2025-05-15T15:57:45.969116Z"
    },
    "papermill": {
     "duration": 0.010366,
     "end_time": "2025-05-15T15:57:45.970315",
     "exception": false,
     "start_time": "2025-05-15T15:57:45.959949",
     "status": "completed"
    },
    "tags": []
   },
   "outputs": [
    {
     "data": {
      "text/plain": [
       "['RA', 'healthy', 'COVID', 'HIV', 'cirrhosis', 'CD', 'SLE', 'sepsis']\n",
       "Categories (8, object): ['CD', 'COVID', 'HIV', 'RA', 'SLE', 'cirrhosis', 'healthy', 'sepsis']"
      ]
     },
     "execution_count": 9,
     "metadata": {},
     "output_type": "execute_result"
    }
   ],
   "source": [
    "train_adata.obs.disease.unique()"
   ]
  },
  {
   "cell_type": "code",
   "execution_count": 10,
   "id": "92ed9fe2",
   "metadata": {
    "execution": {
     "iopub.execute_input": "2025-05-15T15:57:45.981584Z",
     "iopub.status.busy": "2025-05-15T15:57:45.981120Z",
     "iopub.status.idle": "2025-05-15T15:57:45.985282Z",
     "shell.execute_reply": "2025-05-15T15:57:45.984909Z"
    },
    "papermill": {
     "duration": 0.010763,
     "end_time": "2025-05-15T15:57:45.986114",
     "exception": false,
     "start_time": "2025-05-15T15:57:45.975351",
     "status": "completed"
    },
    "tags": []
   },
   "outputs": [
    {
     "data": {
      "text/plain": [
       "['SCGT00val_I036021_T0', 'SCGT00val_I036023_T0', 'SCGT00val_I036024_T0', 'SCGT00val_I036019_T0', 'SCGT00val_I0364_T0', ..., '10XGenomics_10XHC2_T0', '10XGenomics_10XHC3_T0', '10XGenomics_10XHC5_T0', '10XGenomics_10XHC7_T0', '10XGenomics_10XHC8_T0']\n",
       "Length: 86\n",
       "Categories (86, object): ['10XGenomics_10XHC1_T0', '10XGenomics_10XHC2_T0', '10XGenomics_10XHC3_T0', '10XGenomics_10XHC4_T0', ..., 'Savage2021_BRISL6_T0', 'Savage2021_BRISL7_T0', 'Savage2021_PIDA_T0', 'Savage2021_PIDB_T0']"
      ]
     },
     "execution_count": 10,
     "metadata": {},
     "output_type": "execute_result"
    }
   ],
   "source": [
    "train_adata.obs.sampleID.unique()"
   ]
  },
  {
   "cell_type": "code",
   "execution_count": 11,
   "id": "66ddc11d",
   "metadata": {
    "execution": {
     "iopub.execute_input": "2025-05-15T15:57:45.998167Z",
     "iopub.status.busy": "2025-05-15T15:57:45.997698Z",
     "iopub.status.idle": "2025-05-15T15:57:46.037585Z",
     "shell.execute_reply": "2025-05-15T15:57:46.037168Z"
    },
    "papermill": {
     "duration": 0.047223,
     "end_time": "2025-05-15T15:57:46.038510",
     "exception": false,
     "start_time": "2025-05-15T15:57:45.991287",
     "status": "completed"
    },
    "tags": []
   },
   "outputs": [],
   "source": [
    "all_idxs = np.arange(train_adata.obs.shape[0])\n",
    "left_out_splits = [s[1] for s in StratifiedGroupKFold(n_splits=N_SPLITS).split(all_idxs, train_adata.obs.disease, train_adata.obs.sampleID)]"
   ]
  },
  {
   "cell_type": "code",
   "execution_count": 12,
   "id": "8131aa19",
   "metadata": {
    "execution": {
     "iopub.execute_input": "2025-05-15T15:57:46.049997Z",
     "iopub.status.busy": "2025-05-15T15:57:46.049859Z",
     "iopub.status.idle": "2025-05-15T15:57:46.053549Z",
     "shell.execute_reply": "2025-05-15T15:57:46.053206Z"
    },
    "papermill": {
     "duration": 0.01036,
     "end_time": "2025-05-15T15:57:46.054316",
     "exception": false,
     "start_time": "2025-05-15T15:57:46.043956",
     "status": "completed"
    },
    "tags": []
   },
   "outputs": [
    {
     "data": {
      "text/plain": [
       "([2, 3, 4], 1, 0)"
      ]
     },
     "execution_count": 12,
     "metadata": {},
     "output_type": "execute_result"
    }
   ],
   "source": [
    "TRAIN_SPLIT_IDXS = [0,1,2,3,4]\n",
    "VAL_SPLIT_IDX = (TEST_SPLIT_IDX + 1) % 5\n",
    "TRAIN_SPLIT_IDXS.remove(TEST_SPLIT_IDX)\n",
    "TRAIN_SPLIT_IDXS.remove(VAL_SPLIT_IDX)\n",
    "TRAIN_SPLIT_IDXS, VAL_SPLIT_IDX, TEST_SPLIT_IDX"
   ]
  },
  {
   "cell_type": "code",
   "execution_count": 13,
   "id": "f4c48b97",
   "metadata": {
    "execution": {
     "iopub.execute_input": "2025-05-15T15:57:46.065218Z",
     "iopub.status.busy": "2025-05-15T15:57:46.064915Z",
     "iopub.status.idle": "2025-05-15T15:57:46.067359Z",
     "shell.execute_reply": "2025-05-15T15:57:46.066985Z"
    },
    "papermill": {
     "duration": 0.008803,
     "end_time": "2025-05-15T15:57:46.068218",
     "exception": false,
     "start_time": "2025-05-15T15:57:46.059415",
     "status": "completed"
    },
    "tags": []
   },
   "outputs": [],
   "source": [
    "train_idxs = np.concatenate([left_out_splits[idx] for idx in TRAIN_SPLIT_IDXS])\n",
    "val_idxs = left_out_splits[VAL_SPLIT_IDX]\n",
    "test_idxs = left_out_splits[TEST_SPLIT_IDX]"
   ]
  },
  {
   "cell_type": "markdown",
   "id": "9b4752ce",
   "metadata": {
    "papermill": {
     "duration": 0.005398,
     "end_time": "2025-05-15T15:57:46.079737",
     "exception": false,
     "start_time": "2025-05-15T15:57:46.074339",
     "status": "completed"
    },
    "tags": []
   },
   "source": [
    "### SUBSET DATASET INTO TRAIN/TEST/VAL SPLITS"
   ]
  },
  {
   "cell_type": "code",
   "execution_count": 14,
   "id": "6db89367",
   "metadata": {
    "execution": {
     "iopub.execute_input": "2025-05-15T15:57:46.091968Z",
     "iopub.status.busy": "2025-05-15T15:57:46.091621Z",
     "iopub.status.idle": "2025-05-15T15:57:46.115991Z",
     "shell.execute_reply": "2025-05-15T15:57:46.115526Z"
    },
    "papermill": {
     "duration": 0.030977,
     "end_time": "2025-05-15T15:57:46.116800",
     "exception": false,
     "start_time": "2025-05-15T15:57:46.085823",
     "status": "completed"
    },
    "tags": []
   },
   "outputs": [
    {
     "data": {
      "text/plain": [
       "((3132, 118), (1033, 118), (1067, 118))"
      ]
     },
     "execution_count": 14,
     "metadata": {},
     "output_type": "execute_result"
    }
   ],
   "source": [
    "X_train = train_adata.X[train_idxs]\n",
    "X_test = train_adata.X[test_idxs]\n",
    "X_val = train_adata.X[val_idxs]\n",
    "X_train.shape, X_test.shape, X_val.shape"
   ]
  },
  {
   "cell_type": "code",
   "execution_count": 15,
   "id": "b42199c6",
   "metadata": {
    "execution": {
     "iopub.execute_input": "2025-05-15T15:57:46.129370Z",
     "iopub.status.busy": "2025-05-15T15:57:46.128992Z",
     "iopub.status.idle": "2025-05-15T15:57:46.134510Z",
     "shell.execute_reply": "2025-05-15T15:57:46.134212Z"
    },
    "papermill": {
     "duration": 0.012824,
     "end_time": "2025-05-15T15:57:46.135332",
     "exception": false,
     "start_time": "2025-05-15T15:57:46.122508",
     "status": "completed"
    },
    "tags": []
   },
   "outputs": [
    {
     "data": {
      "text/plain": [
       "((3132,), (1033,), (1067,))"
      ]
     },
     "execution_count": 15,
     "metadata": {},
     "output_type": "execute_result"
    }
   ],
   "source": [
    "y_train = train_adata.obs.iloc[train_idxs].disease.values.astype(str)\n",
    "y_test = train_adata.obs.iloc[test_idxs].disease.values.astype(str)\n",
    "y_val = train_adata.obs.iloc[val_idxs].disease.values.astype(str)\n",
    "y_train.shape, y_test.shape, y_val.shape"
   ]
  },
  {
   "cell_type": "code",
   "execution_count": 16,
   "id": "9ba7af63",
   "metadata": {
    "execution": {
     "iopub.execute_input": "2025-05-15T15:57:46.147593Z",
     "iopub.status.busy": "2025-05-15T15:57:46.147310Z",
     "iopub.status.idle": "2025-05-15T15:57:46.150765Z",
     "shell.execute_reply": "2025-05-15T15:57:46.150468Z"
    },
    "papermill": {
     "duration": 0.010733,
     "end_time": "2025-05-15T15:57:46.151610",
     "exception": false,
     "start_time": "2025-05-15T15:57:46.140877",
     "status": "completed"
    },
    "tags": []
   },
   "outputs": [],
   "source": [
    "lenc = LabelEncoder()\n",
    "y_train_enc = lenc.fit_transform(y_train)\n",
    "y_val_enc = lenc.transform(y_val)\n",
    "y_test_enc = lenc.transform(y_test)"
   ]
  },
  {
   "cell_type": "markdown",
   "id": "c7c77991",
   "metadata": {
    "papermill": {
     "duration": 0.005405,
     "end_time": "2025-05-15T15:57:46.162569",
     "exception": false,
     "start_time": "2025-05-15T15:57:46.157164",
     "status": "completed"
    },
    "tags": []
   },
   "source": [
    "### GENERATE F1 "
   ]
  },
  {
   "cell_type": "code",
   "execution_count": 17,
   "id": "3a313aae",
   "metadata": {
    "execution": {
     "iopub.execute_input": "2025-05-15T15:57:46.173575Z",
     "iopub.status.busy": "2025-05-15T15:57:46.173388Z",
     "iopub.status.idle": "2025-05-15T15:57:46.175627Z",
     "shell.execute_reply": "2025-05-15T15:57:46.175262Z"
    },
    "papermill": {
     "duration": 0.008662,
     "end_time": "2025-05-15T15:57:46.176460",
     "exception": false,
     "start_time": "2025-05-15T15:57:46.167798",
     "status": "completed"
    },
    "tags": []
   },
   "outputs": [],
   "source": [
    "def custom_f1_score(y_true, y_pred):\n",
    "    return -f1_score(y_true, y_pred.argmax(1), average='weighted')"
   ]
  },
  {
   "cell_type": "code",
   "execution_count": 18,
   "id": "47aa5192",
   "metadata": {
    "execution": {
     "iopub.execute_input": "2025-05-15T15:57:46.187585Z",
     "iopub.status.busy": "2025-05-15T15:57:46.187326Z",
     "iopub.status.idle": "2025-05-15T15:57:46.190783Z",
     "shell.execute_reply": "2025-05-15T15:57:46.190476Z"
    },
    "papermill": {
     "duration": 0.009944,
     "end_time": "2025-05-15T15:57:46.191567",
     "exception": false,
     "start_time": "2025-05-15T15:57:46.181623",
     "status": "completed"
    },
    "tags": []
   },
   "outputs": [],
   "source": [
    "eval_metric=custom_f1_score\n",
    "eval_metric_name='custom_f1_score'\n",
    "\n",
    "def objective(trial):\n",
    "    params = {\n",
    "        'n_estimators': 1500,\n",
    "        'max_depth': trial.suggest_int('max_depth', 3, 20),\n",
    "        'min_child_weight': trial.suggest_int('min_child_weight', 1, 250),\n",
    "        'subsample': trial.suggest_float('subsample', 0.1, 1.0),\n",
    "        'colsample_bynode': trial.suggest_float('colsample_bynode', 0.1, 1.0),\n",
    "        'learning_rate': trial.suggest_float('learning_rate', 1e-3, 5e-1, log=True),\n",
    "    }\n",
    "    pruning_callback = optuna.integration.XGBoostPruningCallback(trial, f'validation_0-{eval_metric_name}')\n",
    "    es_callback = xgboost.callback.EarlyStopping(20, min_delta=0.001)\n",
    "    xgb = xgboost.XGBClassifier(\n",
    "        eval_metric=eval_metric,\n",
    "        callbacks=[pruning_callback, es_callback],\n",
    "        n_jobs=5,\n",
    "        **params\n",
    "    )\n",
    "    xgb.fit(\n",
    "        X_train, \n",
    "        y_train_enc, \n",
    "        verbose=0,\n",
    "        eval_set=[(X_val, y_val_enc)],\n",
    "    )\n",
    "    trial.set_user_attr('best_iteration', xgb.best_iteration)\n",
    "\n",
    "    return xgb.best_score"
   ]
  },
  {
   "cell_type": "code",
   "execution_count": 19,
   "id": "f15d2c50",
   "metadata": {
    "execution": {
     "iopub.execute_input": "2025-05-15T15:57:46.202907Z",
     "iopub.status.busy": "2025-05-15T15:57:46.202701Z",
     "iopub.status.idle": "2025-05-15T15:58:22.247472Z",
     "shell.execute_reply": "2025-05-15T15:58:22.247050Z"
    },
    "papermill": {
     "duration": 36.051845,
     "end_time": "2025-05-15T15:58:22.248681",
     "exception": false,
     "start_time": "2025-05-15T15:57:46.196836",
     "status": "completed"
    },
    "scrolled": true,
    "tags": []
   },
   "outputs": [
    {
     "name": "stderr",
     "output_type": "stream",
     "text": [
      "[I 2025-05-15 17:57:46,204] A new study created in memory with name: no-name-a605d820-a4e3-4e3d-b35b-5934e65c5bc0\n"
     ]
    },
    {
     "name": "stderr",
     "output_type": "stream",
     "text": [
      "[I 2025-05-15 17:57:46,910] Trial 0 finished with value: -0.60718 and parameters: {'max_depth': 9, 'min_child_weight': 238, 'subsample': 0.7587945476302645, 'colsample_bynode': 0.6387926357773329, 'learning_rate': 0.0026368755339723046}. Best is trial 0 with value: -0.60718.\n"
     ]
    },
    {
     "name": "stderr",
     "output_type": "stream",
     "text": [
      "[I 2025-05-15 17:57:49,093] Trial 1 finished with value: -0.741847 and parameters: {'max_depth': 5, 'min_child_weight': 15, 'subsample': 0.8795585311974417, 'colsample_bynode': 0.6410035105688879, 'learning_rate': 0.08148293210105287}. Best is trial 1 with value: -0.741847.\n"
     ]
    },
    {
     "name": "stderr",
     "output_type": "stream",
     "text": [
      "[I 2025-05-15 17:57:49,361] Trial 2 finished with value: -0.61786 and parameters: {'max_depth': 3, 'min_child_weight': 243, 'subsample': 0.8491983767203796, 'colsample_bynode': 0.29110519961044856, 'learning_rate': 0.003095566460242371}. Best is trial 1 with value: -0.741847.\n"
     ]
    },
    {
     "name": "stderr",
     "output_type": "stream",
     "text": [
      "[I 2025-05-15 17:57:49,719] Trial 3 finished with value: -0.623079 and parameters: {'max_depth': 6, 'min_child_weight': 77, 'subsample': 0.5722807884690141, 'colsample_bynode': 0.48875051677790415, 'learning_rate': 0.006109683510122491}. Best is trial 1 with value: -0.741847.\n"
     ]
    },
    {
     "name": "stderr",
     "output_type": "stream",
     "text": [
      "[I 2025-05-15 17:57:50,919] Trial 4 finished with value: -0.642996 and parameters: {'max_depth': 14, 'min_child_weight': 35, 'subsample': 0.3629301836816964, 'colsample_bynode': 0.4297256589643226, 'learning_rate': 0.01701841881702917}. Best is trial 1 with value: -0.741847.\n"
     ]
    },
    {
     "name": "stderr",
     "output_type": "stream",
     "text": [
      "[I 2025-05-15 17:57:51,028] Trial 5 pruned. Trial was pruned at iteration 0.\n"
     ]
    },
    {
     "name": "stderr",
     "output_type": "stream",
     "text": [
      "[I 2025-05-15 17:57:51,542] Trial 6 finished with value: -0.64176 and parameters: {'max_depth': 13, 'min_child_weight': 43, 'subsample': 0.1585464336867516, 'colsample_bynode': 0.9539969835279999, 'learning_rate': 0.4038423798071558}. Best is trial 1 with value: -0.741847.\n"
     ]
    },
    {
     "name": "stderr",
     "output_type": "stream",
     "text": [
      "[I 2025-05-15 17:57:51,638] Trial 7 pruned. Trial was pruned at iteration 0.\n"
     ]
    },
    {
     "name": "stderr",
     "output_type": "stream",
     "text": [
      "[I 2025-05-15 17:57:51,735] Trial 8 pruned. Trial was pruned at iteration 0.\n"
     ]
    },
    {
     "name": "stderr",
     "output_type": "stream",
     "text": [
      "[I 2025-05-15 17:57:51,891] Trial 9 pruned. Trial was pruned at iteration 5.\n"
     ]
    },
    {
     "name": "stderr",
     "output_type": "stream",
     "text": [
      "[I 2025-05-15 17:57:54,341] Trial 10 pruned. Trial was pruned at iteration 103.\n"
     ]
    },
    {
     "name": "stderr",
     "output_type": "stream",
     "text": [
      "[I 2025-05-15 17:57:57,420] Trial 11 pruned. Trial was pruned at iteration 103.\n"
     ]
    },
    {
     "name": "stderr",
     "output_type": "stream",
     "text": [
      "[I 2025-05-15 17:57:57,572] Trial 12 pruned. Trial was pruned at iteration 0.\n"
     ]
    },
    {
     "name": "stderr",
     "output_type": "stream",
     "text": [
      "[I 2025-05-15 17:57:57,718] Trial 13 pruned. Trial was pruned at iteration 0.\n"
     ]
    },
    {
     "name": "stderr",
     "output_type": "stream",
     "text": [
      "[I 2025-05-15 17:57:59,782] Trial 14 finished with value: -0.745662 and parameters: {'max_depth': 7, 'min_child_weight': 22, 'subsample': 0.738076872534182, 'colsample_bynode': 0.46291367080771195, 'learning_rate': 0.09765120918938215}. Best is trial 14 with value: -0.745662.\n"
     ]
    },
    {
     "name": "stderr",
     "output_type": "stream",
     "text": [
      "[I 2025-05-15 17:57:59,903] Trial 15 pruned. Trial was pruned at iteration 0.\n"
     ]
    },
    {
     "name": "stderr",
     "output_type": "stream",
     "text": [
      "[I 2025-05-15 17:58:00,613] Trial 16 finished with value: -0.74285 and parameters: {'max_depth': 3, 'min_child_weight': 27, 'subsample': 0.907476690564761, 'colsample_bynode': 0.7696944218640787, 'learning_rate': 0.478222408311213}. Best is trial 14 with value: -0.745662.\n"
     ]
    },
    {
     "name": "stderr",
     "output_type": "stream",
     "text": [
      "[I 2025-05-15 17:58:00,755] Trial 17 pruned. Trial was pruned at iteration 0.\n"
     ]
    },
    {
     "name": "stderr",
     "output_type": "stream",
     "text": [
      "[I 2025-05-15 17:58:00,891] Trial 18 pruned. Trial was pruned at iteration 0.\n"
     ]
    },
    {
     "name": "stderr",
     "output_type": "stream",
     "text": [
      "[I 2025-05-15 17:58:01,035] Trial 19 pruned. Trial was pruned at iteration 0.\n"
     ]
    },
    {
     "name": "stderr",
     "output_type": "stream",
     "text": [
      "[I 2025-05-15 17:58:02,063] Trial 20 finished with value: -0.738055 and parameters: {'max_depth': 11, 'min_child_weight': 23, 'subsample': 0.8545428657758309, 'colsample_bynode': 0.19934168004030056, 'learning_rate': 0.19595604290250637}. Best is trial 14 with value: -0.745662.\n"
     ]
    },
    {
     "name": "stderr",
     "output_type": "stream",
     "text": [
      "[I 2025-05-15 17:58:03,703] Trial 21 pruned. Trial was pruned at iteration 88.\n"
     ]
    },
    {
     "name": "stderr",
     "output_type": "stream",
     "text": [
      "[I 2025-05-15 17:58:04,372] Trial 22 pruned. Trial was pruned at iteration 26.\n"
     ]
    },
    {
     "name": "stderr",
     "output_type": "stream",
     "text": [
      "[I 2025-05-15 17:58:04,629] Trial 23 pruned. Trial was pruned at iteration 8.\n"
     ]
    },
    {
     "name": "stderr",
     "output_type": "stream",
     "text": [
      "[I 2025-05-15 17:58:04,759] Trial 24 pruned. Trial was pruned at iteration 1.\n"
     ]
    },
    {
     "name": "stderr",
     "output_type": "stream",
     "text": [
      "[I 2025-05-15 17:58:05,990] Trial 25 finished with value: -0.752017 and parameters: {'max_depth': 4, 'min_child_weight': 2, 'subsample': 0.9177994562351127, 'colsample_bynode': 0.6875962023752984, 'learning_rate': 0.3250492692397803}. Best is trial 25 with value: -0.752017.\n"
     ]
    },
    {
     "name": "stderr",
     "output_type": "stream",
     "text": [
      "[I 2025-05-15 17:58:07,576] Trial 26 finished with value: -0.755794 and parameters: {'max_depth': 4, 'min_child_weight': 1, 'subsample': 0.9351253008542739, 'colsample_bynode': 0.8915507162992631, 'learning_rate': 0.3115538128289078}. Best is trial 26 with value: -0.755794.\n"
     ]
    },
    {
     "name": "stderr",
     "output_type": "stream",
     "text": [
      "[I 2025-05-15 17:58:10,108] Trial 27 finished with value: -0.746697 and parameters: {'max_depth': 7, 'min_child_weight': 2, 'subsample': 0.9878168803110181, 'colsample_bynode': 0.996566629797076, 'learning_rate': 0.28202723598523094}. Best is trial 26 with value: -0.755794.\n"
     ]
    },
    {
     "name": "stderr",
     "output_type": "stream",
     "text": [
      "[I 2025-05-15 17:58:12,980] Trial 28 finished with value: -0.75506 and parameters: {'max_depth': 5, 'min_child_weight': 1, 'subsample': 0.9966028459647209, 'colsample_bynode': 0.9865905571090142, 'learning_rate': 0.25841428178861703}. Best is trial 26 with value: -0.755794.\n"
     ]
    },
    {
     "name": "stderr",
     "output_type": "stream",
     "text": [
      "[I 2025-05-15 17:58:13,118] Trial 29 pruned. Trial was pruned at iteration 0.\n"
     ]
    },
    {
     "name": "stderr",
     "output_type": "stream",
     "text": [
      "[I 2025-05-15 17:58:13,255] Trial 30 pruned. Trial was pruned at iteration 0.\n"
     ]
    },
    {
     "name": "stderr",
     "output_type": "stream",
     "text": [
      "[I 2025-05-15 17:58:15,234] Trial 31 finished with value: -0.754184 and parameters: {'max_depth': 6, 'min_child_weight': 5, 'subsample': 0.9916749613874798, 'colsample_bynode': 0.9894469192839119, 'learning_rate': 0.3243463012825369}. Best is trial 26 with value: -0.755794.\n"
     ]
    },
    {
     "name": "stderr",
     "output_type": "stream",
     "text": [
      "[I 2025-05-15 17:58:15,366] Trial 32 pruned. Trial was pruned at iteration 0.\n"
     ]
    },
    {
     "name": "stderr",
     "output_type": "stream",
     "text": [
      "[I 2025-05-15 17:58:16,222] Trial 33 pruned. Trial was pruned at iteration 26.\n"
     ]
    },
    {
     "name": "stderr",
     "output_type": "stream",
     "text": [
      "[I 2025-05-15 17:58:17,551] Trial 34 finished with value: -0.754997 and parameters: {'max_depth': 6, 'min_child_weight': 13, 'subsample': 0.8025572242917963, 'colsample_bynode': 0.9549469750254775, 'learning_rate': 0.237117142520373}. Best is trial 26 with value: -0.755794.\n"
     ]
    },
    {
     "name": "stderr",
     "output_type": "stream",
     "text": [
      "[I 2025-05-15 17:58:17,704] Trial 35 pruned. Trial was pruned at iteration 1.\n"
     ]
    },
    {
     "name": "stderr",
     "output_type": "stream",
     "text": [
      "[I 2025-05-15 17:58:17,829] Trial 36 pruned. Trial was pruned at iteration 0.\n"
     ]
    },
    {
     "name": "stderr",
     "output_type": "stream",
     "text": [
      "[I 2025-05-15 17:58:17,953] Trial 37 pruned. Trial was pruned at iteration 0.\n"
     ]
    },
    {
     "name": "stderr",
     "output_type": "stream",
     "text": [
      "[I 2025-05-15 17:58:18,855] Trial 38 pruned. Trial was pruned at iteration 26.\n"
     ]
    },
    {
     "name": "stderr",
     "output_type": "stream",
     "text": [
      "[I 2025-05-15 17:58:18,977] Trial 39 pruned. Trial was pruned at iteration 0.\n"
     ]
    },
    {
     "name": "stderr",
     "output_type": "stream",
     "text": [
      "[I 2025-05-15 17:58:19,216] Trial 40 pruned. Trial was pruned at iteration 4.\n"
     ]
    },
    {
     "name": "stderr",
     "output_type": "stream",
     "text": [
      "[I 2025-05-15 17:58:19,353] Trial 41 pruned. Trial was pruned at iteration 0.\n"
     ]
    },
    {
     "name": "stderr",
     "output_type": "stream",
     "text": [
      "[I 2025-05-15 17:58:19,479] Trial 42 pruned. Trial was pruned at iteration 0.\n"
     ]
    },
    {
     "name": "stderr",
     "output_type": "stream",
     "text": [
      "[I 2025-05-15 17:58:19,604] Trial 43 pruned. Trial was pruned at iteration 0.\n"
     ]
    },
    {
     "name": "stderr",
     "output_type": "stream",
     "text": [
      "[I 2025-05-15 17:58:21,323] Trial 44 finished with value: -0.744585 and parameters: {'max_depth': 6, 'min_child_weight': 1, 'subsample': 0.8775179841446702, 'colsample_bynode': 0.9624527894245691, 'learning_rate': 0.3560163396494499}. Best is trial 26 with value: -0.755794.\n"
     ]
    },
    {
     "name": "stderr",
     "output_type": "stream",
     "text": [
      "[I 2025-05-15 17:58:21,448] Trial 45 pruned. Trial was pruned at iteration 0.\n"
     ]
    },
    {
     "name": "stderr",
     "output_type": "stream",
     "text": [
      "[I 2025-05-15 17:58:21,567] Trial 46 pruned. Trial was pruned at iteration 0.\n"
     ]
    },
    {
     "name": "stderr",
     "output_type": "stream",
     "text": [
      "[I 2025-05-15 17:58:21,682] Trial 47 pruned. Trial was pruned at iteration 0.\n"
     ]
    },
    {
     "name": "stderr",
     "output_type": "stream",
     "text": [
      "[I 2025-05-15 17:58:21,801] Trial 48 pruned. Trial was pruned at iteration 0.\n"
     ]
    },
    {
     "name": "stderr",
     "output_type": "stream",
     "text": [
      "[I 2025-05-15 17:58:22,174] Trial 49 pruned. Trial was pruned at iteration 7.\n"
     ]
    }
   ],
   "source": [
    "sampler = optuna.samplers.TPESampler(seed=42)\n",
    "study = optuna.create_study(direction='minimize', sampler=sampler)\n",
    "study.optimize(objective, n_trials=N_TRIALS, gc_after_trial=True)"
   ]
  },
  {
   "cell_type": "code",
   "execution_count": 20,
   "id": "3e4cdf2c",
   "metadata": {
    "execution": {
     "iopub.execute_input": "2025-05-15T15:58:22.269955Z",
     "iopub.status.busy": "2025-05-15T15:58:22.269685Z",
     "iopub.status.idle": "2025-05-15T15:58:22.290721Z",
     "shell.execute_reply": "2025-05-15T15:58:22.290422Z"
    },
    "papermill": {
     "duration": 0.033002,
     "end_time": "2025-05-15T15:58:22.291535",
     "exception": false,
     "start_time": "2025-05-15T15:58:22.258533",
     "status": "completed"
    },
    "tags": []
   },
   "outputs": [
    {
     "data": {
      "text/plain": [
       "['/scratch_isilon/groups/singlecell/shared/projects/Inflammation-PBMCs-Atlas/03_downstream_analysis/08_gene_importance/xgboost_external_validation/xgboost_TopN_genes/results_20/study/DC_0_0_xgboost.pkl']"
      ]
     },
     "execution_count": 20,
     "metadata": {},
     "output_type": "execute_result"
    }
   ],
   "source": [
    "out_dir = here(f'03_downstream_analysis/08_gene_importance/xgboost_external_validation/xgboost_TopN_genes/results_{N_GENES}/study')\n",
    "\n",
    "if not os.path.exists(out_dir):\n",
    "    os.makedirs(out_dir)\n",
    "    \n",
    "joblib.dump(study,os.path.join(out_dir, f'{CELL_TYPE}_{SEED}_{TEST_SPLIT_IDX}_xgboost.pkl'))"
   ]
  },
  {
   "cell_type": "code",
   "execution_count": 21,
   "id": "498d84c8",
   "metadata": {
    "execution": {
     "iopub.execute_input": "2025-05-15T15:58:22.308343Z",
     "iopub.status.busy": "2025-05-15T15:58:22.308182Z",
     "iopub.status.idle": "2025-05-15T15:58:23.470961Z",
     "shell.execute_reply": "2025-05-15T15:58:23.470551Z"
    },
    "papermill": {
     "duration": 1.172031,
     "end_time": "2025-05-15T15:58:23.471882",
     "exception": false,
     "start_time": "2025-05-15T15:58:22.299851",
     "status": "completed"
    },
    "tags": []
   },
   "outputs": [
    {
     "data": {
      "text/html": [
       "<style>#sk-container-id-1 {\n",
       "  /* Definition of color scheme common for light and dark mode */\n",
       "  --sklearn-color-text: black;\n",
       "  --sklearn-color-line: gray;\n",
       "  /* Definition of color scheme for unfitted estimators */\n",
       "  --sklearn-color-unfitted-level-0: #fff5e6;\n",
       "  --sklearn-color-unfitted-level-1: #f6e4d2;\n",
       "  --sklearn-color-unfitted-level-2: #ffe0b3;\n",
       "  --sklearn-color-unfitted-level-3: chocolate;\n",
       "  /* Definition of color scheme for fitted estimators */\n",
       "  --sklearn-color-fitted-level-0: #f0f8ff;\n",
       "  --sklearn-color-fitted-level-1: #d4ebff;\n",
       "  --sklearn-color-fitted-level-2: #b3dbfd;\n",
       "  --sklearn-color-fitted-level-3: cornflowerblue;\n",
       "\n",
       "  /* Specific color for light theme */\n",
       "  --sklearn-color-text-on-default-background: var(--sg-text-color, var(--theme-code-foreground, var(--jp-content-font-color1, black)));\n",
       "  --sklearn-color-background: var(--sg-background-color, var(--theme-background, var(--jp-layout-color0, white)));\n",
       "  --sklearn-color-border-box: var(--sg-text-color, var(--theme-code-foreground, var(--jp-content-font-color1, black)));\n",
       "  --sklearn-color-icon: #696969;\n",
       "\n",
       "  @media (prefers-color-scheme: dark) {\n",
       "    /* Redefinition of color scheme for dark theme */\n",
       "    --sklearn-color-text-on-default-background: var(--sg-text-color, var(--theme-code-foreground, var(--jp-content-font-color1, white)));\n",
       "    --sklearn-color-background: var(--sg-background-color, var(--theme-background, var(--jp-layout-color0, #111)));\n",
       "    --sklearn-color-border-box: var(--sg-text-color, var(--theme-code-foreground, var(--jp-content-font-color1, white)));\n",
       "    --sklearn-color-icon: #878787;\n",
       "  }\n",
       "}\n",
       "\n",
       "#sk-container-id-1 {\n",
       "  color: var(--sklearn-color-text);\n",
       "}\n",
       "\n",
       "#sk-container-id-1 pre {\n",
       "  padding: 0;\n",
       "}\n",
       "\n",
       "#sk-container-id-1 input.sk-hidden--visually {\n",
       "  border: 0;\n",
       "  clip: rect(1px 1px 1px 1px);\n",
       "  clip: rect(1px, 1px, 1px, 1px);\n",
       "  height: 1px;\n",
       "  margin: -1px;\n",
       "  overflow: hidden;\n",
       "  padding: 0;\n",
       "  position: absolute;\n",
       "  width: 1px;\n",
       "}\n",
       "\n",
       "#sk-container-id-1 div.sk-dashed-wrapped {\n",
       "  border: 1px dashed var(--sklearn-color-line);\n",
       "  margin: 0 0.4em 0.5em 0.4em;\n",
       "  box-sizing: border-box;\n",
       "  padding-bottom: 0.4em;\n",
       "  background-color: var(--sklearn-color-background);\n",
       "}\n",
       "\n",
       "#sk-container-id-1 div.sk-container {\n",
       "  /* jupyter's `normalize.less` sets `[hidden] { display: none; }`\n",
       "     but bootstrap.min.css set `[hidden] { display: none !important; }`\n",
       "     so we also need the `!important` here to be able to override the\n",
       "     default hidden behavior on the sphinx rendered scikit-learn.org.\n",
       "     See: https://github.com/scikit-learn/scikit-learn/issues/21755 */\n",
       "  display: inline-block !important;\n",
       "  position: relative;\n",
       "}\n",
       "\n",
       "#sk-container-id-1 div.sk-text-repr-fallback {\n",
       "  display: none;\n",
       "}\n",
       "\n",
       "div.sk-parallel-item,\n",
       "div.sk-serial,\n",
       "div.sk-item {\n",
       "  /* draw centered vertical line to link estimators */\n",
       "  background-image: linear-gradient(var(--sklearn-color-text-on-default-background), var(--sklearn-color-text-on-default-background));\n",
       "  background-size: 2px 100%;\n",
       "  background-repeat: no-repeat;\n",
       "  background-position: center center;\n",
       "}\n",
       "\n",
       "/* Parallel-specific style estimator block */\n",
       "\n",
       "#sk-container-id-1 div.sk-parallel-item::after {\n",
       "  content: \"\";\n",
       "  width: 100%;\n",
       "  border-bottom: 2px solid var(--sklearn-color-text-on-default-background);\n",
       "  flex-grow: 1;\n",
       "}\n",
       "\n",
       "#sk-container-id-1 div.sk-parallel {\n",
       "  display: flex;\n",
       "  align-items: stretch;\n",
       "  justify-content: center;\n",
       "  background-color: var(--sklearn-color-background);\n",
       "  position: relative;\n",
       "}\n",
       "\n",
       "#sk-container-id-1 div.sk-parallel-item {\n",
       "  display: flex;\n",
       "  flex-direction: column;\n",
       "}\n",
       "\n",
       "#sk-container-id-1 div.sk-parallel-item:first-child::after {\n",
       "  align-self: flex-end;\n",
       "  width: 50%;\n",
       "}\n",
       "\n",
       "#sk-container-id-1 div.sk-parallel-item:last-child::after {\n",
       "  align-self: flex-start;\n",
       "  width: 50%;\n",
       "}\n",
       "\n",
       "#sk-container-id-1 div.sk-parallel-item:only-child::after {\n",
       "  width: 0;\n",
       "}\n",
       "\n",
       "/* Serial-specific style estimator block */\n",
       "\n",
       "#sk-container-id-1 div.sk-serial {\n",
       "  display: flex;\n",
       "  flex-direction: column;\n",
       "  align-items: center;\n",
       "  background-color: var(--sklearn-color-background);\n",
       "  padding-right: 1em;\n",
       "  padding-left: 1em;\n",
       "}\n",
       "\n",
       "\n",
       "/* Toggleable style: style used for estimator/Pipeline/ColumnTransformer box that is\n",
       "clickable and can be expanded/collapsed.\n",
       "- Pipeline and ColumnTransformer use this feature and define the default style\n",
       "- Estimators will overwrite some part of the style using the `sk-estimator` class\n",
       "*/\n",
       "\n",
       "/* Pipeline and ColumnTransformer style (default) */\n",
       "\n",
       "#sk-container-id-1 div.sk-toggleable {\n",
       "  /* Default theme specific background. It is overwritten whether we have a\n",
       "  specific estimator or a Pipeline/ColumnTransformer */\n",
       "  background-color: var(--sklearn-color-background);\n",
       "}\n",
       "\n",
       "/* Toggleable label */\n",
       "#sk-container-id-1 label.sk-toggleable__label {\n",
       "  cursor: pointer;\n",
       "  display: block;\n",
       "  width: 100%;\n",
       "  margin-bottom: 0;\n",
       "  padding: 0.5em;\n",
       "  box-sizing: border-box;\n",
       "  text-align: center;\n",
       "}\n",
       "\n",
       "#sk-container-id-1 label.sk-toggleable__label-arrow:before {\n",
       "  /* Arrow on the left of the label */\n",
       "  content: \"▸\";\n",
       "  float: left;\n",
       "  margin-right: 0.25em;\n",
       "  color: var(--sklearn-color-icon);\n",
       "}\n",
       "\n",
       "#sk-container-id-1 label.sk-toggleable__label-arrow:hover:before {\n",
       "  color: var(--sklearn-color-text);\n",
       "}\n",
       "\n",
       "/* Toggleable content - dropdown */\n",
       "\n",
       "#sk-container-id-1 div.sk-toggleable__content {\n",
       "  max-height: 0;\n",
       "  max-width: 0;\n",
       "  overflow: hidden;\n",
       "  text-align: left;\n",
       "  /* unfitted */\n",
       "  background-color: var(--sklearn-color-unfitted-level-0);\n",
       "}\n",
       "\n",
       "#sk-container-id-1 div.sk-toggleable__content.fitted {\n",
       "  /* fitted */\n",
       "  background-color: var(--sklearn-color-fitted-level-0);\n",
       "}\n",
       "\n",
       "#sk-container-id-1 div.sk-toggleable__content pre {\n",
       "  margin: 0.2em;\n",
       "  border-radius: 0.25em;\n",
       "  color: var(--sklearn-color-text);\n",
       "  /* unfitted */\n",
       "  background-color: var(--sklearn-color-unfitted-level-0);\n",
       "}\n",
       "\n",
       "#sk-container-id-1 div.sk-toggleable__content.fitted pre {\n",
       "  /* unfitted */\n",
       "  background-color: var(--sklearn-color-fitted-level-0);\n",
       "}\n",
       "\n",
       "#sk-container-id-1 input.sk-toggleable__control:checked~div.sk-toggleable__content {\n",
       "  /* Expand drop-down */\n",
       "  max-height: 200px;\n",
       "  max-width: 100%;\n",
       "  overflow: auto;\n",
       "}\n",
       "\n",
       "#sk-container-id-1 input.sk-toggleable__control:checked~label.sk-toggleable__label-arrow:before {\n",
       "  content: \"▾\";\n",
       "}\n",
       "\n",
       "/* Pipeline/ColumnTransformer-specific style */\n",
       "\n",
       "#sk-container-id-1 div.sk-label input.sk-toggleable__control:checked~label.sk-toggleable__label {\n",
       "  color: var(--sklearn-color-text);\n",
       "  background-color: var(--sklearn-color-unfitted-level-2);\n",
       "}\n",
       "\n",
       "#sk-container-id-1 div.sk-label.fitted input.sk-toggleable__control:checked~label.sk-toggleable__label {\n",
       "  background-color: var(--sklearn-color-fitted-level-2);\n",
       "}\n",
       "\n",
       "/* Estimator-specific style */\n",
       "\n",
       "/* Colorize estimator box */\n",
       "#sk-container-id-1 div.sk-estimator input.sk-toggleable__control:checked~label.sk-toggleable__label {\n",
       "  /* unfitted */\n",
       "  background-color: var(--sklearn-color-unfitted-level-2);\n",
       "}\n",
       "\n",
       "#sk-container-id-1 div.sk-estimator.fitted input.sk-toggleable__control:checked~label.sk-toggleable__label {\n",
       "  /* fitted */\n",
       "  background-color: var(--sklearn-color-fitted-level-2);\n",
       "}\n",
       "\n",
       "#sk-container-id-1 div.sk-label label.sk-toggleable__label,\n",
       "#sk-container-id-1 div.sk-label label {\n",
       "  /* The background is the default theme color */\n",
       "  color: var(--sklearn-color-text-on-default-background);\n",
       "}\n",
       "\n",
       "/* On hover, darken the color of the background */\n",
       "#sk-container-id-1 div.sk-label:hover label.sk-toggleable__label {\n",
       "  color: var(--sklearn-color-text);\n",
       "  background-color: var(--sklearn-color-unfitted-level-2);\n",
       "}\n",
       "\n",
       "/* Label box, darken color on hover, fitted */\n",
       "#sk-container-id-1 div.sk-label.fitted:hover label.sk-toggleable__label.fitted {\n",
       "  color: var(--sklearn-color-text);\n",
       "  background-color: var(--sklearn-color-fitted-level-2);\n",
       "}\n",
       "\n",
       "/* Estimator label */\n",
       "\n",
       "#sk-container-id-1 div.sk-label label {\n",
       "  font-family: monospace;\n",
       "  font-weight: bold;\n",
       "  display: inline-block;\n",
       "  line-height: 1.2em;\n",
       "}\n",
       "\n",
       "#sk-container-id-1 div.sk-label-container {\n",
       "  text-align: center;\n",
       "}\n",
       "\n",
       "/* Estimator-specific */\n",
       "#sk-container-id-1 div.sk-estimator {\n",
       "  font-family: monospace;\n",
       "  border: 1px dotted var(--sklearn-color-border-box);\n",
       "  border-radius: 0.25em;\n",
       "  box-sizing: border-box;\n",
       "  margin-bottom: 0.5em;\n",
       "  /* unfitted */\n",
       "  background-color: var(--sklearn-color-unfitted-level-0);\n",
       "}\n",
       "\n",
       "#sk-container-id-1 div.sk-estimator.fitted {\n",
       "  /* fitted */\n",
       "  background-color: var(--sklearn-color-fitted-level-0);\n",
       "}\n",
       "\n",
       "/* on hover */\n",
       "#sk-container-id-1 div.sk-estimator:hover {\n",
       "  /* unfitted */\n",
       "  background-color: var(--sklearn-color-unfitted-level-2);\n",
       "}\n",
       "\n",
       "#sk-container-id-1 div.sk-estimator.fitted:hover {\n",
       "  /* fitted */\n",
       "  background-color: var(--sklearn-color-fitted-level-2);\n",
       "}\n",
       "\n",
       "/* Specification for estimator info (e.g. \"i\" and \"?\") */\n",
       "\n",
       "/* Common style for \"i\" and \"?\" */\n",
       "\n",
       ".sk-estimator-doc-link,\n",
       "a:link.sk-estimator-doc-link,\n",
       "a:visited.sk-estimator-doc-link {\n",
       "  float: right;\n",
       "  font-size: smaller;\n",
       "  line-height: 1em;\n",
       "  font-family: monospace;\n",
       "  background-color: var(--sklearn-color-background);\n",
       "  border-radius: 1em;\n",
       "  height: 1em;\n",
       "  width: 1em;\n",
       "  text-decoration: none !important;\n",
       "  margin-left: 1ex;\n",
       "  /* unfitted */\n",
       "  border: var(--sklearn-color-unfitted-level-1) 1pt solid;\n",
       "  color: var(--sklearn-color-unfitted-level-1);\n",
       "}\n",
       "\n",
       ".sk-estimator-doc-link.fitted,\n",
       "a:link.sk-estimator-doc-link.fitted,\n",
       "a:visited.sk-estimator-doc-link.fitted {\n",
       "  /* fitted */\n",
       "  border: var(--sklearn-color-fitted-level-1) 1pt solid;\n",
       "  color: var(--sklearn-color-fitted-level-1);\n",
       "}\n",
       "\n",
       "/* On hover */\n",
       "div.sk-estimator:hover .sk-estimator-doc-link:hover,\n",
       ".sk-estimator-doc-link:hover,\n",
       "div.sk-label-container:hover .sk-estimator-doc-link:hover,\n",
       ".sk-estimator-doc-link:hover {\n",
       "  /* unfitted */\n",
       "  background-color: var(--sklearn-color-unfitted-level-3);\n",
       "  color: var(--sklearn-color-background);\n",
       "  text-decoration: none;\n",
       "}\n",
       "\n",
       "div.sk-estimator.fitted:hover .sk-estimator-doc-link.fitted:hover,\n",
       ".sk-estimator-doc-link.fitted:hover,\n",
       "div.sk-label-container:hover .sk-estimator-doc-link.fitted:hover,\n",
       ".sk-estimator-doc-link.fitted:hover {\n",
       "  /* fitted */\n",
       "  background-color: var(--sklearn-color-fitted-level-3);\n",
       "  color: var(--sklearn-color-background);\n",
       "  text-decoration: none;\n",
       "}\n",
       "\n",
       "/* Span, style for the box shown on hovering the info icon */\n",
       ".sk-estimator-doc-link span {\n",
       "  display: none;\n",
       "  z-index: 9999;\n",
       "  position: relative;\n",
       "  font-weight: normal;\n",
       "  right: .2ex;\n",
       "  padding: .5ex;\n",
       "  margin: .5ex;\n",
       "  width: min-content;\n",
       "  min-width: 20ex;\n",
       "  max-width: 50ex;\n",
       "  color: var(--sklearn-color-text);\n",
       "  box-shadow: 2pt 2pt 4pt #999;\n",
       "  /* unfitted */\n",
       "  background: var(--sklearn-color-unfitted-level-0);\n",
       "  border: .5pt solid var(--sklearn-color-unfitted-level-3);\n",
       "}\n",
       "\n",
       ".sk-estimator-doc-link.fitted span {\n",
       "  /* fitted */\n",
       "  background: var(--sklearn-color-fitted-level-0);\n",
       "  border: var(--sklearn-color-fitted-level-3);\n",
       "}\n",
       "\n",
       ".sk-estimator-doc-link:hover span {\n",
       "  display: block;\n",
       "}\n",
       "\n",
       "/* \"?\"-specific style due to the `<a>` HTML tag */\n",
       "\n",
       "#sk-container-id-1 a.estimator_doc_link {\n",
       "  float: right;\n",
       "  font-size: 1rem;\n",
       "  line-height: 1em;\n",
       "  font-family: monospace;\n",
       "  background-color: var(--sklearn-color-background);\n",
       "  border-radius: 1rem;\n",
       "  height: 1rem;\n",
       "  width: 1rem;\n",
       "  text-decoration: none;\n",
       "  /* unfitted */\n",
       "  color: var(--sklearn-color-unfitted-level-1);\n",
       "  border: var(--sklearn-color-unfitted-level-1) 1pt solid;\n",
       "}\n",
       "\n",
       "#sk-container-id-1 a.estimator_doc_link.fitted {\n",
       "  /* fitted */\n",
       "  border: var(--sklearn-color-fitted-level-1) 1pt solid;\n",
       "  color: var(--sklearn-color-fitted-level-1);\n",
       "}\n",
       "\n",
       "/* On hover */\n",
       "#sk-container-id-1 a.estimator_doc_link:hover {\n",
       "  /* unfitted */\n",
       "  background-color: var(--sklearn-color-unfitted-level-3);\n",
       "  color: var(--sklearn-color-background);\n",
       "  text-decoration: none;\n",
       "}\n",
       "\n",
       "#sk-container-id-1 a.estimator_doc_link.fitted:hover {\n",
       "  /* fitted */\n",
       "  background-color: var(--sklearn-color-fitted-level-3);\n",
       "}\n",
       "</style><div id=\"sk-container-id-1\" class=\"sk-top-container\"><div class=\"sk-text-repr-fallback\"><pre>XGBClassifier(base_score=None, booster=None, callbacks=None,\n",
       "              colsample_bylevel=None, colsample_bynode=0.8915507162992631,\n",
       "              colsample_bytree=None, device=None, early_stopping_rounds=None,\n",
       "              enable_categorical=False,\n",
       "              eval_metric=&lt;function custom_f1_score at 0x7f241aa5c220&gt;,\n",
       "              feature_types=None, gamma=None, grow_policy=None,\n",
       "              importance_type=None, interaction_constraints=None,\n",
       "              learning_rate=0.3115538128289078, max_bin=None,\n",
       "              max_cat_threshold=None, max_cat_to_onehot=None,\n",
       "              max_delta_step=None, max_depth=4, max_leaves=None,\n",
       "              min_child_weight=1, missing=nan, monotone_constraints=None,\n",
       "              multi_strategy=None, n_estimators=50, n_jobs=None,\n",
       "              num_parallel_tree=None, objective=&#x27;multi:softprob&#x27;, ...)</pre><b>In a Jupyter environment, please rerun this cell to show the HTML representation or trust the notebook. <br />On GitHub, the HTML representation is unable to render, please try loading this page with nbviewer.org.</b></div><div class=\"sk-container\" hidden><div class=\"sk-item\"><div class=\"sk-estimator fitted sk-toggleable\"><input class=\"sk-toggleable__control sk-hidden--visually\" id=\"sk-estimator-id-1\" type=\"checkbox\" checked><label for=\"sk-estimator-id-1\" class=\"sk-toggleable__label fitted sk-toggleable__label-arrow fitted\">&nbsp;XGBClassifier<span class=\"sk-estimator-doc-link fitted\">i<span>Fitted</span></span></label><div class=\"sk-toggleable__content fitted\"><pre>XGBClassifier(base_score=None, booster=None, callbacks=None,\n",
       "              colsample_bylevel=None, colsample_bynode=0.8915507162992631,\n",
       "              colsample_bytree=None, device=None, early_stopping_rounds=None,\n",
       "              enable_categorical=False,\n",
       "              eval_metric=&lt;function custom_f1_score at 0x7f241aa5c220&gt;,\n",
       "              feature_types=None, gamma=None, grow_policy=None,\n",
       "              importance_type=None, interaction_constraints=None,\n",
       "              learning_rate=0.3115538128289078, max_bin=None,\n",
       "              max_cat_threshold=None, max_cat_to_onehot=None,\n",
       "              max_delta_step=None, max_depth=4, max_leaves=None,\n",
       "              min_child_weight=1, missing=nan, monotone_constraints=None,\n",
       "              multi_strategy=None, n_estimators=50, n_jobs=None,\n",
       "              num_parallel_tree=None, objective=&#x27;multi:softprob&#x27;, ...)</pre></div> </div></div></div></div>"
      ],
      "text/plain": [
       "XGBClassifier(base_score=None, booster=None, callbacks=None,\n",
       "              colsample_bylevel=None, colsample_bynode=0.8915507162992631,\n",
       "              colsample_bytree=None, device=None, early_stopping_rounds=None,\n",
       "              enable_categorical=False,\n",
       "              eval_metric=<function custom_f1_score at 0x7f241aa5c220>,\n",
       "              feature_types=None, gamma=None, grow_policy=None,\n",
       "              importance_type=None, interaction_constraints=None,\n",
       "              learning_rate=0.3115538128289078, max_bin=None,\n",
       "              max_cat_threshold=None, max_cat_to_onehot=None,\n",
       "              max_delta_step=None, max_depth=4, max_leaves=None,\n",
       "              min_child_weight=1, missing=nan, monotone_constraints=None,\n",
       "              multi_strategy=None, n_estimators=50, n_jobs=None,\n",
       "              num_parallel_tree=None, objective='multi:softprob', ...)"
      ]
     },
     "execution_count": 21,
     "metadata": {},
     "output_type": "execute_result"
    }
   ],
   "source": [
    "n_estimators = int(study.best_trial.user_attrs['best_iteration']*1.2)\n",
    "xgb = xgboost.XGBClassifier(\n",
    "        eval_metric=eval_metric,\n",
    "        n_estimators=n_estimators,\n",
    "        **study.best_trial.params\n",
    "    )\n",
    "xgb.fit(\n",
    "    ssp.vstack((X_train, X_val)), \n",
    "    np.concatenate((y_train_enc, y_val_enc)),\n",
    "    verbose=1,\n",
    ")"
   ]
  },
  {
   "cell_type": "code",
   "execution_count": 22,
   "id": "6e9f85fb",
   "metadata": {
    "execution": {
     "iopub.execute_input": "2025-05-15T15:58:23.492155Z",
     "iopub.status.busy": "2025-05-15T15:58:23.491649Z",
     "iopub.status.idle": "2025-05-15T15:58:23.508481Z",
     "shell.execute_reply": "2025-05-15T15:58:23.508160Z"
    },
    "papermill": {
     "duration": 0.027454,
     "end_time": "2025-05-15T15:58:23.509352",
     "exception": false,
     "start_time": "2025-05-15T15:58:23.481898",
     "status": "completed"
    },
    "tags": []
   },
   "outputs": [
    {
     "data": {
      "text/plain": [
       "['/scratch_isilon/groups/singlecell/shared/projects/Inflammation-PBMCs-Atlas/03_downstream_analysis/08_gene_importance/xgboost_external_validation/xgboost_TopN_genes/results_20/best_model/DC_0_0_xgb.json']"
      ]
     },
     "execution_count": 22,
     "metadata": {},
     "output_type": "execute_result"
    }
   ],
   "source": [
    "out_dir = here(f'03_downstream_analysis/08_gene_importance/xgboost_external_validation/xgboost_TopN_genes/results_{N_GENES}/best_model')\n",
    "\n",
    "if not os.path.exists(out_dir):\n",
    "    os.makedirs(out_dir)\n",
    "    \n",
    "joblib.dump(xgb, os.path.join(out_dir, f'{CELL_TYPE}_{SEED}_{TEST_SPLIT_IDX}_xgb.json'))"
   ]
  },
  {
   "cell_type": "code",
   "execution_count": 23,
   "id": "06e7ebef",
   "metadata": {
    "execution": {
     "iopub.execute_input": "2025-05-15T15:58:23.530845Z",
     "iopub.status.busy": "2025-05-15T15:58:23.530699Z",
     "iopub.status.idle": "2025-05-15T15:58:23.539092Z",
     "shell.execute_reply": "2025-05-15T15:58:23.538754Z"
    },
    "papermill": {
     "duration": 0.019047,
     "end_time": "2025-05-15T15:58:23.540469",
     "exception": false,
     "start_time": "2025-05-15T15:58:23.521422",
     "status": "completed"
    },
    "tags": []
   },
   "outputs": [],
   "source": [
    "df_pred_test = pd.DataFrame(dict(\n",
    "    cell_id=train_adata.obs.iloc[test_idxs].index.values,\n",
    "    y_true=y_test, \n",
    "    y_true_code=y_test_enc, \n",
    "    y_pred=xgb.predict(X_test))).set_index('cell_id')"
   ]
  },
  {
   "cell_type": "code",
   "execution_count": 24,
   "id": "c163ab4c",
   "metadata": {
    "execution": {
     "iopub.execute_input": "2025-05-15T15:58:23.560171Z",
     "iopub.status.busy": "2025-05-15T15:58:23.559923Z",
     "iopub.status.idle": "2025-05-15T15:58:23.576808Z",
     "shell.execute_reply": "2025-05-15T15:58:23.576487Z"
    },
    "papermill": {
     "duration": 0.027929,
     "end_time": "2025-05-15T15:58:23.577716",
     "exception": false,
     "start_time": "2025-05-15T15:58:23.549787",
     "status": "completed"
    },
    "tags": []
   },
   "outputs": [],
   "source": [
    "out_dir = here(f'03_downstream_analysis/08_gene_importance/xgboost_external_validation/xgboost_TopN_genes/results_{N_GENES}/predictions')\n",
    "\n",
    "if not os.path.exists(out_dir):\n",
    "    os.makedirs(out_dir)\n",
    "    \n",
    "df_pred_test.to_csv(os.path.join(out_dir, f'{CELL_TYPE}_{SEED}_{TEST_SPLIT_IDX}_pred_test.zip'))"
   ]
  },
  {
   "cell_type": "code",
   "execution_count": 25,
   "id": "6e25004f",
   "metadata": {
    "execution": {
     "iopub.execute_input": "2025-05-15T15:58:23.597357Z",
     "iopub.status.busy": "2025-05-15T15:58:23.597152Z",
     "iopub.status.idle": "2025-05-15T15:58:23.602670Z",
     "shell.execute_reply": "2025-05-15T15:58:23.602357Z"
    },
    "papermill": {
     "duration": 0.016911,
     "end_time": "2025-05-15T15:58:23.603541",
     "exception": false,
     "start_time": "2025-05-15T15:58:23.586630",
     "status": "completed"
    },
    "tags": []
   },
   "outputs": [],
   "source": [
    "metrics_dict = dict(\n",
    "    BAS=balanced_accuracy_score(y_true=df_pred_test.y_true_code, y_pred=df_pred_test.y_pred), WF1=f1_score(y_true=df_pred_test.y_true_code, y_pred=df_pred_test.y_pred,average='weighted'))"
   ]
  },
  {
   "cell_type": "code",
   "execution_count": 26,
   "id": "4a7a8387",
   "metadata": {
    "execution": {
     "iopub.execute_input": "2025-05-15T15:58:23.622481Z",
     "iopub.status.busy": "2025-05-15T15:58:23.622248Z",
     "iopub.status.idle": "2025-05-15T15:58:23.625020Z",
     "shell.execute_reply": "2025-05-15T15:58:23.624718Z"
    },
    "papermill": {
     "duration": 0.012729,
     "end_time": "2025-05-15T15:58:23.625884",
     "exception": false,
     "start_time": "2025-05-15T15:58:23.613155",
     "status": "completed"
    },
    "tags": []
   },
   "outputs": [
    {
     "data": {
      "text/plain": [
       "{'BAS': 0.5694971826706006, 'WF1': 0.8302781629986017}"
      ]
     },
     "execution_count": 26,
     "metadata": {},
     "output_type": "execute_result"
    }
   ],
   "source": [
    "metrics_dict"
   ]
  },
  {
   "cell_type": "code",
   "execution_count": 27,
   "id": "50d5b994",
   "metadata": {
    "execution": {
     "iopub.execute_input": "2025-05-15T15:58:23.644845Z",
     "iopub.status.busy": "2025-05-15T15:58:23.644619Z",
     "iopub.status.idle": "2025-05-15T15:58:23.652582Z",
     "shell.execute_reply": "2025-05-15T15:58:23.652285Z"
    },
    "papermill": {
     "duration": 0.018591,
     "end_time": "2025-05-15T15:58:23.653433",
     "exception": false,
     "start_time": "2025-05-15T15:58:23.634842",
     "status": "completed"
    },
    "tags": []
   },
   "outputs": [
    {
     "data": {
      "text/html": [
       "<div>\n",
       "<style scoped>\n",
       "    .dataframe tbody tr th:only-of-type {\n",
       "        vertical-align: middle;\n",
       "    }\n",
       "\n",
       "    .dataframe tbody tr th {\n",
       "        vertical-align: top;\n",
       "    }\n",
       "\n",
       "    .dataframe thead th {\n",
       "        text-align: right;\n",
       "    }\n",
       "</style>\n",
       "<table border=\"1\" class=\"dataframe\">\n",
       "  <thead>\n",
       "    <tr style=\"text-align: right;\">\n",
       "      <th></th>\n",
       "      <th>BAS</th>\n",
       "      <th>WF1</th>\n",
       "      <th>split_idx</th>\n",
       "      <th>gene_set_seed</th>\n",
       "      <th>cell_type</th>\n",
       "    </tr>\n",
       "  </thead>\n",
       "  <tbody>\n",
       "    <tr>\n",
       "      <th>0</th>\n",
       "      <td>0.569497</td>\n",
       "      <td>0.830278</td>\n",
       "      <td>0</td>\n",
       "      <td>0</td>\n",
       "      <td>DC</td>\n",
       "    </tr>\n",
       "  </tbody>\n",
       "</table>\n",
       "</div>"
      ],
      "text/plain": [
       "        BAS       WF1  split_idx  gene_set_seed cell_type\n",
       "0  0.569497  0.830278          0              0        DC"
      ]
     },
     "execution_count": 27,
     "metadata": {},
     "output_type": "execute_result"
    }
   ],
   "source": [
    "metrics_df = pd.DataFrame.from_dict([metrics_dict]).assign(split_idx=TEST_SPLIT_IDX, gene_set_seed=SEED, cell_type=CELL_TYPE)\n",
    "metrics_df"
   ]
  },
  {
   "cell_type": "code",
   "execution_count": 28,
   "id": "30376a0e",
   "metadata": {
    "execution": {
     "iopub.execute_input": "2025-05-15T15:58:23.672533Z",
     "iopub.status.busy": "2025-05-15T15:58:23.672206Z",
     "iopub.status.idle": "2025-05-15T15:58:23.679946Z",
     "shell.execute_reply": "2025-05-15T15:58:23.679599Z"
    },
    "papermill": {
     "duration": 0.018292,
     "end_time": "2025-05-15T15:58:23.680790",
     "exception": false,
     "start_time": "2025-05-15T15:58:23.662498",
     "status": "completed"
    },
    "tags": []
   },
   "outputs": [],
   "source": [
    "out_dir = here(f'03_downstream_analysis/08_gene_importance/xgboost_external_validation/xgboost_TopN_genes/results_{N_GENES}/metrics')\n",
    "\n",
    "if not os.path.exists(out_dir):\n",
    "    os.makedirs(out_dir)\n",
    "    \n",
    "metrics_df.to_csv(os.path.join(out_dir, f'{CELL_TYPE}_{SEED}_{TEST_SPLIT_IDX}_metrics.zip'))"
   ]
  }
 ],
 "metadata": {
  "kernelspec": {
   "display_name": "Python 3 (ipykernel)",
   "language": "python",
   "name": "python3"
  },
  "language_info": {
   "codemirror_mode": {
    "name": "ipython",
    "version": 3
   },
   "file_extension": ".py",
   "mimetype": "text/x-python",
   "name": "python",
   "nbconvert_exporter": "python",
   "pygments_lexer": "ipython3",
   "version": "3.12.5"
  },
  "papermill": {
   "default_parameters": {},
   "duration": 41.03473,
   "end_time": "2025-05-15T15:58:24.205475",
   "environment_variables": {},
   "exception": null,
   "input_path": "02_xgboost_fitting_external_20genes.ipynb",
   "output_path": "results_20/executed_notebooks/xgboost_fitting_external_CT_DC_GS_0_seed0.ipynb",
   "parameters": {
    "CELL_TYPE": "DC",
    "SEED": 0,
    "TEST_SPLIT_IDX": 0
   },
   "start_time": "2025-05-15T15:57:43.170745",
   "version": "2.6.0"
  }
 },
 "nbformat": 4,
 "nbformat_minor": 5
}