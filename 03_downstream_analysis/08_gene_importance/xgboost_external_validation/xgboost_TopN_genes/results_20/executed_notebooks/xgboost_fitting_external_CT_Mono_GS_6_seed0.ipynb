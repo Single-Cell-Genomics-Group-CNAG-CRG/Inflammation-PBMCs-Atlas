{
 "cells": [
  {
   "cell_type": "code",
   "execution_count": 1,
   "id": "e96805f6",
   "metadata": {
    "editable": true,
    "execution": {
     "iopub.execute_input": "2025-05-15T15:59:16.953934Z",
     "iopub.status.busy": "2025-05-15T15:59:16.953777Z",
     "iopub.status.idle": "2025-05-15T15:59:16.956713Z",
     "shell.execute_reply": "2025-05-15T15:59:16.956418Z"
    },
    "papermill": {
     "duration": 0.012026,
     "end_time": "2025-05-15T15:59:16.957621",
     "exception": false,
     "start_time": "2025-05-15T15:59:16.945595",
     "status": "completed"
    },
    "slideshow": {
     "slide_type": ""
    },
    "tags": [
     "parameters"
    ]
   },
   "outputs": [],
   "source": [
    "CELL_TYPE = 'pDC'\n",
    "N_GENES: int = 20\n",
    "SEED = 'shap_studyID' #'disease_NOstudy' 'study_NOdisease' or 'int' or 'shap_studyID'\n",
    "TEST_SPLIT_IDX: int = 1 #[0,4]"
   ]
  },
  {
   "cell_type": "code",
   "execution_count": 2,
   "id": "c458fdd8",
   "metadata": {
    "execution": {
     "iopub.execute_input": "2025-05-15T15:59:16.969962Z",
     "iopub.status.busy": "2025-05-15T15:59:16.969667Z",
     "iopub.status.idle": "2025-05-15T15:59:16.971936Z",
     "shell.execute_reply": "2025-05-15T15:59:16.971649Z"
    },
    "papermill": {
     "duration": 0.00944,
     "end_time": "2025-05-15T15:59:16.972810",
     "exception": false,
     "start_time": "2025-05-15T15:59:16.963370",
     "status": "completed"
    },
    "tags": [
     "injected-parameters"
    ]
   },
   "outputs": [],
   "source": [
    "# Parameters\n",
    "CELL_TYPE = \"Mono\"\n",
    "SEED = 6\n",
    "TEST_SPLIT_IDX = 0\n"
   ]
  },
  {
   "cell_type": "code",
   "execution_count": 3,
   "id": "d3869fba",
   "metadata": {
    "execution": {
     "iopub.execute_input": "2025-05-15T15:59:17.010017Z",
     "iopub.status.busy": "2025-05-15T15:59:17.009788Z",
     "iopub.status.idle": "2025-05-15T15:59:17.012034Z",
     "shell.execute_reply": "2025-05-15T15:59:17.011743Z"
    },
    "papermill": {
     "duration": 0.02107,
     "end_time": "2025-05-15T15:59:17.012792",
     "exception": false,
     "start_time": "2025-05-15T15:59:16.991722",
     "status": "completed"
    },
    "tags": []
   },
   "outputs": [],
   "source": [
    "N_SPLITS: int = 5\n",
    "N_TRIALS: int = 50"
   ]
  },
  {
   "cell_type": "code",
   "execution_count": 4,
   "id": "7dde3c9c",
   "metadata": {
    "execution": {
     "iopub.execute_input": "2025-05-15T15:59:17.025594Z",
     "iopub.status.busy": "2025-05-15T15:59:17.025371Z",
     "iopub.status.idle": "2025-05-15T15:59:18.393035Z",
     "shell.execute_reply": "2025-05-15T15:59:18.392416Z"
    },
    "papermill": {
     "duration": 1.375909,
     "end_time": "2025-05-15T15:59:18.394293",
     "exception": false,
     "start_time": "2025-05-15T15:59:17.018384",
     "status": "completed"
    },
    "tags": []
   },
   "outputs": [],
   "source": [
    "import os\n",
    "import sys\n",
    "from pyprojroot.here import here\n",
    "import pandas as pd\n",
    "import anndata as ad\n",
    "import numpy as np\n",
    "import math\n",
    "from sklearn.model_selection import StratifiedGroupKFold\n",
    "from sklearn.preprocessing import LabelEncoder\n",
    "from sklearn.metrics import f1_score\n",
    "import matplotlib.pyplot as plt\n",
    "import seaborn as sns\n",
    "from itertools import product\n",
    "from sklearn.metrics import balanced_accuracy_score, f1_score\n",
    "import optuna\n",
    "\n",
    "import joblib\n",
    "import pickle\n",
    "import datetime\n",
    "\n",
    "import collections\n",
    "\n",
    "import xgboost\n",
    "from sklearn.preprocessing import LabelEncoder\n",
    "\n",
    "import scipy.sparse as ssp\n",
    "import joblib\n",
    "\n",
    "from dotenv import load_dotenv"
   ]
  },
  {
   "cell_type": "code",
   "execution_count": 5,
   "id": "918d908d",
   "metadata": {
    "execution": {
     "iopub.execute_input": "2025-05-15T15:59:18.416291Z",
     "iopub.status.busy": "2025-05-15T15:59:18.415969Z",
     "iopub.status.idle": "2025-05-15T15:59:18.421467Z",
     "shell.execute_reply": "2025-05-15T15:59:18.421171Z"
    },
    "papermill": {
     "duration": 0.022024,
     "end_time": "2025-05-15T15:59:18.422324",
     "exception": false,
     "start_time": "2025-05-15T15:59:18.400300",
     "status": "completed"
    },
    "tags": []
   },
   "outputs": [
    {
     "data": {
      "text/plain": [
       "True"
      ]
     },
     "execution_count": 5,
     "metadata": {},
     "output_type": "execute_result"
    }
   ],
   "source": [
    "load_dotenv()"
   ]
  },
  {
   "cell_type": "markdown",
   "id": "9b5a6c24",
   "metadata": {
    "papermill": {
     "duration": 0.005561,
     "end_time": "2025-05-15T15:59:18.433508",
     "exception": false,
     "start_time": "2025-05-15T15:59:18.427947",
     "status": "completed"
    },
    "tags": []
   },
   "source": [
    "# LOAD DATASET"
   ]
  },
  {
   "cell_type": "code",
   "execution_count": 6,
   "id": "b3a383ef",
   "metadata": {
    "execution": {
     "iopub.execute_input": "2025-05-15T15:59:18.446070Z",
     "iopub.status.busy": "2025-05-15T15:59:18.445932Z",
     "iopub.status.idle": "2025-05-15T15:59:19.609080Z",
     "shell.execute_reply": "2025-05-15T15:59:19.608679Z"
    },
    "papermill": {
     "duration": 1.171363,
     "end_time": "2025-05-15T15:59:19.610390",
     "exception": false,
     "start_time": "2025-05-15T15:59:18.439027",
     "status": "completed"
    },
    "tags": []
   },
   "outputs": [],
   "source": [
    "train_adata = ad.read_h5ad(\n",
    "    here(f'03_downstream_analysis/08_gene_importance/xgboost_external_validation/xgboost_TopN_genes/data_cellTypes/EXTERNAL_{CELL_TYPE}.filtered.log1p.h5ad')\n",
    ")"
   ]
  },
  {
   "cell_type": "code",
   "execution_count": 7,
   "id": "7908b0f0",
   "metadata": {
    "execution": {
     "iopub.execute_input": "2025-05-15T15:59:19.634840Z",
     "iopub.status.busy": "2025-05-15T15:59:19.634680Z",
     "iopub.status.idle": "2025-05-15T15:59:19.668236Z",
     "shell.execute_reply": "2025-05-15T15:59:19.667862Z"
    },
    "papermill": {
     "duration": 0.04095,
     "end_time": "2025-05-15T15:59:19.669161",
     "exception": false,
     "start_time": "2025-05-15T15:59:19.628211",
     "status": "completed"
    },
    "tags": []
   },
   "outputs": [
    {
     "name": "stdout",
     "output_type": "stream",
     "text": [
      "['ENSG00000140678' 'ENSG00000197746' 'ENSG00000123358' 'ENSG00000183019'\n",
      " 'ENSG00000066136' 'ENSG00000127022' 'ENSG00000170296' 'ENSG00000188313'\n",
      " 'ENSG00000166710' 'ENSG00000143774' 'ENSG00000060982' 'ENSG00000136732'\n",
      " 'ENSG00000204257' 'ENSG00000275302' 'ENSG00000165140' 'ENSG00000107223'\n",
      " 'ENSG00000183486' 'ENSG00000030582' 'ENSG00000128340' 'ENSG00000142546'\n",
      " 'ENSG00000141574' 'ENSG00000125743' 'ENSG00000113732' 'ENSG00000170581'\n",
      " 'ENSG00000175768' 'ENSG00000197111' 'ENSG00000171223' 'ENSG00000085514'\n",
      " 'ENSG00000110876' 'ENSG00000177575' 'ENSG00000165092' 'ENSG00000127507'\n",
      " 'ENSG00000196396' 'ENSG00000179583' 'ENSG00000130429' 'ENSG00000167283'\n",
      " 'ENSG00000187116' 'ENSG00000165732' 'ENSG00000168894' 'ENSG00000166888'\n",
      " 'ENSG00000204843' 'ENSG00000131196' 'ENSG00000185291' 'ENSG00000125740'\n",
      " 'ENSG00000089280' 'ENSG00000161944' 'ENSG00000118260' 'ENSG00000139289'\n",
      " 'ENSG00000197766' 'ENSG00000104856' 'ENSG00000182578' 'ENSG00000135404'\n",
      " 'ENSG00000143119' 'ENSG00000117602' 'ENSG00000133639' 'ENSG00000144802'\n",
      " 'ENSG00000140264' 'ENSG00000159128' 'ENSG00000163823' 'ENSG00000109861'\n",
      " 'ENSG00000179295' 'ENSG00000131042' 'ENSG00000185215' 'ENSG00000179218'\n",
      " 'ENSG00000132912' 'ENSG00000124762' 'ENSG00000173812' 'ENSG00000115267'\n",
      " 'ENSG00000005339' 'ENSG00000143575' 'ENSG00000169403' 'ENSG00000125538'\n",
      " 'ENSG00000183172' 'ENSG00000100280' 'ENSG00000176986' 'ENSG00000170345'\n",
      " 'ENSG00000185950' 'ENSG00000232810' 'ENSG00000163659' 'ENSG00000139318'\n",
      " 'ENSG00000137331' 'ENSG00000110324' 'ENSG00000142166' 'ENSG00000118508'\n",
      " 'ENSG00000101695' 'ENSG00000101017' 'ENSG00000170017' 'ENSG00000122862'\n",
      " 'ENSG00000169564' 'ENSG00000115145' 'ENSG00000196154' 'ENSG00000011422'\n",
      " 'ENSG00000143546' 'ENSG00000138678' 'ENSG00000113441' 'ENSG00000118503'\n",
      " 'ENSG00000100079' 'ENSG00000276085' 'ENSG00000127528' 'ENSG00000136826'\n",
      " 'ENSG00000117523' 'ENSG00000082074' 'ENSG00000223865' 'ENSG00000005844'\n",
      " 'ENSG00000105221' 'ENSG00000158050' 'ENSG00000164308' 'ENSG00000033800'\n",
      " 'ENSG00000163931' 'ENSG00000121879' 'ENSG00000162444' 'ENSG00000179921'\n",
      " 'ENSG00000100934' 'ENSG00000196961']\n"
     ]
    }
   ],
   "source": [
    "if SEED != 'all':\n",
    "    gene_subset = np.load(here(f'03_downstream_analysis/08_gene_importance/xgboost_external_validation/shap_gene_selection/gene_subsets_{N_GENES}/{CELL_TYPE}_{SEED}.npy'), allow_pickle=True)\n",
    "    train_adata = train_adata[:,gene_subset]\n",
    "    print(gene_subset)\n",
    "elif SEED == 'all':\n",
    "    print('Using all genes')\n",
    "else:\n",
    "    raise ValueError()"
   ]
  },
  {
   "cell_type": "code",
   "execution_count": 8,
   "id": "bd221ff3",
   "metadata": {
    "execution": {
     "iopub.execute_input": "2025-05-15T15:59:19.681913Z",
     "iopub.status.busy": "2025-05-15T15:59:19.681506Z",
     "iopub.status.idle": "2025-05-15T15:59:19.684534Z",
     "shell.execute_reply": "2025-05-15T15:59:19.684241Z"
    },
    "papermill": {
     "duration": 0.010027,
     "end_time": "2025-05-15T15:59:19.685333",
     "exception": false,
     "start_time": "2025-05-15T15:59:19.675306",
     "status": "completed"
    },
    "tags": []
   },
   "outputs": [
    {
     "data": {
      "text/plain": [
       "(137435, 114)"
      ]
     },
     "execution_count": 8,
     "metadata": {},
     "output_type": "execute_result"
    }
   ],
   "source": [
    "train_adata.shape"
   ]
  },
  {
   "cell_type": "code",
   "execution_count": 9,
   "id": "e1255ae0",
   "metadata": {
    "execution": {
     "iopub.execute_input": "2025-05-15T15:59:19.722855Z",
     "iopub.status.busy": "2025-05-15T15:59:19.722628Z",
     "iopub.status.idle": "2025-05-15T15:59:19.726684Z",
     "shell.execute_reply": "2025-05-15T15:59:19.726378Z"
    },
    "papermill": {
     "duration": 0.011368,
     "end_time": "2025-05-15T15:59:19.727512",
     "exception": false,
     "start_time": "2025-05-15T15:59:19.716144",
     "status": "completed"
    },
    "tags": []
   },
   "outputs": [
    {
     "data": {
      "text/plain": [
       "['RA', 'healthy', 'COVID', 'HIV', 'cirrhosis', 'CD', 'SLE', 'sepsis']\n",
       "Categories (8, object): ['CD', 'COVID', 'HIV', 'RA', 'SLE', 'cirrhosis', 'healthy', 'sepsis']"
      ]
     },
     "execution_count": 9,
     "metadata": {},
     "output_type": "execute_result"
    }
   ],
   "source": [
    "train_adata.obs.disease.unique()"
   ]
  },
  {
   "cell_type": "code",
   "execution_count": 10,
   "id": "bae50209",
   "metadata": {
    "execution": {
     "iopub.execute_input": "2025-05-15T15:59:19.740785Z",
     "iopub.status.busy": "2025-05-15T15:59:19.740496Z",
     "iopub.status.idle": "2025-05-15T15:59:19.744700Z",
     "shell.execute_reply": "2025-05-15T15:59:19.744399Z"
    },
    "papermill": {
     "duration": 0.011795,
     "end_time": "2025-05-15T15:59:19.745592",
     "exception": false,
     "start_time": "2025-05-15T15:59:19.733797",
     "status": "completed"
    },
    "tags": []
   },
   "outputs": [
    {
     "data": {
      "text/plain": [
       "['SCGT00val_I0364_T0', 'SCGT00val_I036028_T0', 'SCGT00val_I036024_T0', 'SCGT00val_I036023_T0', 'SCGT00val_I036019_T0', ..., '10XGenomics_10XHC2_T0', '10XGenomics_10XHC3_T0', '10XGenomics_10XHC5_T0', '10XGenomics_10XHC7_T0', '10XGenomics_10XHC8_T0']\n",
       "Length: 86\n",
       "Categories (86, object): ['10XGenomics_10XHC1_T0', '10XGenomics_10XHC2_T0', '10XGenomics_10XHC3_T0', '10XGenomics_10XHC4_T0', ..., 'Savage2021_BRISL6_T0', 'Savage2021_BRISL7_T0', 'Savage2021_PIDA_T0', 'Savage2021_PIDB_T0']"
      ]
     },
     "execution_count": 10,
     "metadata": {},
     "output_type": "execute_result"
    }
   ],
   "source": [
    "train_adata.obs.sampleID.unique()"
   ]
  },
  {
   "cell_type": "code",
   "execution_count": 11,
   "id": "fb79274d",
   "metadata": {
    "execution": {
     "iopub.execute_input": "2025-05-15T15:59:19.764028Z",
     "iopub.status.busy": "2025-05-15T15:59:19.763723Z",
     "iopub.status.idle": "2025-05-15T15:59:20.090196Z",
     "shell.execute_reply": "2025-05-15T15:59:20.089764Z"
    },
    "papermill": {
     "duration": 0.340005,
     "end_time": "2025-05-15T15:59:20.091426",
     "exception": false,
     "start_time": "2025-05-15T15:59:19.751421",
     "status": "completed"
    },
    "tags": []
   },
   "outputs": [],
   "source": [
    "all_idxs = np.arange(train_adata.obs.shape[0])\n",
    "left_out_splits = [s[1] for s in StratifiedGroupKFold(n_splits=N_SPLITS).split(all_idxs, train_adata.obs.disease, train_adata.obs.sampleID)]"
   ]
  },
  {
   "cell_type": "code",
   "execution_count": 12,
   "id": "b4c19125",
   "metadata": {
    "execution": {
     "iopub.execute_input": "2025-05-15T15:59:20.123302Z",
     "iopub.status.busy": "2025-05-15T15:59:20.123014Z",
     "iopub.status.idle": "2025-05-15T15:59:20.126807Z",
     "shell.execute_reply": "2025-05-15T15:59:20.126452Z"
    },
    "papermill": {
     "duration": 0.011363,
     "end_time": "2025-05-15T15:59:20.127646",
     "exception": false,
     "start_time": "2025-05-15T15:59:20.116283",
     "status": "completed"
    },
    "tags": []
   },
   "outputs": [
    {
     "data": {
      "text/plain": [
       "([2, 3, 4], 1, 0)"
      ]
     },
     "execution_count": 12,
     "metadata": {},
     "output_type": "execute_result"
    }
   ],
   "source": [
    "TRAIN_SPLIT_IDXS = [0,1,2,3,4]\n",
    "VAL_SPLIT_IDX = (TEST_SPLIT_IDX + 1) % 5\n",
    "TRAIN_SPLIT_IDXS.remove(TEST_SPLIT_IDX)\n",
    "TRAIN_SPLIT_IDXS.remove(VAL_SPLIT_IDX)\n",
    "TRAIN_SPLIT_IDXS, VAL_SPLIT_IDX, TEST_SPLIT_IDX"
   ]
  },
  {
   "cell_type": "code",
   "execution_count": 13,
   "id": "5c32f9fd",
   "metadata": {
    "execution": {
     "iopub.execute_input": "2025-05-15T15:59:20.140269Z",
     "iopub.status.busy": "2025-05-15T15:59:20.139999Z",
     "iopub.status.idle": "2025-05-15T15:59:20.142437Z",
     "shell.execute_reply": "2025-05-15T15:59:20.142142Z"
    },
    "papermill": {
     "duration": 0.009582,
     "end_time": "2025-05-15T15:59:20.143251",
     "exception": false,
     "start_time": "2025-05-15T15:59:20.133669",
     "status": "completed"
    },
    "tags": []
   },
   "outputs": [],
   "source": [
    "train_idxs = np.concatenate([left_out_splits[idx] for idx in TRAIN_SPLIT_IDXS])\n",
    "val_idxs = left_out_splits[VAL_SPLIT_IDX]\n",
    "test_idxs = left_out_splits[TEST_SPLIT_IDX]"
   ]
  },
  {
   "cell_type": "markdown",
   "id": "49b2b78d",
   "metadata": {
    "papermill": {
     "duration": 0.006096,
     "end_time": "2025-05-15T15:59:20.155067",
     "exception": false,
     "start_time": "2025-05-15T15:59:20.148971",
     "status": "completed"
    },
    "tags": []
   },
   "source": [
    "### SUBSET DATASET INTO TRAIN/TEST/VAL SPLITS"
   ]
  },
  {
   "cell_type": "code",
   "execution_count": 14,
   "id": "32c5fbd9",
   "metadata": {
    "execution": {
     "iopub.execute_input": "2025-05-15T15:59:20.169871Z",
     "iopub.status.busy": "2025-05-15T15:59:20.169596Z",
     "iopub.status.idle": "2025-05-15T15:59:20.608336Z",
     "shell.execute_reply": "2025-05-15T15:59:20.607976Z"
    },
    "papermill": {
     "duration": 0.447319,
     "end_time": "2025-05-15T15:59:20.609276",
     "exception": false,
     "start_time": "2025-05-15T15:59:20.161957",
     "status": "completed"
    },
    "tags": []
   },
   "outputs": [
    {
     "data": {
      "text/plain": [
       "((82534, 114), (27414, 114), (27487, 114))"
      ]
     },
     "execution_count": 14,
     "metadata": {},
     "output_type": "execute_result"
    }
   ],
   "source": [
    "X_train = train_adata.X[train_idxs]\n",
    "X_test = train_adata.X[test_idxs]\n",
    "X_val = train_adata.X[val_idxs]\n",
    "X_train.shape, X_test.shape, X_val.shape"
   ]
  },
  {
   "cell_type": "code",
   "execution_count": 15,
   "id": "47a9ae6a",
   "metadata": {
    "execution": {
     "iopub.execute_input": "2025-05-15T15:59:20.633317Z",
     "iopub.status.busy": "2025-05-15T15:59:20.632973Z",
     "iopub.status.idle": "2025-05-15T15:59:20.645712Z",
     "shell.execute_reply": "2025-05-15T15:59:20.645302Z"
    },
    "papermill": {
     "duration": 0.020311,
     "end_time": "2025-05-15T15:59:20.646601",
     "exception": false,
     "start_time": "2025-05-15T15:59:20.626290",
     "status": "completed"
    },
    "tags": []
   },
   "outputs": [
    {
     "data": {
      "text/plain": [
       "((82534,), (27414,), (27487,))"
      ]
     },
     "execution_count": 15,
     "metadata": {},
     "output_type": "execute_result"
    }
   ],
   "source": [
    "y_train = train_adata.obs.iloc[train_idxs].disease.values.astype(str)\n",
    "y_test = train_adata.obs.iloc[test_idxs].disease.values.astype(str)\n",
    "y_val = train_adata.obs.iloc[val_idxs].disease.values.astype(str)\n",
    "y_train.shape, y_test.shape, y_val.shape"
   ]
  },
  {
   "cell_type": "code",
   "execution_count": 16,
   "id": "b7a667f1",
   "metadata": {
    "execution": {
     "iopub.execute_input": "2025-05-15T15:59:20.696656Z",
     "iopub.status.busy": "2025-05-15T15:59:20.696283Z",
     "iopub.status.idle": "2025-05-15T15:59:20.725633Z",
     "shell.execute_reply": "2025-05-15T15:59:20.725230Z"
    },
    "papermill": {
     "duration": 0.060112,
     "end_time": "2025-05-15T15:59:20.726763",
     "exception": false,
     "start_time": "2025-05-15T15:59:20.666651",
     "status": "completed"
    },
    "tags": []
   },
   "outputs": [],
   "source": [
    "lenc = LabelEncoder()\n",
    "y_train_enc = lenc.fit_transform(y_train)\n",
    "y_val_enc = lenc.transform(y_val)\n",
    "y_test_enc = lenc.transform(y_test)"
   ]
  },
  {
   "cell_type": "markdown",
   "id": "39c9ac57",
   "metadata": {
    "papermill": {
     "duration": 0.006394,
     "end_time": "2025-05-15T15:59:20.739769",
     "exception": false,
     "start_time": "2025-05-15T15:59:20.733375",
     "status": "completed"
    },
    "tags": []
   },
   "source": [
    "### GENERATE F1 "
   ]
  },
  {
   "cell_type": "code",
   "execution_count": 17,
   "id": "0baba11f",
   "metadata": {
    "execution": {
     "iopub.execute_input": "2025-05-15T15:59:20.753364Z",
     "iopub.status.busy": "2025-05-15T15:59:20.753186Z",
     "iopub.status.idle": "2025-05-15T15:59:20.755730Z",
     "shell.execute_reply": "2025-05-15T15:59:20.755416Z"
    },
    "papermill": {
     "duration": 0.010283,
     "end_time": "2025-05-15T15:59:20.756556",
     "exception": false,
     "start_time": "2025-05-15T15:59:20.746273",
     "status": "completed"
    },
    "tags": []
   },
   "outputs": [],
   "source": [
    "def custom_f1_score(y_true, y_pred):\n",
    "    return -f1_score(y_true, y_pred.argmax(1), average='weighted')"
   ]
  },
  {
   "cell_type": "code",
   "execution_count": 18,
   "id": "12d8969a",
   "metadata": {
    "execution": {
     "iopub.execute_input": "2025-05-15T15:59:20.803704Z",
     "iopub.status.busy": "2025-05-15T15:59:20.803439Z",
     "iopub.status.idle": "2025-05-15T15:59:20.807098Z",
     "shell.execute_reply": "2025-05-15T15:59:20.806796Z"
    },
    "papermill": {
     "duration": 0.036122,
     "end_time": "2025-05-15T15:59:20.808128",
     "exception": false,
     "start_time": "2025-05-15T15:59:20.772006",
     "status": "completed"
    },
    "tags": []
   },
   "outputs": [],
   "source": [
    "eval_metric=custom_f1_score\n",
    "eval_metric_name='custom_f1_score'\n",
    "\n",
    "def objective(trial):\n",
    "    params = {\n",
    "        'n_estimators': 1500,\n",
    "        'max_depth': trial.suggest_int('max_depth', 3, 20),\n",
    "        'min_child_weight': trial.suggest_int('min_child_weight', 1, 250),\n",
    "        'subsample': trial.suggest_float('subsample', 0.1, 1.0),\n",
    "        'colsample_bynode': trial.suggest_float('colsample_bynode', 0.1, 1.0),\n",
    "        'learning_rate': trial.suggest_float('learning_rate', 1e-3, 5e-1, log=True),\n",
    "    }\n",
    "    pruning_callback = optuna.integration.XGBoostPruningCallback(trial, f'validation_0-{eval_metric_name}')\n",
    "    es_callback = xgboost.callback.EarlyStopping(20, min_delta=0.001)\n",
    "    xgb = xgboost.XGBClassifier(\n",
    "        eval_metric=eval_metric,\n",
    "        callbacks=[pruning_callback, es_callback],\n",
    "        n_jobs=5,\n",
    "        **params\n",
    "    )\n",
    "    xgb.fit(\n",
    "        X_train, \n",
    "        y_train_enc, \n",
    "        verbose=0,\n",
    "        eval_set=[(X_val, y_val_enc)],\n",
    "    )\n",
    "    trial.set_user_attr('best_iteration', xgb.best_iteration)\n",
    "\n",
    "    return xgb.best_score"
   ]
  },
  {
   "cell_type": "code",
   "execution_count": 19,
   "id": "ff97b02f",
   "metadata": {
    "execution": {
     "iopub.execute_input": "2025-05-15T15:59:20.840425Z",
     "iopub.status.busy": "2025-05-15T15:59:20.839964Z",
     "iopub.status.idle": "2025-05-15T16:13:51.507549Z",
     "shell.execute_reply": "2025-05-15T16:13:51.506898Z"
    },
    "papermill": {
     "duration": 870.675401,
     "end_time": "2025-05-15T16:13:51.508624",
     "exception": false,
     "start_time": "2025-05-15T15:59:20.833223",
     "status": "completed"
    },
    "scrolled": true,
    "tags": []
   },
   "outputs": [
    {
     "name": "stderr",
     "output_type": "stream",
     "text": [
      "[I 2025-05-15 17:59:20,842] A new study created in memory with name: no-name-68f4bc28-47e1-4e9f-847d-310397b42620\n"
     ]
    },
    {
     "name": "stderr",
     "output_type": "stream",
     "text": [
      "[I 2025-05-15 17:59:29,598] Trial 0 finished with value: -0.61016 and parameters: {'max_depth': 9, 'min_child_weight': 238, 'subsample': 0.7587945476302645, 'colsample_bynode': 0.6387926357773329, 'learning_rate': 0.0026368755339723046}. Best is trial 0 with value: -0.61016.\n"
     ]
    },
    {
     "name": "stderr",
     "output_type": "stream",
     "text": [
      "[I 2025-05-15 18:01:04,174] Trial 1 finished with value: -0.724274 and parameters: {'max_depth': 5, 'min_child_weight': 15, 'subsample': 0.8795585311974417, 'colsample_bynode': 0.6410035105688879, 'learning_rate': 0.08148293210105287}. Best is trial 1 with value: -0.724274.\n"
     ]
    },
    {
     "name": "stderr",
     "output_type": "stream",
     "text": [
      "[I 2025-05-15 18:01:14,923] Trial 2 finished with value: -0.567384 and parameters: {'max_depth': 3, 'min_child_weight': 243, 'subsample': 0.8491983767203796, 'colsample_bynode': 0.29110519961044856, 'learning_rate': 0.003095566460242371}. Best is trial 1 with value: -0.724274.\n"
     ]
    },
    {
     "name": "stderr",
     "output_type": "stream",
     "text": [
      "[I 2025-05-15 18:01:21,593] Trial 3 finished with value: -0.625883 and parameters: {'max_depth': 6, 'min_child_weight': 77, 'subsample': 0.5722807884690141, 'colsample_bynode': 0.48875051677790415, 'learning_rate': 0.006109683510122491}. Best is trial 1 with value: -0.724274.\n"
     ]
    },
    {
     "name": "stderr",
     "output_type": "stream",
     "text": [
      "[I 2025-05-15 18:03:52,675] Trial 4 finished with value: -0.702092 and parameters: {'max_depth': 14, 'min_child_weight': 35, 'subsample': 0.3629301836816964, 'colsample_bynode': 0.4297256589643226, 'learning_rate': 0.01701841881702917}. Best is trial 1 with value: -0.724274.\n"
     ]
    },
    {
     "name": "stderr",
     "output_type": "stream",
     "text": [
      "[I 2025-05-15 18:04:04,626] Trial 5 pruned. Trial was pruned at iteration 28.\n"
     ]
    },
    {
     "name": "stderr",
     "output_type": "stream",
     "text": [
      "[I 2025-05-15 18:04:05,402] Trial 6 pruned. Trial was pruned at iteration 0.\n"
     ]
    },
    {
     "name": "stderr",
     "output_type": "stream",
     "text": [
      "[I 2025-05-15 18:04:06,159] Trial 7 pruned. Trial was pruned at iteration 0.\n"
     ]
    },
    {
     "name": "stderr",
     "output_type": "stream",
     "text": [
      "[I 2025-05-15 18:04:06,865] Trial 8 pruned. Trial was pruned at iteration 0.\n"
     ]
    },
    {
     "name": "stderr",
     "output_type": "stream",
     "text": [
      "[I 2025-05-15 18:04:15,168] Trial 9 finished with value: -0.633398 and parameters: {'max_depth': 14, 'min_child_weight': 78, 'subsample': 0.5680612190600297, 'colsample_bynode': 0.5920392514089517, 'learning_rate': 0.0031543990308330965}. Best is trial 1 with value: -0.724274.\n"
     ]
    },
    {
     "name": "stderr",
     "output_type": "stream",
     "text": [
      "[I 2025-05-15 18:05:02,763] Trial 10 finished with value: -0.716631 and parameters: {'max_depth': 9, 'min_child_weight': 2, 'subsample': 0.9725833997090791, 'colsample_bynode': 0.11616568805333755, 'learning_rate': 0.17780618353487967}. Best is trial 1 with value: -0.724274.\n"
     ]
    },
    {
     "name": "stderr",
     "output_type": "stream",
     "text": [
      "[I 2025-05-15 18:06:13,265] Trial 11 finished with value: -0.720627 and parameters: {'max_depth': 9, 'min_child_weight': 4, 'subsample': 0.9818290990185045, 'colsample_bynode': 0.17702656156719, 'learning_rate': 0.11568531411766632}. Best is trial 1 with value: -0.724274.\n"
     ]
    },
    {
     "name": "stderr",
     "output_type": "stream",
     "text": [
      "[I 2025-05-15 18:06:14,205] Trial 12 pruned. Trial was pruned at iteration 0.\n"
     ]
    },
    {
     "name": "stderr",
     "output_type": "stream",
     "text": [
      "[I 2025-05-15 18:06:14,992] Trial 13 pruned. Trial was pruned at iteration 0.\n"
     ]
    },
    {
     "name": "stderr",
     "output_type": "stream",
     "text": [
      "[I 2025-05-15 18:06:15,795] Trial 14 pruned. Trial was pruned at iteration 0.\n"
     ]
    },
    {
     "name": "stderr",
     "output_type": "stream",
     "text": [
      "[I 2025-05-15 18:07:23,963] Trial 15 finished with value: -0.714621 and parameters: {'max_depth': 20, 'min_child_weight': 1, 'subsample': 0.7012908959710442, 'colsample_bynode': 0.2540835086298475, 'learning_rate': 0.2833114876720916}. Best is trial 1 with value: -0.724274.\n"
     ]
    },
    {
     "name": "stderr",
     "output_type": "stream",
     "text": [
      "[I 2025-05-15 18:07:24,704] Trial 16 pruned. Trial was pruned at iteration 0.\n"
     ]
    },
    {
     "name": "stderr",
     "output_type": "stream",
     "text": [
      "[I 2025-05-15 18:07:25,464] Trial 17 pruned. Trial was pruned at iteration 0.\n"
     ]
    },
    {
     "name": "stderr",
     "output_type": "stream",
     "text": [
      "[I 2025-05-15 18:08:37,098] Trial 18 finished with value: -0.729716 and parameters: {'max_depth': 11, 'min_child_weight': 37, 'subsample': 0.8988001325877066, 'colsample_bynode': 0.3955466156360019, 'learning_rate': 0.13348559174149954}. Best is trial 18 with value: -0.729716.\n"
     ]
    },
    {
     "name": "stderr",
     "output_type": "stream",
     "text": [
      "[I 2025-05-15 18:08:37,984] Trial 19 pruned. Trial was pruned at iteration 0.\n"
     ]
    },
    {
     "name": "stderr",
     "output_type": "stream",
     "text": [
      "[I 2025-05-15 18:09:30,440] Trial 20 finished with value: -0.73071 and parameters: {'max_depth': 16, 'min_child_weight': 36, 'subsample': 0.6578156841377696, 'colsample_bynode': 0.5501785677119223, 'learning_rate': 0.2221537505158567}. Best is trial 20 with value: -0.73071.\n"
     ]
    },
    {
     "name": "stderr",
     "output_type": "stream",
     "text": [
      "[I 2025-05-15 18:10:01,762] Trial 21 finished with value: -0.725648 and parameters: {'max_depth': 17, 'min_child_weight': 32, 'subsample': 0.6689074388587125, 'colsample_bynode': 0.5334907331464369, 'learning_rate': 0.24892967230551474}. Best is trial 20 with value: -0.73071.\n"
     ]
    },
    {
     "name": "stderr",
     "output_type": "stream",
     "text": [
      "[I 2025-05-15 18:10:44,275] Trial 22 finished with value: -0.731443 and parameters: {'max_depth': 17, 'min_child_weight': 34, 'subsample': 0.6581340170061017, 'colsample_bynode': 0.5266652989265285, 'learning_rate': 0.46863809772466414}. Best is trial 22 with value: -0.731443.\n"
     ]
    },
    {
     "name": "stderr",
     "output_type": "stream",
     "text": [
      "[I 2025-05-15 18:10:45,139] Trial 23 pruned. Trial was pruned at iteration 0.\n"
     ]
    },
    {
     "name": "stderr",
     "output_type": "stream",
     "text": [
      "[I 2025-05-15 18:10:46,350] Trial 24 pruned. Trial was pruned at iteration 1.\n"
     ]
    },
    {
     "name": "stderr",
     "output_type": "stream",
     "text": [
      "[I 2025-05-15 18:11:19,920] Trial 25 finished with value: -0.726604 and parameters: {'max_depth': 19, 'min_child_weight': 26, 'subsample': 0.6323659038961531, 'colsample_bynode': 0.3077596362702222, 'learning_rate': 0.41699808980861947}. Best is trial 22 with value: -0.731443.\n"
     ]
    },
    {
     "name": "stderr",
     "output_type": "stream",
     "text": [
      "[I 2025-05-15 18:11:20,712] Trial 26 pruned. Trial was pruned at iteration 0.\n"
     ]
    },
    {
     "name": "stderr",
     "output_type": "stream",
     "text": [
      "[I 2025-05-15 18:11:21,512] Trial 27 pruned. Trial was pruned at iteration 0.\n"
     ]
    },
    {
     "name": "stderr",
     "output_type": "stream",
     "text": [
      "[I 2025-05-15 18:11:22,383] Trial 28 pruned. Trial was pruned at iteration 0.\n"
     ]
    },
    {
     "name": "stderr",
     "output_type": "stream",
     "text": [
      "[I 2025-05-15 18:11:23,224] Trial 29 pruned. Trial was pruned at iteration 0.\n"
     ]
    },
    {
     "name": "stderr",
     "output_type": "stream",
     "text": [
      "[I 2025-05-15 18:11:24,133] Trial 30 pruned. Trial was pruned at iteration 0.\n"
     ]
    },
    {
     "name": "stderr",
     "output_type": "stream",
     "text": [
      "[I 2025-05-15 18:11:25,123] Trial 31 pruned. Trial was pruned at iteration 0.\n"
     ]
    },
    {
     "name": "stderr",
     "output_type": "stream",
     "text": [
      "[I 2025-05-15 18:11:42,917] Trial 32 pruned. Trial was pruned at iteration 31.\n"
     ]
    },
    {
     "name": "stderr",
     "output_type": "stream",
     "text": [
      "[I 2025-05-15 18:12:22,750] Trial 33 finished with value: -0.728208 and parameters: {'max_depth': 16, 'min_child_weight': 18, 'subsample': 0.9223379414923618, 'colsample_bynode': 0.34604861863816894, 'learning_rate': 0.48158813191443267}. Best is trial 22 with value: -0.731443.\n"
     ]
    },
    {
     "name": "stderr",
     "output_type": "stream",
     "text": [
      "[I 2025-05-15 18:12:23,689] Trial 34 pruned. Trial was pruned at iteration 0.\n"
     ]
    },
    {
     "name": "stderr",
     "output_type": "stream",
     "text": [
      "[I 2025-05-15 18:12:24,559] Trial 35 pruned. Trial was pruned at iteration 0.\n"
     ]
    },
    {
     "name": "stderr",
     "output_type": "stream",
     "text": [
      "[I 2025-05-15 18:13:06,879] Trial 36 finished with value: -0.725407 and parameters: {'max_depth': 10, 'min_child_weight': 19, 'subsample': 0.8206505918069629, 'colsample_bynode': 0.628542476293521, 'learning_rate': 0.18323711723489258}. Best is trial 22 with value: -0.731443.\n"
     ]
    },
    {
     "name": "stderr",
     "output_type": "stream",
     "text": [
      "[I 2025-05-15 18:13:07,822] Trial 37 pruned. Trial was pruned at iteration 0.\n"
     ]
    },
    {
     "name": "stderr",
     "output_type": "stream",
     "text": [
      "[I 2025-05-15 18:13:08,664] Trial 38 pruned. Trial was pruned at iteration 0.\n"
     ]
    },
    {
     "name": "stderr",
     "output_type": "stream",
     "text": [
      "[I 2025-05-15 18:13:14,300] Trial 39 pruned. Trial was pruned at iteration 8.\n"
     ]
    },
    {
     "name": "stderr",
     "output_type": "stream",
     "text": [
      "[I 2025-05-15 18:13:15,714] Trial 40 pruned. Trial was pruned at iteration 1.\n"
     ]
    },
    {
     "name": "stderr",
     "output_type": "stream",
     "text": [
      "[I 2025-05-15 18:13:16,653] Trial 41 pruned. Trial was pruned at iteration 0.\n"
     ]
    },
    {
     "name": "stderr",
     "output_type": "stream",
     "text": [
      "[I 2025-05-15 18:13:45,056] Trial 42 finished with value: -0.724806 and parameters: {'max_depth': 19, 'min_child_weight': 16, 'subsample': 0.6286439728759933, 'colsample_bynode': 0.3283935830169606, 'learning_rate': 0.4953556169823377}. Best is trial 22 with value: -0.731443.\n"
     ]
    },
    {
     "name": "stderr",
     "output_type": "stream",
     "text": [
      "[I 2025-05-15 18:13:46,014] Trial 43 pruned. Trial was pruned at iteration 0.\n"
     ]
    },
    {
     "name": "stderr",
     "output_type": "stream",
     "text": [
      "[I 2025-05-15 18:13:46,822] Trial 44 pruned. Trial was pruned at iteration 0.\n"
     ]
    },
    {
     "name": "stderr",
     "output_type": "stream",
     "text": [
      "[I 2025-05-15 18:13:47,860] Trial 45 pruned. Trial was pruned at iteration 0.\n"
     ]
    },
    {
     "name": "stderr",
     "output_type": "stream",
     "text": [
      "[I 2025-05-15 18:13:48,790] Trial 46 pruned. Trial was pruned at iteration 0.\n"
     ]
    },
    {
     "name": "stderr",
     "output_type": "stream",
     "text": [
      "[I 2025-05-15 18:13:49,684] Trial 47 pruned. Trial was pruned at iteration 0.\n"
     ]
    },
    {
     "name": "stderr",
     "output_type": "stream",
     "text": [
      "[I 2025-05-15 18:13:50,540] Trial 48 pruned. Trial was pruned at iteration 0.\n"
     ]
    },
    {
     "name": "stderr",
     "output_type": "stream",
     "text": [
      "[I 2025-05-15 18:13:51,401] Trial 49 pruned. Trial was pruned at iteration 0.\n"
     ]
    }
   ],
   "source": [
    "sampler = optuna.samplers.TPESampler(seed=42)\n",
    "study = optuna.create_study(direction='minimize', sampler=sampler)\n",
    "study.optimize(objective, n_trials=N_TRIALS, gc_after_trial=True)"
   ]
  },
  {
   "cell_type": "code",
   "execution_count": 20,
   "id": "eeba747c",
   "metadata": {
    "execution": {
     "iopub.execute_input": "2025-05-15T16:13:51.541821Z",
     "iopub.status.busy": "2025-05-15T16:13:51.541540Z",
     "iopub.status.idle": "2025-05-15T16:13:51.578549Z",
     "shell.execute_reply": "2025-05-15T16:13:51.578079Z"
    },
    "papermill": {
     "duration": 0.053493,
     "end_time": "2025-05-15T16:13:51.579641",
     "exception": false,
     "start_time": "2025-05-15T16:13:51.526148",
     "status": "completed"
    },
    "tags": []
   },
   "outputs": [
    {
     "data": {
      "text/plain": [
       "['/scratch_isilon/groups/singlecell/shared/projects/Inflammation-PBMCs-Atlas/03_downstream_analysis/08_gene_importance/xgboost_external_validation/xgboost_TopN_genes/results_20/study/Mono_6_0_xgboost.pkl']"
      ]
     },
     "execution_count": 20,
     "metadata": {},
     "output_type": "execute_result"
    }
   ],
   "source": [
    "out_dir = here(f'03_downstream_analysis/08_gene_importance/xgboost_external_validation/xgboost_TopN_genes/results_{N_GENES}/study')\n",
    "\n",
    "if not os.path.exists(out_dir):\n",
    "    os.makedirs(out_dir)\n",
    "    \n",
    "joblib.dump(study,os.path.join(out_dir, f'{CELL_TYPE}_{SEED}_{TEST_SPLIT_IDX}_xgboost.pkl'))"
   ]
  },
  {
   "cell_type": "code",
   "execution_count": 21,
   "id": "d910ece3",
   "metadata": {
    "execution": {
     "iopub.execute_input": "2025-05-15T16:13:51.610066Z",
     "iopub.status.busy": "2025-05-15T16:13:51.609783Z",
     "iopub.status.idle": "2025-05-15T16:14:11.660712Z",
     "shell.execute_reply": "2025-05-15T16:14:11.660210Z"
    },
    "papermill": {
     "duration": 20.06262,
     "end_time": "2025-05-15T16:14:11.661780",
     "exception": false,
     "start_time": "2025-05-15T16:13:51.599160",
     "status": "completed"
    },
    "tags": []
   },
   "outputs": [
    {
     "data": {
      "text/html": [
       "<style>#sk-container-id-1 {\n",
       "  /* Definition of color scheme common for light and dark mode */\n",
       "  --sklearn-color-text: black;\n",
       "  --sklearn-color-line: gray;\n",
       "  /* Definition of color scheme for unfitted estimators */\n",
       "  --sklearn-color-unfitted-level-0: #fff5e6;\n",
       "  --sklearn-color-unfitted-level-1: #f6e4d2;\n",
       "  --sklearn-color-unfitted-level-2: #ffe0b3;\n",
       "  --sklearn-color-unfitted-level-3: chocolate;\n",
       "  /* Definition of color scheme for fitted estimators */\n",
       "  --sklearn-color-fitted-level-0: #f0f8ff;\n",
       "  --sklearn-color-fitted-level-1: #d4ebff;\n",
       "  --sklearn-color-fitted-level-2: #b3dbfd;\n",
       "  --sklearn-color-fitted-level-3: cornflowerblue;\n",
       "\n",
       "  /* Specific color for light theme */\n",
       "  --sklearn-color-text-on-default-background: var(--sg-text-color, var(--theme-code-foreground, var(--jp-content-font-color1, black)));\n",
       "  --sklearn-color-background: var(--sg-background-color, var(--theme-background, var(--jp-layout-color0, white)));\n",
       "  --sklearn-color-border-box: var(--sg-text-color, var(--theme-code-foreground, var(--jp-content-font-color1, black)));\n",
       "  --sklearn-color-icon: #696969;\n",
       "\n",
       "  @media (prefers-color-scheme: dark) {\n",
       "    /* Redefinition of color scheme for dark theme */\n",
       "    --sklearn-color-text-on-default-background: var(--sg-text-color, var(--theme-code-foreground, var(--jp-content-font-color1, white)));\n",
       "    --sklearn-color-background: var(--sg-background-color, var(--theme-background, var(--jp-layout-color0, #111)));\n",
       "    --sklearn-color-border-box: var(--sg-text-color, var(--theme-code-foreground, var(--jp-content-font-color1, white)));\n",
       "    --sklearn-color-icon: #878787;\n",
       "  }\n",
       "}\n",
       "\n",
       "#sk-container-id-1 {\n",
       "  color: var(--sklearn-color-text);\n",
       "}\n",
       "\n",
       "#sk-container-id-1 pre {\n",
       "  padding: 0;\n",
       "}\n",
       "\n",
       "#sk-container-id-1 input.sk-hidden--visually {\n",
       "  border: 0;\n",
       "  clip: rect(1px 1px 1px 1px);\n",
       "  clip: rect(1px, 1px, 1px, 1px);\n",
       "  height: 1px;\n",
       "  margin: -1px;\n",
       "  overflow: hidden;\n",
       "  padding: 0;\n",
       "  position: absolute;\n",
       "  width: 1px;\n",
       "}\n",
       "\n",
       "#sk-container-id-1 div.sk-dashed-wrapped {\n",
       "  border: 1px dashed var(--sklearn-color-line);\n",
       "  margin: 0 0.4em 0.5em 0.4em;\n",
       "  box-sizing: border-box;\n",
       "  padding-bottom: 0.4em;\n",
       "  background-color: var(--sklearn-color-background);\n",
       "}\n",
       "\n",
       "#sk-container-id-1 div.sk-container {\n",
       "  /* jupyter's `normalize.less` sets `[hidden] { display: none; }`\n",
       "     but bootstrap.min.css set `[hidden] { display: none !important; }`\n",
       "     so we also need the `!important` here to be able to override the\n",
       "     default hidden behavior on the sphinx rendered scikit-learn.org.\n",
       "     See: https://github.com/scikit-learn/scikit-learn/issues/21755 */\n",
       "  display: inline-block !important;\n",
       "  position: relative;\n",
       "}\n",
       "\n",
       "#sk-container-id-1 div.sk-text-repr-fallback {\n",
       "  display: none;\n",
       "}\n",
       "\n",
       "div.sk-parallel-item,\n",
       "div.sk-serial,\n",
       "div.sk-item {\n",
       "  /* draw centered vertical line to link estimators */\n",
       "  background-image: linear-gradient(var(--sklearn-color-text-on-default-background), var(--sklearn-color-text-on-default-background));\n",
       "  background-size: 2px 100%;\n",
       "  background-repeat: no-repeat;\n",
       "  background-position: center center;\n",
       "}\n",
       "\n",
       "/* Parallel-specific style estimator block */\n",
       "\n",
       "#sk-container-id-1 div.sk-parallel-item::after {\n",
       "  content: \"\";\n",
       "  width: 100%;\n",
       "  border-bottom: 2px solid var(--sklearn-color-text-on-default-background);\n",
       "  flex-grow: 1;\n",
       "}\n",
       "\n",
       "#sk-container-id-1 div.sk-parallel {\n",
       "  display: flex;\n",
       "  align-items: stretch;\n",
       "  justify-content: center;\n",
       "  background-color: var(--sklearn-color-background);\n",
       "  position: relative;\n",
       "}\n",
       "\n",
       "#sk-container-id-1 div.sk-parallel-item {\n",
       "  display: flex;\n",
       "  flex-direction: column;\n",
       "}\n",
       "\n",
       "#sk-container-id-1 div.sk-parallel-item:first-child::after {\n",
       "  align-self: flex-end;\n",
       "  width: 50%;\n",
       "}\n",
       "\n",
       "#sk-container-id-1 div.sk-parallel-item:last-child::after {\n",
       "  align-self: flex-start;\n",
       "  width: 50%;\n",
       "}\n",
       "\n",
       "#sk-container-id-1 div.sk-parallel-item:only-child::after {\n",
       "  width: 0;\n",
       "}\n",
       "\n",
       "/* Serial-specific style estimator block */\n",
       "\n",
       "#sk-container-id-1 div.sk-serial {\n",
       "  display: flex;\n",
       "  flex-direction: column;\n",
       "  align-items: center;\n",
       "  background-color: var(--sklearn-color-background);\n",
       "  padding-right: 1em;\n",
       "  padding-left: 1em;\n",
       "}\n",
       "\n",
       "\n",
       "/* Toggleable style: style used for estimator/Pipeline/ColumnTransformer box that is\n",
       "clickable and can be expanded/collapsed.\n",
       "- Pipeline and ColumnTransformer use this feature and define the default style\n",
       "- Estimators will overwrite some part of the style using the `sk-estimator` class\n",
       "*/\n",
       "\n",
       "/* Pipeline and ColumnTransformer style (default) */\n",
       "\n",
       "#sk-container-id-1 div.sk-toggleable {\n",
       "  /* Default theme specific background. It is overwritten whether we have a\n",
       "  specific estimator or a Pipeline/ColumnTransformer */\n",
       "  background-color: var(--sklearn-color-background);\n",
       "}\n",
       "\n",
       "/* Toggleable label */\n",
       "#sk-container-id-1 label.sk-toggleable__label {\n",
       "  cursor: pointer;\n",
       "  display: block;\n",
       "  width: 100%;\n",
       "  margin-bottom: 0;\n",
       "  padding: 0.5em;\n",
       "  box-sizing: border-box;\n",
       "  text-align: center;\n",
       "}\n",
       "\n",
       "#sk-container-id-1 label.sk-toggleable__label-arrow:before {\n",
       "  /* Arrow on the left of the label */\n",
       "  content: \"▸\";\n",
       "  float: left;\n",
       "  margin-right: 0.25em;\n",
       "  color: var(--sklearn-color-icon);\n",
       "}\n",
       "\n",
       "#sk-container-id-1 label.sk-toggleable__label-arrow:hover:before {\n",
       "  color: var(--sklearn-color-text);\n",
       "}\n",
       "\n",
       "/* Toggleable content - dropdown */\n",
       "\n",
       "#sk-container-id-1 div.sk-toggleable__content {\n",
       "  max-height: 0;\n",
       "  max-width: 0;\n",
       "  overflow: hidden;\n",
       "  text-align: left;\n",
       "  /* unfitted */\n",
       "  background-color: var(--sklearn-color-unfitted-level-0);\n",
       "}\n",
       "\n",
       "#sk-container-id-1 div.sk-toggleable__content.fitted {\n",
       "  /* fitted */\n",
       "  background-color: var(--sklearn-color-fitted-level-0);\n",
       "}\n",
       "\n",
       "#sk-container-id-1 div.sk-toggleable__content pre {\n",
       "  margin: 0.2em;\n",
       "  border-radius: 0.25em;\n",
       "  color: var(--sklearn-color-text);\n",
       "  /* unfitted */\n",
       "  background-color: var(--sklearn-color-unfitted-level-0);\n",
       "}\n",
       "\n",
       "#sk-container-id-1 div.sk-toggleable__content.fitted pre {\n",
       "  /* unfitted */\n",
       "  background-color: var(--sklearn-color-fitted-level-0);\n",
       "}\n",
       "\n",
       "#sk-container-id-1 input.sk-toggleable__control:checked~div.sk-toggleable__content {\n",
       "  /* Expand drop-down */\n",
       "  max-height: 200px;\n",
       "  max-width: 100%;\n",
       "  overflow: auto;\n",
       "}\n",
       "\n",
       "#sk-container-id-1 input.sk-toggleable__control:checked~label.sk-toggleable__label-arrow:before {\n",
       "  content: \"▾\";\n",
       "}\n",
       "\n",
       "/* Pipeline/ColumnTransformer-specific style */\n",
       "\n",
       "#sk-container-id-1 div.sk-label input.sk-toggleable__control:checked~label.sk-toggleable__label {\n",
       "  color: var(--sklearn-color-text);\n",
       "  background-color: var(--sklearn-color-unfitted-level-2);\n",
       "}\n",
       "\n",
       "#sk-container-id-1 div.sk-label.fitted input.sk-toggleable__control:checked~label.sk-toggleable__label {\n",
       "  background-color: var(--sklearn-color-fitted-level-2);\n",
       "}\n",
       "\n",
       "/* Estimator-specific style */\n",
       "\n",
       "/* Colorize estimator box */\n",
       "#sk-container-id-1 div.sk-estimator input.sk-toggleable__control:checked~label.sk-toggleable__label {\n",
       "  /* unfitted */\n",
       "  background-color: var(--sklearn-color-unfitted-level-2);\n",
       "}\n",
       "\n",
       "#sk-container-id-1 div.sk-estimator.fitted input.sk-toggleable__control:checked~label.sk-toggleable__label {\n",
       "  /* fitted */\n",
       "  background-color: var(--sklearn-color-fitted-level-2);\n",
       "}\n",
       "\n",
       "#sk-container-id-1 div.sk-label label.sk-toggleable__label,\n",
       "#sk-container-id-1 div.sk-label label {\n",
       "  /* The background is the default theme color */\n",
       "  color: var(--sklearn-color-text-on-default-background);\n",
       "}\n",
       "\n",
       "/* On hover, darken the color of the background */\n",
       "#sk-container-id-1 div.sk-label:hover label.sk-toggleable__label {\n",
       "  color: var(--sklearn-color-text);\n",
       "  background-color: var(--sklearn-color-unfitted-level-2);\n",
       "}\n",
       "\n",
       "/* Label box, darken color on hover, fitted */\n",
       "#sk-container-id-1 div.sk-label.fitted:hover label.sk-toggleable__label.fitted {\n",
       "  color: var(--sklearn-color-text);\n",
       "  background-color: var(--sklearn-color-fitted-level-2);\n",
       "}\n",
       "\n",
       "/* Estimator label */\n",
       "\n",
       "#sk-container-id-1 div.sk-label label {\n",
       "  font-family: monospace;\n",
       "  font-weight: bold;\n",
       "  display: inline-block;\n",
       "  line-height: 1.2em;\n",
       "}\n",
       "\n",
       "#sk-container-id-1 div.sk-label-container {\n",
       "  text-align: center;\n",
       "}\n",
       "\n",
       "/* Estimator-specific */\n",
       "#sk-container-id-1 div.sk-estimator {\n",
       "  font-family: monospace;\n",
       "  border: 1px dotted var(--sklearn-color-border-box);\n",
       "  border-radius: 0.25em;\n",
       "  box-sizing: border-box;\n",
       "  margin-bottom: 0.5em;\n",
       "  /* unfitted */\n",
       "  background-color: var(--sklearn-color-unfitted-level-0);\n",
       "}\n",
       "\n",
       "#sk-container-id-1 div.sk-estimator.fitted {\n",
       "  /* fitted */\n",
       "  background-color: var(--sklearn-color-fitted-level-0);\n",
       "}\n",
       "\n",
       "/* on hover */\n",
       "#sk-container-id-1 div.sk-estimator:hover {\n",
       "  /* unfitted */\n",
       "  background-color: var(--sklearn-color-unfitted-level-2);\n",
       "}\n",
       "\n",
       "#sk-container-id-1 div.sk-estimator.fitted:hover {\n",
       "  /* fitted */\n",
       "  background-color: var(--sklearn-color-fitted-level-2);\n",
       "}\n",
       "\n",
       "/* Specification for estimator info (e.g. \"i\" and \"?\") */\n",
       "\n",
       "/* Common style for \"i\" and \"?\" */\n",
       "\n",
       ".sk-estimator-doc-link,\n",
       "a:link.sk-estimator-doc-link,\n",
       "a:visited.sk-estimator-doc-link {\n",
       "  float: right;\n",
       "  font-size: smaller;\n",
       "  line-height: 1em;\n",
       "  font-family: monospace;\n",
       "  background-color: var(--sklearn-color-background);\n",
       "  border-radius: 1em;\n",
       "  height: 1em;\n",
       "  width: 1em;\n",
       "  text-decoration: none !important;\n",
       "  margin-left: 1ex;\n",
       "  /* unfitted */\n",
       "  border: var(--sklearn-color-unfitted-level-1) 1pt solid;\n",
       "  color: var(--sklearn-color-unfitted-level-1);\n",
       "}\n",
       "\n",
       ".sk-estimator-doc-link.fitted,\n",
       "a:link.sk-estimator-doc-link.fitted,\n",
       "a:visited.sk-estimator-doc-link.fitted {\n",
       "  /* fitted */\n",
       "  border: var(--sklearn-color-fitted-level-1) 1pt solid;\n",
       "  color: var(--sklearn-color-fitted-level-1);\n",
       "}\n",
       "\n",
       "/* On hover */\n",
       "div.sk-estimator:hover .sk-estimator-doc-link:hover,\n",
       ".sk-estimator-doc-link:hover,\n",
       "div.sk-label-container:hover .sk-estimator-doc-link:hover,\n",
       ".sk-estimator-doc-link:hover {\n",
       "  /* unfitted */\n",
       "  background-color: var(--sklearn-color-unfitted-level-3);\n",
       "  color: var(--sklearn-color-background);\n",
       "  text-decoration: none;\n",
       "}\n",
       "\n",
       "div.sk-estimator.fitted:hover .sk-estimator-doc-link.fitted:hover,\n",
       ".sk-estimator-doc-link.fitted:hover,\n",
       "div.sk-label-container:hover .sk-estimator-doc-link.fitted:hover,\n",
       ".sk-estimator-doc-link.fitted:hover {\n",
       "  /* fitted */\n",
       "  background-color: var(--sklearn-color-fitted-level-3);\n",
       "  color: var(--sklearn-color-background);\n",
       "  text-decoration: none;\n",
       "}\n",
       "\n",
       "/* Span, style for the box shown on hovering the info icon */\n",
       ".sk-estimator-doc-link span {\n",
       "  display: none;\n",
       "  z-index: 9999;\n",
       "  position: relative;\n",
       "  font-weight: normal;\n",
       "  right: .2ex;\n",
       "  padding: .5ex;\n",
       "  margin: .5ex;\n",
       "  width: min-content;\n",
       "  min-width: 20ex;\n",
       "  max-width: 50ex;\n",
       "  color: var(--sklearn-color-text);\n",
       "  box-shadow: 2pt 2pt 4pt #999;\n",
       "  /* unfitted */\n",
       "  background: var(--sklearn-color-unfitted-level-0);\n",
       "  border: .5pt solid var(--sklearn-color-unfitted-level-3);\n",
       "}\n",
       "\n",
       ".sk-estimator-doc-link.fitted span {\n",
       "  /* fitted */\n",
       "  background: var(--sklearn-color-fitted-level-0);\n",
       "  border: var(--sklearn-color-fitted-level-3);\n",
       "}\n",
       "\n",
       ".sk-estimator-doc-link:hover span {\n",
       "  display: block;\n",
       "}\n",
       "\n",
       "/* \"?\"-specific style due to the `<a>` HTML tag */\n",
       "\n",
       "#sk-container-id-1 a.estimator_doc_link {\n",
       "  float: right;\n",
       "  font-size: 1rem;\n",
       "  line-height: 1em;\n",
       "  font-family: monospace;\n",
       "  background-color: var(--sklearn-color-background);\n",
       "  border-radius: 1rem;\n",
       "  height: 1rem;\n",
       "  width: 1rem;\n",
       "  text-decoration: none;\n",
       "  /* unfitted */\n",
       "  color: var(--sklearn-color-unfitted-level-1);\n",
       "  border: var(--sklearn-color-unfitted-level-1) 1pt solid;\n",
       "}\n",
       "\n",
       "#sk-container-id-1 a.estimator_doc_link.fitted {\n",
       "  /* fitted */\n",
       "  border: var(--sklearn-color-fitted-level-1) 1pt solid;\n",
       "  color: var(--sklearn-color-fitted-level-1);\n",
       "}\n",
       "\n",
       "/* On hover */\n",
       "#sk-container-id-1 a.estimator_doc_link:hover {\n",
       "  /* unfitted */\n",
       "  background-color: var(--sklearn-color-unfitted-level-3);\n",
       "  color: var(--sklearn-color-background);\n",
       "  text-decoration: none;\n",
       "}\n",
       "\n",
       "#sk-container-id-1 a.estimator_doc_link.fitted:hover {\n",
       "  /* fitted */\n",
       "  background-color: var(--sklearn-color-fitted-level-3);\n",
       "}\n",
       "</style><div id=\"sk-container-id-1\" class=\"sk-top-container\"><div class=\"sk-text-repr-fallback\"><pre>XGBClassifier(base_score=None, booster=None, callbacks=None,\n",
       "              colsample_bylevel=None, colsample_bynode=0.5266652989265285,\n",
       "              colsample_bytree=None, device=None, early_stopping_rounds=None,\n",
       "              enable_categorical=False,\n",
       "              eval_metric=&lt;function custom_f1_score at 0x7fc275978720&gt;,\n",
       "              feature_types=None, gamma=None, grow_policy=None,\n",
       "              importance_type=None, interaction_constraints=None,\n",
       "              learning_rate=0.46863809772466414, max_bin=None,\n",
       "              max_cat_threshold=None, max_cat_to_onehot=None,\n",
       "              max_delta_step=None, max_depth=17, max_leaves=None,\n",
       "              min_child_weight=34, missing=nan, monotone_constraints=None,\n",
       "              multi_strategy=None, n_estimators=122, n_jobs=None,\n",
       "              num_parallel_tree=None, objective=&#x27;multi:softprob&#x27;, ...)</pre><b>In a Jupyter environment, please rerun this cell to show the HTML representation or trust the notebook. <br />On GitHub, the HTML representation is unable to render, please try loading this page with nbviewer.org.</b></div><div class=\"sk-container\" hidden><div class=\"sk-item\"><div class=\"sk-estimator fitted sk-toggleable\"><input class=\"sk-toggleable__control sk-hidden--visually\" id=\"sk-estimator-id-1\" type=\"checkbox\" checked><label for=\"sk-estimator-id-1\" class=\"sk-toggleable__label fitted sk-toggleable__label-arrow fitted\">&nbsp;XGBClassifier<span class=\"sk-estimator-doc-link fitted\">i<span>Fitted</span></span></label><div class=\"sk-toggleable__content fitted\"><pre>XGBClassifier(base_score=None, booster=None, callbacks=None,\n",
       "              colsample_bylevel=None, colsample_bynode=0.5266652989265285,\n",
       "              colsample_bytree=None, device=None, early_stopping_rounds=None,\n",
       "              enable_categorical=False,\n",
       "              eval_metric=&lt;function custom_f1_score at 0x7fc275978720&gt;,\n",
       "              feature_types=None, gamma=None, grow_policy=None,\n",
       "              importance_type=None, interaction_constraints=None,\n",
       "              learning_rate=0.46863809772466414, max_bin=None,\n",
       "              max_cat_threshold=None, max_cat_to_onehot=None,\n",
       "              max_delta_step=None, max_depth=17, max_leaves=None,\n",
       "              min_child_weight=34, missing=nan, monotone_constraints=None,\n",
       "              multi_strategy=None, n_estimators=122, n_jobs=None,\n",
       "              num_parallel_tree=None, objective=&#x27;multi:softprob&#x27;, ...)</pre></div> </div></div></div></div>"
      ],
      "text/plain": [
       "XGBClassifier(base_score=None, booster=None, callbacks=None,\n",
       "              colsample_bylevel=None, colsample_bynode=0.5266652989265285,\n",
       "              colsample_bytree=None, device=None, early_stopping_rounds=None,\n",
       "              enable_categorical=False,\n",
       "              eval_metric=<function custom_f1_score at 0x7fc275978720>,\n",
       "              feature_types=None, gamma=None, grow_policy=None,\n",
       "              importance_type=None, interaction_constraints=None,\n",
       "              learning_rate=0.46863809772466414, max_bin=None,\n",
       "              max_cat_threshold=None, max_cat_to_onehot=None,\n",
       "              max_delta_step=None, max_depth=17, max_leaves=None,\n",
       "              min_child_weight=34, missing=nan, monotone_constraints=None,\n",
       "              multi_strategy=None, n_estimators=122, n_jobs=None,\n",
       "              num_parallel_tree=None, objective='multi:softprob', ...)"
      ]
     },
     "execution_count": 21,
     "metadata": {},
     "output_type": "execute_result"
    }
   ],
   "source": [
    "n_estimators = int(study.best_trial.user_attrs['best_iteration']*1.2)\n",
    "xgb = xgboost.XGBClassifier(\n",
    "        eval_metric=eval_metric,\n",
    "        n_estimators=n_estimators,\n",
    "        **study.best_trial.params\n",
    "    )\n",
    "xgb.fit(\n",
    "    ssp.vstack((X_train, X_val)), \n",
    "    np.concatenate((y_train_enc, y_val_enc)),\n",
    "    verbose=1,\n",
    ")"
   ]
  },
  {
   "cell_type": "code",
   "execution_count": 22,
   "id": "2123767a",
   "metadata": {
    "execution": {
     "iopub.execute_input": "2025-05-15T16:14:11.694404Z",
     "iopub.status.busy": "2025-05-15T16:14:11.694068Z",
     "iopub.status.idle": "2025-05-15T16:14:11.763397Z",
     "shell.execute_reply": "2025-05-15T16:14:11.762900Z"
    },
    "papermill": {
     "duration": 0.08036,
     "end_time": "2025-05-15T16:14:11.764334",
     "exception": false,
     "start_time": "2025-05-15T16:14:11.683974",
     "status": "completed"
    },
    "tags": []
   },
   "outputs": [
    {
     "data": {
      "text/plain": [
       "['/scratch_isilon/groups/singlecell/shared/projects/Inflammation-PBMCs-Atlas/03_downstream_analysis/08_gene_importance/xgboost_external_validation/xgboost_TopN_genes/results_20/best_model/Mono_6_0_xgb.json']"
      ]
     },
     "execution_count": 22,
     "metadata": {},
     "output_type": "execute_result"
    }
   ],
   "source": [
    "out_dir = here(f'03_downstream_analysis/08_gene_importance/xgboost_external_validation/xgboost_TopN_genes/results_{N_GENES}/best_model')\n",
    "\n",
    "if not os.path.exists(out_dir):\n",
    "    os.makedirs(out_dir)\n",
    "    \n",
    "joblib.dump(xgb, os.path.join(out_dir, f'{CELL_TYPE}_{SEED}_{TEST_SPLIT_IDX}_xgb.json'))"
   ]
  },
  {
   "cell_type": "code",
   "execution_count": 23,
   "id": "d5c0a56a",
   "metadata": {
    "execution": {
     "iopub.execute_input": "2025-05-15T16:14:11.785050Z",
     "iopub.status.busy": "2025-05-15T16:14:11.784718Z",
     "iopub.status.idle": "2025-05-15T16:14:12.552015Z",
     "shell.execute_reply": "2025-05-15T16:14:12.551418Z"
    },
    "papermill": {
     "duration": 0.779492,
     "end_time": "2025-05-15T16:14:12.553489",
     "exception": false,
     "start_time": "2025-05-15T16:14:11.773997",
     "status": "completed"
    },
    "tags": []
   },
   "outputs": [],
   "source": [
    "df_pred_test = pd.DataFrame(dict(\n",
    "    cell_id=train_adata.obs.iloc[test_idxs].index.values,\n",
    "    y_true=y_test, \n",
    "    y_true_code=y_test_enc, \n",
    "    y_pred=xgb.predict(X_test))).set_index('cell_id')"
   ]
  },
  {
   "cell_type": "code",
   "execution_count": 24,
   "id": "47e9b517",
   "metadata": {
    "execution": {
     "iopub.execute_input": "2025-05-15T16:14:12.592387Z",
     "iopub.status.busy": "2025-05-15T16:14:12.591999Z",
     "iopub.status.idle": "2025-05-15T16:14:12.739444Z",
     "shell.execute_reply": "2025-05-15T16:14:12.738830Z"
    },
    "papermill": {
     "duration": 0.170622,
     "end_time": "2025-05-15T16:14:12.740899",
     "exception": false,
     "start_time": "2025-05-15T16:14:12.570277",
     "status": "completed"
    },
    "tags": []
   },
   "outputs": [],
   "source": [
    "out_dir = here(f'03_downstream_analysis/08_gene_importance/xgboost_external_validation/xgboost_TopN_genes/results_{N_GENES}/predictions')\n",
    "\n",
    "if not os.path.exists(out_dir):\n",
    "    os.makedirs(out_dir)\n",
    "    \n",
    "df_pred_test.to_csv(os.path.join(out_dir, f'{CELL_TYPE}_{SEED}_{TEST_SPLIT_IDX}_pred_test.zip'))"
   ]
  },
  {
   "cell_type": "code",
   "execution_count": 25,
   "id": "f67481de",
   "metadata": {
    "execution": {
     "iopub.execute_input": "2025-05-15T16:14:12.761996Z",
     "iopub.status.busy": "2025-05-15T16:14:12.761413Z",
     "iopub.status.idle": "2025-05-15T16:14:12.777656Z",
     "shell.execute_reply": "2025-05-15T16:14:12.777210Z"
    },
    "papermill": {
     "duration": 0.027347,
     "end_time": "2025-05-15T16:14:12.778602",
     "exception": false,
     "start_time": "2025-05-15T16:14:12.751255",
     "status": "completed"
    },
    "tags": []
   },
   "outputs": [],
   "source": [
    "metrics_dict = dict(\n",
    "    BAS=balanced_accuracy_score(y_true=df_pred_test.y_true_code, y_pred=df_pred_test.y_pred), WF1=f1_score(y_true=df_pred_test.y_true_code, y_pred=df_pred_test.y_pred,average='weighted'))"
   ]
  },
  {
   "cell_type": "code",
   "execution_count": 26,
   "id": "ba3dd6a1",
   "metadata": {
    "execution": {
     "iopub.execute_input": "2025-05-15T16:14:12.797825Z",
     "iopub.status.busy": "2025-05-15T16:14:12.797567Z",
     "iopub.status.idle": "2025-05-15T16:14:12.801056Z",
     "shell.execute_reply": "2025-05-15T16:14:12.800730Z"
    },
    "papermill": {
     "duration": 0.013879,
     "end_time": "2025-05-15T16:14:12.801934",
     "exception": false,
     "start_time": "2025-05-15T16:14:12.788055",
     "status": "completed"
    },
    "tags": []
   },
   "outputs": [
    {
     "data": {
      "text/plain": [
       "{'BAS': 0.7056853769582228, 'WF1': 0.8617415554524355}"
      ]
     },
     "execution_count": 26,
     "metadata": {},
     "output_type": "execute_result"
    }
   ],
   "source": [
    "metrics_dict"
   ]
  },
  {
   "cell_type": "code",
   "execution_count": 27,
   "id": "77ffd712",
   "metadata": {
    "execution": {
     "iopub.execute_input": "2025-05-15T16:14:12.828579Z",
     "iopub.status.busy": "2025-05-15T16:14:12.828318Z",
     "iopub.status.idle": "2025-05-15T16:14:12.837750Z",
     "shell.execute_reply": "2025-05-15T16:14:12.837420Z"
    },
    "papermill": {
     "duration": 0.027661,
     "end_time": "2025-05-15T16:14:12.838664",
     "exception": false,
     "start_time": "2025-05-15T16:14:12.811003",
     "status": "completed"
    },
    "tags": []
   },
   "outputs": [
    {
     "data": {
      "text/html": [
       "<div>\n",
       "<style scoped>\n",
       "    .dataframe tbody tr th:only-of-type {\n",
       "        vertical-align: middle;\n",
       "    }\n",
       "\n",
       "    .dataframe tbody tr th {\n",
       "        vertical-align: top;\n",
       "    }\n",
       "\n",
       "    .dataframe thead th {\n",
       "        text-align: right;\n",
       "    }\n",
       "</style>\n",
       "<table border=\"1\" class=\"dataframe\">\n",
       "  <thead>\n",
       "    <tr style=\"text-align: right;\">\n",
       "      <th></th>\n",
       "      <th>BAS</th>\n",
       "      <th>WF1</th>\n",
       "      <th>split_idx</th>\n",
       "      <th>gene_set_seed</th>\n",
       "      <th>cell_type</th>\n",
       "    </tr>\n",
       "  </thead>\n",
       "  <tbody>\n",
       "    <tr>\n",
       "      <th>0</th>\n",
       "      <td>0.705685</td>\n",
       "      <td>0.861742</td>\n",
       "      <td>0</td>\n",
       "      <td>6</td>\n",
       "      <td>Mono</td>\n",
       "    </tr>\n",
       "  </tbody>\n",
       "</table>\n",
       "</div>"
      ],
      "text/plain": [
       "        BAS       WF1  split_idx  gene_set_seed cell_type\n",
       "0  0.705685  0.861742          0              6      Mono"
      ]
     },
     "execution_count": 27,
     "metadata": {},
     "output_type": "execute_result"
    }
   ],
   "source": [
    "metrics_df = pd.DataFrame.from_dict([metrics_dict]).assign(split_idx=TEST_SPLIT_IDX, gene_set_seed=SEED, cell_type=CELL_TYPE)\n",
    "metrics_df"
   ]
  },
  {
   "cell_type": "code",
   "execution_count": 28,
   "id": "2dea6e66",
   "metadata": {
    "execution": {
     "iopub.execute_input": "2025-05-15T16:14:12.859018Z",
     "iopub.status.busy": "2025-05-15T16:14:12.858475Z",
     "iopub.status.idle": "2025-05-15T16:14:12.867773Z",
     "shell.execute_reply": "2025-05-15T16:14:12.867364Z"
    },
    "papermill": {
     "duration": 0.020758,
     "end_time": "2025-05-15T16:14:12.868917",
     "exception": false,
     "start_time": "2025-05-15T16:14:12.848159",
     "status": "completed"
    },
    "tags": []
   },
   "outputs": [],
   "source": [
    "out_dir = here(f'03_downstream_analysis/08_gene_importance/xgboost_external_validation/xgboost_TopN_genes/results_{N_GENES}/metrics')\n",
    "\n",
    "if not os.path.exists(out_dir):\n",
    "    os.makedirs(out_dir)\n",
    "    \n",
    "metrics_df.to_csv(os.path.join(out_dir, f'{CELL_TYPE}_{SEED}_{TEST_SPLIT_IDX}_metrics.zip'))"
   ]
  }
 ],
 "metadata": {
  "kernelspec": {
   "display_name": "Python 3 (ipykernel)",
   "language": "python",
   "name": "python3"
  },
  "language_info": {
   "codemirror_mode": {
    "name": "ipython",
    "version": 3
   },
   "file_extension": ".py",
   "mimetype": "text/x-python",
   "name": "python",
   "nbconvert_exporter": "python",
   "pygments_lexer": "ipython3",
   "version": "3.12.5"
  },
  "papermill": {
   "default_parameters": {},
   "duration": 898.046784,
   "end_time": "2025-05-15T16:14:13.796718",
   "environment_variables": {},
   "exception": null,
   "input_path": "02_xgboost_fitting_external_20genes.ipynb",
   "output_path": "results_20/executed_notebooks/xgboost_fitting_external_CT_Mono_GS_6_seed0.ipynb",
   "parameters": {
    "CELL_TYPE": "Mono",
    "SEED": 6,
    "TEST_SPLIT_IDX": 0
   },
   "start_time": "2025-05-15T15:59:15.749934",
   "version": "2.6.0"
  }
 },
 "nbformat": 4,
 "nbformat_minor": 5
}