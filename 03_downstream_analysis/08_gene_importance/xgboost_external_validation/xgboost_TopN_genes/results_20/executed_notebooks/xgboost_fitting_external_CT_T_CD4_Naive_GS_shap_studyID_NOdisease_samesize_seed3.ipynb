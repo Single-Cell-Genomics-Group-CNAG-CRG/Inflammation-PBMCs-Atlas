{
 "cells": [
  {
   "cell_type": "code",
   "execution_count": 1,
   "id": "0588e14c",
   "metadata": {
    "editable": true,
    "execution": {
     "iopub.execute_input": "2025-06-13T13:01:45.475681Z",
     "iopub.status.busy": "2025-06-13T13:01:45.475485Z",
     "iopub.status.idle": "2025-06-13T13:01:45.478598Z",
     "shell.execute_reply": "2025-06-13T13:01:45.478170Z"
    },
    "papermill": {
     "duration": 0.012985,
     "end_time": "2025-06-13T13:01:45.479710",
     "exception": false,
     "start_time": "2025-06-13T13:01:45.466725",
     "status": "completed"
    },
    "slideshow": {
     "slide_type": ""
    },
    "tags": [
     "parameters"
    ]
   },
   "outputs": [],
   "source": [
    "CELL_TYPE = 'pDC'\n",
    "N_GENES: int = 20\n",
    "SEED = 'shap_studyID' #'disease_NOstudy' 'study_NOdisease' or 'int' or 'shap_studyID'\n",
    "TEST_SPLIT_IDX: int = 1 #[0,4]"
   ]
  },
  {
   "cell_type": "code",
   "execution_count": 2,
   "id": "251a0fcb",
   "metadata": {
    "execution": {
     "iopub.execute_input": "2025-06-13T13:01:45.512416Z",
     "iopub.status.busy": "2025-06-13T13:01:45.512060Z",
     "iopub.status.idle": "2025-06-13T13:01:45.514485Z",
     "shell.execute_reply": "2025-06-13T13:01:45.514125Z"
    },
    "papermill": {
     "duration": 0.00988,
     "end_time": "2025-06-13T13:01:45.515511",
     "exception": false,
     "start_time": "2025-06-13T13:01:45.505631",
     "status": "completed"
    },
    "tags": [
     "injected-parameters"
    ]
   },
   "outputs": [],
   "source": [
    "# Parameters\n",
    "CELL_TYPE = \"T_CD4_Naive\"\n",
    "SEED = \"shap_studyID_NOdisease_samesize\"\n",
    "TEST_SPLIT_IDX = 3\n"
   ]
  },
  {
   "cell_type": "code",
   "execution_count": 3,
   "id": "eb34a6d0",
   "metadata": {
    "execution": {
     "iopub.execute_input": "2025-06-13T13:01:45.547268Z",
     "iopub.status.busy": "2025-06-13T13:01:45.546927Z",
     "iopub.status.idle": "2025-06-13T13:01:45.549345Z",
     "shell.execute_reply": "2025-06-13T13:01:45.548995Z"
    },
    "papermill": {
     "duration": 0.026971,
     "end_time": "2025-06-13T13:01:45.550363",
     "exception": false,
     "start_time": "2025-06-13T13:01:45.523392",
     "status": "completed"
    },
    "tags": []
   },
   "outputs": [],
   "source": [
    "N_SPLITS: int = 5\n",
    "N_TRIALS: int = 50"
   ]
  },
  {
   "cell_type": "code",
   "execution_count": 4,
   "id": "1246f0f1",
   "metadata": {
    "execution": {
     "iopub.execute_input": "2025-06-13T13:01:45.570983Z",
     "iopub.status.busy": "2025-06-13T13:01:45.570458Z",
     "iopub.status.idle": "2025-06-13T13:01:47.740986Z",
     "shell.execute_reply": "2025-06-13T13:01:47.740451Z"
    },
    "papermill": {
     "duration": 2.179975,
     "end_time": "2025-06-13T13:01:47.742459",
     "exception": false,
     "start_time": "2025-06-13T13:01:45.562484",
     "status": "completed"
    },
    "tags": []
   },
   "outputs": [],
   "source": [
    "import os\n",
    "import sys\n",
    "from pyprojroot.here import here\n",
    "import pandas as pd\n",
    "import anndata as ad\n",
    "import numpy as np\n",
    "import math\n",
    "from sklearn.model_selection import StratifiedGroupKFold\n",
    "from sklearn.preprocessing import LabelEncoder\n",
    "from sklearn.metrics import f1_score\n",
    "import matplotlib.pyplot as plt\n",
    "import seaborn as sns\n",
    "from itertools import product\n",
    "from sklearn.metrics import balanced_accuracy_score, f1_score\n",
    "import optuna\n",
    "\n",
    "import joblib\n",
    "import pickle\n",
    "import datetime\n",
    "\n",
    "import collections\n",
    "\n",
    "import xgboost\n",
    "from sklearn.preprocessing import LabelEncoder\n",
    "\n",
    "import scipy.sparse as ssp\n",
    "import joblib\n",
    "\n",
    "from dotenv import load_dotenv"
   ]
  },
  {
   "cell_type": "code",
   "execution_count": 5,
   "id": "15f09003",
   "metadata": {
    "execution": {
     "iopub.execute_input": "2025-06-13T13:01:47.789762Z",
     "iopub.status.busy": "2025-06-13T13:01:47.789119Z",
     "iopub.status.idle": "2025-06-13T13:01:47.795663Z",
     "shell.execute_reply": "2025-06-13T13:01:47.795262Z"
    },
    "papermill": {
     "duration": 0.014446,
     "end_time": "2025-06-13T13:01:47.796777",
     "exception": false,
     "start_time": "2025-06-13T13:01:47.782331",
     "status": "completed"
    },
    "tags": []
   },
   "outputs": [
    {
     "data": {
      "text/plain": [
       "True"
      ]
     },
     "execution_count": 5,
     "metadata": {},
     "output_type": "execute_result"
    }
   ],
   "source": [
    "load_dotenv()"
   ]
  },
  {
   "cell_type": "markdown",
   "id": "982fc676",
   "metadata": {
    "papermill": {
     "duration": 0.006103,
     "end_time": "2025-06-13T13:01:47.809377",
     "exception": false,
     "start_time": "2025-06-13T13:01:47.803274",
     "status": "completed"
    },
    "tags": []
   },
   "source": [
    "# LOAD DATASET"
   ]
  },
  {
   "cell_type": "code",
   "execution_count": 6,
   "id": "048b9c93",
   "metadata": {
    "execution": {
     "iopub.execute_input": "2025-06-13T13:01:47.840398Z",
     "iopub.status.busy": "2025-06-13T13:01:47.839930Z",
     "iopub.status.idle": "2025-06-13T13:01:48.393607Z",
     "shell.execute_reply": "2025-06-13T13:01:48.393091Z"
    },
    "papermill": {
     "duration": 0.562153,
     "end_time": "2025-06-13T13:01:48.394670",
     "exception": false,
     "start_time": "2025-06-13T13:01:47.832517",
     "status": "completed"
    },
    "tags": []
   },
   "outputs": [],
   "source": [
    "train_adata = ad.read_h5ad(\n",
    "    here(f'03_downstream_analysis/08_gene_importance/xgboost_external_validation/xgboost_TopN_genes/data_cellTypes/EXTERNAL_{CELL_TYPE}.filtered.log1p.h5ad')\n",
    ")"
   ]
  },
  {
   "cell_type": "code",
   "execution_count": 7,
   "id": "dfd179ad",
   "metadata": {
    "execution": {
     "iopub.execute_input": "2025-06-13T13:01:48.419415Z",
     "iopub.status.busy": "2025-06-13T13:01:48.419202Z",
     "iopub.status.idle": "2025-06-13T13:01:48.463962Z",
     "shell.execute_reply": "2025-06-13T13:01:48.463553Z"
    },
    "papermill": {
     "duration": 0.061556,
     "end_time": "2025-06-13T13:01:48.464979",
     "exception": false,
     "start_time": "2025-06-13T13:01:48.403423",
     "status": "completed"
    },
    "tags": []
   },
   "outputs": [
    {
     "name": "stdout",
     "output_type": "stream",
     "text": [
      "['ENSG00000011600' 'ENSG00000015475' 'ENSG00000019582' 'ENSG00000030582'\n",
      " 'ENSG00000035115' 'ENSG00000042753' 'ENSG00000051108' 'ENSG00000051523'\n",
      " 'ENSG00000065978' 'ENSG00000066294' 'ENSG00000068831' 'ENSG00000077150'\n",
      " 'ENSG00000082074' 'ENSG00000089280' 'ENSG00000090382' 'ENSG00000099204'\n",
      " 'ENSG00000100393' 'ENSG00000103490' 'ENSG00000104763' 'ENSG00000104894'\n",
      " 'ENSG00000104904' 'ENSG00000104964' 'ENSG00000105583' 'ENSG00000105835'\n",
      " 'ENSG00000106605' 'ENSG00000108561' 'ENSG00000110395' 'ENSG00000111348'\n",
      " 'ENSG00000111640' 'ENSG00000111678' 'ENSG00000111716' 'ENSG00000115073'\n",
      " 'ENSG00000117020' 'ENSG00000117602' 'ENSG00000118260' 'ENSG00000118640'\n",
      " 'ENSG00000118971' 'ENSG00000120129' 'ENSG00000120742' 'ENSG00000122862'\n",
      " 'ENSG00000126264' 'ENSG00000127184' 'ENSG00000127314' 'ENSG00000130066'\n",
      " 'ENSG00000130429' 'ENSG00000130724' 'ENSG00000132510' 'ENSG00000133639'\n",
      " 'ENSG00000134352' 'ENSG00000135441' 'ENSG00000136003' 'ENSG00000138107'\n",
      " 'ENSG00000138674' 'ENSG00000141367' 'ENSG00000143575' 'ENSG00000143924'\n",
      " 'ENSG00000145912' 'ENSG00000146278' 'ENSG00000149357' 'ENSG00000151882'\n",
      " 'ENSG00000154814' 'ENSG00000155368' 'ENSG00000157020' 'ENSG00000157873'\n",
      " 'ENSG00000160075' 'ENSG00000163600' 'ENSG00000164308' 'ENSG00000164543'\n",
      " 'ENSG00000165732' 'ENSG00000166681' 'ENSG00000166710' 'ENSG00000166747'\n",
      " 'ENSG00000166888' 'ENSG00000167996' 'ENSG00000168610' 'ENSG00000171608'\n",
      " 'ENSG00000171700' 'ENSG00000173812' 'ENSG00000175203' 'ENSG00000175390'\n",
      " 'ENSG00000175482' 'ENSG00000179295' 'ENSG00000183020' 'ENSG00000185338'\n",
      " 'ENSG00000185885' 'ENSG00000186010' 'ENSG00000186395' 'ENSG00000187608'\n",
      " 'ENSG00000188404' 'ENSG00000189067' 'ENSG00000189283' 'ENSG00000204264'\n",
      " 'ENSG00000204267' 'ENSG00000204592' 'ENSG00000204843' 'ENSG00000213928'\n",
      " 'ENSG00000216490' 'ENSG00000231389' 'ENSG00000241837' 'ENSG00000242616'\n",
      " 'ENSG00000243678' 'ENSG00000258315']\n"
     ]
    }
   ],
   "source": [
    "if SEED != 'all':\n",
    "    gene_subset = np.load(here(f'03_downstream_analysis/08_gene_importance/xgboost_external_validation/shap_gene_selection/gene_subsets_{N_GENES}/{CELL_TYPE}_{SEED}.npy'), allow_pickle=True)\n",
    "    train_adata = train_adata[:,gene_subset]\n",
    "    print(gene_subset)\n",
    "elif SEED == 'all':\n",
    "    print('Using all genes')\n",
    "else:\n",
    "    raise ValueError()"
   ]
  },
  {
   "cell_type": "code",
   "execution_count": 8,
   "id": "95ee185b",
   "metadata": {
    "execution": {
     "iopub.execute_input": "2025-06-13T13:01:48.480449Z",
     "iopub.status.busy": "2025-06-13T13:01:48.479978Z",
     "iopub.status.idle": "2025-06-13T13:01:48.483347Z",
     "shell.execute_reply": "2025-06-13T13:01:48.482990Z"
    },
    "papermill": {
     "duration": 0.011342,
     "end_time": "2025-06-13T13:01:48.484392",
     "exception": false,
     "start_time": "2025-06-13T13:01:48.473050",
     "status": "completed"
    },
    "tags": []
   },
   "outputs": [
    {
     "data": {
      "text/plain": [
       "(85497, 102)"
      ]
     },
     "execution_count": 8,
     "metadata": {},
     "output_type": "execute_result"
    }
   ],
   "source": [
    "train_adata.shape"
   ]
  },
  {
   "cell_type": "code",
   "execution_count": 9,
   "id": "2a5f2a17",
   "metadata": {
    "execution": {
     "iopub.execute_input": "2025-06-13T13:01:48.515141Z",
     "iopub.status.busy": "2025-06-13T13:01:48.514764Z",
     "iopub.status.idle": "2025-06-13T13:01:48.518967Z",
     "shell.execute_reply": "2025-06-13T13:01:48.518614Z"
    },
    "papermill": {
     "duration": 0.019766,
     "end_time": "2025-06-13T13:01:48.520025",
     "exception": false,
     "start_time": "2025-06-13T13:01:48.500259",
     "status": "completed"
    },
    "tags": []
   },
   "outputs": [
    {
     "data": {
      "text/plain": [
       "['RA', 'COVID', 'healthy', 'HIV', 'cirrhosis', 'CD', 'SLE', 'sepsis']\n",
       "Categories (8, object): ['CD', 'COVID', 'HIV', 'RA', 'SLE', 'cirrhosis', 'healthy', 'sepsis']"
      ]
     },
     "execution_count": 9,
     "metadata": {},
     "output_type": "execute_result"
    }
   ],
   "source": [
    "train_adata.obs.disease.unique()"
   ]
  },
  {
   "cell_type": "code",
   "execution_count": 10,
   "id": "cd124891",
   "metadata": {
    "execution": {
     "iopub.execute_input": "2025-06-13T13:01:48.557274Z",
     "iopub.status.busy": "2025-06-13T13:01:48.556881Z",
     "iopub.status.idle": "2025-06-13T13:01:48.561139Z",
     "shell.execute_reply": "2025-06-13T13:01:48.560785Z"
    },
    "papermill": {
     "duration": 0.016176,
     "end_time": "2025-06-13T13:01:48.562267",
     "exception": false,
     "start_time": "2025-06-13T13:01:48.546091",
     "status": "completed"
    },
    "tags": []
   },
   "outputs": [
    {
     "data": {
      "text/plain": [
       "['SCGT00val_I036016_T0', 'SCGT00val_I036019_T0', 'SCGT00val_I036023_T0', 'SCGT00val_I036015_T0', 'SCGT00val_I036028_T0', ..., '10XGenomics_10XHC2_T0', '10XGenomics_10XHC3_T0', '10XGenomics_10XHC5_T0', '10XGenomics_10XHC7_T0', '10XGenomics_10XHC8_T0']\n",
       "Length: 86\n",
       "Categories (86, object): ['10XGenomics_10XHC1_T0', '10XGenomics_10XHC2_T0', '10XGenomics_10XHC3_T0', '10XGenomics_10XHC4_T0', ..., 'Savage2021_BRISL6_T0', 'Savage2021_BRISL7_T0', 'Savage2021_PIDA_T0', 'Savage2021_PIDB_T0']"
      ]
     },
     "execution_count": 10,
     "metadata": {},
     "output_type": "execute_result"
    }
   ],
   "source": [
    "train_adata.obs.sampleID.unique()"
   ]
  },
  {
   "cell_type": "code",
   "execution_count": 11,
   "id": "341e385b",
   "metadata": {
    "execution": {
     "iopub.execute_input": "2025-06-13T13:01:48.586868Z",
     "iopub.status.busy": "2025-06-13T13:01:48.586705Z",
     "iopub.status.idle": "2025-06-13T13:01:48.856949Z",
     "shell.execute_reply": "2025-06-13T13:01:48.856471Z"
    },
    "papermill": {
     "duration": 0.289419,
     "end_time": "2025-06-13T13:01:48.857992",
     "exception": false,
     "start_time": "2025-06-13T13:01:48.568573",
     "status": "completed"
    },
    "tags": []
   },
   "outputs": [],
   "source": [
    "all_idxs = np.arange(train_adata.obs.shape[0])\n",
    "left_out_splits = [s[1] for s in StratifiedGroupKFold(n_splits=N_SPLITS).split(all_idxs, train_adata.obs.disease, train_adata.obs.sampleID)]"
   ]
  },
  {
   "cell_type": "code",
   "execution_count": 12,
   "id": "a2c9d93d",
   "metadata": {
    "execution": {
     "iopub.execute_input": "2025-06-13T13:01:48.981167Z",
     "iopub.status.busy": "2025-06-13T13:01:48.980806Z",
     "iopub.status.idle": "2025-06-13T13:01:48.984437Z",
     "shell.execute_reply": "2025-06-13T13:01:48.984082Z"
    },
    "papermill": {
     "duration": 0.026766,
     "end_time": "2025-06-13T13:01:48.985405",
     "exception": false,
     "start_time": "2025-06-13T13:01:48.958639",
     "status": "completed"
    },
    "tags": []
   },
   "outputs": [
    {
     "data": {
      "text/plain": [
       "([0, 1, 2], 4, 3)"
      ]
     },
     "execution_count": 12,
     "metadata": {},
     "output_type": "execute_result"
    }
   ],
   "source": [
    "TRAIN_SPLIT_IDXS = [0,1,2,3,4]\n",
    "VAL_SPLIT_IDX = (TEST_SPLIT_IDX + 1) % 5\n",
    "TRAIN_SPLIT_IDXS.remove(TEST_SPLIT_IDX)\n",
    "TRAIN_SPLIT_IDXS.remove(VAL_SPLIT_IDX)\n",
    "TRAIN_SPLIT_IDXS, VAL_SPLIT_IDX, TEST_SPLIT_IDX"
   ]
  },
  {
   "cell_type": "code",
   "execution_count": 13,
   "id": "c96e08a8",
   "metadata": {
    "execution": {
     "iopub.execute_input": "2025-06-13T13:01:49.026896Z",
     "iopub.status.busy": "2025-06-13T13:01:49.026312Z",
     "iopub.status.idle": "2025-06-13T13:01:49.029255Z",
     "shell.execute_reply": "2025-06-13T13:01:49.028900Z"
    },
    "papermill": {
     "duration": 0.022937,
     "end_time": "2025-06-13T13:01:49.030179",
     "exception": false,
     "start_time": "2025-06-13T13:01:49.007242",
     "status": "completed"
    },
    "tags": []
   },
   "outputs": [],
   "source": [
    "train_idxs = np.concatenate([left_out_splits[idx] for idx in TRAIN_SPLIT_IDXS])\n",
    "val_idxs = left_out_splits[VAL_SPLIT_IDX]\n",
    "test_idxs = left_out_splits[TEST_SPLIT_IDX]"
   ]
  },
  {
   "cell_type": "markdown",
   "id": "13171789",
   "metadata": {
    "papermill": {
     "duration": 0.007902,
     "end_time": "2025-06-13T13:01:49.044518",
     "exception": false,
     "start_time": "2025-06-13T13:01:49.036616",
     "status": "completed"
    },
    "tags": []
   },
   "source": [
    "### SUBSET DATASET INTO TRAIN/TEST/VAL SPLITS"
   ]
  },
  {
   "cell_type": "code",
   "execution_count": 14,
   "id": "650b5dc7",
   "metadata": {
    "execution": {
     "iopub.execute_input": "2025-06-13T13:01:49.058114Z",
     "iopub.status.busy": "2025-06-13T13:01:49.057777Z",
     "iopub.status.idle": "2025-06-13T13:01:49.278501Z",
     "shell.execute_reply": "2025-06-13T13:01:49.278099Z"
    },
    "papermill": {
     "duration": 0.228552,
     "end_time": "2025-06-13T13:01:49.279512",
     "exception": false,
     "start_time": "2025-06-13T13:01:49.050960",
     "status": "completed"
    },
    "tags": []
   },
   "outputs": [
    {
     "data": {
      "text/plain": [
       "((50067, 102), (18551, 102), (16879, 102))"
      ]
     },
     "execution_count": 14,
     "metadata": {},
     "output_type": "execute_result"
    }
   ],
   "source": [
    "X_train = train_adata.X[train_idxs]\n",
    "X_test = train_adata.X[test_idxs]\n",
    "X_val = train_adata.X[val_idxs]\n",
    "X_train.shape, X_test.shape, X_val.shape"
   ]
  },
  {
   "cell_type": "code",
   "execution_count": 15,
   "id": "4f6e5381",
   "metadata": {
    "execution": {
     "iopub.execute_input": "2025-06-13T13:01:49.310074Z",
     "iopub.status.busy": "2025-06-13T13:01:49.309781Z",
     "iopub.status.idle": "2025-06-13T13:01:49.320592Z",
     "shell.execute_reply": "2025-06-13T13:01:49.320170Z"
    },
    "papermill": {
     "duration": 0.019262,
     "end_time": "2025-06-13T13:01:49.321743",
     "exception": false,
     "start_time": "2025-06-13T13:01:49.302481",
     "status": "completed"
    },
    "tags": []
   },
   "outputs": [
    {
     "data": {
      "text/plain": [
       "((50067,), (18551,), (16879,))"
      ]
     },
     "execution_count": 15,
     "metadata": {},
     "output_type": "execute_result"
    }
   ],
   "source": [
    "y_train = train_adata.obs.iloc[train_idxs].disease.values.astype(str)\n",
    "y_test = train_adata.obs.iloc[test_idxs].disease.values.astype(str)\n",
    "y_val = train_adata.obs.iloc[val_idxs].disease.values.astype(str)\n",
    "y_train.shape, y_test.shape, y_val.shape"
   ]
  },
  {
   "cell_type": "code",
   "execution_count": 16,
   "id": "2f5eeb9c",
   "metadata": {
    "execution": {
     "iopub.execute_input": "2025-06-13T13:01:49.352219Z",
     "iopub.status.busy": "2025-06-13T13:01:49.351780Z",
     "iopub.status.idle": "2025-06-13T13:01:49.375766Z",
     "shell.execute_reply": "2025-06-13T13:01:49.375313Z"
    },
    "papermill": {
     "duration": 0.033203,
     "end_time": "2025-06-13T13:01:49.376981",
     "exception": false,
     "start_time": "2025-06-13T13:01:49.343778",
     "status": "completed"
    },
    "tags": []
   },
   "outputs": [],
   "source": [
    "lenc = LabelEncoder()\n",
    "y_train_enc = lenc.fit_transform(y_train)\n",
    "y_val_enc = lenc.transform(y_val)\n",
    "y_test_enc = lenc.transform(y_test)"
   ]
  },
  {
   "cell_type": "markdown",
   "id": "712cd41f",
   "metadata": {
    "papermill": {
     "duration": 0.007466,
     "end_time": "2025-06-13T13:01:49.391643",
     "exception": false,
     "start_time": "2025-06-13T13:01:49.384177",
     "status": "completed"
    },
    "tags": []
   },
   "source": [
    "### GENERATE F1 "
   ]
  },
  {
   "cell_type": "code",
   "execution_count": 17,
   "id": "f5d559bf",
   "metadata": {
    "execution": {
     "iopub.execute_input": "2025-06-13T13:01:49.412652Z",
     "iopub.status.busy": "2025-06-13T13:01:49.412472Z",
     "iopub.status.idle": "2025-06-13T13:01:49.415216Z",
     "shell.execute_reply": "2025-06-13T13:01:49.414841Z"
    },
    "papermill": {
     "duration": 0.014594,
     "end_time": "2025-06-13T13:01:49.416185",
     "exception": false,
     "start_time": "2025-06-13T13:01:49.401591",
     "status": "completed"
    },
    "tags": []
   },
   "outputs": [],
   "source": [
    "def custom_f1_score(y_true, y_pred):\n",
    "    return -f1_score(y_true, y_pred.argmax(1), average='weighted')"
   ]
  },
  {
   "cell_type": "code",
   "execution_count": 18,
   "id": "b44ceb81",
   "metadata": {
    "execution": {
     "iopub.execute_input": "2025-06-13T13:01:49.439458Z",
     "iopub.status.busy": "2025-06-13T13:01:49.439296Z",
     "iopub.status.idle": "2025-06-13T13:01:49.443532Z",
     "shell.execute_reply": "2025-06-13T13:01:49.443158Z"
    },
    "papermill": {
     "duration": 0.02126,
     "end_time": "2025-06-13T13:01:49.444554",
     "exception": false,
     "start_time": "2025-06-13T13:01:49.423294",
     "status": "completed"
    },
    "tags": []
   },
   "outputs": [],
   "source": [
    "eval_metric=custom_f1_score\n",
    "eval_metric_name='custom_f1_score'\n",
    "\n",
    "def objective(trial):\n",
    "    params = {\n",
    "        'n_estimators': 1500,\n",
    "        'max_depth': trial.suggest_int('max_depth', 3, 20),\n",
    "        'min_child_weight': trial.suggest_int('min_child_weight', 1, 250),\n",
    "        'subsample': trial.suggest_float('subsample', 0.1, 1.0),\n",
    "        'colsample_bynode': trial.suggest_float('colsample_bynode', 0.1, 1.0),\n",
    "        'learning_rate': trial.suggest_float('learning_rate', 1e-3, 5e-1, log=True),\n",
    "    }\n",
    "    pruning_callback = optuna.integration.XGBoostPruningCallback(trial, f'validation_0-{eval_metric_name}')\n",
    "    es_callback = xgboost.callback.EarlyStopping(20, min_delta=0.001)\n",
    "    xgb = xgboost.XGBClassifier(\n",
    "        eval_metric=eval_metric,\n",
    "        callbacks=[pruning_callback, es_callback],\n",
    "        n_jobs=5,\n",
    "        **params\n",
    "    )\n",
    "    xgb.fit(\n",
    "        X_train, \n",
    "        y_train_enc, \n",
    "        verbose=0,\n",
    "        eval_set=[(X_val, y_val_enc)],\n",
    "    )\n",
    "    trial.set_user_attr('best_iteration', xgb.best_iteration)\n",
    "\n",
    "    return xgb.best_score"
   ]
  },
  {
   "cell_type": "code",
   "execution_count": 19,
   "id": "4c5832fb",
   "metadata": {
    "execution": {
     "iopub.execute_input": "2025-06-13T13:01:49.478305Z",
     "iopub.status.busy": "2025-06-13T13:01:49.477930Z",
     "iopub.status.idle": "2025-06-13T13:10:17.206008Z",
     "shell.execute_reply": "2025-06-13T13:10:17.205438Z"
    },
    "papermill": {
     "duration": 507.736709,
     "end_time": "2025-06-13T13:10:17.207233",
     "exception": false,
     "start_time": "2025-06-13T13:01:49.470524",
     "status": "completed"
    },
    "scrolled": true,
    "tags": []
   },
   "outputs": [
    {
     "name": "stderr",
     "output_type": "stream",
     "text": [
      "[I 2025-06-13 15:01:49,480] A new study created in memory with name: no-name-df7a552a-d70d-4999-b80c-9def43e4b8ea\n"
     ]
    },
    {
     "name": "stderr",
     "output_type": "stream",
     "text": [
      "[I 2025-06-13 15:01:54,460] Trial 0 finished with value: -0.641522 and parameters: {'max_depth': 9, 'min_child_weight': 238, 'subsample': 0.7587945476302645, 'colsample_bynode': 0.6387926357773329, 'learning_rate': 0.0026368755339723046}. Best is trial 0 with value: -0.641522.\n"
     ]
    },
    {
     "name": "stderr",
     "output_type": "stream",
     "text": [
      "[I 2025-06-13 15:02:25,359] Trial 1 finished with value: -0.738659 and parameters: {'max_depth': 5, 'min_child_weight': 15, 'subsample': 0.8795585311974417, 'colsample_bynode': 0.6410035105688879, 'learning_rate': 0.08148293210105287}. Best is trial 1 with value: -0.738659.\n"
     ]
    },
    {
     "name": "stderr",
     "output_type": "stream",
     "text": [
      "[I 2025-06-13 15:02:29,243] Trial 2 finished with value: -0.628458 and parameters: {'max_depth': 3, 'min_child_weight': 243, 'subsample': 0.8491983767203796, 'colsample_bynode': 0.29110519961044856, 'learning_rate': 0.003095566460242371}. Best is trial 1 with value: -0.738659.\n"
     ]
    },
    {
     "name": "stderr",
     "output_type": "stream",
     "text": [
      "[I 2025-06-13 15:03:05,192] Trial 3 finished with value: -0.684104 and parameters: {'max_depth': 6, 'min_child_weight': 77, 'subsample': 0.5722807884690141, 'colsample_bynode': 0.48875051677790415, 'learning_rate': 0.006109683510122491}. Best is trial 1 with value: -0.738659.\n"
     ]
    },
    {
     "name": "stderr",
     "output_type": "stream",
     "text": [
      "[I 2025-06-13 15:04:11,659] Trial 4 finished with value: -0.727819 and parameters: {'max_depth': 14, 'min_child_weight': 35, 'subsample': 0.3629301836816964, 'colsample_bynode': 0.4297256589643226, 'learning_rate': 0.01701841881702917}. Best is trial 1 with value: -0.738659.\n"
     ]
    },
    {
     "name": "stderr",
     "output_type": "stream",
     "text": [
      "[I 2025-06-13 15:04:17,952] Trial 5 pruned. Trial was pruned at iteration 26.\n"
     ]
    },
    {
     "name": "stderr",
     "output_type": "stream",
     "text": [
      "[I 2025-06-13 15:04:18,359] Trial 6 pruned. Trial was pruned at iteration 0.\n"
     ]
    },
    {
     "name": "stderr",
     "output_type": "stream",
     "text": [
      "[I 2025-06-13 15:04:18,743] Trial 7 pruned. Trial was pruned at iteration 0.\n"
     ]
    },
    {
     "name": "stderr",
     "output_type": "stream",
     "text": [
      "[I 2025-06-13 15:04:19,118] Trial 8 pruned. Trial was pruned at iteration 0.\n"
     ]
    },
    {
     "name": "stderr",
     "output_type": "stream",
     "text": [
      "[I 2025-06-13 15:04:19,532] Trial 9 pruned. Trial was pruned at iteration 0.\n"
     ]
    },
    {
     "name": "stderr",
     "output_type": "stream",
     "text": [
      "[I 2025-06-13 15:04:41,258] Trial 10 finished with value: -0.735509 and parameters: {'max_depth': 9, 'min_child_weight': 2, 'subsample': 0.9725833997090791, 'colsample_bynode': 0.11616568805333755, 'learning_rate': 0.17780618353487967}. Best is trial 1 with value: -0.738659.\n"
     ]
    },
    {
     "name": "stderr",
     "output_type": "stream",
     "text": [
      "[I 2025-06-13 15:05:14,933] Trial 11 finished with value: -0.73916 and parameters: {'max_depth': 9, 'min_child_weight': 4, 'subsample': 0.9818290990185045, 'colsample_bynode': 0.17702656156719, 'learning_rate': 0.11568531411766632}. Best is trial 11 with value: -0.73916.\n"
     ]
    },
    {
     "name": "stderr",
     "output_type": "stream",
     "text": [
      "[I 2025-06-13 15:05:47,064] Trial 12 finished with value: -0.734463 and parameters: {'max_depth': 9, 'min_child_weight': 3, 'subsample': 0.9762317723681219, 'colsample_bynode': 0.14667845540225039, 'learning_rate': 0.07220195396446884}. Best is trial 11 with value: -0.73916.\n"
     ]
    },
    {
     "name": "stderr",
     "output_type": "stream",
     "text": [
      "[I 2025-06-13 15:05:47,484] Trial 13 pruned. Trial was pruned at iteration 0.\n"
     ]
    },
    {
     "name": "stderr",
     "output_type": "stream",
     "text": [
      "[I 2025-06-13 15:05:48,102] Trial 14 pruned. Trial was pruned at iteration 1.\n"
     ]
    },
    {
     "name": "stderr",
     "output_type": "stream",
     "text": [
      "[I 2025-06-13 15:06:20,089] Trial 15 finished with value: -0.737138 and parameters: {'max_depth': 20, 'min_child_weight': 1, 'subsample': 0.7012908959710442, 'colsample_bynode': 0.2540835086298475, 'learning_rate': 0.2833114876720916}. Best is trial 11 with value: -0.73916.\n"
     ]
    },
    {
     "name": "stderr",
     "output_type": "stream",
     "text": [
      "[I 2025-06-13 15:06:20,477] Trial 16 pruned. Trial was pruned at iteration 0.\n"
     ]
    },
    {
     "name": "stderr",
     "output_type": "stream",
     "text": [
      "[I 2025-06-13 15:06:20,882] Trial 17 pruned. Trial was pruned at iteration 0.\n"
     ]
    },
    {
     "name": "stderr",
     "output_type": "stream",
     "text": [
      "[I 2025-06-13 15:06:45,837] Trial 18 finished with value: -0.745135 and parameters: {'max_depth': 11, 'min_child_weight': 37, 'subsample': 0.8988001325877066, 'colsample_bynode': 0.3955466156360019, 'learning_rate': 0.13348559174149954}. Best is trial 18 with value: -0.745135.\n"
     ]
    },
    {
     "name": "stderr",
     "output_type": "stream",
     "text": [
      "[I 2025-06-13 15:06:47,343] Trial 19 pruned. Trial was pruned at iteration 5.\n"
     ]
    },
    {
     "name": "stderr",
     "output_type": "stream",
     "text": [
      "[I 2025-06-13 15:06:47,796] Trial 20 pruned. Trial was pruned at iteration 0.\n"
     ]
    },
    {
     "name": "stderr",
     "output_type": "stream",
     "text": [
      "[I 2025-06-13 15:07:18,428] Trial 21 finished with value: -0.742337 and parameters: {'max_depth': 8, 'min_child_weight': 24, 'subsample': 0.8849761867209323, 'colsample_bynode': 0.5334907331464369, 'learning_rate': 0.1063944596737225}. Best is trial 18 with value: -0.745135.\n"
     ]
    },
    {
     "name": "stderr",
     "output_type": "stream",
     "text": [
      "[I 2025-06-13 15:07:18,875] Trial 22 pruned. Trial was pruned at iteration 0.\n"
     ]
    },
    {
     "name": "stderr",
     "output_type": "stream",
     "text": [
      "[I 2025-06-13 15:07:20,121] Trial 23 pruned. Trial was pruned at iteration 3.\n"
     ]
    },
    {
     "name": "stderr",
     "output_type": "stream",
     "text": [
      "[I 2025-06-13 15:07:20,583] Trial 24 pruned. Trial was pruned at iteration 0.\n"
     ]
    },
    {
     "name": "stderr",
     "output_type": "stream",
     "text": [
      "[I 2025-06-13 15:07:21,208] Trial 25 pruned. Trial was pruned at iteration 1.\n"
     ]
    },
    {
     "name": "stderr",
     "output_type": "stream",
     "text": [
      "[I 2025-06-13 15:07:21,652] Trial 26 pruned. Trial was pruned at iteration 0.\n"
     ]
    },
    {
     "name": "stderr",
     "output_type": "stream",
     "text": [
      "[I 2025-06-13 15:07:46,381] Trial 27 finished with value: -0.741676 and parameters: {'max_depth': 10, 'min_child_weight': 17, 'subsample': 0.8073997405899735, 'colsample_bynode': 0.22587255096358153, 'learning_rate': 0.10663701315322721}. Best is trial 18 with value: -0.745135.\n"
     ]
    },
    {
     "name": "stderr",
     "output_type": "stream",
     "text": [
      "[I 2025-06-13 15:07:46,841] Trial 28 pruned. Trial was pruned at iteration 0.\n"
     ]
    },
    {
     "name": "stderr",
     "output_type": "stream",
     "text": [
      "[I 2025-06-13 15:07:47,271] Trial 29 pruned. Trial was pruned at iteration 0.\n"
     ]
    },
    {
     "name": "stderr",
     "output_type": "stream",
     "text": [
      "[I 2025-06-13 15:07:47,694] Trial 30 pruned. Trial was pruned at iteration 0.\n"
     ]
    },
    {
     "name": "stderr",
     "output_type": "stream",
     "text": [
      "[I 2025-06-13 15:08:18,347] Trial 31 finished with value: -0.742538 and parameters: {'max_depth': 10, 'min_child_weight': 17, 'subsample': 0.94169080362237, 'colsample_bynode': 0.20896294264006035, 'learning_rate': 0.10942693165612016}. Best is trial 18 with value: -0.745135.\n"
     ]
    },
    {
     "name": "stderr",
     "output_type": "stream",
     "text": [
      "[I 2025-06-13 15:08:20,540] Trial 32 pruned. Trial was pruned at iteration 7.\n"
     ]
    },
    {
     "name": "stderr",
     "output_type": "stream",
     "text": [
      "[I 2025-06-13 15:08:27,602] Trial 33 pruned. Trial was pruned at iteration 26.\n"
     ]
    },
    {
     "name": "stderr",
     "output_type": "stream",
     "text": [
      "[I 2025-06-13 15:08:28,036] Trial 34 pruned. Trial was pruned at iteration 0.\n"
     ]
    },
    {
     "name": "stderr",
     "output_type": "stream",
     "text": [
      "[I 2025-06-13 15:08:28,470] Trial 35 pruned. Trial was pruned at iteration 0.\n"
     ]
    },
    {
     "name": "stderr",
     "output_type": "stream",
     "text": [
      "[I 2025-06-13 15:08:29,232] Trial 36 pruned. Trial was pruned at iteration 1.\n"
     ]
    },
    {
     "name": "stderr",
     "output_type": "stream",
     "text": [
      "[I 2025-06-13 15:08:29,635] Trial 37 pruned. Trial was pruned at iteration 0.\n"
     ]
    },
    {
     "name": "stderr",
     "output_type": "stream",
     "text": [
      "[I 2025-06-13 15:08:30,255] Trial 38 pruned. Trial was pruned at iteration 1.\n"
     ]
    },
    {
     "name": "stderr",
     "output_type": "stream",
     "text": [
      "[I 2025-06-13 15:08:55,470] Trial 39 finished with value: -0.745697 and parameters: {'max_depth': 11, 'min_child_weight': 46, 'subsample': 0.9212586437460323, 'colsample_bynode': 0.6701065485560316, 'learning_rate': 0.14962248254307453}. Best is trial 39 with value: -0.745697.\n"
     ]
    },
    {
     "name": "stderr",
     "output_type": "stream",
     "text": [
      "[I 2025-06-13 15:08:56,258] Trial 40 pruned. Trial was pruned at iteration 1.\n"
     ]
    },
    {
     "name": "stderr",
     "output_type": "stream",
     "text": [
      "[I 2025-06-13 15:09:20,806] Trial 41 finished with value: -0.741823 and parameters: {'max_depth': 11, 'min_child_weight': 34, 'subsample': 0.9331476272475762, 'colsample_bynode': 0.6735858119847686, 'learning_rate': 0.14692963847270935}. Best is trial 39 with value: -0.745697.\n"
     ]
    },
    {
     "name": "stderr",
     "output_type": "stream",
     "text": [
      "[I 2025-06-13 15:09:46,850] Trial 42 finished with value: -0.744697 and parameters: {'max_depth': 11, 'min_child_weight': 34, 'subsample': 0.880887276818098, 'colsample_bynode': 0.6602089419019065, 'learning_rate': 0.15881554627390443}. Best is trial 39 with value: -0.745697.\n"
     ]
    },
    {
     "name": "stderr",
     "output_type": "stream",
     "text": [
      "[I 2025-06-13 15:09:47,325] Trial 43 pruned. Trial was pruned at iteration 0.\n"
     ]
    },
    {
     "name": "stderr",
     "output_type": "stream",
     "text": [
      "[I 2025-06-13 15:10:00,845] Trial 44 finished with value: -0.74501 and parameters: {'max_depth': 11, 'min_child_weight': 51, 'subsample': 0.9346919159689593, 'colsample_bynode': 0.8323645110149741, 'learning_rate': 0.37043623361453093}. Best is trial 39 with value: -0.745697.\n"
     ]
    },
    {
     "name": "stderr",
     "output_type": "stream",
     "text": [
      "[I 2025-06-13 15:10:01,334] Trial 45 pruned. Trial was pruned at iteration 0.\n"
     ]
    },
    {
     "name": "stderr",
     "output_type": "stream",
     "text": [
      "[I 2025-06-13 15:10:15,392] Trial 46 finished with value: -0.744053 and parameters: {'max_depth': 13, 'min_child_weight': 44, 'subsample': 0.9447872543894065, 'colsample_bynode': 0.6966687352037186, 'learning_rate': 0.3033615407005966}. Best is trial 39 with value: -0.745697.\n"
     ]
    },
    {
     "name": "stderr",
     "output_type": "stream",
     "text": [
      "[I 2025-06-13 15:10:16,193] Trial 47 pruned. Trial was pruned at iteration 1.\n"
     ]
    },
    {
     "name": "stderr",
     "output_type": "stream",
     "text": [
      "[I 2025-06-13 15:10:16,634] Trial 48 pruned. Trial was pruned at iteration 0.\n"
     ]
    },
    {
     "name": "stderr",
     "output_type": "stream",
     "text": [
      "[I 2025-06-13 15:10:17,125] Trial 49 pruned. Trial was pruned at iteration 0.\n"
     ]
    }
   ],
   "source": [
    "sampler = optuna.samplers.TPESampler(seed=42)\n",
    "study = optuna.create_study(direction='minimize', sampler=sampler)\n",
    "study.optimize(objective, n_trials=N_TRIALS, gc_after_trial=True)"
   ]
  },
  {
   "cell_type": "code",
   "execution_count": 20,
   "id": "9a90009f",
   "metadata": {
    "execution": {
     "iopub.execute_input": "2025-06-13T13:10:17.230076Z",
     "iopub.status.busy": "2025-06-13T13:10:17.229771Z",
     "iopub.status.idle": "2025-06-13T13:10:17.258079Z",
     "shell.execute_reply": "2025-06-13T13:10:17.257717Z"
    },
    "papermill": {
     "duration": 0.041226,
     "end_time": "2025-06-13T13:10:17.259035",
     "exception": false,
     "start_time": "2025-06-13T13:10:17.217809",
     "status": "completed"
    },
    "tags": []
   },
   "outputs": [
    {
     "data": {
      "text/plain": [
       "['/scratch_isilon/groups/singlecell/shared/projects/Inflammation-PBMCs-Atlas/03_downstream_analysis/08_gene_importance/xgboost_external_validation/xgboost_TopN_genes/results_20/study/T_CD4_Naive_shap_studyID_NOdisease_samesize_3_xgboost.pkl']"
      ]
     },
     "execution_count": 20,
     "metadata": {},
     "output_type": "execute_result"
    }
   ],
   "source": [
    "out_dir = here(f'03_downstream_analysis/08_gene_importance/xgboost_external_validation/xgboost_TopN_genes/results_{N_GENES}/study')\n",
    "\n",
    "if not os.path.exists(out_dir):\n",
    "    os.makedirs(out_dir)\n",
    "    \n",
    "joblib.dump(study,os.path.join(out_dir, f'{CELL_TYPE}_{SEED}_{TEST_SPLIT_IDX}_xgboost.pkl'))"
   ]
  },
  {
   "cell_type": "code",
   "execution_count": 21,
   "id": "c6f07cd0",
   "metadata": {
    "execution": {
     "iopub.execute_input": "2025-06-13T13:10:17.279684Z",
     "iopub.status.busy": "2025-06-13T13:10:17.279246Z",
     "iopub.status.idle": "2025-06-13T13:10:30.433149Z",
     "shell.execute_reply": "2025-06-13T13:10:30.432692Z"
    },
    "papermill": {
     "duration": 13.170081,
     "end_time": "2025-06-13T13:10:30.439201",
     "exception": false,
     "start_time": "2025-06-13T13:10:17.269120",
     "status": "completed"
    },
    "tags": []
   },
   "outputs": [
    {
     "data": {
      "text/html": [
       "<style>#sk-container-id-1 {\n",
       "  /* Definition of color scheme common for light and dark mode */\n",
       "  --sklearn-color-text: black;\n",
       "  --sklearn-color-line: gray;\n",
       "  /* Definition of color scheme for unfitted estimators */\n",
       "  --sklearn-color-unfitted-level-0: #fff5e6;\n",
       "  --sklearn-color-unfitted-level-1: #f6e4d2;\n",
       "  --sklearn-color-unfitted-level-2: #ffe0b3;\n",
       "  --sklearn-color-unfitted-level-3: chocolate;\n",
       "  /* Definition of color scheme for fitted estimators */\n",
       "  --sklearn-color-fitted-level-0: #f0f8ff;\n",
       "  --sklearn-color-fitted-level-1: #d4ebff;\n",
       "  --sklearn-color-fitted-level-2: #b3dbfd;\n",
       "  --sklearn-color-fitted-level-3: cornflowerblue;\n",
       "\n",
       "  /* Specific color for light theme */\n",
       "  --sklearn-color-text-on-default-background: var(--sg-text-color, var(--theme-code-foreground, var(--jp-content-font-color1, black)));\n",
       "  --sklearn-color-background: var(--sg-background-color, var(--theme-background, var(--jp-layout-color0, white)));\n",
       "  --sklearn-color-border-box: var(--sg-text-color, var(--theme-code-foreground, var(--jp-content-font-color1, black)));\n",
       "  --sklearn-color-icon: #696969;\n",
       "\n",
       "  @media (prefers-color-scheme: dark) {\n",
       "    /* Redefinition of color scheme for dark theme */\n",
       "    --sklearn-color-text-on-default-background: var(--sg-text-color, var(--theme-code-foreground, var(--jp-content-font-color1, white)));\n",
       "    --sklearn-color-background: var(--sg-background-color, var(--theme-background, var(--jp-layout-color0, #111)));\n",
       "    --sklearn-color-border-box: var(--sg-text-color, var(--theme-code-foreground, var(--jp-content-font-color1, white)));\n",
       "    --sklearn-color-icon: #878787;\n",
       "  }\n",
       "}\n",
       "\n",
       "#sk-container-id-1 {\n",
       "  color: var(--sklearn-color-text);\n",
       "}\n",
       "\n",
       "#sk-container-id-1 pre {\n",
       "  padding: 0;\n",
       "}\n",
       "\n",
       "#sk-container-id-1 input.sk-hidden--visually {\n",
       "  border: 0;\n",
       "  clip: rect(1px 1px 1px 1px);\n",
       "  clip: rect(1px, 1px, 1px, 1px);\n",
       "  height: 1px;\n",
       "  margin: -1px;\n",
       "  overflow: hidden;\n",
       "  padding: 0;\n",
       "  position: absolute;\n",
       "  width: 1px;\n",
       "}\n",
       "\n",
       "#sk-container-id-1 div.sk-dashed-wrapped {\n",
       "  border: 1px dashed var(--sklearn-color-line);\n",
       "  margin: 0 0.4em 0.5em 0.4em;\n",
       "  box-sizing: border-box;\n",
       "  padding-bottom: 0.4em;\n",
       "  background-color: var(--sklearn-color-background);\n",
       "}\n",
       "\n",
       "#sk-container-id-1 div.sk-container {\n",
       "  /* jupyter's `normalize.less` sets `[hidden] { display: none; }`\n",
       "     but bootstrap.min.css set `[hidden] { display: none !important; }`\n",
       "     so we also need the `!important` here to be able to override the\n",
       "     default hidden behavior on the sphinx rendered scikit-learn.org.\n",
       "     See: https://github.com/scikit-learn/scikit-learn/issues/21755 */\n",
       "  display: inline-block !important;\n",
       "  position: relative;\n",
       "}\n",
       "\n",
       "#sk-container-id-1 div.sk-text-repr-fallback {\n",
       "  display: none;\n",
       "}\n",
       "\n",
       "div.sk-parallel-item,\n",
       "div.sk-serial,\n",
       "div.sk-item {\n",
       "  /* draw centered vertical line to link estimators */\n",
       "  background-image: linear-gradient(var(--sklearn-color-text-on-default-background), var(--sklearn-color-text-on-default-background));\n",
       "  background-size: 2px 100%;\n",
       "  background-repeat: no-repeat;\n",
       "  background-position: center center;\n",
       "}\n",
       "\n",
       "/* Parallel-specific style estimator block */\n",
       "\n",
       "#sk-container-id-1 div.sk-parallel-item::after {\n",
       "  content: \"\";\n",
       "  width: 100%;\n",
       "  border-bottom: 2px solid var(--sklearn-color-text-on-default-background);\n",
       "  flex-grow: 1;\n",
       "}\n",
       "\n",
       "#sk-container-id-1 div.sk-parallel {\n",
       "  display: flex;\n",
       "  align-items: stretch;\n",
       "  justify-content: center;\n",
       "  background-color: var(--sklearn-color-background);\n",
       "  position: relative;\n",
       "}\n",
       "\n",
       "#sk-container-id-1 div.sk-parallel-item {\n",
       "  display: flex;\n",
       "  flex-direction: column;\n",
       "}\n",
       "\n",
       "#sk-container-id-1 div.sk-parallel-item:first-child::after {\n",
       "  align-self: flex-end;\n",
       "  width: 50%;\n",
       "}\n",
       "\n",
       "#sk-container-id-1 div.sk-parallel-item:last-child::after {\n",
       "  align-self: flex-start;\n",
       "  width: 50%;\n",
       "}\n",
       "\n",
       "#sk-container-id-1 div.sk-parallel-item:only-child::after {\n",
       "  width: 0;\n",
       "}\n",
       "\n",
       "/* Serial-specific style estimator block */\n",
       "\n",
       "#sk-container-id-1 div.sk-serial {\n",
       "  display: flex;\n",
       "  flex-direction: column;\n",
       "  align-items: center;\n",
       "  background-color: var(--sklearn-color-background);\n",
       "  padding-right: 1em;\n",
       "  padding-left: 1em;\n",
       "}\n",
       "\n",
       "\n",
       "/* Toggleable style: style used for estimator/Pipeline/ColumnTransformer box that is\n",
       "clickable and can be expanded/collapsed.\n",
       "- Pipeline and ColumnTransformer use this feature and define the default style\n",
       "- Estimators will overwrite some part of the style using the `sk-estimator` class\n",
       "*/\n",
       "\n",
       "/* Pipeline and ColumnTransformer style (default) */\n",
       "\n",
       "#sk-container-id-1 div.sk-toggleable {\n",
       "  /* Default theme specific background. It is overwritten whether we have a\n",
       "  specific estimator or a Pipeline/ColumnTransformer */\n",
       "  background-color: var(--sklearn-color-background);\n",
       "}\n",
       "\n",
       "/* Toggleable label */\n",
       "#sk-container-id-1 label.sk-toggleable__label {\n",
       "  cursor: pointer;\n",
       "  display: block;\n",
       "  width: 100%;\n",
       "  margin-bottom: 0;\n",
       "  padding: 0.5em;\n",
       "  box-sizing: border-box;\n",
       "  text-align: center;\n",
       "}\n",
       "\n",
       "#sk-container-id-1 label.sk-toggleable__label-arrow:before {\n",
       "  /* Arrow on the left of the label */\n",
       "  content: \"▸\";\n",
       "  float: left;\n",
       "  margin-right: 0.25em;\n",
       "  color: var(--sklearn-color-icon);\n",
       "}\n",
       "\n",
       "#sk-container-id-1 label.sk-toggleable__label-arrow:hover:before {\n",
       "  color: var(--sklearn-color-text);\n",
       "}\n",
       "\n",
       "/* Toggleable content - dropdown */\n",
       "\n",
       "#sk-container-id-1 div.sk-toggleable__content {\n",
       "  max-height: 0;\n",
       "  max-width: 0;\n",
       "  overflow: hidden;\n",
       "  text-align: left;\n",
       "  /* unfitted */\n",
       "  background-color: var(--sklearn-color-unfitted-level-0);\n",
       "}\n",
       "\n",
       "#sk-container-id-1 div.sk-toggleable__content.fitted {\n",
       "  /* fitted */\n",
       "  background-color: var(--sklearn-color-fitted-level-0);\n",
       "}\n",
       "\n",
       "#sk-container-id-1 div.sk-toggleable__content pre {\n",
       "  margin: 0.2em;\n",
       "  border-radius: 0.25em;\n",
       "  color: var(--sklearn-color-text);\n",
       "  /* unfitted */\n",
       "  background-color: var(--sklearn-color-unfitted-level-0);\n",
       "}\n",
       "\n",
       "#sk-container-id-1 div.sk-toggleable__content.fitted pre {\n",
       "  /* unfitted */\n",
       "  background-color: var(--sklearn-color-fitted-level-0);\n",
       "}\n",
       "\n",
       "#sk-container-id-1 input.sk-toggleable__control:checked~div.sk-toggleable__content {\n",
       "  /* Expand drop-down */\n",
       "  max-height: 200px;\n",
       "  max-width: 100%;\n",
       "  overflow: auto;\n",
       "}\n",
       "\n",
       "#sk-container-id-1 input.sk-toggleable__control:checked~label.sk-toggleable__label-arrow:before {\n",
       "  content: \"▾\";\n",
       "}\n",
       "\n",
       "/* Pipeline/ColumnTransformer-specific style */\n",
       "\n",
       "#sk-container-id-1 div.sk-label input.sk-toggleable__control:checked~label.sk-toggleable__label {\n",
       "  color: var(--sklearn-color-text);\n",
       "  background-color: var(--sklearn-color-unfitted-level-2);\n",
       "}\n",
       "\n",
       "#sk-container-id-1 div.sk-label.fitted input.sk-toggleable__control:checked~label.sk-toggleable__label {\n",
       "  background-color: var(--sklearn-color-fitted-level-2);\n",
       "}\n",
       "\n",
       "/* Estimator-specific style */\n",
       "\n",
       "/* Colorize estimator box */\n",
       "#sk-container-id-1 div.sk-estimator input.sk-toggleable__control:checked~label.sk-toggleable__label {\n",
       "  /* unfitted */\n",
       "  background-color: var(--sklearn-color-unfitted-level-2);\n",
       "}\n",
       "\n",
       "#sk-container-id-1 div.sk-estimator.fitted input.sk-toggleable__control:checked~label.sk-toggleable__label {\n",
       "  /* fitted */\n",
       "  background-color: var(--sklearn-color-fitted-level-2);\n",
       "}\n",
       "\n",
       "#sk-container-id-1 div.sk-label label.sk-toggleable__label,\n",
       "#sk-container-id-1 div.sk-label label {\n",
       "  /* The background is the default theme color */\n",
       "  color: var(--sklearn-color-text-on-default-background);\n",
       "}\n",
       "\n",
       "/* On hover, darken the color of the background */\n",
       "#sk-container-id-1 div.sk-label:hover label.sk-toggleable__label {\n",
       "  color: var(--sklearn-color-text);\n",
       "  background-color: var(--sklearn-color-unfitted-level-2);\n",
       "}\n",
       "\n",
       "/* Label box, darken color on hover, fitted */\n",
       "#sk-container-id-1 div.sk-label.fitted:hover label.sk-toggleable__label.fitted {\n",
       "  color: var(--sklearn-color-text);\n",
       "  background-color: var(--sklearn-color-fitted-level-2);\n",
       "}\n",
       "\n",
       "/* Estimator label */\n",
       "\n",
       "#sk-container-id-1 div.sk-label label {\n",
       "  font-family: monospace;\n",
       "  font-weight: bold;\n",
       "  display: inline-block;\n",
       "  line-height: 1.2em;\n",
       "}\n",
       "\n",
       "#sk-container-id-1 div.sk-label-container {\n",
       "  text-align: center;\n",
       "}\n",
       "\n",
       "/* Estimator-specific */\n",
       "#sk-container-id-1 div.sk-estimator {\n",
       "  font-family: monospace;\n",
       "  border: 1px dotted var(--sklearn-color-border-box);\n",
       "  border-radius: 0.25em;\n",
       "  box-sizing: border-box;\n",
       "  margin-bottom: 0.5em;\n",
       "  /* unfitted */\n",
       "  background-color: var(--sklearn-color-unfitted-level-0);\n",
       "}\n",
       "\n",
       "#sk-container-id-1 div.sk-estimator.fitted {\n",
       "  /* fitted */\n",
       "  background-color: var(--sklearn-color-fitted-level-0);\n",
       "}\n",
       "\n",
       "/* on hover */\n",
       "#sk-container-id-1 div.sk-estimator:hover {\n",
       "  /* unfitted */\n",
       "  background-color: var(--sklearn-color-unfitted-level-2);\n",
       "}\n",
       "\n",
       "#sk-container-id-1 div.sk-estimator.fitted:hover {\n",
       "  /* fitted */\n",
       "  background-color: var(--sklearn-color-fitted-level-2);\n",
       "}\n",
       "\n",
       "/* Specification for estimator info (e.g. \"i\" and \"?\") */\n",
       "\n",
       "/* Common style for \"i\" and \"?\" */\n",
       "\n",
       ".sk-estimator-doc-link,\n",
       "a:link.sk-estimator-doc-link,\n",
       "a:visited.sk-estimator-doc-link {\n",
       "  float: right;\n",
       "  font-size: smaller;\n",
       "  line-height: 1em;\n",
       "  font-family: monospace;\n",
       "  background-color: var(--sklearn-color-background);\n",
       "  border-radius: 1em;\n",
       "  height: 1em;\n",
       "  width: 1em;\n",
       "  text-decoration: none !important;\n",
       "  margin-left: 1ex;\n",
       "  /* unfitted */\n",
       "  border: var(--sklearn-color-unfitted-level-1) 1pt solid;\n",
       "  color: var(--sklearn-color-unfitted-level-1);\n",
       "}\n",
       "\n",
       ".sk-estimator-doc-link.fitted,\n",
       "a:link.sk-estimator-doc-link.fitted,\n",
       "a:visited.sk-estimator-doc-link.fitted {\n",
       "  /* fitted */\n",
       "  border: var(--sklearn-color-fitted-level-1) 1pt solid;\n",
       "  color: var(--sklearn-color-fitted-level-1);\n",
       "}\n",
       "\n",
       "/* On hover */\n",
       "div.sk-estimator:hover .sk-estimator-doc-link:hover,\n",
       ".sk-estimator-doc-link:hover,\n",
       "div.sk-label-container:hover .sk-estimator-doc-link:hover,\n",
       ".sk-estimator-doc-link:hover {\n",
       "  /* unfitted */\n",
       "  background-color: var(--sklearn-color-unfitted-level-3);\n",
       "  color: var(--sklearn-color-background);\n",
       "  text-decoration: none;\n",
       "}\n",
       "\n",
       "div.sk-estimator.fitted:hover .sk-estimator-doc-link.fitted:hover,\n",
       ".sk-estimator-doc-link.fitted:hover,\n",
       "div.sk-label-container:hover .sk-estimator-doc-link.fitted:hover,\n",
       ".sk-estimator-doc-link.fitted:hover {\n",
       "  /* fitted */\n",
       "  background-color: var(--sklearn-color-fitted-level-3);\n",
       "  color: var(--sklearn-color-background);\n",
       "  text-decoration: none;\n",
       "}\n",
       "\n",
       "/* Span, style for the box shown on hovering the info icon */\n",
       ".sk-estimator-doc-link span {\n",
       "  display: none;\n",
       "  z-index: 9999;\n",
       "  position: relative;\n",
       "  font-weight: normal;\n",
       "  right: .2ex;\n",
       "  padding: .5ex;\n",
       "  margin: .5ex;\n",
       "  width: min-content;\n",
       "  min-width: 20ex;\n",
       "  max-width: 50ex;\n",
       "  color: var(--sklearn-color-text);\n",
       "  box-shadow: 2pt 2pt 4pt #999;\n",
       "  /* unfitted */\n",
       "  background: var(--sklearn-color-unfitted-level-0);\n",
       "  border: .5pt solid var(--sklearn-color-unfitted-level-3);\n",
       "}\n",
       "\n",
       ".sk-estimator-doc-link.fitted span {\n",
       "  /* fitted */\n",
       "  background: var(--sklearn-color-fitted-level-0);\n",
       "  border: var(--sklearn-color-fitted-level-3);\n",
       "}\n",
       "\n",
       ".sk-estimator-doc-link:hover span {\n",
       "  display: block;\n",
       "}\n",
       "\n",
       "/* \"?\"-specific style due to the `<a>` HTML tag */\n",
       "\n",
       "#sk-container-id-1 a.estimator_doc_link {\n",
       "  float: right;\n",
       "  font-size: 1rem;\n",
       "  line-height: 1em;\n",
       "  font-family: monospace;\n",
       "  background-color: var(--sklearn-color-background);\n",
       "  border-radius: 1rem;\n",
       "  height: 1rem;\n",
       "  width: 1rem;\n",
       "  text-decoration: none;\n",
       "  /* unfitted */\n",
       "  color: var(--sklearn-color-unfitted-level-1);\n",
       "  border: var(--sklearn-color-unfitted-level-1) 1pt solid;\n",
       "}\n",
       "\n",
       "#sk-container-id-1 a.estimator_doc_link.fitted {\n",
       "  /* fitted */\n",
       "  border: var(--sklearn-color-fitted-level-1) 1pt solid;\n",
       "  color: var(--sklearn-color-fitted-level-1);\n",
       "}\n",
       "\n",
       "/* On hover */\n",
       "#sk-container-id-1 a.estimator_doc_link:hover {\n",
       "  /* unfitted */\n",
       "  background-color: var(--sklearn-color-unfitted-level-3);\n",
       "  color: var(--sklearn-color-background);\n",
       "  text-decoration: none;\n",
       "}\n",
       "\n",
       "#sk-container-id-1 a.estimator_doc_link.fitted:hover {\n",
       "  /* fitted */\n",
       "  background-color: var(--sklearn-color-fitted-level-3);\n",
       "}\n",
       "</style><div id=\"sk-container-id-1\" class=\"sk-top-container\"><div class=\"sk-text-repr-fallback\"><pre>XGBClassifier(base_score=None, booster=None, callbacks=None,\n",
       "              colsample_bylevel=None, colsample_bynode=0.6701065485560316,\n",
       "              colsample_bytree=None, device=None, early_stopping_rounds=None,\n",
       "              enable_categorical=False,\n",
       "              eval_metric=&lt;function custom_f1_score at 0x7fc468904540&gt;,\n",
       "              feature_types=None, gamma=None, grow_policy=None,\n",
       "              importance_type=None, interaction_constraints=None,\n",
       "              learning_rate=0.14962248254307453, max_bin=None,\n",
       "              max_cat_threshold=None, max_cat_to_onehot=None,\n",
       "              max_delta_step=None, max_depth=11, max_leaves=None,\n",
       "              min_child_weight=46, missing=nan, monotone_constraints=None,\n",
       "              multi_strategy=None, n_estimators=114, n_jobs=None,\n",
       "              num_parallel_tree=None, objective=&#x27;multi:softprob&#x27;, ...)</pre><b>In a Jupyter environment, please rerun this cell to show the HTML representation or trust the notebook. <br />On GitHub, the HTML representation is unable to render, please try loading this page with nbviewer.org.</b></div><div class=\"sk-container\" hidden><div class=\"sk-item\"><div class=\"sk-estimator fitted sk-toggleable\"><input class=\"sk-toggleable__control sk-hidden--visually\" id=\"sk-estimator-id-1\" type=\"checkbox\" checked><label for=\"sk-estimator-id-1\" class=\"sk-toggleable__label fitted sk-toggleable__label-arrow fitted\">&nbsp;XGBClassifier<span class=\"sk-estimator-doc-link fitted\">i<span>Fitted</span></span></label><div class=\"sk-toggleable__content fitted\"><pre>XGBClassifier(base_score=None, booster=None, callbacks=None,\n",
       "              colsample_bylevel=None, colsample_bynode=0.6701065485560316,\n",
       "              colsample_bytree=None, device=None, early_stopping_rounds=None,\n",
       "              enable_categorical=False,\n",
       "              eval_metric=&lt;function custom_f1_score at 0x7fc468904540&gt;,\n",
       "              feature_types=None, gamma=None, grow_policy=None,\n",
       "              importance_type=None, interaction_constraints=None,\n",
       "              learning_rate=0.14962248254307453, max_bin=None,\n",
       "              max_cat_threshold=None, max_cat_to_onehot=None,\n",
       "              max_delta_step=None, max_depth=11, max_leaves=None,\n",
       "              min_child_weight=46, missing=nan, monotone_constraints=None,\n",
       "              multi_strategy=None, n_estimators=114, n_jobs=None,\n",
       "              num_parallel_tree=None, objective=&#x27;multi:softprob&#x27;, ...)</pre></div> </div></div></div></div>"
      ],
      "text/plain": [
       "XGBClassifier(base_score=None, booster=None, callbacks=None,\n",
       "              colsample_bylevel=None, colsample_bynode=0.6701065485560316,\n",
       "              colsample_bytree=None, device=None, early_stopping_rounds=None,\n",
       "              enable_categorical=False,\n",
       "              eval_metric=<function custom_f1_score at 0x7fc468904540>,\n",
       "              feature_types=None, gamma=None, grow_policy=None,\n",
       "              importance_type=None, interaction_constraints=None,\n",
       "              learning_rate=0.14962248254307453, max_bin=None,\n",
       "              max_cat_threshold=None, max_cat_to_onehot=None,\n",
       "              max_delta_step=None, max_depth=11, max_leaves=None,\n",
       "              min_child_weight=46, missing=nan, monotone_constraints=None,\n",
       "              multi_strategy=None, n_estimators=114, n_jobs=None,\n",
       "              num_parallel_tree=None, objective='multi:softprob', ...)"
      ]
     },
     "execution_count": 21,
     "metadata": {},
     "output_type": "execute_result"
    }
   ],
   "source": [
    "n_estimators = int(study.best_trial.user_attrs['best_iteration']*1.2)\n",
    "xgb = xgboost.XGBClassifier(\n",
    "        eval_metric=eval_metric,\n",
    "        n_estimators=n_estimators,\n",
    "        **study.best_trial.params\n",
    "    )\n",
    "xgb.fit(\n",
    "    ssp.vstack((X_train, X_val)), \n",
    "    np.concatenate((y_train_enc, y_val_enc)),\n",
    "    verbose=1,\n",
    ")"
   ]
  },
  {
   "cell_type": "code",
   "execution_count": 22,
   "id": "284a6ac5",
   "metadata": {
    "execution": {
     "iopub.execute_input": "2025-06-13T13:10:30.463738Z",
     "iopub.status.busy": "2025-06-13T13:10:30.463445Z",
     "iopub.status.idle": "2025-06-13T13:10:30.517728Z",
     "shell.execute_reply": "2025-06-13T13:10:30.517307Z"
    },
    "papermill": {
     "duration": 0.066409,
     "end_time": "2025-06-13T13:10:30.518729",
     "exception": false,
     "start_time": "2025-06-13T13:10:30.452320",
     "status": "completed"
    },
    "tags": []
   },
   "outputs": [
    {
     "data": {
      "text/plain": [
       "['/scratch_isilon/groups/singlecell/shared/projects/Inflammation-PBMCs-Atlas/03_downstream_analysis/08_gene_importance/xgboost_external_validation/xgboost_TopN_genes/results_20/best_model/T_CD4_Naive_shap_studyID_NOdisease_samesize_3_xgb.json']"
      ]
     },
     "execution_count": 22,
     "metadata": {},
     "output_type": "execute_result"
    }
   ],
   "source": [
    "out_dir = here(f'03_downstream_analysis/08_gene_importance/xgboost_external_validation/xgboost_TopN_genes/results_{N_GENES}/best_model')\n",
    "\n",
    "if not os.path.exists(out_dir):\n",
    "    os.makedirs(out_dir)\n",
    "    \n",
    "joblib.dump(xgb, os.path.join(out_dir, f'{CELL_TYPE}_{SEED}_{TEST_SPLIT_IDX}_xgb.json'))"
   ]
  },
  {
   "cell_type": "code",
   "execution_count": 23,
   "id": "2ed5936c",
   "metadata": {
    "execution": {
     "iopub.execute_input": "2025-06-13T13:10:30.540084Z",
     "iopub.status.busy": "2025-06-13T13:10:30.539817Z",
     "iopub.status.idle": "2025-06-13T13:10:31.138258Z",
     "shell.execute_reply": "2025-06-13T13:10:31.137706Z"
    },
    "papermill": {
     "duration": 0.610402,
     "end_time": "2025-06-13T13:10:31.139328",
     "exception": false,
     "start_time": "2025-06-13T13:10:30.528926",
     "status": "completed"
    },
    "tags": []
   },
   "outputs": [],
   "source": [
    "df_pred_test = pd.DataFrame(dict(\n",
    "    cell_id=train_adata.obs.iloc[test_idxs].index.values,\n",
    "    y_true=y_test, \n",
    "    y_true_code=y_test_enc, \n",
    "    y_pred=xgb.predict(X_test))).set_index('cell_id')"
   ]
  },
  {
   "cell_type": "code",
   "execution_count": 24,
   "id": "d0af4751",
   "metadata": {
    "execution": {
     "iopub.execute_input": "2025-06-13T13:10:31.160674Z",
     "iopub.status.busy": "2025-06-13T13:10:31.160321Z",
     "iopub.status.idle": "2025-06-13T13:10:31.361012Z",
     "shell.execute_reply": "2025-06-13T13:10:31.360502Z"
    },
    "papermill": {
     "duration": 0.212729,
     "end_time": "2025-06-13T13:10:31.362308",
     "exception": false,
     "start_time": "2025-06-13T13:10:31.149579",
     "status": "completed"
    },
    "tags": []
   },
   "outputs": [],
   "source": [
    "out_dir = here(f'03_downstream_analysis/08_gene_importance/xgboost_external_validation/xgboost_TopN_genes/results_{N_GENES}/predictions')\n",
    "\n",
    "if not os.path.exists(out_dir):\n",
    "    os.makedirs(out_dir)\n",
    "    \n",
    "df_pred_test.to_csv(os.path.join(out_dir, f'{CELL_TYPE}_{SEED}_{TEST_SPLIT_IDX}_pred_test.zip'))"
   ]
  },
  {
   "cell_type": "code",
   "execution_count": 25,
   "id": "443980fa",
   "metadata": {
    "execution": {
     "iopub.execute_input": "2025-06-13T13:10:31.384497Z",
     "iopub.status.busy": "2025-06-13T13:10:31.383842Z",
     "iopub.status.idle": "2025-06-13T13:10:31.403950Z",
     "shell.execute_reply": "2025-06-13T13:10:31.403504Z"
    },
    "papermill": {
     "duration": 0.032117,
     "end_time": "2025-06-13T13:10:31.404894",
     "exception": false,
     "start_time": "2025-06-13T13:10:31.372777",
     "status": "completed"
    },
    "tags": []
   },
   "outputs": [
    {
     "name": "stderr",
     "output_type": "stream",
     "text": [
      "/scratch_isilon/groups/singlecell/shared/conda_env/xgboost-cpu/lib/python3.12/site-packages/sklearn/metrics/_classification.py:2466: UserWarning: y_pred contains classes not in y_true\n",
      "  warnings.warn(\"y_pred contains classes not in y_true\")\n"
     ]
    }
   ],
   "source": [
    "metrics_dict = dict(\n",
    "    BAS=balanced_accuracy_score(y_true=df_pred_test.y_true_code, y_pred=df_pred_test.y_pred), WF1=f1_score(y_true=df_pred_test.y_true_code, y_pred=df_pred_test.y_pred,average='weighted'))"
   ]
  },
  {
   "cell_type": "code",
   "execution_count": 26,
   "id": "477882c2",
   "metadata": {
    "execution": {
     "iopub.execute_input": "2025-06-13T13:10:31.427295Z",
     "iopub.status.busy": "2025-06-13T13:10:31.426879Z",
     "iopub.status.idle": "2025-06-13T13:10:31.430158Z",
     "shell.execute_reply": "2025-06-13T13:10:31.429790Z"
    },
    "papermill": {
     "duration": 0.015747,
     "end_time": "2025-06-13T13:10:31.431132",
     "exception": false,
     "start_time": "2025-06-13T13:10:31.415385",
     "status": "completed"
    },
    "tags": []
   },
   "outputs": [
    {
     "data": {
      "text/plain": [
       "{'BAS': 0.6282287331670556, 'WF1': 0.6824301784616634}"
      ]
     },
     "execution_count": 26,
     "metadata": {},
     "output_type": "execute_result"
    }
   ],
   "source": [
    "metrics_dict"
   ]
  },
  {
   "cell_type": "code",
   "execution_count": 27,
   "id": "eaecf41b",
   "metadata": {
    "execution": {
     "iopub.execute_input": "2025-06-13T13:10:31.453265Z",
     "iopub.status.busy": "2025-06-13T13:10:31.452848Z",
     "iopub.status.idle": "2025-06-13T13:10:31.462654Z",
     "shell.execute_reply": "2025-06-13T13:10:31.462285Z"
    },
    "papermill": {
     "duration": 0.021996,
     "end_time": "2025-06-13T13:10:31.463596",
     "exception": false,
     "start_time": "2025-06-13T13:10:31.441600",
     "status": "completed"
    },
    "tags": []
   },
   "outputs": [
    {
     "data": {
      "text/html": [
       "<div>\n",
       "<style scoped>\n",
       "    .dataframe tbody tr th:only-of-type {\n",
       "        vertical-align: middle;\n",
       "    }\n",
       "\n",
       "    .dataframe tbody tr th {\n",
       "        vertical-align: top;\n",
       "    }\n",
       "\n",
       "    .dataframe thead th {\n",
       "        text-align: right;\n",
       "    }\n",
       "</style>\n",
       "<table border=\"1\" class=\"dataframe\">\n",
       "  <thead>\n",
       "    <tr style=\"text-align: right;\">\n",
       "      <th></th>\n",
       "      <th>BAS</th>\n",
       "      <th>WF1</th>\n",
       "      <th>split_idx</th>\n",
       "      <th>gene_set_seed</th>\n",
       "      <th>cell_type</th>\n",
       "    </tr>\n",
       "  </thead>\n",
       "  <tbody>\n",
       "    <tr>\n",
       "      <th>0</th>\n",
       "      <td>0.628229</td>\n",
       "      <td>0.68243</td>\n",
       "      <td>3</td>\n",
       "      <td>shap_studyID_NOdisease_samesize</td>\n",
       "      <td>T_CD4_Naive</td>\n",
       "    </tr>\n",
       "  </tbody>\n",
       "</table>\n",
       "</div>"
      ],
      "text/plain": [
       "        BAS      WF1  split_idx                    gene_set_seed    cell_type\n",
       "0  0.628229  0.68243          3  shap_studyID_NOdisease_samesize  T_CD4_Naive"
      ]
     },
     "execution_count": 27,
     "metadata": {},
     "output_type": "execute_result"
    }
   ],
   "source": [
    "metrics_df = pd.DataFrame.from_dict([metrics_dict]).assign(split_idx=TEST_SPLIT_IDX, gene_set_seed=SEED, cell_type=CELL_TYPE)\n",
    "metrics_df"
   ]
  },
  {
   "cell_type": "code",
   "execution_count": 28,
   "id": "b85bbcc2",
   "metadata": {
    "execution": {
     "iopub.execute_input": "2025-06-13T13:10:31.485428Z",
     "iopub.status.busy": "2025-06-13T13:10:31.485030Z",
     "iopub.status.idle": "2025-06-13T13:10:31.493804Z",
     "shell.execute_reply": "2025-06-13T13:10:31.493414Z"
    },
    "papermill": {
     "duration": 0.02075,
     "end_time": "2025-06-13T13:10:31.494726",
     "exception": false,
     "start_time": "2025-06-13T13:10:31.473976",
     "status": "completed"
    },
    "tags": []
   },
   "outputs": [],
   "source": [
    "out_dir = here(f'03_downstream_analysis/08_gene_importance/xgboost_external_validation/xgboost_TopN_genes/results_{N_GENES}/metrics')\n",
    "\n",
    "if not os.path.exists(out_dir):\n",
    "    os.makedirs(out_dir)\n",
    "    \n",
    "metrics_df.to_csv(os.path.join(out_dir, f'{CELL_TYPE}_{SEED}_{TEST_SPLIT_IDX}_metrics.zip'))"
   ]
  }
 ],
 "metadata": {
  "kernelspec": {
   "display_name": "Python 3 (ipykernel)",
   "language": "python",
   "name": "python3"
  },
  "language_info": {
   "codemirror_mode": {
    "name": "ipython",
    "version": 3
   },
   "file_extension": ".py",
   "mimetype": "text/x-python",
   "name": "python",
   "nbconvert_exporter": "python",
   "pygments_lexer": "ipython3",
   "version": "3.12.5"
  },
  "papermill": {
   "default_parameters": {},
   "duration": 528.418979,
   "end_time": "2025-06-13T13:10:32.221982",
   "environment_variables": {},
   "exception": null,
   "input_path": "02_xgboost_fitting_external_20genes.ipynb",
   "output_path": "results_20/executed_notebooks/xgboost_fitting_external_CT_T_CD4_Naive_GS_shap_studyID_NOdisease_samesize_seed3.ipynb",
   "parameters": {
    "CELL_TYPE": "T_CD4_Naive",
    "SEED": "shap_studyID_NOdisease_samesize",
    "TEST_SPLIT_IDX": 3
   },
   "start_time": "2025-06-13T13:01:43.803003",
   "version": "2.6.0"
  }
 },
 "nbformat": 4,
 "nbformat_minor": 5
}