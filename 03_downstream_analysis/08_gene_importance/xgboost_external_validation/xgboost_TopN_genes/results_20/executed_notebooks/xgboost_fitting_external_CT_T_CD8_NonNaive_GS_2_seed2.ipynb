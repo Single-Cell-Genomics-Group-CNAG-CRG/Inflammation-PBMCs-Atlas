{
 "cells": [
  {
   "cell_type": "code",
   "execution_count": 1,
   "id": "22bf7f0a",
   "metadata": {
    "editable": true,
    "execution": {
     "iopub.execute_input": "2025-05-15T16:05:19.672360Z",
     "iopub.status.busy": "2025-05-15T16:05:19.672221Z",
     "iopub.status.idle": "2025-05-15T16:05:19.674728Z",
     "shell.execute_reply": "2025-05-15T16:05:19.674440Z"
    },
    "papermill": {
     "duration": 0.00981,
     "end_time": "2025-05-15T16:05:19.675572",
     "exception": false,
     "start_time": "2025-05-15T16:05:19.665762",
     "status": "completed"
    },
    "slideshow": {
     "slide_type": ""
    },
    "tags": [
     "parameters"
    ]
   },
   "outputs": [],
   "source": [
    "CELL_TYPE = 'pDC'\n",
    "N_GENES: int = 20\n",
    "SEED = 'shap_studyID' #'disease_NOstudy' 'study_NOdisease' or 'int' or 'shap_studyID'\n",
    "TEST_SPLIT_IDX: int = 1 #[0,4]"
   ]
  },
  {
   "cell_type": "code",
   "execution_count": 2,
   "id": "99e0e846",
   "metadata": {
    "execution": {
     "iopub.execute_input": "2025-05-15T16:05:19.686018Z",
     "iopub.status.busy": "2025-05-15T16:05:19.685787Z",
     "iopub.status.idle": "2025-05-15T16:05:19.687813Z",
     "shell.execute_reply": "2025-05-15T16:05:19.687533Z"
    },
    "papermill": {
     "duration": 0.008059,
     "end_time": "2025-05-15T16:05:19.688573",
     "exception": false,
     "start_time": "2025-05-15T16:05:19.680514",
     "status": "completed"
    },
    "tags": [
     "injected-parameters"
    ]
   },
   "outputs": [],
   "source": [
    "# Parameters\n",
    "CELL_TYPE = \"T_CD8_NonNaive\"\n",
    "SEED = 2\n",
    "TEST_SPLIT_IDX = 2\n"
   ]
  },
  {
   "cell_type": "code",
   "execution_count": 3,
   "id": "ccff76ed",
   "metadata": {
    "execution": {
     "iopub.execute_input": "2025-05-15T16:05:19.698842Z",
     "iopub.status.busy": "2025-05-15T16:05:19.698638Z",
     "iopub.status.idle": "2025-05-15T16:05:19.700606Z",
     "shell.execute_reply": "2025-05-15T16:05:19.700328Z"
    },
    "papermill": {
     "duration": 0.007906,
     "end_time": "2025-05-15T16:05:19.701355",
     "exception": false,
     "start_time": "2025-05-15T16:05:19.693449",
     "status": "completed"
    },
    "tags": []
   },
   "outputs": [],
   "source": [
    "N_SPLITS: int = 5\n",
    "N_TRIALS: int = 50"
   ]
  },
  {
   "cell_type": "code",
   "execution_count": 4,
   "id": "814a7628",
   "metadata": {
    "execution": {
     "iopub.execute_input": "2025-05-15T16:05:19.712437Z",
     "iopub.status.busy": "2025-05-15T16:05:19.712311Z",
     "iopub.status.idle": "2025-05-15T16:05:22.811874Z",
     "shell.execute_reply": "2025-05-15T16:05:22.811387Z"
    },
    "papermill": {
     "duration": 3.106742,
     "end_time": "2025-05-15T16:05:22.812972",
     "exception": false,
     "start_time": "2025-05-15T16:05:19.706230",
     "status": "completed"
    },
    "tags": []
   },
   "outputs": [],
   "source": [
    "import os\n",
    "import sys\n",
    "from pyprojroot.here import here\n",
    "import pandas as pd\n",
    "import anndata as ad\n",
    "import numpy as np\n",
    "import math\n",
    "from sklearn.model_selection import StratifiedGroupKFold\n",
    "from sklearn.preprocessing import LabelEncoder\n",
    "from sklearn.metrics import f1_score\n",
    "import matplotlib.pyplot as plt\n",
    "import seaborn as sns\n",
    "from itertools import product\n",
    "from sklearn.metrics import balanced_accuracy_score, f1_score\n",
    "import optuna\n",
    "\n",
    "import joblib\n",
    "import pickle\n",
    "import datetime\n",
    "\n",
    "import collections\n",
    "\n",
    "import xgboost\n",
    "from sklearn.preprocessing import LabelEncoder\n",
    "\n",
    "import scipy.sparse as ssp\n",
    "import joblib\n",
    "\n",
    "from dotenv import load_dotenv"
   ]
  },
  {
   "cell_type": "code",
   "execution_count": 5,
   "id": "2c6936f5",
   "metadata": {
    "execution": {
     "iopub.execute_input": "2025-05-15T16:05:22.824795Z",
     "iopub.status.busy": "2025-05-15T16:05:22.824432Z",
     "iopub.status.idle": "2025-05-15T16:05:22.830629Z",
     "shell.execute_reply": "2025-05-15T16:05:22.830338Z"
    },
    "papermill": {
     "duration": 0.012651,
     "end_time": "2025-05-15T16:05:22.831401",
     "exception": false,
     "start_time": "2025-05-15T16:05:22.818750",
     "status": "completed"
    },
    "tags": []
   },
   "outputs": [
    {
     "data": {
      "text/plain": [
       "True"
      ]
     },
     "execution_count": 5,
     "metadata": {},
     "output_type": "execute_result"
    }
   ],
   "source": [
    "load_dotenv()"
   ]
  },
  {
   "cell_type": "markdown",
   "id": "75f1c60d",
   "metadata": {
    "papermill": {
     "duration": 0.005081,
     "end_time": "2025-05-15T16:05:22.841607",
     "exception": false,
     "start_time": "2025-05-15T16:05:22.836526",
     "status": "completed"
    },
    "tags": []
   },
   "source": [
    "# LOAD DATASET"
   ]
  },
  {
   "cell_type": "code",
   "execution_count": 6,
   "id": "aad3d69c",
   "metadata": {
    "execution": {
     "iopub.execute_input": "2025-05-15T16:05:22.852008Z",
     "iopub.status.busy": "2025-05-15T16:05:22.851612Z",
     "iopub.status.idle": "2025-05-15T16:05:23.305562Z",
     "shell.execute_reply": "2025-05-15T16:05:23.305157Z"
    },
    "papermill": {
     "duration": 0.460822,
     "end_time": "2025-05-15T16:05:23.307149",
     "exception": false,
     "start_time": "2025-05-15T16:05:22.846327",
     "status": "completed"
    },
    "tags": []
   },
   "outputs": [],
   "source": [
    "train_adata = ad.read_h5ad(\n",
    "    here(f'03_downstream_analysis/08_gene_importance/xgboost_external_validation/xgboost_TopN_genes/data_cellTypes/EXTERNAL_{CELL_TYPE}.filtered.log1p.h5ad')\n",
    ")"
   ]
  },
  {
   "cell_type": "code",
   "execution_count": 7,
   "id": "ceec7ce4",
   "metadata": {
    "execution": {
     "iopub.execute_input": "2025-05-15T16:05:23.318368Z",
     "iopub.status.busy": "2025-05-15T16:05:23.317997Z",
     "iopub.status.idle": "2025-05-15T16:05:23.342643Z",
     "shell.execute_reply": "2025-05-15T16:05:23.342286Z"
    },
    "papermill": {
     "duration": 0.031071,
     "end_time": "2025-05-15T16:05:23.343504",
     "exception": false,
     "start_time": "2025-05-15T16:05:23.312433",
     "status": "completed"
    },
    "tags": []
   },
   "outputs": [
    {
     "name": "stdout",
     "output_type": "stream",
     "text": [
      "['ENSG00000077150' 'ENSG00000140264' 'ENSG00000141506' 'ENSG00000150687'\n",
      " 'ENSG00000030110' 'ENSG00000128524' 'ENSG00000154814' 'ENSG00000141367'\n",
      " 'ENSG00000138378' 'ENSG00000120742' 'ENSG00000215788' 'ENSG00000131437'\n",
      " 'ENSG00000130755' 'ENSG00000109861' 'ENSG00000100664' 'ENSG00000078596'\n",
      " 'ENSG00000090266' 'ENSG00000172531' 'ENSG00000104964' 'ENSG00000111796'\n",
      " 'ENSG00000109321' 'ENSG00000178719' 'ENSG00000168894' 'ENSG00000118640'\n",
      " 'ENSG00000079616' 'ENSG00000135046' 'ENSG00000143924' 'ENSG00000239713'\n",
      " 'ENSG00000242616' 'ENSG00000152778' 'ENSG00000081059' 'ENSG00000133134'\n",
      " 'ENSG00000184557' 'ENSG00000136003' 'ENSG00000146457' 'ENSG00000240065'\n",
      " 'ENSG00000113732' 'ENSG00000171608' 'ENSG00000158050' 'ENSG00000198832'\n",
      " 'ENSG00000117281' 'ENSG00000139192' 'ENSG00000100485' 'ENSG00000134352'\n",
      " 'ENSG00000100385' 'ENSG00000231389' 'ENSG00000104856' 'ENSG00000115875'\n",
      " 'ENSG00000277791' 'ENSG00000111678' 'ENSG00000206503' 'ENSG00000156587'\n",
      " 'ENSG00000184007' 'ENSG00000155368' 'ENSG00000130724' 'ENSG00000101695'\n",
      " 'ENSG00000104998' 'ENSG00000145649' 'ENSG00000116171' 'ENSG00000177556'\n",
      " 'ENSG00000145675' 'ENSG00000106367' 'ENSG00000163659' 'ENSG00000104671'\n",
      " 'ENSG00000186810' 'ENSG00000118971' 'ENSG00000177721' 'ENSG00000143184'\n",
      " 'ENSG00000176083' 'ENSG00000132912' 'ENSG00000168610' 'ENSG00000271503'\n",
      " 'ENSG00000163513' 'ENSG00000107968' 'ENSG00000130429' 'ENSG00000179344'\n",
      " 'ENSG00000135720' 'ENSG00000148908' 'ENSG00000104763' 'ENSG00000072958'\n",
      " 'ENSG00000135404' 'ENSG00000175104' 'ENSG00000175768' 'ENSG00000134545'\n",
      " 'ENSG00000036448' 'ENSG00000137441' 'ENSG00000165272' 'ENSG00000131981'\n",
      " 'ENSG00000105374' 'ENSG00000165732' 'ENSG00000117450' 'ENSG00000143575'\n",
      " 'ENSG00000125743' 'ENSG00000173757' 'ENSG00000197471' 'ENSG00000205810'\n",
      " 'ENSG00000066136' 'ENSG00000204287' 'ENSG00000026297' 'ENSG00000152219'\n",
      " 'ENSG00000073861' 'ENSG00000182117' 'ENSG00000170989' 'ENSG00000143185']\n"
     ]
    }
   ],
   "source": [
    "if SEED != 'all':\n",
    "    gene_subset = np.load(here(f'03_downstream_analysis/08_gene_importance/xgboost_external_validation/shap_gene_selection/gene_subsets_{N_GENES}/{CELL_TYPE}_{SEED}.npy'), allow_pickle=True)\n",
    "    train_adata = train_adata[:,gene_subset]\n",
    "    print(gene_subset)\n",
    "elif SEED == 'all':\n",
    "    print('Using all genes')\n",
    "else:\n",
    "    raise ValueError()"
   ]
  },
  {
   "cell_type": "code",
   "execution_count": 8,
   "id": "49b06ab3",
   "metadata": {
    "execution": {
     "iopub.execute_input": "2025-05-15T16:05:23.355338Z",
     "iopub.status.busy": "2025-05-15T16:05:23.354901Z",
     "iopub.status.idle": "2025-05-15T16:05:23.357866Z",
     "shell.execute_reply": "2025-05-15T16:05:23.357572Z"
    },
    "papermill": {
     "duration": 0.009404,
     "end_time": "2025-05-15T16:05:23.358679",
     "exception": false,
     "start_time": "2025-05-15T16:05:23.349275",
     "status": "completed"
    },
    "tags": []
   },
   "outputs": [
    {
     "data": {
      "text/plain": [
       "(72200, 104)"
      ]
     },
     "execution_count": 8,
     "metadata": {},
     "output_type": "execute_result"
    }
   ],
   "source": [
    "train_adata.shape"
   ]
  },
  {
   "cell_type": "code",
   "execution_count": 9,
   "id": "9b3e34ce",
   "metadata": {
    "execution": {
     "iopub.execute_input": "2025-05-15T16:05:23.369924Z",
     "iopub.status.busy": "2025-05-15T16:05:23.369600Z",
     "iopub.status.idle": "2025-05-15T16:05:23.373301Z",
     "shell.execute_reply": "2025-05-15T16:05:23.373009Z"
    },
    "papermill": {
     "duration": 0.010176,
     "end_time": "2025-05-15T16:05:23.374068",
     "exception": false,
     "start_time": "2025-05-15T16:05:23.363892",
     "status": "completed"
    },
    "tags": []
   },
   "outputs": [
    {
     "data": {
      "text/plain": [
       "['RA', 'COVID', 'healthy', 'HIV', 'cirrhosis', 'CD', 'SLE', 'sepsis']\n",
       "Categories (8, object): ['CD', 'COVID', 'HIV', 'RA', 'SLE', 'cirrhosis', 'healthy', 'sepsis']"
      ]
     },
     "execution_count": 9,
     "metadata": {},
     "output_type": "execute_result"
    }
   ],
   "source": [
    "train_adata.obs.disease.unique()"
   ]
  },
  {
   "cell_type": "code",
   "execution_count": 10,
   "id": "94c17bdb",
   "metadata": {
    "execution": {
     "iopub.execute_input": "2025-05-15T16:05:23.385211Z",
     "iopub.status.busy": "2025-05-15T16:05:23.384967Z",
     "iopub.status.idle": "2025-05-15T16:05:23.388799Z",
     "shell.execute_reply": "2025-05-15T16:05:23.388513Z"
    },
    "papermill": {
     "duration": 0.010367,
     "end_time": "2025-05-15T16:05:23.389628",
     "exception": false,
     "start_time": "2025-05-15T16:05:23.379261",
     "status": "completed"
    },
    "tags": []
   },
   "outputs": [
    {
     "data": {
      "text/plain": [
       "['SCGT00val_I036016_T0', 'SCGT00val_I036021_T0', 'SCGT00val_I036028_T0', 'SCGT00val_I036015_T0', 'SCGT00val_I0364_T0', ..., '10XGenomics_10XHC2_T0', '10XGenomics_10XHC3_T0', '10XGenomics_10XHC5_T0', '10XGenomics_10XHC7_T0', '10XGenomics_10XHC8_T0']\n",
       "Length: 86\n",
       "Categories (86, object): ['10XGenomics_10XHC1_T0', '10XGenomics_10XHC2_T0', '10XGenomics_10XHC3_T0', '10XGenomics_10XHC4_T0', ..., 'Savage2021_BRISL6_T0', 'Savage2021_BRISL7_T0', 'Savage2021_PIDA_T0', 'Savage2021_PIDB_T0']"
      ]
     },
     "execution_count": 10,
     "metadata": {},
     "output_type": "execute_result"
    }
   ],
   "source": [
    "train_adata.obs.sampleID.unique()"
   ]
  },
  {
   "cell_type": "code",
   "execution_count": 11,
   "id": "557a70d0",
   "metadata": {
    "execution": {
     "iopub.execute_input": "2025-05-15T16:05:23.407992Z",
     "iopub.status.busy": "2025-05-15T16:05:23.407673Z",
     "iopub.status.idle": "2025-05-15T16:05:23.586637Z",
     "shell.execute_reply": "2025-05-15T16:05:23.586234Z"
    },
    "papermill": {
     "duration": 0.192753,
     "end_time": "2025-05-15T16:05:23.587505",
     "exception": false,
     "start_time": "2025-05-15T16:05:23.394752",
     "status": "completed"
    },
    "tags": []
   },
   "outputs": [],
   "source": [
    "all_idxs = np.arange(train_adata.obs.shape[0])\n",
    "left_out_splits = [s[1] for s in StratifiedGroupKFold(n_splits=N_SPLITS).split(all_idxs, train_adata.obs.disease, train_adata.obs.sampleID)]"
   ]
  },
  {
   "cell_type": "code",
   "execution_count": 12,
   "id": "70e7e823",
   "metadata": {
    "execution": {
     "iopub.execute_input": "2025-05-15T16:05:23.640628Z",
     "iopub.status.busy": "2025-05-15T16:05:23.640276Z",
     "iopub.status.idle": "2025-05-15T16:05:23.643538Z",
     "shell.execute_reply": "2025-05-15T16:05:23.643250Z"
    },
    "papermill": {
     "duration": 0.020715,
     "end_time": "2025-05-15T16:05:23.644328",
     "exception": false,
     "start_time": "2025-05-15T16:05:23.623613",
     "status": "completed"
    },
    "tags": []
   },
   "outputs": [
    {
     "data": {
      "text/plain": [
       "([0, 1, 4], 3, 2)"
      ]
     },
     "execution_count": 12,
     "metadata": {},
     "output_type": "execute_result"
    }
   ],
   "source": [
    "TRAIN_SPLIT_IDXS = [0,1,2,3,4]\n",
    "VAL_SPLIT_IDX = (TEST_SPLIT_IDX + 1) % 5\n",
    "TRAIN_SPLIT_IDXS.remove(TEST_SPLIT_IDX)\n",
    "TRAIN_SPLIT_IDXS.remove(VAL_SPLIT_IDX)\n",
    "TRAIN_SPLIT_IDXS, VAL_SPLIT_IDX, TEST_SPLIT_IDX"
   ]
  },
  {
   "cell_type": "code",
   "execution_count": 13,
   "id": "090b6245",
   "metadata": {
    "execution": {
     "iopub.execute_input": "2025-05-15T16:05:23.655507Z",
     "iopub.status.busy": "2025-05-15T16:05:23.655205Z",
     "iopub.status.idle": "2025-05-15T16:05:23.657454Z",
     "shell.execute_reply": "2025-05-15T16:05:23.657175Z"
    },
    "papermill": {
     "duration": 0.008702,
     "end_time": "2025-05-15T16:05:23.658203",
     "exception": false,
     "start_time": "2025-05-15T16:05:23.649501",
     "status": "completed"
    },
    "tags": []
   },
   "outputs": [],
   "source": [
    "train_idxs = np.concatenate([left_out_splits[idx] for idx in TRAIN_SPLIT_IDXS])\n",
    "val_idxs = left_out_splits[VAL_SPLIT_IDX]\n",
    "test_idxs = left_out_splits[TEST_SPLIT_IDX]"
   ]
  },
  {
   "cell_type": "markdown",
   "id": "9819b4b2",
   "metadata": {
    "papermill": {
     "duration": 0.005374,
     "end_time": "2025-05-15T16:05:23.769204",
     "exception": false,
     "start_time": "2025-05-15T16:05:23.763830",
     "status": "completed"
    },
    "tags": []
   },
   "source": [
    "### SUBSET DATASET INTO TRAIN/TEST/VAL SPLITS"
   ]
  },
  {
   "cell_type": "code",
   "execution_count": 14,
   "id": "4f23858c",
   "metadata": {
    "execution": {
     "iopub.execute_input": "2025-05-15T16:05:23.783723Z",
     "iopub.status.busy": "2025-05-15T16:05:23.783342Z",
     "iopub.status.idle": "2025-05-15T16:05:23.941153Z",
     "shell.execute_reply": "2025-05-15T16:05:23.940809Z"
    },
    "papermill": {
     "duration": 0.164588,
     "end_time": "2025-05-15T16:05:23.941976",
     "exception": false,
     "start_time": "2025-05-15T16:05:23.777388",
     "status": "completed"
    },
    "tags": []
   },
   "outputs": [
    {
     "data": {
      "text/plain": [
       "((43630, 104), (14538, 104), (14032, 104))"
      ]
     },
     "execution_count": 14,
     "metadata": {},
     "output_type": "execute_result"
    }
   ],
   "source": [
    "X_train = train_adata.X[train_idxs]\n",
    "X_test = train_adata.X[test_idxs]\n",
    "X_val = train_adata.X[val_idxs]\n",
    "X_train.shape, X_test.shape, X_val.shape"
   ]
  },
  {
   "cell_type": "code",
   "execution_count": 15,
   "id": "5383b177",
   "metadata": {
    "execution": {
     "iopub.execute_input": "2025-05-15T16:05:23.954472Z",
     "iopub.status.busy": "2025-05-15T16:05:23.954164Z",
     "iopub.status.idle": "2025-05-15T16:05:23.963031Z",
     "shell.execute_reply": "2025-05-15T16:05:23.962700Z"
    },
    "papermill": {
     "duration": 0.015159,
     "end_time": "2025-05-15T16:05:23.963827",
     "exception": false,
     "start_time": "2025-05-15T16:05:23.948668",
     "status": "completed"
    },
    "tags": []
   },
   "outputs": [
    {
     "data": {
      "text/plain": [
       "((43630,), (14538,), (14032,))"
      ]
     },
     "execution_count": 15,
     "metadata": {},
     "output_type": "execute_result"
    }
   ],
   "source": [
    "y_train = train_adata.obs.iloc[train_idxs].disease.values.astype(str)\n",
    "y_test = train_adata.obs.iloc[test_idxs].disease.values.astype(str)\n",
    "y_val = train_adata.obs.iloc[val_idxs].disease.values.astype(str)\n",
    "y_train.shape, y_test.shape, y_val.shape"
   ]
  },
  {
   "cell_type": "code",
   "execution_count": 16,
   "id": "158fd220",
   "metadata": {
    "execution": {
     "iopub.execute_input": "2025-05-15T16:05:23.975919Z",
     "iopub.status.busy": "2025-05-15T16:05:23.975588Z",
     "iopub.status.idle": "2025-05-15T16:05:23.991924Z",
     "shell.execute_reply": "2025-05-15T16:05:23.991552Z"
    },
    "papermill": {
     "duration": 0.023556,
     "end_time": "2025-05-15T16:05:23.992707",
     "exception": false,
     "start_time": "2025-05-15T16:05:23.969151",
     "status": "completed"
    },
    "tags": []
   },
   "outputs": [],
   "source": [
    "lenc = LabelEncoder()\n",
    "y_train_enc = lenc.fit_transform(y_train)\n",
    "y_val_enc = lenc.transform(y_val)\n",
    "y_test_enc = lenc.transform(y_test)"
   ]
  },
  {
   "cell_type": "markdown",
   "id": "8290a1b1",
   "metadata": {
    "papermill": {
     "duration": 0.005084,
     "end_time": "2025-05-15T16:05:24.003208",
     "exception": false,
     "start_time": "2025-05-15T16:05:23.998124",
     "status": "completed"
    },
    "tags": []
   },
   "source": [
    "### GENERATE F1 "
   ]
  },
  {
   "cell_type": "code",
   "execution_count": 17,
   "id": "58527aee",
   "metadata": {
    "execution": {
     "iopub.execute_input": "2025-05-15T16:05:24.014628Z",
     "iopub.status.busy": "2025-05-15T16:05:24.014310Z",
     "iopub.status.idle": "2025-05-15T16:05:24.016583Z",
     "shell.execute_reply": "2025-05-15T16:05:24.016294Z"
    },
    "papermill": {
     "duration": 0.00883,
     "end_time": "2025-05-15T16:05:24.017334",
     "exception": false,
     "start_time": "2025-05-15T16:05:24.008504",
     "status": "completed"
    },
    "tags": []
   },
   "outputs": [],
   "source": [
    "def custom_f1_score(y_true, y_pred):\n",
    "    return -f1_score(y_true, y_pred.argmax(1), average='weighted')"
   ]
  },
  {
   "cell_type": "code",
   "execution_count": 18,
   "id": "a0eb9342",
   "metadata": {
    "execution": {
     "iopub.execute_input": "2025-05-15T16:05:24.028642Z",
     "iopub.status.busy": "2025-05-15T16:05:24.028344Z",
     "iopub.status.idle": "2025-05-15T16:05:24.031898Z",
     "shell.execute_reply": "2025-05-15T16:05:24.031592Z"
    },
    "papermill": {
     "duration": 0.010062,
     "end_time": "2025-05-15T16:05:24.032637",
     "exception": false,
     "start_time": "2025-05-15T16:05:24.022575",
     "status": "completed"
    },
    "tags": []
   },
   "outputs": [],
   "source": [
    "eval_metric=custom_f1_score\n",
    "eval_metric_name='custom_f1_score'\n",
    "\n",
    "def objective(trial):\n",
    "    params = {\n",
    "        'n_estimators': 1500,\n",
    "        'max_depth': trial.suggest_int('max_depth', 3, 20),\n",
    "        'min_child_weight': trial.suggest_int('min_child_weight', 1, 250),\n",
    "        'subsample': trial.suggest_float('subsample', 0.1, 1.0),\n",
    "        'colsample_bynode': trial.suggest_float('colsample_bynode', 0.1, 1.0),\n",
    "        'learning_rate': trial.suggest_float('learning_rate', 1e-3, 5e-1, log=True),\n",
    "    }\n",
    "    pruning_callback = optuna.integration.XGBoostPruningCallback(trial, f'validation_0-{eval_metric_name}')\n",
    "    es_callback = xgboost.callback.EarlyStopping(20, min_delta=0.001)\n",
    "    xgb = xgboost.XGBClassifier(\n",
    "        eval_metric=eval_metric,\n",
    "        callbacks=[pruning_callback, es_callback],\n",
    "        n_jobs=5,\n",
    "        **params\n",
    "    )\n",
    "    xgb.fit(\n",
    "        X_train, \n",
    "        y_train_enc, \n",
    "        verbose=0,\n",
    "        eval_set=[(X_val, y_val_enc)],\n",
    "    )\n",
    "    trial.set_user_attr('best_iteration', xgb.best_iteration)\n",
    "\n",
    "    return xgb.best_score"
   ]
  },
  {
   "cell_type": "code",
   "execution_count": 19,
   "id": "fc6f7faf",
   "metadata": {
    "execution": {
     "iopub.execute_input": "2025-05-15T16:05:24.044310Z",
     "iopub.status.busy": "2025-05-15T16:05:24.043973Z",
     "iopub.status.idle": "2025-05-15T16:14:34.330047Z",
     "shell.execute_reply": "2025-05-15T16:14:34.329544Z"
    },
    "papermill": {
     "duration": 550.293165,
     "end_time": "2025-05-15T16:14:34.331456",
     "exception": false,
     "start_time": "2025-05-15T16:05:24.038291",
     "status": "completed"
    },
    "scrolled": true,
    "tags": []
   },
   "outputs": [
    {
     "name": "stderr",
     "output_type": "stream",
     "text": [
      "[I 2025-05-15 18:05:24,046] A new study created in memory with name: no-name-11971bb2-8bac-4fb2-abd8-df37e4f2a169\n"
     ]
    },
    {
     "name": "stderr",
     "output_type": "stream",
     "text": [
      "[I 2025-05-15 18:05:30,354] Trial 0 finished with value: -0.59604 and parameters: {'max_depth': 9, 'min_child_weight': 238, 'subsample': 0.7587945476302645, 'colsample_bynode': 0.6387926357773329, 'learning_rate': 0.0026368755339723046}. Best is trial 0 with value: -0.59604.\n"
     ]
    },
    {
     "name": "stderr",
     "output_type": "stream",
     "text": [
      "[I 2025-05-15 18:06:12,914] Trial 1 finished with value: -0.719942 and parameters: {'max_depth': 5, 'min_child_weight': 15, 'subsample': 0.8795585311974417, 'colsample_bynode': 0.6410035105688879, 'learning_rate': 0.08148293210105287}. Best is trial 1 with value: -0.719942.\n"
     ]
    },
    {
     "name": "stderr",
     "output_type": "stream",
     "text": [
      "[I 2025-05-15 18:06:15,372] Trial 2 finished with value: -0.566278 and parameters: {'max_depth': 3, 'min_child_weight': 243, 'subsample': 0.8491983767203796, 'colsample_bynode': 0.29110519961044856, 'learning_rate': 0.003095566460242371}. Best is trial 1 with value: -0.719942.\n"
     ]
    },
    {
     "name": "stderr",
     "output_type": "stream",
     "text": [
      "[I 2025-05-15 18:06:22,598] Trial 3 finished with value: -0.617176 and parameters: {'max_depth': 6, 'min_child_weight': 77, 'subsample': 0.5722807884690141, 'colsample_bynode': 0.48875051677790415, 'learning_rate': 0.006109683510122491}. Best is trial 1 with value: -0.719942.\n"
     ]
    },
    {
     "name": "stderr",
     "output_type": "stream",
     "text": [
      "[I 2025-05-15 18:07:44,304] Trial 4 finished with value: -0.702271 and parameters: {'max_depth': 14, 'min_child_weight': 35, 'subsample': 0.3629301836816964, 'colsample_bynode': 0.4297256589643226, 'learning_rate': 0.01701841881702917}. Best is trial 1 with value: -0.719942.\n"
     ]
    },
    {
     "name": "stderr",
     "output_type": "stream",
     "text": [
      "[I 2025-05-15 18:07:49,023] Trial 5 finished with value: -0.627979 and parameters: {'max_depth': 17, 'min_child_weight': 50, 'subsample': 0.5628109945722505, 'colsample_bynode': 0.6331731119758383, 'learning_rate': 0.0013346527038305934}. Best is trial 1 with value: -0.719942.\n"
     ]
    },
    {
     "name": "stderr",
     "output_type": "stream",
     "text": [
      "[I 2025-05-15 18:07:49,369] Trial 6 pruned. Trial was pruned at iteration 0.\n"
     ]
    },
    {
     "name": "stderr",
     "output_type": "stream",
     "text": [
      "[I 2025-05-15 18:07:49,692] Trial 7 pruned. Trial was pruned at iteration 0.\n"
     ]
    },
    {
     "name": "stderr",
     "output_type": "stream",
     "text": [
      "[I 2025-05-15 18:07:50,004] Trial 8 pruned. Trial was pruned at iteration 0.\n"
     ]
    },
    {
     "name": "stderr",
     "output_type": "stream",
     "text": [
      "[I 2025-05-15 18:07:50,572] Trial 9 pruned. Trial was pruned at iteration 1.\n"
     ]
    },
    {
     "name": "stderr",
     "output_type": "stream",
     "text": [
      "[I 2025-05-15 18:08:13,284] Trial 10 finished with value: -0.710191 and parameters: {'max_depth': 9, 'min_child_weight': 2, 'subsample': 0.9725833997090791, 'colsample_bynode': 0.11616568805333755, 'learning_rate': 0.17780618353487967}. Best is trial 1 with value: -0.719942.\n"
     ]
    },
    {
     "name": "stderr",
     "output_type": "stream",
     "text": [
      "[I 2025-05-15 18:08:42,970] Trial 11 finished with value: -0.709363 and parameters: {'max_depth': 9, 'min_child_weight': 4, 'subsample': 0.9818290990185045, 'colsample_bynode': 0.17702656156719, 'learning_rate': 0.11568531411766632}. Best is trial 1 with value: -0.719942.\n"
     ]
    },
    {
     "name": "stderr",
     "output_type": "stream",
     "text": [
      "[I 2025-05-15 18:09:24,349] Trial 12 finished with value: -0.710704 and parameters: {'max_depth': 9, 'min_child_weight': 3, 'subsample': 0.9754570370311046, 'colsample_bynode': 0.14672783827498995, 'learning_rate': 0.08954997670613858}. Best is trial 1 with value: -0.719942.\n"
     ]
    },
    {
     "name": "stderr",
     "output_type": "stream",
     "text": [
      "[I 2025-05-15 18:09:24,723] Trial 13 pruned. Trial was pruned at iteration 0.\n"
     ]
    },
    {
     "name": "stderr",
     "output_type": "stream",
     "text": [
      "[I 2025-05-15 18:09:25,138] Trial 14 pruned. Trial was pruned at iteration 0.\n"
     ]
    },
    {
     "name": "stderr",
     "output_type": "stream",
     "text": [
      "[I 2025-05-15 18:10:16,968] Trial 15 pruned. Trial was pruned at iteration 52.\n"
     ]
    },
    {
     "name": "stderr",
     "output_type": "stream",
     "text": [
      "[I 2025-05-15 18:10:17,346] Trial 16 pruned. Trial was pruned at iteration 0.\n"
     ]
    },
    {
     "name": "stderr",
     "output_type": "stream",
     "text": [
      "[I 2025-05-15 18:10:17,668] Trial 17 pruned. Trial was pruned at iteration 0.\n"
     ]
    },
    {
     "name": "stderr",
     "output_type": "stream",
     "text": [
      "[I 2025-05-15 18:10:27,716] Trial 18 pruned. Trial was pruned at iteration 45.\n"
     ]
    },
    {
     "name": "stderr",
     "output_type": "stream",
     "text": [
      "[I 2025-05-15 18:10:28,043] Trial 19 pruned. Trial was pruned at iteration 0.\n"
     ]
    },
    {
     "name": "stderr",
     "output_type": "stream",
     "text": [
      "[I 2025-05-15 18:10:38,183] Trial 20 pruned. Trial was pruned at iteration 45.\n"
     ]
    },
    {
     "name": "stderr",
     "output_type": "stream",
     "text": [
      "[I 2025-05-15 18:11:05,072] Trial 21 finished with value: -0.706489 and parameters: {'max_depth': 10, 'min_child_weight': 1, 'subsample': 0.9952609852690866, 'colsample_bynode': 0.10219264632724914, 'learning_rate': 0.20901104055631745}. Best is trial 1 with value: -0.719942.\n"
     ]
    },
    {
     "name": "stderr",
     "output_type": "stream",
     "text": [
      "[I 2025-05-15 18:11:23,106] Trial 22 finished with value: -0.719718 and parameters: {'max_depth': 8, 'min_child_weight': 19, 'subsample': 0.9099154362855527, 'colsample_bynode': 0.11829336179454893, 'learning_rate': 0.23513596055388197}. Best is trial 1 with value: -0.719942.\n"
     ]
    },
    {
     "name": "stderr",
     "output_type": "stream",
     "text": [
      "[I 2025-05-15 18:11:23,479] Trial 23 pruned. Trial was pruned at iteration 0.\n"
     ]
    },
    {
     "name": "stderr",
     "output_type": "stream",
     "text": [
      "[I 2025-05-15 18:11:27,302] Trial 24 pruned. Trial was pruned at iteration 21.\n"
     ]
    },
    {
     "name": "stderr",
     "output_type": "stream",
     "text": [
      "[I 2025-05-15 18:11:27,622] Trial 25 pruned. Trial was pruned at iteration 0.\n"
     ]
    },
    {
     "name": "stderr",
     "output_type": "stream",
     "text": [
      "[I 2025-05-15 18:11:44,536] Trial 26 finished with value: -0.721066 and parameters: {'max_depth': 8, 'min_child_weight': 24, 'subsample': 0.9084684401370251, 'colsample_bynode': 0.4573787689545735, 'learning_rate': 0.2812143103098838}. Best is trial 26 with value: -0.721066.\n"
     ]
    },
    {
     "name": "stderr",
     "output_type": "stream",
     "text": [
      "[I 2025-05-15 18:11:56,780] Trial 27 finished with value: -0.714265 and parameters: {'max_depth': 7, 'min_child_weight': 26, 'subsample': 0.8988506845392773, 'colsample_bynode': 0.438255554114852, 'learning_rate': 0.27241295144742367}. Best is trial 26 with value: -0.721066.\n"
     ]
    },
    {
     "name": "stderr",
     "output_type": "stream",
     "text": [
      "[I 2025-05-15 18:11:57,129] Trial 28 pruned. Trial was pruned at iteration 0.\n"
     ]
    },
    {
     "name": "stderr",
     "output_type": "stream",
     "text": [
      "[I 2025-05-15 18:11:57,459] Trial 29 pruned. Trial was pruned at iteration 0.\n"
     ]
    },
    {
     "name": "stderr",
     "output_type": "stream",
     "text": [
      "[I 2025-05-15 18:11:57,773] Trial 30 pruned. Trial was pruned at iteration 0.\n"
     ]
    },
    {
     "name": "stderr",
     "output_type": "stream",
     "text": [
      "[I 2025-05-15 18:12:11,701] Trial 31 finished with value: -0.716983 and parameters: {'max_depth': 7, 'min_child_weight': 23, 'subsample': 0.828321288415144, 'colsample_bynode': 0.4443811391710028, 'learning_rate': 0.2503310312358838}. Best is trial 26 with value: -0.721066.\n"
     ]
    },
    {
     "name": "stderr",
     "output_type": "stream",
     "text": [
      "[I 2025-05-15 18:12:12,782] Trial 32 pruned. Trial was pruned at iteration 4.\n"
     ]
    },
    {
     "name": "stderr",
     "output_type": "stream",
     "text": [
      "[I 2025-05-15 18:12:13,103] Trial 33 pruned. Trial was pruned at iteration 0.\n"
     ]
    },
    {
     "name": "stderr",
     "output_type": "stream",
     "text": [
      "[I 2025-05-15 18:12:32,873] Trial 34 finished with value: -0.723342 and parameters: {'max_depth': 10, 'min_child_weight': 65, 'subsample': 0.842040662323917, 'colsample_bynode': 0.5774037161499791, 'learning_rate': 0.2623883339337433}. Best is trial 34 with value: -0.723342.\n"
     ]
    },
    {
     "name": "stderr",
     "output_type": "stream",
     "text": [
      "[I 2025-05-15 18:12:33,623] Trial 35 pruned. Trial was pruned at iteration 2.\n"
     ]
    },
    {
     "name": "stderr",
     "output_type": "stream",
     "text": [
      "[I 2025-05-15 18:12:46,957] Trial 36 finished with value: -0.71837 and parameters: {'max_depth': 10, 'min_child_weight': 46, 'subsample': 0.8484744477458909, 'colsample_bynode': 0.5530172630367067, 'learning_rate': 0.35180648284276494}. Best is trial 34 with value: -0.723342.\n"
     ]
    },
    {
     "name": "stderr",
     "output_type": "stream",
     "text": [
      "[I 2025-05-15 18:12:55,676] Trial 37 pruned. Trial was pruned at iteration 37.\n"
     ]
    },
    {
     "name": "stderr",
     "output_type": "stream",
     "text": [
      "[I 2025-05-15 18:12:56,003] Trial 38 pruned. Trial was pruned at iteration 0.\n"
     ]
    },
    {
     "name": "stderr",
     "output_type": "stream",
     "text": [
      "[I 2025-05-15 18:12:56,379] Trial 39 pruned. Trial was pruned at iteration 0.\n"
     ]
    },
    {
     "name": "stderr",
     "output_type": "stream",
     "text": [
      "[I 2025-05-15 18:12:56,819] Trial 40 pruned. Trial was pruned at iteration 0.\n"
     ]
    },
    {
     "name": "stderr",
     "output_type": "stream",
     "text": [
      "[I 2025-05-15 18:13:18,043] Trial 41 finished with value: -0.722393 and parameters: {'max_depth': 10, 'min_child_weight': 41, 'subsample': 0.8704205392298382, 'colsample_bynode': 0.5573391282331144, 'learning_rate': 0.32096035674136714}. Best is trial 34 with value: -0.723342.\n"
     ]
    },
    {
     "name": "stderr",
     "output_type": "stream",
     "text": [
      "[I 2025-05-15 18:13:30,322] Trial 42 pruned. Trial was pruned at iteration 52.\n"
     ]
    },
    {
     "name": "stderr",
     "output_type": "stream",
     "text": [
      "[I 2025-05-15 18:13:43,744] Trial 43 finished with value: -0.719147 and parameters: {'max_depth': 8, 'min_child_weight': 38, 'subsample': 0.8566753113267735, 'colsample_bynode': 0.6389213928001182, 'learning_rate': 0.35849580107853674}. Best is trial 34 with value: -0.723342.\n"
     ]
    },
    {
     "name": "stderr",
     "output_type": "stream",
     "text": [
      "[I 2025-05-15 18:14:02,733] Trial 44 pruned. Trial was pruned at iteration 70.\n"
     ]
    },
    {
     "name": "stderr",
     "output_type": "stream",
     "text": [
      "[I 2025-05-15 18:14:03,194] Trial 45 pruned. Trial was pruned at iteration 0.\n"
     ]
    },
    {
     "name": "stderr",
     "output_type": "stream",
     "text": [
      "[I 2025-05-15 18:14:04,021] Trial 46 pruned. Trial was pruned at iteration 2.\n"
     ]
    },
    {
     "name": "stderr",
     "output_type": "stream",
     "text": [
      "[I 2025-05-15 18:14:17,472] Trial 47 finished with value: -0.719854 and parameters: {'max_depth': 9, 'min_child_weight': 32, 'subsample': 0.8667734479268256, 'colsample_bynode': 0.3143970296340546, 'learning_rate': 0.35679440852060335}. Best is trial 34 with value: -0.723342.\n"
     ]
    },
    {
     "name": "stderr",
     "output_type": "stream",
     "text": [
      "[I 2025-05-15 18:14:33,604] Trial 48 finished with value: -0.71983 and parameters: {'max_depth': 13, 'min_child_weight': 33, 'subsample': 0.8564832094695506, 'colsample_bynode': 0.4817736395582745, 'learning_rate': 0.335631333893738}. Best is trial 34 with value: -0.723342.\n"
     ]
    },
    {
     "name": "stderr",
     "output_type": "stream",
     "text": [
      "[I 2025-05-15 18:14:34,215] Trial 49 pruned. Trial was pruned at iteration 1.\n"
     ]
    }
   ],
   "source": [
    "sampler = optuna.samplers.TPESampler(seed=42)\n",
    "study = optuna.create_study(direction='minimize', sampler=sampler)\n",
    "study.optimize(objective, n_trials=N_TRIALS, gc_after_trial=True)"
   ]
  },
  {
   "cell_type": "code",
   "execution_count": 20,
   "id": "48e7a32f",
   "metadata": {
    "execution": {
     "iopub.execute_input": "2025-05-15T16:14:34.353079Z",
     "iopub.status.busy": "2025-05-15T16:14:34.352781Z",
     "iopub.status.idle": "2025-05-15T16:14:34.378716Z",
     "shell.execute_reply": "2025-05-15T16:14:34.378427Z"
    },
    "papermill": {
     "duration": 0.037141,
     "end_time": "2025-05-15T16:14:34.379854",
     "exception": false,
     "start_time": "2025-05-15T16:14:34.342713",
     "status": "completed"
    },
    "tags": []
   },
   "outputs": [
    {
     "data": {
      "text/plain": [
       "['/scratch_isilon/groups/singlecell/shared/projects/Inflammation-PBMCs-Atlas/03_downstream_analysis/08_gene_importance/xgboost_external_validation/xgboost_TopN_genes/results_20/study/T_CD8_NonNaive_2_2_xgboost.pkl']"
      ]
     },
     "execution_count": 20,
     "metadata": {},
     "output_type": "execute_result"
    }
   ],
   "source": [
    "out_dir = here(f'03_downstream_analysis/08_gene_importance/xgboost_external_validation/xgboost_TopN_genes/results_{N_GENES}/study')\n",
    "\n",
    "if not os.path.exists(out_dir):\n",
    "    os.makedirs(out_dir)\n",
    "    \n",
    "joblib.dump(study,os.path.join(out_dir, f'{CELL_TYPE}_{SEED}_{TEST_SPLIT_IDX}_xgboost.pkl'))"
   ]
  },
  {
   "cell_type": "code",
   "execution_count": 21,
   "id": "4e7786f8",
   "metadata": {
    "execution": {
     "iopub.execute_input": "2025-05-15T16:14:34.399292Z",
     "iopub.status.busy": "2025-05-15T16:14:34.399119Z",
     "iopub.status.idle": "2025-05-15T16:14:46.490321Z",
     "shell.execute_reply": "2025-05-15T16:14:46.489974Z"
    },
    "papermill": {
     "duration": 12.10229,
     "end_time": "2025-05-15T16:14:46.491563",
     "exception": false,
     "start_time": "2025-05-15T16:14:34.389273",
     "status": "completed"
    },
    "tags": []
   },
   "outputs": [
    {
     "data": {
      "text/html": [
       "<style>#sk-container-id-1 {\n",
       "  /* Definition of color scheme common for light and dark mode */\n",
       "  --sklearn-color-text: black;\n",
       "  --sklearn-color-line: gray;\n",
       "  /* Definition of color scheme for unfitted estimators */\n",
       "  --sklearn-color-unfitted-level-0: #fff5e6;\n",
       "  --sklearn-color-unfitted-level-1: #f6e4d2;\n",
       "  --sklearn-color-unfitted-level-2: #ffe0b3;\n",
       "  --sklearn-color-unfitted-level-3: chocolate;\n",
       "  /* Definition of color scheme for fitted estimators */\n",
       "  --sklearn-color-fitted-level-0: #f0f8ff;\n",
       "  --sklearn-color-fitted-level-1: #d4ebff;\n",
       "  --sklearn-color-fitted-level-2: #b3dbfd;\n",
       "  --sklearn-color-fitted-level-3: cornflowerblue;\n",
       "\n",
       "  /* Specific color for light theme */\n",
       "  --sklearn-color-text-on-default-background: var(--sg-text-color, var(--theme-code-foreground, var(--jp-content-font-color1, black)));\n",
       "  --sklearn-color-background: var(--sg-background-color, var(--theme-background, var(--jp-layout-color0, white)));\n",
       "  --sklearn-color-border-box: var(--sg-text-color, var(--theme-code-foreground, var(--jp-content-font-color1, black)));\n",
       "  --sklearn-color-icon: #696969;\n",
       "\n",
       "  @media (prefers-color-scheme: dark) {\n",
       "    /* Redefinition of color scheme for dark theme */\n",
       "    --sklearn-color-text-on-default-background: var(--sg-text-color, var(--theme-code-foreground, var(--jp-content-font-color1, white)));\n",
       "    --sklearn-color-background: var(--sg-background-color, var(--theme-background, var(--jp-layout-color0, #111)));\n",
       "    --sklearn-color-border-box: var(--sg-text-color, var(--theme-code-foreground, var(--jp-content-font-color1, white)));\n",
       "    --sklearn-color-icon: #878787;\n",
       "  }\n",
       "}\n",
       "\n",
       "#sk-container-id-1 {\n",
       "  color: var(--sklearn-color-text);\n",
       "}\n",
       "\n",
       "#sk-container-id-1 pre {\n",
       "  padding: 0;\n",
       "}\n",
       "\n",
       "#sk-container-id-1 input.sk-hidden--visually {\n",
       "  border: 0;\n",
       "  clip: rect(1px 1px 1px 1px);\n",
       "  clip: rect(1px, 1px, 1px, 1px);\n",
       "  height: 1px;\n",
       "  margin: -1px;\n",
       "  overflow: hidden;\n",
       "  padding: 0;\n",
       "  position: absolute;\n",
       "  width: 1px;\n",
       "}\n",
       "\n",
       "#sk-container-id-1 div.sk-dashed-wrapped {\n",
       "  border: 1px dashed var(--sklearn-color-line);\n",
       "  margin: 0 0.4em 0.5em 0.4em;\n",
       "  box-sizing: border-box;\n",
       "  padding-bottom: 0.4em;\n",
       "  background-color: var(--sklearn-color-background);\n",
       "}\n",
       "\n",
       "#sk-container-id-1 div.sk-container {\n",
       "  /* jupyter's `normalize.less` sets `[hidden] { display: none; }`\n",
       "     but bootstrap.min.css set `[hidden] { display: none !important; }`\n",
       "     so we also need the `!important` here to be able to override the\n",
       "     default hidden behavior on the sphinx rendered scikit-learn.org.\n",
       "     See: https://github.com/scikit-learn/scikit-learn/issues/21755 */\n",
       "  display: inline-block !important;\n",
       "  position: relative;\n",
       "}\n",
       "\n",
       "#sk-container-id-1 div.sk-text-repr-fallback {\n",
       "  display: none;\n",
       "}\n",
       "\n",
       "div.sk-parallel-item,\n",
       "div.sk-serial,\n",
       "div.sk-item {\n",
       "  /* draw centered vertical line to link estimators */\n",
       "  background-image: linear-gradient(var(--sklearn-color-text-on-default-background), var(--sklearn-color-text-on-default-background));\n",
       "  background-size: 2px 100%;\n",
       "  background-repeat: no-repeat;\n",
       "  background-position: center center;\n",
       "}\n",
       "\n",
       "/* Parallel-specific style estimator block */\n",
       "\n",
       "#sk-container-id-1 div.sk-parallel-item::after {\n",
       "  content: \"\";\n",
       "  width: 100%;\n",
       "  border-bottom: 2px solid var(--sklearn-color-text-on-default-background);\n",
       "  flex-grow: 1;\n",
       "}\n",
       "\n",
       "#sk-container-id-1 div.sk-parallel {\n",
       "  display: flex;\n",
       "  align-items: stretch;\n",
       "  justify-content: center;\n",
       "  background-color: var(--sklearn-color-background);\n",
       "  position: relative;\n",
       "}\n",
       "\n",
       "#sk-container-id-1 div.sk-parallel-item {\n",
       "  display: flex;\n",
       "  flex-direction: column;\n",
       "}\n",
       "\n",
       "#sk-container-id-1 div.sk-parallel-item:first-child::after {\n",
       "  align-self: flex-end;\n",
       "  width: 50%;\n",
       "}\n",
       "\n",
       "#sk-container-id-1 div.sk-parallel-item:last-child::after {\n",
       "  align-self: flex-start;\n",
       "  width: 50%;\n",
       "}\n",
       "\n",
       "#sk-container-id-1 div.sk-parallel-item:only-child::after {\n",
       "  width: 0;\n",
       "}\n",
       "\n",
       "/* Serial-specific style estimator block */\n",
       "\n",
       "#sk-container-id-1 div.sk-serial {\n",
       "  display: flex;\n",
       "  flex-direction: column;\n",
       "  align-items: center;\n",
       "  background-color: var(--sklearn-color-background);\n",
       "  padding-right: 1em;\n",
       "  padding-left: 1em;\n",
       "}\n",
       "\n",
       "\n",
       "/* Toggleable style: style used for estimator/Pipeline/ColumnTransformer box that is\n",
       "clickable and can be expanded/collapsed.\n",
       "- Pipeline and ColumnTransformer use this feature and define the default style\n",
       "- Estimators will overwrite some part of the style using the `sk-estimator` class\n",
       "*/\n",
       "\n",
       "/* Pipeline and ColumnTransformer style (default) */\n",
       "\n",
       "#sk-container-id-1 div.sk-toggleable {\n",
       "  /* Default theme specific background. It is overwritten whether we have a\n",
       "  specific estimator or a Pipeline/ColumnTransformer */\n",
       "  background-color: var(--sklearn-color-background);\n",
       "}\n",
       "\n",
       "/* Toggleable label */\n",
       "#sk-container-id-1 label.sk-toggleable__label {\n",
       "  cursor: pointer;\n",
       "  display: block;\n",
       "  width: 100%;\n",
       "  margin-bottom: 0;\n",
       "  padding: 0.5em;\n",
       "  box-sizing: border-box;\n",
       "  text-align: center;\n",
       "}\n",
       "\n",
       "#sk-container-id-1 label.sk-toggleable__label-arrow:before {\n",
       "  /* Arrow on the left of the label */\n",
       "  content: \"▸\";\n",
       "  float: left;\n",
       "  margin-right: 0.25em;\n",
       "  color: var(--sklearn-color-icon);\n",
       "}\n",
       "\n",
       "#sk-container-id-1 label.sk-toggleable__label-arrow:hover:before {\n",
       "  color: var(--sklearn-color-text);\n",
       "}\n",
       "\n",
       "/* Toggleable content - dropdown */\n",
       "\n",
       "#sk-container-id-1 div.sk-toggleable__content {\n",
       "  max-height: 0;\n",
       "  max-width: 0;\n",
       "  overflow: hidden;\n",
       "  text-align: left;\n",
       "  /* unfitted */\n",
       "  background-color: var(--sklearn-color-unfitted-level-0);\n",
       "}\n",
       "\n",
       "#sk-container-id-1 div.sk-toggleable__content.fitted {\n",
       "  /* fitted */\n",
       "  background-color: var(--sklearn-color-fitted-level-0);\n",
       "}\n",
       "\n",
       "#sk-container-id-1 div.sk-toggleable__content pre {\n",
       "  margin: 0.2em;\n",
       "  border-radius: 0.25em;\n",
       "  color: var(--sklearn-color-text);\n",
       "  /* unfitted */\n",
       "  background-color: var(--sklearn-color-unfitted-level-0);\n",
       "}\n",
       "\n",
       "#sk-container-id-1 div.sk-toggleable__content.fitted pre {\n",
       "  /* unfitted */\n",
       "  background-color: var(--sklearn-color-fitted-level-0);\n",
       "}\n",
       "\n",
       "#sk-container-id-1 input.sk-toggleable__control:checked~div.sk-toggleable__content {\n",
       "  /* Expand drop-down */\n",
       "  max-height: 200px;\n",
       "  max-width: 100%;\n",
       "  overflow: auto;\n",
       "}\n",
       "\n",
       "#sk-container-id-1 input.sk-toggleable__control:checked~label.sk-toggleable__label-arrow:before {\n",
       "  content: \"▾\";\n",
       "}\n",
       "\n",
       "/* Pipeline/ColumnTransformer-specific style */\n",
       "\n",
       "#sk-container-id-1 div.sk-label input.sk-toggleable__control:checked~label.sk-toggleable__label {\n",
       "  color: var(--sklearn-color-text);\n",
       "  background-color: var(--sklearn-color-unfitted-level-2);\n",
       "}\n",
       "\n",
       "#sk-container-id-1 div.sk-label.fitted input.sk-toggleable__control:checked~label.sk-toggleable__label {\n",
       "  background-color: var(--sklearn-color-fitted-level-2);\n",
       "}\n",
       "\n",
       "/* Estimator-specific style */\n",
       "\n",
       "/* Colorize estimator box */\n",
       "#sk-container-id-1 div.sk-estimator input.sk-toggleable__control:checked~label.sk-toggleable__label {\n",
       "  /* unfitted */\n",
       "  background-color: var(--sklearn-color-unfitted-level-2);\n",
       "}\n",
       "\n",
       "#sk-container-id-1 div.sk-estimator.fitted input.sk-toggleable__control:checked~label.sk-toggleable__label {\n",
       "  /* fitted */\n",
       "  background-color: var(--sklearn-color-fitted-level-2);\n",
       "}\n",
       "\n",
       "#sk-container-id-1 div.sk-label label.sk-toggleable__label,\n",
       "#sk-container-id-1 div.sk-label label {\n",
       "  /* The background is the default theme color */\n",
       "  color: var(--sklearn-color-text-on-default-background);\n",
       "}\n",
       "\n",
       "/* On hover, darken the color of the background */\n",
       "#sk-container-id-1 div.sk-label:hover label.sk-toggleable__label {\n",
       "  color: var(--sklearn-color-text);\n",
       "  background-color: var(--sklearn-color-unfitted-level-2);\n",
       "}\n",
       "\n",
       "/* Label box, darken color on hover, fitted */\n",
       "#sk-container-id-1 div.sk-label.fitted:hover label.sk-toggleable__label.fitted {\n",
       "  color: var(--sklearn-color-text);\n",
       "  background-color: var(--sklearn-color-fitted-level-2);\n",
       "}\n",
       "\n",
       "/* Estimator label */\n",
       "\n",
       "#sk-container-id-1 div.sk-label label {\n",
       "  font-family: monospace;\n",
       "  font-weight: bold;\n",
       "  display: inline-block;\n",
       "  line-height: 1.2em;\n",
       "}\n",
       "\n",
       "#sk-container-id-1 div.sk-label-container {\n",
       "  text-align: center;\n",
       "}\n",
       "\n",
       "/* Estimator-specific */\n",
       "#sk-container-id-1 div.sk-estimator {\n",
       "  font-family: monospace;\n",
       "  border: 1px dotted var(--sklearn-color-border-box);\n",
       "  border-radius: 0.25em;\n",
       "  box-sizing: border-box;\n",
       "  margin-bottom: 0.5em;\n",
       "  /* unfitted */\n",
       "  background-color: var(--sklearn-color-unfitted-level-0);\n",
       "}\n",
       "\n",
       "#sk-container-id-1 div.sk-estimator.fitted {\n",
       "  /* fitted */\n",
       "  background-color: var(--sklearn-color-fitted-level-0);\n",
       "}\n",
       "\n",
       "/* on hover */\n",
       "#sk-container-id-1 div.sk-estimator:hover {\n",
       "  /* unfitted */\n",
       "  background-color: var(--sklearn-color-unfitted-level-2);\n",
       "}\n",
       "\n",
       "#sk-container-id-1 div.sk-estimator.fitted:hover {\n",
       "  /* fitted */\n",
       "  background-color: var(--sklearn-color-fitted-level-2);\n",
       "}\n",
       "\n",
       "/* Specification for estimator info (e.g. \"i\" and \"?\") */\n",
       "\n",
       "/* Common style for \"i\" and \"?\" */\n",
       "\n",
       ".sk-estimator-doc-link,\n",
       "a:link.sk-estimator-doc-link,\n",
       "a:visited.sk-estimator-doc-link {\n",
       "  float: right;\n",
       "  font-size: smaller;\n",
       "  line-height: 1em;\n",
       "  font-family: monospace;\n",
       "  background-color: var(--sklearn-color-background);\n",
       "  border-radius: 1em;\n",
       "  height: 1em;\n",
       "  width: 1em;\n",
       "  text-decoration: none !important;\n",
       "  margin-left: 1ex;\n",
       "  /* unfitted */\n",
       "  border: var(--sklearn-color-unfitted-level-1) 1pt solid;\n",
       "  color: var(--sklearn-color-unfitted-level-1);\n",
       "}\n",
       "\n",
       ".sk-estimator-doc-link.fitted,\n",
       "a:link.sk-estimator-doc-link.fitted,\n",
       "a:visited.sk-estimator-doc-link.fitted {\n",
       "  /* fitted */\n",
       "  border: var(--sklearn-color-fitted-level-1) 1pt solid;\n",
       "  color: var(--sklearn-color-fitted-level-1);\n",
       "}\n",
       "\n",
       "/* On hover */\n",
       "div.sk-estimator:hover .sk-estimator-doc-link:hover,\n",
       ".sk-estimator-doc-link:hover,\n",
       "div.sk-label-container:hover .sk-estimator-doc-link:hover,\n",
       ".sk-estimator-doc-link:hover {\n",
       "  /* unfitted */\n",
       "  background-color: var(--sklearn-color-unfitted-level-3);\n",
       "  color: var(--sklearn-color-background);\n",
       "  text-decoration: none;\n",
       "}\n",
       "\n",
       "div.sk-estimator.fitted:hover .sk-estimator-doc-link.fitted:hover,\n",
       ".sk-estimator-doc-link.fitted:hover,\n",
       "div.sk-label-container:hover .sk-estimator-doc-link.fitted:hover,\n",
       ".sk-estimator-doc-link.fitted:hover {\n",
       "  /* fitted */\n",
       "  background-color: var(--sklearn-color-fitted-level-3);\n",
       "  color: var(--sklearn-color-background);\n",
       "  text-decoration: none;\n",
       "}\n",
       "\n",
       "/* Span, style for the box shown on hovering the info icon */\n",
       ".sk-estimator-doc-link span {\n",
       "  display: none;\n",
       "  z-index: 9999;\n",
       "  position: relative;\n",
       "  font-weight: normal;\n",
       "  right: .2ex;\n",
       "  padding: .5ex;\n",
       "  margin: .5ex;\n",
       "  width: min-content;\n",
       "  min-width: 20ex;\n",
       "  max-width: 50ex;\n",
       "  color: var(--sklearn-color-text);\n",
       "  box-shadow: 2pt 2pt 4pt #999;\n",
       "  /* unfitted */\n",
       "  background: var(--sklearn-color-unfitted-level-0);\n",
       "  border: .5pt solid var(--sklearn-color-unfitted-level-3);\n",
       "}\n",
       "\n",
       ".sk-estimator-doc-link.fitted span {\n",
       "  /* fitted */\n",
       "  background: var(--sklearn-color-fitted-level-0);\n",
       "  border: var(--sklearn-color-fitted-level-3);\n",
       "}\n",
       "\n",
       ".sk-estimator-doc-link:hover span {\n",
       "  display: block;\n",
       "}\n",
       "\n",
       "/* \"?\"-specific style due to the `<a>` HTML tag */\n",
       "\n",
       "#sk-container-id-1 a.estimator_doc_link {\n",
       "  float: right;\n",
       "  font-size: 1rem;\n",
       "  line-height: 1em;\n",
       "  font-family: monospace;\n",
       "  background-color: var(--sklearn-color-background);\n",
       "  border-radius: 1rem;\n",
       "  height: 1rem;\n",
       "  width: 1rem;\n",
       "  text-decoration: none;\n",
       "  /* unfitted */\n",
       "  color: var(--sklearn-color-unfitted-level-1);\n",
       "  border: var(--sklearn-color-unfitted-level-1) 1pt solid;\n",
       "}\n",
       "\n",
       "#sk-container-id-1 a.estimator_doc_link.fitted {\n",
       "  /* fitted */\n",
       "  border: var(--sklearn-color-fitted-level-1) 1pt solid;\n",
       "  color: var(--sklearn-color-fitted-level-1);\n",
       "}\n",
       "\n",
       "/* On hover */\n",
       "#sk-container-id-1 a.estimator_doc_link:hover {\n",
       "  /* unfitted */\n",
       "  background-color: var(--sklearn-color-unfitted-level-3);\n",
       "  color: var(--sklearn-color-background);\n",
       "  text-decoration: none;\n",
       "}\n",
       "\n",
       "#sk-container-id-1 a.estimator_doc_link.fitted:hover {\n",
       "  /* fitted */\n",
       "  background-color: var(--sklearn-color-fitted-level-3);\n",
       "}\n",
       "</style><div id=\"sk-container-id-1\" class=\"sk-top-container\"><div class=\"sk-text-repr-fallback\"><pre>XGBClassifier(base_score=None, booster=None, callbacks=None,\n",
       "              colsample_bylevel=None, colsample_bynode=0.5774037161499791,\n",
       "              colsample_bytree=None, device=None, early_stopping_rounds=None,\n",
       "              enable_categorical=False,\n",
       "              eval_metric=&lt;function custom_f1_score at 0x7f030f01bf60&gt;,\n",
       "              feature_types=None, gamma=None, grow_policy=None,\n",
       "              importance_type=None, interaction_constraints=None,\n",
       "              learning_rate=0.2623883339337433, max_bin=None,\n",
       "              max_cat_threshold=None, max_cat_to_onehot=None,\n",
       "              max_delta_step=None, max_depth=10, max_leaves=None,\n",
       "              min_child_weight=65, missing=nan, monotone_constraints=None,\n",
       "              multi_strategy=None, n_estimators=135, n_jobs=None,\n",
       "              num_parallel_tree=None, objective=&#x27;multi:softprob&#x27;, ...)</pre><b>In a Jupyter environment, please rerun this cell to show the HTML representation or trust the notebook. <br />On GitHub, the HTML representation is unable to render, please try loading this page with nbviewer.org.</b></div><div class=\"sk-container\" hidden><div class=\"sk-item\"><div class=\"sk-estimator fitted sk-toggleable\"><input class=\"sk-toggleable__control sk-hidden--visually\" id=\"sk-estimator-id-1\" type=\"checkbox\" checked><label for=\"sk-estimator-id-1\" class=\"sk-toggleable__label fitted sk-toggleable__label-arrow fitted\">&nbsp;XGBClassifier<span class=\"sk-estimator-doc-link fitted\">i<span>Fitted</span></span></label><div class=\"sk-toggleable__content fitted\"><pre>XGBClassifier(base_score=None, booster=None, callbacks=None,\n",
       "              colsample_bylevel=None, colsample_bynode=0.5774037161499791,\n",
       "              colsample_bytree=None, device=None, early_stopping_rounds=None,\n",
       "              enable_categorical=False,\n",
       "              eval_metric=&lt;function custom_f1_score at 0x7f030f01bf60&gt;,\n",
       "              feature_types=None, gamma=None, grow_policy=None,\n",
       "              importance_type=None, interaction_constraints=None,\n",
       "              learning_rate=0.2623883339337433, max_bin=None,\n",
       "              max_cat_threshold=None, max_cat_to_onehot=None,\n",
       "              max_delta_step=None, max_depth=10, max_leaves=None,\n",
       "              min_child_weight=65, missing=nan, monotone_constraints=None,\n",
       "              multi_strategy=None, n_estimators=135, n_jobs=None,\n",
       "              num_parallel_tree=None, objective=&#x27;multi:softprob&#x27;, ...)</pre></div> </div></div></div></div>"
      ],
      "text/plain": [
       "XGBClassifier(base_score=None, booster=None, callbacks=None,\n",
       "              colsample_bylevel=None, colsample_bynode=0.5774037161499791,\n",
       "              colsample_bytree=None, device=None, early_stopping_rounds=None,\n",
       "              enable_categorical=False,\n",
       "              eval_metric=<function custom_f1_score at 0x7f030f01bf60>,\n",
       "              feature_types=None, gamma=None, grow_policy=None,\n",
       "              importance_type=None, interaction_constraints=None,\n",
       "              learning_rate=0.2623883339337433, max_bin=None,\n",
       "              max_cat_threshold=None, max_cat_to_onehot=None,\n",
       "              max_delta_step=None, max_depth=10, max_leaves=None,\n",
       "              min_child_weight=65, missing=nan, monotone_constraints=None,\n",
       "              multi_strategy=None, n_estimators=135, n_jobs=None,\n",
       "              num_parallel_tree=None, objective='multi:softprob', ...)"
      ]
     },
     "execution_count": 21,
     "metadata": {},
     "output_type": "execute_result"
    }
   ],
   "source": [
    "n_estimators = int(study.best_trial.user_attrs['best_iteration']*1.2)\n",
    "xgb = xgboost.XGBClassifier(\n",
    "        eval_metric=eval_metric,\n",
    "        n_estimators=n_estimators,\n",
    "        **study.best_trial.params\n",
    "    )\n",
    "xgb.fit(\n",
    "    ssp.vstack((X_train, X_val)), \n",
    "    np.concatenate((y_train_enc, y_val_enc)),\n",
    "    verbose=1,\n",
    ")"
   ]
  },
  {
   "cell_type": "code",
   "execution_count": 22,
   "id": "3f9e580b",
   "metadata": {
    "execution": {
     "iopub.execute_input": "2025-05-15T16:14:46.538418Z",
     "iopub.status.busy": "2025-05-15T16:14:46.538102Z",
     "iopub.status.idle": "2025-05-15T16:14:46.678603Z",
     "shell.execute_reply": "2025-05-15T16:14:46.678239Z"
    },
    "papermill": {
     "duration": 0.162677,
     "end_time": "2025-05-15T16:14:46.679851",
     "exception": false,
     "start_time": "2025-05-15T16:14:46.517174",
     "status": "completed"
    },
    "tags": []
   },
   "outputs": [
    {
     "data": {
      "text/plain": [
       "['/scratch_isilon/groups/singlecell/shared/projects/Inflammation-PBMCs-Atlas/03_downstream_analysis/08_gene_importance/xgboost_external_validation/xgboost_TopN_genes/results_20/best_model/T_CD8_NonNaive_2_2_xgb.json']"
      ]
     },
     "execution_count": 22,
     "metadata": {},
     "output_type": "execute_result"
    }
   ],
   "source": [
    "out_dir = here(f'03_downstream_analysis/08_gene_importance/xgboost_external_validation/xgboost_TopN_genes/results_{N_GENES}/best_model')\n",
    "\n",
    "if not os.path.exists(out_dir):\n",
    "    os.makedirs(out_dir)\n",
    "    \n",
    "joblib.dump(xgb, os.path.join(out_dir, f'{CELL_TYPE}_{SEED}_{TEST_SPLIT_IDX}_xgb.json'))"
   ]
  },
  {
   "cell_type": "code",
   "execution_count": 23,
   "id": "7180246f",
   "metadata": {
    "execution": {
     "iopub.execute_input": "2025-05-15T16:14:46.734883Z",
     "iopub.status.busy": "2025-05-15T16:14:46.734595Z",
     "iopub.status.idle": "2025-05-15T16:14:47.194127Z",
     "shell.execute_reply": "2025-05-15T16:14:47.193714Z"
    },
    "papermill": {
     "duration": 0.474506,
     "end_time": "2025-05-15T16:14:47.195602",
     "exception": false,
     "start_time": "2025-05-15T16:14:46.721096",
     "status": "completed"
    },
    "tags": []
   },
   "outputs": [],
   "source": [
    "df_pred_test = pd.DataFrame(dict(\n",
    "    cell_id=train_adata.obs.iloc[test_idxs].index.values,\n",
    "    y_true=y_test, \n",
    "    y_true_code=y_test_enc, \n",
    "    y_pred=xgb.predict(X_test))).set_index('cell_id')"
   ]
  },
  {
   "cell_type": "code",
   "execution_count": 24,
   "id": "2276fcc8",
   "metadata": {
    "execution": {
     "iopub.execute_input": "2025-05-15T16:14:47.379065Z",
     "iopub.status.busy": "2025-05-15T16:14:47.378823Z",
     "iopub.status.idle": "2025-05-15T16:14:47.460796Z",
     "shell.execute_reply": "2025-05-15T16:14:47.460348Z"
    },
    "papermill": {
     "duration": 0.241483,
     "end_time": "2025-05-15T16:14:47.462077",
     "exception": false,
     "start_time": "2025-05-15T16:14:47.220594",
     "status": "completed"
    },
    "tags": []
   },
   "outputs": [],
   "source": [
    "out_dir = here(f'03_downstream_analysis/08_gene_importance/xgboost_external_validation/xgboost_TopN_genes/results_{N_GENES}/predictions')\n",
    "\n",
    "if not os.path.exists(out_dir):\n",
    "    os.makedirs(out_dir)\n",
    "    \n",
    "df_pred_test.to_csv(os.path.join(out_dir, f'{CELL_TYPE}_{SEED}_{TEST_SPLIT_IDX}_pred_test.zip'))"
   ]
  },
  {
   "cell_type": "code",
   "execution_count": 25,
   "id": "f3ebc840",
   "metadata": {
    "execution": {
     "iopub.execute_input": "2025-05-15T16:14:47.498495Z",
     "iopub.status.busy": "2025-05-15T16:14:47.498310Z",
     "iopub.status.idle": "2025-05-15T16:14:47.508666Z",
     "shell.execute_reply": "2025-05-15T16:14:47.508297Z"
    },
    "papermill": {
     "duration": 0.037598,
     "end_time": "2025-05-15T16:14:47.509855",
     "exception": false,
     "start_time": "2025-05-15T16:14:47.472257",
     "status": "completed"
    },
    "tags": []
   },
   "outputs": [],
   "source": [
    "metrics_dict = dict(\n",
    "    BAS=balanced_accuracy_score(y_true=df_pred_test.y_true_code, y_pred=df_pred_test.y_pred), WF1=f1_score(y_true=df_pred_test.y_true_code, y_pred=df_pred_test.y_pred,average='weighted'))"
   ]
  },
  {
   "cell_type": "code",
   "execution_count": 26,
   "id": "0137c540",
   "metadata": {
    "execution": {
     "iopub.execute_input": "2025-05-15T16:14:47.531018Z",
     "iopub.status.busy": "2025-05-15T16:14:47.530443Z",
     "iopub.status.idle": "2025-05-15T16:14:47.533553Z",
     "shell.execute_reply": "2025-05-15T16:14:47.533270Z"
    },
    "papermill": {
     "duration": 0.014734,
     "end_time": "2025-05-15T16:14:47.534722",
     "exception": false,
     "start_time": "2025-05-15T16:14:47.519988",
     "status": "completed"
    },
    "tags": []
   },
   "outputs": [
    {
     "data": {
      "text/plain": [
       "{'BAS': 0.46350281860761755, 'WF1': 0.6932340392999891}"
      ]
     },
     "execution_count": 26,
     "metadata": {},
     "output_type": "execute_result"
    }
   ],
   "source": [
    "metrics_dict"
   ]
  },
  {
   "cell_type": "code",
   "execution_count": 27,
   "id": "65c87ab3",
   "metadata": {
    "execution": {
     "iopub.execute_input": "2025-05-15T16:14:47.585379Z",
     "iopub.status.busy": "2025-05-15T16:14:47.584968Z",
     "iopub.status.idle": "2025-05-15T16:14:47.593657Z",
     "shell.execute_reply": "2025-05-15T16:14:47.593370Z"
    },
    "papermill": {
     "duration": 0.02319,
     "end_time": "2025-05-15T16:14:47.594572",
     "exception": false,
     "start_time": "2025-05-15T16:14:47.571382",
     "status": "completed"
    },
    "tags": []
   },
   "outputs": [
    {
     "data": {
      "text/html": [
       "<div>\n",
       "<style scoped>\n",
       "    .dataframe tbody tr th:only-of-type {\n",
       "        vertical-align: middle;\n",
       "    }\n",
       "\n",
       "    .dataframe tbody tr th {\n",
       "        vertical-align: top;\n",
       "    }\n",
       "\n",
       "    .dataframe thead th {\n",
       "        text-align: right;\n",
       "    }\n",
       "</style>\n",
       "<table border=\"1\" class=\"dataframe\">\n",
       "  <thead>\n",
       "    <tr style=\"text-align: right;\">\n",
       "      <th></th>\n",
       "      <th>BAS</th>\n",
       "      <th>WF1</th>\n",
       "      <th>split_idx</th>\n",
       "      <th>gene_set_seed</th>\n",
       "      <th>cell_type</th>\n",
       "    </tr>\n",
       "  </thead>\n",
       "  <tbody>\n",
       "    <tr>\n",
       "      <th>0</th>\n",
       "      <td>0.463503</td>\n",
       "      <td>0.693234</td>\n",
       "      <td>2</td>\n",
       "      <td>2</td>\n",
       "      <td>T_CD8_NonNaive</td>\n",
       "    </tr>\n",
       "  </tbody>\n",
       "</table>\n",
       "</div>"
      ],
      "text/plain": [
       "        BAS       WF1  split_idx  gene_set_seed       cell_type\n",
       "0  0.463503  0.693234          2              2  T_CD8_NonNaive"
      ]
     },
     "execution_count": 27,
     "metadata": {},
     "output_type": "execute_result"
    }
   ],
   "source": [
    "metrics_df = pd.DataFrame.from_dict([metrics_dict]).assign(split_idx=TEST_SPLIT_IDX, gene_set_seed=SEED, cell_type=CELL_TYPE)\n",
    "metrics_df"
   ]
  },
  {
   "cell_type": "code",
   "execution_count": 28,
   "id": "f7e7f073",
   "metadata": {
    "execution": {
     "iopub.execute_input": "2025-05-15T16:14:47.615507Z",
     "iopub.status.busy": "2025-05-15T16:14:47.615256Z",
     "iopub.status.idle": "2025-05-15T16:14:47.623027Z",
     "shell.execute_reply": "2025-05-15T16:14:47.622699Z"
    },
    "papermill": {
     "duration": 0.019718,
     "end_time": "2025-05-15T16:14:47.624266",
     "exception": false,
     "start_time": "2025-05-15T16:14:47.604548",
     "status": "completed"
    },
    "tags": []
   },
   "outputs": [],
   "source": [
    "out_dir = here(f'03_downstream_analysis/08_gene_importance/xgboost_external_validation/xgboost_TopN_genes/results_{N_GENES}/metrics')\n",
    "\n",
    "if not os.path.exists(out_dir):\n",
    "    os.makedirs(out_dir)\n",
    "    \n",
    "metrics_df.to_csv(os.path.join(out_dir, f'{CELL_TYPE}_{SEED}_{TEST_SPLIT_IDX}_metrics.zip'))"
   ]
  }
 ],
 "metadata": {
  "kernelspec": {
   "display_name": "Python 3 (ipykernel)",
   "language": "python",
   "name": "python3"
  },
  "language_info": {
   "codemirror_mode": {
    "name": "ipython",
    "version": 3
   },
   "file_extension": ".py",
   "mimetype": "text/x-python",
   "name": "python",
   "nbconvert_exporter": "python",
   "pygments_lexer": "ipython3",
   "version": "3.12.5"
  },
  "papermill": {
   "default_parameters": {},
   "duration": 569.857214,
   "end_time": "2025-05-15T16:14:48.372692",
   "environment_variables": {},
   "exception": null,
   "input_path": "02_xgboost_fitting_external_20genes.ipynb",
   "output_path": "results_20/executed_notebooks/xgboost_fitting_external_CT_T_CD8_NonNaive_GS_2_seed2.ipynb",
   "parameters": {
    "CELL_TYPE": "T_CD8_NonNaive",
    "SEED": 2,
    "TEST_SPLIT_IDX": 2
   },
   "start_time": "2025-05-15T16:05:18.515478",
   "version": "2.6.0"
  }
 },
 "nbformat": 4,
 "nbformat_minor": 5
}