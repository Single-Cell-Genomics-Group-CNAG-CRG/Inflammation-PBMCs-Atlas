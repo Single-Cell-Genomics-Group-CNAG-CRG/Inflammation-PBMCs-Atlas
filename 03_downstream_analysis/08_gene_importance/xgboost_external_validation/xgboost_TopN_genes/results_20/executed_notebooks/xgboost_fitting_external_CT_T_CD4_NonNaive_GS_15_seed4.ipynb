{
 "cells": [
  {
   "cell_type": "code",
   "execution_count": 1,
   "id": "d94e08ed",
   "metadata": {
    "editable": true,
    "execution": {
     "iopub.execute_input": "2025-05-15T16:03:17.533495Z",
     "iopub.status.busy": "2025-05-15T16:03:17.533332Z",
     "iopub.status.idle": "2025-05-15T16:03:17.536883Z",
     "shell.execute_reply": "2025-05-15T16:03:17.536503Z"
    },
    "papermill": {
     "duration": 0.012244,
     "end_time": "2025-05-15T16:03:17.537847",
     "exception": false,
     "start_time": "2025-05-15T16:03:17.525603",
     "status": "completed"
    },
    "slideshow": {
     "slide_type": ""
    },
    "tags": [
     "parameters"
    ]
   },
   "outputs": [],
   "source": [
    "CELL_TYPE = 'pDC'\n",
    "N_GENES: int = 20\n",
    "SEED = 'shap_studyID' #'disease_NOstudy' 'study_NOdisease' or 'int' or 'shap_studyID'\n",
    "TEST_SPLIT_IDX: int = 1 #[0,4]"
   ]
  },
  {
   "cell_type": "code",
   "execution_count": 2,
   "id": "7a2c99e7",
   "metadata": {
    "execution": {
     "iopub.execute_input": "2025-05-15T16:03:17.549649Z",
     "iopub.status.busy": "2025-05-15T16:03:17.549501Z",
     "iopub.status.idle": "2025-05-15T16:03:17.552185Z",
     "shell.execute_reply": "2025-05-15T16:03:17.551829Z"
    },
    "papermill": {
     "duration": 0.009893,
     "end_time": "2025-05-15T16:03:17.553160",
     "exception": false,
     "start_time": "2025-05-15T16:03:17.543267",
     "status": "completed"
    },
    "tags": [
     "injected-parameters"
    ]
   },
   "outputs": [],
   "source": [
    "# Parameters\n",
    "CELL_TYPE = \"T_CD4_NonNaive\"\n",
    "SEED = 15\n",
    "TEST_SPLIT_IDX = 4\n"
   ]
  },
  {
   "cell_type": "code",
   "execution_count": 3,
   "id": "ded3297b",
   "metadata": {
    "execution": {
     "iopub.execute_input": "2025-05-15T16:03:17.564856Z",
     "iopub.status.busy": "2025-05-15T16:03:17.564516Z",
     "iopub.status.idle": "2025-05-15T16:03:17.566748Z",
     "shell.execute_reply": "2025-05-15T16:03:17.566361Z"
    },
    "papermill": {
     "duration": 0.009107,
     "end_time": "2025-05-15T16:03:17.567709",
     "exception": false,
     "start_time": "2025-05-15T16:03:17.558602",
     "status": "completed"
    },
    "tags": []
   },
   "outputs": [],
   "source": [
    "N_SPLITS: int = 5\n",
    "N_TRIALS: int = 50"
   ]
  },
  {
   "cell_type": "code",
   "execution_count": 4,
   "id": "2106e328",
   "metadata": {
    "execution": {
     "iopub.execute_input": "2025-05-15T16:03:17.580011Z",
     "iopub.status.busy": "2025-05-15T16:03:17.579746Z",
     "iopub.status.idle": "2025-05-15T16:03:19.664199Z",
     "shell.execute_reply": "2025-05-15T16:03:19.663753Z"
    },
    "papermill": {
     "duration": 2.092446,
     "end_time": "2025-05-15T16:03:19.665434",
     "exception": false,
     "start_time": "2025-05-15T16:03:17.572988",
     "status": "completed"
    },
    "tags": []
   },
   "outputs": [],
   "source": [
    "import os\n",
    "import sys\n",
    "from pyprojroot.here import here\n",
    "import pandas as pd\n",
    "import anndata as ad\n",
    "import numpy as np\n",
    "import math\n",
    "from sklearn.model_selection import StratifiedGroupKFold\n",
    "from sklearn.preprocessing import LabelEncoder\n",
    "from sklearn.metrics import f1_score\n",
    "import matplotlib.pyplot as plt\n",
    "import seaborn as sns\n",
    "from itertools import product\n",
    "from sklearn.metrics import balanced_accuracy_score, f1_score\n",
    "import optuna\n",
    "\n",
    "import joblib\n",
    "import pickle\n",
    "import datetime\n",
    "\n",
    "import collections\n",
    "\n",
    "import xgboost\n",
    "from sklearn.preprocessing import LabelEncoder\n",
    "\n",
    "import scipy.sparse as ssp\n",
    "import joblib\n",
    "\n",
    "from dotenv import load_dotenv"
   ]
  },
  {
   "cell_type": "code",
   "execution_count": 5,
   "id": "9deaf824",
   "metadata": {
    "execution": {
     "iopub.execute_input": "2025-05-15T16:03:19.677718Z",
     "iopub.status.busy": "2025-05-15T16:03:19.677376Z",
     "iopub.status.idle": "2025-05-15T16:03:19.683151Z",
     "shell.execute_reply": "2025-05-15T16:03:19.682866Z"
    },
    "papermill": {
     "duration": 0.012961,
     "end_time": "2025-05-15T16:03:19.683951",
     "exception": false,
     "start_time": "2025-05-15T16:03:19.670990",
     "status": "completed"
    },
    "tags": []
   },
   "outputs": [
    {
     "data": {
      "text/plain": [
       "True"
      ]
     },
     "execution_count": 5,
     "metadata": {},
     "output_type": "execute_result"
    }
   ],
   "source": [
    "load_dotenv()"
   ]
  },
  {
   "cell_type": "markdown",
   "id": "49611444",
   "metadata": {
    "papermill": {
     "duration": 0.00531,
     "end_time": "2025-05-15T16:03:19.694783",
     "exception": false,
     "start_time": "2025-05-15T16:03:19.689473",
     "status": "completed"
    },
    "tags": []
   },
   "source": [
    "# LOAD DATASET"
   ]
  },
  {
   "cell_type": "code",
   "execution_count": 6,
   "id": "9ae56597",
   "metadata": {
    "execution": {
     "iopub.execute_input": "2025-05-15T16:03:19.707112Z",
     "iopub.status.busy": "2025-05-15T16:03:19.706820Z",
     "iopub.status.idle": "2025-05-15T16:03:20.357053Z",
     "shell.execute_reply": "2025-05-15T16:03:20.356648Z"
    },
    "papermill": {
     "duration": 0.657008,
     "end_time": "2025-05-15T16:03:20.357957",
     "exception": false,
     "start_time": "2025-05-15T16:03:19.700949",
     "status": "completed"
    },
    "tags": []
   },
   "outputs": [],
   "source": [
    "train_adata = ad.read_h5ad(\n",
    "    here(f'03_downstream_analysis/08_gene_importance/xgboost_external_validation/xgboost_TopN_genes/data_cellTypes/EXTERNAL_{CELL_TYPE}.filtered.log1p.h5ad')\n",
    ")"
   ]
  },
  {
   "cell_type": "code",
   "execution_count": 7,
   "id": "7896f463",
   "metadata": {
    "execution": {
     "iopub.execute_input": "2025-05-15T16:03:20.369866Z",
     "iopub.status.busy": "2025-05-15T16:03:20.369583Z",
     "iopub.status.idle": "2025-05-15T16:03:20.401232Z",
     "shell.execute_reply": "2025-05-15T16:03:20.400921Z"
    },
    "papermill": {
     "duration": 0.038422,
     "end_time": "2025-05-15T16:03:20.402012",
     "exception": false,
     "start_time": "2025-05-15T16:03:20.363590",
     "status": "completed"
    },
    "tags": []
   },
   "outputs": [
    {
     "name": "stdout",
     "output_type": "stream",
     "text": [
      "['ENSG00000231389' 'ENSG00000030110' 'ENSG00000077150' 'ENSG00000234745'\n",
      " 'ENSG00000137965' 'ENSG00000130066' 'ENSG00000104312' 'ENSG00000175104'\n",
      " 'ENSG00000149357' 'ENSG00000126561' 'ENSG00000128524' 'ENSG00000198832'\n",
      " 'ENSG00000100902' 'ENSG00000116815' 'ENSG00000105373' 'ENSG00000139192'\n",
      " 'ENSG00000152700' 'ENSG00000169442' 'ENSG00000100911' 'ENSG00000149311'\n",
      " 'ENSG00000167283' 'ENSG00000186891' 'ENSG00000204482' 'ENSG00000138378'\n",
      " 'ENSG00000075426' 'ENSG00000009790' 'ENSG00000030582' 'ENSG00000179344'\n",
      " 'ENSG00000144802' 'ENSG00000131196' 'ENSG00000101474' 'ENSG00000077984'\n",
      " 'ENSG00000177556' 'ENSG00000183813' 'ENSG00000150093' 'ENSG00000118260'\n",
      " 'ENSG00000121858' 'ENSG00000163191' 'ENSG00000163600' 'ENSG00000107968'\n",
      " 'ENSG00000104671' 'ENSG00000104964' 'ENSG00000204287' 'ENSG00000117450'\n",
      " 'ENSG00000069702' 'ENSG00000057657' 'ENSG00000152778' 'ENSG00000117984'\n",
      " 'ENSG00000204267' 'ENSG00000182866' 'ENSG00000142669' 'ENSG00000171791'\n",
      " 'ENSG00000168685' 'ENSG00000166888' 'ENSG00000121966' 'ENSG00000160710'\n",
      " 'ENSG00000162704' 'ENSG00000165272' 'ENSG00000170345' 'ENSG00000106952'\n",
      " 'ENSG00000090554' 'ENSG00000186810' 'ENSG00000085265' 'ENSG00000170525'\n",
      " 'ENSG00000226979' 'ENSG00000126524' 'ENSG00000152219' 'ENSG00000153234'\n",
      " 'ENSG00000185950' 'ENSG00000223865' 'ENSG00000109861' 'ENSG00000242616'\n",
      " 'ENSG00000170581' 'ENSG00000173757' 'ENSG00000171608' 'ENSG00000163659'\n",
      " 'ENSG00000111335' 'ENSG00000132510' 'ENSG00000103490' 'ENSG00000111863'\n",
      " 'ENSG00000205542' 'ENSG00000026025' 'ENSG00000105835' 'ENSG00000076662'\n",
      " 'ENSG00000106803' 'ENSG00000102265' 'ENSG00000171223' 'ENSG00000082074'\n",
      " 'ENSG00000239713' 'ENSG00000115875' 'ENSG00000117020' 'ENSG00000171700'\n",
      " 'ENSG00000142634' 'ENSG00000090382' 'ENSG00000132432' 'ENSG00000137100'\n",
      " 'ENSG00000179218' 'ENSG00000166681' 'ENSG00000128340' 'ENSG00000189283'\n",
      " 'ENSG00000079616' 'ENSG00000141506']\n"
     ]
    }
   ],
   "source": [
    "if SEED != 'all':\n",
    "    gene_subset = np.load(here(f'03_downstream_analysis/08_gene_importance/xgboost_external_validation/shap_gene_selection/gene_subsets_{N_GENES}/{CELL_TYPE}_{SEED}.npy'), allow_pickle=True)\n",
    "    train_adata = train_adata[:,gene_subset]\n",
    "    print(gene_subset)\n",
    "elif SEED == 'all':\n",
    "    print('Using all genes')\n",
    "else:\n",
    "    raise ValueError()"
   ]
  },
  {
   "cell_type": "code",
   "execution_count": 8,
   "id": "3304a5f7",
   "metadata": {
    "execution": {
     "iopub.execute_input": "2025-05-15T16:03:20.413916Z",
     "iopub.status.busy": "2025-05-15T16:03:20.413740Z",
     "iopub.status.idle": "2025-05-15T16:03:20.416428Z",
     "shell.execute_reply": "2025-05-15T16:03:20.416138Z"
    },
    "papermill": {
     "duration": 0.009458,
     "end_time": "2025-05-15T16:03:20.417174",
     "exception": false,
     "start_time": "2025-05-15T16:03:20.407716",
     "status": "completed"
    },
    "tags": []
   },
   "outputs": [
    {
     "data": {
      "text/plain": [
       "(124886, 102)"
      ]
     },
     "execution_count": 8,
     "metadata": {},
     "output_type": "execute_result"
    }
   ],
   "source": [
    "train_adata.shape"
   ]
  },
  {
   "cell_type": "code",
   "execution_count": 9,
   "id": "5e939087",
   "metadata": {
    "execution": {
     "iopub.execute_input": "2025-05-15T16:03:20.428301Z",
     "iopub.status.busy": "2025-05-15T16:03:20.428145Z",
     "iopub.status.idle": "2025-05-15T16:03:20.431761Z",
     "shell.execute_reply": "2025-05-15T16:03:20.431481Z"
    },
    "papermill": {
     "duration": 0.010061,
     "end_time": "2025-05-15T16:03:20.432498",
     "exception": false,
     "start_time": "2025-05-15T16:03:20.422437",
     "status": "completed"
    },
    "tags": []
   },
   "outputs": [
    {
     "data": {
      "text/plain": [
       "['RA', 'healthy', 'COVID', 'HIV', 'cirrhosis', 'CD', 'SLE', 'sepsis']\n",
       "Categories (8, object): ['CD', 'COVID', 'HIV', 'RA', 'SLE', 'cirrhosis', 'healthy', 'sepsis']"
      ]
     },
     "execution_count": 9,
     "metadata": {},
     "output_type": "execute_result"
    }
   ],
   "source": [
    "train_adata.obs.disease.unique()"
   ]
  },
  {
   "cell_type": "code",
   "execution_count": 10,
   "id": "ee0a89c2",
   "metadata": {
    "execution": {
     "iopub.execute_input": "2025-05-15T16:03:20.444092Z",
     "iopub.status.busy": "2025-05-15T16:03:20.443931Z",
     "iopub.status.idle": "2025-05-15T16:03:20.447423Z",
     "shell.execute_reply": "2025-05-15T16:03:20.447123Z"
    },
    "papermill": {
     "duration": 0.010116,
     "end_time": "2025-05-15T16:03:20.448240",
     "exception": false,
     "start_time": "2025-05-15T16:03:20.438124",
     "status": "completed"
    },
    "tags": []
   },
   "outputs": [
    {
     "data": {
      "text/plain": [
       "['SCGT00val_I036016_T0', 'SCGT00val_I036023_T0', 'SCGT00val_I036015_T0', 'SCGT00val_I036028_T0', 'SCGT00val_I0364_T0', ..., '10XGenomics_10XHC2_T0', '10XGenomics_10XHC3_T0', '10XGenomics_10XHC5_T0', '10XGenomics_10XHC7_T0', '10XGenomics_10XHC8_T0']\n",
       "Length: 86\n",
       "Categories (86, object): ['10XGenomics_10XHC1_T0', '10XGenomics_10XHC2_T0', '10XGenomics_10XHC3_T0', '10XGenomics_10XHC4_T0', ..., 'Savage2021_BRISL6_T0', 'Savage2021_BRISL7_T0', 'Savage2021_PIDA_T0', 'Savage2021_PIDB_T0']"
      ]
     },
     "execution_count": 10,
     "metadata": {},
     "output_type": "execute_result"
    }
   ],
   "source": [
    "train_adata.obs.sampleID.unique()"
   ]
  },
  {
   "cell_type": "code",
   "execution_count": 11,
   "id": "bef6879a",
   "metadata": {
    "execution": {
     "iopub.execute_input": "2025-05-15T16:03:20.460979Z",
     "iopub.status.busy": "2025-05-15T16:03:20.460795Z",
     "iopub.status.idle": "2025-05-15T16:03:20.752738Z",
     "shell.execute_reply": "2025-05-15T16:03:20.752356Z"
    },
    "papermill": {
     "duration": 0.299678,
     "end_time": "2025-05-15T16:03:20.753571",
     "exception": false,
     "start_time": "2025-05-15T16:03:20.453893",
     "status": "completed"
    },
    "tags": []
   },
   "outputs": [],
   "source": [
    "all_idxs = np.arange(train_adata.obs.shape[0])\n",
    "left_out_splits = [s[1] for s in StratifiedGroupKFold(n_splits=N_SPLITS).split(all_idxs, train_adata.obs.disease, train_adata.obs.sampleID)]"
   ]
  },
  {
   "cell_type": "code",
   "execution_count": 12,
   "id": "58998932",
   "metadata": {
    "execution": {
     "iopub.execute_input": "2025-05-15T16:03:20.765951Z",
     "iopub.status.busy": "2025-05-15T16:03:20.765770Z",
     "iopub.status.idle": "2025-05-15T16:03:20.768871Z",
     "shell.execute_reply": "2025-05-15T16:03:20.768592Z"
    },
    "papermill": {
     "duration": 0.010033,
     "end_time": "2025-05-15T16:03:20.769631",
     "exception": false,
     "start_time": "2025-05-15T16:03:20.759598",
     "status": "completed"
    },
    "tags": []
   },
   "outputs": [
    {
     "data": {
      "text/plain": [
       "([1, 2, 3], 0, 4)"
      ]
     },
     "execution_count": 12,
     "metadata": {},
     "output_type": "execute_result"
    }
   ],
   "source": [
    "TRAIN_SPLIT_IDXS = [0,1,2,3,4]\n",
    "VAL_SPLIT_IDX = (TEST_SPLIT_IDX + 1) % 5\n",
    "TRAIN_SPLIT_IDXS.remove(TEST_SPLIT_IDX)\n",
    "TRAIN_SPLIT_IDXS.remove(VAL_SPLIT_IDX)\n",
    "TRAIN_SPLIT_IDXS, VAL_SPLIT_IDX, TEST_SPLIT_IDX"
   ]
  },
  {
   "cell_type": "code",
   "execution_count": 13,
   "id": "1aa75e9d",
   "metadata": {
    "execution": {
     "iopub.execute_input": "2025-05-15T16:03:20.781850Z",
     "iopub.status.busy": "2025-05-15T16:03:20.781538Z",
     "iopub.status.idle": "2025-05-15T16:03:20.783710Z",
     "shell.execute_reply": "2025-05-15T16:03:20.783434Z"
    },
    "papermill": {
     "duration": 0.00941,
     "end_time": "2025-05-15T16:03:20.784473",
     "exception": false,
     "start_time": "2025-05-15T16:03:20.775063",
     "status": "completed"
    },
    "tags": []
   },
   "outputs": [],
   "source": [
    "train_idxs = np.concatenate([left_out_splits[idx] for idx in TRAIN_SPLIT_IDXS])\n",
    "val_idxs = left_out_splits[VAL_SPLIT_IDX]\n",
    "test_idxs = left_out_splits[TEST_SPLIT_IDX]"
   ]
  },
  {
   "cell_type": "markdown",
   "id": "86d41c8c",
   "metadata": {
    "papermill": {
     "duration": 0.021305,
     "end_time": "2025-05-15T16:03:20.811195",
     "exception": false,
     "start_time": "2025-05-15T16:03:20.789890",
     "status": "completed"
    },
    "tags": []
   },
   "source": [
    "### SUBSET DATASET INTO TRAIN/TEST/VAL SPLITS"
   ]
  },
  {
   "cell_type": "code",
   "execution_count": 14,
   "id": "82fa5145",
   "metadata": {
    "execution": {
     "iopub.execute_input": "2025-05-15T16:03:20.830884Z",
     "iopub.status.busy": "2025-05-15T16:03:20.830659Z",
     "iopub.status.idle": "2025-05-15T16:03:21.058365Z",
     "shell.execute_reply": "2025-05-15T16:03:21.058037Z"
    },
    "papermill": {
     "duration": 0.242239,
     "end_time": "2025-05-15T16:03:21.059166",
     "exception": false,
     "start_time": "2025-05-15T16:03:20.816927",
     "status": "completed"
    },
    "tags": []
   },
   "outputs": [
    {
     "data": {
      "text/plain": [
       "((76492, 102), (24117, 102), (24277, 102))"
      ]
     },
     "execution_count": 14,
     "metadata": {},
     "output_type": "execute_result"
    }
   ],
   "source": [
    "X_train = train_adata.X[train_idxs]\n",
    "X_test = train_adata.X[test_idxs]\n",
    "X_val = train_adata.X[val_idxs]\n",
    "X_train.shape, X_test.shape, X_val.shape"
   ]
  },
  {
   "cell_type": "code",
   "execution_count": 15,
   "id": "2b711b1e",
   "metadata": {
    "execution": {
     "iopub.execute_input": "2025-05-15T16:03:21.072394Z",
     "iopub.status.busy": "2025-05-15T16:03:21.072209Z",
     "iopub.status.idle": "2025-05-15T16:03:21.083867Z",
     "shell.execute_reply": "2025-05-15T16:03:21.083525Z"
    },
    "papermill": {
     "duration": 0.019681,
     "end_time": "2025-05-15T16:03:21.084640",
     "exception": false,
     "start_time": "2025-05-15T16:03:21.064959",
     "status": "completed"
    },
    "tags": []
   },
   "outputs": [
    {
     "data": {
      "text/plain": [
       "((76492,), (24117,), (24277,))"
      ]
     },
     "execution_count": 15,
     "metadata": {},
     "output_type": "execute_result"
    }
   ],
   "source": [
    "y_train = train_adata.obs.iloc[train_idxs].disease.values.astype(str)\n",
    "y_test = train_adata.obs.iloc[test_idxs].disease.values.astype(str)\n",
    "y_val = train_adata.obs.iloc[val_idxs].disease.values.astype(str)\n",
    "y_train.shape, y_test.shape, y_val.shape"
   ]
  },
  {
   "cell_type": "code",
   "execution_count": 16,
   "id": "c95f6973",
   "metadata": {
    "execution": {
     "iopub.execute_input": "2025-05-15T16:03:21.096854Z",
     "iopub.status.busy": "2025-05-15T16:03:21.096582Z",
     "iopub.status.idle": "2025-05-15T16:03:21.121991Z",
     "shell.execute_reply": "2025-05-15T16:03:21.121646Z"
    },
    "papermill": {
     "duration": 0.032405,
     "end_time": "2025-05-15T16:03:21.122805",
     "exception": false,
     "start_time": "2025-05-15T16:03:21.090400",
     "status": "completed"
    },
    "tags": []
   },
   "outputs": [],
   "source": [
    "lenc = LabelEncoder()\n",
    "y_train_enc = lenc.fit_transform(y_train)\n",
    "y_val_enc = lenc.transform(y_val)\n",
    "y_test_enc = lenc.transform(y_test)"
   ]
  },
  {
   "cell_type": "markdown",
   "id": "b70b47f6",
   "metadata": {
    "papermill": {
     "duration": 0.006186,
     "end_time": "2025-05-15T16:03:21.135352",
     "exception": false,
     "start_time": "2025-05-15T16:03:21.129166",
     "status": "completed"
    },
    "tags": []
   },
   "source": [
    "### GENERATE F1 "
   ]
  },
  {
   "cell_type": "code",
   "execution_count": 17,
   "id": "5418efff",
   "metadata": {
    "execution": {
     "iopub.execute_input": "2025-05-15T16:03:21.147905Z",
     "iopub.status.busy": "2025-05-15T16:03:21.147641Z",
     "iopub.status.idle": "2025-05-15T16:03:21.149768Z",
     "shell.execute_reply": "2025-05-15T16:03:21.149484Z"
    },
    "papermill": {
     "duration": 0.009363,
     "end_time": "2025-05-15T16:03:21.150588",
     "exception": false,
     "start_time": "2025-05-15T16:03:21.141225",
     "status": "completed"
    },
    "tags": []
   },
   "outputs": [],
   "source": [
    "def custom_f1_score(y_true, y_pred):\n",
    "    return -f1_score(y_true, y_pred.argmax(1), average='weighted')"
   ]
  },
  {
   "cell_type": "code",
   "execution_count": 18,
   "id": "45c81a33",
   "metadata": {
    "execution": {
     "iopub.execute_input": "2025-05-15T16:03:21.162829Z",
     "iopub.status.busy": "2025-05-15T16:03:21.162624Z",
     "iopub.status.idle": "2025-05-15T16:03:21.166007Z",
     "shell.execute_reply": "2025-05-15T16:03:21.165676Z"
    },
    "papermill": {
     "duration": 0.010331,
     "end_time": "2025-05-15T16:03:21.166804",
     "exception": false,
     "start_time": "2025-05-15T16:03:21.156473",
     "status": "completed"
    },
    "tags": []
   },
   "outputs": [],
   "source": [
    "eval_metric=custom_f1_score\n",
    "eval_metric_name='custom_f1_score'\n",
    "\n",
    "def objective(trial):\n",
    "    params = {\n",
    "        'n_estimators': 1500,\n",
    "        'max_depth': trial.suggest_int('max_depth', 3, 20),\n",
    "        'min_child_weight': trial.suggest_int('min_child_weight', 1, 250),\n",
    "        'subsample': trial.suggest_float('subsample', 0.1, 1.0),\n",
    "        'colsample_bynode': trial.suggest_float('colsample_bynode', 0.1, 1.0),\n",
    "        'learning_rate': trial.suggest_float('learning_rate', 1e-3, 5e-1, log=True),\n",
    "    }\n",
    "    pruning_callback = optuna.integration.XGBoostPruningCallback(trial, f'validation_0-{eval_metric_name}')\n",
    "    es_callback = xgboost.callback.EarlyStopping(20, min_delta=0.001)\n",
    "    xgb = xgboost.XGBClassifier(\n",
    "        eval_metric=eval_metric,\n",
    "        callbacks=[pruning_callback, es_callback],\n",
    "        n_jobs=5,\n",
    "        **params\n",
    "    )\n",
    "    xgb.fit(\n",
    "        X_train, \n",
    "        y_train_enc, \n",
    "        verbose=0,\n",
    "        eval_set=[(X_val, y_val_enc)],\n",
    "    )\n",
    "    trial.set_user_attr('best_iteration', xgb.best_iteration)\n",
    "\n",
    "    return xgb.best_score"
   ]
  },
  {
   "cell_type": "code",
   "execution_count": 19,
   "id": "1272de42",
   "metadata": {
    "execution": {
     "iopub.execute_input": "2025-05-15T16:03:21.179481Z",
     "iopub.status.busy": "2025-05-15T16:03:21.179219Z",
     "iopub.status.idle": "2025-05-15T16:25:41.755002Z",
     "shell.execute_reply": "2025-05-15T16:25:41.754547Z"
    },
    "papermill": {
     "duration": 1340.591964,
     "end_time": "2025-05-15T16:25:41.764625",
     "exception": false,
     "start_time": "2025-05-15T16:03:21.172661",
     "status": "completed"
    },
    "scrolled": true,
    "tags": []
   },
   "outputs": [
    {
     "name": "stderr",
     "output_type": "stream",
     "text": [
      "[I 2025-05-15 18:03:21,180] A new study created in memory with name: no-name-66822c8e-9e71-4834-b06e-12f865a15f9b\n"
     ]
    },
    {
     "name": "stderr",
     "output_type": "stream",
     "text": [
      "[I 2025-05-15 18:03:29,849] Trial 0 finished with value: -0.660683 and parameters: {'max_depth': 9, 'min_child_weight': 238, 'subsample': 0.7587945476302645, 'colsample_bynode': 0.6387926357773329, 'learning_rate': 0.0026368755339723046}. Best is trial 0 with value: -0.660683.\n"
     ]
    },
    {
     "name": "stderr",
     "output_type": "stream",
     "text": [
      "[I 2025-05-15 18:05:09,394] Trial 1 finished with value: -0.7736 and parameters: {'max_depth': 5, 'min_child_weight': 15, 'subsample': 0.8795585311974417, 'colsample_bynode': 0.6410035105688879, 'learning_rate': 0.08148293210105287}. Best is trial 1 with value: -0.7736.\n"
     ]
    },
    {
     "name": "stderr",
     "output_type": "stream",
     "text": [
      "[I 2025-05-15 18:05:21,469] Trial 2 finished with value: -0.643308 and parameters: {'max_depth': 3, 'min_child_weight': 243, 'subsample': 0.8491983767203796, 'colsample_bynode': 0.29110519961044856, 'learning_rate': 0.003095566460242371}. Best is trial 1 with value: -0.7736.\n"
     ]
    },
    {
     "name": "stderr",
     "output_type": "stream",
     "text": [
      "[I 2025-05-15 18:09:02,475] Trial 3 finished with value: -0.722716 and parameters: {'max_depth': 6, 'min_child_weight': 77, 'subsample': 0.5722807884690141, 'colsample_bynode': 0.48875051677790415, 'learning_rate': 0.006109683510122491}. Best is trial 1 with value: -0.7736.\n"
     ]
    },
    {
     "name": "stderr",
     "output_type": "stream",
     "text": [
      "[I 2025-05-15 18:12:57,798] Trial 4 finished with value: -0.769857 and parameters: {'max_depth': 14, 'min_child_weight': 35, 'subsample': 0.3629301836816964, 'colsample_bynode': 0.4297256589643226, 'learning_rate': 0.01701841881702917}. Best is trial 1 with value: -0.7736.\n"
     ]
    },
    {
     "name": "stderr",
     "output_type": "stream",
     "text": [
      "[I 2025-05-15 18:13:11,193] Trial 5 finished with value: -0.686539 and parameters: {'max_depth': 17, 'min_child_weight': 50, 'subsample': 0.5628109945722505, 'colsample_bynode': 0.6331731119758383, 'learning_rate': 0.0013346527038305934}. Best is trial 1 with value: -0.7736.\n"
     ]
    },
    {
     "name": "stderr",
     "output_type": "stream",
     "text": [
      "[I 2025-05-15 18:13:11,913] Trial 6 pruned. Trial was pruned at iteration 0.\n"
     ]
    },
    {
     "name": "stderr",
     "output_type": "stream",
     "text": [
      "[I 2025-05-15 18:13:12,637] Trial 7 pruned. Trial was pruned at iteration 0.\n"
     ]
    },
    {
     "name": "stderr",
     "output_type": "stream",
     "text": [
      "[I 2025-05-15 18:13:13,313] Trial 8 pruned. Trial was pruned at iteration 0.\n"
     ]
    },
    {
     "name": "stderr",
     "output_type": "stream",
     "text": [
      "[I 2025-05-15 18:13:14,544] Trial 9 pruned. Trial was pruned at iteration 1.\n"
     ]
    },
    {
     "name": "stderr",
     "output_type": "stream",
     "text": [
      "[I 2025-05-15 18:14:09,890] Trial 10 finished with value: -0.771623 and parameters: {'max_depth': 9, 'min_child_weight': 2, 'subsample': 0.9725833997090791, 'colsample_bynode': 0.11616568805333755, 'learning_rate': 0.17780618353487967}. Best is trial 1 with value: -0.7736.\n"
     ]
    },
    {
     "name": "stderr",
     "output_type": "stream",
     "text": [
      "[I 2025-05-15 18:15:18,181] Trial 11 finished with value: -0.77247 and parameters: {'max_depth': 9, 'min_child_weight': 4, 'subsample': 0.9818290990185045, 'colsample_bynode': 0.17702656156719, 'learning_rate': 0.11568531411766632}. Best is trial 1 with value: -0.7736.\n"
     ]
    },
    {
     "name": "stderr",
     "output_type": "stream",
     "text": [
      "[I 2025-05-15 18:16:56,658] Trial 12 finished with value: -0.769861 and parameters: {'max_depth': 9, 'min_child_weight': 3, 'subsample': 0.9762317723681219, 'colsample_bynode': 0.14667845540225039, 'learning_rate': 0.07220195396446884}. Best is trial 1 with value: -0.7736.\n"
     ]
    },
    {
     "name": "stderr",
     "output_type": "stream",
     "text": [
      "[I 2025-05-15 18:16:57,289] Trial 13 pruned. Trial was pruned at iteration 0.\n"
     ]
    },
    {
     "name": "stderr",
     "output_type": "stream",
     "text": [
      "[I 2025-05-15 18:16:57,954] Trial 14 pruned. Trial was pruned at iteration 0.\n"
     ]
    },
    {
     "name": "stderr",
     "output_type": "stream",
     "text": [
      "[I 2025-05-15 18:18:07,956] Trial 15 finished with value: -0.765899 and parameters: {'max_depth': 20, 'min_child_weight': 1, 'subsample': 0.7012908959710442, 'colsample_bynode': 0.2540835086298475, 'learning_rate': 0.2833114876720916}. Best is trial 1 with value: -0.7736.\n"
     ]
    },
    {
     "name": "stderr",
     "output_type": "stream",
     "text": [
      "[I 2025-05-15 18:18:08,571] Trial 16 pruned. Trial was pruned at iteration 0.\n"
     ]
    },
    {
     "name": "stderr",
     "output_type": "stream",
     "text": [
      "[I 2025-05-15 18:18:09,215] Trial 17 pruned. Trial was pruned at iteration 0.\n"
     ]
    },
    {
     "name": "stderr",
     "output_type": "stream",
     "text": [
      "[I 2025-05-15 18:19:02,431] Trial 18 finished with value: -0.777265 and parameters: {'max_depth': 11, 'min_child_weight': 37, 'subsample': 0.8988001325877066, 'colsample_bynode': 0.3955466156360019, 'learning_rate': 0.13348559174149954}. Best is trial 18 with value: -0.777265.\n"
     ]
    },
    {
     "name": "stderr",
     "output_type": "stream",
     "text": [
      "[I 2025-05-15 18:19:03,119] Trial 19 pruned. Trial was pruned at iteration 0.\n"
     ]
    },
    {
     "name": "stderr",
     "output_type": "stream",
     "text": [
      "[I 2025-05-15 18:19:37,368] Trial 20 finished with value: -0.777852 and parameters: {'max_depth': 16, 'min_child_weight': 36, 'subsample': 0.6578156841377696, 'colsample_bynode': 0.5501785677119223, 'learning_rate': 0.2221537505158567}. Best is trial 20 with value: -0.777852.\n"
     ]
    },
    {
     "name": "stderr",
     "output_type": "stream",
     "text": [
      "[I 2025-05-15 18:20:23,331] Trial 21 finished with value: -0.780687 and parameters: {'max_depth': 17, 'min_child_weight': 32, 'subsample': 0.6689074388587125, 'colsample_bynode': 0.5334907331464369, 'learning_rate': 0.24892967230551474}. Best is trial 21 with value: -0.780687.\n"
     ]
    },
    {
     "name": "stderr",
     "output_type": "stream",
     "text": [
      "[I 2025-05-15 18:20:51,361] Trial 22 finished with value: -0.780154 and parameters: {'max_depth': 17, 'min_child_weight': 34, 'subsample': 0.6581340170061017, 'colsample_bynode': 0.5266652989265285, 'learning_rate': 0.46863809772466414}. Best is trial 21 with value: -0.780687.\n"
     ]
    },
    {
     "name": "stderr",
     "output_type": "stream",
     "text": [
      "[I 2025-05-15 18:20:52,042] Trial 23 pruned. Trial was pruned at iteration 0.\n"
     ]
    },
    {
     "name": "stderr",
     "output_type": "stream",
     "text": [
      "[I 2025-05-15 18:20:52,739] Trial 24 pruned. Trial was pruned at iteration 0.\n"
     ]
    },
    {
     "name": "stderr",
     "output_type": "stream",
     "text": [
      "[I 2025-05-15 18:21:20,956] Trial 25 finished with value: -0.779276 and parameters: {'max_depth': 18, 'min_child_weight': 62, 'subsample': 0.6323659038961531, 'colsample_bynode': 0.6998937944594101, 'learning_rate': 0.29632754449647014}. Best is trial 21 with value: -0.780687.\n"
     ]
    },
    {
     "name": "stderr",
     "output_type": "stream",
     "text": [
      "[I 2025-05-15 18:21:21,600] Trial 26 pruned. Trial was pruned at iteration 0.\n"
     ]
    },
    {
     "name": "stderr",
     "output_type": "stream",
     "text": [
      "[I 2025-05-15 18:21:22,256] Trial 27 pruned. Trial was pruned at iteration 0.\n"
     ]
    },
    {
     "name": "stderr",
     "output_type": "stream",
     "text": [
      "[I 2025-05-15 18:21:47,606] Trial 28 finished with value: -0.778174 and parameters: {'max_depth': 15, 'min_child_weight': 21, 'subsample': 0.7577991636324294, 'colsample_bynode': 0.7547835364105744, 'learning_rate': 0.4965729015539805}. Best is trial 21 with value: -0.780687.\n"
     ]
    },
    {
     "name": "stderr",
     "output_type": "stream",
     "text": [
      "[I 2025-05-15 18:21:48,201] Trial 29 pruned. Trial was pruned at iteration 0.\n"
     ]
    },
    {
     "name": "stderr",
     "output_type": "stream",
     "text": [
      "[I 2025-05-15 18:21:48,827] Trial 30 pruned. Trial was pruned at iteration 0.\n"
     ]
    },
    {
     "name": "stderr",
     "output_type": "stream",
     "text": [
      "[I 2025-05-15 18:22:19,386] Trial 31 finished with value: -0.776284 and parameters: {'max_depth': 16, 'min_child_weight': 24, 'subsample': 0.7209126747488854, 'colsample_bynode': 0.7252215323379875, 'learning_rate': 0.33520941417627514}. Best is trial 21 with value: -0.780687.\n"
     ]
    },
    {
     "name": "stderr",
     "output_type": "stream",
     "text": [
      "[I 2025-05-15 18:22:49,610] Trial 32 finished with value: -0.778244 and parameters: {'max_depth': 13, 'min_child_weight': 17, 'subsample': 0.7445865624630739, 'colsample_bynode': 0.6747694849933009, 'learning_rate': 0.45496055317888806}. Best is trial 21 with value: -0.780687.\n"
     ]
    },
    {
     "name": "stderr",
     "output_type": "stream",
     "text": [
      "[I 2025-05-15 18:22:50,673] Trial 33 pruned. Trial was pruned at iteration 1.\n"
     ]
    },
    {
     "name": "stderr",
     "output_type": "stream",
     "text": [
      "[I 2025-05-15 18:23:07,437] Trial 34 pruned. Trial was pruned at iteration 25.\n"
     ]
    },
    {
     "name": "stderr",
     "output_type": "stream",
     "text": [
      "[I 2025-05-15 18:23:08,122] Trial 35 pruned. Trial was pruned at iteration 0.\n"
     ]
    },
    {
     "name": "stderr",
     "output_type": "stream",
     "text": [
      "[I 2025-05-15 18:23:09,889] Trial 36 pruned. Trial was pruned at iteration 2.\n"
     ]
    },
    {
     "name": "stderr",
     "output_type": "stream",
     "text": [
      "[I 2025-05-15 18:23:10,522] Trial 37 pruned. Trial was pruned at iteration 0.\n"
     ]
    },
    {
     "name": "stderr",
     "output_type": "stream",
     "text": [
      "[I 2025-05-15 18:23:11,173] Trial 38 pruned. Trial was pruned at iteration 0.\n"
     ]
    },
    {
     "name": "stderr",
     "output_type": "stream",
     "text": [
      "[I 2025-05-15 18:23:11,787] Trial 39 pruned. Trial was pruned at iteration 0.\n"
     ]
    },
    {
     "name": "stderr",
     "output_type": "stream",
     "text": [
      "[I 2025-05-15 18:23:12,365] Trial 40 pruned. Trial was pruned at iteration 0.\n"
     ]
    },
    {
     "name": "stderr",
     "output_type": "stream",
     "text": [
      "[I 2025-05-15 18:23:57,287] Trial 41 finished with value: -0.776934 and parameters: {'max_depth': 15, 'min_child_weight': 17, 'subsample': 0.774568509924616, 'colsample_bynode': 0.7631204631254445, 'learning_rate': 0.4790687355919232}. Best is trial 21 with value: -0.780687.\n"
     ]
    },
    {
     "name": "stderr",
     "output_type": "stream",
     "text": [
      "[I 2025-05-15 18:24:26,873] Trial 42 finished with value: -0.775329 and parameters: {'max_depth': 17, 'min_child_weight': 18, 'subsample': 0.7348847889187856, 'colsample_bynode': 0.6900965369877771, 'learning_rate': 0.492534658314607}. Best is trial 21 with value: -0.780687.\n"
     ]
    },
    {
     "name": "stderr",
     "output_type": "stream",
     "text": [
      "[I 2025-05-15 18:24:57,039] Trial 43 finished with value: -0.777648 and parameters: {'max_depth': 14, 'min_child_weight': 31, 'subsample': 0.8086690957305542, 'colsample_bynode': 0.7567227866102834, 'learning_rate': 0.3258730069861342}. Best is trial 21 with value: -0.780687.\n"
     ]
    },
    {
     "name": "stderr",
     "output_type": "stream",
     "text": [
      "[I 2025-05-15 18:24:57,732] Trial 44 pruned. Trial was pruned at iteration 0.\n"
     ]
    },
    {
     "name": "stderr",
     "output_type": "stream",
     "text": [
      "[I 2025-05-15 18:25:01,029] Trial 45 pruned. Trial was pruned at iteration 4.\n"
     ]
    },
    {
     "name": "stderr",
     "output_type": "stream",
     "text": [
      "[I 2025-05-15 18:25:01,749] Trial 46 pruned. Trial was pruned at iteration 0.\n"
     ]
    },
    {
     "name": "stderr",
     "output_type": "stream",
     "text": [
      "[I 2025-05-15 18:25:02,413] Trial 47 pruned. Trial was pruned at iteration 0.\n"
     ]
    },
    {
     "name": "stderr",
     "output_type": "stream",
     "text": [
      "[I 2025-05-15 18:25:03,089] Trial 48 pruned. Trial was pruned at iteration 0.\n"
     ]
    },
    {
     "name": "stderr",
     "output_type": "stream",
     "text": [
      "[I 2025-05-15 18:25:41,671] Trial 49 finished with value: -0.781459 and parameters: {'max_depth': 18, 'min_child_weight': 26, 'subsample': 0.5643962912997231, 'colsample_bynode': 0.5776210042519223, 'learning_rate': 0.27795505751137634}. Best is trial 49 with value: -0.781459.\n"
     ]
    }
   ],
   "source": [
    "sampler = optuna.samplers.TPESampler(seed=42)\n",
    "study = optuna.create_study(direction='minimize', sampler=sampler)\n",
    "study.optimize(objective, n_trials=N_TRIALS, gc_after_trial=True)"
   ]
  },
  {
   "cell_type": "code",
   "execution_count": 20,
   "id": "d70226d2",
   "metadata": {
    "execution": {
     "iopub.execute_input": "2025-05-15T16:25:41.785558Z",
     "iopub.status.busy": "2025-05-15T16:25:41.785349Z",
     "iopub.status.idle": "2025-05-15T16:25:41.877884Z",
     "shell.execute_reply": "2025-05-15T16:25:41.877601Z"
    },
    "papermill": {
     "duration": 0.103343,
     "end_time": "2025-05-15T16:25:41.878791",
     "exception": false,
     "start_time": "2025-05-15T16:25:41.775448",
     "status": "completed"
    },
    "tags": []
   },
   "outputs": [
    {
     "data": {
      "text/plain": [
       "['/scratch_isilon/groups/singlecell/shared/projects/Inflammation-PBMCs-Atlas/03_downstream_analysis/08_gene_importance/xgboost_external_validation/xgboost_TopN_genes/results_20/study/T_CD4_NonNaive_15_4_xgboost.pkl']"
      ]
     },
     "execution_count": 20,
     "metadata": {},
     "output_type": "execute_result"
    }
   ],
   "source": [
    "out_dir = here(f'03_downstream_analysis/08_gene_importance/xgboost_external_validation/xgboost_TopN_genes/results_{N_GENES}/study')\n",
    "\n",
    "if not os.path.exists(out_dir):\n",
    "    os.makedirs(out_dir)\n",
    "    \n",
    "joblib.dump(study,os.path.join(out_dir, f'{CELL_TYPE}_{SEED}_{TEST_SPLIT_IDX}_xgboost.pkl'))"
   ]
  },
  {
   "cell_type": "code",
   "execution_count": 21,
   "id": "29720458",
   "metadata": {
    "execution": {
     "iopub.execute_input": "2025-05-15T16:25:41.898550Z",
     "iopub.status.busy": "2025-05-15T16:25:41.898276Z",
     "iopub.status.idle": "2025-05-15T16:25:57.547993Z",
     "shell.execute_reply": "2025-05-15T16:25:57.547651Z"
    },
    "papermill": {
     "duration": 15.660443,
     "end_time": "2025-05-15T16:25:57.548997",
     "exception": false,
     "start_time": "2025-05-15T16:25:41.888554",
     "status": "completed"
    },
    "tags": []
   },
   "outputs": [
    {
     "data": {
      "text/html": [
       "<style>#sk-container-id-1 {\n",
       "  /* Definition of color scheme common for light and dark mode */\n",
       "  --sklearn-color-text: black;\n",
       "  --sklearn-color-line: gray;\n",
       "  /* Definition of color scheme for unfitted estimators */\n",
       "  --sklearn-color-unfitted-level-0: #fff5e6;\n",
       "  --sklearn-color-unfitted-level-1: #f6e4d2;\n",
       "  --sklearn-color-unfitted-level-2: #ffe0b3;\n",
       "  --sklearn-color-unfitted-level-3: chocolate;\n",
       "  /* Definition of color scheme for fitted estimators */\n",
       "  --sklearn-color-fitted-level-0: #f0f8ff;\n",
       "  --sklearn-color-fitted-level-1: #d4ebff;\n",
       "  --sklearn-color-fitted-level-2: #b3dbfd;\n",
       "  --sklearn-color-fitted-level-3: cornflowerblue;\n",
       "\n",
       "  /* Specific color for light theme */\n",
       "  --sklearn-color-text-on-default-background: var(--sg-text-color, var(--theme-code-foreground, var(--jp-content-font-color1, black)));\n",
       "  --sklearn-color-background: var(--sg-background-color, var(--theme-background, var(--jp-layout-color0, white)));\n",
       "  --sklearn-color-border-box: var(--sg-text-color, var(--theme-code-foreground, var(--jp-content-font-color1, black)));\n",
       "  --sklearn-color-icon: #696969;\n",
       "\n",
       "  @media (prefers-color-scheme: dark) {\n",
       "    /* Redefinition of color scheme for dark theme */\n",
       "    --sklearn-color-text-on-default-background: var(--sg-text-color, var(--theme-code-foreground, var(--jp-content-font-color1, white)));\n",
       "    --sklearn-color-background: var(--sg-background-color, var(--theme-background, var(--jp-layout-color0, #111)));\n",
       "    --sklearn-color-border-box: var(--sg-text-color, var(--theme-code-foreground, var(--jp-content-font-color1, white)));\n",
       "    --sklearn-color-icon: #878787;\n",
       "  }\n",
       "}\n",
       "\n",
       "#sk-container-id-1 {\n",
       "  color: var(--sklearn-color-text);\n",
       "}\n",
       "\n",
       "#sk-container-id-1 pre {\n",
       "  padding: 0;\n",
       "}\n",
       "\n",
       "#sk-container-id-1 input.sk-hidden--visually {\n",
       "  border: 0;\n",
       "  clip: rect(1px 1px 1px 1px);\n",
       "  clip: rect(1px, 1px, 1px, 1px);\n",
       "  height: 1px;\n",
       "  margin: -1px;\n",
       "  overflow: hidden;\n",
       "  padding: 0;\n",
       "  position: absolute;\n",
       "  width: 1px;\n",
       "}\n",
       "\n",
       "#sk-container-id-1 div.sk-dashed-wrapped {\n",
       "  border: 1px dashed var(--sklearn-color-line);\n",
       "  margin: 0 0.4em 0.5em 0.4em;\n",
       "  box-sizing: border-box;\n",
       "  padding-bottom: 0.4em;\n",
       "  background-color: var(--sklearn-color-background);\n",
       "}\n",
       "\n",
       "#sk-container-id-1 div.sk-container {\n",
       "  /* jupyter's `normalize.less` sets `[hidden] { display: none; }`\n",
       "     but bootstrap.min.css set `[hidden] { display: none !important; }`\n",
       "     so we also need the `!important` here to be able to override the\n",
       "     default hidden behavior on the sphinx rendered scikit-learn.org.\n",
       "     See: https://github.com/scikit-learn/scikit-learn/issues/21755 */\n",
       "  display: inline-block !important;\n",
       "  position: relative;\n",
       "}\n",
       "\n",
       "#sk-container-id-1 div.sk-text-repr-fallback {\n",
       "  display: none;\n",
       "}\n",
       "\n",
       "div.sk-parallel-item,\n",
       "div.sk-serial,\n",
       "div.sk-item {\n",
       "  /* draw centered vertical line to link estimators */\n",
       "  background-image: linear-gradient(var(--sklearn-color-text-on-default-background), var(--sklearn-color-text-on-default-background));\n",
       "  background-size: 2px 100%;\n",
       "  background-repeat: no-repeat;\n",
       "  background-position: center center;\n",
       "}\n",
       "\n",
       "/* Parallel-specific style estimator block */\n",
       "\n",
       "#sk-container-id-1 div.sk-parallel-item::after {\n",
       "  content: \"\";\n",
       "  width: 100%;\n",
       "  border-bottom: 2px solid var(--sklearn-color-text-on-default-background);\n",
       "  flex-grow: 1;\n",
       "}\n",
       "\n",
       "#sk-container-id-1 div.sk-parallel {\n",
       "  display: flex;\n",
       "  align-items: stretch;\n",
       "  justify-content: center;\n",
       "  background-color: var(--sklearn-color-background);\n",
       "  position: relative;\n",
       "}\n",
       "\n",
       "#sk-container-id-1 div.sk-parallel-item {\n",
       "  display: flex;\n",
       "  flex-direction: column;\n",
       "}\n",
       "\n",
       "#sk-container-id-1 div.sk-parallel-item:first-child::after {\n",
       "  align-self: flex-end;\n",
       "  width: 50%;\n",
       "}\n",
       "\n",
       "#sk-container-id-1 div.sk-parallel-item:last-child::after {\n",
       "  align-self: flex-start;\n",
       "  width: 50%;\n",
       "}\n",
       "\n",
       "#sk-container-id-1 div.sk-parallel-item:only-child::after {\n",
       "  width: 0;\n",
       "}\n",
       "\n",
       "/* Serial-specific style estimator block */\n",
       "\n",
       "#sk-container-id-1 div.sk-serial {\n",
       "  display: flex;\n",
       "  flex-direction: column;\n",
       "  align-items: center;\n",
       "  background-color: var(--sklearn-color-background);\n",
       "  padding-right: 1em;\n",
       "  padding-left: 1em;\n",
       "}\n",
       "\n",
       "\n",
       "/* Toggleable style: style used for estimator/Pipeline/ColumnTransformer box that is\n",
       "clickable and can be expanded/collapsed.\n",
       "- Pipeline and ColumnTransformer use this feature and define the default style\n",
       "- Estimators will overwrite some part of the style using the `sk-estimator` class\n",
       "*/\n",
       "\n",
       "/* Pipeline and ColumnTransformer style (default) */\n",
       "\n",
       "#sk-container-id-1 div.sk-toggleable {\n",
       "  /* Default theme specific background. It is overwritten whether we have a\n",
       "  specific estimator or a Pipeline/ColumnTransformer */\n",
       "  background-color: var(--sklearn-color-background);\n",
       "}\n",
       "\n",
       "/* Toggleable label */\n",
       "#sk-container-id-1 label.sk-toggleable__label {\n",
       "  cursor: pointer;\n",
       "  display: block;\n",
       "  width: 100%;\n",
       "  margin-bottom: 0;\n",
       "  padding: 0.5em;\n",
       "  box-sizing: border-box;\n",
       "  text-align: center;\n",
       "}\n",
       "\n",
       "#sk-container-id-1 label.sk-toggleable__label-arrow:before {\n",
       "  /* Arrow on the left of the label */\n",
       "  content: \"▸\";\n",
       "  float: left;\n",
       "  margin-right: 0.25em;\n",
       "  color: var(--sklearn-color-icon);\n",
       "}\n",
       "\n",
       "#sk-container-id-1 label.sk-toggleable__label-arrow:hover:before {\n",
       "  color: var(--sklearn-color-text);\n",
       "}\n",
       "\n",
       "/* Toggleable content - dropdown */\n",
       "\n",
       "#sk-container-id-1 div.sk-toggleable__content {\n",
       "  max-height: 0;\n",
       "  max-width: 0;\n",
       "  overflow: hidden;\n",
       "  text-align: left;\n",
       "  /* unfitted */\n",
       "  background-color: var(--sklearn-color-unfitted-level-0);\n",
       "}\n",
       "\n",
       "#sk-container-id-1 div.sk-toggleable__content.fitted {\n",
       "  /* fitted */\n",
       "  background-color: var(--sklearn-color-fitted-level-0);\n",
       "}\n",
       "\n",
       "#sk-container-id-1 div.sk-toggleable__content pre {\n",
       "  margin: 0.2em;\n",
       "  border-radius: 0.25em;\n",
       "  color: var(--sklearn-color-text);\n",
       "  /* unfitted */\n",
       "  background-color: var(--sklearn-color-unfitted-level-0);\n",
       "}\n",
       "\n",
       "#sk-container-id-1 div.sk-toggleable__content.fitted pre {\n",
       "  /* unfitted */\n",
       "  background-color: var(--sklearn-color-fitted-level-0);\n",
       "}\n",
       "\n",
       "#sk-container-id-1 input.sk-toggleable__control:checked~div.sk-toggleable__content {\n",
       "  /* Expand drop-down */\n",
       "  max-height: 200px;\n",
       "  max-width: 100%;\n",
       "  overflow: auto;\n",
       "}\n",
       "\n",
       "#sk-container-id-1 input.sk-toggleable__control:checked~label.sk-toggleable__label-arrow:before {\n",
       "  content: \"▾\";\n",
       "}\n",
       "\n",
       "/* Pipeline/ColumnTransformer-specific style */\n",
       "\n",
       "#sk-container-id-1 div.sk-label input.sk-toggleable__control:checked~label.sk-toggleable__label {\n",
       "  color: var(--sklearn-color-text);\n",
       "  background-color: var(--sklearn-color-unfitted-level-2);\n",
       "}\n",
       "\n",
       "#sk-container-id-1 div.sk-label.fitted input.sk-toggleable__control:checked~label.sk-toggleable__label {\n",
       "  background-color: var(--sklearn-color-fitted-level-2);\n",
       "}\n",
       "\n",
       "/* Estimator-specific style */\n",
       "\n",
       "/* Colorize estimator box */\n",
       "#sk-container-id-1 div.sk-estimator input.sk-toggleable__control:checked~label.sk-toggleable__label {\n",
       "  /* unfitted */\n",
       "  background-color: var(--sklearn-color-unfitted-level-2);\n",
       "}\n",
       "\n",
       "#sk-container-id-1 div.sk-estimator.fitted input.sk-toggleable__control:checked~label.sk-toggleable__label {\n",
       "  /* fitted */\n",
       "  background-color: var(--sklearn-color-fitted-level-2);\n",
       "}\n",
       "\n",
       "#sk-container-id-1 div.sk-label label.sk-toggleable__label,\n",
       "#sk-container-id-1 div.sk-label label {\n",
       "  /* The background is the default theme color */\n",
       "  color: var(--sklearn-color-text-on-default-background);\n",
       "}\n",
       "\n",
       "/* On hover, darken the color of the background */\n",
       "#sk-container-id-1 div.sk-label:hover label.sk-toggleable__label {\n",
       "  color: var(--sklearn-color-text);\n",
       "  background-color: var(--sklearn-color-unfitted-level-2);\n",
       "}\n",
       "\n",
       "/* Label box, darken color on hover, fitted */\n",
       "#sk-container-id-1 div.sk-label.fitted:hover label.sk-toggleable__label.fitted {\n",
       "  color: var(--sklearn-color-text);\n",
       "  background-color: var(--sklearn-color-fitted-level-2);\n",
       "}\n",
       "\n",
       "/* Estimator label */\n",
       "\n",
       "#sk-container-id-1 div.sk-label label {\n",
       "  font-family: monospace;\n",
       "  font-weight: bold;\n",
       "  display: inline-block;\n",
       "  line-height: 1.2em;\n",
       "}\n",
       "\n",
       "#sk-container-id-1 div.sk-label-container {\n",
       "  text-align: center;\n",
       "}\n",
       "\n",
       "/* Estimator-specific */\n",
       "#sk-container-id-1 div.sk-estimator {\n",
       "  font-family: monospace;\n",
       "  border: 1px dotted var(--sklearn-color-border-box);\n",
       "  border-radius: 0.25em;\n",
       "  box-sizing: border-box;\n",
       "  margin-bottom: 0.5em;\n",
       "  /* unfitted */\n",
       "  background-color: var(--sklearn-color-unfitted-level-0);\n",
       "}\n",
       "\n",
       "#sk-container-id-1 div.sk-estimator.fitted {\n",
       "  /* fitted */\n",
       "  background-color: var(--sklearn-color-fitted-level-0);\n",
       "}\n",
       "\n",
       "/* on hover */\n",
       "#sk-container-id-1 div.sk-estimator:hover {\n",
       "  /* unfitted */\n",
       "  background-color: var(--sklearn-color-unfitted-level-2);\n",
       "}\n",
       "\n",
       "#sk-container-id-1 div.sk-estimator.fitted:hover {\n",
       "  /* fitted */\n",
       "  background-color: var(--sklearn-color-fitted-level-2);\n",
       "}\n",
       "\n",
       "/* Specification for estimator info (e.g. \"i\" and \"?\") */\n",
       "\n",
       "/* Common style for \"i\" and \"?\" */\n",
       "\n",
       ".sk-estimator-doc-link,\n",
       "a:link.sk-estimator-doc-link,\n",
       "a:visited.sk-estimator-doc-link {\n",
       "  float: right;\n",
       "  font-size: smaller;\n",
       "  line-height: 1em;\n",
       "  font-family: monospace;\n",
       "  background-color: var(--sklearn-color-background);\n",
       "  border-radius: 1em;\n",
       "  height: 1em;\n",
       "  width: 1em;\n",
       "  text-decoration: none !important;\n",
       "  margin-left: 1ex;\n",
       "  /* unfitted */\n",
       "  border: var(--sklearn-color-unfitted-level-1) 1pt solid;\n",
       "  color: var(--sklearn-color-unfitted-level-1);\n",
       "}\n",
       "\n",
       ".sk-estimator-doc-link.fitted,\n",
       "a:link.sk-estimator-doc-link.fitted,\n",
       "a:visited.sk-estimator-doc-link.fitted {\n",
       "  /* fitted */\n",
       "  border: var(--sklearn-color-fitted-level-1) 1pt solid;\n",
       "  color: var(--sklearn-color-fitted-level-1);\n",
       "}\n",
       "\n",
       "/* On hover */\n",
       "div.sk-estimator:hover .sk-estimator-doc-link:hover,\n",
       ".sk-estimator-doc-link:hover,\n",
       "div.sk-label-container:hover .sk-estimator-doc-link:hover,\n",
       ".sk-estimator-doc-link:hover {\n",
       "  /* unfitted */\n",
       "  background-color: var(--sklearn-color-unfitted-level-3);\n",
       "  color: var(--sklearn-color-background);\n",
       "  text-decoration: none;\n",
       "}\n",
       "\n",
       "div.sk-estimator.fitted:hover .sk-estimator-doc-link.fitted:hover,\n",
       ".sk-estimator-doc-link.fitted:hover,\n",
       "div.sk-label-container:hover .sk-estimator-doc-link.fitted:hover,\n",
       ".sk-estimator-doc-link.fitted:hover {\n",
       "  /* fitted */\n",
       "  background-color: var(--sklearn-color-fitted-level-3);\n",
       "  color: var(--sklearn-color-background);\n",
       "  text-decoration: none;\n",
       "}\n",
       "\n",
       "/* Span, style for the box shown on hovering the info icon */\n",
       ".sk-estimator-doc-link span {\n",
       "  display: none;\n",
       "  z-index: 9999;\n",
       "  position: relative;\n",
       "  font-weight: normal;\n",
       "  right: .2ex;\n",
       "  padding: .5ex;\n",
       "  margin: .5ex;\n",
       "  width: min-content;\n",
       "  min-width: 20ex;\n",
       "  max-width: 50ex;\n",
       "  color: var(--sklearn-color-text);\n",
       "  box-shadow: 2pt 2pt 4pt #999;\n",
       "  /* unfitted */\n",
       "  background: var(--sklearn-color-unfitted-level-0);\n",
       "  border: .5pt solid var(--sklearn-color-unfitted-level-3);\n",
       "}\n",
       "\n",
       ".sk-estimator-doc-link.fitted span {\n",
       "  /* fitted */\n",
       "  background: var(--sklearn-color-fitted-level-0);\n",
       "  border: var(--sklearn-color-fitted-level-3);\n",
       "}\n",
       "\n",
       ".sk-estimator-doc-link:hover span {\n",
       "  display: block;\n",
       "}\n",
       "\n",
       "/* \"?\"-specific style due to the `<a>` HTML tag */\n",
       "\n",
       "#sk-container-id-1 a.estimator_doc_link {\n",
       "  float: right;\n",
       "  font-size: 1rem;\n",
       "  line-height: 1em;\n",
       "  font-family: monospace;\n",
       "  background-color: var(--sklearn-color-background);\n",
       "  border-radius: 1rem;\n",
       "  height: 1rem;\n",
       "  width: 1rem;\n",
       "  text-decoration: none;\n",
       "  /* unfitted */\n",
       "  color: var(--sklearn-color-unfitted-level-1);\n",
       "  border: var(--sklearn-color-unfitted-level-1) 1pt solid;\n",
       "}\n",
       "\n",
       "#sk-container-id-1 a.estimator_doc_link.fitted {\n",
       "  /* fitted */\n",
       "  border: var(--sklearn-color-fitted-level-1) 1pt solid;\n",
       "  color: var(--sklearn-color-fitted-level-1);\n",
       "}\n",
       "\n",
       "/* On hover */\n",
       "#sk-container-id-1 a.estimator_doc_link:hover {\n",
       "  /* unfitted */\n",
       "  background-color: var(--sklearn-color-unfitted-level-3);\n",
       "  color: var(--sklearn-color-background);\n",
       "  text-decoration: none;\n",
       "}\n",
       "\n",
       "#sk-container-id-1 a.estimator_doc_link.fitted:hover {\n",
       "  /* fitted */\n",
       "  background-color: var(--sklearn-color-fitted-level-3);\n",
       "}\n",
       "</style><div id=\"sk-container-id-1\" class=\"sk-top-container\"><div class=\"sk-text-repr-fallback\"><pre>XGBClassifier(base_score=None, booster=None, callbacks=None,\n",
       "              colsample_bylevel=None, colsample_bynode=0.5776210042519223,\n",
       "              colsample_bytree=None, device=None, early_stopping_rounds=None,\n",
       "              enable_categorical=False,\n",
       "              eval_metric=&lt;function custom_f1_score at 0x7f3d49493f60&gt;,\n",
       "              feature_types=None, gamma=None, grow_policy=None,\n",
       "              importance_type=None, interaction_constraints=None,\n",
       "              learning_rate=0.27795505751137634, max_bin=None,\n",
       "              max_cat_threshold=None, max_cat_to_onehot=None,\n",
       "              max_delta_step=None, max_depth=18, max_leaves=None,\n",
       "              min_child_weight=26, missing=nan, monotone_constraints=None,\n",
       "              multi_strategy=None, n_estimators=87, n_jobs=None,\n",
       "              num_parallel_tree=None, objective=&#x27;multi:softprob&#x27;, ...)</pre><b>In a Jupyter environment, please rerun this cell to show the HTML representation or trust the notebook. <br />On GitHub, the HTML representation is unable to render, please try loading this page with nbviewer.org.</b></div><div class=\"sk-container\" hidden><div class=\"sk-item\"><div class=\"sk-estimator fitted sk-toggleable\"><input class=\"sk-toggleable__control sk-hidden--visually\" id=\"sk-estimator-id-1\" type=\"checkbox\" checked><label for=\"sk-estimator-id-1\" class=\"sk-toggleable__label fitted sk-toggleable__label-arrow fitted\">&nbsp;XGBClassifier<span class=\"sk-estimator-doc-link fitted\">i<span>Fitted</span></span></label><div class=\"sk-toggleable__content fitted\"><pre>XGBClassifier(base_score=None, booster=None, callbacks=None,\n",
       "              colsample_bylevel=None, colsample_bynode=0.5776210042519223,\n",
       "              colsample_bytree=None, device=None, early_stopping_rounds=None,\n",
       "              enable_categorical=False,\n",
       "              eval_metric=&lt;function custom_f1_score at 0x7f3d49493f60&gt;,\n",
       "              feature_types=None, gamma=None, grow_policy=None,\n",
       "              importance_type=None, interaction_constraints=None,\n",
       "              learning_rate=0.27795505751137634, max_bin=None,\n",
       "              max_cat_threshold=None, max_cat_to_onehot=None,\n",
       "              max_delta_step=None, max_depth=18, max_leaves=None,\n",
       "              min_child_weight=26, missing=nan, monotone_constraints=None,\n",
       "              multi_strategy=None, n_estimators=87, n_jobs=None,\n",
       "              num_parallel_tree=None, objective=&#x27;multi:softprob&#x27;, ...)</pre></div> </div></div></div></div>"
      ],
      "text/plain": [
       "XGBClassifier(base_score=None, booster=None, callbacks=None,\n",
       "              colsample_bylevel=None, colsample_bynode=0.5776210042519223,\n",
       "              colsample_bytree=None, device=None, early_stopping_rounds=None,\n",
       "              enable_categorical=False,\n",
       "              eval_metric=<function custom_f1_score at 0x7f3d49493f60>,\n",
       "              feature_types=None, gamma=None, grow_policy=None,\n",
       "              importance_type=None, interaction_constraints=None,\n",
       "              learning_rate=0.27795505751137634, max_bin=None,\n",
       "              max_cat_threshold=None, max_cat_to_onehot=None,\n",
       "              max_delta_step=None, max_depth=18, max_leaves=None,\n",
       "              min_child_weight=26, missing=nan, monotone_constraints=None,\n",
       "              multi_strategy=None, n_estimators=87, n_jobs=None,\n",
       "              num_parallel_tree=None, objective='multi:softprob', ...)"
      ]
     },
     "execution_count": 21,
     "metadata": {},
     "output_type": "execute_result"
    }
   ],
   "source": [
    "n_estimators = int(study.best_trial.user_attrs['best_iteration']*1.2)\n",
    "xgb = xgboost.XGBClassifier(\n",
    "        eval_metric=eval_metric,\n",
    "        n_estimators=n_estimators,\n",
    "        **study.best_trial.params\n",
    "    )\n",
    "xgb.fit(\n",
    "    ssp.vstack((X_train, X_val)), \n",
    "    np.concatenate((y_train_enc, y_val_enc)),\n",
    "    verbose=1,\n",
    ")"
   ]
  },
  {
   "cell_type": "code",
   "execution_count": 22,
   "id": "8e7a5d14",
   "metadata": {
    "execution": {
     "iopub.execute_input": "2025-05-15T16:25:57.570126Z",
     "iopub.status.busy": "2025-05-15T16:25:57.569918Z",
     "iopub.status.idle": "2025-05-15T16:25:57.670583Z",
     "shell.execute_reply": "2025-05-15T16:25:57.670205Z"
    },
    "papermill": {
     "duration": 0.11071,
     "end_time": "2025-05-15T16:25:57.671472",
     "exception": false,
     "start_time": "2025-05-15T16:25:57.560762",
     "status": "completed"
    },
    "tags": []
   },
   "outputs": [
    {
     "data": {
      "text/plain": [
       "['/scratch_isilon/groups/singlecell/shared/projects/Inflammation-PBMCs-Atlas/03_downstream_analysis/08_gene_importance/xgboost_external_validation/xgboost_TopN_genes/results_20/best_model/T_CD4_NonNaive_15_4_xgb.json']"
      ]
     },
     "execution_count": 22,
     "metadata": {},
     "output_type": "execute_result"
    }
   ],
   "source": [
    "out_dir = here(f'03_downstream_analysis/08_gene_importance/xgboost_external_validation/xgboost_TopN_genes/results_{N_GENES}/best_model')\n",
    "\n",
    "if not os.path.exists(out_dir):\n",
    "    os.makedirs(out_dir)\n",
    "    \n",
    "joblib.dump(xgb, os.path.join(out_dir, f'{CELL_TYPE}_{SEED}_{TEST_SPLIT_IDX}_xgb.json'))"
   ]
  },
  {
   "cell_type": "code",
   "execution_count": 23,
   "id": "1eedbfce",
   "metadata": {
    "execution": {
     "iopub.execute_input": "2025-05-15T16:25:57.693019Z",
     "iopub.status.busy": "2025-05-15T16:25:57.690120Z",
     "iopub.status.idle": "2025-05-15T16:25:58.286464Z",
     "shell.execute_reply": "2025-05-15T16:25:58.286065Z"
    },
    "papermill": {
     "duration": 0.60735,
     "end_time": "2025-05-15T16:25:58.287683",
     "exception": false,
     "start_time": "2025-05-15T16:25:57.680333",
     "status": "completed"
    },
    "tags": []
   },
   "outputs": [],
   "source": [
    "df_pred_test = pd.DataFrame(dict(\n",
    "    cell_id=train_adata.obs.iloc[test_idxs].index.values,\n",
    "    y_true=y_test, \n",
    "    y_true_code=y_test_enc, \n",
    "    y_pred=xgb.predict(X_test))).set_index('cell_id')"
   ]
  },
  {
   "cell_type": "code",
   "execution_count": 24,
   "id": "ff8edb16",
   "metadata": {
    "execution": {
     "iopub.execute_input": "2025-05-15T16:25:58.306183Z",
     "iopub.status.busy": "2025-05-15T16:25:58.305921Z",
     "iopub.status.idle": "2025-05-15T16:25:58.425199Z",
     "shell.execute_reply": "2025-05-15T16:25:58.424810Z"
    },
    "papermill": {
     "duration": 0.129487,
     "end_time": "2025-05-15T16:25:58.426379",
     "exception": false,
     "start_time": "2025-05-15T16:25:58.296892",
     "status": "completed"
    },
    "tags": []
   },
   "outputs": [],
   "source": [
    "out_dir = here(f'03_downstream_analysis/08_gene_importance/xgboost_external_validation/xgboost_TopN_genes/results_{N_GENES}/predictions')\n",
    "\n",
    "if not os.path.exists(out_dir):\n",
    "    os.makedirs(out_dir)\n",
    "    \n",
    "df_pred_test.to_csv(os.path.join(out_dir, f'{CELL_TYPE}_{SEED}_{TEST_SPLIT_IDX}_pred_test.zip'))"
   ]
  },
  {
   "cell_type": "code",
   "execution_count": 25,
   "id": "25850324",
   "metadata": {
    "execution": {
     "iopub.execute_input": "2025-05-15T16:25:58.444364Z",
     "iopub.status.busy": "2025-05-15T16:25:58.444140Z",
     "iopub.status.idle": "2025-05-15T16:25:58.456963Z",
     "shell.execute_reply": "2025-05-15T16:25:58.456632Z"
    },
    "papermill": {
     "duration": 0.022534,
     "end_time": "2025-05-15T16:25:58.457869",
     "exception": false,
     "start_time": "2025-05-15T16:25:58.435335",
     "status": "completed"
    },
    "tags": []
   },
   "outputs": [],
   "source": [
    "metrics_dict = dict(\n",
    "    BAS=balanced_accuracy_score(y_true=df_pred_test.y_true_code, y_pred=df_pred_test.y_pred), WF1=f1_score(y_true=df_pred_test.y_true_code, y_pred=df_pred_test.y_pred,average='weighted'))"
   ]
  },
  {
   "cell_type": "code",
   "execution_count": 26,
   "id": "42f697fc",
   "metadata": {
    "execution": {
     "iopub.execute_input": "2025-05-15T16:25:58.475455Z",
     "iopub.status.busy": "2025-05-15T16:25:58.475127Z",
     "iopub.status.idle": "2025-05-15T16:25:58.477850Z",
     "shell.execute_reply": "2025-05-15T16:25:58.477535Z"
    },
    "papermill": {
     "duration": 0.012458,
     "end_time": "2025-05-15T16:25:58.478747",
     "exception": false,
     "start_time": "2025-05-15T16:25:58.466289",
     "status": "completed"
    },
    "tags": []
   },
   "outputs": [
    {
     "data": {
      "text/plain": [
       "{'BAS': 0.6767023181987291, 'WF1': 0.8313734025212084}"
      ]
     },
     "execution_count": 26,
     "metadata": {},
     "output_type": "execute_result"
    }
   ],
   "source": [
    "metrics_dict"
   ]
  },
  {
   "cell_type": "code",
   "execution_count": 27,
   "id": "a74373ee",
   "metadata": {
    "execution": {
     "iopub.execute_input": "2025-05-15T16:25:58.496917Z",
     "iopub.status.busy": "2025-05-15T16:25:58.496644Z",
     "iopub.status.idle": "2025-05-15T16:25:58.504111Z",
     "shell.execute_reply": "2025-05-15T16:25:58.503819Z"
    },
    "papermill": {
     "duration": 0.017321,
     "end_time": "2025-05-15T16:25:58.504915",
     "exception": false,
     "start_time": "2025-05-15T16:25:58.487594",
     "status": "completed"
    },
    "tags": []
   },
   "outputs": [
    {
     "data": {
      "text/html": [
       "<div>\n",
       "<style scoped>\n",
       "    .dataframe tbody tr th:only-of-type {\n",
       "        vertical-align: middle;\n",
       "    }\n",
       "\n",
       "    .dataframe tbody tr th {\n",
       "        vertical-align: top;\n",
       "    }\n",
       "\n",
       "    .dataframe thead th {\n",
       "        text-align: right;\n",
       "    }\n",
       "</style>\n",
       "<table border=\"1\" class=\"dataframe\">\n",
       "  <thead>\n",
       "    <tr style=\"text-align: right;\">\n",
       "      <th></th>\n",
       "      <th>BAS</th>\n",
       "      <th>WF1</th>\n",
       "      <th>split_idx</th>\n",
       "      <th>gene_set_seed</th>\n",
       "      <th>cell_type</th>\n",
       "    </tr>\n",
       "  </thead>\n",
       "  <tbody>\n",
       "    <tr>\n",
       "      <th>0</th>\n",
       "      <td>0.676702</td>\n",
       "      <td>0.831373</td>\n",
       "      <td>4</td>\n",
       "      <td>15</td>\n",
       "      <td>T_CD4_NonNaive</td>\n",
       "    </tr>\n",
       "  </tbody>\n",
       "</table>\n",
       "</div>"
      ],
      "text/plain": [
       "        BAS       WF1  split_idx  gene_set_seed       cell_type\n",
       "0  0.676702  0.831373          4             15  T_CD4_NonNaive"
      ]
     },
     "execution_count": 27,
     "metadata": {},
     "output_type": "execute_result"
    }
   ],
   "source": [
    "metrics_df = pd.DataFrame.from_dict([metrics_dict]).assign(split_idx=TEST_SPLIT_IDX, gene_set_seed=SEED, cell_type=CELL_TYPE)\n",
    "metrics_df"
   ]
  },
  {
   "cell_type": "code",
   "execution_count": 28,
   "id": "2392139c",
   "metadata": {
    "execution": {
     "iopub.execute_input": "2025-05-15T16:25:58.522672Z",
     "iopub.status.busy": "2025-05-15T16:25:58.522482Z",
     "iopub.status.idle": "2025-05-15T16:25:58.529819Z",
     "shell.execute_reply": "2025-05-15T16:25:58.529530Z"
    },
    "papermill": {
     "duration": 0.017156,
     "end_time": "2025-05-15T16:25:58.530679",
     "exception": false,
     "start_time": "2025-05-15T16:25:58.513523",
     "status": "completed"
    },
    "tags": []
   },
   "outputs": [],
   "source": [
    "out_dir = here(f'03_downstream_analysis/08_gene_importance/xgboost_external_validation/xgboost_TopN_genes/results_{N_GENES}/metrics')\n",
    "\n",
    "if not os.path.exists(out_dir):\n",
    "    os.makedirs(out_dir)\n",
    "    \n",
    "metrics_df.to_csv(os.path.join(out_dir, f'{CELL_TYPE}_{SEED}_{TEST_SPLIT_IDX}_metrics.zip'))"
   ]
  }
 ],
 "metadata": {
  "kernelspec": {
   "display_name": "Python 3 (ipykernel)",
   "language": "python",
   "name": "python3"
  },
  "language_info": {
   "codemirror_mode": {
    "name": "ipython",
    "version": 3
   },
   "file_extension": ".py",
   "mimetype": "text/x-python",
   "name": "python",
   "nbconvert_exporter": "python",
   "pygments_lexer": "ipython3",
   "version": "3.12.5"
  },
  "papermill": {
   "default_parameters": {},
   "duration": 1362.918218,
   "end_time": "2025-05-15T16:25:59.055698",
   "environment_variables": {},
   "exception": null,
   "input_path": "02_xgboost_fitting_external_20genes.ipynb",
   "output_path": "results_20/executed_notebooks/xgboost_fitting_external_CT_T_CD4_NonNaive_GS_15_seed4.ipynb",
   "parameters": {
    "CELL_TYPE": "T_CD4_NonNaive",
    "SEED": 15,
    "TEST_SPLIT_IDX": 4
   },
   "start_time": "2025-05-15T16:03:16.137480",
   "version": "2.6.0"
  }
 },
 "nbformat": 4,
 "nbformat_minor": 5
}