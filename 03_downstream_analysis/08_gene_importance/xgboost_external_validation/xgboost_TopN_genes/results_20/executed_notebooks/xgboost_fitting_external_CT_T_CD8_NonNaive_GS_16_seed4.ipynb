{
 "cells": [
  {
   "cell_type": "code",
   "execution_count": 1,
   "id": "7e4da7c5",
   "metadata": {
    "editable": true,
    "execution": {
     "iopub.execute_input": "2025-05-15T16:08:22.823445Z",
     "iopub.status.busy": "2025-05-15T16:08:22.823047Z",
     "iopub.status.idle": "2025-05-15T16:08:22.825991Z",
     "shell.execute_reply": "2025-05-15T16:08:22.825676Z"
    },
    "papermill": {
     "duration": 0.012002,
     "end_time": "2025-05-15T16:08:22.826922",
     "exception": false,
     "start_time": "2025-05-15T16:08:22.814920",
     "status": "completed"
    },
    "slideshow": {
     "slide_type": ""
    },
    "tags": [
     "parameters"
    ]
   },
   "outputs": [],
   "source": [
    "CELL_TYPE = 'pDC'\n",
    "N_GENES: int = 20\n",
    "SEED = 'shap_studyID' #'disease_NOstudy' 'study_NOdisease' or 'int' or 'shap_studyID'\n",
    "TEST_SPLIT_IDX: int = 1 #[0,4]"
   ]
  },
  {
   "cell_type": "code",
   "execution_count": 2,
   "id": "470291bf",
   "metadata": {
    "execution": {
     "iopub.execute_input": "2025-05-15T16:08:22.838301Z",
     "iopub.status.busy": "2025-05-15T16:08:22.838091Z",
     "iopub.status.idle": "2025-05-15T16:08:22.840218Z",
     "shell.execute_reply": "2025-05-15T16:08:22.839909Z"
    },
    "papermill": {
     "duration": 0.008613,
     "end_time": "2025-05-15T16:08:22.841004",
     "exception": false,
     "start_time": "2025-05-15T16:08:22.832391",
     "status": "completed"
    },
    "tags": [
     "injected-parameters"
    ]
   },
   "outputs": [],
   "source": [
    "# Parameters\n",
    "CELL_TYPE = \"T_CD8_NonNaive\"\n",
    "SEED = 16\n",
    "TEST_SPLIT_IDX = 4\n"
   ]
  },
  {
   "cell_type": "code",
   "execution_count": 3,
   "id": "26992067",
   "metadata": {
    "execution": {
     "iopub.execute_input": "2025-05-15T16:08:22.851889Z",
     "iopub.status.busy": "2025-05-15T16:08:22.851563Z",
     "iopub.status.idle": "2025-05-15T16:08:22.853620Z",
     "shell.execute_reply": "2025-05-15T16:08:22.853323Z"
    },
    "papermill": {
     "duration": 0.008279,
     "end_time": "2025-05-15T16:08:22.854434",
     "exception": false,
     "start_time": "2025-05-15T16:08:22.846155",
     "status": "completed"
    },
    "tags": []
   },
   "outputs": [],
   "source": [
    "N_SPLITS: int = 5\n",
    "N_TRIALS: int = 50"
   ]
  },
  {
   "cell_type": "code",
   "execution_count": 4,
   "id": "9bb1149f",
   "metadata": {
    "execution": {
     "iopub.execute_input": "2025-05-15T16:08:22.866092Z",
     "iopub.status.busy": "2025-05-15T16:08:22.865883Z",
     "iopub.status.idle": "2025-05-15T16:08:24.344064Z",
     "shell.execute_reply": "2025-05-15T16:08:24.343578Z"
    },
    "papermill": {
     "duration": 1.486104,
     "end_time": "2025-05-15T16:08:24.345373",
     "exception": false,
     "start_time": "2025-05-15T16:08:22.859269",
     "status": "completed"
    },
    "tags": []
   },
   "outputs": [],
   "source": [
    "import os\n",
    "import sys\n",
    "from pyprojroot.here import here\n",
    "import pandas as pd\n",
    "import anndata as ad\n",
    "import numpy as np\n",
    "import math\n",
    "from sklearn.model_selection import StratifiedGroupKFold\n",
    "from sklearn.preprocessing import LabelEncoder\n",
    "from sklearn.metrics import f1_score\n",
    "import matplotlib.pyplot as plt\n",
    "import seaborn as sns\n",
    "from itertools import product\n",
    "from sklearn.metrics import balanced_accuracy_score, f1_score\n",
    "import optuna\n",
    "\n",
    "import joblib\n",
    "import pickle\n",
    "import datetime\n",
    "\n",
    "import collections\n",
    "\n",
    "import xgboost\n",
    "from sklearn.preprocessing import LabelEncoder\n",
    "\n",
    "import scipy.sparse as ssp\n",
    "import joblib\n",
    "\n",
    "from dotenv import load_dotenv"
   ]
  },
  {
   "cell_type": "code",
   "execution_count": 5,
   "id": "05d44994",
   "metadata": {
    "execution": {
     "iopub.execute_input": "2025-05-15T16:08:24.357545Z",
     "iopub.status.busy": "2025-05-15T16:08:24.357205Z",
     "iopub.status.idle": "2025-05-15T16:08:24.362879Z",
     "shell.execute_reply": "2025-05-15T16:08:24.362574Z"
    },
    "papermill": {
     "duration": 0.012554,
     "end_time": "2025-05-15T16:08:24.363703",
     "exception": false,
     "start_time": "2025-05-15T16:08:24.351149",
     "status": "completed"
    },
    "tags": []
   },
   "outputs": [
    {
     "data": {
      "text/plain": [
       "True"
      ]
     },
     "execution_count": 5,
     "metadata": {},
     "output_type": "execute_result"
    }
   ],
   "source": [
    "load_dotenv()"
   ]
  },
  {
   "cell_type": "markdown",
   "id": "51d8e0ec",
   "metadata": {
    "papermill": {
     "duration": 0.005159,
     "end_time": "2025-05-15T16:08:24.374227",
     "exception": false,
     "start_time": "2025-05-15T16:08:24.369068",
     "status": "completed"
    },
    "tags": []
   },
   "source": [
    "# LOAD DATASET"
   ]
  },
  {
   "cell_type": "code",
   "execution_count": 6,
   "id": "cfdd92d4",
   "metadata": {
    "execution": {
     "iopub.execute_input": "2025-05-15T16:08:24.386077Z",
     "iopub.status.busy": "2025-05-15T16:08:24.385747Z",
     "iopub.status.idle": "2025-05-15T16:08:24.822455Z",
     "shell.execute_reply": "2025-05-15T16:08:24.821934Z"
    },
    "papermill": {
     "duration": 0.443939,
     "end_time": "2025-05-15T16:08:24.823784",
     "exception": false,
     "start_time": "2025-05-15T16:08:24.379845",
     "status": "completed"
    },
    "tags": []
   },
   "outputs": [],
   "source": [
    "train_adata = ad.read_h5ad(\n",
    "    here(f'03_downstream_analysis/08_gene_importance/xgboost_external_validation/xgboost_TopN_genes/data_cellTypes/EXTERNAL_{CELL_TYPE}.filtered.log1p.h5ad')\n",
    ")"
   ]
  },
  {
   "cell_type": "code",
   "execution_count": 7,
   "id": "13018679",
   "metadata": {
    "execution": {
     "iopub.execute_input": "2025-05-15T16:08:24.836102Z",
     "iopub.status.busy": "2025-05-15T16:08:24.835898Z",
     "iopub.status.idle": "2025-05-15T16:08:24.860451Z",
     "shell.execute_reply": "2025-05-15T16:08:24.860050Z"
    },
    "papermill": {
     "duration": 0.031531,
     "end_time": "2025-05-15T16:08:24.861415",
     "exception": false,
     "start_time": "2025-05-15T16:08:24.829884",
     "status": "completed"
    },
    "tags": []
   },
   "outputs": [
    {
     "name": "stdout",
     "output_type": "stream",
     "text": [
      "['ENSG00000254087' 'ENSG00000128524' 'ENSG00000065978' 'ENSG00000143774'\n",
      " 'ENSG00000162739' 'ENSG00000066294' 'ENSG00000123416' 'ENSG00000160255'\n",
      " 'ENSG00000179218' 'ENSG00000204843' 'ENSG00000186810' 'ENSG00000152700'\n",
      " 'ENSG00000122705' 'ENSG00000157514' 'ENSG00000066136' 'ENSG00000163660'\n",
      " 'ENSG00000120742' 'ENSG00000145220' 'ENSG00000227507' 'ENSG00000079616'\n",
      " 'ENSG00000271503' 'ENSG00000264364' 'ENSG00000170989' 'ENSG00000136156'\n",
      " 'ENSG00000157601' 'ENSG00000004468' 'ENSG00000152778' 'ENSG00000171791'\n",
      " 'ENSG00000132002' 'ENSG00000188313' 'ENSG00000085265' 'ENSG00000204267'\n",
      " 'ENSG00000163513' 'ENSG00000183508' 'ENSG00000141367' 'ENSG00000117523'\n",
      " 'ENSG00000265972' 'ENSG00000111348' 'ENSG00000198846' 'ENSG00000140379'\n",
      " 'ENSG00000184752' 'ENSG00000105373' 'ENSG00000175482' 'ENSG00000081059'\n",
      " 'ENSG00000277632' 'ENSG00000072958' 'ENSG00000145287' 'ENSG00000197471'\n",
      " 'ENSG00000101474' 'ENSG00000135114' 'ENSG00000090863' 'ENSG00000117984'\n",
      " 'ENSG00000106803' 'ENSG00000160075' 'ENSG00000133639' 'ENSG00000099204'\n",
      " 'ENSG00000111335' 'ENSG00000090266' 'ENSG00000090554' 'ENSG00000160710'\n",
      " 'ENSG00000109321' 'ENSG00000101695' 'ENSG00000203747' 'ENSG00000205220'\n",
      " 'ENSG00000148908' 'ENSG00000071073' 'ENSG00000109787' 'ENSG00000005844'\n",
      " 'ENSG00000131143' 'ENSG00000166747' 'ENSG00000163931' 'ENSG00000158869'\n",
      " 'ENSG00000009790' 'ENSG00000237541' 'ENSG00000172183' 'ENSG00000142669'\n",
      " 'ENSG00000177721' 'ENSG00000169442' 'ENSG00000160932' 'ENSG00000215788'\n",
      " 'ENSG00000002586' 'ENSG00000137100' 'ENSG00000172005' 'ENSG00000126264'\n",
      " 'ENSG00000184007' 'ENSG00000030110' 'ENSG00000240065' 'ENSG00000254772'\n",
      " 'ENSG00000028137' 'ENSG00000179094' 'ENSG00000164543' 'ENSG00000104998'\n",
      " 'ENSG00000100100' 'ENSG00000002549' 'ENSG00000122359' 'ENSG00000204482'\n",
      " 'ENSG00000100453' 'ENSG00000228474' 'ENSG00000153898' 'ENSG00000100385'\n",
      " 'ENSG00000229474' 'ENSG00000117281' 'ENSG00000223865' 'ENSG00000205810']\n"
     ]
    }
   ],
   "source": [
    "if SEED != 'all':\n",
    "    gene_subset = np.load(here(f'03_downstream_analysis/08_gene_importance/xgboost_external_validation/shap_gene_selection/gene_subsets_{N_GENES}/{CELL_TYPE}_{SEED}.npy'), allow_pickle=True)\n",
    "    train_adata = train_adata[:,gene_subset]\n",
    "    print(gene_subset)\n",
    "elif SEED == 'all':\n",
    "    print('Using all genes')\n",
    "else:\n",
    "    raise ValueError()"
   ]
  },
  {
   "cell_type": "code",
   "execution_count": 8,
   "id": "41371483",
   "metadata": {
    "execution": {
     "iopub.execute_input": "2025-05-15T16:08:24.875158Z",
     "iopub.status.busy": "2025-05-15T16:08:24.874714Z",
     "iopub.status.idle": "2025-05-15T16:08:24.878051Z",
     "shell.execute_reply": "2025-05-15T16:08:24.877724Z"
    },
    "papermill": {
     "duration": 0.010971,
     "end_time": "2025-05-15T16:08:24.878904",
     "exception": false,
     "start_time": "2025-05-15T16:08:24.867933",
     "status": "completed"
    },
    "tags": []
   },
   "outputs": [
    {
     "data": {
      "text/plain": [
       "(72200, 104)"
      ]
     },
     "execution_count": 8,
     "metadata": {},
     "output_type": "execute_result"
    }
   ],
   "source": [
    "train_adata.shape"
   ]
  },
  {
   "cell_type": "code",
   "execution_count": 9,
   "id": "6291f120",
   "metadata": {
    "execution": {
     "iopub.execute_input": "2025-05-15T16:08:24.891313Z",
     "iopub.status.busy": "2025-05-15T16:08:24.891073Z",
     "iopub.status.idle": "2025-05-15T16:08:24.895362Z",
     "shell.execute_reply": "2025-05-15T16:08:24.895035Z"
    },
    "papermill": {
     "duration": 0.011488,
     "end_time": "2025-05-15T16:08:24.896269",
     "exception": false,
     "start_time": "2025-05-15T16:08:24.884781",
     "status": "completed"
    },
    "tags": []
   },
   "outputs": [
    {
     "data": {
      "text/plain": [
       "['RA', 'COVID', 'healthy', 'HIV', 'cirrhosis', 'CD', 'SLE', 'sepsis']\n",
       "Categories (8, object): ['CD', 'COVID', 'HIV', 'RA', 'SLE', 'cirrhosis', 'healthy', 'sepsis']"
      ]
     },
     "execution_count": 9,
     "metadata": {},
     "output_type": "execute_result"
    }
   ],
   "source": [
    "train_adata.obs.disease.unique()"
   ]
  },
  {
   "cell_type": "code",
   "execution_count": 10,
   "id": "094a0663",
   "metadata": {
    "execution": {
     "iopub.execute_input": "2025-05-15T16:08:24.909131Z",
     "iopub.status.busy": "2025-05-15T16:08:24.908874Z",
     "iopub.status.idle": "2025-05-15T16:08:24.913515Z",
     "shell.execute_reply": "2025-05-15T16:08:24.913189Z"
    },
    "papermill": {
     "duration": 0.011928,
     "end_time": "2025-05-15T16:08:24.914378",
     "exception": false,
     "start_time": "2025-05-15T16:08:24.902450",
     "status": "completed"
    },
    "tags": []
   },
   "outputs": [
    {
     "data": {
      "text/plain": [
       "['SCGT00val_I036016_T0', 'SCGT00val_I036021_T0', 'SCGT00val_I036028_T0', 'SCGT00val_I036015_T0', 'SCGT00val_I0364_T0', ..., '10XGenomics_10XHC2_T0', '10XGenomics_10XHC3_T0', '10XGenomics_10XHC5_T0', '10XGenomics_10XHC7_T0', '10XGenomics_10XHC8_T0']\n",
       "Length: 86\n",
       "Categories (86, object): ['10XGenomics_10XHC1_T0', '10XGenomics_10XHC2_T0', '10XGenomics_10XHC3_T0', '10XGenomics_10XHC4_T0', ..., 'Savage2021_BRISL6_T0', 'Savage2021_BRISL7_T0', 'Savage2021_PIDA_T0', 'Savage2021_PIDB_T0']"
      ]
     },
     "execution_count": 10,
     "metadata": {},
     "output_type": "execute_result"
    }
   ],
   "source": [
    "train_adata.obs.sampleID.unique()"
   ]
  },
  {
   "cell_type": "code",
   "execution_count": 11,
   "id": "3cf67f11",
   "metadata": {
    "execution": {
     "iopub.execute_input": "2025-05-15T16:08:24.926773Z",
     "iopub.status.busy": "2025-05-15T16:08:24.926495Z",
     "iopub.status.idle": "2025-05-15T16:08:25.117458Z",
     "shell.execute_reply": "2025-05-15T16:08:25.116971Z"
    },
    "papermill": {
     "duration": 0.198528,
     "end_time": "2025-05-15T16:08:25.118687",
     "exception": false,
     "start_time": "2025-05-15T16:08:24.920159",
     "status": "completed"
    },
    "tags": []
   },
   "outputs": [],
   "source": [
    "all_idxs = np.arange(train_adata.obs.shape[0])\n",
    "left_out_splits = [s[1] for s in StratifiedGroupKFold(n_splits=N_SPLITS).split(all_idxs, train_adata.obs.disease, train_adata.obs.sampleID)]"
   ]
  },
  {
   "cell_type": "code",
   "execution_count": 12,
   "id": "ec48e4de",
   "metadata": {
    "execution": {
     "iopub.execute_input": "2025-05-15T16:08:25.131096Z",
     "iopub.status.busy": "2025-05-15T16:08:25.130723Z",
     "iopub.status.idle": "2025-05-15T16:08:25.134255Z",
     "shell.execute_reply": "2025-05-15T16:08:25.133947Z"
    },
    "papermill": {
     "duration": 0.010419,
     "end_time": "2025-05-15T16:08:25.135085",
     "exception": false,
     "start_time": "2025-05-15T16:08:25.124666",
     "status": "completed"
    },
    "tags": []
   },
   "outputs": [
    {
     "data": {
      "text/plain": [
       "([1, 2, 3], 0, 4)"
      ]
     },
     "execution_count": 12,
     "metadata": {},
     "output_type": "execute_result"
    }
   ],
   "source": [
    "TRAIN_SPLIT_IDXS = [0,1,2,3,4]\n",
    "VAL_SPLIT_IDX = (TEST_SPLIT_IDX + 1) % 5\n",
    "TRAIN_SPLIT_IDXS.remove(TEST_SPLIT_IDX)\n",
    "TRAIN_SPLIT_IDXS.remove(VAL_SPLIT_IDX)\n",
    "TRAIN_SPLIT_IDXS, VAL_SPLIT_IDX, TEST_SPLIT_IDX"
   ]
  },
  {
   "cell_type": "code",
   "execution_count": 13,
   "id": "9c0da216",
   "metadata": {
    "execution": {
     "iopub.execute_input": "2025-05-15T16:08:25.147183Z",
     "iopub.status.busy": "2025-05-15T16:08:25.146990Z",
     "iopub.status.idle": "2025-05-15T16:08:25.149768Z",
     "shell.execute_reply": "2025-05-15T16:08:25.149470Z"
    },
    "papermill": {
     "duration": 0.009774,
     "end_time": "2025-05-15T16:08:25.150629",
     "exception": false,
     "start_time": "2025-05-15T16:08:25.140855",
     "status": "completed"
    },
    "tags": []
   },
   "outputs": [],
   "source": [
    "train_idxs = np.concatenate([left_out_splits[idx] for idx in TRAIN_SPLIT_IDXS])\n",
    "val_idxs = left_out_splits[VAL_SPLIT_IDX]\n",
    "test_idxs = left_out_splits[TEST_SPLIT_IDX]"
   ]
  },
  {
   "cell_type": "markdown",
   "id": "ec9c2c3b",
   "metadata": {
    "papermill": {
     "duration": 0.005574,
     "end_time": "2025-05-15T16:08:25.162070",
     "exception": false,
     "start_time": "2025-05-15T16:08:25.156496",
     "status": "completed"
    },
    "tags": []
   },
   "source": [
    "### SUBSET DATASET INTO TRAIN/TEST/VAL SPLITS"
   ]
  },
  {
   "cell_type": "code",
   "execution_count": 14,
   "id": "5bf44b47",
   "metadata": {
    "execution": {
     "iopub.execute_input": "2025-05-15T16:08:25.173874Z",
     "iopub.status.busy": "2025-05-15T16:08:25.173637Z",
     "iopub.status.idle": "2025-05-15T16:08:25.333374Z",
     "shell.execute_reply": "2025-05-15T16:08:25.332979Z"
    },
    "papermill": {
     "duration": 0.166557,
     "end_time": "2025-05-15T16:08:25.334296",
     "exception": false,
     "start_time": "2025-05-15T16:08:25.167739",
     "status": "completed"
    },
    "tags": []
   },
   "outputs": [
    {
     "data": {
      "text/plain": [
       "((43094, 104), (13999, 104), (15107, 104))"
      ]
     },
     "execution_count": 14,
     "metadata": {},
     "output_type": "execute_result"
    }
   ],
   "source": [
    "X_train = train_adata.X[train_idxs]\n",
    "X_test = train_adata.X[test_idxs]\n",
    "X_val = train_adata.X[val_idxs]\n",
    "X_train.shape, X_test.shape, X_val.shape"
   ]
  },
  {
   "cell_type": "code",
   "execution_count": 15,
   "id": "1cf2333d",
   "metadata": {
    "execution": {
     "iopub.execute_input": "2025-05-15T16:08:25.348392Z",
     "iopub.status.busy": "2025-05-15T16:08:25.347719Z",
     "iopub.status.idle": "2025-05-15T16:08:25.358275Z",
     "shell.execute_reply": "2025-05-15T16:08:25.357859Z"
    },
    "papermill": {
     "duration": 0.018187,
     "end_time": "2025-05-15T16:08:25.359224",
     "exception": false,
     "start_time": "2025-05-15T16:08:25.341037",
     "status": "completed"
    },
    "tags": []
   },
   "outputs": [
    {
     "data": {
      "text/plain": [
       "((43094,), (13999,), (15107,))"
      ]
     },
     "execution_count": 15,
     "metadata": {},
     "output_type": "execute_result"
    }
   ],
   "source": [
    "y_train = train_adata.obs.iloc[train_idxs].disease.values.astype(str)\n",
    "y_test = train_adata.obs.iloc[test_idxs].disease.values.astype(str)\n",
    "y_val = train_adata.obs.iloc[val_idxs].disease.values.astype(str)\n",
    "y_train.shape, y_test.shape, y_val.shape"
   ]
  },
  {
   "cell_type": "code",
   "execution_count": 16,
   "id": "510f651d",
   "metadata": {
    "execution": {
     "iopub.execute_input": "2025-05-15T16:08:25.372254Z",
     "iopub.status.busy": "2025-05-15T16:08:25.371978Z",
     "iopub.status.idle": "2025-05-15T16:08:25.390127Z",
     "shell.execute_reply": "2025-05-15T16:08:25.389683Z"
    },
    "papermill": {
     "duration": 0.025863,
     "end_time": "2025-05-15T16:08:25.391267",
     "exception": false,
     "start_time": "2025-05-15T16:08:25.365404",
     "status": "completed"
    },
    "tags": []
   },
   "outputs": [],
   "source": [
    "lenc = LabelEncoder()\n",
    "y_train_enc = lenc.fit_transform(y_train)\n",
    "y_val_enc = lenc.transform(y_val)\n",
    "y_test_enc = lenc.transform(y_test)"
   ]
  },
  {
   "cell_type": "markdown",
   "id": "157d68d6",
   "metadata": {
    "papermill": {
     "duration": 0.006204,
     "end_time": "2025-05-15T16:08:25.404286",
     "exception": false,
     "start_time": "2025-05-15T16:08:25.398082",
     "status": "completed"
    },
    "tags": []
   },
   "source": [
    "### GENERATE F1 "
   ]
  },
  {
   "cell_type": "code",
   "execution_count": 17,
   "id": "208a1265",
   "metadata": {
    "execution": {
     "iopub.execute_input": "2025-05-15T16:08:25.418301Z",
     "iopub.status.busy": "2025-05-15T16:08:25.417978Z",
     "iopub.status.idle": "2025-05-15T16:08:25.420740Z",
     "shell.execute_reply": "2025-05-15T16:08:25.420402Z"
    },
    "papermill": {
     "duration": 0.010745,
     "end_time": "2025-05-15T16:08:25.421663",
     "exception": false,
     "start_time": "2025-05-15T16:08:25.410918",
     "status": "completed"
    },
    "tags": []
   },
   "outputs": [],
   "source": [
    "def custom_f1_score(y_true, y_pred):\n",
    "    return -f1_score(y_true, y_pred.argmax(1), average='weighted')"
   ]
  },
  {
   "cell_type": "code",
   "execution_count": 18,
   "id": "13665785",
   "metadata": {
    "execution": {
     "iopub.execute_input": "2025-05-15T16:08:25.433960Z",
     "iopub.status.busy": "2025-05-15T16:08:25.433665Z",
     "iopub.status.idle": "2025-05-15T16:08:25.437476Z",
     "shell.execute_reply": "2025-05-15T16:08:25.437119Z"
    },
    "papermill": {
     "duration": 0.01101,
     "end_time": "2025-05-15T16:08:25.438440",
     "exception": false,
     "start_time": "2025-05-15T16:08:25.427430",
     "status": "completed"
    },
    "tags": []
   },
   "outputs": [],
   "source": [
    "eval_metric=custom_f1_score\n",
    "eval_metric_name='custom_f1_score'\n",
    "\n",
    "def objective(trial):\n",
    "    params = {\n",
    "        'n_estimators': 1500,\n",
    "        'max_depth': trial.suggest_int('max_depth', 3, 20),\n",
    "        'min_child_weight': trial.suggest_int('min_child_weight', 1, 250),\n",
    "        'subsample': trial.suggest_float('subsample', 0.1, 1.0),\n",
    "        'colsample_bynode': trial.suggest_float('colsample_bynode', 0.1, 1.0),\n",
    "        'learning_rate': trial.suggest_float('learning_rate', 1e-3, 5e-1, log=True),\n",
    "    }\n",
    "    pruning_callback = optuna.integration.XGBoostPruningCallback(trial, f'validation_0-{eval_metric_name}')\n",
    "    es_callback = xgboost.callback.EarlyStopping(20, min_delta=0.001)\n",
    "    xgb = xgboost.XGBClassifier(\n",
    "        eval_metric=eval_metric,\n",
    "        callbacks=[pruning_callback, es_callback],\n",
    "        n_jobs=5,\n",
    "        **params\n",
    "    )\n",
    "    xgb.fit(\n",
    "        X_train, \n",
    "        y_train_enc, \n",
    "        verbose=0,\n",
    "        eval_set=[(X_val, y_val_enc)],\n",
    "    )\n",
    "    trial.set_user_attr('best_iteration', xgb.best_iteration)\n",
    "\n",
    "    return xgb.best_score"
   ]
  },
  {
   "cell_type": "code",
   "execution_count": 19,
   "id": "e7252b4b",
   "metadata": {
    "execution": {
     "iopub.execute_input": "2025-05-15T16:08:25.453066Z",
     "iopub.status.busy": "2025-05-15T16:08:25.452815Z",
     "iopub.status.idle": "2025-05-15T16:16:31.836723Z",
     "shell.execute_reply": "2025-05-15T16:16:31.836288Z"
    },
    "papermill": {
     "duration": 486.392329,
     "end_time": "2025-05-15T16:16:31.837764",
     "exception": false,
     "start_time": "2025-05-15T16:08:25.445435",
     "status": "completed"
    },
    "scrolled": true,
    "tags": []
   },
   "outputs": [
    {
     "name": "stderr",
     "output_type": "stream",
     "text": [
      "[I 2025-05-15 18:08:25,454] A new study created in memory with name: no-name-90809867-c931-49f7-9edb-0e8b4fbb7149\n"
     ]
    },
    {
     "name": "stderr",
     "output_type": "stream",
     "text": [
      "[I 2025-05-15 18:08:28,840] Trial 0 finished with value: -0.618568 and parameters: {'max_depth': 9, 'min_child_weight': 238, 'subsample': 0.7587945476302645, 'colsample_bynode': 0.6387926357773329, 'learning_rate': 0.0026368755339723046}. Best is trial 0 with value: -0.618568.\n"
     ]
    },
    {
     "name": "stderr",
     "output_type": "stream",
     "text": [
      "[I 2025-05-15 18:09:00,047] Trial 1 finished with value: -0.777166 and parameters: {'max_depth': 5, 'min_child_weight': 15, 'subsample': 0.8795585311974417, 'colsample_bynode': 0.6410035105688879, 'learning_rate': 0.08148293210105287}. Best is trial 1 with value: -0.777166.\n"
     ]
    },
    {
     "name": "stderr",
     "output_type": "stream",
     "text": [
      "[I 2025-05-15 18:09:02,810] Trial 2 finished with value: -0.533355 and parameters: {'max_depth': 3, 'min_child_weight': 243, 'subsample': 0.8491983767203796, 'colsample_bynode': 0.29110519961044856, 'learning_rate': 0.003095566460242371}. Best is trial 1 with value: -0.777166.\n"
     ]
    },
    {
     "name": "stderr",
     "output_type": "stream",
     "text": [
      "[I 2025-05-15 18:10:18,016] Trial 3 finished with value: -0.722763 and parameters: {'max_depth': 6, 'min_child_weight': 77, 'subsample': 0.5722807884690141, 'colsample_bynode': 0.48875051677790415, 'learning_rate': 0.006109683510122491}. Best is trial 1 with value: -0.777166.\n"
     ]
    },
    {
     "name": "stderr",
     "output_type": "stream",
     "text": [
      "[I 2025-05-15 18:11:32,259] Trial 4 finished with value: -0.773034 and parameters: {'max_depth': 14, 'min_child_weight': 35, 'subsample': 0.3629301836816964, 'colsample_bynode': 0.4297256589643226, 'learning_rate': 0.01701841881702917}. Best is trial 1 with value: -0.777166.\n"
     ]
    },
    {
     "name": "stderr",
     "output_type": "stream",
     "text": [
      "[I 2025-05-15 18:11:37,302] Trial 5 pruned. Trial was pruned at iteration 22.\n"
     ]
    },
    {
     "name": "stderr",
     "output_type": "stream",
     "text": [
      "[I 2025-05-15 18:11:37,732] Trial 6 pruned. Trial was pruned at iteration 0.\n"
     ]
    },
    {
     "name": "stderr",
     "output_type": "stream",
     "text": [
      "[I 2025-05-15 18:11:38,127] Trial 7 pruned. Trial was pruned at iteration 0.\n"
     ]
    },
    {
     "name": "stderr",
     "output_type": "stream",
     "text": [
      "[I 2025-05-15 18:11:38,511] Trial 8 pruned. Trial was pruned at iteration 0.\n"
     ]
    },
    {
     "name": "stderr",
     "output_type": "stream",
     "text": [
      "[I 2025-05-15 18:11:39,173] Trial 9 pruned. Trial was pruned at iteration 1.\n"
     ]
    },
    {
     "name": "stderr",
     "output_type": "stream",
     "text": [
      "[I 2025-05-15 18:11:39,747] Trial 10 pruned. Trial was pruned at iteration 0.\n"
     ]
    },
    {
     "name": "stderr",
     "output_type": "stream",
     "text": [
      "[I 2025-05-15 18:12:28,306] Trial 11 finished with value: -0.778833 and parameters: {'max_depth': 10, 'min_child_weight': 3, 'subsample': 0.34014304150377095, 'colsample_bynode': 0.40131565860091256, 'learning_rate': 0.057899203666416425}. Best is trial 11 with value: -0.778833.\n"
     ]
    },
    {
     "name": "stderr",
     "output_type": "stream",
     "text": [
      "[I 2025-05-15 18:13:02,359] Trial 12 finished with value: -0.777309 and parameters: {'max_depth': 8, 'min_child_weight': 3, 'subsample': 0.3693916175642251, 'colsample_bynode': 0.351751713087183, 'learning_rate': 0.07220195396446884}. Best is trial 11 with value: -0.778833.\n"
     ]
    },
    {
     "name": "stderr",
     "output_type": "stream",
     "text": [
      "[I 2025-05-15 18:13:02,714] Trial 13 pruned. Trial was pruned at iteration 0.\n"
     ]
    },
    {
     "name": "stderr",
     "output_type": "stream",
     "text": [
      "[I 2025-05-15 18:13:03,071] Trial 14 pruned. Trial was pruned at iteration 0.\n"
     ]
    },
    {
     "name": "stderr",
     "output_type": "stream",
     "text": [
      "[I 2025-05-15 18:13:41,315] Trial 15 finished with value: -0.774187 and parameters: {'max_depth': 20, 'min_child_weight': 2, 'subsample': 0.27832770865353873, 'colsample_bynode': 0.17061614647010237, 'learning_rate': 0.10438411522099604}. Best is trial 11 with value: -0.778833.\n"
     ]
    },
    {
     "name": "stderr",
     "output_type": "stream",
     "text": [
      "[I 2025-05-15 18:13:41,693] Trial 16 pruned. Trial was pruned at iteration 0.\n"
     ]
    },
    {
     "name": "stderr",
     "output_type": "stream",
     "text": [
      "[I 2025-05-15 18:13:42,045] Trial 17 pruned. Trial was pruned at iteration 0.\n"
     ]
    },
    {
     "name": "stderr",
     "output_type": "stream",
     "text": [
      "[I 2025-05-15 18:13:47,618] Trial 18 pruned. Trial was pruned at iteration 22.\n"
     ]
    },
    {
     "name": "stderr",
     "output_type": "stream",
     "text": [
      "[I 2025-05-15 18:13:47,942] Trial 19 pruned. Trial was pruned at iteration 0.\n"
     ]
    },
    {
     "name": "stderr",
     "output_type": "stream",
     "text": [
      "[I 2025-05-15 18:14:01,140] Trial 20 finished with value: -0.775236 and parameters: {'max_depth': 13, 'min_child_weight': 60, 'subsample': 0.6483339605894612, 'colsample_bynode': 0.3771398643019687, 'learning_rate': 0.14635034057613103}. Best is trial 11 with value: -0.778833.\n"
     ]
    },
    {
     "name": "stderr",
     "output_type": "stream",
     "text": [
      "[I 2025-05-15 18:14:01,481] Trial 21 pruned. Trial was pruned at iteration 0.\n"
     ]
    },
    {
     "name": "stderr",
     "output_type": "stream",
     "text": [
      "[I 2025-05-15 18:14:13,148] Trial 22 finished with value: -0.772064 and parameters: {'max_depth': 7, 'min_child_weight': 19, 'subsample': 0.4620279020978522, 'colsample_bynode': 0.7387841439601908, 'learning_rate': 0.3860862204640265}. Best is trial 11 with value: -0.778833.\n"
     ]
    },
    {
     "name": "stderr",
     "output_type": "stream",
     "text": [
      "[I 2025-05-15 18:14:13,556] Trial 23 pruned. Trial was pruned at iteration 0.\n"
     ]
    },
    {
     "name": "stderr",
     "output_type": "stream",
     "text": [
      "[I 2025-05-15 18:14:19,575] Trial 24 pruned. Trial was pruned at iteration 22.\n"
     ]
    },
    {
     "name": "stderr",
     "output_type": "stream",
     "text": [
      "[I 2025-05-15 18:14:19,905] Trial 25 pruned. Trial was pruned at iteration 0.\n"
     ]
    },
    {
     "name": "stderr",
     "output_type": "stream",
     "text": [
      "[I 2025-05-15 18:14:33,441] Trial 26 finished with value: -0.776442 and parameters: {'max_depth': 7, 'min_child_weight': 27, 'subsample': 0.6654487817707111, 'colsample_bynode': 0.8482238888125229, 'learning_rate': 0.26121322355262905}. Best is trial 11 with value: -0.778833.\n"
     ]
    },
    {
     "name": "stderr",
     "output_type": "stream",
     "text": [
      "[I 2025-05-15 18:14:33,829] Trial 27 pruned. Trial was pruned at iteration 0.\n"
     ]
    },
    {
     "name": "stderr",
     "output_type": "stream",
     "text": [
      "[I 2025-05-15 18:14:34,202] Trial 28 pruned. Trial was pruned at iteration 0.\n"
     ]
    },
    {
     "name": "stderr",
     "output_type": "stream",
     "text": [
      "[I 2025-05-15 18:14:34,591] Trial 29 pruned. Trial was pruned at iteration 0.\n"
     ]
    },
    {
     "name": "stderr",
     "output_type": "stream",
     "text": [
      "[I 2025-05-15 18:14:34,977] Trial 30 pruned. Trial was pruned at iteration 0.\n"
     ]
    },
    {
     "name": "stderr",
     "output_type": "stream",
     "text": [
      "[I 2025-05-15 18:14:47,773] Trial 31 finished with value: -0.777054 and parameters: {'max_depth': 7, 'min_child_weight': 20, 'subsample': 0.6699915006375167, 'colsample_bynode': 0.8311655437510109, 'learning_rate': 0.2424449329607127}. Best is trial 11 with value: -0.778833.\n"
     ]
    },
    {
     "name": "stderr",
     "output_type": "stream",
     "text": [
      "[I 2025-05-15 18:15:04,978] Trial 32 finished with value: -0.778423 and parameters: {'max_depth': 9, 'min_child_weight': 16, 'subsample': 0.7804387436832412, 'colsample_bynode': 0.8152636130793514, 'learning_rate': 0.3015344297410941}. Best is trial 11 with value: -0.778833.\n"
     ]
    },
    {
     "name": "stderr",
     "output_type": "stream",
     "text": [
      "[I 2025-05-15 18:15:06,479] Trial 33 pruned. Trial was pruned at iteration 4.\n"
     ]
    },
    {
     "name": "stderr",
     "output_type": "stream",
     "text": [
      "[I 2025-05-15 18:15:30,584] Trial 34 pruned. Trial was pruned at iteration 64.\n"
     ]
    },
    {
     "name": "stderr",
     "output_type": "stream",
     "text": [
      "[I 2025-05-15 18:15:31,228] Trial 35 pruned. Trial was pruned at iteration 1.\n"
     ]
    },
    {
     "name": "stderr",
     "output_type": "stream",
     "text": [
      "[I 2025-05-15 18:15:31,692] Trial 36 pruned. Trial was pruned at iteration 0.\n"
     ]
    },
    {
     "name": "stderr",
     "output_type": "stream",
     "text": [
      "[I 2025-05-15 18:15:32,090] Trial 37 pruned. Trial was pruned at iteration 0.\n"
     ]
    },
    {
     "name": "stderr",
     "output_type": "stream",
     "text": [
      "[I 2025-05-15 18:15:32,858] Trial 38 pruned. Trial was pruned at iteration 1.\n"
     ]
    },
    {
     "name": "stderr",
     "output_type": "stream",
     "text": [
      "[I 2025-05-15 18:15:34,488] Trial 39 pruned. Trial was pruned at iteration 4.\n"
     ]
    },
    {
     "name": "stderr",
     "output_type": "stream",
     "text": [
      "[I 2025-05-15 18:15:34,862] Trial 40 pruned. Trial was pruned at iteration 0.\n"
     ]
    },
    {
     "name": "stderr",
     "output_type": "stream",
     "text": [
      "[I 2025-05-15 18:15:35,479] Trial 41 pruned. Trial was pruned at iteration 1.\n"
     ]
    },
    {
     "name": "stderr",
     "output_type": "stream",
     "text": [
      "[I 2025-05-15 18:15:54,033] Trial 42 finished with value: -0.777994 and parameters: {'max_depth': 8, 'min_child_weight': 26, 'subsample': 0.8174991076209333, 'colsample_bynode': 0.7586815932261746, 'learning_rate': 0.29292339010806984}. Best is trial 11 with value: -0.778833.\n"
     ]
    },
    {
     "name": "stderr",
     "output_type": "stream",
     "text": [
      "[I 2025-05-15 18:16:10,134] Trial 43 finished with value: -0.775156 and parameters: {'max_depth': 9, 'min_child_weight': 38, 'subsample': 0.799135625368794, 'colsample_bynode': 0.9906749109988542, 'learning_rate': 0.3187521727218082}. Best is trial 11 with value: -0.778833.\n"
     ]
    },
    {
     "name": "stderr",
     "output_type": "stream",
     "text": [
      "[I 2025-05-15 18:16:21,227] Trial 44 pruned. Trial was pruned at iteration 33.\n"
     ]
    },
    {
     "name": "stderr",
     "output_type": "stream",
     "text": [
      "[I 2025-05-15 18:16:30,053] Trial 45 pruned. Trial was pruned at iteration 51.\n"
     ]
    },
    {
     "name": "stderr",
     "output_type": "stream",
     "text": [
      "[I 2025-05-15 18:16:30,685] Trial 46 pruned. Trial was pruned at iteration 1.\n"
     ]
    },
    {
     "name": "stderr",
     "output_type": "stream",
     "text": [
      "[I 2025-05-15 18:16:31,044] Trial 47 pruned. Trial was pruned at iteration 0.\n"
     ]
    },
    {
     "name": "stderr",
     "output_type": "stream",
     "text": [
      "[I 2025-05-15 18:16:31,397] Trial 48 pruned. Trial was pruned at iteration 0.\n"
     ]
    },
    {
     "name": "stderr",
     "output_type": "stream",
     "text": [
      "[I 2025-05-15 18:16:31,748] Trial 49 pruned. Trial was pruned at iteration 0.\n"
     ]
    }
   ],
   "source": [
    "sampler = optuna.samplers.TPESampler(seed=42)\n",
    "study = optuna.create_study(direction='minimize', sampler=sampler)\n",
    "study.optimize(objective, n_trials=N_TRIALS, gc_after_trial=True)"
   ]
  },
  {
   "cell_type": "code",
   "execution_count": 20,
   "id": "c8ebd3f7",
   "metadata": {
    "execution": {
     "iopub.execute_input": "2025-05-15T16:16:31.856704Z",
     "iopub.status.busy": "2025-05-15T16:16:31.856479Z",
     "iopub.status.idle": "2025-05-15T16:16:31.881579Z",
     "shell.execute_reply": "2025-05-15T16:16:31.881255Z"
    },
    "papermill": {
     "duration": 0.03572,
     "end_time": "2025-05-15T16:16:31.882542",
     "exception": false,
     "start_time": "2025-05-15T16:16:31.846822",
     "status": "completed"
    },
    "tags": []
   },
   "outputs": [
    {
     "data": {
      "text/plain": [
       "['/scratch_isilon/groups/singlecell/shared/projects/Inflammation-PBMCs-Atlas/03_downstream_analysis/08_gene_importance/xgboost_external_validation/xgboost_TopN_genes/results_20/study/T_CD8_NonNaive_16_4_xgboost.pkl']"
      ]
     },
     "execution_count": 20,
     "metadata": {},
     "output_type": "execute_result"
    }
   ],
   "source": [
    "out_dir = here(f'03_downstream_analysis/08_gene_importance/xgboost_external_validation/xgboost_TopN_genes/results_{N_GENES}/study')\n",
    "\n",
    "if not os.path.exists(out_dir):\n",
    "    os.makedirs(out_dir)\n",
    "    \n",
    "joblib.dump(study,os.path.join(out_dir, f'{CELL_TYPE}_{SEED}_{TEST_SPLIT_IDX}_xgboost.pkl'))"
   ]
  },
  {
   "cell_type": "code",
   "execution_count": 21,
   "id": "0be792f9",
   "metadata": {
    "execution": {
     "iopub.execute_input": "2025-05-15T16:16:31.901341Z",
     "iopub.status.busy": "2025-05-15T16:16:31.900997Z",
     "iopub.status.idle": "2025-05-15T16:17:04.551943Z",
     "shell.execute_reply": "2025-05-15T16:17:04.551555Z"
    },
    "papermill": {
     "duration": 32.671399,
     "end_time": "2025-05-15T16:17:04.563097",
     "exception": false,
     "start_time": "2025-05-15T16:16:31.891698",
     "status": "completed"
    },
    "tags": []
   },
   "outputs": [
    {
     "data": {
      "text/html": [
       "<style>#sk-container-id-1 {\n",
       "  /* Definition of color scheme common for light and dark mode */\n",
       "  --sklearn-color-text: black;\n",
       "  --sklearn-color-line: gray;\n",
       "  /* Definition of color scheme for unfitted estimators */\n",
       "  --sklearn-color-unfitted-level-0: #fff5e6;\n",
       "  --sklearn-color-unfitted-level-1: #f6e4d2;\n",
       "  --sklearn-color-unfitted-level-2: #ffe0b3;\n",
       "  --sklearn-color-unfitted-level-3: chocolate;\n",
       "  /* Definition of color scheme for fitted estimators */\n",
       "  --sklearn-color-fitted-level-0: #f0f8ff;\n",
       "  --sklearn-color-fitted-level-1: #d4ebff;\n",
       "  --sklearn-color-fitted-level-2: #b3dbfd;\n",
       "  --sklearn-color-fitted-level-3: cornflowerblue;\n",
       "\n",
       "  /* Specific color for light theme */\n",
       "  --sklearn-color-text-on-default-background: var(--sg-text-color, var(--theme-code-foreground, var(--jp-content-font-color1, black)));\n",
       "  --sklearn-color-background: var(--sg-background-color, var(--theme-background, var(--jp-layout-color0, white)));\n",
       "  --sklearn-color-border-box: var(--sg-text-color, var(--theme-code-foreground, var(--jp-content-font-color1, black)));\n",
       "  --sklearn-color-icon: #696969;\n",
       "\n",
       "  @media (prefers-color-scheme: dark) {\n",
       "    /* Redefinition of color scheme for dark theme */\n",
       "    --sklearn-color-text-on-default-background: var(--sg-text-color, var(--theme-code-foreground, var(--jp-content-font-color1, white)));\n",
       "    --sklearn-color-background: var(--sg-background-color, var(--theme-background, var(--jp-layout-color0, #111)));\n",
       "    --sklearn-color-border-box: var(--sg-text-color, var(--theme-code-foreground, var(--jp-content-font-color1, white)));\n",
       "    --sklearn-color-icon: #878787;\n",
       "  }\n",
       "}\n",
       "\n",
       "#sk-container-id-1 {\n",
       "  color: var(--sklearn-color-text);\n",
       "}\n",
       "\n",
       "#sk-container-id-1 pre {\n",
       "  padding: 0;\n",
       "}\n",
       "\n",
       "#sk-container-id-1 input.sk-hidden--visually {\n",
       "  border: 0;\n",
       "  clip: rect(1px 1px 1px 1px);\n",
       "  clip: rect(1px, 1px, 1px, 1px);\n",
       "  height: 1px;\n",
       "  margin: -1px;\n",
       "  overflow: hidden;\n",
       "  padding: 0;\n",
       "  position: absolute;\n",
       "  width: 1px;\n",
       "}\n",
       "\n",
       "#sk-container-id-1 div.sk-dashed-wrapped {\n",
       "  border: 1px dashed var(--sklearn-color-line);\n",
       "  margin: 0 0.4em 0.5em 0.4em;\n",
       "  box-sizing: border-box;\n",
       "  padding-bottom: 0.4em;\n",
       "  background-color: var(--sklearn-color-background);\n",
       "}\n",
       "\n",
       "#sk-container-id-1 div.sk-container {\n",
       "  /* jupyter's `normalize.less` sets `[hidden] { display: none; }`\n",
       "     but bootstrap.min.css set `[hidden] { display: none !important; }`\n",
       "     so we also need the `!important` here to be able to override the\n",
       "     default hidden behavior on the sphinx rendered scikit-learn.org.\n",
       "     See: https://github.com/scikit-learn/scikit-learn/issues/21755 */\n",
       "  display: inline-block !important;\n",
       "  position: relative;\n",
       "}\n",
       "\n",
       "#sk-container-id-1 div.sk-text-repr-fallback {\n",
       "  display: none;\n",
       "}\n",
       "\n",
       "div.sk-parallel-item,\n",
       "div.sk-serial,\n",
       "div.sk-item {\n",
       "  /* draw centered vertical line to link estimators */\n",
       "  background-image: linear-gradient(var(--sklearn-color-text-on-default-background), var(--sklearn-color-text-on-default-background));\n",
       "  background-size: 2px 100%;\n",
       "  background-repeat: no-repeat;\n",
       "  background-position: center center;\n",
       "}\n",
       "\n",
       "/* Parallel-specific style estimator block */\n",
       "\n",
       "#sk-container-id-1 div.sk-parallel-item::after {\n",
       "  content: \"\";\n",
       "  width: 100%;\n",
       "  border-bottom: 2px solid var(--sklearn-color-text-on-default-background);\n",
       "  flex-grow: 1;\n",
       "}\n",
       "\n",
       "#sk-container-id-1 div.sk-parallel {\n",
       "  display: flex;\n",
       "  align-items: stretch;\n",
       "  justify-content: center;\n",
       "  background-color: var(--sklearn-color-background);\n",
       "  position: relative;\n",
       "}\n",
       "\n",
       "#sk-container-id-1 div.sk-parallel-item {\n",
       "  display: flex;\n",
       "  flex-direction: column;\n",
       "}\n",
       "\n",
       "#sk-container-id-1 div.sk-parallel-item:first-child::after {\n",
       "  align-self: flex-end;\n",
       "  width: 50%;\n",
       "}\n",
       "\n",
       "#sk-container-id-1 div.sk-parallel-item:last-child::after {\n",
       "  align-self: flex-start;\n",
       "  width: 50%;\n",
       "}\n",
       "\n",
       "#sk-container-id-1 div.sk-parallel-item:only-child::after {\n",
       "  width: 0;\n",
       "}\n",
       "\n",
       "/* Serial-specific style estimator block */\n",
       "\n",
       "#sk-container-id-1 div.sk-serial {\n",
       "  display: flex;\n",
       "  flex-direction: column;\n",
       "  align-items: center;\n",
       "  background-color: var(--sklearn-color-background);\n",
       "  padding-right: 1em;\n",
       "  padding-left: 1em;\n",
       "}\n",
       "\n",
       "\n",
       "/* Toggleable style: style used for estimator/Pipeline/ColumnTransformer box that is\n",
       "clickable and can be expanded/collapsed.\n",
       "- Pipeline and ColumnTransformer use this feature and define the default style\n",
       "- Estimators will overwrite some part of the style using the `sk-estimator` class\n",
       "*/\n",
       "\n",
       "/* Pipeline and ColumnTransformer style (default) */\n",
       "\n",
       "#sk-container-id-1 div.sk-toggleable {\n",
       "  /* Default theme specific background. It is overwritten whether we have a\n",
       "  specific estimator or a Pipeline/ColumnTransformer */\n",
       "  background-color: var(--sklearn-color-background);\n",
       "}\n",
       "\n",
       "/* Toggleable label */\n",
       "#sk-container-id-1 label.sk-toggleable__label {\n",
       "  cursor: pointer;\n",
       "  display: block;\n",
       "  width: 100%;\n",
       "  margin-bottom: 0;\n",
       "  padding: 0.5em;\n",
       "  box-sizing: border-box;\n",
       "  text-align: center;\n",
       "}\n",
       "\n",
       "#sk-container-id-1 label.sk-toggleable__label-arrow:before {\n",
       "  /* Arrow on the left of the label */\n",
       "  content: \"▸\";\n",
       "  float: left;\n",
       "  margin-right: 0.25em;\n",
       "  color: var(--sklearn-color-icon);\n",
       "}\n",
       "\n",
       "#sk-container-id-1 label.sk-toggleable__label-arrow:hover:before {\n",
       "  color: var(--sklearn-color-text);\n",
       "}\n",
       "\n",
       "/* Toggleable content - dropdown */\n",
       "\n",
       "#sk-container-id-1 div.sk-toggleable__content {\n",
       "  max-height: 0;\n",
       "  max-width: 0;\n",
       "  overflow: hidden;\n",
       "  text-align: left;\n",
       "  /* unfitted */\n",
       "  background-color: var(--sklearn-color-unfitted-level-0);\n",
       "}\n",
       "\n",
       "#sk-container-id-1 div.sk-toggleable__content.fitted {\n",
       "  /* fitted */\n",
       "  background-color: var(--sklearn-color-fitted-level-0);\n",
       "}\n",
       "\n",
       "#sk-container-id-1 div.sk-toggleable__content pre {\n",
       "  margin: 0.2em;\n",
       "  border-radius: 0.25em;\n",
       "  color: var(--sklearn-color-text);\n",
       "  /* unfitted */\n",
       "  background-color: var(--sklearn-color-unfitted-level-0);\n",
       "}\n",
       "\n",
       "#sk-container-id-1 div.sk-toggleable__content.fitted pre {\n",
       "  /* unfitted */\n",
       "  background-color: var(--sklearn-color-fitted-level-0);\n",
       "}\n",
       "\n",
       "#sk-container-id-1 input.sk-toggleable__control:checked~div.sk-toggleable__content {\n",
       "  /* Expand drop-down */\n",
       "  max-height: 200px;\n",
       "  max-width: 100%;\n",
       "  overflow: auto;\n",
       "}\n",
       "\n",
       "#sk-container-id-1 input.sk-toggleable__control:checked~label.sk-toggleable__label-arrow:before {\n",
       "  content: \"▾\";\n",
       "}\n",
       "\n",
       "/* Pipeline/ColumnTransformer-specific style */\n",
       "\n",
       "#sk-container-id-1 div.sk-label input.sk-toggleable__control:checked~label.sk-toggleable__label {\n",
       "  color: var(--sklearn-color-text);\n",
       "  background-color: var(--sklearn-color-unfitted-level-2);\n",
       "}\n",
       "\n",
       "#sk-container-id-1 div.sk-label.fitted input.sk-toggleable__control:checked~label.sk-toggleable__label {\n",
       "  background-color: var(--sklearn-color-fitted-level-2);\n",
       "}\n",
       "\n",
       "/* Estimator-specific style */\n",
       "\n",
       "/* Colorize estimator box */\n",
       "#sk-container-id-1 div.sk-estimator input.sk-toggleable__control:checked~label.sk-toggleable__label {\n",
       "  /* unfitted */\n",
       "  background-color: var(--sklearn-color-unfitted-level-2);\n",
       "}\n",
       "\n",
       "#sk-container-id-1 div.sk-estimator.fitted input.sk-toggleable__control:checked~label.sk-toggleable__label {\n",
       "  /* fitted */\n",
       "  background-color: var(--sklearn-color-fitted-level-2);\n",
       "}\n",
       "\n",
       "#sk-container-id-1 div.sk-label label.sk-toggleable__label,\n",
       "#sk-container-id-1 div.sk-label label {\n",
       "  /* The background is the default theme color */\n",
       "  color: var(--sklearn-color-text-on-default-background);\n",
       "}\n",
       "\n",
       "/* On hover, darken the color of the background */\n",
       "#sk-container-id-1 div.sk-label:hover label.sk-toggleable__label {\n",
       "  color: var(--sklearn-color-text);\n",
       "  background-color: var(--sklearn-color-unfitted-level-2);\n",
       "}\n",
       "\n",
       "/* Label box, darken color on hover, fitted */\n",
       "#sk-container-id-1 div.sk-label.fitted:hover label.sk-toggleable__label.fitted {\n",
       "  color: var(--sklearn-color-text);\n",
       "  background-color: var(--sklearn-color-fitted-level-2);\n",
       "}\n",
       "\n",
       "/* Estimator label */\n",
       "\n",
       "#sk-container-id-1 div.sk-label label {\n",
       "  font-family: monospace;\n",
       "  font-weight: bold;\n",
       "  display: inline-block;\n",
       "  line-height: 1.2em;\n",
       "}\n",
       "\n",
       "#sk-container-id-1 div.sk-label-container {\n",
       "  text-align: center;\n",
       "}\n",
       "\n",
       "/* Estimator-specific */\n",
       "#sk-container-id-1 div.sk-estimator {\n",
       "  font-family: monospace;\n",
       "  border: 1px dotted var(--sklearn-color-border-box);\n",
       "  border-radius: 0.25em;\n",
       "  box-sizing: border-box;\n",
       "  margin-bottom: 0.5em;\n",
       "  /* unfitted */\n",
       "  background-color: var(--sklearn-color-unfitted-level-0);\n",
       "}\n",
       "\n",
       "#sk-container-id-1 div.sk-estimator.fitted {\n",
       "  /* fitted */\n",
       "  background-color: var(--sklearn-color-fitted-level-0);\n",
       "}\n",
       "\n",
       "/* on hover */\n",
       "#sk-container-id-1 div.sk-estimator:hover {\n",
       "  /* unfitted */\n",
       "  background-color: var(--sklearn-color-unfitted-level-2);\n",
       "}\n",
       "\n",
       "#sk-container-id-1 div.sk-estimator.fitted:hover {\n",
       "  /* fitted */\n",
       "  background-color: var(--sklearn-color-fitted-level-2);\n",
       "}\n",
       "\n",
       "/* Specification for estimator info (e.g. \"i\" and \"?\") */\n",
       "\n",
       "/* Common style for \"i\" and \"?\" */\n",
       "\n",
       ".sk-estimator-doc-link,\n",
       "a:link.sk-estimator-doc-link,\n",
       "a:visited.sk-estimator-doc-link {\n",
       "  float: right;\n",
       "  font-size: smaller;\n",
       "  line-height: 1em;\n",
       "  font-family: monospace;\n",
       "  background-color: var(--sklearn-color-background);\n",
       "  border-radius: 1em;\n",
       "  height: 1em;\n",
       "  width: 1em;\n",
       "  text-decoration: none !important;\n",
       "  margin-left: 1ex;\n",
       "  /* unfitted */\n",
       "  border: var(--sklearn-color-unfitted-level-1) 1pt solid;\n",
       "  color: var(--sklearn-color-unfitted-level-1);\n",
       "}\n",
       "\n",
       ".sk-estimator-doc-link.fitted,\n",
       "a:link.sk-estimator-doc-link.fitted,\n",
       "a:visited.sk-estimator-doc-link.fitted {\n",
       "  /* fitted */\n",
       "  border: var(--sklearn-color-fitted-level-1) 1pt solid;\n",
       "  color: var(--sklearn-color-fitted-level-1);\n",
       "}\n",
       "\n",
       "/* On hover */\n",
       "div.sk-estimator:hover .sk-estimator-doc-link:hover,\n",
       ".sk-estimator-doc-link:hover,\n",
       "div.sk-label-container:hover .sk-estimator-doc-link:hover,\n",
       ".sk-estimator-doc-link:hover {\n",
       "  /* unfitted */\n",
       "  background-color: var(--sklearn-color-unfitted-level-3);\n",
       "  color: var(--sklearn-color-background);\n",
       "  text-decoration: none;\n",
       "}\n",
       "\n",
       "div.sk-estimator.fitted:hover .sk-estimator-doc-link.fitted:hover,\n",
       ".sk-estimator-doc-link.fitted:hover,\n",
       "div.sk-label-container:hover .sk-estimator-doc-link.fitted:hover,\n",
       ".sk-estimator-doc-link.fitted:hover {\n",
       "  /* fitted */\n",
       "  background-color: var(--sklearn-color-fitted-level-3);\n",
       "  color: var(--sklearn-color-background);\n",
       "  text-decoration: none;\n",
       "}\n",
       "\n",
       "/* Span, style for the box shown on hovering the info icon */\n",
       ".sk-estimator-doc-link span {\n",
       "  display: none;\n",
       "  z-index: 9999;\n",
       "  position: relative;\n",
       "  font-weight: normal;\n",
       "  right: .2ex;\n",
       "  padding: .5ex;\n",
       "  margin: .5ex;\n",
       "  width: min-content;\n",
       "  min-width: 20ex;\n",
       "  max-width: 50ex;\n",
       "  color: var(--sklearn-color-text);\n",
       "  box-shadow: 2pt 2pt 4pt #999;\n",
       "  /* unfitted */\n",
       "  background: var(--sklearn-color-unfitted-level-0);\n",
       "  border: .5pt solid var(--sklearn-color-unfitted-level-3);\n",
       "}\n",
       "\n",
       ".sk-estimator-doc-link.fitted span {\n",
       "  /* fitted */\n",
       "  background: var(--sklearn-color-fitted-level-0);\n",
       "  border: var(--sklearn-color-fitted-level-3);\n",
       "}\n",
       "\n",
       ".sk-estimator-doc-link:hover span {\n",
       "  display: block;\n",
       "}\n",
       "\n",
       "/* \"?\"-specific style due to the `<a>` HTML tag */\n",
       "\n",
       "#sk-container-id-1 a.estimator_doc_link {\n",
       "  float: right;\n",
       "  font-size: 1rem;\n",
       "  line-height: 1em;\n",
       "  font-family: monospace;\n",
       "  background-color: var(--sklearn-color-background);\n",
       "  border-radius: 1rem;\n",
       "  height: 1rem;\n",
       "  width: 1rem;\n",
       "  text-decoration: none;\n",
       "  /* unfitted */\n",
       "  color: var(--sklearn-color-unfitted-level-1);\n",
       "  border: var(--sklearn-color-unfitted-level-1) 1pt solid;\n",
       "}\n",
       "\n",
       "#sk-container-id-1 a.estimator_doc_link.fitted {\n",
       "  /* fitted */\n",
       "  border: var(--sklearn-color-fitted-level-1) 1pt solid;\n",
       "  color: var(--sklearn-color-fitted-level-1);\n",
       "}\n",
       "\n",
       "/* On hover */\n",
       "#sk-container-id-1 a.estimator_doc_link:hover {\n",
       "  /* unfitted */\n",
       "  background-color: var(--sklearn-color-unfitted-level-3);\n",
       "  color: var(--sklearn-color-background);\n",
       "  text-decoration: none;\n",
       "}\n",
       "\n",
       "#sk-container-id-1 a.estimator_doc_link.fitted:hover {\n",
       "  /* fitted */\n",
       "  background-color: var(--sklearn-color-fitted-level-3);\n",
       "}\n",
       "</style><div id=\"sk-container-id-1\" class=\"sk-top-container\"><div class=\"sk-text-repr-fallback\"><pre>XGBClassifier(base_score=None, booster=None, callbacks=None,\n",
       "              colsample_bylevel=None, colsample_bynode=0.40131565860091256,\n",
       "              colsample_bytree=None, device=None, early_stopping_rounds=None,\n",
       "              enable_categorical=False,\n",
       "              eval_metric=&lt;function custom_f1_score at 0x7f9cbc1ac540&gt;,\n",
       "              feature_types=None, gamma=None, grow_policy=None,\n",
       "              importance_type=None, interaction_constraints=None,\n",
       "              learning_rate=0.057899203666416425, max_bin=None,\n",
       "              max_cat_threshold=None, max_cat_to_onehot=None,\n",
       "              max_delta_step=None, max_depth=10, max_leaves=None,\n",
       "              min_child_weight=3, missing=nan, monotone_constraints=None,\n",
       "              multi_strategy=None, n_estimators=212, n_jobs=None,\n",
       "              num_parallel_tree=None, objective=&#x27;multi:softprob&#x27;, ...)</pre><b>In a Jupyter environment, please rerun this cell to show the HTML representation or trust the notebook. <br />On GitHub, the HTML representation is unable to render, please try loading this page with nbviewer.org.</b></div><div class=\"sk-container\" hidden><div class=\"sk-item\"><div class=\"sk-estimator fitted sk-toggleable\"><input class=\"sk-toggleable__control sk-hidden--visually\" id=\"sk-estimator-id-1\" type=\"checkbox\" checked><label for=\"sk-estimator-id-1\" class=\"sk-toggleable__label fitted sk-toggleable__label-arrow fitted\">&nbsp;XGBClassifier<span class=\"sk-estimator-doc-link fitted\">i<span>Fitted</span></span></label><div class=\"sk-toggleable__content fitted\"><pre>XGBClassifier(base_score=None, booster=None, callbacks=None,\n",
       "              colsample_bylevel=None, colsample_bynode=0.40131565860091256,\n",
       "              colsample_bytree=None, device=None, early_stopping_rounds=None,\n",
       "              enable_categorical=False,\n",
       "              eval_metric=&lt;function custom_f1_score at 0x7f9cbc1ac540&gt;,\n",
       "              feature_types=None, gamma=None, grow_policy=None,\n",
       "              importance_type=None, interaction_constraints=None,\n",
       "              learning_rate=0.057899203666416425, max_bin=None,\n",
       "              max_cat_threshold=None, max_cat_to_onehot=None,\n",
       "              max_delta_step=None, max_depth=10, max_leaves=None,\n",
       "              min_child_weight=3, missing=nan, monotone_constraints=None,\n",
       "              multi_strategy=None, n_estimators=212, n_jobs=None,\n",
       "              num_parallel_tree=None, objective=&#x27;multi:softprob&#x27;, ...)</pre></div> </div></div></div></div>"
      ],
      "text/plain": [
       "XGBClassifier(base_score=None, booster=None, callbacks=None,\n",
       "              colsample_bylevel=None, colsample_bynode=0.40131565860091256,\n",
       "              colsample_bytree=None, device=None, early_stopping_rounds=None,\n",
       "              enable_categorical=False,\n",
       "              eval_metric=<function custom_f1_score at 0x7f9cbc1ac540>,\n",
       "              feature_types=None, gamma=None, grow_policy=None,\n",
       "              importance_type=None, interaction_constraints=None,\n",
       "              learning_rate=0.057899203666416425, max_bin=None,\n",
       "              max_cat_threshold=None, max_cat_to_onehot=None,\n",
       "              max_delta_step=None, max_depth=10, max_leaves=None,\n",
       "              min_child_weight=3, missing=nan, monotone_constraints=None,\n",
       "              multi_strategy=None, n_estimators=212, n_jobs=None,\n",
       "              num_parallel_tree=None, objective='multi:softprob', ...)"
      ]
     },
     "execution_count": 21,
     "metadata": {},
     "output_type": "execute_result"
    }
   ],
   "source": [
    "n_estimators = int(study.best_trial.user_attrs['best_iteration']*1.2)\n",
    "xgb = xgboost.XGBClassifier(\n",
    "        eval_metric=eval_metric,\n",
    "        n_estimators=n_estimators,\n",
    "        **study.best_trial.params\n",
    "    )\n",
    "xgb.fit(\n",
    "    ssp.vstack((X_train, X_val)), \n",
    "    np.concatenate((y_train_enc, y_val_enc)),\n",
    "    verbose=1,\n",
    ")"
   ]
  },
  {
   "cell_type": "code",
   "execution_count": 22,
   "id": "1e6143a3",
   "metadata": {
    "execution": {
     "iopub.execute_input": "2025-05-15T16:17:04.591228Z",
     "iopub.status.busy": "2025-05-15T16:17:04.590776Z",
     "iopub.status.idle": "2025-05-15T16:17:04.840805Z",
     "shell.execute_reply": "2025-05-15T16:17:04.840448Z"
    },
    "papermill": {
     "duration": 0.262241,
     "end_time": "2025-05-15T16:17:04.841798",
     "exception": false,
     "start_time": "2025-05-15T16:17:04.579557",
     "status": "completed"
    },
    "tags": []
   },
   "outputs": [
    {
     "data": {
      "text/plain": [
       "['/scratch_isilon/groups/singlecell/shared/projects/Inflammation-PBMCs-Atlas/03_downstream_analysis/08_gene_importance/xgboost_external_validation/xgboost_TopN_genes/results_20/best_model/T_CD8_NonNaive_16_4_xgb.json']"
      ]
     },
     "execution_count": 22,
     "metadata": {},
     "output_type": "execute_result"
    }
   ],
   "source": [
    "out_dir = here(f'03_downstream_analysis/08_gene_importance/xgboost_external_validation/xgboost_TopN_genes/results_{N_GENES}/best_model')\n",
    "\n",
    "if not os.path.exists(out_dir):\n",
    "    os.makedirs(out_dir)\n",
    "    \n",
    "joblib.dump(xgb, os.path.join(out_dir, f'{CELL_TYPE}_{SEED}_{TEST_SPLIT_IDX}_xgb.json'))"
   ]
  },
  {
   "cell_type": "code",
   "execution_count": 23,
   "id": "9b880fa4",
   "metadata": {
    "execution": {
     "iopub.execute_input": "2025-05-15T16:17:04.862307Z",
     "iopub.status.busy": "2025-05-15T16:17:04.861889Z",
     "iopub.status.idle": "2025-05-15T16:17:06.421332Z",
     "shell.execute_reply": "2025-05-15T16:17:06.420941Z"
    },
    "papermill": {
     "duration": 1.571181,
     "end_time": "2025-05-15T16:17:06.422808",
     "exception": false,
     "start_time": "2025-05-15T16:17:04.851627",
     "status": "completed"
    },
    "tags": []
   },
   "outputs": [],
   "source": [
    "df_pred_test = pd.DataFrame(dict(\n",
    "    cell_id=train_adata.obs.iloc[test_idxs].index.values,\n",
    "    y_true=y_test, \n",
    "    y_true_code=y_test_enc, \n",
    "    y_pred=xgb.predict(X_test))).set_index('cell_id')"
   ]
  },
  {
   "cell_type": "code",
   "execution_count": 24,
   "id": "3e8097ab",
   "metadata": {
    "execution": {
     "iopub.execute_input": "2025-05-15T16:17:06.471047Z",
     "iopub.status.busy": "2025-05-15T16:17:06.470847Z",
     "iopub.status.idle": "2025-05-15T16:17:06.580660Z",
     "shell.execute_reply": "2025-05-15T16:17:06.580191Z"
    },
    "papermill": {
     "duration": 0.124339,
     "end_time": "2025-05-15T16:17:06.581875",
     "exception": false,
     "start_time": "2025-05-15T16:17:06.457536",
     "status": "completed"
    },
    "tags": []
   },
   "outputs": [],
   "source": [
    "out_dir = here(f'03_downstream_analysis/08_gene_importance/xgboost_external_validation/xgboost_TopN_genes/results_{N_GENES}/predictions')\n",
    "\n",
    "if not os.path.exists(out_dir):\n",
    "    os.makedirs(out_dir)\n",
    "    \n",
    "df_pred_test.to_csv(os.path.join(out_dir, f'{CELL_TYPE}_{SEED}_{TEST_SPLIT_IDX}_pred_test.zip'))"
   ]
  },
  {
   "cell_type": "code",
   "execution_count": 25,
   "id": "8177aca4",
   "metadata": {
    "execution": {
     "iopub.execute_input": "2025-05-15T16:17:06.602088Z",
     "iopub.status.busy": "2025-05-15T16:17:06.601806Z",
     "iopub.status.idle": "2025-05-15T16:17:06.611855Z",
     "shell.execute_reply": "2025-05-15T16:17:06.611508Z"
    },
    "papermill": {
     "duration": 0.021309,
     "end_time": "2025-05-15T16:17:06.612972",
     "exception": false,
     "start_time": "2025-05-15T16:17:06.591663",
     "status": "completed"
    },
    "tags": []
   },
   "outputs": [],
   "source": [
    "metrics_dict = dict(\n",
    "    BAS=balanced_accuracy_score(y_true=df_pred_test.y_true_code, y_pred=df_pred_test.y_pred), WF1=f1_score(y_true=df_pred_test.y_true_code, y_pred=df_pred_test.y_pred,average='weighted'))"
   ]
  },
  {
   "cell_type": "code",
   "execution_count": 26,
   "id": "9b06d155",
   "metadata": {
    "execution": {
     "iopub.execute_input": "2025-05-15T16:17:06.633238Z",
     "iopub.status.busy": "2025-05-15T16:17:06.632905Z",
     "iopub.status.idle": "2025-05-15T16:17:06.635598Z",
     "shell.execute_reply": "2025-05-15T16:17:06.635312Z"
    },
    "papermill": {
     "duration": 0.013684,
     "end_time": "2025-05-15T16:17:06.636403",
     "exception": false,
     "start_time": "2025-05-15T16:17:06.622719",
     "status": "completed"
    },
    "tags": []
   },
   "outputs": [
    {
     "data": {
      "text/plain": [
       "{'BAS': 0.5968060824253887, 'WF1': 0.7917962127277699}"
      ]
     },
     "execution_count": 26,
     "metadata": {},
     "output_type": "execute_result"
    }
   ],
   "source": [
    "metrics_dict"
   ]
  },
  {
   "cell_type": "code",
   "execution_count": 27,
   "id": "9ba3f2de",
   "metadata": {
    "execution": {
     "iopub.execute_input": "2025-05-15T16:17:06.656781Z",
     "iopub.status.busy": "2025-05-15T16:17:06.656417Z",
     "iopub.status.idle": "2025-05-15T16:17:06.664062Z",
     "shell.execute_reply": "2025-05-15T16:17:06.663759Z"
    },
    "papermill": {
     "duration": 0.018353,
     "end_time": "2025-05-15T16:17:06.664912",
     "exception": false,
     "start_time": "2025-05-15T16:17:06.646559",
     "status": "completed"
    },
    "tags": []
   },
   "outputs": [
    {
     "data": {
      "text/html": [
       "<div>\n",
       "<style scoped>\n",
       "    .dataframe tbody tr th:only-of-type {\n",
       "        vertical-align: middle;\n",
       "    }\n",
       "\n",
       "    .dataframe tbody tr th {\n",
       "        vertical-align: top;\n",
       "    }\n",
       "\n",
       "    .dataframe thead th {\n",
       "        text-align: right;\n",
       "    }\n",
       "</style>\n",
       "<table border=\"1\" class=\"dataframe\">\n",
       "  <thead>\n",
       "    <tr style=\"text-align: right;\">\n",
       "      <th></th>\n",
       "      <th>BAS</th>\n",
       "      <th>WF1</th>\n",
       "      <th>split_idx</th>\n",
       "      <th>gene_set_seed</th>\n",
       "      <th>cell_type</th>\n",
       "    </tr>\n",
       "  </thead>\n",
       "  <tbody>\n",
       "    <tr>\n",
       "      <th>0</th>\n",
       "      <td>0.596806</td>\n",
       "      <td>0.791796</td>\n",
       "      <td>4</td>\n",
       "      <td>16</td>\n",
       "      <td>T_CD8_NonNaive</td>\n",
       "    </tr>\n",
       "  </tbody>\n",
       "</table>\n",
       "</div>"
      ],
      "text/plain": [
       "        BAS       WF1  split_idx  gene_set_seed       cell_type\n",
       "0  0.596806  0.791796          4             16  T_CD8_NonNaive"
      ]
     },
     "execution_count": 27,
     "metadata": {},
     "output_type": "execute_result"
    }
   ],
   "source": [
    "metrics_df = pd.DataFrame.from_dict([metrics_dict]).assign(split_idx=TEST_SPLIT_IDX, gene_set_seed=SEED, cell_type=CELL_TYPE)\n",
    "metrics_df"
   ]
  },
  {
   "cell_type": "code",
   "execution_count": 28,
   "id": "d5334f83",
   "metadata": {
    "execution": {
     "iopub.execute_input": "2025-05-15T16:17:06.696346Z",
     "iopub.status.busy": "2025-05-15T16:17:06.695899Z",
     "iopub.status.idle": "2025-05-15T16:17:06.704070Z",
     "shell.execute_reply": "2025-05-15T16:17:06.703722Z"
    },
    "papermill": {
     "duration": 0.019686,
     "end_time": "2025-05-15T16:17:06.705163",
     "exception": false,
     "start_time": "2025-05-15T16:17:06.685477",
     "status": "completed"
    },
    "tags": []
   },
   "outputs": [],
   "source": [
    "out_dir = here(f'03_downstream_analysis/08_gene_importance/xgboost_external_validation/xgboost_TopN_genes/results_{N_GENES}/metrics')\n",
    "\n",
    "if not os.path.exists(out_dir):\n",
    "    os.makedirs(out_dir)\n",
    "    \n",
    "metrics_df.to_csv(os.path.join(out_dir, f'{CELL_TYPE}_{SEED}_{TEST_SPLIT_IDX}_metrics.zip'))"
   ]
  }
 ],
 "metadata": {
  "kernelspec": {
   "display_name": "Python 3 (ipykernel)",
   "language": "python",
   "name": "python3"
  },
  "language_info": {
   "codemirror_mode": {
    "name": "ipython",
    "version": 3
   },
   "file_extension": ".py",
   "mimetype": "text/x-python",
   "name": "python",
   "nbconvert_exporter": "python",
   "pygments_lexer": "ipython3",
   "version": "3.12.5"
  },
  "papermill": {
   "default_parameters": {},
   "duration": 525.924078,
   "end_time": "2025-05-15T16:17:07.532958",
   "environment_variables": {},
   "exception": null,
   "input_path": "02_xgboost_fitting_external_20genes.ipynb",
   "output_path": "results_20/executed_notebooks/xgboost_fitting_external_CT_T_CD8_NonNaive_GS_16_seed4.ipynb",
   "parameters": {
    "CELL_TYPE": "T_CD8_NonNaive",
    "SEED": 16,
    "TEST_SPLIT_IDX": 4
   },
   "start_time": "2025-05-15T16:08:21.608880",
   "version": "2.6.0"
  }
 },
 "nbformat": 4,
 "nbformat_minor": 5
}