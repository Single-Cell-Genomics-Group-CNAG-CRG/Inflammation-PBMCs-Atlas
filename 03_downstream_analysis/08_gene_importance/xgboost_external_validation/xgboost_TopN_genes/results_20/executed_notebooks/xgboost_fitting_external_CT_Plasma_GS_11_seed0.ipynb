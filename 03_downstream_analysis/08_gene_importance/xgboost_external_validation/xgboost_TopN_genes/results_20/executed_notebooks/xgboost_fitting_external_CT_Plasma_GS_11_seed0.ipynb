{
 "cells": [
  {
   "cell_type": "code",
   "execution_count": 1,
   "id": "71ceeac7",
   "metadata": {
    "editable": true,
    "execution": {
     "iopub.execute_input": "2025-05-15T16:15:37.966461Z",
     "iopub.status.busy": "2025-05-15T16:15:37.966102Z",
     "iopub.status.idle": "2025-05-15T16:15:37.969681Z",
     "shell.execute_reply": "2025-05-15T16:15:37.969260Z"
    },
    "papermill": {
     "duration": 0.013008,
     "end_time": "2025-05-15T16:15:37.970697",
     "exception": false,
     "start_time": "2025-05-15T16:15:37.957689",
     "status": "completed"
    },
    "slideshow": {
     "slide_type": ""
    },
    "tags": [
     "parameters"
    ]
   },
   "outputs": [],
   "source": [
    "CELL_TYPE = 'pDC'\n",
    "N_GENES: int = 20\n",
    "SEED = 'shap_studyID' #'disease_NOstudy' 'study_NOdisease' or 'int' or 'shap_studyID'\n",
    "TEST_SPLIT_IDX: int = 1 #[0,4]"
   ]
  },
  {
   "cell_type": "code",
   "execution_count": 2,
   "id": "8965aba8",
   "metadata": {
    "execution": {
     "iopub.execute_input": "2025-05-15T16:15:37.984398Z",
     "iopub.status.busy": "2025-05-15T16:15:37.983707Z",
     "iopub.status.idle": "2025-05-15T16:15:37.986619Z",
     "shell.execute_reply": "2025-05-15T16:15:37.986245Z"
    },
    "papermill": {
     "duration": 0.010261,
     "end_time": "2025-05-15T16:15:37.987464",
     "exception": false,
     "start_time": "2025-05-15T16:15:37.977203",
     "status": "completed"
    },
    "tags": [
     "injected-parameters"
    ]
   },
   "outputs": [],
   "source": [
    "# Parameters\n",
    "CELL_TYPE = \"Plasma\"\n",
    "SEED = 11\n",
    "TEST_SPLIT_IDX = 0\n"
   ]
  },
  {
   "cell_type": "code",
   "execution_count": 3,
   "id": "20be65b4",
   "metadata": {
    "execution": {
     "iopub.execute_input": "2025-05-15T16:15:37.999015Z",
     "iopub.status.busy": "2025-05-15T16:15:37.998679Z",
     "iopub.status.idle": "2025-05-15T16:15:38.000947Z",
     "shell.execute_reply": "2025-05-15T16:15:38.000576Z"
    },
    "papermill": {
     "duration": 0.008759,
     "end_time": "2025-05-15T16:15:38.001713",
     "exception": false,
     "start_time": "2025-05-15T16:15:37.992954",
     "status": "completed"
    },
    "tags": []
   },
   "outputs": [],
   "source": [
    "N_SPLITS: int = 5\n",
    "N_TRIALS: int = 50"
   ]
  },
  {
   "cell_type": "code",
   "execution_count": 4,
   "id": "b1e71e39",
   "metadata": {
    "execution": {
     "iopub.execute_input": "2025-05-15T16:15:38.015134Z",
     "iopub.status.busy": "2025-05-15T16:15:38.014620Z",
     "iopub.status.idle": "2025-05-15T16:15:39.527319Z",
     "shell.execute_reply": "2025-05-15T16:15:39.526718Z"
    },
    "papermill": {
     "duration": 1.521472,
     "end_time": "2025-05-15T16:15:39.528653",
     "exception": false,
     "start_time": "2025-05-15T16:15:38.007181",
     "status": "completed"
    },
    "tags": []
   },
   "outputs": [],
   "source": [
    "import os\n",
    "import sys\n",
    "from pyprojroot.here import here\n",
    "import pandas as pd\n",
    "import anndata as ad\n",
    "import numpy as np\n",
    "import math\n",
    "from sklearn.model_selection import StratifiedGroupKFold\n",
    "from sklearn.preprocessing import LabelEncoder\n",
    "from sklearn.metrics import f1_score\n",
    "import matplotlib.pyplot as plt\n",
    "import seaborn as sns\n",
    "from itertools import product\n",
    "from sklearn.metrics import balanced_accuracy_score, f1_score\n",
    "import optuna\n",
    "\n",
    "import joblib\n",
    "import pickle\n",
    "import datetime\n",
    "\n",
    "import collections\n",
    "\n",
    "import xgboost\n",
    "from sklearn.preprocessing import LabelEncoder\n",
    "\n",
    "import scipy.sparse as ssp\n",
    "import joblib\n",
    "\n",
    "from dotenv import load_dotenv"
   ]
  },
  {
   "cell_type": "code",
   "execution_count": 5,
   "id": "fc24fc97",
   "metadata": {
    "execution": {
     "iopub.execute_input": "2025-05-15T16:15:39.541536Z",
     "iopub.status.busy": "2025-05-15T16:15:39.540880Z",
     "iopub.status.idle": "2025-05-15T16:15:39.547033Z",
     "shell.execute_reply": "2025-05-15T16:15:39.546721Z"
    },
    "papermill": {
     "duration": 0.013337,
     "end_time": "2025-05-15T16:15:39.547798",
     "exception": false,
     "start_time": "2025-05-15T16:15:39.534461",
     "status": "completed"
    },
    "tags": []
   },
   "outputs": [
    {
     "data": {
      "text/plain": [
       "True"
      ]
     },
     "execution_count": 5,
     "metadata": {},
     "output_type": "execute_result"
    }
   ],
   "source": [
    "load_dotenv()"
   ]
  },
  {
   "cell_type": "markdown",
   "id": "cb159c76",
   "metadata": {
    "papermill": {
     "duration": 0.006813,
     "end_time": "2025-05-15T16:15:39.560417",
     "exception": false,
     "start_time": "2025-05-15T16:15:39.553604",
     "status": "completed"
    },
    "tags": []
   },
   "source": [
    "# LOAD DATASET"
   ]
  },
  {
   "cell_type": "code",
   "execution_count": 6,
   "id": "2a6ac32a",
   "metadata": {
    "execution": {
     "iopub.execute_input": "2025-05-15T16:15:39.571987Z",
     "iopub.status.busy": "2025-05-15T16:15:39.571751Z",
     "iopub.status.idle": "2025-05-15T16:15:39.611114Z",
     "shell.execute_reply": "2025-05-15T16:15:39.610588Z"
    },
    "papermill": {
     "duration": 0.046038,
     "end_time": "2025-05-15T16:15:39.612012",
     "exception": false,
     "start_time": "2025-05-15T16:15:39.565974",
     "status": "completed"
    },
    "tags": []
   },
   "outputs": [],
   "source": [
    "train_adata = ad.read_h5ad(\n",
    "    here(f'03_downstream_analysis/08_gene_importance/xgboost_external_validation/xgboost_TopN_genes/data_cellTypes/EXTERNAL_{CELL_TYPE}.filtered.log1p.h5ad')\n",
    ")"
   ]
  },
  {
   "cell_type": "code",
   "execution_count": 7,
   "id": "7ed66ab3",
   "metadata": {
    "execution": {
     "iopub.execute_input": "2025-05-15T16:15:39.624628Z",
     "iopub.status.busy": "2025-05-15T16:15:39.624408Z",
     "iopub.status.idle": "2025-05-15T16:15:39.634735Z",
     "shell.execute_reply": "2025-05-15T16:15:39.634371Z"
    },
    "papermill": {
     "duration": 0.017686,
     "end_time": "2025-05-15T16:15:39.635618",
     "exception": false,
     "start_time": "2025-05-15T16:15:39.617932",
     "status": "completed"
    },
    "tags": []
   },
   "outputs": [
    {
     "name": "stdout",
     "output_type": "stream",
     "text": [
      "['ENSG00000091409' 'ENSG00000197540' 'ENSG00000186395' 'ENSG00000185436'\n",
      " 'ENSG00000138036' 'ENSG00000026025' 'ENSG00000152518' 'ENSG00000002549'\n",
      " 'ENSG00000075426' 'ENSG00000116815' 'ENSG00000133134' 'ENSG00000163563'\n",
      " 'ENSG00000100300' 'ENSG00000048462' 'ENSG00000090554' 'ENSG00000173039'\n",
      " 'ENSG00000196154' 'ENSG00000106605' 'ENSG00000171791' 'ENSG00000104921'\n",
      " 'ENSG00000204592' 'ENSG00000135720' 'ENSG00000089280' 'ENSG00000166681'\n",
      " 'ENSG00000188313' 'ENSG00000175203' 'ENSG00000130724' 'ENSG00000104998'\n",
      " 'ENSG00000140379' 'ENSG00000090863' 'ENSG00000178719' 'ENSG00000145675'\n",
      " 'ENSG00000115073' 'ENSG00000145220' 'ENSG00000132432' 'ENSG00000111640'\n",
      " 'ENSG00000008517' 'ENSG00000134954' 'ENSG00000196396' 'ENSG00000132002'\n",
      " 'ENSG00000110077' 'ENSG00000183172' 'ENSG00000158517' 'ENSG00000126524'\n",
      " 'ENSG00000006125' 'ENSG00000101695' 'ENSG00000104671' 'ENSG00000122862'\n",
      " 'ENSG00000254087' 'ENSG00000173812' 'ENSG00000115875' 'ENSG00000115232'\n",
      " 'ENSG00000117602' 'ENSG00000143119' 'ENSG00000197329' 'ENSG00000105851'\n",
      " 'ENSG00000132475' 'ENSG00000140968' 'ENSG00000177556' 'ENSG00000171476'\n",
      " 'ENSG00000156587' 'ENSG00000182866' 'ENSG00000136738' 'ENSG00000175567'\n",
      " 'ENSG00000138795' 'ENSG00000130755' 'ENSG00000081059' 'ENSG00000127022'\n",
      " 'ENSG00000143933' 'ENSG00000204642' 'ENSG00000051382' 'ENSG00000166710'\n",
      " 'ENSG00000185650' 'ENSG00000100902' 'ENSG00000162739' 'ENSG00000172936'\n",
      " 'ENSG00000112149' 'ENSG00000177663' 'ENSG00000130830' 'ENSG00000164307'\n",
      " 'ENSG00000135821' 'ENSG00000104660' 'ENSG00000185591' 'ENSG00000101017'\n",
      " 'ENSG00000155465' 'ENSG00000196961' 'ENSG00000168811' 'ENSG00000164308'\n",
      " 'ENSG00000185338' 'ENSG00000085265' 'ENSG00000204472' 'ENSG00000166847'\n",
      " 'ENSG00000133872' 'ENSG00000166747' 'ENSG00000153283' 'ENSG00000071073'\n",
      " 'ENSG00000126267' 'ENSG00000113811' 'ENSG00000077984' 'ENSG00000241837'\n",
      " 'ENSG00000161203' 'ENSG00000156411' 'ENSG00000164543' 'ENSG00000011600'\n",
      " 'ENSG00000117450' 'ENSG00000165527' 'ENSG00000126561']\n"
     ]
    }
   ],
   "source": [
    "if SEED != 'all':\n",
    "    gene_subset = np.load(here(f'03_downstream_analysis/08_gene_importance/xgboost_external_validation/shap_gene_selection/gene_subsets_{N_GENES}/{CELL_TYPE}_{SEED}.npy'), allow_pickle=True)\n",
    "    train_adata = train_adata[:,gene_subset]\n",
    "    print(gene_subset)\n",
    "elif SEED == 'all':\n",
    "    print('Using all genes')\n",
    "else:\n",
    "    raise ValueError()"
   ]
  },
  {
   "cell_type": "code",
   "execution_count": 8,
   "id": "fdc02550",
   "metadata": {
    "execution": {
     "iopub.execute_input": "2025-05-15T16:15:39.648454Z",
     "iopub.status.busy": "2025-05-15T16:15:39.648237Z",
     "iopub.status.idle": "2025-05-15T16:15:39.651301Z",
     "shell.execute_reply": "2025-05-15T16:15:39.651000Z"
    },
    "papermill": {
     "duration": 0.010084,
     "end_time": "2025-05-15T16:15:39.652106",
     "exception": false,
     "start_time": "2025-05-15T16:15:39.642022",
     "status": "completed"
    },
    "tags": []
   },
   "outputs": [
    {
     "data": {
      "text/plain": [
       "(542, 107)"
      ]
     },
     "execution_count": 8,
     "metadata": {},
     "output_type": "execute_result"
    }
   ],
   "source": [
    "train_adata.shape"
   ]
  },
  {
   "cell_type": "code",
   "execution_count": 9,
   "id": "5197cca4",
   "metadata": {
    "execution": {
     "iopub.execute_input": "2025-05-15T16:15:39.681149Z",
     "iopub.status.busy": "2025-05-15T16:15:39.680891Z",
     "iopub.status.idle": "2025-05-15T16:15:39.684400Z",
     "shell.execute_reply": "2025-05-15T16:15:39.684094Z"
    },
    "papermill": {
     "duration": 0.026699,
     "end_time": "2025-05-15T16:15:39.685231",
     "exception": false,
     "start_time": "2025-05-15T16:15:39.658532",
     "status": "completed"
    },
    "tags": []
   },
   "outputs": [
    {
     "data": {
      "text/plain": [
       "['RA', 'COVID', 'healthy', 'HIV', 'cirrhosis', 'CD', 'SLE', 'sepsis']\n",
       "Categories (8, object): ['CD', 'COVID', 'HIV', 'RA', 'SLE', 'cirrhosis', 'healthy', 'sepsis']"
      ]
     },
     "execution_count": 9,
     "metadata": {},
     "output_type": "execute_result"
    }
   ],
   "source": [
    "train_adata.obs.disease.unique()"
   ]
  },
  {
   "cell_type": "code",
   "execution_count": 10,
   "id": "ecc9f92f",
   "metadata": {
    "execution": {
     "iopub.execute_input": "2025-05-15T16:15:39.698209Z",
     "iopub.status.busy": "2025-05-15T16:15:39.698001Z",
     "iopub.status.idle": "2025-05-15T16:15:39.701747Z",
     "shell.execute_reply": "2025-05-15T16:15:39.701449Z"
    },
    "papermill": {
     "duration": 0.011114,
     "end_time": "2025-05-15T16:15:39.702586",
     "exception": false,
     "start_time": "2025-05-15T16:15:39.691472",
     "status": "completed"
    },
    "tags": []
   },
   "outputs": [
    {
     "data": {
      "text/plain": [
       "['SCGT00val_I0364_T0', 'SCGT00val_I036019_T0', 'SCGT00val_I036028_T0', 'SCGT00val_I036024_T0', 'SCGT00val_I036016_T0', ..., '10XGenomics_10XHC2_T0', '10XGenomics_10XHC3_T0', '10XGenomics_10XHC5_T0', '10XGenomics_10XHC7_T0', '10XGenomics_10XHC8_T0']\n",
       "Length: 74\n",
       "Categories (74, object): ['10XGenomics_10XHC1_T0', '10XGenomics_10XHC2_T0', '10XGenomics_10XHC3_T0', '10XGenomics_10XHC4_T0', ..., 'Savage2021_BRISL6_T0', 'Savage2021_BRISL7_T0', 'Savage2021_PIDA_T0', 'Savage2021_PIDB_T0']"
      ]
     },
     "execution_count": 10,
     "metadata": {},
     "output_type": "execute_result"
    }
   ],
   "source": [
    "train_adata.obs.sampleID.unique()"
   ]
  },
  {
   "cell_type": "code",
   "execution_count": 11,
   "id": "fa779c2b",
   "metadata": {
    "execution": {
     "iopub.execute_input": "2025-05-15T16:15:39.715626Z",
     "iopub.status.busy": "2025-05-15T16:15:39.715243Z",
     "iopub.status.idle": "2025-05-15T16:15:39.743861Z",
     "shell.execute_reply": "2025-05-15T16:15:39.743448Z"
    },
    "papermill": {
     "duration": 0.036415,
     "end_time": "2025-05-15T16:15:39.745159",
     "exception": false,
     "start_time": "2025-05-15T16:15:39.708744",
     "status": "completed"
    },
    "tags": []
   },
   "outputs": [],
   "source": [
    "all_idxs = np.arange(train_adata.obs.shape[0])\n",
    "left_out_splits = [s[1] for s in StratifiedGroupKFold(n_splits=N_SPLITS).split(all_idxs, train_adata.obs.disease, train_adata.obs.sampleID)]"
   ]
  },
  {
   "cell_type": "code",
   "execution_count": 12,
   "id": "e752c90f",
   "metadata": {
    "execution": {
     "iopub.execute_input": "2025-05-15T16:15:39.758804Z",
     "iopub.status.busy": "2025-05-15T16:15:39.758344Z",
     "iopub.status.idle": "2025-05-15T16:15:39.761546Z",
     "shell.execute_reply": "2025-05-15T16:15:39.761259Z"
    },
    "papermill": {
     "duration": 0.010201,
     "end_time": "2025-05-15T16:15:39.762368",
     "exception": false,
     "start_time": "2025-05-15T16:15:39.752167",
     "status": "completed"
    },
    "tags": []
   },
   "outputs": [
    {
     "data": {
      "text/plain": [
       "([2, 3, 4], 1, 0)"
      ]
     },
     "execution_count": 12,
     "metadata": {},
     "output_type": "execute_result"
    }
   ],
   "source": [
    "TRAIN_SPLIT_IDXS = [0,1,2,3,4]\n",
    "VAL_SPLIT_IDX = (TEST_SPLIT_IDX + 1) % 5\n",
    "TRAIN_SPLIT_IDXS.remove(TEST_SPLIT_IDX)\n",
    "TRAIN_SPLIT_IDXS.remove(VAL_SPLIT_IDX)\n",
    "TRAIN_SPLIT_IDXS, VAL_SPLIT_IDX, TEST_SPLIT_IDX"
   ]
  },
  {
   "cell_type": "code",
   "execution_count": 13,
   "id": "d7e0b82e",
   "metadata": {
    "execution": {
     "iopub.execute_input": "2025-05-15T16:15:39.775703Z",
     "iopub.status.busy": "2025-05-15T16:15:39.775325Z",
     "iopub.status.idle": "2025-05-15T16:15:39.777659Z",
     "shell.execute_reply": "2025-05-15T16:15:39.777369Z"
    },
    "papermill": {
     "duration": 0.010152,
     "end_time": "2025-05-15T16:15:39.778522",
     "exception": false,
     "start_time": "2025-05-15T16:15:39.768370",
     "status": "completed"
    },
    "tags": []
   },
   "outputs": [],
   "source": [
    "train_idxs = np.concatenate([left_out_splits[idx] for idx in TRAIN_SPLIT_IDXS])\n",
    "val_idxs = left_out_splits[VAL_SPLIT_IDX]\n",
    "test_idxs = left_out_splits[TEST_SPLIT_IDX]"
   ]
  },
  {
   "cell_type": "markdown",
   "id": "623b121d",
   "metadata": {
    "papermill": {
     "duration": 0.008538,
     "end_time": "2025-05-15T16:15:39.798510",
     "exception": false,
     "start_time": "2025-05-15T16:15:39.789972",
     "status": "completed"
    },
    "tags": []
   },
   "source": [
    "### SUBSET DATASET INTO TRAIN/TEST/VAL SPLITS"
   ]
  },
  {
   "cell_type": "code",
   "execution_count": 14,
   "id": "bd8ccefb",
   "metadata": {
    "execution": {
     "iopub.execute_input": "2025-05-15T16:15:39.811973Z",
     "iopub.status.busy": "2025-05-15T16:15:39.811761Z",
     "iopub.status.idle": "2025-05-15T16:15:39.817864Z",
     "shell.execute_reply": "2025-05-15T16:15:39.817556Z"
    },
    "papermill": {
     "duration": 0.01373,
     "end_time": "2025-05-15T16:15:39.818699",
     "exception": false,
     "start_time": "2025-05-15T16:15:39.804969",
     "status": "completed"
    },
    "tags": []
   },
   "outputs": [
    {
     "data": {
      "text/plain": [
       "((317, 107), (118, 107), (107, 107))"
      ]
     },
     "execution_count": 14,
     "metadata": {},
     "output_type": "execute_result"
    }
   ],
   "source": [
    "X_train = train_adata.X[train_idxs]\n",
    "X_test = train_adata.X[test_idxs]\n",
    "X_val = train_adata.X[val_idxs]\n",
    "X_train.shape, X_test.shape, X_val.shape"
   ]
  },
  {
   "cell_type": "code",
   "execution_count": 15,
   "id": "a75f76f1",
   "metadata": {
    "execution": {
     "iopub.execute_input": "2025-05-15T16:15:39.833698Z",
     "iopub.status.busy": "2025-05-15T16:15:39.833278Z",
     "iopub.status.idle": "2025-05-15T16:15:39.838136Z",
     "shell.execute_reply": "2025-05-15T16:15:39.837836Z"
    },
    "papermill": {
     "duration": 0.013613,
     "end_time": "2025-05-15T16:15:39.838988",
     "exception": false,
     "start_time": "2025-05-15T16:15:39.825375",
     "status": "completed"
    },
    "tags": []
   },
   "outputs": [
    {
     "data": {
      "text/plain": [
       "((317,), (118,), (107,))"
      ]
     },
     "execution_count": 15,
     "metadata": {},
     "output_type": "execute_result"
    }
   ],
   "source": [
    "y_train = train_adata.obs.iloc[train_idxs].disease.values.astype(str)\n",
    "y_test = train_adata.obs.iloc[test_idxs].disease.values.astype(str)\n",
    "y_val = train_adata.obs.iloc[val_idxs].disease.values.astype(str)\n",
    "y_train.shape, y_test.shape, y_val.shape"
   ]
  },
  {
   "cell_type": "code",
   "execution_count": 16,
   "id": "8f342c46",
   "metadata": {
    "execution": {
     "iopub.execute_input": "2025-05-15T16:15:39.853813Z",
     "iopub.status.busy": "2025-05-15T16:15:39.853420Z",
     "iopub.status.idle": "2025-05-15T16:15:39.856197Z",
     "shell.execute_reply": "2025-05-15T16:15:39.855893Z"
    },
    "papermill": {
     "duration": 0.010218,
     "end_time": "2025-05-15T16:15:39.857004",
     "exception": false,
     "start_time": "2025-05-15T16:15:39.846786",
     "status": "completed"
    },
    "tags": []
   },
   "outputs": [],
   "source": [
    "lenc = LabelEncoder()\n",
    "y_train_enc = lenc.fit_transform(y_train)\n",
    "y_val_enc = lenc.transform(y_val)\n",
    "y_test_enc = lenc.transform(y_test)"
   ]
  },
  {
   "cell_type": "markdown",
   "id": "b9160db4",
   "metadata": {
    "papermill": {
     "duration": 0.006038,
     "end_time": "2025-05-15T16:15:39.870381",
     "exception": false,
     "start_time": "2025-05-15T16:15:39.864343",
     "status": "completed"
    },
    "tags": []
   },
   "source": [
    "### GENERATE F1 "
   ]
  },
  {
   "cell_type": "code",
   "execution_count": 17,
   "id": "dd29dec9",
   "metadata": {
    "execution": {
     "iopub.execute_input": "2025-05-15T16:15:39.883782Z",
     "iopub.status.busy": "2025-05-15T16:15:39.883225Z",
     "iopub.status.idle": "2025-05-15T16:15:39.885979Z",
     "shell.execute_reply": "2025-05-15T16:15:39.885679Z"
    },
    "papermill": {
     "duration": 0.010352,
     "end_time": "2025-05-15T16:15:39.886775",
     "exception": false,
     "start_time": "2025-05-15T16:15:39.876423",
     "status": "completed"
    },
    "tags": []
   },
   "outputs": [],
   "source": [
    "def custom_f1_score(y_true, y_pred):\n",
    "    return -f1_score(y_true, y_pred.argmax(1), average='weighted')"
   ]
  },
  {
   "cell_type": "code",
   "execution_count": 18,
   "id": "ba5713f8",
   "metadata": {
    "execution": {
     "iopub.execute_input": "2025-05-15T16:15:39.899155Z",
     "iopub.status.busy": "2025-05-15T16:15:39.898771Z",
     "iopub.status.idle": "2025-05-15T16:15:39.902559Z",
     "shell.execute_reply": "2025-05-15T16:15:39.902267Z"
    },
    "papermill": {
     "duration": 0.010781,
     "end_time": "2025-05-15T16:15:39.903362",
     "exception": false,
     "start_time": "2025-05-15T16:15:39.892581",
     "status": "completed"
    },
    "tags": []
   },
   "outputs": [],
   "source": [
    "eval_metric=custom_f1_score\n",
    "eval_metric_name='custom_f1_score'\n",
    "\n",
    "def objective(trial):\n",
    "    params = {\n",
    "        'n_estimators': 1500,\n",
    "        'max_depth': trial.suggest_int('max_depth', 3, 20),\n",
    "        'min_child_weight': trial.suggest_int('min_child_weight', 1, 250),\n",
    "        'subsample': trial.suggest_float('subsample', 0.1, 1.0),\n",
    "        'colsample_bynode': trial.suggest_float('colsample_bynode', 0.1, 1.0),\n",
    "        'learning_rate': trial.suggest_float('learning_rate', 1e-3, 5e-1, log=True),\n",
    "    }\n",
    "    pruning_callback = optuna.integration.XGBoostPruningCallback(trial, f'validation_0-{eval_metric_name}')\n",
    "    es_callback = xgboost.callback.EarlyStopping(20, min_delta=0.001)\n",
    "    xgb = xgboost.XGBClassifier(\n",
    "        eval_metric=eval_metric,\n",
    "        callbacks=[pruning_callback, es_callback],\n",
    "        n_jobs=5,\n",
    "        **params\n",
    "    )\n",
    "    xgb.fit(\n",
    "        X_train, \n",
    "        y_train_enc, \n",
    "        verbose=0,\n",
    "        eval_set=[(X_val, y_val_enc)],\n",
    "    )\n",
    "    trial.set_user_attr('best_iteration', xgb.best_iteration)\n",
    "\n",
    "    return xgb.best_score"
   ]
  },
  {
   "cell_type": "code",
   "execution_count": 19,
   "id": "8ba22f15",
   "metadata": {
    "execution": {
     "iopub.execute_input": "2025-05-15T16:15:39.916631Z",
     "iopub.status.busy": "2025-05-15T16:15:39.916414Z",
     "iopub.status.idle": "2025-05-15T16:15:51.180781Z",
     "shell.execute_reply": "2025-05-15T16:15:51.180338Z"
    },
    "papermill": {
     "duration": 11.271955,
     "end_time": "2025-05-15T16:15:51.181704",
     "exception": false,
     "start_time": "2025-05-15T16:15:39.909749",
     "status": "completed"
    },
    "scrolled": true,
    "tags": []
   },
   "outputs": [
    {
     "name": "stderr",
     "output_type": "stream",
     "text": [
      "[I 2025-05-15 18:15:39,918] A new study created in memory with name: no-name-908add7d-71fb-4d27-8b6c-5ff713d6897a\n"
     ]
    },
    {
     "name": "stderr",
     "output_type": "stream",
     "text": [
      "[I 2025-05-15 18:15:40,004] Trial 0 finished with value: -0.019167 and parameters: {'max_depth': 9, 'min_child_weight': 238, 'subsample': 0.7587945476302645, 'colsample_bynode': 0.6387926357773329, 'learning_rate': 0.0026368755339723046}. Best is trial 0 with value: -0.019167.\n"
     ]
    },
    {
     "name": "stderr",
     "output_type": "stream",
     "text": [
      "[I 2025-05-15 18:15:40,341] Trial 1 finished with value: -0.473365 and parameters: {'max_depth': 5, 'min_child_weight': 15, 'subsample': 0.8795585311974417, 'colsample_bynode': 0.6410035105688879, 'learning_rate': 0.08148293210105287}. Best is trial 1 with value: -0.473365.\n"
     ]
    },
    {
     "name": "stderr",
     "output_type": "stream",
     "text": [
      "[I 2025-05-15 18:15:40,494] Trial 2 finished with value: -0.019167 and parameters: {'max_depth': 3, 'min_child_weight': 243, 'subsample': 0.8491983767203796, 'colsample_bynode': 0.29110519961044856, 'learning_rate': 0.003095566460242371}. Best is trial 1 with value: -0.473365.\n"
     ]
    },
    {
     "name": "stderr",
     "output_type": "stream",
     "text": [
      "[I 2025-05-15 18:15:40,643] Trial 3 finished with value: -0.019167 and parameters: {'max_depth': 6, 'min_child_weight': 77, 'subsample': 0.5722807884690141, 'colsample_bynode': 0.48875051677790415, 'learning_rate': 0.006109683510122491}. Best is trial 1 with value: -0.473365.\n"
     ]
    },
    {
     "name": "stderr",
     "output_type": "stream",
     "text": [
      "[I 2025-05-15 18:15:40,792] Trial 4 finished with value: -0.019167 and parameters: {'max_depth': 14, 'min_child_weight': 35, 'subsample': 0.3629301836816964, 'colsample_bynode': 0.4297256589643226, 'learning_rate': 0.01701841881702917}. Best is trial 1 with value: -0.473365.\n"
     ]
    },
    {
     "name": "stderr",
     "output_type": "stream",
     "text": [
      "[I 2025-05-15 18:15:40,957] Trial 5 finished with value: -0.019167 and parameters: {'max_depth': 17, 'min_child_weight': 50, 'subsample': 0.5628109945722505, 'colsample_bynode': 0.6331731119758383, 'learning_rate': 0.0013346527038305934}. Best is trial 1 with value: -0.473365.\n"
     ]
    },
    {
     "name": "stderr",
     "output_type": "stream",
     "text": [
      "[I 2025-05-15 18:15:41,119] Trial 6 finished with value: -0.019167 and parameters: {'max_depth': 13, 'min_child_weight': 43, 'subsample': 0.1585464336867516, 'colsample_bynode': 0.9539969835279999, 'learning_rate': 0.4038423798071558}. Best is trial 1 with value: -0.473365.\n"
     ]
    },
    {
     "name": "stderr",
     "output_type": "stream",
     "text": [
      "[I 2025-05-15 18:15:41,276] Trial 7 finished with value: -0.019167 and parameters: {'max_depth': 17, 'min_child_weight': 77, 'subsample': 0.1879049026057455, 'colsample_bynode': 0.7158097238609412, 'learning_rate': 0.015415527060141935}. Best is trial 1 with value: -0.473365.\n"
     ]
    },
    {
     "name": "stderr",
     "output_type": "stream",
     "text": [
      "[I 2025-05-15 18:15:41,437] Trial 8 finished with value: -0.019167 and parameters: {'max_depth': 5, 'min_child_weight': 124, 'subsample': 0.13094966900369656, 'colsample_bynode': 0.9183883618709039, 'learning_rate': 0.004993895014755658}. Best is trial 1 with value: -0.473365.\n"
     ]
    },
    {
     "name": "stderr",
     "output_type": "stream",
     "text": [
      "[I 2025-05-15 18:15:41,587] Trial 9 finished with value: -0.019167 and parameters: {'max_depth': 14, 'min_child_weight': 78, 'subsample': 0.5680612190600297, 'colsample_bynode': 0.5920392514089517, 'learning_rate': 0.0031543990308330965}. Best is trial 1 with value: -0.473365.\n"
     ]
    },
    {
     "name": "stderr",
     "output_type": "stream",
     "text": [
      "[I 2025-05-15 18:15:42,014] Trial 10 finished with value: -0.539994 and parameters: {'max_depth': 9, 'min_child_weight': 2, 'subsample': 0.9725833997090791, 'colsample_bynode': 0.11616568805333755, 'learning_rate': 0.17780618353487967}. Best is trial 10 with value: -0.539994.\n"
     ]
    },
    {
     "name": "stderr",
     "output_type": "stream",
     "text": [
      "[I 2025-05-15 18:15:42,314] Trial 11 pruned. Trial was pruned at iteration 22.\n"
     ]
    },
    {
     "name": "stderr",
     "output_type": "stream",
     "text": [
      "[I 2025-05-15 18:15:42,628] Trial 12 pruned. Trial was pruned at iteration 21.\n"
     ]
    },
    {
     "name": "stderr",
     "output_type": "stream",
     "text": [
      "[I 2025-05-15 18:15:42,805] Trial 13 finished with value: -0.019167 and parameters: {'max_depth': 6, 'min_child_weight': 173, 'subsample': 0.790863397930712, 'colsample_bynode': 0.8100137258468498, 'learning_rate': 0.09009490635410385}. Best is trial 10 with value: -0.539994.\n"
     ]
    },
    {
     "name": "stderr",
     "output_type": "stream",
     "text": [
      "[I 2025-05-15 18:15:42,979] Trial 14 finished with value: -0.019167 and parameters: {'max_depth': 11, 'min_child_weight': 132, 'subsample': 0.8756857866758896, 'colsample_bynode': 0.37234427067556525, 'learning_rate': 0.33580116263734355}. Best is trial 10 with value: -0.539994.\n"
     ]
    },
    {
     "name": "stderr",
     "output_type": "stream",
     "text": [
      "[I 2025-05-15 18:15:43,613] Trial 15 finished with value: -0.529255 and parameters: {'max_depth': 20, 'min_child_weight': 1, 'subsample': 0.6960027044621645, 'colsample_bynode': 0.29820978139149346, 'learning_rate': 0.03580498851951521}. Best is trial 10 with value: -0.539994.\n"
     ]
    },
    {
     "name": "stderr",
     "output_type": "stream",
     "text": [
      "[I 2025-05-15 18:15:43,786] Trial 16 finished with value: -0.019167 and parameters: {'max_depth': 20, 'min_child_weight': 116, 'subsample': 0.6730263351162008, 'colsample_bynode': 0.2727828997776047, 'learning_rate': 0.04069492241758615}. Best is trial 10 with value: -0.539994.\n"
     ]
    },
    {
     "name": "stderr",
     "output_type": "stream",
     "text": [
      "[I 2025-05-15 18:15:43,955] Trial 17 finished with value: -0.019167 and parameters: {'max_depth': 20, 'min_child_weight': 183, 'subsample': 0.4247113570339343, 'colsample_bynode': 0.12785121757072282, 'learning_rate': 0.2299310555205761}. Best is trial 10 with value: -0.539994.\n"
     ]
    },
    {
     "name": "stderr",
     "output_type": "stream",
     "text": [
      "[I 2025-05-15 18:15:44,119] Trial 18 finished with value: -0.153245 and parameters: {'max_depth': 17, 'min_child_weight': 37, 'subsample': 0.6810314786755066, 'colsample_bynode': 0.2665066863805862, 'learning_rate': 0.03874577508783683}. Best is trial 10 with value: -0.539994.\n"
     ]
    },
    {
     "name": "stderr",
     "output_type": "stream",
     "text": [
      "[I 2025-05-15 18:15:44,296] Trial 19 finished with value: -0.019167 and parameters: {'max_depth': 11, 'min_child_weight': 99, 'subsample': 0.4449158851718158, 'colsample_bynode': 0.3679418363674778, 'learning_rate': 0.184705251713814}. Best is trial 10 with value: -0.539994.\n"
     ]
    },
    {
     "name": "stderr",
     "output_type": "stream",
     "text": [
      "[I 2025-05-15 18:15:44,479] Trial 20 finished with value: -0.019167 and parameters: {'max_depth': 8, 'min_child_weight': 59, 'subsample': 0.7034906283443978, 'colsample_bynode': 0.20927736326660645, 'learning_rate': 0.02795316968542322}. Best is trial 10 with value: -0.539994.\n"
     ]
    },
    {
     "name": "stderr",
     "output_type": "stream",
     "text": [
      "[I 2025-05-15 18:15:44,701] Trial 21 pruned. Trial was pruned at iteration 21.\n"
     ]
    },
    {
     "name": "stderr",
     "output_type": "stream",
     "text": [
      "[I 2025-05-15 18:15:45,086] Trial 22 pruned. Trial was pruned at iteration 21.\n"
     ]
    },
    {
     "name": "stderr",
     "output_type": "stream",
     "text": [
      "[I 2025-05-15 18:15:45,271] Trial 23 pruned. Trial was pruned at iteration 21.\n"
     ]
    },
    {
     "name": "stderr",
     "output_type": "stream",
     "text": [
      "[I 2025-05-15 18:15:45,477] Trial 24 pruned. Trial was pruned at iteration 21.\n"
     ]
    },
    {
     "name": "stderr",
     "output_type": "stream",
     "text": [
      "[I 2025-05-15 18:15:45,656] Trial 25 finished with value: -0.153245 and parameters: {'max_depth': 15, 'min_child_weight': 61, 'subsample': 0.9147486853215612, 'colsample_bynode': 0.8368811542739161, 'learning_rate': 0.281809190534241}. Best is trial 10 with value: -0.539994.\n"
     ]
    },
    {
     "name": "stderr",
     "output_type": "stream",
     "text": [
      "[I 2025-05-15 18:15:45,863] Trial 26 pruned. Trial was pruned at iteration 21.\n"
     ]
    },
    {
     "name": "stderr",
     "output_type": "stream",
     "text": [
      "[I 2025-05-15 18:15:46,036] Trial 27 finished with value: -0.019167 and parameters: {'max_depth': 4, 'min_child_weight': 167, 'subsample': 0.830994423789636, 'colsample_bynode': 0.21229823281501087, 'learning_rate': 0.1346978034114215}. Best is trial 10 with value: -0.539994.\n"
     ]
    },
    {
     "name": "stderr",
     "output_type": "stream",
     "text": [
      "[I 2025-05-15 18:15:46,221] Trial 28 finished with value: -0.019167 and parameters: {'max_depth': 7, 'min_child_weight': 97, 'subsample': 0.6449794564639295, 'colsample_bynode': 0.7248556234905128, 'learning_rate': 0.05573108474472267}. Best is trial 10 with value: -0.539994.\n"
     ]
    },
    {
     "name": "stderr",
     "output_type": "stream",
     "text": [
      "[I 2025-05-15 18:15:46,411] Trial 29 finished with value: -0.019167 and parameters: {'max_depth': 8, 'min_child_weight': 217, 'subsample': 0.7573789978161415, 'colsample_bynode': 0.5877091799618283, 'learning_rate': 0.010709004830646147}. Best is trial 10 with value: -0.539994.\n"
     ]
    },
    {
     "name": "stderr",
     "output_type": "stream",
     "text": [
      "[I 2025-05-15 18:15:46,608] Trial 30 finished with value: -0.019167 and parameters: {'max_depth': 16, 'min_child_weight': 150, 'subsample': 0.933304889647078, 'colsample_bynode': 0.45501316027533834, 'learning_rate': 0.08706757351599964}. Best is trial 10 with value: -0.539994.\n"
     ]
    },
    {
     "name": "stderr",
     "output_type": "stream",
     "text": [
      "[I 2025-05-15 18:15:46,787] Trial 31 finished with value: -0.153245 and parameters: {'max_depth': 19, 'min_child_weight': 34, 'subsample': 0.6501396168437212, 'colsample_bynode': 0.27367662171607393, 'learning_rate': 0.04044661010693036}. Best is trial 10 with value: -0.539994.\n"
     ]
    },
    {
     "name": "stderr",
     "output_type": "stream",
     "text": [
      "[I 2025-05-15 18:15:46,999] Trial 32 pruned. Trial was pruned at iteration 21.\n"
     ]
    },
    {
     "name": "stderr",
     "output_type": "stream",
     "text": [
      "[I 2025-05-15 18:15:47,138] Trial 33 pruned. Trial was pruned at iteration 0.\n"
     ]
    },
    {
     "name": "stderr",
     "output_type": "stream",
     "text": [
      "[I 2025-05-15 18:15:47,836] Trial 34 finished with value: -0.550093 and parameters: {'max_depth': 19, 'min_child_weight': 1, 'subsample': 0.6291388423118013, 'colsample_bynode': 0.42157668635905066, 'learning_rate': 0.05526349362271774}. Best is trial 34 with value: -0.550093.\n"
     ]
    },
    {
     "name": "stderr",
     "output_type": "stream",
     "text": [
      "[I 2025-05-15 18:15:48,185] Trial 35 pruned. Trial was pruned at iteration 21.\n"
     ]
    },
    {
     "name": "stderr",
     "output_type": "stream",
     "text": [
      "[I 2025-05-15 18:15:48,355] Trial 36 finished with value: -0.019167 and parameters: {'max_depth': 13, 'min_child_weight': 48, 'subsample': 0.2547641867017203, 'colsample_bynode': 0.45477828558039907, 'learning_rate': 0.05961091686536624}. Best is trial 34 with value: -0.550093.\n"
     ]
    },
    {
     "name": "stderr",
     "output_type": "stream",
     "text": [
      "[I 2025-05-15 18:15:48,530] Trial 37 finished with value: -0.019167 and parameters: {'max_depth': 15, 'min_child_weight': 65, 'subsample': 0.7146028959873922, 'colsample_bynode': 0.5807375239547374, 'learning_rate': 0.1189835541612129}. Best is trial 34 with value: -0.550093.\n"
     ]
    },
    {
     "name": "stderr",
     "output_type": "stream",
     "text": [
      "[I 2025-05-15 18:15:48,714] Trial 38 finished with value: -0.153245 and parameters: {'max_depth': 10, 'min_child_weight': 25, 'subsample': 0.5057966996056662, 'colsample_bynode': 0.3265752123770542, 'learning_rate': 0.016522528705112272}. Best is trial 34 with value: -0.550093.\n"
     ]
    },
    {
     "name": "stderr",
     "output_type": "stream",
     "text": [
      "[I 2025-05-15 18:15:48,995] Trial 39 finished with value: -0.542265 and parameters: {'max_depth': 3, 'min_child_weight': 11, 'subsample': 0.6054533230727066, 'colsample_bynode': 0.4014729995027102, 'learning_rate': 0.4727363411197455}. Best is trial 34 with value: -0.550093.\n"
     ]
    },
    {
     "name": "stderr",
     "output_type": "stream",
     "text": [
      "[I 2025-05-15 18:15:49,179] Trial 40 finished with value: -0.019167 and parameters: {'max_depth': 19, 'min_child_weight': 218, 'subsample': 0.6135397358527036, 'colsample_bynode': 0.3883438792867827, 'learning_rate': 0.22495879726012566}. Best is trial 34 with value: -0.550093.\n"
     ]
    },
    {
     "name": "stderr",
     "output_type": "stream",
     "text": [
      "[I 2025-05-15 18:15:49,373] Trial 41 pruned. Trial was pruned at iteration 21.\n"
     ]
    },
    {
     "name": "stderr",
     "output_type": "stream",
     "text": [
      "[I 2025-05-15 18:15:49,586] Trial 42 pruned. Trial was pruned at iteration 21.\n"
     ]
    },
    {
     "name": "stderr",
     "output_type": "stream",
     "text": [
      "[I 2025-05-15 18:15:49,772] Trial 43 finished with value: -0.019167 and parameters: {'max_depth': 5, 'min_child_weight': 31, 'subsample': 0.35135617522807844, 'colsample_bynode': 0.4860854184710064, 'learning_rate': 0.07990262023087466}. Best is trial 34 with value: -0.550093.\n"
     ]
    },
    {
     "name": "stderr",
     "output_type": "stream",
     "text": [
      "[I 2025-05-15 18:15:49,950] Trial 44 pruned. Trial was pruned at iteration 21.\n"
     ]
    },
    {
     "name": "stderr",
     "output_type": "stream",
     "text": [
      "[I 2025-05-15 18:15:50,314] Trial 45 pruned. Trial was pruned at iteration 21.\n"
     ]
    },
    {
     "name": "stderr",
     "output_type": "stream",
     "text": [
      "[I 2025-05-15 18:15:50,532] Trial 46 pruned. Trial was pruned at iteration 21.\n"
     ]
    },
    {
     "name": "stderr",
     "output_type": "stream",
     "text": [
      "[I 2025-05-15 18:15:50,714] Trial 47 pruned. Trial was pruned at iteration 21.\n"
     ]
    },
    {
     "name": "stderr",
     "output_type": "stream",
     "text": [
      "[I 2025-05-15 18:15:50,895] Trial 48 finished with value: -0.019167 and parameters: {'max_depth': 20, 'min_child_weight': 74, 'subsample': 0.7687152832112774, 'colsample_bynode': 0.42099000650699003, 'learning_rate': 0.10565439715986213}. Best is trial 34 with value: -0.550093.\n"
     ]
    },
    {
     "name": "stderr",
     "output_type": "stream",
     "text": [
      "[I 2025-05-15 18:15:51,074] Trial 49 pruned. Trial was pruned at iteration 21.\n"
     ]
    }
   ],
   "source": [
    "sampler = optuna.samplers.TPESampler(seed=42)\n",
    "study = optuna.create_study(direction='minimize', sampler=sampler)\n",
    "study.optimize(objective, n_trials=N_TRIALS, gc_after_trial=True)"
   ]
  },
  {
   "cell_type": "code",
   "execution_count": 20,
   "id": "4a8b20cb",
   "metadata": {
    "execution": {
     "iopub.execute_input": "2025-05-15T16:15:51.200144Z",
     "iopub.status.busy": "2025-05-15T16:15:51.199646Z",
     "iopub.status.idle": "2025-05-15T16:15:51.220279Z",
     "shell.execute_reply": "2025-05-15T16:15:51.219966Z"
    },
    "papermill": {
     "duration": 0.030027,
     "end_time": "2025-05-15T16:15:51.221072",
     "exception": false,
     "start_time": "2025-05-15T16:15:51.191045",
     "status": "completed"
    },
    "tags": []
   },
   "outputs": [
    {
     "data": {
      "text/plain": [
       "['/scratch_isilon/groups/singlecell/shared/projects/Inflammation-PBMCs-Atlas/03_downstream_analysis/08_gene_importance/xgboost_external_validation/xgboost_TopN_genes/results_20/study/Plasma_11_0_xgboost.pkl']"
      ]
     },
     "execution_count": 20,
     "metadata": {},
     "output_type": "execute_result"
    }
   ],
   "source": [
    "out_dir = here(f'03_downstream_analysis/08_gene_importance/xgboost_external_validation/xgboost_TopN_genes/results_{N_GENES}/study')\n",
    "\n",
    "if not os.path.exists(out_dir):\n",
    "    os.makedirs(out_dir)\n",
    "    \n",
    "joblib.dump(study,os.path.join(out_dir, f'{CELL_TYPE}_{SEED}_{TEST_SPLIT_IDX}_xgboost.pkl'))"
   ]
  },
  {
   "cell_type": "code",
   "execution_count": 21,
   "id": "8df184c0",
   "metadata": {
    "execution": {
     "iopub.execute_input": "2025-05-15T16:15:51.240462Z",
     "iopub.status.busy": "2025-05-15T16:15:51.240253Z",
     "iopub.status.idle": "2025-05-15T16:15:51.643471Z",
     "shell.execute_reply": "2025-05-15T16:15:51.643070Z"
    },
    "papermill": {
     "duration": 0.413102,
     "end_time": "2025-05-15T16:15:51.644574",
     "exception": false,
     "start_time": "2025-05-15T16:15:51.231472",
     "status": "completed"
    },
    "tags": []
   },
   "outputs": [
    {
     "data": {
      "text/html": [
       "<style>#sk-container-id-1 {\n",
       "  /* Definition of color scheme common for light and dark mode */\n",
       "  --sklearn-color-text: black;\n",
       "  --sklearn-color-line: gray;\n",
       "  /* Definition of color scheme for unfitted estimators */\n",
       "  --sklearn-color-unfitted-level-0: #fff5e6;\n",
       "  --sklearn-color-unfitted-level-1: #f6e4d2;\n",
       "  --sklearn-color-unfitted-level-2: #ffe0b3;\n",
       "  --sklearn-color-unfitted-level-3: chocolate;\n",
       "  /* Definition of color scheme for fitted estimators */\n",
       "  --sklearn-color-fitted-level-0: #f0f8ff;\n",
       "  --sklearn-color-fitted-level-1: #d4ebff;\n",
       "  --sklearn-color-fitted-level-2: #b3dbfd;\n",
       "  --sklearn-color-fitted-level-3: cornflowerblue;\n",
       "\n",
       "  /* Specific color for light theme */\n",
       "  --sklearn-color-text-on-default-background: var(--sg-text-color, var(--theme-code-foreground, var(--jp-content-font-color1, black)));\n",
       "  --sklearn-color-background: var(--sg-background-color, var(--theme-background, var(--jp-layout-color0, white)));\n",
       "  --sklearn-color-border-box: var(--sg-text-color, var(--theme-code-foreground, var(--jp-content-font-color1, black)));\n",
       "  --sklearn-color-icon: #696969;\n",
       "\n",
       "  @media (prefers-color-scheme: dark) {\n",
       "    /* Redefinition of color scheme for dark theme */\n",
       "    --sklearn-color-text-on-default-background: var(--sg-text-color, var(--theme-code-foreground, var(--jp-content-font-color1, white)));\n",
       "    --sklearn-color-background: var(--sg-background-color, var(--theme-background, var(--jp-layout-color0, #111)));\n",
       "    --sklearn-color-border-box: var(--sg-text-color, var(--theme-code-foreground, var(--jp-content-font-color1, white)));\n",
       "    --sklearn-color-icon: #878787;\n",
       "  }\n",
       "}\n",
       "\n",
       "#sk-container-id-1 {\n",
       "  color: var(--sklearn-color-text);\n",
       "}\n",
       "\n",
       "#sk-container-id-1 pre {\n",
       "  padding: 0;\n",
       "}\n",
       "\n",
       "#sk-container-id-1 input.sk-hidden--visually {\n",
       "  border: 0;\n",
       "  clip: rect(1px 1px 1px 1px);\n",
       "  clip: rect(1px, 1px, 1px, 1px);\n",
       "  height: 1px;\n",
       "  margin: -1px;\n",
       "  overflow: hidden;\n",
       "  padding: 0;\n",
       "  position: absolute;\n",
       "  width: 1px;\n",
       "}\n",
       "\n",
       "#sk-container-id-1 div.sk-dashed-wrapped {\n",
       "  border: 1px dashed var(--sklearn-color-line);\n",
       "  margin: 0 0.4em 0.5em 0.4em;\n",
       "  box-sizing: border-box;\n",
       "  padding-bottom: 0.4em;\n",
       "  background-color: var(--sklearn-color-background);\n",
       "}\n",
       "\n",
       "#sk-container-id-1 div.sk-container {\n",
       "  /* jupyter's `normalize.less` sets `[hidden] { display: none; }`\n",
       "     but bootstrap.min.css set `[hidden] { display: none !important; }`\n",
       "     so we also need the `!important` here to be able to override the\n",
       "     default hidden behavior on the sphinx rendered scikit-learn.org.\n",
       "     See: https://github.com/scikit-learn/scikit-learn/issues/21755 */\n",
       "  display: inline-block !important;\n",
       "  position: relative;\n",
       "}\n",
       "\n",
       "#sk-container-id-1 div.sk-text-repr-fallback {\n",
       "  display: none;\n",
       "}\n",
       "\n",
       "div.sk-parallel-item,\n",
       "div.sk-serial,\n",
       "div.sk-item {\n",
       "  /* draw centered vertical line to link estimators */\n",
       "  background-image: linear-gradient(var(--sklearn-color-text-on-default-background), var(--sklearn-color-text-on-default-background));\n",
       "  background-size: 2px 100%;\n",
       "  background-repeat: no-repeat;\n",
       "  background-position: center center;\n",
       "}\n",
       "\n",
       "/* Parallel-specific style estimator block */\n",
       "\n",
       "#sk-container-id-1 div.sk-parallel-item::after {\n",
       "  content: \"\";\n",
       "  width: 100%;\n",
       "  border-bottom: 2px solid var(--sklearn-color-text-on-default-background);\n",
       "  flex-grow: 1;\n",
       "}\n",
       "\n",
       "#sk-container-id-1 div.sk-parallel {\n",
       "  display: flex;\n",
       "  align-items: stretch;\n",
       "  justify-content: center;\n",
       "  background-color: var(--sklearn-color-background);\n",
       "  position: relative;\n",
       "}\n",
       "\n",
       "#sk-container-id-1 div.sk-parallel-item {\n",
       "  display: flex;\n",
       "  flex-direction: column;\n",
       "}\n",
       "\n",
       "#sk-container-id-1 div.sk-parallel-item:first-child::after {\n",
       "  align-self: flex-end;\n",
       "  width: 50%;\n",
       "}\n",
       "\n",
       "#sk-container-id-1 div.sk-parallel-item:last-child::after {\n",
       "  align-self: flex-start;\n",
       "  width: 50%;\n",
       "}\n",
       "\n",
       "#sk-container-id-1 div.sk-parallel-item:only-child::after {\n",
       "  width: 0;\n",
       "}\n",
       "\n",
       "/* Serial-specific style estimator block */\n",
       "\n",
       "#sk-container-id-1 div.sk-serial {\n",
       "  display: flex;\n",
       "  flex-direction: column;\n",
       "  align-items: center;\n",
       "  background-color: var(--sklearn-color-background);\n",
       "  padding-right: 1em;\n",
       "  padding-left: 1em;\n",
       "}\n",
       "\n",
       "\n",
       "/* Toggleable style: style used for estimator/Pipeline/ColumnTransformer box that is\n",
       "clickable and can be expanded/collapsed.\n",
       "- Pipeline and ColumnTransformer use this feature and define the default style\n",
       "- Estimators will overwrite some part of the style using the `sk-estimator` class\n",
       "*/\n",
       "\n",
       "/* Pipeline and ColumnTransformer style (default) */\n",
       "\n",
       "#sk-container-id-1 div.sk-toggleable {\n",
       "  /* Default theme specific background. It is overwritten whether we have a\n",
       "  specific estimator or a Pipeline/ColumnTransformer */\n",
       "  background-color: var(--sklearn-color-background);\n",
       "}\n",
       "\n",
       "/* Toggleable label */\n",
       "#sk-container-id-1 label.sk-toggleable__label {\n",
       "  cursor: pointer;\n",
       "  display: block;\n",
       "  width: 100%;\n",
       "  margin-bottom: 0;\n",
       "  padding: 0.5em;\n",
       "  box-sizing: border-box;\n",
       "  text-align: center;\n",
       "}\n",
       "\n",
       "#sk-container-id-1 label.sk-toggleable__label-arrow:before {\n",
       "  /* Arrow on the left of the label */\n",
       "  content: \"▸\";\n",
       "  float: left;\n",
       "  margin-right: 0.25em;\n",
       "  color: var(--sklearn-color-icon);\n",
       "}\n",
       "\n",
       "#sk-container-id-1 label.sk-toggleable__label-arrow:hover:before {\n",
       "  color: var(--sklearn-color-text);\n",
       "}\n",
       "\n",
       "/* Toggleable content - dropdown */\n",
       "\n",
       "#sk-container-id-1 div.sk-toggleable__content {\n",
       "  max-height: 0;\n",
       "  max-width: 0;\n",
       "  overflow: hidden;\n",
       "  text-align: left;\n",
       "  /* unfitted */\n",
       "  background-color: var(--sklearn-color-unfitted-level-0);\n",
       "}\n",
       "\n",
       "#sk-container-id-1 div.sk-toggleable__content.fitted {\n",
       "  /* fitted */\n",
       "  background-color: var(--sklearn-color-fitted-level-0);\n",
       "}\n",
       "\n",
       "#sk-container-id-1 div.sk-toggleable__content pre {\n",
       "  margin: 0.2em;\n",
       "  border-radius: 0.25em;\n",
       "  color: var(--sklearn-color-text);\n",
       "  /* unfitted */\n",
       "  background-color: var(--sklearn-color-unfitted-level-0);\n",
       "}\n",
       "\n",
       "#sk-container-id-1 div.sk-toggleable__content.fitted pre {\n",
       "  /* unfitted */\n",
       "  background-color: var(--sklearn-color-fitted-level-0);\n",
       "}\n",
       "\n",
       "#sk-container-id-1 input.sk-toggleable__control:checked~div.sk-toggleable__content {\n",
       "  /* Expand drop-down */\n",
       "  max-height: 200px;\n",
       "  max-width: 100%;\n",
       "  overflow: auto;\n",
       "}\n",
       "\n",
       "#sk-container-id-1 input.sk-toggleable__control:checked~label.sk-toggleable__label-arrow:before {\n",
       "  content: \"▾\";\n",
       "}\n",
       "\n",
       "/* Pipeline/ColumnTransformer-specific style */\n",
       "\n",
       "#sk-container-id-1 div.sk-label input.sk-toggleable__control:checked~label.sk-toggleable__label {\n",
       "  color: var(--sklearn-color-text);\n",
       "  background-color: var(--sklearn-color-unfitted-level-2);\n",
       "}\n",
       "\n",
       "#sk-container-id-1 div.sk-label.fitted input.sk-toggleable__control:checked~label.sk-toggleable__label {\n",
       "  background-color: var(--sklearn-color-fitted-level-2);\n",
       "}\n",
       "\n",
       "/* Estimator-specific style */\n",
       "\n",
       "/* Colorize estimator box */\n",
       "#sk-container-id-1 div.sk-estimator input.sk-toggleable__control:checked~label.sk-toggleable__label {\n",
       "  /* unfitted */\n",
       "  background-color: var(--sklearn-color-unfitted-level-2);\n",
       "}\n",
       "\n",
       "#sk-container-id-1 div.sk-estimator.fitted input.sk-toggleable__control:checked~label.sk-toggleable__label {\n",
       "  /* fitted */\n",
       "  background-color: var(--sklearn-color-fitted-level-2);\n",
       "}\n",
       "\n",
       "#sk-container-id-1 div.sk-label label.sk-toggleable__label,\n",
       "#sk-container-id-1 div.sk-label label {\n",
       "  /* The background is the default theme color */\n",
       "  color: var(--sklearn-color-text-on-default-background);\n",
       "}\n",
       "\n",
       "/* On hover, darken the color of the background */\n",
       "#sk-container-id-1 div.sk-label:hover label.sk-toggleable__label {\n",
       "  color: var(--sklearn-color-text);\n",
       "  background-color: var(--sklearn-color-unfitted-level-2);\n",
       "}\n",
       "\n",
       "/* Label box, darken color on hover, fitted */\n",
       "#sk-container-id-1 div.sk-label.fitted:hover label.sk-toggleable__label.fitted {\n",
       "  color: var(--sklearn-color-text);\n",
       "  background-color: var(--sklearn-color-fitted-level-2);\n",
       "}\n",
       "\n",
       "/* Estimator label */\n",
       "\n",
       "#sk-container-id-1 div.sk-label label {\n",
       "  font-family: monospace;\n",
       "  font-weight: bold;\n",
       "  display: inline-block;\n",
       "  line-height: 1.2em;\n",
       "}\n",
       "\n",
       "#sk-container-id-1 div.sk-label-container {\n",
       "  text-align: center;\n",
       "}\n",
       "\n",
       "/* Estimator-specific */\n",
       "#sk-container-id-1 div.sk-estimator {\n",
       "  font-family: monospace;\n",
       "  border: 1px dotted var(--sklearn-color-border-box);\n",
       "  border-radius: 0.25em;\n",
       "  box-sizing: border-box;\n",
       "  margin-bottom: 0.5em;\n",
       "  /* unfitted */\n",
       "  background-color: var(--sklearn-color-unfitted-level-0);\n",
       "}\n",
       "\n",
       "#sk-container-id-1 div.sk-estimator.fitted {\n",
       "  /* fitted */\n",
       "  background-color: var(--sklearn-color-fitted-level-0);\n",
       "}\n",
       "\n",
       "/* on hover */\n",
       "#sk-container-id-1 div.sk-estimator:hover {\n",
       "  /* unfitted */\n",
       "  background-color: var(--sklearn-color-unfitted-level-2);\n",
       "}\n",
       "\n",
       "#sk-container-id-1 div.sk-estimator.fitted:hover {\n",
       "  /* fitted */\n",
       "  background-color: var(--sklearn-color-fitted-level-2);\n",
       "}\n",
       "\n",
       "/* Specification for estimator info (e.g. \"i\" and \"?\") */\n",
       "\n",
       "/* Common style for \"i\" and \"?\" */\n",
       "\n",
       ".sk-estimator-doc-link,\n",
       "a:link.sk-estimator-doc-link,\n",
       "a:visited.sk-estimator-doc-link {\n",
       "  float: right;\n",
       "  font-size: smaller;\n",
       "  line-height: 1em;\n",
       "  font-family: monospace;\n",
       "  background-color: var(--sklearn-color-background);\n",
       "  border-radius: 1em;\n",
       "  height: 1em;\n",
       "  width: 1em;\n",
       "  text-decoration: none !important;\n",
       "  margin-left: 1ex;\n",
       "  /* unfitted */\n",
       "  border: var(--sklearn-color-unfitted-level-1) 1pt solid;\n",
       "  color: var(--sklearn-color-unfitted-level-1);\n",
       "}\n",
       "\n",
       ".sk-estimator-doc-link.fitted,\n",
       "a:link.sk-estimator-doc-link.fitted,\n",
       "a:visited.sk-estimator-doc-link.fitted {\n",
       "  /* fitted */\n",
       "  border: var(--sklearn-color-fitted-level-1) 1pt solid;\n",
       "  color: var(--sklearn-color-fitted-level-1);\n",
       "}\n",
       "\n",
       "/* On hover */\n",
       "div.sk-estimator:hover .sk-estimator-doc-link:hover,\n",
       ".sk-estimator-doc-link:hover,\n",
       "div.sk-label-container:hover .sk-estimator-doc-link:hover,\n",
       ".sk-estimator-doc-link:hover {\n",
       "  /* unfitted */\n",
       "  background-color: var(--sklearn-color-unfitted-level-3);\n",
       "  color: var(--sklearn-color-background);\n",
       "  text-decoration: none;\n",
       "}\n",
       "\n",
       "div.sk-estimator.fitted:hover .sk-estimator-doc-link.fitted:hover,\n",
       ".sk-estimator-doc-link.fitted:hover,\n",
       "div.sk-label-container:hover .sk-estimator-doc-link.fitted:hover,\n",
       ".sk-estimator-doc-link.fitted:hover {\n",
       "  /* fitted */\n",
       "  background-color: var(--sklearn-color-fitted-level-3);\n",
       "  color: var(--sklearn-color-background);\n",
       "  text-decoration: none;\n",
       "}\n",
       "\n",
       "/* Span, style for the box shown on hovering the info icon */\n",
       ".sk-estimator-doc-link span {\n",
       "  display: none;\n",
       "  z-index: 9999;\n",
       "  position: relative;\n",
       "  font-weight: normal;\n",
       "  right: .2ex;\n",
       "  padding: .5ex;\n",
       "  margin: .5ex;\n",
       "  width: min-content;\n",
       "  min-width: 20ex;\n",
       "  max-width: 50ex;\n",
       "  color: var(--sklearn-color-text);\n",
       "  box-shadow: 2pt 2pt 4pt #999;\n",
       "  /* unfitted */\n",
       "  background: var(--sklearn-color-unfitted-level-0);\n",
       "  border: .5pt solid var(--sklearn-color-unfitted-level-3);\n",
       "}\n",
       "\n",
       ".sk-estimator-doc-link.fitted span {\n",
       "  /* fitted */\n",
       "  background: var(--sklearn-color-fitted-level-0);\n",
       "  border: var(--sklearn-color-fitted-level-3);\n",
       "}\n",
       "\n",
       ".sk-estimator-doc-link:hover span {\n",
       "  display: block;\n",
       "}\n",
       "\n",
       "/* \"?\"-specific style due to the `<a>` HTML tag */\n",
       "\n",
       "#sk-container-id-1 a.estimator_doc_link {\n",
       "  float: right;\n",
       "  font-size: 1rem;\n",
       "  line-height: 1em;\n",
       "  font-family: monospace;\n",
       "  background-color: var(--sklearn-color-background);\n",
       "  border-radius: 1rem;\n",
       "  height: 1rem;\n",
       "  width: 1rem;\n",
       "  text-decoration: none;\n",
       "  /* unfitted */\n",
       "  color: var(--sklearn-color-unfitted-level-1);\n",
       "  border: var(--sklearn-color-unfitted-level-1) 1pt solid;\n",
       "}\n",
       "\n",
       "#sk-container-id-1 a.estimator_doc_link.fitted {\n",
       "  /* fitted */\n",
       "  border: var(--sklearn-color-fitted-level-1) 1pt solid;\n",
       "  color: var(--sklearn-color-fitted-level-1);\n",
       "}\n",
       "\n",
       "/* On hover */\n",
       "#sk-container-id-1 a.estimator_doc_link:hover {\n",
       "  /* unfitted */\n",
       "  background-color: var(--sklearn-color-unfitted-level-3);\n",
       "  color: var(--sklearn-color-background);\n",
       "  text-decoration: none;\n",
       "}\n",
       "\n",
       "#sk-container-id-1 a.estimator_doc_link.fitted:hover {\n",
       "  /* fitted */\n",
       "  background-color: var(--sklearn-color-fitted-level-3);\n",
       "}\n",
       "</style><div id=\"sk-container-id-1\" class=\"sk-top-container\"><div class=\"sk-text-repr-fallback\"><pre>XGBClassifier(base_score=None, booster=None, callbacks=None,\n",
       "              colsample_bylevel=None, colsample_bynode=0.42157668635905066,\n",
       "              colsample_bytree=None, device=None, early_stopping_rounds=None,\n",
       "              enable_categorical=False,\n",
       "              eval_metric=&lt;function custom_f1_score at 0x7f54dfdd7740&gt;,\n",
       "              feature_types=None, gamma=None, grow_policy=None,\n",
       "              importance_type=None, interaction_constraints=None,\n",
       "              learning_rate=0.05526349362271774, max_bin=None,\n",
       "              max_cat_threshold=None, max_cat_to_onehot=None,\n",
       "              max_delta_step=None, max_depth=19, max_leaves=None,\n",
       "              min_child_weight=1, missing=nan, monotone_constraints=None,\n",
       "              multi_strategy=None, n_estimators=28, n_jobs=None,\n",
       "              num_parallel_tree=None, objective=&#x27;multi:softprob&#x27;, ...)</pre><b>In a Jupyter environment, please rerun this cell to show the HTML representation or trust the notebook. <br />On GitHub, the HTML representation is unable to render, please try loading this page with nbviewer.org.</b></div><div class=\"sk-container\" hidden><div class=\"sk-item\"><div class=\"sk-estimator fitted sk-toggleable\"><input class=\"sk-toggleable__control sk-hidden--visually\" id=\"sk-estimator-id-1\" type=\"checkbox\" checked><label for=\"sk-estimator-id-1\" class=\"sk-toggleable__label fitted sk-toggleable__label-arrow fitted\">&nbsp;XGBClassifier<span class=\"sk-estimator-doc-link fitted\">i<span>Fitted</span></span></label><div class=\"sk-toggleable__content fitted\"><pre>XGBClassifier(base_score=None, booster=None, callbacks=None,\n",
       "              colsample_bylevel=None, colsample_bynode=0.42157668635905066,\n",
       "              colsample_bytree=None, device=None, early_stopping_rounds=None,\n",
       "              enable_categorical=False,\n",
       "              eval_metric=&lt;function custom_f1_score at 0x7f54dfdd7740&gt;,\n",
       "              feature_types=None, gamma=None, grow_policy=None,\n",
       "              importance_type=None, interaction_constraints=None,\n",
       "              learning_rate=0.05526349362271774, max_bin=None,\n",
       "              max_cat_threshold=None, max_cat_to_onehot=None,\n",
       "              max_delta_step=None, max_depth=19, max_leaves=None,\n",
       "              min_child_weight=1, missing=nan, monotone_constraints=None,\n",
       "              multi_strategy=None, n_estimators=28, n_jobs=None,\n",
       "              num_parallel_tree=None, objective=&#x27;multi:softprob&#x27;, ...)</pre></div> </div></div></div></div>"
      ],
      "text/plain": [
       "XGBClassifier(base_score=None, booster=None, callbacks=None,\n",
       "              colsample_bylevel=None, colsample_bynode=0.42157668635905066,\n",
       "              colsample_bytree=None, device=None, early_stopping_rounds=None,\n",
       "              enable_categorical=False,\n",
       "              eval_metric=<function custom_f1_score at 0x7f54dfdd7740>,\n",
       "              feature_types=None, gamma=None, grow_policy=None,\n",
       "              importance_type=None, interaction_constraints=None,\n",
       "              learning_rate=0.05526349362271774, max_bin=None,\n",
       "              max_cat_threshold=None, max_cat_to_onehot=None,\n",
       "              max_delta_step=None, max_depth=19, max_leaves=None,\n",
       "              min_child_weight=1, missing=nan, monotone_constraints=None,\n",
       "              multi_strategy=None, n_estimators=28, n_jobs=None,\n",
       "              num_parallel_tree=None, objective='multi:softprob', ...)"
      ]
     },
     "execution_count": 21,
     "metadata": {},
     "output_type": "execute_result"
    }
   ],
   "source": [
    "n_estimators = int(study.best_trial.user_attrs['best_iteration']*1.2)\n",
    "xgb = xgboost.XGBClassifier(\n",
    "        eval_metric=eval_metric,\n",
    "        n_estimators=n_estimators,\n",
    "        **study.best_trial.params\n",
    "    )\n",
    "xgb.fit(\n",
    "    ssp.vstack((X_train, X_val)), \n",
    "    np.concatenate((y_train_enc, y_val_enc)),\n",
    "    verbose=1,\n",
    ")"
   ]
  },
  {
   "cell_type": "code",
   "execution_count": 22,
   "id": "b1d6ff48",
   "metadata": {
    "execution": {
     "iopub.execute_input": "2025-05-15T16:15:51.662441Z",
     "iopub.status.busy": "2025-05-15T16:15:51.662008Z",
     "iopub.status.idle": "2025-05-15T16:15:51.682320Z",
     "shell.execute_reply": "2025-05-15T16:15:51.681976Z"
    },
    "papermill": {
     "duration": 0.029737,
     "end_time": "2025-05-15T16:15:51.683203",
     "exception": false,
     "start_time": "2025-05-15T16:15:51.653466",
     "status": "completed"
    },
    "tags": []
   },
   "outputs": [
    {
     "data": {
      "text/plain": [
       "['/scratch_isilon/groups/singlecell/shared/projects/Inflammation-PBMCs-Atlas/03_downstream_analysis/08_gene_importance/xgboost_external_validation/xgboost_TopN_genes/results_20/best_model/Plasma_11_0_xgb.json']"
      ]
     },
     "execution_count": 22,
     "metadata": {},
     "output_type": "execute_result"
    }
   ],
   "source": [
    "out_dir = here(f'03_downstream_analysis/08_gene_importance/xgboost_external_validation/xgboost_TopN_genes/results_{N_GENES}/best_model')\n",
    "\n",
    "if not os.path.exists(out_dir):\n",
    "    os.makedirs(out_dir)\n",
    "    \n",
    "joblib.dump(xgb, os.path.join(out_dir, f'{CELL_TYPE}_{SEED}_{TEST_SPLIT_IDX}_xgb.json'))"
   ]
  },
  {
   "cell_type": "code",
   "execution_count": 23,
   "id": "1ae5b80e",
   "metadata": {
    "execution": {
     "iopub.execute_input": "2025-05-15T16:15:51.702877Z",
     "iopub.status.busy": "2025-05-15T16:15:51.702516Z",
     "iopub.status.idle": "2025-05-15T16:15:51.710360Z",
     "shell.execute_reply": "2025-05-15T16:15:51.710062Z"
    },
    "papermill": {
     "duration": 0.022939,
     "end_time": "2025-05-15T16:15:51.715243",
     "exception": false,
     "start_time": "2025-05-15T16:15:51.692304",
     "status": "completed"
    },
    "tags": []
   },
   "outputs": [],
   "source": [
    "df_pred_test = pd.DataFrame(dict(\n",
    "    cell_id=train_adata.obs.iloc[test_idxs].index.values,\n",
    "    y_true=y_test, \n",
    "    y_true_code=y_test_enc, \n",
    "    y_pred=xgb.predict(X_test))).set_index('cell_id')"
   ]
  },
  {
   "cell_type": "code",
   "execution_count": 24,
   "id": "cc86b36b",
   "metadata": {
    "execution": {
     "iopub.execute_input": "2025-05-15T16:15:51.733121Z",
     "iopub.status.busy": "2025-05-15T16:15:51.732881Z",
     "iopub.status.idle": "2025-05-15T16:15:51.743776Z",
     "shell.execute_reply": "2025-05-15T16:15:51.743354Z"
    },
    "papermill": {
     "duration": 0.020694,
     "end_time": "2025-05-15T16:15:51.744704",
     "exception": false,
     "start_time": "2025-05-15T16:15:51.724010",
     "status": "completed"
    },
    "tags": []
   },
   "outputs": [],
   "source": [
    "out_dir = here(f'03_downstream_analysis/08_gene_importance/xgboost_external_validation/xgboost_TopN_genes/results_{N_GENES}/predictions')\n",
    "\n",
    "if not os.path.exists(out_dir):\n",
    "    os.makedirs(out_dir)\n",
    "    \n",
    "df_pred_test.to_csv(os.path.join(out_dir, f'{CELL_TYPE}_{SEED}_{TEST_SPLIT_IDX}_pred_test.zip'))"
   ]
  },
  {
   "cell_type": "code",
   "execution_count": 25,
   "id": "9651b686",
   "metadata": {
    "execution": {
     "iopub.execute_input": "2025-05-15T16:15:51.763045Z",
     "iopub.status.busy": "2025-05-15T16:15:51.762540Z",
     "iopub.status.idle": "2025-05-15T16:15:51.769568Z",
     "shell.execute_reply": "2025-05-15T16:15:51.769254Z"
    },
    "papermill": {
     "duration": 0.016862,
     "end_time": "2025-05-15T16:15:51.770413",
     "exception": false,
     "start_time": "2025-05-15T16:15:51.753551",
     "status": "completed"
    },
    "tags": []
   },
   "outputs": [
    {
     "name": "stderr",
     "output_type": "stream",
     "text": [
      "/scratch_isilon/groups/singlecell/shared/conda_env/xgboost-cpu/lib/python3.12/site-packages/sklearn/metrics/_classification.py:2466: UserWarning: y_pred contains classes not in y_true\n",
      "  warnings.warn(\"y_pred contains classes not in y_true\")\n"
     ]
    }
   ],
   "source": [
    "metrics_dict = dict(\n",
    "    BAS=balanced_accuracy_score(y_true=df_pred_test.y_true_code, y_pred=df_pred_test.y_pred), WF1=f1_score(y_true=df_pred_test.y_true_code, y_pred=df_pred_test.y_pred,average='weighted'))"
   ]
  },
  {
   "cell_type": "code",
   "execution_count": 26,
   "id": "f0accce4",
   "metadata": {
    "execution": {
     "iopub.execute_input": "2025-05-15T16:15:51.788745Z",
     "iopub.status.busy": "2025-05-15T16:15:51.788376Z",
     "iopub.status.idle": "2025-05-15T16:15:51.791351Z",
     "shell.execute_reply": "2025-05-15T16:15:51.791061Z"
    },
    "papermill": {
     "duration": 0.012732,
     "end_time": "2025-05-15T16:15:51.792138",
     "exception": false,
     "start_time": "2025-05-15T16:15:51.779406",
     "status": "completed"
    },
    "tags": []
   },
   "outputs": [
    {
     "data": {
      "text/plain": [
       "{'BAS': 0.6949044259312116, 'WF1': 0.648017280171542}"
      ]
     },
     "execution_count": 26,
     "metadata": {},
     "output_type": "execute_result"
    }
   ],
   "source": [
    "metrics_dict"
   ]
  },
  {
   "cell_type": "code",
   "execution_count": 27,
   "id": "0b86da52",
   "metadata": {
    "execution": {
     "iopub.execute_input": "2025-05-15T16:15:51.825223Z",
     "iopub.status.busy": "2025-05-15T16:15:51.825025Z",
     "iopub.status.idle": "2025-05-15T16:15:51.834177Z",
     "shell.execute_reply": "2025-05-15T16:15:51.833832Z"
    },
    "papermill": {
     "duration": 0.034369,
     "end_time": "2025-05-15T16:15:51.834982",
     "exception": false,
     "start_time": "2025-05-15T16:15:51.800613",
     "status": "completed"
    },
    "tags": []
   },
   "outputs": [
    {
     "data": {
      "text/html": [
       "<div>\n",
       "<style scoped>\n",
       "    .dataframe tbody tr th:only-of-type {\n",
       "        vertical-align: middle;\n",
       "    }\n",
       "\n",
       "    .dataframe tbody tr th {\n",
       "        vertical-align: top;\n",
       "    }\n",
       "\n",
       "    .dataframe thead th {\n",
       "        text-align: right;\n",
       "    }\n",
       "</style>\n",
       "<table border=\"1\" class=\"dataframe\">\n",
       "  <thead>\n",
       "    <tr style=\"text-align: right;\">\n",
       "      <th></th>\n",
       "      <th>BAS</th>\n",
       "      <th>WF1</th>\n",
       "      <th>split_idx</th>\n",
       "      <th>gene_set_seed</th>\n",
       "      <th>cell_type</th>\n",
       "    </tr>\n",
       "  </thead>\n",
       "  <tbody>\n",
       "    <tr>\n",
       "      <th>0</th>\n",
       "      <td>0.694904</td>\n",
       "      <td>0.648017</td>\n",
       "      <td>0</td>\n",
       "      <td>11</td>\n",
       "      <td>Plasma</td>\n",
       "    </tr>\n",
       "  </tbody>\n",
       "</table>\n",
       "</div>"
      ],
      "text/plain": [
       "        BAS       WF1  split_idx  gene_set_seed cell_type\n",
       "0  0.694904  0.648017          0             11    Plasma"
      ]
     },
     "execution_count": 27,
     "metadata": {},
     "output_type": "execute_result"
    }
   ],
   "source": [
    "metrics_df = pd.DataFrame.from_dict([metrics_dict]).assign(split_idx=TEST_SPLIT_IDX, gene_set_seed=SEED, cell_type=CELL_TYPE)\n",
    "metrics_df"
   ]
  },
  {
   "cell_type": "code",
   "execution_count": 28,
   "id": "dde91d7a",
   "metadata": {
    "execution": {
     "iopub.execute_input": "2025-05-15T16:15:51.853632Z",
     "iopub.status.busy": "2025-05-15T16:15:51.853411Z",
     "iopub.status.idle": "2025-05-15T16:15:51.861927Z",
     "shell.execute_reply": "2025-05-15T16:15:51.861586Z"
    },
    "papermill": {
     "duration": 0.018702,
     "end_time": "2025-05-15T16:15:51.862786",
     "exception": false,
     "start_time": "2025-05-15T16:15:51.844084",
     "status": "completed"
    },
    "tags": []
   },
   "outputs": [],
   "source": [
    "out_dir = here(f'03_downstream_analysis/08_gene_importance/xgboost_external_validation/xgboost_TopN_genes/results_{N_GENES}/metrics')\n",
    "\n",
    "if not os.path.exists(out_dir):\n",
    "    os.makedirs(out_dir)\n",
    "    \n",
    "metrics_df.to_csv(os.path.join(out_dir, f'{CELL_TYPE}_{SEED}_{TEST_SPLIT_IDX}_metrics.zip'))"
   ]
  }
 ],
 "metadata": {
  "kernelspec": {
   "display_name": "Python 3 (ipykernel)",
   "language": "python",
   "name": "python3"
  },
  "language_info": {
   "codemirror_mode": {
    "name": "ipython",
    "version": 3
   },
   "file_extension": ".py",
   "mimetype": "text/x-python",
   "name": "python",
   "nbconvert_exporter": "python",
   "pygments_lexer": "ipython3",
   "version": "3.12.5"
  },
  "papermill": {
   "default_parameters": {},
   "duration": 15.845478,
   "end_time": "2025-05-15T16:15:52.588701",
   "environment_variables": {},
   "exception": null,
   "input_path": "02_xgboost_fitting_external_20genes.ipynb",
   "output_path": "results_20/executed_notebooks/xgboost_fitting_external_CT_Plasma_GS_11_seed0.ipynb",
   "parameters": {
    "CELL_TYPE": "Plasma",
    "SEED": 11,
    "TEST_SPLIT_IDX": 0
   },
   "start_time": "2025-05-15T16:15:36.743223",
   "version": "2.6.0"
  }
 },
 "nbformat": 4,
 "nbformat_minor": 5
}