{
 "cells": [
  {
   "cell_type": "code",
   "execution_count": null,
   "id": "795ccc56-e1d6-4856-b910-db7bca492c6c",
   "metadata": {
    "execution": {
     "iopub.execute_input": "2024-08-28T13:37:33.188077Z",
     "iopub.status.busy": "2024-08-28T13:37:33.187585Z"
    },
    "papermill": {
     "duration": null,
     "end_time": null,
     "exception": false,
     "start_time": "2024-08-24T08:36:00.010826",
     "status": "running"
    },
    "tags": []
   },
   "outputs": [],
   "source": [
    "import sys\n",
    "import os\n",
    "\n",
    "import scanpy as sc\n",
    "import pandas as pd\n",
    "\n",
    "import decoupler\n",
    "\n",
    "# Set random seed\n",
    "random_seed = 5\n",
    "\n",
    "from pyprojroot import here\n",
    "\n",
    "from tqdm import tqdm\n",
    "\n",
    "import warnings\n",
    "warnings.filterwarnings(\"ignore\")"
   ]
  },
  {
   "cell_type": "markdown",
   "id": "cc7c0ae1-d0d0-4435-8025-caf575cf79b9",
   "metadata": {
    "papermill": {
     "duration": null,
     "end_time": null,
     "exception": null,
     "start_time": null,
     "status": "pending"
    },
    "tags": []
   },
   "source": [
    "## Loading data"
   ]
  },
  {
   "cell_type": "code",
   "execution_count": null,
   "id": "2001925d-dbe8-4765-8bbe-0e61f5ecd473",
   "metadata": {
    "papermill": {
     "duration": null,
     "end_time": null,
     "exception": null,
     "start_time": null,
     "status": "pending"
    },
    "tags": []
   },
   "outputs": [],
   "source": [
    "MAINdata = sc.read_h5ad(here(\"03_downstream_analysis/02_gene_universe_definition/results/04_MAIN_geneUniverse_noRBCnPlatelets.log1p.h5ad\"))\n",
    "MAINdata"
   ]
  },
  {
   "cell_type": "code",
   "execution_count": null,
   "id": "9f399133-69e4-405f-9df1-b84d9d7d7a96",
   "metadata": {
    "papermill": {
     "duration": null,
     "end_time": null,
     "exception": null,
     "start_time": null,
     "status": "pending"
    },
    "tags": []
   },
   "outputs": [],
   "source": [
    "EXTdata = sc.read_h5ad(here(\"03_downstream_analysis/02_gene_universe_definition/results/05_EXTERNAL_geneUniverse.log1p.h5ad\"))\n",
    "EXTdata"
   ]
  },
  {
   "cell_type": "code",
   "execution_count": null,
   "id": "067787d2-d469-4989-81c5-c93716380e05",
   "metadata": {},
   "outputs": [],
   "source": [
    "VALdata = sc.read_h5ad(here(\"03_downstream_analysis/02_gene_universe_definition/results/05_VALIDATION_geneUniverse.log1p.h5ad\"))\n",
    "VALdata"
   ]
  },
  {
   "cell_type": "markdown",
   "id": "5a9e6b0e-26a3-4e3d-a688-43d46829c9b3",
   "metadata": {
    "execution": {
     "iopub.execute_input": "2024-08-23T08:40:37.738160Z",
     "iopub.status.busy": "2024-08-23T08:40:37.737954Z",
     "iopub.status.idle": "2024-08-23T08:40:37.742905Z",
     "shell.execute_reply": "2024-08-23T08:40:37.742544Z",
     "shell.execute_reply.started": "2024-08-23T08:40:37.738141Z"
    },
    "papermill": {
     "duration": null,
     "end_time": null,
     "exception": null,
     "start_time": null,
     "status": "pending"
    },
    "tags": []
   },
   "source": [
    "**Loading main object and projected dataset for retreiving predicted annotations**"
   ]
  },
  {
   "cell_type": "code",
   "execution_count": null,
   "id": "0c9f8c7f-8ad7-4dc4-8087-b1ce373c882a",
   "metadata": {
    "papermill": {
     "duration": null,
     "end_time": null,
     "exception": null,
     "start_time": null,
     "status": "pending"
    },
    "tags": []
   },
   "outputs": [],
   "source": [
    "EXTdata_projected = sc.read_h5ad(here(f\"03_downstream_analysis/08_gene_importance/xgboost_external_validation/raw_data/scANVI_EXTERNAL_256_30_Level2_run1_finetuning.h5ad\"))\n",
    "EXTdata_projected"
   ]
  },
  {
   "cell_type": "code",
   "execution_count": null,
   "id": "dd023f44-d443-48ec-b92b-c4e6ec7f87da",
   "metadata": {},
   "outputs": [],
   "source": [
    "VALdata_projected = sc.read_h5ad(here(f\"inflammabucket_bkp/03_downstream_analysis/PatientClassifier/scANVI/results/02_query/output/scANVI_VALIDATION_256_30_Level2_run1_finetuning.h5ad\"))\n",
    "VALdata_projected"
   ]
  },
  {
   "cell_type": "code",
   "execution_count": null,
   "id": "ca42d1ce-794d-4961-ac8e-409374f76d29",
   "metadata": {},
   "outputs": [],
   "source": [
    "MAINdataFULL = sc.read_h5ad(here(\"03_downstream_analysis/02_gene_universe_definition/results/04_MAIN_geneUniverse.h5ad\"), backed='r')\n",
    "MAINdataFULL"
   ]
  },
  {
   "cell_type": "markdown",
   "id": "9a7d48bc-e891-4266-94e3-6a6729d1a37c",
   "metadata": {},
   "source": [
    "**Loading gene list**"
   ]
  },
  {
   "cell_type": "code",
   "execution_count": null,
   "id": "9634d137-6640-4cde-8f26-ea66fc9e3e1e",
   "metadata": {},
   "outputs": [],
   "source": [
    "selectedGenes = pd.read_pickle(here('03_downstream_analysis/05_SPECTRA/results/SPECTRAFactor_selected_genes.pkl'))\n",
    "len(selectedGenes)"
   ]
  },
  {
   "cell_type": "markdown",
   "id": "9e2dfe5b-6cc3-4e7c-91ad-05dfe4db6c70",
   "metadata": {
    "execution": {
     "iopub.execute_input": "2024-08-23T08:46:09.553577Z",
     "iopub.status.busy": "2024-08-23T08:46:09.553333Z",
     "iopub.status.idle": "2024-08-23T08:46:09.559403Z",
     "shell.execute_reply": "2024-08-23T08:46:09.558934Z",
     "shell.execute_reply.started": "2024-08-23T08:46:09.553558Z"
    },
    "papermill": {
     "duration": null,
     "end_time": null,
     "exception": null,
     "start_time": null,
     "status": "pending"
    },
    "tags": []
   },
   "source": [
    "### Transfering annotation"
   ]
  },
  {
   "cell_type": "code",
   "execution_count": null,
   "id": "7c30eb22-509b-4ffc-9856-f6747057aca5",
   "metadata": {
    "papermill": {
     "duration": null,
     "end_time": null,
     "exception": null,
     "start_time": null,
     "status": "pending"
    },
    "tags": []
   },
   "outputs": [],
   "source": [
    "annDF = MAINdataFULL.obs[['Level1','Level2']].drop_duplicates()"
   ]
  },
  {
   "cell_type": "code",
   "execution_count": null,
   "id": "9c28902e-00f9-4bf0-a3f4-9770c78f3050",
   "metadata": {
    "papermill": {
     "duration": null,
     "end_time": null,
     "exception": null,
     "start_time": null,
     "status": "pending"
    },
    "tags": []
   },
   "outputs": [],
   "source": [
    "Lev1dict = dict(zip(annDF['Level2'], annDF['Level1']))"
   ]
  },
  {
   "cell_type": "code",
   "execution_count": null,
   "id": "f6d6c961-ccfa-47c0-b547-1b6aae4cad01",
   "metadata": {},
   "outputs": [],
   "source": [
    "EXTdata_projected.obs['Level1pred'] = [Lev1dict[l] for l in EXTdata_projected.obs['labels']]\n",
    "EXTdata_projected.obs"
   ]
  },
  {
   "cell_type": "code",
   "execution_count": null,
   "id": "0deaf936-a8ac-4e4e-9f56-4c24efb40f38",
   "metadata": {},
   "outputs": [],
   "source": [
    "VALdata_projected.obs['Level1pred'] = [Lev1dict[l] for l in VALdata_projected.obs['labels']]\n",
    "VALdata_projected.obs"
   ]
  },
  {
   "cell_type": "code",
   "execution_count": null,
   "id": "2b13e565-fdfe-482c-8b6b-274b643c7a3e",
   "metadata": {},
   "outputs": [],
   "source": [
    "EXTdata.obs = EXTdata.obs.merge(EXTdata_projected.obs[['Level1pred']], left_index=True, right_index=True)"
   ]
  },
  {
   "cell_type": "code",
   "execution_count": null,
   "id": "2e074f7d-613c-4b40-bae4-d6d2fdb52069",
   "metadata": {},
   "outputs": [],
   "source": [
    "VALdata.obs = VALdata.obs.merge(VALdata_projected.obs[['Level1pred']], left_index=True, right_index=True)"
   ]
  },
  {
   "cell_type": "code",
   "execution_count": null,
   "id": "a5320c04-0232-4385-bf27-bcde090c8164",
   "metadata": {},
   "outputs": [],
   "source": [
    "EXTdata.obs.disease.unique().tolist()"
   ]
  },
  {
   "cell_type": "markdown",
   "id": "4834554c-565c-4567-ae6d-074871d63d81",
   "metadata": {},
   "source": [
    "## Filtering\n",
    "**Filtering cell-types**\n",
    "\n",
    "Here, we are removing RBC, Platelets, Cycling_cell, and Progenitors"
   ]
  },
  {
   "cell_type": "code",
   "execution_count": null,
   "id": "a8875b6d-4734-4c27-8915-7bcc1b2b3226",
   "metadata": {
    "papermill": {
     "duration": null,
     "end_time": null,
     "exception": null,
     "start_time": null,
     "status": "pending"
    },
    "tags": []
   },
   "outputs": [],
   "source": [
    "MAINdataCellFilt = MAINdata[~MAINdata.obs.Level1.isin(['Platelets','Cycling_cells','RBC','Progenitors'])]\n",
    "MAINdataCellFilt"
   ]
  },
  {
   "cell_type": "code",
   "execution_count": null,
   "id": "3357b945-8628-4033-bfc6-1d7922137283",
   "metadata": {},
   "outputs": [],
   "source": [
    "EXTdataCellFilt = EXTdata[~EXTdata.obs.Level1pred.isin(['Platelets','Cycling_cells','RBC','Progenitors'])]\n",
    "EXTdataCellFilt"
   ]
  },
  {
   "cell_type": "code",
   "execution_count": null,
   "id": "021eb816-76e6-411c-872d-b842757738d0",
   "metadata": {},
   "outputs": [],
   "source": [
    "VALdataCellFilt = VALdata[~VALdata.obs.Level1pred.isin(['Platelets','Cycling_cells','RBC','Progenitors'])]\n",
    "VALdataCellFilt"
   ]
  },
  {
   "cell_type": "markdown",
   "id": "20468f23-38ee-4b21-a57a-da082505bb3b",
   "metadata": {},
   "source": [
    "**Filtering genes**\n",
    "\n",
    "Here, we keep only gene selected with Spectra"
   ]
  },
  {
   "cell_type": "code",
   "execution_count": null,
   "id": "10ce5cf8-5ff7-499b-96b7-349adaa048b7",
   "metadata": {},
   "outputs": [],
   "source": [
    "MAINdataCellFiltGeneSelected = MAINdataCellFilt[:,MAINdataCellFilt.var_names.isin(selectedGenes)]\n",
    "MAINdataCellFiltGeneSelected"
   ]
  },
  {
   "cell_type": "code",
   "execution_count": 20,
   "id": "7513d35b-7645-48e0-8205-354fe0f729ed",
   "metadata": {
    "execution": {
     "iopub.execute_input": "2024-08-28T10:18:50.957020Z",
     "iopub.status.busy": "2024-08-28T10:18:50.956719Z",
     "iopub.status.idle": "2024-08-28T10:18:51.069959Z",
     "shell.execute_reply": "2024-08-28T10:18:51.069545Z",
     "shell.execute_reply.started": "2024-08-28T10:18:50.957002Z"
    }
   },
   "outputs": [
    {
     "data": {
      "text/plain": [
       "View of AnnData object with n_obs × n_vars = 562456 × 935\n",
       "    obs: 'studyID', 'libraryID', 'sampleID', 'chemistry', 'technology', 'disease', 'sex', 'binned_age', 'Level1pred'\n",
       "    var: 'hgnc_id', 'symbol', 'locus_group', 'HUGO_status'\n",
       "    uns: 'log1p'"
      ]
     },
     "execution_count": 20,
     "metadata": {},
     "output_type": "execute_result"
    }
   ],
   "source": [
    "EXTdataCellFiltGeneSelected = EXTdataCellFilt[:,EXTdataCellFilt.var_names.isin(selectedGenes)]\n",
    "EXTdataCellFiltGeneSelected"
   ]
  },
  {
   "cell_type": "code",
   "execution_count": 21,
   "id": "93fe6e1e-902e-4de4-9e5d-3dd078d0bd29",
   "metadata": {
    "execution": {
     "iopub.execute_input": "2024-08-28T10:18:51.070745Z",
     "iopub.status.busy": "2024-08-28T10:18:51.070547Z",
     "iopub.status.idle": "2024-08-28T10:18:51.247075Z",
     "shell.execute_reply": "2024-08-28T10:18:51.246667Z",
     "shell.execute_reply.started": "2024-08-28T10:18:51.070728Z"
    }
   },
   "outputs": [
    {
     "data": {
      "text/plain": [
       "View of AnnData object with n_obs × n_vars = 836230 × 935\n",
       "    obs: 'studyID', 'libraryID', 'sampleID', 'chemistry', 'technology', 'disease', 'sex', 'binned_age', 'Level1pred'\n",
       "    var: 'hgnc_id', 'symbol', 'locus_group', 'HUGO_status'\n",
       "    uns: 'log1p'"
      ]
     },
     "execution_count": 21,
     "metadata": {},
     "output_type": "execute_result"
    }
   ],
   "source": [
    "VALdataCellFiltGeneSelected = VALdataCellFilt[:,VALdataCellFilt.var_names.isin(selectedGenes)]\n",
    "VALdataCellFiltGeneSelected"
   ]
  },
  {
   "cell_type": "markdown",
   "id": "b992f786-9d7b-4a95-8c99-c10a7a612ae0",
   "metadata": {},
   "source": [
    "**Removing from Reference disease not present in External**\n",
    "\n",
    "Here, we are focusing to validate genes selected with SHAP that are important to classify disease. In the query dataset (e.g., EXTERNAL), we only have a subset of diseases. Thus, we are removing the others from MAIN "
   ]
  },
  {
   "cell_type": "code",
   "execution_count": 22,
   "id": "f53c6e06-a982-4d5e-bc71-1839a2cfba2a",
   "metadata": {
    "execution": {
     "iopub.execute_input": "2024-08-28T10:18:51.247873Z",
     "iopub.status.busy": "2024-08-28T10:18:51.247679Z",
     "iopub.status.idle": "2024-08-28T10:18:53.283939Z",
     "shell.execute_reply": "2024-08-28T10:18:53.283517Z",
     "shell.execute_reply.started": "2024-08-28T10:18:51.247856Z"
    }
   },
   "outputs": [
    {
     "data": {
      "text/plain": [
       "View of AnnData object with n_obs × n_vars = 3400023 × 935\n",
       "    obs: 'studyID', 'libraryID', 'sampleID', 'chemistry', 'disease', 'sex', 'binned_age', 'Level1', 'Level2'\n",
       "    var: 'hgnc_id', 'symbol', 'locus_group', 'HUGO_status', 'highly_variable'\n",
       "    uns: 'log1p'"
      ]
     },
     "execution_count": 22,
     "metadata": {},
     "output_type": "execute_result"
    }
   ],
   "source": [
    "MAINdataFinal = MAINdataCellFiltGeneSelected[MAINdataCellFiltGeneSelected.obs.disease.isin(EXTdataCellFiltGeneSelected.obs.disease.unique().tolist())]\n",
    "MAINdataFinal"
   ]
  },
  {
   "cell_type": "code",
   "execution_count": 23,
   "id": "d5f1020c-c4d2-4bab-a699-8d029b22404b",
   "metadata": {
    "execution": {
     "iopub.execute_input": "2024-08-28T10:18:53.284753Z",
     "iopub.status.busy": "2024-08-28T10:18:53.284550Z",
     "iopub.status.idle": "2024-08-28T10:18:53.453839Z",
     "shell.execute_reply": "2024-08-28T10:18:53.453421Z",
     "shell.execute_reply.started": "2024-08-28T10:18:53.284732Z"
    }
   },
   "outputs": [
    {
     "data": {
      "text/plain": [
       "View of AnnData object with n_obs × n_vars = 756857 × 935\n",
       "    obs: 'studyID', 'libraryID', 'sampleID', 'chemistry', 'technology', 'disease', 'sex', 'binned_age', 'Level1pred'\n",
       "    var: 'hgnc_id', 'symbol', 'locus_group', 'HUGO_status'\n",
       "    uns: 'log1p'"
      ]
     },
     "execution_count": 23,
     "metadata": {},
     "output_type": "execute_result"
    }
   ],
   "source": [
    "VALdataFinal = VALdataCellFiltGeneSelected[VALdataCellFiltGeneSelected.obs.disease.isin(EXTdataCellFiltGeneSelected.obs.disease.unique().tolist())]\n",
    "VALdataFinal"
   ]
  },
  {
   "cell_type": "code",
   "execution_count": 24,
   "id": "e14a1b42-1e25-469b-82e6-c4d2a51f5509",
   "metadata": {
    "execution": {
     "iopub.execute_input": "2024-08-28T10:18:53.454777Z",
     "iopub.status.busy": "2024-08-28T10:18:53.454447Z",
     "iopub.status.idle": "2024-08-28T10:18:53.457728Z",
     "shell.execute_reply": "2024-08-28T10:18:53.457364Z",
     "shell.execute_reply.started": "2024-08-28T10:18:53.454759Z"
    }
   },
   "outputs": [
    {
     "data": {
      "text/plain": [
       "View of AnnData object with n_obs × n_vars = 562456 × 935\n",
       "    obs: 'studyID', 'libraryID', 'sampleID', 'chemistry', 'technology', 'disease', 'sex', 'binned_age', 'Level1pred'\n",
       "    var: 'hgnc_id', 'symbol', 'locus_group', 'HUGO_status'\n",
       "    uns: 'log1p'"
      ]
     },
     "execution_count": 24,
     "metadata": {},
     "output_type": "execute_result"
    }
   ],
   "source": [
    "EXTdataFinal = EXTdataCellFiltGeneSelected\n",
    "EXTdataFinal"
   ]
  },
  {
   "cell_type": "markdown",
   "id": "b6476850-75c6-4015-84eb-862b3cdf1269",
   "metadata": {},
   "source": [
    "## Saving objects"
   ]
  },
  {
   "cell_type": "markdown",
   "id": "169ba900-4b4f-41b5-b92a-6ece64a1fe24",
   "metadata": {},
   "source": [
    "**Splitted by cell types**\n",
    "\n",
    "For xgboost training and validation, we need dataset splitted by cell-type"
   ]
  },
  {
   "cell_type": "code",
   "execution_count": 26,
   "id": "52559175-09df-4e22-9348-e0c4a27e57fa",
   "metadata": {
    "execution": {
     "iopub.execute_input": "2024-08-28T10:23:33.712641Z",
     "iopub.status.busy": "2024-08-28T10:23:33.712254Z",
     "iopub.status.idle": "2024-08-28T10:25:25.495216Z",
     "shell.execute_reply": "2024-08-28T10:25:25.494684Z",
     "shell.execute_reply.started": "2024-08-28T10:23:33.712623Z"
    }
   },
   "outputs": [
    {
     "name": "stderr",
     "output_type": "stream",
     "text": [
      "100%|██████████████████████████████████████████████████████████████████████████████████████████████████████████████████████████████████████████████████████████████████████| 11/11 [01:51<00:00, 10.16s/it]\n"
     ]
    }
   ],
   "source": [
    "for ct_i in tqdm(MAINdataFinal.obs.Level1.unique()):\n",
    "    ct_adata = MAINdataFinal[MAINdataFinal.obs.Level1 == ct_i]\n",
    "    ct_adata.write(here(f\"03_downstream_analysis/08_gene_importance/xgboost_external_validation/xgboost_TopN_genes/data_cellTypes/MAIN_{ct_i}.filtered.log1p.h5ad\"), compression = 'gzip')"
   ]
  },
  {
   "cell_type": "code",
   "execution_count": 27,
   "id": "4f6d2e31-75ea-40c4-ae7e-081e0cb1066d",
   "metadata": {
    "execution": {
     "iopub.execute_input": "2024-08-28T10:27:54.022839Z",
     "iopub.status.busy": "2024-08-28T10:27:54.022481Z",
     "iopub.status.idle": "2024-08-28T10:28:13.711315Z",
     "shell.execute_reply": "2024-08-28T10:28:13.710877Z",
     "shell.execute_reply.started": "2024-08-28T10:27:54.022819Z"
    },
    "scrolled": true
   },
   "outputs": [
    {
     "name": "stderr",
     "output_type": "stream",
     "text": [
      "  0%|                                                                                                                                                                               | 0/11 [00:00<?, ?it/s]/scratch_isilon/groups/singlecell/shared/conda_env/inflammation_atlas_R1/lib/python3.10/site-packages/anndata/_core/anndata.py:1301: ImplicitModificationWarning: Trying to modify attribute `.obs` of view, initializing view as actual.\n",
      "  df[key] = c\n",
      "  9%|███████████████▏                                                                                                                                                       | 1/11 [00:03<00:37,  3.72s/it]/scratch_isilon/groups/singlecell/shared/conda_env/inflammation_atlas_R1/lib/python3.10/site-packages/anndata/_core/anndata.py:1301: ImplicitModificationWarning: Trying to modify attribute `.obs` of view, initializing view as actual.\n",
      "  df[key] = c\n",
      " 18%|██████████████████████████████▎                                                                                                                                        | 2/11 [00:05<00:25,  2.78s/it]/scratch_isilon/groups/singlecell/shared/conda_env/inflammation_atlas_R1/lib/python3.10/site-packages/anndata/_core/anndata.py:1301: ImplicitModificationWarning: Trying to modify attribute `.obs` of view, initializing view as actual.\n",
      "  df[key] = c\n",
      " 27%|█████████████████████████████████████████████▌                                                                                                                         | 3/11 [00:06<00:13,  1.69s/it]/scratch_isilon/groups/singlecell/shared/conda_env/inflammation_atlas_R1/lib/python3.10/site-packages/anndata/_core/anndata.py:1301: ImplicitModificationWarning: Trying to modify attribute `.obs` of view, initializing view as actual.\n",
      "  df[key] = c\n",
      " 36%|████████████████████████████████████████████████████████████▋                                                                                                          | 4/11 [00:13<00:26,  3.76s/it]/scratch_isilon/groups/singlecell/shared/conda_env/inflammation_atlas_R1/lib/python3.10/site-packages/anndata/_core/anndata.py:1301: ImplicitModificationWarning: Trying to modify attribute `.obs` of view, initializing view as actual.\n",
      "  df[key] = c\n",
      " 45%|███████████████████████████████████████████████████████████████████████████▉                                                                                           | 5/11 [00:15<00:19,  3.17s/it]/scratch_isilon/groups/singlecell/shared/conda_env/inflammation_atlas_R1/lib/python3.10/site-packages/anndata/_core/anndata.py:1301: ImplicitModificationWarning: Trying to modify attribute `.obs` of view, initializing view as actual.\n",
      "  df[key] = c\n",
      " 55%|███████████████████████████████████████████████████████████████████████████████████████████                                                                            | 6/11 [00:16<00:12,  2.47s/it]/scratch_isilon/groups/singlecell/shared/conda_env/inflammation_atlas_R1/lib/python3.10/site-packages/anndata/_core/anndata.py:1301: ImplicitModificationWarning: Trying to modify attribute `.obs` of view, initializing view as actual.\n",
      "  df[key] = c\n",
      " 64%|██████████████████████████████████████████████████████████████████████████████████████████████████████████▎                                                            | 7/11 [00:17<00:08,  2.11s/it]/scratch_isilon/groups/singlecell/shared/conda_env/inflammation_atlas_R1/lib/python3.10/site-packages/anndata/_core/anndata.py:1301: ImplicitModificationWarning: Trying to modify attribute `.obs` of view, initializing view as actual.\n",
      "  df[key] = c\n",
      " 73%|█████████████████████████████████████████████████████████████████████████████████████████████████████████████████████████▍                                             | 8/11 [00:18<00:04,  1.60s/it]/scratch_isilon/groups/singlecell/shared/conda_env/inflammation_atlas_R1/lib/python3.10/site-packages/anndata/_core/anndata.py:1301: ImplicitModificationWarning: Trying to modify attribute `.obs` of view, initializing view as actual.\n",
      "  df[key] = c\n",
      " 82%|████████████████████████████████████████████████████████████████████████████████████████████████████████████████████████████████████████▋                              | 9/11 [00:19<00:02,  1.45s/it]/scratch_isilon/groups/singlecell/shared/conda_env/inflammation_atlas_R1/lib/python3.10/site-packages/anndata/_core/anndata.py:1301: ImplicitModificationWarning: Trying to modify attribute `.obs` of view, initializing view as actual.\n",
      "  df[key] = c\n",
      " 91%|██████████████████████████████████████████████████████████████████████████████████████████████████████████████████████████████████████████████████████▉               | 10/11 [00:19<00:01,  1.05s/it]/scratch_isilon/groups/singlecell/shared/conda_env/inflammation_atlas_R1/lib/python3.10/site-packages/anndata/_core/anndata.py:1301: ImplicitModificationWarning: Trying to modify attribute `.obs` of view, initializing view as actual.\n",
      "  df[key] = c\n",
      "100%|██████████████████████████████████████████████████████████████████████████████████████████████████████████████████████████████████████████████████████████████████████| 11/11 [00:19<00:00,  1.79s/it]\n"
     ]
    }
   ],
   "source": [
    "for ct_i in tqdm(EXTdataFinal.obs.Level1pred.unique()):\n",
    "    ct_adata = EXTdataFinal[EXTdataFinal.obs.Level1pred == ct_i]\n",
    "    ct_adata.write(here(f\"03_downstream_analysis/08_gene_importance/xgboost_external_validation/xgboost_TopN_genes/data_cellTypes/EXTERNAL_{ct_i}.filtered.log1p.h5ad\"), compression = 'gzip')"
   ]
  },
  {
   "cell_type": "code",
   "execution_count": 28,
   "id": "d596dd4c-938e-48ce-996f-94d21e4368da",
   "metadata": {
    "execution": {
     "iopub.execute_input": "2024-08-28T10:28:13.712280Z",
     "iopub.status.busy": "2024-08-28T10:28:13.712110Z",
     "iopub.status.idle": "2024-08-28T10:28:38.719649Z",
     "shell.execute_reply": "2024-08-28T10:28:38.719212Z",
     "shell.execute_reply.started": "2024-08-28T10:28:13.712263Z"
    }
   },
   "outputs": [
    {
     "name": "stderr",
     "output_type": "stream",
     "text": [
      "  0%|                                                                                                                                                                               | 0/11 [00:00<?, ?it/s]/scratch_isilon/groups/singlecell/shared/conda_env/inflammation_atlas_R1/lib/python3.10/site-packages/anndata/_core/anndata.py:1301: ImplicitModificationWarning: Trying to modify attribute `.obs` of view, initializing view as actual.\n",
      "  df[key] = c\n",
      "  9%|███████████████▏                                                                                                                                                       | 1/11 [00:02<00:24,  2.44s/it]/scratch_isilon/groups/singlecell/shared/conda_env/inflammation_atlas_R1/lib/python3.10/site-packages/anndata/_core/anndata.py:1301: ImplicitModificationWarning: Trying to modify attribute `.obs` of view, initializing view as actual.\n",
      "  df[key] = c\n",
      " 18%|██████████████████████████████▎                                                                                                                                        | 2/11 [00:11<00:54,  6.06s/it]/scratch_isilon/groups/singlecell/shared/conda_env/inflammation_atlas_R1/lib/python3.10/site-packages/anndata/_core/anndata.py:1301: ImplicitModificationWarning: Trying to modify attribute `.obs` of view, initializing view as actual.\n",
      "  df[key] = c\n",
      " 27%|█████████████████████████████████████████████▌                                                                                                                         | 3/11 [00:14<00:38,  4.87s/it]/scratch_isilon/groups/singlecell/shared/conda_env/inflammation_atlas_R1/lib/python3.10/site-packages/anndata/_core/anndata.py:1301: ImplicitModificationWarning: Trying to modify attribute `.obs` of view, initializing view as actual.\n",
      "  df[key] = c\n",
      " 36%|████████████████████████████████████████████████████████████▋                                                                                                          | 4/11 [00:16<00:27,  3.91s/it]/scratch_isilon/groups/singlecell/shared/conda_env/inflammation_atlas_R1/lib/python3.10/site-packages/anndata/_core/anndata.py:1301: ImplicitModificationWarning: Trying to modify attribute `.obs` of view, initializing view as actual.\n",
      "  df[key] = c\n",
      " 45%|███████████████████████████████████████████████████████████████████████████▉                                                                                           | 5/11 [00:17<00:17,  2.88s/it]/scratch_isilon/groups/singlecell/shared/conda_env/inflammation_atlas_R1/lib/python3.10/site-packages/anndata/_core/anndata.py:1301: ImplicitModificationWarning: Trying to modify attribute `.obs` of view, initializing view as actual.\n",
      "  df[key] = c\n",
      " 55%|███████████████████████████████████████████████████████████████████████████████████████████                                                                            | 6/11 [00:21<00:15,  3.18s/it]/scratch_isilon/groups/singlecell/shared/conda_env/inflammation_atlas_R1/lib/python3.10/site-packages/anndata/_core/anndata.py:1301: ImplicitModificationWarning: Trying to modify attribute `.obs` of view, initializing view as actual.\n",
      "  df[key] = c\n",
      " 64%|██████████████████████████████████████████████████████████████████████████████████████████████████████████▎                                                            | 7/11 [00:22<00:09,  2.33s/it]/scratch_isilon/groups/singlecell/shared/conda_env/inflammation_atlas_R1/lib/python3.10/site-packages/anndata/_core/anndata.py:1301: ImplicitModificationWarning: Trying to modify attribute `.obs` of view, initializing view as actual.\n",
      "  df[key] = c\n",
      " 73%|█████████████████████████████████████████████████████████████████████████████████████████████████████████████████████████▍                                             | 8/11 [00:23<00:06,  2.07s/it]/scratch_isilon/groups/singlecell/shared/conda_env/inflammation_atlas_R1/lib/python3.10/site-packages/anndata/_core/anndata.py:1301: ImplicitModificationWarning: Trying to modify attribute `.obs` of view, initializing view as actual.\n",
      "  df[key] = c\n",
      " 82%|████████████████████████████████████████████████████████████████████████████████████████████████████████████████████████████████████████▋                              | 9/11 [00:24<00:02,  1.49s/it]/scratch_isilon/groups/singlecell/shared/conda_env/inflammation_atlas_R1/lib/python3.10/site-packages/anndata/_core/anndata.py:1301: ImplicitModificationWarning: Trying to modify attribute `.obs` of view, initializing view as actual.\n",
      "  df[key] = c\n",
      " 91%|██████████████████████████████████████████████████████████████████████████████████████████████████████████████████████████████████████████████████████▉               | 10/11 [00:24<00:01,  1.23s/it]/scratch_isilon/groups/singlecell/shared/conda_env/inflammation_atlas_R1/lib/python3.10/site-packages/anndata/_core/anndata.py:1301: ImplicitModificationWarning: Trying to modify attribute `.obs` of view, initializing view as actual.\n",
      "  df[key] = c\n",
      "100%|██████████████████████████████████████████████████████████████████████████████████████████████████████████████████████████████████████████████████████████████████████| 11/11 [00:24<00:00,  2.27s/it]\n"
     ]
    }
   ],
   "source": [
    "for ct_i in tqdm(VALdataFinal.obs.Level1pred.unique()):\n",
    "    ct_adata = VALdataFinal[VALdataFinal.obs.Level1pred == ct_i]\n",
    "    ct_adata.write(here(f\"03_downstream_analysis/08_gene_importance/xgboost_external_validation/xgboost_TopN_genes/data_cellTypes/VALIDATION_{ct_i}.filtered.log1p.h5ad\"), compression = 'gzip')"
   ]
  },
  {
   "cell_type": "code",
   "execution_count": null,
   "id": "21ebea37-fb23-4695-bbe9-a0111d06c09b",
   "metadata": {},
   "outputs": [],
   "source": []
  }
 ],
 "metadata": {
  "kernelspec": {
   "display_name": "Python 3 (ipykernel)",
   "language": "python",
   "name": "python3"
  },
  "language_info": {
   "codemirror_mode": {
    "name": "ipython",
    "version": 3
   },
   "file_extension": ".py",
   "mimetype": "text/x-python",
   "name": "python",
   "nbconvert_exporter": "python",
   "pygments_lexer": "ipython3",
   "version": "3.10.13"
  }
 },
 "nbformat": 4,
 "nbformat_minor": 5
}
