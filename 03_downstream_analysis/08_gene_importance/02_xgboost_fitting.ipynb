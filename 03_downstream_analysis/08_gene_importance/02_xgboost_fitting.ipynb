{
 "cells": [
  {
   "cell_type": "code",
   "execution_count": null,
   "metadata": {
    "editable": true,
    "execution": {
     "iopub.execute_input": "2024-06-05T17:29:42.154202Z",
     "iopub.status.busy": "2024-06-05T17:29:42.153894Z",
     "iopub.status.idle": "2024-06-05T17:29:42.158628Z",
     "shell.execute_reply": "2024-06-05T17:29:42.157914Z",
     "shell.execute_reply.started": "2024-06-05T17:29:42.154181Z"
    },
    "slideshow": {
     "slide_type": ""
    },
    "tags": [
     "parameters"
    ]
   },
   "outputs": [],
   "source": [
    "CELL_TYPE = 'Mono'\n",
    "N_SPLITS: int = 5\n",
    "N_TRIALS: int = 1\n",
    "RUN_NAME: str = \"test\"\n",
    "BUCKET_DIRPATH: str = \"\""
   ]
  },
  {
   "cell_type": "code",
   "execution_count": null,
   "metadata": {
    "execution": {
     "iopub.execute_input": "2024-06-05T17:29:45.744412Z",
     "iopub.status.busy": "2024-06-05T17:29:45.743549Z",
     "iopub.status.idle": "2024-06-05T17:29:45.778885Z",
     "shell.execute_reply": "2024-06-05T17:29:45.778054Z",
     "shell.execute_reply.started": "2024-06-05T17:29:45.744384Z"
    }
   },
   "outputs": [],
   "source": [
    "if RUN_NAME != \"\":\n",
    "    RUN_NAME = RUN_NAME + \"_\""
   ]
  },
  {
   "cell_type": "code",
   "execution_count": null,
   "metadata": {
    "execution": {
     "iopub.execute_input": "2024-06-05T17:29:47.907644Z",
     "iopub.status.busy": "2024-06-05T17:29:47.906881Z",
     "iopub.status.idle": "2024-06-05T17:29:47.913963Z",
     "shell.execute_reply": "2024-06-05T17:29:47.913145Z",
     "shell.execute_reply.started": "2024-06-05T17:29:47.907592Z"
    }
   },
   "outputs": [],
   "source": [
    "import os\n",
    "import sys\n",
    "#from pyprojroot.here import here\n",
    "\n",
    "import pandas as pd\n",
    "import anndata as ad\n",
    "import numpy as np\n",
    "import math\n",
    "from sklearn.model_selection import StratifiedGroupKFold\n",
    "from sklearn.preprocessing import LabelEncoder\n",
    "from sklearn.metrics import f1_score\n",
    "import matplotlib.pyplot as plt\n",
    "import seaborn as sns\n",
    "from itertools import product\n",
    "\n",
    "import optuna\n",
    "\n",
    "import joblib\n",
    "import pickle\n",
    "import datetime\n",
    "\n",
    "import collections\n",
    "\n",
    "import xgboost\n",
    "from sklearn.preprocessing import LabelEncoder\n",
    "\n",
    "import scipy.sparse as ssp\n",
    "import joblib\n",
    "\n",
    "from dotenv import load_dotenv"
   ]
  },
  {
   "cell_type": "code",
   "execution_count": null,
   "metadata": {},
   "outputs": [],
   "source": [
    "assert load_dotenv()"
   ]
  },
  {
   "cell_type": "code",
   "execution_count": null,
   "metadata": {},
   "outputs": [],
   "source": [
    "def here(fpath):\n",
    "    return os.path.join(BUCKET_DIRPATH, fpath)"
   ]
  },
  {
   "cell_type": "markdown",
   "metadata": {},
   "source": [
    "# LOAD DATASET"
   ]
  },
  {
   "cell_type": "code",
   "execution_count": null,
   "metadata": {
    "execution": {
     "iopub.execute_input": "2024-06-05T17:29:50.019011Z",
     "iopub.status.busy": "2024-06-05T17:29:50.018091Z",
     "iopub.status.idle": "2024-06-05T17:30:04.333284Z",
     "shell.execute_reply": "2024-06-05T17:30:04.332224Z",
     "shell.execute_reply.started": "2024-06-05T17:29:50.018976Z"
    }
   },
   "outputs": [],
   "source": [
    "adata = ad.read_h5ad(\n",
    "    f'{CELL_TYPE}_adataMerged_SPECTRAgenes.log1p.h5ad',\n",
    "    backed='r',\n",
    "    chunk_size=25000\n",
    ")"
   ]
  },
  {
   "cell_type": "code",
   "execution_count": null,
   "metadata": {
    "execution": {
     "iopub.execute_input": "2024-06-05T17:30:04.334956Z",
     "iopub.status.busy": "2024-06-05T17:30:04.334676Z",
     "iopub.status.idle": "2024-06-05T17:30:04.350349Z",
     "shell.execute_reply": "2024-06-05T17:30:04.349456Z",
     "shell.execute_reply.started": "2024-06-05T17:30:04.334933Z"
    }
   },
   "outputs": [],
   "source": [
    "adata.obs"
   ]
  },
  {
   "cell_type": "markdown",
   "metadata": {},
   "source": [
    "# EXTRACT INDEXES FOR DATA SPLITTING (STRATIFIED BY DISEASE, GROUPED BY PATIENT)\n",
    "\n",
    "# EXTRACT CELL COUNTS PER SPLIT (TO MAKE SURE THAT RATIOS RESEMBLE 70:20:10)"
   ]
  },
  {
   "cell_type": "code",
   "execution_count": null,
   "metadata": {
    "execution": {
     "iopub.execute_input": "2024-06-05T17:30:04.351630Z",
     "iopub.status.busy": "2024-06-05T17:30:04.351357Z",
     "iopub.status.idle": "2024-06-05T17:30:09.390544Z",
     "shell.execute_reply": "2024-06-05T17:30:09.389844Z",
     "shell.execute_reply.started": "2024-06-05T17:30:04.351610Z"
    }
   },
   "outputs": [],
   "source": [
    "all_idxs = np.arange(adata.obs.shape[0])\n",
    "left_out_splits = [s[1] for s in StratifiedGroupKFold(n_splits=N_SPLITS).split(all_idxs, adata.obs.disease, adata.obs.sampleID)]\n",
    "\n",
    "min_stats = []\n",
    "for val_fold_idx, test_fold_idx in product(range(N_SPLITS), range(1,N_SPLITS)):\n",
    "    if val_fold_idx == test_fold_idx:\n",
    "        continue\n",
    "\n",
    "    all_idxs = np.arange(adata.obs.shape[0])\n",
    "    val_idxs, test_idxs = left_out_splits[val_fold_idx], left_out_splits[test_fold_idx]\n",
    "    train_idxs = np.delete(all_idxs, np.union1d(val_idxs, test_idxs))\n",
    "\n",
    "    cell_count_df = []\n",
    "    cell_count_df.append(adata.obs.iloc[train_idxs].groupby('disease', observed=False).size().to_frame(name='cell_count').reset_index().assign(split='train'))\n",
    "    cell_count_df.append(adata.obs.iloc[val_idxs].groupby('disease', observed=False).size().to_frame(name='cell_count').reset_index().assign(split='val'))\n",
    "    cell_count_df.append(adata.obs.iloc[test_idxs].groupby('disease', observed=False).size().to_frame(name='cell_count').reset_index().assign(split='test'))\n",
    "    cell_count_df = pd.concat(cell_count_df).pivot(index='disease', columns='split', values='cell_count')\n",
    "    cell_plot_data = cell_count_df.div(cell_count_df.sum(axis=1), axis=0).reset_index().melt(id_vars='disease')\n",
    "    min_stats.append((val_fold_idx, test_fold_idx, cell_plot_data.query('split==\"train\"').value.min(), cell_plot_data.query('split==\"test\"').value.min()))"
   ]
  },
  {
   "cell_type": "markdown",
   "metadata": {},
   "source": [
    "# CALCULATE RATIOS OF PATIENTS IN TRAINING AND TESTING SET: splits that best fit the expected ratios"
   ]
  },
  {
   "cell_type": "code",
   "execution_count": null,
   "metadata": {
    "execution": {
     "iopub.execute_input": "2024-06-05T17:30:09.392442Z",
     "iopub.status.busy": "2024-06-05T17:30:09.392001Z",
     "iopub.status.idle": "2024-06-05T17:30:09.404968Z",
     "shell.execute_reply": "2024-06-05T17:30:09.404290Z",
     "shell.execute_reply.started": "2024-06-05T17:30:09.392418Z"
    }
   },
   "outputs": [],
   "source": [
    "split_rankings_df = (pd.DataFrame(min_stats, columns=['val_idx', 'test_idx', 'train_min', 'test_mean'])\n",
    " .assign(train_min = lambda df: df.train_min / df.train_min.max())\n",
    " .assign(test_mean = lambda df: df.test_mean / df.test_mean.max())\n",
    " .assign(ranking = lambda df: df.test_mean * df.train_min)\n",
    " .sort_values('ranking'))\n",
    "split_rankings_df"
   ]
  },
  {
   "cell_type": "code",
   "execution_count": null,
   "metadata": {
    "execution": {
     "iopub.execute_input": "2024-06-05T17:30:09.406266Z",
     "iopub.status.busy": "2024-06-05T17:30:09.405993Z",
     "iopub.status.idle": "2024-06-05T17:30:09.425886Z",
     "shell.execute_reply": "2024-06-05T17:30:09.425214Z",
     "shell.execute_reply.started": "2024-06-05T17:30:09.406246Z"
    }
   },
   "outputs": [],
   "source": [
    "best_split = split_rankings_df.loc[split_rankings_df['ranking'].idxmax()]\n",
    "all_idxs = np.arange(adata.obs.shape[0])\n",
    "val_idxs, test_idxs = left_out_splits[best_split.val_idx.astype(int)], left_out_splits[best_split.test_idx.astype(int)]\n",
    "train_idxs = np.delete(all_idxs, np.union1d(val_idxs, test_idxs))"
   ]
  },
  {
   "cell_type": "markdown",
   "metadata": {},
   "source": [
    "### CHECK NUMBER OF CELLS PER SPLIT"
   ]
  },
  {
   "cell_type": "code",
   "execution_count": null,
   "metadata": {
    "execution": {
     "iopub.execute_input": "2024-06-05T17:30:09.427151Z",
     "iopub.status.busy": "2024-06-05T17:30:09.426886Z",
     "iopub.status.idle": "2024-06-05T17:30:09.685373Z",
     "shell.execute_reply": "2024-06-05T17:30:09.684693Z",
     "shell.execute_reply.started": "2024-06-05T17:30:09.427130Z"
    }
   },
   "outputs": [],
   "source": [
    "cell_count_df = []\n",
    "cell_count_df.append(adata.obs.iloc[train_idxs].groupby('disease', observed=False).size().to_frame(name='cell_count').reset_index().assign(split='train'))\n",
    "cell_count_df.append(adata.obs.iloc[val_idxs].groupby('disease', observed=False).size().to_frame(name='cell_count').reset_index().assign(split='val'))\n",
    "cell_count_df.append(adata.obs.iloc[test_idxs].groupby('disease', observed=False).size().to_frame(name='cell_count').reset_index().assign(split='test'))\n",
    "cell_count_df = pd.concat(cell_count_df).pivot(index='disease', columns='split', values='cell_count')\n",
    "cell_plot_data = cell_count_df.div(cell_count_df.sum(axis=1), axis=0).reset_index().melt(id_vars='disease')\n",
    "\n",
    "pat_count_df = []\n",
    "pat_count_df.append(adata.obs.iloc[train_idxs].groupby('disease', observed=False).sampleID.nunique().to_frame(name='patient_count').reset_index().assign(split='train'))\n",
    "pat_count_df.append(adata.obs.iloc[val_idxs].groupby('disease', observed=False).sampleID.nunique().to_frame(name='patient_count').reset_index().assign(split='val'))\n",
    "pat_count_df.append(adata.obs.iloc[test_idxs].groupby('disease', observed=False).sampleID.nunique().to_frame(name='patient_count').reset_index().assign(split='test'))\n",
    "pd.concat(pat_count_df).pivot(index='disease', columns='split', values='patient_count')\n",
    "pat_count_df = pd.concat(pat_count_df).pivot(index='disease', columns='split', values='patient_count')\n",
    "pat_count_df = pat_count_df.div(pat_count_df.sum(axis=1), axis=0)\n",
    "pat_plot_data = pat_count_df.div(pat_count_df.sum(axis=1), axis=0).reset_index().melt(id_vars='disease')\n",
    "\n",
    "train_pats = set(adata.obs.iloc[train_idxs].sampleID)\n",
    "test_pats = set(adata.obs.iloc[test_idxs].sampleID)\n",
    "val_pats = set(adata.obs.iloc[val_idxs].sampleID)"
   ]
  },
  {
   "cell_type": "code",
   "execution_count": null,
   "metadata": {
    "execution": {
     "iopub.execute_input": "2024-06-05T17:30:09.686761Z",
     "iopub.status.busy": "2024-06-05T17:30:09.686519Z",
     "iopub.status.idle": "2024-06-05T17:30:09.691096Z",
     "shell.execute_reply": "2024-06-05T17:30:09.690145Z",
     "shell.execute_reply.started": "2024-06-05T17:30:09.686742Z"
    }
   },
   "outputs": [],
   "source": [
    "assert val_pats.intersection(test_pats) != {}\n",
    "assert train_pats.intersection(test_pats) != {}\n",
    "assert train_pats.intersection(val_pats) != {}"
   ]
  },
  {
   "cell_type": "markdown",
   "metadata": {},
   "source": [
    "### PLOT PATIENT AND CELL DISTRIBUTION ACROSS TRAIN, TEST, AND VALIDATION SETS PER DISEASE\n",
    "### CHECK THAT THEY APPROXIMATE EXPECTATION"
   ]
  },
  {
   "cell_type": "code",
   "execution_count": null,
   "metadata": {
    "execution": {
     "iopub.execute_input": "2024-06-05T17:30:09.692789Z",
     "iopub.status.busy": "2024-06-05T17:30:09.692409Z",
     "iopub.status.idle": "2024-06-05T17:30:12.770608Z",
     "shell.execute_reply": "2024-06-05T17:30:12.769726Z",
     "shell.execute_reply.started": "2024-06-05T17:30:09.692753Z"
    }
   },
   "outputs": [],
   "source": [
    "_, axs = plt.subplots(1, 2, figsize=(20, 6))\n",
    "sns.barplot(x='disease', y='value', hue='split', data=cell_plot_data, ax=axs[0])\n",
    "axs[0].set_title('Cell distribution')\n",
    "axs[0].tick_params(axis='x', labelrotation=45)\n",
    "sns.barplot(x='disease', y='value', hue='split', data=pat_plot_data, ax=axs[1])\n",
    "axs[1].set_title('Patients distribution')\n",
    "axs[1].tick_params(axis='x', labelrotation=45)\n",
    "plt.savefig(here(f'03_Downstream_Analysis/05_SHAP/results/01_split_plots/{RUN_NAME}{CELL_TYPE}_split_quality.pdf'), bbox_inches='tight', dpi=300)"
   ]
  },
  {
   "cell_type": "code",
   "execution_count": null,
   "metadata": {
    "execution": {
     "iopub.execute_input": "2024-06-05T17:30:12.772126Z",
     "iopub.status.busy": "2024-06-05T17:30:12.771814Z",
     "iopub.status.idle": "2024-06-05T17:30:16.350295Z",
     "shell.execute_reply": "2024-06-05T17:30:16.349368Z",
     "shell.execute_reply.started": "2024-06-05T17:30:12.772103Z"
    }
   },
   "outputs": [],
   "source": [
    "np.save(here(f'03_Downstream_Analysis/05_SHAP/results/02_preprocessing/{RUN_NAME}{CELL_TYPE}_train_idxs.npy'), train_idxs)\n",
    "np.save(here(f'03_Downstream_Analysis/05_SHAP/results/02_preprocessing/{RUN_NAME}{CELL_TYPE}_val_idxs.npy'), val_idxs)\n",
    "np.save(here(f'03_Downstream_Analysis/05_SHAP/results/02_preprocessing/{RUN_NAME}{CELL_TYPE}_test_idxs.npy'), test_idxs)"
   ]
  },
  {
   "cell_type": "markdown",
   "metadata": {},
   "source": [
    "### SUBSET DATASET INTO TRAIN/TEST/VAL SPLITS"
   ]
  },
  {
   "cell_type": "code",
   "execution_count": null,
   "metadata": {
    "execution": {
     "iopub.execute_input": "2024-06-05T17:30:16.352435Z",
     "iopub.status.busy": "2024-06-05T17:30:16.352155Z",
     "iopub.status.idle": "2024-06-05T17:35:53.555218Z",
     "shell.execute_reply": "2024-06-05T17:35:53.554436Z",
     "shell.execute_reply.started": "2024-06-05T17:30:16.352413Z"
    }
   },
   "outputs": [],
   "source": [
    "X_train = adata.X[train_idxs]\n",
    "X_test = adata.X[test_idxs]\n",
    "X_val = adata.X[val_idxs]\n",
    "X_train.shape, X_test.shape, X_val.shape"
   ]
  },
  {
   "cell_type": "code",
   "execution_count": null,
   "metadata": {
    "execution": {
     "iopub.execute_input": "2024-06-05T17:35:53.556556Z",
     "iopub.status.busy": "2024-06-05T17:35:53.556292Z",
     "iopub.status.idle": "2024-06-05T17:35:53.656609Z",
     "shell.execute_reply": "2024-06-05T17:35:53.655935Z",
     "shell.execute_reply.started": "2024-06-05T17:35:53.556537Z"
    }
   },
   "outputs": [],
   "source": [
    "y_train = adata.obs.iloc[train_idxs].disease.values.astype(str)\n",
    "y_test = adata.obs.iloc[test_idxs].disease.values.astype(str)\n",
    "y_val = adata.obs.iloc[val_idxs].disease.values.astype(str)\n",
    "y_train.shape, y_test.shape, y_val.shape "
   ]
  },
  {
   "cell_type": "code",
   "execution_count": null,
   "metadata": {
    "execution": {
     "iopub.execute_input": "2024-06-05T15:48:12.348392Z",
     "iopub.status.busy": "2024-06-05T15:48:12.348129Z",
     "iopub.status.idle": "2024-06-05T15:48:12.622533Z",
     "shell.execute_reply": "2024-06-05T15:48:12.621559Z",
     "shell.execute_reply.started": "2024-06-05T15:48:12.348371Z"
    }
   },
   "outputs": [],
   "source": [
    "lenc = LabelEncoder()\n",
    "y_train_enc = lenc.fit_transform(y_train)\n",
    "y_val_enc = lenc.transform(y_val)\n",
    "y_test_enc = lenc.transform(y_test)"
   ]
  },
  {
   "cell_type": "markdown",
   "metadata": {},
   "source": [
    "### GENERATE F1 "
   ]
  },
  {
   "cell_type": "code",
   "execution_count": null,
   "metadata": {},
   "outputs": [],
   "source": [
    "def custom_f1_score(y_true, y_pred):\n",
    "    return -f1_score(y_true, y_pred.argmax(1), average='weighted')"
   ]
  },
  {
   "cell_type": "code",
   "execution_count": null,
   "metadata": {
    "execution": {
     "iopub.execute_input": "2024-06-05T17:35:53.672678Z",
     "iopub.status.busy": "2024-06-05T17:35:53.672446Z",
     "iopub.status.idle": "2024-06-05T17:35:53.689835Z",
     "shell.execute_reply": "2024-06-05T17:35:53.689207Z",
     "shell.execute_reply.started": "2024-06-05T17:35:53.672659Z"
    }
   },
   "outputs": [],
   "source": [
    "eval_metric=custom_f1_score\n",
    "eval_metric_name='custom_f1_score'\n",
    "\n",
    "def objective(trial):\n",
    "    params = {\n",
    "        'sampling_method': 'gradient_based',\n",
    "        'n_estimators': 1500,\n",
    "        'max_depth': trial.suggest_int('max_depth', 3, 20),\n",
    "        'min_child_weight': trial.suggest_int('min_child_weight', 1, 250),\n",
    "        'subsample': trial.suggest_float('subsample', 0.1, 1.0),\n",
    "        'colsample_bynode': trial.suggest_float('colsample_bynode', 0.1, 1.0),\n",
    "        'learning_rate': trial.suggest_float('learning_rate', 1e-3, 5e-1, log=True),\n",
    "    }\n",
    "    pruning_callback = optuna.integration.XGBoostPruningCallback(trial, f'validation_0-{eval_metric_name}')\n",
    "    xgb = xgboost.XGBClassifier(\n",
    "        device='gpu',\n",
    "        eval_metric=eval_metric,\n",
    "        early_stopping_rounds=20,\n",
    "        callbacks=[pruning_callback],\n",
    "        **params\n",
    "    )\n",
    "    xgb.fit(\n",
    "        X_train, \n",
    "        y_train_enc, \n",
    "        verbose=0,\n",
    "        eval_set=[(X_val, y_val_enc)],\n",
    "    )\n",
    "    trial.set_user_attr('best_iteration', xgb.best_iteration)\n",
    "\n",
    "    return xgb.best_score"
   ]
  },
  {
   "cell_type": "code",
   "execution_count": null,
   "metadata": {
    "execution": {
     "iopub.execute_input": "2024-06-05T17:35:53.691072Z",
     "iopub.status.busy": "2024-06-05T17:35:53.690827Z",
     "iopub.status.idle": "2024-06-05T17:44:19.049681Z",
     "shell.execute_reply": "2024-06-05T17:44:19.048967Z",
     "shell.execute_reply.started": "2024-06-05T17:35:53.691054Z"
    }
   },
   "outputs": [],
   "source": [
    "sampler = optuna.samplers.TPESampler(seed=42)\n",
    "study = optuna.create_study(direction='minimize', sampler=sampler)\n",
    "wandb_kwargs = {\"project\": \"xgboost\", \"name\": f\"{RUN_NAME}{CELL_TYPE}\"}\n",
    "wandbc = optuna.integration.WeightsAndBiasesCallback(wandb_kwargs=wandb_kwargs)\n",
    "study.optimize(objective, n_trials=N_TRIALS, callbacks=[wandbc], gc_after_trial=True)"
   ]
  },
  {
   "cell_type": "code",
   "execution_count": null,
   "metadata": {
    "execution": {
     "iopub.execute_input": "2024-06-05T12:12:44.132376Z",
     "iopub.status.busy": "2024-06-05T12:12:44.132014Z",
     "iopub.status.idle": "2024-06-05T12:12:44.911347Z",
     "shell.execute_reply": "2024-06-05T12:12:44.910741Z",
     "shell.execute_reply.started": "2024-06-05T12:12:44.132343Z"
    }
   },
   "outputs": [],
   "source": [
    "joblib.dump(study, here(f'03_Downstream_Analysis/05_SHAP/results/03_xgboost/study/{RUN_NAME}{CELL_TYPE}_xgboost.pkl'))"
   ]
  },
  {
   "cell_type": "code",
   "execution_count": null,
   "metadata": {
    "execution": {
     "iopub.execute_input": "2024-06-05T13:31:58.986575Z",
     "iopub.status.busy": "2024-06-05T13:31:58.985654Z",
     "iopub.status.idle": "2024-06-05T13:32:02.974520Z",
     "shell.execute_reply": "2024-06-05T13:32:02.973361Z",
     "shell.execute_reply.started": "2024-06-05T13:31:58.986533Z"
    }
   },
   "outputs": [],
   "source": [
    "fig = optuna.visualization.plot_parallel_coordinate(study)\n",
    "fig.write_image(here(f'03_Downstream_Analysis/05_SHAP/results/03_xgboost/parallel_coordinate/{RUN_NAME}{CELL_TYPE}_pcoord.pdf'))"
   ]
  },
  {
   "cell_type": "code",
   "execution_count": null,
   "metadata": {
    "execution": {
     "iopub.execute_input": "2024-06-05T17:49:57.378675Z",
     "iopub.status.busy": "2024-06-05T17:49:57.378361Z",
     "iopub.status.idle": "2024-06-05T18:00:05.430267Z",
     "shell.execute_reply": "2024-06-05T18:00:05.429596Z",
     "shell.execute_reply.started": "2024-06-05T17:49:57.378654Z"
    }
   },
   "outputs": [],
   "source": [
    "n_estimators = int(study.best_trial.user_attrs['best_iteration']*1.2)\n",
    "xgb = xgboost.XGBClassifier(\n",
    "        device='gpu',\n",
    "        eval_metric=eval_metric,\n",
    "        n_estimators=n_estimators,\n",
    "        **study.best_trial.params\n",
    "    )\n",
    "xgb.fit(\n",
    "    ssp.vstack((X_train, X_val)), \n",
    "    np.concatenate((y_train_enc, y_val_enc)), \n",
    "    eval_set=[(X_test, y_test_enc)],\n",
    "    verbose=1,\n",
    ")"
   ]
  },
  {
   "cell_type": "code",
   "execution_count": null,
   "metadata": {
    "execution": {
     "iopub.execute_input": "2024-06-05T13:28:08.406620Z",
     "iopub.status.busy": "2024-06-05T13:28:08.405765Z",
     "iopub.status.idle": "2024-06-05T13:28:09.492708Z",
     "shell.execute_reply": "2024-06-05T13:28:09.492047Z",
     "shell.execute_reply.started": "2024-06-05T13:28:08.406592Z"
    }
   },
   "outputs": [],
   "source": [
    "joblib.dump(xgb, (here(f'03_Downstream_Analysis/05_SHAP/results/03_xgboost/best_model/{RUN_NAME}{CELL_TYPE}_xgb.json')))"
   ]
  },
  {
   "cell_type": "code",
   "execution_count": null,
   "metadata": {
    "execution": {
     "iopub.execute_input": "2024-06-05T13:20:44.141773Z",
     "iopub.status.busy": "2024-06-05T13:20:44.141033Z",
     "iopub.status.idle": "2024-06-05T13:20:55.931245Z",
     "shell.execute_reply": "2024-06-05T13:20:55.930611Z",
     "shell.execute_reply.started": "2024-06-05T13:20:44.141741Z"
    }
   },
   "outputs": [],
   "source": [
    "(pd.DataFrame(np.array((y_test, y_test_enc, xgb.predict(X_test))).T, columns=['y_true', 'y_true_code', 'y_pred'])\n",
    " .to_csv(here(f'03_Downstream_Analysis/05_SHAP/results/03_xgboost/predictions/{RUN_NAME}{CELL_TYPE}_pred_test.zip')))\n",
    "(pd.DataFrame(np.array((y_train, y_train_enc, xgb.predict(X_train))).T, columns=['y_true', 'y_true_code', 'y_pred'])\n",
    " .to_csv(here(f'03_Downstream_Analysis/05_SHAP/results/03_xgboost/predictions/{RUN_NAME}{CELL_TYPE}_pred_train.zip')))"
   ]
  }
 ],
 "metadata": {
  "kernelspec": {
   "display_name": "Python 3 (ipykernel)",
   "language": "python",
   "name": "python3"
  },
  "language_info": {
   "codemirror_mode": {
    "name": "ipython",
    "version": 3
   },
   "file_extension": ".py",
   "mimetype": "text/x-python",
   "name": "python",
   "nbconvert_exporter": "python",
   "pygments_lexer": "ipython3",
   "version": "3.12.5"
  }
 },
 "nbformat": 4,
 "nbformat_minor": 4
}
