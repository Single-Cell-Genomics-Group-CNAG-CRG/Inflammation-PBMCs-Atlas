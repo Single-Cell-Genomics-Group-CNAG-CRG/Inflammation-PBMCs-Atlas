{
 "cells": [
  {
   "cell_type": "code",
   "execution_count": 2,
   "metadata": {
    "execution": {
     "iopub.execute_input": "2024-07-15T16:00:53.064173Z",
     "iopub.status.busy": "2024-07-15T16:00:53.063955Z",
     "iopub.status.idle": "2024-07-15T16:00:53.067038Z",
     "shell.execute_reply": "2024-07-15T16:00:53.066663Z",
     "shell.execute_reply.started": "2024-07-15T16:00:53.064154Z"
    }
   },
   "outputs": [],
   "source": [
    "import numpy as np\n",
    "import seaborn as sns\n",
    "from pyprojroot.here import here\n",
    "import re\n",
    "import os\n",
    "import pandas as pd\n",
    "import matplotlib.pyplot as plt\n",
    "import anndata as ad\n",
    "from tqdm.auto import tqdm"
   ]
  },
  {
   "cell_type": "code",
   "execution_count": 8,
   "metadata": {
    "execution": {
     "iopub.execute_input": "2024-07-15T16:12:21.670954Z",
     "iopub.status.busy": "2024-07-15T16:12:21.670746Z",
     "iopub.status.idle": "2024-07-15T16:12:21.673370Z",
     "shell.execute_reply": "2024-07-15T16:12:21.673008Z",
     "shell.execute_reply.started": "2024-07-15T16:12:21.670937Z"
    }
   },
   "outputs": [],
   "source": [
    "CELL_TYPES=[\"Mono\", \"T_CD4_Naive\", \"T_CD4_NonNaive\", \"T_CD8_Naive\", \"T_CD8_NonNaive\", \"B\", \"Plasma\", \"UTC\", \"ILC\", \"pDC\", \"DC\"]"
   ]
  },
  {
   "cell_type": "code",
   "execution_count": 2,
   "metadata": {
    "execution": {
     "iopub.execute_input": "2025-03-18T10:11:50.346591Z",
     "iopub.status.busy": "2025-03-18T10:11:50.346333Z",
     "iopub.status.idle": "2025-03-18T10:11:50.350288Z",
     "shell.execute_reply": "2025-03-18T10:11:50.349839Z",
     "shell.execute_reply.started": "2025-03-18T10:11:50.346571Z"
    }
   },
   "outputs": [],
   "source": [
    "def load_shap_statistics(\n",
    "    cell_type: str = '',\n",
    "    interactions: bool = False, \n",
    "    run_name: str = 'run1',\n",
    "    dir_path: str = '',\n",
    "):\n",
    "\n",
    "    if interactions:\n",
    "        shap_type = 'shap_int'\n",
    "    else:\n",
    "        shap_type = 'shap'\n",
    "\n",
    "    fname = here(f\"{dir_path}/total_{run_name}_{cell_type}_{shap_type}_stats.npz\")\n",
    "\n",
    "    shap_stats = np.load(fname)\n",
    "\n",
    "    return (\n",
    "        shap_stats['mean_raw'],\n",
    "        shap_stats['var_raw'],\n",
    "        shap_stats['mean_abs'],\n",
    "        shap_stats['var_abs'])"
   ]
  },
  {
   "cell_type": "code",
   "execution_count": 6,
   "metadata": {
    "execution": {
     "iopub.execute_input": "2024-07-15T16:06:04.196133Z",
     "iopub.status.busy": "2024-07-15T16:06:04.195833Z",
     "iopub.status.idle": "2024-07-15T16:06:04.199727Z",
     "shell.execute_reply": "2024-07-15T16:06:04.199387Z",
     "shell.execute_reply.started": "2024-07-15T16:06:04.196117Z"
    }
   },
   "outputs": [],
   "source": [
    "def load_sorted_shap_values_fnames(\n",
    "    cell_type: str = '',\n",
    "    run_name: str = 'run1'):\n",
    "\n",
    "    dirpath = here(f\"03_downstreamAnalyses/05_SHAP/results/04_shap/shap_vals\")\n",
    "    fname_regex = f'^{run_name}_{cell_type}_shap_values_' + r'(\\d+)'\n",
    "    results_batches = [\n",
    "        (fname, int(re.search(fname_regex, fname).group(1)))\n",
    "        for fname in os.listdir(dirpath)\n",
    "        if re.search(fname_regex, fname)]\n",
    "\n",
    "    sorted_files = sorted(results_batches, key=lambda x: x[1])\n",
    "\n",
    "    sorted_filenames = [os.path.join(dirpath, filename) for filename, _ in sorted_files]\n",
    "\n",
    "    return sorted_filenames"
   ]
  },
  {
   "cell_type": "code",
   "execution_count": 152,
   "metadata": {},
   "outputs": [],
   "source": [
    "def define_cell_subset(cell_type, frac=0.02, max_cells=60000):\n",
    "    adata = ad.read_h5ad(here(f'03_downstreamAnalyses/05_SHAP/data/{cell_type}_adataMerged_SPECTRAgenes.log1p.h5ad'), backed='r')\n",
    "    total_cells = 60000 + 1\n",
    "    frac = 1\n",
    "    while total_cells > max_cells:\n",
    "        cells_subset = (\n",
    "            adata.obs\n",
    "            .reset_index()\n",
    "            .groupby('sampleID', observed=True)\n",
    "            .sample(frac=frac, random_state=42)\n",
    "            .index)\n",
    "        total_cells = cells_subset.shape[0]\n",
    "        frac -= 0.025\n",
    "        frac = round(frac, 3)\n",
    "    cells_subset = np.sort(cells_subset)\n",
    "    return cells_subset"
   ]
  },
  {
   "cell_type": "code",
   "execution_count": 161,
   "metadata": {},
   "outputs": [],
   "source": [
    "def extract_shap_cell_subset(cell_type):\n",
    "    cells_subset = np.load(here(f'03_downstreamAnalyses/05_SHAP/results/04_shap/shap_stripplot/{cell_type}_idxs.npy'))\n",
    "    start_idx = 0\n",
    "    output_shap = []\n",
    "    for fname in load_sorted_shap_values_fnames(cell_type):\n",
    "        batch_of_shap = np.load(fname)['shap_values']\n",
    "        n_samples = batch_of_shap.shape[0]\n",
    "        idxs = np.intersect1d(np.arange(n_samples)+start_idx,cells_subset)\n",
    "        assert (idxs == np.sort(idxs)).all()\n",
    "        output_shap.append(batch_of_shap[idxs-start_idx])\n",
    "        start_idx += n_samples\n",
    "    output_shap = np.concatenate(output_shap)\n",
    "    assert output_shap.shape[0] == cells_subset.shape[0]\n",
    "    np.savez(\n",
    "        here(f'03_downstreamAnalyses/05_SHAP/results/04_shap/shap_stripplot/{cell_type}_shap_subset'), \n",
    "        shap_values=output_shap)\n",
    "    return"
   ]
  }
 ],
 "metadata": {
  "kernelspec": {
   "display_name": "Python 3 (ipykernel)",
   "language": "python",
   "name": "python3"
  },
  "language_info": {
   "codemirror_mode": {
    "name": "ipython",
    "version": 3
   },
   "file_extension": ".py",
   "mimetype": "text/x-python",
   "name": "python",
   "nbconvert_exporter": "python",
   "pygments_lexer": "ipython3",
   "version": "3.12.5"
  }
 },
 "nbformat": 4,
 "nbformat_minor": 4
}
