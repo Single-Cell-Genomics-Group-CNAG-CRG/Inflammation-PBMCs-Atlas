{
 "cells": [
  {
   "cell_type": "code",
   "execution_count": 1,
   "id": "56b5706d",
   "metadata": {
    "editable": true,
    "execution": {
     "iopub.execute_input": "2025-03-19T13:10:08.695505Z",
     "iopub.status.busy": "2025-03-19T13:10:08.695003Z",
     "iopub.status.idle": "2025-03-19T13:10:08.698499Z",
     "shell.execute_reply": "2025-03-19T13:10:08.698094Z"
    },
    "papermill": {
     "duration": 0.01499,
     "end_time": "2025-03-19T13:10:08.699357",
     "exception": false,
     "start_time": "2025-03-19T13:10:08.684367",
     "status": "completed"
    },
    "slideshow": {
     "slide_type": ""
    },
    "tags": [
     "parameters"
    ]
   },
   "outputs": [],
   "source": [
    "CELL_TYPE = 'DC'\n",
    "N_SPLITS: int = 5\n",
    "N_TRIALS: int = 50\n",
    "RUN_NAME: str = \"studyID\""
   ]
  },
  {
   "cell_type": "code",
   "execution_count": 2,
   "id": "f50598ba",
   "metadata": {
    "execution": {
     "iopub.execute_input": "2025-03-19T13:10:08.716089Z",
     "iopub.status.busy": "2025-03-19T13:10:08.715722Z",
     "iopub.status.idle": "2025-03-19T13:10:08.719135Z",
     "shell.execute_reply": "2025-03-19T13:10:08.718552Z"
    },
    "papermill": {
     "duration": 0.012901,
     "end_time": "2025-03-19T13:10:08.720001",
     "exception": false,
     "start_time": "2025-03-19T13:10:08.707100",
     "status": "completed"
    },
    "tags": [
     "injected-parameters"
    ]
   },
   "outputs": [],
   "source": [
    "# Parameters\n",
    "CELL_TYPE = \"B\"\n"
   ]
  },
  {
   "cell_type": "code",
   "execution_count": 3,
   "id": "1efe12a3",
   "metadata": {
    "editable": true,
    "execution": {
     "iopub.execute_input": "2025-03-19T13:10:08.733181Z",
     "iopub.status.busy": "2025-03-19T13:10:08.732463Z",
     "iopub.status.idle": "2025-03-19T13:10:08.735986Z",
     "shell.execute_reply": "2025-03-19T13:10:08.735504Z"
    },
    "papermill": {
     "duration": 0.011166,
     "end_time": "2025-03-19T13:10:08.736720",
     "exception": false,
     "start_time": "2025-03-19T13:10:08.725554",
     "status": "completed"
    },
    "slideshow": {
     "slide_type": ""
    },
    "tags": []
   },
   "outputs": [],
   "source": [
    "if RUN_NAME != \"\":\n",
    "    RUN_NAME = RUN_NAME + \"_\""
   ]
  },
  {
   "cell_type": "code",
   "execution_count": 4,
   "id": "9951f82b",
   "metadata": {
    "editable": true,
    "execution": {
     "iopub.execute_input": "2025-03-19T13:10:08.753783Z",
     "iopub.status.busy": "2025-03-19T13:10:08.753295Z",
     "iopub.status.idle": "2025-03-19T13:10:21.595220Z",
     "shell.execute_reply": "2025-03-19T13:10:21.591436Z"
    },
    "papermill": {
     "duration": 12.854184,
     "end_time": "2025-03-19T13:10:21.599049",
     "exception": false,
     "start_time": "2025-03-19T13:10:08.744865",
     "status": "completed"
    },
    "slideshow": {
     "slide_type": ""
    },
    "tags": []
   },
   "outputs": [],
   "source": [
    "import os\n",
    "import sys\n",
    "#from pyprojroot.here import here\n",
    "\n",
    "import pandas as pd\n",
    "import anndata as ad\n",
    "import numpy as np\n",
    "import math\n",
    "from sklearn.model_selection import StratifiedGroupKFold\n",
    "from sklearn.preprocessing import LabelEncoder\n",
    "from sklearn.metrics import f1_score\n",
    "import matplotlib.pyplot as plt\n",
    "import seaborn as sns\n",
    "from itertools import product\n",
    "\n",
    "import optuna\n",
    "\n",
    "import joblib\n",
    "import pickle\n",
    "import datetime\n",
    "\n",
    "import collections\n",
    "\n",
    "import xgboost\n",
    "from sklearn.preprocessing import LabelEncoder\n",
    "\n",
    "import scipy.sparse as ssp\n",
    "import joblib\n",
    "\n",
    "from pyprojroot import here\n",
    "\n",
    "from dotenv import load_dotenv"
   ]
  },
  {
   "cell_type": "code",
   "execution_count": 5,
   "id": "2f8c0b76",
   "metadata": {
    "execution": {
     "iopub.execute_input": "2025-03-19T13:10:21.636242Z",
     "iopub.status.busy": "2025-03-19T13:10:21.634719Z",
     "iopub.status.idle": "2025-03-19T13:10:21.653020Z",
     "shell.execute_reply": "2025-03-19T13:10:21.652009Z"
    },
    "papermill": {
     "duration": 0.050176,
     "end_time": "2025-03-19T13:10:21.661146",
     "exception": false,
     "start_time": "2025-03-19T13:10:21.610970",
     "status": "completed"
    },
    "tags": []
   },
   "outputs": [],
   "source": [
    "assert load_dotenv()"
   ]
  },
  {
   "cell_type": "markdown",
   "id": "435b5da7",
   "metadata": {
    "execution": {
     "iopub.execute_input": "2025-03-17T14:39:30.205388Z",
     "iopub.status.busy": "2025-03-17T14:39:30.204197Z",
     "iopub.status.idle": "2025-03-17T14:39:30.210586Z",
     "shell.execute_reply": "2025-03-17T14:39:30.209317Z",
     "shell.execute_reply.started": "2025-03-17T14:39:30.205342Z"
    },
    "papermill": {
     "duration": 0.020326,
     "end_time": "2025-03-19T13:10:21.692202",
     "exception": false,
     "start_time": "2025-03-19T13:10:21.671876",
     "status": "completed"
    },
    "tags": []
   },
   "source": [
    "def here(fpath):\n",
    "    return os.path.join(BUCKET_DIRPATH, fpath)"
   ]
  },
  {
   "cell_type": "code",
   "execution_count": 6,
   "id": "188ed3a1",
   "metadata": {
    "execution": {
     "iopub.execute_input": "2025-03-19T13:10:21.734799Z",
     "iopub.status.busy": "2025-03-19T13:10:21.734441Z",
     "iopub.status.idle": "2025-03-19T13:10:21.748020Z",
     "shell.execute_reply": "2025-03-19T13:10:21.739509Z"
    },
    "papermill": {
     "duration": 0.046284,
     "end_time": "2025-03-19T13:10:21.755920",
     "exception": false,
     "start_time": "2025-03-19T13:10:21.709636",
     "status": "completed"
    },
    "tags": []
   },
   "outputs": [],
   "source": [
    "target_y = 'studyID'"
   ]
  },
  {
   "cell_type": "markdown",
   "id": "f9468684",
   "metadata": {
    "papermill": {
     "duration": 0.016773,
     "end_time": "2025-03-19T13:10:21.783724",
     "exception": false,
     "start_time": "2025-03-19T13:10:21.766951",
     "status": "completed"
    },
    "tags": []
   },
   "source": [
    "# LOAD DATASET"
   ]
  },
  {
   "cell_type": "code",
   "execution_count": 7,
   "id": "59eabf2c",
   "metadata": {
    "execution": {
     "iopub.execute_input": "2025-03-19T13:10:21.816383Z",
     "iopub.status.busy": "2025-03-19T13:10:21.816060Z",
     "iopub.status.idle": "2025-03-19T13:10:24.794386Z",
     "shell.execute_reply": "2025-03-19T13:10:24.786840Z"
    },
    "papermill": {
     "duration": 2.992288,
     "end_time": "2025-03-19T13:10:24.795838",
     "exception": false,
     "start_time": "2025-03-19T13:10:21.803550",
     "status": "completed"
    },
    "tags": []
   },
   "outputs": [],
   "source": [
    "adata = ad.read_h5ad(\n",
    "    str(here(f'03_downstream_analysis/08_gene_importance/data/{CELL_TYPE}_adataMerged_SPECTRAgenes.log1p.h5ad')),\n",
    "    backed='r',\n",
    "    chunk_size=25000\n",
    ")"
   ]
  },
  {
   "cell_type": "code",
   "execution_count": 8,
   "id": "ee768c3b",
   "metadata": {
    "execution": {
     "iopub.execute_input": "2025-03-19T13:10:24.853144Z",
     "iopub.status.busy": "2025-03-19T13:10:24.852593Z",
     "iopub.status.idle": "2025-03-19T13:10:24.908234Z",
     "shell.execute_reply": "2025-03-19T13:10:24.903897Z"
    },
    "papermill": {
     "duration": 0.086257,
     "end_time": "2025-03-19T13:10:24.918156",
     "exception": false,
     "start_time": "2025-03-19T13:10:24.831899",
     "status": "completed"
    },
    "tags": []
   },
   "outputs": [
    {
     "data": {
      "text/html": [
       "<div>\n",
       "<style scoped>\n",
       "    .dataframe tbody tr th:only-of-type {\n",
       "        vertical-align: middle;\n",
       "    }\n",
       "\n",
       "    .dataframe tbody tr th {\n",
       "        vertical-align: top;\n",
       "    }\n",
       "\n",
       "    .dataframe thead th {\n",
       "        text-align: right;\n",
       "    }\n",
       "</style>\n",
       "<table border=\"1\" class=\"dataframe\">\n",
       "  <thead>\n",
       "    <tr style=\"text-align: right;\">\n",
       "      <th></th>\n",
       "      <th>studyID</th>\n",
       "      <th>libraryID</th>\n",
       "      <th>sampleID</th>\n",
       "      <th>chemistry</th>\n",
       "      <th>disease</th>\n",
       "      <th>sex</th>\n",
       "      <th>binned_age</th>\n",
       "      <th>Level1</th>\n",
       "      <th>Level2</th>\n",
       "    </tr>\n",
       "    <tr>\n",
       "      <th>cellID</th>\n",
       "      <th></th>\n",
       "      <th></th>\n",
       "      <th></th>\n",
       "      <th></th>\n",
       "      <th></th>\n",
       "      <th></th>\n",
       "      <th></th>\n",
       "      <th></th>\n",
       "      <th></th>\n",
       "    </tr>\n",
       "  </thead>\n",
       "  <tbody>\n",
       "    <tr>\n",
       "      <th>SCGT00_L026_I0148.3P_T0_AAAGAACAGAGTACCG</th>\n",
       "      <td>SCGT00</td>\n",
       "      <td>SCGT00_L026</td>\n",
       "      <td>SCGT00_I0148.3P_T0</td>\n",
       "      <td>3_GEX_V3</td>\n",
       "      <td>SLE</td>\n",
       "      <td>female</td>\n",
       "      <td>31-40</td>\n",
       "      <td>B</td>\n",
       "      <td>B_Naive</td>\n",
       "    </tr>\n",
       "    <tr>\n",
       "      <th>SCGT00_L026_I0148.3P_T0_AAAGTGACAACCAACT</th>\n",
       "      <td>SCGT00</td>\n",
       "      <td>SCGT00_L026</td>\n",
       "      <td>SCGT00_I0148.3P_T0</td>\n",
       "      <td>3_GEX_V3</td>\n",
       "      <td>SLE</td>\n",
       "      <td>female</td>\n",
       "      <td>31-40</td>\n",
       "      <td>B</td>\n",
       "      <td>B_Naive</td>\n",
       "    </tr>\n",
       "    <tr>\n",
       "      <th>SCGT00_L026_I0148.3P_T0_AACAACCCAGCCATTA</th>\n",
       "      <td>SCGT00</td>\n",
       "      <td>SCGT00_L026</td>\n",
       "      <td>SCGT00_I0148.3P_T0</td>\n",
       "      <td>3_GEX_V3</td>\n",
       "      <td>SLE</td>\n",
       "      <td>female</td>\n",
       "      <td>31-40</td>\n",
       "      <td>B</td>\n",
       "      <td>B_Memory_switched</td>\n",
       "    </tr>\n",
       "    <tr>\n",
       "      <th>SCGT00_L026_I0148.3P_T0_AACAACCCAGTGGTGA</th>\n",
       "      <td>SCGT00</td>\n",
       "      <td>SCGT00_L026</td>\n",
       "      <td>SCGT00_I0148.3P_T0</td>\n",
       "      <td>3_GEX_V3</td>\n",
       "      <td>SLE</td>\n",
       "      <td>female</td>\n",
       "      <td>31-40</td>\n",
       "      <td>B</td>\n",
       "      <td>B_Naive</td>\n",
       "    </tr>\n",
       "    <tr>\n",
       "      <th>SCGT00_L026_I0148.3P_T0_AACAGGGTCGTTACCC</th>\n",
       "      <td>SCGT00</td>\n",
       "      <td>SCGT00_L026</td>\n",
       "      <td>SCGT00_I0148.3P_T0</td>\n",
       "      <td>3_GEX_V3</td>\n",
       "      <td>SLE</td>\n",
       "      <td>female</td>\n",
       "      <td>31-40</td>\n",
       "      <td>B</td>\n",
       "      <td>B_Naive</td>\n",
       "    </tr>\n",
       "    <tr>\n",
       "      <th>...</th>\n",
       "      <td>...</td>\n",
       "      <td>...</td>\n",
       "      <td>...</td>\n",
       "      <td>...</td>\n",
       "      <td>...</td>\n",
       "      <td>...</td>\n",
       "      <td>...</td>\n",
       "      <td>...</td>\n",
       "      <td>...</td>\n",
       "    </tr>\n",
       "    <tr>\n",
       "      <th>Perez2022_L026_1584_T0_TTGACTTGTCGAAAGC</th>\n",
       "      <td>Perez2022</td>\n",
       "      <td>Perez2022_L026</td>\n",
       "      <td>Perez2022_1584_T0</td>\n",
       "      <td>3_GEX_V2</td>\n",
       "      <td>SLE</td>\n",
       "      <td>female</td>\n",
       "      <td>61-70</td>\n",
       "      <td>B</td>\n",
       "      <td>B_Transitional</td>\n",
       "    </tr>\n",
       "    <tr>\n",
       "      <th>Perez2022_L026_1584_T0_TTGGCAAGTGTCAATC</th>\n",
       "      <td>Perez2022</td>\n",
       "      <td>Perez2022_L026</td>\n",
       "      <td>Perez2022_1584_T0</td>\n",
       "      <td>3_GEX_V2</td>\n",
       "      <td>SLE</td>\n",
       "      <td>female</td>\n",
       "      <td>61-70</td>\n",
       "      <td>B</td>\n",
       "      <td>B_Transitional</td>\n",
       "    </tr>\n",
       "    <tr>\n",
       "      <th>Perez2022_L026_1584_T0_TTTGCGCTCATTTGGG</th>\n",
       "      <td>Perez2022</td>\n",
       "      <td>Perez2022_L026</td>\n",
       "      <td>Perez2022_1584_T0</td>\n",
       "      <td>3_GEX_V2</td>\n",
       "      <td>SLE</td>\n",
       "      <td>female</td>\n",
       "      <td>61-70</td>\n",
       "      <td>B</td>\n",
       "      <td>B_Naive</td>\n",
       "    </tr>\n",
       "    <tr>\n",
       "      <th>Perez2022_L026_1584_T0_TTTGGTTAGGCAGGTT</th>\n",
       "      <td>Perez2022</td>\n",
       "      <td>Perez2022_L026</td>\n",
       "      <td>Perez2022_1584_T0</td>\n",
       "      <td>3_GEX_V2</td>\n",
       "      <td>SLE</td>\n",
       "      <td>female</td>\n",
       "      <td>61-70</td>\n",
       "      <td>B</td>\n",
       "      <td>B_Memory_switched</td>\n",
       "    </tr>\n",
       "    <tr>\n",
       "      <th>Perez2022_L026_1584_T0_TTTGGTTAGGTAGCCA</th>\n",
       "      <td>Perez2022</td>\n",
       "      <td>Perez2022_L026</td>\n",
       "      <td>Perez2022_1584_T0</td>\n",
       "      <td>3_GEX_V2</td>\n",
       "      <td>SLE</td>\n",
       "      <td>female</td>\n",
       "      <td>61-70</td>\n",
       "      <td>B</td>\n",
       "      <td>B_Memory_switched</td>\n",
       "    </tr>\n",
       "  </tbody>\n",
       "</table>\n",
       "<p>356874 rows × 9 columns</p>\n",
       "</div>"
      ],
      "text/plain": [
       "                                            studyID       libraryID  \\\n",
       "cellID                                                                \n",
       "SCGT00_L026_I0148.3P_T0_AAAGAACAGAGTACCG     SCGT00     SCGT00_L026   \n",
       "SCGT00_L026_I0148.3P_T0_AAAGTGACAACCAACT     SCGT00     SCGT00_L026   \n",
       "SCGT00_L026_I0148.3P_T0_AACAACCCAGCCATTA     SCGT00     SCGT00_L026   \n",
       "SCGT00_L026_I0148.3P_T0_AACAACCCAGTGGTGA     SCGT00     SCGT00_L026   \n",
       "SCGT00_L026_I0148.3P_T0_AACAGGGTCGTTACCC     SCGT00     SCGT00_L026   \n",
       "...                                             ...             ...   \n",
       "Perez2022_L026_1584_T0_TTGACTTGTCGAAAGC   Perez2022  Perez2022_L026   \n",
       "Perez2022_L026_1584_T0_TTGGCAAGTGTCAATC   Perez2022  Perez2022_L026   \n",
       "Perez2022_L026_1584_T0_TTTGCGCTCATTTGGG   Perez2022  Perez2022_L026   \n",
       "Perez2022_L026_1584_T0_TTTGGTTAGGCAGGTT   Perez2022  Perez2022_L026   \n",
       "Perez2022_L026_1584_T0_TTTGGTTAGGTAGCCA   Perez2022  Perez2022_L026   \n",
       "\n",
       "                                                    sampleID chemistry  \\\n",
       "cellID                                                                   \n",
       "SCGT00_L026_I0148.3P_T0_AAAGAACAGAGTACCG  SCGT00_I0148.3P_T0  3_GEX_V3   \n",
       "SCGT00_L026_I0148.3P_T0_AAAGTGACAACCAACT  SCGT00_I0148.3P_T0  3_GEX_V3   \n",
       "SCGT00_L026_I0148.3P_T0_AACAACCCAGCCATTA  SCGT00_I0148.3P_T0  3_GEX_V3   \n",
       "SCGT00_L026_I0148.3P_T0_AACAACCCAGTGGTGA  SCGT00_I0148.3P_T0  3_GEX_V3   \n",
       "SCGT00_L026_I0148.3P_T0_AACAGGGTCGTTACCC  SCGT00_I0148.3P_T0  3_GEX_V3   \n",
       "...                                                      ...       ...   \n",
       "Perez2022_L026_1584_T0_TTGACTTGTCGAAAGC    Perez2022_1584_T0  3_GEX_V2   \n",
       "Perez2022_L026_1584_T0_TTGGCAAGTGTCAATC    Perez2022_1584_T0  3_GEX_V2   \n",
       "Perez2022_L026_1584_T0_TTTGCGCTCATTTGGG    Perez2022_1584_T0  3_GEX_V2   \n",
       "Perez2022_L026_1584_T0_TTTGGTTAGGCAGGTT    Perez2022_1584_T0  3_GEX_V2   \n",
       "Perez2022_L026_1584_T0_TTTGGTTAGGTAGCCA    Perez2022_1584_T0  3_GEX_V2   \n",
       "\n",
       "                                         disease     sex binned_age Level1  \\\n",
       "cellID                                                                       \n",
       "SCGT00_L026_I0148.3P_T0_AAAGAACAGAGTACCG     SLE  female      31-40      B   \n",
       "SCGT00_L026_I0148.3P_T0_AAAGTGACAACCAACT     SLE  female      31-40      B   \n",
       "SCGT00_L026_I0148.3P_T0_AACAACCCAGCCATTA     SLE  female      31-40      B   \n",
       "SCGT00_L026_I0148.3P_T0_AACAACCCAGTGGTGA     SLE  female      31-40      B   \n",
       "SCGT00_L026_I0148.3P_T0_AACAGGGTCGTTACCC     SLE  female      31-40      B   \n",
       "...                                          ...     ...        ...    ...   \n",
       "Perez2022_L026_1584_T0_TTGACTTGTCGAAAGC      SLE  female      61-70      B   \n",
       "Perez2022_L026_1584_T0_TTGGCAAGTGTCAATC      SLE  female      61-70      B   \n",
       "Perez2022_L026_1584_T0_TTTGCGCTCATTTGGG      SLE  female      61-70      B   \n",
       "Perez2022_L026_1584_T0_TTTGGTTAGGCAGGTT      SLE  female      61-70      B   \n",
       "Perez2022_L026_1584_T0_TTTGGTTAGGTAGCCA      SLE  female      61-70      B   \n",
       "\n",
       "                                                     Level2  \n",
       "cellID                                                       \n",
       "SCGT00_L026_I0148.3P_T0_AAAGAACAGAGTACCG            B_Naive  \n",
       "SCGT00_L026_I0148.3P_T0_AAAGTGACAACCAACT            B_Naive  \n",
       "SCGT00_L026_I0148.3P_T0_AACAACCCAGCCATTA  B_Memory_switched  \n",
       "SCGT00_L026_I0148.3P_T0_AACAACCCAGTGGTGA            B_Naive  \n",
       "SCGT00_L026_I0148.3P_T0_AACAGGGTCGTTACCC            B_Naive  \n",
       "...                                                     ...  \n",
       "Perez2022_L026_1584_T0_TTGACTTGTCGAAAGC      B_Transitional  \n",
       "Perez2022_L026_1584_T0_TTGGCAAGTGTCAATC      B_Transitional  \n",
       "Perez2022_L026_1584_T0_TTTGCGCTCATTTGGG             B_Naive  \n",
       "Perez2022_L026_1584_T0_TTTGGTTAGGCAGGTT   B_Memory_switched  \n",
       "Perez2022_L026_1584_T0_TTTGGTTAGGTAGCCA   B_Memory_switched  \n",
       "\n",
       "[356874 rows x 9 columns]"
      ]
     },
     "execution_count": 8,
     "metadata": {},
     "output_type": "execute_result"
    }
   ],
   "source": [
    "adata.obs"
   ]
  },
  {
   "cell_type": "markdown",
   "id": "83ed18c1",
   "metadata": {
    "papermill": {
     "duration": 0.04575,
     "end_time": "2025-03-19T13:10:24.977148",
     "exception": false,
     "start_time": "2025-03-19T13:10:24.931398",
     "status": "completed"
    },
    "tags": []
   },
   "source": [
    "# EXTRACT INDEXES FOR DATA SPLITTING (STRATIFIED BY DISEASE, GROUPED BY PATIENT)\n",
    "\n",
    "# EXTRACT CELL COUNTS PER SPLIT (TO MAKE SURE THAT RATIOS RESEMBLE 70:20:10)"
   ]
  },
  {
   "cell_type": "code",
   "execution_count": 9,
   "id": "3a269e51",
   "metadata": {
    "execution": {
     "iopub.execute_input": "2025-03-19T13:10:25.010669Z",
     "iopub.status.busy": "2025-03-19T13:10:25.010120Z",
     "iopub.status.idle": "2025-03-19T13:10:26.883153Z",
     "shell.execute_reply": "2025-03-19T13:10:26.882268Z"
    },
    "papermill": {
     "duration": 1.895517,
     "end_time": "2025-03-19T13:10:26.885129",
     "exception": false,
     "start_time": "2025-03-19T13:10:24.989612",
     "status": "completed"
    },
    "tags": []
   },
   "outputs": [],
   "source": [
    "all_idxs = np.arange(adata.obs.shape[0])\n",
    "left_out_splits = [s[1] for s in StratifiedGroupKFold(n_splits=N_SPLITS).split(all_idxs, adata.obs[target_y], adata.obs.sampleID)]\n",
    "\n",
    "min_stats = []\n",
    "for val_fold_idx, test_fold_idx in product(range(N_SPLITS), range(1,N_SPLITS)):\n",
    "    if val_fold_idx == test_fold_idx:\n",
    "        continue\n",
    "\n",
    "    all_idxs = np.arange(adata.obs.shape[0])\n",
    "    val_idxs, test_idxs = left_out_splits[val_fold_idx], left_out_splits[test_fold_idx]\n",
    "    train_idxs = np.delete(all_idxs, np.union1d(val_idxs, test_idxs))\n",
    "\n",
    "    cell_count_df = []\n",
    "    cell_count_df.append(adata.obs.iloc[train_idxs].groupby(target_y, observed=False).size().to_frame(name='cell_count').reset_index().assign(split='train'))\n",
    "    cell_count_df.append(adata.obs.iloc[val_idxs].groupby(target_y, observed=False).size().to_frame(name='cell_count').reset_index().assign(split='val'))\n",
    "    cell_count_df.append(adata.obs.iloc[test_idxs].groupby(target_y, observed=False).size().to_frame(name='cell_count').reset_index().assign(split='test'))\n",
    "    cell_count_df = pd.concat(cell_count_df).pivot(index=target_y, columns='split', values='cell_count')\n",
    "    cell_plot_data = cell_count_df.div(cell_count_df.sum(axis=1), axis=0).reset_index().melt(id_vars=target_y)\n",
    "    min_stats.append((val_fold_idx, test_fold_idx, cell_plot_data.query('split==\"train\"').value.min(), cell_plot_data.query('split==\"test\"').value.min()))"
   ]
  },
  {
   "cell_type": "markdown",
   "id": "9de51b65",
   "metadata": {
    "papermill": {
     "duration": 0.014703,
     "end_time": "2025-03-19T13:10:26.912734",
     "exception": false,
     "start_time": "2025-03-19T13:10:26.898031",
     "status": "completed"
    },
    "tags": []
   },
   "source": [
    "# CALCULATE RATIOS OF PATIENTS IN TRAINING AND TESTING SET: splits that best fit the expected ratios"
   ]
  },
  {
   "cell_type": "code",
   "execution_count": 10,
   "id": "6660401e",
   "metadata": {
    "execution": {
     "iopub.execute_input": "2025-03-19T13:10:26.956329Z",
     "iopub.status.busy": "2025-03-19T13:10:26.955966Z",
     "iopub.status.idle": "2025-03-19T13:10:26.989346Z",
     "shell.execute_reply": "2025-03-19T13:10:26.988260Z"
    },
    "papermill": {
     "duration": 0.065224,
     "end_time": "2025-03-19T13:10:26.994123",
     "exception": false,
     "start_time": "2025-03-19T13:10:26.928899",
     "status": "completed"
    },
    "tags": []
   },
   "outputs": [
    {
     "data": {
      "text/html": [
       "<div>\n",
       "<style scoped>\n",
       "    .dataframe tbody tr th:only-of-type {\n",
       "        vertical-align: middle;\n",
       "    }\n",
       "\n",
       "    .dataframe tbody tr th {\n",
       "        vertical-align: top;\n",
       "    }\n",
       "\n",
       "    .dataframe thead th {\n",
       "        text-align: right;\n",
       "    }\n",
       "</style>\n",
       "<table border=\"1\" class=\"dataframe\">\n",
       "  <thead>\n",
       "    <tr style=\"text-align: right;\">\n",
       "      <th></th>\n",
       "      <th>val_idx</th>\n",
       "      <th>test_idx</th>\n",
       "      <th>train_min</th>\n",
       "      <th>test_mean</th>\n",
       "      <th>ranking</th>\n",
       "    </tr>\n",
       "  </thead>\n",
       "  <tbody>\n",
       "    <tr>\n",
       "      <th>8</th>\n",
       "      <td>2</td>\n",
       "      <td>3</td>\n",
       "      <td>0.771165</td>\n",
       "      <td>0.031973</td>\n",
       "      <td>0.024656</td>\n",
       "    </tr>\n",
       "    <tr>\n",
       "      <th>15</th>\n",
       "      <td>4</td>\n",
       "      <td>3</td>\n",
       "      <td>0.800651</td>\n",
       "      <td>0.031973</td>\n",
       "      <td>0.025599</td>\n",
       "    </tr>\n",
       "    <tr>\n",
       "      <th>5</th>\n",
       "      <td>1</td>\n",
       "      <td>3</td>\n",
       "      <td>0.989197</td>\n",
       "      <td>0.031973</td>\n",
       "      <td>0.031627</td>\n",
       "    </tr>\n",
       "    <tr>\n",
       "      <th>2</th>\n",
       "      <td>0</td>\n",
       "      <td>3</td>\n",
       "      <td>0.999552</td>\n",
       "      <td>0.031973</td>\n",
       "      <td>0.031958</td>\n",
       "    </tr>\n",
       "    <tr>\n",
       "      <th>14</th>\n",
       "      <td>4</td>\n",
       "      <td>2</td>\n",
       "      <td>0.676691</td>\n",
       "      <td>0.440004</td>\n",
       "      <td>0.297747</td>\n",
       "    </tr>\n",
       "    <tr>\n",
       "      <th>13</th>\n",
       "      <td>4</td>\n",
       "      <td>1</td>\n",
       "      <td>0.472713</td>\n",
       "      <td>0.707267</td>\n",
       "      <td>0.334334</td>\n",
       "    </tr>\n",
       "    <tr>\n",
       "      <th>11</th>\n",
       "      <td>3</td>\n",
       "      <td>2</td>\n",
       "      <td>0.771165</td>\n",
       "      <td>0.440004</td>\n",
       "      <td>0.339316</td>\n",
       "    </tr>\n",
       "    <tr>\n",
       "      <th>4</th>\n",
       "      <td>1</td>\n",
       "      <td>2</td>\n",
       "      <td>0.916277</td>\n",
       "      <td>0.440004</td>\n",
       "      <td>0.403165</td>\n",
       "    </tr>\n",
       "    <tr>\n",
       "      <th>1</th>\n",
       "      <td>0</td>\n",
       "      <td>2</td>\n",
       "      <td>0.971643</td>\n",
       "      <td>0.440004</td>\n",
       "      <td>0.427527</td>\n",
       "    </tr>\n",
       "    <tr>\n",
       "      <th>6</th>\n",
       "      <td>1</td>\n",
       "      <td>4</td>\n",
       "      <td>0.472713</td>\n",
       "      <td>1.000000</td>\n",
       "      <td>0.472713</td>\n",
       "    </tr>\n",
       "    <tr>\n",
       "      <th>3</th>\n",
       "      <td>0</td>\n",
       "      <td>4</td>\n",
       "      <td>0.481038</td>\n",
       "      <td>1.000000</td>\n",
       "      <td>0.481038</td>\n",
       "    </tr>\n",
       "    <tr>\n",
       "      <th>7</th>\n",
       "      <td>2</td>\n",
       "      <td>1</td>\n",
       "      <td>0.916277</td>\n",
       "      <td>0.707267</td>\n",
       "      <td>0.648052</td>\n",
       "    </tr>\n",
       "    <tr>\n",
       "      <th>9</th>\n",
       "      <td>2</td>\n",
       "      <td>4</td>\n",
       "      <td>0.676691</td>\n",
       "      <td>1.000000</td>\n",
       "      <td>0.676691</td>\n",
       "    </tr>\n",
       "    <tr>\n",
       "      <th>10</th>\n",
       "      <td>3</td>\n",
       "      <td>1</td>\n",
       "      <td>0.989197</td>\n",
       "      <td>0.707267</td>\n",
       "      <td>0.699626</td>\n",
       "    </tr>\n",
       "    <tr>\n",
       "      <th>0</th>\n",
       "      <td>0</td>\n",
       "      <td>1</td>\n",
       "      <td>1.000000</td>\n",
       "      <td>0.707267</td>\n",
       "      <td>0.707267</td>\n",
       "    </tr>\n",
       "    <tr>\n",
       "      <th>12</th>\n",
       "      <td>3</td>\n",
       "      <td>4</td>\n",
       "      <td>0.800651</td>\n",
       "      <td>1.000000</td>\n",
       "      <td>0.800651</td>\n",
       "    </tr>\n",
       "  </tbody>\n",
       "</table>\n",
       "</div>"
      ],
      "text/plain": [
       "    val_idx  test_idx  train_min  test_mean   ranking\n",
       "8         2         3   0.771165   0.031973  0.024656\n",
       "15        4         3   0.800651   0.031973  0.025599\n",
       "5         1         3   0.989197   0.031973  0.031627\n",
       "2         0         3   0.999552   0.031973  0.031958\n",
       "14        4         2   0.676691   0.440004  0.297747\n",
       "13        4         1   0.472713   0.707267  0.334334\n",
       "11        3         2   0.771165   0.440004  0.339316\n",
       "4         1         2   0.916277   0.440004  0.403165\n",
       "1         0         2   0.971643   0.440004  0.427527\n",
       "6         1         4   0.472713   1.000000  0.472713\n",
       "3         0         4   0.481038   1.000000  0.481038\n",
       "7         2         1   0.916277   0.707267  0.648052\n",
       "9         2         4   0.676691   1.000000  0.676691\n",
       "10        3         1   0.989197   0.707267  0.699626\n",
       "0         0         1   1.000000   0.707267  0.707267\n",
       "12        3         4   0.800651   1.000000  0.800651"
      ]
     },
     "execution_count": 10,
     "metadata": {},
     "output_type": "execute_result"
    }
   ],
   "source": [
    "split_rankings_df = (pd.DataFrame(min_stats, columns=['val_idx', 'test_idx', 'train_min', 'test_mean'])\n",
    " .assign(train_min = lambda df: df.train_min / df.train_min.max())\n",
    " .assign(test_mean = lambda df: df.test_mean / df.test_mean.max())\n",
    " .assign(ranking = lambda df: df.test_mean * df.train_min)\n",
    " .sort_values('ranking'))\n",
    "split_rankings_df"
   ]
  },
  {
   "cell_type": "code",
   "execution_count": 11,
   "id": "350f1647",
   "metadata": {
    "execution": {
     "iopub.execute_input": "2025-03-19T13:10:27.016186Z",
     "iopub.status.busy": "2025-03-19T13:10:27.015855Z",
     "iopub.status.idle": "2025-03-19T13:10:27.028222Z",
     "shell.execute_reply": "2025-03-19T13:10:27.027060Z"
    },
    "papermill": {
     "duration": 0.027627,
     "end_time": "2025-03-19T13:10:27.030116",
     "exception": false,
     "start_time": "2025-03-19T13:10:27.002489",
     "status": "completed"
    },
    "tags": []
   },
   "outputs": [],
   "source": [
    "best_split = split_rankings_df.loc[split_rankings_df['ranking'].idxmax()]\n",
    "all_idxs = np.arange(adata.obs.shape[0])\n",
    "val_idxs, test_idxs = left_out_splits[best_split.val_idx.astype(int)], left_out_splits[best_split.test_idx.astype(int)]\n",
    "train_idxs = np.delete(all_idxs, np.union1d(val_idxs, test_idxs))"
   ]
  },
  {
   "cell_type": "markdown",
   "id": "17d72766",
   "metadata": {
    "papermill": {
     "duration": 0.017743,
     "end_time": "2025-03-19T13:10:27.062805",
     "exception": false,
     "start_time": "2025-03-19T13:10:27.045062",
     "status": "completed"
    },
    "tags": []
   },
   "source": [
    "### CHECK NUMBER OF CELLS PER SPLIT"
   ]
  },
  {
   "cell_type": "code",
   "execution_count": 12,
   "id": "0914b4f4",
   "metadata": {
    "execution": {
     "iopub.execute_input": "2025-03-19T13:10:27.100211Z",
     "iopub.status.busy": "2025-03-19T13:10:27.097628Z",
     "iopub.status.idle": "2025-03-19T13:10:27.267045Z",
     "shell.execute_reply": "2025-03-19T13:10:27.262634Z"
    },
    "papermill": {
     "duration": 0.191543,
     "end_time": "2025-03-19T13:10:27.271092",
     "exception": false,
     "start_time": "2025-03-19T13:10:27.079549",
     "status": "completed"
    },
    "tags": []
   },
   "outputs": [],
   "source": [
    "cell_count_df = []\n",
    "cell_count_df.append(adata.obs.iloc[train_idxs].groupby(target_y, observed=False).size().to_frame(name='cell_count').reset_index().assign(split='train'))\n",
    "cell_count_df.append(adata.obs.iloc[val_idxs].groupby(target_y, observed=False).size().to_frame(name='cell_count').reset_index().assign(split='val'))\n",
    "cell_count_df.append(adata.obs.iloc[test_idxs].groupby(target_y, observed=False).size().to_frame(name='cell_count').reset_index().assign(split='test'))\n",
    "cell_count_df = pd.concat(cell_count_df).pivot(index=target_y, columns='split', values='cell_count')\n",
    "cell_plot_data = cell_count_df.div(cell_count_df.sum(axis=1), axis=0).reset_index().melt(id_vars=target_y)\n",
    "\n",
    "pat_count_df = []\n",
    "pat_count_df.append(adata.obs.iloc[train_idxs].groupby(target_y, observed=False).sampleID.nunique().to_frame(name='patient_count').reset_index().assign(split='train'))\n",
    "pat_count_df.append(adata.obs.iloc[val_idxs].groupby(target_y, observed=False).sampleID.nunique().to_frame(name='patient_count').reset_index().assign(split='val'))\n",
    "pat_count_df.append(adata.obs.iloc[test_idxs].groupby(target_y, observed=False).sampleID.nunique().to_frame(name='patient_count').reset_index().assign(split='test'))\n",
    "pd.concat(pat_count_df).pivot(index=target_y, columns='split', values='patient_count')\n",
    "pat_count_df = pd.concat(pat_count_df).pivot(index=target_y, columns='split', values='patient_count')\n",
    "pat_count_df = pat_count_df.div(pat_count_df.sum(axis=1), axis=0)\n",
    "pat_plot_data = pat_count_df.div(pat_count_df.sum(axis=1), axis=0).reset_index().melt(id_vars=target_y)\n",
    "\n",
    "train_pats = set(adata.obs.iloc[train_idxs].sampleID)\n",
    "test_pats = set(adata.obs.iloc[test_idxs].sampleID)\n",
    "val_pats = set(adata.obs.iloc[val_idxs].sampleID)"
   ]
  },
  {
   "cell_type": "code",
   "execution_count": 13,
   "id": "89924168",
   "metadata": {
    "execution": {
     "iopub.execute_input": "2025-03-19T13:10:27.305459Z",
     "iopub.status.busy": "2025-03-19T13:10:27.303821Z",
     "iopub.status.idle": "2025-03-19T13:10:27.308549Z",
     "shell.execute_reply": "2025-03-19T13:10:27.308081Z"
    },
    "papermill": {
     "duration": 0.020314,
     "end_time": "2025-03-19T13:10:27.309395",
     "exception": false,
     "start_time": "2025-03-19T13:10:27.289081",
     "status": "completed"
    },
    "tags": []
   },
   "outputs": [],
   "source": [
    "assert val_pats.intersection(test_pats) != {}\n",
    "assert train_pats.intersection(test_pats) != {}\n",
    "assert train_pats.intersection(val_pats) != {}"
   ]
  },
  {
   "cell_type": "markdown",
   "id": "cff481fb",
   "metadata": {
    "papermill": {
     "duration": 0.013182,
     "end_time": "2025-03-19T13:10:27.335148",
     "exception": false,
     "start_time": "2025-03-19T13:10:27.321966",
     "status": "completed"
    },
    "tags": []
   },
   "source": [
    "### PLOT PATIENT AND CELL DISTRIBUTION ACROSS TRAIN, TEST, AND VALIDATION SETS PER DISEASE\n",
    "### CHECK THAT THEY APPROXIMATE EXPECTATION"
   ]
  },
  {
   "cell_type": "code",
   "execution_count": 14,
   "id": "91bcf412",
   "metadata": {
    "execution": {
     "iopub.execute_input": "2025-03-19T13:10:27.374814Z",
     "iopub.status.busy": "2025-03-19T13:10:27.374409Z",
     "iopub.status.idle": "2025-03-19T13:10:30.300753Z",
     "shell.execute_reply": "2025-03-19T13:10:30.300157Z"
    },
    "papermill": {
     "duration": 2.952417,
     "end_time": "2025-03-19T13:10:30.302360",
     "exception": false,
     "start_time": "2025-03-19T13:10:27.349943",
     "status": "completed"
    },
    "tags": []
   },
   "outputs": [
    {
     "data": {
      "image/png": "[encoded data removed]",
      "text/plain": [
       "<Figure size 2000x600 with 2 Axes>"
      ]
     },
     "metadata": {},
     "output_type": "display_data"
    }
   ],
   "source": [
    "_, axs = plt.subplots(1, 2, figsize=(20, 6))\n",
    "sns.barplot(x=target_y, y='value', hue='split', data=cell_plot_data, ax=axs[0])\n",
    "axs[0].set_title('Cell distribution')\n",
    "axs[0].tick_params(axis='x', labelrotation=90)\n",
    "sns.barplot(x=target_y, y='value', hue='split', data=pat_plot_data, ax=axs[1])\n",
    "axs[1].set_title('Patients distribution')\n",
    "axs[1].tick_params(axis='x', labelrotation=90)\n",
    "\n",
    "os.makedirs(here(f\"03_downstream_analysis/08_gene_importance/results/targetY_{target_y}/01_split_plots/\"), exist_ok=True)\n",
    "\n",
    "plt.savefig(here(f'03_downstream_analysis/08_gene_importance/results/targetY_{target_y}/01_split_plots/{RUN_NAME}{CELL_TYPE}_split_quality.pdf'), bbox_inches='tight', dpi=300)"
   ]
  },
  {
   "cell_type": "code",
   "execution_count": 15,
   "id": "64e22c6e",
   "metadata": {
    "execution": {
     "iopub.execute_input": "2025-03-19T13:10:30.338214Z",
     "iopub.status.busy": "2025-03-19T13:10:30.337934Z",
     "iopub.status.idle": "2025-03-19T13:10:30.397993Z",
     "shell.execute_reply": "2025-03-19T13:10:30.397481Z"
    },
    "papermill": {
     "duration": 0.082792,
     "end_time": "2025-03-19T13:10:30.399367",
     "exception": false,
     "start_time": "2025-03-19T13:10:30.316575",
     "status": "completed"
    },
    "tags": []
   },
   "outputs": [],
   "source": [
    "os.makedirs(here(f\"03_downstream_analysis/08_gene_importance/results/targetY_{target_y}/02_preprocessing/\"), exist_ok=True)\n",
    "\n",
    "np.save(here(f\"03_downstream_analysis/08_gene_importance/results/targetY_{target_y}/02_preprocessing/{RUN_NAME}{CELL_TYPE}_train_idxs.npy\"), train_idxs)\n",
    "np.save(here(f\"03_downstream_analysis/08_gene_importance/results/targetY_{target_y}/02_preprocessing/{RUN_NAME}{CELL_TYPE}_val_idxs.npy\"), val_idxs)\n",
    "np.save(here(f\"03_downstream_analysis/08_gene_importance/results/targetY_{target_y}/02_preprocessing/{RUN_NAME}{CELL_TYPE}_test_idxs.npy\"), test_idxs)"
   ]
  },
  {
   "cell_type": "markdown",
   "id": "4f0b6e5d",
   "metadata": {
    "papermill": {
     "duration": 0.013419,
     "end_time": "2025-03-19T13:10:30.427667",
     "exception": false,
     "start_time": "2025-03-19T13:10:30.414248",
     "status": "completed"
    },
    "tags": []
   },
   "source": [
    "### SUBSET DATASET INTO TRAIN/TEST/VAL SPLITS"
   ]
  },
  {
   "cell_type": "code",
   "execution_count": 16,
   "id": "a3003bb0",
   "metadata": {
    "execution": {
     "iopub.execute_input": "2025-03-19T13:10:30.463810Z",
     "iopub.status.busy": "2025-03-19T13:10:30.463160Z",
     "iopub.status.idle": "2025-03-19T13:11:39.534768Z",
     "shell.execute_reply": "2025-03-19T13:11:39.533730Z"
    },
    "papermill": {
     "duration": 69.101594,
     "end_time": "2025-03-19T13:11:39.544417",
     "exception": false,
     "start_time": "2025-03-19T13:10:30.442823",
     "status": "completed"
    },
    "tags": []
   },
   "outputs": [
    {
     "data": {
      "text/plain": [
       "((213238, 935), (72400, 935), (71236, 935))"
      ]
     },
     "execution_count": 16,
     "metadata": {},
     "output_type": "execute_result"
    }
   ],
   "source": [
    "X_train = adata.X[train_idxs]\n",
    "X_test = adata.X[test_idxs]\n",
    "X_val = adata.X[val_idxs]\n",
    "X_train.shape, X_test.shape, X_val.shape"
   ]
  },
  {
   "cell_type": "code",
   "execution_count": 17,
   "id": "1251ae76",
   "metadata": {
    "execution": {
     "iopub.execute_input": "2025-03-19T13:11:39.580150Z",
     "iopub.status.busy": "2025-03-19T13:11:39.579195Z",
     "iopub.status.idle": "2025-03-19T13:11:39.635279Z",
     "shell.execute_reply": "2025-03-19T13:11:39.634706Z"
    },
    "papermill": {
     "duration": 0.079535,
     "end_time": "2025-03-19T13:11:39.636179",
     "exception": false,
     "start_time": "2025-03-19T13:11:39.556644",
     "status": "completed"
    },
    "tags": []
   },
   "outputs": [
    {
     "data": {
      "text/plain": [
       "((213238,), (72400,), (71236,))"
      ]
     },
     "execution_count": 17,
     "metadata": {},
     "output_type": "execute_result"
    }
   ],
   "source": [
    "y_train = adata.obs.iloc[train_idxs][target_y].values.astype(str)\n",
    "y_test = adata.obs.iloc[test_idxs][target_y].values.astype(str)\n",
    "y_val = adata.obs.iloc[val_idxs][target_y].values.astype(str)\n",
    "y_train.shape, y_test.shape, y_val.shape "
   ]
  },
  {
   "cell_type": "code",
   "execution_count": 18,
   "id": "f00a6d5e",
   "metadata": {
    "execution": {
     "iopub.execute_input": "2025-03-19T13:11:39.688855Z",
     "iopub.status.busy": "2025-03-19T13:11:39.688252Z",
     "iopub.status.idle": "2025-03-19T13:11:39.786132Z",
     "shell.execute_reply": "2025-03-19T13:11:39.785322Z"
    },
    "papermill": {
     "duration": 0.118582,
     "end_time": "2025-03-19T13:11:39.787794",
     "exception": false,
     "start_time": "2025-03-19T13:11:39.669212",
     "status": "completed"
    },
    "tags": []
   },
   "outputs": [],
   "source": [
    "lenc = LabelEncoder()\n",
    "y_train_enc = lenc.fit_transform(y_train)\n",
    "y_val_enc = lenc.transform(y_val)\n",
    "y_test_enc = lenc.transform(y_test)"
   ]
  },
  {
   "cell_type": "markdown",
   "id": "e3d26d7c",
   "metadata": {
    "papermill": {
     "duration": 0.019593,
     "end_time": "2025-03-19T13:11:39.831517",
     "exception": false,
     "start_time": "2025-03-19T13:11:39.811924",
     "status": "completed"
    },
    "tags": []
   },
   "source": [
    "### GENERATE F1 "
   ]
  },
  {
   "cell_type": "code",
   "execution_count": 19,
   "id": "7b9e1338",
   "metadata": {
    "execution": {
     "iopub.execute_input": "2025-03-19T13:11:39.905108Z",
     "iopub.status.busy": "2025-03-19T13:11:39.904573Z",
     "iopub.status.idle": "2025-03-19T13:11:39.917557Z",
     "shell.execute_reply": "2025-03-19T13:11:39.916383Z"
    },
    "papermill": {
     "duration": 0.052247,
     "end_time": "2025-03-19T13:11:39.919735",
     "exception": false,
     "start_time": "2025-03-19T13:11:39.867488",
     "status": "completed"
    },
    "tags": []
   },
   "outputs": [],
   "source": [
    "def custom_f1_score(y_true, y_pred):\n",
    "    return -f1_score(y_true, y_pred.argmax(1), average='weighted')"
   ]
  },
  {
   "cell_type": "code",
   "execution_count": 20,
   "id": "4753214e",
   "metadata": {
    "execution": {
     "iopub.execute_input": "2025-03-19T13:11:39.970021Z",
     "iopub.status.busy": "2025-03-19T13:11:39.969475Z",
     "iopub.status.idle": "2025-03-19T13:11:39.982797Z",
     "shell.execute_reply": "2025-03-19T13:11:39.982312Z"
    },
    "papermill": {
     "duration": 0.045923,
     "end_time": "2025-03-19T13:11:39.985817",
     "exception": false,
     "start_time": "2025-03-19T13:11:39.939894",
     "status": "completed"
    },
    "tags": []
   },
   "outputs": [],
   "source": [
    "eval_metric=custom_f1_score\n",
    "eval_metric_name='custom_f1_score'\n",
    "\n",
    "def objective(trial):\n",
    "    params = {\n",
    "        'sampling_method': 'gradient_based',\n",
    "        'n_estimators': 1500,\n",
    "        'max_depth': trial.suggest_int('max_depth', 3, 20),\n",
    "        'min_child_weight': trial.suggest_int('min_child_weight', 1, 250),\n",
    "        'subsample': trial.suggest_float('subsample', 0.1, 1.0),\n",
    "        'colsample_bynode': trial.suggest_float('colsample_bynode', 0.1, 1.0),\n",
    "        'learning_rate': trial.suggest_float('learning_rate', 1e-3, 5e-1, log=True),\n",
    "    }\n",
    "    pruning_callback = optuna.integration.XGBoostPruningCallback(trial, f'validation_0-{eval_metric_name}')\n",
    "    xgb = xgboost.XGBClassifier(\n",
    "        device='gpu',\n",
    "        eval_metric=eval_metric,\n",
    "        early_stopping_rounds=20,\n",
    "        callbacks=[pruning_callback],\n",
    "        **params\n",
    "    )\n",
    "    xgb.fit(\n",
    "        X_train, \n",
    "        y_train_enc, \n",
    "        verbose=0,\n",
    "        eval_set=[(X_val, y_val_enc)],\n",
    "    )\n",
    "    trial.set_user_attr('best_iteration', xgb.best_iteration)\n",
    "\n",
    "    return xgb.best_score"
   ]
  },
  {
   "cell_type": "code",
   "execution_count": 21,
   "id": "bde28a25",
   "metadata": {
    "execution": {
     "iopub.execute_input": "2025-03-19T13:11:40.041990Z",
     "iopub.status.busy": "2025-03-19T13:11:40.041679Z",
     "iopub.status.idle": "2025-03-19T13:20:42.397755Z",
     "shell.execute_reply": "2025-03-19T13:20:42.397061Z"
    },
    "papermill": {
     "duration": 542.384103,
     "end_time": "2025-03-19T13:20:42.399712",
     "exception": false,
     "start_time": "2025-03-19T13:11:40.015609",
     "status": "completed"
    },
    "tags": []
   },
   "outputs": [
    {
     "name": "stderr",
     "output_type": "stream",
     "text": [
      "[I 2025-03-19 13:11:40,044] A new study created in memory with name: no-name-a2a20351-8073-4110-9411-32f0d19be7a5\n"
     ]
    },
    {
     "name": "stderr",
     "output_type": "stream",
     "text": [
      "/tmp/ipykernel_2300592/350114600.py:4: ExperimentalWarning: WeightsAndBiasesCallback is experimental (supported from v2.9.0). The interface can change in the future.\n",
      "  wandbc = optuna.integration.WeightsAndBiasesCallback(wandb_kwargs=wandb_kwargs)\n",
      "\u001b[34m\u001b[1mwandb\u001b[0m: Using wandb-core as the SDK backend.  Please refer to https://wandb.me/wandb-core for more information.\n"
     ]
    },
    {
     "name": "stderr",
     "output_type": "stream",
     "text": [
      "\u001b[34m\u001b[1mwandb\u001b[0m: Currently logged in as: \u001b[33mdav1989\u001b[0m (\u001b[33minflammation\u001b[0m) to \u001b[32mhttps://api.wandb.ai\u001b[0m. Use \u001b[1m`wandb login --relogin`\u001b[0m to force relogin\n"
     ]
    },
    {
     "name": "stderr",
     "output_type": "stream",
     "text": [
      "\u001b[34m\u001b[1mwandb\u001b[0m: Tracking run with wandb version 0.19.8\n"
     ]
    },
    {
     "name": "stderr",
     "output_type": "stream",
     "text": [
      "\u001b[34m\u001b[1mwandb\u001b[0m: Run data is saved locally in \u001b[35m\u001b[1m/scratch_isilon/groups/singlecell/shared/projects/Inflammation-PBMCs-Atlas/03_downstream_analysis/08_gene_importance/wandb/run-20250319_131146-eg5ywyao\u001b[0m\n",
      "\u001b[34m\u001b[1mwandb\u001b[0m: Run \u001b[1m`wandb offline`\u001b[0m to turn off syncing.\n"
     ]
    },
    {
     "name": "stderr",
     "output_type": "stream",
     "text": [
      "\u001b[34m\u001b[1mwandb\u001b[0m: Syncing run \u001b[33mstudyID_B\u001b[0m\n"
     ]
    },
    {
     "name": "stderr",
     "output_type": "stream",
     "text": [
      "\u001b[34m\u001b[1mwandb\u001b[0m: ⭐️ View project at \u001b[34m\u001b[4mhttps://wandb.ai/inflammation/xgboost\u001b[0m\n"
     ]
    },
    {
     "name": "stderr",
     "output_type": "stream",
     "text": [
      "\u001b[34m\u001b[1mwandb\u001b[0m: 🚀 View run at \u001b[34m\u001b[4mhttps://wandb.ai/inflammation/xgboost/runs/eg5ywyao\u001b[0m\n"
     ]
    },
    {
     "name": "stderr",
     "output_type": "stream",
     "text": [
      "[I 2025-03-19 13:13:58,278] Trial 0 finished with value: -0.935718 and parameters: {'max_depth': 9, 'min_child_weight': 238, 'subsample': 0.7587945476302645, 'colsample_bynode': 0.6387926357773329, 'learning_rate': 0.0026368755339723046}. Best is trial 0 with value: -0.935718.\n"
     ]
    },
    {
     "name": "stderr",
     "output_type": "stream",
     "text": [
      "[I 2025-03-19 13:14:10,552] Trial 1 finished with value: -0.942393 and parameters: {'max_depth': 5, 'min_child_weight': 15, 'subsample': 0.8795585311974417, 'colsample_bynode': 0.6410035105688879, 'learning_rate': 0.08148293210105287}. Best is trial 1 with value: -0.942393.\n"
     ]
    },
    {
     "name": "stderr",
     "output_type": "stream",
     "text": [
      "[I 2025-03-19 13:14:38,068] Trial 2 finished with value: -0.932385 and parameters: {'max_depth': 3, 'min_child_weight': 243, 'subsample': 0.8491983767203796, 'colsample_bynode': 0.29110519961044856, 'learning_rate': 0.003095566460242371}. Best is trial 1 with value: -0.942393.\n"
     ]
    },
    {
     "name": "stderr",
     "output_type": "stream",
     "text": [
      "[I 2025-03-19 13:15:08,176] Trial 3 finished with value: -0.939713 and parameters: {'max_depth': 6, 'min_child_weight': 77, 'subsample': 0.5722807884690141, 'colsample_bynode': 0.48875051677790415, 'learning_rate': 0.006109683510122491}. Best is trial 1 with value: -0.942393.\n"
     ]
    },
    {
     "name": "stderr",
     "output_type": "stream",
     "text": [
      "[I 2025-03-19 13:15:36,662] Trial 4 finished with value: -0.942737 and parameters: {'max_depth': 14, 'min_child_weight': 35, 'subsample': 0.3629301836816964, 'colsample_bynode': 0.4297256589643226, 'learning_rate': 0.01701841881702917}. Best is trial 4 with value: -0.942737.\n"
     ]
    },
    {
     "name": "stderr",
     "output_type": "stream",
     "text": [
      "[I 2025-03-19 13:15:48,611] Trial 5 pruned. Trial was pruned at iteration 31.\n"
     ]
    },
    {
     "name": "stderr",
     "output_type": "stream",
     "text": [
      "[I 2025-03-19 13:15:58,665] Trial 6 finished with value: -0.940002 and parameters: {'max_depth': 13, 'min_child_weight': 43, 'subsample': 0.1585464336867516, 'colsample_bynode': 0.9539969835279999, 'learning_rate': 0.4038423798071558}. Best is trial 4 with value: -0.942737.\n"
     ]
    },
    {
     "name": "stderr",
     "output_type": "stream",
     "text": [
      "[I 2025-03-19 13:16:04,322] Trial 7 pruned. Trial was pruned at iteration 9.\n"
     ]
    },
    {
     "name": "stderr",
     "output_type": "stream",
     "text": [
      "[I 2025-03-19 13:16:08,200] Trial 8 pruned. Trial was pruned at iteration 0.\n"
     ]
    },
    {
     "name": "stderr",
     "output_type": "stream",
     "text": [
      "[I 2025-03-19 13:16:12,256] Trial 9 pruned. Trial was pruned at iteration 0.\n"
     ]
    },
    {
     "name": "stderr",
     "output_type": "stream",
     "text": [
      "[I 2025-03-19 13:16:16,411] Trial 10 pruned. Trial was pruned at iteration 0.\n"
     ]
    },
    {
     "name": "stderr",
     "output_type": "stream",
     "text": [
      "[I 2025-03-19 13:16:39,421] Trial 11 finished with value: -0.946282 and parameters: {'max_depth': 10, 'min_child_weight': 3, 'subsample': 0.9785259098721957, 'colsample_bynode': 0.40131565860091256, 'learning_rate': 0.08587379144532957}. Best is trial 11 with value: -0.946282.\n"
     ]
    },
    {
     "name": "stderr",
     "output_type": "stream",
     "text": [
      "[I 2025-03-19 13:16:56,287] Trial 12 finished with value: -0.945843 and parameters: {'max_depth': 10, 'min_child_weight': 3, 'subsample': 0.37777201587536535, 'colsample_bynode': 0.36301461895178766, 'learning_rate': 0.14603786032022117}. Best is trial 11 with value: -0.946282.\n"
     ]
    },
    {
     "name": "stderr",
     "output_type": "stream",
     "text": [
      "[I 2025-03-19 13:17:10,354] Trial 13 finished with value: -0.945364 and parameters: {'max_depth': 9, 'min_child_weight': 2, 'subsample': 0.3841566497358624, 'colsample_bynode': 0.304245503208456, 'learning_rate': 0.2586083232188041}. Best is trial 11 with value: -0.946282.\n"
     ]
    },
    {
     "name": "stderr",
     "output_type": "stream",
     "text": [
      "[I 2025-03-19 13:17:14,985] Trial 14 pruned. Trial was pruned at iteration 0.\n"
     ]
    },
    {
     "name": "stderr",
     "output_type": "stream",
     "text": [
      "[I 2025-03-19 13:17:19,818] Trial 15 pruned. Trial was pruned at iteration 0.\n"
     ]
    },
    {
     "name": "stderr",
     "output_type": "stream",
     "text": [
      "[I 2025-03-19 13:17:24,555] Trial 16 pruned. Trial was pruned at iteration 0.\n"
     ]
    },
    {
     "name": "stderr",
     "output_type": "stream",
     "text": [
      "[I 2025-03-19 13:17:29,215] Trial 17 pruned. Trial was pruned at iteration 0.\n"
     ]
    },
    {
     "name": "stderr",
     "output_type": "stream",
     "text": [
      "[I 2025-03-19 13:17:33,826] Trial 18 pruned. Trial was pruned at iteration 0.\n"
     ]
    },
    {
     "name": "stderr",
     "output_type": "stream",
     "text": [
      "[I 2025-03-19 13:17:38,465] Trial 19 pruned. Trial was pruned at iteration 0.\n"
     ]
    },
    {
     "name": "stderr",
     "output_type": "stream",
     "text": [
      "[I 2025-03-19 13:17:53,338] Trial 20 finished with value: -0.944192 and parameters: {'max_depth': 11, 'min_child_weight': 60, 'subsample': 0.9988286923549988, 'colsample_bynode': 0.3771398643019687, 'learning_rate': 0.08040955385444451}. Best is trial 11 with value: -0.946282.\n"
     ]
    },
    {
     "name": "stderr",
     "output_type": "stream",
     "text": [
      "[I 2025-03-19 13:18:07,709] Trial 21 finished with value: -0.946844 and parameters: {'max_depth': 9, 'min_child_weight': 1, 'subsample': 0.41147583879303956, 'colsample_bynode': 0.27682970798995915, 'learning_rate': 0.24892967230551477}. Best is trial 21 with value: -0.946844.\n"
     ]
    },
    {
     "name": "stderr",
     "output_type": "stream",
     "text": [
      "[I 2025-03-19 13:18:12,629] Trial 22 pruned. Trial was pruned at iteration 0.\n"
     ]
    },
    {
     "name": "stderr",
     "output_type": "stream",
     "text": [
      "[I 2025-03-19 13:18:17,649] Trial 23 pruned. Trial was pruned at iteration 0.\n"
     ]
    },
    {
     "name": "stderr",
     "output_type": "stream",
     "text": [
      "[I 2025-03-19 13:18:22,681] Trial 24 pruned. Trial was pruned at iteration 0.\n"
     ]
    },
    {
     "name": "stderr",
     "output_type": "stream",
     "text": [
      "[I 2025-03-19 13:18:27,599] Trial 25 pruned. Trial was pruned at iteration 0.\n"
     ]
    },
    {
     "name": "stderr",
     "output_type": "stream",
     "text": [
      "[I 2025-03-19 13:18:32,429] Trial 26 pruned. Trial was pruned at iteration 0.\n"
     ]
    },
    {
     "name": "stderr",
     "output_type": "stream",
     "text": [
      "[I 2025-03-19 13:18:37,519] Trial 27 pruned. Trial was pruned at iteration 0.\n"
     ]
    },
    {
     "name": "stderr",
     "output_type": "stream",
     "text": [
      "[I 2025-03-19 13:18:42,650] Trial 28 pruned. Trial was pruned at iteration 0.\n"
     ]
    },
    {
     "name": "stderr",
     "output_type": "stream",
     "text": [
      "[I 2025-03-19 13:18:47,703] Trial 29 pruned. Trial was pruned at iteration 0.\n"
     ]
    },
    {
     "name": "stderr",
     "output_type": "stream",
     "text": [
      "[I 2025-03-19 13:18:52,671] Trial 30 pruned. Trial was pruned at iteration 0.\n"
     ]
    },
    {
     "name": "stderr",
     "output_type": "stream",
     "text": [
      "[I 2025-03-19 13:18:58,082] Trial 31 pruned. Trial was pruned at iteration 1.\n"
     ]
    },
    {
     "name": "stderr",
     "output_type": "stream",
     "text": [
      "[I 2025-03-19 13:19:03,071] Trial 32 pruned. Trial was pruned at iteration 0.\n"
     ]
    },
    {
     "name": "stderr",
     "output_type": "stream",
     "text": [
      "[I 2025-03-19 13:19:08,141] Trial 33 pruned. Trial was pruned at iteration 1.\n"
     ]
    },
    {
     "name": "stderr",
     "output_type": "stream",
     "text": [
      "[I 2025-03-19 13:19:19,878] Trial 34 finished with value: -0.947086 and parameters: {'max_depth': 9, 'min_child_weight': 1, 'subsample': 0.28583560179368656, 'colsample_bynode': 0.4126063413742277, 'learning_rate': 0.42706851510395244}. Best is trial 34 with value: -0.947086.\n"
     ]
    },
    {
     "name": "stderr",
     "output_type": "stream",
     "text": [
      "[I 2025-03-19 13:19:24,388] Trial 35 pruned. Trial was pruned at iteration 0.\n"
     ]
    },
    {
     "name": "stderr",
     "output_type": "stream",
     "text": [
      "[I 2025-03-19 13:19:29,107] Trial 36 pruned. Trial was pruned at iteration 0.\n"
     ]
    },
    {
     "name": "stderr",
     "output_type": "stream",
     "text": [
      "[I 2025-03-19 13:19:33,813] Trial 37 pruned. Trial was pruned at iteration 0.\n"
     ]
    },
    {
     "name": "stderr",
     "output_type": "stream",
     "text": [
      "[I 2025-03-19 13:19:38,455] Trial 38 pruned. Trial was pruned at iteration 0.\n"
     ]
    },
    {
     "name": "stderr",
     "output_type": "stream",
     "text": [
      "[I 2025-03-19 13:19:43,087] Trial 39 pruned. Trial was pruned at iteration 0.\n"
     ]
    },
    {
     "name": "stderr",
     "output_type": "stream",
     "text": [
      "[I 2025-03-19 13:19:47,760] Trial 40 pruned. Trial was pruned at iteration 0.\n"
     ]
    },
    {
     "name": "stderr",
     "output_type": "stream",
     "text": [
      "[I 2025-03-19 13:19:59,728] Trial 41 finished with value: -0.946068 and parameters: {'max_depth': 9, 'min_child_weight': 2, 'subsample': 0.38034547807381147, 'colsample_bynode': 0.25529299799577804, 'learning_rate': 0.24193377687107448}. Best is trial 34 with value: -0.947086.\n"
     ]
    },
    {
     "name": "stderr",
     "output_type": "stream",
     "text": [
      "[I 2025-03-19 13:20:04,662] Trial 42 pruned. Trial was pruned at iteration 1.\n"
     ]
    },
    {
     "name": "stderr",
     "output_type": "stream",
     "text": [
      "[I 2025-03-19 13:20:09,602] Trial 43 pruned. Trial was pruned at iteration 0.\n"
     ]
    },
    {
     "name": "stderr",
     "output_type": "stream",
     "text": [
      "[I 2025-03-19 13:20:14,651] Trial 44 pruned. Trial was pruned at iteration 0.\n"
     ]
    },
    {
     "name": "stderr",
     "output_type": "stream",
     "text": [
      "[I 2025-03-19 13:20:19,298] Trial 45 pruned. Trial was pruned at iteration 0.\n"
     ]
    },
    {
     "name": "stderr",
     "output_type": "stream",
     "text": [
      "[I 2025-03-19 13:20:24,402] Trial 46 pruned. Trial was pruned at iteration 1.\n"
     ]
    },
    {
     "name": "stderr",
     "output_type": "stream",
     "text": [
      "[I 2025-03-19 13:20:32,526] Trial 47 pruned. Trial was pruned at iteration 13.\n"
     ]
    },
    {
     "name": "stderr",
     "output_type": "stream",
     "text": [
      "[I 2025-03-19 13:20:37,399] Trial 48 pruned. Trial was pruned at iteration 0.\n"
     ]
    },
    {
     "name": "stderr",
     "output_type": "stream",
     "text": [
      "[I 2025-03-19 13:20:42,184] Trial 49 pruned. Trial was pruned at iteration 0.\n"
     ]
    }
   ],
   "source": [
    "sampler = optuna.samplers.TPESampler(seed=42)\n",
    "study = optuna.create_study(direction='minimize', sampler=sampler)\n",
    "wandb_kwargs = {\"project\": \"xgboost\", \"name\": f\"{RUN_NAME}{CELL_TYPE}\"}\n",
    "wandbc = optuna.integration.WeightsAndBiasesCallback(wandb_kwargs=wandb_kwargs)\n",
    "study.optimize(objective, n_trials=N_TRIALS, callbacks=[wandbc], gc_after_trial=True)"
   ]
  },
  {
   "cell_type": "code",
   "execution_count": 22,
   "id": "14b9e4d7",
   "metadata": {
    "execution": {
     "iopub.execute_input": "2025-03-19T13:20:42.430718Z",
     "iopub.status.busy": "2025-03-19T13:20:42.429957Z",
     "iopub.status.idle": "2025-03-19T13:20:42.470327Z",
     "shell.execute_reply": "2025-03-19T13:20:42.469821Z"
    },
    "papermill": {
     "duration": 0.052381,
     "end_time": "2025-03-19T13:20:42.471535",
     "exception": false,
     "start_time": "2025-03-19T13:20:42.419154",
     "status": "completed"
    },
    "tags": []
   },
   "outputs": [
    {
     "data": {
      "text/plain": [
       "['/scratch_isilon/groups/singlecell/shared/projects/Inflammation-PBMCs-Atlas/03_downstream_analysis/08_gene_importance/results/targetY_studyID/03_xgboost/study/studyID_B_xgboost.pkl']"
      ]
     },
     "execution_count": 22,
     "metadata": {},
     "output_type": "execute_result"
    }
   ],
   "source": [
    "os.makedirs(here(f\"03_downstream_analysis/08_gene_importance/results/targetY_{target_y}/03_xgboost/study/\"), exist_ok=True)\n",
    "\n",
    "joblib.dump(study, here(f'03_downstream_analysis/08_gene_importance/results/targetY_{target_y}/03_xgboost/study/{RUN_NAME}{CELL_TYPE}_xgboost.pkl'))"
   ]
  },
  {
   "cell_type": "code",
   "execution_count": 23,
   "id": "25399e54",
   "metadata": {
    "execution": {
     "iopub.execute_input": "2025-03-19T13:20:42.495987Z",
     "iopub.status.busy": "2025-03-19T13:20:42.495793Z",
     "iopub.status.idle": "2025-03-19T13:20:50.260798Z",
     "shell.execute_reply": "2025-03-19T13:20:50.259517Z"
    },
    "papermill": {
     "duration": 7.778347,
     "end_time": "2025-03-19T13:20:50.263419",
     "exception": false,
     "start_time": "2025-03-19T13:20:42.485072",
     "status": "completed"
    },
    "tags": []
   },
   "outputs": [],
   "source": [
    "os.makedirs(here(f\"03_downstream_analysis/08_gene_importance/results/targetY_{target_y}/03_xgboost/parallel_coordinate/\"), exist_ok=True)\n",
    "\n",
    "fig = optuna.visualization.plot_parallel_coordinate(study)\n",
    "fig.write_image(here(f'03_downstream_analysis/08_gene_importance/results/targetY_{target_y}/03_xgboost/parallel_coordinate/{RUN_NAME}{CELL_TYPE}_pcoord.pdf'))"
   ]
  },
  {
   "cell_type": "code",
   "execution_count": 24,
   "id": "89856dae",
   "metadata": {
    "editable": true,
    "execution": {
     "iopub.execute_input": "2025-03-19T13:20:50.328457Z",
     "iopub.status.busy": "2025-03-19T13:20:50.327564Z",
     "iopub.status.idle": "2025-03-19T13:20:59.415506Z",
     "shell.execute_reply": "2025-03-19T13:20:59.415005Z"
    },
    "papermill": {
     "duration": 9.117605,
     "end_time": "2025-03-19T13:20:59.416512",
     "exception": false,
     "start_time": "2025-03-19T13:20:50.298907",
     "status": "completed"
    },
    "scrolled": true,
    "slideshow": {
     "slide_type": ""
    },
    "tags": []
   },
   "outputs": [
    {
     "name": "stdout",
     "output_type": "stream",
     "text": [
      "[0]\tvalidation_0-mlogloss:0.43260\tvalidation_0-custom_f1_score:-0.97835\n"
     ]
    },
    {
     "name": "stdout",
     "output_type": "stream",
     "text": [
      "[1]\tvalidation_0-mlogloss:0.29416\tvalidation_0-custom_f1_score:-0.98974\n"
     ]
    },
    {
     "name": "stdout",
     "output_type": "stream",
     "text": [
      "[2]\tvalidation_0-mlogloss:0.20725\tvalidation_0-custom_f1_score:-0.99076\n"
     ]
    },
    {
     "name": "stdout",
     "output_type": "stream",
     "text": [
      "[3]\tvalidation_0-mlogloss:0.14700\tvalidation_0-custom_f1_score:-0.99194\n"
     ]
    },
    {
     "name": "stdout",
     "output_type": "stream",
     "text": [
      "[4]\tvalidation_0-mlogloss:0.10779\tvalidation_0-custom_f1_score:-0.99215\n"
     ]
    },
    {
     "name": "stdout",
     "output_type": "stream",
     "text": [
      "[5]\tvalidation_0-mlogloss:0.07896\tvalidation_0-custom_f1_score:-0.99279\n"
     ]
    },
    {
     "name": "stdout",
     "output_type": "stream",
     "text": [
      "[6]\tvalidation_0-mlogloss:0.05894\tvalidation_0-custom_f1_score:-0.99355\n"
     ]
    },
    {
     "name": "stdout",
     "output_type": "stream",
     "text": [
      "[7]\tvalidation_0-mlogloss:0.04586\tvalidation_0-custom_f1_score:-0.99371\n"
     ]
    },
    {
     "name": "stdout",
     "output_type": "stream",
     "text": [
      "[8]\tvalidation_0-mlogloss:0.03576\tvalidation_0-custom_f1_score:-0.99433\n"
     ]
    },
    {
     "data": {
      "text/html": [
       "<style>#sk-container-id-1 {\n",
       "  /* Definition of color scheme common for light and dark mode */\n",
       "  --sklearn-color-text: black;\n",
       "  --sklearn-color-line: gray;\n",
       "  /* Definition of color scheme for unfitted estimators */\n",
       "  --sklearn-color-unfitted-level-0: #fff5e6;\n",
       "  --sklearn-color-unfitted-level-1: #f6e4d2;\n",
       "  --sklearn-color-unfitted-level-2: #ffe0b3;\n",
       "  --sklearn-color-unfitted-level-3: chocolate;\n",
       "  /* Definition of color scheme for fitted estimators */\n",
       "  --sklearn-color-fitted-level-0: #f0f8ff;\n",
       "  --sklearn-color-fitted-level-1: #d4ebff;\n",
       "  --sklearn-color-fitted-level-2: #b3dbfd;\n",
       "  --sklearn-color-fitted-level-3: cornflowerblue;\n",
       "\n",
       "  /* Specific color for light theme */\n",
       "  --sklearn-color-text-on-default-background: var(--sg-text-color, var(--theme-code-foreground, var(--jp-content-font-color1, black)));\n",
       "  --sklearn-color-background: var(--sg-background-color, var(--theme-background, var(--jp-layout-color0, white)));\n",
       "  --sklearn-color-border-box: var(--sg-text-color, var(--theme-code-foreground, var(--jp-content-font-color1, black)));\n",
       "  --sklearn-color-icon: #696969;\n",
       "\n",
       "  @media (prefers-color-scheme: dark) {\n",
       "    /* Redefinition of color scheme for dark theme */\n",
       "    --sklearn-color-text-on-default-background: var(--sg-text-color, var(--theme-code-foreground, var(--jp-content-font-color1, white)));\n",
       "    --sklearn-color-background: var(--sg-background-color, var(--theme-background, var(--jp-layout-color0, #111)));\n",
       "    --sklearn-color-border-box: var(--sg-text-color, var(--theme-code-foreground, var(--jp-content-font-color1, white)));\n",
       "    --sklearn-color-icon: #878787;\n",
       "  }\n",
       "}\n",
       "\n",
       "#sk-container-id-1 {\n",
       "  color: var(--sklearn-color-text);\n",
       "}\n",
       "\n",
       "#sk-container-id-1 pre {\n",
       "  padding: 0;\n",
       "}\n",
       "\n",
       "#sk-container-id-1 input.sk-hidden--visually {\n",
       "  border: 0;\n",
       "  clip: rect(1px 1px 1px 1px);\n",
       "  clip: rect(1px, 1px, 1px, 1px);\n",
       "  height: 1px;\n",
       "  margin: -1px;\n",
       "  overflow: hidden;\n",
       "  padding: 0;\n",
       "  position: absolute;\n",
       "  width: 1px;\n",
       "}\n",
       "\n",
       "#sk-container-id-1 div.sk-dashed-wrapped {\n",
       "  border: 1px dashed var(--sklearn-color-line);\n",
       "  margin: 0 0.4em 0.5em 0.4em;\n",
       "  box-sizing: border-box;\n",
       "  padding-bottom: 0.4em;\n",
       "  background-color: var(--sklearn-color-background);\n",
       "}\n",
       "\n",
       "#sk-container-id-1 div.sk-container {\n",
       "  /* jupyter's `normalize.less` sets `[hidden] { display: none; }`\n",
       "     but bootstrap.min.css set `[hidden] { display: none !important; }`\n",
       "     so we also need the `!important` here to be able to override the\n",
       "     default hidden behavior on the sphinx rendered scikit-learn.org.\n",
       "     See: https://github.com/scikit-learn/scikit-learn/issues/21755 */\n",
       "  display: inline-block !important;\n",
       "  position: relative;\n",
       "}\n",
       "\n",
       "#sk-container-id-1 div.sk-text-repr-fallback {\n",
       "  display: none;\n",
       "}\n",
       "\n",
       "div.sk-parallel-item,\n",
       "div.sk-serial,\n",
       "div.sk-item {\n",
       "  /* draw centered vertical line to link estimators */\n",
       "  background-image: linear-gradient(var(--sklearn-color-text-on-default-background), var(--sklearn-color-text-on-default-background));\n",
       "  background-size: 2px 100%;\n",
       "  background-repeat: no-repeat;\n",
       "  background-position: center center;\n",
       "}\n",
       "\n",
       "/* Parallel-specific style estimator block */\n",
       "\n",
       "#sk-container-id-1 div.sk-parallel-item::after {\n",
       "  content: \"\";\n",
       "  width: 100%;\n",
       "  border-bottom: 2px solid var(--sklearn-color-text-on-default-background);\n",
       "  flex-grow: 1;\n",
       "}\n",
       "\n",
       "#sk-container-id-1 div.sk-parallel {\n",
       "  display: flex;\n",
       "  align-items: stretch;\n",
       "  justify-content: center;\n",
       "  background-color: var(--sklearn-color-background);\n",
       "  position: relative;\n",
       "}\n",
       "\n",
       "#sk-container-id-1 div.sk-parallel-item {\n",
       "  display: flex;\n",
       "  flex-direction: column;\n",
       "}\n",
       "\n",
       "#sk-container-id-1 div.sk-parallel-item:first-child::after {\n",
       "  align-self: flex-end;\n",
       "  width: 50%;\n",
       "}\n",
       "\n",
       "#sk-container-id-1 div.sk-parallel-item:last-child::after {\n",
       "  align-self: flex-start;\n",
       "  width: 50%;\n",
       "}\n",
       "\n",
       "#sk-container-id-1 div.sk-parallel-item:only-child::after {\n",
       "  width: 0;\n",
       "}\n",
       "\n",
       "/* Serial-specific style estimator block */\n",
       "\n",
       "#sk-container-id-1 div.sk-serial {\n",
       "  display: flex;\n",
       "  flex-direction: column;\n",
       "  align-items: center;\n",
       "  background-color: var(--sklearn-color-background);\n",
       "  padding-right: 1em;\n",
       "  padding-left: 1em;\n",
       "}\n",
       "\n",
       "\n",
       "/* Toggleable style: style used for estimator/Pipeline/ColumnTransformer box that is\n",
       "clickable and can be expanded/collapsed.\n",
       "- Pipeline and ColumnTransformer use this feature and define the default style\n",
       "- Estimators will overwrite some part of the style using the `sk-estimator` class\n",
       "*/\n",
       "\n",
       "/* Pipeline and ColumnTransformer style (default) */\n",
       "\n",
       "#sk-container-id-1 div.sk-toggleable {\n",
       "  /* Default theme specific background. It is overwritten whether we have a\n",
       "  specific estimator or a Pipeline/ColumnTransformer */\n",
       "  background-color: var(--sklearn-color-background);\n",
       "}\n",
       "\n",
       "/* Toggleable label */\n",
       "#sk-container-id-1 label.sk-toggleable__label {\n",
       "  cursor: pointer;\n",
       "  display: block;\n",
       "  width: 100%;\n",
       "  margin-bottom: 0;\n",
       "  padding: 0.5em;\n",
       "  box-sizing: border-box;\n",
       "  text-align: center;\n",
       "}\n",
       "\n",
       "#sk-container-id-1 label.sk-toggleable__label-arrow:before {\n",
       "  /* Arrow on the left of the label */\n",
       "  content: \"▸\";\n",
       "  float: left;\n",
       "  margin-right: 0.25em;\n",
       "  color: var(--sklearn-color-icon);\n",
       "}\n",
       "\n",
       "#sk-container-id-1 label.sk-toggleable__label-arrow:hover:before {\n",
       "  color: var(--sklearn-color-text);\n",
       "}\n",
       "\n",
       "/* Toggleable content - dropdown */\n",
       "\n",
       "#sk-container-id-1 div.sk-toggleable__content {\n",
       "  max-height: 0;\n",
       "  max-width: 0;\n",
       "  overflow: hidden;\n",
       "  text-align: left;\n",
       "  /* unfitted */\n",
       "  background-color: var(--sklearn-color-unfitted-level-0);\n",
       "}\n",
       "\n",
       "#sk-container-id-1 div.sk-toggleable__content.fitted {\n",
       "  /* fitted */\n",
       "  background-color: var(--sklearn-color-fitted-level-0);\n",
       "}\n",
       "\n",
       "#sk-container-id-1 div.sk-toggleable__content pre {\n",
       "  margin: 0.2em;\n",
       "  border-radius: 0.25em;\n",
       "  color: var(--sklearn-color-text);\n",
       "  /* unfitted */\n",
       "  background-color: var(--sklearn-color-unfitted-level-0);\n",
       "}\n",
       "\n",
       "#sk-container-id-1 div.sk-toggleable__content.fitted pre {\n",
       "  /* unfitted */\n",
       "  background-color: var(--sklearn-color-fitted-level-0);\n",
       "}\n",
       "\n",
       "#sk-container-id-1 input.sk-toggleable__control:checked~div.sk-toggleable__content {\n",
       "  /* Expand drop-down */\n",
       "  max-height: 200px;\n",
       "  max-width: 100%;\n",
       "  overflow: auto;\n",
       "}\n",
       "\n",
       "#sk-container-id-1 input.sk-toggleable__control:checked~label.sk-toggleable__label-arrow:before {\n",
       "  content: \"▾\";\n",
       "}\n",
       "\n",
       "/* Pipeline/ColumnTransformer-specific style */\n",
       "\n",
       "#sk-container-id-1 div.sk-label input.sk-toggleable__control:checked~label.sk-toggleable__label {\n",
       "  color: var(--sklearn-color-text);\n",
       "  background-color: var(--sklearn-color-unfitted-level-2);\n",
       "}\n",
       "\n",
       "#sk-container-id-1 div.sk-label.fitted input.sk-toggleable__control:checked~label.sk-toggleable__label {\n",
       "  background-color: var(--sklearn-color-fitted-level-2);\n",
       "}\n",
       "\n",
       "/* Estimator-specific style */\n",
       "\n",
       "/* Colorize estimator box */\n",
       "#sk-container-id-1 div.sk-estimator input.sk-toggleable__control:checked~label.sk-toggleable__label {\n",
       "  /* unfitted */\n",
       "  background-color: var(--sklearn-color-unfitted-level-2);\n",
       "}\n",
       "\n",
       "#sk-container-id-1 div.sk-estimator.fitted input.sk-toggleable__control:checked~label.sk-toggleable__label {\n",
       "  /* fitted */\n",
       "  background-color: var(--sklearn-color-fitted-level-2);\n",
       "}\n",
       "\n",
       "#sk-container-id-1 div.sk-label label.sk-toggleable__label,\n",
       "#sk-container-id-1 div.sk-label label {\n",
       "  /* The background is the default theme color */\n",
       "  color: var(--sklearn-color-text-on-default-background);\n",
       "}\n",
       "\n",
       "/* On hover, darken the color of the background */\n",
       "#sk-container-id-1 div.sk-label:hover label.sk-toggleable__label {\n",
       "  color: var(--sklearn-color-text);\n",
       "  background-color: var(--sklearn-color-unfitted-level-2);\n",
       "}\n",
       "\n",
       "/* Label box, darken color on hover, fitted */\n",
       "#sk-container-id-1 div.sk-label.fitted:hover label.sk-toggleable__label.fitted {\n",
       "  color: var(--sklearn-color-text);\n",
       "  background-color: var(--sklearn-color-fitted-level-2);\n",
       "}\n",
       "\n",
       "/* Estimator label */\n",
       "\n",
       "#sk-container-id-1 div.sk-label label {\n",
       "  font-family: monospace;\n",
       "  font-weight: bold;\n",
       "  display: inline-block;\n",
       "  line-height: 1.2em;\n",
       "}\n",
       "\n",
       "#sk-container-id-1 div.sk-label-container {\n",
       "  text-align: center;\n",
       "}\n",
       "\n",
       "/* Estimator-specific */\n",
       "#sk-container-id-1 div.sk-estimator {\n",
       "  font-family: monospace;\n",
       "  border: 1px dotted var(--sklearn-color-border-box);\n",
       "  border-radius: 0.25em;\n",
       "  box-sizing: border-box;\n",
       "  margin-bottom: 0.5em;\n",
       "  /* unfitted */\n",
       "  background-color: var(--sklearn-color-unfitted-level-0);\n",
       "}\n",
       "\n",
       "#sk-container-id-1 div.sk-estimator.fitted {\n",
       "  /* fitted */\n",
       "  background-color: var(--sklearn-color-fitted-level-0);\n",
       "}\n",
       "\n",
       "/* on hover */\n",
       "#sk-container-id-1 div.sk-estimator:hover {\n",
       "  /* unfitted */\n",
       "  background-color: var(--sklearn-color-unfitted-level-2);\n",
       "}\n",
       "\n",
       "#sk-container-id-1 div.sk-estimator.fitted:hover {\n",
       "  /* fitted */\n",
       "  background-color: var(--sklearn-color-fitted-level-2);\n",
       "}\n",
       "\n",
       "/* Specification for estimator info (e.g. \"i\" and \"?\") */\n",
       "\n",
       "/* Common style for \"i\" and \"?\" */\n",
       "\n",
       ".sk-estimator-doc-link,\n",
       "a:link.sk-estimator-doc-link,\n",
       "a:visited.sk-estimator-doc-link {\n",
       "  float: right;\n",
       "  font-size: smaller;\n",
       "  line-height: 1em;\n",
       "  font-family: monospace;\n",
       "  background-color: var(--sklearn-color-background);\n",
       "  border-radius: 1em;\n",
       "  height: 1em;\n",
       "  width: 1em;\n",
       "  text-decoration: none !important;\n",
       "  margin-left: 1ex;\n",
       "  /* unfitted */\n",
       "  border: var(--sklearn-color-unfitted-level-1) 1pt solid;\n",
       "  color: var(--sklearn-color-unfitted-level-1);\n",
       "}\n",
       "\n",
       ".sk-estimator-doc-link.fitted,\n",
       "a:link.sk-estimator-doc-link.fitted,\n",
       "a:visited.sk-estimator-doc-link.fitted {\n",
       "  /* fitted */\n",
       "  border: var(--sklearn-color-fitted-level-1) 1pt solid;\n",
       "  color: var(--sklearn-color-fitted-level-1);\n",
       "}\n",
       "\n",
       "/* On hover */\n",
       "div.sk-estimator:hover .sk-estimator-doc-link:hover,\n",
       ".sk-estimator-doc-link:hover,\n",
       "div.sk-label-container:hover .sk-estimator-doc-link:hover,\n",
       ".sk-estimator-doc-link:hover {\n",
       "  /* unfitted */\n",
       "  background-color: var(--sklearn-color-unfitted-level-3);\n",
       "  color: var(--sklearn-color-background);\n",
       "  text-decoration: none;\n",
       "}\n",
       "\n",
       "div.sk-estimator.fitted:hover .sk-estimator-doc-link.fitted:hover,\n",
       ".sk-estimator-doc-link.fitted:hover,\n",
       "div.sk-label-container:hover .sk-estimator-doc-link.fitted:hover,\n",
       ".sk-estimator-doc-link.fitted:hover {\n",
       "  /* fitted */\n",
       "  background-color: var(--sklearn-color-fitted-level-3);\n",
       "  color: var(--sklearn-color-background);\n",
       "  text-decoration: none;\n",
       "}\n",
       "\n",
       "/* Span, style for the box shown on hovering the info icon */\n",
       ".sk-estimator-doc-link span {\n",
       "  display: none;\n",
       "  z-index: 9999;\n",
       "  position: relative;\n",
       "  font-weight: normal;\n",
       "  right: .2ex;\n",
       "  padding: .5ex;\n",
       "  margin: .5ex;\n",
       "  width: min-content;\n",
       "  min-width: 20ex;\n",
       "  max-width: 50ex;\n",
       "  color: var(--sklearn-color-text);\n",
       "  box-shadow: 2pt 2pt 4pt #999;\n",
       "  /* unfitted */\n",
       "  background: var(--sklearn-color-unfitted-level-0);\n",
       "  border: .5pt solid var(--sklearn-color-unfitted-level-3);\n",
       "}\n",
       "\n",
       ".sk-estimator-doc-link.fitted span {\n",
       "  /* fitted */\n",
       "  background: var(--sklearn-color-fitted-level-0);\n",
       "  border: var(--sklearn-color-fitted-level-3);\n",
       "}\n",
       "\n",
       ".sk-estimator-doc-link:hover span {\n",
       "  display: block;\n",
       "}\n",
       "\n",
       "/* \"?\"-specific style due to the `<a>` HTML tag */\n",
       "\n",
       "#sk-container-id-1 a.estimator_doc_link {\n",
       "  float: right;\n",
       "  font-size: 1rem;\n",
       "  line-height: 1em;\n",
       "  font-family: monospace;\n",
       "  background-color: var(--sklearn-color-background);\n",
       "  border-radius: 1rem;\n",
       "  height: 1rem;\n",
       "  width: 1rem;\n",
       "  text-decoration: none;\n",
       "  /* unfitted */\n",
       "  color: var(--sklearn-color-unfitted-level-1);\n",
       "  border: var(--sklearn-color-unfitted-level-1) 1pt solid;\n",
       "}\n",
       "\n",
       "#sk-container-id-1 a.estimator_doc_link.fitted {\n",
       "  /* fitted */\n",
       "  border: var(--sklearn-color-fitted-level-1) 1pt solid;\n",
       "  color: var(--sklearn-color-fitted-level-1);\n",
       "}\n",
       "\n",
       "/* On hover */\n",
       "#sk-container-id-1 a.estimator_doc_link:hover {\n",
       "  /* unfitted */\n",
       "  background-color: var(--sklearn-color-unfitted-level-3);\n",
       "  color: var(--sklearn-color-background);\n",
       "  text-decoration: none;\n",
       "}\n",
       "\n",
       "#sk-container-id-1 a.estimator_doc_link.fitted:hover {\n",
       "  /* fitted */\n",
       "  background-color: var(--sklearn-color-fitted-level-3);\n",
       "}\n",
       "</style><div id=\"sk-container-id-1\" class=\"sk-top-container\"><div class=\"sk-text-repr-fallback\"><pre>XGBClassifier(base_score=None, booster=None, callbacks=None,\n",
       "              colsample_bylevel=None, colsample_bynode=0.4126063413742277,\n",
       "              colsample_bytree=None, device=&#x27;gpu&#x27;, early_stopping_rounds=None,\n",
       "              enable_categorical=False,\n",
       "              eval_metric=&lt;function custom_f1_score at 0x74ba6384a700&gt;,\n",
       "              feature_types=None, gamma=None, grow_policy=None,\n",
       "              importance_type=None, interaction_constraints=None,\n",
       "              learning_rate=0.42706851510395244, max_bin=None,\n",
       "              max_cat_threshold=None, max_cat_to_onehot=None,\n",
       "              max_delta_step=None, max_depth=9, max_leaves=None,\n",
       "              min_child_weight=1, missing=nan, monotone_constraints=None,\n",
       "              multi_strategy=None, n_estimators=9, n_jobs=None,\n",
       "              num_parallel_tree=None, objective=&#x27;multi:softprob&#x27;, ...)</pre><b>In a Jupyter environment, please rerun this cell to show the HTML representation or trust the notebook. <br />On GitHub, the HTML representation is unable to render, please try loading this page with nbviewer.org.</b></div><div class=\"sk-container\" hidden><div class=\"sk-item\"><div class=\"sk-estimator fitted sk-toggleable\"><input class=\"sk-toggleable__control sk-hidden--visually\" id=\"sk-estimator-id-1\" type=\"checkbox\" checked><label for=\"sk-estimator-id-1\" class=\"sk-toggleable__label fitted sk-toggleable__label-arrow fitted\">&nbsp;XGBClassifier<span class=\"sk-estimator-doc-link fitted\">i<span>Fitted</span></span></label><div class=\"sk-toggleable__content fitted\"><pre>XGBClassifier(base_score=None, booster=None, callbacks=None,\n",
       "              colsample_bylevel=None, colsample_bynode=0.4126063413742277,\n",
       "              colsample_bytree=None, device=&#x27;gpu&#x27;, early_stopping_rounds=None,\n",
       "              enable_categorical=False,\n",
       "              eval_metric=&lt;function custom_f1_score at 0x74ba6384a700&gt;,\n",
       "              feature_types=None, gamma=None, grow_policy=None,\n",
       "              importance_type=None, interaction_constraints=None,\n",
       "              learning_rate=0.42706851510395244, max_bin=None,\n",
       "              max_cat_threshold=None, max_cat_to_onehot=None,\n",
       "              max_delta_step=None, max_depth=9, max_leaves=None,\n",
       "              min_child_weight=1, missing=nan, monotone_constraints=None,\n",
       "              multi_strategy=None, n_estimators=9, n_jobs=None,\n",
       "              num_parallel_tree=None, objective=&#x27;multi:softprob&#x27;, ...)</pre></div> </div></div></div></div>"
      ],
      "text/plain": [
       "XGBClassifier(base_score=None, booster=None, callbacks=None,\n",
       "              colsample_bylevel=None, colsample_bynode=0.4126063413742277,\n",
       "              colsample_bytree=None, device='gpu', early_stopping_rounds=None,\n",
       "              enable_categorical=False,\n",
       "              eval_metric=<function custom_f1_score at 0x74ba6384a700>,\n",
       "              feature_types=None, gamma=None, grow_policy=None,\n",
       "              importance_type=None, interaction_constraints=None,\n",
       "              learning_rate=0.42706851510395244, max_bin=None,\n",
       "              max_cat_threshold=None, max_cat_to_onehot=None,\n",
       "              max_delta_step=None, max_depth=9, max_leaves=None,\n",
       "              min_child_weight=1, missing=nan, monotone_constraints=None,\n",
       "              multi_strategy=None, n_estimators=9, n_jobs=None,\n",
       "              num_parallel_tree=None, objective='multi:softprob', ...)"
      ]
     },
     "execution_count": 24,
     "metadata": {},
     "output_type": "execute_result"
    }
   ],
   "source": [
    "n_estimators = int(study.best_trial.user_attrs['best_iteration']*1.2)\n",
    "xgb = xgboost.XGBClassifier(\n",
    "        device='gpu',\n",
    "        eval_metric=eval_metric,\n",
    "        n_estimators=n_estimators,\n",
    "        **study.best_trial.params\n",
    "    )\n",
    "xgb.fit(\n",
    "    ssp.vstack((X_train, X_val)), \n",
    "    np.concatenate((y_train_enc, y_val_enc)), \n",
    "    eval_set=[(X_test, y_test_enc)],\n",
    "    verbose=1,\n",
    ")"
   ]
  },
  {
   "cell_type": "code",
   "execution_count": 25,
   "id": "01a08bd0",
   "metadata": {
    "editable": true,
    "execution": {
     "iopub.execute_input": "2025-03-19T13:20:59.468098Z",
     "iopub.status.busy": "2025-03-19T13:20:59.467558Z",
     "iopub.status.idle": "2025-03-19T13:20:59.519408Z",
     "shell.execute_reply": "2025-03-19T13:20:59.518407Z"
    },
    "papermill": {
     "duration": 0.083998,
     "end_time": "2025-03-19T13:20:59.522108",
     "exception": false,
     "start_time": "2025-03-19T13:20:59.438110",
     "status": "completed"
    },
    "slideshow": {
     "slide_type": ""
    },
    "tags": []
   },
   "outputs": [
    {
     "data": {
      "text/plain": [
       "['/scratch_isilon/groups/singlecell/shared/projects/Inflammation-PBMCs-Atlas/03_downstream_analysis/08_gene_importance/results/targetY_studyID/03_xgboost/best_model/studyID_B_xgb.json']"
      ]
     },
     "execution_count": 25,
     "metadata": {},
     "output_type": "execute_result"
    }
   ],
   "source": [
    "os.makedirs(here(f\"03_downstream_analysis/08_gene_importance/results/targetY_{target_y}/03_xgboost/best_model/\"), exist_ok=True)\n",
    "\n",
    "joblib.dump(xgb, (here(f'03_downstream_analysis/08_gene_importance/results/targetY_{target_y}/03_xgboost/best_model/{RUN_NAME}{CELL_TYPE}_xgb.json')))"
   ]
  },
  {
   "cell_type": "code",
   "execution_count": 26,
   "id": "547cba28",
   "metadata": {
    "execution": {
     "iopub.execute_input": "2025-03-19T13:20:59.597549Z",
     "iopub.status.busy": "2025-03-19T13:20:59.597152Z",
     "iopub.status.idle": "2025-03-19T13:21:02.245950Z",
     "shell.execute_reply": "2025-03-19T13:21:02.244435Z"
    },
    "papermill": {
     "duration": 2.693684,
     "end_time": "2025-03-19T13:21:02.248589",
     "exception": false,
     "start_time": "2025-03-19T13:20:59.554905",
     "status": "completed"
    },
    "tags": []
   },
   "outputs": [
    {
     "name": "stderr",
     "output_type": "stream",
     "text": [
      "/scratch_isilon/groups/singlecell/shared/conda_env/xgboostGPU/lib/python3.12/site-packages/xgboost/core.py:160: UserWarning:\n",
      "\n",
      "[13:20:59] WARNING: /home/conda/feedstock_root/build_artifacts/xgboost-split_1703076482591/work/src/common/error_msg.cc:58: Falling back to prediction using DMatrix due to mismatched devices. This might lead to higher memory usage and slower performance. XGBoost is running on: cuda:0, while the input data is on: cpu.\n",
      "Potential solutions:\n",
      "- Use a data structure that matches the device ordinal in the booster.\n",
      "- Set the device for booster before call to inplace_predict.\n",
      "\n",
      "This warning will only be shown once.\n",
      "\n",
      "\n"
     ]
    }
   ],
   "source": [
    "os.makedirs(here(f\"03_downstream_analysis/08_gene_importance/results/targetY_{target_y}/03_xgboost/predictions/\"), exist_ok=True)\n",
    "\n",
    "(pd.DataFrame(np.array((y_test, y_test_enc, xgb.predict(X_test))).T, columns=['y_true', 'y_true_code', 'y_pred'])\n",
    " .to_csv(here(f'03_downstream_analysis/08_gene_importance/results/targetY_{target_y}/03_xgboost/predictions/{RUN_NAME}{CELL_TYPE}_pred_test.zip')))\n",
    "(pd.DataFrame(np.array((y_train, y_train_enc, xgb.predict(X_train))).T, columns=['y_true', 'y_true_code', 'y_pred'])\n",
    " .to_csv(here(f'03_downstream_analysis/08_gene_importance/results/targetY_{target_y}/03_xgboost/predictions/{RUN_NAME}{CELL_TYPE}_pred_train.zip')))"
   ]
  },
  {
   "cell_type": "code",
   "execution_count": null,
   "id": "2ff9ebf7",
   "metadata": {
    "papermill": {
     "duration": 0.010817,
     "end_time": "2025-03-19T13:21:02.278932",
     "exception": false,
     "start_time": "2025-03-19T13:21:02.268115",
     "status": "completed"
    },
    "tags": []
   },
   "outputs": [],
   "source": []
  }
 ],
 "metadata": {
  "kernelspec": {
   "display_name": "Python 3 (ipykernel)",
   "language": "python",
   "name": "python3"
  },
  "language_info": {
   "codemirror_mode": {
    "name": "ipython",
    "version": 3
   },
   "file_extension": ".py",
   "mimetype": "text/x-python",
   "name": "python",
   "nbconvert_exporter": "python",
   "pygments_lexer": "ipython3",
   "version": "3.12.9"
  },
  "papermill": {
   "default_parameters": {},
   "duration": 664.574665,
   "end_time": "2025-03-19T13:21:05.317817",
   "environment_variables": {},
   "exception": null,
   "input_path": "02_studyID_xgboost_fitting.ipynb",
   "output_path": "executed_notebooks/02_studyID_xgboost_fitting_B.ipynb",
   "parameters": {
    "CELL_TYPE": "B"
   },
   "start_time": "2025-03-19T13:10:00.743152",
   "version": "2.6.0"
  }
 },
 "nbformat": 4,
 "nbformat_minor": 5
}