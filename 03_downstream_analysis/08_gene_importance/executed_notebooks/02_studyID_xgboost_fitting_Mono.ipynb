{
 "cells": [
  {
   "cell_type": "code",
   "execution_count": 1,
   "id": "c3267f84",
   "metadata": {
    "editable": true,
    "execution": {
     "iopub.execute_input": "2025-03-18T18:24:33.563683Z",
     "iopub.status.busy": "2025-03-18T18:24:33.563222Z",
     "iopub.status.idle": "2025-03-18T18:24:33.568048Z",
     "shell.execute_reply": "2025-03-18T18:24:33.567255Z"
    },
    "papermill": {
     "duration": 0.059104,
     "end_time": "2025-03-18T18:24:33.569782",
     "exception": false,
     "start_time": "2025-03-18T18:24:33.510678",
     "status": "completed"
    },
    "slideshow": {
     "slide_type": ""
    },
    "tags": [
     "parameters"
    ]
   },
   "outputs": [],
   "source": [
    "CELL_TYPE = 'DC'\n",
    "N_SPLITS: int = 5\n",
    "N_TRIALS: int = 50\n",
    "RUN_NAME: str = \"studyID\""
   ]
  },
  {
   "cell_type": "code",
   "execution_count": 2,
   "id": "ad1d538c",
   "metadata": {
    "execution": {
     "iopub.execute_input": "2025-03-18T18:24:33.688105Z",
     "iopub.status.busy": "2025-03-18T18:24:33.687814Z",
     "iopub.status.idle": "2025-03-18T18:24:33.695653Z",
     "shell.execute_reply": "2025-03-18T18:24:33.694407Z"
    },
    "papermill": {
     "duration": 0.055955,
     "end_time": "2025-03-18T18:24:33.698198",
     "exception": false,
     "start_time": "2025-03-18T18:24:33.642243",
     "status": "completed"
    },
    "tags": [
     "injected-parameters"
    ]
   },
   "outputs": [],
   "source": [
    "# Parameters\n",
    "CELL_TYPE = \"Mono\"\n"
   ]
  },
  {
   "cell_type": "code",
   "execution_count": 3,
   "id": "624ab5a2",
   "metadata": {
    "editable": true,
    "execution": {
     "iopub.execute_input": "2025-03-18T18:24:33.874808Z",
     "iopub.status.busy": "2025-03-18T18:24:33.874492Z",
     "iopub.status.idle": "2025-03-18T18:24:33.882090Z",
     "shell.execute_reply": "2025-03-18T18:24:33.877682Z"
    },
    "papermill": {
     "duration": 0.104929,
     "end_time": "2025-03-18T18:24:33.887840",
     "exception": false,
     "start_time": "2025-03-18T18:24:33.782911",
     "status": "completed"
    },
    "slideshow": {
     "slide_type": ""
    },
    "tags": []
   },
   "outputs": [],
   "source": [
    "if RUN_NAME != \"\":\n",
    "    RUN_NAME = RUN_NAME + \"_\""
   ]
  },
  {
   "cell_type": "code",
   "execution_count": 4,
   "id": "923b7e5e",
   "metadata": {
    "editable": true,
    "execution": {
     "iopub.execute_input": "2025-03-18T18:24:34.026317Z",
     "iopub.status.busy": "2025-03-18T18:24:34.023209Z",
     "iopub.status.idle": "2025-03-18T18:24:44.792661Z",
     "shell.execute_reply": "2025-03-18T18:24:44.792202Z"
    },
    "papermill": {
     "duration": 10.856463,
     "end_time": "2025-03-18T18:24:44.793621",
     "exception": false,
     "start_time": "2025-03-18T18:24:33.937158",
     "status": "completed"
    },
    "slideshow": {
     "slide_type": ""
    },
    "tags": []
   },
   "outputs": [],
   "source": [
    "import os\n",
    "import sys\n",
    "#from pyprojroot.here import here\n",
    "\n",
    "import pandas as pd\n",
    "import anndata as ad\n",
    "import numpy as np\n",
    "import math\n",
    "from sklearn.model_selection import StratifiedGroupKFold\n",
    "from sklearn.preprocessing import LabelEncoder\n",
    "from sklearn.metrics import f1_score\n",
    "import matplotlib.pyplot as plt\n",
    "import seaborn as sns\n",
    "from itertools import product\n",
    "\n",
    "import optuna\n",
    "\n",
    "import joblib\n",
    "import pickle\n",
    "import datetime\n",
    "\n",
    "import collections\n",
    "\n",
    "import xgboost\n",
    "from sklearn.preprocessing import LabelEncoder\n",
    "\n",
    "import scipy.sparse as ssp\n",
    "import joblib\n",
    "\n",
    "from pyprojroot import here\n",
    "\n",
    "from dotenv import load_dotenv"
   ]
  },
  {
   "cell_type": "code",
   "execution_count": 5,
   "id": "d40a7c54",
   "metadata": {
    "execution": {
     "iopub.execute_input": "2025-03-18T18:24:44.848672Z",
     "iopub.status.busy": "2025-03-18T18:24:44.847689Z",
     "iopub.status.idle": "2025-03-18T18:24:44.855008Z",
     "shell.execute_reply": "2025-03-18T18:24:44.854639Z"
    },
    "papermill": {
     "duration": 0.041888,
     "end_time": "2025-03-18T18:24:44.855631",
     "exception": false,
     "start_time": "2025-03-18T18:24:44.813743",
     "status": "completed"
    },
    "tags": []
   },
   "outputs": [],
   "source": [
    "assert load_dotenv()"
   ]
  },
  {
   "cell_type": "markdown",
   "id": "c0b59d18",
   "metadata": {
    "execution": {
     "iopub.execute_input": "2025-03-17T14:39:30.205388Z",
     "iopub.status.busy": "2025-03-17T14:39:30.204197Z",
     "iopub.status.idle": "2025-03-17T14:39:30.210586Z",
     "shell.execute_reply": "2025-03-17T14:39:30.209317Z",
     "shell.execute_reply.started": "2025-03-17T14:39:30.205342Z"
    },
    "papermill": {
     "duration": 0.010166,
     "end_time": "2025-03-18T18:24:44.878757",
     "exception": false,
     "start_time": "2025-03-18T18:24:44.868591",
     "status": "completed"
    },
    "tags": []
   },
   "source": [
    "def here(fpath):\n",
    "    return os.path.join(BUCKET_DIRPATH, fpath)"
   ]
  },
  {
   "cell_type": "code",
   "execution_count": 6,
   "id": "94129088",
   "metadata": {
    "execution": {
     "iopub.execute_input": "2025-03-18T18:24:44.943844Z",
     "iopub.status.busy": "2025-03-18T18:24:44.943516Z",
     "iopub.status.idle": "2025-03-18T18:24:44.946343Z",
     "shell.execute_reply": "2025-03-18T18:24:44.945838Z"
    },
    "papermill": {
     "duration": 0.028047,
     "end_time": "2025-03-18T18:24:44.947283",
     "exception": false,
     "start_time": "2025-03-18T18:24:44.919236",
     "status": "completed"
    },
    "tags": []
   },
   "outputs": [],
   "source": [
    "target_y = 'studyID'"
   ]
  },
  {
   "cell_type": "markdown",
   "id": "1949fddd",
   "metadata": {
    "papermill": {
     "duration": 0.017015,
     "end_time": "2025-03-18T18:24:44.997965",
     "exception": false,
     "start_time": "2025-03-18T18:24:44.980950",
     "status": "completed"
    },
    "tags": []
   },
   "source": [
    "# LOAD DATASET"
   ]
  },
  {
   "cell_type": "code",
   "execution_count": 7,
   "id": "528b8977",
   "metadata": {
    "execution": {
     "iopub.execute_input": "2025-03-18T18:24:45.059856Z",
     "iopub.status.busy": "2025-03-18T18:24:45.059440Z",
     "iopub.status.idle": "2025-03-18T18:24:56.188179Z",
     "shell.execute_reply": "2025-03-18T18:24:56.184376Z"
    },
    "papermill": {
     "duration": 11.184749,
     "end_time": "2025-03-18T18:24:56.190635",
     "exception": false,
     "start_time": "2025-03-18T18:24:45.005886",
     "status": "completed"
    },
    "tags": []
   },
   "outputs": [],
   "source": [
    "adata = ad.read_h5ad(\n",
    "    str(here(f'03_downstream_analysis/08_gene_importance/data/{CELL_TYPE}_adataMerged_SPECTRAgenes.log1p.h5ad')),\n",
    "    backed='r',\n",
    "    chunk_size=25000\n",
    ")"
   ]
  },
  {
   "cell_type": "code",
   "execution_count": 8,
   "id": "5ec1de24",
   "metadata": {
    "execution": {
     "iopub.execute_input": "2025-03-18T18:24:56.303663Z",
     "iopub.status.busy": "2025-03-18T18:24:56.303205Z",
     "iopub.status.idle": "2025-03-18T18:24:56.371459Z",
     "shell.execute_reply": "2025-03-18T18:24:56.370369Z"
    },
    "papermill": {
     "duration": 0.157782,
     "end_time": "2025-03-18T18:24:56.373851",
     "exception": false,
     "start_time": "2025-03-18T18:24:56.216069",
     "status": "completed"
    },
    "tags": []
   },
   "outputs": [
    {
     "data": {
      "text/html": [
       "<div>\n",
       "<style scoped>\n",
       "    .dataframe tbody tr th:only-of-type {\n",
       "        vertical-align: middle;\n",
       "    }\n",
       "\n",
       "    .dataframe tbody tr th {\n",
       "        vertical-align: top;\n",
       "    }\n",
       "\n",
       "    .dataframe thead th {\n",
       "        text-align: right;\n",
       "    }\n",
       "</style>\n",
       "<table border=\"1\" class=\"dataframe\">\n",
       "  <thead>\n",
       "    <tr style=\"text-align: right;\">\n",
       "      <th></th>\n",
       "      <th>studyID</th>\n",
       "      <th>libraryID</th>\n",
       "      <th>sampleID</th>\n",
       "      <th>chemistry</th>\n",
       "      <th>disease</th>\n",
       "      <th>sex</th>\n",
       "      <th>binned_age</th>\n",
       "      <th>Level1</th>\n",
       "      <th>Level2</th>\n",
       "    </tr>\n",
       "    <tr>\n",
       "      <th>cellID</th>\n",
       "      <th></th>\n",
       "      <th></th>\n",
       "      <th></th>\n",
       "      <th></th>\n",
       "      <th></th>\n",
       "      <th></th>\n",
       "      <th></th>\n",
       "      <th></th>\n",
       "      <th></th>\n",
       "    </tr>\n",
       "  </thead>\n",
       "  <tbody>\n",
       "    <tr>\n",
       "      <th>COMBAT2022_L028_S00003_T0_AACTCAGTCACCTTAT</th>\n",
       "      <td>COMBAT2022</td>\n",
       "      <td>COMBAT2022_L028</td>\n",
       "      <td>COMBAT2022_S00003_T0</td>\n",
       "      <td>5_GEX_V1</td>\n",
       "      <td>COVID</td>\n",
       "      <td>female</td>\n",
       "      <td>18-30</td>\n",
       "      <td>Mono</td>\n",
       "      <td>Mono_inflammatory</td>\n",
       "    </tr>\n",
       "    <tr>\n",
       "      <th>COMBAT2022_L028_S00003_T0_AACTTTCTCCCAACGG</th>\n",
       "      <td>COMBAT2022</td>\n",
       "      <td>COMBAT2022_L028</td>\n",
       "      <td>COMBAT2022_S00003_T0</td>\n",
       "      <td>5_GEX_V1</td>\n",
       "      <td>COVID</td>\n",
       "      <td>female</td>\n",
       "      <td>18-30</td>\n",
       "      <td>Mono</td>\n",
       "      <td>Mono_classical</td>\n",
       "    </tr>\n",
       "    <tr>\n",
       "      <th>COMBAT2022_L028_S00003_T0_AAGACCTCAAAGGCGT</th>\n",
       "      <td>COMBAT2022</td>\n",
       "      <td>COMBAT2022_L028</td>\n",
       "      <td>COMBAT2022_S00003_T0</td>\n",
       "      <td>5_GEX_V1</td>\n",
       "      <td>COVID</td>\n",
       "      <td>female</td>\n",
       "      <td>18-30</td>\n",
       "      <td>Mono</td>\n",
       "      <td>Mono_IFNresponse</td>\n",
       "    </tr>\n",
       "    <tr>\n",
       "      <th>COMBAT2022_L028_S00003_T0_ACATACGCACAACGTT</th>\n",
       "      <td>COMBAT2022</td>\n",
       "      <td>COMBAT2022_L028</td>\n",
       "      <td>COMBAT2022_S00003_T0</td>\n",
       "      <td>5_GEX_V1</td>\n",
       "      <td>COVID</td>\n",
       "      <td>female</td>\n",
       "      <td>18-30</td>\n",
       "      <td>Mono</td>\n",
       "      <td>Mono_classical</td>\n",
       "    </tr>\n",
       "    <tr>\n",
       "      <th>COMBAT2022_L028_S00003_T0_ACGATGTGTCTTGCGG</th>\n",
       "      <td>COMBAT2022</td>\n",
       "      <td>COMBAT2022_L028</td>\n",
       "      <td>COMBAT2022_S00003_T0</td>\n",
       "      <td>5_GEX_V1</td>\n",
       "      <td>COVID</td>\n",
       "      <td>female</td>\n",
       "      <td>18-30</td>\n",
       "      <td>Mono</td>\n",
       "      <td>Mono_inflammatory</td>\n",
       "    </tr>\n",
       "    <tr>\n",
       "      <th>...</th>\n",
       "      <td>...</td>\n",
       "      <td>...</td>\n",
       "      <td>...</td>\n",
       "      <td>...</td>\n",
       "      <td>...</td>\n",
       "      <td>...</td>\n",
       "      <td>...</td>\n",
       "      <td>...</td>\n",
       "      <td>...</td>\n",
       "    </tr>\n",
       "    <tr>\n",
       "      <th>SCGT00_L039_I013016.3P_T0_TTTAGTCCAACCGTAT</th>\n",
       "      <td>SCGT00</td>\n",
       "      <td>SCGT00_L039</td>\n",
       "      <td>SCGT00_I013016.3P_T0</td>\n",
       "      <td>3_GEX_V3</td>\n",
       "      <td>PS</td>\n",
       "      <td>female</td>\n",
       "      <td>51-60</td>\n",
       "      <td>Mono</td>\n",
       "      <td>Mono_regulatory</td>\n",
       "    </tr>\n",
       "    <tr>\n",
       "      <th>SCGT00_L039_I013016.3P_T0_TTTAGTCCAGTGTGGA</th>\n",
       "      <td>SCGT00</td>\n",
       "      <td>SCGT00_L039</td>\n",
       "      <td>SCGT00_I013016.3P_T0</td>\n",
       "      <td>3_GEX_V3</td>\n",
       "      <td>PS</td>\n",
       "      <td>female</td>\n",
       "      <td>51-60</td>\n",
       "      <td>Mono</td>\n",
       "      <td>Mono_regulatory</td>\n",
       "    </tr>\n",
       "    <tr>\n",
       "      <th>SCGT00_L039_I013016.3P_T0_TTTGGTTCACACCGAC</th>\n",
       "      <td>SCGT00</td>\n",
       "      <td>SCGT00_L039</td>\n",
       "      <td>SCGT00_I013016.3P_T0</td>\n",
       "      <td>3_GEX_V3</td>\n",
       "      <td>PS</td>\n",
       "      <td>female</td>\n",
       "      <td>51-60</td>\n",
       "      <td>Mono</td>\n",
       "      <td>Mono_classical</td>\n",
       "    </tr>\n",
       "    <tr>\n",
       "      <th>SCGT00_L039_I013016.3P_T0_TTTGGTTCACAGTGTT</th>\n",
       "      <td>SCGT00</td>\n",
       "      <td>SCGT00_L039</td>\n",
       "      <td>SCGT00_I013016.3P_T0</td>\n",
       "      <td>3_GEX_V3</td>\n",
       "      <td>PS</td>\n",
       "      <td>female</td>\n",
       "      <td>51-60</td>\n",
       "      <td>Mono</td>\n",
       "      <td>Mono_regulatory</td>\n",
       "    </tr>\n",
       "    <tr>\n",
       "      <th>SCGT00_L039_I013016.3P_T0_TTTGTTGTCCGGTAAT</th>\n",
       "      <td>SCGT00</td>\n",
       "      <td>SCGT00_L039</td>\n",
       "      <td>SCGT00_I013016.3P_T0</td>\n",
       "      <td>3_GEX_V3</td>\n",
       "      <td>PS</td>\n",
       "      <td>female</td>\n",
       "      <td>51-60</td>\n",
       "      <td>Mono</td>\n",
       "      <td>Mono_nonClassical</td>\n",
       "    </tr>\n",
       "  </tbody>\n",
       "</table>\n",
       "<p>1049149 rows × 9 columns</p>\n",
       "</div>"
      ],
      "text/plain": [
       "                                               studyID        libraryID  \\\n",
       "cellID                                                                    \n",
       "COMBAT2022_L028_S00003_T0_AACTCAGTCACCTTAT  COMBAT2022  COMBAT2022_L028   \n",
       "COMBAT2022_L028_S00003_T0_AACTTTCTCCCAACGG  COMBAT2022  COMBAT2022_L028   \n",
       "COMBAT2022_L028_S00003_T0_AAGACCTCAAAGGCGT  COMBAT2022  COMBAT2022_L028   \n",
       "COMBAT2022_L028_S00003_T0_ACATACGCACAACGTT  COMBAT2022  COMBAT2022_L028   \n",
       "COMBAT2022_L028_S00003_T0_ACGATGTGTCTTGCGG  COMBAT2022  COMBAT2022_L028   \n",
       "...                                                ...              ...   \n",
       "SCGT00_L039_I013016.3P_T0_TTTAGTCCAACCGTAT      SCGT00      SCGT00_L039   \n",
       "SCGT00_L039_I013016.3P_T0_TTTAGTCCAGTGTGGA      SCGT00      SCGT00_L039   \n",
       "SCGT00_L039_I013016.3P_T0_TTTGGTTCACACCGAC      SCGT00      SCGT00_L039   \n",
       "SCGT00_L039_I013016.3P_T0_TTTGGTTCACAGTGTT      SCGT00      SCGT00_L039   \n",
       "SCGT00_L039_I013016.3P_T0_TTTGTTGTCCGGTAAT      SCGT00      SCGT00_L039   \n",
       "\n",
       "                                                        sampleID chemistry  \\\n",
       "cellID                                                                       \n",
       "COMBAT2022_L028_S00003_T0_AACTCAGTCACCTTAT  COMBAT2022_S00003_T0  5_GEX_V1   \n",
       "COMBAT2022_L028_S00003_T0_AACTTTCTCCCAACGG  COMBAT2022_S00003_T0  5_GEX_V1   \n",
       "COMBAT2022_L028_S00003_T0_AAGACCTCAAAGGCGT  COMBAT2022_S00003_T0  5_GEX_V1   \n",
       "COMBAT2022_L028_S00003_T0_ACATACGCACAACGTT  COMBAT2022_S00003_T0  5_GEX_V1   \n",
       "COMBAT2022_L028_S00003_T0_ACGATGTGTCTTGCGG  COMBAT2022_S00003_T0  5_GEX_V1   \n",
       "...                                                          ...       ...   \n",
       "SCGT00_L039_I013016.3P_T0_TTTAGTCCAACCGTAT  SCGT00_I013016.3P_T0  3_GEX_V3   \n",
       "SCGT00_L039_I013016.3P_T0_TTTAGTCCAGTGTGGA  SCGT00_I013016.3P_T0  3_GEX_V3   \n",
       "SCGT00_L039_I013016.3P_T0_TTTGGTTCACACCGAC  SCGT00_I013016.3P_T0  3_GEX_V3   \n",
       "SCGT00_L039_I013016.3P_T0_TTTGGTTCACAGTGTT  SCGT00_I013016.3P_T0  3_GEX_V3   \n",
       "SCGT00_L039_I013016.3P_T0_TTTGTTGTCCGGTAAT  SCGT00_I013016.3P_T0  3_GEX_V3   \n",
       "\n",
       "                                           disease     sex binned_age Level1  \\\n",
       "cellID                                                                         \n",
       "COMBAT2022_L028_S00003_T0_AACTCAGTCACCTTAT   COVID  female      18-30   Mono   \n",
       "COMBAT2022_L028_S00003_T0_AACTTTCTCCCAACGG   COVID  female      18-30   Mono   \n",
       "COMBAT2022_L028_S00003_T0_AAGACCTCAAAGGCGT   COVID  female      18-30   Mono   \n",
       "COMBAT2022_L028_S00003_T0_ACATACGCACAACGTT   COVID  female      18-30   Mono   \n",
       "COMBAT2022_L028_S00003_T0_ACGATGTGTCTTGCGG   COVID  female      18-30   Mono   \n",
       "...                                            ...     ...        ...    ...   \n",
       "SCGT00_L039_I013016.3P_T0_TTTAGTCCAACCGTAT      PS  female      51-60   Mono   \n",
       "SCGT00_L039_I013016.3P_T0_TTTAGTCCAGTGTGGA      PS  female      51-60   Mono   \n",
       "SCGT00_L039_I013016.3P_T0_TTTGGTTCACACCGAC      PS  female      51-60   Mono   \n",
       "SCGT00_L039_I013016.3P_T0_TTTGGTTCACAGTGTT      PS  female      51-60   Mono   \n",
       "SCGT00_L039_I013016.3P_T0_TTTGTTGTCCGGTAAT      PS  female      51-60   Mono   \n",
       "\n",
       "                                                       Level2  \n",
       "cellID                                                         \n",
       "COMBAT2022_L028_S00003_T0_AACTCAGTCACCTTAT  Mono_inflammatory  \n",
       "COMBAT2022_L028_S00003_T0_AACTTTCTCCCAACGG     Mono_classical  \n",
       "COMBAT2022_L028_S00003_T0_AAGACCTCAAAGGCGT   Mono_IFNresponse  \n",
       "COMBAT2022_L028_S00003_T0_ACATACGCACAACGTT     Mono_classical  \n",
       "COMBAT2022_L028_S00003_T0_ACGATGTGTCTTGCGG  Mono_inflammatory  \n",
       "...                                                       ...  \n",
       "SCGT00_L039_I013016.3P_T0_TTTAGTCCAACCGTAT    Mono_regulatory  \n",
       "SCGT00_L039_I013016.3P_T0_TTTAGTCCAGTGTGGA    Mono_regulatory  \n",
       "SCGT00_L039_I013016.3P_T0_TTTGGTTCACACCGAC     Mono_classical  \n",
       "SCGT00_L039_I013016.3P_T0_TTTGGTTCACAGTGTT    Mono_regulatory  \n",
       "SCGT00_L039_I013016.3P_T0_TTTGTTGTCCGGTAAT  Mono_nonClassical  \n",
       "\n",
       "[1049149 rows x 9 columns]"
      ]
     },
     "execution_count": 8,
     "metadata": {},
     "output_type": "execute_result"
    }
   ],
   "source": [
    "adata.obs"
   ]
  },
  {
   "cell_type": "markdown",
   "id": "20c4f8fb",
   "metadata": {
    "papermill": {
     "duration": 0.0439,
     "end_time": "2025-03-18T18:24:56.456795",
     "exception": false,
     "start_time": "2025-03-18T18:24:56.412895",
     "status": "completed"
    },
    "tags": []
   },
   "source": [
    "# EXTRACT INDEXES FOR DATA SPLITTING (STRATIFIED BY DISEASE, GROUPED BY PATIENT)\n",
    "\n",
    "# EXTRACT CELL COUNTS PER SPLIT (TO MAKE SURE THAT RATIOS RESEMBLE 70:20:10)"
   ]
  },
  {
   "cell_type": "code",
   "execution_count": 9,
   "id": "0a9d4b7f",
   "metadata": {
    "execution": {
     "iopub.execute_input": "2025-03-18T18:24:56.686740Z",
     "iopub.status.busy": "2025-03-18T18:24:56.686376Z",
     "iopub.status.idle": "2025-03-18T18:25:01.657790Z",
     "shell.execute_reply": "2025-03-18T18:25:01.656685Z"
    },
    "papermill": {
     "duration": 5.086442,
     "end_time": "2025-03-18T18:25:01.659333",
     "exception": false,
     "start_time": "2025-03-18T18:24:56.572891",
     "status": "completed"
    },
    "tags": []
   },
   "outputs": [],
   "source": [
    "all_idxs = np.arange(adata.obs.shape[0])\n",
    "left_out_splits = [s[1] for s in StratifiedGroupKFold(n_splits=N_SPLITS).split(all_idxs, adata.obs[target_y], adata.obs.sampleID)]\n",
    "\n",
    "min_stats = []\n",
    "for val_fold_idx, test_fold_idx in product(range(N_SPLITS), range(1,N_SPLITS)):\n",
    "    if val_fold_idx == test_fold_idx:\n",
    "        continue\n",
    "\n",
    "    all_idxs = np.arange(adata.obs.shape[0])\n",
    "    val_idxs, test_idxs = left_out_splits[val_fold_idx], left_out_splits[test_fold_idx]\n",
    "    train_idxs = np.delete(all_idxs, np.union1d(val_idxs, test_idxs))\n",
    "\n",
    "    cell_count_df = []\n",
    "    cell_count_df.append(adata.obs.iloc[train_idxs].groupby(target_y, observed=False).size().to_frame(name='cell_count').reset_index().assign(split='train'))\n",
    "    cell_count_df.append(adata.obs.iloc[val_idxs].groupby(target_y, observed=False).size().to_frame(name='cell_count').reset_index().assign(split='val'))\n",
    "    cell_count_df.append(adata.obs.iloc[test_idxs].groupby(target_y, observed=False).size().to_frame(name='cell_count').reset_index().assign(split='test'))\n",
    "    cell_count_df = pd.concat(cell_count_df).pivot(index=target_y, columns='split', values='cell_count')\n",
    "    cell_plot_data = cell_count_df.div(cell_count_df.sum(axis=1), axis=0).reset_index().melt(id_vars=target_y)\n",
    "    min_stats.append((val_fold_idx, test_fold_idx, cell_plot_data.query('split==\"train\"').value.min(), cell_plot_data.query('split==\"test\"').value.min()))"
   ]
  },
  {
   "cell_type": "markdown",
   "id": "0fc9aa81",
   "metadata": {
    "papermill": {
     "duration": 0.127384,
     "end_time": "2025-03-18T18:25:01.846356",
     "exception": false,
     "start_time": "2025-03-18T18:25:01.718972",
     "status": "completed"
    },
    "tags": []
   },
   "source": [
    "# CALCULATE RATIOS OF PATIENTS IN TRAINING AND TESTING SET: splits that best fit the expected ratios"
   ]
  },
  {
   "cell_type": "code",
   "execution_count": 10,
   "id": "f06cd40b",
   "metadata": {
    "execution": {
     "iopub.execute_input": "2025-03-18T18:25:01.978560Z",
     "iopub.status.busy": "2025-03-18T18:25:01.978208Z",
     "iopub.status.idle": "2025-03-18T18:25:01.997715Z",
     "shell.execute_reply": "2025-03-18T18:25:01.997298Z"
    },
    "papermill": {
     "duration": 0.123374,
     "end_time": "2025-03-18T18:25:01.998736",
     "exception": false,
     "start_time": "2025-03-18T18:25:01.875362",
     "status": "completed"
    },
    "tags": []
   },
   "outputs": [
    {
     "data": {
      "text/html": [
       "<div>\n",
       "<style scoped>\n",
       "    .dataframe tbody tr th:only-of-type {\n",
       "        vertical-align: middle;\n",
       "    }\n",
       "\n",
       "    .dataframe tbody tr th {\n",
       "        vertical-align: top;\n",
       "    }\n",
       "\n",
       "    .dataframe thead th {\n",
       "        text-align: right;\n",
       "    }\n",
       "</style>\n",
       "<table border=\"1\" class=\"dataframe\">\n",
       "  <thead>\n",
       "    <tr style=\"text-align: right;\">\n",
       "      <th></th>\n",
       "      <th>val_idx</th>\n",
       "      <th>test_idx</th>\n",
       "      <th>train_min</th>\n",
       "      <th>test_mean</th>\n",
       "      <th>ranking</th>\n",
       "    </tr>\n",
       "  </thead>\n",
       "  <tbody>\n",
       "    <tr>\n",
       "      <th>13</th>\n",
       "      <td>4</td>\n",
       "      <td>1</td>\n",
       "      <td>0.622306</td>\n",
       "      <td>0.437333</td>\n",
       "      <td>0.272155</td>\n",
       "    </tr>\n",
       "    <tr>\n",
       "      <th>12</th>\n",
       "      <td>3</td>\n",
       "      <td>4</td>\n",
       "      <td>0.292995</td>\n",
       "      <td>0.980983</td>\n",
       "      <td>0.287423</td>\n",
       "    </tr>\n",
       "    <tr>\n",
       "      <th>15</th>\n",
       "      <td>4</td>\n",
       "      <td>3</td>\n",
       "      <td>0.292995</td>\n",
       "      <td>1.000000</td>\n",
       "      <td>0.292995</td>\n",
       "    </tr>\n",
       "    <tr>\n",
       "      <th>0</th>\n",
       "      <td>0</td>\n",
       "      <td>1</td>\n",
       "      <td>0.723072</td>\n",
       "      <td>0.437333</td>\n",
       "      <td>0.316223</td>\n",
       "    </tr>\n",
       "    <tr>\n",
       "      <th>14</th>\n",
       "      <td>4</td>\n",
       "      <td>2</td>\n",
       "      <td>0.593992</td>\n",
       "      <td>0.554978</td>\n",
       "      <td>0.329652</td>\n",
       "    </tr>\n",
       "    <tr>\n",
       "      <th>10</th>\n",
       "      <td>3</td>\n",
       "      <td>1</td>\n",
       "      <td>0.943675</td>\n",
       "      <td>0.437333</td>\n",
       "      <td>0.412700</td>\n",
       "    </tr>\n",
       "    <tr>\n",
       "      <th>7</th>\n",
       "      <td>2</td>\n",
       "      <td>1</td>\n",
       "      <td>1.000000</td>\n",
       "      <td>0.437333</td>\n",
       "      <td>0.437333</td>\n",
       "    </tr>\n",
       "    <tr>\n",
       "      <th>11</th>\n",
       "      <td>3</td>\n",
       "      <td>2</td>\n",
       "      <td>0.903281</td>\n",
       "      <td>0.554978</td>\n",
       "      <td>0.501301</td>\n",
       "    </tr>\n",
       "    <tr>\n",
       "      <th>1</th>\n",
       "      <td>0</td>\n",
       "      <td>2</td>\n",
       "      <td>0.944867</td>\n",
       "      <td>0.554978</td>\n",
       "      <td>0.524380</td>\n",
       "    </tr>\n",
       "    <tr>\n",
       "      <th>4</th>\n",
       "      <td>1</td>\n",
       "      <td>2</td>\n",
       "      <td>1.000000</td>\n",
       "      <td>0.554978</td>\n",
       "      <td>0.554978</td>\n",
       "    </tr>\n",
       "    <tr>\n",
       "      <th>9</th>\n",
       "      <td>2</td>\n",
       "      <td>4</td>\n",
       "      <td>0.593992</td>\n",
       "      <td>0.980983</td>\n",
       "      <td>0.582696</td>\n",
       "    </tr>\n",
       "    <tr>\n",
       "      <th>6</th>\n",
       "      <td>1</td>\n",
       "      <td>4</td>\n",
       "      <td>0.622306</td>\n",
       "      <td>0.980983</td>\n",
       "      <td>0.610472</td>\n",
       "    </tr>\n",
       "    <tr>\n",
       "      <th>3</th>\n",
       "      <td>0</td>\n",
       "      <td>4</td>\n",
       "      <td>0.673396</td>\n",
       "      <td>0.980983</td>\n",
       "      <td>0.660590</td>\n",
       "    </tr>\n",
       "    <tr>\n",
       "      <th>8</th>\n",
       "      <td>2</td>\n",
       "      <td>3</td>\n",
       "      <td>0.903281</td>\n",
       "      <td>1.000000</td>\n",
       "      <td>0.903281</td>\n",
       "    </tr>\n",
       "    <tr>\n",
       "      <th>2</th>\n",
       "      <td>0</td>\n",
       "      <td>3</td>\n",
       "      <td>0.913164</td>\n",
       "      <td>1.000000</td>\n",
       "      <td>0.913164</td>\n",
       "    </tr>\n",
       "    <tr>\n",
       "      <th>5</th>\n",
       "      <td>1</td>\n",
       "      <td>3</td>\n",
       "      <td>0.943675</td>\n",
       "      <td>1.000000</td>\n",
       "      <td>0.943675</td>\n",
       "    </tr>\n",
       "  </tbody>\n",
       "</table>\n",
       "</div>"
      ],
      "text/plain": [
       "    val_idx  test_idx  train_min  test_mean   ranking\n",
       "13        4         1   0.622306   0.437333  0.272155\n",
       "12        3         4   0.292995   0.980983  0.287423\n",
       "15        4         3   0.292995   1.000000  0.292995\n",
       "0         0         1   0.723072   0.437333  0.316223\n",
       "14        4         2   0.593992   0.554978  0.329652\n",
       "10        3         1   0.943675   0.437333  0.412700\n",
       "7         2         1   1.000000   0.437333  0.437333\n",
       "11        3         2   0.903281   0.554978  0.501301\n",
       "1         0         2   0.944867   0.554978  0.524380\n",
       "4         1         2   1.000000   0.554978  0.554978\n",
       "9         2         4   0.593992   0.980983  0.582696\n",
       "6         1         4   0.622306   0.980983  0.610472\n",
       "3         0         4   0.673396   0.980983  0.660590\n",
       "8         2         3   0.903281   1.000000  0.903281\n",
       "2         0         3   0.913164   1.000000  0.913164\n",
       "5         1         3   0.943675   1.000000  0.943675"
      ]
     },
     "execution_count": 10,
     "metadata": {},
     "output_type": "execute_result"
    }
   ],
   "source": [
    "split_rankings_df = (pd.DataFrame(min_stats, columns=['val_idx', 'test_idx', 'train_min', 'test_mean'])\n",
    " .assign(train_min = lambda df: df.train_min / df.train_min.max())\n",
    " .assign(test_mean = lambda df: df.test_mean / df.test_mean.max())\n",
    " .assign(ranking = lambda df: df.test_mean * df.train_min)\n",
    " .sort_values('ranking'))\n",
    "split_rankings_df"
   ]
  },
  {
   "cell_type": "code",
   "execution_count": 11,
   "id": "a2bedc39",
   "metadata": {
    "execution": {
     "iopub.execute_input": "2025-03-18T18:25:02.130494Z",
     "iopub.status.busy": "2025-03-18T18:25:02.129943Z",
     "iopub.status.idle": "2025-03-18T18:25:02.150786Z",
     "shell.execute_reply": "2025-03-18T18:25:02.150306Z"
    },
    "papermill": {
     "duration": 0.090153,
     "end_time": "2025-03-18T18:25:02.151968",
     "exception": false,
     "start_time": "2025-03-18T18:25:02.061815",
     "status": "completed"
    },
    "tags": []
   },
   "outputs": [],
   "source": [
    "best_split = split_rankings_df.loc[split_rankings_df['ranking'].idxmax()]\n",
    "all_idxs = np.arange(adata.obs.shape[0])\n",
    "val_idxs, test_idxs = left_out_splits[best_split.val_idx.astype(int)], left_out_splits[best_split.test_idx.astype(int)]\n",
    "train_idxs = np.delete(all_idxs, np.union1d(val_idxs, test_idxs))"
   ]
  },
  {
   "cell_type": "markdown",
   "id": "185d9ff8",
   "metadata": {
    "papermill": {
     "duration": 0.040417,
     "end_time": "2025-03-18T18:25:02.250810",
     "exception": false,
     "start_time": "2025-03-18T18:25:02.210393",
     "status": "completed"
    },
    "tags": []
   },
   "source": [
    "### CHECK NUMBER OF CELLS PER SPLIT"
   ]
  },
  {
   "cell_type": "code",
   "execution_count": 12,
   "id": "d6d549ab",
   "metadata": {
    "execution": {
     "iopub.execute_input": "2025-03-18T18:25:02.390321Z",
     "iopub.status.busy": "2025-03-18T18:25:02.387428Z",
     "iopub.status.idle": "2025-03-18T18:25:02.811066Z",
     "shell.execute_reply": "2025-03-18T18:25:02.810522Z"
    },
    "papermill": {
     "duration": 0.51539,
     "end_time": "2025-03-18T18:25:02.812441",
     "exception": false,
     "start_time": "2025-03-18T18:25:02.297051",
     "status": "completed"
    },
    "tags": []
   },
   "outputs": [],
   "source": [
    "cell_count_df = []\n",
    "cell_count_df.append(adata.obs.iloc[train_idxs].groupby(target_y, observed=False).size().to_frame(name='cell_count').reset_index().assign(split='train'))\n",
    "cell_count_df.append(adata.obs.iloc[val_idxs].groupby(target_y, observed=False).size().to_frame(name='cell_count').reset_index().assign(split='val'))\n",
    "cell_count_df.append(adata.obs.iloc[test_idxs].groupby(target_y, observed=False).size().to_frame(name='cell_count').reset_index().assign(split='test'))\n",
    "cell_count_df = pd.concat(cell_count_df).pivot(index=target_y, columns='split', values='cell_count')\n",
    "cell_plot_data = cell_count_df.div(cell_count_df.sum(axis=1), axis=0).reset_index().melt(id_vars=target_y)\n",
    "\n",
    "pat_count_df = []\n",
    "pat_count_df.append(adata.obs.iloc[train_idxs].groupby(target_y, observed=False).sampleID.nunique().to_frame(name='patient_count').reset_index().assign(split='train'))\n",
    "pat_count_df.append(adata.obs.iloc[val_idxs].groupby(target_y, observed=False).sampleID.nunique().to_frame(name='patient_count').reset_index().assign(split='val'))\n",
    "pat_count_df.append(adata.obs.iloc[test_idxs].groupby(target_y, observed=False).sampleID.nunique().to_frame(name='patient_count').reset_index().assign(split='test'))\n",
    "pd.concat(pat_count_df).pivot(index=target_y, columns='split', values='patient_count')\n",
    "pat_count_df = pd.concat(pat_count_df).pivot(index=target_y, columns='split', values='patient_count')\n",
    "pat_count_df = pat_count_df.div(pat_count_df.sum(axis=1), axis=0)\n",
    "pat_plot_data = pat_count_df.div(pat_count_df.sum(axis=1), axis=0).reset_index().melt(id_vars=target_y)\n",
    "\n",
    "train_pats = set(adata.obs.iloc[train_idxs].sampleID)\n",
    "test_pats = set(adata.obs.iloc[test_idxs].sampleID)\n",
    "val_pats = set(adata.obs.iloc[val_idxs].sampleID)"
   ]
  },
  {
   "cell_type": "code",
   "execution_count": 13,
   "id": "69735b3b",
   "metadata": {
    "execution": {
     "iopub.execute_input": "2025-03-18T18:25:02.927534Z",
     "iopub.status.busy": "2025-03-18T18:25:02.927154Z",
     "iopub.status.idle": "2025-03-18T18:25:02.930518Z",
     "shell.execute_reply": "2025-03-18T18:25:02.929827Z"
    },
    "papermill": {
     "duration": 0.065355,
     "end_time": "2025-03-18T18:25:02.933808",
     "exception": false,
     "start_time": "2025-03-18T18:25:02.868453",
     "status": "completed"
    },
    "tags": []
   },
   "outputs": [],
   "source": [
    "assert val_pats.intersection(test_pats) != {}\n",
    "assert train_pats.intersection(test_pats) != {}\n",
    "assert train_pats.intersection(val_pats) != {}"
   ]
  },
  {
   "cell_type": "markdown",
   "id": "33583288",
   "metadata": {
    "papermill": {
     "duration": 0.072843,
     "end_time": "2025-03-18T18:25:03.045489",
     "exception": false,
     "start_time": "2025-03-18T18:25:02.972646",
     "status": "completed"
    },
    "tags": []
   },
   "source": [
    "### PLOT PATIENT AND CELL DISTRIBUTION ACROSS TRAIN, TEST, AND VALIDATION SETS PER DISEASE\n",
    "### CHECK THAT THEY APPROXIMATE EXPECTATION"
   ]
  },
  {
   "cell_type": "code",
   "execution_count": 14,
   "id": "983277c8",
   "metadata": {
    "execution": {
     "iopub.execute_input": "2025-03-18T18:25:03.133302Z",
     "iopub.status.busy": "2025-03-18T18:25:03.132938Z",
     "iopub.status.idle": "2025-03-18T18:25:05.686370Z",
     "shell.execute_reply": "2025-03-18T18:25:05.685894Z"
    },
    "papermill": {
     "duration": 2.602086,
     "end_time": "2025-03-18T18:25:05.694889",
     "exception": false,
     "start_time": "2025-03-18T18:25:03.092803",
     "status": "completed"
    },
    "tags": []
   },
   "outputs": [
    {
     "data": {
      "image/png": "[encoded data removed]",
      "text/plain": [
       "<Figure size 2000x600 with 2 Axes>"
      ]
     },
     "metadata": {},
     "output_type": "display_data"
    }
   ],
   "source": [
    "_, axs = plt.subplots(1, 2, figsize=(20, 6))\n",
    "sns.barplot(x=target_y, y='value', hue='split', data=cell_plot_data, ax=axs[0])\n",
    "axs[0].set_title('Cell distribution')\n",
    "axs[0].tick_params(axis='x', labelrotation=90)\n",
    "sns.barplot(x=target_y, y='value', hue='split', data=pat_plot_data, ax=axs[1])\n",
    "axs[1].set_title('Patients distribution')\n",
    "axs[1].tick_params(axis='x', labelrotation=90)\n",
    "\n",
    "os.makedirs(here(f\"03_downstream_analysis/08_gene_importance/results/targetY_{target_y}/01_split_plots/\"), exist_ok=True)\n",
    "\n",
    "plt.savefig(here(f'03_downstream_analysis/08_gene_importance/results/targetY_{target_y}/01_split_plots/{RUN_NAME}{CELL_TYPE}_split_quality.pdf'), bbox_inches='tight', dpi=300)"
   ]
  },
  {
   "cell_type": "code",
   "execution_count": 15,
   "id": "8383dfbd",
   "metadata": {
    "execution": {
     "iopub.execute_input": "2025-03-18T18:25:05.736883Z",
     "iopub.status.busy": "2025-03-18T18:25:05.735871Z",
     "iopub.status.idle": "2025-03-18T18:25:06.121848Z",
     "shell.execute_reply": "2025-03-18T18:25:06.121314Z"
    },
    "papermill": {
     "duration": 0.410197,
     "end_time": "2025-03-18T18:25:06.123124",
     "exception": false,
     "start_time": "2025-03-18T18:25:05.712927",
     "status": "completed"
    },
    "tags": []
   },
   "outputs": [],
   "source": [
    "os.makedirs(here(f\"03_downstream_analysis/08_gene_importance/results/targetY_{target_y}/02_preprocessing/\"), exist_ok=True)\n",
    "\n",
    "np.save(here(f\"03_downstream_analysis/08_gene_importance/results/targetY_{target_y}/02_preprocessing/{RUN_NAME}{CELL_TYPE}_train_idxs.npy\"), train_idxs)\n",
    "np.save(here(f\"03_downstream_analysis/08_gene_importance/results/targetY_{target_y}/02_preprocessing/{RUN_NAME}{CELL_TYPE}_val_idxs.npy\"), val_idxs)\n",
    "np.save(here(f\"03_downstream_analysis/08_gene_importance/results/targetY_{target_y}/02_preprocessing/{RUN_NAME}{CELL_TYPE}_test_idxs.npy\"), test_idxs)"
   ]
  },
  {
   "cell_type": "markdown",
   "id": "487125ce",
   "metadata": {
    "papermill": {
     "duration": 0.113643,
     "end_time": "2025-03-18T18:25:06.250376",
     "exception": false,
     "start_time": "2025-03-18T18:25:06.136733",
     "status": "completed"
    },
    "tags": []
   },
   "source": [
    "### SUBSET DATASET INTO TRAIN/TEST/VAL SPLITS"
   ]
  },
  {
   "cell_type": "code",
   "execution_count": 16,
   "id": "b01f5617",
   "metadata": {
    "execution": {
     "iopub.execute_input": "2025-03-18T18:25:06.424505Z",
     "iopub.status.busy": "2025-03-18T18:25:06.424159Z",
     "iopub.status.idle": "2025-03-18T18:27:55.590706Z",
     "shell.execute_reply": "2025-03-18T18:27:55.588075Z"
    },
    "papermill": {
     "duration": 169.328322,
     "end_time": "2025-03-18T18:27:55.608634",
     "exception": false,
     "start_time": "2025-03-18T18:25:06.280312",
     "status": "completed"
    },
    "tags": []
   },
   "outputs": [
    {
     "data": {
      "text/plain": [
       "((630885, 935), (206016, 935), (212248, 935))"
      ]
     },
     "execution_count": 16,
     "metadata": {},
     "output_type": "execute_result"
    }
   ],
   "source": [
    "X_train = adata.X[train_idxs]\n",
    "X_test = adata.X[test_idxs]\n",
    "X_val = adata.X[val_idxs]\n",
    "X_train.shape, X_test.shape, X_val.shape"
   ]
  },
  {
   "cell_type": "code",
   "execution_count": 17,
   "id": "f756cdb4",
   "metadata": {
    "execution": {
     "iopub.execute_input": "2025-03-18T18:27:55.637554Z",
     "iopub.status.busy": "2025-03-18T18:27:55.636992Z",
     "iopub.status.idle": "2025-03-18T18:27:55.831746Z",
     "shell.execute_reply": "2025-03-18T18:27:55.831177Z"
    },
    "papermill": {
     "duration": 0.217174,
     "end_time": "2025-03-18T18:27:55.838116",
     "exception": false,
     "start_time": "2025-03-18T18:27:55.620942",
     "status": "completed"
    },
    "tags": []
   },
   "outputs": [
    {
     "data": {
      "text/plain": [
       "((630885,), (206016,), (212248,))"
      ]
     },
     "execution_count": 17,
     "metadata": {},
     "output_type": "execute_result"
    }
   ],
   "source": [
    "y_train = adata.obs.iloc[train_idxs][target_y].values.astype(str)\n",
    "y_test = adata.obs.iloc[test_idxs][target_y].values.astype(str)\n",
    "y_val = adata.obs.iloc[val_idxs][target_y].values.astype(str)\n",
    "y_train.shape, y_test.shape, y_val.shape "
   ]
  },
  {
   "cell_type": "code",
   "execution_count": 18,
   "id": "a5b233cd",
   "metadata": {
    "execution": {
     "iopub.execute_input": "2025-03-18T18:27:55.896133Z",
     "iopub.status.busy": "2025-03-18T18:27:55.895872Z",
     "iopub.status.idle": "2025-03-18T18:27:56.388449Z",
     "shell.execute_reply": "2025-03-18T18:27:56.380879Z"
    },
    "papermill": {
     "duration": 0.527386,
     "end_time": "2025-03-18T18:27:56.390868",
     "exception": false,
     "start_time": "2025-03-18T18:27:55.863482",
     "status": "completed"
    },
    "tags": []
   },
   "outputs": [],
   "source": [
    "lenc = LabelEncoder()\n",
    "y_train_enc = lenc.fit_transform(y_train)\n",
    "y_val_enc = lenc.transform(y_val)\n",
    "y_test_enc = lenc.transform(y_test)"
   ]
  },
  {
   "cell_type": "markdown",
   "id": "0bede8ef",
   "metadata": {
    "papermill": {
     "duration": 0.02146,
     "end_time": "2025-03-18T18:27:56.430777",
     "exception": false,
     "start_time": "2025-03-18T18:27:56.409317",
     "status": "completed"
    },
    "tags": []
   },
   "source": [
    "### GENERATE F1 "
   ]
  },
  {
   "cell_type": "code",
   "execution_count": 19,
   "id": "3bd31e36",
   "metadata": {
    "execution": {
     "iopub.execute_input": "2025-03-18T18:27:56.460401Z",
     "iopub.status.busy": "2025-03-18T18:27:56.459978Z",
     "iopub.status.idle": "2025-03-18T18:27:56.464390Z",
     "shell.execute_reply": "2025-03-18T18:27:56.464006Z"
    },
    "papermill": {
     "duration": 0.017645,
     "end_time": "2025-03-18T18:27:56.465064",
     "exception": false,
     "start_time": "2025-03-18T18:27:56.447419",
     "status": "completed"
    },
    "tags": []
   },
   "outputs": [],
   "source": [
    "def custom_f1_score(y_true, y_pred):\n",
    "    return -f1_score(y_true, y_pred.argmax(1), average='weighted')"
   ]
  },
  {
   "cell_type": "code",
   "execution_count": 20,
   "id": "6aa3d39d",
   "metadata": {
    "execution": {
     "iopub.execute_input": "2025-03-18T18:27:56.514319Z",
     "iopub.status.busy": "2025-03-18T18:27:56.514042Z",
     "iopub.status.idle": "2025-03-18T18:27:56.521877Z",
     "shell.execute_reply": "2025-03-18T18:27:56.521511Z"
    },
    "papermill": {
     "duration": 0.045377,
     "end_time": "2025-03-18T18:27:56.522570",
     "exception": false,
     "start_time": "2025-03-18T18:27:56.477193",
     "status": "completed"
    },
    "tags": []
   },
   "outputs": [],
   "source": [
    "eval_metric=custom_f1_score\n",
    "eval_metric_name='custom_f1_score'\n",
    "\n",
    "def objective(trial):\n",
    "    params = {\n",
    "        'sampling_method': 'gradient_based',\n",
    "        'n_estimators': 1500,\n",
    "        'max_depth': trial.suggest_int('max_depth', 3, 20),\n",
    "        'min_child_weight': trial.suggest_int('min_child_weight', 1, 250),\n",
    "        'subsample': trial.suggest_float('subsample', 0.1, 1.0),\n",
    "        'colsample_bynode': trial.suggest_float('colsample_bynode', 0.1, 1.0),\n",
    "        'learning_rate': trial.suggest_float('learning_rate', 1e-3, 5e-1, log=True),\n",
    "    }\n",
    "    pruning_callback = optuna.integration.XGBoostPruningCallback(trial, f'validation_0-{eval_metric_name}')\n",
    "    xgb = xgboost.XGBClassifier(\n",
    "        device='gpu',\n",
    "        eval_metric=eval_metric,\n",
    "        early_stopping_rounds=20,\n",
    "        callbacks=[pruning_callback],\n",
    "        **params\n",
    "    )\n",
    "    xgb.fit(\n",
    "        X_train, \n",
    "        y_train_enc, \n",
    "        verbose=0,\n",
    "        eval_set=[(X_val, y_val_enc)],\n",
    "    )\n",
    "    trial.set_user_attr('best_iteration', xgb.best_iteration)\n",
    "\n",
    "    return xgb.best_score"
   ]
  },
  {
   "cell_type": "code",
   "execution_count": 21,
   "id": "bbf9ec6a",
   "metadata": {
    "execution": {
     "iopub.execute_input": "2025-03-18T18:27:56.551622Z",
     "iopub.status.busy": "2025-03-18T18:27:56.551228Z",
     "iopub.status.idle": "2025-03-18T19:03:05.713812Z",
     "shell.execute_reply": "2025-03-18T19:03:05.713225Z"
    },
    "papermill": {
     "duration": 2109.175479,
     "end_time": "2025-03-18T19:03:05.715329",
     "exception": false,
     "start_time": "2025-03-18T18:27:56.539850",
     "status": "completed"
    },
    "tags": []
   },
   "outputs": [
    {
     "name": "stderr",
     "output_type": "stream",
     "text": [
      "[I 2025-03-18 18:27:56,553] A new study created in memory with name: no-name-c08bdcaa-a1bf-4cb5-be91-75223454a6cd\n"
     ]
    },
    {
     "name": "stderr",
     "output_type": "stream",
     "text": [
      "/tmp/ipykernel_1754821/350114600.py:4: ExperimentalWarning: WeightsAndBiasesCallback is experimental (supported from v2.9.0). The interface can change in the future.\n",
      "  wandbc = optuna.integration.WeightsAndBiasesCallback(wandb_kwargs=wandb_kwargs)\n",
      "\u001b[34m\u001b[1mwandb\u001b[0m: Using wandb-core as the SDK backend.  Please refer to https://wandb.me/wandb-core for more information.\n"
     ]
    },
    {
     "name": "stderr",
     "output_type": "stream",
     "text": [
      "\u001b[34m\u001b[1mwandb\u001b[0m: Currently logged in as: \u001b[33mdav1989\u001b[0m (\u001b[33minflammation\u001b[0m) to \u001b[32mhttps://api.wandb.ai\u001b[0m. Use \u001b[1m`wandb login --relogin`\u001b[0m to force relogin\n"
     ]
    },
    {
     "name": "stderr",
     "output_type": "stream",
     "text": [
      "\u001b[34m\u001b[1mwandb\u001b[0m: Tracking run with wandb version 0.19.8\n"
     ]
    },
    {
     "name": "stderr",
     "output_type": "stream",
     "text": [
      "\u001b[34m\u001b[1mwandb\u001b[0m: Run data is saved locally in \u001b[35m\u001b[1m/scratch_isilon/groups/singlecell/shared/projects/Inflammation-PBMCs-Atlas/03_downstream_analysis/08_gene_importance/wandb/run-20250318_182801-cury0vrz\u001b[0m\n",
      "\u001b[34m\u001b[1mwandb\u001b[0m: Run \u001b[1m`wandb offline`\u001b[0m to turn off syncing.\n"
     ]
    },
    {
     "name": "stderr",
     "output_type": "stream",
     "text": [
      "\u001b[34m\u001b[1mwandb\u001b[0m: Syncing run \u001b[33mstudyID_Mono\u001b[0m\n"
     ]
    },
    {
     "name": "stderr",
     "output_type": "stream",
     "text": [
      "\u001b[34m\u001b[1mwandb\u001b[0m: ⭐️ View project at \u001b[34m\u001b[4mhttps://wandb.ai/inflammation/xgboost\u001b[0m\n"
     ]
    },
    {
     "name": "stderr",
     "output_type": "stream",
     "text": [
      "\u001b[34m\u001b[1mwandb\u001b[0m: 🚀 View run at \u001b[34m\u001b[4mhttps://wandb.ai/inflammation/xgboost/runs/cury0vrz\u001b[0m\n"
     ]
    },
    {
     "name": "stderr",
     "output_type": "stream",
     "text": [
      "[I 2025-03-18 18:30:12,752] Trial 0 finished with value: -0.987082 and parameters: {'max_depth': 9, 'min_child_weight': 238, 'subsample': 0.7587945476302645, 'colsample_bynode': 0.6387926357773329, 'learning_rate': 0.0026368755339723046}. Best is trial 0 with value: -0.987082.\n"
     ]
    },
    {
     "name": "stderr",
     "output_type": "stream",
     "text": [
      "[I 2025-03-18 18:32:18,019] Trial 1 finished with value: -0.994102 and parameters: {'max_depth': 5, 'min_child_weight': 15, 'subsample': 0.8795585311974417, 'colsample_bynode': 0.6410035105688879, 'learning_rate': 0.08148293210105287}. Best is trial 1 with value: -0.994102.\n"
     ]
    },
    {
     "name": "stderr",
     "output_type": "stream",
     "text": [
      "[I 2025-03-18 18:44:38,459] Trial 2 finished with value: -0.992692 and parameters: {'max_depth': 3, 'min_child_weight': 243, 'subsample': 0.8491983767203796, 'colsample_bynode': 0.29110519961044856, 'learning_rate': 0.003095566460242371}. Best is trial 1 with value: -0.994102.\n"
     ]
    },
    {
     "name": "stderr",
     "output_type": "stream",
     "text": [
      "[I 2025-03-18 18:46:22,587] Trial 3 finished with value: -0.992495 and parameters: {'max_depth': 6, 'min_child_weight': 77, 'subsample': 0.5722807884690141, 'colsample_bynode': 0.48875051677790415, 'learning_rate': 0.006109683510122491}. Best is trial 1 with value: -0.994102.\n"
     ]
    },
    {
     "name": "stderr",
     "output_type": "stream",
     "text": [
      "[I 2025-03-18 18:47:01,392] Trial 4 finished with value: -0.994316 and parameters: {'max_depth': 14, 'min_child_weight': 35, 'subsample': 0.3629301836816964, 'colsample_bynode': 0.4297256589643226, 'learning_rate': 0.01701841881702917}. Best is trial 4 with value: -0.994316.\n"
     ]
    },
    {
     "name": "stderr",
     "output_type": "stream",
     "text": [
      "[I 2025-03-18 18:48:15,953] Trial 5 finished with value: -0.990725 and parameters: {'max_depth': 17, 'min_child_weight': 50, 'subsample': 0.5628109945722505, 'colsample_bynode': 0.6331731119758383, 'learning_rate': 0.0013346527038305934}. Best is trial 4 with value: -0.994316.\n"
     ]
    },
    {
     "name": "stderr",
     "output_type": "stream",
     "text": [
      "[I 2025-03-18 18:48:58,842] Trial 6 finished with value: -0.992264 and parameters: {'max_depth': 13, 'min_child_weight': 43, 'subsample': 0.1585464336867516, 'colsample_bynode': 0.9539969835279999, 'learning_rate': 0.4038423798071558}. Best is trial 4 with value: -0.994316.\n"
     ]
    },
    {
     "name": "stderr",
     "output_type": "stream",
     "text": [
      "[I 2025-03-18 18:49:12,239] Trial 7 pruned. Trial was pruned at iteration 2.\n"
     ]
    },
    {
     "name": "stderr",
     "output_type": "stream",
     "text": [
      "[I 2025-03-18 18:49:24,821] Trial 8 pruned. Trial was pruned at iteration 0.\n"
     ]
    },
    {
     "name": "stderr",
     "output_type": "stream",
     "text": [
      "[I 2025-03-18 18:50:05,149] Trial 9 finished with value: -0.990281 and parameters: {'max_depth': 14, 'min_child_weight': 78, 'subsample': 0.5680612190600297, 'colsample_bynode': 0.5920392514089517, 'learning_rate': 0.0031543990308330965}. Best is trial 4 with value: -0.994316.\n"
     ]
    },
    {
     "name": "stderr",
     "output_type": "stream",
     "text": [
      "[I 2025-03-18 18:50:17,693] Trial 10 pruned. Trial was pruned at iteration 0.\n"
     ]
    },
    {
     "name": "stderr",
     "output_type": "stream",
     "text": [
      "[I 2025-03-18 18:51:01,599] Trial 11 finished with value: -0.994522 and parameters: {'max_depth': 10, 'min_child_weight': 3, 'subsample': 0.9785259098721957, 'colsample_bynode': 0.40131565860091256, 'learning_rate': 0.08587379144532957}. Best is trial 11 with value: -0.994522.\n"
     ]
    },
    {
     "name": "stderr",
     "output_type": "stream",
     "text": [
      "[I 2025-03-18 18:52:00,212] Trial 12 finished with value: -0.996629 and parameters: {'max_depth': 10, 'min_child_weight': 3, 'subsample': 0.37777201587536535, 'colsample_bynode': 0.36301461895178766, 'learning_rate': 0.14603786032022117}. Best is trial 12 with value: -0.996629.\n"
     ]
    },
    {
     "name": "stderr",
     "output_type": "stream",
     "text": [
      "[I 2025-03-18 18:52:15,327] Trial 13 pruned. Trial was pruned at iteration 4.\n"
     ]
    },
    {
     "name": "stderr",
     "output_type": "stream",
     "text": [
      "[I 2025-03-18 18:52:28,328] Trial 14 pruned. Trial was pruned at iteration 1.\n"
     ]
    },
    {
     "name": "stderr",
     "output_type": "stream",
     "text": [
      "[I 2025-03-18 18:53:01,766] Trial 15 finished with value: -0.99117 and parameters: {'max_depth': 11, 'min_child_weight': 2, 'subsample': 0.706477734046452, 'colsample_bynode': 0.17061614647010237, 'learning_rate': 0.033114226677728044}. Best is trial 12 with value: -0.996629.\n"
     ]
    },
    {
     "name": "stderr",
     "output_type": "stream",
     "text": [
      "[I 2025-03-18 18:53:14,132] Trial 16 pruned. Trial was pruned at iteration 0.\n"
     ]
    },
    {
     "name": "stderr",
     "output_type": "stream",
     "text": [
      "[I 2025-03-18 18:53:26,534] Trial 17 pruned. Trial was pruned at iteration 0.\n"
     ]
    },
    {
     "name": "stderr",
     "output_type": "stream",
     "text": [
      "[I 2025-03-18 18:53:39,479] Trial 18 pruned. Trial was pruned at iteration 1.\n"
     ]
    },
    {
     "name": "stderr",
     "output_type": "stream",
     "text": [
      "[I 2025-03-18 18:53:52,229] Trial 19 pruned. Trial was pruned at iteration 0.\n"
     ]
    },
    {
     "name": "stderr",
     "output_type": "stream",
     "text": [
      "[I 2025-03-18 18:54:04,999] Trial 20 pruned. Trial was pruned at iteration 1.\n"
     ]
    },
    {
     "name": "stderr",
     "output_type": "stream",
     "text": [
      "[I 2025-03-18 18:54:45,847] Trial 21 finished with value: -0.993983 and parameters: {'max_depth': 14, 'min_child_weight': 25, 'subsample': 0.39673994593235895, 'colsample_bynode': 0.5001340293838156, 'learning_rate': 0.016024547718470707}. Best is trial 12 with value: -0.996629.\n"
     ]
    },
    {
     "name": "stderr",
     "output_type": "stream",
     "text": [
      "[I 2025-03-18 18:55:22,104] Trial 22 finished with value: -0.992612 and parameters: {'max_depth': 15, 'min_child_weight': 24, 'subsample': 0.2815194679075228, 'colsample_bynode': 0.43267063684561813, 'learning_rate': 0.02514400729021897}. Best is trial 12 with value: -0.996629.\n"
     ]
    },
    {
     "name": "stderr",
     "output_type": "stream",
     "text": [
      "[I 2025-03-18 18:55:35,953] Trial 23 pruned. Trial was pruned at iteration 2.\n"
     ]
    },
    {
     "name": "stderr",
     "output_type": "stream",
     "text": [
      "[I 2025-03-18 18:55:48,674] Trial 24 pruned. Trial was pruned at iteration 1.\n"
     ]
    },
    {
     "name": "stderr",
     "output_type": "stream",
     "text": [
      "[I 2025-03-18 18:56:26,722] Trial 25 finished with value: -0.995519 and parameters: {'max_depth': 10, 'min_child_weight': 30, 'subsample': 0.37926607312242144, 'colsample_bynode': 0.4119796897092074, 'learning_rate': 0.10160881729898019}. Best is trial 12 with value: -0.996629.\n"
     ]
    },
    {
     "name": "stderr",
     "output_type": "stream",
     "text": [
      "[I 2025-03-18 18:57:37,483] Trial 26 finished with value: -0.994567 and parameters: {'max_depth': 9, 'min_child_weight': 1, 'subsample': 0.6426028383572815, 'colsample_bynode': 0.522701122786231, 'learning_rate': 0.10028819625485416}. Best is trial 12 with value: -0.996629.\n"
     ]
    },
    {
     "name": "stderr",
     "output_type": "stream",
     "text": [
      "[I 2025-03-18 18:57:49,976] Trial 27 pruned. Trial was pruned at iteration 0.\n"
     ]
    },
    {
     "name": "stderr",
     "output_type": "stream",
     "text": [
      "[I 2025-03-18 18:58:03,763] Trial 28 pruned. Trial was pruned at iteration 1.\n"
     ]
    },
    {
     "name": "stderr",
     "output_type": "stream",
     "text": [
      "[I 2025-03-18 18:58:16,583] Trial 29 pruned. Trial was pruned at iteration 0.\n"
     ]
    },
    {
     "name": "stderr",
     "output_type": "stream",
     "text": [
      "[I 2025-03-18 18:58:29,839] Trial 30 pruned. Trial was pruned at iteration 1.\n"
     ]
    },
    {
     "name": "stderr",
     "output_type": "stream",
     "text": [
      "[I 2025-03-18 18:58:43,954] Trial 31 pruned. Trial was pruned at iteration 2.\n"
     ]
    },
    {
     "name": "stderr",
     "output_type": "stream",
     "text": [
      "[I 2025-03-18 18:58:56,811] Trial 32 pruned. Trial was pruned at iteration 1.\n"
     ]
    },
    {
     "name": "stderr",
     "output_type": "stream",
     "text": [
      "[I 2025-03-18 18:59:09,332] Trial 33 pruned. Trial was pruned at iteration 0.\n"
     ]
    },
    {
     "name": "stderr",
     "output_type": "stream",
     "text": [
      "[I 2025-03-18 18:59:21,956] Trial 34 pruned. Trial was pruned at iteration 0.\n"
     ]
    },
    {
     "name": "stderr",
     "output_type": "stream",
     "text": [
      "[I 2025-03-18 18:59:33,704] Trial 35 pruned. Trial was pruned at iteration 0.\n"
     ]
    },
    {
     "name": "stderr",
     "output_type": "stream",
     "text": [
      "[I 2025-03-18 18:59:47,322] Trial 36 pruned. Trial was pruned at iteration 1.\n"
     ]
    },
    {
     "name": "stderr",
     "output_type": "stream",
     "text": [
      "[I 2025-03-18 19:00:05,405] Trial 37 pruned. Trial was pruned at iteration 7.\n"
     ]
    },
    {
     "name": "stderr",
     "output_type": "stream",
     "text": [
      "[I 2025-03-18 19:00:18,631] Trial 38 pruned. Trial was pruned at iteration 1.\n"
     ]
    },
    {
     "name": "stderr",
     "output_type": "stream",
     "text": [
      "[I 2025-03-18 19:00:31,476] Trial 39 pruned. Trial was pruned at iteration 0.\n"
     ]
    },
    {
     "name": "stderr",
     "output_type": "stream",
     "text": [
      "[I 2025-03-18 19:00:46,385] Trial 40 pruned. Trial was pruned at iteration 4.\n"
     ]
    },
    {
     "name": "stderr",
     "output_type": "stream",
     "text": [
      "[I 2025-03-18 19:01:00,330] Trial 41 pruned. Trial was pruned at iteration 2.\n"
     ]
    },
    {
     "name": "stderr",
     "output_type": "stream",
     "text": [
      "[I 2025-03-18 19:01:13,815] Trial 42 pruned. Trial was pruned at iteration 1.\n"
     ]
    },
    {
     "name": "stderr",
     "output_type": "stream",
     "text": [
      "[I 2025-03-18 19:01:26,551] Trial 43 pruned. Trial was pruned at iteration 0.\n"
     ]
    },
    {
     "name": "stderr",
     "output_type": "stream",
     "text": [
      "[I 2025-03-18 19:01:38,901] Trial 44 pruned. Trial was pruned at iteration 0.\n"
     ]
    },
    {
     "name": "stderr",
     "output_type": "stream",
     "text": [
      "[I 2025-03-18 19:01:51,281] Trial 45 pruned. Trial was pruned at iteration 0.\n"
     ]
    },
    {
     "name": "stderr",
     "output_type": "stream",
     "text": [
      "[I 2025-03-18 19:02:05,414] Trial 46 pruned. Trial was pruned at iteration 2.\n"
     ]
    },
    {
     "name": "stderr",
     "output_type": "stream",
     "text": [
      "[I 2025-03-18 19:02:40,272] Trial 47 finished with value: -0.994148 and parameters: {'max_depth': 17, 'min_child_weight': 1, 'subsample': 0.45732233824507734, 'colsample_bynode': 0.2705486939074823, 'learning_rate': 0.028369147910903225}. Best is trial 12 with value: -0.996629.\n"
     ]
    },
    {
     "name": "stderr",
     "output_type": "stream",
     "text": [
      "[I 2025-03-18 19:02:52,914] Trial 48 pruned. Trial was pruned at iteration 0.\n"
     ]
    },
    {
     "name": "stderr",
     "output_type": "stream",
     "text": [
      "[I 2025-03-18 19:03:05,258] Trial 49 pruned. Trial was pruned at iteration 0.\n"
     ]
    }
   ],
   "source": [
    "sampler = optuna.samplers.TPESampler(seed=42)\n",
    "study = optuna.create_study(direction='minimize', sampler=sampler)\n",
    "wandb_kwargs = {\"project\": \"xgboost\", \"name\": f\"{RUN_NAME}{CELL_TYPE}\"}\n",
    "wandbc = optuna.integration.WeightsAndBiasesCallback(wandb_kwargs=wandb_kwargs)\n",
    "study.optimize(objective, n_trials=N_TRIALS, callbacks=[wandbc], gc_after_trial=True)"
   ]
  },
  {
   "cell_type": "code",
   "execution_count": 22,
   "id": "ae973652",
   "metadata": {
    "execution": {
     "iopub.execute_input": "2025-03-18T19:03:05.759897Z",
     "iopub.status.busy": "2025-03-18T19:03:05.759560Z",
     "iopub.status.idle": "2025-03-18T19:03:05.812779Z",
     "shell.execute_reply": "2025-03-18T19:03:05.811536Z"
    },
    "papermill": {
     "duration": 0.086394,
     "end_time": "2025-03-18T19:03:05.814866",
     "exception": false,
     "start_time": "2025-03-18T19:03:05.728472",
     "status": "completed"
    },
    "tags": []
   },
   "outputs": [
    {
     "data": {
      "text/plain": [
       "['/scratch_isilon/groups/singlecell/shared/projects/Inflammation-PBMCs-Atlas/03_downstream_analysis/08_gene_importance/results/targetY_studyID/03_xgboost/study/studyID_Mono_xgboost.pkl']"
      ]
     },
     "execution_count": 22,
     "metadata": {},
     "output_type": "execute_result"
    }
   ],
   "source": [
    "os.makedirs(here(f\"03_downstream_analysis/08_gene_importance/results/targetY_{target_y}/03_xgboost/study/\"), exist_ok=True)\n",
    "\n",
    "joblib.dump(study, here(f'03_downstream_analysis/08_gene_importance/results/targetY_{target_y}/03_xgboost/study/{RUN_NAME}{CELL_TYPE}_xgboost.pkl'))"
   ]
  },
  {
   "cell_type": "code",
   "execution_count": 23,
   "id": "aa57f58c",
   "metadata": {
    "execution": {
     "iopub.execute_input": "2025-03-18T19:03:05.862423Z",
     "iopub.status.busy": "2025-03-18T19:03:05.862134Z",
     "iopub.status.idle": "2025-03-18T19:03:10.821098Z",
     "shell.execute_reply": "2025-03-18T19:03:10.820502Z"
    },
    "papermill": {
     "duration": 4.97885,
     "end_time": "2025-03-18T19:03:10.822829",
     "exception": false,
     "start_time": "2025-03-18T19:03:05.843979",
     "status": "completed"
    },
    "tags": []
   },
   "outputs": [],
   "source": [
    "os.makedirs(here(f\"03_downstream_analysis/08_gene_importance/results/targetY_{target_y}/03_xgboost/parallel_coordinate/\"), exist_ok=True)\n",
    "\n",
    "fig = optuna.visualization.plot_parallel_coordinate(study)\n",
    "fig.write_image(here(f'03_downstream_analysis/08_gene_importance/results/targetY_{target_y}/03_xgboost/parallel_coordinate/{RUN_NAME}{CELL_TYPE}_pcoord.pdf'))"
   ]
  },
  {
   "cell_type": "code",
   "execution_count": 24,
   "id": "909bea3c",
   "metadata": {
    "editable": true,
    "execution": {
     "iopub.execute_input": "2025-03-18T19:03:10.858217Z",
     "iopub.status.busy": "2025-03-18T19:03:10.857183Z",
     "iopub.status.idle": "2025-03-18T19:04:14.756237Z",
     "shell.execute_reply": "2025-03-18T19:04:14.755805Z"
    },
    "papermill": {
     "duration": 63.911728,
     "end_time": "2025-03-18T19:04:14.757905",
     "exception": false,
     "start_time": "2025-03-18T19:03:10.846177",
     "status": "completed"
    },
    "scrolled": true,
    "slideshow": {
     "slide_type": ""
    },
    "tags": []
   },
   "outputs": [
    {
     "name": "stdout",
     "output_type": "stream",
     "text": [
      "[0]\tvalidation_0-mlogloss:1.69987\tvalidation_0-custom_f1_score:-0.98308\n"
     ]
    },
    {
     "name": "stdout",
     "output_type": "stream",
     "text": [
      "[1]\tvalidation_0-mlogloss:1.34591\tvalidation_0-custom_f1_score:-0.98903\n"
     ]
    },
    {
     "name": "stdout",
     "output_type": "stream",
     "text": [
      "[2]\tvalidation_0-mlogloss:1.10711\tvalidation_0-custom_f1_score:-0.99028\n"
     ]
    },
    {
     "name": "stdout",
     "output_type": "stream",
     "text": [
      "[3]\tvalidation_0-mlogloss:0.92847\tvalidation_0-custom_f1_score:-0.99133\n"
     ]
    },
    {
     "name": "stdout",
     "output_type": "stream",
     "text": [
      "[4]\tvalidation_0-mlogloss:0.78829\tvalidation_0-custom_f1_score:-0.99170\n"
     ]
    },
    {
     "name": "stdout",
     "output_type": "stream",
     "text": [
      "[5]\tvalidation_0-mlogloss:0.67419\tvalidation_0-custom_f1_score:-0.99208\n"
     ]
    },
    {
     "name": "stdout",
     "output_type": "stream",
     "text": [
      "[6]\tvalidation_0-mlogloss:0.57904\tvalidation_0-custom_f1_score:-0.99242\n"
     ]
    },
    {
     "name": "stdout",
     "output_type": "stream",
     "text": [
      "[7]\tvalidation_0-mlogloss:0.49978\tvalidation_0-custom_f1_score:-0.99289\n"
     ]
    },
    {
     "name": "stdout",
     "output_type": "stream",
     "text": [
      "[8]\tvalidation_0-mlogloss:0.43249\tvalidation_0-custom_f1_score:-0.99327\n"
     ]
    },
    {
     "name": "stdout",
     "output_type": "stream",
     "text": [
      "[9]\tvalidation_0-mlogloss:0.37565\tvalidation_0-custom_f1_score:-0.99347\n"
     ]
    },
    {
     "name": "stdout",
     "output_type": "stream",
     "text": [
      "[10]\tvalidation_0-mlogloss:0.32697\tvalidation_0-custom_f1_score:-0.99398\n"
     ]
    },
    {
     "name": "stdout",
     "output_type": "stream",
     "text": [
      "[11]\tvalidation_0-mlogloss:0.28541\tvalidation_0-custom_f1_score:-0.99413\n"
     ]
    },
    {
     "name": "stdout",
     "output_type": "stream",
     "text": [
      "[12]\tvalidation_0-mlogloss:0.24958\tvalidation_0-custom_f1_score:-0.99426\n"
     ]
    },
    {
     "name": "stdout",
     "output_type": "stream",
     "text": [
      "[13]\tvalidation_0-mlogloss:0.21829\tvalidation_0-custom_f1_score:-0.99464\n"
     ]
    },
    {
     "name": "stdout",
     "output_type": "stream",
     "text": [
      "[14]\tvalidation_0-mlogloss:0.19144\tvalidation_0-custom_f1_score:-0.99485\n"
     ]
    },
    {
     "name": "stdout",
     "output_type": "stream",
     "text": [
      "[15]\tvalidation_0-mlogloss:0.16798\tvalidation_0-custom_f1_score:-0.99525\n"
     ]
    },
    {
     "name": "stdout",
     "output_type": "stream",
     "text": [
      "[16]\tvalidation_0-mlogloss:0.14796\tvalidation_0-custom_f1_score:-0.99534\n"
     ]
    },
    {
     "name": "stdout",
     "output_type": "stream",
     "text": [
      "[17]\tvalidation_0-mlogloss:0.13065\tvalidation_0-custom_f1_score:-0.99559\n"
     ]
    },
    {
     "name": "stdout",
     "output_type": "stream",
     "text": [
      "[18]\tvalidation_0-mlogloss:0.11532\tvalidation_0-custom_f1_score:-0.99570\n"
     ]
    },
    {
     "name": "stdout",
     "output_type": "stream",
     "text": [
      "[19]\tvalidation_0-mlogloss:0.10217\tvalidation_0-custom_f1_score:-0.99599\n"
     ]
    },
    {
     "name": "stdout",
     "output_type": "stream",
     "text": [
      "[20]\tvalidation_0-mlogloss:0.09064\tvalidation_0-custom_f1_score:-0.99612\n"
     ]
    },
    {
     "name": "stdout",
     "output_type": "stream",
     "text": [
      "[21]\tvalidation_0-mlogloss:0.08052\tvalidation_0-custom_f1_score:-0.99638\n"
     ]
    },
    {
     "name": "stdout",
     "output_type": "stream",
     "text": [
      "[22]\tvalidation_0-mlogloss:0.07183\tvalidation_0-custom_f1_score:-0.99645\n"
     ]
    },
    {
     "name": "stdout",
     "output_type": "stream",
     "text": [
      "[23]\tvalidation_0-mlogloss:0.06400\tvalidation_0-custom_f1_score:-0.99664\n"
     ]
    },
    {
     "name": "stdout",
     "output_type": "stream",
     "text": [
      "[24]\tvalidation_0-mlogloss:0.05740\tvalidation_0-custom_f1_score:-0.99668\n"
     ]
    },
    {
     "name": "stdout",
     "output_type": "stream",
     "text": [
      "[25]\tvalidation_0-mlogloss:0.05148\tvalidation_0-custom_f1_score:-0.99686\n"
     ]
    },
    {
     "name": "stdout",
     "output_type": "stream",
     "text": [
      "[26]\tvalidation_0-mlogloss:0.04645\tvalidation_0-custom_f1_score:-0.99691\n"
     ]
    },
    {
     "name": "stdout",
     "output_type": "stream",
     "text": [
      "[27]\tvalidation_0-mlogloss:0.04194\tvalidation_0-custom_f1_score:-0.99700\n"
     ]
    },
    {
     "name": "stdout",
     "output_type": "stream",
     "text": [
      "[28]\tvalidation_0-mlogloss:0.03801\tvalidation_0-custom_f1_score:-0.99710\n"
     ]
    },
    {
     "name": "stdout",
     "output_type": "stream",
     "text": [
      "[29]\tvalidation_0-mlogloss:0.03473\tvalidation_0-custom_f1_score:-0.99709\n"
     ]
    },
    {
     "name": "stdout",
     "output_type": "stream",
     "text": [
      "[30]\tvalidation_0-mlogloss:0.03169\tvalidation_0-custom_f1_score:-0.99715\n"
     ]
    },
    {
     "name": "stdout",
     "output_type": "stream",
     "text": [
      "[31]\tvalidation_0-mlogloss:0.02895\tvalidation_0-custom_f1_score:-0.99733\n"
     ]
    },
    {
     "name": "stdout",
     "output_type": "stream",
     "text": [
      "[32]\tvalidation_0-mlogloss:0.02659\tvalidation_0-custom_f1_score:-0.99737\n"
     ]
    },
    {
     "name": "stdout",
     "output_type": "stream",
     "text": [
      "[33]\tvalidation_0-mlogloss:0.02463\tvalidation_0-custom_f1_score:-0.99737\n"
     ]
    },
    {
     "name": "stdout",
     "output_type": "stream",
     "text": [
      "[34]\tvalidation_0-mlogloss:0.02279\tvalidation_0-custom_f1_score:-0.99739\n"
     ]
    },
    {
     "name": "stdout",
     "output_type": "stream",
     "text": [
      "[35]\tvalidation_0-mlogloss:0.02122\tvalidation_0-custom_f1_score:-0.99740\n"
     ]
    },
    {
     "name": "stdout",
     "output_type": "stream",
     "text": [
      "[36]\tvalidation_0-mlogloss:0.01975\tvalidation_0-custom_f1_score:-0.99744\n"
     ]
    },
    {
     "name": "stdout",
     "output_type": "stream",
     "text": [
      "[37]\tvalidation_0-mlogloss:0.01836\tvalidation_0-custom_f1_score:-0.99755\n"
     ]
    },
    {
     "name": "stdout",
     "output_type": "stream",
     "text": [
      "[38]\tvalidation_0-mlogloss:0.01721\tvalidation_0-custom_f1_score:-0.99753\n"
     ]
    },
    {
     "name": "stdout",
     "output_type": "stream",
     "text": [
      "[39]\tvalidation_0-mlogloss:0.01622\tvalidation_0-custom_f1_score:-0.99757\n"
     ]
    },
    {
     "name": "stdout",
     "output_type": "stream",
     "text": [
      "[40]\tvalidation_0-mlogloss:0.01525\tvalidation_0-custom_f1_score:-0.99766\n"
     ]
    },
    {
     "name": "stdout",
     "output_type": "stream",
     "text": [
      "[41]\tvalidation_0-mlogloss:0.01444\tvalidation_0-custom_f1_score:-0.99770\n"
     ]
    },
    {
     "name": "stdout",
     "output_type": "stream",
     "text": [
      "[42]\tvalidation_0-mlogloss:0.01379\tvalidation_0-custom_f1_score:-0.99773\n"
     ]
    },
    {
     "name": "stdout",
     "output_type": "stream",
     "text": [
      "[43]\tvalidation_0-mlogloss:0.01318\tvalidation_0-custom_f1_score:-0.99774\n"
     ]
    },
    {
     "name": "stdout",
     "output_type": "stream",
     "text": [
      "[44]\tvalidation_0-mlogloss:0.01257\tvalidation_0-custom_f1_score:-0.99774\n"
     ]
    },
    {
     "name": "stdout",
     "output_type": "stream",
     "text": [
      "[45]\tvalidation_0-mlogloss:0.01199\tvalidation_0-custom_f1_score:-0.99778\n"
     ]
    },
    {
     "name": "stdout",
     "output_type": "stream",
     "text": [
      "[46]\tvalidation_0-mlogloss:0.01146\tvalidation_0-custom_f1_score:-0.99783\n"
     ]
    },
    {
     "name": "stdout",
     "output_type": "stream",
     "text": [
      "[47]\tvalidation_0-mlogloss:0.01110\tvalidation_0-custom_f1_score:-0.99781\n"
     ]
    },
    {
     "name": "stdout",
     "output_type": "stream",
     "text": [
      "[48]\tvalidation_0-mlogloss:0.01063\tvalidation_0-custom_f1_score:-0.99788\n"
     ]
    },
    {
     "name": "stdout",
     "output_type": "stream",
     "text": [
      "[49]\tvalidation_0-mlogloss:0.01017\tvalidation_0-custom_f1_score:-0.99794\n"
     ]
    },
    {
     "name": "stdout",
     "output_type": "stream",
     "text": [
      "[50]\tvalidation_0-mlogloss:0.00976\tvalidation_0-custom_f1_score:-0.99802\n"
     ]
    },
    {
     "name": "stdout",
     "output_type": "stream",
     "text": [
      "[51]\tvalidation_0-mlogloss:0.00946\tvalidation_0-custom_f1_score:-0.99801\n"
     ]
    },
    {
     "name": "stdout",
     "output_type": "stream",
     "text": [
      "[52]\tvalidation_0-mlogloss:0.00914\tvalidation_0-custom_f1_score:-0.99806\n"
     ]
    },
    {
     "name": "stdout",
     "output_type": "stream",
     "text": [
      "[53]\tvalidation_0-mlogloss:0.00887\tvalidation_0-custom_f1_score:-0.99806\n"
     ]
    },
    {
     "name": "stdout",
     "output_type": "stream",
     "text": [
      "[54]\tvalidation_0-mlogloss:0.00858\tvalidation_0-custom_f1_score:-0.99815\n"
     ]
    },
    {
     "name": "stdout",
     "output_type": "stream",
     "text": [
      "[55]\tvalidation_0-mlogloss:0.00831\tvalidation_0-custom_f1_score:-0.99822\n"
     ]
    },
    {
     "name": "stdout",
     "output_type": "stream",
     "text": [
      "[56]\tvalidation_0-mlogloss:0.00819\tvalidation_0-custom_f1_score:-0.99817\n"
     ]
    },
    {
     "name": "stdout",
     "output_type": "stream",
     "text": [
      "[57]\tvalidation_0-mlogloss:0.00791\tvalidation_0-custom_f1_score:-0.99824\n"
     ]
    },
    {
     "name": "stdout",
     "output_type": "stream",
     "text": [
      "[58]\tvalidation_0-mlogloss:0.00771\tvalidation_0-custom_f1_score:-0.99827\n"
     ]
    },
    {
     "name": "stdout",
     "output_type": "stream",
     "text": [
      "[59]\tvalidation_0-mlogloss:0.00752\tvalidation_0-custom_f1_score:-0.99831\n"
     ]
    },
    {
     "name": "stdout",
     "output_type": "stream",
     "text": [
      "[60]\tvalidation_0-mlogloss:0.00728\tvalidation_0-custom_f1_score:-0.99836\n"
     ]
    },
    {
     "name": "stdout",
     "output_type": "stream",
     "text": [
      "[61]\tvalidation_0-mlogloss:0.00713\tvalidation_0-custom_f1_score:-0.99838\n"
     ]
    },
    {
     "name": "stdout",
     "output_type": "stream",
     "text": [
      "[62]\tvalidation_0-mlogloss:0.00702\tvalidation_0-custom_f1_score:-0.99838\n"
     ]
    },
    {
     "data": {
      "text/html": [
       "<style>#sk-container-id-1 {\n",
       "  /* Definition of color scheme common for light and dark mode */\n",
       "  --sklearn-color-text: black;\n",
       "  --sklearn-color-line: gray;\n",
       "  /* Definition of color scheme for unfitted estimators */\n",
       "  --sklearn-color-unfitted-level-0: #fff5e6;\n",
       "  --sklearn-color-unfitted-level-1: #f6e4d2;\n",
       "  --sklearn-color-unfitted-level-2: #ffe0b3;\n",
       "  --sklearn-color-unfitted-level-3: chocolate;\n",
       "  /* Definition of color scheme for fitted estimators */\n",
       "  --sklearn-color-fitted-level-0: #f0f8ff;\n",
       "  --sklearn-color-fitted-level-1: #d4ebff;\n",
       "  --sklearn-color-fitted-level-2: #b3dbfd;\n",
       "  --sklearn-color-fitted-level-3: cornflowerblue;\n",
       "\n",
       "  /* Specific color for light theme */\n",
       "  --sklearn-color-text-on-default-background: var(--sg-text-color, var(--theme-code-foreground, var(--jp-content-font-color1, black)));\n",
       "  --sklearn-color-background: var(--sg-background-color, var(--theme-background, var(--jp-layout-color0, white)));\n",
       "  --sklearn-color-border-box: var(--sg-text-color, var(--theme-code-foreground, var(--jp-content-font-color1, black)));\n",
       "  --sklearn-color-icon: #696969;\n",
       "\n",
       "  @media (prefers-color-scheme: dark) {\n",
       "    /* Redefinition of color scheme for dark theme */\n",
       "    --sklearn-color-text-on-default-background: var(--sg-text-color, var(--theme-code-foreground, var(--jp-content-font-color1, white)));\n",
       "    --sklearn-color-background: var(--sg-background-color, var(--theme-background, var(--jp-layout-color0, #111)));\n",
       "    --sklearn-color-border-box: var(--sg-text-color, var(--theme-code-foreground, var(--jp-content-font-color1, white)));\n",
       "    --sklearn-color-icon: #878787;\n",
       "  }\n",
       "}\n",
       "\n",
       "#sk-container-id-1 {\n",
       "  color: var(--sklearn-color-text);\n",
       "}\n",
       "\n",
       "#sk-container-id-1 pre {\n",
       "  padding: 0;\n",
       "}\n",
       "\n",
       "#sk-container-id-1 input.sk-hidden--visually {\n",
       "  border: 0;\n",
       "  clip: rect(1px 1px 1px 1px);\n",
       "  clip: rect(1px, 1px, 1px, 1px);\n",
       "  height: 1px;\n",
       "  margin: -1px;\n",
       "  overflow: hidden;\n",
       "  padding: 0;\n",
       "  position: absolute;\n",
       "  width: 1px;\n",
       "}\n",
       "\n",
       "#sk-container-id-1 div.sk-dashed-wrapped {\n",
       "  border: 1px dashed var(--sklearn-color-line);\n",
       "  margin: 0 0.4em 0.5em 0.4em;\n",
       "  box-sizing: border-box;\n",
       "  padding-bottom: 0.4em;\n",
       "  background-color: var(--sklearn-color-background);\n",
       "}\n",
       "\n",
       "#sk-container-id-1 div.sk-container {\n",
       "  /* jupyter's `normalize.less` sets `[hidden] { display: none; }`\n",
       "     but bootstrap.min.css set `[hidden] { display: none !important; }`\n",
       "     so we also need the `!important` here to be able to override the\n",
       "     default hidden behavior on the sphinx rendered scikit-learn.org.\n",
       "     See: https://github.com/scikit-learn/scikit-learn/issues/21755 */\n",
       "  display: inline-block !important;\n",
       "  position: relative;\n",
       "}\n",
       "\n",
       "#sk-container-id-1 div.sk-text-repr-fallback {\n",
       "  display: none;\n",
       "}\n",
       "\n",
       "div.sk-parallel-item,\n",
       "div.sk-serial,\n",
       "div.sk-item {\n",
       "  /* draw centered vertical line to link estimators */\n",
       "  background-image: linear-gradient(var(--sklearn-color-text-on-default-background), var(--sklearn-color-text-on-default-background));\n",
       "  background-size: 2px 100%;\n",
       "  background-repeat: no-repeat;\n",
       "  background-position: center center;\n",
       "}\n",
       "\n",
       "/* Parallel-specific style estimator block */\n",
       "\n",
       "#sk-container-id-1 div.sk-parallel-item::after {\n",
       "  content: \"\";\n",
       "  width: 100%;\n",
       "  border-bottom: 2px solid var(--sklearn-color-text-on-default-background);\n",
       "  flex-grow: 1;\n",
       "}\n",
       "\n",
       "#sk-container-id-1 div.sk-parallel {\n",
       "  display: flex;\n",
       "  align-items: stretch;\n",
       "  justify-content: center;\n",
       "  background-color: var(--sklearn-color-background);\n",
       "  position: relative;\n",
       "}\n",
       "\n",
       "#sk-container-id-1 div.sk-parallel-item {\n",
       "  display: flex;\n",
       "  flex-direction: column;\n",
       "}\n",
       "\n",
       "#sk-container-id-1 div.sk-parallel-item:first-child::after {\n",
       "  align-self: flex-end;\n",
       "  width: 50%;\n",
       "}\n",
       "\n",
       "#sk-container-id-1 div.sk-parallel-item:last-child::after {\n",
       "  align-self: flex-start;\n",
       "  width: 50%;\n",
       "}\n",
       "\n",
       "#sk-container-id-1 div.sk-parallel-item:only-child::after {\n",
       "  width: 0;\n",
       "}\n",
       "\n",
       "/* Serial-specific style estimator block */\n",
       "\n",
       "#sk-container-id-1 div.sk-serial {\n",
       "  display: flex;\n",
       "  flex-direction: column;\n",
       "  align-items: center;\n",
       "  background-color: var(--sklearn-color-background);\n",
       "  padding-right: 1em;\n",
       "  padding-left: 1em;\n",
       "}\n",
       "\n",
       "\n",
       "/* Toggleable style: style used for estimator/Pipeline/ColumnTransformer box that is\n",
       "clickable and can be expanded/collapsed.\n",
       "- Pipeline and ColumnTransformer use this feature and define the default style\n",
       "- Estimators will overwrite some part of the style using the `sk-estimator` class\n",
       "*/\n",
       "\n",
       "/* Pipeline and ColumnTransformer style (default) */\n",
       "\n",
       "#sk-container-id-1 div.sk-toggleable {\n",
       "  /* Default theme specific background. It is overwritten whether we have a\n",
       "  specific estimator or a Pipeline/ColumnTransformer */\n",
       "  background-color: var(--sklearn-color-background);\n",
       "}\n",
       "\n",
       "/* Toggleable label */\n",
       "#sk-container-id-1 label.sk-toggleable__label {\n",
       "  cursor: pointer;\n",
       "  display: block;\n",
       "  width: 100%;\n",
       "  margin-bottom: 0;\n",
       "  padding: 0.5em;\n",
       "  box-sizing: border-box;\n",
       "  text-align: center;\n",
       "}\n",
       "\n",
       "#sk-container-id-1 label.sk-toggleable__label-arrow:before {\n",
       "  /* Arrow on the left of the label */\n",
       "  content: \"▸\";\n",
       "  float: left;\n",
       "  margin-right: 0.25em;\n",
       "  color: var(--sklearn-color-icon);\n",
       "}\n",
       "\n",
       "#sk-container-id-1 label.sk-toggleable__label-arrow:hover:before {\n",
       "  color: var(--sklearn-color-text);\n",
       "}\n",
       "\n",
       "/* Toggleable content - dropdown */\n",
       "\n",
       "#sk-container-id-1 div.sk-toggleable__content {\n",
       "  max-height: 0;\n",
       "  max-width: 0;\n",
       "  overflow: hidden;\n",
       "  text-align: left;\n",
       "  /* unfitted */\n",
       "  background-color: var(--sklearn-color-unfitted-level-0);\n",
       "}\n",
       "\n",
       "#sk-container-id-1 div.sk-toggleable__content.fitted {\n",
       "  /* fitted */\n",
       "  background-color: var(--sklearn-color-fitted-level-0);\n",
       "}\n",
       "\n",
       "#sk-container-id-1 div.sk-toggleable__content pre {\n",
       "  margin: 0.2em;\n",
       "  border-radius: 0.25em;\n",
       "  color: var(--sklearn-color-text);\n",
       "  /* unfitted */\n",
       "  background-color: var(--sklearn-color-unfitted-level-0);\n",
       "}\n",
       "\n",
       "#sk-container-id-1 div.sk-toggleable__content.fitted pre {\n",
       "  /* unfitted */\n",
       "  background-color: var(--sklearn-color-fitted-level-0);\n",
       "}\n",
       "\n",
       "#sk-container-id-1 input.sk-toggleable__control:checked~div.sk-toggleable__content {\n",
       "  /* Expand drop-down */\n",
       "  max-height: 200px;\n",
       "  max-width: 100%;\n",
       "  overflow: auto;\n",
       "}\n",
       "\n",
       "#sk-container-id-1 input.sk-toggleable__control:checked~label.sk-toggleable__label-arrow:before {\n",
       "  content: \"▾\";\n",
       "}\n",
       "\n",
       "/* Pipeline/ColumnTransformer-specific style */\n",
       "\n",
       "#sk-container-id-1 div.sk-label input.sk-toggleable__control:checked~label.sk-toggleable__label {\n",
       "  color: var(--sklearn-color-text);\n",
       "  background-color: var(--sklearn-color-unfitted-level-2);\n",
       "}\n",
       "\n",
       "#sk-container-id-1 div.sk-label.fitted input.sk-toggleable__control:checked~label.sk-toggleable__label {\n",
       "  background-color: var(--sklearn-color-fitted-level-2);\n",
       "}\n",
       "\n",
       "/* Estimator-specific style */\n",
       "\n",
       "/* Colorize estimator box */\n",
       "#sk-container-id-1 div.sk-estimator input.sk-toggleable__control:checked~label.sk-toggleable__label {\n",
       "  /* unfitted */\n",
       "  background-color: var(--sklearn-color-unfitted-level-2);\n",
       "}\n",
       "\n",
       "#sk-container-id-1 div.sk-estimator.fitted input.sk-toggleable__control:checked~label.sk-toggleable__label {\n",
       "  /* fitted */\n",
       "  background-color: var(--sklearn-color-fitted-level-2);\n",
       "}\n",
       "\n",
       "#sk-container-id-1 div.sk-label label.sk-toggleable__label,\n",
       "#sk-container-id-1 div.sk-label label {\n",
       "  /* The background is the default theme color */\n",
       "  color: var(--sklearn-color-text-on-default-background);\n",
       "}\n",
       "\n",
       "/* On hover, darken the color of the background */\n",
       "#sk-container-id-1 div.sk-label:hover label.sk-toggleable__label {\n",
       "  color: var(--sklearn-color-text);\n",
       "  background-color: var(--sklearn-color-unfitted-level-2);\n",
       "}\n",
       "\n",
       "/* Label box, darken color on hover, fitted */\n",
       "#sk-container-id-1 div.sk-label.fitted:hover label.sk-toggleable__label.fitted {\n",
       "  color: var(--sklearn-color-text);\n",
       "  background-color: var(--sklearn-color-fitted-level-2);\n",
       "}\n",
       "\n",
       "/* Estimator label */\n",
       "\n",
       "#sk-container-id-1 div.sk-label label {\n",
       "  font-family: monospace;\n",
       "  font-weight: bold;\n",
       "  display: inline-block;\n",
       "  line-height: 1.2em;\n",
       "}\n",
       "\n",
       "#sk-container-id-1 div.sk-label-container {\n",
       "  text-align: center;\n",
       "}\n",
       "\n",
       "/* Estimator-specific */\n",
       "#sk-container-id-1 div.sk-estimator {\n",
       "  font-family: monospace;\n",
       "  border: 1px dotted var(--sklearn-color-border-box);\n",
       "  border-radius: 0.25em;\n",
       "  box-sizing: border-box;\n",
       "  margin-bottom: 0.5em;\n",
       "  /* unfitted */\n",
       "  background-color: var(--sklearn-color-unfitted-level-0);\n",
       "}\n",
       "\n",
       "#sk-container-id-1 div.sk-estimator.fitted {\n",
       "  /* fitted */\n",
       "  background-color: var(--sklearn-color-fitted-level-0);\n",
       "}\n",
       "\n",
       "/* on hover */\n",
       "#sk-container-id-1 div.sk-estimator:hover {\n",
       "  /* unfitted */\n",
       "  background-color: var(--sklearn-color-unfitted-level-2);\n",
       "}\n",
       "\n",
       "#sk-container-id-1 div.sk-estimator.fitted:hover {\n",
       "  /* fitted */\n",
       "  background-color: var(--sklearn-color-fitted-level-2);\n",
       "}\n",
       "\n",
       "/* Specification for estimator info (e.g. \"i\" and \"?\") */\n",
       "\n",
       "/* Common style for \"i\" and \"?\" */\n",
       "\n",
       ".sk-estimator-doc-link,\n",
       "a:link.sk-estimator-doc-link,\n",
       "a:visited.sk-estimator-doc-link {\n",
       "  float: right;\n",
       "  font-size: smaller;\n",
       "  line-height: 1em;\n",
       "  font-family: monospace;\n",
       "  background-color: var(--sklearn-color-background);\n",
       "  border-radius: 1em;\n",
       "  height: 1em;\n",
       "  width: 1em;\n",
       "  text-decoration: none !important;\n",
       "  margin-left: 1ex;\n",
       "  /* unfitted */\n",
       "  border: var(--sklearn-color-unfitted-level-1) 1pt solid;\n",
       "  color: var(--sklearn-color-unfitted-level-1);\n",
       "}\n",
       "\n",
       ".sk-estimator-doc-link.fitted,\n",
       "a:link.sk-estimator-doc-link.fitted,\n",
       "a:visited.sk-estimator-doc-link.fitted {\n",
       "  /* fitted */\n",
       "  border: var(--sklearn-color-fitted-level-1) 1pt solid;\n",
       "  color: var(--sklearn-color-fitted-level-1);\n",
       "}\n",
       "\n",
       "/* On hover */\n",
       "div.sk-estimator:hover .sk-estimator-doc-link:hover,\n",
       ".sk-estimator-doc-link:hover,\n",
       "div.sk-label-container:hover .sk-estimator-doc-link:hover,\n",
       ".sk-estimator-doc-link:hover {\n",
       "  /* unfitted */\n",
       "  background-color: var(--sklearn-color-unfitted-level-3);\n",
       "  color: var(--sklearn-color-background);\n",
       "  text-decoration: none;\n",
       "}\n",
       "\n",
       "div.sk-estimator.fitted:hover .sk-estimator-doc-link.fitted:hover,\n",
       ".sk-estimator-doc-link.fitted:hover,\n",
       "div.sk-label-container:hover .sk-estimator-doc-link.fitted:hover,\n",
       ".sk-estimator-doc-link.fitted:hover {\n",
       "  /* fitted */\n",
       "  background-color: var(--sklearn-color-fitted-level-3);\n",
       "  color: var(--sklearn-color-background);\n",
       "  text-decoration: none;\n",
       "}\n",
       "\n",
       "/* Span, style for the box shown on hovering the info icon */\n",
       ".sk-estimator-doc-link span {\n",
       "  display: none;\n",
       "  z-index: 9999;\n",
       "  position: relative;\n",
       "  font-weight: normal;\n",
       "  right: .2ex;\n",
       "  padding: .5ex;\n",
       "  margin: .5ex;\n",
       "  width: min-content;\n",
       "  min-width: 20ex;\n",
       "  max-width: 50ex;\n",
       "  color: var(--sklearn-color-text);\n",
       "  box-shadow: 2pt 2pt 4pt #999;\n",
       "  /* unfitted */\n",
       "  background: var(--sklearn-color-unfitted-level-0);\n",
       "  border: .5pt solid var(--sklearn-color-unfitted-level-3);\n",
       "}\n",
       "\n",
       ".sk-estimator-doc-link.fitted span {\n",
       "  /* fitted */\n",
       "  background: var(--sklearn-color-fitted-level-0);\n",
       "  border: var(--sklearn-color-fitted-level-3);\n",
       "}\n",
       "\n",
       ".sk-estimator-doc-link:hover span {\n",
       "  display: block;\n",
       "}\n",
       "\n",
       "/* \"?\"-specific style due to the `<a>` HTML tag */\n",
       "\n",
       "#sk-container-id-1 a.estimator_doc_link {\n",
       "  float: right;\n",
       "  font-size: 1rem;\n",
       "  line-height: 1em;\n",
       "  font-family: monospace;\n",
       "  background-color: var(--sklearn-color-background);\n",
       "  border-radius: 1rem;\n",
       "  height: 1rem;\n",
       "  width: 1rem;\n",
       "  text-decoration: none;\n",
       "  /* unfitted */\n",
       "  color: var(--sklearn-color-unfitted-level-1);\n",
       "  border: var(--sklearn-color-unfitted-level-1) 1pt solid;\n",
       "}\n",
       "\n",
       "#sk-container-id-1 a.estimator_doc_link.fitted {\n",
       "  /* fitted */\n",
       "  border: var(--sklearn-color-fitted-level-1) 1pt solid;\n",
       "  color: var(--sklearn-color-fitted-level-1);\n",
       "}\n",
       "\n",
       "/* On hover */\n",
       "#sk-container-id-1 a.estimator_doc_link:hover {\n",
       "  /* unfitted */\n",
       "  background-color: var(--sklearn-color-unfitted-level-3);\n",
       "  color: var(--sklearn-color-background);\n",
       "  text-decoration: none;\n",
       "}\n",
       "\n",
       "#sk-container-id-1 a.estimator_doc_link.fitted:hover {\n",
       "  /* fitted */\n",
       "  background-color: var(--sklearn-color-fitted-level-3);\n",
       "}\n",
       "</style><div id=\"sk-container-id-1\" class=\"sk-top-container\"><div class=\"sk-text-repr-fallback\"><pre>XGBClassifier(base_score=None, booster=None, callbacks=None,\n",
       "              colsample_bylevel=None, colsample_bynode=0.36301461895178766,\n",
       "              colsample_bytree=None, device=&#x27;gpu&#x27;, early_stopping_rounds=None,\n",
       "              enable_categorical=False,\n",
       "              eval_metric=&lt;function custom_f1_score at 0x77ef07dbf600&gt;,\n",
       "              feature_types=None, gamma=None, grow_policy=None,\n",
       "              importance_type=None, interaction_constraints=None,\n",
       "              learning_rate=0.14603786032022117, max_bin=None,\n",
       "              max_cat_threshold=None, max_cat_to_onehot=None,\n",
       "              max_delta_step=None, max_depth=10, max_leaves=None,\n",
       "              min_child_weight=3, missing=nan, monotone_constraints=None,\n",
       "              multi_strategy=None, n_estimators=63, n_jobs=None,\n",
       "              num_parallel_tree=None, objective=&#x27;multi:softprob&#x27;, ...)</pre><b>In a Jupyter environment, please rerun this cell to show the HTML representation or trust the notebook. <br />On GitHub, the HTML representation is unable to render, please try loading this page with nbviewer.org.</b></div><div class=\"sk-container\" hidden><div class=\"sk-item\"><div class=\"sk-estimator fitted sk-toggleable\"><input class=\"sk-toggleable__control sk-hidden--visually\" id=\"sk-estimator-id-1\" type=\"checkbox\" checked><label for=\"sk-estimator-id-1\" class=\"sk-toggleable__label fitted sk-toggleable__label-arrow fitted\">&nbsp;XGBClassifier<span class=\"sk-estimator-doc-link fitted\">i<span>Fitted</span></span></label><div class=\"sk-toggleable__content fitted\"><pre>XGBClassifier(base_score=None, booster=None, callbacks=None,\n",
       "              colsample_bylevel=None, colsample_bynode=0.36301461895178766,\n",
       "              colsample_bytree=None, device=&#x27;gpu&#x27;, early_stopping_rounds=None,\n",
       "              enable_categorical=False,\n",
       "              eval_metric=&lt;function custom_f1_score at 0x77ef07dbf600&gt;,\n",
       "              feature_types=None, gamma=None, grow_policy=None,\n",
       "              importance_type=None, interaction_constraints=None,\n",
       "              learning_rate=0.14603786032022117, max_bin=None,\n",
       "              max_cat_threshold=None, max_cat_to_onehot=None,\n",
       "              max_delta_step=None, max_depth=10, max_leaves=None,\n",
       "              min_child_weight=3, missing=nan, monotone_constraints=None,\n",
       "              multi_strategy=None, n_estimators=63, n_jobs=None,\n",
       "              num_parallel_tree=None, objective=&#x27;multi:softprob&#x27;, ...)</pre></div> </div></div></div></div>"
      ],
      "text/plain": [
       "XGBClassifier(base_score=None, booster=None, callbacks=None,\n",
       "              colsample_bylevel=None, colsample_bynode=0.36301461895178766,\n",
       "              colsample_bytree=None, device='gpu', early_stopping_rounds=None,\n",
       "              enable_categorical=False,\n",
       "              eval_metric=<function custom_f1_score at 0x77ef07dbf600>,\n",
       "              feature_types=None, gamma=None, grow_policy=None,\n",
       "              importance_type=None, interaction_constraints=None,\n",
       "              learning_rate=0.14603786032022117, max_bin=None,\n",
       "              max_cat_threshold=None, max_cat_to_onehot=None,\n",
       "              max_delta_step=None, max_depth=10, max_leaves=None,\n",
       "              min_child_weight=3, missing=nan, monotone_constraints=None,\n",
       "              multi_strategy=None, n_estimators=63, n_jobs=None,\n",
       "              num_parallel_tree=None, objective='multi:softprob', ...)"
      ]
     },
     "execution_count": 24,
     "metadata": {},
     "output_type": "execute_result"
    }
   ],
   "source": [
    "n_estimators = int(study.best_trial.user_attrs['best_iteration']*1.2)\n",
    "xgb = xgboost.XGBClassifier(\n",
    "        device='gpu',\n",
    "        eval_metric=eval_metric,\n",
    "        n_estimators=n_estimators,\n",
    "        **study.best_trial.params\n",
    "    )\n",
    "xgb.fit(\n",
    "    ssp.vstack((X_train, X_val)), \n",
    "    np.concatenate((y_train_enc, y_val_enc)), \n",
    "    eval_set=[(X_test, y_test_enc)],\n",
    "    verbose=1,\n",
    ")"
   ]
  },
  {
   "cell_type": "code",
   "execution_count": 25,
   "id": "fe7ca52a",
   "metadata": {
    "editable": true,
    "execution": {
     "iopub.execute_input": "2025-03-18T19:04:14.793622Z",
     "iopub.status.busy": "2025-03-18T19:04:14.792906Z",
     "iopub.status.idle": "2025-03-18T19:04:14.849853Z",
     "shell.execute_reply": "2025-03-18T19:04:14.849208Z"
    },
    "papermill": {
     "duration": 0.072228,
     "end_time": "2025-03-18T19:04:14.850995",
     "exception": false,
     "start_time": "2025-03-18T19:04:14.778767",
     "status": "completed"
    },
    "slideshow": {
     "slide_type": ""
    },
    "tags": []
   },
   "outputs": [
    {
     "data": {
      "text/plain": [
       "['/scratch_isilon/groups/singlecell/shared/projects/Inflammation-PBMCs-Atlas/03_downstream_analysis/08_gene_importance/results/targetY_studyID/03_xgboost/best_model/studyID_Mono_xgb.json']"
      ]
     },
     "execution_count": 25,
     "metadata": {},
     "output_type": "execute_result"
    }
   ],
   "source": [
    "os.makedirs(here(f\"03_downstream_analysis/08_gene_importance/results/targetY_{target_y}/03_xgboost/best_model/\"), exist_ok=True)\n",
    "\n",
    "joblib.dump(xgb, (here(f'03_downstream_analysis/08_gene_importance/results/targetY_{target_y}/03_xgboost/best_model/{RUN_NAME}{CELL_TYPE}_xgb.json')))"
   ]
  },
  {
   "cell_type": "code",
   "execution_count": 26,
   "id": "1c86c893",
   "metadata": {
    "execution": {
     "iopub.execute_input": "2025-03-18T19:04:14.882317Z",
     "iopub.status.busy": "2025-03-18T19:04:14.881596Z",
     "iopub.status.idle": "2025-03-18T19:04:22.136618Z",
     "shell.execute_reply": "2025-03-18T19:04:22.136105Z"
    },
    "papermill": {
     "duration": 7.270469,
     "end_time": "2025-03-18T19:04:22.138137",
     "exception": false,
     "start_time": "2025-03-18T19:04:14.867668",
     "status": "completed"
    },
    "tags": []
   },
   "outputs": [
    {
     "name": "stderr",
     "output_type": "stream",
     "text": [
      "/scratch_isilon/groups/singlecell/shared/conda_env/xgboostGPU/lib/python3.12/site-packages/xgboost/core.py:160: UserWarning:\n",
      "\n",
      "[19:04:14] WARNING: /home/conda/feedstock_root/build_artifacts/xgboost-split_1703076482591/work/src/common/error_msg.cc:58: Falling back to prediction using DMatrix due to mismatched devices. This might lead to higher memory usage and slower performance. XGBoost is running on: cuda:0, while the input data is on: cpu.\n",
      "Potential solutions:\n",
      "- Use a data structure that matches the device ordinal in the booster.\n",
      "- Set the device for booster before call to inplace_predict.\n",
      "\n",
      "This warning will only be shown once.\n",
      "\n",
      "\n"
     ]
    }
   ],
   "source": [
    "os.makedirs(here(f\"03_downstream_analysis/08_gene_importance/results/targetY_{target_y}/03_xgboost/predictions/\"), exist_ok=True)\n",
    "\n",
    "(pd.DataFrame(np.array((y_test, y_test_enc, xgb.predict(X_test))).T, columns=['y_true', 'y_true_code', 'y_pred'])\n",
    " .to_csv(here(f'03_downstream_analysis/08_gene_importance/results/targetY_{target_y}/03_xgboost/predictions/{RUN_NAME}{CELL_TYPE}_pred_test.zip')))\n",
    "(pd.DataFrame(np.array((y_train, y_train_enc, xgb.predict(X_train))).T, columns=['y_true', 'y_true_code', 'y_pred'])\n",
    " .to_csv(here(f'03_downstream_analysis/08_gene_importance/results/targetY_{target_y}/03_xgboost/predictions/{RUN_NAME}{CELL_TYPE}_pred_train.zip')))"
   ]
  },
  {
   "cell_type": "code",
   "execution_count": null,
   "id": "be960cad",
   "metadata": {
    "papermill": {
     "duration": 0.011449,
     "end_time": "2025-03-18T19:04:22.169654",
     "exception": false,
     "start_time": "2025-03-18T19:04:22.158205",
     "status": "completed"
    },
    "tags": []
   },
   "outputs": [],
   "source": []
  }
 ],
 "metadata": {
  "kernelspec": {
   "display_name": "Python 3 (ipykernel)",
   "language": "python",
   "name": "python3"
  },
  "language_info": {
   "codemirror_mode": {
    "name": "ipython",
    "version": 3
   },
   "file_extension": ".py",
   "mimetype": "text/x-python",
   "name": "python",
   "nbconvert_exporter": "python",
   "pygments_lexer": "ipython3",
   "version": "3.12.9"
  },
  "papermill": {
   "default_parameters": {},
   "duration": 2398.666812,
   "end_time": "2025-03-18T19:04:25.302753",
   "environment_variables": {},
   "exception": null,
   "input_path": "02_studyID_xgboost_fitting.ipynb",
   "output_path": "executed_notebooks/02_studyID_xgboost_fitting_Mono.ipynb",
   "parameters": {
    "CELL_TYPE": "Mono"
   },
   "start_time": "2025-03-18T18:24:26.635941",
   "version": "2.6.0"
  }
 },
 "nbformat": 4,
 "nbformat_minor": 5
}