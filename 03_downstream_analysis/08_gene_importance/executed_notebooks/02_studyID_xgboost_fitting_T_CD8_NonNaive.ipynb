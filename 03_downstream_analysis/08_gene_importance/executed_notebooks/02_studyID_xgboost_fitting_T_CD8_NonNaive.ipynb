{
 "cells": [
  {
   "cell_type": "code",
   "execution_count": 1,
   "id": "9ed4869f",
   "metadata": {
    "editable": true,
    "execution": {
     "iopub.execute_input": "2025-03-17T18:03:47.016814Z",
     "iopub.status.busy": "2025-03-17T18:03:47.016130Z",
     "iopub.status.idle": "2025-03-17T18:03:47.022751Z",
     "shell.execute_reply": "2025-03-17T18:03:47.021635Z"
    },
    "papermill": {
     "duration": 0.023726,
     "end_time": "2025-03-17T18:03:47.024575",
     "exception": false,
     "start_time": "2025-03-17T18:03:47.000849",
     "status": "completed"
    },
    "slideshow": {
     "slide_type": ""
    },
    "tags": [
     "parameters"
    ]
   },
   "outputs": [],
   "source": [
    "CELL_TYPE = 'DC'\n",
    "N_SPLITS: int = 5\n",
    "N_TRIALS: int = 50\n",
    "RUN_NAME: str = \"studyID\""
   ]
  },
  {
   "cell_type": "code",
   "execution_count": 2,
   "id": "86cfb3a5",
   "metadata": {
    "execution": {
     "iopub.execute_input": "2025-03-17T18:03:47.047113Z",
     "iopub.status.busy": "2025-03-17T18:03:47.046138Z",
     "iopub.status.idle": "2025-03-17T18:03:47.051172Z",
     "shell.execute_reply": "2025-03-17T18:03:47.050129Z"
    },
    "papermill": {
     "duration": 0.016125,
     "end_time": "2025-03-17T18:03:47.052546",
     "exception": false,
     "start_time": "2025-03-17T18:03:47.036421",
     "status": "completed"
    },
    "tags": [
     "injected-parameters"
    ]
   },
   "outputs": [],
   "source": [
    "# Parameters\n",
    "CELL_TYPE = \"T_CD8_NonNaive\"\n"
   ]
  },
  {
   "cell_type": "code",
   "execution_count": 3,
   "id": "b224eecb",
   "metadata": {
    "editable": true,
    "execution": {
     "iopub.execute_input": "2025-03-17T18:03:47.065777Z",
     "iopub.status.busy": "2025-03-17T18:03:47.064919Z",
     "iopub.status.idle": "2025-03-17T18:03:47.069682Z",
     "shell.execute_reply": "2025-03-17T18:03:47.068815Z"
    },
    "papermill": {
     "duration": 0.012425,
     "end_time": "2025-03-17T18:03:47.070712",
     "exception": false,
     "start_time": "2025-03-17T18:03:47.058287",
     "status": "completed"
    },
    "slideshow": {
     "slide_type": ""
    },
    "tags": []
   },
   "outputs": [],
   "source": [
    "if RUN_NAME != \"\":\n",
    "    RUN_NAME = RUN_NAME + \"_\""
   ]
  },
  {
   "cell_type": "code",
   "execution_count": 4,
   "id": "b112c6a9",
   "metadata": {
    "editable": true,
    "execution": {
     "iopub.execute_input": "2025-03-17T18:03:47.082509Z",
     "iopub.status.busy": "2025-03-17T18:03:47.081992Z",
     "iopub.status.idle": "2025-03-17T18:03:49.055732Z",
     "shell.execute_reply": "2025-03-17T18:03:49.054429Z"
    },
    "papermill": {
     "duration": 1.981869,
     "end_time": "2025-03-17T18:03:49.057880",
     "exception": false,
     "start_time": "2025-03-17T18:03:47.076011",
     "status": "completed"
    },
    "slideshow": {
     "slide_type": ""
    },
    "tags": []
   },
   "outputs": [],
   "source": [
    "import os\n",
    "import sys\n",
    "#from pyprojroot.here import here\n",
    "\n",
    "import pandas as pd\n",
    "import anndata as ad\n",
    "import numpy as np\n",
    "import math\n",
    "from sklearn.model_selection import StratifiedGroupKFold\n",
    "from sklearn.preprocessing import LabelEncoder\n",
    "from sklearn.metrics import f1_score\n",
    "import matplotlib.pyplot as plt\n",
    "import seaborn as sns\n",
    "from itertools import product\n",
    "\n",
    "import optuna\n",
    "\n",
    "import joblib\n",
    "import pickle\n",
    "import datetime\n",
    "\n",
    "import collections\n",
    "\n",
    "import xgboost\n",
    "from sklearn.preprocessing import LabelEncoder\n",
    "\n",
    "import scipy.sparse as ssp\n",
    "import joblib\n",
    "\n",
    "from pyprojroot import here\n",
    "\n",
    "from dotenv import load_dotenv"
   ]
  },
  {
   "cell_type": "code",
   "execution_count": 5,
   "id": "0285d5cf",
   "metadata": {
    "execution": {
     "iopub.execute_input": "2025-03-17T18:03:49.085933Z",
     "iopub.status.busy": "2025-03-17T18:03:49.084789Z",
     "iopub.status.idle": "2025-03-17T18:03:49.090477Z",
     "shell.execute_reply": "2025-03-17T18:03:49.089833Z"
    },
    "papermill": {
     "duration": 0.021243,
     "end_time": "2025-03-17T18:03:49.092413",
     "exception": false,
     "start_time": "2025-03-17T18:03:49.071170",
     "status": "completed"
    },
    "tags": []
   },
   "outputs": [],
   "source": [
    "assert load_dotenv()"
   ]
  },
  {
   "cell_type": "markdown",
   "id": "d9cf27e3",
   "metadata": {
    "execution": {
     "iopub.execute_input": "2025-03-17T14:39:30.205388Z",
     "iopub.status.busy": "2025-03-17T14:39:30.204197Z",
     "iopub.status.idle": "2025-03-17T14:39:30.210586Z",
     "shell.execute_reply": "2025-03-17T14:39:30.209317Z",
     "shell.execute_reply.started": "2025-03-17T14:39:30.205342Z"
    },
    "papermill": {
     "duration": 0.009524,
     "end_time": "2025-03-17T18:03:49.115745",
     "exception": false,
     "start_time": "2025-03-17T18:03:49.106221",
     "status": "completed"
    },
    "tags": []
   },
   "source": [
    "def here(fpath):\n",
    "    return os.path.join(BUCKET_DIRPATH, fpath)"
   ]
  },
  {
   "cell_type": "code",
   "execution_count": 6,
   "id": "1129f400",
   "metadata": {
    "execution": {
     "iopub.execute_input": "2025-03-17T18:03:49.130818Z",
     "iopub.status.busy": "2025-03-17T18:03:49.129869Z",
     "iopub.status.idle": "2025-03-17T18:03:49.134908Z",
     "shell.execute_reply": "2025-03-17T18:03:49.133989Z"
    },
    "papermill": {
     "duration": 0.013089,
     "end_time": "2025-03-17T18:03:49.135946",
     "exception": false,
     "start_time": "2025-03-17T18:03:49.122857",
     "status": "completed"
    },
    "tags": []
   },
   "outputs": [],
   "source": [
    "target_y = 'studyID'"
   ]
  },
  {
   "cell_type": "markdown",
   "id": "2eb52f04",
   "metadata": {
    "papermill": {
     "duration": 0.011108,
     "end_time": "2025-03-17T18:03:49.152563",
     "exception": false,
     "start_time": "2025-03-17T18:03:49.141455",
     "status": "completed"
    },
    "tags": []
   },
   "source": [
    "# LOAD DATASET"
   ]
  },
  {
   "cell_type": "code",
   "execution_count": 7,
   "id": "f7682fd7",
   "metadata": {
    "execution": {
     "iopub.execute_input": "2025-03-17T18:03:49.168497Z",
     "iopub.status.busy": "2025-03-17T18:03:49.167517Z",
     "iopub.status.idle": "2025-03-17T18:03:52.037466Z",
     "shell.execute_reply": "2025-03-17T18:03:52.036826Z"
    },
    "papermill": {
     "duration": 2.878858,
     "end_time": "2025-03-17T18:03:52.039540",
     "exception": false,
     "start_time": "2025-03-17T18:03:49.160682",
     "status": "completed"
    },
    "tags": []
   },
   "outputs": [],
   "source": [
    "adata = ad.read_h5ad(\n",
    "    str(here(f'03_downstream_analysis/08_gene_importance/data/{CELL_TYPE}_adataMerged_SPECTRAgenes.log1p.h5ad')),\n",
    "    backed='r',\n",
    "    chunk_size=25000\n",
    ")"
   ]
  },
  {
   "cell_type": "code",
   "execution_count": 8,
   "id": "2d18533c",
   "metadata": {
    "execution": {
     "iopub.execute_input": "2025-03-17T18:03:52.058651Z",
     "iopub.status.busy": "2025-03-17T18:03:52.058489Z",
     "iopub.status.idle": "2025-03-17T18:03:52.077120Z",
     "shell.execute_reply": "2025-03-17T18:03:52.076576Z"
    },
    "papermill": {
     "duration": 0.025702,
     "end_time": "2025-03-17T18:03:52.078050",
     "exception": false,
     "start_time": "2025-03-17T18:03:52.052348",
     "status": "completed"
    },
    "tags": []
   },
   "outputs": [
    {
     "data": {
      "text/html": [
       "<div>\n",
       "<style scoped>\n",
       "    .dataframe tbody tr th:only-of-type {\n",
       "        vertical-align: middle;\n",
       "    }\n",
       "\n",
       "    .dataframe tbody tr th {\n",
       "        vertical-align: top;\n",
       "    }\n",
       "\n",
       "    .dataframe thead th {\n",
       "        text-align: right;\n",
       "    }\n",
       "</style>\n",
       "<table border=\"1\" class=\"dataframe\">\n",
       "  <thead>\n",
       "    <tr style=\"text-align: right;\">\n",
       "      <th></th>\n",
       "      <th>studyID</th>\n",
       "      <th>libraryID</th>\n",
       "      <th>sampleID</th>\n",
       "      <th>chemistry</th>\n",
       "      <th>disease</th>\n",
       "      <th>sex</th>\n",
       "      <th>binned_age</th>\n",
       "      <th>Level1</th>\n",
       "      <th>Level2</th>\n",
       "    </tr>\n",
       "    <tr>\n",
       "      <th>cellID</th>\n",
       "      <th></th>\n",
       "      <th></th>\n",
       "      <th></th>\n",
       "      <th></th>\n",
       "      <th></th>\n",
       "      <th></th>\n",
       "      <th></th>\n",
       "      <th></th>\n",
       "      <th></th>\n",
       "    </tr>\n",
       "  </thead>\n",
       "  <tbody>\n",
       "    <tr>\n",
       "      <th>Zhang2023_L019_P191126_T0_AAACCTGAGAGTCTGG</th>\n",
       "      <td>Zhang2023</td>\n",
       "      <td>Zhang2023_L019</td>\n",
       "      <td>Zhang2023_P191126_T0</td>\n",
       "      <td>5_GEX_V1</td>\n",
       "      <td>HBV</td>\n",
       "      <td>male</td>\n",
       "      <td>41-50</td>\n",
       "      <td>T_CD8_NonNaive</td>\n",
       "      <td>T_CD8_EM_CX3CR1int</td>\n",
       "    </tr>\n",
       "    <tr>\n",
       "      <th>Zhang2023_L019_P191126_T0_AAACCTGAGCACAGGT</th>\n",
       "      <td>Zhang2023</td>\n",
       "      <td>Zhang2023_L019</td>\n",
       "      <td>Zhang2023_P191126_T0</td>\n",
       "      <td>5_GEX_V1</td>\n",
       "      <td>HBV</td>\n",
       "      <td>male</td>\n",
       "      <td>41-50</td>\n",
       "      <td>T_CD8_NonNaive</td>\n",
       "      <td>T_CD8_CM</td>\n",
       "    </tr>\n",
       "    <tr>\n",
       "      <th>Zhang2023_L019_P191126_T0_AAACGGGAGCTACCTA</th>\n",
       "      <td>Zhang2023</td>\n",
       "      <td>Zhang2023_L019</td>\n",
       "      <td>Zhang2023_P191126_T0</td>\n",
       "      <td>5_GEX_V1</td>\n",
       "      <td>HBV</td>\n",
       "      <td>male</td>\n",
       "      <td>41-50</td>\n",
       "      <td>T_CD8_NonNaive</td>\n",
       "      <td>T_CD8_CM</td>\n",
       "    </tr>\n",
       "    <tr>\n",
       "      <th>Zhang2023_L019_P191126_T0_AAACGGGTCTGCCCTA</th>\n",
       "      <td>Zhang2023</td>\n",
       "      <td>Zhang2023_L019</td>\n",
       "      <td>Zhang2023_P191126_T0</td>\n",
       "      <td>5_GEX_V1</td>\n",
       "      <td>HBV</td>\n",
       "      <td>male</td>\n",
       "      <td>41-50</td>\n",
       "      <td>T_CD8_NonNaive</td>\n",
       "      <td>T_CD8_eff_HOBIT</td>\n",
       "    </tr>\n",
       "    <tr>\n",
       "      <th>Zhang2023_L019_P191126_T0_AAAGATGAGTCGCCGT</th>\n",
       "      <td>Zhang2023</td>\n",
       "      <td>Zhang2023_L019</td>\n",
       "      <td>Zhang2023_P191126_T0</td>\n",
       "      <td>5_GEX_V1</td>\n",
       "      <td>HBV</td>\n",
       "      <td>male</td>\n",
       "      <td>41-50</td>\n",
       "      <td>T_CD8_NonNaive</td>\n",
       "      <td>T_CD8_CM_stem</td>\n",
       "    </tr>\n",
       "    <tr>\n",
       "      <th>...</th>\n",
       "      <td>...</td>\n",
       "      <td>...</td>\n",
       "      <td>...</td>\n",
       "      <td>...</td>\n",
       "      <td>...</td>\n",
       "      <td>...</td>\n",
       "      <td>...</td>\n",
       "      <td>...</td>\n",
       "      <td>...</td>\n",
       "    </tr>\n",
       "    <tr>\n",
       "      <th>Perez2022_L067_HC520_T0_CTTACCGCACCGATAT</th>\n",
       "      <td>Perez2022</td>\n",
       "      <td>Perez2022_L067</td>\n",
       "      <td>Perez2022_HC520_T0</td>\n",
       "      <td>3_GEX_V2</td>\n",
       "      <td>healthy</td>\n",
       "      <td>female</td>\n",
       "      <td>18-30</td>\n",
       "      <td>T_CD8_NonNaive</td>\n",
       "      <td>T_CD8_Mem_cytotoxic</td>\n",
       "    </tr>\n",
       "    <tr>\n",
       "      <th>Perez2022_L067_HC520_T0_GTTCTCGCAGGGATTG</th>\n",
       "      <td>Perez2022</td>\n",
       "      <td>Perez2022_L067</td>\n",
       "      <td>Perez2022_HC520_T0</td>\n",
       "      <td>3_GEX_V2</td>\n",
       "      <td>healthy</td>\n",
       "      <td>female</td>\n",
       "      <td>18-30</td>\n",
       "      <td>T_CD8_NonNaive</td>\n",
       "      <td>T_CD8_CM</td>\n",
       "    </tr>\n",
       "    <tr>\n",
       "      <th>Perez2022_L067_HC520_T0_TATGCCCAGTACGACG</th>\n",
       "      <td>Perez2022</td>\n",
       "      <td>Perez2022_L067</td>\n",
       "      <td>Perez2022_HC520_T0</td>\n",
       "      <td>3_GEX_V2</td>\n",
       "      <td>healthy</td>\n",
       "      <td>female</td>\n",
       "      <td>18-30</td>\n",
       "      <td>T_CD8_NonNaive</td>\n",
       "      <td>T_CD8_activated</td>\n",
       "    </tr>\n",
       "    <tr>\n",
       "      <th>Perez2022_L067_HC520_T0_TGTTCCGGTAATTGGA</th>\n",
       "      <td>Perez2022</td>\n",
       "      <td>Perez2022_L067</td>\n",
       "      <td>Perez2022_HC520_T0</td>\n",
       "      <td>3_GEX_V2</td>\n",
       "      <td>healthy</td>\n",
       "      <td>female</td>\n",
       "      <td>18-30</td>\n",
       "      <td>T_CD8_NonNaive</td>\n",
       "      <td>T_CD8_activated</td>\n",
       "    </tr>\n",
       "    <tr>\n",
       "      <th>Perez2022_L067_HC520_T0_TTCTCAAAGGCGCTCT</th>\n",
       "      <td>Perez2022</td>\n",
       "      <td>Perez2022_L067</td>\n",
       "      <td>Perez2022_HC520_T0</td>\n",
       "      <td>3_GEX_V2</td>\n",
       "      <td>healthy</td>\n",
       "      <td>female</td>\n",
       "      <td>18-30</td>\n",
       "      <td>T_CD8_NonNaive</td>\n",
       "      <td>T_CD8_Mem_cytotoxic</td>\n",
       "    </tr>\n",
       "  </tbody>\n",
       "</table>\n",
       "<p>523322 rows × 9 columns</p>\n",
       "</div>"
      ],
      "text/plain": [
       "                                              studyID       libraryID  \\\n",
       "cellID                                                                  \n",
       "Zhang2023_L019_P191126_T0_AAACCTGAGAGTCTGG  Zhang2023  Zhang2023_L019   \n",
       "Zhang2023_L019_P191126_T0_AAACCTGAGCACAGGT  Zhang2023  Zhang2023_L019   \n",
       "Zhang2023_L019_P191126_T0_AAACGGGAGCTACCTA  Zhang2023  Zhang2023_L019   \n",
       "Zhang2023_L019_P191126_T0_AAACGGGTCTGCCCTA  Zhang2023  Zhang2023_L019   \n",
       "Zhang2023_L019_P191126_T0_AAAGATGAGTCGCCGT  Zhang2023  Zhang2023_L019   \n",
       "...                                               ...             ...   \n",
       "Perez2022_L067_HC520_T0_CTTACCGCACCGATAT    Perez2022  Perez2022_L067   \n",
       "Perez2022_L067_HC520_T0_GTTCTCGCAGGGATTG    Perez2022  Perez2022_L067   \n",
       "Perez2022_L067_HC520_T0_TATGCCCAGTACGACG    Perez2022  Perez2022_L067   \n",
       "Perez2022_L067_HC520_T0_TGTTCCGGTAATTGGA    Perez2022  Perez2022_L067   \n",
       "Perez2022_L067_HC520_T0_TTCTCAAAGGCGCTCT    Perez2022  Perez2022_L067   \n",
       "\n",
       "                                                        sampleID chemistry  \\\n",
       "cellID                                                                       \n",
       "Zhang2023_L019_P191126_T0_AAACCTGAGAGTCTGG  Zhang2023_P191126_T0  5_GEX_V1   \n",
       "Zhang2023_L019_P191126_T0_AAACCTGAGCACAGGT  Zhang2023_P191126_T0  5_GEX_V1   \n",
       "Zhang2023_L019_P191126_T0_AAACGGGAGCTACCTA  Zhang2023_P191126_T0  5_GEX_V1   \n",
       "Zhang2023_L019_P191126_T0_AAACGGGTCTGCCCTA  Zhang2023_P191126_T0  5_GEX_V1   \n",
       "Zhang2023_L019_P191126_T0_AAAGATGAGTCGCCGT  Zhang2023_P191126_T0  5_GEX_V1   \n",
       "...                                                          ...       ...   \n",
       "Perez2022_L067_HC520_T0_CTTACCGCACCGATAT      Perez2022_HC520_T0  3_GEX_V2   \n",
       "Perez2022_L067_HC520_T0_GTTCTCGCAGGGATTG      Perez2022_HC520_T0  3_GEX_V2   \n",
       "Perez2022_L067_HC520_T0_TATGCCCAGTACGACG      Perez2022_HC520_T0  3_GEX_V2   \n",
       "Perez2022_L067_HC520_T0_TGTTCCGGTAATTGGA      Perez2022_HC520_T0  3_GEX_V2   \n",
       "Perez2022_L067_HC520_T0_TTCTCAAAGGCGCTCT      Perez2022_HC520_T0  3_GEX_V2   \n",
       "\n",
       "                                            disease     sex binned_age  \\\n",
       "cellID                                                                   \n",
       "Zhang2023_L019_P191126_T0_AAACCTGAGAGTCTGG      HBV    male      41-50   \n",
       "Zhang2023_L019_P191126_T0_AAACCTGAGCACAGGT      HBV    male      41-50   \n",
       "Zhang2023_L019_P191126_T0_AAACGGGAGCTACCTA      HBV    male      41-50   \n",
       "Zhang2023_L019_P191126_T0_AAACGGGTCTGCCCTA      HBV    male      41-50   \n",
       "Zhang2023_L019_P191126_T0_AAAGATGAGTCGCCGT      HBV    male      41-50   \n",
       "...                                             ...     ...        ...   \n",
       "Perez2022_L067_HC520_T0_CTTACCGCACCGATAT    healthy  female      18-30   \n",
       "Perez2022_L067_HC520_T0_GTTCTCGCAGGGATTG    healthy  female      18-30   \n",
       "Perez2022_L067_HC520_T0_TATGCCCAGTACGACG    healthy  female      18-30   \n",
       "Perez2022_L067_HC520_T0_TGTTCCGGTAATTGGA    healthy  female      18-30   \n",
       "Perez2022_L067_HC520_T0_TTCTCAAAGGCGCTCT    healthy  female      18-30   \n",
       "\n",
       "                                                    Level1  \\\n",
       "cellID                                                       \n",
       "Zhang2023_L019_P191126_T0_AAACCTGAGAGTCTGG  T_CD8_NonNaive   \n",
       "Zhang2023_L019_P191126_T0_AAACCTGAGCACAGGT  T_CD8_NonNaive   \n",
       "Zhang2023_L019_P191126_T0_AAACGGGAGCTACCTA  T_CD8_NonNaive   \n",
       "Zhang2023_L019_P191126_T0_AAACGGGTCTGCCCTA  T_CD8_NonNaive   \n",
       "Zhang2023_L019_P191126_T0_AAAGATGAGTCGCCGT  T_CD8_NonNaive   \n",
       "...                                                    ...   \n",
       "Perez2022_L067_HC520_T0_CTTACCGCACCGATAT    T_CD8_NonNaive   \n",
       "Perez2022_L067_HC520_T0_GTTCTCGCAGGGATTG    T_CD8_NonNaive   \n",
       "Perez2022_L067_HC520_T0_TATGCCCAGTACGACG    T_CD8_NonNaive   \n",
       "Perez2022_L067_HC520_T0_TGTTCCGGTAATTGGA    T_CD8_NonNaive   \n",
       "Perez2022_L067_HC520_T0_TTCTCAAAGGCGCTCT    T_CD8_NonNaive   \n",
       "\n",
       "                                                         Level2  \n",
       "cellID                                                           \n",
       "Zhang2023_L019_P191126_T0_AAACCTGAGAGTCTGG   T_CD8_EM_CX3CR1int  \n",
       "Zhang2023_L019_P191126_T0_AAACCTGAGCACAGGT             T_CD8_CM  \n",
       "Zhang2023_L019_P191126_T0_AAACGGGAGCTACCTA             T_CD8_CM  \n",
       "Zhang2023_L019_P191126_T0_AAACGGGTCTGCCCTA      T_CD8_eff_HOBIT  \n",
       "Zhang2023_L019_P191126_T0_AAAGATGAGTCGCCGT        T_CD8_CM_stem  \n",
       "...                                                         ...  \n",
       "Perez2022_L067_HC520_T0_CTTACCGCACCGATAT    T_CD8_Mem_cytotoxic  \n",
       "Perez2022_L067_HC520_T0_GTTCTCGCAGGGATTG               T_CD8_CM  \n",
       "Perez2022_L067_HC520_T0_TATGCCCAGTACGACG        T_CD8_activated  \n",
       "Perez2022_L067_HC520_T0_TGTTCCGGTAATTGGA        T_CD8_activated  \n",
       "Perez2022_L067_HC520_T0_TTCTCAAAGGCGCTCT    T_CD8_Mem_cytotoxic  \n",
       "\n",
       "[523322 rows x 9 columns]"
      ]
     },
     "execution_count": 8,
     "metadata": {},
     "output_type": "execute_result"
    }
   ],
   "source": [
    "adata.obs"
   ]
  },
  {
   "cell_type": "markdown",
   "id": "e01c3d39",
   "metadata": {
    "papermill": {
     "duration": 0.005603,
     "end_time": "2025-03-17T18:03:52.091037",
     "exception": false,
     "start_time": "2025-03-17T18:03:52.085434",
     "status": "completed"
    },
    "tags": []
   },
   "source": [
    "# EXTRACT INDEXES FOR DATA SPLITTING (STRATIFIED BY DISEASE, GROUPED BY PATIENT)\n",
    "\n",
    "# EXTRACT CELL COUNTS PER SPLIT (TO MAKE SURE THAT RATIOS RESEMBLE 70:20:10)"
   ]
  },
  {
   "cell_type": "code",
   "execution_count": 9,
   "id": "c1db31a3",
   "metadata": {
    "execution": {
     "iopub.execute_input": "2025-03-17T18:03:52.104318Z",
     "iopub.status.busy": "2025-03-17T18:03:52.104070Z",
     "iopub.status.idle": "2025-03-17T18:03:53.851702Z",
     "shell.execute_reply": "2025-03-17T18:03:53.850973Z"
    },
    "papermill": {
     "duration": 1.756053,
     "end_time": "2025-03-17T18:03:53.853280",
     "exception": false,
     "start_time": "2025-03-17T18:03:52.097227",
     "status": "completed"
    },
    "tags": []
   },
   "outputs": [],
   "source": [
    "all_idxs = np.arange(adata.obs.shape[0])\n",
    "left_out_splits = [s[1] for s in StratifiedGroupKFold(n_splits=N_SPLITS).split(all_idxs, adata.obs[target_y], adata.obs.sampleID)]\n",
    "\n",
    "min_stats = []\n",
    "for val_fold_idx, test_fold_idx in product(range(N_SPLITS), range(1,N_SPLITS)):\n",
    "    if val_fold_idx == test_fold_idx:\n",
    "        continue\n",
    "\n",
    "    all_idxs = np.arange(adata.obs.shape[0])\n",
    "    val_idxs, test_idxs = left_out_splits[val_fold_idx], left_out_splits[test_fold_idx]\n",
    "    train_idxs = np.delete(all_idxs, np.union1d(val_idxs, test_idxs))\n",
    "\n",
    "    cell_count_df = []\n",
    "    cell_count_df.append(adata.obs.iloc[train_idxs].groupby(target_y, observed=False).size().to_frame(name='cell_count').reset_index().assign(split='train'))\n",
    "    cell_count_df.append(adata.obs.iloc[val_idxs].groupby(target_y, observed=False).size().to_frame(name='cell_count').reset_index().assign(split='val'))\n",
    "    cell_count_df.append(adata.obs.iloc[test_idxs].groupby(target_y, observed=False).size().to_frame(name='cell_count').reset_index().assign(split='test'))\n",
    "    cell_count_df = pd.concat(cell_count_df).pivot(index=target_y, columns='split', values='cell_count')\n",
    "    cell_plot_data = cell_count_df.div(cell_count_df.sum(axis=1), axis=0).reset_index().melt(id_vars=target_y)\n",
    "    min_stats.append((val_fold_idx, test_fold_idx, cell_plot_data.query('split==\"train\"').value.min(), cell_plot_data.query('split==\"test\"').value.min()))"
   ]
  },
  {
   "cell_type": "markdown",
   "id": "f757af42",
   "metadata": {
    "papermill": {
     "duration": 0.009141,
     "end_time": "2025-03-17T18:03:53.874549",
     "exception": false,
     "start_time": "2025-03-17T18:03:53.865408",
     "status": "completed"
    },
    "tags": []
   },
   "source": [
    "# CALCULATE RATIOS OF PATIENTS IN TRAINING AND TESTING SET: splits that best fit the expected ratios"
   ]
  },
  {
   "cell_type": "code",
   "execution_count": 10,
   "id": "4533ad37",
   "metadata": {
    "execution": {
     "iopub.execute_input": "2025-03-17T18:03:53.886750Z",
     "iopub.status.busy": "2025-03-17T18:03:53.886510Z",
     "iopub.status.idle": "2025-03-17T18:03:53.902016Z",
     "shell.execute_reply": "2025-03-17T18:03:53.901456Z"
    },
    "papermill": {
     "duration": 0.02279,
     "end_time": "2025-03-17T18:03:53.903084",
     "exception": false,
     "start_time": "2025-03-17T18:03:53.880294",
     "status": "completed"
    },
    "tags": []
   },
   "outputs": [
    {
     "data": {
      "text/html": [
       "<div>\n",
       "<style scoped>\n",
       "    .dataframe tbody tr th:only-of-type {\n",
       "        vertical-align: middle;\n",
       "    }\n",
       "\n",
       "    .dataframe tbody tr th {\n",
       "        vertical-align: top;\n",
       "    }\n",
       "\n",
       "    .dataframe thead th {\n",
       "        text-align: right;\n",
       "    }\n",
       "</style>\n",
       "<table border=\"1\" class=\"dataframe\">\n",
       "  <thead>\n",
       "    <tr style=\"text-align: right;\">\n",
       "      <th></th>\n",
       "      <th>val_idx</th>\n",
       "      <th>test_idx</th>\n",
       "      <th>train_min</th>\n",
       "      <th>test_mean</th>\n",
       "      <th>ranking</th>\n",
       "    </tr>\n",
       "  </thead>\n",
       "  <tbody>\n",
       "    <tr>\n",
       "      <th>9</th>\n",
       "      <td>2</td>\n",
       "      <td>4</td>\n",
       "      <td>0.779428</td>\n",
       "      <td>0.804956</td>\n",
       "      <td>0.627405</td>\n",
       "    </tr>\n",
       "    <tr>\n",
       "      <th>3</th>\n",
       "      <td>0</td>\n",
       "      <td>4</td>\n",
       "      <td>0.815341</td>\n",
       "      <td>0.804956</td>\n",
       "      <td>0.656313</td>\n",
       "    </tr>\n",
       "    <tr>\n",
       "      <th>12</th>\n",
       "      <td>3</td>\n",
       "      <td>4</td>\n",
       "      <td>0.826983</td>\n",
       "      <td>0.804956</td>\n",
       "      <td>0.665685</td>\n",
       "    </tr>\n",
       "    <tr>\n",
       "      <th>13</th>\n",
       "      <td>4</td>\n",
       "      <td>1</td>\n",
       "      <td>0.863685</td>\n",
       "      <td>0.789515</td>\n",
       "      <td>0.681892</td>\n",
       "    </tr>\n",
       "    <tr>\n",
       "      <th>6</th>\n",
       "      <td>1</td>\n",
       "      <td>4</td>\n",
       "      <td>0.863685</td>\n",
       "      <td>0.804956</td>\n",
       "      <td>0.695228</td>\n",
       "    </tr>\n",
       "    <tr>\n",
       "      <th>0</th>\n",
       "      <td>0</td>\n",
       "      <td>1</td>\n",
       "      <td>0.942735</td>\n",
       "      <td>0.789515</td>\n",
       "      <td>0.744304</td>\n",
       "    </tr>\n",
       "    <tr>\n",
       "      <th>15</th>\n",
       "      <td>4</td>\n",
       "      <td>3</td>\n",
       "      <td>0.826983</td>\n",
       "      <td>0.914707</td>\n",
       "      <td>0.756447</td>\n",
       "    </tr>\n",
       "    <tr>\n",
       "      <th>7</th>\n",
       "      <td>2</td>\n",
       "      <td>1</td>\n",
       "      <td>0.985514</td>\n",
       "      <td>0.789515</td>\n",
       "      <td>0.778078</td>\n",
       "    </tr>\n",
       "    <tr>\n",
       "      <th>14</th>\n",
       "      <td>4</td>\n",
       "      <td>2</td>\n",
       "      <td>0.779428</td>\n",
       "      <td>1.000000</td>\n",
       "      <td>0.779428</td>\n",
       "    </tr>\n",
       "    <tr>\n",
       "      <th>10</th>\n",
       "      <td>3</td>\n",
       "      <td>1</td>\n",
       "      <td>1.000000</td>\n",
       "      <td>0.789515</td>\n",
       "      <td>0.789515</td>\n",
       "    </tr>\n",
       "    <tr>\n",
       "      <th>8</th>\n",
       "      <td>2</td>\n",
       "      <td>3</td>\n",
       "      <td>0.919374</td>\n",
       "      <td>0.914707</td>\n",
       "      <td>0.840958</td>\n",
       "    </tr>\n",
       "    <tr>\n",
       "      <th>2</th>\n",
       "      <td>0</td>\n",
       "      <td>3</td>\n",
       "      <td>0.970691</td>\n",
       "      <td>0.914707</td>\n",
       "      <td>0.887898</td>\n",
       "    </tr>\n",
       "    <tr>\n",
       "      <th>5</th>\n",
       "      <td>1</td>\n",
       "      <td>3</td>\n",
       "      <td>1.000000</td>\n",
       "      <td>0.914707</td>\n",
       "      <td>0.914707</td>\n",
       "    </tr>\n",
       "    <tr>\n",
       "      <th>11</th>\n",
       "      <td>3</td>\n",
       "      <td>2</td>\n",
       "      <td>0.919374</td>\n",
       "      <td>1.000000</td>\n",
       "      <td>0.919374</td>\n",
       "    </tr>\n",
       "    <tr>\n",
       "      <th>1</th>\n",
       "      <td>0</td>\n",
       "      <td>2</td>\n",
       "      <td>0.935998</td>\n",
       "      <td>1.000000</td>\n",
       "      <td>0.935998</td>\n",
       "    </tr>\n",
       "    <tr>\n",
       "      <th>4</th>\n",
       "      <td>1</td>\n",
       "      <td>2</td>\n",
       "      <td>0.985514</td>\n",
       "      <td>1.000000</td>\n",
       "      <td>0.985514</td>\n",
       "    </tr>\n",
       "  </tbody>\n",
       "</table>\n",
       "</div>"
      ],
      "text/plain": [
       "    val_idx  test_idx  train_min  test_mean   ranking\n",
       "9         2         4   0.779428   0.804956  0.627405\n",
       "3         0         4   0.815341   0.804956  0.656313\n",
       "12        3         4   0.826983   0.804956  0.665685\n",
       "13        4         1   0.863685   0.789515  0.681892\n",
       "6         1         4   0.863685   0.804956  0.695228\n",
       "0         0         1   0.942735   0.789515  0.744304\n",
       "15        4         3   0.826983   0.914707  0.756447\n",
       "7         2         1   0.985514   0.789515  0.778078\n",
       "14        4         2   0.779428   1.000000  0.779428\n",
       "10        3         1   1.000000   0.789515  0.789515\n",
       "8         2         3   0.919374   0.914707  0.840958\n",
       "2         0         3   0.970691   0.914707  0.887898\n",
       "5         1         3   1.000000   0.914707  0.914707\n",
       "11        3         2   0.919374   1.000000  0.919374\n",
       "1         0         2   0.935998   1.000000  0.935998\n",
       "4         1         2   0.985514   1.000000  0.985514"
      ]
     },
     "execution_count": 10,
     "metadata": {},
     "output_type": "execute_result"
    }
   ],
   "source": [
    "split_rankings_df = (pd.DataFrame(min_stats, columns=['val_idx', 'test_idx', 'train_min', 'test_mean'])\n",
    " .assign(train_min = lambda df: df.train_min / df.train_min.max())\n",
    " .assign(test_mean = lambda df: df.test_mean / df.test_mean.max())\n",
    " .assign(ranking = lambda df: df.test_mean * df.train_min)\n",
    " .sort_values('ranking'))\n",
    "split_rankings_df"
   ]
  },
  {
   "cell_type": "code",
   "execution_count": 11,
   "id": "58d143d6",
   "metadata": {
    "execution": {
     "iopub.execute_input": "2025-03-17T18:03:53.923092Z",
     "iopub.status.busy": "2025-03-17T18:03:53.922620Z",
     "iopub.status.idle": "2025-03-17T18:03:53.937971Z",
     "shell.execute_reply": "2025-03-17T18:03:53.936809Z"
    },
    "papermill": {
     "duration": 0.027643,
     "end_time": "2025-03-17T18:03:53.939234",
     "exception": false,
     "start_time": "2025-03-17T18:03:53.911591",
     "status": "completed"
    },
    "tags": []
   },
   "outputs": [],
   "source": [
    "best_split = split_rankings_df.loc[split_rankings_df['ranking'].idxmax()]\n",
    "all_idxs = np.arange(adata.obs.shape[0])\n",
    "val_idxs, test_idxs = left_out_splits[best_split.val_idx.astype(int)], left_out_splits[best_split.test_idx.astype(int)]\n",
    "train_idxs = np.delete(all_idxs, np.union1d(val_idxs, test_idxs))"
   ]
  },
  {
   "cell_type": "markdown",
   "id": "45560468",
   "metadata": {
    "papermill": {
     "duration": 0.010159,
     "end_time": "2025-03-17T18:03:53.963022",
     "exception": false,
     "start_time": "2025-03-17T18:03:53.952863",
     "status": "completed"
    },
    "tags": []
   },
   "source": [
    "### CHECK NUMBER OF CELLS PER SPLIT"
   ]
  },
  {
   "cell_type": "code",
   "execution_count": 12,
   "id": "5708e182",
   "metadata": {
    "execution": {
     "iopub.execute_input": "2025-03-17T18:03:53.981475Z",
     "iopub.status.busy": "2025-03-17T18:03:53.980758Z",
     "iopub.status.idle": "2025-03-17T18:03:54.113705Z",
     "shell.execute_reply": "2025-03-17T18:03:54.113007Z"
    },
    "papermill": {
     "duration": 0.144783,
     "end_time": "2025-03-17T18:03:54.115403",
     "exception": false,
     "start_time": "2025-03-17T18:03:53.970620",
     "status": "completed"
    },
    "tags": []
   },
   "outputs": [],
   "source": [
    "cell_count_df = []\n",
    "cell_count_df.append(adata.obs.iloc[train_idxs].groupby(target_y, observed=False).size().to_frame(name='cell_count').reset_index().assign(split='train'))\n",
    "cell_count_df.append(adata.obs.iloc[val_idxs].groupby(target_y, observed=False).size().to_frame(name='cell_count').reset_index().assign(split='val'))\n",
    "cell_count_df.append(adata.obs.iloc[test_idxs].groupby(target_y, observed=False).size().to_frame(name='cell_count').reset_index().assign(split='test'))\n",
    "cell_count_df = pd.concat(cell_count_df).pivot(index=target_y, columns='split', values='cell_count')\n",
    "cell_plot_data = cell_count_df.div(cell_count_df.sum(axis=1), axis=0).reset_index().melt(id_vars=target_y)\n",
    "\n",
    "pat_count_df = []\n",
    "pat_count_df.append(adata.obs.iloc[train_idxs].groupby(target_y, observed=False).sampleID.nunique().to_frame(name='patient_count').reset_index().assign(split='train'))\n",
    "pat_count_df.append(adata.obs.iloc[val_idxs].groupby(target_y, observed=False).sampleID.nunique().to_frame(name='patient_count').reset_index().assign(split='val'))\n",
    "pat_count_df.append(adata.obs.iloc[test_idxs].groupby(target_y, observed=False).sampleID.nunique().to_frame(name='patient_count').reset_index().assign(split='test'))\n",
    "pd.concat(pat_count_df).pivot(index=target_y, columns='split', values='patient_count')\n",
    "pat_count_df = pd.concat(pat_count_df).pivot(index=target_y, columns='split', values='patient_count')\n",
    "pat_count_df = pat_count_df.div(pat_count_df.sum(axis=1), axis=0)\n",
    "pat_plot_data = pat_count_df.div(pat_count_df.sum(axis=1), axis=0).reset_index().melt(id_vars=target_y)\n",
    "\n",
    "train_pats = set(adata.obs.iloc[train_idxs].sampleID)\n",
    "test_pats = set(adata.obs.iloc[test_idxs].sampleID)\n",
    "val_pats = set(adata.obs.iloc[val_idxs].sampleID)"
   ]
  },
  {
   "cell_type": "code",
   "execution_count": 13,
   "id": "a981db62",
   "metadata": {
    "execution": {
     "iopub.execute_input": "2025-03-17T18:03:54.137820Z",
     "iopub.status.busy": "2025-03-17T18:03:54.137562Z",
     "iopub.status.idle": "2025-03-17T18:03:54.140783Z",
     "shell.execute_reply": "2025-03-17T18:03:54.140247Z"
    },
    "papermill": {
     "duration": 0.013706,
     "end_time": "2025-03-17T18:03:54.141500",
     "exception": false,
     "start_time": "2025-03-17T18:03:54.127794",
     "status": "completed"
    },
    "tags": []
   },
   "outputs": [],
   "source": [
    "assert val_pats.intersection(test_pats) != {}\n",
    "assert train_pats.intersection(test_pats) != {}\n",
    "assert train_pats.intersection(val_pats) != {}"
   ]
  },
  {
   "cell_type": "markdown",
   "id": "0ec37af4",
   "metadata": {
    "papermill": {
     "duration": 0.007924,
     "end_time": "2025-03-17T18:03:54.157156",
     "exception": false,
     "start_time": "2025-03-17T18:03:54.149232",
     "status": "completed"
    },
    "tags": []
   },
   "source": [
    "### PLOT PATIENT AND CELL DISTRIBUTION ACROSS TRAIN, TEST, AND VALIDATION SETS PER DISEASE\n",
    "### CHECK THAT THEY APPROXIMATE EXPECTATION"
   ]
  },
  {
   "cell_type": "code",
   "execution_count": 14,
   "id": "57cd2e28",
   "metadata": {
    "execution": {
     "iopub.execute_input": "2025-03-17T18:03:54.175208Z",
     "iopub.status.busy": "2025-03-17T18:03:54.174781Z",
     "iopub.status.idle": "2025-03-17T18:03:55.233956Z",
     "shell.execute_reply": "2025-03-17T18:03:55.233308Z"
    },
    "papermill": {
     "duration": 1.072299,
     "end_time": "2025-03-17T18:03:55.236969",
     "exception": false,
     "start_time": "2025-03-17T18:03:54.164670",
     "status": "completed"
    },
    "tags": []
   },
   "outputs": [
    {
     "data": {
      "image/png": "[encoded data removed]",
      "text/plain": [
       "<Figure size 2000x600 with 2 Axes>"
      ]
     },
     "metadata": {},
     "output_type": "display_data"
    }
   ],
   "source": [
    "_, axs = plt.subplots(1, 2, figsize=(20, 6))\n",
    "sns.barplot(x=target_y, y='value', hue='split', data=cell_plot_data, ax=axs[0])\n",
    "axs[0].set_title('Cell distribution')\n",
    "axs[0].tick_params(axis='x', labelrotation=90)\n",
    "sns.barplot(x=target_y, y='value', hue='split', data=pat_plot_data, ax=axs[1])\n",
    "axs[1].set_title('Patients distribution')\n",
    "axs[1].tick_params(axis='x', labelrotation=90)\n",
    "\n",
    "os.makedirs(here(f\"03_downstream_analysis/08_gene_importance/results/targetY_{target_y}/01_split_plots/\"), exist_ok=True)\n",
    "\n",
    "plt.savefig(here(f'03_downstream_analysis/08_gene_importance/results/targetY_{target_y}/01_split_plots/{RUN_NAME}{CELL_TYPE}_split_quality.pdf'), bbox_inches='tight', dpi=300)"
   ]
  },
  {
   "cell_type": "code",
   "execution_count": 15,
   "id": "3d5aa2ae",
   "metadata": {
    "execution": {
     "iopub.execute_input": "2025-03-17T18:03:55.262449Z",
     "iopub.status.busy": "2025-03-17T18:03:55.262183Z",
     "iopub.status.idle": "2025-03-17T18:03:55.351771Z",
     "shell.execute_reply": "2025-03-17T18:03:55.351131Z"
    },
    "papermill": {
     "duration": 0.099623,
     "end_time": "2025-03-17T18:03:55.352963",
     "exception": false,
     "start_time": "2025-03-17T18:03:55.253340",
     "status": "completed"
    },
    "tags": []
   },
   "outputs": [],
   "source": [
    "os.makedirs(here(f\"03_downstream_analysis/08_gene_importance/results/targetY_{target_y}/02_preprocessing/\"), exist_ok=True)\n",
    "\n",
    "np.save(here(f\"03_downstream_analysis/08_gene_importance/results/targetY_{target_y}/02_preprocessing/{RUN_NAME}{CELL_TYPE}_train_idxs.npy\"), train_idxs)\n",
    "np.save(here(f\"03_downstream_analysis/08_gene_importance/results/targetY_{target_y}/02_preprocessing/{RUN_NAME}{CELL_TYPE}_val_idxs.npy\"), val_idxs)\n",
    "np.save(here(f\"03_downstream_analysis/08_gene_importance/results/targetY_{target_y}/02_preprocessing/{RUN_NAME}{CELL_TYPE}_test_idxs.npy\"), test_idxs)"
   ]
  },
  {
   "cell_type": "markdown",
   "id": "d52b426d",
   "metadata": {
    "papermill": {
     "duration": 0.012993,
     "end_time": "2025-03-17T18:03:55.376454",
     "exception": false,
     "start_time": "2025-03-17T18:03:55.363461",
     "status": "completed"
    },
    "tags": []
   },
   "source": [
    "### SUBSET DATASET INTO TRAIN/TEST/VAL SPLITS"
   ]
  },
  {
   "cell_type": "code",
   "execution_count": 16,
   "id": "1da83084",
   "metadata": {
    "execution": {
     "iopub.execute_input": "2025-03-17T18:03:55.394892Z",
     "iopub.status.busy": "2025-03-17T18:03:55.394231Z",
     "iopub.status.idle": "2025-03-17T18:05:10.072117Z",
     "shell.execute_reply": "2025-03-17T18:05:10.071554Z"
    },
    "papermill": {
     "duration": 74.703737,
     "end_time": "2025-03-17T18:05:10.088304",
     "exception": false,
     "start_time": "2025-03-17T18:03:55.384567",
     "status": "completed"
    },
    "tags": []
   },
   "outputs": [
    {
     "data": {
      "text/plain": [
       "((313399, 935), (105049, 935), (104874, 935))"
      ]
     },
     "execution_count": 16,
     "metadata": {},
     "output_type": "execute_result"
    }
   ],
   "source": [
    "X_train = adata.X[train_idxs]\n",
    "X_test = adata.X[test_idxs]\n",
    "X_val = adata.X[val_idxs]\n",
    "X_train.shape, X_test.shape, X_val.shape"
   ]
  },
  {
   "cell_type": "code",
   "execution_count": 17,
   "id": "75865373",
   "metadata": {
    "execution": {
     "iopub.execute_input": "2025-03-17T18:05:10.124511Z",
     "iopub.status.busy": "2025-03-17T18:05:10.124248Z",
     "iopub.status.idle": "2025-03-17T18:05:10.184746Z",
     "shell.execute_reply": "2025-03-17T18:05:10.184108Z"
    },
    "papermill": {
     "duration": 0.089502,
     "end_time": "2025-03-17T18:05:10.185781",
     "exception": false,
     "start_time": "2025-03-17T18:05:10.096279",
     "status": "completed"
    },
    "tags": []
   },
   "outputs": [
    {
     "data": {
      "text/plain": [
       "((313399,), (105049,), (104874,))"
      ]
     },
     "execution_count": 17,
     "metadata": {},
     "output_type": "execute_result"
    }
   ],
   "source": [
    "y_train = adata.obs.iloc[train_idxs][target_y].values.astype(str)\n",
    "y_test = adata.obs.iloc[test_idxs][target_y].values.astype(str)\n",
    "y_val = adata.obs.iloc[val_idxs][target_y].values.astype(str)\n",
    "y_train.shape, y_test.shape, y_val.shape "
   ]
  },
  {
   "cell_type": "code",
   "execution_count": 18,
   "id": "88a55fc9",
   "metadata": {
    "execution": {
     "iopub.execute_input": "2025-03-17T18:05:10.207998Z",
     "iopub.status.busy": "2025-03-17T18:05:10.207242Z",
     "iopub.status.idle": "2025-03-17T18:05:10.376848Z",
     "shell.execute_reply": "2025-03-17T18:05:10.376377Z"
    },
    "papermill": {
     "duration": 0.182072,
     "end_time": "2025-03-17T18:05:10.378704",
     "exception": false,
     "start_time": "2025-03-17T18:05:10.196632",
     "status": "completed"
    },
    "tags": []
   },
   "outputs": [],
   "source": [
    "lenc = LabelEncoder()\n",
    "y_train_enc = lenc.fit_transform(y_train)\n",
    "y_val_enc = lenc.transform(y_val)\n",
    "y_test_enc = lenc.transform(y_test)"
   ]
  },
  {
   "cell_type": "markdown",
   "id": "1ec905d7",
   "metadata": {
    "papermill": {
     "duration": 0.007763,
     "end_time": "2025-03-17T18:05:10.403769",
     "exception": false,
     "start_time": "2025-03-17T18:05:10.396006",
     "status": "completed"
    },
    "tags": []
   },
   "source": [
    "### GENERATE F1 "
   ]
  },
  {
   "cell_type": "code",
   "execution_count": 19,
   "id": "5cef7c4f",
   "metadata": {
    "execution": {
     "iopub.execute_input": "2025-03-17T18:05:10.421641Z",
     "iopub.status.busy": "2025-03-17T18:05:10.421167Z",
     "iopub.status.idle": "2025-03-17T18:05:10.426084Z",
     "shell.execute_reply": "2025-03-17T18:05:10.425260Z"
    },
    "papermill": {
     "duration": 0.015654,
     "end_time": "2025-03-17T18:05:10.427249",
     "exception": false,
     "start_time": "2025-03-17T18:05:10.411595",
     "status": "completed"
    },
    "tags": []
   },
   "outputs": [],
   "source": [
    "def custom_f1_score(y_true, y_pred):\n",
    "    return -f1_score(y_true, y_pred.argmax(1), average='weighted')"
   ]
  },
  {
   "cell_type": "code",
   "execution_count": 20,
   "id": "0e51bbca",
   "metadata": {
    "execution": {
     "iopub.execute_input": "2025-03-17T18:05:10.447115Z",
     "iopub.status.busy": "2025-03-17T18:05:10.446296Z",
     "iopub.status.idle": "2025-03-17T18:05:10.454958Z",
     "shell.execute_reply": "2025-03-17T18:05:10.454119Z"
    },
    "papermill": {
     "duration": 0.018856,
     "end_time": "2025-03-17T18:05:10.456208",
     "exception": false,
     "start_time": "2025-03-17T18:05:10.437352",
     "status": "completed"
    },
    "tags": []
   },
   "outputs": [],
   "source": [
    "eval_metric=custom_f1_score\n",
    "eval_metric_name='custom_f1_score'\n",
    "\n",
    "def objective(trial):\n",
    "    params = {\n",
    "        'sampling_method': 'gradient_based',\n",
    "        'n_estimators': 1500,\n",
    "        'max_depth': trial.suggest_int('max_depth', 3, 20),\n",
    "        'min_child_weight': trial.suggest_int('min_child_weight', 1, 250),\n",
    "        'subsample': trial.suggest_float('subsample', 0.1, 1.0),\n",
    "        'colsample_bynode': trial.suggest_float('colsample_bynode', 0.1, 1.0),\n",
    "        'learning_rate': trial.suggest_float('learning_rate', 1e-3, 5e-1, log=True),\n",
    "    }\n",
    "    pruning_callback = optuna.integration.XGBoostPruningCallback(trial, f'validation_0-{eval_metric_name}')\n",
    "    xgb = xgboost.XGBClassifier(\n",
    "        device='gpu',\n",
    "        eval_metric=eval_metric,\n",
    "        early_stopping_rounds=20,\n",
    "        callbacks=[pruning_callback],\n",
    "        **params\n",
    "    )\n",
    "    xgb.fit(\n",
    "        X_train, \n",
    "        y_train_enc, \n",
    "        verbose=0,\n",
    "        eval_set=[(X_val, y_val_enc)],\n",
    "    )\n",
    "    trial.set_user_attr('best_iteration', xgb.best_iteration)\n",
    "\n",
    "    return xgb.best_score"
   ]
  },
  {
   "cell_type": "code",
   "execution_count": 21,
   "id": "6f13a45a",
   "metadata": {
    "execution": {
     "iopub.execute_input": "2025-03-17T18:05:10.475674Z",
     "iopub.status.busy": "2025-03-17T18:05:10.474870Z",
     "iopub.status.idle": "2025-03-17T18:13:11.123013Z",
     "shell.execute_reply": "2025-03-17T18:13:11.121755Z"
    },
    "papermill": {
     "duration": 480.659393,
     "end_time": "2025-03-17T18:13:11.125391",
     "exception": false,
     "start_time": "2025-03-17T18:05:10.465998",
     "status": "completed"
    },
    "tags": []
   },
   "outputs": [
    {
     "name": "stderr",
     "output_type": "stream",
     "text": [
      "[I 2025-03-17 18:05:10,479] A new study created in memory with name: no-name-1cb56a03-2d9e-4342-8ec7-9604920ef74b\n"
     ]
    },
    {
     "name": "stderr",
     "output_type": "stream",
     "text": [
      "/tmp/ipykernel_1050222/350114600.py:4: ExperimentalWarning: WeightsAndBiasesCallback is experimental (supported from v2.9.0). The interface can change in the future.\n",
      "  wandbc = optuna.integration.WeightsAndBiasesCallback(wandb_kwargs=wandb_kwargs)\n",
      "\u001b[34m\u001b[1mwandb\u001b[0m: Using wandb-core as the SDK backend.  Please refer to https://wandb.me/wandb-core for more information.\n"
     ]
    },
    {
     "name": "stderr",
     "output_type": "stream",
     "text": [
      "\u001b[34m\u001b[1mwandb\u001b[0m: Currently logged in as: \u001b[33mdav1989\u001b[0m (\u001b[33minflammation\u001b[0m) to \u001b[32mhttps://api.wandb.ai\u001b[0m. Use \u001b[1m`wandb login --relogin`\u001b[0m to force relogin\n"
     ]
    },
    {
     "name": "stderr",
     "output_type": "stream",
     "text": [
      "\u001b[34m\u001b[1mwandb\u001b[0m: Tracking run with wandb version 0.19.8\n"
     ]
    },
    {
     "name": "stderr",
     "output_type": "stream",
     "text": [
      "\u001b[34m\u001b[1mwandb\u001b[0m: Run data is saved locally in \u001b[35m\u001b[1m/scratch_isilon/groups/singlecell/shared/projects/Inflammation-PBMCs-Atlas/03_downstream_analysis/08_gene_importance/wandb/run-20250317_180512-s5r8tpdx\u001b[0m\n",
      "\u001b[34m\u001b[1mwandb\u001b[0m: Run \u001b[1m`wandb offline`\u001b[0m to turn off syncing.\n"
     ]
    },
    {
     "name": "stderr",
     "output_type": "stream",
     "text": [
      "\u001b[34m\u001b[1mwandb\u001b[0m: Syncing run \u001b[33mstudyID_T_CD8_NonNaive\u001b[0m\n"
     ]
    },
    {
     "name": "stderr",
     "output_type": "stream",
     "text": [
      "\u001b[34m\u001b[1mwandb\u001b[0m: ⭐️ View project at \u001b[34m\u001b[4mhttps://wandb.ai/inflammation/xgboost\u001b[0m\n"
     ]
    },
    {
     "name": "stderr",
     "output_type": "stream",
     "text": [
      "\u001b[34m\u001b[1mwandb\u001b[0m: 🚀 View run at \u001b[34m\u001b[4mhttps://wandb.ai/inflammation/xgboost/runs/s5r8tpdx\u001b[0m\n"
     ]
    },
    {
     "name": "stderr",
     "output_type": "stream",
     "text": [
      "[I 2025-03-17 18:05:34,724] Trial 0 finished with value: -0.900336 and parameters: {'max_depth': 9, 'min_child_weight': 238, 'subsample': 0.7587945476302645, 'colsample_bynode': 0.6387926357773329, 'learning_rate': 0.0026368755339723046}. Best is trial 0 with value: -0.900336.\n"
     ]
    },
    {
     "name": "stderr",
     "output_type": "stream",
     "text": [
      "[I 2025-03-17 18:05:53,230] Trial 1 finished with value: -0.929279 and parameters: {'max_depth': 5, 'min_child_weight': 15, 'subsample': 0.8795585311974417, 'colsample_bynode': 0.6410035105688879, 'learning_rate': 0.08148293210105287}. Best is trial 1 with value: -0.929279.\n"
     ]
    },
    {
     "name": "stderr",
     "output_type": "stream",
     "text": [
      "[I 2025-03-17 18:06:08,406] Trial 2 finished with value: -0.951941 and parameters: {'max_depth': 3, 'min_child_weight': 243, 'subsample': 0.8491983767203796, 'colsample_bynode': 0.29110519961044856, 'learning_rate': 0.003095566460242371}. Best is trial 2 with value: -0.951941.\n"
     ]
    },
    {
     "name": "stderr",
     "output_type": "stream",
     "text": [
      "[I 2025-03-17 18:06:28,466] Trial 3 finished with value: -0.956348 and parameters: {'max_depth': 6, 'min_child_weight': 77, 'subsample': 0.5722807884690141, 'colsample_bynode': 0.48875051677790415, 'learning_rate': 0.006109683510122491}. Best is trial 3 with value: -0.956348.\n"
     ]
    },
    {
     "name": "stderr",
     "output_type": "stream",
     "text": [
      "[I 2025-03-17 18:06:52,042] Trial 4 finished with value: -0.928275 and parameters: {'max_depth': 14, 'min_child_weight': 35, 'subsample': 0.3629301836816964, 'colsample_bynode': 0.4297256589643226, 'learning_rate': 0.01701841881702917}. Best is trial 3 with value: -0.956348.\n"
     ]
    },
    {
     "name": "stderr",
     "output_type": "stream",
     "text": [
      "[I 2025-03-17 18:06:57,151] Trial 5 pruned. Trial was pruned at iteration 0.\n"
     ]
    },
    {
     "name": "stderr",
     "output_type": "stream",
     "text": [
      "[I 2025-03-17 18:07:02,308] Trial 6 pruned. Trial was pruned at iteration 0.\n"
     ]
    },
    {
     "name": "stderr",
     "output_type": "stream",
     "text": [
      "[I 2025-03-17 18:07:07,894] Trial 7 pruned. Trial was pruned at iteration 0.\n"
     ]
    },
    {
     "name": "stderr",
     "output_type": "stream",
     "text": [
      "[I 2025-03-17 18:07:21,654] Trial 8 finished with value: -0.942854 and parameters: {'max_depth': 5, 'min_child_weight': 124, 'subsample': 0.13094966900369656, 'colsample_bynode': 0.9183883618709039, 'learning_rate': 0.004993895014755658}. Best is trial 3 with value: -0.956348.\n"
     ]
    },
    {
     "name": "stderr",
     "output_type": "stream",
     "text": [
      "[I 2025-03-17 18:07:26,480] Trial 9 pruned. Trial was pruned at iteration 0.\n"
     ]
    },
    {
     "name": "stderr",
     "output_type": "stream",
     "text": [
      "[I 2025-03-17 18:07:41,944] Trial 10 finished with value: -0.935369 and parameters: {'max_depth': 9, 'min_child_weight': 175, 'subsample': 0.3934770373863712, 'colsample_bynode': 0.11616568805333755, 'learning_rate': 0.05936863612059868}. Best is trial 3 with value: -0.956348.\n"
     ]
    },
    {
     "name": "stderr",
     "output_type": "stream",
     "text": [
      "[I 2025-03-17 18:07:46,612] Trial 11 pruned. Trial was pruned at iteration 0.\n"
     ]
    },
    {
     "name": "stderr",
     "output_type": "stream",
     "text": [
      "[I 2025-03-17 18:07:51,317] Trial 12 pruned. Trial was pruned at iteration 0.\n"
     ]
    },
    {
     "name": "stderr",
     "output_type": "stream",
     "text": [
      "[I 2025-03-17 18:07:56,352] Trial 13 pruned. Trial was pruned at iteration 0.\n"
     ]
    },
    {
     "name": "stderr",
     "output_type": "stream",
     "text": [
      "[I 2025-03-17 18:08:01,182] Trial 14 pruned. Trial was pruned at iteration 0.\n"
     ]
    },
    {
     "name": "stderr",
     "output_type": "stream",
     "text": [
      "[I 2025-03-17 18:08:19,923] Trial 15 finished with value: -0.962232 and parameters: {'max_depth': 20, 'min_child_weight': 95, 'subsample': 0.8596277498621194, 'colsample_bynode': 0.30986981968828464, 'learning_rate': 0.0010192954097714155}. Best is trial 15 with value: -0.962232.\n"
     ]
    },
    {
     "name": "stderr",
     "output_type": "stream",
     "text": [
      "[I 2025-03-17 18:08:25,640] Trial 16 pruned. Trial was pruned at iteration 0.\n"
     ]
    },
    {
     "name": "stderr",
     "output_type": "stream",
     "text": [
      "[I 2025-03-17 18:08:32,493] Trial 17 pruned. Trial was pruned at iteration 0.\n"
     ]
    },
    {
     "name": "stderr",
     "output_type": "stream",
     "text": [
      "[I 2025-03-17 18:08:46,596] Trial 18 finished with value: -0.928089 and parameters: {'max_depth': 20, 'min_child_weight': 145, 'subsample': 0.32659423546818367, 'colsample_bynode': 0.3260964370931865, 'learning_rate': 0.011068263180723993}. Best is trial 15 with value: -0.962232.\n"
     ]
    },
    {
     "name": "stderr",
     "output_type": "stream",
     "text": [
      "[I 2025-03-17 18:09:04,517] Trial 19 finished with value: -0.95061 and parameters: {'max_depth': 17, 'min_child_weight': 10, 'subsample': 0.6526297610734701, 'colsample_bynode': 0.10989027031939402, 'learning_rate': 0.032415714928975305}. Best is trial 15 with value: -0.962232.\n"
     ]
    },
    {
     "name": "stderr",
     "output_type": "stream",
     "text": [
      "[I 2025-03-17 18:09:17,673] Trial 20 finished with value: -0.94333 and parameters: {'max_depth': 11, 'min_child_weight': 66, 'subsample': 0.8437913194237572, 'colsample_bynode': 0.4989946781795043, 'learning_rate': 0.002323631633633812}. Best is trial 15 with value: -0.962232.\n"
     ]
    },
    {
     "name": "stderr",
     "output_type": "stream",
     "text": [
      "[I 2025-03-17 18:09:24,847] Trial 21 pruned. Trial was pruned at iteration 0.\n"
     ]
    },
    {
     "name": "stderr",
     "output_type": "stream",
     "text": [
      "[I 2025-03-17 18:09:31,019] Trial 22 pruned. Trial was pruned at iteration 0.\n"
     ]
    },
    {
     "name": "stderr",
     "output_type": "stream",
     "text": [
      "[I 2025-03-17 18:09:36,792] Trial 23 pruned. Trial was pruned at iteration 0.\n"
     ]
    },
    {
     "name": "stderr",
     "output_type": "stream",
     "text": [
      "[I 2025-03-17 18:10:00,470] Trial 24 finished with value: -0.954033 and parameters: {'max_depth': 3, 'min_child_weight': 114, 'subsample': 0.6483428414536604, 'colsample_bynode': 0.5063724170620459, 'learning_rate': 0.0020236485192166418}. Best is trial 15 with value: -0.962232.\n"
     ]
    },
    {
     "name": "stderr",
     "output_type": "stream",
     "text": [
      "[I 2025-03-17 18:10:06,923] Trial 25 pruned. Trial was pruned at iteration 0.\n"
     ]
    },
    {
     "name": "stderr",
     "output_type": "stream",
     "text": [
      "[I 2025-03-17 18:10:13,406] Trial 26 pruned. Trial was pruned at iteration 0.\n"
     ]
    },
    {
     "name": "stderr",
     "output_type": "stream",
     "text": [
      "[I 2025-03-17 18:10:20,408] Trial 27 pruned. Trial was pruned at iteration 0.\n"
     ]
    },
    {
     "name": "stderr",
     "output_type": "stream",
     "text": [
      "[I 2025-03-17 18:10:36,986] Trial 28 finished with value: -0.957796 and parameters: {'max_depth': 18, 'min_child_weight': 104, 'subsample': 0.606384098103085, 'colsample_bynode': 0.5296633125849325, 'learning_rate': 0.002150233290631128}. Best is trial 15 with value: -0.962232.\n"
     ]
    },
    {
     "name": "stderr",
     "output_type": "stream",
     "text": [
      "[I 2025-03-17 18:10:43,572] Trial 29 pruned. Trial was pruned at iteration 0.\n"
     ]
    },
    {
     "name": "stderr",
     "output_type": "stream",
     "text": [
      "[I 2025-03-17 18:10:49,590] Trial 30 pruned. Trial was pruned at iteration 0.\n"
     ]
    },
    {
     "name": "stderr",
     "output_type": "stream",
     "text": [
      "[I 2025-03-17 18:10:55,951] Trial 31 pruned. Trial was pruned at iteration 0.\n"
     ]
    },
    {
     "name": "stderr",
     "output_type": "stream",
     "text": [
      "[I 2025-03-17 18:11:03,396] Trial 32 pruned. Trial was pruned at iteration 0.\n"
     ]
    },
    {
     "name": "stderr",
     "output_type": "stream",
     "text": [
      "[I 2025-03-17 18:11:10,747] Trial 33 pruned. Trial was pruned at iteration 3.\n"
     ]
    },
    {
     "name": "stderr",
     "output_type": "stream",
     "text": [
      "[I 2025-03-17 18:11:16,377] Trial 34 pruned. Trial was pruned at iteration 0.\n"
     ]
    },
    {
     "name": "stderr",
     "output_type": "stream",
     "text": [
      "[I 2025-03-17 18:11:22,099] Trial 35 pruned. Trial was pruned at iteration 0.\n"
     ]
    },
    {
     "name": "stderr",
     "output_type": "stream",
     "text": [
      "[I 2025-03-17 18:11:28,420] Trial 36 pruned. Trial was pruned at iteration 0.\n"
     ]
    },
    {
     "name": "stderr",
     "output_type": "stream",
     "text": [
      "[I 2025-03-17 18:11:35,876] Trial 37 pruned. Trial was pruned at iteration 3.\n"
     ]
    },
    {
     "name": "stderr",
     "output_type": "stream",
     "text": [
      "[I 2025-03-17 18:11:41,613] Trial 38 pruned. Trial was pruned at iteration 0.\n"
     ]
    },
    {
     "name": "stderr",
     "output_type": "stream",
     "text": [
      "[I 2025-03-17 18:11:53,528] Trial 39 finished with value: -0.940563 and parameters: {'max_depth': 15, 'min_child_weight': 68, 'subsample': 0.8976463868822455, 'colsample_bynode': 0.5248113781852969, 'learning_rate': 0.022553777724440588}. Best is trial 15 with value: -0.962232.\n"
     ]
    },
    {
     "name": "stderr",
     "output_type": "stream",
     "text": [
      "[I 2025-03-17 18:11:58,924] Trial 40 pruned. Trial was pruned at iteration 0.\n"
     ]
    },
    {
     "name": "stderr",
     "output_type": "stream",
     "text": [
      "[I 2025-03-17 18:12:04,685] Trial 41 pruned. Trial was pruned at iteration 0.\n"
     ]
    },
    {
     "name": "stderr",
     "output_type": "stream",
     "text": [
      "[I 2025-03-17 18:12:11,427] Trial 42 pruned. Trial was pruned at iteration 0.\n"
     ]
    },
    {
     "name": "stderr",
     "output_type": "stream",
     "text": [
      "[I 2025-03-17 18:12:18,478] Trial 43 pruned. Trial was pruned at iteration 0.\n"
     ]
    },
    {
     "name": "stderr",
     "output_type": "stream",
     "text": [
      "[I 2025-03-17 18:12:25,132] Trial 44 pruned. Trial was pruned at iteration 0.\n"
     ]
    },
    {
     "name": "stderr",
     "output_type": "stream",
     "text": [
      "[I 2025-03-17 18:12:37,739] Trial 45 finished with value: -0.94012 and parameters: {'max_depth': 5, 'min_child_weight': 161, 'subsample': 0.688028150129823, 'colsample_bynode': 0.600756628714161, 'learning_rate': 0.1376308023434923}. Best is trial 15 with value: -0.962232.\n"
     ]
    },
    {
     "name": "stderr",
     "output_type": "stream",
     "text": [
      "[I 2025-03-17 18:12:44,579] Trial 46 pruned. Trial was pruned at iteration 0.\n"
     ]
    },
    {
     "name": "stderr",
     "output_type": "stream",
     "text": [
      "[I 2025-03-17 18:12:51,123] Trial 47 pruned. Trial was pruned at iteration 0.\n"
     ]
    },
    {
     "name": "stderr",
     "output_type": "stream",
     "text": [
      "[I 2025-03-17 18:13:04,167] Trial 48 finished with value: -0.948495 and parameters: {'max_depth': 20, 'min_child_weight': 133, 'subsample': 0.871701088702414, 'colsample_bynode': 0.477237602212902, 'learning_rate': 0.49469492483715705}. Best is trial 15 with value: -0.962232.\n"
     ]
    },
    {
     "name": "stderr",
     "output_type": "stream",
     "text": [
      "[I 2025-03-17 18:13:10,800] Trial 49 pruned. Trial was pruned at iteration 0.\n"
     ]
    }
   ],
   "source": [
    "sampler = optuna.samplers.TPESampler(seed=42)\n",
    "study = optuna.create_study(direction='minimize', sampler=sampler)\n",
    "wandb_kwargs = {\"project\": \"xgboost\", \"name\": f\"{RUN_NAME}{CELL_TYPE}\"}\n",
    "wandbc = optuna.integration.WeightsAndBiasesCallback(wandb_kwargs=wandb_kwargs)\n",
    "study.optimize(objective, n_trials=N_TRIALS, callbacks=[wandbc], gc_after_trial=True)"
   ]
  },
  {
   "cell_type": "code",
   "execution_count": 22,
   "id": "94088229",
   "metadata": {
    "execution": {
     "iopub.execute_input": "2025-03-17T18:13:11.157120Z",
     "iopub.status.busy": "2025-03-17T18:13:11.156655Z",
     "iopub.status.idle": "2025-03-17T18:13:11.198133Z",
     "shell.execute_reply": "2025-03-17T18:13:11.197718Z"
    },
    "papermill": {
     "duration": 0.060912,
     "end_time": "2025-03-17T18:13:11.206407",
     "exception": false,
     "start_time": "2025-03-17T18:13:11.145495",
     "status": "completed"
    },
    "tags": []
   },
   "outputs": [
    {
     "data": {
      "text/plain": [
       "['/scratch_isilon/groups/singlecell/shared/projects/Inflammation-PBMCs-Atlas/03_downstream_analysis/08_gene_importance/results/targetY_studyID/03_xgboost/study/studyID_T_CD8_NonNaive_xgboost.pkl']"
      ]
     },
     "execution_count": 22,
     "metadata": {},
     "output_type": "execute_result"
    }
   ],
   "source": [
    "os.makedirs(here(f\"03_downstream_analysis/08_gene_importance/results/targetY_{target_y}/03_xgboost/study/\"), exist_ok=True)\n",
    "\n",
    "joblib.dump(study, here(f'03_downstream_analysis/08_gene_importance/results/targetY_{target_y}/03_xgboost/study/{RUN_NAME}{CELL_TYPE}_xgboost.pkl'))"
   ]
  },
  {
   "cell_type": "code",
   "execution_count": 23,
   "id": "799dea1f",
   "metadata": {
    "execution": {
     "iopub.execute_input": "2025-03-17T18:13:11.248493Z",
     "iopub.status.busy": "2025-03-17T18:13:11.248283Z",
     "iopub.status.idle": "2025-03-17T18:13:15.324310Z",
     "shell.execute_reply": "2025-03-17T18:13:15.323739Z"
    },
    "papermill": {
     "duration": 4.099898,
     "end_time": "2025-03-17T18:13:15.326477",
     "exception": false,
     "start_time": "2025-03-17T18:13:11.226579",
     "status": "completed"
    },
    "tags": []
   },
   "outputs": [],
   "source": [
    "os.makedirs(here(f\"03_downstream_analysis/08_gene_importance/results/targetY_{target_y}/03_xgboost/parallel_coordinate/\"), exist_ok=True)\n",
    "\n",
    "fig = optuna.visualization.plot_parallel_coordinate(study)\n",
    "fig.write_image(here(f'03_downstream_analysis/08_gene_importance/results/targetY_{target_y}/03_xgboost/parallel_coordinate/{RUN_NAME}{CELL_TYPE}_pcoord.pdf'))"
   ]
  },
  {
   "cell_type": "code",
   "execution_count": 24,
   "id": "81f42589",
   "metadata": {
    "editable": true,
    "execution": {
     "iopub.execute_input": "2025-03-17T18:13:15.352866Z",
     "iopub.status.busy": "2025-03-17T18:13:15.351467Z",
     "iopub.status.idle": "2025-03-17T18:13:28.175861Z",
     "shell.execute_reply": "2025-03-17T18:13:28.175433Z"
    },
    "papermill": {
     "duration": 12.837535,
     "end_time": "2025-03-17T18:13:28.177403",
     "exception": false,
     "start_time": "2025-03-17T18:13:15.339868",
     "status": "completed"
    },
    "scrolled": true,
    "slideshow": {
     "slide_type": ""
    },
    "tags": []
   },
   "outputs": [
    {
     "name": "stdout",
     "output_type": "stream",
     "text": [
      "[0]\tvalidation_0-mlogloss:2.76526\tvalidation_0-custom_f1_score:-0.95140\n"
     ]
    },
    {
     "name": "stdout",
     "output_type": "stream",
     "text": [
      "[1]\tvalidation_0-mlogloss:2.75806\tvalidation_0-custom_f1_score:-0.94773\n"
     ]
    },
    {
     "name": "stdout",
     "output_type": "stream",
     "text": [
      "[2]\tvalidation_0-mlogloss:2.75101\tvalidation_0-custom_f1_score:-0.95383\n"
     ]
    },
    {
     "name": "stdout",
     "output_type": "stream",
     "text": [
      "[3]\tvalidation_0-mlogloss:2.74388\tvalidation_0-custom_f1_score:-0.96407\n"
     ]
    },
    {
     "name": "stdout",
     "output_type": "stream",
     "text": [
      "[4]\tvalidation_0-mlogloss:2.73697\tvalidation_0-custom_f1_score:-0.96314\n"
     ]
    },
    {
     "name": "stdout",
     "output_type": "stream",
     "text": [
      "[5]\tvalidation_0-mlogloss:2.72996\tvalidation_0-custom_f1_score:-0.96073\n"
     ]
    },
    {
     "name": "stdout",
     "output_type": "stream",
     "text": [
      "[6]\tvalidation_0-mlogloss:2.72292\tvalidation_0-custom_f1_score:-0.96526\n"
     ]
    },
    {
     "data": {
      "text/html": [
       "<style>#sk-container-id-1 {\n",
       "  /* Definition of color scheme common for light and dark mode */\n",
       "  --sklearn-color-text: black;\n",
       "  --sklearn-color-line: gray;\n",
       "  /* Definition of color scheme for unfitted estimators */\n",
       "  --sklearn-color-unfitted-level-0: #fff5e6;\n",
       "  --sklearn-color-unfitted-level-1: #f6e4d2;\n",
       "  --sklearn-color-unfitted-level-2: #ffe0b3;\n",
       "  --sklearn-color-unfitted-level-3: chocolate;\n",
       "  /* Definition of color scheme for fitted estimators */\n",
       "  --sklearn-color-fitted-level-0: #f0f8ff;\n",
       "  --sklearn-color-fitted-level-1: #d4ebff;\n",
       "  --sklearn-color-fitted-level-2: #b3dbfd;\n",
       "  --sklearn-color-fitted-level-3: cornflowerblue;\n",
       "\n",
       "  /* Specific color for light theme */\n",
       "  --sklearn-color-text-on-default-background: var(--sg-text-color, var(--theme-code-foreground, var(--jp-content-font-color1, black)));\n",
       "  --sklearn-color-background: var(--sg-background-color, var(--theme-background, var(--jp-layout-color0, white)));\n",
       "  --sklearn-color-border-box: var(--sg-text-color, var(--theme-code-foreground, var(--jp-content-font-color1, black)));\n",
       "  --sklearn-color-icon: #696969;\n",
       "\n",
       "  @media (prefers-color-scheme: dark) {\n",
       "    /* Redefinition of color scheme for dark theme */\n",
       "    --sklearn-color-text-on-default-background: var(--sg-text-color, var(--theme-code-foreground, var(--jp-content-font-color1, white)));\n",
       "    --sklearn-color-background: var(--sg-background-color, var(--theme-background, var(--jp-layout-color0, #111)));\n",
       "    --sklearn-color-border-box: var(--sg-text-color, var(--theme-code-foreground, var(--jp-content-font-color1, white)));\n",
       "    --sklearn-color-icon: #878787;\n",
       "  }\n",
       "}\n",
       "\n",
       "#sk-container-id-1 {\n",
       "  color: var(--sklearn-color-text);\n",
       "}\n",
       "\n",
       "#sk-container-id-1 pre {\n",
       "  padding: 0;\n",
       "}\n",
       "\n",
       "#sk-container-id-1 input.sk-hidden--visually {\n",
       "  border: 0;\n",
       "  clip: rect(1px 1px 1px 1px);\n",
       "  clip: rect(1px, 1px, 1px, 1px);\n",
       "  height: 1px;\n",
       "  margin: -1px;\n",
       "  overflow: hidden;\n",
       "  padding: 0;\n",
       "  position: absolute;\n",
       "  width: 1px;\n",
       "}\n",
       "\n",
       "#sk-container-id-1 div.sk-dashed-wrapped {\n",
       "  border: 1px dashed var(--sklearn-color-line);\n",
       "  margin: 0 0.4em 0.5em 0.4em;\n",
       "  box-sizing: border-box;\n",
       "  padding-bottom: 0.4em;\n",
       "  background-color: var(--sklearn-color-background);\n",
       "}\n",
       "\n",
       "#sk-container-id-1 div.sk-container {\n",
       "  /* jupyter's `normalize.less` sets `[hidden] { display: none; }`\n",
       "     but bootstrap.min.css set `[hidden] { display: none !important; }`\n",
       "     so we also need the `!important` here to be able to override the\n",
       "     default hidden behavior on the sphinx rendered scikit-learn.org.\n",
       "     See: https://github.com/scikit-learn/scikit-learn/issues/21755 */\n",
       "  display: inline-block !important;\n",
       "  position: relative;\n",
       "}\n",
       "\n",
       "#sk-container-id-1 div.sk-text-repr-fallback {\n",
       "  display: none;\n",
       "}\n",
       "\n",
       "div.sk-parallel-item,\n",
       "div.sk-serial,\n",
       "div.sk-item {\n",
       "  /* draw centered vertical line to link estimators */\n",
       "  background-image: linear-gradient(var(--sklearn-color-text-on-default-background), var(--sklearn-color-text-on-default-background));\n",
       "  background-size: 2px 100%;\n",
       "  background-repeat: no-repeat;\n",
       "  background-position: center center;\n",
       "}\n",
       "\n",
       "/* Parallel-specific style estimator block */\n",
       "\n",
       "#sk-container-id-1 div.sk-parallel-item::after {\n",
       "  content: \"\";\n",
       "  width: 100%;\n",
       "  border-bottom: 2px solid var(--sklearn-color-text-on-default-background);\n",
       "  flex-grow: 1;\n",
       "}\n",
       "\n",
       "#sk-container-id-1 div.sk-parallel {\n",
       "  display: flex;\n",
       "  align-items: stretch;\n",
       "  justify-content: center;\n",
       "  background-color: var(--sklearn-color-background);\n",
       "  position: relative;\n",
       "}\n",
       "\n",
       "#sk-container-id-1 div.sk-parallel-item {\n",
       "  display: flex;\n",
       "  flex-direction: column;\n",
       "}\n",
       "\n",
       "#sk-container-id-1 div.sk-parallel-item:first-child::after {\n",
       "  align-self: flex-end;\n",
       "  width: 50%;\n",
       "}\n",
       "\n",
       "#sk-container-id-1 div.sk-parallel-item:last-child::after {\n",
       "  align-self: flex-start;\n",
       "  width: 50%;\n",
       "}\n",
       "\n",
       "#sk-container-id-1 div.sk-parallel-item:only-child::after {\n",
       "  width: 0;\n",
       "}\n",
       "\n",
       "/* Serial-specific style estimator block */\n",
       "\n",
       "#sk-container-id-1 div.sk-serial {\n",
       "  display: flex;\n",
       "  flex-direction: column;\n",
       "  align-items: center;\n",
       "  background-color: var(--sklearn-color-background);\n",
       "  padding-right: 1em;\n",
       "  padding-left: 1em;\n",
       "}\n",
       "\n",
       "\n",
       "/* Toggleable style: style used for estimator/Pipeline/ColumnTransformer box that is\n",
       "clickable and can be expanded/collapsed.\n",
       "- Pipeline and ColumnTransformer use this feature and define the default style\n",
       "- Estimators will overwrite some part of the style using the `sk-estimator` class\n",
       "*/\n",
       "\n",
       "/* Pipeline and ColumnTransformer style (default) */\n",
       "\n",
       "#sk-container-id-1 div.sk-toggleable {\n",
       "  /* Default theme specific background. It is overwritten whether we have a\n",
       "  specific estimator or a Pipeline/ColumnTransformer */\n",
       "  background-color: var(--sklearn-color-background);\n",
       "}\n",
       "\n",
       "/* Toggleable label */\n",
       "#sk-container-id-1 label.sk-toggleable__label {\n",
       "  cursor: pointer;\n",
       "  display: block;\n",
       "  width: 100%;\n",
       "  margin-bottom: 0;\n",
       "  padding: 0.5em;\n",
       "  box-sizing: border-box;\n",
       "  text-align: center;\n",
       "}\n",
       "\n",
       "#sk-container-id-1 label.sk-toggleable__label-arrow:before {\n",
       "  /* Arrow on the left of the label */\n",
       "  content: \"▸\";\n",
       "  float: left;\n",
       "  margin-right: 0.25em;\n",
       "  color: var(--sklearn-color-icon);\n",
       "}\n",
       "\n",
       "#sk-container-id-1 label.sk-toggleable__label-arrow:hover:before {\n",
       "  color: var(--sklearn-color-text);\n",
       "}\n",
       "\n",
       "/* Toggleable content - dropdown */\n",
       "\n",
       "#sk-container-id-1 div.sk-toggleable__content {\n",
       "  max-height: 0;\n",
       "  max-width: 0;\n",
       "  overflow: hidden;\n",
       "  text-align: left;\n",
       "  /* unfitted */\n",
       "  background-color: var(--sklearn-color-unfitted-level-0);\n",
       "}\n",
       "\n",
       "#sk-container-id-1 div.sk-toggleable__content.fitted {\n",
       "  /* fitted */\n",
       "  background-color: var(--sklearn-color-fitted-level-0);\n",
       "}\n",
       "\n",
       "#sk-container-id-1 div.sk-toggleable__content pre {\n",
       "  margin: 0.2em;\n",
       "  border-radius: 0.25em;\n",
       "  color: var(--sklearn-color-text);\n",
       "  /* unfitted */\n",
       "  background-color: var(--sklearn-color-unfitted-level-0);\n",
       "}\n",
       "\n",
       "#sk-container-id-1 div.sk-toggleable__content.fitted pre {\n",
       "  /* unfitted */\n",
       "  background-color: var(--sklearn-color-fitted-level-0);\n",
       "}\n",
       "\n",
       "#sk-container-id-1 input.sk-toggleable__control:checked~div.sk-toggleable__content {\n",
       "  /* Expand drop-down */\n",
       "  max-height: 200px;\n",
       "  max-width: 100%;\n",
       "  overflow: auto;\n",
       "}\n",
       "\n",
       "#sk-container-id-1 input.sk-toggleable__control:checked~label.sk-toggleable__label-arrow:before {\n",
       "  content: \"▾\";\n",
       "}\n",
       "\n",
       "/* Pipeline/ColumnTransformer-specific style */\n",
       "\n",
       "#sk-container-id-1 div.sk-label input.sk-toggleable__control:checked~label.sk-toggleable__label {\n",
       "  color: var(--sklearn-color-text);\n",
       "  background-color: var(--sklearn-color-unfitted-level-2);\n",
       "}\n",
       "\n",
       "#sk-container-id-1 div.sk-label.fitted input.sk-toggleable__control:checked~label.sk-toggleable__label {\n",
       "  background-color: var(--sklearn-color-fitted-level-2);\n",
       "}\n",
       "\n",
       "/* Estimator-specific style */\n",
       "\n",
       "/* Colorize estimator box */\n",
       "#sk-container-id-1 div.sk-estimator input.sk-toggleable__control:checked~label.sk-toggleable__label {\n",
       "  /* unfitted */\n",
       "  background-color: var(--sklearn-color-unfitted-level-2);\n",
       "}\n",
       "\n",
       "#sk-container-id-1 div.sk-estimator.fitted input.sk-toggleable__control:checked~label.sk-toggleable__label {\n",
       "  /* fitted */\n",
       "  background-color: var(--sklearn-color-fitted-level-2);\n",
       "}\n",
       "\n",
       "#sk-container-id-1 div.sk-label label.sk-toggleable__label,\n",
       "#sk-container-id-1 div.sk-label label {\n",
       "  /* The background is the default theme color */\n",
       "  color: var(--sklearn-color-text-on-default-background);\n",
       "}\n",
       "\n",
       "/* On hover, darken the color of the background */\n",
       "#sk-container-id-1 div.sk-label:hover label.sk-toggleable__label {\n",
       "  color: var(--sklearn-color-text);\n",
       "  background-color: var(--sklearn-color-unfitted-level-2);\n",
       "}\n",
       "\n",
       "/* Label box, darken color on hover, fitted */\n",
       "#sk-container-id-1 div.sk-label.fitted:hover label.sk-toggleable__label.fitted {\n",
       "  color: var(--sklearn-color-text);\n",
       "  background-color: var(--sklearn-color-fitted-level-2);\n",
       "}\n",
       "\n",
       "/* Estimator label */\n",
       "\n",
       "#sk-container-id-1 div.sk-label label {\n",
       "  font-family: monospace;\n",
       "  font-weight: bold;\n",
       "  display: inline-block;\n",
       "  line-height: 1.2em;\n",
       "}\n",
       "\n",
       "#sk-container-id-1 div.sk-label-container {\n",
       "  text-align: center;\n",
       "}\n",
       "\n",
       "/* Estimator-specific */\n",
       "#sk-container-id-1 div.sk-estimator {\n",
       "  font-family: monospace;\n",
       "  border: 1px dotted var(--sklearn-color-border-box);\n",
       "  border-radius: 0.25em;\n",
       "  box-sizing: border-box;\n",
       "  margin-bottom: 0.5em;\n",
       "  /* unfitted */\n",
       "  background-color: var(--sklearn-color-unfitted-level-0);\n",
       "}\n",
       "\n",
       "#sk-container-id-1 div.sk-estimator.fitted {\n",
       "  /* fitted */\n",
       "  background-color: var(--sklearn-color-fitted-level-0);\n",
       "}\n",
       "\n",
       "/* on hover */\n",
       "#sk-container-id-1 div.sk-estimator:hover {\n",
       "  /* unfitted */\n",
       "  background-color: var(--sklearn-color-unfitted-level-2);\n",
       "}\n",
       "\n",
       "#sk-container-id-1 div.sk-estimator.fitted:hover {\n",
       "  /* fitted */\n",
       "  background-color: var(--sklearn-color-fitted-level-2);\n",
       "}\n",
       "\n",
       "/* Specification for estimator info (e.g. \"i\" and \"?\") */\n",
       "\n",
       "/* Common style for \"i\" and \"?\" */\n",
       "\n",
       ".sk-estimator-doc-link,\n",
       "a:link.sk-estimator-doc-link,\n",
       "a:visited.sk-estimator-doc-link {\n",
       "  float: right;\n",
       "  font-size: smaller;\n",
       "  line-height: 1em;\n",
       "  font-family: monospace;\n",
       "  background-color: var(--sklearn-color-background);\n",
       "  border-radius: 1em;\n",
       "  height: 1em;\n",
       "  width: 1em;\n",
       "  text-decoration: none !important;\n",
       "  margin-left: 1ex;\n",
       "  /* unfitted */\n",
       "  border: var(--sklearn-color-unfitted-level-1) 1pt solid;\n",
       "  color: var(--sklearn-color-unfitted-level-1);\n",
       "}\n",
       "\n",
       ".sk-estimator-doc-link.fitted,\n",
       "a:link.sk-estimator-doc-link.fitted,\n",
       "a:visited.sk-estimator-doc-link.fitted {\n",
       "  /* fitted */\n",
       "  border: var(--sklearn-color-fitted-level-1) 1pt solid;\n",
       "  color: var(--sklearn-color-fitted-level-1);\n",
       "}\n",
       "\n",
       "/* On hover */\n",
       "div.sk-estimator:hover .sk-estimator-doc-link:hover,\n",
       ".sk-estimator-doc-link:hover,\n",
       "div.sk-label-container:hover .sk-estimator-doc-link:hover,\n",
       ".sk-estimator-doc-link:hover {\n",
       "  /* unfitted */\n",
       "  background-color: var(--sklearn-color-unfitted-level-3);\n",
       "  color: var(--sklearn-color-background);\n",
       "  text-decoration: none;\n",
       "}\n",
       "\n",
       "div.sk-estimator.fitted:hover .sk-estimator-doc-link.fitted:hover,\n",
       ".sk-estimator-doc-link.fitted:hover,\n",
       "div.sk-label-container:hover .sk-estimator-doc-link.fitted:hover,\n",
       ".sk-estimator-doc-link.fitted:hover {\n",
       "  /* fitted */\n",
       "  background-color: var(--sklearn-color-fitted-level-3);\n",
       "  color: var(--sklearn-color-background);\n",
       "  text-decoration: none;\n",
       "}\n",
       "\n",
       "/* Span, style for the box shown on hovering the info icon */\n",
       ".sk-estimator-doc-link span {\n",
       "  display: none;\n",
       "  z-index: 9999;\n",
       "  position: relative;\n",
       "  font-weight: normal;\n",
       "  right: .2ex;\n",
       "  padding: .5ex;\n",
       "  margin: .5ex;\n",
       "  width: min-content;\n",
       "  min-width: 20ex;\n",
       "  max-width: 50ex;\n",
       "  color: var(--sklearn-color-text);\n",
       "  box-shadow: 2pt 2pt 4pt #999;\n",
       "  /* unfitted */\n",
       "  background: var(--sklearn-color-unfitted-level-0);\n",
       "  border: .5pt solid var(--sklearn-color-unfitted-level-3);\n",
       "}\n",
       "\n",
       ".sk-estimator-doc-link.fitted span {\n",
       "  /* fitted */\n",
       "  background: var(--sklearn-color-fitted-level-0);\n",
       "  border: var(--sklearn-color-fitted-level-3);\n",
       "}\n",
       "\n",
       ".sk-estimator-doc-link:hover span {\n",
       "  display: block;\n",
       "}\n",
       "\n",
       "/* \"?\"-specific style due to the `<a>` HTML tag */\n",
       "\n",
       "#sk-container-id-1 a.estimator_doc_link {\n",
       "  float: right;\n",
       "  font-size: 1rem;\n",
       "  line-height: 1em;\n",
       "  font-family: monospace;\n",
       "  background-color: var(--sklearn-color-background);\n",
       "  border-radius: 1rem;\n",
       "  height: 1rem;\n",
       "  width: 1rem;\n",
       "  text-decoration: none;\n",
       "  /* unfitted */\n",
       "  color: var(--sklearn-color-unfitted-level-1);\n",
       "  border: var(--sklearn-color-unfitted-level-1) 1pt solid;\n",
       "}\n",
       "\n",
       "#sk-container-id-1 a.estimator_doc_link.fitted {\n",
       "  /* fitted */\n",
       "  border: var(--sklearn-color-fitted-level-1) 1pt solid;\n",
       "  color: var(--sklearn-color-fitted-level-1);\n",
       "}\n",
       "\n",
       "/* On hover */\n",
       "#sk-container-id-1 a.estimator_doc_link:hover {\n",
       "  /* unfitted */\n",
       "  background-color: var(--sklearn-color-unfitted-level-3);\n",
       "  color: var(--sklearn-color-background);\n",
       "  text-decoration: none;\n",
       "}\n",
       "\n",
       "#sk-container-id-1 a.estimator_doc_link.fitted:hover {\n",
       "  /* fitted */\n",
       "  background-color: var(--sklearn-color-fitted-level-3);\n",
       "}\n",
       "</style><div id=\"sk-container-id-1\" class=\"sk-top-container\"><div class=\"sk-text-repr-fallback\"><pre>XGBClassifier(base_score=None, booster=None, callbacks=None,\n",
       "              colsample_bylevel=None, colsample_bynode=0.30986981968828464,\n",
       "              colsample_bytree=None, device=&#x27;gpu&#x27;, early_stopping_rounds=None,\n",
       "              enable_categorical=False,\n",
       "              eval_metric=&lt;function custom_f1_score at 0x73b92589e480&gt;,\n",
       "              feature_types=None, gamma=None, grow_policy=None,\n",
       "              importance_type=None, interaction_constraints=None,\n",
       "              learning_rate=0.0010192954097714155, max_bin=None,\n",
       "              max_cat_threshold=None, max_cat_to_onehot=None,\n",
       "              max_delta_step=None, max_depth=20, max_leaves=None,\n",
       "              min_child_weight=95, missing=nan, monotone_constraints=None,\n",
       "              multi_strategy=None, n_estimators=7, n_jobs=None,\n",
       "              num_parallel_tree=None, objective=&#x27;multi:softprob&#x27;, ...)</pre><b>In a Jupyter environment, please rerun this cell to show the HTML representation or trust the notebook. <br />On GitHub, the HTML representation is unable to render, please try loading this page with nbviewer.org.</b></div><div class=\"sk-container\" hidden><div class=\"sk-item\"><div class=\"sk-estimator fitted sk-toggleable\"><input class=\"sk-toggleable__control sk-hidden--visually\" id=\"sk-estimator-id-1\" type=\"checkbox\" checked><label for=\"sk-estimator-id-1\" class=\"sk-toggleable__label fitted sk-toggleable__label-arrow fitted\">&nbsp;XGBClassifier<span class=\"sk-estimator-doc-link fitted\">i<span>Fitted</span></span></label><div class=\"sk-toggleable__content fitted\"><pre>XGBClassifier(base_score=None, booster=None, callbacks=None,\n",
       "              colsample_bylevel=None, colsample_bynode=0.30986981968828464,\n",
       "              colsample_bytree=None, device=&#x27;gpu&#x27;, early_stopping_rounds=None,\n",
       "              enable_categorical=False,\n",
       "              eval_metric=&lt;function custom_f1_score at 0x73b92589e480&gt;,\n",
       "              feature_types=None, gamma=None, grow_policy=None,\n",
       "              importance_type=None, interaction_constraints=None,\n",
       "              learning_rate=0.0010192954097714155, max_bin=None,\n",
       "              max_cat_threshold=None, max_cat_to_onehot=None,\n",
       "              max_delta_step=None, max_depth=20, max_leaves=None,\n",
       "              min_child_weight=95, missing=nan, monotone_constraints=None,\n",
       "              multi_strategy=None, n_estimators=7, n_jobs=None,\n",
       "              num_parallel_tree=None, objective=&#x27;multi:softprob&#x27;, ...)</pre></div> </div></div></div></div>"
      ],
      "text/plain": [
       "XGBClassifier(base_score=None, booster=None, callbacks=None,\n",
       "              colsample_bylevel=None, colsample_bynode=0.30986981968828464,\n",
       "              colsample_bytree=None, device='gpu', early_stopping_rounds=None,\n",
       "              enable_categorical=False,\n",
       "              eval_metric=<function custom_f1_score at 0x73b92589e480>,\n",
       "              feature_types=None, gamma=None, grow_policy=None,\n",
       "              importance_type=None, interaction_constraints=None,\n",
       "              learning_rate=0.0010192954097714155, max_bin=None,\n",
       "              max_cat_threshold=None, max_cat_to_onehot=None,\n",
       "              max_delta_step=None, max_depth=20, max_leaves=None,\n",
       "              min_child_weight=95, missing=nan, monotone_constraints=None,\n",
       "              multi_strategy=None, n_estimators=7, n_jobs=None,\n",
       "              num_parallel_tree=None, objective='multi:softprob', ...)"
      ]
     },
     "execution_count": 24,
     "metadata": {},
     "output_type": "execute_result"
    }
   ],
   "source": [
    "n_estimators = int(study.best_trial.user_attrs['best_iteration']*1.2)\n",
    "xgb = xgboost.XGBClassifier(\n",
    "        device='gpu',\n",
    "        eval_metric=eval_metric,\n",
    "        n_estimators=n_estimators,\n",
    "        **study.best_trial.params\n",
    "    )\n",
    "xgb.fit(\n",
    "    ssp.vstack((X_train, X_val)), \n",
    "    np.concatenate((y_train_enc, y_val_enc)), \n",
    "    eval_set=[(X_test, y_test_enc)],\n",
    "    verbose=1,\n",
    ")"
   ]
  },
  {
   "cell_type": "code",
   "execution_count": 25,
   "id": "5edfc37b",
   "metadata": {
    "editable": true,
    "execution": {
     "iopub.execute_input": "2025-03-17T18:13:28.206809Z",
     "iopub.status.busy": "2025-03-17T18:13:28.206403Z",
     "iopub.status.idle": "2025-03-17T18:13:28.229634Z",
     "shell.execute_reply": "2025-03-17T18:13:28.229042Z"
    },
    "papermill": {
     "duration": 0.035574,
     "end_time": "2025-03-17T18:13:28.230632",
     "exception": false,
     "start_time": "2025-03-17T18:13:28.195058",
     "status": "completed"
    },
    "slideshow": {
     "slide_type": ""
    },
    "tags": []
   },
   "outputs": [
    {
     "data": {
      "text/plain": [
       "['/scratch_isilon/groups/singlecell/shared/projects/Inflammation-PBMCs-Atlas/03_downstream_analysis/08_gene_importance/results/targetY_studyID/03_xgboost/best_model/studyID_T_CD8_NonNaive_xgb.json']"
      ]
     },
     "execution_count": 25,
     "metadata": {},
     "output_type": "execute_result"
    }
   ],
   "source": [
    "os.makedirs(here(f\"03_downstream_analysis/08_gene_importance/results/targetY_{target_y}/03_xgboost/best_model/\"), exist_ok=True)\n",
    "\n",
    "joblib.dump(xgb, (here(f'03_downstream_analysis/08_gene_importance/results/targetY_{target_y}/03_xgboost/best_model/{RUN_NAME}{CELL_TYPE}_xgb.json')))"
   ]
  },
  {
   "cell_type": "code",
   "execution_count": 26,
   "id": "cad5edc0",
   "metadata": {
    "execution": {
     "iopub.execute_input": "2025-03-17T18:13:28.253817Z",
     "iopub.status.busy": "2025-03-17T18:13:28.253636Z",
     "iopub.status.idle": "2025-03-17T18:13:32.138063Z",
     "shell.execute_reply": "2025-03-17T18:13:32.137407Z"
    },
    "papermill": {
     "duration": 3.897183,
     "end_time": "2025-03-17T18:13:32.140132",
     "exception": false,
     "start_time": "2025-03-17T18:13:28.242949",
     "status": "completed"
    },
    "tags": []
   },
   "outputs": [
    {
     "name": "stderr",
     "output_type": "stream",
     "text": [
      "/scratch_isilon/groups/singlecell/shared/conda_env/xgboostGPU/lib/python3.12/site-packages/xgboost/core.py:160: UserWarning:\n",
      "\n",
      "[18:13:28] WARNING: /home/conda/feedstock_root/build_artifacts/xgboost-split_1703076482591/work/src/common/error_msg.cc:58: Falling back to prediction using DMatrix due to mismatched devices. This might lead to higher memory usage and slower performance. XGBoost is running on: cuda:0, while the input data is on: cpu.\n",
      "Potential solutions:\n",
      "- Use a data structure that matches the device ordinal in the booster.\n",
      "- Set the device for booster before call to inplace_predict.\n",
      "\n",
      "This warning will only be shown once.\n",
      "\n",
      "\n"
     ]
    }
   ],
   "source": [
    "os.makedirs(here(f\"03_downstream_analysis/08_gene_importance/results/targetY_{target_y}/03_xgboost/predictions/\"), exist_ok=True)\n",
    "\n",
    "(pd.DataFrame(np.array((y_test, y_test_enc, xgb.predict(X_test))).T, columns=['y_true', 'y_true_code', 'y_pred'])\n",
    " .to_csv(here(f'03_downstream_analysis/08_gene_importance/results/targetY_{target_y}/03_xgboost/predictions/{RUN_NAME}{CELL_TYPE}_pred_test.zip')))\n",
    "(pd.DataFrame(np.array((y_train, y_train_enc, xgb.predict(X_train))).T, columns=['y_true', 'y_true_code', 'y_pred'])\n",
    " .to_csv(here(f'03_downstream_analysis/08_gene_importance/results/targetY_{target_y}/03_xgboost/predictions/{RUN_NAME}{CELL_TYPE}_pred_train.zip')))"
   ]
  },
  {
   "cell_type": "code",
   "execution_count": null,
   "id": "503aee68",
   "metadata": {
    "papermill": {
     "duration": 0.019028,
     "end_time": "2025-03-17T18:13:32.187060",
     "exception": false,
     "start_time": "2025-03-17T18:13:32.168032",
     "status": "completed"
    },
    "tags": []
   },
   "outputs": [],
   "source": []
  }
 ],
 "metadata": {
  "kernelspec": {
   "display_name": "Python 3 (ipykernel)",
   "language": "python",
   "name": "python3"
  },
  "language_info": {
   "codemirror_mode": {
    "name": "ipython",
    "version": 3
   },
   "file_extension": ".py",
   "mimetype": "text/x-python",
   "name": "python",
   "nbconvert_exporter": "python",
   "pygments_lexer": "ipython3",
   "version": "3.12.9"
  },
  "papermill": {
   "default_parameters": {},
   "duration": 589.354953,
   "end_time": "2025-03-17T18:13:35.219514",
   "environment_variables": {},
   "exception": null,
   "input_path": "02_studyID_xgboost_fitting.ipynb",
   "output_path": "executed_notebooks/02_studyID_xgboost_fitting_T_CD8_NonNaive.ipynb",
   "parameters": {
    "CELL_TYPE": "T_CD8_NonNaive"
   },
   "start_time": "2025-03-17T18:03:45.864561",
   "version": "2.6.0"
  }
 },
 "nbformat": 4,
 "nbformat_minor": 5
}