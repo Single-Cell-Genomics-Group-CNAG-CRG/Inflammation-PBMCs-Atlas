{
 "cells": [
  {
   "cell_type": "code",
   "execution_count": 1,
   "id": "2aaf5d84",
   "metadata": {
    "editable": true,
    "execution": {
     "iopub.execute_input": "2025-03-17T23:27:47.730799Z",
     "iopub.status.busy": "2025-03-17T23:27:47.730013Z",
     "iopub.status.idle": "2025-03-17T23:27:47.736195Z",
     "shell.execute_reply": "2025-03-17T23:27:47.735312Z"
    },
    "papermill": {
     "duration": 0.02436,
     "end_time": "2025-03-17T23:27:47.738356",
     "exception": false,
     "start_time": "2025-03-17T23:27:47.713996",
     "status": "completed"
    },
    "slideshow": {
     "slide_type": ""
    },
    "tags": [
     "parameters"
    ]
   },
   "outputs": [],
   "source": [
    "CELL_TYPE = 'DC'\n",
    "N_SPLITS: int = 5\n",
    "N_TRIALS: int = 50\n",
    "RUN_NAME: str = \"studyID\""
   ]
  },
  {
   "cell_type": "code",
   "execution_count": 2,
   "id": "799c5d7c",
   "metadata": {
    "execution": {
     "iopub.execute_input": "2025-03-17T23:27:47.760993Z",
     "iopub.status.busy": "2025-03-17T23:27:47.760111Z",
     "iopub.status.idle": "2025-03-17T23:27:47.764998Z",
     "shell.execute_reply": "2025-03-17T23:27:47.764112Z"
    },
    "papermill": {
     "duration": 0.015279,
     "end_time": "2025-03-17T23:27:47.766065",
     "exception": false,
     "start_time": "2025-03-17T23:27:47.750786",
     "status": "completed"
    },
    "tags": [
     "injected-parameters"
    ]
   },
   "outputs": [],
   "source": [
    "# Parameters\n",
    "CELL_TYPE = \"ILC\"\n"
   ]
  },
  {
   "cell_type": "code",
   "execution_count": 3,
   "id": "59d8a600",
   "metadata": {
    "editable": true,
    "execution": {
     "iopub.execute_input": "2025-03-17T23:27:47.779942Z",
     "iopub.status.busy": "2025-03-17T23:27:47.779105Z",
     "iopub.status.idle": "2025-03-17T23:27:47.783895Z",
     "shell.execute_reply": "2025-03-17T23:27:47.783057Z"
    },
    "papermill": {
     "duration": 0.011938,
     "end_time": "2025-03-17T23:27:47.784705",
     "exception": false,
     "start_time": "2025-03-17T23:27:47.772767",
     "status": "completed"
    },
    "slideshow": {
     "slide_type": ""
    },
    "tags": []
   },
   "outputs": [],
   "source": [
    "if RUN_NAME != \"\":\n",
    "    RUN_NAME = RUN_NAME + \"_\""
   ]
  },
  {
   "cell_type": "code",
   "execution_count": 4,
   "id": "71670c18",
   "metadata": {
    "editable": true,
    "execution": {
     "iopub.execute_input": "2025-03-17T23:27:47.798254Z",
     "iopub.status.busy": "2025-03-17T23:27:47.797736Z",
     "iopub.status.idle": "2025-03-17T23:27:54.393044Z",
     "shell.execute_reply": "2025-03-17T23:27:54.391841Z"
    },
    "papermill": {
     "duration": 6.603917,
     "end_time": "2025-03-17T23:27:54.395059",
     "exception": false,
     "start_time": "2025-03-17T23:27:47.791142",
     "status": "completed"
    },
    "slideshow": {
     "slide_type": ""
    },
    "tags": []
   },
   "outputs": [],
   "source": [
    "import os\n",
    "import sys\n",
    "#from pyprojroot.here import here\n",
    "\n",
    "import pandas as pd\n",
    "import anndata as ad\n",
    "import numpy as np\n",
    "import math\n",
    "from sklearn.model_selection import StratifiedGroupKFold\n",
    "from sklearn.preprocessing import LabelEncoder\n",
    "from sklearn.metrics import f1_score\n",
    "import matplotlib.pyplot as plt\n",
    "import seaborn as sns\n",
    "from itertools import product\n",
    "\n",
    "import optuna\n",
    "\n",
    "import joblib\n",
    "import pickle\n",
    "import datetime\n",
    "\n",
    "import collections\n",
    "\n",
    "import xgboost\n",
    "from sklearn.preprocessing import LabelEncoder\n",
    "\n",
    "import scipy.sparse as ssp\n",
    "import joblib\n",
    "\n",
    "from pyprojroot import here\n",
    "\n",
    "from dotenv import load_dotenv"
   ]
  },
  {
   "cell_type": "code",
   "execution_count": 5,
   "id": "c354bc28",
   "metadata": {
    "execution": {
     "iopub.execute_input": "2025-03-17T23:27:54.410725Z",
     "iopub.status.busy": "2025-03-17T23:27:54.409111Z",
     "iopub.status.idle": "2025-03-17T23:27:54.418161Z",
     "shell.execute_reply": "2025-03-17T23:27:54.417123Z"
    },
    "papermill": {
     "duration": 0.017616,
     "end_time": "2025-03-17T23:27:54.419289",
     "exception": false,
     "start_time": "2025-03-17T23:27:54.401673",
     "status": "completed"
    },
    "tags": []
   },
   "outputs": [],
   "source": [
    "assert load_dotenv()"
   ]
  },
  {
   "cell_type": "markdown",
   "id": "5cbed7d7",
   "metadata": {
    "execution": {
     "iopub.execute_input": "2025-03-17T14:39:30.205388Z",
     "iopub.status.busy": "2025-03-17T14:39:30.204197Z",
     "iopub.status.idle": "2025-03-17T14:39:30.210586Z",
     "shell.execute_reply": "2025-03-17T14:39:30.209317Z",
     "shell.execute_reply.started": "2025-03-17T14:39:30.205342Z"
    },
    "papermill": {
     "duration": 0.00664,
     "end_time": "2025-03-17T23:27:54.432286",
     "exception": false,
     "start_time": "2025-03-17T23:27:54.425646",
     "status": "completed"
    },
    "tags": []
   },
   "source": [
    "def here(fpath):\n",
    "    return os.path.join(BUCKET_DIRPATH, fpath)"
   ]
  },
  {
   "cell_type": "code",
   "execution_count": 6,
   "id": "90969266",
   "metadata": {
    "execution": {
     "iopub.execute_input": "2025-03-17T23:27:54.445988Z",
     "iopub.status.busy": "2025-03-17T23:27:54.445057Z",
     "iopub.status.idle": "2025-03-17T23:27:54.450465Z",
     "shell.execute_reply": "2025-03-17T23:27:54.449258Z"
    },
    "papermill": {
     "duration": 0.014021,
     "end_time": "2025-03-17T23:27:54.451532",
     "exception": false,
     "start_time": "2025-03-17T23:27:54.437511",
     "status": "completed"
    },
    "tags": []
   },
   "outputs": [],
   "source": [
    "target_y = 'studyID'"
   ]
  },
  {
   "cell_type": "markdown",
   "id": "630f2c2d",
   "metadata": {
    "papermill": {
     "duration": 0.005278,
     "end_time": "2025-03-17T23:27:54.462909",
     "exception": false,
     "start_time": "2025-03-17T23:27:54.457631",
     "status": "completed"
    },
    "tags": []
   },
   "source": [
    "# LOAD DATASET"
   ]
  },
  {
   "cell_type": "code",
   "execution_count": 7,
   "id": "1c9c2f7b",
   "metadata": {
    "execution": {
     "iopub.execute_input": "2025-03-17T23:27:54.505867Z",
     "iopub.status.busy": "2025-03-17T23:27:54.505234Z",
     "iopub.status.idle": "2025-03-17T23:27:57.127502Z",
     "shell.execute_reply": "2025-03-17T23:27:57.126984Z"
    },
    "papermill": {
     "duration": 2.636522,
     "end_time": "2025-03-17T23:27:57.131130",
     "exception": false,
     "start_time": "2025-03-17T23:27:54.494608",
     "status": "completed"
    },
    "tags": []
   },
   "outputs": [],
   "source": [
    "adata = ad.read_h5ad(\n",
    "    str(here(f'03_downstream_analysis/08_gene_importance/data/{CELL_TYPE}_adataMerged_SPECTRAgenes.log1p.h5ad')),\n",
    "    backed='r',\n",
    "    chunk_size=25000\n",
    ")"
   ]
  },
  {
   "cell_type": "code",
   "execution_count": 8,
   "id": "fc7e1f19",
   "metadata": {
    "execution": {
     "iopub.execute_input": "2025-03-17T23:27:57.160945Z",
     "iopub.status.busy": "2025-03-17T23:27:57.160717Z",
     "iopub.status.idle": "2025-03-17T23:27:57.193971Z",
     "shell.execute_reply": "2025-03-17T23:27:57.193564Z"
    },
    "papermill": {
     "duration": 0.05015,
     "end_time": "2025-03-17T23:27:57.194666",
     "exception": false,
     "start_time": "2025-03-17T23:27:57.144516",
     "status": "completed"
    },
    "tags": []
   },
   "outputs": [
    {
     "data": {
      "text/html": [
       "<div>\n",
       "<style scoped>\n",
       "    .dataframe tbody tr th:only-of-type {\n",
       "        vertical-align: middle;\n",
       "    }\n",
       "\n",
       "    .dataframe tbody tr th {\n",
       "        vertical-align: top;\n",
       "    }\n",
       "\n",
       "    .dataframe thead th {\n",
       "        text-align: right;\n",
       "    }\n",
       "</style>\n",
       "<table border=\"1\" class=\"dataframe\">\n",
       "  <thead>\n",
       "    <tr style=\"text-align: right;\">\n",
       "      <th></th>\n",
       "      <th>studyID</th>\n",
       "      <th>libraryID</th>\n",
       "      <th>sampleID</th>\n",
       "      <th>chemistry</th>\n",
       "      <th>disease</th>\n",
       "      <th>sex</th>\n",
       "      <th>binned_age</th>\n",
       "      <th>Level1</th>\n",
       "      <th>Level2</th>\n",
       "    </tr>\n",
       "    <tr>\n",
       "      <th>cellID</th>\n",
       "      <th></th>\n",
       "      <th></th>\n",
       "      <th></th>\n",
       "      <th></th>\n",
       "      <th></th>\n",
       "      <th></th>\n",
       "      <th></th>\n",
       "      <th></th>\n",
       "      <th></th>\n",
       "    </tr>\n",
       "  </thead>\n",
       "  <tbody>\n",
       "    <tr>\n",
       "      <th>Cillo2020_L029_HNSCC7_T0_AAACGGGAGGCTAGAC</th>\n",
       "      <td>Cillo2020</td>\n",
       "      <td>Cillo2020_L029</td>\n",
       "      <td>Cillo2020_HNSCC7_T0</td>\n",
       "      <td>3_GEX_V2</td>\n",
       "      <td>HNSCC</td>\n",
       "      <td>male</td>\n",
       "      <td>71-80</td>\n",
       "      <td>ILC</td>\n",
       "      <td>NK_CD56dimCD16</td>\n",
       "    </tr>\n",
       "    <tr>\n",
       "      <th>Cillo2020_L029_HNSCC7_T0_AAACGGGGTGAAGGCT</th>\n",
       "      <td>Cillo2020</td>\n",
       "      <td>Cillo2020_L029</td>\n",
       "      <td>Cillo2020_HNSCC7_T0</td>\n",
       "      <td>3_GEX_V2</td>\n",
       "      <td>HNSCC</td>\n",
       "      <td>male</td>\n",
       "      <td>71-80</td>\n",
       "      <td>ILC</td>\n",
       "      <td>NK_CD56dimCD16</td>\n",
       "    </tr>\n",
       "    <tr>\n",
       "      <th>Cillo2020_L029_HNSCC7_T0_AAACGGGGTGTGGTTT</th>\n",
       "      <td>Cillo2020</td>\n",
       "      <td>Cillo2020_L029</td>\n",
       "      <td>Cillo2020_HNSCC7_T0</td>\n",
       "      <td>3_GEX_V2</td>\n",
       "      <td>HNSCC</td>\n",
       "      <td>male</td>\n",
       "      <td>71-80</td>\n",
       "      <td>ILC</td>\n",
       "      <td>NK_CD56dimCD16</td>\n",
       "    </tr>\n",
       "    <tr>\n",
       "      <th>Cillo2020_L029_HNSCC7_T0_AAATGCCCACGGTGTC</th>\n",
       "      <td>Cillo2020</td>\n",
       "      <td>Cillo2020_L029</td>\n",
       "      <td>Cillo2020_HNSCC7_T0</td>\n",
       "      <td>3_GEX_V2</td>\n",
       "      <td>HNSCC</td>\n",
       "      <td>male</td>\n",
       "      <td>71-80</td>\n",
       "      <td>ILC</td>\n",
       "      <td>NK_lowRibocontent</td>\n",
       "    </tr>\n",
       "    <tr>\n",
       "      <th>Cillo2020_L029_HNSCC7_T0_AACCGCGGTGACGCCT</th>\n",
       "      <td>Cillo2020</td>\n",
       "      <td>Cillo2020_L029</td>\n",
       "      <td>Cillo2020_HNSCC7_T0</td>\n",
       "      <td>3_GEX_V2</td>\n",
       "      <td>HNSCC</td>\n",
       "      <td>male</td>\n",
       "      <td>71-80</td>\n",
       "      <td>ILC</td>\n",
       "      <td>NK_CD56dimCD16</td>\n",
       "    </tr>\n",
       "    <tr>\n",
       "      <th>...</th>\n",
       "      <td>...</td>\n",
       "      <td>...</td>\n",
       "      <td>...</td>\n",
       "      <td>...</td>\n",
       "      <td>...</td>\n",
       "      <td>...</td>\n",
       "      <td>...</td>\n",
       "      <td>...</td>\n",
       "      <td>...</td>\n",
       "    </tr>\n",
       "    <tr>\n",
       "      <th>Ren2021_L059_PS046_T0_TTTATGCCAGACGCCT</th>\n",
       "      <td>Ren2021</td>\n",
       "      <td>Ren2021_L059</td>\n",
       "      <td>Ren2021_PS046_T0</td>\n",
       "      <td>5_GEX_V2</td>\n",
       "      <td>COVID</td>\n",
       "      <td>male</td>\n",
       "      <td>&gt;80</td>\n",
       "      <td>ILC</td>\n",
       "      <td>NK_CD56dimCD16</td>\n",
       "    </tr>\n",
       "    <tr>\n",
       "      <th>Ren2021_L059_PS046_T0_TTTCCTCAGGAATCGC</th>\n",
       "      <td>Ren2021</td>\n",
       "      <td>Ren2021_L059</td>\n",
       "      <td>Ren2021_PS046_T0</td>\n",
       "      <td>5_GEX_V2</td>\n",
       "      <td>COVID</td>\n",
       "      <td>male</td>\n",
       "      <td>&gt;80</td>\n",
       "      <td>ILC</td>\n",
       "      <td>NK_lowRibocontent</td>\n",
       "    </tr>\n",
       "    <tr>\n",
       "      <th>Ren2021_L059_PS046_T0_TTTCCTCAGGCCCGTT</th>\n",
       "      <td>Ren2021</td>\n",
       "      <td>Ren2021_L059</td>\n",
       "      <td>Ren2021_PS046_T0</td>\n",
       "      <td>5_GEX_V2</td>\n",
       "      <td>COVID</td>\n",
       "      <td>male</td>\n",
       "      <td>&gt;80</td>\n",
       "      <td>ILC</td>\n",
       "      <td>NK_lowRibocontent</td>\n",
       "    </tr>\n",
       "    <tr>\n",
       "      <th>Ren2021_L059_PS046_T0_TTTGCGCCATATGAGA</th>\n",
       "      <td>Ren2021</td>\n",
       "      <td>Ren2021_L059</td>\n",
       "      <td>Ren2021_PS046_T0</td>\n",
       "      <td>5_GEX_V2</td>\n",
       "      <td>COVID</td>\n",
       "      <td>male</td>\n",
       "      <td>&gt;80</td>\n",
       "      <td>ILC</td>\n",
       "      <td>NK_IFN1response</td>\n",
       "    </tr>\n",
       "    <tr>\n",
       "      <th>Ren2021_L059_PS046_T0_TTTGCGCGTCGACTGC</th>\n",
       "      <td>Ren2021</td>\n",
       "      <td>Ren2021_L059</td>\n",
       "      <td>Ren2021_PS046_T0</td>\n",
       "      <td>5_GEX_V2</td>\n",
       "      <td>COVID</td>\n",
       "      <td>male</td>\n",
       "      <td>&gt;80</td>\n",
       "      <td>ILC</td>\n",
       "      <td>NK_IFN1response</td>\n",
       "    </tr>\n",
       "  </tbody>\n",
       "</table>\n",
       "<p>376885 rows × 9 columns</p>\n",
       "</div>"
      ],
      "text/plain": [
       "                                             studyID       libraryID  \\\n",
       "cellID                                                                 \n",
       "Cillo2020_L029_HNSCC7_T0_AAACGGGAGGCTAGAC  Cillo2020  Cillo2020_L029   \n",
       "Cillo2020_L029_HNSCC7_T0_AAACGGGGTGAAGGCT  Cillo2020  Cillo2020_L029   \n",
       "Cillo2020_L029_HNSCC7_T0_AAACGGGGTGTGGTTT  Cillo2020  Cillo2020_L029   \n",
       "Cillo2020_L029_HNSCC7_T0_AAATGCCCACGGTGTC  Cillo2020  Cillo2020_L029   \n",
       "Cillo2020_L029_HNSCC7_T0_AACCGCGGTGACGCCT  Cillo2020  Cillo2020_L029   \n",
       "...                                              ...             ...   \n",
       "Ren2021_L059_PS046_T0_TTTATGCCAGACGCCT       Ren2021    Ren2021_L059   \n",
       "Ren2021_L059_PS046_T0_TTTCCTCAGGAATCGC       Ren2021    Ren2021_L059   \n",
       "Ren2021_L059_PS046_T0_TTTCCTCAGGCCCGTT       Ren2021    Ren2021_L059   \n",
       "Ren2021_L059_PS046_T0_TTTGCGCCATATGAGA       Ren2021    Ren2021_L059   \n",
       "Ren2021_L059_PS046_T0_TTTGCGCGTCGACTGC       Ren2021    Ren2021_L059   \n",
       "\n",
       "                                                      sampleID chemistry  \\\n",
       "cellID                                                                     \n",
       "Cillo2020_L029_HNSCC7_T0_AAACGGGAGGCTAGAC  Cillo2020_HNSCC7_T0  3_GEX_V2   \n",
       "Cillo2020_L029_HNSCC7_T0_AAACGGGGTGAAGGCT  Cillo2020_HNSCC7_T0  3_GEX_V2   \n",
       "Cillo2020_L029_HNSCC7_T0_AAACGGGGTGTGGTTT  Cillo2020_HNSCC7_T0  3_GEX_V2   \n",
       "Cillo2020_L029_HNSCC7_T0_AAATGCCCACGGTGTC  Cillo2020_HNSCC7_T0  3_GEX_V2   \n",
       "Cillo2020_L029_HNSCC7_T0_AACCGCGGTGACGCCT  Cillo2020_HNSCC7_T0  3_GEX_V2   \n",
       "...                                                        ...       ...   \n",
       "Ren2021_L059_PS046_T0_TTTATGCCAGACGCCT        Ren2021_PS046_T0  5_GEX_V2   \n",
       "Ren2021_L059_PS046_T0_TTTCCTCAGGAATCGC        Ren2021_PS046_T0  5_GEX_V2   \n",
       "Ren2021_L059_PS046_T0_TTTCCTCAGGCCCGTT        Ren2021_PS046_T0  5_GEX_V2   \n",
       "Ren2021_L059_PS046_T0_TTTGCGCCATATGAGA        Ren2021_PS046_T0  5_GEX_V2   \n",
       "Ren2021_L059_PS046_T0_TTTGCGCGTCGACTGC        Ren2021_PS046_T0  5_GEX_V2   \n",
       "\n",
       "                                          disease   sex binned_age Level1  \\\n",
       "cellID                                                                      \n",
       "Cillo2020_L029_HNSCC7_T0_AAACGGGAGGCTAGAC   HNSCC  male      71-80    ILC   \n",
       "Cillo2020_L029_HNSCC7_T0_AAACGGGGTGAAGGCT   HNSCC  male      71-80    ILC   \n",
       "Cillo2020_L029_HNSCC7_T0_AAACGGGGTGTGGTTT   HNSCC  male      71-80    ILC   \n",
       "Cillo2020_L029_HNSCC7_T0_AAATGCCCACGGTGTC   HNSCC  male      71-80    ILC   \n",
       "Cillo2020_L029_HNSCC7_T0_AACCGCGGTGACGCCT   HNSCC  male      71-80    ILC   \n",
       "...                                           ...   ...        ...    ...   \n",
       "Ren2021_L059_PS046_T0_TTTATGCCAGACGCCT      COVID  male        >80    ILC   \n",
       "Ren2021_L059_PS046_T0_TTTCCTCAGGAATCGC      COVID  male        >80    ILC   \n",
       "Ren2021_L059_PS046_T0_TTTCCTCAGGCCCGTT      COVID  male        >80    ILC   \n",
       "Ren2021_L059_PS046_T0_TTTGCGCCATATGAGA      COVID  male        >80    ILC   \n",
       "Ren2021_L059_PS046_T0_TTTGCGCGTCGACTGC      COVID  male        >80    ILC   \n",
       "\n",
       "                                                      Level2  \n",
       "cellID                                                        \n",
       "Cillo2020_L029_HNSCC7_T0_AAACGGGAGGCTAGAC     NK_CD56dimCD16  \n",
       "Cillo2020_L029_HNSCC7_T0_AAACGGGGTGAAGGCT     NK_CD56dimCD16  \n",
       "Cillo2020_L029_HNSCC7_T0_AAACGGGGTGTGGTTT     NK_CD56dimCD16  \n",
       "Cillo2020_L029_HNSCC7_T0_AAATGCCCACGGTGTC  NK_lowRibocontent  \n",
       "Cillo2020_L029_HNSCC7_T0_AACCGCGGTGACGCCT     NK_CD56dimCD16  \n",
       "...                                                      ...  \n",
       "Ren2021_L059_PS046_T0_TTTATGCCAGACGCCT        NK_CD56dimCD16  \n",
       "Ren2021_L059_PS046_T0_TTTCCTCAGGAATCGC     NK_lowRibocontent  \n",
       "Ren2021_L059_PS046_T0_TTTCCTCAGGCCCGTT     NK_lowRibocontent  \n",
       "Ren2021_L059_PS046_T0_TTTGCGCCATATGAGA       NK_IFN1response  \n",
       "Ren2021_L059_PS046_T0_TTTGCGCGTCGACTGC       NK_IFN1response  \n",
       "\n",
       "[376885 rows x 9 columns]"
      ]
     },
     "execution_count": 8,
     "metadata": {},
     "output_type": "execute_result"
    }
   ],
   "source": [
    "adata.obs"
   ]
  },
  {
   "cell_type": "markdown",
   "id": "f55194d8",
   "metadata": {
    "papermill": {
     "duration": 0.007041,
     "end_time": "2025-03-17T23:27:57.216316",
     "exception": false,
     "start_time": "2025-03-17T23:27:57.209275",
     "status": "completed"
    },
    "tags": []
   },
   "source": [
    "# EXTRACT INDEXES FOR DATA SPLITTING (STRATIFIED BY DISEASE, GROUPED BY PATIENT)\n",
    "\n",
    "# EXTRACT CELL COUNTS PER SPLIT (TO MAKE SURE THAT RATIOS RESEMBLE 70:20:10)"
   ]
  },
  {
   "cell_type": "code",
   "execution_count": 9,
   "id": "4395aa92",
   "metadata": {
    "execution": {
     "iopub.execute_input": "2025-03-17T23:27:57.230225Z",
     "iopub.status.busy": "2025-03-17T23:27:57.229902Z",
     "iopub.status.idle": "2025-03-17T23:27:59.326735Z",
     "shell.execute_reply": "2025-03-17T23:27:59.323379Z"
    },
    "papermill": {
     "duration": 2.109387,
     "end_time": "2025-03-17T23:27:59.331171",
     "exception": false,
     "start_time": "2025-03-17T23:27:57.221784",
     "status": "completed"
    },
    "tags": []
   },
   "outputs": [],
   "source": [
    "all_idxs = np.arange(adata.obs.shape[0])\n",
    "left_out_splits = [s[1] for s in StratifiedGroupKFold(n_splits=N_SPLITS).split(all_idxs, adata.obs[target_y], adata.obs.sampleID)]\n",
    "\n",
    "min_stats = []\n",
    "for val_fold_idx, test_fold_idx in product(range(N_SPLITS), range(1,N_SPLITS)):\n",
    "    if val_fold_idx == test_fold_idx:\n",
    "        continue\n",
    "\n",
    "    all_idxs = np.arange(adata.obs.shape[0])\n",
    "    val_idxs, test_idxs = left_out_splits[val_fold_idx], left_out_splits[test_fold_idx]\n",
    "    train_idxs = np.delete(all_idxs, np.union1d(val_idxs, test_idxs))\n",
    "\n",
    "    cell_count_df = []\n",
    "    cell_count_df.append(adata.obs.iloc[train_idxs].groupby(target_y, observed=False).size().to_frame(name='cell_count').reset_index().assign(split='train'))\n",
    "    cell_count_df.append(adata.obs.iloc[val_idxs].groupby(target_y, observed=False).size().to_frame(name='cell_count').reset_index().assign(split='val'))\n",
    "    cell_count_df.append(adata.obs.iloc[test_idxs].groupby(target_y, observed=False).size().to_frame(name='cell_count').reset_index().assign(split='test'))\n",
    "    cell_count_df = pd.concat(cell_count_df).pivot(index=target_y, columns='split', values='cell_count')\n",
    "    cell_plot_data = cell_count_df.div(cell_count_df.sum(axis=1), axis=0).reset_index().melt(id_vars=target_y)\n",
    "    min_stats.append((val_fold_idx, test_fold_idx, cell_plot_data.query('split==\"train\"').value.min(), cell_plot_data.query('split==\"test\"').value.min()))"
   ]
  },
  {
   "cell_type": "markdown",
   "id": "af32b44f",
   "metadata": {
    "papermill": {
     "duration": 0.015389,
     "end_time": "2025-03-17T23:27:59.360481",
     "exception": false,
     "start_time": "2025-03-17T23:27:59.345092",
     "status": "completed"
    },
    "tags": []
   },
   "source": [
    "# CALCULATE RATIOS OF PATIENTS IN TRAINING AND TESTING SET: splits that best fit the expected ratios"
   ]
  },
  {
   "cell_type": "code",
   "execution_count": 10,
   "id": "c6d2e2da",
   "metadata": {
    "execution": {
     "iopub.execute_input": "2025-03-17T23:27:59.418661Z",
     "iopub.status.busy": "2025-03-17T23:27:59.418181Z",
     "iopub.status.idle": "2025-03-17T23:27:59.433911Z",
     "shell.execute_reply": "2025-03-17T23:27:59.433036Z"
    },
    "papermill": {
     "duration": 0.06161,
     "end_time": "2025-03-17T23:27:59.437139",
     "exception": false,
     "start_time": "2025-03-17T23:27:59.375529",
     "status": "completed"
    },
    "tags": []
   },
   "outputs": [
    {
     "data": {
      "text/html": [
       "<div>\n",
       "<style scoped>\n",
       "    .dataframe tbody tr th:only-of-type {\n",
       "        vertical-align: middle;\n",
       "    }\n",
       "\n",
       "    .dataframe tbody tr th {\n",
       "        vertical-align: top;\n",
       "    }\n",
       "\n",
       "    .dataframe thead th {\n",
       "        text-align: right;\n",
       "    }\n",
       "</style>\n",
       "<table border=\"1\" class=\"dataframe\">\n",
       "  <thead>\n",
       "    <tr style=\"text-align: right;\">\n",
       "      <th></th>\n",
       "      <th>val_idx</th>\n",
       "      <th>test_idx</th>\n",
       "      <th>train_min</th>\n",
       "      <th>test_mean</th>\n",
       "      <th>ranking</th>\n",
       "    </tr>\n",
       "  </thead>\n",
       "  <tbody>\n",
       "    <tr>\n",
       "      <th>15</th>\n",
       "      <td>4</td>\n",
       "      <td>3</td>\n",
       "      <td>0.597453</td>\n",
       "      <td>0.697985</td>\n",
       "      <td>0.417013</td>\n",
       "    </tr>\n",
       "    <tr>\n",
       "      <th>13</th>\n",
       "      <td>4</td>\n",
       "      <td>1</td>\n",
       "      <td>0.679675</td>\n",
       "      <td>0.626625</td>\n",
       "      <td>0.425901</td>\n",
       "    </tr>\n",
       "    <tr>\n",
       "      <th>14</th>\n",
       "      <td>4</td>\n",
       "      <td>2</td>\n",
       "      <td>0.719875</td>\n",
       "      <td>0.631953</td>\n",
       "      <td>0.454927</td>\n",
       "    </tr>\n",
       "    <tr>\n",
       "      <th>1</th>\n",
       "      <td>0</td>\n",
       "      <td>2</td>\n",
       "      <td>0.790011</td>\n",
       "      <td>0.631953</td>\n",
       "      <td>0.499250</td>\n",
       "    </tr>\n",
       "    <tr>\n",
       "      <th>0</th>\n",
       "      <td>0</td>\n",
       "      <td>1</td>\n",
       "      <td>0.819159</td>\n",
       "      <td>0.626625</td>\n",
       "      <td>0.513306</td>\n",
       "    </tr>\n",
       "    <tr>\n",
       "      <th>2</th>\n",
       "      <td>0</td>\n",
       "      <td>3</td>\n",
       "      <td>0.772925</td>\n",
       "      <td>0.697985</td>\n",
       "      <td>0.539490</td>\n",
       "    </tr>\n",
       "    <tr>\n",
       "      <th>7</th>\n",
       "      <td>2</td>\n",
       "      <td>1</td>\n",
       "      <td>0.878831</td>\n",
       "      <td>0.626625</td>\n",
       "      <td>0.550697</td>\n",
       "    </tr>\n",
       "    <tr>\n",
       "      <th>4</th>\n",
       "      <td>1</td>\n",
       "      <td>2</td>\n",
       "      <td>0.878831</td>\n",
       "      <td>0.631953</td>\n",
       "      <td>0.555380</td>\n",
       "    </tr>\n",
       "    <tr>\n",
       "      <th>10</th>\n",
       "      <td>3</td>\n",
       "      <td>1</td>\n",
       "      <td>0.925284</td>\n",
       "      <td>0.626625</td>\n",
       "      <td>0.579806</td>\n",
       "    </tr>\n",
       "    <tr>\n",
       "      <th>12</th>\n",
       "      <td>3</td>\n",
       "      <td>4</td>\n",
       "      <td>0.597453</td>\n",
       "      <td>1.000000</td>\n",
       "      <td>0.597453</td>\n",
       "    </tr>\n",
       "    <tr>\n",
       "      <th>11</th>\n",
       "      <td>3</td>\n",
       "      <td>2</td>\n",
       "      <td>1.000000</td>\n",
       "      <td>0.631953</td>\n",
       "      <td>0.631953</td>\n",
       "    </tr>\n",
       "    <tr>\n",
       "      <th>5</th>\n",
       "      <td>1</td>\n",
       "      <td>3</td>\n",
       "      <td>0.925284</td>\n",
       "      <td>0.697985</td>\n",
       "      <td>0.645834</td>\n",
       "    </tr>\n",
       "    <tr>\n",
       "      <th>6</th>\n",
       "      <td>1</td>\n",
       "      <td>4</td>\n",
       "      <td>0.679675</td>\n",
       "      <td>1.000000</td>\n",
       "      <td>0.679675</td>\n",
       "    </tr>\n",
       "    <tr>\n",
       "      <th>8</th>\n",
       "      <td>2</td>\n",
       "      <td>3</td>\n",
       "      <td>1.000000</td>\n",
       "      <td>0.697985</td>\n",
       "      <td>0.697985</td>\n",
       "    </tr>\n",
       "    <tr>\n",
       "      <th>3</th>\n",
       "      <td>0</td>\n",
       "      <td>4</td>\n",
       "      <td>0.712430</td>\n",
       "      <td>1.000000</td>\n",
       "      <td>0.712430</td>\n",
       "    </tr>\n",
       "    <tr>\n",
       "      <th>9</th>\n",
       "      <td>2</td>\n",
       "      <td>4</td>\n",
       "      <td>0.719875</td>\n",
       "      <td>1.000000</td>\n",
       "      <td>0.719875</td>\n",
       "    </tr>\n",
       "  </tbody>\n",
       "</table>\n",
       "</div>"
      ],
      "text/plain": [
       "    val_idx  test_idx  train_min  test_mean   ranking\n",
       "15        4         3   0.597453   0.697985  0.417013\n",
       "13        4         1   0.679675   0.626625  0.425901\n",
       "14        4         2   0.719875   0.631953  0.454927\n",
       "1         0         2   0.790011   0.631953  0.499250\n",
       "0         0         1   0.819159   0.626625  0.513306\n",
       "2         0         3   0.772925   0.697985  0.539490\n",
       "7         2         1   0.878831   0.626625  0.550697\n",
       "4         1         2   0.878831   0.631953  0.555380\n",
       "10        3         1   0.925284   0.626625  0.579806\n",
       "12        3         4   0.597453   1.000000  0.597453\n",
       "11        3         2   1.000000   0.631953  0.631953\n",
       "5         1         3   0.925284   0.697985  0.645834\n",
       "6         1         4   0.679675   1.000000  0.679675\n",
       "8         2         3   1.000000   0.697985  0.697985\n",
       "3         0         4   0.712430   1.000000  0.712430\n",
       "9         2         4   0.719875   1.000000  0.719875"
      ]
     },
     "execution_count": 10,
     "metadata": {},
     "output_type": "execute_result"
    }
   ],
   "source": [
    "split_rankings_df = (pd.DataFrame(min_stats, columns=['val_idx', 'test_idx', 'train_min', 'test_mean'])\n",
    " .assign(train_min = lambda df: df.train_min / df.train_min.max())\n",
    " .assign(test_mean = lambda df: df.test_mean / df.test_mean.max())\n",
    " .assign(ranking = lambda df: df.test_mean * df.train_min)\n",
    " .sort_values('ranking'))\n",
    "split_rankings_df"
   ]
  },
  {
   "cell_type": "code",
   "execution_count": 11,
   "id": "9564995f",
   "metadata": {
    "execution": {
     "iopub.execute_input": "2025-03-17T23:27:59.467949Z",
     "iopub.status.busy": "2025-03-17T23:27:59.467456Z",
     "iopub.status.idle": "2025-03-17T23:27:59.486954Z",
     "shell.execute_reply": "2025-03-17T23:27:59.483125Z"
    },
    "papermill": {
     "duration": 0.041792,
     "end_time": "2025-03-17T23:27:59.491802",
     "exception": false,
     "start_time": "2025-03-17T23:27:59.450010",
     "status": "completed"
    },
    "tags": []
   },
   "outputs": [],
   "source": [
    "best_split = split_rankings_df.loc[split_rankings_df['ranking'].idxmax()]\n",
    "all_idxs = np.arange(adata.obs.shape[0])\n",
    "val_idxs, test_idxs = left_out_splits[best_split.val_idx.astype(int)], left_out_splits[best_split.test_idx.astype(int)]\n",
    "train_idxs = np.delete(all_idxs, np.union1d(val_idxs, test_idxs))"
   ]
  },
  {
   "cell_type": "markdown",
   "id": "443d0fc5",
   "metadata": {
    "papermill": {
     "duration": 0.028412,
     "end_time": "2025-03-17T23:27:59.538113",
     "exception": false,
     "start_time": "2025-03-17T23:27:59.509701",
     "status": "completed"
    },
    "tags": []
   },
   "source": [
    "### CHECK NUMBER OF CELLS PER SPLIT"
   ]
  },
  {
   "cell_type": "code",
   "execution_count": 12,
   "id": "a7f00096",
   "metadata": {
    "execution": {
     "iopub.execute_input": "2025-03-17T23:27:59.576517Z",
     "iopub.status.busy": "2025-03-17T23:27:59.575945Z",
     "iopub.status.idle": "2025-03-17T23:27:59.762808Z",
     "shell.execute_reply": "2025-03-17T23:27:59.759013Z"
    },
    "papermill": {
     "duration": 0.212188,
     "end_time": "2025-03-17T23:27:59.764519",
     "exception": false,
     "start_time": "2025-03-17T23:27:59.552331",
     "status": "completed"
    },
    "tags": []
   },
   "outputs": [],
   "source": [
    "cell_count_df = []\n",
    "cell_count_df.append(adata.obs.iloc[train_idxs].groupby(target_y, observed=False).size().to_frame(name='cell_count').reset_index().assign(split='train'))\n",
    "cell_count_df.append(adata.obs.iloc[val_idxs].groupby(target_y, observed=False).size().to_frame(name='cell_count').reset_index().assign(split='val'))\n",
    "cell_count_df.append(adata.obs.iloc[test_idxs].groupby(target_y, observed=False).size().to_frame(name='cell_count').reset_index().assign(split='test'))\n",
    "cell_count_df = pd.concat(cell_count_df).pivot(index=target_y, columns='split', values='cell_count')\n",
    "cell_plot_data = cell_count_df.div(cell_count_df.sum(axis=1), axis=0).reset_index().melt(id_vars=target_y)\n",
    "\n",
    "pat_count_df = []\n",
    "pat_count_df.append(adata.obs.iloc[train_idxs].groupby(target_y, observed=False).sampleID.nunique().to_frame(name='patient_count').reset_index().assign(split='train'))\n",
    "pat_count_df.append(adata.obs.iloc[val_idxs].groupby(target_y, observed=False).sampleID.nunique().to_frame(name='patient_count').reset_index().assign(split='val'))\n",
    "pat_count_df.append(adata.obs.iloc[test_idxs].groupby(target_y, observed=False).sampleID.nunique().to_frame(name='patient_count').reset_index().assign(split='test'))\n",
    "pd.concat(pat_count_df).pivot(index=target_y, columns='split', values='patient_count')\n",
    "pat_count_df = pd.concat(pat_count_df).pivot(index=target_y, columns='split', values='patient_count')\n",
    "pat_count_df = pat_count_df.div(pat_count_df.sum(axis=1), axis=0)\n",
    "pat_plot_data = pat_count_df.div(pat_count_df.sum(axis=1), axis=0).reset_index().melt(id_vars=target_y)\n",
    "\n",
    "train_pats = set(adata.obs.iloc[train_idxs].sampleID)\n",
    "test_pats = set(adata.obs.iloc[test_idxs].sampleID)\n",
    "val_pats = set(adata.obs.iloc[val_idxs].sampleID)"
   ]
  },
  {
   "cell_type": "code",
   "execution_count": 13,
   "id": "a33f546b",
   "metadata": {
    "execution": {
     "iopub.execute_input": "2025-03-17T23:27:59.801493Z",
     "iopub.status.busy": "2025-03-17T23:27:59.800876Z",
     "iopub.status.idle": "2025-03-17T23:27:59.807422Z",
     "shell.execute_reply": "2025-03-17T23:27:59.807029Z"
    },
    "papermill": {
     "duration": 0.027435,
     "end_time": "2025-03-17T23:27:59.808817",
     "exception": false,
     "start_time": "2025-03-17T23:27:59.781382",
     "status": "completed"
    },
    "tags": []
   },
   "outputs": [],
   "source": [
    "assert val_pats.intersection(test_pats) != {}\n",
    "assert train_pats.intersection(test_pats) != {}\n",
    "assert train_pats.intersection(val_pats) != {}"
   ]
  },
  {
   "cell_type": "markdown",
   "id": "24892cb0",
   "metadata": {
    "papermill": {
     "duration": 0.012631,
     "end_time": "2025-03-17T23:27:59.832683",
     "exception": false,
     "start_time": "2025-03-17T23:27:59.820052",
     "status": "completed"
    },
    "tags": []
   },
   "source": [
    "### PLOT PATIENT AND CELL DISTRIBUTION ACROSS TRAIN, TEST, AND VALIDATION SETS PER DISEASE\n",
    "### CHECK THAT THEY APPROXIMATE EXPECTATION"
   ]
  },
  {
   "cell_type": "code",
   "execution_count": 14,
   "id": "c5e6f7a3",
   "metadata": {
    "execution": {
     "iopub.execute_input": "2025-03-17T23:27:59.867592Z",
     "iopub.status.busy": "2025-03-17T23:27:59.863176Z",
     "iopub.status.idle": "2025-03-17T23:28:01.682835Z",
     "shell.execute_reply": "2025-03-17T23:28:01.681414Z"
    },
    "papermill": {
     "duration": 1.83944,
     "end_time": "2025-03-17T23:28:01.685188",
     "exception": false,
     "start_time": "2025-03-17T23:27:59.845748",
     "status": "completed"
    },
    "tags": []
   },
   "outputs": [
    {
     "data": {
      "image/png": "[encoded data removed]",
      "text/plain": [
       "<Figure size 2000x600 with 2 Axes>"
      ]
     },
     "metadata": {},
     "output_type": "display_data"
    }
   ],
   "source": [
    "_, axs = plt.subplots(1, 2, figsize=(20, 6))\n",
    "sns.barplot(x=target_y, y='value', hue='split', data=cell_plot_data, ax=axs[0])\n",
    "axs[0].set_title('Cell distribution')\n",
    "axs[0].tick_params(axis='x', labelrotation=90)\n",
    "sns.barplot(x=target_y, y='value', hue='split', data=pat_plot_data, ax=axs[1])\n",
    "axs[1].set_title('Patients distribution')\n",
    "axs[1].tick_params(axis='x', labelrotation=90)\n",
    "\n",
    "os.makedirs(here(f\"03_downstream_analysis/08_gene_importance/results/targetY_{target_y}/01_split_plots/\"), exist_ok=True)\n",
    "\n",
    "plt.savefig(here(f'03_downstream_analysis/08_gene_importance/results/targetY_{target_y}/01_split_plots/{RUN_NAME}{CELL_TYPE}_split_quality.pdf'), bbox_inches='tight', dpi=300)"
   ]
  },
  {
   "cell_type": "code",
   "execution_count": 15,
   "id": "4804d530",
   "metadata": {
    "execution": {
     "iopub.execute_input": "2025-03-17T23:28:01.722611Z",
     "iopub.status.busy": "2025-03-17T23:28:01.720979Z",
     "iopub.status.idle": "2025-03-17T23:28:01.823530Z",
     "shell.execute_reply": "2025-03-17T23:28:01.822372Z"
    },
    "papermill": {
     "duration": 0.122633,
     "end_time": "2025-03-17T23:28:01.824675",
     "exception": false,
     "start_time": "2025-03-17T23:28:01.702042",
     "status": "completed"
    },
    "tags": []
   },
   "outputs": [],
   "source": [
    "os.makedirs(here(f\"03_downstream_analysis/08_gene_importance/results/targetY_{target_y}/02_preprocessing/\"), exist_ok=True)\n",
    "\n",
    "np.save(here(f\"03_downstream_analysis/08_gene_importance/results/targetY_{target_y}/02_preprocessing/{RUN_NAME}{CELL_TYPE}_train_idxs.npy\"), train_idxs)\n",
    "np.save(here(f\"03_downstream_analysis/08_gene_importance/results/targetY_{target_y}/02_preprocessing/{RUN_NAME}{CELL_TYPE}_val_idxs.npy\"), val_idxs)\n",
    "np.save(here(f\"03_downstream_analysis/08_gene_importance/results/targetY_{target_y}/02_preprocessing/{RUN_NAME}{CELL_TYPE}_test_idxs.npy\"), test_idxs)"
   ]
  },
  {
   "cell_type": "markdown",
   "id": "7c8df0ee",
   "metadata": {
    "papermill": {
     "duration": 0.014693,
     "end_time": "2025-03-17T23:28:01.854184",
     "exception": false,
     "start_time": "2025-03-17T23:28:01.839491",
     "status": "completed"
    },
    "tags": []
   },
   "source": [
    "### SUBSET DATASET INTO TRAIN/TEST/VAL SPLITS"
   ]
  },
  {
   "cell_type": "code",
   "execution_count": 16,
   "id": "6108b812",
   "metadata": {
    "execution": {
     "iopub.execute_input": "2025-03-17T23:28:01.901556Z",
     "iopub.status.busy": "2025-03-17T23:28:01.897605Z",
     "iopub.status.idle": "2025-03-17T23:29:05.306522Z",
     "shell.execute_reply": "2025-03-17T23:29:05.306116Z"
    },
    "papermill": {
     "duration": 63.453301,
     "end_time": "2025-03-17T23:29:05.324805",
     "exception": false,
     "start_time": "2025-03-17T23:28:01.871504",
     "status": "completed"
    },
    "tags": []
   },
   "outputs": [
    {
     "data": {
      "text/plain": [
       "((224971, 935), (77820, 935), (74094, 935))"
      ]
     },
     "execution_count": 16,
     "metadata": {},
     "output_type": "execute_result"
    }
   ],
   "source": [
    "X_train = adata.X[train_idxs]\n",
    "X_test = adata.X[test_idxs]\n",
    "X_val = adata.X[val_idxs]\n",
    "X_train.shape, X_test.shape, X_val.shape"
   ]
  },
  {
   "cell_type": "code",
   "execution_count": 17,
   "id": "be432acd",
   "metadata": {
    "execution": {
     "iopub.execute_input": "2025-03-17T23:29:05.374699Z",
     "iopub.status.busy": "2025-03-17T23:29:05.374330Z",
     "iopub.status.idle": "2025-03-17T23:29:05.419675Z",
     "shell.execute_reply": "2025-03-17T23:29:05.419291Z"
    },
    "papermill": {
     "duration": 0.07605,
     "end_time": "2025-03-17T23:29:05.421030",
     "exception": false,
     "start_time": "2025-03-17T23:29:05.344980",
     "status": "completed"
    },
    "tags": []
   },
   "outputs": [
    {
     "data": {
      "text/plain": [
       "((224971,), (77820,), (74094,))"
      ]
     },
     "execution_count": 17,
     "metadata": {},
     "output_type": "execute_result"
    }
   ],
   "source": [
    "y_train = adata.obs.iloc[train_idxs][target_y].values.astype(str)\n",
    "y_test = adata.obs.iloc[test_idxs][target_y].values.astype(str)\n",
    "y_val = adata.obs.iloc[val_idxs][target_y].values.astype(str)\n",
    "y_train.shape, y_test.shape, y_val.shape "
   ]
  },
  {
   "cell_type": "code",
   "execution_count": 18,
   "id": "0e0f72c1",
   "metadata": {
    "execution": {
     "iopub.execute_input": "2025-03-17T23:29:05.437904Z",
     "iopub.status.busy": "2025-03-17T23:29:05.437597Z",
     "iopub.status.idle": "2025-03-17T23:29:05.578511Z",
     "shell.execute_reply": "2025-03-17T23:29:05.577354Z"
    },
    "papermill": {
     "duration": 0.151323,
     "end_time": "2025-03-17T23:29:05.580678",
     "exception": false,
     "start_time": "2025-03-17T23:29:05.429355",
     "status": "completed"
    },
    "tags": []
   },
   "outputs": [],
   "source": [
    "lenc = LabelEncoder()\n",
    "y_train_enc = lenc.fit_transform(y_train)\n",
    "y_val_enc = lenc.transform(y_val)\n",
    "y_test_enc = lenc.transform(y_test)"
   ]
  },
  {
   "cell_type": "markdown",
   "id": "e49aa692",
   "metadata": {
    "papermill": {
     "duration": 0.022153,
     "end_time": "2025-03-17T23:29:05.626026",
     "exception": false,
     "start_time": "2025-03-17T23:29:05.603873",
     "status": "completed"
    },
    "tags": []
   },
   "source": [
    "### GENERATE F1 "
   ]
  },
  {
   "cell_type": "code",
   "execution_count": 19,
   "id": "976cc542",
   "metadata": {
    "execution": {
     "iopub.execute_input": "2025-03-17T23:29:05.668616Z",
     "iopub.status.busy": "2025-03-17T23:29:05.667855Z",
     "iopub.status.idle": "2025-03-17T23:29:05.687813Z",
     "shell.execute_reply": "2025-03-17T23:29:05.679553Z"
    },
    "papermill": {
     "duration": 0.044966,
     "end_time": "2025-03-17T23:29:05.689545",
     "exception": false,
     "start_time": "2025-03-17T23:29:05.644579",
     "status": "completed"
    },
    "tags": []
   },
   "outputs": [],
   "source": [
    "def custom_f1_score(y_true, y_pred):\n",
    "    return -f1_score(y_true, y_pred.argmax(1), average='weighted')"
   ]
  },
  {
   "cell_type": "code",
   "execution_count": 20,
   "id": "35f7796c",
   "metadata": {
    "execution": {
     "iopub.execute_input": "2025-03-17T23:29:05.756121Z",
     "iopub.status.busy": "2025-03-17T23:29:05.755869Z",
     "iopub.status.idle": "2025-03-17T23:29:05.766588Z",
     "shell.execute_reply": "2025-03-17T23:29:05.765548Z"
    },
    "papermill": {
     "duration": 0.067563,
     "end_time": "2025-03-17T23:29:05.770775",
     "exception": false,
     "start_time": "2025-03-17T23:29:05.703212",
     "status": "completed"
    },
    "tags": []
   },
   "outputs": [],
   "source": [
    "eval_metric=custom_f1_score\n",
    "eval_metric_name='custom_f1_score'\n",
    "\n",
    "def objective(trial):\n",
    "    params = {\n",
    "        'sampling_method': 'gradient_based',\n",
    "        'n_estimators': 1500,\n",
    "        'max_depth': trial.suggest_int('max_depth', 3, 20),\n",
    "        'min_child_weight': trial.suggest_int('min_child_weight', 1, 250),\n",
    "        'subsample': trial.suggest_float('subsample', 0.1, 1.0),\n",
    "        'colsample_bynode': trial.suggest_float('colsample_bynode', 0.1, 1.0),\n",
    "        'learning_rate': trial.suggest_float('learning_rate', 1e-3, 5e-1, log=True),\n",
    "    }\n",
    "    pruning_callback = optuna.integration.XGBoostPruningCallback(trial, f'validation_0-{eval_metric_name}')\n",
    "    xgb = xgboost.XGBClassifier(\n",
    "        device='gpu',\n",
    "        eval_metric=eval_metric,\n",
    "        early_stopping_rounds=20,\n",
    "        callbacks=[pruning_callback],\n",
    "        **params\n",
    "    )\n",
    "    xgb.fit(\n",
    "        X_train, \n",
    "        y_train_enc, \n",
    "        verbose=0,\n",
    "        eval_set=[(X_val, y_val_enc)],\n",
    "    )\n",
    "    trial.set_user_attr('best_iteration', xgb.best_iteration)\n",
    "\n",
    "    return xgb.best_score"
   ]
  },
  {
   "cell_type": "code",
   "execution_count": 21,
   "id": "4ae541b8",
   "metadata": {
    "execution": {
     "iopub.execute_input": "2025-03-17T23:29:05.828858Z",
     "iopub.status.busy": "2025-03-17T23:29:05.828368Z",
     "iopub.status.idle": "2025-03-17T23:41:19.014645Z",
     "shell.execute_reply": "2025-03-17T23:41:19.014169Z"
    },
    "papermill": {
     "duration": 733.206326,
     "end_time": "2025-03-17T23:41:19.015893",
     "exception": false,
     "start_time": "2025-03-17T23:29:05.809567",
     "status": "completed"
    },
    "tags": []
   },
   "outputs": [
    {
     "name": "stderr",
     "output_type": "stream",
     "text": [
      "[I 2025-03-17 23:29:05,845] A new study created in memory with name: no-name-cd209ce9-d83f-41d5-a69c-640194072dda\n"
     ]
    },
    {
     "name": "stderr",
     "output_type": "stream",
     "text": [
      "/tmp/ipykernel_1205207/350114600.py:4: ExperimentalWarning: WeightsAndBiasesCallback is experimental (supported from v2.9.0). The interface can change in the future.\n",
      "  wandbc = optuna.integration.WeightsAndBiasesCallback(wandb_kwargs=wandb_kwargs)\n",
      "\u001b[34m\u001b[1mwandb\u001b[0m: Using wandb-core as the SDK backend.  Please refer to https://wandb.me/wandb-core for more information.\n"
     ]
    },
    {
     "name": "stderr",
     "output_type": "stream",
     "text": [
      "\u001b[34m\u001b[1mwandb\u001b[0m: Currently logged in as: \u001b[33mdav1989\u001b[0m (\u001b[33minflammation\u001b[0m) to \u001b[32mhttps://api.wandb.ai\u001b[0m. Use \u001b[1m`wandb login --relogin`\u001b[0m to force relogin\n"
     ]
    },
    {
     "name": "stderr",
     "output_type": "stream",
     "text": [
      "\u001b[34m\u001b[1mwandb\u001b[0m: Tracking run with wandb version 0.19.8\n"
     ]
    },
    {
     "name": "stderr",
     "output_type": "stream",
     "text": [
      "\u001b[34m\u001b[1mwandb\u001b[0m: Run data is saved locally in \u001b[35m\u001b[1m/scratch_isilon/groups/singlecell/shared/projects/Inflammation-PBMCs-Atlas/03_downstream_analysis/08_gene_importance/wandb/run-20250317_232910-2huun3um\u001b[0m\n",
      "\u001b[34m\u001b[1mwandb\u001b[0m: Run \u001b[1m`wandb offline`\u001b[0m to turn off syncing.\n"
     ]
    },
    {
     "name": "stderr",
     "output_type": "stream",
     "text": [
      "\u001b[34m\u001b[1mwandb\u001b[0m: Syncing run \u001b[33mstudyID_ILC\u001b[0m\n"
     ]
    },
    {
     "name": "stderr",
     "output_type": "stream",
     "text": [
      "\u001b[34m\u001b[1mwandb\u001b[0m: ⭐️ View project at \u001b[34m\u001b[4mhttps://wandb.ai/inflammation/xgboost\u001b[0m\n"
     ]
    },
    {
     "name": "stderr",
     "output_type": "stream",
     "text": [
      "\u001b[34m\u001b[1mwandb\u001b[0m: 🚀 View run at \u001b[34m\u001b[4mhttps://wandb.ai/inflammation/xgboost/runs/2huun3um\u001b[0m\n"
     ]
    },
    {
     "name": "stderr",
     "output_type": "stream",
     "text": [
      "[I 2025-03-17 23:30:32,564] Trial 0 finished with value: -0.985201 and parameters: {'max_depth': 9, 'min_child_weight': 238, 'subsample': 0.7587945476302645, 'colsample_bynode': 0.6387926357773329, 'learning_rate': 0.0026368755339723046}. Best is trial 0 with value: -0.985201.\n"
     ]
    },
    {
     "name": "stderr",
     "output_type": "stream",
     "text": [
      "[I 2025-03-17 23:31:04,327] Trial 1 finished with value: -0.998445 and parameters: {'max_depth': 5, 'min_child_weight': 15, 'subsample': 0.8795585311974417, 'colsample_bynode': 0.6410035105688879, 'learning_rate': 0.08148293210105287}. Best is trial 1 with value: -0.998445.\n"
     ]
    },
    {
     "name": "stderr",
     "output_type": "stream",
     "text": [
      "[I 2025-03-17 23:31:15,711] Trial 2 finished with value: -0.977909 and parameters: {'max_depth': 3, 'min_child_weight': 243, 'subsample': 0.8491983767203796, 'colsample_bynode': 0.29110519961044856, 'learning_rate': 0.003095566460242371}. Best is trial 1 with value: -0.998445.\n"
     ]
    },
    {
     "name": "stderr",
     "output_type": "stream",
     "text": [
      "[I 2025-03-17 23:34:15,325] Trial 3 finished with value: -0.997508 and parameters: {'max_depth': 6, 'min_child_weight': 77, 'subsample': 0.5722807884690141, 'colsample_bynode': 0.48875051677790415, 'learning_rate': 0.006109683510122491}. Best is trial 1 with value: -0.998445.\n"
     ]
    },
    {
     "name": "stderr",
     "output_type": "stream",
     "text": [
      "[I 2025-03-17 23:35:42,803] Trial 4 finished with value: -0.998124 and parameters: {'max_depth': 14, 'min_child_weight': 35, 'subsample': 0.3629301836816964, 'colsample_bynode': 0.4297256589643226, 'learning_rate': 0.01701841881702917}. Best is trial 1 with value: -0.998445.\n"
     ]
    },
    {
     "name": "stderr",
     "output_type": "stream",
     "text": [
      "[I 2025-03-17 23:35:56,442] Trial 5 pruned. Trial was pruned at iteration 34.\n"
     ]
    },
    {
     "name": "stderr",
     "output_type": "stream",
     "text": [
      "[I 2025-03-17 23:36:08,544] Trial 6 finished with value: -0.996082 and parameters: {'max_depth': 13, 'min_child_weight': 43, 'subsample': 0.1585464336867516, 'colsample_bynode': 0.9539969835279999, 'learning_rate': 0.4038423798071558}. Best is trial 1 with value: -0.998445.\n"
     ]
    },
    {
     "name": "stderr",
     "output_type": "stream",
     "text": [
      "[I 2025-03-17 23:36:13,398] Trial 7 pruned. Trial was pruned at iteration 0.\n"
     ]
    },
    {
     "name": "stderr",
     "output_type": "stream",
     "text": [
      "[I 2025-03-17 23:36:17,945] Trial 8 pruned. Trial was pruned at iteration 0.\n"
     ]
    },
    {
     "name": "stderr",
     "output_type": "stream",
     "text": [
      "[I 2025-03-17 23:36:22,047] Trial 9 pruned. Trial was pruned at iteration 0.\n"
     ]
    },
    {
     "name": "stderr",
     "output_type": "stream",
     "text": [
      "[I 2025-03-17 23:36:51,597] Trial 10 finished with value: -0.997341 and parameters: {'max_depth': 9, 'min_child_weight': 2, 'subsample': 0.9725833997090791, 'colsample_bynode': 0.11616568805333755, 'learning_rate': 0.17780618353487967}. Best is trial 1 with value: -0.998445.\n"
     ]
    },
    {
     "name": "stderr",
     "output_type": "stream",
     "text": [
      "[I 2025-03-17 23:37:16,150] Trial 11 finished with value: -0.997437 and parameters: {'max_depth': 10, 'min_child_weight': 3, 'subsample': 0.340143041503771, 'colsample_bynode': 0.40131565860091256, 'learning_rate': 0.057899203666416425}. Best is trial 1 with value: -0.998445.\n"
     ]
    },
    {
     "name": "stderr",
     "output_type": "stream",
     "text": [
      "[I 2025-03-17 23:37:21,010] Trial 12 pruned. Trial was pruned at iteration 0.\n"
     ]
    },
    {
     "name": "stderr",
     "output_type": "stream",
     "text": [
      "[I 2025-03-17 23:37:25,926] Trial 13 pruned. Trial was pruned at iteration 0.\n"
     ]
    },
    {
     "name": "stderr",
     "output_type": "stream",
     "text": [
      "[I 2025-03-17 23:37:31,118] Trial 14 pruned. Trial was pruned at iteration 1.\n"
     ]
    },
    {
     "name": "stderr",
     "output_type": "stream",
     "text": [
      "[I 2025-03-17 23:37:35,971] Trial 15 pruned. Trial was pruned at iteration 0.\n"
     ]
    },
    {
     "name": "stderr",
     "output_type": "stream",
     "text": [
      "[I 2025-03-17 23:37:40,754] Trial 16 pruned. Trial was pruned at iteration 0.\n"
     ]
    },
    {
     "name": "stderr",
     "output_type": "stream",
     "text": [
      "[I 2025-03-17 23:37:45,552] Trial 17 pruned. Trial was pruned at iteration 0.\n"
     ]
    },
    {
     "name": "stderr",
     "output_type": "stream",
     "text": [
      "[I 2025-03-17 23:37:51,083] Trial 18 pruned. Trial was pruned at iteration 2.\n"
     ]
    },
    {
     "name": "stderr",
     "output_type": "stream",
     "text": [
      "[I 2025-03-17 23:37:56,103] Trial 19 pruned. Trial was pruned at iteration 0.\n"
     ]
    },
    {
     "name": "stderr",
     "output_type": "stream",
     "text": [
      "[I 2025-03-17 23:38:01,150] Trial 20 pruned. Trial was pruned at iteration 0.\n"
     ]
    },
    {
     "name": "stderr",
     "output_type": "stream",
     "text": [
      "[I 2025-03-17 23:38:06,002] Trial 21 pruned. Trial was pruned at iteration 0.\n"
     ]
    },
    {
     "name": "stderr",
     "output_type": "stream",
     "text": [
      "[I 2025-03-17 23:38:11,051] Trial 22 pruned. Trial was pruned at iteration 0.\n"
     ]
    },
    {
     "name": "stderr",
     "output_type": "stream",
     "text": [
      "[I 2025-03-17 23:38:15,796] Trial 23 pruned. Trial was pruned at iteration 0.\n"
     ]
    },
    {
     "name": "stderr",
     "output_type": "stream",
     "text": [
      "[I 2025-03-17 23:38:20,758] Trial 24 pruned. Trial was pruned at iteration 0.\n"
     ]
    },
    {
     "name": "stderr",
     "output_type": "stream",
     "text": [
      "[I 2025-03-17 23:38:30,649] Trial 25 pruned. Trial was pruned at iteration 17.\n"
     ]
    },
    {
     "name": "stderr",
     "output_type": "stream",
     "text": [
      "[I 2025-03-17 23:38:35,552] Trial 26 pruned. Trial was pruned at iteration 0.\n"
     ]
    },
    {
     "name": "stderr",
     "output_type": "stream",
     "text": [
      "[I 2025-03-17 23:38:40,487] Trial 27 pruned. Trial was pruned at iteration 0.\n"
     ]
    },
    {
     "name": "stderr",
     "output_type": "stream",
     "text": [
      "[I 2025-03-17 23:38:45,664] Trial 28 pruned. Trial was pruned at iteration 1.\n"
     ]
    },
    {
     "name": "stderr",
     "output_type": "stream",
     "text": [
      "[I 2025-03-17 23:38:50,498] Trial 29 pruned. Trial was pruned at iteration 0.\n"
     ]
    },
    {
     "name": "stderr",
     "output_type": "stream",
     "text": [
      "[I 2025-03-17 23:38:55,357] Trial 30 pruned. Trial was pruned at iteration 0.\n"
     ]
    },
    {
     "name": "stderr",
     "output_type": "stream",
     "text": [
      "[I 2025-03-17 23:39:29,277] Trial 31 finished with value: -0.997361 and parameters: {'max_depth': 10, 'min_child_weight': 5, 'subsample': 0.3641618150909678, 'colsample_bynode': 0.3850915826464003, 'learning_rate': 0.05011800000205376}. Best is trial 1 with value: -0.998445.\n"
     ]
    },
    {
     "name": "stderr",
     "output_type": "stream",
     "text": [
      "[I 2025-03-17 23:39:34,205] Trial 32 pruned. Trial was pruned at iteration 0.\n"
     ]
    },
    {
     "name": "stderr",
     "output_type": "stream",
     "text": [
      "[I 2025-03-17 23:39:39,440] Trial 33 pruned. Trial was pruned at iteration 1.\n"
     ]
    },
    {
     "name": "stderr",
     "output_type": "stream",
     "text": [
      "[I 2025-03-17 23:40:00,271] Trial 34 finished with value: -0.99791 and parameters: {'max_depth': 11, 'min_child_weight': 2, 'subsample': 0.20477182764154095, 'colsample_bynode': 0.3007913033690299, 'learning_rate': 0.2395889902069954}. Best is trial 1 with value: -0.998445.\n"
     ]
    },
    {
     "name": "stderr",
     "output_type": "stream",
     "text": [
      "[I 2025-03-17 23:40:05,076] Trial 35 pruned. Trial was pruned at iteration 0.\n"
     ]
    },
    {
     "name": "stderr",
     "output_type": "stream",
     "text": [
      "[I 2025-03-17 23:40:09,899] Trial 36 pruned. Trial was pruned at iteration 0.\n"
     ]
    },
    {
     "name": "stderr",
     "output_type": "stream",
     "text": [
      "[I 2025-03-17 23:40:14,671] Trial 37 pruned. Trial was pruned at iteration 0.\n"
     ]
    },
    {
     "name": "stderr",
     "output_type": "stream",
     "text": [
      "[I 2025-03-17 23:40:19,531] Trial 38 pruned. Trial was pruned at iteration 0.\n"
     ]
    },
    {
     "name": "stderr",
     "output_type": "stream",
     "text": [
      "[I 2025-03-17 23:40:24,558] Trial 39 pruned. Trial was pruned at iteration 0.\n"
     ]
    },
    {
     "name": "stderr",
     "output_type": "stream",
     "text": [
      "[I 2025-03-17 23:40:29,593] Trial 40 pruned. Trial was pruned at iteration 0.\n"
     ]
    },
    {
     "name": "stderr",
     "output_type": "stream",
     "text": [
      "[I 2025-03-17 23:40:35,001] Trial 41 pruned. Trial was pruned at iteration 1.\n"
     ]
    },
    {
     "name": "stderr",
     "output_type": "stream",
     "text": [
      "[I 2025-03-17 23:40:39,887] Trial 42 pruned. Trial was pruned at iteration 0.\n"
     ]
    },
    {
     "name": "stderr",
     "output_type": "stream",
     "text": [
      "[I 2025-03-17 23:40:46,917] Trial 43 pruned. Trial was pruned at iteration 7.\n"
     ]
    },
    {
     "name": "stderr",
     "output_type": "stream",
     "text": [
      "[I 2025-03-17 23:40:51,801] Trial 44 pruned. Trial was pruned at iteration 0.\n"
     ]
    },
    {
     "name": "stderr",
     "output_type": "stream",
     "text": [
      "[I 2025-03-17 23:40:56,699] Trial 45 pruned. Trial was pruned at iteration 0.\n"
     ]
    },
    {
     "name": "stderr",
     "output_type": "stream",
     "text": [
      "[I 2025-03-17 23:41:02,457] Trial 46 pruned. Trial was pruned at iteration 3.\n"
     ]
    },
    {
     "name": "stderr",
     "output_type": "stream",
     "text": [
      "[I 2025-03-17 23:41:07,408] Trial 47 pruned. Trial was pruned at iteration 0.\n"
     ]
    },
    {
     "name": "stderr",
     "output_type": "stream",
     "text": [
      "[I 2025-03-17 23:41:13,627] Trial 48 pruned. Trial was pruned at iteration 4.\n"
     ]
    },
    {
     "name": "stderr",
     "output_type": "stream",
     "text": [
      "[I 2025-03-17 23:41:18,821] Trial 49 pruned. Trial was pruned at iteration 0.\n"
     ]
    }
   ],
   "source": [
    "sampler = optuna.samplers.TPESampler(seed=42)\n",
    "study = optuna.create_study(direction='minimize', sampler=sampler)\n",
    "wandb_kwargs = {\"project\": \"xgboost\", \"name\": f\"{RUN_NAME}{CELL_TYPE}\"}\n",
    "wandbc = optuna.integration.WeightsAndBiasesCallback(wandb_kwargs=wandb_kwargs)\n",
    "study.optimize(objective, n_trials=N_TRIALS, callbacks=[wandbc], gc_after_trial=True)"
   ]
  },
  {
   "cell_type": "code",
   "execution_count": 22,
   "id": "c2410828",
   "metadata": {
    "execution": {
     "iopub.execute_input": "2025-03-17T23:41:19.057953Z",
     "iopub.status.busy": "2025-03-17T23:41:19.057503Z",
     "iopub.status.idle": "2025-03-17T23:41:19.090741Z",
     "shell.execute_reply": "2025-03-17T23:41:19.090263Z"
    },
    "papermill": {
     "duration": 0.066705,
     "end_time": "2025-03-17T23:41:19.091641",
     "exception": false,
     "start_time": "2025-03-17T23:41:19.024936",
     "status": "completed"
    },
    "tags": []
   },
   "outputs": [
    {
     "data": {
      "text/plain": [
       "['/scratch_isilon/groups/singlecell/shared/projects/Inflammation-PBMCs-Atlas/03_downstream_analysis/08_gene_importance/results/targetY_studyID/03_xgboost/study/studyID_ILC_xgboost.pkl']"
      ]
     },
     "execution_count": 22,
     "metadata": {},
     "output_type": "execute_result"
    }
   ],
   "source": [
    "os.makedirs(here(f\"03_downstream_analysis/08_gene_importance/results/targetY_{target_y}/03_xgboost/study/\"), exist_ok=True)\n",
    "\n",
    "joblib.dump(study, here(f'03_downstream_analysis/08_gene_importance/results/targetY_{target_y}/03_xgboost/study/{RUN_NAME}{CELL_TYPE}_xgboost.pkl'))"
   ]
  },
  {
   "cell_type": "code",
   "execution_count": 23,
   "id": "3f12c58b",
   "metadata": {
    "execution": {
     "iopub.execute_input": "2025-03-17T23:41:19.149280Z",
     "iopub.status.busy": "2025-03-17T23:41:19.148798Z",
     "iopub.status.idle": "2025-03-17T23:41:23.817442Z",
     "shell.execute_reply": "2025-03-17T23:41:23.816735Z"
    },
    "papermill": {
     "duration": 4.714723,
     "end_time": "2025-03-17T23:41:23.819025",
     "exception": false,
     "start_time": "2025-03-17T23:41:19.104302",
     "status": "completed"
    },
    "tags": []
   },
   "outputs": [],
   "source": [
    "os.makedirs(here(f\"03_downstream_analysis/08_gene_importance/results/targetY_{target_y}/03_xgboost/parallel_coordinate/\"), exist_ok=True)\n",
    "\n",
    "fig = optuna.visualization.plot_parallel_coordinate(study)\n",
    "fig.write_image(here(f'03_downstream_analysis/08_gene_importance/results/targetY_{target_y}/03_xgboost/parallel_coordinate/{RUN_NAME}{CELL_TYPE}_pcoord.pdf'))"
   ]
  },
  {
   "cell_type": "code",
   "execution_count": 24,
   "id": "b9f7d477",
   "metadata": {
    "editable": true,
    "execution": {
     "iopub.execute_input": "2025-03-17T23:41:23.850397Z",
     "iopub.status.busy": "2025-03-17T23:41:23.849586Z",
     "iopub.status.idle": "2025-03-17T23:42:00.601840Z",
     "shell.execute_reply": "2025-03-17T23:42:00.601209Z"
    },
    "papermill": {
     "duration": 36.764503,
     "end_time": "2025-03-17T23:42:00.603177",
     "exception": false,
     "start_time": "2025-03-17T23:41:23.838674",
     "status": "completed"
    },
    "scrolled": true,
    "slideshow": {
     "slide_type": ""
    },
    "tags": []
   },
   "outputs": [
    {
     "name": "stdout",
     "output_type": "stream",
     "text": [
      "[0]\tvalidation_0-mlogloss:2.17460\tvalidation_0-custom_f1_score:-0.96106\n"
     ]
    },
    {
     "name": "stdout",
     "output_type": "stream",
     "text": [
      "[1]\tvalidation_0-mlogloss:1.85005\tvalidation_0-custom_f1_score:-0.97666\n"
     ]
    },
    {
     "name": "stdout",
     "output_type": "stream",
     "text": [
      "[2]\tvalidation_0-mlogloss:1.62268\tvalidation_0-custom_f1_score:-0.97638\n"
     ]
    },
    {
     "name": "stdout",
     "output_type": "stream",
     "text": [
      "[3]\tvalidation_0-mlogloss:1.44123\tvalidation_0-custom_f1_score:-0.98505\n"
     ]
    },
    {
     "name": "stdout",
     "output_type": "stream",
     "text": [
      "[4]\tvalidation_0-mlogloss:1.29503\tvalidation_0-custom_f1_score:-0.98306\n"
     ]
    },
    {
     "name": "stdout",
     "output_type": "stream",
     "text": [
      "[5]\tvalidation_0-mlogloss:1.17063\tvalidation_0-custom_f1_score:-0.98447\n"
     ]
    },
    {
     "name": "stdout",
     "output_type": "stream",
     "text": [
      "[6]\tvalidation_0-mlogloss:1.06192\tvalidation_0-custom_f1_score:-0.98920\n"
     ]
    },
    {
     "name": "stdout",
     "output_type": "stream",
     "text": [
      "[7]\tvalidation_0-mlogloss:0.96742\tvalidation_0-custom_f1_score:-0.99099\n"
     ]
    },
    {
     "name": "stdout",
     "output_type": "stream",
     "text": [
      "[8]\tvalidation_0-mlogloss:0.88347\tvalidation_0-custom_f1_score:-0.99287\n"
     ]
    },
    {
     "name": "stdout",
     "output_type": "stream",
     "text": [
      "[9]\tvalidation_0-mlogloss:0.80964\tvalidation_0-custom_f1_score:-0.99327\n"
     ]
    },
    {
     "name": "stdout",
     "output_type": "stream",
     "text": [
      "[10]\tvalidation_0-mlogloss:0.74363\tvalidation_0-custom_f1_score:-0.99390\n"
     ]
    },
    {
     "name": "stdout",
     "output_type": "stream",
     "text": [
      "[11]\tvalidation_0-mlogloss:0.68376\tvalidation_0-custom_f1_score:-0.99431\n"
     ]
    },
    {
     "name": "stdout",
     "output_type": "stream",
     "text": [
      "[12]\tvalidation_0-mlogloss:0.62961\tvalidation_0-custom_f1_score:-0.99462\n"
     ]
    },
    {
     "name": "stdout",
     "output_type": "stream",
     "text": [
      "[13]\tvalidation_0-mlogloss:0.58008\tvalidation_0-custom_f1_score:-0.99503\n"
     ]
    },
    {
     "name": "stdout",
     "output_type": "stream",
     "text": [
      "[14]\tvalidation_0-mlogloss:0.53577\tvalidation_0-custom_f1_score:-0.99529\n"
     ]
    },
    {
     "name": "stdout",
     "output_type": "stream",
     "text": [
      "[15]\tvalidation_0-mlogloss:0.49536\tvalidation_0-custom_f1_score:-0.99530\n"
     ]
    },
    {
     "name": "stdout",
     "output_type": "stream",
     "text": [
      "[16]\tvalidation_0-mlogloss:0.45805\tvalidation_0-custom_f1_score:-0.99578\n"
     ]
    },
    {
     "name": "stdout",
     "output_type": "stream",
     "text": [
      "[17]\tvalidation_0-mlogloss:0.42382\tvalidation_0-custom_f1_score:-0.99584\n"
     ]
    },
    {
     "name": "stdout",
     "output_type": "stream",
     "text": [
      "[18]\tvalidation_0-mlogloss:0.39223\tvalidation_0-custom_f1_score:-0.99611\n"
     ]
    },
    {
     "name": "stdout",
     "output_type": "stream",
     "text": [
      "[19]\tvalidation_0-mlogloss:0.36309\tvalidation_0-custom_f1_score:-0.99622\n"
     ]
    },
    {
     "name": "stdout",
     "output_type": "stream",
     "text": [
      "[20]\tvalidation_0-mlogloss:0.33695\tvalidation_0-custom_f1_score:-0.99632\n"
     ]
    },
    {
     "name": "stdout",
     "output_type": "stream",
     "text": [
      "[21]\tvalidation_0-mlogloss:0.31276\tvalidation_0-custom_f1_score:-0.99639\n"
     ]
    },
    {
     "name": "stdout",
     "output_type": "stream",
     "text": [
      "[22]\tvalidation_0-mlogloss:0.29002\tvalidation_0-custom_f1_score:-0.99660\n"
     ]
    },
    {
     "name": "stdout",
     "output_type": "stream",
     "text": [
      "[23]\tvalidation_0-mlogloss:0.26951\tvalidation_0-custom_f1_score:-0.99662\n"
     ]
    },
    {
     "name": "stdout",
     "output_type": "stream",
     "text": [
      "[24]\tvalidation_0-mlogloss:0.25037\tvalidation_0-custom_f1_score:-0.99670\n"
     ]
    },
    {
     "name": "stdout",
     "output_type": "stream",
     "text": [
      "[25]\tvalidation_0-mlogloss:0.23291\tvalidation_0-custom_f1_score:-0.99667\n"
     ]
    },
    {
     "name": "stdout",
     "output_type": "stream",
     "text": [
      "[26]\tvalidation_0-mlogloss:0.21671\tvalidation_0-custom_f1_score:-0.99668\n"
     ]
    },
    {
     "name": "stdout",
     "output_type": "stream",
     "text": [
      "[27]\tvalidation_0-mlogloss:0.20153\tvalidation_0-custom_f1_score:-0.99677\n"
     ]
    },
    {
     "name": "stdout",
     "output_type": "stream",
     "text": [
      "[28]\tvalidation_0-mlogloss:0.18772\tvalidation_0-custom_f1_score:-0.99674\n"
     ]
    },
    {
     "name": "stdout",
     "output_type": "stream",
     "text": [
      "[29]\tvalidation_0-mlogloss:0.17484\tvalidation_0-custom_f1_score:-0.99680\n"
     ]
    },
    {
     "name": "stdout",
     "output_type": "stream",
     "text": [
      "[30]\tvalidation_0-mlogloss:0.16274\tvalidation_0-custom_f1_score:-0.99681\n"
     ]
    },
    {
     "name": "stdout",
     "output_type": "stream",
     "text": [
      "[31]\tvalidation_0-mlogloss:0.15155\tvalidation_0-custom_f1_score:-0.99684\n"
     ]
    },
    {
     "name": "stdout",
     "output_type": "stream",
     "text": [
      "[32]\tvalidation_0-mlogloss:0.14128\tvalidation_0-custom_f1_score:-0.99693\n"
     ]
    },
    {
     "name": "stdout",
     "output_type": "stream",
     "text": [
      "[33]\tvalidation_0-mlogloss:0.13166\tvalidation_0-custom_f1_score:-0.99698\n"
     ]
    },
    {
     "name": "stdout",
     "output_type": "stream",
     "text": [
      "[34]\tvalidation_0-mlogloss:0.12283\tvalidation_0-custom_f1_score:-0.99704\n"
     ]
    },
    {
     "name": "stdout",
     "output_type": "stream",
     "text": [
      "[35]\tvalidation_0-mlogloss:0.11466\tvalidation_0-custom_f1_score:-0.99707\n"
     ]
    },
    {
     "name": "stdout",
     "output_type": "stream",
     "text": [
      "[36]\tvalidation_0-mlogloss:0.10734\tvalidation_0-custom_f1_score:-0.99710\n"
     ]
    },
    {
     "name": "stdout",
     "output_type": "stream",
     "text": [
      "[37]\tvalidation_0-mlogloss:0.10062\tvalidation_0-custom_f1_score:-0.99704\n"
     ]
    },
    {
     "name": "stdout",
     "output_type": "stream",
     "text": [
      "[38]\tvalidation_0-mlogloss:0.09426\tvalidation_0-custom_f1_score:-0.99707\n"
     ]
    },
    {
     "name": "stdout",
     "output_type": "stream",
     "text": [
      "[39]\tvalidation_0-mlogloss:0.08807\tvalidation_0-custom_f1_score:-0.99711\n"
     ]
    },
    {
     "name": "stdout",
     "output_type": "stream",
     "text": [
      "[40]\tvalidation_0-mlogloss:0.08252\tvalidation_0-custom_f1_score:-0.99712\n"
     ]
    },
    {
     "name": "stdout",
     "output_type": "stream",
     "text": [
      "[41]\tvalidation_0-mlogloss:0.07741\tvalidation_0-custom_f1_score:-0.99710\n"
     ]
    },
    {
     "name": "stdout",
     "output_type": "stream",
     "text": [
      "[42]\tvalidation_0-mlogloss:0.07276\tvalidation_0-custom_f1_score:-0.99715\n"
     ]
    },
    {
     "name": "stdout",
     "output_type": "stream",
     "text": [
      "[43]\tvalidation_0-mlogloss:0.06843\tvalidation_0-custom_f1_score:-0.99709\n"
     ]
    },
    {
     "name": "stdout",
     "output_type": "stream",
     "text": [
      "[44]\tvalidation_0-mlogloss:0.06436\tvalidation_0-custom_f1_score:-0.99715\n"
     ]
    },
    {
     "name": "stdout",
     "output_type": "stream",
     "text": [
      "[45]\tvalidation_0-mlogloss:0.06065\tvalidation_0-custom_f1_score:-0.99712\n"
     ]
    },
    {
     "name": "stdout",
     "output_type": "stream",
     "text": [
      "[46]\tvalidation_0-mlogloss:0.05697\tvalidation_0-custom_f1_score:-0.99717\n"
     ]
    },
    {
     "name": "stdout",
     "output_type": "stream",
     "text": [
      "[47]\tvalidation_0-mlogloss:0.05374\tvalidation_0-custom_f1_score:-0.99715\n"
     ]
    },
    {
     "name": "stdout",
     "output_type": "stream",
     "text": [
      "[48]\tvalidation_0-mlogloss:0.05082\tvalidation_0-custom_f1_score:-0.99708\n"
     ]
    },
    {
     "name": "stdout",
     "output_type": "stream",
     "text": [
      "[49]\tvalidation_0-mlogloss:0.04798\tvalidation_0-custom_f1_score:-0.99711\n"
     ]
    },
    {
     "name": "stdout",
     "output_type": "stream",
     "text": [
      "[50]\tvalidation_0-mlogloss:0.04539\tvalidation_0-custom_f1_score:-0.99710\n"
     ]
    },
    {
     "name": "stdout",
     "output_type": "stream",
     "text": [
      "[51]\tvalidation_0-mlogloss:0.04293\tvalidation_0-custom_f1_score:-0.99713\n"
     ]
    },
    {
     "name": "stdout",
     "output_type": "stream",
     "text": [
      "[52]\tvalidation_0-mlogloss:0.04077\tvalidation_0-custom_f1_score:-0.99713\n"
     ]
    },
    {
     "name": "stdout",
     "output_type": "stream",
     "text": [
      "[53]\tvalidation_0-mlogloss:0.03865\tvalidation_0-custom_f1_score:-0.99715\n"
     ]
    },
    {
     "name": "stdout",
     "output_type": "stream",
     "text": [
      "[54]\tvalidation_0-mlogloss:0.03680\tvalidation_0-custom_f1_score:-0.99708\n"
     ]
    },
    {
     "name": "stdout",
     "output_type": "stream",
     "text": [
      "[55]\tvalidation_0-mlogloss:0.03506\tvalidation_0-custom_f1_score:-0.99706\n"
     ]
    },
    {
     "name": "stdout",
     "output_type": "stream",
     "text": [
      "[56]\tvalidation_0-mlogloss:0.03347\tvalidation_0-custom_f1_score:-0.99692\n"
     ]
    },
    {
     "name": "stdout",
     "output_type": "stream",
     "text": [
      "[57]\tvalidation_0-mlogloss:0.03212\tvalidation_0-custom_f1_score:-0.99683\n"
     ]
    },
    {
     "name": "stdout",
     "output_type": "stream",
     "text": [
      "[58]\tvalidation_0-mlogloss:0.03049\tvalidation_0-custom_f1_score:-0.99692\n"
     ]
    },
    {
     "name": "stdout",
     "output_type": "stream",
     "text": [
      "[59]\tvalidation_0-mlogloss:0.02887\tvalidation_0-custom_f1_score:-0.99698\n"
     ]
    },
    {
     "name": "stdout",
     "output_type": "stream",
     "text": [
      "[60]\tvalidation_0-mlogloss:0.02747\tvalidation_0-custom_f1_score:-0.99701\n"
     ]
    },
    {
     "name": "stdout",
     "output_type": "stream",
     "text": [
      "[61]\tvalidation_0-mlogloss:0.02634\tvalidation_0-custom_f1_score:-0.99695\n"
     ]
    },
    {
     "name": "stdout",
     "output_type": "stream",
     "text": [
      "[62]\tvalidation_0-mlogloss:0.02521\tvalidation_0-custom_f1_score:-0.99701\n"
     ]
    },
    {
     "name": "stdout",
     "output_type": "stream",
     "text": [
      "[63]\tvalidation_0-mlogloss:0.02426\tvalidation_0-custom_f1_score:-0.99698\n"
     ]
    },
    {
     "name": "stdout",
     "output_type": "stream",
     "text": [
      "[64]\tvalidation_0-mlogloss:0.02337\tvalidation_0-custom_f1_score:-0.99690\n"
     ]
    },
    {
     "name": "stdout",
     "output_type": "stream",
     "text": [
      "[65]\tvalidation_0-mlogloss:0.02254\tvalidation_0-custom_f1_score:-0.99697\n"
     ]
    },
    {
     "name": "stdout",
     "output_type": "stream",
     "text": [
      "[66]\tvalidation_0-mlogloss:0.02181\tvalidation_0-custom_f1_score:-0.99689\n"
     ]
    },
    {
     "name": "stdout",
     "output_type": "stream",
     "text": [
      "[67]\tvalidation_0-mlogloss:0.02105\tvalidation_0-custom_f1_score:-0.99687\n"
     ]
    },
    {
     "name": "stdout",
     "output_type": "stream",
     "text": [
      "[68]\tvalidation_0-mlogloss:0.02041\tvalidation_0-custom_f1_score:-0.99685\n"
     ]
    },
    {
     "name": "stdout",
     "output_type": "stream",
     "text": [
      "[69]\tvalidation_0-mlogloss:0.01986\tvalidation_0-custom_f1_score:-0.99679\n"
     ]
    },
    {
     "name": "stdout",
     "output_type": "stream",
     "text": [
      "[70]\tvalidation_0-mlogloss:0.01899\tvalidation_0-custom_f1_score:-0.99692\n"
     ]
    },
    {
     "name": "stdout",
     "output_type": "stream",
     "text": [
      "[71]\tvalidation_0-mlogloss:0.01836\tvalidation_0-custom_f1_score:-0.99688\n"
     ]
    },
    {
     "name": "stdout",
     "output_type": "stream",
     "text": [
      "[72]\tvalidation_0-mlogloss:0.01779\tvalidation_0-custom_f1_score:-0.99693\n"
     ]
    },
    {
     "name": "stdout",
     "output_type": "stream",
     "text": [
      "[73]\tvalidation_0-mlogloss:0.01725\tvalidation_0-custom_f1_score:-0.99697\n"
     ]
    },
    {
     "name": "stdout",
     "output_type": "stream",
     "text": [
      "[74]\tvalidation_0-mlogloss:0.01668\tvalidation_0-custom_f1_score:-0.99697\n"
     ]
    },
    {
     "name": "stdout",
     "output_type": "stream",
     "text": [
      "[75]\tvalidation_0-mlogloss:0.01630\tvalidation_0-custom_f1_score:-0.99694\n"
     ]
    },
    {
     "name": "stdout",
     "output_type": "stream",
     "text": [
      "[76]\tvalidation_0-mlogloss:0.01598\tvalidation_0-custom_f1_score:-0.99689\n"
     ]
    },
    {
     "name": "stdout",
     "output_type": "stream",
     "text": [
      "[77]\tvalidation_0-mlogloss:0.01572\tvalidation_0-custom_f1_score:-0.99687\n"
     ]
    },
    {
     "name": "stdout",
     "output_type": "stream",
     "text": [
      "[78]\tvalidation_0-mlogloss:0.01532\tvalidation_0-custom_f1_score:-0.99687\n"
     ]
    },
    {
     "name": "stdout",
     "output_type": "stream",
     "text": [
      "[79]\tvalidation_0-mlogloss:0.01504\tvalidation_0-custom_f1_score:-0.99688\n"
     ]
    },
    {
     "name": "stdout",
     "output_type": "stream",
     "text": [
      "[80]\tvalidation_0-mlogloss:0.01470\tvalidation_0-custom_f1_score:-0.99685\n"
     ]
    },
    {
     "name": "stdout",
     "output_type": "stream",
     "text": [
      "[81]\tvalidation_0-mlogloss:0.01434\tvalidation_0-custom_f1_score:-0.99680\n"
     ]
    },
    {
     "name": "stdout",
     "output_type": "stream",
     "text": [
      "[82]\tvalidation_0-mlogloss:0.01408\tvalidation_0-custom_f1_score:-0.99685\n"
     ]
    },
    {
     "name": "stdout",
     "output_type": "stream",
     "text": [
      "[83]\tvalidation_0-mlogloss:0.01381\tvalidation_0-custom_f1_score:-0.99688\n"
     ]
    },
    {
     "name": "stdout",
     "output_type": "stream",
     "text": [
      "[84]\tvalidation_0-mlogloss:0.01351\tvalidation_0-custom_f1_score:-0.99688\n"
     ]
    },
    {
     "name": "stdout",
     "output_type": "stream",
     "text": [
      "[85]\tvalidation_0-mlogloss:0.01325\tvalidation_0-custom_f1_score:-0.99689\n"
     ]
    },
    {
     "name": "stdout",
     "output_type": "stream",
     "text": [
      "[86]\tvalidation_0-mlogloss:0.01296\tvalidation_0-custom_f1_score:-0.99692\n"
     ]
    },
    {
     "name": "stdout",
     "output_type": "stream",
     "text": [
      "[87]\tvalidation_0-mlogloss:0.01274\tvalidation_0-custom_f1_score:-0.99690\n"
     ]
    },
    {
     "name": "stdout",
     "output_type": "stream",
     "text": [
      "[88]\tvalidation_0-mlogloss:0.01253\tvalidation_0-custom_f1_score:-0.99694\n"
     ]
    },
    {
     "name": "stdout",
     "output_type": "stream",
     "text": [
      "[89]\tvalidation_0-mlogloss:0.01241\tvalidation_0-custom_f1_score:-0.99694\n"
     ]
    },
    {
     "name": "stdout",
     "output_type": "stream",
     "text": [
      "[90]\tvalidation_0-mlogloss:0.01220\tvalidation_0-custom_f1_score:-0.99688\n"
     ]
    },
    {
     "name": "stdout",
     "output_type": "stream",
     "text": [
      "[91]\tvalidation_0-mlogloss:0.01194\tvalidation_0-custom_f1_score:-0.99689\n"
     ]
    },
    {
     "name": "stdout",
     "output_type": "stream",
     "text": [
      "[92]\tvalidation_0-mlogloss:0.01180\tvalidation_0-custom_f1_score:-0.99694\n"
     ]
    },
    {
     "name": "stdout",
     "output_type": "stream",
     "text": [
      "[93]\tvalidation_0-mlogloss:0.01154\tvalidation_0-custom_f1_score:-0.99702\n"
     ]
    },
    {
     "name": "stdout",
     "output_type": "stream",
     "text": [
      "[94]\tvalidation_0-mlogloss:0.01143\tvalidation_0-custom_f1_score:-0.99701\n"
     ]
    },
    {
     "name": "stdout",
     "output_type": "stream",
     "text": [
      "[95]\tvalidation_0-mlogloss:0.01123\tvalidation_0-custom_f1_score:-0.99707\n"
     ]
    },
    {
     "name": "stdout",
     "output_type": "stream",
     "text": [
      "[96]\tvalidation_0-mlogloss:0.01118\tvalidation_0-custom_f1_score:-0.99697\n"
     ]
    },
    {
     "name": "stdout",
     "output_type": "stream",
     "text": [
      "[97]\tvalidation_0-mlogloss:0.01097\tvalidation_0-custom_f1_score:-0.99707\n"
     ]
    },
    {
     "name": "stdout",
     "output_type": "stream",
     "text": [
      "[98]\tvalidation_0-mlogloss:0.01090\tvalidation_0-custom_f1_score:-0.99701\n"
     ]
    },
    {
     "name": "stdout",
     "output_type": "stream",
     "text": [
      "[99]\tvalidation_0-mlogloss:0.01080\tvalidation_0-custom_f1_score:-0.99706\n"
     ]
    },
    {
     "name": "stdout",
     "output_type": "stream",
     "text": [
      "[100]\tvalidation_0-mlogloss:0.01074\tvalidation_0-custom_f1_score:-0.99699\n"
     ]
    },
    {
     "name": "stdout",
     "output_type": "stream",
     "text": [
      "[101]\tvalidation_0-mlogloss:0.01060\tvalidation_0-custom_f1_score:-0.99706\n"
     ]
    },
    {
     "name": "stdout",
     "output_type": "stream",
     "text": [
      "[102]\tvalidation_0-mlogloss:0.01055\tvalidation_0-custom_f1_score:-0.99701\n"
     ]
    },
    {
     "name": "stdout",
     "output_type": "stream",
     "text": [
      "[103]\tvalidation_0-mlogloss:0.01041\tvalidation_0-custom_f1_score:-0.99704\n"
     ]
    },
    {
     "name": "stdout",
     "output_type": "stream",
     "text": [
      "[104]\tvalidation_0-mlogloss:0.01045\tvalidation_0-custom_f1_score:-0.99704\n"
     ]
    },
    {
     "data": {
      "text/html": [
       "<style>#sk-container-id-1 {\n",
       "  /* Definition of color scheme common for light and dark mode */\n",
       "  --sklearn-color-text: black;\n",
       "  --sklearn-color-line: gray;\n",
       "  /* Definition of color scheme for unfitted estimators */\n",
       "  --sklearn-color-unfitted-level-0: #fff5e6;\n",
       "  --sklearn-color-unfitted-level-1: #f6e4d2;\n",
       "  --sklearn-color-unfitted-level-2: #ffe0b3;\n",
       "  --sklearn-color-unfitted-level-3: chocolate;\n",
       "  /* Definition of color scheme for fitted estimators */\n",
       "  --sklearn-color-fitted-level-0: #f0f8ff;\n",
       "  --sklearn-color-fitted-level-1: #d4ebff;\n",
       "  --sklearn-color-fitted-level-2: #b3dbfd;\n",
       "  --sklearn-color-fitted-level-3: cornflowerblue;\n",
       "\n",
       "  /* Specific color for light theme */\n",
       "  --sklearn-color-text-on-default-background: var(--sg-text-color, var(--theme-code-foreground, var(--jp-content-font-color1, black)));\n",
       "  --sklearn-color-background: var(--sg-background-color, var(--theme-background, var(--jp-layout-color0, white)));\n",
       "  --sklearn-color-border-box: var(--sg-text-color, var(--theme-code-foreground, var(--jp-content-font-color1, black)));\n",
       "  --sklearn-color-icon: #696969;\n",
       "\n",
       "  @media (prefers-color-scheme: dark) {\n",
       "    /* Redefinition of color scheme for dark theme */\n",
       "    --sklearn-color-text-on-default-background: var(--sg-text-color, var(--theme-code-foreground, var(--jp-content-font-color1, white)));\n",
       "    --sklearn-color-background: var(--sg-background-color, var(--theme-background, var(--jp-layout-color0, #111)));\n",
       "    --sklearn-color-border-box: var(--sg-text-color, var(--theme-code-foreground, var(--jp-content-font-color1, white)));\n",
       "    --sklearn-color-icon: #878787;\n",
       "  }\n",
       "}\n",
       "\n",
       "#sk-container-id-1 {\n",
       "  color: var(--sklearn-color-text);\n",
       "}\n",
       "\n",
       "#sk-container-id-1 pre {\n",
       "  padding: 0;\n",
       "}\n",
       "\n",
       "#sk-container-id-1 input.sk-hidden--visually {\n",
       "  border: 0;\n",
       "  clip: rect(1px 1px 1px 1px);\n",
       "  clip: rect(1px, 1px, 1px, 1px);\n",
       "  height: 1px;\n",
       "  margin: -1px;\n",
       "  overflow: hidden;\n",
       "  padding: 0;\n",
       "  position: absolute;\n",
       "  width: 1px;\n",
       "}\n",
       "\n",
       "#sk-container-id-1 div.sk-dashed-wrapped {\n",
       "  border: 1px dashed var(--sklearn-color-line);\n",
       "  margin: 0 0.4em 0.5em 0.4em;\n",
       "  box-sizing: border-box;\n",
       "  padding-bottom: 0.4em;\n",
       "  background-color: var(--sklearn-color-background);\n",
       "}\n",
       "\n",
       "#sk-container-id-1 div.sk-container {\n",
       "  /* jupyter's `normalize.less` sets `[hidden] { display: none; }`\n",
       "     but bootstrap.min.css set `[hidden] { display: none !important; }`\n",
       "     so we also need the `!important` here to be able to override the\n",
       "     default hidden behavior on the sphinx rendered scikit-learn.org.\n",
       "     See: https://github.com/scikit-learn/scikit-learn/issues/21755 */\n",
       "  display: inline-block !important;\n",
       "  position: relative;\n",
       "}\n",
       "\n",
       "#sk-container-id-1 div.sk-text-repr-fallback {\n",
       "  display: none;\n",
       "}\n",
       "\n",
       "div.sk-parallel-item,\n",
       "div.sk-serial,\n",
       "div.sk-item {\n",
       "  /* draw centered vertical line to link estimators */\n",
       "  background-image: linear-gradient(var(--sklearn-color-text-on-default-background), var(--sklearn-color-text-on-default-background));\n",
       "  background-size: 2px 100%;\n",
       "  background-repeat: no-repeat;\n",
       "  background-position: center center;\n",
       "}\n",
       "\n",
       "/* Parallel-specific style estimator block */\n",
       "\n",
       "#sk-container-id-1 div.sk-parallel-item::after {\n",
       "  content: \"\";\n",
       "  width: 100%;\n",
       "  border-bottom: 2px solid var(--sklearn-color-text-on-default-background);\n",
       "  flex-grow: 1;\n",
       "}\n",
       "\n",
       "#sk-container-id-1 div.sk-parallel {\n",
       "  display: flex;\n",
       "  align-items: stretch;\n",
       "  justify-content: center;\n",
       "  background-color: var(--sklearn-color-background);\n",
       "  position: relative;\n",
       "}\n",
       "\n",
       "#sk-container-id-1 div.sk-parallel-item {\n",
       "  display: flex;\n",
       "  flex-direction: column;\n",
       "}\n",
       "\n",
       "#sk-container-id-1 div.sk-parallel-item:first-child::after {\n",
       "  align-self: flex-end;\n",
       "  width: 50%;\n",
       "}\n",
       "\n",
       "#sk-container-id-1 div.sk-parallel-item:last-child::after {\n",
       "  align-self: flex-start;\n",
       "  width: 50%;\n",
       "}\n",
       "\n",
       "#sk-container-id-1 div.sk-parallel-item:only-child::after {\n",
       "  width: 0;\n",
       "}\n",
       "\n",
       "/* Serial-specific style estimator block */\n",
       "\n",
       "#sk-container-id-1 div.sk-serial {\n",
       "  display: flex;\n",
       "  flex-direction: column;\n",
       "  align-items: center;\n",
       "  background-color: var(--sklearn-color-background);\n",
       "  padding-right: 1em;\n",
       "  padding-left: 1em;\n",
       "}\n",
       "\n",
       "\n",
       "/* Toggleable style: style used for estimator/Pipeline/ColumnTransformer box that is\n",
       "clickable and can be expanded/collapsed.\n",
       "- Pipeline and ColumnTransformer use this feature and define the default style\n",
       "- Estimators will overwrite some part of the style using the `sk-estimator` class\n",
       "*/\n",
       "\n",
       "/* Pipeline and ColumnTransformer style (default) */\n",
       "\n",
       "#sk-container-id-1 div.sk-toggleable {\n",
       "  /* Default theme specific background. It is overwritten whether we have a\n",
       "  specific estimator or a Pipeline/ColumnTransformer */\n",
       "  background-color: var(--sklearn-color-background);\n",
       "}\n",
       "\n",
       "/* Toggleable label */\n",
       "#sk-container-id-1 label.sk-toggleable__label {\n",
       "  cursor: pointer;\n",
       "  display: block;\n",
       "  width: 100%;\n",
       "  margin-bottom: 0;\n",
       "  padding: 0.5em;\n",
       "  box-sizing: border-box;\n",
       "  text-align: center;\n",
       "}\n",
       "\n",
       "#sk-container-id-1 label.sk-toggleable__label-arrow:before {\n",
       "  /* Arrow on the left of the label */\n",
       "  content: \"▸\";\n",
       "  float: left;\n",
       "  margin-right: 0.25em;\n",
       "  color: var(--sklearn-color-icon);\n",
       "}\n",
       "\n",
       "#sk-container-id-1 label.sk-toggleable__label-arrow:hover:before {\n",
       "  color: var(--sklearn-color-text);\n",
       "}\n",
       "\n",
       "/* Toggleable content - dropdown */\n",
       "\n",
       "#sk-container-id-1 div.sk-toggleable__content {\n",
       "  max-height: 0;\n",
       "  max-width: 0;\n",
       "  overflow: hidden;\n",
       "  text-align: left;\n",
       "  /* unfitted */\n",
       "  background-color: var(--sklearn-color-unfitted-level-0);\n",
       "}\n",
       "\n",
       "#sk-container-id-1 div.sk-toggleable__content.fitted {\n",
       "  /* fitted */\n",
       "  background-color: var(--sklearn-color-fitted-level-0);\n",
       "}\n",
       "\n",
       "#sk-container-id-1 div.sk-toggleable__content pre {\n",
       "  margin: 0.2em;\n",
       "  border-radius: 0.25em;\n",
       "  color: var(--sklearn-color-text);\n",
       "  /* unfitted */\n",
       "  background-color: var(--sklearn-color-unfitted-level-0);\n",
       "}\n",
       "\n",
       "#sk-container-id-1 div.sk-toggleable__content.fitted pre {\n",
       "  /* unfitted */\n",
       "  background-color: var(--sklearn-color-fitted-level-0);\n",
       "}\n",
       "\n",
       "#sk-container-id-1 input.sk-toggleable__control:checked~div.sk-toggleable__content {\n",
       "  /* Expand drop-down */\n",
       "  max-height: 200px;\n",
       "  max-width: 100%;\n",
       "  overflow: auto;\n",
       "}\n",
       "\n",
       "#sk-container-id-1 input.sk-toggleable__control:checked~label.sk-toggleable__label-arrow:before {\n",
       "  content: \"▾\";\n",
       "}\n",
       "\n",
       "/* Pipeline/ColumnTransformer-specific style */\n",
       "\n",
       "#sk-container-id-1 div.sk-label input.sk-toggleable__control:checked~label.sk-toggleable__label {\n",
       "  color: var(--sklearn-color-text);\n",
       "  background-color: var(--sklearn-color-unfitted-level-2);\n",
       "}\n",
       "\n",
       "#sk-container-id-1 div.sk-label.fitted input.sk-toggleable__control:checked~label.sk-toggleable__label {\n",
       "  background-color: var(--sklearn-color-fitted-level-2);\n",
       "}\n",
       "\n",
       "/* Estimator-specific style */\n",
       "\n",
       "/* Colorize estimator box */\n",
       "#sk-container-id-1 div.sk-estimator input.sk-toggleable__control:checked~label.sk-toggleable__label {\n",
       "  /* unfitted */\n",
       "  background-color: var(--sklearn-color-unfitted-level-2);\n",
       "}\n",
       "\n",
       "#sk-container-id-1 div.sk-estimator.fitted input.sk-toggleable__control:checked~label.sk-toggleable__label {\n",
       "  /* fitted */\n",
       "  background-color: var(--sklearn-color-fitted-level-2);\n",
       "}\n",
       "\n",
       "#sk-container-id-1 div.sk-label label.sk-toggleable__label,\n",
       "#sk-container-id-1 div.sk-label label {\n",
       "  /* The background is the default theme color */\n",
       "  color: var(--sklearn-color-text-on-default-background);\n",
       "}\n",
       "\n",
       "/* On hover, darken the color of the background */\n",
       "#sk-container-id-1 div.sk-label:hover label.sk-toggleable__label {\n",
       "  color: var(--sklearn-color-text);\n",
       "  background-color: var(--sklearn-color-unfitted-level-2);\n",
       "}\n",
       "\n",
       "/* Label box, darken color on hover, fitted */\n",
       "#sk-container-id-1 div.sk-label.fitted:hover label.sk-toggleable__label.fitted {\n",
       "  color: var(--sklearn-color-text);\n",
       "  background-color: var(--sklearn-color-fitted-level-2);\n",
       "}\n",
       "\n",
       "/* Estimator label */\n",
       "\n",
       "#sk-container-id-1 div.sk-label label {\n",
       "  font-family: monospace;\n",
       "  font-weight: bold;\n",
       "  display: inline-block;\n",
       "  line-height: 1.2em;\n",
       "}\n",
       "\n",
       "#sk-container-id-1 div.sk-label-container {\n",
       "  text-align: center;\n",
       "}\n",
       "\n",
       "/* Estimator-specific */\n",
       "#sk-container-id-1 div.sk-estimator {\n",
       "  font-family: monospace;\n",
       "  border: 1px dotted var(--sklearn-color-border-box);\n",
       "  border-radius: 0.25em;\n",
       "  box-sizing: border-box;\n",
       "  margin-bottom: 0.5em;\n",
       "  /* unfitted */\n",
       "  background-color: var(--sklearn-color-unfitted-level-0);\n",
       "}\n",
       "\n",
       "#sk-container-id-1 div.sk-estimator.fitted {\n",
       "  /* fitted */\n",
       "  background-color: var(--sklearn-color-fitted-level-0);\n",
       "}\n",
       "\n",
       "/* on hover */\n",
       "#sk-container-id-1 div.sk-estimator:hover {\n",
       "  /* unfitted */\n",
       "  background-color: var(--sklearn-color-unfitted-level-2);\n",
       "}\n",
       "\n",
       "#sk-container-id-1 div.sk-estimator.fitted:hover {\n",
       "  /* fitted */\n",
       "  background-color: var(--sklearn-color-fitted-level-2);\n",
       "}\n",
       "\n",
       "/* Specification for estimator info (e.g. \"i\" and \"?\") */\n",
       "\n",
       "/* Common style for \"i\" and \"?\" */\n",
       "\n",
       ".sk-estimator-doc-link,\n",
       "a:link.sk-estimator-doc-link,\n",
       "a:visited.sk-estimator-doc-link {\n",
       "  float: right;\n",
       "  font-size: smaller;\n",
       "  line-height: 1em;\n",
       "  font-family: monospace;\n",
       "  background-color: var(--sklearn-color-background);\n",
       "  border-radius: 1em;\n",
       "  height: 1em;\n",
       "  width: 1em;\n",
       "  text-decoration: none !important;\n",
       "  margin-left: 1ex;\n",
       "  /* unfitted */\n",
       "  border: var(--sklearn-color-unfitted-level-1) 1pt solid;\n",
       "  color: var(--sklearn-color-unfitted-level-1);\n",
       "}\n",
       "\n",
       ".sk-estimator-doc-link.fitted,\n",
       "a:link.sk-estimator-doc-link.fitted,\n",
       "a:visited.sk-estimator-doc-link.fitted {\n",
       "  /* fitted */\n",
       "  border: var(--sklearn-color-fitted-level-1) 1pt solid;\n",
       "  color: var(--sklearn-color-fitted-level-1);\n",
       "}\n",
       "\n",
       "/* On hover */\n",
       "div.sk-estimator:hover .sk-estimator-doc-link:hover,\n",
       ".sk-estimator-doc-link:hover,\n",
       "div.sk-label-container:hover .sk-estimator-doc-link:hover,\n",
       ".sk-estimator-doc-link:hover {\n",
       "  /* unfitted */\n",
       "  background-color: var(--sklearn-color-unfitted-level-3);\n",
       "  color: var(--sklearn-color-background);\n",
       "  text-decoration: none;\n",
       "}\n",
       "\n",
       "div.sk-estimator.fitted:hover .sk-estimator-doc-link.fitted:hover,\n",
       ".sk-estimator-doc-link.fitted:hover,\n",
       "div.sk-label-container:hover .sk-estimator-doc-link.fitted:hover,\n",
       ".sk-estimator-doc-link.fitted:hover {\n",
       "  /* fitted */\n",
       "  background-color: var(--sklearn-color-fitted-level-3);\n",
       "  color: var(--sklearn-color-background);\n",
       "  text-decoration: none;\n",
       "}\n",
       "\n",
       "/* Span, style for the box shown on hovering the info icon */\n",
       ".sk-estimator-doc-link span {\n",
       "  display: none;\n",
       "  z-index: 9999;\n",
       "  position: relative;\n",
       "  font-weight: normal;\n",
       "  right: .2ex;\n",
       "  padding: .5ex;\n",
       "  margin: .5ex;\n",
       "  width: min-content;\n",
       "  min-width: 20ex;\n",
       "  max-width: 50ex;\n",
       "  color: var(--sklearn-color-text);\n",
       "  box-shadow: 2pt 2pt 4pt #999;\n",
       "  /* unfitted */\n",
       "  background: var(--sklearn-color-unfitted-level-0);\n",
       "  border: .5pt solid var(--sklearn-color-unfitted-level-3);\n",
       "}\n",
       "\n",
       ".sk-estimator-doc-link.fitted span {\n",
       "  /* fitted */\n",
       "  background: var(--sklearn-color-fitted-level-0);\n",
       "  border: var(--sklearn-color-fitted-level-3);\n",
       "}\n",
       "\n",
       ".sk-estimator-doc-link:hover span {\n",
       "  display: block;\n",
       "}\n",
       "\n",
       "/* \"?\"-specific style due to the `<a>` HTML tag */\n",
       "\n",
       "#sk-container-id-1 a.estimator_doc_link {\n",
       "  float: right;\n",
       "  font-size: 1rem;\n",
       "  line-height: 1em;\n",
       "  font-family: monospace;\n",
       "  background-color: var(--sklearn-color-background);\n",
       "  border-radius: 1rem;\n",
       "  height: 1rem;\n",
       "  width: 1rem;\n",
       "  text-decoration: none;\n",
       "  /* unfitted */\n",
       "  color: var(--sklearn-color-unfitted-level-1);\n",
       "  border: var(--sklearn-color-unfitted-level-1) 1pt solid;\n",
       "}\n",
       "\n",
       "#sk-container-id-1 a.estimator_doc_link.fitted {\n",
       "  /* fitted */\n",
       "  border: var(--sklearn-color-fitted-level-1) 1pt solid;\n",
       "  color: var(--sklearn-color-fitted-level-1);\n",
       "}\n",
       "\n",
       "/* On hover */\n",
       "#sk-container-id-1 a.estimator_doc_link:hover {\n",
       "  /* unfitted */\n",
       "  background-color: var(--sklearn-color-unfitted-level-3);\n",
       "  color: var(--sklearn-color-background);\n",
       "  text-decoration: none;\n",
       "}\n",
       "\n",
       "#sk-container-id-1 a.estimator_doc_link.fitted:hover {\n",
       "  /* fitted */\n",
       "  background-color: var(--sklearn-color-fitted-level-3);\n",
       "}\n",
       "</style><div id=\"sk-container-id-1\" class=\"sk-top-container\"><div class=\"sk-text-repr-fallback\"><pre>XGBClassifier(base_score=None, booster=None, callbacks=None,\n",
       "              colsample_bylevel=None, colsample_bynode=0.6410035105688879,\n",
       "              colsample_bytree=None, device=&#x27;gpu&#x27;, early_stopping_rounds=None,\n",
       "              enable_categorical=False,\n",
       "              eval_metric=&lt;function custom_f1_score at 0x74adc007f880&gt;,\n",
       "              feature_types=None, gamma=None, grow_policy=None,\n",
       "              importance_type=None, interaction_constraints=None,\n",
       "              learning_rate=0.08148293210105287, max_bin=None,\n",
       "              max_cat_threshold=None, max_cat_to_onehot=None,\n",
       "              max_delta_step=None, max_depth=5, max_leaves=None,\n",
       "              min_child_weight=15, missing=nan, monotone_constraints=None,\n",
       "              multi_strategy=None, n_estimators=105, n_jobs=None,\n",
       "              num_parallel_tree=None, objective=&#x27;multi:softprob&#x27;, ...)</pre><b>In a Jupyter environment, please rerun this cell to show the HTML representation or trust the notebook. <br />On GitHub, the HTML representation is unable to render, please try loading this page with nbviewer.org.</b></div><div class=\"sk-container\" hidden><div class=\"sk-item\"><div class=\"sk-estimator fitted sk-toggleable\"><input class=\"sk-toggleable__control sk-hidden--visually\" id=\"sk-estimator-id-1\" type=\"checkbox\" checked><label for=\"sk-estimator-id-1\" class=\"sk-toggleable__label fitted sk-toggleable__label-arrow fitted\">&nbsp;XGBClassifier<span class=\"sk-estimator-doc-link fitted\">i<span>Fitted</span></span></label><div class=\"sk-toggleable__content fitted\"><pre>XGBClassifier(base_score=None, booster=None, callbacks=None,\n",
       "              colsample_bylevel=None, colsample_bynode=0.6410035105688879,\n",
       "              colsample_bytree=None, device=&#x27;gpu&#x27;, early_stopping_rounds=None,\n",
       "              enable_categorical=False,\n",
       "              eval_metric=&lt;function custom_f1_score at 0x74adc007f880&gt;,\n",
       "              feature_types=None, gamma=None, grow_policy=None,\n",
       "              importance_type=None, interaction_constraints=None,\n",
       "              learning_rate=0.08148293210105287, max_bin=None,\n",
       "              max_cat_threshold=None, max_cat_to_onehot=None,\n",
       "              max_delta_step=None, max_depth=5, max_leaves=None,\n",
       "              min_child_weight=15, missing=nan, monotone_constraints=None,\n",
       "              multi_strategy=None, n_estimators=105, n_jobs=None,\n",
       "              num_parallel_tree=None, objective=&#x27;multi:softprob&#x27;, ...)</pre></div> </div></div></div></div>"
      ],
      "text/plain": [
       "XGBClassifier(base_score=None, booster=None, callbacks=None,\n",
       "              colsample_bylevel=None, colsample_bynode=0.6410035105688879,\n",
       "              colsample_bytree=None, device='gpu', early_stopping_rounds=None,\n",
       "              enable_categorical=False,\n",
       "              eval_metric=<function custom_f1_score at 0x74adc007f880>,\n",
       "              feature_types=None, gamma=None, grow_policy=None,\n",
       "              importance_type=None, interaction_constraints=None,\n",
       "              learning_rate=0.08148293210105287, max_bin=None,\n",
       "              max_cat_threshold=None, max_cat_to_onehot=None,\n",
       "              max_delta_step=None, max_depth=5, max_leaves=None,\n",
       "              min_child_weight=15, missing=nan, monotone_constraints=None,\n",
       "              multi_strategy=None, n_estimators=105, n_jobs=None,\n",
       "              num_parallel_tree=None, objective='multi:softprob', ...)"
      ]
     },
     "execution_count": 24,
     "metadata": {},
     "output_type": "execute_result"
    }
   ],
   "source": [
    "n_estimators = int(study.best_trial.user_attrs['best_iteration']*1.2)\n",
    "xgb = xgboost.XGBClassifier(\n",
    "        device='gpu',\n",
    "        eval_metric=eval_metric,\n",
    "        n_estimators=n_estimators,\n",
    "        **study.best_trial.params\n",
    "    )\n",
    "xgb.fit(\n",
    "    ssp.vstack((X_train, X_val)), \n",
    "    np.concatenate((y_train_enc, y_val_enc)), \n",
    "    eval_set=[(X_test, y_test_enc)],\n",
    "    verbose=1,\n",
    ")"
   ]
  },
  {
   "cell_type": "code",
   "execution_count": 25,
   "id": "0d83df06",
   "metadata": {
    "editable": true,
    "execution": {
     "iopub.execute_input": "2025-03-17T23:42:00.642502Z",
     "iopub.status.busy": "2025-03-17T23:42:00.642003Z",
     "iopub.status.idle": "2025-03-17T23:42:00.689517Z",
     "shell.execute_reply": "2025-03-17T23:42:00.688873Z"
    },
    "papermill": {
     "duration": 0.064236,
     "end_time": "2025-03-17T23:42:00.690606",
     "exception": false,
     "start_time": "2025-03-17T23:42:00.626370",
     "status": "completed"
    },
    "slideshow": {
     "slide_type": ""
    },
    "tags": []
   },
   "outputs": [
    {
     "data": {
      "text/plain": [
       "['/scratch_isilon/groups/singlecell/shared/projects/Inflammation-PBMCs-Atlas/03_downstream_analysis/08_gene_importance/results/targetY_studyID/03_xgboost/best_model/studyID_ILC_xgb.json']"
      ]
     },
     "execution_count": 25,
     "metadata": {},
     "output_type": "execute_result"
    }
   ],
   "source": [
    "os.makedirs(here(f\"03_downstream_analysis/08_gene_importance/results/targetY_{target_y}/03_xgboost/best_model/\"), exist_ok=True)\n",
    "\n",
    "joblib.dump(xgb, (here(f'03_downstream_analysis/08_gene_importance/results/targetY_{target_y}/03_xgboost/best_model/{RUN_NAME}{CELL_TYPE}_xgb.json')))"
   ]
  },
  {
   "cell_type": "code",
   "execution_count": 26,
   "id": "6a8470d9",
   "metadata": {
    "execution": {
     "iopub.execute_input": "2025-03-17T23:42:00.752617Z",
     "iopub.status.busy": "2025-03-17T23:42:00.752022Z",
     "iopub.status.idle": "2025-03-17T23:42:03.932790Z",
     "shell.execute_reply": "2025-03-17T23:42:03.932249Z"
    },
    "papermill": {
     "duration": 3.21072,
     "end_time": "2025-03-17T23:42:03.933878",
     "exception": false,
     "start_time": "2025-03-17T23:42:00.723158",
     "status": "completed"
    },
    "tags": []
   },
   "outputs": [
    {
     "name": "stderr",
     "output_type": "stream",
     "text": [
      "/scratch_isilon/groups/singlecell/shared/conda_env/xgboostGPU/lib/python3.12/site-packages/xgboost/core.py:160: UserWarning:\n",
      "\n",
      "[23:42:00] WARNING: /home/conda/feedstock_root/build_artifacts/xgboost-split_1703076482591/work/src/common/error_msg.cc:58: Falling back to prediction using DMatrix due to mismatched devices. This might lead to higher memory usage and slower performance. XGBoost is running on: cuda:0, while the input data is on: cpu.\n",
      "Potential solutions:\n",
      "- Use a data structure that matches the device ordinal in the booster.\n",
      "- Set the device for booster before call to inplace_predict.\n",
      "\n",
      "This warning will only be shown once.\n",
      "\n",
      "\n"
     ]
    }
   ],
   "source": [
    "os.makedirs(here(f\"03_downstream_analysis/08_gene_importance/results/targetY_{target_y}/03_xgboost/predictions/\"), exist_ok=True)\n",
    "\n",
    "(pd.DataFrame(np.array((y_test, y_test_enc, xgb.predict(X_test))).T, columns=['y_true', 'y_true_code', 'y_pred'])\n",
    " .to_csv(here(f'03_downstream_analysis/08_gene_importance/results/targetY_{target_y}/03_xgboost/predictions/{RUN_NAME}{CELL_TYPE}_pred_test.zip')))\n",
    "(pd.DataFrame(np.array((y_train, y_train_enc, xgb.predict(X_train))).T, columns=['y_true', 'y_true_code', 'y_pred'])\n",
    " .to_csv(here(f'03_downstream_analysis/08_gene_importance/results/targetY_{target_y}/03_xgboost/predictions/{RUN_NAME}{CELL_TYPE}_pred_train.zip')))"
   ]
  },
  {
   "cell_type": "code",
   "execution_count": null,
   "id": "7f3c1095",
   "metadata": {
    "papermill": {
     "duration": 0.038758,
     "end_time": "2025-03-17T23:42:04.002465",
     "exception": false,
     "start_time": "2025-03-17T23:42:03.963707",
     "status": "completed"
    },
    "tags": []
   },
   "outputs": [],
   "source": []
  }
 ],
 "metadata": {
  "kernelspec": {
   "display_name": "Python 3 (ipykernel)",
   "language": "python",
   "name": "python3"
  },
  "language_info": {
   "codemirror_mode": {
    "name": "ipython",
    "version": 3
   },
   "file_extension": ".py",
   "mimetype": "text/x-python",
   "name": "python",
   "nbconvert_exporter": "python",
   "pygments_lexer": "ipython3",
   "version": "3.12.9"
  },
  "papermill": {
   "default_parameters": {},
   "duration": 863.044631,
   "end_time": "2025-03-17T23:42:07.358426",
   "environment_variables": {},
   "exception": null,
   "input_path": "02_studyID_xgboost_fitting.ipynb",
   "output_path": "executed_notebooks/02_studyID_xgboost_fitting_ILC.ipynb",
   "parameters": {
    "CELL_TYPE": "ILC"
   },
   "start_time": "2025-03-17T23:27:44.313795",
   "version": "2.6.0"
  }
 },
 "nbformat": 4,
 "nbformat_minor": 5
}