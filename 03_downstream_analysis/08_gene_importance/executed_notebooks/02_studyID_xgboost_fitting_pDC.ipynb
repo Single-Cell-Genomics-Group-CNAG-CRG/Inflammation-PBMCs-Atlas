{
 "cells": [
  {
   "cell_type": "code",
   "execution_count": 1,
   "id": "b994c2ff",
   "metadata": {
    "editable": true,
    "execution": {
     "iopub.execute_input": "2025-03-17T18:03:47.053042Z",
     "iopub.status.busy": "2025-03-17T18:03:47.052037Z",
     "iopub.status.idle": "2025-03-17T18:03:47.058107Z",
     "shell.execute_reply": "2025-03-17T18:03:47.057382Z"
    },
    "papermill": {
     "duration": 0.023979,
     "end_time": "2025-03-17T18:03:47.060071",
     "exception": false,
     "start_time": "2025-03-17T18:03:47.036092",
     "status": "completed"
    },
    "slideshow": {
     "slide_type": ""
    },
    "tags": [
     "parameters"
    ]
   },
   "outputs": [],
   "source": [
    "CELL_TYPE = 'DC'\n",
    "N_SPLITS: int = 5\n",
    "N_TRIALS: int = 50\n",
    "RUN_NAME: str = \"studyID\""
   ]
  },
  {
   "cell_type": "code",
   "execution_count": 2,
   "id": "669e6140",
   "metadata": {
    "execution": {
     "iopub.execute_input": "2025-03-17T18:03:47.084815Z",
     "iopub.status.busy": "2025-03-17T18:03:47.084556Z",
     "iopub.status.idle": "2025-03-17T18:03:47.088283Z",
     "shell.execute_reply": "2025-03-17T18:03:47.087580Z"
    },
    "papermill": {
     "duration": 0.014745,
     "end_time": "2025-03-17T18:03:47.089553",
     "exception": false,
     "start_time": "2025-03-17T18:03:47.074808",
     "status": "completed"
    },
    "tags": [
     "injected-parameters"
    ]
   },
   "outputs": [],
   "source": [
    "# Parameters\n",
    "CELL_TYPE = \"pDC\"\n"
   ]
  },
  {
   "cell_type": "code",
   "execution_count": 3,
   "id": "01f9bf5b",
   "metadata": {
    "editable": true,
    "execution": {
     "iopub.execute_input": "2025-03-17T18:03:47.107789Z",
     "iopub.status.busy": "2025-03-17T18:03:47.107568Z",
     "iopub.status.idle": "2025-03-17T18:03:47.113511Z",
     "shell.execute_reply": "2025-03-17T18:03:47.113102Z"
    },
    "papermill": {
     "duration": 0.016184,
     "end_time": "2025-03-17T18:03:47.114474",
     "exception": false,
     "start_time": "2025-03-17T18:03:47.098290",
     "status": "completed"
    },
    "slideshow": {
     "slide_type": ""
    },
    "tags": []
   },
   "outputs": [],
   "source": [
    "if RUN_NAME != \"\":\n",
    "    RUN_NAME = RUN_NAME + \"_\""
   ]
  },
  {
   "cell_type": "code",
   "execution_count": 4,
   "id": "4ff67cf3",
   "metadata": {
    "editable": true,
    "execution": {
     "iopub.execute_input": "2025-03-17T18:03:47.194056Z",
     "iopub.status.busy": "2025-03-17T18:03:47.193794Z",
     "iopub.status.idle": "2025-03-17T18:03:49.055833Z",
     "shell.execute_reply": "2025-03-17T18:03:49.054923Z"
    },
    "papermill": {
     "duration": 1.934677,
     "end_time": "2025-03-17T18:03:49.058230",
     "exception": false,
     "start_time": "2025-03-17T18:03:47.123553",
     "status": "completed"
    },
    "slideshow": {
     "slide_type": ""
    },
    "tags": []
   },
   "outputs": [],
   "source": [
    "import os\n",
    "import sys\n",
    "#from pyprojroot.here import here\n",
    "\n",
    "import pandas as pd\n",
    "import anndata as ad\n",
    "import numpy as np\n",
    "import math\n",
    "from sklearn.model_selection import StratifiedGroupKFold\n",
    "from sklearn.preprocessing import LabelEncoder\n",
    "from sklearn.metrics import f1_score\n",
    "import matplotlib.pyplot as plt\n",
    "import seaborn as sns\n",
    "from itertools import product\n",
    "\n",
    "import optuna\n",
    "\n",
    "import joblib\n",
    "import pickle\n",
    "import datetime\n",
    "\n",
    "import collections\n",
    "\n",
    "import xgboost\n",
    "from sklearn.preprocessing import LabelEncoder\n",
    "\n",
    "import scipy.sparse as ssp\n",
    "import joblib\n",
    "\n",
    "from pyprojroot import here\n",
    "\n",
    "from dotenv import load_dotenv"
   ]
  },
  {
   "cell_type": "code",
   "execution_count": 5,
   "id": "1d54d83f",
   "metadata": {
    "execution": {
     "iopub.execute_input": "2025-03-17T18:03:49.102585Z",
     "iopub.status.busy": "2025-03-17T18:03:49.100754Z",
     "iopub.status.idle": "2025-03-17T18:03:49.109202Z",
     "shell.execute_reply": "2025-03-17T18:03:49.107974Z"
    },
    "papermill": {
     "duration": 0.039018,
     "end_time": "2025-03-17T18:03:49.111050",
     "exception": false,
     "start_time": "2025-03-17T18:03:49.072032",
     "status": "completed"
    },
    "tags": []
   },
   "outputs": [],
   "source": [
    "assert load_dotenv()"
   ]
  },
  {
   "cell_type": "markdown",
   "id": "dfb1c77e",
   "metadata": {
    "execution": {
     "iopub.execute_input": "2025-03-17T14:39:30.205388Z",
     "iopub.status.busy": "2025-03-17T14:39:30.204197Z",
     "iopub.status.idle": "2025-03-17T14:39:30.210586Z",
     "shell.execute_reply": "2025-03-17T14:39:30.209317Z",
     "shell.execute_reply.started": "2025-03-17T14:39:30.205342Z"
    },
    "papermill": {
     "duration": 0.00922,
     "end_time": "2025-03-17T18:03:49.133817",
     "exception": false,
     "start_time": "2025-03-17T18:03:49.124597",
     "status": "completed"
    },
    "tags": []
   },
   "source": [
    "def here(fpath):\n",
    "    return os.path.join(BUCKET_DIRPATH, fpath)"
   ]
  },
  {
   "cell_type": "code",
   "execution_count": 6,
   "id": "5f3ce9d9",
   "metadata": {
    "execution": {
     "iopub.execute_input": "2025-03-17T18:03:49.164555Z",
     "iopub.status.busy": "2025-03-17T18:03:49.163786Z",
     "iopub.status.idle": "2025-03-17T18:03:49.167618Z",
     "shell.execute_reply": "2025-03-17T18:03:49.166961Z"
    },
    "papermill": {
     "duration": 0.021926,
     "end_time": "2025-03-17T18:03:49.168883",
     "exception": false,
     "start_time": "2025-03-17T18:03:49.146957",
     "status": "completed"
    },
    "tags": []
   },
   "outputs": [],
   "source": [
    "target_y = 'studyID'"
   ]
  },
  {
   "cell_type": "markdown",
   "id": "db433fd9",
   "metadata": {
    "papermill": {
     "duration": 0.009003,
     "end_time": "2025-03-17T18:03:49.186820",
     "exception": false,
     "start_time": "2025-03-17T18:03:49.177817",
     "status": "completed"
    },
    "tags": []
   },
   "source": [
    "# LOAD DATASET"
   ]
  },
  {
   "cell_type": "code",
   "execution_count": 7,
   "id": "961a5bae",
   "metadata": {
    "execution": {
     "iopub.execute_input": "2025-03-17T18:03:49.204456Z",
     "iopub.status.busy": "2025-03-17T18:03:49.203734Z",
     "iopub.status.idle": "2025-03-17T18:03:49.677312Z",
     "shell.execute_reply": "2025-03-17T18:03:49.675941Z"
    },
    "papermill": {
     "duration": 0.486625,
     "end_time": "2025-03-17T18:03:49.679919",
     "exception": false,
     "start_time": "2025-03-17T18:03:49.193294",
     "status": "completed"
    },
    "tags": []
   },
   "outputs": [],
   "source": [
    "adata = ad.read_h5ad(\n",
    "    str(here(f'03_downstream_analysis/08_gene_importance/data/{CELL_TYPE}_adataMerged_SPECTRAgenes.log1p.h5ad')),\n",
    "    backed='r',\n",
    "    chunk_size=25000\n",
    ")"
   ]
  },
  {
   "cell_type": "code",
   "execution_count": 8,
   "id": "e41f8a9c",
   "metadata": {
    "execution": {
     "iopub.execute_input": "2025-03-17T18:03:49.705469Z",
     "iopub.status.busy": "2025-03-17T18:03:49.704750Z",
     "iopub.status.idle": "2025-03-17T18:03:49.742394Z",
     "shell.execute_reply": "2025-03-17T18:03:49.741356Z"
    },
    "papermill": {
     "duration": 0.050047,
     "end_time": "2025-03-17T18:03:49.744055",
     "exception": false,
     "start_time": "2025-03-17T18:03:49.694008",
     "status": "completed"
    },
    "tags": []
   },
   "outputs": [
    {
     "data": {
      "text/html": [
       "<div>\n",
       "<style scoped>\n",
       "    .dataframe tbody tr th:only-of-type {\n",
       "        vertical-align: middle;\n",
       "    }\n",
       "\n",
       "    .dataframe tbody tr th {\n",
       "        vertical-align: top;\n",
       "    }\n",
       "\n",
       "    .dataframe thead th {\n",
       "        text-align: right;\n",
       "    }\n",
       "</style>\n",
       "<table border=\"1\" class=\"dataframe\">\n",
       "  <thead>\n",
       "    <tr style=\"text-align: right;\">\n",
       "      <th></th>\n",
       "      <th>studyID</th>\n",
       "      <th>libraryID</th>\n",
       "      <th>sampleID</th>\n",
       "      <th>chemistry</th>\n",
       "      <th>disease</th>\n",
       "      <th>sex</th>\n",
       "      <th>binned_age</th>\n",
       "      <th>Level1</th>\n",
       "      <th>Level2</th>\n",
       "    </tr>\n",
       "    <tr>\n",
       "      <th>cellID</th>\n",
       "      <th></th>\n",
       "      <th></th>\n",
       "      <th></th>\n",
       "      <th></th>\n",
       "      <th></th>\n",
       "      <th></th>\n",
       "      <th></th>\n",
       "      <th></th>\n",
       "      <th></th>\n",
       "    </tr>\n",
       "  </thead>\n",
       "  <tbody>\n",
       "    <tr>\n",
       "      <th>Terekhova2023_L089_D24_T0_AAGGCAGCACATCCAA</th>\n",
       "      <td>Terekhova2023</td>\n",
       "      <td>Terekhova2023_L089</td>\n",
       "      <td>Terekhova2023_D24_T0</td>\n",
       "      <td>5_GEX_V2</td>\n",
       "      <td>healthy</td>\n",
       "      <td>male</td>\n",
       "      <td>61-70</td>\n",
       "      <td>pDC</td>\n",
       "      <td>pDC</td>\n",
       "    </tr>\n",
       "    <tr>\n",
       "      <th>Terekhova2023_L089_D24_T0_ACACCCTAGCAGATCG</th>\n",
       "      <td>Terekhova2023</td>\n",
       "      <td>Terekhova2023_L089</td>\n",
       "      <td>Terekhova2023_D24_T0</td>\n",
       "      <td>5_GEX_V2</td>\n",
       "      <td>healthy</td>\n",
       "      <td>male</td>\n",
       "      <td>61-70</td>\n",
       "      <td>pDC</td>\n",
       "      <td>pDC</td>\n",
       "    </tr>\n",
       "    <tr>\n",
       "      <th>Terekhova2023_L089_D24_T0_ACATACGCATTGGTAC</th>\n",
       "      <td>Terekhova2023</td>\n",
       "      <td>Terekhova2023_L089</td>\n",
       "      <td>Terekhova2023_D24_T0</td>\n",
       "      <td>5_GEX_V2</td>\n",
       "      <td>healthy</td>\n",
       "      <td>male</td>\n",
       "      <td>61-70</td>\n",
       "      <td>pDC</td>\n",
       "      <td>pDC</td>\n",
       "    </tr>\n",
       "    <tr>\n",
       "      <th>Terekhova2023_L089_D24_T0_AGCGGTCAGGACAGCT</th>\n",
       "      <td>Terekhova2023</td>\n",
       "      <td>Terekhova2023_L089</td>\n",
       "      <td>Terekhova2023_D24_T0</td>\n",
       "      <td>5_GEX_V2</td>\n",
       "      <td>healthy</td>\n",
       "      <td>male</td>\n",
       "      <td>61-70</td>\n",
       "      <td>pDC</td>\n",
       "      <td>pDC</td>\n",
       "    </tr>\n",
       "    <tr>\n",
       "      <th>Terekhova2023_L089_D24_T0_AGGTCATCAGATCCAT</th>\n",
       "      <td>Terekhova2023</td>\n",
       "      <td>Terekhova2023_L089</td>\n",
       "      <td>Terekhova2023_D24_T0</td>\n",
       "      <td>5_GEX_V2</td>\n",
       "      <td>healthy</td>\n",
       "      <td>male</td>\n",
       "      <td>61-70</td>\n",
       "      <td>pDC</td>\n",
       "      <td>pDC</td>\n",
       "    </tr>\n",
       "    <tr>\n",
       "      <th>...</th>\n",
       "      <td>...</td>\n",
       "      <td>...</td>\n",
       "      <td>...</td>\n",
       "      <td>...</td>\n",
       "      <td>...</td>\n",
       "      <td>...</td>\n",
       "      <td>...</td>\n",
       "      <td>...</td>\n",
       "      <td>...</td>\n",
       "    </tr>\n",
       "    <tr>\n",
       "      <th>Perez2022_L064_HC524_T0_TGACGGCTCTGTCAAG</th>\n",
       "      <td>Perez2022</td>\n",
       "      <td>Perez2022_L064</td>\n",
       "      <td>Perez2022_HC524_T0</td>\n",
       "      <td>3_GEX_V2</td>\n",
       "      <td>healthy</td>\n",
       "      <td>female</td>\n",
       "      <td>71-80</td>\n",
       "      <td>pDC</td>\n",
       "      <td>pDC</td>\n",
       "    </tr>\n",
       "    <tr>\n",
       "      <th>Perez2022_L067_HC524_T0_AGGGATGTCCCTAACC</th>\n",
       "      <td>Perez2022</td>\n",
       "      <td>Perez2022_L067</td>\n",
       "      <td>Perez2022_HC524_T0</td>\n",
       "      <td>3_GEX_V2</td>\n",
       "      <td>healthy</td>\n",
       "      <td>female</td>\n",
       "      <td>71-80</td>\n",
       "      <td>pDC</td>\n",
       "      <td>pDC</td>\n",
       "    </tr>\n",
       "    <tr>\n",
       "      <th>Perez2022_L067_HC524_T0_CGCCAAGTCGAGAACG</th>\n",
       "      <td>Perez2022</td>\n",
       "      <td>Perez2022_L067</td>\n",
       "      <td>Perez2022_HC524_T0</td>\n",
       "      <td>3_GEX_V2</td>\n",
       "      <td>healthy</td>\n",
       "      <td>female</td>\n",
       "      <td>71-80</td>\n",
       "      <td>pDC</td>\n",
       "      <td>pDC</td>\n",
       "    </tr>\n",
       "    <tr>\n",
       "      <th>Perez2022_L067_HC524_T0_TCAACGAGTCATGCAT</th>\n",
       "      <td>Perez2022</td>\n",
       "      <td>Perez2022_L067</td>\n",
       "      <td>Perez2022_HC524_T0</td>\n",
       "      <td>3_GEX_V2</td>\n",
       "      <td>healthy</td>\n",
       "      <td>female</td>\n",
       "      <td>71-80</td>\n",
       "      <td>pDC</td>\n",
       "      <td>pDC</td>\n",
       "    </tr>\n",
       "    <tr>\n",
       "      <th>Perez2022_L067_HC524_T0_TTAACTCCATTCTTAC</th>\n",
       "      <td>Perez2022</td>\n",
       "      <td>Perez2022_L067</td>\n",
       "      <td>Perez2022_HC524_T0</td>\n",
       "      <td>3_GEX_V2</td>\n",
       "      <td>healthy</td>\n",
       "      <td>female</td>\n",
       "      <td>71-80</td>\n",
       "      <td>pDC</td>\n",
       "      <td>pDC</td>\n",
       "    </tr>\n",
       "  </tbody>\n",
       "</table>\n",
       "<p>22902 rows × 9 columns</p>\n",
       "</div>"
      ],
      "text/plain": [
       "                                                  studyID           libraryID  \\\n",
       "cellID                                                                          \n",
       "Terekhova2023_L089_D24_T0_AAGGCAGCACATCCAA  Terekhova2023  Terekhova2023_L089   \n",
       "Terekhova2023_L089_D24_T0_ACACCCTAGCAGATCG  Terekhova2023  Terekhova2023_L089   \n",
       "Terekhova2023_L089_D24_T0_ACATACGCATTGGTAC  Terekhova2023  Terekhova2023_L089   \n",
       "Terekhova2023_L089_D24_T0_AGCGGTCAGGACAGCT  Terekhova2023  Terekhova2023_L089   \n",
       "Terekhova2023_L089_D24_T0_AGGTCATCAGATCCAT  Terekhova2023  Terekhova2023_L089   \n",
       "...                                                   ...                 ...   \n",
       "Perez2022_L064_HC524_T0_TGACGGCTCTGTCAAG        Perez2022      Perez2022_L064   \n",
       "Perez2022_L067_HC524_T0_AGGGATGTCCCTAACC        Perez2022      Perez2022_L067   \n",
       "Perez2022_L067_HC524_T0_CGCCAAGTCGAGAACG        Perez2022      Perez2022_L067   \n",
       "Perez2022_L067_HC524_T0_TCAACGAGTCATGCAT        Perez2022      Perez2022_L067   \n",
       "Perez2022_L067_HC524_T0_TTAACTCCATTCTTAC        Perez2022      Perez2022_L067   \n",
       "\n",
       "                                                        sampleID chemistry  \\\n",
       "cellID                                                                       \n",
       "Terekhova2023_L089_D24_T0_AAGGCAGCACATCCAA  Terekhova2023_D24_T0  5_GEX_V2   \n",
       "Terekhova2023_L089_D24_T0_ACACCCTAGCAGATCG  Terekhova2023_D24_T0  5_GEX_V2   \n",
       "Terekhova2023_L089_D24_T0_ACATACGCATTGGTAC  Terekhova2023_D24_T0  5_GEX_V2   \n",
       "Terekhova2023_L089_D24_T0_AGCGGTCAGGACAGCT  Terekhova2023_D24_T0  5_GEX_V2   \n",
       "Terekhova2023_L089_D24_T0_AGGTCATCAGATCCAT  Terekhova2023_D24_T0  5_GEX_V2   \n",
       "...                                                          ...       ...   \n",
       "Perez2022_L064_HC524_T0_TGACGGCTCTGTCAAG      Perez2022_HC524_T0  3_GEX_V2   \n",
       "Perez2022_L067_HC524_T0_AGGGATGTCCCTAACC      Perez2022_HC524_T0  3_GEX_V2   \n",
       "Perez2022_L067_HC524_T0_CGCCAAGTCGAGAACG      Perez2022_HC524_T0  3_GEX_V2   \n",
       "Perez2022_L067_HC524_T0_TCAACGAGTCATGCAT      Perez2022_HC524_T0  3_GEX_V2   \n",
       "Perez2022_L067_HC524_T0_TTAACTCCATTCTTAC      Perez2022_HC524_T0  3_GEX_V2   \n",
       "\n",
       "                                            disease     sex binned_age Level1  \\\n",
       "cellID                                                                          \n",
       "Terekhova2023_L089_D24_T0_AAGGCAGCACATCCAA  healthy    male      61-70    pDC   \n",
       "Terekhova2023_L089_D24_T0_ACACCCTAGCAGATCG  healthy    male      61-70    pDC   \n",
       "Terekhova2023_L089_D24_T0_ACATACGCATTGGTAC  healthy    male      61-70    pDC   \n",
       "Terekhova2023_L089_D24_T0_AGCGGTCAGGACAGCT  healthy    male      61-70    pDC   \n",
       "Terekhova2023_L089_D24_T0_AGGTCATCAGATCCAT  healthy    male      61-70    pDC   \n",
       "...                                             ...     ...        ...    ...   \n",
       "Perez2022_L064_HC524_T0_TGACGGCTCTGTCAAG    healthy  female      71-80    pDC   \n",
       "Perez2022_L067_HC524_T0_AGGGATGTCCCTAACC    healthy  female      71-80    pDC   \n",
       "Perez2022_L067_HC524_T0_CGCCAAGTCGAGAACG    healthy  female      71-80    pDC   \n",
       "Perez2022_L067_HC524_T0_TCAACGAGTCATGCAT    healthy  female      71-80    pDC   \n",
       "Perez2022_L067_HC524_T0_TTAACTCCATTCTTAC    healthy  female      71-80    pDC   \n",
       "\n",
       "                                           Level2  \n",
       "cellID                                             \n",
       "Terekhova2023_L089_D24_T0_AAGGCAGCACATCCAA    pDC  \n",
       "Terekhova2023_L089_D24_T0_ACACCCTAGCAGATCG    pDC  \n",
       "Terekhova2023_L089_D24_T0_ACATACGCATTGGTAC    pDC  \n",
       "Terekhova2023_L089_D24_T0_AGCGGTCAGGACAGCT    pDC  \n",
       "Terekhova2023_L089_D24_T0_AGGTCATCAGATCCAT    pDC  \n",
       "...                                           ...  \n",
       "Perez2022_L064_HC524_T0_TGACGGCTCTGTCAAG      pDC  \n",
       "Perez2022_L067_HC524_T0_AGGGATGTCCCTAACC      pDC  \n",
       "Perez2022_L067_HC524_T0_CGCCAAGTCGAGAACG      pDC  \n",
       "Perez2022_L067_HC524_T0_TCAACGAGTCATGCAT      pDC  \n",
       "Perez2022_L067_HC524_T0_TTAACTCCATTCTTAC      pDC  \n",
       "\n",
       "[22902 rows x 9 columns]"
      ]
     },
     "execution_count": 8,
     "metadata": {},
     "output_type": "execute_result"
    }
   ],
   "source": [
    "adata.obs"
   ]
  },
  {
   "cell_type": "markdown",
   "id": "3ea88a74",
   "metadata": {
    "papermill": {
     "duration": 0.010983,
     "end_time": "2025-03-17T18:03:49.768141",
     "exception": false,
     "start_time": "2025-03-17T18:03:49.757158",
     "status": "completed"
    },
    "tags": []
   },
   "source": [
    "# EXTRACT INDEXES FOR DATA SPLITTING (STRATIFIED BY DISEASE, GROUPED BY PATIENT)\n",
    "\n",
    "# EXTRACT CELL COUNTS PER SPLIT (TO MAKE SURE THAT RATIOS RESEMBLE 70:20:10)"
   ]
  },
  {
   "cell_type": "code",
   "execution_count": 9,
   "id": "c66fe6d6",
   "metadata": {
    "execution": {
     "iopub.execute_input": "2025-03-17T18:03:49.784679Z",
     "iopub.status.busy": "2025-03-17T18:03:49.784034Z",
     "iopub.status.idle": "2025-03-17T18:03:50.176653Z",
     "shell.execute_reply": "2025-03-17T18:03:50.175756Z"
    },
    "papermill": {
     "duration": 0.403342,
     "end_time": "2025-03-17T18:03:50.178657",
     "exception": false,
     "start_time": "2025-03-17T18:03:49.775315",
     "status": "completed"
    },
    "tags": []
   },
   "outputs": [],
   "source": [
    "all_idxs = np.arange(adata.obs.shape[0])\n",
    "left_out_splits = [s[1] for s in StratifiedGroupKFold(n_splits=N_SPLITS).split(all_idxs, adata.obs[target_y], adata.obs.sampleID)]\n",
    "\n",
    "min_stats = []\n",
    "for val_fold_idx, test_fold_idx in product(range(N_SPLITS), range(1,N_SPLITS)):\n",
    "    if val_fold_idx == test_fold_idx:\n",
    "        continue\n",
    "\n",
    "    all_idxs = np.arange(adata.obs.shape[0])\n",
    "    val_idxs, test_idxs = left_out_splits[val_fold_idx], left_out_splits[test_fold_idx]\n",
    "    train_idxs = np.delete(all_idxs, np.union1d(val_idxs, test_idxs))\n",
    "\n",
    "    cell_count_df = []\n",
    "    cell_count_df.append(adata.obs.iloc[train_idxs].groupby(target_y, observed=False).size().to_frame(name='cell_count').reset_index().assign(split='train'))\n",
    "    cell_count_df.append(adata.obs.iloc[val_idxs].groupby(target_y, observed=False).size().to_frame(name='cell_count').reset_index().assign(split='val'))\n",
    "    cell_count_df.append(adata.obs.iloc[test_idxs].groupby(target_y, observed=False).size().to_frame(name='cell_count').reset_index().assign(split='test'))\n",
    "    cell_count_df = pd.concat(cell_count_df).pivot(index=target_y, columns='split', values='cell_count')\n",
    "    cell_plot_data = cell_count_df.div(cell_count_df.sum(axis=1), axis=0).reset_index().melt(id_vars=target_y)\n",
    "    min_stats.append((val_fold_idx, test_fold_idx, cell_plot_data.query('split==\"train\"').value.min(), cell_plot_data.query('split==\"test\"').value.min()))"
   ]
  },
  {
   "cell_type": "markdown",
   "id": "25e7cb39",
   "metadata": {
    "papermill": {
     "duration": 0.014652,
     "end_time": "2025-03-17T18:03:50.213091",
     "exception": false,
     "start_time": "2025-03-17T18:03:50.198439",
     "status": "completed"
    },
    "tags": []
   },
   "source": [
    "# CALCULATE RATIOS OF PATIENTS IN TRAINING AND TESTING SET: splits that best fit the expected ratios"
   ]
  },
  {
   "cell_type": "code",
   "execution_count": 10,
   "id": "4ec57b54",
   "metadata": {
    "execution": {
     "iopub.execute_input": "2025-03-17T18:03:50.231477Z",
     "iopub.status.busy": "2025-03-17T18:03:50.230814Z",
     "iopub.status.idle": "2025-03-17T18:03:50.251008Z",
     "shell.execute_reply": "2025-03-17T18:03:50.250306Z"
    },
    "papermill": {
     "duration": 0.029776,
     "end_time": "2025-03-17T18:03:50.252378",
     "exception": false,
     "start_time": "2025-03-17T18:03:50.222602",
     "status": "completed"
    },
    "tags": []
   },
   "outputs": [
    {
     "data": {
      "text/html": [
       "<div>\n",
       "<style scoped>\n",
       "    .dataframe tbody tr th:only-of-type {\n",
       "        vertical-align: middle;\n",
       "    }\n",
       "\n",
       "    .dataframe tbody tr th {\n",
       "        vertical-align: top;\n",
       "    }\n",
       "\n",
       "    .dataframe thead th {\n",
       "        text-align: right;\n",
       "    }\n",
       "</style>\n",
       "<table border=\"1\" class=\"dataframe\">\n",
       "  <thead>\n",
       "    <tr style=\"text-align: right;\">\n",
       "      <th></th>\n",
       "      <th>val_idx</th>\n",
       "      <th>test_idx</th>\n",
       "      <th>train_min</th>\n",
       "      <th>test_mean</th>\n",
       "      <th>ranking</th>\n",
       "    </tr>\n",
       "  </thead>\n",
       "  <tbody>\n",
       "    <tr>\n",
       "      <th>3</th>\n",
       "      <td>0</td>\n",
       "      <td>4</td>\n",
       "      <td>0.550847</td>\n",
       "      <td>0.000000</td>\n",
       "      <td>0.000000</td>\n",
       "    </tr>\n",
       "    <tr>\n",
       "      <th>6</th>\n",
       "      <td>1</td>\n",
       "      <td>4</td>\n",
       "      <td>0.558217</td>\n",
       "      <td>0.000000</td>\n",
       "      <td>0.000000</td>\n",
       "    </tr>\n",
       "    <tr>\n",
       "      <th>12</th>\n",
       "      <td>3</td>\n",
       "      <td>4</td>\n",
       "      <td>0.362933</td>\n",
       "      <td>0.000000</td>\n",
       "      <td>0.000000</td>\n",
       "    </tr>\n",
       "    <tr>\n",
       "      <th>9</th>\n",
       "      <td>2</td>\n",
       "      <td>4</td>\n",
       "      <td>0.331910</td>\n",
       "      <td>0.000000</td>\n",
       "      <td>0.000000</td>\n",
       "    </tr>\n",
       "    <tr>\n",
       "      <th>8</th>\n",
       "      <td>2</td>\n",
       "      <td>3</td>\n",
       "      <td>0.295031</td>\n",
       "      <td>0.298774</td>\n",
       "      <td>0.088148</td>\n",
       "    </tr>\n",
       "    <tr>\n",
       "      <th>15</th>\n",
       "      <td>4</td>\n",
       "      <td>3</td>\n",
       "      <td>0.362933</td>\n",
       "      <td>0.298774</td>\n",
       "      <td>0.108435</td>\n",
       "    </tr>\n",
       "    <tr>\n",
       "      <th>1</th>\n",
       "      <td>0</td>\n",
       "      <td>2</td>\n",
       "      <td>0.147516</td>\n",
       "      <td>1.000000</td>\n",
       "      <td>0.147516</td>\n",
       "    </tr>\n",
       "    <tr>\n",
       "      <th>7</th>\n",
       "      <td>2</td>\n",
       "      <td>1</td>\n",
       "      <td>0.221273</td>\n",
       "      <td>0.896322</td>\n",
       "      <td>0.198332</td>\n",
       "    </tr>\n",
       "    <tr>\n",
       "      <th>4</th>\n",
       "      <td>1</td>\n",
       "      <td>2</td>\n",
       "      <td>0.221273</td>\n",
       "      <td>1.000000</td>\n",
       "      <td>0.221273</td>\n",
       "    </tr>\n",
       "    <tr>\n",
       "      <th>5</th>\n",
       "      <td>1</td>\n",
       "      <td>3</td>\n",
       "      <td>0.862686</td>\n",
       "      <td>0.298774</td>\n",
       "      <td>0.257748</td>\n",
       "    </tr>\n",
       "    <tr>\n",
       "      <th>11</th>\n",
       "      <td>3</td>\n",
       "      <td>2</td>\n",
       "      <td>0.295031</td>\n",
       "      <td>1.000000</td>\n",
       "      <td>0.295031</td>\n",
       "    </tr>\n",
       "    <tr>\n",
       "      <th>2</th>\n",
       "      <td>0</td>\n",
       "      <td>3</td>\n",
       "      <td>1.000000</td>\n",
       "      <td>0.298774</td>\n",
       "      <td>0.298774</td>\n",
       "    </tr>\n",
       "    <tr>\n",
       "      <th>14</th>\n",
       "      <td>4</td>\n",
       "      <td>2</td>\n",
       "      <td>0.331910</td>\n",
       "      <td>1.000000</td>\n",
       "      <td>0.331910</td>\n",
       "    </tr>\n",
       "    <tr>\n",
       "      <th>13</th>\n",
       "      <td>4</td>\n",
       "      <td>1</td>\n",
       "      <td>0.558217</td>\n",
       "      <td>0.896322</td>\n",
       "      <td>0.500342</td>\n",
       "    </tr>\n",
       "    <tr>\n",
       "      <th>0</th>\n",
       "      <td>0</td>\n",
       "      <td>1</td>\n",
       "      <td>0.745047</td>\n",
       "      <td>0.896322</td>\n",
       "      <td>0.667802</td>\n",
       "    </tr>\n",
       "    <tr>\n",
       "      <th>10</th>\n",
       "      <td>3</td>\n",
       "      <td>1</td>\n",
       "      <td>0.862686</td>\n",
       "      <td>0.896322</td>\n",
       "      <td>0.773244</td>\n",
       "    </tr>\n",
       "  </tbody>\n",
       "</table>\n",
       "</div>"
      ],
      "text/plain": [
       "    val_idx  test_idx  train_min  test_mean   ranking\n",
       "3         0         4   0.550847   0.000000  0.000000\n",
       "6         1         4   0.558217   0.000000  0.000000\n",
       "12        3         4   0.362933   0.000000  0.000000\n",
       "9         2         4   0.331910   0.000000  0.000000\n",
       "8         2         3   0.295031   0.298774  0.088148\n",
       "15        4         3   0.362933   0.298774  0.108435\n",
       "1         0         2   0.147516   1.000000  0.147516\n",
       "7         2         1   0.221273   0.896322  0.198332\n",
       "4         1         2   0.221273   1.000000  0.221273\n",
       "5         1         3   0.862686   0.298774  0.257748\n",
       "11        3         2   0.295031   1.000000  0.295031\n",
       "2         0         3   1.000000   0.298774  0.298774\n",
       "14        4         2   0.331910   1.000000  0.331910\n",
       "13        4         1   0.558217   0.896322  0.500342\n",
       "0         0         1   0.745047   0.896322  0.667802\n",
       "10        3         1   0.862686   0.896322  0.773244"
      ]
     },
     "execution_count": 10,
     "metadata": {},
     "output_type": "execute_result"
    }
   ],
   "source": [
    "split_rankings_df = (pd.DataFrame(min_stats, columns=['val_idx', 'test_idx', 'train_min', 'test_mean'])\n",
    " .assign(train_min = lambda df: df.train_min / df.train_min.max())\n",
    " .assign(test_mean = lambda df: df.test_mean / df.test_mean.max())\n",
    " .assign(ranking = lambda df: df.test_mean * df.train_min)\n",
    " .sort_values('ranking'))\n",
    "split_rankings_df"
   ]
  },
  {
   "cell_type": "code",
   "execution_count": 11,
   "id": "12a3b918",
   "metadata": {
    "execution": {
     "iopub.execute_input": "2025-03-17T18:03:50.276791Z",
     "iopub.status.busy": "2025-03-17T18:03:50.275898Z",
     "iopub.status.idle": "2025-03-17T18:03:50.283322Z",
     "shell.execute_reply": "2025-03-17T18:03:50.282458Z"
    },
    "papermill": {
     "duration": 0.019107,
     "end_time": "2025-03-17T18:03:50.285240",
     "exception": false,
     "start_time": "2025-03-17T18:03:50.266133",
     "status": "completed"
    },
    "tags": []
   },
   "outputs": [],
   "source": [
    "best_split = split_rankings_df.loc[split_rankings_df['ranking'].idxmax()]\n",
    "all_idxs = np.arange(adata.obs.shape[0])\n",
    "val_idxs, test_idxs = left_out_splits[best_split.val_idx.astype(int)], left_out_splits[best_split.test_idx.astype(int)]\n",
    "train_idxs = np.delete(all_idxs, np.union1d(val_idxs, test_idxs))"
   ]
  },
  {
   "cell_type": "markdown",
   "id": "66c266a5",
   "metadata": {
    "papermill": {
     "duration": 0.018148,
     "end_time": "2025-03-17T18:03:50.317794",
     "exception": false,
     "start_time": "2025-03-17T18:03:50.299646",
     "status": "completed"
    },
    "tags": []
   },
   "source": [
    "### CHECK NUMBER OF CELLS PER SPLIT"
   ]
  },
  {
   "cell_type": "code",
   "execution_count": 12,
   "id": "d8be0280",
   "metadata": {
    "execution": {
     "iopub.execute_input": "2025-03-17T18:03:50.348225Z",
     "iopub.status.busy": "2025-03-17T18:03:50.347346Z",
     "iopub.status.idle": "2025-03-17T18:03:50.403063Z",
     "shell.execute_reply": "2025-03-17T18:03:50.402267Z"
    },
    "papermill": {
     "duration": 0.066869,
     "end_time": "2025-03-17T18:03:50.404945",
     "exception": false,
     "start_time": "2025-03-17T18:03:50.338076",
     "status": "completed"
    },
    "tags": []
   },
   "outputs": [],
   "source": [
    "cell_count_df = []\n",
    "cell_count_df.append(adata.obs.iloc[train_idxs].groupby(target_y, observed=False).size().to_frame(name='cell_count').reset_index().assign(split='train'))\n",
    "cell_count_df.append(adata.obs.iloc[val_idxs].groupby(target_y, observed=False).size().to_frame(name='cell_count').reset_index().assign(split='val'))\n",
    "cell_count_df.append(adata.obs.iloc[test_idxs].groupby(target_y, observed=False).size().to_frame(name='cell_count').reset_index().assign(split='test'))\n",
    "cell_count_df = pd.concat(cell_count_df).pivot(index=target_y, columns='split', values='cell_count')\n",
    "cell_plot_data = cell_count_df.div(cell_count_df.sum(axis=1), axis=0).reset_index().melt(id_vars=target_y)\n",
    "\n",
    "pat_count_df = []\n",
    "pat_count_df.append(adata.obs.iloc[train_idxs].groupby(target_y, observed=False).sampleID.nunique().to_frame(name='patient_count').reset_index().assign(split='train'))\n",
    "pat_count_df.append(adata.obs.iloc[val_idxs].groupby(target_y, observed=False).sampleID.nunique().to_frame(name='patient_count').reset_index().assign(split='val'))\n",
    "pat_count_df.append(adata.obs.iloc[test_idxs].groupby(target_y, observed=False).sampleID.nunique().to_frame(name='patient_count').reset_index().assign(split='test'))\n",
    "pd.concat(pat_count_df).pivot(index=target_y, columns='split', values='patient_count')\n",
    "pat_count_df = pd.concat(pat_count_df).pivot(index=target_y, columns='split', values='patient_count')\n",
    "pat_count_df = pat_count_df.div(pat_count_df.sum(axis=1), axis=0)\n",
    "pat_plot_data = pat_count_df.div(pat_count_df.sum(axis=1), axis=0).reset_index().melt(id_vars=target_y)\n",
    "\n",
    "train_pats = set(adata.obs.iloc[train_idxs].sampleID)\n",
    "test_pats = set(adata.obs.iloc[test_idxs].sampleID)\n",
    "val_pats = set(adata.obs.iloc[val_idxs].sampleID)"
   ]
  },
  {
   "cell_type": "code",
   "execution_count": 13,
   "id": "9dc8a05f",
   "metadata": {
    "execution": {
     "iopub.execute_input": "2025-03-17T18:03:50.431283Z",
     "iopub.status.busy": "2025-03-17T18:03:50.430899Z",
     "iopub.status.idle": "2025-03-17T18:03:50.434821Z",
     "shell.execute_reply": "2025-03-17T18:03:50.434120Z"
    },
    "papermill": {
     "duration": 0.014537,
     "end_time": "2025-03-17T18:03:50.435936",
     "exception": false,
     "start_time": "2025-03-17T18:03:50.421399",
     "status": "completed"
    },
    "tags": []
   },
   "outputs": [],
   "source": [
    "assert val_pats.intersection(test_pats) != {}\n",
    "assert train_pats.intersection(test_pats) != {}\n",
    "assert train_pats.intersection(val_pats) != {}"
   ]
  },
  {
   "cell_type": "markdown",
   "id": "63634ff5",
   "metadata": {
    "papermill": {
     "duration": 0.00764,
     "end_time": "2025-03-17T18:03:50.450234",
     "exception": false,
     "start_time": "2025-03-17T18:03:50.442594",
     "status": "completed"
    },
    "tags": []
   },
   "source": [
    "### PLOT PATIENT AND CELL DISTRIBUTION ACROSS TRAIN, TEST, AND VALIDATION SETS PER DISEASE\n",
    "### CHECK THAT THEY APPROXIMATE EXPECTATION"
   ]
  },
  {
   "cell_type": "code",
   "execution_count": 14,
   "id": "4ded7e84",
   "metadata": {
    "execution": {
     "iopub.execute_input": "2025-03-17T18:03:50.464818Z",
     "iopub.status.busy": "2025-03-17T18:03:50.464175Z",
     "iopub.status.idle": "2025-03-17T18:03:51.776370Z",
     "shell.execute_reply": "2025-03-17T18:03:51.775786Z"
    },
    "papermill": {
     "duration": 1.322484,
     "end_time": "2025-03-17T18:03:51.778999",
     "exception": false,
     "start_time": "2025-03-17T18:03:50.456515",
     "status": "completed"
    },
    "tags": []
   },
   "outputs": [
    {
     "data": {
      "image/png": "[encoded data removed]",
      "text/plain": [
       "<Figure size 2000x600 with 2 Axes>"
      ]
     },
     "metadata": {},
     "output_type": "display_data"
    }
   ],
   "source": [
    "_, axs = plt.subplots(1, 2, figsize=(20, 6))\n",
    "sns.barplot(x=target_y, y='value', hue='split', data=cell_plot_data, ax=axs[0])\n",
    "axs[0].set_title('Cell distribution')\n",
    "axs[0].tick_params(axis='x', labelrotation=90)\n",
    "sns.barplot(x=target_y, y='value', hue='split', data=pat_plot_data, ax=axs[1])\n",
    "axs[1].set_title('Patients distribution')\n",
    "axs[1].tick_params(axis='x', labelrotation=90)\n",
    "\n",
    "os.makedirs(here(f\"03_downstream_analysis/08_gene_importance/results/targetY_{target_y}/01_split_plots/\"), exist_ok=True)\n",
    "\n",
    "plt.savefig(here(f'03_downstream_analysis/08_gene_importance/results/targetY_{target_y}/01_split_plots/{RUN_NAME}{CELL_TYPE}_split_quality.pdf'), bbox_inches='tight', dpi=300)"
   ]
  },
  {
   "cell_type": "code",
   "execution_count": 15,
   "id": "b2c991f0",
   "metadata": {
    "execution": {
     "iopub.execute_input": "2025-03-17T18:03:51.801792Z",
     "iopub.status.busy": "2025-03-17T18:03:51.800752Z",
     "iopub.status.idle": "2025-03-17T18:03:51.820325Z",
     "shell.execute_reply": "2025-03-17T18:03:51.819704Z"
    },
    "papermill": {
     "duration": 0.033861,
     "end_time": "2025-03-17T18:03:51.821365",
     "exception": false,
     "start_time": "2025-03-17T18:03:51.787504",
     "status": "completed"
    },
    "tags": []
   },
   "outputs": [],
   "source": [
    "os.makedirs(here(f\"03_downstream_analysis/08_gene_importance/results/targetY_{target_y}/02_preprocessing/\"), exist_ok=True)\n",
    "\n",
    "np.save(here(f\"03_downstream_analysis/08_gene_importance/results/targetY_{target_y}/02_preprocessing/{RUN_NAME}{CELL_TYPE}_train_idxs.npy\"), train_idxs)\n",
    "np.save(here(f\"03_downstream_analysis/08_gene_importance/results/targetY_{target_y}/02_preprocessing/{RUN_NAME}{CELL_TYPE}_val_idxs.npy\"), val_idxs)\n",
    "np.save(here(f\"03_downstream_analysis/08_gene_importance/results/targetY_{target_y}/02_preprocessing/{RUN_NAME}{CELL_TYPE}_test_idxs.npy\"), test_idxs)"
   ]
  },
  {
   "cell_type": "markdown",
   "id": "94cf10ae",
   "metadata": {
    "papermill": {
     "duration": 0.006989,
     "end_time": "2025-03-17T18:03:51.836814",
     "exception": false,
     "start_time": "2025-03-17T18:03:51.829825",
     "status": "completed"
    },
    "tags": []
   },
   "source": [
    "### SUBSET DATASET INTO TRAIN/TEST/VAL SPLITS"
   ]
  },
  {
   "cell_type": "code",
   "execution_count": 16,
   "id": "22e605d7",
   "metadata": {
    "execution": {
     "iopub.execute_input": "2025-03-17T18:03:51.851913Z",
     "iopub.status.busy": "2025-03-17T18:03:51.851518Z",
     "iopub.status.idle": "2025-03-17T18:03:54.775326Z",
     "shell.execute_reply": "2025-03-17T18:03:54.774749Z"
    },
    "papermill": {
     "duration": 2.933176,
     "end_time": "2025-03-17T18:03:54.776930",
     "exception": false,
     "start_time": "2025-03-17T18:03:51.843754",
     "status": "completed"
    },
    "tags": []
   },
   "outputs": [
    {
     "data": {
      "text/plain": [
       "((13927, 935), (4450, 935), (4525, 935))"
      ]
     },
     "execution_count": 16,
     "metadata": {},
     "output_type": "execute_result"
    }
   ],
   "source": [
    "X_train = adata.X[train_idxs]\n",
    "X_test = adata.X[test_idxs]\n",
    "X_val = adata.X[val_idxs]\n",
    "X_train.shape, X_test.shape, X_val.shape"
   ]
  },
  {
   "cell_type": "code",
   "execution_count": 17,
   "id": "97857815",
   "metadata": {
    "execution": {
     "iopub.execute_input": "2025-03-17T18:03:54.802570Z",
     "iopub.status.busy": "2025-03-17T18:03:54.802361Z",
     "iopub.status.idle": "2025-03-17T18:03:54.811494Z",
     "shell.execute_reply": "2025-03-17T18:03:54.810858Z"
    },
    "papermill": {
     "duration": 0.020894,
     "end_time": "2025-03-17T18:03:54.812379",
     "exception": false,
     "start_time": "2025-03-17T18:03:54.791485",
     "status": "completed"
    },
    "tags": []
   },
   "outputs": [
    {
     "data": {
      "text/plain": [
       "((13927,), (4450,), (4525,))"
      ]
     },
     "execution_count": 17,
     "metadata": {},
     "output_type": "execute_result"
    }
   ],
   "source": [
    "y_train = adata.obs.iloc[train_idxs][target_y].values.astype(str)\n",
    "y_test = adata.obs.iloc[test_idxs][target_y].values.astype(str)\n",
    "y_val = adata.obs.iloc[val_idxs][target_y].values.astype(str)\n",
    "y_train.shape, y_test.shape, y_val.shape "
   ]
  },
  {
   "cell_type": "code",
   "execution_count": 18,
   "id": "4ee4e9ff",
   "metadata": {
    "execution": {
     "iopub.execute_input": "2025-03-17T18:03:54.830807Z",
     "iopub.status.busy": "2025-03-17T18:03:54.830651Z",
     "iopub.status.idle": "2025-03-17T18:03:54.844605Z",
     "shell.execute_reply": "2025-03-17T18:03:54.843711Z"
    },
    "papermill": {
     "duration": 0.023845,
     "end_time": "2025-03-17T18:03:54.845785",
     "exception": false,
     "start_time": "2025-03-17T18:03:54.821940",
     "status": "completed"
    },
    "tags": []
   },
   "outputs": [],
   "source": [
    "lenc = LabelEncoder()\n",
    "y_train_enc = lenc.fit_transform(y_train)\n",
    "y_val_enc = lenc.transform(y_val)\n",
    "y_test_enc = lenc.transform(y_test)"
   ]
  },
  {
   "cell_type": "markdown",
   "id": "45e82685",
   "metadata": {
    "papermill": {
     "duration": 0.007087,
     "end_time": "2025-03-17T18:03:54.872213",
     "exception": false,
     "start_time": "2025-03-17T18:03:54.865126",
     "status": "completed"
    },
    "tags": []
   },
   "source": [
    "### GENERATE F1 "
   ]
  },
  {
   "cell_type": "code",
   "execution_count": 19,
   "id": "5035bb27",
   "metadata": {
    "execution": {
     "iopub.execute_input": "2025-03-17T18:03:54.888432Z",
     "iopub.status.busy": "2025-03-17T18:03:54.887569Z",
     "iopub.status.idle": "2025-03-17T18:03:54.892999Z",
     "shell.execute_reply": "2025-03-17T18:03:54.892117Z"
    },
    "papermill": {
     "duration": 0.01503,
     "end_time": "2025-03-17T18:03:54.894245",
     "exception": false,
     "start_time": "2025-03-17T18:03:54.879215",
     "status": "completed"
    },
    "tags": []
   },
   "outputs": [],
   "source": [
    "def custom_f1_score(y_true, y_pred):\n",
    "    return -f1_score(y_true, y_pred.argmax(1), average='weighted')"
   ]
  },
  {
   "cell_type": "code",
   "execution_count": 20,
   "id": "6115a1f3",
   "metadata": {
    "execution": {
     "iopub.execute_input": "2025-03-17T18:03:54.933402Z",
     "iopub.status.busy": "2025-03-17T18:03:54.932501Z",
     "iopub.status.idle": "2025-03-17T18:03:54.941612Z",
     "shell.execute_reply": "2025-03-17T18:03:54.940726Z"
    },
    "papermill": {
     "duration": 0.020539,
     "end_time": "2025-03-17T18:03:54.942653",
     "exception": false,
     "start_time": "2025-03-17T18:03:54.922114",
     "status": "completed"
    },
    "tags": []
   },
   "outputs": [],
   "source": [
    "eval_metric=custom_f1_score\n",
    "eval_metric_name='custom_f1_score'\n",
    "\n",
    "def objective(trial):\n",
    "    params = {\n",
    "        'sampling_method': 'gradient_based',\n",
    "        'n_estimators': 1500,\n",
    "        'max_depth': trial.suggest_int('max_depth', 3, 20),\n",
    "        'min_child_weight': trial.suggest_int('min_child_weight', 1, 250),\n",
    "        'subsample': trial.suggest_float('subsample', 0.1, 1.0),\n",
    "        'colsample_bynode': trial.suggest_float('colsample_bynode', 0.1, 1.0),\n",
    "        'learning_rate': trial.suggest_float('learning_rate', 1e-3, 5e-1, log=True),\n",
    "    }\n",
    "    pruning_callback = optuna.integration.XGBoostPruningCallback(trial, f'validation_0-{eval_metric_name}')\n",
    "    xgb = xgboost.XGBClassifier(\n",
    "        device='gpu',\n",
    "        eval_metric=eval_metric,\n",
    "        early_stopping_rounds=20,\n",
    "        callbacks=[pruning_callback],\n",
    "        **params\n",
    "    )\n",
    "    xgb.fit(\n",
    "        X_train, \n",
    "        y_train_enc, \n",
    "        verbose=0,\n",
    "        eval_set=[(X_val, y_val_enc)],\n",
    "    )\n",
    "    trial.set_user_attr('best_iteration', xgb.best_iteration)\n",
    "\n",
    "    return xgb.best_score"
   ]
  },
  {
   "cell_type": "code",
   "execution_count": 21,
   "id": "daa295f0",
   "metadata": {
    "execution": {
     "iopub.execute_input": "2025-03-17T18:03:54.965760Z",
     "iopub.status.busy": "2025-03-17T18:03:54.964743Z",
     "iopub.status.idle": "2025-03-17T18:07:35.389478Z",
     "shell.execute_reply": "2025-03-17T18:07:35.388838Z"
    },
    "papermill": {
     "duration": 220.440503,
     "end_time": "2025-03-17T18:07:35.392597",
     "exception": false,
     "start_time": "2025-03-17T18:03:54.952094",
     "status": "completed"
    },
    "tags": []
   },
   "outputs": [
    {
     "name": "stderr",
     "output_type": "stream",
     "text": [
      "[I 2025-03-17 18:03:54,969] A new study created in memory with name: no-name-2c6bb186-c45e-4f75-8e31-dab24d9b2a24\n"
     ]
    },
    {
     "name": "stderr",
     "output_type": "stream",
     "text": [
      "/tmp/ipykernel_1050228/350114600.py:4: ExperimentalWarning: WeightsAndBiasesCallback is experimental (supported from v2.9.0). The interface can change in the future.\n",
      "  wandbc = optuna.integration.WeightsAndBiasesCallback(wandb_kwargs=wandb_kwargs)\n",
      "\u001b[34m\u001b[1mwandb\u001b[0m: Using wandb-core as the SDK backend.  Please refer to https://wandb.me/wandb-core for more information.\n"
     ]
    },
    {
     "name": "stderr",
     "output_type": "stream",
     "text": [
      "\u001b[34m\u001b[1mwandb\u001b[0m: Currently logged in as: \u001b[33mdav1989\u001b[0m (\u001b[33minflammation\u001b[0m) to \u001b[32mhttps://api.wandb.ai\u001b[0m. Use \u001b[1m`wandb login --relogin`\u001b[0m to force relogin\n"
     ]
    },
    {
     "name": "stderr",
     "output_type": "stream",
     "text": [
      "\u001b[34m\u001b[1mwandb\u001b[0m: Tracking run with wandb version 0.19.8\n"
     ]
    },
    {
     "name": "stderr",
     "output_type": "stream",
     "text": [
      "\u001b[34m\u001b[1mwandb\u001b[0m: Run data is saved locally in \u001b[35m\u001b[1m/scratch_isilon/groups/singlecell/shared/projects/Inflammation-PBMCs-Atlas/03_downstream_analysis/08_gene_importance/wandb/run-20250317_180357-q4fln1da\u001b[0m\n",
      "\u001b[34m\u001b[1mwandb\u001b[0m: Run \u001b[1m`wandb offline`\u001b[0m to turn off syncing.\n"
     ]
    },
    {
     "name": "stderr",
     "output_type": "stream",
     "text": [
      "\u001b[34m\u001b[1mwandb\u001b[0m: Syncing run \u001b[33mstudyID_pDC\u001b[0m\n"
     ]
    },
    {
     "name": "stderr",
     "output_type": "stream",
     "text": [
      "\u001b[34m\u001b[1mwandb\u001b[0m: ⭐️ View project at \u001b[34m\u001b[4mhttps://wandb.ai/inflammation/xgboost\u001b[0m\n"
     ]
    },
    {
     "name": "stderr",
     "output_type": "stream",
     "text": [
      "\u001b[34m\u001b[1mwandb\u001b[0m: 🚀 View run at \u001b[34m\u001b[4mhttps://wandb.ai/inflammation/xgboost/runs/q4fln1da\u001b[0m\n"
     ]
    },
    {
     "name": "stderr",
     "output_type": "stream",
     "text": [
      "[I 2025-03-17 18:04:00,928] Trial 0 finished with value: -0.875108 and parameters: {'max_depth': 9, 'min_child_weight': 238, 'subsample': 0.7587945476302645, 'colsample_bynode': 0.6387926357773329, 'learning_rate': 0.0026368755339723046}. Best is trial 0 with value: -0.875108.\n"
     ]
    },
    {
     "name": "stderr",
     "output_type": "stream",
     "text": [
      "[I 2025-03-17 18:04:04,292] Trial 1 finished with value: -0.998996 and parameters: {'max_depth': 5, 'min_child_weight': 15, 'subsample': 0.8795585311974417, 'colsample_bynode': 0.6410035105688879, 'learning_rate': 0.08148293210105287}. Best is trial 1 with value: -0.998996.\n"
     ]
    },
    {
     "name": "stderr",
     "output_type": "stream",
     "text": [
      "[I 2025-03-17 18:04:07,036] Trial 2 finished with value: -0.879154 and parameters: {'max_depth': 3, 'min_child_weight': 243, 'subsample': 0.8491983767203796, 'colsample_bynode': 0.29110519961044856, 'learning_rate': 0.003095566460242371}. Best is trial 1 with value: -0.998996.\n"
     ]
    },
    {
     "name": "stderr",
     "output_type": "stream",
     "text": [
      "[I 2025-03-17 18:04:41,399] Trial 3 finished with value: -0.988506 and parameters: {'max_depth': 6, 'min_child_weight': 77, 'subsample': 0.5722807884690141, 'colsample_bynode': 0.48875051677790415, 'learning_rate': 0.006109683510122491}. Best is trial 1 with value: -0.998996.\n"
     ]
    },
    {
     "name": "stderr",
     "output_type": "stream",
     "text": [
      "[I 2025-03-17 18:05:04,018] Trial 4 finished with value: -0.99627 and parameters: {'max_depth': 14, 'min_child_weight': 35, 'subsample': 0.3629301836816964, 'colsample_bynode': 0.4297256589643226, 'learning_rate': 0.01701841881702917}. Best is trial 1 with value: -0.998996.\n"
     ]
    },
    {
     "name": "stderr",
     "output_type": "stream",
     "text": [
      "[I 2025-03-17 18:05:10,856] Trial 5 pruned. Trial was pruned at iteration 42.\n"
     ]
    },
    {
     "name": "stderr",
     "output_type": "stream",
     "text": [
      "[I 2025-03-17 18:05:15,390] Trial 6 finished with value: -0.994984 and parameters: {'max_depth': 13, 'min_child_weight': 43, 'subsample': 0.1585464336867516, 'colsample_bynode': 0.9539969835279999, 'learning_rate': 0.4038423798071558}. Best is trial 1 with value: -0.998996.\n"
     ]
    },
    {
     "name": "stderr",
     "output_type": "stream",
     "text": [
      "[I 2025-03-17 18:05:17,003] Trial 7 pruned. Trial was pruned at iteration 2.\n"
     ]
    },
    {
     "name": "stderr",
     "output_type": "stream",
     "text": [
      "[I 2025-03-17 18:05:18,008] Trial 8 pruned. Trial was pruned at iteration 0.\n"
     ]
    },
    {
     "name": "stderr",
     "output_type": "stream",
     "text": [
      "[I 2025-03-17 18:05:18,845] Trial 9 pruned. Trial was pruned at iteration 0.\n"
     ]
    },
    {
     "name": "stderr",
     "output_type": "stream",
     "text": [
      "[I 2025-03-17 18:05:33,514] Trial 10 finished with value: -0.998996 and parameters: {'max_depth': 9, 'min_child_weight': 2, 'subsample': 0.9725833997090791, 'colsample_bynode': 0.11616568805333755, 'learning_rate': 0.17780618353487967}. Best is trial 1 with value: -0.998996.\n"
     ]
    },
    {
     "name": "stderr",
     "output_type": "stream",
     "text": [
      "[I 2025-03-17 18:05:43,509] Trial 11 finished with value: -0.999216 and parameters: {'max_depth': 9, 'min_child_weight': 4, 'subsample': 0.9818290990185045, 'colsample_bynode': 0.17702656156719, 'learning_rate': 0.11568531411766632}. Best is trial 11 with value: -0.999216.\n"
     ]
    },
    {
     "name": "stderr",
     "output_type": "stream",
     "text": [
      "[I 2025-03-17 18:05:59,269] Trial 12 finished with value: -0.999437 and parameters: {'max_depth': 9, 'min_child_weight': 3, 'subsample': 0.9762317723681219, 'colsample_bynode': 0.14667845540225039, 'learning_rate': 0.07220195396446882}. Best is trial 12 with value: -0.999437.\n"
     ]
    },
    {
     "name": "stderr",
     "output_type": "stream",
     "text": [
      "[I 2025-03-17 18:06:00,109] Trial 13 pruned. Trial was pruned at iteration 0.\n"
     ]
    },
    {
     "name": "stderr",
     "output_type": "stream",
     "text": [
      "[I 2025-03-17 18:06:01,007] Trial 14 pruned. Trial was pruned at iteration 0.\n"
     ]
    },
    {
     "name": "stderr",
     "output_type": "stream",
     "text": [
      "[I 2025-03-17 18:06:12,091] Trial 15 finished with value: -0.998992 and parameters: {'max_depth': 20, 'min_child_weight': 1, 'subsample': 0.7300199336663715, 'colsample_bynode': 0.2687793682900305, 'learning_rate': 0.1602439470815397}. Best is trial 12 with value: -0.999437.\n"
     ]
    },
    {
     "name": "stderr",
     "output_type": "stream",
     "text": [
      "[I 2025-03-17 18:06:13,111] Trial 16 pruned. Trial was pruned at iteration 0.\n"
     ]
    },
    {
     "name": "stderr",
     "output_type": "stream",
     "text": [
      "[I 2025-03-17 18:06:13,966] Trial 17 pruned. Trial was pruned at iteration 0.\n"
     ]
    },
    {
     "name": "stderr",
     "output_type": "stream",
     "text": [
      "[I 2025-03-17 18:06:14,767] Trial 18 pruned. Trial was pruned at iteration 0.\n"
     ]
    },
    {
     "name": "stderr",
     "output_type": "stream",
     "text": [
      "[I 2025-03-17 18:06:15,640] Trial 19 pruned. Trial was pruned at iteration 0.\n"
     ]
    },
    {
     "name": "stderr",
     "output_type": "stream",
     "text": [
      "[I 2025-03-17 18:06:16,589] Trial 20 pruned. Trial was pruned at iteration 0.\n"
     ]
    },
    {
     "name": "stderr",
     "output_type": "stream",
     "text": [
      "[I 2025-03-17 18:06:28,339] Trial 21 pruned. Trial was pruned at iteration 33.\n"
     ]
    },
    {
     "name": "stderr",
     "output_type": "stream",
     "text": [
      "[I 2025-03-17 18:06:29,348] Trial 22 pruned. Trial was pruned at iteration 0.\n"
     ]
    },
    {
     "name": "stderr",
     "output_type": "stream",
     "text": [
      "[I 2025-03-17 18:06:37,541] Trial 23 pruned. Trial was pruned at iteration 33.\n"
     ]
    },
    {
     "name": "stderr",
     "output_type": "stream",
     "text": [
      "[I 2025-03-17 18:06:39,417] Trial 24 pruned. Trial was pruned at iteration 3.\n"
     ]
    },
    {
     "name": "stderr",
     "output_type": "stream",
     "text": [
      "[I 2025-03-17 18:06:40,292] Trial 25 pruned. Trial was pruned at iteration 0.\n"
     ]
    },
    {
     "name": "stderr",
     "output_type": "stream",
     "text": [
      "[I 2025-03-17 18:06:41,119] Trial 26 pruned. Trial was pruned at iteration 0.\n"
     ]
    },
    {
     "name": "stderr",
     "output_type": "stream",
     "text": [
      "[I 2025-03-17 18:06:42,059] Trial 27 pruned. Trial was pruned at iteration 0.\n"
     ]
    },
    {
     "name": "stderr",
     "output_type": "stream",
     "text": [
      "[I 2025-03-17 18:06:54,879] Trial 28 finished with value: -0.999216 and parameters: {'max_depth': 6, 'min_child_weight': 1, 'subsample': 0.9966028459647209, 'colsample_bynode': 0.7547835364105744, 'learning_rate': 0.05867694766894226}. Best is trial 12 with value: -0.999437.\n"
     ]
    },
    {
     "name": "stderr",
     "output_type": "stream",
     "text": [
      "[I 2025-03-17 18:06:55,642] Trial 29 pruned. Trial was pruned at iteration 0.\n"
     ]
    },
    {
     "name": "stderr",
     "output_type": "stream",
     "text": [
      "[I 2025-03-17 18:06:56,807] Trial 30 pruned. Trial was pruned at iteration 0.\n"
     ]
    },
    {
     "name": "stderr",
     "output_type": "stream",
     "text": [
      "[I 2025-03-17 18:07:04,020] Trial 31 finished with value: -0.998811 and parameters: {'max_depth': 5, 'min_child_weight': 4, 'subsample': 0.9238712829486063, 'colsample_bynode': 0.669409216514185, 'learning_rate': 0.07160553412692008}. Best is trial 12 with value: -0.999437.\n"
     ]
    },
    {
     "name": "stderr",
     "output_type": "stream",
     "text": [
      "[I 2025-03-17 18:07:05,122] Trial 32 pruned. Trial was pruned at iteration 0.\n"
     ]
    },
    {
     "name": "stderr",
     "output_type": "stream",
     "text": [
      "[I 2025-03-17 18:07:06,142] Trial 33 pruned. Trial was pruned at iteration 0.\n"
     ]
    },
    {
     "name": "stderr",
     "output_type": "stream",
     "text": [
      "[I 2025-03-17 18:07:13,249] Trial 34 pruned. Trial was pruned at iteration 26.\n"
     ]
    },
    {
     "name": "stderr",
     "output_type": "stream",
     "text": [
      "[I 2025-03-17 18:07:14,184] Trial 35 pruned. Trial was pruned at iteration 0.\n"
     ]
    },
    {
     "name": "stderr",
     "output_type": "stream",
     "text": [
      "[I 2025-03-17 18:07:14,839] Trial 36 pruned. Trial was pruned at iteration 0.\n"
     ]
    },
    {
     "name": "stderr",
     "output_type": "stream",
     "text": [
      "[I 2025-03-17 18:07:15,836] Trial 37 pruned. Trial was pruned at iteration 0.\n"
     ]
    },
    {
     "name": "stderr",
     "output_type": "stream",
     "text": [
      "[I 2025-03-17 18:07:16,745] Trial 38 pruned. Trial was pruned at iteration 0.\n"
     ]
    },
    {
     "name": "stderr",
     "output_type": "stream",
     "text": [
      "[I 2025-03-17 18:07:17,653] Trial 39 pruned. Trial was pruned at iteration 0.\n"
     ]
    },
    {
     "name": "stderr",
     "output_type": "stream",
     "text": [
      "[I 2025-03-17 18:07:18,543] Trial 40 pruned. Trial was pruned at iteration 0.\n"
     ]
    },
    {
     "name": "stderr",
     "output_type": "stream",
     "text": [
      "[I 2025-03-17 18:07:26,155] Trial 41 finished with value: -0.999216 and parameters: {'max_depth': 9, 'min_child_weight': 2, 'subsample': 0.9576719995752544, 'colsample_bynode': 0.14373131846370663, 'learning_rate': 0.206948468960093}. Best is trial 12 with value: -0.999437.\n"
     ]
    },
    {
     "name": "stderr",
     "output_type": "stream",
     "text": [
      "[I 2025-03-17 18:07:27,108] Trial 42 pruned. Trial was pruned at iteration 0.\n"
     ]
    },
    {
     "name": "stderr",
     "output_type": "stream",
     "text": [
      "[I 2025-03-17 18:07:28,580] Trial 43 pruned. Trial was pruned at iteration 0.\n"
     ]
    },
    {
     "name": "stderr",
     "output_type": "stream",
     "text": [
      "[I 2025-03-17 18:07:30,179] Trial 44 pruned. Trial was pruned at iteration 2.\n"
     ]
    },
    {
     "name": "stderr",
     "output_type": "stream",
     "text": [
      "[I 2025-03-17 18:07:30,892] Trial 45 pruned. Trial was pruned at iteration 0.\n"
     ]
    },
    {
     "name": "stderr",
     "output_type": "stream",
     "text": [
      "[I 2025-03-17 18:07:31,927] Trial 46 pruned. Trial was pruned at iteration 0.\n"
     ]
    },
    {
     "name": "stderr",
     "output_type": "stream",
     "text": [
      "[I 2025-03-17 18:07:32,823] Trial 47 pruned. Trial was pruned at iteration 0.\n"
     ]
    },
    {
     "name": "stderr",
     "output_type": "stream",
     "text": [
      "[I 2025-03-17 18:07:33,594] Trial 48 pruned. Trial was pruned at iteration 0.\n"
     ]
    },
    {
     "name": "stderr",
     "output_type": "stream",
     "text": [
      "[I 2025-03-17 18:07:35,214] Trial 49 pruned. Trial was pruned at iteration 2.\n"
     ]
    }
   ],
   "source": [
    "sampler = optuna.samplers.TPESampler(seed=42)\n",
    "study = optuna.create_study(direction='minimize', sampler=sampler)\n",
    "wandb_kwargs = {\"project\": \"xgboost\", \"name\": f\"{RUN_NAME}{CELL_TYPE}\"}\n",
    "wandbc = optuna.integration.WeightsAndBiasesCallback(wandb_kwargs=wandb_kwargs)\n",
    "study.optimize(objective, n_trials=N_TRIALS, callbacks=[wandbc], gc_after_trial=True)"
   ]
  },
  {
   "cell_type": "code",
   "execution_count": 22,
   "id": "ee9b430a",
   "metadata": {
    "execution": {
     "iopub.execute_input": "2025-03-17T18:07:35.439569Z",
     "iopub.status.busy": "2025-03-17T18:07:35.439080Z",
     "iopub.status.idle": "2025-03-17T18:07:35.509580Z",
     "shell.execute_reply": "2025-03-17T18:07:35.508816Z"
    },
    "papermill": {
     "duration": 0.10289,
     "end_time": "2025-03-17T18:07:35.510891",
     "exception": false,
     "start_time": "2025-03-17T18:07:35.408001",
     "status": "completed"
    },
    "tags": []
   },
   "outputs": [
    {
     "data": {
      "text/plain": [
       "['/scratch_isilon/groups/singlecell/shared/projects/Inflammation-PBMCs-Atlas/03_downstream_analysis/08_gene_importance/results/targetY_studyID/03_xgboost/study/studyID_pDC_xgboost.pkl']"
      ]
     },
     "execution_count": 22,
     "metadata": {},
     "output_type": "execute_result"
    }
   ],
   "source": [
    "os.makedirs(here(f\"03_downstream_analysis/08_gene_importance/results/targetY_{target_y}/03_xgboost/study/\"), exist_ok=True)\n",
    "\n",
    "joblib.dump(study, here(f'03_downstream_analysis/08_gene_importance/results/targetY_{target_y}/03_xgboost/study/{RUN_NAME}{CELL_TYPE}_xgboost.pkl'))"
   ]
  },
  {
   "cell_type": "code",
   "execution_count": 23,
   "id": "ec595bb9",
   "metadata": {
    "execution": {
     "iopub.execute_input": "2025-03-17T18:07:35.575716Z",
     "iopub.status.busy": "2025-03-17T18:07:35.575251Z",
     "iopub.status.idle": "2025-03-17T18:07:39.106432Z",
     "shell.execute_reply": "2025-03-17T18:07:39.105915Z"
    },
    "papermill": {
     "duration": 3.56642,
     "end_time": "2025-03-17T18:07:39.108290",
     "exception": false,
     "start_time": "2025-03-17T18:07:35.541870",
     "status": "completed"
    },
    "tags": []
   },
   "outputs": [],
   "source": [
    "os.makedirs(here(f\"03_downstream_analysis/08_gene_importance/results/targetY_{target_y}/03_xgboost/parallel_coordinate/\"), exist_ok=True)\n",
    "\n",
    "fig = optuna.visualization.plot_parallel_coordinate(study)\n",
    "fig.write_image(here(f'03_downstream_analysis/08_gene_importance/results/targetY_{target_y}/03_xgboost/parallel_coordinate/{RUN_NAME}{CELL_TYPE}_pcoord.pdf'))"
   ]
  },
  {
   "cell_type": "code",
   "execution_count": 24,
   "id": "bbc4f4c3",
   "metadata": {
    "editable": true,
    "execution": {
     "iopub.execute_input": "2025-03-17T18:07:39.171497Z",
     "iopub.status.busy": "2025-03-17T18:07:39.170951Z",
     "iopub.status.idle": "2025-03-17T18:07:47.644855Z",
     "shell.execute_reply": "2025-03-17T18:07:47.639658Z"
    },
    "papermill": {
     "duration": 8.510387,
     "end_time": "2025-03-17T18:07:47.646704",
     "exception": false,
     "start_time": "2025-03-17T18:07:39.136317",
     "status": "completed"
    },
    "scrolled": true,
    "slideshow": {
     "slide_type": ""
    },
    "tags": []
   },
   "outputs": [
    {
     "name": "stdout",
     "output_type": "stream",
     "text": [
      "[0]\tvalidation_0-mlogloss:2.23856\tvalidation_0-custom_f1_score:-0.95480\n"
     ]
    },
    {
     "name": "stdout",
     "output_type": "stream",
     "text": [
      "[1]\tvalidation_0-mlogloss:1.92558\tvalidation_0-custom_f1_score:-0.98079\n"
     ]
    },
    {
     "name": "stdout",
     "output_type": "stream",
     "text": [
      "[2]\tvalidation_0-mlogloss:1.69984\tvalidation_0-custom_f1_score:-0.98864\n"
     ]
    },
    {
     "name": "stdout",
     "output_type": "stream",
     "text": [
      "[3]\tvalidation_0-mlogloss:1.52155\tvalidation_0-custom_f1_score:-0.99159\n"
     ]
    },
    {
     "name": "stdout",
     "output_type": "stream",
     "text": [
      "[4]\tvalidation_0-mlogloss:1.37392\tvalidation_0-custom_f1_score:-0.99275\n"
     ]
    },
    {
     "name": "stdout",
     "output_type": "stream",
     "text": [
      "[5]\tvalidation_0-mlogloss:1.24965\tvalidation_0-custom_f1_score:-0.99368\n"
     ]
    },
    {
     "name": "stdout",
     "output_type": "stream",
     "text": [
      "[6]\tvalidation_0-mlogloss:1.14280\tvalidation_0-custom_f1_score:-0.99415\n"
     ]
    },
    {
     "name": "stdout",
     "output_type": "stream",
     "text": [
      "[7]\tvalidation_0-mlogloss:1.04926\tvalidation_0-custom_f1_score:-0.99415\n"
     ]
    },
    {
     "name": "stdout",
     "output_type": "stream",
     "text": [
      "[8]\tvalidation_0-mlogloss:0.96593\tvalidation_0-custom_f1_score:-0.99508\n"
     ]
    },
    {
     "name": "stdout",
     "output_type": "stream",
     "text": [
      "[9]\tvalidation_0-mlogloss:0.89101\tvalidation_0-custom_f1_score:-0.99598\n"
     ]
    },
    {
     "name": "stdout",
     "output_type": "stream",
     "text": [
      "[10]\tvalidation_0-mlogloss:0.82413\tvalidation_0-custom_f1_score:-0.99621\n"
     ]
    },
    {
     "name": "stdout",
     "output_type": "stream",
     "text": [
      "[11]\tvalidation_0-mlogloss:0.76392\tvalidation_0-custom_f1_score:-0.99693\n"
     ]
    },
    {
     "name": "stdout",
     "output_type": "stream",
     "text": [
      "[12]\tvalidation_0-mlogloss:0.70909\tvalidation_0-custom_f1_score:-0.99739\n"
     ]
    },
    {
     "name": "stdout",
     "output_type": "stream",
     "text": [
      "[13]\tvalidation_0-mlogloss:0.65886\tvalidation_0-custom_f1_score:-0.99739\n"
     ]
    },
    {
     "name": "stdout",
     "output_type": "stream",
     "text": [
      "[14]\tvalidation_0-mlogloss:0.61193\tvalidation_0-custom_f1_score:-0.99762\n"
     ]
    },
    {
     "name": "stdout",
     "output_type": "stream",
     "text": [
      "[15]\tvalidation_0-mlogloss:0.56898\tvalidation_0-custom_f1_score:-0.99785\n"
     ]
    },
    {
     "name": "stdout",
     "output_type": "stream",
     "text": [
      "[16]\tvalidation_0-mlogloss:0.53040\tvalidation_0-custom_f1_score:-0.99785\n"
     ]
    },
    {
     "name": "stdout",
     "output_type": "stream",
     "text": [
      "[17]\tvalidation_0-mlogloss:0.49425\tvalidation_0-custom_f1_score:-0.99762\n"
     ]
    },
    {
     "name": "stdout",
     "output_type": "stream",
     "text": [
      "[18]\tvalidation_0-mlogloss:0.46074\tvalidation_0-custom_f1_score:-0.99808\n"
     ]
    },
    {
     "name": "stdout",
     "output_type": "stream",
     "text": [
      "[19]\tvalidation_0-mlogloss:0.42947\tvalidation_0-custom_f1_score:-0.99785\n"
     ]
    },
    {
     "name": "stdout",
     "output_type": "stream",
     "text": [
      "[20]\tvalidation_0-mlogloss:0.40096\tvalidation_0-custom_f1_score:-0.99808\n"
     ]
    },
    {
     "name": "stdout",
     "output_type": "stream",
     "text": [
      "[21]\tvalidation_0-mlogloss:0.37466\tvalidation_0-custom_f1_score:-0.99808\n"
     ]
    },
    {
     "name": "stdout",
     "output_type": "stream",
     "text": [
      "[22]\tvalidation_0-mlogloss:0.35089\tvalidation_0-custom_f1_score:-0.99830\n"
     ]
    },
    {
     "name": "stdout",
     "output_type": "stream",
     "text": [
      "[23]\tvalidation_0-mlogloss:0.32804\tvalidation_0-custom_f1_score:-0.99853\n"
     ]
    },
    {
     "name": "stdout",
     "output_type": "stream",
     "text": [
      "[24]\tvalidation_0-mlogloss:0.30640\tvalidation_0-custom_f1_score:-0.99853\n"
     ]
    },
    {
     "name": "stdout",
     "output_type": "stream",
     "text": [
      "[25]\tvalidation_0-mlogloss:0.28653\tvalidation_0-custom_f1_score:-0.99853\n"
     ]
    },
    {
     "name": "stdout",
     "output_type": "stream",
     "text": [
      "[26]\tvalidation_0-mlogloss:0.26809\tvalidation_0-custom_f1_score:-0.99853\n"
     ]
    },
    {
     "name": "stdout",
     "output_type": "stream",
     "text": [
      "[27]\tvalidation_0-mlogloss:0.25102\tvalidation_0-custom_f1_score:-0.99830\n"
     ]
    },
    {
     "name": "stdout",
     "output_type": "stream",
     "text": [
      "[28]\tvalidation_0-mlogloss:0.23487\tvalidation_0-custom_f1_score:-0.99808\n"
     ]
    },
    {
     "name": "stdout",
     "output_type": "stream",
     "text": [
      "[29]\tvalidation_0-mlogloss:0.22048\tvalidation_0-custom_f1_score:-0.99808\n"
     ]
    },
    {
     "name": "stdout",
     "output_type": "stream",
     "text": [
      "[30]\tvalidation_0-mlogloss:0.20697\tvalidation_0-custom_f1_score:-0.99808\n"
     ]
    },
    {
     "name": "stdout",
     "output_type": "stream",
     "text": [
      "[31]\tvalidation_0-mlogloss:0.19409\tvalidation_0-custom_f1_score:-0.99830\n"
     ]
    },
    {
     "name": "stdout",
     "output_type": "stream",
     "text": [
      "[32]\tvalidation_0-mlogloss:0.18214\tvalidation_0-custom_f1_score:-0.99830\n"
     ]
    },
    {
     "name": "stdout",
     "output_type": "stream",
     "text": [
      "[33]\tvalidation_0-mlogloss:0.17084\tvalidation_0-custom_f1_score:-0.99830\n"
     ]
    },
    {
     "name": "stdout",
     "output_type": "stream",
     "text": [
      "[34]\tvalidation_0-mlogloss:0.16011\tvalidation_0-custom_f1_score:-0.99808\n"
     ]
    },
    {
     "name": "stdout",
     "output_type": "stream",
     "text": [
      "[35]\tvalidation_0-mlogloss:0.15042\tvalidation_0-custom_f1_score:-0.99830\n"
     ]
    },
    {
     "name": "stdout",
     "output_type": "stream",
     "text": [
      "[36]\tvalidation_0-mlogloss:0.14150\tvalidation_0-custom_f1_score:-0.99830\n"
     ]
    },
    {
     "data": {
      "text/html": [
       "<style>#sk-container-id-1 {\n",
       "  /* Definition of color scheme common for light and dark mode */\n",
       "  --sklearn-color-text: black;\n",
       "  --sklearn-color-line: gray;\n",
       "  /* Definition of color scheme for unfitted estimators */\n",
       "  --sklearn-color-unfitted-level-0: #fff5e6;\n",
       "  --sklearn-color-unfitted-level-1: #f6e4d2;\n",
       "  --sklearn-color-unfitted-level-2: #ffe0b3;\n",
       "  --sklearn-color-unfitted-level-3: chocolate;\n",
       "  /* Definition of color scheme for fitted estimators */\n",
       "  --sklearn-color-fitted-level-0: #f0f8ff;\n",
       "  --sklearn-color-fitted-level-1: #d4ebff;\n",
       "  --sklearn-color-fitted-level-2: #b3dbfd;\n",
       "  --sklearn-color-fitted-level-3: cornflowerblue;\n",
       "\n",
       "  /* Specific color for light theme */\n",
       "  --sklearn-color-text-on-default-background: var(--sg-text-color, var(--theme-code-foreground, var(--jp-content-font-color1, black)));\n",
       "  --sklearn-color-background: var(--sg-background-color, var(--theme-background, var(--jp-layout-color0, white)));\n",
       "  --sklearn-color-border-box: var(--sg-text-color, var(--theme-code-foreground, var(--jp-content-font-color1, black)));\n",
       "  --sklearn-color-icon: #696969;\n",
       "\n",
       "  @media (prefers-color-scheme: dark) {\n",
       "    /* Redefinition of color scheme for dark theme */\n",
       "    --sklearn-color-text-on-default-background: var(--sg-text-color, var(--theme-code-foreground, var(--jp-content-font-color1, white)));\n",
       "    --sklearn-color-background: var(--sg-background-color, var(--theme-background, var(--jp-layout-color0, #111)));\n",
       "    --sklearn-color-border-box: var(--sg-text-color, var(--theme-code-foreground, var(--jp-content-font-color1, white)));\n",
       "    --sklearn-color-icon: #878787;\n",
       "  }\n",
       "}\n",
       "\n",
       "#sk-container-id-1 {\n",
       "  color: var(--sklearn-color-text);\n",
       "}\n",
       "\n",
       "#sk-container-id-1 pre {\n",
       "  padding: 0;\n",
       "}\n",
       "\n",
       "#sk-container-id-1 input.sk-hidden--visually {\n",
       "  border: 0;\n",
       "  clip: rect(1px 1px 1px 1px);\n",
       "  clip: rect(1px, 1px, 1px, 1px);\n",
       "  height: 1px;\n",
       "  margin: -1px;\n",
       "  overflow: hidden;\n",
       "  padding: 0;\n",
       "  position: absolute;\n",
       "  width: 1px;\n",
       "}\n",
       "\n",
       "#sk-container-id-1 div.sk-dashed-wrapped {\n",
       "  border: 1px dashed var(--sklearn-color-line);\n",
       "  margin: 0 0.4em 0.5em 0.4em;\n",
       "  box-sizing: border-box;\n",
       "  padding-bottom: 0.4em;\n",
       "  background-color: var(--sklearn-color-background);\n",
       "}\n",
       "\n",
       "#sk-container-id-1 div.sk-container {\n",
       "  /* jupyter's `normalize.less` sets `[hidden] { display: none; }`\n",
       "     but bootstrap.min.css set `[hidden] { display: none !important; }`\n",
       "     so we also need the `!important` here to be able to override the\n",
       "     default hidden behavior on the sphinx rendered scikit-learn.org.\n",
       "     See: https://github.com/scikit-learn/scikit-learn/issues/21755 */\n",
       "  display: inline-block !important;\n",
       "  position: relative;\n",
       "}\n",
       "\n",
       "#sk-container-id-1 div.sk-text-repr-fallback {\n",
       "  display: none;\n",
       "}\n",
       "\n",
       "div.sk-parallel-item,\n",
       "div.sk-serial,\n",
       "div.sk-item {\n",
       "  /* draw centered vertical line to link estimators */\n",
       "  background-image: linear-gradient(var(--sklearn-color-text-on-default-background), var(--sklearn-color-text-on-default-background));\n",
       "  background-size: 2px 100%;\n",
       "  background-repeat: no-repeat;\n",
       "  background-position: center center;\n",
       "}\n",
       "\n",
       "/* Parallel-specific style estimator block */\n",
       "\n",
       "#sk-container-id-1 div.sk-parallel-item::after {\n",
       "  content: \"\";\n",
       "  width: 100%;\n",
       "  border-bottom: 2px solid var(--sklearn-color-text-on-default-background);\n",
       "  flex-grow: 1;\n",
       "}\n",
       "\n",
       "#sk-container-id-1 div.sk-parallel {\n",
       "  display: flex;\n",
       "  align-items: stretch;\n",
       "  justify-content: center;\n",
       "  background-color: var(--sklearn-color-background);\n",
       "  position: relative;\n",
       "}\n",
       "\n",
       "#sk-container-id-1 div.sk-parallel-item {\n",
       "  display: flex;\n",
       "  flex-direction: column;\n",
       "}\n",
       "\n",
       "#sk-container-id-1 div.sk-parallel-item:first-child::after {\n",
       "  align-self: flex-end;\n",
       "  width: 50%;\n",
       "}\n",
       "\n",
       "#sk-container-id-1 div.sk-parallel-item:last-child::after {\n",
       "  align-self: flex-start;\n",
       "  width: 50%;\n",
       "}\n",
       "\n",
       "#sk-container-id-1 div.sk-parallel-item:only-child::after {\n",
       "  width: 0;\n",
       "}\n",
       "\n",
       "/* Serial-specific style estimator block */\n",
       "\n",
       "#sk-container-id-1 div.sk-serial {\n",
       "  display: flex;\n",
       "  flex-direction: column;\n",
       "  align-items: center;\n",
       "  background-color: var(--sklearn-color-background);\n",
       "  padding-right: 1em;\n",
       "  padding-left: 1em;\n",
       "}\n",
       "\n",
       "\n",
       "/* Toggleable style: style used for estimator/Pipeline/ColumnTransformer box that is\n",
       "clickable and can be expanded/collapsed.\n",
       "- Pipeline and ColumnTransformer use this feature and define the default style\n",
       "- Estimators will overwrite some part of the style using the `sk-estimator` class\n",
       "*/\n",
       "\n",
       "/* Pipeline and ColumnTransformer style (default) */\n",
       "\n",
       "#sk-container-id-1 div.sk-toggleable {\n",
       "  /* Default theme specific background. It is overwritten whether we have a\n",
       "  specific estimator or a Pipeline/ColumnTransformer */\n",
       "  background-color: var(--sklearn-color-background);\n",
       "}\n",
       "\n",
       "/* Toggleable label */\n",
       "#sk-container-id-1 label.sk-toggleable__label {\n",
       "  cursor: pointer;\n",
       "  display: block;\n",
       "  width: 100%;\n",
       "  margin-bottom: 0;\n",
       "  padding: 0.5em;\n",
       "  box-sizing: border-box;\n",
       "  text-align: center;\n",
       "}\n",
       "\n",
       "#sk-container-id-1 label.sk-toggleable__label-arrow:before {\n",
       "  /* Arrow on the left of the label */\n",
       "  content: \"▸\";\n",
       "  float: left;\n",
       "  margin-right: 0.25em;\n",
       "  color: var(--sklearn-color-icon);\n",
       "}\n",
       "\n",
       "#sk-container-id-1 label.sk-toggleable__label-arrow:hover:before {\n",
       "  color: var(--sklearn-color-text);\n",
       "}\n",
       "\n",
       "/* Toggleable content - dropdown */\n",
       "\n",
       "#sk-container-id-1 div.sk-toggleable__content {\n",
       "  max-height: 0;\n",
       "  max-width: 0;\n",
       "  overflow: hidden;\n",
       "  text-align: left;\n",
       "  /* unfitted */\n",
       "  background-color: var(--sklearn-color-unfitted-level-0);\n",
       "}\n",
       "\n",
       "#sk-container-id-1 div.sk-toggleable__content.fitted {\n",
       "  /* fitted */\n",
       "  background-color: var(--sklearn-color-fitted-level-0);\n",
       "}\n",
       "\n",
       "#sk-container-id-1 div.sk-toggleable__content pre {\n",
       "  margin: 0.2em;\n",
       "  border-radius: 0.25em;\n",
       "  color: var(--sklearn-color-text);\n",
       "  /* unfitted */\n",
       "  background-color: var(--sklearn-color-unfitted-level-0);\n",
       "}\n",
       "\n",
       "#sk-container-id-1 div.sk-toggleable__content.fitted pre {\n",
       "  /* unfitted */\n",
       "  background-color: var(--sklearn-color-fitted-level-0);\n",
       "}\n",
       "\n",
       "#sk-container-id-1 input.sk-toggleable__control:checked~div.sk-toggleable__content {\n",
       "  /* Expand drop-down */\n",
       "  max-height: 200px;\n",
       "  max-width: 100%;\n",
       "  overflow: auto;\n",
       "}\n",
       "\n",
       "#sk-container-id-1 input.sk-toggleable__control:checked~label.sk-toggleable__label-arrow:before {\n",
       "  content: \"▾\";\n",
       "}\n",
       "\n",
       "/* Pipeline/ColumnTransformer-specific style */\n",
       "\n",
       "#sk-container-id-1 div.sk-label input.sk-toggleable__control:checked~label.sk-toggleable__label {\n",
       "  color: var(--sklearn-color-text);\n",
       "  background-color: var(--sklearn-color-unfitted-level-2);\n",
       "}\n",
       "\n",
       "#sk-container-id-1 div.sk-label.fitted input.sk-toggleable__control:checked~label.sk-toggleable__label {\n",
       "  background-color: var(--sklearn-color-fitted-level-2);\n",
       "}\n",
       "\n",
       "/* Estimator-specific style */\n",
       "\n",
       "/* Colorize estimator box */\n",
       "#sk-container-id-1 div.sk-estimator input.sk-toggleable__control:checked~label.sk-toggleable__label {\n",
       "  /* unfitted */\n",
       "  background-color: var(--sklearn-color-unfitted-level-2);\n",
       "}\n",
       "\n",
       "#sk-container-id-1 div.sk-estimator.fitted input.sk-toggleable__control:checked~label.sk-toggleable__label {\n",
       "  /* fitted */\n",
       "  background-color: var(--sklearn-color-fitted-level-2);\n",
       "}\n",
       "\n",
       "#sk-container-id-1 div.sk-label label.sk-toggleable__label,\n",
       "#sk-container-id-1 div.sk-label label {\n",
       "  /* The background is the default theme color */\n",
       "  color: var(--sklearn-color-text-on-default-background);\n",
       "}\n",
       "\n",
       "/* On hover, darken the color of the background */\n",
       "#sk-container-id-1 div.sk-label:hover label.sk-toggleable__label {\n",
       "  color: var(--sklearn-color-text);\n",
       "  background-color: var(--sklearn-color-unfitted-level-2);\n",
       "}\n",
       "\n",
       "/* Label box, darken color on hover, fitted */\n",
       "#sk-container-id-1 div.sk-label.fitted:hover label.sk-toggleable__label.fitted {\n",
       "  color: var(--sklearn-color-text);\n",
       "  background-color: var(--sklearn-color-fitted-level-2);\n",
       "}\n",
       "\n",
       "/* Estimator label */\n",
       "\n",
       "#sk-container-id-1 div.sk-label label {\n",
       "  font-family: monospace;\n",
       "  font-weight: bold;\n",
       "  display: inline-block;\n",
       "  line-height: 1.2em;\n",
       "}\n",
       "\n",
       "#sk-container-id-1 div.sk-label-container {\n",
       "  text-align: center;\n",
       "}\n",
       "\n",
       "/* Estimator-specific */\n",
       "#sk-container-id-1 div.sk-estimator {\n",
       "  font-family: monospace;\n",
       "  border: 1px dotted var(--sklearn-color-border-box);\n",
       "  border-radius: 0.25em;\n",
       "  box-sizing: border-box;\n",
       "  margin-bottom: 0.5em;\n",
       "  /* unfitted */\n",
       "  background-color: var(--sklearn-color-unfitted-level-0);\n",
       "}\n",
       "\n",
       "#sk-container-id-1 div.sk-estimator.fitted {\n",
       "  /* fitted */\n",
       "  background-color: var(--sklearn-color-fitted-level-0);\n",
       "}\n",
       "\n",
       "/* on hover */\n",
       "#sk-container-id-1 div.sk-estimator:hover {\n",
       "  /* unfitted */\n",
       "  background-color: var(--sklearn-color-unfitted-level-2);\n",
       "}\n",
       "\n",
       "#sk-container-id-1 div.sk-estimator.fitted:hover {\n",
       "  /* fitted */\n",
       "  background-color: var(--sklearn-color-fitted-level-2);\n",
       "}\n",
       "\n",
       "/* Specification for estimator info (e.g. \"i\" and \"?\") */\n",
       "\n",
       "/* Common style for \"i\" and \"?\" */\n",
       "\n",
       ".sk-estimator-doc-link,\n",
       "a:link.sk-estimator-doc-link,\n",
       "a:visited.sk-estimator-doc-link {\n",
       "  float: right;\n",
       "  font-size: smaller;\n",
       "  line-height: 1em;\n",
       "  font-family: monospace;\n",
       "  background-color: var(--sklearn-color-background);\n",
       "  border-radius: 1em;\n",
       "  height: 1em;\n",
       "  width: 1em;\n",
       "  text-decoration: none !important;\n",
       "  margin-left: 1ex;\n",
       "  /* unfitted */\n",
       "  border: var(--sklearn-color-unfitted-level-1) 1pt solid;\n",
       "  color: var(--sklearn-color-unfitted-level-1);\n",
       "}\n",
       "\n",
       ".sk-estimator-doc-link.fitted,\n",
       "a:link.sk-estimator-doc-link.fitted,\n",
       "a:visited.sk-estimator-doc-link.fitted {\n",
       "  /* fitted */\n",
       "  border: var(--sklearn-color-fitted-level-1) 1pt solid;\n",
       "  color: var(--sklearn-color-fitted-level-1);\n",
       "}\n",
       "\n",
       "/* On hover */\n",
       "div.sk-estimator:hover .sk-estimator-doc-link:hover,\n",
       ".sk-estimator-doc-link:hover,\n",
       "div.sk-label-container:hover .sk-estimator-doc-link:hover,\n",
       ".sk-estimator-doc-link:hover {\n",
       "  /* unfitted */\n",
       "  background-color: var(--sklearn-color-unfitted-level-3);\n",
       "  color: var(--sklearn-color-background);\n",
       "  text-decoration: none;\n",
       "}\n",
       "\n",
       "div.sk-estimator.fitted:hover .sk-estimator-doc-link.fitted:hover,\n",
       ".sk-estimator-doc-link.fitted:hover,\n",
       "div.sk-label-container:hover .sk-estimator-doc-link.fitted:hover,\n",
       ".sk-estimator-doc-link.fitted:hover {\n",
       "  /* fitted */\n",
       "  background-color: var(--sklearn-color-fitted-level-3);\n",
       "  color: var(--sklearn-color-background);\n",
       "  text-decoration: none;\n",
       "}\n",
       "\n",
       "/* Span, style for the box shown on hovering the info icon */\n",
       ".sk-estimator-doc-link span {\n",
       "  display: none;\n",
       "  z-index: 9999;\n",
       "  position: relative;\n",
       "  font-weight: normal;\n",
       "  right: .2ex;\n",
       "  padding: .5ex;\n",
       "  margin: .5ex;\n",
       "  width: min-content;\n",
       "  min-width: 20ex;\n",
       "  max-width: 50ex;\n",
       "  color: var(--sklearn-color-text);\n",
       "  box-shadow: 2pt 2pt 4pt #999;\n",
       "  /* unfitted */\n",
       "  background: var(--sklearn-color-unfitted-level-0);\n",
       "  border: .5pt solid var(--sklearn-color-unfitted-level-3);\n",
       "}\n",
       "\n",
       ".sk-estimator-doc-link.fitted span {\n",
       "  /* fitted */\n",
       "  background: var(--sklearn-color-fitted-level-0);\n",
       "  border: var(--sklearn-color-fitted-level-3);\n",
       "}\n",
       "\n",
       ".sk-estimator-doc-link:hover span {\n",
       "  display: block;\n",
       "}\n",
       "\n",
       "/* \"?\"-specific style due to the `<a>` HTML tag */\n",
       "\n",
       "#sk-container-id-1 a.estimator_doc_link {\n",
       "  float: right;\n",
       "  font-size: 1rem;\n",
       "  line-height: 1em;\n",
       "  font-family: monospace;\n",
       "  background-color: var(--sklearn-color-background);\n",
       "  border-radius: 1rem;\n",
       "  height: 1rem;\n",
       "  width: 1rem;\n",
       "  text-decoration: none;\n",
       "  /* unfitted */\n",
       "  color: var(--sklearn-color-unfitted-level-1);\n",
       "  border: var(--sklearn-color-unfitted-level-1) 1pt solid;\n",
       "}\n",
       "\n",
       "#sk-container-id-1 a.estimator_doc_link.fitted {\n",
       "  /* fitted */\n",
       "  border: var(--sklearn-color-fitted-level-1) 1pt solid;\n",
       "  color: var(--sklearn-color-fitted-level-1);\n",
       "}\n",
       "\n",
       "/* On hover */\n",
       "#sk-container-id-1 a.estimator_doc_link:hover {\n",
       "  /* unfitted */\n",
       "  background-color: var(--sklearn-color-unfitted-level-3);\n",
       "  color: var(--sklearn-color-background);\n",
       "  text-decoration: none;\n",
       "}\n",
       "\n",
       "#sk-container-id-1 a.estimator_doc_link.fitted:hover {\n",
       "  /* fitted */\n",
       "  background-color: var(--sklearn-color-fitted-level-3);\n",
       "}\n",
       "</style><div id=\"sk-container-id-1\" class=\"sk-top-container\"><div class=\"sk-text-repr-fallback\"><pre>XGBClassifier(base_score=None, booster=None, callbacks=None,\n",
       "              colsample_bylevel=None, colsample_bynode=0.14667845540225039,\n",
       "              colsample_bytree=None, device=&#x27;gpu&#x27;, early_stopping_rounds=None,\n",
       "              enable_categorical=False,\n",
       "              eval_metric=&lt;function custom_f1_score at 0x7b4950ceefc0&gt;,\n",
       "              feature_types=None, gamma=None, grow_policy=None,\n",
       "              importance_type=None, interaction_constraints=None,\n",
       "              learning_rate=0.07220195396446882, max_bin=None,\n",
       "              max_cat_threshold=None, max_cat_to_onehot=None,\n",
       "              max_delta_step=None, max_depth=9, max_leaves=None,\n",
       "              min_child_weight=3, missing=nan, monotone_constraints=None,\n",
       "              multi_strategy=None, n_estimators=37, n_jobs=None,\n",
       "              num_parallel_tree=None, objective=&#x27;multi:softprob&#x27;, ...)</pre><b>In a Jupyter environment, please rerun this cell to show the HTML representation or trust the notebook. <br />On GitHub, the HTML representation is unable to render, please try loading this page with nbviewer.org.</b></div><div class=\"sk-container\" hidden><div class=\"sk-item\"><div class=\"sk-estimator fitted sk-toggleable\"><input class=\"sk-toggleable__control sk-hidden--visually\" id=\"sk-estimator-id-1\" type=\"checkbox\" checked><label for=\"sk-estimator-id-1\" class=\"sk-toggleable__label fitted sk-toggleable__label-arrow fitted\">&nbsp;XGBClassifier<span class=\"sk-estimator-doc-link fitted\">i<span>Fitted</span></span></label><div class=\"sk-toggleable__content fitted\"><pre>XGBClassifier(base_score=None, booster=None, callbacks=None,\n",
       "              colsample_bylevel=None, colsample_bynode=0.14667845540225039,\n",
       "              colsample_bytree=None, device=&#x27;gpu&#x27;, early_stopping_rounds=None,\n",
       "              enable_categorical=False,\n",
       "              eval_metric=&lt;function custom_f1_score at 0x7b4950ceefc0&gt;,\n",
       "              feature_types=None, gamma=None, grow_policy=None,\n",
       "              importance_type=None, interaction_constraints=None,\n",
       "              learning_rate=0.07220195396446882, max_bin=None,\n",
       "              max_cat_threshold=None, max_cat_to_onehot=None,\n",
       "              max_delta_step=None, max_depth=9, max_leaves=None,\n",
       "              min_child_weight=3, missing=nan, monotone_constraints=None,\n",
       "              multi_strategy=None, n_estimators=37, n_jobs=None,\n",
       "              num_parallel_tree=None, objective=&#x27;multi:softprob&#x27;, ...)</pre></div> </div></div></div></div>"
      ],
      "text/plain": [
       "XGBClassifier(base_score=None, booster=None, callbacks=None,\n",
       "              colsample_bylevel=None, colsample_bynode=0.14667845540225039,\n",
       "              colsample_bytree=None, device='gpu', early_stopping_rounds=None,\n",
       "              enable_categorical=False,\n",
       "              eval_metric=<function custom_f1_score at 0x7b4950ceefc0>,\n",
       "              feature_types=None, gamma=None, grow_policy=None,\n",
       "              importance_type=None, interaction_constraints=None,\n",
       "              learning_rate=0.07220195396446882, max_bin=None,\n",
       "              max_cat_threshold=None, max_cat_to_onehot=None,\n",
       "              max_delta_step=None, max_depth=9, max_leaves=None,\n",
       "              min_child_weight=3, missing=nan, monotone_constraints=None,\n",
       "              multi_strategy=None, n_estimators=37, n_jobs=None,\n",
       "              num_parallel_tree=None, objective='multi:softprob', ...)"
      ]
     },
     "execution_count": 24,
     "metadata": {},
     "output_type": "execute_result"
    }
   ],
   "source": [
    "n_estimators = int(study.best_trial.user_attrs['best_iteration']*1.2)\n",
    "xgb = xgboost.XGBClassifier(\n",
    "        device='gpu',\n",
    "        eval_metric=eval_metric,\n",
    "        n_estimators=n_estimators,\n",
    "        **study.best_trial.params\n",
    "    )\n",
    "xgb.fit(\n",
    "    ssp.vstack((X_train, X_val)), \n",
    "    np.concatenate((y_train_enc, y_val_enc)), \n",
    "    eval_set=[(X_test, y_test_enc)],\n",
    "    verbose=1,\n",
    ")"
   ]
  },
  {
   "cell_type": "code",
   "execution_count": 25,
   "id": "60651678",
   "metadata": {
    "editable": true,
    "execution": {
     "iopub.execute_input": "2025-03-17T18:07:47.765969Z",
     "iopub.status.busy": "2025-03-17T18:07:47.765556Z",
     "iopub.status.idle": "2025-03-17T18:07:47.808052Z",
     "shell.execute_reply": "2025-03-17T18:07:47.807320Z"
    },
    "papermill": {
     "duration": 0.119259,
     "end_time": "2025-03-17T18:07:47.809610",
     "exception": false,
     "start_time": "2025-03-17T18:07:47.690351",
     "status": "completed"
    },
    "slideshow": {
     "slide_type": ""
    },
    "tags": []
   },
   "outputs": [
    {
     "data": {
      "text/plain": [
       "['/scratch_isilon/groups/singlecell/shared/projects/Inflammation-PBMCs-Atlas/03_downstream_analysis/08_gene_importance/results/targetY_studyID/03_xgboost/best_model/studyID_pDC_xgb.json']"
      ]
     },
     "execution_count": 25,
     "metadata": {},
     "output_type": "execute_result"
    }
   ],
   "source": [
    "os.makedirs(here(f\"03_downstream_analysis/08_gene_importance/results/targetY_{target_y}/03_xgboost/best_model/\"), exist_ok=True)\n",
    "\n",
    "joblib.dump(xgb, (here(f'03_downstream_analysis/08_gene_importance/results/targetY_{target_y}/03_xgboost/best_model/{RUN_NAME}{CELL_TYPE}_xgb.json')))"
   ]
  },
  {
   "cell_type": "code",
   "execution_count": 26,
   "id": "6485ae1e",
   "metadata": {
    "execution": {
     "iopub.execute_input": "2025-03-17T18:07:47.889680Z",
     "iopub.status.busy": "2025-03-17T18:07:47.887922Z",
     "iopub.status.idle": "2025-03-17T18:07:48.264282Z",
     "shell.execute_reply": "2025-03-17T18:07:48.263865Z"
    },
    "papermill": {
     "duration": 0.417998,
     "end_time": "2025-03-17T18:07:48.265745",
     "exception": false,
     "start_time": "2025-03-17T18:07:47.847747",
     "status": "completed"
    },
    "tags": []
   },
   "outputs": [
    {
     "name": "stderr",
     "output_type": "stream",
     "text": [
      "/scratch_isilon/groups/singlecell/shared/conda_env/xgboostGPU/lib/python3.12/site-packages/xgboost/core.py:160: UserWarning:\n",
      "\n",
      "[18:07:47] WARNING: /home/conda/feedstock_root/build_artifacts/xgboost-split_1703076482591/work/src/common/error_msg.cc:58: Falling back to prediction using DMatrix due to mismatched devices. This might lead to higher memory usage and slower performance. XGBoost is running on: cuda:0, while the input data is on: cpu.\n",
      "Potential solutions:\n",
      "- Use a data structure that matches the device ordinal in the booster.\n",
      "- Set the device for booster before call to inplace_predict.\n",
      "\n",
      "This warning will only be shown once.\n",
      "\n",
      "\n"
     ]
    }
   ],
   "source": [
    "os.makedirs(here(f\"03_downstream_analysis/08_gene_importance/results/targetY_{target_y}/03_xgboost/predictions/\"), exist_ok=True)\n",
    "\n",
    "(pd.DataFrame(np.array((y_test, y_test_enc, xgb.predict(X_test))).T, columns=['y_true', 'y_true_code', 'y_pred'])\n",
    " .to_csv(here(f'03_downstream_analysis/08_gene_importance/results/targetY_{target_y}/03_xgboost/predictions/{RUN_NAME}{CELL_TYPE}_pred_test.zip')))\n",
    "(pd.DataFrame(np.array((y_train, y_train_enc, xgb.predict(X_train))).T, columns=['y_true', 'y_true_code', 'y_pred'])\n",
    " .to_csv(here(f'03_downstream_analysis/08_gene_importance/results/targetY_{target_y}/03_xgboost/predictions/{RUN_NAME}{CELL_TYPE}_pred_train.zip')))"
   ]
  },
  {
   "cell_type": "code",
   "execution_count": null,
   "id": "80ae7dfb",
   "metadata": {
    "papermill": {
     "duration": 0.011507,
     "end_time": "2025-03-17T18:07:48.296050",
     "exception": false,
     "start_time": "2025-03-17T18:07:48.284543",
     "status": "completed"
    },
    "tags": []
   },
   "outputs": [],
   "source": []
  }
 ],
 "metadata": {
  "kernelspec": {
   "display_name": "Python 3 (ipykernel)",
   "language": "python",
   "name": "python3"
  },
  "language_info": {
   "codemirror_mode": {
    "name": "ipython",
    "version": 3
   },
   "file_extension": ".py",
   "mimetype": "text/x-python",
   "name": "python",
   "nbconvert_exporter": "python",
   "pygments_lexer": "ipython3",
   "version": "3.12.9"
  },
  "papermill": {
   "default_parameters": {},
   "duration": 245.263834,
   "end_time": "2025-03-17T18:07:51.132488",
   "environment_variables": {},
   "exception": null,
   "input_path": "02_studyID_xgboost_fitting.ipynb",
   "output_path": "executed_notebooks/02_studyID_xgboost_fitting_pDC.ipynb",
   "parameters": {
    "CELL_TYPE": "pDC"
   },
   "start_time": "2025-03-17T18:03:45.868654",
   "version": "2.6.0"
  }
 },
 "nbformat": 4,
 "nbformat_minor": 5
}