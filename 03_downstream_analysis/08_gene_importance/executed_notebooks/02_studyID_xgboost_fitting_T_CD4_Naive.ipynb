{
 "cells": [
  {
   "cell_type": "code",
   "execution_count": 1,
   "id": "1908f20f",
   "metadata": {
    "editable": true,
    "execution": {
     "iopub.execute_input": "2025-03-18T16:46:06.672536Z",
     "iopub.status.busy": "2025-03-18T16:46:06.671838Z",
     "iopub.status.idle": "2025-03-18T16:46:06.678164Z",
     "shell.execute_reply": "2025-03-18T16:46:06.677249Z"
    },
    "papermill": {
     "duration": 0.022278,
     "end_time": "2025-03-18T16:46:06.679437",
     "exception": false,
     "start_time": "2025-03-18T16:46:06.657159",
     "status": "completed"
    },
    "slideshow": {
     "slide_type": ""
    },
    "tags": [
     "parameters"
    ]
   },
   "outputs": [],
   "source": [
    "CELL_TYPE = 'DC'\n",
    "N_SPLITS: int = 5\n",
    "N_TRIALS: int = 50\n",
    "RUN_NAME: str = \"studyID\""
   ]
  },
  {
   "cell_type": "code",
   "execution_count": 2,
   "id": "4c8db655",
   "metadata": {
    "execution": {
     "iopub.execute_input": "2025-03-18T16:46:06.715101Z",
     "iopub.status.busy": "2025-03-18T16:46:06.714470Z",
     "iopub.status.idle": "2025-03-18T16:46:06.719385Z",
     "shell.execute_reply": "2025-03-18T16:46:06.718478Z"
    },
    "papermill": {
     "duration": 0.01967,
     "end_time": "2025-03-18T16:46:06.720620",
     "exception": false,
     "start_time": "2025-03-18T16:46:06.700950",
     "status": "completed"
    },
    "tags": [
     "injected-parameters"
    ]
   },
   "outputs": [],
   "source": [
    "# Parameters\n",
    "CELL_TYPE = \"T_CD4_Naive\"\n"
   ]
  },
  {
   "cell_type": "code",
   "execution_count": 3,
   "id": "e1b6d07f",
   "metadata": {
    "editable": true,
    "execution": {
     "iopub.execute_input": "2025-03-18T16:46:06.735800Z",
     "iopub.status.busy": "2025-03-18T16:46:06.735632Z",
     "iopub.status.idle": "2025-03-18T16:46:06.739166Z",
     "shell.execute_reply": "2025-03-18T16:46:06.738317Z"
    },
    "papermill": {
     "duration": 0.011128,
     "end_time": "2025-03-18T16:46:06.740028",
     "exception": false,
     "start_time": "2025-03-18T16:46:06.728900",
     "status": "completed"
    },
    "slideshow": {
     "slide_type": ""
    },
    "tags": []
   },
   "outputs": [],
   "source": [
    "if RUN_NAME != \"\":\n",
    "    RUN_NAME = RUN_NAME + \"_\""
   ]
  },
  {
   "cell_type": "code",
   "execution_count": 4,
   "id": "c74303cd",
   "metadata": {
    "editable": true,
    "execution": {
     "iopub.execute_input": "2025-03-18T16:46:06.767994Z",
     "iopub.status.busy": "2025-03-18T16:46:06.767353Z",
     "iopub.status.idle": "2025-03-18T16:46:13.457246Z",
     "shell.execute_reply": "2025-03-18T16:46:13.456064Z"
    },
    "papermill": {
     "duration": 6.700743,
     "end_time": "2025-03-18T16:46:13.459480",
     "exception": false,
     "start_time": "2025-03-18T16:46:06.758737",
     "status": "completed"
    },
    "slideshow": {
     "slide_type": ""
    },
    "tags": []
   },
   "outputs": [],
   "source": [
    "import os\n",
    "import sys\n",
    "#from pyprojroot.here import here\n",
    "\n",
    "import pandas as pd\n",
    "import anndata as ad\n",
    "import numpy as np\n",
    "import math\n",
    "from sklearn.model_selection import StratifiedGroupKFold\n",
    "from sklearn.preprocessing import LabelEncoder\n",
    "from sklearn.metrics import f1_score\n",
    "import matplotlib.pyplot as plt\n",
    "import seaborn as sns\n",
    "from itertools import product\n",
    "\n",
    "import optuna\n",
    "\n",
    "import joblib\n",
    "import pickle\n",
    "import datetime\n",
    "\n",
    "import collections\n",
    "\n",
    "import xgboost\n",
    "from sklearn.preprocessing import LabelEncoder\n",
    "\n",
    "import scipy.sparse as ssp\n",
    "import joblib\n",
    "\n",
    "from pyprojroot import here\n",
    "\n",
    "from dotenv import load_dotenv"
   ]
  },
  {
   "cell_type": "code",
   "execution_count": 5,
   "id": "5cb4d719",
   "metadata": {
    "execution": {
     "iopub.execute_input": "2025-03-18T16:46:13.485230Z",
     "iopub.status.busy": "2025-03-18T16:46:13.483931Z",
     "iopub.status.idle": "2025-03-18T16:46:13.491967Z",
     "shell.execute_reply": "2025-03-18T16:46:13.491044Z"
    },
    "papermill": {
     "duration": 0.022026,
     "end_time": "2025-03-18T16:46:13.493648",
     "exception": false,
     "start_time": "2025-03-18T16:46:13.471622",
     "status": "completed"
    },
    "tags": []
   },
   "outputs": [],
   "source": [
    "assert load_dotenv()"
   ]
  },
  {
   "cell_type": "markdown",
   "id": "5ca73eb3",
   "metadata": {
    "execution": {
     "iopub.execute_input": "2025-03-17T14:39:30.205388Z",
     "iopub.status.busy": "2025-03-17T14:39:30.204197Z",
     "iopub.status.idle": "2025-03-17T14:39:30.210586Z",
     "shell.execute_reply": "2025-03-17T14:39:30.209317Z",
     "shell.execute_reply.started": "2025-03-17T14:39:30.205342Z"
    },
    "papermill": {
     "duration": 0.009246,
     "end_time": "2025-03-18T16:46:13.521367",
     "exception": false,
     "start_time": "2025-03-18T16:46:13.512121",
     "status": "completed"
    },
    "tags": []
   },
   "source": [
    "def here(fpath):\n",
    "    return os.path.join(BUCKET_DIRPATH, fpath)"
   ]
  },
  {
   "cell_type": "code",
   "execution_count": 6,
   "id": "30b11be3",
   "metadata": {
    "execution": {
     "iopub.execute_input": "2025-03-18T16:46:13.555231Z",
     "iopub.status.busy": "2025-03-18T16:46:13.554944Z",
     "iopub.status.idle": "2025-03-18T16:46:13.558813Z",
     "shell.execute_reply": "2025-03-18T16:46:13.558446Z"
    },
    "papermill": {
     "duration": 0.025248,
     "end_time": "2025-03-18T16:46:13.564039",
     "exception": false,
     "start_time": "2025-03-18T16:46:13.538791",
     "status": "completed"
    },
    "tags": []
   },
   "outputs": [],
   "source": [
    "target_y = 'studyID'"
   ]
  },
  {
   "cell_type": "markdown",
   "id": "21e673ca",
   "metadata": {
    "papermill": {
     "duration": 0.012961,
     "end_time": "2025-03-18T16:46:13.594713",
     "exception": false,
     "start_time": "2025-03-18T16:46:13.581752",
     "status": "completed"
    },
    "tags": []
   },
   "source": [
    "# LOAD DATASET"
   ]
  },
  {
   "cell_type": "code",
   "execution_count": 7,
   "id": "10122743",
   "metadata": {
    "execution": {
     "iopub.execute_input": "2025-03-18T16:46:13.613519Z",
     "iopub.status.busy": "2025-03-18T16:46:13.612920Z",
     "iopub.status.idle": "2025-03-18T16:46:21.486592Z",
     "shell.execute_reply": "2025-03-18T16:46:21.486126Z"
    },
    "papermill": {
     "duration": 7.887018,
     "end_time": "2025-03-18T16:46:21.487843",
     "exception": false,
     "start_time": "2025-03-18T16:46:13.600825",
     "status": "completed"
    },
    "tags": []
   },
   "outputs": [],
   "source": [
    "adata = ad.read_h5ad(\n",
    "    str(here(f'03_downstream_analysis/08_gene_importance/data/{CELL_TYPE}_adataMerged_SPECTRAgenes.log1p.h5ad')),\n",
    "    backed='r',\n",
    "    chunk_size=25000\n",
    ")"
   ]
  },
  {
   "cell_type": "code",
   "execution_count": 8,
   "id": "5543d8aa",
   "metadata": {
    "execution": {
     "iopub.execute_input": "2025-03-18T16:46:21.526235Z",
     "iopub.status.busy": "2025-03-18T16:46:21.525951Z",
     "iopub.status.idle": "2025-03-18T16:46:21.578999Z",
     "shell.execute_reply": "2025-03-18T16:46:21.573443Z"
    },
    "papermill": {
     "duration": 0.075525,
     "end_time": "2025-03-18T16:46:21.581116",
     "exception": false,
     "start_time": "2025-03-18T16:46:21.505591",
     "status": "completed"
    },
    "tags": []
   },
   "outputs": [
    {
     "data": {
      "text/html": [
       "<div>\n",
       "<style scoped>\n",
       "    .dataframe tbody tr th:only-of-type {\n",
       "        vertical-align: middle;\n",
       "    }\n",
       "\n",
       "    .dataframe tbody tr th {\n",
       "        vertical-align: top;\n",
       "    }\n",
       "\n",
       "    .dataframe thead th {\n",
       "        text-align: right;\n",
       "    }\n",
       "</style>\n",
       "<table border=\"1\" class=\"dataframe\">\n",
       "  <thead>\n",
       "    <tr style=\"text-align: right;\">\n",
       "      <th></th>\n",
       "      <th>studyID</th>\n",
       "      <th>libraryID</th>\n",
       "      <th>sampleID</th>\n",
       "      <th>chemistry</th>\n",
       "      <th>disease</th>\n",
       "      <th>sex</th>\n",
       "      <th>binned_age</th>\n",
       "      <th>Level1</th>\n",
       "      <th>Level2</th>\n",
       "    </tr>\n",
       "    <tr>\n",
       "      <th>cellID</th>\n",
       "      <th></th>\n",
       "      <th></th>\n",
       "      <th></th>\n",
       "      <th></th>\n",
       "      <th></th>\n",
       "      <th></th>\n",
       "      <th></th>\n",
       "      <th></th>\n",
       "      <th></th>\n",
       "    </tr>\n",
       "  </thead>\n",
       "  <tbody>\n",
       "    <tr>\n",
       "      <th>Zhang2023_L011_P190808_T0_AAACCTGAGGGCTCTC</th>\n",
       "      <td>Zhang2023</td>\n",
       "      <td>Zhang2023_L011</td>\n",
       "      <td>Zhang2023_P190808_T0</td>\n",
       "      <td>5_GEX_V1</td>\n",
       "      <td>HBV</td>\n",
       "      <td>female</td>\n",
       "      <td>51-60</td>\n",
       "      <td>T_CD4_Naive</td>\n",
       "      <td>T_CD4_Naive</td>\n",
       "    </tr>\n",
       "    <tr>\n",
       "      <th>Zhang2023_L011_P190808_T0_AAACCTGGTCCCTTGT</th>\n",
       "      <td>Zhang2023</td>\n",
       "      <td>Zhang2023_L011</td>\n",
       "      <td>Zhang2023_P190808_T0</td>\n",
       "      <td>5_GEX_V1</td>\n",
       "      <td>HBV</td>\n",
       "      <td>female</td>\n",
       "      <td>51-60</td>\n",
       "      <td>T_CD4_Naive</td>\n",
       "      <td>T_CD4_Naive</td>\n",
       "    </tr>\n",
       "    <tr>\n",
       "      <th>Zhang2023_L011_P190808_T0_AAACGGGCAAGGACTG</th>\n",
       "      <td>Zhang2023</td>\n",
       "      <td>Zhang2023_L011</td>\n",
       "      <td>Zhang2023_P190808_T0</td>\n",
       "      <td>5_GEX_V1</td>\n",
       "      <td>HBV</td>\n",
       "      <td>female</td>\n",
       "      <td>51-60</td>\n",
       "      <td>T_CD4_Naive</td>\n",
       "      <td>T_CD4_Naive</td>\n",
       "    </tr>\n",
       "    <tr>\n",
       "      <th>Zhang2023_L011_P190808_T0_AAACGGGTCGGGAGTA</th>\n",
       "      <td>Zhang2023</td>\n",
       "      <td>Zhang2023_L011</td>\n",
       "      <td>Zhang2023_P190808_T0</td>\n",
       "      <td>5_GEX_V1</td>\n",
       "      <td>HBV</td>\n",
       "      <td>female</td>\n",
       "      <td>51-60</td>\n",
       "      <td>T_CD4_Naive</td>\n",
       "      <td>T_CD4_Naive</td>\n",
       "    </tr>\n",
       "    <tr>\n",
       "      <th>Zhang2023_L011_P190808_T0_AAAGATGAGCAACGGT</th>\n",
       "      <td>Zhang2023</td>\n",
       "      <td>Zhang2023_L011</td>\n",
       "      <td>Zhang2023_P190808_T0</td>\n",
       "      <td>5_GEX_V1</td>\n",
       "      <td>HBV</td>\n",
       "      <td>female</td>\n",
       "      <td>51-60</td>\n",
       "      <td>T_CD4_Naive</td>\n",
       "      <td>T_CD4_Naive</td>\n",
       "    </tr>\n",
       "    <tr>\n",
       "      <th>...</th>\n",
       "      <td>...</td>\n",
       "      <td>...</td>\n",
       "      <td>...</td>\n",
       "      <td>...</td>\n",
       "      <td>...</td>\n",
       "      <td>...</td>\n",
       "      <td>...</td>\n",
       "      <td>...</td>\n",
       "      <td>...</td>\n",
       "    </tr>\n",
       "    <tr>\n",
       "      <th>Terekhova2023_L025_FB02_T0_TTTACTGCAGTGGAGT</th>\n",
       "      <td>Terekhova2023</td>\n",
       "      <td>Terekhova2023_L025</td>\n",
       "      <td>Terekhova2023_FB02_T0</td>\n",
       "      <td>5_GEX_V2</td>\n",
       "      <td>healthy</td>\n",
       "      <td>female</td>\n",
       "      <td>31-40</td>\n",
       "      <td>T_CD4_Naive</td>\n",
       "      <td>T_CD4_Naive</td>\n",
       "    </tr>\n",
       "    <tr>\n",
       "      <th>Terekhova2023_L025_FB02_T0_TTTACTGTCTCCGGTT</th>\n",
       "      <td>Terekhova2023</td>\n",
       "      <td>Terekhova2023_L025</td>\n",
       "      <td>Terekhova2023_FB02_T0</td>\n",
       "      <td>5_GEX_V2</td>\n",
       "      <td>healthy</td>\n",
       "      <td>female</td>\n",
       "      <td>31-40</td>\n",
       "      <td>T_CD4_Naive</td>\n",
       "      <td>T_CD4_Naive</td>\n",
       "    </tr>\n",
       "    <tr>\n",
       "      <th>Terekhova2023_L025_FB02_T0_TTTATGCTCCACGACG</th>\n",
       "      <td>Terekhova2023</td>\n",
       "      <td>Terekhova2023_L025</td>\n",
       "      <td>Terekhova2023_FB02_T0</td>\n",
       "      <td>5_GEX_V2</td>\n",
       "      <td>healthy</td>\n",
       "      <td>female</td>\n",
       "      <td>31-40</td>\n",
       "      <td>T_CD4_Naive</td>\n",
       "      <td>T_CD4_Naive</td>\n",
       "    </tr>\n",
       "    <tr>\n",
       "      <th>Terekhova2023_L025_FB02_T0_TTTCCTCCAAGCTGTT</th>\n",
       "      <td>Terekhova2023</td>\n",
       "      <td>Terekhova2023_L025</td>\n",
       "      <td>Terekhova2023_FB02_T0</td>\n",
       "      <td>5_GEX_V2</td>\n",
       "      <td>healthy</td>\n",
       "      <td>female</td>\n",
       "      <td>31-40</td>\n",
       "      <td>T_CD4_Naive</td>\n",
       "      <td>T_CD4_Naive</td>\n",
       "    </tr>\n",
       "    <tr>\n",
       "      <th>Terekhova2023_L025_FB02_T0_TTTCCTCCATTGAGCT</th>\n",
       "      <td>Terekhova2023</td>\n",
       "      <td>Terekhova2023_L025</td>\n",
       "      <td>Terekhova2023_FB02_T0</td>\n",
       "      <td>5_GEX_V2</td>\n",
       "      <td>healthy</td>\n",
       "      <td>female</td>\n",
       "      <td>31-40</td>\n",
       "      <td>T_CD4_Naive</td>\n",
       "      <td>T_CD4_Naive</td>\n",
       "    </tr>\n",
       "  </tbody>\n",
       "</table>\n",
       "<p>792955 rows × 9 columns</p>\n",
       "</div>"
      ],
      "text/plain": [
       "                                                   studyID  \\\n",
       "cellID                                                       \n",
       "Zhang2023_L011_P190808_T0_AAACCTGAGGGCTCTC       Zhang2023   \n",
       "Zhang2023_L011_P190808_T0_AAACCTGGTCCCTTGT       Zhang2023   \n",
       "Zhang2023_L011_P190808_T0_AAACGGGCAAGGACTG       Zhang2023   \n",
       "Zhang2023_L011_P190808_T0_AAACGGGTCGGGAGTA       Zhang2023   \n",
       "Zhang2023_L011_P190808_T0_AAAGATGAGCAACGGT       Zhang2023   \n",
       "...                                                    ...   \n",
       "Terekhova2023_L025_FB02_T0_TTTACTGCAGTGGAGT  Terekhova2023   \n",
       "Terekhova2023_L025_FB02_T0_TTTACTGTCTCCGGTT  Terekhova2023   \n",
       "Terekhova2023_L025_FB02_T0_TTTATGCTCCACGACG  Terekhova2023   \n",
       "Terekhova2023_L025_FB02_T0_TTTCCTCCAAGCTGTT  Terekhova2023   \n",
       "Terekhova2023_L025_FB02_T0_TTTCCTCCATTGAGCT  Terekhova2023   \n",
       "\n",
       "                                                      libraryID  \\\n",
       "cellID                                                            \n",
       "Zhang2023_L011_P190808_T0_AAACCTGAGGGCTCTC       Zhang2023_L011   \n",
       "Zhang2023_L011_P190808_T0_AAACCTGGTCCCTTGT       Zhang2023_L011   \n",
       "Zhang2023_L011_P190808_T0_AAACGGGCAAGGACTG       Zhang2023_L011   \n",
       "Zhang2023_L011_P190808_T0_AAACGGGTCGGGAGTA       Zhang2023_L011   \n",
       "Zhang2023_L011_P190808_T0_AAAGATGAGCAACGGT       Zhang2023_L011   \n",
       "...                                                         ...   \n",
       "Terekhova2023_L025_FB02_T0_TTTACTGCAGTGGAGT  Terekhova2023_L025   \n",
       "Terekhova2023_L025_FB02_T0_TTTACTGTCTCCGGTT  Terekhova2023_L025   \n",
       "Terekhova2023_L025_FB02_T0_TTTATGCTCCACGACG  Terekhova2023_L025   \n",
       "Terekhova2023_L025_FB02_T0_TTTCCTCCAAGCTGTT  Terekhova2023_L025   \n",
       "Terekhova2023_L025_FB02_T0_TTTCCTCCATTGAGCT  Terekhova2023_L025   \n",
       "\n",
       "                                                          sampleID chemistry  \\\n",
       "cellID                                                                         \n",
       "Zhang2023_L011_P190808_T0_AAACCTGAGGGCTCTC    Zhang2023_P190808_T0  5_GEX_V1   \n",
       "Zhang2023_L011_P190808_T0_AAACCTGGTCCCTTGT    Zhang2023_P190808_T0  5_GEX_V1   \n",
       "Zhang2023_L011_P190808_T0_AAACGGGCAAGGACTG    Zhang2023_P190808_T0  5_GEX_V1   \n",
       "Zhang2023_L011_P190808_T0_AAACGGGTCGGGAGTA    Zhang2023_P190808_T0  5_GEX_V1   \n",
       "Zhang2023_L011_P190808_T0_AAAGATGAGCAACGGT    Zhang2023_P190808_T0  5_GEX_V1   \n",
       "...                                                            ...       ...   \n",
       "Terekhova2023_L025_FB02_T0_TTTACTGCAGTGGAGT  Terekhova2023_FB02_T0  5_GEX_V2   \n",
       "Terekhova2023_L025_FB02_T0_TTTACTGTCTCCGGTT  Terekhova2023_FB02_T0  5_GEX_V2   \n",
       "Terekhova2023_L025_FB02_T0_TTTATGCTCCACGACG  Terekhova2023_FB02_T0  5_GEX_V2   \n",
       "Terekhova2023_L025_FB02_T0_TTTCCTCCAAGCTGTT  Terekhova2023_FB02_T0  5_GEX_V2   \n",
       "Terekhova2023_L025_FB02_T0_TTTCCTCCATTGAGCT  Terekhova2023_FB02_T0  5_GEX_V2   \n",
       "\n",
       "                                             disease     sex binned_age  \\\n",
       "cellID                                                                    \n",
       "Zhang2023_L011_P190808_T0_AAACCTGAGGGCTCTC       HBV  female      51-60   \n",
       "Zhang2023_L011_P190808_T0_AAACCTGGTCCCTTGT       HBV  female      51-60   \n",
       "Zhang2023_L011_P190808_T0_AAACGGGCAAGGACTG       HBV  female      51-60   \n",
       "Zhang2023_L011_P190808_T0_AAACGGGTCGGGAGTA       HBV  female      51-60   \n",
       "Zhang2023_L011_P190808_T0_AAAGATGAGCAACGGT       HBV  female      51-60   \n",
       "...                                              ...     ...        ...   \n",
       "Terekhova2023_L025_FB02_T0_TTTACTGCAGTGGAGT  healthy  female      31-40   \n",
       "Terekhova2023_L025_FB02_T0_TTTACTGTCTCCGGTT  healthy  female      31-40   \n",
       "Terekhova2023_L025_FB02_T0_TTTATGCTCCACGACG  healthy  female      31-40   \n",
       "Terekhova2023_L025_FB02_T0_TTTCCTCCAAGCTGTT  healthy  female      31-40   \n",
       "Terekhova2023_L025_FB02_T0_TTTCCTCCATTGAGCT  healthy  female      31-40   \n",
       "\n",
       "                                                  Level1       Level2  \n",
       "cellID                                                                 \n",
       "Zhang2023_L011_P190808_T0_AAACCTGAGGGCTCTC   T_CD4_Naive  T_CD4_Naive  \n",
       "Zhang2023_L011_P190808_T0_AAACCTGGTCCCTTGT   T_CD4_Naive  T_CD4_Naive  \n",
       "Zhang2023_L011_P190808_T0_AAACGGGCAAGGACTG   T_CD4_Naive  T_CD4_Naive  \n",
       "Zhang2023_L011_P190808_T0_AAACGGGTCGGGAGTA   T_CD4_Naive  T_CD4_Naive  \n",
       "Zhang2023_L011_P190808_T0_AAAGATGAGCAACGGT   T_CD4_Naive  T_CD4_Naive  \n",
       "...                                                  ...          ...  \n",
       "Terekhova2023_L025_FB02_T0_TTTACTGCAGTGGAGT  T_CD4_Naive  T_CD4_Naive  \n",
       "Terekhova2023_L025_FB02_T0_TTTACTGTCTCCGGTT  T_CD4_Naive  T_CD4_Naive  \n",
       "Terekhova2023_L025_FB02_T0_TTTATGCTCCACGACG  T_CD4_Naive  T_CD4_Naive  \n",
       "Terekhova2023_L025_FB02_T0_TTTCCTCCAAGCTGTT  T_CD4_Naive  T_CD4_Naive  \n",
       "Terekhova2023_L025_FB02_T0_TTTCCTCCATTGAGCT  T_CD4_Naive  T_CD4_Naive  \n",
       "\n",
       "[792955 rows x 9 columns]"
      ]
     },
     "execution_count": 8,
     "metadata": {},
     "output_type": "execute_result"
    }
   ],
   "source": [
    "adata.obs"
   ]
  },
  {
   "cell_type": "markdown",
   "id": "8adcdf20",
   "metadata": {
    "papermill": {
     "duration": 0.012125,
     "end_time": "2025-03-18T16:46:21.611255",
     "exception": false,
     "start_time": "2025-03-18T16:46:21.599130",
     "status": "completed"
    },
    "tags": []
   },
   "source": [
    "# EXTRACT INDEXES FOR DATA SPLITTING (STRATIFIED BY DISEASE, GROUPED BY PATIENT)\n",
    "\n",
    "# EXTRACT CELL COUNTS PER SPLIT (TO MAKE SURE THAT RATIOS RESEMBLE 70:20:10)"
   ]
  },
  {
   "cell_type": "code",
   "execution_count": 9,
   "id": "876a9df0",
   "metadata": {
    "execution": {
     "iopub.execute_input": "2025-03-18T16:46:21.648079Z",
     "iopub.status.busy": "2025-03-18T16:46:21.647439Z",
     "iopub.status.idle": "2025-03-18T16:46:25.700414Z",
     "shell.execute_reply": "2025-03-18T16:46:25.699873Z"
    },
    "papermill": {
     "duration": 4.074717,
     "end_time": "2025-03-18T16:46:25.701509",
     "exception": false,
     "start_time": "2025-03-18T16:46:21.626792",
     "status": "completed"
    },
    "tags": []
   },
   "outputs": [],
   "source": [
    "all_idxs = np.arange(adata.obs.shape[0])\n",
    "left_out_splits = [s[1] for s in StratifiedGroupKFold(n_splits=N_SPLITS).split(all_idxs, adata.obs[target_y], adata.obs.sampleID)]\n",
    "\n",
    "min_stats = []\n",
    "for val_fold_idx, test_fold_idx in product(range(N_SPLITS), range(1,N_SPLITS)):\n",
    "    if val_fold_idx == test_fold_idx:\n",
    "        continue\n",
    "\n",
    "    all_idxs = np.arange(adata.obs.shape[0])\n",
    "    val_idxs, test_idxs = left_out_splits[val_fold_idx], left_out_splits[test_fold_idx]\n",
    "    train_idxs = np.delete(all_idxs, np.union1d(val_idxs, test_idxs))\n",
    "\n",
    "    cell_count_df = []\n",
    "    cell_count_df.append(adata.obs.iloc[train_idxs].groupby(target_y, observed=False).size().to_frame(name='cell_count').reset_index().assign(split='train'))\n",
    "    cell_count_df.append(adata.obs.iloc[val_idxs].groupby(target_y, observed=False).size().to_frame(name='cell_count').reset_index().assign(split='val'))\n",
    "    cell_count_df.append(adata.obs.iloc[test_idxs].groupby(target_y, observed=False).size().to_frame(name='cell_count').reset_index().assign(split='test'))\n",
    "    cell_count_df = pd.concat(cell_count_df).pivot(index=target_y, columns='split', values='cell_count')\n",
    "    cell_plot_data = cell_count_df.div(cell_count_df.sum(axis=1), axis=0).reset_index().melt(id_vars=target_y)\n",
    "    min_stats.append((val_fold_idx, test_fold_idx, cell_plot_data.query('split==\"train\"').value.min(), cell_plot_data.query('split==\"test\"').value.min()))"
   ]
  },
  {
   "cell_type": "markdown",
   "id": "237593e3",
   "metadata": {
    "papermill": {
     "duration": 0.020133,
     "end_time": "2025-03-18T16:46:25.733472",
     "exception": false,
     "start_time": "2025-03-18T16:46:25.713339",
     "status": "completed"
    },
    "tags": []
   },
   "source": [
    "# CALCULATE RATIOS OF PATIENTS IN TRAINING AND TESTING SET: splits that best fit the expected ratios"
   ]
  },
  {
   "cell_type": "code",
   "execution_count": 10,
   "id": "beb2a4b7",
   "metadata": {
    "execution": {
     "iopub.execute_input": "2025-03-18T16:46:25.755469Z",
     "iopub.status.busy": "2025-03-18T16:46:25.755166Z",
     "iopub.status.idle": "2025-03-18T16:46:25.774396Z",
     "shell.execute_reply": "2025-03-18T16:46:25.773168Z"
    },
    "papermill": {
     "duration": 0.031464,
     "end_time": "2025-03-18T16:46:25.776750",
     "exception": false,
     "start_time": "2025-03-18T16:46:25.745286",
     "status": "completed"
    },
    "tags": []
   },
   "outputs": [
    {
     "data": {
      "text/html": [
       "<div>\n",
       "<style scoped>\n",
       "    .dataframe tbody tr th:only-of-type {\n",
       "        vertical-align: middle;\n",
       "    }\n",
       "\n",
       "    .dataframe tbody tr th {\n",
       "        vertical-align: top;\n",
       "    }\n",
       "\n",
       "    .dataframe thead th {\n",
       "        text-align: right;\n",
       "    }\n",
       "</style>\n",
       "<table border=\"1\" class=\"dataframe\">\n",
       "  <thead>\n",
       "    <tr style=\"text-align: right;\">\n",
       "      <th></th>\n",
       "      <th>val_idx</th>\n",
       "      <th>test_idx</th>\n",
       "      <th>train_min</th>\n",
       "      <th>test_mean</th>\n",
       "      <th>ranking</th>\n",
       "    </tr>\n",
       "  </thead>\n",
       "  <tbody>\n",
       "    <tr>\n",
       "      <th>4</th>\n",
       "      <td>1</td>\n",
       "      <td>2</td>\n",
       "      <td>0.840477</td>\n",
       "      <td>0.463451</td>\n",
       "      <td>0.389520</td>\n",
       "    </tr>\n",
       "    <tr>\n",
       "      <th>11</th>\n",
       "      <td>3</td>\n",
       "      <td>2</td>\n",
       "      <td>0.940371</td>\n",
       "      <td>0.463451</td>\n",
       "      <td>0.435816</td>\n",
       "    </tr>\n",
       "    <tr>\n",
       "      <th>1</th>\n",
       "      <td>0</td>\n",
       "      <td>2</td>\n",
       "      <td>0.990129</td>\n",
       "      <td>0.463451</td>\n",
       "      <td>0.458876</td>\n",
       "    </tr>\n",
       "    <tr>\n",
       "      <th>14</th>\n",
       "      <td>4</td>\n",
       "      <td>2</td>\n",
       "      <td>1.000000</td>\n",
       "      <td>0.463451</td>\n",
       "      <td>0.463451</td>\n",
       "    </tr>\n",
       "    <tr>\n",
       "      <th>0</th>\n",
       "      <td>0</td>\n",
       "      <td>1</td>\n",
       "      <td>0.730913</td>\n",
       "      <td>1.000000</td>\n",
       "      <td>0.730913</td>\n",
       "    </tr>\n",
       "    <tr>\n",
       "      <th>5</th>\n",
       "      <td>1</td>\n",
       "      <td>3</td>\n",
       "      <td>0.840477</td>\n",
       "      <td>0.875408</td>\n",
       "      <td>0.735760</td>\n",
       "    </tr>\n",
       "    <tr>\n",
       "      <th>15</th>\n",
       "      <td>4</td>\n",
       "      <td>3</td>\n",
       "      <td>0.860438</td>\n",
       "      <td>0.875408</td>\n",
       "      <td>0.753235</td>\n",
       "    </tr>\n",
       "    <tr>\n",
       "      <th>6</th>\n",
       "      <td>1</td>\n",
       "      <td>4</td>\n",
       "      <td>0.839228</td>\n",
       "      <td>0.906849</td>\n",
       "      <td>0.761053</td>\n",
       "    </tr>\n",
       "    <tr>\n",
       "      <th>3</th>\n",
       "      <td>0</td>\n",
       "      <td>4</td>\n",
       "      <td>0.848376</td>\n",
       "      <td>0.906849</td>\n",
       "      <td>0.769348</td>\n",
       "    </tr>\n",
       "    <tr>\n",
       "      <th>2</th>\n",
       "      <td>0</td>\n",
       "      <td>3</td>\n",
       "      <td>0.890250</td>\n",
       "      <td>0.875408</td>\n",
       "      <td>0.779332</td>\n",
       "    </tr>\n",
       "    <tr>\n",
       "      <th>12</th>\n",
       "      <td>3</td>\n",
       "      <td>4</td>\n",
       "      <td>0.860438</td>\n",
       "      <td>0.906849</td>\n",
       "      <td>0.780288</td>\n",
       "    </tr>\n",
       "    <tr>\n",
       "      <th>8</th>\n",
       "      <td>2</td>\n",
       "      <td>3</td>\n",
       "      <td>0.940371</td>\n",
       "      <td>0.875408</td>\n",
       "      <td>0.823208</td>\n",
       "    </tr>\n",
       "    <tr>\n",
       "      <th>13</th>\n",
       "      <td>4</td>\n",
       "      <td>1</td>\n",
       "      <td>0.839228</td>\n",
       "      <td>1.000000</td>\n",
       "      <td>0.839228</td>\n",
       "    </tr>\n",
       "    <tr>\n",
       "      <th>7</th>\n",
       "      <td>2</td>\n",
       "      <td>1</td>\n",
       "      <td>0.840477</td>\n",
       "      <td>1.000000</td>\n",
       "      <td>0.840477</td>\n",
       "    </tr>\n",
       "    <tr>\n",
       "      <th>10</th>\n",
       "      <td>3</td>\n",
       "      <td>1</td>\n",
       "      <td>0.840477</td>\n",
       "      <td>1.000000</td>\n",
       "      <td>0.840477</td>\n",
       "    </tr>\n",
       "    <tr>\n",
       "      <th>9</th>\n",
       "      <td>2</td>\n",
       "      <td>4</td>\n",
       "      <td>1.000000</td>\n",
       "      <td>0.906849</td>\n",
       "      <td>0.906849</td>\n",
       "    </tr>\n",
       "  </tbody>\n",
       "</table>\n",
       "</div>"
      ],
      "text/plain": [
       "    val_idx  test_idx  train_min  test_mean   ranking\n",
       "4         1         2   0.840477   0.463451  0.389520\n",
       "11        3         2   0.940371   0.463451  0.435816\n",
       "1         0         2   0.990129   0.463451  0.458876\n",
       "14        4         2   1.000000   0.463451  0.463451\n",
       "0         0         1   0.730913   1.000000  0.730913\n",
       "5         1         3   0.840477   0.875408  0.735760\n",
       "15        4         3   0.860438   0.875408  0.753235\n",
       "6         1         4   0.839228   0.906849  0.761053\n",
       "3         0         4   0.848376   0.906849  0.769348\n",
       "2         0         3   0.890250   0.875408  0.779332\n",
       "12        3         4   0.860438   0.906849  0.780288\n",
       "8         2         3   0.940371   0.875408  0.823208\n",
       "13        4         1   0.839228   1.000000  0.839228\n",
       "7         2         1   0.840477   1.000000  0.840477\n",
       "10        3         1   0.840477   1.000000  0.840477\n",
       "9         2         4   1.000000   0.906849  0.906849"
      ]
     },
     "execution_count": 10,
     "metadata": {},
     "output_type": "execute_result"
    }
   ],
   "source": [
    "split_rankings_df = (pd.DataFrame(min_stats, columns=['val_idx', 'test_idx', 'train_min', 'test_mean'])\n",
    " .assign(train_min = lambda df: df.train_min / df.train_min.max())\n",
    " .assign(test_mean = lambda df: df.test_mean / df.test_mean.max())\n",
    " .assign(ranking = lambda df: df.test_mean * df.train_min)\n",
    " .sort_values('ranking'))\n",
    "split_rankings_df"
   ]
  },
  {
   "cell_type": "code",
   "execution_count": 11,
   "id": "ed756faa",
   "metadata": {
    "execution": {
     "iopub.execute_input": "2025-03-18T16:46:25.801394Z",
     "iopub.status.busy": "2025-03-18T16:46:25.799570Z",
     "iopub.status.idle": "2025-03-18T16:46:25.823391Z",
     "shell.execute_reply": "2025-03-18T16:46:25.822967Z"
    },
    "papermill": {
     "duration": 0.036028,
     "end_time": "2025-03-18T16:46:25.824047",
     "exception": false,
     "start_time": "2025-03-18T16:46:25.788019",
     "status": "completed"
    },
    "tags": []
   },
   "outputs": [],
   "source": [
    "best_split = split_rankings_df.loc[split_rankings_df['ranking'].idxmax()]\n",
    "all_idxs = np.arange(adata.obs.shape[0])\n",
    "val_idxs, test_idxs = left_out_splits[best_split.val_idx.astype(int)], left_out_splits[best_split.test_idx.astype(int)]\n",
    "train_idxs = np.delete(all_idxs, np.union1d(val_idxs, test_idxs))"
   ]
  },
  {
   "cell_type": "markdown",
   "id": "66290b4c",
   "metadata": {
    "papermill": {
     "duration": 0.011234,
     "end_time": "2025-03-18T16:46:25.846389",
     "exception": false,
     "start_time": "2025-03-18T16:46:25.835155",
     "status": "completed"
    },
    "tags": []
   },
   "source": [
    "### CHECK NUMBER OF CELLS PER SPLIT"
   ]
  },
  {
   "cell_type": "code",
   "execution_count": 12,
   "id": "aad990e1",
   "metadata": {
    "execution": {
     "iopub.execute_input": "2025-03-18T16:46:25.860516Z",
     "iopub.status.busy": "2025-03-18T16:46:25.860262Z",
     "iopub.status.idle": "2025-03-18T16:46:26.049668Z",
     "shell.execute_reply": "2025-03-18T16:46:26.049086Z"
    },
    "papermill": {
     "duration": 0.197243,
     "end_time": "2025-03-18T16:46:26.050989",
     "exception": false,
     "start_time": "2025-03-18T16:46:25.853746",
     "status": "completed"
    },
    "tags": []
   },
   "outputs": [],
   "source": [
    "cell_count_df = []\n",
    "cell_count_df.append(adata.obs.iloc[train_idxs].groupby(target_y, observed=False).size().to_frame(name='cell_count').reset_index().assign(split='train'))\n",
    "cell_count_df.append(adata.obs.iloc[val_idxs].groupby(target_y, observed=False).size().to_frame(name='cell_count').reset_index().assign(split='val'))\n",
    "cell_count_df.append(adata.obs.iloc[test_idxs].groupby(target_y, observed=False).size().to_frame(name='cell_count').reset_index().assign(split='test'))\n",
    "cell_count_df = pd.concat(cell_count_df).pivot(index=target_y, columns='split', values='cell_count')\n",
    "cell_plot_data = cell_count_df.div(cell_count_df.sum(axis=1), axis=0).reset_index().melt(id_vars=target_y)\n",
    "\n",
    "pat_count_df = []\n",
    "pat_count_df.append(adata.obs.iloc[train_idxs].groupby(target_y, observed=False).sampleID.nunique().to_frame(name='patient_count').reset_index().assign(split='train'))\n",
    "pat_count_df.append(adata.obs.iloc[val_idxs].groupby(target_y, observed=False).sampleID.nunique().to_frame(name='patient_count').reset_index().assign(split='val'))\n",
    "pat_count_df.append(adata.obs.iloc[test_idxs].groupby(target_y, observed=False).sampleID.nunique().to_frame(name='patient_count').reset_index().assign(split='test'))\n",
    "pd.concat(pat_count_df).pivot(index=target_y, columns='split', values='patient_count')\n",
    "pat_count_df = pd.concat(pat_count_df).pivot(index=target_y, columns='split', values='patient_count')\n",
    "pat_count_df = pat_count_df.div(pat_count_df.sum(axis=1), axis=0)\n",
    "pat_plot_data = pat_count_df.div(pat_count_df.sum(axis=1), axis=0).reset_index().melt(id_vars=target_y)\n",
    "\n",
    "train_pats = set(adata.obs.iloc[train_idxs].sampleID)\n",
    "test_pats = set(adata.obs.iloc[test_idxs].sampleID)\n",
    "val_pats = set(adata.obs.iloc[val_idxs].sampleID)"
   ]
  },
  {
   "cell_type": "code",
   "execution_count": 13,
   "id": "6bee7935",
   "metadata": {
    "execution": {
     "iopub.execute_input": "2025-03-18T16:46:26.066505Z",
     "iopub.status.busy": "2025-03-18T16:46:26.066212Z",
     "iopub.status.idle": "2025-03-18T16:46:26.070025Z",
     "shell.execute_reply": "2025-03-18T16:46:26.069120Z"
    },
    "papermill": {
     "duration": 0.011878,
     "end_time": "2025-03-18T16:46:26.070996",
     "exception": false,
     "start_time": "2025-03-18T16:46:26.059118",
     "status": "completed"
    },
    "tags": []
   },
   "outputs": [],
   "source": [
    "assert val_pats.intersection(test_pats) != {}\n",
    "assert train_pats.intersection(test_pats) != {}\n",
    "assert train_pats.intersection(val_pats) != {}"
   ]
  },
  {
   "cell_type": "markdown",
   "id": "326b1dc4",
   "metadata": {
    "papermill": {
     "duration": 0.00578,
     "end_time": "2025-03-18T16:46:26.083903",
     "exception": false,
     "start_time": "2025-03-18T16:46:26.078123",
     "status": "completed"
    },
    "tags": []
   },
   "source": [
    "### PLOT PATIENT AND CELL DISTRIBUTION ACROSS TRAIN, TEST, AND VALIDATION SETS PER DISEASE\n",
    "### CHECK THAT THEY APPROXIMATE EXPECTATION"
   ]
  },
  {
   "cell_type": "code",
   "execution_count": 14,
   "id": "bca74252",
   "metadata": {
    "execution": {
     "iopub.execute_input": "2025-03-18T16:46:26.101104Z",
     "iopub.status.busy": "2025-03-18T16:46:26.100518Z",
     "iopub.status.idle": "2025-03-18T16:46:28.056738Z",
     "shell.execute_reply": "2025-03-18T16:46:28.056174Z"
    },
    "papermill": {
     "duration": 1.96913,
     "end_time": "2025-03-18T16:46:28.059481",
     "exception": false,
     "start_time": "2025-03-18T16:46:26.090351",
     "status": "completed"
    },
    "tags": []
   },
   "outputs": [
    {
     "data": {
      "image/png": "[encoded data removed]",
      "text/plain": [
       "<Figure size 2000x600 with 2 Axes>"
      ]
     },
     "metadata": {},
     "output_type": "display_data"
    }
   ],
   "source": [
    "_, axs = plt.subplots(1, 2, figsize=(20, 6))\n",
    "sns.barplot(x=target_y, y='value', hue='split', data=cell_plot_data, ax=axs[0])\n",
    "axs[0].set_title('Cell distribution')\n",
    "axs[0].tick_params(axis='x', labelrotation=90)\n",
    "sns.barplot(x=target_y, y='value', hue='split', data=pat_plot_data, ax=axs[1])\n",
    "axs[1].set_title('Patients distribution')\n",
    "axs[1].tick_params(axis='x', labelrotation=90)\n",
    "\n",
    "os.makedirs(here(f\"03_downstream_analysis/08_gene_importance/results/targetY_{target_y}/01_split_plots/\"), exist_ok=True)\n",
    "\n",
    "plt.savefig(here(f'03_downstream_analysis/08_gene_importance/results/targetY_{target_y}/01_split_plots/{RUN_NAME}{CELL_TYPE}_split_quality.pdf'), bbox_inches='tight', dpi=300)"
   ]
  },
  {
   "cell_type": "code",
   "execution_count": 15,
   "id": "270902e1",
   "metadata": {
    "execution": {
     "iopub.execute_input": "2025-03-18T16:46:28.128310Z",
     "iopub.status.busy": "2025-03-18T16:46:28.127997Z",
     "iopub.status.idle": "2025-03-18T16:46:28.208701Z",
     "shell.execute_reply": "2025-03-18T16:46:28.208169Z"
    },
    "papermill": {
     "duration": 0.13377,
     "end_time": "2025-03-18T16:46:28.213828",
     "exception": false,
     "start_time": "2025-03-18T16:46:28.080058",
     "status": "completed"
    },
    "tags": []
   },
   "outputs": [],
   "source": [
    "os.makedirs(here(f\"03_downstream_analysis/08_gene_importance/results/targetY_{target_y}/02_preprocessing/\"), exist_ok=True)\n",
    "\n",
    "np.save(here(f\"03_downstream_analysis/08_gene_importance/results/targetY_{target_y}/02_preprocessing/{RUN_NAME}{CELL_TYPE}_train_idxs.npy\"), train_idxs)\n",
    "np.save(here(f\"03_downstream_analysis/08_gene_importance/results/targetY_{target_y}/02_preprocessing/{RUN_NAME}{CELL_TYPE}_val_idxs.npy\"), val_idxs)\n",
    "np.save(here(f\"03_downstream_analysis/08_gene_importance/results/targetY_{target_y}/02_preprocessing/{RUN_NAME}{CELL_TYPE}_test_idxs.npy\"), test_idxs)"
   ]
  },
  {
   "cell_type": "markdown",
   "id": "88121ff9",
   "metadata": {
    "papermill": {
     "duration": 0.031116,
     "end_time": "2025-03-18T16:46:28.268776",
     "exception": false,
     "start_time": "2025-03-18T16:46:28.237660",
     "status": "completed"
    },
    "tags": []
   },
   "source": [
    "### SUBSET DATASET INTO TRAIN/TEST/VAL SPLITS"
   ]
  },
  {
   "cell_type": "code",
   "execution_count": 16,
   "id": "09138a26",
   "metadata": {
    "execution": {
     "iopub.execute_input": "2025-03-18T16:46:28.376574Z",
     "iopub.status.busy": "2025-03-18T16:46:28.376160Z",
     "iopub.status.idle": "2025-03-18T16:50:49.737165Z",
     "shell.execute_reply": "2025-03-18T16:50:49.736742Z"
    },
    "papermill": {
     "duration": 261.451629,
     "end_time": "2025-03-18T16:50:49.745081",
     "exception": false,
     "start_time": "2025-03-18T16:46:28.293452",
     "status": "completed"
    },
    "tags": []
   },
   "outputs": [
    {
     "data": {
      "text/plain": [
       "((478494, 935), (157535, 935), (156926, 935))"
      ]
     },
     "execution_count": 16,
     "metadata": {},
     "output_type": "execute_result"
    }
   ],
   "source": [
    "X_train = adata.X[train_idxs]\n",
    "X_test = adata.X[test_idxs]\n",
    "X_val = adata.X[val_idxs]\n",
    "X_train.shape, X_test.shape, X_val.shape"
   ]
  },
  {
   "cell_type": "code",
   "execution_count": 17,
   "id": "80cb6593",
   "metadata": {
    "execution": {
     "iopub.execute_input": "2025-03-18T16:50:49.763034Z",
     "iopub.status.busy": "2025-03-18T16:50:49.762563Z",
     "iopub.status.idle": "2025-03-18T16:50:49.860625Z",
     "shell.execute_reply": "2025-03-18T16:50:49.859861Z"
    },
    "papermill": {
     "duration": 0.108446,
     "end_time": "2025-03-18T16:50:49.861679",
     "exception": false,
     "start_time": "2025-03-18T16:50:49.753233",
     "status": "completed"
    },
    "tags": []
   },
   "outputs": [
    {
     "data": {
      "text/plain": [
       "((478494,), (157535,), (156926,))"
      ]
     },
     "execution_count": 17,
     "metadata": {},
     "output_type": "execute_result"
    }
   ],
   "source": [
    "y_train = adata.obs.iloc[train_idxs][target_y].values.astype(str)\n",
    "y_test = adata.obs.iloc[test_idxs][target_y].values.astype(str)\n",
    "y_val = adata.obs.iloc[val_idxs][target_y].values.astype(str)\n",
    "y_train.shape, y_test.shape, y_val.shape "
   ]
  },
  {
   "cell_type": "code",
   "execution_count": 18,
   "id": "b290d55e",
   "metadata": {
    "execution": {
     "iopub.execute_input": "2025-03-18T16:50:49.883950Z",
     "iopub.status.busy": "2025-03-18T16:50:49.883415Z",
     "iopub.status.idle": "2025-03-18T16:50:50.095680Z",
     "shell.execute_reply": "2025-03-18T16:50:50.095165Z"
    },
    "papermill": {
     "duration": 0.225425,
     "end_time": "2025-03-18T16:50:50.096880",
     "exception": false,
     "start_time": "2025-03-18T16:50:49.871455",
     "status": "completed"
    },
    "tags": []
   },
   "outputs": [],
   "source": [
    "lenc = LabelEncoder()\n",
    "y_train_enc = lenc.fit_transform(y_train)\n",
    "y_val_enc = lenc.transform(y_val)\n",
    "y_test_enc = lenc.transform(y_test)"
   ]
  },
  {
   "cell_type": "markdown",
   "id": "0b3ff291",
   "metadata": {
    "papermill": {
     "duration": 0.007692,
     "end_time": "2025-03-18T16:50:50.112892",
     "exception": false,
     "start_time": "2025-03-18T16:50:50.105200",
     "status": "completed"
    },
    "tags": []
   },
   "source": [
    "### GENERATE F1 "
   ]
  },
  {
   "cell_type": "code",
   "execution_count": 19,
   "id": "0726e7cd",
   "metadata": {
    "execution": {
     "iopub.execute_input": "2025-03-18T16:50:50.129859Z",
     "iopub.status.busy": "2025-03-18T16:50:50.129312Z",
     "iopub.status.idle": "2025-03-18T16:50:50.133878Z",
     "shell.execute_reply": "2025-03-18T16:50:50.133033Z"
    },
    "papermill": {
     "duration": 0.014484,
     "end_time": "2025-03-18T16:50:50.134796",
     "exception": false,
     "start_time": "2025-03-18T16:50:50.120312",
     "status": "completed"
    },
    "tags": []
   },
   "outputs": [],
   "source": [
    "def custom_f1_score(y_true, y_pred):\n",
    "    return -f1_score(y_true, y_pred.argmax(1), average='weighted')"
   ]
  },
  {
   "cell_type": "code",
   "execution_count": 20,
   "id": "16d6316a",
   "metadata": {
    "execution": {
     "iopub.execute_input": "2025-03-18T16:50:50.153894Z",
     "iopub.status.busy": "2025-03-18T16:50:50.152824Z",
     "iopub.status.idle": "2025-03-18T16:50:50.162178Z",
     "shell.execute_reply": "2025-03-18T16:50:50.161421Z"
    },
    "papermill": {
     "duration": 0.02046,
     "end_time": "2025-03-18T16:50:50.163410",
     "exception": false,
     "start_time": "2025-03-18T16:50:50.142950",
     "status": "completed"
    },
    "tags": []
   },
   "outputs": [],
   "source": [
    "eval_metric=custom_f1_score\n",
    "eval_metric_name='custom_f1_score'\n",
    "\n",
    "def objective(trial):\n",
    "    params = {\n",
    "        'sampling_method': 'gradient_based',\n",
    "        'n_estimators': 1500,\n",
    "        'max_depth': trial.suggest_int('max_depth', 3, 20),\n",
    "        'min_child_weight': trial.suggest_int('min_child_weight', 1, 250),\n",
    "        'subsample': trial.suggest_float('subsample', 0.1, 1.0),\n",
    "        'colsample_bynode': trial.suggest_float('colsample_bynode', 0.1, 1.0),\n",
    "        'learning_rate': trial.suggest_float('learning_rate', 1e-3, 5e-1, log=True),\n",
    "    }\n",
    "    pruning_callback = optuna.integration.XGBoostPruningCallback(trial, f'validation_0-{eval_metric_name}')\n",
    "    xgb = xgboost.XGBClassifier(\n",
    "        device='gpu',\n",
    "        eval_metric=eval_metric,\n",
    "        early_stopping_rounds=20,\n",
    "        callbacks=[pruning_callback],\n",
    "        **params\n",
    "    )\n",
    "    xgb.fit(\n",
    "        X_train, \n",
    "        y_train_enc, \n",
    "        verbose=0,\n",
    "        eval_set=[(X_val, y_val_enc)],\n",
    "    )\n",
    "    trial.set_user_attr('best_iteration', xgb.best_iteration)\n",
    "\n",
    "    return xgb.best_score"
   ]
  },
  {
   "cell_type": "code",
   "execution_count": 21,
   "id": "9b7301e6",
   "metadata": {
    "execution": {
     "iopub.execute_input": "2025-03-18T16:50:50.186011Z",
     "iopub.status.busy": "2025-03-18T16:50:50.185240Z",
     "iopub.status.idle": "2025-03-18T17:16:49.519731Z",
     "shell.execute_reply": "2025-03-18T17:16:49.519158Z"
    },
    "papermill": {
     "duration": 1559.34774,
     "end_time": "2025-03-18T17:16:49.521735",
     "exception": false,
     "start_time": "2025-03-18T16:50:50.173995",
     "status": "completed"
    },
    "tags": []
   },
   "outputs": [
    {
     "name": "stderr",
     "output_type": "stream",
     "text": [
      "[I 2025-03-18 16:50:50,190] A new study created in memory with name: no-name-197a2eb7-ad43-4f77-b2a0-f0b69a56bec3\n"
     ]
    },
    {
     "name": "stderr",
     "output_type": "stream",
     "text": [
      "/tmp/ipykernel_1709717/350114600.py:4: ExperimentalWarning: WeightsAndBiasesCallback is experimental (supported from v2.9.0). The interface can change in the future.\n",
      "  wandbc = optuna.integration.WeightsAndBiasesCallback(wandb_kwargs=wandb_kwargs)\n",
      "\u001b[34m\u001b[1mwandb\u001b[0m: Using wandb-core as the SDK backend.  Please refer to https://wandb.me/wandb-core for more information.\n"
     ]
    },
    {
     "name": "stderr",
     "output_type": "stream",
     "text": [
      "\u001b[34m\u001b[1mwandb\u001b[0m: Currently logged in as: \u001b[33mdav1989\u001b[0m (\u001b[33minflammation\u001b[0m) to \u001b[32mhttps://api.wandb.ai\u001b[0m. Use \u001b[1m`wandb login --relogin`\u001b[0m to force relogin\n"
     ]
    },
    {
     "name": "stderr",
     "output_type": "stream",
     "text": [
      "\u001b[34m\u001b[1mwandb\u001b[0m: Tracking run with wandb version 0.19.8\n"
     ]
    },
    {
     "name": "stderr",
     "output_type": "stream",
     "text": [
      "\u001b[34m\u001b[1mwandb\u001b[0m: Run data is saved locally in \u001b[35m\u001b[1m/scratch_isilon/groups/singlecell/shared/projects/Inflammation-PBMCs-Atlas/03_downstream_analysis/08_gene_importance/wandb/run-20250318_165054-lesrmmip\u001b[0m\n",
      "\u001b[34m\u001b[1mwandb\u001b[0m: Run \u001b[1m`wandb offline`\u001b[0m to turn off syncing.\n"
     ]
    },
    {
     "name": "stderr",
     "output_type": "stream",
     "text": [
      "\u001b[34m\u001b[1mwandb\u001b[0m: Syncing run \u001b[33mstudyID_T_CD4_Naive\u001b[0m\n"
     ]
    },
    {
     "name": "stderr",
     "output_type": "stream",
     "text": [
      "\u001b[34m\u001b[1mwandb\u001b[0m: ⭐️ View project at \u001b[34m\u001b[4mhttps://wandb.ai/inflammation/xgboost\u001b[0m\n"
     ]
    },
    {
     "name": "stderr",
     "output_type": "stream",
     "text": [
      "\u001b[34m\u001b[1mwandb\u001b[0m: 🚀 View run at \u001b[34m\u001b[4mhttps://wandb.ai/inflammation/xgboost/runs/lesrmmip\u001b[0m\n"
     ]
    },
    {
     "name": "stderr",
     "output_type": "stream",
     "text": [
      "[I 2025-03-18 16:58:25,405] Trial 0 finished with value: -0.975021 and parameters: {'max_depth': 9, 'min_child_weight': 238, 'subsample': 0.7587945476302645, 'colsample_bynode': 0.6387926357773329, 'learning_rate': 0.0026368755339723046}. Best is trial 0 with value: -0.975021.\n"
     ]
    },
    {
     "name": "stderr",
     "output_type": "stream",
     "text": [
      "[I 2025-03-18 16:59:01,754] Trial 1 finished with value: -0.987155 and parameters: {'max_depth': 5, 'min_child_weight': 15, 'subsample': 0.8795585311974417, 'colsample_bynode': 0.6410035105688879, 'learning_rate': 0.08148293210105287}. Best is trial 1 with value: -0.987155.\n"
     ]
    },
    {
     "name": "stderr",
     "output_type": "stream",
     "text": [
      "[I 2025-03-18 16:59:52,427] Trial 2 finished with value: -0.967826 and parameters: {'max_depth': 3, 'min_child_weight': 243, 'subsample': 0.8491983767203796, 'colsample_bynode': 0.29110519961044856, 'learning_rate': 0.003095566460242371}. Best is trial 1 with value: -0.987155.\n"
     ]
    },
    {
     "name": "stderr",
     "output_type": "stream",
     "text": [
      "[I 2025-03-18 17:05:21,821] Trial 3 finished with value: -0.990486 and parameters: {'max_depth': 6, 'min_child_weight': 77, 'subsample': 0.5722807884690141, 'colsample_bynode': 0.48875051677790415, 'learning_rate': 0.006109683510122491}. Best is trial 3 with value: -0.990486.\n"
     ]
    },
    {
     "name": "stderr",
     "output_type": "stream",
     "text": [
      "[I 2025-03-18 17:05:50,106] Trial 4 finished with value: -0.975468 and parameters: {'max_depth': 14, 'min_child_weight': 35, 'subsample': 0.3629301836816964, 'colsample_bynode': 0.4297256589643226, 'learning_rate': 0.01701841881702917}. Best is trial 3 with value: -0.990486.\n"
     ]
    },
    {
     "name": "stderr",
     "output_type": "stream",
     "text": [
      "[I 2025-03-18 17:06:10,398] Trial 5 pruned. Trial was pruned at iteration 24.\n"
     ]
    },
    {
     "name": "stderr",
     "output_type": "stream",
     "text": [
      "[I 2025-03-18 17:06:36,730] Trial 6 finished with value: -0.981884 and parameters: {'max_depth': 13, 'min_child_weight': 43, 'subsample': 0.1585464336867516, 'colsample_bynode': 0.9539969835279999, 'learning_rate': 0.4038423798071558}. Best is trial 3 with value: -0.990486.\n"
     ]
    },
    {
     "name": "stderr",
     "output_type": "stream",
     "text": [
      "[I 2025-03-18 17:06:45,768] Trial 7 pruned. Trial was pruned at iteration 0.\n"
     ]
    },
    {
     "name": "stderr",
     "output_type": "stream",
     "text": [
      "[I 2025-03-18 17:06:54,724] Trial 8 pruned. Trial was pruned at iteration 0.\n"
     ]
    },
    {
     "name": "stderr",
     "output_type": "stream",
     "text": [
      "[I 2025-03-18 17:07:03,869] Trial 9 pruned. Trial was pruned at iteration 0.\n"
     ]
    },
    {
     "name": "stderr",
     "output_type": "stream",
     "text": [
      "[I 2025-03-18 17:07:13,047] Trial 10 pruned. Trial was pruned at iteration 0.\n"
     ]
    },
    {
     "name": "stderr",
     "output_type": "stream",
     "text": [
      "[I 2025-03-18 17:07:22,539] Trial 11 pruned. Trial was pruned at iteration 0.\n"
     ]
    },
    {
     "name": "stderr",
     "output_type": "stream",
     "text": [
      "[I 2025-03-18 17:07:32,129] Trial 12 pruned. Trial was pruned at iteration 0.\n"
     ]
    },
    {
     "name": "stderr",
     "output_type": "stream",
     "text": [
      "[I 2025-03-18 17:08:14,362] Trial 13 finished with value: -0.983857 and parameters: {'max_depth': 7, 'min_child_weight': 2, 'subsample': 0.9946363362670931, 'colsample_bynode': 0.4610357407266027, 'learning_rate': 0.2586083232188041}. Best is trial 3 with value: -0.990486.\n"
     ]
    },
    {
     "name": "stderr",
     "output_type": "stream",
     "text": [
      "[I 2025-03-18 17:08:23,320] Trial 14 pruned. Trial was pruned at iteration 0.\n"
     ]
    },
    {
     "name": "stderr",
     "output_type": "stream",
     "text": [
      "[I 2025-03-18 17:08:32,527] Trial 15 pruned. Trial was pruned at iteration 0.\n"
     ]
    },
    {
     "name": "stderr",
     "output_type": "stream",
     "text": [
      "[I 2025-03-18 17:08:42,787] Trial 16 pruned. Trial was pruned at iteration 1.\n"
     ]
    },
    {
     "name": "stderr",
     "output_type": "stream",
     "text": [
      "[I 2025-03-18 17:08:52,428] Trial 17 pruned. Trial was pruned at iteration 0.\n"
     ]
    },
    {
     "name": "stderr",
     "output_type": "stream",
     "text": [
      "[I 2025-03-18 17:09:01,665] Trial 18 pruned. Trial was pruned at iteration 0.\n"
     ]
    },
    {
     "name": "stderr",
     "output_type": "stream",
     "text": [
      "[I 2025-03-18 17:09:10,564] Trial 19 pruned. Trial was pruned at iteration 0.\n"
     ]
    },
    {
     "name": "stderr",
     "output_type": "stream",
     "text": [
      "[I 2025-03-18 17:09:20,456] Trial 20 pruned. Trial was pruned at iteration 1.\n"
     ]
    },
    {
     "name": "stderr",
     "output_type": "stream",
     "text": [
      "[I 2025-03-18 17:09:29,773] Trial 21 pruned. Trial was pruned at iteration 0.\n"
     ]
    },
    {
     "name": "stderr",
     "output_type": "stream",
     "text": [
      "[I 2025-03-18 17:09:39,240] Trial 22 pruned. Trial was pruned at iteration 0.\n"
     ]
    },
    {
     "name": "stderr",
     "output_type": "stream",
     "text": [
      "[I 2025-03-18 17:10:12,546] Trial 23 finished with value: -0.989515 and parameters: {'max_depth': 7, 'min_child_weight': 24, 'subsample': 0.7611993489916662, 'colsample_bynode': 0.37025094499418987, 'learning_rate': 0.23044282910430605}. Best is trial 3 with value: -0.990486.\n"
     ]
    },
    {
     "name": "stderr",
     "output_type": "stream",
     "text": [
      "[I 2025-03-18 17:10:21,525] Trial 24 pruned. Trial was pruned at iteration 0.\n"
     ]
    },
    {
     "name": "stderr",
     "output_type": "stream",
     "text": [
      "[I 2025-03-18 17:11:48,559] Trial 25 finished with value: -0.994945 and parameters: {'max_depth': 4, 'min_child_weight': 27, 'subsample': 0.6803011068210827, 'colsample_bynode': 0.19425481725682284, 'learning_rate': 0.04254104690774154}. Best is trial 25 with value: -0.994945.\n"
     ]
    },
    {
     "name": "stderr",
     "output_type": "stream",
     "text": [
      "[I 2025-03-18 17:11:57,598] Trial 26 pruned. Trial was pruned at iteration 0.\n"
     ]
    },
    {
     "name": "stderr",
     "output_type": "stream",
     "text": [
      "[I 2025-03-18 17:12:06,801] Trial 27 pruned. Trial was pruned at iteration 0.\n"
     ]
    },
    {
     "name": "stderr",
     "output_type": "stream",
     "text": [
      "[I 2025-03-18 17:12:15,862] Trial 28 pruned. Trial was pruned at iteration 0.\n"
     ]
    },
    {
     "name": "stderr",
     "output_type": "stream",
     "text": [
      "[I 2025-03-18 17:12:24,989] Trial 29 pruned. Trial was pruned at iteration 0.\n"
     ]
    },
    {
     "name": "stderr",
     "output_type": "stream",
     "text": [
      "[I 2025-03-18 17:12:34,330] Trial 30 pruned. Trial was pruned at iteration 0.\n"
     ]
    },
    {
     "name": "stderr",
     "output_type": "stream",
     "text": [
      "[I 2025-03-18 17:12:43,513] Trial 31 pruned. Trial was pruned at iteration 0.\n"
     ]
    },
    {
     "name": "stderr",
     "output_type": "stream",
     "text": [
      "[I 2025-03-18 17:12:53,261] Trial 32 pruned. Trial was pruned at iteration 0.\n"
     ]
    },
    {
     "name": "stderr",
     "output_type": "stream",
     "text": [
      "[I 2025-03-18 17:13:02,834] Trial 33 pruned. Trial was pruned at iteration 0.\n"
     ]
    },
    {
     "name": "stderr",
     "output_type": "stream",
     "text": [
      "[I 2025-03-18 17:13:13,086] Trial 34 pruned. Trial was pruned at iteration 1.\n"
     ]
    },
    {
     "name": "stderr",
     "output_type": "stream",
     "text": [
      "[I 2025-03-18 17:13:22,483] Trial 35 pruned. Trial was pruned at iteration 0.\n"
     ]
    },
    {
     "name": "stderr",
     "output_type": "stream",
     "text": [
      "[I 2025-03-18 17:13:32,247] Trial 36 pruned. Trial was pruned at iteration 0.\n"
     ]
    },
    {
     "name": "stderr",
     "output_type": "stream",
     "text": [
      "[I 2025-03-18 17:13:41,705] Trial 37 pruned. Trial was pruned at iteration 0.\n"
     ]
    },
    {
     "name": "stderr",
     "output_type": "stream",
     "text": [
      "[I 2025-03-18 17:13:51,257] Trial 38 pruned. Trial was pruned at iteration 0.\n"
     ]
    },
    {
     "name": "stderr",
     "output_type": "stream",
     "text": [
      "[I 2025-03-18 17:14:00,409] Trial 39 pruned. Trial was pruned at iteration 0.\n"
     ]
    },
    {
     "name": "stderr",
     "output_type": "stream",
     "text": [
      "[I 2025-03-18 17:14:09,351] Trial 40 pruned. Trial was pruned at iteration 0.\n"
     ]
    },
    {
     "name": "stderr",
     "output_type": "stream",
     "text": [
      "[I 2025-03-18 17:14:18,522] Trial 41 pruned. Trial was pruned at iteration 0.\n"
     ]
    },
    {
     "name": "stderr",
     "output_type": "stream",
     "text": [
      "[I 2025-03-18 17:14:27,792] Trial 42 pruned. Trial was pruned at iteration 0.\n"
     ]
    },
    {
     "name": "stderr",
     "output_type": "stream",
     "text": [
      "[I 2025-03-18 17:15:13,403] Trial 43 finished with value: -0.993847 and parameters: {'max_depth': 6, 'min_child_weight': 10, 'subsample': 0.748821279230953, 'colsample_bynode': 0.5496703593235457, 'learning_rate': 0.1651381289131046}. Best is trial 25 with value: -0.994945.\n"
     ]
    },
    {
     "name": "stderr",
     "output_type": "stream",
     "text": [
      "[I 2025-03-18 17:15:22,284] Trial 44 pruned. Trial was pruned at iteration 0.\n"
     ]
    },
    {
     "name": "stderr",
     "output_type": "stream",
     "text": [
      "[I 2025-03-18 17:15:31,965] Trial 45 pruned. Trial was pruned at iteration 0.\n"
     ]
    },
    {
     "name": "stderr",
     "output_type": "stream",
     "text": [
      "[I 2025-03-18 17:15:41,572] Trial 46 pruned. Trial was pruned at iteration 0.\n"
     ]
    },
    {
     "name": "stderr",
     "output_type": "stream",
     "text": [
      "[I 2025-03-18 17:15:56,366] Trial 47 pruned. Trial was pruned at iteration 13.\n"
     ]
    },
    {
     "name": "stderr",
     "output_type": "stream",
     "text": [
      "[I 2025-03-18 17:16:39,890] Trial 48 finished with value: -0.991784 and parameters: {'max_depth': 10, 'min_child_weight': 41, 'subsample': 0.8376560836443903, 'colsample_bynode': 0.7531253605465777, 'learning_rate': 0.06464760247231187}. Best is trial 25 with value: -0.994945.\n"
     ]
    },
    {
     "name": "stderr",
     "output_type": "stream",
     "text": [
      "[I 2025-03-18 17:16:49,241] Trial 49 pruned. Trial was pruned at iteration 1.\n"
     ]
    }
   ],
   "source": [
    "sampler = optuna.samplers.TPESampler(seed=42)\n",
    "study = optuna.create_study(direction='minimize', sampler=sampler)\n",
    "wandb_kwargs = {\"project\": \"xgboost\", \"name\": f\"{RUN_NAME}{CELL_TYPE}\"}\n",
    "wandbc = optuna.integration.WeightsAndBiasesCallback(wandb_kwargs=wandb_kwargs)\n",
    "study.optimize(objective, n_trials=N_TRIALS, callbacks=[wandbc], gc_after_trial=True)"
   ]
  },
  {
   "cell_type": "code",
   "execution_count": 22,
   "id": "d873ebad",
   "metadata": {
    "execution": {
     "iopub.execute_input": "2025-03-18T17:16:49.553879Z",
     "iopub.status.busy": "2025-03-18T17:16:49.553133Z",
     "iopub.status.idle": "2025-03-18T17:16:49.601010Z",
     "shell.execute_reply": "2025-03-18T17:16:49.600392Z"
    },
    "papermill": {
     "duration": 0.060223,
     "end_time": "2025-03-18T17:16:49.602686",
     "exception": false,
     "start_time": "2025-03-18T17:16:49.542463",
     "status": "completed"
    },
    "tags": []
   },
   "outputs": [
    {
     "data": {
      "text/plain": [
       "['/scratch_isilon/groups/singlecell/shared/projects/Inflammation-PBMCs-Atlas/03_downstream_analysis/08_gene_importance/results/targetY_studyID/03_xgboost/study/studyID_T_CD4_Naive_xgboost.pkl']"
      ]
     },
     "execution_count": 22,
     "metadata": {},
     "output_type": "execute_result"
    }
   ],
   "source": [
    "os.makedirs(here(f\"03_downstream_analysis/08_gene_importance/results/targetY_{target_y}/03_xgboost/study/\"), exist_ok=True)\n",
    "\n",
    "joblib.dump(study, here(f'03_downstream_analysis/08_gene_importance/results/targetY_{target_y}/03_xgboost/study/{RUN_NAME}{CELL_TYPE}_xgboost.pkl'))"
   ]
  },
  {
   "cell_type": "code",
   "execution_count": 23,
   "id": "7d9e4796",
   "metadata": {
    "execution": {
     "iopub.execute_input": "2025-03-18T17:16:49.645470Z",
     "iopub.status.busy": "2025-03-18T17:16:49.645029Z",
     "iopub.status.idle": "2025-03-18T17:16:54.801871Z",
     "shell.execute_reply": "2025-03-18T17:16:54.801367Z"
    },
    "papermill": {
     "duration": 5.169595,
     "end_time": "2025-03-18T17:16:54.804294",
     "exception": false,
     "start_time": "2025-03-18T17:16:49.634699",
     "status": "completed"
    },
    "tags": []
   },
   "outputs": [],
   "source": [
    "os.makedirs(here(f\"03_downstream_analysis/08_gene_importance/results/targetY_{target_y}/03_xgboost/parallel_coordinate/\"), exist_ok=True)\n",
    "\n",
    "fig = optuna.visualization.plot_parallel_coordinate(study)\n",
    "fig.write_image(here(f'03_downstream_analysis/08_gene_importance/results/targetY_{target_y}/03_xgboost/parallel_coordinate/{RUN_NAME}{CELL_TYPE}_pcoord.pdf'))"
   ]
  },
  {
   "cell_type": "code",
   "execution_count": 24,
   "id": "da004417",
   "metadata": {
    "editable": true,
    "execution": {
     "iopub.execute_input": "2025-03-18T17:16:54.847230Z",
     "iopub.status.busy": "2025-03-18T17:16:54.846653Z",
     "iopub.status.idle": "2025-03-18T17:18:51.740952Z",
     "shell.execute_reply": "2025-03-18T17:18:51.740189Z"
    },
    "papermill": {
     "duration": 116.922044,
     "end_time": "2025-03-18T17:18:51.743176",
     "exception": false,
     "start_time": "2025-03-18T17:16:54.821132",
     "status": "completed"
    },
    "scrolled": true,
    "slideshow": {
     "slide_type": ""
    },
    "tags": []
   },
   "outputs": [
    {
     "name": "stdout",
     "output_type": "stream",
     "text": [
      "[0]\tvalidation_0-mlogloss:2.45565\tvalidation_0-custom_f1_score:-0.95594\n"
     ]
    },
    {
     "name": "stdout",
     "output_type": "stream",
     "text": [
      "[1]\tvalidation_0-mlogloss:2.23252\tvalidation_0-custom_f1_score:-0.96766\n"
     ]
    },
    {
     "name": "stdout",
     "output_type": "stream",
     "text": [
      "[2]\tvalidation_0-mlogloss:2.05338\tvalidation_0-custom_f1_score:-0.97203\n"
     ]
    },
    {
     "name": "stdout",
     "output_type": "stream",
     "text": [
      "[3]\tvalidation_0-mlogloss:1.90470\tvalidation_0-custom_f1_score:-0.97460\n"
     ]
    },
    {
     "name": "stdout",
     "output_type": "stream",
     "text": [
      "[4]\tvalidation_0-mlogloss:1.77571\tvalidation_0-custom_f1_score:-0.97846\n"
     ]
    },
    {
     "name": "stdout",
     "output_type": "stream",
     "text": [
      "[5]\tvalidation_0-mlogloss:1.66357\tvalidation_0-custom_f1_score:-0.97872\n"
     ]
    },
    {
     "name": "stdout",
     "output_type": "stream",
     "text": [
      "[6]\tvalidation_0-mlogloss:1.56280\tvalidation_0-custom_f1_score:-0.98120\n"
     ]
    },
    {
     "name": "stdout",
     "output_type": "stream",
     "text": [
      "[7]\tvalidation_0-mlogloss:1.47281\tvalidation_0-custom_f1_score:-0.98366\n"
     ]
    },
    {
     "name": "stdout",
     "output_type": "stream",
     "text": [
      "[8]\tvalidation_0-mlogloss:1.39272\tvalidation_0-custom_f1_score:-0.98363\n"
     ]
    },
    {
     "name": "stdout",
     "output_type": "stream",
     "text": [
      "[9]\tvalidation_0-mlogloss:1.31830\tvalidation_0-custom_f1_score:-0.98251\n"
     ]
    },
    {
     "name": "stdout",
     "output_type": "stream",
     "text": [
      "[10]\tvalidation_0-mlogloss:1.24943\tvalidation_0-custom_f1_score:-0.98573\n"
     ]
    },
    {
     "name": "stdout",
     "output_type": "stream",
     "text": [
      "[11]\tvalidation_0-mlogloss:1.18630\tvalidation_0-custom_f1_score:-0.98567\n"
     ]
    },
    {
     "name": "stdout",
     "output_type": "stream",
     "text": [
      "[12]\tvalidation_0-mlogloss:1.12755\tvalidation_0-custom_f1_score:-0.98747\n"
     ]
    },
    {
     "name": "stdout",
     "output_type": "stream",
     "text": [
      "[13]\tvalidation_0-mlogloss:1.07315\tvalidation_0-custom_f1_score:-0.98972\n"
     ]
    },
    {
     "name": "stdout",
     "output_type": "stream",
     "text": [
      "[14]\tvalidation_0-mlogloss:1.02275\tvalidation_0-custom_f1_score:-0.99000\n"
     ]
    },
    {
     "name": "stdout",
     "output_type": "stream",
     "text": [
      "[15]\tvalidation_0-mlogloss:0.97497\tvalidation_0-custom_f1_score:-0.98979\n"
     ]
    },
    {
     "name": "stdout",
     "output_type": "stream",
     "text": [
      "[16]\tvalidation_0-mlogloss:0.93071\tvalidation_0-custom_f1_score:-0.98962\n"
     ]
    },
    {
     "name": "stdout",
     "output_type": "stream",
     "text": [
      "[17]\tvalidation_0-mlogloss:0.88814\tvalidation_0-custom_f1_score:-0.99027\n"
     ]
    },
    {
     "name": "stdout",
     "output_type": "stream",
     "text": [
      "[18]\tvalidation_0-mlogloss:0.84864\tvalidation_0-custom_f1_score:-0.99025\n"
     ]
    },
    {
     "name": "stdout",
     "output_type": "stream",
     "text": [
      "[19]\tvalidation_0-mlogloss:0.81137\tvalidation_0-custom_f1_score:-0.99047\n"
     ]
    },
    {
     "name": "stdout",
     "output_type": "stream",
     "text": [
      "[20]\tvalidation_0-mlogloss:0.77553\tvalidation_0-custom_f1_score:-0.99097\n"
     ]
    },
    {
     "name": "stdout",
     "output_type": "stream",
     "text": [
      "[21]\tvalidation_0-mlogloss:0.74198\tvalidation_0-custom_f1_score:-0.99160\n"
     ]
    },
    {
     "name": "stdout",
     "output_type": "stream",
     "text": [
      "[22]\tvalidation_0-mlogloss:0.71009\tvalidation_0-custom_f1_score:-0.99182\n"
     ]
    },
    {
     "name": "stdout",
     "output_type": "stream",
     "text": [
      "[23]\tvalidation_0-mlogloss:0.67976\tvalidation_0-custom_f1_score:-0.99189\n"
     ]
    },
    {
     "name": "stdout",
     "output_type": "stream",
     "text": [
      "[24]\tvalidation_0-mlogloss:0.65144\tvalidation_0-custom_f1_score:-0.99163\n"
     ]
    },
    {
     "name": "stdout",
     "output_type": "stream",
     "text": [
      "[25]\tvalidation_0-mlogloss:0.62405\tvalidation_0-custom_f1_score:-0.99198\n"
     ]
    },
    {
     "name": "stdout",
     "output_type": "stream",
     "text": [
      "[26]\tvalidation_0-mlogloss:0.59816\tvalidation_0-custom_f1_score:-0.99211\n"
     ]
    },
    {
     "name": "stdout",
     "output_type": "stream",
     "text": [
      "[27]\tvalidation_0-mlogloss:0.57365\tvalidation_0-custom_f1_score:-0.99215\n"
     ]
    },
    {
     "name": "stdout",
     "output_type": "stream",
     "text": [
      "[28]\tvalidation_0-mlogloss:0.55037\tvalidation_0-custom_f1_score:-0.99249\n"
     ]
    },
    {
     "name": "stdout",
     "output_type": "stream",
     "text": [
      "[29]\tvalidation_0-mlogloss:0.52785\tvalidation_0-custom_f1_score:-0.99234\n"
     ]
    },
    {
     "name": "stdout",
     "output_type": "stream",
     "text": [
      "[30]\tvalidation_0-mlogloss:0.50660\tvalidation_0-custom_f1_score:-0.99237\n"
     ]
    },
    {
     "name": "stdout",
     "output_type": "stream",
     "text": [
      "[31]\tvalidation_0-mlogloss:0.48656\tvalidation_0-custom_f1_score:-0.99218\n"
     ]
    },
    {
     "name": "stdout",
     "output_type": "stream",
     "text": [
      "[32]\tvalidation_0-mlogloss:0.46702\tvalidation_0-custom_f1_score:-0.99268\n"
     ]
    },
    {
     "name": "stdout",
     "output_type": "stream",
     "text": [
      "[33]\tvalidation_0-mlogloss:0.44875\tvalidation_0-custom_f1_score:-0.99248\n"
     ]
    },
    {
     "name": "stdout",
     "output_type": "stream",
     "text": [
      "[34]\tvalidation_0-mlogloss:0.43099\tvalidation_0-custom_f1_score:-0.99237\n"
     ]
    },
    {
     "name": "stdout",
     "output_type": "stream",
     "text": [
      "[35]\tvalidation_0-mlogloss:0.41403\tvalidation_0-custom_f1_score:-0.99238\n"
     ]
    },
    {
     "name": "stdout",
     "output_type": "stream",
     "text": [
      "[36]\tvalidation_0-mlogloss:0.39780\tvalidation_0-custom_f1_score:-0.99230\n"
     ]
    },
    {
     "name": "stdout",
     "output_type": "stream",
     "text": [
      "[37]\tvalidation_0-mlogloss:0.38233\tvalidation_0-custom_f1_score:-0.99236\n"
     ]
    },
    {
     "name": "stdout",
     "output_type": "stream",
     "text": [
      "[38]\tvalidation_0-mlogloss:0.36746\tvalidation_0-custom_f1_score:-0.99243\n"
     ]
    },
    {
     "name": "stdout",
     "output_type": "stream",
     "text": [
      "[39]\tvalidation_0-mlogloss:0.35309\tvalidation_0-custom_f1_score:-0.99260\n"
     ]
    },
    {
     "name": "stdout",
     "output_type": "stream",
     "text": [
      "[40]\tvalidation_0-mlogloss:0.33957\tvalidation_0-custom_f1_score:-0.99277\n"
     ]
    },
    {
     "name": "stdout",
     "output_type": "stream",
     "text": [
      "[41]\tvalidation_0-mlogloss:0.32664\tvalidation_0-custom_f1_score:-0.99279\n"
     ]
    },
    {
     "name": "stdout",
     "output_type": "stream",
     "text": [
      "[42]\tvalidation_0-mlogloss:0.31416\tvalidation_0-custom_f1_score:-0.99312\n"
     ]
    },
    {
     "name": "stdout",
     "output_type": "stream",
     "text": [
      "[43]\tvalidation_0-mlogloss:0.30226\tvalidation_0-custom_f1_score:-0.99286\n"
     ]
    },
    {
     "name": "stdout",
     "output_type": "stream",
     "text": [
      "[44]\tvalidation_0-mlogloss:0.29120\tvalidation_0-custom_f1_score:-0.99280\n"
     ]
    },
    {
     "name": "stdout",
     "output_type": "stream",
     "text": [
      "[45]\tvalidation_0-mlogloss:0.28032\tvalidation_0-custom_f1_score:-0.99296\n"
     ]
    },
    {
     "name": "stdout",
     "output_type": "stream",
     "text": [
      "[46]\tvalidation_0-mlogloss:0.27010\tvalidation_0-custom_f1_score:-0.99272\n"
     ]
    },
    {
     "name": "stdout",
     "output_type": "stream",
     "text": [
      "[47]\tvalidation_0-mlogloss:0.26027\tvalidation_0-custom_f1_score:-0.99254\n"
     ]
    },
    {
     "name": "stdout",
     "output_type": "stream",
     "text": [
      "[48]\tvalidation_0-mlogloss:0.25068\tvalidation_0-custom_f1_score:-0.99242\n"
     ]
    },
    {
     "name": "stdout",
     "output_type": "stream",
     "text": [
      "[49]\tvalidation_0-mlogloss:0.24137\tvalidation_0-custom_f1_score:-0.99241\n"
     ]
    },
    {
     "name": "stdout",
     "output_type": "stream",
     "text": [
      "[50]\tvalidation_0-mlogloss:0.23271\tvalidation_0-custom_f1_score:-0.99226\n"
     ]
    },
    {
     "name": "stdout",
     "output_type": "stream",
     "text": [
      "[51]\tvalidation_0-mlogloss:0.22444\tvalidation_0-custom_f1_score:-0.99222\n"
     ]
    },
    {
     "name": "stdout",
     "output_type": "stream",
     "text": [
      "[52]\tvalidation_0-mlogloss:0.21615\tvalidation_0-custom_f1_score:-0.99242\n"
     ]
    },
    {
     "name": "stdout",
     "output_type": "stream",
     "text": [
      "[53]\tvalidation_0-mlogloss:0.20812\tvalidation_0-custom_f1_score:-0.99270\n"
     ]
    },
    {
     "name": "stdout",
     "output_type": "stream",
     "text": [
      "[54]\tvalidation_0-mlogloss:0.20046\tvalidation_0-custom_f1_score:-0.99271\n"
     ]
    },
    {
     "name": "stdout",
     "output_type": "stream",
     "text": [
      "[55]\tvalidation_0-mlogloss:0.19353\tvalidation_0-custom_f1_score:-0.99253\n"
     ]
    },
    {
     "name": "stdout",
     "output_type": "stream",
     "text": [
      "[56]\tvalidation_0-mlogloss:0.18655\tvalidation_0-custom_f1_score:-0.99260\n"
     ]
    },
    {
     "name": "stdout",
     "output_type": "stream",
     "text": [
      "[57]\tvalidation_0-mlogloss:0.17981\tvalidation_0-custom_f1_score:-0.99267\n"
     ]
    },
    {
     "name": "stdout",
     "output_type": "stream",
     "text": [
      "[58]\tvalidation_0-mlogloss:0.17332\tvalidation_0-custom_f1_score:-0.99287\n"
     ]
    },
    {
     "name": "stdout",
     "output_type": "stream",
     "text": [
      "[59]\tvalidation_0-mlogloss:0.16714\tvalidation_0-custom_f1_score:-0.99310\n"
     ]
    },
    {
     "name": "stdout",
     "output_type": "stream",
     "text": [
      "[60]\tvalidation_0-mlogloss:0.16117\tvalidation_0-custom_f1_score:-0.99315\n"
     ]
    },
    {
     "name": "stdout",
     "output_type": "stream",
     "text": [
      "[61]\tvalidation_0-mlogloss:0.15560\tvalidation_0-custom_f1_score:-0.99309\n"
     ]
    },
    {
     "name": "stdout",
     "output_type": "stream",
     "text": [
      "[62]\tvalidation_0-mlogloss:0.15022\tvalidation_0-custom_f1_score:-0.99318\n"
     ]
    },
    {
     "name": "stdout",
     "output_type": "stream",
     "text": [
      "[63]\tvalidation_0-mlogloss:0.14496\tvalidation_0-custom_f1_score:-0.99318\n"
     ]
    },
    {
     "name": "stdout",
     "output_type": "stream",
     "text": [
      "[64]\tvalidation_0-mlogloss:0.14001\tvalidation_0-custom_f1_score:-0.99311\n"
     ]
    },
    {
     "name": "stdout",
     "output_type": "stream",
     "text": [
      "[65]\tvalidation_0-mlogloss:0.13514\tvalidation_0-custom_f1_score:-0.99314\n"
     ]
    },
    {
     "name": "stdout",
     "output_type": "stream",
     "text": [
      "[66]\tvalidation_0-mlogloss:0.13047\tvalidation_0-custom_f1_score:-0.99320\n"
     ]
    },
    {
     "name": "stdout",
     "output_type": "stream",
     "text": [
      "[67]\tvalidation_0-mlogloss:0.12610\tvalidation_0-custom_f1_score:-0.99320\n"
     ]
    },
    {
     "name": "stdout",
     "output_type": "stream",
     "text": [
      "[68]\tvalidation_0-mlogloss:0.12176\tvalidation_0-custom_f1_score:-0.99336\n"
     ]
    },
    {
     "name": "stdout",
     "output_type": "stream",
     "text": [
      "[69]\tvalidation_0-mlogloss:0.11755\tvalidation_0-custom_f1_score:-0.99356\n"
     ]
    },
    {
     "name": "stdout",
     "output_type": "stream",
     "text": [
      "[70]\tvalidation_0-mlogloss:0.11373\tvalidation_0-custom_f1_score:-0.99353\n"
     ]
    },
    {
     "name": "stdout",
     "output_type": "stream",
     "text": [
      "[71]\tvalidation_0-mlogloss:0.11007\tvalidation_0-custom_f1_score:-0.99357\n"
     ]
    },
    {
     "name": "stdout",
     "output_type": "stream",
     "text": [
      "[72]\tvalidation_0-mlogloss:0.10629\tvalidation_0-custom_f1_score:-0.99368\n"
     ]
    },
    {
     "name": "stdout",
     "output_type": "stream",
     "text": [
      "[73]\tvalidation_0-mlogloss:0.10283\tvalidation_0-custom_f1_score:-0.99368\n"
     ]
    },
    {
     "name": "stdout",
     "output_type": "stream",
     "text": [
      "[74]\tvalidation_0-mlogloss:0.09953\tvalidation_0-custom_f1_score:-0.99376\n"
     ]
    },
    {
     "name": "stdout",
     "output_type": "stream",
     "text": [
      "[75]\tvalidation_0-mlogloss:0.09622\tvalidation_0-custom_f1_score:-0.99376\n"
     ]
    },
    {
     "name": "stdout",
     "output_type": "stream",
     "text": [
      "[76]\tvalidation_0-mlogloss:0.09309\tvalidation_0-custom_f1_score:-0.99381\n"
     ]
    },
    {
     "name": "stdout",
     "output_type": "stream",
     "text": [
      "[77]\tvalidation_0-mlogloss:0.09014\tvalidation_0-custom_f1_score:-0.99382\n"
     ]
    },
    {
     "name": "stdout",
     "output_type": "stream",
     "text": [
      "[78]\tvalidation_0-mlogloss:0.08723\tvalidation_0-custom_f1_score:-0.99391\n"
     ]
    },
    {
     "name": "stdout",
     "output_type": "stream",
     "text": [
      "[79]\tvalidation_0-mlogloss:0.08449\tvalidation_0-custom_f1_score:-0.99391\n"
     ]
    },
    {
     "name": "stdout",
     "output_type": "stream",
     "text": [
      "[80]\tvalidation_0-mlogloss:0.08189\tvalidation_0-custom_f1_score:-0.99399\n"
     ]
    },
    {
     "name": "stdout",
     "output_type": "stream",
     "text": [
      "[81]\tvalidation_0-mlogloss:0.07933\tvalidation_0-custom_f1_score:-0.99408\n"
     ]
    },
    {
     "name": "stdout",
     "output_type": "stream",
     "text": [
      "[82]\tvalidation_0-mlogloss:0.07685\tvalidation_0-custom_f1_score:-0.99411\n"
     ]
    },
    {
     "name": "stdout",
     "output_type": "stream",
     "text": [
      "[83]\tvalidation_0-mlogloss:0.07465\tvalidation_0-custom_f1_score:-0.99405\n"
     ]
    },
    {
     "name": "stdout",
     "output_type": "stream",
     "text": [
      "[84]\tvalidation_0-mlogloss:0.07237\tvalidation_0-custom_f1_score:-0.99405\n"
     ]
    },
    {
     "name": "stdout",
     "output_type": "stream",
     "text": [
      "[85]\tvalidation_0-mlogloss:0.07017\tvalidation_0-custom_f1_score:-0.99416\n"
     ]
    },
    {
     "name": "stdout",
     "output_type": "stream",
     "text": [
      "[86]\tvalidation_0-mlogloss:0.06790\tvalidation_0-custom_f1_score:-0.99426\n"
     ]
    },
    {
     "name": "stdout",
     "output_type": "stream",
     "text": [
      "[87]\tvalidation_0-mlogloss:0.06599\tvalidation_0-custom_f1_score:-0.99424\n"
     ]
    },
    {
     "name": "stdout",
     "output_type": "stream",
     "text": [
      "[88]\tvalidation_0-mlogloss:0.06386\tvalidation_0-custom_f1_score:-0.99429\n"
     ]
    },
    {
     "name": "stdout",
     "output_type": "stream",
     "text": [
      "[89]\tvalidation_0-mlogloss:0.06211\tvalidation_0-custom_f1_score:-0.99437\n"
     ]
    },
    {
     "name": "stdout",
     "output_type": "stream",
     "text": [
      "[90]\tvalidation_0-mlogloss:0.06033\tvalidation_0-custom_f1_score:-0.99430\n"
     ]
    },
    {
     "name": "stdout",
     "output_type": "stream",
     "text": [
      "[91]\tvalidation_0-mlogloss:0.05867\tvalidation_0-custom_f1_score:-0.99427\n"
     ]
    },
    {
     "name": "stdout",
     "output_type": "stream",
     "text": [
      "[92]\tvalidation_0-mlogloss:0.05701\tvalidation_0-custom_f1_score:-0.99434\n"
     ]
    },
    {
     "name": "stdout",
     "output_type": "stream",
     "text": [
      "[93]\tvalidation_0-mlogloss:0.05554\tvalidation_0-custom_f1_score:-0.99428\n"
     ]
    },
    {
     "name": "stdout",
     "output_type": "stream",
     "text": [
      "[94]\tvalidation_0-mlogloss:0.05401\tvalidation_0-custom_f1_score:-0.99427\n"
     ]
    },
    {
     "name": "stdout",
     "output_type": "stream",
     "text": [
      "[95]\tvalidation_0-mlogloss:0.05253\tvalidation_0-custom_f1_score:-0.99431\n"
     ]
    },
    {
     "name": "stdout",
     "output_type": "stream",
     "text": [
      "[96]\tvalidation_0-mlogloss:0.05117\tvalidation_0-custom_f1_score:-0.99430\n"
     ]
    },
    {
     "name": "stdout",
     "output_type": "stream",
     "text": [
      "[97]\tvalidation_0-mlogloss:0.04973\tvalidation_0-custom_f1_score:-0.99434\n"
     ]
    },
    {
     "name": "stdout",
     "output_type": "stream",
     "text": [
      "[98]\tvalidation_0-mlogloss:0.04833\tvalidation_0-custom_f1_score:-0.99436\n"
     ]
    },
    {
     "name": "stdout",
     "output_type": "stream",
     "text": [
      "[99]\tvalidation_0-mlogloss:0.04725\tvalidation_0-custom_f1_score:-0.99430\n"
     ]
    },
    {
     "name": "stdout",
     "output_type": "stream",
     "text": [
      "[100]\tvalidation_0-mlogloss:0.04606\tvalidation_0-custom_f1_score:-0.99427\n"
     ]
    },
    {
     "name": "stdout",
     "output_type": "stream",
     "text": [
      "[101]\tvalidation_0-mlogloss:0.04493\tvalidation_0-custom_f1_score:-0.99434\n"
     ]
    },
    {
     "name": "stdout",
     "output_type": "stream",
     "text": [
      "[102]\tvalidation_0-mlogloss:0.04392\tvalidation_0-custom_f1_score:-0.99431\n"
     ]
    },
    {
     "name": "stdout",
     "output_type": "stream",
     "text": [
      "[103]\tvalidation_0-mlogloss:0.04278\tvalidation_0-custom_f1_score:-0.99434\n"
     ]
    },
    {
     "name": "stdout",
     "output_type": "stream",
     "text": [
      "[104]\tvalidation_0-mlogloss:0.04175\tvalidation_0-custom_f1_score:-0.99435\n"
     ]
    },
    {
     "name": "stdout",
     "output_type": "stream",
     "text": [
      "[105]\tvalidation_0-mlogloss:0.04075\tvalidation_0-custom_f1_score:-0.99434\n"
     ]
    },
    {
     "name": "stdout",
     "output_type": "stream",
     "text": [
      "[106]\tvalidation_0-mlogloss:0.03980\tvalidation_0-custom_f1_score:-0.99436\n"
     ]
    },
    {
     "name": "stdout",
     "output_type": "stream",
     "text": [
      "[107]\tvalidation_0-mlogloss:0.03896\tvalidation_0-custom_f1_score:-0.99431\n"
     ]
    },
    {
     "name": "stdout",
     "output_type": "stream",
     "text": [
      "[108]\tvalidation_0-mlogloss:0.03818\tvalidation_0-custom_f1_score:-0.99421\n"
     ]
    },
    {
     "name": "stdout",
     "output_type": "stream",
     "text": [
      "[109]\tvalidation_0-mlogloss:0.03730\tvalidation_0-custom_f1_score:-0.99417\n"
     ]
    },
    {
     "name": "stdout",
     "output_type": "stream",
     "text": [
      "[110]\tvalidation_0-mlogloss:0.03652\tvalidation_0-custom_f1_score:-0.99419\n"
     ]
    },
    {
     "name": "stdout",
     "output_type": "stream",
     "text": [
      "[111]\tvalidation_0-mlogloss:0.03578\tvalidation_0-custom_f1_score:-0.99414\n"
     ]
    },
    {
     "name": "stdout",
     "output_type": "stream",
     "text": [
      "[112]\tvalidation_0-mlogloss:0.03488\tvalidation_0-custom_f1_score:-0.99421\n"
     ]
    },
    {
     "name": "stdout",
     "output_type": "stream",
     "text": [
      "[113]\tvalidation_0-mlogloss:0.03405\tvalidation_0-custom_f1_score:-0.99422\n"
     ]
    },
    {
     "name": "stdout",
     "output_type": "stream",
     "text": [
      "[114]\tvalidation_0-mlogloss:0.03348\tvalidation_0-custom_f1_score:-0.99413\n"
     ]
    },
    {
     "name": "stdout",
     "output_type": "stream",
     "text": [
      "[115]\tvalidation_0-mlogloss:0.03293\tvalidation_0-custom_f1_score:-0.99405\n"
     ]
    },
    {
     "name": "stdout",
     "output_type": "stream",
     "text": [
      "[116]\tvalidation_0-mlogloss:0.03219\tvalidation_0-custom_f1_score:-0.99411\n"
     ]
    },
    {
     "name": "stdout",
     "output_type": "stream",
     "text": [
      "[117]\tvalidation_0-mlogloss:0.03162\tvalidation_0-custom_f1_score:-0.99403\n"
     ]
    },
    {
     "name": "stdout",
     "output_type": "stream",
     "text": [
      "[118]\tvalidation_0-mlogloss:0.03095\tvalidation_0-custom_f1_score:-0.99404\n"
     ]
    },
    {
     "name": "stdout",
     "output_type": "stream",
     "text": [
      "[119]\tvalidation_0-mlogloss:0.03039\tvalidation_0-custom_f1_score:-0.99406\n"
     ]
    },
    {
     "name": "stdout",
     "output_type": "stream",
     "text": [
      "[120]\tvalidation_0-mlogloss:0.02977\tvalidation_0-custom_f1_score:-0.99409\n"
     ]
    },
    {
     "name": "stdout",
     "output_type": "stream",
     "text": [
      "[121]\tvalidation_0-mlogloss:0.02924\tvalidation_0-custom_f1_score:-0.99404\n"
     ]
    },
    {
     "name": "stdout",
     "output_type": "stream",
     "text": [
      "[122]\tvalidation_0-mlogloss:0.02869\tvalidation_0-custom_f1_score:-0.99403\n"
     ]
    },
    {
     "name": "stdout",
     "output_type": "stream",
     "text": [
      "[123]\tvalidation_0-mlogloss:0.02823\tvalidation_0-custom_f1_score:-0.99399\n"
     ]
    },
    {
     "name": "stdout",
     "output_type": "stream",
     "text": [
      "[124]\tvalidation_0-mlogloss:0.02779\tvalidation_0-custom_f1_score:-0.99394\n"
     ]
    },
    {
     "name": "stdout",
     "output_type": "stream",
     "text": [
      "[125]\tvalidation_0-mlogloss:0.02738\tvalidation_0-custom_f1_score:-0.99393\n"
     ]
    },
    {
     "name": "stdout",
     "output_type": "stream",
     "text": [
      "[126]\tvalidation_0-mlogloss:0.02684\tvalidation_0-custom_f1_score:-0.99399\n"
     ]
    },
    {
     "name": "stdout",
     "output_type": "stream",
     "text": [
      "[127]\tvalidation_0-mlogloss:0.02642\tvalidation_0-custom_f1_score:-0.99401\n"
     ]
    },
    {
     "name": "stdout",
     "output_type": "stream",
     "text": [
      "[128]\tvalidation_0-mlogloss:0.02589\tvalidation_0-custom_f1_score:-0.99403\n"
     ]
    },
    {
     "name": "stdout",
     "output_type": "stream",
     "text": [
      "[129]\tvalidation_0-mlogloss:0.02545\tvalidation_0-custom_f1_score:-0.99403\n"
     ]
    },
    {
     "name": "stdout",
     "output_type": "stream",
     "text": [
      "[130]\tvalidation_0-mlogloss:0.02500\tvalidation_0-custom_f1_score:-0.99405\n"
     ]
    },
    {
     "name": "stdout",
     "output_type": "stream",
     "text": [
      "[131]\tvalidation_0-mlogloss:0.02468\tvalidation_0-custom_f1_score:-0.99403\n"
     ]
    },
    {
     "name": "stdout",
     "output_type": "stream",
     "text": [
      "[132]\tvalidation_0-mlogloss:0.02430\tvalidation_0-custom_f1_score:-0.99400\n"
     ]
    },
    {
     "name": "stdout",
     "output_type": "stream",
     "text": [
      "[133]\tvalidation_0-mlogloss:0.02399\tvalidation_0-custom_f1_score:-0.99401\n"
     ]
    },
    {
     "name": "stdout",
     "output_type": "stream",
     "text": [
      "[134]\tvalidation_0-mlogloss:0.02359\tvalidation_0-custom_f1_score:-0.99402\n"
     ]
    },
    {
     "name": "stdout",
     "output_type": "stream",
     "text": [
      "[135]\tvalidation_0-mlogloss:0.02319\tvalidation_0-custom_f1_score:-0.99404\n"
     ]
    },
    {
     "name": "stdout",
     "output_type": "stream",
     "text": [
      "[136]\tvalidation_0-mlogloss:0.02297\tvalidation_0-custom_f1_score:-0.99401\n"
     ]
    },
    {
     "name": "stdout",
     "output_type": "stream",
     "text": [
      "[137]\tvalidation_0-mlogloss:0.02272\tvalidation_0-custom_f1_score:-0.99399\n"
     ]
    },
    {
     "name": "stdout",
     "output_type": "stream",
     "text": [
      "[138]\tvalidation_0-mlogloss:0.02235\tvalidation_0-custom_f1_score:-0.99404\n"
     ]
    },
    {
     "name": "stdout",
     "output_type": "stream",
     "text": [
      "[139]\tvalidation_0-mlogloss:0.02206\tvalidation_0-custom_f1_score:-0.99400\n"
     ]
    },
    {
     "name": "stdout",
     "output_type": "stream",
     "text": [
      "[140]\tvalidation_0-mlogloss:0.02178\tvalidation_0-custom_f1_score:-0.99402\n"
     ]
    },
    {
     "name": "stdout",
     "output_type": "stream",
     "text": [
      "[141]\tvalidation_0-mlogloss:0.02151\tvalidation_0-custom_f1_score:-0.99406\n"
     ]
    },
    {
     "name": "stdout",
     "output_type": "stream",
     "text": [
      "[142]\tvalidation_0-mlogloss:0.02120\tvalidation_0-custom_f1_score:-0.99412\n"
     ]
    },
    {
     "name": "stdout",
     "output_type": "stream",
     "text": [
      "[143]\tvalidation_0-mlogloss:0.02093\tvalidation_0-custom_f1_score:-0.99413\n"
     ]
    },
    {
     "name": "stdout",
     "output_type": "stream",
     "text": [
      "[144]\tvalidation_0-mlogloss:0.02073\tvalidation_0-custom_f1_score:-0.99407\n"
     ]
    },
    {
     "name": "stdout",
     "output_type": "stream",
     "text": [
      "[145]\tvalidation_0-mlogloss:0.02046\tvalidation_0-custom_f1_score:-0.99407\n"
     ]
    },
    {
     "name": "stdout",
     "output_type": "stream",
     "text": [
      "[146]\tvalidation_0-mlogloss:0.02023\tvalidation_0-custom_f1_score:-0.99408\n"
     ]
    },
    {
     "name": "stdout",
     "output_type": "stream",
     "text": [
      "[147]\tvalidation_0-mlogloss:0.01997\tvalidation_0-custom_f1_score:-0.99412\n"
     ]
    },
    {
     "name": "stdout",
     "output_type": "stream",
     "text": [
      "[148]\tvalidation_0-mlogloss:0.01974\tvalidation_0-custom_f1_score:-0.99412\n"
     ]
    },
    {
     "name": "stdout",
     "output_type": "stream",
     "text": [
      "[149]\tvalidation_0-mlogloss:0.01946\tvalidation_0-custom_f1_score:-0.99413\n"
     ]
    },
    {
     "name": "stdout",
     "output_type": "stream",
     "text": [
      "[150]\tvalidation_0-mlogloss:0.01926\tvalidation_0-custom_f1_score:-0.99412\n"
     ]
    },
    {
     "name": "stdout",
     "output_type": "stream",
     "text": [
      "[151]\tvalidation_0-mlogloss:0.01904\tvalidation_0-custom_f1_score:-0.99414\n"
     ]
    },
    {
     "name": "stdout",
     "output_type": "stream",
     "text": [
      "[152]\tvalidation_0-mlogloss:0.01874\tvalidation_0-custom_f1_score:-0.99422\n"
     ]
    },
    {
     "name": "stdout",
     "output_type": "stream",
     "text": [
      "[153]\tvalidation_0-mlogloss:0.01857\tvalidation_0-custom_f1_score:-0.99421\n"
     ]
    },
    {
     "name": "stdout",
     "output_type": "stream",
     "text": [
      "[154]\tvalidation_0-mlogloss:0.01841\tvalidation_0-custom_f1_score:-0.99417\n"
     ]
    },
    {
     "name": "stdout",
     "output_type": "stream",
     "text": [
      "[155]\tvalidation_0-mlogloss:0.01825\tvalidation_0-custom_f1_score:-0.99422\n"
     ]
    },
    {
     "name": "stdout",
     "output_type": "stream",
     "text": [
      "[156]\tvalidation_0-mlogloss:0.01808\tvalidation_0-custom_f1_score:-0.99422\n"
     ]
    },
    {
     "name": "stdout",
     "output_type": "stream",
     "text": [
      "[157]\tvalidation_0-mlogloss:0.01791\tvalidation_0-custom_f1_score:-0.99426\n"
     ]
    },
    {
     "name": "stdout",
     "output_type": "stream",
     "text": [
      "[158]\tvalidation_0-mlogloss:0.01773\tvalidation_0-custom_f1_score:-0.99428\n"
     ]
    },
    {
     "name": "stdout",
     "output_type": "stream",
     "text": [
      "[159]\tvalidation_0-mlogloss:0.01757\tvalidation_0-custom_f1_score:-0.99432\n"
     ]
    },
    {
     "name": "stdout",
     "output_type": "stream",
     "text": [
      "[160]\tvalidation_0-mlogloss:0.01746\tvalidation_0-custom_f1_score:-0.99436\n"
     ]
    },
    {
     "name": "stdout",
     "output_type": "stream",
     "text": [
      "[161]\tvalidation_0-mlogloss:0.01719\tvalidation_0-custom_f1_score:-0.99444\n"
     ]
    },
    {
     "name": "stdout",
     "output_type": "stream",
     "text": [
      "[162]\tvalidation_0-mlogloss:0.01710\tvalidation_0-custom_f1_score:-0.99442\n"
     ]
    },
    {
     "name": "stdout",
     "output_type": "stream",
     "text": [
      "[163]\tvalidation_0-mlogloss:0.01693\tvalidation_0-custom_f1_score:-0.99442\n"
     ]
    },
    {
     "name": "stdout",
     "output_type": "stream",
     "text": [
      "[164]\tvalidation_0-mlogloss:0.01681\tvalidation_0-custom_f1_score:-0.99444\n"
     ]
    },
    {
     "name": "stdout",
     "output_type": "stream",
     "text": [
      "[165]\tvalidation_0-mlogloss:0.01673\tvalidation_0-custom_f1_score:-0.99442\n"
     ]
    },
    {
     "name": "stdout",
     "output_type": "stream",
     "text": [
      "[166]\tvalidation_0-mlogloss:0.01659\tvalidation_0-custom_f1_score:-0.99446\n"
     ]
    },
    {
     "name": "stdout",
     "output_type": "stream",
     "text": [
      "[167]\tvalidation_0-mlogloss:0.01651\tvalidation_0-custom_f1_score:-0.99444\n"
     ]
    },
    {
     "name": "stdout",
     "output_type": "stream",
     "text": [
      "[168]\tvalidation_0-mlogloss:0.01638\tvalidation_0-custom_f1_score:-0.99446\n"
     ]
    },
    {
     "name": "stdout",
     "output_type": "stream",
     "text": [
      "[169]\tvalidation_0-mlogloss:0.01633\tvalidation_0-custom_f1_score:-0.99446\n"
     ]
    },
    {
     "name": "stdout",
     "output_type": "stream",
     "text": [
      "[170]\tvalidation_0-mlogloss:0.01626\tvalidation_0-custom_f1_score:-0.99444\n"
     ]
    },
    {
     "name": "stdout",
     "output_type": "stream",
     "text": [
      "[171]\tvalidation_0-mlogloss:0.01618\tvalidation_0-custom_f1_score:-0.99444\n"
     ]
    },
    {
     "name": "stdout",
     "output_type": "stream",
     "text": [
      "[172]\tvalidation_0-mlogloss:0.01601\tvalidation_0-custom_f1_score:-0.99449\n"
     ]
    },
    {
     "name": "stdout",
     "output_type": "stream",
     "text": [
      "[173]\tvalidation_0-mlogloss:0.01590\tvalidation_0-custom_f1_score:-0.99447\n"
     ]
    },
    {
     "name": "stdout",
     "output_type": "stream",
     "text": [
      "[174]\tvalidation_0-mlogloss:0.01586\tvalidation_0-custom_f1_score:-0.99443\n"
     ]
    },
    {
     "name": "stdout",
     "output_type": "stream",
     "text": [
      "[175]\tvalidation_0-mlogloss:0.01586\tvalidation_0-custom_f1_score:-0.99439\n"
     ]
    },
    {
     "name": "stdout",
     "output_type": "stream",
     "text": [
      "[176]\tvalidation_0-mlogloss:0.01577\tvalidation_0-custom_f1_score:-0.99437\n"
     ]
    },
    {
     "name": "stdout",
     "output_type": "stream",
     "text": [
      "[177]\tvalidation_0-mlogloss:0.01565\tvalidation_0-custom_f1_score:-0.99442\n"
     ]
    },
    {
     "name": "stdout",
     "output_type": "stream",
     "text": [
      "[178]\tvalidation_0-mlogloss:0.01557\tvalidation_0-custom_f1_score:-0.99441\n"
     ]
    },
    {
     "name": "stdout",
     "output_type": "stream",
     "text": [
      "[179]\tvalidation_0-mlogloss:0.01548\tvalidation_0-custom_f1_score:-0.99443\n"
     ]
    },
    {
     "name": "stdout",
     "output_type": "stream",
     "text": [
      "[180]\tvalidation_0-mlogloss:0.01539\tvalidation_0-custom_f1_score:-0.99445\n"
     ]
    },
    {
     "name": "stdout",
     "output_type": "stream",
     "text": [
      "[181]\tvalidation_0-mlogloss:0.01534\tvalidation_0-custom_f1_score:-0.99445\n"
     ]
    },
    {
     "name": "stdout",
     "output_type": "stream",
     "text": [
      "[182]\tvalidation_0-mlogloss:0.01526\tvalidation_0-custom_f1_score:-0.99445\n"
     ]
    },
    {
     "name": "stdout",
     "output_type": "stream",
     "text": [
      "[183]\tvalidation_0-mlogloss:0.01530\tvalidation_0-custom_f1_score:-0.99438\n"
     ]
    },
    {
     "name": "stdout",
     "output_type": "stream",
     "text": [
      "[184]\tvalidation_0-mlogloss:0.01525\tvalidation_0-custom_f1_score:-0.99437\n"
     ]
    },
    {
     "name": "stdout",
     "output_type": "stream",
     "text": [
      "[185]\tvalidation_0-mlogloss:0.01515\tvalidation_0-custom_f1_score:-0.99439\n"
     ]
    },
    {
     "name": "stdout",
     "output_type": "stream",
     "text": [
      "[186]\tvalidation_0-mlogloss:0.01511\tvalidation_0-custom_f1_score:-0.99437\n"
     ]
    },
    {
     "name": "stdout",
     "output_type": "stream",
     "text": [
      "[187]\tvalidation_0-mlogloss:0.01503\tvalidation_0-custom_f1_score:-0.99439\n"
     ]
    },
    {
     "name": "stdout",
     "output_type": "stream",
     "text": [
      "[188]\tvalidation_0-mlogloss:0.01498\tvalidation_0-custom_f1_score:-0.99439\n"
     ]
    },
    {
     "name": "stdout",
     "output_type": "stream",
     "text": [
      "[189]\tvalidation_0-mlogloss:0.01498\tvalidation_0-custom_f1_score:-0.99438\n"
     ]
    },
    {
     "name": "stdout",
     "output_type": "stream",
     "text": [
      "[190]\tvalidation_0-mlogloss:0.01485\tvalidation_0-custom_f1_score:-0.99441\n"
     ]
    },
    {
     "name": "stdout",
     "output_type": "stream",
     "text": [
      "[191]\tvalidation_0-mlogloss:0.01482\tvalidation_0-custom_f1_score:-0.99438\n"
     ]
    },
    {
     "name": "stdout",
     "output_type": "stream",
     "text": [
      "[192]\tvalidation_0-mlogloss:0.01467\tvalidation_0-custom_f1_score:-0.99445\n"
     ]
    },
    {
     "name": "stdout",
     "output_type": "stream",
     "text": [
      "[193]\tvalidation_0-mlogloss:0.01465\tvalidation_0-custom_f1_score:-0.99445\n"
     ]
    },
    {
     "name": "stdout",
     "output_type": "stream",
     "text": [
      "[194]\tvalidation_0-mlogloss:0.01455\tvalidation_0-custom_f1_score:-0.99448\n"
     ]
    },
    {
     "name": "stdout",
     "output_type": "stream",
     "text": [
      "[195]\tvalidation_0-mlogloss:0.01442\tvalidation_0-custom_f1_score:-0.99453\n"
     ]
    },
    {
     "name": "stdout",
     "output_type": "stream",
     "text": [
      "[196]\tvalidation_0-mlogloss:0.01436\tvalidation_0-custom_f1_score:-0.99457\n"
     ]
    },
    {
     "name": "stdout",
     "output_type": "stream",
     "text": [
      "[197]\tvalidation_0-mlogloss:0.01437\tvalidation_0-custom_f1_score:-0.99455\n"
     ]
    },
    {
     "name": "stdout",
     "output_type": "stream",
     "text": [
      "[198]\tvalidation_0-mlogloss:0.01439\tvalidation_0-custom_f1_score:-0.99456\n"
     ]
    },
    {
     "data": {
      "text/html": [
       "<style>#sk-container-id-1 {\n",
       "  /* Definition of color scheme common for light and dark mode */\n",
       "  --sklearn-color-text: black;\n",
       "  --sklearn-color-line: gray;\n",
       "  /* Definition of color scheme for unfitted estimators */\n",
       "  --sklearn-color-unfitted-level-0: #fff5e6;\n",
       "  --sklearn-color-unfitted-level-1: #f6e4d2;\n",
       "  --sklearn-color-unfitted-level-2: #ffe0b3;\n",
       "  --sklearn-color-unfitted-level-3: chocolate;\n",
       "  /* Definition of color scheme for fitted estimators */\n",
       "  --sklearn-color-fitted-level-0: #f0f8ff;\n",
       "  --sklearn-color-fitted-level-1: #d4ebff;\n",
       "  --sklearn-color-fitted-level-2: #b3dbfd;\n",
       "  --sklearn-color-fitted-level-3: cornflowerblue;\n",
       "\n",
       "  /* Specific color for light theme */\n",
       "  --sklearn-color-text-on-default-background: var(--sg-text-color, var(--theme-code-foreground, var(--jp-content-font-color1, black)));\n",
       "  --sklearn-color-background: var(--sg-background-color, var(--theme-background, var(--jp-layout-color0, white)));\n",
       "  --sklearn-color-border-box: var(--sg-text-color, var(--theme-code-foreground, var(--jp-content-font-color1, black)));\n",
       "  --sklearn-color-icon: #696969;\n",
       "\n",
       "  @media (prefers-color-scheme: dark) {\n",
       "    /* Redefinition of color scheme for dark theme */\n",
       "    --sklearn-color-text-on-default-background: var(--sg-text-color, var(--theme-code-foreground, var(--jp-content-font-color1, white)));\n",
       "    --sklearn-color-background: var(--sg-background-color, var(--theme-background, var(--jp-layout-color0, #111)));\n",
       "    --sklearn-color-border-box: var(--sg-text-color, var(--theme-code-foreground, var(--jp-content-font-color1, white)));\n",
       "    --sklearn-color-icon: #878787;\n",
       "  }\n",
       "}\n",
       "\n",
       "#sk-container-id-1 {\n",
       "  color: var(--sklearn-color-text);\n",
       "}\n",
       "\n",
       "#sk-container-id-1 pre {\n",
       "  padding: 0;\n",
       "}\n",
       "\n",
       "#sk-container-id-1 input.sk-hidden--visually {\n",
       "  border: 0;\n",
       "  clip: rect(1px 1px 1px 1px);\n",
       "  clip: rect(1px, 1px, 1px, 1px);\n",
       "  height: 1px;\n",
       "  margin: -1px;\n",
       "  overflow: hidden;\n",
       "  padding: 0;\n",
       "  position: absolute;\n",
       "  width: 1px;\n",
       "}\n",
       "\n",
       "#sk-container-id-1 div.sk-dashed-wrapped {\n",
       "  border: 1px dashed var(--sklearn-color-line);\n",
       "  margin: 0 0.4em 0.5em 0.4em;\n",
       "  box-sizing: border-box;\n",
       "  padding-bottom: 0.4em;\n",
       "  background-color: var(--sklearn-color-background);\n",
       "}\n",
       "\n",
       "#sk-container-id-1 div.sk-container {\n",
       "  /* jupyter's `normalize.less` sets `[hidden] { display: none; }`\n",
       "     but bootstrap.min.css set `[hidden] { display: none !important; }`\n",
       "     so we also need the `!important` here to be able to override the\n",
       "     default hidden behavior on the sphinx rendered scikit-learn.org.\n",
       "     See: https://github.com/scikit-learn/scikit-learn/issues/21755 */\n",
       "  display: inline-block !important;\n",
       "  position: relative;\n",
       "}\n",
       "\n",
       "#sk-container-id-1 div.sk-text-repr-fallback {\n",
       "  display: none;\n",
       "}\n",
       "\n",
       "div.sk-parallel-item,\n",
       "div.sk-serial,\n",
       "div.sk-item {\n",
       "  /* draw centered vertical line to link estimators */\n",
       "  background-image: linear-gradient(var(--sklearn-color-text-on-default-background), var(--sklearn-color-text-on-default-background));\n",
       "  background-size: 2px 100%;\n",
       "  background-repeat: no-repeat;\n",
       "  background-position: center center;\n",
       "}\n",
       "\n",
       "/* Parallel-specific style estimator block */\n",
       "\n",
       "#sk-container-id-1 div.sk-parallel-item::after {\n",
       "  content: \"\";\n",
       "  width: 100%;\n",
       "  border-bottom: 2px solid var(--sklearn-color-text-on-default-background);\n",
       "  flex-grow: 1;\n",
       "}\n",
       "\n",
       "#sk-container-id-1 div.sk-parallel {\n",
       "  display: flex;\n",
       "  align-items: stretch;\n",
       "  justify-content: center;\n",
       "  background-color: var(--sklearn-color-background);\n",
       "  position: relative;\n",
       "}\n",
       "\n",
       "#sk-container-id-1 div.sk-parallel-item {\n",
       "  display: flex;\n",
       "  flex-direction: column;\n",
       "}\n",
       "\n",
       "#sk-container-id-1 div.sk-parallel-item:first-child::after {\n",
       "  align-self: flex-end;\n",
       "  width: 50%;\n",
       "}\n",
       "\n",
       "#sk-container-id-1 div.sk-parallel-item:last-child::after {\n",
       "  align-self: flex-start;\n",
       "  width: 50%;\n",
       "}\n",
       "\n",
       "#sk-container-id-1 div.sk-parallel-item:only-child::after {\n",
       "  width: 0;\n",
       "}\n",
       "\n",
       "/* Serial-specific style estimator block */\n",
       "\n",
       "#sk-container-id-1 div.sk-serial {\n",
       "  display: flex;\n",
       "  flex-direction: column;\n",
       "  align-items: center;\n",
       "  background-color: var(--sklearn-color-background);\n",
       "  padding-right: 1em;\n",
       "  padding-left: 1em;\n",
       "}\n",
       "\n",
       "\n",
       "/* Toggleable style: style used for estimator/Pipeline/ColumnTransformer box that is\n",
       "clickable and can be expanded/collapsed.\n",
       "- Pipeline and ColumnTransformer use this feature and define the default style\n",
       "- Estimators will overwrite some part of the style using the `sk-estimator` class\n",
       "*/\n",
       "\n",
       "/* Pipeline and ColumnTransformer style (default) */\n",
       "\n",
       "#sk-container-id-1 div.sk-toggleable {\n",
       "  /* Default theme specific background. It is overwritten whether we have a\n",
       "  specific estimator or a Pipeline/ColumnTransformer */\n",
       "  background-color: var(--sklearn-color-background);\n",
       "}\n",
       "\n",
       "/* Toggleable label */\n",
       "#sk-container-id-1 label.sk-toggleable__label {\n",
       "  cursor: pointer;\n",
       "  display: block;\n",
       "  width: 100%;\n",
       "  margin-bottom: 0;\n",
       "  padding: 0.5em;\n",
       "  box-sizing: border-box;\n",
       "  text-align: center;\n",
       "}\n",
       "\n",
       "#sk-container-id-1 label.sk-toggleable__label-arrow:before {\n",
       "  /* Arrow on the left of the label */\n",
       "  content: \"▸\";\n",
       "  float: left;\n",
       "  margin-right: 0.25em;\n",
       "  color: var(--sklearn-color-icon);\n",
       "}\n",
       "\n",
       "#sk-container-id-1 label.sk-toggleable__label-arrow:hover:before {\n",
       "  color: var(--sklearn-color-text);\n",
       "}\n",
       "\n",
       "/* Toggleable content - dropdown */\n",
       "\n",
       "#sk-container-id-1 div.sk-toggleable__content {\n",
       "  max-height: 0;\n",
       "  max-width: 0;\n",
       "  overflow: hidden;\n",
       "  text-align: left;\n",
       "  /* unfitted */\n",
       "  background-color: var(--sklearn-color-unfitted-level-0);\n",
       "}\n",
       "\n",
       "#sk-container-id-1 div.sk-toggleable__content.fitted {\n",
       "  /* fitted */\n",
       "  background-color: var(--sklearn-color-fitted-level-0);\n",
       "}\n",
       "\n",
       "#sk-container-id-1 div.sk-toggleable__content pre {\n",
       "  margin: 0.2em;\n",
       "  border-radius: 0.25em;\n",
       "  color: var(--sklearn-color-text);\n",
       "  /* unfitted */\n",
       "  background-color: var(--sklearn-color-unfitted-level-0);\n",
       "}\n",
       "\n",
       "#sk-container-id-1 div.sk-toggleable__content.fitted pre {\n",
       "  /* unfitted */\n",
       "  background-color: var(--sklearn-color-fitted-level-0);\n",
       "}\n",
       "\n",
       "#sk-container-id-1 input.sk-toggleable__control:checked~div.sk-toggleable__content {\n",
       "  /* Expand drop-down */\n",
       "  max-height: 200px;\n",
       "  max-width: 100%;\n",
       "  overflow: auto;\n",
       "}\n",
       "\n",
       "#sk-container-id-1 input.sk-toggleable__control:checked~label.sk-toggleable__label-arrow:before {\n",
       "  content: \"▾\";\n",
       "}\n",
       "\n",
       "/* Pipeline/ColumnTransformer-specific style */\n",
       "\n",
       "#sk-container-id-1 div.sk-label input.sk-toggleable__control:checked~label.sk-toggleable__label {\n",
       "  color: var(--sklearn-color-text);\n",
       "  background-color: var(--sklearn-color-unfitted-level-2);\n",
       "}\n",
       "\n",
       "#sk-container-id-1 div.sk-label.fitted input.sk-toggleable__control:checked~label.sk-toggleable__label {\n",
       "  background-color: var(--sklearn-color-fitted-level-2);\n",
       "}\n",
       "\n",
       "/* Estimator-specific style */\n",
       "\n",
       "/* Colorize estimator box */\n",
       "#sk-container-id-1 div.sk-estimator input.sk-toggleable__control:checked~label.sk-toggleable__label {\n",
       "  /* unfitted */\n",
       "  background-color: var(--sklearn-color-unfitted-level-2);\n",
       "}\n",
       "\n",
       "#sk-container-id-1 div.sk-estimator.fitted input.sk-toggleable__control:checked~label.sk-toggleable__label {\n",
       "  /* fitted */\n",
       "  background-color: var(--sklearn-color-fitted-level-2);\n",
       "}\n",
       "\n",
       "#sk-container-id-1 div.sk-label label.sk-toggleable__label,\n",
       "#sk-container-id-1 div.sk-label label {\n",
       "  /* The background is the default theme color */\n",
       "  color: var(--sklearn-color-text-on-default-background);\n",
       "}\n",
       "\n",
       "/* On hover, darken the color of the background */\n",
       "#sk-container-id-1 div.sk-label:hover label.sk-toggleable__label {\n",
       "  color: var(--sklearn-color-text);\n",
       "  background-color: var(--sklearn-color-unfitted-level-2);\n",
       "}\n",
       "\n",
       "/* Label box, darken color on hover, fitted */\n",
       "#sk-container-id-1 div.sk-label.fitted:hover label.sk-toggleable__label.fitted {\n",
       "  color: var(--sklearn-color-text);\n",
       "  background-color: var(--sklearn-color-fitted-level-2);\n",
       "}\n",
       "\n",
       "/* Estimator label */\n",
       "\n",
       "#sk-container-id-1 div.sk-label label {\n",
       "  font-family: monospace;\n",
       "  font-weight: bold;\n",
       "  display: inline-block;\n",
       "  line-height: 1.2em;\n",
       "}\n",
       "\n",
       "#sk-container-id-1 div.sk-label-container {\n",
       "  text-align: center;\n",
       "}\n",
       "\n",
       "/* Estimator-specific */\n",
       "#sk-container-id-1 div.sk-estimator {\n",
       "  font-family: monospace;\n",
       "  border: 1px dotted var(--sklearn-color-border-box);\n",
       "  border-radius: 0.25em;\n",
       "  box-sizing: border-box;\n",
       "  margin-bottom: 0.5em;\n",
       "  /* unfitted */\n",
       "  background-color: var(--sklearn-color-unfitted-level-0);\n",
       "}\n",
       "\n",
       "#sk-container-id-1 div.sk-estimator.fitted {\n",
       "  /* fitted */\n",
       "  background-color: var(--sklearn-color-fitted-level-0);\n",
       "}\n",
       "\n",
       "/* on hover */\n",
       "#sk-container-id-1 div.sk-estimator:hover {\n",
       "  /* unfitted */\n",
       "  background-color: var(--sklearn-color-unfitted-level-2);\n",
       "}\n",
       "\n",
       "#sk-container-id-1 div.sk-estimator.fitted:hover {\n",
       "  /* fitted */\n",
       "  background-color: var(--sklearn-color-fitted-level-2);\n",
       "}\n",
       "\n",
       "/* Specification for estimator info (e.g. \"i\" and \"?\") */\n",
       "\n",
       "/* Common style for \"i\" and \"?\" */\n",
       "\n",
       ".sk-estimator-doc-link,\n",
       "a:link.sk-estimator-doc-link,\n",
       "a:visited.sk-estimator-doc-link {\n",
       "  float: right;\n",
       "  font-size: smaller;\n",
       "  line-height: 1em;\n",
       "  font-family: monospace;\n",
       "  background-color: var(--sklearn-color-background);\n",
       "  border-radius: 1em;\n",
       "  height: 1em;\n",
       "  width: 1em;\n",
       "  text-decoration: none !important;\n",
       "  margin-left: 1ex;\n",
       "  /* unfitted */\n",
       "  border: var(--sklearn-color-unfitted-level-1) 1pt solid;\n",
       "  color: var(--sklearn-color-unfitted-level-1);\n",
       "}\n",
       "\n",
       ".sk-estimator-doc-link.fitted,\n",
       "a:link.sk-estimator-doc-link.fitted,\n",
       "a:visited.sk-estimator-doc-link.fitted {\n",
       "  /* fitted */\n",
       "  border: var(--sklearn-color-fitted-level-1) 1pt solid;\n",
       "  color: var(--sklearn-color-fitted-level-1);\n",
       "}\n",
       "\n",
       "/* On hover */\n",
       "div.sk-estimator:hover .sk-estimator-doc-link:hover,\n",
       ".sk-estimator-doc-link:hover,\n",
       "div.sk-label-container:hover .sk-estimator-doc-link:hover,\n",
       ".sk-estimator-doc-link:hover {\n",
       "  /* unfitted */\n",
       "  background-color: var(--sklearn-color-unfitted-level-3);\n",
       "  color: var(--sklearn-color-background);\n",
       "  text-decoration: none;\n",
       "}\n",
       "\n",
       "div.sk-estimator.fitted:hover .sk-estimator-doc-link.fitted:hover,\n",
       ".sk-estimator-doc-link.fitted:hover,\n",
       "div.sk-label-container:hover .sk-estimator-doc-link.fitted:hover,\n",
       ".sk-estimator-doc-link.fitted:hover {\n",
       "  /* fitted */\n",
       "  background-color: var(--sklearn-color-fitted-level-3);\n",
       "  color: var(--sklearn-color-background);\n",
       "  text-decoration: none;\n",
       "}\n",
       "\n",
       "/* Span, style for the box shown on hovering the info icon */\n",
       ".sk-estimator-doc-link span {\n",
       "  display: none;\n",
       "  z-index: 9999;\n",
       "  position: relative;\n",
       "  font-weight: normal;\n",
       "  right: .2ex;\n",
       "  padding: .5ex;\n",
       "  margin: .5ex;\n",
       "  width: min-content;\n",
       "  min-width: 20ex;\n",
       "  max-width: 50ex;\n",
       "  color: var(--sklearn-color-text);\n",
       "  box-shadow: 2pt 2pt 4pt #999;\n",
       "  /* unfitted */\n",
       "  background: var(--sklearn-color-unfitted-level-0);\n",
       "  border: .5pt solid var(--sklearn-color-unfitted-level-3);\n",
       "}\n",
       "\n",
       ".sk-estimator-doc-link.fitted span {\n",
       "  /* fitted */\n",
       "  background: var(--sklearn-color-fitted-level-0);\n",
       "  border: var(--sklearn-color-fitted-level-3);\n",
       "}\n",
       "\n",
       ".sk-estimator-doc-link:hover span {\n",
       "  display: block;\n",
       "}\n",
       "\n",
       "/* \"?\"-specific style due to the `<a>` HTML tag */\n",
       "\n",
       "#sk-container-id-1 a.estimator_doc_link {\n",
       "  float: right;\n",
       "  font-size: 1rem;\n",
       "  line-height: 1em;\n",
       "  font-family: monospace;\n",
       "  background-color: var(--sklearn-color-background);\n",
       "  border-radius: 1rem;\n",
       "  height: 1rem;\n",
       "  width: 1rem;\n",
       "  text-decoration: none;\n",
       "  /* unfitted */\n",
       "  color: var(--sklearn-color-unfitted-level-1);\n",
       "  border: var(--sklearn-color-unfitted-level-1) 1pt solid;\n",
       "}\n",
       "\n",
       "#sk-container-id-1 a.estimator_doc_link.fitted {\n",
       "  /* fitted */\n",
       "  border: var(--sklearn-color-fitted-level-1) 1pt solid;\n",
       "  color: var(--sklearn-color-fitted-level-1);\n",
       "}\n",
       "\n",
       "/* On hover */\n",
       "#sk-container-id-1 a.estimator_doc_link:hover {\n",
       "  /* unfitted */\n",
       "  background-color: var(--sklearn-color-unfitted-level-3);\n",
       "  color: var(--sklearn-color-background);\n",
       "  text-decoration: none;\n",
       "}\n",
       "\n",
       "#sk-container-id-1 a.estimator_doc_link.fitted:hover {\n",
       "  /* fitted */\n",
       "  background-color: var(--sklearn-color-fitted-level-3);\n",
       "}\n",
       "</style><div id=\"sk-container-id-1\" class=\"sk-top-container\"><div class=\"sk-text-repr-fallback\"><pre>XGBClassifier(base_score=None, booster=None, callbacks=None,\n",
       "              colsample_bylevel=None, colsample_bynode=0.19425481725682284,\n",
       "              colsample_bytree=None, device=&#x27;gpu&#x27;, early_stopping_rounds=None,\n",
       "              enable_categorical=False,\n",
       "              eval_metric=&lt;function custom_f1_score at 0x78b0789fa700&gt;,\n",
       "              feature_types=None, gamma=None, grow_policy=None,\n",
       "              importance_type=None, interaction_constraints=None,\n",
       "              learning_rate=0.04254104690774154, max_bin=None,\n",
       "              max_cat_threshold=None, max_cat_to_onehot=None,\n",
       "              max_delta_step=None, max_depth=4, max_leaves=None,\n",
       "              min_child_weight=27, missing=nan, monotone_constraints=None,\n",
       "              multi_strategy=None, n_estimators=199, n_jobs=None,\n",
       "              num_parallel_tree=None, objective=&#x27;multi:softprob&#x27;, ...)</pre><b>In a Jupyter environment, please rerun this cell to show the HTML representation or trust the notebook. <br />On GitHub, the HTML representation is unable to render, please try loading this page with nbviewer.org.</b></div><div class=\"sk-container\" hidden><div class=\"sk-item\"><div class=\"sk-estimator fitted sk-toggleable\"><input class=\"sk-toggleable__control sk-hidden--visually\" id=\"sk-estimator-id-1\" type=\"checkbox\" checked><label for=\"sk-estimator-id-1\" class=\"sk-toggleable__label fitted sk-toggleable__label-arrow fitted\">&nbsp;XGBClassifier<span class=\"sk-estimator-doc-link fitted\">i<span>Fitted</span></span></label><div class=\"sk-toggleable__content fitted\"><pre>XGBClassifier(base_score=None, booster=None, callbacks=None,\n",
       "              colsample_bylevel=None, colsample_bynode=0.19425481725682284,\n",
       "              colsample_bytree=None, device=&#x27;gpu&#x27;, early_stopping_rounds=None,\n",
       "              enable_categorical=False,\n",
       "              eval_metric=&lt;function custom_f1_score at 0x78b0789fa700&gt;,\n",
       "              feature_types=None, gamma=None, grow_policy=None,\n",
       "              importance_type=None, interaction_constraints=None,\n",
       "              learning_rate=0.04254104690774154, max_bin=None,\n",
       "              max_cat_threshold=None, max_cat_to_onehot=None,\n",
       "              max_delta_step=None, max_depth=4, max_leaves=None,\n",
       "              min_child_weight=27, missing=nan, monotone_constraints=None,\n",
       "              multi_strategy=None, n_estimators=199, n_jobs=None,\n",
       "              num_parallel_tree=None, objective=&#x27;multi:softprob&#x27;, ...)</pre></div> </div></div></div></div>"
      ],
      "text/plain": [
       "XGBClassifier(base_score=None, booster=None, callbacks=None,\n",
       "              colsample_bylevel=None, colsample_bynode=0.19425481725682284,\n",
       "              colsample_bytree=None, device='gpu', early_stopping_rounds=None,\n",
       "              enable_categorical=False,\n",
       "              eval_metric=<function custom_f1_score at 0x78b0789fa700>,\n",
       "              feature_types=None, gamma=None, grow_policy=None,\n",
       "              importance_type=None, interaction_constraints=None,\n",
       "              learning_rate=0.04254104690774154, max_bin=None,\n",
       "              max_cat_threshold=None, max_cat_to_onehot=None,\n",
       "              max_delta_step=None, max_depth=4, max_leaves=None,\n",
       "              min_child_weight=27, missing=nan, monotone_constraints=None,\n",
       "              multi_strategy=None, n_estimators=199, n_jobs=None,\n",
       "              num_parallel_tree=None, objective='multi:softprob', ...)"
      ]
     },
     "execution_count": 24,
     "metadata": {},
     "output_type": "execute_result"
    }
   ],
   "source": [
    "n_estimators = int(study.best_trial.user_attrs['best_iteration']*1.2)\n",
    "xgb = xgboost.XGBClassifier(\n",
    "        device='gpu',\n",
    "        eval_metric=eval_metric,\n",
    "        n_estimators=n_estimators,\n",
    "        **study.best_trial.params\n",
    "    )\n",
    "xgb.fit(\n",
    "    ssp.vstack((X_train, X_val)), \n",
    "    np.concatenate((y_train_enc, y_val_enc)), \n",
    "    eval_set=[(X_test, y_test_enc)],\n",
    "    verbose=1,\n",
    ")"
   ]
  },
  {
   "cell_type": "code",
   "execution_count": 25,
   "id": "fb3b781c",
   "metadata": {
    "editable": true,
    "execution": {
     "iopub.execute_input": "2025-03-18T17:18:51.791000Z",
     "iopub.status.busy": "2025-03-18T17:18:51.790546Z",
     "iopub.status.idle": "2025-03-18T17:18:51.851593Z",
     "shell.execute_reply": "2025-03-18T17:18:51.850885Z"
    },
    "papermill": {
     "duration": 0.079536,
     "end_time": "2025-03-18T17:18:51.852803",
     "exception": false,
     "start_time": "2025-03-18T17:18:51.773267",
     "status": "completed"
    },
    "slideshow": {
     "slide_type": ""
    },
    "tags": []
   },
   "outputs": [
    {
     "data": {
      "text/plain": [
       "['/scratch_isilon/groups/singlecell/shared/projects/Inflammation-PBMCs-Atlas/03_downstream_analysis/08_gene_importance/results/targetY_studyID/03_xgboost/best_model/studyID_T_CD4_Naive_xgb.json']"
      ]
     },
     "execution_count": 25,
     "metadata": {},
     "output_type": "execute_result"
    }
   ],
   "source": [
    "os.makedirs(here(f\"03_downstream_analysis/08_gene_importance/results/targetY_{target_y}/03_xgboost/best_model/\"), exist_ok=True)\n",
    "\n",
    "joblib.dump(xgb, (here(f'03_downstream_analysis/08_gene_importance/results/targetY_{target_y}/03_xgboost/best_model/{RUN_NAME}{CELL_TYPE}_xgb.json')))"
   ]
  },
  {
   "cell_type": "code",
   "execution_count": 26,
   "id": "f537e268",
   "metadata": {
    "execution": {
     "iopub.execute_input": "2025-03-18T17:18:51.896625Z",
     "iopub.status.busy": "2025-03-18T17:18:51.896164Z",
     "iopub.status.idle": "2025-03-18T17:18:58.830330Z",
     "shell.execute_reply": "2025-03-18T17:18:58.829525Z"
    },
    "papermill": {
     "duration": 6.953324,
     "end_time": "2025-03-18T17:18:58.831732",
     "exception": false,
     "start_time": "2025-03-18T17:18:51.878408",
     "status": "completed"
    },
    "tags": []
   },
   "outputs": [
    {
     "name": "stderr",
     "output_type": "stream",
     "text": [
      "/scratch_isilon/groups/singlecell/shared/conda_env/xgboostGPU/lib/python3.12/site-packages/xgboost/core.py:160: UserWarning:\n",
      "\n",
      "[17:18:51] WARNING: /home/conda/feedstock_root/build_artifacts/xgboost-split_1703076482591/work/src/common/error_msg.cc:58: Falling back to prediction using DMatrix due to mismatched devices. This might lead to higher memory usage and slower performance. XGBoost is running on: cuda:0, while the input data is on: cpu.\n",
      "Potential solutions:\n",
      "- Use a data structure that matches the device ordinal in the booster.\n",
      "- Set the device for booster before call to inplace_predict.\n",
      "\n",
      "This warning will only be shown once.\n",
      "\n",
      "\n"
     ]
    }
   ],
   "source": [
    "os.makedirs(here(f\"03_downstream_analysis/08_gene_importance/results/targetY_{target_y}/03_xgboost/predictions/\"), exist_ok=True)\n",
    "\n",
    "(pd.DataFrame(np.array((y_test, y_test_enc, xgb.predict(X_test))).T, columns=['y_true', 'y_true_code', 'y_pred'])\n",
    " .to_csv(here(f'03_downstream_analysis/08_gene_importance/results/targetY_{target_y}/03_xgboost/predictions/{RUN_NAME}{CELL_TYPE}_pred_test.zip')))\n",
    "(pd.DataFrame(np.array((y_train, y_train_enc, xgb.predict(X_train))).T, columns=['y_true', 'y_true_code', 'y_pred'])\n",
    " .to_csv(here(f'03_downstream_analysis/08_gene_importance/results/targetY_{target_y}/03_xgboost/predictions/{RUN_NAME}{CELL_TYPE}_pred_train.zip')))"
   ]
  },
  {
   "cell_type": "code",
   "execution_count": null,
   "id": "e3a557d9",
   "metadata": {
    "papermill": {
     "duration": 0.023889,
     "end_time": "2025-03-18T17:18:58.881672",
     "exception": false,
     "start_time": "2025-03-18T17:18:58.857783",
     "status": "completed"
    },
    "tags": []
   },
   "outputs": [],
   "source": []
  }
 ],
 "metadata": {
  "kernelspec": {
   "display_name": "Python 3 (ipykernel)",
   "language": "python",
   "name": "python3"
  },
  "language_info": {
   "codemirror_mode": {
    "name": "ipython",
    "version": 3
   },
   "file_extension": ".py",
   "mimetype": "text/x-python",
   "name": "python",
   "nbconvert_exporter": "python",
   "pygments_lexer": "ipython3",
   "version": "3.12.9"
  },
  "papermill": {
   "default_parameters": {},
   "duration": 1978.729309,
   "end_time": "2025-03-18T17:19:02.129592",
   "environment_variables": {},
   "exception": null,
   "input_path": "02_studyID_xgboost_fitting.ipynb",
   "output_path": "executed_notebooks/02_studyID_xgboost_fitting_T_CD4_Naive.ipynb",
   "parameters": {
    "CELL_TYPE": "T_CD4_Naive"
   },
   "start_time": "2025-03-18T16:46:03.400283",
   "version": "2.6.0"
  }
 },
 "nbformat": 4,
 "nbformat_minor": 5
}