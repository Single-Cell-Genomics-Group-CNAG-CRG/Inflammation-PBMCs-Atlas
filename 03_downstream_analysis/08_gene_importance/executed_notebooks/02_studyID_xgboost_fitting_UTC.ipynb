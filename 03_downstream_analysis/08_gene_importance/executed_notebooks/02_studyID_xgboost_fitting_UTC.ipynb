{
 "cells": [
  {
   "cell_type": "code",
   "execution_count": 1,
   "id": "4202164a",
   "metadata": {
    "editable": true,
    "execution": {
     "iopub.execute_input": "2025-03-17T18:03:47.072450Z",
     "iopub.status.busy": "2025-03-17T18:03:47.071647Z",
     "iopub.status.idle": "2025-03-17T18:03:47.077712Z",
     "shell.execute_reply": "2025-03-17T18:03:47.076805Z"
    },
    "papermill": {
     "duration": 0.0232,
     "end_time": "2025-03-17T18:03:47.079266",
     "exception": false,
     "start_time": "2025-03-17T18:03:47.056066",
     "status": "completed"
    },
    "slideshow": {
     "slide_type": ""
    },
    "tags": [
     "parameters"
    ]
   },
   "outputs": [],
   "source": [
    "CELL_TYPE = 'DC'\n",
    "N_SPLITS: int = 5\n",
    "N_TRIALS: int = 50\n",
    "RUN_NAME: str = \"studyID\""
   ]
  },
  {
   "cell_type": "code",
   "execution_count": 2,
   "id": "4a5477fc",
   "metadata": {
    "execution": {
     "iopub.execute_input": "2025-03-17T18:03:47.096699Z",
     "iopub.status.busy": "2025-03-17T18:03:47.095926Z",
     "iopub.status.idle": "2025-03-17T18:03:47.100596Z",
     "shell.execute_reply": "2025-03-17T18:03:47.099664Z"
    },
    "papermill": {
     "duration": 0.015708,
     "end_time": "2025-03-17T18:03:47.103693",
     "exception": false,
     "start_time": "2025-03-17T18:03:47.087985",
     "status": "completed"
    },
    "tags": [
     "injected-parameters"
    ]
   },
   "outputs": [],
   "source": [
    "# Parameters\n",
    "CELL_TYPE = \"UTC\"\n"
   ]
  },
  {
   "cell_type": "code",
   "execution_count": 3,
   "id": "c9247c51",
   "metadata": {
    "editable": true,
    "execution": {
     "iopub.execute_input": "2025-03-17T18:03:47.155515Z",
     "iopub.status.busy": "2025-03-17T18:03:47.155299Z",
     "iopub.status.idle": "2025-03-17T18:03:47.157697Z",
     "shell.execute_reply": "2025-03-17T18:03:47.157290Z"
    },
    "papermill": {
     "duration": 0.034588,
     "end_time": "2025-03-17T18:03:47.158462",
     "exception": false,
     "start_time": "2025-03-17T18:03:47.123874",
     "status": "completed"
    },
    "slideshow": {
     "slide_type": ""
    },
    "tags": []
   },
   "outputs": [],
   "source": [
    "if RUN_NAME != \"\":\n",
    "    RUN_NAME = RUN_NAME + \"_\""
   ]
  },
  {
   "cell_type": "code",
   "execution_count": 4,
   "id": "4252e42f",
   "metadata": {
    "editable": true,
    "execution": {
     "iopub.execute_input": "2025-03-17T18:03:47.190359Z",
     "iopub.status.busy": "2025-03-17T18:03:47.190005Z",
     "iopub.status.idle": "2025-03-17T18:03:49.054759Z",
     "shell.execute_reply": "2025-03-17T18:03:49.053933Z"
    },
    "papermill": {
     "duration": 1.882026,
     "end_time": "2025-03-17T18:03:49.057345",
     "exception": false,
     "start_time": "2025-03-17T18:03:47.175319",
     "status": "completed"
    },
    "slideshow": {
     "slide_type": ""
    },
    "tags": []
   },
   "outputs": [],
   "source": [
    "import os\n",
    "import sys\n",
    "#from pyprojroot.here import here\n",
    "\n",
    "import pandas as pd\n",
    "import anndata as ad\n",
    "import numpy as np\n",
    "import math\n",
    "from sklearn.model_selection import StratifiedGroupKFold\n",
    "from sklearn.preprocessing import LabelEncoder\n",
    "from sklearn.metrics import f1_score\n",
    "import matplotlib.pyplot as plt\n",
    "import seaborn as sns\n",
    "from itertools import product\n",
    "\n",
    "import optuna\n",
    "\n",
    "import joblib\n",
    "import pickle\n",
    "import datetime\n",
    "\n",
    "import collections\n",
    "\n",
    "import xgboost\n",
    "from sklearn.preprocessing import LabelEncoder\n",
    "\n",
    "import scipy.sparse as ssp\n",
    "import joblib\n",
    "\n",
    "from pyprojroot import here\n",
    "\n",
    "from dotenv import load_dotenv"
   ]
  },
  {
   "cell_type": "code",
   "execution_count": 5,
   "id": "66633afd",
   "metadata": {
    "execution": {
     "iopub.execute_input": "2025-03-17T18:03:49.084526Z",
     "iopub.status.busy": "2025-03-17T18:03:49.083328Z",
     "iopub.status.idle": "2025-03-17T18:03:49.091199Z",
     "shell.execute_reply": "2025-03-17T18:03:49.090232Z"
    },
    "papermill": {
     "duration": 0.020886,
     "end_time": "2025-03-17T18:03:49.093000",
     "exception": false,
     "start_time": "2025-03-17T18:03:49.072114",
     "status": "completed"
    },
    "tags": []
   },
   "outputs": [],
   "source": [
    "assert load_dotenv()"
   ]
  },
  {
   "cell_type": "markdown",
   "id": "70b3c647",
   "metadata": {
    "execution": {
     "iopub.execute_input": "2025-03-17T14:39:30.205388Z",
     "iopub.status.busy": "2025-03-17T14:39:30.204197Z",
     "iopub.status.idle": "2025-03-17T14:39:30.210586Z",
     "shell.execute_reply": "2025-03-17T14:39:30.209317Z",
     "shell.execute_reply.started": "2025-03-17T14:39:30.205342Z"
    },
    "papermill": {
     "duration": 0.009258,
     "end_time": "2025-03-17T18:03:49.113795",
     "exception": false,
     "start_time": "2025-03-17T18:03:49.104537",
     "status": "completed"
    },
    "tags": []
   },
   "source": [
    "def here(fpath):\n",
    "    return os.path.join(BUCKET_DIRPATH, fpath)"
   ]
  },
  {
   "cell_type": "code",
   "execution_count": 6,
   "id": "e808519a",
   "metadata": {
    "execution": {
     "iopub.execute_input": "2025-03-17T18:03:49.129805Z",
     "iopub.status.busy": "2025-03-17T18:03:49.129611Z",
     "iopub.status.idle": "2025-03-17T18:03:49.133102Z",
     "shell.execute_reply": "2025-03-17T18:03:49.132443Z"
    },
    "papermill": {
     "duration": 0.014461,
     "end_time": "2025-03-17T18:03:49.134341",
     "exception": false,
     "start_time": "2025-03-17T18:03:49.119880",
     "status": "completed"
    },
    "tags": []
   },
   "outputs": [],
   "source": [
    "target_y = 'studyID'"
   ]
  },
  {
   "cell_type": "markdown",
   "id": "912fb251",
   "metadata": {
    "papermill": {
     "duration": 0.00721,
     "end_time": "2025-03-17T18:03:49.152747",
     "exception": false,
     "start_time": "2025-03-17T18:03:49.145537",
     "status": "completed"
    },
    "tags": []
   },
   "source": [
    "# LOAD DATASET"
   ]
  },
  {
   "cell_type": "code",
   "execution_count": 7,
   "id": "ad0e00e8",
   "metadata": {
    "execution": {
     "iopub.execute_input": "2025-03-17T18:03:49.170861Z",
     "iopub.status.busy": "2025-03-17T18:03:49.170002Z",
     "iopub.status.idle": "2025-03-17T18:03:50.515122Z",
     "shell.execute_reply": "2025-03-17T18:03:50.514227Z"
    },
    "papermill": {
     "duration": 1.356762,
     "end_time": "2025-03-17T18:03:50.516514",
     "exception": false,
     "start_time": "2025-03-17T18:03:49.159752",
     "status": "completed"
    },
    "tags": []
   },
   "outputs": [],
   "source": [
    "adata = ad.read_h5ad(\n",
    "    str(here(f'03_downstream_analysis/08_gene_importance/data/{CELL_TYPE}_adataMerged_SPECTRAgenes.log1p.h5ad')),\n",
    "    backed='r',\n",
    "    chunk_size=25000\n",
    ")"
   ]
  },
  {
   "cell_type": "code",
   "execution_count": 8,
   "id": "31e40340",
   "metadata": {
    "execution": {
     "iopub.execute_input": "2025-03-17T18:03:50.530548Z",
     "iopub.status.busy": "2025-03-17T18:03:50.530344Z",
     "iopub.status.idle": "2025-03-17T18:03:50.547119Z",
     "shell.execute_reply": "2025-03-17T18:03:50.546500Z"
    },
    "papermill": {
     "duration": 0.025134,
     "end_time": "2025-03-17T18:03:50.547929",
     "exception": false,
     "start_time": "2025-03-17T18:03:50.522795",
     "status": "completed"
    },
    "tags": []
   },
   "outputs": [
    {
     "data": {
      "text/html": [
       "<div>\n",
       "<style scoped>\n",
       "    .dataframe tbody tr th:only-of-type {\n",
       "        vertical-align: middle;\n",
       "    }\n",
       "\n",
       "    .dataframe tbody tr th {\n",
       "        vertical-align: top;\n",
       "    }\n",
       "\n",
       "    .dataframe thead th {\n",
       "        text-align: right;\n",
       "    }\n",
       "</style>\n",
       "<table border=\"1\" class=\"dataframe\">\n",
       "  <thead>\n",
       "    <tr style=\"text-align: right;\">\n",
       "      <th></th>\n",
       "      <th>studyID</th>\n",
       "      <th>libraryID</th>\n",
       "      <th>sampleID</th>\n",
       "      <th>chemistry</th>\n",
       "      <th>disease</th>\n",
       "      <th>sex</th>\n",
       "      <th>binned_age</th>\n",
       "      <th>Level1</th>\n",
       "      <th>Level2</th>\n",
       "    </tr>\n",
       "    <tr>\n",
       "      <th>cellID</th>\n",
       "      <th></th>\n",
       "      <th></th>\n",
       "      <th></th>\n",
       "      <th></th>\n",
       "      <th></th>\n",
       "      <th></th>\n",
       "      <th></th>\n",
       "      <th></th>\n",
       "      <th></th>\n",
       "    </tr>\n",
       "  </thead>\n",
       "  <tbody>\n",
       "    <tr>\n",
       "      <th>Cillo2020_L028_HNSCC6_T0_AACTCAGCAGGTGGAT</th>\n",
       "      <td>Cillo2020</td>\n",
       "      <td>Cillo2020_L028</td>\n",
       "      <td>Cillo2020_HNSCC6_T0</td>\n",
       "      <td>3_GEX_V2</td>\n",
       "      <td>HNSCC</td>\n",
       "      <td>male</td>\n",
       "      <td>41-50</td>\n",
       "      <td>UTC</td>\n",
       "      <td>gdT_V2_Vγ9</td>\n",
       "    </tr>\n",
       "    <tr>\n",
       "      <th>Cillo2020_L028_HNSCC6_T0_AACTGGTGTTGTCGCG</th>\n",
       "      <td>Cillo2020</td>\n",
       "      <td>Cillo2020_L028</td>\n",
       "      <td>Cillo2020_HNSCC6_T0</td>\n",
       "      <td>3_GEX_V2</td>\n",
       "      <td>HNSCC</td>\n",
       "      <td>male</td>\n",
       "      <td>41-50</td>\n",
       "      <td>UTC</td>\n",
       "      <td>gdT_V2_Vγ9</td>\n",
       "    </tr>\n",
       "    <tr>\n",
       "      <th>Cillo2020_L028_HNSCC6_T0_ACGATACAGAGAACAG</th>\n",
       "      <td>Cillo2020</td>\n",
       "      <td>Cillo2020_L028</td>\n",
       "      <td>Cillo2020_HNSCC6_T0</td>\n",
       "      <td>3_GEX_V2</td>\n",
       "      <td>HNSCC</td>\n",
       "      <td>male</td>\n",
       "      <td>41-50</td>\n",
       "      <td>UTC</td>\n",
       "      <td>gdT_V1</td>\n",
       "    </tr>\n",
       "    <tr>\n",
       "      <th>Cillo2020_L028_HNSCC6_T0_ACTGATGGTGTTAAGA</th>\n",
       "      <td>Cillo2020</td>\n",
       "      <td>Cillo2020_L028</td>\n",
       "      <td>Cillo2020_HNSCC6_T0</td>\n",
       "      <td>3_GEX_V2</td>\n",
       "      <td>HNSCC</td>\n",
       "      <td>male</td>\n",
       "      <td>41-50</td>\n",
       "      <td>UTC</td>\n",
       "      <td>gdT_V1</td>\n",
       "    </tr>\n",
       "    <tr>\n",
       "      <th>Cillo2020_L028_HNSCC6_T0_AGCGTCGTCTAACCGA</th>\n",
       "      <td>Cillo2020</td>\n",
       "      <td>Cillo2020_L028</td>\n",
       "      <td>Cillo2020_HNSCC6_T0</td>\n",
       "      <td>3_GEX_V2</td>\n",
       "      <td>HNSCC</td>\n",
       "      <td>male</td>\n",
       "      <td>41-50</td>\n",
       "      <td>UTC</td>\n",
       "      <td>gdT_V2_Vγ9</td>\n",
       "    </tr>\n",
       "    <tr>\n",
       "      <th>...</th>\n",
       "      <td>...</td>\n",
       "      <td>...</td>\n",
       "      <td>...</td>\n",
       "      <td>...</td>\n",
       "      <td>...</td>\n",
       "      <td>...</td>\n",
       "      <td>...</td>\n",
       "      <td>...</td>\n",
       "      <td>...</td>\n",
       "    </tr>\n",
       "    <tr>\n",
       "      <th>Terekhova2023_L100_A29_T1_TTGGAACGTAGGCTGA</th>\n",
       "      <td>Terekhova2023</td>\n",
       "      <td>Terekhova2023_L100</td>\n",
       "      <td>Terekhova2023_A29_T1</td>\n",
       "      <td>5_GEX_V2</td>\n",
       "      <td>healthy</td>\n",
       "      <td>male</td>\n",
       "      <td>31-40</td>\n",
       "      <td>UTC</td>\n",
       "      <td>MAIT</td>\n",
       "    </tr>\n",
       "    <tr>\n",
       "      <th>Terekhova2023_L100_A29_T1_TTTATGCCAATAGAGT</th>\n",
       "      <td>Terekhova2023</td>\n",
       "      <td>Terekhova2023_L100</td>\n",
       "      <td>Terekhova2023_A29_T1</td>\n",
       "      <td>5_GEX_V2</td>\n",
       "      <td>healthy</td>\n",
       "      <td>male</td>\n",
       "      <td>31-40</td>\n",
       "      <td>UTC</td>\n",
       "      <td>MAIT</td>\n",
       "    </tr>\n",
       "    <tr>\n",
       "      <th>Terekhova2023_L100_A29_T1_TTTATGCTCGGCGCAT</th>\n",
       "      <td>Terekhova2023</td>\n",
       "      <td>Terekhova2023_L100</td>\n",
       "      <td>Terekhova2023_A29_T1</td>\n",
       "      <td>5_GEX_V2</td>\n",
       "      <td>healthy</td>\n",
       "      <td>male</td>\n",
       "      <td>31-40</td>\n",
       "      <td>UTC</td>\n",
       "      <td>gdT_V2_Vγ9</td>\n",
       "    </tr>\n",
       "    <tr>\n",
       "      <th>Terekhova2023_L100_A29_T1_TTTGCGCCACAGAGGT</th>\n",
       "      <td>Terekhova2023</td>\n",
       "      <td>Terekhova2023_L100</td>\n",
       "      <td>Terekhova2023_A29_T1</td>\n",
       "      <td>5_GEX_V2</td>\n",
       "      <td>healthy</td>\n",
       "      <td>male</td>\n",
       "      <td>31-40</td>\n",
       "      <td>UTC</td>\n",
       "      <td>MAIT</td>\n",
       "    </tr>\n",
       "    <tr>\n",
       "      <th>Terekhova2023_L100_A29_T1_TTTGCGCGTATCTGCA</th>\n",
       "      <td>Terekhova2023</td>\n",
       "      <td>Terekhova2023_L100</td>\n",
       "      <td>Terekhova2023_A29_T1</td>\n",
       "      <td>5_GEX_V2</td>\n",
       "      <td>healthy</td>\n",
       "      <td>male</td>\n",
       "      <td>31-40</td>\n",
       "      <td>UTC</td>\n",
       "      <td>MAIT</td>\n",
       "    </tr>\n",
       "  </tbody>\n",
       "</table>\n",
       "<p>115097 rows × 9 columns</p>\n",
       "</div>"
      ],
      "text/plain": [
       "                                                  studyID           libraryID  \\\n",
       "cellID                                                                          \n",
       "Cillo2020_L028_HNSCC6_T0_AACTCAGCAGGTGGAT       Cillo2020      Cillo2020_L028   \n",
       "Cillo2020_L028_HNSCC6_T0_AACTGGTGTTGTCGCG       Cillo2020      Cillo2020_L028   \n",
       "Cillo2020_L028_HNSCC6_T0_ACGATACAGAGAACAG       Cillo2020      Cillo2020_L028   \n",
       "Cillo2020_L028_HNSCC6_T0_ACTGATGGTGTTAAGA       Cillo2020      Cillo2020_L028   \n",
       "Cillo2020_L028_HNSCC6_T0_AGCGTCGTCTAACCGA       Cillo2020      Cillo2020_L028   \n",
       "...                                                   ...                 ...   \n",
       "Terekhova2023_L100_A29_T1_TTGGAACGTAGGCTGA  Terekhova2023  Terekhova2023_L100   \n",
       "Terekhova2023_L100_A29_T1_TTTATGCCAATAGAGT  Terekhova2023  Terekhova2023_L100   \n",
       "Terekhova2023_L100_A29_T1_TTTATGCTCGGCGCAT  Terekhova2023  Terekhova2023_L100   \n",
       "Terekhova2023_L100_A29_T1_TTTGCGCCACAGAGGT  Terekhova2023  Terekhova2023_L100   \n",
       "Terekhova2023_L100_A29_T1_TTTGCGCGTATCTGCA  Terekhova2023  Terekhova2023_L100   \n",
       "\n",
       "                                                        sampleID chemistry  \\\n",
       "cellID                                                                       \n",
       "Cillo2020_L028_HNSCC6_T0_AACTCAGCAGGTGGAT    Cillo2020_HNSCC6_T0  3_GEX_V2   \n",
       "Cillo2020_L028_HNSCC6_T0_AACTGGTGTTGTCGCG    Cillo2020_HNSCC6_T0  3_GEX_V2   \n",
       "Cillo2020_L028_HNSCC6_T0_ACGATACAGAGAACAG    Cillo2020_HNSCC6_T0  3_GEX_V2   \n",
       "Cillo2020_L028_HNSCC6_T0_ACTGATGGTGTTAAGA    Cillo2020_HNSCC6_T0  3_GEX_V2   \n",
       "Cillo2020_L028_HNSCC6_T0_AGCGTCGTCTAACCGA    Cillo2020_HNSCC6_T0  3_GEX_V2   \n",
       "...                                                          ...       ...   \n",
       "Terekhova2023_L100_A29_T1_TTGGAACGTAGGCTGA  Terekhova2023_A29_T1  5_GEX_V2   \n",
       "Terekhova2023_L100_A29_T1_TTTATGCCAATAGAGT  Terekhova2023_A29_T1  5_GEX_V2   \n",
       "Terekhova2023_L100_A29_T1_TTTATGCTCGGCGCAT  Terekhova2023_A29_T1  5_GEX_V2   \n",
       "Terekhova2023_L100_A29_T1_TTTGCGCCACAGAGGT  Terekhova2023_A29_T1  5_GEX_V2   \n",
       "Terekhova2023_L100_A29_T1_TTTGCGCGTATCTGCA  Terekhova2023_A29_T1  5_GEX_V2   \n",
       "\n",
       "                                            disease   sex binned_age Level1  \\\n",
       "cellID                                                                        \n",
       "Cillo2020_L028_HNSCC6_T0_AACTCAGCAGGTGGAT     HNSCC  male      41-50    UTC   \n",
       "Cillo2020_L028_HNSCC6_T0_AACTGGTGTTGTCGCG     HNSCC  male      41-50    UTC   \n",
       "Cillo2020_L028_HNSCC6_T0_ACGATACAGAGAACAG     HNSCC  male      41-50    UTC   \n",
       "Cillo2020_L028_HNSCC6_T0_ACTGATGGTGTTAAGA     HNSCC  male      41-50    UTC   \n",
       "Cillo2020_L028_HNSCC6_T0_AGCGTCGTCTAACCGA     HNSCC  male      41-50    UTC   \n",
       "...                                             ...   ...        ...    ...   \n",
       "Terekhova2023_L100_A29_T1_TTGGAACGTAGGCTGA  healthy  male      31-40    UTC   \n",
       "Terekhova2023_L100_A29_T1_TTTATGCCAATAGAGT  healthy  male      31-40    UTC   \n",
       "Terekhova2023_L100_A29_T1_TTTATGCTCGGCGCAT  healthy  male      31-40    UTC   \n",
       "Terekhova2023_L100_A29_T1_TTTGCGCCACAGAGGT  healthy  male      31-40    UTC   \n",
       "Terekhova2023_L100_A29_T1_TTTGCGCGTATCTGCA  healthy  male      31-40    UTC   \n",
       "\n",
       "                                                Level2  \n",
       "cellID                                                  \n",
       "Cillo2020_L028_HNSCC6_T0_AACTCAGCAGGTGGAT   gdT_V2_Vγ9  \n",
       "Cillo2020_L028_HNSCC6_T0_AACTGGTGTTGTCGCG   gdT_V2_Vγ9  \n",
       "Cillo2020_L028_HNSCC6_T0_ACGATACAGAGAACAG       gdT_V1  \n",
       "Cillo2020_L028_HNSCC6_T0_ACTGATGGTGTTAAGA       gdT_V1  \n",
       "Cillo2020_L028_HNSCC6_T0_AGCGTCGTCTAACCGA   gdT_V2_Vγ9  \n",
       "...                                                ...  \n",
       "Terekhova2023_L100_A29_T1_TTGGAACGTAGGCTGA        MAIT  \n",
       "Terekhova2023_L100_A29_T1_TTTATGCCAATAGAGT        MAIT  \n",
       "Terekhova2023_L100_A29_T1_TTTATGCTCGGCGCAT  gdT_V2_Vγ9  \n",
       "Terekhova2023_L100_A29_T1_TTTGCGCCACAGAGGT        MAIT  \n",
       "Terekhova2023_L100_A29_T1_TTTGCGCGTATCTGCA        MAIT  \n",
       "\n",
       "[115097 rows x 9 columns]"
      ]
     },
     "execution_count": 8,
     "metadata": {},
     "output_type": "execute_result"
    }
   ],
   "source": [
    "adata.obs"
   ]
  },
  {
   "cell_type": "markdown",
   "id": "522229c3",
   "metadata": {
    "papermill": {
     "duration": 0.006414,
     "end_time": "2025-03-17T18:03:50.560646",
     "exception": false,
     "start_time": "2025-03-17T18:03:50.554232",
     "status": "completed"
    },
    "tags": []
   },
   "source": [
    "# EXTRACT INDEXES FOR DATA SPLITTING (STRATIFIED BY DISEASE, GROUPED BY PATIENT)\n",
    "\n",
    "# EXTRACT CELL COUNTS PER SPLIT (TO MAKE SURE THAT RATIOS RESEMBLE 70:20:10)"
   ]
  },
  {
   "cell_type": "code",
   "execution_count": 9,
   "id": "6980e1d2",
   "metadata": {
    "execution": {
     "iopub.execute_input": "2025-03-17T18:03:50.576235Z",
     "iopub.status.busy": "2025-03-17T18:03:50.576064Z",
     "iopub.status.idle": "2025-03-17T18:03:51.170128Z",
     "shell.execute_reply": "2025-03-17T18:03:51.169196Z"
    },
    "papermill": {
     "duration": 0.60442,
     "end_time": "2025-03-17T18:03:51.171364",
     "exception": false,
     "start_time": "2025-03-17T18:03:50.566944",
     "status": "completed"
    },
    "tags": []
   },
   "outputs": [],
   "source": [
    "all_idxs = np.arange(adata.obs.shape[0])\n",
    "left_out_splits = [s[1] for s in StratifiedGroupKFold(n_splits=N_SPLITS).split(all_idxs, adata.obs[target_y], adata.obs.sampleID)]\n",
    "\n",
    "min_stats = []\n",
    "for val_fold_idx, test_fold_idx in product(range(N_SPLITS), range(1,N_SPLITS)):\n",
    "    if val_fold_idx == test_fold_idx:\n",
    "        continue\n",
    "\n",
    "    all_idxs = np.arange(adata.obs.shape[0])\n",
    "    val_idxs, test_idxs = left_out_splits[val_fold_idx], left_out_splits[test_fold_idx]\n",
    "    train_idxs = np.delete(all_idxs, np.union1d(val_idxs, test_idxs))\n",
    "\n",
    "    cell_count_df = []\n",
    "    cell_count_df.append(adata.obs.iloc[train_idxs].groupby(target_y, observed=False).size().to_frame(name='cell_count').reset_index().assign(split='train'))\n",
    "    cell_count_df.append(adata.obs.iloc[val_idxs].groupby(target_y, observed=False).size().to_frame(name='cell_count').reset_index().assign(split='val'))\n",
    "    cell_count_df.append(adata.obs.iloc[test_idxs].groupby(target_y, observed=False).size().to_frame(name='cell_count').reset_index().assign(split='test'))\n",
    "    cell_count_df = pd.concat(cell_count_df).pivot(index=target_y, columns='split', values='cell_count')\n",
    "    cell_plot_data = cell_count_df.div(cell_count_df.sum(axis=1), axis=0).reset_index().melt(id_vars=target_y)\n",
    "    min_stats.append((val_fold_idx, test_fold_idx, cell_plot_data.query('split==\"train\"').value.min(), cell_plot_data.query('split==\"test\"').value.min()))"
   ]
  },
  {
   "cell_type": "markdown",
   "id": "58163386",
   "metadata": {
    "papermill": {
     "duration": 0.014284,
     "end_time": "2025-03-17T18:03:51.194303",
     "exception": false,
     "start_time": "2025-03-17T18:03:51.180019",
     "status": "completed"
    },
    "tags": []
   },
   "source": [
    "# CALCULATE RATIOS OF PATIENTS IN TRAINING AND TESTING SET: splits that best fit the expected ratios"
   ]
  },
  {
   "cell_type": "code",
   "execution_count": 10,
   "id": "e8a0eab1",
   "metadata": {
    "execution": {
     "iopub.execute_input": "2025-03-17T18:03:51.222553Z",
     "iopub.status.busy": "2025-03-17T18:03:51.221986Z",
     "iopub.status.idle": "2025-03-17T18:03:51.244028Z",
     "shell.execute_reply": "2025-03-17T18:03:51.243297Z"
    },
    "papermill": {
     "duration": 0.031817,
     "end_time": "2025-03-17T18:03:51.245230",
     "exception": false,
     "start_time": "2025-03-17T18:03:51.213413",
     "status": "completed"
    },
    "tags": []
   },
   "outputs": [
    {
     "data": {
      "text/html": [
       "<div>\n",
       "<style scoped>\n",
       "    .dataframe tbody tr th:only-of-type {\n",
       "        vertical-align: middle;\n",
       "    }\n",
       "\n",
       "    .dataframe tbody tr th {\n",
       "        vertical-align: top;\n",
       "    }\n",
       "\n",
       "    .dataframe thead th {\n",
       "        text-align: right;\n",
       "    }\n",
       "</style>\n",
       "<table border=\"1\" class=\"dataframe\">\n",
       "  <thead>\n",
       "    <tr style=\"text-align: right;\">\n",
       "      <th></th>\n",
       "      <th>val_idx</th>\n",
       "      <th>test_idx</th>\n",
       "      <th>train_min</th>\n",
       "      <th>test_mean</th>\n",
       "      <th>ranking</th>\n",
       "    </tr>\n",
       "  </thead>\n",
       "  <tbody>\n",
       "    <tr>\n",
       "      <th>9</th>\n",
       "      <td>2</td>\n",
       "      <td>4</td>\n",
       "      <td>0.251183</td>\n",
       "      <td>0.596294</td>\n",
       "      <td>0.149779</td>\n",
       "    </tr>\n",
       "    <tr>\n",
       "      <th>7</th>\n",
       "      <td>2</td>\n",
       "      <td>1</td>\n",
       "      <td>0.242716</td>\n",
       "      <td>0.660182</td>\n",
       "      <td>0.160237</td>\n",
       "    </tr>\n",
       "    <tr>\n",
       "      <th>8</th>\n",
       "      <td>2</td>\n",
       "      <td>3</td>\n",
       "      <td>0.239894</td>\n",
       "      <td>0.681479</td>\n",
       "      <td>0.163483</td>\n",
       "    </tr>\n",
       "    <tr>\n",
       "      <th>11</th>\n",
       "      <td>3</td>\n",
       "      <td>2</td>\n",
       "      <td>0.239894</td>\n",
       "      <td>1.000000</td>\n",
       "      <td>0.239894</td>\n",
       "    </tr>\n",
       "    <tr>\n",
       "      <th>4</th>\n",
       "      <td>1</td>\n",
       "      <td>2</td>\n",
       "      <td>0.242716</td>\n",
       "      <td>1.000000</td>\n",
       "      <td>0.242716</td>\n",
       "    </tr>\n",
       "    <tr>\n",
       "      <th>14</th>\n",
       "      <td>4</td>\n",
       "      <td>2</td>\n",
       "      <td>0.251183</td>\n",
       "      <td>1.000000</td>\n",
       "      <td>0.251183</td>\n",
       "    </tr>\n",
       "    <tr>\n",
       "      <th>1</th>\n",
       "      <td>0</td>\n",
       "      <td>2</td>\n",
       "      <td>0.256828</td>\n",
       "      <td>1.000000</td>\n",
       "      <td>0.256828</td>\n",
       "    </tr>\n",
       "    <tr>\n",
       "      <th>10</th>\n",
       "      <td>3</td>\n",
       "      <td>1</td>\n",
       "      <td>0.447025</td>\n",
       "      <td>0.660182</td>\n",
       "      <td>0.295118</td>\n",
       "    </tr>\n",
       "    <tr>\n",
       "      <th>5</th>\n",
       "      <td>1</td>\n",
       "      <td>3</td>\n",
       "      <td>0.447025</td>\n",
       "      <td>0.681479</td>\n",
       "      <td>0.304638</td>\n",
       "    </tr>\n",
       "    <tr>\n",
       "      <th>2</th>\n",
       "      <td>0</td>\n",
       "      <td>3</td>\n",
       "      <td>0.619110</td>\n",
       "      <td>0.681479</td>\n",
       "      <td>0.421910</td>\n",
       "    </tr>\n",
       "    <tr>\n",
       "      <th>12</th>\n",
       "      <td>3</td>\n",
       "      <td>4</td>\n",
       "      <td>0.718009</td>\n",
       "      <td>0.596294</td>\n",
       "      <td>0.428144</td>\n",
       "    </tr>\n",
       "    <tr>\n",
       "      <th>15</th>\n",
       "      <td>4</td>\n",
       "      <td>3</td>\n",
       "      <td>0.718009</td>\n",
       "      <td>0.681479</td>\n",
       "      <td>0.489308</td>\n",
       "    </tr>\n",
       "    <tr>\n",
       "      <th>6</th>\n",
       "      <td>1</td>\n",
       "      <td>4</td>\n",
       "      <td>0.999297</td>\n",
       "      <td>0.596294</td>\n",
       "      <td>0.595875</td>\n",
       "    </tr>\n",
       "    <tr>\n",
       "      <th>3</th>\n",
       "      <td>0</td>\n",
       "      <td>4</td>\n",
       "      <td>1.000000</td>\n",
       "      <td>0.596294</td>\n",
       "      <td>0.596294</td>\n",
       "    </tr>\n",
       "    <tr>\n",
       "      <th>0</th>\n",
       "      <td>0</td>\n",
       "      <td>1</td>\n",
       "      <td>0.970719</td>\n",
       "      <td>0.660182</td>\n",
       "      <td>0.640852</td>\n",
       "    </tr>\n",
       "    <tr>\n",
       "      <th>13</th>\n",
       "      <td>4</td>\n",
       "      <td>1</td>\n",
       "      <td>0.999297</td>\n",
       "      <td>0.660182</td>\n",
       "      <td>0.659718</td>\n",
       "    </tr>\n",
       "  </tbody>\n",
       "</table>\n",
       "</div>"
      ],
      "text/plain": [
       "    val_idx  test_idx  train_min  test_mean   ranking\n",
       "9         2         4   0.251183   0.596294  0.149779\n",
       "7         2         1   0.242716   0.660182  0.160237\n",
       "8         2         3   0.239894   0.681479  0.163483\n",
       "11        3         2   0.239894   1.000000  0.239894\n",
       "4         1         2   0.242716   1.000000  0.242716\n",
       "14        4         2   0.251183   1.000000  0.251183\n",
       "1         0         2   0.256828   1.000000  0.256828\n",
       "10        3         1   0.447025   0.660182  0.295118\n",
       "5         1         3   0.447025   0.681479  0.304638\n",
       "2         0         3   0.619110   0.681479  0.421910\n",
       "12        3         4   0.718009   0.596294  0.428144\n",
       "15        4         3   0.718009   0.681479  0.489308\n",
       "6         1         4   0.999297   0.596294  0.595875\n",
       "3         0         4   1.000000   0.596294  0.596294\n",
       "0         0         1   0.970719   0.660182  0.640852\n",
       "13        4         1   0.999297   0.660182  0.659718"
      ]
     },
     "execution_count": 10,
     "metadata": {},
     "output_type": "execute_result"
    }
   ],
   "source": [
    "split_rankings_df = (pd.DataFrame(min_stats, columns=['val_idx', 'test_idx', 'train_min', 'test_mean'])\n",
    " .assign(train_min = lambda df: df.train_min / df.train_min.max())\n",
    " .assign(test_mean = lambda df: df.test_mean / df.test_mean.max())\n",
    " .assign(ranking = lambda df: df.test_mean * df.train_min)\n",
    " .sort_values('ranking'))\n",
    "split_rankings_df"
   ]
  },
  {
   "cell_type": "code",
   "execution_count": 11,
   "id": "ff68e733",
   "metadata": {
    "execution": {
     "iopub.execute_input": "2025-03-17T18:03:51.263379Z",
     "iopub.status.busy": "2025-03-17T18:03:51.262443Z",
     "iopub.status.idle": "2025-03-17T18:03:51.271362Z",
     "shell.execute_reply": "2025-03-17T18:03:51.270482Z"
    },
    "papermill": {
     "duration": 0.017036,
     "end_time": "2025-03-17T18:03:51.272321",
     "exception": false,
     "start_time": "2025-03-17T18:03:51.255285",
     "status": "completed"
    },
    "tags": []
   },
   "outputs": [],
   "source": [
    "best_split = split_rankings_df.loc[split_rankings_df['ranking'].idxmax()]\n",
    "all_idxs = np.arange(adata.obs.shape[0])\n",
    "val_idxs, test_idxs = left_out_splits[best_split.val_idx.astype(int)], left_out_splits[best_split.test_idx.astype(int)]\n",
    "train_idxs = np.delete(all_idxs, np.union1d(val_idxs, test_idxs))"
   ]
  },
  {
   "cell_type": "markdown",
   "id": "de2fe3bd",
   "metadata": {
    "papermill": {
     "duration": 0.0066,
     "end_time": "2025-03-17T18:03:51.285408",
     "exception": false,
     "start_time": "2025-03-17T18:03:51.278808",
     "status": "completed"
    },
    "tags": []
   },
   "source": [
    "### CHECK NUMBER OF CELLS PER SPLIT"
   ]
  },
  {
   "cell_type": "code",
   "execution_count": 12,
   "id": "f8b6c07b",
   "metadata": {
    "execution": {
     "iopub.execute_input": "2025-03-17T18:03:51.307931Z",
     "iopub.status.busy": "2025-03-17T18:03:51.307095Z",
     "iopub.status.idle": "2025-03-17T18:03:51.360810Z",
     "shell.execute_reply": "2025-03-17T18:03:51.360197Z"
    },
    "papermill": {
     "duration": 0.071171,
     "end_time": "2025-03-17T18:03:51.362750",
     "exception": false,
     "start_time": "2025-03-17T18:03:51.291579",
     "status": "completed"
    },
    "tags": []
   },
   "outputs": [],
   "source": [
    "cell_count_df = []\n",
    "cell_count_df.append(adata.obs.iloc[train_idxs].groupby(target_y, observed=False).size().to_frame(name='cell_count').reset_index().assign(split='train'))\n",
    "cell_count_df.append(adata.obs.iloc[val_idxs].groupby(target_y, observed=False).size().to_frame(name='cell_count').reset_index().assign(split='val'))\n",
    "cell_count_df.append(adata.obs.iloc[test_idxs].groupby(target_y, observed=False).size().to_frame(name='cell_count').reset_index().assign(split='test'))\n",
    "cell_count_df = pd.concat(cell_count_df).pivot(index=target_y, columns='split', values='cell_count')\n",
    "cell_plot_data = cell_count_df.div(cell_count_df.sum(axis=1), axis=0).reset_index().melt(id_vars=target_y)\n",
    "\n",
    "pat_count_df = []\n",
    "pat_count_df.append(adata.obs.iloc[train_idxs].groupby(target_y, observed=False).sampleID.nunique().to_frame(name='patient_count').reset_index().assign(split='train'))\n",
    "pat_count_df.append(adata.obs.iloc[val_idxs].groupby(target_y, observed=False).sampleID.nunique().to_frame(name='patient_count').reset_index().assign(split='val'))\n",
    "pat_count_df.append(adata.obs.iloc[test_idxs].groupby(target_y, observed=False).sampleID.nunique().to_frame(name='patient_count').reset_index().assign(split='test'))\n",
    "pd.concat(pat_count_df).pivot(index=target_y, columns='split', values='patient_count')\n",
    "pat_count_df = pd.concat(pat_count_df).pivot(index=target_y, columns='split', values='patient_count')\n",
    "pat_count_df = pat_count_df.div(pat_count_df.sum(axis=1), axis=0)\n",
    "pat_plot_data = pat_count_df.div(pat_count_df.sum(axis=1), axis=0).reset_index().melt(id_vars=target_y)\n",
    "\n",
    "train_pats = set(adata.obs.iloc[train_idxs].sampleID)\n",
    "test_pats = set(adata.obs.iloc[test_idxs].sampleID)\n",
    "val_pats = set(adata.obs.iloc[val_idxs].sampleID)"
   ]
  },
  {
   "cell_type": "code",
   "execution_count": 13,
   "id": "c1c8a43d",
   "metadata": {
    "execution": {
     "iopub.execute_input": "2025-03-17T18:03:51.393616Z",
     "iopub.status.busy": "2025-03-17T18:03:51.393160Z",
     "iopub.status.idle": "2025-03-17T18:03:51.397730Z",
     "shell.execute_reply": "2025-03-17T18:03:51.396938Z"
    },
    "papermill": {
     "duration": 0.02419,
     "end_time": "2025-03-17T18:03:51.398866",
     "exception": false,
     "start_time": "2025-03-17T18:03:51.374676",
     "status": "completed"
    },
    "tags": []
   },
   "outputs": [],
   "source": [
    "assert val_pats.intersection(test_pats) != {}\n",
    "assert train_pats.intersection(test_pats) != {}\n",
    "assert train_pats.intersection(val_pats) != {}"
   ]
  },
  {
   "cell_type": "markdown",
   "id": "464a9e90",
   "metadata": {
    "papermill": {
     "duration": 0.005947,
     "end_time": "2025-03-17T18:03:51.412443",
     "exception": false,
     "start_time": "2025-03-17T18:03:51.406496",
     "status": "completed"
    },
    "tags": []
   },
   "source": [
    "### PLOT PATIENT AND CELL DISTRIBUTION ACROSS TRAIN, TEST, AND VALIDATION SETS PER DISEASE\n",
    "### CHECK THAT THEY APPROXIMATE EXPECTATION"
   ]
  },
  {
   "cell_type": "code",
   "execution_count": 14,
   "id": "6294ca35",
   "metadata": {
    "execution": {
     "iopub.execute_input": "2025-03-17T18:03:51.426495Z",
     "iopub.status.busy": "2025-03-17T18:03:51.425473Z",
     "iopub.status.idle": "2025-03-17T18:03:52.512217Z",
     "shell.execute_reply": "2025-03-17T18:03:52.511824Z"
    },
    "papermill": {
     "duration": 1.09718,
     "end_time": "2025-03-17T18:03:52.515571",
     "exception": false,
     "start_time": "2025-03-17T18:03:51.418391",
     "status": "completed"
    },
    "tags": []
   },
   "outputs": [
    {
     "data": {
      "image/png": "[encoded data removed]",
      "text/plain": [
       "<Figure size 2000x600 with 2 Axes>"
      ]
     },
     "metadata": {},
     "output_type": "display_data"
    }
   ],
   "source": [
    "_, axs = plt.subplots(1, 2, figsize=(20, 6))\n",
    "sns.barplot(x=target_y, y='value', hue='split', data=cell_plot_data, ax=axs[0])\n",
    "axs[0].set_title('Cell distribution')\n",
    "axs[0].tick_params(axis='x', labelrotation=90)\n",
    "sns.barplot(x=target_y, y='value', hue='split', data=pat_plot_data, ax=axs[1])\n",
    "axs[1].set_title('Patients distribution')\n",
    "axs[1].tick_params(axis='x', labelrotation=90)\n",
    "\n",
    "os.makedirs(here(f\"03_downstream_analysis/08_gene_importance/results/targetY_{target_y}/01_split_plots/\"), exist_ok=True)\n",
    "\n",
    "plt.savefig(here(f'03_downstream_analysis/08_gene_importance/results/targetY_{target_y}/01_split_plots/{RUN_NAME}{CELL_TYPE}_split_quality.pdf'), bbox_inches='tight', dpi=300)"
   ]
  },
  {
   "cell_type": "code",
   "execution_count": 15,
   "id": "81a6a939",
   "metadata": {
    "execution": {
     "iopub.execute_input": "2025-03-17T18:03:52.539309Z",
     "iopub.status.busy": "2025-03-17T18:03:52.539086Z",
     "iopub.status.idle": "2025-03-17T18:03:52.561404Z",
     "shell.execute_reply": "2025-03-17T18:03:52.561069Z"
    },
    "papermill": {
     "duration": 0.031705,
     "end_time": "2025-03-17T18:03:52.562403",
     "exception": false,
     "start_time": "2025-03-17T18:03:52.530698",
     "status": "completed"
    },
    "tags": []
   },
   "outputs": [],
   "source": [
    "os.makedirs(here(f\"03_downstream_analysis/08_gene_importance/results/targetY_{target_y}/02_preprocessing/\"), exist_ok=True)\n",
    "\n",
    "np.save(here(f\"03_downstream_analysis/08_gene_importance/results/targetY_{target_y}/02_preprocessing/{RUN_NAME}{CELL_TYPE}_train_idxs.npy\"), train_idxs)\n",
    "np.save(here(f\"03_downstream_analysis/08_gene_importance/results/targetY_{target_y}/02_preprocessing/{RUN_NAME}{CELL_TYPE}_val_idxs.npy\"), val_idxs)\n",
    "np.save(here(f\"03_downstream_analysis/08_gene_importance/results/targetY_{target_y}/02_preprocessing/{RUN_NAME}{CELL_TYPE}_test_idxs.npy\"), test_idxs)"
   ]
  },
  {
   "cell_type": "markdown",
   "id": "ce3b5ddd",
   "metadata": {
    "papermill": {
     "duration": 0.007652,
     "end_time": "2025-03-17T18:03:52.581614",
     "exception": false,
     "start_time": "2025-03-17T18:03:52.573962",
     "status": "completed"
    },
    "tags": []
   },
   "source": [
    "### SUBSET DATASET INTO TRAIN/TEST/VAL SPLITS"
   ]
  },
  {
   "cell_type": "code",
   "execution_count": 16,
   "id": "3758c6a9",
   "metadata": {
    "execution": {
     "iopub.execute_input": "2025-03-17T18:03:52.596702Z",
     "iopub.status.busy": "2025-03-17T18:03:52.596306Z",
     "iopub.status.idle": "2025-03-17T18:04:10.136758Z",
     "shell.execute_reply": "2025-03-17T18:04:10.135991Z"
    },
    "papermill": {
     "duration": 17.549188,
     "end_time": "2025-03-17T18:04:10.137663",
     "exception": false,
     "start_time": "2025-03-17T18:03:52.588475",
     "status": "completed"
    },
    "tags": []
   },
   "outputs": [
    {
     "data": {
      "text/plain": [
       "((69660, 935), (22483, 935), (22954, 935))"
      ]
     },
     "execution_count": 16,
     "metadata": {},
     "output_type": "execute_result"
    }
   ],
   "source": [
    "X_train = adata.X[train_idxs]\n",
    "X_test = adata.X[test_idxs]\n",
    "X_val = adata.X[val_idxs]\n",
    "X_train.shape, X_test.shape, X_val.shape"
   ]
  },
  {
   "cell_type": "code",
   "execution_count": 17,
   "id": "3181fe99",
   "metadata": {
    "execution": {
     "iopub.execute_input": "2025-03-17T18:04:10.153190Z",
     "iopub.status.busy": "2025-03-17T18:04:10.152192Z",
     "iopub.status.idle": "2025-03-17T18:04:10.175793Z",
     "shell.execute_reply": "2025-03-17T18:04:10.174977Z"
    },
    "papermill": {
     "duration": 0.032898,
     "end_time": "2025-03-17T18:04:10.176967",
     "exception": false,
     "start_time": "2025-03-17T18:04:10.144069",
     "status": "completed"
    },
    "tags": []
   },
   "outputs": [
    {
     "data": {
      "text/plain": [
       "((69660,), (22483,), (22954,))"
      ]
     },
     "execution_count": 17,
     "metadata": {},
     "output_type": "execute_result"
    }
   ],
   "source": [
    "y_train = adata.obs.iloc[train_idxs][target_y].values.astype(str)\n",
    "y_test = adata.obs.iloc[test_idxs][target_y].values.astype(str)\n",
    "y_val = adata.obs.iloc[val_idxs][target_y].values.astype(str)\n",
    "y_train.shape, y_test.shape, y_val.shape "
   ]
  },
  {
   "cell_type": "code",
   "execution_count": 18,
   "id": "5b6a0aa8",
   "metadata": {
    "execution": {
     "iopub.execute_input": "2025-03-17T18:04:10.196210Z",
     "iopub.status.busy": "2025-03-17T18:04:10.195362Z",
     "iopub.status.idle": "2025-03-17T18:04:10.243127Z",
     "shell.execute_reply": "2025-03-17T18:04:10.242183Z"
    },
    "papermill": {
     "duration": 0.057688,
     "end_time": "2025-03-17T18:04:10.244902",
     "exception": false,
     "start_time": "2025-03-17T18:04:10.187214",
     "status": "completed"
    },
    "tags": []
   },
   "outputs": [],
   "source": [
    "lenc = LabelEncoder()\n",
    "y_train_enc = lenc.fit_transform(y_train)\n",
    "y_val_enc = lenc.transform(y_val)\n",
    "y_test_enc = lenc.transform(y_test)"
   ]
  },
  {
   "cell_type": "markdown",
   "id": "f577eb56",
   "metadata": {
    "papermill": {
     "duration": 0.007726,
     "end_time": "2025-03-17T18:04:10.267591",
     "exception": false,
     "start_time": "2025-03-17T18:04:10.259865",
     "status": "completed"
    },
    "tags": []
   },
   "source": [
    "### GENERATE F1 "
   ]
  },
  {
   "cell_type": "code",
   "execution_count": 19,
   "id": "20c5422f",
   "metadata": {
    "execution": {
     "iopub.execute_input": "2025-03-17T18:04:10.283232Z",
     "iopub.status.busy": "2025-03-17T18:04:10.283059Z",
     "iopub.status.idle": "2025-03-17T18:04:10.286843Z",
     "shell.execute_reply": "2025-03-17T18:04:10.285963Z"
    },
    "papermill": {
     "duration": 0.01226,
     "end_time": "2025-03-17T18:04:10.287632",
     "exception": false,
     "start_time": "2025-03-17T18:04:10.275372",
     "status": "completed"
    },
    "tags": []
   },
   "outputs": [],
   "source": [
    "def custom_f1_score(y_true, y_pred):\n",
    "    return -f1_score(y_true, y_pred.argmax(1), average='weighted')"
   ]
  },
  {
   "cell_type": "code",
   "execution_count": 20,
   "id": "d9ee267b",
   "metadata": {
    "execution": {
     "iopub.execute_input": "2025-03-17T18:04:10.303671Z",
     "iopub.status.busy": "2025-03-17T18:04:10.302890Z",
     "iopub.status.idle": "2025-03-17T18:04:10.307208Z",
     "shell.execute_reply": "2025-03-17T18:04:10.306685Z"
    },
    "papermill": {
     "duration": 0.013855,
     "end_time": "2025-03-17T18:04:10.308631",
     "exception": false,
     "start_time": "2025-03-17T18:04:10.294776",
     "status": "completed"
    },
    "tags": []
   },
   "outputs": [],
   "source": [
    "eval_metric=custom_f1_score\n",
    "eval_metric_name='custom_f1_score'\n",
    "\n",
    "def objective(trial):\n",
    "    params = {\n",
    "        'sampling_method': 'gradient_based',\n",
    "        'n_estimators': 1500,\n",
    "        'max_depth': trial.suggest_int('max_depth', 3, 20),\n",
    "        'min_child_weight': trial.suggest_int('min_child_weight', 1, 250),\n",
    "        'subsample': trial.suggest_float('subsample', 0.1, 1.0),\n",
    "        'colsample_bynode': trial.suggest_float('colsample_bynode', 0.1, 1.0),\n",
    "        'learning_rate': trial.suggest_float('learning_rate', 1e-3, 5e-1, log=True),\n",
    "    }\n",
    "    pruning_callback = optuna.integration.XGBoostPruningCallback(trial, f'validation_0-{eval_metric_name}')\n",
    "    xgb = xgboost.XGBClassifier(\n",
    "        device='gpu',\n",
    "        eval_metric=eval_metric,\n",
    "        early_stopping_rounds=20,\n",
    "        callbacks=[pruning_callback],\n",
    "        **params\n",
    "    )\n",
    "    xgb.fit(\n",
    "        X_train, \n",
    "        y_train_enc, \n",
    "        verbose=0,\n",
    "        eval_set=[(X_val, y_val_enc)],\n",
    "    )\n",
    "    trial.set_user_attr('best_iteration', xgb.best_iteration)\n",
    "\n",
    "    return xgb.best_score"
   ]
  },
  {
   "cell_type": "code",
   "execution_count": 21,
   "id": "80aaf3a9",
   "metadata": {
    "execution": {
     "iopub.execute_input": "2025-03-17T18:04:10.333785Z",
     "iopub.status.busy": "2025-03-17T18:04:10.333386Z",
     "iopub.status.idle": "2025-03-17T18:11:20.308938Z",
     "shell.execute_reply": "2025-03-17T18:11:20.308302Z"
    },
    "papermill": {
     "duration": 429.987919,
     "end_time": "2025-03-17T18:11:20.313212",
     "exception": false,
     "start_time": "2025-03-17T18:04:10.325293",
     "status": "completed"
    },
    "tags": []
   },
   "outputs": [
    {
     "name": "stderr",
     "output_type": "stream",
     "text": [
      "[I 2025-03-17 18:04:10,337] A new study created in memory with name: no-name-969a1d6c-59a8-4ab2-b779-4e266d162640\n"
     ]
    },
    {
     "name": "stderr",
     "output_type": "stream",
     "text": [
      "/tmp/ipykernel_1050234/350114600.py:4: ExperimentalWarning: WeightsAndBiasesCallback is experimental (supported from v2.9.0). The interface can change in the future.\n",
      "  wandbc = optuna.integration.WeightsAndBiasesCallback(wandb_kwargs=wandb_kwargs)\n",
      "\u001b[34m\u001b[1mwandb\u001b[0m: Using wandb-core as the SDK backend.  Please refer to https://wandb.me/wandb-core for more information.\n"
     ]
    },
    {
     "name": "stderr",
     "output_type": "stream",
     "text": [
      "\u001b[34m\u001b[1mwandb\u001b[0m: Currently logged in as: \u001b[33mdav1989\u001b[0m (\u001b[33minflammation\u001b[0m) to \u001b[32mhttps://api.wandb.ai\u001b[0m. Use \u001b[1m`wandb login --relogin`\u001b[0m to force relogin\n"
     ]
    },
    {
     "name": "stderr",
     "output_type": "stream",
     "text": [
      "\u001b[34m\u001b[1mwandb\u001b[0m: Tracking run with wandb version 0.19.8\n"
     ]
    },
    {
     "name": "stderr",
     "output_type": "stream",
     "text": [
      "\u001b[34m\u001b[1mwandb\u001b[0m: Run data is saved locally in \u001b[35m\u001b[1m/scratch_isilon/groups/singlecell/shared/projects/Inflammation-PBMCs-Atlas/03_downstream_analysis/08_gene_importance/wandb/run-20250317_180411-jt96mpqw\u001b[0m\n",
      "\u001b[34m\u001b[1mwandb\u001b[0m: Run \u001b[1m`wandb offline`\u001b[0m to turn off syncing.\n"
     ]
    },
    {
     "name": "stderr",
     "output_type": "stream",
     "text": [
      "\u001b[34m\u001b[1mwandb\u001b[0m: Syncing run \u001b[33mstudyID_UTC\u001b[0m\n"
     ]
    },
    {
     "name": "stderr",
     "output_type": "stream",
     "text": [
      "\u001b[34m\u001b[1mwandb\u001b[0m: ⭐️ View project at \u001b[34m\u001b[4mhttps://wandb.ai/inflammation/xgboost\u001b[0m\n"
     ]
    },
    {
     "name": "stderr",
     "output_type": "stream",
     "text": [
      "\u001b[34m\u001b[1mwandb\u001b[0m: 🚀 View run at \u001b[34m\u001b[4mhttps://wandb.ai/inflammation/xgboost/runs/jt96mpqw\u001b[0m\n"
     ]
    },
    {
     "name": "stderr",
     "output_type": "stream",
     "text": [
      "[I 2025-03-17 18:04:21,415] Trial 0 finished with value: -0.954435 and parameters: {'max_depth': 9, 'min_child_weight': 238, 'subsample': 0.7587945476302645, 'colsample_bynode': 0.6387926357773329, 'learning_rate': 0.0026368755339723046}. Best is trial 0 with value: -0.954435.\n"
     ]
    },
    {
     "name": "stderr",
     "output_type": "stream",
     "text": [
      "[I 2025-03-17 18:04:39,015] Trial 1 finished with value: -0.994837 and parameters: {'max_depth': 5, 'min_child_weight': 15, 'subsample': 0.8795585311974417, 'colsample_bynode': 0.6410035105688879, 'learning_rate': 0.08148293210105287}. Best is trial 1 with value: -0.994837.\n"
     ]
    },
    {
     "name": "stderr",
     "output_type": "stream",
     "text": [
      "[I 2025-03-17 18:04:46,212] Trial 2 finished with value: -0.959741 and parameters: {'max_depth': 3, 'min_child_weight': 243, 'subsample': 0.8491983767203796, 'colsample_bynode': 0.29110519961044856, 'learning_rate': 0.003095566460242371}. Best is trial 1 with value: -0.994837.\n"
     ]
    },
    {
     "name": "stderr",
     "output_type": "stream",
     "text": [
      "[I 2025-03-17 18:06:03,518] Trial 3 finished with value: -0.990612 and parameters: {'max_depth': 6, 'min_child_weight': 77, 'subsample': 0.5722807884690141, 'colsample_bynode': 0.48875051677790415, 'learning_rate': 0.006109683510122491}. Best is trial 1 with value: -0.994837.\n"
     ]
    },
    {
     "name": "stderr",
     "output_type": "stream",
     "text": [
      "[I 2025-03-17 18:07:14,547] Trial 4 finished with value: -0.993742 and parameters: {'max_depth': 14, 'min_child_weight': 35, 'subsample': 0.3629301836816964, 'colsample_bynode': 0.4297256589643226, 'learning_rate': 0.01701841881702917}. Best is trial 1 with value: -0.994837.\n"
     ]
    },
    {
     "name": "stderr",
     "output_type": "stream",
     "text": [
      "[I 2025-03-17 18:07:25,329] Trial 5 pruned. Trial was pruned at iteration 30.\n"
     ]
    },
    {
     "name": "stderr",
     "output_type": "stream",
     "text": [
      "[I 2025-03-17 18:07:31,421] Trial 6 finished with value: -0.990304 and parameters: {'max_depth': 13, 'min_child_weight': 43, 'subsample': 0.1585464336867516, 'colsample_bynode': 0.9539969835279999, 'learning_rate': 0.4038423798071558}. Best is trial 1 with value: -0.994837.\n"
     ]
    },
    {
     "name": "stderr",
     "output_type": "stream",
     "text": [
      "[I 2025-03-17 18:07:33,252] Trial 7 pruned. Trial was pruned at iteration 0.\n"
     ]
    },
    {
     "name": "stderr",
     "output_type": "stream",
     "text": [
      "[I 2025-03-17 18:07:35,127] Trial 8 pruned. Trial was pruned at iteration 0.\n"
     ]
    },
    {
     "name": "stderr",
     "output_type": "stream",
     "text": [
      "[I 2025-03-17 18:07:36,603] Trial 9 pruned. Trial was pruned at iteration 0.\n"
     ]
    },
    {
     "name": "stderr",
     "output_type": "stream",
     "text": [
      "[I 2025-03-17 18:07:50,851] Trial 10 finished with value: -0.997413 and parameters: {'max_depth': 9, 'min_child_weight': 2, 'subsample': 0.9725833997090791, 'colsample_bynode': 0.11616568805333755, 'learning_rate': 0.17780618353487967}. Best is trial 10 with value: -0.997413.\n"
     ]
    },
    {
     "name": "stderr",
     "output_type": "stream",
     "text": [
      "[I 2025-03-17 18:08:01,493] Trial 11 finished with value: -0.995336 and parameters: {'max_depth': 9, 'min_child_weight': 4, 'subsample': 0.9818290990185045, 'colsample_bynode': 0.17702656156719, 'learning_rate': 0.11568531411766632}. Best is trial 10 with value: -0.997413.\n"
     ]
    },
    {
     "name": "stderr",
     "output_type": "stream",
     "text": [
      "[I 2025-03-17 18:08:03,997] Trial 12 pruned. Trial was pruned at iteration 0.\n"
     ]
    },
    {
     "name": "stderr",
     "output_type": "stream",
     "text": [
      "[I 2025-03-17 18:08:06,076] Trial 13 pruned. Trial was pruned at iteration 0.\n"
     ]
    },
    {
     "name": "stderr",
     "output_type": "stream",
     "text": [
      "[I 2025-03-17 18:08:08,386] Trial 14 pruned. Trial was pruned at iteration 0.\n"
     ]
    },
    {
     "name": "stderr",
     "output_type": "stream",
     "text": [
      "[I 2025-03-17 18:08:26,761] Trial 15 finished with value: -0.995612 and parameters: {'max_depth': 20, 'min_child_weight': 2, 'subsample': 0.719264024177087, 'colsample_bynode': 0.2540835086298475, 'learning_rate': 0.03987682305667138}. Best is trial 10 with value: -0.997413.\n"
     ]
    },
    {
     "name": "stderr",
     "output_type": "stream",
     "text": [
      "[I 2025-03-17 18:08:29,674] Trial 16 pruned. Trial was pruned at iteration 0.\n"
     ]
    },
    {
     "name": "stderr",
     "output_type": "stream",
     "text": [
      "[I 2025-03-17 18:08:31,825] Trial 17 pruned. Trial was pruned at iteration 0.\n"
     ]
    },
    {
     "name": "stderr",
     "output_type": "stream",
     "text": [
      "[I 2025-03-17 18:08:40,356] Trial 18 pruned. Trial was pruned at iteration 41.\n"
     ]
    },
    {
     "name": "stderr",
     "output_type": "stream",
     "text": [
      "[I 2025-03-17 18:08:42,375] Trial 19 pruned. Trial was pruned at iteration 0.\n"
     ]
    },
    {
     "name": "stderr",
     "output_type": "stream",
     "text": [
      "[I 2025-03-17 18:08:44,206] Trial 20 pruned. Trial was pruned at iteration 0.\n"
     ]
    },
    {
     "name": "stderr",
     "output_type": "stream",
     "text": [
      "[I 2025-03-17 18:08:55,925] Trial 21 pruned. Trial was pruned at iteration 50.\n"
     ]
    },
    {
     "name": "stderr",
     "output_type": "stream",
     "text": [
      "[I 2025-03-17 18:08:57,648] Trial 22 pruned. Trial was pruned at iteration 0.\n"
     ]
    },
    {
     "name": "stderr",
     "output_type": "stream",
     "text": [
      "[I 2025-03-17 18:09:00,012] Trial 23 pruned. Trial was pruned at iteration 1.\n"
     ]
    },
    {
     "name": "stderr",
     "output_type": "stream",
     "text": [
      "[I 2025-03-17 18:09:09,545] Trial 24 pruned. Trial was pruned at iteration 41.\n"
     ]
    },
    {
     "name": "stderr",
     "output_type": "stream",
     "text": [
      "[I 2025-03-17 18:09:11,372] Trial 25 pruned. Trial was pruned at iteration 0.\n"
     ]
    },
    {
     "name": "stderr",
     "output_type": "stream",
     "text": [
      "[I 2025-03-17 18:09:13,384] Trial 26 pruned. Trial was pruned at iteration 0.\n"
     ]
    },
    {
     "name": "stderr",
     "output_type": "stream",
     "text": [
      "[I 2025-03-17 18:09:15,057] Trial 27 pruned. Trial was pruned at iteration 0.\n"
     ]
    },
    {
     "name": "stderr",
     "output_type": "stream",
     "text": [
      "[I 2025-03-17 18:09:16,920] Trial 28 pruned. Trial was pruned at iteration 0.\n"
     ]
    },
    {
     "name": "stderr",
     "output_type": "stream",
     "text": [
      "[I 2025-03-17 18:09:18,956] Trial 29 pruned. Trial was pruned at iteration 0.\n"
     ]
    },
    {
     "name": "stderr",
     "output_type": "stream",
     "text": [
      "[I 2025-03-17 18:09:22,034] Trial 30 pruned. Trial was pruned at iteration 0.\n"
     ]
    },
    {
     "name": "stderr",
     "output_type": "stream",
     "text": [
      "[I 2025-03-17 18:09:29,732] Trial 31 pruned. Trial was pruned at iteration 41.\n"
     ]
    },
    {
     "name": "stderr",
     "output_type": "stream",
     "text": [
      "[I 2025-03-17 18:09:38,278] Trial 32 pruned. Trial was pruned at iteration 41.\n"
     ]
    },
    {
     "name": "stderr",
     "output_type": "stream",
     "text": [
      "[I 2025-03-17 18:09:48,099] Trial 33 pruned. Trial was pruned at iteration 41.\n"
     ]
    },
    {
     "name": "stderr",
     "output_type": "stream",
     "text": [
      "[I 2025-03-17 18:09:50,020] Trial 34 pruned. Trial was pruned at iteration 0.\n"
     ]
    },
    {
     "name": "stderr",
     "output_type": "stream",
     "text": [
      "[I 2025-03-17 18:09:52,130] Trial 35 pruned. Trial was pruned at iteration 0.\n"
     ]
    },
    {
     "name": "stderr",
     "output_type": "stream",
     "text": [
      "[I 2025-03-17 18:09:53,747] Trial 36 pruned. Trial was pruned at iteration 0.\n"
     ]
    },
    {
     "name": "stderr",
     "output_type": "stream",
     "text": [
      "[I 2025-03-17 18:10:03,204] Trial 37 pruned. Trial was pruned at iteration 41.\n"
     ]
    },
    {
     "name": "stderr",
     "output_type": "stream",
     "text": [
      "[I 2025-03-17 18:10:05,826] Trial 38 pruned. Trial was pruned at iteration 1.\n"
     ]
    },
    {
     "name": "stderr",
     "output_type": "stream",
     "text": [
      "[I 2025-03-17 18:10:07,875] Trial 39 pruned. Trial was pruned at iteration 0.\n"
     ]
    },
    {
     "name": "stderr",
     "output_type": "stream",
     "text": [
      "[I 2025-03-17 18:10:15,636] Trial 40 pruned. Trial was pruned at iteration 41.\n"
     ]
    },
    {
     "name": "stderr",
     "output_type": "stream",
     "text": [
      "[I 2025-03-17 18:10:18,222] Trial 41 pruned. Trial was pruned at iteration 1.\n"
     ]
    },
    {
     "name": "stderr",
     "output_type": "stream",
     "text": [
      "[I 2025-03-17 18:10:20,661] Trial 42 pruned. Trial was pruned at iteration 0.\n"
     ]
    },
    {
     "name": "stderr",
     "output_type": "stream",
     "text": [
      "[I 2025-03-17 18:10:33,066] Trial 43 pruned. Trial was pruned at iteration 39.\n"
     ]
    },
    {
     "name": "stderr",
     "output_type": "stream",
     "text": [
      "[I 2025-03-17 18:10:35,235] Trial 44 pruned. Trial was pruned at iteration 1.\n"
     ]
    },
    {
     "name": "stderr",
     "output_type": "stream",
     "text": [
      "[I 2025-03-17 18:10:38,799] Trial 45 pruned. Trial was pruned at iteration 15.\n"
     ]
    },
    {
     "name": "stderr",
     "output_type": "stream",
     "text": [
      "[I 2025-03-17 18:10:50,073] Trial 46 finished with value: -0.995745 and parameters: {'max_depth': 9, 'min_child_weight': 11, 'subsample': 0.9628883059554308, 'colsample_bynode': 0.34893706360135723, 'learning_rate': 0.05663744292474434}. Best is trial 10 with value: -0.997413.\n"
     ]
    },
    {
     "name": "stderr",
     "output_type": "stream",
     "text": [
      "[I 2025-03-17 18:10:58,154] Trial 47 pruned. Trial was pruned at iteration 41.\n"
     ]
    },
    {
     "name": "stderr",
     "output_type": "stream",
     "text": [
      "[I 2025-03-17 18:11:00,766] Trial 48 pruned. Trial was pruned at iteration 0.\n"
     ]
    },
    {
     "name": "stderr",
     "output_type": "stream",
     "text": [
      "[I 2025-03-17 18:11:20,018] Trial 49 finished with value: -0.996017 and parameters: {'max_depth': 11, 'min_child_weight': 1, 'subsample': 0.9796155488204317, 'colsample_bynode': 0.21008388449988175, 'learning_rate': 0.09325964258199478}. Best is trial 10 with value: -0.997413.\n"
     ]
    }
   ],
   "source": [
    "sampler = optuna.samplers.TPESampler(seed=42)\n",
    "study = optuna.create_study(direction='minimize', sampler=sampler)\n",
    "wandb_kwargs = {\"project\": \"xgboost\", \"name\": f\"{RUN_NAME}{CELL_TYPE}\"}\n",
    "wandbc = optuna.integration.WeightsAndBiasesCallback(wandb_kwargs=wandb_kwargs)\n",
    "study.optimize(objective, n_trials=N_TRIALS, callbacks=[wandbc], gc_after_trial=True)"
   ]
  },
  {
   "cell_type": "code",
   "execution_count": 22,
   "id": "aaecc19f",
   "metadata": {
    "execution": {
     "iopub.execute_input": "2025-03-17T18:11:20.364392Z",
     "iopub.status.busy": "2025-03-17T18:11:20.364061Z",
     "iopub.status.idle": "2025-03-17T18:11:20.407457Z",
     "shell.execute_reply": "2025-03-17T18:11:20.406924Z"
    },
    "papermill": {
     "duration": 0.072443,
     "end_time": "2025-03-17T18:11:20.408307",
     "exception": false,
     "start_time": "2025-03-17T18:11:20.335864",
     "status": "completed"
    },
    "tags": []
   },
   "outputs": [
    {
     "data": {
      "text/plain": [
       "['/scratch_isilon/groups/singlecell/shared/projects/Inflammation-PBMCs-Atlas/03_downstream_analysis/08_gene_importance/results/targetY_studyID/03_xgboost/study/studyID_UTC_xgboost.pkl']"
      ]
     },
     "execution_count": 22,
     "metadata": {},
     "output_type": "execute_result"
    }
   ],
   "source": [
    "os.makedirs(here(f\"03_downstream_analysis/08_gene_importance/results/targetY_{target_y}/03_xgboost/study/\"), exist_ok=True)\n",
    "\n",
    "joblib.dump(study, here(f'03_downstream_analysis/08_gene_importance/results/targetY_{target_y}/03_xgboost/study/{RUN_NAME}{CELL_TYPE}_xgboost.pkl'))"
   ]
  },
  {
   "cell_type": "code",
   "execution_count": 23,
   "id": "b46abd67",
   "metadata": {
    "execution": {
     "iopub.execute_input": "2025-03-17T18:11:20.429341Z",
     "iopub.status.busy": "2025-03-17T18:11:20.428912Z",
     "iopub.status.idle": "2025-03-17T18:11:25.705768Z",
     "shell.execute_reply": "2025-03-17T18:11:25.704916Z"
    },
    "papermill": {
     "duration": 5.28905,
     "end_time": "2025-03-17T18:11:25.707414",
     "exception": false,
     "start_time": "2025-03-17T18:11:20.418364",
     "status": "completed"
    },
    "tags": []
   },
   "outputs": [],
   "source": [
    "os.makedirs(here(f\"03_downstream_analysis/08_gene_importance/results/targetY_{target_y}/03_xgboost/parallel_coordinate/\"), exist_ok=True)\n",
    "\n",
    "fig = optuna.visualization.plot_parallel_coordinate(study)\n",
    "fig.write_image(here(f'03_downstream_analysis/08_gene_importance/results/targetY_{target_y}/03_xgboost/parallel_coordinate/{RUN_NAME}{CELL_TYPE}_pcoord.pdf'))"
   ]
  },
  {
   "cell_type": "code",
   "execution_count": 24,
   "id": "2be48a31",
   "metadata": {
    "editable": true,
    "execution": {
     "iopub.execute_input": "2025-03-17T18:11:25.740494Z",
     "iopub.status.busy": "2025-03-17T18:11:25.739213Z",
     "iopub.status.idle": "2025-03-17T18:11:36.918138Z",
     "shell.execute_reply": "2025-03-17T18:11:36.917324Z"
    },
    "papermill": {
     "duration": 11.199168,
     "end_time": "2025-03-17T18:11:36.921406",
     "exception": false,
     "start_time": "2025-03-17T18:11:25.722238",
     "status": "completed"
    },
    "scrolled": true,
    "slideshow": {
     "slide_type": ""
    },
    "tags": []
   },
   "outputs": [
    {
     "name": "stdout",
     "output_type": "stream",
     "text": [
      "[0]\tvalidation_0-mlogloss:1.50685\tvalidation_0-custom_f1_score:-0.97680\n"
     ]
    },
    {
     "name": "stdout",
     "output_type": "stream",
     "text": [
      "[1]\tvalidation_0-mlogloss:1.16712\tvalidation_0-custom_f1_score:-0.98261\n"
     ]
    },
    {
     "name": "stdout",
     "output_type": "stream",
     "text": [
      "[2]\tvalidation_0-mlogloss:0.93831\tvalidation_0-custom_f1_score:-0.98696\n"
     ]
    },
    {
     "name": "stdout",
     "output_type": "stream",
     "text": [
      "[3]\tvalidation_0-mlogloss:0.76788\tvalidation_0-custom_f1_score:-0.99021\n"
     ]
    },
    {
     "name": "stdout",
     "output_type": "stream",
     "text": [
      "[4]\tvalidation_0-mlogloss:0.63612\tvalidation_0-custom_f1_score:-0.99262\n"
     ]
    },
    {
     "name": "stdout",
     "output_type": "stream",
     "text": [
      "[5]\tvalidation_0-mlogloss:0.53046\tvalidation_0-custom_f1_score:-0.99437\n"
     ]
    },
    {
     "name": "stdout",
     "output_type": "stream",
     "text": [
      "[6]\tvalidation_0-mlogloss:0.44558\tvalidation_0-custom_f1_score:-0.99501\n"
     ]
    },
    {
     "name": "stdout",
     "output_type": "stream",
     "text": [
      "[7]\tvalidation_0-mlogloss:0.37567\tvalidation_0-custom_f1_score:-0.99569\n"
     ]
    },
    {
     "name": "stdout",
     "output_type": "stream",
     "text": [
      "[8]\tvalidation_0-mlogloss:0.31773\tvalidation_0-custom_f1_score:-0.99586\n"
     ]
    },
    {
     "name": "stdout",
     "output_type": "stream",
     "text": [
      "[9]\tvalidation_0-mlogloss:0.27022\tvalidation_0-custom_f1_score:-0.99604\n"
     ]
    },
    {
     "name": "stdout",
     "output_type": "stream",
     "text": [
      "[10]\tvalidation_0-mlogloss:0.22950\tvalidation_0-custom_f1_score:-0.99636\n"
     ]
    },
    {
     "name": "stdout",
     "output_type": "stream",
     "text": [
      "[11]\tvalidation_0-mlogloss:0.19584\tvalidation_0-custom_f1_score:-0.99666\n"
     ]
    },
    {
     "name": "stdout",
     "output_type": "stream",
     "text": [
      "[12]\tvalidation_0-mlogloss:0.16699\tvalidation_0-custom_f1_score:-0.99710\n"
     ]
    },
    {
     "name": "stdout",
     "output_type": "stream",
     "text": [
      "[13]\tvalidation_0-mlogloss:0.14284\tvalidation_0-custom_f1_score:-0.99755\n"
     ]
    },
    {
     "name": "stdout",
     "output_type": "stream",
     "text": [
      "[14]\tvalidation_0-mlogloss:0.12260\tvalidation_0-custom_f1_score:-0.99795\n"
     ]
    },
    {
     "name": "stdout",
     "output_type": "stream",
     "text": [
      "[15]\tvalidation_0-mlogloss:0.10530\tvalidation_0-custom_f1_score:-0.99827\n"
     ]
    },
    {
     "name": "stdout",
     "output_type": "stream",
     "text": [
      "[16]\tvalidation_0-mlogloss:0.09089\tvalidation_0-custom_f1_score:-0.99858\n"
     ]
    },
    {
     "name": "stdout",
     "output_type": "stream",
     "text": [
      "[17]\tvalidation_0-mlogloss:0.07851\tvalidation_0-custom_f1_score:-0.99871\n"
     ]
    },
    {
     "name": "stdout",
     "output_type": "stream",
     "text": [
      "[18]\tvalidation_0-mlogloss:0.06800\tvalidation_0-custom_f1_score:-0.99889\n"
     ]
    },
    {
     "name": "stdout",
     "output_type": "stream",
     "text": [
      "[19]\tvalidation_0-mlogloss:0.05915\tvalidation_0-custom_f1_score:-0.99897\n"
     ]
    },
    {
     "name": "stdout",
     "output_type": "stream",
     "text": [
      "[20]\tvalidation_0-mlogloss:0.05159\tvalidation_0-custom_f1_score:-0.99906\n"
     ]
    },
    {
     "name": "stdout",
     "output_type": "stream",
     "text": [
      "[21]\tvalidation_0-mlogloss:0.04518\tvalidation_0-custom_f1_score:-0.99920\n"
     ]
    },
    {
     "name": "stdout",
     "output_type": "stream",
     "text": [
      "[22]\tvalidation_0-mlogloss:0.03974\tvalidation_0-custom_f1_score:-0.99929\n"
     ]
    },
    {
     "name": "stdout",
     "output_type": "stream",
     "text": [
      "[23]\tvalidation_0-mlogloss:0.03509\tvalidation_0-custom_f1_score:-0.99938\n"
     ]
    },
    {
     "name": "stdout",
     "output_type": "stream",
     "text": [
      "[24]\tvalidation_0-mlogloss:0.03116\tvalidation_0-custom_f1_score:-0.99942\n"
     ]
    },
    {
     "name": "stdout",
     "output_type": "stream",
     "text": [
      "[25]\tvalidation_0-mlogloss:0.02780\tvalidation_0-custom_f1_score:-0.99942\n"
     ]
    },
    {
     "name": "stdout",
     "output_type": "stream",
     "text": [
      "[26]\tvalidation_0-mlogloss:0.02487\tvalidation_0-custom_f1_score:-0.99955\n"
     ]
    },
    {
     "name": "stdout",
     "output_type": "stream",
     "text": [
      "[27]\tvalidation_0-mlogloss:0.02242\tvalidation_0-custom_f1_score:-0.99964\n"
     ]
    },
    {
     "name": "stdout",
     "output_type": "stream",
     "text": [
      "[28]\tvalidation_0-mlogloss:0.02016\tvalidation_0-custom_f1_score:-0.99960\n"
     ]
    },
    {
     "name": "stdout",
     "output_type": "stream",
     "text": [
      "[29]\tvalidation_0-mlogloss:0.01846\tvalidation_0-custom_f1_score:-0.99947\n"
     ]
    },
    {
     "name": "stdout",
     "output_type": "stream",
     "text": [
      "[30]\tvalidation_0-mlogloss:0.01675\tvalidation_0-custom_f1_score:-0.99947\n"
     ]
    },
    {
     "name": "stdout",
     "output_type": "stream",
     "text": [
      "[31]\tvalidation_0-mlogloss:0.01543\tvalidation_0-custom_f1_score:-0.99947\n"
     ]
    },
    {
     "name": "stdout",
     "output_type": "stream",
     "text": [
      "[32]\tvalidation_0-mlogloss:0.01399\tvalidation_0-custom_f1_score:-0.99955\n"
     ]
    },
    {
     "name": "stdout",
     "output_type": "stream",
     "text": [
      "[33]\tvalidation_0-mlogloss:0.01301\tvalidation_0-custom_f1_score:-0.99955\n"
     ]
    },
    {
     "name": "stdout",
     "output_type": "stream",
     "text": [
      "[34]\tvalidation_0-mlogloss:0.01214\tvalidation_0-custom_f1_score:-0.99955\n"
     ]
    },
    {
     "name": "stdout",
     "output_type": "stream",
     "text": [
      "[35]\tvalidation_0-mlogloss:0.01132\tvalidation_0-custom_f1_score:-0.99951\n"
     ]
    },
    {
     "name": "stdout",
     "output_type": "stream",
     "text": [
      "[36]\tvalidation_0-mlogloss:0.01045\tvalidation_0-custom_f1_score:-0.99942\n"
     ]
    },
    {
     "name": "stdout",
     "output_type": "stream",
     "text": [
      "[37]\tvalidation_0-mlogloss:0.00987\tvalidation_0-custom_f1_score:-0.99942\n"
     ]
    },
    {
     "name": "stdout",
     "output_type": "stream",
     "text": [
      "[38]\tvalidation_0-mlogloss:0.00923\tvalidation_0-custom_f1_score:-0.99938\n"
     ]
    },
    {
     "name": "stdout",
     "output_type": "stream",
     "text": [
      "[39]\tvalidation_0-mlogloss:0.00866\tvalidation_0-custom_f1_score:-0.99942\n"
     ]
    },
    {
     "name": "stdout",
     "output_type": "stream",
     "text": [
      "[40]\tvalidation_0-mlogloss:0.00812\tvalidation_0-custom_f1_score:-0.99942\n"
     ]
    },
    {
     "name": "stdout",
     "output_type": "stream",
     "text": [
      "[41]\tvalidation_0-mlogloss:0.00780\tvalidation_0-custom_f1_score:-0.99942\n"
     ]
    },
    {
     "name": "stdout",
     "output_type": "stream",
     "text": [
      "[42]\tvalidation_0-mlogloss:0.00748\tvalidation_0-custom_f1_score:-0.99942\n"
     ]
    },
    {
     "name": "stdout",
     "output_type": "stream",
     "text": [
      "[43]\tvalidation_0-mlogloss:0.00700\tvalidation_0-custom_f1_score:-0.99946\n"
     ]
    },
    {
     "name": "stdout",
     "output_type": "stream",
     "text": [
      "[44]\tvalidation_0-mlogloss:0.00671\tvalidation_0-custom_f1_score:-0.99960\n"
     ]
    },
    {
     "name": "stdout",
     "output_type": "stream",
     "text": [
      "[45]\tvalidation_0-mlogloss:0.00663\tvalidation_0-custom_f1_score:-0.99960\n"
     ]
    },
    {
     "name": "stdout",
     "output_type": "stream",
     "text": [
      "[46]\tvalidation_0-mlogloss:0.00639\tvalidation_0-custom_f1_score:-0.99964\n"
     ]
    },
    {
     "name": "stdout",
     "output_type": "stream",
     "text": [
      "[47]\tvalidation_0-mlogloss:0.00602\tvalidation_0-custom_f1_score:-0.99969\n"
     ]
    },
    {
     "name": "stdout",
     "output_type": "stream",
     "text": [
      "[48]\tvalidation_0-mlogloss:0.00572\tvalidation_0-custom_f1_score:-0.99969\n"
     ]
    },
    {
     "name": "stdout",
     "output_type": "stream",
     "text": [
      "[49]\tvalidation_0-mlogloss:0.00558\tvalidation_0-custom_f1_score:-0.99969\n"
     ]
    },
    {
     "data": {
      "text/html": [
       "<style>#sk-container-id-1 {\n",
       "  /* Definition of color scheme common for light and dark mode */\n",
       "  --sklearn-color-text: black;\n",
       "  --sklearn-color-line: gray;\n",
       "  /* Definition of color scheme for unfitted estimators */\n",
       "  --sklearn-color-unfitted-level-0: #fff5e6;\n",
       "  --sklearn-color-unfitted-level-1: #f6e4d2;\n",
       "  --sklearn-color-unfitted-level-2: #ffe0b3;\n",
       "  --sklearn-color-unfitted-level-3: chocolate;\n",
       "  /* Definition of color scheme for fitted estimators */\n",
       "  --sklearn-color-fitted-level-0: #f0f8ff;\n",
       "  --sklearn-color-fitted-level-1: #d4ebff;\n",
       "  --sklearn-color-fitted-level-2: #b3dbfd;\n",
       "  --sklearn-color-fitted-level-3: cornflowerblue;\n",
       "\n",
       "  /* Specific color for light theme */\n",
       "  --sklearn-color-text-on-default-background: var(--sg-text-color, var(--theme-code-foreground, var(--jp-content-font-color1, black)));\n",
       "  --sklearn-color-background: var(--sg-background-color, var(--theme-background, var(--jp-layout-color0, white)));\n",
       "  --sklearn-color-border-box: var(--sg-text-color, var(--theme-code-foreground, var(--jp-content-font-color1, black)));\n",
       "  --sklearn-color-icon: #696969;\n",
       "\n",
       "  @media (prefers-color-scheme: dark) {\n",
       "    /* Redefinition of color scheme for dark theme */\n",
       "    --sklearn-color-text-on-default-background: var(--sg-text-color, var(--theme-code-foreground, var(--jp-content-font-color1, white)));\n",
       "    --sklearn-color-background: var(--sg-background-color, var(--theme-background, var(--jp-layout-color0, #111)));\n",
       "    --sklearn-color-border-box: var(--sg-text-color, var(--theme-code-foreground, var(--jp-content-font-color1, white)));\n",
       "    --sklearn-color-icon: #878787;\n",
       "  }\n",
       "}\n",
       "\n",
       "#sk-container-id-1 {\n",
       "  color: var(--sklearn-color-text);\n",
       "}\n",
       "\n",
       "#sk-container-id-1 pre {\n",
       "  padding: 0;\n",
       "}\n",
       "\n",
       "#sk-container-id-1 input.sk-hidden--visually {\n",
       "  border: 0;\n",
       "  clip: rect(1px 1px 1px 1px);\n",
       "  clip: rect(1px, 1px, 1px, 1px);\n",
       "  height: 1px;\n",
       "  margin: -1px;\n",
       "  overflow: hidden;\n",
       "  padding: 0;\n",
       "  position: absolute;\n",
       "  width: 1px;\n",
       "}\n",
       "\n",
       "#sk-container-id-1 div.sk-dashed-wrapped {\n",
       "  border: 1px dashed var(--sklearn-color-line);\n",
       "  margin: 0 0.4em 0.5em 0.4em;\n",
       "  box-sizing: border-box;\n",
       "  padding-bottom: 0.4em;\n",
       "  background-color: var(--sklearn-color-background);\n",
       "}\n",
       "\n",
       "#sk-container-id-1 div.sk-container {\n",
       "  /* jupyter's `normalize.less` sets `[hidden] { display: none; }`\n",
       "     but bootstrap.min.css set `[hidden] { display: none !important; }`\n",
       "     so we also need the `!important` here to be able to override the\n",
       "     default hidden behavior on the sphinx rendered scikit-learn.org.\n",
       "     See: https://github.com/scikit-learn/scikit-learn/issues/21755 */\n",
       "  display: inline-block !important;\n",
       "  position: relative;\n",
       "}\n",
       "\n",
       "#sk-container-id-1 div.sk-text-repr-fallback {\n",
       "  display: none;\n",
       "}\n",
       "\n",
       "div.sk-parallel-item,\n",
       "div.sk-serial,\n",
       "div.sk-item {\n",
       "  /* draw centered vertical line to link estimators */\n",
       "  background-image: linear-gradient(var(--sklearn-color-text-on-default-background), var(--sklearn-color-text-on-default-background));\n",
       "  background-size: 2px 100%;\n",
       "  background-repeat: no-repeat;\n",
       "  background-position: center center;\n",
       "}\n",
       "\n",
       "/* Parallel-specific style estimator block */\n",
       "\n",
       "#sk-container-id-1 div.sk-parallel-item::after {\n",
       "  content: \"\";\n",
       "  width: 100%;\n",
       "  border-bottom: 2px solid var(--sklearn-color-text-on-default-background);\n",
       "  flex-grow: 1;\n",
       "}\n",
       "\n",
       "#sk-container-id-1 div.sk-parallel {\n",
       "  display: flex;\n",
       "  align-items: stretch;\n",
       "  justify-content: center;\n",
       "  background-color: var(--sklearn-color-background);\n",
       "  position: relative;\n",
       "}\n",
       "\n",
       "#sk-container-id-1 div.sk-parallel-item {\n",
       "  display: flex;\n",
       "  flex-direction: column;\n",
       "}\n",
       "\n",
       "#sk-container-id-1 div.sk-parallel-item:first-child::after {\n",
       "  align-self: flex-end;\n",
       "  width: 50%;\n",
       "}\n",
       "\n",
       "#sk-container-id-1 div.sk-parallel-item:last-child::after {\n",
       "  align-self: flex-start;\n",
       "  width: 50%;\n",
       "}\n",
       "\n",
       "#sk-container-id-1 div.sk-parallel-item:only-child::after {\n",
       "  width: 0;\n",
       "}\n",
       "\n",
       "/* Serial-specific style estimator block */\n",
       "\n",
       "#sk-container-id-1 div.sk-serial {\n",
       "  display: flex;\n",
       "  flex-direction: column;\n",
       "  align-items: center;\n",
       "  background-color: var(--sklearn-color-background);\n",
       "  padding-right: 1em;\n",
       "  padding-left: 1em;\n",
       "}\n",
       "\n",
       "\n",
       "/* Toggleable style: style used for estimator/Pipeline/ColumnTransformer box that is\n",
       "clickable and can be expanded/collapsed.\n",
       "- Pipeline and ColumnTransformer use this feature and define the default style\n",
       "- Estimators will overwrite some part of the style using the `sk-estimator` class\n",
       "*/\n",
       "\n",
       "/* Pipeline and ColumnTransformer style (default) */\n",
       "\n",
       "#sk-container-id-1 div.sk-toggleable {\n",
       "  /* Default theme specific background. It is overwritten whether we have a\n",
       "  specific estimator or a Pipeline/ColumnTransformer */\n",
       "  background-color: var(--sklearn-color-background);\n",
       "}\n",
       "\n",
       "/* Toggleable label */\n",
       "#sk-container-id-1 label.sk-toggleable__label {\n",
       "  cursor: pointer;\n",
       "  display: block;\n",
       "  width: 100%;\n",
       "  margin-bottom: 0;\n",
       "  padding: 0.5em;\n",
       "  box-sizing: border-box;\n",
       "  text-align: center;\n",
       "}\n",
       "\n",
       "#sk-container-id-1 label.sk-toggleable__label-arrow:before {\n",
       "  /* Arrow on the left of the label */\n",
       "  content: \"▸\";\n",
       "  float: left;\n",
       "  margin-right: 0.25em;\n",
       "  color: var(--sklearn-color-icon);\n",
       "}\n",
       "\n",
       "#sk-container-id-1 label.sk-toggleable__label-arrow:hover:before {\n",
       "  color: var(--sklearn-color-text);\n",
       "}\n",
       "\n",
       "/* Toggleable content - dropdown */\n",
       "\n",
       "#sk-container-id-1 div.sk-toggleable__content {\n",
       "  max-height: 0;\n",
       "  max-width: 0;\n",
       "  overflow: hidden;\n",
       "  text-align: left;\n",
       "  /* unfitted */\n",
       "  background-color: var(--sklearn-color-unfitted-level-0);\n",
       "}\n",
       "\n",
       "#sk-container-id-1 div.sk-toggleable__content.fitted {\n",
       "  /* fitted */\n",
       "  background-color: var(--sklearn-color-fitted-level-0);\n",
       "}\n",
       "\n",
       "#sk-container-id-1 div.sk-toggleable__content pre {\n",
       "  margin: 0.2em;\n",
       "  border-radius: 0.25em;\n",
       "  color: var(--sklearn-color-text);\n",
       "  /* unfitted */\n",
       "  background-color: var(--sklearn-color-unfitted-level-0);\n",
       "}\n",
       "\n",
       "#sk-container-id-1 div.sk-toggleable__content.fitted pre {\n",
       "  /* unfitted */\n",
       "  background-color: var(--sklearn-color-fitted-level-0);\n",
       "}\n",
       "\n",
       "#sk-container-id-1 input.sk-toggleable__control:checked~div.sk-toggleable__content {\n",
       "  /* Expand drop-down */\n",
       "  max-height: 200px;\n",
       "  max-width: 100%;\n",
       "  overflow: auto;\n",
       "}\n",
       "\n",
       "#sk-container-id-1 input.sk-toggleable__control:checked~label.sk-toggleable__label-arrow:before {\n",
       "  content: \"▾\";\n",
       "}\n",
       "\n",
       "/* Pipeline/ColumnTransformer-specific style */\n",
       "\n",
       "#sk-container-id-1 div.sk-label input.sk-toggleable__control:checked~label.sk-toggleable__label {\n",
       "  color: var(--sklearn-color-text);\n",
       "  background-color: var(--sklearn-color-unfitted-level-2);\n",
       "}\n",
       "\n",
       "#sk-container-id-1 div.sk-label.fitted input.sk-toggleable__control:checked~label.sk-toggleable__label {\n",
       "  background-color: var(--sklearn-color-fitted-level-2);\n",
       "}\n",
       "\n",
       "/* Estimator-specific style */\n",
       "\n",
       "/* Colorize estimator box */\n",
       "#sk-container-id-1 div.sk-estimator input.sk-toggleable__control:checked~label.sk-toggleable__label {\n",
       "  /* unfitted */\n",
       "  background-color: var(--sklearn-color-unfitted-level-2);\n",
       "}\n",
       "\n",
       "#sk-container-id-1 div.sk-estimator.fitted input.sk-toggleable__control:checked~label.sk-toggleable__label {\n",
       "  /* fitted */\n",
       "  background-color: var(--sklearn-color-fitted-level-2);\n",
       "}\n",
       "\n",
       "#sk-container-id-1 div.sk-label label.sk-toggleable__label,\n",
       "#sk-container-id-1 div.sk-label label {\n",
       "  /* The background is the default theme color */\n",
       "  color: var(--sklearn-color-text-on-default-background);\n",
       "}\n",
       "\n",
       "/* On hover, darken the color of the background */\n",
       "#sk-container-id-1 div.sk-label:hover label.sk-toggleable__label {\n",
       "  color: var(--sklearn-color-text);\n",
       "  background-color: var(--sklearn-color-unfitted-level-2);\n",
       "}\n",
       "\n",
       "/* Label box, darken color on hover, fitted */\n",
       "#sk-container-id-1 div.sk-label.fitted:hover label.sk-toggleable__label.fitted {\n",
       "  color: var(--sklearn-color-text);\n",
       "  background-color: var(--sklearn-color-fitted-level-2);\n",
       "}\n",
       "\n",
       "/* Estimator label */\n",
       "\n",
       "#sk-container-id-1 div.sk-label label {\n",
       "  font-family: monospace;\n",
       "  font-weight: bold;\n",
       "  display: inline-block;\n",
       "  line-height: 1.2em;\n",
       "}\n",
       "\n",
       "#sk-container-id-1 div.sk-label-container {\n",
       "  text-align: center;\n",
       "}\n",
       "\n",
       "/* Estimator-specific */\n",
       "#sk-container-id-1 div.sk-estimator {\n",
       "  font-family: monospace;\n",
       "  border: 1px dotted var(--sklearn-color-border-box);\n",
       "  border-radius: 0.25em;\n",
       "  box-sizing: border-box;\n",
       "  margin-bottom: 0.5em;\n",
       "  /* unfitted */\n",
       "  background-color: var(--sklearn-color-unfitted-level-0);\n",
       "}\n",
       "\n",
       "#sk-container-id-1 div.sk-estimator.fitted {\n",
       "  /* fitted */\n",
       "  background-color: var(--sklearn-color-fitted-level-0);\n",
       "}\n",
       "\n",
       "/* on hover */\n",
       "#sk-container-id-1 div.sk-estimator:hover {\n",
       "  /* unfitted */\n",
       "  background-color: var(--sklearn-color-unfitted-level-2);\n",
       "}\n",
       "\n",
       "#sk-container-id-1 div.sk-estimator.fitted:hover {\n",
       "  /* fitted */\n",
       "  background-color: var(--sklearn-color-fitted-level-2);\n",
       "}\n",
       "\n",
       "/* Specification for estimator info (e.g. \"i\" and \"?\") */\n",
       "\n",
       "/* Common style for \"i\" and \"?\" */\n",
       "\n",
       ".sk-estimator-doc-link,\n",
       "a:link.sk-estimator-doc-link,\n",
       "a:visited.sk-estimator-doc-link {\n",
       "  float: right;\n",
       "  font-size: smaller;\n",
       "  line-height: 1em;\n",
       "  font-family: monospace;\n",
       "  background-color: var(--sklearn-color-background);\n",
       "  border-radius: 1em;\n",
       "  height: 1em;\n",
       "  width: 1em;\n",
       "  text-decoration: none !important;\n",
       "  margin-left: 1ex;\n",
       "  /* unfitted */\n",
       "  border: var(--sklearn-color-unfitted-level-1) 1pt solid;\n",
       "  color: var(--sklearn-color-unfitted-level-1);\n",
       "}\n",
       "\n",
       ".sk-estimator-doc-link.fitted,\n",
       "a:link.sk-estimator-doc-link.fitted,\n",
       "a:visited.sk-estimator-doc-link.fitted {\n",
       "  /* fitted */\n",
       "  border: var(--sklearn-color-fitted-level-1) 1pt solid;\n",
       "  color: var(--sklearn-color-fitted-level-1);\n",
       "}\n",
       "\n",
       "/* On hover */\n",
       "div.sk-estimator:hover .sk-estimator-doc-link:hover,\n",
       ".sk-estimator-doc-link:hover,\n",
       "div.sk-label-container:hover .sk-estimator-doc-link:hover,\n",
       ".sk-estimator-doc-link:hover {\n",
       "  /* unfitted */\n",
       "  background-color: var(--sklearn-color-unfitted-level-3);\n",
       "  color: var(--sklearn-color-background);\n",
       "  text-decoration: none;\n",
       "}\n",
       "\n",
       "div.sk-estimator.fitted:hover .sk-estimator-doc-link.fitted:hover,\n",
       ".sk-estimator-doc-link.fitted:hover,\n",
       "div.sk-label-container:hover .sk-estimator-doc-link.fitted:hover,\n",
       ".sk-estimator-doc-link.fitted:hover {\n",
       "  /* fitted */\n",
       "  background-color: var(--sklearn-color-fitted-level-3);\n",
       "  color: var(--sklearn-color-background);\n",
       "  text-decoration: none;\n",
       "}\n",
       "\n",
       "/* Span, style for the box shown on hovering the info icon */\n",
       ".sk-estimator-doc-link span {\n",
       "  display: none;\n",
       "  z-index: 9999;\n",
       "  position: relative;\n",
       "  font-weight: normal;\n",
       "  right: .2ex;\n",
       "  padding: .5ex;\n",
       "  margin: .5ex;\n",
       "  width: min-content;\n",
       "  min-width: 20ex;\n",
       "  max-width: 50ex;\n",
       "  color: var(--sklearn-color-text);\n",
       "  box-shadow: 2pt 2pt 4pt #999;\n",
       "  /* unfitted */\n",
       "  background: var(--sklearn-color-unfitted-level-0);\n",
       "  border: .5pt solid var(--sklearn-color-unfitted-level-3);\n",
       "}\n",
       "\n",
       ".sk-estimator-doc-link.fitted span {\n",
       "  /* fitted */\n",
       "  background: var(--sklearn-color-fitted-level-0);\n",
       "  border: var(--sklearn-color-fitted-level-3);\n",
       "}\n",
       "\n",
       ".sk-estimator-doc-link:hover span {\n",
       "  display: block;\n",
       "}\n",
       "\n",
       "/* \"?\"-specific style due to the `<a>` HTML tag */\n",
       "\n",
       "#sk-container-id-1 a.estimator_doc_link {\n",
       "  float: right;\n",
       "  font-size: 1rem;\n",
       "  line-height: 1em;\n",
       "  font-family: monospace;\n",
       "  background-color: var(--sklearn-color-background);\n",
       "  border-radius: 1rem;\n",
       "  height: 1rem;\n",
       "  width: 1rem;\n",
       "  text-decoration: none;\n",
       "  /* unfitted */\n",
       "  color: var(--sklearn-color-unfitted-level-1);\n",
       "  border: var(--sklearn-color-unfitted-level-1) 1pt solid;\n",
       "}\n",
       "\n",
       "#sk-container-id-1 a.estimator_doc_link.fitted {\n",
       "  /* fitted */\n",
       "  border: var(--sklearn-color-fitted-level-1) 1pt solid;\n",
       "  color: var(--sklearn-color-fitted-level-1);\n",
       "}\n",
       "\n",
       "/* On hover */\n",
       "#sk-container-id-1 a.estimator_doc_link:hover {\n",
       "  /* unfitted */\n",
       "  background-color: var(--sklearn-color-unfitted-level-3);\n",
       "  color: var(--sklearn-color-background);\n",
       "  text-decoration: none;\n",
       "}\n",
       "\n",
       "#sk-container-id-1 a.estimator_doc_link.fitted:hover {\n",
       "  /* fitted */\n",
       "  background-color: var(--sklearn-color-fitted-level-3);\n",
       "}\n",
       "</style><div id=\"sk-container-id-1\" class=\"sk-top-container\"><div class=\"sk-text-repr-fallback\"><pre>XGBClassifier(base_score=None, booster=None, callbacks=None,\n",
       "              colsample_bylevel=None, colsample_bynode=0.11616568805333755,\n",
       "              colsample_bytree=None, device=&#x27;gpu&#x27;, early_stopping_rounds=None,\n",
       "              enable_categorical=False,\n",
       "              eval_metric=&lt;function custom_f1_score at 0x7fe59aaf6700&gt;,\n",
       "              feature_types=None, gamma=None, grow_policy=None,\n",
       "              importance_type=None, interaction_constraints=None,\n",
       "              learning_rate=0.17780618353487967, max_bin=None,\n",
       "              max_cat_threshold=None, max_cat_to_onehot=None,\n",
       "              max_delta_step=None, max_depth=9, max_leaves=None,\n",
       "              min_child_weight=2, missing=nan, monotone_constraints=None,\n",
       "              multi_strategy=None, n_estimators=50, n_jobs=None,\n",
       "              num_parallel_tree=None, objective=&#x27;multi:softprob&#x27;, ...)</pre><b>In a Jupyter environment, please rerun this cell to show the HTML representation or trust the notebook. <br />On GitHub, the HTML representation is unable to render, please try loading this page with nbviewer.org.</b></div><div class=\"sk-container\" hidden><div class=\"sk-item\"><div class=\"sk-estimator fitted sk-toggleable\"><input class=\"sk-toggleable__control sk-hidden--visually\" id=\"sk-estimator-id-1\" type=\"checkbox\" checked><label for=\"sk-estimator-id-1\" class=\"sk-toggleable__label fitted sk-toggleable__label-arrow fitted\">&nbsp;XGBClassifier<span class=\"sk-estimator-doc-link fitted\">i<span>Fitted</span></span></label><div class=\"sk-toggleable__content fitted\"><pre>XGBClassifier(base_score=None, booster=None, callbacks=None,\n",
       "              colsample_bylevel=None, colsample_bynode=0.11616568805333755,\n",
       "              colsample_bytree=None, device=&#x27;gpu&#x27;, early_stopping_rounds=None,\n",
       "              enable_categorical=False,\n",
       "              eval_metric=&lt;function custom_f1_score at 0x7fe59aaf6700&gt;,\n",
       "              feature_types=None, gamma=None, grow_policy=None,\n",
       "              importance_type=None, interaction_constraints=None,\n",
       "              learning_rate=0.17780618353487967, max_bin=None,\n",
       "              max_cat_threshold=None, max_cat_to_onehot=None,\n",
       "              max_delta_step=None, max_depth=9, max_leaves=None,\n",
       "              min_child_weight=2, missing=nan, monotone_constraints=None,\n",
       "              multi_strategy=None, n_estimators=50, n_jobs=None,\n",
       "              num_parallel_tree=None, objective=&#x27;multi:softprob&#x27;, ...)</pre></div> </div></div></div></div>"
      ],
      "text/plain": [
       "XGBClassifier(base_score=None, booster=None, callbacks=None,\n",
       "              colsample_bylevel=None, colsample_bynode=0.11616568805333755,\n",
       "              colsample_bytree=None, device='gpu', early_stopping_rounds=None,\n",
       "              enable_categorical=False,\n",
       "              eval_metric=<function custom_f1_score at 0x7fe59aaf6700>,\n",
       "              feature_types=None, gamma=None, grow_policy=None,\n",
       "              importance_type=None, interaction_constraints=None,\n",
       "              learning_rate=0.17780618353487967, max_bin=None,\n",
       "              max_cat_threshold=None, max_cat_to_onehot=None,\n",
       "              max_delta_step=None, max_depth=9, max_leaves=None,\n",
       "              min_child_weight=2, missing=nan, monotone_constraints=None,\n",
       "              multi_strategy=None, n_estimators=50, n_jobs=None,\n",
       "              num_parallel_tree=None, objective='multi:softprob', ...)"
      ]
     },
     "execution_count": 24,
     "metadata": {},
     "output_type": "execute_result"
    }
   ],
   "source": [
    "n_estimators = int(study.best_trial.user_attrs['best_iteration']*1.2)\n",
    "xgb = xgboost.XGBClassifier(\n",
    "        device='gpu',\n",
    "        eval_metric=eval_metric,\n",
    "        n_estimators=n_estimators,\n",
    "        **study.best_trial.params\n",
    "    )\n",
    "xgb.fit(\n",
    "    ssp.vstack((X_train, X_val)), \n",
    "    np.concatenate((y_train_enc, y_val_enc)), \n",
    "    eval_set=[(X_test, y_test_enc)],\n",
    "    verbose=1,\n",
    ")"
   ]
  },
  {
   "cell_type": "code",
   "execution_count": 25,
   "id": "2ae47ca6",
   "metadata": {
    "editable": true,
    "execution": {
     "iopub.execute_input": "2025-03-17T18:11:37.005866Z",
     "iopub.status.busy": "2025-03-17T18:11:37.005446Z",
     "iopub.status.idle": "2025-03-17T18:11:37.086490Z",
     "shell.execute_reply": "2025-03-17T18:11:37.085624Z"
    },
    "papermill": {
     "duration": 0.12416,
     "end_time": "2025-03-17T18:11:37.087886",
     "exception": false,
     "start_time": "2025-03-17T18:11:36.963726",
     "status": "completed"
    },
    "slideshow": {
     "slide_type": ""
    },
    "tags": []
   },
   "outputs": [
    {
     "data": {
      "text/plain": [
       "['/scratch_isilon/groups/singlecell/shared/projects/Inflammation-PBMCs-Atlas/03_downstream_analysis/08_gene_importance/results/targetY_studyID/03_xgboost/best_model/studyID_UTC_xgb.json']"
      ]
     },
     "execution_count": 25,
     "metadata": {},
     "output_type": "execute_result"
    }
   ],
   "source": [
    "os.makedirs(here(f\"03_downstream_analysis/08_gene_importance/results/targetY_{target_y}/03_xgboost/best_model/\"), exist_ok=True)\n",
    "\n",
    "joblib.dump(xgb, (here(f'03_downstream_analysis/08_gene_importance/results/targetY_{target_y}/03_xgboost/best_model/{RUN_NAME}{CELL_TYPE}_xgb.json')))"
   ]
  },
  {
   "cell_type": "code",
   "execution_count": 26,
   "id": "1a3014bc",
   "metadata": {
    "execution": {
     "iopub.execute_input": "2025-03-17T18:11:37.176418Z",
     "iopub.status.busy": "2025-03-17T18:11:37.175573Z",
     "iopub.status.idle": "2025-03-17T18:11:38.630605Z",
     "shell.execute_reply": "2025-03-17T18:11:38.626626Z"
    },
    "papermill": {
     "duration": 1.509443,
     "end_time": "2025-03-17T18:11:38.637098",
     "exception": false,
     "start_time": "2025-03-17T18:11:37.127655",
     "status": "completed"
    },
    "tags": []
   },
   "outputs": [
    {
     "name": "stderr",
     "output_type": "stream",
     "text": [
      "/scratch_isilon/groups/singlecell/shared/conda_env/xgboostGPU/lib/python3.12/site-packages/xgboost/core.py:160: UserWarning:\n",
      "\n",
      "[18:11:37] WARNING: /home/conda/feedstock_root/build_artifacts/xgboost-split_1703076482591/work/src/common/error_msg.cc:58: Falling back to prediction using DMatrix due to mismatched devices. This might lead to higher memory usage and slower performance. XGBoost is running on: cuda:0, while the input data is on: cpu.\n",
      "Potential solutions:\n",
      "- Use a data structure that matches the device ordinal in the booster.\n",
      "- Set the device for booster before call to inplace_predict.\n",
      "\n",
      "This warning will only be shown once.\n",
      "\n",
      "\n"
     ]
    }
   ],
   "source": [
    "os.makedirs(here(f\"03_downstream_analysis/08_gene_importance/results/targetY_{target_y}/03_xgboost/predictions/\"), exist_ok=True)\n",
    "\n",
    "(pd.DataFrame(np.array((y_test, y_test_enc, xgb.predict(X_test))).T, columns=['y_true', 'y_true_code', 'y_pred'])\n",
    " .to_csv(here(f'03_downstream_analysis/08_gene_importance/results/targetY_{target_y}/03_xgboost/predictions/{RUN_NAME}{CELL_TYPE}_pred_test.zip')))\n",
    "(pd.DataFrame(np.array((y_train, y_train_enc, xgb.predict(X_train))).T, columns=['y_true', 'y_true_code', 'y_pred'])\n",
    " .to_csv(here(f'03_downstream_analysis/08_gene_importance/results/targetY_{target_y}/03_xgboost/predictions/{RUN_NAME}{CELL_TYPE}_pred_train.zip')))"
   ]
  },
  {
   "cell_type": "code",
   "execution_count": null,
   "id": "98a263e2",
   "metadata": {
    "papermill": {
     "duration": 0.030825,
     "end_time": "2025-03-17T18:11:38.708082",
     "exception": false,
     "start_time": "2025-03-17T18:11:38.677257",
     "status": "completed"
    },
    "tags": []
   },
   "outputs": [],
   "source": []
  }
 ],
 "metadata": {
  "kernelspec": {
   "display_name": "Python 3 (ipykernel)",
   "language": "python",
   "name": "python3"
  },
  "language_info": {
   "codemirror_mode": {
    "name": "ipython",
    "version": 3
   },
   "file_extension": ".py",
   "mimetype": "text/x-python",
   "name": "python",
   "nbconvert_exporter": "python",
   "pygments_lexer": "ipython3",
   "version": "3.12.9"
  },
  "papermill": {
   "default_parameters": {},
   "duration": 475.691426,
   "end_time": "2025-03-17T18:11:41.570434",
   "environment_variables": {},
   "exception": null,
   "input_path": "02_studyID_xgboost_fitting.ipynb",
   "output_path": "executed_notebooks/02_studyID_xgboost_fitting_UTC.ipynb",
   "parameters": {
    "CELL_TYPE": "UTC"
   },
   "start_time": "2025-03-17T18:03:45.879008",
   "version": "2.6.0"
  }
 },
 "nbformat": 4,
 "nbformat_minor": 5
}