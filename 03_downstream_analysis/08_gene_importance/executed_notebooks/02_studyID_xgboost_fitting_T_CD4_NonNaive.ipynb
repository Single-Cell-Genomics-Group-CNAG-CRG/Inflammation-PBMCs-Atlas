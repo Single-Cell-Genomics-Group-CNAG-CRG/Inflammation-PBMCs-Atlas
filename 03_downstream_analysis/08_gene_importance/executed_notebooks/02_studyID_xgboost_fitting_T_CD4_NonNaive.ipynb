{
 "cells": [
  {
   "cell_type": "code",
   "execution_count": 1,
   "id": "c38b3ab1",
   "metadata": {
    "editable": true,
    "execution": {
     "iopub.execute_input": "2025-03-18T04:52:17.323307Z",
     "iopub.status.busy": "2025-03-18T04:52:17.323066Z",
     "iopub.status.idle": "2025-03-18T04:52:17.326082Z",
     "shell.execute_reply": "2025-03-18T04:52:17.325697Z"
    },
    "papermill": {
     "duration": 0.018174,
     "end_time": "2025-03-18T04:52:17.326788",
     "exception": false,
     "start_time": "2025-03-18T04:52:17.308614",
     "status": "completed"
    },
    "slideshow": {
     "slide_type": ""
    },
    "tags": [
     "parameters"
    ]
   },
   "outputs": [],
   "source": [
    "CELL_TYPE = 'DC'\n",
    "N_SPLITS: int = 5\n",
    "N_TRIALS: int = 50\n",
    "RUN_NAME: str = \"studyID\""
   ]
  },
  {
   "cell_type": "code",
   "execution_count": 2,
   "id": "579d5bd8",
   "metadata": {
    "execution": {
     "iopub.execute_input": "2025-03-18T04:52:17.362038Z",
     "iopub.status.busy": "2025-03-18T04:52:17.361728Z",
     "iopub.status.idle": "2025-03-18T04:52:17.368482Z",
     "shell.execute_reply": "2025-03-18T04:52:17.365974Z"
    },
    "papermill": {
     "duration": 0.020578,
     "end_time": "2025-03-18T04:52:17.369175",
     "exception": false,
     "start_time": "2025-03-18T04:52:17.348597",
     "status": "completed"
    },
    "tags": [
     "injected-parameters"
    ]
   },
   "outputs": [],
   "source": [
    "# Parameters\n",
    "CELL_TYPE = \"T_CD4_NonNaive\"\n"
   ]
  },
  {
   "cell_type": "code",
   "execution_count": 3,
   "id": "1381b9de",
   "metadata": {
    "editable": true,
    "execution": {
     "iopub.execute_input": "2025-03-18T04:52:17.415978Z",
     "iopub.status.busy": "2025-03-18T04:52:17.415666Z",
     "iopub.status.idle": "2025-03-18T04:52:17.420391Z",
     "shell.execute_reply": "2025-03-18T04:52:17.417685Z"
    },
    "papermill": {
     "duration": 0.026188,
     "end_time": "2025-03-18T04:52:17.421045",
     "exception": false,
     "start_time": "2025-03-18T04:52:17.394857",
     "status": "completed"
    },
    "slideshow": {
     "slide_type": ""
    },
    "tags": []
   },
   "outputs": [],
   "source": [
    "if RUN_NAME != \"\":\n",
    "    RUN_NAME = RUN_NAME + \"_\""
   ]
  },
  {
   "cell_type": "code",
   "execution_count": 4,
   "id": "d81e4376",
   "metadata": {
    "editable": true,
    "execution": {
     "iopub.execute_input": "2025-03-18T04:52:17.441404Z",
     "iopub.status.busy": "2025-03-18T04:52:17.441071Z",
     "iopub.status.idle": "2025-03-18T04:52:23.479334Z",
     "shell.execute_reply": "2025-03-18T04:52:23.477999Z"
    },
    "papermill": {
     "duration": 6.051702,
     "end_time": "2025-03-18T04:52:23.480955",
     "exception": false,
     "start_time": "2025-03-18T04:52:17.429253",
     "status": "completed"
    },
    "slideshow": {
     "slide_type": ""
    },
    "tags": []
   },
   "outputs": [],
   "source": [
    "import os\n",
    "import sys\n",
    "#from pyprojroot.here import here\n",
    "\n",
    "import pandas as pd\n",
    "import anndata as ad\n",
    "import numpy as np\n",
    "import math\n",
    "from sklearn.model_selection import StratifiedGroupKFold\n",
    "from sklearn.preprocessing import LabelEncoder\n",
    "from sklearn.metrics import f1_score\n",
    "import matplotlib.pyplot as plt\n",
    "import seaborn as sns\n",
    "from itertools import product\n",
    "\n",
    "import optuna\n",
    "\n",
    "import joblib\n",
    "import pickle\n",
    "import datetime\n",
    "\n",
    "import collections\n",
    "\n",
    "import xgboost\n",
    "from sklearn.preprocessing import LabelEncoder\n",
    "\n",
    "import scipy.sparse as ssp\n",
    "import joblib\n",
    "\n",
    "from pyprojroot import here\n",
    "\n",
    "from dotenv import load_dotenv"
   ]
  },
  {
   "cell_type": "code",
   "execution_count": 5,
   "id": "3056d541",
   "metadata": {
    "execution": {
     "iopub.execute_input": "2025-03-18T04:52:23.520812Z",
     "iopub.status.busy": "2025-03-18T04:52:23.519874Z",
     "iopub.status.idle": "2025-03-18T04:52:23.528137Z",
     "shell.execute_reply": "2025-03-18T04:52:23.527729Z"
    },
    "papermill": {
     "duration": 0.037933,
     "end_time": "2025-03-18T04:52:23.529158",
     "exception": false,
     "start_time": "2025-03-18T04:52:23.491225",
     "status": "completed"
    },
    "tags": []
   },
   "outputs": [],
   "source": [
    "assert load_dotenv()"
   ]
  },
  {
   "cell_type": "markdown",
   "id": "a415d69b",
   "metadata": {
    "execution": {
     "iopub.execute_input": "2025-03-17T14:39:30.205388Z",
     "iopub.status.busy": "2025-03-17T14:39:30.204197Z",
     "iopub.status.idle": "2025-03-17T14:39:30.210586Z",
     "shell.execute_reply": "2025-03-17T14:39:30.209317Z",
     "shell.execute_reply.started": "2025-03-17T14:39:30.205342Z"
    },
    "papermill": {
     "duration": 0.01137,
     "end_time": "2025-03-18T04:52:23.548968",
     "exception": false,
     "start_time": "2025-03-18T04:52:23.537598",
     "status": "completed"
    },
    "tags": []
   },
   "source": [
    "def here(fpath):\n",
    "    return os.path.join(BUCKET_DIRPATH, fpath)"
   ]
  },
  {
   "cell_type": "code",
   "execution_count": 6,
   "id": "da27f3d2",
   "metadata": {
    "execution": {
     "iopub.execute_input": "2025-03-18T04:52:23.574660Z",
     "iopub.status.busy": "2025-03-18T04:52:23.574465Z",
     "iopub.status.idle": "2025-03-18T04:52:23.576677Z",
     "shell.execute_reply": "2025-03-18T04:52:23.576269Z"
    },
    "papermill": {
     "duration": 0.018163,
     "end_time": "2025-03-18T04:52:23.577510",
     "exception": false,
     "start_time": "2025-03-18T04:52:23.559347",
     "status": "completed"
    },
    "tags": []
   },
   "outputs": [],
   "source": [
    "target_y = 'studyID'"
   ]
  },
  {
   "cell_type": "markdown",
   "id": "d031ffff",
   "metadata": {
    "papermill": {
     "duration": 0.024676,
     "end_time": "2025-03-18T04:52:23.622704",
     "exception": false,
     "start_time": "2025-03-18T04:52:23.598028",
     "status": "completed"
    },
    "tags": []
   },
   "source": [
    "# LOAD DATASET"
   ]
  },
  {
   "cell_type": "code",
   "execution_count": 7,
   "id": "6cb8d8dd",
   "metadata": {
    "execution": {
     "iopub.execute_input": "2025-03-18T04:52:23.659116Z",
     "iopub.status.busy": "2025-03-18T04:52:23.658938Z",
     "iopub.status.idle": "2025-03-18T04:52:26.321056Z",
     "shell.execute_reply": "2025-03-18T04:52:26.318043Z"
    },
    "papermill": {
     "duration": 2.677995,
     "end_time": "2025-03-18T04:52:26.325458",
     "exception": false,
     "start_time": "2025-03-18T04:52:23.647463",
     "status": "completed"
    },
    "tags": []
   },
   "outputs": [],
   "source": [
    "adata = ad.read_h5ad(\n",
    "    str(here(f'03_downstream_analysis/08_gene_importance/data/{CELL_TYPE}_adataMerged_SPECTRAgenes.log1p.h5ad')),\n",
    "    backed='r',\n",
    "    chunk_size=25000\n",
    ")"
   ]
  },
  {
   "cell_type": "code",
   "execution_count": 8,
   "id": "4f85210c",
   "metadata": {
    "execution": {
     "iopub.execute_input": "2025-03-18T04:52:26.389982Z",
     "iopub.status.busy": "2025-03-18T04:52:26.389646Z",
     "iopub.status.idle": "2025-03-18T04:52:26.440104Z",
     "shell.execute_reply": "2025-03-18T04:52:26.435592Z"
    },
    "papermill": {
     "duration": 0.09977,
     "end_time": "2025-03-18T04:52:26.442694",
     "exception": false,
     "start_time": "2025-03-18T04:52:26.342924",
     "status": "completed"
    },
    "tags": []
   },
   "outputs": [
    {
     "data": {
      "text/html": [
       "<div>\n",
       "<style scoped>\n",
       "    .dataframe tbody tr th:only-of-type {\n",
       "        vertical-align: middle;\n",
       "    }\n",
       "\n",
       "    .dataframe tbody tr th {\n",
       "        vertical-align: top;\n",
       "    }\n",
       "\n",
       "    .dataframe thead th {\n",
       "        text-align: right;\n",
       "    }\n",
       "</style>\n",
       "<table border=\"1\" class=\"dataframe\">\n",
       "  <thead>\n",
       "    <tr style=\"text-align: right;\">\n",
       "      <th></th>\n",
       "      <th>studyID</th>\n",
       "      <th>libraryID</th>\n",
       "      <th>sampleID</th>\n",
       "      <th>chemistry</th>\n",
       "      <th>disease</th>\n",
       "      <th>sex</th>\n",
       "      <th>binned_age</th>\n",
       "      <th>Level1</th>\n",
       "      <th>Level2</th>\n",
       "    </tr>\n",
       "    <tr>\n",
       "      <th>cellID</th>\n",
       "      <th></th>\n",
       "      <th></th>\n",
       "      <th></th>\n",
       "      <th></th>\n",
       "      <th></th>\n",
       "      <th></th>\n",
       "      <th></th>\n",
       "      <th></th>\n",
       "      <th></th>\n",
       "    </tr>\n",
       "  </thead>\n",
       "  <tbody>\n",
       "    <tr>\n",
       "      <th>Perez2022_L032_IGTB1650_T0_AAAGCAAAGACAAAGG</th>\n",
       "      <td>Perez2022</td>\n",
       "      <td>Perez2022_L032</td>\n",
       "      <td>Perez2022_IGTB1650_T0</td>\n",
       "      <td>3_GEX_V2</td>\n",
       "      <td>healthy</td>\n",
       "      <td>female</td>\n",
       "      <td>31-40</td>\n",
       "      <td>T_CD4_NonNaive</td>\n",
       "      <td>Th1</td>\n",
       "    </tr>\n",
       "    <tr>\n",
       "      <th>Perez2022_L032_IGTB1650_T0_AAAGTAGCAAATACAG</th>\n",
       "      <td>Perez2022</td>\n",
       "      <td>Perez2022_L032</td>\n",
       "      <td>Perez2022_IGTB1650_T0</td>\n",
       "      <td>3_GEX_V2</td>\n",
       "      <td>healthy</td>\n",
       "      <td>female</td>\n",
       "      <td>31-40</td>\n",
       "      <td>T_CD4_NonNaive</td>\n",
       "      <td>Th1</td>\n",
       "    </tr>\n",
       "    <tr>\n",
       "      <th>Perez2022_L032_IGTB1650_T0_AAATGCCGTCCCTACT</th>\n",
       "      <td>Perez2022</td>\n",
       "      <td>Perez2022_L032</td>\n",
       "      <td>Perez2022_IGTB1650_T0</td>\n",
       "      <td>3_GEX_V2</td>\n",
       "      <td>healthy</td>\n",
       "      <td>female</td>\n",
       "      <td>31-40</td>\n",
       "      <td>T_CD4_NonNaive</td>\n",
       "      <td>T_CD4_CM_ribo</td>\n",
       "    </tr>\n",
       "    <tr>\n",
       "      <th>Perez2022_L032_IGTB1650_T0_AAATGCCTCACATACG</th>\n",
       "      <td>Perez2022</td>\n",
       "      <td>Perez2022_L032</td>\n",
       "      <td>Perez2022_IGTB1650_T0</td>\n",
       "      <td>3_GEX_V2</td>\n",
       "      <td>healthy</td>\n",
       "      <td>female</td>\n",
       "      <td>31-40</td>\n",
       "      <td>T_CD4_NonNaive</td>\n",
       "      <td>T_CD4_EM</td>\n",
       "    </tr>\n",
       "    <tr>\n",
       "      <th>Perez2022_L032_IGTB1650_T0_AAATGCCTCCAACCAA</th>\n",
       "      <td>Perez2022</td>\n",
       "      <td>Perez2022_L032</td>\n",
       "      <td>Perez2022_IGTB1650_T0</td>\n",
       "      <td>3_GEX_V2</td>\n",
       "      <td>healthy</td>\n",
       "      <td>female</td>\n",
       "      <td>31-40</td>\n",
       "      <td>T_CD4_NonNaive</td>\n",
       "      <td>T_CD4_eff</td>\n",
       "    </tr>\n",
       "    <tr>\n",
       "      <th>...</th>\n",
       "      <td>...</td>\n",
       "      <td>...</td>\n",
       "      <td>...</td>\n",
       "      <td>...</td>\n",
       "      <td>...</td>\n",
       "      <td>...</td>\n",
       "      <td>...</td>\n",
       "      <td>...</td>\n",
       "      <td>...</td>\n",
       "    </tr>\n",
       "    <tr>\n",
       "      <th>Perez2022_L021_1338_T0_TTCTCCTCAGTATCTG</th>\n",
       "      <td>Perez2022</td>\n",
       "      <td>Perez2022_L021</td>\n",
       "      <td>Perez2022_1338_T0</td>\n",
       "      <td>3_GEX_V2</td>\n",
       "      <td>SLE</td>\n",
       "      <td>female</td>\n",
       "      <td>41-50</td>\n",
       "      <td>T_CD4_NonNaive</td>\n",
       "      <td>T_CD4_eff</td>\n",
       "    </tr>\n",
       "    <tr>\n",
       "      <th>Perez2022_L021_1338_T0_TTCTTAGCATCGTCGG</th>\n",
       "      <td>Perez2022</td>\n",
       "      <td>Perez2022_L021</td>\n",
       "      <td>Perez2022_1338_T0</td>\n",
       "      <td>3_GEX_V2</td>\n",
       "      <td>SLE</td>\n",
       "      <td>female</td>\n",
       "      <td>41-50</td>\n",
       "      <td>T_CD4_NonNaive</td>\n",
       "      <td>Th0</td>\n",
       "    </tr>\n",
       "    <tr>\n",
       "      <th>Perez2022_L021_1338_T0_TTGACTTTCGTCTGCT</th>\n",
       "      <td>Perez2022</td>\n",
       "      <td>Perez2022_L021</td>\n",
       "      <td>Perez2022_1338_T0</td>\n",
       "      <td>3_GEX_V2</td>\n",
       "      <td>SLE</td>\n",
       "      <td>female</td>\n",
       "      <td>41-50</td>\n",
       "      <td>T_CD4_NonNaive</td>\n",
       "      <td>T_CD4_EM</td>\n",
       "    </tr>\n",
       "    <tr>\n",
       "      <th>Perez2022_L021_1338_T0_TTGGAACGTACCTACA</th>\n",
       "      <td>Perez2022</td>\n",
       "      <td>Perez2022_L021</td>\n",
       "      <td>Perez2022_1338_T0</td>\n",
       "      <td>3_GEX_V2</td>\n",
       "      <td>SLE</td>\n",
       "      <td>female</td>\n",
       "      <td>41-50</td>\n",
       "      <td>T_CD4_NonNaive</td>\n",
       "      <td>T_CD4_EM</td>\n",
       "    </tr>\n",
       "    <tr>\n",
       "      <th>Perez2022_L021_1338_T0_TTTGGTTGTCCTGCTT</th>\n",
       "      <td>Perez2022</td>\n",
       "      <td>Perez2022_L021</td>\n",
       "      <td>Perez2022_1338_T0</td>\n",
       "      <td>3_GEX_V2</td>\n",
       "      <td>SLE</td>\n",
       "      <td>female</td>\n",
       "      <td>41-50</td>\n",
       "      <td>T_CD4_NonNaive</td>\n",
       "      <td>T_CD4_EM</td>\n",
       "    </tr>\n",
       "  </tbody>\n",
       "</table>\n",
       "<p>712248 rows × 9 columns</p>\n",
       "</div>"
      ],
      "text/plain": [
       "                                               studyID       libraryID  \\\n",
       "cellID                                                                   \n",
       "Perez2022_L032_IGTB1650_T0_AAAGCAAAGACAAAGG  Perez2022  Perez2022_L032   \n",
       "Perez2022_L032_IGTB1650_T0_AAAGTAGCAAATACAG  Perez2022  Perez2022_L032   \n",
       "Perez2022_L032_IGTB1650_T0_AAATGCCGTCCCTACT  Perez2022  Perez2022_L032   \n",
       "Perez2022_L032_IGTB1650_T0_AAATGCCTCACATACG  Perez2022  Perez2022_L032   \n",
       "Perez2022_L032_IGTB1650_T0_AAATGCCTCCAACCAA  Perez2022  Perez2022_L032   \n",
       "...                                                ...             ...   \n",
       "Perez2022_L021_1338_T0_TTCTCCTCAGTATCTG      Perez2022  Perez2022_L021   \n",
       "Perez2022_L021_1338_T0_TTCTTAGCATCGTCGG      Perez2022  Perez2022_L021   \n",
       "Perez2022_L021_1338_T0_TTGACTTTCGTCTGCT      Perez2022  Perez2022_L021   \n",
       "Perez2022_L021_1338_T0_TTGGAACGTACCTACA      Perez2022  Perez2022_L021   \n",
       "Perez2022_L021_1338_T0_TTTGGTTGTCCTGCTT      Perez2022  Perez2022_L021   \n",
       "\n",
       "                                                          sampleID chemistry  \\\n",
       "cellID                                                                         \n",
       "Perez2022_L032_IGTB1650_T0_AAAGCAAAGACAAAGG  Perez2022_IGTB1650_T0  3_GEX_V2   \n",
       "Perez2022_L032_IGTB1650_T0_AAAGTAGCAAATACAG  Perez2022_IGTB1650_T0  3_GEX_V2   \n",
       "Perez2022_L032_IGTB1650_T0_AAATGCCGTCCCTACT  Perez2022_IGTB1650_T0  3_GEX_V2   \n",
       "Perez2022_L032_IGTB1650_T0_AAATGCCTCACATACG  Perez2022_IGTB1650_T0  3_GEX_V2   \n",
       "Perez2022_L032_IGTB1650_T0_AAATGCCTCCAACCAA  Perez2022_IGTB1650_T0  3_GEX_V2   \n",
       "...                                                            ...       ...   \n",
       "Perez2022_L021_1338_T0_TTCTCCTCAGTATCTG          Perez2022_1338_T0  3_GEX_V2   \n",
       "Perez2022_L021_1338_T0_TTCTTAGCATCGTCGG          Perez2022_1338_T0  3_GEX_V2   \n",
       "Perez2022_L021_1338_T0_TTGACTTTCGTCTGCT          Perez2022_1338_T0  3_GEX_V2   \n",
       "Perez2022_L021_1338_T0_TTGGAACGTACCTACA          Perez2022_1338_T0  3_GEX_V2   \n",
       "Perez2022_L021_1338_T0_TTTGGTTGTCCTGCTT          Perez2022_1338_T0  3_GEX_V2   \n",
       "\n",
       "                                             disease     sex binned_age  \\\n",
       "cellID                                                                    \n",
       "Perez2022_L032_IGTB1650_T0_AAAGCAAAGACAAAGG  healthy  female      31-40   \n",
       "Perez2022_L032_IGTB1650_T0_AAAGTAGCAAATACAG  healthy  female      31-40   \n",
       "Perez2022_L032_IGTB1650_T0_AAATGCCGTCCCTACT  healthy  female      31-40   \n",
       "Perez2022_L032_IGTB1650_T0_AAATGCCTCACATACG  healthy  female      31-40   \n",
       "Perez2022_L032_IGTB1650_T0_AAATGCCTCCAACCAA  healthy  female      31-40   \n",
       "...                                              ...     ...        ...   \n",
       "Perez2022_L021_1338_T0_TTCTCCTCAGTATCTG          SLE  female      41-50   \n",
       "Perez2022_L021_1338_T0_TTCTTAGCATCGTCGG          SLE  female      41-50   \n",
       "Perez2022_L021_1338_T0_TTGACTTTCGTCTGCT          SLE  female      41-50   \n",
       "Perez2022_L021_1338_T0_TTGGAACGTACCTACA          SLE  female      41-50   \n",
       "Perez2022_L021_1338_T0_TTTGGTTGTCCTGCTT          SLE  female      41-50   \n",
       "\n",
       "                                                     Level1         Level2  \n",
       "cellID                                                                      \n",
       "Perez2022_L032_IGTB1650_T0_AAAGCAAAGACAAAGG  T_CD4_NonNaive            Th1  \n",
       "Perez2022_L032_IGTB1650_T0_AAAGTAGCAAATACAG  T_CD4_NonNaive            Th1  \n",
       "Perez2022_L032_IGTB1650_T0_AAATGCCGTCCCTACT  T_CD4_NonNaive  T_CD4_CM_ribo  \n",
       "Perez2022_L032_IGTB1650_T0_AAATGCCTCACATACG  T_CD4_NonNaive       T_CD4_EM  \n",
       "Perez2022_L032_IGTB1650_T0_AAATGCCTCCAACCAA  T_CD4_NonNaive      T_CD4_eff  \n",
       "...                                                     ...            ...  \n",
       "Perez2022_L021_1338_T0_TTCTCCTCAGTATCTG      T_CD4_NonNaive      T_CD4_eff  \n",
       "Perez2022_L021_1338_T0_TTCTTAGCATCGTCGG      T_CD4_NonNaive            Th0  \n",
       "Perez2022_L021_1338_T0_TTGACTTTCGTCTGCT      T_CD4_NonNaive       T_CD4_EM  \n",
       "Perez2022_L021_1338_T0_TTGGAACGTACCTACA      T_CD4_NonNaive       T_CD4_EM  \n",
       "Perez2022_L021_1338_T0_TTTGGTTGTCCTGCTT      T_CD4_NonNaive       T_CD4_EM  \n",
       "\n",
       "[712248 rows x 9 columns]"
      ]
     },
     "execution_count": 8,
     "metadata": {},
     "output_type": "execute_result"
    }
   ],
   "source": [
    "adata.obs"
   ]
  },
  {
   "cell_type": "markdown",
   "id": "ea9e06fe",
   "metadata": {
    "papermill": {
     "duration": 0.015529,
     "end_time": "2025-03-18T04:52:26.474871",
     "exception": false,
     "start_time": "2025-03-18T04:52:26.459342",
     "status": "completed"
    },
    "tags": []
   },
   "source": [
    "# EXTRACT INDEXES FOR DATA SPLITTING (STRATIFIED BY DISEASE, GROUPED BY PATIENT)\n",
    "\n",
    "# EXTRACT CELL COUNTS PER SPLIT (TO MAKE SURE THAT RATIOS RESEMBLE 70:20:10)"
   ]
  },
  {
   "cell_type": "code",
   "execution_count": 9,
   "id": "7fb963b7",
   "metadata": {
    "execution": {
     "iopub.execute_input": "2025-03-18T04:52:26.512569Z",
     "iopub.status.busy": "2025-03-18T04:52:26.508174Z",
     "iopub.status.idle": "2025-03-18T04:52:30.250513Z",
     "shell.execute_reply": "2025-03-18T04:52:30.249994Z"
    },
    "papermill": {
     "duration": 3.760241,
     "end_time": "2025-03-18T04:52:30.251700",
     "exception": false,
     "start_time": "2025-03-18T04:52:26.491459",
     "status": "completed"
    },
    "tags": []
   },
   "outputs": [],
   "source": [
    "all_idxs = np.arange(adata.obs.shape[0])\n",
    "left_out_splits = [s[1] for s in StratifiedGroupKFold(n_splits=N_SPLITS).split(all_idxs, adata.obs[target_y], adata.obs.sampleID)]\n",
    "\n",
    "min_stats = []\n",
    "for val_fold_idx, test_fold_idx in product(range(N_SPLITS), range(1,N_SPLITS)):\n",
    "    if val_fold_idx == test_fold_idx:\n",
    "        continue\n",
    "\n",
    "    all_idxs = np.arange(adata.obs.shape[0])\n",
    "    val_idxs, test_idxs = left_out_splits[val_fold_idx], left_out_splits[test_fold_idx]\n",
    "    train_idxs = np.delete(all_idxs, np.union1d(val_idxs, test_idxs))\n",
    "\n",
    "    cell_count_df = []\n",
    "    cell_count_df.append(adata.obs.iloc[train_idxs].groupby(target_y, observed=False).size().to_frame(name='cell_count').reset_index().assign(split='train'))\n",
    "    cell_count_df.append(adata.obs.iloc[val_idxs].groupby(target_y, observed=False).size().to_frame(name='cell_count').reset_index().assign(split='val'))\n",
    "    cell_count_df.append(adata.obs.iloc[test_idxs].groupby(target_y, observed=False).size().to_frame(name='cell_count').reset_index().assign(split='test'))\n",
    "    cell_count_df = pd.concat(cell_count_df).pivot(index=target_y, columns='split', values='cell_count')\n",
    "    cell_plot_data = cell_count_df.div(cell_count_df.sum(axis=1), axis=0).reset_index().melt(id_vars=target_y)\n",
    "    min_stats.append((val_fold_idx, test_fold_idx, cell_plot_data.query('split==\"train\"').value.min(), cell_plot_data.query('split==\"test\"').value.min()))"
   ]
  },
  {
   "cell_type": "markdown",
   "id": "35d90f2d",
   "metadata": {
    "papermill": {
     "duration": 0.010949,
     "end_time": "2025-03-18T04:52:30.276435",
     "exception": false,
     "start_time": "2025-03-18T04:52:30.265486",
     "status": "completed"
    },
    "tags": []
   },
   "source": [
    "# CALCULATE RATIOS OF PATIENTS IN TRAINING AND TESTING SET: splits that best fit the expected ratios"
   ]
  },
  {
   "cell_type": "code",
   "execution_count": 10,
   "id": "8b934e47",
   "metadata": {
    "execution": {
     "iopub.execute_input": "2025-03-18T04:52:30.323075Z",
     "iopub.status.busy": "2025-03-18T04:52:30.322665Z",
     "iopub.status.idle": "2025-03-18T04:52:30.340846Z",
     "shell.execute_reply": "2025-03-18T04:52:30.340484Z"
    },
    "papermill": {
     "duration": 0.04291,
     "end_time": "2025-03-18T04:52:30.346655",
     "exception": false,
     "start_time": "2025-03-18T04:52:30.303745",
     "status": "completed"
    },
    "tags": []
   },
   "outputs": [
    {
     "data": {
      "text/html": [
       "<div>\n",
       "<style scoped>\n",
       "    .dataframe tbody tr th:only-of-type {\n",
       "        vertical-align: middle;\n",
       "    }\n",
       "\n",
       "    .dataframe tbody tr th {\n",
       "        vertical-align: top;\n",
       "    }\n",
       "\n",
       "    .dataframe thead th {\n",
       "        text-align: right;\n",
       "    }\n",
       "</style>\n",
       "<table border=\"1\" class=\"dataframe\">\n",
       "  <thead>\n",
       "    <tr style=\"text-align: right;\">\n",
       "      <th></th>\n",
       "      <th>val_idx</th>\n",
       "      <th>test_idx</th>\n",
       "      <th>train_min</th>\n",
       "      <th>test_mean</th>\n",
       "      <th>ranking</th>\n",
       "    </tr>\n",
       "  </thead>\n",
       "  <tbody>\n",
       "    <tr>\n",
       "      <th>12</th>\n",
       "      <td>3</td>\n",
       "      <td>4</td>\n",
       "      <td>0.863263</td>\n",
       "      <td>0.665693</td>\n",
       "      <td>0.574668</td>\n",
       "    </tr>\n",
       "    <tr>\n",
       "      <th>3</th>\n",
       "      <td>0</td>\n",
       "      <td>4</td>\n",
       "      <td>0.920269</td>\n",
       "      <td>0.665693</td>\n",
       "      <td>0.612617</td>\n",
       "    </tr>\n",
       "    <tr>\n",
       "      <th>10</th>\n",
       "      <td>3</td>\n",
       "      <td>1</td>\n",
       "      <td>0.692018</td>\n",
       "      <td>0.910847</td>\n",
       "      <td>0.630322</td>\n",
       "    </tr>\n",
       "    <tr>\n",
       "      <th>11</th>\n",
       "      <td>3</td>\n",
       "      <td>2</td>\n",
       "      <td>0.836286</td>\n",
       "      <td>0.753941</td>\n",
       "      <td>0.630510</td>\n",
       "    </tr>\n",
       "    <tr>\n",
       "      <th>9</th>\n",
       "      <td>2</td>\n",
       "      <td>4</td>\n",
       "      <td>0.977502</td>\n",
       "      <td>0.665693</td>\n",
       "      <td>0.650717</td>\n",
       "    </tr>\n",
       "    <tr>\n",
       "      <th>6</th>\n",
       "      <td>1</td>\n",
       "      <td>4</td>\n",
       "      <td>1.000000</td>\n",
       "      <td>0.665693</td>\n",
       "      <td>0.665693</td>\n",
       "    </tr>\n",
       "    <tr>\n",
       "      <th>5</th>\n",
       "      <td>1</td>\n",
       "      <td>3</td>\n",
       "      <td>0.692018</td>\n",
       "      <td>1.000000</td>\n",
       "      <td>0.692018</td>\n",
       "    </tr>\n",
       "    <tr>\n",
       "      <th>4</th>\n",
       "      <td>1</td>\n",
       "      <td>2</td>\n",
       "      <td>0.928141</td>\n",
       "      <td>0.753941</td>\n",
       "      <td>0.699764</td>\n",
       "    </tr>\n",
       "    <tr>\n",
       "      <th>1</th>\n",
       "      <td>0</td>\n",
       "      <td>2</td>\n",
       "      <td>0.947953</td>\n",
       "      <td>0.753941</td>\n",
       "      <td>0.714700</td>\n",
       "    </tr>\n",
       "    <tr>\n",
       "      <th>14</th>\n",
       "      <td>4</td>\n",
       "      <td>2</td>\n",
       "      <td>0.977502</td>\n",
       "      <td>0.753941</td>\n",
       "      <td>0.736979</td>\n",
       "    </tr>\n",
       "    <tr>\n",
       "      <th>2</th>\n",
       "      <td>0</td>\n",
       "      <td>3</td>\n",
       "      <td>0.808722</td>\n",
       "      <td>1.000000</td>\n",
       "      <td>0.808722</td>\n",
       "    </tr>\n",
       "    <tr>\n",
       "      <th>8</th>\n",
       "      <td>2</td>\n",
       "      <td>3</td>\n",
       "      <td>0.836286</td>\n",
       "      <td>1.000000</td>\n",
       "      <td>0.836286</td>\n",
       "    </tr>\n",
       "    <tr>\n",
       "      <th>7</th>\n",
       "      <td>2</td>\n",
       "      <td>1</td>\n",
       "      <td>0.928141</td>\n",
       "      <td>0.910847</td>\n",
       "      <td>0.845395</td>\n",
       "    </tr>\n",
       "    <tr>\n",
       "      <th>15</th>\n",
       "      <td>4</td>\n",
       "      <td>3</td>\n",
       "      <td>0.863263</td>\n",
       "      <td>1.000000</td>\n",
       "      <td>0.863263</td>\n",
       "    </tr>\n",
       "    <tr>\n",
       "      <th>0</th>\n",
       "      <td>0</td>\n",
       "      <td>1</td>\n",
       "      <td>0.960866</td>\n",
       "      <td>0.910847</td>\n",
       "      <td>0.875202</td>\n",
       "    </tr>\n",
       "    <tr>\n",
       "      <th>13</th>\n",
       "      <td>4</td>\n",
       "      <td>1</td>\n",
       "      <td>1.000000</td>\n",
       "      <td>0.910847</td>\n",
       "      <td>0.910847</td>\n",
       "    </tr>\n",
       "  </tbody>\n",
       "</table>\n",
       "</div>"
      ],
      "text/plain": [
       "    val_idx  test_idx  train_min  test_mean   ranking\n",
       "12        3         4   0.863263   0.665693  0.574668\n",
       "3         0         4   0.920269   0.665693  0.612617\n",
       "10        3         1   0.692018   0.910847  0.630322\n",
       "11        3         2   0.836286   0.753941  0.630510\n",
       "9         2         4   0.977502   0.665693  0.650717\n",
       "6         1         4   1.000000   0.665693  0.665693\n",
       "5         1         3   0.692018   1.000000  0.692018\n",
       "4         1         2   0.928141   0.753941  0.699764\n",
       "1         0         2   0.947953   0.753941  0.714700\n",
       "14        4         2   0.977502   0.753941  0.736979\n",
       "2         0         3   0.808722   1.000000  0.808722\n",
       "8         2         3   0.836286   1.000000  0.836286\n",
       "7         2         1   0.928141   0.910847  0.845395\n",
       "15        4         3   0.863263   1.000000  0.863263\n",
       "0         0         1   0.960866   0.910847  0.875202\n",
       "13        4         1   1.000000   0.910847  0.910847"
      ]
     },
     "execution_count": 10,
     "metadata": {},
     "output_type": "execute_result"
    }
   ],
   "source": [
    "split_rankings_df = (pd.DataFrame(min_stats, columns=['val_idx', 'test_idx', 'train_min', 'test_mean'])\n",
    " .assign(train_min = lambda df: df.train_min / df.train_min.max())\n",
    " .assign(test_mean = lambda df: df.test_mean / df.test_mean.max())\n",
    " .assign(ranking = lambda df: df.test_mean * df.train_min)\n",
    " .sort_values('ranking'))\n",
    "split_rankings_df"
   ]
  },
  {
   "cell_type": "code",
   "execution_count": 11,
   "id": "674dbce6",
   "metadata": {
    "execution": {
     "iopub.execute_input": "2025-03-18T04:52:30.368766Z",
     "iopub.status.busy": "2025-03-18T04:52:30.368499Z",
     "iopub.status.idle": "2025-03-18T04:52:30.389418Z",
     "shell.execute_reply": "2025-03-18T04:52:30.388975Z"
    },
    "papermill": {
     "duration": 0.032654,
     "end_time": "2025-03-18T04:52:30.390154",
     "exception": false,
     "start_time": "2025-03-18T04:52:30.357500",
     "status": "completed"
    },
    "tags": []
   },
   "outputs": [],
   "source": [
    "best_split = split_rankings_df.loc[split_rankings_df['ranking'].idxmax()]\n",
    "all_idxs = np.arange(adata.obs.shape[0])\n",
    "val_idxs, test_idxs = left_out_splits[best_split.val_idx.astype(int)], left_out_splits[best_split.test_idx.astype(int)]\n",
    "train_idxs = np.delete(all_idxs, np.union1d(val_idxs, test_idxs))"
   ]
  },
  {
   "cell_type": "markdown",
   "id": "726e51bf",
   "metadata": {
    "papermill": {
     "duration": 0.018183,
     "end_time": "2025-03-18T04:52:30.419173",
     "exception": false,
     "start_time": "2025-03-18T04:52:30.400990",
     "status": "completed"
    },
    "tags": []
   },
   "source": [
    "### CHECK NUMBER OF CELLS PER SPLIT"
   ]
  },
  {
   "cell_type": "code",
   "execution_count": 12,
   "id": "5ee58271",
   "metadata": {
    "execution": {
     "iopub.execute_input": "2025-03-18T04:52:30.461428Z",
     "iopub.status.busy": "2025-03-18T04:52:30.460969Z",
     "iopub.status.idle": "2025-03-18T04:52:30.653487Z",
     "shell.execute_reply": "2025-03-18T04:52:30.652655Z"
    },
    "papermill": {
     "duration": 0.223181,
     "end_time": "2025-03-18T04:52:30.655229",
     "exception": false,
     "start_time": "2025-03-18T04:52:30.432048",
     "status": "completed"
    },
    "tags": []
   },
   "outputs": [],
   "source": [
    "cell_count_df = []\n",
    "cell_count_df.append(adata.obs.iloc[train_idxs].groupby(target_y, observed=False).size().to_frame(name='cell_count').reset_index().assign(split='train'))\n",
    "cell_count_df.append(adata.obs.iloc[val_idxs].groupby(target_y, observed=False).size().to_frame(name='cell_count').reset_index().assign(split='val'))\n",
    "cell_count_df.append(adata.obs.iloc[test_idxs].groupby(target_y, observed=False).size().to_frame(name='cell_count').reset_index().assign(split='test'))\n",
    "cell_count_df = pd.concat(cell_count_df).pivot(index=target_y, columns='split', values='cell_count')\n",
    "cell_plot_data = cell_count_df.div(cell_count_df.sum(axis=1), axis=0).reset_index().melt(id_vars=target_y)\n",
    "\n",
    "pat_count_df = []\n",
    "pat_count_df.append(adata.obs.iloc[train_idxs].groupby(target_y, observed=False).sampleID.nunique().to_frame(name='patient_count').reset_index().assign(split='train'))\n",
    "pat_count_df.append(adata.obs.iloc[val_idxs].groupby(target_y, observed=False).sampleID.nunique().to_frame(name='patient_count').reset_index().assign(split='val'))\n",
    "pat_count_df.append(adata.obs.iloc[test_idxs].groupby(target_y, observed=False).sampleID.nunique().to_frame(name='patient_count').reset_index().assign(split='test'))\n",
    "pd.concat(pat_count_df).pivot(index=target_y, columns='split', values='patient_count')\n",
    "pat_count_df = pd.concat(pat_count_df).pivot(index=target_y, columns='split', values='patient_count')\n",
    "pat_count_df = pat_count_df.div(pat_count_df.sum(axis=1), axis=0)\n",
    "pat_plot_data = pat_count_df.div(pat_count_df.sum(axis=1), axis=0).reset_index().melt(id_vars=target_y)\n",
    "\n",
    "train_pats = set(adata.obs.iloc[train_idxs].sampleID)\n",
    "test_pats = set(adata.obs.iloc[test_idxs].sampleID)\n",
    "val_pats = set(adata.obs.iloc[val_idxs].sampleID)"
   ]
  },
  {
   "cell_type": "code",
   "execution_count": 13,
   "id": "1910df1a",
   "metadata": {
    "execution": {
     "iopub.execute_input": "2025-03-18T04:52:30.672832Z",
     "iopub.status.busy": "2025-03-18T04:52:30.672547Z",
     "iopub.status.idle": "2025-03-18T04:52:30.675836Z",
     "shell.execute_reply": "2025-03-18T04:52:30.675283Z"
    },
    "papermill": {
     "duration": 0.010992,
     "end_time": "2025-03-18T04:52:30.676749",
     "exception": false,
     "start_time": "2025-03-18T04:52:30.665757",
     "status": "completed"
    },
    "tags": []
   },
   "outputs": [],
   "source": [
    "assert val_pats.intersection(test_pats) != {}\n",
    "assert train_pats.intersection(test_pats) != {}\n",
    "assert train_pats.intersection(val_pats) != {}"
   ]
  },
  {
   "cell_type": "markdown",
   "id": "78c075b5",
   "metadata": {
    "papermill": {
     "duration": 0.019858,
     "end_time": "2025-03-18T04:52:30.703020",
     "exception": false,
     "start_time": "2025-03-18T04:52:30.683162",
     "status": "completed"
    },
    "tags": []
   },
   "source": [
    "### PLOT PATIENT AND CELL DISTRIBUTION ACROSS TRAIN, TEST, AND VALIDATION SETS PER DISEASE\n",
    "### CHECK THAT THEY APPROXIMATE EXPECTATION"
   ]
  },
  {
   "cell_type": "code",
   "execution_count": 14,
   "id": "7c30cb54",
   "metadata": {
    "execution": {
     "iopub.execute_input": "2025-03-18T04:52:30.734148Z",
     "iopub.status.busy": "2025-03-18T04:52:30.733845Z",
     "iopub.status.idle": "2025-03-18T04:52:32.444721Z",
     "shell.execute_reply": "2025-03-18T04:52:32.440000Z"
    },
    "papermill": {
     "duration": 1.725178,
     "end_time": "2025-03-18T04:52:32.449065",
     "exception": false,
     "start_time": "2025-03-18T04:52:30.723887",
     "status": "completed"
    },
    "tags": []
   },
   "outputs": [
    {
     "data": {
      "image/png": "[encoded data removed]",
      "text/plain": [
       "<Figure size 2000x600 with 2 Axes>"
      ]
     },
     "metadata": {},
     "output_type": "display_data"
    }
   ],
   "source": [
    "_, axs = plt.subplots(1, 2, figsize=(20, 6))\n",
    "sns.barplot(x=target_y, y='value', hue='split', data=cell_plot_data, ax=axs[0])\n",
    "axs[0].set_title('Cell distribution')\n",
    "axs[0].tick_params(axis='x', labelrotation=90)\n",
    "sns.barplot(x=target_y, y='value', hue='split', data=pat_plot_data, ax=axs[1])\n",
    "axs[1].set_title('Patients distribution')\n",
    "axs[1].tick_params(axis='x', labelrotation=90)\n",
    "\n",
    "os.makedirs(here(f\"03_downstream_analysis/08_gene_importance/results/targetY_{target_y}/01_split_plots/\"), exist_ok=True)\n",
    "\n",
    "plt.savefig(here(f'03_downstream_analysis/08_gene_importance/results/targetY_{target_y}/01_split_plots/{RUN_NAME}{CELL_TYPE}_split_quality.pdf'), bbox_inches='tight', dpi=300)"
   ]
  },
  {
   "cell_type": "code",
   "execution_count": 15,
   "id": "1643c5f5",
   "metadata": {
    "execution": {
     "iopub.execute_input": "2025-03-18T04:52:32.472980Z",
     "iopub.status.busy": "2025-03-18T04:52:32.472639Z",
     "iopub.status.idle": "2025-03-18T04:52:32.579600Z",
     "shell.execute_reply": "2025-03-18T04:52:32.575990Z"
    },
    "papermill": {
     "duration": 0.125439,
     "end_time": "2025-03-18T04:52:32.584816",
     "exception": false,
     "start_time": "2025-03-18T04:52:32.459377",
     "status": "completed"
    },
    "tags": []
   },
   "outputs": [],
   "source": [
    "os.makedirs(here(f\"03_downstream_analysis/08_gene_importance/results/targetY_{target_y}/02_preprocessing/\"), exist_ok=True)\n",
    "\n",
    "np.save(here(f\"03_downstream_analysis/08_gene_importance/results/targetY_{target_y}/02_preprocessing/{RUN_NAME}{CELL_TYPE}_train_idxs.npy\"), train_idxs)\n",
    "np.save(here(f\"03_downstream_analysis/08_gene_importance/results/targetY_{target_y}/02_preprocessing/{RUN_NAME}{CELL_TYPE}_val_idxs.npy\"), val_idxs)\n",
    "np.save(here(f\"03_downstream_analysis/08_gene_importance/results/targetY_{target_y}/02_preprocessing/{RUN_NAME}{CELL_TYPE}_test_idxs.npy\"), test_idxs)"
   ]
  },
  {
   "cell_type": "markdown",
   "id": "4584cc30",
   "metadata": {
    "papermill": {
     "duration": 0.030287,
     "end_time": "2025-03-18T04:52:32.651547",
     "exception": false,
     "start_time": "2025-03-18T04:52:32.621260",
     "status": "completed"
    },
    "tags": []
   },
   "source": [
    "### SUBSET DATASET INTO TRAIN/TEST/VAL SPLITS"
   ]
  },
  {
   "cell_type": "code",
   "execution_count": 16,
   "id": "2c555051",
   "metadata": {
    "execution": {
     "iopub.execute_input": "2025-03-18T04:52:32.700459Z",
     "iopub.status.busy": "2025-03-18T04:52:32.700018Z",
     "iopub.status.idle": "2025-03-18T04:53:59.333160Z",
     "shell.execute_reply": "2025-03-18T04:53:59.332645Z"
    },
    "papermill": {
     "duration": 86.675937,
     "end_time": "2025-03-18T04:53:59.340540",
     "exception": false,
     "start_time": "2025-03-18T04:52:32.664603",
     "status": "completed"
    },
    "tags": []
   },
   "outputs": [
    {
     "data": {
      "text/plain": [
       "((427576, 935), (142811, 935), (141861, 935))"
      ]
     },
     "execution_count": 16,
     "metadata": {},
     "output_type": "execute_result"
    }
   ],
   "source": [
    "X_train = adata.X[train_idxs]\n",
    "X_test = adata.X[test_idxs]\n",
    "X_val = adata.X[val_idxs]\n",
    "X_train.shape, X_test.shape, X_val.shape"
   ]
  },
  {
   "cell_type": "code",
   "execution_count": 17,
   "id": "011ea863",
   "metadata": {
    "execution": {
     "iopub.execute_input": "2025-03-18T04:53:59.376709Z",
     "iopub.status.busy": "2025-03-18T04:53:59.375780Z",
     "iopub.status.idle": "2025-03-18T04:53:59.469982Z",
     "shell.execute_reply": "2025-03-18T04:53:59.469045Z"
    },
    "papermill": {
     "duration": 0.122481,
     "end_time": "2025-03-18T04:53:59.471283",
     "exception": false,
     "start_time": "2025-03-18T04:53:59.348802",
     "status": "completed"
    },
    "tags": []
   },
   "outputs": [
    {
     "data": {
      "text/plain": [
       "((427576,), (142811,), (141861,))"
      ]
     },
     "execution_count": 17,
     "metadata": {},
     "output_type": "execute_result"
    }
   ],
   "source": [
    "y_train = adata.obs.iloc[train_idxs][target_y].values.astype(str)\n",
    "y_test = adata.obs.iloc[test_idxs][target_y].values.astype(str)\n",
    "y_val = adata.obs.iloc[val_idxs][target_y].values.astype(str)\n",
    "y_train.shape, y_test.shape, y_val.shape "
   ]
  },
  {
   "cell_type": "code",
   "execution_count": 18,
   "id": "01a59e8d",
   "metadata": {
    "execution": {
     "iopub.execute_input": "2025-03-18T04:53:59.525875Z",
     "iopub.status.busy": "2025-03-18T04:53:59.524892Z",
     "iopub.status.idle": "2025-03-18T04:53:59.693734Z",
     "shell.execute_reply": "2025-03-18T04:53:59.693253Z"
    },
    "papermill": {
     "duration": 0.193698,
     "end_time": "2025-03-18T04:53:59.695891",
     "exception": false,
     "start_time": "2025-03-18T04:53:59.502193",
     "status": "completed"
    },
    "tags": []
   },
   "outputs": [],
   "source": [
    "lenc = LabelEncoder()\n",
    "y_train_enc = lenc.fit_transform(y_train)\n",
    "y_val_enc = lenc.transform(y_val)\n",
    "y_test_enc = lenc.transform(y_test)"
   ]
  },
  {
   "cell_type": "markdown",
   "id": "3a4221e2",
   "metadata": {
    "papermill": {
     "duration": 0.007871,
     "end_time": "2025-03-18T04:53:59.742482",
     "exception": false,
     "start_time": "2025-03-18T04:53:59.734611",
     "status": "completed"
    },
    "tags": []
   },
   "source": [
    "### GENERATE F1 "
   ]
  },
  {
   "cell_type": "code",
   "execution_count": 19,
   "id": "da03bd98",
   "metadata": {
    "execution": {
     "iopub.execute_input": "2025-03-18T04:53:59.768178Z",
     "iopub.status.busy": "2025-03-18T04:53:59.767801Z",
     "iopub.status.idle": "2025-03-18T04:53:59.771334Z",
     "shell.execute_reply": "2025-03-18T04:53:59.770750Z"
    },
    "papermill": {
     "duration": 0.012708,
     "end_time": "2025-03-18T04:53:59.772193",
     "exception": false,
     "start_time": "2025-03-18T04:53:59.759485",
     "status": "completed"
    },
    "tags": []
   },
   "outputs": [],
   "source": [
    "def custom_f1_score(y_true, y_pred):\n",
    "    return -f1_score(y_true, y_pred.argmax(1), average='weighted')"
   ]
  },
  {
   "cell_type": "code",
   "execution_count": 20,
   "id": "c6f7214a",
   "metadata": {
    "execution": {
     "iopub.execute_input": "2025-03-18T04:53:59.823616Z",
     "iopub.status.busy": "2025-03-18T04:53:59.822964Z",
     "iopub.status.idle": "2025-03-18T04:53:59.833075Z",
     "shell.execute_reply": "2025-03-18T04:53:59.831944Z"
    },
    "papermill": {
     "duration": 0.020625,
     "end_time": "2025-03-18T04:53:59.834504",
     "exception": false,
     "start_time": "2025-03-18T04:53:59.813879",
     "status": "completed"
    },
    "tags": []
   },
   "outputs": [],
   "source": [
    "eval_metric=custom_f1_score\n",
    "eval_metric_name='custom_f1_score'\n",
    "\n",
    "def objective(trial):\n",
    "    params = {\n",
    "        'sampling_method': 'gradient_based',\n",
    "        'n_estimators': 1500,\n",
    "        'max_depth': trial.suggest_int('max_depth', 3, 20),\n",
    "        'min_child_weight': trial.suggest_int('min_child_weight', 1, 250),\n",
    "        'subsample': trial.suggest_float('subsample', 0.1, 1.0),\n",
    "        'colsample_bynode': trial.suggest_float('colsample_bynode', 0.1, 1.0),\n",
    "        'learning_rate': trial.suggest_float('learning_rate', 1e-3, 5e-1, log=True),\n",
    "    }\n",
    "    pruning_callback = optuna.integration.XGBoostPruningCallback(trial, f'validation_0-{eval_metric_name}')\n",
    "    xgb = xgboost.XGBClassifier(\n",
    "        device='gpu',\n",
    "        eval_metric=eval_metric,\n",
    "        early_stopping_rounds=20,\n",
    "        callbacks=[pruning_callback],\n",
    "        **params\n",
    "    )\n",
    "    xgb.fit(\n",
    "        X_train, \n",
    "        y_train_enc, \n",
    "        verbose=0,\n",
    "        eval_set=[(X_val, y_val_enc)],\n",
    "    )\n",
    "    trial.set_user_attr('best_iteration', xgb.best_iteration)\n",
    "\n",
    "    return xgb.best_score"
   ]
  },
  {
   "cell_type": "code",
   "execution_count": 21,
   "id": "0f9204ef",
   "metadata": {
    "execution": {
     "iopub.execute_input": "2025-03-18T04:53:59.902320Z",
     "iopub.status.busy": "2025-03-18T04:53:59.901661Z",
     "iopub.status.idle": "2025-03-18T05:17:49.627477Z",
     "shell.execute_reply": "2025-03-18T05:17:49.626953Z"
    },
    "papermill": {
     "duration": 1429.76558,
     "end_time": "2025-03-18T05:17:49.628896",
     "exception": false,
     "start_time": "2025-03-18T04:53:59.863316",
     "status": "completed"
    },
    "tags": []
   },
   "outputs": [
    {
     "name": "stderr",
     "output_type": "stream",
     "text": [
      "[I 2025-03-18 04:53:59,906] A new study created in memory with name: no-name-782c5f6b-f272-4d4e-914f-8cea279a626b\n"
     ]
    },
    {
     "name": "stderr",
     "output_type": "stream",
     "text": [
      "/tmp/ipykernel_1362290/350114600.py:4: ExperimentalWarning: WeightsAndBiasesCallback is experimental (supported from v2.9.0). The interface can change in the future.\n",
      "  wandbc = optuna.integration.WeightsAndBiasesCallback(wandb_kwargs=wandb_kwargs)\n",
      "\u001b[34m\u001b[1mwandb\u001b[0m: Using wandb-core as the SDK backend.  Please refer to https://wandb.me/wandb-core for more information.\n"
     ]
    },
    {
     "name": "stderr",
     "output_type": "stream",
     "text": [
      "\u001b[34m\u001b[1mwandb\u001b[0m: Currently logged in as: \u001b[33mdav1989\u001b[0m (\u001b[33minflammation\u001b[0m) to \u001b[32mhttps://api.wandb.ai\u001b[0m. Use \u001b[1m`wandb login --relogin`\u001b[0m to force relogin\n"
     ]
    },
    {
     "name": "stderr",
     "output_type": "stream",
     "text": [
      "\u001b[34m\u001b[1mwandb\u001b[0m: Tracking run with wandb version 0.19.8\n"
     ]
    },
    {
     "name": "stderr",
     "output_type": "stream",
     "text": [
      "\u001b[34m\u001b[1mwandb\u001b[0m: Run data is saved locally in \u001b[35m\u001b[1m/scratch_isilon/groups/singlecell/shared/projects/Inflammation-PBMCs-Atlas/03_downstream_analysis/08_gene_importance/wandb/run-20250318_045404-i1da7mcc\u001b[0m\n",
      "\u001b[34m\u001b[1mwandb\u001b[0m: Run \u001b[1m`wandb offline`\u001b[0m to turn off syncing.\n"
     ]
    },
    {
     "name": "stderr",
     "output_type": "stream",
     "text": [
      "\u001b[34m\u001b[1mwandb\u001b[0m: Syncing run \u001b[33mstudyID_T_CD4_NonNaive\u001b[0m\n"
     ]
    },
    {
     "name": "stderr",
     "output_type": "stream",
     "text": [
      "\u001b[34m\u001b[1mwandb\u001b[0m: ⭐️ View project at \u001b[34m\u001b[4mhttps://wandb.ai/inflammation/xgboost\u001b[0m\n"
     ]
    },
    {
     "name": "stderr",
     "output_type": "stream",
     "text": [
      "\u001b[34m\u001b[1mwandb\u001b[0m: 🚀 View run at \u001b[34m\u001b[4mhttps://wandb.ai/inflammation/xgboost/runs/i1da7mcc\u001b[0m\n"
     ]
    },
    {
     "name": "stderr",
     "output_type": "stream",
     "text": [
      "[I 2025-03-18 04:57:57,249] Trial 0 finished with value: -0.991057 and parameters: {'max_depth': 9, 'min_child_weight': 238, 'subsample': 0.7587945476302645, 'colsample_bynode': 0.6387926357773329, 'learning_rate': 0.0026368755339723046}. Best is trial 0 with value: -0.991057.\n"
     ]
    },
    {
     "name": "stderr",
     "output_type": "stream",
     "text": [
      "[I 2025-03-18 04:59:03,887] Trial 1 finished with value: -0.997325 and parameters: {'max_depth': 5, 'min_child_weight': 15, 'subsample': 0.8795585311974417, 'colsample_bynode': 0.6410035105688879, 'learning_rate': 0.08148293210105287}. Best is trial 1 with value: -0.997325.\n"
     ]
    },
    {
     "name": "stderr",
     "output_type": "stream",
     "text": [
      "[I 2025-03-18 05:03:12,258] Trial 2 finished with value: -0.991658 and parameters: {'max_depth': 3, 'min_child_weight': 243, 'subsample': 0.8491983767203796, 'colsample_bynode': 0.29110519961044856, 'learning_rate': 0.003095566460242371}. Best is trial 1 with value: -0.997325.\n"
     ]
    },
    {
     "name": "stderr",
     "output_type": "stream",
     "text": [
      "[I 2025-03-18 05:03:48,024] Trial 3 finished with value: -0.991141 and parameters: {'max_depth': 6, 'min_child_weight': 77, 'subsample': 0.5722807884690141, 'colsample_bynode': 0.48875051677790415, 'learning_rate': 0.006109683510122491}. Best is trial 1 with value: -0.997325.\n"
     ]
    },
    {
     "name": "stderr",
     "output_type": "stream",
     "text": [
      "[I 2025-03-18 05:06:05,372] Trial 4 finished with value: -0.995067 and parameters: {'max_depth': 14, 'min_child_weight': 35, 'subsample': 0.3629301836816964, 'colsample_bynode': 0.4297256589643226, 'learning_rate': 0.01701841881702917}. Best is trial 1 with value: -0.997325.\n"
     ]
    },
    {
     "name": "stderr",
     "output_type": "stream",
     "text": [
      "[I 2025-03-18 05:06:24,724] Trial 5 finished with value: -0.989693 and parameters: {'max_depth': 17, 'min_child_weight': 50, 'subsample': 0.5628109945722505, 'colsample_bynode': 0.6331731119758383, 'learning_rate': 0.0013346527038305934}. Best is trial 1 with value: -0.997325.\n"
     ]
    },
    {
     "name": "stderr",
     "output_type": "stream",
     "text": [
      "[I 2025-03-18 05:06:48,157] Trial 6 finished with value: -0.996907 and parameters: {'max_depth': 13, 'min_child_weight': 43, 'subsample': 0.1585464336867516, 'colsample_bynode': 0.9539969835279999, 'learning_rate': 0.4038423798071558}. Best is trial 1 with value: -0.997325.\n"
     ]
    },
    {
     "name": "stderr",
     "output_type": "stream",
     "text": [
      "[I 2025-03-18 05:06:55,192] Trial 7 pruned. Trial was pruned at iteration 0.\n"
     ]
    },
    {
     "name": "stderr",
     "output_type": "stream",
     "text": [
      "[I 2025-03-18 05:07:02,726] Trial 8 pruned. Trial was pruned at iteration 0.\n"
     ]
    },
    {
     "name": "stderr",
     "output_type": "stream",
     "text": [
      "[I 2025-03-18 05:07:13,229] Trial 9 pruned. Trial was pruned at iteration 4.\n"
     ]
    },
    {
     "name": "stderr",
     "output_type": "stream",
     "text": [
      "[I 2025-03-18 05:08:16,003] Trial 10 finished with value: -0.994899 and parameters: {'max_depth': 9, 'min_child_weight': 2, 'subsample': 0.9725833997090791, 'colsample_bynode': 0.11616568805333755, 'learning_rate': 0.17780618353487967}. Best is trial 1 with value: -0.997325.\n"
     ]
    },
    {
     "name": "stderr",
     "output_type": "stream",
     "text": [
      "[I 2025-03-18 05:08:45,120] Trial 11 finished with value: -0.996663 and parameters: {'max_depth': 11, 'min_child_weight': 3, 'subsample': 0.35229864280210643, 'colsample_bynode': 0.9522656887511343, 'learning_rate': 0.4085535814821633}. Best is trial 1 with value: -0.997325.\n"
     ]
    },
    {
     "name": "stderr",
     "output_type": "stream",
     "text": [
      "[I 2025-03-18 05:08:53,959] Trial 12 pruned. Trial was pruned at iteration 0.\n"
     ]
    },
    {
     "name": "stderr",
     "output_type": "stream",
     "text": [
      "[I 2025-03-18 05:09:02,581] Trial 13 pruned. Trial was pruned at iteration 0.\n"
     ]
    },
    {
     "name": "stderr",
     "output_type": "stream",
     "text": [
      "[I 2025-03-18 05:09:11,392] Trial 14 pruned. Trial was pruned at iteration 0.\n"
     ]
    },
    {
     "name": "stderr",
     "output_type": "stream",
     "text": [
      "[I 2025-03-18 05:09:21,003] Trial 15 pruned. Trial was pruned at iteration 1.\n"
     ]
    },
    {
     "name": "stderr",
     "output_type": "stream",
     "text": [
      "[I 2025-03-18 05:09:30,030] Trial 16 pruned. Trial was pruned at iteration 0.\n"
     ]
    },
    {
     "name": "stderr",
     "output_type": "stream",
     "text": [
      "[I 2025-03-18 05:09:39,273] Trial 17 pruned. Trial was pruned at iteration 1.\n"
     ]
    },
    {
     "name": "stderr",
     "output_type": "stream",
     "text": [
      "[I 2025-03-18 05:09:47,842] Trial 18 pruned. Trial was pruned at iteration 0.\n"
     ]
    },
    {
     "name": "stderr",
     "output_type": "stream",
     "text": [
      "[I 2025-03-18 05:09:56,823] Trial 19 pruned. Trial was pruned at iteration 0.\n"
     ]
    },
    {
     "name": "stderr",
     "output_type": "stream",
     "text": [
      "[I 2025-03-18 05:10:26,234] Trial 20 finished with value: -0.997192 and parameters: {'max_depth': 20, 'min_child_weight': 19, 'subsample': 0.6483339605894612, 'colsample_bynode': 0.5117162566852926, 'learning_rate': 0.30169734010393523}. Best is trial 1 with value: -0.997325.\n"
     ]
    },
    {
     "name": "stderr",
     "output_type": "stream",
     "text": [
      "[I 2025-03-18 05:10:56,386] Trial 21 finished with value: -0.99696 and parameters: {'max_depth': 13, 'min_child_weight': 18, 'subsample': 0.6583033734853178, 'colsample_bynode': 0.5129739639406408, 'learning_rate': 0.3091260611497543}. Best is trial 1 with value: -0.997325.\n"
     ]
    },
    {
     "name": "stderr",
     "output_type": "stream",
     "text": [
      "[I 2025-03-18 05:11:31,475] Trial 22 finished with value: -0.99745 and parameters: {'max_depth': 20, 'min_child_weight': 14, 'subsample': 0.6581340170061017, 'colsample_bynode': 0.5071170970967006, 'learning_rate': 0.22750458457049225}. Best is trial 22 with value: -0.99745.\n"
     ]
    },
    {
     "name": "stderr",
     "output_type": "stream",
     "text": [
      "[I 2025-03-18 05:12:08,567] Trial 23 finished with value: -0.997104 and parameters: {'max_depth': 20, 'min_child_weight': 9, 'subsample': 0.8394472501839108, 'colsample_bynode': 0.4396097362124818, 'learning_rate': 0.09565119316681647}. Best is trial 22 with value: -0.99745.\n"
     ]
    },
    {
     "name": "stderr",
     "output_type": "stream",
     "text": [
      "[I 2025-03-18 05:12:17,446] Trial 24 pruned. Trial was pruned at iteration 0.\n"
     ]
    },
    {
     "name": "stderr",
     "output_type": "stream",
     "text": [
      "[I 2025-03-18 05:12:25,996] Trial 25 pruned. Trial was pruned at iteration 0.\n"
     ]
    },
    {
     "name": "stderr",
     "output_type": "stream",
     "text": [
      "[I 2025-03-18 05:12:35,356] Trial 26 pruned. Trial was pruned at iteration 1.\n"
     ]
    },
    {
     "name": "stderr",
     "output_type": "stream",
     "text": [
      "[I 2025-03-18 05:12:44,106] Trial 27 pruned. Trial was pruned at iteration 0.\n"
     ]
    },
    {
     "name": "stderr",
     "output_type": "stream",
     "text": [
      "[I 2025-03-18 05:13:37,322] Trial 28 finished with value: -0.99806 and parameters: {'max_depth': 15, 'min_child_weight': 21, 'subsample': 0.7568099821915353, 'colsample_bynode': 0.6344449571551344, 'learning_rate': 0.11688838165310886}. Best is trial 28 with value: -0.99806.\n"
     ]
    },
    {
     "name": "stderr",
     "output_type": "stream",
     "text": [
      "[I 2025-03-18 05:13:45,831] Trial 29 pruned. Trial was pruned at iteration 0.\n"
     ]
    },
    {
     "name": "stderr",
     "output_type": "stream",
     "text": [
      "[I 2025-03-18 05:13:55,010] Trial 30 pruned. Trial was pruned at iteration 1.\n"
     ]
    },
    {
     "name": "stderr",
     "output_type": "stream",
     "text": [
      "[I 2025-03-18 05:14:04,117] Trial 31 pruned. Trial was pruned at iteration 1.\n"
     ]
    },
    {
     "name": "stderr",
     "output_type": "stream",
     "text": [
      "[I 2025-03-18 05:14:13,097] Trial 32 pruned. Trial was pruned at iteration 0.\n"
     ]
    },
    {
     "name": "stderr",
     "output_type": "stream",
     "text": [
      "[I 2025-03-18 05:14:33,031] Trial 33 pruned. Trial was pruned at iteration 25.\n"
     ]
    },
    {
     "name": "stderr",
     "output_type": "stream",
     "text": [
      "[I 2025-03-18 05:14:41,957] Trial 34 pruned. Trial was pruned at iteration 0.\n"
     ]
    },
    {
     "name": "stderr",
     "output_type": "stream",
     "text": [
      "[I 2025-03-18 05:14:50,840] Trial 35 pruned. Trial was pruned at iteration 0.\n"
     ]
    },
    {
     "name": "stderr",
     "output_type": "stream",
     "text": [
      "[I 2025-03-18 05:14:59,461] Trial 36 pruned. Trial was pruned at iteration 0.\n"
     ]
    },
    {
     "name": "stderr",
     "output_type": "stream",
     "text": [
      "[I 2025-03-18 05:15:08,104] Trial 37 pruned. Trial was pruned at iteration 0.\n"
     ]
    },
    {
     "name": "stderr",
     "output_type": "stream",
     "text": [
      "[I 2025-03-18 05:15:16,695] Trial 38 pruned. Trial was pruned at iteration 0.\n"
     ]
    },
    {
     "name": "stderr",
     "output_type": "stream",
     "text": [
      "[I 2025-03-18 05:15:25,593] Trial 39 pruned. Trial was pruned at iteration 0.\n"
     ]
    },
    {
     "name": "stderr",
     "output_type": "stream",
     "text": [
      "[I 2025-03-18 05:15:34,163] Trial 40 pruned. Trial was pruned at iteration 0.\n"
     ]
    },
    {
     "name": "stderr",
     "output_type": "stream",
     "text": [
      "[I 2025-03-18 05:15:43,472] Trial 41 pruned. Trial was pruned at iteration 2.\n"
     ]
    },
    {
     "name": "stderr",
     "output_type": "stream",
     "text": [
      "[I 2025-03-18 05:15:53,991] Trial 42 pruned. Trial was pruned at iteration 5.\n"
     ]
    },
    {
     "name": "stderr",
     "output_type": "stream",
     "text": [
      "[I 2025-03-18 05:16:02,975] Trial 43 pruned. Trial was pruned at iteration 0.\n"
     ]
    },
    {
     "name": "stderr",
     "output_type": "stream",
     "text": [
      "[I 2025-03-18 05:16:38,159] Trial 44 finished with value: -0.997249 and parameters: {'max_depth': 18, 'min_child_weight': 1, 'subsample': 0.9391918977127081, 'colsample_bynode': 0.5962191274134194, 'learning_rate': 0.17646113726309132}. Best is trial 28 with value: -0.99806.\n"
     ]
    },
    {
     "name": "stderr",
     "output_type": "stream",
     "text": [
      "[I 2025-03-18 05:16:51,288] Trial 45 pruned. Trial was pruned at iteration 9.\n"
     ]
    },
    {
     "name": "stderr",
     "output_type": "stream",
     "text": [
      "[I 2025-03-18 05:16:59,774] Trial 46 pruned. Trial was pruned at iteration 0.\n"
     ]
    },
    {
     "name": "stderr",
     "output_type": "stream",
     "text": [
      "[I 2025-03-18 05:17:08,408] Trial 47 pruned. Trial was pruned at iteration 0.\n"
     ]
    },
    {
     "name": "stderr",
     "output_type": "stream",
     "text": [
      "[I 2025-03-18 05:17:40,527] Trial 48 finished with value: -0.998254 and parameters: {'max_depth': 14, 'min_child_weight': 38, 'subsample': 0.5704269720802206, 'colsample_bynode': 0.5931030179720626, 'learning_rate': 0.2472093300852475}. Best is trial 48 with value: -0.998254.\n"
     ]
    },
    {
     "name": "stderr",
     "output_type": "stream",
     "text": [
      "[I 2025-03-18 05:17:49,188] Trial 49 pruned. Trial was pruned at iteration 0.\n"
     ]
    }
   ],
   "source": [
    "sampler = optuna.samplers.TPESampler(seed=42)\n",
    "study = optuna.create_study(direction='minimize', sampler=sampler)\n",
    "wandb_kwargs = {\"project\": \"xgboost\", \"name\": f\"{RUN_NAME}{CELL_TYPE}\"}\n",
    "wandbc = optuna.integration.WeightsAndBiasesCallback(wandb_kwargs=wandb_kwargs)\n",
    "study.optimize(objective, n_trials=N_TRIALS, callbacks=[wandbc], gc_after_trial=True)"
   ]
  },
  {
   "cell_type": "code",
   "execution_count": 22,
   "id": "d36a46b5",
   "metadata": {
    "execution": {
     "iopub.execute_input": "2025-03-18T05:17:49.669967Z",
     "iopub.status.busy": "2025-03-18T05:17:49.668997Z",
     "iopub.status.idle": "2025-03-18T05:17:49.709712Z",
     "shell.execute_reply": "2025-03-18T05:17:49.709295Z"
    },
    "papermill": {
     "duration": 0.068142,
     "end_time": "2025-03-18T05:17:49.711965",
     "exception": false,
     "start_time": "2025-03-18T05:17:49.643823",
     "status": "completed"
    },
    "tags": []
   },
   "outputs": [
    {
     "data": {
      "text/plain": [
       "['/scratch_isilon/groups/singlecell/shared/projects/Inflammation-PBMCs-Atlas/03_downstream_analysis/08_gene_importance/results/targetY_studyID/03_xgboost/study/studyID_T_CD4_NonNaive_xgboost.pkl']"
      ]
     },
     "execution_count": 22,
     "metadata": {},
     "output_type": "execute_result"
    }
   ],
   "source": [
    "os.makedirs(here(f\"03_downstream_analysis/08_gene_importance/results/targetY_{target_y}/03_xgboost/study/\"), exist_ok=True)\n",
    "\n",
    "joblib.dump(study, here(f'03_downstream_analysis/08_gene_importance/results/targetY_{target_y}/03_xgboost/study/{RUN_NAME}{CELL_TYPE}_xgboost.pkl'))"
   ]
  },
  {
   "cell_type": "code",
   "execution_count": 23,
   "id": "6c8de4e7",
   "metadata": {
    "execution": {
     "iopub.execute_input": "2025-03-18T05:17:49.771905Z",
     "iopub.status.busy": "2025-03-18T05:17:49.771405Z",
     "iopub.status.idle": "2025-03-18T05:17:54.404154Z",
     "shell.execute_reply": "2025-03-18T05:17:54.403426Z"
    },
    "papermill": {
     "duration": 4.663499,
     "end_time": "2025-03-18T05:17:54.405367",
     "exception": false,
     "start_time": "2025-03-18T05:17:49.741868",
     "status": "completed"
    },
    "tags": []
   },
   "outputs": [],
   "source": [
    "os.makedirs(here(f\"03_downstream_analysis/08_gene_importance/results/targetY_{target_y}/03_xgboost/parallel_coordinate/\"), exist_ok=True)\n",
    "\n",
    "fig = optuna.visualization.plot_parallel_coordinate(study)\n",
    "fig.write_image(here(f'03_downstream_analysis/08_gene_importance/results/targetY_{target_y}/03_xgboost/parallel_coordinate/{RUN_NAME}{CELL_TYPE}_pcoord.pdf'))"
   ]
  },
  {
   "cell_type": "code",
   "execution_count": 24,
   "id": "13002d7d",
   "metadata": {
    "editable": true,
    "execution": {
     "iopub.execute_input": "2025-03-18T05:17:54.477067Z",
     "iopub.status.busy": "2025-03-18T05:17:54.476387Z",
     "iopub.status.idle": "2025-03-18T05:18:31.663522Z",
     "shell.execute_reply": "2025-03-18T05:18:31.662531Z"
    },
    "papermill": {
     "duration": 37.224396,
     "end_time": "2025-03-18T05:18:31.664821",
     "exception": false,
     "start_time": "2025-03-18T05:17:54.440425",
     "status": "completed"
    },
    "scrolled": true,
    "slideshow": {
     "slide_type": ""
    },
    "tags": []
   },
   "outputs": [
    {
     "name": "stdout",
     "output_type": "stream",
     "text": [
      "[0]\tvalidation_0-mlogloss:1.13642\tvalidation_0-custom_f1_score:-0.96569\n"
     ]
    },
    {
     "name": "stdout",
     "output_type": "stream",
     "text": [
      "[1]\tvalidation_0-mlogloss:0.84766\tvalidation_0-custom_f1_score:-0.96964\n"
     ]
    },
    {
     "name": "stdout",
     "output_type": "stream",
     "text": [
      "[2]\tvalidation_0-mlogloss:0.65759\tvalidation_0-custom_f1_score:-0.96939\n"
     ]
    },
    {
     "name": "stdout",
     "output_type": "stream",
     "text": [
      "[3]\tvalidation_0-mlogloss:0.51792\tvalidation_0-custom_f1_score:-0.97251\n"
     ]
    },
    {
     "name": "stdout",
     "output_type": "stream",
     "text": [
      "[4]\tvalidation_0-mlogloss:0.41378\tvalidation_0-custom_f1_score:-0.97293\n"
     ]
    },
    {
     "name": "stdout",
     "output_type": "stream",
     "text": [
      "[5]\tvalidation_0-mlogloss:0.33636\tvalidation_0-custom_f1_score:-0.97260\n"
     ]
    },
    {
     "name": "stdout",
     "output_type": "stream",
     "text": [
      "[6]\tvalidation_0-mlogloss:0.27643\tvalidation_0-custom_f1_score:-0.97265\n"
     ]
    },
    {
     "name": "stdout",
     "output_type": "stream",
     "text": [
      "[7]\tvalidation_0-mlogloss:0.22939\tvalidation_0-custom_f1_score:-0.97314\n"
     ]
    },
    {
     "name": "stdout",
     "output_type": "stream",
     "text": [
      "[8]\tvalidation_0-mlogloss:0.19280\tvalidation_0-custom_f1_score:-0.97349\n"
     ]
    },
    {
     "name": "stdout",
     "output_type": "stream",
     "text": [
      "[9]\tvalidation_0-mlogloss:0.16401\tvalidation_0-custom_f1_score:-0.97353\n"
     ]
    },
    {
     "name": "stdout",
     "output_type": "stream",
     "text": [
      "[10]\tvalidation_0-mlogloss:0.14176\tvalidation_0-custom_f1_score:-0.97373\n"
     ]
    },
    {
     "name": "stdout",
     "output_type": "stream",
     "text": [
      "[11]\tvalidation_0-mlogloss:0.12360\tvalidation_0-custom_f1_score:-0.97412\n"
     ]
    },
    {
     "name": "stdout",
     "output_type": "stream",
     "text": [
      "[12]\tvalidation_0-mlogloss:0.10920\tvalidation_0-custom_f1_score:-0.97409\n"
     ]
    },
    {
     "name": "stdout",
     "output_type": "stream",
     "text": [
      "[13]\tvalidation_0-mlogloss:0.09783\tvalidation_0-custom_f1_score:-0.97428\n"
     ]
    },
    {
     "name": "stdout",
     "output_type": "stream",
     "text": [
      "[14]\tvalidation_0-mlogloss:0.09003\tvalidation_0-custom_f1_score:-0.97407\n"
     ]
    },
    {
     "name": "stdout",
     "output_type": "stream",
     "text": [
      "[15]\tvalidation_0-mlogloss:0.08283\tvalidation_0-custom_f1_score:-0.97414\n"
     ]
    },
    {
     "name": "stdout",
     "output_type": "stream",
     "text": [
      "[16]\tvalidation_0-mlogloss:0.07767\tvalidation_0-custom_f1_score:-0.97416\n"
     ]
    },
    {
     "name": "stdout",
     "output_type": "stream",
     "text": [
      "[17]\tvalidation_0-mlogloss:0.07341\tvalidation_0-custom_f1_score:-0.97433\n"
     ]
    },
    {
     "name": "stdout",
     "output_type": "stream",
     "text": [
      "[18]\tvalidation_0-mlogloss:0.07024\tvalidation_0-custom_f1_score:-0.97431\n"
     ]
    },
    {
     "name": "stdout",
     "output_type": "stream",
     "text": [
      "[19]\tvalidation_0-mlogloss:0.06748\tvalidation_0-custom_f1_score:-0.97448\n"
     ]
    },
    {
     "name": "stdout",
     "output_type": "stream",
     "text": [
      "[20]\tvalidation_0-mlogloss:0.06471\tvalidation_0-custom_f1_score:-0.97505\n"
     ]
    },
    {
     "name": "stdout",
     "output_type": "stream",
     "text": [
      "[21]\tvalidation_0-mlogloss:0.06280\tvalidation_0-custom_f1_score:-0.97516\n"
     ]
    },
    {
     "name": "stdout",
     "output_type": "stream",
     "text": [
      "[22]\tvalidation_0-mlogloss:0.06095\tvalidation_0-custom_f1_score:-0.97547\n"
     ]
    },
    {
     "name": "stdout",
     "output_type": "stream",
     "text": [
      "[23]\tvalidation_0-mlogloss:0.06006\tvalidation_0-custom_f1_score:-0.97552\n"
     ]
    },
    {
     "name": "stdout",
     "output_type": "stream",
     "text": [
      "[24]\tvalidation_0-mlogloss:0.05900\tvalidation_0-custom_f1_score:-0.97555\n"
     ]
    },
    {
     "name": "stdout",
     "output_type": "stream",
     "text": [
      "[25]\tvalidation_0-mlogloss:0.05783\tvalidation_0-custom_f1_score:-0.97581\n"
     ]
    },
    {
     "name": "stdout",
     "output_type": "stream",
     "text": [
      "[26]\tvalidation_0-mlogloss:0.05712\tvalidation_0-custom_f1_score:-0.97576\n"
     ]
    },
    {
     "name": "stdout",
     "output_type": "stream",
     "text": [
      "[27]\tvalidation_0-mlogloss:0.05625\tvalidation_0-custom_f1_score:-0.97601\n"
     ]
    },
    {
     "name": "stdout",
     "output_type": "stream",
     "text": [
      "[28]\tvalidation_0-mlogloss:0.05594\tvalidation_0-custom_f1_score:-0.97626\n"
     ]
    },
    {
     "name": "stdout",
     "output_type": "stream",
     "text": [
      "[29]\tvalidation_0-mlogloss:0.05592\tvalidation_0-custom_f1_score:-0.97637\n"
     ]
    },
    {
     "name": "stdout",
     "output_type": "stream",
     "text": [
      "[30]\tvalidation_0-mlogloss:0.05625\tvalidation_0-custom_f1_score:-0.97656\n"
     ]
    },
    {
     "name": "stdout",
     "output_type": "stream",
     "text": [
      "[31]\tvalidation_0-mlogloss:0.05558\tvalidation_0-custom_f1_score:-0.97693\n"
     ]
    },
    {
     "name": "stdout",
     "output_type": "stream",
     "text": [
      "[32]\tvalidation_0-mlogloss:0.05629\tvalidation_0-custom_f1_score:-0.97674\n"
     ]
    },
    {
     "name": "stdout",
     "output_type": "stream",
     "text": [
      "[33]\tvalidation_0-mlogloss:0.05594\tvalidation_0-custom_f1_score:-0.97684\n"
     ]
    },
    {
     "name": "stdout",
     "output_type": "stream",
     "text": [
      "[34]\tvalidation_0-mlogloss:0.05639\tvalidation_0-custom_f1_score:-0.97662\n"
     ]
    },
    {
     "name": "stdout",
     "output_type": "stream",
     "text": [
      "[35]\tvalidation_0-mlogloss:0.05670\tvalidation_0-custom_f1_score:-0.97644\n"
     ]
    },
    {
     "name": "stdout",
     "output_type": "stream",
     "text": [
      "[36]\tvalidation_0-mlogloss:0.05598\tvalidation_0-custom_f1_score:-0.97668\n"
     ]
    },
    {
     "name": "stdout",
     "output_type": "stream",
     "text": [
      "[37]\tvalidation_0-mlogloss:0.05540\tvalidation_0-custom_f1_score:-0.97698\n"
     ]
    },
    {
     "name": "stdout",
     "output_type": "stream",
     "text": [
      "[38]\tvalidation_0-mlogloss:0.05584\tvalidation_0-custom_f1_score:-0.97693\n"
     ]
    },
    {
     "name": "stdout",
     "output_type": "stream",
     "text": [
      "[39]\tvalidation_0-mlogloss:0.05577\tvalidation_0-custom_f1_score:-0.97693\n"
     ]
    },
    {
     "name": "stdout",
     "output_type": "stream",
     "text": [
      "[40]\tvalidation_0-mlogloss:0.05595\tvalidation_0-custom_f1_score:-0.97681\n"
     ]
    },
    {
     "name": "stdout",
     "output_type": "stream",
     "text": [
      "[41]\tvalidation_0-mlogloss:0.05585\tvalidation_0-custom_f1_score:-0.97686\n"
     ]
    },
    {
     "name": "stdout",
     "output_type": "stream",
     "text": [
      "[42]\tvalidation_0-mlogloss:0.05579\tvalidation_0-custom_f1_score:-0.97682\n"
     ]
    },
    {
     "name": "stdout",
     "output_type": "stream",
     "text": [
      "[43]\tvalidation_0-mlogloss:0.05608\tvalidation_0-custom_f1_score:-0.97662\n"
     ]
    },
    {
     "name": "stdout",
     "output_type": "stream",
     "text": [
      "[44]\tvalidation_0-mlogloss:0.05611\tvalidation_0-custom_f1_score:-0.97659\n"
     ]
    },
    {
     "name": "stdout",
     "output_type": "stream",
     "text": [
      "[45]\tvalidation_0-mlogloss:0.05603\tvalidation_0-custom_f1_score:-0.97665\n"
     ]
    },
    {
     "name": "stdout",
     "output_type": "stream",
     "text": [
      "[46]\tvalidation_0-mlogloss:0.05585\tvalidation_0-custom_f1_score:-0.97678\n"
     ]
    },
    {
     "name": "stdout",
     "output_type": "stream",
     "text": [
      "[47]\tvalidation_0-mlogloss:0.05591\tvalidation_0-custom_f1_score:-0.97671\n"
     ]
    },
    {
     "name": "stdout",
     "output_type": "stream",
     "text": [
      "[48]\tvalidation_0-mlogloss:0.05596\tvalidation_0-custom_f1_score:-0.97670\n"
     ]
    },
    {
     "name": "stdout",
     "output_type": "stream",
     "text": [
      "[49]\tvalidation_0-mlogloss:0.05591\tvalidation_0-custom_f1_score:-0.97674\n"
     ]
    },
    {
     "name": "stdout",
     "output_type": "stream",
     "text": [
      "[50]\tvalidation_0-mlogloss:0.05601\tvalidation_0-custom_f1_score:-0.97673\n"
     ]
    },
    {
     "name": "stdout",
     "output_type": "stream",
     "text": [
      "[51]\tvalidation_0-mlogloss:0.05617\tvalidation_0-custom_f1_score:-0.97664\n"
     ]
    },
    {
     "name": "stdout",
     "output_type": "stream",
     "text": [
      "[52]\tvalidation_0-mlogloss:0.05623\tvalidation_0-custom_f1_score:-0.97663\n"
     ]
    },
    {
     "name": "stdout",
     "output_type": "stream",
     "text": [
      "[53]\tvalidation_0-mlogloss:0.05591\tvalidation_0-custom_f1_score:-0.97677\n"
     ]
    },
    {
     "data": {
      "text/html": [
       "<style>#sk-container-id-1 {\n",
       "  /* Definition of color scheme common for light and dark mode */\n",
       "  --sklearn-color-text: black;\n",
       "  --sklearn-color-line: gray;\n",
       "  /* Definition of color scheme for unfitted estimators */\n",
       "  --sklearn-color-unfitted-level-0: #fff5e6;\n",
       "  --sklearn-color-unfitted-level-1: #f6e4d2;\n",
       "  --sklearn-color-unfitted-level-2: #ffe0b3;\n",
       "  --sklearn-color-unfitted-level-3: chocolate;\n",
       "  /* Definition of color scheme for fitted estimators */\n",
       "  --sklearn-color-fitted-level-0: #f0f8ff;\n",
       "  --sklearn-color-fitted-level-1: #d4ebff;\n",
       "  --sklearn-color-fitted-level-2: #b3dbfd;\n",
       "  --sklearn-color-fitted-level-3: cornflowerblue;\n",
       "\n",
       "  /* Specific color for light theme */\n",
       "  --sklearn-color-text-on-default-background: var(--sg-text-color, var(--theme-code-foreground, var(--jp-content-font-color1, black)));\n",
       "  --sklearn-color-background: var(--sg-background-color, var(--theme-background, var(--jp-layout-color0, white)));\n",
       "  --sklearn-color-border-box: var(--sg-text-color, var(--theme-code-foreground, var(--jp-content-font-color1, black)));\n",
       "  --sklearn-color-icon: #696969;\n",
       "\n",
       "  @media (prefers-color-scheme: dark) {\n",
       "    /* Redefinition of color scheme for dark theme */\n",
       "    --sklearn-color-text-on-default-background: var(--sg-text-color, var(--theme-code-foreground, var(--jp-content-font-color1, white)));\n",
       "    --sklearn-color-background: var(--sg-background-color, var(--theme-background, var(--jp-layout-color0, #111)));\n",
       "    --sklearn-color-border-box: var(--sg-text-color, var(--theme-code-foreground, var(--jp-content-font-color1, white)));\n",
       "    --sklearn-color-icon: #878787;\n",
       "  }\n",
       "}\n",
       "\n",
       "#sk-container-id-1 {\n",
       "  color: var(--sklearn-color-text);\n",
       "}\n",
       "\n",
       "#sk-container-id-1 pre {\n",
       "  padding: 0;\n",
       "}\n",
       "\n",
       "#sk-container-id-1 input.sk-hidden--visually {\n",
       "  border: 0;\n",
       "  clip: rect(1px 1px 1px 1px);\n",
       "  clip: rect(1px, 1px, 1px, 1px);\n",
       "  height: 1px;\n",
       "  margin: -1px;\n",
       "  overflow: hidden;\n",
       "  padding: 0;\n",
       "  position: absolute;\n",
       "  width: 1px;\n",
       "}\n",
       "\n",
       "#sk-container-id-1 div.sk-dashed-wrapped {\n",
       "  border: 1px dashed var(--sklearn-color-line);\n",
       "  margin: 0 0.4em 0.5em 0.4em;\n",
       "  box-sizing: border-box;\n",
       "  padding-bottom: 0.4em;\n",
       "  background-color: var(--sklearn-color-background);\n",
       "}\n",
       "\n",
       "#sk-container-id-1 div.sk-container {\n",
       "  /* jupyter's `normalize.less` sets `[hidden] { display: none; }`\n",
       "     but bootstrap.min.css set `[hidden] { display: none !important; }`\n",
       "     so we also need the `!important` here to be able to override the\n",
       "     default hidden behavior on the sphinx rendered scikit-learn.org.\n",
       "     See: https://github.com/scikit-learn/scikit-learn/issues/21755 */\n",
       "  display: inline-block !important;\n",
       "  position: relative;\n",
       "}\n",
       "\n",
       "#sk-container-id-1 div.sk-text-repr-fallback {\n",
       "  display: none;\n",
       "}\n",
       "\n",
       "div.sk-parallel-item,\n",
       "div.sk-serial,\n",
       "div.sk-item {\n",
       "  /* draw centered vertical line to link estimators */\n",
       "  background-image: linear-gradient(var(--sklearn-color-text-on-default-background), var(--sklearn-color-text-on-default-background));\n",
       "  background-size: 2px 100%;\n",
       "  background-repeat: no-repeat;\n",
       "  background-position: center center;\n",
       "}\n",
       "\n",
       "/* Parallel-specific style estimator block */\n",
       "\n",
       "#sk-container-id-1 div.sk-parallel-item::after {\n",
       "  content: \"\";\n",
       "  width: 100%;\n",
       "  border-bottom: 2px solid var(--sklearn-color-text-on-default-background);\n",
       "  flex-grow: 1;\n",
       "}\n",
       "\n",
       "#sk-container-id-1 div.sk-parallel {\n",
       "  display: flex;\n",
       "  align-items: stretch;\n",
       "  justify-content: center;\n",
       "  background-color: var(--sklearn-color-background);\n",
       "  position: relative;\n",
       "}\n",
       "\n",
       "#sk-container-id-1 div.sk-parallel-item {\n",
       "  display: flex;\n",
       "  flex-direction: column;\n",
       "}\n",
       "\n",
       "#sk-container-id-1 div.sk-parallel-item:first-child::after {\n",
       "  align-self: flex-end;\n",
       "  width: 50%;\n",
       "}\n",
       "\n",
       "#sk-container-id-1 div.sk-parallel-item:last-child::after {\n",
       "  align-self: flex-start;\n",
       "  width: 50%;\n",
       "}\n",
       "\n",
       "#sk-container-id-1 div.sk-parallel-item:only-child::after {\n",
       "  width: 0;\n",
       "}\n",
       "\n",
       "/* Serial-specific style estimator block */\n",
       "\n",
       "#sk-container-id-1 div.sk-serial {\n",
       "  display: flex;\n",
       "  flex-direction: column;\n",
       "  align-items: center;\n",
       "  background-color: var(--sklearn-color-background);\n",
       "  padding-right: 1em;\n",
       "  padding-left: 1em;\n",
       "}\n",
       "\n",
       "\n",
       "/* Toggleable style: style used for estimator/Pipeline/ColumnTransformer box that is\n",
       "clickable and can be expanded/collapsed.\n",
       "- Pipeline and ColumnTransformer use this feature and define the default style\n",
       "- Estimators will overwrite some part of the style using the `sk-estimator` class\n",
       "*/\n",
       "\n",
       "/* Pipeline and ColumnTransformer style (default) */\n",
       "\n",
       "#sk-container-id-1 div.sk-toggleable {\n",
       "  /* Default theme specific background. It is overwritten whether we have a\n",
       "  specific estimator or a Pipeline/ColumnTransformer */\n",
       "  background-color: var(--sklearn-color-background);\n",
       "}\n",
       "\n",
       "/* Toggleable label */\n",
       "#sk-container-id-1 label.sk-toggleable__label {\n",
       "  cursor: pointer;\n",
       "  display: block;\n",
       "  width: 100%;\n",
       "  margin-bottom: 0;\n",
       "  padding: 0.5em;\n",
       "  box-sizing: border-box;\n",
       "  text-align: center;\n",
       "}\n",
       "\n",
       "#sk-container-id-1 label.sk-toggleable__label-arrow:before {\n",
       "  /* Arrow on the left of the label */\n",
       "  content: \"▸\";\n",
       "  float: left;\n",
       "  margin-right: 0.25em;\n",
       "  color: var(--sklearn-color-icon);\n",
       "}\n",
       "\n",
       "#sk-container-id-1 label.sk-toggleable__label-arrow:hover:before {\n",
       "  color: var(--sklearn-color-text);\n",
       "}\n",
       "\n",
       "/* Toggleable content - dropdown */\n",
       "\n",
       "#sk-container-id-1 div.sk-toggleable__content {\n",
       "  max-height: 0;\n",
       "  max-width: 0;\n",
       "  overflow: hidden;\n",
       "  text-align: left;\n",
       "  /* unfitted */\n",
       "  background-color: var(--sklearn-color-unfitted-level-0);\n",
       "}\n",
       "\n",
       "#sk-container-id-1 div.sk-toggleable__content.fitted {\n",
       "  /* fitted */\n",
       "  background-color: var(--sklearn-color-fitted-level-0);\n",
       "}\n",
       "\n",
       "#sk-container-id-1 div.sk-toggleable__content pre {\n",
       "  margin: 0.2em;\n",
       "  border-radius: 0.25em;\n",
       "  color: var(--sklearn-color-text);\n",
       "  /* unfitted */\n",
       "  background-color: var(--sklearn-color-unfitted-level-0);\n",
       "}\n",
       "\n",
       "#sk-container-id-1 div.sk-toggleable__content.fitted pre {\n",
       "  /* unfitted */\n",
       "  background-color: var(--sklearn-color-fitted-level-0);\n",
       "}\n",
       "\n",
       "#sk-container-id-1 input.sk-toggleable__control:checked~div.sk-toggleable__content {\n",
       "  /* Expand drop-down */\n",
       "  max-height: 200px;\n",
       "  max-width: 100%;\n",
       "  overflow: auto;\n",
       "}\n",
       "\n",
       "#sk-container-id-1 input.sk-toggleable__control:checked~label.sk-toggleable__label-arrow:before {\n",
       "  content: \"▾\";\n",
       "}\n",
       "\n",
       "/* Pipeline/ColumnTransformer-specific style */\n",
       "\n",
       "#sk-container-id-1 div.sk-label input.sk-toggleable__control:checked~label.sk-toggleable__label {\n",
       "  color: var(--sklearn-color-text);\n",
       "  background-color: var(--sklearn-color-unfitted-level-2);\n",
       "}\n",
       "\n",
       "#sk-container-id-1 div.sk-label.fitted input.sk-toggleable__control:checked~label.sk-toggleable__label {\n",
       "  background-color: var(--sklearn-color-fitted-level-2);\n",
       "}\n",
       "\n",
       "/* Estimator-specific style */\n",
       "\n",
       "/* Colorize estimator box */\n",
       "#sk-container-id-1 div.sk-estimator input.sk-toggleable__control:checked~label.sk-toggleable__label {\n",
       "  /* unfitted */\n",
       "  background-color: var(--sklearn-color-unfitted-level-2);\n",
       "}\n",
       "\n",
       "#sk-container-id-1 div.sk-estimator.fitted input.sk-toggleable__control:checked~label.sk-toggleable__label {\n",
       "  /* fitted */\n",
       "  background-color: var(--sklearn-color-fitted-level-2);\n",
       "}\n",
       "\n",
       "#sk-container-id-1 div.sk-label label.sk-toggleable__label,\n",
       "#sk-container-id-1 div.sk-label label {\n",
       "  /* The background is the default theme color */\n",
       "  color: var(--sklearn-color-text-on-default-background);\n",
       "}\n",
       "\n",
       "/* On hover, darken the color of the background */\n",
       "#sk-container-id-1 div.sk-label:hover label.sk-toggleable__label {\n",
       "  color: var(--sklearn-color-text);\n",
       "  background-color: var(--sklearn-color-unfitted-level-2);\n",
       "}\n",
       "\n",
       "/* Label box, darken color on hover, fitted */\n",
       "#sk-container-id-1 div.sk-label.fitted:hover label.sk-toggleable__label.fitted {\n",
       "  color: var(--sklearn-color-text);\n",
       "  background-color: var(--sklearn-color-fitted-level-2);\n",
       "}\n",
       "\n",
       "/* Estimator label */\n",
       "\n",
       "#sk-container-id-1 div.sk-label label {\n",
       "  font-family: monospace;\n",
       "  font-weight: bold;\n",
       "  display: inline-block;\n",
       "  line-height: 1.2em;\n",
       "}\n",
       "\n",
       "#sk-container-id-1 div.sk-label-container {\n",
       "  text-align: center;\n",
       "}\n",
       "\n",
       "/* Estimator-specific */\n",
       "#sk-container-id-1 div.sk-estimator {\n",
       "  font-family: monospace;\n",
       "  border: 1px dotted var(--sklearn-color-border-box);\n",
       "  border-radius: 0.25em;\n",
       "  box-sizing: border-box;\n",
       "  margin-bottom: 0.5em;\n",
       "  /* unfitted */\n",
       "  background-color: var(--sklearn-color-unfitted-level-0);\n",
       "}\n",
       "\n",
       "#sk-container-id-1 div.sk-estimator.fitted {\n",
       "  /* fitted */\n",
       "  background-color: var(--sklearn-color-fitted-level-0);\n",
       "}\n",
       "\n",
       "/* on hover */\n",
       "#sk-container-id-1 div.sk-estimator:hover {\n",
       "  /* unfitted */\n",
       "  background-color: var(--sklearn-color-unfitted-level-2);\n",
       "}\n",
       "\n",
       "#sk-container-id-1 div.sk-estimator.fitted:hover {\n",
       "  /* fitted */\n",
       "  background-color: var(--sklearn-color-fitted-level-2);\n",
       "}\n",
       "\n",
       "/* Specification for estimator info (e.g. \"i\" and \"?\") */\n",
       "\n",
       "/* Common style for \"i\" and \"?\" */\n",
       "\n",
       ".sk-estimator-doc-link,\n",
       "a:link.sk-estimator-doc-link,\n",
       "a:visited.sk-estimator-doc-link {\n",
       "  float: right;\n",
       "  font-size: smaller;\n",
       "  line-height: 1em;\n",
       "  font-family: monospace;\n",
       "  background-color: var(--sklearn-color-background);\n",
       "  border-radius: 1em;\n",
       "  height: 1em;\n",
       "  width: 1em;\n",
       "  text-decoration: none !important;\n",
       "  margin-left: 1ex;\n",
       "  /* unfitted */\n",
       "  border: var(--sklearn-color-unfitted-level-1) 1pt solid;\n",
       "  color: var(--sklearn-color-unfitted-level-1);\n",
       "}\n",
       "\n",
       ".sk-estimator-doc-link.fitted,\n",
       "a:link.sk-estimator-doc-link.fitted,\n",
       "a:visited.sk-estimator-doc-link.fitted {\n",
       "  /* fitted */\n",
       "  border: var(--sklearn-color-fitted-level-1) 1pt solid;\n",
       "  color: var(--sklearn-color-fitted-level-1);\n",
       "}\n",
       "\n",
       "/* On hover */\n",
       "div.sk-estimator:hover .sk-estimator-doc-link:hover,\n",
       ".sk-estimator-doc-link:hover,\n",
       "div.sk-label-container:hover .sk-estimator-doc-link:hover,\n",
       ".sk-estimator-doc-link:hover {\n",
       "  /* unfitted */\n",
       "  background-color: var(--sklearn-color-unfitted-level-3);\n",
       "  color: var(--sklearn-color-background);\n",
       "  text-decoration: none;\n",
       "}\n",
       "\n",
       "div.sk-estimator.fitted:hover .sk-estimator-doc-link.fitted:hover,\n",
       ".sk-estimator-doc-link.fitted:hover,\n",
       "div.sk-label-container:hover .sk-estimator-doc-link.fitted:hover,\n",
       ".sk-estimator-doc-link.fitted:hover {\n",
       "  /* fitted */\n",
       "  background-color: var(--sklearn-color-fitted-level-3);\n",
       "  color: var(--sklearn-color-background);\n",
       "  text-decoration: none;\n",
       "}\n",
       "\n",
       "/* Span, style for the box shown on hovering the info icon */\n",
       ".sk-estimator-doc-link span {\n",
       "  display: none;\n",
       "  z-index: 9999;\n",
       "  position: relative;\n",
       "  font-weight: normal;\n",
       "  right: .2ex;\n",
       "  padding: .5ex;\n",
       "  margin: .5ex;\n",
       "  width: min-content;\n",
       "  min-width: 20ex;\n",
       "  max-width: 50ex;\n",
       "  color: var(--sklearn-color-text);\n",
       "  box-shadow: 2pt 2pt 4pt #999;\n",
       "  /* unfitted */\n",
       "  background: var(--sklearn-color-unfitted-level-0);\n",
       "  border: .5pt solid var(--sklearn-color-unfitted-level-3);\n",
       "}\n",
       "\n",
       ".sk-estimator-doc-link.fitted span {\n",
       "  /* fitted */\n",
       "  background: var(--sklearn-color-fitted-level-0);\n",
       "  border: var(--sklearn-color-fitted-level-3);\n",
       "}\n",
       "\n",
       ".sk-estimator-doc-link:hover span {\n",
       "  display: block;\n",
       "}\n",
       "\n",
       "/* \"?\"-specific style due to the `<a>` HTML tag */\n",
       "\n",
       "#sk-container-id-1 a.estimator_doc_link {\n",
       "  float: right;\n",
       "  font-size: 1rem;\n",
       "  line-height: 1em;\n",
       "  font-family: monospace;\n",
       "  background-color: var(--sklearn-color-background);\n",
       "  border-radius: 1rem;\n",
       "  height: 1rem;\n",
       "  width: 1rem;\n",
       "  text-decoration: none;\n",
       "  /* unfitted */\n",
       "  color: var(--sklearn-color-unfitted-level-1);\n",
       "  border: var(--sklearn-color-unfitted-level-1) 1pt solid;\n",
       "}\n",
       "\n",
       "#sk-container-id-1 a.estimator_doc_link.fitted {\n",
       "  /* fitted */\n",
       "  border: var(--sklearn-color-fitted-level-1) 1pt solid;\n",
       "  color: var(--sklearn-color-fitted-level-1);\n",
       "}\n",
       "\n",
       "/* On hover */\n",
       "#sk-container-id-1 a.estimator_doc_link:hover {\n",
       "  /* unfitted */\n",
       "  background-color: var(--sklearn-color-unfitted-level-3);\n",
       "  color: var(--sklearn-color-background);\n",
       "  text-decoration: none;\n",
       "}\n",
       "\n",
       "#sk-container-id-1 a.estimator_doc_link.fitted:hover {\n",
       "  /* fitted */\n",
       "  background-color: var(--sklearn-color-fitted-level-3);\n",
       "}\n",
       "</style><div id=\"sk-container-id-1\" class=\"sk-top-container\"><div class=\"sk-text-repr-fallback\"><pre>XGBClassifier(base_score=None, booster=None, callbacks=None,\n",
       "              colsample_bylevel=None, colsample_bynode=0.5931030179720626,\n",
       "              colsample_bytree=None, device=&#x27;gpu&#x27;, early_stopping_rounds=None,\n",
       "              enable_categorical=False,\n",
       "              eval_metric=&lt;function custom_f1_score at 0x76a5be44d9e0&gt;,\n",
       "              feature_types=None, gamma=None, grow_policy=None,\n",
       "              importance_type=None, interaction_constraints=None,\n",
       "              learning_rate=0.2472093300852475, max_bin=None,\n",
       "              max_cat_threshold=None, max_cat_to_onehot=None,\n",
       "              max_delta_step=None, max_depth=14, max_leaves=None,\n",
       "              min_child_weight=38, missing=nan, monotone_constraints=None,\n",
       "              multi_strategy=None, n_estimators=54, n_jobs=None,\n",
       "              num_parallel_tree=None, objective=&#x27;multi:softprob&#x27;, ...)</pre><b>In a Jupyter environment, please rerun this cell to show the HTML representation or trust the notebook. <br />On GitHub, the HTML representation is unable to render, please try loading this page with nbviewer.org.</b></div><div class=\"sk-container\" hidden><div class=\"sk-item\"><div class=\"sk-estimator fitted sk-toggleable\"><input class=\"sk-toggleable__control sk-hidden--visually\" id=\"sk-estimator-id-1\" type=\"checkbox\" checked><label for=\"sk-estimator-id-1\" class=\"sk-toggleable__label fitted sk-toggleable__label-arrow fitted\">&nbsp;XGBClassifier<span class=\"sk-estimator-doc-link fitted\">i<span>Fitted</span></span></label><div class=\"sk-toggleable__content fitted\"><pre>XGBClassifier(base_score=None, booster=None, callbacks=None,\n",
       "              colsample_bylevel=None, colsample_bynode=0.5931030179720626,\n",
       "              colsample_bytree=None, device=&#x27;gpu&#x27;, early_stopping_rounds=None,\n",
       "              enable_categorical=False,\n",
       "              eval_metric=&lt;function custom_f1_score at 0x76a5be44d9e0&gt;,\n",
       "              feature_types=None, gamma=None, grow_policy=None,\n",
       "              importance_type=None, interaction_constraints=None,\n",
       "              learning_rate=0.2472093300852475, max_bin=None,\n",
       "              max_cat_threshold=None, max_cat_to_onehot=None,\n",
       "              max_delta_step=None, max_depth=14, max_leaves=None,\n",
       "              min_child_weight=38, missing=nan, monotone_constraints=None,\n",
       "              multi_strategy=None, n_estimators=54, n_jobs=None,\n",
       "              num_parallel_tree=None, objective=&#x27;multi:softprob&#x27;, ...)</pre></div> </div></div></div></div>"
      ],
      "text/plain": [
       "XGBClassifier(base_score=None, booster=None, callbacks=None,\n",
       "              colsample_bylevel=None, colsample_bynode=0.5931030179720626,\n",
       "              colsample_bytree=None, device='gpu', early_stopping_rounds=None,\n",
       "              enable_categorical=False,\n",
       "              eval_metric=<function custom_f1_score at 0x76a5be44d9e0>,\n",
       "              feature_types=None, gamma=None, grow_policy=None,\n",
       "              importance_type=None, interaction_constraints=None,\n",
       "              learning_rate=0.2472093300852475, max_bin=None,\n",
       "              max_cat_threshold=None, max_cat_to_onehot=None,\n",
       "              max_delta_step=None, max_depth=14, max_leaves=None,\n",
       "              min_child_weight=38, missing=nan, monotone_constraints=None,\n",
       "              multi_strategy=None, n_estimators=54, n_jobs=None,\n",
       "              num_parallel_tree=None, objective='multi:softprob', ...)"
      ]
     },
     "execution_count": 24,
     "metadata": {},
     "output_type": "execute_result"
    }
   ],
   "source": [
    "n_estimators = int(study.best_trial.user_attrs['best_iteration']*1.2)\n",
    "xgb = xgboost.XGBClassifier(\n",
    "        device='gpu',\n",
    "        eval_metric=eval_metric,\n",
    "        n_estimators=n_estimators,\n",
    "        **study.best_trial.params\n",
    "    )\n",
    "xgb.fit(\n",
    "    ssp.vstack((X_train, X_val)), \n",
    "    np.concatenate((y_train_enc, y_val_enc)), \n",
    "    eval_set=[(X_test, y_test_enc)],\n",
    "    verbose=1,\n",
    ")"
   ]
  },
  {
   "cell_type": "code",
   "execution_count": 25,
   "id": "7f7f30bf",
   "metadata": {
    "editable": true,
    "execution": {
     "iopub.execute_input": "2025-03-18T05:18:31.724819Z",
     "iopub.status.busy": "2025-03-18T05:18:31.724530Z",
     "iopub.status.idle": "2025-03-18T05:18:31.785588Z",
     "shell.execute_reply": "2025-03-18T05:18:31.781263Z"
    },
    "papermill": {
     "duration": 0.086393,
     "end_time": "2025-03-18T05:18:31.786696",
     "exception": false,
     "start_time": "2025-03-18T05:18:31.700303",
     "status": "completed"
    },
    "slideshow": {
     "slide_type": ""
    },
    "tags": []
   },
   "outputs": [
    {
     "data": {
      "text/plain": [
       "['/scratch_isilon/groups/singlecell/shared/projects/Inflammation-PBMCs-Atlas/03_downstream_analysis/08_gene_importance/results/targetY_studyID/03_xgboost/best_model/studyID_T_CD4_NonNaive_xgb.json']"
      ]
     },
     "execution_count": 25,
     "metadata": {},
     "output_type": "execute_result"
    }
   ],
   "source": [
    "os.makedirs(here(f\"03_downstream_analysis/08_gene_importance/results/targetY_{target_y}/03_xgboost/best_model/\"), exist_ok=True)\n",
    "\n",
    "joblib.dump(xgb, (here(f'03_downstream_analysis/08_gene_importance/results/targetY_{target_y}/03_xgboost/best_model/{RUN_NAME}{CELL_TYPE}_xgb.json')))"
   ]
  },
  {
   "cell_type": "code",
   "execution_count": 26,
   "id": "728d6515",
   "metadata": {
    "execution": {
     "iopub.execute_input": "2025-03-18T05:18:31.864328Z",
     "iopub.status.busy": "2025-03-18T05:18:31.863778Z",
     "iopub.status.idle": "2025-03-18T05:18:37.543228Z",
     "shell.execute_reply": "2025-03-18T05:18:37.542685Z"
    },
    "papermill": {
     "duration": 5.713928,
     "end_time": "2025-03-18T05:18:37.544746",
     "exception": false,
     "start_time": "2025-03-18T05:18:31.830818",
     "status": "completed"
    },
    "tags": []
   },
   "outputs": [
    {
     "name": "stderr",
     "output_type": "stream",
     "text": [
      "/scratch_isilon/groups/singlecell/shared/conda_env/xgboostGPU/lib/python3.12/site-packages/xgboost/core.py:160: UserWarning:\n",
      "\n",
      "[05:18:31] WARNING: /home/conda/feedstock_root/build_artifacts/xgboost-split_1703076482591/work/src/common/error_msg.cc:58: Falling back to prediction using DMatrix due to mismatched devices. This might lead to higher memory usage and slower performance. XGBoost is running on: cuda:0, while the input data is on: cpu.\n",
      "Potential solutions:\n",
      "- Use a data structure that matches the device ordinal in the booster.\n",
      "- Set the device for booster before call to inplace_predict.\n",
      "\n",
      "This warning will only be shown once.\n",
      "\n",
      "\n"
     ]
    }
   ],
   "source": [
    "os.makedirs(here(f\"03_downstream_analysis/08_gene_importance/results/targetY_{target_y}/03_xgboost/predictions/\"), exist_ok=True)\n",
    "\n",
    "(pd.DataFrame(np.array((y_test, y_test_enc, xgb.predict(X_test))).T, columns=['y_true', 'y_true_code', 'y_pred'])\n",
    " .to_csv(here(f'03_downstream_analysis/08_gene_importance/results/targetY_{target_y}/03_xgboost/predictions/{RUN_NAME}{CELL_TYPE}_pred_test.zip')))\n",
    "(pd.DataFrame(np.array((y_train, y_train_enc, xgb.predict(X_train))).T, columns=['y_true', 'y_true_code', 'y_pred'])\n",
    " .to_csv(here(f'03_downstream_analysis/08_gene_importance/results/targetY_{target_y}/03_xgboost/predictions/{RUN_NAME}{CELL_TYPE}_pred_train.zip')))"
   ]
  },
  {
   "cell_type": "code",
   "execution_count": null,
   "id": "053135ba",
   "metadata": {
    "papermill": {
     "duration": 0.011217,
     "end_time": "2025-03-18T05:18:37.583293",
     "exception": false,
     "start_time": "2025-03-18T05:18:37.572076",
     "status": "completed"
    },
    "tags": []
   },
   "outputs": [],
   "source": []
  }
 ],
 "metadata": {
  "kernelspec": {
   "display_name": "Python 3 (ipykernel)",
   "language": "python",
   "name": "python3"
  },
  "language_info": {
   "codemirror_mode": {
    "name": "ipython",
    "version": 3
   },
   "file_extension": ".py",
   "mimetype": "text/x-python",
   "name": "python",
   "nbconvert_exporter": "python",
   "pygments_lexer": "ipython3",
   "version": "3.12.9"
  },
  "papermill": {
   "default_parameters": {},
   "duration": 1586.67303,
   "end_time": "2025-03-18T05:18:40.721571",
   "environment_variables": {},
   "exception": null,
   "input_path": "02_studyID_xgboost_fitting.ipynb",
   "output_path": "executed_notebooks/02_studyID_xgboost_fitting_T_CD4_NonNaive.ipynb",
   "parameters": {
    "CELL_TYPE": "T_CD4_NonNaive"
   },
   "start_time": "2025-03-18T04:52:14.048541",
   "version": "2.6.0"
  }
 },
 "nbformat": 4,
 "nbformat_minor": 5
}