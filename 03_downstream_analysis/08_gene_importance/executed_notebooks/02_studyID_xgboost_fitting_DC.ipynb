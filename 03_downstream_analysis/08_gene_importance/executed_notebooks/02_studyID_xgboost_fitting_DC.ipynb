{
 "cells": [
  {
   "cell_type": "code",
   "execution_count": 1,
   "id": "419bfe07",
   "metadata": {
    "editable": true,
    "execution": {
     "iopub.execute_input": "2025-03-20T05:21:42.650447Z",
     "iopub.status.busy": "2025-03-20T05:21:42.650055Z",
     "iopub.status.idle": "2025-03-20T05:21:42.657180Z",
     "shell.execute_reply": "2025-03-20T05:21:42.656074Z"
    },
    "papermill": {
     "duration": 0.032312,
     "end_time": "2025-03-20T05:21:42.659676",
     "exception": false,
     "start_time": "2025-03-20T05:21:42.627364",
     "status": "completed"
    },
    "slideshow": {
     "slide_type": ""
    },
    "tags": [
     "parameters"
    ]
   },
   "outputs": [],
   "source": [
    "CELL_TYPE = 'DC'\n",
    "N_SPLITS: int = 5\n",
    "N_TRIALS: int = 50\n",
    "RUN_NAME: str = \"studyID\""
   ]
  },
  {
   "cell_type": "code",
   "execution_count": 2,
   "id": "c2ae72f4",
   "metadata": {
    "execution": {
     "iopub.execute_input": "2025-03-20T05:21:42.687013Z",
     "iopub.status.busy": "2025-03-20T05:21:42.686480Z",
     "iopub.status.idle": "2025-03-20T05:21:42.693067Z",
     "shell.execute_reply": "2025-03-20T05:21:42.692316Z"
    },
    "papermill": {
     "duration": 0.031883,
     "end_time": "2025-03-20T05:21:42.703446",
     "exception": false,
     "start_time": "2025-03-20T05:21:42.671563",
     "status": "completed"
    },
    "tags": [
     "injected-parameters"
    ]
   },
   "outputs": [],
   "source": [
    "# Parameters\n",
    "CELL_TYPE = \"DC\"\n"
   ]
  },
  {
   "cell_type": "code",
   "execution_count": 3,
   "id": "6d1e18ec",
   "metadata": {
    "editable": true,
    "execution": {
     "iopub.execute_input": "2025-03-20T05:21:42.729730Z",
     "iopub.status.busy": "2025-03-20T05:21:42.729464Z",
     "iopub.status.idle": "2025-03-20T05:21:42.732315Z",
     "shell.execute_reply": "2025-03-20T05:21:42.731857Z"
    },
    "papermill": {
     "duration": 0.017155,
     "end_time": "2025-03-20T05:21:42.733927",
     "exception": false,
     "start_time": "2025-03-20T05:21:42.716772",
     "status": "completed"
    },
    "slideshow": {
     "slide_type": ""
    },
    "tags": []
   },
   "outputs": [],
   "source": [
    "if RUN_NAME != \"\":\n",
    "    RUN_NAME = RUN_NAME + \"_\""
   ]
  },
  {
   "cell_type": "code",
   "execution_count": 4,
   "id": "60136f0e",
   "metadata": {
    "editable": true,
    "execution": {
     "iopub.execute_input": "2025-03-20T05:21:42.761511Z",
     "iopub.status.busy": "2025-03-20T05:21:42.761048Z",
     "iopub.status.idle": "2025-03-20T05:21:48.911995Z",
     "shell.execute_reply": "2025-03-20T05:21:48.911039Z"
    },
    "papermill": {
     "duration": 6.167206,
     "end_time": "2025-03-20T05:21:48.914355",
     "exception": false,
     "start_time": "2025-03-20T05:21:42.747149",
     "status": "completed"
    },
    "slideshow": {
     "slide_type": ""
    },
    "tags": []
   },
   "outputs": [],
   "source": [
    "import os\n",
    "import sys\n",
    "#from pyprojroot.here import here\n",
    "\n",
    "import pandas as pd\n",
    "import anndata as ad\n",
    "import numpy as np\n",
    "import math\n",
    "from sklearn.model_selection import StratifiedGroupKFold\n",
    "from sklearn.preprocessing import LabelEncoder\n",
    "from sklearn.metrics import f1_score\n",
    "import matplotlib.pyplot as plt\n",
    "import seaborn as sns\n",
    "from itertools import product\n",
    "\n",
    "import optuna\n",
    "\n",
    "import joblib\n",
    "import pickle\n",
    "import datetime\n",
    "\n",
    "import collections\n",
    "\n",
    "import xgboost\n",
    "from sklearn.preprocessing import LabelEncoder\n",
    "\n",
    "import scipy.sparse as ssp\n",
    "import joblib\n",
    "\n",
    "from pyprojroot import here\n",
    "\n",
    "from dotenv import load_dotenv"
   ]
  },
  {
   "cell_type": "code",
   "execution_count": 5,
   "id": "8240660c",
   "metadata": {
    "execution": {
     "iopub.execute_input": "2025-03-20T05:21:48.935070Z",
     "iopub.status.busy": "2025-03-20T05:21:48.933703Z",
     "iopub.status.idle": "2025-03-20T05:21:48.941186Z",
     "shell.execute_reply": "2025-03-20T05:21:48.940307Z"
    },
    "papermill": {
     "duration": 0.016843,
     "end_time": "2025-03-20T05:21:48.942689",
     "exception": false,
     "start_time": "2025-03-20T05:21:48.925846",
     "status": "completed"
    },
    "tags": []
   },
   "outputs": [],
   "source": [
    "assert load_dotenv()"
   ]
  },
  {
   "cell_type": "markdown",
   "id": "95c071a9",
   "metadata": {
    "execution": {
     "iopub.execute_input": "2025-03-17T14:39:30.205388Z",
     "iopub.status.busy": "2025-03-17T14:39:30.204197Z",
     "iopub.status.idle": "2025-03-17T14:39:30.210586Z",
     "shell.execute_reply": "2025-03-17T14:39:30.209317Z",
     "shell.execute_reply.started": "2025-03-17T14:39:30.205342Z"
    },
    "papermill": {
     "duration": 0.007618,
     "end_time": "2025-03-20T05:21:48.959766",
     "exception": false,
     "start_time": "2025-03-20T05:21:48.952148",
     "status": "completed"
    },
    "tags": []
   },
   "source": [
    "def here(fpath):\n",
    "    return os.path.join(BUCKET_DIRPATH, fpath)"
   ]
  },
  {
   "cell_type": "code",
   "execution_count": 6,
   "id": "aff9e0ba",
   "metadata": {
    "execution": {
     "iopub.execute_input": "2025-03-20T05:21:48.984874Z",
     "iopub.status.busy": "2025-03-20T05:21:48.984165Z",
     "iopub.status.idle": "2025-03-20T05:21:48.989079Z",
     "shell.execute_reply": "2025-03-20T05:21:48.988197Z"
    },
    "papermill": {
     "duration": 0.013574,
     "end_time": "2025-03-20T05:21:48.990109",
     "exception": false,
     "start_time": "2025-03-20T05:21:48.976535",
     "status": "completed"
    },
    "tags": []
   },
   "outputs": [],
   "source": [
    "target_y = 'studyID'"
   ]
  },
  {
   "cell_type": "markdown",
   "id": "45dbd4b3",
   "metadata": {
    "papermill": {
     "duration": 0.005155,
     "end_time": "2025-03-20T05:21:49.000778",
     "exception": false,
     "start_time": "2025-03-20T05:21:48.995623",
     "status": "completed"
    },
    "tags": []
   },
   "source": [
    "# LOAD DATASET"
   ]
  },
  {
   "cell_type": "code",
   "execution_count": 7,
   "id": "b634ae4c",
   "metadata": {
    "execution": {
     "iopub.execute_input": "2025-03-20T05:21:49.014097Z",
     "iopub.status.busy": "2025-03-20T05:21:49.013428Z",
     "iopub.status.idle": "2025-03-20T05:21:49.714249Z",
     "shell.execute_reply": "2025-03-20T05:21:49.713127Z"
    },
    "papermill": {
     "duration": 0.714477,
     "end_time": "2025-03-20T05:21:49.720547",
     "exception": false,
     "start_time": "2025-03-20T05:21:49.006070",
     "status": "completed"
    },
    "tags": []
   },
   "outputs": [],
   "source": [
    "adata = ad.read_h5ad(\n",
    "    str(here(f'03_downstream_analysis/08_gene_importance/data/{CELL_TYPE}_adataMerged_SPECTRAgenes.log1p.h5ad')),\n",
    "    backed='r',\n",
    "    chunk_size=25000\n",
    ")"
   ]
  },
  {
   "cell_type": "code",
   "execution_count": 8,
   "id": "3a44b474",
   "metadata": {
    "execution": {
     "iopub.execute_input": "2025-03-20T05:21:49.766146Z",
     "iopub.status.busy": "2025-03-20T05:21:49.765580Z",
     "iopub.status.idle": "2025-03-20T05:21:49.825750Z",
     "shell.execute_reply": "2025-03-20T05:21:49.824408Z"
    },
    "papermill": {
     "duration": 0.084949,
     "end_time": "2025-03-20T05:21:49.830983",
     "exception": false,
     "start_time": "2025-03-20T05:21:49.746034",
     "status": "completed"
    },
    "tags": []
   },
   "outputs": [
    {
     "data": {
      "text/html": [
       "<div>\n",
       "<style scoped>\n",
       "    .dataframe tbody tr th:only-of-type {\n",
       "        vertical-align: middle;\n",
       "    }\n",
       "\n",
       "    .dataframe tbody tr th {\n",
       "        vertical-align: top;\n",
       "    }\n",
       "\n",
       "    .dataframe thead th {\n",
       "        text-align: right;\n",
       "    }\n",
       "</style>\n",
       "<table border=\"1\" class=\"dataframe\">\n",
       "  <thead>\n",
       "    <tr style=\"text-align: right;\">\n",
       "      <th></th>\n",
       "      <th>studyID</th>\n",
       "      <th>libraryID</th>\n",
       "      <th>sampleID</th>\n",
       "      <th>chemistry</th>\n",
       "      <th>disease</th>\n",
       "      <th>sex</th>\n",
       "      <th>binned_age</th>\n",
       "      <th>Level1</th>\n",
       "      <th>Level2</th>\n",
       "    </tr>\n",
       "    <tr>\n",
       "      <th>cellID</th>\n",
       "      <th></th>\n",
       "      <th></th>\n",
       "      <th></th>\n",
       "      <th></th>\n",
       "      <th></th>\n",
       "      <th></th>\n",
       "      <th></th>\n",
       "      <th></th>\n",
       "      <th></th>\n",
       "    </tr>\n",
       "  </thead>\n",
       "  <tbody>\n",
       "    <tr>\n",
       "      <th>Perez2022_L024_1785_T0_AAATGCCGTAATTGGA</th>\n",
       "      <td>Perez2022</td>\n",
       "      <td>Perez2022_L024</td>\n",
       "      <td>Perez2022_1785_T0</td>\n",
       "      <td>3_GEX_V2</td>\n",
       "      <td>SLE</td>\n",
       "      <td>female</td>\n",
       "      <td>51-60</td>\n",
       "      <td>DC</td>\n",
       "      <td>DC4</td>\n",
       "    </tr>\n",
       "    <tr>\n",
       "      <th>Perez2022_L024_1785_T0_GCGCAGTAGGAGTTTA</th>\n",
       "      <td>Perez2022</td>\n",
       "      <td>Perez2022_L024</td>\n",
       "      <td>Perez2022_1785_T0</td>\n",
       "      <td>3_GEX_V2</td>\n",
       "      <td>SLE</td>\n",
       "      <td>female</td>\n",
       "      <td>51-60</td>\n",
       "      <td>DC</td>\n",
       "      <td>cDC2</td>\n",
       "    </tr>\n",
       "    <tr>\n",
       "      <th>Perez2022_L027_1785_T0_ATCTGCCAGCTGTCTA</th>\n",
       "      <td>Perez2022</td>\n",
       "      <td>Perez2022_L027</td>\n",
       "      <td>Perez2022_1785_T0</td>\n",
       "      <td>3_GEX_V2</td>\n",
       "      <td>SLE</td>\n",
       "      <td>female</td>\n",
       "      <td>51-60</td>\n",
       "      <td>DC</td>\n",
       "      <td>cDC3</td>\n",
       "    </tr>\n",
       "    <tr>\n",
       "      <th>Perez2022_L027_1785_T0_CACATAGGTGACGCCT</th>\n",
       "      <td>Perez2022</td>\n",
       "      <td>Perez2022_L027</td>\n",
       "      <td>Perez2022_1785_T0</td>\n",
       "      <td>3_GEX_V2</td>\n",
       "      <td>SLE</td>\n",
       "      <td>female</td>\n",
       "      <td>51-60</td>\n",
       "      <td>DC</td>\n",
       "      <td>cDC2</td>\n",
       "    </tr>\n",
       "    <tr>\n",
       "      <th>Perez2022_L027_1785_T0_CCTAAAGGTGCATCTA</th>\n",
       "      <td>Perez2022</td>\n",
       "      <td>Perez2022_L027</td>\n",
       "      <td>Perez2022_1785_T0</td>\n",
       "      <td>3_GEX_V2</td>\n",
       "      <td>SLE</td>\n",
       "      <td>female</td>\n",
       "      <td>51-60</td>\n",
       "      <td>DC</td>\n",
       "      <td>cDC3</td>\n",
       "    </tr>\n",
       "    <tr>\n",
       "      <th>...</th>\n",
       "      <td>...</td>\n",
       "      <td>...</td>\n",
       "      <td>...</td>\n",
       "      <td>...</td>\n",
       "      <td>...</td>\n",
       "      <td>...</td>\n",
       "      <td>...</td>\n",
       "      <td>...</td>\n",
       "      <td>...</td>\n",
       "    </tr>\n",
       "    <tr>\n",
       "      <th>Perez2022_L083_1602_T0_CGATGGCAGACCTTTG</th>\n",
       "      <td>Perez2022</td>\n",
       "      <td>Perez2022_L083</td>\n",
       "      <td>Perez2022_1602_T0</td>\n",
       "      <td>3_GEX_V2</td>\n",
       "      <td>SLE</td>\n",
       "      <td>female</td>\n",
       "      <td>61-70</td>\n",
       "      <td>DC</td>\n",
       "      <td>cDC3</td>\n",
       "    </tr>\n",
       "    <tr>\n",
       "      <th>Perez2022_L083_1602_T0_CTGTTTAGTCAGATAA</th>\n",
       "      <td>Perez2022</td>\n",
       "      <td>Perez2022_L083</td>\n",
       "      <td>Perez2022_1602_T0</td>\n",
       "      <td>3_GEX_V2</td>\n",
       "      <td>SLE</td>\n",
       "      <td>female</td>\n",
       "      <td>61-70</td>\n",
       "      <td>DC</td>\n",
       "      <td>DC5</td>\n",
       "    </tr>\n",
       "    <tr>\n",
       "      <th>Perez2022_L083_1602_T0_TAGTTGGCAAAGGCGT</th>\n",
       "      <td>Perez2022</td>\n",
       "      <td>Perez2022_L083</td>\n",
       "      <td>Perez2022_1602_T0</td>\n",
       "      <td>3_GEX_V2</td>\n",
       "      <td>SLE</td>\n",
       "      <td>female</td>\n",
       "      <td>61-70</td>\n",
       "      <td>DC</td>\n",
       "      <td>DC4</td>\n",
       "    </tr>\n",
       "    <tr>\n",
       "      <th>Perez2022_L083_1602_T0_TCTGAGACAGTTTACG</th>\n",
       "      <td>Perez2022</td>\n",
       "      <td>Perez2022_L083</td>\n",
       "      <td>Perez2022_1602_T0</td>\n",
       "      <td>3_GEX_V2</td>\n",
       "      <td>SLE</td>\n",
       "      <td>female</td>\n",
       "      <td>61-70</td>\n",
       "      <td>DC</td>\n",
       "      <td>DC4</td>\n",
       "    </tr>\n",
       "    <tr>\n",
       "      <th>Perez2022_L083_1602_T0_TTCGAAGAGAGTGACC</th>\n",
       "      <td>Perez2022</td>\n",
       "      <td>Perez2022_L083</td>\n",
       "      <td>Perez2022_1602_T0</td>\n",
       "      <td>3_GEX_V2</td>\n",
       "      <td>SLE</td>\n",
       "      <td>female</td>\n",
       "      <td>61-70</td>\n",
       "      <td>DC</td>\n",
       "      <td>cDC2</td>\n",
       "    </tr>\n",
       "  </tbody>\n",
       "</table>\n",
       "<p>47076 rows × 9 columns</p>\n",
       "</div>"
      ],
      "text/plain": [
       "                                           studyID       libraryID  \\\n",
       "cellID                                                               \n",
       "Perez2022_L024_1785_T0_AAATGCCGTAATTGGA  Perez2022  Perez2022_L024   \n",
       "Perez2022_L024_1785_T0_GCGCAGTAGGAGTTTA  Perez2022  Perez2022_L024   \n",
       "Perez2022_L027_1785_T0_ATCTGCCAGCTGTCTA  Perez2022  Perez2022_L027   \n",
       "Perez2022_L027_1785_T0_CACATAGGTGACGCCT  Perez2022  Perez2022_L027   \n",
       "Perez2022_L027_1785_T0_CCTAAAGGTGCATCTA  Perez2022  Perez2022_L027   \n",
       "...                                            ...             ...   \n",
       "Perez2022_L083_1602_T0_CGATGGCAGACCTTTG  Perez2022  Perez2022_L083   \n",
       "Perez2022_L083_1602_T0_CTGTTTAGTCAGATAA  Perez2022  Perez2022_L083   \n",
       "Perez2022_L083_1602_T0_TAGTTGGCAAAGGCGT  Perez2022  Perez2022_L083   \n",
       "Perez2022_L083_1602_T0_TCTGAGACAGTTTACG  Perez2022  Perez2022_L083   \n",
       "Perez2022_L083_1602_T0_TTCGAAGAGAGTGACC  Perez2022  Perez2022_L083   \n",
       "\n",
       "                                                  sampleID chemistry disease  \\\n",
       "cellID                                                                         \n",
       "Perez2022_L024_1785_T0_AAATGCCGTAATTGGA  Perez2022_1785_T0  3_GEX_V2     SLE   \n",
       "Perez2022_L024_1785_T0_GCGCAGTAGGAGTTTA  Perez2022_1785_T0  3_GEX_V2     SLE   \n",
       "Perez2022_L027_1785_T0_ATCTGCCAGCTGTCTA  Perez2022_1785_T0  3_GEX_V2     SLE   \n",
       "Perez2022_L027_1785_T0_CACATAGGTGACGCCT  Perez2022_1785_T0  3_GEX_V2     SLE   \n",
       "Perez2022_L027_1785_T0_CCTAAAGGTGCATCTA  Perez2022_1785_T0  3_GEX_V2     SLE   \n",
       "...                                                    ...       ...     ...   \n",
       "Perez2022_L083_1602_T0_CGATGGCAGACCTTTG  Perez2022_1602_T0  3_GEX_V2     SLE   \n",
       "Perez2022_L083_1602_T0_CTGTTTAGTCAGATAA  Perez2022_1602_T0  3_GEX_V2     SLE   \n",
       "Perez2022_L083_1602_T0_TAGTTGGCAAAGGCGT  Perez2022_1602_T0  3_GEX_V2     SLE   \n",
       "Perez2022_L083_1602_T0_TCTGAGACAGTTTACG  Perez2022_1602_T0  3_GEX_V2     SLE   \n",
       "Perez2022_L083_1602_T0_TTCGAAGAGAGTGACC  Perez2022_1602_T0  3_GEX_V2     SLE   \n",
       "\n",
       "                                            sex binned_age Level1 Level2  \n",
       "cellID                                                                    \n",
       "Perez2022_L024_1785_T0_AAATGCCGTAATTGGA  female      51-60     DC    DC4  \n",
       "Perez2022_L024_1785_T0_GCGCAGTAGGAGTTTA  female      51-60     DC   cDC2  \n",
       "Perez2022_L027_1785_T0_ATCTGCCAGCTGTCTA  female      51-60     DC   cDC3  \n",
       "Perez2022_L027_1785_T0_CACATAGGTGACGCCT  female      51-60     DC   cDC2  \n",
       "Perez2022_L027_1785_T0_CCTAAAGGTGCATCTA  female      51-60     DC   cDC3  \n",
       "...                                         ...        ...    ...    ...  \n",
       "Perez2022_L083_1602_T0_CGATGGCAGACCTTTG  female      61-70     DC   cDC3  \n",
       "Perez2022_L083_1602_T0_CTGTTTAGTCAGATAA  female      61-70     DC    DC5  \n",
       "Perez2022_L083_1602_T0_TAGTTGGCAAAGGCGT  female      61-70     DC    DC4  \n",
       "Perez2022_L083_1602_T0_TCTGAGACAGTTTACG  female      61-70     DC    DC4  \n",
       "Perez2022_L083_1602_T0_TTCGAAGAGAGTGACC  female      61-70     DC   cDC2  \n",
       "\n",
       "[47076 rows x 9 columns]"
      ]
     },
     "execution_count": 8,
     "metadata": {},
     "output_type": "execute_result"
    }
   ],
   "source": [
    "adata.obs"
   ]
  },
  {
   "cell_type": "markdown",
   "id": "64f88bf7",
   "metadata": {
    "papermill": {
     "duration": 0.01208,
     "end_time": "2025-03-20T05:21:49.883503",
     "exception": false,
     "start_time": "2025-03-20T05:21:49.871423",
     "status": "completed"
    },
    "tags": []
   },
   "source": [
    "# EXTRACT INDEXES FOR DATA SPLITTING (STRATIFIED BY DISEASE, GROUPED BY PATIENT)\n",
    "\n",
    "# EXTRACT CELL COUNTS PER SPLIT (TO MAKE SURE THAT RATIOS RESEMBLE 70:20:10)"
   ]
  },
  {
   "cell_type": "code",
   "execution_count": 9,
   "id": "39b9092d",
   "metadata": {
    "execution": {
     "iopub.execute_input": "2025-03-20T05:21:49.915738Z",
     "iopub.status.busy": "2025-03-20T05:21:49.912082Z",
     "iopub.status.idle": "2025-03-20T05:21:50.694918Z",
     "shell.execute_reply": "2025-03-20T05:21:50.691347Z"
    },
    "papermill": {
     "duration": 0.800505,
     "end_time": "2025-03-20T05:21:50.697006",
     "exception": false,
     "start_time": "2025-03-20T05:21:49.896501",
     "status": "completed"
    },
    "tags": []
   },
   "outputs": [],
   "source": [
    "all_idxs = np.arange(adata.obs.shape[0])\n",
    "left_out_splits = [s[1] for s in StratifiedGroupKFold(n_splits=N_SPLITS).split(all_idxs, adata.obs[target_y], adata.obs.sampleID)]\n",
    "\n",
    "min_stats = []\n",
    "for val_fold_idx, test_fold_idx in product(range(N_SPLITS), range(1,N_SPLITS)):\n",
    "    if val_fold_idx == test_fold_idx:\n",
    "        continue\n",
    "\n",
    "    all_idxs = np.arange(adata.obs.shape[0])\n",
    "    val_idxs, test_idxs = left_out_splits[val_fold_idx], left_out_splits[test_fold_idx]\n",
    "    train_idxs = np.delete(all_idxs, np.union1d(val_idxs, test_idxs))\n",
    "\n",
    "    cell_count_df = []\n",
    "    cell_count_df.append(adata.obs.iloc[train_idxs].groupby(target_y, observed=False).size().to_frame(name='cell_count').reset_index().assign(split='train'))\n",
    "    cell_count_df.append(adata.obs.iloc[val_idxs].groupby(target_y, observed=False).size().to_frame(name='cell_count').reset_index().assign(split='val'))\n",
    "    cell_count_df.append(adata.obs.iloc[test_idxs].groupby(target_y, observed=False).size().to_frame(name='cell_count').reset_index().assign(split='test'))\n",
    "    cell_count_df = pd.concat(cell_count_df).pivot(index=target_y, columns='split', values='cell_count')\n",
    "    cell_plot_data = cell_count_df.div(cell_count_df.sum(axis=1), axis=0).reset_index().melt(id_vars=target_y)\n",
    "    min_stats.append((val_fold_idx, test_fold_idx, cell_plot_data.query('split==\"train\"').value.min(), cell_plot_data.query('split==\"test\"').value.min()))"
   ]
  },
  {
   "cell_type": "markdown",
   "id": "2ea3f66d",
   "metadata": {
    "papermill": {
     "duration": 0.008827,
     "end_time": "2025-03-20T05:21:50.718287",
     "exception": false,
     "start_time": "2025-03-20T05:21:50.709460",
     "status": "completed"
    },
    "tags": []
   },
   "source": [
    "# CALCULATE RATIOS OF PATIENTS IN TRAINING AND TESTING SET: splits that best fit the expected ratios"
   ]
  },
  {
   "cell_type": "code",
   "execution_count": 10,
   "id": "6f264088",
   "metadata": {
    "execution": {
     "iopub.execute_input": "2025-03-20T05:21:50.736636Z",
     "iopub.status.busy": "2025-03-20T05:21:50.736349Z",
     "iopub.status.idle": "2025-03-20T05:21:50.770210Z",
     "shell.execute_reply": "2025-03-20T05:21:50.765397Z"
    },
    "papermill": {
     "duration": 0.053603,
     "end_time": "2025-03-20T05:21:50.778655",
     "exception": false,
     "start_time": "2025-03-20T05:21:50.725052",
     "status": "completed"
    },
    "tags": []
   },
   "outputs": [
    {
     "data": {
      "text/html": [
       "<div>\n",
       "<style scoped>\n",
       "    .dataframe tbody tr th:only-of-type {\n",
       "        vertical-align: middle;\n",
       "    }\n",
       "\n",
       "    .dataframe tbody tr th {\n",
       "        vertical-align: top;\n",
       "    }\n",
       "\n",
       "    .dataframe thead th {\n",
       "        text-align: right;\n",
       "    }\n",
       "</style>\n",
       "<table border=\"1\" class=\"dataframe\">\n",
       "  <thead>\n",
       "    <tr style=\"text-align: right;\">\n",
       "      <th></th>\n",
       "      <th>val_idx</th>\n",
       "      <th>test_idx</th>\n",
       "      <th>train_min</th>\n",
       "      <th>test_mean</th>\n",
       "      <th>ranking</th>\n",
       "    </tr>\n",
       "  </thead>\n",
       "  <tbody>\n",
       "    <tr>\n",
       "      <th>0</th>\n",
       "      <td>0</td>\n",
       "      <td>1</td>\n",
       "      <td>0.454801</td>\n",
       "      <td>0.618941</td>\n",
       "      <td>0.281495</td>\n",
       "    </tr>\n",
       "    <tr>\n",
       "      <th>1</th>\n",
       "      <td>0</td>\n",
       "      <td>2</td>\n",
       "      <td>0.337794</td>\n",
       "      <td>1.000000</td>\n",
       "      <td>0.337794</td>\n",
       "    </tr>\n",
       "    <tr>\n",
       "      <th>13</th>\n",
       "      <td>4</td>\n",
       "      <td>1</td>\n",
       "      <td>0.650307</td>\n",
       "      <td>0.618941</td>\n",
       "      <td>0.402502</td>\n",
       "    </tr>\n",
       "    <tr>\n",
       "      <th>6</th>\n",
       "      <td>1</td>\n",
       "      <td>4</td>\n",
       "      <td>0.650307</td>\n",
       "      <td>0.638889</td>\n",
       "      <td>0.415474</td>\n",
       "    </tr>\n",
       "    <tr>\n",
       "      <th>7</th>\n",
       "      <td>2</td>\n",
       "      <td>1</td>\n",
       "      <td>0.713685</td>\n",
       "      <td>0.618941</td>\n",
       "      <td>0.441729</td>\n",
       "    </tr>\n",
       "    <tr>\n",
       "      <th>9</th>\n",
       "      <td>2</td>\n",
       "      <td>4</td>\n",
       "      <td>0.735908</td>\n",
       "      <td>0.638889</td>\n",
       "      <td>0.470164</td>\n",
       "    </tr>\n",
       "    <tr>\n",
       "      <th>12</th>\n",
       "      <td>3</td>\n",
       "      <td>4</td>\n",
       "      <td>0.810343</td>\n",
       "      <td>0.638889</td>\n",
       "      <td>0.517719</td>\n",
       "    </tr>\n",
       "    <tr>\n",
       "      <th>8</th>\n",
       "      <td>2</td>\n",
       "      <td>3</td>\n",
       "      <td>0.760036</td>\n",
       "      <td>0.696309</td>\n",
       "      <td>0.529220</td>\n",
       "    </tr>\n",
       "    <tr>\n",
       "      <th>10</th>\n",
       "      <td>3</td>\n",
       "      <td>1</td>\n",
       "      <td>0.857624</td>\n",
       "      <td>0.618941</td>\n",
       "      <td>0.530819</td>\n",
       "    </tr>\n",
       "    <tr>\n",
       "      <th>15</th>\n",
       "      <td>4</td>\n",
       "      <td>3</td>\n",
       "      <td>0.810343</td>\n",
       "      <td>0.696309</td>\n",
       "      <td>0.564249</td>\n",
       "    </tr>\n",
       "    <tr>\n",
       "      <th>5</th>\n",
       "      <td>1</td>\n",
       "      <td>3</td>\n",
       "      <td>0.857624</td>\n",
       "      <td>0.696309</td>\n",
       "      <td>0.597171</td>\n",
       "    </tr>\n",
       "    <tr>\n",
       "      <th>3</th>\n",
       "      <td>0</td>\n",
       "      <td>4</td>\n",
       "      <td>1.000000</td>\n",
       "      <td>0.638889</td>\n",
       "      <td>0.638889</td>\n",
       "    </tr>\n",
       "    <tr>\n",
       "      <th>2</th>\n",
       "      <td>0</td>\n",
       "      <td>3</td>\n",
       "      <td>0.996230</td>\n",
       "      <td>0.696309</td>\n",
       "      <td>0.693684</td>\n",
       "    </tr>\n",
       "    <tr>\n",
       "      <th>4</th>\n",
       "      <td>1</td>\n",
       "      <td>2</td>\n",
       "      <td>0.713685</td>\n",
       "      <td>1.000000</td>\n",
       "      <td>0.713685</td>\n",
       "    </tr>\n",
       "    <tr>\n",
       "      <th>14</th>\n",
       "      <td>4</td>\n",
       "      <td>2</td>\n",
       "      <td>0.735908</td>\n",
       "      <td>1.000000</td>\n",
       "      <td>0.735908</td>\n",
       "    </tr>\n",
       "    <tr>\n",
       "      <th>11</th>\n",
       "      <td>3</td>\n",
       "      <td>2</td>\n",
       "      <td>0.760036</td>\n",
       "      <td>1.000000</td>\n",
       "      <td>0.760036</td>\n",
       "    </tr>\n",
       "  </tbody>\n",
       "</table>\n",
       "</div>"
      ],
      "text/plain": [
       "    val_idx  test_idx  train_min  test_mean   ranking\n",
       "0         0         1   0.454801   0.618941  0.281495\n",
       "1         0         2   0.337794   1.000000  0.337794\n",
       "13        4         1   0.650307   0.618941  0.402502\n",
       "6         1         4   0.650307   0.638889  0.415474\n",
       "7         2         1   0.713685   0.618941  0.441729\n",
       "9         2         4   0.735908   0.638889  0.470164\n",
       "12        3         4   0.810343   0.638889  0.517719\n",
       "8         2         3   0.760036   0.696309  0.529220\n",
       "10        3         1   0.857624   0.618941  0.530819\n",
       "15        4         3   0.810343   0.696309  0.564249\n",
       "5         1         3   0.857624   0.696309  0.597171\n",
       "3         0         4   1.000000   0.638889  0.638889\n",
       "2         0         3   0.996230   0.696309  0.693684\n",
       "4         1         2   0.713685   1.000000  0.713685\n",
       "14        4         2   0.735908   1.000000  0.735908\n",
       "11        3         2   0.760036   1.000000  0.760036"
      ]
     },
     "execution_count": 10,
     "metadata": {},
     "output_type": "execute_result"
    }
   ],
   "source": [
    "split_rankings_df = (pd.DataFrame(min_stats, columns=['val_idx', 'test_idx', 'train_min', 'test_mean'])\n",
    " .assign(train_min = lambda df: df.train_min / df.train_min.max())\n",
    " .assign(test_mean = lambda df: df.test_mean / df.test_mean.max())\n",
    " .assign(ranking = lambda df: df.test_mean * df.train_min)\n",
    " .sort_values('ranking'))\n",
    "split_rankings_df"
   ]
  },
  {
   "cell_type": "code",
   "execution_count": 11,
   "id": "c9c1796a",
   "metadata": {
    "execution": {
     "iopub.execute_input": "2025-03-20T05:21:50.809736Z",
     "iopub.status.busy": "2025-03-20T05:21:50.807712Z",
     "iopub.status.idle": "2025-03-20T05:21:50.818075Z",
     "shell.execute_reply": "2025-03-20T05:21:50.817538Z"
    },
    "papermill": {
     "duration": 0.023633,
     "end_time": "2025-03-20T05:21:50.819070",
     "exception": false,
     "start_time": "2025-03-20T05:21:50.795437",
     "status": "completed"
    },
    "tags": []
   },
   "outputs": [],
   "source": [
    "best_split = split_rankings_df.loc[split_rankings_df['ranking'].idxmax()]\n",
    "all_idxs = np.arange(adata.obs.shape[0])\n",
    "val_idxs, test_idxs = left_out_splits[best_split.val_idx.astype(int)], left_out_splits[best_split.test_idx.astype(int)]\n",
    "train_idxs = np.delete(all_idxs, np.union1d(val_idxs, test_idxs))"
   ]
  },
  {
   "cell_type": "markdown",
   "id": "eb1cbced",
   "metadata": {
    "papermill": {
     "duration": 0.019646,
     "end_time": "2025-03-20T05:21:50.853699",
     "exception": false,
     "start_time": "2025-03-20T05:21:50.834053",
     "status": "completed"
    },
    "tags": []
   },
   "source": [
    "### CHECK NUMBER OF CELLS PER SPLIT"
   ]
  },
  {
   "cell_type": "code",
   "execution_count": 12,
   "id": "43a89ebf",
   "metadata": {
    "execution": {
     "iopub.execute_input": "2025-03-20T05:21:50.881202Z",
     "iopub.status.busy": "2025-03-20T05:21:50.880924Z",
     "iopub.status.idle": "2025-03-20T05:21:50.980905Z",
     "shell.execute_reply": "2025-03-20T05:21:50.980322Z"
    },
    "papermill": {
     "duration": 0.119782,
     "end_time": "2025-03-20T05:21:50.985162",
     "exception": false,
     "start_time": "2025-03-20T05:21:50.865380",
     "status": "completed"
    },
    "tags": []
   },
   "outputs": [],
   "source": [
    "cell_count_df = []\n",
    "cell_count_df.append(adata.obs.iloc[train_idxs].groupby(target_y, observed=False).size().to_frame(name='cell_count').reset_index().assign(split='train'))\n",
    "cell_count_df.append(adata.obs.iloc[val_idxs].groupby(target_y, observed=False).size().to_frame(name='cell_count').reset_index().assign(split='val'))\n",
    "cell_count_df.append(adata.obs.iloc[test_idxs].groupby(target_y, observed=False).size().to_frame(name='cell_count').reset_index().assign(split='test'))\n",
    "cell_count_df = pd.concat(cell_count_df).pivot(index=target_y, columns='split', values='cell_count')\n",
    "cell_plot_data = cell_count_df.div(cell_count_df.sum(axis=1), axis=0).reset_index().melt(id_vars=target_y)\n",
    "\n",
    "pat_count_df = []\n",
    "pat_count_df.append(adata.obs.iloc[train_idxs].groupby(target_y, observed=False).sampleID.nunique().to_frame(name='patient_count').reset_index().assign(split='train'))\n",
    "pat_count_df.append(adata.obs.iloc[val_idxs].groupby(target_y, observed=False).sampleID.nunique().to_frame(name='patient_count').reset_index().assign(split='val'))\n",
    "pat_count_df.append(adata.obs.iloc[test_idxs].groupby(target_y, observed=False).sampleID.nunique().to_frame(name='patient_count').reset_index().assign(split='test'))\n",
    "pd.concat(pat_count_df).pivot(index=target_y, columns='split', values='patient_count')\n",
    "pat_count_df = pd.concat(pat_count_df).pivot(index=target_y, columns='split', values='patient_count')\n",
    "pat_count_df = pat_count_df.div(pat_count_df.sum(axis=1), axis=0)\n",
    "pat_plot_data = pat_count_df.div(pat_count_df.sum(axis=1), axis=0).reset_index().melt(id_vars=target_y)\n",
    "\n",
    "train_pats = set(adata.obs.iloc[train_idxs].sampleID)\n",
    "test_pats = set(adata.obs.iloc[test_idxs].sampleID)\n",
    "val_pats = set(adata.obs.iloc[val_idxs].sampleID)"
   ]
  },
  {
   "cell_type": "code",
   "execution_count": 13,
   "id": "632f7307",
   "metadata": {
    "execution": {
     "iopub.execute_input": "2025-03-20T05:21:51.019570Z",
     "iopub.status.busy": "2025-03-20T05:21:51.019151Z",
     "iopub.status.idle": "2025-03-20T05:21:51.027040Z",
     "shell.execute_reply": "2025-03-20T05:21:51.026266Z"
    },
    "papermill": {
     "duration": 0.025116,
     "end_time": "2025-03-20T05:21:51.028719",
     "exception": false,
     "start_time": "2025-03-20T05:21:51.003603",
     "status": "completed"
    },
    "tags": []
   },
   "outputs": [],
   "source": [
    "assert val_pats.intersection(test_pats) != {}\n",
    "assert train_pats.intersection(test_pats) != {}\n",
    "assert train_pats.intersection(val_pats) != {}"
   ]
  },
  {
   "cell_type": "markdown",
   "id": "45d81b06",
   "metadata": {
    "papermill": {
     "duration": 0.013858,
     "end_time": "2025-03-20T05:21:51.057302",
     "exception": false,
     "start_time": "2025-03-20T05:21:51.043444",
     "status": "completed"
    },
    "tags": []
   },
   "source": [
    "### PLOT PATIENT AND CELL DISTRIBUTION ACROSS TRAIN, TEST, AND VALIDATION SETS PER DISEASE\n",
    "### CHECK THAT THEY APPROXIMATE EXPECTATION"
   ]
  },
  {
   "cell_type": "code",
   "execution_count": 14,
   "id": "e9f13245",
   "metadata": {
    "execution": {
     "iopub.execute_input": "2025-03-20T05:21:51.086049Z",
     "iopub.status.busy": "2025-03-20T05:21:51.085668Z",
     "iopub.status.idle": "2025-03-20T05:21:52.886057Z",
     "shell.execute_reply": "2025-03-20T05:21:52.885464Z"
    },
    "papermill": {
     "duration": 1.815848,
     "end_time": "2025-03-20T05:21:52.886997",
     "exception": false,
     "start_time": "2025-03-20T05:21:51.071149",
     "status": "completed"
    },
    "tags": []
   },
   "outputs": [
    {
     "data": {
      "image/png": "[encoded data removed]",
      "text/plain": [
       "<Figure size 2000x600 with 2 Axes>"
      ]
     },
     "metadata": {},
     "output_type": "display_data"
    }
   ],
   "source": [
    "_, axs = plt.subplots(1, 2, figsize=(20, 6))\n",
    "sns.barplot(x=target_y, y='value', hue='split', data=cell_plot_data, ax=axs[0])\n",
    "axs[0].set_title('Cell distribution')\n",
    "axs[0].tick_params(axis='x', labelrotation=90)\n",
    "sns.barplot(x=target_y, y='value', hue='split', data=pat_plot_data, ax=axs[1])\n",
    "axs[1].set_title('Patients distribution')\n",
    "axs[1].tick_params(axis='x', labelrotation=90)\n",
    "\n",
    "os.makedirs(here(f\"03_downstream_analysis/08_gene_importance/results/targetY_{target_y}/01_split_plots/\"), exist_ok=True)\n",
    "\n",
    "plt.savefig(here(f'03_downstream_analysis/08_gene_importance/results/targetY_{target_y}/01_split_plots/{RUN_NAME}{CELL_TYPE}_split_quality.pdf'), bbox_inches='tight', dpi=300)"
   ]
  },
  {
   "cell_type": "code",
   "execution_count": 15,
   "id": "39ed34ae",
   "metadata": {
    "execution": {
     "iopub.execute_input": "2025-03-20T05:21:52.943978Z",
     "iopub.status.busy": "2025-03-20T05:21:52.943420Z",
     "iopub.status.idle": "2025-03-20T05:21:53.004370Z",
     "shell.execute_reply": "2025-03-20T05:21:53.000109Z"
    },
    "papermill": {
     "duration": 0.084837,
     "end_time": "2025-03-20T05:21:53.008978",
     "exception": false,
     "start_time": "2025-03-20T05:21:52.924141",
     "status": "completed"
    },
    "tags": []
   },
   "outputs": [],
   "source": [
    "os.makedirs(here(f\"03_downstream_analysis/08_gene_importance/results/targetY_{target_y}/02_preprocessing/\"), exist_ok=True)\n",
    "\n",
    "np.save(here(f\"03_downstream_analysis/08_gene_importance/results/targetY_{target_y}/02_preprocessing/{RUN_NAME}{CELL_TYPE}_train_idxs.npy\"), train_idxs)\n",
    "np.save(here(f\"03_downstream_analysis/08_gene_importance/results/targetY_{target_y}/02_preprocessing/{RUN_NAME}{CELL_TYPE}_val_idxs.npy\"), val_idxs)\n",
    "np.save(here(f\"03_downstream_analysis/08_gene_importance/results/targetY_{target_y}/02_preprocessing/{RUN_NAME}{CELL_TYPE}_test_idxs.npy\"), test_idxs)"
   ]
  },
  {
   "cell_type": "markdown",
   "id": "bd1a227e",
   "metadata": {
    "papermill": {
     "duration": 0.015149,
     "end_time": "2025-03-20T05:21:53.045491",
     "exception": false,
     "start_time": "2025-03-20T05:21:53.030342",
     "status": "completed"
    },
    "tags": []
   },
   "source": [
    "### SUBSET DATASET INTO TRAIN/TEST/VAL SPLITS"
   ]
  },
  {
   "cell_type": "code",
   "execution_count": 16,
   "id": "5f8ce099",
   "metadata": {
    "execution": {
     "iopub.execute_input": "2025-03-20T05:21:53.094283Z",
     "iopub.status.busy": "2025-03-20T05:21:53.093715Z",
     "iopub.status.idle": "2025-03-20T05:21:58.977397Z",
     "shell.execute_reply": "2025-03-20T05:21:58.977016Z"
    },
    "papermill": {
     "duration": 5.908287,
     "end_time": "2025-03-20T05:21:58.978363",
     "exception": false,
     "start_time": "2025-03-20T05:21:53.070076",
     "status": "completed"
    },
    "tags": []
   },
   "outputs": [
    {
     "data": {
      "text/plain": [
       "((28149, 935), (9626, 935), (9301, 935))"
      ]
     },
     "execution_count": 16,
     "metadata": {},
     "output_type": "execute_result"
    }
   ],
   "source": [
    "X_train = adata.X[train_idxs]\n",
    "X_test = adata.X[test_idxs]\n",
    "X_val = adata.X[val_idxs]\n",
    "X_train.shape, X_test.shape, X_val.shape"
   ]
  },
  {
   "cell_type": "code",
   "execution_count": 17,
   "id": "2de3b864",
   "metadata": {
    "execution": {
     "iopub.execute_input": "2025-03-20T05:21:59.012512Z",
     "iopub.status.busy": "2025-03-20T05:21:59.012137Z",
     "iopub.status.idle": "2025-03-20T05:21:59.031217Z",
     "shell.execute_reply": "2025-03-20T05:21:59.030376Z"
    },
    "papermill": {
     "duration": 0.038302,
     "end_time": "2025-03-20T05:21:59.032376",
     "exception": false,
     "start_time": "2025-03-20T05:21:58.994074",
     "status": "completed"
    },
    "tags": []
   },
   "outputs": [
    {
     "data": {
      "text/plain": [
       "((28149,), (9626,), (9301,))"
      ]
     },
     "execution_count": 17,
     "metadata": {},
     "output_type": "execute_result"
    }
   ],
   "source": [
    "y_train = adata.obs.iloc[train_idxs][target_y].values.astype(str)\n",
    "y_test = adata.obs.iloc[test_idxs][target_y].values.astype(str)\n",
    "y_val = adata.obs.iloc[val_idxs][target_y].values.astype(str)\n",
    "y_train.shape, y_test.shape, y_val.shape "
   ]
  },
  {
   "cell_type": "code",
   "execution_count": 18,
   "id": "c652a8c3",
   "metadata": {
    "execution": {
     "iopub.execute_input": "2025-03-20T05:21:59.065137Z",
     "iopub.status.busy": "2025-03-20T05:21:59.064592Z",
     "iopub.status.idle": "2025-03-20T05:21:59.088035Z",
     "shell.execute_reply": "2025-03-20T05:21:59.087207Z"
    },
    "papermill": {
     "duration": 0.045523,
     "end_time": "2025-03-20T05:21:59.091080",
     "exception": false,
     "start_time": "2025-03-20T05:21:59.045557",
     "status": "completed"
    },
    "tags": []
   },
   "outputs": [],
   "source": [
    "lenc = LabelEncoder()\n",
    "y_train_enc = lenc.fit_transform(y_train)\n",
    "y_val_enc = lenc.transform(y_val)\n",
    "y_test_enc = lenc.transform(y_test)"
   ]
  },
  {
   "cell_type": "markdown",
   "id": "e3cb68d1",
   "metadata": {
    "papermill": {
     "duration": 0.01499,
     "end_time": "2025-03-20T05:21:59.137827",
     "exception": false,
     "start_time": "2025-03-20T05:21:59.122837",
     "status": "completed"
    },
    "tags": []
   },
   "source": [
    "### GENERATE F1 "
   ]
  },
  {
   "cell_type": "code",
   "execution_count": 19,
   "id": "b22f6fd6",
   "metadata": {
    "execution": {
     "iopub.execute_input": "2025-03-20T05:21:59.185334Z",
     "iopub.status.busy": "2025-03-20T05:21:59.184939Z",
     "iopub.status.idle": "2025-03-20T05:21:59.187951Z",
     "shell.execute_reply": "2025-03-20T05:21:59.187511Z"
    },
    "papermill": {
     "duration": 0.030986,
     "end_time": "2025-03-20T05:21:59.188999",
     "exception": false,
     "start_time": "2025-03-20T05:21:59.158013",
     "status": "completed"
    },
    "tags": []
   },
   "outputs": [],
   "source": [
    "def custom_f1_score(y_true, y_pred):\n",
    "    return -f1_score(y_true, y_pred.argmax(1), average='weighted')"
   ]
  },
  {
   "cell_type": "code",
   "execution_count": 20,
   "id": "f1274b3c",
   "metadata": {
    "execution": {
     "iopub.execute_input": "2025-03-20T05:21:59.221481Z",
     "iopub.status.busy": "2025-03-20T05:21:59.219410Z",
     "iopub.status.idle": "2025-03-20T05:21:59.228926Z",
     "shell.execute_reply": "2025-03-20T05:21:59.227307Z"
    },
    "papermill": {
     "duration": 0.034712,
     "end_time": "2025-03-20T05:21:59.238849",
     "exception": false,
     "start_time": "2025-03-20T05:21:59.204137",
     "status": "completed"
    },
    "tags": []
   },
   "outputs": [],
   "source": [
    "eval_metric=custom_f1_score\n",
    "eval_metric_name='custom_f1_score'\n",
    "\n",
    "def objective(trial):\n",
    "    params = {\n",
    "        'sampling_method': 'gradient_based',\n",
    "        'n_estimators': 1500,\n",
    "        'max_depth': trial.suggest_int('max_depth', 3, 20),\n",
    "        'min_child_weight': trial.suggest_int('min_child_weight', 1, 250),\n",
    "        'subsample': trial.suggest_float('subsample', 0.1, 1.0),\n",
    "        'colsample_bynode': trial.suggest_float('colsample_bynode', 0.1, 1.0),\n",
    "        'learning_rate': trial.suggest_float('learning_rate', 1e-3, 5e-1, log=True),\n",
    "    }\n",
    "    pruning_callback = optuna.integration.XGBoostPruningCallback(trial, f'validation_0-{eval_metric_name}')\n",
    "    xgb = xgboost.XGBClassifier(\n",
    "        device='gpu',\n",
    "        eval_metric=eval_metric,\n",
    "        early_stopping_rounds=20,\n",
    "        callbacks=[pruning_callback],\n",
    "        **params\n",
    "    )\n",
    "    xgb.fit(\n",
    "        X_train, \n",
    "        y_train_enc, \n",
    "        verbose=0,\n",
    "        eval_set=[(X_val, y_val_enc)],\n",
    "    )\n",
    "    trial.set_user_attr('best_iteration', xgb.best_iteration)\n",
    "\n",
    "    return xgb.best_score"
   ]
  },
  {
   "cell_type": "code",
   "execution_count": 21,
   "id": "9c270c05",
   "metadata": {
    "execution": {
     "iopub.execute_input": "2025-03-20T05:21:59.278567Z",
     "iopub.status.busy": "2025-03-20T05:21:59.271509Z",
     "iopub.status.idle": "2025-03-20T05:24:33.389487Z",
     "shell.execute_reply": "2025-03-20T05:24:33.388410Z"
    },
    "papermill": {
     "duration": 154.142148,
     "end_time": "2025-03-20T05:24:33.395122",
     "exception": false,
     "start_time": "2025-03-20T05:21:59.252974",
     "status": "completed"
    },
    "tags": []
   },
   "outputs": [
    {
     "name": "stderr",
     "output_type": "stream",
     "text": [
      "[I 2025-03-20 05:21:59,280] A new study created in memory with name: no-name-0923c5e5-55f2-4210-9145-5a049ed296bd\n"
     ]
    },
    {
     "name": "stderr",
     "output_type": "stream",
     "text": [
      "/tmp/ipykernel_2772740/350114600.py:4: ExperimentalWarning: WeightsAndBiasesCallback is experimental (supported from v2.9.0). The interface can change in the future.\n",
      "  wandbc = optuna.integration.WeightsAndBiasesCallback(wandb_kwargs=wandb_kwargs)\n",
      "\u001b[34m\u001b[1mwandb\u001b[0m: Using wandb-core as the SDK backend.  Please refer to https://wandb.me/wandb-core for more information.\n"
     ]
    },
    {
     "name": "stderr",
     "output_type": "stream",
     "text": [
      "\u001b[34m\u001b[1mwandb\u001b[0m: Currently logged in as: \u001b[33mdav1989\u001b[0m (\u001b[33minflammation\u001b[0m) to \u001b[32mhttps://api.wandb.ai\u001b[0m. Use \u001b[1m`wandb login --relogin`\u001b[0m to force relogin\n"
     ]
    },
    {
     "name": "stderr",
     "output_type": "stream",
     "text": [
      "\u001b[34m\u001b[1mwandb\u001b[0m: Tracking run with wandb version 0.19.8\n"
     ]
    },
    {
     "name": "stderr",
     "output_type": "stream",
     "text": [
      "\u001b[34m\u001b[1mwandb\u001b[0m: Run data is saved locally in \u001b[35m\u001b[1m/scratch_isilon/groups/singlecell/shared/projects/Inflammation-PBMCs-Atlas/03_downstream_analysis/08_gene_importance/wandb/run-20250320_052203-btbp4a3o\u001b[0m\n",
      "\u001b[34m\u001b[1mwandb\u001b[0m: Run \u001b[1m`wandb offline`\u001b[0m to turn off syncing.\n"
     ]
    },
    {
     "name": "stderr",
     "output_type": "stream",
     "text": [
      "\u001b[34m\u001b[1mwandb\u001b[0m: Syncing run \u001b[33mstudyID_DC\u001b[0m\n"
     ]
    },
    {
     "name": "stderr",
     "output_type": "stream",
     "text": [
      "\u001b[34m\u001b[1mwandb\u001b[0m: ⭐️ View project at \u001b[34m\u001b[4mhttps://wandb.ai/inflammation/xgboost\u001b[0m\n"
     ]
    },
    {
     "name": "stderr",
     "output_type": "stream",
     "text": [
      "\u001b[34m\u001b[1mwandb\u001b[0m: 🚀 View run at \u001b[34m\u001b[4mhttps://wandb.ai/inflammation/xgboost/runs/btbp4a3o\u001b[0m\n"
     ]
    },
    {
     "name": "stderr",
     "output_type": "stream",
     "text": [
      "[I 2025-03-20 05:22:06,709] Trial 0 finished with value: -0.888225 and parameters: {'max_depth': 9, 'min_child_weight': 238, 'subsample': 0.7587945476302645, 'colsample_bynode': 0.6387926357773329, 'learning_rate': 0.0026368755339723046}. Best is trial 0 with value: -0.888225.\n"
     ]
    },
    {
     "name": "stderr",
     "output_type": "stream",
     "text": [
      "[I 2025-03-20 05:22:15,642] Trial 1 finished with value: -0.98939 and parameters: {'max_depth': 5, 'min_child_weight': 15, 'subsample': 0.8795585311974417, 'colsample_bynode': 0.6410035105688879, 'learning_rate': 0.08148293210105287}. Best is trial 1 with value: -0.98939.\n"
     ]
    },
    {
     "name": "stderr",
     "output_type": "stream",
     "text": [
      "[I 2025-03-20 05:23:02,917] Trial 2 finished with value: -0.969329 and parameters: {'max_depth': 3, 'min_child_weight': 243, 'subsample': 0.8491983767203796, 'colsample_bynode': 0.29110519961044856, 'learning_rate': 0.003095566460242371}. Best is trial 1 with value: -0.98939.\n"
     ]
    },
    {
     "name": "stderr",
     "output_type": "stream",
     "text": [
      "[I 2025-03-20 05:23:11,661] Trial 3 finished with value: -0.980994 and parameters: {'max_depth': 6, 'min_child_weight': 77, 'subsample': 0.5722807884690141, 'colsample_bynode': 0.48875051677790415, 'learning_rate': 0.006109683510122491}. Best is trial 1 with value: -0.98939.\n"
     ]
    },
    {
     "name": "stderr",
     "output_type": "stream",
     "text": [
      "[I 2025-03-20 05:23:20,189] Trial 4 finished with value: -0.987988 and parameters: {'max_depth': 14, 'min_child_weight': 35, 'subsample': 0.3629301836816964, 'colsample_bynode': 0.4297256589643226, 'learning_rate': 0.01701841881702917}. Best is trial 1 with value: -0.98939.\n"
     ]
    },
    {
     "name": "stderr",
     "output_type": "stream",
     "text": [
      "[I 2025-03-20 05:23:22,478] Trial 5 pruned. Trial was pruned at iteration 23.\n"
     ]
    },
    {
     "name": "stderr",
     "output_type": "stream",
     "text": [
      "[I 2025-03-20 05:23:25,080] Trial 6 finished with value: -0.988378 and parameters: {'max_depth': 13, 'min_child_weight': 43, 'subsample': 0.1585464336867516, 'colsample_bynode': 0.9539969835279999, 'learning_rate': 0.4038423798071558}. Best is trial 1 with value: -0.98939.\n"
     ]
    },
    {
     "name": "stderr",
     "output_type": "stream",
     "text": [
      "[I 2025-03-20 05:23:25,838] Trial 7 pruned. Trial was pruned at iteration 0.\n"
     ]
    },
    {
     "name": "stderr",
     "output_type": "stream",
     "text": [
      "[I 2025-03-20 05:23:26,828] Trial 8 pruned. Trial was pruned at iteration 0.\n"
     ]
    },
    {
     "name": "stderr",
     "output_type": "stream",
     "text": [
      "[I 2025-03-20 05:23:27,900] Trial 9 pruned. Trial was pruned at iteration 1.\n"
     ]
    },
    {
     "name": "stderr",
     "output_type": "stream",
     "text": [
      "[I 2025-03-20 05:23:33,360] Trial 10 finished with value: -0.989137 and parameters: {'max_depth': 9, 'min_child_weight': 2, 'subsample': 0.9725833997090791, 'colsample_bynode': 0.11616568805333755, 'learning_rate': 0.17780618353487967}. Best is trial 1 with value: -0.98939.\n"
     ]
    },
    {
     "name": "stderr",
     "output_type": "stream",
     "text": [
      "[I 2025-03-20 05:23:40,582] Trial 11 finished with value: -0.989877 and parameters: {'max_depth': 9, 'min_child_weight': 4, 'subsample': 0.9818290990185045, 'colsample_bynode': 0.17702656156719, 'learning_rate': 0.11568531411766632}. Best is trial 11 with value: -0.989877.\n"
     ]
    },
    {
     "name": "stderr",
     "output_type": "stream",
     "text": [
      "[I 2025-03-20 05:23:50,326] Trial 12 finished with value: -0.989959 and parameters: {'max_depth': 9, 'min_child_weight': 3, 'subsample': 0.9762317723681219, 'colsample_bynode': 0.14667845540225039, 'learning_rate': 0.07220195396446882}. Best is trial 12 with value: -0.989959.\n"
     ]
    },
    {
     "name": "stderr",
     "output_type": "stream",
     "text": [
      "[I 2025-03-20 05:23:51,088] Trial 13 pruned. Trial was pruned at iteration 0.\n"
     ]
    },
    {
     "name": "stderr",
     "output_type": "stream",
     "text": [
      "[I 2025-03-20 05:23:52,016] Trial 14 pruned. Trial was pruned at iteration 0.\n"
     ]
    },
    {
     "name": "stderr",
     "output_type": "stream",
     "text": [
      "[I 2025-03-20 05:23:53,486] Trial 15 pruned. Trial was pruned at iteration 4.\n"
     ]
    },
    {
     "name": "stderr",
     "output_type": "stream",
     "text": [
      "[I 2025-03-20 05:23:54,267] Trial 16 pruned. Trial was pruned at iteration 0.\n"
     ]
    },
    {
     "name": "stderr",
     "output_type": "stream",
     "text": [
      "[I 2025-03-20 05:23:55,229] Trial 17 pruned. Trial was pruned at iteration 0.\n"
     ]
    },
    {
     "name": "stderr",
     "output_type": "stream",
     "text": [
      "[I 2025-03-20 05:23:56,256] Trial 18 pruned. Trial was pruned at iteration 0.\n"
     ]
    },
    {
     "name": "stderr",
     "output_type": "stream",
     "text": [
      "[I 2025-03-20 05:23:57,230] Trial 19 pruned. Trial was pruned at iteration 0.\n"
     ]
    },
    {
     "name": "stderr",
     "output_type": "stream",
     "text": [
      "[I 2025-03-20 05:23:58,004] Trial 20 pruned. Trial was pruned at iteration 0.\n"
     ]
    },
    {
     "name": "stderr",
     "output_type": "stream",
     "text": [
      "[I 2025-03-20 05:23:59,017] Trial 21 pruned. Trial was pruned at iteration 0.\n"
     ]
    },
    {
     "name": "stderr",
     "output_type": "stream",
     "text": [
      "[I 2025-03-20 05:24:00,068] Trial 22 pruned. Trial was pruned at iteration 0.\n"
     ]
    },
    {
     "name": "stderr",
     "output_type": "stream",
     "text": [
      "[I 2025-03-20 05:24:00,874] Trial 23 pruned. Trial was pruned at iteration 0.\n"
     ]
    },
    {
     "name": "stderr",
     "output_type": "stream",
     "text": [
      "[I 2025-03-20 05:24:01,814] Trial 24 pruned. Trial was pruned at iteration 0.\n"
     ]
    },
    {
     "name": "stderr",
     "output_type": "stream",
     "text": [
      "[I 2025-03-20 05:24:02,850] Trial 25 pruned. Trial was pruned at iteration 0.\n"
     ]
    },
    {
     "name": "stderr",
     "output_type": "stream",
     "text": [
      "[I 2025-03-20 05:24:03,845] Trial 26 pruned. Trial was pruned at iteration 0.\n"
     ]
    },
    {
     "name": "stderr",
     "output_type": "stream",
     "text": [
      "[I 2025-03-20 05:24:04,621] Trial 27 pruned. Trial was pruned at iteration 0.\n"
     ]
    },
    {
     "name": "stderr",
     "output_type": "stream",
     "text": [
      "[I 2025-03-20 05:24:07,229] Trial 28 pruned. Trial was pruned at iteration 14.\n"
     ]
    },
    {
     "name": "stderr",
     "output_type": "stream",
     "text": [
      "[I 2025-03-20 05:24:08,056] Trial 29 pruned. Trial was pruned at iteration 0.\n"
     ]
    },
    {
     "name": "stderr",
     "output_type": "stream",
     "text": [
      "[I 2025-03-20 05:24:09,037] Trial 30 pruned. Trial was pruned at iteration 0.\n"
     ]
    },
    {
     "name": "stderr",
     "output_type": "stream",
     "text": [
      "[I 2025-03-20 05:24:10,550] Trial 31 pruned. Trial was pruned at iteration 4.\n"
     ]
    },
    {
     "name": "stderr",
     "output_type": "stream",
     "text": [
      "[I 2025-03-20 05:24:11,437] Trial 32 pruned. Trial was pruned at iteration 0.\n"
     ]
    },
    {
     "name": "stderr",
     "output_type": "stream",
     "text": [
      "[I 2025-03-20 05:24:12,472] Trial 33 pruned. Trial was pruned at iteration 0.\n"
     ]
    },
    {
     "name": "stderr",
     "output_type": "stream",
     "text": [
      "[I 2025-03-20 05:24:13,597] Trial 34 pruned. Trial was pruned at iteration 0.\n"
     ]
    },
    {
     "name": "stderr",
     "output_type": "stream",
     "text": [
      "[I 2025-03-20 05:24:14,376] Trial 35 pruned. Trial was pruned at iteration 0.\n"
     ]
    },
    {
     "name": "stderr",
     "output_type": "stream",
     "text": [
      "[I 2025-03-20 05:24:15,416] Trial 36 pruned. Trial was pruned at iteration 0.\n"
     ]
    },
    {
     "name": "stderr",
     "output_type": "stream",
     "text": [
      "[I 2025-03-20 05:24:16,451] Trial 37 pruned. Trial was pruned at iteration 0.\n"
     ]
    },
    {
     "name": "stderr",
     "output_type": "stream",
     "text": [
      "[I 2025-03-20 05:24:17,260] Trial 38 pruned. Trial was pruned at iteration 0.\n"
     ]
    },
    {
     "name": "stderr",
     "output_type": "stream",
     "text": [
      "[I 2025-03-20 05:24:18,203] Trial 39 pruned. Trial was pruned at iteration 0.\n"
     ]
    },
    {
     "name": "stderr",
     "output_type": "stream",
     "text": [
      "[I 2025-03-20 05:24:19,139] Trial 40 pruned. Trial was pruned at iteration 0.\n"
     ]
    },
    {
     "name": "stderr",
     "output_type": "stream",
     "text": [
      "[I 2025-03-20 05:24:20,215] Trial 41 pruned. Trial was pruned at iteration 0.\n"
     ]
    },
    {
     "name": "stderr",
     "output_type": "stream",
     "text": [
      "[I 2025-03-20 05:24:21,024] Trial 42 pruned. Trial was pruned at iteration 0.\n"
     ]
    },
    {
     "name": "stderr",
     "output_type": "stream",
     "text": [
      "[I 2025-03-20 05:24:24,070] Trial 43 pruned. Trial was pruned at iteration 25.\n"
     ]
    },
    {
     "name": "stderr",
     "output_type": "stream",
     "text": [
      "[I 2025-03-20 05:24:28,540] Trial 44 finished with value: -0.988666 and parameters: {'max_depth': 11, 'min_child_weight': 21, 'subsample': 0.9619083969356736, 'colsample_bynode': 0.88799027860589, 'learning_rate': 0.22311917447306392}. Best is trial 12 with value: -0.989959.\n"
     ]
    },
    {
     "name": "stderr",
     "output_type": "stream",
     "text": [
      "[I 2025-03-20 05:24:29,334] Trial 45 pruned. Trial was pruned at iteration 0.\n"
     ]
    },
    {
     "name": "stderr",
     "output_type": "stream",
     "text": [
      "[I 2025-03-20 05:24:30,317] Trial 46 pruned. Trial was pruned at iteration 0.\n"
     ]
    },
    {
     "name": "stderr",
     "output_type": "stream",
     "text": [
      "[I 2025-03-20 05:24:31,303] Trial 47 pruned. Trial was pruned at iteration 0.\n"
     ]
    },
    {
     "name": "stderr",
     "output_type": "stream",
     "text": [
      "[I 2025-03-20 05:24:32,347] Trial 48 pruned. Trial was pruned at iteration 0.\n"
     ]
    },
    {
     "name": "stderr",
     "output_type": "stream",
     "text": [
      "[I 2025-03-20 05:24:33,152] Trial 49 pruned. Trial was pruned at iteration 0.\n"
     ]
    }
   ],
   "source": [
    "sampler = optuna.samplers.TPESampler(seed=42)\n",
    "study = optuna.create_study(direction='minimize', sampler=sampler)\n",
    "wandb_kwargs = {\"project\": \"xgboost\", \"name\": f\"{RUN_NAME}{CELL_TYPE}\"}\n",
    "wandbc = optuna.integration.WeightsAndBiasesCallback(wandb_kwargs=wandb_kwargs)\n",
    "study.optimize(objective, n_trials=N_TRIALS, callbacks=[wandbc], gc_after_trial=True)"
   ]
  },
  {
   "cell_type": "code",
   "execution_count": 22,
   "id": "6f73cd80",
   "metadata": {
    "execution": {
     "iopub.execute_input": "2025-03-20T05:24:33.455620Z",
     "iopub.status.busy": "2025-03-20T05:24:33.455093Z",
     "iopub.status.idle": "2025-03-20T05:24:33.513864Z",
     "shell.execute_reply": "2025-03-20T05:24:33.513187Z"
    },
    "papermill": {
     "duration": 0.09421,
     "end_time": "2025-03-20T05:24:33.519873",
     "exception": false,
     "start_time": "2025-03-20T05:24:33.425663",
     "status": "completed"
    },
    "tags": []
   },
   "outputs": [
    {
     "data": {
      "text/plain": [
       "['/scratch_isilon/groups/singlecell/shared/projects/Inflammation-PBMCs-Atlas/03_downstream_analysis/08_gene_importance/results/targetY_studyID/03_xgboost/study/studyID_DC_xgboost.pkl']"
      ]
     },
     "execution_count": 22,
     "metadata": {},
     "output_type": "execute_result"
    }
   ],
   "source": [
    "os.makedirs(here(f\"03_downstream_analysis/08_gene_importance/results/targetY_{target_y}/03_xgboost/study/\"), exist_ok=True)\n",
    "\n",
    "joblib.dump(study, here(f'03_downstream_analysis/08_gene_importance/results/targetY_{target_y}/03_xgboost/study/{RUN_NAME}{CELL_TYPE}_xgboost.pkl'))"
   ]
  },
  {
   "cell_type": "code",
   "execution_count": 23,
   "id": "1919aee5",
   "metadata": {
    "execution": {
     "iopub.execute_input": "2025-03-20T05:24:33.570343Z",
     "iopub.status.busy": "2025-03-20T05:24:33.569923Z",
     "iopub.status.idle": "2025-03-20T05:24:37.293396Z",
     "shell.execute_reply": "2025-03-20T05:24:37.292693Z"
    },
    "papermill": {
     "duration": 3.754852,
     "end_time": "2025-03-20T05:24:37.295412",
     "exception": false,
     "start_time": "2025-03-20T05:24:33.540560",
     "status": "completed"
    },
    "tags": []
   },
   "outputs": [],
   "source": [
    "os.makedirs(here(f\"03_downstream_analysis/08_gene_importance/results/targetY_{target_y}/03_xgboost/parallel_coordinate/\"), exist_ok=True)\n",
    "\n",
    "fig = optuna.visualization.plot_parallel_coordinate(study)\n",
    "fig.write_image(here(f'03_downstream_analysis/08_gene_importance/results/targetY_{target_y}/03_xgboost/parallel_coordinate/{RUN_NAME}{CELL_TYPE}_pcoord.pdf'))"
   ]
  },
  {
   "cell_type": "code",
   "execution_count": 24,
   "id": "aa92af74",
   "metadata": {
    "editable": true,
    "execution": {
     "iopub.execute_input": "2025-03-20T05:24:37.325569Z",
     "iopub.status.busy": "2025-03-20T05:24:37.324744Z",
     "iopub.status.idle": "2025-03-20T05:24:48.511032Z",
     "shell.execute_reply": "2025-03-20T05:24:48.510112Z"
    },
    "papermill": {
     "duration": 11.198586,
     "end_time": "2025-03-20T05:24:48.513151",
     "exception": false,
     "start_time": "2025-03-20T05:24:37.314565",
     "status": "completed"
    },
    "scrolled": true,
    "slideshow": {
     "slide_type": ""
    },
    "tags": []
   },
   "outputs": [
    {
     "name": "stdout",
     "output_type": "stream",
     "text": [
      "[0]\tvalidation_0-mlogloss:2.24593\tvalidation_0-custom_f1_score:-0.96356\n"
     ]
    },
    {
     "name": "stdout",
     "output_type": "stream",
     "text": [
      "[1]\tvalidation_0-mlogloss:1.93762\tvalidation_0-custom_f1_score:-0.97291\n"
     ]
    },
    {
     "name": "stdout",
     "output_type": "stream",
     "text": [
      "[2]\tvalidation_0-mlogloss:1.71390\tvalidation_0-custom_f1_score:-0.97729\n"
     ]
    },
    {
     "name": "stdout",
     "output_type": "stream",
     "text": [
      "[3]\tvalidation_0-mlogloss:1.53615\tvalidation_0-custom_f1_score:-0.97937\n"
     ]
    },
    {
     "name": "stdout",
     "output_type": "stream",
     "text": [
      "[4]\tvalidation_0-mlogloss:1.38895\tvalidation_0-custom_f1_score:-0.98127\n"
     ]
    },
    {
     "name": "stdout",
     "output_type": "stream",
     "text": [
      "[5]\tvalidation_0-mlogloss:1.26497\tvalidation_0-custom_f1_score:-0.98256\n"
     ]
    },
    {
     "name": "stdout",
     "output_type": "stream",
     "text": [
      "[6]\tvalidation_0-mlogloss:1.15804\tvalidation_0-custom_f1_score:-0.98321\n"
     ]
    },
    {
     "name": "stdout",
     "output_type": "stream",
     "text": [
      "[7]\tvalidation_0-mlogloss:1.06491\tvalidation_0-custom_f1_score:-0.98286\n"
     ]
    },
    {
     "name": "stdout",
     "output_type": "stream",
     "text": [
      "[8]\tvalidation_0-mlogloss:0.98189\tvalidation_0-custom_f1_score:-0.98285\n"
     ]
    },
    {
     "name": "stdout",
     "output_type": "stream",
     "text": [
      "[9]\tvalidation_0-mlogloss:0.90723\tvalidation_0-custom_f1_score:-0.98309\n"
     ]
    },
    {
     "name": "stdout",
     "output_type": "stream",
     "text": [
      "[10]\tvalidation_0-mlogloss:0.83963\tvalidation_0-custom_f1_score:-0.98426\n"
     ]
    },
    {
     "name": "stdout",
     "output_type": "stream",
     "text": [
      "[11]\tvalidation_0-mlogloss:0.77982\tvalidation_0-custom_f1_score:-0.98403\n"
     ]
    },
    {
     "name": "stdout",
     "output_type": "stream",
     "text": [
      "[12]\tvalidation_0-mlogloss:0.72458\tvalidation_0-custom_f1_score:-0.98425\n"
     ]
    },
    {
     "name": "stdout",
     "output_type": "stream",
     "text": [
      "[13]\tvalidation_0-mlogloss:0.67426\tvalidation_0-custom_f1_score:-0.98437\n"
     ]
    },
    {
     "name": "stdout",
     "output_type": "stream",
     "text": [
      "[14]\tvalidation_0-mlogloss:0.62911\tvalidation_0-custom_f1_score:-0.98427\n"
     ]
    },
    {
     "name": "stdout",
     "output_type": "stream",
     "text": [
      "[15]\tvalidation_0-mlogloss:0.58705\tvalidation_0-custom_f1_score:-0.98438\n"
     ]
    },
    {
     "name": "stdout",
     "output_type": "stream",
     "text": [
      "[16]\tvalidation_0-mlogloss:0.54832\tvalidation_0-custom_f1_score:-0.98438\n"
     ]
    },
    {
     "name": "stdout",
     "output_type": "stream",
     "text": [
      "[17]\tvalidation_0-mlogloss:0.51226\tvalidation_0-custom_f1_score:-0.98481\n"
     ]
    },
    {
     "name": "stdout",
     "output_type": "stream",
     "text": [
      "[18]\tvalidation_0-mlogloss:0.47931\tvalidation_0-custom_f1_score:-0.98481\n"
     ]
    },
    {
     "name": "stdout",
     "output_type": "stream",
     "text": [
      "[19]\tvalidation_0-mlogloss:0.44868\tvalidation_0-custom_f1_score:-0.98513\n"
     ]
    },
    {
     "name": "stdout",
     "output_type": "stream",
     "text": [
      "[20]\tvalidation_0-mlogloss:0.42049\tvalidation_0-custom_f1_score:-0.98555\n"
     ]
    },
    {
     "name": "stdout",
     "output_type": "stream",
     "text": [
      "[21]\tvalidation_0-mlogloss:0.39421\tvalidation_0-custom_f1_score:-0.98556\n"
     ]
    },
    {
     "name": "stdout",
     "output_type": "stream",
     "text": [
      "[22]\tvalidation_0-mlogloss:0.36930\tvalidation_0-custom_f1_score:-0.98566\n"
     ]
    },
    {
     "name": "stdout",
     "output_type": "stream",
     "text": [
      "[23]\tvalidation_0-mlogloss:0.34676\tvalidation_0-custom_f1_score:-0.98546\n"
     ]
    },
    {
     "name": "stdout",
     "output_type": "stream",
     "text": [
      "[24]\tvalidation_0-mlogloss:0.32612\tvalidation_0-custom_f1_score:-0.98588\n"
     ]
    },
    {
     "name": "stdout",
     "output_type": "stream",
     "text": [
      "[25]\tvalidation_0-mlogloss:0.30665\tvalidation_0-custom_f1_score:-0.98609\n"
     ]
    },
    {
     "name": "stdout",
     "output_type": "stream",
     "text": [
      "[26]\tvalidation_0-mlogloss:0.28842\tvalidation_0-custom_f1_score:-0.98599\n"
     ]
    },
    {
     "name": "stdout",
     "output_type": "stream",
     "text": [
      "[27]\tvalidation_0-mlogloss:0.27174\tvalidation_0-custom_f1_score:-0.98588\n"
     ]
    },
    {
     "name": "stdout",
     "output_type": "stream",
     "text": [
      "[28]\tvalidation_0-mlogloss:0.25619\tvalidation_0-custom_f1_score:-0.98555\n"
     ]
    },
    {
     "name": "stdout",
     "output_type": "stream",
     "text": [
      "[29]\tvalidation_0-mlogloss:0.24070\tvalidation_0-custom_f1_score:-0.98555\n"
     ]
    },
    {
     "name": "stdout",
     "output_type": "stream",
     "text": [
      "[30]\tvalidation_0-mlogloss:0.22711\tvalidation_0-custom_f1_score:-0.98588\n"
     ]
    },
    {
     "name": "stdout",
     "output_type": "stream",
     "text": [
      "[31]\tvalidation_0-mlogloss:0.21414\tvalidation_0-custom_f1_score:-0.98588\n"
     ]
    },
    {
     "name": "stdout",
     "output_type": "stream",
     "text": [
      "[32]\tvalidation_0-mlogloss:0.20243\tvalidation_0-custom_f1_score:-0.98620\n"
     ]
    },
    {
     "name": "stdout",
     "output_type": "stream",
     "text": [
      "[33]\tvalidation_0-mlogloss:0.19130\tvalidation_0-custom_f1_score:-0.98620\n"
     ]
    },
    {
     "name": "stdout",
     "output_type": "stream",
     "text": [
      "[34]\tvalidation_0-mlogloss:0.18087\tvalidation_0-custom_f1_score:-0.98630\n"
     ]
    },
    {
     "name": "stdout",
     "output_type": "stream",
     "text": [
      "[35]\tvalidation_0-mlogloss:0.17119\tvalidation_0-custom_f1_score:-0.98620\n"
     ]
    },
    {
     "name": "stdout",
     "output_type": "stream",
     "text": [
      "[36]\tvalidation_0-mlogloss:0.16218\tvalidation_0-custom_f1_score:-0.98630\n"
     ]
    },
    {
     "name": "stdout",
     "output_type": "stream",
     "text": [
      "[37]\tvalidation_0-mlogloss:0.15393\tvalidation_0-custom_f1_score:-0.98630\n"
     ]
    },
    {
     "name": "stdout",
     "output_type": "stream",
     "text": [
      "[38]\tvalidation_0-mlogloss:0.14578\tvalidation_0-custom_f1_score:-0.98630\n"
     ]
    },
    {
     "name": "stdout",
     "output_type": "stream",
     "text": [
      "[39]\tvalidation_0-mlogloss:0.13849\tvalidation_0-custom_f1_score:-0.98630\n"
     ]
    },
    {
     "name": "stdout",
     "output_type": "stream",
     "text": [
      "[40]\tvalidation_0-mlogloss:0.13158\tvalidation_0-custom_f1_score:-0.98641\n"
     ]
    },
    {
     "name": "stdout",
     "output_type": "stream",
     "text": [
      "[41]\tvalidation_0-mlogloss:0.12503\tvalidation_0-custom_f1_score:-0.98630\n"
     ]
    },
    {
     "name": "stdout",
     "output_type": "stream",
     "text": [
      "[42]\tvalidation_0-mlogloss:0.11873\tvalidation_0-custom_f1_score:-0.98651\n"
     ]
    },
    {
     "name": "stdout",
     "output_type": "stream",
     "text": [
      "[43]\tvalidation_0-mlogloss:0.11324\tvalidation_0-custom_f1_score:-0.98651\n"
     ]
    },
    {
     "name": "stdout",
     "output_type": "stream",
     "text": [
      "[44]\tvalidation_0-mlogloss:0.10828\tvalidation_0-custom_f1_score:-0.98651\n"
     ]
    },
    {
     "name": "stdout",
     "output_type": "stream",
     "text": [
      "[45]\tvalidation_0-mlogloss:0.10365\tvalidation_0-custom_f1_score:-0.98661\n"
     ]
    },
    {
     "name": "stdout",
     "output_type": "stream",
     "text": [
      "[46]\tvalidation_0-mlogloss:0.09911\tvalidation_0-custom_f1_score:-0.98661\n"
     ]
    },
    {
     "name": "stdout",
     "output_type": "stream",
     "text": [
      "[47]\tvalidation_0-mlogloss:0.09489\tvalidation_0-custom_f1_score:-0.98651\n"
     ]
    },
    {
     "name": "stdout",
     "output_type": "stream",
     "text": [
      "[48]\tvalidation_0-mlogloss:0.09096\tvalidation_0-custom_f1_score:-0.98661\n"
     ]
    },
    {
     "name": "stdout",
     "output_type": "stream",
     "text": [
      "[49]\tvalidation_0-mlogloss:0.08738\tvalidation_0-custom_f1_score:-0.98672\n"
     ]
    },
    {
     "name": "stdout",
     "output_type": "stream",
     "text": [
      "[50]\tvalidation_0-mlogloss:0.08358\tvalidation_0-custom_f1_score:-0.98672\n"
     ]
    },
    {
     "name": "stdout",
     "output_type": "stream",
     "text": [
      "[51]\tvalidation_0-mlogloss:0.08046\tvalidation_0-custom_f1_score:-0.98661\n"
     ]
    },
    {
     "name": "stdout",
     "output_type": "stream",
     "text": [
      "[52]\tvalidation_0-mlogloss:0.07749\tvalidation_0-custom_f1_score:-0.98672\n"
     ]
    },
    {
     "name": "stdout",
     "output_type": "stream",
     "text": [
      "[53]\tvalidation_0-mlogloss:0.07457\tvalidation_0-custom_f1_score:-0.98683\n"
     ]
    },
    {
     "name": "stdout",
     "output_type": "stream",
     "text": [
      "[54]\tvalidation_0-mlogloss:0.07216\tvalidation_0-custom_f1_score:-0.98683\n"
     ]
    },
    {
     "name": "stdout",
     "output_type": "stream",
     "text": [
      "[55]\tvalidation_0-mlogloss:0.06977\tvalidation_0-custom_f1_score:-0.98672\n"
     ]
    },
    {
     "name": "stdout",
     "output_type": "stream",
     "text": [
      "[56]\tvalidation_0-mlogloss:0.06778\tvalidation_0-custom_f1_score:-0.98683\n"
     ]
    },
    {
     "name": "stdout",
     "output_type": "stream",
     "text": [
      "[57]\tvalidation_0-mlogloss:0.06594\tvalidation_0-custom_f1_score:-0.98683\n"
     ]
    },
    {
     "name": "stdout",
     "output_type": "stream",
     "text": [
      "[58]\tvalidation_0-mlogloss:0.06359\tvalidation_0-custom_f1_score:-0.98694\n"
     ]
    },
    {
     "name": "stdout",
     "output_type": "stream",
     "text": [
      "[59]\tvalidation_0-mlogloss:0.06146\tvalidation_0-custom_f1_score:-0.98683\n"
     ]
    },
    {
     "name": "stdout",
     "output_type": "stream",
     "text": [
      "[60]\tvalidation_0-mlogloss:0.05984\tvalidation_0-custom_f1_score:-0.98683\n"
     ]
    },
    {
     "name": "stdout",
     "output_type": "stream",
     "text": [
      "[61]\tvalidation_0-mlogloss:0.05823\tvalidation_0-custom_f1_score:-0.98683\n"
     ]
    },
    {
     "name": "stdout",
     "output_type": "stream",
     "text": [
      "[62]\tvalidation_0-mlogloss:0.05656\tvalidation_0-custom_f1_score:-0.98672\n"
     ]
    },
    {
     "name": "stdout",
     "output_type": "stream",
     "text": [
      "[63]\tvalidation_0-mlogloss:0.05538\tvalidation_0-custom_f1_score:-0.98672\n"
     ]
    },
    {
     "name": "stdout",
     "output_type": "stream",
     "text": [
      "[64]\tvalidation_0-mlogloss:0.05428\tvalidation_0-custom_f1_score:-0.98694\n"
     ]
    },
    {
     "name": "stdout",
     "output_type": "stream",
     "text": [
      "[65]\tvalidation_0-mlogloss:0.05315\tvalidation_0-custom_f1_score:-0.98683\n"
     ]
    },
    {
     "name": "stdout",
     "output_type": "stream",
     "text": [
      "[66]\tvalidation_0-mlogloss:0.05205\tvalidation_0-custom_f1_score:-0.98683\n"
     ]
    },
    {
     "name": "stdout",
     "output_type": "stream",
     "text": [
      "[67]\tvalidation_0-mlogloss:0.05117\tvalidation_0-custom_f1_score:-0.98683\n"
     ]
    },
    {
     "name": "stdout",
     "output_type": "stream",
     "text": [
      "[68]\tvalidation_0-mlogloss:0.05030\tvalidation_0-custom_f1_score:-0.98683"
     ]
    },
    {
     "name": "stdout",
     "output_type": "stream",
     "text": [
      "\n"
     ]
    },
    {
     "name": "stdout",
     "output_type": "stream",
     "text": [
      "[69]\tvalidation_0-mlogloss:0.04951\tvalidation_0-custom_f1_score:-0.98683\n"
     ]
    },
    {
     "name": "stdout",
     "output_type": "stream",
     "text": [
      "[70]\tvalidation_0-mlogloss:0.04849\tvalidation_0-custom_f1_score:-0.98683\n"
     ]
    },
    {
     "name": "stdout",
     "output_type": "stream",
     "text": [
      "[71]\tvalidation_0-mlogloss:0.04791\tvalidation_0-custom_f1_score:-0.98683\n"
     ]
    },
    {
     "name": "stdout",
     "output_type": "stream",
     "text": [
      "[72]\tvalidation_0-mlogloss:0.04719\tvalidation_0-custom_f1_score:-0.98683\n"
     ]
    },
    {
     "name": "stdout",
     "output_type": "stream",
     "text": [
      "[73]\tvalidation_0-mlogloss:0.04649\tvalidation_0-custom_f1_score:-0.98683\n"
     ]
    },
    {
     "name": "stdout",
     "output_type": "stream",
     "text": [
      "[74]\tvalidation_0-mlogloss:0.04605\tvalidation_0-custom_f1_score:-0.98672\n"
     ]
    },
    {
     "name": "stdout",
     "output_type": "stream",
     "text": [
      "[75]\tvalidation_0-mlogloss:0.04559\tvalidation_0-custom_f1_score:-0.98672\n"
     ]
    },
    {
     "name": "stdout",
     "output_type": "stream",
     "text": [
      "[76]\tvalidation_0-mlogloss:0.04510\tvalidation_0-custom_f1_score:-0.98672"
     ]
    },
    {
     "name": "stdout",
     "output_type": "stream",
     "text": [
      "\n"
     ]
    },
    {
     "name": "stdout",
     "output_type": "stream",
     "text": [
      "[77]\tvalidation_0-mlogloss:0.04464\tvalidation_0-custom_f1_score:-0.98672\n"
     ]
    },
    {
     "name": "stdout",
     "output_type": "stream",
     "text": [
      "[78]\tvalidation_0-mlogloss:0.04414\tvalidation_0-custom_f1_score:-0.98672\n"
     ]
    },
    {
     "name": "stdout",
     "output_type": "stream",
     "text": [
      "[79]\tvalidation_0-mlogloss:0.04405\tvalidation_0-custom_f1_score:-0.98672\n"
     ]
    },
    {
     "name": "stdout",
     "output_type": "stream",
     "text": [
      "[80]\tvalidation_0-mlogloss:0.04347\tvalidation_0-custom_f1_score:-0.98672\n"
     ]
    },
    {
     "name": "stdout",
     "output_type": "stream",
     "text": [
      "[81]\tvalidation_0-mlogloss:0.04321\tvalidation_0-custom_f1_score:-0.98672\n"
     ]
    },
    {
     "name": "stdout",
     "output_type": "stream",
     "text": [
      "[82]\tvalidation_0-mlogloss:0.04281\tvalidation_0-custom_f1_score:-0.98672\n"
     ]
    },
    {
     "name": "stdout",
     "output_type": "stream",
     "text": [
      "[83]\tvalidation_0-mlogloss:0.04263\tvalidation_0-custom_f1_score:-0.98672\n"
     ]
    },
    {
     "name": "stdout",
     "output_type": "stream",
     "text": [
      "[84]\tvalidation_0-mlogloss:0.04216\tvalidation_0-custom_f1_score:-0.98672\n"
     ]
    },
    {
     "name": "stdout",
     "output_type": "stream",
     "text": [
      "[85]\tvalidation_0-mlogloss:0.04151\tvalidation_0-custom_f1_score:-0.98683\n"
     ]
    },
    {
     "name": "stdout",
     "output_type": "stream",
     "text": [
      "[86]\tvalidation_0-mlogloss:0.04125\tvalidation_0-custom_f1_score:-0.98694\n"
     ]
    },
    {
     "name": "stdout",
     "output_type": "stream",
     "text": [
      "[87]\tvalidation_0-mlogloss:0.04102\tvalidation_0-custom_f1_score:-0.98694\n"
     ]
    },
    {
     "name": "stdout",
     "output_type": "stream",
     "text": [
      "[88]\tvalidation_0-mlogloss:0.04100\tvalidation_0-custom_f1_score:-0.98694\n"
     ]
    },
    {
     "name": "stdout",
     "output_type": "stream",
     "text": [
      "[89]\tvalidation_0-mlogloss:0.04077\tvalidation_0-custom_f1_score:-0.98694\n"
     ]
    },
    {
     "name": "stdout",
     "output_type": "stream",
     "text": [
      "[90]\tvalidation_0-mlogloss:0.04079\tvalidation_0-custom_f1_score:-0.98694\n"
     ]
    },
    {
     "name": "stdout",
     "output_type": "stream",
     "text": [
      "[91]\tvalidation_0-mlogloss:0.04096\tvalidation_0-custom_f1_score:-0.98694\n"
     ]
    },
    {
     "name": "stdout",
     "output_type": "stream",
     "text": [
      "[92]\tvalidation_0-mlogloss:0.04079\tvalidation_0-custom_f1_score:-0.98694\n"
     ]
    },
    {
     "name": "stdout",
     "output_type": "stream",
     "text": [
      "[93]\tvalidation_0-mlogloss:0.04083\tvalidation_0-custom_f1_score:-0.98694\n"
     ]
    },
    {
     "name": "stdout",
     "output_type": "stream",
     "text": [
      "[94]\tvalidation_0-mlogloss:0.04085\tvalidation_0-custom_f1_score:-0.98694\n"
     ]
    },
    {
     "name": "stdout",
     "output_type": "stream",
     "text": [
      "[95]\tvalidation_0-mlogloss:0.04089\tvalidation_0-custom_f1_score:-0.98694\n"
     ]
    },
    {
     "name": "stdout",
     "output_type": "stream",
     "text": [
      "[96]\tvalidation_0-mlogloss:0.04070\tvalidation_0-custom_f1_score:-0.98694\n"
     ]
    },
    {
     "name": "stdout",
     "output_type": "stream",
     "text": [
      "[97]\tvalidation_0-mlogloss:0.04079\tvalidation_0-custom_f1_score:-0.98694\n"
     ]
    },
    {
     "name": "stdout",
     "output_type": "stream",
     "text": [
      "[98]\tvalidation_0-mlogloss:0.04054\tvalidation_0-custom_f1_score:-0.98694\n"
     ]
    },
    {
     "name": "stdout",
     "output_type": "stream",
     "text": [
      "[99]\tvalidation_0-mlogloss:0.04011\tvalidation_0-custom_f1_score:-0.98694\n"
     ]
    },
    {
     "name": "stdout",
     "output_type": "stream",
     "text": [
      "[100]\tvalidation_0-mlogloss:0.03981\tvalidation_0-custom_f1_score:-0.98694\n"
     ]
    },
    {
     "name": "stdout",
     "output_type": "stream",
     "text": [
      "[101]\tvalidation_0-mlogloss:0.03960\tvalidation_0-custom_f1_score:-0.98694\n"
     ]
    },
    {
     "name": "stdout",
     "output_type": "stream",
     "text": [
      "[102]\tvalidation_0-mlogloss:0.03940\tvalidation_0-custom_f1_score:-0.98694\n"
     ]
    },
    {
     "name": "stdout",
     "output_type": "stream",
     "text": [
      "[103]\tvalidation_0-mlogloss:0.03937\tvalidation_0-custom_f1_score:-0.98694\n"
     ]
    },
    {
     "name": "stdout",
     "output_type": "stream",
     "text": [
      "[104]\tvalidation_0-mlogloss:0.03914\tvalidation_0-custom_f1_score:-0.98694\n"
     ]
    },
    {
     "name": "stdout",
     "output_type": "stream",
     "text": [
      "[105]\tvalidation_0-mlogloss:0.03927\tvalidation_0-custom_f1_score:-0.98694\n"
     ]
    },
    {
     "name": "stdout",
     "output_type": "stream",
     "text": [
      "[106]\tvalidation_0-mlogloss:0.03911\tvalidation_0-custom_f1_score:-0.98694\n"
     ]
    },
    {
     "name": "stdout",
     "output_type": "stream",
     "text": [
      "[107]\tvalidation_0-mlogloss:0.03928\tvalidation_0-custom_f1_score:-0.98694"
     ]
    },
    {
     "name": "stdout",
     "output_type": "stream",
     "text": [
      "\n"
     ]
    },
    {
     "name": "stdout",
     "output_type": "stream",
     "text": [
      "[108]\tvalidation_0-mlogloss:0.03958\tvalidation_0-custom_f1_score:-0.98694\n"
     ]
    },
    {
     "name": "stdout",
     "output_type": "stream",
     "text": [
      "[109]\tvalidation_0-mlogloss:0.03960\tvalidation_0-custom_f1_score:-0.98683\n"
     ]
    },
    {
     "name": "stdout",
     "output_type": "stream",
     "text": [
      "[110]\tvalidation_0-mlogloss:0.03938\tvalidation_0-custom_f1_score:-0.98683\n"
     ]
    },
    {
     "name": "stdout",
     "output_type": "stream",
     "text": [
      "[111]\tvalidation_0-mlogloss:0.03942\tvalidation_0-custom_f1_score:-0.98683\n"
     ]
    },
    {
     "name": "stdout",
     "output_type": "stream",
     "text": [
      "[112]\tvalidation_0-mlogloss:0.03922\tvalidation_0-custom_f1_score:-0.98683\n"
     ]
    },
    {
     "name": "stdout",
     "output_type": "stream",
     "text": [
      "[113]\tvalidation_0-mlogloss:0.03928\tvalidation_0-custom_f1_score:-0.98683\n"
     ]
    },
    {
     "name": "stdout",
     "output_type": "stream",
     "text": [
      "[114]\tvalidation_0-mlogloss:0.03957\tvalidation_0-custom_f1_score:-0.98683\n"
     ]
    },
    {
     "name": "stdout",
     "output_type": "stream",
     "text": [
      "[115]\tvalidation_0-mlogloss:0.03951\tvalidation_0-custom_f1_score:-0.98683\n"
     ]
    },
    {
     "name": "stdout",
     "output_type": "stream",
     "text": [
      "[116]\tvalidation_0-mlogloss:0.03944\tvalidation_0-custom_f1_score:-0.98683\n"
     ]
    },
    {
     "name": "stdout",
     "output_type": "stream",
     "text": [
      "[117]\tvalidation_0-mlogloss:0.03962\tvalidation_0-custom_f1_score:-0.98683\n"
     ]
    },
    {
     "name": "stdout",
     "output_type": "stream",
     "text": [
      "[118]\tvalidation_0-mlogloss:0.03962\tvalidation_0-custom_f1_score:-0.98683\n"
     ]
    },
    {
     "name": "stdout",
     "output_type": "stream",
     "text": [
      "[119]\tvalidation_0-mlogloss:0.03949\tvalidation_0-custom_f1_score:-0.98683\n"
     ]
    },
    {
     "name": "stdout",
     "output_type": "stream",
     "text": [
      "[120]\tvalidation_0-mlogloss:0.03925\tvalidation_0-custom_f1_score:-0.98683\n"
     ]
    },
    {
     "name": "stdout",
     "output_type": "stream",
     "text": [
      "[121]\tvalidation_0-mlogloss:0.03953\tvalidation_0-custom_f1_score:-0.98683\n"
     ]
    },
    {
     "data": {
      "text/html": [
       "<style>#sk-container-id-1 {\n",
       "  /* Definition of color scheme common for light and dark mode */\n",
       "  --sklearn-color-text: black;\n",
       "  --sklearn-color-line: gray;\n",
       "  /* Definition of color scheme for unfitted estimators */\n",
       "  --sklearn-color-unfitted-level-0: #fff5e6;\n",
       "  --sklearn-color-unfitted-level-1: #f6e4d2;\n",
       "  --sklearn-color-unfitted-level-2: #ffe0b3;\n",
       "  --sklearn-color-unfitted-level-3: chocolate;\n",
       "  /* Definition of color scheme for fitted estimators */\n",
       "  --sklearn-color-fitted-level-0: #f0f8ff;\n",
       "  --sklearn-color-fitted-level-1: #d4ebff;\n",
       "  --sklearn-color-fitted-level-2: #b3dbfd;\n",
       "  --sklearn-color-fitted-level-3: cornflowerblue;\n",
       "\n",
       "  /* Specific color for light theme */\n",
       "  --sklearn-color-text-on-default-background: var(--sg-text-color, var(--theme-code-foreground, var(--jp-content-font-color1, black)));\n",
       "  --sklearn-color-background: var(--sg-background-color, var(--theme-background, var(--jp-layout-color0, white)));\n",
       "  --sklearn-color-border-box: var(--sg-text-color, var(--theme-code-foreground, var(--jp-content-font-color1, black)));\n",
       "  --sklearn-color-icon: #696969;\n",
       "\n",
       "  @media (prefers-color-scheme: dark) {\n",
       "    /* Redefinition of color scheme for dark theme */\n",
       "    --sklearn-color-text-on-default-background: var(--sg-text-color, var(--theme-code-foreground, var(--jp-content-font-color1, white)));\n",
       "    --sklearn-color-background: var(--sg-background-color, var(--theme-background, var(--jp-layout-color0, #111)));\n",
       "    --sklearn-color-border-box: var(--sg-text-color, var(--theme-code-foreground, var(--jp-content-font-color1, white)));\n",
       "    --sklearn-color-icon: #878787;\n",
       "  }\n",
       "}\n",
       "\n",
       "#sk-container-id-1 {\n",
       "  color: var(--sklearn-color-text);\n",
       "}\n",
       "\n",
       "#sk-container-id-1 pre {\n",
       "  padding: 0;\n",
       "}\n",
       "\n",
       "#sk-container-id-1 input.sk-hidden--visually {\n",
       "  border: 0;\n",
       "  clip: rect(1px 1px 1px 1px);\n",
       "  clip: rect(1px, 1px, 1px, 1px);\n",
       "  height: 1px;\n",
       "  margin: -1px;\n",
       "  overflow: hidden;\n",
       "  padding: 0;\n",
       "  position: absolute;\n",
       "  width: 1px;\n",
       "}\n",
       "\n",
       "#sk-container-id-1 div.sk-dashed-wrapped {\n",
       "  border: 1px dashed var(--sklearn-color-line);\n",
       "  margin: 0 0.4em 0.5em 0.4em;\n",
       "  box-sizing: border-box;\n",
       "  padding-bottom: 0.4em;\n",
       "  background-color: var(--sklearn-color-background);\n",
       "}\n",
       "\n",
       "#sk-container-id-1 div.sk-container {\n",
       "  /* jupyter's `normalize.less` sets `[hidden] { display: none; }`\n",
       "     but bootstrap.min.css set `[hidden] { display: none !important; }`\n",
       "     so we also need the `!important` here to be able to override the\n",
       "     default hidden behavior on the sphinx rendered scikit-learn.org.\n",
       "     See: https://github.com/scikit-learn/scikit-learn/issues/21755 */\n",
       "  display: inline-block !important;\n",
       "  position: relative;\n",
       "}\n",
       "\n",
       "#sk-container-id-1 div.sk-text-repr-fallback {\n",
       "  display: none;\n",
       "}\n",
       "\n",
       "div.sk-parallel-item,\n",
       "div.sk-serial,\n",
       "div.sk-item {\n",
       "  /* draw centered vertical line to link estimators */\n",
       "  background-image: linear-gradient(var(--sklearn-color-text-on-default-background), var(--sklearn-color-text-on-default-background));\n",
       "  background-size: 2px 100%;\n",
       "  background-repeat: no-repeat;\n",
       "  background-position: center center;\n",
       "}\n",
       "\n",
       "/* Parallel-specific style estimator block */\n",
       "\n",
       "#sk-container-id-1 div.sk-parallel-item::after {\n",
       "  content: \"\";\n",
       "  width: 100%;\n",
       "  border-bottom: 2px solid var(--sklearn-color-text-on-default-background);\n",
       "  flex-grow: 1;\n",
       "}\n",
       "\n",
       "#sk-container-id-1 div.sk-parallel {\n",
       "  display: flex;\n",
       "  align-items: stretch;\n",
       "  justify-content: center;\n",
       "  background-color: var(--sklearn-color-background);\n",
       "  position: relative;\n",
       "}\n",
       "\n",
       "#sk-container-id-1 div.sk-parallel-item {\n",
       "  display: flex;\n",
       "  flex-direction: column;\n",
       "}\n",
       "\n",
       "#sk-container-id-1 div.sk-parallel-item:first-child::after {\n",
       "  align-self: flex-end;\n",
       "  width: 50%;\n",
       "}\n",
       "\n",
       "#sk-container-id-1 div.sk-parallel-item:last-child::after {\n",
       "  align-self: flex-start;\n",
       "  width: 50%;\n",
       "}\n",
       "\n",
       "#sk-container-id-1 div.sk-parallel-item:only-child::after {\n",
       "  width: 0;\n",
       "}\n",
       "\n",
       "/* Serial-specific style estimator block */\n",
       "\n",
       "#sk-container-id-1 div.sk-serial {\n",
       "  display: flex;\n",
       "  flex-direction: column;\n",
       "  align-items: center;\n",
       "  background-color: var(--sklearn-color-background);\n",
       "  padding-right: 1em;\n",
       "  padding-left: 1em;\n",
       "}\n",
       "\n",
       "\n",
       "/* Toggleable style: style used for estimator/Pipeline/ColumnTransformer box that is\n",
       "clickable and can be expanded/collapsed.\n",
       "- Pipeline and ColumnTransformer use this feature and define the default style\n",
       "- Estimators will overwrite some part of the style using the `sk-estimator` class\n",
       "*/\n",
       "\n",
       "/* Pipeline and ColumnTransformer style (default) */\n",
       "\n",
       "#sk-container-id-1 div.sk-toggleable {\n",
       "  /* Default theme specific background. It is overwritten whether we have a\n",
       "  specific estimator or a Pipeline/ColumnTransformer */\n",
       "  background-color: var(--sklearn-color-background);\n",
       "}\n",
       "\n",
       "/* Toggleable label */\n",
       "#sk-container-id-1 label.sk-toggleable__label {\n",
       "  cursor: pointer;\n",
       "  display: block;\n",
       "  width: 100%;\n",
       "  margin-bottom: 0;\n",
       "  padding: 0.5em;\n",
       "  box-sizing: border-box;\n",
       "  text-align: center;\n",
       "}\n",
       "\n",
       "#sk-container-id-1 label.sk-toggleable__label-arrow:before {\n",
       "  /* Arrow on the left of the label */\n",
       "  content: \"▸\";\n",
       "  float: left;\n",
       "  margin-right: 0.25em;\n",
       "  color: var(--sklearn-color-icon);\n",
       "}\n",
       "\n",
       "#sk-container-id-1 label.sk-toggleable__label-arrow:hover:before {\n",
       "  color: var(--sklearn-color-text);\n",
       "}\n",
       "\n",
       "/* Toggleable content - dropdown */\n",
       "\n",
       "#sk-container-id-1 div.sk-toggleable__content {\n",
       "  max-height: 0;\n",
       "  max-width: 0;\n",
       "  overflow: hidden;\n",
       "  text-align: left;\n",
       "  /* unfitted */\n",
       "  background-color: var(--sklearn-color-unfitted-level-0);\n",
       "}\n",
       "\n",
       "#sk-container-id-1 div.sk-toggleable__content.fitted {\n",
       "  /* fitted */\n",
       "  background-color: var(--sklearn-color-fitted-level-0);\n",
       "}\n",
       "\n",
       "#sk-container-id-1 div.sk-toggleable__content pre {\n",
       "  margin: 0.2em;\n",
       "  border-radius: 0.25em;\n",
       "  color: var(--sklearn-color-text);\n",
       "  /* unfitted */\n",
       "  background-color: var(--sklearn-color-unfitted-level-0);\n",
       "}\n",
       "\n",
       "#sk-container-id-1 div.sk-toggleable__content.fitted pre {\n",
       "  /* unfitted */\n",
       "  background-color: var(--sklearn-color-fitted-level-0);\n",
       "}\n",
       "\n",
       "#sk-container-id-1 input.sk-toggleable__control:checked~div.sk-toggleable__content {\n",
       "  /* Expand drop-down */\n",
       "  max-height: 200px;\n",
       "  max-width: 100%;\n",
       "  overflow: auto;\n",
       "}\n",
       "\n",
       "#sk-container-id-1 input.sk-toggleable__control:checked~label.sk-toggleable__label-arrow:before {\n",
       "  content: \"▾\";\n",
       "}\n",
       "\n",
       "/* Pipeline/ColumnTransformer-specific style */\n",
       "\n",
       "#sk-container-id-1 div.sk-label input.sk-toggleable__control:checked~label.sk-toggleable__label {\n",
       "  color: var(--sklearn-color-text);\n",
       "  background-color: var(--sklearn-color-unfitted-level-2);\n",
       "}\n",
       "\n",
       "#sk-container-id-1 div.sk-label.fitted input.sk-toggleable__control:checked~label.sk-toggleable__label {\n",
       "  background-color: var(--sklearn-color-fitted-level-2);\n",
       "}\n",
       "\n",
       "/* Estimator-specific style */\n",
       "\n",
       "/* Colorize estimator box */\n",
       "#sk-container-id-1 div.sk-estimator input.sk-toggleable__control:checked~label.sk-toggleable__label {\n",
       "  /* unfitted */\n",
       "  background-color: var(--sklearn-color-unfitted-level-2);\n",
       "}\n",
       "\n",
       "#sk-container-id-1 div.sk-estimator.fitted input.sk-toggleable__control:checked~label.sk-toggleable__label {\n",
       "  /* fitted */\n",
       "  background-color: var(--sklearn-color-fitted-level-2);\n",
       "}\n",
       "\n",
       "#sk-container-id-1 div.sk-label label.sk-toggleable__label,\n",
       "#sk-container-id-1 div.sk-label label {\n",
       "  /* The background is the default theme color */\n",
       "  color: var(--sklearn-color-text-on-default-background);\n",
       "}\n",
       "\n",
       "/* On hover, darken the color of the background */\n",
       "#sk-container-id-1 div.sk-label:hover label.sk-toggleable__label {\n",
       "  color: var(--sklearn-color-text);\n",
       "  background-color: var(--sklearn-color-unfitted-level-2);\n",
       "}\n",
       "\n",
       "/* Label box, darken color on hover, fitted */\n",
       "#sk-container-id-1 div.sk-label.fitted:hover label.sk-toggleable__label.fitted {\n",
       "  color: var(--sklearn-color-text);\n",
       "  background-color: var(--sklearn-color-fitted-level-2);\n",
       "}\n",
       "\n",
       "/* Estimator label */\n",
       "\n",
       "#sk-container-id-1 div.sk-label label {\n",
       "  font-family: monospace;\n",
       "  font-weight: bold;\n",
       "  display: inline-block;\n",
       "  line-height: 1.2em;\n",
       "}\n",
       "\n",
       "#sk-container-id-1 div.sk-label-container {\n",
       "  text-align: center;\n",
       "}\n",
       "\n",
       "/* Estimator-specific */\n",
       "#sk-container-id-1 div.sk-estimator {\n",
       "  font-family: monospace;\n",
       "  border: 1px dotted var(--sklearn-color-border-box);\n",
       "  border-radius: 0.25em;\n",
       "  box-sizing: border-box;\n",
       "  margin-bottom: 0.5em;\n",
       "  /* unfitted */\n",
       "  background-color: var(--sklearn-color-unfitted-level-0);\n",
       "}\n",
       "\n",
       "#sk-container-id-1 div.sk-estimator.fitted {\n",
       "  /* fitted */\n",
       "  background-color: var(--sklearn-color-fitted-level-0);\n",
       "}\n",
       "\n",
       "/* on hover */\n",
       "#sk-container-id-1 div.sk-estimator:hover {\n",
       "  /* unfitted */\n",
       "  background-color: var(--sklearn-color-unfitted-level-2);\n",
       "}\n",
       "\n",
       "#sk-container-id-1 div.sk-estimator.fitted:hover {\n",
       "  /* fitted */\n",
       "  background-color: var(--sklearn-color-fitted-level-2);\n",
       "}\n",
       "\n",
       "/* Specification for estimator info (e.g. \"i\" and \"?\") */\n",
       "\n",
       "/* Common style for \"i\" and \"?\" */\n",
       "\n",
       ".sk-estimator-doc-link,\n",
       "a:link.sk-estimator-doc-link,\n",
       "a:visited.sk-estimator-doc-link {\n",
       "  float: right;\n",
       "  font-size: smaller;\n",
       "  line-height: 1em;\n",
       "  font-family: monospace;\n",
       "  background-color: var(--sklearn-color-background);\n",
       "  border-radius: 1em;\n",
       "  height: 1em;\n",
       "  width: 1em;\n",
       "  text-decoration: none !important;\n",
       "  margin-left: 1ex;\n",
       "  /* unfitted */\n",
       "  border: var(--sklearn-color-unfitted-level-1) 1pt solid;\n",
       "  color: var(--sklearn-color-unfitted-level-1);\n",
       "}\n",
       "\n",
       ".sk-estimator-doc-link.fitted,\n",
       "a:link.sk-estimator-doc-link.fitted,\n",
       "a:visited.sk-estimator-doc-link.fitted {\n",
       "  /* fitted */\n",
       "  border: var(--sklearn-color-fitted-level-1) 1pt solid;\n",
       "  color: var(--sklearn-color-fitted-level-1);\n",
       "}\n",
       "\n",
       "/* On hover */\n",
       "div.sk-estimator:hover .sk-estimator-doc-link:hover,\n",
       ".sk-estimator-doc-link:hover,\n",
       "div.sk-label-container:hover .sk-estimator-doc-link:hover,\n",
       ".sk-estimator-doc-link:hover {\n",
       "  /* unfitted */\n",
       "  background-color: var(--sklearn-color-unfitted-level-3);\n",
       "  color: var(--sklearn-color-background);\n",
       "  text-decoration: none;\n",
       "}\n",
       "\n",
       "div.sk-estimator.fitted:hover .sk-estimator-doc-link.fitted:hover,\n",
       ".sk-estimator-doc-link.fitted:hover,\n",
       "div.sk-label-container:hover .sk-estimator-doc-link.fitted:hover,\n",
       ".sk-estimator-doc-link.fitted:hover {\n",
       "  /* fitted */\n",
       "  background-color: var(--sklearn-color-fitted-level-3);\n",
       "  color: var(--sklearn-color-background);\n",
       "  text-decoration: none;\n",
       "}\n",
       "\n",
       "/* Span, style for the box shown on hovering the info icon */\n",
       ".sk-estimator-doc-link span {\n",
       "  display: none;\n",
       "  z-index: 9999;\n",
       "  position: relative;\n",
       "  font-weight: normal;\n",
       "  right: .2ex;\n",
       "  padding: .5ex;\n",
       "  margin: .5ex;\n",
       "  width: min-content;\n",
       "  min-width: 20ex;\n",
       "  max-width: 50ex;\n",
       "  color: var(--sklearn-color-text);\n",
       "  box-shadow: 2pt 2pt 4pt #999;\n",
       "  /* unfitted */\n",
       "  background: var(--sklearn-color-unfitted-level-0);\n",
       "  border: .5pt solid var(--sklearn-color-unfitted-level-3);\n",
       "}\n",
       "\n",
       ".sk-estimator-doc-link.fitted span {\n",
       "  /* fitted */\n",
       "  background: var(--sklearn-color-fitted-level-0);\n",
       "  border: var(--sklearn-color-fitted-level-3);\n",
       "}\n",
       "\n",
       ".sk-estimator-doc-link:hover span {\n",
       "  display: block;\n",
       "}\n",
       "\n",
       "/* \"?\"-specific style due to the `<a>` HTML tag */\n",
       "\n",
       "#sk-container-id-1 a.estimator_doc_link {\n",
       "  float: right;\n",
       "  font-size: 1rem;\n",
       "  line-height: 1em;\n",
       "  font-family: monospace;\n",
       "  background-color: var(--sklearn-color-background);\n",
       "  border-radius: 1rem;\n",
       "  height: 1rem;\n",
       "  width: 1rem;\n",
       "  text-decoration: none;\n",
       "  /* unfitted */\n",
       "  color: var(--sklearn-color-unfitted-level-1);\n",
       "  border: var(--sklearn-color-unfitted-level-1) 1pt solid;\n",
       "}\n",
       "\n",
       "#sk-container-id-1 a.estimator_doc_link.fitted {\n",
       "  /* fitted */\n",
       "  border: var(--sklearn-color-fitted-level-1) 1pt solid;\n",
       "  color: var(--sklearn-color-fitted-level-1);\n",
       "}\n",
       "\n",
       "/* On hover */\n",
       "#sk-container-id-1 a.estimator_doc_link:hover {\n",
       "  /* unfitted */\n",
       "  background-color: var(--sklearn-color-unfitted-level-3);\n",
       "  color: var(--sklearn-color-background);\n",
       "  text-decoration: none;\n",
       "}\n",
       "\n",
       "#sk-container-id-1 a.estimator_doc_link.fitted:hover {\n",
       "  /* fitted */\n",
       "  background-color: var(--sklearn-color-fitted-level-3);\n",
       "}\n",
       "</style><div id=\"sk-container-id-1\" class=\"sk-top-container\"><div class=\"sk-text-repr-fallback\"><pre>XGBClassifier(base_score=None, booster=None, callbacks=None,\n",
       "              colsample_bylevel=None, colsample_bynode=0.14667845540225039,\n",
       "              colsample_bytree=None, device=&#x27;gpu&#x27;, early_stopping_rounds=None,\n",
       "              enable_categorical=False,\n",
       "              eval_metric=&lt;function custom_f1_score at 0x7cc1801b3060&gt;,\n",
       "              feature_types=None, gamma=None, grow_policy=None,\n",
       "              importance_type=None, interaction_constraints=None,\n",
       "              learning_rate=0.07220195396446882, max_bin=None,\n",
       "              max_cat_threshold=None, max_cat_to_onehot=None,\n",
       "              max_delta_step=None, max_depth=9, max_leaves=None,\n",
       "              min_child_weight=3, missing=nan, monotone_constraints=None,\n",
       "              multi_strategy=None, n_estimators=122, n_jobs=None,\n",
       "              num_parallel_tree=None, objective=&#x27;multi:softprob&#x27;, ...)</pre><b>In a Jupyter environment, please rerun this cell to show the HTML representation or trust the notebook. <br />On GitHub, the HTML representation is unable to render, please try loading this page with nbviewer.org.</b></div><div class=\"sk-container\" hidden><div class=\"sk-item\"><div class=\"sk-estimator fitted sk-toggleable\"><input class=\"sk-toggleable__control sk-hidden--visually\" id=\"sk-estimator-id-1\" type=\"checkbox\" checked><label for=\"sk-estimator-id-1\" class=\"sk-toggleable__label fitted sk-toggleable__label-arrow fitted\">&nbsp;XGBClassifier<span class=\"sk-estimator-doc-link fitted\">i<span>Fitted</span></span></label><div class=\"sk-toggleable__content fitted\"><pre>XGBClassifier(base_score=None, booster=None, callbacks=None,\n",
       "              colsample_bylevel=None, colsample_bynode=0.14667845540225039,\n",
       "              colsample_bytree=None, device=&#x27;gpu&#x27;, early_stopping_rounds=None,\n",
       "              enable_categorical=False,\n",
       "              eval_metric=&lt;function custom_f1_score at 0x7cc1801b3060&gt;,\n",
       "              feature_types=None, gamma=None, grow_policy=None,\n",
       "              importance_type=None, interaction_constraints=None,\n",
       "              learning_rate=0.07220195396446882, max_bin=None,\n",
       "              max_cat_threshold=None, max_cat_to_onehot=None,\n",
       "              max_delta_step=None, max_depth=9, max_leaves=None,\n",
       "              min_child_weight=3, missing=nan, monotone_constraints=None,\n",
       "              multi_strategy=None, n_estimators=122, n_jobs=None,\n",
       "              num_parallel_tree=None, objective=&#x27;multi:softprob&#x27;, ...)</pre></div> </div></div></div></div>"
      ],
      "text/plain": [
       "XGBClassifier(base_score=None, booster=None, callbacks=None,\n",
       "              colsample_bylevel=None, colsample_bynode=0.14667845540225039,\n",
       "              colsample_bytree=None, device='gpu', early_stopping_rounds=None,\n",
       "              enable_categorical=False,\n",
       "              eval_metric=<function custom_f1_score at 0x7cc1801b3060>,\n",
       "              feature_types=None, gamma=None, grow_policy=None,\n",
       "              importance_type=None, interaction_constraints=None,\n",
       "              learning_rate=0.07220195396446882, max_bin=None,\n",
       "              max_cat_threshold=None, max_cat_to_onehot=None,\n",
       "              max_delta_step=None, max_depth=9, max_leaves=None,\n",
       "              min_child_weight=3, missing=nan, monotone_constraints=None,\n",
       "              multi_strategy=None, n_estimators=122, n_jobs=None,\n",
       "              num_parallel_tree=None, objective='multi:softprob', ...)"
      ]
     },
     "execution_count": 24,
     "metadata": {},
     "output_type": "execute_result"
    }
   ],
   "source": [
    "n_estimators = int(study.best_trial.user_attrs['best_iteration']*1.2)\n",
    "xgb = xgboost.XGBClassifier(\n",
    "        device='gpu',\n",
    "        eval_metric=eval_metric,\n",
    "        n_estimators=n_estimators,\n",
    "        **study.best_trial.params\n",
    "    )\n",
    "xgb.fit(\n",
    "    ssp.vstack((X_train, X_val)), \n",
    "    np.concatenate((y_train_enc, y_val_enc)), \n",
    "    eval_set=[(X_test, y_test_enc)],\n",
    "    verbose=1,\n",
    ")"
   ]
  },
  {
   "cell_type": "code",
   "execution_count": 25,
   "id": "61df3aef",
   "metadata": {
    "editable": true,
    "execution": {
     "iopub.execute_input": "2025-03-20T05:24:48.593989Z",
     "iopub.status.busy": "2025-03-20T05:24:48.593472Z",
     "iopub.status.idle": "2025-03-20T05:24:48.673691Z",
     "shell.execute_reply": "2025-03-20T05:24:48.672831Z"
    },
    "papermill": {
     "duration": 0.124454,
     "end_time": "2025-03-20T05:24:48.678303",
     "exception": false,
     "start_time": "2025-03-20T05:24:48.553849",
     "status": "completed"
    },
    "slideshow": {
     "slide_type": ""
    },
    "tags": []
   },
   "outputs": [
    {
     "data": {
      "text/plain": [
       "['/scratch_isilon/groups/singlecell/shared/projects/Inflammation-PBMCs-Atlas/03_downstream_analysis/08_gene_importance/results/targetY_studyID/03_xgboost/best_model/studyID_DC_xgb.json']"
      ]
     },
     "execution_count": 25,
     "metadata": {},
     "output_type": "execute_result"
    }
   ],
   "source": [
    "os.makedirs(here(f\"03_downstream_analysis/08_gene_importance/results/targetY_{target_y}/03_xgboost/best_model/\"), exist_ok=True)\n",
    "\n",
    "joblib.dump(xgb, (here(f'03_downstream_analysis/08_gene_importance/results/targetY_{target_y}/03_xgboost/best_model/{RUN_NAME}{CELL_TYPE}_xgb.json')))"
   ]
  },
  {
   "cell_type": "code",
   "execution_count": 26,
   "id": "26d22c1d",
   "metadata": {
    "execution": {
     "iopub.execute_input": "2025-03-20T05:24:48.800287Z",
     "iopub.status.busy": "2025-03-20T05:24:48.799640Z",
     "iopub.status.idle": "2025-03-20T05:24:49.258937Z",
     "shell.execute_reply": "2025-03-20T05:24:49.258440Z"
    },
    "papermill": {
     "duration": 0.532568,
     "end_time": "2025-03-20T05:24:49.260538",
     "exception": false,
     "start_time": "2025-03-20T05:24:48.727970",
     "status": "completed"
    },
    "tags": []
   },
   "outputs": [
    {
     "name": "stderr",
     "output_type": "stream",
     "text": [
      "/scratch_isilon/groups/singlecell/shared/conda_env/xgboostGPU/lib/python3.12/site-packages/xgboost/core.py:160: UserWarning:\n",
      "\n",
      "[05:24:48] WARNING: /home/conda/feedstock_root/build_artifacts/xgboost-split_1703076482591/work/src/common/error_msg.cc:58: Falling back to prediction using DMatrix due to mismatched devices. This might lead to higher memory usage and slower performance. XGBoost is running on: cuda:0, while the input data is on: cpu.\n",
      "Potential solutions:\n",
      "- Use a data structure that matches the device ordinal in the booster.\n",
      "- Set the device for booster before call to inplace_predict.\n",
      "\n",
      "This warning will only be shown once.\n",
      "\n",
      "\n"
     ]
    }
   ],
   "source": [
    "os.makedirs(here(f\"03_downstream_analysis/08_gene_importance/results/targetY_{target_y}/03_xgboost/predictions/\"), exist_ok=True)\n",
    "\n",
    "(pd.DataFrame(np.array((y_test, y_test_enc, xgb.predict(X_test))).T, columns=['y_true', 'y_true_code', 'y_pred'])\n",
    " .to_csv(here(f'03_downstream_analysis/08_gene_importance/results/targetY_{target_y}/03_xgboost/predictions/{RUN_NAME}{CELL_TYPE}_pred_test.zip')))\n",
    "(pd.DataFrame(np.array((y_train, y_train_enc, xgb.predict(X_train))).T, columns=['y_true', 'y_true_code', 'y_pred'])\n",
    " .to_csv(here(f'03_downstream_analysis/08_gene_importance/results/targetY_{target_y}/03_xgboost/predictions/{RUN_NAME}{CELL_TYPE}_pred_train.zip')))"
   ]
  },
  {
   "cell_type": "code",
   "execution_count": null,
   "id": "0d44507f",
   "metadata": {
    "papermill": {
     "duration": 0.02518,
     "end_time": "2025-03-20T05:24:49.317116",
     "exception": false,
     "start_time": "2025-03-20T05:24:49.291936",
     "status": "completed"
    },
    "tags": []
   },
   "outputs": [],
   "source": []
  }
 ],
 "metadata": {
  "kernelspec": {
   "display_name": "Python 3 (ipykernel)",
   "language": "python",
   "name": "python3"
  },
  "language_info": {
   "codemirror_mode": {
    "name": "ipython",
    "version": 3
   },
   "file_extension": ".py",
   "mimetype": "text/x-python",
   "name": "python",
   "nbconvert_exporter": "python",
   "pygments_lexer": "ipython3",
   "version": "3.12.9"
  },
  "papermill": {
   "default_parameters": {},
   "duration": 192.960168,
   "end_time": "2025-03-20T05:24:52.167119",
   "environment_variables": {},
   "exception": null,
   "input_path": "02_studyID_xgboost_fitting.ipynb",
   "output_path": "executed_notebooks/02_studyID_xgboost_fitting_DC.ipynb",
   "parameters": {
    "CELL_TYPE": "DC"
   },
   "start_time": "2025-03-20T05:21:39.206951",
   "version": "2.6.0"
  }
 },
 "nbformat": 4,
 "nbformat_minor": 5
}