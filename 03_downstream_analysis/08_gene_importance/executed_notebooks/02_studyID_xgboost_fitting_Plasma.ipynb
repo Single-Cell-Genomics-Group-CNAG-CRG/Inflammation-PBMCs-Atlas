{
 "cells": [
  {
   "cell_type": "code",
   "execution_count": 1,
   "id": "621ef6dc",
   "metadata": {
    "editable": true,
    "execution": {
     "iopub.execute_input": "2025-03-18T17:35:10.063373Z",
     "iopub.status.busy": "2025-03-18T17:35:10.062854Z",
     "iopub.status.idle": "2025-03-18T17:35:10.069772Z",
     "shell.execute_reply": "2025-03-18T17:35:10.069301Z"
    },
    "papermill": {
     "duration": 0.026784,
     "end_time": "2025-03-18T17:35:10.070956",
     "exception": false,
     "start_time": "2025-03-18T17:35:10.044172",
     "status": "completed"
    },
    "slideshow": {
     "slide_type": ""
    },
    "tags": [
     "parameters"
    ]
   },
   "outputs": [],
   "source": [
    "CELL_TYPE = 'DC'\n",
    "N_SPLITS: int = 5\n",
    "N_TRIALS: int = 50\n",
    "RUN_NAME: str = \"studyID\""
   ]
  },
  {
   "cell_type": "code",
   "execution_count": 2,
   "id": "69744b1f",
   "metadata": {
    "execution": {
     "iopub.execute_input": "2025-03-18T17:35:10.104191Z",
     "iopub.status.busy": "2025-03-18T17:35:10.103520Z",
     "iopub.status.idle": "2025-03-18T17:35:10.110668Z",
     "shell.execute_reply": "2025-03-18T17:35:10.110179Z"
    },
    "papermill": {
     "duration": 0.02807,
     "end_time": "2025-03-18T17:35:10.111579",
     "exception": false,
     "start_time": "2025-03-18T17:35:10.083509",
     "status": "completed"
    },
    "tags": [
     "injected-parameters"
    ]
   },
   "outputs": [],
   "source": [
    "# Parameters\n",
    "CELL_TYPE = \"Plasma\"\n"
   ]
  },
  {
   "cell_type": "code",
   "execution_count": 3,
   "id": "c7f4570d",
   "metadata": {
    "editable": true,
    "execution": {
     "iopub.execute_input": "2025-03-18T17:35:10.146708Z",
     "iopub.status.busy": "2025-03-18T17:35:10.146411Z",
     "iopub.status.idle": "2025-03-18T17:35:10.151403Z",
     "shell.execute_reply": "2025-03-18T17:35:10.150968Z"
    },
    "papermill": {
     "duration": 0.029713,
     "end_time": "2025-03-18T17:35:10.152602",
     "exception": false,
     "start_time": "2025-03-18T17:35:10.122889",
     "status": "completed"
    },
    "slideshow": {
     "slide_type": ""
    },
    "tags": []
   },
   "outputs": [],
   "source": [
    "if RUN_NAME != \"\":\n",
    "    RUN_NAME = RUN_NAME + \"_\""
   ]
  },
  {
   "cell_type": "code",
   "execution_count": 4,
   "id": "c8f05d94",
   "metadata": {
    "editable": true,
    "execution": {
     "iopub.execute_input": "2025-03-18T17:35:10.179196Z",
     "iopub.status.busy": "2025-03-18T17:35:10.178591Z",
     "iopub.status.idle": "2025-03-18T17:35:13.252016Z",
     "shell.execute_reply": "2025-03-18T17:35:13.251505Z"
    },
    "papermill": {
     "duration": 3.088388,
     "end_time": "2025-03-18T17:35:13.253138",
     "exception": false,
     "start_time": "2025-03-18T17:35:10.164750",
     "status": "completed"
    },
    "slideshow": {
     "slide_type": ""
    },
    "tags": []
   },
   "outputs": [],
   "source": [
    "import os\n",
    "import sys\n",
    "#from pyprojroot.here import here\n",
    "\n",
    "import pandas as pd\n",
    "import anndata as ad\n",
    "import numpy as np\n",
    "import math\n",
    "from sklearn.model_selection import StratifiedGroupKFold\n",
    "from sklearn.preprocessing import LabelEncoder\n",
    "from sklearn.metrics import f1_score\n",
    "import matplotlib.pyplot as plt\n",
    "import seaborn as sns\n",
    "from itertools import product\n",
    "\n",
    "import optuna\n",
    "\n",
    "import joblib\n",
    "import pickle\n",
    "import datetime\n",
    "\n",
    "import collections\n",
    "\n",
    "import xgboost\n",
    "from sklearn.preprocessing import LabelEncoder\n",
    "\n",
    "import scipy.sparse as ssp\n",
    "import joblib\n",
    "\n",
    "from pyprojroot import here\n",
    "\n",
    "from dotenv import load_dotenv"
   ]
  },
  {
   "cell_type": "code",
   "execution_count": 5,
   "id": "2b496f8c",
   "metadata": {
    "execution": {
     "iopub.execute_input": "2025-03-18T17:35:13.286371Z",
     "iopub.status.busy": "2025-03-18T17:35:13.285442Z",
     "iopub.status.idle": "2025-03-18T17:35:13.298047Z",
     "shell.execute_reply": "2025-03-18T17:35:13.290368Z"
    },
    "papermill": {
     "duration": 0.039346,
     "end_time": "2025-03-18T17:35:13.304615",
     "exception": false,
     "start_time": "2025-03-18T17:35:13.265269",
     "status": "completed"
    },
    "tags": []
   },
   "outputs": [],
   "source": [
    "assert load_dotenv()"
   ]
  },
  {
   "cell_type": "markdown",
   "id": "66709154",
   "metadata": {
    "execution": {
     "iopub.execute_input": "2025-03-17T14:39:30.205388Z",
     "iopub.status.busy": "2025-03-17T14:39:30.204197Z",
     "iopub.status.idle": "2025-03-17T14:39:30.210586Z",
     "shell.execute_reply": "2025-03-17T14:39:30.209317Z",
     "shell.execute_reply.started": "2025-03-17T14:39:30.205342Z"
    },
    "papermill": {
     "duration": 0.014974,
     "end_time": "2025-03-18T17:35:13.333695",
     "exception": false,
     "start_time": "2025-03-18T17:35:13.318721",
     "status": "completed"
    },
    "tags": []
   },
   "source": [
    "def here(fpath):\n",
    "    return os.path.join(BUCKET_DIRPATH, fpath)"
   ]
  },
  {
   "cell_type": "code",
   "execution_count": 6,
   "id": "19871acd",
   "metadata": {
    "execution": {
     "iopub.execute_input": "2025-03-18T17:35:13.377980Z",
     "iopub.status.busy": "2025-03-18T17:35:13.374692Z",
     "iopub.status.idle": "2025-03-18T17:35:13.385087Z",
     "shell.execute_reply": "2025-03-18T17:35:13.384600Z"
    },
    "papermill": {
     "duration": 0.033331,
     "end_time": "2025-03-18T17:35:13.385895",
     "exception": false,
     "start_time": "2025-03-18T17:35:13.352564",
     "status": "completed"
    },
    "tags": []
   },
   "outputs": [],
   "source": [
    "target_y = 'studyID'"
   ]
  },
  {
   "cell_type": "markdown",
   "id": "4ec2f954",
   "metadata": {
    "papermill": {
     "duration": 0.014237,
     "end_time": "2025-03-18T17:35:13.412187",
     "exception": false,
     "start_time": "2025-03-18T17:35:13.397950",
     "status": "completed"
    },
    "tags": []
   },
   "source": [
    "# LOAD DATASET"
   ]
  },
  {
   "cell_type": "code",
   "execution_count": 7,
   "id": "ef6489c7",
   "metadata": {
    "execution": {
     "iopub.execute_input": "2025-03-18T17:35:13.436993Z",
     "iopub.status.busy": "2025-03-18T17:35:13.436681Z",
     "iopub.status.idle": "2025-03-18T17:35:14.048445Z",
     "shell.execute_reply": "2025-03-18T17:35:14.047512Z"
    },
    "papermill": {
     "duration": 0.627434,
     "end_time": "2025-03-18T17:35:14.056820",
     "exception": false,
     "start_time": "2025-03-18T17:35:13.429386",
     "status": "completed"
    },
    "tags": []
   },
   "outputs": [],
   "source": [
    "adata = ad.read_h5ad(\n",
    "    str(here(f'03_downstream_analysis/08_gene_importance/data/{CELL_TYPE}_adataMerged_SPECTRAgenes.log1p.h5ad')),\n",
    "    backed='r',\n",
    "    chunk_size=25000\n",
    ")"
   ]
  },
  {
   "cell_type": "code",
   "execution_count": 8,
   "id": "49b8d749",
   "metadata": {
    "execution": {
     "iopub.execute_input": "2025-03-18T17:35:14.096283Z",
     "iopub.status.busy": "2025-03-18T17:35:14.095987Z",
     "iopub.status.idle": "2025-03-18T17:35:14.119035Z",
     "shell.execute_reply": "2025-03-18T17:35:14.118331Z"
    },
    "papermill": {
     "duration": 0.045753,
     "end_time": "2025-03-18T17:35:14.119930",
     "exception": false,
     "start_time": "2025-03-18T17:35:14.074177",
     "status": "completed"
    },
    "tags": []
   },
   "outputs": [
    {
     "data": {
      "text/html": [
       "<div>\n",
       "<style scoped>\n",
       "    .dataframe tbody tr th:only-of-type {\n",
       "        vertical-align: middle;\n",
       "    }\n",
       "\n",
       "    .dataframe tbody tr th {\n",
       "        vertical-align: top;\n",
       "    }\n",
       "\n",
       "    .dataframe thead th {\n",
       "        text-align: right;\n",
       "    }\n",
       "</style>\n",
       "<table border=\"1\" class=\"dataframe\">\n",
       "  <thead>\n",
       "    <tr style=\"text-align: right;\">\n",
       "      <th></th>\n",
       "      <th>studyID</th>\n",
       "      <th>libraryID</th>\n",
       "      <th>sampleID</th>\n",
       "      <th>chemistry</th>\n",
       "      <th>disease</th>\n",
       "      <th>sex</th>\n",
       "      <th>binned_age</th>\n",
       "      <th>Level1</th>\n",
       "      <th>Level2</th>\n",
       "    </tr>\n",
       "    <tr>\n",
       "      <th>cellID</th>\n",
       "      <th></th>\n",
       "      <th></th>\n",
       "      <th></th>\n",
       "      <th></th>\n",
       "      <th></th>\n",
       "      <th></th>\n",
       "      <th></th>\n",
       "      <th></th>\n",
       "      <th></th>\n",
       "    </tr>\n",
       "  </thead>\n",
       "  <tbody>\n",
       "    <tr>\n",
       "      <th>SCGT02_L002_SEO112_T0_CAATTTCGTTTATGCG</th>\n",
       "      <td>SCGT02</td>\n",
       "      <td>SCGT02_L002</td>\n",
       "      <td>SCGT02_SEO112_T0</td>\n",
       "      <td>3_GEX_V3</td>\n",
       "      <td>healthy</td>\n",
       "      <td>male</td>\n",
       "      <td>51-60</td>\n",
       "      <td>Plasma</td>\n",
       "      <td>Plasma_IGHG</td>\n",
       "    </tr>\n",
       "    <tr>\n",
       "      <th>SCGT02_L002_SEO112_T0_GGGTCACGTGACCGAA</th>\n",
       "      <td>SCGT02</td>\n",
       "      <td>SCGT02_L002</td>\n",
       "      <td>SCGT02_SEO112_T0</td>\n",
       "      <td>3_GEX_V3</td>\n",
       "      <td>healthy</td>\n",
       "      <td>male</td>\n",
       "      <td>51-60</td>\n",
       "      <td>Plasma</td>\n",
       "      <td>Plasma_IGHA</td>\n",
       "    </tr>\n",
       "    <tr>\n",
       "      <th>Perez2022_L020_1297_T0_ATAGACCAGTGGCACA</th>\n",
       "      <td>Perez2022</td>\n",
       "      <td>Perez2022_L020</td>\n",
       "      <td>Perez2022_1297_T0</td>\n",
       "      <td>3_GEX_V2</td>\n",
       "      <td>SLE</td>\n",
       "      <td>female</td>\n",
       "      <td>51-60</td>\n",
       "      <td>Plasma</td>\n",
       "      <td>Plasma_IGHA</td>\n",
       "    </tr>\n",
       "    <tr>\n",
       "      <th>Perez2022_L065_2135_T0_AGAATAGGTGCACGAA</th>\n",
       "      <td>Perez2022</td>\n",
       "      <td>Perez2022_L065</td>\n",
       "      <td>Perez2022_2135_T0</td>\n",
       "      <td>3_GEX_V2</td>\n",
       "      <td>SLE</td>\n",
       "      <td>female</td>\n",
       "      <td>51-60</td>\n",
       "      <td>Plasma</td>\n",
       "      <td>Plasma_IGHA</td>\n",
       "    </tr>\n",
       "    <tr>\n",
       "      <th>Perez2022_L066_2135_T0_GGCAATTAGCTGGAAC</th>\n",
       "      <td>Perez2022</td>\n",
       "      <td>Perez2022_L066</td>\n",
       "      <td>Perez2022_2135_T0</td>\n",
       "      <td>3_GEX_V2</td>\n",
       "      <td>SLE</td>\n",
       "      <td>female</td>\n",
       "      <td>51-60</td>\n",
       "      <td>Plasma</td>\n",
       "      <td>Plasma_IGHA</td>\n",
       "    </tr>\n",
       "    <tr>\n",
       "      <th>...</th>\n",
       "      <td>...</td>\n",
       "      <td>...</td>\n",
       "      <td>...</td>\n",
       "      <td>...</td>\n",
       "      <td>...</td>\n",
       "      <td>...</td>\n",
       "      <td>...</td>\n",
       "      <td>...</td>\n",
       "      <td>...</td>\n",
       "    </tr>\n",
       "    <tr>\n",
       "      <th>Terekhova2023_L018_E07_T0_CTGATCCTCTGGTATG</th>\n",
       "      <td>Terekhova2023</td>\n",
       "      <td>Terekhova2023_L018</td>\n",
       "      <td>Terekhova2023_E07_T0</td>\n",
       "      <td>5_GEX_V2</td>\n",
       "      <td>healthy</td>\n",
       "      <td>male</td>\n",
       "      <td>71-80</td>\n",
       "      <td>Plasma</td>\n",
       "      <td>Plasma_IGHG</td>\n",
       "    </tr>\n",
       "    <tr>\n",
       "      <th>Terekhova2023_L018_E07_T0_GATCTAGAGCCCAACC</th>\n",
       "      <td>Terekhova2023</td>\n",
       "      <td>Terekhova2023_L018</td>\n",
       "      <td>Terekhova2023_E07_T0</td>\n",
       "      <td>5_GEX_V2</td>\n",
       "      <td>healthy</td>\n",
       "      <td>male</td>\n",
       "      <td>71-80</td>\n",
       "      <td>Plasma</td>\n",
       "      <td>Plasma_IGHA</td>\n",
       "    </tr>\n",
       "    <tr>\n",
       "      <th>Terekhova2023_L018_E07_T0_GTACTTTCATGGTCTA</th>\n",
       "      <td>Terekhova2023</td>\n",
       "      <td>Terekhova2023_L018</td>\n",
       "      <td>Terekhova2023_E07_T0</td>\n",
       "      <td>5_GEX_V2</td>\n",
       "      <td>healthy</td>\n",
       "      <td>male</td>\n",
       "      <td>71-80</td>\n",
       "      <td>Plasma</td>\n",
       "      <td>Plasma_XBP1</td>\n",
       "    </tr>\n",
       "    <tr>\n",
       "      <th>Terekhova2023_L018_E07_T0_TGGGCGTTCCGTCAAA</th>\n",
       "      <td>Terekhova2023</td>\n",
       "      <td>Terekhova2023_L018</td>\n",
       "      <td>Terekhova2023_E07_T0</td>\n",
       "      <td>5_GEX_V2</td>\n",
       "      <td>healthy</td>\n",
       "      <td>male</td>\n",
       "      <td>71-80</td>\n",
       "      <td>Plasma</td>\n",
       "      <td>Plasma_IGHA</td>\n",
       "    </tr>\n",
       "    <tr>\n",
       "      <th>Terekhova2023_L018_E07_T0_TTGGAACGTTCGTCTC</th>\n",
       "      <td>Terekhova2023</td>\n",
       "      <td>Terekhova2023_L018</td>\n",
       "      <td>Terekhova2023_E07_T0</td>\n",
       "      <td>5_GEX_V2</td>\n",
       "      <td>healthy</td>\n",
       "      <td>male</td>\n",
       "      <td>71-80</td>\n",
       "      <td>Plasma</td>\n",
       "      <td>Plasma_XBP1</td>\n",
       "    </tr>\n",
       "  </tbody>\n",
       "</table>\n",
       "<p>16854 rows × 9 columns</p>\n",
       "</div>"
      ],
      "text/plain": [
       "                                                  studyID           libraryID  \\\n",
       "cellID                                                                          \n",
       "SCGT02_L002_SEO112_T0_CAATTTCGTTTATGCG             SCGT02         SCGT02_L002   \n",
       "SCGT02_L002_SEO112_T0_GGGTCACGTGACCGAA             SCGT02         SCGT02_L002   \n",
       "Perez2022_L020_1297_T0_ATAGACCAGTGGCACA         Perez2022      Perez2022_L020   \n",
       "Perez2022_L065_2135_T0_AGAATAGGTGCACGAA         Perez2022      Perez2022_L065   \n",
       "Perez2022_L066_2135_T0_GGCAATTAGCTGGAAC         Perez2022      Perez2022_L066   \n",
       "...                                                   ...                 ...   \n",
       "Terekhova2023_L018_E07_T0_CTGATCCTCTGGTATG  Terekhova2023  Terekhova2023_L018   \n",
       "Terekhova2023_L018_E07_T0_GATCTAGAGCCCAACC  Terekhova2023  Terekhova2023_L018   \n",
       "Terekhova2023_L018_E07_T0_GTACTTTCATGGTCTA  Terekhova2023  Terekhova2023_L018   \n",
       "Terekhova2023_L018_E07_T0_TGGGCGTTCCGTCAAA  Terekhova2023  Terekhova2023_L018   \n",
       "Terekhova2023_L018_E07_T0_TTGGAACGTTCGTCTC  Terekhova2023  Terekhova2023_L018   \n",
       "\n",
       "                                                        sampleID chemistry  \\\n",
       "cellID                                                                       \n",
       "SCGT02_L002_SEO112_T0_CAATTTCGTTTATGCG          SCGT02_SEO112_T0  3_GEX_V3   \n",
       "SCGT02_L002_SEO112_T0_GGGTCACGTGACCGAA          SCGT02_SEO112_T0  3_GEX_V3   \n",
       "Perez2022_L020_1297_T0_ATAGACCAGTGGCACA        Perez2022_1297_T0  3_GEX_V2   \n",
       "Perez2022_L065_2135_T0_AGAATAGGTGCACGAA        Perez2022_2135_T0  3_GEX_V2   \n",
       "Perez2022_L066_2135_T0_GGCAATTAGCTGGAAC        Perez2022_2135_T0  3_GEX_V2   \n",
       "...                                                          ...       ...   \n",
       "Terekhova2023_L018_E07_T0_CTGATCCTCTGGTATG  Terekhova2023_E07_T0  5_GEX_V2   \n",
       "Terekhova2023_L018_E07_T0_GATCTAGAGCCCAACC  Terekhova2023_E07_T0  5_GEX_V2   \n",
       "Terekhova2023_L018_E07_T0_GTACTTTCATGGTCTA  Terekhova2023_E07_T0  5_GEX_V2   \n",
       "Terekhova2023_L018_E07_T0_TGGGCGTTCCGTCAAA  Terekhova2023_E07_T0  5_GEX_V2   \n",
       "Terekhova2023_L018_E07_T0_TTGGAACGTTCGTCTC  Terekhova2023_E07_T0  5_GEX_V2   \n",
       "\n",
       "                                            disease     sex binned_age  \\\n",
       "cellID                                                                   \n",
       "SCGT02_L002_SEO112_T0_CAATTTCGTTTATGCG      healthy    male      51-60   \n",
       "SCGT02_L002_SEO112_T0_GGGTCACGTGACCGAA      healthy    male      51-60   \n",
       "Perez2022_L020_1297_T0_ATAGACCAGTGGCACA         SLE  female      51-60   \n",
       "Perez2022_L065_2135_T0_AGAATAGGTGCACGAA         SLE  female      51-60   \n",
       "Perez2022_L066_2135_T0_GGCAATTAGCTGGAAC         SLE  female      51-60   \n",
       "...                                             ...     ...        ...   \n",
       "Terekhova2023_L018_E07_T0_CTGATCCTCTGGTATG  healthy    male      71-80   \n",
       "Terekhova2023_L018_E07_T0_GATCTAGAGCCCAACC  healthy    male      71-80   \n",
       "Terekhova2023_L018_E07_T0_GTACTTTCATGGTCTA  healthy    male      71-80   \n",
       "Terekhova2023_L018_E07_T0_TGGGCGTTCCGTCAAA  healthy    male      71-80   \n",
       "Terekhova2023_L018_E07_T0_TTGGAACGTTCGTCTC  healthy    male      71-80   \n",
       "\n",
       "                                            Level1       Level2  \n",
       "cellID                                                           \n",
       "SCGT02_L002_SEO112_T0_CAATTTCGTTTATGCG      Plasma  Plasma_IGHG  \n",
       "SCGT02_L002_SEO112_T0_GGGTCACGTGACCGAA      Plasma  Plasma_IGHA  \n",
       "Perez2022_L020_1297_T0_ATAGACCAGTGGCACA     Plasma  Plasma_IGHA  \n",
       "Perez2022_L065_2135_T0_AGAATAGGTGCACGAA     Plasma  Plasma_IGHA  \n",
       "Perez2022_L066_2135_T0_GGCAATTAGCTGGAAC     Plasma  Plasma_IGHA  \n",
       "...                                            ...          ...  \n",
       "Terekhova2023_L018_E07_T0_CTGATCCTCTGGTATG  Plasma  Plasma_IGHG  \n",
       "Terekhova2023_L018_E07_T0_GATCTAGAGCCCAACC  Plasma  Plasma_IGHA  \n",
       "Terekhova2023_L018_E07_T0_GTACTTTCATGGTCTA  Plasma  Plasma_XBP1  \n",
       "Terekhova2023_L018_E07_T0_TGGGCGTTCCGTCAAA  Plasma  Plasma_IGHA  \n",
       "Terekhova2023_L018_E07_T0_TTGGAACGTTCGTCTC  Plasma  Plasma_XBP1  \n",
       "\n",
       "[16854 rows x 9 columns]"
      ]
     },
     "execution_count": 8,
     "metadata": {},
     "output_type": "execute_result"
    }
   ],
   "source": [
    "adata.obs"
   ]
  },
  {
   "cell_type": "markdown",
   "id": "9532b946",
   "metadata": {
    "papermill": {
     "duration": 0.014823,
     "end_time": "2025-03-18T17:35:14.146775",
     "exception": false,
     "start_time": "2025-03-18T17:35:14.131952",
     "status": "completed"
    },
    "tags": []
   },
   "source": [
    "# EXTRACT INDEXES FOR DATA SPLITTING (STRATIFIED BY DISEASE, GROUPED BY PATIENT)\n",
    "\n",
    "# EXTRACT CELL COUNTS PER SPLIT (TO MAKE SURE THAT RATIOS RESEMBLE 70:20:10)"
   ]
  },
  {
   "cell_type": "code",
   "execution_count": 9,
   "id": "b726403e",
   "metadata": {
    "execution": {
     "iopub.execute_input": "2025-03-18T17:35:14.187983Z",
     "iopub.status.busy": "2025-03-18T17:35:14.187454Z",
     "iopub.status.idle": "2025-03-18T17:35:14.844566Z",
     "shell.execute_reply": "2025-03-18T17:35:14.844031Z"
    },
    "papermill": {
     "duration": 0.68852,
     "end_time": "2025-03-18T17:35:14.854051",
     "exception": false,
     "start_time": "2025-03-18T17:35:14.165531",
     "status": "completed"
    },
    "tags": []
   },
   "outputs": [],
   "source": [
    "all_idxs = np.arange(adata.obs.shape[0])\n",
    "left_out_splits = [s[1] for s in StratifiedGroupKFold(n_splits=N_SPLITS).split(all_idxs, adata.obs[target_y], adata.obs.sampleID)]\n",
    "\n",
    "min_stats = []\n",
    "for val_fold_idx, test_fold_idx in product(range(N_SPLITS), range(1,N_SPLITS)):\n",
    "    if val_fold_idx == test_fold_idx:\n",
    "        continue\n",
    "\n",
    "    all_idxs = np.arange(adata.obs.shape[0])\n",
    "    val_idxs, test_idxs = left_out_splits[val_fold_idx], left_out_splits[test_fold_idx]\n",
    "    train_idxs = np.delete(all_idxs, np.union1d(val_idxs, test_idxs))\n",
    "\n",
    "    cell_count_df = []\n",
    "    cell_count_df.append(adata.obs.iloc[train_idxs].groupby(target_y, observed=False).size().to_frame(name='cell_count').reset_index().assign(split='train'))\n",
    "    cell_count_df.append(adata.obs.iloc[val_idxs].groupby(target_y, observed=False).size().to_frame(name='cell_count').reset_index().assign(split='val'))\n",
    "    cell_count_df.append(adata.obs.iloc[test_idxs].groupby(target_y, observed=False).size().to_frame(name='cell_count').reset_index().assign(split='test'))\n",
    "    cell_count_df = pd.concat(cell_count_df).pivot(index=target_y, columns='split', values='cell_count')\n",
    "    cell_plot_data = cell_count_df.div(cell_count_df.sum(axis=1), axis=0).reset_index().melt(id_vars=target_y)\n",
    "    min_stats.append((val_fold_idx, test_fold_idx, cell_plot_data.query('split==\"train\"').value.min(), cell_plot_data.query('split==\"test\"').value.min()))"
   ]
  },
  {
   "cell_type": "markdown",
   "id": "f18962d2",
   "metadata": {
    "papermill": {
     "duration": 0.03072,
     "end_time": "2025-03-18T17:35:14.904538",
     "exception": false,
     "start_time": "2025-03-18T17:35:14.873818",
     "status": "completed"
    },
    "tags": []
   },
   "source": [
    "# CALCULATE RATIOS OF PATIENTS IN TRAINING AND TESTING SET: splits that best fit the expected ratios"
   ]
  },
  {
   "cell_type": "code",
   "execution_count": 10,
   "id": "ff6d95c4",
   "metadata": {
    "execution": {
     "iopub.execute_input": "2025-03-18T17:35:14.934748Z",
     "iopub.status.busy": "2025-03-18T17:35:14.934519Z",
     "iopub.status.idle": "2025-03-18T17:35:14.957277Z",
     "shell.execute_reply": "2025-03-18T17:35:14.956852Z"
    },
    "papermill": {
     "duration": 0.044473,
     "end_time": "2025-03-18T17:35:14.957979",
     "exception": false,
     "start_time": "2025-03-18T17:35:14.913506",
     "status": "completed"
    },
    "tags": []
   },
   "outputs": [
    {
     "data": {
      "text/html": [
       "<div>\n",
       "<style scoped>\n",
       "    .dataframe tbody tr th:only-of-type {\n",
       "        vertical-align: middle;\n",
       "    }\n",
       "\n",
       "    .dataframe tbody tr th {\n",
       "        vertical-align: top;\n",
       "    }\n",
       "\n",
       "    .dataframe thead th {\n",
       "        text-align: right;\n",
       "    }\n",
       "</style>\n",
       "<table border=\"1\" class=\"dataframe\">\n",
       "  <thead>\n",
       "    <tr style=\"text-align: right;\">\n",
       "      <th></th>\n",
       "      <th>val_idx</th>\n",
       "      <th>test_idx</th>\n",
       "      <th>train_min</th>\n",
       "      <th>test_mean</th>\n",
       "      <th>ranking</th>\n",
       "    </tr>\n",
       "  </thead>\n",
       "  <tbody>\n",
       "    <tr>\n",
       "      <th>14</th>\n",
       "      <td>4</td>\n",
       "      <td>2</td>\n",
       "      <td>0.485644</td>\n",
       "      <td>0.174603</td>\n",
       "      <td>0.084795</td>\n",
       "    </tr>\n",
       "    <tr>\n",
       "      <th>11</th>\n",
       "      <td>3</td>\n",
       "      <td>2</td>\n",
       "      <td>0.522197</td>\n",
       "      <td>0.174603</td>\n",
       "      <td>0.091177</td>\n",
       "    </tr>\n",
       "    <tr>\n",
       "      <th>1</th>\n",
       "      <td>0</td>\n",
       "      <td>2</td>\n",
       "      <td>0.553529</td>\n",
       "      <td>0.174603</td>\n",
       "      <td>0.096648</td>\n",
       "    </tr>\n",
       "    <tr>\n",
       "      <th>4</th>\n",
       "      <td>1</td>\n",
       "      <td>2</td>\n",
       "      <td>0.553529</td>\n",
       "      <td>0.174603</td>\n",
       "      <td>0.096648</td>\n",
       "    </tr>\n",
       "    <tr>\n",
       "      <th>7</th>\n",
       "      <td>2</td>\n",
       "      <td>1</td>\n",
       "      <td>0.553529</td>\n",
       "      <td>0.349206</td>\n",
       "      <td>0.193296</td>\n",
       "    </tr>\n",
       "    <tr>\n",
       "      <th>13</th>\n",
       "      <td>4</td>\n",
       "      <td>1</td>\n",
       "      <td>0.987448</td>\n",
       "      <td>0.349206</td>\n",
       "      <td>0.344823</td>\n",
       "    </tr>\n",
       "    <tr>\n",
       "      <th>10</th>\n",
       "      <td>3</td>\n",
       "      <td>1</td>\n",
       "      <td>0.995816</td>\n",
       "      <td>0.349206</td>\n",
       "      <td>0.347745</td>\n",
       "    </tr>\n",
       "    <tr>\n",
       "      <th>0</th>\n",
       "      <td>0</td>\n",
       "      <td>1</td>\n",
       "      <td>1.000000</td>\n",
       "      <td>0.349206</td>\n",
       "      <td>0.349206</td>\n",
       "    </tr>\n",
       "    <tr>\n",
       "      <th>8</th>\n",
       "      <td>2</td>\n",
       "      <td>3</td>\n",
       "      <td>0.522197</td>\n",
       "      <td>0.833333</td>\n",
       "      <td>0.435165</td>\n",
       "    </tr>\n",
       "    <tr>\n",
       "      <th>9</th>\n",
       "      <td>2</td>\n",
       "      <td>4</td>\n",
       "      <td>0.485644</td>\n",
       "      <td>1.000000</td>\n",
       "      <td>0.485644</td>\n",
       "    </tr>\n",
       "    <tr>\n",
       "      <th>15</th>\n",
       "      <td>4</td>\n",
       "      <td>3</td>\n",
       "      <td>0.957362</td>\n",
       "      <td>0.833333</td>\n",
       "      <td>0.797802</td>\n",
       "    </tr>\n",
       "    <tr>\n",
       "      <th>2</th>\n",
       "      <td>0</td>\n",
       "      <td>3</td>\n",
       "      <td>0.993404</td>\n",
       "      <td>0.833333</td>\n",
       "      <td>0.827837</td>\n",
       "    </tr>\n",
       "    <tr>\n",
       "      <th>5</th>\n",
       "      <td>1</td>\n",
       "      <td>3</td>\n",
       "      <td>0.995816</td>\n",
       "      <td>0.833333</td>\n",
       "      <td>0.829847</td>\n",
       "    </tr>\n",
       "    <tr>\n",
       "      <th>12</th>\n",
       "      <td>3</td>\n",
       "      <td>4</td>\n",
       "      <td>0.957362</td>\n",
       "      <td>1.000000</td>\n",
       "      <td>0.957362</td>\n",
       "    </tr>\n",
       "    <tr>\n",
       "      <th>6</th>\n",
       "      <td>1</td>\n",
       "      <td>4</td>\n",
       "      <td>0.987448</td>\n",
       "      <td>1.000000</td>\n",
       "      <td>0.987448</td>\n",
       "    </tr>\n",
       "    <tr>\n",
       "      <th>3</th>\n",
       "      <td>0</td>\n",
       "      <td>4</td>\n",
       "      <td>0.995657</td>\n",
       "      <td>1.000000</td>\n",
       "      <td>0.995657</td>\n",
       "    </tr>\n",
       "  </tbody>\n",
       "</table>\n",
       "</div>"
      ],
      "text/plain": [
       "    val_idx  test_idx  train_min  test_mean   ranking\n",
       "14        4         2   0.485644   0.174603  0.084795\n",
       "11        3         2   0.522197   0.174603  0.091177\n",
       "1         0         2   0.553529   0.174603  0.096648\n",
       "4         1         2   0.553529   0.174603  0.096648\n",
       "7         2         1   0.553529   0.349206  0.193296\n",
       "13        4         1   0.987448   0.349206  0.344823\n",
       "10        3         1   0.995816   0.349206  0.347745\n",
       "0         0         1   1.000000   0.349206  0.349206\n",
       "8         2         3   0.522197   0.833333  0.435165\n",
       "9         2         4   0.485644   1.000000  0.485644\n",
       "15        4         3   0.957362   0.833333  0.797802\n",
       "2         0         3   0.993404   0.833333  0.827837\n",
       "5         1         3   0.995816   0.833333  0.829847\n",
       "12        3         4   0.957362   1.000000  0.957362\n",
       "6         1         4   0.987448   1.000000  0.987448\n",
       "3         0         4   0.995657   1.000000  0.995657"
      ]
     },
     "execution_count": 10,
     "metadata": {},
     "output_type": "execute_result"
    }
   ],
   "source": [
    "split_rankings_df = (pd.DataFrame(min_stats, columns=['val_idx', 'test_idx', 'train_min', 'test_mean'])\n",
    " .assign(train_min = lambda df: df.train_min / df.train_min.max())\n",
    " .assign(test_mean = lambda df: df.test_mean / df.test_mean.max())\n",
    " .assign(ranking = lambda df: df.test_mean * df.train_min)\n",
    " .sort_values('ranking'))\n",
    "split_rankings_df"
   ]
  },
  {
   "cell_type": "code",
   "execution_count": 11,
   "id": "88fb6ba0",
   "metadata": {
    "execution": {
     "iopub.execute_input": "2025-03-18T17:35:14.993868Z",
     "iopub.status.busy": "2025-03-18T17:35:14.993608Z",
     "iopub.status.idle": "2025-03-18T17:35:15.004268Z",
     "shell.execute_reply": "2025-03-18T17:35:15.003850Z"
    },
    "papermill": {
     "duration": 0.034935,
     "end_time": "2025-03-18T17:35:15.004931",
     "exception": false,
     "start_time": "2025-03-18T17:35:14.969996",
     "status": "completed"
    },
    "tags": []
   },
   "outputs": [],
   "source": [
    "best_split = split_rankings_df.loc[split_rankings_df['ranking'].idxmax()]\n",
    "all_idxs = np.arange(adata.obs.shape[0])\n",
    "val_idxs, test_idxs = left_out_splits[best_split.val_idx.astype(int)], left_out_splits[best_split.test_idx.astype(int)]\n",
    "train_idxs = np.delete(all_idxs, np.union1d(val_idxs, test_idxs))"
   ]
  },
  {
   "cell_type": "markdown",
   "id": "b8025caf",
   "metadata": {
    "papermill": {
     "duration": 0.010758,
     "end_time": "2025-03-18T17:35:15.027924",
     "exception": false,
     "start_time": "2025-03-18T17:35:15.017166",
     "status": "completed"
    },
    "tags": []
   },
   "source": [
    "### CHECK NUMBER OF CELLS PER SPLIT"
   ]
  },
  {
   "cell_type": "code",
   "execution_count": 12,
   "id": "5d8e05b5",
   "metadata": {
    "execution": {
     "iopub.execute_input": "2025-03-18T17:35:15.050424Z",
     "iopub.status.busy": "2025-03-18T17:35:15.050184Z",
     "iopub.status.idle": "2025-03-18T17:35:15.098640Z",
     "shell.execute_reply": "2025-03-18T17:35:15.098223Z"
    },
    "papermill": {
     "duration": 0.060748,
     "end_time": "2025-03-18T17:35:15.099396",
     "exception": false,
     "start_time": "2025-03-18T17:35:15.038648",
     "status": "completed"
    },
    "tags": []
   },
   "outputs": [],
   "source": [
    "cell_count_df = []\n",
    "cell_count_df.append(adata.obs.iloc[train_idxs].groupby(target_y, observed=False).size().to_frame(name='cell_count').reset_index().assign(split='train'))\n",
    "cell_count_df.append(adata.obs.iloc[val_idxs].groupby(target_y, observed=False).size().to_frame(name='cell_count').reset_index().assign(split='val'))\n",
    "cell_count_df.append(adata.obs.iloc[test_idxs].groupby(target_y, observed=False).size().to_frame(name='cell_count').reset_index().assign(split='test'))\n",
    "cell_count_df = pd.concat(cell_count_df).pivot(index=target_y, columns='split', values='cell_count')\n",
    "cell_plot_data = cell_count_df.div(cell_count_df.sum(axis=1), axis=0).reset_index().melt(id_vars=target_y)\n",
    "\n",
    "pat_count_df = []\n",
    "pat_count_df.append(adata.obs.iloc[train_idxs].groupby(target_y, observed=False).sampleID.nunique().to_frame(name='patient_count').reset_index().assign(split='train'))\n",
    "pat_count_df.append(adata.obs.iloc[val_idxs].groupby(target_y, observed=False).sampleID.nunique().to_frame(name='patient_count').reset_index().assign(split='val'))\n",
    "pat_count_df.append(adata.obs.iloc[test_idxs].groupby(target_y, observed=False).sampleID.nunique().to_frame(name='patient_count').reset_index().assign(split='test'))\n",
    "pd.concat(pat_count_df).pivot(index=target_y, columns='split', values='patient_count')\n",
    "pat_count_df = pd.concat(pat_count_df).pivot(index=target_y, columns='split', values='patient_count')\n",
    "pat_count_df = pat_count_df.div(pat_count_df.sum(axis=1), axis=0)\n",
    "pat_plot_data = pat_count_df.div(pat_count_df.sum(axis=1), axis=0).reset_index().melt(id_vars=target_y)\n",
    "\n",
    "train_pats = set(adata.obs.iloc[train_idxs].sampleID)\n",
    "test_pats = set(adata.obs.iloc[test_idxs].sampleID)\n",
    "val_pats = set(adata.obs.iloc[val_idxs].sampleID)"
   ]
  },
  {
   "cell_type": "code",
   "execution_count": 13,
   "id": "8797938c",
   "metadata": {
    "execution": {
     "iopub.execute_input": "2025-03-18T17:35:15.123371Z",
     "iopub.status.busy": "2025-03-18T17:35:15.122923Z",
     "iopub.status.idle": "2025-03-18T17:35:15.125663Z",
     "shell.execute_reply": "2025-03-18T17:35:15.125261Z"
    },
    "papermill": {
     "duration": 0.014997,
     "end_time": "2025-03-18T17:35:15.126321",
     "exception": false,
     "start_time": "2025-03-18T17:35:15.111324",
     "status": "completed"
    },
    "tags": []
   },
   "outputs": [],
   "source": [
    "assert val_pats.intersection(test_pats) != {}\n",
    "assert train_pats.intersection(test_pats) != {}\n",
    "assert train_pats.intersection(val_pats) != {}"
   ]
  },
  {
   "cell_type": "markdown",
   "id": "b97e59e7",
   "metadata": {
    "papermill": {
     "duration": 0.015909,
     "end_time": "2025-03-18T17:35:15.154466",
     "exception": false,
     "start_time": "2025-03-18T17:35:15.138557",
     "status": "completed"
    },
    "tags": []
   },
   "source": [
    "### PLOT PATIENT AND CELL DISTRIBUTION ACROSS TRAIN, TEST, AND VALIDATION SETS PER DISEASE\n",
    "### CHECK THAT THEY APPROXIMATE EXPECTATION"
   ]
  },
  {
   "cell_type": "code",
   "execution_count": 14,
   "id": "64c256a7",
   "metadata": {
    "execution": {
     "iopub.execute_input": "2025-03-18T17:35:15.177037Z",
     "iopub.status.busy": "2025-03-18T17:35:15.176835Z",
     "iopub.status.idle": "2025-03-18T17:35:16.508767Z",
     "shell.execute_reply": "2025-03-18T17:35:16.507412Z"
    },
    "papermill": {
     "duration": 1.345686,
     "end_time": "2025-03-18T17:35:16.511861",
     "exception": false,
     "start_time": "2025-03-18T17:35:15.166175",
     "status": "completed"
    },
    "tags": []
   },
   "outputs": [
    {
     "data": {
      "image/png": "[encoded data removed]",
      "text/plain": [
       "<Figure size 2000x600 with 2 Axes>"
      ]
     },
     "metadata": {},
     "output_type": "display_data"
    }
   ],
   "source": [
    "_, axs = plt.subplots(1, 2, figsize=(20, 6))\n",
    "sns.barplot(x=target_y, y='value', hue='split', data=cell_plot_data, ax=axs[0])\n",
    "axs[0].set_title('Cell distribution')\n",
    "axs[0].tick_params(axis='x', labelrotation=90)\n",
    "sns.barplot(x=target_y, y='value', hue='split', data=pat_plot_data, ax=axs[1])\n",
    "axs[1].set_title('Patients distribution')\n",
    "axs[1].tick_params(axis='x', labelrotation=90)\n",
    "\n",
    "os.makedirs(here(f\"03_downstream_analysis/08_gene_importance/results/targetY_{target_y}/01_split_plots/\"), exist_ok=True)\n",
    "\n",
    "plt.savefig(here(f'03_downstream_analysis/08_gene_importance/results/targetY_{target_y}/01_split_plots/{RUN_NAME}{CELL_TYPE}_split_quality.pdf'), bbox_inches='tight', dpi=300)"
   ]
  },
  {
   "cell_type": "code",
   "execution_count": 15,
   "id": "ff4c3945",
   "metadata": {
    "execution": {
     "iopub.execute_input": "2025-03-18T17:35:16.583124Z",
     "iopub.status.busy": "2025-03-18T17:35:16.578472Z",
     "iopub.status.idle": "2025-03-18T17:35:16.625257Z",
     "shell.execute_reply": "2025-03-18T17:35:16.621380Z"
    },
    "papermill": {
     "duration": 0.081708,
     "end_time": "2025-03-18T17:35:16.627535",
     "exception": false,
     "start_time": "2025-03-18T17:35:16.545827",
     "status": "completed"
    },
    "tags": []
   },
   "outputs": [],
   "source": [
    "os.makedirs(here(f\"03_downstream_analysis/08_gene_importance/results/targetY_{target_y}/02_preprocessing/\"), exist_ok=True)\n",
    "\n",
    "np.save(here(f\"03_downstream_analysis/08_gene_importance/results/targetY_{target_y}/02_preprocessing/{RUN_NAME}{CELL_TYPE}_train_idxs.npy\"), train_idxs)\n",
    "np.save(here(f\"03_downstream_analysis/08_gene_importance/results/targetY_{target_y}/02_preprocessing/{RUN_NAME}{CELL_TYPE}_val_idxs.npy\"), val_idxs)\n",
    "np.save(here(f\"03_downstream_analysis/08_gene_importance/results/targetY_{target_y}/02_preprocessing/{RUN_NAME}{CELL_TYPE}_test_idxs.npy\"), test_idxs)"
   ]
  },
  {
   "cell_type": "markdown",
   "id": "3a1b9b15",
   "metadata": {
    "papermill": {
     "duration": 0.025947,
     "end_time": "2025-03-18T17:35:16.671374",
     "exception": false,
     "start_time": "2025-03-18T17:35:16.645427",
     "status": "completed"
    },
    "tags": []
   },
   "source": [
    "### SUBSET DATASET INTO TRAIN/TEST/VAL SPLITS"
   ]
  },
  {
   "cell_type": "code",
   "execution_count": 16,
   "id": "2522283f",
   "metadata": {
    "execution": {
     "iopub.execute_input": "2025-03-18T17:35:16.710888Z",
     "iopub.status.busy": "2025-03-18T17:35:16.710484Z",
     "iopub.status.idle": "2025-03-18T17:35:18.868450Z",
     "shell.execute_reply": "2025-03-18T17:35:18.867878Z"
    },
    "papermill": {
     "duration": 2.184678,
     "end_time": "2025-03-18T17:35:18.869696",
     "exception": false,
     "start_time": "2025-03-18T17:35:16.685018",
     "status": "completed"
    },
    "tags": []
   },
   "outputs": [
    {
     "data": {
      "text/plain": [
       "((10475, 935), (3148, 935), (3231, 935))"
      ]
     },
     "execution_count": 16,
     "metadata": {},
     "output_type": "execute_result"
    }
   ],
   "source": [
    "X_train = adata.X[train_idxs]\n",
    "X_test = adata.X[test_idxs]\n",
    "X_val = adata.X[val_idxs]\n",
    "X_train.shape, X_test.shape, X_val.shape"
   ]
  },
  {
   "cell_type": "code",
   "execution_count": 17,
   "id": "451c5501",
   "metadata": {
    "execution": {
     "iopub.execute_input": "2025-03-18T17:35:18.938558Z",
     "iopub.status.busy": "2025-03-18T17:35:18.938152Z",
     "iopub.status.idle": "2025-03-18T17:35:18.952108Z",
     "shell.execute_reply": "2025-03-18T17:35:18.947334Z"
    },
    "papermill": {
     "duration": 0.040372,
     "end_time": "2025-03-18T17:35:18.954659",
     "exception": false,
     "start_time": "2025-03-18T17:35:18.914287",
     "status": "completed"
    },
    "tags": []
   },
   "outputs": [
    {
     "data": {
      "text/plain": [
       "((10475,), (3148,), (3231,))"
      ]
     },
     "execution_count": 17,
     "metadata": {},
     "output_type": "execute_result"
    }
   ],
   "source": [
    "y_train = adata.obs.iloc[train_idxs][target_y].values.astype(str)\n",
    "y_test = adata.obs.iloc[test_idxs][target_y].values.astype(str)\n",
    "y_val = adata.obs.iloc[val_idxs][target_y].values.astype(str)\n",
    "y_train.shape, y_test.shape, y_val.shape "
   ]
  },
  {
   "cell_type": "code",
   "execution_count": 18,
   "id": "04094946",
   "metadata": {
    "execution": {
     "iopub.execute_input": "2025-03-18T17:35:18.981624Z",
     "iopub.status.busy": "2025-03-18T17:35:18.981299Z",
     "iopub.status.idle": "2025-03-18T17:35:18.992370Z",
     "shell.execute_reply": "2025-03-18T17:35:18.991359Z"
    },
    "papermill": {
     "duration": 0.025657,
     "end_time": "2025-03-18T17:35:18.994764",
     "exception": false,
     "start_time": "2025-03-18T17:35:18.969107",
     "status": "completed"
    },
    "tags": []
   },
   "outputs": [],
   "source": [
    "lenc = LabelEncoder()\n",
    "y_train_enc = lenc.fit_transform(y_train)\n",
    "y_val_enc = lenc.transform(y_val)\n",
    "y_test_enc = lenc.transform(y_test)"
   ]
  },
  {
   "cell_type": "markdown",
   "id": "3e678b18",
   "metadata": {
    "papermill": {
     "duration": 0.022281,
     "end_time": "2025-03-18T17:35:19.034082",
     "exception": false,
     "start_time": "2025-03-18T17:35:19.011801",
     "status": "completed"
    },
    "tags": []
   },
   "source": [
    "### GENERATE F1 "
   ]
  },
  {
   "cell_type": "code",
   "execution_count": 19,
   "id": "e8d63e7e",
   "metadata": {
    "execution": {
     "iopub.execute_input": "2025-03-18T17:35:19.100768Z",
     "iopub.status.busy": "2025-03-18T17:35:19.095563Z",
     "iopub.status.idle": "2025-03-18T17:35:19.106675Z",
     "shell.execute_reply": "2025-03-18T17:35:19.104161Z"
    },
    "papermill": {
     "duration": 0.049859,
     "end_time": "2025-03-18T17:35:19.107675",
     "exception": false,
     "start_time": "2025-03-18T17:35:19.057816",
     "status": "completed"
    },
    "tags": []
   },
   "outputs": [],
   "source": [
    "def custom_f1_score(y_true, y_pred):\n",
    "    return -f1_score(y_true, y_pred.argmax(1), average='weighted')"
   ]
  },
  {
   "cell_type": "code",
   "execution_count": 20,
   "id": "5dbeaafc",
   "metadata": {
    "execution": {
     "iopub.execute_input": "2025-03-18T17:35:19.192645Z",
     "iopub.status.busy": "2025-03-18T17:35:19.192129Z",
     "iopub.status.idle": "2025-03-18T17:35:19.208056Z",
     "shell.execute_reply": "2025-03-18T17:35:19.200346Z"
    },
    "papermill": {
     "duration": 0.067348,
     "end_time": "2025-03-18T17:35:19.215309",
     "exception": false,
     "start_time": "2025-03-18T17:35:19.147961",
     "status": "completed"
    },
    "tags": []
   },
   "outputs": [],
   "source": [
    "eval_metric=custom_f1_score\n",
    "eval_metric_name='custom_f1_score'\n",
    "\n",
    "def objective(trial):\n",
    "    params = {\n",
    "        'sampling_method': 'gradient_based',\n",
    "        'n_estimators': 1500,\n",
    "        'max_depth': trial.suggest_int('max_depth', 3, 20),\n",
    "        'min_child_weight': trial.suggest_int('min_child_weight', 1, 250),\n",
    "        'subsample': trial.suggest_float('subsample', 0.1, 1.0),\n",
    "        'colsample_bynode': trial.suggest_float('colsample_bynode', 0.1, 1.0),\n",
    "        'learning_rate': trial.suggest_float('learning_rate', 1e-3, 5e-1, log=True),\n",
    "    }\n",
    "    pruning_callback = optuna.integration.XGBoostPruningCallback(trial, f'validation_0-{eval_metric_name}')\n",
    "    xgb = xgboost.XGBClassifier(\n",
    "        device='gpu',\n",
    "        eval_metric=eval_metric,\n",
    "        early_stopping_rounds=20,\n",
    "        callbacks=[pruning_callback],\n",
    "        **params\n",
    "    )\n",
    "    xgb.fit(\n",
    "        X_train, \n",
    "        y_train_enc, \n",
    "        verbose=0,\n",
    "        eval_set=[(X_val, y_val_enc)],\n",
    "    )\n",
    "    trial.set_user_attr('best_iteration', xgb.best_iteration)\n",
    "\n",
    "    return xgb.best_score"
   ]
  },
  {
   "cell_type": "code",
   "execution_count": 21,
   "id": "0effed92",
   "metadata": {
    "execution": {
     "iopub.execute_input": "2025-03-18T17:35:19.280496Z",
     "iopub.status.busy": "2025-03-18T17:35:19.276670Z",
     "iopub.status.idle": "2025-03-18T17:38:00.289934Z",
     "shell.execute_reply": "2025-03-18T17:38:00.289282Z"
    },
    "papermill": {
     "duration": 161.057863,
     "end_time": "2025-03-18T17:38:00.291683",
     "exception": false,
     "start_time": "2025-03-18T17:35:19.233820",
     "status": "completed"
    },
    "tags": []
   },
   "outputs": [
    {
     "name": "stderr",
     "output_type": "stream",
     "text": [
      "[I 2025-03-18 17:35:19,282] A new study created in memory with name: no-name-7c61e040-c26e-49b3-a090-e4b51b6b910c\n"
     ]
    },
    {
     "name": "stderr",
     "output_type": "stream",
     "text": [
      "/tmp/ipykernel_1729967/350114600.py:4: ExperimentalWarning: WeightsAndBiasesCallback is experimental (supported from v2.9.0). The interface can change in the future.\n",
      "  wandbc = optuna.integration.WeightsAndBiasesCallback(wandb_kwargs=wandb_kwargs)\n",
      "\u001b[34m\u001b[1mwandb\u001b[0m: Using wandb-core as the SDK backend.  Please refer to https://wandb.me/wandb-core for more information.\n"
     ]
    },
    {
     "name": "stderr",
     "output_type": "stream",
     "text": [
      "\u001b[34m\u001b[1mwandb\u001b[0m: Currently logged in as: \u001b[33mdav1989\u001b[0m (\u001b[33minflammation\u001b[0m) to \u001b[32mhttps://api.wandb.ai\u001b[0m. Use \u001b[1m`wandb login --relogin`\u001b[0m to force relogin\n"
     ]
    },
    {
     "name": "stderr",
     "output_type": "stream",
     "text": [
      "\u001b[34m\u001b[1mwandb\u001b[0m: Tracking run with wandb version 0.19.8\n"
     ]
    },
    {
     "name": "stderr",
     "output_type": "stream",
     "text": [
      "\u001b[34m\u001b[1mwandb\u001b[0m: Run data is saved locally in \u001b[35m\u001b[1m/scratch_isilon/groups/singlecell/shared/projects/Inflammation-PBMCs-Atlas/03_downstream_analysis/08_gene_importance/wandb/run-20250318_173522-4pszdt5y\u001b[0m\n",
      "\u001b[34m\u001b[1mwandb\u001b[0m: Run \u001b[1m`wandb offline`\u001b[0m to turn off syncing.\n"
     ]
    },
    {
     "name": "stderr",
     "output_type": "stream",
     "text": [
      "\u001b[34m\u001b[1mwandb\u001b[0m: Syncing run \u001b[33mstudyID_Plasma\u001b[0m\n"
     ]
    },
    {
     "name": "stderr",
     "output_type": "stream",
     "text": [
      "\u001b[34m\u001b[1mwandb\u001b[0m: ⭐️ View project at \u001b[34m\u001b[4mhttps://wandb.ai/inflammation/xgboost\u001b[0m\n"
     ]
    },
    {
     "name": "stderr",
     "output_type": "stream",
     "text": [
      "\u001b[34m\u001b[1mwandb\u001b[0m: 🚀 View run at \u001b[34m\u001b[4mhttps://wandb.ai/inflammation/xgboost/runs/4pszdt5y\u001b[0m\n"
     ]
    },
    {
     "name": "stderr",
     "output_type": "stream",
     "text": [
      "[I 2025-03-18 17:35:30,093] Trial 0 finished with value: -0.801242 and parameters: {'max_depth': 9, 'min_child_weight': 238, 'subsample': 0.7587945476302645, 'colsample_bynode': 0.6387926357773329, 'learning_rate': 0.0026368755339723046}. Best is trial 0 with value: -0.801242.\n"
     ]
    },
    {
     "name": "stderr",
     "output_type": "stream",
     "text": [
      "[I 2025-03-18 17:35:38,700] Trial 1 finished with value: -0.986014 and parameters: {'max_depth': 5, 'min_child_weight': 15, 'subsample': 0.8795585311974417, 'colsample_bynode': 0.6410035105688879, 'learning_rate': 0.08148293210105287}. Best is trial 1 with value: -0.986014.\n"
     ]
    },
    {
     "name": "stderr",
     "output_type": "stream",
     "text": [
      "[I 2025-03-18 17:35:40,289] Trial 2 finished with value: -0.748603 and parameters: {'max_depth': 3, 'min_child_weight': 243, 'subsample': 0.8491983767203796, 'colsample_bynode': 0.29110519961044856, 'learning_rate': 0.003095566460242371}. Best is trial 1 with value: -0.986014.\n"
     ]
    },
    {
     "name": "stderr",
     "output_type": "stream",
     "text": [
      "[I 2025-03-18 17:36:03,779] Trial 3 finished with value: -0.933647 and parameters: {'max_depth': 6, 'min_child_weight': 77, 'subsample': 0.5722807884690141, 'colsample_bynode': 0.48875051677790415, 'learning_rate': 0.006109683510122491}. Best is trial 1 with value: -0.986014.\n"
     ]
    },
    {
     "name": "stderr",
     "output_type": "stream",
     "text": [
      "[I 2025-03-18 17:36:22,343] Trial 4 finished with value: -0.971124 and parameters: {'max_depth': 14, 'min_child_weight': 35, 'subsample': 0.3629301836816964, 'colsample_bynode': 0.4297256589643226, 'learning_rate': 0.01701841881702917}. Best is trial 1 with value: -0.986014.\n"
     ]
    },
    {
     "name": "stderr",
     "output_type": "stream",
     "text": [
      "[I 2025-03-18 17:36:23,074] Trial 5 pruned. Trial was pruned at iteration 3.\n"
     ]
    },
    {
     "name": "stderr",
     "output_type": "stream",
     "text": [
      "[I 2025-03-18 17:36:27,715] Trial 6 finished with value: -0.965144 and parameters: {'max_depth': 13, 'min_child_weight': 43, 'subsample': 0.1585464336867516, 'colsample_bynode': 0.9539969835279999, 'learning_rate': 0.4038423798071558}. Best is trial 1 with value: -0.986014.\n"
     ]
    },
    {
     "name": "stderr",
     "output_type": "stream",
     "text": [
      "[I 2025-03-18 17:36:28,694] Trial 7 pruned. Trial was pruned at iteration 0.\n"
     ]
    },
    {
     "name": "stderr",
     "output_type": "stream",
     "text": [
      "[I 2025-03-18 17:36:29,778] Trial 8 pruned. Trial was pruned at iteration 0.\n"
     ]
    },
    {
     "name": "stderr",
     "output_type": "stream",
     "text": [
      "[I 2025-03-18 17:36:30,375] Trial 9 pruned. Trial was pruned at iteration 0.\n"
     ]
    },
    {
     "name": "stderr",
     "output_type": "stream",
     "text": [
      "[I 2025-03-18 17:36:39,939] Trial 10 finished with value: -0.989727 and parameters: {'max_depth': 9, 'min_child_weight': 2, 'subsample': 0.9725833997090791, 'colsample_bynode': 0.11616568805333755, 'learning_rate': 0.17780618353487967}. Best is trial 10 with value: -0.989727.\n"
     ]
    },
    {
     "name": "stderr",
     "output_type": "stream",
     "text": [
      "[I 2025-03-18 17:36:48,720] Trial 11 finished with value: -0.987546 and parameters: {'max_depth': 9, 'min_child_weight': 4, 'subsample': 0.9818290990185045, 'colsample_bynode': 0.17702656156719, 'learning_rate': 0.11568531411766632}. Best is trial 10 with value: -0.989727.\n"
     ]
    },
    {
     "name": "stderr",
     "output_type": "stream",
     "text": [
      "[I 2025-03-18 17:36:54,992] Trial 12 finished with value: -0.987698 and parameters: {'max_depth': 9, 'min_child_weight': 2, 'subsample': 0.9762317723681219, 'colsample_bynode': 0.1303670507685675, 'learning_rate': 0.14353293664472047}. Best is trial 10 with value: -0.989727.\n"
     ]
    },
    {
     "name": "stderr",
     "output_type": "stream",
     "text": [
      "[I 2025-03-18 17:36:55,904] Trial 13 pruned. Trial was pruned at iteration 0.\n"
     ]
    },
    {
     "name": "stderr",
     "output_type": "stream",
     "text": [
      "[I 2025-03-18 17:36:56,996] Trial 14 pruned. Trial was pruned at iteration 0.\n"
     ]
    },
    {
     "name": "stderr",
     "output_type": "stream",
     "text": [
      "[I 2025-03-18 17:37:01,789] Trial 15 finished with value: -0.98469 and parameters: {'max_depth': 20, 'min_child_weight': 2, 'subsample': 0.7161698798894325, 'colsample_bynode': 0.31554979471905614, 'learning_rate': 0.1972373617578196}. Best is trial 10 with value: -0.989727.\n"
     ]
    },
    {
     "name": "stderr",
     "output_type": "stream",
     "text": [
      "[I 2025-03-18 17:37:02,759] Trial 16 pruned. Trial was pruned at iteration 0.\n"
     ]
    },
    {
     "name": "stderr",
     "output_type": "stream",
     "text": [
      "[I 2025-03-18 17:37:03,844] Trial 17 pruned. Trial was pruned at iteration 0.\n"
     ]
    },
    {
     "name": "stderr",
     "output_type": "stream",
     "text": [
      "[I 2025-03-18 17:37:04,740] Trial 18 pruned. Trial was pruned at iteration 0.\n"
     ]
    },
    {
     "name": "stderr",
     "output_type": "stream",
     "text": [
      "[I 2025-03-18 17:37:05,327] Trial 19 pruned. Trial was pruned at iteration 0.\n"
     ]
    },
    {
     "name": "stderr",
     "output_type": "stream",
     "text": [
      "[I 2025-03-18 17:37:06,298] Trial 20 pruned. Trial was pruned at iteration 0.\n"
     ]
    },
    {
     "name": "stderr",
     "output_type": "stream",
     "text": [
      "[I 2025-03-18 17:37:15,389] Trial 21 finished with value: -0.99035 and parameters: {'max_depth': 9, 'min_child_weight': 1, 'subsample': 0.9774164828325145, 'colsample_bynode': 0.19119727298237837, 'learning_rate': 0.1215402030808754}. Best is trial 21 with value: -0.99035.\n"
     ]
    },
    {
     "name": "stderr",
     "output_type": "stream",
     "text": [
      "[I 2025-03-18 17:37:16,207] Trial 22 pruned. Trial was pruned at iteration 0.\n"
     ]
    },
    {
     "name": "stderr",
     "output_type": "stream",
     "text": [
      "[I 2025-03-18 17:37:17,274] Trial 23 pruned. Trial was pruned at iteration 0.\n"
     ]
    },
    {
     "name": "stderr",
     "output_type": "stream",
     "text": [
      "[I 2025-03-18 17:37:25,270] Trial 24 finished with value: -0.990631 and parameters: {'max_depth': 10, 'min_child_weight': 4, 'subsample': 0.9371340199057098, 'colsample_bynode': 0.3570727728603251, 'learning_rate': 0.11462176450007101}. Best is trial 24 with value: -0.990631.\n"
     ]
    },
    {
     "name": "stderr",
     "output_type": "stream",
     "text": [
      "[I 2025-03-18 17:37:25,848] Trial 25 pruned. Trial was pruned at iteration 0.\n"
     ]
    },
    {
     "name": "stderr",
     "output_type": "stream",
     "text": [
      "[I 2025-03-18 17:37:26,717] Trial 26 pruned. Trial was pruned at iteration 0.\n"
     ]
    },
    {
     "name": "stderr",
     "output_type": "stream",
     "text": [
      "[I 2025-03-18 17:37:27,768] Trial 27 pruned. Trial was pruned at iteration 0.\n"
     ]
    },
    {
     "name": "stderr",
     "output_type": "stream",
     "text": [
      "[I 2025-03-18 17:37:28,833] Trial 28 pruned. Trial was pruned at iteration 0.\n"
     ]
    },
    {
     "name": "stderr",
     "output_type": "stream",
     "text": [
      "[I 2025-03-18 17:37:29,505] Trial 29 pruned. Trial was pruned at iteration 0.\n"
     ]
    },
    {
     "name": "stderr",
     "output_type": "stream",
     "text": [
      "[I 2025-03-18 17:37:30,316] Trial 30 pruned. Trial was pruned at iteration 0.\n"
     ]
    },
    {
     "name": "stderr",
     "output_type": "stream",
     "text": [
      "[I 2025-03-18 17:37:37,608] Trial 31 finished with value: -0.989586 and parameters: {'max_depth': 9, 'min_child_weight': 3, 'subsample': 0.9966476301986823, 'colsample_bynode': 0.15535588853847576, 'learning_rate': 0.12230555735386052}. Best is trial 24 with value: -0.990631.\n"
     ]
    },
    {
     "name": "stderr",
     "output_type": "stream",
     "text": [
      "[I 2025-03-18 17:37:38,587] Trial 32 pruned. Trial was pruned at iteration 0.\n"
     ]
    },
    {
     "name": "stderr",
     "output_type": "stream",
     "text": [
      "[I 2025-03-18 17:37:39,614] Trial 33 pruned. Trial was pruned at iteration 0.\n"
     ]
    },
    {
     "name": "stderr",
     "output_type": "stream",
     "text": [
      "[I 2025-03-18 17:37:40,217] Trial 34 pruned. Trial was pruned at iteration 0.\n"
     ]
    },
    {
     "name": "stderr",
     "output_type": "stream",
     "text": [
      "[I 2025-03-18 17:37:44,102] Trial 35 finished with value: -0.986234 and parameters: {'max_depth': 6, 'min_child_weight': 2, 'subsample': 0.9994721446789168, 'colsample_bynode': 0.25104139007510584, 'learning_rate': 0.28339956427375135}. Best is trial 24 with value: -0.990631.\n"
     ]
    },
    {
     "name": "stderr",
     "output_type": "stream",
     "text": [
      "[I 2025-03-18 17:37:45,247] Trial 36 pruned. Trial was pruned at iteration 0.\n"
     ]
    },
    {
     "name": "stderr",
     "output_type": "stream",
     "text": [
      "[I 2025-03-18 17:37:46,256] Trial 37 pruned. Trial was pruned at iteration 0.\n"
     ]
    },
    {
     "name": "stderr",
     "output_type": "stream",
     "text": [
      "[I 2025-03-18 17:37:47,242] Trial 38 pruned. Trial was pruned at iteration 0.\n"
     ]
    },
    {
     "name": "stderr",
     "output_type": "stream",
     "text": [
      "[I 2025-03-18 17:37:47,902] Trial 39 pruned. Trial was pruned at iteration 0.\n"
     ]
    },
    {
     "name": "stderr",
     "output_type": "stream",
     "text": [
      "[I 2025-03-18 17:37:48,476] Trial 40 pruned. Trial was pruned at iteration 0.\n"
     ]
    },
    {
     "name": "stderr",
     "output_type": "stream",
     "text": [
      "[I 2025-03-18 17:37:49,599] Trial 41 pruned. Trial was pruned at iteration 0.\n"
     ]
    },
    {
     "name": "stderr",
     "output_type": "stream",
     "text": [
      "[I 2025-03-18 17:37:50,784] Trial 42 pruned. Trial was pruned at iteration 0.\n"
     ]
    },
    {
     "name": "stderr",
     "output_type": "stream",
     "text": [
      "[I 2025-03-18 17:37:51,878] Trial 43 pruned. Trial was pruned at iteration 0.\n"
     ]
    },
    {
     "name": "stderr",
     "output_type": "stream",
     "text": [
      "[I 2025-03-18 17:37:52,489] Trial 44 pruned. Trial was pruned at iteration 0.\n"
     ]
    },
    {
     "name": "stderr",
     "output_type": "stream",
     "text": [
      "[I 2025-03-18 17:37:56,319] Trial 45 pruned. Trial was pruned at iteration 24.\n"
     ]
    },
    {
     "name": "stderr",
     "output_type": "stream",
     "text": [
      "[I 2025-03-18 17:37:57,451] Trial 46 pruned. Trial was pruned at iteration 0.\n"
     ]
    },
    {
     "name": "stderr",
     "output_type": "stream",
     "text": [
      "[I 2025-03-18 17:37:58,325] Trial 47 pruned. Trial was pruned at iteration 0.\n"
     ]
    },
    {
     "name": "stderr",
     "output_type": "stream",
     "text": [
      "[I 2025-03-18 17:37:59,448] Trial 48 pruned. Trial was pruned at iteration 0.\n"
     ]
    },
    {
     "name": "stderr",
     "output_type": "stream",
     "text": [
      "[I 2025-03-18 17:38:00,132] Trial 49 pruned. Trial was pruned at iteration 0.\n"
     ]
    }
   ],
   "source": [
    "sampler = optuna.samplers.TPESampler(seed=42)\n",
    "study = optuna.create_study(direction='minimize', sampler=sampler)\n",
    "wandb_kwargs = {\"project\": \"xgboost\", \"name\": f\"{RUN_NAME}{CELL_TYPE}\"}\n",
    "wandbc = optuna.integration.WeightsAndBiasesCallback(wandb_kwargs=wandb_kwargs)\n",
    "study.optimize(objective, n_trials=N_TRIALS, callbacks=[wandbc], gc_after_trial=True)"
   ]
  },
  {
   "cell_type": "code",
   "execution_count": 22,
   "id": "7e4a0d7f",
   "metadata": {
    "execution": {
     "iopub.execute_input": "2025-03-18T17:38:00.377080Z",
     "iopub.status.busy": "2025-03-18T17:38:00.376225Z",
     "iopub.status.idle": "2025-03-18T17:38:00.423847Z",
     "shell.execute_reply": "2025-03-18T17:38:00.422910Z"
    },
    "papermill": {
     "duration": 0.091839,
     "end_time": "2025-03-18T17:38:00.424951",
     "exception": false,
     "start_time": "2025-03-18T17:38:00.333112",
     "status": "completed"
    },
    "tags": []
   },
   "outputs": [
    {
     "data": {
      "text/plain": [
       "['/scratch_isilon/groups/singlecell/shared/projects/Inflammation-PBMCs-Atlas/03_downstream_analysis/08_gene_importance/results/targetY_studyID/03_xgboost/study/studyID_Plasma_xgboost.pkl']"
      ]
     },
     "execution_count": 22,
     "metadata": {},
     "output_type": "execute_result"
    }
   ],
   "source": [
    "os.makedirs(here(f\"03_downstream_analysis/08_gene_importance/results/targetY_{target_y}/03_xgboost/study/\"), exist_ok=True)\n",
    "\n",
    "joblib.dump(study, here(f'03_downstream_analysis/08_gene_importance/results/targetY_{target_y}/03_xgboost/study/{RUN_NAME}{CELL_TYPE}_xgboost.pkl'))"
   ]
  },
  {
   "cell_type": "code",
   "execution_count": 23,
   "id": "3b1dd0dc",
   "metadata": {
    "execution": {
     "iopub.execute_input": "2025-03-18T17:38:00.479173Z",
     "iopub.status.busy": "2025-03-18T17:38:00.478219Z",
     "iopub.status.idle": "2025-03-18T17:38:04.059915Z",
     "shell.execute_reply": "2025-03-18T17:38:04.059217Z"
    },
    "papermill": {
     "duration": 3.610614,
     "end_time": "2025-03-18T17:38:04.061982",
     "exception": false,
     "start_time": "2025-03-18T17:38:00.451368",
     "status": "completed"
    },
    "tags": []
   },
   "outputs": [],
   "source": [
    "os.makedirs(here(f\"03_downstream_analysis/08_gene_importance/results/targetY_{target_y}/03_xgboost/parallel_coordinate/\"), exist_ok=True)\n",
    "\n",
    "fig = optuna.visualization.plot_parallel_coordinate(study)\n",
    "fig.write_image(here(f'03_downstream_analysis/08_gene_importance/results/targetY_{target_y}/03_xgboost/parallel_coordinate/{RUN_NAME}{CELL_TYPE}_pcoord.pdf'))"
   ]
  },
  {
   "cell_type": "code",
   "execution_count": 24,
   "id": "81f04add",
   "metadata": {
    "editable": true,
    "execution": {
     "iopub.execute_input": "2025-03-18T17:38:04.142715Z",
     "iopub.status.busy": "2025-03-18T17:38:04.142091Z",
     "iopub.status.idle": "2025-03-18T17:38:12.482195Z",
     "shell.execute_reply": "2025-03-18T17:38:12.481075Z"
    },
    "papermill": {
     "duration": 8.372352,
     "end_time": "2025-03-18T17:38:12.486782",
     "exception": false,
     "start_time": "2025-03-18T17:38:04.114430",
     "status": "completed"
    },
    "scrolled": true,
    "slideshow": {
     "slide_type": ""
    },
    "tags": []
   },
   "outputs": [
    {
     "name": "stdout",
     "output_type": "stream",
     "text": [
      "[0]\tvalidation_0-mlogloss:2.03324\tvalidation_0-custom_f1_score:-0.89349\n"
     ]
    },
    {
     "name": "stdout",
     "output_type": "stream",
     "text": [
      "[1]\tvalidation_0-mlogloss:1.69998\tvalidation_0-custom_f1_score:-0.91095\n"
     ]
    },
    {
     "name": "stdout",
     "output_type": "stream",
     "text": [
      "[2]\tvalidation_0-mlogloss:1.46676\tvalidation_0-custom_f1_score:-0.92227\n"
     ]
    },
    {
     "name": "stdout",
     "output_type": "stream",
     "text": [
      "[3]\tvalidation_0-mlogloss:1.28851\tvalidation_0-custom_f1_score:-0.92895\n"
     ]
    },
    {
     "name": "stdout",
     "output_type": "stream",
     "text": [
      "[4]\tvalidation_0-mlogloss:1.14385\tvalidation_0-custom_f1_score:-0.93359\n"
     ]
    },
    {
     "name": "stdout",
     "output_type": "stream",
     "text": [
      "[5]\tvalidation_0-mlogloss:1.02149\tvalidation_0-custom_f1_score:-0.93850\n"
     ]
    },
    {
     "name": "stdout",
     "output_type": "stream",
     "text": [
      "[6]\tvalidation_0-mlogloss:0.91955\tvalidation_0-custom_f1_score:-0.94399\n"
     ]
    },
    {
     "name": "stdout",
     "output_type": "stream",
     "text": [
      "[7]\tvalidation_0-mlogloss:0.83355\tvalidation_0-custom_f1_score:-0.94610\n"
     ]
    },
    {
     "name": "stdout",
     "output_type": "stream",
     "text": [
      "[8]\tvalidation_0-mlogloss:0.75636\tvalidation_0-custom_f1_score:-0.94866\n"
     ]
    },
    {
     "name": "stdout",
     "output_type": "stream",
     "text": [
      "[9]\tvalidation_0-mlogloss:0.68961\tvalidation_0-custom_f1_score:-0.94818\n"
     ]
    },
    {
     "name": "stdout",
     "output_type": "stream",
     "text": [
      "[10]\tvalidation_0-mlogloss:0.63013\tvalidation_0-custom_f1_score:-0.95241\n"
     ]
    },
    {
     "name": "stdout",
     "output_type": "stream",
     "text": [
      "[11]\tvalidation_0-mlogloss:0.57760\tvalidation_0-custom_f1_score:-0.95445\n"
     ]
    },
    {
     "name": "stdout",
     "output_type": "stream",
     "text": [
      "[12]\tvalidation_0-mlogloss:0.53076\tvalidation_0-custom_f1_score:-0.95542\n"
     ]
    },
    {
     "name": "stdout",
     "output_type": "stream",
     "text": [
      "[13]\tvalidation_0-mlogloss:0.49035\tvalidation_0-custom_f1_score:-0.95535\n"
     ]
    },
    {
     "name": "stdout",
     "output_type": "stream",
     "text": [
      "[14]\tvalidation_0-mlogloss:0.45212\tvalidation_0-custom_f1_score:-0.95634\n"
     ]
    },
    {
     "name": "stdout",
     "output_type": "stream",
     "text": [
      "[15]\tvalidation_0-mlogloss:0.41911\tvalidation_0-custom_f1_score:-0.95859\n"
     ]
    },
    {
     "name": "stdout",
     "output_type": "stream",
     "text": [
      "[16]\tvalidation_0-mlogloss:0.38926\tvalidation_0-custom_f1_score:-0.95831\n"
     ]
    },
    {
     "name": "stdout",
     "output_type": "stream",
     "text": [
      "[17]\tvalidation_0-mlogloss:0.36225\tvalidation_0-custom_f1_score:-0.95836\n"
     ]
    },
    {
     "name": "stdout",
     "output_type": "stream",
     "text": [
      "[18]\tvalidation_0-mlogloss:0.33804\tvalidation_0-custom_f1_score:-0.95871\n"
     ]
    },
    {
     "name": "stdout",
     "output_type": "stream",
     "text": [
      "[19]\tvalidation_0-mlogloss:0.31650\tvalidation_0-custom_f1_score:-0.95907\n"
     ]
    },
    {
     "name": "stdout",
     "output_type": "stream",
     "text": [
      "[20]\tvalidation_0-mlogloss:0.29723\tvalidation_0-custom_f1_score:-0.95981\n"
     ]
    },
    {
     "name": "stdout",
     "output_type": "stream",
     "text": [
      "[21]\tvalidation_0-mlogloss:0.28005\tvalidation_0-custom_f1_score:-0.95914\n"
     ]
    },
    {
     "name": "stdout",
     "output_type": "stream",
     "text": [
      "[22]\tvalidation_0-mlogloss:0.26402\tvalidation_0-custom_f1_score:-0.95964\n"
     ]
    },
    {
     "name": "stdout",
     "output_type": "stream",
     "text": [
      "[23]\tvalidation_0-mlogloss:0.24976\tvalidation_0-custom_f1_score:-0.96060\n"
     ]
    },
    {
     "name": "stdout",
     "output_type": "stream",
     "text": [
      "[24]\tvalidation_0-mlogloss:0.23645\tvalidation_0-custom_f1_score:-0.96194\n"
     ]
    },
    {
     "name": "stdout",
     "output_type": "stream",
     "text": [
      "[25]\tvalidation_0-mlogloss:0.22550\tvalidation_0-custom_f1_score:-0.96085\n"
     ]
    },
    {
     "name": "stdout",
     "output_type": "stream",
     "text": [
      "[26]\tvalidation_0-mlogloss:0.21504\tvalidation_0-custom_f1_score:-0.96250\n"
     ]
    },
    {
     "name": "stdout",
     "output_type": "stream",
     "text": [
      "[27]\tvalidation_0-mlogloss:0.20494\tvalidation_0-custom_f1_score:-0.96292\n"
     ]
    },
    {
     "name": "stdout",
     "output_type": "stream",
     "text": [
      "[28]\tvalidation_0-mlogloss:0.19569\tvalidation_0-custom_f1_score:-0.96324\n"
     ]
    },
    {
     "name": "stdout",
     "output_type": "stream",
     "text": [
      "[29]\tvalidation_0-mlogloss:0.18749\tvalidation_0-custom_f1_score:-0.96324\n"
     ]
    },
    {
     "name": "stdout",
     "output_type": "stream",
     "text": [
      "[30]\tvalidation_0-mlogloss:0.18055\tvalidation_0-custom_f1_score:-0.96356\n"
     ]
    },
    {
     "name": "stdout",
     "output_type": "stream",
     "text": [
      "[31]\tvalidation_0-mlogloss:0.17398\tvalidation_0-custom_f1_score:-0.96354\n"
     ]
    },
    {
     "name": "stdout",
     "output_type": "stream",
     "text": [
      "[32]\tvalidation_0-mlogloss:0.16818\tvalidation_0-custom_f1_score:-0.96311\n"
     ]
    },
    {
     "name": "stdout",
     "output_type": "stream",
     "text": [
      "[33]\tvalidation_0-mlogloss:0.16168\tvalidation_0-custom_f1_score:-0.96471\n"
     ]
    },
    {
     "name": "stdout",
     "output_type": "stream",
     "text": [
      "[34]\tvalidation_0-mlogloss:0.15671\tvalidation_0-custom_f1_score:-0.96503\n"
     ]
    },
    {
     "name": "stdout",
     "output_type": "stream",
     "text": [
      "[35]\tvalidation_0-mlogloss:0.15165\tvalidation_0-custom_f1_score:-0.96470\n"
     ]
    },
    {
     "name": "stdout",
     "output_type": "stream",
     "text": [
      "[36]\tvalidation_0-mlogloss:0.14729\tvalidation_0-custom_f1_score:-0.96487\n"
     ]
    },
    {
     "name": "stdout",
     "output_type": "stream",
     "text": [
      "[37]\tvalidation_0-mlogloss:0.14347\tvalidation_0-custom_f1_score:-0.96535\n"
     ]
    },
    {
     "name": "stdout",
     "output_type": "stream",
     "text": [
      "[38]\tvalidation_0-mlogloss:0.14000\tvalidation_0-custom_f1_score:-0.96469\n"
     ]
    },
    {
     "name": "stdout",
     "output_type": "stream",
     "text": [
      "[39]\tvalidation_0-mlogloss:0.13729\tvalidation_0-custom_f1_score:-0.96469\n"
     ]
    },
    {
     "name": "stdout",
     "output_type": "stream",
     "text": [
      "[40]\tvalidation_0-mlogloss:0.13469\tvalidation_0-custom_f1_score:-0.96503\n"
     ]
    },
    {
     "name": "stdout",
     "output_type": "stream",
     "text": [
      "[41]\tvalidation_0-mlogloss:0.13219\tvalidation_0-custom_f1_score:-0.96541\n"
     ]
    },
    {
     "name": "stdout",
     "output_type": "stream",
     "text": [
      "[42]\tvalidation_0-mlogloss:0.12938\tvalidation_0-custom_f1_score:-0.96574\n"
     ]
    },
    {
     "name": "stdout",
     "output_type": "stream",
     "text": [
      "[43]\tvalidation_0-mlogloss:0.12706\tvalidation_0-custom_f1_score:-0.96524\n"
     ]
    },
    {
     "name": "stdout",
     "output_type": "stream",
     "text": [
      "[44]\tvalidation_0-mlogloss:0.12472\tvalidation_0-custom_f1_score:-0.96524\n"
     ]
    },
    {
     "name": "stdout",
     "output_type": "stream",
     "text": [
      "[45]\tvalidation_0-mlogloss:0.12236\tvalidation_0-custom_f1_score:-0.96588\n"
     ]
    },
    {
     "name": "stdout",
     "output_type": "stream",
     "text": [
      "[46]\tvalidation_0-mlogloss:0.12021\tvalidation_0-custom_f1_score:-0.96679\n"
     ]
    },
    {
     "name": "stdout",
     "output_type": "stream",
     "text": [
      "[47]\tvalidation_0-mlogloss:0.11846\tvalidation_0-custom_f1_score:-0.96706\n"
     ]
    },
    {
     "name": "stdout",
     "output_type": "stream",
     "text": [
      "[48]\tvalidation_0-mlogloss:0.11752\tvalidation_0-custom_f1_score:-0.96789\n"
     ]
    },
    {
     "name": "stdout",
     "output_type": "stream",
     "text": [
      "[49]\tvalidation_0-mlogloss:0.11575\tvalidation_0-custom_f1_score:-0.96855\n"
     ]
    },
    {
     "name": "stdout",
     "output_type": "stream",
     "text": [
      "[50]\tvalidation_0-mlogloss:0.11507\tvalidation_0-custom_f1_score:-0.96693\n"
     ]
    },
    {
     "name": "stdout",
     "output_type": "stream",
     "text": [
      "[51]\tvalidation_0-mlogloss:0.11377\tvalidation_0-custom_f1_score:-0.96735\n"
     ]
    },
    {
     "name": "stdout",
     "output_type": "stream",
     "text": [
      "[52]\tvalidation_0-mlogloss:0.11229\tvalidation_0-custom_f1_score:-0.96843\n"
     ]
    },
    {
     "name": "stdout",
     "output_type": "stream",
     "text": [
      "[53]\tvalidation_0-mlogloss:0.11197\tvalidation_0-custom_f1_score:-0.96760\n"
     ]
    },
    {
     "name": "stdout",
     "output_type": "stream",
     "text": [
      "[54]\tvalidation_0-mlogloss:0.11085\tvalidation_0-custom_f1_score:-0.96734\n"
     ]
    },
    {
     "name": "stdout",
     "output_type": "stream",
     "text": [
      "[55]\tvalidation_0-mlogloss:0.11035\tvalidation_0-custom_f1_score:-0.96735\n"
     ]
    },
    {
     "name": "stdout",
     "output_type": "stream",
     "text": [
      "[56]\tvalidation_0-mlogloss:0.10982\tvalidation_0-custom_f1_score:-0.96693\n"
     ]
    },
    {
     "name": "stdout",
     "output_type": "stream",
     "text": [
      "[57]\tvalidation_0-mlogloss:0.10909\tvalidation_0-custom_f1_score:-0.96734\n"
     ]
    },
    {
     "name": "stdout",
     "output_type": "stream",
     "text": [
      "[58]\tvalidation_0-mlogloss:0.10850\tvalidation_0-custom_f1_score:-0.96728\n"
     ]
    },
    {
     "name": "stdout",
     "output_type": "stream",
     "text": [
      "[59]\tvalidation_0-mlogloss:0.10798\tvalidation_0-custom_f1_score:-0.96718\n"
     ]
    },
    {
     "name": "stdout",
     "output_type": "stream",
     "text": [
      "[60]\tvalidation_0-mlogloss:0.10756\tvalidation_0-custom_f1_score:-0.96718\n"
     ]
    },
    {
     "name": "stdout",
     "output_type": "stream",
     "text": [
      "[61]\tvalidation_0-mlogloss:0.10716\tvalidation_0-custom_f1_score:-0.96759\n"
     ]
    },
    {
     "name": "stdout",
     "output_type": "stream",
     "text": [
      "[62]\tvalidation_0-mlogloss:0.10626\tvalidation_0-custom_f1_score:-0.96759\n"
     ]
    },
    {
     "name": "stdout",
     "output_type": "stream",
     "text": [
      "[63]\tvalidation_0-mlogloss:0.10552\tvalidation_0-custom_f1_score:-0.96728\n"
     ]
    },
    {
     "name": "stdout",
     "output_type": "stream",
     "text": [
      "[64]\tvalidation_0-mlogloss:0.10454\tvalidation_0-custom_f1_score:-0.96728\n"
     ]
    },
    {
     "name": "stdout",
     "output_type": "stream",
     "text": [
      "[65]\tvalidation_0-mlogloss:0.10363\tvalidation_0-custom_f1_score:-0.96759\n"
     ]
    },
    {
     "name": "stdout",
     "output_type": "stream",
     "text": [
      "[66]\tvalidation_0-mlogloss:0.10265\tvalidation_0-custom_f1_score:-0.96759\n"
     ]
    },
    {
     "name": "stdout",
     "output_type": "stream",
     "text": [
      "[67]\tvalidation_0-mlogloss:0.10238\tvalidation_0-custom_f1_score:-0.96801\n"
     ]
    },
    {
     "name": "stdout",
     "output_type": "stream",
     "text": [
      "[68]\tvalidation_0-mlogloss:0.10150\tvalidation_0-custom_f1_score:-0.96801\n"
     ]
    },
    {
     "name": "stdout",
     "output_type": "stream",
     "text": [
      "[69]\tvalidation_0-mlogloss:0.10114\tvalidation_0-custom_f1_score:-0.96802\n"
     ]
    },
    {
     "name": "stdout",
     "output_type": "stream",
     "text": [
      "[70]\tvalidation_0-mlogloss:0.10031\tvalidation_0-custom_f1_score:-0.96802\n"
     ]
    },
    {
     "name": "stdout",
     "output_type": "stream",
     "text": [
      "[71]\tvalidation_0-mlogloss:0.10064\tvalidation_0-custom_f1_score:-0.96760\n"
     ]
    },
    {
     "name": "stdout",
     "output_type": "stream",
     "text": [
      "[72]\tvalidation_0-mlogloss:0.10096\tvalidation_0-custom_f1_score:-0.96729\n"
     ]
    },
    {
     "name": "stdout",
     "output_type": "stream",
     "text": [
      "[73]\tvalidation_0-mlogloss:0.10096\tvalidation_0-custom_f1_score:-0.96760\n"
     ]
    },
    {
     "name": "stdout",
     "output_type": "stream",
     "text": [
      "[74]\tvalidation_0-mlogloss:0.10099\tvalidation_0-custom_f1_score:-0.96760"
     ]
    },
    {
     "name": "stdout",
     "output_type": "stream",
     "text": [
      "\n"
     ]
    },
    {
     "name": "stdout",
     "output_type": "stream",
     "text": [
      "[75]\tvalidation_0-mlogloss:0.10136\tvalidation_0-custom_f1_score:-0.96760\n"
     ]
    },
    {
     "name": "stdout",
     "output_type": "stream",
     "text": [
      "[76]\tvalidation_0-mlogloss:0.10162\tvalidation_0-custom_f1_score:-0.96729\n"
     ]
    },
    {
     "name": "stdout",
     "output_type": "stream",
     "text": [
      "[77]\tvalidation_0-mlogloss:0.10196\tvalidation_0-custom_f1_score:-0.96729\n"
     ]
    },
    {
     "name": "stdout",
     "output_type": "stream",
     "text": [
      "[78]\tvalidation_0-mlogloss:0.10165\tvalidation_0-custom_f1_score:-0.96760\n"
     ]
    },
    {
     "name": "stdout",
     "output_type": "stream",
     "text": [
      "[79]\tvalidation_0-mlogloss:0.10143\tvalidation_0-custom_f1_score:-0.96760\n"
     ]
    },
    {
     "name": "stdout",
     "output_type": "stream",
     "text": [
      "[80]\tvalidation_0-mlogloss:0.10070\tvalidation_0-custom_f1_score:-0.96760\n"
     ]
    },
    {
     "name": "stdout",
     "output_type": "stream",
     "text": [
      "[81]\tvalidation_0-mlogloss:0.10105\tvalidation_0-custom_f1_score:-0.96760\n"
     ]
    },
    {
     "name": "stdout",
     "output_type": "stream",
     "text": [
      "[82]\tvalidation_0-mlogloss:0.10119\tvalidation_0-custom_f1_score:-0.96760\n"
     ]
    },
    {
     "name": "stdout",
     "output_type": "stream",
     "text": [
      "[83]\tvalidation_0-mlogloss:0.10155\tvalidation_0-custom_f1_score:-0.96760\n"
     ]
    },
    {
     "name": "stdout",
     "output_type": "stream",
     "text": [
      "[84]\tvalidation_0-mlogloss:0.10177\tvalidation_0-custom_f1_score:-0.96760\n"
     ]
    },
    {
     "name": "stdout",
     "output_type": "stream",
     "text": [
      "[85]\tvalidation_0-mlogloss:0.10212\tvalidation_0-custom_f1_score:-0.96760\n"
     ]
    },
    {
     "name": "stdout",
     "output_type": "stream",
     "text": [
      "[86]\tvalidation_0-mlogloss:0.10223\tvalidation_0-custom_f1_score:-0.96760\n"
     ]
    },
    {
     "name": "stdout",
     "output_type": "stream",
     "text": [
      "[87]\tvalidation_0-mlogloss:0.10213\tvalidation_0-custom_f1_score:-0.96793\n"
     ]
    },
    {
     "name": "stdout",
     "output_type": "stream",
     "text": [
      "[88]\tvalidation_0-mlogloss:0.10219\tvalidation_0-custom_f1_score:-0.96793\n"
     ]
    },
    {
     "name": "stdout",
     "output_type": "stream",
     "text": [
      "[89]\tvalidation_0-mlogloss:0.10233\tvalidation_0-custom_f1_score:-0.96793\n"
     ]
    },
    {
     "name": "stdout",
     "output_type": "stream",
     "text": [
      "[90]\tvalidation_0-mlogloss:0.10240\tvalidation_0-custom_f1_score:-0.96793\n"
     ]
    },
    {
     "name": "stdout",
     "output_type": "stream",
     "text": [
      "[91]\tvalidation_0-mlogloss:0.10224\tvalidation_0-custom_f1_score:-0.96793\n"
     ]
    },
    {
     "name": "stdout",
     "output_type": "stream",
     "text": [
      "[92]\tvalidation_0-mlogloss:0.10216\tvalidation_0-custom_f1_score:-0.96793\n"
     ]
    },
    {
     "name": "stdout",
     "output_type": "stream",
     "text": [
      "[93]\tvalidation_0-mlogloss:0.10194\tvalidation_0-custom_f1_score:-0.96793\n"
     ]
    },
    {
     "name": "stdout",
     "output_type": "stream",
     "text": [
      "[94]\tvalidation_0-mlogloss:0.10200\tvalidation_0-custom_f1_score:-0.96793\n"
     ]
    },
    {
     "name": "stdout",
     "output_type": "stream",
     "text": [
      "[95]\tvalidation_0-mlogloss:0.10186\tvalidation_0-custom_f1_score:-0.96793\n"
     ]
    },
    {
     "name": "stdout",
     "output_type": "stream",
     "text": [
      "[96]\tvalidation_0-mlogloss:0.10173\tvalidation_0-custom_f1_score:-0.96793\n"
     ]
    },
    {
     "name": "stdout",
     "output_type": "stream",
     "text": [
      "[97]\tvalidation_0-mlogloss:0.10160\tvalidation_0-custom_f1_score:-0.96793\n"
     ]
    },
    {
     "name": "stdout",
     "output_type": "stream",
     "text": [
      "[98]\tvalidation_0-mlogloss:0.10154\tvalidation_0-custom_f1_score:-0.96793\n"
     ]
    },
    {
     "name": "stdout",
     "output_type": "stream",
     "text": [
      "[99]\tvalidation_0-mlogloss:0.10153\tvalidation_0-custom_f1_score:-0.96793\n"
     ]
    },
    {
     "name": "stdout",
     "output_type": "stream",
     "text": [
      "[100]\tvalidation_0-mlogloss:0.10134\tvalidation_0-custom_f1_score:-0.96793\n"
     ]
    },
    {
     "name": "stdout",
     "output_type": "stream",
     "text": [
      "[101]\tvalidation_0-mlogloss:0.10114\tvalidation_0-custom_f1_score:-0.96793\n"
     ]
    },
    {
     "name": "stdout",
     "output_type": "stream",
     "text": [
      "[102]\tvalidation_0-mlogloss:0.10097\tvalidation_0-custom_f1_score:-0.96793\n"
     ]
    },
    {
     "name": "stdout",
     "output_type": "stream",
     "text": [
      "[103]\tvalidation_0-mlogloss:0.10111\tvalidation_0-custom_f1_score:-0.96794\n"
     ]
    },
    {
     "name": "stdout",
     "output_type": "stream",
     "text": [
      "[104]\tvalidation_0-mlogloss:0.10113\tvalidation_0-custom_f1_score:-0.96761\n"
     ]
    },
    {
     "name": "stdout",
     "output_type": "stream",
     "text": [
      "[105]\tvalidation_0-mlogloss:0.10092\tvalidation_0-custom_f1_score:-0.96761\n"
     ]
    },
    {
     "name": "stdout",
     "output_type": "stream",
     "text": [
      "[106]\tvalidation_0-mlogloss:0.10098\tvalidation_0-custom_f1_score:-0.96761\n"
     ]
    },
    {
     "name": "stdout",
     "output_type": "stream",
     "text": [
      "[107]\tvalidation_0-mlogloss:0.10084\tvalidation_0-custom_f1_score:-0.96794\n"
     ]
    },
    {
     "name": "stdout",
     "output_type": "stream",
     "text": [
      "[108]\tvalidation_0-mlogloss:0.10081\tvalidation_0-custom_f1_score:-0.96794\n"
     ]
    },
    {
     "name": "stdout",
     "output_type": "stream",
     "text": [
      "[109]\tvalidation_0-mlogloss:0.10067\tvalidation_0-custom_f1_score:-0.96794\n"
     ]
    },
    {
     "name": "stdout",
     "output_type": "stream",
     "text": [
      "[110]\tvalidation_0-mlogloss:0.10055\tvalidation_0-custom_f1_score:-0.96794\n"
     ]
    },
    {
     "name": "stdout",
     "output_type": "stream",
     "text": [
      "[111]\tvalidation_0-mlogloss:0.10058\tvalidation_0-custom_f1_score:-0.96794\n"
     ]
    },
    {
     "name": "stdout",
     "output_type": "stream",
     "text": [
      "[112]\tvalidation_0-mlogloss:0.10047\tvalidation_0-custom_f1_score:-0.96794\n"
     ]
    },
    {
     "name": "stdout",
     "output_type": "stream",
     "text": [
      "[113]\tvalidation_0-mlogloss:0.10042\tvalidation_0-custom_f1_score:-0.96794\n"
     ]
    },
    {
     "name": "stdout",
     "output_type": "stream",
     "text": [
      "[114]\tvalidation_0-mlogloss:0.10026\tvalidation_0-custom_f1_score:-0.96794\n"
     ]
    },
    {
     "name": "stdout",
     "output_type": "stream",
     "text": [
      "[115]\tvalidation_0-mlogloss:0.10014\tvalidation_0-custom_f1_score:-0.96794\n"
     ]
    },
    {
     "name": "stdout",
     "output_type": "stream",
     "text": [
      "[116]\tvalidation_0-mlogloss:0.10024\tvalidation_0-custom_f1_score:-0.96794\n"
     ]
    },
    {
     "name": "stdout",
     "output_type": "stream",
     "text": [
      "[117]\tvalidation_0-mlogloss:0.10016\tvalidation_0-custom_f1_score:-0.96794\n"
     ]
    },
    {
     "name": "stdout",
     "output_type": "stream",
     "text": [
      "[118]\tvalidation_0-mlogloss:0.10019\tvalidation_0-custom_f1_score:-0.96794\n"
     ]
    },
    {
     "name": "stdout",
     "output_type": "stream",
     "text": [
      "[119]\tvalidation_0-mlogloss:0.10012\tvalidation_0-custom_f1_score:-0.96794\n"
     ]
    },
    {
     "name": "stdout",
     "output_type": "stream",
     "text": [
      "[120]\tvalidation_0-mlogloss:0.10019\tvalidation_0-custom_f1_score:-0.96794\n"
     ]
    },
    {
     "name": "stdout",
     "output_type": "stream",
     "text": [
      "[121]\tvalidation_0-mlogloss:0.10022\tvalidation_0-custom_f1_score:-0.96794\n"
     ]
    },
    {
     "name": "stdout",
     "output_type": "stream",
     "text": [
      "[122]\tvalidation_0-mlogloss:0.10022\tvalidation_0-custom_f1_score:-0.96794\n"
     ]
    },
    {
     "name": "stdout",
     "output_type": "stream",
     "text": [
      "[123]\tvalidation_0-mlogloss:0.10000\tvalidation_0-custom_f1_score:-0.96794\n"
     ]
    },
    {
     "name": "stdout",
     "output_type": "stream",
     "text": [
      "[124]\tvalidation_0-mlogloss:0.09986\tvalidation_0-custom_f1_score:-0.96794"
     ]
    },
    {
     "name": "stdout",
     "output_type": "stream",
     "text": [
      "\n"
     ]
    },
    {
     "name": "stdout",
     "output_type": "stream",
     "text": [
      "[125]\tvalidation_0-mlogloss:0.09983\tvalidation_0-custom_f1_score:-0.96794\n"
     ]
    },
    {
     "name": "stdout",
     "output_type": "stream",
     "text": [
      "[126]\tvalidation_0-mlogloss:0.09960\tvalidation_0-custom_f1_score:-0.96794\n"
     ]
    },
    {
     "name": "stdout",
     "output_type": "stream",
     "text": [
      "[127]\tvalidation_0-mlogloss:0.09954\tvalidation_0-custom_f1_score:-0.96794\n"
     ]
    },
    {
     "name": "stdout",
     "output_type": "stream",
     "text": [
      "[128]\tvalidation_0-mlogloss:0.09940\tvalidation_0-custom_f1_score:-0.96794\n"
     ]
    },
    {
     "data": {
      "text/html": [
       "<style>#sk-container-id-1 {\n",
       "  /* Definition of color scheme common for light and dark mode */\n",
       "  --sklearn-color-text: black;\n",
       "  --sklearn-color-line: gray;\n",
       "  /* Definition of color scheme for unfitted estimators */\n",
       "  --sklearn-color-unfitted-level-0: #fff5e6;\n",
       "  --sklearn-color-unfitted-level-1: #f6e4d2;\n",
       "  --sklearn-color-unfitted-level-2: #ffe0b3;\n",
       "  --sklearn-color-unfitted-level-3: chocolate;\n",
       "  /* Definition of color scheme for fitted estimators */\n",
       "  --sklearn-color-fitted-level-0: #f0f8ff;\n",
       "  --sklearn-color-fitted-level-1: #d4ebff;\n",
       "  --sklearn-color-fitted-level-2: #b3dbfd;\n",
       "  --sklearn-color-fitted-level-3: cornflowerblue;\n",
       "\n",
       "  /* Specific color for light theme */\n",
       "  --sklearn-color-text-on-default-background: var(--sg-text-color, var(--theme-code-foreground, var(--jp-content-font-color1, black)));\n",
       "  --sklearn-color-background: var(--sg-background-color, var(--theme-background, var(--jp-layout-color0, white)));\n",
       "  --sklearn-color-border-box: var(--sg-text-color, var(--theme-code-foreground, var(--jp-content-font-color1, black)));\n",
       "  --sklearn-color-icon: #696969;\n",
       "\n",
       "  @media (prefers-color-scheme: dark) {\n",
       "    /* Redefinition of color scheme for dark theme */\n",
       "    --sklearn-color-text-on-default-background: var(--sg-text-color, var(--theme-code-foreground, var(--jp-content-font-color1, white)));\n",
       "    --sklearn-color-background: var(--sg-background-color, var(--theme-background, var(--jp-layout-color0, #111)));\n",
       "    --sklearn-color-border-box: var(--sg-text-color, var(--theme-code-foreground, var(--jp-content-font-color1, white)));\n",
       "    --sklearn-color-icon: #878787;\n",
       "  }\n",
       "}\n",
       "\n",
       "#sk-container-id-1 {\n",
       "  color: var(--sklearn-color-text);\n",
       "}\n",
       "\n",
       "#sk-container-id-1 pre {\n",
       "  padding: 0;\n",
       "}\n",
       "\n",
       "#sk-container-id-1 input.sk-hidden--visually {\n",
       "  border: 0;\n",
       "  clip: rect(1px 1px 1px 1px);\n",
       "  clip: rect(1px, 1px, 1px, 1px);\n",
       "  height: 1px;\n",
       "  margin: -1px;\n",
       "  overflow: hidden;\n",
       "  padding: 0;\n",
       "  position: absolute;\n",
       "  width: 1px;\n",
       "}\n",
       "\n",
       "#sk-container-id-1 div.sk-dashed-wrapped {\n",
       "  border: 1px dashed var(--sklearn-color-line);\n",
       "  margin: 0 0.4em 0.5em 0.4em;\n",
       "  box-sizing: border-box;\n",
       "  padding-bottom: 0.4em;\n",
       "  background-color: var(--sklearn-color-background);\n",
       "}\n",
       "\n",
       "#sk-container-id-1 div.sk-container {\n",
       "  /* jupyter's `normalize.less` sets `[hidden] { display: none; }`\n",
       "     but bootstrap.min.css set `[hidden] { display: none !important; }`\n",
       "     so we also need the `!important` here to be able to override the\n",
       "     default hidden behavior on the sphinx rendered scikit-learn.org.\n",
       "     See: https://github.com/scikit-learn/scikit-learn/issues/21755 */\n",
       "  display: inline-block !important;\n",
       "  position: relative;\n",
       "}\n",
       "\n",
       "#sk-container-id-1 div.sk-text-repr-fallback {\n",
       "  display: none;\n",
       "}\n",
       "\n",
       "div.sk-parallel-item,\n",
       "div.sk-serial,\n",
       "div.sk-item {\n",
       "  /* draw centered vertical line to link estimators */\n",
       "  background-image: linear-gradient(var(--sklearn-color-text-on-default-background), var(--sklearn-color-text-on-default-background));\n",
       "  background-size: 2px 100%;\n",
       "  background-repeat: no-repeat;\n",
       "  background-position: center center;\n",
       "}\n",
       "\n",
       "/* Parallel-specific style estimator block */\n",
       "\n",
       "#sk-container-id-1 div.sk-parallel-item::after {\n",
       "  content: \"\";\n",
       "  width: 100%;\n",
       "  border-bottom: 2px solid var(--sklearn-color-text-on-default-background);\n",
       "  flex-grow: 1;\n",
       "}\n",
       "\n",
       "#sk-container-id-1 div.sk-parallel {\n",
       "  display: flex;\n",
       "  align-items: stretch;\n",
       "  justify-content: center;\n",
       "  background-color: var(--sklearn-color-background);\n",
       "  position: relative;\n",
       "}\n",
       "\n",
       "#sk-container-id-1 div.sk-parallel-item {\n",
       "  display: flex;\n",
       "  flex-direction: column;\n",
       "}\n",
       "\n",
       "#sk-container-id-1 div.sk-parallel-item:first-child::after {\n",
       "  align-self: flex-end;\n",
       "  width: 50%;\n",
       "}\n",
       "\n",
       "#sk-container-id-1 div.sk-parallel-item:last-child::after {\n",
       "  align-self: flex-start;\n",
       "  width: 50%;\n",
       "}\n",
       "\n",
       "#sk-container-id-1 div.sk-parallel-item:only-child::after {\n",
       "  width: 0;\n",
       "}\n",
       "\n",
       "/* Serial-specific style estimator block */\n",
       "\n",
       "#sk-container-id-1 div.sk-serial {\n",
       "  display: flex;\n",
       "  flex-direction: column;\n",
       "  align-items: center;\n",
       "  background-color: var(--sklearn-color-background);\n",
       "  padding-right: 1em;\n",
       "  padding-left: 1em;\n",
       "}\n",
       "\n",
       "\n",
       "/* Toggleable style: style used for estimator/Pipeline/ColumnTransformer box that is\n",
       "clickable and can be expanded/collapsed.\n",
       "- Pipeline and ColumnTransformer use this feature and define the default style\n",
       "- Estimators will overwrite some part of the style using the `sk-estimator` class\n",
       "*/\n",
       "\n",
       "/* Pipeline and ColumnTransformer style (default) */\n",
       "\n",
       "#sk-container-id-1 div.sk-toggleable {\n",
       "  /* Default theme specific background. It is overwritten whether we have a\n",
       "  specific estimator or a Pipeline/ColumnTransformer */\n",
       "  background-color: var(--sklearn-color-background);\n",
       "}\n",
       "\n",
       "/* Toggleable label */\n",
       "#sk-container-id-1 label.sk-toggleable__label {\n",
       "  cursor: pointer;\n",
       "  display: block;\n",
       "  width: 100%;\n",
       "  margin-bottom: 0;\n",
       "  padding: 0.5em;\n",
       "  box-sizing: border-box;\n",
       "  text-align: center;\n",
       "}\n",
       "\n",
       "#sk-container-id-1 label.sk-toggleable__label-arrow:before {\n",
       "  /* Arrow on the left of the label */\n",
       "  content: \"▸\";\n",
       "  float: left;\n",
       "  margin-right: 0.25em;\n",
       "  color: var(--sklearn-color-icon);\n",
       "}\n",
       "\n",
       "#sk-container-id-1 label.sk-toggleable__label-arrow:hover:before {\n",
       "  color: var(--sklearn-color-text);\n",
       "}\n",
       "\n",
       "/* Toggleable content - dropdown */\n",
       "\n",
       "#sk-container-id-1 div.sk-toggleable__content {\n",
       "  max-height: 0;\n",
       "  max-width: 0;\n",
       "  overflow: hidden;\n",
       "  text-align: left;\n",
       "  /* unfitted */\n",
       "  background-color: var(--sklearn-color-unfitted-level-0);\n",
       "}\n",
       "\n",
       "#sk-container-id-1 div.sk-toggleable__content.fitted {\n",
       "  /* fitted */\n",
       "  background-color: var(--sklearn-color-fitted-level-0);\n",
       "}\n",
       "\n",
       "#sk-container-id-1 div.sk-toggleable__content pre {\n",
       "  margin: 0.2em;\n",
       "  border-radius: 0.25em;\n",
       "  color: var(--sklearn-color-text);\n",
       "  /* unfitted */\n",
       "  background-color: var(--sklearn-color-unfitted-level-0);\n",
       "}\n",
       "\n",
       "#sk-container-id-1 div.sk-toggleable__content.fitted pre {\n",
       "  /* unfitted */\n",
       "  background-color: var(--sklearn-color-fitted-level-0);\n",
       "}\n",
       "\n",
       "#sk-container-id-1 input.sk-toggleable__control:checked~div.sk-toggleable__content {\n",
       "  /* Expand drop-down */\n",
       "  max-height: 200px;\n",
       "  max-width: 100%;\n",
       "  overflow: auto;\n",
       "}\n",
       "\n",
       "#sk-container-id-1 input.sk-toggleable__control:checked~label.sk-toggleable__label-arrow:before {\n",
       "  content: \"▾\";\n",
       "}\n",
       "\n",
       "/* Pipeline/ColumnTransformer-specific style */\n",
       "\n",
       "#sk-container-id-1 div.sk-label input.sk-toggleable__control:checked~label.sk-toggleable__label {\n",
       "  color: var(--sklearn-color-text);\n",
       "  background-color: var(--sklearn-color-unfitted-level-2);\n",
       "}\n",
       "\n",
       "#sk-container-id-1 div.sk-label.fitted input.sk-toggleable__control:checked~label.sk-toggleable__label {\n",
       "  background-color: var(--sklearn-color-fitted-level-2);\n",
       "}\n",
       "\n",
       "/* Estimator-specific style */\n",
       "\n",
       "/* Colorize estimator box */\n",
       "#sk-container-id-1 div.sk-estimator input.sk-toggleable__control:checked~label.sk-toggleable__label {\n",
       "  /* unfitted */\n",
       "  background-color: var(--sklearn-color-unfitted-level-2);\n",
       "}\n",
       "\n",
       "#sk-container-id-1 div.sk-estimator.fitted input.sk-toggleable__control:checked~label.sk-toggleable__label {\n",
       "  /* fitted */\n",
       "  background-color: var(--sklearn-color-fitted-level-2);\n",
       "}\n",
       "\n",
       "#sk-container-id-1 div.sk-label label.sk-toggleable__label,\n",
       "#sk-container-id-1 div.sk-label label {\n",
       "  /* The background is the default theme color */\n",
       "  color: var(--sklearn-color-text-on-default-background);\n",
       "}\n",
       "\n",
       "/* On hover, darken the color of the background */\n",
       "#sk-container-id-1 div.sk-label:hover label.sk-toggleable__label {\n",
       "  color: var(--sklearn-color-text);\n",
       "  background-color: var(--sklearn-color-unfitted-level-2);\n",
       "}\n",
       "\n",
       "/* Label box, darken color on hover, fitted */\n",
       "#sk-container-id-1 div.sk-label.fitted:hover label.sk-toggleable__label.fitted {\n",
       "  color: var(--sklearn-color-text);\n",
       "  background-color: var(--sklearn-color-fitted-level-2);\n",
       "}\n",
       "\n",
       "/* Estimator label */\n",
       "\n",
       "#sk-container-id-1 div.sk-label label {\n",
       "  font-family: monospace;\n",
       "  font-weight: bold;\n",
       "  display: inline-block;\n",
       "  line-height: 1.2em;\n",
       "}\n",
       "\n",
       "#sk-container-id-1 div.sk-label-container {\n",
       "  text-align: center;\n",
       "}\n",
       "\n",
       "/* Estimator-specific */\n",
       "#sk-container-id-1 div.sk-estimator {\n",
       "  font-family: monospace;\n",
       "  border: 1px dotted var(--sklearn-color-border-box);\n",
       "  border-radius: 0.25em;\n",
       "  box-sizing: border-box;\n",
       "  margin-bottom: 0.5em;\n",
       "  /* unfitted */\n",
       "  background-color: var(--sklearn-color-unfitted-level-0);\n",
       "}\n",
       "\n",
       "#sk-container-id-1 div.sk-estimator.fitted {\n",
       "  /* fitted */\n",
       "  background-color: var(--sklearn-color-fitted-level-0);\n",
       "}\n",
       "\n",
       "/* on hover */\n",
       "#sk-container-id-1 div.sk-estimator:hover {\n",
       "  /* unfitted */\n",
       "  background-color: var(--sklearn-color-unfitted-level-2);\n",
       "}\n",
       "\n",
       "#sk-container-id-1 div.sk-estimator.fitted:hover {\n",
       "  /* fitted */\n",
       "  background-color: var(--sklearn-color-fitted-level-2);\n",
       "}\n",
       "\n",
       "/* Specification for estimator info (e.g. \"i\" and \"?\") */\n",
       "\n",
       "/* Common style for \"i\" and \"?\" */\n",
       "\n",
       ".sk-estimator-doc-link,\n",
       "a:link.sk-estimator-doc-link,\n",
       "a:visited.sk-estimator-doc-link {\n",
       "  float: right;\n",
       "  font-size: smaller;\n",
       "  line-height: 1em;\n",
       "  font-family: monospace;\n",
       "  background-color: var(--sklearn-color-background);\n",
       "  border-radius: 1em;\n",
       "  height: 1em;\n",
       "  width: 1em;\n",
       "  text-decoration: none !important;\n",
       "  margin-left: 1ex;\n",
       "  /* unfitted */\n",
       "  border: var(--sklearn-color-unfitted-level-1) 1pt solid;\n",
       "  color: var(--sklearn-color-unfitted-level-1);\n",
       "}\n",
       "\n",
       ".sk-estimator-doc-link.fitted,\n",
       "a:link.sk-estimator-doc-link.fitted,\n",
       "a:visited.sk-estimator-doc-link.fitted {\n",
       "  /* fitted */\n",
       "  border: var(--sklearn-color-fitted-level-1) 1pt solid;\n",
       "  color: var(--sklearn-color-fitted-level-1);\n",
       "}\n",
       "\n",
       "/* On hover */\n",
       "div.sk-estimator:hover .sk-estimator-doc-link:hover,\n",
       ".sk-estimator-doc-link:hover,\n",
       "div.sk-label-container:hover .sk-estimator-doc-link:hover,\n",
       ".sk-estimator-doc-link:hover {\n",
       "  /* unfitted */\n",
       "  background-color: var(--sklearn-color-unfitted-level-3);\n",
       "  color: var(--sklearn-color-background);\n",
       "  text-decoration: none;\n",
       "}\n",
       "\n",
       "div.sk-estimator.fitted:hover .sk-estimator-doc-link.fitted:hover,\n",
       ".sk-estimator-doc-link.fitted:hover,\n",
       "div.sk-label-container:hover .sk-estimator-doc-link.fitted:hover,\n",
       ".sk-estimator-doc-link.fitted:hover {\n",
       "  /* fitted */\n",
       "  background-color: var(--sklearn-color-fitted-level-3);\n",
       "  color: var(--sklearn-color-background);\n",
       "  text-decoration: none;\n",
       "}\n",
       "\n",
       "/* Span, style for the box shown on hovering the info icon */\n",
       ".sk-estimator-doc-link span {\n",
       "  display: none;\n",
       "  z-index: 9999;\n",
       "  position: relative;\n",
       "  font-weight: normal;\n",
       "  right: .2ex;\n",
       "  padding: .5ex;\n",
       "  margin: .5ex;\n",
       "  width: min-content;\n",
       "  min-width: 20ex;\n",
       "  max-width: 50ex;\n",
       "  color: var(--sklearn-color-text);\n",
       "  box-shadow: 2pt 2pt 4pt #999;\n",
       "  /* unfitted */\n",
       "  background: var(--sklearn-color-unfitted-level-0);\n",
       "  border: .5pt solid var(--sklearn-color-unfitted-level-3);\n",
       "}\n",
       "\n",
       ".sk-estimator-doc-link.fitted span {\n",
       "  /* fitted */\n",
       "  background: var(--sklearn-color-fitted-level-0);\n",
       "  border: var(--sklearn-color-fitted-level-3);\n",
       "}\n",
       "\n",
       ".sk-estimator-doc-link:hover span {\n",
       "  display: block;\n",
       "}\n",
       "\n",
       "/* \"?\"-specific style due to the `<a>` HTML tag */\n",
       "\n",
       "#sk-container-id-1 a.estimator_doc_link {\n",
       "  float: right;\n",
       "  font-size: 1rem;\n",
       "  line-height: 1em;\n",
       "  font-family: monospace;\n",
       "  background-color: var(--sklearn-color-background);\n",
       "  border-radius: 1rem;\n",
       "  height: 1rem;\n",
       "  width: 1rem;\n",
       "  text-decoration: none;\n",
       "  /* unfitted */\n",
       "  color: var(--sklearn-color-unfitted-level-1);\n",
       "  border: var(--sklearn-color-unfitted-level-1) 1pt solid;\n",
       "}\n",
       "\n",
       "#sk-container-id-1 a.estimator_doc_link.fitted {\n",
       "  /* fitted */\n",
       "  border: var(--sklearn-color-fitted-level-1) 1pt solid;\n",
       "  color: var(--sklearn-color-fitted-level-1);\n",
       "}\n",
       "\n",
       "/* On hover */\n",
       "#sk-container-id-1 a.estimator_doc_link:hover {\n",
       "  /* unfitted */\n",
       "  background-color: var(--sklearn-color-unfitted-level-3);\n",
       "  color: var(--sklearn-color-background);\n",
       "  text-decoration: none;\n",
       "}\n",
       "\n",
       "#sk-container-id-1 a.estimator_doc_link.fitted:hover {\n",
       "  /* fitted */\n",
       "  background-color: var(--sklearn-color-fitted-level-3);\n",
       "}\n",
       "</style><div id=\"sk-container-id-1\" class=\"sk-top-container\"><div class=\"sk-text-repr-fallback\"><pre>XGBClassifier(base_score=None, booster=None, callbacks=None,\n",
       "              colsample_bylevel=None, colsample_bynode=0.3570727728603251,\n",
       "              colsample_bytree=None, device=&#x27;gpu&#x27;, early_stopping_rounds=None,\n",
       "              enable_categorical=False,\n",
       "              eval_metric=&lt;function custom_f1_score at 0x7dc632537240&gt;,\n",
       "              feature_types=None, gamma=None, grow_policy=None,\n",
       "              importance_type=None, interaction_constraints=None,\n",
       "              learning_rate=0.11462176450007101, max_bin=None,\n",
       "              max_cat_threshold=None, max_cat_to_onehot=None,\n",
       "              max_delta_step=None, max_depth=10, max_leaves=None,\n",
       "              min_child_weight=4, missing=nan, monotone_constraints=None,\n",
       "              multi_strategy=None, n_estimators=129, n_jobs=None,\n",
       "              num_parallel_tree=None, objective=&#x27;multi:softprob&#x27;, ...)</pre><b>In a Jupyter environment, please rerun this cell to show the HTML representation or trust the notebook. <br />On GitHub, the HTML representation is unable to render, please try loading this page with nbviewer.org.</b></div><div class=\"sk-container\" hidden><div class=\"sk-item\"><div class=\"sk-estimator fitted sk-toggleable\"><input class=\"sk-toggleable__control sk-hidden--visually\" id=\"sk-estimator-id-1\" type=\"checkbox\" checked><label for=\"sk-estimator-id-1\" class=\"sk-toggleable__label fitted sk-toggleable__label-arrow fitted\">&nbsp;XGBClassifier<span class=\"sk-estimator-doc-link fitted\">i<span>Fitted</span></span></label><div class=\"sk-toggleable__content fitted\"><pre>XGBClassifier(base_score=None, booster=None, callbacks=None,\n",
       "              colsample_bylevel=None, colsample_bynode=0.3570727728603251,\n",
       "              colsample_bytree=None, device=&#x27;gpu&#x27;, early_stopping_rounds=None,\n",
       "              enable_categorical=False,\n",
       "              eval_metric=&lt;function custom_f1_score at 0x7dc632537240&gt;,\n",
       "              feature_types=None, gamma=None, grow_policy=None,\n",
       "              importance_type=None, interaction_constraints=None,\n",
       "              learning_rate=0.11462176450007101, max_bin=None,\n",
       "              max_cat_threshold=None, max_cat_to_onehot=None,\n",
       "              max_delta_step=None, max_depth=10, max_leaves=None,\n",
       "              min_child_weight=4, missing=nan, monotone_constraints=None,\n",
       "              multi_strategy=None, n_estimators=129, n_jobs=None,\n",
       "              num_parallel_tree=None, objective=&#x27;multi:softprob&#x27;, ...)</pre></div> </div></div></div></div>"
      ],
      "text/plain": [
       "XGBClassifier(base_score=None, booster=None, callbacks=None,\n",
       "              colsample_bylevel=None, colsample_bynode=0.3570727728603251,\n",
       "              colsample_bytree=None, device='gpu', early_stopping_rounds=None,\n",
       "              enable_categorical=False,\n",
       "              eval_metric=<function custom_f1_score at 0x7dc632537240>,\n",
       "              feature_types=None, gamma=None, grow_policy=None,\n",
       "              importance_type=None, interaction_constraints=None,\n",
       "              learning_rate=0.11462176450007101, max_bin=None,\n",
       "              max_cat_threshold=None, max_cat_to_onehot=None,\n",
       "              max_delta_step=None, max_depth=10, max_leaves=None,\n",
       "              min_child_weight=4, missing=nan, monotone_constraints=None,\n",
       "              multi_strategy=None, n_estimators=129, n_jobs=None,\n",
       "              num_parallel_tree=None, objective='multi:softprob', ...)"
      ]
     },
     "execution_count": 24,
     "metadata": {},
     "output_type": "execute_result"
    }
   ],
   "source": [
    "n_estimators = int(study.best_trial.user_attrs['best_iteration']*1.2)\n",
    "xgb = xgboost.XGBClassifier(\n",
    "        device='gpu',\n",
    "        eval_metric=eval_metric,\n",
    "        n_estimators=n_estimators,\n",
    "        **study.best_trial.params\n",
    "    )\n",
    "xgb.fit(\n",
    "    ssp.vstack((X_train, X_val)), \n",
    "    np.concatenate((y_train_enc, y_val_enc)), \n",
    "    eval_set=[(X_test, y_test_enc)],\n",
    "    verbose=1,\n",
    ")"
   ]
  },
  {
   "cell_type": "code",
   "execution_count": 25,
   "id": "82b8ba1f",
   "metadata": {
    "editable": true,
    "execution": {
     "iopub.execute_input": "2025-03-18T17:38:12.543207Z",
     "iopub.status.busy": "2025-03-18T17:38:12.542544Z",
     "iopub.status.idle": "2025-03-18T17:38:12.612510Z",
     "shell.execute_reply": "2025-03-18T17:38:12.611877Z"
    },
    "papermill": {
     "duration": 0.102321,
     "end_time": "2025-03-18T17:38:12.613657",
     "exception": false,
     "start_time": "2025-03-18T17:38:12.511336",
     "status": "completed"
    },
    "slideshow": {
     "slide_type": ""
    },
    "tags": []
   },
   "outputs": [
    {
     "data": {
      "text/plain": [
       "['/scratch_isilon/groups/singlecell/shared/projects/Inflammation-PBMCs-Atlas/03_downstream_analysis/08_gene_importance/results/targetY_studyID/03_xgboost/best_model/studyID_Plasma_xgb.json']"
      ]
     },
     "execution_count": 25,
     "metadata": {},
     "output_type": "execute_result"
    }
   ],
   "source": [
    "os.makedirs(here(f\"03_downstream_analysis/08_gene_importance/results/targetY_{target_y}/03_xgboost/best_model/\"), exist_ok=True)\n",
    "\n",
    "joblib.dump(xgb, (here(f'03_downstream_analysis/08_gene_importance/results/targetY_{target_y}/03_xgboost/best_model/{RUN_NAME}{CELL_TYPE}_xgb.json')))"
   ]
  },
  {
   "cell_type": "code",
   "execution_count": 26,
   "id": "a706fad8",
   "metadata": {
    "execution": {
     "iopub.execute_input": "2025-03-18T17:38:12.688495Z",
     "iopub.status.busy": "2025-03-18T17:38:12.684233Z",
     "iopub.status.idle": "2025-03-18T17:38:13.062324Z",
     "shell.execute_reply": "2025-03-18T17:38:13.061796Z"
    },
    "papermill": {
     "duration": 0.420465,
     "end_time": "2025-03-18T17:38:13.063439",
     "exception": false,
     "start_time": "2025-03-18T17:38:12.642974",
     "status": "completed"
    },
    "tags": []
   },
   "outputs": [
    {
     "name": "stderr",
     "output_type": "stream",
     "text": [
      "/scratch_isilon/groups/singlecell/shared/conda_env/xgboostGPU/lib/python3.12/site-packages/xgboost/core.py:160: UserWarning:\n",
      "\n",
      "[17:38:12] WARNING: /home/conda/feedstock_root/build_artifacts/xgboost-split_1703076482591/work/src/common/error_msg.cc:58: Falling back to prediction using DMatrix due to mismatched devices. This might lead to higher memory usage and slower performance. XGBoost is running on: cuda:0, while the input data is on: cpu.\n",
      "Potential solutions:\n",
      "- Use a data structure that matches the device ordinal in the booster.\n",
      "- Set the device for booster before call to inplace_predict.\n",
      "\n",
      "This warning will only be shown once.\n",
      "\n",
      "\n"
     ]
    }
   ],
   "source": [
    "os.makedirs(here(f\"03_downstream_analysis/08_gene_importance/results/targetY_{target_y}/03_xgboost/predictions/\"), exist_ok=True)\n",
    "\n",
    "(pd.DataFrame(np.array((y_test, y_test_enc, xgb.predict(X_test))).T, columns=['y_true', 'y_true_code', 'y_pred'])\n",
    " .to_csv(here(f'03_downstream_analysis/08_gene_importance/results/targetY_{target_y}/03_xgboost/predictions/{RUN_NAME}{CELL_TYPE}_pred_test.zip')))\n",
    "(pd.DataFrame(np.array((y_train, y_train_enc, xgb.predict(X_train))).T, columns=['y_true', 'y_true_code', 'y_pred'])\n",
    " .to_csv(here(f'03_downstream_analysis/08_gene_importance/results/targetY_{target_y}/03_xgboost/predictions/{RUN_NAME}{CELL_TYPE}_pred_train.zip')))"
   ]
  },
  {
   "cell_type": "code",
   "execution_count": null,
   "id": "16334738",
   "metadata": {
    "papermill": {
     "duration": 0.115932,
     "end_time": "2025-03-18T17:38:13.235712",
     "exception": false,
     "start_time": "2025-03-18T17:38:13.119780",
     "status": "completed"
    },
    "tags": []
   },
   "outputs": [],
   "source": []
  }
 ],
 "metadata": {
  "kernelspec": {
   "display_name": "Python 3 (ipykernel)",
   "language": "python",
   "name": "python3"
  },
  "language_info": {
   "codemirror_mode": {
    "name": "ipython",
    "version": 3
   },
   "file_extension": ".py",
   "mimetype": "text/x-python",
   "name": "python",
   "nbconvert_exporter": "python",
   "pygments_lexer": "ipython3",
   "version": "3.12.9"
  },
  "papermill": {
   "default_parameters": {},
   "duration": 187.906031,
   "end_time": "2025-03-18T17:38:16.386010",
   "environment_variables": {},
   "exception": null,
   "input_path": "02_studyID_xgboost_fitting.ipynb",
   "output_path": "executed_notebooks/02_studyID_xgboost_fitting_Plasma.ipynb",
   "parameters": {
    "CELL_TYPE": "Plasma"
   },
   "start_time": "2025-03-18T17:35:08.479979",
   "version": "2.6.0"
  }
 },
 "nbformat": 4,
 "nbformat_minor": 5
}