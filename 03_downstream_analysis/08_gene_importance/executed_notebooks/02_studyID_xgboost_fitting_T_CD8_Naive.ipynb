{
 "cells": [
  {
   "cell_type": "code",
   "execution_count": 1,
   "id": "2c66e8ba",
   "metadata": {
    "editable": true,
    "execution": {
     "iopub.execute_input": "2025-03-17T19:10:16.195024Z",
     "iopub.status.busy": "2025-03-17T19:10:16.194507Z",
     "iopub.status.idle": "2025-03-17T19:10:16.211073Z",
     "shell.execute_reply": "2025-03-17T19:10:16.210129Z"
    },
    "papermill": {
     "duration": 0.055949,
     "end_time": "2025-03-17T19:10:16.221045",
     "exception": false,
     "start_time": "2025-03-17T19:10:16.165096",
     "status": "completed"
    },
    "slideshow": {
     "slide_type": ""
    },
    "tags": [
     "parameters"
    ]
   },
   "outputs": [],
   "source": [
    "CELL_TYPE = 'DC'\n",
    "N_SPLITS: int = 5\n",
    "N_TRIALS: int = 50\n",
    "RUN_NAME: str = \"studyID\""
   ]
  },
  {
   "cell_type": "code",
   "execution_count": 2,
   "id": "edcc91bd",
   "metadata": {
    "execution": {
     "iopub.execute_input": "2025-03-17T19:10:16.257834Z",
     "iopub.status.busy": "2025-03-17T19:10:16.256846Z",
     "iopub.status.idle": "2025-03-17T19:10:16.266568Z",
     "shell.execute_reply": "2025-03-17T19:10:16.263226Z"
    },
    "papermill": {
     "duration": 0.028874,
     "end_time": "2025-03-17T19:10:16.267765",
     "exception": false,
     "start_time": "2025-03-17T19:10:16.238891",
     "status": "completed"
    },
    "tags": [
     "injected-parameters"
    ]
   },
   "outputs": [],
   "source": [
    "# Parameters\n",
    "CELL_TYPE = \"T_CD8_Naive\"\n"
   ]
  },
  {
   "cell_type": "code",
   "execution_count": 3,
   "id": "a46747bd",
   "metadata": {
    "editable": true,
    "execution": {
     "iopub.execute_input": "2025-03-17T19:10:16.293602Z",
     "iopub.status.busy": "2025-03-17T19:10:16.293076Z",
     "iopub.status.idle": "2025-03-17T19:10:16.302815Z",
     "shell.execute_reply": "2025-03-17T19:10:16.302240Z"
    },
    "papermill": {
     "duration": 0.024482,
     "end_time": "2025-03-17T19:10:16.304041",
     "exception": false,
     "start_time": "2025-03-17T19:10:16.279559",
     "status": "completed"
    },
    "slideshow": {
     "slide_type": ""
    },
    "tags": []
   },
   "outputs": [],
   "source": [
    "if RUN_NAME != \"\":\n",
    "    RUN_NAME = RUN_NAME + \"_\""
   ]
  },
  {
   "cell_type": "code",
   "execution_count": 4,
   "id": "1ec5b500",
   "metadata": {
    "editable": true,
    "execution": {
     "iopub.execute_input": "2025-03-17T19:10:16.331397Z",
     "iopub.status.busy": "2025-03-17T19:10:16.330857Z",
     "iopub.status.idle": "2025-03-17T19:10:22.494719Z",
     "shell.execute_reply": "2025-03-17T19:10:22.493624Z"
    },
    "papermill": {
     "duration": 6.184337,
     "end_time": "2025-03-17T19:10:22.496943",
     "exception": false,
     "start_time": "2025-03-17T19:10:16.312606",
     "status": "completed"
    },
    "slideshow": {
     "slide_type": ""
    },
    "tags": []
   },
   "outputs": [],
   "source": [
    "import os\n",
    "import sys\n",
    "#from pyprojroot.here import here\n",
    "\n",
    "import pandas as pd\n",
    "import anndata as ad\n",
    "import numpy as np\n",
    "import math\n",
    "from sklearn.model_selection import StratifiedGroupKFold\n",
    "from sklearn.preprocessing import LabelEncoder\n",
    "from sklearn.metrics import f1_score\n",
    "import matplotlib.pyplot as plt\n",
    "import seaborn as sns\n",
    "from itertools import product\n",
    "\n",
    "import optuna\n",
    "\n",
    "import joblib\n",
    "import pickle\n",
    "import datetime\n",
    "\n",
    "import collections\n",
    "\n",
    "import xgboost\n",
    "from sklearn.preprocessing import LabelEncoder\n",
    "\n",
    "import scipy.sparse as ssp\n",
    "import joblib\n",
    "\n",
    "from pyprojroot import here\n",
    "\n",
    "from dotenv import load_dotenv"
   ]
  },
  {
   "cell_type": "code",
   "execution_count": 5,
   "id": "9b22f50f",
   "metadata": {
    "execution": {
     "iopub.execute_input": "2025-03-17T19:10:22.520767Z",
     "iopub.status.busy": "2025-03-17T19:10:22.519283Z",
     "iopub.status.idle": "2025-03-17T19:10:22.526712Z",
     "shell.execute_reply": "2025-03-17T19:10:22.526008Z"
    },
    "papermill": {
     "duration": 0.017377,
     "end_time": "2025-03-17T19:10:22.527705",
     "exception": false,
     "start_time": "2025-03-17T19:10:22.510328",
     "status": "completed"
    },
    "tags": []
   },
   "outputs": [],
   "source": [
    "assert load_dotenv()"
   ]
  },
  {
   "cell_type": "markdown",
   "id": "ddc69a84",
   "metadata": {
    "execution": {
     "iopub.execute_input": "2025-03-17T14:39:30.205388Z",
     "iopub.status.busy": "2025-03-17T14:39:30.204197Z",
     "iopub.status.idle": "2025-03-17T14:39:30.210586Z",
     "shell.execute_reply": "2025-03-17T14:39:30.209317Z",
     "shell.execute_reply.started": "2025-03-17T14:39:30.205342Z"
    },
    "papermill": {
     "duration": 0.004917,
     "end_time": "2025-03-17T19:10:22.538850",
     "exception": false,
     "start_time": "2025-03-17T19:10:22.533933",
     "status": "completed"
    },
    "tags": []
   },
   "source": [
    "def here(fpath):\n",
    "    return os.path.join(BUCKET_DIRPATH, fpath)"
   ]
  },
  {
   "cell_type": "code",
   "execution_count": 6,
   "id": "c4bc11a1",
   "metadata": {
    "execution": {
     "iopub.execute_input": "2025-03-17T19:10:22.559992Z",
     "iopub.status.busy": "2025-03-17T19:10:22.559481Z",
     "iopub.status.idle": "2025-03-17T19:10:22.568859Z",
     "shell.execute_reply": "2025-03-17T19:10:22.567387Z"
    },
    "papermill": {
     "duration": 0.019358,
     "end_time": "2025-03-17T19:10:22.571033",
     "exception": false,
     "start_time": "2025-03-17T19:10:22.551675",
     "status": "completed"
    },
    "tags": []
   },
   "outputs": [],
   "source": [
    "target_y = 'studyID'"
   ]
  },
  {
   "cell_type": "markdown",
   "id": "7ca162d5",
   "metadata": {
    "papermill": {
     "duration": 0.01522,
     "end_time": "2025-03-17T19:10:22.597720",
     "exception": false,
     "start_time": "2025-03-17T19:10:22.582500",
     "status": "completed"
    },
    "tags": []
   },
   "source": [
    "# LOAD DATASET"
   ]
  },
  {
   "cell_type": "code",
   "execution_count": 7,
   "id": "88227535",
   "metadata": {
    "execution": {
     "iopub.execute_input": "2025-03-17T19:10:22.639386Z",
     "iopub.status.busy": "2025-03-17T19:10:22.639102Z",
     "iopub.status.idle": "2025-03-17T19:10:24.771774Z",
     "shell.execute_reply": "2025-03-17T19:10:24.771303Z"
    },
    "papermill": {
     "duration": 2.159255,
     "end_time": "2025-03-17T19:10:24.779071",
     "exception": false,
     "start_time": "2025-03-17T19:10:22.619816",
     "status": "completed"
    },
    "tags": []
   },
   "outputs": [],
   "source": [
    "adata = ad.read_h5ad(\n",
    "    str(here(f'03_downstream_analysis/08_gene_importance/data/{CELL_TYPE}_adataMerged_SPECTRAgenes.log1p.h5ad')),\n",
    "    backed='r',\n",
    "    chunk_size=25000\n",
    ")"
   ]
  },
  {
   "cell_type": "code",
   "execution_count": 8,
   "id": "c46129c5",
   "metadata": {
    "execution": {
     "iopub.execute_input": "2025-03-17T19:10:24.811439Z",
     "iopub.status.busy": "2025-03-17T19:10:24.811162Z",
     "iopub.status.idle": "2025-03-17T19:10:24.856691Z",
     "shell.execute_reply": "2025-03-17T19:10:24.856340Z"
    },
    "papermill": {
     "duration": 0.065011,
     "end_time": "2025-03-17T19:10:24.861754",
     "exception": false,
     "start_time": "2025-03-17T19:10:24.796743",
     "status": "completed"
    },
    "tags": []
   },
   "outputs": [
    {
     "data": {
      "text/html": [
       "<div>\n",
       "<style scoped>\n",
       "    .dataframe tbody tr th:only-of-type {\n",
       "        vertical-align: middle;\n",
       "    }\n",
       "\n",
       "    .dataframe tbody tr th {\n",
       "        vertical-align: top;\n",
       "    }\n",
       "\n",
       "    .dataframe thead th {\n",
       "        text-align: right;\n",
       "    }\n",
       "</style>\n",
       "<table border=\"1\" class=\"dataframe\">\n",
       "  <thead>\n",
       "    <tr style=\"text-align: right;\">\n",
       "      <th></th>\n",
       "      <th>studyID</th>\n",
       "      <th>libraryID</th>\n",
       "      <th>sampleID</th>\n",
       "      <th>chemistry</th>\n",
       "      <th>disease</th>\n",
       "      <th>sex</th>\n",
       "      <th>binned_age</th>\n",
       "      <th>Level1</th>\n",
       "      <th>Level2</th>\n",
       "    </tr>\n",
       "    <tr>\n",
       "      <th>cellID</th>\n",
       "      <th></th>\n",
       "      <th></th>\n",
       "      <th></th>\n",
       "      <th></th>\n",
       "      <th></th>\n",
       "      <th></th>\n",
       "      <th></th>\n",
       "      <th></th>\n",
       "      <th></th>\n",
       "    </tr>\n",
       "  </thead>\n",
       "  <tbody>\n",
       "    <tr>\n",
       "      <th>COMBAT2022_L035_N00049_T0_GCTCTGTTCTACCAGA</th>\n",
       "      <td>COMBAT2022</td>\n",
       "      <td>COMBAT2022_L035</td>\n",
       "      <td>COMBAT2022_N00049_T0</td>\n",
       "      <td>5_GEX_V1</td>\n",
       "      <td>sepsis</td>\n",
       "      <td>male</td>\n",
       "      <td>71-80</td>\n",
       "      <td>T_CD8_Naive</td>\n",
       "      <td>T_CD8_Naive</td>\n",
       "    </tr>\n",
       "    <tr>\n",
       "      <th>COMBAT2022_L036_N00049_T0_AATCGGTTCCGAGCCA</th>\n",
       "      <td>COMBAT2022</td>\n",
       "      <td>COMBAT2022_L036</td>\n",
       "      <td>COMBAT2022_N00049_T0</td>\n",
       "      <td>5_GEX_V1</td>\n",
       "      <td>sepsis</td>\n",
       "      <td>male</td>\n",
       "      <td>71-80</td>\n",
       "      <td>T_CD8_Naive</td>\n",
       "      <td>T_CD8_Naive</td>\n",
       "    </tr>\n",
       "    <tr>\n",
       "      <th>COMBAT2022_L036_N00049_T0_CGCGTTTGTTATTCTC</th>\n",
       "      <td>COMBAT2022</td>\n",
       "      <td>COMBAT2022_L036</td>\n",
       "      <td>COMBAT2022_N00049_T0</td>\n",
       "      <td>5_GEX_V1</td>\n",
       "      <td>sepsis</td>\n",
       "      <td>male</td>\n",
       "      <td>71-80</td>\n",
       "      <td>T_CD8_Naive</td>\n",
       "      <td>T_CD8_Naive</td>\n",
       "    </tr>\n",
       "    <tr>\n",
       "      <th>COMBAT2022_L036_N00049_T0_TTTATGCCAACTGCTA</th>\n",
       "      <td>COMBAT2022</td>\n",
       "      <td>COMBAT2022_L036</td>\n",
       "      <td>COMBAT2022_N00049_T0</td>\n",
       "      <td>5_GEX_V1</td>\n",
       "      <td>sepsis</td>\n",
       "      <td>male</td>\n",
       "      <td>71-80</td>\n",
       "      <td>T_CD8_Naive</td>\n",
       "      <td>T_CD8_Naive</td>\n",
       "    </tr>\n",
       "    <tr>\n",
       "      <th>COMBAT2022_L037_N00049_T0_GAAACTCTCCGCAAGC</th>\n",
       "      <td>COMBAT2022</td>\n",
       "      <td>COMBAT2022_L037</td>\n",
       "      <td>COMBAT2022_N00049_T0</td>\n",
       "      <td>5_GEX_V1</td>\n",
       "      <td>sepsis</td>\n",
       "      <td>male</td>\n",
       "      <td>71-80</td>\n",
       "      <td>T_CD8_Naive</td>\n",
       "      <td>T_CD8_Naive</td>\n",
       "    </tr>\n",
       "    <tr>\n",
       "      <th>...</th>\n",
       "      <td>...</td>\n",
       "      <td>...</td>\n",
       "      <td>...</td>\n",
       "      <td>...</td>\n",
       "      <td>...</td>\n",
       "      <td>...</td>\n",
       "      <td>...</td>\n",
       "      <td>...</td>\n",
       "      <td>...</td>\n",
       "    </tr>\n",
       "    <tr>\n",
       "      <th>Terekhova2023_L076_E27_T0_TTGACTTTCTGCGGCA</th>\n",
       "      <td>Terekhova2023</td>\n",
       "      <td>Terekhova2023_L076</td>\n",
       "      <td>Terekhova2023_E27_T0</td>\n",
       "      <td>5_GEX_V2</td>\n",
       "      <td>healthy</td>\n",
       "      <td>male</td>\n",
       "      <td>61-70</td>\n",
       "      <td>T_CD8_Naive</td>\n",
       "      <td>T_CD8_Naive</td>\n",
       "    </tr>\n",
       "    <tr>\n",
       "      <th>Terekhova2023_L076_E27_T0_TTGCCGTAGTGTCCAT</th>\n",
       "      <td>Terekhova2023</td>\n",
       "      <td>Terekhova2023_L076</td>\n",
       "      <td>Terekhova2023_E27_T0</td>\n",
       "      <td>5_GEX_V2</td>\n",
       "      <td>healthy</td>\n",
       "      <td>male</td>\n",
       "      <td>61-70</td>\n",
       "      <td>T_CD8_Naive</td>\n",
       "      <td>T_CD8_Naive</td>\n",
       "    </tr>\n",
       "    <tr>\n",
       "      <th>Terekhova2023_L076_E27_T0_TTGGCAATCCCATTTA</th>\n",
       "      <td>Terekhova2023</td>\n",
       "      <td>Terekhova2023_L076</td>\n",
       "      <td>Terekhova2023_E27_T0</td>\n",
       "      <td>5_GEX_V2</td>\n",
       "      <td>healthy</td>\n",
       "      <td>male</td>\n",
       "      <td>61-70</td>\n",
       "      <td>T_CD8_Naive</td>\n",
       "      <td>T_CD8_Naive</td>\n",
       "    </tr>\n",
       "    <tr>\n",
       "      <th>Terekhova2023_L076_E27_T0_TTGGCAATCTATCCCG</th>\n",
       "      <td>Terekhova2023</td>\n",
       "      <td>Terekhova2023_L076</td>\n",
       "      <td>Terekhova2023_E27_T0</td>\n",
       "      <td>5_GEX_V2</td>\n",
       "      <td>healthy</td>\n",
       "      <td>male</td>\n",
       "      <td>61-70</td>\n",
       "      <td>T_CD8_Naive</td>\n",
       "      <td>T_CD8_Naive</td>\n",
       "    </tr>\n",
       "    <tr>\n",
       "      <th>Terekhova2023_L076_E27_T0_TTTACTGAGAAACCAT</th>\n",
       "      <td>Terekhova2023</td>\n",
       "      <td>Terekhova2023_L076</td>\n",
       "      <td>Terekhova2023_E27_T0</td>\n",
       "      <td>5_GEX_V2</td>\n",
       "      <td>healthy</td>\n",
       "      <td>male</td>\n",
       "      <td>61-70</td>\n",
       "      <td>T_CD8_Naive</td>\n",
       "      <td>T_CD8_Naive</td>\n",
       "    </tr>\n",
       "  </tbody>\n",
       "</table>\n",
       "<p>213776 rows × 9 columns</p>\n",
       "</div>"
      ],
      "text/plain": [
       "                                                  studyID           libraryID  \\\n",
       "cellID                                                                          \n",
       "COMBAT2022_L035_N00049_T0_GCTCTGTTCTACCAGA     COMBAT2022     COMBAT2022_L035   \n",
       "COMBAT2022_L036_N00049_T0_AATCGGTTCCGAGCCA     COMBAT2022     COMBAT2022_L036   \n",
       "COMBAT2022_L036_N00049_T0_CGCGTTTGTTATTCTC     COMBAT2022     COMBAT2022_L036   \n",
       "COMBAT2022_L036_N00049_T0_TTTATGCCAACTGCTA     COMBAT2022     COMBAT2022_L036   \n",
       "COMBAT2022_L037_N00049_T0_GAAACTCTCCGCAAGC     COMBAT2022     COMBAT2022_L037   \n",
       "...                                                   ...                 ...   \n",
       "Terekhova2023_L076_E27_T0_TTGACTTTCTGCGGCA  Terekhova2023  Terekhova2023_L076   \n",
       "Terekhova2023_L076_E27_T0_TTGCCGTAGTGTCCAT  Terekhova2023  Terekhova2023_L076   \n",
       "Terekhova2023_L076_E27_T0_TTGGCAATCCCATTTA  Terekhova2023  Terekhova2023_L076   \n",
       "Terekhova2023_L076_E27_T0_TTGGCAATCTATCCCG  Terekhova2023  Terekhova2023_L076   \n",
       "Terekhova2023_L076_E27_T0_TTTACTGAGAAACCAT  Terekhova2023  Terekhova2023_L076   \n",
       "\n",
       "                                                        sampleID chemistry  \\\n",
       "cellID                                                                       \n",
       "COMBAT2022_L035_N00049_T0_GCTCTGTTCTACCAGA  COMBAT2022_N00049_T0  5_GEX_V1   \n",
       "COMBAT2022_L036_N00049_T0_AATCGGTTCCGAGCCA  COMBAT2022_N00049_T0  5_GEX_V1   \n",
       "COMBAT2022_L036_N00049_T0_CGCGTTTGTTATTCTC  COMBAT2022_N00049_T0  5_GEX_V1   \n",
       "COMBAT2022_L036_N00049_T0_TTTATGCCAACTGCTA  COMBAT2022_N00049_T0  5_GEX_V1   \n",
       "COMBAT2022_L037_N00049_T0_GAAACTCTCCGCAAGC  COMBAT2022_N00049_T0  5_GEX_V1   \n",
       "...                                                          ...       ...   \n",
       "Terekhova2023_L076_E27_T0_TTGACTTTCTGCGGCA  Terekhova2023_E27_T0  5_GEX_V2   \n",
       "Terekhova2023_L076_E27_T0_TTGCCGTAGTGTCCAT  Terekhova2023_E27_T0  5_GEX_V2   \n",
       "Terekhova2023_L076_E27_T0_TTGGCAATCCCATTTA  Terekhova2023_E27_T0  5_GEX_V2   \n",
       "Terekhova2023_L076_E27_T0_TTGGCAATCTATCCCG  Terekhova2023_E27_T0  5_GEX_V2   \n",
       "Terekhova2023_L076_E27_T0_TTTACTGAGAAACCAT  Terekhova2023_E27_T0  5_GEX_V2   \n",
       "\n",
       "                                            disease   sex binned_age  \\\n",
       "cellID                                                                 \n",
       "COMBAT2022_L035_N00049_T0_GCTCTGTTCTACCAGA   sepsis  male      71-80   \n",
       "COMBAT2022_L036_N00049_T0_AATCGGTTCCGAGCCA   sepsis  male      71-80   \n",
       "COMBAT2022_L036_N00049_T0_CGCGTTTGTTATTCTC   sepsis  male      71-80   \n",
       "COMBAT2022_L036_N00049_T0_TTTATGCCAACTGCTA   sepsis  male      71-80   \n",
       "COMBAT2022_L037_N00049_T0_GAAACTCTCCGCAAGC   sepsis  male      71-80   \n",
       "...                                             ...   ...        ...   \n",
       "Terekhova2023_L076_E27_T0_TTGACTTTCTGCGGCA  healthy  male      61-70   \n",
       "Terekhova2023_L076_E27_T0_TTGCCGTAGTGTCCAT  healthy  male      61-70   \n",
       "Terekhova2023_L076_E27_T0_TTGGCAATCCCATTTA  healthy  male      61-70   \n",
       "Terekhova2023_L076_E27_T0_TTGGCAATCTATCCCG  healthy  male      61-70   \n",
       "Terekhova2023_L076_E27_T0_TTTACTGAGAAACCAT  healthy  male      61-70   \n",
       "\n",
       "                                                 Level1       Level2  \n",
       "cellID                                                                \n",
       "COMBAT2022_L035_N00049_T0_GCTCTGTTCTACCAGA  T_CD8_Naive  T_CD8_Naive  \n",
       "COMBAT2022_L036_N00049_T0_AATCGGTTCCGAGCCA  T_CD8_Naive  T_CD8_Naive  \n",
       "COMBAT2022_L036_N00049_T0_CGCGTTTGTTATTCTC  T_CD8_Naive  T_CD8_Naive  \n",
       "COMBAT2022_L036_N00049_T0_TTTATGCCAACTGCTA  T_CD8_Naive  T_CD8_Naive  \n",
       "COMBAT2022_L037_N00049_T0_GAAACTCTCCGCAAGC  T_CD8_Naive  T_CD8_Naive  \n",
       "...                                                 ...          ...  \n",
       "Terekhova2023_L076_E27_T0_TTGACTTTCTGCGGCA  T_CD8_Naive  T_CD8_Naive  \n",
       "Terekhova2023_L076_E27_T0_TTGCCGTAGTGTCCAT  T_CD8_Naive  T_CD8_Naive  \n",
       "Terekhova2023_L076_E27_T0_TTGGCAATCCCATTTA  T_CD8_Naive  T_CD8_Naive  \n",
       "Terekhova2023_L076_E27_T0_TTGGCAATCTATCCCG  T_CD8_Naive  T_CD8_Naive  \n",
       "Terekhova2023_L076_E27_T0_TTTACTGAGAAACCAT  T_CD8_Naive  T_CD8_Naive  \n",
       "\n",
       "[213776 rows x 9 columns]"
      ]
     },
     "execution_count": 8,
     "metadata": {},
     "output_type": "execute_result"
    }
   ],
   "source": [
    "adata.obs"
   ]
  },
  {
   "cell_type": "markdown",
   "id": "efadb097",
   "metadata": {
    "papermill": {
     "duration": 0.013554,
     "end_time": "2025-03-17T19:10:24.892965",
     "exception": false,
     "start_time": "2025-03-17T19:10:24.879411",
     "status": "completed"
    },
    "tags": []
   },
   "source": [
    "# EXTRACT INDEXES FOR DATA SPLITTING (STRATIFIED BY DISEASE, GROUPED BY PATIENT)\n",
    "\n",
    "# EXTRACT CELL COUNTS PER SPLIT (TO MAKE SURE THAT RATIOS RESEMBLE 70:20:10)"
   ]
  },
  {
   "cell_type": "code",
   "execution_count": 9,
   "id": "867ba40a",
   "metadata": {
    "execution": {
     "iopub.execute_input": "2025-03-17T19:10:24.929802Z",
     "iopub.status.busy": "2025-03-17T19:10:24.929583Z",
     "iopub.status.idle": "2025-03-17T19:10:25.989324Z",
     "shell.execute_reply": "2025-03-17T19:10:25.988688Z"
    },
    "papermill": {
     "duration": 1.084968,
     "end_time": "2025-03-17T19:10:25.991348",
     "exception": false,
     "start_time": "2025-03-17T19:10:24.906380",
     "status": "completed"
    },
    "tags": []
   },
   "outputs": [],
   "source": [
    "all_idxs = np.arange(adata.obs.shape[0])\n",
    "left_out_splits = [s[1] for s in StratifiedGroupKFold(n_splits=N_SPLITS).split(all_idxs, adata.obs[target_y], adata.obs.sampleID)]\n",
    "\n",
    "min_stats = []\n",
    "for val_fold_idx, test_fold_idx in product(range(N_SPLITS), range(1,N_SPLITS)):\n",
    "    if val_fold_idx == test_fold_idx:\n",
    "        continue\n",
    "\n",
    "    all_idxs = np.arange(adata.obs.shape[0])\n",
    "    val_idxs, test_idxs = left_out_splits[val_fold_idx], left_out_splits[test_fold_idx]\n",
    "    train_idxs = np.delete(all_idxs, np.union1d(val_idxs, test_idxs))\n",
    "\n",
    "    cell_count_df = []\n",
    "    cell_count_df.append(adata.obs.iloc[train_idxs].groupby(target_y, observed=False).size().to_frame(name='cell_count').reset_index().assign(split='train'))\n",
    "    cell_count_df.append(adata.obs.iloc[val_idxs].groupby(target_y, observed=False).size().to_frame(name='cell_count').reset_index().assign(split='val'))\n",
    "    cell_count_df.append(adata.obs.iloc[test_idxs].groupby(target_y, observed=False).size().to_frame(name='cell_count').reset_index().assign(split='test'))\n",
    "    cell_count_df = pd.concat(cell_count_df).pivot(index=target_y, columns='split', values='cell_count')\n",
    "    cell_plot_data = cell_count_df.div(cell_count_df.sum(axis=1), axis=0).reset_index().melt(id_vars=target_y)\n",
    "    min_stats.append((val_fold_idx, test_fold_idx, cell_plot_data.query('split==\"train\"').value.min(), cell_plot_data.query('split==\"test\"').value.min()))"
   ]
  },
  {
   "cell_type": "markdown",
   "id": "39180e07",
   "metadata": {
    "papermill": {
     "duration": 0.007045,
     "end_time": "2025-03-17T19:10:26.012463",
     "exception": false,
     "start_time": "2025-03-17T19:10:26.005418",
     "status": "completed"
    },
    "tags": []
   },
   "source": [
    "# CALCULATE RATIOS OF PATIENTS IN TRAINING AND TESTING SET: splits that best fit the expected ratios"
   ]
  },
  {
   "cell_type": "code",
   "execution_count": 10,
   "id": "34be1448",
   "metadata": {
    "execution": {
     "iopub.execute_input": "2025-03-17T19:10:26.026314Z",
     "iopub.status.busy": "2025-03-17T19:10:26.025833Z",
     "iopub.status.idle": "2025-03-17T19:10:26.042145Z",
     "shell.execute_reply": "2025-03-17T19:10:26.041497Z"
    },
    "papermill": {
     "duration": 0.024874,
     "end_time": "2025-03-17T19:10:26.043312",
     "exception": false,
     "start_time": "2025-03-17T19:10:26.018438",
     "status": "completed"
    },
    "tags": []
   },
   "outputs": [
    {
     "data": {
      "text/html": [
       "<div>\n",
       "<style scoped>\n",
       "    .dataframe tbody tr th:only-of-type {\n",
       "        vertical-align: middle;\n",
       "    }\n",
       "\n",
       "    .dataframe tbody tr th {\n",
       "        vertical-align: top;\n",
       "    }\n",
       "\n",
       "    .dataframe thead th {\n",
       "        text-align: right;\n",
       "    }\n",
       "</style>\n",
       "<table border=\"1\" class=\"dataframe\">\n",
       "  <thead>\n",
       "    <tr style=\"text-align: right;\">\n",
       "      <th></th>\n",
       "      <th>val_idx</th>\n",
       "      <th>test_idx</th>\n",
       "      <th>train_min</th>\n",
       "      <th>test_mean</th>\n",
       "      <th>ranking</th>\n",
       "    </tr>\n",
       "  </thead>\n",
       "  <tbody>\n",
       "    <tr>\n",
       "      <th>2</th>\n",
       "      <td>0</td>\n",
       "      <td>3</td>\n",
       "      <td>0.520233</td>\n",
       "      <td>0.461874</td>\n",
       "      <td>0.240282</td>\n",
       "    </tr>\n",
       "    <tr>\n",
       "      <th>0</th>\n",
       "      <td>0</td>\n",
       "      <td>1</td>\n",
       "      <td>0.517905</td>\n",
       "      <td>0.470588</td>\n",
       "      <td>0.243720</td>\n",
       "    </tr>\n",
       "    <tr>\n",
       "      <th>1</th>\n",
       "      <td>0</td>\n",
       "      <td>2</td>\n",
       "      <td>0.516159</td>\n",
       "      <td>0.477124</td>\n",
       "      <td>0.246272</td>\n",
       "    </tr>\n",
       "    <tr>\n",
       "      <th>3</th>\n",
       "      <td>0</td>\n",
       "      <td>4</td>\n",
       "      <td>0.376500</td>\n",
       "      <td>1.000000</td>\n",
       "      <td>0.376500</td>\n",
       "    </tr>\n",
       "    <tr>\n",
       "      <th>13</th>\n",
       "      <td>4</td>\n",
       "      <td>1</td>\n",
       "      <td>0.883333</td>\n",
       "      <td>0.470588</td>\n",
       "      <td>0.415686</td>\n",
       "    </tr>\n",
       "    <tr>\n",
       "      <th>5</th>\n",
       "      <td>1</td>\n",
       "      <td>3</td>\n",
       "      <td>0.930563</td>\n",
       "      <td>0.461874</td>\n",
       "      <td>0.429803</td>\n",
       "    </tr>\n",
       "    <tr>\n",
       "      <th>8</th>\n",
       "      <td>2</td>\n",
       "      <td>3</td>\n",
       "      <td>0.947175</td>\n",
       "      <td>0.461874</td>\n",
       "      <td>0.437475</td>\n",
       "    </tr>\n",
       "    <tr>\n",
       "      <th>10</th>\n",
       "      <td>3</td>\n",
       "      <td>1</td>\n",
       "      <td>0.930563</td>\n",
       "      <td>0.470588</td>\n",
       "      <td>0.437912</td>\n",
       "    </tr>\n",
       "    <tr>\n",
       "      <th>11</th>\n",
       "      <td>3</td>\n",
       "      <td>2</td>\n",
       "      <td>0.947175</td>\n",
       "      <td>0.477124</td>\n",
       "      <td>0.451920</td>\n",
       "    </tr>\n",
       "    <tr>\n",
       "      <th>7</th>\n",
       "      <td>2</td>\n",
       "      <td>1</td>\n",
       "      <td>0.971855</td>\n",
       "      <td>0.470588</td>\n",
       "      <td>0.457343</td>\n",
       "    </tr>\n",
       "    <tr>\n",
       "      <th>15</th>\n",
       "      <td>4</td>\n",
       "      <td>3</td>\n",
       "      <td>1.000000</td>\n",
       "      <td>0.461874</td>\n",
       "      <td>0.461874</td>\n",
       "    </tr>\n",
       "    <tr>\n",
       "      <th>14</th>\n",
       "      <td>4</td>\n",
       "      <td>2</td>\n",
       "      <td>0.970316</td>\n",
       "      <td>0.477124</td>\n",
       "      <td>0.462961</td>\n",
       "    </tr>\n",
       "    <tr>\n",
       "      <th>4</th>\n",
       "      <td>1</td>\n",
       "      <td>2</td>\n",
       "      <td>0.971855</td>\n",
       "      <td>0.477124</td>\n",
       "      <td>0.463695</td>\n",
       "    </tr>\n",
       "    <tr>\n",
       "      <th>6</th>\n",
       "      <td>1</td>\n",
       "      <td>4</td>\n",
       "      <td>0.883333</td>\n",
       "      <td>1.000000</td>\n",
       "      <td>0.883333</td>\n",
       "    </tr>\n",
       "    <tr>\n",
       "      <th>9</th>\n",
       "      <td>2</td>\n",
       "      <td>4</td>\n",
       "      <td>0.970316</td>\n",
       "      <td>1.000000</td>\n",
       "      <td>0.970316</td>\n",
       "    </tr>\n",
       "    <tr>\n",
       "      <th>12</th>\n",
       "      <td>3</td>\n",
       "      <td>4</td>\n",
       "      <td>1.000000</td>\n",
       "      <td>1.000000</td>\n",
       "      <td>1.000000</td>\n",
       "    </tr>\n",
       "  </tbody>\n",
       "</table>\n",
       "</div>"
      ],
      "text/plain": [
       "    val_idx  test_idx  train_min  test_mean   ranking\n",
       "2         0         3   0.520233   0.461874  0.240282\n",
       "0         0         1   0.517905   0.470588  0.243720\n",
       "1         0         2   0.516159   0.477124  0.246272\n",
       "3         0         4   0.376500   1.000000  0.376500\n",
       "13        4         1   0.883333   0.470588  0.415686\n",
       "5         1         3   0.930563   0.461874  0.429803\n",
       "8         2         3   0.947175   0.461874  0.437475\n",
       "10        3         1   0.930563   0.470588  0.437912\n",
       "11        3         2   0.947175   0.477124  0.451920\n",
       "7         2         1   0.971855   0.470588  0.457343\n",
       "15        4         3   1.000000   0.461874  0.461874\n",
       "14        4         2   0.970316   0.477124  0.462961\n",
       "4         1         2   0.971855   0.477124  0.463695\n",
       "6         1         4   0.883333   1.000000  0.883333\n",
       "9         2         4   0.970316   1.000000  0.970316\n",
       "12        3         4   1.000000   1.000000  1.000000"
      ]
     },
     "execution_count": 10,
     "metadata": {},
     "output_type": "execute_result"
    }
   ],
   "source": [
    "split_rankings_df = (pd.DataFrame(min_stats, columns=['val_idx', 'test_idx', 'train_min', 'test_mean'])\n",
    " .assign(train_min = lambda df: df.train_min / df.train_min.max())\n",
    " .assign(test_mean = lambda df: df.test_mean / df.test_mean.max())\n",
    " .assign(ranking = lambda df: df.test_mean * df.train_min)\n",
    " .sort_values('ranking'))\n",
    "split_rankings_df"
   ]
  },
  {
   "cell_type": "code",
   "execution_count": 11,
   "id": "ec554be4",
   "metadata": {
    "execution": {
     "iopub.execute_input": "2025-03-17T19:10:26.062045Z",
     "iopub.status.busy": "2025-03-17T19:10:26.061471Z",
     "iopub.status.idle": "2025-03-17T19:10:26.072725Z",
     "shell.execute_reply": "2025-03-17T19:10:26.071661Z"
    },
    "papermill": {
     "duration": 0.021811,
     "end_time": "2025-03-17T19:10:26.074790",
     "exception": false,
     "start_time": "2025-03-17T19:10:26.052979",
     "status": "completed"
    },
    "tags": []
   },
   "outputs": [],
   "source": [
    "best_split = split_rankings_df.loc[split_rankings_df['ranking'].idxmax()]\n",
    "all_idxs = np.arange(adata.obs.shape[0])\n",
    "val_idxs, test_idxs = left_out_splits[best_split.val_idx.astype(int)], left_out_splits[best_split.test_idx.astype(int)]\n",
    "train_idxs = np.delete(all_idxs, np.union1d(val_idxs, test_idxs))"
   ]
  },
  {
   "cell_type": "markdown",
   "id": "60bbaba8",
   "metadata": {
    "papermill": {
     "duration": 0.014943,
     "end_time": "2025-03-17T19:10:26.110836",
     "exception": false,
     "start_time": "2025-03-17T19:10:26.095893",
     "status": "completed"
    },
    "tags": []
   },
   "source": [
    "### CHECK NUMBER OF CELLS PER SPLIT"
   ]
  },
  {
   "cell_type": "code",
   "execution_count": 12,
   "id": "2e7ac9f3",
   "metadata": {
    "execution": {
     "iopub.execute_input": "2025-03-17T19:10:26.158314Z",
     "iopub.status.busy": "2025-03-17T19:10:26.157935Z",
     "iopub.status.idle": "2025-03-17T19:10:26.310481Z",
     "shell.execute_reply": "2025-03-17T19:10:26.306771Z"
    },
    "papermill": {
     "duration": 0.185072,
     "end_time": "2025-03-17T19:10:26.317086",
     "exception": false,
     "start_time": "2025-03-17T19:10:26.132014",
     "status": "completed"
    },
    "tags": []
   },
   "outputs": [],
   "source": [
    "cell_count_df = []\n",
    "cell_count_df.append(adata.obs.iloc[train_idxs].groupby(target_y, observed=False).size().to_frame(name='cell_count').reset_index().assign(split='train'))\n",
    "cell_count_df.append(adata.obs.iloc[val_idxs].groupby(target_y, observed=False).size().to_frame(name='cell_count').reset_index().assign(split='val'))\n",
    "cell_count_df.append(adata.obs.iloc[test_idxs].groupby(target_y, observed=False).size().to_frame(name='cell_count').reset_index().assign(split='test'))\n",
    "cell_count_df = pd.concat(cell_count_df).pivot(index=target_y, columns='split', values='cell_count')\n",
    "cell_plot_data = cell_count_df.div(cell_count_df.sum(axis=1), axis=0).reset_index().melt(id_vars=target_y)\n",
    "\n",
    "pat_count_df = []\n",
    "pat_count_df.append(adata.obs.iloc[train_idxs].groupby(target_y, observed=False).sampleID.nunique().to_frame(name='patient_count').reset_index().assign(split='train'))\n",
    "pat_count_df.append(adata.obs.iloc[val_idxs].groupby(target_y, observed=False).sampleID.nunique().to_frame(name='patient_count').reset_index().assign(split='val'))\n",
    "pat_count_df.append(adata.obs.iloc[test_idxs].groupby(target_y, observed=False).sampleID.nunique().to_frame(name='patient_count').reset_index().assign(split='test'))\n",
    "pd.concat(pat_count_df).pivot(index=target_y, columns='split', values='patient_count')\n",
    "pat_count_df = pd.concat(pat_count_df).pivot(index=target_y, columns='split', values='patient_count')\n",
    "pat_count_df = pat_count_df.div(pat_count_df.sum(axis=1), axis=0)\n",
    "pat_plot_data = pat_count_df.div(pat_count_df.sum(axis=1), axis=0).reset_index().melt(id_vars=target_y)\n",
    "\n",
    "train_pats = set(adata.obs.iloc[train_idxs].sampleID)\n",
    "test_pats = set(adata.obs.iloc[test_idxs].sampleID)\n",
    "val_pats = set(adata.obs.iloc[val_idxs].sampleID)"
   ]
  },
  {
   "cell_type": "code",
   "execution_count": 13,
   "id": "057a0b20",
   "metadata": {
    "execution": {
     "iopub.execute_input": "2025-03-17T19:10:26.359666Z",
     "iopub.status.busy": "2025-03-17T19:10:26.355959Z",
     "iopub.status.idle": "2025-03-17T19:10:26.366747Z",
     "shell.execute_reply": "2025-03-17T19:10:26.366299Z"
    },
    "papermill": {
     "duration": 0.030758,
     "end_time": "2025-03-17T19:10:26.367563",
     "exception": false,
     "start_time": "2025-03-17T19:10:26.336805",
     "status": "completed"
    },
    "tags": []
   },
   "outputs": [],
   "source": [
    "assert val_pats.intersection(test_pats) != {}\n",
    "assert train_pats.intersection(test_pats) != {}\n",
    "assert train_pats.intersection(val_pats) != {}"
   ]
  },
  {
   "cell_type": "markdown",
   "id": "921975ac",
   "metadata": {
    "papermill": {
     "duration": 0.018066,
     "end_time": "2025-03-17T19:10:26.405194",
     "exception": false,
     "start_time": "2025-03-17T19:10:26.387128",
     "status": "completed"
    },
    "tags": []
   },
   "source": [
    "### PLOT PATIENT AND CELL DISTRIBUTION ACROSS TRAIN, TEST, AND VALIDATION SETS PER DISEASE\n",
    "### CHECK THAT THEY APPROXIMATE EXPECTATION"
   ]
  },
  {
   "cell_type": "code",
   "execution_count": 14,
   "id": "55393551",
   "metadata": {
    "execution": {
     "iopub.execute_input": "2025-03-17T19:10:26.448244Z",
     "iopub.status.busy": "2025-03-17T19:10:26.447434Z",
     "iopub.status.idle": "2025-03-17T19:10:28.783114Z",
     "shell.execute_reply": "2025-03-17T19:10:28.782657Z"
    },
    "papermill": {
     "duration": 2.355442,
     "end_time": "2025-03-17T19:10:28.783982",
     "exception": false,
     "start_time": "2025-03-17T19:10:26.428540",
     "status": "completed"
    },
    "tags": []
   },
   "outputs": [
    {
     "data": {
      "image/png": "[encoded data removed]",
      "text/plain": [
       "<Figure size 2000x600 with 2 Axes>"
      ]
     },
     "metadata": {},
     "output_type": "display_data"
    }
   ],
   "source": [
    "_, axs = plt.subplots(1, 2, figsize=(20, 6))\n",
    "sns.barplot(x=target_y, y='value', hue='split', data=cell_plot_data, ax=axs[0])\n",
    "axs[0].set_title('Cell distribution')\n",
    "axs[0].tick_params(axis='x', labelrotation=90)\n",
    "sns.barplot(x=target_y, y='value', hue='split', data=pat_plot_data, ax=axs[1])\n",
    "axs[1].set_title('Patients distribution')\n",
    "axs[1].tick_params(axis='x', labelrotation=90)\n",
    "\n",
    "os.makedirs(here(f\"03_downstream_analysis/08_gene_importance/results/targetY_{target_y}/01_split_plots/\"), exist_ok=True)\n",
    "\n",
    "plt.savefig(here(f'03_downstream_analysis/08_gene_importance/results/targetY_{target_y}/01_split_plots/{RUN_NAME}{CELL_TYPE}_split_quality.pdf'), bbox_inches='tight', dpi=300)"
   ]
  },
  {
   "cell_type": "code",
   "execution_count": 15,
   "id": "11db34e0",
   "metadata": {
    "execution": {
     "iopub.execute_input": "2025-03-17T19:10:28.800464Z",
     "iopub.status.busy": "2025-03-17T19:10:28.800111Z",
     "iopub.status.idle": "2025-03-17T19:10:28.823915Z",
     "shell.execute_reply": "2025-03-17T19:10:28.823365Z"
    },
    "papermill": {
     "duration": 0.033397,
     "end_time": "2025-03-17T19:10:28.825423",
     "exception": false,
     "start_time": "2025-03-17T19:10:28.792026",
     "status": "completed"
    },
    "tags": []
   },
   "outputs": [],
   "source": [
    "os.makedirs(here(f\"03_downstream_analysis/08_gene_importance/results/targetY_{target_y}/02_preprocessing/\"), exist_ok=True)\n",
    "\n",
    "np.save(here(f\"03_downstream_analysis/08_gene_importance/results/targetY_{target_y}/02_preprocessing/{RUN_NAME}{CELL_TYPE}_train_idxs.npy\"), train_idxs)\n",
    "np.save(here(f\"03_downstream_analysis/08_gene_importance/results/targetY_{target_y}/02_preprocessing/{RUN_NAME}{CELL_TYPE}_val_idxs.npy\"), val_idxs)\n",
    "np.save(here(f\"03_downstream_analysis/08_gene_importance/results/targetY_{target_y}/02_preprocessing/{RUN_NAME}{CELL_TYPE}_test_idxs.npy\"), test_idxs)"
   ]
  },
  {
   "cell_type": "markdown",
   "id": "6e964a02",
   "metadata": {
    "papermill": {
     "duration": 0.00788,
     "end_time": "2025-03-17T19:10:28.847282",
     "exception": false,
     "start_time": "2025-03-17T19:10:28.839402",
     "status": "completed"
    },
    "tags": []
   },
   "source": [
    "### SUBSET DATASET INTO TRAIN/TEST/VAL SPLITS"
   ]
  },
  {
   "cell_type": "code",
   "execution_count": 16,
   "id": "3f644e1b",
   "metadata": {
    "execution": {
     "iopub.execute_input": "2025-03-17T19:10:28.863940Z",
     "iopub.status.busy": "2025-03-17T19:10:28.863436Z",
     "iopub.status.idle": "2025-03-17T19:11:05.612568Z",
     "shell.execute_reply": "2025-03-17T19:11:05.612048Z"
    },
    "papermill": {
     "duration": 36.771167,
     "end_time": "2025-03-17T19:11:05.626096",
     "exception": false,
     "start_time": "2025-03-17T19:10:28.854929",
     "status": "completed"
    },
    "tags": []
   },
   "outputs": [
    {
     "data": {
      "text/plain": [
       "((129095, 935), (42286, 935), (42395, 935))"
      ]
     },
     "execution_count": 16,
     "metadata": {},
     "output_type": "execute_result"
    }
   ],
   "source": [
    "X_train = adata.X[train_idxs]\n",
    "X_test = adata.X[test_idxs]\n",
    "X_val = adata.X[val_idxs]\n",
    "X_train.shape, X_test.shape, X_val.shape"
   ]
  },
  {
   "cell_type": "code",
   "execution_count": 17,
   "id": "ebb50f77",
   "metadata": {
    "execution": {
     "iopub.execute_input": "2025-03-17T19:11:05.665052Z",
     "iopub.status.busy": "2025-03-17T19:11:05.664525Z",
     "iopub.status.idle": "2025-03-17T19:11:05.713793Z",
     "shell.execute_reply": "2025-03-17T19:11:05.713161Z"
    },
    "papermill": {
     "duration": 0.070833,
     "end_time": "2025-03-17T19:11:05.714621",
     "exception": false,
     "start_time": "2025-03-17T19:11:05.643788",
     "status": "completed"
    },
    "tags": []
   },
   "outputs": [
    {
     "data": {
      "text/plain": [
       "((129095,), (42286,), (42395,))"
      ]
     },
     "execution_count": 17,
     "metadata": {},
     "output_type": "execute_result"
    }
   ],
   "source": [
    "y_train = adata.obs.iloc[train_idxs][target_y].values.astype(str)\n",
    "y_test = adata.obs.iloc[test_idxs][target_y].values.astype(str)\n",
    "y_val = adata.obs.iloc[val_idxs][target_y].values.astype(str)\n",
    "y_train.shape, y_test.shape, y_val.shape "
   ]
  },
  {
   "cell_type": "code",
   "execution_count": 18,
   "id": "38e30e4b",
   "metadata": {
    "execution": {
     "iopub.execute_input": "2025-03-17T19:11:05.750468Z",
     "iopub.status.busy": "2025-03-17T19:11:05.750155Z",
     "iopub.status.idle": "2025-03-17T19:11:05.886798Z",
     "shell.execute_reply": "2025-03-17T19:11:05.886306Z"
    },
    "papermill": {
     "duration": 0.159669,
     "end_time": "2025-03-17T19:11:05.888104",
     "exception": false,
     "start_time": "2025-03-17T19:11:05.728435",
     "status": "completed"
    },
    "tags": []
   },
   "outputs": [],
   "source": [
    "lenc = LabelEncoder()\n",
    "y_train_enc = lenc.fit_transform(y_train)\n",
    "y_val_enc = lenc.transform(y_val)\n",
    "y_test_enc = lenc.transform(y_test)"
   ]
  },
  {
   "cell_type": "markdown",
   "id": "4796b902",
   "metadata": {
    "papermill": {
     "duration": 0.015542,
     "end_time": "2025-03-17T19:11:05.921603",
     "exception": false,
     "start_time": "2025-03-17T19:11:05.906061",
     "status": "completed"
    },
    "tags": []
   },
   "source": [
    "### GENERATE F1 "
   ]
  },
  {
   "cell_type": "code",
   "execution_count": 19,
   "id": "a5decc2b",
   "metadata": {
    "execution": {
     "iopub.execute_input": "2025-03-17T19:11:05.980213Z",
     "iopub.status.busy": "2025-03-17T19:11:05.979941Z",
     "iopub.status.idle": "2025-03-17T19:11:05.990591Z",
     "shell.execute_reply": "2025-03-17T19:11:05.990053Z"
    },
    "papermill": {
     "duration": 0.046629,
     "end_time": "2025-03-17T19:11:05.991793",
     "exception": false,
     "start_time": "2025-03-17T19:11:05.945164",
     "status": "completed"
    },
    "tags": []
   },
   "outputs": [],
   "source": [
    "def custom_f1_score(y_true, y_pred):\n",
    "    return -f1_score(y_true, y_pred.argmax(1), average='weighted')"
   ]
  },
  {
   "cell_type": "code",
   "execution_count": 20,
   "id": "8f68d6a1",
   "metadata": {
    "execution": {
     "iopub.execute_input": "2025-03-17T19:11:06.019534Z",
     "iopub.status.busy": "2025-03-17T19:11:06.019327Z",
     "iopub.status.idle": "2025-03-17T19:11:06.029326Z",
     "shell.execute_reply": "2025-03-17T19:11:06.028955Z"
    },
    "papermill": {
     "duration": 0.027368,
     "end_time": "2025-03-17T19:11:06.030054",
     "exception": false,
     "start_time": "2025-03-17T19:11:06.002686",
     "status": "completed"
    },
    "tags": []
   },
   "outputs": [],
   "source": [
    "eval_metric=custom_f1_score\n",
    "eval_metric_name='custom_f1_score'\n",
    "\n",
    "def objective(trial):\n",
    "    params = {\n",
    "        'sampling_method': 'gradient_based',\n",
    "        'n_estimators': 1500,\n",
    "        'max_depth': trial.suggest_int('max_depth', 3, 20),\n",
    "        'min_child_weight': trial.suggest_int('min_child_weight', 1, 250),\n",
    "        'subsample': trial.suggest_float('subsample', 0.1, 1.0),\n",
    "        'colsample_bynode': trial.suggest_float('colsample_bynode', 0.1, 1.0),\n",
    "        'learning_rate': trial.suggest_float('learning_rate', 1e-3, 5e-1, log=True),\n",
    "    }\n",
    "    pruning_callback = optuna.integration.XGBoostPruningCallback(trial, f'validation_0-{eval_metric_name}')\n",
    "    xgb = xgboost.XGBClassifier(\n",
    "        device='gpu',\n",
    "        eval_metric=eval_metric,\n",
    "        early_stopping_rounds=20,\n",
    "        callbacks=[pruning_callback],\n",
    "        **params\n",
    "    )\n",
    "    xgb.fit(\n",
    "        X_train, \n",
    "        y_train_enc, \n",
    "        verbose=0,\n",
    "        eval_set=[(X_val, y_val_enc)],\n",
    "    )\n",
    "    trial.set_user_attr('best_iteration', xgb.best_iteration)\n",
    "\n",
    "    return xgb.best_score"
   ]
  },
  {
   "cell_type": "code",
   "execution_count": 21,
   "id": "b00e4a5d",
   "metadata": {
    "execution": {
     "iopub.execute_input": "2025-03-17T19:11:06.061287Z",
     "iopub.status.busy": "2025-03-17T19:11:06.060885Z",
     "iopub.status.idle": "2025-03-17T19:14:23.003604Z",
     "shell.execute_reply": "2025-03-17T19:14:23.002606Z"
    },
    "papermill": {
     "duration": 196.963271,
     "end_time": "2025-03-17T19:14:23.009944",
     "exception": false,
     "start_time": "2025-03-17T19:11:06.046673",
     "status": "completed"
    },
    "tags": []
   },
   "outputs": [
    {
     "name": "stderr",
     "output_type": "stream",
     "text": [
      "[I 2025-03-17 19:11:06,063] A new study created in memory with name: no-name-6dc8ca6e-f55d-4f88-9b38-2ce0010dc788\n"
     ]
    },
    {
     "name": "stderr",
     "output_type": "stream",
     "text": [
      "/tmp/ipykernel_1080144/350114600.py:4: ExperimentalWarning: WeightsAndBiasesCallback is experimental (supported from v2.9.0). The interface can change in the future.\n",
      "  wandbc = optuna.integration.WeightsAndBiasesCallback(wandb_kwargs=wandb_kwargs)\n",
      "\u001b[34m\u001b[1mwandb\u001b[0m: Using wandb-core as the SDK backend.  Please refer to https://wandb.me/wandb-core for more information.\n"
     ]
    },
    {
     "name": "stderr",
     "output_type": "stream",
     "text": [
      "\u001b[34m\u001b[1mwandb\u001b[0m: Currently logged in as: \u001b[33mdav1989\u001b[0m (\u001b[33minflammation\u001b[0m) to \u001b[32mhttps://api.wandb.ai\u001b[0m. Use \u001b[1m`wandb login --relogin`\u001b[0m to force relogin\n"
     ]
    },
    {
     "name": "stderr",
     "output_type": "stream",
     "text": [
      "\u001b[34m\u001b[1mwandb\u001b[0m: Tracking run with wandb version 0.19.8\n"
     ]
    },
    {
     "name": "stderr",
     "output_type": "stream",
     "text": [
      "\u001b[34m\u001b[1mwandb\u001b[0m: Run data is saved locally in \u001b[35m\u001b[1m/scratch_isilon/groups/singlecell/shared/projects/Inflammation-PBMCs-Atlas/03_downstream_analysis/08_gene_importance/wandb/run-20250317_191109-zzy7ppq5\u001b[0m\n",
      "\u001b[34m\u001b[1mwandb\u001b[0m: Run \u001b[1m`wandb offline`\u001b[0m to turn off syncing.\n"
     ]
    },
    {
     "name": "stderr",
     "output_type": "stream",
     "text": [
      "\u001b[34m\u001b[1mwandb\u001b[0m: Syncing run \u001b[33mstudyID_T_CD8_Naive\u001b[0m\n"
     ]
    },
    {
     "name": "stderr",
     "output_type": "stream",
     "text": [
      "\u001b[34m\u001b[1mwandb\u001b[0m: ⭐️ View project at \u001b[34m\u001b[4mhttps://wandb.ai/inflammation/xgboost\u001b[0m\n"
     ]
    },
    {
     "name": "stderr",
     "output_type": "stream",
     "text": [
      "\u001b[34m\u001b[1mwandb\u001b[0m: 🚀 View run at \u001b[34m\u001b[4mhttps://wandb.ai/inflammation/xgboost/runs/zzy7ppq5\u001b[0m\n"
     ]
    },
    {
     "name": "stderr",
     "output_type": "stream",
     "text": [
      "[I 2025-03-17 19:11:19,332] Trial 0 finished with value: -0.962716 and parameters: {'max_depth': 9, 'min_child_weight': 238, 'subsample': 0.7587945476302645, 'colsample_bynode': 0.6387926357773329, 'learning_rate': 0.0026368755339723046}. Best is trial 0 with value: -0.962716.\n"
     ]
    },
    {
     "name": "stderr",
     "output_type": "stream",
     "text": [
      "[I 2025-03-17 19:11:26,736] Trial 1 finished with value: -0.972164 and parameters: {'max_depth': 5, 'min_child_weight': 15, 'subsample': 0.8795585311974417, 'colsample_bynode': 0.6410035105688879, 'learning_rate': 0.08148293210105287}. Best is trial 1 with value: -0.972164.\n"
     ]
    },
    {
     "name": "stderr",
     "output_type": "stream",
     "text": [
      "[I 2025-03-17 19:11:34,411] Trial 2 finished with value: -0.975384 and parameters: {'max_depth': 3, 'min_child_weight': 243, 'subsample': 0.8491983767203796, 'colsample_bynode': 0.29110519961044856, 'learning_rate': 0.003095566460242371}. Best is trial 2 with value: -0.975384.\n"
     ]
    },
    {
     "name": "stderr",
     "output_type": "stream",
     "text": [
      "[I 2025-03-17 19:11:41,570] Trial 3 finished with value: -0.961419 and parameters: {'max_depth': 6, 'min_child_weight': 77, 'subsample': 0.5722807884690141, 'colsample_bynode': 0.48875051677790415, 'learning_rate': 0.006109683510122491}. Best is trial 2 with value: -0.975384.\n"
     ]
    },
    {
     "name": "stderr",
     "output_type": "stream",
     "text": [
      "[I 2025-03-17 19:11:47,868] Trial 4 finished with value: -0.972535 and parameters: {'max_depth': 14, 'min_child_weight': 35, 'subsample': 0.3629301836816964, 'colsample_bynode': 0.4297256589643226, 'learning_rate': 0.01701841881702917}. Best is trial 2 with value: -0.975384.\n"
     ]
    },
    {
     "name": "stderr",
     "output_type": "stream",
     "text": [
      "[I 2025-03-17 19:11:51,446] Trial 5 pruned. Trial was pruned at iteration 3.\n"
     ]
    },
    {
     "name": "stderr",
     "output_type": "stream",
     "text": [
      "[I 2025-03-17 19:11:54,503] Trial 6 pruned. Trial was pruned at iteration 0.\n"
     ]
    },
    {
     "name": "stderr",
     "output_type": "stream",
     "text": [
      "[I 2025-03-17 19:11:57,330] Trial 7 pruned. Trial was pruned at iteration 1.\n"
     ]
    },
    {
     "name": "stderr",
     "output_type": "stream",
     "text": [
      "[I 2025-03-17 19:12:00,412] Trial 8 pruned. Trial was pruned at iteration 0.\n"
     ]
    },
    {
     "name": "stderr",
     "output_type": "stream",
     "text": [
      "[I 2025-03-17 19:12:03,749] Trial 9 pruned. Trial was pruned at iteration 1.\n"
     ]
    },
    {
     "name": "stderr",
     "output_type": "stream",
     "text": [
      "[I 2025-03-17 19:12:06,601] Trial 10 pruned. Trial was pruned at iteration 0.\n"
     ]
    },
    {
     "name": "stderr",
     "output_type": "stream",
     "text": [
      "[I 2025-03-17 19:12:09,635] Trial 11 pruned. Trial was pruned at iteration 0.\n"
     ]
    },
    {
     "name": "stderr",
     "output_type": "stream",
     "text": [
      "[I 2025-03-17 19:12:13,095] Trial 12 pruned. Trial was pruned at iteration 0.\n"
     ]
    },
    {
     "name": "stderr",
     "output_type": "stream",
     "text": [
      "[I 2025-03-17 19:12:16,034] Trial 13 pruned. Trial was pruned at iteration 0.\n"
     ]
    },
    {
     "name": "stderr",
     "output_type": "stream",
     "text": [
      "[I 2025-03-17 19:12:19,268] Trial 14 pruned. Trial was pruned at iteration 1.\n"
     ]
    },
    {
     "name": "stderr",
     "output_type": "stream",
     "text": [
      "[I 2025-03-17 19:12:22,416] Trial 15 pruned. Trial was pruned at iteration 0.\n"
     ]
    },
    {
     "name": "stderr",
     "output_type": "stream",
     "text": [
      "[I 2025-03-17 19:12:25,823] Trial 16 pruned. Trial was pruned at iteration 1.\n"
     ]
    },
    {
     "name": "stderr",
     "output_type": "stream",
     "text": [
      "[I 2025-03-17 19:12:28,682] Trial 17 pruned. Trial was pruned at iteration 1.\n"
     ]
    },
    {
     "name": "stderr",
     "output_type": "stream",
     "text": [
      "[I 2025-03-17 19:12:31,626] Trial 18 pruned. Trial was pruned at iteration 0.\n"
     ]
    },
    {
     "name": "stderr",
     "output_type": "stream",
     "text": [
      "[I 2025-03-17 19:12:34,914] Trial 19 pruned. Trial was pruned at iteration 0.\n"
     ]
    },
    {
     "name": "stderr",
     "output_type": "stream",
     "text": [
      "[I 2025-03-17 19:12:38,183] Trial 20 pruned. Trial was pruned at iteration 3.\n"
     ]
    },
    {
     "name": "stderr",
     "output_type": "stream",
     "text": [
      "[I 2025-03-17 19:12:41,141] Trial 21 pruned. Trial was pruned at iteration 0.\n"
     ]
    },
    {
     "name": "stderr",
     "output_type": "stream",
     "text": [
      "[I 2025-03-17 19:12:44,546] Trial 22 pruned. Trial was pruned at iteration 0.\n"
     ]
    },
    {
     "name": "stderr",
     "output_type": "stream",
     "text": [
      "[I 2025-03-17 19:12:52,777] Trial 23 finished with value: -0.983643 and parameters: {'max_depth': 4, 'min_child_weight': 32, 'subsample': 0.8583921597212885, 'colsample_bynode': 0.5037718685573817, 'learning_rate': 0.28709646695253643}. Best is trial 23 with value: -0.983643.\n"
     ]
    },
    {
     "name": "stderr",
     "output_type": "stream",
     "text": [
      "[I 2025-03-17 19:12:56,050] Trial 24 pruned. Trial was pruned at iteration 0.\n"
     ]
    },
    {
     "name": "stderr",
     "output_type": "stream",
     "text": [
      "[I 2025-03-17 19:13:04,168] Trial 25 pruned. Trial was pruned at iteration 41.\n"
     ]
    },
    {
     "name": "stderr",
     "output_type": "stream",
     "text": [
      "[I 2025-03-17 19:13:07,437] Trial 26 pruned. Trial was pruned at iteration 0.\n"
     ]
    },
    {
     "name": "stderr",
     "output_type": "stream",
     "text": [
      "[I 2025-03-17 19:13:10,451] Trial 27 pruned. Trial was pruned at iteration 0.\n"
     ]
    },
    {
     "name": "stderr",
     "output_type": "stream",
     "text": [
      "[I 2025-03-17 19:13:13,329] Trial 28 pruned. Trial was pruned at iteration 0.\n"
     ]
    },
    {
     "name": "stderr",
     "output_type": "stream",
     "text": [
      "[I 2025-03-17 19:13:16,572] Trial 29 pruned. Trial was pruned at iteration 0.\n"
     ]
    },
    {
     "name": "stderr",
     "output_type": "stream",
     "text": [
      "[I 2025-03-17 19:13:19,836] Trial 30 pruned. Trial was pruned at iteration 0.\n"
     ]
    },
    {
     "name": "stderr",
     "output_type": "stream",
     "text": [
      "[I 2025-03-17 19:13:22,751] Trial 31 pruned. Trial was pruned at iteration 1.\n"
     ]
    },
    {
     "name": "stderr",
     "output_type": "stream",
     "text": [
      "[I 2025-03-17 19:13:25,774] Trial 32 pruned. Trial was pruned at iteration 0.\n"
     ]
    },
    {
     "name": "stderr",
     "output_type": "stream",
     "text": [
      "[I 2025-03-17 19:13:29,153] Trial 33 pruned. Trial was pruned at iteration 0.\n"
     ]
    },
    {
     "name": "stderr",
     "output_type": "stream",
     "text": [
      "[I 2025-03-17 19:13:32,110] Trial 34 pruned. Trial was pruned at iteration 0.\n"
     ]
    },
    {
     "name": "stderr",
     "output_type": "stream",
     "text": [
      "[I 2025-03-17 19:13:35,224] Trial 35 pruned. Trial was pruned at iteration 0.\n"
     ]
    },
    {
     "name": "stderr",
     "output_type": "stream",
     "text": [
      "[I 2025-03-17 19:13:39,024] Trial 36 pruned. Trial was pruned at iteration 3.\n"
     ]
    },
    {
     "name": "stderr",
     "output_type": "stream",
     "text": [
      "[I 2025-03-17 19:13:42,417] Trial 37 pruned. Trial was pruned at iteration 0.\n"
     ]
    },
    {
     "name": "stderr",
     "output_type": "stream",
     "text": [
      "[I 2025-03-17 19:13:45,318] Trial 38 pruned. Trial was pruned at iteration 0.\n"
     ]
    },
    {
     "name": "stderr",
     "output_type": "stream",
     "text": [
      "[I 2025-03-17 19:13:48,469] Trial 39 pruned. Trial was pruned at iteration 0.\n"
     ]
    },
    {
     "name": "stderr",
     "output_type": "stream",
     "text": [
      "[I 2025-03-17 19:13:51,654] Trial 40 pruned. Trial was pruned at iteration 0.\n"
     ]
    },
    {
     "name": "stderr",
     "output_type": "stream",
     "text": [
      "[I 2025-03-17 19:13:54,770] Trial 41 pruned. Trial was pruned at iteration 0.\n"
     ]
    },
    {
     "name": "stderr",
     "output_type": "stream",
     "text": [
      "[I 2025-03-17 19:13:57,722] Trial 42 pruned. Trial was pruned at iteration 1.\n"
     ]
    },
    {
     "name": "stderr",
     "output_type": "stream",
     "text": [
      "[I 2025-03-17 19:14:00,980] Trial 43 pruned. Trial was pruned at iteration 0.\n"
     ]
    },
    {
     "name": "stderr",
     "output_type": "stream",
     "text": [
      "[I 2025-03-17 19:14:04,152] Trial 44 pruned. Trial was pruned at iteration 0.\n"
     ]
    },
    {
     "name": "stderr",
     "output_type": "stream",
     "text": [
      "[I 2025-03-17 19:14:07,153] Trial 45 pruned. Trial was pruned at iteration 0.\n"
     ]
    },
    {
     "name": "stderr",
     "output_type": "stream",
     "text": [
      "[I 2025-03-17 19:14:10,471] Trial 46 pruned. Trial was pruned at iteration 1.\n"
     ]
    },
    {
     "name": "stderr",
     "output_type": "stream",
     "text": [
      "[I 2025-03-17 19:14:13,681] Trial 47 pruned. Trial was pruned at iteration 0.\n"
     ]
    },
    {
     "name": "stderr",
     "output_type": "stream",
     "text": [
      "[I 2025-03-17 19:14:16,634] Trial 48 pruned. Trial was pruned at iteration 1.\n"
     ]
    },
    {
     "name": "stderr",
     "output_type": "stream",
     "text": [
      "[I 2025-03-17 19:14:22,854] Trial 49 finished with value: -0.979976 and parameters: {'max_depth': 6, 'min_child_weight': 7, 'subsample': 0.4315900208893261, 'colsample_bynode': 0.2695551141938907, 'learning_rate': 0.0061754496810483605}. Best is trial 23 with value: -0.983643.\n"
     ]
    }
   ],
   "source": [
    "sampler = optuna.samplers.TPESampler(seed=42)\n",
    "study = optuna.create_study(direction='minimize', sampler=sampler)\n",
    "wandb_kwargs = {\"project\": \"xgboost\", \"name\": f\"{RUN_NAME}{CELL_TYPE}\"}\n",
    "wandbc = optuna.integration.WeightsAndBiasesCallback(wandb_kwargs=wandb_kwargs)\n",
    "study.optimize(objective, n_trials=N_TRIALS, callbacks=[wandbc], gc_after_trial=True)"
   ]
  },
  {
   "cell_type": "code",
   "execution_count": 22,
   "id": "64db7167",
   "metadata": {
    "execution": {
     "iopub.execute_input": "2025-03-17T19:14:23.031416Z",
     "iopub.status.busy": "2025-03-17T19:14:23.030718Z",
     "iopub.status.idle": "2025-03-17T19:14:23.059395Z",
     "shell.execute_reply": "2025-03-17T19:14:23.058802Z"
    },
    "papermill": {
     "duration": 0.040444,
     "end_time": "2025-03-17T19:14:23.060516",
     "exception": false,
     "start_time": "2025-03-17T19:14:23.020072",
     "status": "completed"
    },
    "tags": []
   },
   "outputs": [
    {
     "data": {
      "text/plain": [
       "['/scratch_isilon/groups/singlecell/shared/projects/Inflammation-PBMCs-Atlas/03_downstream_analysis/08_gene_importance/results/targetY_studyID/03_xgboost/study/studyID_T_CD8_Naive_xgboost.pkl']"
      ]
     },
     "execution_count": 22,
     "metadata": {},
     "output_type": "execute_result"
    }
   ],
   "source": [
    "os.makedirs(here(f\"03_downstream_analysis/08_gene_importance/results/targetY_{target_y}/03_xgboost/study/\"), exist_ok=True)\n",
    "\n",
    "joblib.dump(study, here(f'03_downstream_analysis/08_gene_importance/results/targetY_{target_y}/03_xgboost/study/{RUN_NAME}{CELL_TYPE}_xgboost.pkl'))"
   ]
  },
  {
   "cell_type": "code",
   "execution_count": 23,
   "id": "457c94ea",
   "metadata": {
    "execution": {
     "iopub.execute_input": "2025-03-17T19:14:23.096913Z",
     "iopub.status.busy": "2025-03-17T19:14:23.096586Z",
     "iopub.status.idle": "2025-03-17T19:14:27.952305Z",
     "shell.execute_reply": "2025-03-17T19:14:27.951675Z"
    },
    "papermill": {
     "duration": 4.877599,
     "end_time": "2025-03-17T19:14:27.955760",
     "exception": false,
     "start_time": "2025-03-17T19:14:23.078161",
     "status": "completed"
    },
    "tags": []
   },
   "outputs": [],
   "source": [
    "os.makedirs(here(f\"03_downstream_analysis/08_gene_importance/results/targetY_{target_y}/03_xgboost/parallel_coordinate/\"), exist_ok=True)\n",
    "\n",
    "fig = optuna.visualization.plot_parallel_coordinate(study)\n",
    "fig.write_image(here(f'03_downstream_analysis/08_gene_importance/results/targetY_{target_y}/03_xgboost/parallel_coordinate/{RUN_NAME}{CELL_TYPE}_pcoord.pdf'))"
   ]
  },
  {
   "cell_type": "code",
   "execution_count": 24,
   "id": "661f6858",
   "metadata": {
    "editable": true,
    "execution": {
     "iopub.execute_input": "2025-03-17T19:14:27.994833Z",
     "iopub.status.busy": "2025-03-17T19:14:27.994037Z",
     "iopub.status.idle": "2025-03-17T19:14:36.034706Z",
     "shell.execute_reply": "2025-03-17T19:14:36.034200Z"
    },
    "papermill": {
     "duration": 8.060769,
     "end_time": "2025-03-17T19:14:36.035858",
     "exception": false,
     "start_time": "2025-03-17T19:14:27.975089",
     "status": "completed"
    },
    "scrolled": true,
    "slideshow": {
     "slide_type": ""
    },
    "tags": []
   },
   "outputs": [
    {
     "name": "stdout",
     "output_type": "stream",
     "text": [
      "[0]\tvalidation_0-mlogloss:0.96090\tvalidation_0-custom_f1_score:-0.95424\n"
     ]
    },
    {
     "name": "stdout",
     "output_type": "stream",
     "text": [
      "[1]\tvalidation_0-mlogloss:0.69287\tvalidation_0-custom_f1_score:-0.98179\n"
     ]
    },
    {
     "name": "stdout",
     "output_type": "stream",
     "text": [
      "[2]\tvalidation_0-mlogloss:0.51887\tvalidation_0-custom_f1_score:-0.98511\n"
     ]
    },
    {
     "name": "stdout",
     "output_type": "stream",
     "text": [
      "[3]\tvalidation_0-mlogloss:0.40138\tvalidation_0-custom_f1_score:-0.98564\n"
     ]
    },
    {
     "name": "stdout",
     "output_type": "stream",
     "text": [
      "[4]\tvalidation_0-mlogloss:0.31094\tvalidation_0-custom_f1_score:-0.98627\n"
     ]
    },
    {
     "name": "stdout",
     "output_type": "stream",
     "text": [
      "[5]\tvalidation_0-mlogloss:0.24468\tvalidation_0-custom_f1_score:-0.98636\n"
     ]
    },
    {
     "name": "stdout",
     "output_type": "stream",
     "text": [
      "[6]\tvalidation_0-mlogloss:0.19580\tvalidation_0-custom_f1_score:-0.98628\n"
     ]
    },
    {
     "name": "stdout",
     "output_type": "stream",
     "text": [
      "[7]\tvalidation_0-mlogloss:0.15900\tvalidation_0-custom_f1_score:-0.98589\n"
     ]
    },
    {
     "name": "stdout",
     "output_type": "stream",
     "text": [
      "[8]\tvalidation_0-mlogloss:0.12916\tvalidation_0-custom_f1_score:-0.98623\n"
     ]
    },
    {
     "name": "stdout",
     "output_type": "stream",
     "text": [
      "[9]\tvalidation_0-mlogloss:0.10833\tvalidation_0-custom_f1_score:-0.98560\n"
     ]
    },
    {
     "name": "stdout",
     "output_type": "stream",
     "text": [
      "[10]\tvalidation_0-mlogloss:0.09330\tvalidation_0-custom_f1_score:-0.98305\n"
     ]
    },
    {
     "name": "stdout",
     "output_type": "stream",
     "text": [
      "[11]\tvalidation_0-mlogloss:0.08015\tvalidation_0-custom_f1_score:-0.98307\n"
     ]
    },
    {
     "name": "stdout",
     "output_type": "stream",
     "text": [
      "[12]\tvalidation_0-mlogloss:0.06943\tvalidation_0-custom_f1_score:-0.98420\n"
     ]
    },
    {
     "name": "stdout",
     "output_type": "stream",
     "text": [
      "[13]\tvalidation_0-mlogloss:0.06172\tvalidation_0-custom_f1_score:-0.98328\n"
     ]
    },
    {
     "name": "stdout",
     "output_type": "stream",
     "text": [
      "[14]\tvalidation_0-mlogloss:0.05468\tvalidation_0-custom_f1_score:-0.98415\n"
     ]
    },
    {
     "name": "stdout",
     "output_type": "stream",
     "text": [
      "[15]\tvalidation_0-mlogloss:0.04882\tvalidation_0-custom_f1_score:-0.98575\n"
     ]
    },
    {
     "name": "stdout",
     "output_type": "stream",
     "text": [
      "[16]\tvalidation_0-mlogloss:0.04376\tvalidation_0-custom_f1_score:-0.98663\n"
     ]
    },
    {
     "name": "stdout",
     "output_type": "stream",
     "text": [
      "[17]\tvalidation_0-mlogloss:0.04193\tvalidation_0-custom_f1_score:-0.98623\n"
     ]
    },
    {
     "name": "stdout",
     "output_type": "stream",
     "text": [
      "[18]\tvalidation_0-mlogloss:0.03856\tvalidation_0-custom_f1_score:-0.98681\n"
     ]
    },
    {
     "name": "stdout",
     "output_type": "stream",
     "text": [
      "[19]\tvalidation_0-mlogloss:0.03712\tvalidation_0-custom_f1_score:-0.98693\n"
     ]
    },
    {
     "name": "stdout",
     "output_type": "stream",
     "text": [
      "[20]\tvalidation_0-mlogloss:0.03487\tvalidation_0-custom_f1_score:-0.98713\n"
     ]
    },
    {
     "name": "stdout",
     "output_type": "stream",
     "text": [
      "[21]\tvalidation_0-mlogloss:0.03313\tvalidation_0-custom_f1_score:-0.98756\n"
     ]
    },
    {
     "name": "stdout",
     "output_type": "stream",
     "text": [
      "[22]\tvalidation_0-mlogloss:0.03292\tvalidation_0-custom_f1_score:-0.98728\n"
     ]
    },
    {
     "name": "stdout",
     "output_type": "stream",
     "text": [
      "[23]\tvalidation_0-mlogloss:0.03211\tvalidation_0-custom_f1_score:-0.98746\n"
     ]
    },
    {
     "name": "stdout",
     "output_type": "stream",
     "text": [
      "[24]\tvalidation_0-mlogloss:0.03165\tvalidation_0-custom_f1_score:-0.98743\n"
     ]
    },
    {
     "name": "stdout",
     "output_type": "stream",
     "text": [
      "[25]\tvalidation_0-mlogloss:0.03140\tvalidation_0-custom_f1_score:-0.98738\n"
     ]
    },
    {
     "data": {
      "text/html": [
       "<style>#sk-container-id-1 {\n",
       "  /* Definition of color scheme common for light and dark mode */\n",
       "  --sklearn-color-text: black;\n",
       "  --sklearn-color-line: gray;\n",
       "  /* Definition of color scheme for unfitted estimators */\n",
       "  --sklearn-color-unfitted-level-0: #fff5e6;\n",
       "  --sklearn-color-unfitted-level-1: #f6e4d2;\n",
       "  --sklearn-color-unfitted-level-2: #ffe0b3;\n",
       "  --sklearn-color-unfitted-level-3: chocolate;\n",
       "  /* Definition of color scheme for fitted estimators */\n",
       "  --sklearn-color-fitted-level-0: #f0f8ff;\n",
       "  --sklearn-color-fitted-level-1: #d4ebff;\n",
       "  --sklearn-color-fitted-level-2: #b3dbfd;\n",
       "  --sklearn-color-fitted-level-3: cornflowerblue;\n",
       "\n",
       "  /* Specific color for light theme */\n",
       "  --sklearn-color-text-on-default-background: var(--sg-text-color, var(--theme-code-foreground, var(--jp-content-font-color1, black)));\n",
       "  --sklearn-color-background: var(--sg-background-color, var(--theme-background, var(--jp-layout-color0, white)));\n",
       "  --sklearn-color-border-box: var(--sg-text-color, var(--theme-code-foreground, var(--jp-content-font-color1, black)));\n",
       "  --sklearn-color-icon: #696969;\n",
       "\n",
       "  @media (prefers-color-scheme: dark) {\n",
       "    /* Redefinition of color scheme for dark theme */\n",
       "    --sklearn-color-text-on-default-background: var(--sg-text-color, var(--theme-code-foreground, var(--jp-content-font-color1, white)));\n",
       "    --sklearn-color-background: var(--sg-background-color, var(--theme-background, var(--jp-layout-color0, #111)));\n",
       "    --sklearn-color-border-box: var(--sg-text-color, var(--theme-code-foreground, var(--jp-content-font-color1, white)));\n",
       "    --sklearn-color-icon: #878787;\n",
       "  }\n",
       "}\n",
       "\n",
       "#sk-container-id-1 {\n",
       "  color: var(--sklearn-color-text);\n",
       "}\n",
       "\n",
       "#sk-container-id-1 pre {\n",
       "  padding: 0;\n",
       "}\n",
       "\n",
       "#sk-container-id-1 input.sk-hidden--visually {\n",
       "  border: 0;\n",
       "  clip: rect(1px 1px 1px 1px);\n",
       "  clip: rect(1px, 1px, 1px, 1px);\n",
       "  height: 1px;\n",
       "  margin: -1px;\n",
       "  overflow: hidden;\n",
       "  padding: 0;\n",
       "  position: absolute;\n",
       "  width: 1px;\n",
       "}\n",
       "\n",
       "#sk-container-id-1 div.sk-dashed-wrapped {\n",
       "  border: 1px dashed var(--sklearn-color-line);\n",
       "  margin: 0 0.4em 0.5em 0.4em;\n",
       "  box-sizing: border-box;\n",
       "  padding-bottom: 0.4em;\n",
       "  background-color: var(--sklearn-color-background);\n",
       "}\n",
       "\n",
       "#sk-container-id-1 div.sk-container {\n",
       "  /* jupyter's `normalize.less` sets `[hidden] { display: none; }`\n",
       "     but bootstrap.min.css set `[hidden] { display: none !important; }`\n",
       "     so we also need the `!important` here to be able to override the\n",
       "     default hidden behavior on the sphinx rendered scikit-learn.org.\n",
       "     See: https://github.com/scikit-learn/scikit-learn/issues/21755 */\n",
       "  display: inline-block !important;\n",
       "  position: relative;\n",
       "}\n",
       "\n",
       "#sk-container-id-1 div.sk-text-repr-fallback {\n",
       "  display: none;\n",
       "}\n",
       "\n",
       "div.sk-parallel-item,\n",
       "div.sk-serial,\n",
       "div.sk-item {\n",
       "  /* draw centered vertical line to link estimators */\n",
       "  background-image: linear-gradient(var(--sklearn-color-text-on-default-background), var(--sklearn-color-text-on-default-background));\n",
       "  background-size: 2px 100%;\n",
       "  background-repeat: no-repeat;\n",
       "  background-position: center center;\n",
       "}\n",
       "\n",
       "/* Parallel-specific style estimator block */\n",
       "\n",
       "#sk-container-id-1 div.sk-parallel-item::after {\n",
       "  content: \"\";\n",
       "  width: 100%;\n",
       "  border-bottom: 2px solid var(--sklearn-color-text-on-default-background);\n",
       "  flex-grow: 1;\n",
       "}\n",
       "\n",
       "#sk-container-id-1 div.sk-parallel {\n",
       "  display: flex;\n",
       "  align-items: stretch;\n",
       "  justify-content: center;\n",
       "  background-color: var(--sklearn-color-background);\n",
       "  position: relative;\n",
       "}\n",
       "\n",
       "#sk-container-id-1 div.sk-parallel-item {\n",
       "  display: flex;\n",
       "  flex-direction: column;\n",
       "}\n",
       "\n",
       "#sk-container-id-1 div.sk-parallel-item:first-child::after {\n",
       "  align-self: flex-end;\n",
       "  width: 50%;\n",
       "}\n",
       "\n",
       "#sk-container-id-1 div.sk-parallel-item:last-child::after {\n",
       "  align-self: flex-start;\n",
       "  width: 50%;\n",
       "}\n",
       "\n",
       "#sk-container-id-1 div.sk-parallel-item:only-child::after {\n",
       "  width: 0;\n",
       "}\n",
       "\n",
       "/* Serial-specific style estimator block */\n",
       "\n",
       "#sk-container-id-1 div.sk-serial {\n",
       "  display: flex;\n",
       "  flex-direction: column;\n",
       "  align-items: center;\n",
       "  background-color: var(--sklearn-color-background);\n",
       "  padding-right: 1em;\n",
       "  padding-left: 1em;\n",
       "}\n",
       "\n",
       "\n",
       "/* Toggleable style: style used for estimator/Pipeline/ColumnTransformer box that is\n",
       "clickable and can be expanded/collapsed.\n",
       "- Pipeline and ColumnTransformer use this feature and define the default style\n",
       "- Estimators will overwrite some part of the style using the `sk-estimator` class\n",
       "*/\n",
       "\n",
       "/* Pipeline and ColumnTransformer style (default) */\n",
       "\n",
       "#sk-container-id-1 div.sk-toggleable {\n",
       "  /* Default theme specific background. It is overwritten whether we have a\n",
       "  specific estimator or a Pipeline/ColumnTransformer */\n",
       "  background-color: var(--sklearn-color-background);\n",
       "}\n",
       "\n",
       "/* Toggleable label */\n",
       "#sk-container-id-1 label.sk-toggleable__label {\n",
       "  cursor: pointer;\n",
       "  display: block;\n",
       "  width: 100%;\n",
       "  margin-bottom: 0;\n",
       "  padding: 0.5em;\n",
       "  box-sizing: border-box;\n",
       "  text-align: center;\n",
       "}\n",
       "\n",
       "#sk-container-id-1 label.sk-toggleable__label-arrow:before {\n",
       "  /* Arrow on the left of the label */\n",
       "  content: \"▸\";\n",
       "  float: left;\n",
       "  margin-right: 0.25em;\n",
       "  color: var(--sklearn-color-icon);\n",
       "}\n",
       "\n",
       "#sk-container-id-1 label.sk-toggleable__label-arrow:hover:before {\n",
       "  color: var(--sklearn-color-text);\n",
       "}\n",
       "\n",
       "/* Toggleable content - dropdown */\n",
       "\n",
       "#sk-container-id-1 div.sk-toggleable__content {\n",
       "  max-height: 0;\n",
       "  max-width: 0;\n",
       "  overflow: hidden;\n",
       "  text-align: left;\n",
       "  /* unfitted */\n",
       "  background-color: var(--sklearn-color-unfitted-level-0);\n",
       "}\n",
       "\n",
       "#sk-container-id-1 div.sk-toggleable__content.fitted {\n",
       "  /* fitted */\n",
       "  background-color: var(--sklearn-color-fitted-level-0);\n",
       "}\n",
       "\n",
       "#sk-container-id-1 div.sk-toggleable__content pre {\n",
       "  margin: 0.2em;\n",
       "  border-radius: 0.25em;\n",
       "  color: var(--sklearn-color-text);\n",
       "  /* unfitted */\n",
       "  background-color: var(--sklearn-color-unfitted-level-0);\n",
       "}\n",
       "\n",
       "#sk-container-id-1 div.sk-toggleable__content.fitted pre {\n",
       "  /* unfitted */\n",
       "  background-color: var(--sklearn-color-fitted-level-0);\n",
       "}\n",
       "\n",
       "#sk-container-id-1 input.sk-toggleable__control:checked~div.sk-toggleable__content {\n",
       "  /* Expand drop-down */\n",
       "  max-height: 200px;\n",
       "  max-width: 100%;\n",
       "  overflow: auto;\n",
       "}\n",
       "\n",
       "#sk-container-id-1 input.sk-toggleable__control:checked~label.sk-toggleable__label-arrow:before {\n",
       "  content: \"▾\";\n",
       "}\n",
       "\n",
       "/* Pipeline/ColumnTransformer-specific style */\n",
       "\n",
       "#sk-container-id-1 div.sk-label input.sk-toggleable__control:checked~label.sk-toggleable__label {\n",
       "  color: var(--sklearn-color-text);\n",
       "  background-color: var(--sklearn-color-unfitted-level-2);\n",
       "}\n",
       "\n",
       "#sk-container-id-1 div.sk-label.fitted input.sk-toggleable__control:checked~label.sk-toggleable__label {\n",
       "  background-color: var(--sklearn-color-fitted-level-2);\n",
       "}\n",
       "\n",
       "/* Estimator-specific style */\n",
       "\n",
       "/* Colorize estimator box */\n",
       "#sk-container-id-1 div.sk-estimator input.sk-toggleable__control:checked~label.sk-toggleable__label {\n",
       "  /* unfitted */\n",
       "  background-color: var(--sklearn-color-unfitted-level-2);\n",
       "}\n",
       "\n",
       "#sk-container-id-1 div.sk-estimator.fitted input.sk-toggleable__control:checked~label.sk-toggleable__label {\n",
       "  /* fitted */\n",
       "  background-color: var(--sklearn-color-fitted-level-2);\n",
       "}\n",
       "\n",
       "#sk-container-id-1 div.sk-label label.sk-toggleable__label,\n",
       "#sk-container-id-1 div.sk-label label {\n",
       "  /* The background is the default theme color */\n",
       "  color: var(--sklearn-color-text-on-default-background);\n",
       "}\n",
       "\n",
       "/* On hover, darken the color of the background */\n",
       "#sk-container-id-1 div.sk-label:hover label.sk-toggleable__label {\n",
       "  color: var(--sklearn-color-text);\n",
       "  background-color: var(--sklearn-color-unfitted-level-2);\n",
       "}\n",
       "\n",
       "/* Label box, darken color on hover, fitted */\n",
       "#sk-container-id-1 div.sk-label.fitted:hover label.sk-toggleable__label.fitted {\n",
       "  color: var(--sklearn-color-text);\n",
       "  background-color: var(--sklearn-color-fitted-level-2);\n",
       "}\n",
       "\n",
       "/* Estimator label */\n",
       "\n",
       "#sk-container-id-1 div.sk-label label {\n",
       "  font-family: monospace;\n",
       "  font-weight: bold;\n",
       "  display: inline-block;\n",
       "  line-height: 1.2em;\n",
       "}\n",
       "\n",
       "#sk-container-id-1 div.sk-label-container {\n",
       "  text-align: center;\n",
       "}\n",
       "\n",
       "/* Estimator-specific */\n",
       "#sk-container-id-1 div.sk-estimator {\n",
       "  font-family: monospace;\n",
       "  border: 1px dotted var(--sklearn-color-border-box);\n",
       "  border-radius: 0.25em;\n",
       "  box-sizing: border-box;\n",
       "  margin-bottom: 0.5em;\n",
       "  /* unfitted */\n",
       "  background-color: var(--sklearn-color-unfitted-level-0);\n",
       "}\n",
       "\n",
       "#sk-container-id-1 div.sk-estimator.fitted {\n",
       "  /* fitted */\n",
       "  background-color: var(--sklearn-color-fitted-level-0);\n",
       "}\n",
       "\n",
       "/* on hover */\n",
       "#sk-container-id-1 div.sk-estimator:hover {\n",
       "  /* unfitted */\n",
       "  background-color: var(--sklearn-color-unfitted-level-2);\n",
       "}\n",
       "\n",
       "#sk-container-id-1 div.sk-estimator.fitted:hover {\n",
       "  /* fitted */\n",
       "  background-color: var(--sklearn-color-fitted-level-2);\n",
       "}\n",
       "\n",
       "/* Specification for estimator info (e.g. \"i\" and \"?\") */\n",
       "\n",
       "/* Common style for \"i\" and \"?\" */\n",
       "\n",
       ".sk-estimator-doc-link,\n",
       "a:link.sk-estimator-doc-link,\n",
       "a:visited.sk-estimator-doc-link {\n",
       "  float: right;\n",
       "  font-size: smaller;\n",
       "  line-height: 1em;\n",
       "  font-family: monospace;\n",
       "  background-color: var(--sklearn-color-background);\n",
       "  border-radius: 1em;\n",
       "  height: 1em;\n",
       "  width: 1em;\n",
       "  text-decoration: none !important;\n",
       "  margin-left: 1ex;\n",
       "  /* unfitted */\n",
       "  border: var(--sklearn-color-unfitted-level-1) 1pt solid;\n",
       "  color: var(--sklearn-color-unfitted-level-1);\n",
       "}\n",
       "\n",
       ".sk-estimator-doc-link.fitted,\n",
       "a:link.sk-estimator-doc-link.fitted,\n",
       "a:visited.sk-estimator-doc-link.fitted {\n",
       "  /* fitted */\n",
       "  border: var(--sklearn-color-fitted-level-1) 1pt solid;\n",
       "  color: var(--sklearn-color-fitted-level-1);\n",
       "}\n",
       "\n",
       "/* On hover */\n",
       "div.sk-estimator:hover .sk-estimator-doc-link:hover,\n",
       ".sk-estimator-doc-link:hover,\n",
       "div.sk-label-container:hover .sk-estimator-doc-link:hover,\n",
       ".sk-estimator-doc-link:hover {\n",
       "  /* unfitted */\n",
       "  background-color: var(--sklearn-color-unfitted-level-3);\n",
       "  color: var(--sklearn-color-background);\n",
       "  text-decoration: none;\n",
       "}\n",
       "\n",
       "div.sk-estimator.fitted:hover .sk-estimator-doc-link.fitted:hover,\n",
       ".sk-estimator-doc-link.fitted:hover,\n",
       "div.sk-label-container:hover .sk-estimator-doc-link.fitted:hover,\n",
       ".sk-estimator-doc-link.fitted:hover {\n",
       "  /* fitted */\n",
       "  background-color: var(--sklearn-color-fitted-level-3);\n",
       "  color: var(--sklearn-color-background);\n",
       "  text-decoration: none;\n",
       "}\n",
       "\n",
       "/* Span, style for the box shown on hovering the info icon */\n",
       ".sk-estimator-doc-link span {\n",
       "  display: none;\n",
       "  z-index: 9999;\n",
       "  position: relative;\n",
       "  font-weight: normal;\n",
       "  right: .2ex;\n",
       "  padding: .5ex;\n",
       "  margin: .5ex;\n",
       "  width: min-content;\n",
       "  min-width: 20ex;\n",
       "  max-width: 50ex;\n",
       "  color: var(--sklearn-color-text);\n",
       "  box-shadow: 2pt 2pt 4pt #999;\n",
       "  /* unfitted */\n",
       "  background: var(--sklearn-color-unfitted-level-0);\n",
       "  border: .5pt solid var(--sklearn-color-unfitted-level-3);\n",
       "}\n",
       "\n",
       ".sk-estimator-doc-link.fitted span {\n",
       "  /* fitted */\n",
       "  background: var(--sklearn-color-fitted-level-0);\n",
       "  border: var(--sklearn-color-fitted-level-3);\n",
       "}\n",
       "\n",
       ".sk-estimator-doc-link:hover span {\n",
       "  display: block;\n",
       "}\n",
       "\n",
       "/* \"?\"-specific style due to the `<a>` HTML tag */\n",
       "\n",
       "#sk-container-id-1 a.estimator_doc_link {\n",
       "  float: right;\n",
       "  font-size: 1rem;\n",
       "  line-height: 1em;\n",
       "  font-family: monospace;\n",
       "  background-color: var(--sklearn-color-background);\n",
       "  border-radius: 1rem;\n",
       "  height: 1rem;\n",
       "  width: 1rem;\n",
       "  text-decoration: none;\n",
       "  /* unfitted */\n",
       "  color: var(--sklearn-color-unfitted-level-1);\n",
       "  border: var(--sklearn-color-unfitted-level-1) 1pt solid;\n",
       "}\n",
       "\n",
       "#sk-container-id-1 a.estimator_doc_link.fitted {\n",
       "  /* fitted */\n",
       "  border: var(--sklearn-color-fitted-level-1) 1pt solid;\n",
       "  color: var(--sklearn-color-fitted-level-1);\n",
       "}\n",
       "\n",
       "/* On hover */\n",
       "#sk-container-id-1 a.estimator_doc_link:hover {\n",
       "  /* unfitted */\n",
       "  background-color: var(--sklearn-color-unfitted-level-3);\n",
       "  color: var(--sklearn-color-background);\n",
       "  text-decoration: none;\n",
       "}\n",
       "\n",
       "#sk-container-id-1 a.estimator_doc_link.fitted:hover {\n",
       "  /* fitted */\n",
       "  background-color: var(--sklearn-color-fitted-level-3);\n",
       "}\n",
       "</style><div id=\"sk-container-id-1\" class=\"sk-top-container\"><div class=\"sk-text-repr-fallback\"><pre>XGBClassifier(base_score=None, booster=None, callbacks=None,\n",
       "              colsample_bylevel=None, colsample_bynode=0.5037718685573817,\n",
       "              colsample_bytree=None, device=&#x27;gpu&#x27;, early_stopping_rounds=None,\n",
       "              enable_categorical=False,\n",
       "              eval_metric=&lt;function custom_f1_score at 0x708825f32340&gt;,\n",
       "              feature_types=None, gamma=None, grow_policy=None,\n",
       "              importance_type=None, interaction_constraints=None,\n",
       "              learning_rate=0.28709646695253643, max_bin=None,\n",
       "              max_cat_threshold=None, max_cat_to_onehot=None,\n",
       "              max_delta_step=None, max_depth=4, max_leaves=None,\n",
       "              min_child_weight=32, missing=nan, monotone_constraints=None,\n",
       "              multi_strategy=None, n_estimators=26, n_jobs=None,\n",
       "              num_parallel_tree=None, objective=&#x27;multi:softprob&#x27;, ...)</pre><b>In a Jupyter environment, please rerun this cell to show the HTML representation or trust the notebook. <br />On GitHub, the HTML representation is unable to render, please try loading this page with nbviewer.org.</b></div><div class=\"sk-container\" hidden><div class=\"sk-item\"><div class=\"sk-estimator fitted sk-toggleable\"><input class=\"sk-toggleable__control sk-hidden--visually\" id=\"sk-estimator-id-1\" type=\"checkbox\" checked><label for=\"sk-estimator-id-1\" class=\"sk-toggleable__label fitted sk-toggleable__label-arrow fitted\">&nbsp;XGBClassifier<span class=\"sk-estimator-doc-link fitted\">i<span>Fitted</span></span></label><div class=\"sk-toggleable__content fitted\"><pre>XGBClassifier(base_score=None, booster=None, callbacks=None,\n",
       "              colsample_bylevel=None, colsample_bynode=0.5037718685573817,\n",
       "              colsample_bytree=None, device=&#x27;gpu&#x27;, early_stopping_rounds=None,\n",
       "              enable_categorical=False,\n",
       "              eval_metric=&lt;function custom_f1_score at 0x708825f32340&gt;,\n",
       "              feature_types=None, gamma=None, grow_policy=None,\n",
       "              importance_type=None, interaction_constraints=None,\n",
       "              learning_rate=0.28709646695253643, max_bin=None,\n",
       "              max_cat_threshold=None, max_cat_to_onehot=None,\n",
       "              max_delta_step=None, max_depth=4, max_leaves=None,\n",
       "              min_child_weight=32, missing=nan, monotone_constraints=None,\n",
       "              multi_strategy=None, n_estimators=26, n_jobs=None,\n",
       "              num_parallel_tree=None, objective=&#x27;multi:softprob&#x27;, ...)</pre></div> </div></div></div></div>"
      ],
      "text/plain": [
       "XGBClassifier(base_score=None, booster=None, callbacks=None,\n",
       "              colsample_bylevel=None, colsample_bynode=0.5037718685573817,\n",
       "              colsample_bytree=None, device='gpu', early_stopping_rounds=None,\n",
       "              enable_categorical=False,\n",
       "              eval_metric=<function custom_f1_score at 0x708825f32340>,\n",
       "              feature_types=None, gamma=None, grow_policy=None,\n",
       "              importance_type=None, interaction_constraints=None,\n",
       "              learning_rate=0.28709646695253643, max_bin=None,\n",
       "              max_cat_threshold=None, max_cat_to_onehot=None,\n",
       "              max_delta_step=None, max_depth=4, max_leaves=None,\n",
       "              min_child_weight=32, missing=nan, monotone_constraints=None,\n",
       "              multi_strategy=None, n_estimators=26, n_jobs=None,\n",
       "              num_parallel_tree=None, objective='multi:softprob', ...)"
      ]
     },
     "execution_count": 24,
     "metadata": {},
     "output_type": "execute_result"
    }
   ],
   "source": [
    "n_estimators = int(study.best_trial.user_attrs['best_iteration']*1.2)\n",
    "xgb = xgboost.XGBClassifier(\n",
    "        device='gpu',\n",
    "        eval_metric=eval_metric,\n",
    "        n_estimators=n_estimators,\n",
    "        **study.best_trial.params\n",
    "    )\n",
    "xgb.fit(\n",
    "    ssp.vstack((X_train, X_val)), \n",
    "    np.concatenate((y_train_enc, y_val_enc)), \n",
    "    eval_set=[(X_test, y_test_enc)],\n",
    "    verbose=1,\n",
    ")"
   ]
  },
  {
   "cell_type": "code",
   "execution_count": 25,
   "id": "6c0a5a85",
   "metadata": {
    "editable": true,
    "execution": {
     "iopub.execute_input": "2025-03-17T19:14:36.064152Z",
     "iopub.status.busy": "2025-03-17T19:14:36.063888Z",
     "iopub.status.idle": "2025-03-17T19:14:36.085902Z",
     "shell.execute_reply": "2025-03-17T19:14:36.085476Z"
    },
    "papermill": {
     "duration": 0.034879,
     "end_time": "2025-03-17T19:14:36.086913",
     "exception": false,
     "start_time": "2025-03-17T19:14:36.052034",
     "status": "completed"
    },
    "slideshow": {
     "slide_type": ""
    },
    "tags": []
   },
   "outputs": [
    {
     "data": {
      "text/plain": [
       "['/scratch_isilon/groups/singlecell/shared/projects/Inflammation-PBMCs-Atlas/03_downstream_analysis/08_gene_importance/results/targetY_studyID/03_xgboost/best_model/studyID_T_CD8_Naive_xgb.json']"
      ]
     },
     "execution_count": 25,
     "metadata": {},
     "output_type": "execute_result"
    }
   ],
   "source": [
    "os.makedirs(here(f\"03_downstream_analysis/08_gene_importance/results/targetY_{target_y}/03_xgboost/best_model/\"), exist_ok=True)\n",
    "\n",
    "joblib.dump(xgb, (here(f'03_downstream_analysis/08_gene_importance/results/targetY_{target_y}/03_xgboost/best_model/{RUN_NAME}{CELL_TYPE}_xgb.json')))"
   ]
  },
  {
   "cell_type": "code",
   "execution_count": 26,
   "id": "43f3f7ad",
   "metadata": {
    "execution": {
     "iopub.execute_input": "2025-03-17T19:14:36.113453Z",
     "iopub.status.busy": "2025-03-17T19:14:36.113161Z",
     "iopub.status.idle": "2025-03-17T19:14:37.664130Z",
     "shell.execute_reply": "2025-03-17T19:14:37.663475Z"
    },
    "papermill": {
     "duration": 1.56386,
     "end_time": "2025-03-17T19:14:37.665616",
     "exception": false,
     "start_time": "2025-03-17T19:14:36.101756",
     "status": "completed"
    },
    "tags": []
   },
   "outputs": [
    {
     "name": "stderr",
     "output_type": "stream",
     "text": [
      "/scratch_isilon/groups/singlecell/shared/conda_env/xgboostGPU/lib/python3.12/site-packages/xgboost/core.py:160: UserWarning:\n",
      "\n",
      "[19:14:36] WARNING: /home/conda/feedstock_root/build_artifacts/xgboost-split_1703076482591/work/src/common/error_msg.cc:58: Falling back to prediction using DMatrix due to mismatched devices. This might lead to higher memory usage and slower performance. XGBoost is running on: cuda:0, while the input data is on: cpu.\n",
      "Potential solutions:\n",
      "- Use a data structure that matches the device ordinal in the booster.\n",
      "- Set the device for booster before call to inplace_predict.\n",
      "\n",
      "This warning will only be shown once.\n",
      "\n",
      "\n"
     ]
    }
   ],
   "source": [
    "os.makedirs(here(f\"03_downstream_analysis/08_gene_importance/results/targetY_{target_y}/03_xgboost/predictions/\"), exist_ok=True)\n",
    "\n",
    "(pd.DataFrame(np.array((y_test, y_test_enc, xgb.predict(X_test))).T, columns=['y_true', 'y_true_code', 'y_pred'])\n",
    " .to_csv(here(f'03_downstream_analysis/08_gene_importance/results/targetY_{target_y}/03_xgboost/predictions/{RUN_NAME}{CELL_TYPE}_pred_test.zip')))\n",
    "(pd.DataFrame(np.array((y_train, y_train_enc, xgb.predict(X_train))).T, columns=['y_true', 'y_true_code', 'y_pred'])\n",
    " .to_csv(here(f'03_downstream_analysis/08_gene_importance/results/targetY_{target_y}/03_xgboost/predictions/{RUN_NAME}{CELL_TYPE}_pred_train.zip')))"
   ]
  },
  {
   "cell_type": "code",
   "execution_count": null,
   "id": "174430c1",
   "metadata": {
    "papermill": {
     "duration": 0.017259,
     "end_time": "2025-03-17T19:14:37.698705",
     "exception": false,
     "start_time": "2025-03-17T19:14:37.681446",
     "status": "completed"
    },
    "tags": []
   },
   "outputs": [],
   "source": []
  }
 ],
 "metadata": {
  "kernelspec": {
   "display_name": "Python 3 (ipykernel)",
   "language": "python",
   "name": "python3"
  },
  "language_info": {
   "codemirror_mode": {
    "name": "ipython",
    "version": 3
   },
   "file_extension": ".py",
   "mimetype": "text/x-python",
   "name": "python",
   "nbconvert_exporter": "python",
   "pygments_lexer": "ipython3",
   "version": "3.12.9"
  },
  "papermill": {
   "default_parameters": {},
   "duration": 266.943948,
   "end_time": "2025-03-17T19:14:40.531904",
   "environment_variables": {},
   "exception": null,
   "input_path": "02_studyID_xgboost_fitting.ipynb",
   "output_path": "executed_notebooks/02_studyID_xgboost_fitting_T_CD8_Naive.ipynb",
   "parameters": {
    "CELL_TYPE": "T_CD8_Naive"
   },
   "start_time": "2025-03-17T19:10:13.587956",
   "version": "2.6.0"
  }
 },
 "nbformat": 4,
 "nbformat_minor": 5
}