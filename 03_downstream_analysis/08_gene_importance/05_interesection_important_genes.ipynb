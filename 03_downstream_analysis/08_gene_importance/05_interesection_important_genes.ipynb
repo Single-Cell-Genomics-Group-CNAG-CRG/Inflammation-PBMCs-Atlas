{
 "cells": [
  {
   "cell_type": "code",
   "execution_count": 228,
   "id": "d0b584b4-ab0a-429e-81fd-bb20d58e1a43",
   "metadata": {
    "editable": true,
    "execution": {
     "iopub.execute_input": "2025-03-19T11:52:50.470532Z",
     "iopub.status.busy": "2025-03-19T11:52:50.470315Z",
     "iopub.status.idle": "2025-03-19T11:52:50.472811Z",
     "shell.execute_reply": "2025-03-19T11:52:50.472441Z",
     "shell.execute_reply.started": "2025-03-19T11:52:50.470516Z"
    },
    "slideshow": {
     "slide_type": ""
    },
    "tags": [
     "parameters"
    ]
   },
   "outputs": [],
   "source": [
    "CELL_TYPE = 'pDC'"
   ]
  },
  {
   "cell_type": "code",
   "execution_count": 229,
   "id": "583d8921-8794-4a15-a19f-9c6d511826cd",
   "metadata": {
    "editable": true,
    "execution": {
     "iopub.execute_input": "2025-03-19T11:52:50.933103Z",
     "iopub.status.busy": "2025-03-19T11:52:50.932896Z",
     "iopub.status.idle": "2025-03-19T11:52:50.936854Z",
     "shell.execute_reply": "2025-03-19T11:52:50.936460Z",
     "shell.execute_reply.started": "2025-03-19T11:52:50.933089Z"
    },
    "slideshow": {
     "slide_type": ""
    },
    "tags": []
   },
   "outputs": [],
   "source": [
    "import numpy as np\n",
    "import seaborn as sns\n",
    "from pyprojroot.here import here\n",
    "import re\n",
    "import os, sys\n",
    "import pandas as pd\n",
    "import matplotlib.pyplot as plt\n",
    "import anndata as ad\n",
    "from tqdm.auto import tqdm\n",
    "\n",
    "# Import functions\n",
    "sys.path.insert(1, str(here('bin')))\n",
    "from customPythonFunctions import load_shap_statistics"
   ]
  },
  {
   "cell_type": "markdown",
   "id": "64cda9cc-e851-4299-9803-7b32e48c6d68",
   "metadata": {},
   "source": [
    "### Fix file name || TO DELETE"
   ]
  },
  {
   "cell_type": "code",
   "execution_count": 230,
   "id": "622b23a4-53d0-491a-a6ff-01171015474c",
   "metadata": {
    "editable": true,
    "execution": {
     "iopub.execute_input": "2025-03-19T11:52:51.228690Z",
     "iopub.status.busy": "2025-03-19T11:52:51.228554Z",
     "iopub.status.idle": "2025-03-19T11:52:51.232268Z",
     "shell.execute_reply": "2025-03-19T11:52:51.231941Z",
     "shell.execute_reply.started": "2025-03-19T11:52:51.228677Z"
    },
    "slideshow": {
     "slide_type": ""
    },
    "tags": []
   },
   "outputs": [],
   "source": [
    "def fix_file_names( cell_type: str = '',\n",
    "                    run_name: str = 'run1',\n",
    "                    dirpath: str = '',\n",
    "                  ):\n",
    "\n",
    "    import numpy as np\n",
    "    import re\n",
    "    from pyprojroot import here\n",
    "    \n",
    "\n",
    "    fname_regex = f'^fix_{run_name}_{cell_type}_shap_values_stats_' + r'(\\d+)'\n",
    "\n",
    "    results_batches = [\n",
    "        (fname, int(re.search(fname_regex, fname).group(1)))\n",
    "        for fname in os.listdir(dirpath)\n",
    "        if re.search(fname_regex, fname)]\n",
    "    \n",
    "    largest_batch_fname = max(results_batches, key=lambda x: x[1])[0]\n",
    "\n",
    "    shap_stats = np.load(os.path.join(dirpath, largest_batch_fname))\n",
    "\n",
    "    target_path = os.path.join(dirpath, f'total_{run_name}_{cell_type}_shap_stats.npz')\n",
    "\n",
    "    print(target_path, end='.. ')\n",
    "\n",
    "    if os.path.exists(target_path):\n",
    "        print('EXISTS!!!! Not saved u.u')\n",
    "    else:\n",
    "        np.savez(target_path, **shap_stats)\n",
    "        print('Saved!')\n"
   ]
  },
  {
   "cell_type": "code",
   "execution_count": 231,
   "id": "c8728873-78b1-4e75-8849-fbcd288dfbdc",
   "metadata": {
    "editable": true,
    "execution": {
     "iopub.execute_input": "2025-03-19T11:52:51.373809Z",
     "iopub.status.busy": "2025-03-19T11:52:51.373672Z",
     "iopub.status.idle": "2025-03-19T11:52:51.384471Z",
     "shell.execute_reply": "2025-03-19T11:52:51.384159Z",
     "shell.execute_reply.started": "2025-03-19T11:52:51.373796Z"
    },
    "slideshow": {
     "slide_type": ""
    },
    "tags": []
   },
   "outputs": [
    {
     "name": "stdout",
     "output_type": "stream",
     "text": [
      "/scratch_isilon/groups/singlecell/shared/projects/Inflammation-PBMCs-Atlas/03_downstream_analysis/08_gene_importance/results/targetY_studyID/shap/shap_vals/total_studyID_pDC_shap_stats.npz.. EXISTS!!!! Not saved u.u\n"
     ]
    }
   ],
   "source": [
    "fix_file_names(cell_type=CELL_TYPE, run_name='studyID', dirpath=here('03_downstream_analysis/08_gene_importance/results/targetY_studyID/shap/shap_vals/'))"
   ]
  },
  {
   "cell_type": "markdown",
   "id": "a547aee5-da9c-466f-86f8-f82ceab11fbd",
   "metadata": {},
   "source": [
    "## ^^^^^^^ TO DELETE ^^^^^^"
   ]
  },
  {
   "cell_type": "code",
   "execution_count": null,
   "id": "7f016397-fc37-4c51-aa7b-2646af05abc4",
   "metadata": {},
   "outputs": [],
   "source": []
  },
  {
   "cell_type": "markdown",
   "id": "5a4d1fd0-a662-4ded-9347-334405bf1a6c",
   "metadata": {},
   "source": [
    "#### Loading important genes per study"
   ]
  },
  {
   "cell_type": "code",
   "execution_count": 232,
   "id": "68eccdc8-efbc-441c-af37-0448de51db5b",
   "metadata": {
    "editable": true,
    "execution": {
     "iopub.execute_input": "2025-03-19T11:52:52.033033Z",
     "iopub.status.busy": "2025-03-19T11:52:52.032829Z",
     "iopub.status.idle": "2025-03-19T11:52:52.037618Z",
     "shell.execute_reply": "2025-03-19T11:52:52.037294Z",
     "shell.execute_reply.started": "2025-03-19T11:52:52.033018Z"
    },
    "slideshow": {
     "slide_type": ""
    },
    "tags": []
   },
   "outputs": [],
   "source": [
    "_, _, studyID_mean_abs, _ = load_shap_statistics(cell_type=CELL_TYPE, \n",
    "                                     interactions=False, \n",
    "                                     run_name='studyID',\n",
    "                                     dirpath=here('03_downstream_analysis/08_gene_importance/results/targetY_studyID/shap/shap_vals/')\n",
    "                                    )"
   ]
  },
  {
   "cell_type": "markdown",
   "id": "638ae51c-cb35-4e8d-8167-011b5ac299ff",
   "metadata": {},
   "source": [
    "#### Loading important genes per disease"
   ]
  },
  {
   "cell_type": "code",
   "execution_count": 233,
   "id": "243afa73-24b5-44c6-9251-48f2fd5bcd59",
   "metadata": {
    "editable": true,
    "execution": {
     "iopub.execute_input": "2025-03-19T11:52:52.343060Z",
     "iopub.status.busy": "2025-03-19T11:52:52.342901Z",
     "iopub.status.idle": "2025-03-19T11:52:52.350372Z",
     "shell.execute_reply": "2025-03-19T11:52:52.350066Z",
     "shell.execute_reply.started": "2025-03-19T11:52:52.343047Z"
    },
    "slideshow": {
     "slide_type": ""
    },
    "tags": []
   },
   "outputs": [],
   "source": [
    "_, _, disease_mean_abs, _ = load_shap_statistics(cell_type=CELL_TYPE, \n",
    "                                     interactions=False, \n",
    "                                     run_name='run1',\n",
    "                                     dirpath=here('03_downstream_analysis/08_gene_importance/results/targetY_disease/shap/shap_vals/')\n",
    "                                    )"
   ]
  },
  {
   "cell_type": "markdown",
   "id": "1122cc25-445f-49a4-8411-1e00e09c67de",
   "metadata": {},
   "source": [
    "#### Loading adata"
   ]
  },
  {
   "cell_type": "code",
   "execution_count": 234,
   "id": "eda44719-7184-415c-85fd-47855cbc3612",
   "metadata": {
    "execution": {
     "iopub.execute_input": "2025-03-19T11:52:52.656173Z",
     "iopub.status.busy": "2025-03-19T11:52:52.656038Z",
     "iopub.status.idle": "2025-03-19T11:52:52.665471Z",
     "shell.execute_reply": "2025-03-19T11:52:52.665138Z",
     "shell.execute_reply.started": "2025-03-19T11:52:52.656160Z"
    }
   },
   "outputs": [
    {
     "data": {
      "text/html": [
       "<div>\n",
       "<style scoped>\n",
       "    .dataframe tbody tr th:only-of-type {\n",
       "        vertical-align: middle;\n",
       "    }\n",
       "\n",
       "    .dataframe tbody tr th {\n",
       "        vertical-align: top;\n",
       "    }\n",
       "\n",
       "    .dataframe thead th {\n",
       "        text-align: right;\n",
       "    }\n",
       "</style>\n",
       "<table border=\"1\" class=\"dataframe\">\n",
       "  <thead>\n",
       "    <tr style=\"text-align: right;\">\n",
       "      <th></th>\n",
       "      <th>hgnc_id</th>\n",
       "      <th>symbol</th>\n",
       "      <th>locus_group</th>\n",
       "      <th>HUGO_status</th>\n",
       "    </tr>\n",
       "    <tr>\n",
       "      <th>ensembl_gene_id</th>\n",
       "      <th></th>\n",
       "      <th></th>\n",
       "      <th></th>\n",
       "      <th></th>\n",
       "    </tr>\n",
       "  </thead>\n",
       "  <tbody>\n",
       "    <tr>\n",
       "      <th>ENSG00000000003</th>\n",
       "      <td>HGNC:11858</td>\n",
       "      <td>TSPAN6</td>\n",
       "      <td>protein_coding</td>\n",
       "      <td>official</td>\n",
       "    </tr>\n",
       "    <tr>\n",
       "      <th>ENSG00000000457</th>\n",
       "      <td>HGNC:19285</td>\n",
       "      <td>SCYL3</td>\n",
       "      <td>protein_coding</td>\n",
       "      <td>official</td>\n",
       "    </tr>\n",
       "    <tr>\n",
       "      <th>ENSG00000000938</th>\n",
       "      <td>HGNC:3697</td>\n",
       "      <td>FGR</td>\n",
       "      <td>protein_coding</td>\n",
       "      <td>official</td>\n",
       "    </tr>\n",
       "    <tr>\n",
       "      <th>ENSG00000000971</th>\n",
       "      <td>HGNC:4883</td>\n",
       "      <td>CFH</td>\n",
       "      <td>protein_coding</td>\n",
       "      <td>official</td>\n",
       "    </tr>\n",
       "    <tr>\n",
       "      <th>ENSG00000001036</th>\n",
       "      <td>HGNC:4008</td>\n",
       "      <td>FUCA2</td>\n",
       "      <td>protein_coding</td>\n",
       "      <td>official</td>\n",
       "    </tr>\n",
       "  </tbody>\n",
       "</table>\n",
       "</div>"
      ],
      "text/plain": [
       "                    hgnc_id  symbol     locus_group HUGO_status\n",
       "ensembl_gene_id                                                \n",
       "ENSG00000000003  HGNC:11858  TSPAN6  protein_coding    official\n",
       "ENSG00000000457  HGNC:19285   SCYL3  protein_coding    official\n",
       "ENSG00000000938   HGNC:3697     FGR  protein_coding    official\n",
       "ENSG00000000971   HGNC:4883     CFH  protein_coding    official\n",
       "ENSG00000001036   HGNC:4008   FUCA2  protein_coding    official"
      ]
     },
     "execution_count": 234,
     "metadata": {},
     "output_type": "execute_result"
    }
   ],
   "source": [
    "symbol_df = pd.read_pickle(here('03_downstream_analysis/02_gene_universe_definition/results/04_selected_gene_list.pkl'))\n",
    "symbol_df.head()"
   ]
  },
  {
   "cell_type": "code",
   "execution_count": 235,
   "id": "7cae9105-9ef1-4942-9180-b4ecc69995de",
   "metadata": {
    "execution": {
     "iopub.execute_input": "2025-03-19T11:52:52.821253Z",
     "iopub.status.busy": "2025-03-19T11:52:52.821050Z",
     "iopub.status.idle": "2025-03-19T11:52:52.877644Z",
     "shell.execute_reply": "2025-03-19T11:52:52.877223Z",
     "shell.execute_reply.started": "2025-03-19T11:52:52.821238Z"
    }
   },
   "outputs": [],
   "source": [
    "\n",
    "adata = ad.read_h5ad(here(f'03_downstream_analysis/08_gene_importance/data/{CELL_TYPE}_adataMerged_SPECTRAgenes.log1p.h5ad'), backed = 'r')\n",
    "\n",
    "adata.var = adata.var.merge(symbol_df, left_index=True, right_index=True, how='left')\n",
    "\n",
    "genes = adata.var['symbol'].values\n",
    "disease = adata.obs.disease.cat.categories\n",
    "studyID = adata.obs.studyID.cat.categories\n"
   ]
  },
  {
   "cell_type": "code",
   "execution_count": 236,
   "id": "0a45dd79-18e1-47a1-b5a2-981faf153378",
   "metadata": {
    "execution": {
     "iopub.execute_input": "2025-03-19T11:52:52.964318Z",
     "iopub.status.busy": "2025-03-19T11:52:52.963470Z",
     "iopub.status.idle": "2025-03-19T11:52:52.966563Z",
     "shell.execute_reply": "2025-03-19T11:52:52.966264Z",
     "shell.execute_reply.started": "2025-03-19T11:52:52.964302Z"
    }
   },
   "outputs": [],
   "source": [
    "target_dis = 'BRCA'"
   ]
  },
  {
   "cell_type": "code",
   "execution_count": null,
   "id": "0afa8846-9322-4190-8176-b1359abad9a5",
   "metadata": {},
   "outputs": [],
   "source": []
  },
  {
   "cell_type": "code",
   "execution_count": null,
   "id": "18eaa16b-4841-46e8-a87b-a41ddb027329",
   "metadata": {},
   "outputs": [],
   "source": []
  },
  {
   "cell_type": "code",
   "execution_count": 237,
   "id": "4e9fa0f2-b8d0-4a28-9b11-4ba5d35cc7b3",
   "metadata": {
    "execution": {
     "iopub.execute_input": "2025-03-19T11:52:53.677133Z",
     "iopub.status.busy": "2025-03-19T11:52:53.676266Z",
     "iopub.status.idle": "2025-03-19T11:52:53.920927Z",
     "shell.execute_reply": "2025-03-19T11:52:53.920442Z",
     "shell.execute_reply.started": "2025-03-19T11:52:53.677117Z"
    }
   },
   "outputs": [],
   "source": [
    "from scipy.stats import spearmanr, pearsonr\n",
    "\n",
    "disease_max_cor_dict = dict()\n",
    "\n",
    "correlation_matrix = []\n",
    "\n",
    "for target_dis in disease:\n",
    "    corr_coef = []\n",
    "    for i in range(total_study_genes.shape[1]):\n",
    "    \n",
    "        v1 = studyID_mean_abs[:,i]\n",
    "        v2 = disease_mean_abs[:,disease == target_dis].flatten()\n",
    "        \n",
    "        corr_coef.append(pearsonr(v1, v2)[0])\n",
    "\n",
    "    correlation_matrix.append(corr_coef)\n",
    "    # disease_max_cor_dict[target_dis] = max(corr_coef)\n",
    "    \n",
    "        # print(studyID[i])\n",
    "        \n",
    "        # plt.scatter(x = v1, y = v2)\n",
    "        # plt.xlabel('studyID')\n",
    "        # plt.ylabel('disease')\n",
    "        # plt.show()\n",
    "\n",
    "correlation_matrix = np.array(correlation_matrix)\n"
   ]
  },
  {
   "cell_type": "code",
   "execution_count": 238,
   "id": "fada16bc-db3e-42b4-ba1b-dafaaaf845b3",
   "metadata": {
    "execution": {
     "iopub.execute_input": "2025-03-19T11:52:54.238175Z",
     "iopub.status.busy": "2025-03-19T11:52:54.237255Z",
     "iopub.status.idle": "2025-03-19T11:52:54.241869Z",
     "shell.execute_reply": "2025-03-19T11:52:54.241502Z",
     "shell.execute_reply.started": "2025-03-19T11:52:54.238157Z"
    }
   },
   "outputs": [
    {
     "data": {
      "text/plain": [
       "(20, 16)"
      ]
     },
     "execution_count": 238,
     "metadata": {},
     "output_type": "execute_result"
    }
   ],
   "source": [
    "correlation_matrix.shape"
   ]
  },
  {
   "cell_type": "code",
   "execution_count": 239,
   "id": "edf99d24-c4bf-4c46-a3af-8f28cc035987",
   "metadata": {
    "execution": {
     "iopub.execute_input": "2025-03-19T11:52:54.408116Z",
     "iopub.status.busy": "2025-03-19T11:52:54.407277Z",
     "iopub.status.idle": "2025-03-19T11:52:54.410255Z",
     "shell.execute_reply": "2025-03-19T11:52:54.409952Z",
     "shell.execute_reply.started": "2025-03-19T11:52:54.408100Z"
    }
   },
   "outputs": [],
   "source": [
    "import marsilea as ma\n",
    "import marsilea.plotter as mp"
   ]
  },
  {
   "cell_type": "code",
   "execution_count": 240,
   "id": "25ddd7f0-f1ba-4591-9ced-a811bd5c7e53",
   "metadata": {
    "execution": {
     "iopub.execute_input": "2025-03-19T11:52:54.549158Z",
     "iopub.status.busy": "2025-03-19T11:52:54.548328Z",
     "iopub.status.idle": "2025-03-19T11:52:54.558423Z",
     "shell.execute_reply": "2025-03-19T11:52:54.558087Z",
     "shell.execute_reply.started": "2025-03-19T11:52:54.549143Z"
    }
   },
   "outputs": [],
   "source": [
    "diseaseXstudy = adata.obs[['studyID','disease']].drop_duplicates().groupby('disease', observed=True).count()\n",
    "study_No_healthy = adata.obs[['disease','studyID']].groupby('studyID', observed=True).disease.unique().reset_index().apply(lambda x: 'healthy' not in x.disease, axis=1)"
   ]
  },
  {
   "cell_type": "code",
   "execution_count": 241,
   "id": "ad702d69-550d-4bad-b7f6-40b32eb0f2a4",
   "metadata": {
    "execution": {
     "iopub.execute_input": "2025-03-19T11:52:55.021600Z",
     "iopub.status.busy": "2025-03-19T11:52:55.021385Z",
     "iopub.status.idle": "2025-03-19T11:52:55.032614Z",
     "shell.execute_reply": "2025-03-19T11:52:55.032217Z",
     "shell.execute_reply.started": "2025-03-19T11:52:55.021584Z"
    }
   },
   "outputs": [],
   "source": [
    "s = adata.obs[['disease','studyID']].groupby('studyID', observed=True).disease.unique().reset_index().disease.transform(lambda x: 'healthy' in x)\n",
    "disease_with_healthy = np.unique(np.concatenate(adata.obs[['disease','studyID']].groupby('studyID', observed=True).disease.unique().reset_index()[s].disease.values))"
   ]
  },
  {
   "cell_type": "code",
   "execution_count": null,
   "id": "cb4445f1-8083-4121-b7db-715743485383",
   "metadata": {},
   "outputs": [],
   "source": []
  },
  {
   "cell_type": "code",
   "execution_count": null,
   "id": "1bc7a41f-daf9-4cdc-8346-e60d472e90ab",
   "metadata": {},
   "outputs": [],
   "source": []
  },
  {
   "cell_type": "code",
   "execution_count": 227,
   "id": "4a8f1769-1ef8-4c19-8e23-045665289569",
   "metadata": {
    "execution": {
     "iopub.execute_input": "2025-03-19T11:52:29.071783Z",
     "iopub.status.busy": "2025-03-19T11:52:29.071587Z",
     "iopub.status.idle": "2025-03-19T11:52:29.378246Z",
     "shell.execute_reply": "2025-03-19T11:52:29.377895Z",
     "shell.execute_reply.started": "2025-03-19T11:52:29.071767Z"
    }
   },
   "outputs": [
    {
     "data": {
      "image/png": "[encoded data removed]",
      "text/plain": [
       "<Figure size 654.833x549.278 with 11 Axes>"
      ]
     },
     "metadata": {},
     "output_type": "display_data"
    }
   ],
   "source": [
    "h = ma.Heatmap(correlation_matrix, vmin=0, vmax=1)\n",
    "h.group_cols(study_No_healthy)\n",
    "\n",
    "left_number = mp.Colors(diseaseXstudy.studyID.values, label = '# studies')\n",
    "h.add_left(left_number, size=0.2, pad=0.05)\n",
    "\n",
    "h.group_rows(disease.isin( disease_with_healthy))\n",
    "\n",
    "h.add_bottom(mp.Labels(studyID))\n",
    "h.add_left(mp.Labels(disease))\n",
    "\n",
    "h.add_legends()\n",
    "\n",
    "h.render()"
   ]
  },
  {
   "cell_type": "code",
   "execution_count": 242,
   "id": "b0294ac8-1f35-4548-8880-19dc55594f67",
   "metadata": {
    "execution": {
     "iopub.execute_input": "2025-03-19T11:52:58.199680Z",
     "iopub.status.busy": "2025-03-19T11:52:58.199163Z",
     "iopub.status.idle": "2025-03-19T11:52:58.503701Z",
     "shell.execute_reply": "2025-03-19T11:52:58.503370Z",
     "shell.execute_reply.started": "2025-03-19T11:52:58.199655Z"
    }
   },
   "outputs": [
    {
     "data": {
      "image/png": "[encoded data removed]",
      "text/plain": [
       "<Figure size 654.833x549.278 with 11 Axes>"
      ]
     },
     "metadata": {},
     "output_type": "display_data"
    }
   ],
   "source": [
    "h = ma.Heatmap(correlation_matrix, vmin=0, vmax=1)\n",
    "h.group_cols(study_No_healthy)\n",
    "\n",
    "left_number = mp.Colors(diseaseXstudy.studyID.values, label = '# studies')\n",
    "h.add_left(left_number, size=0.2, pad=0.05)\n",
    "\n",
    "h.group_rows(disease.isin( disease_with_healthy))\n",
    "\n",
    "h.add_bottom(mp.Labels(studyID))\n",
    "h.add_left(mp.Labels(disease))\n",
    "\n",
    "h.add_legends()\n",
    "\n",
    "h.render()"
   ]
  },
  {
   "cell_type": "code",
   "execution_count": null,
   "id": "182ee3dd-e3a8-4f11-b671-2e424e826ac5",
   "metadata": {},
   "outputs": [],
   "source": []
  },
  {
   "cell_type": "code",
   "execution_count": null,
   "id": "65fe58bf-f7d8-4ac7-8154-4dd5ed0a3ee2",
   "metadata": {},
   "outputs": [],
   "source": []
  },
  {
   "cell_type": "code",
   "execution_count": null,
   "id": "aa6779a9-f424-4e0d-ab4b-c1a7f885cd4b",
   "metadata": {},
   "outputs": [],
   "source": []
  },
  {
   "cell_type": "code",
   "execution_count": null,
   "id": "4a356973-7bcf-4ec8-b803-1c41d0f281b3",
   "metadata": {},
   "outputs": [],
   "source": []
  },
  {
   "cell_type": "code",
   "execution_count": null,
   "id": "b5c81f41-9a24-4c0f-bcf3-315cb17bac17",
   "metadata": {},
   "outputs": [],
   "source": []
  },
  {
   "cell_type": "code",
   "execution_count": 10,
   "id": "4092df65-5588-48bd-bdc2-61a416863e41",
   "metadata": {
    "execution": {
     "iopub.execute_input": "2025-03-19T10:13:41.026945Z",
     "iopub.status.busy": "2025-03-19T10:13:41.026768Z",
     "iopub.status.idle": "2025-03-19T10:13:41.052691Z",
     "shell.execute_reply": "2025-03-19T10:13:41.052365Z",
     "shell.execute_reply.started": "2025-03-19T10:13:41.026931Z"
    }
   },
   "outputs": [
    {
     "data": {
      "text/plain": [
       "array([  9,  28,  37,  42,  48,  49,  54,  73,  75,  97, 109, 111, 120,\n",
       "       137, 148, 156, 165, 170, 177, 179, 181, 195, 196, 198, 199, 205,\n",
       "       207, 297, 324, 327, 351, 367, 411, 412, 419, 426, 431, 436, 471,\n",
       "       481, 489, 509, 519, 524, 562, 582, 585, 588, 602, 607, 621, 626,\n",
       "       636, 669, 673, 677, 682, 707, 718, 728, 756, 767, 778, 780, 784,\n",
       "       788, 789, 790, 797, 798, 821, 823, 827, 840, 845, 855, 861, 862,\n",
       "       868, 872, 876, 877, 882, 883, 891, 906, 907, 912, 915, 916])"
      ]
     },
     "execution_count": 10,
     "metadata": {},
     "output_type": "execute_result"
    }
   ],
   "source": [
    "np.unique(disease_mean_abs.argsort(axis=0)[-5:])"
   ]
  },
  {
   "cell_type": "code",
   "execution_count": 11,
   "id": "56cf3766-321a-4f08-ac72-b4645d68d2b8",
   "metadata": {
    "execution": {
     "iopub.execute_input": "2025-03-19T10:13:41.054029Z",
     "iopub.status.busy": "2025-03-19T10:13:41.053729Z",
     "iopub.status.idle": "2025-03-19T10:13:41.101942Z",
     "shell.execute_reply": "2025-03-19T10:13:41.101645Z",
     "shell.execute_reply.started": "2025-03-19T10:13:41.054015Z"
    }
   },
   "outputs": [
    {
     "data": {
      "text/plain": [
       "['MATK',\n",
       " 'IL32',\n",
       " 'BAK1',\n",
       " 'MYOM2',\n",
       " 'TNFRSF17',\n",
       " 'YBX1',\n",
       " 'TNFRSF1A',\n",
       " 'NFKB2',\n",
       " 'ITM2A',\n",
       " 'ICAM1',\n",
       " 'GLG1',\n",
       " 'IL12RB1',\n",
       " 'ATP5F1D',\n",
       " 'TSPO',\n",
       " 'IL2RB',\n",
       " 'HCK',\n",
       " 'DCTN6',\n",
       " 'TLE5',\n",
       " 'ITGB8',\n",
       " 'CLDN15',\n",
       " 'C1QBP',\n",
       " 'SYNGR2',\n",
       " 'CNTNAP1',\n",
       " 'UNC93B1',\n",
       " 'MS4A6A',\n",
       " 'CCL20',\n",
       " 'ID3',\n",
       " 'SERP1',\n",
       " 'PLBD1',\n",
       " 'CSTA',\n",
       " 'CD80',\n",
       " 'CCRL2',\n",
       " 'PTGER2',\n",
       " 'TNFSF9',\n",
       " 'IFI6',\n",
       " 'IL22',\n",
       " 'CCL25',\n",
       " 'JCHAIN',\n",
       " 'BEX2',\n",
       " 'GLUL',\n",
       " 'CTSV',\n",
       " 'PIM1',\n",
       " 'IFI44L',\n",
       " 'CYP1B1',\n",
       " 'IGSF6',\n",
       " 'IFNAR1',\n",
       " 'S100A8',\n",
       " 'WTAP',\n",
       " 'ESAM',\n",
       " 'IL18',\n",
       " 'JAM2',\n",
       " 'NRG1',\n",
       " 'IFNAR2',\n",
       " 'HK3',\n",
       " 'GFI1',\n",
       " 'MNDA',\n",
       " 'CXCL1',\n",
       " 'CSF2',\n",
       " 'IFI27',\n",
       " 'FTH1',\n",
       " 'SDC2',\n",
       " 'CLIC3',\n",
       " 'MZB1',\n",
       " 'SOCS5',\n",
       " 'BASP1',\n",
       " 'GRB2',\n",
       " 'EGR3',\n",
       " 'MCEMP1',\n",
       " 'CLDN5',\n",
       " 'CSF1',\n",
       " 'IL3RA',\n",
       " 'SOCS1',\n",
       " 'IFNLR1',\n",
       " 'IFITM1',\n",
       " 'NDUFA13',\n",
       " 'LILRA5',\n",
       " 'H4C3',\n",
       " 'C5AR1',\n",
       " 'CSF2RA',\n",
       " 'HLA-E',\n",
       " 'ADGRG1',\n",
       " 'CRLF2',\n",
       " 'IGHG4',\n",
       " 'IGHG2',\n",
       " 'IGHG3',\n",
       " 'CRIP1',\n",
       " 'TAPBP',\n",
       " 'HLA-DQA2',\n",
       " 'TNFRSF6B',\n",
       " 'IL10RB',\n",
       " 'NME2',\n",
       " 'LYN']"
      ]
     },
     "execution_count": 11,
     "metadata": {},
     "output_type": "execute_result"
    }
   ],
   "source": [
    "filtered_genes_idx = np.setdiff1d(np.unique(disease_mean_abs.argsort(axis=0)[-10:]), np.unique(studyID_mean_abs.argsort(axis=0)[-10:]))\n",
    "genes[filtered_genes_idx].tolist()"
   ]
  },
  {
   "cell_type": "code",
   "execution_count": null,
   "id": "7b124c1d-28c1-4a6c-a500-ebdb96610210",
   "metadata": {},
   "outputs": [],
   "source": []
  }
 ],
 "metadata": {
  "kernelspec": {
   "display_name": "Python 3 (ipykernel)",
   "language": "python",
   "name": "python3"
  },
  "language_info": {
   "codemirror_mode": {
    "name": "ipython",
    "version": 3
   },
   "file_extension": ".py",
   "mimetype": "text/x-python",
   "name": "python",
   "nbconvert_exporter": "python",
   "pygments_lexer": "ipython3",
   "version": "3.12.5"
  }
 },
 "nbformat": 4,
 "nbformat_minor": 5
}
