{
 "cells": [
  {
   "cell_type": "code",
   "execution_count": 14,
   "metadata": {
    "editable": true,
    "execution": {
     "iopub.execute_input": "2024-06-05T17:29:42.154202Z",
     "iopub.status.busy": "2024-06-05T17:29:42.153894Z",
     "iopub.status.idle": "2024-06-05T17:29:42.158628Z",
     "shell.execute_reply": "2024-06-05T17:29:42.157914Z",
     "shell.execute_reply.started": "2024-06-05T17:29:42.154181Z"
    },
    "slideshow": {
     "slide_type": ""
    },
    "tags": [
     "parameters"
    ]
   },
   "outputs": [],
   "source": [
    "CELL_TYPE = 'Mono'\n",
    "N_TRIALS: int = 1\n",
    "RUN_NAME: str = \"test\"\n",
    "BUCKET_DIRPATH: str = \"\""
   ]
  },
  {
   "cell_type": "code",
   "execution_count": 15,
   "metadata": {
    "execution": {
     "iopub.execute_input": "2024-06-05T17:29:45.744412Z",
     "iopub.status.busy": "2024-06-05T17:29:45.743549Z",
     "iopub.status.idle": "2024-06-05T17:29:45.778885Z",
     "shell.execute_reply": "2024-06-05T17:29:45.778054Z",
     "shell.execute_reply.started": "2024-06-05T17:29:45.744384Z"
    }
   },
   "outputs": [],
   "source": [
    "if RUN_NAME != \"\":\n",
    "    RUN_NAME = RUN_NAME + \"_\""
   ]
  },
  {
   "cell_type": "code",
   "execution_count": 2,
   "metadata": {
    "execution": {
     "iopub.execute_input": "2024-06-05T17:29:47.907644Z",
     "iopub.status.busy": "2024-06-05T17:29:47.906881Z",
     "iopub.status.idle": "2024-06-05T17:29:47.913963Z",
     "shell.execute_reply": "2024-06-05T17:29:47.913145Z",
     "shell.execute_reply.started": "2024-06-05T17:29:47.907592Z"
    }
   },
   "outputs": [],
   "source": [
    "import os\n",
    "import sys\n",
    "from pyprojroot.here import here\n",
    "\n",
    "import pandas as pd\n",
    "import anndata as ad\n",
    "import numpy as np\n",
    "import math\n",
    "from sklearn.model_selection import StratifiedGroupKFold\n",
    "from sklearn.preprocessing import LabelEncoder\n",
    "from sklearn.metrics import f1_score\n",
    "import matplotlib.pyplot as plt\n",
    "import seaborn as sns\n",
    "from itertools import product\n",
    "\n",
    "import optuna\n",
    "\n",
    "import joblib\n",
    "import pickle\n",
    "import datetime\n",
    "\n",
    "import collections\n",
    "\n",
    "import xgboost\n",
    "from sklearn.preprocessing import LabelEncoder\n",
    "\n",
    "import scipy.sparse as ssp\n",
    "import joblib\n",
    "\n",
    "from dotenv import load_dotenv"
   ]
  },
  {
   "cell_type": "code",
   "execution_count": 4,
   "metadata": {},
   "outputs": [],
   "source": [
    "assert load_dotenv()"
   ]
  },
  {
   "cell_type": "code",
   "execution_count": 5,
   "metadata": {},
   "outputs": [],
   "source": [
    "def here(fpath):\n",
    "    return os.path.join(BUCKET_DIRPATH, fpath)"
   ]
  },
  {
   "cell_type": "markdown",
   "metadata": {},
   "source": [
    "# LOAD DATASET"
   ]
  },
  {
   "cell_type": "code",
   "execution_count": 6,
   "metadata": {
    "execution": {
     "iopub.execute_input": "2024-06-05T17:29:50.019011Z",
     "iopub.status.busy": "2024-06-05T17:29:50.018091Z",
     "iopub.status.idle": "2024-06-05T17:30:04.333284Z",
     "shell.execute_reply": "2024-06-05T17:30:04.332224Z",
     "shell.execute_reply.started": "2024-06-05T17:29:50.018976Z"
    }
   },
   "outputs": [],
   "source": [
    "adata_int_ct = ad.read_h5ad(\n",
    "    f'{CELL_TYPE}_adataMerged_SPECTRAgenes.log1p.h5ad',\n",
    "    backed='r',\n",
    "    chunk_size=25000\n",
    ")\n",
    "\n",
    "adata_unint = ad.read_h5ad(\n",
    "    f'04_MAIN_geneUniverse_noRBCnPlatelets.log1p.h5ad',\n",
    "    backed='r',\n",
    "    chunk_size=25000\n",
    ")"
   ]
  },
  {
   "cell_type": "code",
   "execution_count": 12,
   "metadata": {},
   "outputs": [],
   "source": [
    "var_names_mask = adata_unint.var_names.isin(adata_int_ct.var_names).nonzero()[0]"
   ]
  },
  {
   "cell_type": "code",
   "execution_count": 16,
   "metadata": {
    "execution": {
     "iopub.execute_input": "2024-06-05T17:30:12.772126Z",
     "iopub.status.busy": "2024-06-05T17:30:12.771814Z",
     "iopub.status.idle": "2024-06-05T17:30:16.350295Z",
     "shell.execute_reply": "2024-06-05T17:30:16.349368Z",
     "shell.execute_reply.started": "2024-06-05T17:30:12.772103Z"
    }
   },
   "outputs": [],
   "source": [
    "train_idxs = np.load(here(f'03_Downstream_Analysis/05_SHAP/results/02_preprocessing/{RUN_NAME}{CELL_TYPE}_train_idxs.npy'))\n",
    "val_idxs = np.load(here(f'03_Downstream_Analysis/05_SHAP/results/02_preprocessing/{RUN_NAME}{CELL_TYPE}_val_idxs.npy'))\n",
    "test_idxs = np.load(here(f'03_Downstream_Analysis/05_SHAP/results/02_preprocessing/{RUN_NAME}{CELL_TYPE}_test_idxs.npy'))"
   ]
  },
  {
   "cell_type": "code",
   "execution_count": 17,
   "metadata": {},
   "outputs": [
    {
     "data": {
      "text/plain": [
       "((626471,), (217889,), (204789,), 1049149)"
      ]
     },
     "execution_count": 17,
     "metadata": {},
     "output_type": "execute_result"
    }
   ],
   "source": [
    "train_idxs.shape, val_idxs.shape, test_idxs.shape, train_idxs.shape[0]+val_idxs.shape[0]+test_idxs.shape[0]"
   ]
  },
  {
   "cell_type": "code",
   "execution_count": 17,
   "metadata": {},
   "outputs": [],
   "source": [
    "mask_train = adata_unint.obs.index.isin(adata_int_ct.obs.iloc[train_idxs].index).nonzero()[0]\n",
    "mask_val = adata_unint.obs.index.isin(adata_int_ct.obs.iloc[val_idxs].index).nonzero()[0]\n",
    "mask_test = adata_unint.obs.index.isin(adata_int_ct.obs.iloc[test_idxs].index).nonzero()[0]"
   ]
  },
  {
   "cell_type": "code",
   "execution_count": 18,
   "metadata": {},
   "outputs": [
    {
     "data": {
      "text/plain": [
       "((626471, 935), (217889, 935), (204789, 935))"
      ]
     },
     "execution_count": 18,
     "metadata": {},
     "output_type": "execute_result"
    }
   ],
   "source": [
    "X_train = adata_unint.X[mask_train, var_names_mask]\n",
    "X_val = adata_unint.X[mask_val, var_names_mask]\n",
    "X_test = adata_unint.X[mask_test, var_names_mask]\n",
    "X_train.shape, X_val.shape, X_test.shape"
   ]
  },
  {
   "cell_type": "code",
   "execution_count": 19,
   "metadata": {},
   "outputs": [
    {
     "data": {
      "text/plain": [
       "((626471,), (204789,), (217889,))"
      ]
     },
     "execution_count": 19,
     "metadata": {},
     "output_type": "execute_result"
    }
   ],
   "source": [
    "y_train = adata_unint.obs.iloc[mask_train].disease.values.astype(str)\n",
    "y_test = adata_unint.obs.iloc[mask_test].disease.values.astype(str)\n",
    "y_val = adata_unint.obs.iloc[mask_val].disease.values.astype(str)\n",
    "y_train.shape, y_test.shape, y_val.shape "
   ]
  },
  {
   "cell_type": "code",
   "execution_count": 45,
   "metadata": {
    "execution": {
     "iopub.execute_input": "2024-06-05T15:48:12.348392Z",
     "iopub.status.busy": "2024-06-05T15:48:12.348129Z",
     "iopub.status.idle": "2024-06-05T15:48:12.622533Z",
     "shell.execute_reply": "2024-06-05T15:48:12.621559Z",
     "shell.execute_reply.started": "2024-06-05T15:48:12.348371Z"
    }
   },
   "outputs": [],
   "source": [
    "lenc = LabelEncoder()\n",
    "y_train_enc = lenc.fit_transform(y_train)\n",
    "y_val_enc = lenc.transform(y_val)\n",
    "y_test_enc = lenc.transform(y_test)"
   ]
  },
  {
   "cell_type": "markdown",
   "metadata": {},
   "source": [
    "### GENERATE F1 "
   ]
  },
  {
   "cell_type": "code",
   "execution_count": 46,
   "metadata": {},
   "outputs": [],
   "source": [
    "def custom_f1_score(y_true, y_pred):\n",
    "    return -f1_score(y_true, y_pred.argmax(1), average='weighted')"
   ]
  },
  {
   "cell_type": "code",
   "execution_count": 47,
   "metadata": {
    "execution": {
     "iopub.execute_input": "2024-06-05T17:35:53.672678Z",
     "iopub.status.busy": "2024-06-05T17:35:53.672446Z",
     "iopub.status.idle": "2024-06-05T17:35:53.689835Z",
     "shell.execute_reply": "2024-06-05T17:35:53.689207Z",
     "shell.execute_reply.started": "2024-06-05T17:35:53.672659Z"
    }
   },
   "outputs": [],
   "source": [
    "eval_metric=custom_f1_score\n",
    "eval_metric_name='custom_f1_score'\n",
    "\n",
    "def objective(trial):\n",
    "    params = {\n",
    "        'sampling_method': 'gradient_based',\n",
    "        'n_estimators': 1500,\n",
    "        'max_depth': trial.suggest_int('max_depth', 3, 20),\n",
    "        'min_child_weight': trial.suggest_int('min_child_weight', 1, 250),\n",
    "        'subsample': trial.suggest_float('subsample', 0.1, 1.0),\n",
    "        'colsample_bynode': trial.suggest_float('colsample_bynode', 0.1, 1.0),\n",
    "        'learning_rate': trial.suggest_float('learning_rate', 1e-3, 5e-1, log=True),\n",
    "    }\n",
    "    pruning_callback = optuna.integration.XGBoostPruningCallback(trial, f'validation_0-{eval_metric_name}')\n",
    "    xgb = xgboost.XGBClassifier(\n",
    "        device='gpu',\n",
    "        eval_metric=eval_metric,\n",
    "        early_stopping_rounds=20,\n",
    "        callbacks=[pruning_callback],\n",
    "        **params\n",
    "    )\n",
    "    xgb.fit(\n",
    "        X_train, \n",
    "        y_train_enc, \n",
    "        verbose=0,\n",
    "        eval_set=[(X_val, y_val_enc)],\n",
    "    )\n",
    "    trial.set_user_attr('best_iteration', xgb.best_iteration)\n",
    "\n",
    "    return xgb.best_score"
   ]
  },
  {
   "cell_type": "code",
   "execution_count": 49,
   "metadata": {
    "execution": {
     "iopub.execute_input": "2024-06-05T17:35:53.691072Z",
     "iopub.status.busy": "2024-06-05T17:35:53.690827Z",
     "iopub.status.idle": "2024-06-05T17:44:19.049681Z",
     "shell.execute_reply": "2024-06-05T17:44:19.048967Z",
     "shell.execute_reply.started": "2024-06-05T17:35:53.691054Z"
    }
   },
   "outputs": [
    {
     "name": "stderr",
     "output_type": "stream",
     "text": [
      "[I 2024-06-27 16:04:38,921] A new study created in memory with name: no-name-d26adfd8-a10c-4a48-9746-ae4ed6768c6c\n",
      "/var/tmp/ipykernel_1003505/2733496337.py:4: ExperimentalWarning: WeightsAndBiasesCallback is experimental (supported from v2.9.0). The interface can change in the future.\n",
      "  wandbc = optuna.integration.WeightsAndBiasesCallback(wandb_kwargs=wandb_kwargs)\n"
     ]
    },
    {
     "data": {
      "text/html": [
       "Finishing last run (ID:fflitor2) before initializing another..."
      ],
      "text/plain": [
       "<IPython.core.display.HTML object>"
      ]
     },
     "metadata": {},
     "output_type": "display_data"
    },
    {
     "data": {
      "application/vnd.jupyter.widget-view+json": {
       "model_id": "de572013a64d483787f81d3694f1aae5",
       "version_major": 2,
       "version_minor": 0
      },
      "text/plain": [
       "VBox(children=(Label(value='0.002 MB of 0.002 MB uploaded\\r'), FloatProgress(value=1.0, max=1.0)))"
      ]
     },
     "metadata": {},
     "output_type": "display_data"
    },
    {
     "data": {
      "text/html": [
       " View run <strong style=\"color:#cdcd00\">test_Mono</strong> at: <a href='https://wandb.ai/fcraighero/xgboost_unintegrated/runs/fflitor2/workspace' target=\"_blank\">https://wandb.ai/fcraighero/xgboost_unintegrated/runs/fflitor2/workspace</a><br/>Synced 5 W&B file(s), 0 media file(s), 0 artifact file(s) and 0 other file(s)"
      ],
      "text/plain": [
       "<IPython.core.display.HTML object>"
      ]
     },
     "metadata": {},
     "output_type": "display_data"
    },
    {
     "data": {
      "text/html": [
       "Find logs at: <code>./wandb/run-20240627_160104-fflitor2/logs</code>"
      ],
      "text/plain": [
       "<IPython.core.display.HTML object>"
      ]
     },
     "metadata": {},
     "output_type": "display_data"
    },
    {
     "data": {
      "text/html": [
       "Successfully finished last run (ID:fflitor2). Initializing new run:<br/>"
      ],
      "text/plain": [
       "<IPython.core.display.HTML object>"
      ]
     },
     "metadata": {},
     "output_type": "display_data"
    },
    {
     "data": {
      "text/html": [
       "wandb version 0.17.3 is available!  To upgrade, please run:\n",
       " $ pip install wandb --upgrade"
      ],
      "text/plain": [
       "<IPython.core.display.HTML object>"
      ]
     },
     "metadata": {},
     "output_type": "display_data"
    },
    {
     "data": {
      "text/html": [
       "Tracking run with wandb version 0.16.5"
      ],
      "text/plain": [
       "<IPython.core.display.HTML object>"
      ]
     },
     "metadata": {},
     "output_type": "display_data"
    },
    {
     "data": {
      "text/html": [
       "Run data is saved locally in <code>/home/craigher/inflammabucket/03_Downstream_Analysis/05_SHAP/templates/wandb/run-20240627_160438-n92czrrp</code>"
      ],
      "text/plain": [
       "<IPython.core.display.HTML object>"
      ]
     },
     "metadata": {},
     "output_type": "display_data"
    },
    {
     "data": {
      "text/html": [
       "Syncing run <strong><a href='https://wandb.ai/fcraighero/xgboost_unintegrated/runs/n92czrrp/workspace' target=\"_blank\">test_Mono</a></strong> to <a href='https://wandb.ai/fcraighero/xgboost_unintegrated' target=\"_blank\">Weights & Biases</a> (<a href='https://wandb.me/run' target=\"_blank\">docs</a>)<br/>"
      ],
      "text/plain": [
       "<IPython.core.display.HTML object>"
      ]
     },
     "metadata": {},
     "output_type": "display_data"
    },
    {
     "data": {
      "text/html": [
       " View project at <a href='https://wandb.ai/fcraighero/xgboost_unintegrated' target=\"_blank\">https://wandb.ai/fcraighero/xgboost_unintegrated</a>"
      ],
      "text/plain": [
       "<IPython.core.display.HTML object>"
      ]
     },
     "metadata": {},
     "output_type": "display_data"
    },
    {
     "data": {
      "text/html": [
       " View run at <a href='https://wandb.ai/fcraighero/xgboost_unintegrated/runs/n92czrrp/workspace' target=\"_blank\">https://wandb.ai/fcraighero/xgboost_unintegrated/runs/n92czrrp/workspace</a>"
      ],
      "text/plain": [
       "<IPython.core.display.HTML object>"
      ]
     },
     "metadata": {},
     "output_type": "display_data"
    },
    {
     "name": "stderr",
     "output_type": "stream",
     "text": [
      "[W 2024-06-27 16:05:45,811] Trial 0 failed with parameters: {'max_depth': 9, 'min_child_weight': 238, 'subsample': 0.7587945476302645, 'colsample_bynode': 0.6387926357773329, 'learning_rate': 0.0026368755339723046} because of the following error: XGBoostError('[16:05:45] /home/conda/feedstock_root/build_artifacts/xgboost-split_1713397827678/work/src/tree/updater_gpu_hist.cu:781: Exception in gpu_hist: [16:05:45] /home/conda/feedstock_root/build_artifacts/xgboost-split_1713397827678/work/src/c_api/../data/../common/device_helpers.cuh:431: Memory allocation error on worker 0: std::bad_alloc: cudaErrorMemoryAllocation: out of memory\\n- Free memory: 1552678912\\n- Requested memory: 5351158672\\n\\nStack trace:\\n  [bt] (0) /opt/conda/envs/xgboostt/lib/libxgboost.so(dmlc::LogMessageFatal::~LogMessageFatal()+0x71) [0x7f5e60641cf1]\\n  [bt] (1) /opt/conda/envs/xgboostt/lib/libxgboost.so(dh::detail::ThrowOOMError(std::__cxx11::basic_string<char, std::char_traits<char>, std::allocator<char> > const&, unsigned long)+0x466) [0x7f5e60bfc7d6]\\n  [bt] (2) /opt/conda/envs/xgboostt/lib/libxgboost.so(+0x2cd5d1) [0x7f5e605dc5d1]\\n  [bt] (3) /opt/conda/envs/xgboostt/lib/libxgboost.so(thrust::detail::vector_base<unsigned char, dh::detail::XGBDefaultDeviceAllocatorImpl<unsigned char> >::fill_insert(thrust::detail::normal_iterator<thrust::device_ptr<unsigned char> >, unsigned long, unsigned char const&)+0x4c8) [0x7f5e60c52408]\\n  [bt] (4) /opt/conda/envs/xgboostt/lib/libxgboost.so(xgboost::HostDeviceVector<unsigned char>::Resize(unsigned long, unsigned char)+0x1bb) [0x7f5e60c52ddb]\\n  [bt] (5) /opt/conda/envs/xgboostt/lib/libxgboost.so(xgboost::EllpackPageImpl::EllpackPageImpl(xgboost::Context const*, xgboost::GHistIndexMatrix const&, xgboost::common::Span<xgboost::FeatureType const, 18446744073709551615ul>)+0x36f) [0x7f5e60cc67bf]\\n  [bt] (6) /opt/conda/envs/xgboostt/lib/libxgboost.so(xgboost::data::IterativeDMatrix::GetEllpackBatches(xgboost::Context const*, xgboost::BatchParam const&)+0x58e) [0x7f5e60cf279e]\\n  [bt] (7) /opt/conda/envs/xgboostt/lib/libxgboost.so(xgboost::tree::GradientBasedSampling::Sample(xgboost::Context const*, xgboost::common::Span<xgboost::detail::GradientPairInternal<float>, 18446744073709551615ul>, xgboost::DMatrix*)+0x105) [0x7f5e60f8dad5]\\n  [bt] (8) /opt/conda/envs/xgboostt/lib/libxgboost.so(xgboost::tree::GradientBasedSampler::Sample(xgboost::Context const*, xgboost::common::Span<xgboost::detail::GradientPairInternal<float>, 18446744073709551615ul>, xgboost::DMatrix*)+0x9d) [0x7f5e60f8537d]\\n\\n\\n\\nStack trace:\\n  [bt] (0) /opt/conda/envs/xgboostt/lib/libxgboost.so(dmlc::LogMessageFatal::~LogMessageFatal()+0x71) [0x7f5e60641cf1]\\n  [bt] (1) /opt/conda/envs/xgboostt/lib/libxgboost.so(xgboost::tree::GPUHistMaker::Update(xgboost::tree::TrainParam const*, xgboost::HostDeviceVector<xgboost::detail::GradientPairInternal<float> >*, xgboost::DMatrix*, xgboost::common::Span<xgboost::HostDeviceVector<int>, 18446744073709551615ul>, std::vector<xgboost::RegTree*, std::allocator<xgboost::RegTree*> > const&)+0x3e9) [0x7f5e60fc77b9]\\n  [bt] (2) /opt/conda/envs/xgboostt/lib/libxgboost.so(xgboost::gbm::GBTree::BoostNewTrees(xgboost::HostDeviceVector<xgboost::detail::GradientPairInternal<float> >*, xgboost::DMatrix*, int, std::vector<xgboost::HostDeviceVector<int>, std::allocator<xgboost::HostDeviceVector<int> > >*, std::vector<std::unique_ptr<xgboost::RegTree, std::default_delete<xgboost::RegTree> >, std::allocator<std::unique_ptr<xgboost::RegTree, std::default_delete<xgboost::RegTree> > > >*)+0x821) [0x7f5e6090b1d1]\\n  [bt] (3) /opt/conda/envs/xgboostt/lib/libxgboost.so(xgboost::gbm::GBTree::DoBoost(xgboost::DMatrix*, xgboost::HostDeviceVector<xgboost::detail::GradientPairInternal<float> >*, xgboost::PredictionCacheEntry*, xgboost::ObjFunction const*)+0x50d) [0x7f5e6090c1fd]\\n  [bt] (4) /opt/conda/envs/xgboostt/lib/libxgboost.so(xgboost::LearnerImpl::UpdateOneIter(int, std::shared_ptr<xgboost::DMatrix>)+0x353) [0x7f5e60954673]\\n  [bt] (5) /opt/conda/envs/xgboostt/lib/libxgboost.so(XGBoosterUpdateOneIter+0x74) [0x7f5e60624834]\\n  [bt] (6) /opt/conda/envs/xgboostt/lib/python3.12/lib-dynload/../../libffi.so.8(+0x6a4a) [0x7f5f1d00ca4a]\\n  [bt] (7) /opt/conda/envs/xgboostt/lib/python3.12/lib-dynload/../../libffi.so.8(+0x5fea) [0x7f5f1d00bfea]\\n  [bt] (8) /opt/conda/envs/xgboostt/lib/python3.12/lib-dynload/_ctypes.cpython-312-x86_64-linux-gnu.so(+0x13509) [0x7f5f1d7ba509]\\n\\n').\n",
      "Traceback (most recent call last):\n",
      "  File \"/opt/conda/envs/xgboostt/lib/python3.12/site-packages/optuna/study/_optimize.py\", line 196, in _run_trial\n",
      "    value_or_values = func(trial)\n",
      "                      ^^^^^^^^^^^\n",
      "  File \"/var/tmp/ipykernel_1003505/714125846.py\", line 22, in objective\n",
      "    xgb.fit(\n",
      "  File \"/opt/conda/envs/xgboostt/lib/python3.12/site-packages/xgboost/core.py\", line 730, in inner_f\n",
      "    return func(**kwargs)\n",
      "           ^^^^^^^^^^^^^^\n",
      "  File \"/opt/conda/envs/xgboostt/lib/python3.12/site-packages/xgboost/sklearn.py\", line 1519, in fit\n",
      "    self._Booster = train(\n",
      "                    ^^^^^^\n",
      "  File \"/opt/conda/envs/xgboostt/lib/python3.12/site-packages/xgboost/core.py\", line 730, in inner_f\n",
      "    return func(**kwargs)\n",
      "           ^^^^^^^^^^^^^^\n",
      "  File \"/opt/conda/envs/xgboostt/lib/python3.12/site-packages/xgboost/training.py\", line 181, in train\n",
      "    bst.update(dtrain, i, obj)\n",
      "  File \"/opt/conda/envs/xgboostt/lib/python3.12/site-packages/xgboost/core.py\", line 2050, in update\n",
      "    _check_call(\n",
      "  File \"/opt/conda/envs/xgboostt/lib/python3.12/site-packages/xgboost/core.py\", line 282, in _check_call\n",
      "    raise XGBoostError(py_str(_LIB.XGBGetLastError()))\n",
      "xgboost.core.XGBoostError: [16:05:45] /home/conda/feedstock_root/build_artifacts/xgboost-split_1713397827678/work/src/tree/updater_gpu_hist.cu:781: Exception in gpu_hist: [16:05:45] /home/conda/feedstock_root/build_artifacts/xgboost-split_1713397827678/work/src/c_api/../data/../common/device_helpers.cuh:431: Memory allocation error on worker 0: std::bad_alloc: cudaErrorMemoryAllocation: out of memory\n",
      "- Free memory: 1552678912\n",
      "- Requested memory: 5351158672\n",
      "\n",
      "Stack trace:\n",
      "  [bt] (0) /opt/conda/envs/xgboostt/lib/libxgboost.so(dmlc::LogMessageFatal::~LogMessageFatal()+0x71) [0x7f5e60641cf1]\n",
      "  [bt] (1) /opt/conda/envs/xgboostt/lib/libxgboost.so(dh::detail::ThrowOOMError(std::__cxx11::basic_string<char, std::char_traits<char>, std::allocator<char> > const&, unsigned long)+0x466) [0x7f5e60bfc7d6]\n",
      "  [bt] (2) /opt/conda/envs/xgboostt/lib/libxgboost.so(+0x2cd5d1) [0x7f5e605dc5d1]\n",
      "  [bt] (3) /opt/conda/envs/xgboostt/lib/libxgboost.so(thrust::detail::vector_base<unsigned char, dh::detail::XGBDefaultDeviceAllocatorImpl<unsigned char> >::fill_insert(thrust::detail::normal_iterator<thrust::device_ptr<unsigned char> >, unsigned long, unsigned char const&)+0x4c8) [0x7f5e60c52408]\n",
      "  [bt] (4) /opt/conda/envs/xgboostt/lib/libxgboost.so(xgboost::HostDeviceVector<unsigned char>::Resize(unsigned long, unsigned char)+0x1bb) [0x7f5e60c52ddb]\n",
      "  [bt] (5) /opt/conda/envs/xgboostt/lib/libxgboost.so(xgboost::EllpackPageImpl::EllpackPageImpl(xgboost::Context const*, xgboost::GHistIndexMatrix const&, xgboost::common::Span<xgboost::FeatureType const, 18446744073709551615ul>)+0x36f) [0x7f5e60cc67bf]\n",
      "  [bt] (6) /opt/conda/envs/xgboostt/lib/libxgboost.so(xgboost::data::IterativeDMatrix::GetEllpackBatches(xgboost::Context const*, xgboost::BatchParam const&)+0x58e) [0x7f5e60cf279e]\n",
      "  [bt] (7) /opt/conda/envs/xgboostt/lib/libxgboost.so(xgboost::tree::GradientBasedSampling::Sample(xgboost::Context const*, xgboost::common::Span<xgboost::detail::GradientPairInternal<float>, 18446744073709551615ul>, xgboost::DMatrix*)+0x105) [0x7f5e60f8dad5]\n",
      "  [bt] (8) /opt/conda/envs/xgboostt/lib/libxgboost.so(xgboost::tree::GradientBasedSampler::Sample(xgboost::Context const*, xgboost::common::Span<xgboost::detail::GradientPairInternal<float>, 18446744073709551615ul>, xgboost::DMatrix*)+0x9d) [0x7f5e60f8537d]\n",
      "\n",
      "\n",
      "\n",
      "Stack trace:\n",
      "  [bt] (0) /opt/conda/envs/xgboostt/lib/libxgboost.so(dmlc::LogMessageFatal::~LogMessageFatal()+0x71) [0x7f5e60641cf1]\n",
      "  [bt] (1) /opt/conda/envs/xgboostt/lib/libxgboost.so(xgboost::tree::GPUHistMaker::Update(xgboost::tree::TrainParam const*, xgboost::HostDeviceVector<xgboost::detail::GradientPairInternal<float> >*, xgboost::DMatrix*, xgboost::common::Span<xgboost::HostDeviceVector<int>, 18446744073709551615ul>, std::vector<xgboost::RegTree*, std::allocator<xgboost::RegTree*> > const&)+0x3e9) [0x7f5e60fc77b9]\n",
      "  [bt] (2) /opt/conda/envs/xgboostt/lib/libxgboost.so(xgboost::gbm::GBTree::BoostNewTrees(xgboost::HostDeviceVector<xgboost::detail::GradientPairInternal<float> >*, xgboost::DMatrix*, int, std::vector<xgboost::HostDeviceVector<int>, std::allocator<xgboost::HostDeviceVector<int> > >*, std::vector<std::unique_ptr<xgboost::RegTree, std::default_delete<xgboost::RegTree> >, std::allocator<std::unique_ptr<xgboost::RegTree, std::default_delete<xgboost::RegTree> > > >*)+0x821) [0x7f5e6090b1d1]\n",
      "  [bt] (3) /opt/conda/envs/xgboostt/lib/libxgboost.so(xgboost::gbm::GBTree::DoBoost(xgboost::DMatrix*, xgboost::HostDeviceVector<xgboost::detail::GradientPairInternal<float> >*, xgboost::PredictionCacheEntry*, xgboost::ObjFunction const*)+0x50d) [0x7f5e6090c1fd]\n",
      "  [bt] (4) /opt/conda/envs/xgboostt/lib/libxgboost.so(xgboost::LearnerImpl::UpdateOneIter(int, std::shared_ptr<xgboost::DMatrix>)+0x353) [0x7f5e60954673]\n",
      "  [bt] (5) /opt/conda/envs/xgboostt/lib/libxgboost.so(XGBoosterUpdateOneIter+0x74) [0x7f5e60624834]\n",
      "  [bt] (6) /opt/conda/envs/xgboostt/lib/python3.12/lib-dynload/../../libffi.so.8(+0x6a4a) [0x7f5f1d00ca4a]\n",
      "  [bt] (7) /opt/conda/envs/xgboostt/lib/python3.12/lib-dynload/../../libffi.so.8(+0x5fea) [0x7f5f1d00bfea]\n",
      "  [bt] (8) /opt/conda/envs/xgboostt/lib/python3.12/lib-dynload/_ctypes.cpython-312-x86_64-linux-gnu.so(+0x13509) [0x7f5f1d7ba509]\n",
      "\n",
      "\n",
      "[W 2024-06-27 16:05:45,813] Trial 0 failed with value None.\n"
     ]
    },
    {
     "ename": "XGBoostError",
     "evalue": "[16:05:45] /home/conda/feedstock_root/build_artifacts/xgboost-split_1713397827678/work/src/tree/updater_gpu_hist.cu:781: Exception in gpu_hist: [16:05:45] /home/conda/feedstock_root/build_artifacts/xgboost-split_1713397827678/work/src/c_api/../data/../common/device_helpers.cuh:431: Memory allocation error on worker 0: std::bad_alloc: cudaErrorMemoryAllocation: out of memory\n- Free memory: 1552678912\n- Requested memory: 5351158672\n\nStack trace:\n  [bt] (0) /opt/conda/envs/xgboostt/lib/libxgboost.so(dmlc::LogMessageFatal::~LogMessageFatal()+0x71) [0x7f5e60641cf1]\n  [bt] (1) /opt/conda/envs/xgboostt/lib/libxgboost.so(dh::detail::ThrowOOMError(std::__cxx11::basic_string<char, std::char_traits<char>, std::allocator<char> > const&, unsigned long)+0x466) [0x7f5e60bfc7d6]\n  [bt] (2) /opt/conda/envs/xgboostt/lib/libxgboost.so(+0x2cd5d1) [0x7f5e605dc5d1]\n  [bt] (3) /opt/conda/envs/xgboostt/lib/libxgboost.so(thrust::detail::vector_base<unsigned char, dh::detail::XGBDefaultDeviceAllocatorImpl<unsigned char> >::fill_insert(thrust::detail::normal_iterator<thrust::device_ptr<unsigned char> >, unsigned long, unsigned char const&)+0x4c8) [0x7f5e60c52408]\n  [bt] (4) /opt/conda/envs/xgboostt/lib/libxgboost.so(xgboost::HostDeviceVector<unsigned char>::Resize(unsigned long, unsigned char)+0x1bb) [0x7f5e60c52ddb]\n  [bt] (5) /opt/conda/envs/xgboostt/lib/libxgboost.so(xgboost::EllpackPageImpl::EllpackPageImpl(xgboost::Context const*, xgboost::GHistIndexMatrix const&, xgboost::common::Span<xgboost::FeatureType const, 18446744073709551615ul>)+0x36f) [0x7f5e60cc67bf]\n  [bt] (6) /opt/conda/envs/xgboostt/lib/libxgboost.so(xgboost::data::IterativeDMatrix::GetEllpackBatches(xgboost::Context const*, xgboost::BatchParam const&)+0x58e) [0x7f5e60cf279e]\n  [bt] (7) /opt/conda/envs/xgboostt/lib/libxgboost.so(xgboost::tree::GradientBasedSampling::Sample(xgboost::Context const*, xgboost::common::Span<xgboost::detail::GradientPairInternal<float>, 18446744073709551615ul>, xgboost::DMatrix*)+0x105) [0x7f5e60f8dad5]\n  [bt] (8) /opt/conda/envs/xgboostt/lib/libxgboost.so(xgboost::tree::GradientBasedSampler::Sample(xgboost::Context const*, xgboost::common::Span<xgboost::detail::GradientPairInternal<float>, 18446744073709551615ul>, xgboost::DMatrix*)+0x9d) [0x7f5e60f8537d]\n\n\n\nStack trace:\n  [bt] (0) /opt/conda/envs/xgboostt/lib/libxgboost.so(dmlc::LogMessageFatal::~LogMessageFatal()+0x71) [0x7f5e60641cf1]\n  [bt] (1) /opt/conda/envs/xgboostt/lib/libxgboost.so(xgboost::tree::GPUHistMaker::Update(xgboost::tree::TrainParam const*, xgboost::HostDeviceVector<xgboost::detail::GradientPairInternal<float> >*, xgboost::DMatrix*, xgboost::common::Span<xgboost::HostDeviceVector<int>, 18446744073709551615ul>, std::vector<xgboost::RegTree*, std::allocator<xgboost::RegTree*> > const&)+0x3e9) [0x7f5e60fc77b9]\n  [bt] (2) /opt/conda/envs/xgboostt/lib/libxgboost.so(xgboost::gbm::GBTree::BoostNewTrees(xgboost::HostDeviceVector<xgboost::detail::GradientPairInternal<float> >*, xgboost::DMatrix*, int, std::vector<xgboost::HostDeviceVector<int>, std::allocator<xgboost::HostDeviceVector<int> > >*, std::vector<std::unique_ptr<xgboost::RegTree, std::default_delete<xgboost::RegTree> >, std::allocator<std::unique_ptr<xgboost::RegTree, std::default_delete<xgboost::RegTree> > > >*)+0x821) [0x7f5e6090b1d1]\n  [bt] (3) /opt/conda/envs/xgboostt/lib/libxgboost.so(xgboost::gbm::GBTree::DoBoost(xgboost::DMatrix*, xgboost::HostDeviceVector<xgboost::detail::GradientPairInternal<float> >*, xgboost::PredictionCacheEntry*, xgboost::ObjFunction const*)+0x50d) [0x7f5e6090c1fd]\n  [bt] (4) /opt/conda/envs/xgboostt/lib/libxgboost.so(xgboost::LearnerImpl::UpdateOneIter(int, std::shared_ptr<xgboost::DMatrix>)+0x353) [0x7f5e60954673]\n  [bt] (5) /opt/conda/envs/xgboostt/lib/libxgboost.so(XGBoosterUpdateOneIter+0x74) [0x7f5e60624834]\n  [bt] (6) /opt/conda/envs/xgboostt/lib/python3.12/lib-dynload/../../libffi.so.8(+0x6a4a) [0x7f5f1d00ca4a]\n  [bt] (7) /opt/conda/envs/xgboostt/lib/python3.12/lib-dynload/../../libffi.so.8(+0x5fea) [0x7f5f1d00bfea]\n  [bt] (8) /opt/conda/envs/xgboostt/lib/python3.12/lib-dynload/_ctypes.cpython-312-x86_64-linux-gnu.so(+0x13509) [0x7f5f1d7ba509]\n\n",
     "output_type": "error",
     "traceback": [
      "\u001b[0;31m---------------------------------------------------------------------------\u001b[0m",
      "\u001b[0;31mXGBoostError\u001b[0m                              Traceback (most recent call last)",
      "Cell \u001b[0;32mIn[49], line 5\u001b[0m\n\u001b[1;32m      3\u001b[0m wandb_kwargs \u001b[38;5;241m=\u001b[39m {\u001b[38;5;124m\"\u001b[39m\u001b[38;5;124mproject\u001b[39m\u001b[38;5;124m\"\u001b[39m: \u001b[38;5;124m\"\u001b[39m\u001b[38;5;124mxgboost_unintegrated\u001b[39m\u001b[38;5;124m\"\u001b[39m, \u001b[38;5;124m\"\u001b[39m\u001b[38;5;124mname\u001b[39m\u001b[38;5;124m\"\u001b[39m: \u001b[38;5;124mf\u001b[39m\u001b[38;5;124m\"\u001b[39m\u001b[38;5;132;01m{\u001b[39;00mRUN_NAME\u001b[38;5;132;01m}\u001b[39;00m\u001b[38;5;132;01m{\u001b[39;00mCELL_TYPE\u001b[38;5;132;01m}\u001b[39;00m\u001b[38;5;124m\"\u001b[39m}\n\u001b[1;32m      4\u001b[0m wandbc \u001b[38;5;241m=\u001b[39m optuna\u001b[38;5;241m.\u001b[39mintegration\u001b[38;5;241m.\u001b[39mWeightsAndBiasesCallback(wandb_kwargs\u001b[38;5;241m=\u001b[39mwandb_kwargs)\n\u001b[0;32m----> 5\u001b[0m \u001b[43mstudy\u001b[49m\u001b[38;5;241;43m.\u001b[39;49m\u001b[43moptimize\u001b[49m\u001b[43m(\u001b[49m\u001b[43mobjective\u001b[49m\u001b[43m,\u001b[49m\u001b[43m \u001b[49m\u001b[43mn_trials\u001b[49m\u001b[38;5;241;43m=\u001b[39;49m\u001b[38;5;241;43m1\u001b[39;49m\u001b[43m,\u001b[49m\u001b[43m \u001b[49m\u001b[43mcallbacks\u001b[49m\u001b[38;5;241;43m=\u001b[39;49m\u001b[43m[\u001b[49m\u001b[43mwandbc\u001b[49m\u001b[43m]\u001b[49m\u001b[43m,\u001b[49m\u001b[43m \u001b[49m\u001b[43mgc_after_trial\u001b[49m\u001b[38;5;241;43m=\u001b[39;49m\u001b[38;5;28;43;01mTrue\u001b[39;49;00m\u001b[43m)\u001b[49m\n",
      "File \u001b[0;32m/opt/conda/envs/xgboostt/lib/python3.12/site-packages/optuna/study/study.py:451\u001b[0m, in \u001b[0;36mStudy.optimize\u001b[0;34m(self, func, n_trials, timeout, n_jobs, catch, callbacks, gc_after_trial, show_progress_bar)\u001b[0m\n\u001b[1;32m    348\u001b[0m \u001b[38;5;28;01mdef\u001b[39;00m \u001b[38;5;21moptimize\u001b[39m(\n\u001b[1;32m    349\u001b[0m     \u001b[38;5;28mself\u001b[39m,\n\u001b[1;32m    350\u001b[0m     func: ObjectiveFuncType,\n\u001b[0;32m   (...)\u001b[0m\n\u001b[1;32m    357\u001b[0m     show_progress_bar: \u001b[38;5;28mbool\u001b[39m \u001b[38;5;241m=\u001b[39m \u001b[38;5;28;01mFalse\u001b[39;00m,\n\u001b[1;32m    358\u001b[0m ) \u001b[38;5;241m-\u001b[39m\u001b[38;5;241m>\u001b[39m \u001b[38;5;28;01mNone\u001b[39;00m:\n\u001b[1;32m    359\u001b[0m \u001b[38;5;250m    \u001b[39m\u001b[38;5;124;03m\"\"\"Optimize an objective function.\u001b[39;00m\n\u001b[1;32m    360\u001b[0m \n\u001b[1;32m    361\u001b[0m \u001b[38;5;124;03m    Optimization is done by choosing a suitable set of hyperparameter values from a given\u001b[39;00m\n\u001b[0;32m   (...)\u001b[0m\n\u001b[1;32m    449\u001b[0m \u001b[38;5;124;03m            If nested invocation of this method occurs.\u001b[39;00m\n\u001b[1;32m    450\u001b[0m \u001b[38;5;124;03m    \"\"\"\u001b[39;00m\n\u001b[0;32m--> 451\u001b[0m     \u001b[43m_optimize\u001b[49m\u001b[43m(\u001b[49m\n\u001b[1;32m    452\u001b[0m \u001b[43m        \u001b[49m\u001b[43mstudy\u001b[49m\u001b[38;5;241;43m=\u001b[39;49m\u001b[38;5;28;43mself\u001b[39;49m\u001b[43m,\u001b[49m\n\u001b[1;32m    453\u001b[0m \u001b[43m        \u001b[49m\u001b[43mfunc\u001b[49m\u001b[38;5;241;43m=\u001b[39;49m\u001b[43mfunc\u001b[49m\u001b[43m,\u001b[49m\n\u001b[1;32m    454\u001b[0m \u001b[43m        \u001b[49m\u001b[43mn_trials\u001b[49m\u001b[38;5;241;43m=\u001b[39;49m\u001b[43mn_trials\u001b[49m\u001b[43m,\u001b[49m\n\u001b[1;32m    455\u001b[0m \u001b[43m        \u001b[49m\u001b[43mtimeout\u001b[49m\u001b[38;5;241;43m=\u001b[39;49m\u001b[43mtimeout\u001b[49m\u001b[43m,\u001b[49m\n\u001b[1;32m    456\u001b[0m \u001b[43m        \u001b[49m\u001b[43mn_jobs\u001b[49m\u001b[38;5;241;43m=\u001b[39;49m\u001b[43mn_jobs\u001b[49m\u001b[43m,\u001b[49m\n\u001b[1;32m    457\u001b[0m \u001b[43m        \u001b[49m\u001b[43mcatch\u001b[49m\u001b[38;5;241;43m=\u001b[39;49m\u001b[38;5;28;43mtuple\u001b[39;49m\u001b[43m(\u001b[49m\u001b[43mcatch\u001b[49m\u001b[43m)\u001b[49m\u001b[43m \u001b[49m\u001b[38;5;28;43;01mif\u001b[39;49;00m\u001b[43m \u001b[49m\u001b[38;5;28;43misinstance\u001b[39;49m\u001b[43m(\u001b[49m\u001b[43mcatch\u001b[49m\u001b[43m,\u001b[49m\u001b[43m \u001b[49m\u001b[43mIterable\u001b[49m\u001b[43m)\u001b[49m\u001b[43m \u001b[49m\u001b[38;5;28;43;01melse\u001b[39;49;00m\u001b[43m \u001b[49m\u001b[43m(\u001b[49m\u001b[43mcatch\u001b[49m\u001b[43m,\u001b[49m\u001b[43m)\u001b[49m\u001b[43m,\u001b[49m\n\u001b[1;32m    458\u001b[0m \u001b[43m        \u001b[49m\u001b[43mcallbacks\u001b[49m\u001b[38;5;241;43m=\u001b[39;49m\u001b[43mcallbacks\u001b[49m\u001b[43m,\u001b[49m\n\u001b[1;32m    459\u001b[0m \u001b[43m        \u001b[49m\u001b[43mgc_after_trial\u001b[49m\u001b[38;5;241;43m=\u001b[39;49m\u001b[43mgc_after_trial\u001b[49m\u001b[43m,\u001b[49m\n\u001b[1;32m    460\u001b[0m \u001b[43m        \u001b[49m\u001b[43mshow_progress_bar\u001b[49m\u001b[38;5;241;43m=\u001b[39;49m\u001b[43mshow_progress_bar\u001b[49m\u001b[43m,\u001b[49m\n\u001b[1;32m    461\u001b[0m \u001b[43m    \u001b[49m\u001b[43m)\u001b[49m\n",
      "File \u001b[0;32m/opt/conda/envs/xgboostt/lib/python3.12/site-packages/optuna/study/_optimize.py:62\u001b[0m, in \u001b[0;36m_optimize\u001b[0;34m(study, func, n_trials, timeout, n_jobs, catch, callbacks, gc_after_trial, show_progress_bar)\u001b[0m\n\u001b[1;32m     60\u001b[0m \u001b[38;5;28;01mtry\u001b[39;00m:\n\u001b[1;32m     61\u001b[0m     \u001b[38;5;28;01mif\u001b[39;00m n_jobs \u001b[38;5;241m==\u001b[39m \u001b[38;5;241m1\u001b[39m:\n\u001b[0;32m---> 62\u001b[0m         \u001b[43m_optimize_sequential\u001b[49m\u001b[43m(\u001b[49m\n\u001b[1;32m     63\u001b[0m \u001b[43m            \u001b[49m\u001b[43mstudy\u001b[49m\u001b[43m,\u001b[49m\n\u001b[1;32m     64\u001b[0m \u001b[43m            \u001b[49m\u001b[43mfunc\u001b[49m\u001b[43m,\u001b[49m\n\u001b[1;32m     65\u001b[0m \u001b[43m            \u001b[49m\u001b[43mn_trials\u001b[49m\u001b[43m,\u001b[49m\n\u001b[1;32m     66\u001b[0m \u001b[43m            \u001b[49m\u001b[43mtimeout\u001b[49m\u001b[43m,\u001b[49m\n\u001b[1;32m     67\u001b[0m \u001b[43m            \u001b[49m\u001b[43mcatch\u001b[49m\u001b[43m,\u001b[49m\n\u001b[1;32m     68\u001b[0m \u001b[43m            \u001b[49m\u001b[43mcallbacks\u001b[49m\u001b[43m,\u001b[49m\n\u001b[1;32m     69\u001b[0m \u001b[43m            \u001b[49m\u001b[43mgc_after_trial\u001b[49m\u001b[43m,\u001b[49m\n\u001b[1;32m     70\u001b[0m \u001b[43m            \u001b[49m\u001b[43mreseed_sampler_rng\u001b[49m\u001b[38;5;241;43m=\u001b[39;49m\u001b[38;5;28;43;01mFalse\u001b[39;49;00m\u001b[43m,\u001b[49m\n\u001b[1;32m     71\u001b[0m \u001b[43m            \u001b[49m\u001b[43mtime_start\u001b[49m\u001b[38;5;241;43m=\u001b[39;49m\u001b[38;5;28;43;01mNone\u001b[39;49;00m\u001b[43m,\u001b[49m\n\u001b[1;32m     72\u001b[0m \u001b[43m            \u001b[49m\u001b[43mprogress_bar\u001b[49m\u001b[38;5;241;43m=\u001b[39;49m\u001b[43mprogress_bar\u001b[49m\u001b[43m,\u001b[49m\n\u001b[1;32m     73\u001b[0m \u001b[43m        \u001b[49m\u001b[43m)\u001b[49m\n\u001b[1;32m     74\u001b[0m     \u001b[38;5;28;01melse\u001b[39;00m:\n\u001b[1;32m     75\u001b[0m         \u001b[38;5;28;01mif\u001b[39;00m n_jobs \u001b[38;5;241m==\u001b[39m \u001b[38;5;241m-\u001b[39m\u001b[38;5;241m1\u001b[39m:\n",
      "File \u001b[0;32m/opt/conda/envs/xgboostt/lib/python3.12/site-packages/optuna/study/_optimize.py:159\u001b[0m, in \u001b[0;36m_optimize_sequential\u001b[0;34m(study, func, n_trials, timeout, catch, callbacks, gc_after_trial, reseed_sampler_rng, time_start, progress_bar)\u001b[0m\n\u001b[1;32m    156\u001b[0m         \u001b[38;5;28;01mbreak\u001b[39;00m\n\u001b[1;32m    158\u001b[0m \u001b[38;5;28;01mtry\u001b[39;00m:\n\u001b[0;32m--> 159\u001b[0m     frozen_trial \u001b[38;5;241m=\u001b[39m \u001b[43m_run_trial\u001b[49m\u001b[43m(\u001b[49m\u001b[43mstudy\u001b[49m\u001b[43m,\u001b[49m\u001b[43m \u001b[49m\u001b[43mfunc\u001b[49m\u001b[43m,\u001b[49m\u001b[43m \u001b[49m\u001b[43mcatch\u001b[49m\u001b[43m)\u001b[49m\n\u001b[1;32m    160\u001b[0m \u001b[38;5;28;01mfinally\u001b[39;00m:\n\u001b[1;32m    161\u001b[0m     \u001b[38;5;66;03m# The following line mitigates memory problems that can be occurred in some\u001b[39;00m\n\u001b[1;32m    162\u001b[0m     \u001b[38;5;66;03m# environments (e.g., services that use computing containers such as GitHub Actions).\u001b[39;00m\n\u001b[1;32m    163\u001b[0m     \u001b[38;5;66;03m# Please refer to the following PR for further details:\u001b[39;00m\n\u001b[1;32m    164\u001b[0m     \u001b[38;5;66;03m# https://github.com/optuna/optuna/pull/325.\u001b[39;00m\n\u001b[1;32m    165\u001b[0m     \u001b[38;5;28;01mif\u001b[39;00m gc_after_trial:\n",
      "File \u001b[0;32m/opt/conda/envs/xgboostt/lib/python3.12/site-packages/optuna/study/_optimize.py:247\u001b[0m, in \u001b[0;36m_run_trial\u001b[0;34m(study, func, catch)\u001b[0m\n\u001b[1;32m    240\u001b[0m         \u001b[38;5;28;01massert\u001b[39;00m \u001b[38;5;28;01mFalse\u001b[39;00m, \u001b[38;5;124m\"\u001b[39m\u001b[38;5;124mShould not reach.\u001b[39m\u001b[38;5;124m\"\u001b[39m\n\u001b[1;32m    242\u001b[0m \u001b[38;5;28;01mif\u001b[39;00m (\n\u001b[1;32m    243\u001b[0m     frozen_trial\u001b[38;5;241m.\u001b[39mstate \u001b[38;5;241m==\u001b[39m TrialState\u001b[38;5;241m.\u001b[39mFAIL\n\u001b[1;32m    244\u001b[0m     \u001b[38;5;129;01mand\u001b[39;00m func_err \u001b[38;5;129;01mis\u001b[39;00m \u001b[38;5;129;01mnot\u001b[39;00m \u001b[38;5;28;01mNone\u001b[39;00m\n\u001b[1;32m    245\u001b[0m     \u001b[38;5;129;01mand\u001b[39;00m \u001b[38;5;129;01mnot\u001b[39;00m \u001b[38;5;28misinstance\u001b[39m(func_err, catch)\n\u001b[1;32m    246\u001b[0m ):\n\u001b[0;32m--> 247\u001b[0m     \u001b[38;5;28;01mraise\u001b[39;00m func_err\n\u001b[1;32m    248\u001b[0m \u001b[38;5;28;01mreturn\u001b[39;00m frozen_trial\n",
      "File \u001b[0;32m/opt/conda/envs/xgboostt/lib/python3.12/site-packages/optuna/study/_optimize.py:196\u001b[0m, in \u001b[0;36m_run_trial\u001b[0;34m(study, func, catch)\u001b[0m\n\u001b[1;32m    194\u001b[0m \u001b[38;5;28;01mwith\u001b[39;00m get_heartbeat_thread(trial\u001b[38;5;241m.\u001b[39m_trial_id, study\u001b[38;5;241m.\u001b[39m_storage):\n\u001b[1;32m    195\u001b[0m     \u001b[38;5;28;01mtry\u001b[39;00m:\n\u001b[0;32m--> 196\u001b[0m         value_or_values \u001b[38;5;241m=\u001b[39m \u001b[43mfunc\u001b[49m\u001b[43m(\u001b[49m\u001b[43mtrial\u001b[49m\u001b[43m)\u001b[49m\n\u001b[1;32m    197\u001b[0m     \u001b[38;5;28;01mexcept\u001b[39;00m exceptions\u001b[38;5;241m.\u001b[39mTrialPruned \u001b[38;5;28;01mas\u001b[39;00m e:\n\u001b[1;32m    198\u001b[0m         \u001b[38;5;66;03m# TODO(mamu): Handle multi-objective cases.\u001b[39;00m\n\u001b[1;32m    199\u001b[0m         state \u001b[38;5;241m=\u001b[39m TrialState\u001b[38;5;241m.\u001b[39mPRUNED\n",
      "Cell \u001b[0;32mIn[47], line 22\u001b[0m, in \u001b[0;36mobjective\u001b[0;34m(trial)\u001b[0m\n\u001b[1;32m     14\u001b[0m pruning_callback \u001b[38;5;241m=\u001b[39m optuna\u001b[38;5;241m.\u001b[39mintegration\u001b[38;5;241m.\u001b[39mXGBoostPruningCallback(trial, \u001b[38;5;124mf\u001b[39m\u001b[38;5;124m'\u001b[39m\u001b[38;5;124mvalidation_0-\u001b[39m\u001b[38;5;132;01m{\u001b[39;00meval_metric_name\u001b[38;5;132;01m}\u001b[39;00m\u001b[38;5;124m'\u001b[39m)\n\u001b[1;32m     15\u001b[0m xgb \u001b[38;5;241m=\u001b[39m xgboost\u001b[38;5;241m.\u001b[39mXGBClassifier(\n\u001b[1;32m     16\u001b[0m     device\u001b[38;5;241m=\u001b[39m\u001b[38;5;124m'\u001b[39m\u001b[38;5;124mgpu\u001b[39m\u001b[38;5;124m'\u001b[39m,\n\u001b[1;32m     17\u001b[0m     eval_metric\u001b[38;5;241m=\u001b[39meval_metric,\n\u001b[0;32m   (...)\u001b[0m\n\u001b[1;32m     20\u001b[0m     \u001b[38;5;241m*\u001b[39m\u001b[38;5;241m*\u001b[39mparams\n\u001b[1;32m     21\u001b[0m )\n\u001b[0;32m---> 22\u001b[0m \u001b[43mxgb\u001b[49m\u001b[38;5;241;43m.\u001b[39;49m\u001b[43mfit\u001b[49m\u001b[43m(\u001b[49m\n\u001b[1;32m     23\u001b[0m \u001b[43m    \u001b[49m\u001b[43mX_train\u001b[49m\u001b[43m,\u001b[49m\u001b[43m \u001b[49m\n\u001b[1;32m     24\u001b[0m \u001b[43m    \u001b[49m\u001b[43my_train_enc\u001b[49m\u001b[43m,\u001b[49m\u001b[43m \u001b[49m\n\u001b[1;32m     25\u001b[0m \u001b[43m    \u001b[49m\u001b[43mverbose\u001b[49m\u001b[38;5;241;43m=\u001b[39;49m\u001b[38;5;241;43m0\u001b[39;49m\u001b[43m,\u001b[49m\n\u001b[1;32m     26\u001b[0m \u001b[43m    \u001b[49m\u001b[43meval_set\u001b[49m\u001b[38;5;241;43m=\u001b[39;49m\u001b[43m[\u001b[49m\u001b[43m(\u001b[49m\u001b[43mX_val\u001b[49m\u001b[43m,\u001b[49m\u001b[43m \u001b[49m\u001b[43my_val_enc\u001b[49m\u001b[43m)\u001b[49m\u001b[43m]\u001b[49m\u001b[43m,\u001b[49m\n\u001b[1;32m     27\u001b[0m \u001b[43m\u001b[49m\u001b[43m)\u001b[49m\n\u001b[1;32m     28\u001b[0m trial\u001b[38;5;241m.\u001b[39mset_user_attr(\u001b[38;5;124m'\u001b[39m\u001b[38;5;124mbest_iteration\u001b[39m\u001b[38;5;124m'\u001b[39m, xgb\u001b[38;5;241m.\u001b[39mbest_iteration)\n\u001b[1;32m     30\u001b[0m \u001b[38;5;28;01mreturn\u001b[39;00m xgb\u001b[38;5;241m.\u001b[39mbest_score\n",
      "File \u001b[0;32m/opt/conda/envs/xgboostt/lib/python3.12/site-packages/xgboost/core.py:730\u001b[0m, in \u001b[0;36mrequire_keyword_args.<locals>.throw_if.<locals>.inner_f\u001b[0;34m(*args, **kwargs)\u001b[0m\n\u001b[1;32m    728\u001b[0m \u001b[38;5;28;01mfor\u001b[39;00m k, arg \u001b[38;5;129;01min\u001b[39;00m \u001b[38;5;28mzip\u001b[39m(sig\u001b[38;5;241m.\u001b[39mparameters, args):\n\u001b[1;32m    729\u001b[0m     kwargs[k] \u001b[38;5;241m=\u001b[39m arg\n\u001b[0;32m--> 730\u001b[0m \u001b[38;5;28;01mreturn\u001b[39;00m \u001b[43mfunc\u001b[49m\u001b[43m(\u001b[49m\u001b[38;5;241;43m*\u001b[39;49m\u001b[38;5;241;43m*\u001b[39;49m\u001b[43mkwargs\u001b[49m\u001b[43m)\u001b[49m\n",
      "File \u001b[0;32m/opt/conda/envs/xgboostt/lib/python3.12/site-packages/xgboost/sklearn.py:1519\u001b[0m, in \u001b[0;36mXGBClassifier.fit\u001b[0;34m(self, X, y, sample_weight, base_margin, eval_set, eval_metric, early_stopping_rounds, verbose, xgb_model, sample_weight_eval_set, base_margin_eval_set, feature_weights, callbacks)\u001b[0m\n\u001b[1;32m   1491\u001b[0m (\n\u001b[1;32m   1492\u001b[0m     model,\n\u001b[1;32m   1493\u001b[0m     metric,\n\u001b[0;32m   (...)\u001b[0m\n\u001b[1;32m   1498\u001b[0m     xgb_model, eval_metric, params, early_stopping_rounds, callbacks\n\u001b[1;32m   1499\u001b[0m )\n\u001b[1;32m   1500\u001b[0m train_dmatrix, evals \u001b[38;5;241m=\u001b[39m _wrap_evaluation_matrices(\n\u001b[1;32m   1501\u001b[0m     missing\u001b[38;5;241m=\u001b[39m\u001b[38;5;28mself\u001b[39m\u001b[38;5;241m.\u001b[39mmissing,\n\u001b[1;32m   1502\u001b[0m     X\u001b[38;5;241m=\u001b[39mX,\n\u001b[0;32m   (...)\u001b[0m\n\u001b[1;32m   1516\u001b[0m     feature_types\u001b[38;5;241m=\u001b[39m\u001b[38;5;28mself\u001b[39m\u001b[38;5;241m.\u001b[39mfeature_types,\n\u001b[1;32m   1517\u001b[0m )\n\u001b[0;32m-> 1519\u001b[0m \u001b[38;5;28mself\u001b[39m\u001b[38;5;241m.\u001b[39m_Booster \u001b[38;5;241m=\u001b[39m \u001b[43mtrain\u001b[49m\u001b[43m(\u001b[49m\n\u001b[1;32m   1520\u001b[0m \u001b[43m    \u001b[49m\u001b[43mparams\u001b[49m\u001b[43m,\u001b[49m\n\u001b[1;32m   1521\u001b[0m \u001b[43m    \u001b[49m\u001b[43mtrain_dmatrix\u001b[49m\u001b[43m,\u001b[49m\n\u001b[1;32m   1522\u001b[0m \u001b[43m    \u001b[49m\u001b[38;5;28;43mself\u001b[39;49m\u001b[38;5;241;43m.\u001b[39;49m\u001b[43mget_num_boosting_rounds\u001b[49m\u001b[43m(\u001b[49m\u001b[43m)\u001b[49m\u001b[43m,\u001b[49m\n\u001b[1;32m   1523\u001b[0m \u001b[43m    \u001b[49m\u001b[43mevals\u001b[49m\u001b[38;5;241;43m=\u001b[39;49m\u001b[43mevals\u001b[49m\u001b[43m,\u001b[49m\n\u001b[1;32m   1524\u001b[0m \u001b[43m    \u001b[49m\u001b[43mearly_stopping_rounds\u001b[49m\u001b[38;5;241;43m=\u001b[39;49m\u001b[43mearly_stopping_rounds\u001b[49m\u001b[43m,\u001b[49m\n\u001b[1;32m   1525\u001b[0m \u001b[43m    \u001b[49m\u001b[43mevals_result\u001b[49m\u001b[38;5;241;43m=\u001b[39;49m\u001b[43mevals_result\u001b[49m\u001b[43m,\u001b[49m\n\u001b[1;32m   1526\u001b[0m \u001b[43m    \u001b[49m\u001b[43mobj\u001b[49m\u001b[38;5;241;43m=\u001b[39;49m\u001b[43mobj\u001b[49m\u001b[43m,\u001b[49m\n\u001b[1;32m   1527\u001b[0m \u001b[43m    \u001b[49m\u001b[43mcustom_metric\u001b[49m\u001b[38;5;241;43m=\u001b[39;49m\u001b[43mmetric\u001b[49m\u001b[43m,\u001b[49m\n\u001b[1;32m   1528\u001b[0m \u001b[43m    \u001b[49m\u001b[43mverbose_eval\u001b[49m\u001b[38;5;241;43m=\u001b[39;49m\u001b[43mverbose\u001b[49m\u001b[43m,\u001b[49m\n\u001b[1;32m   1529\u001b[0m \u001b[43m    \u001b[49m\u001b[43mxgb_model\u001b[49m\u001b[38;5;241;43m=\u001b[39;49m\u001b[43mmodel\u001b[49m\u001b[43m,\u001b[49m\n\u001b[1;32m   1530\u001b[0m \u001b[43m    \u001b[49m\u001b[43mcallbacks\u001b[49m\u001b[38;5;241;43m=\u001b[39;49m\u001b[43mcallbacks\u001b[49m\u001b[43m,\u001b[49m\n\u001b[1;32m   1531\u001b[0m \u001b[43m\u001b[49m\u001b[43m)\u001b[49m\n\u001b[1;32m   1533\u001b[0m \u001b[38;5;28;01mif\u001b[39;00m \u001b[38;5;129;01mnot\u001b[39;00m \u001b[38;5;28mcallable\u001b[39m(\u001b[38;5;28mself\u001b[39m\u001b[38;5;241m.\u001b[39mobjective):\n\u001b[1;32m   1534\u001b[0m     \u001b[38;5;28mself\u001b[39m\u001b[38;5;241m.\u001b[39mobjective \u001b[38;5;241m=\u001b[39m params[\u001b[38;5;124m\"\u001b[39m\u001b[38;5;124mobjective\u001b[39m\u001b[38;5;124m\"\u001b[39m]\n",
      "File \u001b[0;32m/opt/conda/envs/xgboostt/lib/python3.12/site-packages/xgboost/core.py:730\u001b[0m, in \u001b[0;36mrequire_keyword_args.<locals>.throw_if.<locals>.inner_f\u001b[0;34m(*args, **kwargs)\u001b[0m\n\u001b[1;32m    728\u001b[0m \u001b[38;5;28;01mfor\u001b[39;00m k, arg \u001b[38;5;129;01min\u001b[39;00m \u001b[38;5;28mzip\u001b[39m(sig\u001b[38;5;241m.\u001b[39mparameters, args):\n\u001b[1;32m    729\u001b[0m     kwargs[k] \u001b[38;5;241m=\u001b[39m arg\n\u001b[0;32m--> 730\u001b[0m \u001b[38;5;28;01mreturn\u001b[39;00m \u001b[43mfunc\u001b[49m\u001b[43m(\u001b[49m\u001b[38;5;241;43m*\u001b[39;49m\u001b[38;5;241;43m*\u001b[39;49m\u001b[43mkwargs\u001b[49m\u001b[43m)\u001b[49m\n",
      "File \u001b[0;32m/opt/conda/envs/xgboostt/lib/python3.12/site-packages/xgboost/training.py:181\u001b[0m, in \u001b[0;36mtrain\u001b[0;34m(params, dtrain, num_boost_round, evals, obj, feval, maximize, early_stopping_rounds, evals_result, verbose_eval, xgb_model, callbacks, custom_metric)\u001b[0m\n\u001b[1;32m    179\u001b[0m \u001b[38;5;28;01mif\u001b[39;00m cb_container\u001b[38;5;241m.\u001b[39mbefore_iteration(bst, i, dtrain, evals):\n\u001b[1;32m    180\u001b[0m     \u001b[38;5;28;01mbreak\u001b[39;00m\n\u001b[0;32m--> 181\u001b[0m \u001b[43mbst\u001b[49m\u001b[38;5;241;43m.\u001b[39;49m\u001b[43mupdate\u001b[49m\u001b[43m(\u001b[49m\u001b[43mdtrain\u001b[49m\u001b[43m,\u001b[49m\u001b[43m \u001b[49m\u001b[43mi\u001b[49m\u001b[43m,\u001b[49m\u001b[43m \u001b[49m\u001b[43mobj\u001b[49m\u001b[43m)\u001b[49m\n\u001b[1;32m    182\u001b[0m \u001b[38;5;28;01mif\u001b[39;00m cb_container\u001b[38;5;241m.\u001b[39mafter_iteration(bst, i, dtrain, evals):\n\u001b[1;32m    183\u001b[0m     \u001b[38;5;28;01mbreak\u001b[39;00m\n",
      "File \u001b[0;32m/opt/conda/envs/xgboostt/lib/python3.12/site-packages/xgboost/core.py:2050\u001b[0m, in \u001b[0;36mBooster.update\u001b[0;34m(self, dtrain, iteration, fobj)\u001b[0m\n\u001b[1;32m   2047\u001b[0m \u001b[38;5;28mself\u001b[39m\u001b[38;5;241m.\u001b[39m_assign_dmatrix_features(dtrain)\n\u001b[1;32m   2049\u001b[0m \u001b[38;5;28;01mif\u001b[39;00m fobj \u001b[38;5;129;01mis\u001b[39;00m \u001b[38;5;28;01mNone\u001b[39;00m:\n\u001b[0;32m-> 2050\u001b[0m     \u001b[43m_check_call\u001b[49m\u001b[43m(\u001b[49m\n\u001b[1;32m   2051\u001b[0m \u001b[43m        \u001b[49m\u001b[43m_LIB\u001b[49m\u001b[38;5;241;43m.\u001b[39;49m\u001b[43mXGBoosterUpdateOneIter\u001b[49m\u001b[43m(\u001b[49m\n\u001b[1;32m   2052\u001b[0m \u001b[43m            \u001b[49m\u001b[38;5;28;43mself\u001b[39;49m\u001b[38;5;241;43m.\u001b[39;49m\u001b[43mhandle\u001b[49m\u001b[43m,\u001b[49m\u001b[43m \u001b[49m\u001b[43mctypes\u001b[49m\u001b[38;5;241;43m.\u001b[39;49m\u001b[43mc_int\u001b[49m\u001b[43m(\u001b[49m\u001b[43miteration\u001b[49m\u001b[43m)\u001b[49m\u001b[43m,\u001b[49m\u001b[43m \u001b[49m\u001b[43mdtrain\u001b[49m\u001b[38;5;241;43m.\u001b[39;49m\u001b[43mhandle\u001b[49m\n\u001b[1;32m   2053\u001b[0m \u001b[43m        \u001b[49m\u001b[43m)\u001b[49m\n\u001b[1;32m   2054\u001b[0m \u001b[43m    \u001b[49m\u001b[43m)\u001b[49m\n\u001b[1;32m   2055\u001b[0m \u001b[38;5;28;01melse\u001b[39;00m:\n\u001b[1;32m   2056\u001b[0m     pred \u001b[38;5;241m=\u001b[39m \u001b[38;5;28mself\u001b[39m\u001b[38;5;241m.\u001b[39mpredict(dtrain, output_margin\u001b[38;5;241m=\u001b[39m\u001b[38;5;28;01mTrue\u001b[39;00m, training\u001b[38;5;241m=\u001b[39m\u001b[38;5;28;01mTrue\u001b[39;00m)\n",
      "File \u001b[0;32m/opt/conda/envs/xgboostt/lib/python3.12/site-packages/xgboost/core.py:282\u001b[0m, in \u001b[0;36m_check_call\u001b[0;34m(ret)\u001b[0m\n\u001b[1;32m    271\u001b[0m \u001b[38;5;250m\u001b[39m\u001b[38;5;124;03m\"\"\"Check the return value of C API call\u001b[39;00m\n\u001b[1;32m    272\u001b[0m \n\u001b[1;32m    273\u001b[0m \u001b[38;5;124;03mThis function will raise exception when error occurs.\u001b[39;00m\n\u001b[0;32m   (...)\u001b[0m\n\u001b[1;32m    279\u001b[0m \u001b[38;5;124;03m    return value from API calls\u001b[39;00m\n\u001b[1;32m    280\u001b[0m \u001b[38;5;124;03m\"\"\"\u001b[39;00m\n\u001b[1;32m    281\u001b[0m \u001b[38;5;28;01mif\u001b[39;00m ret \u001b[38;5;241m!=\u001b[39m \u001b[38;5;241m0\u001b[39m:\n\u001b[0;32m--> 282\u001b[0m     \u001b[38;5;28;01mraise\u001b[39;00m XGBoostError(py_str(_LIB\u001b[38;5;241m.\u001b[39mXGBGetLastError()))\n",
      "\u001b[0;31mXGBoostError\u001b[0m: [16:05:45] /home/conda/feedstock_root/build_artifacts/xgboost-split_1713397827678/work/src/tree/updater_gpu_hist.cu:781: Exception in gpu_hist: [16:05:45] /home/conda/feedstock_root/build_artifacts/xgboost-split_1713397827678/work/src/c_api/../data/../common/device_helpers.cuh:431: Memory allocation error on worker 0: std::bad_alloc: cudaErrorMemoryAllocation: out of memory\n- Free memory: 1552678912\n- Requested memory: 5351158672\n\nStack trace:\n  [bt] (0) /opt/conda/envs/xgboostt/lib/libxgboost.so(dmlc::LogMessageFatal::~LogMessageFatal()+0x71) [0x7f5e60641cf1]\n  [bt] (1) /opt/conda/envs/xgboostt/lib/libxgboost.so(dh::detail::ThrowOOMError(std::__cxx11::basic_string<char, std::char_traits<char>, std::allocator<char> > const&, unsigned long)+0x466) [0x7f5e60bfc7d6]\n  [bt] (2) /opt/conda/envs/xgboostt/lib/libxgboost.so(+0x2cd5d1) [0x7f5e605dc5d1]\n  [bt] (3) /opt/conda/envs/xgboostt/lib/libxgboost.so(thrust::detail::vector_base<unsigned char, dh::detail::XGBDefaultDeviceAllocatorImpl<unsigned char> >::fill_insert(thrust::detail::normal_iterator<thrust::device_ptr<unsigned char> >, unsigned long, unsigned char const&)+0x4c8) [0x7f5e60c52408]\n  [bt] (4) /opt/conda/envs/xgboostt/lib/libxgboost.so(xgboost::HostDeviceVector<unsigned char>::Resize(unsigned long, unsigned char)+0x1bb) [0x7f5e60c52ddb]\n  [bt] (5) /opt/conda/envs/xgboostt/lib/libxgboost.so(xgboost::EllpackPageImpl::EllpackPageImpl(xgboost::Context const*, xgboost::GHistIndexMatrix const&, xgboost::common::Span<xgboost::FeatureType const, 18446744073709551615ul>)+0x36f) [0x7f5e60cc67bf]\n  [bt] (6) /opt/conda/envs/xgboostt/lib/libxgboost.so(xgboost::data::IterativeDMatrix::GetEllpackBatches(xgboost::Context const*, xgboost::BatchParam const&)+0x58e) [0x7f5e60cf279e]\n  [bt] (7) /opt/conda/envs/xgboostt/lib/libxgboost.so(xgboost::tree::GradientBasedSampling::Sample(xgboost::Context const*, xgboost::common::Span<xgboost::detail::GradientPairInternal<float>, 18446744073709551615ul>, xgboost::DMatrix*)+0x105) [0x7f5e60f8dad5]\n  [bt] (8) /opt/conda/envs/xgboostt/lib/libxgboost.so(xgboost::tree::GradientBasedSampler::Sample(xgboost::Context const*, xgboost::common::Span<xgboost::detail::GradientPairInternal<float>, 18446744073709551615ul>, xgboost::DMatrix*)+0x9d) [0x7f5e60f8537d]\n\n\n\nStack trace:\n  [bt] (0) /opt/conda/envs/xgboostt/lib/libxgboost.so(dmlc::LogMessageFatal::~LogMessageFatal()+0x71) [0x7f5e60641cf1]\n  [bt] (1) /opt/conda/envs/xgboostt/lib/libxgboost.so(xgboost::tree::GPUHistMaker::Update(xgboost::tree::TrainParam const*, xgboost::HostDeviceVector<xgboost::detail::GradientPairInternal<float> >*, xgboost::DMatrix*, xgboost::common::Span<xgboost::HostDeviceVector<int>, 18446744073709551615ul>, std::vector<xgboost::RegTree*, std::allocator<xgboost::RegTree*> > const&)+0x3e9) [0x7f5e60fc77b9]\n  [bt] (2) /opt/conda/envs/xgboostt/lib/libxgboost.so(xgboost::gbm::GBTree::BoostNewTrees(xgboost::HostDeviceVector<xgboost::detail::GradientPairInternal<float> >*, xgboost::DMatrix*, int, std::vector<xgboost::HostDeviceVector<int>, std::allocator<xgboost::HostDeviceVector<int> > >*, std::vector<std::unique_ptr<xgboost::RegTree, std::default_delete<xgboost::RegTree> >, std::allocator<std::unique_ptr<xgboost::RegTree, std::default_delete<xgboost::RegTree> > > >*)+0x821) [0x7f5e6090b1d1]\n  [bt] (3) /opt/conda/envs/xgboostt/lib/libxgboost.so(xgboost::gbm::GBTree::DoBoost(xgboost::DMatrix*, xgboost::HostDeviceVector<xgboost::detail::GradientPairInternal<float> >*, xgboost::PredictionCacheEntry*, xgboost::ObjFunction const*)+0x50d) [0x7f5e6090c1fd]\n  [bt] (4) /opt/conda/envs/xgboostt/lib/libxgboost.so(xgboost::LearnerImpl::UpdateOneIter(int, std::shared_ptr<xgboost::DMatrix>)+0x353) [0x7f5e60954673]\n  [bt] (5) /opt/conda/envs/xgboostt/lib/libxgboost.so(XGBoosterUpdateOneIter+0x74) [0x7f5e60624834]\n  [bt] (6) /opt/conda/envs/xgboostt/lib/python3.12/lib-dynload/../../libffi.so.8(+0x6a4a) [0x7f5f1d00ca4a]\n  [bt] (7) /opt/conda/envs/xgboostt/lib/python3.12/lib-dynload/../../libffi.so.8(+0x5fea) [0x7f5f1d00bfea]\n  [bt] (8) /opt/conda/envs/xgboostt/lib/python3.12/lib-dynload/_ctypes.cpython-312-x86_64-linux-gnu.so(+0x13509) [0x7f5f1d7ba509]\n\n"
     ]
    }
   ],
   "source": [
    "sampler = optuna.samplers.TPESampler(seed=42)\n",
    "study = optuna.create_study(direction='minimize', sampler=sampler)\n",
    "wandb_kwargs = {\"project\": \"xgboost_unintegrated\", \"name\": f\"{RUN_NAME}{CELL_TYPE}\"}\n",
    "wandbc = optuna.integration.WeightsAndBiasesCallback(wandb_kwargs=wandb_kwargs)\n",
    "study.optimize(objective, n_trials=N_TRIALS, callbacks=[wandbc], gc_after_trial=True)"
   ]
  },
  {
   "cell_type": "code",
   "execution_count": null,
   "metadata": {
    "execution": {
     "iopub.execute_input": "2024-06-05T12:12:44.132376Z",
     "iopub.status.busy": "2024-06-05T12:12:44.132014Z",
     "iopub.status.idle": "2024-06-05T12:12:44.911347Z",
     "shell.execute_reply": "2024-06-05T12:12:44.910741Z",
     "shell.execute_reply.started": "2024-06-05T12:12:44.132343Z"
    }
   },
   "outputs": [],
   "source": [
    "joblib.dump(study, here(f'03_Downstream_Analysis/05_SHAP/results/99_unintegrated/study/{RUN_NAME}{CELL_TYPE}_xgboost.pkl'))"
   ]
  },
  {
   "cell_type": "code",
   "execution_count": null,
   "metadata": {
    "collapsed": true,
    "execution": {
     "iopub.execute_input": "2024-06-05T17:49:57.378675Z",
     "iopub.status.busy": "2024-06-05T17:49:57.378361Z",
     "iopub.status.idle": "2024-06-05T18:00:05.430267Z",
     "shell.execute_reply": "2024-06-05T18:00:05.429596Z",
     "shell.execute_reply.started": "2024-06-05T17:49:57.378654Z"
    },
    "jupyter": {
     "outputs_hidden": true
    }
   },
   "outputs": [],
   "source": [
    "n_estimators = int(study.best_trial.user_attrs['best_iteration']*1.2)\n",
    "xgb = xgboost.XGBClassifier(\n",
    "        device='gpu',\n",
    "        eval_metric=eval_metric,\n",
    "        n_estimators=n_estimators,\n",
    "        **study.best_trial.params\n",
    "    )\n",
    "xgb.fit(\n",
    "    ssp.vstack((X_train, X_val)), \n",
    "    np.concatenate((y_train_enc, y_val_enc)), \n",
    "    eval_set=[(X_test, y_test_enc)],\n",
    "    verbose=1,\n",
    ")"
   ]
  },
  {
   "cell_type": "code",
   "execution_count": null,
   "metadata": {
    "execution": {
     "iopub.execute_input": "2024-06-05T13:28:08.406620Z",
     "iopub.status.busy": "2024-06-05T13:28:08.405765Z",
     "iopub.status.idle": "2024-06-05T13:28:09.492708Z",
     "shell.execute_reply": "2024-06-05T13:28:09.492047Z",
     "shell.execute_reply.started": "2024-06-05T13:28:08.406592Z"
    }
   },
   "outputs": [],
   "source": [
    "joblib.dump(xgb, (here(f'03_Downstream_Analysis/05_SHAP/results/99_unintegrated/best_model/{RUN_NAME}{CELL_TYPE}_xgb.json')))"
   ]
  },
  {
   "cell_type": "code",
   "execution_count": null,
   "metadata": {
    "execution": {
     "iopub.execute_input": "2024-06-05T13:20:44.141773Z",
     "iopub.status.busy": "2024-06-05T13:20:44.141033Z",
     "iopub.status.idle": "2024-06-05T13:20:55.931245Z",
     "shell.execute_reply": "2024-06-05T13:20:55.930611Z",
     "shell.execute_reply.started": "2024-06-05T13:20:44.141741Z"
    }
   },
   "outputs": [],
   "source": [
    "(pd.DataFrame(np.array((y_test, y_test_enc, xgb.predict(X_test))).T, columns=['y_true', 'y_true_code', 'y_pred'])\n",
    " .to_csv(here(f'03_Downstream_Analysis/05_SHAP/results/99_unintegrated/predictions/{RUN_NAME}{CELL_TYPE}_pred_test.zip')))\n",
    "(pd.DataFrame(np.array((y_train, y_train_enc, xgb.predict(X_train))).T, columns=['y_true', 'y_true_code', 'y_pred'])\n",
    " .to_csv(here(f'03_Downstream_Analysis/05_SHAP/results/99_unintegrated/predictions/{RUN_NAME}{CELL_TYPE}_pred_train.zip')))"
   ]
  }
 ],
 "metadata": {
  "kernelspec": {
   "display_name": "Python 3 (ipykernel)",
   "language": "python",
   "name": "python3"
  },
  "language_info": {
   "codemirror_mode": {
    "name": "ipython",
    "version": 3
   },
   "file_extension": ".py",
   "mimetype": "text/x-python",
   "name": "python",
   "nbconvert_exporter": "python",
   "pygments_lexer": "ipython3",
   "version": "3.12.5"
  }
 },
 "nbformat": 4,
 "nbformat_minor": 4
}
