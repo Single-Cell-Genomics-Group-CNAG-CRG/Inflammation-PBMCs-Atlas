{
 "cells": [
  {
   "cell_type": "code",
   "execution_count": 1,
   "id": "5772d419-1040-4bcd-a72f-fbd7c5a42e06",
   "metadata": {
    "execution": {
     "iopub.execute_input": "2024-06-24T10:05:21.376908Z",
     "iopub.status.busy": "2024-06-24T10:05:21.376755Z",
     "iopub.status.idle": "2024-06-24T10:05:44.032466Z",
     "shell.execute_reply": "2024-06-24T10:05:44.031858Z",
     "shell.execute_reply.started": "2024-06-24T10:05:21.376887Z"
    }
   },
   "outputs": [],
   "source": [
    "import pandas as pd\n",
    "import numpy as np\n",
    "import seaborn as sns\n",
    "import matplotlib.pyplot as plt\n",
    "import pickle\n",
    "import os\n",
    "import sys\n",
    "import scanpy as sc\n",
    "from pyprojroot import here\n",
    "import session_info\n",
    "import anndata as ad\n",
    "\n",
    "# import Spectra as spc\n",
    "\n",
    "# from Spectra import K_est as kst\n",
    "\n",
    "sys.path.insert(1, str(here('bin')))\n",
    "from customPalette import diseases_palette\n",
    "from customPalette import diseaseCategories\n",
    "\n",
    "\n",
    "import warnings\n",
    "warnings.filterwarnings('ignore')"
   ]
  },
  {
   "cell_type": "code",
   "execution_count": 2,
   "id": "dcee5800-1445-46a1-8d1a-f9d48e427845",
   "metadata": {
    "execution": {
     "iopub.execute_input": "2024-06-24T10:05:44.033989Z",
     "iopub.status.busy": "2024-06-24T10:05:44.033630Z",
     "iopub.status.idle": "2024-06-24T10:05:44.037433Z",
     "shell.execute_reply": "2024-06-24T10:05:44.036966Z",
     "shell.execute_reply.started": "2024-06-24T10:05:44.033970Z"
    }
   },
   "outputs": [],
   "source": [
    "project_dir = here('03_downstream_analysis/07_gene_regulatory_network/')"
   ]
  },
  {
   "cell_type": "markdown",
   "id": "6cc9eb17-2bc8-4206-bb3c-014537de5816",
   "metadata": {},
   "source": [
    "# Load object"
   ]
  },
  {
   "cell_type": "markdown",
   "id": "3e7032a0-974d-4f3b-ae6f-05a4052adfa2",
   "metadata": {},
   "source": [
    "**adata**"
   ]
  },
  {
   "cell_type": "code",
   "execution_count": 3,
   "id": "036e89d3-aea2-4ffd-9db1-fe106197e349",
   "metadata": {
    "execution": {
     "iopub.execute_input": "2024-06-24T10:05:44.038139Z",
     "iopub.status.busy": "2024-06-24T10:05:44.037983Z",
     "iopub.status.idle": "2024-06-24T10:06:39.108778Z",
     "shell.execute_reply": "2024-06-24T10:06:39.108155Z",
     "shell.execute_reply.started": "2024-06-24T10:05:44.038122Z"
    }
   },
   "outputs": [],
   "source": [
    "input_file_path = \"/scratch_isilon/groups/singlecell/shared/projects/Inflammation-PBMCs-Atlas/03_downstream_analysis/02_gene_universe_definition/results/04_MAIN_geneUniverse.log1p.h5ad\"\n",
    "adata = sc.read_h5ad(input_file_path)"
   ]
  },
  {
   "cell_type": "code",
   "execution_count": 9,
   "id": "42836236-666b-47c7-a3b3-b2f5c0f7558f",
   "metadata": {
    "execution": {
     "iopub.execute_input": "2024-06-24T10:08:38.829269Z",
     "iopub.status.busy": "2024-06-24T10:08:38.828980Z",
     "iopub.status.idle": "2024-06-24T10:08:38.832475Z",
     "shell.execute_reply": "2024-06-24T10:08:38.832075Z",
     "shell.execute_reply.started": "2024-06-24T10:08:38.829249Z"
    }
   },
   "outputs": [
    {
     "data": {
      "text/plain": [
       "AnnData object with n_obs × n_vars = 4435922 × 8253\n",
       "    obs: 'studyID', 'libraryID', 'sampleID', 'chemistry', 'disease', 'sex', 'binned_age', 'Level1', 'Level2'\n",
       "    var: 'hgnc_id', 'symbol', 'locus_group', 'HUGO_status', 'highly_variable'\n",
       "    uns: 'log1p'"
      ]
     },
     "execution_count": 9,
     "metadata": {},
     "output_type": "execute_result"
    }
   ],
   "source": [
    "adata"
   ]
  },
  {
   "cell_type": "code",
   "execution_count": 8,
   "id": "6fec10d5-c498-4623-960e-1369f5d7f6a3",
   "metadata": {
    "execution": {
     "iopub.execute_input": "2024-06-24T10:08:21.974582Z",
     "iopub.status.busy": "2024-06-24T10:08:21.974299Z",
     "iopub.status.idle": "2024-06-24T10:08:21.977826Z",
     "shell.execute_reply": "2024-06-24T10:08:21.977453Z",
     "shell.execute_reply.started": "2024-06-24T10:08:21.974563Z"
    }
   },
   "outputs": [
    {
     "data": {
      "text/plain": [
       "{'log1p': {}}"
      ]
     },
     "execution_count": 8,
     "metadata": {},
     "output_type": "execute_result"
    }
   ],
   "source": [
    "adata.uns"
   ]
  },
  {
   "cell_type": "markdown",
   "id": "35f6f1cc-31cf-4864-916e-ed97c59afa02",
   "metadata": {},
   "source": [
    "**Metadata**"
   ]
  },
  {
   "cell_type": "code",
   "execution_count": 14,
   "id": "eab0bc61-01a2-4df7-b0ad-9e98759200a2",
   "metadata": {
    "execution": {
     "iopub.execute_input": "2024-06-19T23:05:40.360695Z",
     "iopub.status.busy": "2024-06-19T23:05:40.360323Z",
     "iopub.status.idle": "2024-06-19T23:05:40.423312Z",
     "shell.execute_reply": "2024-06-19T23:05:40.422952Z",
     "shell.execute_reply.started": "2024-06-19T23:05:40.360675Z"
    }
   },
   "outputs": [
    {
     "data": {
      "text/html": [
       "<div>\n",
       "<style scoped>\n",
       "    .dataframe tbody tr th:only-of-type {\n",
       "        vertical-align: middle;\n",
       "    }\n",
       "\n",
       "    .dataframe tbody tr th {\n",
       "        vertical-align: top;\n",
       "    }\n",
       "\n",
       "    .dataframe thead th {\n",
       "        text-align: right;\n",
       "    }\n",
       "</style>\n",
       "<table border=\"1\" class=\"dataframe\">\n",
       "  <thead>\n",
       "    <tr style=\"text-align: right;\">\n",
       "      <th></th>\n",
       "      <th>sampleID</th>\n",
       "      <th>SLEDAI_score</th>\n",
       "      <th>Flare</th>\n",
       "      <th>Responder</th>\n",
       "      <th>studyID</th>\n",
       "    </tr>\n",
       "  </thead>\n",
       "  <tbody>\n",
       "    <tr>\n",
       "      <th>0</th>\n",
       "      <td>Perez2022_1004_T0</td>\n",
       "      <td>2.0</td>\n",
       "      <td>notF</td>\n",
       "      <td>NaN</td>\n",
       "      <td>Perez2022</td>\n",
       "    </tr>\n",
       "    <tr>\n",
       "      <th>1</th>\n",
       "      <td>Perez2022_1014_T0</td>\n",
       "      <td>2.0</td>\n",
       "      <td>notF</td>\n",
       "      <td>NaN</td>\n",
       "      <td>Perez2022</td>\n",
       "    </tr>\n",
       "    <tr>\n",
       "      <th>2</th>\n",
       "      <td>Perez2022_1019_T0</td>\n",
       "      <td>0.0</td>\n",
       "      <td>notF</td>\n",
       "      <td>NaN</td>\n",
       "      <td>Perez2022</td>\n",
       "    </tr>\n",
       "    <tr>\n",
       "      <th>3</th>\n",
       "      <td>Perez2022_1022_T0</td>\n",
       "      <td>2.0</td>\n",
       "      <td>notF</td>\n",
       "      <td>NaN</td>\n",
       "      <td>Perez2022</td>\n",
       "    </tr>\n",
       "    <tr>\n",
       "      <th>4</th>\n",
       "      <td>Perez2022_1031_T0</td>\n",
       "      <td>2.0</td>\n",
       "      <td>notF</td>\n",
       "      <td>NaN</td>\n",
       "      <td>Perez2022</td>\n",
       "    </tr>\n",
       "  </tbody>\n",
       "</table>\n",
       "</div>"
      ],
      "text/plain": [
       "            sampleID  SLEDAI_score Flare Responder    studyID\n",
       "0  Perez2022_1004_T0           2.0  notF       NaN  Perez2022\n",
       "1  Perez2022_1014_T0           2.0  notF       NaN  Perez2022\n",
       "2  Perez2022_1019_T0           0.0  notF       NaN  Perez2022\n",
       "3  Perez2022_1022_T0           2.0  notF       NaN  Perez2022\n",
       "4  Perez2022_1031_T0           2.0  notF       NaN  Perez2022"
      ]
     },
     "execution_count": 14,
     "metadata": {},
     "output_type": "execute_result"
    }
   ],
   "source": [
    "SLE_metadata = pd.read_csv(here(\"03_downstream_analysis/06_inflammation_signatures/results/figures/IFN_response_analysis/SLE_metadata.csv\"))\n",
    "SLE_metadata.head()"
   ]
  },
  {
   "cell_type": "markdown",
   "id": "f7c0cde0-9717-4302-90a7-2b23a4bce551",
   "metadata": {},
   "source": [
    "# Subset adata"
   ]
  },
  {
   "cell_type": "markdown",
   "id": "f02e01fc-72ea-46fb-a5ab-594b94d3a9c2",
   "metadata": {},
   "source": [
    "**Cells: SLE or healthy from CNAG and Jimmi Ye**"
   ]
  },
  {
   "cell_type": "code",
   "execution_count": 9,
   "id": "e70e59fb-61dd-4bab-bc7f-c8467958c568",
   "metadata": {
    "execution": {
     "iopub.execute_input": "2024-06-19T22:58:42.756095Z",
     "iopub.status.busy": "2024-06-19T22:58:42.755800Z",
     "iopub.status.idle": "2024-06-19T22:58:43.055085Z",
     "shell.execute_reply": "2024-06-19T22:58:43.054667Z",
     "shell.execute_reply.started": "2024-06-19T22:58:42.756076Z"
    }
   },
   "outputs": [
    {
     "data": {
      "text/plain": [
       "View of AnnData object with n_obs × n_vars = 996812 × 8253\n",
       "    obs: 'studyID', 'libraryID', 'sampleID', 'chemistry', 'disease', 'sex', 'binned_age', 'Level1', 'Level2'\n",
       "    var: 'hgnc_id', 'symbol', 'locus_group', 'HUGO_status', 'highly_variable'\n",
       "    uns: 'log1p'"
      ]
     },
     "execution_count": 9,
     "metadata": {},
     "output_type": "execute_result"
    }
   ],
   "source": [
    "# Subset cells based on studyID and disease\n",
    "studyIDs_of_interest = ['Perez2022', 'SCGT00']\n",
    "diseases_of_interest = ['healthy', 'SLE']\n",
    "\n",
    "adata_subset = adata[\n",
    "    adata.obs['studyID'].isin(studyIDs_of_interest) &\n",
    "    adata.obs['disease'].isin(diseases_of_interest)\n",
    "]\n",
    "adata_subset"
   ]
  },
  {
   "cell_type": "markdown",
   "id": "4dcd6740-dec3-4455-aad8-4954343428b5",
   "metadata": {},
   "source": [
    "**Genes: SPI1 and STAT1 targets**"
   ]
  },
  {
   "cell_type": "code",
   "execution_count": 11,
   "id": "52656e83-629e-4b24-9616-85cfddd76e2e",
   "metadata": {
    "execution": {
     "iopub.execute_input": "2024-06-19T22:59:08.352749Z",
     "iopub.status.busy": "2024-06-19T22:59:08.352472Z",
     "iopub.status.idle": "2024-06-19T22:59:08.356975Z",
     "shell.execute_reply": "2024-06-19T22:59:08.356611Z",
     "shell.execute_reply.started": "2024-06-19T22:59:08.352730Z"
    }
   },
   "outputs": [
    {
     "data": {
      "text/plain": [
       "51"
      ]
     },
     "execution_count": 11,
     "metadata": {},
     "output_type": "execute_result"
    }
   ],
   "source": [
    "genes_of_interest = [\n",
    "    \"OAS1\", \"IFITM3\", \"S100A10\", \"FTH1\", \"ADGRG1\", \"S100A6\", \"GAPDH\",\n",
    "    \"MX2\", \"ACTB\", \"ISG20\", \"MT2A\", \"IFI27\", \"IFIT2\", \"IFIT3\", \"PRF1\",\n",
    "    \"ADAR\", \"IFI6\", \"IFIT1\", \"IFITM1\", \"ISG15\", \"MX1\", \"RAC2\", \"LGALS1\",\n",
    "    \"PSMB9\", \"FOS\", \"SPI1\", \"VIM\", \"S100A8\", \"TKT\", \"TIMP1\", \"GSTP1\",\n",
    "    \"ITGAX\", \"SERPINA1\", \"FGL2\", \"LYZ\", \"TSPO\", \"SLC11A1\", \"TNFSF13\",\n",
    "    \"STXBP2\", \"LGALS3\", \"PSAP\", \"FBP1\", \"TYMP\", \"COX4I1\", \"CD86\",\n",
    "    \"UPP1\", \"LY96\", \"LAP3\", \"CALM1\", \"SRSF7\", \"FUS\"\n",
    "]\n",
    "len(genes_of_interest)"
   ]
  },
  {
   "cell_type": "code",
   "execution_count": 10,
   "id": "fc88ec8a-f818-4f13-b0ac-b2aed2869e93",
   "metadata": {
    "execution": {
     "iopub.execute_input": "2024-06-19T22:58:59.605223Z",
     "iopub.status.busy": "2024-06-19T22:58:59.604850Z",
     "iopub.status.idle": "2024-06-19T22:58:59.880412Z",
     "shell.execute_reply": "2024-06-19T22:58:59.879891Z",
     "shell.execute_reply.started": "2024-06-19T22:58:59.605203Z"
    }
   },
   "outputs": [
    {
     "data": {
      "text/plain": [
       "View of AnnData object with n_obs × n_vars = 996812 × 51\n",
       "    obs: 'studyID', 'libraryID', 'sampleID', 'chemistry', 'disease', 'sex', 'binned_age', 'Level1', 'Level2'\n",
       "    var: 'hgnc_id', 'symbol', 'locus_group', 'HUGO_status', 'highly_variable'\n",
       "    uns: 'log1p'"
      ]
     },
     "execution_count": 10,
     "metadata": {},
     "output_type": "execute_result"
    }
   ],
   "source": [
    "adata_subset = adata_subset[:, adata_subset.var.symbol.isin(genes_of_interest)]\n",
    "adata_subset"
   ]
  },
  {
   "cell_type": "raw",
   "id": "1d38aaf0-704c-43a7-ab73-b6fcdfb2d25c",
   "metadata": {},
   "source": [
    "subset_adata = adata[\n",
    "    (adata.obs['studyID'].isin(studyIDs_of_interest)) &\n",
    "    (adata.obs['disease'].isin(diseases_of_interest)),\n",
    "    adata.var_names.isin(genes_of_interest)\n",
    "]"
   ]
  },
  {
   "cell_type": "markdown",
   "id": "561d4d66-9378-4e8d-845a-d89dfdeff2d2",
   "metadata": {},
   "source": [
    "# Add Metadata"
   ]
  },
  {
   "cell_type": "code",
   "execution_count": 21,
   "id": "b9cc4e3f-bb9a-4a64-9799-2046b4880744",
   "metadata": {
    "execution": {
     "iopub.execute_input": "2024-06-19T23:09:59.178038Z",
     "iopub.status.busy": "2024-06-19T23:09:59.177551Z",
     "iopub.status.idle": "2024-06-19T23:09:59.326000Z",
     "shell.execute_reply": "2024-06-19T23:09:59.325495Z",
     "shell.execute_reply.started": "2024-06-19T23:09:59.178018Z"
    }
   },
   "outputs": [],
   "source": [
    "merged_df = pd.merge(adata_subset.obs, SLE_metadata[[\"sampleID\",\"SLEDAI_score\",\"Flare\",\"Responder\"]], on='sampleID', how='left')"
   ]
  },
  {
   "cell_type": "code",
   "execution_count": 24,
   "id": "fcfa001b-2543-4b55-9043-4322441d983a",
   "metadata": {
    "execution": {
     "iopub.execute_input": "2024-06-19T23:10:27.216264Z",
     "iopub.status.busy": "2024-06-19T23:10:27.216025Z",
     "iopub.status.idle": "2024-06-19T23:10:31.800798Z",
     "shell.execute_reply": "2024-06-19T23:10:31.800317Z",
     "shell.execute_reply.started": "2024-06-19T23:10:27.216246Z"
    }
   },
   "outputs": [],
   "source": [
    "adata_subset.obs = merged_df"
   ]
  },
  {
   "cell_type": "code",
   "execution_count": 25,
   "id": "138ce0ff-00a7-4573-8ed9-1e4c035ee48d",
   "metadata": {
    "execution": {
     "iopub.execute_input": "2024-06-19T23:10:32.392564Z",
     "iopub.status.busy": "2024-06-19T23:10:32.392264Z",
     "iopub.status.idle": "2024-06-19T23:10:32.395865Z",
     "shell.execute_reply": "2024-06-19T23:10:32.395500Z",
     "shell.execute_reply.started": "2024-06-19T23:10:32.392544Z"
    }
   },
   "outputs": [
    {
     "data": {
      "text/plain": [
       "AnnData object with n_obs × n_vars = 996812 × 51\n",
       "    obs: 'studyID', 'libraryID', 'sampleID', 'chemistry', 'disease', 'sex', 'binned_age', 'Level1', 'Level2', 'SLEDAI_score', 'Flare', 'Responder'\n",
       "    var: 'hgnc_id', 'symbol', 'locus_group', 'HUGO_status', 'highly_variable'\n",
       "    uns: 'log1p'"
      ]
     },
     "execution_count": 25,
     "metadata": {},
     "output_type": "execute_result"
    }
   ],
   "source": [
    "adata_subset"
   ]
  },
  {
   "cell_type": "markdown",
   "id": "d0e46925-8441-422d-bd57-96c985f0a84c",
   "metadata": {},
   "source": [
    "# Save processed adata"
   ]
  },
  {
   "cell_type": "code",
   "execution_count": 26,
   "id": "e86c42f2-5931-4d44-b226-25528a4edbfb",
   "metadata": {
    "execution": {
     "iopub.execute_input": "2024-06-19T23:11:07.276136Z",
     "iopub.status.busy": "2024-06-19T23:11:07.275688Z",
     "iopub.status.idle": "2024-06-19T23:11:07.279550Z",
     "shell.execute_reply": "2024-06-19T23:11:07.279187Z",
     "shell.execute_reply.started": "2024-06-19T23:11:07.276095Z"
    }
   },
   "outputs": [
    {
     "data": {
      "text/plain": [
       "AnnData object with n_obs × n_vars = 996812 × 51\n",
       "    obs: 'studyID', 'libraryID', 'sampleID', 'chemistry', 'disease', 'sex', 'binned_age', 'Level1', 'Level2', 'SLEDAI_score', 'Flare', 'Responder'\n",
       "    var: 'hgnc_id', 'symbol', 'locus_group', 'HUGO_status', 'highly_variable'\n",
       "    uns: 'log1p'"
      ]
     },
     "execution_count": 26,
     "metadata": {},
     "output_type": "execute_result"
    }
   ],
   "source": [
    "adata_subset"
   ]
  },
  {
   "cell_type": "code",
   "execution_count": 27,
   "id": "88c190e7-afa1-4180-8449-fddd39151b7e",
   "metadata": {
    "execution": {
     "iopub.execute_input": "2024-06-19T23:12:18.650521Z",
     "iopub.status.busy": "2024-06-19T23:12:18.649985Z",
     "iopub.status.idle": "2024-06-19T23:12:21.655016Z",
     "shell.execute_reply": "2024-06-19T23:12:21.654499Z",
     "shell.execute_reply.started": "2024-06-19T23:12:18.650502Z"
    }
   },
   "outputs": [],
   "source": [
    "adata_subset.write(here(\"03_downstream_analysis/07_gene_regulatory_network/results/04_MAIN_geneUniverse.log1p_SLEsubset.h5ad\"), compression=\"gzip\")"
   ]
  },
  {
   "cell_type": "code",
   "execution_count": 28,
   "id": "c0ac33f3-60e5-4820-8c71-c8816ee83683",
   "metadata": {
    "execution": {
     "iopub.execute_input": "2024-06-19T23:12:28.480135Z",
     "iopub.status.busy": "2024-06-19T23:12:28.479886Z",
     "iopub.status.idle": "2024-06-19T23:12:28.484214Z",
     "shell.execute_reply": "2024-06-19T23:12:28.483863Z",
     "shell.execute_reply.started": "2024-06-19T23:12:28.480116Z"
    }
   },
   "outputs": [
    {
     "data": {
      "text/plain": [
       "PosixPath('/scratch_isilon/groups/singlecell/shared/projects/Inflammation-PBMCs-Atlas/03_downstream_analysis/07_gene_regulatory_network/results/04_MAIN_geneUniverse.log1p_SLEsubset.h5ad')"
      ]
     },
     "execution_count": 28,
     "metadata": {},
     "output_type": "execute_result"
    }
   ],
   "source": [
    "here(\"03_downstream_analysis/07_gene_regulatory_network/results/04_MAIN_geneUniverse.log1p_SLEsubset.h5ad\")"
   ]
  },
  {
   "cell_type": "code",
   "execution_count": 31,
   "id": "3703bc2c-8bd7-440d-9238-1322cc4a048e",
   "metadata": {
    "execution": {
     "iopub.execute_input": "2024-06-19T23:19:32.514772Z",
     "iopub.status.busy": "2024-06-19T23:19:32.514498Z",
     "iopub.status.idle": "2024-06-19T23:19:32.523742Z",
     "shell.execute_reply": "2024-06-19T23:19:32.523340Z",
     "shell.execute_reply.started": "2024-06-19T23:19:32.514754Z"
    }
   },
   "outputs": [
    {
     "data": {
      "text/plain": [
       "Perez2022    860914\n",
       "SCGT00       135898\n",
       "Name: studyID, dtype: int64"
      ]
     },
     "execution_count": 31,
     "metadata": {},
     "output_type": "execute_result"
    }
   ],
   "source": [
    "adata_subset.obs.studyID.value_counts()"
   ]
  }
 ],
 "metadata": {
  "kernelspec": {
   "display_name": "Python 3 (ipykernel)",
   "language": "python",
   "name": "python3"
  },
  "language_info": {
   "codemirror_mode": {
    "name": "ipython",
    "version": 3
   },
   "file_extension": ".py",
   "mimetype": "text/x-python",
   "name": "python",
   "nbconvert_exporter": "python",
   "pygments_lexer": "ipython3",
   "version": "3.10.13"
  }
 },
 "nbformat": 4,
 "nbformat_minor": 5
}
