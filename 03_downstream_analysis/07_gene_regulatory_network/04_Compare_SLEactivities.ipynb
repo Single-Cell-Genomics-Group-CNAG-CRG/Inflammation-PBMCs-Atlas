{
 "cells": [
  {
   "cell_type": "code",
   "execution_count": 1,
   "id": "882c4761-ab1c-4cad-a956-7e5cd8f866f4",
   "metadata": {
    "execution": {
     "iopub.execute_input": "2024-07-05T15:07:07.223237Z",
     "iopub.status.busy": "2024-07-05T15:07:07.220753Z",
     "iopub.status.idle": "2024-07-05T15:07:20.161891Z",
     "shell.execute_reply": "2024-07-05T15:07:20.160171Z"
    },
    "scrolled": true
   },
   "outputs": [
    {
     "name": "stderr",
     "output_type": "stream",
     "text": [
      "Loading required package: dplyr\n",
      "\n",
      "\n",
      "Attaching package: ‘dplyr’\n",
      "\n",
      "\n",
      "The following objects are masked from ‘package:stats’:\n",
      "\n",
      "    filter, lag\n",
      "\n",
      "\n",
      "The following objects are masked from ‘package:base’:\n",
      "\n",
      "    intersect, setdiff, setequal, union\n",
      "\n",
      "\n",
      "Loading required package: ggpubr\n",
      "\n",
      "Loading required package: ggplot2\n",
      "\n",
      "Loading required package: data.table\n",
      "\n",
      "\n",
      "Attaching package: ‘data.table’\n",
      "\n",
      "\n",
      "The following objects are masked from ‘package:dplyr’:\n",
      "\n",
      "    between, first, last\n",
      "\n",
      "\n",
      "── \u001b[1mAttaching core tidyverse packages\u001b[22m ──────────────────────────────────────────────────────────────────────────────────────────────────────────────────────────────────────────────────── tidyverse 2.0.0 ──\n",
      "\u001b[32m✔\u001b[39m \u001b[34mforcats  \u001b[39m 1.0.0     \u001b[32m✔\u001b[39m \u001b[34mstringr  \u001b[39m 1.5.0\n",
      "\u001b[32m✔\u001b[39m \u001b[34mlubridate\u001b[39m 1.9.3     \u001b[32m✔\u001b[39m \u001b[34mtibble   \u001b[39m 3.2.1\n",
      "\u001b[32m✔\u001b[39m \u001b[34mpurrr    \u001b[39m 1.0.2     \u001b[32m✔\u001b[39m \u001b[34mtidyr    \u001b[39m 1.3.0\n",
      "\u001b[32m✔\u001b[39m \u001b[34mreadr    \u001b[39m 2.1.4     \n",
      "── \u001b[1mConflicts\u001b[22m ────────────────────────────────────────────────────────────────────────────────────────────────────────────────────────────────────────────────────────────────────── tidyverse_conflicts() ──\n",
      "\u001b[31m✖\u001b[39m \u001b[34mdata.table\u001b[39m::\u001b[32mbetween()\u001b[39m masks \u001b[34mdplyr\u001b[39m::between()\n",
      "\u001b[31m✖\u001b[39m \u001b[34mdplyr\u001b[39m::\u001b[32mfilter()\u001b[39m       masks \u001b[34mstats\u001b[39m::filter()\n",
      "\u001b[31m✖\u001b[39m \u001b[34mdata.table\u001b[39m::\u001b[32mfirst()\u001b[39m   masks \u001b[34mdplyr\u001b[39m::first()\n",
      "\u001b[31m✖\u001b[39m \u001b[34mlubridate\u001b[39m::\u001b[32mhour()\u001b[39m     masks \u001b[34mdata.table\u001b[39m::hour()\n",
      "\u001b[31m✖\u001b[39m \u001b[34mlubridate\u001b[39m::\u001b[32misoweek()\u001b[39m  masks \u001b[34mdata.table\u001b[39m::isoweek()\n",
      "\u001b[31m✖\u001b[39m \u001b[34mdplyr\u001b[39m::\u001b[32mlag()\u001b[39m          masks \u001b[34mstats\u001b[39m::lag()\n",
      "\u001b[31m✖\u001b[39m \u001b[34mdata.table\u001b[39m::\u001b[32mlast()\u001b[39m    masks \u001b[34mdplyr\u001b[39m::last()\n",
      "\u001b[31m✖\u001b[39m \u001b[34mlubridate\u001b[39m::\u001b[32mmday()\u001b[39m     masks \u001b[34mdata.table\u001b[39m::mday()\n",
      "\u001b[31m✖\u001b[39m \u001b[34mlubridate\u001b[39m::\u001b[32mminute()\u001b[39m   masks \u001b[34mdata.table\u001b[39m::minute()\n",
      "\u001b[31m✖\u001b[39m \u001b[34mlubridate\u001b[39m::\u001b[32mmonth()\u001b[39m    masks \u001b[34mdata.table\u001b[39m::month()\n",
      "\u001b[31m✖\u001b[39m \u001b[34mlubridate\u001b[39m::\u001b[32mquarter()\u001b[39m  masks \u001b[34mdata.table\u001b[39m::quarter()\n",
      "\u001b[31m✖\u001b[39m \u001b[34mlubridate\u001b[39m::\u001b[32msecond()\u001b[39m   masks \u001b[34mdata.table\u001b[39m::second()\n",
      "\u001b[31m✖\u001b[39m \u001b[34mpurrr\u001b[39m::\u001b[32mtranspose()\u001b[39m    masks \u001b[34mdata.table\u001b[39m::transpose()\n",
      "\u001b[31m✖\u001b[39m \u001b[34mlubridate\u001b[39m::\u001b[32mwday()\u001b[39m     masks \u001b[34mdata.table\u001b[39m::wday()\n",
      "\u001b[31m✖\u001b[39m \u001b[34mlubridate\u001b[39m::\u001b[32mweek()\u001b[39m     masks \u001b[34mdata.table\u001b[39m::week()\n",
      "\u001b[31m✖\u001b[39m \u001b[34mlubridate\u001b[39m::\u001b[32myday()\u001b[39m     masks \u001b[34mdata.table\u001b[39m::yday()\n",
      "\u001b[31m✖\u001b[39m \u001b[34mlubridate\u001b[39m::\u001b[32myear()\u001b[39m     masks \u001b[34mdata.table\u001b[39m::year()\n",
      "\u001b[36mℹ\u001b[39m Use the conflicted package (\u001b[3m\u001b[34m<http://conflicted.r-lib.org/>\u001b[39m\u001b[23m) to force all conflicts to become errors\n"
     ]
    }
   ],
   "source": [
    "require(dplyr)\n",
    "require(ggpubr)\n",
    "require(data.table)\n",
    "library(tidyverse)\n",
    "options(warn = -1)"
   ]
  },
  {
   "cell_type": "markdown",
   "id": "34d46191-d39f-4f20-8289-0462f4eb9454",
   "metadata": {},
   "source": [
    "**Parameters**"
   ]
  },
  {
   "cell_type": "code",
   "execution_count": 2,
   "id": "09f5f63a-4186-46aa-8855-04d426c22f71",
   "metadata": {
    "execution": {
     "iopub.execute_input": "2024-07-05T15:07:20.214852Z",
     "iopub.status.busy": "2024-07-05T15:07:20.184573Z",
     "iopub.status.idle": "2024-07-05T15:07:20.225498Z",
     "shell.execute_reply": "2024-07-05T15:07:20.224166Z"
    }
   },
   "outputs": [],
   "source": [
    "base_path <- \"/scratch_isilon/groups/singlecell/shared/projects/Inflammation-PBMCs-Atlas/03_downstream_analysis/07_gene_regulatory_network/results\""
   ]
  },
  {
   "cell_type": "code",
   "execution_count": 3,
   "id": "82a183b7-dced-48cb-86ed-8ef4f1563ac7",
   "metadata": {
    "execution": {
     "iopub.execute_input": "2024-07-05T15:07:20.228585Z",
     "iopub.status.busy": "2024-07-05T15:07:20.227491Z",
     "iopub.status.idle": "2024-07-05T15:07:20.250771Z",
     "shell.execute_reply": "2024-07-05T15:07:20.249140Z"
    }
   },
   "outputs": [],
   "source": [
    "# Inputs\n",
    "inputpath_perez2022_level1 <- \"data/STAT1_SP1_perez2022_level1.csv\"\n",
    "inputpath_scgt00_level1 <- \"data/STAT1_SP1_scgt00_level1.csv\"\n",
    "inputpath_perez2022 <- \"data/STAT1_SP1_perez2022.csv\"\n",
    "inputpath_scgt00 <- \"data/STAT1_SP1_scgt00.csv\"\n",
    "inputpath_sle_metadata <- \"/scratch_isilon/groups/singlecell/shared/projects/Inflammation-PBMCs-Atlas/03_downstream_analysis/06_inflammation_signatures/results/figures/IFN_response_analysis/SLE_metadata.csv\"\n",
    "\n",
    "# Palette\n",
    "color_palette_path <- \"data/colors_palette.R\"\n",
    "\n",
    "# Outputs\n",
    "outputpath <- \"results/\""
   ]
  },
  {
   "cell_type": "markdown",
   "id": "f389662c-fefc-4e0d-a7fb-970a60f88a75",
   "metadata": {},
   "source": [
    "# Load data"
   ]
  },
  {
   "cell_type": "code",
   "execution_count": 4,
   "id": "812bd328-6f12-4cac-b17f-31de3da7fae3",
   "metadata": {
    "execution": {
     "iopub.execute_input": "2024-07-05T15:07:20.261296Z",
     "iopub.status.busy": "2024-07-05T15:07:20.259782Z",
     "iopub.status.idle": "2024-07-05T15:07:20.528703Z",
     "shell.execute_reply": "2024-07-05T15:07:20.526365Z"
    }
   },
   "outputs": [],
   "source": [
    "perez2022_l1 <- read.csv(inputpath_perez2022_level1, header = TRUE, row.names = 1)\n",
    "scgt00_l1 <- read.csv(inputpath_scgt00_level1, header = TRUE, row.names = 1)\n",
    "perez2022 <- read.csv(inputpath_perez2022, header = TRUE, row.names = 1)\n",
    "scgt00 <- read.csv(inputpath_scgt00, header = TRUE, row.names = 1)\n",
    "source(color_palette_path)"
   ]
  },
  {
   "cell_type": "code",
   "execution_count": 5,
   "id": "546be59d-1fc3-4a23-b078-f1334c5d9dc7",
   "metadata": {
    "execution": {
     "iopub.execute_input": "2024-07-05T15:07:20.532614Z",
     "iopub.status.busy": "2024-07-05T15:07:20.531400Z",
     "iopub.status.idle": "2024-07-05T15:07:20.623049Z",
     "shell.execute_reply": "2024-07-05T15:07:20.621606Z"
    }
   },
   "outputs": [
    {
     "name": "stdout",
     "output_type": "stream",
     "text": [
      "                  SLEDAI_score Flare Responder   studyID\n",
      "Perez2022_1004_T0            2  notF           Perez2022\n",
      "Perez2022_1014_T0            2  notF           Perez2022\n",
      "Perez2022_1019_T0            0  notF           Perez2022\n",
      "Perez2022_1022_T0            2  notF           Perez2022\n",
      "Perez2022_1031_T0            2  notF           Perez2022\n",
      "Perez2022_1045_T0            4  notF           Perez2022\n"
     ]
    }
   ],
   "source": [
    "SLE_metadata = read.csv(inputpath_sle_metadata, header = TRUE, row.names = 1)\n",
    "print(head(SLE_metadata))"
   ]
  },
  {
   "cell_type": "code",
   "execution_count": 6,
   "id": "badad41d-9cf2-44bc-90bd-a1250137bd7f",
   "metadata": {
    "execution": {
     "iopub.execute_input": "2024-07-05T15:07:20.626926Z",
     "iopub.status.busy": "2024-07-05T15:07:20.625301Z",
     "iopub.status.idle": "2024-07-05T15:07:20.651165Z",
     "shell.execute_reply": "2024-07-05T15:07:20.648433Z"
    }
   },
   "outputs": [],
   "source": [
    "SLE_metadata <- SLE_metadata %>%\n",
    "  rownames_to_column(var = \"sampleID\")"
   ]
  },
  {
   "cell_type": "markdown",
   "id": "06da1bfc-2736-467c-9825-d870d9ade8c1",
   "metadata": {},
   "source": [
    "# Mean activity accross celltypes"
   ]
  },
  {
   "cell_type": "markdown",
   "id": "102dda2e-7786-4560-ae66-4db1c3bba591",
   "metadata": {},
   "source": [
    "## Level 1"
   ]
  },
  {
   "cell_type": "code",
   "execution_count": 32,
   "id": "4d696479-3c24-402d-96fe-f81e4d8a859c",
   "metadata": {
    "execution": {
     "iopub.execute_input": "2024-07-04T15:44:47.285945Z",
     "iopub.status.busy": "2024-07-04T15:44:47.284822Z",
     "iopub.status.idle": "2024-07-04T15:44:47.301262Z",
     "shell.execute_reply": "2024-07-04T15:44:47.299721Z"
    }
   },
   "outputs": [],
   "source": [
    "l1_cell_type_order <- names(cell_colors)\n",
    "tf_order <- c(\"STAT1\", \"SP1\")"
   ]
  },
  {
   "cell_type": "code",
   "execution_count": 26,
   "id": "15121f26-830c-4e3d-90d5-792055e4c2c7",
   "metadata": {
    "execution": {
     "iopub.execute_input": "2024-07-04T15:42:18.976734Z",
     "iopub.status.busy": "2024-07-04T15:42:18.975576Z",
     "iopub.status.idle": "2024-07-04T15:42:18.997284Z",
     "shell.execute_reply": "2024-07-04T15:42:18.995877Z"
    }
   },
   "outputs": [],
   "source": [
    "toplot_perez_l1 <-\n",
    "    perez2022_l1 %>%\n",
    "    filter(!Level1 %in% c(\"Cycling_cells\", \"Progenitors\", \"Platelets\"))\n",
    "\n",
    "toplot_scgt00_l1 <-\n",
    "    scgt00_l1 %>%\n",
    "    filter(!Level1 %in% c(\"Cycling_cells\", \"Progenitors\", \"Platelets\"))\n",
    "toplot_level1 <- rbind(toplot_perez_l1, toplot_scgt00_l1)  %>%\n",
    "  pivot_longer(cols = c(STAT1, SP1), names_to = \"TF\", values_to = \"activity\") %>%\n",
    "  mutate(\n",
    "    Level1 = factor(Level1, levels = l1_cell_type_order),\n",
    "    TF = factor(TF, levels = tf_order)\n",
    "  )"
   ]
  },
  {
   "cell_type": "markdown",
   "id": "270f822a-9fe8-49e2-905a-887ad11904e3",
   "metadata": {},
   "source": [
    "**Boxplots**"
   ]
  },
  {
   "cell_type": "code",
   "execution_count": 29,
   "id": "9adcda1c-736f-483d-bed4-462f228ef3a4",
   "metadata": {
    "execution": {
     "iopub.execute_input": "2024-07-04T15:43:06.997842Z",
     "iopub.status.busy": "2024-07-04T15:43:06.996698Z",
     "iopub.status.idle": "2024-07-04T15:43:07.356507Z",
     "shell.execute_reply": "2024-07-04T15:43:07.355050Z"
    }
   },
   "outputs": [],
   "source": [
    "plot_l1 <- ggboxplot(toplot_level1, x = \"Level1\", y = \"activity\", fill = \"Level1\") +\n",
    "    facet_grid(rows = vars(TF)#, scales = \"free\"\n",
    "              ) +\n",
    "    scale_fill_manual(values = cell_colors) +\n",
    "    theme_bw() +\n",
    "    ggtitle(label = \"\") +\n",
    "    theme(\n",
    "        axis.text.x = element_text(angle = 25, vjust = 0.5, hjust=0.5)\n",
    "    )\n",
    "\n",
    "ggsave(\n",
    "    plot_l1,\n",
    "    filename = \"sle_TFactivity_level1.pdf\",\n",
    "    device = \"pdf\",\n",
    "    width = 10,\n",
    "    height = 5,\n",
    "    path = base_path)"
   ]
  },
  {
   "cell_type": "markdown",
   "id": "9e25422f-c5af-4049-a09b-dd0ba6b7b262",
   "metadata": {},
   "source": [
    "## Level 2"
   ]
  },
  {
   "cell_type": "code",
   "execution_count": 33,
   "id": "cce1aaaf-726c-424d-8865-b942b571f7fd",
   "metadata": {
    "execution": {
     "iopub.execute_input": "2024-07-04T15:44:58.968193Z",
     "iopub.status.busy": "2024-07-04T15:44:58.967062Z",
     "iopub.status.idle": "2024-07-04T15:44:58.977141Z",
     "shell.execute_reply": "2024-07-04T15:44:58.975927Z"
    }
   },
   "outputs": [],
   "source": [
    "l2_cell_type_order <- names(cell_level2_colors)\n",
    "tf_order <- c(\"STAT1\", \"SP1\")"
   ]
  },
  {
   "cell_type": "code",
   "execution_count": 34,
   "id": "dcbbee9a-3262-442b-9ab4-8065c98817f5",
   "metadata": {
    "execution": {
     "iopub.execute_input": "2024-07-04T15:45:00.206292Z",
     "iopub.status.busy": "2024-07-04T15:45:00.205187Z",
     "iopub.status.idle": "2024-07-04T15:45:00.225859Z",
     "shell.execute_reply": "2024-07-04T15:45:00.224432Z"
    }
   },
   "outputs": [],
   "source": [
    "toplot_perez <-\n",
    "    perez2022 %>%\n",
    "    filter(!Level1 %in% c(\"Cycling_cells\", \"Progenitors\", \"Platelets\"))\n",
    "\n",
    "toplot_scgt00 <-\n",
    "    scgt00 %>%\n",
    "    filter(!Level1 %in% c(\"Cycling_cells\", \"Progenitors\", \"Platelets\"))\n",
    "toplot_level2 <- rbind(toplot_perez, toplot_scgt00)  %>%\n",
    "  pivot_longer(cols = c(STAT1, SP1), names_to = \"TF\", values_to = \"activity\") %>%\n",
    "  mutate(\n",
    "    Level1 = factor(Level1, levels = l1_cell_type_order),\n",
    "    Level2 = factor(Level2, levels = l2_cell_type_order),\n",
    "    TF = factor(TF, levels = tf_order)\n",
    "  )"
   ]
  },
  {
   "cell_type": "markdown",
   "id": "b6aac111-477c-4b4e-96bb-3ed673af0433",
   "metadata": {},
   "source": [
    "**Boxplots**"
   ]
  },
  {
   "cell_type": "code",
   "execution_count": 39,
   "id": "85963881-65e5-4d16-9c4b-009b60ef318a",
   "metadata": {
    "execution": {
     "iopub.execute_input": "2024-07-04T15:51:50.515492Z",
     "iopub.status.busy": "2024-07-04T15:51:50.514387Z",
     "iopub.status.idle": "2024-07-04T15:51:51.641503Z",
     "shell.execute_reply": "2024-07-04T15:51:51.640094Z"
    }
   },
   "outputs": [],
   "source": [
    "plot_l2 <- ggboxplot(toplot_level2, x = \"Level2\", y = \"activity\", fill = \"Level2\") +\n",
    "    facet_grid(rows = vars(TF), cols = vars(Level1), scales = \"free_x\"\n",
    "              ) +\n",
    "    scale_fill_manual(values = cell_level2_colors) +\n",
    "    theme_bw() +\n",
    "    ggtitle(label = \"\") +\n",
    "    theme(\n",
    "        axis.text.x = element_text(angle = 90, vjust = 0.5, hjust=0.5)\n",
    "    )\n",
    "\n",
    "ggsave(\n",
    "    plot_l2,\n",
    "    filename = \"sle_TFactivity_level2.pdf\",\n",
    "    device = \"pdf\",\n",
    "    width = 20,\n",
    "    height = 8,\n",
    "    path = base_path)"
   ]
  },
  {
   "cell_type": "code",
   "execution_count": null,
   "id": "38bfa862-7b9c-4d41-9fd2-9c812d958e28",
   "metadata": {},
   "outputs": [],
   "source": []
  },
  {
   "cell_type": "markdown",
   "id": "1667c354-1e52-49ac-a444-6ca5b308b411",
   "metadata": {},
   "source": [
    "# SLEDAI vs Mean activity correlation"
   ]
  },
  {
   "cell_type": "markdown",
   "id": "1103cc8d-98cf-40f0-90c8-241b057aa3a4",
   "metadata": {},
   "source": [
    "## Scatter plot"
   ]
  },
  {
   "cell_type": "markdown",
   "id": "ef34aa18-0afc-44c4-aaaf-62d9fa29d019",
   "metadata": {},
   "source": [
    "### SCGT00"
   ]
  },
  {
   "cell_type": "code",
   "execution_count": 13,
   "id": "8f7f625f-cb20-4c76-9702-c41f95a8de84",
   "metadata": {
    "execution": {
     "iopub.execute_input": "2024-06-26T11:27:45.760826Z",
     "iopub.status.busy": "2024-06-26T11:27:45.759757Z",
     "iopub.status.idle": "2024-06-26T11:27:45.781301Z",
     "shell.execute_reply": "2024-06-26T11:27:45.780127Z"
    }
   },
   "outputs": [
    {
     "data": {
      "text/html": [
       "<table class=\"dataframe\">\n",
       "<caption>A data.frame: 6 × 13</caption>\n",
       "<thead>\n",
       "\t<tr><th></th><th scope=col>STAT1</th><th scope=col>SP1</th><th scope=col>studyID</th><th scope=col>Level1</th><th scope=col>Level2</th><th scope=col>sex</th><th scope=col>sampleID</th><th scope=col>disease</th><th scope=col>binned_age</th><th scope=col>SLEDAI_score</th><th scope=col>SLEDAI_category</th><th scope=col>Flare</th><th scope=col>Responder</th></tr>\n",
       "\t<tr><th></th><th scope=col>&lt;dbl&gt;</th><th scope=col>&lt;dbl&gt;</th><th scope=col>&lt;chr&gt;</th><th scope=col>&lt;chr&gt;</th><th scope=col>&lt;chr&gt;</th><th scope=col>&lt;chr&gt;</th><th scope=col>&lt;chr&gt;</th><th scope=col>&lt;chr&gt;</th><th scope=col>&lt;chr&gt;</th><th scope=col>&lt;dbl&gt;</th><th scope=col>&lt;chr&gt;</th><th scope=col>&lt;lgl&gt;</th><th scope=col>&lt;chr&gt;</th></tr>\n",
       "</thead>\n",
       "<tbody>\n",
       "\t<tr><th scope=row>SCGT00_I014010.3P_T0_Mono_IFNresponse</th><td>0.4664260</td><td> 1.9989017</td><td>SCGT00</td><td>Mono</td><td>Mono_IFNresponse</td><td>female</td><td>SCGT00_I014010.3P_T0</td><td>SLE</td><td>51-60</td><td>17.47</td><td>High</td><td>NA</td><td>NR</td></tr>\n",
       "\t<tr><th scope=row>SCGT00_I014011.3P_T0_Mono_IFNresponse</th><td>0.4980574</td><td> 1.5650074</td><td>SCGT00</td><td>Mono</td><td>Mono_IFNresponse</td><td>female</td><td>SCGT00_I014011.3P_T0</td><td>SLE</td><td>61-70</td><td> 9.00</td><td>High</td><td>NA</td><td>R </td></tr>\n",
       "\t<tr><th scope=row>SCGT00_I014012.3P_T0_Mono_IFNresponse</th><td>1.7604849</td><td> 0.8499721</td><td>SCGT00</td><td>Mono</td><td>Mono_IFNresponse</td><td>female</td><td>SCGT00_I014012.3P_T0</td><td>SLE</td><td>18-30</td><td>12.00</td><td>High</td><td>NA</td><td>R </td></tr>\n",
       "\t<tr><th scope=row>SCGT00_I014013.3P_T0_Mono_IFNresponse</th><td>1.6027005</td><td>-0.5147295</td><td>SCGT00</td><td>Mono</td><td>Mono_IFNresponse</td><td>female</td><td>SCGT00_I014013.3P_T0</td><td>SLE</td><td>18-30</td><td>10.00</td><td>High</td><td>NA</td><td>R </td></tr>\n",
       "\t<tr><th scope=row>SCGT00_I014014.3P_T0_Mono_IFNresponse</th><td>1.6969669</td><td>-0.1240213</td><td>SCGT00</td><td>Mono</td><td>Mono_IFNresponse</td><td>female</td><td>SCGT00_I014014.3P_T0</td><td>SLE</td><td>41-50</td><td> 8.00</td><td>Low </td><td>NA</td><td>NR</td></tr>\n",
       "\t<tr><th scope=row>SCGT00_I014015.3P_T0_Mono_IFNresponse</th><td>1.6835376</td><td> 0.5349421</td><td>SCGT00</td><td>Mono</td><td>Mono_IFNresponse</td><td>female</td><td>SCGT00_I014015.3P_T0</td><td>SLE</td><td>31-40</td><td> 8.00</td><td>Low </td><td>NA</td><td>R </td></tr>\n",
       "</tbody>\n",
       "</table>\n"
      ],
      "text/latex": [
       "A data.frame: 6 × 13\n",
       "\\begin{tabular}{r|lllllllllllll}\n",
       "  & STAT1 & SP1 & studyID & Level1 & Level2 & sex & sampleID & disease & binned\\_age & SLEDAI\\_score & SLEDAI\\_category & Flare & Responder\\\\\n",
       "  & <dbl> & <dbl> & <chr> & <chr> & <chr> & <chr> & <chr> & <chr> & <chr> & <dbl> & <chr> & <lgl> & <chr>\\\\\n",
       "\\hline\n",
       "\tSCGT00\\_I014010.3P\\_T0\\_Mono\\_IFNresponse & 0.4664260 &  1.9989017 & SCGT00 & Mono & Mono\\_IFNresponse & female & SCGT00\\_I014010.3P\\_T0 & SLE & 51-60 & 17.47 & High & NA & NR\\\\\n",
       "\tSCGT00\\_I014011.3P\\_T0\\_Mono\\_IFNresponse & 0.4980574 &  1.5650074 & SCGT00 & Mono & Mono\\_IFNresponse & female & SCGT00\\_I014011.3P\\_T0 & SLE & 61-70 &  9.00 & High & NA & R \\\\\n",
       "\tSCGT00\\_I014012.3P\\_T0\\_Mono\\_IFNresponse & 1.7604849 &  0.8499721 & SCGT00 & Mono & Mono\\_IFNresponse & female & SCGT00\\_I014012.3P\\_T0 & SLE & 18-30 & 12.00 & High & NA & R \\\\\n",
       "\tSCGT00\\_I014013.3P\\_T0\\_Mono\\_IFNresponse & 1.6027005 & -0.5147295 & SCGT00 & Mono & Mono\\_IFNresponse & female & SCGT00\\_I014013.3P\\_T0 & SLE & 18-30 & 10.00 & High & NA & R \\\\\n",
       "\tSCGT00\\_I014014.3P\\_T0\\_Mono\\_IFNresponse & 1.6969669 & -0.1240213 & SCGT00 & Mono & Mono\\_IFNresponse & female & SCGT00\\_I014014.3P\\_T0 & SLE & 41-50 &  8.00 & Low  & NA & NR\\\\\n",
       "\tSCGT00\\_I014015.3P\\_T0\\_Mono\\_IFNresponse & 1.6835376 &  0.5349421 & SCGT00 & Mono & Mono\\_IFNresponse & female & SCGT00\\_I014015.3P\\_T0 & SLE & 31-40 &  8.00 & Low  & NA & R \\\\\n",
       "\\end{tabular}\n"
      ],
      "text/markdown": [
       "\n",
       "A data.frame: 6 × 13\n",
       "\n",
       "| <!--/--> | STAT1 &lt;dbl&gt; | SP1 &lt;dbl&gt; | studyID &lt;chr&gt; | Level1 &lt;chr&gt; | Level2 &lt;chr&gt; | sex &lt;chr&gt; | sampleID &lt;chr&gt; | disease &lt;chr&gt; | binned_age &lt;chr&gt; | SLEDAI_score &lt;dbl&gt; | SLEDAI_category &lt;chr&gt; | Flare &lt;lgl&gt; | Responder &lt;chr&gt; |\n",
       "|---|---|---|---|---|---|---|---|---|---|---|---|---|---|\n",
       "| SCGT00_I014010.3P_T0_Mono_IFNresponse | 0.4664260 |  1.9989017 | SCGT00 | Mono | Mono_IFNresponse | female | SCGT00_I014010.3P_T0 | SLE | 51-60 | 17.47 | High | NA | NR |\n",
       "| SCGT00_I014011.3P_T0_Mono_IFNresponse | 0.4980574 |  1.5650074 | SCGT00 | Mono | Mono_IFNresponse | female | SCGT00_I014011.3P_T0 | SLE | 61-70 |  9.00 | High | NA | R  |\n",
       "| SCGT00_I014012.3P_T0_Mono_IFNresponse | 1.7604849 |  0.8499721 | SCGT00 | Mono | Mono_IFNresponse | female | SCGT00_I014012.3P_T0 | SLE | 18-30 | 12.00 | High | NA | R  |\n",
       "| SCGT00_I014013.3P_T0_Mono_IFNresponse | 1.6027005 | -0.5147295 | SCGT00 | Mono | Mono_IFNresponse | female | SCGT00_I014013.3P_T0 | SLE | 18-30 | 10.00 | High | NA | R  |\n",
       "| SCGT00_I014014.3P_T0_Mono_IFNresponse | 1.6969669 | -0.1240213 | SCGT00 | Mono | Mono_IFNresponse | female | SCGT00_I014014.3P_T0 | SLE | 41-50 |  8.00 | Low  | NA | NR |\n",
       "| SCGT00_I014015.3P_T0_Mono_IFNresponse | 1.6835376 |  0.5349421 | SCGT00 | Mono | Mono_IFNresponse | female | SCGT00_I014015.3P_T0 | SLE | 31-40 |  8.00 | Low  | NA | R  |\n",
       "\n"
      ],
      "text/plain": [
       "                                      STAT1     SP1        studyID Level1\n",
       "SCGT00_I014010.3P_T0_Mono_IFNresponse 0.4664260  1.9989017 SCGT00  Mono  \n",
       "SCGT00_I014011.3P_T0_Mono_IFNresponse 0.4980574  1.5650074 SCGT00  Mono  \n",
       "SCGT00_I014012.3P_T0_Mono_IFNresponse 1.7604849  0.8499721 SCGT00  Mono  \n",
       "SCGT00_I014013.3P_T0_Mono_IFNresponse 1.6027005 -0.5147295 SCGT00  Mono  \n",
       "SCGT00_I014014.3P_T0_Mono_IFNresponse 1.6969669 -0.1240213 SCGT00  Mono  \n",
       "SCGT00_I014015.3P_T0_Mono_IFNresponse 1.6835376  0.5349421 SCGT00  Mono  \n",
       "                                      Level2           sex   \n",
       "SCGT00_I014010.3P_T0_Mono_IFNresponse Mono_IFNresponse female\n",
       "SCGT00_I014011.3P_T0_Mono_IFNresponse Mono_IFNresponse female\n",
       "SCGT00_I014012.3P_T0_Mono_IFNresponse Mono_IFNresponse female\n",
       "SCGT00_I014013.3P_T0_Mono_IFNresponse Mono_IFNresponse female\n",
       "SCGT00_I014014.3P_T0_Mono_IFNresponse Mono_IFNresponse female\n",
       "SCGT00_I014015.3P_T0_Mono_IFNresponse Mono_IFNresponse female\n",
       "                                      sampleID             disease binned_age\n",
       "SCGT00_I014010.3P_T0_Mono_IFNresponse SCGT00_I014010.3P_T0 SLE     51-60     \n",
       "SCGT00_I014011.3P_T0_Mono_IFNresponse SCGT00_I014011.3P_T0 SLE     61-70     \n",
       "SCGT00_I014012.3P_T0_Mono_IFNresponse SCGT00_I014012.3P_T0 SLE     18-30     \n",
       "SCGT00_I014013.3P_T0_Mono_IFNresponse SCGT00_I014013.3P_T0 SLE     18-30     \n",
       "SCGT00_I014014.3P_T0_Mono_IFNresponse SCGT00_I014014.3P_T0 SLE     41-50     \n",
       "SCGT00_I014015.3P_T0_Mono_IFNresponse SCGT00_I014015.3P_T0 SLE     31-40     \n",
       "                                      SLEDAI_score SLEDAI_category Flare\n",
       "SCGT00_I014010.3P_T0_Mono_IFNresponse 17.47        High            NA   \n",
       "SCGT00_I014011.3P_T0_Mono_IFNresponse  9.00        High            NA   \n",
       "SCGT00_I014012.3P_T0_Mono_IFNresponse 12.00        High            NA   \n",
       "SCGT00_I014013.3P_T0_Mono_IFNresponse 10.00        High            NA   \n",
       "SCGT00_I014014.3P_T0_Mono_IFNresponse  8.00        Low             NA   \n",
       "SCGT00_I014015.3P_T0_Mono_IFNresponse  8.00        Low             NA   \n",
       "                                      Responder\n",
       "SCGT00_I014010.3P_T0_Mono_IFNresponse NR       \n",
       "SCGT00_I014011.3P_T0_Mono_IFNresponse R        \n",
       "SCGT00_I014012.3P_T0_Mono_IFNresponse R        \n",
       "SCGT00_I014013.3P_T0_Mono_IFNresponse R        \n",
       "SCGT00_I014014.3P_T0_Mono_IFNresponse NR       \n",
       "SCGT00_I014015.3P_T0_Mono_IFNresponse R        "
      ]
     },
     "metadata": {},
     "output_type": "display_data"
    }
   ],
   "source": [
    "head(scgt00)"
   ]
  },
  {
   "cell_type": "markdown",
   "id": "571d8fca-1a7c-4fa5-a6bb-a21f4d43c645",
   "metadata": {
    "jp-MarkdownHeadingCollapsed": true
   },
   "source": [
    "**Leve1 and Level2**"
   ]
  },
  {
   "cell_type": "code",
   "execution_count": 20,
   "id": "e8dc3115-fff3-43ac-8958-77bbf82e80a0",
   "metadata": {
    "execution": {
     "iopub.execute_input": "2024-07-04T15:30:49.579374Z",
     "iopub.status.busy": "2024-07-04T15:30:49.578239Z",
     "iopub.status.idle": "2024-07-04T15:30:49.605586Z",
     "shell.execute_reply": "2024-07-04T15:30:49.604021Z"
    }
   },
   "outputs": [],
   "source": [
    "toplot_scgt00 <- scgt00 %>%\n",
    "  filter(!Level1 %in% c(\"Cycling_cells\", \"Progenitors\", \"Platelets\"))\n",
    "toplot_scgt00 <- toplot_scgt00 %>%\n",
    "  pivot_longer(cols = c(STAT1, SP1), names_to = \"TF\", values_to = \"activity\")"
   ]
  },
  {
   "cell_type": "code",
   "execution_count": 21,
   "id": "04a47ac9-e31d-46dd-97ff-1ad699e74ad5",
   "metadata": {
    "execution": {
     "iopub.execute_input": "2024-07-04T15:30:50.912626Z",
     "iopub.status.busy": "2024-07-04T15:30:50.911504Z",
     "iopub.status.idle": "2024-07-04T15:30:50.933638Z",
     "shell.execute_reply": "2024-07-04T15:30:50.932275Z"
    }
   },
   "outputs": [
    {
     "ename": "ERROR",
     "evalue": "Error in grDevices::pdf(file = filename, ..., version = version): cannot open file 'results/SLE_subgroups//scatter_scgt00.pdf'\n",
     "output_type": "error",
     "traceback": [
      "Error in grDevices::pdf(file = filename, ..., version = version): cannot open file 'results/SLE_subgroups//scatter_scgt00.pdf'\nTraceback:\n",
      "1. ggsave(scatter_scgt00, filename = \"scatter_scgt00.pdf\", device = \"pdf\", \n .     width = 20, height = 10, path = \"results/SLE_subgroups/\")",
      "2. dev(filename = filename, width = dim[1], height = dim[2], bg = bg, \n .     ...)",
      "3. grDevices::pdf(file = filename, ..., version = version)"
     ]
    }
   ],
   "source": [
    "# Define the response palette\n",
    "response_palette <- c(\"R\" = \"#70e000\", \"NR\" = \"#007200\")\n",
    "\n",
    "# Generate the scatterplot with facet_grid\n",
    "scatter_scgt00 <- ggplot(toplot_scgt00, aes(x = SLEDAI_score, y = activity, fill = Level2, shape=Responder)) +\n",
    "  geom_point(size = 3,  color = \"black\") +\n",
    "  facet_grid(rows = vars(TF), cols = vars(Level1)) +\n",
    "  scale_fill_manual(values = cell_level2_colors) +\n",
    "  scale_shape_manual(values = c(\"R\" = 21, \"NR\" = 24)) +\n",
    "  theme(legend.position = \"none\") + \n",
    "  #guides(fill = guide_legend(title = \"Level 2\"), shape = guide_legend(title = \"Response\")) +\n",
    "  labs(x = \"SLEDAI Score\", y = \"Activity\", title = \"Scatterplot of SLEDAI Score vs Activity\") \n",
    "  \n",
    "\n",
    "ggsave(\n",
    "    scatter_scgt00,\n",
    "    filename = \"scatter_scgt00.pdf\",\n",
    "    device = \"pdf\",\n",
    "    width = 20,\n",
    "    height = 10,\n",
    "    path = \"results/SLE_subgroups/\")"
   ]
  },
  {
   "cell_type": "markdown",
   "id": "ae4a2e98-e209-45dc-893d-3e9153ec11f7",
   "metadata": {},
   "source": [
    "**Level1**"
   ]
  },
  {
   "cell_type": "code",
   "execution_count": 22,
   "id": "8b8322a7-0b7d-4d76-b83d-24323d091c19",
   "metadata": {
    "execution": {
     "iopub.execute_input": "2024-07-04T15:31:02.064513Z",
     "iopub.status.busy": "2024-07-04T15:31:02.063362Z",
     "iopub.status.idle": "2024-07-04T15:31:02.093428Z",
     "shell.execute_reply": "2024-07-04T15:31:02.092034Z"
    }
   },
   "outputs": [
    {
     "ename": "ERROR",
     "evalue": "Error in grDevices::pdf(file = filename, ..., version = version): cannot open file 'results/SLE_subgroups//scatter_scgt00_lev1.pdf'\n",
     "output_type": "error",
     "traceback": [
      "Error in grDevices::pdf(file = filename, ..., version = version): cannot open file 'results/SLE_subgroups//scatter_scgt00_lev1.pdf'\nTraceback:\n",
      "1. ggsave(scatter_scgt00_l1, filename = \"scatter_scgt00_lev1.pdf\", \n .     device = \"pdf\", width = 20, height = 10, path = \"results/SLE_subgroups/\")",
      "2. dev(filename = filename, width = dim[1], height = dim[2], bg = bg, \n .     ...)",
      "3. grDevices::pdf(file = filename, ..., version = version)"
     ]
    }
   ],
   "source": [
    "toplot_scgt00_l1 <- scgt00_l1 %>%\n",
    "  filter(!Level1 %in% c(\"Cycling_cells\", \"Progenitors\", \"Platelets\"))\n",
    "toplot_scgt00_l1 <- toplot_scgt00_l1 %>%\n",
    "  pivot_longer(cols = c(STAT1, SP1), names_to = \"TF\", values_to = \"activity\")\n",
    "\n",
    "# Define the response palette\n",
    "response_palette <- c(\"R\" = \"#70e000\", \"NR\" = \"#007200\")\n",
    "\n",
    "# Generate the scatterplot with facet_grid\n",
    "scatter_scgt00_l1 <- ggplot(toplot_scgt00_l1, aes(x = SLEDAI_score, y = activity, fill = Level1, shape=Responder)) +\n",
    "  geom_point(size = 3,  color = \"black\") +\n",
    "  facet_grid(rows = vars(TF), cols = vars(Level1)) +\n",
    "  scale_fill_manual(values = cell_colors) +\n",
    "  scale_shape_manual(values = c(\"R\" = 21, \"NR\" = 24)) +\n",
    "  theme(legend.position = \"none\") + \n",
    "  #guides(fill = guide_legend(title = \"Level 2\"), shape = guide_legend(title = \"Response\")) +\n",
    "  labs(x = \"SLEDAI Score\", y = \"Activity\", title = \"Scatterplot of SLEDAI Score vs Activity\") \n",
    "  \n",
    "\n",
    "ggsave(\n",
    "    scatter_scgt00_l1,\n",
    "    filename = \"scatter_scgt00_lev1.pdf\",\n",
    "    device = \"pdf\",\n",
    "    width = 20,\n",
    "    height = 10,\n",
    "    path = \"results/SLE_subgroups/\")"
   ]
  },
  {
   "cell_type": "raw",
   "id": "47e52914-631d-4677-98b2-a2f3ef3734eb",
   "metadata": {
    "execution": {
     "iopub.execute_input": "2024-06-26T11:28:04.239323Z",
     "iopub.status.busy": "2024-06-26T11:28:04.238275Z",
     "iopub.status.idle": "2024-06-26T11:28:04.661368Z",
     "shell.execute_reply": "2024-06-26T11:28:04.660003Z"
    }
   },
   "source": [
    "## Mean of Level2 PB --> Better compute signature at Level1 (code above)\n",
    "\n",
    "library(dplyr)\n",
    "\n",
    "toplot_scgt00_l1 <- scgt00 %>%\n",
    "  group_by(Level1, sampleID, SLEDAI_category, Flare, Responder, binned_age, disease, sex, SLEDAI_score) %>%\n",
    "  summarise(\n",
    "    mean_SP1 = mean(SP1, na.rm = TRUE),\n",
    "    mean_STAT1 = mean(STAT1, na.rm = TRUE)\n",
    "  ) %>%\n",
    "  ungroup()\n",
    "\n",
    "toplot_scgt00_l1 <- toplot_scgt00_l1 %>%\n",
    "  filter(!Level1 %in% c(\"Cycling_cells\", \"Progenitors\", \"Platelets\"))\n",
    "\n",
    "head(toplot_scgt00_l1)\n",
    "\n",
    "toplot_scgt00_l1 <- toplot_scgt00_l1 %>%\n",
    "  pivot_longer(cols = c(mean_SP1, mean_STAT1), names_to = \"TF\", values_to = \"activity\")\n",
    "\n",
    "# Define the response palette\n",
    "response_palette <- c(\"R\" = \"#70e000\", \"NR\" = \"#007200\")\n",
    "\n",
    "# Generate the scatterplot with facet_grid\n",
    "scatter_scgt00_l1 <- ggplot(toplot_scgt00_l1, aes(x = SLEDAI_score, y = activity, fill = Level1, shape=Responder)) +\n",
    "  geom_point(size = 3,  color = \"black\") +\n",
    "  facet_grid(rows = vars(TF), cols = vars(Level1)) +\n",
    "  scale_fill_manual(values = cell_colors) +\n",
    "  scale_shape_manual(values = c(\"R\" = 21, \"NR\" = 24)) +\n",
    "  theme(legend.position = \"none\") + \n",
    "  #guides(fill = guide_legend(title = \"Level 2\"), shape = guide_legend(title = \"Response\")) +\n",
    "  labs(x = \"SLEDAI Score\", y = \"Activity\", title = \"Scatterplot of SLEDAI Score vs Activity\") \n",
    "\n",
    "ggsave(\n",
    "    scatter_scgt00_l1,\n",
    "    filename = \"scatter_scgt00_lev1.pdf\",\n",
    "    device = \"pdf\",\n",
    "    width = 20,\n",
    "    height = 10,\n",
    "    path = \"results/SLE_subgroups/\")"
   ]
  },
  {
   "cell_type": "markdown",
   "id": "9ba6e656-49bd-4bfd-b22f-fe44fee183aa",
   "metadata": {},
   "source": [
    "### Perez2022"
   ]
  },
  {
   "cell_type": "markdown",
   "id": "7e3f35e9-94f4-478c-81df-ad5c453e13ea",
   "metadata": {},
   "source": [
    "There is no SLEDAI information for Flare patients, we can't do this comparison"
   ]
  },
  {
   "cell_type": "markdown",
   "id": "8cc1bf83-fe77-40be-8f91-409c8d83dbcf",
   "metadata": {},
   "source": [
    "# Boxplots individually per SLE subgroups"
   ]
  },
  {
   "cell_type": "markdown",
   "id": "095dec4b-95d2-46ad-8fc7-f51c463aaf98",
   "metadata": {},
   "source": [
    "## Level 1"
   ]
  },
  {
   "cell_type": "markdown",
   "id": "80a23707-37c1-4854-8f2f-98b06f947485",
   "metadata": {},
   "source": [
    "### Flare"
   ]
  },
  {
   "cell_type": "code",
   "execution_count": 10,
   "id": "62ab51c7-d00c-460a-b4c0-ad2316c93b59",
   "metadata": {
    "execution": {
     "iopub.execute_input": "2024-06-27T13:41:04.557163Z",
     "iopub.status.busy": "2024-06-27T13:41:04.555856Z",
     "iopub.status.idle": "2024-06-27T13:41:04.571200Z",
     "shell.execute_reply": "2024-06-27T13:41:04.569949Z"
    }
   },
   "outputs": [],
   "source": [
    "toplot_flare_l1 <-\n",
    "    perez2022_l1 %>%\n",
    "    mutate(\n",
    "        Flare = case_when(Flare == \"not_F\" ~ \"notF\",\n",
    "        TRUE ~ as.character(Flare))\n",
    "    ) %>%\n",
    "    filter(\n",
    "        Flare %in% c(\"notF\", \"F\")\n",
    "    )\n",
    "\n",
    "flare_palette <- c(\n",
    "  \"F\" = \"#e76f51\",\n",
    "  \"notF\" = \"#e9c46a\"\n",
    ")"
   ]
  },
  {
   "cell_type": "markdown",
   "id": "7bbbd09e-7582-4e05-816a-54b059290a2e",
   "metadata": {},
   "source": [
    "**SP1**"
   ]
  },
  {
   "cell_type": "code",
   "execution_count": 11,
   "id": "1c0f9497-89d4-4026-a79a-badf4adc83f2",
   "metadata": {
    "execution": {
     "iopub.execute_input": "2024-06-27T13:41:05.448768Z",
     "iopub.status.busy": "2024-06-27T13:41:05.447664Z",
     "iopub.status.idle": "2024-06-27T13:41:07.398587Z",
     "shell.execute_reply": "2024-06-27T13:41:07.396673Z"
    }
   },
   "outputs": [],
   "source": [
    "plot_flare_sp1 <- ggboxplot(toplot_flare_l1, x = \"Level1\", y = \"SP1\", fill = \"Flare\") +\n",
    "    #facet_wrap(~Level1, scales = \"free\", ncol = 4, nrow = 2) +\n",
    "    scale_fill_manual(values = flare_palette) +\n",
    "    theme_bw() +\n",
    "    ggtitle(label = \"Flare SP1\") +\n",
    "    theme(\n",
    "        axis.text.x = element_text(angle = 25, vjust = 0.5, hjust=0.5)\n",
    "    )\n",
    "\n",
    "ggsave(\n",
    "    plot_flare_sp1,\n",
    "    filename = \"flare_sp1_level1.pdf\",\n",
    "    device = \"pdf\",\n",
    "    width = 20,\n",
    "    height = 8,\n",
    "    path = \"results/SLE_subgroups/\")"
   ]
  },
  {
   "cell_type": "markdown",
   "id": "19c87e6f-fa66-4a30-8aae-9878b2593873",
   "metadata": {},
   "source": [
    "**STAT1**"
   ]
  },
  {
   "cell_type": "code",
   "execution_count": 12,
   "id": "29a112e6-938f-4f77-badf-45f1c958c908",
   "metadata": {
    "execution": {
     "iopub.execute_input": "2024-06-27T13:43:29.503478Z",
     "iopub.status.busy": "2024-06-27T13:43:29.502341Z",
     "iopub.status.idle": "2024-06-27T13:43:29.745509Z",
     "shell.execute_reply": "2024-06-27T13:43:29.744021Z"
    }
   },
   "outputs": [],
   "source": [
    "plot_flare_stat1 <- ggboxplot(toplot_flare_l1, x = \"Level1\", y = \"STAT1\", fill = \"Flare\") +\n",
    "    #facet_wrap(~Level1, scales = \"free\", ncol = 4, nrow = 2) +\n",
    "    scale_fill_manual(values = flare_palette) +\n",
    "    theme_bw() +\n",
    "    ggtitle(label = \"Flare STAT1\") +\n",
    "    theme(\n",
    "        axis.text.x = element_text(angle = 25, vjust = 0.5, hjust=0.5)\n",
    "    )\n",
    "\n",
    "ggsave(\n",
    "    plot_flare_stat1,\n",
    "    filename = \"flare_stat1_level1.pdf\",\n",
    "    device = \"pdf\",\n",
    "    width = 20,\n",
    "    height = 8,\n",
    "    path = \"results/SLE_subgroups/\")"
   ]
  },
  {
   "cell_type": "markdown",
   "id": "d72e609f-a9ba-4465-a449-5adc74353030",
   "metadata": {},
   "source": [
    "### Responder"
   ]
  },
  {
   "cell_type": "code",
   "execution_count": 14,
   "id": "2a7caac9-82c3-485e-9e7b-4ba831fc11af",
   "metadata": {
    "execution": {
     "iopub.execute_input": "2024-06-27T13:44:15.686412Z",
     "iopub.status.busy": "2024-06-27T13:44:15.685241Z",
     "iopub.status.idle": "2024-06-27T13:44:15.696386Z",
     "shell.execute_reply": "2024-06-27T13:44:15.695206Z"
    }
   },
   "outputs": [],
   "source": [
    "response_palette <- c(\n",
    "    \"R\" = \"#70e000\",\n",
    "    \"NR\" = \"#007200\"\n",
    ")\n",
    "\n",
    "toplot_response <-\n",
    "    scgt00_l1 %>%\n",
    "    filter(\n",
    "        Responder %in% c(\"R\", \"NR\")\n",
    "    )"
   ]
  },
  {
   "cell_type": "markdown",
   "id": "3e7e5f25-29b3-4ba9-a33a-e51238079ecc",
   "metadata": {},
   "source": [
    "**SP1**"
   ]
  },
  {
   "cell_type": "code",
   "execution_count": 15,
   "id": "888689ce-cb88-44d1-a689-cacdea727da7",
   "metadata": {
    "execution": {
     "iopub.execute_input": "2024-06-27T13:44:18.020138Z",
     "iopub.status.busy": "2024-06-27T13:44:18.018907Z",
     "iopub.status.idle": "2024-06-27T13:44:18.249279Z",
     "shell.execute_reply": "2024-06-27T13:44:18.247732Z"
    }
   },
   "outputs": [],
   "source": [
    "plot_response_sp1 <- ggboxplot(toplot_response, x = \"Level1\", y = \"SP1\", fill = \"Responder\") +\n",
    "    #facet_wrap(~Level1, scales = \"free\", ncol = 4, nrow = 2) +\n",
    "    scale_fill_manual(values = response_palette) +\n",
    "    theme_bw() +\n",
    "    ggtitle(label = \"Response SP1\") +\n",
    "    theme(\n",
    "        axis.text.x = element_text(angle = 25, vjust = 0.5, hjust=0.5)\n",
    "    )\n",
    "\n",
    "ggsave(\n",
    "    plot_response_sp1,\n",
    "    filename = \"response_sp1_level1.pdf\",\n",
    "    device = \"pdf\",\n",
    "    width = 20,\n",
    "    height = 8,\n",
    "    path = \"results/SLE_subgroups/\")"
   ]
  },
  {
   "cell_type": "markdown",
   "id": "70c11fd7-ebec-4c71-a5e5-4a3bef84f1b1",
   "metadata": {},
   "source": [
    "**STAT1**"
   ]
  },
  {
   "cell_type": "code",
   "execution_count": 16,
   "id": "e07395d8-9c41-452b-af44-d4a48b6361d1",
   "metadata": {
    "execution": {
     "iopub.execute_input": "2024-06-27T13:45:17.917487Z",
     "iopub.status.busy": "2024-06-27T13:45:17.916279Z",
     "iopub.status.idle": "2024-06-27T13:45:18.154612Z",
     "shell.execute_reply": "2024-06-27T13:45:18.153228Z"
    }
   },
   "outputs": [],
   "source": [
    "plot_response_stat1 <- ggboxplot(toplot_response, x = \"Level1\", y = \"STAT1\", fill = \"Responder\") +\n",
    "    #facet_wrap(~Level1, scales = \"free\", ncol = 4, nrow = 2) +\n",
    "    scale_fill_manual(values = response_palette) +\n",
    "    theme_bw() +\n",
    "    ggtitle(label = \"Response STAT1\") +\n",
    "    theme(\n",
    "        axis.text.x = element_text(angle = 25, vjust = 0.5, hjust=0.5)\n",
    "    )\n",
    "\n",
    "ggsave(\n",
    "    plot_response_stat1,\n",
    "    filename = \"response_stat1_level1.pdf\",\n",
    "    device = \"pdf\",\n",
    "    width = 20,\n",
    "    height = 8,\n",
    "    path = \"results/SLE_subgroups/\")"
   ]
  },
  {
   "cell_type": "markdown",
   "id": "1a0f3730-aa46-48fb-986d-a5c322401ebe",
   "metadata": {},
   "source": [
    "### SLEDAI"
   ]
  },
  {
   "cell_type": "code",
   "execution_count": 17,
   "id": "8b59480c-be7e-4f2a-8250-983e1d5e474a",
   "metadata": {
    "execution": {
     "iopub.execute_input": "2024-06-27T13:45:59.073536Z",
     "iopub.status.busy": "2024-06-27T13:45:59.072413Z",
     "iopub.status.idle": "2024-06-27T13:45:59.090650Z",
     "shell.execute_reply": "2024-06-27T13:45:59.089372Z"
    }
   },
   "outputs": [],
   "source": [
    "SLEDAI_palette <- c(\n",
    "    \"High\" = \"#103783\",\n",
    "    \"Low\" = \"#9bafd9\"\n",
    ")\n",
    "\n",
    "toplot_sledai_perez_l1 <-\n",
    "    perez2022_l1 %>%\n",
    "    filter(\n",
    "        SLEDAI_category %in% c(\"High\", \"Low\")\n",
    "    )\n",
    "\n",
    "toplot_sledai_scgt00_l1 <-\n",
    "    scgt00_l1 %>%\n",
    "    filter(\n",
    "        SLEDAI_category %in% c(\"High\", \"Low\")\n",
    "    )"
   ]
  },
  {
   "cell_type": "code",
   "execution_count": 18,
   "id": "9d27f24b-d168-4b4c-b69f-0bc317aefde5",
   "metadata": {
    "execution": {
     "iopub.execute_input": "2024-06-27T13:46:00.444086Z",
     "iopub.status.busy": "2024-06-27T13:46:00.443124Z",
     "iopub.status.idle": "2024-06-27T13:46:00.451433Z",
     "shell.execute_reply": "2024-06-27T13:46:00.450307Z"
    }
   },
   "outputs": [],
   "source": [
    "toplot_sledai <- rbind(toplot_sledai_perez_l1, toplot_sledai_scgt00_l1)"
   ]
  },
  {
   "cell_type": "markdown",
   "id": "9ec9f5d5-8b6f-4cbc-b428-527db700c520",
   "metadata": {},
   "source": [
    "**SP1**"
   ]
  },
  {
   "cell_type": "code",
   "execution_count": 24,
   "id": "0d0093c0-3308-44df-8564-6e003756d815",
   "metadata": {
    "execution": {
     "iopub.execute_input": "2024-06-27T13:48:02.838059Z",
     "iopub.status.busy": "2024-06-27T13:48:02.836939Z",
     "iopub.status.idle": "2024-06-27T13:48:03.459999Z",
     "shell.execute_reply": "2024-06-27T13:48:03.458632Z"
    }
   },
   "outputs": [],
   "source": [
    "plot_sledai_sp1 <- ggboxplot(toplot_sledai, x = \"Level1\", y = \"SP1\", fill = \"SLEDAI_category\") +\n",
    "    facet_grid(studyID ~ Level1, scales = \"free_x\") +\n",
    "    scale_fill_manual(values = SLEDAI_palette) +\n",
    "    theme_bw() +\n",
    "    ggtitle(label = \"SLEDAI SP1\") +\n",
    "    theme(\n",
    "        axis.text.x = element_text(angle = 25, vjust = 0.5, hjust=0.5)\n",
    "    )\n",
    "\n",
    "ggsave(\n",
    "    plot_sledai_sp1,\n",
    "    filename = \"sledai_sp1_level1.pdf\",\n",
    "    device = \"pdf\",\n",
    "    width = 20,\n",
    "    height = 8,\n",
    "    path = \"results/SLE_subgroups/\")"
   ]
  },
  {
   "cell_type": "markdown",
   "id": "8b894b2c-5af8-4b18-b4ed-8ec8e26da518",
   "metadata": {},
   "source": [
    "**STAT1**"
   ]
  },
  {
   "cell_type": "code",
   "execution_count": 26,
   "id": "6819e0a3-6562-4b70-adcb-4192e45c0623",
   "metadata": {
    "execution": {
     "iopub.execute_input": "2024-06-27T13:48:29.303260Z",
     "iopub.status.busy": "2024-06-27T13:48:29.302155Z",
     "iopub.status.idle": "2024-06-27T13:48:29.925204Z",
     "shell.execute_reply": "2024-06-27T13:48:29.923790Z"
    }
   },
   "outputs": [],
   "source": [
    "plot_sledai_stat1 <- ggboxplot(toplot_sledai, x = \"Level1\", y = \"STAT1\", fill = \"SLEDAI_category\") +\n",
    "    facet_grid(studyID ~ Level1, scales = \"free_x\") +\n",
    "    scale_fill_manual(values = SLEDAI_palette) +\n",
    "    theme_bw() +\n",
    "    ggtitle(label = \"SLEDAI STAT1\") +\n",
    "    theme(\n",
    "        axis.text.x = element_text(angle = 25, vjust = 0.5, hjust=0.5)\n",
    "    )\n",
    "\n",
    "ggsave(\n",
    "    plot_sledai_stat1,\n",
    "    filename = \"sledai_stat1_level1.pdf\",\n",
    "    device = \"pdf\",\n",
    "    width = 20,\n",
    "    height = 8,\n",
    "    path = \"results/SLE_subgroups/\")"
   ]
  },
  {
   "cell_type": "markdown",
   "id": "99f5af20-558a-4b61-b261-4f7cf6433be8",
   "metadata": {},
   "source": [
    "## Level 2"
   ]
  },
  {
   "cell_type": "markdown",
   "id": "fa7ffacc-4485-4dd7-ade1-f1e7bcd4aedf",
   "metadata": {},
   "source": [
    "### Flare"
   ]
  },
  {
   "cell_type": "code",
   "execution_count": 18,
   "id": "cb577b11-de54-4f60-a5bf-e04e8386b60a",
   "metadata": {
    "execution": {
     "iopub.execute_input": "2024-06-26T11:34:11.086263Z",
     "iopub.status.busy": "2024-06-26T11:34:11.085072Z",
     "iopub.status.idle": "2024-06-26T11:34:11.100417Z",
     "shell.execute_reply": "2024-06-26T11:34:11.099174Z"
    }
   },
   "outputs": [],
   "source": [
    "toplot_flare <-\n",
    "    perez2022 %>%\n",
    "    mutate(\n",
    "        Flare = case_when(Flare == \"not_F\" ~ \"notF\",\n",
    "        TRUE ~ as.character(Flare))\n",
    "    ) %>%\n",
    "    filter(\n",
    "        Flare %in% c(\"notF\", \"F\")\n",
    "    )\n",
    "\n",
    "flare_palette <- c(\n",
    "  \"F\" = \"#e76f51\",\n",
    "  \"notF\" = \"#e9c46a\"\n",
    ")"
   ]
  },
  {
   "cell_type": "markdown",
   "id": "3448291c-8789-4bd8-bf5c-7e6bb17fa1ea",
   "metadata": {},
   "source": [
    "**SP1**"
   ]
  },
  {
   "cell_type": "code",
   "execution_count": 26,
   "id": "6a9efe32-641e-44f9-96d8-c7abe981196f",
   "metadata": {
    "execution": {
     "iopub.execute_input": "2024-06-26T11:38:10.387064Z",
     "iopub.status.busy": "2024-06-26T11:38:10.385943Z",
     "iopub.status.idle": "2024-06-26T11:38:11.196214Z",
     "shell.execute_reply": "2024-06-26T11:38:11.194847Z"
    }
   },
   "outputs": [],
   "source": [
    "plot_flare_sp1 <- ggboxplot(toplot_flare, x = \"Level2\", y = \"SP1\", fill = \"Flare\") +\n",
    "    facet_wrap(~Level1, scales = \"free\", ncol = 4, nrow = 2) +\n",
    "    scale_fill_manual(values = flare_palette) +\n",
    "    theme_bw() +\n",
    "    ggtitle(label = \"Flare SP1\") +\n",
    "    theme(\n",
    "        axis.text.x = element_text(angle = 25, vjust = 0.5, hjust=0.5)\n",
    "    )\n",
    "\n",
    "ggsave(\n",
    "    plot_flare_sp1,\n",
    "    filename = \"flare_sp1.pdf\",\n",
    "    device = \"pdf\",\n",
    "    width = 20,\n",
    "    height = 8,\n",
    "    path = \"results/SLE_subgroups/\")"
   ]
  },
  {
   "cell_type": "markdown",
   "id": "91bedb5b-2a86-42a2-9659-dc3d851f5536",
   "metadata": {},
   "source": [
    "**STAT1**"
   ]
  },
  {
   "cell_type": "code",
   "execution_count": 27,
   "id": "6edcfdb0-0b38-49dc-bc54-44f57556f1a8",
   "metadata": {
    "execution": {
     "iopub.execute_input": "2024-06-26T11:38:11.303630Z",
     "iopub.status.busy": "2024-06-26T11:38:11.302621Z",
     "iopub.status.idle": "2024-06-26T11:38:12.142978Z",
     "shell.execute_reply": "2024-06-26T11:38:12.141618Z"
    }
   },
   "outputs": [],
   "source": [
    "plot_flare_stat1 <- ggboxplot(toplot_flare, x = \"Level2\", y = \"STAT1\", fill = \"Flare\") +\n",
    "    facet_wrap(~Level1, scales = \"free\", ncol = 4, nrow = 2) +\n",
    "    scale_fill_manual(values = flare_palette) +\n",
    "    theme_bw() +\n",
    "    ggtitle(label = \"Flare STAT1\") +\n",
    "    theme(\n",
    "        axis.text.x = element_text(angle = 25, vjust = 0.5, hjust=0.5)\n",
    "    )\n",
    "\n",
    "ggsave(\n",
    "    plot_flare_stat1,\n",
    "    filename = \"flare_stat1.pdf\",\n",
    "    device = \"pdf\",\n",
    "    width = 20,\n",
    "    height = 8,\n",
    "    path = \"results/SLE_subgroups/\")"
   ]
  },
  {
   "cell_type": "markdown",
   "id": "9443d6e3-da46-4bd9-97fa-c3b8964a4b20",
   "metadata": {},
   "source": [
    "### Responder"
   ]
  },
  {
   "cell_type": "code",
   "execution_count": 29,
   "id": "31c08b74-c7bb-48b6-893d-6f1774c98102",
   "metadata": {
    "execution": {
     "iopub.execute_input": "2024-06-26T11:42:19.547623Z",
     "iopub.status.busy": "2024-06-26T11:42:19.546514Z",
     "iopub.status.idle": "2024-06-26T11:42:19.562772Z",
     "shell.execute_reply": "2024-06-26T11:42:19.561508Z"
    }
   },
   "outputs": [],
   "source": [
    "response_palette <- c(\n",
    "    \"R\" = \"#70e000\",\n",
    "    \"NR\" = \"#007200\"\n",
    ")\n",
    "\n",
    "toplot_response <-\n",
    "    scgt00 %>%\n",
    "    filter(\n",
    "        Responder %in% c(\"R\", \"NR\")\n",
    "    )"
   ]
  },
  {
   "cell_type": "markdown",
   "id": "a88cd29c-e1af-467b-81fa-0c82c1fb7459",
   "metadata": {},
   "source": [
    "**SP1**"
   ]
  },
  {
   "cell_type": "code",
   "execution_count": 34,
   "id": "593be40b-a651-4588-9429-b0ef11acb807",
   "metadata": {
    "execution": {
     "iopub.execute_input": "2024-06-26T11:42:50.171475Z",
     "iopub.status.busy": "2024-06-26T11:42:50.170372Z",
     "iopub.status.idle": "2024-06-26T11:42:50.977208Z",
     "shell.execute_reply": "2024-06-26T11:42:50.975657Z"
    }
   },
   "outputs": [],
   "source": [
    "plot_flare_sp1 <- ggboxplot(toplot_response, x = \"Level2\", y = \"SP1\", fill = \"Responder\") +\n",
    "    facet_wrap(~Level1, scales = \"free\", ncol = 4, nrow = 2) +\n",
    "    scale_fill_manual(values = response_palette) +\n",
    "    theme_bw() +\n",
    "    ggtitle(label = \"Response SP1\") +\n",
    "    theme(\n",
    "        axis.text.x = element_text(angle = 25, vjust = 0.5, hjust=0.5)\n",
    "    )\n",
    "\n",
    "ggsave(\n",
    "    plot_flare_sp1,\n",
    "    filename = \"response_sp1.pdf\",\n",
    "    device = \"pdf\",\n",
    "    width = 20,\n",
    "    height = 8,\n",
    "    path = \"results/SLE_subgroups/\")"
   ]
  },
  {
   "cell_type": "markdown",
   "id": "b4bf5199-d777-4bc2-852a-44e3d7bea1f2",
   "metadata": {},
   "source": [
    "**STAT1**"
   ]
  },
  {
   "cell_type": "code",
   "execution_count": 35,
   "id": "08ea1f22-01e9-4f03-9ca4-e8dafff8aede",
   "metadata": {
    "execution": {
     "iopub.execute_input": "2024-06-26T11:42:58.897692Z",
     "iopub.status.busy": "2024-06-26T11:42:58.896612Z",
     "iopub.status.idle": "2024-06-26T11:42:59.614769Z",
     "shell.execute_reply": "2024-06-26T11:42:59.613404Z"
    }
   },
   "outputs": [],
   "source": [
    "plot_flare_sp1 <- ggboxplot(toplot_response, x = \"Level2\", y = \"STAT1\", fill = \"Responder\") +\n",
    "    facet_wrap(~Level1, scales = \"free\", ncol = 4, nrow = 2) +\n",
    "    scale_fill_manual(values = response_palette) +\n",
    "    theme_bw() +\n",
    "    ggtitle(label = \"Response STAT1\") +\n",
    "    theme(\n",
    "        axis.text.x = element_text(angle = 25, vjust = 0.5, hjust=0.5)\n",
    "    )\n",
    "\n",
    "ggsave(\n",
    "    plot_flare_sp1,\n",
    "    filename = \"response_stat1.pdf\",\n",
    "    device = \"pdf\",\n",
    "    width = 20,\n",
    "    height = 8,\n",
    "    path = \"results/SLE_subgroups/\")"
   ]
  },
  {
   "cell_type": "markdown",
   "id": "30e61a4f-fd90-4cbd-ba13-edec9845d0c4",
   "metadata": {},
   "source": [
    "### SLEDAI"
   ]
  },
  {
   "cell_type": "code",
   "execution_count": 36,
   "id": "a3d7b16a-fd18-4264-a110-3e4b7abe4e4a",
   "metadata": {
    "execution": {
     "iopub.execute_input": "2024-06-26T11:51:25.860923Z",
     "iopub.status.busy": "2024-06-26T11:51:25.859760Z",
     "iopub.status.idle": "2024-06-26T11:51:25.875550Z",
     "shell.execute_reply": "2024-06-26T11:51:25.874267Z"
    }
   },
   "outputs": [],
   "source": [
    "SLEDAI_palette <- c(\n",
    "    \"High\" = \"#103783\",\n",
    "    \"Low\" = \"#9bafd9\"\n",
    ")\n",
    "\n",
    "toplot_sledai_perez <-\n",
    "    perez2022 %>%\n",
    "    filter(\n",
    "        SLEDAI_category %in% c(\"High\", \"Low\")\n",
    "    )\n",
    "\n",
    "toplot_sledai_scgt00 <-\n",
    "    scgt00 %>%\n",
    "    filter(\n",
    "        SLEDAI_category %in% c(\"High\", \"Low\")\n",
    "    )"
   ]
  },
  {
   "cell_type": "code",
   "execution_count": 38,
   "id": "c080bb85-5d11-4f79-965d-c6e5cb23e77b",
   "metadata": {
    "execution": {
     "iopub.execute_input": "2024-06-26T11:51:48.353346Z",
     "iopub.status.busy": "2024-06-26T11:51:48.352185Z",
     "iopub.status.idle": "2024-06-26T11:51:48.361617Z",
     "shell.execute_reply": "2024-06-26T11:51:48.360414Z"
    }
   },
   "outputs": [],
   "source": [
    "toplot_sledai <- rbind(toplot_sledai_perez, toplot_sledai_scgt00)"
   ]
  },
  {
   "cell_type": "markdown",
   "id": "d32faf59-bd36-46af-83fe-da388c773e0c",
   "metadata": {},
   "source": [
    "**SP1**"
   ]
  },
  {
   "cell_type": "code",
   "execution_count": 43,
   "id": "9915b39a-ccde-4bbe-97e5-0ba7847b755e",
   "metadata": {
    "execution": {
     "iopub.execute_input": "2024-06-26T11:54:29.969642Z",
     "iopub.status.busy": "2024-06-26T11:54:29.968096Z",
     "iopub.status.idle": "2024-06-26T11:54:31.180238Z",
     "shell.execute_reply": "2024-06-26T11:54:31.178535Z"
    }
   },
   "outputs": [],
   "source": [
    "plot_sledai_sp1 <- ggboxplot(toplot_sledai, x = \"Level2\", y = \"SP1\", fill = \"SLEDAI_category\") +\n",
    "    facet_grid(studyID ~ Level1, scales = \"free_x\") +\n",
    "    scale_fill_manual(values = SLEDAI_palette) +\n",
    "    theme_bw() +\n",
    "    ggtitle(label = \"SLEDAI SP1\") +\n",
    "    theme(\n",
    "        axis.text.x = element_text(angle = 25, vjust = 0.5, hjust=0.5)\n",
    "    )\n",
    "\n",
    "ggsave(\n",
    "    plot_sledai_sp1,\n",
    "    filename = \"sledai_sp1.pdf\",\n",
    "    device = \"pdf\",\n",
    "    width = 20,\n",
    "    height = 8,\n",
    "    path = \"results/SLE_subgroups/\")"
   ]
  },
  {
   "cell_type": "markdown",
   "id": "5cc9d982-8b0a-4f46-9cc9-0f9587ddbecb",
   "metadata": {},
   "source": [
    "**STAT1**"
   ]
  },
  {
   "cell_type": "code",
   "execution_count": 44,
   "id": "3a630d2d-822c-4a81-a904-87d154439541",
   "metadata": {
    "execution": {
     "iopub.execute_input": "2024-06-26T11:54:31.183181Z",
     "iopub.status.busy": "2024-06-26T11:54:31.182087Z",
     "iopub.status.idle": "2024-06-26T11:54:32.266131Z",
     "shell.execute_reply": "2024-06-26T11:54:32.264719Z"
    }
   },
   "outputs": [],
   "source": [
    "plot_sledai_stat1 <- ggboxplot(toplot_sledai, x = \"Level2\", y = \"STAT1\", fill = \"SLEDAI_category\") +\n",
    "    facet_grid(studyID ~ Level1, scales = \"free_x\") +\n",
    "    scale_fill_manual(values = SLEDAI_palette) +\n",
    "    theme_bw() +\n",
    "    ggtitle(label = \"SLEDAI STAT1\") +\n",
    "    theme(\n",
    "        axis.text.x = element_text(angle = 25, vjust = 0.5, hjust=0.5)\n",
    "    )\n",
    "\n",
    "ggsave(\n",
    "    plot_sledai_stat1,\n",
    "    filename = \"sledai_stat1.pdf\",\n",
    "    device = \"pdf\",\n",
    "    width = 20,\n",
    "    height = 8,\n",
    "    path = \"results/SLE_subgroups/\")"
   ]
  },
  {
   "cell_type": "markdown",
   "id": "300c9a4f-b7c8-4983-b8a5-044594c1c085",
   "metadata": {},
   "source": [
    "#### Threshold = 4"
   ]
  },
  {
   "cell_type": "code",
   "execution_count": 70,
   "id": "3456ed82-6ac7-4272-9ea3-1c8b794173d8",
   "metadata": {
    "execution": {
     "iopub.execute_input": "2024-06-26T12:47:19.857015Z",
     "iopub.status.busy": "2024-06-26T12:47:19.855888Z",
     "iopub.status.idle": "2024-06-26T12:47:19.879969Z",
     "shell.execute_reply": "2024-06-26T12:47:19.878803Z"
    }
   },
   "outputs": [
    {
     "name": "stdout",
     "output_type": "stream",
     "text": [
      "\n",
      "High  Low \n",
      " 624 1232 \n",
      "\n",
      "High \n",
      " 277 \n"
     ]
    }
   ],
   "source": [
    "SLEDAI_palette <- c(\n",
    "    \"High\" = \"#103783\",\n",
    "    \"Low\" = \"#9bafd9\"\n",
    ")\n",
    "\n",
    "toplot_sledai_perez <- perez2022 %>%\n",
    "  mutate(SLEDAI_score = as.numeric(as.character(SLEDAI_score)),\n",
    "         SLEDAI_category = ifelse(SLEDAI_score >= 4, \"High\", \"Low\")) %>%\n",
    "  filter(SLEDAI_category %in% c(\"High\", \"Low\"))\n",
    "\n",
    "\n",
    "toplot_sledai_scgt00 <- scgt00 %>%\n",
    "  mutate(SLEDAI_score = as.numeric(as.character(SLEDAI_score)),\n",
    "         SLEDAI_category = ifelse(SLEDAI_score >= 4, \"High\", \"Low\")) %>%\n",
    "  filter(SLEDAI_category %in% c(\"High\", \"Low\"))\n",
    "\n",
    "\n",
    "# Print the first few rows to verify the changes\n",
    "print(table(toplot_sledai_perez$SLEDAI_category))\n",
    "print(table(toplot_sledai_scgt00$SLEDAI_category))"
   ]
  },
  {
   "cell_type": "code",
   "execution_count": 71,
   "id": "76588c8b-d31e-4521-8550-0ad38530eea1",
   "metadata": {
    "execution": {
     "iopub.execute_input": "2024-06-26T12:47:24.533169Z",
     "iopub.status.busy": "2024-06-26T12:47:24.532063Z",
     "iopub.status.idle": "2024-06-26T12:47:24.541019Z",
     "shell.execute_reply": "2024-06-26T12:47:24.539865Z"
    }
   },
   "outputs": [],
   "source": [
    "toplot_sledai <- rbind(toplot_sledai_perez, toplot_sledai_scgt00)"
   ]
  },
  {
   "cell_type": "markdown",
   "id": "61238092-697a-4324-ac2d-33acebd62ad9",
   "metadata": {},
   "source": [
    "**SP1**"
   ]
  },
  {
   "cell_type": "code",
   "execution_count": 72,
   "id": "b27b986d-ef4e-4350-9501-b176782e6a69",
   "metadata": {
    "execution": {
     "iopub.execute_input": "2024-06-26T12:47:25.330304Z",
     "iopub.status.busy": "2024-06-26T12:47:25.329131Z",
     "iopub.status.idle": "2024-06-26T12:47:26.307032Z",
     "shell.execute_reply": "2024-06-26T12:47:26.305582Z"
    }
   },
   "outputs": [],
   "source": [
    "plot_sledai_sp1 <- ggboxplot(toplot_sledai, x = \"Level2\", y = \"SP1\", fill = \"SLEDAI_category\") +\n",
    "    facet_grid(studyID ~ Level1, scales = \"free_x\") +\n",
    "    scale_fill_manual(values = SLEDAI_palette) +\n",
    "    theme_bw() +\n",
    "    ggtitle(label = \"SLEDAI SP1\") +\n",
    "    theme(\n",
    "        axis.text.x = element_text(angle = 25, vjust = 0.5, hjust=0.5)\n",
    "    )\n",
    "\n",
    "ggsave(\n",
    "    plot_sledai_sp1,\n",
    "    filename = \"sledai_sp1_thr4.pdf\",\n",
    "    device = \"pdf\",\n",
    "    width = 20,\n",
    "    height = 8,\n",
    "    path = \"results/SLE_subgroups/\")"
   ]
  },
  {
   "cell_type": "markdown",
   "id": "a0f73d84-4348-4ba7-9c10-08773c8b2c37",
   "metadata": {},
   "source": [
    "**STAT1**"
   ]
  },
  {
   "cell_type": "code",
   "execution_count": 73,
   "id": "8aca04ff-8ecd-44ba-90bc-4308160cb14f",
   "metadata": {
    "execution": {
     "iopub.execute_input": "2024-06-26T12:47:26.516019Z",
     "iopub.status.busy": "2024-06-26T12:47:26.514823Z",
     "iopub.status.idle": "2024-06-26T12:47:27.427599Z",
     "shell.execute_reply": "2024-06-26T12:47:27.426187Z"
    }
   },
   "outputs": [],
   "source": [
    "plot_sledai_stat1 <- ggboxplot(toplot_sledai, x = \"Level2\", y = \"STAT1\", fill = \"SLEDAI_category\") +\n",
    "    facet_grid(studyID ~ Level1, scales = \"free_x\") +\n",
    "    scale_fill_manual(values = SLEDAI_palette) +\n",
    "    theme_bw() +\n",
    "    ggtitle(label = \"SLEDAI STAT1\") +\n",
    "    theme(\n",
    "        axis.text.x = element_text(angle = 25, vjust = 0.5, hjust=0.5)\n",
    "    )\n",
    "\n",
    "ggsave(\n",
    "    plot_sledai_stat1,\n",
    "    filename = \"sledai_stat1_thr4.pdf\",\n",
    "    device = \"pdf\",\n",
    "    width = 20,\n",
    "    height = 8,\n",
    "    path = \"results/SLE_subgroups/\")"
   ]
  }
 ],
 "metadata": {
  "kernelspec": {
   "display_name": "R",
   "language": "R",
   "name": "ir"
  },
  "language_info": {
   "codemirror_mode": "r",
   "file_extension": ".r",
   "mimetype": "text/x-r-source",
   "name": "R",
   "pygments_lexer": "r",
   "version": "4.3.3"
  }
 },
 "nbformat": 4,
 "nbformat_minor": 5
}
