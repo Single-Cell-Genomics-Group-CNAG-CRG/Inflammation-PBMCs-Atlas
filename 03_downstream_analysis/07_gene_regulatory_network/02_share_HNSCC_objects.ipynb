{
 "cells": [
  {
   "cell_type": "code",
   "execution_count": 1,
   "id": "5772d419-1040-4bcd-a72f-fbd7c5a42e06",
   "metadata": {
    "execution": {
     "iopub.execute_input": "2025-05-15T14:29:52.967883Z",
     "iopub.status.busy": "2025-05-15T14:29:52.967509Z",
     "iopub.status.idle": "2025-05-15T14:29:55.567573Z",
     "shell.execute_reply": "2025-05-15T14:29:55.567032Z",
     "shell.execute_reply.started": "2025-05-15T14:29:52.967861Z"
    }
   },
   "outputs": [],
   "source": [
    "import pandas as pd\n",
    "import numpy as np\n",
    "import seaborn as sns\n",
    "import matplotlib.pyplot as plt\n",
    "import pickle\n",
    "import os\n",
    "import sys\n",
    "import scanpy as sc\n",
    "from pyprojroot import here\n",
    "import session_info\n",
    "import anndata as ad\n",
    "\n",
    "# import Spectra as spc\n",
    "\n",
    "# from Spectra import K_est as kst\n",
    "\n",
    "sys.path.insert(1, str(here('bin')))\n",
    "from customPalette import diseases_palette\n",
    "from customPalette import diseaseCategories\n",
    "\n",
    "\n",
    "import warnings\n",
    "warnings.filterwarnings('ignore')"
   ]
  },
  {
   "cell_type": "code",
   "execution_count": 2,
   "id": "dcee5800-1445-46a1-8d1a-f9d48e427845",
   "metadata": {
    "execution": {
     "iopub.execute_input": "2025-05-15T14:29:55.568973Z",
     "iopub.status.busy": "2025-05-15T14:29:55.568565Z",
     "iopub.status.idle": "2025-05-15T14:29:55.572269Z",
     "shell.execute_reply": "2025-05-15T14:29:55.571886Z",
     "shell.execute_reply.started": "2025-05-15T14:29:55.568954Z"
    }
   },
   "outputs": [],
   "source": [
    "project_dir = here('03_downstream_analysis/07_gene_regulatory_network/')"
   ]
  },
  {
   "cell_type": "markdown",
   "id": "6cc9eb17-2bc8-4206-bb3c-014537de5816",
   "metadata": {},
   "source": [
    "# Load object"
   ]
  },
  {
   "cell_type": "markdown",
   "id": "3e7032a0-974d-4f3b-ae6f-05a4052adfa2",
   "metadata": {},
   "source": [
    "**adata**"
   ]
  },
  {
   "cell_type": "code",
   "execution_count": 3,
   "id": "036e89d3-aea2-4ffd-9db1-fe106197e349",
   "metadata": {
    "execution": {
     "iopub.execute_input": "2025-05-15T14:29:55.573214Z",
     "iopub.status.busy": "2025-05-15T14:29:55.572949Z",
     "iopub.status.idle": "2025-05-15T14:30:19.019911Z",
     "shell.execute_reply": "2025-05-15T14:30:19.019402Z",
     "shell.execute_reply.started": "2025-05-15T14:29:55.573196Z"
    }
   },
   "outputs": [],
   "source": [
    "input_file_path = \"/scratch_isilon/groups/singlecell/shared/projects/Inflammation-PBMCs-Atlas/03_downstream_analysis/02_gene_universe_definition/results/04_MAIN_geneUniverse.log1p.h5ad\"\n",
    "adata = sc.read_h5ad(input_file_path)"
   ]
  },
  {
   "cell_type": "code",
   "execution_count": 4,
   "id": "42836236-666b-47c7-a3b3-b2f5c0f7558f",
   "metadata": {
    "execution": {
     "iopub.execute_input": "2025-05-15T14:30:19.021145Z",
     "iopub.status.busy": "2025-05-15T14:30:19.020981Z",
     "iopub.status.idle": "2025-05-15T14:30:19.026477Z",
     "shell.execute_reply": "2025-05-15T14:30:19.026082Z",
     "shell.execute_reply.started": "2025-05-15T14:30:19.021127Z"
    }
   },
   "outputs": [
    {
     "data": {
      "text/plain": [
       "AnnData object with n_obs × n_vars = 4435922 × 8253\n",
       "    obs: 'studyID', 'libraryID', 'sampleID', 'chemistry', 'disease', 'sex', 'binned_age', 'Level1', 'Level2'\n",
       "    var: 'hgnc_id', 'symbol', 'locus_group', 'HUGO_status', 'highly_variable'\n",
       "    uns: 'log1p'"
      ]
     },
     "execution_count": 4,
     "metadata": {},
     "output_type": "execute_result"
    }
   ],
   "source": [
    "adata"
   ]
  },
  {
   "cell_type": "code",
   "execution_count": 5,
   "id": "6fec10d5-c498-4623-960e-1369f5d7f6a3",
   "metadata": {
    "execution": {
     "iopub.execute_input": "2025-05-15T14:30:19.027174Z",
     "iopub.status.busy": "2025-05-15T14:30:19.027018Z",
     "iopub.status.idle": "2025-05-15T14:30:19.041318Z",
     "shell.execute_reply": "2025-05-15T14:30:19.040963Z",
     "shell.execute_reply.started": "2025-05-15T14:30:19.027157Z"
    }
   },
   "outputs": [
    {
     "data": {
      "text/plain": [
       "{'log1p': {}}"
      ]
     },
     "execution_count": 5,
     "metadata": {},
     "output_type": "execute_result"
    }
   ],
   "source": [
    "adata.uns"
   ]
  },
  {
   "cell_type": "markdown",
   "id": "f7c0cde0-9717-4302-90a7-2b23a4bce551",
   "metadata": {},
   "source": [
    "# Subset adata"
   ]
  },
  {
   "cell_type": "code",
   "execution_count": 8,
   "id": "e70e59fb-61dd-4bab-bc7f-c8467958c568",
   "metadata": {
    "execution": {
     "iopub.execute_input": "2025-05-15T14:30:46.283418Z",
     "iopub.status.busy": "2025-05-15T14:30:46.283136Z",
     "iopub.status.idle": "2025-05-15T14:30:46.358777Z",
     "shell.execute_reply": "2025-05-15T14:30:46.358363Z",
     "shell.execute_reply.started": "2025-05-15T14:30:46.283401Z"
    }
   },
   "outputs": [
    {
     "data": {
      "text/plain": [
       "View of AnnData object with n_obs × n_vars = 14842 × 8253\n",
       "    obs: 'studyID', 'libraryID', 'sampleID', 'chemistry', 'disease', 'sex', 'binned_age', 'Level1', 'Level2'\n",
       "    var: 'hgnc_id', 'symbol', 'locus_group', 'HUGO_status', 'highly_variable'\n",
       "    uns: 'log1p'"
      ]
     },
     "execution_count": 8,
     "metadata": {},
     "output_type": "execute_result"
    }
   ],
   "source": [
    "# Subset cells based on studyID and disease\n",
    "studyIDs_of_interest = ['Cillo2020']\n",
    "diseases_of_interest = ['healthy', 'HNSCC']\n",
    "\n",
    "adata_subset = adata[\n",
    "    adata.obs['studyID'].isin(studyIDs_of_interest) &\n",
    "    adata.obs['disease'].isin(diseases_of_interest) &\n",
    "    adata.obs['Level1'].isin([\"Mono\"])\n",
    "]\n",
    "adata_subset"
   ]
  },
  {
   "cell_type": "markdown",
   "id": "4dcd6740-dec3-4455-aad8-4954343428b5",
   "metadata": {},
   "source": [
    "**Genes: SP1 and STAT1 targets**"
   ]
  },
  {
   "cell_type": "code",
   "execution_count": 10,
   "id": "52656e83-629e-4b24-9616-85cfddd76e2e",
   "metadata": {
    "execution": {
     "iopub.execute_input": "2025-05-15T14:30:52.552935Z",
     "iopub.status.busy": "2025-05-15T14:30:52.552453Z",
     "iopub.status.idle": "2025-05-15T14:30:52.557356Z",
     "shell.execute_reply": "2025-05-15T14:30:52.556982Z",
     "shell.execute_reply.started": "2025-05-15T14:30:52.552914Z"
    }
   },
   "outputs": [
    {
     "data": {
      "text/plain": [
       "51"
      ]
     },
     "execution_count": 10,
     "metadata": {},
     "output_type": "execute_result"
    }
   ],
   "source": [
    "genes_of_interest = [\n",
    "    \"OAS1\", \"IFITM3\", \"S100A10\", \"FTH1\", \"ADGRG1\", \"S100A6\", \"GAPDH\",\n",
    "    \"MX2\", \"ACTB\", \"ISG20\", \"MT2A\", \"IFI27\", \"IFIT2\", \"IFIT3\", \"PRF1\",\n",
    "    \"ADAR\", \"IFI6\", \"IFIT1\", \"IFITM1\", \"ISG15\", \"MX1\", \"RAC2\", \"LGALS1\",\n",
    "    \"PSMB9\", \"FOS\", \"SPI1\", \"VIM\", \"S100A8\", \"TKT\", \"TIMP1\", \"GSTP1\",\n",
    "    \"ITGAX\", \"SERPINA1\", \"FGL2\", \"LYZ\", \"TSPO\", \"SLC11A1\", \"TNFSF13\",\n",
    "    \"STXBP2\", \"LGALS3\", \"PSAP\", \"FBP1\", \"TYMP\", \"COX4I1\", \"CD86\",\n",
    "    \"UPP1\", \"LY96\", \"LAP3\", \"CALM1\", \"SRSF7\", \"FUS\"\n",
    "]\n",
    "len(genes_of_interest)"
   ]
  },
  {
   "cell_type": "code",
   "execution_count": 11,
   "id": "fc88ec8a-f818-4f13-b0ac-b2aed2869e93",
   "metadata": {
    "execution": {
     "iopub.execute_input": "2025-05-15T14:30:52.940520Z",
     "iopub.status.busy": "2025-05-15T14:30:52.940272Z",
     "iopub.status.idle": "2025-05-15T14:30:52.951077Z",
     "shell.execute_reply": "2025-05-15T14:30:52.950623Z",
     "shell.execute_reply.started": "2025-05-15T14:30:52.940502Z"
    }
   },
   "outputs": [
    {
     "data": {
      "text/plain": [
       "View of AnnData object with n_obs × n_vars = 14842 × 51\n",
       "    obs: 'studyID', 'libraryID', 'sampleID', 'chemistry', 'disease', 'sex', 'binned_age', 'Level1', 'Level2'\n",
       "    var: 'hgnc_id', 'symbol', 'locus_group', 'HUGO_status', 'highly_variable'\n",
       "    uns: 'log1p'"
      ]
     },
     "execution_count": 11,
     "metadata": {},
     "output_type": "execute_result"
    }
   ],
   "source": [
    "adata_subset = adata_subset[:, adata_subset.var.symbol.isin(genes_of_interest)]\n",
    "adata_subset"
   ]
  },
  {
   "cell_type": "markdown",
   "id": "d0e46925-8441-422d-bd57-96c985f0a84c",
   "metadata": {},
   "source": [
    "# Save processed adata"
   ]
  },
  {
   "cell_type": "code",
   "execution_count": 12,
   "id": "e86c42f2-5931-4d44-b226-25528a4edbfb",
   "metadata": {
    "execution": {
     "iopub.execute_input": "2025-05-15T14:30:54.102433Z",
     "iopub.status.busy": "2025-05-15T14:30:54.102173Z",
     "iopub.status.idle": "2025-05-15T14:30:54.105370Z",
     "shell.execute_reply": "2025-05-15T14:30:54.104988Z",
     "shell.execute_reply.started": "2025-05-15T14:30:54.102413Z"
    }
   },
   "outputs": [
    {
     "data": {
      "text/plain": [
       "View of AnnData object with n_obs × n_vars = 14842 × 51\n",
       "    obs: 'studyID', 'libraryID', 'sampleID', 'chemistry', 'disease', 'sex', 'binned_age', 'Level1', 'Level2'\n",
       "    var: 'hgnc_id', 'symbol', 'locus_group', 'HUGO_status', 'highly_variable'\n",
       "    uns: 'log1p'"
      ]
     },
     "execution_count": 12,
     "metadata": {},
     "output_type": "execute_result"
    }
   ],
   "source": [
    "adata_subset"
   ]
  },
  {
   "cell_type": "code",
   "execution_count": 13,
   "id": "88c190e7-afa1-4180-8449-fddd39151b7e",
   "metadata": {
    "execution": {
     "iopub.execute_input": "2025-05-15T14:31:07.293944Z",
     "iopub.status.busy": "2025-05-15T14:31:07.293465Z",
     "iopub.status.idle": "2025-05-15T14:31:07.484040Z",
     "shell.execute_reply": "2025-05-15T14:31:07.483464Z",
     "shell.execute_reply.started": "2025-05-15T14:31:07.293922Z"
    }
   },
   "outputs": [],
   "source": [
    "adata_subset.write(here(\"03_downstream_analysis/07_gene_regulatory_network/results/04_MAIN_geneUniverse.log1p_HNSCCsubset.h5ad\"), compression=\"gzip\")"
   ]
  },
  {
   "cell_type": "code",
   "execution_count": 14,
   "id": "c0ac33f3-60e5-4820-8c71-c8816ee83683",
   "metadata": {
    "execution": {
     "iopub.execute_input": "2025-05-15T14:31:07.738718Z",
     "iopub.status.busy": "2025-05-15T14:31:07.738342Z",
     "iopub.status.idle": "2025-05-15T14:31:07.743030Z",
     "shell.execute_reply": "2025-05-15T14:31:07.742545Z",
     "shell.execute_reply.started": "2025-05-15T14:31:07.738699Z"
    }
   },
   "outputs": [
    {
     "data": {
      "text/plain": [
       "PosixPath('/scratch_isilon/groups/singlecell/shared/projects/Inflammation-PBMCs-Atlas/03_downstream_analysis/07_gene_regulatory_network/results/04_MAIN_geneUniverse.log1p_HNSCCsubset.h5ad')"
      ]
     },
     "execution_count": 14,
     "metadata": {},
     "output_type": "execute_result"
    }
   ],
   "source": [
    "here(\"03_downstream_analysis/07_gene_regulatory_network/results/04_MAIN_geneUniverse.log1p_HNSCCsubset.h5ad\")"
   ]
  },
  {
   "cell_type": "code",
   "execution_count": null,
   "id": "9311d312-77ab-474a-a438-5f0f16400fd5",
   "metadata": {},
   "outputs": [],
   "source": []
  }
 ],
 "metadata": {
  "kernelspec": {
   "display_name": "Python 3 (ipykernel)",
   "language": "python",
   "name": "python3"
  },
  "language_info": {
   "codemirror_mode": {
    "name": "ipython",
    "version": 3
   },
   "file_extension": ".py",
   "mimetype": "text/x-python",
   "name": "python",
   "nbconvert_exporter": "python",
   "pygments_lexer": "ipython3",
   "version": "3.10.13"
  }
 },
 "nbformat": 4,
 "nbformat_minor": 5
}
