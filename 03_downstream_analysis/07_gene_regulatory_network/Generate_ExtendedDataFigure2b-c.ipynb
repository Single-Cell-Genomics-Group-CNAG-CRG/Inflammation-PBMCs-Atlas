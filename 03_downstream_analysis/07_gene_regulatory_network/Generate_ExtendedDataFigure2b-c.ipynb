{
 "cells": [
  {
   "cell_type": "code",
   "execution_count": 1,
   "id": "469e07b7-bf1d-4c59-8adf-a8b9aadeddd3",
   "metadata": {
    "execution": {
     "iopub.execute_input": "2025-05-26T00:15:53.448674Z",
     "iopub.status.busy": "2025-05-26T00:15:53.446335Z",
     "iopub.status.idle": "2025-05-26T00:16:14.025303Z",
     "shell.execute_reply": "2025-05-26T00:16:14.023869Z"
    }
   },
   "outputs": [
    {
     "name": "stderr",
     "output_type": "stream",
     "text": [
      "Loading required package: dplyr\n",
      "\n",
      "\n",
      "Attaching package: ‘dplyr’\n",
      "\n",
      "\n",
      "The following objects are masked from ‘package:stats’:\n",
      "\n",
      "    filter, lag\n",
      "\n",
      "\n",
      "The following objects are masked from ‘package:base’:\n",
      "\n",
      "    intersect, setdiff, setequal, union\n",
      "\n",
      "\n",
      "Loading required package: ggpubr\n",
      "\n",
      "Loading required package: ggplot2\n",
      "\n",
      "Loading required package: data.table\n",
      "\n",
      "\n",
      "Attaching package: ‘data.table’\n",
      "\n",
      "\n",
      "The following objects are masked from ‘package:dplyr’:\n",
      "\n",
      "    between, first, last\n",
      "\n",
      "\n",
      "── \u001b[1mAttaching core tidyverse packages\u001b[22m ─────────────────────────────────────────────────────────────────────────────────────────────────────────────────────────────────────── tidyverse 2.0.0 ──\n",
      "\u001b[32m✔\u001b[39m \u001b[34mforcats  \u001b[39m 1.0.0     \u001b[32m✔\u001b[39m \u001b[34mstringr  \u001b[39m 1.5.0\n",
      "\u001b[32m✔\u001b[39m \u001b[34mlubridate\u001b[39m 1.9.3     \u001b[32m✔\u001b[39m \u001b[34mtibble   \u001b[39m 3.2.1\n",
      "\u001b[32m✔\u001b[39m \u001b[34mpurrr    \u001b[39m 1.0.2     \u001b[32m✔\u001b[39m \u001b[34mtidyr    \u001b[39m 1.3.0\n",
      "\u001b[32m✔\u001b[39m \u001b[34mreadr    \u001b[39m 2.1.4     \n",
      "── \u001b[1mConflicts\u001b[22m ───────────────────────────────────────────────────────────────────────────────────────────────────────────────────────────────────────────────────────── tidyverse_conflicts() ──\n",
      "\u001b[31m✖\u001b[39m \u001b[34mdata.table\u001b[39m::\u001b[32mbetween()\u001b[39m masks \u001b[34mdplyr\u001b[39m::between()\n",
      "\u001b[31m✖\u001b[39m \u001b[34mdplyr\u001b[39m::\u001b[32mfilter()\u001b[39m       masks \u001b[34mstats\u001b[39m::filter()\n",
      "\u001b[31m✖\u001b[39m \u001b[34mdata.table\u001b[39m::\u001b[32mfirst()\u001b[39m   masks \u001b[34mdplyr\u001b[39m::first()\n",
      "\u001b[31m✖\u001b[39m \u001b[34mlubridate\u001b[39m::\u001b[32mhour()\u001b[39m     masks \u001b[34mdata.table\u001b[39m::hour()\n",
      "\u001b[31m✖\u001b[39m \u001b[34mlubridate\u001b[39m::\u001b[32misoweek()\u001b[39m  masks \u001b[34mdata.table\u001b[39m::isoweek()\n",
      "\u001b[31m✖\u001b[39m \u001b[34mdplyr\u001b[39m::\u001b[32mlag()\u001b[39m          masks \u001b[34mstats\u001b[39m::lag()\n",
      "\u001b[31m✖\u001b[39m \u001b[34mdata.table\u001b[39m::\u001b[32mlast()\u001b[39m    masks \u001b[34mdplyr\u001b[39m::last()\n",
      "\u001b[31m✖\u001b[39m \u001b[34mlubridate\u001b[39m::\u001b[32mmday()\u001b[39m     masks \u001b[34mdata.table\u001b[39m::mday()\n",
      "\u001b[31m✖\u001b[39m \u001b[34mlubridate\u001b[39m::\u001b[32mminute()\u001b[39m   masks \u001b[34mdata.table\u001b[39m::minute()\n",
      "\u001b[31m✖\u001b[39m \u001b[34mlubridate\u001b[39m::\u001b[32mmonth()\u001b[39m    masks \u001b[34mdata.table\u001b[39m::month()\n",
      "\u001b[31m✖\u001b[39m \u001b[34mlubridate\u001b[39m::\u001b[32mquarter()\u001b[39m  masks \u001b[34mdata.table\u001b[39m::quarter()\n",
      "\u001b[31m✖\u001b[39m \u001b[34mlubridate\u001b[39m::\u001b[32msecond()\u001b[39m   masks \u001b[34mdata.table\u001b[39m::second()\n",
      "\u001b[31m✖\u001b[39m \u001b[34mpurrr\u001b[39m::\u001b[32mtranspose()\u001b[39m    masks \u001b[34mdata.table\u001b[39m::transpose()\n",
      "\u001b[31m✖\u001b[39m \u001b[34mlubridate\u001b[39m::\u001b[32mwday()\u001b[39m     masks \u001b[34mdata.table\u001b[39m::wday()\n",
      "\u001b[31m✖\u001b[39m \u001b[34mlubridate\u001b[39m::\u001b[32mweek()\u001b[39m     masks \u001b[34mdata.table\u001b[39m::week()\n",
      "\u001b[31m✖\u001b[39m \u001b[34mlubridate\u001b[39m::\u001b[32myday()\u001b[39m     masks \u001b[34mdata.table\u001b[39m::yday()\n",
      "\u001b[31m✖\u001b[39m \u001b[34mlubridate\u001b[39m::\u001b[32myear()\u001b[39m     masks \u001b[34mdata.table\u001b[39m::year()\n",
      "\u001b[36mℹ\u001b[39m Use the conflicted package (\u001b[3m\u001b[34m<http://conflicted.r-lib.org/>\u001b[39m\u001b[23m) to force all conflicts to become errors\n"
     ]
    }
   ],
   "source": [
    "require(dplyr)\n",
    "require(ggpubr)\n",
    "require(data.table)\n",
    "library(tidyverse)\n",
    "\n",
    "library(dplyr)\n",
    "library(broom)\n",
    "library(tidyr)\n",
    "library(purrr)\n",
    "options(warn = -1)"
   ]
  },
  {
   "cell_type": "markdown",
   "id": "9ad03c20-c37f-42d3-a6a5-2842bc8cbe5d",
   "metadata": {},
   "source": [
    "**Functions**"
   ]
  },
  {
   "cell_type": "code",
   "execution_count": 2,
   "id": "b0cc54cd-8d9a-49f5-b783-3d171624d3bb",
   "metadata": {
    "execution": {
     "iopub.execute_input": "2025-05-26T00:16:14.054214Z",
     "iopub.status.busy": "2025-05-26T00:16:14.031594Z",
     "iopub.status.idle": "2025-05-26T00:16:14.062645Z",
     "shell.execute_reply": "2025-05-26T00:16:14.061475Z"
    }
   },
   "outputs": [],
   "source": [
    "# Define a function to perform one-vs-all Wilcoxon tests for each Level2 within Level1\n",
    "compare_one_vs_all <- function(data) {\n",
    "  # List to store results\n",
    "  results <- list()\n",
    "  \n",
    "  # Loop over each Level1 category\n",
    "  unique_level1 <- unique(data$Level1)\n",
    "  for (level1 in unique_level1) {\n",
    "    # Filter data for the current Level1 category and remove rows where activity is NA\n",
    "    level1_data <- data %>%\n",
    "      filter(Level1 == level1, !is.na(activity))\n",
    "    \n",
    "    # Get unique combinations of Level2 and TF\n",
    "    combinations <- expand.grid(Level2 = unique(level1_data$Level2), TF = unique(level1_data$TF))\n",
    "    \n",
    "    # Perform one-vs-all comparisons for each combination\n",
    "    for (i in 1:nrow(combinations)) {\n",
    "      level2 <- combinations$Level2[i]\n",
    "      tf <- combinations$TF[i]\n",
    "      \n",
    "      # Filter data for the current Level2 and TF\n",
    "      one_data <- level1_data %>% filter(Level2 == level2, TF == tf)\n",
    "      all_data <- level1_data %>% filter(Level2 != level2, TF == tf)\n",
    "\n",
    "      mean_one <- mean(one_data$activity)\n",
    "      mean_all <- mean(all_data$activity)\n",
    "      \n",
    "      # Ensure there are at least two observations in each group\n",
    "      if (nrow(one_data) >= 3 && nrow(all_data) >= 3) {\n",
    "        # Perform Wilcoxon test (one-sided: greater)\n",
    "        test_result <- wilcox.test(one_data$activity, all_data$activity, alternative = \"two.sided\")\n",
    "        \n",
    "        # Clean up and store the result\n",
    "        tidy_result <- tidy(test_result)\n",
    "        tidy_result$Level1 <- level1\n",
    "        tidy_result$Level2 <- level2\n",
    "        tidy_result$TF <- tf\n",
    "        tidy_result$mean_one <- mean_one\n",
    "        tidy_result$mean_all <- mean_all\n",
    "        results[[paste(level1, level2, tf)]] <- tidy_result\n",
    "      }\n",
    "    }\n",
    "  }\n",
    "  \n",
    "  # Combine all results into a single data frame\n",
    "  final_results <- bind_rows(results, .id = \"comparison\")\n",
    "  return(final_results)\n",
    "}"
   ]
  },
  {
   "cell_type": "code",
   "execution_count": 3,
   "id": "66d27569-de1d-4b98-befc-9b1b6d09ba12",
   "metadata": {
    "execution": {
     "iopub.execute_input": "2025-05-26T00:16:14.070736Z",
     "iopub.status.busy": "2025-05-26T00:16:14.069827Z",
     "iopub.status.idle": "2025-05-26T00:16:14.084228Z",
     "shell.execute_reply": "2025-05-26T00:16:14.082879Z"
    }
   },
   "outputs": [],
   "source": [
    "library(dplyr)\n",
    "library(broom)\n",
    "compare_disease_within_level2 <- function(data) {\n",
    "  results <- list()\n",
    "  \n",
    "  for (level1 in unique(data$Level1)) {\n",
    "    level1_data <- data %>%\n",
    "      filter(Level1 == level1, !is.na(activity))\n",
    "    \n",
    "    combinations <- expand.grid(Level2 = unique(level1_data$Level2), TF = unique(level1_data$TF))\n",
    "    \n",
    "    for (i in 1:nrow(combinations)) {\n",
    "      level2 <- combinations$Level2[i]\n",
    "      tf <- combinations$TF[i]\n",
    "      \n",
    "      subset_data <- level1_data %>%\n",
    "        filter(Level2 == level2, TF == tf)\n",
    "      \n",
    "      for (disease in unique(subset_data$Disease)) {\n",
    "        one_group <- subset_data %>% filter(Disease == disease)\n",
    "        all_others <- subset_data %>% filter(Disease != disease)\n",
    "        \n",
    "        mean_one <- mean(one_group$activity, na.rm = TRUE)\n",
    "        mean_all <- mean(all_others$activity, na.rm = TRUE)\n",
    "        \n",
    "        if (nrow(one_group) >= 3 && nrow(all_others) >= 3) {\n",
    "          test_result <- wilcox.test(one_group$activity, all_others$activity, alternative = \"two.sided\")\n",
    "          \n",
    "          tidy_result <- tidy(test_result)\n",
    "          tidy_result$Level1 <- level1\n",
    "          tidy_result$Level2 <- level2\n",
    "          tidy_result$TF <- tf\n",
    "          tidy_result$Disease <- disease\n",
    "          tidy_result$mean_one <- mean_one\n",
    "          tidy_result$mean_all <- mean_all\n",
    "          \n",
    "          results[[paste(level1, level2, tf, disease, sep = \"_\")]] <- tidy_result\n",
    "        }\n",
    "      }\n",
    "    }\n",
    "  }\n",
    "  \n",
    "  final_results <- bind_rows(results, .id = \"comparison\")\n",
    "  return(final_results)\n",
    "}"
   ]
  },
  {
   "cell_type": "markdown",
   "id": "05e427a8-86c6-44a4-a1dd-79eff3d73e75",
   "metadata": {},
   "source": [
    "**Parameters**"
   ]
  },
  {
   "cell_type": "code",
   "execution_count": 4,
   "id": "c736adaf-ed33-484a-90bb-a37a08605aec",
   "metadata": {
    "execution": {
     "iopub.execute_input": "2025-05-26T00:16:14.086951Z",
     "iopub.status.busy": "2025-05-26T00:16:14.086000Z",
     "iopub.status.idle": "2025-05-26T00:16:14.108469Z",
     "shell.execute_reply": "2025-05-26T00:16:14.107187Z"
    }
   },
   "outputs": [],
   "source": [
    "# Inputs\n",
    "# Parameters\n",
    "diseases = c(\"SLE\", \"Cirrhosis\", \"Flu\", \"HNSCC\")\n",
    "workDir <- \"/scratch_isilon/groups/singlecell/shared/projects/Inflammation-PBMCs-Atlas/\"\n",
    "# --- Input \n",
    "task_dir = paste0(workDir, \"03_downstream_analysis/07_gene_regulatory_network/\")\n",
    "results_path <- paste0(task_dir, \"/results/\")\n",
    "data_folder <- paste0(results_path,'test_revision_20250402/TFactivity_level2/results/')\n",
    "\n",
    "# --- Output \n",
    "outputpath = paste0(data_folder,'figures/')\n",
    "\n",
    "# Palette\n",
    "color_palette_path <- paste0(task_dir,'data/colors_palette.R')\n",
    "source(color_palette_path)"
   ]
  },
  {
   "cell_type": "markdown",
   "id": "a5779a34-cfcc-4029-97af-b816a66d13e2",
   "metadata": {},
   "source": [
    "# Separate plots per disease"
   ]
  },
  {
   "cell_type": "code",
   "execution_count": 12,
   "id": "e1c9726f-e93e-4ec1-8a5c-47e3ca79c6f1",
   "metadata": {
    "execution": {
     "iopub.execute_input": "2025-05-21T16:48:00.525685Z",
     "iopub.status.busy": "2025-05-21T16:48:00.524520Z",
     "iopub.status.idle": "2025-05-21T16:48:08.999102Z",
     "shell.execute_reply": "2025-05-21T16:48:08.997171Z"
    }
   },
   "outputs": [],
   "source": [
    "for (disease in diseases) {\n",
    "  \n",
    "  # Read input\n",
    "  inputpath <- file.path(data_folder, paste0(\"STAT1_SP1_Level2_\", disease, \".csv\"))\n",
    "  level2 <- read.csv(inputpath, header = TRUE)\n",
    "\n",
    "  # Orders\n",
    "  tf_order <- c(\"STAT1\", \"SP1\")\n",
    "  l1_cell_type_order <- names(cell_colors)\n",
    "  l2_cell_type_order <- names(cell_level2_colors)\n",
    "\n",
    "  # Prepare data\n",
    "  toplot_level2_all <- level2 %>%\n",
    "    filter(!Level1 %in% c(\"Cycling_cells\", \"Progenitors\", \"Platelets\")) %>%\n",
    "    pivot_longer(cols = c(STAT1, SP1), names_to = \"TF\", values_to = \"activity\") %>%\n",
    "    mutate(\n",
    "      Level1 = factor(Level1, levels = l1_cell_type_order),\n",
    "      Level2 = factor(Level2, levels = l2_cell_type_order),\n",
    "      TF = factor(TF, levels = tf_order)\n",
    "    )\n",
    "\n",
    "  # Plot\n",
    "  plot_l2 <- ggboxplot(\n",
    "      toplot_level2_all,\n",
    "      x = \"Level2\", y = \"activity\", fill = \"Level2\"\n",
    "    ) +\n",
    "    facet_grid(rows = vars(TF), cols = vars(Level1), scales = \"free_x\") +\n",
    "    scale_fill_manual(values = cell_level2_colors) +\n",
    "    theme_bw() +\n",
    "    ggtitle(label = paste0(disease, \" TF activity (Level2)\")) +\n",
    "    theme(\n",
    "      axis.text.x = element_text(angle = 90, vjust = 0.5, hjust = 1),\n",
    "      strip.text = element_text(size = 8)\n",
    "    )\n",
    "\n",
    "  # Save\n",
    "  ggsave(\n",
    "    filename = paste0(disease, \"_TFactivity_level2.pdf\"),\n",
    "    plot = plot_l2,\n",
    "    device = \"pdf\",\n",
    "    width = 20,\n",
    "    height = 8,\n",
    "    path = outputpath\n",
    "  )\n",
    "}"
   ]
  },
  {
   "cell_type": "markdown",
   "id": "dbdedc8b-babf-49ba-919f-1d3f6d2edfba",
   "metadata": {},
   "source": [
    "# Mono - all diseases together"
   ]
  },
  {
   "cell_type": "code",
   "execution_count": 14,
   "id": "454ae8dd-cfb6-43b3-9651-e0949db9cc23",
   "metadata": {
    "execution": {
     "iopub.execute_input": "2025-05-21T16:48:23.896850Z",
     "iopub.status.busy": "2025-05-21T16:48:23.895603Z",
     "iopub.status.idle": "2025-05-21T16:48:24.610751Z",
     "shell.execute_reply": "2025-05-21T16:48:24.608766Z"
    }
   },
   "outputs": [],
   "source": [
    "library(dplyr)\n",
    "library(tidyr)\n",
    "library(ggpubr)\n",
    "library(ggplot2)\n",
    "\n",
    "# Initialize list to store per-disease data\n",
    "mono_dfs <- list()\n",
    "\n",
    "# Loop over diseases\n",
    "for (disease in diseases) {\n",
    "  \n",
    "  inputpath <- file.path(data_folder, paste0(\"STAT1_SP1_Level2_\", disease, \".csv\"))\n",
    "  level2 <- read.csv(inputpath, header = TRUE)\n",
    "\n",
    "  tf_order <- c(\"STAT1\", \"SP1\")\n",
    "  l1_cell_type_order <- names(cell_colors)\n",
    "  l2_cell_type_order <- names(cell_level2_colors)\n",
    "\n",
    "  toplot_level2_all <- level2 %>%\n",
    "    filter(!Level1 %in% c(\"Cycling_cells\", \"Progenitors\", \"Platelets\")) %>%\n",
    "    pivot_longer(cols = c(STAT1, SP1), names_to = \"TF\", values_to = \"activity\") %>%\n",
    "    mutate(\n",
    "      Level1 = factor(Level1, levels = l1_cell_type_order),\n",
    "      Level2 = factor(Level2, levels = l2_cell_type_order),\n",
    "      TF = factor(TF, levels = tf_order),\n",
    "      Disease = disease  # tag disease for later\n",
    "    )\n",
    "\n",
    "  # Subset to Mono\n",
    "  mono_dfs[[disease]] <- toplot_level2_all %>% filter(Level1 == \"Mono\")\n",
    "}\n",
    "\n",
    "# Combine all Mono rows\n",
    "mono_all_diseases <- bind_rows(mono_dfs)\n",
    "\n",
    "# Plot\n",
    "plot_l2 <- ggplot(mono_all_diseases, aes(x = Level2, y = activity, fill = Disease)) +\n",
    "  geom_boxplot(outlier.size = 0.5) +\n",
    "  facet_wrap(~TF, scales = \"free\") +\n",
    "  theme_bw() +\n",
    "  scale_fill_brewer(palette = \"Set2\") +\n",
    "  theme(\n",
    "    axis.text.x = element_text(angle = 90, hjust = 1),\n",
    "    strip.text = element_text(size = 10)\n",
    "  ) +\n",
    "  labs(title = \"TF Activity in Mono Cells by Level2 and Disease\")\n",
    "\n",
    "ggsave(\n",
    "    filename = paste0(\"Mono_TFactivity_level2.pdf\"),\n",
    "    plot = plot_l2,\n",
    "    device = \"pdf\",\n",
    "    width = 20,\n",
    "    height = 8,\n",
    "    path = outputpath\n",
    ")"
   ]
  },
  {
   "cell_type": "markdown",
   "id": "cf7c1511-d3f3-491e-b1ad-d9bf867c82f3",
   "metadata": {},
   "source": [
    "# p-vals comparisons"
   ]
  },
  {
   "cell_type": "markdown",
   "id": "2e8f4cbd-5e7b-4bc7-9cef-952b3f6772f1",
   "metadata": {},
   "source": [
    "**SLE and Flu**"
   ]
  },
  {
   "cell_type": "code",
   "execution_count": 10,
   "id": "15c4b8bd-c052-46fe-adf1-23899d2c7087",
   "metadata": {
    "execution": {
     "iopub.execute_input": "2025-05-22T13:46:44.295352Z",
     "iopub.status.busy": "2025-05-22T13:46:44.290160Z",
     "iopub.status.idle": "2025-05-22T13:46:44.865499Z",
     "shell.execute_reply": "2025-05-22T13:46:44.863970Z"
    }
   },
   "outputs": [],
   "source": [
    "for (disease in c(\"SLE\", \"Flu\")) {\n",
    "  # Read input\n",
    "  inputpath <- file.path(data_folder, paste0(\"STAT1_SP1_Level2_\", disease, \".csv\"))\n",
    "  level2 <- read.csv(inputpath, header = TRUE)\n",
    "\n",
    "  # Orders\n",
    "  tf_order <- c(\"STAT1\", \"SP1\")\n",
    "  l1_cell_type_order <- names(cell_colors)\n",
    "  l2_cell_type_order <- names(cell_level2_colors)\n",
    "\n",
    "  # Prepare data\n",
    "  toplot_level2_all <- level2 %>%\n",
    "    filter(!Level1 %in% c(\"Cycling_cells\", \"Progenitors\", \"Platelets\")) %>%\n",
    "    pivot_longer(cols = c(STAT1, SP1), names_to = \"TF\", values_to = \"activity\") %>%\n",
    "    mutate(\n",
    "      Level1 = factor(Level1, levels = l1_cell_type_order),\n",
    "      Level2 = factor(Level2, levels = l2_cell_type_order),\n",
    "      TF = factor(TF, levels = tf_order)\n",
    "    )\n",
    "  final_comparison_results <- compare_one_vs_all(toplot_level2_all)\n",
    "  final_comparison_results_adjusted <- final_comparison_results %>%\n",
    "  # Adjust p-values globally first\n",
    "  mutate(\n",
    "    pval_adj = p.adjust(p.value, method = \"BH\")\n",
    "  ) %>%\n",
    "  # Group by TFs to adjust p-values within each TF group\n",
    "  #group_by(TF) %>%\n",
    "  #mutate(\n",
    "  #  pval_adj_indep = p.adjust(p.value, method = \"BH\")\n",
    "  #) %>%\n",
    "  #ungroup() %>%\n",
    "  # Filter based on the unadjusted p-value\n",
    "  #filter(pval_adj < 0.05) %>%\n",
    "  # Arrange by p-value to see the most significant results first\n",
    "  arrange(Level1, TF, pval_adj)\n",
    "\n",
    "  tables_path <- paste0(outputpath, \"/supplementary_tables/\", disease, \"_Level2_pval.csv\")\n",
    "  write.csv(final_comparison_results_adjusted, tables_path, row.names = FALSE)\n",
    "\n",
    "}"
   ]
  },
  {
   "cell_type": "code",
   "execution_count": null,
   "id": "ee4e8c24-5af9-4867-b678-314191867fc3",
   "metadata": {},
   "outputs": [],
   "source": [
    "# Example usage with your data frame\n",
    "final_comparison_results <- compare_one_vs_all(toplot_level2)"
   ]
  },
  {
   "cell_type": "markdown",
   "id": "e1b95bb0-189a-4e4b-9c0b-7d397092ffee",
   "metadata": {},
   "source": [
    "**Within celltype across diseases**"
   ]
  },
  {
   "cell_type": "code",
   "execution_count": 6,
   "id": "4cc4ac64-8e54-4c4e-aa65-7516ed07b36f",
   "metadata": {
    "execution": {
     "iopub.execute_input": "2025-05-26T00:17:10.692239Z",
     "iopub.status.busy": "2025-05-26T00:17:10.691152Z",
     "iopub.status.idle": "2025-05-26T00:17:10.793515Z",
     "shell.execute_reply": "2025-05-26T00:17:10.792141Z"
    }
   },
   "outputs": [],
   "source": [
    "mono_dfs <- list()\n",
    "\n",
    "# Loop over diseases\n",
    "for (disease in diseases) {\n",
    "  \n",
    "  inputpath <- file.path(data_folder, paste0(\"STAT1_SP1_Level2_\", disease, \".csv\"))\n",
    "  level2 <- read.csv(inputpath, header = TRUE)\n",
    "\n",
    "  tf_order <- c(\"STAT1\", \"SP1\")\n",
    "  l1_cell_type_order <- names(cell_colors)\n",
    "  l2_cell_type_order <- names(cell_level2_colors)\n",
    "\n",
    "  toplot_level2_all <- level2 %>%\n",
    "    filter(!Level1 %in% c(\"Cycling_cells\", \"Progenitors\", \"Platelets\")) %>%\n",
    "    pivot_longer(cols = c(STAT1, SP1), names_to = \"TF\", values_to = \"activity\") %>%\n",
    "    mutate(\n",
    "      Level1 = factor(Level1, levels = l1_cell_type_order),\n",
    "      Level2 = factor(Level2, levels = l2_cell_type_order),\n",
    "      TF = factor(TF, levels = tf_order),\n",
    "      Disease = disease  # tag disease for later\n",
    "    )\n",
    "\n",
    "  # Subset to Mono\n",
    "  mono_dfs[[disease]] <- toplot_level2_all %>% filter(Level1 == \"Mono\")\n",
    "}\n",
    "\n",
    "# Combine all Mono rows\n",
    "mono_all_diseases <- bind_rows(mono_dfs)\n",
    "mono_all_diseases_sp1 <- mono_all_diseases[mono_all_diseases$TF == \"SP1\", ]"
   ]
  },
  {
   "cell_type": "code",
   "execution_count": 7,
   "id": "e4de1f91-cf8a-437b-a98e-5ca14109655e",
   "metadata": {
    "execution": {
     "iopub.execute_input": "2025-05-26T00:17:12.083179Z",
     "iopub.status.busy": "2025-05-26T00:17:12.082039Z",
     "iopub.status.idle": "2025-05-26T00:17:12.105002Z",
     "shell.execute_reply": "2025-05-26T00:17:12.103796Z"
    }
   },
   "outputs": [
    {
     "data": {
      "text/html": [
       "<table class=\"dataframe\">\n",
       "<caption>A tibble: 6 × 12</caption>\n",
       "<thead>\n",
       "\t<tr><th scope=col>Level2</th><th scope=col>level_0</th><th scope=col>level_1</th><th scope=col>Level1</th><th scope=col>studyID</th><th scope=col>sex</th><th scope=col>sampleID</th><th scope=col>disease</th><th scope=col>binned_age</th><th scope=col>TF</th><th scope=col>activity</th><th scope=col>Disease</th></tr>\n",
       "\t<tr><th scope=col>&lt;fct&gt;</th><th scope=col>&lt;chr&gt;</th><th scope=col>&lt;chr&gt;</th><th scope=col>&lt;fct&gt;</th><th scope=col>&lt;chr&gt;</th><th scope=col>&lt;chr&gt;</th><th scope=col>&lt;chr&gt;</th><th scope=col>&lt;chr&gt;</th><th scope=col>&lt;chr&gt;</th><th scope=col>&lt;fct&gt;</th><th scope=col>&lt;dbl&gt;</th><th scope=col>&lt;chr&gt;</th></tr>\n",
       "</thead>\n",
       "<tbody>\n",
       "\t<tr><td>Mono_IFNresponse</td><td>Mono</td><td>Perez2022_1004_T0_Mono_IFNresponse-3</td><td>Mono</td><td>Perez2022</td><td>female</td><td>Perez2022_1004_T0</td><td>SLE</td><td>31-40</td><td>SP1</td><td> 0.3311216</td><td>SLE</td></tr>\n",
       "\t<tr><td>Mono_IFNresponse</td><td>Mono</td><td>Perez2022_1014_T0_Mono_IFNresponse-3</td><td>Mono</td><td>Perez2022</td><td>female</td><td>Perez2022_1014_T0</td><td>SLE</td><td>31-40</td><td>SP1</td><td>-1.5119505</td><td>SLE</td></tr>\n",
       "\t<tr><td>Mono_IFNresponse</td><td>Mono</td><td>Perez2022_1015_T0_Mono_IFNresponse-3</td><td>Mono</td><td>Perez2022</td><td>female</td><td>Perez2022_1015_T0</td><td>SLE</td><td>51-60</td><td>SP1</td><td>-1.6591060</td><td>SLE</td></tr>\n",
       "\t<tr><td>Mono_IFNresponse</td><td>Mono</td><td>Perez2022_1019_T0_Mono_IFNresponse-3</td><td>Mono</td><td>Perez2022</td><td>female</td><td>Perez2022_1019_T0</td><td>SLE</td><td>61-70</td><td>SP1</td><td> 0.2892323</td><td>SLE</td></tr>\n",
       "\t<tr><td>Mono_IFNresponse</td><td>Mono</td><td>Perez2022_1046_T0_Mono_IFNresponse-3</td><td>Mono</td><td>Perez2022</td><td>female</td><td>Perez2022_1046_T0</td><td>SLE</td><td>51-60</td><td>SP1</td><td>-0.4458592</td><td>SLE</td></tr>\n",
       "\t<tr><td>Mono_IFNresponse</td><td>Mono</td><td>Perez2022_1051_T0_Mono_IFNresponse-3</td><td>Mono</td><td>Perez2022</td><td>male  </td><td>Perez2022_1051_T0</td><td>SLE</td><td>41-50</td><td>SP1</td><td>-0.4720872</td><td>SLE</td></tr>\n",
       "</tbody>\n",
       "</table>\n"
      ],
      "text/latex": [
       "A tibble: 6 × 12\n",
       "\\begin{tabular}{llllllllllll}\n",
       " Level2 & level\\_0 & level\\_1 & Level1 & studyID & sex & sampleID & disease & binned\\_age & TF & activity & Disease\\\\\n",
       " <fct> & <chr> & <chr> & <fct> & <chr> & <chr> & <chr> & <chr> & <chr> & <fct> & <dbl> & <chr>\\\\\n",
       "\\hline\n",
       "\t Mono\\_IFNresponse & Mono & Perez2022\\_1004\\_T0\\_Mono\\_IFNresponse-3 & Mono & Perez2022 & female & Perez2022\\_1004\\_T0 & SLE & 31-40 & SP1 &  0.3311216 & SLE\\\\\n",
       "\t Mono\\_IFNresponse & Mono & Perez2022\\_1014\\_T0\\_Mono\\_IFNresponse-3 & Mono & Perez2022 & female & Perez2022\\_1014\\_T0 & SLE & 31-40 & SP1 & -1.5119505 & SLE\\\\\n",
       "\t Mono\\_IFNresponse & Mono & Perez2022\\_1015\\_T0\\_Mono\\_IFNresponse-3 & Mono & Perez2022 & female & Perez2022\\_1015\\_T0 & SLE & 51-60 & SP1 & -1.6591060 & SLE\\\\\n",
       "\t Mono\\_IFNresponse & Mono & Perez2022\\_1019\\_T0\\_Mono\\_IFNresponse-3 & Mono & Perez2022 & female & Perez2022\\_1019\\_T0 & SLE & 61-70 & SP1 &  0.2892323 & SLE\\\\\n",
       "\t Mono\\_IFNresponse & Mono & Perez2022\\_1046\\_T0\\_Mono\\_IFNresponse-3 & Mono & Perez2022 & female & Perez2022\\_1046\\_T0 & SLE & 51-60 & SP1 & -0.4458592 & SLE\\\\\n",
       "\t Mono\\_IFNresponse & Mono & Perez2022\\_1051\\_T0\\_Mono\\_IFNresponse-3 & Mono & Perez2022 & male   & Perez2022\\_1051\\_T0 & SLE & 41-50 & SP1 & -0.4720872 & SLE\\\\\n",
       "\\end{tabular}\n"
      ],
      "text/markdown": [
       "\n",
       "A tibble: 6 × 12\n",
       "\n",
       "| Level2 &lt;fct&gt; | level_0 &lt;chr&gt; | level_1 &lt;chr&gt; | Level1 &lt;fct&gt; | studyID &lt;chr&gt; | sex &lt;chr&gt; | sampleID &lt;chr&gt; | disease &lt;chr&gt; | binned_age &lt;chr&gt; | TF &lt;fct&gt; | activity &lt;dbl&gt; | Disease &lt;chr&gt; |\n",
       "|---|---|---|---|---|---|---|---|---|---|---|---|\n",
       "| Mono_IFNresponse | Mono | Perez2022_1004_T0_Mono_IFNresponse-3 | Mono | Perez2022 | female | Perez2022_1004_T0 | SLE | 31-40 | SP1 |  0.3311216 | SLE |\n",
       "| Mono_IFNresponse | Mono | Perez2022_1014_T0_Mono_IFNresponse-3 | Mono | Perez2022 | female | Perez2022_1014_T0 | SLE | 31-40 | SP1 | -1.5119505 | SLE |\n",
       "| Mono_IFNresponse | Mono | Perez2022_1015_T0_Mono_IFNresponse-3 | Mono | Perez2022 | female | Perez2022_1015_T0 | SLE | 51-60 | SP1 | -1.6591060 | SLE |\n",
       "| Mono_IFNresponse | Mono | Perez2022_1019_T0_Mono_IFNresponse-3 | Mono | Perez2022 | female | Perez2022_1019_T0 | SLE | 61-70 | SP1 |  0.2892323 | SLE |\n",
       "| Mono_IFNresponse | Mono | Perez2022_1046_T0_Mono_IFNresponse-3 | Mono | Perez2022 | female | Perez2022_1046_T0 | SLE | 51-60 | SP1 | -0.4458592 | SLE |\n",
       "| Mono_IFNresponse | Mono | Perez2022_1051_T0_Mono_IFNresponse-3 | Mono | Perez2022 | male   | Perez2022_1051_T0 | SLE | 41-50 | SP1 | -0.4720872 | SLE |\n",
       "\n"
      ],
      "text/plain": [
       "  Level2           level_0 level_1                              Level1\n",
       "1 Mono_IFNresponse Mono    Perez2022_1004_T0_Mono_IFNresponse-3 Mono  \n",
       "2 Mono_IFNresponse Mono    Perez2022_1014_T0_Mono_IFNresponse-3 Mono  \n",
       "3 Mono_IFNresponse Mono    Perez2022_1015_T0_Mono_IFNresponse-3 Mono  \n",
       "4 Mono_IFNresponse Mono    Perez2022_1019_T0_Mono_IFNresponse-3 Mono  \n",
       "5 Mono_IFNresponse Mono    Perez2022_1046_T0_Mono_IFNresponse-3 Mono  \n",
       "6 Mono_IFNresponse Mono    Perez2022_1051_T0_Mono_IFNresponse-3 Mono  \n",
       "  studyID   sex    sampleID          disease binned_age TF  activity   Disease\n",
       "1 Perez2022 female Perez2022_1004_T0 SLE     31-40      SP1  0.3311216 SLE    \n",
       "2 Perez2022 female Perez2022_1014_T0 SLE     31-40      SP1 -1.5119505 SLE    \n",
       "3 Perez2022 female Perez2022_1015_T0 SLE     51-60      SP1 -1.6591060 SLE    \n",
       "4 Perez2022 female Perez2022_1019_T0 SLE     61-70      SP1  0.2892323 SLE    \n",
       "5 Perez2022 female Perez2022_1046_T0 SLE     51-60      SP1 -0.4458592 SLE    \n",
       "6 Perez2022 male   Perez2022_1051_T0 SLE     41-50      SP1 -0.4720872 SLE    "
      ]
     },
     "metadata": {},
     "output_type": "display_data"
    }
   ],
   "source": [
    "head(mono_all_diseases_sp1)"
   ]
  },
  {
   "cell_type": "code",
   "execution_count": 8,
   "id": "9de578c7-c317-40df-a815-0d2e10a072bf",
   "metadata": {
    "execution": {
     "iopub.execute_input": "2025-05-26T00:17:17.945821Z",
     "iopub.status.busy": "2025-05-26T00:17:17.944734Z",
     "iopub.status.idle": "2025-05-26T00:17:17.968403Z",
     "shell.execute_reply": "2025-05-26T00:17:17.967156Z"
    }
   },
   "outputs": [
    {
     "data": {
      "text/html": [
       "<table class=\"dataframe\">\n",
       "<caption>A data.frame: 5 × 2</caption>\n",
       "<thead>\n",
       "\t<tr><th scope=col>Level2</th><th scope=col>TF</th></tr>\n",
       "\t<tr><th scope=col>&lt;fct&gt;</th><th scope=col>&lt;fct&gt;</th></tr>\n",
       "</thead>\n",
       "<tbody>\n",
       "\t<tr><td>Mono_IFNresponse </td><td>SP1</td></tr>\n",
       "\t<tr><td>Mono_classical   </td><td>SP1</td></tr>\n",
       "\t<tr><td>Mono_inflammatory</td><td>SP1</td></tr>\n",
       "\t<tr><td>Mono_nonClassical</td><td>SP1</td></tr>\n",
       "\t<tr><td>Mono_regulatory  </td><td>SP1</td></tr>\n",
       "</tbody>\n",
       "</table>\n"
      ],
      "text/latex": [
       "A data.frame: 5 × 2\n",
       "\\begin{tabular}{ll}\n",
       " Level2 & TF\\\\\n",
       " <fct> & <fct>\\\\\n",
       "\\hline\n",
       "\t Mono\\_IFNresponse  & SP1\\\\\n",
       "\t Mono\\_classical    & SP1\\\\\n",
       "\t Mono\\_inflammatory & SP1\\\\\n",
       "\t Mono\\_nonClassical & SP1\\\\\n",
       "\t Mono\\_regulatory   & SP1\\\\\n",
       "\\end{tabular}\n"
      ],
      "text/markdown": [
       "\n",
       "A data.frame: 5 × 2\n",
       "\n",
       "| Level2 &lt;fct&gt; | TF &lt;fct&gt; |\n",
       "|---|---|\n",
       "| Mono_IFNresponse  | SP1 |\n",
       "| Mono_classical    | SP1 |\n",
       "| Mono_inflammatory | SP1 |\n",
       "| Mono_nonClassical | SP1 |\n",
       "| Mono_regulatory   | SP1 |\n",
       "\n"
      ],
      "text/plain": [
       "  Level2            TF \n",
       "1 Mono_IFNresponse  SP1\n",
       "2 Mono_classical    SP1\n",
       "3 Mono_inflammatory SP1\n",
       "4 Mono_nonClassical SP1\n",
       "5 Mono_regulatory   SP1"
      ]
     },
     "metadata": {},
     "output_type": "display_data"
    }
   ],
   "source": [
    "# List to store results\n",
    "results <- list()\n",
    "data <- mono_all_diseases_sp1\n",
    "combinations <- expand.grid(Level2 = unique(data$Level2), TF = unique(data$TF), disease = unique(data$Disease))\n",
    "combinations <- expand.grid(Level2 = unique(data$Level2), TF = unique(data$TF))\n",
    "combinations"
   ]
  },
  {
   "cell_type": "code",
   "execution_count": 9,
   "id": "0629ab1f-c665-42db-bafe-0204f682acaa",
   "metadata": {
    "execution": {
     "iopub.execute_input": "2025-05-26T00:17:24.202189Z",
     "iopub.status.busy": "2025-05-26T00:17:24.201092Z",
     "iopub.status.idle": "2025-05-26T00:17:24.219658Z",
     "shell.execute_reply": "2025-05-26T00:17:24.218459Z"
    }
   },
   "outputs": [
    {
     "data": {
      "text/html": [
       "'SLE'"
      ],
      "text/latex": [
       "'SLE'"
      ],
      "text/markdown": [
       "'SLE'"
      ],
      "text/plain": [
       "[1] \"SLE\""
      ]
     },
     "metadata": {},
     "output_type": "display_data"
    }
   ],
   "source": [
    "i = 1\n",
    "level2 <- combinations$Level2[i]\n",
    "tf <- combinations$TF[i]\n",
    "sel_disease <- \"SLE\"\n",
    "one_data <- data %>% filter(Level2 == level2, \n",
    "                            TF == tf, \n",
    "                            disease == sel_disease)\n",
    "unique(one_data$disease)"
   ]
  },
  {
   "cell_type": "code",
   "execution_count": 10,
   "id": "6fbbbd1e-71cf-444e-8ede-f5e1397dd23e",
   "metadata": {
    "execution": {
     "iopub.execute_input": "2025-05-26T00:17:33.938873Z",
     "iopub.status.busy": "2025-05-26T00:17:33.937782Z",
     "iopub.status.idle": "2025-05-26T00:17:34.091063Z",
     "shell.execute_reply": "2025-05-26T00:17:34.089697Z"
    }
   },
   "outputs": [],
   "source": [
    "for (i in 1:nrow(combinations)) {\n",
    "  level2 <- combinations$Level2[i]\n",
    "  tf <- combinations$TF[i]\n",
    "  level1 <- \"Mono\"\n",
    "  \n",
    "  # Filter data for the current Level2 and TF\n",
    "  for (sel_disease in unique(data$Disease)) {\n",
    "      one_data <- data %>% filter(Level2 == level2, TF == tf, disease == sel_disease)\n",
    "      all_data <- data %>% filter(Level2 == level2, TF == tf, disease != sel_disease)\n",
    "\n",
    "      mean_one <- mean(one_data$activity)\n",
    "      mean_all <- mean(all_data$activity)\n",
    "\n",
    "      # Ensure there are at least two observations in each group\n",
    "      if (nrow(one_data) >= 3 && nrow(all_data) >= 3) {\n",
    "        # Perform Wilcoxon test (one-sided: greater)\n",
    "        test_result <- wilcox.test(one_data$activity, all_data$activity, alternative = \"two.sided\")\n",
    "        \n",
    "        # Clean up and store the result\n",
    "        tidy_result <- tidy(test_result)\n",
    "        tidy_result$Level1 <- level1\n",
    "        tidy_result$Level2 <- level2\n",
    "        tidy_result$Disease <- sel_disease\n",
    "        tidy_result$TF <- tf\n",
    "        tidy_result$mean_one <- mean_one\n",
    "        tidy_result$mean_all <- mean_all\n",
    "        results[[paste(level1, level2, tf, sel_disease)]] <- tidy_result\n",
    "      }\n",
    "  }\n",
    "}"
   ]
  },
  {
   "cell_type": "code",
   "execution_count": 11,
   "id": "54e45261-ed65-441d-a863-49b9aeafbe21",
   "metadata": {
    "execution": {
     "iopub.execute_input": "2025-05-26T00:17:37.365906Z",
     "iopub.status.busy": "2025-05-26T00:17:37.364815Z",
     "iopub.status.idle": "2025-05-26T00:17:37.399241Z",
     "shell.execute_reply": "2025-05-26T00:17:37.398029Z"
    }
   },
   "outputs": [
    {
     "data": {
      "text/html": [
       "<table class=\"dataframe\">\n",
       "<caption>A tibble: 19 × 11</caption>\n",
       "<thead>\n",
       "\t<tr><th scope=col>comparison</th><th scope=col>statistic</th><th scope=col>p.value</th><th scope=col>method</th><th scope=col>alternative</th><th scope=col>Level1</th><th scope=col>Level2</th><th scope=col>Disease</th><th scope=col>TF</th><th scope=col>mean_one</th><th scope=col>mean_all</th></tr>\n",
       "\t<tr><th scope=col>&lt;chr&gt;</th><th scope=col>&lt;dbl&gt;</th><th scope=col>&lt;dbl&gt;</th><th scope=col>&lt;chr&gt;</th><th scope=col>&lt;chr&gt;</th><th scope=col>&lt;chr&gt;</th><th scope=col>&lt;fct&gt;</th><th scope=col>&lt;chr&gt;</th><th scope=col>&lt;fct&gt;</th><th scope=col>&lt;dbl&gt;</th><th scope=col>&lt;dbl&gt;</th></tr>\n",
       "</thead>\n",
       "<tbody>\n",
       "\t<tr><td>Mono Mono_IFNresponse SP1 SLE       </td><td>1920</td><td>3.183529e-02</td><td>Wilcoxon rank sum test with continuity correction</td><td>two.sided</td><td>Mono</td><td>Mono_IFNresponse </td><td>SLE      </td><td>SP1</td><td>-1.03507372</td><td>-0.71736185</td></tr>\n",
       "\t<tr><td>Mono Mono_IFNresponse SP1 Cirrhosis </td><td>1086</td><td>2.858592e-03</td><td>Wilcoxon rank sum test with continuity correction</td><td>two.sided</td><td>Mono</td><td>Mono_IFNresponse </td><td>Cirrhosis</td><td>SP1</td><td>-0.10472738</td><td>-1.01115242</td></tr>\n",
       "\t<tr><td>Mono Mono_IFNresponse SP1 Flu       </td><td> 379</td><td>3.930354e-02</td><td>Wilcoxon rank sum test with continuity correction</td><td>two.sided</td><td>Mono</td><td>Mono_IFNresponse </td><td>Flu      </td><td>SP1</td><td>-1.65480322</td><td>-0.93689729</td></tr>\n",
       "\t<tr><td>Mono Mono_IFNresponse SP1 HNSCC     </td><td>2003</td><td>3.382681e-02</td><td>Wilcoxon rank sum test with continuity correction</td><td>two.sided</td><td>Mono</td><td>Mono_IFNresponse </td><td>HNSCC    </td><td>SP1</td><td>-0.58743910</td><td>-1.01904188</td></tr>\n",
       "\t<tr><td>Mono Mono_classical SP1 SLE         </td><td>2204</td><td>5.143995e-02</td><td>Wilcoxon rank sum test with continuity correction</td><td>two.sided</td><td>Mono</td><td>Mono_classical   </td><td>SLE      </td><td>SP1</td><td>-0.18994491</td><td> 0.12157425</td></tr>\n",
       "\t<tr><td>Mono Mono_classical SP1 Cirrhosis   </td><td>1040</td><td>1.646189e-02</td><td>Wilcoxon rank sum test with continuity correction</td><td>two.sided</td><td>Mono</td><td>Mono_classical   </td><td>Cirrhosis</td><td>SP1</td><td> 0.76706407</td><td>-0.16397280</td></tr>\n",
       "\t<tr><td>Mono Mono_classical SP1 Flu         </td><td> 641</td><td>1.849295e-01</td><td>Wilcoxon rank sum test with continuity correction</td><td>two.sided</td><td>Mono</td><td>Mono_classical   </td><td>Flu      </td><td>SP1</td><td>-0.70612975</td><td>-0.08871043</td></tr>\n",
       "\t<tr><td>Mono Mono_classical SP1 HNSCC       </td><td>2111</td><td>5.651618e-02</td><td>Wilcoxon rank sum test with continuity correction</td><td>two.sided</td><td>Mono</td><td>Mono_classical   </td><td>HNSCC    </td><td>SP1</td><td> 0.26981813</td><td>-0.17435601</td></tr>\n",
       "\t<tr><td>Mono Mono_inflammatory SP1 SLE      </td><td>1379</td><td>1.102420e-02</td><td>Wilcoxon rank sum test with continuity correction</td><td>two.sided</td><td>Mono</td><td>Mono_inflammatory</td><td>SLE      </td><td>SP1</td><td> 0.02458958</td><td> 0.59241248</td></tr>\n",
       "\t<tr><td>Mono Mono_inflammatory SP1 Cirrhosis</td><td> 900</td><td>2.531521e-02</td><td>Wilcoxon rank sum test with continuity correction</td><td>two.sided</td><td>Mono</td><td>Mono_inflammatory</td><td>Cirrhosis</td><td>SP1</td><td> 1.07772825</td><td> 0.08086133</td></tr>\n",
       "\t<tr><td>Mono Mono_inflammatory SP1 HNSCC    </td><td>1764</td><td>7.002502e-02</td><td>Wilcoxon rank sum test with continuity correction</td><td>two.sided</td><td>Mono</td><td>Mono_inflammatory</td><td>HNSCC    </td><td>SP1</td><td> 0.53114772</td><td> 0.07355075</td></tr>\n",
       "\t<tr><td>Mono Mono_nonClassical SP1 SLE      </td><td>1282</td><td>2.648907e-05</td><td>Wilcoxon rank sum test with continuity correction</td><td>two.sided</td><td>Mono</td><td>Mono_nonClassical</td><td>SLE      </td><td>SP1</td><td>-1.33527118</td><td>-0.53157489</td></tr>\n",
       "\t<tr><td>Mono Mono_nonClassical SP1 Cirrhosis</td><td> 977</td><td>1.761699e-02</td><td>Wilcoxon rank sum test with continuity correction</td><td>two.sided</td><td>Mono</td><td>Mono_nonClassical</td><td>Cirrhosis</td><td>SP1</td><td>-0.38076315</td><td>-1.20954538</td></tr>\n",
       "\t<tr><td>Mono Mono_nonClassical SP1 Flu      </td><td> 524</td><td>6.995800e-01</td><td>Wilcoxon rank sum test with continuity correction</td><td>two.sided</td><td>Mono</td><td>Mono_nonClassical</td><td>Flu      </td><td>SP1</td><td>-1.26993596</td><td>-1.16653933</td></tr>\n",
       "\t<tr><td>Mono Mono_nonClassical SP1 HNSCC    </td><td>2333</td><td>7.708345e-05</td><td>Wilcoxon rank sum test with continuity correction</td><td>two.sided</td><td>Mono</td><td>Mono_nonClassical</td><td>HNSCC    </td><td>SP1</td><td>-0.33347321</td><td>-1.28167243</td></tr>\n",
       "\t<tr><td>Mono Mono_regulatory SP1 SLE        </td><td>1270</td><td>7.649526e-01</td><td>Wilcoxon rank sum test with continuity correction</td><td>two.sided</td><td>Mono</td><td>Mono_regulatory  </td><td>SLE      </td><td>SP1</td><td> 0.49932415</td><td> 0.36496911</td></tr>\n",
       "\t<tr><td>Mono Mono_regulatory SP1 Cirrhosis  </td><td> 505</td><td>2.666814e-01</td><td>Wilcoxon rank sum test with continuity correction</td><td>two.sided</td><td>Mono</td><td>Mono_regulatory  </td><td>Cirrhosis</td><td>SP1</td><td> 0.76051957</td><td> 0.43800484</td></tr>\n",
       "\t<tr><td>Mono Mono_regulatory SP1 Flu        </td><td> 152</td><td>8.832791e-01</td><td>Wilcoxon rank sum test with continuity correction</td><td>two.sided</td><td>Mono</td><td>Mono_regulatory  </td><td>Flu      </td><td>SP1</td><td> 0.18519895</td><td> 0.46920611</td></tr>\n",
       "\t<tr><td>Mono Mono_regulatory SP1 HNSCC      </td><td> 766</td><td>3.008539e-01</td><td>Wilcoxon rank sum test with continuity correction</td><td>two.sided</td><td>Mono</td><td>Mono_regulatory  </td><td>HNSCC    </td><td>SP1</td><td> 0.23371445</td><td> 0.51207068</td></tr>\n",
       "</tbody>\n",
       "</table>\n"
      ],
      "text/latex": [
       "A tibble: 19 × 11\n",
       "\\begin{tabular}{lllllllllll}\n",
       " comparison & statistic & p.value & method & alternative & Level1 & Level2 & Disease & TF & mean\\_one & mean\\_all\\\\\n",
       " <chr> & <dbl> & <dbl> & <chr> & <chr> & <chr> & <fct> & <chr> & <fct> & <dbl> & <dbl>\\\\\n",
       "\\hline\n",
       "\t Mono Mono\\_IFNresponse SP1 SLE        & 1920 & 3.183529e-02 & Wilcoxon rank sum test with continuity correction & two.sided & Mono & Mono\\_IFNresponse  & SLE       & SP1 & -1.03507372 & -0.71736185\\\\\n",
       "\t Mono Mono\\_IFNresponse SP1 Cirrhosis  & 1086 & 2.858592e-03 & Wilcoxon rank sum test with continuity correction & two.sided & Mono & Mono\\_IFNresponse  & Cirrhosis & SP1 & -0.10472738 & -1.01115242\\\\\n",
       "\t Mono Mono\\_IFNresponse SP1 Flu        &  379 & 3.930354e-02 & Wilcoxon rank sum test with continuity correction & two.sided & Mono & Mono\\_IFNresponse  & Flu       & SP1 & -1.65480322 & -0.93689729\\\\\n",
       "\t Mono Mono\\_IFNresponse SP1 HNSCC      & 2003 & 3.382681e-02 & Wilcoxon rank sum test with continuity correction & two.sided & Mono & Mono\\_IFNresponse  & HNSCC     & SP1 & -0.58743910 & -1.01904188\\\\\n",
       "\t Mono Mono\\_classical SP1 SLE          & 2204 & 5.143995e-02 & Wilcoxon rank sum test with continuity correction & two.sided & Mono & Mono\\_classical    & SLE       & SP1 & -0.18994491 &  0.12157425\\\\\n",
       "\t Mono Mono\\_classical SP1 Cirrhosis    & 1040 & 1.646189e-02 & Wilcoxon rank sum test with continuity correction & two.sided & Mono & Mono\\_classical    & Cirrhosis & SP1 &  0.76706407 & -0.16397280\\\\\n",
       "\t Mono Mono\\_classical SP1 Flu          &  641 & 1.849295e-01 & Wilcoxon rank sum test with continuity correction & two.sided & Mono & Mono\\_classical    & Flu       & SP1 & -0.70612975 & -0.08871043\\\\\n",
       "\t Mono Mono\\_classical SP1 HNSCC        & 2111 & 5.651618e-02 & Wilcoxon rank sum test with continuity correction & two.sided & Mono & Mono\\_classical    & HNSCC     & SP1 &  0.26981813 & -0.17435601\\\\\n",
       "\t Mono Mono\\_inflammatory SP1 SLE       & 1379 & 1.102420e-02 & Wilcoxon rank sum test with continuity correction & two.sided & Mono & Mono\\_inflammatory & SLE       & SP1 &  0.02458958 &  0.59241248\\\\\n",
       "\t Mono Mono\\_inflammatory SP1 Cirrhosis &  900 & 2.531521e-02 & Wilcoxon rank sum test with continuity correction & two.sided & Mono & Mono\\_inflammatory & Cirrhosis & SP1 &  1.07772825 &  0.08086133\\\\\n",
       "\t Mono Mono\\_inflammatory SP1 HNSCC     & 1764 & 7.002502e-02 & Wilcoxon rank sum test with continuity correction & two.sided & Mono & Mono\\_inflammatory & HNSCC     & SP1 &  0.53114772 &  0.07355075\\\\\n",
       "\t Mono Mono\\_nonClassical SP1 SLE       & 1282 & 2.648907e-05 & Wilcoxon rank sum test with continuity correction & two.sided & Mono & Mono\\_nonClassical & SLE       & SP1 & -1.33527118 & -0.53157489\\\\\n",
       "\t Mono Mono\\_nonClassical SP1 Cirrhosis &  977 & 1.761699e-02 & Wilcoxon rank sum test with continuity correction & two.sided & Mono & Mono\\_nonClassical & Cirrhosis & SP1 & -0.38076315 & -1.20954538\\\\\n",
       "\t Mono Mono\\_nonClassical SP1 Flu       &  524 & 6.995800e-01 & Wilcoxon rank sum test with continuity correction & two.sided & Mono & Mono\\_nonClassical & Flu       & SP1 & -1.26993596 & -1.16653933\\\\\n",
       "\t Mono Mono\\_nonClassical SP1 HNSCC     & 2333 & 7.708345e-05 & Wilcoxon rank sum test with continuity correction & two.sided & Mono & Mono\\_nonClassical & HNSCC     & SP1 & -0.33347321 & -1.28167243\\\\\n",
       "\t Mono Mono\\_regulatory SP1 SLE         & 1270 & 7.649526e-01 & Wilcoxon rank sum test with continuity correction & two.sided & Mono & Mono\\_regulatory   & SLE       & SP1 &  0.49932415 &  0.36496911\\\\\n",
       "\t Mono Mono\\_regulatory SP1 Cirrhosis   &  505 & 2.666814e-01 & Wilcoxon rank sum test with continuity correction & two.sided & Mono & Mono\\_regulatory   & Cirrhosis & SP1 &  0.76051957 &  0.43800484\\\\\n",
       "\t Mono Mono\\_regulatory SP1 Flu         &  152 & 8.832791e-01 & Wilcoxon rank sum test with continuity correction & two.sided & Mono & Mono\\_regulatory   & Flu       & SP1 &  0.18519895 &  0.46920611\\\\\n",
       "\t Mono Mono\\_regulatory SP1 HNSCC       &  766 & 3.008539e-01 & Wilcoxon rank sum test with continuity correction & two.sided & Mono & Mono\\_regulatory   & HNSCC     & SP1 &  0.23371445 &  0.51207068\\\\\n",
       "\\end{tabular}\n"
      ],
      "text/markdown": [
       "\n",
       "A tibble: 19 × 11\n",
       "\n",
       "| comparison &lt;chr&gt; | statistic &lt;dbl&gt; | p.value &lt;dbl&gt; | method &lt;chr&gt; | alternative &lt;chr&gt; | Level1 &lt;chr&gt; | Level2 &lt;fct&gt; | Disease &lt;chr&gt; | TF &lt;fct&gt; | mean_one &lt;dbl&gt; | mean_all &lt;dbl&gt; |\n",
       "|---|---|---|---|---|---|---|---|---|---|---|\n",
       "| Mono Mono_IFNresponse SP1 SLE        | 1920 | 3.183529e-02 | Wilcoxon rank sum test with continuity correction | two.sided | Mono | Mono_IFNresponse  | SLE       | SP1 | -1.03507372 | -0.71736185 |\n",
       "| Mono Mono_IFNresponse SP1 Cirrhosis  | 1086 | 2.858592e-03 | Wilcoxon rank sum test with continuity correction | two.sided | Mono | Mono_IFNresponse  | Cirrhosis | SP1 | -0.10472738 | -1.01115242 |\n",
       "| Mono Mono_IFNresponse SP1 Flu        |  379 | 3.930354e-02 | Wilcoxon rank sum test with continuity correction | two.sided | Mono | Mono_IFNresponse  | Flu       | SP1 | -1.65480322 | -0.93689729 |\n",
       "| Mono Mono_IFNresponse SP1 HNSCC      | 2003 | 3.382681e-02 | Wilcoxon rank sum test with continuity correction | two.sided | Mono | Mono_IFNresponse  | HNSCC     | SP1 | -0.58743910 | -1.01904188 |\n",
       "| Mono Mono_classical SP1 SLE          | 2204 | 5.143995e-02 | Wilcoxon rank sum test with continuity correction | two.sided | Mono | Mono_classical    | SLE       | SP1 | -0.18994491 |  0.12157425 |\n",
       "| Mono Mono_classical SP1 Cirrhosis    | 1040 | 1.646189e-02 | Wilcoxon rank sum test with continuity correction | two.sided | Mono | Mono_classical    | Cirrhosis | SP1 |  0.76706407 | -0.16397280 |\n",
       "| Mono Mono_classical SP1 Flu          |  641 | 1.849295e-01 | Wilcoxon rank sum test with continuity correction | two.sided | Mono | Mono_classical    | Flu       | SP1 | -0.70612975 | -0.08871043 |\n",
       "| Mono Mono_classical SP1 HNSCC        | 2111 | 5.651618e-02 | Wilcoxon rank sum test with continuity correction | two.sided | Mono | Mono_classical    | HNSCC     | SP1 |  0.26981813 | -0.17435601 |\n",
       "| Mono Mono_inflammatory SP1 SLE       | 1379 | 1.102420e-02 | Wilcoxon rank sum test with continuity correction | two.sided | Mono | Mono_inflammatory | SLE       | SP1 |  0.02458958 |  0.59241248 |\n",
       "| Mono Mono_inflammatory SP1 Cirrhosis |  900 | 2.531521e-02 | Wilcoxon rank sum test with continuity correction | two.sided | Mono | Mono_inflammatory | Cirrhosis | SP1 |  1.07772825 |  0.08086133 |\n",
       "| Mono Mono_inflammatory SP1 HNSCC     | 1764 | 7.002502e-02 | Wilcoxon rank sum test with continuity correction | two.sided | Mono | Mono_inflammatory | HNSCC     | SP1 |  0.53114772 |  0.07355075 |\n",
       "| Mono Mono_nonClassical SP1 SLE       | 1282 | 2.648907e-05 | Wilcoxon rank sum test with continuity correction | two.sided | Mono | Mono_nonClassical | SLE       | SP1 | -1.33527118 | -0.53157489 |\n",
       "| Mono Mono_nonClassical SP1 Cirrhosis |  977 | 1.761699e-02 | Wilcoxon rank sum test with continuity correction | two.sided | Mono | Mono_nonClassical | Cirrhosis | SP1 | -0.38076315 | -1.20954538 |\n",
       "| Mono Mono_nonClassical SP1 Flu       |  524 | 6.995800e-01 | Wilcoxon rank sum test with continuity correction | two.sided | Mono | Mono_nonClassical | Flu       | SP1 | -1.26993596 | -1.16653933 |\n",
       "| Mono Mono_nonClassical SP1 HNSCC     | 2333 | 7.708345e-05 | Wilcoxon rank sum test with continuity correction | two.sided | Mono | Mono_nonClassical | HNSCC     | SP1 | -0.33347321 | -1.28167243 |\n",
       "| Mono Mono_regulatory SP1 SLE         | 1270 | 7.649526e-01 | Wilcoxon rank sum test with continuity correction | two.sided | Mono | Mono_regulatory   | SLE       | SP1 |  0.49932415 |  0.36496911 |\n",
       "| Mono Mono_regulatory SP1 Cirrhosis   |  505 | 2.666814e-01 | Wilcoxon rank sum test with continuity correction | two.sided | Mono | Mono_regulatory   | Cirrhosis | SP1 |  0.76051957 |  0.43800484 |\n",
       "| Mono Mono_regulatory SP1 Flu         |  152 | 8.832791e-01 | Wilcoxon rank sum test with continuity correction | two.sided | Mono | Mono_regulatory   | Flu       | SP1 |  0.18519895 |  0.46920611 |\n",
       "| Mono Mono_regulatory SP1 HNSCC       |  766 | 3.008539e-01 | Wilcoxon rank sum test with continuity correction | two.sided | Mono | Mono_regulatory   | HNSCC     | SP1 |  0.23371445 |  0.51207068 |\n",
       "\n"
      ],
      "text/plain": [
       "   comparison                           statistic p.value     \n",
       "1  Mono Mono_IFNresponse SP1 SLE        1920      3.183529e-02\n",
       "2  Mono Mono_IFNresponse SP1 Cirrhosis  1086      2.858592e-03\n",
       "3  Mono Mono_IFNresponse SP1 Flu         379      3.930354e-02\n",
       "4  Mono Mono_IFNresponse SP1 HNSCC      2003      3.382681e-02\n",
       "5  Mono Mono_classical SP1 SLE          2204      5.143995e-02\n",
       "6  Mono Mono_classical SP1 Cirrhosis    1040      1.646189e-02\n",
       "7  Mono Mono_classical SP1 Flu           641      1.849295e-01\n",
       "8  Mono Mono_classical SP1 HNSCC        2111      5.651618e-02\n",
       "9  Mono Mono_inflammatory SP1 SLE       1379      1.102420e-02\n",
       "10 Mono Mono_inflammatory SP1 Cirrhosis  900      2.531521e-02\n",
       "11 Mono Mono_inflammatory SP1 HNSCC     1764      7.002502e-02\n",
       "12 Mono Mono_nonClassical SP1 SLE       1282      2.648907e-05\n",
       "13 Mono Mono_nonClassical SP1 Cirrhosis  977      1.761699e-02\n",
       "14 Mono Mono_nonClassical SP1 Flu        524      6.995800e-01\n",
       "15 Mono Mono_nonClassical SP1 HNSCC     2333      7.708345e-05\n",
       "16 Mono Mono_regulatory SP1 SLE         1270      7.649526e-01\n",
       "17 Mono Mono_regulatory SP1 Cirrhosis    505      2.666814e-01\n",
       "18 Mono Mono_regulatory SP1 Flu          152      8.832791e-01\n",
       "19 Mono Mono_regulatory SP1 HNSCC        766      3.008539e-01\n",
       "   method                                            alternative Level1\n",
       "1  Wilcoxon rank sum test with continuity correction two.sided   Mono  \n",
       "2  Wilcoxon rank sum test with continuity correction two.sided   Mono  \n",
       "3  Wilcoxon rank sum test with continuity correction two.sided   Mono  \n",
       "4  Wilcoxon rank sum test with continuity correction two.sided   Mono  \n",
       "5  Wilcoxon rank sum test with continuity correction two.sided   Mono  \n",
       "6  Wilcoxon rank sum test with continuity correction two.sided   Mono  \n",
       "7  Wilcoxon rank sum test with continuity correction two.sided   Mono  \n",
       "8  Wilcoxon rank sum test with continuity correction two.sided   Mono  \n",
       "9  Wilcoxon rank sum test with continuity correction two.sided   Mono  \n",
       "10 Wilcoxon rank sum test with continuity correction two.sided   Mono  \n",
       "11 Wilcoxon rank sum test with continuity correction two.sided   Mono  \n",
       "12 Wilcoxon rank sum test with continuity correction two.sided   Mono  \n",
       "13 Wilcoxon rank sum test with continuity correction two.sided   Mono  \n",
       "14 Wilcoxon rank sum test with continuity correction two.sided   Mono  \n",
       "15 Wilcoxon rank sum test with continuity correction two.sided   Mono  \n",
       "16 Wilcoxon rank sum test with continuity correction two.sided   Mono  \n",
       "17 Wilcoxon rank sum test with continuity correction two.sided   Mono  \n",
       "18 Wilcoxon rank sum test with continuity correction two.sided   Mono  \n",
       "19 Wilcoxon rank sum test with continuity correction two.sided   Mono  \n",
       "   Level2            Disease   TF  mean_one    mean_all   \n",
       "1  Mono_IFNresponse  SLE       SP1 -1.03507372 -0.71736185\n",
       "2  Mono_IFNresponse  Cirrhosis SP1 -0.10472738 -1.01115242\n",
       "3  Mono_IFNresponse  Flu       SP1 -1.65480322 -0.93689729\n",
       "4  Mono_IFNresponse  HNSCC     SP1 -0.58743910 -1.01904188\n",
       "5  Mono_classical    SLE       SP1 -0.18994491  0.12157425\n",
       "6  Mono_classical    Cirrhosis SP1  0.76706407 -0.16397280\n",
       "7  Mono_classical    Flu       SP1 -0.70612975 -0.08871043\n",
       "8  Mono_classical    HNSCC     SP1  0.26981813 -0.17435601\n",
       "9  Mono_inflammatory SLE       SP1  0.02458958  0.59241248\n",
       "10 Mono_inflammatory Cirrhosis SP1  1.07772825  0.08086133\n",
       "11 Mono_inflammatory HNSCC     SP1  0.53114772  0.07355075\n",
       "12 Mono_nonClassical SLE       SP1 -1.33527118 -0.53157489\n",
       "13 Mono_nonClassical Cirrhosis SP1 -0.38076315 -1.20954538\n",
       "14 Mono_nonClassical Flu       SP1 -1.26993596 -1.16653933\n",
       "15 Mono_nonClassical HNSCC     SP1 -0.33347321 -1.28167243\n",
       "16 Mono_regulatory   SLE       SP1  0.49932415  0.36496911\n",
       "17 Mono_regulatory   Cirrhosis SP1  0.76051957  0.43800484\n",
       "18 Mono_regulatory   Flu       SP1  0.18519895  0.46920611\n",
       "19 Mono_regulatory   HNSCC     SP1  0.23371445  0.51207068"
      ]
     },
     "metadata": {},
     "output_type": "display_data"
    }
   ],
   "source": [
    "final_results <- bind_rows(results, .id = \"comparison\")\n",
    "final_results"
   ]
  },
  {
   "cell_type": "code",
   "execution_count": 12,
   "id": "a6723ec3-284f-45be-b900-30353a540f2c",
   "metadata": {
    "execution": {
     "iopub.execute_input": "2025-05-26T00:17:42.720522Z",
     "iopub.status.busy": "2025-05-26T00:17:42.719441Z",
     "iopub.status.idle": "2025-05-26T00:17:42.760682Z",
     "shell.execute_reply": "2025-05-26T00:17:42.759447Z"
    }
   },
   "outputs": [
    {
     "data": {
      "text/html": [
       "<table class=\"dataframe\">\n",
       "<caption>A tibble: 19 × 12</caption>\n",
       "<thead>\n",
       "\t<tr><th scope=col>comparison</th><th scope=col>statistic</th><th scope=col>p.value</th><th scope=col>method</th><th scope=col>alternative</th><th scope=col>Level1</th><th scope=col>Level2</th><th scope=col>Disease</th><th scope=col>TF</th><th scope=col>mean_one</th><th scope=col>mean_all</th><th scope=col>pval_adj</th></tr>\n",
       "\t<tr><th scope=col>&lt;chr&gt;</th><th scope=col>&lt;dbl&gt;</th><th scope=col>&lt;dbl&gt;</th><th scope=col>&lt;chr&gt;</th><th scope=col>&lt;chr&gt;</th><th scope=col>&lt;chr&gt;</th><th scope=col>&lt;fct&gt;</th><th scope=col>&lt;chr&gt;</th><th scope=col>&lt;fct&gt;</th><th scope=col>&lt;dbl&gt;</th><th scope=col>&lt;dbl&gt;</th><th scope=col>&lt;dbl&gt;</th></tr>\n",
       "</thead>\n",
       "<tbody>\n",
       "\t<tr><td>Mono Mono_classical SP1 Cirrhosis   </td><td>1040</td><td>1.646189e-02</td><td>Wilcoxon rank sum test with continuity correction</td><td>two.sided</td><td>Mono</td><td>Mono_classical   </td><td>Cirrhosis</td><td>SP1</td><td> 0.76706407</td><td>-0.16397280</td><td>0.0557871204</td></tr>\n",
       "\t<tr><td>Mono Mono_classical SP1 SLE         </td><td>2204</td><td>5.143995e-02</td><td>Wilcoxon rank sum test with continuity correction</td><td>two.sided</td><td>Mono</td><td>Mono_classical   </td><td>SLE      </td><td>SP1</td><td>-0.18994491</td><td> 0.12157425</td><td>0.0888508263</td></tr>\n",
       "\t<tr><td>Mono Mono_classical SP1 HNSCC       </td><td>2111</td><td>5.651618e-02</td><td>Wilcoxon rank sum test with continuity correction</td><td>two.sided</td><td>Mono</td><td>Mono_classical   </td><td>HNSCC    </td><td>SP1</td><td> 0.26981813</td><td>-0.17435601</td><td>0.0894839502</td></tr>\n",
       "\t<tr><td>Mono Mono_classical SP1 Flu         </td><td> 641</td><td>1.849295e-01</td><td>Wilcoxon rank sum test with continuity correction</td><td>two.sided</td><td>Mono</td><td>Mono_classical   </td><td>Flu      </td><td>SP1</td><td>-0.70612975</td><td>-0.08871043</td><td>0.2509757246</td></tr>\n",
       "\t<tr><td>Mono Mono_nonClassical SP1 SLE      </td><td>1282</td><td>2.648907e-05</td><td>Wilcoxon rank sum test with continuity correction</td><td>two.sided</td><td>Mono</td><td>Mono_nonClassical</td><td>SLE      </td><td>SP1</td><td>-1.33527118</td><td>-0.53157489</td><td>0.0005032924</td></tr>\n",
       "\t<tr><td>Mono Mono_nonClassical SP1 HNSCC    </td><td>2333</td><td>7.708345e-05</td><td>Wilcoxon rank sum test with continuity correction</td><td>two.sided</td><td>Mono</td><td>Mono_nonClassical</td><td>HNSCC    </td><td>SP1</td><td>-0.33347321</td><td>-1.28167243</td><td>0.0007322927</td></tr>\n",
       "\t<tr><td>Mono Mono_nonClassical SP1 Cirrhosis</td><td> 977</td><td>1.761699e-02</td><td>Wilcoxon rank sum test with continuity correction</td><td>two.sided</td><td>Mono</td><td>Mono_nonClassical</td><td>Cirrhosis</td><td>SP1</td><td>-0.38076315</td><td>-1.20954538</td><td>0.0557871204</td></tr>\n",
       "\t<tr><td>Mono Mono_nonClassical SP1 Flu      </td><td> 524</td><td>6.995800e-01</td><td>Wilcoxon rank sum test with continuity correction</td><td>two.sided</td><td>Mono</td><td>Mono_nonClassical</td><td>Flu      </td><td>SP1</td><td>-1.26993596</td><td>-1.16653933</td><td>0.7818835580</td></tr>\n",
       "\t<tr><td>Mono Mono_inflammatory SP1 SLE      </td><td>1379</td><td>1.102420e-02</td><td>Wilcoxon rank sum test with continuity correction</td><td>two.sided</td><td>Mono</td><td>Mono_inflammatory</td><td>SLE      </td><td>SP1</td><td> 0.02458958</td><td> 0.59241248</td><td>0.0523649342</td></tr>\n",
       "\t<tr><td>Mono Mono_inflammatory SP1 Cirrhosis</td><td> 900</td><td>2.531521e-02</td><td>Wilcoxon rank sum test with continuity correction</td><td>two.sided</td><td>Mono</td><td>Mono_inflammatory</td><td>Cirrhosis</td><td>SP1</td><td> 1.07772825</td><td> 0.08086133</td><td>0.0687127182</td></tr>\n",
       "\t<tr><td>Mono Mono_inflammatory SP1 HNSCC    </td><td>1764</td><td>7.002502e-02</td><td>Wilcoxon rank sum test with continuity correction</td><td>two.sided</td><td>Mono</td><td>Mono_inflammatory</td><td>HNSCC    </td><td>SP1</td><td> 0.53114772</td><td> 0.07355075</td><td>0.1023442618</td></tr>\n",
       "\t<tr><td>Mono Mono_IFNresponse SP1 Cirrhosis </td><td>1086</td><td>2.858592e-03</td><td>Wilcoxon rank sum test with continuity correction</td><td>two.sided</td><td>Mono</td><td>Mono_IFNresponse </td><td>Cirrhosis</td><td>SP1</td><td>-0.10472738</td><td>-1.01115242</td><td>0.0181044154</td></tr>\n",
       "\t<tr><td>Mono Mono_IFNresponse SP1 SLE       </td><td>1920</td><td>3.183529e-02</td><td>Wilcoxon rank sum test with continuity correction</td><td>two.sided</td><td>Mono</td><td>Mono_IFNresponse </td><td>SLE      </td><td>SP1</td><td>-1.03507372</td><td>-0.71736185</td><td>0.0714121460</td></tr>\n",
       "\t<tr><td>Mono Mono_IFNresponse SP1 HNSCC     </td><td>2003</td><td>3.382681e-02</td><td>Wilcoxon rank sum test with continuity correction</td><td>two.sided</td><td>Mono</td><td>Mono_IFNresponse </td><td>HNSCC    </td><td>SP1</td><td>-0.58743910</td><td>-1.01904188</td><td>0.0714121460</td></tr>\n",
       "\t<tr><td>Mono Mono_IFNresponse SP1 Flu       </td><td> 379</td><td>3.930354e-02</td><td>Wilcoxon rank sum test with continuity correction</td><td>two.sided</td><td>Mono</td><td>Mono_IFNresponse </td><td>Flu      </td><td>SP1</td><td>-1.65480322</td><td>-0.93689729</td><td>0.0746767346</td></tr>\n",
       "\t<tr><td>Mono Mono_regulatory SP1 Cirrhosis  </td><td> 505</td><td>2.666814e-01</td><td>Wilcoxon rank sum test with continuity correction</td><td>two.sided</td><td>Mono</td><td>Mono_regulatory  </td><td>Cirrhosis</td><td>SP1</td><td> 0.76051957</td><td> 0.43800484</td><td>0.3377964773</td></tr>\n",
       "\t<tr><td>Mono Mono_regulatory SP1 HNSCC      </td><td> 766</td><td>3.008539e-01</td><td>Wilcoxon rank sum test with continuity correction</td><td>two.sided</td><td>Mono</td><td>Mono_regulatory  </td><td>HNSCC    </td><td>SP1</td><td> 0.23371445</td><td> 0.51207068</td><td>0.3572639971</td></tr>\n",
       "\t<tr><td>Mono Mono_regulatory SP1 SLE        </td><td>1270</td><td>7.649526e-01</td><td>Wilcoxon rank sum test with continuity correction</td><td>two.sided</td><td>Mono</td><td>Mono_regulatory  </td><td>SLE      </td><td>SP1</td><td> 0.49932415</td><td> 0.36496911</td><td>0.8074499853</td></tr>\n",
       "\t<tr><td>Mono Mono_regulatory SP1 Flu        </td><td> 152</td><td>8.832791e-01</td><td>Wilcoxon rank sum test with continuity correction</td><td>two.sided</td><td>Mono</td><td>Mono_regulatory  </td><td>Flu      </td><td>SP1</td><td> 0.18519895</td><td> 0.46920611</td><td>0.8832790654</td></tr>\n",
       "</tbody>\n",
       "</table>\n"
      ],
      "text/latex": [
       "A tibble: 19 × 12\n",
       "\\begin{tabular}{llllllllllll}\n",
       " comparison & statistic & p.value & method & alternative & Level1 & Level2 & Disease & TF & mean\\_one & mean\\_all & pval\\_adj\\\\\n",
       " <chr> & <dbl> & <dbl> & <chr> & <chr> & <chr> & <fct> & <chr> & <fct> & <dbl> & <dbl> & <dbl>\\\\\n",
       "\\hline\n",
       "\t Mono Mono\\_classical SP1 Cirrhosis    & 1040 & 1.646189e-02 & Wilcoxon rank sum test with continuity correction & two.sided & Mono & Mono\\_classical    & Cirrhosis & SP1 &  0.76706407 & -0.16397280 & 0.0557871204\\\\\n",
       "\t Mono Mono\\_classical SP1 SLE          & 2204 & 5.143995e-02 & Wilcoxon rank sum test with continuity correction & two.sided & Mono & Mono\\_classical    & SLE       & SP1 & -0.18994491 &  0.12157425 & 0.0888508263\\\\\n",
       "\t Mono Mono\\_classical SP1 HNSCC        & 2111 & 5.651618e-02 & Wilcoxon rank sum test with continuity correction & two.sided & Mono & Mono\\_classical    & HNSCC     & SP1 &  0.26981813 & -0.17435601 & 0.0894839502\\\\\n",
       "\t Mono Mono\\_classical SP1 Flu          &  641 & 1.849295e-01 & Wilcoxon rank sum test with continuity correction & two.sided & Mono & Mono\\_classical    & Flu       & SP1 & -0.70612975 & -0.08871043 & 0.2509757246\\\\\n",
       "\t Mono Mono\\_nonClassical SP1 SLE       & 1282 & 2.648907e-05 & Wilcoxon rank sum test with continuity correction & two.sided & Mono & Mono\\_nonClassical & SLE       & SP1 & -1.33527118 & -0.53157489 & 0.0005032924\\\\\n",
       "\t Mono Mono\\_nonClassical SP1 HNSCC     & 2333 & 7.708345e-05 & Wilcoxon rank sum test with continuity correction & two.sided & Mono & Mono\\_nonClassical & HNSCC     & SP1 & -0.33347321 & -1.28167243 & 0.0007322927\\\\\n",
       "\t Mono Mono\\_nonClassical SP1 Cirrhosis &  977 & 1.761699e-02 & Wilcoxon rank sum test with continuity correction & two.sided & Mono & Mono\\_nonClassical & Cirrhosis & SP1 & -0.38076315 & -1.20954538 & 0.0557871204\\\\\n",
       "\t Mono Mono\\_nonClassical SP1 Flu       &  524 & 6.995800e-01 & Wilcoxon rank sum test with continuity correction & two.sided & Mono & Mono\\_nonClassical & Flu       & SP1 & -1.26993596 & -1.16653933 & 0.7818835580\\\\\n",
       "\t Mono Mono\\_inflammatory SP1 SLE       & 1379 & 1.102420e-02 & Wilcoxon rank sum test with continuity correction & two.sided & Mono & Mono\\_inflammatory & SLE       & SP1 &  0.02458958 &  0.59241248 & 0.0523649342\\\\\n",
       "\t Mono Mono\\_inflammatory SP1 Cirrhosis &  900 & 2.531521e-02 & Wilcoxon rank sum test with continuity correction & two.sided & Mono & Mono\\_inflammatory & Cirrhosis & SP1 &  1.07772825 &  0.08086133 & 0.0687127182\\\\\n",
       "\t Mono Mono\\_inflammatory SP1 HNSCC     & 1764 & 7.002502e-02 & Wilcoxon rank sum test with continuity correction & two.sided & Mono & Mono\\_inflammatory & HNSCC     & SP1 &  0.53114772 &  0.07355075 & 0.1023442618\\\\\n",
       "\t Mono Mono\\_IFNresponse SP1 Cirrhosis  & 1086 & 2.858592e-03 & Wilcoxon rank sum test with continuity correction & two.sided & Mono & Mono\\_IFNresponse  & Cirrhosis & SP1 & -0.10472738 & -1.01115242 & 0.0181044154\\\\\n",
       "\t Mono Mono\\_IFNresponse SP1 SLE        & 1920 & 3.183529e-02 & Wilcoxon rank sum test with continuity correction & two.sided & Mono & Mono\\_IFNresponse  & SLE       & SP1 & -1.03507372 & -0.71736185 & 0.0714121460\\\\\n",
       "\t Mono Mono\\_IFNresponse SP1 HNSCC      & 2003 & 3.382681e-02 & Wilcoxon rank sum test with continuity correction & two.sided & Mono & Mono\\_IFNresponse  & HNSCC     & SP1 & -0.58743910 & -1.01904188 & 0.0714121460\\\\\n",
       "\t Mono Mono\\_IFNresponse SP1 Flu        &  379 & 3.930354e-02 & Wilcoxon rank sum test with continuity correction & two.sided & Mono & Mono\\_IFNresponse  & Flu       & SP1 & -1.65480322 & -0.93689729 & 0.0746767346\\\\\n",
       "\t Mono Mono\\_regulatory SP1 Cirrhosis   &  505 & 2.666814e-01 & Wilcoxon rank sum test with continuity correction & two.sided & Mono & Mono\\_regulatory   & Cirrhosis & SP1 &  0.76051957 &  0.43800484 & 0.3377964773\\\\\n",
       "\t Mono Mono\\_regulatory SP1 HNSCC       &  766 & 3.008539e-01 & Wilcoxon rank sum test with continuity correction & two.sided & Mono & Mono\\_regulatory   & HNSCC     & SP1 &  0.23371445 &  0.51207068 & 0.3572639971\\\\\n",
       "\t Mono Mono\\_regulatory SP1 SLE         & 1270 & 7.649526e-01 & Wilcoxon rank sum test with continuity correction & two.sided & Mono & Mono\\_regulatory   & SLE       & SP1 &  0.49932415 &  0.36496911 & 0.8074499853\\\\\n",
       "\t Mono Mono\\_regulatory SP1 Flu         &  152 & 8.832791e-01 & Wilcoxon rank sum test with continuity correction & two.sided & Mono & Mono\\_regulatory   & Flu       & SP1 &  0.18519895 &  0.46920611 & 0.8832790654\\\\\n",
       "\\end{tabular}\n"
      ],
      "text/markdown": [
       "\n",
       "A tibble: 19 × 12\n",
       "\n",
       "| comparison &lt;chr&gt; | statistic &lt;dbl&gt; | p.value &lt;dbl&gt; | method &lt;chr&gt; | alternative &lt;chr&gt; | Level1 &lt;chr&gt; | Level2 &lt;fct&gt; | Disease &lt;chr&gt; | TF &lt;fct&gt; | mean_one &lt;dbl&gt; | mean_all &lt;dbl&gt; | pval_adj &lt;dbl&gt; |\n",
       "|---|---|---|---|---|---|---|---|---|---|---|---|\n",
       "| Mono Mono_classical SP1 Cirrhosis    | 1040 | 1.646189e-02 | Wilcoxon rank sum test with continuity correction | two.sided | Mono | Mono_classical    | Cirrhosis | SP1 |  0.76706407 | -0.16397280 | 0.0557871204 |\n",
       "| Mono Mono_classical SP1 SLE          | 2204 | 5.143995e-02 | Wilcoxon rank sum test with continuity correction | two.sided | Mono | Mono_classical    | SLE       | SP1 | -0.18994491 |  0.12157425 | 0.0888508263 |\n",
       "| Mono Mono_classical SP1 HNSCC        | 2111 | 5.651618e-02 | Wilcoxon rank sum test with continuity correction | two.sided | Mono | Mono_classical    | HNSCC     | SP1 |  0.26981813 | -0.17435601 | 0.0894839502 |\n",
       "| Mono Mono_classical SP1 Flu          |  641 | 1.849295e-01 | Wilcoxon rank sum test with continuity correction | two.sided | Mono | Mono_classical    | Flu       | SP1 | -0.70612975 | -0.08871043 | 0.2509757246 |\n",
       "| Mono Mono_nonClassical SP1 SLE       | 1282 | 2.648907e-05 | Wilcoxon rank sum test with continuity correction | two.sided | Mono | Mono_nonClassical | SLE       | SP1 | -1.33527118 | -0.53157489 | 0.0005032924 |\n",
       "| Mono Mono_nonClassical SP1 HNSCC     | 2333 | 7.708345e-05 | Wilcoxon rank sum test with continuity correction | two.sided | Mono | Mono_nonClassical | HNSCC     | SP1 | -0.33347321 | -1.28167243 | 0.0007322927 |\n",
       "| Mono Mono_nonClassical SP1 Cirrhosis |  977 | 1.761699e-02 | Wilcoxon rank sum test with continuity correction | two.sided | Mono | Mono_nonClassical | Cirrhosis | SP1 | -0.38076315 | -1.20954538 | 0.0557871204 |\n",
       "| Mono Mono_nonClassical SP1 Flu       |  524 | 6.995800e-01 | Wilcoxon rank sum test with continuity correction | two.sided | Mono | Mono_nonClassical | Flu       | SP1 | -1.26993596 | -1.16653933 | 0.7818835580 |\n",
       "| Mono Mono_inflammatory SP1 SLE       | 1379 | 1.102420e-02 | Wilcoxon rank sum test with continuity correction | two.sided | Mono | Mono_inflammatory | SLE       | SP1 |  0.02458958 |  0.59241248 | 0.0523649342 |\n",
       "| Mono Mono_inflammatory SP1 Cirrhosis |  900 | 2.531521e-02 | Wilcoxon rank sum test with continuity correction | two.sided | Mono | Mono_inflammatory | Cirrhosis | SP1 |  1.07772825 |  0.08086133 | 0.0687127182 |\n",
       "| Mono Mono_inflammatory SP1 HNSCC     | 1764 | 7.002502e-02 | Wilcoxon rank sum test with continuity correction | two.sided | Mono | Mono_inflammatory | HNSCC     | SP1 |  0.53114772 |  0.07355075 | 0.1023442618 |\n",
       "| Mono Mono_IFNresponse SP1 Cirrhosis  | 1086 | 2.858592e-03 | Wilcoxon rank sum test with continuity correction | two.sided | Mono | Mono_IFNresponse  | Cirrhosis | SP1 | -0.10472738 | -1.01115242 | 0.0181044154 |\n",
       "| Mono Mono_IFNresponse SP1 SLE        | 1920 | 3.183529e-02 | Wilcoxon rank sum test with continuity correction | two.sided | Mono | Mono_IFNresponse  | SLE       | SP1 | -1.03507372 | -0.71736185 | 0.0714121460 |\n",
       "| Mono Mono_IFNresponse SP1 HNSCC      | 2003 | 3.382681e-02 | Wilcoxon rank sum test with continuity correction | two.sided | Mono | Mono_IFNresponse  | HNSCC     | SP1 | -0.58743910 | -1.01904188 | 0.0714121460 |\n",
       "| Mono Mono_IFNresponse SP1 Flu        |  379 | 3.930354e-02 | Wilcoxon rank sum test with continuity correction | two.sided | Mono | Mono_IFNresponse  | Flu       | SP1 | -1.65480322 | -0.93689729 | 0.0746767346 |\n",
       "| Mono Mono_regulatory SP1 Cirrhosis   |  505 | 2.666814e-01 | Wilcoxon rank sum test with continuity correction | two.sided | Mono | Mono_regulatory   | Cirrhosis | SP1 |  0.76051957 |  0.43800484 | 0.3377964773 |\n",
       "| Mono Mono_regulatory SP1 HNSCC       |  766 | 3.008539e-01 | Wilcoxon rank sum test with continuity correction | two.sided | Mono | Mono_regulatory   | HNSCC     | SP1 |  0.23371445 |  0.51207068 | 0.3572639971 |\n",
       "| Mono Mono_regulatory SP1 SLE         | 1270 | 7.649526e-01 | Wilcoxon rank sum test with continuity correction | two.sided | Mono | Mono_regulatory   | SLE       | SP1 |  0.49932415 |  0.36496911 | 0.8074499853 |\n",
       "| Mono Mono_regulatory SP1 Flu         |  152 | 8.832791e-01 | Wilcoxon rank sum test with continuity correction | two.sided | Mono | Mono_regulatory   | Flu       | SP1 |  0.18519895 |  0.46920611 | 0.8832790654 |\n",
       "\n"
      ],
      "text/plain": [
       "   comparison                           statistic p.value     \n",
       "1  Mono Mono_classical SP1 Cirrhosis    1040      1.646189e-02\n",
       "2  Mono Mono_classical SP1 SLE          2204      5.143995e-02\n",
       "3  Mono Mono_classical SP1 HNSCC        2111      5.651618e-02\n",
       "4  Mono Mono_classical SP1 Flu           641      1.849295e-01\n",
       "5  Mono Mono_nonClassical SP1 SLE       1282      2.648907e-05\n",
       "6  Mono Mono_nonClassical SP1 HNSCC     2333      7.708345e-05\n",
       "7  Mono Mono_nonClassical SP1 Cirrhosis  977      1.761699e-02\n",
       "8  Mono Mono_nonClassical SP1 Flu        524      6.995800e-01\n",
       "9  Mono Mono_inflammatory SP1 SLE       1379      1.102420e-02\n",
       "10 Mono Mono_inflammatory SP1 Cirrhosis  900      2.531521e-02\n",
       "11 Mono Mono_inflammatory SP1 HNSCC     1764      7.002502e-02\n",
       "12 Mono Mono_IFNresponse SP1 Cirrhosis  1086      2.858592e-03\n",
       "13 Mono Mono_IFNresponse SP1 SLE        1920      3.183529e-02\n",
       "14 Mono Mono_IFNresponse SP1 HNSCC      2003      3.382681e-02\n",
       "15 Mono Mono_IFNresponse SP1 Flu         379      3.930354e-02\n",
       "16 Mono Mono_regulatory SP1 Cirrhosis    505      2.666814e-01\n",
       "17 Mono Mono_regulatory SP1 HNSCC        766      3.008539e-01\n",
       "18 Mono Mono_regulatory SP1 SLE         1270      7.649526e-01\n",
       "19 Mono Mono_regulatory SP1 Flu          152      8.832791e-01\n",
       "   method                                            alternative Level1\n",
       "1  Wilcoxon rank sum test with continuity correction two.sided   Mono  \n",
       "2  Wilcoxon rank sum test with continuity correction two.sided   Mono  \n",
       "3  Wilcoxon rank sum test with continuity correction two.sided   Mono  \n",
       "4  Wilcoxon rank sum test with continuity correction two.sided   Mono  \n",
       "5  Wilcoxon rank sum test with continuity correction two.sided   Mono  \n",
       "6  Wilcoxon rank sum test with continuity correction two.sided   Mono  \n",
       "7  Wilcoxon rank sum test with continuity correction two.sided   Mono  \n",
       "8  Wilcoxon rank sum test with continuity correction two.sided   Mono  \n",
       "9  Wilcoxon rank sum test with continuity correction two.sided   Mono  \n",
       "10 Wilcoxon rank sum test with continuity correction two.sided   Mono  \n",
       "11 Wilcoxon rank sum test with continuity correction two.sided   Mono  \n",
       "12 Wilcoxon rank sum test with continuity correction two.sided   Mono  \n",
       "13 Wilcoxon rank sum test with continuity correction two.sided   Mono  \n",
       "14 Wilcoxon rank sum test with continuity correction two.sided   Mono  \n",
       "15 Wilcoxon rank sum test with continuity correction two.sided   Mono  \n",
       "16 Wilcoxon rank sum test with continuity correction two.sided   Mono  \n",
       "17 Wilcoxon rank sum test with continuity correction two.sided   Mono  \n",
       "18 Wilcoxon rank sum test with continuity correction two.sided   Mono  \n",
       "19 Wilcoxon rank sum test with continuity correction two.sided   Mono  \n",
       "   Level2            Disease   TF  mean_one    mean_all    pval_adj    \n",
       "1  Mono_classical    Cirrhosis SP1  0.76706407 -0.16397280 0.0557871204\n",
       "2  Mono_classical    SLE       SP1 -0.18994491  0.12157425 0.0888508263\n",
       "3  Mono_classical    HNSCC     SP1  0.26981813 -0.17435601 0.0894839502\n",
       "4  Mono_classical    Flu       SP1 -0.70612975 -0.08871043 0.2509757246\n",
       "5  Mono_nonClassical SLE       SP1 -1.33527118 -0.53157489 0.0005032924\n",
       "6  Mono_nonClassical HNSCC     SP1 -0.33347321 -1.28167243 0.0007322927\n",
       "7  Mono_nonClassical Cirrhosis SP1 -0.38076315 -1.20954538 0.0557871204\n",
       "8  Mono_nonClassical Flu       SP1 -1.26993596 -1.16653933 0.7818835580\n",
       "9  Mono_inflammatory SLE       SP1  0.02458958  0.59241248 0.0523649342\n",
       "10 Mono_inflammatory Cirrhosis SP1  1.07772825  0.08086133 0.0687127182\n",
       "11 Mono_inflammatory HNSCC     SP1  0.53114772  0.07355075 0.1023442618\n",
       "12 Mono_IFNresponse  Cirrhosis SP1 -0.10472738 -1.01115242 0.0181044154\n",
       "13 Mono_IFNresponse  SLE       SP1 -1.03507372 -0.71736185 0.0714121460\n",
       "14 Mono_IFNresponse  HNSCC     SP1 -0.58743910 -1.01904188 0.0714121460\n",
       "15 Mono_IFNresponse  Flu       SP1 -1.65480322 -0.93689729 0.0746767346\n",
       "16 Mono_regulatory   Cirrhosis SP1  0.76051957  0.43800484 0.3377964773\n",
       "17 Mono_regulatory   HNSCC     SP1  0.23371445  0.51207068 0.3572639971\n",
       "18 Mono_regulatory   SLE       SP1  0.49932415  0.36496911 0.8074499853\n",
       "19 Mono_regulatory   Flu       SP1  0.18519895  0.46920611 0.8832790654"
      ]
     },
     "metadata": {},
     "output_type": "display_data"
    }
   ],
   "source": [
    "final_comparison_results_adjusted <- final_results %>%\n",
    "    # Adjust p-values globally first\n",
    "    mutate(\n",
    "    pval_adj = p.adjust(p.value, method = \"BH\")\n",
    "    ) %>%\n",
    "    # Group by TFs to adjust p-values within each TF group\n",
    "    #group_by(TF) %>%\n",
    "    #mutate(\n",
    "    #  pval_adj_indep = p.adjust(p.value, method = \"BH\")\n",
    "    #) %>%\n",
    "    #ungroup() %>%\n",
    "    # Filter based on the unadjusted p-value\n",
    "    #filter(pval_adj < 0.05) %>%\n",
    "    # Arrange by p-value to see the most significant results first\n",
    "    arrange(Level2, TF, pval_adj)\n",
    "\n",
    "final_comparison_results_adjusted"
   ]
  },
  {
   "cell_type": "code",
   "execution_count": 13,
   "id": "96a12912-c291-4fc3-b59c-1730d802f850",
   "metadata": {
    "execution": {
     "iopub.execute_input": "2025-05-26T00:17:48.346902Z",
     "iopub.status.busy": "2025-05-26T00:17:48.345815Z",
     "iopub.status.idle": "2025-05-26T00:17:48.366146Z",
     "shell.execute_reply": "2025-05-26T00:17:48.364828Z"
    }
   },
   "outputs": [],
   "source": [
    "tables_path <- paste0(outputpath, \"/supplementary_tables/\", \"Mono_comparison_across_diseases.csv\")\n",
    "write.csv(final_comparison_results_adjusted, tables_path, row.names = FALSE)\n"
   ]
  },
  {
   "cell_type": "code",
   "execution_count": null,
   "id": "69710383-fa1e-4b17-a796-1859edc59036",
   "metadata": {},
   "outputs": [],
   "source": [
    "\n",
    "\n",
    "# Assuming final_comparison_results is already created\n",
    "final_comparison_results_adjusted <- final_comparison_results %>%\n",
    "  # Adjust p-values globally first\n",
    "  mutate(\n",
    "    pval_adj = p.adjust(p.value, method = \"BH\")\n",
    "  ) %>%\n",
    "  # Group by TFs to adjust p-values within each TF group\n",
    "  #group_by(TF) %>%\n",
    "  #mutate(\n",
    "  #  pval_adj_indep = p.adjust(p.value, method = \"BH\")\n",
    "  #) %>%\n",
    "  #ungroup() %>%\n",
    "  # Filter based on the unadjusted p-value\n",
    "  #filter(pval_adj < 0.05) %>%\n",
    "  # Arrange by p-value to see the most significant results first\n",
    "  arrange(Level1, TF, pval_adj)\n",
    "\n",
    "output_path <- \"results/supplementary_tables/SLE_Level2_pval.csv\"\n",
    "write.csv(final_comparison_results_adjusted, output_path, row.names = FALSE)\n",
    "\n",
    "# Print the adjusted and filtered results\n",
    "final_comparison_results_adjusted"
   ]
  },
  {
   "cell_type": "markdown",
   "id": "e75a2d52-e517-4c8b-9ce8-0783d135adf8",
   "metadata": {},
   "source": [
    "**Boxplots**"
   ]
  },
  {
   "cell_type": "code",
   "execution_count": null,
   "id": "3c0bc441-91df-42ee-8285-c8257446459c",
   "metadata": {},
   "outputs": [],
   "source": [
    "plot_l2 <- ggboxplot(toplot_level2, x = \"Level2\", y = \"activity\", fill = \"Level2\") +\n",
    "    facet_grid(rows = vars(TF), cols = vars(Level1), scales = \"free_x\"\n",
    "              ) +\n",
    "    scale_fill_manual(values = cell_level2_colors) +\n",
    "    theme_bw() +\n",
    "    ggtitle(label = \"\") +\n",
    "    theme(\n",
    "        axis.text.x = element_text(angle = 90, vjust = 0.5, hjust=0.5)\n",
    "    )"
   ]
  },
  {
   "cell_type": "code",
   "execution_count": null,
   "id": "a098a816-4b8a-4e8f-b143-2f6ce8c07263",
   "metadata": {},
   "outputs": [],
   "source": [
    "plot_l2"
   ]
  },
  {
   "cell_type": "code",
   "execution_count": null,
   "id": "528ac353-4301-4fb8-b90b-b627f5000503",
   "metadata": {},
   "outputs": [],
   "source": [
    "ggsave(\n",
    "    plot_l2,\n",
    "    filename = \"sle_TFactivity_level2_test.pdf\",\n",
    "    device = \"pdf\",\n",
    "    width = 20,\n",
    "    height = 8,\n",
    "    path = outputpath)"
   ]
  }
 ],
 "metadata": {
  "kernelspec": {
   "display_name": "R",
   "language": "R",
   "name": "ir"
  },
  "language_info": {
   "codemirror_mode": "r",
   "file_extension": ".r",
   "mimetype": "text/x-r-source",
   "name": "R",
   "pygments_lexer": "r",
   "version": "4.3.1"
  }
 },
 "nbformat": 4,
 "nbformat_minor": 5
}
