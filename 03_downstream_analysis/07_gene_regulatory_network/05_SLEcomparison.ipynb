{
 "cells": [
  {
   "cell_type": "code",
   "execution_count": 1,
   "id": "469e07b7-bf1d-4c59-8adf-a8b9aadeddd3",
   "metadata": {
    "execution": {
     "iopub.execute_input": "2024-07-12T09:54:16.785004Z",
     "iopub.status.busy": "2024-07-12T09:54:16.781836Z",
     "iopub.status.idle": "2024-07-12T09:56:28.496477Z",
     "shell.execute_reply": "2024-07-12T09:56:28.494512Z"
    }
   },
   "outputs": [
    {
     "name": "stderr",
     "output_type": "stream",
     "text": [
      "Loading required package: dplyr\n",
      "\n",
      "\n",
      "Attaching package: ‘dplyr’\n",
      "\n",
      "\n",
      "The following objects are masked from ‘package:stats’:\n",
      "\n",
      "    filter, lag\n",
      "\n",
      "\n",
      "The following objects are masked from ‘package:base’:\n",
      "\n",
      "    intersect, setdiff, setequal, union\n",
      "\n",
      "\n",
      "Loading required package: ggpubr\n",
      "\n",
      "Loading required package: ggplot2\n",
      "\n",
      "Loading required package: data.table\n",
      "\n",
      "\n",
      "Attaching package: ‘data.table’\n",
      "\n",
      "\n",
      "The following objects are masked from ‘package:dplyr’:\n",
      "\n",
      "    between, first, last\n",
      "\n",
      "\n",
      "── \u001b[1mAttaching core tidyverse packages\u001b[22m ──────────────────────────────────────────────────────────────────────────────────────────────────────────────────────────────────────────────────── tidyverse 2.0.0 ──\n",
      "\u001b[32m✔\u001b[39m \u001b[34mforcats  \u001b[39m 1.0.0     \u001b[32m✔\u001b[39m \u001b[34mstringr  \u001b[39m 1.5.0\n",
      "\u001b[32m✔\u001b[39m \u001b[34mlubridate\u001b[39m 1.9.3     \u001b[32m✔\u001b[39m \u001b[34mtibble   \u001b[39m 3.2.1\n",
      "\u001b[32m✔\u001b[39m \u001b[34mpurrr    \u001b[39m 1.0.2     \u001b[32m✔\u001b[39m \u001b[34mtidyr    \u001b[39m 1.3.0\n",
      "\u001b[32m✔\u001b[39m \u001b[34mreadr    \u001b[39m 2.1.4     \n",
      "── \u001b[1mConflicts\u001b[22m ────────────────────────────────────────────────────────────────────────────────────────────────────────────────────────────────────────────────────────────────────── tidyverse_conflicts() ──\n",
      "\u001b[31m✖\u001b[39m \u001b[34mdata.table\u001b[39m::\u001b[32mbetween()\u001b[39m masks \u001b[34mdplyr\u001b[39m::between()\n",
      "\u001b[31m✖\u001b[39m \u001b[34mdplyr\u001b[39m::\u001b[32mfilter()\u001b[39m       masks \u001b[34mstats\u001b[39m::filter()\n",
      "\u001b[31m✖\u001b[39m \u001b[34mdata.table\u001b[39m::\u001b[32mfirst()\u001b[39m   masks \u001b[34mdplyr\u001b[39m::first()\n",
      "\u001b[31m✖\u001b[39m \u001b[34mlubridate\u001b[39m::\u001b[32mhour()\u001b[39m     masks \u001b[34mdata.table\u001b[39m::hour()\n",
      "\u001b[31m✖\u001b[39m \u001b[34mlubridate\u001b[39m::\u001b[32misoweek()\u001b[39m  masks \u001b[34mdata.table\u001b[39m::isoweek()\n",
      "\u001b[31m✖\u001b[39m \u001b[34mdplyr\u001b[39m::\u001b[32mlag()\u001b[39m          masks \u001b[34mstats\u001b[39m::lag()\n",
      "\u001b[31m✖\u001b[39m \u001b[34mdata.table\u001b[39m::\u001b[32mlast()\u001b[39m    masks \u001b[34mdplyr\u001b[39m::last()\n",
      "\u001b[31m✖\u001b[39m \u001b[34mlubridate\u001b[39m::\u001b[32mmday()\u001b[39m     masks \u001b[34mdata.table\u001b[39m::mday()\n",
      "\u001b[31m✖\u001b[39m \u001b[34mlubridate\u001b[39m::\u001b[32mminute()\u001b[39m   masks \u001b[34mdata.table\u001b[39m::minute()\n",
      "\u001b[31m✖\u001b[39m \u001b[34mlubridate\u001b[39m::\u001b[32mmonth()\u001b[39m    masks \u001b[34mdata.table\u001b[39m::month()\n",
      "\u001b[31m✖\u001b[39m \u001b[34mlubridate\u001b[39m::\u001b[32mquarter()\u001b[39m  masks \u001b[34mdata.table\u001b[39m::quarter()\n",
      "\u001b[31m✖\u001b[39m \u001b[34mlubridate\u001b[39m::\u001b[32msecond()\u001b[39m   masks \u001b[34mdata.table\u001b[39m::second()\n",
      "\u001b[31m✖\u001b[39m \u001b[34mpurrr\u001b[39m::\u001b[32mtranspose()\u001b[39m    masks \u001b[34mdata.table\u001b[39m::transpose()\n",
      "\u001b[31m✖\u001b[39m \u001b[34mlubridate\u001b[39m::\u001b[32mwday()\u001b[39m     masks \u001b[34mdata.table\u001b[39m::wday()\n",
      "\u001b[31m✖\u001b[39m \u001b[34mlubridate\u001b[39m::\u001b[32mweek()\u001b[39m     masks \u001b[34mdata.table\u001b[39m::week()\n",
      "\u001b[31m✖\u001b[39m \u001b[34mlubridate\u001b[39m::\u001b[32myday()\u001b[39m     masks \u001b[34mdata.table\u001b[39m::yday()\n",
      "\u001b[31m✖\u001b[39m \u001b[34mlubridate\u001b[39m::\u001b[32myear()\u001b[39m     masks \u001b[34mdata.table\u001b[39m::year()\n",
      "\u001b[36mℹ\u001b[39m Use the conflicted package (\u001b[3m\u001b[34m<http://conflicted.r-lib.org/>\u001b[39m\u001b[23m) to force all conflicts to become errors\n"
     ]
    }
   ],
   "source": [
    "require(dplyr)\n",
    "require(ggpubr)\n",
    "require(data.table)\n",
    "library(tidyverse)\n",
    "options(warn = -1)"
   ]
  },
  {
   "cell_type": "markdown",
   "id": "05e427a8-86c6-44a4-a1dd-79eff3d73e75",
   "metadata": {},
   "source": [
    "**Parameters**"
   ]
  },
  {
   "cell_type": "code",
   "execution_count": 2,
   "id": "c736adaf-ed33-484a-90bb-a37a08605aec",
   "metadata": {
    "execution": {
     "iopub.execute_input": "2024-07-12T09:56:28.545112Z",
     "iopub.status.busy": "2024-07-12T09:56:28.498850Z",
     "iopub.status.idle": "2024-07-12T09:56:28.605230Z",
     "shell.execute_reply": "2024-07-12T09:56:28.603460Z"
    }
   },
   "outputs": [],
   "source": [
    "# Inputs\n",
    "inputpath_perez2022 <- \"data/Compare_SLE_subgroups/STAT1_SP1_perez2022_level1.csv\"\n",
    "inputpath_scgt00 <- \"data/Compare_SLE_subgroups/STAT1_SP1_scgt00_level1.csv\"\n",
    "\n",
    "inputpath_perez2022_level2 <- \"data/Compare_SLE_subgroups/STAT1_SP1_perez2022_Level2.csv\"\n",
    "inputpath_scgt00_level2 <- \"data/Compare_SLE_subgroups/STAT1_SP1_scgt00_Level2.csv\"\n",
    "\n",
    "# Outputs\n",
    "outputpath <- \"results/\"\n",
    "\n",
    "# Palette\n",
    "color_palette_path <- \"data/colors_palette.R\"\n",
    "source(color_palette_path)"
   ]
  },
  {
   "cell_type": "markdown",
   "id": "a5779a34-cfcc-4029-97af-b816a66d13e2",
   "metadata": {},
   "source": [
    "# Load data"
   ]
  },
  {
   "cell_type": "code",
   "execution_count": 3,
   "id": "85599862-8b83-4200-990b-79f7426fe8d8",
   "metadata": {
    "execution": {
     "iopub.execute_input": "2024-07-12T09:56:28.617554Z",
     "iopub.status.busy": "2024-07-12T09:56:28.615931Z",
     "iopub.status.idle": "2024-07-12T09:56:29.611354Z",
     "shell.execute_reply": "2024-07-12T09:56:29.609726Z"
    }
   },
   "outputs": [],
   "source": [
    "perez2022_level1 <- read.csv(inputpath_perez2022, header = TRUE)\n",
    "scgt00_level1 <- read.csv(inputpath_scgt00, header = TRUE)\n",
    "\n",
    "perez2022_level2 <- read.csv(inputpath_perez2022_level2, header = TRUE)\n",
    "scgt00_level2 <- read.csv(inputpath_scgt00_level2, header = TRUE)"
   ]
  },
  {
   "cell_type": "markdown",
   "id": "cf7c1511-d3f3-491e-b1ad-d9bf867c82f3",
   "metadata": {},
   "source": [
    "# Paper figures"
   ]
  },
  {
   "cell_type": "markdown",
   "id": "d89e5817-9c51-4e1a-a42f-806728155e84",
   "metadata": {},
   "source": [
    "## Supplementary B: Boxplots"
   ]
  },
  {
   "cell_type": "code",
   "execution_count": 4,
   "id": "a3daa3e3-ffb6-4f17-9c9e-2deb9b92fd66",
   "metadata": {
    "execution": {
     "iopub.execute_input": "2024-07-12T09:56:40.858948Z",
     "iopub.status.busy": "2024-07-12T09:56:40.857649Z",
     "iopub.status.idle": "2024-07-12T09:56:41.514766Z",
     "shell.execute_reply": "2024-07-12T09:56:41.513333Z"
    }
   },
   "outputs": [],
   "source": [
    "tf_order <- c(\"STAT1\", \"SP1\")\n",
    "l1_cell_type_order <- names(cell_colors)\n",
    "l2_cell_type_order <- names(cell_level2_colors)"
   ]
  },
  {
   "cell_type": "code",
   "execution_count": 5,
   "id": "bc9d66c7-221a-42e0-9e08-d27ed299d5af",
   "metadata": {
    "execution": {
     "iopub.execute_input": "2024-07-12T09:56:41.877340Z",
     "iopub.status.busy": "2024-07-12T09:56:41.875935Z",
     "iopub.status.idle": "2024-07-12T09:56:42.910060Z",
     "shell.execute_reply": "2024-07-12T09:56:42.901304Z"
    }
   },
   "outputs": [],
   "source": [
    "toplot_perez <-\n",
    "    perez2022_level2 %>%\n",
    "    filter(!Level1 %in% c(\"Cycling_cells\", \"Progenitors\", \"Platelets\"))\n",
    "\n",
    "toplot_scgt00 <-\n",
    "    scgt00_level2 %>%\n",
    "    filter(!Level1 %in% c(\"Cycling_cells\", \"Progenitors\", \"Platelets\"))\n",
    "toplot_level2 <- rbind(toplot_perez, toplot_scgt00)  %>%\n",
    "  pivot_longer(cols = c(STAT1, SP1), names_to = \"TF\", values_to = \"activity\") %>%\n",
    "  mutate(\n",
    "    Level1 = factor(Level1, levels = l1_cell_type_order),\n",
    "    Level2 = factor(Level2, levels = l2_cell_type_order),\n",
    "    TF = factor(TF, levels = tf_order)\n",
    "  )"
   ]
  },
  {
   "cell_type": "markdown",
   "id": "2e8f4cbd-5e7b-4bc7-9cef-952b3f6772f1",
   "metadata": {},
   "source": [
    "**p-val**"
   ]
  },
  {
   "cell_type": "code",
   "execution_count": 40,
   "id": "ee4e8c24-5af9-4867-b678-314191867fc3",
   "metadata": {
    "execution": {
     "iopub.execute_input": "2024-07-12T10:48:48.382143Z",
     "iopub.status.busy": "2024-07-12T10:48:48.380924Z",
     "iopub.status.idle": "2024-07-12T10:48:53.785947Z",
     "shell.execute_reply": "2024-07-12T10:48:53.783950Z"
    }
   },
   "outputs": [],
   "source": [
    "library(dplyr)\n",
    "library(broom)\n",
    "library(tidyr)\n",
    "library(purrr)\n",
    "\n",
    "# Define a function to perform one-vs-all Wilcoxon tests for each Level2 within Level1\n",
    "compare_one_vs_all <- function(data) {\n",
    "  # List to store results\n",
    "  results <- list()\n",
    "  \n",
    "  # Loop over each Level1 category\n",
    "  unique_level1 <- unique(data$Level1)\n",
    "  for (level1 in unique_level1) {\n",
    "    # Filter data for the current Level1 category and remove rows where activity is NA\n",
    "    level1_data <- data %>%\n",
    "      filter(Level1 == level1, !is.na(activity))\n",
    "    \n",
    "    # Get unique combinations of Level2 and TF\n",
    "    combinations <- expand.grid(Level2 = unique(level1_data$Level2), TF = unique(level1_data$TF))\n",
    "    \n",
    "    # Perform one-vs-all comparisons for each combination\n",
    "    for (i in 1:nrow(combinations)) {\n",
    "      level2 <- combinations$Level2[i]\n",
    "      tf <- combinations$TF[i]\n",
    "      \n",
    "      # Filter data for the current Level2 and TF\n",
    "      one_data <- level1_data %>% filter(Level2 == level2, TF == tf)\n",
    "      all_data <- level1_data %>% filter(Level2 != level2, TF == tf)\n",
    "\n",
    "      mean_one <- mean(one_data$activity)\n",
    "      mean_all <- mean(all_data$activity)\n",
    "      \n",
    "      # Ensure there are at least two observations in each group\n",
    "      if (nrow(one_data) >= 3 && nrow(all_data) >= 3) {\n",
    "        # Perform Wilcoxon test (one-sided: greater)\n",
    "        test_result <- wilcox.test(one_data$activity, all_data$activity, alternative = \"two.sided\")\n",
    "        \n",
    "        # Clean up and store the result\n",
    "        tidy_result <- tidy(test_result)\n",
    "        tidy_result$Level1 <- level1\n",
    "        tidy_result$Level2 <- level2\n",
    "        tidy_result$TF <- tf\n",
    "        tidy_result$mean_one <- mean_one\n",
    "        tidy_result$mean_all <- mean_all\n",
    "        results[[paste(level1, level2, tf)]] <- tidy_result\n",
    "      }\n",
    "    }\n",
    "  }\n",
    "  \n",
    "  # Combine all results into a single data frame\n",
    "  final_results <- bind_rows(results, .id = \"comparison\")\n",
    "  return(final_results)\n",
    "}\n",
    "\n",
    "# Example usage with your data frame\n",
    "final_comparison_results <- compare_one_vs_all(toplot_level2)"
   ]
  },
  {
   "cell_type": "code",
   "execution_count": null,
   "id": "62549472-9e40-43a5-87d3-ff2dc9ac1b0b",
   "metadata": {},
   "outputs": [],
   "source": []
  },
  {
   "cell_type": "code",
   "execution_count": 42,
   "id": "69710383-fa1e-4b17-a796-1859edc59036",
   "metadata": {
    "execution": {
     "iopub.execute_input": "2024-07-12T11:02:41.380862Z",
     "iopub.status.busy": "2024-07-12T11:02:41.379614Z",
     "iopub.status.idle": "2024-07-12T11:02:47.085885Z",
     "shell.execute_reply": "2024-07-12T11:02:47.084445Z"
    }
   },
   "outputs": [
    {
     "data": {
      "text/html": [
       "<table class=\"dataframe\">\n",
       "<caption>A tibble: 36 × 11</caption>\n",
       "<thead>\n",
       "\t<tr><th scope=col>comparison</th><th scope=col>statistic</th><th scope=col>p.value</th><th scope=col>method</th><th scope=col>alternative</th><th scope=col>Level1</th><th scope=col>Level2</th><th scope=col>TF</th><th scope=col>mean_one</th><th scope=col>mean_all</th><th scope=col>pval_adj</th></tr>\n",
       "\t<tr><th scope=col>&lt;chr&gt;</th><th scope=col>&lt;dbl&gt;</th><th scope=col>&lt;dbl&gt;</th><th scope=col>&lt;chr&gt;</th><th scope=col>&lt;chr&gt;</th><th scope=col>&lt;chr&gt;</th><th scope=col>&lt;fct&gt;</th><th scope=col>&lt;fct&gt;</th><th scope=col>&lt;dbl&gt;</th><th scope=col>&lt;dbl&gt;</th><th scope=col>&lt;dbl&gt;</th></tr>\n",
       "</thead>\n",
       "<tbody>\n",
       "\t<tr><td>ILC NK_lowRibocontent SP1               </td><td> 8964.0</td><td>1.283159e-09</td><td>Wilcoxon rank sum test with continuity correction</td><td>two.sided</td><td>ILC           </td><td>NK_lowRibocontent  </td><td>SP1  </td><td>-0.342425391</td><td> 0.20283399</td><td>1.154843e-08</td></tr>\n",
       "\t<tr><td>ILC NK_adaptive SP1                     </td><td>27821.0</td><td>3.469194e-05</td><td>Wilcoxon rank sum test with continuity correction</td><td>two.sided</td><td>ILC           </td><td>NK_adaptive        </td><td>SP1  </td><td> 0.409337594</td><td> 0.06087694</td><td>1.135373e-04</td></tr>\n",
       "\t<tr><td>ILC NK_CD56dimCD16 SP1                  </td><td>31022.0</td><td>1.289171e-03</td><td>Wilcoxon rank sum test with continuity correction</td><td>two.sided</td><td>ILC           </td><td>NK_CD56dimCD16     </td><td>SP1  </td><td> 0.312912263</td><td> 0.06838008</td><td>2.900636e-03</td></tr>\n",
       "\t<tr><td>ILC NK_IFN1response SP1                 </td><td>10179.0</td><td>8.454847e-02</td><td>Wilcoxon rank sum test with continuity correction</td><td>two.sided</td><td>ILC           </td><td>NK_IFN1response    </td><td>SP1  </td><td> 0.003605688</td><td> 0.14268336</td><td>1.449402e-01</td></tr>\n",
       "\t<tr><td>ILC NK_CD56high SP1                     </td><td>22554.0</td><td>1.123243e-01</td><td>Wilcoxon rank sum test with continuity correction</td><td>two.sided</td><td>ILC           </td><td>NK_CD56high        </td><td>SP1  </td><td>-0.009442693</td><td> 0.17171453</td><td>1.838033e-01</td></tr>\n",
       "\t<tr><td>ILC NK_CD16high SP1                     </td><td>12245.0</td><td>4.722113e-01</td><td>Wilcoxon rank sum test with continuity correction</td><td>two.sided</td><td>ILC           </td><td>NK_CD16high        </td><td>SP1  </td><td> 0.204182768</td><td> 0.12204616</td><td>6.299905e-01</td></tr>\n",
       "\t<tr><td>Mono Mono_IFNresponse STAT1             </td><td>51741.0</td><td>3.066814e-21</td><td>Wilcoxon rank sum test with continuity correction</td><td>two.sided</td><td>Mono          </td><td>Mono_IFNresponse   </td><td>STAT1</td><td> 2.450774366</td><td> 1.14031489</td><td>1.104053e-19</td></tr>\n",
       "\t<tr><td>Mono Mono_regulatory STAT1              </td><td>12725.0</td><td>3.095138e-09</td><td>Wilcoxon rank sum test with continuity correction</td><td>two.sided</td><td>Mono          </td><td>Mono_regulatory    </td><td>STAT1</td><td> 0.529648683</td><td> 1.56074646</td><td>2.228499e-08</td></tr>\n",
       "\t<tr><td>Mono Mono_nonClassical STAT1            </td><td>26507.0</td><td>2.326705e-04</td><td>Wilcoxon rank sum test with continuity correction</td><td>two.sided</td><td>Mono          </td><td>Mono_nonClassical  </td><td>STAT1</td><td> 0.941861006</td><td> 1.56626926</td><td>5.982955e-04</td></tr>\n",
       "\t<tr><td>Mono Mono_classical STAT1               </td><td>31484.0</td><td>1.201500e-01</td><td>Wilcoxon rank sum test with continuity correction</td><td>two.sided</td><td>Mono          </td><td>Mono_classical     </td><td>STAT1</td><td> 1.298654408</td><td> 1.46953068</td><td>1.880608e-01</td></tr>\n",
       "\t<tr><td>Mono Mono_inflammatory STAT1            </td><td>33416.0</td><td>6.149804e-01</td><td>Wilcoxon rank sum test with continuity correction</td><td>two.sided</td><td>Mono          </td><td>Mono_inflammatory  </td><td>STAT1</td><td> 1.542972504</td><td> 1.40121352</td><td>7.113771e-01</td></tr>\n",
       "\t<tr><td>Mono Mono_nonClassical SP1              </td><td>20730.5</td><td>1.281910e-11</td><td>Wilcoxon rank sum test with continuity correction</td><td>two.sided</td><td>Mono          </td><td>Mono_nonClassical  </td><td>SP1  </td><td>-1.211077888</td><td>-0.35624828</td><td>2.307437e-10</td></tr>\n",
       "\t<tr><td>Mono Mono_regulatory SP1                </td><td>30991.0</td><td>5.360783e-10</td><td>Wilcoxon rank sum test with continuity correction</td><td>two.sided</td><td>Mono          </td><td>Mono_regulatory    </td><td>SP1  </td><td> 0.304331910</td><td>-0.66362540</td><td>6.432940e-09</td></tr>\n",
       "\t<tr><td>Mono Mono_IFNresponse SP1               </td><td>24485.0</td><td>5.578143e-07</td><td>Wilcoxon rank sum test with continuity correction</td><td>two.sided</td><td>Mono          </td><td>Mono_IFNresponse   </td><td>SP1  </td><td>-1.060695749</td><td>-0.39382744</td><td>2.510164e-06</td></tr>\n",
       "\t<tr><td>Mono Mono_inflammatory SP1              </td><td>40666.0</td><td>9.224156e-06</td><td>Wilcoxon rank sum test with continuity correction</td><td>two.sided</td><td>Mono          </td><td>Mono_inflammatory  </td><td>SP1  </td><td>-0.066810481</td><td>-0.66708130</td><td>3.320696e-05</td></tr>\n",
       "\t<tr><td>Mono Mono_classical SP1                 </td><td>39000.5</td><td>1.619172e-02</td><td>Wilcoxon rank sum test with continuity correction</td><td>two.sided</td><td>Mono          </td><td>Mono_classical     </td><td>SP1  </td><td>-0.301205945</td><td>-0.61206856</td><td>2.914510e-02</td></tr>\n",
       "\t<tr><td>Plasma Plasma_IGHA STAT1                </td><td>   18.0</td><td>8.391608e-01</td><td>Wilcoxon rank sum exact test                     </td><td>two.sided</td><td>Plasma        </td><td>Plasma_IGHA        </td><td>STAT1</td><td> 2.805365525</td><td> 2.88366398</td><td>8.391608e-01</td></tr>\n",
       "\t<tr><td>Plasma Plasma_IGHG STAT1                </td><td>   22.0</td><td>8.391608e-01</td><td>Wilcoxon rank sum exact test                     </td><td>two.sided</td><td>Plasma        </td><td>Plasma_IGHG        </td><td>STAT1</td><td> 2.883663975</td><td> 2.80536553</td><td>8.391608e-01</td></tr>\n",
       "\t<tr><td>T_CD8_NonNaive T_CD8_IFNresponse STAT1  </td><td>47096.0</td><td>1.607323e-08</td><td>Wilcoxon rank sum test with continuity correction</td><td>two.sided</td><td>T_CD8_NonNaive</td><td>T_CD8_IFNresponse  </td><td>STAT1</td><td> 3.019348082</td><td> 1.76101798</td><td>9.643936e-08</td></tr>\n",
       "\t<tr><td>T_CD8_NonNaive T_CD8_eff_HOBIT STAT1    </td><td>13083.0</td><td>3.500681e-03</td><td>Wilcoxon rank sum test with continuity correction</td><td>two.sided</td><td>T_CD8_NonNaive</td><td>T_CD8_eff_HOBIT    </td><td>STAT1</td><td> 1.110410106</td><td> 1.97237174</td><td>7.413207e-03</td></tr>\n",
       "\t<tr><td>T_CD8_NonNaive T_CD8_CM STAT1           </td><td>39946.0</td><td>1.466042e-02</td><td>Wilcoxon rank sum test with continuity correction</td><td>two.sided</td><td>T_CD8_NonNaive</td><td>T_CD8_CM           </td><td>STAT1</td><td> 1.559708534</td><td> 1.99947806</td><td>2.777763e-02</td></tr>\n",
       "\t<tr><td>T_CD8_NonNaive T_CD8_CM_stem STAT1      </td><td>11361.0</td><td>3.602745e-01</td><td>Wilcoxon rank sum test with continuity correction</td><td>two.sided</td><td>T_CD8_NonNaive</td><td>T_CD8_CM_stem      </td><td>STAT1</td><td> 1.602339365</td><td> 1.93513342</td><td>5.187952e-01</td></tr>\n",
       "\t<tr><td>T_CD8_NonNaive T_CD8_Mem_cytotoxic STAT1</td><td>37902.0</td><td>4.724929e-01</td><td>Wilcoxon rank sum test with continuity correction</td><td>two.sided</td><td>T_CD8_NonNaive</td><td>T_CD8_Mem_cytotoxic</td><td>STAT1</td><td> 1.786170303</td><td> 1.94466963</td><td>6.299905e-01</td></tr>\n",
       "\t<tr><td>T_CD8_NonNaive T_CD8_EM_CX3CR1high STAT1</td><td>37448.0</td><td>4.987417e-01</td><td>Wilcoxon rank sum test with continuity correction</td><td>two.sided</td><td>T_CD8_NonNaive</td><td>T_CD8_EM_CX3CR1high</td><td>STAT1</td><td> 1.841636296</td><td> 1.93479413</td><td>6.412393e-01</td></tr>\n",
       "\t<tr><td>T_CD8_NonNaive T_CD8_activated STAT1    </td><td>40414.0</td><td>5.294001e-01</td><td>Wilcoxon rank sum test with continuity correction</td><td>two.sided</td><td>T_CD8_NonNaive</td><td>T_CD8_activated    </td><td>STAT1</td><td> 1.980484988</td><td> 1.91124310</td><td>6.571863e-01</td></tr>\n",
       "\t<tr><td>T_CD8_NonNaive T_CD8_EM_CX3CR1int STAT1 </td><td>40641.0</td><td>6.323352e-01</td><td>Wilcoxon rank sum test with continuity correction</td><td>two.sided</td><td>T_CD8_NonNaive</td><td>T_CD8_EM_CX3CR1int </td><td>STAT1</td><td> 1.972983825</td><td> 1.91233652</td><td>7.113771e-01</td></tr>\n",
       "\t<tr><td>T_CD8_NonNaive T_CD8_arrested STAT1     </td><td> 2905.0</td><td>7.991814e-01</td><td>Wilcoxon rank sum test with continuity correction</td><td>two.sided</td><td>T_CD8_NonNaive</td><td>T_CD8_arrested     </td><td>STAT1</td><td> 2.039154500</td><td> 1.92023475</td><td>8.391608e-01</td></tr>\n",
       "\t<tr><td>T_CD8_NonNaive T_CD8_IFNresponse SP1    </td><td>24082.0</td><td>4.379256e-07</td><td>Wilcoxon rank sum test with continuity correction</td><td>two.sided</td><td>T_CD8_NonNaive</td><td>T_CD8_IFNresponse  </td><td>SP1  </td><td>-0.281593449</td><td> 0.13797720</td><td>2.252189e-06</td></tr>\n",
       "\t<tr><td>T_CD8_NonNaive T_CD8_eff_HOBIT SP1      </td><td>10539.0</td><td>4.428040e-06</td><td>Wilcoxon rank sum test with continuity correction</td><td>two.sided</td><td>T_CD8_NonNaive</td><td>T_CD8_eff_HOBIT    </td><td>SP1  </td><td>-0.395657358</td><td> 0.11479247</td><td>1.771216e-05</td></tr>\n",
       "\t<tr><td>T_CD8_NonNaive T_CD8_CM SP1             </td><td>55575.0</td><td>9.785354e-05</td><td>Wilcoxon rank sum test with continuity correction</td><td>two.sided</td><td>T_CD8_NonNaive</td><td>T_CD8_CM           </td><td>SP1  </td><td> 0.291385817</td><td> 0.03980657</td><td>2.935606e-04</td></tr>\n",
       "\t<tr><td>T_CD8_NonNaive T_CD8_activated SP1      </td><td>47555.0</td><td>1.613790e-04</td><td>Wilcoxon rank sum test with continuity correction</td><td>two.sided</td><td>T_CD8_NonNaive</td><td>T_CD8_activated    </td><td>SP1  </td><td> 0.391054713</td><td> 0.03254866</td><td>4.468957e-04</td></tr>\n",
       "\t<tr><td>T_CD8_NonNaive T_CD8_EM_CX3CR1int SP1   </td><td>31278.0</td><td>3.015076e-04</td><td>Wilcoxon rank sum test with continuity correction</td><td>two.sided</td><td>T_CD8_NonNaive</td><td>T_CD8_EM_CX3CR1int </td><td>SP1  </td><td>-0.153567280</td><td> 0.12574949</td><td>7.236183e-04</td></tr>\n",
       "\t<tr><td>T_CD8_NonNaive T_CD8_EM_CX3CR1high SP1  </td><td>44594.0</td><td>1.354003e-02</td><td>Wilcoxon rank sum test with continuity correction</td><td>two.sided</td><td>T_CD8_NonNaive</td><td>T_CD8_EM_CX3CR1high</td><td>SP1  </td><td> 0.226572780</td><td> 0.06044751</td><td>2.708006e-02</td></tr>\n",
       "\t<tr><td>T_CD8_NonNaive T_CD8_Mem_cytotoxic SP1  </td><td>41937.0</td><td>2.960379e-01</td><td>Wilcoxon rank sum test with continuity correction</td><td>two.sided</td><td>T_CD8_NonNaive</td><td>T_CD8_Mem_cytotoxic</td><td>SP1  </td><td> 0.139733616</td><td> 0.07498587</td><td>4.440569e-01</td></tr>\n",
       "\t<tr><td>T_CD8_NonNaive T_CD8_arrested SP1       </td><td> 3060.0</td><td>6.091415e-01</td><td>Wilcoxon rank sum test with continuity correction</td><td>two.sided</td><td>T_CD8_NonNaive</td><td>T_CD8_arrested     </td><td>SP1  </td><td> 0.336117260</td><td> 0.08229830</td><td>7.113771e-01</td></tr>\n",
       "\t<tr><td>T_CD8_NonNaive T_CD8_CM_stem SP1        </td><td>12176.0</td><td>7.778081e-01</td><td>Wilcoxon rank sum test with continuity correction</td><td>two.sided</td><td>T_CD8_NonNaive</td><td>T_CD8_CM_stem      </td><td>SP1  </td><td> 0.037250707</td><td> 0.08659212</td><td>8.391608e-01</td></tr>\n",
       "</tbody>\n",
       "</table>\n"
      ],
      "text/latex": [
       "A tibble: 36 × 11\n",
       "\\begin{tabular}{lllllllllll}\n",
       " comparison & statistic & p.value & method & alternative & Level1 & Level2 & TF & mean\\_one & mean\\_all & pval\\_adj\\\\\n",
       " <chr> & <dbl> & <dbl> & <chr> & <chr> & <chr> & <fct> & <fct> & <dbl> & <dbl> & <dbl>\\\\\n",
       "\\hline\n",
       "\t ILC NK\\_lowRibocontent SP1                &  8964.0 & 1.283159e-09 & Wilcoxon rank sum test with continuity correction & two.sided & ILC            & NK\\_lowRibocontent   & SP1   & -0.342425391 &  0.20283399 & 1.154843e-08\\\\\n",
       "\t ILC NK\\_adaptive SP1                      & 27821.0 & 3.469194e-05 & Wilcoxon rank sum test with continuity correction & two.sided & ILC            & NK\\_adaptive         & SP1   &  0.409337594 &  0.06087694 & 1.135373e-04\\\\\n",
       "\t ILC NK\\_CD56dimCD16 SP1                   & 31022.0 & 1.289171e-03 & Wilcoxon rank sum test with continuity correction & two.sided & ILC            & NK\\_CD56dimCD16      & SP1   &  0.312912263 &  0.06838008 & 2.900636e-03\\\\\n",
       "\t ILC NK\\_IFN1response SP1                  & 10179.0 & 8.454847e-02 & Wilcoxon rank sum test with continuity correction & two.sided & ILC            & NK\\_IFN1response     & SP1   &  0.003605688 &  0.14268336 & 1.449402e-01\\\\\n",
       "\t ILC NK\\_CD56high SP1                      & 22554.0 & 1.123243e-01 & Wilcoxon rank sum test with continuity correction & two.sided & ILC            & NK\\_CD56high         & SP1   & -0.009442693 &  0.17171453 & 1.838033e-01\\\\\n",
       "\t ILC NK\\_CD16high SP1                      & 12245.0 & 4.722113e-01 & Wilcoxon rank sum test with continuity correction & two.sided & ILC            & NK\\_CD16high         & SP1   &  0.204182768 &  0.12204616 & 6.299905e-01\\\\\n",
       "\t Mono Mono\\_IFNresponse STAT1              & 51741.0 & 3.066814e-21 & Wilcoxon rank sum test with continuity correction & two.sided & Mono           & Mono\\_IFNresponse    & STAT1 &  2.450774366 &  1.14031489 & 1.104053e-19\\\\\n",
       "\t Mono Mono\\_regulatory STAT1               & 12725.0 & 3.095138e-09 & Wilcoxon rank sum test with continuity correction & two.sided & Mono           & Mono\\_regulatory     & STAT1 &  0.529648683 &  1.56074646 & 2.228499e-08\\\\\n",
       "\t Mono Mono\\_nonClassical STAT1             & 26507.0 & 2.326705e-04 & Wilcoxon rank sum test with continuity correction & two.sided & Mono           & Mono\\_nonClassical   & STAT1 &  0.941861006 &  1.56626926 & 5.982955e-04\\\\\n",
       "\t Mono Mono\\_classical STAT1                & 31484.0 & 1.201500e-01 & Wilcoxon rank sum test with continuity correction & two.sided & Mono           & Mono\\_classical      & STAT1 &  1.298654408 &  1.46953068 & 1.880608e-01\\\\\n",
       "\t Mono Mono\\_inflammatory STAT1             & 33416.0 & 6.149804e-01 & Wilcoxon rank sum test with continuity correction & two.sided & Mono           & Mono\\_inflammatory   & STAT1 &  1.542972504 &  1.40121352 & 7.113771e-01\\\\\n",
       "\t Mono Mono\\_nonClassical SP1               & 20730.5 & 1.281910e-11 & Wilcoxon rank sum test with continuity correction & two.sided & Mono           & Mono\\_nonClassical   & SP1   & -1.211077888 & -0.35624828 & 2.307437e-10\\\\\n",
       "\t Mono Mono\\_regulatory SP1                 & 30991.0 & 5.360783e-10 & Wilcoxon rank sum test with continuity correction & two.sided & Mono           & Mono\\_regulatory     & SP1   &  0.304331910 & -0.66362540 & 6.432940e-09\\\\\n",
       "\t Mono Mono\\_IFNresponse SP1                & 24485.0 & 5.578143e-07 & Wilcoxon rank sum test with continuity correction & two.sided & Mono           & Mono\\_IFNresponse    & SP1   & -1.060695749 & -0.39382744 & 2.510164e-06\\\\\n",
       "\t Mono Mono\\_inflammatory SP1               & 40666.0 & 9.224156e-06 & Wilcoxon rank sum test with continuity correction & two.sided & Mono           & Mono\\_inflammatory   & SP1   & -0.066810481 & -0.66708130 & 3.320696e-05\\\\\n",
       "\t Mono Mono\\_classical SP1                  & 39000.5 & 1.619172e-02 & Wilcoxon rank sum test with continuity correction & two.sided & Mono           & Mono\\_classical      & SP1   & -0.301205945 & -0.61206856 & 2.914510e-02\\\\\n",
       "\t Plasma Plasma\\_IGHA STAT1                 &    18.0 & 8.391608e-01 & Wilcoxon rank sum exact test                      & two.sided & Plasma         & Plasma\\_IGHA         & STAT1 &  2.805365525 &  2.88366398 & 8.391608e-01\\\\\n",
       "\t Plasma Plasma\\_IGHG STAT1                 &    22.0 & 8.391608e-01 & Wilcoxon rank sum exact test                      & two.sided & Plasma         & Plasma\\_IGHG         & STAT1 &  2.883663975 &  2.80536553 & 8.391608e-01\\\\\n",
       "\t T\\_CD8\\_NonNaive T\\_CD8\\_IFNresponse STAT1   & 47096.0 & 1.607323e-08 & Wilcoxon rank sum test with continuity correction & two.sided & T\\_CD8\\_NonNaive & T\\_CD8\\_IFNresponse   & STAT1 &  3.019348082 &  1.76101798 & 9.643936e-08\\\\\n",
       "\t T\\_CD8\\_NonNaive T\\_CD8\\_eff\\_HOBIT STAT1     & 13083.0 & 3.500681e-03 & Wilcoxon rank sum test with continuity correction & two.sided & T\\_CD8\\_NonNaive & T\\_CD8\\_eff\\_HOBIT     & STAT1 &  1.110410106 &  1.97237174 & 7.413207e-03\\\\\n",
       "\t T\\_CD8\\_NonNaive T\\_CD8\\_CM STAT1            & 39946.0 & 1.466042e-02 & Wilcoxon rank sum test with continuity correction & two.sided & T\\_CD8\\_NonNaive & T\\_CD8\\_CM            & STAT1 &  1.559708534 &  1.99947806 & 2.777763e-02\\\\\n",
       "\t T\\_CD8\\_NonNaive T\\_CD8\\_CM\\_stem STAT1       & 11361.0 & 3.602745e-01 & Wilcoxon rank sum test with continuity correction & two.sided & T\\_CD8\\_NonNaive & T\\_CD8\\_CM\\_stem       & STAT1 &  1.602339365 &  1.93513342 & 5.187952e-01\\\\\n",
       "\t T\\_CD8\\_NonNaive T\\_CD8\\_Mem\\_cytotoxic STAT1 & 37902.0 & 4.724929e-01 & Wilcoxon rank sum test with continuity correction & two.sided & T\\_CD8\\_NonNaive & T\\_CD8\\_Mem\\_cytotoxic & STAT1 &  1.786170303 &  1.94466963 & 6.299905e-01\\\\\n",
       "\t T\\_CD8\\_NonNaive T\\_CD8\\_EM\\_CX3CR1high STAT1 & 37448.0 & 4.987417e-01 & Wilcoxon rank sum test with continuity correction & two.sided & T\\_CD8\\_NonNaive & T\\_CD8\\_EM\\_CX3CR1high & STAT1 &  1.841636296 &  1.93479413 & 6.412393e-01\\\\\n",
       "\t T\\_CD8\\_NonNaive T\\_CD8\\_activated STAT1     & 40414.0 & 5.294001e-01 & Wilcoxon rank sum test with continuity correction & two.sided & T\\_CD8\\_NonNaive & T\\_CD8\\_activated     & STAT1 &  1.980484988 &  1.91124310 & 6.571863e-01\\\\\n",
       "\t T\\_CD8\\_NonNaive T\\_CD8\\_EM\\_CX3CR1int STAT1  & 40641.0 & 6.323352e-01 & Wilcoxon rank sum test with continuity correction & two.sided & T\\_CD8\\_NonNaive & T\\_CD8\\_EM\\_CX3CR1int  & STAT1 &  1.972983825 &  1.91233652 & 7.113771e-01\\\\\n",
       "\t T\\_CD8\\_NonNaive T\\_CD8\\_arrested STAT1      &  2905.0 & 7.991814e-01 & Wilcoxon rank sum test with continuity correction & two.sided & T\\_CD8\\_NonNaive & T\\_CD8\\_arrested      & STAT1 &  2.039154500 &  1.92023475 & 8.391608e-01\\\\\n",
       "\t T\\_CD8\\_NonNaive T\\_CD8\\_IFNresponse SP1     & 24082.0 & 4.379256e-07 & Wilcoxon rank sum test with continuity correction & two.sided & T\\_CD8\\_NonNaive & T\\_CD8\\_IFNresponse   & SP1   & -0.281593449 &  0.13797720 & 2.252189e-06\\\\\n",
       "\t T\\_CD8\\_NonNaive T\\_CD8\\_eff\\_HOBIT SP1       & 10539.0 & 4.428040e-06 & Wilcoxon rank sum test with continuity correction & two.sided & T\\_CD8\\_NonNaive & T\\_CD8\\_eff\\_HOBIT     & SP1   & -0.395657358 &  0.11479247 & 1.771216e-05\\\\\n",
       "\t T\\_CD8\\_NonNaive T\\_CD8\\_CM SP1              & 55575.0 & 9.785354e-05 & Wilcoxon rank sum test with continuity correction & two.sided & T\\_CD8\\_NonNaive & T\\_CD8\\_CM            & SP1   &  0.291385817 &  0.03980657 & 2.935606e-04\\\\\n",
       "\t T\\_CD8\\_NonNaive T\\_CD8\\_activated SP1       & 47555.0 & 1.613790e-04 & Wilcoxon rank sum test with continuity correction & two.sided & T\\_CD8\\_NonNaive & T\\_CD8\\_activated     & SP1   &  0.391054713 &  0.03254866 & 4.468957e-04\\\\\n",
       "\t T\\_CD8\\_NonNaive T\\_CD8\\_EM\\_CX3CR1int SP1    & 31278.0 & 3.015076e-04 & Wilcoxon rank sum test with continuity correction & two.sided & T\\_CD8\\_NonNaive & T\\_CD8\\_EM\\_CX3CR1int  & SP1   & -0.153567280 &  0.12574949 & 7.236183e-04\\\\\n",
       "\t T\\_CD8\\_NonNaive T\\_CD8\\_EM\\_CX3CR1high SP1   & 44594.0 & 1.354003e-02 & Wilcoxon rank sum test with continuity correction & two.sided & T\\_CD8\\_NonNaive & T\\_CD8\\_EM\\_CX3CR1high & SP1   &  0.226572780 &  0.06044751 & 2.708006e-02\\\\\n",
       "\t T\\_CD8\\_NonNaive T\\_CD8\\_Mem\\_cytotoxic SP1   & 41937.0 & 2.960379e-01 & Wilcoxon rank sum test with continuity correction & two.sided & T\\_CD8\\_NonNaive & T\\_CD8\\_Mem\\_cytotoxic & SP1   &  0.139733616 &  0.07498587 & 4.440569e-01\\\\\n",
       "\t T\\_CD8\\_NonNaive T\\_CD8\\_arrested SP1        &  3060.0 & 6.091415e-01 & Wilcoxon rank sum test with continuity correction & two.sided & T\\_CD8\\_NonNaive & T\\_CD8\\_arrested      & SP1   &  0.336117260 &  0.08229830 & 7.113771e-01\\\\\n",
       "\t T\\_CD8\\_NonNaive T\\_CD8\\_CM\\_stem SP1         & 12176.0 & 7.778081e-01 & Wilcoxon rank sum test with continuity correction & two.sided & T\\_CD8\\_NonNaive & T\\_CD8\\_CM\\_stem       & SP1   &  0.037250707 &  0.08659212 & 8.391608e-01\\\\\n",
       "\\end{tabular}\n"
      ],
      "text/markdown": [
       "\n",
       "A tibble: 36 × 11\n",
       "\n",
       "| comparison &lt;chr&gt; | statistic &lt;dbl&gt; | p.value &lt;dbl&gt; | method &lt;chr&gt; | alternative &lt;chr&gt; | Level1 &lt;chr&gt; | Level2 &lt;fct&gt; | TF &lt;fct&gt; | mean_one &lt;dbl&gt; | mean_all &lt;dbl&gt; | pval_adj &lt;dbl&gt; |\n",
       "|---|---|---|---|---|---|---|---|---|---|---|\n",
       "| ILC NK_lowRibocontent SP1                |  8964.0 | 1.283159e-09 | Wilcoxon rank sum test with continuity correction | two.sided | ILC            | NK_lowRibocontent   | SP1   | -0.342425391 |  0.20283399 | 1.154843e-08 |\n",
       "| ILC NK_adaptive SP1                      | 27821.0 | 3.469194e-05 | Wilcoxon rank sum test with continuity correction | two.sided | ILC            | NK_adaptive         | SP1   |  0.409337594 |  0.06087694 | 1.135373e-04 |\n",
       "| ILC NK_CD56dimCD16 SP1                   | 31022.0 | 1.289171e-03 | Wilcoxon rank sum test with continuity correction | two.sided | ILC            | NK_CD56dimCD16      | SP1   |  0.312912263 |  0.06838008 | 2.900636e-03 |\n",
       "| ILC NK_IFN1response SP1                  | 10179.0 | 8.454847e-02 | Wilcoxon rank sum test with continuity correction | two.sided | ILC            | NK_IFN1response     | SP1   |  0.003605688 |  0.14268336 | 1.449402e-01 |\n",
       "| ILC NK_CD56high SP1                      | 22554.0 | 1.123243e-01 | Wilcoxon rank sum test with continuity correction | two.sided | ILC            | NK_CD56high         | SP1   | -0.009442693 |  0.17171453 | 1.838033e-01 |\n",
       "| ILC NK_CD16high SP1                      | 12245.0 | 4.722113e-01 | Wilcoxon rank sum test with continuity correction | two.sided | ILC            | NK_CD16high         | SP1   |  0.204182768 |  0.12204616 | 6.299905e-01 |\n",
       "| Mono Mono_IFNresponse STAT1              | 51741.0 | 3.066814e-21 | Wilcoxon rank sum test with continuity correction | two.sided | Mono           | Mono_IFNresponse    | STAT1 |  2.450774366 |  1.14031489 | 1.104053e-19 |\n",
       "| Mono Mono_regulatory STAT1               | 12725.0 | 3.095138e-09 | Wilcoxon rank sum test with continuity correction | two.sided | Mono           | Mono_regulatory     | STAT1 |  0.529648683 |  1.56074646 | 2.228499e-08 |\n",
       "| Mono Mono_nonClassical STAT1             | 26507.0 | 2.326705e-04 | Wilcoxon rank sum test with continuity correction | two.sided | Mono           | Mono_nonClassical   | STAT1 |  0.941861006 |  1.56626926 | 5.982955e-04 |\n",
       "| Mono Mono_classical STAT1                | 31484.0 | 1.201500e-01 | Wilcoxon rank sum test with continuity correction | two.sided | Mono           | Mono_classical      | STAT1 |  1.298654408 |  1.46953068 | 1.880608e-01 |\n",
       "| Mono Mono_inflammatory STAT1             | 33416.0 | 6.149804e-01 | Wilcoxon rank sum test with continuity correction | two.sided | Mono           | Mono_inflammatory   | STAT1 |  1.542972504 |  1.40121352 | 7.113771e-01 |\n",
       "| Mono Mono_nonClassical SP1               | 20730.5 | 1.281910e-11 | Wilcoxon rank sum test with continuity correction | two.sided | Mono           | Mono_nonClassical   | SP1   | -1.211077888 | -0.35624828 | 2.307437e-10 |\n",
       "| Mono Mono_regulatory SP1                 | 30991.0 | 5.360783e-10 | Wilcoxon rank sum test with continuity correction | two.sided | Mono           | Mono_regulatory     | SP1   |  0.304331910 | -0.66362540 | 6.432940e-09 |\n",
       "| Mono Mono_IFNresponse SP1                | 24485.0 | 5.578143e-07 | Wilcoxon rank sum test with continuity correction | two.sided | Mono           | Mono_IFNresponse    | SP1   | -1.060695749 | -0.39382744 | 2.510164e-06 |\n",
       "| Mono Mono_inflammatory SP1               | 40666.0 | 9.224156e-06 | Wilcoxon rank sum test with continuity correction | two.sided | Mono           | Mono_inflammatory   | SP1   | -0.066810481 | -0.66708130 | 3.320696e-05 |\n",
       "| Mono Mono_classical SP1                  | 39000.5 | 1.619172e-02 | Wilcoxon rank sum test with continuity correction | two.sided | Mono           | Mono_classical      | SP1   | -0.301205945 | -0.61206856 | 2.914510e-02 |\n",
       "| Plasma Plasma_IGHA STAT1                 |    18.0 | 8.391608e-01 | Wilcoxon rank sum exact test                      | two.sided | Plasma         | Plasma_IGHA         | STAT1 |  2.805365525 |  2.88366398 | 8.391608e-01 |\n",
       "| Plasma Plasma_IGHG STAT1                 |    22.0 | 8.391608e-01 | Wilcoxon rank sum exact test                      | two.sided | Plasma         | Plasma_IGHG         | STAT1 |  2.883663975 |  2.80536553 | 8.391608e-01 |\n",
       "| T_CD8_NonNaive T_CD8_IFNresponse STAT1   | 47096.0 | 1.607323e-08 | Wilcoxon rank sum test with continuity correction | two.sided | T_CD8_NonNaive | T_CD8_IFNresponse   | STAT1 |  3.019348082 |  1.76101798 | 9.643936e-08 |\n",
       "| T_CD8_NonNaive T_CD8_eff_HOBIT STAT1     | 13083.0 | 3.500681e-03 | Wilcoxon rank sum test with continuity correction | two.sided | T_CD8_NonNaive | T_CD8_eff_HOBIT     | STAT1 |  1.110410106 |  1.97237174 | 7.413207e-03 |\n",
       "| T_CD8_NonNaive T_CD8_CM STAT1            | 39946.0 | 1.466042e-02 | Wilcoxon rank sum test with continuity correction | two.sided | T_CD8_NonNaive | T_CD8_CM            | STAT1 |  1.559708534 |  1.99947806 | 2.777763e-02 |\n",
       "| T_CD8_NonNaive T_CD8_CM_stem STAT1       | 11361.0 | 3.602745e-01 | Wilcoxon rank sum test with continuity correction | two.sided | T_CD8_NonNaive | T_CD8_CM_stem       | STAT1 |  1.602339365 |  1.93513342 | 5.187952e-01 |\n",
       "| T_CD8_NonNaive T_CD8_Mem_cytotoxic STAT1 | 37902.0 | 4.724929e-01 | Wilcoxon rank sum test with continuity correction | two.sided | T_CD8_NonNaive | T_CD8_Mem_cytotoxic | STAT1 |  1.786170303 |  1.94466963 | 6.299905e-01 |\n",
       "| T_CD8_NonNaive T_CD8_EM_CX3CR1high STAT1 | 37448.0 | 4.987417e-01 | Wilcoxon rank sum test with continuity correction | two.sided | T_CD8_NonNaive | T_CD8_EM_CX3CR1high | STAT1 |  1.841636296 |  1.93479413 | 6.412393e-01 |\n",
       "| T_CD8_NonNaive T_CD8_activated STAT1     | 40414.0 | 5.294001e-01 | Wilcoxon rank sum test with continuity correction | two.sided | T_CD8_NonNaive | T_CD8_activated     | STAT1 |  1.980484988 |  1.91124310 | 6.571863e-01 |\n",
       "| T_CD8_NonNaive T_CD8_EM_CX3CR1int STAT1  | 40641.0 | 6.323352e-01 | Wilcoxon rank sum test with continuity correction | two.sided | T_CD8_NonNaive | T_CD8_EM_CX3CR1int  | STAT1 |  1.972983825 |  1.91233652 | 7.113771e-01 |\n",
       "| T_CD8_NonNaive T_CD8_arrested STAT1      |  2905.0 | 7.991814e-01 | Wilcoxon rank sum test with continuity correction | two.sided | T_CD8_NonNaive | T_CD8_arrested      | STAT1 |  2.039154500 |  1.92023475 | 8.391608e-01 |\n",
       "| T_CD8_NonNaive T_CD8_IFNresponse SP1     | 24082.0 | 4.379256e-07 | Wilcoxon rank sum test with continuity correction | two.sided | T_CD8_NonNaive | T_CD8_IFNresponse   | SP1   | -0.281593449 |  0.13797720 | 2.252189e-06 |\n",
       "| T_CD8_NonNaive T_CD8_eff_HOBIT SP1       | 10539.0 | 4.428040e-06 | Wilcoxon rank sum test with continuity correction | two.sided | T_CD8_NonNaive | T_CD8_eff_HOBIT     | SP1   | -0.395657358 |  0.11479247 | 1.771216e-05 |\n",
       "| T_CD8_NonNaive T_CD8_CM SP1              | 55575.0 | 9.785354e-05 | Wilcoxon rank sum test with continuity correction | two.sided | T_CD8_NonNaive | T_CD8_CM            | SP1   |  0.291385817 |  0.03980657 | 2.935606e-04 |\n",
       "| T_CD8_NonNaive T_CD8_activated SP1       | 47555.0 | 1.613790e-04 | Wilcoxon rank sum test with continuity correction | two.sided | T_CD8_NonNaive | T_CD8_activated     | SP1   |  0.391054713 |  0.03254866 | 4.468957e-04 |\n",
       "| T_CD8_NonNaive T_CD8_EM_CX3CR1int SP1    | 31278.0 | 3.015076e-04 | Wilcoxon rank sum test with continuity correction | two.sided | T_CD8_NonNaive | T_CD8_EM_CX3CR1int  | SP1   | -0.153567280 |  0.12574949 | 7.236183e-04 |\n",
       "| T_CD8_NonNaive T_CD8_EM_CX3CR1high SP1   | 44594.0 | 1.354003e-02 | Wilcoxon rank sum test with continuity correction | two.sided | T_CD8_NonNaive | T_CD8_EM_CX3CR1high | SP1   |  0.226572780 |  0.06044751 | 2.708006e-02 |\n",
       "| T_CD8_NonNaive T_CD8_Mem_cytotoxic SP1   | 41937.0 | 2.960379e-01 | Wilcoxon rank sum test with continuity correction | two.sided | T_CD8_NonNaive | T_CD8_Mem_cytotoxic | SP1   |  0.139733616 |  0.07498587 | 4.440569e-01 |\n",
       "| T_CD8_NonNaive T_CD8_arrested SP1        |  3060.0 | 6.091415e-01 | Wilcoxon rank sum test with continuity correction | two.sided | T_CD8_NonNaive | T_CD8_arrested      | SP1   |  0.336117260 |  0.08229830 | 7.113771e-01 |\n",
       "| T_CD8_NonNaive T_CD8_CM_stem SP1         | 12176.0 | 7.778081e-01 | Wilcoxon rank sum test with continuity correction | two.sided | T_CD8_NonNaive | T_CD8_CM_stem       | SP1   |  0.037250707 |  0.08659212 | 8.391608e-01 |\n",
       "\n"
      ],
      "text/plain": [
       "   comparison                               statistic p.value     \n",
       "1  ILC NK_lowRibocontent SP1                 8964.0   1.283159e-09\n",
       "2  ILC NK_adaptive SP1                      27821.0   3.469194e-05\n",
       "3  ILC NK_CD56dimCD16 SP1                   31022.0   1.289171e-03\n",
       "4  ILC NK_IFN1response SP1                  10179.0   8.454847e-02\n",
       "5  ILC NK_CD56high SP1                      22554.0   1.123243e-01\n",
       "6  ILC NK_CD16high SP1                      12245.0   4.722113e-01\n",
       "7  Mono Mono_IFNresponse STAT1              51741.0   3.066814e-21\n",
       "8  Mono Mono_regulatory STAT1               12725.0   3.095138e-09\n",
       "9  Mono Mono_nonClassical STAT1             26507.0   2.326705e-04\n",
       "10 Mono Mono_classical STAT1                31484.0   1.201500e-01\n",
       "11 Mono Mono_inflammatory STAT1             33416.0   6.149804e-01\n",
       "12 Mono Mono_nonClassical SP1               20730.5   1.281910e-11\n",
       "13 Mono Mono_regulatory SP1                 30991.0   5.360783e-10\n",
       "14 Mono Mono_IFNresponse SP1                24485.0   5.578143e-07\n",
       "15 Mono Mono_inflammatory SP1               40666.0   9.224156e-06\n",
       "16 Mono Mono_classical SP1                  39000.5   1.619172e-02\n",
       "17 Plasma Plasma_IGHA STAT1                    18.0   8.391608e-01\n",
       "18 Plasma Plasma_IGHG STAT1                    22.0   8.391608e-01\n",
       "19 T_CD8_NonNaive T_CD8_IFNresponse STAT1   47096.0   1.607323e-08\n",
       "20 T_CD8_NonNaive T_CD8_eff_HOBIT STAT1     13083.0   3.500681e-03\n",
       "21 T_CD8_NonNaive T_CD8_CM STAT1            39946.0   1.466042e-02\n",
       "22 T_CD8_NonNaive T_CD8_CM_stem STAT1       11361.0   3.602745e-01\n",
       "23 T_CD8_NonNaive T_CD8_Mem_cytotoxic STAT1 37902.0   4.724929e-01\n",
       "24 T_CD8_NonNaive T_CD8_EM_CX3CR1high STAT1 37448.0   4.987417e-01\n",
       "25 T_CD8_NonNaive T_CD8_activated STAT1     40414.0   5.294001e-01\n",
       "26 T_CD8_NonNaive T_CD8_EM_CX3CR1int STAT1  40641.0   6.323352e-01\n",
       "27 T_CD8_NonNaive T_CD8_arrested STAT1       2905.0   7.991814e-01\n",
       "28 T_CD8_NonNaive T_CD8_IFNresponse SP1     24082.0   4.379256e-07\n",
       "29 T_CD8_NonNaive T_CD8_eff_HOBIT SP1       10539.0   4.428040e-06\n",
       "30 T_CD8_NonNaive T_CD8_CM SP1              55575.0   9.785354e-05\n",
       "31 T_CD8_NonNaive T_CD8_activated SP1       47555.0   1.613790e-04\n",
       "32 T_CD8_NonNaive T_CD8_EM_CX3CR1int SP1    31278.0   3.015076e-04\n",
       "33 T_CD8_NonNaive T_CD8_EM_CX3CR1high SP1   44594.0   1.354003e-02\n",
       "34 T_CD8_NonNaive T_CD8_Mem_cytotoxic SP1   41937.0   2.960379e-01\n",
       "35 T_CD8_NonNaive T_CD8_arrested SP1         3060.0   6.091415e-01\n",
       "36 T_CD8_NonNaive T_CD8_CM_stem SP1         12176.0   7.778081e-01\n",
       "   method                                            alternative Level1        \n",
       "1  Wilcoxon rank sum test with continuity correction two.sided   ILC           \n",
       "2  Wilcoxon rank sum test with continuity correction two.sided   ILC           \n",
       "3  Wilcoxon rank sum test with continuity correction two.sided   ILC           \n",
       "4  Wilcoxon rank sum test with continuity correction two.sided   ILC           \n",
       "5  Wilcoxon rank sum test with continuity correction two.sided   ILC           \n",
       "6  Wilcoxon rank sum test with continuity correction two.sided   ILC           \n",
       "7  Wilcoxon rank sum test with continuity correction two.sided   Mono          \n",
       "8  Wilcoxon rank sum test with continuity correction two.sided   Mono          \n",
       "9  Wilcoxon rank sum test with continuity correction two.sided   Mono          \n",
       "10 Wilcoxon rank sum test with continuity correction two.sided   Mono          \n",
       "11 Wilcoxon rank sum test with continuity correction two.sided   Mono          \n",
       "12 Wilcoxon rank sum test with continuity correction two.sided   Mono          \n",
       "13 Wilcoxon rank sum test with continuity correction two.sided   Mono          \n",
       "14 Wilcoxon rank sum test with continuity correction two.sided   Mono          \n",
       "15 Wilcoxon rank sum test with continuity correction two.sided   Mono          \n",
       "16 Wilcoxon rank sum test with continuity correction two.sided   Mono          \n",
       "17 Wilcoxon rank sum exact test                      two.sided   Plasma        \n",
       "18 Wilcoxon rank sum exact test                      two.sided   Plasma        \n",
       "19 Wilcoxon rank sum test with continuity correction two.sided   T_CD8_NonNaive\n",
       "20 Wilcoxon rank sum test with continuity correction two.sided   T_CD8_NonNaive\n",
       "21 Wilcoxon rank sum test with continuity correction two.sided   T_CD8_NonNaive\n",
       "22 Wilcoxon rank sum test with continuity correction two.sided   T_CD8_NonNaive\n",
       "23 Wilcoxon rank sum test with continuity correction two.sided   T_CD8_NonNaive\n",
       "24 Wilcoxon rank sum test with continuity correction two.sided   T_CD8_NonNaive\n",
       "25 Wilcoxon rank sum test with continuity correction two.sided   T_CD8_NonNaive\n",
       "26 Wilcoxon rank sum test with continuity correction two.sided   T_CD8_NonNaive\n",
       "27 Wilcoxon rank sum test with continuity correction two.sided   T_CD8_NonNaive\n",
       "28 Wilcoxon rank sum test with continuity correction two.sided   T_CD8_NonNaive\n",
       "29 Wilcoxon rank sum test with continuity correction two.sided   T_CD8_NonNaive\n",
       "30 Wilcoxon rank sum test with continuity correction two.sided   T_CD8_NonNaive\n",
       "31 Wilcoxon rank sum test with continuity correction two.sided   T_CD8_NonNaive\n",
       "32 Wilcoxon rank sum test with continuity correction two.sided   T_CD8_NonNaive\n",
       "33 Wilcoxon rank sum test with continuity correction two.sided   T_CD8_NonNaive\n",
       "34 Wilcoxon rank sum test with continuity correction two.sided   T_CD8_NonNaive\n",
       "35 Wilcoxon rank sum test with continuity correction two.sided   T_CD8_NonNaive\n",
       "36 Wilcoxon rank sum test with continuity correction two.sided   T_CD8_NonNaive\n",
       "   Level2              TF    mean_one     mean_all    pval_adj    \n",
       "1  NK_lowRibocontent   SP1   -0.342425391  0.20283399 1.154843e-08\n",
       "2  NK_adaptive         SP1    0.409337594  0.06087694 1.135373e-04\n",
       "3  NK_CD56dimCD16      SP1    0.312912263  0.06838008 2.900636e-03\n",
       "4  NK_IFN1response     SP1    0.003605688  0.14268336 1.449402e-01\n",
       "5  NK_CD56high         SP1   -0.009442693  0.17171453 1.838033e-01\n",
       "6  NK_CD16high         SP1    0.204182768  0.12204616 6.299905e-01\n",
       "7  Mono_IFNresponse    STAT1  2.450774366  1.14031489 1.104053e-19\n",
       "8  Mono_regulatory     STAT1  0.529648683  1.56074646 2.228499e-08\n",
       "9  Mono_nonClassical   STAT1  0.941861006  1.56626926 5.982955e-04\n",
       "10 Mono_classical      STAT1  1.298654408  1.46953068 1.880608e-01\n",
       "11 Mono_inflammatory   STAT1  1.542972504  1.40121352 7.113771e-01\n",
       "12 Mono_nonClassical   SP1   -1.211077888 -0.35624828 2.307437e-10\n",
       "13 Mono_regulatory     SP1    0.304331910 -0.66362540 6.432940e-09\n",
       "14 Mono_IFNresponse    SP1   -1.060695749 -0.39382744 2.510164e-06\n",
       "15 Mono_inflammatory   SP1   -0.066810481 -0.66708130 3.320696e-05\n",
       "16 Mono_classical      SP1   -0.301205945 -0.61206856 2.914510e-02\n",
       "17 Plasma_IGHA         STAT1  2.805365525  2.88366398 8.391608e-01\n",
       "18 Plasma_IGHG         STAT1  2.883663975  2.80536553 8.391608e-01\n",
       "19 T_CD8_IFNresponse   STAT1  3.019348082  1.76101798 9.643936e-08\n",
       "20 T_CD8_eff_HOBIT     STAT1  1.110410106  1.97237174 7.413207e-03\n",
       "21 T_CD8_CM            STAT1  1.559708534  1.99947806 2.777763e-02\n",
       "22 T_CD8_CM_stem       STAT1  1.602339365  1.93513342 5.187952e-01\n",
       "23 T_CD8_Mem_cytotoxic STAT1  1.786170303  1.94466963 6.299905e-01\n",
       "24 T_CD8_EM_CX3CR1high STAT1  1.841636296  1.93479413 6.412393e-01\n",
       "25 T_CD8_activated     STAT1  1.980484988  1.91124310 6.571863e-01\n",
       "26 T_CD8_EM_CX3CR1int  STAT1  1.972983825  1.91233652 7.113771e-01\n",
       "27 T_CD8_arrested      STAT1  2.039154500  1.92023475 8.391608e-01\n",
       "28 T_CD8_IFNresponse   SP1   -0.281593449  0.13797720 2.252189e-06\n",
       "29 T_CD8_eff_HOBIT     SP1   -0.395657358  0.11479247 1.771216e-05\n",
       "30 T_CD8_CM            SP1    0.291385817  0.03980657 2.935606e-04\n",
       "31 T_CD8_activated     SP1    0.391054713  0.03254866 4.468957e-04\n",
       "32 T_CD8_EM_CX3CR1int  SP1   -0.153567280  0.12574949 7.236183e-04\n",
       "33 T_CD8_EM_CX3CR1high SP1    0.226572780  0.06044751 2.708006e-02\n",
       "34 T_CD8_Mem_cytotoxic SP1    0.139733616  0.07498587 4.440569e-01\n",
       "35 T_CD8_arrested      SP1    0.336117260  0.08229830 7.113771e-01\n",
       "36 T_CD8_CM_stem       SP1    0.037250707  0.08659212 8.391608e-01"
      ]
     },
     "metadata": {},
     "output_type": "display_data"
    }
   ],
   "source": [
    "library(dplyr)\n",
    "\n",
    "# Assuming final_comparison_results is already created\n",
    "final_comparison_results_adjusted <- final_comparison_results %>%\n",
    "  # Adjust p-values globally first\n",
    "  mutate(\n",
    "    pval_adj = p.adjust(p.value, method = \"BH\")\n",
    "  ) %>%\n",
    "  # Group by TFs to adjust p-values within each TF group\n",
    "  #group_by(TF) %>%\n",
    "  #mutate(\n",
    "  #  pval_adj_indep = p.adjust(p.value, method = \"BH\")\n",
    "  #) %>%\n",
    "  #ungroup() %>%\n",
    "  # Filter based on the unadjusted p-value\n",
    "  #filter(pval_adj < 0.05) %>%\n",
    "  # Arrange by p-value to see the most significant results first\n",
    "  arrange(Level1, TF, pval_adj)\n",
    "\n",
    "output_path <- \"results/supplementary_tables/SLE_Level2_pval.csv\"\n",
    "write.csv(final_comparison_results_adjusted, output_path, row.names = FALSE)\n",
    "\n",
    "# Print the adjusted and filtered results\n",
    "final_comparison_results_adjusted\n"
   ]
  },
  {
   "cell_type": "markdown",
   "id": "e75a2d52-e517-4c8b-9ce8-0783d135adf8",
   "metadata": {},
   "source": [
    "**Boxplots**"
   ]
  },
  {
   "cell_type": "code",
   "execution_count": null,
   "id": "3c0bc441-91df-42ee-8285-c8257446459c",
   "metadata": {},
   "outputs": [],
   "source": [
    "plot_l2 <- ggboxplot(toplot_level2, x = \"Level2\", y = \"activity\", fill = \"Level2\") +\n",
    "    facet_grid(rows = vars(TF), cols = vars(Level1), scales = \"free_x\"\n",
    "              ) +\n",
    "    scale_fill_manual(values = cell_level2_colors) +\n",
    "    theme_bw() +\n",
    "    ggtitle(label = \"\") +\n",
    "    theme(\n",
    "        axis.text.x = element_text(angle = 90, vjust = 0.5, hjust=0.5)\n",
    "    )"
   ]
  },
  {
   "cell_type": "code",
   "execution_count": 36,
   "id": "528ac353-4301-4fb8-b90b-b627f5000503",
   "metadata": {
    "execution": {
     "iopub.execute_input": "2024-07-12T10:20:33.639377Z",
     "iopub.status.busy": "2024-07-12T10:20:33.637866Z",
     "iopub.status.idle": "2024-07-12T10:20:52.957803Z",
     "shell.execute_reply": "2024-07-12T10:20:52.956059Z"
    }
   },
   "outputs": [],
   "source": [
    "ggsave(\n",
    "    plot_l2,\n",
    "    filename = \"sle_TFactivity_level2_test.pdf\",\n",
    "    device = \"pdf\",\n",
    "    width = 20,\n",
    "    height = 8,\n",
    "    path = outputpath)"
   ]
  },
  {
   "cell_type": "code",
   "execution_count": 37,
   "id": "8c804c48-0252-4f14-88ec-624eef27f73c",
   "metadata": {
    "execution": {
     "iopub.execute_input": "2024-07-12T10:21:35.232843Z",
     "iopub.status.busy": "2024-07-12T10:21:35.231485Z",
     "iopub.status.idle": "2024-07-12T10:21:39.469730Z",
     "shell.execute_reply": "2024-07-12T10:21:39.468345Z"
    }
   },
   "outputs": [
    {
     "data": {
      "text/html": [
       "'results/'"
      ],
      "text/latex": [
       "'results/'"
      ],
      "text/markdown": [
       "'results/'"
      ],
      "text/plain": [
       "[1] \"results/\""
      ]
     },
     "metadata": {},
     "output_type": "display_data"
    }
   ],
   "source": [
    "outputpath"
   ]
  },
  {
   "cell_type": "markdown",
   "id": "7e953d1f-51cf-4dc5-84d5-5e80de0a79f1",
   "metadata": {},
   "source": [
    "## Flare comparison"
   ]
  },
  {
   "cell_type": "code",
   "execution_count": 4,
   "id": "ccfdc3d0-e41b-462c-9c54-57cbab25f6ef",
   "metadata": {
    "execution": {
     "iopub.execute_input": "2024-07-08T07:20:52.127118Z",
     "iopub.status.busy": "2024-07-08T07:20:52.125754Z",
     "iopub.status.idle": "2024-07-08T07:20:52.142125Z",
     "shell.execute_reply": "2024-07-08T07:20:52.140112Z"
    }
   },
   "outputs": [],
   "source": [
    "tf_order <- c(\"STAT1\", \"SP1\")\n",
    "l1_cell_type_order <- names(cell_colors)\n",
    "l2_cell_type_order <- names(cell_level2_colors)"
   ]
  },
  {
   "cell_type": "code",
   "execution_count": 5,
   "id": "8c5cd079-42f0-41bd-b1d8-5198beb6ae69",
   "metadata": {
    "execution": {
     "iopub.execute_input": "2024-07-08T07:20:53.049273Z",
     "iopub.status.busy": "2024-07-08T07:20:53.047529Z",
     "iopub.status.idle": "2024-07-08T07:20:53.060880Z",
     "shell.execute_reply": "2024-07-08T07:20:53.058691Z"
    }
   },
   "outputs": [],
   "source": [
    "flare_palette <- c(\n",
    "  \"F\" = \"#e76f51\",\n",
    "  \"notF\" = \"#e9c46a\"\n",
    ")"
   ]
  },
  {
   "cell_type": "code",
   "execution_count": 6,
   "id": "d218376c-8bf4-4c30-81f7-c7296e7cd187",
   "metadata": {
    "execution": {
     "iopub.execute_input": "2024-07-08T07:20:56.066049Z",
     "iopub.status.busy": "2024-07-08T07:20:56.062896Z",
     "iopub.status.idle": "2024-07-08T07:20:56.124993Z",
     "shell.execute_reply": "2024-07-08T07:20:56.122688Z"
    }
   },
   "outputs": [],
   "source": [
    "data_flare_level2 <-\n",
    "    perez2022_level2 %>%\n",
    "    mutate(\n",
    "        Flare = case_when(Flare == \"not_F\" ~ \"notF\",\n",
    "        TRUE ~ as.character(Flare))\n",
    "    ) %>%\n",
    "    filter(\n",
    "        Flare %in% c(\"notF\", \"F\")\n",
    "    ) %>%\n",
    "    tidyr::pivot_longer(\n",
    "        cols = c(STAT1, SP1),\n",
    "        names_to = \"TF\",\n",
    "        values_to = \"activity\"\n",
    "        ) %>%\n",
    "    filter(\n",
    "        !is.na(activity),\n",
    "        #Level1 %in% pvals_flare$Level1\n",
    "    ) %>%\n",
    "  mutate(\n",
    "    Level1 = factor(Level1, levels = l1_cell_type_order),\n",
    "    Level2 = factor(Level2, levels = l2_cell_type_order),\n",
    "    TF = factor(TF, levels = tf_order)\n",
    "  )\n"
   ]
  },
  {
   "cell_type": "code",
   "execution_count": 20,
   "id": "a04b5a02-32f4-4156-babe-28d1d7d0cebb",
   "metadata": {
    "execution": {
     "iopub.execute_input": "2024-07-08T07:35:35.908467Z",
     "iopub.status.busy": "2024-07-08T07:35:35.907181Z",
     "iopub.status.idle": "2024-07-08T07:35:35.969644Z",
     "shell.execute_reply": "2024-07-08T07:35:35.968368Z"
    }
   },
   "outputs": [
    {
     "name": "stderr",
     "output_type": "stream",
     "text": [
      "\u001b[1m\u001b[22m`summarise()` has grouped output by 'Level2'. You can override using the `.groups` argument.\n"
     ]
    },
    {
     "data": {
      "text/html": [
       "<table class=\"dataframe\">\n",
       "<caption>A grouped_df: 46 × 3</caption>\n",
       "<thead>\n",
       "\t<tr><th scope=col>Level2</th><th scope=col>Flare</th><th scope=col>sample_count</th></tr>\n",
       "\t<tr><th scope=col>&lt;fct&gt;</th><th scope=col>&lt;chr&gt;</th><th scope=col>&lt;int&gt;</th></tr>\n",
       "</thead>\n",
       "<tbody>\n",
       "\t<tr><td>Plasma_IGHA        </td><td>notF</td><td>  5</td></tr>\n",
       "\t<tr><td>Plasma_IGHG        </td><td>F   </td><td>  1</td></tr>\n",
       "\t<tr><td>pDC                </td><td>F   </td><td>  2</td></tr>\n",
       "\t<tr><td>pDC                </td><td>notF</td><td> 60</td></tr>\n",
       "\t<tr><td>Mono_classical     </td><td>F   </td><td>  9</td></tr>\n",
       "\t<tr><td>Mono_classical     </td><td>notF</td><td>115</td></tr>\n",
       "\t<tr><td>Mono_nonClassical  </td><td>F   </td><td>  7</td></tr>\n",
       "\t<tr><td>Mono_nonClassical  </td><td>notF</td><td>114</td></tr>\n",
       "\t<tr><td>Mono_inflammatory  </td><td>F   </td><td>  6</td></tr>\n",
       "\t<tr><td>Mono_inflammatory  </td><td>notF</td><td>107</td></tr>\n",
       "\t<tr><td>Mono_IFNresponse   </td><td>F   </td><td>  9</td></tr>\n",
       "\t<tr><td>Mono_IFNresponse   </td><td>notF</td><td>114</td></tr>\n",
       "\t<tr><td>Mono_regulatory    </td><td>F   </td><td>  1</td></tr>\n",
       "\t<tr><td>Mono_regulatory    </td><td>notF</td><td> 62</td></tr>\n",
       "\t<tr><td>T_CD4_Naive        </td><td>F   </td><td>  9</td></tr>\n",
       "\t<tr><td>T_CD4_Naive        </td><td>notF</td><td>115</td></tr>\n",
       "\t<tr><td>T_CD8_Naive        </td><td>F   </td><td>  9</td></tr>\n",
       "\t<tr><td>T_CD8_Naive        </td><td>notF</td><td>111</td></tr>\n",
       "\t<tr><td>T_CD8_CM           </td><td>F   </td><td>  9</td></tr>\n",
       "\t<tr><td>T_CD8_CM           </td><td>notF</td><td>114</td></tr>\n",
       "\t<tr><td>T_CD8_CM_stem      </td><td>F   </td><td>  3</td></tr>\n",
       "\t<tr><td>T_CD8_CM_stem      </td><td>notF</td><td> 19</td></tr>\n",
       "\t<tr><td>T_CD8_EM_CX3CR1high</td><td>F   </td><td>  5</td></tr>\n",
       "\t<tr><td>T_CD8_EM_CX3CR1high</td><td>notF</td><td> 98</td></tr>\n",
       "\t<tr><td>T_CD8_EM_CX3CR1int </td><td>F   </td><td>  6</td></tr>\n",
       "\t<tr><td>T_CD8_EM_CX3CR1int </td><td>notF</td><td>101</td></tr>\n",
       "\t<tr><td>T_CD8_eff_HOBIT    </td><td>F   </td><td>  4</td></tr>\n",
       "\t<tr><td>T_CD8_eff_HOBIT    </td><td>notF</td><td> 39</td></tr>\n",
       "\t<tr><td>T_CD8_IFNresponse  </td><td>F   </td><td>  5</td></tr>\n",
       "\t<tr><td>T_CD8_IFNresponse  </td><td>notF</td><td> 78</td></tr>\n",
       "\t<tr><td>T_CD8_Mem_cytotoxic</td><td>F   </td><td>  6</td></tr>\n",
       "\t<tr><td>T_CD8_Mem_cytotoxic</td><td>notF</td><td>105</td></tr>\n",
       "\t<tr><td>T_CD8_activated    </td><td>F   </td><td>  6</td></tr>\n",
       "\t<tr><td>T_CD8_activated    </td><td>notF</td><td> 93</td></tr>\n",
       "\t<tr><td>T_CD8_arrested     </td><td>notF</td><td>  5</td></tr>\n",
       "\t<tr><td>NK_CD16high        </td><td>F   </td><td>  1</td></tr>\n",
       "\t<tr><td>NK_CD16high        </td><td>notF</td><td> 45</td></tr>\n",
       "\t<tr><td>NK_CD56dimCD16     </td><td>F   </td><td>  8</td></tr>\n",
       "\t<tr><td>NK_CD56dimCD16     </td><td>notF</td><td>112</td></tr>\n",
       "\t<tr><td>NK_CD56high        </td><td>F   </td><td>  5</td></tr>\n",
       "\t<tr><td>NK_CD56high        </td><td>notF</td><td>100</td></tr>\n",
       "\t<tr><td>NK_IFN1response    </td><td>notF</td><td> 36</td></tr>\n",
       "\t<tr><td>NK_adaptive        </td><td>F   </td><td>  4</td></tr>\n",
       "\t<tr><td>NK_adaptive        </td><td>notF</td><td> 88</td></tr>\n",
       "\t<tr><td>NK_lowRibocontent  </td><td>F   </td><td>  6</td></tr>\n",
       "\t<tr><td>NK_lowRibocontent  </td><td>notF</td><td> 47</td></tr>\n",
       "</tbody>\n",
       "</table>\n"
      ],
      "text/latex": [
       "A grouped\\_df: 46 × 3\n",
       "\\begin{tabular}{lll}\n",
       " Level2 & Flare & sample\\_count\\\\\n",
       " <fct> & <chr> & <int>\\\\\n",
       "\\hline\n",
       "\t Plasma\\_IGHA         & notF &   5\\\\\n",
       "\t Plasma\\_IGHG         & F    &   1\\\\\n",
       "\t pDC                 & F    &   2\\\\\n",
       "\t pDC                 & notF &  60\\\\\n",
       "\t Mono\\_classical      & F    &   9\\\\\n",
       "\t Mono\\_classical      & notF & 115\\\\\n",
       "\t Mono\\_nonClassical   & F    &   7\\\\\n",
       "\t Mono\\_nonClassical   & notF & 114\\\\\n",
       "\t Mono\\_inflammatory   & F    &   6\\\\\n",
       "\t Mono\\_inflammatory   & notF & 107\\\\\n",
       "\t Mono\\_IFNresponse    & F    &   9\\\\\n",
       "\t Mono\\_IFNresponse    & notF & 114\\\\\n",
       "\t Mono\\_regulatory     & F    &   1\\\\\n",
       "\t Mono\\_regulatory     & notF &  62\\\\\n",
       "\t T\\_CD4\\_Naive         & F    &   9\\\\\n",
       "\t T\\_CD4\\_Naive         & notF & 115\\\\\n",
       "\t T\\_CD8\\_Naive         & F    &   9\\\\\n",
       "\t T\\_CD8\\_Naive         & notF & 111\\\\\n",
       "\t T\\_CD8\\_CM            & F    &   9\\\\\n",
       "\t T\\_CD8\\_CM            & notF & 114\\\\\n",
       "\t T\\_CD8\\_CM\\_stem       & F    &   3\\\\\n",
       "\t T\\_CD8\\_CM\\_stem       & notF &  19\\\\\n",
       "\t T\\_CD8\\_EM\\_CX3CR1high & F    &   5\\\\\n",
       "\t T\\_CD8\\_EM\\_CX3CR1high & notF &  98\\\\\n",
       "\t T\\_CD8\\_EM\\_CX3CR1int  & F    &   6\\\\\n",
       "\t T\\_CD8\\_EM\\_CX3CR1int  & notF & 101\\\\\n",
       "\t T\\_CD8\\_eff\\_HOBIT     & F    &   4\\\\\n",
       "\t T\\_CD8\\_eff\\_HOBIT     & notF &  39\\\\\n",
       "\t T\\_CD8\\_IFNresponse   & F    &   5\\\\\n",
       "\t T\\_CD8\\_IFNresponse   & notF &  78\\\\\n",
       "\t T\\_CD8\\_Mem\\_cytotoxic & F    &   6\\\\\n",
       "\t T\\_CD8\\_Mem\\_cytotoxic & notF & 105\\\\\n",
       "\t T\\_CD8\\_activated     & F    &   6\\\\\n",
       "\t T\\_CD8\\_activated     & notF &  93\\\\\n",
       "\t T\\_CD8\\_arrested      & notF &   5\\\\\n",
       "\t NK\\_CD16high         & F    &   1\\\\\n",
       "\t NK\\_CD16high         & notF &  45\\\\\n",
       "\t NK\\_CD56dimCD16      & F    &   8\\\\\n",
       "\t NK\\_CD56dimCD16      & notF & 112\\\\\n",
       "\t NK\\_CD56high         & F    &   5\\\\\n",
       "\t NK\\_CD56high         & notF & 100\\\\\n",
       "\t NK\\_IFN1response     & notF &  36\\\\\n",
       "\t NK\\_adaptive         & F    &   4\\\\\n",
       "\t NK\\_adaptive         & notF &  88\\\\\n",
       "\t NK\\_lowRibocontent   & F    &   6\\\\\n",
       "\t NK\\_lowRibocontent   & notF &  47\\\\\n",
       "\\end{tabular}\n"
      ],
      "text/markdown": [
       "\n",
       "A grouped_df: 46 × 3\n",
       "\n",
       "| Level2 &lt;fct&gt; | Flare &lt;chr&gt; | sample_count &lt;int&gt; |\n",
       "|---|---|---|\n",
       "| Plasma_IGHA         | notF |   5 |\n",
       "| Plasma_IGHG         | F    |   1 |\n",
       "| pDC                 | F    |   2 |\n",
       "| pDC                 | notF |  60 |\n",
       "| Mono_classical      | F    |   9 |\n",
       "| Mono_classical      | notF | 115 |\n",
       "| Mono_nonClassical   | F    |   7 |\n",
       "| Mono_nonClassical   | notF | 114 |\n",
       "| Mono_inflammatory   | F    |   6 |\n",
       "| Mono_inflammatory   | notF | 107 |\n",
       "| Mono_IFNresponse    | F    |   9 |\n",
       "| Mono_IFNresponse    | notF | 114 |\n",
       "| Mono_regulatory     | F    |   1 |\n",
       "| Mono_regulatory     | notF |  62 |\n",
       "| T_CD4_Naive         | F    |   9 |\n",
       "| T_CD4_Naive         | notF | 115 |\n",
       "| T_CD8_Naive         | F    |   9 |\n",
       "| T_CD8_Naive         | notF | 111 |\n",
       "| T_CD8_CM            | F    |   9 |\n",
       "| T_CD8_CM            | notF | 114 |\n",
       "| T_CD8_CM_stem       | F    |   3 |\n",
       "| T_CD8_CM_stem       | notF |  19 |\n",
       "| T_CD8_EM_CX3CR1high | F    |   5 |\n",
       "| T_CD8_EM_CX3CR1high | notF |  98 |\n",
       "| T_CD8_EM_CX3CR1int  | F    |   6 |\n",
       "| T_CD8_EM_CX3CR1int  | notF | 101 |\n",
       "| T_CD8_eff_HOBIT     | F    |   4 |\n",
       "| T_CD8_eff_HOBIT     | notF |  39 |\n",
       "| T_CD8_IFNresponse   | F    |   5 |\n",
       "| T_CD8_IFNresponse   | notF |  78 |\n",
       "| T_CD8_Mem_cytotoxic | F    |   6 |\n",
       "| T_CD8_Mem_cytotoxic | notF | 105 |\n",
       "| T_CD8_activated     | F    |   6 |\n",
       "| T_CD8_activated     | notF |  93 |\n",
       "| T_CD8_arrested      | notF |   5 |\n",
       "| NK_CD16high         | F    |   1 |\n",
       "| NK_CD16high         | notF |  45 |\n",
       "| NK_CD56dimCD16      | F    |   8 |\n",
       "| NK_CD56dimCD16      | notF | 112 |\n",
       "| NK_CD56high         | F    |   5 |\n",
       "| NK_CD56high         | notF | 100 |\n",
       "| NK_IFN1response     | notF |  36 |\n",
       "| NK_adaptive         | F    |   4 |\n",
       "| NK_adaptive         | notF |  88 |\n",
       "| NK_lowRibocontent   | F    |   6 |\n",
       "| NK_lowRibocontent   | notF |  47 |\n",
       "\n"
      ],
      "text/plain": [
       "   Level2              Flare sample_count\n",
       "1  Plasma_IGHA         notF    5         \n",
       "2  Plasma_IGHG         F       1         \n",
       "3  pDC                 F       2         \n",
       "4  pDC                 notF   60         \n",
       "5  Mono_classical      F       9         \n",
       "6  Mono_classical      notF  115         \n",
       "7  Mono_nonClassical   F       7         \n",
       "8  Mono_nonClassical   notF  114         \n",
       "9  Mono_inflammatory   F       6         \n",
       "10 Mono_inflammatory   notF  107         \n",
       "11 Mono_IFNresponse    F       9         \n",
       "12 Mono_IFNresponse    notF  114         \n",
       "13 Mono_regulatory     F       1         \n",
       "14 Mono_regulatory     notF   62         \n",
       "15 T_CD4_Naive         F       9         \n",
       "16 T_CD4_Naive         notF  115         \n",
       "17 T_CD8_Naive         F       9         \n",
       "18 T_CD8_Naive         notF  111         \n",
       "19 T_CD8_CM            F       9         \n",
       "20 T_CD8_CM            notF  114         \n",
       "21 T_CD8_CM_stem       F       3         \n",
       "22 T_CD8_CM_stem       notF   19         \n",
       "23 T_CD8_EM_CX3CR1high F       5         \n",
       "24 T_CD8_EM_CX3CR1high notF   98         \n",
       "25 T_CD8_EM_CX3CR1int  F       6         \n",
       "26 T_CD8_EM_CX3CR1int  notF  101         \n",
       "27 T_CD8_eff_HOBIT     F       4         \n",
       "28 T_CD8_eff_HOBIT     notF   39         \n",
       "29 T_CD8_IFNresponse   F       5         \n",
       "30 T_CD8_IFNresponse   notF   78         \n",
       "31 T_CD8_Mem_cytotoxic F       6         \n",
       "32 T_CD8_Mem_cytotoxic notF  105         \n",
       "33 T_CD8_activated     F       6         \n",
       "34 T_CD8_activated     notF   93         \n",
       "35 T_CD8_arrested      notF    5         \n",
       "36 NK_CD16high         F       1         \n",
       "37 NK_CD16high         notF   45         \n",
       "38 NK_CD56dimCD16      F       8         \n",
       "39 NK_CD56dimCD16      notF  112         \n",
       "40 NK_CD56high         F       5         \n",
       "41 NK_CD56high         notF  100         \n",
       "42 NK_IFN1response     notF   36         \n",
       "43 NK_adaptive         F       4         \n",
       "44 NK_adaptive         notF   88         \n",
       "45 NK_lowRibocontent   F       6         \n",
       "46 NK_lowRibocontent   notF   47         "
      ]
     },
     "metadata": {},
     "output_type": "display_data"
    }
   ],
   "source": [
    "flare_counts <- data_flare_level2 %>%\n",
    "  group_by(Level2, Flare) %>%\n",
    "  summarise(sample_count = n_distinct(sampleID))\n",
    "flare_counts"
   ]
  },
  {
   "cell_type": "code",
   "execution_count": 41,
   "id": "9cc08e55-6899-4c7c-a32b-dee506a7354b",
   "metadata": {
    "execution": {
     "iopub.execute_input": "2024-07-08T08:01:22.289920Z",
     "iopub.status.busy": "2024-07-08T08:01:22.288735Z",
     "iopub.status.idle": "2024-07-08T08:01:22.331954Z",
     "shell.execute_reply": "2024-07-08T08:01:22.330709Z"
    }
   },
   "outputs": [
    {
     "name": "stderr",
     "output_type": "stream",
     "text": [
      "\u001b[1m\u001b[22m`summarise()` has grouped output by 'Level2'. You can override using the `.groups` argument.\n"
     ]
    },
    {
     "data": {
      "text/html": [
       "<style>\n",
       ".list-inline {list-style: none; margin:0; padding: 0}\n",
       ".list-inline>li {display: inline-block}\n",
       ".list-inline>li:not(:last-child)::after {content: \"\\00b7\"; padding: 0 .5ex}\n",
       "</style>\n",
       "<ol class=list-inline><li>Mono_classical</li><li>Mono_nonClassical</li><li>Mono_inflammatory</li><li>Mono_IFNresponse</li><li>T_CD4_Naive</li><li>T_CD8_Naive</li><li>T_CD8_CM</li><li>T_CD8_CM_stem</li><li>T_CD8_EM_CX3CR1high</li><li>T_CD8_EM_CX3CR1int</li><li>T_CD8_eff_HOBIT</li><li>T_CD8_IFNresponse</li><li>T_CD8_Mem_cytotoxic</li><li>T_CD8_activated</li><li>NK_CD56dimCD16</li><li>NK_CD56high</li><li>NK_adaptive</li><li>NK_lowRibocontent</li></ol>\n",
       "\n",
       "<details>\n",
       "\t<summary style=display:list-item;cursor:pointer>\n",
       "\t\t<strong>Levels</strong>:\n",
       "\t</summary>\n",
       "\t<style>\n",
       "\t.list-inline {list-style: none; margin:0; padding: 0}\n",
       "\t.list-inline>li {display: inline-block}\n",
       "\t.list-inline>li:not(:last-child)::after {content: \"\\00b7\"; padding: 0 .5ex}\n",
       "\t</style>\n",
       "\t<ol class=list-inline><li>'B_Transitional'</li><li>'B_Naive'</li><li>'B_Naive_activated'</li><li>'B_Memory_ITGAX'</li><li>'B_Memory_switched'</li><li>'B_Memory_unswitched'</li><li>'B_IFNresponder'</li><li>'Plasma_IGHA'</li><li>'Plasma_IGHG'</li><li>'Plasma_XBP1'</li><li>'Plasma_Proliferative'</li><li>'pDC'</li><li>'cDC1'</li><li>'cDC2'</li><li>'cDC3'</li><li>'DC4'</li><li>'DC5'</li><li>'DC_CCR7'</li><li>'DC_Proliferative'</li><li>'Mono_classical'</li><li>'Mono_nonClassical'</li><li>'Mono_inflammatory'</li><li>'Mono_IFNresponse'</li><li>'Mono_regulatory'</li><li>'T_CD4_Naive'</li><li>'T_CD4_CM'</li><li>'T_CD4_CM_ribo'</li><li>'T_CD4_EM'</li><li>'T_CD4_EMRA'</li><li>'T_CD4_eff'</li><li>'Th0'</li><li>'Th1'</li><li>'Th2'</li><li>'Tregs'</li><li>'Tregs_activated'</li><li>'T_CD8_Naive'</li><li>'T_CD8_CM'</li><li>'T_CD8_CM_stem'</li><li>'T_CD8_EM_CX3CR1high'</li><li>'T_CD8_EM_CX3CR1int'</li><li>'T_CD8_eff_HOBIT'</li><li>'T_CD8_IFNresponse'</li><li>'T_CD8_Mem_cytotoxic'</li><li>'T_CD8_activated'</li><li>'T_CD8_arrested'</li><li>'T_Proliferative'</li><li>'gdT_V1'</li><li>'gdT_V2_Vγ9'</li><li>'MAIT'</li><li>'MAIT_17'</li><li>'NK_CD16high'</li><li>'NK_CD56dimCD16'</li><li>'NK_CD56high'</li><li>'NK_IFN1response'</li><li>'NK_adaptive'</li><li>'NK_lowRibocontent'</li><li>'NK_Proliferative'</li><li>'HSC_LMP'</li><li>'HSC_MEMP'</li><li>'HSC_MMP'</li><li>'B_Progenitors'</li><li>'T_Progenitors'</li><li>'Platelet'</li><li>'HBcell'</li></ol>\n",
       "</details>"
      ],
      "text/latex": [
       "\\begin{enumerate*}\n",
       "\\item Mono\\_classical\n",
       "\\item Mono\\_nonClassical\n",
       "\\item Mono\\_inflammatory\n",
       "\\item Mono\\_IFNresponse\n",
       "\\item T\\_CD4\\_Naive\n",
       "\\item T\\_CD8\\_Naive\n",
       "\\item T\\_CD8\\_CM\n",
       "\\item T\\_CD8\\_CM\\_stem\n",
       "\\item T\\_CD8\\_EM\\_CX3CR1high\n",
       "\\item T\\_CD8\\_EM\\_CX3CR1int\n",
       "\\item T\\_CD8\\_eff\\_HOBIT\n",
       "\\item T\\_CD8\\_IFNresponse\n",
       "\\item T\\_CD8\\_Mem\\_cytotoxic\n",
       "\\item T\\_CD8\\_activated\n",
       "\\item NK\\_CD56dimCD16\n",
       "\\item NK\\_CD56high\n",
       "\\item NK\\_adaptive\n",
       "\\item NK\\_lowRibocontent\n",
       "\\end{enumerate*}\n",
       "\n",
       "\\emph{Levels}: \\begin{enumerate*}\n",
       "\\item 'B\\_Transitional'\n",
       "\\item 'B\\_Naive'\n",
       "\\item 'B\\_Naive\\_activated'\n",
       "\\item 'B\\_Memory\\_ITGAX'\n",
       "\\item 'B\\_Memory\\_switched'\n",
       "\\item 'B\\_Memory\\_unswitched'\n",
       "\\item 'B\\_IFNresponder'\n",
       "\\item 'Plasma\\_IGHA'\n",
       "\\item 'Plasma\\_IGHG'\n",
       "\\item 'Plasma\\_XBP1'\n",
       "\\item 'Plasma\\_Proliferative'\n",
       "\\item 'pDC'\n",
       "\\item 'cDC1'\n",
       "\\item 'cDC2'\n",
       "\\item 'cDC3'\n",
       "\\item 'DC4'\n",
       "\\item 'DC5'\n",
       "\\item 'DC\\_CCR7'\n",
       "\\item 'DC\\_Proliferative'\n",
       "\\item 'Mono\\_classical'\n",
       "\\item 'Mono\\_nonClassical'\n",
       "\\item 'Mono\\_inflammatory'\n",
       "\\item 'Mono\\_IFNresponse'\n",
       "\\item 'Mono\\_regulatory'\n",
       "\\item 'T\\_CD4\\_Naive'\n",
       "\\item 'T\\_CD4\\_CM'\n",
       "\\item 'T\\_CD4\\_CM\\_ribo'\n",
       "\\item 'T\\_CD4\\_EM'\n",
       "\\item 'T\\_CD4\\_EMRA'\n",
       "\\item 'T\\_CD4\\_eff'\n",
       "\\item 'Th0'\n",
       "\\item 'Th1'\n",
       "\\item 'Th2'\n",
       "\\item 'Tregs'\n",
       "\\item 'Tregs\\_activated'\n",
       "\\item 'T\\_CD8\\_Naive'\n",
       "\\item 'T\\_CD8\\_CM'\n",
       "\\item 'T\\_CD8\\_CM\\_stem'\n",
       "\\item 'T\\_CD8\\_EM\\_CX3CR1high'\n",
       "\\item 'T\\_CD8\\_EM\\_CX3CR1int'\n",
       "\\item 'T\\_CD8\\_eff\\_HOBIT'\n",
       "\\item 'T\\_CD8\\_IFNresponse'\n",
       "\\item 'T\\_CD8\\_Mem\\_cytotoxic'\n",
       "\\item 'T\\_CD8\\_activated'\n",
       "\\item 'T\\_CD8\\_arrested'\n",
       "\\item 'T\\_Proliferative'\n",
       "\\item 'gdT\\_V1'\n",
       "\\item 'gdT\\_V2\\_Vγ9'\n",
       "\\item 'MAIT'\n",
       "\\item 'MAIT\\_17'\n",
       "\\item 'NK\\_CD16high'\n",
       "\\item 'NK\\_CD56dimCD16'\n",
       "\\item 'NK\\_CD56high'\n",
       "\\item 'NK\\_IFN1response'\n",
       "\\item 'NK\\_adaptive'\n",
       "\\item 'NK\\_lowRibocontent'\n",
       "\\item 'NK\\_Proliferative'\n",
       "\\item 'HSC\\_LMP'\n",
       "\\item 'HSC\\_MEMP'\n",
       "\\item 'HSC\\_MMP'\n",
       "\\item 'B\\_Progenitors'\n",
       "\\item 'T\\_Progenitors'\n",
       "\\item 'Platelet'\n",
       "\\item 'HBcell'\n",
       "\\end{enumerate*}\n"
      ],
      "text/markdown": [
       "1. Mono_classical\n",
       "2. Mono_nonClassical\n",
       "3. Mono_inflammatory\n",
       "4. Mono_IFNresponse\n",
       "5. T_CD4_Naive\n",
       "6. T_CD8_Naive\n",
       "7. T_CD8_CM\n",
       "8. T_CD8_CM_stem\n",
       "9. T_CD8_EM_CX3CR1high\n",
       "10. T_CD8_EM_CX3CR1int\n",
       "11. T_CD8_eff_HOBIT\n",
       "12. T_CD8_IFNresponse\n",
       "13. T_CD8_Mem_cytotoxic\n",
       "14. T_CD8_activated\n",
       "15. NK_CD56dimCD16\n",
       "16. NK_CD56high\n",
       "17. NK_adaptive\n",
       "18. NK_lowRibocontent\n",
       "\n",
       "\n",
       "\n",
       "**Levels**: 1. 'B_Transitional'\n",
       "2. 'B_Naive'\n",
       "3. 'B_Naive_activated'\n",
       "4. 'B_Memory_ITGAX'\n",
       "5. 'B_Memory_switched'\n",
       "6. 'B_Memory_unswitched'\n",
       "7. 'B_IFNresponder'\n",
       "8. 'Plasma_IGHA'\n",
       "9. 'Plasma_IGHG'\n",
       "10. 'Plasma_XBP1'\n",
       "11. 'Plasma_Proliferative'\n",
       "12. 'pDC'\n",
       "13. 'cDC1'\n",
       "14. 'cDC2'\n",
       "15. 'cDC3'\n",
       "16. 'DC4'\n",
       "17. 'DC5'\n",
       "18. 'DC_CCR7'\n",
       "19. 'DC_Proliferative'\n",
       "20. 'Mono_classical'\n",
       "21. 'Mono_nonClassical'\n",
       "22. 'Mono_inflammatory'\n",
       "23. 'Mono_IFNresponse'\n",
       "24. 'Mono_regulatory'\n",
       "25. 'T_CD4_Naive'\n",
       "26. 'T_CD4_CM'\n",
       "27. 'T_CD4_CM_ribo'\n",
       "28. 'T_CD4_EM'\n",
       "29. 'T_CD4_EMRA'\n",
       "30. 'T_CD4_eff'\n",
       "31. 'Th0'\n",
       "32. 'Th1'\n",
       "33. 'Th2'\n",
       "34. 'Tregs'\n",
       "35. 'Tregs_activated'\n",
       "36. 'T_CD8_Naive'\n",
       "37. 'T_CD8_CM'\n",
       "38. 'T_CD8_CM_stem'\n",
       "39. 'T_CD8_EM_CX3CR1high'\n",
       "40. 'T_CD8_EM_CX3CR1int'\n",
       "41. 'T_CD8_eff_HOBIT'\n",
       "42. 'T_CD8_IFNresponse'\n",
       "43. 'T_CD8_Mem_cytotoxic'\n",
       "44. 'T_CD8_activated'\n",
       "45. 'T_CD8_arrested'\n",
       "46. 'T_Proliferative'\n",
       "47. 'gdT_V1'\n",
       "48. 'gdT_V2_Vγ9'\n",
       "49. 'MAIT'\n",
       "50. 'MAIT_17'\n",
       "51. 'NK_CD16high'\n",
       "52. 'NK_CD56dimCD16'\n",
       "53. 'NK_CD56high'\n",
       "54. 'NK_IFN1response'\n",
       "55. 'NK_adaptive'\n",
       "56. 'NK_lowRibocontent'\n",
       "57. 'NK_Proliferative'\n",
       "58. 'HSC_LMP'\n",
       "59. 'HSC_MEMP'\n",
       "60. 'HSC_MMP'\n",
       "61. 'B_Progenitors'\n",
       "62. 'T_Progenitors'\n",
       "63. 'Platelet'\n",
       "64. 'HBcell'\n",
       "\n",
       "\n"
      ],
      "text/plain": [
       " [1] Mono_classical      Mono_nonClassical   Mono_inflammatory  \n",
       " [4] Mono_IFNresponse    T_CD4_Naive         T_CD8_Naive        \n",
       " [7] T_CD8_CM            T_CD8_CM_stem       T_CD8_EM_CX3CR1high\n",
       "[10] T_CD8_EM_CX3CR1int  T_CD8_eff_HOBIT     T_CD8_IFNresponse  \n",
       "[13] T_CD8_Mem_cytotoxic T_CD8_activated     NK_CD56dimCD16     \n",
       "[16] NK_CD56high         NK_adaptive         NK_lowRibocontent  \n",
       "64 Levels: B_Transitional B_Naive B_Naive_activated ... HBcell"
      ]
     },
     "metadata": {},
     "output_type": "display_data"
    }
   ],
   "source": [
    "flare_counts <- data_flare_level2 %>%\n",
    "  group_by(Level2, Flare) %>%\n",
    "  summarise(sample_count = n_distinct(sampleID)) %>%\n",
    "  filter(sample_count >= 3) %>%\n",
    "  group_by(Level2) %>%\n",
    "  filter(all(c(\"F\", \"notF\") %in% Flare)) %>%\n",
    "  ungroup()\n",
    "level2_categories <- unique(flare_counts$Level2)\n",
    "level2_categories"
   ]
  },
  {
   "cell_type": "code",
   "execution_count": 42,
   "id": "80310b21-bd73-41a9-845b-f2843b44ddbc",
   "metadata": {
    "execution": {
     "iopub.execute_input": "2024-07-08T08:01:23.636374Z",
     "iopub.status.busy": "2024-07-08T08:01:23.635406Z",
     "iopub.status.idle": "2024-07-08T08:01:23.699339Z",
     "shell.execute_reply": "2024-07-08T08:01:23.697963Z"
    }
   },
   "outputs": [
    {
     "name": "stderr",
     "output_type": "stream",
     "text": [
      "\u001b[1m\u001b[22m`summarise()` has grouped output by 'level_1', 'Level1', 'Level2', 'TF'. You can override using the `.groups` argument.\n"
     ]
    }
   ],
   "source": [
    "mean_activity_df <- data_flare_level2 %>%\n",
    "  group_by(level_1, Level1, Level2, TF, Flare) %>%\n",
    "  summarize(mean_activity = mean(activity, na.rm = TRUE)) %>%\n",
    "  ungroup() %>%\n",
    "  mutate(level_1_TF = paste(level_1, TF, sep = \"_\")) %>%\n",
    "  column_to_rownames(var = \"level_1_TF\") %>%\n",
    "  filter(Level2 %in% level2_categories)\n"
   ]
  },
  {
   "cell_type": "code",
   "execution_count": 43,
   "id": "ff25b22d-323b-4847-af4a-419d751fed49",
   "metadata": {
    "execution": {
     "iopub.execute_input": "2024-07-08T08:01:24.748943Z",
     "iopub.status.busy": "2024-07-08T08:01:24.747655Z",
     "iopub.status.idle": "2024-07-08T08:01:24.761596Z",
     "shell.execute_reply": "2024-07-08T08:01:24.760390Z"
    }
   },
   "outputs": [
    {
     "data": {
      "text/html": [
       "<style>\n",
       ".list-inline {list-style: none; margin:0; padding: 0}\n",
       ".list-inline>li {display: inline-block}\n",
       ".list-inline>li:not(:last-child)::after {content: \"\\00b7\"; padding: 0 .5ex}\n",
       "</style>\n",
       "<ol class=list-inline><li>Mono_IFNresponse</li><li>Mono_classical</li><li>Mono_inflammatory</li><li>Mono_nonClassical</li><li>NK_CD56dimCD16</li><li>NK_CD56high</li><li>NK_adaptive</li><li>T_CD4_Naive</li><li>T_CD8_CM</li><li>T_CD8_EM_CX3CR1high</li><li>T_CD8_EM_CX3CR1int</li><li>T_CD8_IFNresponse</li><li>T_CD8_Mem_cytotoxic</li><li>T_CD8_Naive</li><li>T_CD8_activated</li><li>T_CD8_CM_stem</li><li>T_CD8_eff_HOBIT</li><li>NK_lowRibocontent</li></ol>\n",
       "\n",
       "<details>\n",
       "\t<summary style=display:list-item;cursor:pointer>\n",
       "\t\t<strong>Levels</strong>:\n",
       "\t</summary>\n",
       "\t<style>\n",
       "\t.list-inline {list-style: none; margin:0; padding: 0}\n",
       "\t.list-inline>li {display: inline-block}\n",
       "\t.list-inline>li:not(:last-child)::after {content: \"\\00b7\"; padding: 0 .5ex}\n",
       "\t</style>\n",
       "\t<ol class=list-inline><li>'B_Transitional'</li><li>'B_Naive'</li><li>'B_Naive_activated'</li><li>'B_Memory_ITGAX'</li><li>'B_Memory_switched'</li><li>'B_Memory_unswitched'</li><li>'B_IFNresponder'</li><li>'Plasma_IGHA'</li><li>'Plasma_IGHG'</li><li>'Plasma_XBP1'</li><li>'Plasma_Proliferative'</li><li>'pDC'</li><li>'cDC1'</li><li>'cDC2'</li><li>'cDC3'</li><li>'DC4'</li><li>'DC5'</li><li>'DC_CCR7'</li><li>'DC_Proliferative'</li><li>'Mono_classical'</li><li>'Mono_nonClassical'</li><li>'Mono_inflammatory'</li><li>'Mono_IFNresponse'</li><li>'Mono_regulatory'</li><li>'T_CD4_Naive'</li><li>'T_CD4_CM'</li><li>'T_CD4_CM_ribo'</li><li>'T_CD4_EM'</li><li>'T_CD4_EMRA'</li><li>'T_CD4_eff'</li><li>'Th0'</li><li>'Th1'</li><li>'Th2'</li><li>'Tregs'</li><li>'Tregs_activated'</li><li>'T_CD8_Naive'</li><li>'T_CD8_CM'</li><li>'T_CD8_CM_stem'</li><li>'T_CD8_EM_CX3CR1high'</li><li>'T_CD8_EM_CX3CR1int'</li><li>'T_CD8_eff_HOBIT'</li><li>'T_CD8_IFNresponse'</li><li>'T_CD8_Mem_cytotoxic'</li><li>'T_CD8_activated'</li><li>'T_CD8_arrested'</li><li>'T_Proliferative'</li><li>'gdT_V1'</li><li>'gdT_V2_Vγ9'</li><li>'MAIT'</li><li>'MAIT_17'</li><li>'NK_CD16high'</li><li>'NK_CD56dimCD16'</li><li>'NK_CD56high'</li><li>'NK_IFN1response'</li><li>'NK_adaptive'</li><li>'NK_lowRibocontent'</li><li>'NK_Proliferative'</li><li>'HSC_LMP'</li><li>'HSC_MEMP'</li><li>'HSC_MMP'</li><li>'B_Progenitors'</li><li>'T_Progenitors'</li><li>'Platelet'</li><li>'HBcell'</li></ol>\n",
       "</details>"
      ],
      "text/latex": [
       "\\begin{enumerate*}\n",
       "\\item Mono\\_IFNresponse\n",
       "\\item Mono\\_classical\n",
       "\\item Mono\\_inflammatory\n",
       "\\item Mono\\_nonClassical\n",
       "\\item NK\\_CD56dimCD16\n",
       "\\item NK\\_CD56high\n",
       "\\item NK\\_adaptive\n",
       "\\item T\\_CD4\\_Naive\n",
       "\\item T\\_CD8\\_CM\n",
       "\\item T\\_CD8\\_EM\\_CX3CR1high\n",
       "\\item T\\_CD8\\_EM\\_CX3CR1int\n",
       "\\item T\\_CD8\\_IFNresponse\n",
       "\\item T\\_CD8\\_Mem\\_cytotoxic\n",
       "\\item T\\_CD8\\_Naive\n",
       "\\item T\\_CD8\\_activated\n",
       "\\item T\\_CD8\\_CM\\_stem\n",
       "\\item T\\_CD8\\_eff\\_HOBIT\n",
       "\\item NK\\_lowRibocontent\n",
       "\\end{enumerate*}\n",
       "\n",
       "\\emph{Levels}: \\begin{enumerate*}\n",
       "\\item 'B\\_Transitional'\n",
       "\\item 'B\\_Naive'\n",
       "\\item 'B\\_Naive\\_activated'\n",
       "\\item 'B\\_Memory\\_ITGAX'\n",
       "\\item 'B\\_Memory\\_switched'\n",
       "\\item 'B\\_Memory\\_unswitched'\n",
       "\\item 'B\\_IFNresponder'\n",
       "\\item 'Plasma\\_IGHA'\n",
       "\\item 'Plasma\\_IGHG'\n",
       "\\item 'Plasma\\_XBP1'\n",
       "\\item 'Plasma\\_Proliferative'\n",
       "\\item 'pDC'\n",
       "\\item 'cDC1'\n",
       "\\item 'cDC2'\n",
       "\\item 'cDC3'\n",
       "\\item 'DC4'\n",
       "\\item 'DC5'\n",
       "\\item 'DC\\_CCR7'\n",
       "\\item 'DC\\_Proliferative'\n",
       "\\item 'Mono\\_classical'\n",
       "\\item 'Mono\\_nonClassical'\n",
       "\\item 'Mono\\_inflammatory'\n",
       "\\item 'Mono\\_IFNresponse'\n",
       "\\item 'Mono\\_regulatory'\n",
       "\\item 'T\\_CD4\\_Naive'\n",
       "\\item 'T\\_CD4\\_CM'\n",
       "\\item 'T\\_CD4\\_CM\\_ribo'\n",
       "\\item 'T\\_CD4\\_EM'\n",
       "\\item 'T\\_CD4\\_EMRA'\n",
       "\\item 'T\\_CD4\\_eff'\n",
       "\\item 'Th0'\n",
       "\\item 'Th1'\n",
       "\\item 'Th2'\n",
       "\\item 'Tregs'\n",
       "\\item 'Tregs\\_activated'\n",
       "\\item 'T\\_CD8\\_Naive'\n",
       "\\item 'T\\_CD8\\_CM'\n",
       "\\item 'T\\_CD8\\_CM\\_stem'\n",
       "\\item 'T\\_CD8\\_EM\\_CX3CR1high'\n",
       "\\item 'T\\_CD8\\_EM\\_CX3CR1int'\n",
       "\\item 'T\\_CD8\\_eff\\_HOBIT'\n",
       "\\item 'T\\_CD8\\_IFNresponse'\n",
       "\\item 'T\\_CD8\\_Mem\\_cytotoxic'\n",
       "\\item 'T\\_CD8\\_activated'\n",
       "\\item 'T\\_CD8\\_arrested'\n",
       "\\item 'T\\_Proliferative'\n",
       "\\item 'gdT\\_V1'\n",
       "\\item 'gdT\\_V2\\_Vγ9'\n",
       "\\item 'MAIT'\n",
       "\\item 'MAIT\\_17'\n",
       "\\item 'NK\\_CD16high'\n",
       "\\item 'NK\\_CD56dimCD16'\n",
       "\\item 'NK\\_CD56high'\n",
       "\\item 'NK\\_IFN1response'\n",
       "\\item 'NK\\_adaptive'\n",
       "\\item 'NK\\_lowRibocontent'\n",
       "\\item 'NK\\_Proliferative'\n",
       "\\item 'HSC\\_LMP'\n",
       "\\item 'HSC\\_MEMP'\n",
       "\\item 'HSC\\_MMP'\n",
       "\\item 'B\\_Progenitors'\n",
       "\\item 'T\\_Progenitors'\n",
       "\\item 'Platelet'\n",
       "\\item 'HBcell'\n",
       "\\end{enumerate*}\n"
      ],
      "text/markdown": [
       "1. Mono_IFNresponse\n",
       "2. Mono_classical\n",
       "3. Mono_inflammatory\n",
       "4. Mono_nonClassical\n",
       "5. NK_CD56dimCD16\n",
       "6. NK_CD56high\n",
       "7. NK_adaptive\n",
       "8. T_CD4_Naive\n",
       "9. T_CD8_CM\n",
       "10. T_CD8_EM_CX3CR1high\n",
       "11. T_CD8_EM_CX3CR1int\n",
       "12. T_CD8_IFNresponse\n",
       "13. T_CD8_Mem_cytotoxic\n",
       "14. T_CD8_Naive\n",
       "15. T_CD8_activated\n",
       "16. T_CD8_CM_stem\n",
       "17. T_CD8_eff_HOBIT\n",
       "18. NK_lowRibocontent\n",
       "\n",
       "\n",
       "\n",
       "**Levels**: 1. 'B_Transitional'\n",
       "2. 'B_Naive'\n",
       "3. 'B_Naive_activated'\n",
       "4. 'B_Memory_ITGAX'\n",
       "5. 'B_Memory_switched'\n",
       "6. 'B_Memory_unswitched'\n",
       "7. 'B_IFNresponder'\n",
       "8. 'Plasma_IGHA'\n",
       "9. 'Plasma_IGHG'\n",
       "10. 'Plasma_XBP1'\n",
       "11. 'Plasma_Proliferative'\n",
       "12. 'pDC'\n",
       "13. 'cDC1'\n",
       "14. 'cDC2'\n",
       "15. 'cDC3'\n",
       "16. 'DC4'\n",
       "17. 'DC5'\n",
       "18. 'DC_CCR7'\n",
       "19. 'DC_Proliferative'\n",
       "20. 'Mono_classical'\n",
       "21. 'Mono_nonClassical'\n",
       "22. 'Mono_inflammatory'\n",
       "23. 'Mono_IFNresponse'\n",
       "24. 'Mono_regulatory'\n",
       "25. 'T_CD4_Naive'\n",
       "26. 'T_CD4_CM'\n",
       "27. 'T_CD4_CM_ribo'\n",
       "28. 'T_CD4_EM'\n",
       "29. 'T_CD4_EMRA'\n",
       "30. 'T_CD4_eff'\n",
       "31. 'Th0'\n",
       "32. 'Th1'\n",
       "33. 'Th2'\n",
       "34. 'Tregs'\n",
       "35. 'Tregs_activated'\n",
       "36. 'T_CD8_Naive'\n",
       "37. 'T_CD8_CM'\n",
       "38. 'T_CD8_CM_stem'\n",
       "39. 'T_CD8_EM_CX3CR1high'\n",
       "40. 'T_CD8_EM_CX3CR1int'\n",
       "41. 'T_CD8_eff_HOBIT'\n",
       "42. 'T_CD8_IFNresponse'\n",
       "43. 'T_CD8_Mem_cytotoxic'\n",
       "44. 'T_CD8_activated'\n",
       "45. 'T_CD8_arrested'\n",
       "46. 'T_Proliferative'\n",
       "47. 'gdT_V1'\n",
       "48. 'gdT_V2_Vγ9'\n",
       "49. 'MAIT'\n",
       "50. 'MAIT_17'\n",
       "51. 'NK_CD16high'\n",
       "52. 'NK_CD56dimCD16'\n",
       "53. 'NK_CD56high'\n",
       "54. 'NK_IFN1response'\n",
       "55. 'NK_adaptive'\n",
       "56. 'NK_lowRibocontent'\n",
       "57. 'NK_Proliferative'\n",
       "58. 'HSC_LMP'\n",
       "59. 'HSC_MEMP'\n",
       "60. 'HSC_MMP'\n",
       "61. 'B_Progenitors'\n",
       "62. 'T_Progenitors'\n",
       "63. 'Platelet'\n",
       "64. 'HBcell'\n",
       "\n",
       "\n"
      ],
      "text/plain": [
       " [1] Mono_IFNresponse    Mono_classical      Mono_inflammatory  \n",
       " [4] Mono_nonClassical   NK_CD56dimCD16      NK_CD56high        \n",
       " [7] NK_adaptive         T_CD4_Naive         T_CD8_CM           \n",
       "[10] T_CD8_EM_CX3CR1high T_CD8_EM_CX3CR1int  T_CD8_IFNresponse  \n",
       "[13] T_CD8_Mem_cytotoxic T_CD8_Naive         T_CD8_activated    \n",
       "[16] T_CD8_CM_stem       T_CD8_eff_HOBIT     NK_lowRibocontent  \n",
       "64 Levels: B_Transitional B_Naive B_Naive_activated ... HBcell"
      ]
     },
     "metadata": {},
     "output_type": "display_data"
    }
   ],
   "source": [
    "unique(mean_activity_df$Level2)"
   ]
  },
  {
   "cell_type": "code",
   "execution_count": 44,
   "id": "4a57d4ad-10ed-4dcc-b899-e1c9d479a598",
   "metadata": {
    "execution": {
     "iopub.execute_input": "2024-07-08T08:01:25.872935Z",
     "iopub.status.busy": "2024-07-08T08:01:25.871756Z",
     "iopub.status.idle": "2024-07-08T08:01:25.891166Z",
     "shell.execute_reply": "2024-07-08T08:01:25.889687Z"
    }
   },
   "outputs": [
    {
     "data": {
      "text/html": [
       "<table class=\"dataframe\">\n",
       "<caption>A data.frame: 6 × 6</caption>\n",
       "<thead>\n",
       "\t<tr><th></th><th scope=col>level_1</th><th scope=col>Level1</th><th scope=col>Level2</th><th scope=col>TF</th><th scope=col>Flare</th><th scope=col>mean_activity</th></tr>\n",
       "\t<tr><th></th><th scope=col>&lt;chr&gt;</th><th scope=col>&lt;fct&gt;</th><th scope=col>&lt;fct&gt;</th><th scope=col>&lt;fct&gt;</th><th scope=col>&lt;chr&gt;</th><th scope=col>&lt;dbl&gt;</th></tr>\n",
       "</thead>\n",
       "<tbody>\n",
       "\t<tr><th scope=row>Perez2022_1004_T0_Mono_IFNresponse-3_STAT1</th><td>Perez2022_1004_T0_Mono_IFNresponse-3 </td><td>Mono</td><td>Mono_IFNresponse </td><td>STAT1</td><td>notF</td><td>1.3177752</td></tr>\n",
       "\t<tr><th scope=row>Perez2022_1004_T0_Mono_IFNresponse-3_SP1</th><td>Perez2022_1004_T0_Mono_IFNresponse-3 </td><td>Mono</td><td>Mono_IFNresponse </td><td>SP1  </td><td>notF</td><td>0.3957995</td></tr>\n",
       "\t<tr><th scope=row>Perez2022_1004_T0_Mono_classical-3_STAT1</th><td>Perez2022_1004_T0_Mono_classical-3   </td><td>Mono</td><td>Mono_classical   </td><td>STAT1</td><td>notF</td><td>0.2079604</td></tr>\n",
       "\t<tr><th scope=row>Perez2022_1004_T0_Mono_classical-3_SP1</th><td>Perez2022_1004_T0_Mono_classical-3   </td><td>Mono</td><td>Mono_classical   </td><td>SP1  </td><td>notF</td><td>1.5004512</td></tr>\n",
       "\t<tr><th scope=row>Perez2022_1004_T0_Mono_inflammatory-3_STAT1</th><td>Perez2022_1004_T0_Mono_inflammatory-3</td><td>Mono</td><td>Mono_inflammatory</td><td>STAT1</td><td>notF</td><td>0.9097472</td></tr>\n",
       "\t<tr><th scope=row>Perez2022_1004_T0_Mono_inflammatory-3_SP1</th><td>Perez2022_1004_T0_Mono_inflammatory-3</td><td>Mono</td><td>Mono_inflammatory</td><td>SP1  </td><td>notF</td><td>1.1708406</td></tr>\n",
       "</tbody>\n",
       "</table>\n"
      ],
      "text/latex": [
       "A data.frame: 6 × 6\n",
       "\\begin{tabular}{r|llllll}\n",
       "  & level\\_1 & Level1 & Level2 & TF & Flare & mean\\_activity\\\\\n",
       "  & <chr> & <fct> & <fct> & <fct> & <chr> & <dbl>\\\\\n",
       "\\hline\n",
       "\tPerez2022\\_1004\\_T0\\_Mono\\_IFNresponse-3\\_STAT1 & Perez2022\\_1004\\_T0\\_Mono\\_IFNresponse-3  & Mono & Mono\\_IFNresponse  & STAT1 & notF & 1.3177752\\\\\n",
       "\tPerez2022\\_1004\\_T0\\_Mono\\_IFNresponse-3\\_SP1 & Perez2022\\_1004\\_T0\\_Mono\\_IFNresponse-3  & Mono & Mono\\_IFNresponse  & SP1   & notF & 0.3957995\\\\\n",
       "\tPerez2022\\_1004\\_T0\\_Mono\\_classical-3\\_STAT1 & Perez2022\\_1004\\_T0\\_Mono\\_classical-3    & Mono & Mono\\_classical    & STAT1 & notF & 0.2079604\\\\\n",
       "\tPerez2022\\_1004\\_T0\\_Mono\\_classical-3\\_SP1 & Perez2022\\_1004\\_T0\\_Mono\\_classical-3    & Mono & Mono\\_classical    & SP1   & notF & 1.5004512\\\\\n",
       "\tPerez2022\\_1004\\_T0\\_Mono\\_inflammatory-3\\_STAT1 & Perez2022\\_1004\\_T0\\_Mono\\_inflammatory-3 & Mono & Mono\\_inflammatory & STAT1 & notF & 0.9097472\\\\\n",
       "\tPerez2022\\_1004\\_T0\\_Mono\\_inflammatory-3\\_SP1 & Perez2022\\_1004\\_T0\\_Mono\\_inflammatory-3 & Mono & Mono\\_inflammatory & SP1   & notF & 1.1708406\\\\\n",
       "\\end{tabular}\n"
      ],
      "text/markdown": [
       "\n",
       "A data.frame: 6 × 6\n",
       "\n",
       "| <!--/--> | level_1 &lt;chr&gt; | Level1 &lt;fct&gt; | Level2 &lt;fct&gt; | TF &lt;fct&gt; | Flare &lt;chr&gt; | mean_activity &lt;dbl&gt; |\n",
       "|---|---|---|---|---|---|---|\n",
       "| Perez2022_1004_T0_Mono_IFNresponse-3_STAT1 | Perez2022_1004_T0_Mono_IFNresponse-3  | Mono | Mono_IFNresponse  | STAT1 | notF | 1.3177752 |\n",
       "| Perez2022_1004_T0_Mono_IFNresponse-3_SP1 | Perez2022_1004_T0_Mono_IFNresponse-3  | Mono | Mono_IFNresponse  | SP1   | notF | 0.3957995 |\n",
       "| Perez2022_1004_T0_Mono_classical-3_STAT1 | Perez2022_1004_T0_Mono_classical-3    | Mono | Mono_classical    | STAT1 | notF | 0.2079604 |\n",
       "| Perez2022_1004_T0_Mono_classical-3_SP1 | Perez2022_1004_T0_Mono_classical-3    | Mono | Mono_classical    | SP1   | notF | 1.5004512 |\n",
       "| Perez2022_1004_T0_Mono_inflammatory-3_STAT1 | Perez2022_1004_T0_Mono_inflammatory-3 | Mono | Mono_inflammatory | STAT1 | notF | 0.9097472 |\n",
       "| Perez2022_1004_T0_Mono_inflammatory-3_SP1 | Perez2022_1004_T0_Mono_inflammatory-3 | Mono | Mono_inflammatory | SP1   | notF | 1.1708406 |\n",
       "\n"
      ],
      "text/plain": [
       "                                            level_1                              \n",
       "Perez2022_1004_T0_Mono_IFNresponse-3_STAT1  Perez2022_1004_T0_Mono_IFNresponse-3 \n",
       "Perez2022_1004_T0_Mono_IFNresponse-3_SP1    Perez2022_1004_T0_Mono_IFNresponse-3 \n",
       "Perez2022_1004_T0_Mono_classical-3_STAT1    Perez2022_1004_T0_Mono_classical-3   \n",
       "Perez2022_1004_T0_Mono_classical-3_SP1      Perez2022_1004_T0_Mono_classical-3   \n",
       "Perez2022_1004_T0_Mono_inflammatory-3_STAT1 Perez2022_1004_T0_Mono_inflammatory-3\n",
       "Perez2022_1004_T0_Mono_inflammatory-3_SP1   Perez2022_1004_T0_Mono_inflammatory-3\n",
       "                                            Level1 Level2            TF   \n",
       "Perez2022_1004_T0_Mono_IFNresponse-3_STAT1  Mono   Mono_IFNresponse  STAT1\n",
       "Perez2022_1004_T0_Mono_IFNresponse-3_SP1    Mono   Mono_IFNresponse  SP1  \n",
       "Perez2022_1004_T0_Mono_classical-3_STAT1    Mono   Mono_classical    STAT1\n",
       "Perez2022_1004_T0_Mono_classical-3_SP1      Mono   Mono_classical    SP1  \n",
       "Perez2022_1004_T0_Mono_inflammatory-3_STAT1 Mono   Mono_inflammatory STAT1\n",
       "Perez2022_1004_T0_Mono_inflammatory-3_SP1   Mono   Mono_inflammatory SP1  \n",
       "                                            Flare mean_activity\n",
       "Perez2022_1004_T0_Mono_IFNresponse-3_STAT1  notF  1.3177752    \n",
       "Perez2022_1004_T0_Mono_IFNresponse-3_SP1    notF  0.3957995    \n",
       "Perez2022_1004_T0_Mono_classical-3_STAT1    notF  0.2079604    \n",
       "Perez2022_1004_T0_Mono_classical-3_SP1      notF  1.5004512    \n",
       "Perez2022_1004_T0_Mono_inflammatory-3_STAT1 notF  0.9097472    \n",
       "Perez2022_1004_T0_Mono_inflammatory-3_SP1   notF  1.1708406    "
      ]
     },
     "metadata": {},
     "output_type": "display_data"
    }
   ],
   "source": [
    "head(mean_activity_df)"
   ]
  },
  {
   "cell_type": "code",
   "execution_count": 45,
   "id": "0dbf1477-93e1-4594-b143-9f01f2ce9da6",
   "metadata": {
    "execution": {
     "iopub.execute_input": "2024-07-08T08:01:27.621561Z",
     "iopub.status.busy": "2024-07-08T08:01:27.620358Z",
     "iopub.status.idle": "2024-07-08T08:01:27.637149Z",
     "shell.execute_reply": "2024-07-08T08:01:27.635766Z"
    }
   },
   "outputs": [],
   "source": [
    "mean_activity_df <-  mean_activity_df %>%\n",
    "  group_by(TF) %>%     \n",
    "  mutate(mean_activity_processed = mean_activity + abs(min(mean_activity, na.rm = TRUE))) %>%\n",
    "  mutate(TF_normalized_mean_activity = (mean_activity_processed - min(mean_activity_processed, na.rm = TRUE)) / diff(range(mean_activity_processed, na.rm = TRUE))) %>%\n",
    "  ungroup()"
   ]
  },
  {
   "cell_type": "code",
   "execution_count": 46,
   "id": "fe458483-35c8-4da1-b497-ca43ddd49e24",
   "metadata": {
    "execution": {
     "iopub.execute_input": "2024-07-08T08:01:28.694705Z",
     "iopub.status.busy": "2024-07-08T08:01:28.693517Z",
     "iopub.status.idle": "2024-07-08T08:01:28.725675Z",
     "shell.execute_reply": "2024-07-08T08:01:28.724256Z"
    }
   },
   "outputs": [
    {
     "name": "stdout",
     "output_type": "stream",
     "text": [
      "\u001b[90m# A tibble: 6 × 8\u001b[39m\n",
      "  level_1         Level1 Level2 TF    Flare mean_activity mean_activity_proces…¹\n",
      "  \u001b[3m\u001b[90m<chr>\u001b[39m\u001b[23m           \u001b[3m\u001b[90m<fct>\u001b[39m\u001b[23m  \u001b[3m\u001b[90m<fct>\u001b[39m\u001b[23m  \u001b[3m\u001b[90m<fct>\u001b[39m\u001b[23m \u001b[3m\u001b[90m<chr>\u001b[39m\u001b[23m         \u001b[3m\u001b[90m<dbl>\u001b[39m\u001b[23m                  \u001b[3m\u001b[90m<dbl>\u001b[39m\u001b[23m\n",
      "\u001b[90m1\u001b[39m Perez2022_1004… Mono   Mono_… STAT1 notF          1.32                    3.90\n",
      "\u001b[90m2\u001b[39m Perez2022_1004… Mono   Mono_… SP1   notF          0.396                   3.51\n",
      "\u001b[90m3\u001b[39m Perez2022_1004… Mono   Mono_… STAT1 notF          0.208                   2.79\n",
      "\u001b[90m4\u001b[39m Perez2022_1004… Mono   Mono_… SP1   notF          1.50                    4.62\n",
      "\u001b[90m5\u001b[39m Perez2022_1004… Mono   Mono_… STAT1 notF          0.910                   3.50\n",
      "\u001b[90m6\u001b[39m Perez2022_1004… Mono   Mono_… SP1   notF          1.17                    4.29\n",
      "\u001b[90m# ℹ abbreviated name: ¹​mean_activity_processed\u001b[39m\n",
      "\u001b[90m# ℹ 1 more variable: TF_normalized_mean_activity <dbl>\u001b[39m\n"
     ]
    }
   ],
   "source": [
    "print(head(mean_activity_df))"
   ]
  },
  {
   "cell_type": "raw",
   "id": "01c7e007-cfb1-473e-9811-c761313483f5",
   "metadata": {
    "execution": {
     "iopub.execute_input": "2024-07-07T09:42:46.265438Z",
     "iopub.status.busy": "2024-07-07T09:42:46.264149Z",
     "iopub.status.idle": "2024-07-07T09:42:46.292397Z",
     "shell.execute_reply": "2024-07-07T09:42:46.290818Z"
    }
   },
   "source": [
    "heatmap_df <- mean_activity_df %>%\n",
    "  mutate(Flare_TF = paste(Flare, TF, sep = \"_\")) %>%\n",
    "  group_by(Flare_TF, Level2) %>%\n",
    "  summarize(mean_activity = mean(mean_activity, na.rm = TRUE), .groups = 'drop') %>%  \n",
    "  pivot_wider(names_from = Level2, values_from = mean_activity) %>%\n",
    "  column_to_rownames(var = \"Flare_TF\")"
   ]
  },
  {
   "cell_type": "code",
   "execution_count": 47,
   "id": "8fdacd36-7087-4b9c-8690-0b8a355153aa",
   "metadata": {
    "execution": {
     "iopub.execute_input": "2024-07-08T08:01:30.672518Z",
     "iopub.status.busy": "2024-07-08T08:01:30.671224Z",
     "iopub.status.idle": "2024-07-08T08:01:30.705687Z",
     "shell.execute_reply": "2024-07-08T08:01:30.704055Z"
    }
   },
   "outputs": [],
   "source": [
    "heatmap_df <- mean_activity_df %>%\n",
    "  mutate(Flare_TF = paste(Flare, TF, sep = \"_\")) %>%\n",
    "  group_by(Flare_TF, TF, Level2) %>%\n",
    "  summarize(mean_activity = mean(mean_activity, na.rm = TRUE), .groups = 'drop') %>%\n",
    "  ungroup() %>% \n",
    "  group_by(TF) %>%   \n",
    "  mutate(TF_normalized_mean_activity = (mean_activity - min(mean_activity, na.rm = TRUE)) / diff(range(mean_activity, na.rm = TRUE))) %>% \n",
    "  ungroup() %>% \n",
    "  group_by(Flare_TF, Level2) %>%\n",
    "  summarize(mean_activity_norm = TF_normalized_mean_activity, .groups = 'drop')  %>% \n",
    "  pivot_wider(names_from = Level2, values_from = mean_activity_norm) %>%\n",
    "  column_to_rownames(var = \"Flare_TF\")"
   ]
  },
  {
   "cell_type": "code",
   "execution_count": 48,
   "id": "8bd1694b-098e-47ce-bf74-977d222c615f",
   "metadata": {
    "execution": {
     "iopub.execute_input": "2024-07-08T08:01:32.116894Z",
     "iopub.status.busy": "2024-07-08T08:01:32.115694Z",
     "iopub.status.idle": "2024-07-08T08:01:32.134228Z",
     "shell.execute_reply": "2024-07-08T08:01:32.132825Z"
    }
   },
   "outputs": [],
   "source": [
    "col_annot <- mean_activity_df %>%\n",
    "  select(Level2, Level1) %>%\n",
    "  distinct() %>%\n",
    "  {rownames(.) <- NULL; .} %>%\n",
    "  arrange(match(Level2, names(cell_level2_colors))) %>%\n",
    "  column_to_rownames(var = \"Level2\") \n",
    "col_annot$Level2 <- rownames(col_annot)\n",
    "col_order <- rownames(col_annot)"
   ]
  },
  {
   "cell_type": "code",
   "execution_count": 49,
   "id": "eabb4ff8-996d-4bbf-a03e-f3ebcbce28a1",
   "metadata": {
    "execution": {
     "iopub.execute_input": "2024-07-08T08:01:33.042560Z",
     "iopub.status.busy": "2024-07-08T08:01:33.040671Z",
     "iopub.status.idle": "2024-07-08T08:01:33.059674Z",
     "shell.execute_reply": "2024-07-08T08:01:33.058309Z"
    }
   },
   "outputs": [],
   "source": [
    "row_annot <- mean_activity_df %>%\n",
    "  select(TF, Flare) %>%\n",
    "  distinct() %>%\n",
    "  mutate(Flare_TF = paste(Flare, TF, sep = \"_\")) %>%\n",
    "  {rownames(.) <- NULL; .} %>%\n",
    "  column_to_rownames(var = \"Flare_TF\") %>%\n",
    "  arrange(match(TF, tf_order))\n",
    "row_order <- rownames(row_annot) "
   ]
  },
  {
   "cell_type": "code",
   "execution_count": 50,
   "id": "ba35ef21-d4ce-4009-b8b7-20dd870d36e2",
   "metadata": {
    "execution": {
     "iopub.execute_input": "2024-07-08T08:01:34.724360Z",
     "iopub.status.busy": "2024-07-08T08:01:34.723165Z",
     "iopub.status.idle": "2024-07-08T08:01:34.738388Z",
     "shell.execute_reply": "2024-07-08T08:01:34.737194Z"
    }
   },
   "outputs": [
    {
     "data": {
      "text/html": [
       "<table class=\"dataframe\">\n",
       "<caption>A data.frame: 4 × 2</caption>\n",
       "<thead>\n",
       "\t<tr><th></th><th scope=col>TF</th><th scope=col>Flare</th></tr>\n",
       "\t<tr><th></th><th scope=col>&lt;fct&gt;</th><th scope=col>&lt;chr&gt;</th></tr>\n",
       "</thead>\n",
       "<tbody>\n",
       "\t<tr><th scope=row>notF_STAT1</th><td>STAT1</td><td>notF</td></tr>\n",
       "\t<tr><th scope=row>F_STAT1</th><td>STAT1</td><td>F   </td></tr>\n",
       "\t<tr><th scope=row>notF_SP1</th><td>SP1  </td><td>notF</td></tr>\n",
       "\t<tr><th scope=row>F_SP1</th><td>SP1  </td><td>F   </td></tr>\n",
       "</tbody>\n",
       "</table>\n"
      ],
      "text/latex": [
       "A data.frame: 4 × 2\n",
       "\\begin{tabular}{r|ll}\n",
       "  & TF & Flare\\\\\n",
       "  & <fct> & <chr>\\\\\n",
       "\\hline\n",
       "\tnotF\\_STAT1 & STAT1 & notF\\\\\n",
       "\tF\\_STAT1 & STAT1 & F   \\\\\n",
       "\tnotF\\_SP1 & SP1   & notF\\\\\n",
       "\tF\\_SP1 & SP1   & F   \\\\\n",
       "\\end{tabular}\n"
      ],
      "text/markdown": [
       "\n",
       "A data.frame: 4 × 2\n",
       "\n",
       "| <!--/--> | TF &lt;fct&gt; | Flare &lt;chr&gt; |\n",
       "|---|---|---|\n",
       "| notF_STAT1 | STAT1 | notF |\n",
       "| F_STAT1 | STAT1 | F    |\n",
       "| notF_SP1 | SP1   | notF |\n",
       "| F_SP1 | SP1   | F    |\n",
       "\n"
      ],
      "text/plain": [
       "           TF    Flare\n",
       "notF_STAT1 STAT1 notF \n",
       "F_STAT1    STAT1 F    \n",
       "notF_SP1   SP1   notF \n",
       "F_SP1      SP1   F    "
      ]
     },
     "metadata": {},
     "output_type": "display_data"
    }
   ],
   "source": [
    "row_annot"
   ]
  },
  {
   "cell_type": "code",
   "execution_count": 51,
   "id": "828da3b7-7b2a-452c-bb98-1c41a05ed866",
   "metadata": {
    "execution": {
     "iopub.execute_input": "2024-07-08T08:01:35.967509Z",
     "iopub.status.busy": "2024-07-08T08:01:35.966377Z",
     "iopub.status.idle": "2024-07-08T08:01:35.975528Z",
     "shell.execute_reply": "2024-07-08T08:01:35.974341Z"
    }
   },
   "outputs": [],
   "source": [
    "my_colour_annot <- list(\n",
    "    Flare = flare_palette,\n",
    "    TF = tfs_colors[names(tfs_colors) %in% levels(row_annot$TF)],\n",
    "    Level1 = cell_colors[names(cell_colors) %in% col_annot$Level1],\n",
    "    Level2 = cell_level2_colors[names(cell_level2_colors) %in% col_annot$Level2]\n",
    ")"
   ]
  },
  {
   "cell_type": "code",
   "execution_count": 32,
   "id": "502cc6df-c2e4-4446-8704-d386d41764d0",
   "metadata": {
    "execution": {
     "iopub.execute_input": "2024-07-07T09:15:12.418479Z",
     "iopub.status.busy": "2024-07-07T09:15:12.417466Z",
     "iopub.status.idle": "2024-07-07T09:15:12.431156Z",
     "shell.execute_reply": "2024-07-07T09:15:12.429956Z"
    }
   },
   "outputs": [
    {
     "data": {
      "text/html": [
       "<dl>\n",
       "\t<dt>$Flare</dt>\n",
       "\t\t<dd><style>\n",
       ".dl-inline {width: auto; margin:0; padding: 0}\n",
       ".dl-inline>dt, .dl-inline>dd {float: none; width: auto; display: inline-block}\n",
       ".dl-inline>dt::after {content: \":\\0020\"; padding-right: .5ex}\n",
       ".dl-inline>dt:not(:first-of-type) {padding-left: .5ex}\n",
       "</style><dl class=dl-inline><dt>F</dt><dd>'#e76f51'</dd><dt>notF</dt><dd>'#e9c46a'</dd></dl>\n",
       "</dd>\n",
       "\t<dt>$TF</dt>\n",
       "\t\t<dd><style>\n",
       ".dl-inline {width: auto; margin:0; padding: 0}\n",
       ".dl-inline>dt, .dl-inline>dd {float: none; width: auto; display: inline-block}\n",
       ".dl-inline>dt::after {content: \":\\0020\"; padding-right: .5ex}\n",
       ".dl-inline>dt:not(:first-of-type) {padding-left: .5ex}\n",
       "</style><dl class=dl-inline><dt>SP1</dt><dd>'#843c39'</dd><dt>STAT1</dt><dd>'#9467bd'</dd></dl>\n",
       "</dd>\n",
       "\t<dt>$Level1</dt>\n",
       "\t\t<dd><style>\n",
       ".dl-inline {width: auto; margin:0; padding: 0}\n",
       ".dl-inline>dt, .dl-inline>dd {float: none; width: auto; display: inline-block}\n",
       ".dl-inline>dt::after {content: \":\\0020\"; padding-right: .5ex}\n",
       ".dl-inline>dt:not(:first-of-type) {padding-left: .5ex}\n",
       "</style><dl class=dl-inline><dt>pDC</dt><dd>'#a7c957'</dd><dt>Mono</dt><dd>'#386641'</dd><dt>T_CD4_Naive</dt><dd>'#fff3b0'</dd><dt>T_CD8_Naive</dt><dd>'#9e2a2b'</dd><dt>T_CD8_NonNaive</dt><dd>'#540b0e'</dd><dt>ILC</dt><dd>'#67253a'</dd></dl>\n",
       "</dd>\n",
       "\t<dt>$Level2</dt>\n",
       "\t\t<dd><style>\n",
       ".dl-inline {width: auto; margin:0; padding: 0}\n",
       ".dl-inline>dt, .dl-inline>dd {float: none; width: auto; display: inline-block}\n",
       ".dl-inline>dt::after {content: \":\\0020\"; padding-right: .5ex}\n",
       ".dl-inline>dt:not(:first-of-type) {padding-left: .5ex}\n",
       "</style><dl class=dl-inline><dt>pDC</dt><dd>'#FFFF00'</dd><dt>Mono_classical</dt><dd>'#960018'</dd><dt>Mono_nonClassical</dt><dd>'#E23D28'</dd><dt>Mono_inflammatory</dt><dd>'#FF0800'</dd><dt>Mono_IFNresponse</dt><dd>'#C40234'</dd><dt>Mono_regulatory</dt><dd>'#AB4E52'</dd><dt>T_CD4_Naive</dt><dd>'#246BCE'</dd><dt>T_CD8_Naive</dt><dd>'#0FFFFF'</dd><dt>T_CD8_CM</dt><dd>'#29AB87'</dd><dt>T_CD8_CM_stem</dt><dd>'#20B2AA'</dd><dt>T_CD8_EM_CX3CR1high</dt><dd>'#99FFFF'</dd><dt>T_CD8_EM_CX3CR1int</dt><dd>'#81D8D0'</dd><dt>T_CD8_eff_HOBIT</dt><dd>'#007A74'</dd><dt>T_CD8_IFNresponse</dt><dd>'#3EB489'</dd><dt>T_CD8_Mem_cytotoxic</dt><dd>'#37a17b'</dd><dt>T_CD8_activated</dt><dd>'#5ec7a1'</dd><dt>T_CD8_arrested</dt><dd>'#5ec76d'</dd><dt>NK_CD16high</dt><dd>'#7BA05B'</dd><dt>NK_CD56dimCD16</dt><dd>'#00563B'</dd><dt>NK_CD56high</dt><dd>'#ACE1AF'</dd><dt>NK_IFN1response</dt><dd>'#03C03C'</dd><dt>NK_adaptive</dt><dd>'#50C878'</dd><dt>NK_lowRibocontent</dt><dd>'#80FF00'</dd></dl>\n",
       "</dd>\n",
       "</dl>\n"
      ],
      "text/latex": [
       "\\begin{description}\n",
       "\\item[\\$Flare] \\begin{description*}\n",
       "\\item[F] '\\#e76f51'\n",
       "\\item[notF] '\\#e9c46a'\n",
       "\\end{description*}\n",
       "\n",
       "\\item[\\$TF] \\begin{description*}\n",
       "\\item[SP1] '\\#843c39'\n",
       "\\item[STAT1] '\\#9467bd'\n",
       "\\end{description*}\n",
       "\n",
       "\\item[\\$Level1] \\begin{description*}\n",
       "\\item[pDC] '\\#a7c957'\n",
       "\\item[Mono] '\\#386641'\n",
       "\\item[T\\textbackslash{}\\_CD4\\textbackslash{}\\_Naive] '\\#fff3b0'\n",
       "\\item[T\\textbackslash{}\\_CD8\\textbackslash{}\\_Naive] '\\#9e2a2b'\n",
       "\\item[T\\textbackslash{}\\_CD8\\textbackslash{}\\_NonNaive] '\\#540b0e'\n",
       "\\item[ILC] '\\#67253a'\n",
       "\\end{description*}\n",
       "\n",
       "\\item[\\$Level2] \\begin{description*}\n",
       "\\item[pDC] '\\#FFFF00'\n",
       "\\item[Mono\\textbackslash{}\\_classical] '\\#960018'\n",
       "\\item[Mono\\textbackslash{}\\_nonClassical] '\\#E23D28'\n",
       "\\item[Mono\\textbackslash{}\\_inflammatory] '\\#FF0800'\n",
       "\\item[Mono\\textbackslash{}\\_IFNresponse] '\\#C40234'\n",
       "\\item[Mono\\textbackslash{}\\_regulatory] '\\#AB4E52'\n",
       "\\item[T\\textbackslash{}\\_CD4\\textbackslash{}\\_Naive] '\\#246BCE'\n",
       "\\item[T\\textbackslash{}\\_CD8\\textbackslash{}\\_Naive] '\\#0FFFFF'\n",
       "\\item[T\\textbackslash{}\\_CD8\\textbackslash{}\\_CM] '\\#29AB87'\n",
       "\\item[T\\textbackslash{}\\_CD8\\textbackslash{}\\_CM\\textbackslash{}\\_stem] '\\#20B2AA'\n",
       "\\item[T\\textbackslash{}\\_CD8\\textbackslash{}\\_EM\\textbackslash{}\\_CX3CR1high] '\\#99FFFF'\n",
       "\\item[T\\textbackslash{}\\_CD8\\textbackslash{}\\_EM\\textbackslash{}\\_CX3CR1int] '\\#81D8D0'\n",
       "\\item[T\\textbackslash{}\\_CD8\\textbackslash{}\\_eff\\textbackslash{}\\_HOBIT] '\\#007A74'\n",
       "\\item[T\\textbackslash{}\\_CD8\\textbackslash{}\\_IFNresponse] '\\#3EB489'\n",
       "\\item[T\\textbackslash{}\\_CD8\\textbackslash{}\\_Mem\\textbackslash{}\\_cytotoxic] '\\#37a17b'\n",
       "\\item[T\\textbackslash{}\\_CD8\\textbackslash{}\\_activated] '\\#5ec7a1'\n",
       "\\item[T\\textbackslash{}\\_CD8\\textbackslash{}\\_arrested] '\\#5ec76d'\n",
       "\\item[NK\\textbackslash{}\\_CD16high] '\\#7BA05B'\n",
       "\\item[NK\\textbackslash{}\\_CD56dimCD16] '\\#00563B'\n",
       "\\item[NK\\textbackslash{}\\_CD56high] '\\#ACE1AF'\n",
       "\\item[NK\\textbackslash{}\\_IFN1response] '\\#03C03C'\n",
       "\\item[NK\\textbackslash{}\\_adaptive] '\\#50C878'\n",
       "\\item[NK\\textbackslash{}\\_lowRibocontent] '\\#80FF00'\n",
       "\\end{description*}\n",
       "\n",
       "\\end{description}\n"
      ],
      "text/markdown": [
       "$Flare\n",
       ":   F\n",
       ":   '#e76f51'notF\n",
       ":   '#e9c46a'\n",
       "\n",
       "\n",
       "$TF\n",
       ":   SP1\n",
       ":   '#843c39'STAT1\n",
       ":   '#9467bd'\n",
       "\n",
       "\n",
       "$Level1\n",
       ":   pDC\n",
       ":   '#a7c957'Mono\n",
       ":   '#386641'T_CD4_Naive\n",
       ":   '#fff3b0'T_CD8_Naive\n",
       ":   '#9e2a2b'T_CD8_NonNaive\n",
       ":   '#540b0e'ILC\n",
       ":   '#67253a'\n",
       "\n",
       "\n",
       "$Level2\n",
       ":   pDC\n",
       ":   '#FFFF00'Mono_classical\n",
       ":   '#960018'Mono_nonClassical\n",
       ":   '#E23D28'Mono_inflammatory\n",
       ":   '#FF0800'Mono_IFNresponse\n",
       ":   '#C40234'Mono_regulatory\n",
       ":   '#AB4E52'T_CD4_Naive\n",
       ":   '#246BCE'T_CD8_Naive\n",
       ":   '#0FFFFF'T_CD8_CM\n",
       ":   '#29AB87'T_CD8_CM_stem\n",
       ":   '#20B2AA'T_CD8_EM_CX3CR1high\n",
       ":   '#99FFFF'T_CD8_EM_CX3CR1int\n",
       ":   '#81D8D0'T_CD8_eff_HOBIT\n",
       ":   '#007A74'T_CD8_IFNresponse\n",
       ":   '#3EB489'T_CD8_Mem_cytotoxic\n",
       ":   '#37a17b'T_CD8_activated\n",
       ":   '#5ec7a1'T_CD8_arrested\n",
       ":   '#5ec76d'NK_CD16high\n",
       ":   '#7BA05B'NK_CD56dimCD16\n",
       ":   '#00563B'NK_CD56high\n",
       ":   '#ACE1AF'NK_IFN1response\n",
       ":   '#03C03C'NK_adaptive\n",
       ":   '#50C878'NK_lowRibocontent\n",
       ":   '#80FF00'\n",
       "\n",
       "\n",
       "\n",
       "\n"
      ],
      "text/plain": [
       "$Flare\n",
       "        F      notF \n",
       "\"#e76f51\" \"#e9c46a\" \n",
       "\n",
       "$TF\n",
       "      SP1     STAT1 \n",
       "\"#843c39\" \"#9467bd\" \n",
       "\n",
       "$Level1\n",
       "           pDC           Mono    T_CD4_Naive    T_CD8_Naive T_CD8_NonNaive \n",
       "     \"#a7c957\"      \"#386641\"      \"#fff3b0\"      \"#9e2a2b\"      \"#540b0e\" \n",
       "           ILC \n",
       "     \"#67253a\" \n",
       "\n",
       "$Level2\n",
       "                pDC      Mono_classical   Mono_nonClassical   Mono_inflammatory \n",
       "          \"#FFFF00\"           \"#960018\"           \"#E23D28\"           \"#FF0800\" \n",
       "   Mono_IFNresponse     Mono_regulatory         T_CD4_Naive         T_CD8_Naive \n",
       "          \"#C40234\"           \"#AB4E52\"           \"#246BCE\"           \"#0FFFFF\" \n",
       "           T_CD8_CM       T_CD8_CM_stem T_CD8_EM_CX3CR1high  T_CD8_EM_CX3CR1int \n",
       "          \"#29AB87\"           \"#20B2AA\"           \"#99FFFF\"           \"#81D8D0\" \n",
       "    T_CD8_eff_HOBIT   T_CD8_IFNresponse T_CD8_Mem_cytotoxic     T_CD8_activated \n",
       "          \"#007A74\"           \"#3EB489\"           \"#37a17b\"           \"#5ec7a1\" \n",
       "     T_CD8_arrested         NK_CD16high      NK_CD56dimCD16         NK_CD56high \n",
       "          \"#5ec76d\"           \"#7BA05B\"           \"#00563B\"           \"#ACE1AF\" \n",
       "    NK_IFN1response         NK_adaptive   NK_lowRibocontent \n",
       "          \"#03C03C\"           \"#50C878\"           \"#80FF00\" \n"
      ]
     },
     "metadata": {},
     "output_type": "display_data"
    }
   ],
   "source": [
    "my_colour_annot"
   ]
  },
  {
   "cell_type": "code",
   "execution_count": 55,
   "id": "8ee39ab0-1b61-4385-b724-16b562ebd58d",
   "metadata": {
    "execution": {
     "iopub.execute_input": "2024-07-08T08:02:34.761638Z",
     "iopub.status.busy": "2024-07-08T08:02:34.760218Z",
     "iopub.status.idle": "2024-07-08T08:02:34.956887Z",
     "shell.execute_reply": "2024-07-08T08:02:34.955304Z"
    }
   },
   "outputs": [
    {
     "data": {
      "text/html": [
       "<strong>pdf:</strong> 4"
      ],
      "text/latex": [
       "\\textbf{pdf:} 4"
      ],
      "text/markdown": [
       "**pdf:** 4"
      ],
      "text/plain": [
       "pdf \n",
       "  4 "
      ]
     },
     "metadata": {},
     "output_type": "display_data"
    }
   ],
   "source": [
    "figure_path = paste0(outputpath, \"SP1_STAT1_heatmap.pdf\")\n",
    "pdf(figure_path, width = 15, height = 12)\n",
    "a <- pheatmap::pheatmap(\n",
    "    heatmap_df[row_order, col_order],\n",
    "    border_color = NA,\n",
    "    na_col = \"white\",\n",
    "    color = hcl.colors(50, \"Plasma\"),\n",
    "    #breaks = my_breaks,\n",
    "    annotation_colors = my_colour_annot,\n",
    "    cluster_cols = FALSE,\n",
    "    cluster_rows = FALSE,\n",
    "    cellheight = 10,\n",
    "    cellwidth = 10,\n",
    "    annotation_col = col_annot,\n",
    "    annotation_row = row_annot,\n",
    "    cex = 1,\n",
    "    fontsize = 9,\n",
    "    labels_col = col_annot$disease,\n",
    "    filename = figure_path,\n",
    "    main = \"IFN_response\",\n",
    "    gaps_col = c(4, 5, 6, 14), \n",
    "    gaps_row = c(2)\n",
    "    )\n",
    "print(a)\n",
    "dev.off()"
   ]
  },
  {
   "cell_type": "markdown",
   "id": "25941857-8cb9-4e9a-8b11-7411935c4ab5",
   "metadata": {},
   "source": [
    "### Main (Mono)"
   ]
  },
  {
   "cell_type": "markdown",
   "id": "6a326b13-9c12-4e1b-9874-d89ddba953ad",
   "metadata": {},
   "source": [
    "**Select celltypes for main figure**"
   ]
  },
  {
   "cell_type": "code",
   "execution_count": 13,
   "id": "d6b30c78-bba6-4973-9557-1d8da0281e84",
   "metadata": {
    "execution": {
     "iopub.execute_input": "2024-07-05T15:28:29.403038Z",
     "iopub.status.busy": "2024-07-05T15:28:29.397615Z",
     "iopub.status.idle": "2024-07-05T15:28:29.410680Z",
     "shell.execute_reply": "2024-07-05T15:28:29.409470Z"
    }
   },
   "outputs": [],
   "source": [
    "selected_celltypes = c(\"Mono\")"
   ]
  },
  {
   "cell_type": "code",
   "execution_count": 14,
   "id": "997a5de7-84d6-4c00-ac5b-91e9422c8cda",
   "metadata": {
    "execution": {
     "iopub.execute_input": "2024-07-05T15:28:30.847257Z",
     "iopub.status.busy": "2024-07-05T15:28:30.846113Z",
     "iopub.status.idle": "2024-07-05T15:28:30.856692Z",
     "shell.execute_reply": "2024-07-05T15:28:30.855419Z"
    }
   },
   "outputs": [],
   "source": [
    "main_toplot <- data_flare_level2 %>% \n",
    "    filter(Level1 == \"Mono\", \n",
    "           TF == \"SP1\")"
   ]
  },
  {
   "cell_type": "code",
   "execution_count": 16,
   "id": "f61b99dc-7efc-4a78-8d2e-95a3646163f7",
   "metadata": {
    "execution": {
     "iopub.execute_input": "2024-07-05T15:29:51.567315Z",
     "iopub.status.busy": "2024-07-05T15:29:51.566225Z",
     "iopub.status.idle": "2024-07-05T15:29:52.184071Z",
     "shell.execute_reply": "2024-07-05T15:29:52.182250Z"
    }
   },
   "outputs": [],
   "source": [
    "plot_flare <- ggboxplot(main_toplot, x = \"Level2\", y = \"activity\", fill = \"Flare\") +\n",
    "    #facet_grid(tfs ~ Level1, scales = \"free\") +\n",
    "    scale_fill_manual(values = flare_palette) +\n",
    "    theme_bw() +\n",
    "    ggtitle(label = \"Flare\") +\n",
    "    theme(\n",
    "        axis.text.x = element_text(angle = 25, vjust = 0.5, hjust=0.5)\n",
    ")\n",
    "\n",
    "ggsave(\n",
    "    plot_flare,\n",
    "    filename = \"Main_plot_sp1_mono.pdf\",\n",
    "    device = \"pdf\",\n",
    "    width = 10,\n",
    "    height = 2,\n",
    "    path = \"results/\")"
   ]
  },
  {
   "cell_type": "code",
   "execution_count": 15,
   "id": "08814d50-feef-4c0b-baf0-a21070dcf0a9",
   "metadata": {
    "execution": {
     "iopub.execute_input": "2024-07-05T15:17:53.985071Z",
     "iopub.status.busy": "2024-07-05T15:17:53.983878Z",
     "iopub.status.idle": "2024-07-05T15:17:55.735988Z",
     "shell.execute_reply": "2024-07-05T15:17:55.734364Z"
    }
   },
   "outputs": [],
   "source": [
    "main_plot <- ggboxplot(main_toplot, x = \"Level2\", y = \"activity\", fill = \"Flare\") +\n",
    "    #facet_wrap(~Level1, scales = \"free\", ncol = 4, nrow = 2) +\n",
    "    scale_fill_manual(values = flare_palette) +\n",
    "    theme_bw() +\n",
    "    ggtitle(label = \"\") +\n",
    "    theme(\n",
    "        axis.text.x = element_text(angle = 25, vjust = 0.5, hjust=0.5)\n",
    "    )\n",
    "\n",
    "ggsave(\n",
    "    main_plot,\n",
    "    filename = \"Main_plot_sp1_mono.pdf\",\n",
    "    device = \"pdf\",\n",
    "    width = 10,\n",
    "    height = 2,\n",
    "    path = \"results/\")"
   ]
  },
  {
   "cell_type": "markdown",
   "id": "4673c4c0-4bbc-4a8c-8122-a7356c38874d",
   "metadata": {},
   "source": [
    "### Supplementary (all)"
   ]
  },
  {
   "cell_type": "code",
   "execution_count": 9,
   "id": "5f2b9364-13f8-4794-bb4c-5b3ae02430b7",
   "metadata": {
    "execution": {
     "iopub.execute_input": "2024-07-05T15:08:14.620428Z",
     "iopub.status.busy": "2024-07-05T15:08:14.619233Z",
     "iopub.status.idle": "2024-07-05T15:08:15.103667Z",
     "shell.execute_reply": "2024-07-05T15:08:15.091418Z"
    }
   },
   "outputs": [],
   "source": [
    "toplot_flare <-\n",
    "    perez2022 %>%\n",
    "    mutate(\n",
    "        Flare = case_when(Flare == \"not_F\" ~ \"notF\",\n",
    "        TRUE ~ as.character(Flare))\n",
    "    ) %>%\n",
    "    filter(\n",
    "        Flare %in% c(\"notF\", \"F\")\n",
    "    ) %>%\n",
    "  pivot_longer(cols = c(STAT1, SP1), names_to = \"TF\", values_to = \"activity\") %>%\n",
    "  mutate(\n",
    "    Level1 = factor(Level1, levels = l1_cell_type_order),\n",
    "    Level2 = factor(Level2, levels = l2_cell_type_order),\n",
    "    TF = factor(TF, levels = tf_order)\n",
    "  )"
   ]
  },
  {
   "cell_type": "code",
   "execution_count": 26,
   "id": "cf6c797e-7a2c-44e6-b07f-da2e02e1f7f8",
   "metadata": {
    "execution": {
     "iopub.execute_input": "2024-06-26T11:38:10.387064Z",
     "iopub.status.busy": "2024-06-26T11:38:10.385943Z",
     "iopub.status.idle": "2024-06-26T11:38:11.196214Z",
     "shell.execute_reply": "2024-06-26T11:38:11.194847Z"
    }
   },
   "outputs": [],
   "source": [
    "plot_flare_sp1 <- ggboxplot(toplot_flare, x = \"Level2\", y = \"SP1\", fill = \"Flare\") +\n",
    "    facet_wrap(~Level1, scales = \"free\", ncol = 4, nrow = 2) +\n",
    "    scale_fill_manual(values = flare_palette) +\n",
    "    theme_bw() +\n",
    "    ggtitle(label = \"Flare SP1\") +\n",
    "    theme(\n",
    "        axis.text.x = element_text(angle = 25, vjust = 0.5, hjust=0.5)\n",
    "    )\n",
    "\n",
    "ggsave(\n",
    "    plot_flare_sp1,\n",
    "    filename = \"flare_sp1.pdf\",\n",
    "    device = \"pdf\",\n",
    "    width = 20,\n",
    "    height = 8,\n",
    "    path = \"results/SLE_subgroups/\")"
   ]
  },
  {
   "cell_type": "markdown",
   "id": "86449e07-9107-4c1a-a356-f68217dba511",
   "metadata": {},
   "source": [
    "# Flare comparison"
   ]
  },
  {
   "cell_type": "markdown",
   "id": "38e97e9b-5ac6-4287-ad71-e727ebab0dce",
   "metadata": {},
   "source": [
    "**Palette**"
   ]
  },
  {
   "cell_type": "code",
   "execution_count": 4,
   "id": "58865134-a9a3-4cb8-a4d9-b234aaae8879",
   "metadata": {
    "execution": {
     "iopub.execute_input": "2024-07-01T16:17:20.491457Z",
     "iopub.status.busy": "2024-07-01T16:17:20.490528Z",
     "iopub.status.idle": "2024-07-01T16:17:20.499061Z",
     "shell.execute_reply": "2024-07-01T16:17:20.497936Z"
    }
   },
   "outputs": [],
   "source": [
    "# Flare ---------------------\n",
    "flare_palette <- c(\n",
    "  \"F\" = \"#e76f51\",\n",
    "  \"notF\" = \"#e9c46a\"\n",
    ")\n"
   ]
  },
  {
   "cell_type": "markdown",
   "id": "4666efdd-5580-49fa-a174-c098decef3f7",
   "metadata": {},
   "source": [
    "## Level 1"
   ]
  },
  {
   "cell_type": "markdown",
   "id": "8d34aedf-2af0-4714-9222-8d5eaeabf681",
   "metadata": {},
   "source": [
    "**Filter input DF**"
   ]
  },
  {
   "cell_type": "code",
   "execution_count": 5,
   "id": "0e36369d-3b32-4d4f-ad1d-135eb955ef50",
   "metadata": {
    "execution": {
     "iopub.execute_input": "2024-07-01T16:17:20.501688Z",
     "iopub.status.busy": "2024-07-01T16:17:20.500763Z",
     "iopub.status.idle": "2024-07-01T16:17:20.533020Z",
     "shell.execute_reply": "2024-07-01T16:17:20.531644Z"
    }
   },
   "outputs": [],
   "source": [
    "data_flare_level1 <-\n",
    "    perez2022_level1 %>%\n",
    "    mutate(\n",
    "        Flare = case_when(Flare == \"not_F\" ~ \"notF\",\n",
    "        TRUE ~ as.character(Flare))\n",
    "    ) %>%\n",
    "    filter(\n",
    "        Flare %in% c(\"notF\", \"F\")\n",
    "    ) %>%\n",
    "    tidyr::pivot_longer(\n",
    "        cols = c(STAT1, SP1),\n",
    "        names_to = \"tfs\",\n",
    "        values_to = \"activity\"\n",
    "        ) %>%\n",
    "    filter(\n",
    "        !is.na(activity)\n",
    "    )"
   ]
  },
  {
   "cell_type": "markdown",
   "id": "2a61cd8d-4132-4ea3-b2bc-f9a799b4bb5e",
   "metadata": {},
   "source": [
    "**p-values**"
   ]
  },
  {
   "cell_type": "code",
   "execution_count": 15,
   "id": "82dffa8b-461f-41ae-a196-b0e627780ce8",
   "metadata": {
    "execution": {
     "iopub.execute_input": "2024-07-01T16:22:16.350361Z",
     "iopub.status.busy": "2024-07-01T16:22:16.349174Z",
     "iopub.status.idle": "2024-07-01T16:22:16.564889Z",
     "shell.execute_reply": "2024-07-01T16:22:16.563594Z"
    }
   },
   "outputs": [],
   "source": [
    "pvals_flare <- data_flare_level1 %>%\n",
    "  group_by(Level1, tfs) %>%\n",
    "  filter(n_distinct(Flare) == 2) %>% # Ensure that Flare has two levels\n",
    "  filter(all(table(Flare) >= 3)) %>% # Ensure that each level has at least two observations\n",
    "  summarise(\n",
    "    t_test = list(broom::tidy(t.test(activity ~ Flare))),\n",
    "    n_patients_F = sum(Flare == \"F\"),\n",
    "    n_patients_nF = sum(Flare == \"notF\"),  \n",
    "    .groups = \"drop\"\n",
    "  ) %>%\n",
    "  tidyr::unnest(t_test) %>%\n",
    "  select(Level1, tfs, p.value, n_patients_F, n_patients_nF) %>%\n",
    "  mutate(\n",
    "    pval_adj = p.adjust(p.value, method = \"BH\")\n",
    "  ) %>%\n",
    "  group_by(tfs) %>% # Group by tfs before adjusting p-values\n",
    "  mutate(\n",
    "    pval_adj_indep = p.adjust(p.value, method = \"BH\")\n",
    "  ) %>%\n",
    "  ungroup() %>%\n",
    "  filter(\n",
    "    p.value < 0.5\n",
    "  ) %>%\n",
    "  arrange(p.value)"
   ]
  },
  {
   "cell_type": "code",
   "execution_count": 16,
   "id": "d16ea3c8-1398-4776-acee-fe83712c25bb",
   "metadata": {
    "execution": {
     "iopub.execute_input": "2024-07-01T16:22:17.733089Z",
     "iopub.status.busy": "2024-07-01T16:22:17.731948Z",
     "iopub.status.idle": "2024-07-01T16:22:17.748934Z",
     "shell.execute_reply": "2024-07-01T16:22:17.747755Z"
    }
   },
   "outputs": [
    {
     "data": {
      "text/html": [
       "<table class=\"dataframe\">\n",
       "<caption>A tibble: 5 × 7</caption>\n",
       "<thead>\n",
       "\t<tr><th scope=col>Level1</th><th scope=col>tfs</th><th scope=col>p.value</th><th scope=col>n_patients_F</th><th scope=col>n_patients_nF</th><th scope=col>pval_adj</th><th scope=col>pval_adj_indep</th></tr>\n",
       "\t<tr><th scope=col>&lt;chr&gt;</th><th scope=col>&lt;chr&gt;</th><th scope=col>&lt;dbl&gt;</th><th scope=col>&lt;int&gt;</th><th scope=col>&lt;int&gt;</th><th scope=col>&lt;dbl&gt;</th><th scope=col>&lt;dbl&gt;</th></tr>\n",
       "</thead>\n",
       "<tbody>\n",
       "\t<tr><td>T_CD8_Naive   </td><td>STAT1</td><td>0.00126300</td><td>9</td><td>111</td><td>0.0088410</td><td>0.0037890</td></tr>\n",
       "\t<tr><td>Mono          </td><td>SP1  </td><td>0.03162800</td><td>9</td><td>115</td><td>0.1106980</td><td>0.1174516</td></tr>\n",
       "\t<tr><td>T_CD4_Naive   </td><td>SP1  </td><td>0.05872581</td><td>9</td><td>115</td><td>0.1370269</td><td>0.1174516</td></tr>\n",
       "\t<tr><td>ILC           </td><td>SP1  </td><td>0.21007653</td><td>8</td><td>113</td><td>0.3676339</td><td>0.2801020</td></tr>\n",
       "\t<tr><td>T_CD8_NonNaive</td><td>STAT1</td><td>0.46756171</td><td>9</td><td>115</td><td>0.6102640</td><td>0.7013426</td></tr>\n",
       "</tbody>\n",
       "</table>\n"
      ],
      "text/latex": [
       "A tibble: 5 × 7\n",
       "\\begin{tabular}{lllllll}\n",
       " Level1 & tfs & p.value & n\\_patients\\_F & n\\_patients\\_nF & pval\\_adj & pval\\_adj\\_indep\\\\\n",
       " <chr> & <chr> & <dbl> & <int> & <int> & <dbl> & <dbl>\\\\\n",
       "\\hline\n",
       "\t T\\_CD8\\_Naive    & STAT1 & 0.00126300 & 9 & 111 & 0.0088410 & 0.0037890\\\\\n",
       "\t Mono           & SP1   & 0.03162800 & 9 & 115 & 0.1106980 & 0.1174516\\\\\n",
       "\t T\\_CD4\\_Naive    & SP1   & 0.05872581 & 9 & 115 & 0.1370269 & 0.1174516\\\\\n",
       "\t ILC            & SP1   & 0.21007653 & 8 & 113 & 0.3676339 & 0.2801020\\\\\n",
       "\t T\\_CD8\\_NonNaive & STAT1 & 0.46756171 & 9 & 115 & 0.6102640 & 0.7013426\\\\\n",
       "\\end{tabular}\n"
      ],
      "text/markdown": [
       "\n",
       "A tibble: 5 × 7\n",
       "\n",
       "| Level1 &lt;chr&gt; | tfs &lt;chr&gt; | p.value &lt;dbl&gt; | n_patients_F &lt;int&gt; | n_patients_nF &lt;int&gt; | pval_adj &lt;dbl&gt; | pval_adj_indep &lt;dbl&gt; |\n",
       "|---|---|---|---|---|---|---|\n",
       "| T_CD8_Naive    | STAT1 | 0.00126300 | 9 | 111 | 0.0088410 | 0.0037890 |\n",
       "| Mono           | SP1   | 0.03162800 | 9 | 115 | 0.1106980 | 0.1174516 |\n",
       "| T_CD4_Naive    | SP1   | 0.05872581 | 9 | 115 | 0.1370269 | 0.1174516 |\n",
       "| ILC            | SP1   | 0.21007653 | 8 | 113 | 0.3676339 | 0.2801020 |\n",
       "| T_CD8_NonNaive | STAT1 | 0.46756171 | 9 | 115 | 0.6102640 | 0.7013426 |\n",
       "\n"
      ],
      "text/plain": [
       "  Level1         tfs   p.value    n_patients_F n_patients_nF pval_adj \n",
       "1 T_CD8_Naive    STAT1 0.00126300 9            111           0.0088410\n",
       "2 Mono           SP1   0.03162800 9            115           0.1106980\n",
       "3 T_CD4_Naive    SP1   0.05872581 9            115           0.1370269\n",
       "4 ILC            SP1   0.21007653 8            113           0.3676339\n",
       "5 T_CD8_NonNaive STAT1 0.46756171 9            115           0.6102640\n",
       "  pval_adj_indep\n",
       "1 0.0037890     \n",
       "2 0.1174516     \n",
       "3 0.1174516     \n",
       "4 0.2801020     \n",
       "5 0.7013426     "
      ]
     },
     "metadata": {},
     "output_type": "display_data"
    }
   ],
   "source": [
    "pvals_flare"
   ]
  },
  {
   "cell_type": "markdown",
   "id": "064aaf13-3093-4108-8b58-7e55e822bc1b",
   "metadata": {},
   "source": [
    "## Level 2"
   ]
  },
  {
   "cell_type": "code",
   "execution_count": 56,
   "id": "54dc7a9e-1641-4b4b-8f98-25a24719a586",
   "metadata": {
    "execution": {
     "iopub.execute_input": "2024-07-08T11:11:36.376988Z",
     "iopub.status.busy": "2024-07-08T11:11:36.375621Z",
     "iopub.status.idle": "2024-07-08T11:11:36.398230Z",
     "shell.execute_reply": "2024-07-08T11:11:36.396717Z"
    }
   },
   "outputs": [],
   "source": [
    "data_flare_level2 <-\n",
    "    perez2022_level2 %>%\n",
    "    mutate(\n",
    "        Flare = case_when(Flare == \"not_F\" ~ \"notF\",\n",
    "        TRUE ~ as.character(Flare))\n",
    "    ) %>%\n",
    "    filter(\n",
    "        Flare %in% c(\"notF\", \"F\")\n",
    "    ) %>%\n",
    "    tidyr::pivot_longer(\n",
    "        cols = c(STAT1, SP1),\n",
    "        names_to = \"tfs\",\n",
    "        values_to = \"activity\"\n",
    "        ) %>%\n",
    "    filter(\n",
    "        !is.na(activity),\n",
    "        #Level1 %in% pvals_flare$Level1\n",
    "    ) %>%\n",
    "    mutate(tfs = factor(tfs, levels = c(\"STAT1\", \"SP1\")))\n"
   ]
  },
  {
   "cell_type": "code",
   "execution_count": 63,
   "id": "0d2dbd05-0a1f-44f4-a2ee-816a4a766ca6",
   "metadata": {
    "execution": {
     "iopub.execute_input": "2024-07-08T11:15:54.317286Z",
     "iopub.status.busy": "2024-07-08T11:15:54.316098Z",
     "iopub.status.idle": "2024-07-08T11:15:54.462357Z",
     "shell.execute_reply": "2024-07-08T11:15:54.460942Z"
    }
   },
   "outputs": [],
   "source": [
    "pvals_flare_supp_table <- data_flare_level2 %>%\n",
    "  group_by(Level2, tfs) %>%\n",
    "  filter(n_distinct(Flare) == 2) %>% # Ensure that Flare has two levels\n",
    "  filter(all(table(Flare) >= 2)) %>% # Ensure that each level has at least two observations\n",
    "  summarise(\n",
    "    t_test = list(broom::tidy(t.test(activity ~ Flare))),\n",
    "    n_patients_F = sum(Flare == \"F\"),\n",
    "    n_patients_nF = sum(Flare == \"notF\"),  \n",
    "    .groups = \"drop\"\n",
    "  ) %>%\n",
    "  tidyr::unnest(t_test) %>%\n",
    "  select(Level2, tfs, p.value, n_patients_F, n_patients_nF) %>%\n",
    "  mutate(\n",
    "    pval_adj = p.adjust(p.value, method = \"BH\")\n",
    "  ) %>%\n",
    "  group_by(tfs) %>% # Group by tfs before adjusting p-values\n",
    "  mutate(\n",
    "    pval_adj_indep = p.adjust(p.value, method = \"BH\")\n",
    "  ) %>%\n",
    "  ungroup() %>%\n",
    "  arrange(p.value)\n",
    "\n",
    "write.csv(pvals_flare_supp_table, \"results/supplementary_tables/Flare_comparison_pvalues.csv\", row.names = FALSE)\n"
   ]
  },
  {
   "cell_type": "code",
   "execution_count": 60,
   "id": "05de3ae8-d592-472c-b6a6-f3e1d0f1f2e5",
   "metadata": {
    "execution": {
     "iopub.execute_input": "2024-07-08T11:12:36.409283Z",
     "iopub.status.busy": "2024-07-08T11:12:36.407763Z",
     "iopub.status.idle": "2024-07-08T11:12:36.468839Z",
     "shell.execute_reply": "2024-07-08T11:12:36.465960Z"
    }
   },
   "outputs": [
    {
     "data": {
      "text/html": [
       "<table class=\"dataframe\">\n",
       "<caption>A tibble: 7 × 7</caption>\n",
       "<thead>\n",
       "\t<tr><th scope=col>Level2</th><th scope=col>tfs</th><th scope=col>p.value</th><th scope=col>n_patients_F</th><th scope=col>n_patients_nF</th><th scope=col>pval_adj</th><th scope=col>pval_adj_indep</th></tr>\n",
       "\t<tr><th scope=col>&lt;chr&gt;</th><th scope=col>&lt;fct&gt;</th><th scope=col>&lt;dbl&gt;</th><th scope=col>&lt;int&gt;</th><th scope=col>&lt;int&gt;</th><th scope=col>&lt;dbl&gt;</th><th scope=col>&lt;dbl&gt;</th></tr>\n",
       "</thead>\n",
       "<tbody>\n",
       "\t<tr><td>Mono_classical   </td><td>SP1  </td><td>0.0002221261</td><td>9</td><td>115</td><td>0.006885908</td><td>0.003776143</td></tr>\n",
       "\t<tr><td>T_CD8_Naive      </td><td>STAT1</td><td>0.0015835846</td><td>9</td><td>111</td><td>0.024545562</td><td>0.022170185</td></tr>\n",
       "\t<tr><td>Mono_IFNresponse </td><td>SP1  </td><td>0.0031170107</td><td>9</td><td>114</td><td>0.027156540</td><td>0.019856395</td></tr>\n",
       "\t<tr><td>T_CD8_CM_stem    </td><td>SP1  </td><td>0.0035040697</td><td>3</td><td> 19</td><td>0.027156540</td><td>0.019856395</td></tr>\n",
       "\t<tr><td>Mono_inflammatory</td><td>SP1  </td><td>0.0052947684</td><td>6</td><td>107</td><td>0.032827564</td><td>0.022502766</td></tr>\n",
       "\t<tr><td>T_CD8_eff_HOBIT  </td><td>STAT1</td><td>0.0100411587</td><td>4</td><td> 39</td><td>0.051298005</td><td>0.070288111</td></tr>\n",
       "\t<tr><td>Mono_nonClassical</td><td>SP1  </td><td>0.0115834206</td><td>7</td><td>114</td><td>0.051298005</td><td>0.039383630</td></tr>\n",
       "</tbody>\n",
       "</table>\n"
      ],
      "text/latex": [
       "A tibble: 7 × 7\n",
       "\\begin{tabular}{lllllll}\n",
       " Level2 & tfs & p.value & n\\_patients\\_F & n\\_patients\\_nF & pval\\_adj & pval\\_adj\\_indep\\\\\n",
       " <chr> & <fct> & <dbl> & <int> & <int> & <dbl> & <dbl>\\\\\n",
       "\\hline\n",
       "\t Mono\\_classical    & SP1   & 0.0002221261 & 9 & 115 & 0.006885908 & 0.003776143\\\\\n",
       "\t T\\_CD8\\_Naive       & STAT1 & 0.0015835846 & 9 & 111 & 0.024545562 & 0.022170185\\\\\n",
       "\t Mono\\_IFNresponse  & SP1   & 0.0031170107 & 9 & 114 & 0.027156540 & 0.019856395\\\\\n",
       "\t T\\_CD8\\_CM\\_stem     & SP1   & 0.0035040697 & 3 &  19 & 0.027156540 & 0.019856395\\\\\n",
       "\t Mono\\_inflammatory & SP1   & 0.0052947684 & 6 & 107 & 0.032827564 & 0.022502766\\\\\n",
       "\t T\\_CD8\\_eff\\_HOBIT   & STAT1 & 0.0100411587 & 4 &  39 & 0.051298005 & 0.070288111\\\\\n",
       "\t Mono\\_nonClassical & SP1   & 0.0115834206 & 7 & 114 & 0.051298005 & 0.039383630\\\\\n",
       "\\end{tabular}\n"
      ],
      "text/markdown": [
       "\n",
       "A tibble: 7 × 7\n",
       "\n",
       "| Level2 &lt;chr&gt; | tfs &lt;fct&gt; | p.value &lt;dbl&gt; | n_patients_F &lt;int&gt; | n_patients_nF &lt;int&gt; | pval_adj &lt;dbl&gt; | pval_adj_indep &lt;dbl&gt; |\n",
       "|---|---|---|---|---|---|---|\n",
       "| Mono_classical    | SP1   | 0.0002221261 | 9 | 115 | 0.006885908 | 0.003776143 |\n",
       "| T_CD8_Naive       | STAT1 | 0.0015835846 | 9 | 111 | 0.024545562 | 0.022170185 |\n",
       "| Mono_IFNresponse  | SP1   | 0.0031170107 | 9 | 114 | 0.027156540 | 0.019856395 |\n",
       "| T_CD8_CM_stem     | SP1   | 0.0035040697 | 3 |  19 | 0.027156540 | 0.019856395 |\n",
       "| Mono_inflammatory | SP1   | 0.0052947684 | 6 | 107 | 0.032827564 | 0.022502766 |\n",
       "| T_CD8_eff_HOBIT   | STAT1 | 0.0100411587 | 4 |  39 | 0.051298005 | 0.070288111 |\n",
       "| Mono_nonClassical | SP1   | 0.0115834206 | 7 | 114 | 0.051298005 | 0.039383630 |\n",
       "\n"
      ],
      "text/plain": [
       "  Level2            tfs   p.value      n_patients_F n_patients_nF pval_adj   \n",
       "1 Mono_classical    SP1   0.0002221261 9            115           0.006885908\n",
       "2 T_CD8_Naive       STAT1 0.0015835846 9            111           0.024545562\n",
       "3 Mono_IFNresponse  SP1   0.0031170107 9            114           0.027156540\n",
       "4 T_CD8_CM_stem     SP1   0.0035040697 3             19           0.027156540\n",
       "5 Mono_inflammatory SP1   0.0052947684 6            107           0.032827564\n",
       "6 T_CD8_eff_HOBIT   STAT1 0.0100411587 4             39           0.051298005\n",
       "7 Mono_nonClassical SP1   0.0115834206 7            114           0.051298005\n",
       "  pval_adj_indep\n",
       "1 0.003776143   \n",
       "2 0.022170185   \n",
       "3 0.019856395   \n",
       "4 0.019856395   \n",
       "5 0.022502766   \n",
       "6 0.070288111   \n",
       "7 0.039383630   "
      ]
     },
     "metadata": {},
     "output_type": "display_data"
    }
   ],
   "source": [
    "pvals_flare <- pvals_flare_supp_table %>%\n",
    "  filter(\n",
    "    p.value < 0.05\n",
    "  ) %>%\n",
    "  arrange(p.value)\n",
    "pvals_flare"
   ]
  },
  {
   "cell_type": "code",
   "execution_count": null,
   "id": "625cd2cb-6154-483c-b318-d838f1539c48",
   "metadata": {},
   "outputs": [],
   "source": [
    "pvals_flare_supp_table <- data_flare_level2 %>%\n",
    "  group_by(Level2, tfs) %>%\n",
    "  filter(n_distinct(Flare) == 2) %>% # Ensure that Flare has two levels\n",
    "  filter(all(table(Flare) >= 2)) %>% # Ensure that each level has at least two observations\n",
    "  summarise(\n",
    "    t_test = list(broom::tidy(t.test(activity ~ Flare))),\n",
    "    n_patients_F = sum(Flare == \"F\"),\n",
    "    n_patients_nF = sum(Flare == \"notF\"),  \n",
    "    .groups = \"drop\"\n",
    "  ) %>%\n",
    "  tidyr::unnest(t_test) %>%\n",
    "  select(Level2, tfs, p.value, n_patients_F, n_patients_nF) %>%\n",
    "  mutate(\n",
    "    pval_adj = p.adjust(p.value, method = \"BH\")\n",
    "  ) %>%\n",
    "  group_by(tfs) %>% # Group by tfs before adjusting p-values\n",
    "  mutate(\n",
    "    pval_adj_indep = p.adjust(p.value, method = \"BH\")\n",
    "  ) %>%\n",
    "  ungroup() %>%\n",
    "  arrange(p.value)\n",
    "\n",
    "pvals_flare"
   ]
  },
  {
   "cell_type": "markdown",
   "id": "b662c1a1-5dda-4bf7-9e64-ca78c694caf0",
   "metadata": {},
   "source": [
    "### Plot"
   ]
  },
  {
   "cell_type": "code",
   "execution_count": 30,
   "id": "541f718e-fb93-4aff-9d00-2a4f3f99ba8f",
   "metadata": {
    "execution": {
     "iopub.execute_input": "2024-07-01T14:10:48.706863Z",
     "iopub.status.busy": "2024-07-01T14:10:48.705559Z",
     "iopub.status.idle": "2024-07-01T14:10:49.860684Z",
     "shell.execute_reply": "2024-07-01T14:10:49.859181Z"
    }
   },
   "outputs": [],
   "source": [
    "plot_flare <- ggboxplot(data_flare_level2, x = \"Level2\", y = \"activity\", fill = \"Flare\") +\n",
    "    facet_grid(tfs ~ Level1, scales = \"free\") +\n",
    "    scale_fill_manual(values = flare_palette) +\n",
    "    theme_bw() +\n",
    "    ggtitle(label = \"Flare\") +\n",
    "    theme(\n",
    "        axis.text.x = element_text(angle = 25, vjust = 0.5, hjust=0.5)\n",
    ")\n",
    "\n",
    "ggsave(\n",
    "    plot_flare,\n",
    "    filename = \"plot_flare.pdf\",\n",
    "    device = \"pdf\",\n",
    "    width = 15,\n",
    "    height = 12,\n",
    "    path = \"results/Compare_SLE_subgroups/\")"
   ]
  },
  {
   "cell_type": "markdown",
   "id": "c7f63d03-4fdc-4aff-bd64-8af6dfe75499",
   "metadata": {},
   "source": [
    "# Response comparison"
   ]
  },
  {
   "cell_type": "markdown",
   "id": "93a329e9-c11b-44e9-99e7-e0e87e721eb9",
   "metadata": {},
   "source": [
    "**Palette**"
   ]
  },
  {
   "cell_type": "code",
   "execution_count": 25,
   "id": "29b22c0a-1d2d-4cd3-9853-4cc7e2597a3f",
   "metadata": {
    "execution": {
     "iopub.execute_input": "2024-07-01T15:47:10.965525Z",
     "iopub.status.busy": "2024-07-01T15:47:10.964287Z",
     "iopub.status.idle": "2024-07-01T15:47:10.974488Z",
     "shell.execute_reply": "2024-07-01T15:47:10.973323Z"
    }
   },
   "outputs": [],
   "source": [
    "# Response ---------------------\n",
    "response_palette <- c(\n",
    "    \"R\" = \"#70e000\",\n",
    "    \"NR\" = \"#007200\"\n",
    ")\n"
   ]
  },
  {
   "cell_type": "markdown",
   "id": "4b21cf3c-e5b2-445b-be6d-9bc34f480471",
   "metadata": {},
   "source": [
    "## Level 1"
   ]
  },
  {
   "cell_type": "markdown",
   "id": "30b1f9d7-f912-48a4-9eec-b7f4f8398a8a",
   "metadata": {},
   "source": [
    "**Filter input DF**"
   ]
  },
  {
   "cell_type": "code",
   "execution_count": 76,
   "id": "122a6b7a-07e6-4367-9ab1-8b96e71b7a48",
   "metadata": {
    "execution": {
     "iopub.execute_input": "2024-07-01T16:15:11.290133Z",
     "iopub.status.busy": "2024-07-01T16:15:11.289077Z",
     "iopub.status.idle": "2024-07-01T16:15:11.303374Z",
     "shell.execute_reply": "2024-07-01T16:15:11.302053Z"
    }
   },
   "outputs": [],
   "source": [
    "data_response_level1 <-\n",
    "    scgt00_level1 %>%\n",
    "    filter(\n",
    "        Responder %in% c(\"R\", \"NR\")\n",
    "    ) %>%\n",
    "    tidyr::pivot_longer(\n",
    "        cols = c(STAT1, SP1),\n",
    "        names_to = \"tfs\",\n",
    "        values_to = \"activity\"\n",
    "        ) %>%\n",
    "    filter(\n",
    "        !is.na(activity)\n",
    "    )"
   ]
  },
  {
   "cell_type": "markdown",
   "id": "e270349f-3c9f-40c5-9711-4008a37c823e",
   "metadata": {},
   "source": [
    "**p-values**"
   ]
  },
  {
   "cell_type": "code",
   "execution_count": 77,
   "id": "e8cee09f-4dcd-476a-94bd-84821eba4a8c",
   "metadata": {
    "execution": {
     "iopub.execute_input": "2024-07-01T16:15:13.222104Z",
     "iopub.status.busy": "2024-07-01T16:15:13.221025Z",
     "iopub.status.idle": "2024-07-01T16:15:13.279350Z",
     "shell.execute_reply": "2024-07-01T16:15:13.278034Z"
    }
   },
   "outputs": [],
   "source": [
    "pvals_response <- data_response_level1 %>%\n",
    "  group_by(Level1, tfs) %>%\n",
    "  filter(n_distinct(Responder) == 2) %>% # Ensure that Flare has two levels\n",
    "  filter(all(table(Responder) >= 2)) %>% # Ensure that each level has at least two observations\n",
    "  summarise(\n",
    "    t_test = list(broom::tidy(t.test(activity ~ Responder))),\n",
    "    n_patients_R = sum(Responder == \"R\"),\n",
    "    n_patients_NR = sum(Responder == \"NR\"),  \n",
    "    .groups = \"drop\"\n",
    "  ) %>%\n",
    "  tidyr::unnest(t_test) %>%\n",
    "  select(Level1, tfs, p.value, n_patients_R, n_patients_NR) %>%\n",
    "  mutate(\n",
    "    pval_adj = p.adjust(p.value, method = \"fdr\")\n",
    "  ) %>%\n",
    "  group_by(tfs) %>% # Group by tfs before adjusting p-values\n",
    "  mutate(\n",
    "    pval_adj_indep = p.adjust(p.value, method = \"BH\")\n",
    "  ) %>%\n",
    "  ungroup() %>%\n",
    "  filter(\n",
    "    p.value < 1\n",
    "  ) %>%\n",
    "  arrange(p.value)"
   ]
  },
  {
   "cell_type": "code",
   "execution_count": 78,
   "id": "a8f36bf1-c149-4fbb-bb48-7b4a5e3b5862",
   "metadata": {
    "execution": {
     "iopub.execute_input": "2024-07-01T16:15:15.066454Z",
     "iopub.status.busy": "2024-07-01T16:15:15.065334Z",
     "iopub.status.idle": "2024-07-01T16:15:15.088669Z",
     "shell.execute_reply": "2024-07-01T16:15:15.087516Z"
    }
   },
   "outputs": [
    {
     "data": {
      "text/html": [
       "<table class=\"dataframe\">\n",
       "<caption>A tibble: 9 × 7</caption>\n",
       "<thead>\n",
       "\t<tr><th scope=col>Level1</th><th scope=col>tfs</th><th scope=col>p.value</th><th scope=col>n_patients_R</th><th scope=col>n_patients_NR</th><th scope=col>pval_adj</th><th scope=col>pval_adj_indep</th></tr>\n",
       "\t<tr><th scope=col>&lt;chr&gt;</th><th scope=col>&lt;chr&gt;</th><th scope=col>&lt;dbl&gt;</th><th scope=col>&lt;int&gt;</th><th scope=col>&lt;int&gt;</th><th scope=col>&lt;dbl&gt;</th><th scope=col>&lt;dbl&gt;</th></tr>\n",
       "</thead>\n",
       "<tbody>\n",
       "\t<tr><td>T_CD4_Naive   </td><td>SP1  </td><td>0.08256271</td><td>8</td><td>8</td><td>0.7101654</td><td>0.3302509</td></tr>\n",
       "\t<tr><td>Plasma        </td><td>STAT1</td><td>0.15781454</td><td>3</td><td>3</td><td>0.7101654</td><td>0.7640626</td></tr>\n",
       "\t<tr><td>Mono          </td><td>STAT1</td><td>0.41754813</td><td>8</td><td>8</td><td>0.9959693</td><td>0.7640626</td></tr>\n",
       "\t<tr><td>pDC           </td><td>STAT1</td><td>0.48499994</td><td>4</td><td>6</td><td>0.9959693</td><td>0.7640626</td></tr>\n",
       "\t<tr><td>T_CD8_Naive   </td><td>STAT1</td><td>0.61125007</td><td>8</td><td>8</td><td>0.9959693</td><td>0.7640626</td></tr>\n",
       "\t<tr><td>ILC           </td><td>SP1  </td><td>0.81912622</td><td>8</td><td>8</td><td>0.9959693</td><td>0.9959693</td></tr>\n",
       "\t<tr><td>T_CD8_NonNaive</td><td>STAT1</td><td>0.89300462</td><td>8</td><td>8</td><td>0.9959693</td><td>0.8930046</td></tr>\n",
       "\t<tr><td>T_CD8_NonNaive</td><td>SP1  </td><td>0.94809089</td><td>8</td><td>8</td><td>0.9959693</td><td>0.9959693</td></tr>\n",
       "\t<tr><td>Mono          </td><td>SP1  </td><td>0.99596934</td><td>8</td><td>8</td><td>0.9959693</td><td>0.9959693</td></tr>\n",
       "</tbody>\n",
       "</table>\n"
      ],
      "text/latex": [
       "A tibble: 9 × 7\n",
       "\\begin{tabular}{lllllll}\n",
       " Level1 & tfs & p.value & n\\_patients\\_R & n\\_patients\\_NR & pval\\_adj & pval\\_adj\\_indep\\\\\n",
       " <chr> & <chr> & <dbl> & <int> & <int> & <dbl> & <dbl>\\\\\n",
       "\\hline\n",
       "\t T\\_CD4\\_Naive    & SP1   & 0.08256271 & 8 & 8 & 0.7101654 & 0.3302509\\\\\n",
       "\t Plasma         & STAT1 & 0.15781454 & 3 & 3 & 0.7101654 & 0.7640626\\\\\n",
       "\t Mono           & STAT1 & 0.41754813 & 8 & 8 & 0.9959693 & 0.7640626\\\\\n",
       "\t pDC            & STAT1 & 0.48499994 & 4 & 6 & 0.9959693 & 0.7640626\\\\\n",
       "\t T\\_CD8\\_Naive    & STAT1 & 0.61125007 & 8 & 8 & 0.9959693 & 0.7640626\\\\\n",
       "\t ILC            & SP1   & 0.81912622 & 8 & 8 & 0.9959693 & 0.9959693\\\\\n",
       "\t T\\_CD8\\_NonNaive & STAT1 & 0.89300462 & 8 & 8 & 0.9959693 & 0.8930046\\\\\n",
       "\t T\\_CD8\\_NonNaive & SP1   & 0.94809089 & 8 & 8 & 0.9959693 & 0.9959693\\\\\n",
       "\t Mono           & SP1   & 0.99596934 & 8 & 8 & 0.9959693 & 0.9959693\\\\\n",
       "\\end{tabular}\n"
      ],
      "text/markdown": [
       "\n",
       "A tibble: 9 × 7\n",
       "\n",
       "| Level1 &lt;chr&gt; | tfs &lt;chr&gt; | p.value &lt;dbl&gt; | n_patients_R &lt;int&gt; | n_patients_NR &lt;int&gt; | pval_adj &lt;dbl&gt; | pval_adj_indep &lt;dbl&gt; |\n",
       "|---|---|---|---|---|---|---|\n",
       "| T_CD4_Naive    | SP1   | 0.08256271 | 8 | 8 | 0.7101654 | 0.3302509 |\n",
       "| Plasma         | STAT1 | 0.15781454 | 3 | 3 | 0.7101654 | 0.7640626 |\n",
       "| Mono           | STAT1 | 0.41754813 | 8 | 8 | 0.9959693 | 0.7640626 |\n",
       "| pDC            | STAT1 | 0.48499994 | 4 | 6 | 0.9959693 | 0.7640626 |\n",
       "| T_CD8_Naive    | STAT1 | 0.61125007 | 8 | 8 | 0.9959693 | 0.7640626 |\n",
       "| ILC            | SP1   | 0.81912622 | 8 | 8 | 0.9959693 | 0.9959693 |\n",
       "| T_CD8_NonNaive | STAT1 | 0.89300462 | 8 | 8 | 0.9959693 | 0.8930046 |\n",
       "| T_CD8_NonNaive | SP1   | 0.94809089 | 8 | 8 | 0.9959693 | 0.9959693 |\n",
       "| Mono           | SP1   | 0.99596934 | 8 | 8 | 0.9959693 | 0.9959693 |\n",
       "\n"
      ],
      "text/plain": [
       "  Level1         tfs   p.value    n_patients_R n_patients_NR pval_adj \n",
       "1 T_CD4_Naive    SP1   0.08256271 8            8             0.7101654\n",
       "2 Plasma         STAT1 0.15781454 3            3             0.7101654\n",
       "3 Mono           STAT1 0.41754813 8            8             0.9959693\n",
       "4 pDC            STAT1 0.48499994 4            6             0.9959693\n",
       "5 T_CD8_Naive    STAT1 0.61125007 8            8             0.9959693\n",
       "6 ILC            SP1   0.81912622 8            8             0.9959693\n",
       "7 T_CD8_NonNaive STAT1 0.89300462 8            8             0.9959693\n",
       "8 T_CD8_NonNaive SP1   0.94809089 8            8             0.9959693\n",
       "9 Mono           SP1   0.99596934 8            8             0.9959693\n",
       "  pval_adj_indep\n",
       "1 0.3302509     \n",
       "2 0.7640626     \n",
       "3 0.7640626     \n",
       "4 0.7640626     \n",
       "5 0.7640626     \n",
       "6 0.9959693     \n",
       "7 0.8930046     \n",
       "8 0.9959693     \n",
       "9 0.9959693     "
      ]
     },
     "metadata": {},
     "output_type": "display_data"
    }
   ],
   "source": [
    "pvals_response"
   ]
  },
  {
   "cell_type": "markdown",
   "id": "264fd3ee-7b29-480b-9f30-65b797c51b36",
   "metadata": {},
   "source": [
    "## Level 2"
   ]
  },
  {
   "cell_type": "code",
   "execution_count": 79,
   "id": "2a2f750c-091d-4bf0-bd26-53a70582937c",
   "metadata": {
    "execution": {
     "iopub.execute_input": "2024-07-01T16:15:42.020701Z",
     "iopub.status.busy": "2024-07-01T16:15:42.019551Z",
     "iopub.status.idle": "2024-07-01T16:15:42.071671Z",
     "shell.execute_reply": "2024-07-01T16:15:42.070320Z"
    }
   },
   "outputs": [],
   "source": [
    "data_response_level2 <-\n",
    "    scgt00_level2 %>%\n",
    "    filter(\n",
    "        Responder %in% c(\"R\", \"NR\")\n",
    "    ) %>%\n",
    "    tidyr::pivot_longer(\n",
    "        cols = c(STAT1, SP1),\n",
    "        names_to = \"tfs\",\n",
    "        values_to = \"activity\"\n",
    "        ) %>%\n",
    "    filter(\n",
    "        !is.na(activity)\n",
    "    ) %>%\n",
    "    mutate(tfs = factor(tfs, levels = c(\"STAT1\", \"SP1\")))"
   ]
  },
  {
   "cell_type": "code",
   "execution_count": 43,
   "id": "85a3867f-69f0-4aa2-ac23-d1b6e44c6f01",
   "metadata": {
    "execution": {
     "iopub.execute_input": "2024-07-01T15:52:47.819098Z",
     "iopub.status.busy": "2024-07-01T15:52:47.817948Z",
     "iopub.status.idle": "2024-07-01T15:52:48.003845Z",
     "shell.execute_reply": "2024-07-01T15:52:48.002202Z"
    }
   },
   "outputs": [
    {
     "data": {
      "text/html": [
       "<table class=\"dataframe\">\n",
       "<caption>A tibble: 31 × 7</caption>\n",
       "<thead>\n",
       "\t<tr><th scope=col>Level2</th><th scope=col>tfs</th><th scope=col>p.value</th><th scope=col>n_patients_R</th><th scope=col>n_patients_NR</th><th scope=col>pval_adj</th><th scope=col>pval_adj_indep</th></tr>\n",
       "\t<tr><th scope=col>&lt;chr&gt;</th><th scope=col>&lt;fct&gt;</th><th scope=col>&lt;dbl&gt;</th><th scope=col>&lt;int&gt;</th><th scope=col>&lt;int&gt;</th><th scope=col>&lt;dbl&gt;</th><th scope=col>&lt;dbl&gt;</th></tr>\n",
       "</thead>\n",
       "<tbody>\n",
       "\t<tr><td>Plasma_IGHA        </td><td>STAT1</td><td>0.03910844</td><td>2</td><td>3</td><td>0.9511660</td><td>0.5475181</td></tr>\n",
       "\t<tr><td>T_CD4_Naive        </td><td>SP1  </td><td>0.10231064</td><td>8</td><td>8</td><td>0.9511660</td><td>0.9883599</td></tr>\n",
       "\t<tr><td>Mono_IFNresponse   </td><td>STAT1</td><td>0.31797313</td><td>7</td><td>7</td><td>0.9511660</td><td>0.8481143</td></tr>\n",
       "\t<tr><td>Mono_nonClassical  </td><td>STAT1</td><td>0.33028730</td><td>6</td><td>7</td><td>0.9511660</td><td>0.8481143</td></tr>\n",
       "\t<tr><td>NK_adaptive        </td><td>SP1  </td><td>0.34739137</td><td>7</td><td>3</td><td>0.9511660</td><td>0.9883599</td></tr>\n",
       "\t<tr><td>pDC                </td><td>STAT1</td><td>0.35960776</td><td>4</td><td>6</td><td>0.9511660</td><td>0.8481143</td></tr>\n",
       "\t<tr><td>Mono_inflammatory  </td><td>STAT1</td><td>0.37076575</td><td>8</td><td>8</td><td>0.9511660</td><td>0.8481143</td></tr>\n",
       "\t<tr><td>Mono_regulatory    </td><td>STAT1</td><td>0.42106943</td><td>8</td><td>8</td><td>0.9511660</td><td>0.8481143</td></tr>\n",
       "\t<tr><td>T_CD8_IFNresponse  </td><td>SP1  </td><td>0.49570302</td><td>8</td><td>8</td><td>0.9511660</td><td>0.9883599</td></tr>\n",
       "\t<tr><td>NK_CD56dimCD16     </td><td>SP1  </td><td>0.49667236</td><td>6</td><td>4</td><td>0.9511660</td><td>0.9883599</td></tr>\n",
       "\t<tr><td>T_CD8_CM_stem      </td><td>SP1  </td><td>0.51030942</td><td>6</td><td>5</td><td>0.9511660</td><td>0.9883599</td></tr>\n",
       "\t<tr><td>Mono_classical     </td><td>STAT1</td><td>0.52215294</td><td>8</td><td>8</td><td>0.9511660</td><td>0.8481143</td></tr>\n",
       "\t<tr><td>T_CD8_EM_CX3CR1int </td><td>SP1  </td><td>0.52530745</td><td>4</td><td>4</td><td>0.9511660</td><td>0.9883599</td></tr>\n",
       "\t<tr><td>T_CD8_CM_stem      </td><td>STAT1</td><td>0.58042164</td><td>6</td><td>5</td><td>0.9511660</td><td>0.8481143</td></tr>\n",
       "\t<tr><td>T_CD8_activated    </td><td>STAT1</td><td>0.58047777</td><td>6</td><td>8</td><td>0.9511660</td><td>0.8481143</td></tr>\n",
       "\t<tr><td>NK_IFN1response    </td><td>SP1  </td><td>0.61703307</td><td>8</td><td>6</td><td>0.9511660</td><td>0.9883599</td></tr>\n",
       "\t<tr><td>Mono_inflammatory  </td><td>SP1  </td><td>0.63527375</td><td>8</td><td>8</td><td>0.9511660</td><td>0.9883599</td></tr>\n",
       "\t<tr><td>T_CD8_activated    </td><td>SP1  </td><td>0.65491534</td><td>6</td><td>8</td><td>0.9511660</td><td>0.9883599</td></tr>\n",
       "\t<tr><td>T_CD8_EM_CX3CR1high</td><td>STAT1</td><td>0.66757355</td><td>3</td><td>7</td><td>0.9511660</td><td>0.8481143</td></tr>\n",
       "\t<tr><td>T_CD8_Naive        </td><td>STAT1</td><td>0.77618502</td><td>8</td><td>8</td><td>0.9511660</td><td>0.8481143</td></tr>\n",
       "\t<tr><td>Mono_IFNresponse   </td><td>SP1  </td><td>0.77629117</td><td>7</td><td>7</td><td>0.9511660</td><td>0.9883599</td></tr>\n",
       "\t<tr><td>T_CD8_EM_CX3CR1int </td><td>STAT1</td><td>0.77785850</td><td>4</td><td>4</td><td>0.9511660</td><td>0.8481143</td></tr>\n",
       "\t<tr><td>NK_lowRibocontent  </td><td>SP1  </td><td>0.79357288</td><td>8</td><td>8</td><td>0.9511660</td><td>0.9883599</td></tr>\n",
       "\t<tr><td>T_CD8_CM           </td><td>STAT1</td><td>0.81596978</td><td>8</td><td>8</td><td>0.9511660</td><td>0.8481143</td></tr>\n",
       "\t<tr><td>Mono_classical     </td><td>SP1  </td><td>0.84057068</td><td>8</td><td>8</td><td>0.9511660</td><td>0.9883599</td></tr>\n",
       "\t<tr><td>T_CD8_IFNresponse  </td><td>STAT1</td><td>0.84811426</td><td>8</td><td>8</td><td>0.9511660</td><td>0.8481143</td></tr>\n",
       "\t<tr><td>NK_CD56high        </td><td>SP1  </td><td>0.85704482</td><td>8</td><td>8</td><td>0.9511660</td><td>0.9883599</td></tr>\n",
       "\t<tr><td>Mono_nonClassical  </td><td>SP1  </td><td>0.88883578</td><td>6</td><td>7</td><td>0.9511660</td><td>0.9883599</td></tr>\n",
       "\t<tr><td>T_CD8_CM           </td><td>SP1  </td><td>0.88980046</td><td>8</td><td>8</td><td>0.9511660</td><td>0.9883599</td></tr>\n",
       "\t<tr><td>T_CD8_EM_CX3CR1high</td><td>SP1  </td><td>0.93022108</td><td>3</td><td>7</td><td>0.9612284</td><td>0.9883599</td></tr>\n",
       "\t<tr><td>Mono_regulatory    </td><td>SP1  </td><td>0.98870462</td><td>8</td><td>8</td><td>0.9887046</td><td>0.9887046</td></tr>\n",
       "</tbody>\n",
       "</table>\n"
      ],
      "text/latex": [
       "A tibble: 31 × 7\n",
       "\\begin{tabular}{lllllll}\n",
       " Level2 & tfs & p.value & n\\_patients\\_R & n\\_patients\\_NR & pval\\_adj & pval\\_adj\\_indep\\\\\n",
       " <chr> & <fct> & <dbl> & <int> & <int> & <dbl> & <dbl>\\\\\n",
       "\\hline\n",
       "\t Plasma\\_IGHA         & STAT1 & 0.03910844 & 2 & 3 & 0.9511660 & 0.5475181\\\\\n",
       "\t T\\_CD4\\_Naive         & SP1   & 0.10231064 & 8 & 8 & 0.9511660 & 0.9883599\\\\\n",
       "\t Mono\\_IFNresponse    & STAT1 & 0.31797313 & 7 & 7 & 0.9511660 & 0.8481143\\\\\n",
       "\t Mono\\_nonClassical   & STAT1 & 0.33028730 & 6 & 7 & 0.9511660 & 0.8481143\\\\\n",
       "\t NK\\_adaptive         & SP1   & 0.34739137 & 7 & 3 & 0.9511660 & 0.9883599\\\\\n",
       "\t pDC                 & STAT1 & 0.35960776 & 4 & 6 & 0.9511660 & 0.8481143\\\\\n",
       "\t Mono\\_inflammatory   & STAT1 & 0.37076575 & 8 & 8 & 0.9511660 & 0.8481143\\\\\n",
       "\t Mono\\_regulatory     & STAT1 & 0.42106943 & 8 & 8 & 0.9511660 & 0.8481143\\\\\n",
       "\t T\\_CD8\\_IFNresponse   & SP1   & 0.49570302 & 8 & 8 & 0.9511660 & 0.9883599\\\\\n",
       "\t NK\\_CD56dimCD16      & SP1   & 0.49667236 & 6 & 4 & 0.9511660 & 0.9883599\\\\\n",
       "\t T\\_CD8\\_CM\\_stem       & SP1   & 0.51030942 & 6 & 5 & 0.9511660 & 0.9883599\\\\\n",
       "\t Mono\\_classical      & STAT1 & 0.52215294 & 8 & 8 & 0.9511660 & 0.8481143\\\\\n",
       "\t T\\_CD8\\_EM\\_CX3CR1int  & SP1   & 0.52530745 & 4 & 4 & 0.9511660 & 0.9883599\\\\\n",
       "\t T\\_CD8\\_CM\\_stem       & STAT1 & 0.58042164 & 6 & 5 & 0.9511660 & 0.8481143\\\\\n",
       "\t T\\_CD8\\_activated     & STAT1 & 0.58047777 & 6 & 8 & 0.9511660 & 0.8481143\\\\\n",
       "\t NK\\_IFN1response     & SP1   & 0.61703307 & 8 & 6 & 0.9511660 & 0.9883599\\\\\n",
       "\t Mono\\_inflammatory   & SP1   & 0.63527375 & 8 & 8 & 0.9511660 & 0.9883599\\\\\n",
       "\t T\\_CD8\\_activated     & SP1   & 0.65491534 & 6 & 8 & 0.9511660 & 0.9883599\\\\\n",
       "\t T\\_CD8\\_EM\\_CX3CR1high & STAT1 & 0.66757355 & 3 & 7 & 0.9511660 & 0.8481143\\\\\n",
       "\t T\\_CD8\\_Naive         & STAT1 & 0.77618502 & 8 & 8 & 0.9511660 & 0.8481143\\\\\n",
       "\t Mono\\_IFNresponse    & SP1   & 0.77629117 & 7 & 7 & 0.9511660 & 0.9883599\\\\\n",
       "\t T\\_CD8\\_EM\\_CX3CR1int  & STAT1 & 0.77785850 & 4 & 4 & 0.9511660 & 0.8481143\\\\\n",
       "\t NK\\_lowRibocontent   & SP1   & 0.79357288 & 8 & 8 & 0.9511660 & 0.9883599\\\\\n",
       "\t T\\_CD8\\_CM            & STAT1 & 0.81596978 & 8 & 8 & 0.9511660 & 0.8481143\\\\\n",
       "\t Mono\\_classical      & SP1   & 0.84057068 & 8 & 8 & 0.9511660 & 0.9883599\\\\\n",
       "\t T\\_CD8\\_IFNresponse   & STAT1 & 0.84811426 & 8 & 8 & 0.9511660 & 0.8481143\\\\\n",
       "\t NK\\_CD56high         & SP1   & 0.85704482 & 8 & 8 & 0.9511660 & 0.9883599\\\\\n",
       "\t Mono\\_nonClassical   & SP1   & 0.88883578 & 6 & 7 & 0.9511660 & 0.9883599\\\\\n",
       "\t T\\_CD8\\_CM            & SP1   & 0.88980046 & 8 & 8 & 0.9511660 & 0.9883599\\\\\n",
       "\t T\\_CD8\\_EM\\_CX3CR1high & SP1   & 0.93022108 & 3 & 7 & 0.9612284 & 0.9883599\\\\\n",
       "\t Mono\\_regulatory     & SP1   & 0.98870462 & 8 & 8 & 0.9887046 & 0.9887046\\\\\n",
       "\\end{tabular}\n"
      ],
      "text/markdown": [
       "\n",
       "A tibble: 31 × 7\n",
       "\n",
       "| Level2 &lt;chr&gt; | tfs &lt;fct&gt; | p.value &lt;dbl&gt; | n_patients_R &lt;int&gt; | n_patients_NR &lt;int&gt; | pval_adj &lt;dbl&gt; | pval_adj_indep &lt;dbl&gt; |\n",
       "|---|---|---|---|---|---|---|\n",
       "| Plasma_IGHA         | STAT1 | 0.03910844 | 2 | 3 | 0.9511660 | 0.5475181 |\n",
       "| T_CD4_Naive         | SP1   | 0.10231064 | 8 | 8 | 0.9511660 | 0.9883599 |\n",
       "| Mono_IFNresponse    | STAT1 | 0.31797313 | 7 | 7 | 0.9511660 | 0.8481143 |\n",
       "| Mono_nonClassical   | STAT1 | 0.33028730 | 6 | 7 | 0.9511660 | 0.8481143 |\n",
       "| NK_adaptive         | SP1   | 0.34739137 | 7 | 3 | 0.9511660 | 0.9883599 |\n",
       "| pDC                 | STAT1 | 0.35960776 | 4 | 6 | 0.9511660 | 0.8481143 |\n",
       "| Mono_inflammatory   | STAT1 | 0.37076575 | 8 | 8 | 0.9511660 | 0.8481143 |\n",
       "| Mono_regulatory     | STAT1 | 0.42106943 | 8 | 8 | 0.9511660 | 0.8481143 |\n",
       "| T_CD8_IFNresponse   | SP1   | 0.49570302 | 8 | 8 | 0.9511660 | 0.9883599 |\n",
       "| NK_CD56dimCD16      | SP1   | 0.49667236 | 6 | 4 | 0.9511660 | 0.9883599 |\n",
       "| T_CD8_CM_stem       | SP1   | 0.51030942 | 6 | 5 | 0.9511660 | 0.9883599 |\n",
       "| Mono_classical      | STAT1 | 0.52215294 | 8 | 8 | 0.9511660 | 0.8481143 |\n",
       "| T_CD8_EM_CX3CR1int  | SP1   | 0.52530745 | 4 | 4 | 0.9511660 | 0.9883599 |\n",
       "| T_CD8_CM_stem       | STAT1 | 0.58042164 | 6 | 5 | 0.9511660 | 0.8481143 |\n",
       "| T_CD8_activated     | STAT1 | 0.58047777 | 6 | 8 | 0.9511660 | 0.8481143 |\n",
       "| NK_IFN1response     | SP1   | 0.61703307 | 8 | 6 | 0.9511660 | 0.9883599 |\n",
       "| Mono_inflammatory   | SP1   | 0.63527375 | 8 | 8 | 0.9511660 | 0.9883599 |\n",
       "| T_CD8_activated     | SP1   | 0.65491534 | 6 | 8 | 0.9511660 | 0.9883599 |\n",
       "| T_CD8_EM_CX3CR1high | STAT1 | 0.66757355 | 3 | 7 | 0.9511660 | 0.8481143 |\n",
       "| T_CD8_Naive         | STAT1 | 0.77618502 | 8 | 8 | 0.9511660 | 0.8481143 |\n",
       "| Mono_IFNresponse    | SP1   | 0.77629117 | 7 | 7 | 0.9511660 | 0.9883599 |\n",
       "| T_CD8_EM_CX3CR1int  | STAT1 | 0.77785850 | 4 | 4 | 0.9511660 | 0.8481143 |\n",
       "| NK_lowRibocontent   | SP1   | 0.79357288 | 8 | 8 | 0.9511660 | 0.9883599 |\n",
       "| T_CD8_CM            | STAT1 | 0.81596978 | 8 | 8 | 0.9511660 | 0.8481143 |\n",
       "| Mono_classical      | SP1   | 0.84057068 | 8 | 8 | 0.9511660 | 0.9883599 |\n",
       "| T_CD8_IFNresponse   | STAT1 | 0.84811426 | 8 | 8 | 0.9511660 | 0.8481143 |\n",
       "| NK_CD56high         | SP1   | 0.85704482 | 8 | 8 | 0.9511660 | 0.9883599 |\n",
       "| Mono_nonClassical   | SP1   | 0.88883578 | 6 | 7 | 0.9511660 | 0.9883599 |\n",
       "| T_CD8_CM            | SP1   | 0.88980046 | 8 | 8 | 0.9511660 | 0.9883599 |\n",
       "| T_CD8_EM_CX3CR1high | SP1   | 0.93022108 | 3 | 7 | 0.9612284 | 0.9883599 |\n",
       "| Mono_regulatory     | SP1   | 0.98870462 | 8 | 8 | 0.9887046 | 0.9887046 |\n",
       "\n"
      ],
      "text/plain": [
       "   Level2              tfs   p.value    n_patients_R n_patients_NR pval_adj \n",
       "1  Plasma_IGHA         STAT1 0.03910844 2            3             0.9511660\n",
       "2  T_CD4_Naive         SP1   0.10231064 8            8             0.9511660\n",
       "3  Mono_IFNresponse    STAT1 0.31797313 7            7             0.9511660\n",
       "4  Mono_nonClassical   STAT1 0.33028730 6            7             0.9511660\n",
       "5  NK_adaptive         SP1   0.34739137 7            3             0.9511660\n",
       "6  pDC                 STAT1 0.35960776 4            6             0.9511660\n",
       "7  Mono_inflammatory   STAT1 0.37076575 8            8             0.9511660\n",
       "8  Mono_regulatory     STAT1 0.42106943 8            8             0.9511660\n",
       "9  T_CD8_IFNresponse   SP1   0.49570302 8            8             0.9511660\n",
       "10 NK_CD56dimCD16      SP1   0.49667236 6            4             0.9511660\n",
       "11 T_CD8_CM_stem       SP1   0.51030942 6            5             0.9511660\n",
       "12 Mono_classical      STAT1 0.52215294 8            8             0.9511660\n",
       "13 T_CD8_EM_CX3CR1int  SP1   0.52530745 4            4             0.9511660\n",
       "14 T_CD8_CM_stem       STAT1 0.58042164 6            5             0.9511660\n",
       "15 T_CD8_activated     STAT1 0.58047777 6            8             0.9511660\n",
       "16 NK_IFN1response     SP1   0.61703307 8            6             0.9511660\n",
       "17 Mono_inflammatory   SP1   0.63527375 8            8             0.9511660\n",
       "18 T_CD8_activated     SP1   0.65491534 6            8             0.9511660\n",
       "19 T_CD8_EM_CX3CR1high STAT1 0.66757355 3            7             0.9511660\n",
       "20 T_CD8_Naive         STAT1 0.77618502 8            8             0.9511660\n",
       "21 Mono_IFNresponse    SP1   0.77629117 7            7             0.9511660\n",
       "22 T_CD8_EM_CX3CR1int  STAT1 0.77785850 4            4             0.9511660\n",
       "23 NK_lowRibocontent   SP1   0.79357288 8            8             0.9511660\n",
       "24 T_CD8_CM            STAT1 0.81596978 8            8             0.9511660\n",
       "25 Mono_classical      SP1   0.84057068 8            8             0.9511660\n",
       "26 T_CD8_IFNresponse   STAT1 0.84811426 8            8             0.9511660\n",
       "27 NK_CD56high         SP1   0.85704482 8            8             0.9511660\n",
       "28 Mono_nonClassical   SP1   0.88883578 6            7             0.9511660\n",
       "29 T_CD8_CM            SP1   0.88980046 8            8             0.9511660\n",
       "30 T_CD8_EM_CX3CR1high SP1   0.93022108 3            7             0.9612284\n",
       "31 Mono_regulatory     SP1   0.98870462 8            8             0.9887046\n",
       "   pval_adj_indep\n",
       "1  0.5475181     \n",
       "2  0.9883599     \n",
       "3  0.8481143     \n",
       "4  0.8481143     \n",
       "5  0.9883599     \n",
       "6  0.8481143     \n",
       "7  0.8481143     \n",
       "8  0.8481143     \n",
       "9  0.9883599     \n",
       "10 0.9883599     \n",
       "11 0.9883599     \n",
       "12 0.8481143     \n",
       "13 0.9883599     \n",
       "14 0.8481143     \n",
       "15 0.8481143     \n",
       "16 0.9883599     \n",
       "17 0.9883599     \n",
       "18 0.9883599     \n",
       "19 0.8481143     \n",
       "20 0.8481143     \n",
       "21 0.9883599     \n",
       "22 0.8481143     \n",
       "23 0.9883599     \n",
       "24 0.8481143     \n",
       "25 0.9883599     \n",
       "26 0.8481143     \n",
       "27 0.9883599     \n",
       "28 0.9883599     \n",
       "29 0.9883599     \n",
       "30 0.9883599     \n",
       "31 0.9887046     "
      ]
     },
     "metadata": {},
     "output_type": "display_data"
    }
   ],
   "source": [
    "pvals_response <- data_response_level2 %>%\n",
    "  group_by(Level2, tfs) %>%\n",
    "  filter(n_distinct(Responder) == 2) %>% # Ensure that Flare has two levels\n",
    "  filter(all(table(Responder) >= 2)) %>% # Ensure that each level has at least two observations\n",
    "  summarise(\n",
    "    t_test = list(broom::tidy(t.test(activity ~ Responder))),\n",
    "    n_patients_R = sum(Responder == \"R\"),\n",
    "    n_patients_NR = sum(Responder == \"NR\"),  \n",
    "    .groups = \"drop\"\n",
    "  ) %>%\n",
    "  tidyr::unnest(t_test) %>%\n",
    "  select(Level2, tfs, p.value, n_patients_R, n_patients_NR) %>%\n",
    "  mutate(\n",
    "    pval_adj = p.adjust(p.value, method = \"BH\")\n",
    "  ) %>%\n",
    "  group_by(tfs) %>% # Group by tfs before adjusting p-values\n",
    "  mutate(\n",
    "    pval_adj_indep = p.adjust(p.value, method = \"BH\")\n",
    "  ) %>%\n",
    "  ungroup() %>%\n",
    "  filter(\n",
    "    p.value < 1\n",
    "  ) %>%\n",
    "  arrange(p.value)\n",
    "pvals_response"
   ]
  },
  {
   "cell_type": "markdown",
   "id": "54dfae4a-6bc5-452f-bc3b-59d74af6f76f",
   "metadata": {},
   "source": [
    "### Plot"
   ]
  },
  {
   "cell_type": "code",
   "execution_count": 111,
   "id": "629e9b4d-c041-43c0-a554-ed5ca812116e",
   "metadata": {
    "execution": {
     "iopub.execute_input": "2024-07-01T15:03:49.822277Z",
     "iopub.status.busy": "2024-07-01T15:03:49.821145Z",
     "iopub.status.idle": "2024-07-01T15:03:50.947893Z",
     "shell.execute_reply": "2024-07-01T15:03:50.946471Z"
    }
   },
   "outputs": [],
   "source": [
    "plot_response <- ggboxplot(data_response_level2, x = \"Level2\", y = \"activity\", fill = \"Responder\") +\n",
    "    facet_grid(tfs ~ Level1, scales = \"free\") +\n",
    "    scale_fill_manual(values = response_palette) +\n",
    "    theme_bw() +\n",
    "    ggtitle(label = \"Response\") +\n",
    "    theme(\n",
    "        axis.text.x = element_text(angle = 25, vjust = 0.5, hjust=0.5)\n",
    ")\n",
    "\n",
    "ggsave(\n",
    "    plot_response,\n",
    "    filename = \"plot_response.pdf\",\n",
    "    device = \"pdf\",\n",
    "    width = 15,\n",
    "    height = 12,\n",
    "    path = \"results/Compare_SLE_subgroups/\")"
   ]
  },
  {
   "cell_type": "markdown",
   "id": "9ec5a344-7cdd-428b-85d6-5c88e0732e1c",
   "metadata": {},
   "source": [
    "# SLEDAI comparison"
   ]
  },
  {
   "cell_type": "markdown",
   "id": "ca5d61e6-f72f-423b-bae8-fd20c8858f08",
   "metadata": {},
   "source": [
    "**Palette**"
   ]
  },
  {
   "cell_type": "code",
   "execution_count": 55,
   "id": "4ef2860c-7024-4a35-a80c-7aef22c125c5",
   "metadata": {
    "execution": {
     "iopub.execute_input": "2024-07-01T16:03:50.346393Z",
     "iopub.status.busy": "2024-07-01T16:03:50.345329Z",
     "iopub.status.idle": "2024-07-01T16:03:50.558879Z",
     "shell.execute_reply": "2024-07-01T16:03:50.557591Z"
    }
   },
   "outputs": [],
   "source": [
    "# Response ---------------------\n",
    "SLEDAI_palette <- c(\n",
    "    \"High\" = \"#103783\",\n",
    "    \"Low\" = \"#9bafd9\"\n",
    ")\n"
   ]
  },
  {
   "cell_type": "markdown",
   "id": "b4ea9f2e-7afe-46f9-b34b-624f25b22ce2",
   "metadata": {},
   "source": [
    "## Level 1"
   ]
  },
  {
   "cell_type": "markdown",
   "id": "cb740aa8-8132-452f-8391-96d893a20c39",
   "metadata": {},
   "source": [
    "**Filter input DF**"
   ]
  },
  {
   "cell_type": "code",
   "execution_count": 56,
   "id": "c22517f7-24fc-4f8e-9995-f1c52f159d8c",
   "metadata": {
    "execution": {
     "iopub.execute_input": "2024-07-01T16:03:52.002821Z",
     "iopub.status.busy": "2024-07-01T16:03:52.001776Z",
     "iopub.status.idle": "2024-07-01T16:03:52.016028Z",
     "shell.execute_reply": "2024-07-01T16:03:52.014782Z"
    }
   },
   "outputs": [],
   "source": [
    "data_sledai_perez_level1 <-\n",
    "    perez2022_level1 %>%\n",
    "    filter(\n",
    "        SLEDAI_category %in% c(\"High\", \"Low\")\n",
    "    ) %>%\n",
    "    tidyr::pivot_longer(\n",
    "        cols = c(STAT1, SP1),\n",
    "        names_to = \"tfs\",\n",
    "        values_to = \"activity\"\n",
    "        ) %>%\n",
    "    filter(\n",
    "        !is.na(activity)\n",
    "    )"
   ]
  },
  {
   "cell_type": "code",
   "execution_count": 57,
   "id": "d4cadbab-b97b-4eaf-adfd-52de4146a272",
   "metadata": {
    "execution": {
     "iopub.execute_input": "2024-07-01T16:03:53.107199Z",
     "iopub.status.busy": "2024-07-01T16:03:53.106133Z",
     "iopub.status.idle": "2024-07-01T16:03:53.120213Z",
     "shell.execute_reply": "2024-07-01T16:03:53.118990Z"
    }
   },
   "outputs": [],
   "source": [
    "data_sledai_scgt_level1 <-\n",
    "    scgt00_level1 %>%\n",
    "    filter(\n",
    "        SLEDAI_category %in% c(\"High\", \"Low\")\n",
    "    ) %>%\n",
    "    tidyr::pivot_longer(\n",
    "        cols = c(STAT1, SP1),\n",
    "        names_to = \"tfs\",\n",
    "        values_to = \"activity\"\n",
    "        ) %>%\n",
    "    filter(\n",
    "        !is.na(activity)\n",
    "    )"
   ]
  },
  {
   "cell_type": "markdown",
   "id": "9b3ee2cc-6a20-434a-b772-77b0d43395b6",
   "metadata": {},
   "source": [
    "**p-values**"
   ]
  },
  {
   "cell_type": "code",
   "execution_count": 64,
   "id": "909bfa8b-b884-425f-afc2-5ef5adb28afb",
   "metadata": {
    "execution": {
     "iopub.execute_input": "2024-07-01T16:07:14.773056Z",
     "iopub.status.busy": "2024-07-01T16:07:14.771971Z",
     "iopub.status.idle": "2024-07-01T16:07:14.835663Z",
     "shell.execute_reply": "2024-07-01T16:07:14.834476Z"
    }
   },
   "outputs": [
    {
     "data": {
      "text/html": [
       "<table class=\"dataframe\">\n",
       "<caption>A tibble: 7 × 7</caption>\n",
       "<thead>\n",
       "\t<tr><th scope=col>Level1</th><th scope=col>tfs</th><th scope=col>p.value</th><th scope=col>n_patients_high</th><th scope=col>n_patients_low</th><th scope=col>pval_adj</th><th scope=col>pval_adj_indep</th></tr>\n",
       "\t<tr><th scope=col>&lt;chr&gt;</th><th scope=col>&lt;chr&gt;</th><th scope=col>&lt;dbl&gt;</th><th scope=col>&lt;int&gt;</th><th scope=col>&lt;int&gt;</th><th scope=col>&lt;dbl&gt;</th><th scope=col>&lt;dbl&gt;</th></tr>\n",
       "</thead>\n",
       "<tbody>\n",
       "\t<tr><td>ILC           </td><td>SP1  </td><td>0.4845364</td><td>5</td><td>107</td><td>0.7976467</td><td>0.5414977</td></tr>\n",
       "\t<tr><td>Mono          </td><td>SP1  </td><td>0.5220713</td><td>5</td><td>108</td><td>0.7976467</td><td>0.5414977</td></tr>\n",
       "\t<tr><td>T_CD4_Naive   </td><td>SP1  </td><td>0.5308101</td><td>5</td><td>108</td><td>0.7976467</td><td>0.5414977</td></tr>\n",
       "\t<tr><td>T_CD8_NonNaive</td><td>SP1  </td><td>0.5414977</td><td>5</td><td>108</td><td>0.7976467</td><td>0.5414977</td></tr>\n",
       "\t<tr><td>T_CD8_NonNaive</td><td>STAT1</td><td>0.5697476</td><td>5</td><td>108</td><td>0.7976467</td><td>0.8990487</td></tr>\n",
       "\t<tr><td>T_CD8_Naive   </td><td>STAT1</td><td>0.8686560</td><td>5</td><td>104</td><td>0.8990487</td><td>0.8990487</td></tr>\n",
       "\t<tr><td>Mono          </td><td>STAT1</td><td>0.8990487</td><td>5</td><td>108</td><td>0.8990487</td><td>0.8990487</td></tr>\n",
       "</tbody>\n",
       "</table>\n"
      ],
      "text/latex": [
       "A tibble: 7 × 7\n",
       "\\begin{tabular}{lllllll}\n",
       " Level1 & tfs & p.value & n\\_patients\\_high & n\\_patients\\_low & pval\\_adj & pval\\_adj\\_indep\\\\\n",
       " <chr> & <chr> & <dbl> & <int> & <int> & <dbl> & <dbl>\\\\\n",
       "\\hline\n",
       "\t ILC            & SP1   & 0.4845364 & 5 & 107 & 0.7976467 & 0.5414977\\\\\n",
       "\t Mono           & SP1   & 0.5220713 & 5 & 108 & 0.7976467 & 0.5414977\\\\\n",
       "\t T\\_CD4\\_Naive    & SP1   & 0.5308101 & 5 & 108 & 0.7976467 & 0.5414977\\\\\n",
       "\t T\\_CD8\\_NonNaive & SP1   & 0.5414977 & 5 & 108 & 0.7976467 & 0.5414977\\\\\n",
       "\t T\\_CD8\\_NonNaive & STAT1 & 0.5697476 & 5 & 108 & 0.7976467 & 0.8990487\\\\\n",
       "\t T\\_CD8\\_Naive    & STAT1 & 0.8686560 & 5 & 104 & 0.8990487 & 0.8990487\\\\\n",
       "\t Mono           & STAT1 & 0.8990487 & 5 & 108 & 0.8990487 & 0.8990487\\\\\n",
       "\\end{tabular}\n"
      ],
      "text/markdown": [
       "\n",
       "A tibble: 7 × 7\n",
       "\n",
       "| Level1 &lt;chr&gt; | tfs &lt;chr&gt; | p.value &lt;dbl&gt; | n_patients_high &lt;int&gt; | n_patients_low &lt;int&gt; | pval_adj &lt;dbl&gt; | pval_adj_indep &lt;dbl&gt; |\n",
       "|---|---|---|---|---|---|---|\n",
       "| ILC            | SP1   | 0.4845364 | 5 | 107 | 0.7976467 | 0.5414977 |\n",
       "| Mono           | SP1   | 0.5220713 | 5 | 108 | 0.7976467 | 0.5414977 |\n",
       "| T_CD4_Naive    | SP1   | 0.5308101 | 5 | 108 | 0.7976467 | 0.5414977 |\n",
       "| T_CD8_NonNaive | SP1   | 0.5414977 | 5 | 108 | 0.7976467 | 0.5414977 |\n",
       "| T_CD8_NonNaive | STAT1 | 0.5697476 | 5 | 108 | 0.7976467 | 0.8990487 |\n",
       "| T_CD8_Naive    | STAT1 | 0.8686560 | 5 | 104 | 0.8990487 | 0.8990487 |\n",
       "| Mono           | STAT1 | 0.8990487 | 5 | 108 | 0.8990487 | 0.8990487 |\n",
       "\n"
      ],
      "text/plain": [
       "  Level1         tfs   p.value   n_patients_high n_patients_low pval_adj \n",
       "1 ILC            SP1   0.4845364 5               107            0.7976467\n",
       "2 Mono           SP1   0.5220713 5               108            0.7976467\n",
       "3 T_CD4_Naive    SP1   0.5308101 5               108            0.7976467\n",
       "4 T_CD8_NonNaive SP1   0.5414977 5               108            0.7976467\n",
       "5 T_CD8_NonNaive STAT1 0.5697476 5               108            0.7976467\n",
       "6 T_CD8_Naive    STAT1 0.8686560 5               104            0.8990487\n",
       "7 Mono           STAT1 0.8990487 5               108            0.8990487\n",
       "  pval_adj_indep\n",
       "1 0.5414977     \n",
       "2 0.5414977     \n",
       "3 0.5414977     \n",
       "4 0.5414977     \n",
       "5 0.8990487     \n",
       "6 0.8990487     \n",
       "7 0.8990487     "
      ]
     },
     "metadata": {},
     "output_type": "display_data"
    }
   ],
   "source": [
    "pvals_sledai_perez <- data_sledai_perez_level1 %>%\n",
    "  group_by(Level1, tfs) %>%\n",
    "  filter(n_distinct(SLEDAI_category) == 2) %>% # Ensure that Flare has two levels\n",
    "  filter(all(table(SLEDAI_category) >= 2)) %>% # Ensure that each level has at least two observations\n",
    "  summarise(\n",
    "    t_test = list(broom::tidy(t.test(activity ~ SLEDAI_category))),\n",
    "    n_patients_high = sum(SLEDAI_category == \"High\"),\n",
    "    n_patients_low = sum(SLEDAI_category == \"Low\"),  \n",
    "    .groups = \"drop\"\n",
    "  ) %>%\n",
    "  tidyr::unnest(t_test) %>%\n",
    "  select(Level1, tfs, p.value, n_patients_high, n_patients_low) %>%\n",
    "  mutate(\n",
    "    pval_adj = p.adjust(p.value, method = \"BH\")\n",
    "  ) %>%\n",
    "  group_by(tfs) %>% # Group by tfs before adjusting p-values\n",
    "  mutate(\n",
    "    pval_adj_indep = p.adjust(p.value, method = \"BH\")\n",
    "  ) %>%\n",
    "  ungroup() %>%\n",
    "  filter(\n",
    "    pval_adj < 1\n",
    "  ) %>%\n",
    "  arrange(p.value)\n",
    "pvals_sledai_perez"
   ]
  },
  {
   "cell_type": "code",
   "execution_count": 63,
   "id": "563c30ea-d072-4647-a2ae-c580f64c7aca",
   "metadata": {
    "execution": {
     "iopub.execute_input": "2024-07-01T16:06:52.753466Z",
     "iopub.status.busy": "2024-07-01T16:06:52.752319Z",
     "iopub.status.idle": "2024-07-01T16:06:52.820518Z",
     "shell.execute_reply": "2024-07-01T16:06:52.819349Z"
    }
   },
   "outputs": [
    {
     "data": {
      "text/html": [
       "<table class=\"dataframe\">\n",
       "<caption>A tibble: 9 × 7</caption>\n",
       "<thead>\n",
       "\t<tr><th scope=col>Level1</th><th scope=col>tfs</th><th scope=col>p.value</th><th scope=col>n_patients_high</th><th scope=col>n_patients_low</th><th scope=col>pval_adj</th><th scope=col>pval_adj_indep</th></tr>\n",
       "\t<tr><th scope=col>&lt;chr&gt;</th><th scope=col>&lt;chr&gt;</th><th scope=col>&lt;dbl&gt;</th><th scope=col>&lt;int&gt;</th><th scope=col>&lt;int&gt;</th><th scope=col>&lt;dbl&gt;</th><th scope=col>&lt;dbl&gt;</th></tr>\n",
       "</thead>\n",
       "<tbody>\n",
       "\t<tr><td>Mono          </td><td>SP1  </td><td>0.1046637</td><td>7</td><td>9</td><td>0.6559515</td><td>0.4186549</td></tr>\n",
       "\t<tr><td>T_CD8_Naive   </td><td>STAT1</td><td>0.1457670</td><td>7</td><td>9</td><td>0.6559515</td><td>0.7288350</td></tr>\n",
       "\t<tr><td>ILC           </td><td>SP1  </td><td>0.2791148</td><td>7</td><td>9</td><td>0.7442559</td><td>0.4399581</td></tr>\n",
       "\t<tr><td>T_CD8_NonNaive</td><td>SP1  </td><td>0.3307804</td><td>7</td><td>9</td><td>0.7442559</td><td>0.4399581</td></tr>\n",
       "\t<tr><td>T_CD4_Naive   </td><td>SP1  </td><td>0.4399581</td><td>7</td><td>9</td><td>0.7919246</td><td>0.4399581</td></tr>\n",
       "\t<tr><td>Plasma        </td><td>STAT1</td><td>0.6079418</td><td>2</td><td>4</td><td>0.9119127</td><td>0.9895141</td></tr>\n",
       "\t<tr><td>Mono          </td><td>STAT1</td><td>0.8898138</td><td>7</td><td>9</td><td>0.9895141</td><td>0.9895141</td></tr>\n",
       "\t<tr><td>pDC           </td><td>STAT1</td><td>0.9227868</td><td>4</td><td>6</td><td>0.9895141</td><td>0.9895141</td></tr>\n",
       "\t<tr><td>T_CD8_NonNaive</td><td>STAT1</td><td>0.9895141</td><td>7</td><td>9</td><td>0.9895141</td><td>0.9895141</td></tr>\n",
       "</tbody>\n",
       "</table>\n"
      ],
      "text/latex": [
       "A tibble: 9 × 7\n",
       "\\begin{tabular}{lllllll}\n",
       " Level1 & tfs & p.value & n\\_patients\\_high & n\\_patients\\_low & pval\\_adj & pval\\_adj\\_indep\\\\\n",
       " <chr> & <chr> & <dbl> & <int> & <int> & <dbl> & <dbl>\\\\\n",
       "\\hline\n",
       "\t Mono           & SP1   & 0.1046637 & 7 & 9 & 0.6559515 & 0.4186549\\\\\n",
       "\t T\\_CD8\\_Naive    & STAT1 & 0.1457670 & 7 & 9 & 0.6559515 & 0.7288350\\\\\n",
       "\t ILC            & SP1   & 0.2791148 & 7 & 9 & 0.7442559 & 0.4399581\\\\\n",
       "\t T\\_CD8\\_NonNaive & SP1   & 0.3307804 & 7 & 9 & 0.7442559 & 0.4399581\\\\\n",
       "\t T\\_CD4\\_Naive    & SP1   & 0.4399581 & 7 & 9 & 0.7919246 & 0.4399581\\\\\n",
       "\t Plasma         & STAT1 & 0.6079418 & 2 & 4 & 0.9119127 & 0.9895141\\\\\n",
       "\t Mono           & STAT1 & 0.8898138 & 7 & 9 & 0.9895141 & 0.9895141\\\\\n",
       "\t pDC            & STAT1 & 0.9227868 & 4 & 6 & 0.9895141 & 0.9895141\\\\\n",
       "\t T\\_CD8\\_NonNaive & STAT1 & 0.9895141 & 7 & 9 & 0.9895141 & 0.9895141\\\\\n",
       "\\end{tabular}\n"
      ],
      "text/markdown": [
       "\n",
       "A tibble: 9 × 7\n",
       "\n",
       "| Level1 &lt;chr&gt; | tfs &lt;chr&gt; | p.value &lt;dbl&gt; | n_patients_high &lt;int&gt; | n_patients_low &lt;int&gt; | pval_adj &lt;dbl&gt; | pval_adj_indep &lt;dbl&gt; |\n",
       "|---|---|---|---|---|---|---|\n",
       "| Mono           | SP1   | 0.1046637 | 7 | 9 | 0.6559515 | 0.4186549 |\n",
       "| T_CD8_Naive    | STAT1 | 0.1457670 | 7 | 9 | 0.6559515 | 0.7288350 |\n",
       "| ILC            | SP1   | 0.2791148 | 7 | 9 | 0.7442559 | 0.4399581 |\n",
       "| T_CD8_NonNaive | SP1   | 0.3307804 | 7 | 9 | 0.7442559 | 0.4399581 |\n",
       "| T_CD4_Naive    | SP1   | 0.4399581 | 7 | 9 | 0.7919246 | 0.4399581 |\n",
       "| Plasma         | STAT1 | 0.6079418 | 2 | 4 | 0.9119127 | 0.9895141 |\n",
       "| Mono           | STAT1 | 0.8898138 | 7 | 9 | 0.9895141 | 0.9895141 |\n",
       "| pDC            | STAT1 | 0.9227868 | 4 | 6 | 0.9895141 | 0.9895141 |\n",
       "| T_CD8_NonNaive | STAT1 | 0.9895141 | 7 | 9 | 0.9895141 | 0.9895141 |\n",
       "\n"
      ],
      "text/plain": [
       "  Level1         tfs   p.value   n_patients_high n_patients_low pval_adj \n",
       "1 Mono           SP1   0.1046637 7               9              0.6559515\n",
       "2 T_CD8_Naive    STAT1 0.1457670 7               9              0.6559515\n",
       "3 ILC            SP1   0.2791148 7               9              0.7442559\n",
       "4 T_CD8_NonNaive SP1   0.3307804 7               9              0.7442559\n",
       "5 T_CD4_Naive    SP1   0.4399581 7               9              0.7919246\n",
       "6 Plasma         STAT1 0.6079418 2               4              0.9119127\n",
       "7 Mono           STAT1 0.8898138 7               9              0.9895141\n",
       "8 pDC            STAT1 0.9227868 4               6              0.9895141\n",
       "9 T_CD8_NonNaive STAT1 0.9895141 7               9              0.9895141\n",
       "  pval_adj_indep\n",
       "1 0.4186549     \n",
       "2 0.7288350     \n",
       "3 0.4399581     \n",
       "4 0.4399581     \n",
       "5 0.4399581     \n",
       "6 0.9895141     \n",
       "7 0.9895141     \n",
       "8 0.9895141     \n",
       "9 0.9895141     "
      ]
     },
     "metadata": {},
     "output_type": "display_data"
    }
   ],
   "source": [
    "pvals_sledai_scgt <- data_sledai_scgt_level1 %>%\n",
    "  group_by(Level1, tfs) %>%\n",
    "  filter(n_distinct(SLEDAI_category) == 2) %>% # Ensure that Flare has two levels\n",
    "  filter(all(table(SLEDAI_category) >= 2)) %>% # Ensure that each level has at least two observations\n",
    "  summarise(\n",
    "    t_test = list(broom::tidy(t.test(activity ~ SLEDAI_category))),\n",
    "    n_patients_high = sum(SLEDAI_category == \"High\"),\n",
    "    n_patients_low = sum(SLEDAI_category == \"Low\"),  \n",
    "    .groups = \"drop\"\n",
    "  ) %>%\n",
    "  tidyr::unnest(t_test) %>%\n",
    "  select(Level1, tfs, p.value, n_patients_high, n_patients_low) %>%\n",
    "  mutate(\n",
    "    pval_adj = p.adjust(p.value, method = \"BH\")\n",
    "  ) %>%\n",
    "  group_by(tfs) %>% # Group by tfs before adjusting p-values\n",
    "  mutate(\n",
    "    pval_adj_indep = p.adjust(p.value, method = \"BH\")\n",
    "  ) %>%\n",
    "  ungroup() %>%\n",
    "  filter(\n",
    "    pval_adj < 1\n",
    "  ) %>%\n",
    "  arrange(p.value)\n",
    "pvals_sledai_scgt"
   ]
  },
  {
   "cell_type": "markdown",
   "id": "c6bac275-191b-4df6-9ade-516ae30e7260",
   "metadata": {},
   "source": [
    "## Level 2"
   ]
  },
  {
   "cell_type": "code",
   "execution_count": 66,
   "id": "6fe2d08b-2eba-4091-ac1e-ccf2b614f9f7",
   "metadata": {
    "execution": {
     "iopub.execute_input": "2024-07-01T16:08:01.075166Z",
     "iopub.status.busy": "2024-07-01T16:08:01.074074Z",
     "iopub.status.idle": "2024-07-01T16:08:01.097575Z",
     "shell.execute_reply": "2024-07-01T16:08:01.096275Z"
    }
   },
   "outputs": [],
   "source": [
    "data_sledai_perez_level2 <-\n",
    "    perez2022_level2 %>%\n",
    "    filter(\n",
    "        SLEDAI_category %in% c(\"High\", \"Low\")\n",
    "    ) %>%\n",
    "    tidyr::pivot_longer(\n",
    "        cols = c(STAT1, SP1),\n",
    "        names_to = \"tfs\",\n",
    "        values_to = \"activity\"\n",
    "        ) %>%\n",
    "    filter(\n",
    "        !is.na(activity)\n",
    "    ) %>%\n",
    "    mutate(tfs = factor(tfs, levels = c(\"STAT1\", \"SP1\")))\n",
    "\n",
    "data_sledai_scgt_level2 <-\n",
    "    scgt00_level2 %>%\n",
    "    filter(\n",
    "        SLEDAI_category %in% c(\"High\", \"Low\")\n",
    "    ) %>%\n",
    "    tidyr::pivot_longer(\n",
    "        cols = c(STAT1, SP1),\n",
    "        names_to = \"tfs\",\n",
    "        values_to = \"activity\"\n",
    "        ) %>%\n",
    "    filter(\n",
    "        !is.na(activity)\n",
    "    ) %>%\n",
    "    mutate(tfs = factor(tfs, levels = c(\"STAT1\", \"SP1\")))"
   ]
  },
  {
   "cell_type": "code",
   "execution_count": 72,
   "id": "2573fa0d-b96c-4832-9114-d27ae858cef7",
   "metadata": {
    "execution": {
     "iopub.execute_input": "2024-07-01T16:11:31.463309Z",
     "iopub.status.busy": "2024-07-01T16:11:31.461381Z",
     "iopub.status.idle": "2024-07-01T16:11:31.652209Z",
     "shell.execute_reply": "2024-07-01T16:11:31.650833Z"
    }
   },
   "outputs": [
    {
     "data": {
      "text/html": [
       "<table class=\"dataframe\">\n",
       "<caption>A tibble: 16 × 7</caption>\n",
       "<thead>\n",
       "\t<tr><th scope=col>Level2</th><th scope=col>tfs</th><th scope=col>p.value</th><th scope=col>n_patients_high</th><th scope=col>n_patients_low</th><th scope=col>pval_adj</th><th scope=col>pval_adj_indep</th></tr>\n",
       "\t<tr><th scope=col>&lt;chr&gt;</th><th scope=col>&lt;fct&gt;</th><th scope=col>&lt;dbl&gt;</th><th scope=col>&lt;int&gt;</th><th scope=col>&lt;int&gt;</th><th scope=col>&lt;dbl&gt;</th><th scope=col>&lt;dbl&gt;</th></tr>\n",
       "</thead>\n",
       "<tbody>\n",
       "\t<tr><td>Mono_regulatory    </td><td>STAT1</td><td>0.0001527686</td><td>2</td><td> 60</td><td>0.004735825</td><td>0.001985991</td></tr>\n",
       "\t<tr><td>T_CD8_eff_HOBIT    </td><td>SP1  </td><td>0.0004229089</td><td>2</td><td> 36</td><td>0.006555087</td><td>0.007612359</td></tr>\n",
       "\t<tr><td>T_CD8_activated    </td><td>SP1  </td><td>0.0250104990</td><td>4</td><td> 87</td><td>0.258441823</td><td>0.225094491</td></tr>\n",
       "\t<tr><td>T_CD8_eff_HOBIT    </td><td>STAT1</td><td>0.0987575796</td><td>2</td><td> 36</td><td>0.765371242</td><td>0.641924267</td></tr>\n",
       "\t<tr><td>T_CD8_EM_CX3CR1int </td><td>STAT1</td><td>0.2058104531</td><td>4</td><td> 95</td><td>0.836614490</td><td>0.660407053</td></tr>\n",
       "\t<tr><td>NK_adaptive        </td><td>SP1  </td><td>0.2270014522</td><td>4</td><td> 83</td><td>0.836614490</td><td>0.842012003</td></tr>\n",
       "\t<tr><td>T_CD8_Mem_cytotoxic</td><td>STAT1</td><td>0.2909070066</td><td>4</td><td> 99</td><td>0.836614490</td><td>0.660407053</td></tr>\n",
       "\t<tr><td>Mono_classical     </td><td>STAT1</td><td>0.3111002409</td><td>5</td><td>108</td><td>0.836614490</td><td>0.660407053</td></tr>\n",
       "\t<tr><td>T_CD8_CM           </td><td>SP1  </td><td>0.3585504896</td><td>5</td><td>107</td><td>0.836614490</td><td>0.842012003</td></tr>\n",
       "\t<tr><td>NK_CD56dimCD16     </td><td>SP1  </td><td>0.3708857195</td><td>5</td><td>106</td><td>0.836614490</td><td>0.842012003</td></tr>\n",
       "\t<tr><td>T_CD8_activated    </td><td>STAT1</td><td>0.3764123257</td><td>4</td><td> 87</td><td>0.836614490</td><td>0.660407053</td></tr>\n",
       "\t<tr><td>T_CD8_IFNresponse  </td><td>SP1  </td><td>0.3892169629</td><td>4</td><td> 72</td><td>0.836614490</td><td>0.842012003</td></tr>\n",
       "\t<tr><td>T_CD8_IFNresponse  </td><td>STAT1</td><td>0.3964804986</td><td>4</td><td> 72</td><td>0.836614490</td><td>0.660407053</td></tr>\n",
       "\t<tr><td>T_CD8_EM_CX3CR1high</td><td>STAT1</td><td>0.4064043404</td><td>4</td><td> 93</td><td>0.836614490</td><td>0.660407053</td></tr>\n",
       "\t<tr><td>NK_CD56high        </td><td>SP1  </td><td>0.4427654844</td><td>5</td><td> 94</td><td>0.836614490</td><td>0.842012003</td></tr>\n",
       "\t<tr><td>Mono_regulatory    </td><td>SP1  </td><td>0.4688106493</td><td>2</td><td> 60</td><td>0.836614490</td><td>0.842012003</td></tr>\n",
       "</tbody>\n",
       "</table>\n"
      ],
      "text/latex": [
       "A tibble: 16 × 7\n",
       "\\begin{tabular}{lllllll}\n",
       " Level2 & tfs & p.value & n\\_patients\\_high & n\\_patients\\_low & pval\\_adj & pval\\_adj\\_indep\\\\\n",
       " <chr> & <fct> & <dbl> & <int> & <int> & <dbl> & <dbl>\\\\\n",
       "\\hline\n",
       "\t Mono\\_regulatory     & STAT1 & 0.0001527686 & 2 &  60 & 0.004735825 & 0.001985991\\\\\n",
       "\t T\\_CD8\\_eff\\_HOBIT     & SP1   & 0.0004229089 & 2 &  36 & 0.006555087 & 0.007612359\\\\\n",
       "\t T\\_CD8\\_activated     & SP1   & 0.0250104990 & 4 &  87 & 0.258441823 & 0.225094491\\\\\n",
       "\t T\\_CD8\\_eff\\_HOBIT     & STAT1 & 0.0987575796 & 2 &  36 & 0.765371242 & 0.641924267\\\\\n",
       "\t T\\_CD8\\_EM\\_CX3CR1int  & STAT1 & 0.2058104531 & 4 &  95 & 0.836614490 & 0.660407053\\\\\n",
       "\t NK\\_adaptive         & SP1   & 0.2270014522 & 4 &  83 & 0.836614490 & 0.842012003\\\\\n",
       "\t T\\_CD8\\_Mem\\_cytotoxic & STAT1 & 0.2909070066 & 4 &  99 & 0.836614490 & 0.660407053\\\\\n",
       "\t Mono\\_classical      & STAT1 & 0.3111002409 & 5 & 108 & 0.836614490 & 0.660407053\\\\\n",
       "\t T\\_CD8\\_CM            & SP1   & 0.3585504896 & 5 & 107 & 0.836614490 & 0.842012003\\\\\n",
       "\t NK\\_CD56dimCD16      & SP1   & 0.3708857195 & 5 & 106 & 0.836614490 & 0.842012003\\\\\n",
       "\t T\\_CD8\\_activated     & STAT1 & 0.3764123257 & 4 &  87 & 0.836614490 & 0.660407053\\\\\n",
       "\t T\\_CD8\\_IFNresponse   & SP1   & 0.3892169629 & 4 &  72 & 0.836614490 & 0.842012003\\\\\n",
       "\t T\\_CD8\\_IFNresponse   & STAT1 & 0.3964804986 & 4 &  72 & 0.836614490 & 0.660407053\\\\\n",
       "\t T\\_CD8\\_EM\\_CX3CR1high & STAT1 & 0.4064043404 & 4 &  93 & 0.836614490 & 0.660407053\\\\\n",
       "\t NK\\_CD56high         & SP1   & 0.4427654844 & 5 &  94 & 0.836614490 & 0.842012003\\\\\n",
       "\t Mono\\_regulatory     & SP1   & 0.4688106493 & 2 &  60 & 0.836614490 & 0.842012003\\\\\n",
       "\\end{tabular}\n"
      ],
      "text/markdown": [
       "\n",
       "A tibble: 16 × 7\n",
       "\n",
       "| Level2 &lt;chr&gt; | tfs &lt;fct&gt; | p.value &lt;dbl&gt; | n_patients_high &lt;int&gt; | n_patients_low &lt;int&gt; | pval_adj &lt;dbl&gt; | pval_adj_indep &lt;dbl&gt; |\n",
       "|---|---|---|---|---|---|---|\n",
       "| Mono_regulatory     | STAT1 | 0.0001527686 | 2 |  60 | 0.004735825 | 0.001985991 |\n",
       "| T_CD8_eff_HOBIT     | SP1   | 0.0004229089 | 2 |  36 | 0.006555087 | 0.007612359 |\n",
       "| T_CD8_activated     | SP1   | 0.0250104990 | 4 |  87 | 0.258441823 | 0.225094491 |\n",
       "| T_CD8_eff_HOBIT     | STAT1 | 0.0987575796 | 2 |  36 | 0.765371242 | 0.641924267 |\n",
       "| T_CD8_EM_CX3CR1int  | STAT1 | 0.2058104531 | 4 |  95 | 0.836614490 | 0.660407053 |\n",
       "| NK_adaptive         | SP1   | 0.2270014522 | 4 |  83 | 0.836614490 | 0.842012003 |\n",
       "| T_CD8_Mem_cytotoxic | STAT1 | 0.2909070066 | 4 |  99 | 0.836614490 | 0.660407053 |\n",
       "| Mono_classical      | STAT1 | 0.3111002409 | 5 | 108 | 0.836614490 | 0.660407053 |\n",
       "| T_CD8_CM            | SP1   | 0.3585504896 | 5 | 107 | 0.836614490 | 0.842012003 |\n",
       "| NK_CD56dimCD16      | SP1   | 0.3708857195 | 5 | 106 | 0.836614490 | 0.842012003 |\n",
       "| T_CD8_activated     | STAT1 | 0.3764123257 | 4 |  87 | 0.836614490 | 0.660407053 |\n",
       "| T_CD8_IFNresponse   | SP1   | 0.3892169629 | 4 |  72 | 0.836614490 | 0.842012003 |\n",
       "| T_CD8_IFNresponse   | STAT1 | 0.3964804986 | 4 |  72 | 0.836614490 | 0.660407053 |\n",
       "| T_CD8_EM_CX3CR1high | STAT1 | 0.4064043404 | 4 |  93 | 0.836614490 | 0.660407053 |\n",
       "| NK_CD56high         | SP1   | 0.4427654844 | 5 |  94 | 0.836614490 | 0.842012003 |\n",
       "| Mono_regulatory     | SP1   | 0.4688106493 | 2 |  60 | 0.836614490 | 0.842012003 |\n",
       "\n"
      ],
      "text/plain": [
       "   Level2              tfs   p.value      n_patients_high n_patients_low\n",
       "1  Mono_regulatory     STAT1 0.0001527686 2                60           \n",
       "2  T_CD8_eff_HOBIT     SP1   0.0004229089 2                36           \n",
       "3  T_CD8_activated     SP1   0.0250104990 4                87           \n",
       "4  T_CD8_eff_HOBIT     STAT1 0.0987575796 2                36           \n",
       "5  T_CD8_EM_CX3CR1int  STAT1 0.2058104531 4                95           \n",
       "6  NK_adaptive         SP1   0.2270014522 4                83           \n",
       "7  T_CD8_Mem_cytotoxic STAT1 0.2909070066 4                99           \n",
       "8  Mono_classical      STAT1 0.3111002409 5               108           \n",
       "9  T_CD8_CM            SP1   0.3585504896 5               107           \n",
       "10 NK_CD56dimCD16      SP1   0.3708857195 5               106           \n",
       "11 T_CD8_activated     STAT1 0.3764123257 4                87           \n",
       "12 T_CD8_IFNresponse   SP1   0.3892169629 4                72           \n",
       "13 T_CD8_IFNresponse   STAT1 0.3964804986 4                72           \n",
       "14 T_CD8_EM_CX3CR1high STAT1 0.4064043404 4                93           \n",
       "15 NK_CD56high         SP1   0.4427654844 5                94           \n",
       "16 Mono_regulatory     SP1   0.4688106493 2                60           \n",
       "   pval_adj    pval_adj_indep\n",
       "1  0.004735825 0.001985991   \n",
       "2  0.006555087 0.007612359   \n",
       "3  0.258441823 0.225094491   \n",
       "4  0.765371242 0.641924267   \n",
       "5  0.836614490 0.660407053   \n",
       "6  0.836614490 0.842012003   \n",
       "7  0.836614490 0.660407053   \n",
       "8  0.836614490 0.660407053   \n",
       "9  0.836614490 0.842012003   \n",
       "10 0.836614490 0.842012003   \n",
       "11 0.836614490 0.660407053   \n",
       "12 0.836614490 0.842012003   \n",
       "13 0.836614490 0.660407053   \n",
       "14 0.836614490 0.660407053   \n",
       "15 0.836614490 0.842012003   \n",
       "16 0.836614490 0.842012003   "
      ]
     },
     "metadata": {},
     "output_type": "display_data"
    }
   ],
   "source": [
    "pvals_sledai_perez_level2 <- data_sledai_perez_level2 %>%\n",
    "  group_by(Level2, tfs) %>%\n",
    "  filter(n_distinct(SLEDAI_category) == 2) %>% # Ensure that Flare has two levels\n",
    "  filter(all(table(SLEDAI_category) >= 2)) %>% # Ensure that each level has at least two observations\n",
    "  summarise(\n",
    "    t_test = list(broom::tidy(t.test(activity ~ SLEDAI_category))),\n",
    "    n_patients_high = sum(SLEDAI_category == \"High\"),\n",
    "    n_patients_low = sum(SLEDAI_category == \"Low\"),  \n",
    "    .groups = \"drop\"\n",
    "  ) %>%\n",
    "  tidyr::unnest(t_test) %>%\n",
    "  select(Level2, tfs, p.value, n_patients_high, n_patients_low) %>%\n",
    "  mutate(\n",
    "    pval_adj = p.adjust(p.value, method = \"BH\")\n",
    "  ) %>%\n",
    "  group_by(tfs) %>% # Group by tfs before adjusting p-values\n",
    "  mutate(\n",
    "    pval_adj_indep = p.adjust(p.value, method = \"BH\")\n",
    "  ) %>%\n",
    "  ungroup() %>%\n",
    "  filter(\n",
    "    p.value < 0.5\n",
    "  ) %>%\n",
    "  arrange(p.value)\n",
    "pvals_sledai_perez_level2"
   ]
  },
  {
   "cell_type": "code",
   "execution_count": 71,
   "id": "5b388374-1652-4974-b97e-947e5d5f3785",
   "metadata": {
    "execution": {
     "iopub.execute_input": "2024-07-01T16:10:59.256386Z",
     "iopub.status.busy": "2024-07-01T16:10:59.255310Z",
     "iopub.status.idle": "2024-07-01T16:10:59.398355Z",
     "shell.execute_reply": "2024-07-01T16:10:59.397176Z"
    }
   },
   "outputs": [
    {
     "data": {
      "text/html": [
       "<table class=\"dataframe\">\n",
       "<caption>A tibble: 16 × 7</caption>\n",
       "<thead>\n",
       "\t<tr><th scope=col>Level2</th><th scope=col>tfs</th><th scope=col>p.value</th><th scope=col>n_patients_high</th><th scope=col>n_patients_low</th><th scope=col>pval_adj</th><th scope=col>pval_adj_indep</th></tr>\n",
       "\t<tr><th scope=col>&lt;chr&gt;</th><th scope=col>&lt;fct&gt;</th><th scope=col>&lt;dbl&gt;</th><th scope=col>&lt;int&gt;</th><th scope=col>&lt;int&gt;</th><th scope=col>&lt;dbl&gt;</th><th scope=col>&lt;dbl&gt;</th></tr>\n",
       "</thead>\n",
       "<tbody>\n",
       "\t<tr><td>Mono_regulatory  </td><td>SP1  </td><td>0.04425900</td><td>7</td><td>9</td><td>0.4959954</td><td>0.3399968</td></tr>\n",
       "\t<tr><td>Mono_inflammatory</td><td>SP1  </td><td>0.05828507</td><td>7</td><td>9</td><td>0.4959954</td><td>0.3399968</td></tr>\n",
       "\t<tr><td>T_CD8_Naive      </td><td>STAT1</td><td>0.07307147</td><td>7</td><td>9</td><td>0.4959954</td><td>0.8302714</td></tr>\n",
       "\t<tr><td>Mono_IFNresponse </td><td>SP1  </td><td>0.07765514</td><td>7</td><td>7</td><td>0.4959954</td><td>0.3399968</td></tr>\n",
       "\t<tr><td>Mono_classical   </td><td>SP1  </td><td>0.07999925</td><td>7</td><td>9</td><td>0.4959954</td><td>0.3399968</td></tr>\n",
       "\t<tr><td>Mono_nonClassical</td><td>SP1  </td><td>0.13421888</td><td>5</td><td>8</td><td>0.6128193</td><td>0.4563442</td></tr>\n",
       "\t<tr><td>T_CD8_CM_stem    </td><td>STAT1</td><td>0.16921096</td><td>5</td><td>6</td><td>0.6128193</td><td>0.8302714</td></tr>\n",
       "\t<tr><td>T_CD8_CM_stem    </td><td>SP1  </td><td>0.17161043</td><td>5</td><td>6</td><td>0.6128193</td><td>0.4862295</td></tr>\n",
       "\t<tr><td>Mono_inflammatory</td><td>STAT1</td><td>0.17791529</td><td>7</td><td>9</td><td>0.6128193</td><td>0.8302714</td></tr>\n",
       "\t<tr><td>Mono_IFNresponse </td><td>STAT1</td><td>0.26054512</td><td>7</td><td>7</td><td>0.6982245</td><td>0.9075016</td></tr>\n",
       "\t<tr><td>T_CD8_CM         </td><td>SP1  </td><td>0.26632776</td><td>7</td><td>9</td><td>0.6982245</td><td>0.5743460</td></tr>\n",
       "\t<tr><td>NK_IFN1response  </td><td>SP1  </td><td>0.27028047</td><td>6</td><td>8</td><td>0.6982245</td><td>0.5743460</td></tr>\n",
       "\t<tr><td>T_CD4_Naive      </td><td>SP1  </td><td>0.31585352</td><td>7</td><td>9</td><td>0.7531892</td><td>0.5966122</td></tr>\n",
       "\t<tr><td>T_CD8_IFNresponse</td><td>SP1  </td><td>0.36659297</td><td>7</td><td>9</td><td>0.8107482</td><td>0.6062780</td></tr>\n",
       "\t<tr><td>NK_adaptive      </td><td>SP1  </td><td>0.39229753</td><td>5</td><td>5</td><td>0.8107482</td><td>0.6062780</td></tr>\n",
       "\t<tr><td>T_CD8_CM         </td><td>STAT1</td><td>0.46665432</td><td>7</td><td>9</td><td>0.8526453</td><td>0.9075016</td></tr>\n",
       "</tbody>\n",
       "</table>\n"
      ],
      "text/latex": [
       "A tibble: 16 × 7\n",
       "\\begin{tabular}{lllllll}\n",
       " Level2 & tfs & p.value & n\\_patients\\_high & n\\_patients\\_low & pval\\_adj & pval\\_adj\\_indep\\\\\n",
       " <chr> & <fct> & <dbl> & <int> & <int> & <dbl> & <dbl>\\\\\n",
       "\\hline\n",
       "\t Mono\\_regulatory   & SP1   & 0.04425900 & 7 & 9 & 0.4959954 & 0.3399968\\\\\n",
       "\t Mono\\_inflammatory & SP1   & 0.05828507 & 7 & 9 & 0.4959954 & 0.3399968\\\\\n",
       "\t T\\_CD8\\_Naive       & STAT1 & 0.07307147 & 7 & 9 & 0.4959954 & 0.8302714\\\\\n",
       "\t Mono\\_IFNresponse  & SP1   & 0.07765514 & 7 & 7 & 0.4959954 & 0.3399968\\\\\n",
       "\t Mono\\_classical    & SP1   & 0.07999925 & 7 & 9 & 0.4959954 & 0.3399968\\\\\n",
       "\t Mono\\_nonClassical & SP1   & 0.13421888 & 5 & 8 & 0.6128193 & 0.4563442\\\\\n",
       "\t T\\_CD8\\_CM\\_stem     & STAT1 & 0.16921096 & 5 & 6 & 0.6128193 & 0.8302714\\\\\n",
       "\t T\\_CD8\\_CM\\_stem     & SP1   & 0.17161043 & 5 & 6 & 0.6128193 & 0.4862295\\\\\n",
       "\t Mono\\_inflammatory & STAT1 & 0.17791529 & 7 & 9 & 0.6128193 & 0.8302714\\\\\n",
       "\t Mono\\_IFNresponse  & STAT1 & 0.26054512 & 7 & 7 & 0.6982245 & 0.9075016\\\\\n",
       "\t T\\_CD8\\_CM          & SP1   & 0.26632776 & 7 & 9 & 0.6982245 & 0.5743460\\\\\n",
       "\t NK\\_IFN1response   & SP1   & 0.27028047 & 6 & 8 & 0.6982245 & 0.5743460\\\\\n",
       "\t T\\_CD4\\_Naive       & SP1   & 0.31585352 & 7 & 9 & 0.7531892 & 0.5966122\\\\\n",
       "\t T\\_CD8\\_IFNresponse & SP1   & 0.36659297 & 7 & 9 & 0.8107482 & 0.6062780\\\\\n",
       "\t NK\\_adaptive       & SP1   & 0.39229753 & 5 & 5 & 0.8107482 & 0.6062780\\\\\n",
       "\t T\\_CD8\\_CM          & STAT1 & 0.46665432 & 7 & 9 & 0.8526453 & 0.9075016\\\\\n",
       "\\end{tabular}\n"
      ],
      "text/markdown": [
       "\n",
       "A tibble: 16 × 7\n",
       "\n",
       "| Level2 &lt;chr&gt; | tfs &lt;fct&gt; | p.value &lt;dbl&gt; | n_patients_high &lt;int&gt; | n_patients_low &lt;int&gt; | pval_adj &lt;dbl&gt; | pval_adj_indep &lt;dbl&gt; |\n",
       "|---|---|---|---|---|---|---|\n",
       "| Mono_regulatory   | SP1   | 0.04425900 | 7 | 9 | 0.4959954 | 0.3399968 |\n",
       "| Mono_inflammatory | SP1   | 0.05828507 | 7 | 9 | 0.4959954 | 0.3399968 |\n",
       "| T_CD8_Naive       | STAT1 | 0.07307147 | 7 | 9 | 0.4959954 | 0.8302714 |\n",
       "| Mono_IFNresponse  | SP1   | 0.07765514 | 7 | 7 | 0.4959954 | 0.3399968 |\n",
       "| Mono_classical    | SP1   | 0.07999925 | 7 | 9 | 0.4959954 | 0.3399968 |\n",
       "| Mono_nonClassical | SP1   | 0.13421888 | 5 | 8 | 0.6128193 | 0.4563442 |\n",
       "| T_CD8_CM_stem     | STAT1 | 0.16921096 | 5 | 6 | 0.6128193 | 0.8302714 |\n",
       "| T_CD8_CM_stem     | SP1   | 0.17161043 | 5 | 6 | 0.6128193 | 0.4862295 |\n",
       "| Mono_inflammatory | STAT1 | 0.17791529 | 7 | 9 | 0.6128193 | 0.8302714 |\n",
       "| Mono_IFNresponse  | STAT1 | 0.26054512 | 7 | 7 | 0.6982245 | 0.9075016 |\n",
       "| T_CD8_CM          | SP1   | 0.26632776 | 7 | 9 | 0.6982245 | 0.5743460 |\n",
       "| NK_IFN1response   | SP1   | 0.27028047 | 6 | 8 | 0.6982245 | 0.5743460 |\n",
       "| T_CD4_Naive       | SP1   | 0.31585352 | 7 | 9 | 0.7531892 | 0.5966122 |\n",
       "| T_CD8_IFNresponse | SP1   | 0.36659297 | 7 | 9 | 0.8107482 | 0.6062780 |\n",
       "| NK_adaptive       | SP1   | 0.39229753 | 5 | 5 | 0.8107482 | 0.6062780 |\n",
       "| T_CD8_CM          | STAT1 | 0.46665432 | 7 | 9 | 0.8526453 | 0.9075016 |\n",
       "\n"
      ],
      "text/plain": [
       "   Level2            tfs   p.value    n_patients_high n_patients_low pval_adj \n",
       "1  Mono_regulatory   SP1   0.04425900 7               9              0.4959954\n",
       "2  Mono_inflammatory SP1   0.05828507 7               9              0.4959954\n",
       "3  T_CD8_Naive       STAT1 0.07307147 7               9              0.4959954\n",
       "4  Mono_IFNresponse  SP1   0.07765514 7               7              0.4959954\n",
       "5  Mono_classical    SP1   0.07999925 7               9              0.4959954\n",
       "6  Mono_nonClassical SP1   0.13421888 5               8              0.6128193\n",
       "7  T_CD8_CM_stem     STAT1 0.16921096 5               6              0.6128193\n",
       "8  T_CD8_CM_stem     SP1   0.17161043 5               6              0.6128193\n",
       "9  Mono_inflammatory STAT1 0.17791529 7               9              0.6128193\n",
       "10 Mono_IFNresponse  STAT1 0.26054512 7               7              0.6982245\n",
       "11 T_CD8_CM          SP1   0.26632776 7               9              0.6982245\n",
       "12 NK_IFN1response   SP1   0.27028047 6               8              0.6982245\n",
       "13 T_CD4_Naive       SP1   0.31585352 7               9              0.7531892\n",
       "14 T_CD8_IFNresponse SP1   0.36659297 7               9              0.8107482\n",
       "15 NK_adaptive       SP1   0.39229753 5               5              0.8107482\n",
       "16 T_CD8_CM          STAT1 0.46665432 7               9              0.8526453\n",
       "   pval_adj_indep\n",
       "1  0.3399968     \n",
       "2  0.3399968     \n",
       "3  0.8302714     \n",
       "4  0.3399968     \n",
       "5  0.3399968     \n",
       "6  0.4563442     \n",
       "7  0.8302714     \n",
       "8  0.4862295     \n",
       "9  0.8302714     \n",
       "10 0.9075016     \n",
       "11 0.5743460     \n",
       "12 0.5743460     \n",
       "13 0.5966122     \n",
       "14 0.6062780     \n",
       "15 0.6062780     \n",
       "16 0.9075016     "
      ]
     },
     "metadata": {},
     "output_type": "display_data"
    }
   ],
   "source": [
    "pvals_sledai_scgt_level2 <- data_sledai_scgt_level2 %>%\n",
    "  group_by(Level2, tfs) %>%\n",
    "  filter(n_distinct(SLEDAI_category) == 2) %>% # Ensure that Flare has two levels\n",
    "  filter(all(table(SLEDAI_category) >= 2)) %>% # Ensure that each level has at least two observations\n",
    "  summarise(\n",
    "    t_test = list(broom::tidy(t.test(activity ~ SLEDAI_category))),\n",
    "    n_patients_high = sum(SLEDAI_category == \"High\"),\n",
    "    n_patients_low = sum(SLEDAI_category == \"Low\"),  \n",
    "    .groups = \"drop\"\n",
    "  ) %>%\n",
    "  tidyr::unnest(t_test) %>%\n",
    "  select(Level2, tfs, p.value, n_patients_high, n_patients_low) %>%\n",
    "  mutate(\n",
    "    pval_adj = p.adjust(p.value, method = \"BH\")\n",
    "  ) %>%\n",
    "  group_by(tfs) %>% # Group by tfs before adjusting p-values\n",
    "  mutate(\n",
    "    pval_adj_indep = p.adjust(p.value, method = \"BH\")\n",
    "  ) %>%\n",
    "  ungroup() %>%\n",
    "  filter(\n",
    "    p.value < 0.5\n",
    "  ) %>%\n",
    "  arrange(p.value)\n",
    "pvals_sledai_scgt_level2"
   ]
  },
  {
   "cell_type": "markdown",
   "id": "09bbcb6d-245e-448c-9737-5b85b1a06783",
   "metadata": {},
   "source": [
    "### Plot"
   ]
  },
  {
   "cell_type": "code",
   "execution_count": 74,
   "id": "f4c3c12d-8abf-414f-a541-c2cbe90a2aab",
   "metadata": {
    "execution": {
     "iopub.execute_input": "2024-07-01T16:14:29.384485Z",
     "iopub.status.busy": "2024-07-01T16:14:29.383398Z",
     "iopub.status.idle": "2024-07-01T16:14:29.393633Z",
     "shell.execute_reply": "2024-07-01T16:14:29.392480Z"
    }
   },
   "outputs": [],
   "source": [
    "toplot_sledai <- rbind(data_sledai_perez_level2, data_sledai_scgt_level2)"
   ]
  },
  {
   "cell_type": "code",
   "execution_count": 75,
   "id": "c1636c04-3ac4-4782-846e-1cbd87f1f53d",
   "metadata": {
    "execution": {
     "iopub.execute_input": "2024-07-01T16:14:30.149706Z",
     "iopub.status.busy": "2024-07-01T16:14:30.148652Z",
     "iopub.status.idle": "2024-07-01T16:14:32.432519Z",
     "shell.execute_reply": "2024-07-01T16:14:32.431123Z"
    }
   },
   "outputs": [],
   "source": [
    "plot_response <- ggboxplot(toplot_sledai, x = \"Level2\", y = \"activity\", fill = \"SLEDAI_category\") +\n",
    "    facet_grid(tfs + studyID ~ Level1, scales = \"free\") +\n",
    "    scale_fill_manual(values = SLEDAI_palette) +\n",
    "    theme_bw() +\n",
    "    ggtitle(label = \"SLEDAI category\") +\n",
    "    theme(\n",
    "        axis.text.x = element_text(angle = 25, vjust = 0.5, hjust=0.5)\n",
    ")\n",
    "\n",
    "ggsave(\n",
    "    plot_response,\n",
    "    filename = \"plot_sledai.pdf\",\n",
    "    device = \"pdf\",\n",
    "    width = 15,\n",
    "    height = 12,\n",
    "    path = \"results/Compare_SLE_subgroups/\")"
   ]
  }
 ],
 "metadata": {
  "kernelspec": {
   "display_name": "R",
   "language": "R",
   "name": "ir"
  },
  "language_info": {
   "codemirror_mode": "r",
   "file_extension": ".r",
   "mimetype": "text/x-r-source",
   "name": "R",
   "pygments_lexer": "r",
   "version": "4.3.3"
  }
 },
 "nbformat": 4,
 "nbformat_minor": 5
}
