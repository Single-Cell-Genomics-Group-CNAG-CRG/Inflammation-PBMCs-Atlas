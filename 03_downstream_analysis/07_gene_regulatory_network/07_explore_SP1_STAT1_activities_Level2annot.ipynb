{
 "cells": [
  {
   "cell_type": "code",
   "execution_count": 1,
   "id": "3c29a83f-7bdc-4217-84b9-862af3ff6f4a",
   "metadata": {
    "execution": {
     "iopub.execute_input": "2025-05-21T16:22:38.128648Z",
     "iopub.status.busy": "2025-05-21T16:22:38.128373Z",
     "iopub.status.idle": "2025-05-21T16:23:38.966567Z",
     "shell.execute_reply": "2025-05-21T16:23:38.966007Z",
     "shell.execute_reply.started": "2025-05-21T16:22:38.128624Z"
    }
   },
   "outputs": [],
   "source": [
    "import os\n",
    "import scanpy as sc\n",
    "import decoupler as dc\n",
    "import pandas as pd\n",
    "import numpy as np\n",
    "import anndata as an\n",
    "from sklearn.preprocessing import StandardScaler\n",
    "#from scripts.workflow.utils.scale_by_celltype import scale_by_celltype"
   ]
  },
  {
   "cell_type": "code",
   "execution_count": 2,
   "id": "a796612c-01a8-4843-83f3-1faba776fdf0",
   "metadata": {
    "execution": {
     "iopub.execute_input": "2025-05-21T16:23:38.967792Z",
     "iopub.status.busy": "2025-05-21T16:23:38.967450Z",
     "iopub.status.idle": "2025-05-21T16:23:38.973309Z",
     "shell.execute_reply": "2025-05-21T16:23:38.972889Z",
     "shell.execute_reply.started": "2025-05-21T16:23:38.967775Z"
    }
   },
   "outputs": [],
   "source": [
    "import pandas as pd\n",
    "from sklearn.preprocessing import StandardScaler\n",
    "from scipy.sparse import issparse\n",
    "\n",
    "# Define a function to scale data by cell type within a cohort\n",
    "def scale_by_cell_type(pdata, disease, cohort_name=None):\n",
    "\n",
    "     if issparse(pdata.X):\n",
    "         # Convert the sparse matrix to a dense format\n",
    "         pdata.X = pdata.X.toarray()\n",
    "\n",
    "     # Subset data for the given cohort\n",
    "     #pdata_cohort = pdata[pdata.obs['studyID'] == cohort_name]\n",
    "\n",
    "     # Get unique cell types\n",
    "     cell_types = pdata.obs['Level1'].unique()\n",
    "\n",
    "     # Create a list to store scaled data\n",
    "     scaled_data_list = []\n",
    "\n",
    "     # Iterate over each cell type\n",
    "     for cell_type in cell_types:\n",
    "         for disease in pdata.obs['disease'].unique(): \n",
    "         # Subset data for healthy and disease patients within the cell type\n",
    "             pdata_h = pdata[(pdata.obs['disease'] ==\n",
    "    'healthy') & (pdata.obs['Level1'] == cell_type)]\n",
    "             pdata_r = pdata[(pdata.obs['disease'] ==\n",
    "    disease) & (pdata.obs['Level1'] == cell_type)]\n",
    "    \n",
    "             if pdata_h.shape[0] > 0 and pdata_r.shape[0] > 0:\n",
    "                 # Scale disease patients based on healthy controls\n",
    "                 scaler = StandardScaler()\n",
    "                 scaler.fit(pdata_h.X)\n",
    "                 pdata_r_scaled = pdata_r.copy()\n",
    "                 pdata_r_scaled.X = scaler.transform(pdata_r.X)\n",
    "    \n",
    "                 # Append scaled data to the list\n",
    "                 scaled_data_list.append(pdata_r_scaled)\n",
    "     # Concatenate scaled data for all cell types\n",
    "     scaled_data = scaled_data_list[0].concatenate(scaled_data_list[1:])\n",
    "\n",
    "     return scaled_data\n"
   ]
  },
  {
   "cell_type": "code",
   "execution_count": 31,
   "id": "5748e314-24a8-485e-9c8a-a1f123e8cbe6",
   "metadata": {
    "execution": {
     "iopub.execute_input": "2025-05-21T16:37:31.999629Z",
     "iopub.status.busy": "2025-05-21T16:37:31.999199Z",
     "iopub.status.idle": "2025-05-21T16:37:32.005390Z",
     "shell.execute_reply": "2025-05-21T16:37:32.004838Z",
     "shell.execute_reply.started": "2025-05-21T16:37:31.999607Z"
    }
   },
   "outputs": [],
   "source": [
    "def scale_by_cell_type(pdata, disease, cohort_name=None):\n",
    "     if issparse(pdata.X):\n",
    "         # Convert the sparse matrix to a dense format\n",
    "         pdata.X = pdata.X.toarray()\n",
    "     # Subset data for the given cohort\n",
    "     if cohort_name is not None: \n",
    "         pdata_cohort = pdata[pdata.obs['studyID'] == cohort_name].copy()\n",
    "     else: \n",
    "         pdata_cohort = pdata.copy()\n",
    "\n",
    "     # Get unique cell types\n",
    "     cell_types = pdata_cohort.obs['Level1'].unique()\n",
    "\n",
    "     # Create a list to store scaled data\n",
    "     scaled_data_list = []\n",
    "\n",
    "     # Iterate over each cell type\n",
    "     for cell_type in cell_types:\n",
    "         # Subset data for healthy and SLE patients within the cell type\n",
    "         pdata_cohort_h = pdata_cohort[(pdata_cohort.obs['disease'] ==\n",
    "'healthy') & (pdata_cohort.obs['Level1'] == cell_type)]\n",
    "         pdata_cohort_r = pdata_cohort[(pdata_cohort.obs['disease'] ==\n",
    "disease) & (pdata_cohort.obs['Level1'] == cell_type)]\n",
    "\n",
    "         if pdata_cohort_h.shape[0] > 0 and pdata_cohort_r.shape[0] > 0:\n",
    "             # Scale SLE patients based on healthy controls\n",
    "             scaler = StandardScaler()\n",
    "             scaler.fit(pdata_cohort_h.X)\n",
    "             pdata_cohort_r_scaled = pdata_cohort_r.copy()\n",
    "             pdata_cohort_r_scaled.X = scaler.transform(pdata_cohort_r.X)\n",
    "\n",
    "             # Append scaled data to the list\n",
    "             scaled_data_list.append(pdata_cohort_r_scaled)\n",
    "\n",
    "     # Concatenate scaled data for all cell types\n",
    "     scaled_data = scaled_data_list[0].concatenate(scaled_data_list[1:]) if scaled_data_list else None\n",
    "     return scaled_data"
   ]
  },
  {
   "cell_type": "code",
   "execution_count": 46,
   "id": "d8639e73-a6b7-4847-a63b-2990cbd6b44a",
   "metadata": {
    "execution": {
     "iopub.execute_input": "2025-05-21T16:41:46.822771Z",
     "iopub.status.busy": "2025-05-21T16:41:46.822441Z",
     "iopub.status.idle": "2025-05-21T16:41:46.826752Z",
     "shell.execute_reply": "2025-05-21T16:41:46.826248Z",
     "shell.execute_reply.started": "2025-05-21T16:41:46.822751Z"
    }
   },
   "outputs": [],
   "source": [
    "# Parameters\n",
    "diseases = [\"SLE\", \"Cirrhosis\", \"Flu\", \"HNSCC\"]\n",
    "workDir = \"/scratch_isilon/groups/singlecell/shared/projects/Inflammation-PBMCs-Atlas/\"\n",
    "# --- Input \n",
    "data_path = workDir + \"03_downstream_analysis/07_gene_regulatory_network/results/\"\n",
    "net_merged_inputpath = data_path + 'test_revision_20250402/TFactivity_level2/data/net_merged_new.csv'\n",
    "\n",
    "# --- Output \n",
    "output_folder = data_path + 'test_revision_20250402/TFactivity_level2/results/'"
   ]
  },
  {
   "cell_type": "code",
   "execution_count": 54,
   "id": "d7afea5d-d7b2-4162-881e-d3a15618631e",
   "metadata": {
    "execution": {
     "iopub.execute_input": "2025-05-21T16:45:17.078039Z",
     "iopub.status.busy": "2025-05-21T16:45:17.077703Z",
     "iopub.status.idle": "2025-05-21T16:45:23.195448Z",
     "shell.execute_reply": "2025-05-21T16:45:23.194890Z",
     "shell.execute_reply.started": "2025-05-21T16:45:17.078014Z"
    }
   },
   "outputs": [
    {
     "name": "stderr",
     "output_type": "stream",
     "text": [
      "/scratch_isilon/groups/singlecell/shared/conda_env/inflammation_atlas_R1/lib/python3.10/site-packages/anndata/_core/anndata.py:183: ImplicitModificationWarning: Transforming to str index.\n",
      "  warnings.warn(\"Transforming to str index.\", ImplicitModificationWarning)\n",
      "/scratch_tmp/40828200/ipykernel_236219/897647470.py:5: FutureWarning: The behavior of Series.replace (and DataFrame.replace) with CategoricalDtype is deprecated. In a future version, replace will only be used for cases that preserve the categories. To change the categories, use ser.cat.rename_categories instead.\n",
      "  dis_adata.obs[\"disease\"] = dis_adata.obs[\"disease\"].replace({\"cirrhosis\": \"Cirrhosis\",\n",
      "/scratch_tmp/40828200/ipykernel_236219/897647470.py:5: FutureWarning: The behavior of Series.replace (and DataFrame.replace) with CategoricalDtype is deprecated. In a future version, replace will only be used for cases that preserve the categories. To change the categories, use ser.cat.rename_categories instead.\n",
      "  dis_adata.obs[\"disease\"] = dis_adata.obs[\"disease\"].replace({\"cirrhosis\": \"Cirrhosis\",\n"
     ]
    }
   ],
   "source": [
    "adatas_dict = {}\n",
    "for disease in diseases: \n",
    "    inputpath = os.path.join(data_path, f\"04_MAIN_geneUniverse.log1p_{disease}subset.h5ad\")                     \n",
    "    dis_adata = sc.read_h5ad(inputpath)\n",
    "    dis_adata.obs[\"disease\"] = dis_adata.obs[\"disease\"].replace({\"cirrhosis\": \"Cirrhosis\", \n",
    "                                                                 \"flu\": \"Flu\"})\n",
    "    adatas_dict[disease]=dis_adata"
   ]
  },
  {
   "cell_type": "code",
   "execution_count": 55,
   "id": "1c71ffcc-e77c-4e59-b0d8-4cf9b1c87c78",
   "metadata": {
    "execution": {
     "iopub.execute_input": "2025-05-21T16:45:25.653506Z",
     "iopub.status.busy": "2025-05-21T16:45:25.653078Z",
     "iopub.status.idle": "2025-05-21T16:45:25.657430Z",
     "shell.execute_reply": "2025-05-21T16:45:25.657046Z",
     "shell.execute_reply.started": "2025-05-21T16:45:25.653468Z"
    }
   },
   "outputs": [
    {
     "data": {
      "text/plain": [
       "{'SLE': AnnData object with n_obs × n_vars = 996812 × 51\n",
       "     obs: 'studyID', 'libraryID', 'sampleID', 'chemistry', 'disease', 'sex', 'binned_age', 'Level1', 'Level2', 'SLEDAI_score', 'Flare', 'Responder'\n",
       "     var: 'hgnc_id', 'symbol', 'locus_group', 'HUGO_status', 'highly_variable'\n",
       "     uns: 'log1p',\n",
       " 'Cirrhosis': AnnData object with n_obs × n_vars = 78149 × 51\n",
       "     obs: 'studyID', 'libraryID', 'sampleID', 'chemistry', 'disease', 'sex', 'binned_age', 'Level1', 'Level2'\n",
       "     var: 'hgnc_id', 'symbol', 'locus_group', 'HUGO_status', 'highly_variable'\n",
       "     uns: 'log1p',\n",
       " 'Flu': AnnData object with n_obs × n_vars = 106739 × 51\n",
       "     obs: 'studyID', 'libraryID', 'sampleID', 'chemistry', 'disease', 'sex', 'binned_age', 'Level1', 'Level2'\n",
       "     var: 'hgnc_id', 'symbol', 'locus_group', 'HUGO_status', 'highly_variable'\n",
       "     uns: 'log1p',\n",
       " 'HNSCC': AnnData object with n_obs × n_vars = 14842 × 51\n",
       "     obs: 'studyID', 'libraryID', 'sampleID', 'chemistry', 'disease', 'sex', 'binned_age', 'Level1', 'Level2'\n",
       "     var: 'hgnc_id', 'symbol', 'locus_group', 'HUGO_status', 'highly_variable'\n",
       "     uns: 'log1p'}"
      ]
     },
     "execution_count": 55,
     "metadata": {},
     "output_type": "execute_result"
    }
   ],
   "source": [
    "adatas_dict"
   ]
  },
  {
   "cell_type": "code",
   "execution_count": 56,
   "id": "459de1e7-0ddf-476c-a225-19aaf721ed8a",
   "metadata": {
    "execution": {
     "iopub.execute_input": "2025-05-21T16:45:26.230446Z",
     "iopub.status.busy": "2025-05-21T16:45:26.230144Z",
     "iopub.status.idle": "2025-05-21T16:45:26.658554Z",
     "shell.execute_reply": "2025-05-21T16:45:26.658093Z",
     "shell.execute_reply.started": "2025-05-21T16:45:26.230429Z"
    }
   },
   "outputs": [
    {
     "name": "stdout",
     "output_type": "stream",
     "text": [
      "['healthy', 'SLE']\n",
      "Categories (2, object): ['SLE', 'healthy']\n",
      "['healthy', 'Cirrhosis']\n",
      "Categories (2, object): ['Cirrhosis', 'healthy']\n",
      "['healthy', 'Flu']\n",
      "Categories (2, object): ['Flu', 'healthy']\n",
      "['healthy', 'HNSCC']\n",
      "Categories (2, object): ['HNSCC', 'healthy']\n"
     ]
    }
   ],
   "source": [
    "for key, adata in adatas_dict.items(): \n",
    "    print(adata.obs.disease.unique())"
   ]
  },
  {
   "cell_type": "code",
   "execution_count": 12,
   "id": "deae9a17-a561-4599-8b35-2579d1440d83",
   "metadata": {
    "execution": {
     "iopub.execute_input": "2025-05-21T12:44:50.831660Z",
     "iopub.status.busy": "2025-05-21T12:44:50.831066Z",
     "iopub.status.idle": "2025-05-21T12:44:50.834109Z",
     "shell.execute_reply": "2025-05-21T12:44:50.833726Z",
     "shell.execute_reply.started": "2025-05-21T12:44:50.831637Z"
    }
   },
   "outputs": [],
   "source": [
    "#adata = an.concat(adatas)\n",
    "#adata.obs.disease.unique()\n",
    "#adata"
   ]
  },
  {
   "cell_type": "code",
   "execution_count": 50,
   "id": "0a6616d3-21e1-432b-8b2c-9638fb2377d2",
   "metadata": {
    "execution": {
     "iopub.execute_input": "2025-05-21T16:43:11.458522Z",
     "iopub.status.busy": "2025-05-21T16:43:11.458049Z",
     "iopub.status.idle": "2025-05-21T16:43:12.592226Z",
     "shell.execute_reply": "2025-05-21T16:43:12.591774Z",
     "shell.execute_reply.started": "2025-05-21T16:43:11.458502Z"
    }
   },
   "outputs": [
    {
     "data": {
      "text/html": [
       "<div>\n",
       "<style scoped>\n",
       "    .dataframe tbody tr th:only-of-type {\n",
       "        vertical-align: middle;\n",
       "    }\n",
       "\n",
       "    .dataframe tbody tr th {\n",
       "        vertical-align: top;\n",
       "    }\n",
       "\n",
       "    .dataframe thead th {\n",
       "        text-align: right;\n",
       "    }\n",
       "</style>\n",
       "<table border=\"1\" class=\"dataframe\">\n",
       "  <thead>\n",
       "    <tr style=\"text-align: right;\">\n",
       "      <th></th>\n",
       "      <th>source_collectri</th>\n",
       "      <th>target</th>\n",
       "      <th>weight</th>\n",
       "      <th>PMID</th>\n",
       "      <th>index</th>\n",
       "      <th>source_net</th>\n",
       "      <th>Factor_celltype</th>\n",
       "      <th>Factor_function</th>\n",
       "      <th>value</th>\n",
       "    </tr>\n",
       "  </thead>\n",
       "  <tbody>\n",
       "    <tr>\n",
       "      <th>2</th>\n",
       "      <td>SMAD3</td>\n",
       "      <td>JUN</td>\n",
       "      <td>1</td>\n",
       "      <td>10022869;12374795</td>\n",
       "      <td>ENSG00000177606</td>\n",
       "      <td>SPECTRA_0</td>\n",
       "      <td>global</td>\n",
       "      <td>all_IL6-JAK-STAT3_signaling</td>\n",
       "      <td>0.061590</td>\n",
       "    </tr>\n",
       "    <tr>\n",
       "      <th>3</th>\n",
       "      <td>SMAD3</td>\n",
       "      <td>JUN</td>\n",
       "      <td>1</td>\n",
       "      <td>10022869;12374795</td>\n",
       "      <td>ENSG00000177606</td>\n",
       "      <td>SPECTRA_65</td>\n",
       "      <td>T_CD4_Naive</td>\n",
       "      <td>Tregs_FoxP3_stabilization</td>\n",
       "      <td>0.000138</td>\n",
       "    </tr>\n",
       "    <tr>\n",
       "      <th>4</th>\n",
       "      <td>SMAD4</td>\n",
       "      <td>JUN</td>\n",
       "      <td>1</td>\n",
       "      <td>10022869;12374795</td>\n",
       "      <td>ENSG00000177606</td>\n",
       "      <td>SPECTRA_0</td>\n",
       "      <td>global</td>\n",
       "      <td>all_IL6-JAK-STAT3_signaling</td>\n",
       "      <td>0.061590</td>\n",
       "    </tr>\n",
       "    <tr>\n",
       "      <th>5</th>\n",
       "      <td>SMAD4</td>\n",
       "      <td>JUN</td>\n",
       "      <td>1</td>\n",
       "      <td>10022869;12374795</td>\n",
       "      <td>ENSG00000177606</td>\n",
       "      <td>SPECTRA_65</td>\n",
       "      <td>T_CD4_Naive</td>\n",
       "      <td>Tregs_FoxP3_stabilization</td>\n",
       "      <td>0.000138</td>\n",
       "    </tr>\n",
       "    <tr>\n",
       "      <th>6</th>\n",
       "      <td>STAT5A</td>\n",
       "      <td>IL2</td>\n",
       "      <td>1</td>\n",
       "      <td>10022878;11435608;17182565;17911616;22854263;2...</td>\n",
       "      <td>ENSG00000109471</td>\n",
       "      <td>SPECTRA_68</td>\n",
       "      <td>T_CD4_Naive</td>\n",
       "      <td>cytokine_and_receptors_proinflammatory</td>\n",
       "      <td>0.001665</td>\n",
       "    </tr>\n",
       "    <tr>\n",
       "      <th>...</th>\n",
       "      <td>...</td>\n",
       "      <td>...</td>\n",
       "      <td>...</td>\n",
       "      <td>...</td>\n",
       "      <td>...</td>\n",
       "      <td>...</td>\n",
       "      <td>...</td>\n",
       "      <td>...</td>\n",
       "      <td>...</td>\n",
       "    </tr>\n",
       "    <tr>\n",
       "      <th>73841</th>\n",
       "      <td>NFKB</td>\n",
       "      <td>TNFSF12</td>\n",
       "      <td>1</td>\n",
       "      <td>9560343</td>\n",
       "      <td>ENSG00000239697</td>\n",
       "      <td>SPECTRA_87</td>\n",
       "      <td>T_CD4_NonNaive</td>\n",
       "      <td>TNF_receptors_ligands</td>\n",
       "      <td>0.088949</td>\n",
       "    </tr>\n",
       "    <tr>\n",
       "      <th>73842</th>\n",
       "      <td>NFKB</td>\n",
       "      <td>TNFSF12</td>\n",
       "      <td>1</td>\n",
       "      <td>9560343</td>\n",
       "      <td>ENSG00000239697</td>\n",
       "      <td>SPECTRA_99</td>\n",
       "      <td>T_CD8_Naive</td>\n",
       "      <td>TNF_receptors_ligands</td>\n",
       "      <td>0.069565</td>\n",
       "    </tr>\n",
       "    <tr>\n",
       "      <th>73843</th>\n",
       "      <td>NFKB</td>\n",
       "      <td>TNFSF12</td>\n",
       "      <td>1</td>\n",
       "      <td>9560343</td>\n",
       "      <td>ENSG00000239697</td>\n",
       "      <td>SPECTRA_111</td>\n",
       "      <td>T_CD8_NonNaive</td>\n",
       "      <td>TNF_receptors_ligands</td>\n",
       "      <td>0.109352</td>\n",
       "    </tr>\n",
       "    <tr>\n",
       "      <th>73844</th>\n",
       "      <td>NFKB</td>\n",
       "      <td>TNFSF12</td>\n",
       "      <td>1</td>\n",
       "      <td>9560343</td>\n",
       "      <td>ENSG00000239697</td>\n",
       "      <td>SPECTRA_121</td>\n",
       "      <td>UTC</td>\n",
       "      <td>TNF_receptors_ligands</td>\n",
       "      <td>0.114455</td>\n",
       "    </tr>\n",
       "    <tr>\n",
       "      <th>73845</th>\n",
       "      <td>NFKB</td>\n",
       "      <td>TNFSF12</td>\n",
       "      <td>1</td>\n",
       "      <td>9560343</td>\n",
       "      <td>ENSG00000239697</td>\n",
       "      <td>SPECTRA_131</td>\n",
       "      <td>pDC</td>\n",
       "      <td>TNF_receptors_ligands</td>\n",
       "      <td>0.022500</td>\n",
       "    </tr>\n",
       "  </tbody>\n",
       "</table>\n",
       "<p>38600 rows × 9 columns</p>\n",
       "</div>"
      ],
      "text/plain": [
       "      source_collectri   target  weight  \\\n",
       "2                SMAD3      JUN       1   \n",
       "3                SMAD3      JUN       1   \n",
       "4                SMAD4      JUN       1   \n",
       "5                SMAD4      JUN       1   \n",
       "6               STAT5A      IL2       1   \n",
       "...                ...      ...     ...   \n",
       "73841             NFKB  TNFSF12       1   \n",
       "73842             NFKB  TNFSF12       1   \n",
       "73843             NFKB  TNFSF12       1   \n",
       "73844             NFKB  TNFSF12       1   \n",
       "73845             NFKB  TNFSF12       1   \n",
       "\n",
       "                                                    PMID            index  \\\n",
       "2                                      10022869;12374795  ENSG00000177606   \n",
       "3                                      10022869;12374795  ENSG00000177606   \n",
       "4                                      10022869;12374795  ENSG00000177606   \n",
       "5                                      10022869;12374795  ENSG00000177606   \n",
       "6      10022878;11435608;17182565;17911616;22854263;2...  ENSG00000109471   \n",
       "...                                                  ...              ...   \n",
       "73841                                            9560343  ENSG00000239697   \n",
       "73842                                            9560343  ENSG00000239697   \n",
       "73843                                            9560343  ENSG00000239697   \n",
       "73844                                            9560343  ENSG00000239697   \n",
       "73845                                            9560343  ENSG00000239697   \n",
       "\n",
       "        source_net Factor_celltype                         Factor_function  \\\n",
       "2        SPECTRA_0          global             all_IL6-JAK-STAT3_signaling   \n",
       "3       SPECTRA_65     T_CD4_Naive               Tregs_FoxP3_stabilization   \n",
       "4        SPECTRA_0          global             all_IL6-JAK-STAT3_signaling   \n",
       "5       SPECTRA_65     T_CD4_Naive               Tregs_FoxP3_stabilization   \n",
       "6       SPECTRA_68     T_CD4_Naive  cytokine_and_receptors_proinflammatory   \n",
       "...            ...             ...                                     ...   \n",
       "73841   SPECTRA_87  T_CD4_NonNaive                   TNF_receptors_ligands   \n",
       "73842   SPECTRA_99     T_CD8_Naive                   TNF_receptors_ligands   \n",
       "73843  SPECTRA_111  T_CD8_NonNaive                   TNF_receptors_ligands   \n",
       "73844  SPECTRA_121             UTC                   TNF_receptors_ligands   \n",
       "73845  SPECTRA_131             pDC                   TNF_receptors_ligands   \n",
       "\n",
       "          value  \n",
       "2      0.061590  \n",
       "3      0.000138  \n",
       "4      0.061590  \n",
       "5      0.000138  \n",
       "6      0.001665  \n",
       "...         ...  \n",
       "73841  0.088949  \n",
       "73842  0.069565  \n",
       "73843  0.109352  \n",
       "73844  0.114455  \n",
       "73845  0.022500  \n",
       "\n",
       "[38600 rows x 9 columns]"
      ]
     },
     "execution_count": 50,
     "metadata": {},
     "output_type": "execute_result"
    }
   ],
   "source": [
    "net_merged = pd.read_csv(net_merged_inputpath, index_col = 0)\n",
    "net_merged"
   ]
  },
  {
   "cell_type": "code",
   "execution_count": 51,
   "id": "fedcb83e-b4fa-44e8-9c6a-187254504120",
   "metadata": {
    "execution": {
     "iopub.execute_input": "2025-05-21T16:43:12.832454Z",
     "iopub.status.busy": "2025-05-21T16:43:12.832039Z",
     "iopub.status.idle": "2025-05-21T16:43:20.497299Z",
     "shell.execute_reply": "2025-05-21T16:43:20.496787Z",
     "shell.execute_reply.started": "2025-05-21T16:43:12.832432Z"
    }
   },
   "outputs": [
    {
     "data": {
      "text/html": [
       "<div>\n",
       "<style scoped>\n",
       "    .dataframe tbody tr th:only-of-type {\n",
       "        vertical-align: middle;\n",
       "    }\n",
       "\n",
       "    .dataframe tbody tr th {\n",
       "        vertical-align: top;\n",
       "    }\n",
       "\n",
       "    .dataframe thead th {\n",
       "        text-align: right;\n",
       "    }\n",
       "</style>\n",
       "<table border=\"1\" class=\"dataframe\">\n",
       "  <thead>\n",
       "    <tr style=\"text-align: right;\">\n",
       "      <th></th>\n",
       "      <th>source_collectri</th>\n",
       "      <th>target</th>\n",
       "      <th>weight</th>\n",
       "      <th>PMID</th>\n",
       "      <th>index</th>\n",
       "      <th>source_net</th>\n",
       "      <th>Factor_celltype</th>\n",
       "      <th>Factor_function</th>\n",
       "      <th>value</th>\n",
       "    </tr>\n",
       "  </thead>\n",
       "  <tbody>\n",
       "    <tr>\n",
       "      <th>225</th>\n",
       "      <td>SP1</td>\n",
       "      <td>FOS</td>\n",
       "      <td>1</td>\n",
       "      <td>10082538;17626239;9528985</td>\n",
       "      <td>ENSG00000170345</td>\n",
       "      <td>SPECTRA_46</td>\n",
       "      <td>Mono</td>\n",
       "      <td>IFN_response</td>\n",
       "      <td>0.001059</td>\n",
       "    </tr>\n",
       "    <tr>\n",
       "      <th>334</th>\n",
       "      <td>SP1</td>\n",
       "      <td>RAC2</td>\n",
       "      <td>1</td>\n",
       "      <td>10098607</td>\n",
       "      <td>ENSG00000128340</td>\n",
       "      <td>SPECTRA_34</td>\n",
       "      <td>ILC</td>\n",
       "      <td>IFN_response</td>\n",
       "      <td>0.001280</td>\n",
       "    </tr>\n",
       "    <tr>\n",
       "      <th>1456</th>\n",
       "      <td>SP1</td>\n",
       "      <td>SPI1</td>\n",
       "      <td>1</td>\n",
       "      <td>10446912;12706891;22734486</td>\n",
       "      <td>ENSG00000066336</td>\n",
       "      <td>SPECTRA_46</td>\n",
       "      <td>Mono</td>\n",
       "      <td>IFN_response</td>\n",
       "      <td>0.000397</td>\n",
       "    </tr>\n",
       "    <tr>\n",
       "      <th>2281</th>\n",
       "      <td>SP1</td>\n",
       "      <td>OAS1</td>\n",
       "      <td>1</td>\n",
       "      <td>10567409</td>\n",
       "      <td>ENSG00000089127</td>\n",
       "      <td>SPECTRA_13</td>\n",
       "      <td>B</td>\n",
       "      <td>IFN_response</td>\n",
       "      <td>0.001815</td>\n",
       "    </tr>\n",
       "    <tr>\n",
       "      <th>2282</th>\n",
       "      <td>SP1</td>\n",
       "      <td>OAS1</td>\n",
       "      <td>1</td>\n",
       "      <td>10567409</td>\n",
       "      <td>ENSG00000089127</td>\n",
       "      <td>SPECTRA_24</td>\n",
       "      <td>DC</td>\n",
       "      <td>IFN_response</td>\n",
       "      <td>0.118557</td>\n",
       "    </tr>\n",
       "    <tr>\n",
       "      <th>...</th>\n",
       "      <td>...</td>\n",
       "      <td>...</td>\n",
       "      <td>...</td>\n",
       "      <td>...</td>\n",
       "      <td>...</td>\n",
       "      <td>...</td>\n",
       "      <td>...</td>\n",
       "      <td>...</td>\n",
       "      <td>...</td>\n",
       "    </tr>\n",
       "    <tr>\n",
       "      <th>58692</th>\n",
       "      <td>STAT1</td>\n",
       "      <td>MX1</td>\n",
       "      <td>1</td>\n",
       "      <td>9781817</td>\n",
       "      <td>ENSG00000157601</td>\n",
       "      <td>SPECTRA_71</td>\n",
       "      <td>T_CD4_Naive</td>\n",
       "      <td>IFN_response</td>\n",
       "      <td>0.061918</td>\n",
       "    </tr>\n",
       "    <tr>\n",
       "      <th>58693</th>\n",
       "      <td>STAT1</td>\n",
       "      <td>MX1</td>\n",
       "      <td>1</td>\n",
       "      <td>9781817</td>\n",
       "      <td>ENSG00000157601</td>\n",
       "      <td>SPECTRA_98</td>\n",
       "      <td>T_CD8_Naive</td>\n",
       "      <td>IFN_response</td>\n",
       "      <td>0.003288</td>\n",
       "    </tr>\n",
       "    <tr>\n",
       "      <th>58694</th>\n",
       "      <td>STAT1</td>\n",
       "      <td>MX1</td>\n",
       "      <td>1</td>\n",
       "      <td>9781817</td>\n",
       "      <td>ENSG00000157601</td>\n",
       "      <td>SPECTRA_110</td>\n",
       "      <td>T_CD8_NonNaive</td>\n",
       "      <td>IFN_response</td>\n",
       "      <td>0.000468</td>\n",
       "    </tr>\n",
       "    <tr>\n",
       "      <th>58695</th>\n",
       "      <td>STAT1</td>\n",
       "      <td>MX1</td>\n",
       "      <td>1</td>\n",
       "      <td>9781817</td>\n",
       "      <td>ENSG00000157601</td>\n",
       "      <td>SPECTRA_130</td>\n",
       "      <td>pDC</td>\n",
       "      <td>IFN_response</td>\n",
       "      <td>0.239647</td>\n",
       "    </tr>\n",
       "    <tr>\n",
       "      <th>70958</th>\n",
       "      <td>STAT1</td>\n",
       "      <td>LAP3</td>\n",
       "      <td>1</td>\n",
       "      <td>22951020</td>\n",
       "      <td>ENSG00000002549</td>\n",
       "      <td>SPECTRA_46</td>\n",
       "      <td>Mono</td>\n",
       "      <td>IFN_response</td>\n",
       "      <td>0.000424</td>\n",
       "    </tr>\n",
       "  </tbody>\n",
       "</table>\n",
       "<p>206 rows × 9 columns</p>\n",
       "</div>"
      ],
      "text/plain": [
       "      source_collectri target  weight                        PMID  \\\n",
       "225                SP1    FOS       1   10082538;17626239;9528985   \n",
       "334                SP1   RAC2       1                    10098607   \n",
       "1456               SP1   SPI1       1  10446912;12706891;22734486   \n",
       "2281               SP1   OAS1       1                    10567409   \n",
       "2282               SP1   OAS1       1                    10567409   \n",
       "...                ...    ...     ...                         ...   \n",
       "58692            STAT1    MX1       1                     9781817   \n",
       "58693            STAT1    MX1       1                     9781817   \n",
       "58694            STAT1    MX1       1                     9781817   \n",
       "58695            STAT1    MX1       1                     9781817   \n",
       "70958            STAT1   LAP3       1                    22951020   \n",
       "\n",
       "                 index   source_net Factor_celltype Factor_function     value  \n",
       "225    ENSG00000170345   SPECTRA_46            Mono    IFN_response  0.001059  \n",
       "334    ENSG00000128340   SPECTRA_34             ILC    IFN_response  0.001280  \n",
       "1456   ENSG00000066336   SPECTRA_46            Mono    IFN_response  0.000397  \n",
       "2281   ENSG00000089127   SPECTRA_13               B    IFN_response  0.001815  \n",
       "2282   ENSG00000089127   SPECTRA_24              DC    IFN_response  0.118557  \n",
       "...                ...          ...             ...             ...       ...  \n",
       "58692  ENSG00000157601   SPECTRA_71     T_CD4_Naive    IFN_response  0.061918  \n",
       "58693  ENSG00000157601   SPECTRA_98     T_CD8_Naive    IFN_response  0.003288  \n",
       "58694  ENSG00000157601  SPECTRA_110  T_CD8_NonNaive    IFN_response  0.000468  \n",
       "58695  ENSG00000157601  SPECTRA_130             pDC    IFN_response  0.239647  \n",
       "70958  ENSG00000002549   SPECTRA_46            Mono    IFN_response  0.000424  \n",
       "\n",
       "[206 rows x 9 columns]"
      ]
     },
     "execution_count": 51,
     "metadata": {},
     "output_type": "execute_result"
    }
   ],
   "source": [
    "collectri = dc.get_collectri(organism='human', split_complexes=False)\n",
    "net_merged = net_merged[\n",
    "    (net_merged['Factor_function'] == 'IFN_response') & \n",
    "    (net_merged['source_collectri'].isin(['STAT1', 'SP1']))]\n",
    "net_merged"
   ]
  },
  {
   "cell_type": "code",
   "execution_count": 9,
   "id": "a5ca2781-af2f-40f8-bbc7-b9926b343c72",
   "metadata": {
    "execution": {
     "iopub.execute_input": "2025-05-21T16:23:51.762653Z",
     "iopub.status.busy": "2025-05-21T16:23:51.762302Z",
     "iopub.status.idle": "2025-05-21T16:23:51.766166Z",
     "shell.execute_reply": "2025-05-21T16:23:51.765814Z",
     "shell.execute_reply.started": "2025-05-21T16:23:51.762631Z"
    }
   },
   "outputs": [
    {
     "data": {
      "text/plain": [
       "['Mono',\n",
       " 'ILC',\n",
       " 'B',\n",
       " 'DC',\n",
       " 'Plasma',\n",
       " 'T_CD4_Naive',\n",
       " 'T_CD8_Naive',\n",
       " 'T_CD8_NonNaive',\n",
       " 'pDC',\n",
       " 'T_CD4_NonNaive',\n",
       " 'UTC']"
      ]
     },
     "execution_count": 9,
     "metadata": {},
     "output_type": "execute_result"
    }
   ],
   "source": [
    "cells = list(net_merged['Factor_celltype'].unique())\n",
    "cells"
   ]
  },
  {
   "cell_type": "code",
   "execution_count": 65,
   "id": "71f36b5f-1a8c-422c-bc1e-f5d879637b90",
   "metadata": {
    "execution": {
     "iopub.execute_input": "2025-05-21T13:24:51.849243Z",
     "iopub.status.busy": "2025-05-21T13:24:51.848902Z",
     "iopub.status.idle": "2025-05-21T13:24:51.852935Z",
     "shell.execute_reply": "2025-05-21T13:24:51.852546Z",
     "shell.execute_reply.started": "2025-05-21T13:24:51.849218Z"
    }
   },
   "outputs": [
    {
     "data": {
      "text/plain": [
       "'/scratch_isilon/groups/singlecell/shared/projects/Inflammation-PBMCs-Atlas/03_downstream_analysis/07_gene_regulatory_network/results/test_revision_20250402/TFactivity_level2/results/'"
      ]
     },
     "execution_count": 65,
     "metadata": {},
     "output_type": "execute_result"
    }
   ],
   "source": [
    "output_folder"
   ]
  },
  {
   "cell_type": "code",
   "execution_count": 57,
   "id": "0baa83c7-33f4-49b0-b790-5a7d772f0c92",
   "metadata": {
    "execution": {
     "iopub.execute_input": "2025-05-21T16:45:32.147949Z",
     "iopub.status.busy": "2025-05-21T16:45:32.147397Z",
     "iopub.status.idle": "2025-05-21T16:46:43.574175Z",
     "shell.execute_reply": "2025-05-21T16:46:43.573533Z",
     "shell.execute_reply.started": "2025-05-21T16:45:32.147926Z"
    }
   },
   "outputs": [
    {
     "name": "stdout",
     "output_type": "stream",
     "text": [
      "---------- SLE ------------\n",
      "---------- Cirrhosis ------------\n",
      "---------- Flu ------------\n",
      "---------- HNSCC ------------\n"
     ]
    }
   ],
   "source": [
    "pdata_objs = {}\n",
    "for disease, adata in adatas_dict.items(): \n",
    "    print(f\"---------- {disease} ------------\")\n",
    "    # Arguments\n",
    "    level = 'Level2'\n",
    "    if (level == 'Level2'):\n",
    "        add_levels = ['Level1', 'Level2']\n",
    "    else:\n",
    "        add_levels = [level]\n",
    "    \n",
    "    # data Load\n",
    "    adata.var_names = adata.var['symbol'].astype(str)\n",
    "\n",
    "    \n",
    "    if disease in pdata_objs: \n",
    "        pdata = pdata_objs[disease]\n",
    "    else:\n",
    "        pdata = dc.get_pseudobulk(\n",
    "            adata,\n",
    "            sample_col = 'sampleID',\n",
    "            groups_col = level,\n",
    "            layer=None,\n",
    "            mode='mean',\n",
    "            min_cells=10,\n",
    "            min_counts=0\n",
    "        )\n",
    "        pdata_objs[disease] = pdata"
   ]
  },
  {
   "cell_type": "code",
   "execution_count": 38,
   "id": "6a99b42d-392e-40a2-83bb-bceb16832902",
   "metadata": {
    "execution": {
     "iopub.execute_input": "2025-05-21T16:40:51.431742Z",
     "iopub.status.busy": "2025-05-21T16:40:51.431312Z",
     "iopub.status.idle": "2025-05-21T16:40:51.443607Z",
     "shell.execute_reply": "2025-05-21T16:40:51.443066Z",
     "shell.execute_reply.started": "2025-05-21T16:40:51.431717Z"
    }
   },
   "outputs": [],
   "source": [
    "disease = \"cirrhosis\" \n",
    "pdata = pdata_objs[disease]\n",
    "cohort_name = None\n",
    "if issparse(pdata.X):\n",
    "     # Convert the sparse matrix to a dense format\n",
    "     pdata.X = pdata.X.toarray()\n",
    " # Subset data for the given cohort\n",
    "if cohort_name is not None: \n",
    "     pdata_cohort = pdata[pdata.obs['studyID'] == cohort_name].copy()\n",
    "else: \n",
    "     pdata_cohort = pdata.copy()\n",
    "\n",
    " # Get unique cell types\n",
    "cell_types = pdata_cohort.obs['Level1'].unique()\n",
    "\n",
    " # Create a list to store scaled data\n",
    "scaled_data_list = []\n",
    "\n",
    " # Iterate over each cell type\n",
    "for cell_type in cell_types:\n",
    "     # Subset data for healthy and SLE patients within the cell type\n",
    "     pdata_cohort_h = pdata_cohort[(pdata_cohort.obs['disease'] ==\n",
    "'healthy') & (pdata_cohort.obs['Level1'] == cell_type)]\n",
    "     pdata_cohort_r = pdata_cohort[(pdata_cohort.obs['disease'] ==\n",
    "disease) & (pdata_cohort.obs['Level1'] == cell_type)]\n",
    "\n",
    "     if pdata_cohort_h.shape[0] > 0 and pdata_cohort_r.shape[0] > 0:\n",
    "         # Scale SLE patients based on healthy controls\n",
    "         scaler = StandardScaler()\n",
    "         scaler.fit(pdata_cohort_h.X)\n",
    "         pdata_cohort_r_scaled = pdata_cohort_r.copy()\n",
    "         pdata_cohort_r_scaled.X = scaler.transform(pdata_cohort_r.X)\n",
    "\n",
    "         # Append scaled data to the list\n",
    "         scaled_data_list.append(pdata_cohort_r_scaled)\n",
    "\n",
    " # Concatenate scaled data for all cell types\n",
    "scaled_data = scaled_data_list[0].concatenate(scaled_data_list[1:]) if scaled_data_list else None\n"
   ]
  },
  {
   "cell_type": "code",
   "execution_count": 43,
   "id": "4becbb43-18bf-4212-abaf-855369905497",
   "metadata": {
    "execution": {
     "iopub.execute_input": "2025-05-21T16:41:16.611684Z",
     "iopub.status.busy": "2025-05-21T16:41:16.611137Z",
     "iopub.status.idle": "2025-05-21T16:41:16.615181Z",
     "shell.execute_reply": "2025-05-21T16:41:16.614809Z",
     "shell.execute_reply.started": "2025-05-21T16:41:16.611653Z"
    }
   },
   "outputs": [
    {
     "data": {
      "text/plain": [
       "array(['healthy', 'cirrhosis'], dtype=object)"
      ]
     },
     "execution_count": 43,
     "metadata": {},
     "output_type": "execute_result"
    }
   ],
   "source": [
    "pdata_cohort.obs.disease.unique()"
   ]
  },
  {
   "cell_type": "code",
   "execution_count": 30,
   "id": "55a98421-6e18-4ee4-b0ee-ce83d9779bf1",
   "metadata": {
    "execution": {
     "iopub.execute_input": "2025-05-21T16:34:26.209208Z",
     "iopub.status.busy": "2025-05-21T16:34:26.208869Z",
     "iopub.status.idle": "2025-05-21T16:34:26.212859Z",
     "shell.execute_reply": "2025-05-21T16:34:26.212362Z",
     "shell.execute_reply.started": "2025-05-21T16:34:26.209185Z"
    }
   },
   "outputs": [
    {
     "name": "stdout",
     "output_type": "stream",
     "text": [
      "(65, 51)\n",
      "['healthy']\n",
      "['Mono']\n",
      "(40, 51)\n",
      "['cirrhosis']\n",
      "['Mono']\n"
     ]
    }
   ],
   "source": [
    "for i in scaled_data_list: \n",
    "    print(i.shape)\n",
    "    print(i.obs.disease.unique())\n",
    "    print(i.obs.Level1.unique())"
   ]
  },
  {
   "cell_type": "code",
   "execution_count": 58,
   "id": "090187c2-8ec6-4e4e-88cb-6a2b04f4590f",
   "metadata": {
    "execution": {
     "iopub.execute_input": "2025-05-21T16:46:43.575490Z",
     "iopub.status.busy": "2025-05-21T16:46:43.575260Z",
     "iopub.status.idle": "2025-05-21T16:46:43.764669Z",
     "shell.execute_reply": "2025-05-21T16:46:43.764191Z",
     "shell.execute_reply.started": "2025-05-21T16:46:43.575470Z"
    }
   },
   "outputs": [
    {
     "name": "stdout",
     "output_type": "stream",
     "text": [
      "---------- SLE ------------\n",
      "['SLE' 'healthy']\n",
      "['SLE']\n",
      "---------- Cirrhosis ------------\n",
      "['healthy' 'Cirrhosis']\n",
      "['Cirrhosis']\n",
      "---------- Flu ------------\n",
      "['healthy' 'Flu']\n",
      "['Flu']\n",
      "---------- HNSCC ------------\n",
      "['healthy' 'HNSCC']\n",
      "['HNSCC']\n"
     ]
    },
    {
     "name": "stderr",
     "output_type": "stream",
     "text": [
      "/scratch_tmp/40828200/ipykernel_236219/3190224467.py:36: FutureWarning: Use anndata.concat instead of AnnData.concatenate, AnnData.concatenate is deprecated and will be removed in the future. See the tutorial for concat at: https://anndata.readthedocs.io/en/latest/concatenation.html\n",
      "  scaled_data = scaled_data_list[0].concatenate(scaled_data_list[1:]) if scaled_data_list else None\n",
      "/scratch_tmp/40828200/ipykernel_236219/3190224467.py:36: FutureWarning: Use anndata.concat instead of AnnData.concatenate, AnnData.concatenate is deprecated and will be removed in the future. See the tutorial for concat at: https://anndata.readthedocs.io/en/latest/concatenation.html\n",
      "  scaled_data = scaled_data_list[0].concatenate(scaled_data_list[1:]) if scaled_data_list else None\n",
      "/scratch_tmp/40828200/ipykernel_236219/3190224467.py:36: FutureWarning: Use anndata.concat instead of AnnData.concatenate, AnnData.concatenate is deprecated and will be removed in the future. See the tutorial for concat at: https://anndata.readthedocs.io/en/latest/concatenation.html\n",
      "  scaled_data = scaled_data_list[0].concatenate(scaled_data_list[1:]) if scaled_data_list else None\n",
      "/scratch_tmp/40828200/ipykernel_236219/3190224467.py:36: FutureWarning: Use anndata.concat instead of AnnData.concatenate, AnnData.concatenate is deprecated and will be removed in the future. See the tutorial for concat at: https://anndata.readthedocs.io/en/latest/concatenation.html\n",
      "  scaled_data = scaled_data_list[0].concatenate(scaled_data_list[1:]) if scaled_data_list else None\n"
     ]
    }
   ],
   "source": [
    "for disease, pdata in pdata_objs.items(): \n",
    "    print(f\"---------- {disease} ------------\")\n",
    "    print(pdata.obs.disease.unique())\n",
    "    pdata_scaled = scale_by_cell_type(pdata, disease=disease)\n",
    "    print(pdata_scaled.obs.disease.unique())"
   ]
  },
  {
   "cell_type": "code",
   "execution_count": 60,
   "id": "d9398b6e-880c-412f-8951-6ca4f97dbf93",
   "metadata": {
    "execution": {
     "iopub.execute_input": "2025-05-21T16:47:26.512945Z",
     "iopub.status.busy": "2025-05-21T16:47:26.512605Z",
     "iopub.status.idle": "2025-05-21T16:47:28.715878Z",
     "shell.execute_reply": "2025-05-21T16:47:28.715409Z",
     "shell.execute_reply.started": "2025-05-21T16:47:26.512924Z"
    }
   },
   "outputs": [
    {
     "name": "stdout",
     "output_type": "stream",
     "text": [
      "---------- SLE ------------\n",
      "Running: B\n",
      "Error for B\n",
      "Running: DC\n"
     ]
    },
    {
     "name": "stderr",
     "output_type": "stream",
     "text": [
      "/scratch_tmp/40828200/ipykernel_236219/3190224467.py:36: FutureWarning: Use anndata.concat instead of AnnData.concatenate, AnnData.concatenate is deprecated and will be removed in the future. See the tutorial for concat at: https://anndata.readthedocs.io/en/latest/concatenation.html\n",
      "  scaled_data = scaled_data_list[0].concatenate(scaled_data_list[1:]) if scaled_data_list else None\n"
     ]
    },
    {
     "name": "stdout",
     "output_type": "stream",
     "text": [
      "Running: UTC\n",
      "Error for UTC\n",
      "Running: Mono\n",
      "Running: ILC\n",
      "Running: Cycling_cells\n",
      "Error for Cycling_cells\n",
      "Running: Plasma\n",
      "Running: Platelets\n",
      "Error for Platelets\n",
      "Running: T_CD4_NonNaive\n",
      "Error for T_CD4_NonNaive\n",
      "Running: T_CD4_Naive\n",
      "Running: T_CD8_NonNaive\n",
      "Running: T_CD8_Naive\n",
      "Running: pDC\n"
     ]
    },
    {
     "name": "stderr",
     "output_type": "stream",
     "text": [
      "/scratch_tmp/40828200/ipykernel_236219/2950301726.py:67: FutureWarning: The behavior of DataFrame concatenation with empty or all-NA entries is deprecated. In a future version, this will no longer exclude empty or all-NA columns when determining the result dtypes. To retain the old behavior, exclude the relevant entries before the concat operation.\n",
      "  results_df = pd.concat(res).reset_index().set_index(level)\n"
     ]
    },
    {
     "name": "stdout",
     "output_type": "stream",
     "text": [
      "---------- Cirrhosis ------------\n",
      "Running: Mono\n"
     ]
    },
    {
     "name": "stderr",
     "output_type": "stream",
     "text": [
      "/scratch_tmp/40828200/ipykernel_236219/3190224467.py:36: FutureWarning: Use anndata.concat instead of AnnData.concatenate, AnnData.concatenate is deprecated and will be removed in the future. See the tutorial for concat at: https://anndata.readthedocs.io/en/latest/concatenation.html\n",
      "  scaled_data = scaled_data_list[0].concatenate(scaled_data_list[1:]) if scaled_data_list else None\n"
     ]
    },
    {
     "name": "stdout",
     "output_type": "stream",
     "text": [
      "---------- Flu ------------\n",
      "Running: B\n",
      "Error for B\n",
      "Running: DC\n",
      "Running: UTC\n",
      "Error for UTC\n",
      "Running: Mono\n",
      "Running: ILC\n",
      "Running: Cycling_cells\n",
      "Error for Cycling_cells\n",
      "Running: Plasma\n",
      "Running: Platelets\n",
      "Error for Platelets\n",
      "Running: T_CD4_NonNaive\n",
      "Error for T_CD4_NonNaive\n",
      "Running: T_CD4_Naive\n",
      "Running: T_CD8_NonNaive\n",
      "Running: T_CD8_Naive\n",
      "Running: pDC\n"
     ]
    },
    {
     "name": "stderr",
     "output_type": "stream",
     "text": [
      "/scratch_tmp/40828200/ipykernel_236219/3190224467.py:36: FutureWarning: Use anndata.concat instead of AnnData.concatenate, AnnData.concatenate is deprecated and will be removed in the future. See the tutorial for concat at: https://anndata.readthedocs.io/en/latest/concatenation.html\n",
      "  scaled_data = scaled_data_list[0].concatenate(scaled_data_list[1:]) if scaled_data_list else None\n",
      "/scratch_tmp/40828200/ipykernel_236219/2950301726.py:67: FutureWarning: The behavior of DataFrame concatenation with empty or all-NA entries is deprecated. In a future version, this will no longer exclude empty or all-NA columns when determining the result dtypes. To retain the old behavior, exclude the relevant entries before the concat operation.\n",
      "  results_df = pd.concat(res).reset_index().set_index(level)\n"
     ]
    },
    {
     "name": "stdout",
     "output_type": "stream",
     "text": [
      "---------- HNSCC ------------\n",
      "Running: Mono\n"
     ]
    },
    {
     "name": "stderr",
     "output_type": "stream",
     "text": [
      "/scratch_tmp/40828200/ipykernel_236219/3190224467.py:36: FutureWarning: Use anndata.concat instead of AnnData.concatenate, AnnData.concatenate is deprecated and will be removed in the future. See the tutorial for concat at: https://anndata.readthedocs.io/en/latest/concatenation.html\n",
      "  scaled_data = scaled_data_list[0].concatenate(scaled_data_list[1:]) if scaled_data_list else None\n"
     ]
    }
   ],
   "source": [
    "for disease, adata in adatas_dict.items(): \n",
    "    print(f\"---------- {disease} ------------\")\n",
    "    # Arguments\n",
    "    level = 'Level2'\n",
    "    if (level == 'Level2'):\n",
    "        add_levels = ['Level1', 'Level2']\n",
    "    else:\n",
    "        add_levels = [level]\n",
    "    \n",
    "    # data Load\n",
    "    adata.var_names = adata.var['symbol'].astype(str)\n",
    "\n",
    "    \n",
    "    if disease in pdata_objs.keys():\n",
    "        pdata = pdata_objs[disease]\n",
    "    else:\n",
    "        pdata = dc.get_pseudobulk(\n",
    "            adata,\n",
    "            sample_col = 'sampleID',\n",
    "            groups_col = level,\n",
    "            layer=None,\n",
    "            mode='mean',\n",
    "            min_cells=10,\n",
    "            min_counts=0\n",
    "        )\n",
    "        pdata_objs[disease] = pdata\n",
    "    \n",
    "    # Scale by cell\n",
    "    # Apply the function to each cohort\n",
    "    pdata_scaled = scale_by_cell_type(pdata,disease=disease)\n",
    "    \n",
    "    res = {}\n",
    "    cells = pdata_scaled.obs['Level1'].unique()\n",
    "    for cell in cells:\n",
    "    \n",
    "        print(f\"Running: {cell}\")\n",
    "        try:\n",
    "            # Subet network by cell type\n",
    "            net = net_merged[net_merged['Factor_celltype'] == cell]\n",
    "            \n",
    "            # Subset psbulk by cell type\n",
    "            pdata_r_ct = pdata_scaled[pdata_scaled.obs['Level1'] == cell].copy()\n",
    "    \n",
    "            # Run ulm and store results\n",
    "            dc.run_ulm(\n",
    "                pdata_r_ct,\n",
    "                net,\n",
    "                source='source_collectri',\n",
    "                target='target',\n",
    "                weight='weight',\n",
    "                use_raw=False,\n",
    "                min_n=10\n",
    "            )\n",
    "            acts = dc.get_acts(pdata_r_ct, obsm_key='ulm_estimate')\n",
    "            tfs = list(acts.var_names)\n",
    "            diff = list(set(['STAT1', 'SP1']) - set(tfs))\n",
    "            df = sc.get.obs_df(acts, tfs + add_levels + ['studyID', 'sex', 'sampleID', 'disease', 'binned_age'])\n",
    "            if len(diff) > 0:\n",
    "                df[diff] = np.nan    \n",
    "            \n",
    "            res[cell] = df[add_levels + ['STAT1', 'SP1', 'studyID', 'sex', 'sampleID', 'disease', 'binned_age']]\n",
    "        \n",
    "        except Exception as e:\n",
    "            print(f\"Error for {cell}\")\n",
    "    \n",
    "    \n",
    "    results_df = pd.concat(res).reset_index().set_index(level)\n",
    "    results_df.to_csv(output_folder + f'/STAT1_SP1_{level}_{disease}.csv')"
   ]
  }
 ],
 "metadata": {
  "kernelspec": {
   "display_name": "Python 3 (ipykernel)",
   "language": "python",
   "name": "python3"
  },
  "language_info": {
   "codemirror_mode": {
    "name": "ipython",
    "version": 3
   },
   "file_extension": ".py",
   "mimetype": "text/x-python",
   "name": "python",
   "nbconvert_exporter": "python",
   "pygments_lexer": "ipython3",
   "version": "3.11.5"
  }
 },
 "nbformat": 4,
 "nbformat_minor": 5
}
