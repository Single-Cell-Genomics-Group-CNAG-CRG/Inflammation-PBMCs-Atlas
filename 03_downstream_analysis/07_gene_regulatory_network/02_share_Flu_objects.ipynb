{
 "cells": [
  {
   "cell_type": "code",
   "execution_count": 1,
   "id": "5772d419-1040-4bcd-a72f-fbd7c5a42e06",
   "metadata": {
    "execution": {
     "iopub.execute_input": "2025-05-15T14:07:56.296103Z",
     "iopub.status.busy": "2025-05-15T14:07:56.295786Z",
     "iopub.status.idle": "2025-05-15T14:08:01.379017Z",
     "shell.execute_reply": "2025-05-15T14:08:01.378532Z",
     "shell.execute_reply.started": "2025-05-15T14:07:56.296080Z"
    }
   },
   "outputs": [],
   "source": [
    "import pandas as pd\n",
    "import numpy as np\n",
    "import seaborn as sns\n",
    "import matplotlib.pyplot as plt\n",
    "import pickle\n",
    "import os\n",
    "import sys\n",
    "import scanpy as sc\n",
    "from pyprojroot import here\n",
    "import session_info\n",
    "import anndata as ad\n",
    "\n",
    "# import Spectra as spc\n",
    "\n",
    "# from Spectra import K_est as kst\n",
    "\n",
    "sys.path.insert(1, str(here('bin')))\n",
    "from customPalette import diseases_palette\n",
    "from customPalette import diseaseCategories\n",
    "\n",
    "\n",
    "import warnings\n",
    "warnings.filterwarnings('ignore')"
   ]
  },
  {
   "cell_type": "code",
   "execution_count": 2,
   "id": "dcee5800-1445-46a1-8d1a-f9d48e427845",
   "metadata": {
    "execution": {
     "iopub.execute_input": "2025-05-15T14:08:01.380168Z",
     "iopub.status.busy": "2025-05-15T14:08:01.379839Z",
     "iopub.status.idle": "2025-05-15T14:08:01.383382Z",
     "shell.execute_reply": "2025-05-15T14:08:01.383005Z",
     "shell.execute_reply.started": "2025-05-15T14:08:01.380151Z"
    }
   },
   "outputs": [],
   "source": [
    "project_dir = here('03_downstream_analysis/07_gene_regulatory_network/')"
   ]
  },
  {
   "cell_type": "markdown",
   "id": "6cc9eb17-2bc8-4206-bb3c-014537de5816",
   "metadata": {},
   "source": [
    "# Load object"
   ]
  },
  {
   "cell_type": "markdown",
   "id": "3e7032a0-974d-4f3b-ae6f-05a4052adfa2",
   "metadata": {},
   "source": [
    "**adata**"
   ]
  },
  {
   "cell_type": "code",
   "execution_count": 3,
   "id": "036e89d3-aea2-4ffd-9db1-fe106197e349",
   "metadata": {
    "execution": {
     "iopub.execute_input": "2025-05-15T14:08:01.384025Z",
     "iopub.status.busy": "2025-05-15T14:08:01.383874Z",
     "iopub.status.idle": "2025-05-15T14:09:14.217831Z",
     "shell.execute_reply": "2025-05-15T14:09:14.217354Z",
     "shell.execute_reply.started": "2025-05-15T14:08:01.384008Z"
    }
   },
   "outputs": [],
   "source": [
    "input_file_path = \"/scratch_isilon/groups/singlecell/shared/projects/Inflammation-PBMCs-Atlas/03_downstream_analysis/02_gene_universe_definition/results/04_MAIN_geneUniverse.log1p.h5ad\"\n",
    "adata = sc.read_h5ad(input_file_path)"
   ]
  },
  {
   "cell_type": "code",
   "execution_count": 4,
   "id": "42836236-666b-47c7-a3b3-b2f5c0f7558f",
   "metadata": {
    "execution": {
     "iopub.execute_input": "2025-05-15T14:09:14.219031Z",
     "iopub.status.busy": "2025-05-15T14:09:14.218864Z",
     "iopub.status.idle": "2025-05-15T14:09:14.224259Z",
     "shell.execute_reply": "2025-05-15T14:09:14.223861Z",
     "shell.execute_reply.started": "2025-05-15T14:09:14.219013Z"
    }
   },
   "outputs": [
    {
     "data": {
      "text/plain": [
       "AnnData object with n_obs × n_vars = 4435922 × 8253\n",
       "    obs: 'studyID', 'libraryID', 'sampleID', 'chemistry', 'disease', 'sex', 'binned_age', 'Level1', 'Level2'\n",
       "    var: 'hgnc_id', 'symbol', 'locus_group', 'HUGO_status', 'highly_variable'\n",
       "    uns: 'log1p'"
      ]
     },
     "execution_count": 4,
     "metadata": {},
     "output_type": "execute_result"
    }
   ],
   "source": [
    "adata"
   ]
  },
  {
   "cell_type": "code",
   "execution_count": 5,
   "id": "6fec10d5-c498-4623-960e-1369f5d7f6a3",
   "metadata": {
    "execution": {
     "iopub.execute_input": "2025-05-15T14:09:14.224952Z",
     "iopub.status.busy": "2025-05-15T14:09:14.224792Z",
     "iopub.status.idle": "2025-05-15T14:09:14.238315Z",
     "shell.execute_reply": "2025-05-15T14:09:14.237942Z",
     "shell.execute_reply.started": "2025-05-15T14:09:14.224933Z"
    }
   },
   "outputs": [
    {
     "data": {
      "text/plain": [
       "{'log1p': {}}"
      ]
     },
     "execution_count": 5,
     "metadata": {},
     "output_type": "execute_result"
    }
   ],
   "source": [
    "adata.uns"
   ]
  },
  {
   "cell_type": "markdown",
   "id": "f7c0cde0-9717-4302-90a7-2b23a4bce551",
   "metadata": {},
   "source": [
    "# Subset adata"
   ]
  },
  {
   "cell_type": "code",
   "execution_count": 6,
   "id": "e70e59fb-61dd-4bab-bc7f-c8467958c568",
   "metadata": {
    "execution": {
     "iopub.execute_input": "2025-05-15T14:09:14.238982Z",
     "iopub.status.busy": "2025-05-15T14:09:14.238826Z",
     "iopub.status.idle": "2025-05-15T14:09:14.309201Z",
     "shell.execute_reply": "2025-05-15T14:09:14.308774Z",
     "shell.execute_reply.started": "2025-05-15T14:09:14.238964Z"
    }
   },
   "outputs": [
    {
     "data": {
      "text/plain": [
       "View of AnnData object with n_obs × n_vars = 106739 × 8253\n",
       "    obs: 'studyID', 'libraryID', 'sampleID', 'chemistry', 'disease', 'sex', 'binned_age', 'Level1', 'Level2'\n",
       "    var: 'hgnc_id', 'symbol', 'locus_group', 'HUGO_status', 'highly_variable'\n",
       "    uns: 'log1p'"
      ]
     },
     "execution_count": 6,
     "metadata": {},
     "output_type": "execute_result"
    }
   ],
   "source": [
    "# Subset cells based on studyID and disease\n",
    "studyIDs_of_interest = ['COMBAT2022']\n",
    "diseases_of_interest = ['healthy', 'flu']\n",
    "\n",
    "adata_subset = adata[\n",
    "    adata.obs['studyID'].isin(studyIDs_of_interest) &\n",
    "    adata.obs['disease'].isin(diseases_of_interest)\n",
    "]\n",
    "adata_subset"
   ]
  },
  {
   "cell_type": "markdown",
   "id": "4dcd6740-dec3-4455-aad8-4954343428b5",
   "metadata": {},
   "source": [
    "**Genes: SP1 and STAT1 targets**"
   ]
  },
  {
   "cell_type": "code",
   "execution_count": 7,
   "id": "52656e83-629e-4b24-9616-85cfddd76e2e",
   "metadata": {
    "execution": {
     "iopub.execute_input": "2025-05-15T14:10:18.855975Z",
     "iopub.status.busy": "2025-05-15T14:10:18.855486Z",
     "iopub.status.idle": "2025-05-15T14:10:18.860255Z",
     "shell.execute_reply": "2025-05-15T14:10:18.859898Z",
     "shell.execute_reply.started": "2025-05-15T14:10:18.855955Z"
    }
   },
   "outputs": [
    {
     "data": {
      "text/plain": [
       "51"
      ]
     },
     "execution_count": 7,
     "metadata": {},
     "output_type": "execute_result"
    }
   ],
   "source": [
    "genes_of_interest = [\n",
    "    \"OAS1\", \"IFITM3\", \"S100A10\", \"FTH1\", \"ADGRG1\", \"S100A6\", \"GAPDH\",\n",
    "    \"MX2\", \"ACTB\", \"ISG20\", \"MT2A\", \"IFI27\", \"IFIT2\", \"IFIT3\", \"PRF1\",\n",
    "    \"ADAR\", \"IFI6\", \"IFIT1\", \"IFITM1\", \"ISG15\", \"MX1\", \"RAC2\", \"LGALS1\",\n",
    "    \"PSMB9\", \"FOS\", \"SPI1\", \"VIM\", \"S100A8\", \"TKT\", \"TIMP1\", \"GSTP1\",\n",
    "    \"ITGAX\", \"SERPINA1\", \"FGL2\", \"LYZ\", \"TSPO\", \"SLC11A1\", \"TNFSF13\",\n",
    "    \"STXBP2\", \"LGALS3\", \"PSAP\", \"FBP1\", \"TYMP\", \"COX4I1\", \"CD86\",\n",
    "    \"UPP1\", \"LY96\", \"LAP3\", \"CALM1\", \"SRSF7\", \"FUS\"\n",
    "]\n",
    "len(genes_of_interest)"
   ]
  },
  {
   "cell_type": "code",
   "execution_count": 8,
   "id": "fc88ec8a-f818-4f13-b0ac-b2aed2869e93",
   "metadata": {
    "execution": {
     "iopub.execute_input": "2025-05-15T14:10:21.932233Z",
     "iopub.status.busy": "2025-05-15T14:10:21.931988Z",
     "iopub.status.idle": "2025-05-15T14:10:21.965859Z",
     "shell.execute_reply": "2025-05-15T14:10:21.965420Z",
     "shell.execute_reply.started": "2025-05-15T14:10:21.932213Z"
    }
   },
   "outputs": [
    {
     "data": {
      "text/plain": [
       "View of AnnData object with n_obs × n_vars = 106739 × 51\n",
       "    obs: 'studyID', 'libraryID', 'sampleID', 'chemistry', 'disease', 'sex', 'binned_age', 'Level1', 'Level2'\n",
       "    var: 'hgnc_id', 'symbol', 'locus_group', 'HUGO_status', 'highly_variable'\n",
       "    uns: 'log1p'"
      ]
     },
     "execution_count": 8,
     "metadata": {},
     "output_type": "execute_result"
    }
   ],
   "source": [
    "adata_subset = adata_subset[:, adata_subset.var.symbol.isin(genes_of_interest)]\n",
    "adata_subset"
   ]
  },
  {
   "cell_type": "markdown",
   "id": "d0e46925-8441-422d-bd57-96c985f0a84c",
   "metadata": {},
   "source": [
    "# Save processed adata"
   ]
  },
  {
   "cell_type": "code",
   "execution_count": 9,
   "id": "e86c42f2-5931-4d44-b226-25528a4edbfb",
   "metadata": {
    "execution": {
     "iopub.execute_input": "2025-05-15T14:10:57.999569Z",
     "iopub.status.busy": "2025-05-15T14:10:57.999103Z",
     "iopub.status.idle": "2025-05-15T14:10:58.002658Z",
     "shell.execute_reply": "2025-05-15T14:10:58.002258Z",
     "shell.execute_reply.started": "2025-05-15T14:10:57.999549Z"
    }
   },
   "outputs": [
    {
     "data": {
      "text/plain": [
       "View of AnnData object with n_obs × n_vars = 106739 × 51\n",
       "    obs: 'studyID', 'libraryID', 'sampleID', 'chemistry', 'disease', 'sex', 'binned_age', 'Level1', 'Level2'\n",
       "    var: 'hgnc_id', 'symbol', 'locus_group', 'HUGO_status', 'highly_variable'\n",
       "    uns: 'log1p'"
      ]
     },
     "execution_count": 9,
     "metadata": {},
     "output_type": "execute_result"
    }
   ],
   "source": [
    "adata_subset"
   ]
  },
  {
   "cell_type": "code",
   "execution_count": 10,
   "id": "88c190e7-afa1-4180-8449-fddd39151b7e",
   "metadata": {
    "execution": {
     "iopub.execute_input": "2025-05-15T14:11:02.222281Z",
     "iopub.status.busy": "2025-05-15T14:11:02.221952Z",
     "iopub.status.idle": "2025-05-15T14:11:03.372641Z",
     "shell.execute_reply": "2025-05-15T14:11:03.372153Z",
     "shell.execute_reply.started": "2025-05-15T14:11:02.222262Z"
    }
   },
   "outputs": [],
   "source": [
    "adata_subset.write(here(\"03_downstream_analysis/07_gene_regulatory_network/results/04_MAIN_geneUniverse.log1p_Flusubset.h5ad\"), compression=\"gzip\")"
   ]
  },
  {
   "cell_type": "code",
   "execution_count": 11,
   "id": "c0ac33f3-60e5-4820-8c71-c8816ee83683",
   "metadata": {
    "execution": {
     "iopub.execute_input": "2025-05-15T14:11:03.812910Z",
     "iopub.status.busy": "2025-05-15T14:11:03.812580Z",
     "iopub.status.idle": "2025-05-15T14:11:03.817256Z",
     "shell.execute_reply": "2025-05-15T14:11:03.816850Z",
     "shell.execute_reply.started": "2025-05-15T14:11:03.812886Z"
    }
   },
   "outputs": [
    {
     "data": {
      "text/plain": [
       "PosixPath('/scratch_isilon/groups/singlecell/shared/projects/Inflammation-PBMCs-Atlas/03_downstream_analysis/07_gene_regulatory_network/results/04_MAIN_geneUniverse.log1p_Flusubset.h5ad')"
      ]
     },
     "execution_count": 11,
     "metadata": {},
     "output_type": "execute_result"
    }
   ],
   "source": [
    "here(\"03_downstream_analysis/07_gene_regulatory_network/results/04_MAIN_geneUniverse.log1p_Flusubset.h5ad\")"
   ]
  },
  {
   "cell_type": "code",
   "execution_count": null,
   "id": "9311d312-77ab-474a-a438-5f0f16400fd5",
   "metadata": {},
   "outputs": [],
   "source": []
  }
 ],
 "metadata": {
  "kernelspec": {
   "display_name": "Python 3 (ipykernel)",
   "language": "python",
   "name": "python3"
  },
  "language_info": {
   "codemirror_mode": {
    "name": "ipython",
    "version": 3
   },
   "file_extension": ".py",
   "mimetype": "text/x-python",
   "name": "python",
   "nbconvert_exporter": "python",
   "pygments_lexer": "ipython3",
   "version": "3.10.13"
  }
 },
 "nbformat": 4,
 "nbformat_minor": 5
}
