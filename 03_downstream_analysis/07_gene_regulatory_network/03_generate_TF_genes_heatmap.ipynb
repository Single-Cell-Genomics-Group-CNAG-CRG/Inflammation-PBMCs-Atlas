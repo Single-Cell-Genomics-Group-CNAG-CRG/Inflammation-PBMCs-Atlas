{
 "cells": [
  {
   "cell_type": "code",
   "execution_count": 1,
   "id": "c0b40eac-2776-4139-9057-0d92833d7d48",
   "metadata": {
    "execution": {
     "iopub.execute_input": "2024-07-05T12:38:57.343142Z",
     "iopub.status.busy": "2024-07-05T12:38:57.340471Z",
     "iopub.status.idle": "2024-07-05T12:38:57.742433Z",
     "shell.execute_reply": "2024-07-05T12:38:57.741119Z"
    }
   },
   "outputs": [],
   "source": [
    "suppressPackageStartupMessages(require(dplyr))\n",
    "suppressPackageStartupMessages(require(data.table))\n",
    "suppressPackageStartupMessages(require(RColorBrewer))\n",
    "suppressPackageStartupMessages(require(ggplot2))\n",
    "#suppressPackageStartupMessages(require(colorRamp2))"
   ]
  },
  {
   "cell_type": "markdown",
   "id": "467b0567-c09c-4fa7-89a9-918f31a79157",
   "metadata": {},
   "source": [
    "**Parameters**"
   ]
  },
  {
   "cell_type": "code",
   "execution_count": 2,
   "id": "f9b9a90d-d9d0-42f5-9e38-8a35af5b9e08",
   "metadata": {
    "execution": {
     "iopub.execute_input": "2024-07-05T12:38:57.771988Z",
     "iopub.status.busy": "2024-07-05T12:38:57.744161Z",
     "iopub.status.idle": "2024-07-05T12:38:57.785035Z",
     "shell.execute_reply": "2024-07-05T12:38:57.783724Z"
    }
   },
   "outputs": [],
   "source": [
    "# Inputs\n",
    "lmm <- \"_lmm\" #lmm <- \"\" #if \"data/toplot_tfs.rds\"\n",
    "inputpath <- paste0(\"data/toplot_tfs\",lmm,\".rds\")\n",
    "color_palette_path <- \"data/colors_palette.R\"\n",
    "\n",
    "# Outputs\n",
    "outputpath <- \"results/\"\n",
    "\n",
    "# Arguments\n",
    "spectra_of_interest <- c(\"SPECTRA_110\", \"SPECTRA_13\", \"SPECTRA_130\", \"SPECTRA_24\",\n",
    "                         \"SPECTRA_34\", \"SPECTRA_46\", \"SPECTRA_56\", \"SPECTRA_71\",\n",
    "                         \"SPECTRA_86\", \"SPECTRA_98\")"
   ]
  },
  {
   "cell_type": "markdown",
   "id": "8839083b-f817-4f0b-b675-19fee535ddc3",
   "metadata": {},
   "source": [
    "# Load data"
   ]
  },
  {
   "cell_type": "code",
   "execution_count": 3,
   "id": "6b098061-d4b9-4931-87ed-00ad587f29e2",
   "metadata": {
    "execution": {
     "iopub.execute_input": "2024-07-05T12:38:57.787691Z",
     "iopub.status.busy": "2024-07-05T12:38:57.786750Z",
     "iopub.status.idle": "2024-07-05T12:38:57.802686Z",
     "shell.execute_reply": "2024-07-05T12:38:57.801435Z"
    }
   },
   "outputs": [],
   "source": [
    "# Load data\n",
    "toplot <- readRDS(inputpath)\n",
    "source(color_palette_path)"
   ]
  },
  {
   "cell_type": "markdown",
   "id": "0c05e772-3bde-429c-a4c1-6165107cbf82",
   "metadata": {},
   "source": [
    "# Process to heatmap"
   ]
  },
  {
   "cell_type": "markdown",
   "id": "d9a14c53-6153-4565-ae73-b710abc9d37d",
   "metadata": {
    "execution": {
     "iopub.execute_input": "2024-06-25T09:31:42.458886Z",
     "iopub.status.busy": "2024-06-25T09:31:42.457559Z",
     "iopub.status.idle": "2024-06-25T09:31:42.467306Z",
     "shell.execute_reply": "2024-06-25T09:31:42.466079Z"
    }
   },
   "source": [
    "**Data**"
   ]
  },
  {
   "cell_type": "code",
   "execution_count": 4,
   "id": "d330bacf-3fcd-456a-8b24-0f81644697ee",
   "metadata": {
    "execution": {
     "iopub.execute_input": "2024-07-05T12:38:57.805349Z",
     "iopub.status.busy": "2024-07-05T12:38:57.804408Z",
     "iopub.status.idle": "2024-07-05T12:38:57.936910Z",
     "shell.execute_reply": "2024-07-05T12:38:57.935505Z"
    }
   },
   "outputs": [
    {
     "data": {
      "text/html": [
       "<table class=\"dataframe\">\n",
       "<caption>A data.frame: 6 × 69</caption>\n",
       "<thead>\n",
       "\t<tr><th></th><th scope=col>SPECTRA_110:STAT1:flu:T_CD8_NonNaive</th><th scope=col>SPECTRA_110:SP1:flu:T_CD8_NonNaive</th><th scope=col>SPECTRA_110:STAT1:SLE:T_CD8_NonNaive</th><th scope=col>SPECTRA_110:SP1:SLE:T_CD8_NonNaive</th><th scope=col>SPECTRA_110:STAT1:COVID:T_CD8_NonNaive</th><th scope=col>SPECTRA_110:STAT1:sepsis:T_CD8_NonNaive</th><th scope=col>SPECTRA_110:SP1:sepsis:T_CD8_NonNaive</th><th scope=col>SPECTRA_110:SP1:HNSCC:T_CD8_NonNaive</th><th scope=col>SPECTRA_110:SP1:COPD:T_CD8_NonNaive</th><th scope=col>SPECTRA_110:STAT1:COPD:T_CD8_NonNaive</th><th scope=col>⋯</th><th scope=col>SPECTRA_56:STAT1:BRCA:Plasma</th><th scope=col>SPECTRA_71:SP1:flu:T_CD4_Naive</th><th scope=col>SPECTRA_71:SP1:SLE:T_CD4_Naive</th><th scope=col>SPECTRA_71:SP1:COPD:T_CD4_Naive</th><th scope=col>SPECTRA_71:SP1:HNSCC:T_CD4_Naive</th><th scope=col>SPECTRA_71:SP1:UC:T_CD4_Naive</th><th scope=col>SPECTRA_98:STAT1:flu:T_CD8_Naive</th><th scope=col>SPECTRA_98:STAT1:SLE:T_CD8_Naive</th><th scope=col>SPECTRA_98:STAT1:sepsis:T_CD8_Naive</th><th scope=col>SPECTRA_98:STAT1:COVID:T_CD8_Naive</th></tr>\n",
       "\t<tr><th></th><th scope=col>&lt;dbl&gt;</th><th scope=col>&lt;dbl&gt;</th><th scope=col>&lt;dbl&gt;</th><th scope=col>&lt;dbl&gt;</th><th scope=col>&lt;dbl&gt;</th><th scope=col>&lt;dbl&gt;</th><th scope=col>&lt;dbl&gt;</th><th scope=col>&lt;dbl&gt;</th><th scope=col>&lt;dbl&gt;</th><th scope=col>&lt;dbl&gt;</th><th scope=col>⋯</th><th scope=col>&lt;dbl&gt;</th><th scope=col>&lt;dbl&gt;</th><th scope=col>&lt;dbl&gt;</th><th scope=col>&lt;dbl&gt;</th><th scope=col>&lt;dbl&gt;</th><th scope=col>&lt;dbl&gt;</th><th scope=col>&lt;dbl&gt;</th><th scope=col>&lt;dbl&gt;</th><th scope=col>&lt;dbl&gt;</th><th scope=col>&lt;dbl&gt;</th></tr>\n",
       "</thead>\n",
       "<tbody>\n",
       "\t<tr><th scope=row>OAS1</th><td>8.870</td><td>8.87</td><td>11.342</td><td>11.342</td><td> 3.791</td><td>3.259</td><td>3.259</td><td>0.004</td><td>-0.853</td><td>-0.853</td><td>⋯</td><td>0.961</td><td>8.597</td><td>11.318</td><td>-1.731</td><td>0.883</td><td>0.268</td><td>8.369</td><td>10.775</td><td> 2.399</td><td>3.776</td></tr>\n",
       "\t<tr><th scope=row>IFIT3</th><td>4.980</td><td>  NA</td><td> 1.294</td><td>    NA</td><td> 2.276</td><td>0.645</td><td>   NA</td><td>   NA</td><td>    NA</td><td>-0.046</td><td>⋯</td><td>0.695</td><td>   NA</td><td>    NA</td><td>    NA</td><td>   NA</td><td>   NA</td><td>8.774</td><td> 8.495</td><td> 3.073</td><td>3.843</td></tr>\n",
       "\t<tr><th scope=row>IFIT2</th><td>1.385</td><td>  NA</td><td>-0.014</td><td>    NA</td><td> 1.164</td><td>0.163</td><td>   NA</td><td>   NA</td><td>    NA</td><td> 0.014</td><td>⋯</td><td>   NA</td><td>   NA</td><td>    NA</td><td>    NA</td><td>   NA</td><td>   NA</td><td>6.371</td><td> 6.559</td><td> 0.210</td><td>3.232</td></tr>\n",
       "\t<tr><th scope=row>IFI6</th><td>9.309</td><td>  NA</td><td>13.140</td><td>    NA</td><td> 5.071</td><td>3.046</td><td>   NA</td><td>   NA</td><td>    NA</td><td>-0.475</td><td>⋯</td><td>0.940</td><td>   NA</td><td>    NA</td><td>    NA</td><td>   NA</td><td>   NA</td><td>7.946</td><td>13.588</td><td> 1.556</td><td>4.803</td></tr>\n",
       "\t<tr><th scope=row>MX1</th><td>8.854</td><td>  NA</td><td>11.655</td><td>    NA</td><td> 7.590</td><td>2.278</td><td>   NA</td><td>   NA</td><td>    NA</td><td>-1.514</td><td>⋯</td><td>2.394</td><td>   NA</td><td>    NA</td><td>    NA</td><td>   NA</td><td>   NA</td><td>8.052</td><td>11.531</td><td> 2.057</td><td>   NA</td></tr>\n",
       "\t<tr><th scope=row>ADAR</th><td>0.978</td><td>  NA</td><td> 5.106</td><td>    NA</td><td>-0.109</td><td>0.577</td><td>   NA</td><td>   NA</td><td>    NA</td><td>-2.158</td><td>⋯</td><td>2.171</td><td>   NA</td><td>    NA</td><td>    NA</td><td>   NA</td><td>   NA</td><td>1.527</td><td> 5.931</td><td>-0.012</td><td>0.584</td></tr>\n",
       "</tbody>\n",
       "</table>\n"
      ],
      "text/latex": [
       "A data.frame: 6 × 69\n",
       "\\begin{tabular}{r|lllllllllllllllllllll}\n",
       "  & SPECTRA\\_110:STAT1:flu:T\\_CD8\\_NonNaive & SPECTRA\\_110:SP1:flu:T\\_CD8\\_NonNaive & SPECTRA\\_110:STAT1:SLE:T\\_CD8\\_NonNaive & SPECTRA\\_110:SP1:SLE:T\\_CD8\\_NonNaive & SPECTRA\\_110:STAT1:COVID:T\\_CD8\\_NonNaive & SPECTRA\\_110:STAT1:sepsis:T\\_CD8\\_NonNaive & SPECTRA\\_110:SP1:sepsis:T\\_CD8\\_NonNaive & SPECTRA\\_110:SP1:HNSCC:T\\_CD8\\_NonNaive & SPECTRA\\_110:SP1:COPD:T\\_CD8\\_NonNaive & SPECTRA\\_110:STAT1:COPD:T\\_CD8\\_NonNaive & ⋯ & SPECTRA\\_56:STAT1:BRCA:Plasma & SPECTRA\\_71:SP1:flu:T\\_CD4\\_Naive & SPECTRA\\_71:SP1:SLE:T\\_CD4\\_Naive & SPECTRA\\_71:SP1:COPD:T\\_CD4\\_Naive & SPECTRA\\_71:SP1:HNSCC:T\\_CD4\\_Naive & SPECTRA\\_71:SP1:UC:T\\_CD4\\_Naive & SPECTRA\\_98:STAT1:flu:T\\_CD8\\_Naive & SPECTRA\\_98:STAT1:SLE:T\\_CD8\\_Naive & SPECTRA\\_98:STAT1:sepsis:T\\_CD8\\_Naive & SPECTRA\\_98:STAT1:COVID:T\\_CD8\\_Naive\\\\\n",
       "  & <dbl> & <dbl> & <dbl> & <dbl> & <dbl> & <dbl> & <dbl> & <dbl> & <dbl> & <dbl> & ⋯ & <dbl> & <dbl> & <dbl> & <dbl> & <dbl> & <dbl> & <dbl> & <dbl> & <dbl> & <dbl>\\\\\n",
       "\\hline\n",
       "\tOAS1 & 8.870 & 8.87 & 11.342 & 11.342 &  3.791 & 3.259 & 3.259 & 0.004 & -0.853 & -0.853 & ⋯ & 0.961 & 8.597 & 11.318 & -1.731 & 0.883 & 0.268 & 8.369 & 10.775 &  2.399 & 3.776\\\\\n",
       "\tIFIT3 & 4.980 &   NA &  1.294 &     NA &  2.276 & 0.645 &    NA &    NA &     NA & -0.046 & ⋯ & 0.695 &    NA &     NA &     NA &    NA &    NA & 8.774 &  8.495 &  3.073 & 3.843\\\\\n",
       "\tIFIT2 & 1.385 &   NA & -0.014 &     NA &  1.164 & 0.163 &    NA &    NA &     NA &  0.014 & ⋯ &    NA &    NA &     NA &     NA &    NA &    NA & 6.371 &  6.559 &  0.210 & 3.232\\\\\n",
       "\tIFI6 & 9.309 &   NA & 13.140 &     NA &  5.071 & 3.046 &    NA &    NA &     NA & -0.475 & ⋯ & 0.940 &    NA &     NA &     NA &    NA &    NA & 7.946 & 13.588 &  1.556 & 4.803\\\\\n",
       "\tMX1 & 8.854 &   NA & 11.655 &     NA &  7.590 & 2.278 &    NA &    NA &     NA & -1.514 & ⋯ & 2.394 &    NA &     NA &     NA &    NA &    NA & 8.052 & 11.531 &  2.057 &    NA\\\\\n",
       "\tADAR & 0.978 &   NA &  5.106 &     NA & -0.109 & 0.577 &    NA &    NA &     NA & -2.158 & ⋯ & 2.171 &    NA &     NA &     NA &    NA &    NA & 1.527 &  5.931 & -0.012 & 0.584\\\\\n",
       "\\end{tabular}\n"
      ],
      "text/markdown": [
       "\n",
       "A data.frame: 6 × 69\n",
       "\n",
       "| <!--/--> | SPECTRA_110:STAT1:flu:T_CD8_NonNaive &lt;dbl&gt; | SPECTRA_110:SP1:flu:T_CD8_NonNaive &lt;dbl&gt; | SPECTRA_110:STAT1:SLE:T_CD8_NonNaive &lt;dbl&gt; | SPECTRA_110:SP1:SLE:T_CD8_NonNaive &lt;dbl&gt; | SPECTRA_110:STAT1:COVID:T_CD8_NonNaive &lt;dbl&gt; | SPECTRA_110:STAT1:sepsis:T_CD8_NonNaive &lt;dbl&gt; | SPECTRA_110:SP1:sepsis:T_CD8_NonNaive &lt;dbl&gt; | SPECTRA_110:SP1:HNSCC:T_CD8_NonNaive &lt;dbl&gt; | SPECTRA_110:SP1:COPD:T_CD8_NonNaive &lt;dbl&gt; | SPECTRA_110:STAT1:COPD:T_CD8_NonNaive &lt;dbl&gt; | ⋯ ⋯ | SPECTRA_56:STAT1:BRCA:Plasma &lt;dbl&gt; | SPECTRA_71:SP1:flu:T_CD4_Naive &lt;dbl&gt; | SPECTRA_71:SP1:SLE:T_CD4_Naive &lt;dbl&gt; | SPECTRA_71:SP1:COPD:T_CD4_Naive &lt;dbl&gt; | SPECTRA_71:SP1:HNSCC:T_CD4_Naive &lt;dbl&gt; | SPECTRA_71:SP1:UC:T_CD4_Naive &lt;dbl&gt; | SPECTRA_98:STAT1:flu:T_CD8_Naive &lt;dbl&gt; | SPECTRA_98:STAT1:SLE:T_CD8_Naive &lt;dbl&gt; | SPECTRA_98:STAT1:sepsis:T_CD8_Naive &lt;dbl&gt; | SPECTRA_98:STAT1:COVID:T_CD8_Naive &lt;dbl&gt; |\n",
       "|---|---|---|---|---|---|---|---|---|---|---|---|---|---|---|---|---|---|---|---|---|---|\n",
       "| OAS1 | 8.870 | 8.87 | 11.342 | 11.342 |  3.791 | 3.259 | 3.259 | 0.004 | -0.853 | -0.853 | ⋯ | 0.961 | 8.597 | 11.318 | -1.731 | 0.883 | 0.268 | 8.369 | 10.775 |  2.399 | 3.776 |\n",
       "| IFIT3 | 4.980 |   NA |  1.294 |     NA |  2.276 | 0.645 |    NA |    NA |     NA | -0.046 | ⋯ | 0.695 |    NA |     NA |     NA |    NA |    NA | 8.774 |  8.495 |  3.073 | 3.843 |\n",
       "| IFIT2 | 1.385 |   NA | -0.014 |     NA |  1.164 | 0.163 |    NA |    NA |     NA |  0.014 | ⋯ |    NA |    NA |     NA |     NA |    NA |    NA | 6.371 |  6.559 |  0.210 | 3.232 |\n",
       "| IFI6 | 9.309 |   NA | 13.140 |     NA |  5.071 | 3.046 |    NA |    NA |     NA | -0.475 | ⋯ | 0.940 |    NA |     NA |     NA |    NA |    NA | 7.946 | 13.588 |  1.556 | 4.803 |\n",
       "| MX1 | 8.854 |   NA | 11.655 |     NA |  7.590 | 2.278 |    NA |    NA |     NA | -1.514 | ⋯ | 2.394 |    NA |     NA |     NA |    NA |    NA | 8.052 | 11.531 |  2.057 |    NA |\n",
       "| ADAR | 0.978 |   NA |  5.106 |     NA | -0.109 | 0.577 |    NA |    NA |     NA | -2.158 | ⋯ | 2.171 |    NA |     NA |     NA |    NA |    NA | 1.527 |  5.931 | -0.012 | 0.584 |\n",
       "\n"
      ],
      "text/plain": [
       "      SPECTRA_110:STAT1:flu:T_CD8_NonNaive SPECTRA_110:SP1:flu:T_CD8_NonNaive\n",
       "OAS1  8.870                                8.87                              \n",
       "IFIT3 4.980                                  NA                              \n",
       "IFIT2 1.385                                  NA                              \n",
       "IFI6  9.309                                  NA                              \n",
       "MX1   8.854                                  NA                              \n",
       "ADAR  0.978                                  NA                              \n",
       "      SPECTRA_110:STAT1:SLE:T_CD8_NonNaive SPECTRA_110:SP1:SLE:T_CD8_NonNaive\n",
       "OAS1  11.342                               11.342                            \n",
       "IFIT3  1.294                                   NA                            \n",
       "IFIT2 -0.014                                   NA                            \n",
       "IFI6  13.140                                   NA                            \n",
       "MX1   11.655                                   NA                            \n",
       "ADAR   5.106                                   NA                            \n",
       "      SPECTRA_110:STAT1:COVID:T_CD8_NonNaive\n",
       "OAS1   3.791                                \n",
       "IFIT3  2.276                                \n",
       "IFIT2  1.164                                \n",
       "IFI6   5.071                                \n",
       "MX1    7.590                                \n",
       "ADAR  -0.109                                \n",
       "      SPECTRA_110:STAT1:sepsis:T_CD8_NonNaive\n",
       "OAS1  3.259                                  \n",
       "IFIT3 0.645                                  \n",
       "IFIT2 0.163                                  \n",
       "IFI6  3.046                                  \n",
       "MX1   2.278                                  \n",
       "ADAR  0.577                                  \n",
       "      SPECTRA_110:SP1:sepsis:T_CD8_NonNaive\n",
       "OAS1  3.259                                \n",
       "IFIT3    NA                                \n",
       "IFIT2    NA                                \n",
       "IFI6     NA                                \n",
       "MX1      NA                                \n",
       "ADAR     NA                                \n",
       "      SPECTRA_110:SP1:HNSCC:T_CD8_NonNaive SPECTRA_110:SP1:COPD:T_CD8_NonNaive\n",
       "OAS1  0.004                                -0.853                             \n",
       "IFIT3    NA                                    NA                             \n",
       "IFIT2    NA                                    NA                             \n",
       "IFI6     NA                                    NA                             \n",
       "MX1      NA                                    NA                             \n",
       "ADAR     NA                                    NA                             \n",
       "      SPECTRA_110:STAT1:COPD:T_CD8_NonNaive ⋯ SPECTRA_56:STAT1:BRCA:Plasma\n",
       "OAS1  -0.853                                ⋯ 0.961                       \n",
       "IFIT3 -0.046                                ⋯ 0.695                       \n",
       "IFIT2  0.014                                ⋯    NA                       \n",
       "IFI6  -0.475                                ⋯ 0.940                       \n",
       "MX1   -1.514                                ⋯ 2.394                       \n",
       "ADAR  -2.158                                ⋯ 2.171                       \n",
       "      SPECTRA_71:SP1:flu:T_CD4_Naive SPECTRA_71:SP1:SLE:T_CD4_Naive\n",
       "OAS1  8.597                          11.318                        \n",
       "IFIT3    NA                              NA                        \n",
       "IFIT2    NA                              NA                        \n",
       "IFI6     NA                              NA                        \n",
       "MX1      NA                              NA                        \n",
       "ADAR     NA                              NA                        \n",
       "      SPECTRA_71:SP1:COPD:T_CD4_Naive SPECTRA_71:SP1:HNSCC:T_CD4_Naive\n",
       "OAS1  -1.731                          0.883                           \n",
       "IFIT3     NA                             NA                           \n",
       "IFIT2     NA                             NA                           \n",
       "IFI6      NA                             NA                           \n",
       "MX1       NA                             NA                           \n",
       "ADAR      NA                             NA                           \n",
       "      SPECTRA_71:SP1:UC:T_CD4_Naive SPECTRA_98:STAT1:flu:T_CD8_Naive\n",
       "OAS1  0.268                         8.369                           \n",
       "IFIT3    NA                         8.774                           \n",
       "IFIT2    NA                         6.371                           \n",
       "IFI6     NA                         7.946                           \n",
       "MX1      NA                         8.052                           \n",
       "ADAR     NA                         1.527                           \n",
       "      SPECTRA_98:STAT1:SLE:T_CD8_Naive SPECTRA_98:STAT1:sepsis:T_CD8_Naive\n",
       "OAS1  10.775                            2.399                             \n",
       "IFIT3  8.495                            3.073                             \n",
       "IFIT2  6.559                            0.210                             \n",
       "IFI6  13.588                            1.556                             \n",
       "MX1   11.531                            2.057                             \n",
       "ADAR   5.931                           -0.012                             \n",
       "      SPECTRA_98:STAT1:COVID:T_CD8_Naive\n",
       "OAS1  3.776                             \n",
       "IFIT3 3.843                             \n",
       "IFIT2 3.232                             \n",
       "IFI6  4.803                             \n",
       "MX1      NA                             \n",
       "ADAR  0.584                             "
      ]
     },
     "metadata": {},
     "output_type": "display_data"
    }
   ],
   "source": [
    "xx <-\n",
    "    toplot %>%\n",
    "    tidyr::pivot_wider(names_from = \"annot\", values_from = \"z\") %>% # values_from = \"z\" if object is toplot_tfs_lmm.rds\n",
    "    tibble::column_to_rownames(\"target\") %>%\n",
    "    select(contains(spectra_of_interest)) %>%\n",
    "    filter(!if_all(everything(), is.na))\n",
    "head(xx)"
   ]
  },
  {
   "cell_type": "markdown",
   "id": "16c93440-86a3-43d4-9b7c-5d11784bdb01",
   "metadata": {
    "execution": {
     "iopub.execute_input": "2024-06-25T09:31:42.458886Z",
     "iopub.status.busy": "2024-06-25T09:31:42.457559Z",
     "iopub.status.idle": "2024-06-25T09:31:42.467306Z",
     "shell.execute_reply": "2024-06-25T09:31:42.466079Z"
    }
   },
   "source": [
    "**Annotations**"
   ]
  },
  {
   "cell_type": "code",
   "execution_count": 5,
   "id": "9af43332-f850-4b70-8459-44267d9c1493",
   "metadata": {
    "execution": {
     "iopub.execute_input": "2024-07-05T12:38:57.939862Z",
     "iopub.status.busy": "2024-07-05T12:38:57.938853Z",
     "iopub.status.idle": "2024-07-05T12:38:57.958060Z",
     "shell.execute_reply": "2024-07-05T12:38:57.956731Z"
    }
   },
   "outputs": [],
   "source": [
    "col_annot <- data.frame(\n",
    "    tf = as.factor(sapply(strsplit(names(xx), \":\"), \"[\", 2)),\n",
    "    disease = as.factor(sapply(strsplit(names(xx), \":\"), \"[\", 3)),\n",
    "#        SPECTRA = as.factor(sapply(strsplit(names(xx), \":\"), \"[\", 1)),\n",
    "    cell_type = as.factor(sapply(strsplit(names(xx), \":\"), \"[\", 4)),\n",
    "    row.names = names(xx)\n",
    ") %>%\n",
    "arrange(cell_type, tf, disease)\n",
    "\n",
    "# Colors\n",
    "my_colour_annot <- list(\n",
    "    tf = tfs_colors[names(tfs_colors) %in% levels(col_annot$tf)],\n",
    "    disease = disease_colors[names(disease_colors) %in% levels(col_annot$disease)],\n",
    "    cell_type = cell_colors[names(cell_colors) %in% levels(col_annot$cell_type)]\n",
    ")\n",
    "\n",
    "my_breaks <- c(seq(-10, 0, length.out=ceiling(palette_length/2) + 1),\n",
    "            seq(0.05, 15, length.out=floor(palette_length/2)))"
   ]
  },
  {
   "cell_type": "markdown",
   "id": "258fb362-c18d-4d65-8c2c-1e65a360d764",
   "metadata": {},
   "source": [
    "# Plot heatmap"
   ]
  },
  {
   "cell_type": "markdown",
   "id": "74fb4d41-3477-484c-8219-4bd4c1f85e90",
   "metadata": {},
   "source": [
    "## Ordered by celltype"
   ]
  },
  {
   "cell_type": "code",
   "execution_count": 6,
   "id": "112385a6-8b8b-452c-8717-df1eeb9bb723",
   "metadata": {
    "execution": {
     "iopub.execute_input": "2024-07-05T12:38:57.960788Z",
     "iopub.status.busy": "2024-07-05T12:38:57.959854Z",
     "iopub.status.idle": "2024-07-05T12:38:58.437026Z",
     "shell.execute_reply": "2024-07-05T12:38:58.432628Z"
    }
   },
   "outputs": [
    {
     "name": "stdout",
     "output_type": "stream",
     "text": [
      "                                           tf   disease      cell_type\n",
      "SPECTRA_98:STAT1:SLE:T_CD8_Naive        STAT1       SLE    T_CD8_Naive\n",
      "SPECTRA_98:STAT1:sepsis:T_CD8_Naive     STAT1    sepsis    T_CD8_Naive\n",
      "SPECTRA_98:STAT1:COVID:T_CD8_Naive      STAT1     COVID    T_CD8_Naive\n",
      "SPECTRA_98:STAT1:flu:T_CD8_Naive        STAT1       flu    T_CD8_Naive\n",
      "SPECTRA_56:STAT1:SLE:Plasma             STAT1       SLE         Plasma\n",
      "SPECTRA_56:STAT1:flu:Plasma             STAT1       flu         Plasma\n",
      "SPECTRA_56:STAT1:BRCA:Plasma            STAT1      BRCA         Plasma\n",
      "SPECTRA_56:STAT1:HNSCC:Plasma           STAT1     HNSCC         Plasma\n",
      "SPECTRA_56:STAT1:CRC:Plasma             STAT1       CRC         Plasma\n",
      "SPECTRA_130:STAT1:PS:pDC                STAT1        PS            pDC\n",
      "SPECTRA_130:STAT1:CD:pDC                STAT1        CD            pDC\n",
      "SPECTRA_130:STAT1:SLE:pDC               STAT1       SLE            pDC\n",
      "SPECTRA_130:STAT1:sepsis:pDC            STAT1    sepsis            pDC\n",
      "SPECTRA_130:STAT1:HIV:pDC               STAT1       HIV            pDC\n",
      "SPECTRA_130:STAT1:COVID:pDC             STAT1     COVID            pDC\n",
      "SPECTRA_130:STAT1:flu:pDC               STAT1       flu            pDC\n",
      "SPECTRA_130:STAT1:BRCA:pDC              STAT1      BRCA            pDC\n",
      "SPECTRA_130:STAT1:NPC:pDC               STAT1       NPC            pDC\n",
      "SPECTRA_130:STAT1:CRC:pDC               STAT1       CRC            pDC\n",
      "SPECTRA_24:STAT1:SLE:DC                 STAT1       SLE             DC\n",
      "SPECTRA_24:STAT1:HIV:DC                 STAT1       HIV             DC\n",
      "SPECTRA_24:STAT1:COVID:DC               STAT1     COVID             DC\n",
      "SPECTRA_24:STAT1:flu:DC                 STAT1       flu             DC\n",
      "SPECTRA_24:STAT1:BRCA:DC                STAT1      BRCA             DC\n",
      "SPECTRA_24:STAT1:NPC:DC                 STAT1       NPC             DC\n",
      "SPECTRA_24:STAT1:HNSCC:DC               STAT1     HNSCC             DC\n",
      "SPECTRA_24:STAT1:CRC:DC                 STAT1       CRC             DC\n",
      "SPECTRA_46:STAT1:RA:Mono                STAT1        RA           Mono\n",
      "SPECTRA_46:STAT1:UC:Mono                STAT1        UC           Mono\n",
      "SPECTRA_46:STAT1:SLE:Mono               STAT1       SLE           Mono\n",
      "SPECTRA_46:STAT1:cirrhosis:Mono         STAT1 cirrhosis           Mono\n",
      "SPECTRA_46:STAT1:sepsis:Mono            STAT1    sepsis           Mono\n",
      "SPECTRA_46:STAT1:COVID:Mono             STAT1     COVID           Mono\n",
      "SPECTRA_46:STAT1:flu:Mono               STAT1       flu           Mono\n",
      "SPECTRA_46:STAT1:NPC:Mono               STAT1       NPC           Mono\n",
      "SPECTRA_46:STAT1:HNSCC:Mono             STAT1     HNSCC           Mono\n",
      "SPECTRA_46:SP1:RA:Mono                    SP1        RA           Mono\n",
      "SPECTRA_46:SP1:PSA:Mono                   SP1       PSA           Mono\n",
      "SPECTRA_46:SP1:CD:Mono                    SP1        CD           Mono\n",
      "SPECTRA_46:SP1:UC:Mono                    SP1        UC           Mono\n",
      "SPECTRA_46:SP1:SLE:Mono                   SP1       SLE           Mono\n",
      "SPECTRA_46:SP1:COPD:Mono                  SP1      COPD           Mono\n",
      "SPECTRA_46:SP1:cirrhosis:Mono             SP1 cirrhosis           Mono\n",
      "SPECTRA_46:SP1:sepsis:Mono                SP1    sepsis           Mono\n",
      "SPECTRA_46:SP1:flu:Mono                   SP1       flu           Mono\n",
      "SPECTRA_46:SP1:HNSCC:Mono                 SP1     HNSCC           Mono\n",
      "SPECTRA_71:SP1:UC:T_CD4_Naive             SP1        UC    T_CD4_Naive\n",
      "SPECTRA_71:SP1:SLE:T_CD4_Naive            SP1       SLE    T_CD4_Naive\n",
      "SPECTRA_71:SP1:COPD:T_CD4_Naive           SP1      COPD    T_CD4_Naive\n",
      "SPECTRA_71:SP1:flu:T_CD4_Naive            SP1       flu    T_CD4_Naive\n",
      "SPECTRA_71:SP1:HNSCC:T_CD4_Naive          SP1     HNSCC    T_CD4_Naive\n",
      "SPECTRA_110:STAT1:SLE:T_CD8_NonNaive    STAT1       SLE T_CD8_NonNaive\n",
      "SPECTRA_110:STAT1:COPD:T_CD8_NonNaive   STAT1      COPD T_CD8_NonNaive\n",
      "SPECTRA_110:STAT1:sepsis:T_CD8_NonNaive STAT1    sepsis T_CD8_NonNaive\n",
      "SPECTRA_110:STAT1:HIV:T_CD8_NonNaive    STAT1       HIV T_CD8_NonNaive\n",
      "SPECTRA_110:STAT1:COVID:T_CD8_NonNaive  STAT1     COVID T_CD8_NonNaive\n",
      "SPECTRA_110:STAT1:flu:T_CD8_NonNaive    STAT1       flu T_CD8_NonNaive\n",
      "SPECTRA_110:STAT1:BRCA:T_CD8_NonNaive   STAT1      BRCA T_CD8_NonNaive\n",
      "SPECTRA_110:SP1:SLE:T_CD8_NonNaive        SP1       SLE T_CD8_NonNaive\n",
      "SPECTRA_110:SP1:COPD:T_CD8_NonNaive       SP1      COPD T_CD8_NonNaive\n",
      "SPECTRA_110:SP1:sepsis:T_CD8_NonNaive     SP1    sepsis T_CD8_NonNaive\n",
      "SPECTRA_110:SP1:flu:T_CD8_NonNaive        SP1       flu T_CD8_NonNaive\n",
      "SPECTRA_110:SP1:HNSCC:T_CD8_NonNaive      SP1     HNSCC T_CD8_NonNaive\n",
      "SPECTRA_34:SP1:SLE:ILC                    SP1       SLE            ILC\n",
      "SPECTRA_34:SP1:COPD:ILC                   SP1      COPD            ILC\n",
      "SPECTRA_34:SP1:cirrhosis:ILC              SP1 cirrhosis            ILC\n",
      "SPECTRA_34:SP1:sepsis:ILC                 SP1    sepsis            ILC\n",
      "SPECTRA_34:SP1:flu:ILC                    SP1       flu            ILC\n",
      "SPECTRA_34:SP1:HNSCC:ILC                  SP1     HNSCC            ILC\n"
     ]
    },
    {
     "data": {
      "text/html": [
       "<strong>pdf:</strong> 4"
      ],
      "text/latex": [
       "\\textbf{pdf:} 4"
      ],
      "text/markdown": [
       "**pdf:** 4"
      ],
      "text/plain": [
       "pdf \n",
       "  4 "
      ]
     },
     "metadata": {},
     "output_type": "display_data"
    }
   ],
   "source": [
    "cell_type_order <- c(\"T_CD8_Naive\",\"Plasma\", \"pDC\", \"DC\", \"Mono\", \"T_CD4_Naive\", \"T_CD8_NonNaive\", \"ILC\")\n",
    "tf_order <- c(\"STAT1\", \"SP1\")\n",
    "disease_order <- c(\n",
    "  'RA', 'PS', 'PSA', 'CD', 'UC', 'SLE', 'MS',\n",
    "  'asthma', 'COPD', 'cirrhosis', 'sepsis',\n",
    "  'HIV', 'HBV', 'COVID', 'flu',\n",
    "  'BRCA', 'NPC', 'HNSCC', 'CRC'\n",
    ")\n",
    "\n",
    "# Convert columns to factors with specified levels\n",
    "df <- col_annot %>%\n",
    "  mutate(\n",
    "    cell_type = factor(cell_type, levels = cell_type_order),\n",
    "    tf = factor(tf, levels = tf_order),\n",
    "    disease = factor(disease, levels = disease_order)\n",
    "  )\n",
    "\n",
    "# Order the data frame by cell_type, tf, and disease\n",
    "ordered_df <- df %>%\n",
    "  arrange(cell_type, tf, disease)\n",
    "\n",
    "# Print the ordered data frame\n",
    "print(ordered_df)\n",
    "\n",
    "figure_path = paste0(outputpath, \"TF_genes_heatmap_order_celltype\", lmm,\".pdf\")\n",
    "pdf(figure_path, width = 15, height = 12)\n",
    "a <- pheatmap::pheatmap(\n",
    "    xx[, rownames(ordered_df)],\n",
    "    border_color = \"black\",\n",
    "    na_col = \"black\",\n",
    "    color = my_color,\n",
    "    breaks = my_breaks,\n",
    "    annotation_colors = my_colour_annot,\n",
    "    cluster_cols = FALSE,\n",
    "    cluster_rows = FALSE,\n",
    "    cellheight = 10,\n",
    "    cellwidth = 10,\n",
    "    annotation_col = col_annot,\n",
    "    cex = 1,\n",
    "    fontsize = 9,\n",
    "    labels_col = col_annot$disease,\n",
    "    filename = figure_path,\n",
    "    main = \"IFN_response\",\n",
    "    gaps_col = c(2, 6, 11, 17, 27, 29, 34, 38)\n",
    "    )\n",
    "print(a)\n",
    "dev.off()"
   ]
  },
  {
   "cell_type": "markdown",
   "id": "41181b5d-cadc-44e2-bbae-40fd6a3ecd2e",
   "metadata": {},
   "source": [
    "## Separated cell types"
   ]
  },
  {
   "cell_type": "code",
   "execution_count": 7,
   "id": "6073671b-bf85-40e1-b7dd-aa7eba918f98",
   "metadata": {
    "execution": {
     "iopub.execute_input": "2024-07-05T12:38:58.439717Z",
     "iopub.status.busy": "2024-07-05T12:38:58.438792Z",
     "iopub.status.idle": "2024-07-05T12:38:58.457061Z",
     "shell.execute_reply": "2024-07-05T12:38:58.455763Z"
    }
   },
   "outputs": [],
   "source": [
    "cell_type_order <- c(\"T_CD8_Naive\",\"Plasma\", \"pDC\", \"DC\", \"Mono\", \"T_CD4_Naive\", \"T_CD8_NonNaive\", \"ILC\")\n",
    "tf_order <- c(\"STAT1\", \"SP1\")\n",
    "disease_order <- c(\n",
    "    'SLE',\"flu\",\n",
    "  'RA', 'PS', 'PSA', 'CD', 'UC',  'MS',\n",
    "  'asthma', 'COPD', 'cirrhosis', 'sepsis',\n",
    "  'HIV', 'HBV', 'COVID',\n",
    "  'BRCA', 'NPC', 'HNSCC', 'CRC'\n",
    ")\n",
    "\n",
    "# Convert columns to factors with specified levels\n",
    "df <- col_annot %>%\n",
    "  mutate(\n",
    "    cell_type = factor(cell_type, levels = cell_type_order),\n",
    "    tf = factor(tf, levels = tf_order),\n",
    "    disease = factor(disease, levels = disease_order)\n",
    "  )\n",
    "\n",
    "# Order the data frame by cell_type, tf, and disease\n",
    "ordered_df <- df %>%\n",
    "  arrange(cell_type, tf, disease)"
   ]
  },
  {
   "cell_type": "markdown",
   "id": "039fa511-780c-4b2a-bbf7-aeabcd5ff85e",
   "metadata": {},
   "source": [
    "## Mono"
   ]
  },
  {
   "cell_type": "code",
   "execution_count": 8,
   "id": "c57729ca-3f4d-4a06-8219-abe6c805318f",
   "metadata": {
    "execution": {
     "iopub.execute_input": "2024-07-05T12:38:58.459773Z",
     "iopub.status.busy": "2024-07-05T12:38:58.458837Z",
     "iopub.status.idle": "2024-07-05T12:38:58.646212Z",
     "shell.execute_reply": "2024-07-05T12:38:58.645022Z"
    }
   },
   "outputs": [
    {
     "data": {
      "text/html": [
       "<strong>pdf:</strong> 4"
      ],
      "text/latex": [
       "\\textbf{pdf:} 4"
      ],
      "text/markdown": [
       "**pdf:** 4"
      ],
      "text/plain": [
       "pdf \n",
       "  4 "
      ]
     },
     "metadata": {},
     "output_type": "display_data"
    }
   ],
   "source": [
    "celltype = \"Mono\"\n",
    "metadata_df <- ordered_df %>%\n",
    "  filter(cell_type == celltype) %>%\n",
    "  arrange(cell_type, tf, disease)\n",
    "heatmap_df <- xx[, rownames(metadata_df)] %>%\n",
    "  filter(rowSums(is.na(.)) != ncol(.)) %>%\n",
    "  mutate(na_order = case_when(\n",
    "    is.na(.[, 1]) ~ 3,  # If NA in the first column, assign 3\n",
    "    is.na(.[, ncol(.)]) ~ 2,  # If NA in the last column, assign 2\n",
    "    TRUE ~ 1  # If no NA in the first or last column, assign 1\n",
    "  )) %>%\n",
    "  arrange(na_order, rowSums(is.na(.))) %>%  # Order by na_order and then by number of NAs\n",
    "  select(-na_order)\n",
    "figure_path = paste0(outputpath, \"/TF_heatmap_per_celltype/TF_genes_heatmap_\", celltype,\"_\", lmm,\".pdf\")\n",
    "pdf(figure_path, width = 15, height = 12)\n",
    "a <- pheatmap::pheatmap(\n",
    "    heatmap_df,\n",
    "    border_color = NA,\n",
    "    na_col = \"white\",\n",
    "    color = my_color,\n",
    "    breaks = my_breaks,\n",
    "    annotation_colors = my_colour_annot,\n",
    "    cluster_cols = FALSE,\n",
    "    cluster_rows = FALSE,\n",
    "    cellheight = 10,\n",
    "    cellwidth = 10,\n",
    "    annotation_col = col_annot,\n",
    "    cex = 1,\n",
    "    fontsize = 6,\n",
    "    labels_col = metadata_df$disease,\n",
    "    filename = figure_path,\n",
    "    main = celltype,\n",
    "    gaps_col = c(9), \n",
    "    gaps_row = c(8, 21)\n",
    "    )\n",
    "print(a)\n",
    "dev.off()"
   ]
  },
  {
   "cell_type": "markdown",
   "id": "700cc680-c948-457b-95a9-843326659c76",
   "metadata": {},
   "source": [
    "## T_CD8_NonNaive"
   ]
  },
  {
   "cell_type": "code",
   "execution_count": 9,
   "id": "635de101-123f-4dea-823a-184d7fc6c8da",
   "metadata": {
    "execution": {
     "iopub.execute_input": "2024-07-05T12:38:58.648940Z",
     "iopub.status.busy": "2024-07-05T12:38:58.648007Z",
     "iopub.status.idle": "2024-07-05T12:38:58.850047Z",
     "shell.execute_reply": "2024-07-05T12:38:58.848869Z"
    }
   },
   "outputs": [
    {
     "data": {
      "text/html": [
       "<strong>pdf:</strong> 4"
      ],
      "text/latex": [
       "\\textbf{pdf:} 4"
      ],
      "text/markdown": [
       "**pdf:** 4"
      ],
      "text/plain": [
       "pdf \n",
       "  4 "
      ]
     },
     "metadata": {},
     "output_type": "display_data"
    }
   ],
   "source": [
    "celltype = \"T_CD8_NonNaive\"\n",
    "metadata_df <- ordered_df %>%\n",
    "  filter(cell_type == celltype) %>%\n",
    "  arrange(cell_type, tf, disease)\n",
    "heatmap_df <- xx[, rownames(metadata_df)] %>%\n",
    "  filter(rowSums(is.na(.)) != ncol(.)) %>%\n",
    "  mutate(na_order = case_when(\n",
    "    is.na(.[, 1]) ~ 3,  # If NA in the first column, assign 3\n",
    "    is.na(.[, ncol(.)]) ~ 2,  # If NA in the last column, assign 2\n",
    "    TRUE ~ 1  # If no NA in the first or last column, assign 1\n",
    "  )) %>%\n",
    "  arrange(na_order, rowSums(is.na(.))) %>%  # Order by na_order and then by number of NAs\n",
    "  select(-na_order)\n",
    "figure_path = paste0(outputpath, \"/TF_heatmap_per_celltype/TF_genes_heatmap_\", celltype,\"_\", lmm,\".pdf\")\n",
    "pdf(figure_path, width = 15, height = 12)\n",
    "a <- pheatmap::pheatmap(\n",
    "    heatmap_df,\n",
    "    border_color = NA,\n",
    "    na_col = \"white\",\n",
    "    color = my_color,\n",
    "    breaks = my_breaks,\n",
    "    annotation_colors = my_colour_annot,\n",
    "    cluster_cols = FALSE,\n",
    "    cluster_rows = FALSE,\n",
    "    cellheight = 10,\n",
    "    cellwidth = 10,\n",
    "    annotation_col = col_annot,\n",
    "    cex = 1,\n",
    "    fontsize = 6,\n",
    "    labels_col = metadata_df$disease,\n",
    "    filename = figure_path,\n",
    "    main = celltype,\n",
    "    gaps_col = c(7), \n",
    "    gaps_row = c(3,13)\n",
    "    )\n",
    "print(a)\n",
    "dev.off()"
   ]
  },
  {
   "cell_type": "markdown",
   "id": "9536d230-17ff-414e-a4a3-df5112816cf3",
   "metadata": {},
   "source": [
    "## STAT1only celltypes"
   ]
  },
  {
   "cell_type": "code",
   "execution_count": 10,
   "id": "bfe8e07d-f955-4a33-a6aa-3b3592835df0",
   "metadata": {
    "execution": {
     "iopub.execute_input": "2024-07-05T12:38:58.852704Z",
     "iopub.status.busy": "2024-07-05T12:38:58.851788Z",
     "iopub.status.idle": "2024-07-05T12:38:58.859747Z",
     "shell.execute_reply": "2024-07-05T12:38:58.858603Z"
    }
   },
   "outputs": [],
   "source": [
    "row_order <- c('IFI27', 'IFI6', 'MX1', 'ISG15',  'IFITM1', 'OAS1', \"ISG20\", \"ADAR\", \"IFIT3\",\"IFIT1\",\n",
    "'IFIT2','VIM',  'S100A10', 'PRF1',\n",
    "                  'UPP1', 'TIMP1', 'LGALS3', 'LAP3', 'LY96', 'CD86', 'FGL2', 'FOS')"
   ]
  },
  {
   "cell_type": "code",
   "execution_count": 11,
   "id": "90bb72e1-1bdc-4083-950e-0d1ea1a77c8e",
   "metadata": {
    "execution": {
     "iopub.execute_input": "2024-07-05T12:38:58.862419Z",
     "iopub.status.busy": "2024-07-05T12:38:58.861485Z",
     "iopub.status.idle": "2024-07-05T12:38:59.037138Z",
     "shell.execute_reply": "2024-07-05T12:38:59.035939Z"
    }
   },
   "outputs": [
    {
     "data": {
      "text/html": [
       "<strong>pdf:</strong> 4"
      ],
      "text/latex": [
       "\\textbf{pdf:} 4"
      ],
      "text/markdown": [
       "**pdf:** 4"
      ],
      "text/plain": [
       "pdf \n",
       "  4 "
      ]
     },
     "metadata": {},
     "output_type": "display_data"
    }
   ],
   "source": [
    "celltypes = c(\"T_CD8_Naive\", \"DC\", \"pDC\", \"Plasma\")\n",
    "metadata_df <- ordered_df %>%\n",
    "  filter(cell_type %in% celltypes) %>%\n",
    "  mutate(\n",
    "    cell_type = factor(cell_type, levels = celltypes),\n",
    "  )  %>%\n",
    "  arrange(cell_type, tf, disease)\n",
    "heatmap_df <- xx[row_order, rownames(metadata_df)] %>%\n",
    "  filter(rowSums(is.na(.)) != ncol(.))\n",
    "figure_path = paste0(outputpath, \"/TF_heatmap_per_celltype/TF_genes_heatmap_STAT1only_celltypes_\", lmm,\".pdf\")\n",
    "pdf(figure_path, width = 15, height = 12)\n",
    "a <- pheatmap::pheatmap(\n",
    "    heatmap_df,\n",
    "    border_color = NA,\n",
    "    na_col = \"white\",\n",
    "    color = my_color,\n",
    "    breaks = my_breaks,\n",
    "    annotation_colors = my_colour_annot,\n",
    "    cluster_cols = FALSE,\n",
    "    cluster_rows = FALSE,\n",
    "    cellheight = 10,\n",
    "    cellwidth = 10,\n",
    "    annotation_col = col_annot,\n",
    "    cex = 1,\n",
    "    fontsize = 6,\n",
    "    labels_col = metadata_df$disease,\n",
    "    filename = figure_path,\n",
    "    main = \"STAT1_only celltypes\",\n",
    "    gaps_col = c(4,12,22), \n",
    "    gaps_row = c(10,11)\n",
    "    )\n",
    "print(a)\n",
    "dev.off()"
   ]
  },
  {
   "cell_type": "markdown",
   "id": "009e5163-7dec-4565-a380-8fea80372e1a",
   "metadata": {},
   "source": [
    "## SP1only celltypes"
   ]
  },
  {
   "cell_type": "code",
   "execution_count": 12,
   "id": "6088fa94-fefc-4ab8-9db6-51ac865410b2",
   "metadata": {
    "execution": {
     "iopub.execute_input": "2024-07-05T12:38:59.039817Z",
     "iopub.status.busy": "2024-07-05T12:38:59.038885Z",
     "iopub.status.idle": "2024-07-05T12:38:59.046923Z",
     "shell.execute_reply": "2024-07-05T12:38:59.045735Z"
    }
   },
   "outputs": [],
   "source": [
    "row_order <- c(\n",
    "'GAPDH', 'ACTB', 'S100A6', 'IFITM3', 'ISG20','FTH1',\n",
    "'OAS1',   'MX2','COX4I1', 'VIM', 'CALM1', 'SRSF7','FUS', \n",
    "                             \n",
    "'LGALS1','MT2A','RAC2','ADGRG1',\n",
    "               \n",
    "'FBP1', 'S100A8', 'TYMP', 'TIMP1', 'LGALS3', 'ITGAX', 'SLC11A1', 'SPI1', 'PSAP', 'STXBP2', 'TKT', 'FGL2', 'LYZ', 'TNFSF13', 'TSPO', 'GSTP1', 'FOS',\"SERPINA1\" \n",
    "\n",
    "\n",
    "               \n",
    ")"
   ]
  },
  {
   "cell_type": "code",
   "execution_count": 13,
   "id": "b09119fc-942c-4f9a-936e-5d3d957f2749",
   "metadata": {
    "execution": {
     "iopub.execute_input": "2024-07-05T12:38:59.049643Z",
     "iopub.status.busy": "2024-07-05T12:38:59.048694Z",
     "iopub.status.idle": "2024-07-05T12:38:59.214915Z",
     "shell.execute_reply": "2024-07-05T12:38:59.213732Z"
    }
   },
   "outputs": [
    {
     "data": {
      "text/html": [
       "<strong>pdf:</strong> 4"
      ],
      "text/latex": [
       "\\textbf{pdf:} 4"
      ],
      "text/markdown": [
       "**pdf:** 4"
      ],
      "text/plain": [
       "pdf \n",
       "  4 "
      ]
     },
     "metadata": {},
     "output_type": "display_data"
    }
   ],
   "source": [
    "celltypes = c(\"T_CD4_Naive\", \"ILC\")\n",
    "metadata_df <- ordered_df %>%\n",
    "  filter(cell_type %in% celltypes) %>%\n",
    "  arrange(cell_type, tf, disease)\n",
    "heatmap_df <- xx[row_order, rownames(metadata_df)] %>%\n",
    "  filter(rowSums(is.na(.)) != ncol(.))\n",
    "figure_path = paste0(outputpath, \"/TF_heatmap_per_celltype/TF_genes_heatmap_SP1only_celltypes_\", lmm,\".pdf\")\n",
    "pdf(figure_path, width = 15, height = 12)\n",
    "a <- pheatmap::pheatmap(\n",
    "    heatmap_df,\n",
    "    border_color = NA,\n",
    "    na_col = \"white\",\n",
    "    color = my_color,\n",
    "    breaks = my_breaks,\n",
    "    annotation_colors = my_colour_annot,\n",
    "    cluster_cols = FALSE,\n",
    "    cluster_rows = FALSE,\n",
    "    cellheight = 10,\n",
    "    cellwidth = 10,\n",
    "    annotation_col = col_annot,\n",
    "    cex = 1,\n",
    "    fontsize = 6,\n",
    "    labels_col = metadata_df$disease,\n",
    "    filename = figure_path,\n",
    "    main = \"SP1_only celltypes\",\n",
    "    gaps_col = c(5), \n",
    "    gaps_row = c(6, 13)\n",
    "    )\n",
    "print(a)\n",
    "dev.off()"
   ]
  },
  {
   "cell_type": "markdown",
   "id": "daab2ac1-6216-4f52-9ae0-0f2df536af69",
   "metadata": {},
   "source": [
    "## Ordered by TF"
   ]
  },
  {
   "cell_type": "code",
   "execution_count": 14,
   "id": "a37e3a63-0b53-480b-98c3-f9c98419719f",
   "metadata": {
    "execution": {
     "iopub.execute_input": "2024-07-05T12:38:59.217618Z",
     "iopub.status.busy": "2024-07-05T12:38:59.216687Z",
     "iopub.status.idle": "2024-07-05T12:38:59.430534Z",
     "shell.execute_reply": "2024-07-05T12:38:59.429342Z"
    }
   },
   "outputs": [
    {
     "data": {
      "text/html": [
       "<strong>pdf:</strong> 4"
      ],
      "text/latex": [
       "\\textbf{pdf:} 4"
      ],
      "text/markdown": [
       "**pdf:** 4"
      ],
      "text/plain": [
       "pdf \n",
       "  4 "
      ]
     },
     "metadata": {},
     "output_type": "display_data"
    }
   ],
   "source": [
    "cell_type_order <- c(\"T_CD8_Naive\",\"Plasma\", \"pDC\", \"DC\", \"Mono\", \"T_CD8_NonNaive\", \"T_CD4_Naive\", \"ILC\")\n",
    "tf_order <- c(\"STAT1\", \"SP1\")\n",
    "disease_order <- c(\n",
    "    'SLE',\"flu\",\n",
    "  'RA', 'PS', 'PSA', 'CD', 'UC',  'MS',\n",
    "  'asthma', 'COPD', 'cirrhosis', 'sepsis',\n",
    "  'HIV', 'HBV', 'COVID',\n",
    "  'BRCA', 'NPC', 'HNSCC', 'CRC'\n",
    ")\n",
    "\n",
    "# Convert columns to factors with specified levels\n",
    "df <- col_annot %>%\n",
    "  mutate(\n",
    "    cell_type = factor(cell_type, levels = cell_type_order),\n",
    "    tf = factor(tf, levels = tf_order),\n",
    "    disease = factor(disease, levels = disease_order)\n",
    "  )\n",
    "\n",
    "# Order the data frame by cell_type, tf, and disease\n",
    "ordered_df <- df %>%\n",
    "  arrange(tf, cell_type, disease)\n",
    "\n",
    "figure_path = paste0(outputpath, \"TF_genes_heatmap_order_TF\", lmm,\".pdf\")\n",
    "pdf(figure_path, width = 15, height = 12)\n",
    "a <- pheatmap::pheatmap(\n",
    "    xx[, rownames(ordered_df)],\n",
    "    border_color = NA,\n",
    "    na_col = \"white\",\n",
    "    color = my_color,\n",
    "    breaks = my_breaks,\n",
    "    annotation_colors = my_colour_annot,\n",
    "    cluster_cols = FALSE,\n",
    "    cluster_rows = FALSE,\n",
    "    cellheight = 10,\n",
    "    cellwidth = 10,\n",
    "    annotation_col = col_annot,\n",
    "    cex = 1,\n",
    "    fontsize = 9,\n",
    "    labels_col = col_annot$disease,\n",
    "    filename = figure_path,\n",
    "    main = \"IFN_response\",\n",
    "    gaps_col = c(2, 6, 11, 17, 22, 24, 29, 34, 38)\n",
    "    )\n",
    "print(a)\n",
    "dev.off()"
   ]
  },
  {
   "cell_type": "code",
   "execution_count": 15,
   "id": "660eb1f7-21c9-4cc4-b88e-208e1f05695a",
   "metadata": {
    "execution": {
     "iopub.execute_input": "2024-07-05T12:38:59.433221Z",
     "iopub.status.busy": "2024-07-05T12:38:59.432280Z",
     "iopub.status.idle": "2024-07-05T12:38:59.443912Z",
     "shell.execute_reply": "2024-07-05T12:38:59.439240Z"
    }
   },
   "outputs": [],
   "source": [
    "tf_list <- split(ordered_df, ordered_df$tf)"
   ]
  },
  {
   "cell_type": "markdown",
   "id": "90d5a210-aaf2-4b4a-bf16-04acda3f30b5",
   "metadata": {},
   "source": [
    "### STAT1"
   ]
  },
  {
   "cell_type": "code",
   "execution_count": 16,
   "id": "571b4390-cfb0-4f8c-8980-18efcdf5e990",
   "metadata": {
    "execution": {
     "iopub.execute_input": "2024-07-05T12:38:59.446702Z",
     "iopub.status.busy": "2024-07-05T12:38:59.445777Z",
     "iopub.status.idle": "2024-07-05T12:38:59.453767Z",
     "shell.execute_reply": "2024-07-05T12:38:59.452613Z"
    }
   },
   "outputs": [],
   "source": [
    "row_order <- c('IFI27', 'IFI6', 'MX1', 'ISG15',  'IFITM1', 'OAS1', \"ISG20\", \"ADAR\", \"IFIT3\",\"IFIT1\",\n",
    "'IFIT2','VIM',  'S100A10', 'PRF1',\n",
    "                  'UPP1', 'TIMP1', 'LGALS3', 'LAP3', 'LY96', 'CD86', 'FGL2', 'FOS')"
   ]
  },
  {
   "cell_type": "code",
   "execution_count": 17,
   "id": "72ae08fc-7089-43a5-9df6-075de72a62bb",
   "metadata": {
    "execution": {
     "iopub.execute_input": "2024-07-05T12:38:59.456509Z",
     "iopub.status.busy": "2024-07-05T12:38:59.455565Z",
     "iopub.status.idle": "2024-07-05T12:38:59.650440Z",
     "shell.execute_reply": "2024-07-05T12:38:59.649260Z"
    }
   },
   "outputs": [
    {
     "data": {
      "text/html": [
       "<strong>pdf:</strong> 4"
      ],
      "text/latex": [
       "\\textbf{pdf:} 4"
      ],
      "text/markdown": [
       "**pdf:** 4"
      ],
      "text/plain": [
       "pdf \n",
       "  4 "
      ]
     },
     "metadata": {},
     "output_type": "display_data"
    }
   ],
   "source": [
    "tf_name <- \"STAT1\"\n",
    "tf_df <- tf_list[[tf_name]]\n",
    "\n",
    "cell_type_order <- c(\"Mono\", \"T_CD8_Naive\",\"T_CD8_NonNaive\",\"pDC\", \"DC\",\"Plasma\")\n",
    "tf_order <- c(\"STAT1\", \"SP1\")\n",
    "disease_order <- c(\n",
    "    'SLE',\"flu\",\n",
    "  'RA', 'PS', 'PSA', 'CD', 'UC',  'MS',\n",
    "  'asthma', 'COPD', 'cirrhosis', 'sepsis',\n",
    "  'HIV', 'HBV', 'COVID',\n",
    "  'BRCA', 'NPC', 'HNSCC', 'CRC'\n",
    ")\n",
    "\n",
    "# Convert columns to factors with specified levels\n",
    "tf_df <- tf_df %>%\n",
    "  mutate(\n",
    "    cell_type = factor(cell_type, levels = cell_type_order),\n",
    "    tf = factor(tf, levels = tf_order),\n",
    "    disease = factor(disease, levels = disease_order)\n",
    "  )\n",
    "\n",
    "# Order the data frame by cell_type, tf, and disease\n",
    "tf_df <- tf_df %>%\n",
    "  arrange(tf, cell_type, disease)\n",
    "\n",
    "tf_xx <-   xx[row_order, rownames(tf_df)]\n",
    "tf_xx <- tf_xx[rowSums(is.na(tf_xx)) != ncol(tf_xx), ]\n",
    "\n",
    "figure_path <- paste0(outputpath, \"TF_genes_heatmap_\", tf_name, lmm,\".pdf\")\n",
    "pdf(figure_path, width = 15, height = 12)\n",
    "a <- pheatmap::pheatmap(\n",
    "    tf_xx,\n",
    "    border_color = NA,\n",
    "    na_col = \"white\",\n",
    "    color = my_color,\n",
    "    breaks = my_breaks,\n",
    "    annotation_colors = my_colour_annot,\n",
    "    cluster_cols = FALSE,\n",
    "    cluster_rows = FALSE,\n",
    "    cellheight = 10,\n",
    "    cellwidth = 10,\n",
    "    annotation_col = tf_df,\n",
    "    cex = 1,\n",
    "    fontsize = 9,\n",
    "    labels_col = tf_df$disease,\n",
    "    filename = figure_path,\n",
    "    main = \"IFN_response\",\n",
    "    gaps_row = c(11,13,14),\n",
    "    #gaps_col = c(5, 7, 9, 14, 20)\n",
    "    gaps_col = c(9, 13, 20, 30, 38)\n",
    "    )\n",
    "print(a)\n",
    "dev.off()"
   ]
  },
  {
   "cell_type": "markdown",
   "id": "74b2363c-2ac6-484c-a596-9f2df1f418cf",
   "metadata": {},
   "source": [
    "### SP1"
   ]
  },
  {
   "cell_type": "code",
   "execution_count": 18,
   "id": "05ab5065-b24c-4017-aaef-5b90cf7742e4",
   "metadata": {
    "execution": {
     "iopub.execute_input": "2024-07-05T12:39:03.083707Z",
     "iopub.status.busy": "2024-07-05T12:39:03.082612Z",
     "iopub.status.idle": "2024-07-05T12:39:03.091064Z",
     "shell.execute_reply": "2024-07-05T12:39:03.089894Z"
    }
   },
   "outputs": [],
   "source": [
    "row_order <- c('GAPDH', 'ACTB', 'S100A6', 'IFITM3', 'ISG20','FTH1',\n",
    "'OAS1',   'MX2', \n",
    "               \n",
    "'MT2A',\n",
    "               \n",
    "'S100A10',  \n",
    "               \n",
    "'COX4I1', 'VIM',\n",
    "                             \n",
    "'LGALS1',\n",
    "               \n",
    "'FBP1', 'S100A8', 'TYMP', 'TIMP1', 'LGALS3', 'ITGAX', 'SLC11A1', 'SPI1', 'PSAP', 'STXBP2', 'TKT', 'FGL2', 'LYZ', 'TNFSF13', 'TSPO', 'GSTP1', 'FOS',\"SERPINA1\", \n",
    "\n",
    "'CALM1', 'SRSF7','FUS', \n",
    "               \n",
    "'RAC2',\n",
    "               \n",
    "'ADGRG1')"
   ]
  },
  {
   "cell_type": "code",
   "execution_count": 25,
   "id": "4934508c-d14a-4297-93a6-b343786735a8",
   "metadata": {
    "execution": {
     "iopub.execute_input": "2024-07-05T12:57:56.013540Z",
     "iopub.status.busy": "2024-07-05T12:57:56.012451Z",
     "iopub.status.idle": "2024-07-05T12:57:56.021022Z",
     "shell.execute_reply": "2024-07-05T12:57:56.019837Z"
    }
   },
   "outputs": [],
   "source": [
    "row_order <- c('GAPDH', 'ACTB', 'S100A6', 'IFITM3', 'ISG20','FTH1',\n",
    "'OAS1',   'MX2', 'MT2A',\n",
    "               \n",
    "\n",
    "'RAC2',\n",
    "'CALM1', 'SRSF7','FUS', \n",
    "\n",
    "               'ADGRG1', \n",
    "               \n",
    " 'LGALS1',\n",
    "               \n",
    "'COX4I1', 'VIM',\n",
    "   'S100A10',                           \n",
    "\n",
    "               \n",
    "'FBP1', 'S100A8', 'TYMP', 'TIMP1', 'LGALS3', 'ITGAX', 'SLC11A1', 'SPI1', 'PSAP', 'STXBP2', 'TKT', 'FGL2', 'LYZ', 'TNFSF13', 'TSPO', 'GSTP1',\n",
    "               'FOS',\"SERPINA1\"\n",
    "\n",
    "\n",
    "               \n",
    "\n",
    "               \n",
    "\n",
    "              )"
   ]
  },
  {
   "cell_type": "code",
   "execution_count": 26,
   "id": "bdb5833c-f00d-44ff-83d0-d87cc97f0d58",
   "metadata": {
    "execution": {
     "iopub.execute_input": "2024-07-05T12:57:56.961855Z",
     "iopub.status.busy": "2024-07-05T12:57:56.960805Z",
     "iopub.status.idle": "2024-07-05T12:57:57.158141Z",
     "shell.execute_reply": "2024-07-05T12:57:57.156938Z"
    }
   },
   "outputs": [
    {
     "data": {
      "text/html": [
       "<strong>pdf:</strong> 4"
      ],
      "text/latex": [
       "\\textbf{pdf:} 4"
      ],
      "text/markdown": [
       "**pdf:** 4"
      ],
      "text/plain": [
       "pdf \n",
       "  4 "
      ]
     },
     "metadata": {},
     "output_type": "display_data"
    }
   ],
   "source": [
    "tf_name <- \"SP1\"\n",
    "tf_df <- tf_list[[tf_name]]\n",
    "\n",
    "cell_type_order <- c(\"Mono\", \"T_CD8_NonNaive\",  \"T_CD4_Naive\",\"ILC\")\n",
    "tf_order <- c(\"STAT1\", \"SP1\")\n",
    "disease_order <- c(\n",
    "    'SLE',\"flu\",\n",
    "  'RA', 'PS', 'PSA', 'CD', 'UC',  'MS',\n",
    "  'asthma', 'COPD', 'cirrhosis', 'sepsis',\n",
    "  'HIV', 'HBV', 'COVID',\n",
    "  'BRCA', 'NPC', 'HNSCC', 'CRC'\n",
    ")\n",
    "\n",
    "# Convert columns to factors with specified levels\n",
    "tf_df <- tf_df %>%\n",
    "  mutate(\n",
    "    cell_type = factor(cell_type, levels = cell_type_order),\n",
    "    tf = factor(tf, levels = tf_order),\n",
    "    disease = factor(disease, levels = disease_order)\n",
    "  )\n",
    "\n",
    "# Order the data frame by cell_type, tf, and disease\n",
    "tf_df <- tf_df %>%\n",
    "  arrange(tf, cell_type, disease)\n",
    "\n",
    "tf_xx <-   xx[row_order, rownames(tf_df)]\n",
    "tf_xx <- tf_xx[rowSums(is.na(tf_xx)) != ncol(tf_xx), ]\n",
    "\n",
    "figure_path <- paste0(outputpath, \"TF_genes_heatmap_\", tf_name, lmm,\".pdf\")\n",
    "pdf(figure_path, width = 15, height = 12)\n",
    "a <- pheatmap::pheatmap(\n",
    "    tf_xx,\n",
    "    border_color = NA,\n",
    "    na_col = \"white\",\n",
    "    color = my_color,\n",
    "    breaks = my_breaks,\n",
    "    annotation_colors = my_colour_annot,\n",
    "    cluster_cols = FALSE,\n",
    "    cluster_rows = FALSE,\n",
    "    cellheight = 10,\n",
    "    cellwidth = 10,\n",
    "    annotation_col = tf_df,\n",
    "    cex = 1,\n",
    "    fontsize = 9,\n",
    "    labels_col = tf_df$disease,\n",
    "    filename = figure_path,\n",
    "    main = \"IFN_response\",\n",
    "    #gaps_row = c(9,10,12,13,14,32,35),\n",
    "    gaps_row = c(9,10,13,14, 18),\n",
    "    #gaps_col = c(5,8, 10)\n",
    "    gaps_col = c(10,15, 20)\n",
    "    )\n",
    "print(a)\n",
    "dev.off()"
   ]
  },
  {
   "cell_type": "code",
   "execution_count": 80,
   "id": "2d8f2746-fc8b-4848-bec8-9ea47afa6dc0",
   "metadata": {
    "execution": {
     "iopub.execute_input": "2024-06-25T11:39:20.947924Z",
     "iopub.status.busy": "2024-06-25T11:39:20.946867Z",
     "iopub.status.idle": "2024-06-25T11:39:21.534704Z",
     "shell.execute_reply": "2024-06-25T11:39:21.533583Z"
    }
   },
   "outputs": [
    {
     "data": {
      "text/html": [
       "<strong>pdf:</strong> 4"
      ],
      "text/latex": [
       "\\textbf{pdf:} 4"
      ],
      "text/markdown": [
       "**pdf:** 4"
      ],
      "text/plain": [
       "pdf \n",
       "  4 "
      ]
     },
     "metadata": {},
     "output_type": "display_data"
    }
   ],
   "source": [
    "tf_name <- \"SP1\"\n",
    "tf_df <- tf_list[[tf_name]]\n",
    "\n",
    "cell_type_order <- c(\"T_CD8_Naive\",\"Plasma\", \"pDC\", \"DC\", \"Mono\", \"T_CD8_NonNaive\", \"T_CD4_Naive\", \"ILC\")\n",
    "tf_order <- c(\"STAT1\", \"SP1\")\n",
    "disease_order <- c(\n",
    "    'SLE',\"flu\",\n",
    "  'RA', 'PS', 'PSA', 'CD', 'UC',  'MS',\n",
    "  'asthma', 'COPD', 'cirrhosis', 'sepsis',\n",
    "  'HIV', 'HBV', 'COVID',\n",
    "  'BRCA', 'NPC', 'HNSCC', 'CRC'\n",
    ")\n",
    "\n",
    "# Convert columns to factors with specified levels\n",
    "tf_df <- tf_df %>%\n",
    "  mutate(\n",
    "    cell_type = factor(cell_type, levels = cell_type_order),\n",
    "    tf = factor(tf, levels = tf_order),\n",
    "    disease = factor(disease, levels = disease_order)\n",
    "  )\n",
    "\n",
    "# Order the data frame by cell_type, tf, and disease\n",
    "tf_df <- tf_df %>%\n",
    "  arrange(tf, cell_type, disease)\n",
    "\n",
    "tf_xx <-   xx[row_order, rownames(tf_df)]\n",
    "tf_xx <- tf_xx[rowSums(is.na(tf_xx)) != ncol(tf_xx), ]\n",
    "tf_xx[is.na(tf_xx)] <- -15\n",
    "\n",
    "figure_path <- paste0(outputpath, \"TF_genes_heatmap_\", tf_name, lmm,\"2.pdf\")\n",
    "pdf(figure_path, width = 15, height = 12)\n",
    "a <- pheatmap::pheatmap(\n",
    "    tf_xx,\n",
    "    border_color = \"black\",\n",
    "    na_col = \"black\",\n",
    "    color = my_color,\n",
    "    breaks = my_breaks,\n",
    "    annotation_colors = my_colour_annot,\n",
    "    cluster_cols = FALSE,\n",
    "    cluster_rows = TRUE,\n",
    "    cellheight = 10,\n",
    "    cellwidth = 10,\n",
    "    annotation_col = tf_df,\n",
    "    cex = 1,\n",
    "    fontsize = 9,\n",
    "    labels_col = tf_df$disease,\n",
    "    filename = figure_path,\n",
    "    main = \"IFN_response\",\n",
    "    #gaps_row = c(6,8,9,15,32,35),\n",
    "    gaps_col = c(5,8,10)\n",
    "    )\n",
    "print(a)\n",
    "dev.off()"
   ]
  }
 ],
 "metadata": {
  "kernelspec": {
   "display_name": "R",
   "language": "R",
   "name": "ir"
  },
  "language_info": {
   "codemirror_mode": "r",
   "file_extension": ".r",
   "mimetype": "text/x-r-source",
   "name": "R",
   "pygments_lexer": "r",
   "version": "4.3.1"
  }
 },
 "nbformat": 4,
 "nbformat_minor": 5
}
