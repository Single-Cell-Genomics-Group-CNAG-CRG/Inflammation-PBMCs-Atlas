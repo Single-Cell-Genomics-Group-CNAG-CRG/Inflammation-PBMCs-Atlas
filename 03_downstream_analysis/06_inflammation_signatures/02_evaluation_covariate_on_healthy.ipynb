{
 "cells": [
  {
   "cell_type": "code",
   "execution_count": 1,
   "id": "073342a0-cee6-41e5-9cad-acd35ca671dc",
   "metadata": {
    "execution": {
     "iopub.execute_input": "2024-07-03T18:11:31.008006Z",
     "iopub.status.busy": "2024-07-03T18:11:31.007853Z",
     "iopub.status.idle": "2024-07-03T18:11:34.140528Z",
     "shell.execute_reply": "2024-07-03T18:11:34.139971Z",
     "shell.execute_reply.started": "2024-07-03T18:11:31.007987Z"
    }
   },
   "outputs": [],
   "source": [
    "# General modules\n",
    "import sys\n",
    "import os\n",
    "import session_info\n",
    "import warnings\n",
    "from pyprojroot.here import here\n",
    "import glob\n",
    "import pandas as pd\n",
    "import numpy as np\n",
    "import matplotlib.pyplot as plt\n",
    "import matplotlib.lines as plines\n",
    "import matplotlib.colors as mcolors\n",
    "from IPython.display import display\n",
    "from matplotlib.backends.backend_pdf import PdfPages\n",
    "from matplotlib.lines import Line2D  # for legend handle\n",
    "\n",
    "# Specific modules\n",
    "import scanpy as sc\n",
    "import decoupler as dc\n",
    "import anndata as ad\n",
    "import scienceplots\n",
    "\n",
    "# Setting some parameters\n",
    "warnings.filterwarnings(\"ignore\")\n",
    "\n",
    "# Import functions\n",
    "sys.path.insert(1, str(here('bin')))\n",
    "from customPalette import *\n",
    "from customPythonFunctions import mean_by_category, filter_low_represented_cell_group, RelativeDiff_mean_by_category, mscatter, aggregating_features\n",
    "\n",
    "plt.style.use(['nature'])\n",
    "dpi_fig_save = 300\n",
    "sc.set_figure_params(dpi=100, dpi_save=dpi_fig_save, vector_friendly=True)\n",
    "\n",
    "overwriteFigures = True\n",
    "overwriteData = True\n",
    "\n",
    "pd.options.display.max_columns = 300\n",
    "pd.options.display.max_rows = 1000"
   ]
  },
  {
   "cell_type": "code",
   "execution_count": 2,
   "id": "a6532700-436a-411e-9897-5b0761fc21b7",
   "metadata": {
    "execution": {
     "iopub.execute_input": "2024-07-03T18:11:34.141571Z",
     "iopub.status.busy": "2024-07-03T18:11:34.141306Z",
     "iopub.status.idle": "2024-07-03T18:11:34.583243Z",
     "shell.execute_reply": "2024-07-03T18:11:34.582669Z",
     "shell.execute_reply.started": "2024-07-03T18:11:34.141551Z"
    }
   },
   "outputs": [],
   "source": [
    "import statsmodels.api as sm\n",
    "import statsmodels.formula.api as smf\n",
    "import statsmodels.api as sm\n",
    "import statsmodels.stats.multitest as smm\n",
    "import patsy"
   ]
  },
  {
   "cell_type": "code",
   "execution_count": 3,
   "id": "454cc830-22e8-4663-a111-8b11e3da7507",
   "metadata": {
    "execution": {
     "iopub.execute_input": "2024-07-03T18:11:34.585016Z",
     "iopub.status.busy": "2024-07-03T18:11:34.584653Z",
     "iopub.status.idle": "2024-07-03T18:11:34.588915Z",
     "shell.execute_reply": "2024-07-03T18:11:34.588555Z",
     "shell.execute_reply.started": "2024-07-03T18:11:34.584997Z"
    }
   },
   "outputs": [
    {
     "name": "stdout",
     "output_type": "stream",
     "text": [
      "Main directory path: /scratch_isilon/groups/singlecell/shared/projects/Inflammation-PBMCs-Atlas\n"
     ]
    }
   ],
   "source": [
    "print(\"Main directory path: {}\".format(here()))"
   ]
  },
  {
   "cell_type": "code",
   "execution_count": 4,
   "id": "d8d6312d-382a-4355-9cb5-0c2c37bcf905",
   "metadata": {
    "execution": {
     "iopub.execute_input": "2024-07-03T18:11:34.589558Z",
     "iopub.status.busy": "2024-07-03T18:11:34.589411Z",
     "iopub.status.idle": "2024-07-03T18:11:34.599785Z",
     "shell.execute_reply": "2024-07-03T18:11:34.599428Z",
     "shell.execute_reply.started": "2024-07-03T18:11:34.589543Z"
    }
   },
   "outputs": [],
   "source": [
    "n_min_obs = 3"
   ]
  },
  {
   "cell_type": "code",
   "execution_count": 5,
   "id": "8c951713-2b78-4e37-9de1-c6b7e927b273",
   "metadata": {
    "execution": {
     "iopub.execute_input": "2024-07-03T18:11:34.600438Z",
     "iopub.status.busy": "2024-07-03T18:11:34.600293Z",
     "iopub.status.idle": "2024-07-03T18:11:34.620776Z",
     "shell.execute_reply": "2024-07-03T18:11:34.620420Z",
     "shell.execute_reply.started": "2024-07-03T18:11:34.600424Z"
    }
   },
   "outputs": [],
   "source": [
    "methodList = ['pinv','qr']"
   ]
  },
  {
   "cell_type": "markdown",
   "id": "31bfaf3c-78bf-48d8-8f39-a99c9f208425",
   "metadata": {},
   "source": [
    "# Evaluate covariates on healthy - Level1\n",
    "\n",
    "Reference: https://www.statsmodels.org/stable/api.html#api-reference"
   ]
  },
  {
   "cell_type": "markdown",
   "id": "370c72c4-9996-476d-961c-fbe79e4ab176",
   "metadata": {},
   "source": [
    "## Corrected"
   ]
  },
  {
   "cell_type": "code",
   "execution_count": 6,
   "id": "725b70e7-a48d-40be-bde8-2fcc668f79ce",
   "metadata": {
    "execution": {
     "iopub.execute_input": "2024-07-03T18:11:34.621445Z",
     "iopub.status.busy": "2024-07-03T18:11:34.621296Z",
     "iopub.status.idle": "2024-07-03T18:11:34.683977Z",
     "shell.execute_reply": "2024-07-03T18:11:34.683564Z",
     "shell.execute_reply.started": "2024-07-03T18:11:34.621431Z"
    }
   },
   "outputs": [
    {
     "name": "stdout",
     "output_type": "stream",
     "text": [
      "Mono\n",
      "39-X-Mono-X-IFNG_response\n"
     ]
    }
   ],
   "source": [
    "summary_UMLeval_list = []\n",
    "\n",
    "for celltype in [\"Mono\"]:\n",
    "    print(celltype)\n",
    "\n",
    "    # Load data\n",
    "    anndata_path = here('03_downstream_analysis/06_inflammation_signatures/results/DecoupleR_ulmestimates_{}_L1_Corr.h5ad'.format(celltype))\n",
    "    actsPS = ad.read_h5ad(anndata_path)\n",
    "    actsPS = actsPS[(actsPS.obs[\"disease\"].isin([\"healthy\"]))]\n",
    "    \n",
    "    actsPS = actsPS[:, [var for var in actsPS.var_names if 'X-global-X' not in var]].copy()\n",
    "    actsPS.obsm[\"ulm_estimate\"] = actsPS.obsm[\"ulm_estimate\"][[var for var in actsPS.var_names if 'X-global-X' not in var]]\n",
    "    actsPS.obsm[\"ulm_pvals\"] = actsPS.obsm[\"ulm_pvals\"][[var for var in actsPS.var_names if 'X-global-X' not in var]]\n",
    "\n",
    "\n",
    "    # Prepare data\n",
    "    factor_list = actsPS.var_names.to_list()\n",
    "    actsPS_df = pd.DataFrame(actsPS.X, index=actsPS.obs.index, columns=factor_list)\n",
    "    covariates = actsPS.obs[['studyID', 'disease', 'chemistry', 'sex', 'binned_age']]\n",
    "    actsPS_covar_df = pd.merge(actsPS_df, covariates, left_index=True, right_index=True)\n",
    "    \n",
    "    # Encode categorical variables\n",
    "    actsPS_covar_df['disease'] = actsPS_covar_df['disease'].astype('category')\n",
    "    actsPS_covar_df['chemistry'] = actsPS_covar_df['chemistry'].astype('category')\n",
    "    actsPS_covar_df['sex'] = actsPS_covar_df['sex'].astype('category')\n",
    "    actsPS_covar_df['binned_age'] = actsPS_covar_df['binned_age'].astype('category')\n",
    "    \n",
    "    actsPS_covar_df['disease'] = actsPS_covar_df['disease'].cat.remove_unused_categories()\n",
    "    actsPS_covar_df['chemistry'] = actsPS_covar_df['chemistry'].cat.remove_unused_categories()\n",
    "    actsPS_covar_df['sex'] = actsPS_covar_df['sex'].cat.remove_unused_categories()\n",
    "    actsPS_covar_df['binned_age'] = actsPS_covar_df['binned_age'].cat.remove_unused_categories()\n",
    "    \n",
    "    # Fit Mixed Linear Model per each factor\n",
    "    factor = factor_list[0]\n",
    "    print(factor)\n",
    "    \n",
    "    actsPS_covar_df_sub = actsPS_covar_df[['disease', 'chemistry', 'studyID', 'sex', 'binned_age', factor]]"
   ]
  },
  {
   "cell_type": "code",
   "execution_count": 7,
   "id": "8b79b359-ea5c-4ab5-a9cf-75a0c1598138",
   "metadata": {
    "execution": {
     "iopub.execute_input": "2024-07-03T18:11:34.684758Z",
     "iopub.status.busy": "2024-07-03T18:11:34.684600Z",
     "iopub.status.idle": "2024-07-03T18:11:34.729928Z",
     "shell.execute_reply": "2024-07-03T18:11:34.729526Z",
     "shell.execute_reply.started": "2024-07-03T18:11:34.684742Z"
    }
   },
   "outputs": [
    {
     "name": "stdout",
     "output_type": "stream",
     "text": [
      "                   Mixed Linear Model Regression Results\n",
      "============================================================================\n",
      "Model:            MixedLM Dependent Variable: Q('39-X-Mono-X-IFNG_response')\n",
      "No. Observations: 270     Method:             REML                          \n",
      "No. Groups:       12      Scale:              2.5647                        \n",
      "Min. group size:  1       Log-Likelihood:     -513.8270                     \n",
      "Max. group size:  133     Converged:          Yes                           \n",
      "Mean group size:  22.5                                                      \n",
      "-----------------------------------------------------------------------------\n",
      "                              Coef.   Std.Err.    z     P>|z|  [0.025  0.975]\n",
      "-----------------------------------------------------------------------------\n",
      "Intercept                     -0.222     0.638  -0.348  0.728  -1.472   1.029\n",
      "C(chemistry)[T.3_GEX_V3]      -0.305     0.974  -0.313  0.754  -2.213   1.603\n",
      "C(chemistry)[T.5_GEX_V1]       0.528     1.162   0.454  0.650  -1.751   2.806\n",
      "C(chemistry)[T.5_GEX_V2]       0.472     1.088   0.434  0.665  -1.661   2.604\n",
      "C(sex)[T.male]                -0.340     0.253  -1.344  0.179  -0.837   0.156\n",
      "C(binned_age)[T.31-40]        -0.485     0.294  -1.649  0.099  -1.062   0.092\n",
      "C(binned_age)[T.41-50]        -1.176     0.363  -3.242  0.001  -1.887  -0.465\n",
      "C(binned_age)[T.51-60]        -0.495     0.353  -1.402  0.161  -1.188   0.197\n",
      "C(binned_age)[T.61-70]        -0.202     0.354  -0.571  0.568  -0.896   0.492\n",
      "C(binned_age)[T.71-80]        -1.058     0.358  -2.953  0.003  -1.761  -0.356\n",
      "C(binned_age)[T.>80]          -0.100     1.206  -0.083  0.934  -2.463   2.263\n",
      "Group Var                      1.364     0.590                               \n",
      "============================================================================\n",
      "\n"
     ]
    }
   ],
   "source": [
    "formula = f\"Q('{factor}') ~ C(chemistry) + C(sex) + C(binned_age)\"\n",
    "model = smf.mixedlm(formula, actsPS_covar_df_sub, groups = actsPS_covar_df_sub['studyID'] ).fit()             \n",
    "\n",
    "print(model.summary())"
   ]
  },
  {
   "cell_type": "code",
   "execution_count": 12,
   "id": "e8582b1e-f985-468c-b8d8-a0be44b421ae",
   "metadata": {
    "execution": {
     "iopub.execute_input": "2024-07-03T18:13:39.245171Z",
     "iopub.status.busy": "2024-07-03T18:13:39.244623Z",
     "iopub.status.idle": "2024-07-03T18:13:39.288166Z",
     "shell.execute_reply": "2024-07-03T18:13:39.287456Z",
     "shell.execute_reply.started": "2024-07-03T18:13:39.245148Z"
    }
   },
   "outputs": [
    {
     "name": "stdout",
     "output_type": "stream",
     "text": [
      "                   Mixed Linear Model Regression Results\n",
      "============================================================================\n",
      "Model:            MixedLM Dependent Variable: Q('39-X-Mono-X-IFNG_response')\n",
      "No. Observations: 270     Method:             REML                          \n",
      "No. Groups:       12      Scale:              2.4686                        \n",
      "Min. group size:  1       Log-Likelihood:     -510.2445                     \n",
      "Max. group size:  133     Converged:          Yes                           \n",
      "Mean group size:  22.5                                                      \n",
      "------------------------------------------------------------------------------\n",
      "                          Coef.    Std.Err.     z      P>|z|   [0.025   0.975]\n",
      "------------------------------------------------------------------------------\n",
      "Intercept                 -0.199      0.348   -0.573   0.567   -0.881    0.482\n",
      "C(binned_age)[T.31-40]    -0.373      0.288   -1.296   0.195   -0.936    0.191\n",
      "C(binned_age)[T.41-50]    -1.211      0.353   -3.429   0.001   -1.903   -0.519\n",
      "C(binned_age)[T.51-60]    -0.630      0.344   -1.834   0.067   -1.304    0.043\n",
      "C(binned_age)[T.61-70]    -0.288      0.345   -0.835   0.404   -0.965    0.388\n",
      "C(binned_age)[T.71-80]    -1.222      0.348   -3.511   0.000   -1.905   -0.540\n",
      "C(binned_age)[T.>80]      -1.064      1.175   -0.906   0.365   -3.366    1.238\n",
      "Group Var                  0.618      0.260                                   \n",
      "============================================================================\n",
      "\n"
     ]
    }
   ],
   "source": [
    "formula = f\"Q('{factor}') ~ C(binned_age)\"\n",
    "model = smf.mixedlm(formula, actsPS_covar_df_sub, groups = actsPS_covar_df_sub['studyID'] ).fit()             \n",
    "\n",
    "print(model.summary())"
   ]
  },
  {
   "cell_type": "markdown",
   "id": "35bf001b-a7a0-46d0-b94e-23273f042b35",
   "metadata": {},
   "source": [
    "## UnCorrected"
   ]
  },
  {
   "cell_type": "code",
   "execution_count": 9,
   "id": "e8bbceed-c6ff-40ca-9128-4ec3ae193f31",
   "metadata": {
    "execution": {
     "iopub.execute_input": "2024-07-03T18:11:34.768274Z",
     "iopub.status.busy": "2024-07-03T18:11:34.768115Z",
     "iopub.status.idle": "2024-07-03T18:11:34.815016Z",
     "shell.execute_reply": "2024-07-03T18:11:34.814613Z",
     "shell.execute_reply.started": "2024-07-03T18:11:34.768259Z"
    }
   },
   "outputs": [
    {
     "name": "stdout",
     "output_type": "stream",
     "text": [
      "Mono\n",
      "39-X-Mono-X-IFNG_response\n"
     ]
    }
   ],
   "source": [
    "for celltype in [\"Mono\"]:\n",
    "    print(celltype)\n",
    "\n",
    "    # Load data\n",
    "    anndata_path = here('03_downstream_analysis/06_inflammation_signatures/results/DecoupleR_ulmestimates_{}_L1_UnCorr.h5ad'.format(celltype))\n",
    "    actsPS = ad.read_h5ad(anndata_path)\n",
    "    actsPS = actsPS[(actsPS.obs[\"disease\"].isin([\"healthy\"]))]\n",
    "    \n",
    "    actsPS = actsPS[:, [var for var in actsPS.var_names if 'X-global-X' not in var]].copy()\n",
    "    actsPS.obsm[\"ulm_estimate\"] = actsPS.obsm[\"ulm_estimate\"][[var for var in actsPS.var_names if 'X-global-X' not in var]]\n",
    "    actsPS.obsm[\"ulm_pvals\"] = actsPS.obsm[\"ulm_pvals\"][[var for var in actsPS.var_names if 'X-global-X' not in var]]\n",
    "\n",
    "\n",
    "    # Prepare data\n",
    "    factor_list = actsPS.var_names.to_list()\n",
    "    actsPS_df = pd.DataFrame(actsPS.X, index=actsPS.obs.index, columns=factor_list)\n",
    "    covariates = actsPS.obs[['studyID', 'disease', 'chemistry', 'sex', 'binned_age']]\n",
    "    actsPS_covar_df = pd.merge(actsPS_df, covariates, left_index=True, right_index=True)\n",
    "    \n",
    "    # Encode categorical variables\n",
    "    actsPS_covar_df['disease'] = actsPS_covar_df['disease'].astype('category')\n",
    "    actsPS_covar_df['chemistry'] = actsPS_covar_df['chemistry'].astype('category')\n",
    "    actsPS_covar_df['sex'] = actsPS_covar_df['sex'].astype('category')\n",
    "    actsPS_covar_df['binned_age'] = actsPS_covar_df['binned_age'].astype('category')\n",
    "    \n",
    "    actsPS_covar_df['disease'] = actsPS_covar_df['disease'].cat.remove_unused_categories()\n",
    "    actsPS_covar_df['chemistry'] = actsPS_covar_df['chemistry'].cat.remove_unused_categories()\n",
    "    actsPS_covar_df['sex'] = actsPS_covar_df['sex'].cat.remove_unused_categories()\n",
    "    actsPS_covar_df['binned_age'] = actsPS_covar_df['binned_age'].cat.remove_unused_categories()\n",
    "    \n",
    "    # Fit Mixed Linear Model per each factor\n",
    "    factor = factor_list[0]\n",
    "    print(factor)\n",
    "    \n",
    "    actsPS_covar_df_sub = actsPS_covar_df[['disease', 'chemistry', 'studyID', 'sex', 'binned_age', factor]]\n",
    "    \n"
   ]
  },
  {
   "cell_type": "code",
   "execution_count": 10,
   "id": "d2b85636-8125-48c0-8e9f-1484840b95ad",
   "metadata": {
    "execution": {
     "iopub.execute_input": "2024-07-03T18:11:34.816595Z",
     "iopub.status.busy": "2024-07-03T18:11:34.816431Z",
     "iopub.status.idle": "2024-07-03T18:11:34.859236Z",
     "shell.execute_reply": "2024-07-03T18:11:34.858859Z",
     "shell.execute_reply.started": "2024-07-03T18:11:34.816579Z"
    }
   },
   "outputs": [
    {
     "name": "stdout",
     "output_type": "stream",
     "text": [
      "                   Mixed Linear Model Regression Results\n",
      "============================================================================\n",
      "Model:            MixedLM Dependent Variable: Q('39-X-Mono-X-IFNG_response')\n",
      "No. Observations: 270     Method:             REML                          \n",
      "No. Groups:       12      Scale:              2.4657                        \n",
      "Min. group size:  1       Log-Likelihood:     -507.6731                     \n",
      "Max. group size:  133     Converged:          Yes                           \n",
      "Mean group size:  22.5                                                      \n",
      "-----------------------------------------------------------------------------\n",
      "                              Coef.   Std.Err.    z     P>|z|  [0.025  0.975]\n",
      "-----------------------------------------------------------------------------\n",
      "Intercept                     -0.214     0.550  -0.389  0.697  -1.292   0.864\n",
      "C(chemistry)[T.3_GEX_V3]       0.223     0.830   0.269  0.788  -1.403   1.849\n",
      "C(chemistry)[T.5_GEX_V1]       0.319     0.991   0.322  0.747  -1.622   2.261\n",
      "C(chemistry)[T.5_GEX_V2]       0.371     0.925   0.401  0.689  -1.442   2.183\n",
      "C(sex)[T.male]                -0.325     0.248  -1.312  0.189  -0.811   0.160\n",
      "C(binned_age)[T.31-40]        -0.406     0.288  -1.409  0.159  -0.971   0.159\n",
      "C(binned_age)[T.41-50]        -1.221     0.355  -3.441  0.001  -1.917  -0.526\n",
      "C(binned_age)[T.51-60]        -0.660     0.347  -1.904  0.057  -1.339   0.019\n",
      "C(binned_age)[T.61-70]        -0.297     0.347  -0.858  0.391  -0.976   0.382\n",
      "C(binned_age)[T.71-80]        -1.244     0.351  -3.545  0.000  -1.932  -0.556\n",
      "C(binned_age)[T.>80]          -1.061     1.180  -0.899  0.368  -3.373   1.251\n",
      "Group Var                      0.907     0.421                               \n",
      "============================================================================\n",
      "\n"
     ]
    }
   ],
   "source": [
    "formula = f\"Q('{factor}') ~ C(chemistry) + C(sex) + C(binned_age)\"\n",
    "model = smf.mixedlm(formula, actsPS_covar_df_sub, groups = actsPS_covar_df_sub['studyID'] ).fit()             \n",
    "\n",
    "print(model.summary())"
   ]
  },
  {
   "cell_type": "code",
   "execution_count": 11,
   "id": "309ecfd7",
   "metadata": {
    "execution": {
     "iopub.execute_input": "2024-07-03T18:11:34.859923Z",
     "iopub.status.busy": "2024-07-03T18:11:34.859771Z",
     "iopub.status.idle": "2024-07-03T18:11:34.895858Z",
     "shell.execute_reply": "2024-07-03T18:11:34.895493Z",
     "shell.execute_reply.started": "2024-07-03T18:11:34.859907Z"
    }
   },
   "outputs": [
    {
     "name": "stdout",
     "output_type": "stream",
     "text": [
      "                   Mixed Linear Model Regression Results\n",
      "============================================================================\n",
      "Model:            MixedLM Dependent Variable: Q('39-X-Mono-X-IFNG_response')\n",
      "No. Observations: 270     Method:             REML                          \n",
      "No. Groups:       12      Scale:              2.5874                        \n",
      "Min. group size:  1       Log-Likelihood:     -517.2048                     \n",
      "Max. group size:  133     Converged:          Yes                           \n",
      "Mean group size:  22.5                                                      \n",
      "-----------------------------------------------------------------------------\n",
      "                              Coef.   Std.Err.    z     P>|z|  [0.025  0.975]\n",
      "-----------------------------------------------------------------------------\n",
      "Intercept                     -0.794     0.569  -1.394  0.163  -1.910   0.322\n",
      "C(chemistry)[T.3_GEX_V3]      -0.020     0.905  -0.022  0.983  -1.794   1.755\n",
      "C(chemistry)[T.5_GEX_V1]      -0.065     1.077  -0.060  0.952  -2.176   2.047\n",
      "C(chemistry)[T.5_GEX_V2]       0.058     1.012   0.057  0.955  -1.926   2.042\n",
      "Group Var                      1.147     0.491                               \n",
      "============================================================================\n",
      "\n"
     ]
    }
   ],
   "source": [
    "formula = f\"Q('{factor}') ~  C(chemistry)\"\n",
    "model = smf.mixedlm(formula, actsPS_covar_df_sub, groups = actsPS_covar_df_sub['studyID'] ).fit()             \n",
    "\n",
    "print(model.summary())"
   ]
  }
 ],
 "metadata": {
  "kernelspec": {
   "display_name": "Python 3 (ipykernel)",
   "language": "python",
   "name": "python3"
  },
  "language_info": {
   "codemirror_mode": {
    "name": "ipython",
    "version": 3
   },
   "file_extension": ".py",
   "mimetype": "text/x-python",
   "name": "python",
   "nbconvert_exporter": "python",
   "pygments_lexer": "ipython3",
   "version": "3.10.13"
  }
 },
 "nbformat": 4,
 "nbformat_minor": 5
}
