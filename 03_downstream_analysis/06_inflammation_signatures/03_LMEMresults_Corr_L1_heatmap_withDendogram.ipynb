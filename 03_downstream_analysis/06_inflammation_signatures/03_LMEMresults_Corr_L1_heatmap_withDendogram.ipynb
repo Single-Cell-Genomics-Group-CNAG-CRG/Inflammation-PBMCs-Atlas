{
 "cells": [
  {
   "cell_type": "code",
   "execution_count": 58,
   "id": "66e06c26-8335-49c8-996e-fe317a529567",
   "metadata": {
    "execution": {
     "iopub.execute_input": "2024-08-27T09:55:02.441228Z",
     "iopub.status.busy": "2024-08-27T09:55:02.440125Z",
     "iopub.status.idle": "2024-08-27T09:55:02.731076Z",
     "shell.execute_reply": "2024-08-27T09:55:02.729786Z"
    }
   },
   "outputs": [],
   "source": [
    "suppressPackageStartupMessages(require(dplyr))\n",
    "suppressPackageStartupMessages(require(data.table))\n",
    "suppressPackageStartupMessages(require(RColorBrewer))\n",
    "suppressPackageStartupMessages(library(pheatmap))\n",
    "suppressPackageStartupMessages(library(tidyr))\n",
    "suppressPackageStartupMessages(library(purrr))\n",
    "suppressPackageStartupMessages(library(circlize))"
   ]
  },
  {
   "cell_type": "markdown",
   "id": "1bbc69bb-e185-41f0-a79e-a2e820e2e078",
   "metadata": {},
   "source": [
    "# Parameters"
   ]
  },
  {
   "cell_type": "code",
   "execution_count": 59,
   "id": "7de9e0d5-da18-4c9d-b816-d9a115d42db8",
   "metadata": {
    "execution": {
     "iopub.execute_input": "2024-08-27T09:55:13.226632Z",
     "iopub.status.busy": "2024-08-27T09:55:13.225545Z",
     "iopub.status.idle": "2024-08-27T09:55:13.249646Z",
     "shell.execute_reply": "2024-08-27T09:55:13.248272Z"
    }
   },
   "outputs": [],
   "source": [
    "# Input\n",
    "base_path <- \"/scratch_isilon/groups/singlecell/shared/projects/Inflammation-PBMCs-Atlas\"\n",
    "corrected_logFC_inputpath <- paste0(base_path, \"/03_downstream_analysis/06_inflammation_signatures/results/DecoupleR_ulmestimates_mixedmlEvalFilt_L1_Corr.csv\")\n",
    "corrected_logFC_NonFilt_inputpath <- paste0(base_path, \"/03_downstream_analysis/06_inflammation_signatures/results/DecoupleR_ulmestimates_mixedmlEval_L1_Corr.csv\")\n",
    "disease_metadata_inputpath <-  paste0(base_path,\"/03_downstream_analysis/06_inflammation_signatures/results/disease_metadata.csv\")\n",
    "\n",
    "# Arguments\n",
    "filter_by_pval <- 0.05\n",
    "\n",
    "width <- 10\n",
    "height <- 15\n",
    "resol <- 400\n",
    "cellheight <- 15\n",
    "cellwidth <- 20\n",
    "fontsize <- 12"
   ]
  },
  {
   "cell_type": "markdown",
   "id": "3958f7e0-96f3-4a9b-aa8f-1cc786fbed24",
   "metadata": {},
   "source": [
    "# Non filtered"
   ]
  },
  {
   "cell_type": "markdown",
   "id": "ad64e8c0-80e5-46cc-9d77-8b9b8de6f8bd",
   "metadata": {},
   "source": [
    "## Load"
   ]
  },
  {
   "cell_type": "code",
   "execution_count": 60,
   "id": "e267d3ec-392e-4808-8c5d-114a37330433",
   "metadata": {
    "execution": {
     "iopub.execute_input": "2024-08-27T09:55:13.252351Z",
     "iopub.status.busy": "2024-08-27T09:55:13.251400Z",
     "iopub.status.idle": "2024-08-27T09:55:13.342125Z",
     "shell.execute_reply": "2024-08-27T09:55:13.340916Z"
    }
   },
   "outputs": [],
   "source": [
    "# Load -------------------------\n",
    "metadata <- read.csv(disease_metadata_inputpath, header = TRUE, row.names = 1)\n",
    "correctedNoFilt_logFC <- read.csv(corrected_logFC_NonFilt_inputpath, header = TRUE)"
   ]
  },
  {
   "cell_type": "code",
   "execution_count": 61,
   "id": "121c0e47-1f7b-435d-8b38-572602024ba4",
   "metadata": {
    "execution": {
     "iopub.execute_input": "2024-08-27T09:55:13.344810Z",
     "iopub.status.busy": "2024-08-27T09:55:13.343849Z",
     "iopub.status.idle": "2024-08-27T09:55:13.354145Z",
     "shell.execute_reply": "2024-08-27T09:55:13.353012Z"
    }
   },
   "outputs": [
    {
     "name": "stdout",
     "output_type": "stream",
     "text": [
      "                                                    X  Coef. Std.Err.      z\n",
      "1  C(disease, Treatment(reference=\"healthy\"))[T.BRCA]  0.221    0.801  0.276\n",
      "2    C(disease, Treatment(reference=\"healthy\"))[T.CD] -0.670    0.270 -2.484\n",
      "3  C(disease, Treatment(reference=\"healthy\"))[T.COPD]  0.526    0.384  1.371\n",
      "4 C(disease, Treatment(reference=\"healthy\"))[T.COVID] -0.113    0.212 -0.533\n",
      "5   C(disease, Treatment(reference=\"healthy\"))[T.CRC] -0.172    0.741 -0.232\n",
      "6   C(disease, Treatment(reference=\"healthy\"))[T.HBV] -0.406    0.498 -0.814\n",
      "  P..z. X.0.025 X0.975. AnnotationLevel CellType\n",
      "1 0.783  -1.349   1.790          Level1        B\n",
      "2 0.013  -1.199  -0.141          Level1        B\n",
      "3 0.170  -0.226   1.278          Level1        B\n",
      "4 0.594  -0.529   0.303          Level1        B\n",
      "5 0.817  -1.624   1.280          Level1        B\n",
      "6 0.415  -1.383   0.571          Level1        B\n",
      "                                       FactorName disease  Pval_adj\n",
      "1 10-X-B-X-cytokine_and_receptors_proinflammatory    BRCA 0.9026079\n",
      "2 10-X-B-X-cytokine_and_receptors_proinflammatory      CD 0.0549000\n",
      "3 10-X-B-X-cytokine_and_receptors_proinflammatory    COPD 0.3688933\n",
      "4 10-X-B-X-cytokine_and_receptors_proinflammatory   COVID 0.7796916\n",
      "5 10-X-B-X-cytokine_and_receptors_proinflammatory     CRC 0.9205398\n",
      "6 10-X-B-X-cytokine_and_receptors_proinflammatory     HBV 0.6337552\n"
     ]
    }
   ],
   "source": [
    "print(head(correctedNoFilt_logFC))"
   ]
  },
  {
   "cell_type": "code",
   "execution_count": 62,
   "id": "8500c414-d20a-45a2-bc74-fa6fcc1a5d88",
   "metadata": {
    "execution": {
     "iopub.execute_input": "2024-08-27T09:55:13.356780Z",
     "iopub.status.busy": "2024-08-27T09:55:13.355849Z",
     "iopub.status.idle": "2024-08-27T09:55:13.369903Z",
     "shell.execute_reply": "2024-08-27T09:55:13.368734Z"
    }
   },
   "outputs": [
    {
     "data": {
      "text/html": [
       "<style>\n",
       ".list-inline {list-style: none; margin:0; padding: 0}\n",
       ".list-inline>li {display: inline-block}\n",
       ".list-inline>li:not(:last-child)::after {content: \"\\00b7\"; padding: 0 .5ex}\n",
       "</style>\n",
       "<ol class=list-inline><li>'BRCA'</li><li>'CD'</li><li>'COPD'</li><li>'COVID'</li><li>'CRC'</li><li>'HBV'</li><li>'HIV'</li><li>'HNSCC'</li><li>'MS'</li><li>'NPC'</li><li>'PS'</li><li>'PSA'</li><li>'RA'</li><li>'SLE'</li><li>'UC'</li><li>'asthma'</li><li>'cirrhosis'</li><li>'flu'</li><li>'sepsis'</li></ol>\n"
      ],
      "text/latex": [
       "\\begin{enumerate*}\n",
       "\\item 'BRCA'\n",
       "\\item 'CD'\n",
       "\\item 'COPD'\n",
       "\\item 'COVID'\n",
       "\\item 'CRC'\n",
       "\\item 'HBV'\n",
       "\\item 'HIV'\n",
       "\\item 'HNSCC'\n",
       "\\item 'MS'\n",
       "\\item 'NPC'\n",
       "\\item 'PS'\n",
       "\\item 'PSA'\n",
       "\\item 'RA'\n",
       "\\item 'SLE'\n",
       "\\item 'UC'\n",
       "\\item 'asthma'\n",
       "\\item 'cirrhosis'\n",
       "\\item 'flu'\n",
       "\\item 'sepsis'\n",
       "\\end{enumerate*}\n"
      ],
      "text/markdown": [
       "1. 'BRCA'\n",
       "2. 'CD'\n",
       "3. 'COPD'\n",
       "4. 'COVID'\n",
       "5. 'CRC'\n",
       "6. 'HBV'\n",
       "7. 'HIV'\n",
       "8. 'HNSCC'\n",
       "9. 'MS'\n",
       "10. 'NPC'\n",
       "11. 'PS'\n",
       "12. 'PSA'\n",
       "13. 'RA'\n",
       "14. 'SLE'\n",
       "15. 'UC'\n",
       "16. 'asthma'\n",
       "17. 'cirrhosis'\n",
       "18. 'flu'\n",
       "19. 'sepsis'\n",
       "\n",
       "\n"
      ],
      "text/plain": [
       " [1] \"BRCA\"      \"CD\"        \"COPD\"      \"COVID\"     \"CRC\"       \"HBV\"      \n",
       " [7] \"HIV\"       \"HNSCC\"     \"MS\"        \"NPC\"       \"PS\"        \"PSA\"      \n",
       "[13] \"RA\"        \"SLE\"       \"UC\"        \"asthma\"    \"cirrhosis\" \"flu\"      \n",
       "[19] \"sepsis\"   "
      ]
     },
     "metadata": {},
     "output_type": "display_data"
    }
   ],
   "source": [
    "unique(correctedNoFilt_logFC$disease)"
   ]
  },
  {
   "cell_type": "code",
   "execution_count": 63,
   "id": "3e2224aa-2b23-42a8-bd13-eddec0a0d740",
   "metadata": {
    "execution": {
     "iopub.execute_input": "2024-08-27T09:55:13.372630Z",
     "iopub.status.busy": "2024-08-27T09:55:13.371670Z",
     "iopub.status.idle": "2024-08-27T09:55:13.381549Z",
     "shell.execute_reply": "2024-08-27T09:55:13.380408Z"
    }
   },
   "outputs": [
    {
     "data": {
      "text/html": [
       "19"
      ],
      "text/latex": [
       "19"
      ],
      "text/markdown": [
       "19"
      ],
      "text/plain": [
       "[1] 19"
      ]
     },
     "metadata": {},
     "output_type": "display_data"
    }
   ],
   "source": [
    "length(unique(correctedNoFilt_logFC$disease))"
   ]
  },
  {
   "cell_type": "code",
   "execution_count": 64,
   "id": "70c07016-498f-4171-9afb-f46ca8cc4c3e",
   "metadata": {
    "execution": {
     "iopub.execute_input": "2024-08-27T09:55:13.384162Z",
     "iopub.status.busy": "2024-08-27T09:55:13.383247Z",
     "iopub.status.idle": "2024-08-27T09:55:13.392717Z",
     "shell.execute_reply": "2024-08-27T09:55:13.391576Z"
    }
   },
   "outputs": [
    {
     "data": {
      "text/html": [
       "119"
      ],
      "text/latex": [
       "119"
      ],
      "text/markdown": [
       "119"
      ],
      "text/plain": [
       "[1] 119"
      ]
     },
     "metadata": {},
     "output_type": "display_data"
    }
   ],
   "source": [
    "length(unique(correctedNoFilt_logFC$FactorName))"
   ]
  },
  {
   "cell_type": "code",
   "execution_count": 65,
   "id": "d67827d5-8640-4a0c-a625-3097867ca4f4",
   "metadata": {
    "execution": {
     "iopub.execute_input": "2024-08-27T09:55:13.395372Z",
     "iopub.status.busy": "2024-08-27T09:55:13.394434Z",
     "iopub.status.idle": "2024-08-27T09:55:13.403811Z",
     "shell.execute_reply": "2024-08-27T09:55:13.402681Z"
    }
   },
   "outputs": [
    {
     "name": "stdout",
     "output_type": "stream",
     "text": [
      "     disease         diseaseGroup\n",
      "0       BRCA          solid_tumor\n",
      "1         CD                IMIDs\n",
      "2       COPD chronic_inflammation\n",
      "3      COVID            infection\n",
      "4        CRC          solid_tumor\n",
      "5        HBV            infection\n",
      "6        HIV            infection\n",
      "7      HNSCC          solid_tumor\n",
      "8         MS                IMIDs\n",
      "9        NPC          solid_tumor\n",
      "10        PS                IMIDs\n",
      "11       PSA                IMIDs\n",
      "12        RA                IMIDs\n",
      "13       SLE                IMIDs\n",
      "14        UC                IMIDs\n",
      "15    asthma chronic_inflammation\n",
      "16 cirrhosis chronic_inflammation\n",
      "17       flu            infection\n",
      "18   healthy              healthy\n",
      "19    sepsis   acute_inflammation\n"
     ]
    }
   ],
   "source": [
    "#metadata <- metadata %>% filter(disease != \"BRCA\")\n",
    "print(metadata)"
   ]
  },
  {
   "cell_type": "code",
   "execution_count": 66,
   "id": "c7043b28-b9aa-42f6-8bc4-d4dd91e59c33",
   "metadata": {
    "execution": {
     "iopub.execute_input": "2024-08-27T09:55:13.410424Z",
     "iopub.status.busy": "2024-08-27T09:55:13.405580Z",
     "iopub.status.idle": "2024-08-27T09:55:13.417860Z",
     "shell.execute_reply": "2024-08-27T09:55:13.416703Z"
    }
   },
   "outputs": [],
   "source": [
    "signatures <- c('cytokine_and_receptors_proinflammatory',\n",
    "               'adhesion_molecules',\n",
    "               'antigen_presentation_molecules',\n",
    "               'CD8T_exhaustion',\n",
    "               'CD8T_tcr_activation',\n",
    "               'chemokines',\n",
    "               'chemokine_receptors',\n",
    "               #'cytokine_and_receptors__antiinflammatory',\n",
    "               'cytokine_andreceptors_antiinflammatory',\n",
    "               'IFN_Type_1_2_Lambda',\n",
    "               'IFN_response',\n",
    "               'TNF_receptors_ligands',\n",
    "               'antigen-crosspresentation',\n",
    "               'IFNG_response',\n",
    "               'IL4-IL13_response',\n",
    "               'CD4T_TH17_UP',\n",
    "               'CD4T_TH2_UP',\n",
    "               'CD4T_TFH_UP',\n",
    "               'CD4T_TH1_UP',\n",
    "               'Tregs_FoxP3_stabilization',\n",
    "               'effector')"
   ]
  },
  {
   "cell_type": "markdown",
   "id": "5e0857c8-74b6-4bb7-84aa-54e5dff5d362",
   "metadata": {},
   "source": [
    "## Preprocessing"
   ]
  },
  {
   "cell_type": "markdown",
   "id": "77b200a3-0cae-48c7-9e3a-65785843a409",
   "metadata": {},
   "source": [
    "**Extract information fron imput DF**"
   ]
  },
  {
   "cell_type": "code",
   "execution_count": 67,
   "id": "96325c8d-4920-4a4c-9b81-9e34ccf8fe95",
   "metadata": {
    "execution": {
     "iopub.execute_input": "2024-08-27T09:55:13.420580Z",
     "iopub.status.busy": "2024-08-27T09:55:13.419619Z",
     "iopub.status.idle": "2024-08-27T09:55:13.437507Z",
     "shell.execute_reply": "2024-08-27T09:55:13.436319Z"
    }
   },
   "outputs": [],
   "source": [
    "# Preprocess data\n",
    "# Filter rows based on Pval_adj\n",
    "#filtered_data <- corrected_logFC %>%\n",
    "#  mutate(Coef = ifelse(Pval_adj >= filter_by_pval, 0, Coef.))\n",
    "\n",
    "\n",
    "# Extract Factor function and Celltype\n",
    "filtered_data <- correctedNoFilt_logFC %>%\n",
    "  mutate(Function = sapply(strsplit(as.character(FactorName), \"-X-\"), `[`, 3),\n",
    "         CellType = sapply(strsplit(as.character(FactorName), \"-X-\"), `[`, 2))"
   ]
  },
  {
   "cell_type": "code",
   "execution_count": 68,
   "id": "74736f91-6d76-443a-af51-7106e7635e69",
   "metadata": {
    "execution": {
     "iopub.execute_input": "2024-08-27T09:55:13.440171Z",
     "iopub.status.busy": "2024-08-27T09:55:13.439233Z",
     "iopub.status.idle": "2024-08-27T09:55:13.464473Z",
     "shell.execute_reply": "2024-08-27T09:55:13.463279Z"
    },
    "scrolled": true
   },
   "outputs": [
    {
     "data": {
      "text/html": [
       "<table class=\"dataframe\">\n",
       "<caption>A data.frame: 6 × 13</caption>\n",
       "<thead>\n",
       "\t<tr><th></th><th scope=col>X</th><th scope=col>Coef.</th><th scope=col>Std.Err.</th><th scope=col>z</th><th scope=col>P..z.</th><th scope=col>X.0.025</th><th scope=col>X0.975.</th><th scope=col>AnnotationLevel</th><th scope=col>CellType</th><th scope=col>FactorName</th><th scope=col>disease</th><th scope=col>Pval_adj</th><th scope=col>Function</th></tr>\n",
       "\t<tr><th></th><th scope=col>&lt;chr&gt;</th><th scope=col>&lt;dbl&gt;</th><th scope=col>&lt;dbl&gt;</th><th scope=col>&lt;dbl&gt;</th><th scope=col>&lt;dbl&gt;</th><th scope=col>&lt;dbl&gt;</th><th scope=col>&lt;dbl&gt;</th><th scope=col>&lt;chr&gt;</th><th scope=col>&lt;chr&gt;</th><th scope=col>&lt;chr&gt;</th><th scope=col>&lt;chr&gt;</th><th scope=col>&lt;dbl&gt;</th><th scope=col>&lt;chr&gt;</th></tr>\n",
       "</thead>\n",
       "<tbody>\n",
       "\t<tr><th scope=row>1</th><td>C(disease, Treatment(reference=\"healthy\"))[T.BRCA] </td><td> 0.221</td><td>0.801</td><td> 0.276</td><td>0.783</td><td>-1.349</td><td> 1.790</td><td>Level1</td><td>B</td><td>10-X-B-X-cytokine_and_receptors_proinflammatory</td><td>BRCA </td><td>0.9026079</td><td>cytokine_and_receptors_proinflammatory</td></tr>\n",
       "\t<tr><th scope=row>2</th><td>C(disease, Treatment(reference=\"healthy\"))[T.CD]   </td><td>-0.670</td><td>0.270</td><td>-2.484</td><td>0.013</td><td>-1.199</td><td>-0.141</td><td>Level1</td><td>B</td><td>10-X-B-X-cytokine_and_receptors_proinflammatory</td><td>CD   </td><td>0.0549000</td><td>cytokine_and_receptors_proinflammatory</td></tr>\n",
       "\t<tr><th scope=row>3</th><td>C(disease, Treatment(reference=\"healthy\"))[T.COPD] </td><td> 0.526</td><td>0.384</td><td> 1.371</td><td>0.170</td><td>-0.226</td><td> 1.278</td><td>Level1</td><td>B</td><td>10-X-B-X-cytokine_and_receptors_proinflammatory</td><td>COPD </td><td>0.3688933</td><td>cytokine_and_receptors_proinflammatory</td></tr>\n",
       "\t<tr><th scope=row>4</th><td>C(disease, Treatment(reference=\"healthy\"))[T.COVID]</td><td>-0.113</td><td>0.212</td><td>-0.533</td><td>0.594</td><td>-0.529</td><td> 0.303</td><td>Level1</td><td>B</td><td>10-X-B-X-cytokine_and_receptors_proinflammatory</td><td>COVID</td><td>0.7796916</td><td>cytokine_and_receptors_proinflammatory</td></tr>\n",
       "\t<tr><th scope=row>5</th><td>C(disease, Treatment(reference=\"healthy\"))[T.CRC]  </td><td>-0.172</td><td>0.741</td><td>-0.232</td><td>0.817</td><td>-1.624</td><td> 1.280</td><td>Level1</td><td>B</td><td>10-X-B-X-cytokine_and_receptors_proinflammatory</td><td>CRC  </td><td>0.9205398</td><td>cytokine_and_receptors_proinflammatory</td></tr>\n",
       "\t<tr><th scope=row>6</th><td>C(disease, Treatment(reference=\"healthy\"))[T.HBV]  </td><td>-0.406</td><td>0.498</td><td>-0.814</td><td>0.415</td><td>-1.383</td><td> 0.571</td><td>Level1</td><td>B</td><td>10-X-B-X-cytokine_and_receptors_proinflammatory</td><td>HBV  </td><td>0.6337552</td><td>cytokine_and_receptors_proinflammatory</td></tr>\n",
       "</tbody>\n",
       "</table>\n"
      ],
      "text/latex": [
       "A data.frame: 6 × 13\n",
       "\\begin{tabular}{r|lllllllllllll}\n",
       "  & X & Coef. & Std.Err. & z & P..z. & X.0.025 & X0.975. & AnnotationLevel & CellType & FactorName & disease & Pval\\_adj & Function\\\\\n",
       "  & <chr> & <dbl> & <dbl> & <dbl> & <dbl> & <dbl> & <dbl> & <chr> & <chr> & <chr> & <chr> & <dbl> & <chr>\\\\\n",
       "\\hline\n",
       "\t1 & C(disease, Treatment(reference=\"healthy\")){[}T.BRCA{]}  &  0.221 & 0.801 &  0.276 & 0.783 & -1.349 &  1.790 & Level1 & B & 10-X-B-X-cytokine\\_and\\_receptors\\_proinflammatory & BRCA  & 0.9026079 & cytokine\\_and\\_receptors\\_proinflammatory\\\\\n",
       "\t2 & C(disease, Treatment(reference=\"healthy\")){[}T.CD{]}    & -0.670 & 0.270 & -2.484 & 0.013 & -1.199 & -0.141 & Level1 & B & 10-X-B-X-cytokine\\_and\\_receptors\\_proinflammatory & CD    & 0.0549000 & cytokine\\_and\\_receptors\\_proinflammatory\\\\\n",
       "\t3 & C(disease, Treatment(reference=\"healthy\")){[}T.COPD{]}  &  0.526 & 0.384 &  1.371 & 0.170 & -0.226 &  1.278 & Level1 & B & 10-X-B-X-cytokine\\_and\\_receptors\\_proinflammatory & COPD  & 0.3688933 & cytokine\\_and\\_receptors\\_proinflammatory\\\\\n",
       "\t4 & C(disease, Treatment(reference=\"healthy\")){[}T.COVID{]} & -0.113 & 0.212 & -0.533 & 0.594 & -0.529 &  0.303 & Level1 & B & 10-X-B-X-cytokine\\_and\\_receptors\\_proinflammatory & COVID & 0.7796916 & cytokine\\_and\\_receptors\\_proinflammatory\\\\\n",
       "\t5 & C(disease, Treatment(reference=\"healthy\")){[}T.CRC{]}   & -0.172 & 0.741 & -0.232 & 0.817 & -1.624 &  1.280 & Level1 & B & 10-X-B-X-cytokine\\_and\\_receptors\\_proinflammatory & CRC   & 0.9205398 & cytokine\\_and\\_receptors\\_proinflammatory\\\\\n",
       "\t6 & C(disease, Treatment(reference=\"healthy\")){[}T.HBV{]}   & -0.406 & 0.498 & -0.814 & 0.415 & -1.383 &  0.571 & Level1 & B & 10-X-B-X-cytokine\\_and\\_receptors\\_proinflammatory & HBV   & 0.6337552 & cytokine\\_and\\_receptors\\_proinflammatory\\\\\n",
       "\\end{tabular}\n"
      ],
      "text/markdown": [
       "\n",
       "A data.frame: 6 × 13\n",
       "\n",
       "| <!--/--> | X &lt;chr&gt; | Coef. &lt;dbl&gt; | Std.Err. &lt;dbl&gt; | z &lt;dbl&gt; | P..z. &lt;dbl&gt; | X.0.025 &lt;dbl&gt; | X0.975. &lt;dbl&gt; | AnnotationLevel &lt;chr&gt; | CellType &lt;chr&gt; | FactorName &lt;chr&gt; | disease &lt;chr&gt; | Pval_adj &lt;dbl&gt; | Function &lt;chr&gt; |\n",
       "|---|---|---|---|---|---|---|---|---|---|---|---|---|---|\n",
       "| 1 | C(disease, Treatment(reference=\"healthy\"))[T.BRCA]  |  0.221 | 0.801 |  0.276 | 0.783 | -1.349 |  1.790 | Level1 | B | 10-X-B-X-cytokine_and_receptors_proinflammatory | BRCA  | 0.9026079 | cytokine_and_receptors_proinflammatory |\n",
       "| 2 | C(disease, Treatment(reference=\"healthy\"))[T.CD]    | -0.670 | 0.270 | -2.484 | 0.013 | -1.199 | -0.141 | Level1 | B | 10-X-B-X-cytokine_and_receptors_proinflammatory | CD    | 0.0549000 | cytokine_and_receptors_proinflammatory |\n",
       "| 3 | C(disease, Treatment(reference=\"healthy\"))[T.COPD]  |  0.526 | 0.384 |  1.371 | 0.170 | -0.226 |  1.278 | Level1 | B | 10-X-B-X-cytokine_and_receptors_proinflammatory | COPD  | 0.3688933 | cytokine_and_receptors_proinflammatory |\n",
       "| 4 | C(disease, Treatment(reference=\"healthy\"))[T.COVID] | -0.113 | 0.212 | -0.533 | 0.594 | -0.529 |  0.303 | Level1 | B | 10-X-B-X-cytokine_and_receptors_proinflammatory | COVID | 0.7796916 | cytokine_and_receptors_proinflammatory |\n",
       "| 5 | C(disease, Treatment(reference=\"healthy\"))[T.CRC]   | -0.172 | 0.741 | -0.232 | 0.817 | -1.624 |  1.280 | Level1 | B | 10-X-B-X-cytokine_and_receptors_proinflammatory | CRC   | 0.9205398 | cytokine_and_receptors_proinflammatory |\n",
       "| 6 | C(disease, Treatment(reference=\"healthy\"))[T.HBV]   | -0.406 | 0.498 | -0.814 | 0.415 | -1.383 |  0.571 | Level1 | B | 10-X-B-X-cytokine_and_receptors_proinflammatory | HBV   | 0.6337552 | cytokine_and_receptors_proinflammatory |\n",
       "\n"
      ],
      "text/plain": [
       "  X                                                   Coef.  Std.Err. z     \n",
       "1 C(disease, Treatment(reference=\"healthy\"))[T.BRCA]   0.221 0.801     0.276\n",
       "2 C(disease, Treatment(reference=\"healthy\"))[T.CD]    -0.670 0.270    -2.484\n",
       "3 C(disease, Treatment(reference=\"healthy\"))[T.COPD]   0.526 0.384     1.371\n",
       "4 C(disease, Treatment(reference=\"healthy\"))[T.COVID] -0.113 0.212    -0.533\n",
       "5 C(disease, Treatment(reference=\"healthy\"))[T.CRC]   -0.172 0.741    -0.232\n",
       "6 C(disease, Treatment(reference=\"healthy\"))[T.HBV]   -0.406 0.498    -0.814\n",
       "  P..z. X.0.025 X0.975. AnnotationLevel CellType\n",
       "1 0.783 -1.349   1.790  Level1          B       \n",
       "2 0.013 -1.199  -0.141  Level1          B       \n",
       "3 0.170 -0.226   1.278  Level1          B       \n",
       "4 0.594 -0.529   0.303  Level1          B       \n",
       "5 0.817 -1.624   1.280  Level1          B       \n",
       "6 0.415 -1.383   0.571  Level1          B       \n",
       "  FactorName                                      disease Pval_adj \n",
       "1 10-X-B-X-cytokine_and_receptors_proinflammatory BRCA    0.9026079\n",
       "2 10-X-B-X-cytokine_and_receptors_proinflammatory CD      0.0549000\n",
       "3 10-X-B-X-cytokine_and_receptors_proinflammatory COPD    0.3688933\n",
       "4 10-X-B-X-cytokine_and_receptors_proinflammatory COVID   0.7796916\n",
       "5 10-X-B-X-cytokine_and_receptors_proinflammatory CRC     0.9205398\n",
       "6 10-X-B-X-cytokine_and_receptors_proinflammatory HBV     0.6337552\n",
       "  Function                              \n",
       "1 cytokine_and_receptors_proinflammatory\n",
       "2 cytokine_and_receptors_proinflammatory\n",
       "3 cytokine_and_receptors_proinflammatory\n",
       "4 cytokine_and_receptors_proinflammatory\n",
       "5 cytokine_and_receptors_proinflammatory\n",
       "6 cytokine_and_receptors_proinflammatory"
      ]
     },
     "metadata": {},
     "output_type": "display_data"
    }
   ],
   "source": [
    "head(filtered_data)"
   ]
  },
  {
   "cell_type": "code",
   "execution_count": 69,
   "id": "94be42d3-7efb-452c-8772-a7fe47c160a5",
   "metadata": {
    "execution": {
     "iopub.execute_input": "2024-08-27T09:55:13.467169Z",
     "iopub.status.busy": "2024-08-27T09:55:13.466244Z",
     "iopub.status.idle": "2024-08-27T09:55:13.497092Z",
     "shell.execute_reply": "2024-08-27T09:55:13.495922Z"
    },
    "scrolled": true
   },
   "outputs": [
    {
     "data": {
      "text/html": [
       "<table class=\"dataframe\">\n",
       "<caption>A data.frame: 6 × 20</caption>\n",
       "<thead>\n",
       "\t<tr><th></th><th scope=col>FactorName</th><th scope=col>asthma</th><th scope=col>BRCA</th><th scope=col>CD</th><th scope=col>cirrhosis</th><th scope=col>COPD</th><th scope=col>COVID</th><th scope=col>CRC</th><th scope=col>flu</th><th scope=col>HBV</th><th scope=col>HIV</th><th scope=col>HNSCC</th><th scope=col>MS</th><th scope=col>NPC</th><th scope=col>PS</th><th scope=col>PSA</th><th scope=col>RA</th><th scope=col>sepsis</th><th scope=col>SLE</th><th scope=col>UC</th></tr>\n",
       "\t<tr><th></th><th scope=col>&lt;chr&gt;</th><th scope=col>&lt;dbl&gt;</th><th scope=col>&lt;dbl&gt;</th><th scope=col>&lt;dbl&gt;</th><th scope=col>&lt;dbl&gt;</th><th scope=col>&lt;dbl&gt;</th><th scope=col>&lt;dbl&gt;</th><th scope=col>&lt;dbl&gt;</th><th scope=col>&lt;dbl&gt;</th><th scope=col>&lt;dbl&gt;</th><th scope=col>&lt;dbl&gt;</th><th scope=col>&lt;dbl&gt;</th><th scope=col>&lt;dbl&gt;</th><th scope=col>&lt;dbl&gt;</th><th scope=col>&lt;dbl&gt;</th><th scope=col>&lt;dbl&gt;</th><th scope=col>&lt;dbl&gt;</th><th scope=col>&lt;dbl&gt;</th><th scope=col>&lt;dbl&gt;</th><th scope=col>&lt;dbl&gt;</th></tr>\n",
       "</thead>\n",
       "<tbody>\n",
       "\t<tr><th scope=row>1</th><td>10-X-B-X-cytokine_and_receptors_proinflammatory   </td><td>-0.037</td><td> 0.221</td><td>-0.670</td><td>1.061</td><td> 0.526</td><td>-0.113</td><td>-0.172</td><td>-0.666</td><td>-0.406</td><td>-1.566</td><td> 0.124</td><td> 0.801</td><td>-0.857</td><td>-1.339</td><td>-1.041</td><td>-0.871</td><td>-0.246</td><td> 0.097</td><td>-1.407</td></tr>\n",
       "\t<tr><th scope=row>2</th><td>100-X-T_CD8_Naive-X-adhesion_molecules            </td><td> 0.431</td><td> 2.767</td><td> 0.387</td><td>2.407</td><td>-0.495</td><td>-0.799</td><td> 0.191</td><td>-0.769</td><td> 1.169</td><td>-0.563</td><td>-0.202</td><td> 0.835</td><td> 0.336</td><td> 1.082</td><td> 1.292</td><td> 1.586</td><td>-0.950</td><td>-0.022</td><td> 0.995</td></tr>\n",
       "\t<tr><th scope=row>3</th><td>101-X-T_CD8_Naive-X-antigen_presentation_molecules</td><td>-0.420</td><td> 2.557</td><td> 1.623</td><td>5.423</td><td> 0.758</td><td>-0.212</td><td> 3.445</td><td>-0.265</td><td> 1.116</td><td>-1.377</td><td> 0.545</td><td> 0.451</td><td>-1.537</td><td> 2.285</td><td> 2.201</td><td> 2.448</td><td>-0.842</td><td> 1.448</td><td> 2.992</td></tr>\n",
       "\t<tr><th scope=row>4</th><td>103-X-T_CD8_NonNaive-X-CD8T_exhaustion            </td><td> 1.085</td><td> 1.103</td><td> 0.675</td><td>0.575</td><td> 0.317</td><td>-0.099</td><td>-1.161</td><td> 0.210</td><td>-0.055</td><td>-0.787</td><td> 0.147</td><td> 0.034</td><td> 1.043</td><td> 0.304</td><td> 0.714</td><td> 1.436</td><td> 0.105</td><td> 1.713</td><td> 1.577</td></tr>\n",
       "\t<tr><th scope=row>5</th><td>104-X-T_CD8_NonNaive-X-CD8T_tcr_activation        </td><td> 0.595</td><td>-0.524</td><td> 0.913</td><td>3.016</td><td> 1.249</td><td> 0.043</td><td>-0.889</td><td> 0.464</td><td>-0.872</td><td>-1.351</td><td> 0.083</td><td>-0.067</td><td> 0.263</td><td> 0.219</td><td> 0.608</td><td> 0.816</td><td> 0.202</td><td> 1.650</td><td> 1.809</td></tr>\n",
       "\t<tr><th scope=row>6</th><td>105-X-T_CD8_NonNaive-X-chemokines                 </td><td> 0.706</td><td>-0.308</td><td> 0.603</td><td>2.172</td><td> 1.203</td><td> 0.119</td><td>-0.894</td><td> 0.674</td><td>-2.533</td><td>-0.920</td><td>-0.064</td><td>-1.080</td><td>-1.989</td><td>-0.695</td><td> 0.672</td><td> 0.831</td><td> 0.145</td><td> 0.984</td><td> 0.734</td></tr>\n",
       "</tbody>\n",
       "</table>\n"
      ],
      "text/latex": [
       "A data.frame: 6 × 20\n",
       "\\begin{tabular}{r|llllllllllllllllllll}\n",
       "  & FactorName & asthma & BRCA & CD & cirrhosis & COPD & COVID & CRC & flu & HBV & HIV & HNSCC & MS & NPC & PS & PSA & RA & sepsis & SLE & UC\\\\\n",
       "  & <chr> & <dbl> & <dbl> & <dbl> & <dbl> & <dbl> & <dbl> & <dbl> & <dbl> & <dbl> & <dbl> & <dbl> & <dbl> & <dbl> & <dbl> & <dbl> & <dbl> & <dbl> & <dbl> & <dbl>\\\\\n",
       "\\hline\n",
       "\t1 & 10-X-B-X-cytokine\\_and\\_receptors\\_proinflammatory    & -0.037 &  0.221 & -0.670 & 1.061 &  0.526 & -0.113 & -0.172 & -0.666 & -0.406 & -1.566 &  0.124 &  0.801 & -0.857 & -1.339 & -1.041 & -0.871 & -0.246 &  0.097 & -1.407\\\\\n",
       "\t2 & 100-X-T\\_CD8\\_Naive-X-adhesion\\_molecules             &  0.431 &  2.767 &  0.387 & 2.407 & -0.495 & -0.799 &  0.191 & -0.769 &  1.169 & -0.563 & -0.202 &  0.835 &  0.336 &  1.082 &  1.292 &  1.586 & -0.950 & -0.022 &  0.995\\\\\n",
       "\t3 & 101-X-T\\_CD8\\_Naive-X-antigen\\_presentation\\_molecules & -0.420 &  2.557 &  1.623 & 5.423 &  0.758 & -0.212 &  3.445 & -0.265 &  1.116 & -1.377 &  0.545 &  0.451 & -1.537 &  2.285 &  2.201 &  2.448 & -0.842 &  1.448 &  2.992\\\\\n",
       "\t4 & 103-X-T\\_CD8\\_NonNaive-X-CD8T\\_exhaustion             &  1.085 &  1.103 &  0.675 & 0.575 &  0.317 & -0.099 & -1.161 &  0.210 & -0.055 & -0.787 &  0.147 &  0.034 &  1.043 &  0.304 &  0.714 &  1.436 &  0.105 &  1.713 &  1.577\\\\\n",
       "\t5 & 104-X-T\\_CD8\\_NonNaive-X-CD8T\\_tcr\\_activation         &  0.595 & -0.524 &  0.913 & 3.016 &  1.249 &  0.043 & -0.889 &  0.464 & -0.872 & -1.351 &  0.083 & -0.067 &  0.263 &  0.219 &  0.608 &  0.816 &  0.202 &  1.650 &  1.809\\\\\n",
       "\t6 & 105-X-T\\_CD8\\_NonNaive-X-chemokines                  &  0.706 & -0.308 &  0.603 & 2.172 &  1.203 &  0.119 & -0.894 &  0.674 & -2.533 & -0.920 & -0.064 & -1.080 & -1.989 & -0.695 &  0.672 &  0.831 &  0.145 &  0.984 &  0.734\\\\\n",
       "\\end{tabular}\n"
      ],
      "text/markdown": [
       "\n",
       "A data.frame: 6 × 20\n",
       "\n",
       "| <!--/--> | FactorName &lt;chr&gt; | asthma &lt;dbl&gt; | BRCA &lt;dbl&gt; | CD &lt;dbl&gt; | cirrhosis &lt;dbl&gt; | COPD &lt;dbl&gt; | COVID &lt;dbl&gt; | CRC &lt;dbl&gt; | flu &lt;dbl&gt; | HBV &lt;dbl&gt; | HIV &lt;dbl&gt; | HNSCC &lt;dbl&gt; | MS &lt;dbl&gt; | NPC &lt;dbl&gt; | PS &lt;dbl&gt; | PSA &lt;dbl&gt; | RA &lt;dbl&gt; | sepsis &lt;dbl&gt; | SLE &lt;dbl&gt; | UC &lt;dbl&gt; |\n",
       "|---|---|---|---|---|---|---|---|---|---|---|---|---|---|---|---|---|---|---|---|---|\n",
       "| 1 | 10-X-B-X-cytokine_and_receptors_proinflammatory    | -0.037 |  0.221 | -0.670 | 1.061 |  0.526 | -0.113 | -0.172 | -0.666 | -0.406 | -1.566 |  0.124 |  0.801 | -0.857 | -1.339 | -1.041 | -0.871 | -0.246 |  0.097 | -1.407 |\n",
       "| 2 | 100-X-T_CD8_Naive-X-adhesion_molecules             |  0.431 |  2.767 |  0.387 | 2.407 | -0.495 | -0.799 |  0.191 | -0.769 |  1.169 | -0.563 | -0.202 |  0.835 |  0.336 |  1.082 |  1.292 |  1.586 | -0.950 | -0.022 |  0.995 |\n",
       "| 3 | 101-X-T_CD8_Naive-X-antigen_presentation_molecules | -0.420 |  2.557 |  1.623 | 5.423 |  0.758 | -0.212 |  3.445 | -0.265 |  1.116 | -1.377 |  0.545 |  0.451 | -1.537 |  2.285 |  2.201 |  2.448 | -0.842 |  1.448 |  2.992 |\n",
       "| 4 | 103-X-T_CD8_NonNaive-X-CD8T_exhaustion             |  1.085 |  1.103 |  0.675 | 0.575 |  0.317 | -0.099 | -1.161 |  0.210 | -0.055 | -0.787 |  0.147 |  0.034 |  1.043 |  0.304 |  0.714 |  1.436 |  0.105 |  1.713 |  1.577 |\n",
       "| 5 | 104-X-T_CD8_NonNaive-X-CD8T_tcr_activation         |  0.595 | -0.524 |  0.913 | 3.016 |  1.249 |  0.043 | -0.889 |  0.464 | -0.872 | -1.351 |  0.083 | -0.067 |  0.263 |  0.219 |  0.608 |  0.816 |  0.202 |  1.650 |  1.809 |\n",
       "| 6 | 105-X-T_CD8_NonNaive-X-chemokines                  |  0.706 | -0.308 |  0.603 | 2.172 |  1.203 |  0.119 | -0.894 |  0.674 | -2.533 | -0.920 | -0.064 | -1.080 | -1.989 | -0.695 |  0.672 |  0.831 |  0.145 |  0.984 |  0.734 |\n",
       "\n"
      ],
      "text/plain": [
       "  FactorName                                         asthma BRCA   CD    \n",
       "1 10-X-B-X-cytokine_and_receptors_proinflammatory    -0.037  0.221 -0.670\n",
       "2 100-X-T_CD8_Naive-X-adhesion_molecules              0.431  2.767  0.387\n",
       "3 101-X-T_CD8_Naive-X-antigen_presentation_molecules -0.420  2.557  1.623\n",
       "4 103-X-T_CD8_NonNaive-X-CD8T_exhaustion              1.085  1.103  0.675\n",
       "5 104-X-T_CD8_NonNaive-X-CD8T_tcr_activation          0.595 -0.524  0.913\n",
       "6 105-X-T_CD8_NonNaive-X-chemokines                   0.706 -0.308  0.603\n",
       "  cirrhosis COPD   COVID  CRC    flu    HBV    HIV    HNSCC  MS     NPC   \n",
       "1 1.061      0.526 -0.113 -0.172 -0.666 -0.406 -1.566  0.124  0.801 -0.857\n",
       "2 2.407     -0.495 -0.799  0.191 -0.769  1.169 -0.563 -0.202  0.835  0.336\n",
       "3 5.423      0.758 -0.212  3.445 -0.265  1.116 -1.377  0.545  0.451 -1.537\n",
       "4 0.575      0.317 -0.099 -1.161  0.210 -0.055 -0.787  0.147  0.034  1.043\n",
       "5 3.016      1.249  0.043 -0.889  0.464 -0.872 -1.351  0.083 -0.067  0.263\n",
       "6 2.172      1.203  0.119 -0.894  0.674 -2.533 -0.920 -0.064 -1.080 -1.989\n",
       "  PS     PSA    RA     sepsis SLE    UC    \n",
       "1 -1.339 -1.041 -0.871 -0.246  0.097 -1.407\n",
       "2  1.082  1.292  1.586 -0.950 -0.022  0.995\n",
       "3  2.285  2.201  2.448 -0.842  1.448  2.992\n",
       "4  0.304  0.714  1.436  0.105  1.713  1.577\n",
       "5  0.219  0.608  0.816  0.202  1.650  1.809\n",
       "6 -0.695  0.672  0.831  0.145  0.984  0.734"
      ]
     },
     "metadata": {},
     "output_type": "display_data"
    }
   ],
   "source": [
    "# Prepare data for heatmap\n",
    "heatmap_data <- filtered_data %>%\n",
    "  select(FactorName, disease, Coef.) %>%\n",
    "  spread(key = disease, value = Coef.)\n",
    "head(heatmap_data)"
   ]
  },
  {
   "cell_type": "code",
   "execution_count": 70,
   "id": "ee43a0a2-9c75-45d2-b7cb-09075e6b5199",
   "metadata": {
    "execution": {
     "iopub.execute_input": "2024-08-27T09:55:13.499763Z",
     "iopub.status.busy": "2024-08-27T09:55:13.498832Z",
     "iopub.status.idle": "2024-08-27T09:55:13.535813Z",
     "shell.execute_reply": "2024-08-27T09:55:13.534640Z"
    }
   },
   "outputs": [
    {
     "data": {
      "text/html": [
       "<table class=\"dataframe\">\n",
       "<caption>A data.frame: 6 × 20</caption>\n",
       "<thead>\n",
       "\t<tr><th></th><th scope=col>FactorName</th><th scope=col>asthma</th><th scope=col>BRCA</th><th scope=col>CD</th><th scope=col>cirrhosis</th><th scope=col>COPD</th><th scope=col>COVID</th><th scope=col>CRC</th><th scope=col>flu</th><th scope=col>HBV</th><th scope=col>HIV</th><th scope=col>HNSCC</th><th scope=col>MS</th><th scope=col>NPC</th><th scope=col>PS</th><th scope=col>PSA</th><th scope=col>RA</th><th scope=col>sepsis</th><th scope=col>SLE</th><th scope=col>UC</th></tr>\n",
       "\t<tr><th></th><th scope=col>&lt;chr&gt;</th><th scope=col>&lt;dbl&gt;</th><th scope=col>&lt;dbl&gt;</th><th scope=col>&lt;dbl&gt;</th><th scope=col>&lt;dbl&gt;</th><th scope=col>&lt;dbl&gt;</th><th scope=col>&lt;dbl&gt;</th><th scope=col>&lt;dbl&gt;</th><th scope=col>&lt;dbl&gt;</th><th scope=col>&lt;dbl&gt;</th><th scope=col>&lt;dbl&gt;</th><th scope=col>&lt;dbl&gt;</th><th scope=col>&lt;dbl&gt;</th><th scope=col>&lt;dbl&gt;</th><th scope=col>&lt;dbl&gt;</th><th scope=col>&lt;dbl&gt;</th><th scope=col>&lt;dbl&gt;</th><th scope=col>&lt;dbl&gt;</th><th scope=col>&lt;dbl&gt;</th><th scope=col>&lt;dbl&gt;</th></tr>\n",
       "</thead>\n",
       "<tbody>\n",
       "\t<tr><th scope=row>1</th><td>B-X-cytokine_and_receptors_proinflammatory  </td><td>-0.037</td><td> 0.221</td><td>-0.670</td><td>1.061</td><td> 0.526</td><td>-0.113</td><td>-0.172</td><td>-0.666</td><td>-0.406</td><td>-1.566</td><td> 0.124</td><td> 0.801</td><td>-0.857</td><td>-1.339</td><td>-1.041</td><td>-0.871</td><td>-0.246</td><td> 0.097</td><td>-1.407</td></tr>\n",
       "\t<tr><th scope=row>2</th><td>T_CD8_Naive-X-adhesion_molecules            </td><td> 0.431</td><td> 2.767</td><td> 0.387</td><td>2.407</td><td>-0.495</td><td>-0.799</td><td> 0.191</td><td>-0.769</td><td> 1.169</td><td>-0.563</td><td>-0.202</td><td> 0.835</td><td> 0.336</td><td> 1.082</td><td> 1.292</td><td> 1.586</td><td>-0.950</td><td>-0.022</td><td> 0.995</td></tr>\n",
       "\t<tr><th scope=row>3</th><td>T_CD8_Naive-X-antigen_presentation_molecules</td><td>-0.420</td><td> 2.557</td><td> 1.623</td><td>5.423</td><td> 0.758</td><td>-0.212</td><td> 3.445</td><td>-0.265</td><td> 1.116</td><td>-1.377</td><td> 0.545</td><td> 0.451</td><td>-1.537</td><td> 2.285</td><td> 2.201</td><td> 2.448</td><td>-0.842</td><td> 1.448</td><td> 2.992</td></tr>\n",
       "\t<tr><th scope=row>4</th><td>T_CD8_NonNaive-X-CD8T_exhaustion            </td><td> 1.085</td><td> 1.103</td><td> 0.675</td><td>0.575</td><td> 0.317</td><td>-0.099</td><td>-1.161</td><td> 0.210</td><td>-0.055</td><td>-0.787</td><td> 0.147</td><td> 0.034</td><td> 1.043</td><td> 0.304</td><td> 0.714</td><td> 1.436</td><td> 0.105</td><td> 1.713</td><td> 1.577</td></tr>\n",
       "\t<tr><th scope=row>5</th><td>T_CD8_NonNaive-X-CD8T_tcr_activation        </td><td> 0.595</td><td>-0.524</td><td> 0.913</td><td>3.016</td><td> 1.249</td><td> 0.043</td><td>-0.889</td><td> 0.464</td><td>-0.872</td><td>-1.351</td><td> 0.083</td><td>-0.067</td><td> 0.263</td><td> 0.219</td><td> 0.608</td><td> 0.816</td><td> 0.202</td><td> 1.650</td><td> 1.809</td></tr>\n",
       "\t<tr><th scope=row>6</th><td>T_CD8_NonNaive-X-chemokines                 </td><td> 0.706</td><td>-0.308</td><td> 0.603</td><td>2.172</td><td> 1.203</td><td> 0.119</td><td>-0.894</td><td> 0.674</td><td>-2.533</td><td>-0.920</td><td>-0.064</td><td>-1.080</td><td>-1.989</td><td>-0.695</td><td> 0.672</td><td> 0.831</td><td> 0.145</td><td> 0.984</td><td> 0.734</td></tr>\n",
       "</tbody>\n",
       "</table>\n"
      ],
      "text/latex": [
       "A data.frame: 6 × 20\n",
       "\\begin{tabular}{r|llllllllllllllllllll}\n",
       "  & FactorName & asthma & BRCA & CD & cirrhosis & COPD & COVID & CRC & flu & HBV & HIV & HNSCC & MS & NPC & PS & PSA & RA & sepsis & SLE & UC\\\\\n",
       "  & <chr> & <dbl> & <dbl> & <dbl> & <dbl> & <dbl> & <dbl> & <dbl> & <dbl> & <dbl> & <dbl> & <dbl> & <dbl> & <dbl> & <dbl> & <dbl> & <dbl> & <dbl> & <dbl> & <dbl>\\\\\n",
       "\\hline\n",
       "\t1 & B-X-cytokine\\_and\\_receptors\\_proinflammatory   & -0.037 &  0.221 & -0.670 & 1.061 &  0.526 & -0.113 & -0.172 & -0.666 & -0.406 & -1.566 &  0.124 &  0.801 & -0.857 & -1.339 & -1.041 & -0.871 & -0.246 &  0.097 & -1.407\\\\\n",
       "\t2 & T\\_CD8\\_Naive-X-adhesion\\_molecules             &  0.431 &  2.767 &  0.387 & 2.407 & -0.495 & -0.799 &  0.191 & -0.769 &  1.169 & -0.563 & -0.202 &  0.835 &  0.336 &  1.082 &  1.292 &  1.586 & -0.950 & -0.022 &  0.995\\\\\n",
       "\t3 & T\\_CD8\\_Naive-X-antigen\\_presentation\\_molecules & -0.420 &  2.557 &  1.623 & 5.423 &  0.758 & -0.212 &  3.445 & -0.265 &  1.116 & -1.377 &  0.545 &  0.451 & -1.537 &  2.285 &  2.201 &  2.448 & -0.842 &  1.448 &  2.992\\\\\n",
       "\t4 & T\\_CD8\\_NonNaive-X-CD8T\\_exhaustion             &  1.085 &  1.103 &  0.675 & 0.575 &  0.317 & -0.099 & -1.161 &  0.210 & -0.055 & -0.787 &  0.147 &  0.034 &  1.043 &  0.304 &  0.714 &  1.436 &  0.105 &  1.713 &  1.577\\\\\n",
       "\t5 & T\\_CD8\\_NonNaive-X-CD8T\\_tcr\\_activation         &  0.595 & -0.524 &  0.913 & 3.016 &  1.249 &  0.043 & -0.889 &  0.464 & -0.872 & -1.351 &  0.083 & -0.067 &  0.263 &  0.219 &  0.608 &  0.816 &  0.202 &  1.650 &  1.809\\\\\n",
       "\t6 & T\\_CD8\\_NonNaive-X-chemokines                  &  0.706 & -0.308 &  0.603 & 2.172 &  1.203 &  0.119 & -0.894 &  0.674 & -2.533 & -0.920 & -0.064 & -1.080 & -1.989 & -0.695 &  0.672 &  0.831 &  0.145 &  0.984 &  0.734\\\\\n",
       "\\end{tabular}\n"
      ],
      "text/markdown": [
       "\n",
       "A data.frame: 6 × 20\n",
       "\n",
       "| <!--/--> | FactorName &lt;chr&gt; | asthma &lt;dbl&gt; | BRCA &lt;dbl&gt; | CD &lt;dbl&gt; | cirrhosis &lt;dbl&gt; | COPD &lt;dbl&gt; | COVID &lt;dbl&gt; | CRC &lt;dbl&gt; | flu &lt;dbl&gt; | HBV &lt;dbl&gt; | HIV &lt;dbl&gt; | HNSCC &lt;dbl&gt; | MS &lt;dbl&gt; | NPC &lt;dbl&gt; | PS &lt;dbl&gt; | PSA &lt;dbl&gt; | RA &lt;dbl&gt; | sepsis &lt;dbl&gt; | SLE &lt;dbl&gt; | UC &lt;dbl&gt; |\n",
       "|---|---|---|---|---|---|---|---|---|---|---|---|---|---|---|---|---|---|---|---|---|\n",
       "| 1 | B-X-cytokine_and_receptors_proinflammatory   | -0.037 |  0.221 | -0.670 | 1.061 |  0.526 | -0.113 | -0.172 | -0.666 | -0.406 | -1.566 |  0.124 |  0.801 | -0.857 | -1.339 | -1.041 | -0.871 | -0.246 |  0.097 | -1.407 |\n",
       "| 2 | T_CD8_Naive-X-adhesion_molecules             |  0.431 |  2.767 |  0.387 | 2.407 | -0.495 | -0.799 |  0.191 | -0.769 |  1.169 | -0.563 | -0.202 |  0.835 |  0.336 |  1.082 |  1.292 |  1.586 | -0.950 | -0.022 |  0.995 |\n",
       "| 3 | T_CD8_Naive-X-antigen_presentation_molecules | -0.420 |  2.557 |  1.623 | 5.423 |  0.758 | -0.212 |  3.445 | -0.265 |  1.116 | -1.377 |  0.545 |  0.451 | -1.537 |  2.285 |  2.201 |  2.448 | -0.842 |  1.448 |  2.992 |\n",
       "| 4 | T_CD8_NonNaive-X-CD8T_exhaustion             |  1.085 |  1.103 |  0.675 | 0.575 |  0.317 | -0.099 | -1.161 |  0.210 | -0.055 | -0.787 |  0.147 |  0.034 |  1.043 |  0.304 |  0.714 |  1.436 |  0.105 |  1.713 |  1.577 |\n",
       "| 5 | T_CD8_NonNaive-X-CD8T_tcr_activation         |  0.595 | -0.524 |  0.913 | 3.016 |  1.249 |  0.043 | -0.889 |  0.464 | -0.872 | -1.351 |  0.083 | -0.067 |  0.263 |  0.219 |  0.608 |  0.816 |  0.202 |  1.650 |  1.809 |\n",
       "| 6 | T_CD8_NonNaive-X-chemokines                  |  0.706 | -0.308 |  0.603 | 2.172 |  1.203 |  0.119 | -0.894 |  0.674 | -2.533 | -0.920 | -0.064 | -1.080 | -1.989 | -0.695 |  0.672 |  0.831 |  0.145 |  0.984 |  0.734 |\n",
       "\n"
      ],
      "text/plain": [
       "  FactorName                                   asthma BRCA   CD     cirrhosis\n",
       "1 B-X-cytokine_and_receptors_proinflammatory   -0.037  0.221 -0.670 1.061    \n",
       "2 T_CD8_Naive-X-adhesion_molecules              0.431  2.767  0.387 2.407    \n",
       "3 T_CD8_Naive-X-antigen_presentation_molecules -0.420  2.557  1.623 5.423    \n",
       "4 T_CD8_NonNaive-X-CD8T_exhaustion              1.085  1.103  0.675 0.575    \n",
       "5 T_CD8_NonNaive-X-CD8T_tcr_activation          0.595 -0.524  0.913 3.016    \n",
       "6 T_CD8_NonNaive-X-chemokines                   0.706 -0.308  0.603 2.172    \n",
       "  COPD   COVID  CRC    flu    HBV    HIV    HNSCC  MS     NPC    PS     PSA   \n",
       "1  0.526 -0.113 -0.172 -0.666 -0.406 -1.566  0.124  0.801 -0.857 -1.339 -1.041\n",
       "2 -0.495 -0.799  0.191 -0.769  1.169 -0.563 -0.202  0.835  0.336  1.082  1.292\n",
       "3  0.758 -0.212  3.445 -0.265  1.116 -1.377  0.545  0.451 -1.537  2.285  2.201\n",
       "4  0.317 -0.099 -1.161  0.210 -0.055 -0.787  0.147  0.034  1.043  0.304  0.714\n",
       "5  1.249  0.043 -0.889  0.464 -0.872 -1.351  0.083 -0.067  0.263  0.219  0.608\n",
       "6  1.203  0.119 -0.894  0.674 -2.533 -0.920 -0.064 -1.080 -1.989 -0.695  0.672\n",
       "  RA     sepsis SLE    UC    \n",
       "1 -0.871 -0.246  0.097 -1.407\n",
       "2  1.586 -0.950 -0.022  0.995\n",
       "3  2.448 -0.842  1.448  2.992\n",
       "4  1.436  0.105  1.713  1.577\n",
       "5  0.816  0.202  1.650  1.809\n",
       "6  0.831  0.145  0.984  0.734"
      ]
     },
     "metadata": {},
     "output_type": "display_data"
    }
   ],
   "source": [
    "heatmap_data$FactorName <- sapply(strsplit(heatmap_data$FactorName, \"-X-\"), function(x) {\n",
    "  second_element <- x[2]\n",
    "  third_element <- x[3]\n",
    "  \n",
    "  # Check if the third element starts with \"c\" + any element in signatures\n",
    "  if (startsWith(third_element, \"c\") && substr(third_element, 2, nchar(third_element)) %in% signatures) {\n",
    "    third_element <- substr(third_element, 2, nchar(third_element))  # Remove the first letter \"c\"\n",
    "  }\n",
    "  \n",
    "  # Create the new FactorName\n",
    "  new_name <- paste0(second_element, \"-X-\", third_element)\n",
    "  return(new_name)\n",
    "})\n",
    "head(heatmap_data)"
   ]
  },
  {
   "cell_type": "markdown",
   "id": "fa11a334-62b8-43e5-acc8-516d4e7e5b92",
   "metadata": {},
   "source": [
    "**Edit function name**"
   ]
  },
  {
   "cell_type": "raw",
   "id": "d7667d5f-d6e5-4cd0-bd8b-285c038fe38f",
   "metadata": {
    "execution": {
     "iopub.execute_input": "2024-06-28T11:42:21.981625Z",
     "iopub.status.busy": "2024-06-28T11:42:21.980537Z",
     "iopub.status.idle": "2024-06-28T11:42:21.989911Z",
     "shell.execute_reply": "2024-06-28T11:42:21.988748Z"
    }
   },
   "source": [
    "heatmap_data$FactorName <- ifelse(\n",
    "  heatmap_data$FactorName == \"DC-X-cytokine_andreceptors_antiinflammatory\",\n",
    "  \"DC-X-cytokine_and_receptors__antiinflammatory\",\n",
    "  heatmap_data$FactorName\n",
    ")\n",
    "\n"
   ]
  },
  {
   "cell_type": "markdown",
   "id": "4b7e820d-c0a2-4bf6-a213-474515754852",
   "metadata": {},
   "source": [
    "**Generate heatmap DF**"
   ]
  },
  {
   "cell_type": "code",
   "execution_count": 71,
   "id": "3b2bd7e4-aede-4748-a48c-52a0c6c1e527",
   "metadata": {
    "execution": {
     "iopub.execute_input": "2024-08-27T09:55:13.538452Z",
     "iopub.status.busy": "2024-08-27T09:55:13.537536Z",
     "iopub.status.idle": "2024-08-27T09:55:13.573101Z",
     "shell.execute_reply": "2024-08-27T09:55:13.571877Z"
    }
   },
   "outputs": [
    {
     "data": {
      "text/html": [
       "<table class=\"dataframe\">\n",
       "<caption>A data.frame: 6 × 19</caption>\n",
       "<thead>\n",
       "\t<tr><th></th><th scope=col>asthma</th><th scope=col>BRCA</th><th scope=col>CD</th><th scope=col>cirrhosis</th><th scope=col>COPD</th><th scope=col>COVID</th><th scope=col>CRC</th><th scope=col>flu</th><th scope=col>HBV</th><th scope=col>HIV</th><th scope=col>HNSCC</th><th scope=col>MS</th><th scope=col>NPC</th><th scope=col>PS</th><th scope=col>PSA</th><th scope=col>RA</th><th scope=col>sepsis</th><th scope=col>SLE</th><th scope=col>UC</th></tr>\n",
       "\t<tr><th></th><th scope=col>&lt;dbl&gt;</th><th scope=col>&lt;dbl&gt;</th><th scope=col>&lt;dbl&gt;</th><th scope=col>&lt;dbl&gt;</th><th scope=col>&lt;dbl&gt;</th><th scope=col>&lt;dbl&gt;</th><th scope=col>&lt;dbl&gt;</th><th scope=col>&lt;dbl&gt;</th><th scope=col>&lt;dbl&gt;</th><th scope=col>&lt;dbl&gt;</th><th scope=col>&lt;dbl&gt;</th><th scope=col>&lt;dbl&gt;</th><th scope=col>&lt;dbl&gt;</th><th scope=col>&lt;dbl&gt;</th><th scope=col>&lt;dbl&gt;</th><th scope=col>&lt;dbl&gt;</th><th scope=col>&lt;dbl&gt;</th><th scope=col>&lt;dbl&gt;</th><th scope=col>&lt;dbl&gt;</th></tr>\n",
       "</thead>\n",
       "<tbody>\n",
       "\t<tr><th scope=row>B-X-cytokine_and_receptors_proinflammatory</th><td>-0.037</td><td> 0.221</td><td>-0.670</td><td>1.061</td><td> 0.526</td><td>-0.113</td><td>-0.172</td><td>-0.666</td><td>-0.406</td><td>-1.566</td><td> 0.124</td><td> 0.801</td><td>-0.857</td><td>-1.339</td><td>-1.041</td><td>-0.871</td><td>-0.246</td><td> 0.097</td><td>-1.407</td></tr>\n",
       "\t<tr><th scope=row>T_CD8_Naive-X-adhesion_molecules</th><td> 0.431</td><td> 2.767</td><td> 0.387</td><td>2.407</td><td>-0.495</td><td>-0.799</td><td> 0.191</td><td>-0.769</td><td> 1.169</td><td>-0.563</td><td>-0.202</td><td> 0.835</td><td> 0.336</td><td> 1.082</td><td> 1.292</td><td> 1.586</td><td>-0.950</td><td>-0.022</td><td> 0.995</td></tr>\n",
       "\t<tr><th scope=row>T_CD8_Naive-X-antigen_presentation_molecules</th><td>-0.420</td><td> 2.557</td><td> 1.623</td><td>5.423</td><td> 0.758</td><td>-0.212</td><td> 3.445</td><td>-0.265</td><td> 1.116</td><td>-1.377</td><td> 0.545</td><td> 0.451</td><td>-1.537</td><td> 2.285</td><td> 2.201</td><td> 2.448</td><td>-0.842</td><td> 1.448</td><td> 2.992</td></tr>\n",
       "\t<tr><th scope=row>T_CD8_NonNaive-X-CD8T_exhaustion</th><td> 1.085</td><td> 1.103</td><td> 0.675</td><td>0.575</td><td> 0.317</td><td>-0.099</td><td>-1.161</td><td> 0.210</td><td>-0.055</td><td>-0.787</td><td> 0.147</td><td> 0.034</td><td> 1.043</td><td> 0.304</td><td> 0.714</td><td> 1.436</td><td> 0.105</td><td> 1.713</td><td> 1.577</td></tr>\n",
       "\t<tr><th scope=row>T_CD8_NonNaive-X-CD8T_tcr_activation</th><td> 0.595</td><td>-0.524</td><td> 0.913</td><td>3.016</td><td> 1.249</td><td> 0.043</td><td>-0.889</td><td> 0.464</td><td>-0.872</td><td>-1.351</td><td> 0.083</td><td>-0.067</td><td> 0.263</td><td> 0.219</td><td> 0.608</td><td> 0.816</td><td> 0.202</td><td> 1.650</td><td> 1.809</td></tr>\n",
       "\t<tr><th scope=row>T_CD8_NonNaive-X-chemokines</th><td> 0.706</td><td>-0.308</td><td> 0.603</td><td>2.172</td><td> 1.203</td><td> 0.119</td><td>-0.894</td><td> 0.674</td><td>-2.533</td><td>-0.920</td><td>-0.064</td><td>-1.080</td><td>-1.989</td><td>-0.695</td><td> 0.672</td><td> 0.831</td><td> 0.145</td><td> 0.984</td><td> 0.734</td></tr>\n",
       "</tbody>\n",
       "</table>\n"
      ],
      "text/latex": [
       "A data.frame: 6 × 19\n",
       "\\begin{tabular}{r|lllllllllllllllllll}\n",
       "  & asthma & BRCA & CD & cirrhosis & COPD & COVID & CRC & flu & HBV & HIV & HNSCC & MS & NPC & PS & PSA & RA & sepsis & SLE & UC\\\\\n",
       "  & <dbl> & <dbl> & <dbl> & <dbl> & <dbl> & <dbl> & <dbl> & <dbl> & <dbl> & <dbl> & <dbl> & <dbl> & <dbl> & <dbl> & <dbl> & <dbl> & <dbl> & <dbl> & <dbl>\\\\\n",
       "\\hline\n",
       "\tB-X-cytokine\\_and\\_receptors\\_proinflammatory & -0.037 &  0.221 & -0.670 & 1.061 &  0.526 & -0.113 & -0.172 & -0.666 & -0.406 & -1.566 &  0.124 &  0.801 & -0.857 & -1.339 & -1.041 & -0.871 & -0.246 &  0.097 & -1.407\\\\\n",
       "\tT\\_CD8\\_Naive-X-adhesion\\_molecules &  0.431 &  2.767 &  0.387 & 2.407 & -0.495 & -0.799 &  0.191 & -0.769 &  1.169 & -0.563 & -0.202 &  0.835 &  0.336 &  1.082 &  1.292 &  1.586 & -0.950 & -0.022 &  0.995\\\\\n",
       "\tT\\_CD8\\_Naive-X-antigen\\_presentation\\_molecules & -0.420 &  2.557 &  1.623 & 5.423 &  0.758 & -0.212 &  3.445 & -0.265 &  1.116 & -1.377 &  0.545 &  0.451 & -1.537 &  2.285 &  2.201 &  2.448 & -0.842 &  1.448 &  2.992\\\\\n",
       "\tT\\_CD8\\_NonNaive-X-CD8T\\_exhaustion &  1.085 &  1.103 &  0.675 & 0.575 &  0.317 & -0.099 & -1.161 &  0.210 & -0.055 & -0.787 &  0.147 &  0.034 &  1.043 &  0.304 &  0.714 &  1.436 &  0.105 &  1.713 &  1.577\\\\\n",
       "\tT\\_CD8\\_NonNaive-X-CD8T\\_tcr\\_activation &  0.595 & -0.524 &  0.913 & 3.016 &  1.249 &  0.043 & -0.889 &  0.464 & -0.872 & -1.351 &  0.083 & -0.067 &  0.263 &  0.219 &  0.608 &  0.816 &  0.202 &  1.650 &  1.809\\\\\n",
       "\tT\\_CD8\\_NonNaive-X-chemokines &  0.706 & -0.308 &  0.603 & 2.172 &  1.203 &  0.119 & -0.894 &  0.674 & -2.533 & -0.920 & -0.064 & -1.080 & -1.989 & -0.695 &  0.672 &  0.831 &  0.145 &  0.984 &  0.734\\\\\n",
       "\\end{tabular}\n"
      ],
      "text/markdown": [
       "\n",
       "A data.frame: 6 × 19\n",
       "\n",
       "| <!--/--> | asthma &lt;dbl&gt; | BRCA &lt;dbl&gt; | CD &lt;dbl&gt; | cirrhosis &lt;dbl&gt; | COPD &lt;dbl&gt; | COVID &lt;dbl&gt; | CRC &lt;dbl&gt; | flu &lt;dbl&gt; | HBV &lt;dbl&gt; | HIV &lt;dbl&gt; | HNSCC &lt;dbl&gt; | MS &lt;dbl&gt; | NPC &lt;dbl&gt; | PS &lt;dbl&gt; | PSA &lt;dbl&gt; | RA &lt;dbl&gt; | sepsis &lt;dbl&gt; | SLE &lt;dbl&gt; | UC &lt;dbl&gt; |\n",
       "|---|---|---|---|---|---|---|---|---|---|---|---|---|---|---|---|---|---|---|---|\n",
       "| B-X-cytokine_and_receptors_proinflammatory | -0.037 |  0.221 | -0.670 | 1.061 |  0.526 | -0.113 | -0.172 | -0.666 | -0.406 | -1.566 |  0.124 |  0.801 | -0.857 | -1.339 | -1.041 | -0.871 | -0.246 |  0.097 | -1.407 |\n",
       "| T_CD8_Naive-X-adhesion_molecules |  0.431 |  2.767 |  0.387 | 2.407 | -0.495 | -0.799 |  0.191 | -0.769 |  1.169 | -0.563 | -0.202 |  0.835 |  0.336 |  1.082 |  1.292 |  1.586 | -0.950 | -0.022 |  0.995 |\n",
       "| T_CD8_Naive-X-antigen_presentation_molecules | -0.420 |  2.557 |  1.623 | 5.423 |  0.758 | -0.212 |  3.445 | -0.265 |  1.116 | -1.377 |  0.545 |  0.451 | -1.537 |  2.285 |  2.201 |  2.448 | -0.842 |  1.448 |  2.992 |\n",
       "| T_CD8_NonNaive-X-CD8T_exhaustion |  1.085 |  1.103 |  0.675 | 0.575 |  0.317 | -0.099 | -1.161 |  0.210 | -0.055 | -0.787 |  0.147 |  0.034 |  1.043 |  0.304 |  0.714 |  1.436 |  0.105 |  1.713 |  1.577 |\n",
       "| T_CD8_NonNaive-X-CD8T_tcr_activation |  0.595 | -0.524 |  0.913 | 3.016 |  1.249 |  0.043 | -0.889 |  0.464 | -0.872 | -1.351 |  0.083 | -0.067 |  0.263 |  0.219 |  0.608 |  0.816 |  0.202 |  1.650 |  1.809 |\n",
       "| T_CD8_NonNaive-X-chemokines |  0.706 | -0.308 |  0.603 | 2.172 |  1.203 |  0.119 | -0.894 |  0.674 | -2.533 | -0.920 | -0.064 | -1.080 | -1.989 | -0.695 |  0.672 |  0.831 |  0.145 |  0.984 |  0.734 |\n",
       "\n"
      ],
      "text/plain": [
       "                                             asthma BRCA   CD     cirrhosis\n",
       "B-X-cytokine_and_receptors_proinflammatory   -0.037  0.221 -0.670 1.061    \n",
       "T_CD8_Naive-X-adhesion_molecules              0.431  2.767  0.387 2.407    \n",
       "T_CD8_Naive-X-antigen_presentation_molecules -0.420  2.557  1.623 5.423    \n",
       "T_CD8_NonNaive-X-CD8T_exhaustion              1.085  1.103  0.675 0.575    \n",
       "T_CD8_NonNaive-X-CD8T_tcr_activation          0.595 -0.524  0.913 3.016    \n",
       "T_CD8_NonNaive-X-chemokines                   0.706 -0.308  0.603 2.172    \n",
       "                                             COPD   COVID  CRC    flu    HBV   \n",
       "B-X-cytokine_and_receptors_proinflammatory    0.526 -0.113 -0.172 -0.666 -0.406\n",
       "T_CD8_Naive-X-adhesion_molecules             -0.495 -0.799  0.191 -0.769  1.169\n",
       "T_CD8_Naive-X-antigen_presentation_molecules  0.758 -0.212  3.445 -0.265  1.116\n",
       "T_CD8_NonNaive-X-CD8T_exhaustion              0.317 -0.099 -1.161  0.210 -0.055\n",
       "T_CD8_NonNaive-X-CD8T_tcr_activation          1.249  0.043 -0.889  0.464 -0.872\n",
       "T_CD8_NonNaive-X-chemokines                   1.203  0.119 -0.894  0.674 -2.533\n",
       "                                             HIV    HNSCC  MS     NPC    PS    \n",
       "B-X-cytokine_and_receptors_proinflammatory   -1.566  0.124  0.801 -0.857 -1.339\n",
       "T_CD8_Naive-X-adhesion_molecules             -0.563 -0.202  0.835  0.336  1.082\n",
       "T_CD8_Naive-X-antigen_presentation_molecules -1.377  0.545  0.451 -1.537  2.285\n",
       "T_CD8_NonNaive-X-CD8T_exhaustion             -0.787  0.147  0.034  1.043  0.304\n",
       "T_CD8_NonNaive-X-CD8T_tcr_activation         -1.351  0.083 -0.067  0.263  0.219\n",
       "T_CD8_NonNaive-X-chemokines                  -0.920 -0.064 -1.080 -1.989 -0.695\n",
       "                                             PSA    RA     sepsis SLE    UC    \n",
       "B-X-cytokine_and_receptors_proinflammatory   -1.041 -0.871 -0.246  0.097 -1.407\n",
       "T_CD8_Naive-X-adhesion_molecules              1.292  1.586 -0.950 -0.022  0.995\n",
       "T_CD8_Naive-X-antigen_presentation_molecules  2.201  2.448 -0.842  1.448  2.992\n",
       "T_CD8_NonNaive-X-CD8T_exhaustion              0.714  1.436  0.105  1.713  1.577\n",
       "T_CD8_NonNaive-X-CD8T_tcr_activation          0.608  0.816  0.202  1.650  1.809\n",
       "T_CD8_NonNaive-X-chemokines                   0.672  0.831  0.145  0.984  0.734"
      ]
     },
     "metadata": {},
     "output_type": "display_data"
    }
   ],
   "source": [
    "heatmap_matrix <- as.matrix(heatmap_data[,-1])\n",
    "rownames(heatmap_matrix) <- heatmap_data$FactorName\n",
    "colnames(heatmap_matrix) <- colnames(heatmap_data)[2:length(colnames(heatmap_data))]\n",
    "#heatmap_matrix <- t(apply(heatmap_matrix, 1, scale))\n",
    "#heatmap_matrix[is.na(heatmap_matrix)] <- 0\n",
    "\n",
    "\n",
    "heatmap_df <- as.data.frame(heatmap_matrix)\n",
    "rownames(heatmap_df) <- heatmap_data$FactorName\n",
    "colnames(heatmap_df) <- colnames(heatmap_data)[2:length(colnames(heatmap_data))]\n",
    "head(heatmap_df)"
   ]
  },
  {
   "cell_type": "markdown",
   "id": "1c1a286e-0a22-4cc8-83bf-631520d851ee",
   "metadata": {},
   "source": [
    "**Add missing diseases**"
   ]
  },
  {
   "cell_type": "code",
   "execution_count": 72,
   "id": "07d5e7f9-d0a8-4498-b22b-324e2b024f16",
   "metadata": {
    "execution": {
     "iopub.execute_input": "2024-08-27T09:55:13.575791Z",
     "iopub.status.busy": "2024-08-27T09:55:13.574856Z",
     "iopub.status.idle": "2024-08-27T09:55:13.584727Z",
     "shell.execute_reply": "2024-08-27T09:55:13.583551Z"
    }
   },
   "outputs": [
    {
     "data": {
      "text/html": [
       "<style>\n",
       ".list-inline {list-style: none; margin:0; padding: 0}\n",
       ".list-inline>li {display: inline-block}\n",
       ".list-inline>li:not(:last-child)::after {content: \"\\00b7\"; padding: 0 .5ex}\n",
       "</style>\n",
       "<ol class=list-inline><li>'asthma'</li><li>'BRCA'</li><li>'CD'</li><li>'cirrhosis'</li><li>'COPD'</li><li>'COVID'</li><li>'CRC'</li><li>'flu'</li><li>'HBV'</li><li>'HIV'</li><li>'HNSCC'</li><li>'MS'</li><li>'NPC'</li><li>'PS'</li><li>'PSA'</li><li>'RA'</li><li>'sepsis'</li><li>'SLE'</li><li>'UC'</li></ol>\n"
      ],
      "text/latex": [
       "\\begin{enumerate*}\n",
       "\\item 'asthma'\n",
       "\\item 'BRCA'\n",
       "\\item 'CD'\n",
       "\\item 'cirrhosis'\n",
       "\\item 'COPD'\n",
       "\\item 'COVID'\n",
       "\\item 'CRC'\n",
       "\\item 'flu'\n",
       "\\item 'HBV'\n",
       "\\item 'HIV'\n",
       "\\item 'HNSCC'\n",
       "\\item 'MS'\n",
       "\\item 'NPC'\n",
       "\\item 'PS'\n",
       "\\item 'PSA'\n",
       "\\item 'RA'\n",
       "\\item 'sepsis'\n",
       "\\item 'SLE'\n",
       "\\item 'UC'\n",
       "\\end{enumerate*}\n"
      ],
      "text/markdown": [
       "1. 'asthma'\n",
       "2. 'BRCA'\n",
       "3. 'CD'\n",
       "4. 'cirrhosis'\n",
       "5. 'COPD'\n",
       "6. 'COVID'\n",
       "7. 'CRC'\n",
       "8. 'flu'\n",
       "9. 'HBV'\n",
       "10. 'HIV'\n",
       "11. 'HNSCC'\n",
       "12. 'MS'\n",
       "13. 'NPC'\n",
       "14. 'PS'\n",
       "15. 'PSA'\n",
       "16. 'RA'\n",
       "17. 'sepsis'\n",
       "18. 'SLE'\n",
       "19. 'UC'\n",
       "\n",
       "\n"
      ],
      "text/plain": [
       " [1] \"asthma\"    \"BRCA\"      \"CD\"        \"cirrhosis\" \"COPD\"      \"COVID\"    \n",
       " [7] \"CRC\"       \"flu\"       \"HBV\"       \"HIV\"       \"HNSCC\"     \"MS\"       \n",
       "[13] \"NPC\"       \"PS\"        \"PSA\"       \"RA\"        \"sepsis\"    \"SLE\"      \n",
       "[19] \"UC\"       "
      ]
     },
     "metadata": {},
     "output_type": "display_data"
    }
   ],
   "source": [
    "colnames(heatmap_df)"
   ]
  },
  {
   "cell_type": "code",
   "execution_count": 73,
   "id": "a95659c4-0d03-4758-a0c4-0eab32f1cb8e",
   "metadata": {
    "execution": {
     "iopub.execute_input": "2024-08-27T09:55:13.591553Z",
     "iopub.status.busy": "2024-08-27T09:55:13.590453Z",
     "iopub.status.idle": "2024-08-27T09:55:13.600728Z",
     "shell.execute_reply": "2024-08-27T09:55:13.599561Z"
    },
    "scrolled": true
   },
   "outputs": [
    {
     "data": {
      "text/html": [
       "<style>\n",
       ".list-inline {list-style: none; margin:0; padding: 0}\n",
       ".list-inline>li {display: inline-block}\n",
       ".list-inline>li:not(:last-child)::after {content: \"\\00b7\"; padding: 0 .5ex}\n",
       "</style>\n",
       "<ol class=list-inline><li>'BRCA'</li><li>'CD'</li><li>'COPD'</li><li>'COVID'</li><li>'CRC'</li><li>'HBV'</li><li>'HIV'</li><li>'HNSCC'</li><li>'MS'</li><li>'NPC'</li><li>'PS'</li><li>'PSA'</li><li>'RA'</li><li>'SLE'</li><li>'UC'</li><li>'asthma'</li><li>'cirrhosis'</li><li>'flu'</li><li>'healthy'</li><li>'sepsis'</li></ol>\n"
      ],
      "text/latex": [
       "\\begin{enumerate*}\n",
       "\\item 'BRCA'\n",
       "\\item 'CD'\n",
       "\\item 'COPD'\n",
       "\\item 'COVID'\n",
       "\\item 'CRC'\n",
       "\\item 'HBV'\n",
       "\\item 'HIV'\n",
       "\\item 'HNSCC'\n",
       "\\item 'MS'\n",
       "\\item 'NPC'\n",
       "\\item 'PS'\n",
       "\\item 'PSA'\n",
       "\\item 'RA'\n",
       "\\item 'SLE'\n",
       "\\item 'UC'\n",
       "\\item 'asthma'\n",
       "\\item 'cirrhosis'\n",
       "\\item 'flu'\n",
       "\\item 'healthy'\n",
       "\\item 'sepsis'\n",
       "\\end{enumerate*}\n"
      ],
      "text/markdown": [
       "1. 'BRCA'\n",
       "2. 'CD'\n",
       "3. 'COPD'\n",
       "4. 'COVID'\n",
       "5. 'CRC'\n",
       "6. 'HBV'\n",
       "7. 'HIV'\n",
       "8. 'HNSCC'\n",
       "9. 'MS'\n",
       "10. 'NPC'\n",
       "11. 'PS'\n",
       "12. 'PSA'\n",
       "13. 'RA'\n",
       "14. 'SLE'\n",
       "15. 'UC'\n",
       "16. 'asthma'\n",
       "17. 'cirrhosis'\n",
       "18. 'flu'\n",
       "19. 'healthy'\n",
       "20. 'sepsis'\n",
       "\n",
       "\n"
      ],
      "text/plain": [
       " [1] \"BRCA\"      \"CD\"        \"COPD\"      \"COVID\"     \"CRC\"       \"HBV\"      \n",
       " [7] \"HIV\"       \"HNSCC\"     \"MS\"        \"NPC\"       \"PS\"        \"PSA\"      \n",
       "[13] \"RA\"        \"SLE\"       \"UC\"        \"asthma\"    \"cirrhosis\" \"flu\"      \n",
       "[19] \"healthy\"   \"sepsis\"   "
      ]
     },
     "metadata": {},
     "output_type": "display_data"
    }
   ],
   "source": [
    "unique(metadata$disease)"
   ]
  },
  {
   "cell_type": "code",
   "execution_count": 74,
   "id": "449b7834-e7c9-4daf-990c-20f3a9a276c9",
   "metadata": {
    "execution": {
     "iopub.execute_input": "2024-08-27T09:55:13.603396Z",
     "iopub.status.busy": "2024-08-27T09:55:13.602480Z",
     "iopub.status.idle": "2024-08-27T09:55:13.614539Z",
     "shell.execute_reply": "2024-08-27T09:55:13.613342Z"
    }
   },
   "outputs": [],
   "source": [
    "for (disease in unique(metadata$disease)) {\n",
    "  if (!(disease %in% colnames(heatmap_df))) {\n",
    "    heatmap_df[[disease]] <- NA\n",
    "  }\n",
    "}"
   ]
  },
  {
   "cell_type": "markdown",
   "id": "77891b6e-7576-4621-aba2-db293bccbad5",
   "metadata": {},
   "source": [
    "**Disease order**"
   ]
  },
  {
   "cell_type": "code",
   "execution_count": 75,
   "id": "95d16abe-1071-44df-86c7-0587d5622984",
   "metadata": {
    "execution": {
     "iopub.execute_input": "2024-08-27T09:55:13.617208Z",
     "iopub.status.busy": "2024-08-27T09:55:13.616272Z",
     "iopub.status.idle": "2024-08-27T09:55:13.623967Z",
     "shell.execute_reply": "2024-08-27T09:55:13.622836Z"
    }
   },
   "outputs": [],
   "source": [
    "disease_order = c(\n",
    "  'RA','PS', 'PSA', 'CD','UC','SLE', 'MS',\n",
    "    \n",
    "  'asthma', 'COPD', 'cirrhosis', \n",
    "    \n",
    "  'sepsis', \n",
    "    \n",
    "  'HIV', 'HBV', 'COVID', 'flu', \n",
    "    \n",
    "  'BRCA', 'NPC', 'HNSCC', 'CRC' \n",
    ")"
   ]
  },
  {
   "cell_type": "markdown",
   "id": "fadc7eab-7899-49ad-b84f-1f66ae010398",
   "metadata": {},
   "source": [
    "**Celltype order**"
   ]
  },
  {
   "cell_type": "code",
   "execution_count": 76,
   "id": "52452534-1228-44e0-bce7-0db0a88b8382",
   "metadata": {
    "execution": {
     "iopub.execute_input": "2024-08-27T09:55:13.626648Z",
     "iopub.status.busy": "2024-08-27T09:55:13.625716Z",
     "iopub.status.idle": "2024-08-27T09:55:13.637823Z",
     "shell.execute_reply": "2024-08-27T09:55:13.636564Z"
    }
   },
   "outputs": [],
   "source": [
    "heatmap_celltypes_order= c(\n",
    "  'B','Plasma',\n",
    "    \n",
    "  'pDC', 'DC', 'Mono', \n",
    "        \n",
    "  'T_CD4_Naive', 'T_CD4_NonNaive', 'T_CD8_Naive', 'T_CD8_NonNaive', \n",
    "    \n",
    "  'UTC', 'ILC'\n",
    ")"
   ]
  },
  {
   "cell_type": "markdown",
   "id": "1a75333b-7035-42dc-8f29-a9b8dc2c8383",
   "metadata": {},
   "source": [
    "**Functions order**"
   ]
  },
  {
   "cell_type": "code",
   "execution_count": 77,
   "id": "48ebc732-f56a-44ac-adda-aa277956b77c",
   "metadata": {
    "execution": {
     "iopub.execute_input": "2024-08-27T09:55:13.640592Z",
     "iopub.status.busy": "2024-08-27T09:55:13.639643Z",
     "iopub.status.idle": "2024-08-27T09:55:13.647590Z",
     "shell.execute_reply": "2024-08-27T09:55:13.646447Z"
    }
   },
   "outputs": [],
   "source": [
    "functions_order <- c('adhesion_molecules',\n",
    "    \n",
    "                'antigen_presentation_molecules',\n",
    "    \n",
    "                'cytokine_and_receptors_proinflammatory',\n",
    "                #'cytokine_and_receptors__antiinflammatory',\n",
    "                'cytokine_andreceptors_antiinflammatory',\n",
    "\n",
    "\n",
    "               'chemokines',\n",
    "               'chemokine_receptors',\n",
    "\n",
    "               'IFN_Type_1_2_Lambda',\n",
    "               'IFN_response',\n",
    "               'TNF_receptors_ligands',\n",
    "\n",
    "               'CD4T_TFH_UP',\n",
    "               'CD4T_TH1_UP',\n",
    "               'CD4T_TH2_UP',\n",
    "               'CD4T_TH17_UP',\n",
    "               \n",
    "               'Tregs_FoxP3_stabilization',\n",
    "\n",
    "               'CD8T_exhaustion',\n",
    "               'CD8T_tcr_activation',\n",
    "                \n",
    "               'effector',\n",
    "                \n",
    "               'IFNG_response',\n",
    "               'IL4-IL13_response',\n",
    "\n",
    "               'antigen-crosspresentation'\n",
    "   \n",
    "               )"
   ]
  },
  {
   "cell_type": "markdown",
   "id": "0ed2c7d9-55f0-48ee-bc40-ea9db59e289f",
   "metadata": {},
   "source": [
    "## Color Annotations"
   ]
  },
  {
   "cell_type": "code",
   "execution_count": 114,
   "id": "fbc059a2-b80b-4645-a9ea-9a590b6d1e9f",
   "metadata": {
    "execution": {
     "iopub.execute_input": "2024-08-27T09:59:35.707561Z",
     "iopub.status.busy": "2024-08-27T09:59:35.706426Z",
     "iopub.status.idle": "2024-08-27T09:59:35.719585Z",
     "shell.execute_reply": "2024-08-27T09:59:35.714091Z"
    }
   },
   "outputs": [],
   "source": [
    "disease_order_dendogram <- c(\"cirrhosis\", \"SLE\", \"UC\", \"RA\", \"PSA\", \"PS\", \"CD\", \"HIV\", \"HBV\", \"NPC\", \"MS\", \"CRC\", \"asthma\", \"BRCA\", \"COPD\", \"HNSCC\", \"sepsis\", \"COVID\", \"flu\")"
   ]
  },
  {
   "cell_type": "code",
   "execution_count": 115,
   "id": "fc58edfc-4966-492f-8596-6b482e735bcc",
   "metadata": {
    "execution": {
     "iopub.execute_input": "2024-08-27T09:59:36.626344Z",
     "iopub.status.busy": "2024-08-27T09:59:36.625223Z",
     "iopub.status.idle": "2024-08-27T09:59:36.651711Z",
     "shell.execute_reply": "2024-08-27T09:59:36.650498Z"
    }
   },
   "outputs": [
    {
     "data": {
      "text/html": [
       "<table class=\"dataframe\">\n",
       "<caption>A data.frame: 19 × 2</caption>\n",
       "<thead>\n",
       "\t<tr><th scope=col>disease</th><th scope=col>diseaseGroup</th></tr>\n",
       "\t<tr><th scope=col>&lt;chr&gt;</th><th scope=col>&lt;fct&gt;</th></tr>\n",
       "</thead>\n",
       "<tbody>\n",
       "\t<tr><td>cirrhosis</td><td>chronic_inflammation</td></tr>\n",
       "\t<tr><td>SLE      </td><td>IMIDs               </td></tr>\n",
       "\t<tr><td>UC       </td><td>IMIDs               </td></tr>\n",
       "\t<tr><td>RA       </td><td>IMIDs               </td></tr>\n",
       "\t<tr><td>PSA      </td><td>IMIDs               </td></tr>\n",
       "\t<tr><td>PS       </td><td>IMIDs               </td></tr>\n",
       "\t<tr><td>CD       </td><td>IMIDs               </td></tr>\n",
       "\t<tr><td>HIV      </td><td>infection           </td></tr>\n",
       "\t<tr><td>HBV      </td><td>infection           </td></tr>\n",
       "\t<tr><td>NPC      </td><td>solid_tumor         </td></tr>\n",
       "\t<tr><td>MS       </td><td>IMIDs               </td></tr>\n",
       "\t<tr><td>CRC      </td><td>solid_tumor         </td></tr>\n",
       "\t<tr><td>asthma   </td><td>chronic_inflammation</td></tr>\n",
       "\t<tr><td>BRCA     </td><td>solid_tumor         </td></tr>\n",
       "\t<tr><td>COPD     </td><td>chronic_inflammation</td></tr>\n",
       "\t<tr><td>HNSCC    </td><td>solid_tumor         </td></tr>\n",
       "\t<tr><td>sepsis   </td><td>acute_inflammation  </td></tr>\n",
       "\t<tr><td>COVID    </td><td>infection           </td></tr>\n",
       "\t<tr><td>flu      </td><td>infection           </td></tr>\n",
       "</tbody>\n",
       "</table>\n"
      ],
      "text/latex": [
       "A data.frame: 19 × 2\n",
       "\\begin{tabular}{ll}\n",
       " disease & diseaseGroup\\\\\n",
       " <chr> & <fct>\\\\\n",
       "\\hline\n",
       "\t cirrhosis & chronic\\_inflammation\\\\\n",
       "\t SLE       & IMIDs               \\\\\n",
       "\t UC        & IMIDs               \\\\\n",
       "\t RA        & IMIDs               \\\\\n",
       "\t PSA       & IMIDs               \\\\\n",
       "\t PS        & IMIDs               \\\\\n",
       "\t CD        & IMIDs               \\\\\n",
       "\t HIV       & infection           \\\\\n",
       "\t HBV       & infection           \\\\\n",
       "\t NPC       & solid\\_tumor         \\\\\n",
       "\t MS        & IMIDs               \\\\\n",
       "\t CRC       & solid\\_tumor         \\\\\n",
       "\t asthma    & chronic\\_inflammation\\\\\n",
       "\t BRCA      & solid\\_tumor         \\\\\n",
       "\t COPD      & chronic\\_inflammation\\\\\n",
       "\t HNSCC     & solid\\_tumor         \\\\\n",
       "\t sepsis    & acute\\_inflammation  \\\\\n",
       "\t COVID     & infection           \\\\\n",
       "\t flu       & infection           \\\\\n",
       "\\end{tabular}\n"
      ],
      "text/markdown": [
       "\n",
       "A data.frame: 19 × 2\n",
       "\n",
       "| disease &lt;chr&gt; | diseaseGroup &lt;fct&gt; |\n",
       "|---|---|\n",
       "| cirrhosis | chronic_inflammation |\n",
       "| SLE       | IMIDs                |\n",
       "| UC        | IMIDs                |\n",
       "| RA        | IMIDs                |\n",
       "| PSA       | IMIDs                |\n",
       "| PS        | IMIDs                |\n",
       "| CD        | IMIDs                |\n",
       "| HIV       | infection            |\n",
       "| HBV       | infection            |\n",
       "| NPC       | solid_tumor          |\n",
       "| MS        | IMIDs                |\n",
       "| CRC       | solid_tumor          |\n",
       "| asthma    | chronic_inflammation |\n",
       "| BRCA      | solid_tumor          |\n",
       "| COPD      | chronic_inflammation |\n",
       "| HNSCC     | solid_tumor          |\n",
       "| sepsis    | acute_inflammation   |\n",
       "| COVID     | infection            |\n",
       "| flu       | infection            |\n",
       "\n"
      ],
      "text/plain": [
       "   disease   diseaseGroup        \n",
       "1  cirrhosis chronic_inflammation\n",
       "2  SLE       IMIDs               \n",
       "3  UC        IMIDs               \n",
       "4  RA        IMIDs               \n",
       "5  PSA       IMIDs               \n",
       "6  PS        IMIDs               \n",
       "7  CD        IMIDs               \n",
       "8  HIV       infection           \n",
       "9  HBV       infection           \n",
       "10 NPC       solid_tumor         \n",
       "11 MS        IMIDs               \n",
       "12 CRC       solid_tumor         \n",
       "13 asthma    chronic_inflammation\n",
       "14 BRCA      solid_tumor         \n",
       "15 COPD      chronic_inflammation\n",
       "16 HNSCC     solid_tumor         \n",
       "17 sepsis    acute_inflammation  \n",
       "18 COVID     infection           \n",
       "19 flu       infection           "
      ]
     },
     "metadata": {},
     "output_type": "display_data"
    }
   ],
   "source": [
    "# Prepare annotations\n",
    "# Column annotations\n",
    "col_annotations <- metadata %>%\n",
    "  arrange(diseaseGroup) %>%\n",
    "  filter(diseaseGroup != \"healthy\") %>%\n",
    "  mutate(diseaseGroup = as.factor(diseaseGroup))\n",
    "col_annotations <- col_annotations[match(disease_order_dendogram, col_annotations$disease), ]\n",
    "rownames(col_annotations) <- NULL\n",
    "order_col <- col_annotations$disease\n",
    "col_annotations"
   ]
  },
  {
   "cell_type": "code",
   "execution_count": 116,
   "id": "a0e401f0-8ecd-4279-b1b6-10f0a1a41c92",
   "metadata": {
    "execution": {
     "iopub.execute_input": "2024-08-27T09:59:48.431548Z",
     "iopub.status.busy": "2024-08-27T09:59:48.430440Z",
     "iopub.status.idle": "2024-08-27T09:59:48.443473Z",
     "shell.execute_reply": "2024-08-27T09:59:48.441850Z"
    }
   },
   "outputs": [],
   "source": [
    "col_annotations <- col_annotations %>%\n",
    "  tibble::column_to_rownames(\"disease\")"
   ]
  },
  {
   "cell_type": "code",
   "execution_count": 117,
   "id": "6ff457be-05f8-413c-a758-966d04fae668",
   "metadata": {
    "execution": {
     "iopub.execute_input": "2024-08-27T09:59:48.446392Z",
     "iopub.status.busy": "2024-08-27T09:59:48.445451Z",
     "iopub.status.idle": "2024-08-27T09:59:48.453749Z",
     "shell.execute_reply": "2024-08-27T09:59:48.452539Z"
    }
   },
   "outputs": [],
   "source": [
    "col_annotations$disease <- factor(rownames(col_annotations), levels = unique(rownames(col_annotations)))"
   ]
  },
  {
   "cell_type": "code",
   "execution_count": 118,
   "id": "d535b54b-d322-4fd1-a985-a497f9388499",
   "metadata": {
    "execution": {
     "iopub.execute_input": "2024-08-27T09:59:48.456416Z",
     "iopub.status.busy": "2024-08-27T09:59:48.455497Z",
     "iopub.status.idle": "2024-08-27T09:59:48.465417Z",
     "shell.execute_reply": "2024-08-27T09:59:48.464187Z"
    }
   },
   "outputs": [],
   "source": [
    "row_annotDF <- heatmap_data %>%\n",
    "  mutate(Function = sapply(strsplit(as.character(FactorName), \"-X-\"), `[`, 2),\n",
    "         CellType = sapply(strsplit(as.character(FactorName), \"-X-\"), `[`, 1))"
   ]
  },
  {
   "cell_type": "code",
   "execution_count": 148,
   "id": "5a9e8603-4139-44d8-968d-bb1503eb5704",
   "metadata": {
    "execution": {
     "iopub.execute_input": "2024-08-27T10:07:25.217389Z",
     "iopub.status.busy": "2024-08-27T10:07:25.216307Z",
     "iopub.status.idle": "2024-08-27T10:07:25.246066Z",
     "shell.execute_reply": "2024-08-27T10:07:25.244896Z"
    }
   },
   "outputs": [
    {
     "data": {
      "text/html": [
       "<table class=\"dataframe\">\n",
       "<caption>A data.frame: 6 × 3</caption>\n",
       "<thead>\n",
       "\t<tr><th></th><th scope=col>FactorName</th><th scope=col>Function</th><th scope=col>CellType</th></tr>\n",
       "\t<tr><th></th><th scope=col>&lt;chr&gt;</th><th scope=col>&lt;fct&gt;</th><th scope=col>&lt;fct&gt;</th></tr>\n",
       "</thead>\n",
       "<tbody>\n",
       "\t<tr><th scope=row>1</th><td>B-X-adhesion_molecules          </td><td>adhesion_molecules</td><td>B          </td></tr>\n",
       "\t<tr><th scope=row>2</th><td>Plasma-X-adhesion_molecules     </td><td>adhesion_molecules</td><td>Plasma     </td></tr>\n",
       "\t<tr><th scope=row>3</th><td>pDC-X-adhesion_molecules        </td><td>adhesion_molecules</td><td>pDC        </td></tr>\n",
       "\t<tr><th scope=row>4</th><td>DC-X-adhesion_molecules         </td><td>adhesion_molecules</td><td>DC         </td></tr>\n",
       "\t<tr><th scope=row>5</th><td>Mono-X-adhesion_molecules       </td><td>adhesion_molecules</td><td>Mono       </td></tr>\n",
       "\t<tr><th scope=row>6</th><td>T_CD4_Naive-X-adhesion_molecules</td><td>adhesion_molecules</td><td>T_CD4_Naive</td></tr>\n",
       "</tbody>\n",
       "</table>\n"
      ],
      "text/latex": [
       "A data.frame: 6 × 3\n",
       "\\begin{tabular}{r|lll}\n",
       "  & FactorName & Function & CellType\\\\\n",
       "  & <chr> & <fct> & <fct>\\\\\n",
       "\\hline\n",
       "\t1 & B-X-adhesion\\_molecules           & adhesion\\_molecules & B          \\\\\n",
       "\t2 & Plasma-X-adhesion\\_molecules      & adhesion\\_molecules & Plasma     \\\\\n",
       "\t3 & pDC-X-adhesion\\_molecules         & adhesion\\_molecules & pDC        \\\\\n",
       "\t4 & DC-X-adhesion\\_molecules          & adhesion\\_molecules & DC         \\\\\n",
       "\t5 & Mono-X-adhesion\\_molecules        & adhesion\\_molecules & Mono       \\\\\n",
       "\t6 & T\\_CD4\\_Naive-X-adhesion\\_molecules & adhesion\\_molecules & T\\_CD4\\_Naive\\\\\n",
       "\\end{tabular}\n"
      ],
      "text/markdown": [
       "\n",
       "A data.frame: 6 × 3\n",
       "\n",
       "| <!--/--> | FactorName &lt;chr&gt; | Function &lt;fct&gt; | CellType &lt;fct&gt; |\n",
       "|---|---|---|---|\n",
       "| 1 | B-X-adhesion_molecules           | adhesion_molecules | B           |\n",
       "| 2 | Plasma-X-adhesion_molecules      | adhesion_molecules | Plasma      |\n",
       "| 3 | pDC-X-adhesion_molecules         | adhesion_molecules | pDC         |\n",
       "| 4 | DC-X-adhesion_molecules          | adhesion_molecules | DC          |\n",
       "| 5 | Mono-X-adhesion_molecules        | adhesion_molecules | Mono        |\n",
       "| 6 | T_CD4_Naive-X-adhesion_molecules | adhesion_molecules | T_CD4_Naive |\n",
       "\n"
      ],
      "text/plain": [
       "  FactorName                       Function           CellType   \n",
       "1 B-X-adhesion_molecules           adhesion_molecules B          \n",
       "2 Plasma-X-adhesion_molecules      adhesion_molecules Plasma     \n",
       "3 pDC-X-adhesion_molecules         adhesion_molecules pDC        \n",
       "4 DC-X-adhesion_molecules          adhesion_molecules DC         \n",
       "5 Mono-X-adhesion_molecules        adhesion_molecules Mono       \n",
       "6 T_CD4_Naive-X-adhesion_molecules adhesion_molecules T_CD4_Naive"
      ]
     },
     "metadata": {},
     "output_type": "display_data"
    }
   ],
   "source": [
    "# Row annotations\n",
    "row_annotations <- row_annotDF %>%\n",
    "  select(FactorName, Function, CellType) %>%\n",
    "  distinct() %>%\n",
    "  mutate(Function = as.factor(Function),\n",
    "         CellType = as.factor(CellType))\n",
    "row_annotations$CellType <- factor(row_annotations$CellType, levels = heatmap_celltypes_order)\n",
    "row_annotations$Function <- factor(row_annotations$Function, levels = functions_order)\n",
    "\n",
    "row_annotations <- row_annotations %>%\n",
    "  arrange(Function, CellType)\n",
    "  #arrange(CellType, Function)\n",
    "order_row <- row_annotations$FactorName\n",
    "head(row_annotations)"
   ]
  },
  {
   "cell_type": "code",
   "execution_count": 149,
   "id": "13969637-177a-40ad-bcd4-322b663523cd",
   "metadata": {
    "execution": {
     "iopub.execute_input": "2024-08-27T10:07:34.850939Z",
     "iopub.status.busy": "2024-08-27T10:07:34.849998Z",
     "iopub.status.idle": "2024-08-27T10:07:34.859777Z",
     "shell.execute_reply": "2024-08-27T10:07:34.858623Z"
    }
   },
   "outputs": [],
   "source": [
    "row_annotations <- row_annotations %>% select(-Function)"
   ]
  },
  {
   "cell_type": "code",
   "execution_count": 150,
   "id": "565f3eee-dfeb-4ef6-834e-dd93620f58e8",
   "metadata": {
    "execution": {
     "iopub.execute_input": "2024-08-27T10:07:34.866935Z",
     "iopub.status.busy": "2024-08-27T10:07:34.866018Z",
     "iopub.status.idle": "2024-08-27T10:07:34.875452Z",
     "shell.execute_reply": "2024-08-27T10:07:34.874348Z"
    }
   },
   "outputs": [
    {
     "data": {
      "text/html": [
       "0"
      ],
      "text/latex": [
       "0"
      ],
      "text/markdown": [
       "0"
      ],
      "text/plain": [
       "[1] 0"
      ]
     },
     "metadata": {},
     "output_type": "display_data"
    }
   ],
   "source": [
    "length(unique(row_annotations$Function))"
   ]
  },
  {
   "cell_type": "markdown",
   "id": "47b9230c-6403-4f67-a583-d224760bf2bb",
   "metadata": {},
   "source": [
    "### Define Palettes"
   ]
  },
  {
   "cell_type": "markdown",
   "id": "b31b41cc-4ffe-40ea-aff6-57c490364b38",
   "metadata": {},
   "source": [
    "**Celltypes**"
   ]
  },
  {
   "cell_type": "code",
   "execution_count": 151,
   "id": "bf323c3d-bfa6-4409-ad25-5e3cd0ddb70e",
   "metadata": {
    "execution": {
     "iopub.execute_input": "2024-08-27T10:07:34.878041Z",
     "iopub.status.busy": "2024-08-27T10:07:34.877132Z",
     "iopub.status.idle": "2024-08-27T10:07:34.886971Z",
     "shell.execute_reply": "2024-08-27T10:07:34.885851Z"
    }
   },
   "outputs": [],
   "source": [
    "annotation_Level1_palette <- list(\n",
    "  'B' = '#7bc6d6',\n",
    "  'Plasma' = '#025566',\n",
    "    \n",
    "  'pDC' = '#a7c957',\n",
    "  'DC' = '#6a994e',\n",
    "  'Mono' = '#386641',\n",
    "    \n",
    "  'T_CD4_Naive' = '#fff3b0',\n",
    "  'T_CD4_NonNaive' = '#e09f3e',\n",
    "  'T_CD8_Naive' = '#9e2a2b',\n",
    "  'T_CD8_NonNaive' = '#540b0e',\n",
    "    \n",
    "  'UTC' = '#88657f',\n",
    "  'ILC' = '#67253a',\n",
    "    \n",
    "  'Cycling_cells' = '#d4a373',\n",
    "  'Progenitors' = '#ccd5ae',\n",
    "    \n",
    "  'Platelets' = '#808080',  # To remove\n",
    "  'RBC' = '#000000'         # To remove\n",
    ")\n",
    "celltype_names <- names(annotation_Level1_palette)\n",
    "l1_palette <- unlist(annotation_Level1_palette)"
   ]
  },
  {
   "cell_type": "markdown",
   "id": "239357f4-a403-43eb-9bf0-80d36f57c71e",
   "metadata": {},
   "source": [
    "**Diseases**"
   ]
  },
  {
   "cell_type": "code",
   "execution_count": 152,
   "id": "e8180eab-f82e-4cdd-a3d0-811bc19d4835",
   "metadata": {
    "execution": {
     "iopub.execute_input": "2024-08-27T10:07:34.889590Z",
     "iopub.status.busy": "2024-08-27T10:07:34.888674Z",
     "iopub.status.idle": "2024-08-27T10:07:34.899188Z",
     "shell.execute_reply": "2024-08-27T10:07:34.898016Z"
    }
   },
   "outputs": [],
   "source": [
    "# Create the named list\n",
    "diseases_palette <- list(\n",
    "  'healthy' = \"#808080\",\n",
    "    \n",
    "  'RA' = '#264653',\n",
    "  'PS' = '#287271',\n",
    "  'PSA' = '#2a9d8f',\n",
    "  'CD' = '#e76f51',\n",
    "  'UC' = '#e9c46a',\n",
    "  'SLE' = '#941c2f', \n",
    "  'MS' = '#8ab17d',\n",
    "    \n",
    "  'asthma' = '#ea698b',\n",
    "  'COPD' = '#c05299',\n",
    "  'cirrhosis' = '#973aa8',\n",
    "    \n",
    "  'sepsis' = '#ef233c',\n",
    "    \n",
    "  'HIV' = '#e7ecef',\n",
    "  'HBV' = '#a3cef1',\n",
    "  'COVID' = '#6096ba', \n",
    "  'flu' = '#274c77', \n",
    "    \n",
    "  'BRCA' = '#fff75e',\n",
    "  'NPC' = '#fdb833',\n",
    "  'HNSCC' = '#d9981a',\n",
    "  'CRC' = '#9e7524'\n",
    ")\n",
    "\n",
    "# Generate vectors for keys and values\n",
    "diseases <- names(diseases_palette)\n",
    "disease_palette <- unlist(diseases_palette)"
   ]
  },
  {
   "cell_type": "markdown",
   "id": "9bac5b72-0a32-4cf0-a2c6-db7817de48a0",
   "metadata": {},
   "source": [
    "**DiseaseGroup**"
   ]
  },
  {
   "cell_type": "code",
   "execution_count": 153,
   "id": "8d7f0585-0b47-42be-90dc-ac2df33ebc84",
   "metadata": {
    "execution": {
     "iopub.execute_input": "2024-08-27T10:07:34.901811Z",
     "iopub.status.busy": "2024-08-27T10:07:34.900893Z",
     "iopub.status.idle": "2024-08-27T10:07:34.911058Z",
     "shell.execute_reply": "2024-08-27T10:07:34.909927Z"
    }
   },
   "outputs": [],
   "source": [
    "diseasesGroup_palette <- list(\n",
    "  'IMIDs' = '#2a9d8f',\n",
    "  'solid_tumor' = '#e3a52d',\n",
    "  'chronic_inflammation' = '#ffafcc',\n",
    "  'acute_inflammation' = '#ef233c',\n",
    "  'infection' = '#abc4ff',\n",
    "  'healthy' = '#808080'\n",
    ")\n",
    "\n",
    "# Generate vectors for keys and values\n",
    "diseaseGroups <- names(diseasesGroup_palette)\n",
    "diseaseGroups_palette <- unlist(diseasesGroup_palette)"
   ]
  },
  {
   "cell_type": "markdown",
   "id": "7bf7857d-ae56-4f71-95d3-f28aabc393b4",
   "metadata": {},
   "source": [
    "**Functions**"
   ]
  },
  {
   "cell_type": "code",
   "execution_count": 154,
   "id": "7368ed6e-2ec2-4a72-923f-ea1bfcf2e5fd",
   "metadata": {
    "execution": {
     "iopub.execute_input": "2024-08-27T10:07:34.913666Z",
     "iopub.status.busy": "2024-08-27T10:07:34.912749Z",
     "iopub.status.idle": "2024-08-27T10:07:34.924224Z",
     "shell.execute_reply": "2024-08-27T10:07:34.919924Z"
    }
   },
   "outputs": [],
   "source": [
    "function_palette <- c(\n",
    "  \"#f3c300\", \"#875692\", \"#f38400\", \"#a1caf1\", \"#be0032\", \"#c2b280\",\n",
    "  \"#848482\", \"#008856\", \"#e68fac\", \"#0067a5\", \"#f99379\", \"#604e97\",\n",
    "  \"#f6a600\", \"#b3446c\", \"#dcd300\", \"#882d17\", \"#8db600\", \"#654522\",\n",
    "  \"#e25822\", \"#2b3d26\", \"#ff69b4\" # Added a new color\n",
    ")\n"
   ]
  },
  {
   "cell_type": "code",
   "execution_count": 155,
   "id": "9526a763-2233-4333-870a-22b6489b65de",
   "metadata": {
    "execution": {
     "iopub.execute_input": "2024-08-27T10:07:34.926796Z",
     "iopub.status.busy": "2024-08-27T10:07:34.925913Z",
     "iopub.status.idle": "2024-08-27T10:07:34.935510Z",
     "shell.execute_reply": "2024-08-27T10:07:34.934436Z"
    }
   },
   "outputs": [
    {
     "data": {
      "text/html": [
       "0"
      ],
      "text/latex": [
       "0"
      ],
      "text/markdown": [
       "0"
      ],
      "text/plain": [
       "[1] 0"
      ]
     },
     "metadata": {},
     "output_type": "display_data"
    }
   ],
   "source": [
    "length(levels(row_annotations$Function))"
   ]
  },
  {
   "cell_type": "code",
   "execution_count": 156,
   "id": "999cf67f-f6ab-47e2-9273-c6136c16f2f6",
   "metadata": {
    "execution": {
     "iopub.execute_input": "2024-08-27T10:07:34.938016Z",
     "iopub.status.busy": "2024-08-27T10:07:34.937134Z",
     "iopub.status.idle": "2024-08-27T10:07:34.944443Z",
     "shell.execute_reply": "2024-08-27T10:07:34.943343Z"
    }
   },
   "outputs": [],
   "source": [
    "clipValues <- function(v, minV, maxV) {\n",
    "    if (is.na(v)) {\n",
    "        return(v)\n",
    "    }else if (v >= 0) {\n",
    "        return(min(v, maxV))\n",
    "    } else if (v < 0) {\n",
    "        return(max(v, minV))\n",
    "    } \n",
    "}"
   ]
  },
  {
   "cell_type": "code",
   "execution_count": 157,
   "id": "0f13a4ac-59f5-4cb2-9bd4-1c7d793c6b12",
   "metadata": {
    "execution": {
     "iopub.execute_input": "2024-08-27T10:07:34.946959Z",
     "iopub.status.busy": "2024-08-27T10:07:34.946057Z",
     "iopub.status.idle": "2024-08-27T10:07:34.956847Z",
     "shell.execute_reply": "2024-08-27T10:07:34.955736Z"
    }
   },
   "outputs": [],
   "source": [
    "# COLOR PALETTE\n",
    "\n",
    "# Manual definition\n",
    "# clrP <- colorRampPalette(c(\"#ffffc1\", \"#6b001d\"))(100)\n",
    "# clrN <- colorRampPalette(c(\"#0a2258\", \"#f5faff\"))(100)\n",
    "\n",
    "# Predefined color palette\n",
    "clrP <- colorRampPalette(brewer.pal(n = 9, name = \"YlOrRd\"))(100)\n",
    "clrN <- colorRampPalette(rev(brewer.pal(n = 9, name = \"Blues\")))(100)\n",
    "\n",
    "clr <- c(clrN, clrP)"
   ]
  },
  {
   "cell_type": "code",
   "execution_count": 158,
   "id": "533d3bab-6811-489e-a2ae-bd82406bbe18",
   "metadata": {
    "execution": {
     "iopub.execute_input": "2024-08-27T10:07:34.959389Z",
     "iopub.status.busy": "2024-08-27T10:07:34.958508Z",
     "iopub.status.idle": "2024-08-27T10:07:34.968460Z",
     "shell.execute_reply": "2024-08-27T10:07:34.967328Z"
    }
   },
   "outputs": [],
   "source": [
    "# VALUE RANGES (those values are passed to clipValues function)\n",
    "\n",
    "# NO CONSTRAINTS\n",
    "# max_value = max(heatmap_df, na.rm = T)\n",
    "# min_value = min(heatmap_df, na.rm = T)\n",
    "\n",
    "# CLIPPEND WITH QUANTILE\n",
    "max_value = quantile(heatmap_df[heatmap_df >= 0], na.rm = T, probs = .99)\n",
    "min_value = quantile(heatmap_df[heatmap_df < 0], na.rm = T, probs = .01)"
   ]
  },
  {
   "cell_type": "markdown",
   "id": "94d009ae-3df7-4afe-a601-f32393825876",
   "metadata": {},
   "source": [
    "**Define annotation palette**"
   ]
  },
  {
   "cell_type": "code",
   "execution_count": 159,
   "id": "96791ff4-8f1c-42c6-a5c5-8b5d007eee77",
   "metadata": {
    "execution": {
     "iopub.execute_input": "2024-08-27T10:07:34.971085Z",
     "iopub.status.busy": "2024-08-27T10:07:34.970184Z",
     "iopub.status.idle": "2024-08-27T10:07:34.986377Z",
     "shell.execute_reply": "2024-08-27T10:07:34.985181Z"
    }
   },
   "outputs": [],
   "source": [
    "# DiseaseGroup\n",
    "subset_groups <- intersect(diseaseGroups, levels(col_annotations$diseaseGroup))\n",
    "disease_group_colors <- diseaseGroups_palette[subset_groups]\n",
    "# Disease\n",
    "subset_diseases <- intersect(diseases, levels(col_annotations$disease))\n",
    "disease_colors <- disease_palette[subset_diseases]\n",
    "# Celltype\n",
    "subset_celltype <- intersect(celltype_names, levels(row_annotations$CellType))\n",
    "cell_type_colors <- l1_palette[subset_celltype]\n",
    "# Function\n",
    "function_colors <-   function_palette\n",
    "\n",
    "# Create the annotation colors list\n",
    "my_colour_annot <- list(\n",
    "  diseaseGroup = setNames(disease_group_colors, subset_groups),\n",
    "  disease = setNames(disease_colors, subset_diseases),\n",
    "  #Function = setNames(function_colors, levels(row_annotations$Function))\n",
    "  CellType = setNames(cell_type_colors, subset_celltype)\n",
    ")"
   ]
  },
  {
   "cell_type": "code",
   "execution_count": 160,
   "id": "d1b37e26-82d6-49ed-a18c-c63c1976ac96",
   "metadata": {
    "execution": {
     "iopub.execute_input": "2024-08-27T10:07:34.988969Z",
     "iopub.status.busy": "2024-08-27T10:07:34.988061Z",
     "iopub.status.idle": "2024-08-27T10:07:34.999550Z",
     "shell.execute_reply": "2024-08-27T10:07:34.998443Z"
    }
   },
   "outputs": [
    {
     "data": {
      "text/html": [
       "<dl>\n",
       "\t<dt>$diseaseGroup</dt>\n",
       "\t\t<dd><style>\n",
       ".dl-inline {width: auto; margin:0; padding: 0}\n",
       ".dl-inline>dt, .dl-inline>dd {float: none; width: auto; display: inline-block}\n",
       ".dl-inline>dt::after {content: \":\\0020\"; padding-right: .5ex}\n",
       ".dl-inline>dt:not(:first-of-type) {padding-left: .5ex}\n",
       "</style><dl class=dl-inline><dt>IMIDs</dt><dd>'#2a9d8f'</dd><dt>solid_tumor</dt><dd>'#e3a52d'</dd><dt>chronic_inflammation</dt><dd>'#ffafcc'</dd><dt>acute_inflammation</dt><dd>'#ef233c'</dd><dt>infection</dt><dd>'#abc4ff'</dd></dl>\n",
       "</dd>\n",
       "\t<dt>$disease</dt>\n",
       "\t\t<dd><style>\n",
       ".dl-inline {width: auto; margin:0; padding: 0}\n",
       ".dl-inline>dt, .dl-inline>dd {float: none; width: auto; display: inline-block}\n",
       ".dl-inline>dt::after {content: \":\\0020\"; padding-right: .5ex}\n",
       ".dl-inline>dt:not(:first-of-type) {padding-left: .5ex}\n",
       "</style><dl class=dl-inline><dt>RA</dt><dd>'#264653'</dd><dt>PS</dt><dd>'#287271'</dd><dt>PSA</dt><dd>'#2a9d8f'</dd><dt>CD</dt><dd>'#e76f51'</dd><dt>UC</dt><dd>'#e9c46a'</dd><dt>SLE</dt><dd>'#941c2f'</dd><dt>MS</dt><dd>'#8ab17d'</dd><dt>asthma</dt><dd>'#ea698b'</dd><dt>COPD</dt><dd>'#c05299'</dd><dt>cirrhosis</dt><dd>'#973aa8'</dd><dt>sepsis</dt><dd>'#ef233c'</dd><dt>HIV</dt><dd>'#e7ecef'</dd><dt>HBV</dt><dd>'#a3cef1'</dd><dt>COVID</dt><dd>'#6096ba'</dd><dt>flu</dt><dd>'#274c77'</dd><dt>BRCA</dt><dd>'#fff75e'</dd><dt>NPC</dt><dd>'#fdb833'</dd><dt>HNSCC</dt><dd>'#d9981a'</dd><dt>CRC</dt><dd>'#9e7524'</dd></dl>\n",
       "</dd>\n",
       "\t<dt>$CellType</dt>\n",
       "\t\t<dd><style>\n",
       ".dl-inline {width: auto; margin:0; padding: 0}\n",
       ".dl-inline>dt, .dl-inline>dd {float: none; width: auto; display: inline-block}\n",
       ".dl-inline>dt::after {content: \":\\0020\"; padding-right: .5ex}\n",
       ".dl-inline>dt:not(:first-of-type) {padding-left: .5ex}\n",
       "</style><dl class=dl-inline><dt>B</dt><dd>'#7bc6d6'</dd><dt>Plasma</dt><dd>'#025566'</dd><dt>pDC</dt><dd>'#a7c957'</dd><dt>DC</dt><dd>'#6a994e'</dd><dt>Mono</dt><dd>'#386641'</dd><dt>T_CD4_Naive</dt><dd>'#fff3b0'</dd><dt>T_CD4_NonNaive</dt><dd>'#e09f3e'</dd><dt>T_CD8_Naive</dt><dd>'#9e2a2b'</dd><dt>T_CD8_NonNaive</dt><dd>'#540b0e'</dd><dt>UTC</dt><dd>'#88657f'</dd><dt>ILC</dt><dd>'#67253a'</dd></dl>\n",
       "</dd>\n",
       "</dl>\n"
      ],
      "text/latex": [
       "\\begin{description}\n",
       "\\item[\\$diseaseGroup] \\begin{description*}\n",
       "\\item[IMIDs] '\\#2a9d8f'\n",
       "\\item[solid\\textbackslash{}\\_tumor] '\\#e3a52d'\n",
       "\\item[chronic\\textbackslash{}\\_inflammation] '\\#ffafcc'\n",
       "\\item[acute\\textbackslash{}\\_inflammation] '\\#ef233c'\n",
       "\\item[infection] '\\#abc4ff'\n",
       "\\end{description*}\n",
       "\n",
       "\\item[\\$disease] \\begin{description*}\n",
       "\\item[RA] '\\#264653'\n",
       "\\item[PS] '\\#287271'\n",
       "\\item[PSA] '\\#2a9d8f'\n",
       "\\item[CD] '\\#e76f51'\n",
       "\\item[UC] '\\#e9c46a'\n",
       "\\item[SLE] '\\#941c2f'\n",
       "\\item[MS] '\\#8ab17d'\n",
       "\\item[asthma] '\\#ea698b'\n",
       "\\item[COPD] '\\#c05299'\n",
       "\\item[cirrhosis] '\\#973aa8'\n",
       "\\item[sepsis] '\\#ef233c'\n",
       "\\item[HIV] '\\#e7ecef'\n",
       "\\item[HBV] '\\#a3cef1'\n",
       "\\item[COVID] '\\#6096ba'\n",
       "\\item[flu] '\\#274c77'\n",
       "\\item[BRCA] '\\#fff75e'\n",
       "\\item[NPC] '\\#fdb833'\n",
       "\\item[HNSCC] '\\#d9981a'\n",
       "\\item[CRC] '\\#9e7524'\n",
       "\\end{description*}\n",
       "\n",
       "\\item[\\$CellType] \\begin{description*}\n",
       "\\item[B] '\\#7bc6d6'\n",
       "\\item[Plasma] '\\#025566'\n",
       "\\item[pDC] '\\#a7c957'\n",
       "\\item[DC] '\\#6a994e'\n",
       "\\item[Mono] '\\#386641'\n",
       "\\item[T\\textbackslash{}\\_CD4\\textbackslash{}\\_Naive] '\\#fff3b0'\n",
       "\\item[T\\textbackslash{}\\_CD4\\textbackslash{}\\_NonNaive] '\\#e09f3e'\n",
       "\\item[T\\textbackslash{}\\_CD8\\textbackslash{}\\_Naive] '\\#9e2a2b'\n",
       "\\item[T\\textbackslash{}\\_CD8\\textbackslash{}\\_NonNaive] '\\#540b0e'\n",
       "\\item[UTC] '\\#88657f'\n",
       "\\item[ILC] '\\#67253a'\n",
       "\\end{description*}\n",
       "\n",
       "\\end{description}\n"
      ],
      "text/markdown": [
       "$diseaseGroup\n",
       ":   IMIDs\n",
       ":   '#2a9d8f'solid_tumor\n",
       ":   '#e3a52d'chronic_inflammation\n",
       ":   '#ffafcc'acute_inflammation\n",
       ":   '#ef233c'infection\n",
       ":   '#abc4ff'\n",
       "\n",
       "\n",
       "$disease\n",
       ":   RA\n",
       ":   '#264653'PS\n",
       ":   '#287271'PSA\n",
       ":   '#2a9d8f'CD\n",
       ":   '#e76f51'UC\n",
       ":   '#e9c46a'SLE\n",
       ":   '#941c2f'MS\n",
       ":   '#8ab17d'asthma\n",
       ":   '#ea698b'COPD\n",
       ":   '#c05299'cirrhosis\n",
       ":   '#973aa8'sepsis\n",
       ":   '#ef233c'HIV\n",
       ":   '#e7ecef'HBV\n",
       ":   '#a3cef1'COVID\n",
       ":   '#6096ba'flu\n",
       ":   '#274c77'BRCA\n",
       ":   '#fff75e'NPC\n",
       ":   '#fdb833'HNSCC\n",
       ":   '#d9981a'CRC\n",
       ":   '#9e7524'\n",
       "\n",
       "\n",
       "$CellType\n",
       ":   B\n",
       ":   '#7bc6d6'Plasma\n",
       ":   '#025566'pDC\n",
       ":   '#a7c957'DC\n",
       ":   '#6a994e'Mono\n",
       ":   '#386641'T_CD4_Naive\n",
       ":   '#fff3b0'T_CD4_NonNaive\n",
       ":   '#e09f3e'T_CD8_Naive\n",
       ":   '#9e2a2b'T_CD8_NonNaive\n",
       ":   '#540b0e'UTC\n",
       ":   '#88657f'ILC\n",
       ":   '#67253a'\n",
       "\n",
       "\n",
       "\n",
       "\n"
      ],
      "text/plain": [
       "$diseaseGroup\n",
       "               IMIDs          solid_tumor chronic_inflammation \n",
       "           \"#2a9d8f\"            \"#e3a52d\"            \"#ffafcc\" \n",
       "  acute_inflammation            infection \n",
       "           \"#ef233c\"            \"#abc4ff\" \n",
       "\n",
       "$disease\n",
       "       RA        PS       PSA        CD        UC       SLE        MS    asthma \n",
       "\"#264653\" \"#287271\" \"#2a9d8f\" \"#e76f51\" \"#e9c46a\" \"#941c2f\" \"#8ab17d\" \"#ea698b\" \n",
       "     COPD cirrhosis    sepsis       HIV       HBV     COVID       flu      BRCA \n",
       "\"#c05299\" \"#973aa8\" \"#ef233c\" \"#e7ecef\" \"#a3cef1\" \"#6096ba\" \"#274c77\" \"#fff75e\" \n",
       "      NPC     HNSCC       CRC \n",
       "\"#fdb833\" \"#d9981a\" \"#9e7524\" \n",
       "\n",
       "$CellType\n",
       "             B         Plasma            pDC             DC           Mono \n",
       "     \"#7bc6d6\"      \"#025566\"      \"#a7c957\"      \"#6a994e\"      \"#386641\" \n",
       "   T_CD4_Naive T_CD4_NonNaive    T_CD8_Naive T_CD8_NonNaive            UTC \n",
       "     \"#fff3b0\"      \"#e09f3e\"      \"#9e2a2b\"      \"#540b0e\"      \"#88657f\" \n",
       "           ILC \n",
       "     \"#67253a\" \n"
      ]
     },
     "metadata": {},
     "output_type": "display_data"
    }
   ],
   "source": [
    "my_colour_annot"
   ]
  },
  {
   "cell_type": "markdown",
   "id": "feed086e-f8b1-4cf9-8217-17afc12b898e",
   "metadata": {},
   "source": [
    "## Generate Heatmap"
   ]
  },
  {
   "cell_type": "code",
   "execution_count": 161,
   "id": "2c76213d-5af1-42c0-88bf-b8b4365f07b5",
   "metadata": {
    "execution": {
     "iopub.execute_input": "2024-08-27T10:07:35.002124Z",
     "iopub.status.busy": "2024-08-27T10:07:35.001225Z",
     "iopub.status.idle": "2024-08-27T10:07:35.010423Z",
     "shell.execute_reply": "2024-08-27T10:07:35.009330Z"
    }
   },
   "outputs": [
    {
     "data": {
      "text/html": [
       "119"
      ],
      "text/latex": [
       "119"
      ],
      "text/markdown": [
       "119"
      ],
      "text/plain": [
       "[1] 119"
      ]
     },
     "metadata": {},
     "output_type": "display_data"
    }
   ],
   "source": [
    "length(order_row)"
   ]
  },
  {
   "cell_type": "code",
   "execution_count": 162,
   "id": "4d1c36fc-fb16-482f-8c70-74343403c879",
   "metadata": {
    "execution": {
     "iopub.execute_input": "2024-08-27T10:07:35.012996Z",
     "iopub.status.busy": "2024-08-27T10:07:35.012079Z",
     "iopub.status.idle": "2024-08-27T10:07:35.021315Z",
     "shell.execute_reply": "2024-08-27T10:07:35.020216Z"
    }
   },
   "outputs": [
    {
     "data": {
      "text/html": [
       "19"
      ],
      "text/latex": [
       "19"
      ],
      "text/markdown": [
       "19"
      ],
      "text/plain": [
       "[1] 19"
      ]
     },
     "metadata": {},
     "output_type": "display_data"
    }
   ],
   "source": [
    "length(order_col)"
   ]
  },
  {
   "cell_type": "code",
   "execution_count": 163,
   "id": "7492c958-fdb7-4b5e-8491-646a64e2ed41",
   "metadata": {
    "execution": {
     "iopub.execute_input": "2024-08-27T10:07:35.023869Z",
     "iopub.status.busy": "2024-08-27T10:07:35.022969Z",
     "iopub.status.idle": "2024-08-27T10:07:35.033600Z",
     "shell.execute_reply": "2024-08-27T10:07:35.032518Z"
    }
   },
   "outputs": [
    {
     "name": "stdout",
     "output_type": "stream",
     "text": [
      "[1] 19\n",
      "[1] 119\n"
     ]
    }
   ],
   "source": [
    "print(ncol(heatmap_matrix))\n",
    "print(nrow(heatmap_matrix))"
   ]
  },
  {
   "cell_type": "code",
   "execution_count": 164,
   "id": "b4aa4af6-a1cd-43fe-95b1-2c6755d33749",
   "metadata": {
    "execution": {
     "iopub.execute_input": "2024-08-27T10:07:35.036164Z",
     "iopub.status.busy": "2024-08-27T10:07:35.035255Z",
     "iopub.status.idle": "2024-08-27T10:07:35.044681Z",
     "shell.execute_reply": "2024-08-27T10:07:35.043572Z"
    }
   },
   "outputs": [
    {
     "data": {
      "text/html": [
       "TRUE"
      ],
      "text/latex": [
       "TRUE"
      ],
      "text/markdown": [
       "TRUE"
      ],
      "text/plain": [
       "[1] TRUE"
      ]
     },
     "metadata": {},
     "output_type": "display_data"
    }
   ],
   "source": [
    "all(rownames(heatmap_df) %in% order_row)"
   ]
  },
  {
   "cell_type": "code",
   "execution_count": 165,
   "id": "e1d4a6db-868b-424e-b8fc-75cebbffb537",
   "metadata": {
    "execution": {
     "iopub.execute_input": "2024-08-27T10:07:35.050458Z",
     "iopub.status.busy": "2024-08-27T10:07:35.046340Z",
     "iopub.status.idle": "2024-08-27T10:07:35.058953Z",
     "shell.execute_reply": "2024-08-27T10:07:35.057877Z"
    }
   },
   "outputs": [
    {
     "data": {
      "text/html": [
       "TRUE"
      ],
      "text/latex": [
       "TRUE"
      ],
      "text/markdown": [
       "TRUE"
      ],
      "text/plain": [
       "[1] TRUE"
      ]
     },
     "metadata": {},
     "output_type": "display_data"
    }
   ],
   "source": [
    "all(colnames(heatmap_df) %in% order_col)"
   ]
  },
  {
   "cell_type": "code",
   "execution_count": 166,
   "id": "7e6233eb-59f7-4cf2-80a8-113898b73924",
   "metadata": {
    "execution": {
     "iopub.execute_input": "2024-08-27T10:07:35.061499Z",
     "iopub.status.busy": "2024-08-27T10:07:35.060609Z",
     "iopub.status.idle": "2024-08-27T10:07:35.070423Z",
     "shell.execute_reply": "2024-08-27T10:07:35.069225Z"
    }
   },
   "outputs": [],
   "source": [
    "heatmap_df = heatmap_df[order_row, order_col]\n",
    "ordered_row_annotations <- row_annotations[match(rownames(heatmap_df), row_annotations$FactorName), ]\n",
    "ordered_row_annotations <- ordered_row_annotations %>%\n",
    "  tibble::column_to_rownames(\"FactorName\")"
   ]
  },
  {
   "cell_type": "raw",
   "id": "653399e8-f478-48e7-a730-9e2edbfa0781",
   "metadata": {
    "execution": {
     "iopub.execute_input": "2024-06-13T09:49:53.028486Z",
     "iopub.status.busy": "2024-06-13T09:49:53.027568Z",
     "iopub.status.idle": "2024-06-13T09:49:53.037338Z",
     "shell.execute_reply": "2024-06-13T09:49:53.036171Z"
    }
   },
   "source": [
    "ordered_row_annotations <- ordered_row_annotations %>%\n",
    "  select(-Function)"
   ]
  },
  {
   "cell_type": "markdown",
   "id": "dd6d4c24-0b33-4f80-81f8-fafd373e97af",
   "metadata": {},
   "source": [
    "**Define scale palette**"
   ]
  },
  {
   "cell_type": "code",
   "execution_count": 167,
   "id": "6fff0b37-d8ff-406d-8ebd-9a3f2cb3eac0",
   "metadata": {
    "execution": {
     "iopub.execute_input": "2024-08-27T10:07:35.072945Z",
     "iopub.status.busy": "2024-08-27T10:07:35.072060Z",
     "iopub.status.idle": "2024-08-27T10:07:35.079361Z",
     "shell.execute_reply": "2024-08-27T10:07:35.078270Z"
    }
   },
   "outputs": [],
   "source": [
    "clipValues <- function(v, minV, maxV) {\n",
    "    if (is.na(v)) {\n",
    "        return(v)\n",
    "    }else if (v >= 0) {\n",
    "        return(min(v, maxV))\n",
    "    } else if (v < 0) {\n",
    "        return(max(v, minV))\n",
    "    } \n",
    "}"
   ]
  },
  {
   "cell_type": "code",
   "execution_count": 168,
   "id": "bfd41e20-579c-4a81-bd38-58619d5bfca0",
   "metadata": {
    "execution": {
     "iopub.execute_input": "2024-08-27T10:07:35.081857Z",
     "iopub.status.busy": "2024-08-27T10:07:35.080976Z",
     "iopub.status.idle": "2024-08-27T10:07:35.091747Z",
     "shell.execute_reply": "2024-08-27T10:07:35.090643Z"
    }
   },
   "outputs": [],
   "source": [
    "# COLOR PALETTE\n",
    "\n",
    "# Manual definition\n",
    "# clrP <- colorRampPalette(c(\"#ffffc1\", \"#6b001d\"))(100)\n",
    "# clrN <- colorRampPalette(c(\"#0a2258\", \"#f5faff\"))(100)\n",
    "\n",
    "# Predefined color palette\n",
    "clrP <- colorRampPalette(brewer.pal(n = 9, name = \"YlOrRd\"))(100)\n",
    "clrN <- colorRampPalette(rev(brewer.pal(n = 9, name = \"Blues\")))(100)\n",
    "\n",
    "clr <- c(clrN, clrP)"
   ]
  },
  {
   "cell_type": "code",
   "execution_count": 169,
   "id": "313d788f-7c38-4848-b79c-2037364d6d94",
   "metadata": {
    "execution": {
     "iopub.execute_input": "2024-08-27T10:07:35.094322Z",
     "iopub.status.busy": "2024-08-27T10:07:35.093426Z",
     "iopub.status.idle": "2024-08-27T10:07:35.106086Z",
     "shell.execute_reply": "2024-08-27T10:07:35.104931Z"
    }
   },
   "outputs": [],
   "source": [
    "# VALUE RANGES (those values are passed to clipValues function)\n",
    "\n",
    "# NO CONSTRAINTS\n",
    "max_v = max(heatmap_df, na.rm = T)\n",
    "min_v = min(heatmap_df, na.rm = T)\n",
    "\n",
    "# CLIPPEND WITH QUANTILE\n",
    "max_value = quantile(heatmap_df[heatmap_df >= 0], na.rm = T, probs = .99)\n",
    "min_value = quantile(heatmap_df[heatmap_df < 0], na.rm = T, probs = .01)"
   ]
  },
  {
   "cell_type": "markdown",
   "id": "6b28bfdd-cde5-4d2e-ac4a-5eed6874197a",
   "metadata": {},
   "source": [
    "**Plot heatmap**"
   ]
  },
  {
   "cell_type": "code",
   "execution_count": 170,
   "id": "a9a3bdbc-7561-4398-810d-0245f95f8cd4",
   "metadata": {
    "execution": {
     "iopub.execute_input": "2024-08-27T10:07:35.108684Z",
     "iopub.status.busy": "2024-08-27T10:07:35.107775Z",
     "iopub.status.idle": "2024-08-27T10:07:35.138006Z",
     "shell.execute_reply": "2024-08-27T10:07:35.136847Z"
    }
   },
   "outputs": [
    {
     "data": {
      "text/html": [
       "<table class=\"dataframe\">\n",
       "<caption>A data.frame: 6 × 20</caption>\n",
       "<thead>\n",
       "\t<tr><th></th><th scope=col>FactorName</th><th scope=col>asthma</th><th scope=col>BRCA</th><th scope=col>CD</th><th scope=col>cirrhosis</th><th scope=col>COPD</th><th scope=col>COVID</th><th scope=col>CRC</th><th scope=col>flu</th><th scope=col>HBV</th><th scope=col>HIV</th><th scope=col>HNSCC</th><th scope=col>MS</th><th scope=col>NPC</th><th scope=col>PS</th><th scope=col>PSA</th><th scope=col>RA</th><th scope=col>sepsis</th><th scope=col>SLE</th><th scope=col>UC</th></tr>\n",
       "\t<tr><th></th><th scope=col>&lt;chr&gt;</th><th scope=col>&lt;dbl&gt;</th><th scope=col>&lt;dbl&gt;</th><th scope=col>&lt;dbl&gt;</th><th scope=col>&lt;dbl&gt;</th><th scope=col>&lt;dbl&gt;</th><th scope=col>&lt;dbl&gt;</th><th scope=col>&lt;dbl&gt;</th><th scope=col>&lt;dbl&gt;</th><th scope=col>&lt;dbl&gt;</th><th scope=col>&lt;dbl&gt;</th><th scope=col>&lt;dbl&gt;</th><th scope=col>&lt;dbl&gt;</th><th scope=col>&lt;dbl&gt;</th><th scope=col>&lt;dbl&gt;</th><th scope=col>&lt;dbl&gt;</th><th scope=col>&lt;dbl&gt;</th><th scope=col>&lt;dbl&gt;</th><th scope=col>&lt;dbl&gt;</th><th scope=col>&lt;dbl&gt;</th></tr>\n",
       "</thead>\n",
       "<tbody>\n",
       "\t<tr><th scope=row>1</th><td>10-X-B-X-cytokine_and_receptors_proinflammatory   </td><td>0.9653206</td><td>0.9026079</td><td>0.05490000</td><td>0.35340486</td><td>0.36889328</td><td>0.7796916</td><td>0.9205398</td><td>0.1523237</td><td>0.63375522</td><td>0.1476842</td><td>0.8767391</td><td>0.2926388</td><td>0.5363341</td><td>0.0000000</td><td>0.0000000</td><td>0.00000000</td><td>0.49150338</td><td>0.6446420</td><td>0.0000000</td></tr>\n",
       "\t<tr><th scope=row>2</th><td>100-X-T_CD8_Naive-X-adhesion_molecules            </td><td>0.4733892</td><td>0.3376718</td><td>0.31504782</td><td>0.41665628</td><td>0.39132512</td><td>0.0000000</td><td>0.9629743</td><td>0.1193478</td><td>0.17241322</td><td>0.7083413</td><td>0.7868021</td><td>0.2685394</td><td>0.9451549</td><td>0.0000000</td><td>0.0000000</td><td>0.00000000</td><td>0.01149738</td><td>0.9326683</td><td>0.0000000</td></tr>\n",
       "\t<tr><th scope=row>3</th><td>101-X-T_CD8_Naive-X-antigen_presentation_molecules</td><td>0.6844297</td><td>0.6872426</td><td>0.00000000</td><td>0.30289655</td><td>0.39701695</td><td>0.7410315</td><td>0.5603586</td><td>0.8134748</td><td>0.46362120</td><td>0.5250533</td><td>0.5883865</td><td>0.7625554</td><td>0.8502212</td><td>0.0000000</td><td>0.0000000</td><td>0.00000000</td><td>0.19860465</td><td>0.0000000</td><td>0.0000000</td></tr>\n",
       "\t<tr><th scope=row>4</th><td>103-X-T_CD8_NonNaive-X-CD8T_exhaustion            </td><td>0.1907053</td><td>0.5908020</td><td>0.26853943</td><td>0.80682477</td><td>0.77722855</td><td>0.8913523</td><td>0.5477042</td><td>0.8445210</td><td>0.97349510</td><td>0.6817695</td><td>0.9097877</td><td>0.9839221</td><td>0.6502791</td><td>0.6596915</td><td>0.2049974</td><td>0.00000000</td><td>0.89314925</td><td>0.0000000</td><td>0.0000000</td></tr>\n",
       "\t<tr><th scope=row>5</th><td>104-X-T_CD8_NonNaive-X-CD8T_tcr_activation        </td><td>0.4969992</td><td>0.8113991</td><td>0.06787636</td><td>0.02484163</td><td>0.07718805</td><td>0.9455743</td><td>0.6112096</td><td>0.5603586</td><td>0.45001583</td><td>0.3297435</td><td>0.9455743</td><td>0.9656170</td><td>0.9257537</td><td>0.7405905</td><td>0.2460578</td><td>0.06157009</td><td>0.72142462</td><td>0.0000000</td><td>0.0000000</td></tr>\n",
       "\t<tr><th scope=row>6</th><td>105-X-T_CD8_NonNaive-X-chemokines                 </td><td>0.5582765</td><td>0.9331631</td><td>0.46029694</td><td>0.37172994</td><td>0.25438298</td><td>0.8931493</td><td>0.7581587</td><td>0.5218394</td><td>0.05844867</td><td>0.7147160</td><td>0.9656170</td><td>0.5055149</td><td>0.4915034</td><td>0.3454382</td><td>0.3681786</td><td>0.19070526</td><td>0.87123913</td><td>0.0000000</td><td>0.3364472</td></tr>\n",
       "</tbody>\n",
       "</table>\n"
      ],
      "text/latex": [
       "A data.frame: 6 × 20\n",
       "\\begin{tabular}{r|llllllllllllllllllll}\n",
       "  & FactorName & asthma & BRCA & CD & cirrhosis & COPD & COVID & CRC & flu & HBV & HIV & HNSCC & MS & NPC & PS & PSA & RA & sepsis & SLE & UC\\\\\n",
       "  & <chr> & <dbl> & <dbl> & <dbl> & <dbl> & <dbl> & <dbl> & <dbl> & <dbl> & <dbl> & <dbl> & <dbl> & <dbl> & <dbl> & <dbl> & <dbl> & <dbl> & <dbl> & <dbl> & <dbl>\\\\\n",
       "\\hline\n",
       "\t1 & 10-X-B-X-cytokine\\_and\\_receptors\\_proinflammatory    & 0.9653206 & 0.9026079 & 0.05490000 & 0.35340486 & 0.36889328 & 0.7796916 & 0.9205398 & 0.1523237 & 0.63375522 & 0.1476842 & 0.8767391 & 0.2926388 & 0.5363341 & 0.0000000 & 0.0000000 & 0.00000000 & 0.49150338 & 0.6446420 & 0.0000000\\\\\n",
       "\t2 & 100-X-T\\_CD8\\_Naive-X-adhesion\\_molecules             & 0.4733892 & 0.3376718 & 0.31504782 & 0.41665628 & 0.39132512 & 0.0000000 & 0.9629743 & 0.1193478 & 0.17241322 & 0.7083413 & 0.7868021 & 0.2685394 & 0.9451549 & 0.0000000 & 0.0000000 & 0.00000000 & 0.01149738 & 0.9326683 & 0.0000000\\\\\n",
       "\t3 & 101-X-T\\_CD8\\_Naive-X-antigen\\_presentation\\_molecules & 0.6844297 & 0.6872426 & 0.00000000 & 0.30289655 & 0.39701695 & 0.7410315 & 0.5603586 & 0.8134748 & 0.46362120 & 0.5250533 & 0.5883865 & 0.7625554 & 0.8502212 & 0.0000000 & 0.0000000 & 0.00000000 & 0.19860465 & 0.0000000 & 0.0000000\\\\\n",
       "\t4 & 103-X-T\\_CD8\\_NonNaive-X-CD8T\\_exhaustion             & 0.1907053 & 0.5908020 & 0.26853943 & 0.80682477 & 0.77722855 & 0.8913523 & 0.5477042 & 0.8445210 & 0.97349510 & 0.6817695 & 0.9097877 & 0.9839221 & 0.6502791 & 0.6596915 & 0.2049974 & 0.00000000 & 0.89314925 & 0.0000000 & 0.0000000\\\\\n",
       "\t5 & 104-X-T\\_CD8\\_NonNaive-X-CD8T\\_tcr\\_activation         & 0.4969992 & 0.8113991 & 0.06787636 & 0.02484163 & 0.07718805 & 0.9455743 & 0.6112096 & 0.5603586 & 0.45001583 & 0.3297435 & 0.9455743 & 0.9656170 & 0.9257537 & 0.7405905 & 0.2460578 & 0.06157009 & 0.72142462 & 0.0000000 & 0.0000000\\\\\n",
       "\t6 & 105-X-T\\_CD8\\_NonNaive-X-chemokines                  & 0.5582765 & 0.9331631 & 0.46029694 & 0.37172994 & 0.25438298 & 0.8931493 & 0.7581587 & 0.5218394 & 0.05844867 & 0.7147160 & 0.9656170 & 0.5055149 & 0.4915034 & 0.3454382 & 0.3681786 & 0.19070526 & 0.87123913 & 0.0000000 & 0.3364472\\\\\n",
       "\\end{tabular}\n"
      ],
      "text/markdown": [
       "\n",
       "A data.frame: 6 × 20\n",
       "\n",
       "| <!--/--> | FactorName &lt;chr&gt; | asthma &lt;dbl&gt; | BRCA &lt;dbl&gt; | CD &lt;dbl&gt; | cirrhosis &lt;dbl&gt; | COPD &lt;dbl&gt; | COVID &lt;dbl&gt; | CRC &lt;dbl&gt; | flu &lt;dbl&gt; | HBV &lt;dbl&gt; | HIV &lt;dbl&gt; | HNSCC &lt;dbl&gt; | MS &lt;dbl&gt; | NPC &lt;dbl&gt; | PS &lt;dbl&gt; | PSA &lt;dbl&gt; | RA &lt;dbl&gt; | sepsis &lt;dbl&gt; | SLE &lt;dbl&gt; | UC &lt;dbl&gt; |\n",
       "|---|---|---|---|---|---|---|---|---|---|---|---|---|---|---|---|---|---|---|---|---|\n",
       "| 1 | 10-X-B-X-cytokine_and_receptors_proinflammatory    | 0.9653206 | 0.9026079 | 0.05490000 | 0.35340486 | 0.36889328 | 0.7796916 | 0.9205398 | 0.1523237 | 0.63375522 | 0.1476842 | 0.8767391 | 0.2926388 | 0.5363341 | 0.0000000 | 0.0000000 | 0.00000000 | 0.49150338 | 0.6446420 | 0.0000000 |\n",
       "| 2 | 100-X-T_CD8_Naive-X-adhesion_molecules             | 0.4733892 | 0.3376718 | 0.31504782 | 0.41665628 | 0.39132512 | 0.0000000 | 0.9629743 | 0.1193478 | 0.17241322 | 0.7083413 | 0.7868021 | 0.2685394 | 0.9451549 | 0.0000000 | 0.0000000 | 0.00000000 | 0.01149738 | 0.9326683 | 0.0000000 |\n",
       "| 3 | 101-X-T_CD8_Naive-X-antigen_presentation_molecules | 0.6844297 | 0.6872426 | 0.00000000 | 0.30289655 | 0.39701695 | 0.7410315 | 0.5603586 | 0.8134748 | 0.46362120 | 0.5250533 | 0.5883865 | 0.7625554 | 0.8502212 | 0.0000000 | 0.0000000 | 0.00000000 | 0.19860465 | 0.0000000 | 0.0000000 |\n",
       "| 4 | 103-X-T_CD8_NonNaive-X-CD8T_exhaustion             | 0.1907053 | 0.5908020 | 0.26853943 | 0.80682477 | 0.77722855 | 0.8913523 | 0.5477042 | 0.8445210 | 0.97349510 | 0.6817695 | 0.9097877 | 0.9839221 | 0.6502791 | 0.6596915 | 0.2049974 | 0.00000000 | 0.89314925 | 0.0000000 | 0.0000000 |\n",
       "| 5 | 104-X-T_CD8_NonNaive-X-CD8T_tcr_activation         | 0.4969992 | 0.8113991 | 0.06787636 | 0.02484163 | 0.07718805 | 0.9455743 | 0.6112096 | 0.5603586 | 0.45001583 | 0.3297435 | 0.9455743 | 0.9656170 | 0.9257537 | 0.7405905 | 0.2460578 | 0.06157009 | 0.72142462 | 0.0000000 | 0.0000000 |\n",
       "| 6 | 105-X-T_CD8_NonNaive-X-chemokines                  | 0.5582765 | 0.9331631 | 0.46029694 | 0.37172994 | 0.25438298 | 0.8931493 | 0.7581587 | 0.5218394 | 0.05844867 | 0.7147160 | 0.9656170 | 0.5055149 | 0.4915034 | 0.3454382 | 0.3681786 | 0.19070526 | 0.87123913 | 0.0000000 | 0.3364472 |\n",
       "\n"
      ],
      "text/plain": [
       "  FactorName                                         asthma    BRCA     \n",
       "1 10-X-B-X-cytokine_and_receptors_proinflammatory    0.9653206 0.9026079\n",
       "2 100-X-T_CD8_Naive-X-adhesion_molecules             0.4733892 0.3376718\n",
       "3 101-X-T_CD8_Naive-X-antigen_presentation_molecules 0.6844297 0.6872426\n",
       "4 103-X-T_CD8_NonNaive-X-CD8T_exhaustion             0.1907053 0.5908020\n",
       "5 104-X-T_CD8_NonNaive-X-CD8T_tcr_activation         0.4969992 0.8113991\n",
       "6 105-X-T_CD8_NonNaive-X-chemokines                  0.5582765 0.9331631\n",
       "  CD         cirrhosis  COPD       COVID     CRC       flu       HBV       \n",
       "1 0.05490000 0.35340486 0.36889328 0.7796916 0.9205398 0.1523237 0.63375522\n",
       "2 0.31504782 0.41665628 0.39132512 0.0000000 0.9629743 0.1193478 0.17241322\n",
       "3 0.00000000 0.30289655 0.39701695 0.7410315 0.5603586 0.8134748 0.46362120\n",
       "4 0.26853943 0.80682477 0.77722855 0.8913523 0.5477042 0.8445210 0.97349510\n",
       "5 0.06787636 0.02484163 0.07718805 0.9455743 0.6112096 0.5603586 0.45001583\n",
       "6 0.46029694 0.37172994 0.25438298 0.8931493 0.7581587 0.5218394 0.05844867\n",
       "  HIV       HNSCC     MS        NPC       PS        PSA       RA        \n",
       "1 0.1476842 0.8767391 0.2926388 0.5363341 0.0000000 0.0000000 0.00000000\n",
       "2 0.7083413 0.7868021 0.2685394 0.9451549 0.0000000 0.0000000 0.00000000\n",
       "3 0.5250533 0.5883865 0.7625554 0.8502212 0.0000000 0.0000000 0.00000000\n",
       "4 0.6817695 0.9097877 0.9839221 0.6502791 0.6596915 0.2049974 0.00000000\n",
       "5 0.3297435 0.9455743 0.9656170 0.9257537 0.7405905 0.2460578 0.06157009\n",
       "6 0.7147160 0.9656170 0.5055149 0.4915034 0.3454382 0.3681786 0.19070526\n",
       "  sepsis     SLE       UC       \n",
       "1 0.49150338 0.6446420 0.0000000\n",
       "2 0.01149738 0.9326683 0.0000000\n",
       "3 0.19860465 0.0000000 0.0000000\n",
       "4 0.89314925 0.0000000 0.0000000\n",
       "5 0.72142462 0.0000000 0.0000000\n",
       "6 0.87123913 0.0000000 0.3364472"
      ]
     },
     "metadata": {},
     "output_type": "display_data"
    }
   ],
   "source": [
    "# Prepare data for heatmap\n",
    "significance_data <- filtered_data %>%\n",
    "  select(FactorName, disease, Pval_adj) %>%\n",
    "  spread(key = disease, value = Pval_adj) \n",
    "head(significance_data)"
   ]
  },
  {
   "cell_type": "code",
   "execution_count": 171,
   "id": "8dba1aa8-e926-43dd-aa04-c1849225f45b",
   "metadata": {
    "execution": {
     "iopub.execute_input": "2024-08-27T10:07:35.140635Z",
     "iopub.status.busy": "2024-08-27T10:07:35.139720Z",
     "iopub.status.idle": "2024-08-27T10:07:35.173376Z",
     "shell.execute_reply": "2024-08-27T10:07:35.172197Z"
    }
   },
   "outputs": [
    {
     "data": {
      "text/html": [
       "<table class=\"dataframe\">\n",
       "<caption>A data.frame: 6 × 19</caption>\n",
       "<thead>\n",
       "\t<tr><th></th><th scope=col>asthma</th><th scope=col>BRCA</th><th scope=col>CD</th><th scope=col>cirrhosis</th><th scope=col>COPD</th><th scope=col>COVID</th><th scope=col>CRC</th><th scope=col>flu</th><th scope=col>HBV</th><th scope=col>HIV</th><th scope=col>HNSCC</th><th scope=col>MS</th><th scope=col>NPC</th><th scope=col>PS</th><th scope=col>PSA</th><th scope=col>RA</th><th scope=col>sepsis</th><th scope=col>SLE</th><th scope=col>UC</th></tr>\n",
       "\t<tr><th></th><th scope=col>&lt;dbl&gt;</th><th scope=col>&lt;dbl&gt;</th><th scope=col>&lt;dbl&gt;</th><th scope=col>&lt;dbl&gt;</th><th scope=col>&lt;dbl&gt;</th><th scope=col>&lt;dbl&gt;</th><th scope=col>&lt;dbl&gt;</th><th scope=col>&lt;dbl&gt;</th><th scope=col>&lt;dbl&gt;</th><th scope=col>&lt;dbl&gt;</th><th scope=col>&lt;dbl&gt;</th><th scope=col>&lt;dbl&gt;</th><th scope=col>&lt;dbl&gt;</th><th scope=col>&lt;dbl&gt;</th><th scope=col>&lt;dbl&gt;</th><th scope=col>&lt;dbl&gt;</th><th scope=col>&lt;dbl&gt;</th><th scope=col>&lt;dbl&gt;</th><th scope=col>&lt;dbl&gt;</th></tr>\n",
       "</thead>\n",
       "<tbody>\n",
       "\t<tr><th scope=row>B-X-cytokine_and_receptors_proinflammatory</th><td>0.9653206</td><td>0.9026079</td><td>0.05490000</td><td>0.35340486</td><td>0.36889328</td><td>0.7796916</td><td>0.9205398</td><td>0.1523237</td><td>0.63375522</td><td>0.1476842</td><td>0.8767391</td><td>0.2926388</td><td>0.5363341</td><td>0.0000000</td><td>0.0000000</td><td>0.00000000</td><td>0.49150338</td><td>0.6446420</td><td>0.0000000</td></tr>\n",
       "\t<tr><th scope=row>T_CD8_Naive-X-adhesion_molecules</th><td>0.4733892</td><td>0.3376718</td><td>0.31504782</td><td>0.41665628</td><td>0.39132512</td><td>0.0000000</td><td>0.9629743</td><td>0.1193478</td><td>0.17241322</td><td>0.7083413</td><td>0.7868021</td><td>0.2685394</td><td>0.9451549</td><td>0.0000000</td><td>0.0000000</td><td>0.00000000</td><td>0.01149738</td><td>0.9326683</td><td>0.0000000</td></tr>\n",
       "\t<tr><th scope=row>T_CD8_Naive-X-antigen_presentation_molecules</th><td>0.6844297</td><td>0.6872426</td><td>0.00000000</td><td>0.30289655</td><td>0.39701695</td><td>0.7410315</td><td>0.5603586</td><td>0.8134748</td><td>0.46362120</td><td>0.5250533</td><td>0.5883865</td><td>0.7625554</td><td>0.8502212</td><td>0.0000000</td><td>0.0000000</td><td>0.00000000</td><td>0.19860465</td><td>0.0000000</td><td>0.0000000</td></tr>\n",
       "\t<tr><th scope=row>T_CD8_NonNaive-X-CD8T_exhaustion</th><td>0.1907053</td><td>0.5908020</td><td>0.26853943</td><td>0.80682477</td><td>0.77722855</td><td>0.8913523</td><td>0.5477042</td><td>0.8445210</td><td>0.97349510</td><td>0.6817695</td><td>0.9097877</td><td>0.9839221</td><td>0.6502791</td><td>0.6596915</td><td>0.2049974</td><td>0.00000000</td><td>0.89314925</td><td>0.0000000</td><td>0.0000000</td></tr>\n",
       "\t<tr><th scope=row>T_CD8_NonNaive-X-CD8T_tcr_activation</th><td>0.4969992</td><td>0.8113991</td><td>0.06787636</td><td>0.02484163</td><td>0.07718805</td><td>0.9455743</td><td>0.6112096</td><td>0.5603586</td><td>0.45001583</td><td>0.3297435</td><td>0.9455743</td><td>0.9656170</td><td>0.9257537</td><td>0.7405905</td><td>0.2460578</td><td>0.06157009</td><td>0.72142462</td><td>0.0000000</td><td>0.0000000</td></tr>\n",
       "\t<tr><th scope=row>T_CD8_NonNaive-X-chemokines</th><td>0.5582765</td><td>0.9331631</td><td>0.46029694</td><td>0.37172994</td><td>0.25438298</td><td>0.8931493</td><td>0.7581587</td><td>0.5218394</td><td>0.05844867</td><td>0.7147160</td><td>0.9656170</td><td>0.5055149</td><td>0.4915034</td><td>0.3454382</td><td>0.3681786</td><td>0.19070526</td><td>0.87123913</td><td>0.0000000</td><td>0.3364472</td></tr>\n",
       "</tbody>\n",
       "</table>\n"
      ],
      "text/latex": [
       "A data.frame: 6 × 19\n",
       "\\begin{tabular}{r|lllllllllllllllllll}\n",
       "  & asthma & BRCA & CD & cirrhosis & COPD & COVID & CRC & flu & HBV & HIV & HNSCC & MS & NPC & PS & PSA & RA & sepsis & SLE & UC\\\\\n",
       "  & <dbl> & <dbl> & <dbl> & <dbl> & <dbl> & <dbl> & <dbl> & <dbl> & <dbl> & <dbl> & <dbl> & <dbl> & <dbl> & <dbl> & <dbl> & <dbl> & <dbl> & <dbl> & <dbl>\\\\\n",
       "\\hline\n",
       "\tB-X-cytokine\\_and\\_receptors\\_proinflammatory & 0.9653206 & 0.9026079 & 0.05490000 & 0.35340486 & 0.36889328 & 0.7796916 & 0.9205398 & 0.1523237 & 0.63375522 & 0.1476842 & 0.8767391 & 0.2926388 & 0.5363341 & 0.0000000 & 0.0000000 & 0.00000000 & 0.49150338 & 0.6446420 & 0.0000000\\\\\n",
       "\tT\\_CD8\\_Naive-X-adhesion\\_molecules & 0.4733892 & 0.3376718 & 0.31504782 & 0.41665628 & 0.39132512 & 0.0000000 & 0.9629743 & 0.1193478 & 0.17241322 & 0.7083413 & 0.7868021 & 0.2685394 & 0.9451549 & 0.0000000 & 0.0000000 & 0.00000000 & 0.01149738 & 0.9326683 & 0.0000000\\\\\n",
       "\tT\\_CD8\\_Naive-X-antigen\\_presentation\\_molecules & 0.6844297 & 0.6872426 & 0.00000000 & 0.30289655 & 0.39701695 & 0.7410315 & 0.5603586 & 0.8134748 & 0.46362120 & 0.5250533 & 0.5883865 & 0.7625554 & 0.8502212 & 0.0000000 & 0.0000000 & 0.00000000 & 0.19860465 & 0.0000000 & 0.0000000\\\\\n",
       "\tT\\_CD8\\_NonNaive-X-CD8T\\_exhaustion & 0.1907053 & 0.5908020 & 0.26853943 & 0.80682477 & 0.77722855 & 0.8913523 & 0.5477042 & 0.8445210 & 0.97349510 & 0.6817695 & 0.9097877 & 0.9839221 & 0.6502791 & 0.6596915 & 0.2049974 & 0.00000000 & 0.89314925 & 0.0000000 & 0.0000000\\\\\n",
       "\tT\\_CD8\\_NonNaive-X-CD8T\\_tcr\\_activation & 0.4969992 & 0.8113991 & 0.06787636 & 0.02484163 & 0.07718805 & 0.9455743 & 0.6112096 & 0.5603586 & 0.45001583 & 0.3297435 & 0.9455743 & 0.9656170 & 0.9257537 & 0.7405905 & 0.2460578 & 0.06157009 & 0.72142462 & 0.0000000 & 0.0000000\\\\\n",
       "\tT\\_CD8\\_NonNaive-X-chemokines & 0.5582765 & 0.9331631 & 0.46029694 & 0.37172994 & 0.25438298 & 0.8931493 & 0.7581587 & 0.5218394 & 0.05844867 & 0.7147160 & 0.9656170 & 0.5055149 & 0.4915034 & 0.3454382 & 0.3681786 & 0.19070526 & 0.87123913 & 0.0000000 & 0.3364472\\\\\n",
       "\\end{tabular}\n"
      ],
      "text/markdown": [
       "\n",
       "A data.frame: 6 × 19\n",
       "\n",
       "| <!--/--> | asthma &lt;dbl&gt; | BRCA &lt;dbl&gt; | CD &lt;dbl&gt; | cirrhosis &lt;dbl&gt; | COPD &lt;dbl&gt; | COVID &lt;dbl&gt; | CRC &lt;dbl&gt; | flu &lt;dbl&gt; | HBV &lt;dbl&gt; | HIV &lt;dbl&gt; | HNSCC &lt;dbl&gt; | MS &lt;dbl&gt; | NPC &lt;dbl&gt; | PS &lt;dbl&gt; | PSA &lt;dbl&gt; | RA &lt;dbl&gt; | sepsis &lt;dbl&gt; | SLE &lt;dbl&gt; | UC &lt;dbl&gt; |\n",
       "|---|---|---|---|---|---|---|---|---|---|---|---|---|---|---|---|---|---|---|---|\n",
       "| B-X-cytokine_and_receptors_proinflammatory | 0.9653206 | 0.9026079 | 0.05490000 | 0.35340486 | 0.36889328 | 0.7796916 | 0.9205398 | 0.1523237 | 0.63375522 | 0.1476842 | 0.8767391 | 0.2926388 | 0.5363341 | 0.0000000 | 0.0000000 | 0.00000000 | 0.49150338 | 0.6446420 | 0.0000000 |\n",
       "| T_CD8_Naive-X-adhesion_molecules | 0.4733892 | 0.3376718 | 0.31504782 | 0.41665628 | 0.39132512 | 0.0000000 | 0.9629743 | 0.1193478 | 0.17241322 | 0.7083413 | 0.7868021 | 0.2685394 | 0.9451549 | 0.0000000 | 0.0000000 | 0.00000000 | 0.01149738 | 0.9326683 | 0.0000000 |\n",
       "| T_CD8_Naive-X-antigen_presentation_molecules | 0.6844297 | 0.6872426 | 0.00000000 | 0.30289655 | 0.39701695 | 0.7410315 | 0.5603586 | 0.8134748 | 0.46362120 | 0.5250533 | 0.5883865 | 0.7625554 | 0.8502212 | 0.0000000 | 0.0000000 | 0.00000000 | 0.19860465 | 0.0000000 | 0.0000000 |\n",
       "| T_CD8_NonNaive-X-CD8T_exhaustion | 0.1907053 | 0.5908020 | 0.26853943 | 0.80682477 | 0.77722855 | 0.8913523 | 0.5477042 | 0.8445210 | 0.97349510 | 0.6817695 | 0.9097877 | 0.9839221 | 0.6502791 | 0.6596915 | 0.2049974 | 0.00000000 | 0.89314925 | 0.0000000 | 0.0000000 |\n",
       "| T_CD8_NonNaive-X-CD8T_tcr_activation | 0.4969992 | 0.8113991 | 0.06787636 | 0.02484163 | 0.07718805 | 0.9455743 | 0.6112096 | 0.5603586 | 0.45001583 | 0.3297435 | 0.9455743 | 0.9656170 | 0.9257537 | 0.7405905 | 0.2460578 | 0.06157009 | 0.72142462 | 0.0000000 | 0.0000000 |\n",
       "| T_CD8_NonNaive-X-chemokines | 0.5582765 | 0.9331631 | 0.46029694 | 0.37172994 | 0.25438298 | 0.8931493 | 0.7581587 | 0.5218394 | 0.05844867 | 0.7147160 | 0.9656170 | 0.5055149 | 0.4915034 | 0.3454382 | 0.3681786 | 0.19070526 | 0.87123913 | 0.0000000 | 0.3364472 |\n",
       "\n"
      ],
      "text/plain": [
       "                                             asthma    BRCA      CD        \n",
       "B-X-cytokine_and_receptors_proinflammatory   0.9653206 0.9026079 0.05490000\n",
       "T_CD8_Naive-X-adhesion_molecules             0.4733892 0.3376718 0.31504782\n",
       "T_CD8_Naive-X-antigen_presentation_molecules 0.6844297 0.6872426 0.00000000\n",
       "T_CD8_NonNaive-X-CD8T_exhaustion             0.1907053 0.5908020 0.26853943\n",
       "T_CD8_NonNaive-X-CD8T_tcr_activation         0.4969992 0.8113991 0.06787636\n",
       "T_CD8_NonNaive-X-chemokines                  0.5582765 0.9331631 0.46029694\n",
       "                                             cirrhosis  COPD       COVID    \n",
       "B-X-cytokine_and_receptors_proinflammatory   0.35340486 0.36889328 0.7796916\n",
       "T_CD8_Naive-X-adhesion_molecules             0.41665628 0.39132512 0.0000000\n",
       "T_CD8_Naive-X-antigen_presentation_molecules 0.30289655 0.39701695 0.7410315\n",
       "T_CD8_NonNaive-X-CD8T_exhaustion             0.80682477 0.77722855 0.8913523\n",
       "T_CD8_NonNaive-X-CD8T_tcr_activation         0.02484163 0.07718805 0.9455743\n",
       "T_CD8_NonNaive-X-chemokines                  0.37172994 0.25438298 0.8931493\n",
       "                                             CRC       flu       HBV       \n",
       "B-X-cytokine_and_receptors_proinflammatory   0.9205398 0.1523237 0.63375522\n",
       "T_CD8_Naive-X-adhesion_molecules             0.9629743 0.1193478 0.17241322\n",
       "T_CD8_Naive-X-antigen_presentation_molecules 0.5603586 0.8134748 0.46362120\n",
       "T_CD8_NonNaive-X-CD8T_exhaustion             0.5477042 0.8445210 0.97349510\n",
       "T_CD8_NonNaive-X-CD8T_tcr_activation         0.6112096 0.5603586 0.45001583\n",
       "T_CD8_NonNaive-X-chemokines                  0.7581587 0.5218394 0.05844867\n",
       "                                             HIV       HNSCC     MS       \n",
       "B-X-cytokine_and_receptors_proinflammatory   0.1476842 0.8767391 0.2926388\n",
       "T_CD8_Naive-X-adhesion_molecules             0.7083413 0.7868021 0.2685394\n",
       "T_CD8_Naive-X-antigen_presentation_molecules 0.5250533 0.5883865 0.7625554\n",
       "T_CD8_NonNaive-X-CD8T_exhaustion             0.6817695 0.9097877 0.9839221\n",
       "T_CD8_NonNaive-X-CD8T_tcr_activation         0.3297435 0.9455743 0.9656170\n",
       "T_CD8_NonNaive-X-chemokines                  0.7147160 0.9656170 0.5055149\n",
       "                                             NPC       PS        PSA      \n",
       "B-X-cytokine_and_receptors_proinflammatory   0.5363341 0.0000000 0.0000000\n",
       "T_CD8_Naive-X-adhesion_molecules             0.9451549 0.0000000 0.0000000\n",
       "T_CD8_Naive-X-antigen_presentation_molecules 0.8502212 0.0000000 0.0000000\n",
       "T_CD8_NonNaive-X-CD8T_exhaustion             0.6502791 0.6596915 0.2049974\n",
       "T_CD8_NonNaive-X-CD8T_tcr_activation         0.9257537 0.7405905 0.2460578\n",
       "T_CD8_NonNaive-X-chemokines                  0.4915034 0.3454382 0.3681786\n",
       "                                             RA         sepsis     SLE      \n",
       "B-X-cytokine_and_receptors_proinflammatory   0.00000000 0.49150338 0.6446420\n",
       "T_CD8_Naive-X-adhesion_molecules             0.00000000 0.01149738 0.9326683\n",
       "T_CD8_Naive-X-antigen_presentation_molecules 0.00000000 0.19860465 0.0000000\n",
       "T_CD8_NonNaive-X-CD8T_exhaustion             0.00000000 0.89314925 0.0000000\n",
       "T_CD8_NonNaive-X-CD8T_tcr_activation         0.06157009 0.72142462 0.0000000\n",
       "T_CD8_NonNaive-X-chemokines                  0.19070526 0.87123913 0.0000000\n",
       "                                             UC       \n",
       "B-X-cytokine_and_receptors_proinflammatory   0.0000000\n",
       "T_CD8_Naive-X-adhesion_molecules             0.0000000\n",
       "T_CD8_Naive-X-antigen_presentation_molecules 0.0000000\n",
       "T_CD8_NonNaive-X-CD8T_exhaustion             0.0000000\n",
       "T_CD8_NonNaive-X-CD8T_tcr_activation         0.0000000\n",
       "T_CD8_NonNaive-X-chemokines                  0.3364472"
      ]
     },
     "metadata": {},
     "output_type": "display_data"
    }
   ],
   "source": [
    "significance_data$FactorName <- sapply(strsplit(significance_data$FactorName, \"-X-\"), function(x) {\n",
    "  second_element <- x[2]\n",
    "  third_element <- x[3]\n",
    "  \n",
    "  # Check if the third element starts with \"c\" + any element in signatures\n",
    "  if (startsWith(third_element, \"c\") && substr(third_element, 2, nchar(third_element)) %in% signatures) {\n",
    "    third_element <- substr(third_element, 2, nchar(third_element))  # Remove the first letter \"c\"\n",
    "  }\n",
    "  \n",
    "  # Create the new FactorName\n",
    "  new_name <- paste0(second_element, \"-X-\", third_element)\n",
    "  return(new_name)\n",
    "})\n",
    "significance_data <- significance_data %>%\n",
    "  tibble::column_to_rownames(\"FactorName\")\n",
    "head(significance_data)"
   ]
  },
  {
   "cell_type": "code",
   "execution_count": 172,
   "id": "fd237233-e459-40cc-849b-60c120c28d67",
   "metadata": {
    "execution": {
     "iopub.execute_input": "2024-08-27T10:07:35.175980Z",
     "iopub.status.busy": "2024-08-27T10:07:35.175065Z",
     "iopub.status.idle": "2024-08-27T10:07:35.186311Z",
     "shell.execute_reply": "2024-08-27T10:07:35.185180Z"
    }
   },
   "outputs": [],
   "source": [
    "significance_data = significance_data[order_row, order_col]"
   ]
  },
  {
   "cell_type": "code",
   "execution_count": 173,
   "id": "723b6d74-8b1c-4f27-86ee-d7aaed9e1486",
   "metadata": {
    "execution": {
     "iopub.execute_input": "2024-08-27T10:07:35.188838Z",
     "iopub.status.busy": "2024-08-27T10:07:35.187962Z",
     "iopub.status.idle": "2024-08-27T10:07:35.216799Z",
     "shell.execute_reply": "2024-08-27T10:07:35.215646Z"
    }
   },
   "outputs": [
    {
     "data": {
      "text/html": [
       "<table class=\"dataframe\">\n",
       "<caption>A data.frame: 6 × 19</caption>\n",
       "<thead>\n",
       "\t<tr><th></th><th scope=col>cirrhosis</th><th scope=col>SLE</th><th scope=col>UC</th><th scope=col>RA</th><th scope=col>PSA</th><th scope=col>PS</th><th scope=col>CD</th><th scope=col>HIV</th><th scope=col>HBV</th><th scope=col>NPC</th><th scope=col>MS</th><th scope=col>CRC</th><th scope=col>asthma</th><th scope=col>BRCA</th><th scope=col>COPD</th><th scope=col>HNSCC</th><th scope=col>sepsis</th><th scope=col>COVID</th><th scope=col>flu</th></tr>\n",
       "\t<tr><th></th><th scope=col>&lt;chr&gt;</th><th scope=col>&lt;chr&gt;</th><th scope=col>&lt;chr&gt;</th><th scope=col>&lt;chr&gt;</th><th scope=col>&lt;chr&gt;</th><th scope=col>&lt;chr&gt;</th><th scope=col>&lt;chr&gt;</th><th scope=col>&lt;chr&gt;</th><th scope=col>&lt;chr&gt;</th><th scope=col>&lt;chr&gt;</th><th scope=col>&lt;chr&gt;</th><th scope=col>&lt;chr&gt;</th><th scope=col>&lt;chr&gt;</th><th scope=col>&lt;chr&gt;</th><th scope=col>&lt;chr&gt;</th><th scope=col>&lt;chr&gt;</th><th scope=col>&lt;chr&gt;</th><th scope=col>&lt;chr&gt;</th><th scope=col>&lt;chr&gt;</th></tr>\n",
       "</thead>\n",
       "<tbody>\n",
       "\t<tr><th scope=row>B-X-adhesion_molecules</th><td></td><td>·</td><td>·</td><td>·</td><td>·</td><td> </td><td> </td><td></td><td> </td><td></td><td></td><td></td><td></td><td></td><td></td><td></td><td>·</td><td> </td><td> </td></tr>\n",
       "\t<tr><th scope=row>Plasma-X-adhesion_molecules</th><td></td><td> </td><td>·</td><td>·</td><td>·</td><td> </td><td>·</td><td></td><td> </td><td></td><td></td><td></td><td></td><td></td><td></td><td></td><td>·</td><td>·</td><td> </td></tr>\n",
       "\t<tr><th scope=row>pDC-X-adhesion_molecules</th><td></td><td> </td><td> </td><td>·</td><td>·</td><td> </td><td> </td><td></td><td> </td><td></td><td></td><td></td><td></td><td></td><td></td><td></td><td> </td><td> </td><td> </td></tr>\n",
       "\t<tr><th scope=row>DC-X-adhesion_molecules</th><td></td><td>·</td><td>·</td><td>·</td><td>·</td><td>·</td><td> </td><td></td><td> </td><td></td><td></td><td></td><td></td><td></td><td></td><td></td><td> </td><td> </td><td> </td></tr>\n",
       "\t<tr><th scope=row>Mono-X-adhesion_molecules</th><td></td><td>·</td><td>·</td><td>·</td><td>·</td><td>·</td><td>·</td><td></td><td>·</td><td></td><td></td><td></td><td></td><td></td><td></td><td></td><td>·</td><td>·</td><td> </td></tr>\n",
       "\t<tr><th scope=row>T_CD4_Naive-X-adhesion_molecules</th><td></td><td> </td><td>·</td><td>·</td><td>·</td><td>·</td><td> </td><td></td><td> </td><td></td><td></td><td></td><td></td><td></td><td></td><td></td><td>·</td><td>·</td><td>·</td></tr>\n",
       "</tbody>\n",
       "</table>\n"
      ],
      "text/latex": [
       "A data.frame: 6 × 19\n",
       "\\begin{tabular}{r|lllllllllllllllllll}\n",
       "  & cirrhosis & SLE & UC & RA & PSA & PS & CD & HIV & HBV & NPC & MS & CRC & asthma & BRCA & COPD & HNSCC & sepsis & COVID & flu\\\\\n",
       "  & <chr> & <chr> & <chr> & <chr> & <chr> & <chr> & <chr> & <chr> & <chr> & <chr> & <chr> & <chr> & <chr> & <chr> & <chr> & <chr> & <chr> & <chr> & <chr>\\\\\n",
       "\\hline\n",
       "\tB-X-adhesion\\_molecules &  & · & · & · & · &   &   &  &   &  &  &  &  &  &  &  & · &   &  \\\\\n",
       "\tPlasma-X-adhesion\\_molecules &  &   & · & · & · &   & · &  &   &  &  &  &  &  &  &  & · & · &  \\\\\n",
       "\tpDC-X-adhesion\\_molecules &  &   &   & · & · &   &   &  &   &  &  &  &  &  &  &  &   &   &  \\\\\n",
       "\tDC-X-adhesion\\_molecules &  & · & · & · & · & · &   &  &   &  &  &  &  &  &  &  &   &   &  \\\\\n",
       "\tMono-X-adhesion\\_molecules &  & · & · & · & · & · & · &  & · &  &  &  &  &  &  &  & · & · &  \\\\\n",
       "\tT\\_CD4\\_Naive-X-adhesion\\_molecules &  &   & · & · & · & · &   &  &   &  &  &  &  &  &  &  & · & · & ·\\\\\n",
       "\\end{tabular}\n"
      ],
      "text/markdown": [
       "\n",
       "A data.frame: 6 × 19\n",
       "\n",
       "| <!--/--> | cirrhosis &lt;chr&gt; | SLE &lt;chr&gt; | UC &lt;chr&gt; | RA &lt;chr&gt; | PSA &lt;chr&gt; | PS &lt;chr&gt; | CD &lt;chr&gt; | HIV &lt;chr&gt; | HBV &lt;chr&gt; | NPC &lt;chr&gt; | MS &lt;chr&gt; | CRC &lt;chr&gt; | asthma &lt;chr&gt; | BRCA &lt;chr&gt; | COPD &lt;chr&gt; | HNSCC &lt;chr&gt; | sepsis &lt;chr&gt; | COVID &lt;chr&gt; | flu &lt;chr&gt; |\n",
       "|---|---|---|---|---|---|---|---|---|---|---|---|---|---|---|---|---|---|---|---|\n",
       "| B-X-adhesion_molecules | <!----> | · | · | · | · | <!----> | <!----> | <!----> | <!----> | <!----> | <!----> | <!----> | <!----> | <!----> | <!----> | <!----> | · | <!----> | <!----> |\n",
       "| Plasma-X-adhesion_molecules | <!----> | <!----> | · | · | · | <!----> | · | <!----> | <!----> | <!----> | <!----> | <!----> | <!----> | <!----> | <!----> | <!----> | · | · | <!----> |\n",
       "| pDC-X-adhesion_molecules | <!----> | <!----> | <!----> | · | · | <!----> | <!----> | <!----> | <!----> | <!----> | <!----> | <!----> | <!----> | <!----> | <!----> | <!----> | <!----> | <!----> | <!----> |\n",
       "| DC-X-adhesion_molecules | <!----> | · | · | · | · | · | <!----> | <!----> | <!----> | <!----> | <!----> | <!----> | <!----> | <!----> | <!----> | <!----> | <!----> | <!----> | <!----> |\n",
       "| Mono-X-adhesion_molecules | <!----> | · | · | · | · | · | · | <!----> | · | <!----> | <!----> | <!----> | <!----> | <!----> | <!----> | <!----> | · | · | <!----> |\n",
       "| T_CD4_Naive-X-adhesion_molecules | <!----> | <!----> | · | · | · | · | <!----> | <!----> | <!----> | <!----> | <!----> | <!----> | <!----> | <!----> | <!----> | <!----> | · | · | · |\n",
       "\n"
      ],
      "text/plain": [
       "                                 cirrhosis SLE UC RA PSA PS CD HIV HBV NPC MS\n",
       "B-X-adhesion_molecules                     ·   ·  ·  ·                       \n",
       "Plasma-X-adhesion_molecules                    ·  ·  ·      ·                \n",
       "pDC-X-adhesion_molecules                          ·  ·                       \n",
       "DC-X-adhesion_molecules                    ·   ·  ·  ·   ·                   \n",
       "Mono-X-adhesion_molecules                  ·   ·  ·  ·   ·  ·      ·         \n",
       "T_CD4_Naive-X-adhesion_molecules               ·  ·  ·   ·                   \n",
       "                                 CRC asthma BRCA COPD HNSCC sepsis COVID flu\n",
       "B-X-adhesion_molecules                                      ·               \n",
       "Plasma-X-adhesion_molecules                                 ·      ·        \n",
       "pDC-X-adhesion_molecules                                                    \n",
       "DC-X-adhesion_molecules                                                     \n",
       "Mono-X-adhesion_molecules                                   ·      ·        \n",
       "T_CD4_Naive-X-adhesion_molecules                            ·      ·     ·  "
      ]
     },
     "metadata": {},
     "output_type": "display_data"
    }
   ],
   "source": [
    "sig_to_plot <- significance_data %>%\n",
    "  #mutate(across(everything(), ~ ifelse(. < 0.05, \"·\", \"\")))\n",
    "  mutate(across(everything(), ~ ifelse(is.na(.), \"\", ifelse(. < 0.05, \"·\", \"\"))))\n",
    "head(sig_to_plot)"
   ]
  },
  {
   "cell_type": "code",
   "execution_count": 175,
   "id": "e988377f-1bf7-4583-8cd5-a559cc535126",
   "metadata": {
    "execution": {
     "iopub.execute_input": "2024-08-27T10:08:08.942438Z",
     "iopub.status.busy": "2024-08-27T10:08:08.941194Z",
     "iopub.status.idle": "2024-08-27T10:08:09.212537Z",
     "shell.execute_reply": "2024-08-27T10:08:09.211363Z"
    }
   },
   "outputs": [
    {
     "data": {
      "text/html": [
       "<strong>pdf:</strong> 4"
      ],
      "text/latex": [
       "\\textbf{pdf:} 4"
      ],
      "text/markdown": [
       "**pdf:** 4"
      ],
      "text/plain": [
       "pdf \n",
       "  4 "
      ]
     },
     "metadata": {},
     "output_type": "display_data"
    }
   ],
   "source": [
    "#options(repr.plot.width = 10, repr.plot.height = 20, repr.plot.res = 100)\n",
    "breaks <- c(head(seq(min_value,0, length.out = 101), -1),seq(0, max_value, length.out = 100))\n",
    "figure_path <-  paste0(base_path,\"/03_downstream_analysis/06_inflammation_signatures/results/heatmap_with_dendogram.pdf\")\n",
    "pdf(figure_path, width = 10, height = 13)\n",
    "a <- pheatmap(mat = apply(heatmap_df, c(1,2), FUN = function(x) {clipValues(x, min_value, max_value)}),\n",
    "  border_color = FALSE,\n",
    "  color = clr,\n",
    "  breaks  =  breaks,\n",
    "  display_numbers = sig_to_plot,\n",
    "  fontsize_number = 10,\n",
    "  na_col = \"white\",\n",
    "  cluster_cols = TRUE,\n",
    "  cluster_rows = FALSE,\n",
    "  cellheight = 5,\n",
    "  cellwidth = 7,\n",
    "  cex = 1, \n",
    "  fontsize = 6,\n",
    "  annotation_colors = my_colour_annot,\n",
    "  annotation_col = col_annotations,\n",
    "  annotation_row = ordered_row_annotations,\n",
    "  #gaps_col = cumsum(table(col_annotations$diseaseGroup)),\n",
    "  #gaps_row = cumsum(table(row_annotations$Function)),\n",
    "  #gaps_col = c(7, 10, 11, 15, 19),\n",
    "  gaps_row = c(11, 22, 33, 44, 55, 66, 77, 88, 99, 101, 103, 105, 107, 109, 111, 113, 114, 115, 116, 117), # GAP ROW FOR FUNCTIONS\n",
    "  #gaps_row = c(10, 19, 28, 38, 49, 63, 77, 88, 99, 108), # GAP ROW FOR CELLTYPES w/ global\n",
    "  #gaps_row = c(10, 19, 28, 39, 51, 65, 79, 90, 101, 110), # GAP ROW FOR CELLTYPES\n",
    "  filename = figure_path,\n",
    "  legend = TRUE,\n",
    "  legend_breaks = c(max_value, -4, -2, -1, 0, 1, 2, 4, 6, min_value),\n",
    "  #legend_labels = names(my_colors),\n",
    "  height = 18, \n",
    "  width = 15\n",
    ")\n",
    "print(a)\n",
    "dev.off()"
   ]
  }
 ],
 "metadata": {
  "kernelspec": {
   "display_name": "R",
   "language": "R",
   "name": "ir"
  },
  "language_info": {
   "codemirror_mode": "r",
   "file_extension": ".r",
   "mimetype": "text/x-r-source",
   "name": "R",
   "pygments_lexer": "r",
   "version": "4.3.3"
  }
 },
 "nbformat": 4,
 "nbformat_minor": 5
}
