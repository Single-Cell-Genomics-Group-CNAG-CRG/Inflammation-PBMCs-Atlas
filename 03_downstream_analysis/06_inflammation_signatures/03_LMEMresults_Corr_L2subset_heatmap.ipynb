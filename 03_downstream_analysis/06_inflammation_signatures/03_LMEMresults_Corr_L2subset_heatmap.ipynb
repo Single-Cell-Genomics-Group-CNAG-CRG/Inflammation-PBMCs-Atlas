{
 "cells": [
  {
   "cell_type": "code",
   "execution_count": 1,
   "id": "2309f507-31a3-4914-9ddc-f659a82b29ac",
   "metadata": {
    "execution": {
     "iopub.execute_input": "2024-07-10T08:09:01.771455Z",
     "iopub.status.busy": "2024-07-10T08:09:01.768965Z",
     "iopub.status.idle": "2024-07-10T08:09:03.888894Z",
     "shell.execute_reply": "2024-07-10T08:09:03.887227Z"
    }
   },
   "outputs": [],
   "source": [
    "suppressPackageStartupMessages(require(dplyr))\n",
    "suppressPackageStartupMessages(require(data.table))\n",
    "suppressPackageStartupMessages(require(RColorBrewer))\n",
    "suppressPackageStartupMessages(library(pheatmap))\n",
    "suppressPackageStartupMessages(library(tidyr))\n",
    "suppressPackageStartupMessages(library(purrr))\n",
    "suppressPackageStartupMessages(library(circlize))"
   ]
  },
  {
   "cell_type": "markdown",
   "id": "d234ddce-a915-4308-8dc8-60e9ee17651e",
   "metadata": {},
   "source": [
    "# Parameters"
   ]
  },
  {
   "cell_type": "code",
   "execution_count": 2,
   "id": "1ca38eb4-44ca-4827-b647-7e3332a40d83",
   "metadata": {
    "execution": {
     "iopub.execute_input": "2024-07-10T08:09:03.915662Z",
     "iopub.status.busy": "2024-07-10T08:09:03.890962Z",
     "iopub.status.idle": "2024-07-10T08:09:03.945948Z",
     "shell.execute_reply": "2024-07-10T08:09:03.944528Z"
    }
   },
   "outputs": [],
   "source": [
    "# Input\n",
    "base_path <- \"/scratch_isilon/groups/singlecell/shared/projects/Inflammation-PBMCs-Atlas\"\n",
    "corrected_logFC_inputpath <- paste0(base_path, \"/03_downstream_analysis/06_inflammation_signatures/results/DecoupleR_ulmestimates_mixedmlEvalFilt_L2_Corr.csv\")\n",
    "corrected_logFC_NonFilt_inputpath <- paste0(base_path, \"/03_downstream_analysis/06_inflammation_signatures/results/DecoupleR_ulmestimates_mixedmlEval_L2_Corr.csv\")\n",
    "disease_metadata_inputpath <-  paste0(base_path,\"/03_downstream_analysis/06_inflammation_signatures/results/disease_metadata.csv\")\n",
    "\n",
    "# Arguments\n",
    "filter_by_pval <- 0.05\n",
    "\n",
    "width <- 10\n",
    "height <- 15\n",
    "resol <- 400\n",
    "cellheight <- 15\n",
    "cellwidth <- 20\n",
    "fontsize <- 12"
   ]
  },
  {
   "cell_type": "markdown",
   "id": "d49567f4-e9c9-4875-8dcc-f74cc52b278f",
   "metadata": {},
   "source": [
    "## Load"
   ]
  },
  {
   "cell_type": "code",
   "execution_count": 3,
   "id": "bcd93b1c-674c-4b78-b2c8-04831b71cebc",
   "metadata": {
    "execution": {
     "iopub.execute_input": "2024-07-10T08:09:03.948744Z",
     "iopub.status.busy": "2024-07-10T08:09:03.947815Z",
     "iopub.status.idle": "2024-07-10T08:09:04.025872Z",
     "shell.execute_reply": "2024-07-10T08:09:04.024563Z"
    }
   },
   "outputs": [],
   "source": [
    "# Load -------------------------\n",
    "metadata <- read.csv(disease_metadata_inputpath, header = TRUE, row.names = 1)\n",
    "correctedNoFilt_logFC <- read.csv(corrected_logFC_NonFilt_inputpath, header = TRUE)"
   ]
  },
  {
   "cell_type": "code",
   "execution_count": 4,
   "id": "8a9a5b39-0869-4486-b90f-d01c51215eb5",
   "metadata": {
    "execution": {
     "iopub.execute_input": "2024-07-10T08:09:04.028559Z",
     "iopub.status.busy": "2024-07-10T08:09:04.027621Z",
     "iopub.status.idle": "2024-07-10T08:09:04.039637Z",
     "shell.execute_reply": "2024-07-10T08:09:04.038510Z"
    }
   },
   "outputs": [
    {
     "name": "stdout",
     "output_type": "stream",
     "text": [
      "                                                    X  Coef. Std.Err.      z\n",
      "1  C(disease, Treatment(reference=\"healthy\"))[T.BRCA]  0.616    0.385  1.601\n",
      "2 C(disease, Treatment(reference=\"healthy\"))[T.COVID] -0.225    0.230 -0.978\n",
      "3   C(disease, Treatment(reference=\"healthy\"))[T.CRC]  0.716    0.273  2.619\n",
      "4   C(disease, Treatment(reference=\"healthy\"))[T.HBV] -0.291    0.314 -0.927\n",
      "5   C(disease, Treatment(reference=\"healthy\"))[T.NPC] -0.616    0.329 -1.870\n",
      "6    C(disease, Treatment(reference=\"healthy\"))[T.UC] -1.610    0.798 -2.016\n",
      "  P..z. X.0.025 X0.975. AnnotationLevel CellType_Level1 CellType_Level2\n",
      "1 0.109  -0.138   1.370          Level2               B  B_IFNresponder\n",
      "2 0.328  -0.677   0.226          Level2               B  B_IFNresponder\n",
      "3 0.009   0.180   1.251          Level2               B  B_IFNresponder\n",
      "4 0.354  -0.907   0.324          Level2               B  B_IFNresponder\n",
      "5 0.061  -1.262   0.029          Level2               B  B_IFNresponder\n",
      "6 0.044  -3.175  -0.045          Level2               B  B_IFNresponder\n",
      "                                       FactorName disease  Pval_adj\n",
      "1 10-X-B-X-cytokine_and_receptors_proinflammatory    BRCA 0.2711836\n",
      "2 10-X-B-X-cytokine_and_receptors_proinflammatory   COVID 0.5484416\n",
      "3 10-X-B-X-cytokine_and_receptors_proinflammatory     CRC 0.0379918\n",
      "4 10-X-B-X-cytokine_and_receptors_proinflammatory     HBV 0.5742047\n",
      "5 10-X-B-X-cytokine_and_receptors_proinflammatory     NPC 0.1779887\n",
      "6 10-X-B-X-cytokine_and_receptors_proinflammatory      UC 0.1398765\n"
     ]
    }
   ],
   "source": [
    "print(head(correctedNoFilt_logFC))"
   ]
  },
  {
   "cell_type": "code",
   "execution_count": 5,
   "id": "7932056d-6f83-4d76-876b-d9228fbc9153",
   "metadata": {
    "execution": {
     "iopub.execute_input": "2024-07-10T08:09:04.042236Z",
     "iopub.status.busy": "2024-07-10T08:09:04.041323Z",
     "iopub.status.idle": "2024-07-10T08:09:04.052298Z",
     "shell.execute_reply": "2024-07-10T08:09:04.051162Z"
    }
   },
   "outputs": [
    {
     "data": {
      "text/html": [
       "<style>\n",
       ".list-inline {list-style: none; margin:0; padding: 0}\n",
       ".list-inline>li {display: inline-block}\n",
       ".list-inline>li:not(:last-child)::after {content: \"\\00b7\"; padding: 0 .5ex}\n",
       "</style>\n",
       "<ol class=list-inline><li>'BRCA'</li><li>'COVID'</li><li>'CRC'</li><li>'HBV'</li><li>'NPC'</li><li>'UC'</li><li>'sepsis'</li><li>'CD'</li><li>'HIV'</li><li>'MS'</li><li>'PS'</li><li>'PSA'</li><li>'RA'</li><li>'SLE'</li><li>'asthma'</li><li>'cirrhosis'</li><li>'COPD'</li><li>'HNSCC'</li><li>'flu'</li></ol>\n"
      ],
      "text/latex": [
       "\\begin{enumerate*}\n",
       "\\item 'BRCA'\n",
       "\\item 'COVID'\n",
       "\\item 'CRC'\n",
       "\\item 'HBV'\n",
       "\\item 'NPC'\n",
       "\\item 'UC'\n",
       "\\item 'sepsis'\n",
       "\\item 'CD'\n",
       "\\item 'HIV'\n",
       "\\item 'MS'\n",
       "\\item 'PS'\n",
       "\\item 'PSA'\n",
       "\\item 'RA'\n",
       "\\item 'SLE'\n",
       "\\item 'asthma'\n",
       "\\item 'cirrhosis'\n",
       "\\item 'COPD'\n",
       "\\item 'HNSCC'\n",
       "\\item 'flu'\n",
       "\\end{enumerate*}\n"
      ],
      "text/markdown": [
       "1. 'BRCA'\n",
       "2. 'COVID'\n",
       "3. 'CRC'\n",
       "4. 'HBV'\n",
       "5. 'NPC'\n",
       "6. 'UC'\n",
       "7. 'sepsis'\n",
       "8. 'CD'\n",
       "9. 'HIV'\n",
       "10. 'MS'\n",
       "11. 'PS'\n",
       "12. 'PSA'\n",
       "13. 'RA'\n",
       "14. 'SLE'\n",
       "15. 'asthma'\n",
       "16. 'cirrhosis'\n",
       "17. 'COPD'\n",
       "18. 'HNSCC'\n",
       "19. 'flu'\n",
       "\n",
       "\n"
      ],
      "text/plain": [
       " [1] \"BRCA\"      \"COVID\"     \"CRC\"       \"HBV\"       \"NPC\"       \"UC\"       \n",
       " [7] \"sepsis\"    \"CD\"        \"HIV\"       \"MS\"        \"PS\"        \"PSA\"      \n",
       "[13] \"RA\"        \"SLE\"       \"asthma\"    \"cirrhosis\" \"COPD\"      \"HNSCC\"    \n",
       "[19] \"flu\"      "
      ]
     },
     "metadata": {},
     "output_type": "display_data"
    }
   ],
   "source": [
    "unique(correctedNoFilt_logFC$disease)"
   ]
  },
  {
   "cell_type": "code",
   "execution_count": 6,
   "id": "2c8b07f4-7672-4faa-95f1-226983f04ccc",
   "metadata": {
    "execution": {
     "iopub.execute_input": "2024-07-10T08:09:04.054937Z",
     "iopub.status.busy": "2024-07-10T08:09:04.054026Z",
     "iopub.status.idle": "2024-07-10T08:09:04.063719Z",
     "shell.execute_reply": "2024-07-10T08:09:04.062592Z"
    }
   },
   "outputs": [
    {
     "data": {
      "text/html": [
       "19"
      ],
      "text/latex": [
       "19"
      ],
      "text/markdown": [
       "19"
      ],
      "text/plain": [
       "[1] 19"
      ]
     },
     "metadata": {},
     "output_type": "display_data"
    }
   ],
   "source": [
    "length(unique(correctedNoFilt_logFC$disease))"
   ]
  },
  {
   "cell_type": "code",
   "execution_count": 7,
   "id": "b159b0fc-182d-426c-bdf6-d35a4e557b0f",
   "metadata": {
    "execution": {
     "iopub.execute_input": "2024-07-10T08:09:04.066355Z",
     "iopub.status.busy": "2024-07-10T08:09:04.065422Z",
     "iopub.status.idle": "2024-07-10T08:09:04.078940Z",
     "shell.execute_reply": "2024-07-10T08:09:04.077796Z"
    }
   },
   "outputs": [
    {
     "data": {
      "text/html": [
       "85"
      ],
      "text/latex": [
       "85"
      ],
      "text/markdown": [
       "85"
      ],
      "text/plain": [
       "[1] 85"
      ]
     },
     "metadata": {},
     "output_type": "display_data"
    }
   ],
   "source": [
    "length(unique(correctedNoFilt_logFC$FactorName))"
   ]
  },
  {
   "cell_type": "code",
   "execution_count": 8,
   "id": "bdd29ff9-ead9-4abd-8ecf-743e5184017c",
   "metadata": {
    "execution": {
     "iopub.execute_input": "2024-07-10T08:09:04.081723Z",
     "iopub.status.busy": "2024-07-10T08:09:04.080723Z",
     "iopub.status.idle": "2024-07-10T08:09:04.090628Z",
     "shell.execute_reply": "2024-07-10T08:09:04.089458Z"
    }
   },
   "outputs": [
    {
     "name": "stdout",
     "output_type": "stream",
     "text": [
      "     disease         diseaseGroup\n",
      "0       BRCA          solid_tumor\n",
      "1         CD                IMIDs\n",
      "2       COPD chronic_inflammation\n",
      "3      COVID            infection\n",
      "4        CRC          solid_tumor\n",
      "5        HBV            infection\n",
      "6        HIV            infection\n",
      "7      HNSCC          solid_tumor\n",
      "8         MS                IMIDs\n",
      "9        NPC          solid_tumor\n",
      "10        PS                IMIDs\n",
      "11       PSA                IMIDs\n",
      "12        RA                IMIDs\n",
      "13       SLE                IMIDs\n",
      "14        UC                IMIDs\n",
      "15    asthma chronic_inflammation\n",
      "16 cirrhosis chronic_inflammation\n",
      "17       flu            infection\n",
      "18   healthy              healthy\n",
      "19    sepsis   acute_inflammation\n"
     ]
    }
   ],
   "source": [
    "#metadata <- metadata %>% filter(disease != \"BRCA\")\n",
    "print(metadata)"
   ]
  },
  {
   "cell_type": "code",
   "execution_count": 9,
   "id": "7d5b1554-5894-4ad6-a55f-fc031a626e03",
   "metadata": {
    "execution": {
     "iopub.execute_input": "2024-07-10T08:09:04.159373Z",
     "iopub.status.busy": "2024-07-10T08:09:04.158435Z",
     "iopub.status.idle": "2024-07-10T08:09:04.165923Z",
     "shell.execute_reply": "2024-07-10T08:09:04.164798Z"
    }
   },
   "outputs": [],
   "source": [
    "signatures <- c()"
   ]
  },
  {
   "cell_type": "markdown",
   "id": "bd5be530-ac7f-421a-9a6b-54b5c52e5658",
   "metadata": {},
   "source": [
    "## Preprocessing"
   ]
  },
  {
   "cell_type": "markdown",
   "id": "85671dee-02bb-40f0-a03f-63cf479e5f53",
   "metadata": {},
   "source": [
    "**Extract information fron imput DF**"
   ]
  },
  {
   "cell_type": "code",
   "execution_count": 10,
   "id": "a2066bb6-1b78-4815-9c65-3c25662dcb8a",
   "metadata": {
    "execution": {
     "iopub.execute_input": "2024-07-10T08:09:04.769227Z",
     "iopub.status.busy": "2024-07-10T08:09:04.768301Z",
     "iopub.status.idle": "2024-07-10T08:09:04.809044Z",
     "shell.execute_reply": "2024-07-10T08:09:04.807886Z"
    },
    "scrolled": true
   },
   "outputs": [
    {
     "data": {
      "text/html": [
       "<table class=\"dataframe\">\n",
       "<caption>A data.frame: 6 × 14</caption>\n",
       "<thead>\n",
       "\t<tr><th></th><th scope=col>X</th><th scope=col>Coef.</th><th scope=col>Std.Err.</th><th scope=col>z</th><th scope=col>P..z.</th><th scope=col>X.0.025</th><th scope=col>X0.975.</th><th scope=col>AnnotationLevel</th><th scope=col>CellType_Level1</th><th scope=col>CellType_Level2</th><th scope=col>FactorName</th><th scope=col>disease</th><th scope=col>Pval_adj</th><th scope=col>Function</th></tr>\n",
       "\t<tr><th></th><th scope=col>&lt;chr&gt;</th><th scope=col>&lt;dbl&gt;</th><th scope=col>&lt;dbl&gt;</th><th scope=col>&lt;dbl&gt;</th><th scope=col>&lt;dbl&gt;</th><th scope=col>&lt;dbl&gt;</th><th scope=col>&lt;dbl&gt;</th><th scope=col>&lt;chr&gt;</th><th scope=col>&lt;chr&gt;</th><th scope=col>&lt;chr&gt;</th><th scope=col>&lt;chr&gt;</th><th scope=col>&lt;chr&gt;</th><th scope=col>&lt;dbl&gt;</th><th scope=col>&lt;chr&gt;</th></tr>\n",
       "</thead>\n",
       "<tbody>\n",
       "\t<tr><th scope=row>5510</th><td>C(disease, Treatment(reference=\"healthy\"))[T.CD] </td><td>0.928</td><td>0.401</td><td>2.313</td><td>0.021</td><td> 0.141</td><td>1.714</td><td>Level2</td><td>T_CD8_NonNaive</td><td>T_CD8_CM</td><td>109-X-T_CD8_NonNaive-X-IFN_Type_1_2_Lambda</td><td>CD </td><td>0.094117647</td><td>IFN_Type_1_2_Lambda</td></tr>\n",
       "\t<tr><th scope=row>5519</th><td>C(disease, Treatment(reference=\"healthy\"))[T.PS] </td><td>0.308</td><td>0.382</td><td>0.806</td><td>0.420</td><td>-0.441</td><td>1.056</td><td>Level2</td><td>T_CD8_NonNaive</td><td>T_CD8_CM</td><td>109-X-T_CD8_NonNaive-X-IFN_Type_1_2_Lambda</td><td>PS </td><td>0.699689119</td><td>IFN_Type_1_2_Lambda</td></tr>\n",
       "\t<tr><th scope=row>5520</th><td>C(disease, Treatment(reference=\"healthy\"))[T.PSA]</td><td>0.772</td><td>0.382</td><td>2.021</td><td>0.043</td><td> 0.023</td><td>1.520</td><td>Level2</td><td>T_CD8_NonNaive</td><td>T_CD8_CM</td><td>109-X-T_CD8_NonNaive-X-IFN_Type_1_2_Lambda</td><td>PSA</td><td>0.161502347</td><td>IFN_Type_1_2_Lambda</td></tr>\n",
       "\t<tr><th scope=row>5521</th><td>C(disease, Treatment(reference=\"healthy\"))[T.RA] </td><td>1.215</td><td>0.355</td><td>3.428</td><td>0.001</td><td> 0.520</td><td>1.910</td><td>Level2</td><td>T_CD8_NonNaive</td><td>T_CD8_CM</td><td>109-X-T_CD8_NonNaive-X-IFN_Type_1_2_Lambda</td><td>RA </td><td>0.007407407</td><td>IFN_Type_1_2_Lambda</td></tr>\n",
       "\t<tr><th scope=row>5522</th><td>C(disease, Treatment(reference=\"healthy\"))[T.SLE]</td><td>0.883</td><td>0.180</td><td>4.895</td><td>0.000</td><td> 0.529</td><td>1.237</td><td>Level2</td><td>T_CD8_NonNaive</td><td>T_CD8_CM</td><td>109-X-T_CD8_NonNaive-X-IFN_Type_1_2_Lambda</td><td>SLE</td><td>0.000000000</td><td>IFN_Type_1_2_Lambda</td></tr>\n",
       "\t<tr><th scope=row>5523</th><td>C(disease, Treatment(reference=\"healthy\"))[T.UC] </td><td>1.263</td><td>0.397</td><td>3.184</td><td>0.001</td><td> 0.486</td><td>2.041</td><td>Level2</td><td>T_CD8_NonNaive</td><td>T_CD8_CM</td><td>109-X-T_CD8_NonNaive-X-IFN_Type_1_2_Lambda</td><td>UC </td><td>0.007407407</td><td>IFN_Type_1_2_Lambda</td></tr>\n",
       "</tbody>\n",
       "</table>\n"
      ],
      "text/latex": [
       "A data.frame: 6 × 14\n",
       "\\begin{tabular}{r|llllllllllllll}\n",
       "  & X & Coef. & Std.Err. & z & P..z. & X.0.025 & X0.975. & AnnotationLevel & CellType\\_Level1 & CellType\\_Level2 & FactorName & disease & Pval\\_adj & Function\\\\\n",
       "  & <chr> & <dbl> & <dbl> & <dbl> & <dbl> & <dbl> & <dbl> & <chr> & <chr> & <chr> & <chr> & <chr> & <dbl> & <chr>\\\\\n",
       "\\hline\n",
       "\t5510 & C(disease, Treatment(reference=\"healthy\")){[}T.CD{]}  & 0.928 & 0.401 & 2.313 & 0.021 &  0.141 & 1.714 & Level2 & T\\_CD8\\_NonNaive & T\\_CD8\\_CM & 109-X-T\\_CD8\\_NonNaive-X-IFN\\_Type\\_1\\_2\\_Lambda & CD  & 0.094117647 & IFN\\_Type\\_1\\_2\\_Lambda\\\\\n",
       "\t5519 & C(disease, Treatment(reference=\"healthy\")){[}T.PS{]}  & 0.308 & 0.382 & 0.806 & 0.420 & -0.441 & 1.056 & Level2 & T\\_CD8\\_NonNaive & T\\_CD8\\_CM & 109-X-T\\_CD8\\_NonNaive-X-IFN\\_Type\\_1\\_2\\_Lambda & PS  & 0.699689119 & IFN\\_Type\\_1\\_2\\_Lambda\\\\\n",
       "\t5520 & C(disease, Treatment(reference=\"healthy\")){[}T.PSA{]} & 0.772 & 0.382 & 2.021 & 0.043 &  0.023 & 1.520 & Level2 & T\\_CD8\\_NonNaive & T\\_CD8\\_CM & 109-X-T\\_CD8\\_NonNaive-X-IFN\\_Type\\_1\\_2\\_Lambda & PSA & 0.161502347 & IFN\\_Type\\_1\\_2\\_Lambda\\\\\n",
       "\t5521 & C(disease, Treatment(reference=\"healthy\")){[}T.RA{]}  & 1.215 & 0.355 & 3.428 & 0.001 &  0.520 & 1.910 & Level2 & T\\_CD8\\_NonNaive & T\\_CD8\\_CM & 109-X-T\\_CD8\\_NonNaive-X-IFN\\_Type\\_1\\_2\\_Lambda & RA  & 0.007407407 & IFN\\_Type\\_1\\_2\\_Lambda\\\\\n",
       "\t5522 & C(disease, Treatment(reference=\"healthy\")){[}T.SLE{]} & 0.883 & 0.180 & 4.895 & 0.000 &  0.529 & 1.237 & Level2 & T\\_CD8\\_NonNaive & T\\_CD8\\_CM & 109-X-T\\_CD8\\_NonNaive-X-IFN\\_Type\\_1\\_2\\_Lambda & SLE & 0.000000000 & IFN\\_Type\\_1\\_2\\_Lambda\\\\\n",
       "\t5523 & C(disease, Treatment(reference=\"healthy\")){[}T.UC{]}  & 1.263 & 0.397 & 3.184 & 0.001 &  0.486 & 2.041 & Level2 & T\\_CD8\\_NonNaive & T\\_CD8\\_CM & 109-X-T\\_CD8\\_NonNaive-X-IFN\\_Type\\_1\\_2\\_Lambda & UC  & 0.007407407 & IFN\\_Type\\_1\\_2\\_Lambda\\\\\n",
       "\\end{tabular}\n"
      ],
      "text/markdown": [
       "\n",
       "A data.frame: 6 × 14\n",
       "\n",
       "| <!--/--> | X &lt;chr&gt; | Coef. &lt;dbl&gt; | Std.Err. &lt;dbl&gt; | z &lt;dbl&gt; | P..z. &lt;dbl&gt; | X.0.025 &lt;dbl&gt; | X0.975. &lt;dbl&gt; | AnnotationLevel &lt;chr&gt; | CellType_Level1 &lt;chr&gt; | CellType_Level2 &lt;chr&gt; | FactorName &lt;chr&gt; | disease &lt;chr&gt; | Pval_adj &lt;dbl&gt; | Function &lt;chr&gt; |\n",
       "|---|---|---|---|---|---|---|---|---|---|---|---|---|---|---|\n",
       "| 5510 | C(disease, Treatment(reference=\"healthy\"))[T.CD]  | 0.928 | 0.401 | 2.313 | 0.021 |  0.141 | 1.714 | Level2 | T_CD8_NonNaive | T_CD8_CM | 109-X-T_CD8_NonNaive-X-IFN_Type_1_2_Lambda | CD  | 0.094117647 | IFN_Type_1_2_Lambda |\n",
       "| 5519 | C(disease, Treatment(reference=\"healthy\"))[T.PS]  | 0.308 | 0.382 | 0.806 | 0.420 | -0.441 | 1.056 | Level2 | T_CD8_NonNaive | T_CD8_CM | 109-X-T_CD8_NonNaive-X-IFN_Type_1_2_Lambda | PS  | 0.699689119 | IFN_Type_1_2_Lambda |\n",
       "| 5520 | C(disease, Treatment(reference=\"healthy\"))[T.PSA] | 0.772 | 0.382 | 2.021 | 0.043 |  0.023 | 1.520 | Level2 | T_CD8_NonNaive | T_CD8_CM | 109-X-T_CD8_NonNaive-X-IFN_Type_1_2_Lambda | PSA | 0.161502347 | IFN_Type_1_2_Lambda |\n",
       "| 5521 | C(disease, Treatment(reference=\"healthy\"))[T.RA]  | 1.215 | 0.355 | 3.428 | 0.001 |  0.520 | 1.910 | Level2 | T_CD8_NonNaive | T_CD8_CM | 109-X-T_CD8_NonNaive-X-IFN_Type_1_2_Lambda | RA  | 0.007407407 | IFN_Type_1_2_Lambda |\n",
       "| 5522 | C(disease, Treatment(reference=\"healthy\"))[T.SLE] | 0.883 | 0.180 | 4.895 | 0.000 |  0.529 | 1.237 | Level2 | T_CD8_NonNaive | T_CD8_CM | 109-X-T_CD8_NonNaive-X-IFN_Type_1_2_Lambda | SLE | 0.000000000 | IFN_Type_1_2_Lambda |\n",
       "| 5523 | C(disease, Treatment(reference=\"healthy\"))[T.UC]  | 1.263 | 0.397 | 3.184 | 0.001 |  0.486 | 2.041 | Level2 | T_CD8_NonNaive | T_CD8_CM | 109-X-T_CD8_NonNaive-X-IFN_Type_1_2_Lambda | UC  | 0.007407407 | IFN_Type_1_2_Lambda |\n",
       "\n"
      ],
      "text/plain": [
       "     X                                                 Coef. Std.Err. z    \n",
       "5510 C(disease, Treatment(reference=\"healthy\"))[T.CD]  0.928 0.401    2.313\n",
       "5519 C(disease, Treatment(reference=\"healthy\"))[T.PS]  0.308 0.382    0.806\n",
       "5520 C(disease, Treatment(reference=\"healthy\"))[T.PSA] 0.772 0.382    2.021\n",
       "5521 C(disease, Treatment(reference=\"healthy\"))[T.RA]  1.215 0.355    3.428\n",
       "5522 C(disease, Treatment(reference=\"healthy\"))[T.SLE] 0.883 0.180    4.895\n",
       "5523 C(disease, Treatment(reference=\"healthy\"))[T.UC]  1.263 0.397    3.184\n",
       "     P..z. X.0.025 X0.975. AnnotationLevel CellType_Level1 CellType_Level2\n",
       "5510 0.021  0.141  1.714   Level2          T_CD8_NonNaive  T_CD8_CM       \n",
       "5519 0.420 -0.441  1.056   Level2          T_CD8_NonNaive  T_CD8_CM       \n",
       "5520 0.043  0.023  1.520   Level2          T_CD8_NonNaive  T_CD8_CM       \n",
       "5521 0.001  0.520  1.910   Level2          T_CD8_NonNaive  T_CD8_CM       \n",
       "5522 0.000  0.529  1.237   Level2          T_CD8_NonNaive  T_CD8_CM       \n",
       "5523 0.001  0.486  2.041   Level2          T_CD8_NonNaive  T_CD8_CM       \n",
       "     FactorName                                 disease Pval_adj   \n",
       "5510 109-X-T_CD8_NonNaive-X-IFN_Type_1_2_Lambda CD      0.094117647\n",
       "5519 109-X-T_CD8_NonNaive-X-IFN_Type_1_2_Lambda PS      0.699689119\n",
       "5520 109-X-T_CD8_NonNaive-X-IFN_Type_1_2_Lambda PSA     0.161502347\n",
       "5521 109-X-T_CD8_NonNaive-X-IFN_Type_1_2_Lambda RA      0.007407407\n",
       "5522 109-X-T_CD8_NonNaive-X-IFN_Type_1_2_Lambda SLE     0.000000000\n",
       "5523 109-X-T_CD8_NonNaive-X-IFN_Type_1_2_Lambda UC      0.007407407\n",
       "     Function           \n",
       "5510 IFN_Type_1_2_Lambda\n",
       "5519 IFN_Type_1_2_Lambda\n",
       "5520 IFN_Type_1_2_Lambda\n",
       "5521 IFN_Type_1_2_Lambda\n",
       "5522 IFN_Type_1_2_Lambda\n",
       "5523 IFN_Type_1_2_Lambda"
      ]
     },
     "metadata": {},
     "output_type": "display_data"
    }
   ],
   "source": [
    "# Preprocess data\n",
    "# Filter rows based on only T_CD8_NonNaive\n",
    "filtered_data <- subset(correctedNoFilt_logFC, CellType_Level1 == \"T_CD8_NonNaive\")\n",
    "filtered_data <- subset(filtered_data, disease %in% c(\"RA\", \"PSA\", \"PS\", \"UC\", \"CD\", \"SLE\"))\n",
    "#filtered_data <- subset(filtered_data, disease == \"IFN_Type_1_2_Lambda\")\n",
    "\n",
    "# Extract Factor function and Celltype\n",
    "filtered_data <- filtered_data %>%\n",
    "  mutate(Function = sapply(strsplit(as.character(FactorName), \"-X-\"), `[`, 3))\n",
    "filtered_data <- subset(filtered_data, Function == \"IFN_Type_1_2_Lambda\")\n",
    "head(filtered_data)"
   ]
  },
  {
   "cell_type": "code",
   "execution_count": 11,
   "id": "d0294143-608c-4588-be9b-c69e0b9e2461",
   "metadata": {
    "execution": {
     "iopub.execute_input": "2024-07-10T08:09:04.960931Z",
     "iopub.status.busy": "2024-07-10T08:09:04.959946Z",
     "iopub.status.idle": "2024-07-10T08:09:05.024448Z",
     "shell.execute_reply": "2024-07-10T08:09:05.023252Z"
    },
    "scrolled": true
   },
   "outputs": [
    {
     "data": {
      "text/html": [
       "<table class=\"dataframe\">\n",
       "<caption>A data.frame: 6 × 7</caption>\n",
       "<thead>\n",
       "\t<tr><th></th><th scope=col>CellType_Level2</th><th scope=col>CD</th><th scope=col>PS</th><th scope=col>PSA</th><th scope=col>RA</th><th scope=col>SLE</th><th scope=col>UC</th></tr>\n",
       "\t<tr><th></th><th scope=col>&lt;chr&gt;</th><th scope=col>&lt;dbl&gt;</th><th scope=col>&lt;dbl&gt;</th><th scope=col>&lt;dbl&gt;</th><th scope=col>&lt;dbl&gt;</th><th scope=col>&lt;dbl&gt;</th><th scope=col>&lt;dbl&gt;</th></tr>\n",
       "</thead>\n",
       "<tbody>\n",
       "\t<tr><th scope=row>1</th><td>T_CD8_activated    </td><td>1.666</td><td>0.867</td><td>1.637</td><td>1.903</td><td>1.700</td><td>2.573</td></tr>\n",
       "\t<tr><th scope=row>2</th><td>T_CD8_CM           </td><td>0.928</td><td>0.308</td><td>0.772</td><td>1.215</td><td>0.883</td><td>1.263</td></tr>\n",
       "\t<tr><th scope=row>3</th><td>T_CD8_CM_stem      </td><td>1.954</td><td>1.777</td><td>2.195</td><td>2.698</td><td>3.281</td><td>2.359</td></tr>\n",
       "\t<tr><th scope=row>4</th><td>T_CD8_eff_HOBIT    </td><td>1.417</td><td>0.959</td><td>1.093</td><td>2.096</td><td>1.746</td><td>2.434</td></tr>\n",
       "\t<tr><th scope=row>5</th><td>T_CD8_EM_CX3CR1high</td><td>1.803</td><td>0.975</td><td>1.783</td><td>2.620</td><td>0.728</td><td>2.013</td></tr>\n",
       "\t<tr><th scope=row>6</th><td>T_CD8_EM_CX3CR1int </td><td>2.147</td><td>2.111</td><td>1.565</td><td>2.295</td><td>1.749</td><td>2.012</td></tr>\n",
       "</tbody>\n",
       "</table>\n"
      ],
      "text/latex": [
       "A data.frame: 6 × 7\n",
       "\\begin{tabular}{r|lllllll}\n",
       "  & CellType\\_Level2 & CD & PS & PSA & RA & SLE & UC\\\\\n",
       "  & <chr> & <dbl> & <dbl> & <dbl> & <dbl> & <dbl> & <dbl>\\\\\n",
       "\\hline\n",
       "\t1 & T\\_CD8\\_activated     & 1.666 & 0.867 & 1.637 & 1.903 & 1.700 & 2.573\\\\\n",
       "\t2 & T\\_CD8\\_CM            & 0.928 & 0.308 & 0.772 & 1.215 & 0.883 & 1.263\\\\\n",
       "\t3 & T\\_CD8\\_CM\\_stem       & 1.954 & 1.777 & 2.195 & 2.698 & 3.281 & 2.359\\\\\n",
       "\t4 & T\\_CD8\\_eff\\_HOBIT     & 1.417 & 0.959 & 1.093 & 2.096 & 1.746 & 2.434\\\\\n",
       "\t5 & T\\_CD8\\_EM\\_CX3CR1high & 1.803 & 0.975 & 1.783 & 2.620 & 0.728 & 2.013\\\\\n",
       "\t6 & T\\_CD8\\_EM\\_CX3CR1int  & 2.147 & 2.111 & 1.565 & 2.295 & 1.749 & 2.012\\\\\n",
       "\\end{tabular}\n"
      ],
      "text/markdown": [
       "\n",
       "A data.frame: 6 × 7\n",
       "\n",
       "| <!--/--> | CellType_Level2 &lt;chr&gt; | CD &lt;dbl&gt; | PS &lt;dbl&gt; | PSA &lt;dbl&gt; | RA &lt;dbl&gt; | SLE &lt;dbl&gt; | UC &lt;dbl&gt; |\n",
       "|---|---|---|---|---|---|---|---|\n",
       "| 1 | T_CD8_activated     | 1.666 | 0.867 | 1.637 | 1.903 | 1.700 | 2.573 |\n",
       "| 2 | T_CD8_CM            | 0.928 | 0.308 | 0.772 | 1.215 | 0.883 | 1.263 |\n",
       "| 3 | T_CD8_CM_stem       | 1.954 | 1.777 | 2.195 | 2.698 | 3.281 | 2.359 |\n",
       "| 4 | T_CD8_eff_HOBIT     | 1.417 | 0.959 | 1.093 | 2.096 | 1.746 | 2.434 |\n",
       "| 5 | T_CD8_EM_CX3CR1high | 1.803 | 0.975 | 1.783 | 2.620 | 0.728 | 2.013 |\n",
       "| 6 | T_CD8_EM_CX3CR1int  | 2.147 | 2.111 | 1.565 | 2.295 | 1.749 | 2.012 |\n",
       "\n"
      ],
      "text/plain": [
       "  CellType_Level2     CD    PS    PSA   RA    SLE   UC   \n",
       "1 T_CD8_activated     1.666 0.867 1.637 1.903 1.700 2.573\n",
       "2 T_CD8_CM            0.928 0.308 0.772 1.215 0.883 1.263\n",
       "3 T_CD8_CM_stem       1.954 1.777 2.195 2.698 3.281 2.359\n",
       "4 T_CD8_eff_HOBIT     1.417 0.959 1.093 2.096 1.746 2.434\n",
       "5 T_CD8_EM_CX3CR1high 1.803 0.975 1.783 2.620 0.728 2.013\n",
       "6 T_CD8_EM_CX3CR1int  2.147 2.111 1.565 2.295 1.749 2.012"
      ]
     },
     "metadata": {},
     "output_type": "display_data"
    }
   ],
   "source": [
    "# Prepare data for heatmap\n",
    "heatmap_data <- filtered_data %>%\n",
    "  select(CellType_Level2, disease, Coef.) %>%\n",
    "  spread(key = disease, value = Coef.)\n",
    "head(heatmap_data)"
   ]
  },
  {
   "cell_type": "markdown",
   "id": "6c5d58d3-fda7-420f-bfc9-57439a3a650d",
   "metadata": {},
   "source": [
    "**Generate heatmap DF**"
   ]
  },
  {
   "cell_type": "code",
   "execution_count": 12,
   "id": "3e137505-d968-470f-91ea-abf423e5d337",
   "metadata": {
    "execution": {
     "iopub.execute_input": "2024-07-10T08:09:05.340118Z",
     "iopub.status.busy": "2024-07-10T08:09:05.339013Z",
     "iopub.status.idle": "2024-07-10T08:09:05.362790Z",
     "shell.execute_reply": "2024-07-10T08:09:05.361538Z"
    }
   },
   "outputs": [
    {
     "data": {
      "text/html": [
       "<table class=\"dataframe\">\n",
       "<caption>A matrix: 8 × 6 of type dbl</caption>\n",
       "<thead>\n",
       "\t<tr><th></th><th scope=col>CD</th><th scope=col>PS</th><th scope=col>PSA</th><th scope=col>RA</th><th scope=col>SLE</th><th scope=col>UC</th></tr>\n",
       "</thead>\n",
       "<tbody>\n",
       "\t<tr><th scope=row>T_CD8_activated</th><td>1.666</td><td>0.867</td><td>1.637</td><td>1.903</td><td>1.700</td><td>2.573</td></tr>\n",
       "\t<tr><th scope=row>T_CD8_CM</th><td>0.928</td><td>0.308</td><td>0.772</td><td>1.215</td><td>0.883</td><td>1.263</td></tr>\n",
       "\t<tr><th scope=row>T_CD8_CM_stem</th><td>1.954</td><td>1.777</td><td>2.195</td><td>2.698</td><td>3.281</td><td>2.359</td></tr>\n",
       "\t<tr><th scope=row>T_CD8_eff_HOBIT</th><td>1.417</td><td>0.959</td><td>1.093</td><td>2.096</td><td>1.746</td><td>2.434</td></tr>\n",
       "\t<tr><th scope=row>T_CD8_EM_CX3CR1high</th><td>1.803</td><td>0.975</td><td>1.783</td><td>2.620</td><td>0.728</td><td>2.013</td></tr>\n",
       "\t<tr><th scope=row>T_CD8_EM_CX3CR1int</th><td>2.147</td><td>2.111</td><td>1.565</td><td>2.295</td><td>1.749</td><td>2.012</td></tr>\n",
       "\t<tr><th scope=row>T_CD8_IFNresponse</th><td>2.223</td><td>1.045</td><td>1.710</td><td>1.996</td><td>0.762</td><td>1.944</td></tr>\n",
       "\t<tr><th scope=row>T_CD8_Mem_cytotoxic</th><td>2.429</td><td>2.144</td><td>1.950</td><td>2.894</td><td>2.601</td><td>3.540</td></tr>\n",
       "</tbody>\n",
       "</table>\n"
      ],
      "text/latex": [
       "A matrix: 8 × 6 of type dbl\n",
       "\\begin{tabular}{r|llllll}\n",
       "  & CD & PS & PSA & RA & SLE & UC\\\\\n",
       "\\hline\n",
       "\tT\\_CD8\\_activated & 1.666 & 0.867 & 1.637 & 1.903 & 1.700 & 2.573\\\\\n",
       "\tT\\_CD8\\_CM & 0.928 & 0.308 & 0.772 & 1.215 & 0.883 & 1.263\\\\\n",
       "\tT\\_CD8\\_CM\\_stem & 1.954 & 1.777 & 2.195 & 2.698 & 3.281 & 2.359\\\\\n",
       "\tT\\_CD8\\_eff\\_HOBIT & 1.417 & 0.959 & 1.093 & 2.096 & 1.746 & 2.434\\\\\n",
       "\tT\\_CD8\\_EM\\_CX3CR1high & 1.803 & 0.975 & 1.783 & 2.620 & 0.728 & 2.013\\\\\n",
       "\tT\\_CD8\\_EM\\_CX3CR1int & 2.147 & 2.111 & 1.565 & 2.295 & 1.749 & 2.012\\\\\n",
       "\tT\\_CD8\\_IFNresponse & 2.223 & 1.045 & 1.710 & 1.996 & 0.762 & 1.944\\\\\n",
       "\tT\\_CD8\\_Mem\\_cytotoxic & 2.429 & 2.144 & 1.950 & 2.894 & 2.601 & 3.540\\\\\n",
       "\\end{tabular}\n"
      ],
      "text/markdown": [
       "\n",
       "A matrix: 8 × 6 of type dbl\n",
       "\n",
       "| <!--/--> | CD | PS | PSA | RA | SLE | UC |\n",
       "|---|---|---|---|---|---|---|\n",
       "| T_CD8_activated | 1.666 | 0.867 | 1.637 | 1.903 | 1.700 | 2.573 |\n",
       "| T_CD8_CM | 0.928 | 0.308 | 0.772 | 1.215 | 0.883 | 1.263 |\n",
       "| T_CD8_CM_stem | 1.954 | 1.777 | 2.195 | 2.698 | 3.281 | 2.359 |\n",
       "| T_CD8_eff_HOBIT | 1.417 | 0.959 | 1.093 | 2.096 | 1.746 | 2.434 |\n",
       "| T_CD8_EM_CX3CR1high | 1.803 | 0.975 | 1.783 | 2.620 | 0.728 | 2.013 |\n",
       "| T_CD8_EM_CX3CR1int | 2.147 | 2.111 | 1.565 | 2.295 | 1.749 | 2.012 |\n",
       "| T_CD8_IFNresponse | 2.223 | 1.045 | 1.710 | 1.996 | 0.762 | 1.944 |\n",
       "| T_CD8_Mem_cytotoxic | 2.429 | 2.144 | 1.950 | 2.894 | 2.601 | 3.540 |\n",
       "\n"
      ],
      "text/plain": [
       "                    CD    PS    PSA   RA    SLE   UC   \n",
       "T_CD8_activated     1.666 0.867 1.637 1.903 1.700 2.573\n",
       "T_CD8_CM            0.928 0.308 0.772 1.215 0.883 1.263\n",
       "T_CD8_CM_stem       1.954 1.777 2.195 2.698 3.281 2.359\n",
       "T_CD8_eff_HOBIT     1.417 0.959 1.093 2.096 1.746 2.434\n",
       "T_CD8_EM_CX3CR1high 1.803 0.975 1.783 2.620 0.728 2.013\n",
       "T_CD8_EM_CX3CR1int  2.147 2.111 1.565 2.295 1.749 2.012\n",
       "T_CD8_IFNresponse   2.223 1.045 1.710 1.996 0.762 1.944\n",
       "T_CD8_Mem_cytotoxic 2.429 2.144 1.950 2.894 2.601 3.540"
      ]
     },
     "metadata": {},
     "output_type": "display_data"
    }
   ],
   "source": [
    "heatmap_matrix <- as.matrix(heatmap_data[,-1])\n",
    "rownames(heatmap_matrix) <- heatmap_data$CellType_Level2\n",
    "heatmap_matrix"
   ]
  },
  {
   "cell_type": "code",
   "execution_count": 13,
   "id": "3cb1218a-d813-4bd7-a4a8-3c741d70cb7f",
   "metadata": {
    "execution": {
     "iopub.execute_input": "2024-07-10T08:09:05.545519Z",
     "iopub.status.busy": "2024-07-10T08:09:05.544514Z",
     "iopub.status.idle": "2024-07-10T08:09:05.566155Z",
     "shell.execute_reply": "2024-07-10T08:09:05.564985Z"
    }
   },
   "outputs": [
    {
     "data": {
      "text/html": [
       "<table class=\"dataframe\">\n",
       "<caption>A data.frame: 8 × 6</caption>\n",
       "<thead>\n",
       "\t<tr><th></th><th scope=col>CD</th><th scope=col>PS</th><th scope=col>PSA</th><th scope=col>RA</th><th scope=col>SLE</th><th scope=col>UC</th></tr>\n",
       "\t<tr><th></th><th scope=col>&lt;dbl&gt;</th><th scope=col>&lt;dbl&gt;</th><th scope=col>&lt;dbl&gt;</th><th scope=col>&lt;dbl&gt;</th><th scope=col>&lt;dbl&gt;</th><th scope=col>&lt;dbl&gt;</th></tr>\n",
       "</thead>\n",
       "<tbody>\n",
       "\t<tr><th scope=row>T_CD8_activated</th><td>1.666</td><td>0.867</td><td>1.637</td><td>1.903</td><td>1.700</td><td>2.573</td></tr>\n",
       "\t<tr><th scope=row>T_CD8_CM</th><td>0.928</td><td>0.308</td><td>0.772</td><td>1.215</td><td>0.883</td><td>1.263</td></tr>\n",
       "\t<tr><th scope=row>T_CD8_CM_stem</th><td>1.954</td><td>1.777</td><td>2.195</td><td>2.698</td><td>3.281</td><td>2.359</td></tr>\n",
       "\t<tr><th scope=row>T_CD8_eff_HOBIT</th><td>1.417</td><td>0.959</td><td>1.093</td><td>2.096</td><td>1.746</td><td>2.434</td></tr>\n",
       "\t<tr><th scope=row>T_CD8_EM_CX3CR1high</th><td>1.803</td><td>0.975</td><td>1.783</td><td>2.620</td><td>0.728</td><td>2.013</td></tr>\n",
       "\t<tr><th scope=row>T_CD8_EM_CX3CR1int</th><td>2.147</td><td>2.111</td><td>1.565</td><td>2.295</td><td>1.749</td><td>2.012</td></tr>\n",
       "\t<tr><th scope=row>T_CD8_IFNresponse</th><td>2.223</td><td>1.045</td><td>1.710</td><td>1.996</td><td>0.762</td><td>1.944</td></tr>\n",
       "\t<tr><th scope=row>T_CD8_Mem_cytotoxic</th><td>2.429</td><td>2.144</td><td>1.950</td><td>2.894</td><td>2.601</td><td>3.540</td></tr>\n",
       "</tbody>\n",
       "</table>\n"
      ],
      "text/latex": [
       "A data.frame: 8 × 6\n",
       "\\begin{tabular}{r|llllll}\n",
       "  & CD & PS & PSA & RA & SLE & UC\\\\\n",
       "  & <dbl> & <dbl> & <dbl> & <dbl> & <dbl> & <dbl>\\\\\n",
       "\\hline\n",
       "\tT\\_CD8\\_activated & 1.666 & 0.867 & 1.637 & 1.903 & 1.700 & 2.573\\\\\n",
       "\tT\\_CD8\\_CM & 0.928 & 0.308 & 0.772 & 1.215 & 0.883 & 1.263\\\\\n",
       "\tT\\_CD8\\_CM\\_stem & 1.954 & 1.777 & 2.195 & 2.698 & 3.281 & 2.359\\\\\n",
       "\tT\\_CD8\\_eff\\_HOBIT & 1.417 & 0.959 & 1.093 & 2.096 & 1.746 & 2.434\\\\\n",
       "\tT\\_CD8\\_EM\\_CX3CR1high & 1.803 & 0.975 & 1.783 & 2.620 & 0.728 & 2.013\\\\\n",
       "\tT\\_CD8\\_EM\\_CX3CR1int & 2.147 & 2.111 & 1.565 & 2.295 & 1.749 & 2.012\\\\\n",
       "\tT\\_CD8\\_IFNresponse & 2.223 & 1.045 & 1.710 & 1.996 & 0.762 & 1.944\\\\\n",
       "\tT\\_CD8\\_Mem\\_cytotoxic & 2.429 & 2.144 & 1.950 & 2.894 & 2.601 & 3.540\\\\\n",
       "\\end{tabular}\n"
      ],
      "text/markdown": [
       "\n",
       "A data.frame: 8 × 6\n",
       "\n",
       "| <!--/--> | CD &lt;dbl&gt; | PS &lt;dbl&gt; | PSA &lt;dbl&gt; | RA &lt;dbl&gt; | SLE &lt;dbl&gt; | UC &lt;dbl&gt; |\n",
       "|---|---|---|---|---|---|---|\n",
       "| T_CD8_activated | 1.666 | 0.867 | 1.637 | 1.903 | 1.700 | 2.573 |\n",
       "| T_CD8_CM | 0.928 | 0.308 | 0.772 | 1.215 | 0.883 | 1.263 |\n",
       "| T_CD8_CM_stem | 1.954 | 1.777 | 2.195 | 2.698 | 3.281 | 2.359 |\n",
       "| T_CD8_eff_HOBIT | 1.417 | 0.959 | 1.093 | 2.096 | 1.746 | 2.434 |\n",
       "| T_CD8_EM_CX3CR1high | 1.803 | 0.975 | 1.783 | 2.620 | 0.728 | 2.013 |\n",
       "| T_CD8_EM_CX3CR1int | 2.147 | 2.111 | 1.565 | 2.295 | 1.749 | 2.012 |\n",
       "| T_CD8_IFNresponse | 2.223 | 1.045 | 1.710 | 1.996 | 0.762 | 1.944 |\n",
       "| T_CD8_Mem_cytotoxic | 2.429 | 2.144 | 1.950 | 2.894 | 2.601 | 3.540 |\n",
       "\n"
      ],
      "text/plain": [
       "                    CD    PS    PSA   RA    SLE   UC   \n",
       "T_CD8_activated     1.666 0.867 1.637 1.903 1.700 2.573\n",
       "T_CD8_CM            0.928 0.308 0.772 1.215 0.883 1.263\n",
       "T_CD8_CM_stem       1.954 1.777 2.195 2.698 3.281 2.359\n",
       "T_CD8_eff_HOBIT     1.417 0.959 1.093 2.096 1.746 2.434\n",
       "T_CD8_EM_CX3CR1high 1.803 0.975 1.783 2.620 0.728 2.013\n",
       "T_CD8_EM_CX3CR1int  2.147 2.111 1.565 2.295 1.749 2.012\n",
       "T_CD8_IFNresponse   2.223 1.045 1.710 1.996 0.762 1.944\n",
       "T_CD8_Mem_cytotoxic 2.429 2.144 1.950 2.894 2.601 3.540"
      ]
     },
     "metadata": {},
     "output_type": "display_data"
    }
   ],
   "source": [
    "heatmap_df <- as.data.frame(heatmap_matrix)\n",
    "rownames(heatmap_df) <- heatmap_data$CellType_Level2\n",
    "colnames(heatmap_df) <- colnames(heatmap_data)[2:length(colnames(heatmap_data))]\n",
    "heatmap_df"
   ]
  },
  {
   "cell_type": "markdown",
   "id": "37ac86e2-1eb8-4dee-8003-33f83f292ffc",
   "metadata": {},
   "source": [
    "**Disease order**"
   ]
  },
  {
   "cell_type": "code",
   "execution_count": 14,
   "id": "fa6499d7-85cf-4fd9-9418-43cbe0a72264",
   "metadata": {
    "execution": {
     "iopub.execute_input": "2024-07-10T08:09:05.991883Z",
     "iopub.status.busy": "2024-07-10T08:09:05.990940Z",
     "iopub.status.idle": "2024-07-10T08:09:05.998907Z",
     "shell.execute_reply": "2024-07-10T08:09:05.997704Z"
    }
   },
   "outputs": [],
   "source": [
    "disease_order = c(\n",
    "  'RA','PS', 'PSA', 'CD','UC','SLE'\n",
    ")"
   ]
  },
  {
   "cell_type": "markdown",
   "id": "d6d09d5d-efe2-40cc-9fa8-2513b6328faf",
   "metadata": {},
   "source": [
    "**Celltype order**"
   ]
  },
  {
   "cell_type": "code",
   "execution_count": 15,
   "id": "cf93cdde-2f34-48bd-b1fe-6aa2b451bc61",
   "metadata": {
    "execution": {
     "iopub.execute_input": "2024-07-10T08:09:06.401923Z",
     "iopub.status.busy": "2024-07-10T08:09:06.400951Z",
     "iopub.status.idle": "2024-07-10T08:09:06.408808Z",
     "shell.execute_reply": "2024-07-10T08:09:06.407639Z"
    }
   },
   "outputs": [],
   "source": [
    "heatmap_celltypes_order= c(\"T_CD8_CM\", \"T_CD8_CM_stem\", \"T_CD8_EM_CX3CR1high\", \"T_CD8_EM_CX3CR1int\", \"T_CD8_eff_HOBIT\", \"T_CD8_IFNresponse\", \"T_CD8_Mem_cytotoxic\", \"T_CD8_activated\") # , \"T_CD8_arrested\""
   ]
  },
  {
   "cell_type": "markdown",
   "id": "f5a2f8e3-f724-4d4f-bc3d-31e3a08a0d27",
   "metadata": {},
   "source": [
    "## Color Annotations"
   ]
  },
  {
   "cell_type": "code",
   "execution_count": 16,
   "id": "ef85182c-9fd8-4aa9-b88f-9e1623873a84",
   "metadata": {
    "execution": {
     "iopub.execute_input": "2024-07-10T08:09:06.850093Z",
     "iopub.status.busy": "2024-07-10T08:09:06.849113Z",
     "iopub.status.idle": "2024-07-10T08:09:06.872545Z",
     "shell.execute_reply": "2024-07-10T08:09:06.871361Z"
    }
   },
   "outputs": [
    {
     "data": {
      "text/html": [
       "<table class=\"dataframe\">\n",
       "<caption>A data.frame: 6 × 2</caption>\n",
       "<thead>\n",
       "\t<tr><th></th><th scope=col>diseaseGroup</th><th scope=col>Disease</th></tr>\n",
       "\t<tr><th></th><th scope=col>&lt;fct&gt;</th><th scope=col>&lt;chr&gt;</th></tr>\n",
       "</thead>\n",
       "<tbody>\n",
       "\t<tr><th scope=row>RA</th><td>IMIDs</td><td>RA </td></tr>\n",
       "\t<tr><th scope=row>PS</th><td>IMIDs</td><td>PS </td></tr>\n",
       "\t<tr><th scope=row>PSA</th><td>IMIDs</td><td>PSA</td></tr>\n",
       "\t<tr><th scope=row>CD</th><td>IMIDs</td><td>CD </td></tr>\n",
       "\t<tr><th scope=row>UC</th><td>IMIDs</td><td>UC </td></tr>\n",
       "\t<tr><th scope=row>SLE</th><td>IMIDs</td><td>SLE</td></tr>\n",
       "</tbody>\n",
       "</table>\n"
      ],
      "text/latex": [
       "A data.frame: 6 × 2\n",
       "\\begin{tabular}{r|ll}\n",
       "  & diseaseGroup & Disease\\\\\n",
       "  & <fct> & <chr>\\\\\n",
       "\\hline\n",
       "\tRA & IMIDs & RA \\\\\n",
       "\tPS & IMIDs & PS \\\\\n",
       "\tPSA & IMIDs & PSA\\\\\n",
       "\tCD & IMIDs & CD \\\\\n",
       "\tUC & IMIDs & UC \\\\\n",
       "\tSLE & IMIDs & SLE\\\\\n",
       "\\end{tabular}\n"
      ],
      "text/markdown": [
       "\n",
       "A data.frame: 6 × 2\n",
       "\n",
       "| <!--/--> | diseaseGroup &lt;fct&gt; | Disease &lt;chr&gt; |\n",
       "|---|---|---|\n",
       "| RA | IMIDs | RA  |\n",
       "| PS | IMIDs | PS  |\n",
       "| PSA | IMIDs | PSA |\n",
       "| CD | IMIDs | CD  |\n",
       "| UC | IMIDs | UC  |\n",
       "| SLE | IMIDs | SLE |\n",
       "\n"
      ],
      "text/plain": [
       "    diseaseGroup Disease\n",
       "RA  IMIDs        RA     \n",
       "PS  IMIDs        PS     \n",
       "PSA IMIDs        PSA    \n",
       "CD  IMIDs        CD     \n",
       "UC  IMIDs        UC     \n",
       "SLE IMIDs        SLE    "
      ]
     },
     "metadata": {},
     "output_type": "display_data"
    }
   ],
   "source": [
    "# Prepare annotations\n",
    "# Column annotations\n",
    "col_annotations <- metadata %>%\n",
    "  mutate(diseaseGroup = as.factor(diseaseGroup))\n",
    "col_annotations <- col_annotations[match(disease_order, col_annotations$disease), ]\n",
    "rownames(col_annotations) <- NULL\n",
    "order_col <- col_annotations$disease\n",
    "col_annotations$Disease <- col_annotations$disease\n",
    "col_annotations <- col_annotations %>% \n",
    "  tibble::column_to_rownames(\"disease\")\n",
    "col_annotations"
   ]
  },
  {
   "cell_type": "code",
   "execution_count": 17,
   "id": "ba72e712-a5f7-4773-a157-ab27ff6eaee0",
   "metadata": {
    "execution": {
     "iopub.execute_input": "2024-07-10T08:09:07.083142Z",
     "iopub.status.busy": "2024-07-10T08:09:07.082202Z",
     "iopub.status.idle": "2024-07-10T08:09:07.102950Z",
     "shell.execute_reply": "2024-07-10T08:09:07.101772Z"
    }
   },
   "outputs": [
    {
     "data": {
      "text/html": [
       "<table class=\"dataframe\">\n",
       "<caption>A data.frame: 8 × 1</caption>\n",
       "<thead>\n",
       "\t<tr><th></th><th scope=col>CellType</th></tr>\n",
       "\t<tr><th></th><th scope=col>&lt;chr&gt;</th></tr>\n",
       "</thead>\n",
       "<tbody>\n",
       "\t<tr><th scope=row>T_CD8_CM</th><td>T_CD8_CM           </td></tr>\n",
       "\t<tr><th scope=row>T_CD8_CM_stem</th><td>T_CD8_CM_stem      </td></tr>\n",
       "\t<tr><th scope=row>T_CD8_EM_CX3CR1high</th><td>T_CD8_EM_CX3CR1high</td></tr>\n",
       "\t<tr><th scope=row>T_CD8_EM_CX3CR1int</th><td>T_CD8_EM_CX3CR1int </td></tr>\n",
       "\t<tr><th scope=row>T_CD8_IFNresponse</th><td>T_CD8_IFNresponse  </td></tr>\n",
       "\t<tr><th scope=row>T_CD8_Mem_cytotoxic</th><td>T_CD8_Mem_cytotoxic</td></tr>\n",
       "\t<tr><th scope=row>T_CD8_activated</th><td>T_CD8_activated    </td></tr>\n",
       "\t<tr><th scope=row>T_CD8_eff_HOBIT</th><td>T_CD8_eff_HOBIT    </td></tr>\n",
       "</tbody>\n",
       "</table>\n"
      ],
      "text/latex": [
       "A data.frame: 8 × 1\n",
       "\\begin{tabular}{r|l}\n",
       "  & CellType\\\\\n",
       "  & <chr>\\\\\n",
       "\\hline\n",
       "\tT\\_CD8\\_CM & T\\_CD8\\_CM           \\\\\n",
       "\tT\\_CD8\\_CM\\_stem & T\\_CD8\\_CM\\_stem      \\\\\n",
       "\tT\\_CD8\\_EM\\_CX3CR1high & T\\_CD8\\_EM\\_CX3CR1high\\\\\n",
       "\tT\\_CD8\\_EM\\_CX3CR1int & T\\_CD8\\_EM\\_CX3CR1int \\\\\n",
       "\tT\\_CD8\\_IFNresponse & T\\_CD8\\_IFNresponse  \\\\\n",
       "\tT\\_CD8\\_Mem\\_cytotoxic & T\\_CD8\\_Mem\\_cytotoxic\\\\\n",
       "\tT\\_CD8\\_activated & T\\_CD8\\_activated    \\\\\n",
       "\tT\\_CD8\\_eff\\_HOBIT & T\\_CD8\\_eff\\_HOBIT    \\\\\n",
       "\\end{tabular}\n"
      ],
      "text/markdown": [
       "\n",
       "A data.frame: 8 × 1\n",
       "\n",
       "| <!--/--> | CellType &lt;chr&gt; |\n",
       "|---|---|\n",
       "| T_CD8_CM | T_CD8_CM            |\n",
       "| T_CD8_CM_stem | T_CD8_CM_stem       |\n",
       "| T_CD8_EM_CX3CR1high | T_CD8_EM_CX3CR1high |\n",
       "| T_CD8_EM_CX3CR1int | T_CD8_EM_CX3CR1int  |\n",
       "| T_CD8_IFNresponse | T_CD8_IFNresponse   |\n",
       "| T_CD8_Mem_cytotoxic | T_CD8_Mem_cytotoxic |\n",
       "| T_CD8_activated | T_CD8_activated     |\n",
       "| T_CD8_eff_HOBIT | T_CD8_eff_HOBIT     |\n",
       "\n"
      ],
      "text/plain": [
       "                    CellType           \n",
       "T_CD8_CM            T_CD8_CM           \n",
       "T_CD8_CM_stem       T_CD8_CM_stem      \n",
       "T_CD8_EM_CX3CR1high T_CD8_EM_CX3CR1high\n",
       "T_CD8_EM_CX3CR1int  T_CD8_EM_CX3CR1int \n",
       "T_CD8_IFNresponse   T_CD8_IFNresponse  \n",
       "T_CD8_Mem_cytotoxic T_CD8_Mem_cytotoxic\n",
       "T_CD8_activated     T_CD8_activated    \n",
       "T_CD8_eff_HOBIT     T_CD8_eff_HOBIT    "
      ]
     },
     "metadata": {},
     "output_type": "display_data"
    }
   ],
   "source": [
    "row_annotations <- filtered_data  %>% select(CellType_Level2) %>% distinct()\n",
    "row_annotations$CellType <- row_annotations$CellType_Level2\n",
    "row_annotations <- row_annotations %>% \n",
    "  tibble::column_to_rownames(\"CellType_Level2\")\n",
    "row_annotations"
   ]
  },
  {
   "cell_type": "markdown",
   "id": "67288047-bf7c-49f7-9192-cda41d6a1e7f",
   "metadata": {},
   "source": [
    "### Define Palettes"
   ]
  },
  {
   "cell_type": "markdown",
   "id": "c926d798-8d24-4e2a-a5a9-68c2fabc563e",
   "metadata": {},
   "source": [
    "**Celltypes**"
   ]
  },
  {
   "cell_type": "code",
   "execution_count": 18,
   "id": "7aca44f0-8b58-4939-b842-283c93b5d9fc",
   "metadata": {
    "execution": {
     "iopub.execute_input": "2024-07-10T08:09:07.768239Z",
     "iopub.status.busy": "2024-07-10T08:09:07.767158Z",
     "iopub.status.idle": "2024-07-10T08:09:07.781117Z",
     "shell.execute_reply": "2024-07-10T08:09:07.779843Z"
    }
   },
   "outputs": [],
   "source": [
    "annotation_Level2_palette <- list(\n",
    "    'T_CD8_Naive' = \"#0FFFFF\",\n",
    "    'T_CD8_CM' = \"#29AB87\",\n",
    "    'T_CD8_CM_stem' = \"#20B2AA\",\n",
    "    'T_CD8_EM_CX3CR1high' = \"#99FFFF\",\n",
    "    'T_CD8_EM_CX3CR1int' = \"#81D8D0\",\n",
    "    'T_CD8_eff_HOBIT' = \"#007A74\",\n",
    "    'T_CD8_IFNresponse' = \"#3EB489\", \n",
    "    'T_CD8_Mem_cytotoxic' = \"#37a17b\",\n",
    "    'T_CD8_activated' = \"#5ec7a1\",\n",
    "    'T_CD8_arrested' =\"#5ec76d\"\n",
    ")\n",
    "celltype_names <- names(annotation_Level2_palette)\n",
    "l2_palette <- unlist(annotation_Level2_palette)"
   ]
  },
  {
   "cell_type": "markdown",
   "id": "65fc6cb1-c88b-4dea-b02b-1f0d2a9a3560",
   "metadata": {},
   "source": [
    "**Diseases**"
   ]
  },
  {
   "cell_type": "code",
   "execution_count": 19,
   "id": "b46b7e2d-d186-4cb1-9373-c3a344cf27ba",
   "metadata": {
    "execution": {
     "iopub.execute_input": "2024-07-10T08:09:08.732425Z",
     "iopub.status.busy": "2024-07-10T08:09:08.731326Z",
     "iopub.status.idle": "2024-07-10T08:09:08.742635Z",
     "shell.execute_reply": "2024-07-10T08:09:08.741420Z"
    }
   },
   "outputs": [],
   "source": [
    "# Create the named list\n",
    "diseases_palette <- list(  \n",
    "  'RA' = '#264653',\n",
    "  'PS' = '#287271',\n",
    "  'PSA' = '#2a9d8f',\n",
    "  'CD' = '#e76f51',\n",
    "  'UC' = '#e9c46a',\n",
    "  'SLE' = '#941c2f'\n",
    ")\n",
    "\n",
    "# Generate vectors for keys and values\n",
    "diseases <- names(diseases_palette)\n",
    "disease_palette <- unlist(diseases_palette)"
   ]
  },
  {
   "cell_type": "markdown",
   "id": "8ca6af11-7140-4a11-a2f2-159c4ba9f00b",
   "metadata": {},
   "source": [
    "**Generate breaks for scale**"
   ]
  },
  {
   "cell_type": "markdown",
   "id": "3e6d2f65-7d0a-424c-8bf8-4b61bf08c5ec",
   "metadata": {},
   "source": [
    "**Define scale palette**"
   ]
  },
  {
   "cell_type": "code",
   "execution_count": 20,
   "id": "2baf58c8-dc21-4ca5-88a6-3b4283868495",
   "metadata": {
    "execution": {
     "iopub.execute_input": "2024-07-10T08:09:10.270158Z",
     "iopub.status.busy": "2024-07-10T08:09:10.269037Z",
     "iopub.status.idle": "2024-07-10T08:09:10.277665Z",
     "shell.execute_reply": "2024-07-10T08:09:10.276484Z"
    }
   },
   "outputs": [],
   "source": [
    "clipValues <- function(v, minV, maxV) {\n",
    "    if (is.na(v)) {\n",
    "        return(v)\n",
    "    } else if (v >= 0) {\n",
    "        return(min(v, maxV))\n",
    "    } else if (v < 0) {\n",
    "        return(max(v, minV))\n",
    "    } \n",
    "}"
   ]
  },
  {
   "cell_type": "code",
   "execution_count": 21,
   "id": "bbb3e5d9-f10c-482f-9a8e-0fc963da5cef",
   "metadata": {
    "execution": {
     "iopub.execute_input": "2024-07-10T08:09:10.614113Z",
     "iopub.status.busy": "2024-07-10T08:09:10.613139Z",
     "iopub.status.idle": "2024-07-10T08:09:10.653428Z",
     "shell.execute_reply": "2024-07-10T08:09:10.652198Z"
    }
   },
   "outputs": [],
   "source": [
    "# COLOR PALETTE\n",
    "\n",
    "# Manual definition\n",
    "# clrP <- colorRampPalette(c(\"#ffffc1\", \"#6b001d\"))(100)\n",
    "# clrN <- colorRampPalette(c(\"#0a2258\", \"#f5faff\"))(100)\n",
    "\n",
    "# Predefined color palette\n",
    "clrP <- colorRampPalette(brewer.pal(n = 9, name = \"YlOrRd\"))(100)\n",
    "clrN <- colorRampPalette(rev(brewer.pal(n = 9, name = \"Blues\")))(100)\n",
    "\n",
    "clr <- c(clrN, clrP)"
   ]
  },
  {
   "cell_type": "code",
   "execution_count": 22,
   "id": "6bcd5a37-9178-4f45-b9ed-11674574e3b3",
   "metadata": {
    "execution": {
     "iopub.execute_input": "2024-07-10T08:09:10.944451Z",
     "iopub.status.busy": "2024-07-10T08:09:10.939816Z",
     "iopub.status.idle": "2024-07-10T08:09:10.954943Z",
     "shell.execute_reply": "2024-07-10T08:09:10.953673Z"
    }
   },
   "outputs": [],
   "source": [
    "# VALUE RANGES (those values are passed to clipValues function)\n",
    "\n",
    "# NO CONSTRAINTS\n",
    "# max_value = max(heatmap_df, na.rm = T)\n",
    "# min_value = min(heatmap_df, na.rm = T)\n",
    "\n",
    "# CLIPPEND WITH QUANTILE\n",
    "max_value = quantile(heatmap_df[heatmap_df >= 0], na.rm = T, probs = .99)\n",
    "min_value = quantile(heatmap_df[heatmap_df < 0], na.rm = T, probs = .01)"
   ]
  },
  {
   "cell_type": "markdown",
   "id": "59f08307-0b75-45f3-90d6-46bd76328563",
   "metadata": {},
   "source": [
    "**Define annotation palette**"
   ]
  },
  {
   "cell_type": "code",
   "execution_count": 23,
   "id": "1fb158d6-3a82-4d20-ba57-a2cdd270b5cc",
   "metadata": {
    "execution": {
     "iopub.execute_input": "2024-07-10T08:09:11.589073Z",
     "iopub.status.busy": "2024-07-10T08:09:11.587968Z",
     "iopub.status.idle": "2024-07-10T08:09:11.601803Z",
     "shell.execute_reply": "2024-07-10T08:09:11.600574Z"
    }
   },
   "outputs": [],
   "source": [
    "# Disease\n",
    "subset_diseases <- intersect(diseases, col_annotations$Disease)\n",
    "disease_colors <- disease_palette[subset_diseases]\n",
    "# Celltype\n",
    "subset_celltype <- intersect(celltype_names, row_annotations$CellType)\n",
    "cell_type_colors <- l2_palette[subset_celltype]\n",
    "\n",
    "# Create the annotation colors list\n",
    "my_colour_annot <- list(\n",
    "  disease = setNames(disease_colors, subset_diseases),\n",
    "  CellType = setNames(cell_type_colors, subset_celltype)\n",
    ")"
   ]
  },
  {
   "cell_type": "code",
   "execution_count": 24,
   "id": "284eeb80-9cd6-41de-9b43-e0624e7c3a94",
   "metadata": {
    "execution": {
     "iopub.execute_input": "2024-07-10T08:09:11.949340Z",
     "iopub.status.busy": "2024-07-10T08:09:11.948256Z",
     "iopub.status.idle": "2024-07-10T08:09:11.960478Z",
     "shell.execute_reply": "2024-07-10T08:09:11.959312Z"
    }
   },
   "outputs": [
    {
     "data": {
      "text/html": [
       "<dl>\n",
       "\t<dt>$disease</dt>\n",
       "\t\t<dd><style>\n",
       ".dl-inline {width: auto; margin:0; padding: 0}\n",
       ".dl-inline>dt, .dl-inline>dd {float: none; width: auto; display: inline-block}\n",
       ".dl-inline>dt::after {content: \":\\0020\"; padding-right: .5ex}\n",
       ".dl-inline>dt:not(:first-of-type) {padding-left: .5ex}\n",
       "</style><dl class=dl-inline><dt>RA</dt><dd>'#264653'</dd><dt>PS</dt><dd>'#287271'</dd><dt>PSA</dt><dd>'#2a9d8f'</dd><dt>CD</dt><dd>'#e76f51'</dd><dt>UC</dt><dd>'#e9c46a'</dd><dt>SLE</dt><dd>'#941c2f'</dd></dl>\n",
       "</dd>\n",
       "\t<dt>$CellType</dt>\n",
       "\t\t<dd><style>\n",
       ".dl-inline {width: auto; margin:0; padding: 0}\n",
       ".dl-inline>dt, .dl-inline>dd {float: none; width: auto; display: inline-block}\n",
       ".dl-inline>dt::after {content: \":\\0020\"; padding-right: .5ex}\n",
       ".dl-inline>dt:not(:first-of-type) {padding-left: .5ex}\n",
       "</style><dl class=dl-inline><dt>T_CD8_CM</dt><dd>'#29AB87'</dd><dt>T_CD8_CM_stem</dt><dd>'#20B2AA'</dd><dt>T_CD8_EM_CX3CR1high</dt><dd>'#99FFFF'</dd><dt>T_CD8_EM_CX3CR1int</dt><dd>'#81D8D0'</dd><dt>T_CD8_eff_HOBIT</dt><dd>'#007A74'</dd><dt>T_CD8_IFNresponse</dt><dd>'#3EB489'</dd><dt>T_CD8_Mem_cytotoxic</dt><dd>'#37a17b'</dd><dt>T_CD8_activated</dt><dd>'#5ec7a1'</dd></dl>\n",
       "</dd>\n",
       "</dl>\n"
      ],
      "text/latex": [
       "\\begin{description}\n",
       "\\item[\\$disease] \\begin{description*}\n",
       "\\item[RA] '\\#264653'\n",
       "\\item[PS] '\\#287271'\n",
       "\\item[PSA] '\\#2a9d8f'\n",
       "\\item[CD] '\\#e76f51'\n",
       "\\item[UC] '\\#e9c46a'\n",
       "\\item[SLE] '\\#941c2f'\n",
       "\\end{description*}\n",
       "\n",
       "\\item[\\$CellType] \\begin{description*}\n",
       "\\item[T\\textbackslash{}\\_CD8\\textbackslash{}\\_CM] '\\#29AB87'\n",
       "\\item[T\\textbackslash{}\\_CD8\\textbackslash{}\\_CM\\textbackslash{}\\_stem] '\\#20B2AA'\n",
       "\\item[T\\textbackslash{}\\_CD8\\textbackslash{}\\_EM\\textbackslash{}\\_CX3CR1high] '\\#99FFFF'\n",
       "\\item[T\\textbackslash{}\\_CD8\\textbackslash{}\\_EM\\textbackslash{}\\_CX3CR1int] '\\#81D8D0'\n",
       "\\item[T\\textbackslash{}\\_CD8\\textbackslash{}\\_eff\\textbackslash{}\\_HOBIT] '\\#007A74'\n",
       "\\item[T\\textbackslash{}\\_CD8\\textbackslash{}\\_IFNresponse] '\\#3EB489'\n",
       "\\item[T\\textbackslash{}\\_CD8\\textbackslash{}\\_Mem\\textbackslash{}\\_cytotoxic] '\\#37a17b'\n",
       "\\item[T\\textbackslash{}\\_CD8\\textbackslash{}\\_activated] '\\#5ec7a1'\n",
       "\\end{description*}\n",
       "\n",
       "\\end{description}\n"
      ],
      "text/markdown": [
       "$disease\n",
       ":   RA\n",
       ":   '#264653'PS\n",
       ":   '#287271'PSA\n",
       ":   '#2a9d8f'CD\n",
       ":   '#e76f51'UC\n",
       ":   '#e9c46a'SLE\n",
       ":   '#941c2f'\n",
       "\n",
       "\n",
       "$CellType\n",
       ":   T_CD8_CM\n",
       ":   '#29AB87'T_CD8_CM_stem\n",
       ":   '#20B2AA'T_CD8_EM_CX3CR1high\n",
       ":   '#99FFFF'T_CD8_EM_CX3CR1int\n",
       ":   '#81D8D0'T_CD8_eff_HOBIT\n",
       ":   '#007A74'T_CD8_IFNresponse\n",
       ":   '#3EB489'T_CD8_Mem_cytotoxic\n",
       ":   '#37a17b'T_CD8_activated\n",
       ":   '#5ec7a1'\n",
       "\n",
       "\n",
       "\n",
       "\n"
      ],
      "text/plain": [
       "$disease\n",
       "       RA        PS       PSA        CD        UC       SLE \n",
       "\"#264653\" \"#287271\" \"#2a9d8f\" \"#e76f51\" \"#e9c46a\" \"#941c2f\" \n",
       "\n",
       "$CellType\n",
       "           T_CD8_CM       T_CD8_CM_stem T_CD8_EM_CX3CR1high  T_CD8_EM_CX3CR1int \n",
       "          \"#29AB87\"           \"#20B2AA\"           \"#99FFFF\"           \"#81D8D0\" \n",
       "    T_CD8_eff_HOBIT   T_CD8_IFNresponse T_CD8_Mem_cytotoxic     T_CD8_activated \n",
       "          \"#007A74\"           \"#3EB489\"           \"#37a17b\"           \"#5ec7a1\" \n"
      ]
     },
     "metadata": {},
     "output_type": "display_data"
    }
   ],
   "source": [
    "my_colour_annot"
   ]
  },
  {
   "cell_type": "markdown",
   "id": "35064fa2-9a2c-4f5d-a50d-02492b9a3aa9",
   "metadata": {},
   "source": [
    "## Generate Heatmap"
   ]
  },
  {
   "cell_type": "code",
   "execution_count": 25,
   "id": "024ea4ee-22f0-4ecc-bab4-8a1fc797ae59",
   "metadata": {
    "execution": {
     "iopub.execute_input": "2024-07-10T08:09:12.648477Z",
     "iopub.status.busy": "2024-07-10T08:09:12.647531Z",
     "iopub.status.idle": "2024-07-10T08:09:12.660979Z",
     "shell.execute_reply": "2024-07-10T08:09:12.659771Z"
    }
   },
   "outputs": [
    {
     "data": {
      "text/html": [
       "8"
      ],
      "text/latex": [
       "8"
      ],
      "text/markdown": [
       "8"
      ],
      "text/plain": [
       "[1] 8"
      ]
     },
     "metadata": {},
     "output_type": "display_data"
    }
   ],
   "source": [
    "length(row_annotations$CellType)"
   ]
  },
  {
   "cell_type": "code",
   "execution_count": 26,
   "id": "e9fe2666-308b-4fdb-ac4d-26ca4c26bbd5",
   "metadata": {
    "execution": {
     "iopub.execute_input": "2024-07-10T08:09:12.920797Z",
     "iopub.status.busy": "2024-07-10T08:09:12.919700Z",
     "iopub.status.idle": "2024-07-10T08:09:12.930130Z",
     "shell.execute_reply": "2024-07-10T08:09:12.928934Z"
    }
   },
   "outputs": [
    {
     "data": {
      "text/html": [
       "6"
      ],
      "text/latex": [
       "6"
      ],
      "text/markdown": [
       "6"
      ],
      "text/plain": [
       "[1] 6"
      ]
     },
     "metadata": {},
     "output_type": "display_data"
    }
   ],
   "source": [
    "length(col_annotations$Disease)"
   ]
  },
  {
   "cell_type": "code",
   "execution_count": 27,
   "id": "76f1013a-097e-40ab-91fc-48b69e227b97",
   "metadata": {
    "execution": {
     "iopub.execute_input": "2024-07-10T08:09:13.191919Z",
     "iopub.status.busy": "2024-07-10T08:09:13.190972Z",
     "iopub.status.idle": "2024-07-10T08:09:13.201976Z",
     "shell.execute_reply": "2024-07-10T08:09:13.200856Z"
    }
   },
   "outputs": [
    {
     "name": "stdout",
     "output_type": "stream",
     "text": [
      "[1] 6\n",
      "[1] 8\n"
     ]
    }
   ],
   "source": [
    "print(ncol(heatmap_matrix))\n",
    "print(nrow(heatmap_matrix))"
   ]
  },
  {
   "cell_type": "code",
   "execution_count": 28,
   "id": "3de2d8ea-251d-449d-9d8d-6d219257de74",
   "metadata": {
    "execution": {
     "iopub.execute_input": "2024-07-10T08:09:13.417400Z",
     "iopub.status.busy": "2024-07-10T08:09:13.416454Z",
     "iopub.status.idle": "2024-07-10T08:09:13.426355Z",
     "shell.execute_reply": "2024-07-10T08:09:13.425227Z"
    }
   },
   "outputs": [
    {
     "data": {
      "text/html": [
       "TRUE"
      ],
      "text/latex": [
       "TRUE"
      ],
      "text/markdown": [
       "TRUE"
      ],
      "text/plain": [
       "[1] TRUE"
      ]
     },
     "metadata": {},
     "output_type": "display_data"
    }
   ],
   "source": [
    "all(rownames(heatmap_df) %in% heatmap_celltypes_order)"
   ]
  },
  {
   "cell_type": "code",
   "execution_count": 29,
   "id": "9fdf6914-d133-4fe5-a4b6-c2325c21b963",
   "metadata": {
    "execution": {
     "iopub.execute_input": "2024-07-10T08:09:13.655290Z",
     "iopub.status.busy": "2024-07-10T08:09:13.654376Z",
     "iopub.status.idle": "2024-07-10T08:09:13.687953Z",
     "shell.execute_reply": "2024-07-10T08:09:13.686821Z"
    }
   },
   "outputs": [
    {
     "data": {
      "text/html": [
       "TRUE"
      ],
      "text/latex": [
       "TRUE"
      ],
      "text/markdown": [
       "TRUE"
      ],
      "text/plain": [
       "[1] TRUE"
      ]
     },
     "metadata": {},
     "output_type": "display_data"
    }
   ],
   "source": [
    "all(colnames(heatmap_df) %in% disease_order)"
   ]
  },
  {
   "cell_type": "code",
   "execution_count": 30,
   "id": "2e106df7-5f1b-4cc0-a4bc-43a705b075cd",
   "metadata": {
    "execution": {
     "iopub.execute_input": "2024-07-10T08:09:13.909197Z",
     "iopub.status.busy": "2024-07-10T08:09:13.908270Z",
     "iopub.status.idle": "2024-07-10T08:09:13.918201Z",
     "shell.execute_reply": "2024-07-10T08:09:13.917037Z"
    }
   },
   "outputs": [
    {
     "data": {
      "text/html": [
       "<style>\n",
       ".list-inline {list-style: none; margin:0; padding: 0}\n",
       ".list-inline>li {display: inline-block}\n",
       ".list-inline>li:not(:last-child)::after {content: \"\\00b7\"; padding: 0 .5ex}\n",
       "</style>\n",
       "<ol class=list-inline><li>'T_CD8_CM'</li><li>'T_CD8_CM_stem'</li><li>'T_CD8_EM_CX3CR1high'</li><li>'T_CD8_EM_CX3CR1int'</li><li>'T_CD8_eff_HOBIT'</li><li>'T_CD8_IFNresponse'</li><li>'T_CD8_Mem_cytotoxic'</li><li>'T_CD8_activated'</li></ol>\n"
      ],
      "text/latex": [
       "\\begin{enumerate*}\n",
       "\\item 'T\\_CD8\\_CM'\n",
       "\\item 'T\\_CD8\\_CM\\_stem'\n",
       "\\item 'T\\_CD8\\_EM\\_CX3CR1high'\n",
       "\\item 'T\\_CD8\\_EM\\_CX3CR1int'\n",
       "\\item 'T\\_CD8\\_eff\\_HOBIT'\n",
       "\\item 'T\\_CD8\\_IFNresponse'\n",
       "\\item 'T\\_CD8\\_Mem\\_cytotoxic'\n",
       "\\item 'T\\_CD8\\_activated'\n",
       "\\end{enumerate*}\n"
      ],
      "text/markdown": [
       "1. 'T_CD8_CM'\n",
       "2. 'T_CD8_CM_stem'\n",
       "3. 'T_CD8_EM_CX3CR1high'\n",
       "4. 'T_CD8_EM_CX3CR1int'\n",
       "5. 'T_CD8_eff_HOBIT'\n",
       "6. 'T_CD8_IFNresponse'\n",
       "7. 'T_CD8_Mem_cytotoxic'\n",
       "8. 'T_CD8_activated'\n",
       "\n",
       "\n"
      ],
      "text/plain": [
       "[1] \"T_CD8_CM\"            \"T_CD8_CM_stem\"       \"T_CD8_EM_CX3CR1high\"\n",
       "[4] \"T_CD8_EM_CX3CR1int\"  \"T_CD8_eff_HOBIT\"     \"T_CD8_IFNresponse\"  \n",
       "[7] \"T_CD8_Mem_cytotoxic\" \"T_CD8_activated\"    "
      ]
     },
     "metadata": {},
     "output_type": "display_data"
    }
   ],
   "source": [
    "heatmap_celltypes_order"
   ]
  },
  {
   "cell_type": "code",
   "execution_count": 31,
   "id": "934b551b-f1a4-4757-af42-7287d16c1807",
   "metadata": {
    "execution": {
     "iopub.execute_input": "2024-07-10T08:09:14.119718Z",
     "iopub.status.busy": "2024-07-10T08:09:14.118757Z",
     "iopub.status.idle": "2024-07-10T08:09:14.132203Z",
     "shell.execute_reply": "2024-07-10T08:09:14.130992Z"
    }
   },
   "outputs": [],
   "source": [
    "heatmap_df = heatmap_df[heatmap_celltypes_order, disease_order]\n",
    "ordered_row_annotations <- row_annotations %>%\n",
    "  mutate(CellType = factor(CellType, levels = heatmap_celltypes_order)) %>%\n",
    "  arrange(CellType)"
   ]
  },
  {
   "cell_type": "code",
   "execution_count": 32,
   "id": "f1c17b93-c915-4279-b6b7-1b44a521b66f",
   "metadata": {
    "execution": {
     "iopub.execute_input": "2024-07-10T08:09:14.352713Z",
     "iopub.status.busy": "2024-07-10T08:09:14.351751Z",
     "iopub.status.idle": "2024-07-10T08:09:14.370164Z",
     "shell.execute_reply": "2024-07-10T08:09:14.368958Z"
    }
   },
   "outputs": [
    {
     "data": {
      "text/html": [
       "<table class=\"dataframe\">\n",
       "<caption>A data.frame: 8 × 1</caption>\n",
       "<thead>\n",
       "\t<tr><th></th><th scope=col>CellType</th></tr>\n",
       "\t<tr><th></th><th scope=col>&lt;fct&gt;</th></tr>\n",
       "</thead>\n",
       "<tbody>\n",
       "\t<tr><th scope=row>T_CD8_CM</th><td>T_CD8_CM           </td></tr>\n",
       "\t<tr><th scope=row>T_CD8_CM_stem</th><td>T_CD8_CM_stem      </td></tr>\n",
       "\t<tr><th scope=row>T_CD8_EM_CX3CR1high</th><td>T_CD8_EM_CX3CR1high</td></tr>\n",
       "\t<tr><th scope=row>T_CD8_EM_CX3CR1int</th><td>T_CD8_EM_CX3CR1int </td></tr>\n",
       "\t<tr><th scope=row>T_CD8_eff_HOBIT</th><td>T_CD8_eff_HOBIT    </td></tr>\n",
       "\t<tr><th scope=row>T_CD8_IFNresponse</th><td>T_CD8_IFNresponse  </td></tr>\n",
       "\t<tr><th scope=row>T_CD8_Mem_cytotoxic</th><td>T_CD8_Mem_cytotoxic</td></tr>\n",
       "\t<tr><th scope=row>T_CD8_activated</th><td>T_CD8_activated    </td></tr>\n",
       "</tbody>\n",
       "</table>\n"
      ],
      "text/latex": [
       "A data.frame: 8 × 1\n",
       "\\begin{tabular}{r|l}\n",
       "  & CellType\\\\\n",
       "  & <fct>\\\\\n",
       "\\hline\n",
       "\tT\\_CD8\\_CM & T\\_CD8\\_CM           \\\\\n",
       "\tT\\_CD8\\_CM\\_stem & T\\_CD8\\_CM\\_stem      \\\\\n",
       "\tT\\_CD8\\_EM\\_CX3CR1high & T\\_CD8\\_EM\\_CX3CR1high\\\\\n",
       "\tT\\_CD8\\_EM\\_CX3CR1int & T\\_CD8\\_EM\\_CX3CR1int \\\\\n",
       "\tT\\_CD8\\_eff\\_HOBIT & T\\_CD8\\_eff\\_HOBIT    \\\\\n",
       "\tT\\_CD8\\_IFNresponse & T\\_CD8\\_IFNresponse  \\\\\n",
       "\tT\\_CD8\\_Mem\\_cytotoxic & T\\_CD8\\_Mem\\_cytotoxic\\\\\n",
       "\tT\\_CD8\\_activated & T\\_CD8\\_activated    \\\\\n",
       "\\end{tabular}\n"
      ],
      "text/markdown": [
       "\n",
       "A data.frame: 8 × 1\n",
       "\n",
       "| <!--/--> | CellType &lt;fct&gt; |\n",
       "|---|---|\n",
       "| T_CD8_CM | T_CD8_CM            |\n",
       "| T_CD8_CM_stem | T_CD8_CM_stem       |\n",
       "| T_CD8_EM_CX3CR1high | T_CD8_EM_CX3CR1high |\n",
       "| T_CD8_EM_CX3CR1int | T_CD8_EM_CX3CR1int  |\n",
       "| T_CD8_eff_HOBIT | T_CD8_eff_HOBIT     |\n",
       "| T_CD8_IFNresponse | T_CD8_IFNresponse   |\n",
       "| T_CD8_Mem_cytotoxic | T_CD8_Mem_cytotoxic |\n",
       "| T_CD8_activated | T_CD8_activated     |\n",
       "\n"
      ],
      "text/plain": [
       "                    CellType           \n",
       "T_CD8_CM            T_CD8_CM           \n",
       "T_CD8_CM_stem       T_CD8_CM_stem      \n",
       "T_CD8_EM_CX3CR1high T_CD8_EM_CX3CR1high\n",
       "T_CD8_EM_CX3CR1int  T_CD8_EM_CX3CR1int \n",
       "T_CD8_eff_HOBIT     T_CD8_eff_HOBIT    \n",
       "T_CD8_IFNresponse   T_CD8_IFNresponse  \n",
       "T_CD8_Mem_cytotoxic T_CD8_Mem_cytotoxic\n",
       "T_CD8_activated     T_CD8_activated    "
      ]
     },
     "metadata": {},
     "output_type": "display_data"
    }
   ],
   "source": [
    "ordered_row_annotations"
   ]
  },
  {
   "cell_type": "markdown",
   "id": "40f4139e-5629-4320-8f4e-55d84e99b012",
   "metadata": {},
   "source": [
    "**Define scale palette**"
   ]
  },
  {
   "cell_type": "code",
   "execution_count": 33,
   "id": "5f34fafe-1160-4f23-a03b-31bfc087a8a9",
   "metadata": {
    "execution": {
     "iopub.execute_input": "2024-07-10T08:09:15.434188Z",
     "iopub.status.busy": "2024-07-10T08:09:15.433255Z",
     "iopub.status.idle": "2024-07-10T08:09:15.441663Z",
     "shell.execute_reply": "2024-07-10T08:09:15.440411Z"
    }
   },
   "outputs": [],
   "source": [
    "clipValues <- function(v, minV, maxV) {\n",
    "    if (is.na(v)) {\n",
    "        return(v)\n",
    "    }else if (v >= 0) {\n",
    "        return(min(v, maxV))\n",
    "    } else if (v < 0) {\n",
    "        return(max(v, minV))\n",
    "    } \n",
    "}"
   ]
  },
  {
   "cell_type": "code",
   "execution_count": 34,
   "id": "4ef6101d-443a-4cb5-aef6-e8971fa84b08",
   "metadata": {
    "execution": {
     "iopub.execute_input": "2024-07-10T08:09:15.812735Z",
     "iopub.status.busy": "2024-07-10T08:09:15.811723Z",
     "iopub.status.idle": "2024-07-10T08:09:15.823302Z",
     "shell.execute_reply": "2024-07-10T08:09:15.822129Z"
    }
   },
   "outputs": [],
   "source": [
    "# COLOR PALETTE\n",
    "\n",
    "# Manual definition\n",
    "# clrP <- colorRampPalette(c(\"#ffffc1\", \"#6b001d\"))(100)\n",
    "# clrN <- colorRampPalette(c(\"#0a2258\", \"#f5faff\"))(100)\n",
    "\n",
    "# Predefined color palette\n",
    "clrP <- colorRampPalette(brewer.pal(n = 9, name = \"YlOrRd\"))(100)\n",
    "clrN <- colorRampPalette(rev(brewer.pal(n = 9, name = \"Blues\")))(100)\n",
    "\n",
    "clr <- c(clrN, clrP)"
   ]
  },
  {
   "cell_type": "code",
   "execution_count": 35,
   "id": "a4045ce7-0e7c-4dfe-9586-c4420c840f57",
   "metadata": {
    "execution": {
     "iopub.execute_input": "2024-07-10T08:09:16.124358Z",
     "iopub.status.busy": "2024-07-10T08:09:16.123414Z",
     "iopub.status.idle": "2024-07-10T08:09:16.136237Z",
     "shell.execute_reply": "2024-07-10T08:09:16.135050Z"
    }
   },
   "outputs": [],
   "source": [
    "# VALUE RANGES (those values are passed to clipValues function)\n",
    "\n",
    "# NO CONSTRAINTS\n",
    "max_v = max(heatmap_df, na.rm = T)\n",
    "min_v = min(heatmap_df, na.rm = T)\n",
    "\n",
    "# CLIPPEND WITH QUANTILE\n",
    "max_value = quantile(heatmap_df[heatmap_df >= 0], na.rm = T, probs = .99)\n",
    "min_value = quantile(heatmap_df[heatmap_df < 0], na.rm = T, probs = .01)"
   ]
  },
  {
   "cell_type": "markdown",
   "id": "4cb15971-f534-4f44-8a3d-13e25d8252a1",
   "metadata": {},
   "source": [
    "**Plot heatmap**"
   ]
  },
  {
   "cell_type": "code",
   "execution_count": 36,
   "id": "9f191f93-5e2d-45a3-ad4f-9346d05f17f7",
   "metadata": {
    "execution": {
     "iopub.execute_input": "2024-07-10T08:09:16.737625Z",
     "iopub.status.busy": "2024-07-10T08:09:16.736687Z",
     "iopub.status.idle": "2024-07-10T08:09:16.764335Z",
     "shell.execute_reply": "2024-07-10T08:09:16.763138Z"
    }
   },
   "outputs": [
    {
     "data": {
      "text/html": [
       "<table class=\"dataframe\">\n",
       "<caption>A data.frame: 6 × 7</caption>\n",
       "<thead>\n",
       "\t<tr><th></th><th scope=col>CellType_Level2</th><th scope=col>CD</th><th scope=col>PS</th><th scope=col>PSA</th><th scope=col>RA</th><th scope=col>SLE</th><th scope=col>UC</th></tr>\n",
       "\t<tr><th></th><th scope=col>&lt;chr&gt;</th><th scope=col>&lt;dbl&gt;</th><th scope=col>&lt;dbl&gt;</th><th scope=col>&lt;dbl&gt;</th><th scope=col>&lt;dbl&gt;</th><th scope=col>&lt;dbl&gt;</th><th scope=col>&lt;dbl&gt;</th></tr>\n",
       "</thead>\n",
       "<tbody>\n",
       "\t<tr><th scope=row>1</th><td>T_CD8_activated    </td><td>0.158490566</td><td>0.581818182</td><td>0.31428571</td><td>0.072727273</td><td>0.00000000</td><td>0.007407407</td></tr>\n",
       "\t<tr><th scope=row>2</th><td>T_CD8_CM           </td><td>0.094117647</td><td>0.699689119</td><td>0.16150235</td><td>0.007407407</td><td>0.00000000</td><td>0.007407407</td></tr>\n",
       "\t<tr><th scope=row>3</th><td>T_CD8_CM_stem      </td><td>0.007407407</td><td>0.007407407</td><td>0.00000000</td><td>0.000000000</td><td>0.00000000</td><td>0.000000000</td></tr>\n",
       "\t<tr><th scope=row>4</th><td>T_CD8_eff_HOBIT    </td><td>0.431432974</td><td>0.655679287</td><td>0.55930087</td><td>0.094117647</td><td>0.00000000</td><td>0.076876877</td></tr>\n",
       "\t<tr><th scope=row>5</th><td>T_CD8_EM_CX3CR1high</td><td>0.035555556</td><td>0.364489112</td><td>0.03030303</td><td>0.000000000</td><td>0.06173633</td><td>0.013559322</td></tr>\n",
       "\t<tr><th scope=row>6</th><td>T_CD8_EM_CX3CR1int </td><td>0.058471761</td><td>0.134320988</td><td>0.19642857</td><td>0.013559322</td><td>0.00000000</td><td>0.072727273</td></tr>\n",
       "</tbody>\n",
       "</table>\n"
      ],
      "text/latex": [
       "A data.frame: 6 × 7\n",
       "\\begin{tabular}{r|lllllll}\n",
       "  & CellType\\_Level2 & CD & PS & PSA & RA & SLE & UC\\\\\n",
       "  & <chr> & <dbl> & <dbl> & <dbl> & <dbl> & <dbl> & <dbl>\\\\\n",
       "\\hline\n",
       "\t1 & T\\_CD8\\_activated     & 0.158490566 & 0.581818182 & 0.31428571 & 0.072727273 & 0.00000000 & 0.007407407\\\\\n",
       "\t2 & T\\_CD8\\_CM            & 0.094117647 & 0.699689119 & 0.16150235 & 0.007407407 & 0.00000000 & 0.007407407\\\\\n",
       "\t3 & T\\_CD8\\_CM\\_stem       & 0.007407407 & 0.007407407 & 0.00000000 & 0.000000000 & 0.00000000 & 0.000000000\\\\\n",
       "\t4 & T\\_CD8\\_eff\\_HOBIT     & 0.431432974 & 0.655679287 & 0.55930087 & 0.094117647 & 0.00000000 & 0.076876877\\\\\n",
       "\t5 & T\\_CD8\\_EM\\_CX3CR1high & 0.035555556 & 0.364489112 & 0.03030303 & 0.000000000 & 0.06173633 & 0.013559322\\\\\n",
       "\t6 & T\\_CD8\\_EM\\_CX3CR1int  & 0.058471761 & 0.134320988 & 0.19642857 & 0.013559322 & 0.00000000 & 0.072727273\\\\\n",
       "\\end{tabular}\n"
      ],
      "text/markdown": [
       "\n",
       "A data.frame: 6 × 7\n",
       "\n",
       "| <!--/--> | CellType_Level2 &lt;chr&gt; | CD &lt;dbl&gt; | PS &lt;dbl&gt; | PSA &lt;dbl&gt; | RA &lt;dbl&gt; | SLE &lt;dbl&gt; | UC &lt;dbl&gt; |\n",
       "|---|---|---|---|---|---|---|---|\n",
       "| 1 | T_CD8_activated     | 0.158490566 | 0.581818182 | 0.31428571 | 0.072727273 | 0.00000000 | 0.007407407 |\n",
       "| 2 | T_CD8_CM            | 0.094117647 | 0.699689119 | 0.16150235 | 0.007407407 | 0.00000000 | 0.007407407 |\n",
       "| 3 | T_CD8_CM_stem       | 0.007407407 | 0.007407407 | 0.00000000 | 0.000000000 | 0.00000000 | 0.000000000 |\n",
       "| 4 | T_CD8_eff_HOBIT     | 0.431432974 | 0.655679287 | 0.55930087 | 0.094117647 | 0.00000000 | 0.076876877 |\n",
       "| 5 | T_CD8_EM_CX3CR1high | 0.035555556 | 0.364489112 | 0.03030303 | 0.000000000 | 0.06173633 | 0.013559322 |\n",
       "| 6 | T_CD8_EM_CX3CR1int  | 0.058471761 | 0.134320988 | 0.19642857 | 0.013559322 | 0.00000000 | 0.072727273 |\n",
       "\n"
      ],
      "text/plain": [
       "  CellType_Level2     CD          PS          PSA        RA          SLE       \n",
       "1 T_CD8_activated     0.158490566 0.581818182 0.31428571 0.072727273 0.00000000\n",
       "2 T_CD8_CM            0.094117647 0.699689119 0.16150235 0.007407407 0.00000000\n",
       "3 T_CD8_CM_stem       0.007407407 0.007407407 0.00000000 0.000000000 0.00000000\n",
       "4 T_CD8_eff_HOBIT     0.431432974 0.655679287 0.55930087 0.094117647 0.00000000\n",
       "5 T_CD8_EM_CX3CR1high 0.035555556 0.364489112 0.03030303 0.000000000 0.06173633\n",
       "6 T_CD8_EM_CX3CR1int  0.058471761 0.134320988 0.19642857 0.013559322 0.00000000\n",
       "  UC         \n",
       "1 0.007407407\n",
       "2 0.007407407\n",
       "3 0.000000000\n",
       "4 0.076876877\n",
       "5 0.013559322\n",
       "6 0.072727273"
      ]
     },
     "metadata": {},
     "output_type": "display_data"
    }
   ],
   "source": [
    "# Prepare data for heatmap\n",
    "significance_data <- heatmap_data <- filtered_data %>%\n",
    "  select(CellType_Level2, disease, Pval_adj) %>%\n",
    "  spread(key = disease, value = Pval_adj)\n",
    "head(significance_data)"
   ]
  },
  {
   "cell_type": "code",
   "execution_count": 37,
   "id": "de2415a5-7964-4261-bf1e-ddc68f0a1182",
   "metadata": {
    "execution": {
     "iopub.execute_input": "2024-07-10T08:09:17.047335Z",
     "iopub.status.busy": "2024-07-10T08:09:17.046379Z",
     "iopub.status.idle": "2024-07-10T08:09:17.064670Z",
     "shell.execute_reply": "2024-07-10T08:09:17.063496Z"
    }
   },
   "outputs": [
    {
     "data": {
      "text/html": [
       "<table class=\"dataframe\">\n",
       "<caption>A data.frame: 6 × 6</caption>\n",
       "<thead>\n",
       "\t<tr><th></th><th scope=col>CD</th><th scope=col>PS</th><th scope=col>PSA</th><th scope=col>RA</th><th scope=col>SLE</th><th scope=col>UC</th></tr>\n",
       "\t<tr><th></th><th scope=col>&lt;dbl&gt;</th><th scope=col>&lt;dbl&gt;</th><th scope=col>&lt;dbl&gt;</th><th scope=col>&lt;dbl&gt;</th><th scope=col>&lt;dbl&gt;</th><th scope=col>&lt;dbl&gt;</th></tr>\n",
       "</thead>\n",
       "<tbody>\n",
       "\t<tr><th scope=row>T_CD8_activated</th><td>0.158490566</td><td>0.581818182</td><td>0.31428571</td><td>0.072727273</td><td>0.00000000</td><td>0.007407407</td></tr>\n",
       "\t<tr><th scope=row>T_CD8_CM</th><td>0.094117647</td><td>0.699689119</td><td>0.16150235</td><td>0.007407407</td><td>0.00000000</td><td>0.007407407</td></tr>\n",
       "\t<tr><th scope=row>T_CD8_CM_stem</th><td>0.007407407</td><td>0.007407407</td><td>0.00000000</td><td>0.000000000</td><td>0.00000000</td><td>0.000000000</td></tr>\n",
       "\t<tr><th scope=row>T_CD8_eff_HOBIT</th><td>0.431432974</td><td>0.655679287</td><td>0.55930087</td><td>0.094117647</td><td>0.00000000</td><td>0.076876877</td></tr>\n",
       "\t<tr><th scope=row>T_CD8_EM_CX3CR1high</th><td>0.035555556</td><td>0.364489112</td><td>0.03030303</td><td>0.000000000</td><td>0.06173633</td><td>0.013559322</td></tr>\n",
       "\t<tr><th scope=row>T_CD8_EM_CX3CR1int</th><td>0.058471761</td><td>0.134320988</td><td>0.19642857</td><td>0.013559322</td><td>0.00000000</td><td>0.072727273</td></tr>\n",
       "</tbody>\n",
       "</table>\n"
      ],
      "text/latex": [
       "A data.frame: 6 × 6\n",
       "\\begin{tabular}{r|llllll}\n",
       "  & CD & PS & PSA & RA & SLE & UC\\\\\n",
       "  & <dbl> & <dbl> & <dbl> & <dbl> & <dbl> & <dbl>\\\\\n",
       "\\hline\n",
       "\tT\\_CD8\\_activated & 0.158490566 & 0.581818182 & 0.31428571 & 0.072727273 & 0.00000000 & 0.007407407\\\\\n",
       "\tT\\_CD8\\_CM & 0.094117647 & 0.699689119 & 0.16150235 & 0.007407407 & 0.00000000 & 0.007407407\\\\\n",
       "\tT\\_CD8\\_CM\\_stem & 0.007407407 & 0.007407407 & 0.00000000 & 0.000000000 & 0.00000000 & 0.000000000\\\\\n",
       "\tT\\_CD8\\_eff\\_HOBIT & 0.431432974 & 0.655679287 & 0.55930087 & 0.094117647 & 0.00000000 & 0.076876877\\\\\n",
       "\tT\\_CD8\\_EM\\_CX3CR1high & 0.035555556 & 0.364489112 & 0.03030303 & 0.000000000 & 0.06173633 & 0.013559322\\\\\n",
       "\tT\\_CD8\\_EM\\_CX3CR1int & 0.058471761 & 0.134320988 & 0.19642857 & 0.013559322 & 0.00000000 & 0.072727273\\\\\n",
       "\\end{tabular}\n"
      ],
      "text/markdown": [
       "\n",
       "A data.frame: 6 × 6\n",
       "\n",
       "| <!--/--> | CD &lt;dbl&gt; | PS &lt;dbl&gt; | PSA &lt;dbl&gt; | RA &lt;dbl&gt; | SLE &lt;dbl&gt; | UC &lt;dbl&gt; |\n",
       "|---|---|---|---|---|---|---|\n",
       "| T_CD8_activated | 0.158490566 | 0.581818182 | 0.31428571 | 0.072727273 | 0.00000000 | 0.007407407 |\n",
       "| T_CD8_CM | 0.094117647 | 0.699689119 | 0.16150235 | 0.007407407 | 0.00000000 | 0.007407407 |\n",
       "| T_CD8_CM_stem | 0.007407407 | 0.007407407 | 0.00000000 | 0.000000000 | 0.00000000 | 0.000000000 |\n",
       "| T_CD8_eff_HOBIT | 0.431432974 | 0.655679287 | 0.55930087 | 0.094117647 | 0.00000000 | 0.076876877 |\n",
       "| T_CD8_EM_CX3CR1high | 0.035555556 | 0.364489112 | 0.03030303 | 0.000000000 | 0.06173633 | 0.013559322 |\n",
       "| T_CD8_EM_CX3CR1int | 0.058471761 | 0.134320988 | 0.19642857 | 0.013559322 | 0.00000000 | 0.072727273 |\n",
       "\n"
      ],
      "text/plain": [
       "                    CD          PS          PSA        RA          SLE       \n",
       "T_CD8_activated     0.158490566 0.581818182 0.31428571 0.072727273 0.00000000\n",
       "T_CD8_CM            0.094117647 0.699689119 0.16150235 0.007407407 0.00000000\n",
       "T_CD8_CM_stem       0.007407407 0.007407407 0.00000000 0.000000000 0.00000000\n",
       "T_CD8_eff_HOBIT     0.431432974 0.655679287 0.55930087 0.094117647 0.00000000\n",
       "T_CD8_EM_CX3CR1high 0.035555556 0.364489112 0.03030303 0.000000000 0.06173633\n",
       "T_CD8_EM_CX3CR1int  0.058471761 0.134320988 0.19642857 0.013559322 0.00000000\n",
       "                    UC         \n",
       "T_CD8_activated     0.007407407\n",
       "T_CD8_CM            0.007407407\n",
       "T_CD8_CM_stem       0.000000000\n",
       "T_CD8_eff_HOBIT     0.076876877\n",
       "T_CD8_EM_CX3CR1high 0.013559322\n",
       "T_CD8_EM_CX3CR1int  0.072727273"
      ]
     },
     "metadata": {},
     "output_type": "display_data"
    }
   ],
   "source": [
    "significance_data <- significance_data %>%\n",
    "  tibble::column_to_rownames(\"CellType_Level2\")\n",
    "head(significance_data)"
   ]
  },
  {
   "cell_type": "code",
   "execution_count": 38,
   "id": "c2f35988-c286-408d-a29a-a1de39f47fb8",
   "metadata": {
    "execution": {
     "iopub.execute_input": "2024-07-10T08:09:17.352063Z",
     "iopub.status.busy": "2024-07-10T08:09:17.351127Z",
     "iopub.status.idle": "2024-07-10T08:09:17.362938Z",
     "shell.execute_reply": "2024-07-10T08:09:17.361679Z"
    }
   },
   "outputs": [],
   "source": [
    "significance_data = significance_data[heatmap_celltypes_order, disease_order]"
   ]
  },
  {
   "cell_type": "code",
   "execution_count": 39,
   "id": "aba84442-cec1-47f2-9ac7-d3bd1af3483e",
   "metadata": {
    "execution": {
     "iopub.execute_input": "2024-07-10T08:09:17.632078Z",
     "iopub.status.busy": "2024-07-10T08:09:17.631164Z",
     "iopub.status.idle": "2024-07-10T08:09:17.654086Z",
     "shell.execute_reply": "2024-07-10T08:09:17.652895Z"
    }
   },
   "outputs": [
    {
     "data": {
      "text/html": [
       "<table class=\"dataframe\">\n",
       "<caption>A data.frame: 6 × 6</caption>\n",
       "<thead>\n",
       "\t<tr><th></th><th scope=col>RA</th><th scope=col>PS</th><th scope=col>PSA</th><th scope=col>CD</th><th scope=col>UC</th><th scope=col>SLE</th></tr>\n",
       "\t<tr><th></th><th scope=col>&lt;chr&gt;</th><th scope=col>&lt;chr&gt;</th><th scope=col>&lt;chr&gt;</th><th scope=col>&lt;chr&gt;</th><th scope=col>&lt;chr&gt;</th><th scope=col>&lt;chr&gt;</th></tr>\n",
       "</thead>\n",
       "<tbody>\n",
       "\t<tr><th scope=row>T_CD8_CM</th><td>·</td><td> </td><td> </td><td> </td><td>·</td><td>·</td></tr>\n",
       "\t<tr><th scope=row>T_CD8_CM_stem</th><td>·</td><td>·</td><td>·</td><td>·</td><td>·</td><td>·</td></tr>\n",
       "\t<tr><th scope=row>T_CD8_EM_CX3CR1high</th><td>·</td><td> </td><td>·</td><td>·</td><td>·</td><td> </td></tr>\n",
       "\t<tr><th scope=row>T_CD8_EM_CX3CR1int</th><td>·</td><td> </td><td> </td><td> </td><td> </td><td>·</td></tr>\n",
       "\t<tr><th scope=row>T_CD8_eff_HOBIT</th><td> </td><td> </td><td> </td><td> </td><td> </td><td>·</td></tr>\n",
       "\t<tr><th scope=row>T_CD8_IFNresponse</th><td>·</td><td> </td><td>·</td><td>·</td><td>·</td><td> </td></tr>\n",
       "</tbody>\n",
       "</table>\n"
      ],
      "text/latex": [
       "A data.frame: 6 × 6\n",
       "\\begin{tabular}{r|llllll}\n",
       "  & RA & PS & PSA & CD & UC & SLE\\\\\n",
       "  & <chr> & <chr> & <chr> & <chr> & <chr> & <chr>\\\\\n",
       "\\hline\n",
       "\tT\\_CD8\\_CM & · &   &   &   & · & ·\\\\\n",
       "\tT\\_CD8\\_CM\\_stem & · & · & · & · & · & ·\\\\\n",
       "\tT\\_CD8\\_EM\\_CX3CR1high & · &   & · & · & · &  \\\\\n",
       "\tT\\_CD8\\_EM\\_CX3CR1int & · &   &   &   &   & ·\\\\\n",
       "\tT\\_CD8\\_eff\\_HOBIT &   &   &   &   &   & ·\\\\\n",
       "\tT\\_CD8\\_IFNresponse & · &   & · & · & · &  \\\\\n",
       "\\end{tabular}\n"
      ],
      "text/markdown": [
       "\n",
       "A data.frame: 6 × 6\n",
       "\n",
       "| <!--/--> | RA &lt;chr&gt; | PS &lt;chr&gt; | PSA &lt;chr&gt; | CD &lt;chr&gt; | UC &lt;chr&gt; | SLE &lt;chr&gt; |\n",
       "|---|---|---|---|---|---|---|\n",
       "| T_CD8_CM | · | <!----> | <!----> | <!----> | · | · |\n",
       "| T_CD8_CM_stem | · | · | · | · | · | · |\n",
       "| T_CD8_EM_CX3CR1high | · | <!----> | · | · | · | <!----> |\n",
       "| T_CD8_EM_CX3CR1int | · | <!----> | <!----> | <!----> | <!----> | · |\n",
       "| T_CD8_eff_HOBIT | <!----> | <!----> | <!----> | <!----> | <!----> | · |\n",
       "| T_CD8_IFNresponse | · | <!----> | · | · | · | <!----> |\n",
       "\n"
      ],
      "text/plain": [
       "                    RA PS PSA CD UC SLE\n",
       "T_CD8_CM            ·            ·  ·  \n",
       "T_CD8_CM_stem       ·  ·  ·   ·  ·  ·  \n",
       "T_CD8_EM_CX3CR1high ·     ·   ·  ·     \n",
       "T_CD8_EM_CX3CR1int  ·               ·  \n",
       "T_CD8_eff_HOBIT                     ·  \n",
       "T_CD8_IFNresponse   ·     ·   ·  ·     "
      ]
     },
     "metadata": {},
     "output_type": "display_data"
    }
   ],
   "source": [
    "sig_to_plot <- significance_data %>%\n",
    "  #mutate(across(everything(), ~ ifelse(. < 0.05, \"·\", \"\")))\n",
    "  mutate(across(everything(), ~ ifelse(is.na(.), \"\", ifelse(. < 0.05, \"·\", \"\"))))\n",
    "head(sig_to_plot)"
   ]
  },
  {
   "cell_type": "code",
   "execution_count": 40,
   "id": "4826c072-a701-47c5-96db-b6d392ad25bb",
   "metadata": {
    "execution": {
     "iopub.execute_input": "2024-07-10T08:09:17.927607Z",
     "iopub.status.busy": "2024-07-10T08:09:17.926514Z",
     "iopub.status.idle": "2024-07-10T08:09:18.285550Z",
     "shell.execute_reply": "2024-07-10T08:09:18.284363Z"
    }
   },
   "outputs": [
    {
     "data": {
      "text/html": [
       "<strong>pdf:</strong> 4"
      ],
      "text/latex": [
       "\\textbf{pdf:} 4"
      ],
      "text/markdown": [
       "**pdf:** 4"
      ],
      "text/plain": [
       "pdf \n",
       "  4 "
      ]
     },
     "metadata": {},
     "output_type": "display_data"
    }
   ],
   "source": [
    "#options(repr.plot.width = 10, repr.plot.height = 20, repr.plot.res = 100)\n",
    "#breaks <- c(head(seq(min_value,0, length.out = 101), -1),seq(0, max_value, length.out = 100))\n",
    "figure_path <-  paste0(base_path,\"/03_downstream_analysis/06_inflammation_signatures/results/heatmap/heatmap_Corr_L2_TCD8NonNaive_IFN12L.pdf\")\n",
    "pdf(figure_path, width = 10, height = 10)\n",
    "a <- pheatmap(mat = heatmap_df,\n",
    "              #apply(heatmap_df, c(1,2)),FUN = function(x) {clipValues(x, min_value, max_value)}\n",
    "  border_color = FALSE,\n",
    "  color = colorRampPalette(brewer.pal(n = 9, name = \"YlOrRd\"))(100),\n",
    "  #breaks  =  breaks,\n",
    "  display_numbers = sig_to_plot,\n",
    "  fontsize_number = 10,\n",
    "  na_col = \"white\",\n",
    "  cluster_cols = FALSE,\n",
    "  cluster_rows = FALSE,\n",
    "  cellheight = 5,\n",
    "  cellwidth = 7,\n",
    "  cex = 1, \n",
    "  fontsize = 6,\n",
    "  annotation_colors = my_colour_annot,\n",
    "  annotation_col = col_annotations,\n",
    "  annotation_row = ordered_row_annotations,\n",
    "  #gaps_col = cumsum(table(col_annotations$diseaseGroup)),\n",
    "  #gaps_row = cumsum(table(row_annotations$Function)),\n",
    "  #gaps_col = c(7, 10, 11, 15, 19),\n",
    "  #gaps_row = c(11, 22, 33, 44, 55, 66, 77, 88, 99, 101, 103, 105, 107, 109, 111, 113, 114, 115, 116, 117), # GAP ROW FOR FUNCTIONS\n",
    "  #gaps_row = c(10, 19, 28, 38, 49, 63, 77, 88, 99, 108), # GAP ROW FOR CELLTYPES w/ global\n",
    "  #gaps_row = c(10, 19, 28, 39, 51, 65, 79, 90, 101, 110), # GAP ROW FOR CELLTYPES\n",
    "  filename = figure_path,\n",
    "  #legend = TRUE,\n",
    "  #legend_breaks = c(max_value, -4, -2, -1, 0, 1, 2, 4, 6, min_value),\n",
    "  #legend_labels = names(my_colors),\n",
    "  height = 18, \n",
    "  width = 15\n",
    ")\n",
    "print(a)\n",
    "dev.off()"
   ]
  },
  {
   "cell_type": "markdown",
   "id": "c063a75c-e18b-4ae2-9a99-369c3ab80230",
   "metadata": {},
   "source": []
  },
  {
   "cell_type": "code",
   "execution_count": 41,
   "id": "904d97e8-7a28-46f4-9236-e716b137022a",
   "metadata": {
    "execution": {
     "iopub.execute_input": "2024-07-10T08:09:19.451027Z",
     "iopub.status.busy": "2024-07-10T08:09:19.449933Z",
     "iopub.status.idle": "2024-07-10T08:09:19.460648Z",
     "shell.execute_reply": "2024-07-10T08:09:19.459476Z"
    }
   },
   "outputs": [
    {
     "data": {
      "text/html": [
       "<strong>1%:</strong> &lt;NA&gt;"
      ],
      "text/latex": [
       "\\textbf{1\\textbackslash{}\\%:} <NA>"
      ],
      "text/markdown": [
       "**1%:** &lt;NA&gt;"
      ],
      "text/plain": [
       "1% \n",
       "NA "
      ]
     },
     "metadata": {},
     "output_type": "display_data"
    }
   ],
   "source": [
    "min_value"
   ]
  },
  {
   "cell_type": "code",
   "execution_count": null,
   "id": "3521c983-e44e-4017-8799-4cdc381cf137",
   "metadata": {},
   "outputs": [],
   "source": []
  },
  {
   "cell_type": "code",
   "execution_count": null,
   "id": "f59e0931-4f4d-4ecd-ab92-db1d39e407d2",
   "metadata": {},
   "outputs": [],
   "source": []
  }
 ],
 "metadata": {
  "kernelspec": {
   "display_name": "R",
   "language": "R",
   "name": "ir"
  },
  "language_info": {
   "codemirror_mode": "r",
   "file_extension": ".r",
   "mimetype": "text/x-r-source",
   "name": "R",
   "pygments_lexer": "r",
   "version": "4.3.3"
  }
 },
 "nbformat": 4,
 "nbformat_minor": 5
}
