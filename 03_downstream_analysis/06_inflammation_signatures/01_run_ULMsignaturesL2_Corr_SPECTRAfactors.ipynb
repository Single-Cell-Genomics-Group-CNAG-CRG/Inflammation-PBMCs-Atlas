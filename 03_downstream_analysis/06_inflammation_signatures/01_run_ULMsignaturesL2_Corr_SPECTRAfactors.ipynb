{
 "cells": [
  {
   "cell_type": "code",
   "execution_count": null,
   "id": "1613f5d2-de14-4f2e-a7a6-ab8aa22f5c5e",
   "metadata": {},
   "outputs": [],
   "source": [
    "for v in ['celltype']:\n",
    "    if (v not in locals()) or (v not in globals()):\n",
    "        raise TypeError(f\"{v} not defined\")\n",
    "    else:\n",
    "        print(f\"{v} = {eval(v)}\")"
   ]
  },
  {
   "cell_type": "code",
   "execution_count": null,
   "id": "073342a0-cee6-41e5-9cad-acd35ca671dc",
   "metadata": {},
   "outputs": [],
   "source": [
    "# General modules\n",
    "import sys\n",
    "import os\n",
    "import session_info\n",
    "import warnings\n",
    "from pyprojroot.here import here\n",
    "import glob\n",
    "import pandas as pd\n",
    "import numpy as np\n",
    "import seaborn as sns\n",
    "import matplotlib.pyplot as plt\n",
    "import matplotlib.lines as plines\n",
    "import matplotlib.colors as mcolors\n",
    "from IPython.display import display\n",
    "from matplotlib.backends.backend_pdf import PdfPages\n",
    "from matplotlib.lines import Line2D  # for legend handle\n",
    "\n",
    "# Specific modules\n",
    "import scanpy as sc\n",
    "import decoupler as dc\n",
    "import anndata as ad\n",
    "import scienceplots\n",
    "\n",
    "# Setting some parameters\n",
    "warnings.filterwarnings(\"ignore\")\n",
    "\n",
    "# Import functions\n",
    "sys.path.insert(1, str(here('bin')))\n",
    "from customPalette import *\n",
    "from customPythonFunctions import mean_by_category, filter_low_represented_cell_group, RelativeDiff_mean_by_category, mscatter, aggregating_features\n",
    "\n",
    "plt.style.use(['nature'])\n",
    "dpi_fig_save = 300\n",
    "sc.set_figure_params(dpi=100, dpi_save=dpi_fig_save, vector_friendly=True)\n",
    "\n",
    "overwriteFigures = True\n",
    "overwriteData = True\n",
    "\n",
    "pd.options.display.max_columns = 300\n",
    "pd.options.display.max_rows = 1000"
   ]
  },
  {
   "cell_type": "code",
   "execution_count": null,
   "id": "454cc830-22e8-4663-a111-8b11e3da7507",
   "metadata": {},
   "outputs": [],
   "source": [
    "print(\"Main directory path: {}\".format(here()))"
   ]
  },
  {
   "cell_type": "markdown",
   "id": "bf8d874a-c929-46e5-bf27-25adc629e808",
   "metadata": {},
   "source": [
    "**Load data**"
   ]
  },
  {
   "cell_type": "code",
   "execution_count": null,
   "id": "a65e1574-d262-4ba8-852a-134163650733",
   "metadata": {},
   "outputs": [],
   "source": [
    "inputfile_path = here(\"03_downstream_analysis/04_integration_with_annotation/results/normalized_adatas_nextflow/cellType_adata_merged/{}_adataMerged.log1p.h5ad\".format(celltype))\n",
    "# Loading scanpy (Anndata) object\n",
    "adata = sc.read_h5ad(inputfile_path)\n",
    "\n",
    "# Revert log1p\n",
    "adata.X = np.expm1(adata.X)\n",
    "adata"
   ]
  },
  {
   "cell_type": "markdown",
   "id": "e649f8f4-b602-4204-b51b-4f28fcfcf4b3",
   "metadata": {},
   "source": [
    "**Generate new variables**"
   ]
  },
  {
   "cell_type": "code",
   "execution_count": null,
   "id": "19dbbfe1-9b7d-47ea-8183-1b9708955199",
   "metadata": {},
   "outputs": [],
   "source": [
    "# Generate new variables for CELL level1\n",
    "adata.obs[\"disease_level1\"] = [\"{}__{}\".format(disease, level1)\n",
    "                                           for disease, level1 in zip(adata.obs[\"disease\"], adata.obs[\"Level1\"])]\n",
    "adata.obs[\"disease_level1\"] = adata.obs[\"disease_level1\"].astype('category')\n",
    "\n",
    "adata.obs[\"disease_studyID\"] = [\"{}_{}\".format(disease, studyID)\n",
    "                                           for disease, studyID in zip(adata.obs[\"disease\"], adata.obs[\"studyID\"])]\n",
    "adata.obs[\"disease_studyID_level1\"] = [\"{}__{}\".format(adata.obs[\"disease_studyID\"][i], level1) if disease == \"healthy\"\n",
    "                                                  else \"{}__{}\".format(disease, level1) \n",
    "                                                  for i, (disease, level1) \n",
    "                                                  in enumerate(zip(adata.obs[\"disease\"], adata.obs[\"Level1\"]))]\n",
    "adata.obs[\"disease_studyID_level1\"] = adata.obs[\"disease_studyID_level1\"].astype('category')\n",
    "\n",
    "\n",
    "# Generate new variables for CELL TYPE  \n",
    "adata.obs[\"disease_level2\"] = [\"{}__{}\".format(disease, level2)\n",
    "                                           for disease, level2 in zip(adata.obs[\"disease\"], adata.obs[\"Level2\"])]\n",
    "adata.obs[\"disease_level2\"] = adata.obs[\"disease_level2\"].astype('category')\n",
    "\n",
    "adata.obs[\"disease_studyID\"] = [\"{}_{}\".format(disease, studyID)\n",
    "                                           for disease, studyID in zip(adata.obs[\"disease\"], adata.obs[\"studyID\"])]\n",
    "adata.obs[\"disease_studyID_level2\"] = [\"{}__{}\".format(adata.obs[\"disease_studyID\"][i], level2) if disease == \"healthy\"\n",
    "                                                  else \"{}__{}\".format(disease, level2) \n",
    "                                                  for i, (disease, level2) \n",
    "                                                  in enumerate(zip(adata.obs[\"disease\"], adata.obs[\"Level2\"]))]\n",
    "adata.obs[\"disease_studyID_level2\"] = adata.obs[\"disease_studyID_level2\"].astype('category')\n",
    "\n",
    "adata"
   ]
  },
  {
   "cell_type": "markdown",
   "id": "e735bae0-c650-41ac-b67f-e323b2a4b9f0",
   "metadata": {},
   "source": [
    "**Load SPECTRA Gene Weights**"
   ]
  },
  {
   "cell_type": "code",
   "execution_count": null,
   "id": "da293c35-c84c-403b-a55b-e2b7dd2aa94f",
   "metadata": {},
   "outputs": [],
   "source": [
    "geneWeights = pd.read_csv(here('03_downstream_analysis/05_SPECTRA/results/SPECTRAFactor_Renamed_Processed_LAM0.001_S0.6_GeneWeights.csv'), \n",
    "                          index_col='Unnamed: 0')\n",
    "geneWeights.head()"
   ]
  },
  {
   "cell_type": "code",
   "execution_count": null,
   "id": "e36776d7-1051-4d55-826c-6a2a4df2581b",
   "metadata": {},
   "outputs": [],
   "source": [
    "# Subset to consider only GLOBAL & cell-type specific\n",
    "\n",
    "geneWeights['SPECTRA_CellTypeFactor'] = geneWeights.index.str.split('-X-').str[1]\n",
    "geneWeights = geneWeights[geneWeights['SPECTRA_CellTypeFactor'].isin(['global'] + [celltype])]\n",
    "geneWeights.drop(columns=['SPECTRA_CellTypeFactor'], inplace=True)\n",
    "geneWeights"
   ]
  },
  {
   "cell_type": "markdown",
   "id": "ef7889e4-b16d-4e1f-9ce2-d7f607bf7a7c",
   "metadata": {},
   "source": [
    "**Load SPECTRA GeneSet Factors**"
   ]
  },
  {
   "cell_type": "raw",
   "id": "d5f9b743-9c9d-44bb-bf09-98fd27c6a6a9",
   "metadata": {
    "execution": {
     "iopub.status.busy": "2024-06-05T18:33:41.555266Z",
     "iopub.status.idle": "2024-06-05T18:33:41.555448Z",
     "shell.execute_reply": "2024-06-05T18:33:41.555363Z",
     "shell.execute_reply.started": "2024-06-05T18:33:41.555354Z"
    }
   },
   "source": [
    "geneSetFactors = pd.read_csv(here('03_downstream_analysis/05_SPECTRA/results/SPECTRAFactor_Renamed_Processed_LAM0.001_S0.6_NonCellIdentitymarkersDF.csv'), \n",
    "                          index_col=0)\n",
    "geneSetFactors.head()"
   ]
  },
  {
   "cell_type": "markdown",
   "id": "2fc0e85d-df88-4ed5-9563-8da7061f3fba",
   "metadata": {},
   "source": [
    "**Converting 'geneWeights' to match with DecoupleR 'net' format**"
   ]
  },
  {
   "cell_type": "code",
   "execution_count": null,
   "id": "f4f71382-8714-4638-ae57-9542c0640aed",
   "metadata": {},
   "outputs": [],
   "source": [
    "geneWeights_netDF = geneWeights.reset_index().melt(id_vars='index', var_name='source', value_name='weight')\n",
    "geneWeights_netDF = geneWeights_netDF.rename(columns={'index': 'source', 'source':'target'})\n",
    "geneWeights_netDF.head()"
   ]
  },
  {
   "cell_type": "raw",
   "id": "d3b7e6a2-099f-4857-ace8-546c6a12ed08",
   "metadata": {
    "execution": {
     "iopub.execute_input": "2024-06-03T13:10:29.457763Z",
     "iopub.status.busy": "2024-06-03T13:10:29.457443Z",
     "iopub.status.idle": "2024-06-03T13:10:29.461072Z",
     "shell.execute_reply": "2024-06-03T13:10:29.460606Z",
     "shell.execute_reply.started": "2024-06-03T13:10:29.457739Z"
    }
   },
   "source": [
    "def get_true_column_positions(factor_name):\n",
    "    # Check if the factor exists in geneSetFactors\n",
    "    if factor_name in geneSetFactors.T.index:\n",
    "        # Get the boolean mask for \"True\" values\n",
    "        mask = geneSetFactors.T.loc[factor_name]\n",
    "        # Get the column positions where the mask is True\n",
    "        true_column_positions = mask[mask].index\n",
    "        return true_column_positions\n",
    "    else:\n",
    "        # If the factor does not exist in geneSetFactors, return an empty list\n",
    "        return []"
   ]
  },
  {
   "cell_type": "raw",
   "id": "6d90d3b3-2dac-43a6-ba1c-9adfbb027d89",
   "metadata": {
    "execution": {
     "iopub.execute_input": "2024-06-03T13:10:29.462327Z",
     "iopub.status.busy": "2024-06-03T13:10:29.461921Z",
     "iopub.status.idle": "2024-06-03T13:10:29.498702Z",
     "shell.execute_reply": "2024-06-03T13:10:29.498238Z",
     "shell.execute_reply.started": "2024-06-03T13:10:29.462307Z"
    }
   },
   "source": [
    "# Create a new dataframe to store the result\n",
    "geneWeights_netDF = pd.DataFrame(columns=['source', 'target', 'weight'])\n",
    "\n",
    "# Iterate over each geneset to find the top 50 genes\n",
    "for FactorName in geneWeights.index:\n",
    "    # Subset only genes of interest for each Factor\n",
    "    gene_set_indexCol = get_true_column_positions(FactorName)\n",
    "    geneWeights_subset = geneWeights.loc[FactorName, gene_set_indexCol]\n",
    "    geneWeights_toadd = pd.DataFrame([{'source': FactorName, 'target': gene, 'weight': geneWeights_subset.loc[gene]} \n",
    "                                      for gene in geneWeights_subset.index])\n",
    "    geneWeights_netDF = pd.concat([geneWeights_netDF, geneWeights_toadd], ignore_index=True)\n",
    "\n",
    "print(geneWeights_netDF.shape)"
   ]
  },
  {
   "cell_type": "code",
   "execution_count": null,
   "id": "9edd7422-4c26-474f-8b49-5b42598308d7",
   "metadata": {},
   "outputs": [],
   "source": [
    "# Count the number of GENES of each FACTOR\n",
    "source_counts = geneWeights_netDF['source'].value_counts()\n",
    "\n",
    "# Get the sources with counts less than 5\n",
    "sources_to_drop = source_counts[source_counts < 5].index\n",
    "print(sources_to_drop)\n",
    "\n",
    "# Filter geneWeights DataFrame if source has counts less than 5\n",
    "geneWeights_netDF = geneWeights_netDF[~geneWeights_netDF['source'].isin(sources_to_drop)]"
   ]
  },
  {
   "cell_type": "markdown",
   "id": "f2ad2514-e62f-4f4f-bbf6-efa58a6a3a0a",
   "metadata": {},
   "source": [
    "# Run DecoupleR - Computing gene signature with ULM\n",
    "\n",
    "https://decoupler-py.readthedocs.io/en/latest/notebooks/progeny.html#Activity-inference-with-multivariate-linear-model-(ulm)\n",
    "\n",
    "To infer pathway enrichment scores we will run the univariate linear model (ulm)  method. For each cell in our dataset (adata), it fits a linear model that predicts the observed gene expression based on all pathways’ Pathway-Gene interactions weights. Once fitted, the obtained t-values of the slopes are the scores. If it is positive, we interpret that the pathway is active and if it is negative we interpret that it is inactive. Since genes might be overlapping across gene sets (signatures) it is better to use ULM methods.\n",
    "\n",
    "To run `decoupler` methods, we need an input matrix (`mat`), an input prior knowledge network/restudyID (`net`), and the name of the columns of net that we want to use.\n",
    "\n",
    "* The obtained scores (t-values)(`ulm_estimate`) and p-values (`ulm_pvals`) are stored in the `adata.obsm` key.\n",
    "* Note: Each run of run_ulm overwrites what is inside of `ulm_estimate` and `ulm_pvals`."
   ]
  },
  {
   "cell_type": "code",
   "execution_count": null,
   "id": "dbeaa39d-4b06-4153-8158-dc722b432842",
   "metadata": {},
   "outputs": [],
   "source": [
    "# Generating pseudobulks\n",
    "\n",
    "adataPS = aggregating_features(adata.X, adata.obs[['studyID', 'sampleID', 'chemistry', 'disease', 'sex','binned_age', 'Level1', 'Level2']], #, 'sex', 'binned_age']]\n",
    "                              mode = 'mean', obs_names_col = ['sampleID', 'Level2'], min_observation = 10)\n",
    "adataPS.var_names = adata.var_names\n",
    "adataPS"
   ]
  },
  {
   "cell_type": "code",
   "execution_count": null,
   "id": "1867d79d-3263-4d74-939a-bd02def9f614",
   "metadata": {},
   "outputs": [],
   "source": [
    "# LogNorm\n",
    "sc.pp.log1p(adataPS)\n",
    "adataPS.layers[\"scANVI_log1p_10e4_counts_scaled\"] = adataPS.X.copy()\n",
    "\n",
    "#zscaling\n",
    "sc.pp.scale(adataPS, layer=\"scANVI_log1p_10e4_counts_scaled\")\n",
    "adataPS.X = adataPS.layers[\"scANVI_log1p_10e4_counts_scaled\"]\n",
    "\n",
    "adataPS"
   ]
  },
  {
   "cell_type": "markdown",
   "id": "84ca715f-89e3-4e1d-9b41-34c88d60b270",
   "metadata": {},
   "source": [
    "## Gene activity inference with Univariate Linear Model (ULM)"
   ]
  },
  {
   "cell_type": "code",
   "execution_count": null,
   "id": "85d7f043-134f-493d-a0a7-0ce1ce161916",
   "metadata": {},
   "outputs": [],
   "source": [
    "dc.run_ulm(\n",
    "    mat=adataPS,\n",
    "    net=geneWeights_netDF,\n",
    "    source='source',\n",
    "    target='target',\n",
    "    weight='weight',\n",
    "    verbose=True,\n",
    "    use_raw=False, # Use raw attribute of mat if present.\n",
    "    min_n = 5 # Minimum of targets per studyID. If less, studyIDs are removed. Default 5, but having a studyID of 3.\n",
    ")"
   ]
  },
  {
   "cell_type": "code",
   "execution_count": null,
   "id": "f8b25d6e-441d-48ce-8ea6-a14675ef96cd",
   "metadata": {},
   "outputs": [],
   "source": [
    "adataPS"
   ]
  },
  {
   "cell_type": "code",
   "execution_count": null,
   "id": "066b2511-1503-483c-a9ac-b774d3dd47e3",
   "metadata": {},
   "outputs": [],
   "source": [
    "# Save results\n",
    "file_path = here('03_downstream_analysis/06_inflammation_signatures/results/DecoupleR_ulmestimates_{}_L2_Corr.csv'.format(celltype))\n",
    "adataPS.obsm['ulm_estimate'].to_csv(file_path, index=True) \n",
    "\n",
    "file_path = here('03_downstream_analysis/06_inflammation_signatures/results/DecoupleR_ulmpvals_{}_L2_Corr.csv'.format(celltype))\n",
    "adataPS.obsm['ulm_pvals'].to_csv(file_path, index=True) "
   ]
  },
  {
   "cell_type": "markdown",
   "id": "31bfaf3c-78bf-48d8-8f39-a99c9f208425",
   "metadata": {},
   "source": [
    "# Explore ulm results\n",
    "\n",
    "To visualize the obtained scores, we can re-use many of `scanpy`’s plotting functions. First though, we need to extract the activities from the adata object.\n",
    "\n",
    "`dc.get_acts` returns a new AnnData object which holds the obtained activities in its `acts.X` attribute, allowing us to re-use many scanpy functions, for example let’s visualise the Trail pathway:"
   ]
  },
  {
   "cell_type": "code",
   "execution_count": null,
   "id": "f147a546-4c05-4e1b-8d8c-3423820c4601",
   "metadata": {},
   "outputs": [],
   "source": [
    "adataPS = dc.get_acts(adataPS, obsm_key='ulm_estimate')\n",
    "adataPS"
   ]
  },
  {
   "cell_type": "code",
   "execution_count": null,
   "id": "8cf6b157-7404-4bd5-bb7c-7eb0634dc57d",
   "metadata": {},
   "outputs": [],
   "source": [
    "# Save results\n",
    "anndata_path = here('03_downstream_analysis/06_inflammation_signatures/results/DecoupleR_ulmestimates_{}_L2_Corr.h5ad'.format(celltype))\n",
    "adataPS.write_h5ad(anndata_path)"
   ]
  },
  {
   "cell_type": "code",
   "execution_count": null,
   "id": "94c17818-75ae-42fd-9af3-4b577458ec9d",
   "metadata": {},
   "outputs": [],
   "source": [
    "session_info.show()"
   ]
  },
  {
   "cell_type": "code",
   "execution_count": null,
   "id": "4a2a0aee-84a4-4e10-8926-9c9585405a57",
   "metadata": {},
   "outputs": [],
   "source": []
  }
 ],
 "metadata": {
  "kernelspec": {
   "display_name": "Python 3 (ipykernel)",
   "language": "python",
   "name": "python3"
  },
  "language_info": {
   "codemirror_mode": {
    "name": "ipython",
    "version": 3
   },
   "file_extension": ".py",
   "mimetype": "text/x-python",
   "name": "python",
   "nbconvert_exporter": "python",
   "pygments_lexer": "ipython3",
   "version": "3.10.13"
  }
 },
 "nbformat": 4,
 "nbformat_minor": 5
}
