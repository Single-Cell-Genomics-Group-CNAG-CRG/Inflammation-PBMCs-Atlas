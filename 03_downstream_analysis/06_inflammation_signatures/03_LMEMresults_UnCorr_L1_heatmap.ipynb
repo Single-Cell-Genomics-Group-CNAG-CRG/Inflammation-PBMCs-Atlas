{
 "cells": [
  {
   "cell_type": "code",
   "execution_count": 1,
   "id": "2309f507-31a3-4914-9ddc-f659a82b29ac",
   "metadata": {
    "execution": {
     "iopub.execute_input": "2024-07-10T08:27:31.662587Z",
     "iopub.status.busy": "2024-07-10T08:27:31.660239Z",
     "iopub.status.idle": "2024-07-10T08:27:32.386750Z",
     "shell.execute_reply": "2024-07-10T08:27:32.385418Z"
    }
   },
   "outputs": [],
   "source": [
    "suppressPackageStartupMessages(require(dplyr))\n",
    "suppressPackageStartupMessages(require(data.table))\n",
    "suppressPackageStartupMessages(require(RColorBrewer))\n",
    "suppressPackageStartupMessages(library(pheatmap))\n",
    "suppressPackageStartupMessages(library(tidyr))\n",
    "suppressPackageStartupMessages(library(purrr))\n",
    "suppressPackageStartupMessages(library(circlize))"
   ]
  },
  {
   "cell_type": "markdown",
   "id": "d234ddce-a915-4308-8dc8-60e9ee17651e",
   "metadata": {},
   "source": [
    "# Parameters"
   ]
  },
  {
   "cell_type": "code",
   "execution_count": 2,
   "id": "1ca38eb4-44ca-4827-b647-7e3332a40d83",
   "metadata": {
    "execution": {
     "iopub.execute_input": "2024-07-10T08:27:32.410534Z",
     "iopub.status.busy": "2024-07-10T08:27:32.388500Z",
     "iopub.status.idle": "2024-07-10T08:27:32.428403Z",
     "shell.execute_reply": "2024-07-10T08:27:32.427151Z"
    }
   },
   "outputs": [],
   "source": [
    "# Input\n",
    "base_path <- \"/scratch_isilon/groups/singlecell/shared/projects/Inflammation-PBMCs-Atlas\"\n",
    "UnCorrected_logFC_NonFilt_inputpath <- paste0(base_path, \"/03_downstream_analysis/06_inflammation_signatures/results/DecoupleR_ulmestimates_mixedmlEval_L1_UnCorr.csv\")\n",
    "disease_metadata_inputpath <-  paste0(base_path,\"/03_downstream_analysis/06_inflammation_signatures/results/disease_metadata.csv\")\n",
    "\n",
    "# Arguments\n",
    "filter_by_pval <- 0.05\n",
    "\n",
    "width <- 10\n",
    "height <- 15\n",
    "resol <- 400\n",
    "cellheight <- 15\n",
    "cellwidth <- 20\n",
    "fontsize <- 12"
   ]
  },
  {
   "cell_type": "markdown",
   "id": "961fd967-039e-4831-9c32-933daf445eda",
   "metadata": {},
   "source": [
    "# UnCorrected"
   ]
  },
  {
   "cell_type": "markdown",
   "id": "d49567f4-e9c9-4875-8dcc-f74cc52b278f",
   "metadata": {},
   "source": [
    "## Load"
   ]
  },
  {
   "cell_type": "code",
   "execution_count": 3,
   "id": "bcd93b1c-674c-4b78-b2c8-04831b71cebc",
   "metadata": {
    "execution": {
     "iopub.execute_input": "2024-07-10T08:27:32.431050Z",
     "iopub.status.busy": "2024-07-10T08:27:32.430119Z",
     "iopub.status.idle": "2024-07-10T08:27:32.640428Z",
     "shell.execute_reply": "2024-07-10T08:27:32.639091Z"
    }
   },
   "outputs": [],
   "source": [
    "# Load -------------------------\n",
    "metadata <- read.csv(disease_metadata_inputpath, header = TRUE, row.names = 1)\n",
    "UnCorrectedNoFilt_logFC <- read.csv(UnCorrected_logFC_NonFilt_inputpath, header = TRUE)"
   ]
  },
  {
   "cell_type": "code",
   "execution_count": 4,
   "id": "8a9a5b39-0869-4486-b90f-d01c51215eb5",
   "metadata": {
    "execution": {
     "iopub.execute_input": "2024-07-10T08:27:32.643085Z",
     "iopub.status.busy": "2024-07-10T08:27:32.642153Z",
     "iopub.status.idle": "2024-07-10T08:27:32.654150Z",
     "shell.execute_reply": "2024-07-10T08:27:32.653006Z"
    }
   },
   "outputs": [
    {
     "name": "stdout",
     "output_type": "stream",
     "text": [
      "                                                    X  Coef. Std.Err.      z\n",
      "1  C(disease, Treatment(reference=\"healthy\"))[T.BRCA]  0.257    0.791  0.325\n",
      "2    C(disease, Treatment(reference=\"healthy\"))[T.CD] -0.248    0.243 -1.020\n",
      "3  C(disease, Treatment(reference=\"healthy\"))[T.COPD]  0.569    0.354  1.607\n",
      "4 C(disease, Treatment(reference=\"healthy\"))[T.COVID] -0.345    0.191 -1.809\n",
      "5   C(disease, Treatment(reference=\"healthy\"))[T.CRC] -0.386    0.741 -0.522\n",
      "6   C(disease, Treatment(reference=\"healthy\"))[T.HBV]  0.150    0.511  0.294\n",
      "  P..z. X.0.025 X0.975. AnnotationLevel CellType\n",
      "1 0.745  -1.292   1.807          Level1        B\n",
      "2 0.308  -0.726   0.229          Level1        B\n",
      "3 0.108  -0.125   1.262          Level1        B\n",
      "4 0.070  -0.718   0.029          Level1        B\n",
      "5 0.602  -1.838   1.065          Level1        B\n",
      "6 0.769  -0.851   1.152          Level1        B\n",
      "                                       FactorName disease  Pval_adj\n",
      "1 10-X-B-X-cytokine_and_receptors_proinflammatory    BRCA 0.8711502\n",
      "2 10-X-B-X-cytokine_and_receptors_proinflammatory      CD 0.5613012\n",
      "3 10-X-B-X-cytokine_and_receptors_proinflammatory    COPD 0.2968310\n",
      "4 10-X-B-X-cytokine_and_receptors_proinflammatory   COVID 0.2214986\n",
      "5 10-X-B-X-cytokine_and_receptors_proinflammatory     CRC 0.7911382\n",
      "6 10-X-B-X-cytokine_and_receptors_proinflammatory     HBV 0.8843724\n"
     ]
    }
   ],
   "source": [
    "print(head(UnCorrectedNoFilt_logFC))"
   ]
  },
  {
   "cell_type": "code",
   "execution_count": 5,
   "id": "7932056d-6f83-4d76-876b-d9228fbc9153",
   "metadata": {
    "execution": {
     "iopub.execute_input": "2024-07-10T08:27:32.656803Z",
     "iopub.status.busy": "2024-07-10T08:27:32.655871Z",
     "iopub.status.idle": "2024-07-10T08:27:32.666840Z",
     "shell.execute_reply": "2024-07-10T08:27:32.665648Z"
    }
   },
   "outputs": [
    {
     "data": {
      "text/html": [
       "<style>\n",
       ".list-inline {list-style: none; margin:0; padding: 0}\n",
       ".list-inline>li {display: inline-block}\n",
       ".list-inline>li:not(:last-child)::after {content: \"\\00b7\"; padding: 0 .5ex}\n",
       "</style>\n",
       "<ol class=list-inline><li>'BRCA'</li><li>'CD'</li><li>'COPD'</li><li>'COVID'</li><li>'CRC'</li><li>'HBV'</li><li>'HIV'</li><li>'HNSCC'</li><li>'MS'</li><li>'NPC'</li><li>'PS'</li><li>'PSA'</li><li>'RA'</li><li>'SLE'</li><li>'UC'</li><li>'asthma'</li><li>'cirrhosis'</li><li>'flu'</li><li>'sepsis'</li></ol>\n"
      ],
      "text/latex": [
       "\\begin{enumerate*}\n",
       "\\item 'BRCA'\n",
       "\\item 'CD'\n",
       "\\item 'COPD'\n",
       "\\item 'COVID'\n",
       "\\item 'CRC'\n",
       "\\item 'HBV'\n",
       "\\item 'HIV'\n",
       "\\item 'HNSCC'\n",
       "\\item 'MS'\n",
       "\\item 'NPC'\n",
       "\\item 'PS'\n",
       "\\item 'PSA'\n",
       "\\item 'RA'\n",
       "\\item 'SLE'\n",
       "\\item 'UC'\n",
       "\\item 'asthma'\n",
       "\\item 'cirrhosis'\n",
       "\\item 'flu'\n",
       "\\item 'sepsis'\n",
       "\\end{enumerate*}\n"
      ],
      "text/markdown": [
       "1. 'BRCA'\n",
       "2. 'CD'\n",
       "3. 'COPD'\n",
       "4. 'COVID'\n",
       "5. 'CRC'\n",
       "6. 'HBV'\n",
       "7. 'HIV'\n",
       "8. 'HNSCC'\n",
       "9. 'MS'\n",
       "10. 'NPC'\n",
       "11. 'PS'\n",
       "12. 'PSA'\n",
       "13. 'RA'\n",
       "14. 'SLE'\n",
       "15. 'UC'\n",
       "16. 'asthma'\n",
       "17. 'cirrhosis'\n",
       "18. 'flu'\n",
       "19. 'sepsis'\n",
       "\n",
       "\n"
      ],
      "text/plain": [
       " [1] \"BRCA\"      \"CD\"        \"COPD\"      \"COVID\"     \"CRC\"       \"HBV\"      \n",
       " [7] \"HIV\"       \"HNSCC\"     \"MS\"        \"NPC\"       \"PS\"        \"PSA\"      \n",
       "[13] \"RA\"        \"SLE\"       \"UC\"        \"asthma\"    \"cirrhosis\" \"flu\"      \n",
       "[19] \"sepsis\"   "
      ]
     },
     "metadata": {},
     "output_type": "display_data"
    }
   ],
   "source": [
    "unique(UnCorrectedNoFilt_logFC$disease)"
   ]
  },
  {
   "cell_type": "code",
   "execution_count": 6,
   "id": "2c8b07f4-7672-4faa-95f1-226983f04ccc",
   "metadata": {
    "execution": {
     "iopub.execute_input": "2024-07-10T08:27:32.669511Z",
     "iopub.status.busy": "2024-07-10T08:27:32.668585Z",
     "iopub.status.idle": "2024-07-10T08:27:32.679656Z",
     "shell.execute_reply": "2024-07-10T08:27:32.678212Z"
    }
   },
   "outputs": [
    {
     "data": {
      "text/html": [
       "19"
      ],
      "text/latex": [
       "19"
      ],
      "text/markdown": [
       "19"
      ],
      "text/plain": [
       "[1] 19"
      ]
     },
     "metadata": {},
     "output_type": "display_data"
    }
   ],
   "source": [
    "length(unique(UnCorrectedNoFilt_logFC$disease))"
   ]
  },
  {
   "cell_type": "code",
   "execution_count": 7,
   "id": "b159b0fc-182d-426c-bdf6-d35a4e557b0f",
   "metadata": {
    "execution": {
     "iopub.execute_input": "2024-07-10T08:27:32.682620Z",
     "iopub.status.busy": "2024-07-10T08:27:32.681677Z",
     "iopub.status.idle": "2024-07-10T08:27:32.692906Z",
     "shell.execute_reply": "2024-07-10T08:27:32.691502Z"
    }
   },
   "outputs": [
    {
     "data": {
      "text/html": [
       "119"
      ],
      "text/latex": [
       "119"
      ],
      "text/markdown": [
       "119"
      ],
      "text/plain": [
       "[1] 119"
      ]
     },
     "metadata": {},
     "output_type": "display_data"
    }
   ],
   "source": [
    "length(unique(UnCorrectedNoFilt_logFC$FactorName))"
   ]
  },
  {
   "cell_type": "code",
   "execution_count": 8,
   "id": "bdd29ff9-ead9-4abd-8ecf-743e5184017c",
   "metadata": {
    "execution": {
     "iopub.execute_input": "2024-07-10T08:27:32.696119Z",
     "iopub.status.busy": "2024-07-10T08:27:32.694968Z",
     "iopub.status.idle": "2024-07-10T08:27:32.709191Z",
     "shell.execute_reply": "2024-07-10T08:27:32.708015Z"
    }
   },
   "outputs": [
    {
     "name": "stdout",
     "output_type": "stream",
     "text": [
      "     disease         diseaseGroup\n",
      "0       BRCA          solid_tumor\n",
      "1         CD                IMIDs\n",
      "2       COPD chronic_inflammation\n",
      "3      COVID            infection\n",
      "4        CRC          solid_tumor\n",
      "5        HBV            infection\n",
      "6        HIV            infection\n",
      "7      HNSCC          solid_tumor\n",
      "8         MS                IMIDs\n",
      "9        NPC          solid_tumor\n",
      "10        PS                IMIDs\n",
      "11       PSA                IMIDs\n",
      "12        RA                IMIDs\n",
      "13       SLE                IMIDs\n",
      "14        UC                IMIDs\n",
      "15    asthma chronic_inflammation\n",
      "16 cirrhosis chronic_inflammation\n",
      "17       flu            infection\n",
      "18   healthy              healthy\n",
      "19    sepsis   acute_inflammation\n"
     ]
    }
   ],
   "source": [
    "#metadata <- metadata %>% filter(disease != \"BRCA\")\n",
    "print(metadata)"
   ]
  },
  {
   "cell_type": "code",
   "execution_count": 9,
   "id": "7d5b1554-5894-4ad6-a55f-fc031a626e03",
   "metadata": {
    "execution": {
     "iopub.execute_input": "2024-07-10T08:27:32.711884Z",
     "iopub.status.busy": "2024-07-10T08:27:32.710943Z",
     "iopub.status.idle": "2024-07-10T08:27:32.719106Z",
     "shell.execute_reply": "2024-07-10T08:27:32.717858Z"
    }
   },
   "outputs": [],
   "source": [
    "signatures <- c('cytokine_and_receptors_proinflammatory',\n",
    "               'adhesion_molecules',\n",
    "               'antigen_presentation_molecules',\n",
    "               'CD8T_exhaustion',\n",
    "               'CD8T_tcr_activation',\n",
    "               'chemokines',\n",
    "               'chemokine_receptors',\n",
    "               #'cytokine_and_receptors__antiinflammatory',\n",
    "               'cytokine_andreceptors_antiinflammatory',\n",
    "               'IFN_Type_1_2_Lambda',\n",
    "               'IFN_response',\n",
    "               'TNF_receptors_ligands',\n",
    "               'antigen-crosspresentation',\n",
    "               'IFNG_response',\n",
    "               'IL4-IL13_response',\n",
    "               'CD4T_TH17_UP',\n",
    "               'CD4T_TH2_UP',\n",
    "               'CD4T_TFH_UP',\n",
    "               'CD4T_TH1_UP',\n",
    "               'Tregs_FoxP3_stabilization',\n",
    "               'effector')"
   ]
  },
  {
   "cell_type": "markdown",
   "id": "bd5be530-ac7f-421a-9a6b-54b5c52e5658",
   "metadata": {},
   "source": [
    "## Preprocessing"
   ]
  },
  {
   "cell_type": "markdown",
   "id": "85671dee-02bb-40f0-a03f-63cf479e5f53",
   "metadata": {},
   "source": [
    "**Extract information fron imput DF**"
   ]
  },
  {
   "cell_type": "code",
   "execution_count": 10,
   "id": "a2066bb6-1b78-4815-9c65-3c25662dcb8a",
   "metadata": {
    "execution": {
     "iopub.execute_input": "2024-07-10T08:27:32.721784Z",
     "iopub.status.busy": "2024-07-10T08:27:32.720843Z",
     "iopub.status.idle": "2024-07-10T08:27:32.746088Z",
     "shell.execute_reply": "2024-07-10T08:27:32.744657Z"
    }
   },
   "outputs": [],
   "source": [
    "# Preprocess data\n",
    "# Filter rows based on Pval_adj\n",
    "#filtered_data <- UnCorrected_logFC %>%\n",
    "#  mutate(Coef = ifelse(Pval_adj >= filter_by_pval, 0, Coef.))\n",
    "\n",
    "\n",
    "# Extract Factor function and Celltype\n",
    "filtered_data <- UnCorrectedNoFilt_logFC %>%\n",
    "  mutate(Function = sapply(strsplit(as.character(FactorName), \"-X-\"), `[`, 3),\n",
    "         CellType = sapply(strsplit(as.character(FactorName), \"-X-\"), `[`, 2))"
   ]
  },
  {
   "cell_type": "code",
   "execution_count": 11,
   "id": "7bfaa32b-fd0e-4036-a273-5facac24675f",
   "metadata": {
    "execution": {
     "iopub.execute_input": "2024-07-10T08:27:32.749313Z",
     "iopub.status.busy": "2024-07-10T08:27:32.748105Z",
     "iopub.status.idle": "2024-07-10T08:27:32.772812Z",
     "shell.execute_reply": "2024-07-10T08:27:32.771611Z"
    },
    "scrolled": true
   },
   "outputs": [
    {
     "data": {
      "text/html": [
       "<table class=\"dataframe\">\n",
       "<caption>A data.frame: 6 × 13</caption>\n",
       "<thead>\n",
       "\t<tr><th></th><th scope=col>X</th><th scope=col>Coef.</th><th scope=col>Std.Err.</th><th scope=col>z</th><th scope=col>P..z.</th><th scope=col>X.0.025</th><th scope=col>X0.975.</th><th scope=col>AnnotationLevel</th><th scope=col>CellType</th><th scope=col>FactorName</th><th scope=col>disease</th><th scope=col>Pval_adj</th><th scope=col>Function</th></tr>\n",
       "\t<tr><th></th><th scope=col>&lt;chr&gt;</th><th scope=col>&lt;dbl&gt;</th><th scope=col>&lt;dbl&gt;</th><th scope=col>&lt;dbl&gt;</th><th scope=col>&lt;dbl&gt;</th><th scope=col>&lt;dbl&gt;</th><th scope=col>&lt;dbl&gt;</th><th scope=col>&lt;chr&gt;</th><th scope=col>&lt;chr&gt;</th><th scope=col>&lt;chr&gt;</th><th scope=col>&lt;chr&gt;</th><th scope=col>&lt;dbl&gt;</th><th scope=col>&lt;chr&gt;</th></tr>\n",
       "</thead>\n",
       "<tbody>\n",
       "\t<tr><th scope=row>1</th><td>C(disease, Treatment(reference=\"healthy\"))[T.BRCA] </td><td> 0.257</td><td>0.791</td><td> 0.325</td><td>0.745</td><td>-1.292</td><td>1.807</td><td>Level1</td><td>B</td><td>10-X-B-X-cytokine_and_receptors_proinflammatory</td><td>BRCA </td><td>0.8711502</td><td>cytokine_and_receptors_proinflammatory</td></tr>\n",
       "\t<tr><th scope=row>2</th><td>C(disease, Treatment(reference=\"healthy\"))[T.CD]   </td><td>-0.248</td><td>0.243</td><td>-1.020</td><td>0.308</td><td>-0.726</td><td>0.229</td><td>Level1</td><td>B</td><td>10-X-B-X-cytokine_and_receptors_proinflammatory</td><td>CD   </td><td>0.5613012</td><td>cytokine_and_receptors_proinflammatory</td></tr>\n",
       "\t<tr><th scope=row>3</th><td>C(disease, Treatment(reference=\"healthy\"))[T.COPD] </td><td> 0.569</td><td>0.354</td><td> 1.607</td><td>0.108</td><td>-0.125</td><td>1.262</td><td>Level1</td><td>B</td><td>10-X-B-X-cytokine_and_receptors_proinflammatory</td><td>COPD </td><td>0.2968310</td><td>cytokine_and_receptors_proinflammatory</td></tr>\n",
       "\t<tr><th scope=row>4</th><td>C(disease, Treatment(reference=\"healthy\"))[T.COVID]</td><td>-0.345</td><td>0.191</td><td>-1.809</td><td>0.070</td><td>-0.718</td><td>0.029</td><td>Level1</td><td>B</td><td>10-X-B-X-cytokine_and_receptors_proinflammatory</td><td>COVID</td><td>0.2214986</td><td>cytokine_and_receptors_proinflammatory</td></tr>\n",
       "\t<tr><th scope=row>5</th><td>C(disease, Treatment(reference=\"healthy\"))[T.CRC]  </td><td>-0.386</td><td>0.741</td><td>-0.522</td><td>0.602</td><td>-1.838</td><td>1.065</td><td>Level1</td><td>B</td><td>10-X-B-X-cytokine_and_receptors_proinflammatory</td><td>CRC  </td><td>0.7911382</td><td>cytokine_and_receptors_proinflammatory</td></tr>\n",
       "\t<tr><th scope=row>6</th><td>C(disease, Treatment(reference=\"healthy\"))[T.HBV]  </td><td> 0.150</td><td>0.511</td><td> 0.294</td><td>0.769</td><td>-0.851</td><td>1.152</td><td>Level1</td><td>B</td><td>10-X-B-X-cytokine_and_receptors_proinflammatory</td><td>HBV  </td><td>0.8843724</td><td>cytokine_and_receptors_proinflammatory</td></tr>\n",
       "</tbody>\n",
       "</table>\n"
      ],
      "text/latex": [
       "A data.frame: 6 × 13\n",
       "\\begin{tabular}{r|lllllllllllll}\n",
       "  & X & Coef. & Std.Err. & z & P..z. & X.0.025 & X0.975. & AnnotationLevel & CellType & FactorName & disease & Pval\\_adj & Function\\\\\n",
       "  & <chr> & <dbl> & <dbl> & <dbl> & <dbl> & <dbl> & <dbl> & <chr> & <chr> & <chr> & <chr> & <dbl> & <chr>\\\\\n",
       "\\hline\n",
       "\t1 & C(disease, Treatment(reference=\"healthy\")){[}T.BRCA{]}  &  0.257 & 0.791 &  0.325 & 0.745 & -1.292 & 1.807 & Level1 & B & 10-X-B-X-cytokine\\_and\\_receptors\\_proinflammatory & BRCA  & 0.8711502 & cytokine\\_and\\_receptors\\_proinflammatory\\\\\n",
       "\t2 & C(disease, Treatment(reference=\"healthy\")){[}T.CD{]}    & -0.248 & 0.243 & -1.020 & 0.308 & -0.726 & 0.229 & Level1 & B & 10-X-B-X-cytokine\\_and\\_receptors\\_proinflammatory & CD    & 0.5613012 & cytokine\\_and\\_receptors\\_proinflammatory\\\\\n",
       "\t3 & C(disease, Treatment(reference=\"healthy\")){[}T.COPD{]}  &  0.569 & 0.354 &  1.607 & 0.108 & -0.125 & 1.262 & Level1 & B & 10-X-B-X-cytokine\\_and\\_receptors\\_proinflammatory & COPD  & 0.2968310 & cytokine\\_and\\_receptors\\_proinflammatory\\\\\n",
       "\t4 & C(disease, Treatment(reference=\"healthy\")){[}T.COVID{]} & -0.345 & 0.191 & -1.809 & 0.070 & -0.718 & 0.029 & Level1 & B & 10-X-B-X-cytokine\\_and\\_receptors\\_proinflammatory & COVID & 0.2214986 & cytokine\\_and\\_receptors\\_proinflammatory\\\\\n",
       "\t5 & C(disease, Treatment(reference=\"healthy\")){[}T.CRC{]}   & -0.386 & 0.741 & -0.522 & 0.602 & -1.838 & 1.065 & Level1 & B & 10-X-B-X-cytokine\\_and\\_receptors\\_proinflammatory & CRC   & 0.7911382 & cytokine\\_and\\_receptors\\_proinflammatory\\\\\n",
       "\t6 & C(disease, Treatment(reference=\"healthy\")){[}T.HBV{]}   &  0.150 & 0.511 &  0.294 & 0.769 & -0.851 & 1.152 & Level1 & B & 10-X-B-X-cytokine\\_and\\_receptors\\_proinflammatory & HBV   & 0.8843724 & cytokine\\_and\\_receptors\\_proinflammatory\\\\\n",
       "\\end{tabular}\n"
      ],
      "text/markdown": [
       "\n",
       "A data.frame: 6 × 13\n",
       "\n",
       "| <!--/--> | X &lt;chr&gt; | Coef. &lt;dbl&gt; | Std.Err. &lt;dbl&gt; | z &lt;dbl&gt; | P..z. &lt;dbl&gt; | X.0.025 &lt;dbl&gt; | X0.975. &lt;dbl&gt; | AnnotationLevel &lt;chr&gt; | CellType &lt;chr&gt; | FactorName &lt;chr&gt; | disease &lt;chr&gt; | Pval_adj &lt;dbl&gt; | Function &lt;chr&gt; |\n",
       "|---|---|---|---|---|---|---|---|---|---|---|---|---|---|\n",
       "| 1 | C(disease, Treatment(reference=\"healthy\"))[T.BRCA]  |  0.257 | 0.791 |  0.325 | 0.745 | -1.292 | 1.807 | Level1 | B | 10-X-B-X-cytokine_and_receptors_proinflammatory | BRCA  | 0.8711502 | cytokine_and_receptors_proinflammatory |\n",
       "| 2 | C(disease, Treatment(reference=\"healthy\"))[T.CD]    | -0.248 | 0.243 | -1.020 | 0.308 | -0.726 | 0.229 | Level1 | B | 10-X-B-X-cytokine_and_receptors_proinflammatory | CD    | 0.5613012 | cytokine_and_receptors_proinflammatory |\n",
       "| 3 | C(disease, Treatment(reference=\"healthy\"))[T.COPD]  |  0.569 | 0.354 |  1.607 | 0.108 | -0.125 | 1.262 | Level1 | B | 10-X-B-X-cytokine_and_receptors_proinflammatory | COPD  | 0.2968310 | cytokine_and_receptors_proinflammatory |\n",
       "| 4 | C(disease, Treatment(reference=\"healthy\"))[T.COVID] | -0.345 | 0.191 | -1.809 | 0.070 | -0.718 | 0.029 | Level1 | B | 10-X-B-X-cytokine_and_receptors_proinflammatory | COVID | 0.2214986 | cytokine_and_receptors_proinflammatory |\n",
       "| 5 | C(disease, Treatment(reference=\"healthy\"))[T.CRC]   | -0.386 | 0.741 | -0.522 | 0.602 | -1.838 | 1.065 | Level1 | B | 10-X-B-X-cytokine_and_receptors_proinflammatory | CRC   | 0.7911382 | cytokine_and_receptors_proinflammatory |\n",
       "| 6 | C(disease, Treatment(reference=\"healthy\"))[T.HBV]   |  0.150 | 0.511 |  0.294 | 0.769 | -0.851 | 1.152 | Level1 | B | 10-X-B-X-cytokine_and_receptors_proinflammatory | HBV   | 0.8843724 | cytokine_and_receptors_proinflammatory |\n",
       "\n"
      ],
      "text/plain": [
       "  X                                                   Coef.  Std.Err. z     \n",
       "1 C(disease, Treatment(reference=\"healthy\"))[T.BRCA]   0.257 0.791     0.325\n",
       "2 C(disease, Treatment(reference=\"healthy\"))[T.CD]    -0.248 0.243    -1.020\n",
       "3 C(disease, Treatment(reference=\"healthy\"))[T.COPD]   0.569 0.354     1.607\n",
       "4 C(disease, Treatment(reference=\"healthy\"))[T.COVID] -0.345 0.191    -1.809\n",
       "5 C(disease, Treatment(reference=\"healthy\"))[T.CRC]   -0.386 0.741    -0.522\n",
       "6 C(disease, Treatment(reference=\"healthy\"))[T.HBV]    0.150 0.511     0.294\n",
       "  P..z. X.0.025 X0.975. AnnotationLevel CellType\n",
       "1 0.745 -1.292  1.807   Level1          B       \n",
       "2 0.308 -0.726  0.229   Level1          B       \n",
       "3 0.108 -0.125  1.262   Level1          B       \n",
       "4 0.070 -0.718  0.029   Level1          B       \n",
       "5 0.602 -1.838  1.065   Level1          B       \n",
       "6 0.769 -0.851  1.152   Level1          B       \n",
       "  FactorName                                      disease Pval_adj \n",
       "1 10-X-B-X-cytokine_and_receptors_proinflammatory BRCA    0.8711502\n",
       "2 10-X-B-X-cytokine_and_receptors_proinflammatory CD      0.5613012\n",
       "3 10-X-B-X-cytokine_and_receptors_proinflammatory COPD    0.2968310\n",
       "4 10-X-B-X-cytokine_and_receptors_proinflammatory COVID   0.2214986\n",
       "5 10-X-B-X-cytokine_and_receptors_proinflammatory CRC     0.7911382\n",
       "6 10-X-B-X-cytokine_and_receptors_proinflammatory HBV     0.8843724\n",
       "  Function                              \n",
       "1 cytokine_and_receptors_proinflammatory\n",
       "2 cytokine_and_receptors_proinflammatory\n",
       "3 cytokine_and_receptors_proinflammatory\n",
       "4 cytokine_and_receptors_proinflammatory\n",
       "5 cytokine_and_receptors_proinflammatory\n",
       "6 cytokine_and_receptors_proinflammatory"
      ]
     },
     "metadata": {},
     "output_type": "display_data"
    }
   ],
   "source": [
    "head(filtered_data)"
   ]
  },
  {
   "cell_type": "code",
   "execution_count": 12,
   "id": "d0294143-608c-4588-be9b-c69e0b9e2461",
   "metadata": {
    "execution": {
     "iopub.execute_input": "2024-07-10T08:27:32.779438Z",
     "iopub.status.busy": "2024-07-10T08:27:32.778419Z",
     "iopub.status.idle": "2024-07-10T08:27:32.901151Z",
     "shell.execute_reply": "2024-07-10T08:27:32.899963Z"
    },
    "scrolled": true
   },
   "outputs": [
    {
     "data": {
      "text/html": [
       "<table class=\"dataframe\">\n",
       "<caption>A data.frame: 6 × 20</caption>\n",
       "<thead>\n",
       "\t<tr><th></th><th scope=col>FactorName</th><th scope=col>asthma</th><th scope=col>BRCA</th><th scope=col>CD</th><th scope=col>cirrhosis</th><th scope=col>COPD</th><th scope=col>COVID</th><th scope=col>CRC</th><th scope=col>flu</th><th scope=col>HBV</th><th scope=col>HIV</th><th scope=col>HNSCC</th><th scope=col>MS</th><th scope=col>NPC</th><th scope=col>PS</th><th scope=col>PSA</th><th scope=col>RA</th><th scope=col>sepsis</th><th scope=col>SLE</th><th scope=col>UC</th></tr>\n",
       "\t<tr><th></th><th scope=col>&lt;chr&gt;</th><th scope=col>&lt;dbl&gt;</th><th scope=col>&lt;dbl&gt;</th><th scope=col>&lt;dbl&gt;</th><th scope=col>&lt;dbl&gt;</th><th scope=col>&lt;dbl&gt;</th><th scope=col>&lt;dbl&gt;</th><th scope=col>&lt;dbl&gt;</th><th scope=col>&lt;dbl&gt;</th><th scope=col>&lt;dbl&gt;</th><th scope=col>&lt;dbl&gt;</th><th scope=col>&lt;dbl&gt;</th><th scope=col>&lt;dbl&gt;</th><th scope=col>&lt;dbl&gt;</th><th scope=col>&lt;dbl&gt;</th><th scope=col>&lt;dbl&gt;</th><th scope=col>&lt;dbl&gt;</th><th scope=col>&lt;dbl&gt;</th><th scope=col>&lt;dbl&gt;</th><th scope=col>&lt;dbl&gt;</th></tr>\n",
       "</thead>\n",
       "<tbody>\n",
       "\t<tr><th scope=row>1</th><td>10-X-B-X-cytokine_and_receptors_proinflammatory   </td><td>-0.552</td><td> 0.257</td><td>-0.248</td><td>0.761</td><td> 0.569</td><td>-0.345</td><td>-0.386</td><td>-0.230</td><td> 0.150</td><td>-1.790</td><td> 0.168</td><td> 0.460</td><td> 0.768</td><td>-0.865</td><td>-0.635</td><td>-0.408</td><td>-0.190</td><td> 0.247</td><td>-0.864</td></tr>\n",
       "\t<tr><th scope=row>2</th><td>100-X-T_CD8_Naive-X-adhesion_molecules            </td><td> 0.345</td><td> 2.262</td><td> 0.144</td><td>1.238</td><td>-0.217</td><td>-1.270</td><td>-1.171</td><td>-1.573</td><td> 1.873</td><td>-0.240</td><td> 0.344</td><td> 0.862</td><td> 1.560</td><td> 0.972</td><td> 1.446</td><td> 1.424</td><td>-1.454</td><td>-0.192</td><td> 0.849</td></tr>\n",
       "\t<tr><th scope=row>3</th><td>101-X-T_CD8_Naive-X-antigen_presentation_molecules</td><td>-0.044</td><td> 3.101</td><td> 1.242</td><td>2.615</td><td> 0.601</td><td>-0.890</td><td> 2.429</td><td>-2.373</td><td> 1.559</td><td>-2.340</td><td> 0.923</td><td> 0.058</td><td>-1.365</td><td> 1.396</td><td> 1.854</td><td> 2.042</td><td>-1.418</td><td> 0.707</td><td> 1.966</td></tr>\n",
       "\t<tr><th scope=row>4</th><td>103-X-T_CD8_NonNaive-X-CD8T_exhaustion            </td><td> 1.011</td><td> 0.466</td><td> 0.297</td><td>0.655</td><td> 0.857</td><td>-0.117</td><td>-1.854</td><td> 0.203</td><td>-0.686</td><td> 0.833</td><td>-0.195</td><td>-0.054</td><td> 0.320</td><td> 0.259</td><td> 0.509</td><td> 0.856</td><td> 0.152</td><td> 1.021</td><td> 0.789</td></tr>\n",
       "\t<tr><th scope=row>5</th><td>104-X-T_CD8_NonNaive-X-CD8T_tcr_activation        </td><td> 0.139</td><td>-0.774</td><td> 0.387</td><td>2.066</td><td> 0.950</td><td> 0.036</td><td>-1.432</td><td>-0.040</td><td>-1.050</td><td>-0.867</td><td> 0.183</td><td>-0.262</td><td>-0.542</td><td>-0.068</td><td> 0.448</td><td> 0.530</td><td>-0.042</td><td> 0.949</td><td> 1.134</td></tr>\n",
       "\t<tr><th scope=row>6</th><td>105-X-T_CD8_NonNaive-X-chemokines                 </td><td> 0.274</td><td>-0.738</td><td> 0.743</td><td>1.366</td><td> 0.570</td><td> 0.074</td><td>-1.230</td><td> 0.182</td><td>-3.385</td><td>-0.946</td><td>-0.460</td><td>-1.247</td><td>-2.861</td><td>-0.384</td><td> 0.594</td><td> 0.947</td><td>-0.077</td><td> 0.776</td><td> 0.627</td></tr>\n",
       "</tbody>\n",
       "</table>\n"
      ],
      "text/latex": [
       "A data.frame: 6 × 20\n",
       "\\begin{tabular}{r|llllllllllllllllllll}\n",
       "  & FactorName & asthma & BRCA & CD & cirrhosis & COPD & COVID & CRC & flu & HBV & HIV & HNSCC & MS & NPC & PS & PSA & RA & sepsis & SLE & UC\\\\\n",
       "  & <chr> & <dbl> & <dbl> & <dbl> & <dbl> & <dbl> & <dbl> & <dbl> & <dbl> & <dbl> & <dbl> & <dbl> & <dbl> & <dbl> & <dbl> & <dbl> & <dbl> & <dbl> & <dbl> & <dbl>\\\\\n",
       "\\hline\n",
       "\t1 & 10-X-B-X-cytokine\\_and\\_receptors\\_proinflammatory    & -0.552 &  0.257 & -0.248 & 0.761 &  0.569 & -0.345 & -0.386 & -0.230 &  0.150 & -1.790 &  0.168 &  0.460 &  0.768 & -0.865 & -0.635 & -0.408 & -0.190 &  0.247 & -0.864\\\\\n",
       "\t2 & 100-X-T\\_CD8\\_Naive-X-adhesion\\_molecules             &  0.345 &  2.262 &  0.144 & 1.238 & -0.217 & -1.270 & -1.171 & -1.573 &  1.873 & -0.240 &  0.344 &  0.862 &  1.560 &  0.972 &  1.446 &  1.424 & -1.454 & -0.192 &  0.849\\\\\n",
       "\t3 & 101-X-T\\_CD8\\_Naive-X-antigen\\_presentation\\_molecules & -0.044 &  3.101 &  1.242 & 2.615 &  0.601 & -0.890 &  2.429 & -2.373 &  1.559 & -2.340 &  0.923 &  0.058 & -1.365 &  1.396 &  1.854 &  2.042 & -1.418 &  0.707 &  1.966\\\\\n",
       "\t4 & 103-X-T\\_CD8\\_NonNaive-X-CD8T\\_exhaustion             &  1.011 &  0.466 &  0.297 & 0.655 &  0.857 & -0.117 & -1.854 &  0.203 & -0.686 &  0.833 & -0.195 & -0.054 &  0.320 &  0.259 &  0.509 &  0.856 &  0.152 &  1.021 &  0.789\\\\\n",
       "\t5 & 104-X-T\\_CD8\\_NonNaive-X-CD8T\\_tcr\\_activation         &  0.139 & -0.774 &  0.387 & 2.066 &  0.950 &  0.036 & -1.432 & -0.040 & -1.050 & -0.867 &  0.183 & -0.262 & -0.542 & -0.068 &  0.448 &  0.530 & -0.042 &  0.949 &  1.134\\\\\n",
       "\t6 & 105-X-T\\_CD8\\_NonNaive-X-chemokines                  &  0.274 & -0.738 &  0.743 & 1.366 &  0.570 &  0.074 & -1.230 &  0.182 & -3.385 & -0.946 & -0.460 & -1.247 & -2.861 & -0.384 &  0.594 &  0.947 & -0.077 &  0.776 &  0.627\\\\\n",
       "\\end{tabular}\n"
      ],
      "text/markdown": [
       "\n",
       "A data.frame: 6 × 20\n",
       "\n",
       "| <!--/--> | FactorName &lt;chr&gt; | asthma &lt;dbl&gt; | BRCA &lt;dbl&gt; | CD &lt;dbl&gt; | cirrhosis &lt;dbl&gt; | COPD &lt;dbl&gt; | COVID &lt;dbl&gt; | CRC &lt;dbl&gt; | flu &lt;dbl&gt; | HBV &lt;dbl&gt; | HIV &lt;dbl&gt; | HNSCC &lt;dbl&gt; | MS &lt;dbl&gt; | NPC &lt;dbl&gt; | PS &lt;dbl&gt; | PSA &lt;dbl&gt; | RA &lt;dbl&gt; | sepsis &lt;dbl&gt; | SLE &lt;dbl&gt; | UC &lt;dbl&gt; |\n",
       "|---|---|---|---|---|---|---|---|---|---|---|---|---|---|---|---|---|---|---|---|---|\n",
       "| 1 | 10-X-B-X-cytokine_and_receptors_proinflammatory    | -0.552 |  0.257 | -0.248 | 0.761 |  0.569 | -0.345 | -0.386 | -0.230 |  0.150 | -1.790 |  0.168 |  0.460 |  0.768 | -0.865 | -0.635 | -0.408 | -0.190 |  0.247 | -0.864 |\n",
       "| 2 | 100-X-T_CD8_Naive-X-adhesion_molecules             |  0.345 |  2.262 |  0.144 | 1.238 | -0.217 | -1.270 | -1.171 | -1.573 |  1.873 | -0.240 |  0.344 |  0.862 |  1.560 |  0.972 |  1.446 |  1.424 | -1.454 | -0.192 |  0.849 |\n",
       "| 3 | 101-X-T_CD8_Naive-X-antigen_presentation_molecules | -0.044 |  3.101 |  1.242 | 2.615 |  0.601 | -0.890 |  2.429 | -2.373 |  1.559 | -2.340 |  0.923 |  0.058 | -1.365 |  1.396 |  1.854 |  2.042 | -1.418 |  0.707 |  1.966 |\n",
       "| 4 | 103-X-T_CD8_NonNaive-X-CD8T_exhaustion             |  1.011 |  0.466 |  0.297 | 0.655 |  0.857 | -0.117 | -1.854 |  0.203 | -0.686 |  0.833 | -0.195 | -0.054 |  0.320 |  0.259 |  0.509 |  0.856 |  0.152 |  1.021 |  0.789 |\n",
       "| 5 | 104-X-T_CD8_NonNaive-X-CD8T_tcr_activation         |  0.139 | -0.774 |  0.387 | 2.066 |  0.950 |  0.036 | -1.432 | -0.040 | -1.050 | -0.867 |  0.183 | -0.262 | -0.542 | -0.068 |  0.448 |  0.530 | -0.042 |  0.949 |  1.134 |\n",
       "| 6 | 105-X-T_CD8_NonNaive-X-chemokines                  |  0.274 | -0.738 |  0.743 | 1.366 |  0.570 |  0.074 | -1.230 |  0.182 | -3.385 | -0.946 | -0.460 | -1.247 | -2.861 | -0.384 |  0.594 |  0.947 | -0.077 |  0.776 |  0.627 |\n",
       "\n"
      ],
      "text/plain": [
       "  FactorName                                         asthma BRCA   CD    \n",
       "1 10-X-B-X-cytokine_and_receptors_proinflammatory    -0.552  0.257 -0.248\n",
       "2 100-X-T_CD8_Naive-X-adhesion_molecules              0.345  2.262  0.144\n",
       "3 101-X-T_CD8_Naive-X-antigen_presentation_molecules -0.044  3.101  1.242\n",
       "4 103-X-T_CD8_NonNaive-X-CD8T_exhaustion              1.011  0.466  0.297\n",
       "5 104-X-T_CD8_NonNaive-X-CD8T_tcr_activation          0.139 -0.774  0.387\n",
       "6 105-X-T_CD8_NonNaive-X-chemokines                   0.274 -0.738  0.743\n",
       "  cirrhosis COPD   COVID  CRC    flu    HBV    HIV    HNSCC  MS     NPC   \n",
       "1 0.761      0.569 -0.345 -0.386 -0.230  0.150 -1.790  0.168  0.460  0.768\n",
       "2 1.238     -0.217 -1.270 -1.171 -1.573  1.873 -0.240  0.344  0.862  1.560\n",
       "3 2.615      0.601 -0.890  2.429 -2.373  1.559 -2.340  0.923  0.058 -1.365\n",
       "4 0.655      0.857 -0.117 -1.854  0.203 -0.686  0.833 -0.195 -0.054  0.320\n",
       "5 2.066      0.950  0.036 -1.432 -0.040 -1.050 -0.867  0.183 -0.262 -0.542\n",
       "6 1.366      0.570  0.074 -1.230  0.182 -3.385 -0.946 -0.460 -1.247 -2.861\n",
       "  PS     PSA    RA     sepsis SLE    UC    \n",
       "1 -0.865 -0.635 -0.408 -0.190  0.247 -0.864\n",
       "2  0.972  1.446  1.424 -1.454 -0.192  0.849\n",
       "3  1.396  1.854  2.042 -1.418  0.707  1.966\n",
       "4  0.259  0.509  0.856  0.152  1.021  0.789\n",
       "5 -0.068  0.448  0.530 -0.042  0.949  1.134\n",
       "6 -0.384  0.594  0.947 -0.077  0.776  0.627"
      ]
     },
     "metadata": {},
     "output_type": "display_data"
    }
   ],
   "source": [
    "# Prepare data for heatmap\n",
    "heatmap_data <- filtered_data %>%\n",
    "  select(FactorName, disease, Coef.) %>%\n",
    "  spread(key = disease, value = Coef.)\n",
    "head(heatmap_data)"
   ]
  },
  {
   "cell_type": "code",
   "execution_count": 13,
   "id": "075535b2-a001-440c-abbd-2fdd10b0cf58",
   "metadata": {
    "execution": {
     "iopub.execute_input": "2024-07-10T08:27:32.903839Z",
     "iopub.status.busy": "2024-07-10T08:27:32.902903Z",
     "iopub.status.idle": "2024-07-10T08:27:32.940475Z",
     "shell.execute_reply": "2024-07-10T08:27:32.939273Z"
    }
   },
   "outputs": [
    {
     "data": {
      "text/html": [
       "<table class=\"dataframe\">\n",
       "<caption>A data.frame: 6 × 20</caption>\n",
       "<thead>\n",
       "\t<tr><th></th><th scope=col>FactorName</th><th scope=col>asthma</th><th scope=col>BRCA</th><th scope=col>CD</th><th scope=col>cirrhosis</th><th scope=col>COPD</th><th scope=col>COVID</th><th scope=col>CRC</th><th scope=col>flu</th><th scope=col>HBV</th><th scope=col>HIV</th><th scope=col>HNSCC</th><th scope=col>MS</th><th scope=col>NPC</th><th scope=col>PS</th><th scope=col>PSA</th><th scope=col>RA</th><th scope=col>sepsis</th><th scope=col>SLE</th><th scope=col>UC</th></tr>\n",
       "\t<tr><th></th><th scope=col>&lt;chr&gt;</th><th scope=col>&lt;dbl&gt;</th><th scope=col>&lt;dbl&gt;</th><th scope=col>&lt;dbl&gt;</th><th scope=col>&lt;dbl&gt;</th><th scope=col>&lt;dbl&gt;</th><th scope=col>&lt;dbl&gt;</th><th scope=col>&lt;dbl&gt;</th><th scope=col>&lt;dbl&gt;</th><th scope=col>&lt;dbl&gt;</th><th scope=col>&lt;dbl&gt;</th><th scope=col>&lt;dbl&gt;</th><th scope=col>&lt;dbl&gt;</th><th scope=col>&lt;dbl&gt;</th><th scope=col>&lt;dbl&gt;</th><th scope=col>&lt;dbl&gt;</th><th scope=col>&lt;dbl&gt;</th><th scope=col>&lt;dbl&gt;</th><th scope=col>&lt;dbl&gt;</th><th scope=col>&lt;dbl&gt;</th></tr>\n",
       "</thead>\n",
       "<tbody>\n",
       "\t<tr><th scope=row>1</th><td>B-X-cytokine_and_receptors_proinflammatory  </td><td>-0.552</td><td> 0.257</td><td>-0.248</td><td>0.761</td><td> 0.569</td><td>-0.345</td><td>-0.386</td><td>-0.230</td><td> 0.150</td><td>-1.790</td><td> 0.168</td><td> 0.460</td><td> 0.768</td><td>-0.865</td><td>-0.635</td><td>-0.408</td><td>-0.190</td><td> 0.247</td><td>-0.864</td></tr>\n",
       "\t<tr><th scope=row>2</th><td>T_CD8_Naive-X-adhesion_molecules            </td><td> 0.345</td><td> 2.262</td><td> 0.144</td><td>1.238</td><td>-0.217</td><td>-1.270</td><td>-1.171</td><td>-1.573</td><td> 1.873</td><td>-0.240</td><td> 0.344</td><td> 0.862</td><td> 1.560</td><td> 0.972</td><td> 1.446</td><td> 1.424</td><td>-1.454</td><td>-0.192</td><td> 0.849</td></tr>\n",
       "\t<tr><th scope=row>3</th><td>T_CD8_Naive-X-antigen_presentation_molecules</td><td>-0.044</td><td> 3.101</td><td> 1.242</td><td>2.615</td><td> 0.601</td><td>-0.890</td><td> 2.429</td><td>-2.373</td><td> 1.559</td><td>-2.340</td><td> 0.923</td><td> 0.058</td><td>-1.365</td><td> 1.396</td><td> 1.854</td><td> 2.042</td><td>-1.418</td><td> 0.707</td><td> 1.966</td></tr>\n",
       "\t<tr><th scope=row>4</th><td>T_CD8_NonNaive-X-CD8T_exhaustion            </td><td> 1.011</td><td> 0.466</td><td> 0.297</td><td>0.655</td><td> 0.857</td><td>-0.117</td><td>-1.854</td><td> 0.203</td><td>-0.686</td><td> 0.833</td><td>-0.195</td><td>-0.054</td><td> 0.320</td><td> 0.259</td><td> 0.509</td><td> 0.856</td><td> 0.152</td><td> 1.021</td><td> 0.789</td></tr>\n",
       "\t<tr><th scope=row>5</th><td>T_CD8_NonNaive-X-CD8T_tcr_activation        </td><td> 0.139</td><td>-0.774</td><td> 0.387</td><td>2.066</td><td> 0.950</td><td> 0.036</td><td>-1.432</td><td>-0.040</td><td>-1.050</td><td>-0.867</td><td> 0.183</td><td>-0.262</td><td>-0.542</td><td>-0.068</td><td> 0.448</td><td> 0.530</td><td>-0.042</td><td> 0.949</td><td> 1.134</td></tr>\n",
       "\t<tr><th scope=row>6</th><td>T_CD8_NonNaive-X-chemokines                 </td><td> 0.274</td><td>-0.738</td><td> 0.743</td><td>1.366</td><td> 0.570</td><td> 0.074</td><td>-1.230</td><td> 0.182</td><td>-3.385</td><td>-0.946</td><td>-0.460</td><td>-1.247</td><td>-2.861</td><td>-0.384</td><td> 0.594</td><td> 0.947</td><td>-0.077</td><td> 0.776</td><td> 0.627</td></tr>\n",
       "</tbody>\n",
       "</table>\n"
      ],
      "text/latex": [
       "A data.frame: 6 × 20\n",
       "\\begin{tabular}{r|llllllllllllllllllll}\n",
       "  & FactorName & asthma & BRCA & CD & cirrhosis & COPD & COVID & CRC & flu & HBV & HIV & HNSCC & MS & NPC & PS & PSA & RA & sepsis & SLE & UC\\\\\n",
       "  & <chr> & <dbl> & <dbl> & <dbl> & <dbl> & <dbl> & <dbl> & <dbl> & <dbl> & <dbl> & <dbl> & <dbl> & <dbl> & <dbl> & <dbl> & <dbl> & <dbl> & <dbl> & <dbl> & <dbl>\\\\\n",
       "\\hline\n",
       "\t1 & B-X-cytokine\\_and\\_receptors\\_proinflammatory   & -0.552 &  0.257 & -0.248 & 0.761 &  0.569 & -0.345 & -0.386 & -0.230 &  0.150 & -1.790 &  0.168 &  0.460 &  0.768 & -0.865 & -0.635 & -0.408 & -0.190 &  0.247 & -0.864\\\\\n",
       "\t2 & T\\_CD8\\_Naive-X-adhesion\\_molecules             &  0.345 &  2.262 &  0.144 & 1.238 & -0.217 & -1.270 & -1.171 & -1.573 &  1.873 & -0.240 &  0.344 &  0.862 &  1.560 &  0.972 &  1.446 &  1.424 & -1.454 & -0.192 &  0.849\\\\\n",
       "\t3 & T\\_CD8\\_Naive-X-antigen\\_presentation\\_molecules & -0.044 &  3.101 &  1.242 & 2.615 &  0.601 & -0.890 &  2.429 & -2.373 &  1.559 & -2.340 &  0.923 &  0.058 & -1.365 &  1.396 &  1.854 &  2.042 & -1.418 &  0.707 &  1.966\\\\\n",
       "\t4 & T\\_CD8\\_NonNaive-X-CD8T\\_exhaustion             &  1.011 &  0.466 &  0.297 & 0.655 &  0.857 & -0.117 & -1.854 &  0.203 & -0.686 &  0.833 & -0.195 & -0.054 &  0.320 &  0.259 &  0.509 &  0.856 &  0.152 &  1.021 &  0.789\\\\\n",
       "\t5 & T\\_CD8\\_NonNaive-X-CD8T\\_tcr\\_activation         &  0.139 & -0.774 &  0.387 & 2.066 &  0.950 &  0.036 & -1.432 & -0.040 & -1.050 & -0.867 &  0.183 & -0.262 & -0.542 & -0.068 &  0.448 &  0.530 & -0.042 &  0.949 &  1.134\\\\\n",
       "\t6 & T\\_CD8\\_NonNaive-X-chemokines                  &  0.274 & -0.738 &  0.743 & 1.366 &  0.570 &  0.074 & -1.230 &  0.182 & -3.385 & -0.946 & -0.460 & -1.247 & -2.861 & -0.384 &  0.594 &  0.947 & -0.077 &  0.776 &  0.627\\\\\n",
       "\\end{tabular}\n"
      ],
      "text/markdown": [
       "\n",
       "A data.frame: 6 × 20\n",
       "\n",
       "| <!--/--> | FactorName &lt;chr&gt; | asthma &lt;dbl&gt; | BRCA &lt;dbl&gt; | CD &lt;dbl&gt; | cirrhosis &lt;dbl&gt; | COPD &lt;dbl&gt; | COVID &lt;dbl&gt; | CRC &lt;dbl&gt; | flu &lt;dbl&gt; | HBV &lt;dbl&gt; | HIV &lt;dbl&gt; | HNSCC &lt;dbl&gt; | MS &lt;dbl&gt; | NPC &lt;dbl&gt; | PS &lt;dbl&gt; | PSA &lt;dbl&gt; | RA &lt;dbl&gt; | sepsis &lt;dbl&gt; | SLE &lt;dbl&gt; | UC &lt;dbl&gt; |\n",
       "|---|---|---|---|---|---|---|---|---|---|---|---|---|---|---|---|---|---|---|---|---|\n",
       "| 1 | B-X-cytokine_and_receptors_proinflammatory   | -0.552 |  0.257 | -0.248 | 0.761 |  0.569 | -0.345 | -0.386 | -0.230 |  0.150 | -1.790 |  0.168 |  0.460 |  0.768 | -0.865 | -0.635 | -0.408 | -0.190 |  0.247 | -0.864 |\n",
       "| 2 | T_CD8_Naive-X-adhesion_molecules             |  0.345 |  2.262 |  0.144 | 1.238 | -0.217 | -1.270 | -1.171 | -1.573 |  1.873 | -0.240 |  0.344 |  0.862 |  1.560 |  0.972 |  1.446 |  1.424 | -1.454 | -0.192 |  0.849 |\n",
       "| 3 | T_CD8_Naive-X-antigen_presentation_molecules | -0.044 |  3.101 |  1.242 | 2.615 |  0.601 | -0.890 |  2.429 | -2.373 |  1.559 | -2.340 |  0.923 |  0.058 | -1.365 |  1.396 |  1.854 |  2.042 | -1.418 |  0.707 |  1.966 |\n",
       "| 4 | T_CD8_NonNaive-X-CD8T_exhaustion             |  1.011 |  0.466 |  0.297 | 0.655 |  0.857 | -0.117 | -1.854 |  0.203 | -0.686 |  0.833 | -0.195 | -0.054 |  0.320 |  0.259 |  0.509 |  0.856 |  0.152 |  1.021 |  0.789 |\n",
       "| 5 | T_CD8_NonNaive-X-CD8T_tcr_activation         |  0.139 | -0.774 |  0.387 | 2.066 |  0.950 |  0.036 | -1.432 | -0.040 | -1.050 | -0.867 |  0.183 | -0.262 | -0.542 | -0.068 |  0.448 |  0.530 | -0.042 |  0.949 |  1.134 |\n",
       "| 6 | T_CD8_NonNaive-X-chemokines                  |  0.274 | -0.738 |  0.743 | 1.366 |  0.570 |  0.074 | -1.230 |  0.182 | -3.385 | -0.946 | -0.460 | -1.247 | -2.861 | -0.384 |  0.594 |  0.947 | -0.077 |  0.776 |  0.627 |\n",
       "\n"
      ],
      "text/plain": [
       "  FactorName                                   asthma BRCA   CD     cirrhosis\n",
       "1 B-X-cytokine_and_receptors_proinflammatory   -0.552  0.257 -0.248 0.761    \n",
       "2 T_CD8_Naive-X-adhesion_molecules              0.345  2.262  0.144 1.238    \n",
       "3 T_CD8_Naive-X-antigen_presentation_molecules -0.044  3.101  1.242 2.615    \n",
       "4 T_CD8_NonNaive-X-CD8T_exhaustion              1.011  0.466  0.297 0.655    \n",
       "5 T_CD8_NonNaive-X-CD8T_tcr_activation          0.139 -0.774  0.387 2.066    \n",
       "6 T_CD8_NonNaive-X-chemokines                   0.274 -0.738  0.743 1.366    \n",
       "  COPD   COVID  CRC    flu    HBV    HIV    HNSCC  MS     NPC    PS     PSA   \n",
       "1  0.569 -0.345 -0.386 -0.230  0.150 -1.790  0.168  0.460  0.768 -0.865 -0.635\n",
       "2 -0.217 -1.270 -1.171 -1.573  1.873 -0.240  0.344  0.862  1.560  0.972  1.446\n",
       "3  0.601 -0.890  2.429 -2.373  1.559 -2.340  0.923  0.058 -1.365  1.396  1.854\n",
       "4  0.857 -0.117 -1.854  0.203 -0.686  0.833 -0.195 -0.054  0.320  0.259  0.509\n",
       "5  0.950  0.036 -1.432 -0.040 -1.050 -0.867  0.183 -0.262 -0.542 -0.068  0.448\n",
       "6  0.570  0.074 -1.230  0.182 -3.385 -0.946 -0.460 -1.247 -2.861 -0.384  0.594\n",
       "  RA     sepsis SLE    UC    \n",
       "1 -0.408 -0.190  0.247 -0.864\n",
       "2  1.424 -1.454 -0.192  0.849\n",
       "3  2.042 -1.418  0.707  1.966\n",
       "4  0.856  0.152  1.021  0.789\n",
       "5  0.530 -0.042  0.949  1.134\n",
       "6  0.947 -0.077  0.776  0.627"
      ]
     },
     "metadata": {},
     "output_type": "display_data"
    }
   ],
   "source": [
    "heatmap_data$FactorName <- sapply(strsplit(heatmap_data$FactorName, \"-X-\"), function(x) {\n",
    "  second_element <- x[2]\n",
    "  third_element <- x[3]\n",
    "  \n",
    "  # Check if the third element starts with \"c\" + any element in signatures\n",
    "  if (startsWith(third_element, \"c\") && substr(third_element, 2, nchar(third_element)) %in% signatures) {\n",
    "    third_element <- substr(third_element, 2, nchar(third_element))  # Remove the first letter \"c\"\n",
    "  }\n",
    "  \n",
    "  # Create the new FactorName\n",
    "  new_name <- paste0(second_element, \"-X-\", third_element)\n",
    "  return(new_name)\n",
    "})\n",
    "head(heatmap_data)"
   ]
  },
  {
   "cell_type": "markdown",
   "id": "b2bcec76-4933-447b-844a-19005fc8a327",
   "metadata": {},
   "source": [
    "**Edit function name**"
   ]
  },
  {
   "cell_type": "raw",
   "id": "c7f44d16-3a29-4316-bcfd-213859808261",
   "metadata": {
    "execution": {
     "iopub.execute_input": "2024-06-28T11:42:21.981625Z",
     "iopub.status.busy": "2024-06-28T11:42:21.980537Z",
     "iopub.status.idle": "2024-06-28T11:42:21.989911Z",
     "shell.execute_reply": "2024-06-28T11:42:21.988748Z"
    }
   },
   "source": [
    "heatmap_data$FactorName <- ifelse(\n",
    "  heatmap_data$FactorName == \"DC-X-cytokine_andreceptors_antiinflammatory\",\n",
    "  \"DC-X-cytokine_and_receptors__antiinflammatory\",\n",
    "  heatmap_data$FactorName\n",
    ")\n",
    "\n"
   ]
  },
  {
   "cell_type": "markdown",
   "id": "6c5d58d3-fda7-420f-bfc9-57439a3a650d",
   "metadata": {},
   "source": [
    "**Generate heatmap DF**"
   ]
  },
  {
   "cell_type": "code",
   "execution_count": 14,
   "id": "9438f505-0f1d-4b10-b958-3598a85dfd76",
   "metadata": {
    "execution": {
     "iopub.execute_input": "2024-07-10T08:27:32.943211Z",
     "iopub.status.busy": "2024-07-10T08:27:32.942257Z",
     "iopub.status.idle": "2024-07-10T08:27:32.979732Z",
     "shell.execute_reply": "2024-07-10T08:27:32.977573Z"
    }
   },
   "outputs": [
    {
     "data": {
      "text/html": [
       "<table class=\"dataframe\">\n",
       "<caption>A data.frame: 6 × 19</caption>\n",
       "<thead>\n",
       "\t<tr><th></th><th scope=col>asthma</th><th scope=col>BRCA</th><th scope=col>CD</th><th scope=col>cirrhosis</th><th scope=col>COPD</th><th scope=col>COVID</th><th scope=col>CRC</th><th scope=col>flu</th><th scope=col>HBV</th><th scope=col>HIV</th><th scope=col>HNSCC</th><th scope=col>MS</th><th scope=col>NPC</th><th scope=col>PS</th><th scope=col>PSA</th><th scope=col>RA</th><th scope=col>sepsis</th><th scope=col>SLE</th><th scope=col>UC</th></tr>\n",
       "\t<tr><th></th><th scope=col>&lt;dbl&gt;</th><th scope=col>&lt;dbl&gt;</th><th scope=col>&lt;dbl&gt;</th><th scope=col>&lt;dbl&gt;</th><th scope=col>&lt;dbl&gt;</th><th scope=col>&lt;dbl&gt;</th><th scope=col>&lt;dbl&gt;</th><th scope=col>&lt;dbl&gt;</th><th scope=col>&lt;dbl&gt;</th><th scope=col>&lt;dbl&gt;</th><th scope=col>&lt;dbl&gt;</th><th scope=col>&lt;dbl&gt;</th><th scope=col>&lt;dbl&gt;</th><th scope=col>&lt;dbl&gt;</th><th scope=col>&lt;dbl&gt;</th><th scope=col>&lt;dbl&gt;</th><th scope=col>&lt;dbl&gt;</th><th scope=col>&lt;dbl&gt;</th><th scope=col>&lt;dbl&gt;</th></tr>\n",
       "</thead>\n",
       "<tbody>\n",
       "\t<tr><th scope=row>B-X-cytokine_and_receptors_proinflammatory</th><td>-0.552</td><td> 0.257</td><td>-0.248</td><td>0.761</td><td> 0.569</td><td>-0.345</td><td>-0.386</td><td>-0.230</td><td> 0.150</td><td>-1.790</td><td> 0.168</td><td> 0.460</td><td> 0.768</td><td>-0.865</td><td>-0.635</td><td>-0.408</td><td>-0.190</td><td> 0.247</td><td>-0.864</td></tr>\n",
       "\t<tr><th scope=row>T_CD8_Naive-X-adhesion_molecules</th><td> 0.345</td><td> 2.262</td><td> 0.144</td><td>1.238</td><td>-0.217</td><td>-1.270</td><td>-1.171</td><td>-1.573</td><td> 1.873</td><td>-0.240</td><td> 0.344</td><td> 0.862</td><td> 1.560</td><td> 0.972</td><td> 1.446</td><td> 1.424</td><td>-1.454</td><td>-0.192</td><td> 0.849</td></tr>\n",
       "\t<tr><th scope=row>T_CD8_Naive-X-antigen_presentation_molecules</th><td>-0.044</td><td> 3.101</td><td> 1.242</td><td>2.615</td><td> 0.601</td><td>-0.890</td><td> 2.429</td><td>-2.373</td><td> 1.559</td><td>-2.340</td><td> 0.923</td><td> 0.058</td><td>-1.365</td><td> 1.396</td><td> 1.854</td><td> 2.042</td><td>-1.418</td><td> 0.707</td><td> 1.966</td></tr>\n",
       "\t<tr><th scope=row>T_CD8_NonNaive-X-CD8T_exhaustion</th><td> 1.011</td><td> 0.466</td><td> 0.297</td><td>0.655</td><td> 0.857</td><td>-0.117</td><td>-1.854</td><td> 0.203</td><td>-0.686</td><td> 0.833</td><td>-0.195</td><td>-0.054</td><td> 0.320</td><td> 0.259</td><td> 0.509</td><td> 0.856</td><td> 0.152</td><td> 1.021</td><td> 0.789</td></tr>\n",
       "\t<tr><th scope=row>T_CD8_NonNaive-X-CD8T_tcr_activation</th><td> 0.139</td><td>-0.774</td><td> 0.387</td><td>2.066</td><td> 0.950</td><td> 0.036</td><td>-1.432</td><td>-0.040</td><td>-1.050</td><td>-0.867</td><td> 0.183</td><td>-0.262</td><td>-0.542</td><td>-0.068</td><td> 0.448</td><td> 0.530</td><td>-0.042</td><td> 0.949</td><td> 1.134</td></tr>\n",
       "\t<tr><th scope=row>T_CD8_NonNaive-X-chemokines</th><td> 0.274</td><td>-0.738</td><td> 0.743</td><td>1.366</td><td> 0.570</td><td> 0.074</td><td>-1.230</td><td> 0.182</td><td>-3.385</td><td>-0.946</td><td>-0.460</td><td>-1.247</td><td>-2.861</td><td>-0.384</td><td> 0.594</td><td> 0.947</td><td>-0.077</td><td> 0.776</td><td> 0.627</td></tr>\n",
       "</tbody>\n",
       "</table>\n"
      ],
      "text/latex": [
       "A data.frame: 6 × 19\n",
       "\\begin{tabular}{r|lllllllllllllllllll}\n",
       "  & asthma & BRCA & CD & cirrhosis & COPD & COVID & CRC & flu & HBV & HIV & HNSCC & MS & NPC & PS & PSA & RA & sepsis & SLE & UC\\\\\n",
       "  & <dbl> & <dbl> & <dbl> & <dbl> & <dbl> & <dbl> & <dbl> & <dbl> & <dbl> & <dbl> & <dbl> & <dbl> & <dbl> & <dbl> & <dbl> & <dbl> & <dbl> & <dbl> & <dbl>\\\\\n",
       "\\hline\n",
       "\tB-X-cytokine\\_and\\_receptors\\_proinflammatory & -0.552 &  0.257 & -0.248 & 0.761 &  0.569 & -0.345 & -0.386 & -0.230 &  0.150 & -1.790 &  0.168 &  0.460 &  0.768 & -0.865 & -0.635 & -0.408 & -0.190 &  0.247 & -0.864\\\\\n",
       "\tT\\_CD8\\_Naive-X-adhesion\\_molecules &  0.345 &  2.262 &  0.144 & 1.238 & -0.217 & -1.270 & -1.171 & -1.573 &  1.873 & -0.240 &  0.344 &  0.862 &  1.560 &  0.972 &  1.446 &  1.424 & -1.454 & -0.192 &  0.849\\\\\n",
       "\tT\\_CD8\\_Naive-X-antigen\\_presentation\\_molecules & -0.044 &  3.101 &  1.242 & 2.615 &  0.601 & -0.890 &  2.429 & -2.373 &  1.559 & -2.340 &  0.923 &  0.058 & -1.365 &  1.396 &  1.854 &  2.042 & -1.418 &  0.707 &  1.966\\\\\n",
       "\tT\\_CD8\\_NonNaive-X-CD8T\\_exhaustion &  1.011 &  0.466 &  0.297 & 0.655 &  0.857 & -0.117 & -1.854 &  0.203 & -0.686 &  0.833 & -0.195 & -0.054 &  0.320 &  0.259 &  0.509 &  0.856 &  0.152 &  1.021 &  0.789\\\\\n",
       "\tT\\_CD8\\_NonNaive-X-CD8T\\_tcr\\_activation &  0.139 & -0.774 &  0.387 & 2.066 &  0.950 &  0.036 & -1.432 & -0.040 & -1.050 & -0.867 &  0.183 & -0.262 & -0.542 & -0.068 &  0.448 &  0.530 & -0.042 &  0.949 &  1.134\\\\\n",
       "\tT\\_CD8\\_NonNaive-X-chemokines &  0.274 & -0.738 &  0.743 & 1.366 &  0.570 &  0.074 & -1.230 &  0.182 & -3.385 & -0.946 & -0.460 & -1.247 & -2.861 & -0.384 &  0.594 &  0.947 & -0.077 &  0.776 &  0.627\\\\\n",
       "\\end{tabular}\n"
      ],
      "text/markdown": [
       "\n",
       "A data.frame: 6 × 19\n",
       "\n",
       "| <!--/--> | asthma &lt;dbl&gt; | BRCA &lt;dbl&gt; | CD &lt;dbl&gt; | cirrhosis &lt;dbl&gt; | COPD &lt;dbl&gt; | COVID &lt;dbl&gt; | CRC &lt;dbl&gt; | flu &lt;dbl&gt; | HBV &lt;dbl&gt; | HIV &lt;dbl&gt; | HNSCC &lt;dbl&gt; | MS &lt;dbl&gt; | NPC &lt;dbl&gt; | PS &lt;dbl&gt; | PSA &lt;dbl&gt; | RA &lt;dbl&gt; | sepsis &lt;dbl&gt; | SLE &lt;dbl&gt; | UC &lt;dbl&gt; |\n",
       "|---|---|---|---|---|---|---|---|---|---|---|---|---|---|---|---|---|---|---|---|\n",
       "| B-X-cytokine_and_receptors_proinflammatory | -0.552 |  0.257 | -0.248 | 0.761 |  0.569 | -0.345 | -0.386 | -0.230 |  0.150 | -1.790 |  0.168 |  0.460 |  0.768 | -0.865 | -0.635 | -0.408 | -0.190 |  0.247 | -0.864 |\n",
       "| T_CD8_Naive-X-adhesion_molecules |  0.345 |  2.262 |  0.144 | 1.238 | -0.217 | -1.270 | -1.171 | -1.573 |  1.873 | -0.240 |  0.344 |  0.862 |  1.560 |  0.972 |  1.446 |  1.424 | -1.454 | -0.192 |  0.849 |\n",
       "| T_CD8_Naive-X-antigen_presentation_molecules | -0.044 |  3.101 |  1.242 | 2.615 |  0.601 | -0.890 |  2.429 | -2.373 |  1.559 | -2.340 |  0.923 |  0.058 | -1.365 |  1.396 |  1.854 |  2.042 | -1.418 |  0.707 |  1.966 |\n",
       "| T_CD8_NonNaive-X-CD8T_exhaustion |  1.011 |  0.466 |  0.297 | 0.655 |  0.857 | -0.117 | -1.854 |  0.203 | -0.686 |  0.833 | -0.195 | -0.054 |  0.320 |  0.259 |  0.509 |  0.856 |  0.152 |  1.021 |  0.789 |\n",
       "| T_CD8_NonNaive-X-CD8T_tcr_activation |  0.139 | -0.774 |  0.387 | 2.066 |  0.950 |  0.036 | -1.432 | -0.040 | -1.050 | -0.867 |  0.183 | -0.262 | -0.542 | -0.068 |  0.448 |  0.530 | -0.042 |  0.949 |  1.134 |\n",
       "| T_CD8_NonNaive-X-chemokines |  0.274 | -0.738 |  0.743 | 1.366 |  0.570 |  0.074 | -1.230 |  0.182 | -3.385 | -0.946 | -0.460 | -1.247 | -2.861 | -0.384 |  0.594 |  0.947 | -0.077 |  0.776 |  0.627 |\n",
       "\n"
      ],
      "text/plain": [
       "                                             asthma BRCA   CD     cirrhosis\n",
       "B-X-cytokine_and_receptors_proinflammatory   -0.552  0.257 -0.248 0.761    \n",
       "T_CD8_Naive-X-adhesion_molecules              0.345  2.262  0.144 1.238    \n",
       "T_CD8_Naive-X-antigen_presentation_molecules -0.044  3.101  1.242 2.615    \n",
       "T_CD8_NonNaive-X-CD8T_exhaustion              1.011  0.466  0.297 0.655    \n",
       "T_CD8_NonNaive-X-CD8T_tcr_activation          0.139 -0.774  0.387 2.066    \n",
       "T_CD8_NonNaive-X-chemokines                   0.274 -0.738  0.743 1.366    \n",
       "                                             COPD   COVID  CRC    flu    HBV   \n",
       "B-X-cytokine_and_receptors_proinflammatory    0.569 -0.345 -0.386 -0.230  0.150\n",
       "T_CD8_Naive-X-adhesion_molecules             -0.217 -1.270 -1.171 -1.573  1.873\n",
       "T_CD8_Naive-X-antigen_presentation_molecules  0.601 -0.890  2.429 -2.373  1.559\n",
       "T_CD8_NonNaive-X-CD8T_exhaustion              0.857 -0.117 -1.854  0.203 -0.686\n",
       "T_CD8_NonNaive-X-CD8T_tcr_activation          0.950  0.036 -1.432 -0.040 -1.050\n",
       "T_CD8_NonNaive-X-chemokines                   0.570  0.074 -1.230  0.182 -3.385\n",
       "                                             HIV    HNSCC  MS     NPC    PS    \n",
       "B-X-cytokine_and_receptors_proinflammatory   -1.790  0.168  0.460  0.768 -0.865\n",
       "T_CD8_Naive-X-adhesion_molecules             -0.240  0.344  0.862  1.560  0.972\n",
       "T_CD8_Naive-X-antigen_presentation_molecules -2.340  0.923  0.058 -1.365  1.396\n",
       "T_CD8_NonNaive-X-CD8T_exhaustion              0.833 -0.195 -0.054  0.320  0.259\n",
       "T_CD8_NonNaive-X-CD8T_tcr_activation         -0.867  0.183 -0.262 -0.542 -0.068\n",
       "T_CD8_NonNaive-X-chemokines                  -0.946 -0.460 -1.247 -2.861 -0.384\n",
       "                                             PSA    RA     sepsis SLE    UC    \n",
       "B-X-cytokine_and_receptors_proinflammatory   -0.635 -0.408 -0.190  0.247 -0.864\n",
       "T_CD8_Naive-X-adhesion_molecules              1.446  1.424 -1.454 -0.192  0.849\n",
       "T_CD8_Naive-X-antigen_presentation_molecules  1.854  2.042 -1.418  0.707  1.966\n",
       "T_CD8_NonNaive-X-CD8T_exhaustion              0.509  0.856  0.152  1.021  0.789\n",
       "T_CD8_NonNaive-X-CD8T_tcr_activation          0.448  0.530 -0.042  0.949  1.134\n",
       "T_CD8_NonNaive-X-chemokines                   0.594  0.947 -0.077  0.776  0.627"
      ]
     },
     "metadata": {},
     "output_type": "display_data"
    }
   ],
   "source": [
    "heatmap_matrix <- as.matrix(heatmap_data[,-1])\n",
    "rownames(heatmap_matrix) <- heatmap_data$FactorName\n",
    "colnames(heatmap_matrix) <- colnames(heatmap_data)[2:length(colnames(heatmap_data))]\n",
    "#heatmap_matrix <- t(apply(heatmap_matrix, 1, scale))\n",
    "#heatmap_matrix[is.na(heatmap_matrix)] <- 0\n",
    "\n",
    "\n",
    "heatmap_df <- as.data.frame(heatmap_matrix)\n",
    "rownames(heatmap_df) <- heatmap_data$FactorName\n",
    "colnames(heatmap_df) <- colnames(heatmap_data)[2:length(colnames(heatmap_data))]\n",
    "head(heatmap_df)"
   ]
  },
  {
   "cell_type": "markdown",
   "id": "5910328e-5342-4e50-ac76-74c06bc0c84b",
   "metadata": {},
   "source": [
    "**Add missing diseases**"
   ]
  },
  {
   "cell_type": "code",
   "execution_count": 15,
   "id": "2c9af0b4-b21c-4783-a013-75490be93a59",
   "metadata": {
    "execution": {
     "iopub.execute_input": "2024-07-10T08:27:32.983180Z",
     "iopub.status.busy": "2024-07-10T08:27:32.982037Z",
     "iopub.status.idle": "2024-07-10T08:27:32.994865Z",
     "shell.execute_reply": "2024-07-10T08:27:32.993518Z"
    }
   },
   "outputs": [
    {
     "data": {
      "text/html": [
       "<style>\n",
       ".list-inline {list-style: none; margin:0; padding: 0}\n",
       ".list-inline>li {display: inline-block}\n",
       ".list-inline>li:not(:last-child)::after {content: \"\\00b7\"; padding: 0 .5ex}\n",
       "</style>\n",
       "<ol class=list-inline><li>'asthma'</li><li>'BRCA'</li><li>'CD'</li><li>'cirrhosis'</li><li>'COPD'</li><li>'COVID'</li><li>'CRC'</li><li>'flu'</li><li>'HBV'</li><li>'HIV'</li><li>'HNSCC'</li><li>'MS'</li><li>'NPC'</li><li>'PS'</li><li>'PSA'</li><li>'RA'</li><li>'sepsis'</li><li>'SLE'</li><li>'UC'</li></ol>\n"
      ],
      "text/latex": [
       "\\begin{enumerate*}\n",
       "\\item 'asthma'\n",
       "\\item 'BRCA'\n",
       "\\item 'CD'\n",
       "\\item 'cirrhosis'\n",
       "\\item 'COPD'\n",
       "\\item 'COVID'\n",
       "\\item 'CRC'\n",
       "\\item 'flu'\n",
       "\\item 'HBV'\n",
       "\\item 'HIV'\n",
       "\\item 'HNSCC'\n",
       "\\item 'MS'\n",
       "\\item 'NPC'\n",
       "\\item 'PS'\n",
       "\\item 'PSA'\n",
       "\\item 'RA'\n",
       "\\item 'sepsis'\n",
       "\\item 'SLE'\n",
       "\\item 'UC'\n",
       "\\end{enumerate*}\n"
      ],
      "text/markdown": [
       "1. 'asthma'\n",
       "2. 'BRCA'\n",
       "3. 'CD'\n",
       "4. 'cirrhosis'\n",
       "5. 'COPD'\n",
       "6. 'COVID'\n",
       "7. 'CRC'\n",
       "8. 'flu'\n",
       "9. 'HBV'\n",
       "10. 'HIV'\n",
       "11. 'HNSCC'\n",
       "12. 'MS'\n",
       "13. 'NPC'\n",
       "14. 'PS'\n",
       "15. 'PSA'\n",
       "16. 'RA'\n",
       "17. 'sepsis'\n",
       "18. 'SLE'\n",
       "19. 'UC'\n",
       "\n",
       "\n"
      ],
      "text/plain": [
       " [1] \"asthma\"    \"BRCA\"      \"CD\"        \"cirrhosis\" \"COPD\"      \"COVID\"    \n",
       " [7] \"CRC\"       \"flu\"       \"HBV\"       \"HIV\"       \"HNSCC\"     \"MS\"       \n",
       "[13] \"NPC\"       \"PS\"        \"PSA\"       \"RA\"        \"sepsis\"    \"SLE\"      \n",
       "[19] \"UC\"       "
      ]
     },
     "metadata": {},
     "output_type": "display_data"
    }
   ],
   "source": [
    "colnames(heatmap_df)"
   ]
  },
  {
   "cell_type": "code",
   "execution_count": 16,
   "id": "1e943a6e-830f-4c63-8a3b-64de098fe3cc",
   "metadata": {
    "execution": {
     "iopub.execute_input": "2024-07-10T08:27:32.997914Z",
     "iopub.status.busy": "2024-07-10T08:27:32.996852Z",
     "iopub.status.idle": "2024-07-10T08:27:33.008056Z",
     "shell.execute_reply": "2024-07-10T08:27:33.006706Z"
    },
    "scrolled": true
   },
   "outputs": [
    {
     "data": {
      "text/html": [
       "<style>\n",
       ".list-inline {list-style: none; margin:0; padding: 0}\n",
       ".list-inline>li {display: inline-block}\n",
       ".list-inline>li:not(:last-child)::after {content: \"\\00b7\"; padding: 0 .5ex}\n",
       "</style>\n",
       "<ol class=list-inline><li>'BRCA'</li><li>'CD'</li><li>'COPD'</li><li>'COVID'</li><li>'CRC'</li><li>'HBV'</li><li>'HIV'</li><li>'HNSCC'</li><li>'MS'</li><li>'NPC'</li><li>'PS'</li><li>'PSA'</li><li>'RA'</li><li>'SLE'</li><li>'UC'</li><li>'asthma'</li><li>'cirrhosis'</li><li>'flu'</li><li>'healthy'</li><li>'sepsis'</li></ol>\n"
      ],
      "text/latex": [
       "\\begin{enumerate*}\n",
       "\\item 'BRCA'\n",
       "\\item 'CD'\n",
       "\\item 'COPD'\n",
       "\\item 'COVID'\n",
       "\\item 'CRC'\n",
       "\\item 'HBV'\n",
       "\\item 'HIV'\n",
       "\\item 'HNSCC'\n",
       "\\item 'MS'\n",
       "\\item 'NPC'\n",
       "\\item 'PS'\n",
       "\\item 'PSA'\n",
       "\\item 'RA'\n",
       "\\item 'SLE'\n",
       "\\item 'UC'\n",
       "\\item 'asthma'\n",
       "\\item 'cirrhosis'\n",
       "\\item 'flu'\n",
       "\\item 'healthy'\n",
       "\\item 'sepsis'\n",
       "\\end{enumerate*}\n"
      ],
      "text/markdown": [
       "1. 'BRCA'\n",
       "2. 'CD'\n",
       "3. 'COPD'\n",
       "4. 'COVID'\n",
       "5. 'CRC'\n",
       "6. 'HBV'\n",
       "7. 'HIV'\n",
       "8. 'HNSCC'\n",
       "9. 'MS'\n",
       "10. 'NPC'\n",
       "11. 'PS'\n",
       "12. 'PSA'\n",
       "13. 'RA'\n",
       "14. 'SLE'\n",
       "15. 'UC'\n",
       "16. 'asthma'\n",
       "17. 'cirrhosis'\n",
       "18. 'flu'\n",
       "19. 'healthy'\n",
       "20. 'sepsis'\n",
       "\n",
       "\n"
      ],
      "text/plain": [
       " [1] \"BRCA\"      \"CD\"        \"COPD\"      \"COVID\"     \"CRC\"       \"HBV\"      \n",
       " [7] \"HIV\"       \"HNSCC\"     \"MS\"        \"NPC\"       \"PS\"        \"PSA\"      \n",
       "[13] \"RA\"        \"SLE\"       \"UC\"        \"asthma\"    \"cirrhosis\" \"flu\"      \n",
       "[19] \"healthy\"   \"sepsis\"   "
      ]
     },
     "metadata": {},
     "output_type": "display_data"
    }
   ],
   "source": [
    "unique(metadata$disease)"
   ]
  },
  {
   "cell_type": "code",
   "execution_count": 17,
   "id": "e9a4dac2-8c22-488f-b2f8-03ab014faf49",
   "metadata": {
    "execution": {
     "iopub.execute_input": "2024-07-10T08:27:33.011094Z",
     "iopub.status.busy": "2024-07-10T08:27:33.010029Z",
     "iopub.status.idle": "2024-07-10T08:27:33.024774Z",
     "shell.execute_reply": "2024-07-10T08:27:33.023342Z"
    }
   },
   "outputs": [],
   "source": [
    "for (disease in unique(metadata$disease)) {\n",
    "  if (!(disease %in% colnames(heatmap_df))) {\n",
    "    heatmap_df[[disease]] <- NA\n",
    "  }\n",
    "}"
   ]
  },
  {
   "cell_type": "markdown",
   "id": "37ac86e2-1eb8-4dee-8003-33f83f292ffc",
   "metadata": {},
   "source": [
    "**Disease order**"
   ]
  },
  {
   "cell_type": "code",
   "execution_count": 18,
   "id": "fa6499d7-85cf-4fd9-9418-43cbe0a72264",
   "metadata": {
    "execution": {
     "iopub.execute_input": "2024-07-10T08:27:33.027740Z",
     "iopub.status.busy": "2024-07-10T08:27:33.026709Z",
     "iopub.status.idle": "2024-07-10T08:27:33.041435Z",
     "shell.execute_reply": "2024-07-10T08:27:33.034232Z"
    }
   },
   "outputs": [],
   "source": [
    "disease_order = c(\n",
    "  'RA','PS', 'PSA', 'CD','UC','SLE', 'MS',\n",
    "    \n",
    "  'asthma', 'COPD', 'cirrhosis', \n",
    "    \n",
    "  'sepsis', \n",
    "    \n",
    "  'HIV', 'HBV', 'COVID', 'flu', \n",
    "    \n",
    "  'BRCA', 'NPC', 'HNSCC', 'CRC' \n",
    ")"
   ]
  },
  {
   "cell_type": "markdown",
   "id": "d6d09d5d-efe2-40cc-9fa8-2513b6328faf",
   "metadata": {},
   "source": [
    "**Celltype order**"
   ]
  },
  {
   "cell_type": "code",
   "execution_count": 19,
   "id": "cf93cdde-2f34-48bd-b1fe-6aa2b451bc61",
   "metadata": {
    "execution": {
     "iopub.execute_input": "2024-07-10T08:27:33.044512Z",
     "iopub.status.busy": "2024-07-10T08:27:33.043529Z",
     "iopub.status.idle": "2024-07-10T08:27:33.051840Z",
     "shell.execute_reply": "2024-07-10T08:27:33.050557Z"
    }
   },
   "outputs": [],
   "source": [
    "heatmap_celltypes_order= c(\n",
    "  'B','Plasma',\n",
    "    \n",
    "  'pDC', 'DC', 'Mono', \n",
    "        \n",
    "  'T_CD4_Naive', 'T_CD4_NonNaive', 'T_CD8_Naive', 'T_CD8_NonNaive', \n",
    "    \n",
    "  'UTC', 'ILC'\n",
    ")"
   ]
  },
  {
   "cell_type": "markdown",
   "id": "76444a1f-8952-4608-b928-0dbeddb17986",
   "metadata": {},
   "source": [
    "**Functions order**"
   ]
  },
  {
   "cell_type": "code",
   "execution_count": 20,
   "id": "0299268b-e52a-4e5b-858a-07b1d78036ab",
   "metadata": {
    "execution": {
     "iopub.execute_input": "2024-07-10T08:27:33.054587Z",
     "iopub.status.busy": "2024-07-10T08:27:33.053643Z",
     "iopub.status.idle": "2024-07-10T08:27:33.061537Z",
     "shell.execute_reply": "2024-07-10T08:27:33.060388Z"
    }
   },
   "outputs": [],
   "source": [
    "functions_order <- c('adhesion_molecules',\n",
    "    \n",
    "                'antigen_presentation_molecules',\n",
    "    \n",
    "                'cytokine_and_receptors_proinflammatory',\n",
    "                #'cytokine_and_receptors__antiinflammatory',\n",
    "                'cytokine_andreceptors_antiinflammatory',\n",
    "\n",
    "\n",
    "               'chemokines',\n",
    "               'chemokine_receptors',\n",
    "\n",
    "               'IFN_Type_1_2_Lambda',\n",
    "               'IFN_response',\n",
    "               'TNF_receptors_ligands',\n",
    "\n",
    "               'CD4T_TFH_UP',\n",
    "               'CD4T_TH1_UP',\n",
    "               'CD4T_TH2_UP',\n",
    "               'CD4T_TH17_UP',\n",
    "               \n",
    "               'Tregs_FoxP3_stabilization',\n",
    "\n",
    "               'CD8T_exhaustion',\n",
    "               'CD8T_tcr_activation',\n",
    "                \n",
    "               'effector',\n",
    "                \n",
    "               'IFNG_response',\n",
    "               'IL4-IL13_response',\n",
    "\n",
    "               'antigen-crosspresentation'\n",
    "   \n",
    "               )"
   ]
  },
  {
   "cell_type": "markdown",
   "id": "bd69df1a-7d55-4b0c-8155-a1ffbd9af2cc",
   "metadata": {},
   "source": [
    "## Color Annotations"
   ]
  },
  {
   "cell_type": "code",
   "execution_count": 21,
   "id": "ab5b513c-774f-473c-872a-87e864e561cc",
   "metadata": {
    "execution": {
     "iopub.execute_input": "2024-07-10T08:27:33.064234Z",
     "iopub.status.busy": "2024-07-10T08:27:33.063289Z",
     "iopub.status.idle": "2024-07-10T08:27:33.092209Z",
     "shell.execute_reply": "2024-07-10T08:27:33.091001Z"
    }
   },
   "outputs": [
    {
     "data": {
      "text/html": [
       "<table class=\"dataframe\">\n",
       "<caption>A data.frame: 19 × 2</caption>\n",
       "<thead>\n",
       "\t<tr><th scope=col>disease</th><th scope=col>diseaseGroup</th></tr>\n",
       "\t<tr><th scope=col>&lt;chr&gt;</th><th scope=col>&lt;fct&gt;</th></tr>\n",
       "</thead>\n",
       "<tbody>\n",
       "\t<tr><td>RA       </td><td>IMIDs               </td></tr>\n",
       "\t<tr><td>PS       </td><td>IMIDs               </td></tr>\n",
       "\t<tr><td>PSA      </td><td>IMIDs               </td></tr>\n",
       "\t<tr><td>CD       </td><td>IMIDs               </td></tr>\n",
       "\t<tr><td>UC       </td><td>IMIDs               </td></tr>\n",
       "\t<tr><td>SLE      </td><td>IMIDs               </td></tr>\n",
       "\t<tr><td>MS       </td><td>IMIDs               </td></tr>\n",
       "\t<tr><td>asthma   </td><td>chronic_inflammation</td></tr>\n",
       "\t<tr><td>COPD     </td><td>chronic_inflammation</td></tr>\n",
       "\t<tr><td>cirrhosis</td><td>chronic_inflammation</td></tr>\n",
       "\t<tr><td>sepsis   </td><td>acute_inflammation  </td></tr>\n",
       "\t<tr><td>HIV      </td><td>infection           </td></tr>\n",
       "\t<tr><td>HBV      </td><td>infection           </td></tr>\n",
       "\t<tr><td>COVID    </td><td>infection           </td></tr>\n",
       "\t<tr><td>flu      </td><td>infection           </td></tr>\n",
       "\t<tr><td>BRCA     </td><td>solid_tumor         </td></tr>\n",
       "\t<tr><td>NPC      </td><td>solid_tumor         </td></tr>\n",
       "\t<tr><td>HNSCC    </td><td>solid_tumor         </td></tr>\n",
       "\t<tr><td>CRC      </td><td>solid_tumor         </td></tr>\n",
       "</tbody>\n",
       "</table>\n"
      ],
      "text/latex": [
       "A data.frame: 19 × 2\n",
       "\\begin{tabular}{ll}\n",
       " disease & diseaseGroup\\\\\n",
       " <chr> & <fct>\\\\\n",
       "\\hline\n",
       "\t RA        & IMIDs               \\\\\n",
       "\t PS        & IMIDs               \\\\\n",
       "\t PSA       & IMIDs               \\\\\n",
       "\t CD        & IMIDs               \\\\\n",
       "\t UC        & IMIDs               \\\\\n",
       "\t SLE       & IMIDs               \\\\\n",
       "\t MS        & IMIDs               \\\\\n",
       "\t asthma    & chronic\\_inflammation\\\\\n",
       "\t COPD      & chronic\\_inflammation\\\\\n",
       "\t cirrhosis & chronic\\_inflammation\\\\\n",
       "\t sepsis    & acute\\_inflammation  \\\\\n",
       "\t HIV       & infection           \\\\\n",
       "\t HBV       & infection           \\\\\n",
       "\t COVID     & infection           \\\\\n",
       "\t flu       & infection           \\\\\n",
       "\t BRCA      & solid\\_tumor         \\\\\n",
       "\t NPC       & solid\\_tumor         \\\\\n",
       "\t HNSCC     & solid\\_tumor         \\\\\n",
       "\t CRC       & solid\\_tumor         \\\\\n",
       "\\end{tabular}\n"
      ],
      "text/markdown": [
       "\n",
       "A data.frame: 19 × 2\n",
       "\n",
       "| disease &lt;chr&gt; | diseaseGroup &lt;fct&gt; |\n",
       "|---|---|\n",
       "| RA        | IMIDs                |\n",
       "| PS        | IMIDs                |\n",
       "| PSA       | IMIDs                |\n",
       "| CD        | IMIDs                |\n",
       "| UC        | IMIDs                |\n",
       "| SLE       | IMIDs                |\n",
       "| MS        | IMIDs                |\n",
       "| asthma    | chronic_inflammation |\n",
       "| COPD      | chronic_inflammation |\n",
       "| cirrhosis | chronic_inflammation |\n",
       "| sepsis    | acute_inflammation   |\n",
       "| HIV       | infection            |\n",
       "| HBV       | infection            |\n",
       "| COVID     | infection            |\n",
       "| flu       | infection            |\n",
       "| BRCA      | solid_tumor          |\n",
       "| NPC       | solid_tumor          |\n",
       "| HNSCC     | solid_tumor          |\n",
       "| CRC       | solid_tumor          |\n",
       "\n"
      ],
      "text/plain": [
       "   disease   diseaseGroup        \n",
       "1  RA        IMIDs               \n",
       "2  PS        IMIDs               \n",
       "3  PSA       IMIDs               \n",
       "4  CD        IMIDs               \n",
       "5  UC        IMIDs               \n",
       "6  SLE       IMIDs               \n",
       "7  MS        IMIDs               \n",
       "8  asthma    chronic_inflammation\n",
       "9  COPD      chronic_inflammation\n",
       "10 cirrhosis chronic_inflammation\n",
       "11 sepsis    acute_inflammation  \n",
       "12 HIV       infection           \n",
       "13 HBV       infection           \n",
       "14 COVID     infection           \n",
       "15 flu       infection           \n",
       "16 BRCA      solid_tumor         \n",
       "17 NPC       solid_tumor         \n",
       "18 HNSCC     solid_tumor         \n",
       "19 CRC       solid_tumor         "
      ]
     },
     "metadata": {},
     "output_type": "display_data"
    }
   ],
   "source": [
    "# Prepare annotations\n",
    "# Column annotations\n",
    "col_annotations <- metadata %>%\n",
    "  arrange(diseaseGroup) %>%\n",
    "  filter(diseaseGroup != \"healthy\") %>%\n",
    "  mutate(diseaseGroup = as.factor(diseaseGroup))\n",
    "col_annotations <- col_annotations[match(disease_order, col_annotations$disease), ]\n",
    "rownames(col_annotations) <- NULL\n",
    "order_col <- col_annotations$disease\n",
    "col_annotations"
   ]
  },
  {
   "cell_type": "code",
   "execution_count": 22,
   "id": "2ea005c6-3b9b-46cf-8338-13b1b414826e",
   "metadata": {
    "execution": {
     "iopub.execute_input": "2024-07-10T08:27:33.098482Z",
     "iopub.status.busy": "2024-07-10T08:27:33.094002Z",
     "iopub.status.idle": "2024-07-10T08:27:33.106120Z",
     "shell.execute_reply": "2024-07-10T08:27:33.104886Z"
    }
   },
   "outputs": [],
   "source": [
    "col_annotations <- col_annotations %>%\n",
    "  tibble::column_to_rownames(\"disease\")"
   ]
  },
  {
   "cell_type": "code",
   "execution_count": 23,
   "id": "18ee1cf2-aa10-458f-87eb-b1964ee8d5c5",
   "metadata": {
    "execution": {
     "iopub.execute_input": "2024-07-10T08:27:33.108884Z",
     "iopub.status.busy": "2024-07-10T08:27:33.107920Z",
     "iopub.status.idle": "2024-07-10T08:27:33.115957Z",
     "shell.execute_reply": "2024-07-10T08:27:33.114746Z"
    }
   },
   "outputs": [],
   "source": [
    "col_annotations$disease <- factor(rownames(col_annotations), levels = unique(rownames(col_annotations)))"
   ]
  },
  {
   "cell_type": "code",
   "execution_count": 24,
   "id": "c9bed9aa-20bf-4892-ad7b-334729639b08",
   "metadata": {
    "execution": {
     "iopub.execute_input": "2024-07-10T08:27:33.118620Z",
     "iopub.status.busy": "2024-07-10T08:27:33.117683Z",
     "iopub.status.idle": "2024-07-10T08:27:33.127583Z",
     "shell.execute_reply": "2024-07-10T08:27:33.126326Z"
    }
   },
   "outputs": [],
   "source": [
    "row_annotDF <- heatmap_data %>%\n",
    "  mutate(Function = sapply(strsplit(as.character(FactorName), \"-X-\"), `[`, 2),\n",
    "         CellType = sapply(strsplit(as.character(FactorName), \"-X-\"), `[`, 1))"
   ]
  },
  {
   "cell_type": "code",
   "execution_count": 25,
   "id": "83da02bd-51bf-4abc-ba10-705ede66df2b",
   "metadata": {
    "execution": {
     "iopub.execute_input": "2024-07-10T08:27:33.130324Z",
     "iopub.status.busy": "2024-07-10T08:27:33.129371Z",
     "iopub.status.idle": "2024-07-10T08:27:33.161270Z",
     "shell.execute_reply": "2024-07-10T08:27:33.160066Z"
    }
   },
   "outputs": [
    {
     "data": {
      "text/html": [
       "<table class=\"dataframe\">\n",
       "<caption>A data.frame: 6 × 3</caption>\n",
       "<thead>\n",
       "\t<tr><th></th><th scope=col>FactorName</th><th scope=col>Function</th><th scope=col>CellType</th></tr>\n",
       "\t<tr><th></th><th scope=col>&lt;chr&gt;</th><th scope=col>&lt;fct&gt;</th><th scope=col>&lt;fct&gt;</th></tr>\n",
       "</thead>\n",
       "<tbody>\n",
       "\t<tr><th scope=row>1</th><td>B-X-adhesion_molecules          </td><td>adhesion_molecules</td><td>B          </td></tr>\n",
       "\t<tr><th scope=row>2</th><td>Plasma-X-adhesion_molecules     </td><td>adhesion_molecules</td><td>Plasma     </td></tr>\n",
       "\t<tr><th scope=row>3</th><td>pDC-X-adhesion_molecules        </td><td>adhesion_molecules</td><td>pDC        </td></tr>\n",
       "\t<tr><th scope=row>4</th><td>DC-X-adhesion_molecules         </td><td>adhesion_molecules</td><td>DC         </td></tr>\n",
       "\t<tr><th scope=row>5</th><td>Mono-X-adhesion_molecules       </td><td>adhesion_molecules</td><td>Mono       </td></tr>\n",
       "\t<tr><th scope=row>6</th><td>T_CD4_Naive-X-adhesion_molecules</td><td>adhesion_molecules</td><td>T_CD4_Naive</td></tr>\n",
       "</tbody>\n",
       "</table>\n"
      ],
      "text/latex": [
       "A data.frame: 6 × 3\n",
       "\\begin{tabular}{r|lll}\n",
       "  & FactorName & Function & CellType\\\\\n",
       "  & <chr> & <fct> & <fct>\\\\\n",
       "\\hline\n",
       "\t1 & B-X-adhesion\\_molecules           & adhesion\\_molecules & B          \\\\\n",
       "\t2 & Plasma-X-adhesion\\_molecules      & adhesion\\_molecules & Plasma     \\\\\n",
       "\t3 & pDC-X-adhesion\\_molecules         & adhesion\\_molecules & pDC        \\\\\n",
       "\t4 & DC-X-adhesion\\_molecules          & adhesion\\_molecules & DC         \\\\\n",
       "\t5 & Mono-X-adhesion\\_molecules        & adhesion\\_molecules & Mono       \\\\\n",
       "\t6 & T\\_CD4\\_Naive-X-adhesion\\_molecules & adhesion\\_molecules & T\\_CD4\\_Naive\\\\\n",
       "\\end{tabular}\n"
      ],
      "text/markdown": [
       "\n",
       "A data.frame: 6 × 3\n",
       "\n",
       "| <!--/--> | FactorName &lt;chr&gt; | Function &lt;fct&gt; | CellType &lt;fct&gt; |\n",
       "|---|---|---|---|\n",
       "| 1 | B-X-adhesion_molecules           | adhesion_molecules | B           |\n",
       "| 2 | Plasma-X-adhesion_molecules      | adhesion_molecules | Plasma      |\n",
       "| 3 | pDC-X-adhesion_molecules         | adhesion_molecules | pDC         |\n",
       "| 4 | DC-X-adhesion_molecules          | adhesion_molecules | DC          |\n",
       "| 5 | Mono-X-adhesion_molecules        | adhesion_molecules | Mono        |\n",
       "| 6 | T_CD4_Naive-X-adhesion_molecules | adhesion_molecules | T_CD4_Naive |\n",
       "\n"
      ],
      "text/plain": [
       "  FactorName                       Function           CellType   \n",
       "1 B-X-adhesion_molecules           adhesion_molecules B          \n",
       "2 Plasma-X-adhesion_molecules      adhesion_molecules Plasma     \n",
       "3 pDC-X-adhesion_molecules         adhesion_molecules pDC        \n",
       "4 DC-X-adhesion_molecules          adhesion_molecules DC         \n",
       "5 Mono-X-adhesion_molecules        adhesion_molecules Mono       \n",
       "6 T_CD4_Naive-X-adhesion_molecules adhesion_molecules T_CD4_Naive"
      ]
     },
     "metadata": {},
     "output_type": "display_data"
    }
   ],
   "source": [
    "# Row annotations\n",
    "row_annotations <- row_annotDF %>%\n",
    "  select(FactorName, Function, CellType) %>%\n",
    "  distinct() %>%\n",
    "  mutate(Function = as.factor(Function),\n",
    "         CellType = as.factor(CellType))\n",
    "row_annotations$CellType <- factor(row_annotations$CellType, levels = heatmap_celltypes_order)\n",
    "row_annotations$Function <- factor(row_annotations$Function, levels = functions_order)\n",
    "\n",
    "row_annotations <- row_annotations %>%\n",
    "  arrange(Function, CellType)\n",
    "  #arrange(CellType, Function)\n",
    "order_row <- row_annotations$FactorName\n",
    "head(row_annotations)"
   ]
  },
  {
   "cell_type": "code",
   "execution_count": 26,
   "id": "775549e7-38b3-4ec6-9212-07810d40de97",
   "metadata": {
    "execution": {
     "iopub.execute_input": "2024-07-10T08:27:33.163998Z",
     "iopub.status.busy": "2024-07-10T08:27:33.163031Z",
     "iopub.status.idle": "2024-07-10T08:27:33.173293Z",
     "shell.execute_reply": "2024-07-10T08:27:33.172054Z"
    }
   },
   "outputs": [],
   "source": [
    "row_annotations <- row_annotations %>% select(-Function)"
   ]
  },
  {
   "cell_type": "code",
   "execution_count": 27,
   "id": "75263246-ea68-4b18-9b4e-b892e64f9ceb",
   "metadata": {
    "execution": {
     "iopub.execute_input": "2024-07-10T08:27:33.175990Z",
     "iopub.status.busy": "2024-07-10T08:27:33.175045Z",
     "iopub.status.idle": "2024-07-10T08:27:33.184861Z",
     "shell.execute_reply": "2024-07-10T08:27:33.183659Z"
    }
   },
   "outputs": [
    {
     "data": {
      "text/html": [
       "0"
      ],
      "text/latex": [
       "0"
      ],
      "text/markdown": [
       "0"
      ],
      "text/plain": [
       "[1] 0"
      ]
     },
     "metadata": {},
     "output_type": "display_data"
    }
   ],
   "source": [
    "length(unique(row_annotations$Function))"
   ]
  },
  {
   "cell_type": "markdown",
   "id": "67288047-bf7c-49f7-9192-cda41d6a1e7f",
   "metadata": {},
   "source": [
    "### Define Palettes"
   ]
  },
  {
   "cell_type": "markdown",
   "id": "c926d798-8d24-4e2a-a5a9-68c2fabc563e",
   "metadata": {},
   "source": [
    "**Celltypes**"
   ]
  },
  {
   "cell_type": "code",
   "execution_count": 28,
   "id": "7aca44f0-8b58-4939-b842-283c93b5d9fc",
   "metadata": {
    "execution": {
     "iopub.execute_input": "2024-07-10T08:27:33.187557Z",
     "iopub.status.busy": "2024-07-10T08:27:33.186608Z",
     "iopub.status.idle": "2024-07-10T08:27:33.196740Z",
     "shell.execute_reply": "2024-07-10T08:27:33.195554Z"
    }
   },
   "outputs": [],
   "source": [
    "annotation_Level1_palette <- list(\n",
    "  'B' = '#7bc6d6',\n",
    "  'Plasma' = '#025566',\n",
    "    \n",
    "  'pDC' = '#a7c957',\n",
    "  'DC' = '#6a994e',\n",
    "  'Mono' = '#386641',\n",
    "    \n",
    "  'T_CD4_Naive' = '#fff3b0',\n",
    "  'T_CD4_NonNaive' = '#e09f3e',\n",
    "  'T_CD8_Naive' = '#9e2a2b',\n",
    "  'T_CD8_NonNaive' = '#540b0e',\n",
    "    \n",
    "  'UTC' = '#88657f',\n",
    "  'ILC' = '#67253a',\n",
    "    \n",
    "  'Cycling_cells' = '#d4a373',\n",
    "  'Progenitors' = '#ccd5ae',\n",
    "    \n",
    "  'Platelets' = '#808080',  # To remove\n",
    "  'RBC' = '#000000'         # To remove\n",
    ")\n",
    "celltype_names <- names(annotation_Level1_palette)\n",
    "l1_palette <- unlist(annotation_Level1_palette)"
   ]
  },
  {
   "cell_type": "markdown",
   "id": "65fc6cb1-c88b-4dea-b02b-1f0d2a9a3560",
   "metadata": {},
   "source": [
    "**Diseases**"
   ]
  },
  {
   "cell_type": "code",
   "execution_count": 29,
   "id": "b46b7e2d-d186-4cb1-9373-c3a344cf27ba",
   "metadata": {
    "execution": {
     "iopub.execute_input": "2024-07-10T08:27:33.199410Z",
     "iopub.status.busy": "2024-07-10T08:27:33.198476Z",
     "iopub.status.idle": "2024-07-10T08:27:33.233173Z",
     "shell.execute_reply": "2024-07-10T08:27:33.231884Z"
    }
   },
   "outputs": [],
   "source": [
    "# Create the named list\n",
    "diseases_palette <- list(\n",
    "  'healthy' = \"#808080\",\n",
    "    \n",
    "  'RA' = '#264653',\n",
    "  'PS' = '#287271',\n",
    "  'PSA' = '#2a9d8f',\n",
    "  'CD' = '#e76f51',\n",
    "  'UC' = '#e9c46a',\n",
    "  'SLE' = '#941c2f', \n",
    "  'MS' = '#8ab17d',\n",
    "    \n",
    "  'asthma' = '#ea698b',\n",
    "  'COPD' = '#c05299',\n",
    "  'cirrhosis' = '#973aa8',\n",
    "    \n",
    "  'sepsis' = '#ef233c',\n",
    "    \n",
    "  'HIV' = '#e7ecef',\n",
    "  'HBV' = '#a3cef1',\n",
    "  'COVID' = '#6096ba', \n",
    "  'flu' = '#274c77', \n",
    "    \n",
    "  'BRCA' = '#fff75e',\n",
    "  'NPC' = '#fdb833',\n",
    "  'HNSCC' = '#d9981a',\n",
    "  'CRC' = '#9e7524'\n",
    ")\n",
    "\n",
    "# Generate vectors for keys and values\n",
    "diseases <- names(diseases_palette)\n",
    "disease_palette <- unlist(diseases_palette)"
   ]
  },
  {
   "cell_type": "markdown",
   "id": "5df044ed-5107-4b43-965d-03d8d2210742",
   "metadata": {},
   "source": [
    "**DiseaseGroup**"
   ]
  },
  {
   "cell_type": "code",
   "execution_count": 30,
   "id": "0c4c8ce0-0ecb-4840-b7b5-81d1939e442e",
   "metadata": {
    "execution": {
     "iopub.execute_input": "2024-07-10T08:27:33.235857Z",
     "iopub.status.busy": "2024-07-10T08:27:33.234915Z",
     "iopub.status.idle": "2024-07-10T08:27:33.245439Z",
     "shell.execute_reply": "2024-07-10T08:27:33.244247Z"
    }
   },
   "outputs": [],
   "source": [
    "diseasesGroup_palette <- list(\n",
    "  'IMIDs' = '#2a9d8f',\n",
    "  'solid_tumor' = '#e3a52d',\n",
    "  'chronic_inflammation' = '#ffafcc',\n",
    "  'acute_inflammation' = '#ef233c',\n",
    "  'infection' = '#abc4ff',\n",
    "  'healthy' = '#808080'\n",
    ")\n",
    "\n",
    "# Generate vectors for keys and values\n",
    "diseaseGroups <- names(diseasesGroup_palette)\n",
    "diseaseGroups_palette <- unlist(diseasesGroup_palette)"
   ]
  },
  {
   "cell_type": "markdown",
   "id": "fc36ead4-77c2-4bc1-8339-31794564c34d",
   "metadata": {},
   "source": [
    "**Functions**"
   ]
  },
  {
   "cell_type": "code",
   "execution_count": 31,
   "id": "92b4a59e-e977-4480-aa1a-219a75fbbb69",
   "metadata": {
    "execution": {
     "iopub.execute_input": "2024-07-10T08:27:33.248126Z",
     "iopub.status.busy": "2024-07-10T08:27:33.247189Z",
     "iopub.status.idle": "2024-07-10T08:27:33.255442Z",
     "shell.execute_reply": "2024-07-10T08:27:33.254261Z"
    }
   },
   "outputs": [],
   "source": [
    "function_palette <- c(\n",
    "  \"#f3c300\", \"#875692\", \"#f38400\", \"#a1caf1\", \"#be0032\", \"#c2b280\",\n",
    "  \"#848482\", \"#008856\", \"#e68fac\", \"#0067a5\", \"#f99379\", \"#604e97\",\n",
    "  \"#f6a600\", \"#b3446c\", \"#dcd300\", \"#882d17\", \"#8db600\", \"#654522\",\n",
    "  \"#e25822\", \"#2b3d26\", \"#ff69b4\" # Added a new color\n",
    ")\n"
   ]
  },
  {
   "cell_type": "code",
   "execution_count": 32,
   "id": "23295e37-cebc-4843-a639-699ea50b1903",
   "metadata": {
    "execution": {
     "iopub.execute_input": "2024-07-10T08:27:33.258113Z",
     "iopub.status.busy": "2024-07-10T08:27:33.257168Z",
     "iopub.status.idle": "2024-07-10T08:27:33.266807Z",
     "shell.execute_reply": "2024-07-10T08:27:33.265650Z"
    }
   },
   "outputs": [
    {
     "data": {
      "text/html": [
       "0"
      ],
      "text/latex": [
       "0"
      ],
      "text/markdown": [
       "0"
      ],
      "text/plain": [
       "[1] 0"
      ]
     },
     "metadata": {},
     "output_type": "display_data"
    }
   ],
   "source": [
    "length(levels(row_annotations$Function))"
   ]
  },
  {
   "cell_type": "markdown",
   "id": "8ca6af11-7140-4a11-a2f2-159c4ba9f00b",
   "metadata": {},
   "source": [
    "**Generate breaks for scale**"
   ]
  },
  {
   "cell_type": "raw",
   "id": "744d2b6c-daf0-4f34-96fe-20f5764af240",
   "metadata": {
    "execution": {
     "iopub.execute_input": "2024-06-20T11:19:21.851236Z",
     "iopub.status.busy": "2024-06-20T11:19:21.850296Z",
     "iopub.status.idle": "2024-06-20T11:19:21.888488Z",
     "shell.execute_reply": "2024-06-20T11:19:21.887289Z"
    }
   },
   "source": [
    "# Define the range and midpoint\n",
    "range_min <- -15\n",
    "range_max <- 8\n",
    "midpoint <- 0\n",
    "palette_length <- 50\n",
    "\n",
    "# Define the custom color palette using circlize::colorRamp2\n",
    "my_color_funct <- circlize::colorRamp2(c(range_min, midpoint, range_max), c(\"blue\", \"white\", \"red\"))\n",
    "\n",
    "# Create the sequence ensuring -1, 0, and 1 are included\n",
    "values_long <- unique(c(seq(range_min, range_max, length.out = palette_length)))\n",
    "values_long <- sort(values_long)\n",
    "\n",
    "# Remove closest values to -1, any number between -1 and 1, and closest to 1\n",
    "values_long <- remove_closest(values_long, -1)\n",
    "#values <- values[values < -1 | values > 1]  # Remove values between -1 and 1\n",
    "values_long <- remove_closest(values_long, 1)\n",
    "\n",
    "# Ensure 0 is included\n",
    "values_long <- sort(unique(c(values_long, -1, 0, 1)))\n",
    "\n",
    "# Apply the color function to the sequence of values\n",
    "my_color <- my_color_funct(values_long)\n",
    "setNames(my_color, values_long)"
   ]
  },
  {
   "cell_type": "raw",
   "id": "837025f5-acf5-460b-aa56-6d377b244261",
   "metadata": {
    "execution": {
     "iopub.execute_input": "2024-06-20T11:19:21.891126Z",
     "iopub.status.busy": "2024-06-20T11:19:21.890198Z",
     "iopub.status.idle": "2024-06-20T11:19:21.921193Z",
     "shell.execute_reply": "2024-06-20T11:19:21.920005Z"
    }
   },
   "source": [
    "# Define the range and midpoint\n",
    "range_min <- -15\n",
    "range_max <- 8\n",
    "midpoint <- 0\n",
    "palette_length <- 10\n",
    "\n",
    "# Define the custom color palette using circlize::colorRamp2\n",
    "my_color_funct <- circlize::colorRamp2(c(range_min, midpoint, range_max), c(\"blue\", \"white\",\"red\"))\n",
    "\n",
    "\n",
    "# Create the sequence ensuring -1, 0, and 1 are included\n",
    "values <- unique(c(seq(range_min, range_max, length.out = palette_length)))\n",
    "values <- sort(values)\n",
    "\n",
    "# Remove closest values to -1, any number between -1 and 1, and closest to 1\n",
    "values <- remove_closest(values, -1)\n",
    "#values <- values[values < -1 | values > 1]  # Remove values between -1 and 1\n",
    "values <- remove_closest(values, 1)\n",
    "\n",
    "# Ensure 0 is included\n",
    "values <- sort(unique(c(values, -1, 0, 1)))\n",
    "values <- c(-15, -12, -9, -6, -3, -1, 1, 3, 6, 9)\n",
    "\n",
    "# Apply the color function to the sequence of values\n",
    "my_colors_hex <- my_color_funct(values)\n",
    "my_colors <- setNames(my_colors_hex, values)\n",
    "my_color <- unname(my_colors)\n",
    "my_color"
   ]
  },
  {
   "cell_type": "raw",
   "id": "a6f5a13f-535d-49b5-8207-194f88e5d7cf",
   "metadata": {
    "execution": {
     "iopub.execute_input": "2024-06-20T11:19:21.923923Z",
     "iopub.status.busy": "2024-06-20T11:19:21.922955Z",
     "iopub.status.idle": "2024-06-20T11:19:21.933111Z",
     "shell.execute_reply": "2024-06-20T11:19:21.931937Z"
    }
   },
   "source": [
    "my_colors"
   ]
  },
  {
   "cell_type": "markdown",
   "id": "3e6d2f65-7d0a-424c-8bf8-4b61bf08c5ec",
   "metadata": {},
   "source": [
    "**Define scale palette**"
   ]
  },
  {
   "cell_type": "raw",
   "id": "8f5a3b70-e28f-4036-8d14-6a53805b2c6f",
   "metadata": {
    "execution": {
     "iopub.execute_input": "2024-06-28T11:25:54.798208Z",
     "iopub.status.busy": "2024-06-28T11:25:54.797061Z",
     "iopub.status.idle": "2024-06-28T11:25:54.827248Z",
     "shell.execute_reply": "2024-06-28T11:25:54.820169Z"
    }
   },
   "source": [
    "my_color_funct <- circlize::colorRamp2(c(range_min, range_max), c(\"blue\", \"red\"))\n",
    "values <- c(-15, -12, -9, -6, -3, -1, 0, 1, 3, 6, 9)\n",
    "my_colors_hex <- my_color_funct(values)\n",
    "my_colors <- setNames(my_colors_hex, values)\n",
    "my_colors"
   ]
  },
  {
   "cell_type": "code",
   "execution_count": 33,
   "id": "7648f2a9-c259-4fb4-95b9-0836def8da6d",
   "metadata": {
    "execution": {
     "iopub.execute_input": "2024-07-10T08:27:33.269450Z",
     "iopub.status.busy": "2024-07-10T08:27:33.268513Z",
     "iopub.status.idle": "2024-07-10T08:27:33.282810Z",
     "shell.execute_reply": "2024-07-10T08:27:33.281420Z"
    }
   },
   "outputs": [
    {
     "data": {
      "text/html": [
       "18.745"
      ],
      "text/latex": [
       "18.745"
      ],
      "text/markdown": [
       "18.745"
      ],
      "text/plain": [
       "[1] 18.745"
      ]
     },
     "metadata": {},
     "output_type": "display_data"
    }
   ],
   "source": [
    "max(unlist(heatmap_df), na.rm = TRUE)"
   ]
  },
  {
   "cell_type": "code",
   "execution_count": 34,
   "id": "c3510d6d-3b56-4479-9541-c8eb5c14bdf2",
   "metadata": {
    "execution": {
     "iopub.execute_input": "2024-07-10T08:27:33.285588Z",
     "iopub.status.busy": "2024-07-10T08:27:33.284630Z",
     "iopub.status.idle": "2024-07-10T08:27:33.295403Z",
     "shell.execute_reply": "2024-07-10T08:27:33.294233Z"
    }
   },
   "outputs": [
    {
     "data": {
      "text/html": [
       "-15.741"
      ],
      "text/latex": [
       "-15.741"
      ],
      "text/markdown": [
       "-15.741"
      ],
      "text/plain": [
       "[1] -15.741"
      ]
     },
     "metadata": {},
     "output_type": "display_data"
    }
   ],
   "source": [
    "min(unlist(heatmap_df), na.rm = TRUE)"
   ]
  },
  {
   "cell_type": "raw",
   "id": "80151867-26d6-42a3-b627-8364f70e6e7f",
   "metadata": {
    "execution": {
     "iopub.execute_input": "2024-06-28T16:19:34.553683Z",
     "iopub.status.busy": "2024-06-28T16:19:34.552749Z",
     "iopub.status.idle": "2024-06-28T16:19:34.569957Z",
     "shell.execute_reply": "2024-06-28T16:19:34.565480Z"
    }
   },
   "source": [
    "values <- c(-15, -12, -9, -6, -3, -1, -0.0001, 0, 0.0001, 1, 3, 6, 9, 12)\n",
    "my_colors_hex <- c('#0000B2','#0000FFFF','#7145FFFF','#A074FFFF','#C4A2FFFF','#E3D0FFFF',\n",
    "                   '#F6EFFFFF', # -0.0001, \n",
    "                   \"white\", \n",
    "                   \"#FFE7DEFF\",\n",
    "                   '#f3aea6','#e85e4e','#9e2517', \"#713311\",\"#451f0a\") #9e2517\n",
    "my_colors <- setNames(my_colors_hex, values)\n",
    "my_color <- unname(my_colors)\n",
    "my_color"
   ]
  },
  {
   "cell_type": "code",
   "execution_count": 35,
   "id": "2baf58c8-dc21-4ca5-88a6-3b4283868495",
   "metadata": {
    "execution": {
     "iopub.execute_input": "2024-07-10T08:27:33.298090Z",
     "iopub.status.busy": "2024-07-10T08:27:33.297154Z",
     "iopub.status.idle": "2024-07-10T08:27:33.305020Z",
     "shell.execute_reply": "2024-07-10T08:27:33.303831Z"
    }
   },
   "outputs": [],
   "source": [
    "clipValues <- function(v, minV, maxV) {\n",
    "    if (is.na(v)) {\n",
    "        return(v)\n",
    "    }else if (v >= 0) {\n",
    "        return(min(v, maxV))\n",
    "    } else if (v < 0) {\n",
    "        return(max(v, minV))\n",
    "    } \n",
    "}"
   ]
  },
  {
   "cell_type": "code",
   "execution_count": 36,
   "id": "bbb3e5d9-f10c-482f-9a8e-0fc963da5cef",
   "metadata": {
    "execution": {
     "iopub.execute_input": "2024-07-10T08:27:33.307741Z",
     "iopub.status.busy": "2024-07-10T08:27:33.306764Z",
     "iopub.status.idle": "2024-07-10T08:27:33.324842Z",
     "shell.execute_reply": "2024-07-10T08:27:33.323527Z"
    }
   },
   "outputs": [],
   "source": [
    "# COLOR PALETTE\n",
    "\n",
    "# Manual definition\n",
    "# clrP <- colorRampPalette(c(\"#ffffc1\", \"#6b001d\"))(100)\n",
    "# clrN <- colorRampPalette(c(\"#0a2258\", \"#f5faff\"))(100)\n",
    "\n",
    "# Predefined color palette\n",
    "clrP <- colorRampPalette(brewer.pal(n = 9, name = \"YlOrRd\"))(100)\n",
    "clrN <- colorRampPalette(rev(brewer.pal(n = 9, name = \"Blues\")))(100)\n",
    "\n",
    "clr <- c(clrN, clrP)"
   ]
  },
  {
   "cell_type": "code",
   "execution_count": 37,
   "id": "6bcd5a37-9178-4f45-b9ed-11674574e3b3",
   "metadata": {
    "execution": {
     "iopub.execute_input": "2024-07-10T08:27:33.327546Z",
     "iopub.status.busy": "2024-07-10T08:27:33.326586Z",
     "iopub.status.idle": "2024-07-10T08:27:33.342448Z",
     "shell.execute_reply": "2024-07-10T08:27:33.341121Z"
    }
   },
   "outputs": [],
   "source": [
    "# VALUE RANGES (those values are passed to clipValues function)\n",
    "\n",
    "# NO CONSTRAINTS\n",
    "# max_value = max(heatmap_df, na.rm = T)\n",
    "# min_value = min(heatmap_df, na.rm = T)\n",
    "\n",
    "# CLIPPEND WITH QUANTILE\n",
    "max_value = quantile(heatmap_df[heatmap_df >= 0], na.rm = T, probs = .99)\n",
    "min_value = quantile(heatmap_df[heatmap_df < 0], na.rm = T, probs = .01)"
   ]
  },
  {
   "cell_type": "markdown",
   "id": "59f08307-0b75-45f3-90d6-46bd76328563",
   "metadata": {},
   "source": [
    "**Define annotation palette**"
   ]
  },
  {
   "cell_type": "code",
   "execution_count": 38,
   "id": "1fb158d6-3a82-4d20-ba57-a2cdd270b5cc",
   "metadata": {
    "execution": {
     "iopub.execute_input": "2024-07-10T08:27:33.345251Z",
     "iopub.status.busy": "2024-07-10T08:27:33.344300Z",
     "iopub.status.idle": "2024-07-10T08:27:33.361677Z",
     "shell.execute_reply": "2024-07-10T08:27:33.360406Z"
    }
   },
   "outputs": [],
   "source": [
    "# DiseaseGroup\n",
    "subset_groups <- intersect(diseaseGroups, levels(col_annotations$diseaseGroup))\n",
    "disease_group_colors <- diseaseGroups_palette[subset_groups]\n",
    "# Disease\n",
    "subset_diseases <- intersect(diseases, levels(col_annotations$disease))\n",
    "disease_colors <- disease_palette[subset_diseases]\n",
    "# Celltype\n",
    "subset_celltype <- intersect(celltype_names, levels(row_annotations$CellType))\n",
    "cell_type_colors <- l1_palette[subset_celltype]\n",
    "# Function\n",
    "function_colors <-   function_palette\n",
    "\n",
    "# Create the annotation colors list\n",
    "my_colour_annot <- list(\n",
    "  diseaseGroup = setNames(disease_group_colors, subset_groups),\n",
    "  disease = setNames(disease_colors, subset_diseases),\n",
    "  #Function = setNames(function_colors, levels(row_annotations$Function))\n",
    "  CellType = setNames(cell_type_colors, subset_celltype)\n",
    ")"
   ]
  },
  {
   "cell_type": "code",
   "execution_count": 39,
   "id": "284eeb80-9cd6-41de-9b43-e0624e7c3a94",
   "metadata": {
    "execution": {
     "iopub.execute_input": "2024-07-10T08:27:33.364439Z",
     "iopub.status.busy": "2024-07-10T08:27:33.363466Z",
     "iopub.status.idle": "2024-07-10T08:27:33.376055Z",
     "shell.execute_reply": "2024-07-10T08:27:33.374889Z"
    }
   },
   "outputs": [
    {
     "data": {
      "text/html": [
       "<dl>\n",
       "\t<dt>$diseaseGroup</dt>\n",
       "\t\t<dd><style>\n",
       ".dl-inline {width: auto; margin:0; padding: 0}\n",
       ".dl-inline>dt, .dl-inline>dd {float: none; width: auto; display: inline-block}\n",
       ".dl-inline>dt::after {content: \":\\0020\"; padding-right: .5ex}\n",
       ".dl-inline>dt:not(:first-of-type) {padding-left: .5ex}\n",
       "</style><dl class=dl-inline><dt>IMIDs</dt><dd>'#2a9d8f'</dd><dt>solid_tumor</dt><dd>'#e3a52d'</dd><dt>chronic_inflammation</dt><dd>'#ffafcc'</dd><dt>acute_inflammation</dt><dd>'#ef233c'</dd><dt>infection</dt><dd>'#abc4ff'</dd></dl>\n",
       "</dd>\n",
       "\t<dt>$disease</dt>\n",
       "\t\t<dd><style>\n",
       ".dl-inline {width: auto; margin:0; padding: 0}\n",
       ".dl-inline>dt, .dl-inline>dd {float: none; width: auto; display: inline-block}\n",
       ".dl-inline>dt::after {content: \":\\0020\"; padding-right: .5ex}\n",
       ".dl-inline>dt:not(:first-of-type) {padding-left: .5ex}\n",
       "</style><dl class=dl-inline><dt>RA</dt><dd>'#264653'</dd><dt>PS</dt><dd>'#287271'</dd><dt>PSA</dt><dd>'#2a9d8f'</dd><dt>CD</dt><dd>'#e76f51'</dd><dt>UC</dt><dd>'#e9c46a'</dd><dt>SLE</dt><dd>'#941c2f'</dd><dt>MS</dt><dd>'#8ab17d'</dd><dt>asthma</dt><dd>'#ea698b'</dd><dt>COPD</dt><dd>'#c05299'</dd><dt>cirrhosis</dt><dd>'#973aa8'</dd><dt>sepsis</dt><dd>'#ef233c'</dd><dt>HIV</dt><dd>'#e7ecef'</dd><dt>HBV</dt><dd>'#a3cef1'</dd><dt>COVID</dt><dd>'#6096ba'</dd><dt>flu</dt><dd>'#274c77'</dd><dt>BRCA</dt><dd>'#fff75e'</dd><dt>NPC</dt><dd>'#fdb833'</dd><dt>HNSCC</dt><dd>'#d9981a'</dd><dt>CRC</dt><dd>'#9e7524'</dd></dl>\n",
       "</dd>\n",
       "\t<dt>$CellType</dt>\n",
       "\t\t<dd><style>\n",
       ".dl-inline {width: auto; margin:0; padding: 0}\n",
       ".dl-inline>dt, .dl-inline>dd {float: none; width: auto; display: inline-block}\n",
       ".dl-inline>dt::after {content: \":\\0020\"; padding-right: .5ex}\n",
       ".dl-inline>dt:not(:first-of-type) {padding-left: .5ex}\n",
       "</style><dl class=dl-inline><dt>B</dt><dd>'#7bc6d6'</dd><dt>Plasma</dt><dd>'#025566'</dd><dt>pDC</dt><dd>'#a7c957'</dd><dt>DC</dt><dd>'#6a994e'</dd><dt>Mono</dt><dd>'#386641'</dd><dt>T_CD4_Naive</dt><dd>'#fff3b0'</dd><dt>T_CD4_NonNaive</dt><dd>'#e09f3e'</dd><dt>T_CD8_Naive</dt><dd>'#9e2a2b'</dd><dt>T_CD8_NonNaive</dt><dd>'#540b0e'</dd><dt>UTC</dt><dd>'#88657f'</dd><dt>ILC</dt><dd>'#67253a'</dd></dl>\n",
       "</dd>\n",
       "</dl>\n"
      ],
      "text/latex": [
       "\\begin{description}\n",
       "\\item[\\$diseaseGroup] \\begin{description*}\n",
       "\\item[IMIDs] '\\#2a9d8f'\n",
       "\\item[solid\\textbackslash{}\\_tumor] '\\#e3a52d'\n",
       "\\item[chronic\\textbackslash{}\\_inflammation] '\\#ffafcc'\n",
       "\\item[acute\\textbackslash{}\\_inflammation] '\\#ef233c'\n",
       "\\item[infection] '\\#abc4ff'\n",
       "\\end{description*}\n",
       "\n",
       "\\item[\\$disease] \\begin{description*}\n",
       "\\item[RA] '\\#264653'\n",
       "\\item[PS] '\\#287271'\n",
       "\\item[PSA] '\\#2a9d8f'\n",
       "\\item[CD] '\\#e76f51'\n",
       "\\item[UC] '\\#e9c46a'\n",
       "\\item[SLE] '\\#941c2f'\n",
       "\\item[MS] '\\#8ab17d'\n",
       "\\item[asthma] '\\#ea698b'\n",
       "\\item[COPD] '\\#c05299'\n",
       "\\item[cirrhosis] '\\#973aa8'\n",
       "\\item[sepsis] '\\#ef233c'\n",
       "\\item[HIV] '\\#e7ecef'\n",
       "\\item[HBV] '\\#a3cef1'\n",
       "\\item[COVID] '\\#6096ba'\n",
       "\\item[flu] '\\#274c77'\n",
       "\\item[BRCA] '\\#fff75e'\n",
       "\\item[NPC] '\\#fdb833'\n",
       "\\item[HNSCC] '\\#d9981a'\n",
       "\\item[CRC] '\\#9e7524'\n",
       "\\end{description*}\n",
       "\n",
       "\\item[\\$CellType] \\begin{description*}\n",
       "\\item[B] '\\#7bc6d6'\n",
       "\\item[Plasma] '\\#025566'\n",
       "\\item[pDC] '\\#a7c957'\n",
       "\\item[DC] '\\#6a994e'\n",
       "\\item[Mono] '\\#386641'\n",
       "\\item[T\\textbackslash{}\\_CD4\\textbackslash{}\\_Naive] '\\#fff3b0'\n",
       "\\item[T\\textbackslash{}\\_CD4\\textbackslash{}\\_NonNaive] '\\#e09f3e'\n",
       "\\item[T\\textbackslash{}\\_CD8\\textbackslash{}\\_Naive] '\\#9e2a2b'\n",
       "\\item[T\\textbackslash{}\\_CD8\\textbackslash{}\\_NonNaive] '\\#540b0e'\n",
       "\\item[UTC] '\\#88657f'\n",
       "\\item[ILC] '\\#67253a'\n",
       "\\end{description*}\n",
       "\n",
       "\\end{description}\n"
      ],
      "text/markdown": [
       "$diseaseGroup\n",
       ":   IMIDs\n",
       ":   '#2a9d8f'solid_tumor\n",
       ":   '#e3a52d'chronic_inflammation\n",
       ":   '#ffafcc'acute_inflammation\n",
       ":   '#ef233c'infection\n",
       ":   '#abc4ff'\n",
       "\n",
       "\n",
       "$disease\n",
       ":   RA\n",
       ":   '#264653'PS\n",
       ":   '#287271'PSA\n",
       ":   '#2a9d8f'CD\n",
       ":   '#e76f51'UC\n",
       ":   '#e9c46a'SLE\n",
       ":   '#941c2f'MS\n",
       ":   '#8ab17d'asthma\n",
       ":   '#ea698b'COPD\n",
       ":   '#c05299'cirrhosis\n",
       ":   '#973aa8'sepsis\n",
       ":   '#ef233c'HIV\n",
       ":   '#e7ecef'HBV\n",
       ":   '#a3cef1'COVID\n",
       ":   '#6096ba'flu\n",
       ":   '#274c77'BRCA\n",
       ":   '#fff75e'NPC\n",
       ":   '#fdb833'HNSCC\n",
       ":   '#d9981a'CRC\n",
       ":   '#9e7524'\n",
       "\n",
       "\n",
       "$CellType\n",
       ":   B\n",
       ":   '#7bc6d6'Plasma\n",
       ":   '#025566'pDC\n",
       ":   '#a7c957'DC\n",
       ":   '#6a994e'Mono\n",
       ":   '#386641'T_CD4_Naive\n",
       ":   '#fff3b0'T_CD4_NonNaive\n",
       ":   '#e09f3e'T_CD8_Naive\n",
       ":   '#9e2a2b'T_CD8_NonNaive\n",
       ":   '#540b0e'UTC\n",
       ":   '#88657f'ILC\n",
       ":   '#67253a'\n",
       "\n",
       "\n",
       "\n",
       "\n"
      ],
      "text/plain": [
       "$diseaseGroup\n",
       "               IMIDs          solid_tumor chronic_inflammation \n",
       "           \"#2a9d8f\"            \"#e3a52d\"            \"#ffafcc\" \n",
       "  acute_inflammation            infection \n",
       "           \"#ef233c\"            \"#abc4ff\" \n",
       "\n",
       "$disease\n",
       "       RA        PS       PSA        CD        UC       SLE        MS    asthma \n",
       "\"#264653\" \"#287271\" \"#2a9d8f\" \"#e76f51\" \"#e9c46a\" \"#941c2f\" \"#8ab17d\" \"#ea698b\" \n",
       "     COPD cirrhosis    sepsis       HIV       HBV     COVID       flu      BRCA \n",
       "\"#c05299\" \"#973aa8\" \"#ef233c\" \"#e7ecef\" \"#a3cef1\" \"#6096ba\" \"#274c77\" \"#fff75e\" \n",
       "      NPC     HNSCC       CRC \n",
       "\"#fdb833\" \"#d9981a\" \"#9e7524\" \n",
       "\n",
       "$CellType\n",
       "             B         Plasma            pDC             DC           Mono \n",
       "     \"#7bc6d6\"      \"#025566\"      \"#a7c957\"      \"#6a994e\"      \"#386641\" \n",
       "   T_CD4_Naive T_CD4_NonNaive    T_CD8_Naive T_CD8_NonNaive            UTC \n",
       "     \"#fff3b0\"      \"#e09f3e\"      \"#9e2a2b\"      \"#540b0e\"      \"#88657f\" \n",
       "           ILC \n",
       "     \"#67253a\" \n"
      ]
     },
     "metadata": {},
     "output_type": "display_data"
    }
   ],
   "source": [
    "my_colour_annot"
   ]
  },
  {
   "cell_type": "markdown",
   "id": "35064fa2-9a2c-4f5d-a50d-02492b9a3aa9",
   "metadata": {},
   "source": [
    "## Generate Heatmap"
   ]
  },
  {
   "cell_type": "code",
   "execution_count": 40,
   "id": "024ea4ee-22f0-4ecc-bab4-8a1fc797ae59",
   "metadata": {
    "execution": {
     "iopub.execute_input": "2024-07-10T08:27:33.378720Z",
     "iopub.status.busy": "2024-07-10T08:27:33.377776Z",
     "iopub.status.idle": "2024-07-10T08:27:33.390853Z",
     "shell.execute_reply": "2024-07-10T08:27:33.386318Z"
    }
   },
   "outputs": [
    {
     "data": {
      "text/html": [
       "119"
      ],
      "text/latex": [
       "119"
      ],
      "text/markdown": [
       "119"
      ],
      "text/plain": [
       "[1] 119"
      ]
     },
     "metadata": {},
     "output_type": "display_data"
    }
   ],
   "source": [
    "length(order_row)"
   ]
  },
  {
   "cell_type": "code",
   "execution_count": 41,
   "id": "e9fe2666-308b-4fdb-ac4d-26ca4c26bbd5",
   "metadata": {
    "execution": {
     "iopub.execute_input": "2024-07-10T08:27:33.393824Z",
     "iopub.status.busy": "2024-07-10T08:27:33.392828Z",
     "iopub.status.idle": "2024-07-10T08:27:33.402838Z",
     "shell.execute_reply": "2024-07-10T08:27:33.401670Z"
    }
   },
   "outputs": [
    {
     "data": {
      "text/html": [
       "19"
      ],
      "text/latex": [
       "19"
      ],
      "text/markdown": [
       "19"
      ],
      "text/plain": [
       "[1] 19"
      ]
     },
     "metadata": {},
     "output_type": "display_data"
    }
   ],
   "source": [
    "length(order_col)"
   ]
  },
  {
   "cell_type": "code",
   "execution_count": 42,
   "id": "76f1013a-097e-40ab-91fc-48b69e227b97",
   "metadata": {
    "execution": {
     "iopub.execute_input": "2024-07-10T08:27:33.405553Z",
     "iopub.status.busy": "2024-07-10T08:27:33.404602Z",
     "iopub.status.idle": "2024-07-10T08:27:33.415717Z",
     "shell.execute_reply": "2024-07-10T08:27:33.414554Z"
    }
   },
   "outputs": [
    {
     "name": "stdout",
     "output_type": "stream",
     "text": [
      "[1] 19\n",
      "[1] 119\n"
     ]
    }
   ],
   "source": [
    "print(ncol(heatmap_matrix))\n",
    "print(nrow(heatmap_matrix))"
   ]
  },
  {
   "cell_type": "code",
   "execution_count": 43,
   "id": "3de2d8ea-251d-449d-9d8d-6d219257de74",
   "metadata": {
    "execution": {
     "iopub.execute_input": "2024-07-10T08:27:33.418431Z",
     "iopub.status.busy": "2024-07-10T08:27:33.417489Z",
     "iopub.status.idle": "2024-07-10T08:27:33.427396Z",
     "shell.execute_reply": "2024-07-10T08:27:33.426240Z"
    }
   },
   "outputs": [
    {
     "data": {
      "text/html": [
       "TRUE"
      ],
      "text/latex": [
       "TRUE"
      ],
      "text/markdown": [
       "TRUE"
      ],
      "text/plain": [
       "[1] TRUE"
      ]
     },
     "metadata": {},
     "output_type": "display_data"
    }
   ],
   "source": [
    "all(rownames(heatmap_df) %in% order_row)"
   ]
  },
  {
   "cell_type": "code",
   "execution_count": 44,
   "id": "9fdf6914-d133-4fe5-a4b6-c2325c21b963",
   "metadata": {
    "execution": {
     "iopub.execute_input": "2024-07-10T08:27:33.430076Z",
     "iopub.status.busy": "2024-07-10T08:27:33.429130Z",
     "iopub.status.idle": "2024-07-10T08:27:33.442808Z",
     "shell.execute_reply": "2024-07-10T08:27:33.441511Z"
    }
   },
   "outputs": [
    {
     "data": {
      "text/html": [
       "FALSE"
      ],
      "text/latex": [
       "FALSE"
      ],
      "text/markdown": [
       "FALSE"
      ],
      "text/plain": [
       "[1] FALSE"
      ]
     },
     "metadata": {},
     "output_type": "display_data"
    }
   ],
   "source": [
    "all(colnames(heatmap_df) %in% order_col)"
   ]
  },
  {
   "cell_type": "code",
   "execution_count": 45,
   "id": "bde63601-63d2-4c1d-a78b-2cf29e936e98",
   "metadata": {
    "execution": {
     "iopub.execute_input": "2024-07-10T08:27:33.445607Z",
     "iopub.status.busy": "2024-07-10T08:27:33.444655Z",
     "iopub.status.idle": "2024-07-10T08:27:33.455437Z",
     "shell.execute_reply": "2024-07-10T08:27:33.454184Z"
    }
   },
   "outputs": [],
   "source": [
    "heatmap_df = heatmap_df[order_row, order_col]\n",
    "ordered_row_annotations <- row_annotations[match(rownames(heatmap_df), row_annotations$FactorName), ]\n",
    "ordered_row_annotations <- ordered_row_annotations %>%\n",
    "  tibble::column_to_rownames(\"FactorName\")"
   ]
  },
  {
   "cell_type": "raw",
   "id": "5c25134f-e4d9-4afe-9584-e2feb0e60efe",
   "metadata": {
    "execution": {
     "iopub.execute_input": "2024-06-13T09:49:53.028486Z",
     "iopub.status.busy": "2024-06-13T09:49:53.027568Z",
     "iopub.status.idle": "2024-06-13T09:49:53.037338Z",
     "shell.execute_reply": "2024-06-13T09:49:53.036171Z"
    }
   },
   "source": [
    "ordered_row_annotations <- ordered_row_annotations %>%\n",
    "  select(-Function)"
   ]
  },
  {
   "cell_type": "markdown",
   "id": "40f4139e-5629-4320-8f4e-55d84e99b012",
   "metadata": {},
   "source": [
    "**Define scale palette**"
   ]
  },
  {
   "cell_type": "code",
   "execution_count": 46,
   "id": "5f34fafe-1160-4f23-a03b-31bfc087a8a9",
   "metadata": {
    "execution": {
     "iopub.execute_input": "2024-07-10T08:27:33.458138Z",
     "iopub.status.busy": "2024-07-10T08:27:33.457191Z",
     "iopub.status.idle": "2024-07-10T08:27:33.465135Z",
     "shell.execute_reply": "2024-07-10T08:27:33.463937Z"
    }
   },
   "outputs": [],
   "source": [
    "clipValues <- function(v, minV, maxV) {\n",
    "    if (is.na(v)) {\n",
    "        return(v)\n",
    "    }else if (v >= 0) {\n",
    "        return(min(v, maxV))\n",
    "    } else if (v < 0) {\n",
    "        return(max(v, minV))\n",
    "    } \n",
    "}"
   ]
  },
  {
   "cell_type": "code",
   "execution_count": 47,
   "id": "4ef6101d-443a-4cb5-aef6-e8971fa84b08",
   "metadata": {
    "execution": {
     "iopub.execute_input": "2024-07-10T08:27:33.467854Z",
     "iopub.status.busy": "2024-07-10T08:27:33.466915Z",
     "iopub.status.idle": "2024-07-10T08:27:33.478533Z",
     "shell.execute_reply": "2024-07-10T08:27:33.477283Z"
    }
   },
   "outputs": [],
   "source": [
    "# COLOR PALETTE\n",
    "\n",
    "# Manual definition\n",
    "# clrP <- colorRampPalette(c(\"#ffffc1\", \"#6b001d\"))(100)\n",
    "# clrN <- colorRampPalette(c(\"#0a2258\", \"#f5faff\"))(100)\n",
    "\n",
    "# Predefined color palette\n",
    "clrP <- colorRampPalette(brewer.pal(n = 9, name = \"YlOrRd\"))(100)\n",
    "clrN <- colorRampPalette(rev(brewer.pal(n = 9, name = \"Blues\")))(100)\n",
    "\n",
    "clr <- c(clrN, clrP)"
   ]
  },
  {
   "cell_type": "code",
   "execution_count": 48,
   "id": "a4045ce7-0e7c-4dfe-9586-c4420c840f57",
   "metadata": {
    "execution": {
     "iopub.execute_input": "2024-07-10T08:27:33.481229Z",
     "iopub.status.busy": "2024-07-10T08:27:33.480288Z",
     "iopub.status.idle": "2024-07-10T08:27:33.497785Z",
     "shell.execute_reply": "2024-07-10T08:27:33.496450Z"
    }
   },
   "outputs": [],
   "source": [
    "# VALUE RANGES (those values are passed to clipValues function)\n",
    "\n",
    "# NO CONSTRAINTS\n",
    "max_v = max(heatmap_df, na.rm = T)\n",
    "min_v = min(heatmap_df, na.rm = T)\n",
    "\n",
    "# CLIPPEND WITH QUANTILE\n",
    "max_value = quantile(heatmap_df[heatmap_df >= 0], na.rm = T, probs = .99)\n",
    "min_value = quantile(heatmap_df[heatmap_df < 0], na.rm = T, probs = .01)"
   ]
  },
  {
   "cell_type": "markdown",
   "id": "4cb15971-f534-4f44-8a3d-13e25d8252a1",
   "metadata": {},
   "source": [
    "**Plot heatmap**"
   ]
  },
  {
   "cell_type": "code",
   "execution_count": 49,
   "id": "9f191f93-5e2d-45a3-ad4f-9346d05f17f7",
   "metadata": {
    "execution": {
     "iopub.execute_input": "2024-07-10T08:27:33.500500Z",
     "iopub.status.busy": "2024-07-10T08:27:33.499546Z",
     "iopub.status.idle": "2024-07-10T08:27:33.531357Z",
     "shell.execute_reply": "2024-07-10T08:27:33.530145Z"
    }
   },
   "outputs": [
    {
     "data": {
      "text/html": [
       "<table class=\"dataframe\">\n",
       "<caption>A data.frame: 6 × 20</caption>\n",
       "<thead>\n",
       "\t<tr><th></th><th scope=col>FactorName</th><th scope=col>asthma</th><th scope=col>BRCA</th><th scope=col>CD</th><th scope=col>cirrhosis</th><th scope=col>COPD</th><th scope=col>COVID</th><th scope=col>CRC</th><th scope=col>flu</th><th scope=col>HBV</th><th scope=col>HIV</th><th scope=col>HNSCC</th><th scope=col>MS</th><th scope=col>NPC</th><th scope=col>PS</th><th scope=col>PSA</th><th scope=col>RA</th><th scope=col>sepsis</th><th scope=col>SLE</th><th scope=col>UC</th></tr>\n",
       "\t<tr><th></th><th scope=col>&lt;chr&gt;</th><th scope=col>&lt;dbl&gt;</th><th scope=col>&lt;dbl&gt;</th><th scope=col>&lt;dbl&gt;</th><th scope=col>&lt;dbl&gt;</th><th scope=col>&lt;dbl&gt;</th><th scope=col>&lt;dbl&gt;</th><th scope=col>&lt;dbl&gt;</th><th scope=col>&lt;dbl&gt;</th><th scope=col>&lt;dbl&gt;</th><th scope=col>&lt;dbl&gt;</th><th scope=col>&lt;dbl&gt;</th><th scope=col>&lt;dbl&gt;</th><th scope=col>&lt;dbl&gt;</th><th scope=col>&lt;dbl&gt;</th><th scope=col>&lt;dbl&gt;</th><th scope=col>&lt;dbl&gt;</th><th scope=col>&lt;dbl&gt;</th><th scope=col>&lt;dbl&gt;</th><th scope=col>&lt;dbl&gt;</th></tr>\n",
       "</thead>\n",
       "<tbody>\n",
       "\t<tr><th scope=row>1</th><td>10-X-B-X-cytokine_and_receptors_proinflammatory   </td><td>0.3186878</td><td>0.8711502</td><td>0.5613012</td><td>0.56520000</td><td>0.2968310</td><td>0.22149856</td><td>0.7911382</td><td>0.6851157</td><td>0.8843724</td><td>0.02348663</td><td>0.8062733</td><td>0.5856000</td><td>0.6057356</td><td>0.000000000</td><td>0.03237346</td><td>0.19110229</td><td>0.591363780</td><td>0.1001825</td><td>0.00000000</td></tr>\n",
       "\t<tr><th scope=row>2</th><td>100-X-T_CD8_Naive-X-adhesion_molecules            </td><td>0.6710430</td><td>0.4804394</td><td>0.8147070</td><td>0.72208897</td><td>0.8042963</td><td>0.00000000</td><td>0.7361434</td><td>0.0000000</td><td>0.0450205</td><td>0.89719409</td><td>0.6834025</td><td>0.3765265</td><td>0.6890283</td><td>0.007038462</td><td>0.00000000</td><td>0.00000000</td><td>0.000000000</td><td>0.3866870</td><td>0.02837209</td></tr>\n",
       "\t<tr><th scope=row>3</th><td>101-X-T_CD8_Naive-X-antigen_presentation_molecules</td><td>0.9639208</td><td>0.4315185</td><td>0.0000000</td><td>0.51511111</td><td>0.4877732</td><td>0.02348663</td><td>0.5531347</td><td>0.0000000</td><td>0.2214986</td><td>0.13630345</td><td>0.2416506</td><td>0.9653315</td><td>0.7921286</td><td>0.000000000</td><td>0.00000000</td><td>0.00000000</td><td>0.007038462</td><td>0.0000000</td><td>0.00000000</td></tr>\n",
       "\t<tr><th scope=row>4</th><td>103-X-T_CD8_NonNaive-X-CD8T_exhaustion            </td><td>0.1278095</td><td>0.8615260</td><td>0.6103686</td><td>0.79713377</td><td>0.2214986</td><td>0.82207279</td><td>0.3684898</td><td>0.8042963</td><td>0.5669412</td><td>0.64794767</td><td>0.8405506</td><td>0.9652066</td><td>0.9124225</td><td>0.648962428</td><td>0.29040302</td><td>0.01835097</td><td>0.770408786</td><td>0.0000000</td><td>0.07126978</td></tr>\n",
       "\t<tr><th scope=row>5</th><td>104-X-T_CD8_NonNaive-X-CD8T_tcr_activation        </td><td>0.8711502</td><td>0.6515431</td><td>0.4423117</td><td>0.09353333</td><td>0.1040000</td><td>0.93717372</td><td>0.3000745</td><td>0.9554636</td><td>0.2196000</td><td>0.50692155</td><td>0.8320635</td><td>0.8274417</td><td>0.7843800</td><td>0.903973671</td><td>0.31678240</td><td>0.16240514</td><td>0.929324853</td><td>0.0000000</td><td>0.00000000</td></tr>\n",
       "\t<tr><th scope=row>6</th><td>105-X-T_CD8_NonNaive-X-chemokines                 </td><td>0.8331370</td><td>0.8314588</td><td>0.2776877</td><td>0.65136933</td><td>0.6154709</td><td>0.91554955</td><td>0.6871939</td><td>0.8713915</td><td>0.0000000</td><td>0.68340249</td><td>0.6937062</td><td>0.3820175</td><td>0.3267857</td><td>0.611104072</td><td>0.39214286</td><td>0.07451497</td><td>0.916830000</td><td>0.0000000</td><td>0.38170297</td></tr>\n",
       "</tbody>\n",
       "</table>\n"
      ],
      "text/latex": [
       "A data.frame: 6 × 20\n",
       "\\begin{tabular}{r|llllllllllllllllllll}\n",
       "  & FactorName & asthma & BRCA & CD & cirrhosis & COPD & COVID & CRC & flu & HBV & HIV & HNSCC & MS & NPC & PS & PSA & RA & sepsis & SLE & UC\\\\\n",
       "  & <chr> & <dbl> & <dbl> & <dbl> & <dbl> & <dbl> & <dbl> & <dbl> & <dbl> & <dbl> & <dbl> & <dbl> & <dbl> & <dbl> & <dbl> & <dbl> & <dbl> & <dbl> & <dbl> & <dbl>\\\\\n",
       "\\hline\n",
       "\t1 & 10-X-B-X-cytokine\\_and\\_receptors\\_proinflammatory    & 0.3186878 & 0.8711502 & 0.5613012 & 0.56520000 & 0.2968310 & 0.22149856 & 0.7911382 & 0.6851157 & 0.8843724 & 0.02348663 & 0.8062733 & 0.5856000 & 0.6057356 & 0.000000000 & 0.03237346 & 0.19110229 & 0.591363780 & 0.1001825 & 0.00000000\\\\\n",
       "\t2 & 100-X-T\\_CD8\\_Naive-X-adhesion\\_molecules             & 0.6710430 & 0.4804394 & 0.8147070 & 0.72208897 & 0.8042963 & 0.00000000 & 0.7361434 & 0.0000000 & 0.0450205 & 0.89719409 & 0.6834025 & 0.3765265 & 0.6890283 & 0.007038462 & 0.00000000 & 0.00000000 & 0.000000000 & 0.3866870 & 0.02837209\\\\\n",
       "\t3 & 101-X-T\\_CD8\\_Naive-X-antigen\\_presentation\\_molecules & 0.9639208 & 0.4315185 & 0.0000000 & 0.51511111 & 0.4877732 & 0.02348663 & 0.5531347 & 0.0000000 & 0.2214986 & 0.13630345 & 0.2416506 & 0.9653315 & 0.7921286 & 0.000000000 & 0.00000000 & 0.00000000 & 0.007038462 & 0.0000000 & 0.00000000\\\\\n",
       "\t4 & 103-X-T\\_CD8\\_NonNaive-X-CD8T\\_exhaustion             & 0.1278095 & 0.8615260 & 0.6103686 & 0.79713377 & 0.2214986 & 0.82207279 & 0.3684898 & 0.8042963 & 0.5669412 & 0.64794767 & 0.8405506 & 0.9652066 & 0.9124225 & 0.648962428 & 0.29040302 & 0.01835097 & 0.770408786 & 0.0000000 & 0.07126978\\\\\n",
       "\t5 & 104-X-T\\_CD8\\_NonNaive-X-CD8T\\_tcr\\_activation         & 0.8711502 & 0.6515431 & 0.4423117 & 0.09353333 & 0.1040000 & 0.93717372 & 0.3000745 & 0.9554636 & 0.2196000 & 0.50692155 & 0.8320635 & 0.8274417 & 0.7843800 & 0.903973671 & 0.31678240 & 0.16240514 & 0.929324853 & 0.0000000 & 0.00000000\\\\\n",
       "\t6 & 105-X-T\\_CD8\\_NonNaive-X-chemokines                  & 0.8331370 & 0.8314588 & 0.2776877 & 0.65136933 & 0.6154709 & 0.91554955 & 0.6871939 & 0.8713915 & 0.0000000 & 0.68340249 & 0.6937062 & 0.3820175 & 0.3267857 & 0.611104072 & 0.39214286 & 0.07451497 & 0.916830000 & 0.0000000 & 0.38170297\\\\\n",
       "\\end{tabular}\n"
      ],
      "text/markdown": [
       "\n",
       "A data.frame: 6 × 20\n",
       "\n",
       "| <!--/--> | FactorName &lt;chr&gt; | asthma &lt;dbl&gt; | BRCA &lt;dbl&gt; | CD &lt;dbl&gt; | cirrhosis &lt;dbl&gt; | COPD &lt;dbl&gt; | COVID &lt;dbl&gt; | CRC &lt;dbl&gt; | flu &lt;dbl&gt; | HBV &lt;dbl&gt; | HIV &lt;dbl&gt; | HNSCC &lt;dbl&gt; | MS &lt;dbl&gt; | NPC &lt;dbl&gt; | PS &lt;dbl&gt; | PSA &lt;dbl&gt; | RA &lt;dbl&gt; | sepsis &lt;dbl&gt; | SLE &lt;dbl&gt; | UC &lt;dbl&gt; |\n",
       "|---|---|---|---|---|---|---|---|---|---|---|---|---|---|---|---|---|---|---|---|---|\n",
       "| 1 | 10-X-B-X-cytokine_and_receptors_proinflammatory    | 0.3186878 | 0.8711502 | 0.5613012 | 0.56520000 | 0.2968310 | 0.22149856 | 0.7911382 | 0.6851157 | 0.8843724 | 0.02348663 | 0.8062733 | 0.5856000 | 0.6057356 | 0.000000000 | 0.03237346 | 0.19110229 | 0.591363780 | 0.1001825 | 0.00000000 |\n",
       "| 2 | 100-X-T_CD8_Naive-X-adhesion_molecules             | 0.6710430 | 0.4804394 | 0.8147070 | 0.72208897 | 0.8042963 | 0.00000000 | 0.7361434 | 0.0000000 | 0.0450205 | 0.89719409 | 0.6834025 | 0.3765265 | 0.6890283 | 0.007038462 | 0.00000000 | 0.00000000 | 0.000000000 | 0.3866870 | 0.02837209 |\n",
       "| 3 | 101-X-T_CD8_Naive-X-antigen_presentation_molecules | 0.9639208 | 0.4315185 | 0.0000000 | 0.51511111 | 0.4877732 | 0.02348663 | 0.5531347 | 0.0000000 | 0.2214986 | 0.13630345 | 0.2416506 | 0.9653315 | 0.7921286 | 0.000000000 | 0.00000000 | 0.00000000 | 0.007038462 | 0.0000000 | 0.00000000 |\n",
       "| 4 | 103-X-T_CD8_NonNaive-X-CD8T_exhaustion             | 0.1278095 | 0.8615260 | 0.6103686 | 0.79713377 | 0.2214986 | 0.82207279 | 0.3684898 | 0.8042963 | 0.5669412 | 0.64794767 | 0.8405506 | 0.9652066 | 0.9124225 | 0.648962428 | 0.29040302 | 0.01835097 | 0.770408786 | 0.0000000 | 0.07126978 |\n",
       "| 5 | 104-X-T_CD8_NonNaive-X-CD8T_tcr_activation         | 0.8711502 | 0.6515431 | 0.4423117 | 0.09353333 | 0.1040000 | 0.93717372 | 0.3000745 | 0.9554636 | 0.2196000 | 0.50692155 | 0.8320635 | 0.8274417 | 0.7843800 | 0.903973671 | 0.31678240 | 0.16240514 | 0.929324853 | 0.0000000 | 0.00000000 |\n",
       "| 6 | 105-X-T_CD8_NonNaive-X-chemokines                  | 0.8331370 | 0.8314588 | 0.2776877 | 0.65136933 | 0.6154709 | 0.91554955 | 0.6871939 | 0.8713915 | 0.0000000 | 0.68340249 | 0.6937062 | 0.3820175 | 0.3267857 | 0.611104072 | 0.39214286 | 0.07451497 | 0.916830000 | 0.0000000 | 0.38170297 |\n",
       "\n"
      ],
      "text/plain": [
       "  FactorName                                         asthma    BRCA     \n",
       "1 10-X-B-X-cytokine_and_receptors_proinflammatory    0.3186878 0.8711502\n",
       "2 100-X-T_CD8_Naive-X-adhesion_molecules             0.6710430 0.4804394\n",
       "3 101-X-T_CD8_Naive-X-antigen_presentation_molecules 0.9639208 0.4315185\n",
       "4 103-X-T_CD8_NonNaive-X-CD8T_exhaustion             0.1278095 0.8615260\n",
       "5 104-X-T_CD8_NonNaive-X-CD8T_tcr_activation         0.8711502 0.6515431\n",
       "6 105-X-T_CD8_NonNaive-X-chemokines                  0.8331370 0.8314588\n",
       "  CD        cirrhosis  COPD      COVID      CRC       flu       HBV      \n",
       "1 0.5613012 0.56520000 0.2968310 0.22149856 0.7911382 0.6851157 0.8843724\n",
       "2 0.8147070 0.72208897 0.8042963 0.00000000 0.7361434 0.0000000 0.0450205\n",
       "3 0.0000000 0.51511111 0.4877732 0.02348663 0.5531347 0.0000000 0.2214986\n",
       "4 0.6103686 0.79713377 0.2214986 0.82207279 0.3684898 0.8042963 0.5669412\n",
       "5 0.4423117 0.09353333 0.1040000 0.93717372 0.3000745 0.9554636 0.2196000\n",
       "6 0.2776877 0.65136933 0.6154709 0.91554955 0.6871939 0.8713915 0.0000000\n",
       "  HIV        HNSCC     MS        NPC       PS          PSA        RA        \n",
       "1 0.02348663 0.8062733 0.5856000 0.6057356 0.000000000 0.03237346 0.19110229\n",
       "2 0.89719409 0.6834025 0.3765265 0.6890283 0.007038462 0.00000000 0.00000000\n",
       "3 0.13630345 0.2416506 0.9653315 0.7921286 0.000000000 0.00000000 0.00000000\n",
       "4 0.64794767 0.8405506 0.9652066 0.9124225 0.648962428 0.29040302 0.01835097\n",
       "5 0.50692155 0.8320635 0.8274417 0.7843800 0.903973671 0.31678240 0.16240514\n",
       "6 0.68340249 0.6937062 0.3820175 0.3267857 0.611104072 0.39214286 0.07451497\n",
       "  sepsis      SLE       UC        \n",
       "1 0.591363780 0.1001825 0.00000000\n",
       "2 0.000000000 0.3866870 0.02837209\n",
       "3 0.007038462 0.0000000 0.00000000\n",
       "4 0.770408786 0.0000000 0.07126978\n",
       "5 0.929324853 0.0000000 0.00000000\n",
       "6 0.916830000 0.0000000 0.38170297"
      ]
     },
     "metadata": {},
     "output_type": "display_data"
    }
   ],
   "source": [
    "# Prepare data for heatmap\n",
    "significance_data <- filtered_data %>%\n",
    "  select(FactorName, disease, Pval_adj) %>%\n",
    "  spread(key = disease, value = Pval_adj) \n",
    "head(significance_data)"
   ]
  },
  {
   "cell_type": "code",
   "execution_count": 50,
   "id": "de2415a5-7964-4261-bf1e-ddc68f0a1182",
   "metadata": {
    "execution": {
     "iopub.execute_input": "2024-07-10T08:27:33.534225Z",
     "iopub.status.busy": "2024-07-10T08:27:33.533126Z",
     "iopub.status.idle": "2024-07-10T08:27:33.571438Z",
     "shell.execute_reply": "2024-07-10T08:27:33.570209Z"
    }
   },
   "outputs": [
    {
     "data": {
      "text/html": [
       "<table class=\"dataframe\">\n",
       "<caption>A data.frame: 6 × 19</caption>\n",
       "<thead>\n",
       "\t<tr><th></th><th scope=col>asthma</th><th scope=col>BRCA</th><th scope=col>CD</th><th scope=col>cirrhosis</th><th scope=col>COPD</th><th scope=col>COVID</th><th scope=col>CRC</th><th scope=col>flu</th><th scope=col>HBV</th><th scope=col>HIV</th><th scope=col>HNSCC</th><th scope=col>MS</th><th scope=col>NPC</th><th scope=col>PS</th><th scope=col>PSA</th><th scope=col>RA</th><th scope=col>sepsis</th><th scope=col>SLE</th><th scope=col>UC</th></tr>\n",
       "\t<tr><th></th><th scope=col>&lt;dbl&gt;</th><th scope=col>&lt;dbl&gt;</th><th scope=col>&lt;dbl&gt;</th><th scope=col>&lt;dbl&gt;</th><th scope=col>&lt;dbl&gt;</th><th scope=col>&lt;dbl&gt;</th><th scope=col>&lt;dbl&gt;</th><th scope=col>&lt;dbl&gt;</th><th scope=col>&lt;dbl&gt;</th><th scope=col>&lt;dbl&gt;</th><th scope=col>&lt;dbl&gt;</th><th scope=col>&lt;dbl&gt;</th><th scope=col>&lt;dbl&gt;</th><th scope=col>&lt;dbl&gt;</th><th scope=col>&lt;dbl&gt;</th><th scope=col>&lt;dbl&gt;</th><th scope=col>&lt;dbl&gt;</th><th scope=col>&lt;dbl&gt;</th><th scope=col>&lt;dbl&gt;</th></tr>\n",
       "</thead>\n",
       "<tbody>\n",
       "\t<tr><th scope=row>B-X-cytokine_and_receptors_proinflammatory</th><td>0.3186878</td><td>0.8711502</td><td>0.5613012</td><td>0.56520000</td><td>0.2968310</td><td>0.22149856</td><td>0.7911382</td><td>0.6851157</td><td>0.8843724</td><td>0.02348663</td><td>0.8062733</td><td>0.5856000</td><td>0.6057356</td><td>0.000000000</td><td>0.03237346</td><td>0.19110229</td><td>0.591363780</td><td>0.1001825</td><td>0.00000000</td></tr>\n",
       "\t<tr><th scope=row>T_CD8_Naive-X-adhesion_molecules</th><td>0.6710430</td><td>0.4804394</td><td>0.8147070</td><td>0.72208897</td><td>0.8042963</td><td>0.00000000</td><td>0.7361434</td><td>0.0000000</td><td>0.0450205</td><td>0.89719409</td><td>0.6834025</td><td>0.3765265</td><td>0.6890283</td><td>0.007038462</td><td>0.00000000</td><td>0.00000000</td><td>0.000000000</td><td>0.3866870</td><td>0.02837209</td></tr>\n",
       "\t<tr><th scope=row>T_CD8_Naive-X-antigen_presentation_molecules</th><td>0.9639208</td><td>0.4315185</td><td>0.0000000</td><td>0.51511111</td><td>0.4877732</td><td>0.02348663</td><td>0.5531347</td><td>0.0000000</td><td>0.2214986</td><td>0.13630345</td><td>0.2416506</td><td>0.9653315</td><td>0.7921286</td><td>0.000000000</td><td>0.00000000</td><td>0.00000000</td><td>0.007038462</td><td>0.0000000</td><td>0.00000000</td></tr>\n",
       "\t<tr><th scope=row>T_CD8_NonNaive-X-CD8T_exhaustion</th><td>0.1278095</td><td>0.8615260</td><td>0.6103686</td><td>0.79713377</td><td>0.2214986</td><td>0.82207279</td><td>0.3684898</td><td>0.8042963</td><td>0.5669412</td><td>0.64794767</td><td>0.8405506</td><td>0.9652066</td><td>0.9124225</td><td>0.648962428</td><td>0.29040302</td><td>0.01835097</td><td>0.770408786</td><td>0.0000000</td><td>0.07126978</td></tr>\n",
       "\t<tr><th scope=row>T_CD8_NonNaive-X-CD8T_tcr_activation</th><td>0.8711502</td><td>0.6515431</td><td>0.4423117</td><td>0.09353333</td><td>0.1040000</td><td>0.93717372</td><td>0.3000745</td><td>0.9554636</td><td>0.2196000</td><td>0.50692155</td><td>0.8320635</td><td>0.8274417</td><td>0.7843800</td><td>0.903973671</td><td>0.31678240</td><td>0.16240514</td><td>0.929324853</td><td>0.0000000</td><td>0.00000000</td></tr>\n",
       "\t<tr><th scope=row>T_CD8_NonNaive-X-chemokines</th><td>0.8331370</td><td>0.8314588</td><td>0.2776877</td><td>0.65136933</td><td>0.6154709</td><td>0.91554955</td><td>0.6871939</td><td>0.8713915</td><td>0.0000000</td><td>0.68340249</td><td>0.6937062</td><td>0.3820175</td><td>0.3267857</td><td>0.611104072</td><td>0.39214286</td><td>0.07451497</td><td>0.916830000</td><td>0.0000000</td><td>0.38170297</td></tr>\n",
       "</tbody>\n",
       "</table>\n"
      ],
      "text/latex": [
       "A data.frame: 6 × 19\n",
       "\\begin{tabular}{r|lllllllllllllllllll}\n",
       "  & asthma & BRCA & CD & cirrhosis & COPD & COVID & CRC & flu & HBV & HIV & HNSCC & MS & NPC & PS & PSA & RA & sepsis & SLE & UC\\\\\n",
       "  & <dbl> & <dbl> & <dbl> & <dbl> & <dbl> & <dbl> & <dbl> & <dbl> & <dbl> & <dbl> & <dbl> & <dbl> & <dbl> & <dbl> & <dbl> & <dbl> & <dbl> & <dbl> & <dbl>\\\\\n",
       "\\hline\n",
       "\tB-X-cytokine\\_and\\_receptors\\_proinflammatory & 0.3186878 & 0.8711502 & 0.5613012 & 0.56520000 & 0.2968310 & 0.22149856 & 0.7911382 & 0.6851157 & 0.8843724 & 0.02348663 & 0.8062733 & 0.5856000 & 0.6057356 & 0.000000000 & 0.03237346 & 0.19110229 & 0.591363780 & 0.1001825 & 0.00000000\\\\\n",
       "\tT\\_CD8\\_Naive-X-adhesion\\_molecules & 0.6710430 & 0.4804394 & 0.8147070 & 0.72208897 & 0.8042963 & 0.00000000 & 0.7361434 & 0.0000000 & 0.0450205 & 0.89719409 & 0.6834025 & 0.3765265 & 0.6890283 & 0.007038462 & 0.00000000 & 0.00000000 & 0.000000000 & 0.3866870 & 0.02837209\\\\\n",
       "\tT\\_CD8\\_Naive-X-antigen\\_presentation\\_molecules & 0.9639208 & 0.4315185 & 0.0000000 & 0.51511111 & 0.4877732 & 0.02348663 & 0.5531347 & 0.0000000 & 0.2214986 & 0.13630345 & 0.2416506 & 0.9653315 & 0.7921286 & 0.000000000 & 0.00000000 & 0.00000000 & 0.007038462 & 0.0000000 & 0.00000000\\\\\n",
       "\tT\\_CD8\\_NonNaive-X-CD8T\\_exhaustion & 0.1278095 & 0.8615260 & 0.6103686 & 0.79713377 & 0.2214986 & 0.82207279 & 0.3684898 & 0.8042963 & 0.5669412 & 0.64794767 & 0.8405506 & 0.9652066 & 0.9124225 & 0.648962428 & 0.29040302 & 0.01835097 & 0.770408786 & 0.0000000 & 0.07126978\\\\\n",
       "\tT\\_CD8\\_NonNaive-X-CD8T\\_tcr\\_activation & 0.8711502 & 0.6515431 & 0.4423117 & 0.09353333 & 0.1040000 & 0.93717372 & 0.3000745 & 0.9554636 & 0.2196000 & 0.50692155 & 0.8320635 & 0.8274417 & 0.7843800 & 0.903973671 & 0.31678240 & 0.16240514 & 0.929324853 & 0.0000000 & 0.00000000\\\\\n",
       "\tT\\_CD8\\_NonNaive-X-chemokines & 0.8331370 & 0.8314588 & 0.2776877 & 0.65136933 & 0.6154709 & 0.91554955 & 0.6871939 & 0.8713915 & 0.0000000 & 0.68340249 & 0.6937062 & 0.3820175 & 0.3267857 & 0.611104072 & 0.39214286 & 0.07451497 & 0.916830000 & 0.0000000 & 0.38170297\\\\\n",
       "\\end{tabular}\n"
      ],
      "text/markdown": [
       "\n",
       "A data.frame: 6 × 19\n",
       "\n",
       "| <!--/--> | asthma &lt;dbl&gt; | BRCA &lt;dbl&gt; | CD &lt;dbl&gt; | cirrhosis &lt;dbl&gt; | COPD &lt;dbl&gt; | COVID &lt;dbl&gt; | CRC &lt;dbl&gt; | flu &lt;dbl&gt; | HBV &lt;dbl&gt; | HIV &lt;dbl&gt; | HNSCC &lt;dbl&gt; | MS &lt;dbl&gt; | NPC &lt;dbl&gt; | PS &lt;dbl&gt; | PSA &lt;dbl&gt; | RA &lt;dbl&gt; | sepsis &lt;dbl&gt; | SLE &lt;dbl&gt; | UC &lt;dbl&gt; |\n",
       "|---|---|---|---|---|---|---|---|---|---|---|---|---|---|---|---|---|---|---|---|\n",
       "| B-X-cytokine_and_receptors_proinflammatory | 0.3186878 | 0.8711502 | 0.5613012 | 0.56520000 | 0.2968310 | 0.22149856 | 0.7911382 | 0.6851157 | 0.8843724 | 0.02348663 | 0.8062733 | 0.5856000 | 0.6057356 | 0.000000000 | 0.03237346 | 0.19110229 | 0.591363780 | 0.1001825 | 0.00000000 |\n",
       "| T_CD8_Naive-X-adhesion_molecules | 0.6710430 | 0.4804394 | 0.8147070 | 0.72208897 | 0.8042963 | 0.00000000 | 0.7361434 | 0.0000000 | 0.0450205 | 0.89719409 | 0.6834025 | 0.3765265 | 0.6890283 | 0.007038462 | 0.00000000 | 0.00000000 | 0.000000000 | 0.3866870 | 0.02837209 |\n",
       "| T_CD8_Naive-X-antigen_presentation_molecules | 0.9639208 | 0.4315185 | 0.0000000 | 0.51511111 | 0.4877732 | 0.02348663 | 0.5531347 | 0.0000000 | 0.2214986 | 0.13630345 | 0.2416506 | 0.9653315 | 0.7921286 | 0.000000000 | 0.00000000 | 0.00000000 | 0.007038462 | 0.0000000 | 0.00000000 |\n",
       "| T_CD8_NonNaive-X-CD8T_exhaustion | 0.1278095 | 0.8615260 | 0.6103686 | 0.79713377 | 0.2214986 | 0.82207279 | 0.3684898 | 0.8042963 | 0.5669412 | 0.64794767 | 0.8405506 | 0.9652066 | 0.9124225 | 0.648962428 | 0.29040302 | 0.01835097 | 0.770408786 | 0.0000000 | 0.07126978 |\n",
       "| T_CD8_NonNaive-X-CD8T_tcr_activation | 0.8711502 | 0.6515431 | 0.4423117 | 0.09353333 | 0.1040000 | 0.93717372 | 0.3000745 | 0.9554636 | 0.2196000 | 0.50692155 | 0.8320635 | 0.8274417 | 0.7843800 | 0.903973671 | 0.31678240 | 0.16240514 | 0.929324853 | 0.0000000 | 0.00000000 |\n",
       "| T_CD8_NonNaive-X-chemokines | 0.8331370 | 0.8314588 | 0.2776877 | 0.65136933 | 0.6154709 | 0.91554955 | 0.6871939 | 0.8713915 | 0.0000000 | 0.68340249 | 0.6937062 | 0.3820175 | 0.3267857 | 0.611104072 | 0.39214286 | 0.07451497 | 0.916830000 | 0.0000000 | 0.38170297 |\n",
       "\n"
      ],
      "text/plain": [
       "                                             asthma    BRCA      CD       \n",
       "B-X-cytokine_and_receptors_proinflammatory   0.3186878 0.8711502 0.5613012\n",
       "T_CD8_Naive-X-adhesion_molecules             0.6710430 0.4804394 0.8147070\n",
       "T_CD8_Naive-X-antigen_presentation_molecules 0.9639208 0.4315185 0.0000000\n",
       "T_CD8_NonNaive-X-CD8T_exhaustion             0.1278095 0.8615260 0.6103686\n",
       "T_CD8_NonNaive-X-CD8T_tcr_activation         0.8711502 0.6515431 0.4423117\n",
       "T_CD8_NonNaive-X-chemokines                  0.8331370 0.8314588 0.2776877\n",
       "                                             cirrhosis  COPD      COVID     \n",
       "B-X-cytokine_and_receptors_proinflammatory   0.56520000 0.2968310 0.22149856\n",
       "T_CD8_Naive-X-adhesion_molecules             0.72208897 0.8042963 0.00000000\n",
       "T_CD8_Naive-X-antigen_presentation_molecules 0.51511111 0.4877732 0.02348663\n",
       "T_CD8_NonNaive-X-CD8T_exhaustion             0.79713377 0.2214986 0.82207279\n",
       "T_CD8_NonNaive-X-CD8T_tcr_activation         0.09353333 0.1040000 0.93717372\n",
       "T_CD8_NonNaive-X-chemokines                  0.65136933 0.6154709 0.91554955\n",
       "                                             CRC       flu       HBV      \n",
       "B-X-cytokine_and_receptors_proinflammatory   0.7911382 0.6851157 0.8843724\n",
       "T_CD8_Naive-X-adhesion_molecules             0.7361434 0.0000000 0.0450205\n",
       "T_CD8_Naive-X-antigen_presentation_molecules 0.5531347 0.0000000 0.2214986\n",
       "T_CD8_NonNaive-X-CD8T_exhaustion             0.3684898 0.8042963 0.5669412\n",
       "T_CD8_NonNaive-X-CD8T_tcr_activation         0.3000745 0.9554636 0.2196000\n",
       "T_CD8_NonNaive-X-chemokines                  0.6871939 0.8713915 0.0000000\n",
       "                                             HIV        HNSCC     MS       \n",
       "B-X-cytokine_and_receptors_proinflammatory   0.02348663 0.8062733 0.5856000\n",
       "T_CD8_Naive-X-adhesion_molecules             0.89719409 0.6834025 0.3765265\n",
       "T_CD8_Naive-X-antigen_presentation_molecules 0.13630345 0.2416506 0.9653315\n",
       "T_CD8_NonNaive-X-CD8T_exhaustion             0.64794767 0.8405506 0.9652066\n",
       "T_CD8_NonNaive-X-CD8T_tcr_activation         0.50692155 0.8320635 0.8274417\n",
       "T_CD8_NonNaive-X-chemokines                  0.68340249 0.6937062 0.3820175\n",
       "                                             NPC       PS          PSA       \n",
       "B-X-cytokine_and_receptors_proinflammatory   0.6057356 0.000000000 0.03237346\n",
       "T_CD8_Naive-X-adhesion_molecules             0.6890283 0.007038462 0.00000000\n",
       "T_CD8_Naive-X-antigen_presentation_molecules 0.7921286 0.000000000 0.00000000\n",
       "T_CD8_NonNaive-X-CD8T_exhaustion             0.9124225 0.648962428 0.29040302\n",
       "T_CD8_NonNaive-X-CD8T_tcr_activation         0.7843800 0.903973671 0.31678240\n",
       "T_CD8_NonNaive-X-chemokines                  0.3267857 0.611104072 0.39214286\n",
       "                                             RA         sepsis      SLE      \n",
       "B-X-cytokine_and_receptors_proinflammatory   0.19110229 0.591363780 0.1001825\n",
       "T_CD8_Naive-X-adhesion_molecules             0.00000000 0.000000000 0.3866870\n",
       "T_CD8_Naive-X-antigen_presentation_molecules 0.00000000 0.007038462 0.0000000\n",
       "T_CD8_NonNaive-X-CD8T_exhaustion             0.01835097 0.770408786 0.0000000\n",
       "T_CD8_NonNaive-X-CD8T_tcr_activation         0.16240514 0.929324853 0.0000000\n",
       "T_CD8_NonNaive-X-chemokines                  0.07451497 0.916830000 0.0000000\n",
       "                                             UC        \n",
       "B-X-cytokine_and_receptors_proinflammatory   0.00000000\n",
       "T_CD8_Naive-X-adhesion_molecules             0.02837209\n",
       "T_CD8_Naive-X-antigen_presentation_molecules 0.00000000\n",
       "T_CD8_NonNaive-X-CD8T_exhaustion             0.07126978\n",
       "T_CD8_NonNaive-X-CD8T_tcr_activation         0.00000000\n",
       "T_CD8_NonNaive-X-chemokines                  0.38170297"
      ]
     },
     "metadata": {},
     "output_type": "display_data"
    }
   ],
   "source": [
    "significance_data$FactorName <- sapply(strsplit(significance_data$FactorName, \"-X-\"), function(x) {\n",
    "  second_element <- x[2]\n",
    "  third_element <- x[3]\n",
    "  \n",
    "  # Check if the third element starts with \"c\" + any element in signatures\n",
    "  if (startsWith(third_element, \"c\") && substr(third_element, 2, nchar(third_element)) %in% signatures) {\n",
    "    third_element <- substr(third_element, 2, nchar(third_element))  # Remove the first letter \"c\"\n",
    "  }\n",
    "  \n",
    "  # Create the new FactorName\n",
    "  new_name <- paste0(second_element, \"-X-\", third_element)\n",
    "  return(new_name)\n",
    "})\n",
    "significance_data <- significance_data %>%\n",
    "  tibble::column_to_rownames(\"FactorName\")\n",
    "head(significance_data)"
   ]
  },
  {
   "cell_type": "code",
   "execution_count": 51,
   "id": "c2f35988-c286-408d-a29a-a1de39f47fb8",
   "metadata": {
    "execution": {
     "iopub.execute_input": "2024-07-10T08:27:33.574157Z",
     "iopub.status.busy": "2024-07-10T08:27:33.573204Z",
     "iopub.status.idle": "2024-07-10T08:27:33.581355Z",
     "shell.execute_reply": "2024-07-10T08:27:33.580186Z"
    }
   },
   "outputs": [],
   "source": [
    "significance_data = significance_data[order_row, order_col]"
   ]
  },
  {
   "cell_type": "code",
   "execution_count": 52,
   "id": "aba84442-cec1-47f2-9ac7-d3bd1af3483e",
   "metadata": {
    "execution": {
     "iopub.execute_input": "2024-07-10T08:27:33.584021Z",
     "iopub.status.busy": "2024-07-10T08:27:33.583096Z",
     "iopub.status.idle": "2024-07-10T08:27:33.618385Z",
     "shell.execute_reply": "2024-07-10T08:27:33.617168Z"
    }
   },
   "outputs": [
    {
     "data": {
      "text/html": [
       "<table class=\"dataframe\">\n",
       "<caption>A data.frame: 6 × 19</caption>\n",
       "<thead>\n",
       "\t<tr><th></th><th scope=col>RA</th><th scope=col>PS</th><th scope=col>PSA</th><th scope=col>CD</th><th scope=col>UC</th><th scope=col>SLE</th><th scope=col>MS</th><th scope=col>asthma</th><th scope=col>COPD</th><th scope=col>cirrhosis</th><th scope=col>sepsis</th><th scope=col>HIV</th><th scope=col>HBV</th><th scope=col>COVID</th><th scope=col>flu</th><th scope=col>BRCA</th><th scope=col>NPC</th><th scope=col>HNSCC</th><th scope=col>CRC</th></tr>\n",
       "\t<tr><th></th><th scope=col>&lt;chr&gt;</th><th scope=col>&lt;chr&gt;</th><th scope=col>&lt;chr&gt;</th><th scope=col>&lt;chr&gt;</th><th scope=col>&lt;chr&gt;</th><th scope=col>&lt;chr&gt;</th><th scope=col>&lt;chr&gt;</th><th scope=col>&lt;chr&gt;</th><th scope=col>&lt;chr&gt;</th><th scope=col>&lt;chr&gt;</th><th scope=col>&lt;chr&gt;</th><th scope=col>&lt;chr&gt;</th><th scope=col>&lt;chr&gt;</th><th scope=col>&lt;chr&gt;</th><th scope=col>&lt;chr&gt;</th><th scope=col>&lt;chr&gt;</th><th scope=col>&lt;chr&gt;</th><th scope=col>&lt;chr&gt;</th><th scope=col>&lt;chr&gt;</th></tr>\n",
       "</thead>\n",
       "<tbody>\n",
       "\t<tr><th scope=row>B-X-adhesion_molecules</th><td>·</td><td>·</td><td>·</td><td></td><td> </td><td></td><td></td><td></td><td></td><td></td><td> </td><td></td><td> </td><td> </td><td> </td><td></td><td></td><td></td><td></td></tr>\n",
       "\t<tr><th scope=row>Plasma-X-adhesion_molecules</th><td> </td><td> </td><td> </td><td></td><td> </td><td></td><td></td><td></td><td></td><td></td><td> </td><td></td><td> </td><td> </td><td> </td><td></td><td></td><td></td><td></td></tr>\n",
       "\t<tr><th scope=row>pDC-X-adhesion_molecules</th><td> </td><td> </td><td> </td><td></td><td> </td><td></td><td></td><td></td><td></td><td></td><td> </td><td></td><td> </td><td> </td><td> </td><td></td><td></td><td></td><td></td></tr>\n",
       "\t<tr><th scope=row>DC-X-adhesion_molecules</th><td>·</td><td>·</td><td>·</td><td></td><td> </td><td></td><td></td><td></td><td></td><td></td><td> </td><td></td><td> </td><td> </td><td> </td><td></td><td></td><td></td><td></td></tr>\n",
       "\t<tr><th scope=row>Mono-X-adhesion_molecules</th><td>·</td><td>·</td><td>·</td><td></td><td> </td><td></td><td></td><td></td><td></td><td></td><td>·</td><td></td><td>·</td><td>·</td><td>·</td><td></td><td></td><td></td><td></td></tr>\n",
       "\t<tr><th scope=row>T_CD4_Naive-X-adhesion_molecules</th><td>·</td><td>·</td><td>·</td><td></td><td>·</td><td></td><td></td><td></td><td></td><td></td><td>·</td><td></td><td>·</td><td>·</td><td>·</td><td></td><td></td><td></td><td></td></tr>\n",
       "</tbody>\n",
       "</table>\n"
      ],
      "text/latex": [
       "A data.frame: 6 × 19\n",
       "\\begin{tabular}{r|lllllllllllllllllll}\n",
       "  & RA & PS & PSA & CD & UC & SLE & MS & asthma & COPD & cirrhosis & sepsis & HIV & HBV & COVID & flu & BRCA & NPC & HNSCC & CRC\\\\\n",
       "  & <chr> & <chr> & <chr> & <chr> & <chr> & <chr> & <chr> & <chr> & <chr> & <chr> & <chr> & <chr> & <chr> & <chr> & <chr> & <chr> & <chr> & <chr> & <chr>\\\\\n",
       "\\hline\n",
       "\tB-X-adhesion\\_molecules & · & · & · &  &   &  &  &  &  &  &   &  &   &   &   &  &  &  & \\\\\n",
       "\tPlasma-X-adhesion\\_molecules &   &   &   &  &   &  &  &  &  &  &   &  &   &   &   &  &  &  & \\\\\n",
       "\tpDC-X-adhesion\\_molecules &   &   &   &  &   &  &  &  &  &  &   &  &   &   &   &  &  &  & \\\\\n",
       "\tDC-X-adhesion\\_molecules & · & · & · &  &   &  &  &  &  &  &   &  &   &   &   &  &  &  & \\\\\n",
       "\tMono-X-adhesion\\_molecules & · & · & · &  &   &  &  &  &  &  & · &  & · & · & · &  &  &  & \\\\\n",
       "\tT\\_CD4\\_Naive-X-adhesion\\_molecules & · & · & · &  & · &  &  &  &  &  & · &  & · & · & · &  &  &  & \\\\\n",
       "\\end{tabular}\n"
      ],
      "text/markdown": [
       "\n",
       "A data.frame: 6 × 19\n",
       "\n",
       "| <!--/--> | RA &lt;chr&gt; | PS &lt;chr&gt; | PSA &lt;chr&gt; | CD &lt;chr&gt; | UC &lt;chr&gt; | SLE &lt;chr&gt; | MS &lt;chr&gt; | asthma &lt;chr&gt; | COPD &lt;chr&gt; | cirrhosis &lt;chr&gt; | sepsis &lt;chr&gt; | HIV &lt;chr&gt; | HBV &lt;chr&gt; | COVID &lt;chr&gt; | flu &lt;chr&gt; | BRCA &lt;chr&gt; | NPC &lt;chr&gt; | HNSCC &lt;chr&gt; | CRC &lt;chr&gt; |\n",
       "|---|---|---|---|---|---|---|---|---|---|---|---|---|---|---|---|---|---|---|---|\n",
       "| B-X-adhesion_molecules | · | · | · | <!----> | <!----> | <!----> | <!----> | <!----> | <!----> | <!----> | <!----> | <!----> | <!----> | <!----> | <!----> | <!----> | <!----> | <!----> | <!----> |\n",
       "| Plasma-X-adhesion_molecules | <!----> | <!----> | <!----> | <!----> | <!----> | <!----> | <!----> | <!----> | <!----> | <!----> | <!----> | <!----> | <!----> | <!----> | <!----> | <!----> | <!----> | <!----> | <!----> |\n",
       "| pDC-X-adhesion_molecules | <!----> | <!----> | <!----> | <!----> | <!----> | <!----> | <!----> | <!----> | <!----> | <!----> | <!----> | <!----> | <!----> | <!----> | <!----> | <!----> | <!----> | <!----> | <!----> |\n",
       "| DC-X-adhesion_molecules | · | · | · | <!----> | <!----> | <!----> | <!----> | <!----> | <!----> | <!----> | <!----> | <!----> | <!----> | <!----> | <!----> | <!----> | <!----> | <!----> | <!----> |\n",
       "| Mono-X-adhesion_molecules | · | · | · | <!----> | <!----> | <!----> | <!----> | <!----> | <!----> | <!----> | · | <!----> | · | · | · | <!----> | <!----> | <!----> | <!----> |\n",
       "| T_CD4_Naive-X-adhesion_molecules | · | · | · | <!----> | · | <!----> | <!----> | <!----> | <!----> | <!----> | · | <!----> | · | · | · | <!----> | <!----> | <!----> | <!----> |\n",
       "\n"
      ],
      "text/plain": [
       "                                 RA PS PSA CD UC SLE MS asthma COPD cirrhosis\n",
       "B-X-adhesion_molecules           ·  ·  ·                                     \n",
       "Plasma-X-adhesion_molecules                                                  \n",
       "pDC-X-adhesion_molecules                                                     \n",
       "DC-X-adhesion_molecules          ·  ·  ·                                     \n",
       "Mono-X-adhesion_molecules        ·  ·  ·                                     \n",
       "T_CD4_Naive-X-adhesion_molecules ·  ·  ·      ·                              \n",
       "                                 sepsis HIV HBV COVID flu BRCA NPC HNSCC CRC\n",
       "B-X-adhesion_molecules                                                      \n",
       "Plasma-X-adhesion_molecules                                                 \n",
       "pDC-X-adhesion_molecules                                                    \n",
       "DC-X-adhesion_molecules                                                     \n",
       "Mono-X-adhesion_molecules        ·          ·   ·     ·                     \n",
       "T_CD4_Naive-X-adhesion_molecules ·          ·   ·     ·                     "
      ]
     },
     "metadata": {},
     "output_type": "display_data"
    }
   ],
   "source": [
    "sig_to_plot <- significance_data %>%\n",
    "  #mutate(across(everything(), ~ ifelse(. < 0.05, \"·\", \"\")))\n",
    "  mutate(across(everything(), ~ ifelse(is.na(.), \"\", ifelse(. < 0.05, \"·\", \"\"))))\n",
    "head(sig_to_plot)"
   ]
  },
  {
   "cell_type": "code",
   "execution_count": 59,
   "id": "4826c072-a701-47c5-96db-b6d392ad25bb",
   "metadata": {
    "execution": {
     "iopub.execute_input": "2024-07-10T08:42:13.027090Z",
     "iopub.status.busy": "2024-07-10T08:42:13.025820Z",
     "iopub.status.idle": "2024-07-10T08:42:13.301716Z",
     "shell.execute_reply": "2024-07-10T08:42:13.300563Z"
    }
   },
   "outputs": [
    {
     "data": {
      "text/html": [
       "<strong>pdf:</strong> 4"
      ],
      "text/latex": [
       "\\textbf{pdf:} 4"
      ],
      "text/markdown": [
       "**pdf:** 4"
      ],
      "text/plain": [
       "pdf \n",
       "  4 "
      ]
     },
     "metadata": {},
     "output_type": "display_data"
    }
   ],
   "source": [
    "#options(repr.plot.width = 10, repr.plot.height = 20, repr.plot.res = 100)\n",
    "breaks <- c(head(seq(min_value,0, length.out = 101), -1),seq(0, max_value, length.out = 100))\n",
    "#figure_path <-  paste0(base_path,\"/03_downstream_analysis/06_inflammation_signatures/results/heatmap/heatmap_not_normalized_UnCorrected_noFilt_celltypeOrder.pdf\")\n",
    "figure_path <-  paste0(base_path,\"/03_downstream_analysis/06_inflammation_signatures/results/heatmap/heatmap_not_normalized_UnCorrected_noFilt_functionOrder.pdf\")\n",
    "pdf(figure_path, width = 10, height = 10)\n",
    "a <- pheatmap(mat = apply(heatmap_df, c(1,2), FUN = function(x) {clipValues(x, min_value, max_value)}),\n",
    "  border_color = FALSE,\n",
    "  color = clr,\n",
    "  breaks  =  breaks,\n",
    "  display_numbers = sig_to_plot,\n",
    "  fontsize_number = 10,\n",
    "  na_col = \"white\",\n",
    "  cluster_cols = FALSE,\n",
    "  cluster_rows = FALSE,\n",
    "  cellheight = 5,\n",
    "  cellwidth = 7,\n",
    "  cex = 1, \n",
    "  fontsize = 6,\n",
    "  annotation_colors = my_colour_annot,\n",
    "  annotation_col = col_annotations,\n",
    "  annotation_row = ordered_row_annotations,\n",
    "  #gaps_col = cumsum(table(col_annotations$diseaseGroup)),\n",
    "  #gaps_row = cumsum(table(row_annotations$Function)),\n",
    "  gaps_col = c(7, 10, 11, 15, 19),\n",
    "  gaps_row = c(11, 22, 33, 44, 55, 66, 77, 88, 99, 101, 103, 105, 107, 109, 111, 113, 114, 115, 116, 117), # GAP ROW FOR FUNCTIONS\n",
    "  #gaps_row = c(10, 19, 28, 38, 49, 63, 77, 88, 99, 108), # GAP ROW FOR CELLTYPES w/ global\n",
    "  #gaps_row = c(10, 19, 28, 39, 51, 65, 79, 90, 101, 110), # GAP ROW FOR CELLTYPES\n",
    "  filename = figure_path,\n",
    "  legend = TRUE,\n",
    "  legend_breaks = c(max_value, -4, -2, -1, 0, 1, 2, 4, 6, min_value),\n",
    "  #legend_labels = names(my_colors),\n",
    "  height = 30, \n",
    "  width = 15\n",
    ")\n",
    "print(a)\n",
    "dev.off()"
   ]
  },
  {
   "cell_type": "markdown",
   "id": "c063a75c-e18b-4ae2-9a99-369c3ab80230",
   "metadata": {},
   "source": []
  }
 ],
 "metadata": {
  "kernelspec": {
   "display_name": "R",
   "language": "R",
   "name": "ir"
  },
  "language_info": {
   "codemirror_mode": "r",
   "file_extension": ".r",
   "mimetype": "text/x-r-source",
   "name": "R",
   "pygments_lexer": "r",
   "version": "4.3.1"
  }
 },
 "nbformat": 4,
 "nbformat_minor": 5
}
