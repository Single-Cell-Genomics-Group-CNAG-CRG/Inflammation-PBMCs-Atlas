{
 "cells": [
  {
   "cell_type": "code",
   "execution_count": 1,
   "id": "d9efbbd1",
   "metadata": {
    "execution": {
     "iopub.execute_input": "2024-06-30T21:00:52.535156Z",
     "iopub.status.busy": "2024-06-30T21:00:52.534824Z",
     "iopub.status.idle": "2024-06-30T21:00:52.537356Z",
     "shell.execute_reply": "2024-06-30T21:00:52.536993Z"
    },
    "papermill": {
     "duration": 0.009467,
     "end_time": "2024-06-30T21:00:52.538207",
     "exception": false,
     "start_time": "2024-06-30T21:00:52.528740",
     "status": "completed"
    },
    "tags": [
     "injected-parameters"
    ]
   },
   "outputs": [],
   "source": [
    "# Parameters\n",
    "adataPATH = \"03_downstream_analysis/08_PatientClassifier/scPoli/results/scPoli_ref_latents_VALIDATION_2_20_100_run2_k6f7ol23.h5ad\"\n"
   ]
  },
  {
   "cell_type": "raw",
   "id": "bf9880bd-3aef-477b-807d-37e3c5603037",
   "metadata": {
    "execution": {
     "iopub.execute_input": "2024-06-29T08:23:25.403219Z",
     "iopub.status.busy": "2024-06-29T08:23:25.402857Z",
     "iopub.status.idle": "2024-06-29T08:23:25.406428Z",
     "shell.execute_reply": "2024-06-29T08:23:25.406014Z",
     "shell.execute_reply.started": "2024-06-29T08:23:25.403185Z"
    },
    "papermill": {
     "duration": 0.005067,
     "end_time": "2024-06-30T21:00:52.559469",
     "exception": false,
     "start_time": "2024-06-30T21:00:52.554402",
     "status": "completed"
    },
    "tags": [],
    "vscode": {
     "languageId": "raw"
    }
   },
   "source": [
    "adataMAINpath = '03_downstream_analysis/08_PatientClassifier/scPoli/results/scPoli_2_100_20_*.h5ad'\n",
    "\n",
    "adataVALpath = '03_downstream_analysis/08_PatientClassifier/scPoli/results/scPoli_VALIDATION_2_20_20*.h5ad'\n",
    "adataEXCpath = '03_downstream_analysis/08_PatientClassifier/scPoli/results/scPoli_EXCLUDED_2_100_20_run1_pd5nyb4g.h5ad'\n",
    "adataEXTpath = '03_downstream_analysis/08_PatientClassifier/scPoli/results/scPoli_EXTERNAL_2_100_20_run1_pd5nyb4g.h5ad'\n",
    "\n",
    "adataPATH = adataVALpath"
   ]
  },
  {
   "cell_type": "code",
   "execution_count": 2,
   "id": "d3ccb10a-7201-43d0-a593-2b4650ff3451",
   "metadata": {
    "execution": {
     "iopub.execute_input": "2024-06-30T21:00:52.571591Z",
     "iopub.status.busy": "2024-06-30T21:00:52.571330Z",
     "iopub.status.idle": "2024-06-30T21:00:52.574207Z",
     "shell.execute_reply": "2024-06-30T21:00:52.573821Z"
    },
    "papermill": {
     "duration": 0.009113,
     "end_time": "2024-06-30T21:00:52.575006",
     "exception": false,
     "start_time": "2024-06-30T21:00:52.565893",
     "status": "completed"
    },
    "tags": []
   },
   "outputs": [
    {
     "name": "stdout",
     "output_type": "stream",
     "text": [
      "adataPATH = 03_downstream_analysis/08_PatientClassifier/scPoli/results/scPoli_ref_latents_VALIDATION_2_20_100_run2_k6f7ol23.h5ad\n"
     ]
    }
   ],
   "source": [
    "for v in ['adataPATH']:\n",
    "    if v in locals() or v in globals():\n",
    "        print(f\"{v} = {eval(v)}\")\n",
    "    else:\n",
    "        raise Exception(f\"{v} not specified\")"
   ]
  },
  {
   "cell_type": "code",
   "execution_count": 3,
   "id": "888fb5f4-9ab7-4196-a282-7a7e92a43971",
   "metadata": {
    "execution": {
     "iopub.execute_input": "2024-06-30T21:00:52.586153Z",
     "iopub.status.busy": "2024-06-30T21:00:52.585901Z",
     "iopub.status.idle": "2024-06-30T21:00:53.923842Z",
     "shell.execute_reply": "2024-06-30T21:00:53.923355Z"
    },
    "papermill": {
     "duration": 1.344879,
     "end_time": "2024-06-30T21:00:53.925220",
     "exception": false,
     "start_time": "2024-06-30T21:00:52.580341",
     "status": "completed"
    },
    "tags": []
   },
   "outputs": [],
   "source": [
    "import os\n",
    "import sys\n",
    "from glob import glob\n",
    "\n",
    "import scanpy as sc\n",
    "import pandas as pd\n",
    "\n",
    "from pyprojroot import here\n",
    "\n",
    "sys.path.insert(1, str(here('bin')))\n",
    "# Import custom functions\n",
    "from customPythonFunctions import aggregating_features"
   ]
  },
  {
   "cell_type": "markdown",
   "id": "ba4905ae-4546-4ef4-b57b-950441ab079d",
   "metadata": {
    "papermill": {
     "duration": 0.005229,
     "end_time": "2024-06-30T21:00:53.935578",
     "exception": false,
     "start_time": "2024-06-30T21:00:53.930349",
     "status": "completed"
    },
    "tags": []
   },
   "source": [
    "### Loading data"
   ]
  },
  {
   "cell_type": "code",
   "execution_count": 4,
   "id": "539cbbbb-3503-4f51-bf04-f007f928ebd1",
   "metadata": {
    "execution": {
     "iopub.execute_input": "2024-06-30T21:00:53.946852Z",
     "iopub.status.busy": "2024-06-30T21:00:53.946579Z",
     "iopub.status.idle": "2024-06-30T21:00:53.950218Z",
     "shell.execute_reply": "2024-06-30T21:00:53.949836Z"
    },
    "papermill": {
     "duration": 0.010029,
     "end_time": "2024-06-30T21:00:53.950985",
     "exception": false,
     "start_time": "2024-06-30T21:00:53.940956",
     "status": "completed"
    },
    "tags": []
   },
   "outputs": [],
   "source": [
    "adataPATHlist = glob(str(here(adataPATH)))\n",
    "assert(len(adataPATHlist) == 1)"
   ]
  },
  {
   "cell_type": "code",
   "execution_count": 5,
   "id": "0fcfce0a-896b-4dc0-8e5e-46749205c84f",
   "metadata": {
    "execution": {
     "iopub.execute_input": "2024-06-30T21:00:53.961959Z",
     "iopub.status.busy": "2024-06-30T21:00:53.961557Z",
     "iopub.status.idle": "2024-06-30T21:01:00.790033Z",
     "shell.execute_reply": "2024-06-30T21:01:00.789603Z"
    },
    "papermill": {
     "duration": 6.834834,
     "end_time": "2024-06-30T21:01:00.790845",
     "exception": false,
     "start_time": "2024-06-30T21:00:53.956011",
     "status": "completed"
    },
    "tags": []
   },
   "outputs": [
    {
     "data": {
      "text/plain": [
       "AnnData object with n_obs × n_vars = 4435922 × 20\n",
       "    obs: 'studyID', 'libraryID', 'sampleID', 'chemistry', 'disease', 'sex', 'binned_age', 'Level1', 'Level2'\n",
       "    uns: 'chemistry', 'sampleID'"
      ]
     },
     "execution_count": 5,
     "metadata": {},
     "output_type": "execute_result"
    }
   ],
   "source": [
    "adata = sc.read_h5ad(adataPATHlist[0])\n",
    "adata"
   ]
  },
  {
   "cell_type": "markdown",
   "id": "44e868b3-0771-4225-bd79-a4b179bc672b",
   "metadata": {
    "papermill": {
     "duration": 0.005035,
     "end_time": "2024-06-30T21:01:00.801410",
     "exception": false,
     "start_time": "2024-06-30T21:01:00.796375",
     "status": "completed"
    },
    "tags": []
   },
   "source": [
    "#### Generating PSEUDOBULKs"
   ]
  },
  {
   "cell_type": "markdown",
   "id": "97d09fc5-d05c-471e-87fa-fe58ccbe47ac",
   "metadata": {
    "papermill": {
     "duration": 0.00503,
     "end_time": "2024-06-30T21:01:00.811421",
     "exception": false,
     "start_time": "2024-06-30T21:01:00.806391",
     "status": "completed"
    },
    "tags": []
   },
   "source": [
    "**Aggregating cell latent features**"
   ]
  },
  {
   "cell_type": "code",
   "execution_count": 6,
   "id": "81223976-fcf6-4354-8964-b12d76468636",
   "metadata": {
    "execution": {
     "iopub.execute_input": "2024-06-30T21:01:00.822452Z",
     "iopub.status.busy": "2024-06-30T21:01:00.821983Z",
     "iopub.status.idle": "2024-06-30T21:01:02.535307Z",
     "shell.execute_reply": "2024-06-30T21:01:02.534853Z"
    },
    "papermill": {
     "duration": 1.71966,
     "end_time": "2024-06-30T21:01:02.536106",
     "exception": false,
     "start_time": "2024-06-30T21:01:00.816446",
     "status": "completed"
    },
    "tags": []
   },
   "outputs": [
    {
     "data": {
      "text/plain": [
       "AnnData object with n_obs × n_vars = 11372 × 20\n",
       "    obs: 'sampleID', 'Level1', 'disease', 'n_observation'"
      ]
     },
     "execution_count": 6,
     "metadata": {},
     "output_type": "execute_result"
    }
   ],
   "source": [
    "adataPBcell = aggregating_features(Z = adata.X, \n",
    "                             obsDF = adata.obs[['sampleID','Level1','disease']], \n",
    "                             mode = 'mean', \n",
    "                             obs_names_col=['sampleID','Level1'], \n",
    "                             min_observation=0)\n",
    "adataPBcell"
   ]
  },
  {
   "cell_type": "code",
   "execution_count": null,
   "id": "8495038e-aebd-4003-bd94-c1e49f47249e",
   "metadata": {
    "papermill": {
     "duration": 0.005241,
     "end_time": "2024-06-30T21:01:02.547368",
     "exception": false,
     "start_time": "2024-06-30T21:01:02.542127",
     "status": "completed"
    },
    "tags": []
   },
   "outputs": [],
   "source": []
  },
  {
   "cell_type": "markdown",
   "id": "6d602bad-4793-4aa4-b3d7-d118d413a0fc",
   "metadata": {
    "papermill": {
     "duration": 0.005111,
     "end_time": "2024-06-30T21:01:02.558525",
     "exception": false,
     "start_time": "2024-06-30T21:01:02.553414",
     "status": "completed"
    },
    "tags": []
   },
   "source": [
    "**Extracting sample embedding**"
   ]
  },
  {
   "cell_type": "code",
   "execution_count": 7,
   "id": "e2c14f02",
   "metadata": {
    "execution": {
     "iopub.execute_input": "2024-06-30T21:01:02.570065Z",
     "iopub.status.busy": "2024-06-30T21:01:02.569593Z",
     "iopub.status.idle": "2024-06-30T21:01:02.579619Z",
     "shell.execute_reply": "2024-06-30T21:01:02.579235Z"
    },
    "papermill": {
     "duration": 0.016766,
     "end_time": "2024-06-30T21:01:02.580423",
     "exception": false,
     "start_time": "2024-06-30T21:01:02.563657",
     "status": "completed"
    },
    "tags": []
   },
   "outputs": [
    {
     "data": {
      "text/plain": [
       "AnnData object with n_obs × n_vars = 817 × 100\n",
       "    obs: 'sampleID', 'disease', 'Level1'"
      ]
     },
     "execution_count": 7,
     "metadata": {},
     "output_type": "execute_result"
    }
   ],
   "source": [
    "adataPBsample = adata.uns['sampleID'].copy()\n",
    "adataPBsample.obs['sampleID'] = adataPBsample.obs.index\n",
    "adataPBsample = adataPBsample[adataPBsample.obs['sampleID'].isin(adataPBcell.obs['sampleID'])]\n",
    "\n",
    "adataPBsample.obs = adataPBsample.obs.merge(adataPBcell.obs.groupby('sampleID').agg({'disease':'first'}), left_index=True, right_index=True)\n",
    "adataPBsample.obs['Level1'] = 'sample'\n",
    "adataPBsample"
   ]
  },
  {
   "cell_type": "markdown",
   "id": "2d4fe137-7d68-4e86-a85c-3c1a3d3c4c71",
   "metadata": {
    "papermill": {
     "duration": 0.005468,
     "end_time": "2024-06-30T21:01:02.591700",
     "exception": false,
     "start_time": "2024-06-30T21:01:02.586232",
     "status": "completed"
    },
    "tags": []
   },
   "source": [
    "**Merging cell and patient latent features**"
   ]
  },
  {
   "cell_type": "code",
   "execution_count": 8,
   "id": "a326d2b1",
   "metadata": {
    "execution": {
     "iopub.execute_input": "2024-06-30T21:01:02.603306Z",
     "iopub.status.busy": "2024-06-30T21:01:02.603141Z",
     "iopub.status.idle": "2024-06-30T21:01:02.605615Z",
     "shell.execute_reply": "2024-06-30T21:01:02.605242Z"
    },
    "papermill": {
     "duration": 0.009028,
     "end_time": "2024-06-30T21:01:02.606374",
     "exception": false,
     "start_time": "2024-06-30T21:01:02.597346",
     "status": "completed"
    },
    "tags": []
   },
   "outputs": [],
   "source": [
    "PBcellDF = adataPBcell.to_df()\n",
    "PBcellDF['sampleID'] = adataPBcell.obs['sampleID']"
   ]
  },
  {
   "cell_type": "code",
   "execution_count": 9,
   "id": "1a597f46-d9c5-403b-b81e-5738ca206682",
   "metadata": {
    "execution": {
     "iopub.execute_input": "2024-06-30T21:01:02.617638Z",
     "iopub.status.busy": "2024-06-30T21:01:02.617356Z",
     "iopub.status.idle": "2024-06-30T21:01:02.619787Z",
     "shell.execute_reply": "2024-06-30T21:01:02.619411Z"
    },
    "papermill": {
     "duration": 0.008801,
     "end_time": "2024-06-30T21:01:02.620565",
     "exception": false,
     "start_time": "2024-06-30T21:01:02.611764",
     "status": "completed"
    },
    "tags": []
   },
   "outputs": [],
   "source": [
    "PBsampleDF = adataPBsample.to_df()\n",
    "PBsampleDF['sampleID'] = adataPBsample.obs['sampleID']"
   ]
  },
  {
   "cell_type": "code",
   "execution_count": 10,
   "id": "bb384751-fe1b-4635-a90d-fd98ae61b173",
   "metadata": {
    "execution": {
     "iopub.execute_input": "2024-06-30T21:01:02.632568Z",
     "iopub.status.busy": "2024-06-30T21:01:02.632253Z",
     "iopub.status.idle": "2024-06-30T21:01:02.639657Z",
     "shell.execute_reply": "2024-06-30T21:01:02.639174Z"
    },
    "papermill": {
     "duration": 0.014194,
     "end_time": "2024-06-30T21:01:02.640427",
     "exception": false,
     "start_time": "2024-06-30T21:01:02.626233",
     "status": "completed"
    },
    "tags": []
   },
   "outputs": [],
   "source": [
    "PBcell_sampleDF = PBcellDF.merge(PBsampleDF, on='sampleID', how='left')"
   ]
  },
  {
   "cell_type": "code",
   "execution_count": 11,
   "id": "f7250713-e24d-4614-9cbd-eed702340640",
   "metadata": {
    "execution": {
     "iopub.execute_input": "2024-06-30T21:01:02.652372Z",
     "iopub.status.busy": "2024-06-30T21:01:02.652090Z",
     "iopub.status.idle": "2024-06-30T21:01:02.654676Z",
     "shell.execute_reply": "2024-06-30T21:01:02.654299Z"
    },
    "papermill": {
     "duration": 0.009225,
     "end_time": "2024-06-30T21:01:02.655420",
     "exception": false,
     "start_time": "2024-06-30T21:01:02.646195",
     "status": "completed"
    },
    "tags": []
   },
   "outputs": [],
   "source": [
    "assert(adataPBcell.obs['sampleID'].tolist() == PBcell_sampleDF['sampleID'].tolist())"
   ]
  },
  {
   "cell_type": "code",
   "execution_count": 12,
   "id": "abea2252-6a12-4b89-9f0d-6d6df90064fb",
   "metadata": {
    "execution": {
     "iopub.execute_input": "2024-06-30T21:01:02.668263Z",
     "iopub.status.busy": "2024-06-30T21:01:02.667929Z",
     "iopub.status.idle": "2024-06-30T21:01:02.670998Z",
     "shell.execute_reply": "2024-06-30T21:01:02.670598Z"
    },
    "papermill": {
     "duration": 0.010035,
     "end_time": "2024-06-30T21:01:02.671754",
     "exception": false,
     "start_time": "2024-06-30T21:01:02.661719",
     "status": "completed"
    },
    "tags": []
   },
   "outputs": [],
   "source": [
    "PBcell_sampleDF.drop('sampleID', axis=1, inplace=True)"
   ]
  },
  {
   "cell_type": "code",
   "execution_count": 13,
   "id": "5502e45d-5c72-4440-a8c1-5b299cac6e2d",
   "metadata": {
    "execution": {
     "iopub.execute_input": "2024-06-30T21:01:02.683603Z",
     "iopub.status.busy": "2024-06-30T21:01:02.683302Z",
     "iopub.status.idle": "2024-06-30T21:01:02.687389Z",
     "shell.execute_reply": "2024-06-30T21:01:02.687014Z"
    },
    "papermill": {
     "duration": 0.010824,
     "end_time": "2024-06-30T21:01:02.688144",
     "exception": false,
     "start_time": "2024-06-30T21:01:02.677320",
     "status": "completed"
    },
    "tags": []
   },
   "outputs": [
    {
     "data": {
      "text/plain": [
       "AnnData object with n_obs × n_vars = 11372 × 120\n",
       "    obs: 'sampleID', 'Level1', 'disease', 'n_observation'"
      ]
     },
     "execution_count": 13,
     "metadata": {},
     "output_type": "execute_result"
    }
   ],
   "source": [
    "adataPBcell_sample = sc.AnnData(X = PBcell_sampleDF, obs = adataPBcell.obs)\n",
    "adataPBcell_sample"
   ]
  },
  {
   "cell_type": "markdown",
   "id": "d59574be-684b-4082-b8b6-7d11930362ad",
   "metadata": {
    "papermill": {
     "duration": 0.005962,
     "end_time": "2024-06-30T21:01:02.699880",
     "exception": false,
     "start_time": "2024-06-30T21:01:02.693918",
     "status": "completed"
    },
    "tags": []
   },
   "source": [
    "### Saving pseudobulk adata objects"
   ]
  },
  {
   "cell_type": "code",
   "execution_count": 14,
   "id": "5947e6f8-ac27-4702-ba5d-aa9e1ba79f6a",
   "metadata": {
    "execution": {
     "iopub.execute_input": "2024-06-30T21:01:02.712118Z",
     "iopub.status.busy": "2024-06-30T21:01:02.711671Z",
     "iopub.status.idle": "2024-06-30T21:01:02.782787Z",
     "shell.execute_reply": "2024-06-30T21:01:02.782344Z"
    },
    "papermill": {
     "duration": 0.078346,
     "end_time": "2024-06-30T21:01:02.783887",
     "exception": false,
     "start_time": "2024-06-30T21:01:02.705541",
     "status": "completed"
    },
    "tags": []
   },
   "outputs": [],
   "source": [
    "adataPBcell.write(here(adataPATHlist[0].replace('/scPoli_','/PSEUDOBULKs/scPoli_PSEUDOBULKcell_')), compression='gzip')"
   ]
  },
  {
   "cell_type": "code",
   "execution_count": 15,
   "id": "e9485945-bccf-419a-9420-c1e4f3aa262d",
   "metadata": {
    "execution": {
     "iopub.execute_input": "2024-06-30T21:01:02.795930Z",
     "iopub.status.busy": "2024-06-30T21:01:02.795634Z",
     "iopub.status.idle": "2024-06-30T21:01:02.825531Z",
     "shell.execute_reply": "2024-06-30T21:01:02.825106Z"
    },
    "papermill": {
     "duration": 0.036744,
     "end_time": "2024-06-30T21:01:02.826341",
     "exception": false,
     "start_time": "2024-06-30T21:01:02.789597",
     "status": "completed"
    },
    "tags": []
   },
   "outputs": [],
   "source": [
    "adataPBsample.write(here(adataPATHlist[0].replace('/scPoli_','/PSEUDOBULKs/scPoli_PSEUDOBULKsample_')), compression='gzip')"
   ]
  },
  {
   "cell_type": "code",
   "execution_count": 16,
   "id": "9c2daa40-3279-4b24-8aad-65ee0ba758c8",
   "metadata": {
    "execution": {
     "iopub.execute_input": "2024-06-30T21:01:02.838559Z",
     "iopub.status.busy": "2024-06-30T21:01:02.838120Z",
     "iopub.status.idle": "2024-06-30T21:01:02.940563Z",
     "shell.execute_reply": "2024-06-30T21:01:02.940068Z"
    },
    "papermill": {
     "duration": 0.109326,
     "end_time": "2024-06-30T21:01:02.941364",
     "exception": false,
     "start_time": "2024-06-30T21:01:02.832038",
     "status": "completed"
    },
    "tags": []
   },
   "outputs": [],
   "source": [
    "adataPBcell_sample.write(here(adataPATHlist[0].replace('/scPoli_','/PSEUDOBULKs/scPoli_PSEUDOBULKcellSample_')), compression='gzip')"
   ]
  },
  {
   "cell_type": "code",
   "execution_count": null,
   "id": "8a70d9f6-7a44-45ee-8470-702bd7af1e0b",
   "metadata": {
    "papermill": {
     "duration": 0.005825,
     "end_time": "2024-06-30T21:01:02.952846",
     "exception": false,
     "start_time": "2024-06-30T21:01:02.947021",
     "status": "completed"
    },
    "tags": []
   },
   "outputs": [],
   "source": []
  }
 ],
 "metadata": {
  "kernelspec": {
   "display_name": "Python 3 (ipykernel)",
   "language": "python",
   "name": "python3"
  },
  "language_info": {
   "codemirror_mode": {
    "name": "ipython",
    "version": 3
   },
   "file_extension": ".py",
   "mimetype": "text/x-python",
   "name": "python",
   "nbconvert_exporter": "python",
   "pygments_lexer": "ipython3",
   "version": "3.12.3"
  },
  "papermill": {
   "default_parameters": {},
   "duration": 12.181143,
   "end_time": "2024-06-30T21:01:03.572914",
   "environment_variables": {},
   "exception": null,
   "input_path": "03_generating_PSEUDOBULKs.ipynb",
   "output_path": "executed_notebooks/03_generating_PSEUDOBULKs_scPoli_ref_latents_VALIDATION_2_20_100_run2_k6f7ol23.h5ad.ipynb",
   "parameters": {
    "adataPATH": "03_downstream_analysis/08_PatientClassifier/scPoli/results/scPoli_ref_latents_VALIDATION_2_20_100_run2_k6f7ol23.h5ad"
   },
   "start_time": "2024-06-30T21:00:51.391771",
   "version": "2.6.0"
  }
 },
 "nbformat": 4,
 "nbformat_minor": 5
}