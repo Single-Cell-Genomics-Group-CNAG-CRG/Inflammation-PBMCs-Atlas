{
 "cells": [
  {
   "cell_type": "code",
   "execution_count": 1,
   "id": "24ac1746",
   "metadata": {
    "execution": {
     "iopub.execute_input": "2024-06-30T20:59:46.237509Z",
     "iopub.status.busy": "2024-06-30T20:59:46.237219Z",
     "iopub.status.idle": "2024-06-30T20:59:46.239749Z",
     "shell.execute_reply": "2024-06-30T20:59:46.239373Z"
    },
    "papermill": {
     "duration": 0.010667,
     "end_time": "2024-06-30T20:59:46.240602",
     "exception": false,
     "start_time": "2024-06-30T20:59:46.229935",
     "status": "completed"
    },
    "tags": [
     "injected-parameters"
    ]
   },
   "outputs": [],
   "source": [
    "# Parameters\n",
    "adataPATH = \"03_downstream_analysis/08_PatientClassifier/scPoli/results/scPoli_EXTERNAL_2_20_20_run1_iqrndxcb.h5ad\"\n"
   ]
  },
  {
   "cell_type": "raw",
   "id": "bf9880bd-3aef-477b-807d-37e3c5603037",
   "metadata": {
    "execution": {
     "iopub.execute_input": "2024-06-29T08:23:25.403219Z",
     "iopub.status.busy": "2024-06-29T08:23:25.402857Z",
     "iopub.status.idle": "2024-06-29T08:23:25.406428Z",
     "shell.execute_reply": "2024-06-29T08:23:25.406014Z",
     "shell.execute_reply.started": "2024-06-29T08:23:25.403185Z"
    },
    "papermill": {
     "duration": 0.006044,
     "end_time": "2024-06-30T20:59:46.251972",
     "exception": false,
     "start_time": "2024-06-30T20:59:46.245928",
     "status": "completed"
    },
    "tags": [],
    "vscode": {
     "languageId": "raw"
    }
   },
   "source": [
    "adataMAINpath = '03_downstream_analysis/08_PatientClassifier/scPoli/results/scPoli_2_100_20_*.h5ad'\n",
    "\n",
    "adataVALpath = '03_downstream_analysis/08_PatientClassifier/scPoli/results/scPoli_VALIDATION_2_20_20*.h5ad'\n",
    "adataEXCpath = '03_downstream_analysis/08_PatientClassifier/scPoli/results/scPoli_EXCLUDED_2_100_20_run1_pd5nyb4g.h5ad'\n",
    "adataEXTpath = '03_downstream_analysis/08_PatientClassifier/scPoli/results/scPoli_EXTERNAL_2_100_20_run1_pd5nyb4g.h5ad'\n",
    "\n",
    "adataPATH = adataVALpath"
   ]
  },
  {
   "cell_type": "code",
   "execution_count": 2,
   "id": "d3ccb10a-7201-43d0-a593-2b4650ff3451",
   "metadata": {
    "execution": {
     "iopub.execute_input": "2024-06-30T20:59:46.262742Z",
     "iopub.status.busy": "2024-06-30T20:59:46.262434Z",
     "iopub.status.idle": "2024-06-30T20:59:46.265363Z",
     "shell.execute_reply": "2024-06-30T20:59:46.264969Z"
    },
    "papermill": {
     "duration": 0.009004,
     "end_time": "2024-06-30T20:59:46.266127",
     "exception": false,
     "start_time": "2024-06-30T20:59:46.257123",
     "status": "completed"
    },
    "tags": []
   },
   "outputs": [
    {
     "name": "stdout",
     "output_type": "stream",
     "text": [
      "adataPATH = 03_downstream_analysis/08_PatientClassifier/scPoli/results/scPoli_EXTERNAL_2_20_20_run1_iqrndxcb.h5ad\n"
     ]
    }
   ],
   "source": [
    "for v in ['adataPATH']:\n",
    "    if v in locals() or v in globals():\n",
    "        print(f\"{v} = {eval(v)}\")\n",
    "    else:\n",
    "        raise Exception(f\"{v} not specified\")"
   ]
  },
  {
   "cell_type": "code",
   "execution_count": 3,
   "id": "888fb5f4-9ab7-4196-a282-7a7e92a43971",
   "metadata": {
    "execution": {
     "iopub.execute_input": "2024-06-30T20:59:46.277501Z",
     "iopub.status.busy": "2024-06-30T20:59:46.277184Z",
     "iopub.status.idle": "2024-06-30T20:59:47.684811Z",
     "shell.execute_reply": "2024-06-30T20:59:47.684323Z"
    },
    "papermill": {
     "duration": 1.414472,
     "end_time": "2024-06-30T20:59:47.686193",
     "exception": false,
     "start_time": "2024-06-30T20:59:46.271721",
     "status": "completed"
    },
    "tags": []
   },
   "outputs": [],
   "source": [
    "import os\n",
    "import sys\n",
    "from glob import glob\n",
    "\n",
    "import scanpy as sc\n",
    "import pandas as pd\n",
    "\n",
    "from pyprojroot import here\n",
    "\n",
    "sys.path.insert(1, str(here('bin')))\n",
    "# Import custom functions\n",
    "from customPythonFunctions import aggregating_features"
   ]
  },
  {
   "cell_type": "markdown",
   "id": "ba4905ae-4546-4ef4-b57b-950441ab079d",
   "metadata": {
    "papermill": {
     "duration": 0.004932,
     "end_time": "2024-06-30T20:59:47.696475",
     "exception": false,
     "start_time": "2024-06-30T20:59:47.691543",
     "status": "completed"
    },
    "tags": []
   },
   "source": [
    "### Loading data"
   ]
  },
  {
   "cell_type": "code",
   "execution_count": 4,
   "id": "539cbbbb-3503-4f51-bf04-f007f928ebd1",
   "metadata": {
    "execution": {
     "iopub.execute_input": "2024-06-30T20:59:47.711671Z",
     "iopub.status.busy": "2024-06-30T20:59:47.711385Z",
     "iopub.status.idle": "2024-06-30T20:59:47.715602Z",
     "shell.execute_reply": "2024-06-30T20:59:47.715237Z"
    },
    "papermill": {
     "duration": 0.010757,
     "end_time": "2024-06-30T20:59:47.716393",
     "exception": false,
     "start_time": "2024-06-30T20:59:47.705636",
     "status": "completed"
    },
    "tags": []
   },
   "outputs": [],
   "source": [
    "adataPATHlist = glob(str(here(adataPATH)))\n",
    "assert(len(adataPATHlist) == 1)"
   ]
  },
  {
   "cell_type": "code",
   "execution_count": 5,
   "id": "0fcfce0a-896b-4dc0-8e5e-46749205c84f",
   "metadata": {
    "execution": {
     "iopub.execute_input": "2024-06-30T20:59:47.728792Z",
     "iopub.status.busy": "2024-06-30T20:59:47.728431Z",
     "iopub.status.idle": "2024-06-30T20:59:48.549097Z",
     "shell.execute_reply": "2024-06-30T20:59:48.548665Z"
    },
    "papermill": {
     "duration": 0.827647,
     "end_time": "2024-06-30T20:59:48.549990",
     "exception": false,
     "start_time": "2024-06-30T20:59:47.722343",
     "status": "completed"
    },
    "tags": []
   },
   "outputs": [
    {
     "data": {
      "text/plain": [
       "AnnData object with n_obs × n_vars = 572872 × 20\n",
       "    obs: 'studyID', 'libraryID', 'sampleID', 'chemistry', 'technology', 'disease', 'sex', 'binned_age', 'Level1', 'Level1_unc', 'Level2', 'Level2_unc'\n",
       "    uns: 'chemistry', 'sampleID'"
      ]
     },
     "execution_count": 5,
     "metadata": {},
     "output_type": "execute_result"
    }
   ],
   "source": [
    "adata = sc.read_h5ad(adataPATHlist[0])\n",
    "adata"
   ]
  },
  {
   "cell_type": "markdown",
   "id": "44e868b3-0771-4225-bd79-a4b179bc672b",
   "metadata": {
    "papermill": {
     "duration": 0.005591,
     "end_time": "2024-06-30T20:59:48.561207",
     "exception": false,
     "start_time": "2024-06-30T20:59:48.555616",
     "status": "completed"
    },
    "tags": []
   },
   "source": [
    "#### Generating PSEUDOBULKs"
   ]
  },
  {
   "cell_type": "markdown",
   "id": "97d09fc5-d05c-471e-87fa-fe58ccbe47ac",
   "metadata": {
    "papermill": {
     "duration": 0.005655,
     "end_time": "2024-06-30T20:59:48.572398",
     "exception": false,
     "start_time": "2024-06-30T20:59:48.566743",
     "status": "completed"
    },
    "tags": []
   },
   "source": [
    "**Aggregating cell latent features**"
   ]
  },
  {
   "cell_type": "code",
   "execution_count": 6,
   "id": "81223976-fcf6-4354-8964-b12d76468636",
   "metadata": {
    "execution": {
     "iopub.execute_input": "2024-06-30T20:59:48.583413Z",
     "iopub.status.busy": "2024-06-30T20:59:48.583262Z",
     "iopub.status.idle": "2024-06-30T20:59:48.814423Z",
     "shell.execute_reply": "2024-06-30T20:59:48.813966Z"
    },
    "papermill": {
     "duration": 0.237409,
     "end_time": "2024-06-30T20:59:48.815219",
     "exception": false,
     "start_time": "2024-06-30T20:59:48.577810",
     "status": "completed"
    },
    "tags": []
   },
   "outputs": [
    {
     "data": {
      "text/plain": [
       "AnnData object with n_obs × n_vars = 1272 × 20\n",
       "    obs: 'sampleID', 'Level1', 'disease', 'n_observation'"
      ]
     },
     "execution_count": 6,
     "metadata": {},
     "output_type": "execute_result"
    }
   ],
   "source": [
    "adataPBcell = aggregating_features(Z = adata.X, \n",
    "                             obsDF = adata.obs[['sampleID','Level1','disease']], \n",
    "                             mode = 'mean', \n",
    "                             obs_names_col=['sampleID','Level1'], \n",
    "                             min_observation=0)\n",
    "adataPBcell"
   ]
  },
  {
   "cell_type": "code",
   "execution_count": null,
   "id": "8495038e-aebd-4003-bd94-c1e49f47249e",
   "metadata": {
    "papermill": {
     "duration": 0.005014,
     "end_time": "2024-06-30T20:59:48.825858",
     "exception": false,
     "start_time": "2024-06-30T20:59:48.820844",
     "status": "completed"
    },
    "tags": []
   },
   "outputs": [],
   "source": []
  },
  {
   "cell_type": "markdown",
   "id": "6d602bad-4793-4aa4-b3d7-d118d413a0fc",
   "metadata": {
    "papermill": {
     "duration": 0.0049,
     "end_time": "2024-06-30T20:59:48.836538",
     "exception": false,
     "start_time": "2024-06-30T20:59:48.831638",
     "status": "completed"
    },
    "tags": []
   },
   "source": [
    "**Extracting sample embedding**"
   ]
  },
  {
   "cell_type": "code",
   "execution_count": 7,
   "id": "e2c14f02",
   "metadata": {
    "execution": {
     "iopub.execute_input": "2024-06-30T20:59:48.847524Z",
     "iopub.status.busy": "2024-06-30T20:59:48.847171Z",
     "iopub.status.idle": "2024-06-30T20:59:48.854998Z",
     "shell.execute_reply": "2024-06-30T20:59:48.854654Z"
    },
    "papermill": {
     "duration": 0.014297,
     "end_time": "2024-06-30T20:59:48.855765",
     "exception": false,
     "start_time": "2024-06-30T20:59:48.841468",
     "status": "completed"
    },
    "tags": []
   },
   "outputs": [
    {
     "data": {
      "text/plain": [
       "AnnData object with n_obs × n_vars = 86 × 20\n",
       "    obs: 'sampleID', 'disease', 'Level1'"
      ]
     },
     "execution_count": 7,
     "metadata": {},
     "output_type": "execute_result"
    }
   ],
   "source": [
    "adataPBsample = adata.uns['sampleID'].copy()\n",
    "adataPBsample.obs['sampleID'] = adataPBsample.obs.index\n",
    "adataPBsample = adataPBsample[adataPBsample.obs['sampleID'].isin(adataPBcell.obs['sampleID'])]\n",
    "\n",
    "adataPBsample.obs = adataPBsample.obs.merge(adataPBcell.obs.groupby('sampleID').agg({'disease':'first'}), left_index=True, right_index=True)\n",
    "adataPBsample.obs['Level1'] = 'sample'\n",
    "adataPBsample"
   ]
  },
  {
   "cell_type": "markdown",
   "id": "2d4fe137-7d68-4e86-a85c-3c1a3d3c4c71",
   "metadata": {
    "papermill": {
     "duration": 0.005337,
     "end_time": "2024-06-30T20:59:48.866329",
     "exception": false,
     "start_time": "2024-06-30T20:59:48.860992",
     "status": "completed"
    },
    "tags": []
   },
   "source": [
    "**Merging cell and patient latent features**"
   ]
  },
  {
   "cell_type": "code",
   "execution_count": 8,
   "id": "a326d2b1",
   "metadata": {
    "execution": {
     "iopub.execute_input": "2024-06-30T20:59:48.877262Z",
     "iopub.status.busy": "2024-06-30T20:59:48.877109Z",
     "iopub.status.idle": "2024-06-30T20:59:48.879456Z",
     "shell.execute_reply": "2024-06-30T20:59:48.879101Z"
    },
    "papermill": {
     "duration": 0.008746,
     "end_time": "2024-06-30T20:59:48.880247",
     "exception": false,
     "start_time": "2024-06-30T20:59:48.871501",
     "status": "completed"
    },
    "tags": []
   },
   "outputs": [],
   "source": [
    "PBcellDF = adataPBcell.to_df()\n",
    "PBcellDF['sampleID'] = adataPBcell.obs['sampleID']"
   ]
  },
  {
   "cell_type": "code",
   "execution_count": 9,
   "id": "1a597f46-d9c5-403b-b81e-5738ca206682",
   "metadata": {
    "execution": {
     "iopub.execute_input": "2024-06-30T20:59:48.891648Z",
     "iopub.status.busy": "2024-06-30T20:59:48.891378Z",
     "iopub.status.idle": "2024-06-30T20:59:48.893746Z",
     "shell.execute_reply": "2024-06-30T20:59:48.893393Z"
    },
    "papermill": {
     "duration": 0.008733,
     "end_time": "2024-06-30T20:59:48.894498",
     "exception": false,
     "start_time": "2024-06-30T20:59:48.885765",
     "status": "completed"
    },
    "tags": []
   },
   "outputs": [],
   "source": [
    "PBsampleDF = adataPBsample.to_df()\n",
    "PBsampleDF['sampleID'] = adataPBsample.obs['sampleID']"
   ]
  },
  {
   "cell_type": "code",
   "execution_count": 10,
   "id": "bb384751-fe1b-4635-a90d-fd98ae61b173",
   "metadata": {
    "execution": {
     "iopub.execute_input": "2024-06-30T20:59:48.905763Z",
     "iopub.status.busy": "2024-06-30T20:59:48.905508Z",
     "iopub.status.idle": "2024-06-30T20:59:48.909208Z",
     "shell.execute_reply": "2024-06-30T20:59:48.908854Z"
    },
    "papermill": {
     "duration": 0.010052,
     "end_time": "2024-06-30T20:59:48.909954",
     "exception": false,
     "start_time": "2024-06-30T20:59:48.899902",
     "status": "completed"
    },
    "tags": []
   },
   "outputs": [],
   "source": [
    "PBcell_sampleDF = PBcellDF.merge(PBsampleDF, on='sampleID', how='left')"
   ]
  },
  {
   "cell_type": "code",
   "execution_count": 11,
   "id": "f7250713-e24d-4614-9cbd-eed702340640",
   "metadata": {
    "execution": {
     "iopub.execute_input": "2024-06-30T20:59:48.921674Z",
     "iopub.status.busy": "2024-06-30T20:59:48.921198Z",
     "iopub.status.idle": "2024-06-30T20:59:48.923638Z",
     "shell.execute_reply": "2024-06-30T20:59:48.923286Z"
    },
    "papermill": {
     "duration": 0.0092,
     "end_time": "2024-06-30T20:59:48.924384",
     "exception": false,
     "start_time": "2024-06-30T20:59:48.915184",
     "status": "completed"
    },
    "tags": []
   },
   "outputs": [],
   "source": [
    "assert(adataPBcell.obs['sampleID'].tolist() == PBcell_sampleDF['sampleID'].tolist())"
   ]
  },
  {
   "cell_type": "code",
   "execution_count": 12,
   "id": "abea2252-6a12-4b89-9f0d-6d6df90064fb",
   "metadata": {
    "execution": {
     "iopub.execute_input": "2024-06-30T20:59:48.935945Z",
     "iopub.status.busy": "2024-06-30T20:59:48.935813Z",
     "iopub.status.idle": "2024-06-30T20:59:48.938246Z",
     "shell.execute_reply": "2024-06-30T20:59:48.937885Z"
    },
    "papermill": {
     "duration": 0.009083,
     "end_time": "2024-06-30T20:59:48.939021",
     "exception": false,
     "start_time": "2024-06-30T20:59:48.929938",
     "status": "completed"
    },
    "tags": []
   },
   "outputs": [],
   "source": [
    "PBcell_sampleDF.drop('sampleID', axis=1, inplace=True)"
   ]
  },
  {
   "cell_type": "code",
   "execution_count": 13,
   "id": "5502e45d-5c72-4440-a8c1-5b299cac6e2d",
   "metadata": {
    "execution": {
     "iopub.execute_input": "2024-06-30T20:59:48.950379Z",
     "iopub.status.busy": "2024-06-30T20:59:48.950064Z",
     "iopub.status.idle": "2024-06-30T20:59:48.953418Z",
     "shell.execute_reply": "2024-06-30T20:59:48.953079Z"
    },
    "papermill": {
     "duration": 0.009806,
     "end_time": "2024-06-30T20:59:48.954162",
     "exception": false,
     "start_time": "2024-06-30T20:59:48.944356",
     "status": "completed"
    },
    "tags": []
   },
   "outputs": [
    {
     "data": {
      "text/plain": [
       "AnnData object with n_obs × n_vars = 1272 × 40\n",
       "    obs: 'sampleID', 'Level1', 'disease', 'n_observation'"
      ]
     },
     "execution_count": 13,
     "metadata": {},
     "output_type": "execute_result"
    }
   ],
   "source": [
    "adataPBcell_sample = sc.AnnData(X = PBcell_sampleDF, obs = adataPBcell.obs)\n",
    "adataPBcell_sample"
   ]
  },
  {
   "cell_type": "markdown",
   "id": "d59574be-684b-4082-b8b6-7d11930362ad",
   "metadata": {
    "papermill": {
     "duration": 0.005494,
     "end_time": "2024-06-30T20:59:48.965426",
     "exception": false,
     "start_time": "2024-06-30T20:59:48.959932",
     "status": "completed"
    },
    "tags": []
   },
   "source": [
    "### Saving pseudobulk adata objects"
   ]
  },
  {
   "cell_type": "code",
   "execution_count": 14,
   "id": "5947e6f8-ac27-4702-ba5d-aa9e1ba79f6a",
   "metadata": {
    "execution": {
     "iopub.execute_input": "2024-06-30T20:59:48.977145Z",
     "iopub.status.busy": "2024-06-30T20:59:48.976954Z",
     "iopub.status.idle": "2024-06-30T20:59:49.005518Z",
     "shell.execute_reply": "2024-06-30T20:59:49.005128Z"
    },
    "papermill": {
     "duration": 0.035603,
     "end_time": "2024-06-30T20:59:49.006546",
     "exception": false,
     "start_time": "2024-06-30T20:59:48.970943",
     "status": "completed"
    },
    "tags": []
   },
   "outputs": [],
   "source": [
    "adataPBcell.write(here(adataPATHlist[0].replace('/scPoli_','/PSEUDOBULKs/scPoli_PSEUDOBULKcell_')), compression='gzip')"
   ]
  },
  {
   "cell_type": "code",
   "execution_count": 15,
   "id": "e9485945-bccf-419a-9420-c1e4f3aa262d",
   "metadata": {
    "execution": {
     "iopub.execute_input": "2024-06-30T20:59:49.018493Z",
     "iopub.status.busy": "2024-06-30T20:59:49.018356Z",
     "iopub.status.idle": "2024-06-30T20:59:49.037918Z",
     "shell.execute_reply": "2024-06-30T20:59:49.037565Z"
    },
    "papermill": {
     "duration": 0.026231,
     "end_time": "2024-06-30T20:59:49.038689",
     "exception": false,
     "start_time": "2024-06-30T20:59:49.012458",
     "status": "completed"
    },
    "tags": []
   },
   "outputs": [],
   "source": [
    "adataPBsample.write(here(adataPATHlist[0].replace('/scPoli_','/PSEUDOBULKs/scPoli_PSEUDOBULKsample_')), compression='gzip')"
   ]
  },
  {
   "cell_type": "code",
   "execution_count": 16,
   "id": "9c2daa40-3279-4b24-8aad-65ee0ba758c8",
   "metadata": {
    "execution": {
     "iopub.execute_input": "2024-06-30T20:59:49.050273Z",
     "iopub.status.busy": "2024-06-30T20:59:49.050133Z",
     "iopub.status.idle": "2024-06-30T20:59:49.077478Z",
     "shell.execute_reply": "2024-06-30T20:59:49.077155Z"
    },
    "papermill": {
     "duration": 0.034046,
     "end_time": "2024-06-30T20:59:49.078267",
     "exception": false,
     "start_time": "2024-06-30T20:59:49.044221",
     "status": "completed"
    },
    "tags": []
   },
   "outputs": [],
   "source": [
    "adataPBcell_sample.write(here(adataPATHlist[0].replace('/scPoli_','/PSEUDOBULKs/scPoli_PSEUDOBULKcellSample_')), compression='gzip')"
   ]
  },
  {
   "cell_type": "code",
   "execution_count": null,
   "id": "8a70d9f6-7a44-45ee-8470-702bd7af1e0b",
   "metadata": {
    "papermill": {
     "duration": 0.005485,
     "end_time": "2024-06-30T20:59:49.089355",
     "exception": false,
     "start_time": "2024-06-30T20:59:49.083870",
     "status": "completed"
    },
    "tags": []
   },
   "outputs": [],
   "source": []
  }
 ],
 "metadata": {
  "kernelspec": {
   "display_name": "Python 3 (ipykernel)",
   "language": "python",
   "name": "python3"
  },
  "language_info": {
   "codemirror_mode": {
    "name": "ipython",
    "version": 3
   },
   "file_extension": ".py",
   "mimetype": "text/x-python",
   "name": "python",
   "nbconvert_exporter": "python",
   "pygments_lexer": "ipython3",
   "version": "3.12.3"
  },
  "papermill": {
   "default_parameters": {},
   "duration": 4.487632,
   "end_time": "2024-06-30T20:59:49.609745",
   "environment_variables": {},
   "exception": null,
   "input_path": "03_generating_PSEUDOBULKs.ipynb",
   "output_path": "executed_notebooks/03_generating_PSEUDOBULKs_scPoli_EXTERNAL_2_20_20_run1_iqrndxcb.h5ad.ipynb",
   "parameters": {
    "adataPATH": "03_downstream_analysis/08_PatientClassifier/scPoli/results/scPoli_EXTERNAL_2_20_20_run1_iqrndxcb.h5ad"
   },
   "start_time": "2024-06-30T20:59:45.122113",
   "version": "2.6.0"
  }
 },
 "nbformat": 4,
 "nbformat_minor": 5
}