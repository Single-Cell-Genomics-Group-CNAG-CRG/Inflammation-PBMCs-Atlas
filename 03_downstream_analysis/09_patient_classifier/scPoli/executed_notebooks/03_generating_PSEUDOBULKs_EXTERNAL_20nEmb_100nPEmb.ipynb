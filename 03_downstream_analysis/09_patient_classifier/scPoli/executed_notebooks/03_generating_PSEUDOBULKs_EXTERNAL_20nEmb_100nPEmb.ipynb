{
 "cells": [
  {
   "cell_type": "code",
   "execution_count": 1,
   "id": "0305e726",
   "metadata": {
    "execution": {
     "iopub.execute_input": "2024-06-30T20:55:41.533084Z",
     "iopub.status.busy": "2024-06-30T20:55:41.532534Z",
     "iopub.status.idle": "2024-06-30T20:55:41.535314Z",
     "shell.execute_reply": "2024-06-30T20:55:41.534946Z"
    },
    "papermill": {
     "duration": 0.011175,
     "end_time": "2024-06-30T20:55:41.536115",
     "exception": false,
     "start_time": "2024-06-30T20:55:41.524940",
     "status": "completed"
    },
    "tags": [
     "injected-parameters"
    ]
   },
   "outputs": [],
   "source": [
    "# Parameters\n",
    "adataPATH = \"03_downstream_analysis/08_PatientClassifier/scPoli/results/scPoli_EXTERNAL_2_20_100_*.h5ad\"\n"
   ]
  },
  {
   "cell_type": "raw",
   "id": "bf9880bd-3aef-477b-807d-37e3c5603037",
   "metadata": {
    "execution": {
     "iopub.execute_input": "2024-06-29T08:23:25.403219Z",
     "iopub.status.busy": "2024-06-29T08:23:25.402857Z",
     "iopub.status.idle": "2024-06-29T08:23:25.406428Z",
     "shell.execute_reply": "2024-06-29T08:23:25.406014Z",
     "shell.execute_reply.started": "2024-06-29T08:23:25.403185Z"
    },
    "papermill": {
     "duration": 0.00512,
     "end_time": "2024-06-30T20:55:41.546593",
     "exception": false,
     "start_time": "2024-06-30T20:55:41.541473",
     "status": "completed"
    },
    "tags": [],
    "vscode": {
     "languageId": "raw"
    }
   },
   "source": [
    "adataMAINpath = '03_downstream_analysis/08_PatientClassifier/scPoli/results/scPoli_2_100_20_*.h5ad'\n",
    "\n",
    "adataVALpath = '03_downstream_analysis/08_PatientClassifier/scPoli/results/scPoli_VALIDATION_2_20_20*.h5ad'\n",
    "adataEXCpath = '03_downstream_analysis/08_PatientClassifier/scPoli/results/scPoli_EXCLUDED_2_100_20_run1_pd5nyb4g.h5ad'\n",
    "adataEXTpath = '03_downstream_analysis/08_PatientClassifier/scPoli/results/scPoli_EXTERNAL_2_100_20_run1_pd5nyb4g.h5ad'\n",
    "\n",
    "adataPATH = adataVALpath"
   ]
  },
  {
   "cell_type": "code",
   "execution_count": 2,
   "id": "d3ccb10a-7201-43d0-a593-2b4650ff3451",
   "metadata": {
    "execution": {
     "iopub.execute_input": "2024-06-30T20:55:41.557411Z",
     "iopub.status.busy": "2024-06-30T20:55:41.557072Z",
     "iopub.status.idle": "2024-06-30T20:55:41.559962Z",
     "shell.execute_reply": "2024-06-30T20:55:41.559599Z"
    },
    "papermill": {
     "duration": 0.009133,
     "end_time": "2024-06-30T20:55:41.560761",
     "exception": false,
     "start_time": "2024-06-30T20:55:41.551628",
     "status": "completed"
    },
    "tags": []
   },
   "outputs": [
    {
     "name": "stdout",
     "output_type": "stream",
     "text": [
      "adataPATH = 03_downstream_analysis/08_PatientClassifier/scPoli/results/scPoli_EXTERNAL_2_20_100_*.h5ad\n"
     ]
    }
   ],
   "source": [
    "for v in ['adataPATH']:\n",
    "    if v in locals() or v in globals():\n",
    "        print(f\"{v} = {eval(v)}\")\n",
    "    else:\n",
    "        raise Exception(f\"{v} not specified\")"
   ]
  },
  {
   "cell_type": "code",
   "execution_count": 3,
   "id": "888fb5f4-9ab7-4196-a282-7a7e92a43971",
   "metadata": {
    "execution": {
     "iopub.execute_input": "2024-06-30T20:55:41.571533Z",
     "iopub.status.busy": "2024-06-30T20:55:41.571155Z",
     "iopub.status.idle": "2024-06-30T20:55:42.941544Z",
     "shell.execute_reply": "2024-06-30T20:55:42.941039Z"
    },
    "papermill": {
     "duration": 1.376697,
     "end_time": "2024-06-30T20:55:42.942433",
     "exception": false,
     "start_time": "2024-06-30T20:55:41.565736",
     "status": "completed"
    },
    "tags": []
   },
   "outputs": [],
   "source": [
    "import os\n",
    "import sys\n",
    "from glob import glob\n",
    "\n",
    "import scanpy as sc\n",
    "import pandas as pd\n",
    "\n",
    "from pyprojroot import here\n",
    "\n",
    "sys.path.insert(1, str(here('bin')))\n",
    "# Import custom functions\n",
    "from customPythonFunctions import aggregating_features"
   ]
  },
  {
   "cell_type": "markdown",
   "id": "ba4905ae-4546-4ef4-b57b-950441ab079d",
   "metadata": {
    "papermill": {
     "duration": 0.005059,
     "end_time": "2024-06-30T20:55:42.957754",
     "exception": false,
     "start_time": "2024-06-30T20:55:42.952695",
     "status": "completed"
    },
    "tags": []
   },
   "source": [
    "### Loading data"
   ]
  },
  {
   "cell_type": "code",
   "execution_count": 4,
   "id": "539cbbbb-3503-4f51-bf04-f007f928ebd1",
   "metadata": {
    "execution": {
     "iopub.execute_input": "2024-06-30T20:55:42.968790Z",
     "iopub.status.busy": "2024-06-30T20:55:42.968499Z",
     "iopub.status.idle": "2024-06-30T20:55:42.972591Z",
     "shell.execute_reply": "2024-06-30T20:55:42.972202Z"
    },
    "papermill": {
     "duration": 0.010475,
     "end_time": "2024-06-30T20:55:42.973421",
     "exception": false,
     "start_time": "2024-06-30T20:55:42.962946",
     "status": "completed"
    },
    "tags": []
   },
   "outputs": [],
   "source": [
    "adataPATHlist = glob(str(here(adataPATH)))\n",
    "assert(len(adataPATHlist) == 1)"
   ]
  },
  {
   "cell_type": "code",
   "execution_count": 5,
   "id": "0fcfce0a-896b-4dc0-8e5e-46749205c84f",
   "metadata": {
    "execution": {
     "iopub.execute_input": "2024-06-30T20:55:42.984809Z",
     "iopub.status.busy": "2024-06-30T20:55:42.984485Z",
     "iopub.status.idle": "2024-06-30T20:55:44.089411Z",
     "shell.execute_reply": "2024-06-30T20:55:44.088954Z"
    },
    "papermill": {
     "duration": 1.111545,
     "end_time": "2024-06-30T20:55:44.090301",
     "exception": false,
     "start_time": "2024-06-30T20:55:42.978756",
     "status": "completed"
    },
    "tags": []
   },
   "outputs": [
    {
     "data": {
      "text/plain": [
       "AnnData object with n_obs × n_vars = 572872 × 20\n",
       "    obs: 'studyID', 'libraryID', 'sampleID', 'chemistry', 'technology', 'disease', 'sex', 'binned_age', 'Level1', 'Level2', 'conditions_combined', 'Level1_unc', 'Level2_unc'\n",
       "    uns: 'chemistry', 'sampleID'"
      ]
     },
     "execution_count": 5,
     "metadata": {},
     "output_type": "execute_result"
    }
   ],
   "source": [
    "adata = sc.read_h5ad(adataPATHlist[0])\n",
    "adata"
   ]
  },
  {
   "cell_type": "markdown",
   "id": "44e868b3-0771-4225-bd79-a4b179bc672b",
   "metadata": {
    "papermill": {
     "duration": 0.005062,
     "end_time": "2024-06-30T20:55:44.101282",
     "exception": false,
     "start_time": "2024-06-30T20:55:44.096220",
     "status": "completed"
    },
    "tags": []
   },
   "source": [
    "#### Generating PSEUDOBULKs"
   ]
  },
  {
   "cell_type": "markdown",
   "id": "97d09fc5-d05c-471e-87fa-fe58ccbe47ac",
   "metadata": {
    "papermill": {
     "duration": 0.005039,
     "end_time": "2024-06-30T20:55:44.111387",
     "exception": false,
     "start_time": "2024-06-30T20:55:44.106348",
     "status": "completed"
    },
    "tags": []
   },
   "source": [
    "**Aggregating cell latent features**"
   ]
  },
  {
   "cell_type": "code",
   "execution_count": 6,
   "id": "81223976-fcf6-4354-8964-b12d76468636",
   "metadata": {
    "execution": {
     "iopub.execute_input": "2024-06-30T20:55:44.123415Z",
     "iopub.status.busy": "2024-06-30T20:55:44.123265Z",
     "iopub.status.idle": "2024-06-30T20:55:44.351476Z",
     "shell.execute_reply": "2024-06-30T20:55:44.350966Z"
    },
    "papermill": {
     "duration": 0.235426,
     "end_time": "2024-06-30T20:55:44.352290",
     "exception": false,
     "start_time": "2024-06-30T20:55:44.116864",
     "status": "completed"
    },
    "tags": []
   },
   "outputs": [
    {
     "data": {
      "text/plain": [
       "AnnData object with n_obs × n_vars = 1270 × 20\n",
       "    obs: 'sampleID', 'Level1', 'disease', 'n_observation'"
      ]
     },
     "execution_count": 6,
     "metadata": {},
     "output_type": "execute_result"
    }
   ],
   "source": [
    "adataPBcell = aggregating_features(Z = adata.X, \n",
    "                             obsDF = adata.obs[['sampleID','Level1','disease']], \n",
    "                             mode = 'mean', \n",
    "                             obs_names_col=['sampleID','Level1'], \n",
    "                             min_observation=0)\n",
    "adataPBcell"
   ]
  },
  {
   "cell_type": "code",
   "execution_count": null,
   "id": "8495038e-aebd-4003-bd94-c1e49f47249e",
   "metadata": {
    "papermill": {
     "duration": 0.005473,
     "end_time": "2024-06-30T20:55:44.363511",
     "exception": false,
     "start_time": "2024-06-30T20:55:44.358038",
     "status": "completed"
    },
    "tags": []
   },
   "outputs": [],
   "source": []
  },
  {
   "cell_type": "markdown",
   "id": "6d602bad-4793-4aa4-b3d7-d118d413a0fc",
   "metadata": {
    "papermill": {
     "duration": 0.005524,
     "end_time": "2024-06-30T20:55:44.377216",
     "exception": false,
     "start_time": "2024-06-30T20:55:44.371692",
     "status": "completed"
    },
    "tags": []
   },
   "source": [
    "**Extracting sample embedding**"
   ]
  },
  {
   "cell_type": "code",
   "execution_count": 7,
   "id": "e2c14f02",
   "metadata": {
    "execution": {
     "iopub.execute_input": "2024-06-30T20:55:44.388947Z",
     "iopub.status.busy": "2024-06-30T20:55:44.388521Z",
     "iopub.status.idle": "2024-06-30T20:55:44.396528Z",
     "shell.execute_reply": "2024-06-30T20:55:44.396147Z"
    },
    "papermill": {
     "duration": 0.014735,
     "end_time": "2024-06-30T20:55:44.397360",
     "exception": false,
     "start_time": "2024-06-30T20:55:44.382625",
     "status": "completed"
    },
    "tags": []
   },
   "outputs": [
    {
     "data": {
      "text/plain": [
       "AnnData object with n_obs × n_vars = 86 × 100\n",
       "    obs: 'sampleID', 'disease', 'Level1'"
      ]
     },
     "execution_count": 7,
     "metadata": {},
     "output_type": "execute_result"
    }
   ],
   "source": [
    "adataPBsample = adata.uns['sampleID'].copy()\n",
    "adataPBsample.obs['sampleID'] = adataPBsample.obs.index\n",
    "adataPBsample = adataPBsample[adataPBsample.obs['sampleID'].isin(adataPBcell.obs['sampleID'])]\n",
    "\n",
    "adataPBsample.obs = adataPBsample.obs.merge(adataPBcell.obs.groupby('sampleID').agg({'disease':'first'}), left_index=True, right_index=True)\n",
    "adataPBsample.obs['Level1'] = 'sample'\n",
    "adataPBsample"
   ]
  },
  {
   "cell_type": "markdown",
   "id": "2d4fe137-7d68-4e86-a85c-3c1a3d3c4c71",
   "metadata": {
    "papermill": {
     "duration": 0.005824,
     "end_time": "2024-06-30T20:55:44.408867",
     "exception": false,
     "start_time": "2024-06-30T20:55:44.403043",
     "status": "completed"
    },
    "tags": []
   },
   "source": [
    "**Merging cell and patient latent features**"
   ]
  },
  {
   "cell_type": "code",
   "execution_count": 8,
   "id": "a326d2b1",
   "metadata": {
    "execution": {
     "iopub.execute_input": "2024-06-30T20:55:44.420672Z",
     "iopub.status.busy": "2024-06-30T20:55:44.420381Z",
     "iopub.status.idle": "2024-06-30T20:55:44.422782Z",
     "shell.execute_reply": "2024-06-30T20:55:44.422407Z"
    },
    "papermill": {
     "duration": 0.009402,
     "end_time": "2024-06-30T20:55:44.423556",
     "exception": false,
     "start_time": "2024-06-30T20:55:44.414154",
     "status": "completed"
    },
    "tags": []
   },
   "outputs": [],
   "source": [
    "PBcellDF = adataPBcell.to_df()\n",
    "PBcellDF['sampleID'] = adataPBcell.obs['sampleID']"
   ]
  },
  {
   "cell_type": "code",
   "execution_count": 9,
   "id": "1a597f46-d9c5-403b-b81e-5738ca206682",
   "metadata": {
    "execution": {
     "iopub.execute_input": "2024-06-30T20:55:44.435107Z",
     "iopub.status.busy": "2024-06-30T20:55:44.434835Z",
     "iopub.status.idle": "2024-06-30T20:55:44.437269Z",
     "shell.execute_reply": "2024-06-30T20:55:44.436886Z"
    },
    "papermill": {
     "duration": 0.009049,
     "end_time": "2024-06-30T20:55:44.438028",
     "exception": false,
     "start_time": "2024-06-30T20:55:44.428979",
     "status": "completed"
    },
    "tags": []
   },
   "outputs": [],
   "source": [
    "PBsampleDF = adataPBsample.to_df()\n",
    "PBsampleDF['sampleID'] = adataPBsample.obs['sampleID']"
   ]
  },
  {
   "cell_type": "code",
   "execution_count": 10,
   "id": "bb384751-fe1b-4635-a90d-fd98ae61b173",
   "metadata": {
    "execution": {
     "iopub.execute_input": "2024-06-30T20:55:44.449305Z",
     "iopub.status.busy": "2024-06-30T20:55:44.449007Z",
     "iopub.status.idle": "2024-06-30T20:55:44.453023Z",
     "shell.execute_reply": "2024-06-30T20:55:44.452651Z"
    },
    "papermill": {
     "duration": 0.010404,
     "end_time": "2024-06-30T20:55:44.453782",
     "exception": false,
     "start_time": "2024-06-30T20:55:44.443378",
     "status": "completed"
    },
    "tags": []
   },
   "outputs": [],
   "source": [
    "PBcell_sampleDF = PBcellDF.merge(PBsampleDF, on='sampleID', how='left')"
   ]
  },
  {
   "cell_type": "code",
   "execution_count": 11,
   "id": "f7250713-e24d-4614-9cbd-eed702340640",
   "metadata": {
    "execution": {
     "iopub.execute_input": "2024-06-30T20:55:44.465321Z",
     "iopub.status.busy": "2024-06-30T20:55:44.465042Z",
     "iopub.status.idle": "2024-06-30T20:55:44.467356Z",
     "shell.execute_reply": "2024-06-30T20:55:44.466954Z"
    },
    "papermill": {
     "duration": 0.008799,
     "end_time": "2024-06-30T20:55:44.468108",
     "exception": false,
     "start_time": "2024-06-30T20:55:44.459309",
     "status": "completed"
    },
    "tags": []
   },
   "outputs": [],
   "source": [
    "assert(adataPBcell.obs['sampleID'].tolist() == PBcell_sampleDF['sampleID'].tolist())"
   ]
  },
  {
   "cell_type": "code",
   "execution_count": 12,
   "id": "abea2252-6a12-4b89-9f0d-6d6df90064fb",
   "metadata": {
    "execution": {
     "iopub.execute_input": "2024-06-30T20:55:44.479672Z",
     "iopub.status.busy": "2024-06-30T20:55:44.479538Z",
     "iopub.status.idle": "2024-06-30T20:55:44.481843Z",
     "shell.execute_reply": "2024-06-30T20:55:44.481475Z"
    },
    "papermill": {
     "duration": 0.008943,
     "end_time": "2024-06-30T20:55:44.482611",
     "exception": false,
     "start_time": "2024-06-30T20:55:44.473668",
     "status": "completed"
    },
    "tags": []
   },
   "outputs": [],
   "source": [
    "PBcell_sampleDF.drop('sampleID', axis=1, inplace=True)"
   ]
  },
  {
   "cell_type": "code",
   "execution_count": 13,
   "id": "5502e45d-5c72-4440-a8c1-5b299cac6e2d",
   "metadata": {
    "execution": {
     "iopub.execute_input": "2024-06-30T20:55:44.494303Z",
     "iopub.status.busy": "2024-06-30T20:55:44.493921Z",
     "iopub.status.idle": "2024-06-30T20:55:44.497443Z",
     "shell.execute_reply": "2024-06-30T20:55:44.497065Z"
    },
    "papermill": {
     "duration": 0.010189,
     "end_time": "2024-06-30T20:55:44.498207",
     "exception": false,
     "start_time": "2024-06-30T20:55:44.488018",
     "status": "completed"
    },
    "tags": []
   },
   "outputs": [
    {
     "data": {
      "text/plain": [
       "AnnData object with n_obs × n_vars = 1270 × 120\n",
       "    obs: 'sampleID', 'Level1', 'disease', 'n_observation'"
      ]
     },
     "execution_count": 13,
     "metadata": {},
     "output_type": "execute_result"
    }
   ],
   "source": [
    "adataPBcell_sample = sc.AnnData(X = PBcell_sampleDF, obs = adataPBcell.obs)\n",
    "adataPBcell_sample"
   ]
  },
  {
   "cell_type": "markdown",
   "id": "d59574be-684b-4082-b8b6-7d11930362ad",
   "metadata": {
    "papermill": {
     "duration": 0.005595,
     "end_time": "2024-06-30T20:55:44.509304",
     "exception": false,
     "start_time": "2024-06-30T20:55:44.503709",
     "status": "completed"
    },
    "tags": []
   },
   "source": [
    "### Saving pseudobulk adata objects"
   ]
  },
  {
   "cell_type": "code",
   "execution_count": 14,
   "id": "5947e6f8-ac27-4702-ba5d-aa9e1ba79f6a",
   "metadata": {
    "execution": {
     "iopub.execute_input": "2024-06-30T20:55:44.521072Z",
     "iopub.status.busy": "2024-06-30T20:55:44.520796Z",
     "iopub.status.idle": "2024-06-30T20:55:44.549716Z",
     "shell.execute_reply": "2024-06-30T20:55:44.549314Z"
    },
    "papermill": {
     "duration": 0.035871,
     "end_time": "2024-06-30T20:55:44.550811",
     "exception": false,
     "start_time": "2024-06-30T20:55:44.514940",
     "status": "completed"
    },
    "tags": []
   },
   "outputs": [],
   "source": [
    "adataPBcell.write(here(adataPATHlist[0].replace('/scPoli_','/PSEUDOBULKs/scPoli_PSEUDOBULKcell_')), compression='gzip')"
   ]
  },
  {
   "cell_type": "code",
   "execution_count": 15,
   "id": "e9485945-bccf-419a-9420-c1e4f3aa262d",
   "metadata": {
    "execution": {
     "iopub.execute_input": "2024-06-30T20:55:44.563145Z",
     "iopub.status.busy": "2024-06-30T20:55:44.562863Z",
     "iopub.status.idle": "2024-06-30T20:55:44.584799Z",
     "shell.execute_reply": "2024-06-30T20:55:44.584327Z"
    },
    "papermill": {
     "duration": 0.028794,
     "end_time": "2024-06-30T20:55:44.585604",
     "exception": false,
     "start_time": "2024-06-30T20:55:44.556810",
     "status": "completed"
    },
    "tags": []
   },
   "outputs": [],
   "source": [
    "adataPBsample.write(here(adataPATHlist[0].replace('/scPoli_','/PSEUDOBULKs/scPoli_PSEUDOBULKsample_')), compression='gzip')"
   ]
  },
  {
   "cell_type": "code",
   "execution_count": 16,
   "id": "9c2daa40-3279-4b24-8aad-65ee0ba758c8",
   "metadata": {
    "execution": {
     "iopub.execute_input": "2024-06-30T20:55:44.598072Z",
     "iopub.status.busy": "2024-06-30T20:55:44.597681Z",
     "iopub.status.idle": "2024-06-30T20:55:44.628836Z",
     "shell.execute_reply": "2024-06-30T20:55:44.628439Z"
    },
    "papermill": {
     "duration": 0.038257,
     "end_time": "2024-06-30T20:55:44.629650",
     "exception": false,
     "start_time": "2024-06-30T20:55:44.591393",
     "status": "completed"
    },
    "tags": []
   },
   "outputs": [],
   "source": [
    "adataPBcell_sample.write(here(adataPATHlist[0].replace('/scPoli_','/PSEUDOBULKs/scPoli_PSEUDOBULKcellSample_')), compression='gzip')"
   ]
  },
  {
   "cell_type": "code",
   "execution_count": null,
   "id": "8a70d9f6-7a44-45ee-8470-702bd7af1e0b",
   "metadata": {
    "papermill": {
     "duration": 0.005549,
     "end_time": "2024-06-30T20:55:44.641237",
     "exception": false,
     "start_time": "2024-06-30T20:55:44.635688",
     "status": "completed"
    },
    "tags": []
   },
   "outputs": [],
   "source": []
  }
 ],
 "metadata": {
  "kernelspec": {
   "display_name": "Python 3 (ipykernel)",
   "language": "python",
   "name": "python3"
  },
  "language_info": {
   "codemirror_mode": {
    "name": "ipython",
    "version": 3
   },
   "file_extension": ".py",
   "mimetype": "text/x-python",
   "name": "python",
   "nbconvert_exporter": "python",
   "pygments_lexer": "ipython3",
   "version": "3.12.3"
  },
  "papermill": {
   "default_parameters": {},
   "duration": 4.749219,
   "end_time": "2024-06-30T20:55:45.161969",
   "environment_variables": {},
   "exception": null,
   "input_path": "03_generating_PSEUDOBULKs.ipynb",
   "output_path": "executed_notebooks/03_generating_PSEUDOBULKs_EXTERNAL_20nEmb_100nPEmb.ipynb",
   "parameters": {
    "adataPATH": "03_downstream_analysis/08_PatientClassifier/scPoli/results/scPoli_EXTERNAL_2_20_100_*.h5ad"
   },
   "start_time": "2024-06-30T20:55:40.412750",
   "version": "2.6.0"
  }
 },
 "nbformat": 4,
 "nbformat_minor": 5
}