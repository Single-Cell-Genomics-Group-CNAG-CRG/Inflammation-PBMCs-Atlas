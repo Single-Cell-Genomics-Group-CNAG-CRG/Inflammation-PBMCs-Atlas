{
 "cells": [
  {
   "cell_type": "code",
   "execution_count": 1,
   "id": "507c9108",
   "metadata": {
    "execution": {
     "iopub.execute_input": "2024-06-30T21:01:50.404542Z",
     "iopub.status.busy": "2024-06-30T21:01:50.404088Z",
     "iopub.status.idle": "2024-06-30T21:01:50.407001Z",
     "shell.execute_reply": "2024-06-30T21:01:50.406641Z"
    },
    "papermill": {
     "duration": 0.01001,
     "end_time": "2024-06-30T21:01:50.407876",
     "exception": false,
     "start_time": "2024-06-30T21:01:50.397866",
     "status": "completed"
    },
    "tags": [
     "injected-parameters"
    ]
   },
   "outputs": [],
   "source": [
    "# Parameters\n",
    "adataPATH = \"03_downstream_analysis/08_PatientClassifier/scPoli/results/scPoli_EXTERNAL_2_20_100_run2_k6f7ol23.h5ad\"\n"
   ]
  },
  {
   "cell_type": "raw",
   "id": "bf9880bd-3aef-477b-807d-37e3c5603037",
   "metadata": {
    "execution": {
     "iopub.execute_input": "2024-06-29T08:23:25.403219Z",
     "iopub.status.busy": "2024-06-29T08:23:25.402857Z",
     "iopub.status.idle": "2024-06-29T08:23:25.406428Z",
     "shell.execute_reply": "2024-06-29T08:23:25.406014Z",
     "shell.execute_reply.started": "2024-06-29T08:23:25.403185Z"
    },
    "papermill": {
     "duration": 0.004503,
     "end_time": "2024-06-30T21:01:50.417299",
     "exception": false,
     "start_time": "2024-06-30T21:01:50.412796",
     "status": "completed"
    },
    "tags": [],
    "vscode": {
     "languageId": "raw"
    }
   },
   "source": [
    "adataMAINpath = '03_downstream_analysis/08_PatientClassifier/scPoli/results/scPoli_2_100_20_*.h5ad'\n",
    "\n",
    "adataVALpath = '03_downstream_analysis/08_PatientClassifier/scPoli/results/scPoli_VALIDATION_2_20_20*.h5ad'\n",
    "adataEXCpath = '03_downstream_analysis/08_PatientClassifier/scPoli/results/scPoli_EXCLUDED_2_100_20_run1_pd5nyb4g.h5ad'\n",
    "adataEXTpath = '03_downstream_analysis/08_PatientClassifier/scPoli/results/scPoli_EXTERNAL_2_100_20_run1_pd5nyb4g.h5ad'\n",
    "\n",
    "adataPATH = adataVALpath"
   ]
  },
  {
   "cell_type": "code",
   "execution_count": 2,
   "id": "d3ccb10a-7201-43d0-a593-2b4650ff3451",
   "metadata": {
    "execution": {
     "iopub.execute_input": "2024-06-30T21:01:50.426727Z",
     "iopub.status.busy": "2024-06-30T21:01:50.426592Z",
     "iopub.status.idle": "2024-06-30T21:01:50.429515Z",
     "shell.execute_reply": "2024-06-30T21:01:50.429128Z"
    },
    "papermill": {
     "duration": 0.008566,
     "end_time": "2024-06-30T21:01:50.430340",
     "exception": false,
     "start_time": "2024-06-30T21:01:50.421774",
     "status": "completed"
    },
    "tags": []
   },
   "outputs": [
    {
     "name": "stdout",
     "output_type": "stream",
     "text": [
      "adataPATH = 03_downstream_analysis/08_PatientClassifier/scPoli/results/scPoli_EXTERNAL_2_20_100_run2_k6f7ol23.h5ad\n"
     ]
    }
   ],
   "source": [
    "for v in ['adataPATH']:\n",
    "    if v in locals() or v in globals():\n",
    "        print(f\"{v} = {eval(v)}\")\n",
    "    else:\n",
    "        raise Exception(f\"{v} not specified\")"
   ]
  },
  {
   "cell_type": "code",
   "execution_count": 3,
   "id": "888fb5f4-9ab7-4196-a282-7a7e92a43971",
   "metadata": {
    "execution": {
     "iopub.execute_input": "2024-06-30T21:01:50.440311Z",
     "iopub.status.busy": "2024-06-30T21:01:50.440043Z",
     "iopub.status.idle": "2024-06-30T21:01:51.958151Z",
     "shell.execute_reply": "2024-06-30T21:01:51.957648Z"
    },
    "papermill": {
     "duration": 1.524325,
     "end_time": "2024-06-30T21:01:51.959243",
     "exception": false,
     "start_time": "2024-06-30T21:01:50.434918",
     "status": "completed"
    },
    "tags": []
   },
   "outputs": [],
   "source": [
    "import os\n",
    "import sys\n",
    "from glob import glob\n",
    "\n",
    "import scanpy as sc\n",
    "import pandas as pd\n",
    "\n",
    "from pyprojroot import here\n",
    "\n",
    "sys.path.insert(1, str(here('bin')))\n",
    "# Import custom functions\n",
    "from customPythonFunctions import aggregating_features"
   ]
  },
  {
   "cell_type": "markdown",
   "id": "ba4905ae-4546-4ef4-b57b-950441ab079d",
   "metadata": {
    "papermill": {
     "duration": 0.004637,
     "end_time": "2024-06-30T21:01:51.968870",
     "exception": false,
     "start_time": "2024-06-30T21:01:51.964233",
     "status": "completed"
    },
    "tags": []
   },
   "source": [
    "### Loading data"
   ]
  },
  {
   "cell_type": "code",
   "execution_count": 4,
   "id": "539cbbbb-3503-4f51-bf04-f007f928ebd1",
   "metadata": {
    "execution": {
     "iopub.execute_input": "2024-06-30T21:01:51.979205Z",
     "iopub.status.busy": "2024-06-30T21:01:51.978714Z",
     "iopub.status.idle": "2024-06-30T21:01:51.984112Z",
     "shell.execute_reply": "2024-06-30T21:01:51.983726Z"
    },
    "papermill": {
     "duration": 0.011289,
     "end_time": "2024-06-30T21:01:51.984899",
     "exception": false,
     "start_time": "2024-06-30T21:01:51.973610",
     "status": "completed"
    },
    "tags": []
   },
   "outputs": [],
   "source": [
    "adataPATHlist = glob(str(here(adataPATH)))\n",
    "assert(len(adataPATHlist) == 1)"
   ]
  },
  {
   "cell_type": "code",
   "execution_count": 5,
   "id": "0fcfce0a-896b-4dc0-8e5e-46749205c84f",
   "metadata": {
    "execution": {
     "iopub.execute_input": "2024-06-30T21:01:51.995342Z",
     "iopub.status.busy": "2024-06-30T21:01:51.995049Z",
     "iopub.status.idle": "2024-06-30T21:01:52.816278Z",
     "shell.execute_reply": "2024-06-30T21:01:52.815807Z"
    },
    "papermill": {
     "duration": 0.827198,
     "end_time": "2024-06-30T21:01:52.817091",
     "exception": false,
     "start_time": "2024-06-30T21:01:51.989893",
     "status": "completed"
    },
    "tags": []
   },
   "outputs": [
    {
     "data": {
      "text/plain": [
       "AnnData object with n_obs × n_vars = 572872 × 20\n",
       "    obs: 'studyID', 'libraryID', 'sampleID', 'chemistry', 'technology', 'disease', 'sex', 'binned_age', 'Level1', 'Level2', 'conditions_combined', 'Level1_unc', 'Level2_unc'\n",
       "    uns: 'chemistry', 'sampleID'"
      ]
     },
     "execution_count": 5,
     "metadata": {},
     "output_type": "execute_result"
    }
   ],
   "source": [
    "adata = sc.read_h5ad(adataPATHlist[0])\n",
    "adata"
   ]
  },
  {
   "cell_type": "markdown",
   "id": "44e868b3-0771-4225-bd79-a4b179bc672b",
   "metadata": {
    "papermill": {
     "duration": 0.004742,
     "end_time": "2024-06-30T21:01:52.826988",
     "exception": false,
     "start_time": "2024-06-30T21:01:52.822246",
     "status": "completed"
    },
    "tags": []
   },
   "source": [
    "#### Generating PSEUDOBULKs"
   ]
  },
  {
   "cell_type": "markdown",
   "id": "97d09fc5-d05c-471e-87fa-fe58ccbe47ac",
   "metadata": {
    "papermill": {
     "duration": 0.004639,
     "end_time": "2024-06-30T21:01:52.836425",
     "exception": false,
     "start_time": "2024-06-30T21:01:52.831786",
     "status": "completed"
    },
    "tags": []
   },
   "source": [
    "**Aggregating cell latent features**"
   ]
  },
  {
   "cell_type": "code",
   "execution_count": 6,
   "id": "81223976-fcf6-4354-8964-b12d76468636",
   "metadata": {
    "execution": {
     "iopub.execute_input": "2024-06-30T21:01:52.847059Z",
     "iopub.status.busy": "2024-06-30T21:01:52.846750Z",
     "iopub.status.idle": "2024-06-30T21:01:53.079915Z",
     "shell.execute_reply": "2024-06-30T21:01:53.079484Z"
    },
    "papermill": {
     "duration": 0.239358,
     "end_time": "2024-06-30T21:01:53.080713",
     "exception": false,
     "start_time": "2024-06-30T21:01:52.841355",
     "status": "completed"
    },
    "tags": []
   },
   "outputs": [
    {
     "data": {
      "text/plain": [
       "AnnData object with n_obs × n_vars = 1270 × 20\n",
       "    obs: 'sampleID', 'Level1', 'disease', 'n_observation'"
      ]
     },
     "execution_count": 6,
     "metadata": {},
     "output_type": "execute_result"
    }
   ],
   "source": [
    "adataPBcell = aggregating_features(Z = adata.X, \n",
    "                             obsDF = adata.obs[['sampleID','Level1','disease']], \n",
    "                             mode = 'mean', \n",
    "                             obs_names_col=['sampleID','Level1'], \n",
    "                             min_observation=0)\n",
    "adataPBcell"
   ]
  },
  {
   "cell_type": "code",
   "execution_count": null,
   "id": "8495038e-aebd-4003-bd94-c1e49f47249e",
   "metadata": {
    "papermill": {
     "duration": 0.005031,
     "end_time": "2024-06-30T21:01:53.092635",
     "exception": false,
     "start_time": "2024-06-30T21:01:53.087604",
     "status": "completed"
    },
    "tags": []
   },
   "outputs": [],
   "source": []
  },
  {
   "cell_type": "markdown",
   "id": "6d602bad-4793-4aa4-b3d7-d118d413a0fc",
   "metadata": {
    "papermill": {
     "duration": 0.004592,
     "end_time": "2024-06-30T21:01:53.102576",
     "exception": false,
     "start_time": "2024-06-30T21:01:53.097984",
     "status": "completed"
    },
    "tags": []
   },
   "source": [
    "**Extracting sample embedding**"
   ]
  },
  {
   "cell_type": "code",
   "execution_count": 7,
   "id": "e2c14f02",
   "metadata": {
    "execution": {
     "iopub.execute_input": "2024-06-30T21:01:53.113891Z",
     "iopub.status.busy": "2024-06-30T21:01:53.113420Z",
     "iopub.status.idle": "2024-06-30T21:01:53.121656Z",
     "shell.execute_reply": "2024-06-30T21:01:53.121289Z"
    },
    "papermill": {
     "duration": 0.014869,
     "end_time": "2024-06-30T21:01:53.122439",
     "exception": false,
     "start_time": "2024-06-30T21:01:53.107570",
     "status": "completed"
    },
    "tags": []
   },
   "outputs": [
    {
     "data": {
      "text/plain": [
       "AnnData object with n_obs × n_vars = 86 × 100\n",
       "    obs: 'sampleID', 'disease', 'Level1'"
      ]
     },
     "execution_count": 7,
     "metadata": {},
     "output_type": "execute_result"
    }
   ],
   "source": [
    "adataPBsample = adata.uns['sampleID'].copy()\n",
    "adataPBsample.obs['sampleID'] = adataPBsample.obs.index\n",
    "adataPBsample = adataPBsample[adataPBsample.obs['sampleID'].isin(adataPBcell.obs['sampleID'])]\n",
    "\n",
    "adataPBsample.obs = adataPBsample.obs.merge(adataPBcell.obs.groupby('sampleID').agg({'disease':'first'}), left_index=True, right_index=True)\n",
    "adataPBsample.obs['Level1'] = 'sample'\n",
    "adataPBsample"
   ]
  },
  {
   "cell_type": "markdown",
   "id": "2d4fe137-7d68-4e86-a85c-3c1a3d3c4c71",
   "metadata": {
    "papermill": {
     "duration": 0.005031,
     "end_time": "2024-06-30T21:01:53.132533",
     "exception": false,
     "start_time": "2024-06-30T21:01:53.127502",
     "status": "completed"
    },
    "tags": []
   },
   "source": [
    "**Merging cell and patient latent features**"
   ]
  },
  {
   "cell_type": "code",
   "execution_count": 8,
   "id": "a326d2b1",
   "metadata": {
    "execution": {
     "iopub.execute_input": "2024-06-30T21:01:53.142848Z",
     "iopub.status.busy": "2024-06-30T21:01:53.142710Z",
     "iopub.status.idle": "2024-06-30T21:01:53.145097Z",
     "shell.execute_reply": "2024-06-30T21:01:53.144716Z"
    },
    "papermill": {
     "duration": 0.008519,
     "end_time": "2024-06-30T21:01:53.145907",
     "exception": false,
     "start_time": "2024-06-30T21:01:53.137388",
     "status": "completed"
    },
    "tags": []
   },
   "outputs": [],
   "source": [
    "PBcellDF = adataPBcell.to_df()\n",
    "PBcellDF['sampleID'] = adataPBcell.obs['sampleID']"
   ]
  },
  {
   "cell_type": "code",
   "execution_count": 9,
   "id": "1a597f46-d9c5-403b-b81e-5738ca206682",
   "metadata": {
    "execution": {
     "iopub.execute_input": "2024-06-30T21:01:53.160387Z",
     "iopub.status.busy": "2024-06-30T21:01:53.159860Z",
     "iopub.status.idle": "2024-06-30T21:01:53.162617Z",
     "shell.execute_reply": "2024-06-30T21:01:53.162248Z"
    },
    "papermill": {
     "duration": 0.012413,
     "end_time": "2024-06-30T21:01:53.163388",
     "exception": false,
     "start_time": "2024-06-30T21:01:53.150975",
     "status": "completed"
    },
    "tags": []
   },
   "outputs": [],
   "source": [
    "PBsampleDF = adataPBsample.to_df()\n",
    "PBsampleDF['sampleID'] = adataPBsample.obs['sampleID']"
   ]
  },
  {
   "cell_type": "code",
   "execution_count": 10,
   "id": "bb384751-fe1b-4635-a90d-fd98ae61b173",
   "metadata": {
    "execution": {
     "iopub.execute_input": "2024-06-30T21:01:53.174083Z",
     "iopub.status.busy": "2024-06-30T21:01:53.173819Z",
     "iopub.status.idle": "2024-06-30T21:01:53.177854Z",
     "shell.execute_reply": "2024-06-30T21:01:53.177485Z"
    },
    "papermill": {
     "duration": 0.010179,
     "end_time": "2024-06-30T21:01:53.178609",
     "exception": false,
     "start_time": "2024-06-30T21:01:53.168430",
     "status": "completed"
    },
    "tags": []
   },
   "outputs": [],
   "source": [
    "PBcell_sampleDF = PBcellDF.merge(PBsampleDF, on='sampleID', how='left')"
   ]
  },
  {
   "cell_type": "code",
   "execution_count": 11,
   "id": "f7250713-e24d-4614-9cbd-eed702340640",
   "metadata": {
    "execution": {
     "iopub.execute_input": "2024-06-30T21:01:53.189617Z",
     "iopub.status.busy": "2024-06-30T21:01:53.189342Z",
     "iopub.status.idle": "2024-06-30T21:01:53.191617Z",
     "shell.execute_reply": "2024-06-30T21:01:53.191247Z"
    },
    "papermill": {
     "duration": 0.008811,
     "end_time": "2024-06-30T21:01:53.192383",
     "exception": false,
     "start_time": "2024-06-30T21:01:53.183572",
     "status": "completed"
    },
    "tags": []
   },
   "outputs": [],
   "source": [
    "assert(adataPBcell.obs['sampleID'].tolist() == PBcell_sampleDF['sampleID'].tolist())"
   ]
  },
  {
   "cell_type": "code",
   "execution_count": 12,
   "id": "abea2252-6a12-4b89-9f0d-6d6df90064fb",
   "metadata": {
    "execution": {
     "iopub.execute_input": "2024-06-30T21:01:53.203515Z",
     "iopub.status.busy": "2024-06-30T21:01:53.203024Z",
     "iopub.status.idle": "2024-06-30T21:01:53.205918Z",
     "shell.execute_reply": "2024-06-30T21:01:53.205549Z"
    },
    "papermill": {
     "duration": 0.00922,
     "end_time": "2024-06-30T21:01:53.206716",
     "exception": false,
     "start_time": "2024-06-30T21:01:53.197496",
     "status": "completed"
    },
    "tags": []
   },
   "outputs": [],
   "source": [
    "PBcell_sampleDF.drop('sampleID', axis=1, inplace=True)"
   ]
  },
  {
   "cell_type": "code",
   "execution_count": 13,
   "id": "5502e45d-5c72-4440-a8c1-5b299cac6e2d",
   "metadata": {
    "execution": {
     "iopub.execute_input": "2024-06-30T21:01:53.218056Z",
     "iopub.status.busy": "2024-06-30T21:01:53.217791Z",
     "iopub.status.idle": "2024-06-30T21:01:53.221254Z",
     "shell.execute_reply": "2024-06-30T21:01:53.220878Z"
    },
    "papermill": {
     "duration": 0.010011,
     "end_time": "2024-06-30T21:01:53.222012",
     "exception": false,
     "start_time": "2024-06-30T21:01:53.212001",
     "status": "completed"
    },
    "tags": []
   },
   "outputs": [
    {
     "data": {
      "text/plain": [
       "AnnData object with n_obs × n_vars = 1270 × 120\n",
       "    obs: 'sampleID', 'Level1', 'disease', 'n_observation'"
      ]
     },
     "execution_count": 13,
     "metadata": {},
     "output_type": "execute_result"
    }
   ],
   "source": [
    "adataPBcell_sample = sc.AnnData(X = PBcell_sampleDF, obs = adataPBcell.obs)\n",
    "adataPBcell_sample"
   ]
  },
  {
   "cell_type": "markdown",
   "id": "d59574be-684b-4082-b8b6-7d11930362ad",
   "metadata": {
    "papermill": {
     "duration": 0.00527,
     "end_time": "2024-06-30T21:01:53.232573",
     "exception": false,
     "start_time": "2024-06-30T21:01:53.227303",
     "status": "completed"
    },
    "tags": []
   },
   "source": [
    "### Saving pseudobulk adata objects"
   ]
  },
  {
   "cell_type": "code",
   "execution_count": 14,
   "id": "5947e6f8-ac27-4702-ba5d-aa9e1ba79f6a",
   "metadata": {
    "execution": {
     "iopub.execute_input": "2024-06-30T21:01:53.243370Z",
     "iopub.status.busy": "2024-06-30T21:01:53.243221Z",
     "iopub.status.idle": "2024-06-30T21:01:53.271485Z",
     "shell.execute_reply": "2024-06-30T21:01:53.271044Z"
    },
    "papermill": {
     "duration": 0.034547,
     "end_time": "2024-06-30T21:01:53.272334",
     "exception": false,
     "start_time": "2024-06-30T21:01:53.237787",
     "status": "completed"
    },
    "tags": []
   },
   "outputs": [],
   "source": [
    "adataPBcell.write(here(adataPATHlist[0].replace('/scPoli_','/PSEUDOBULKs/scPoli_PSEUDOBULKcell_')), compression='gzip')"
   ]
  },
  {
   "cell_type": "code",
   "execution_count": 15,
   "id": "e9485945-bccf-419a-9420-c1e4f3aa262d",
   "metadata": {
    "execution": {
     "iopub.execute_input": "2024-06-30T21:01:53.283291Z",
     "iopub.status.busy": "2024-06-30T21:01:53.282915Z",
     "iopub.status.idle": "2024-06-30T21:01:53.303900Z",
     "shell.execute_reply": "2024-06-30T21:01:53.303525Z"
    },
    "papermill": {
     "duration": 0.027281,
     "end_time": "2024-06-30T21:01:53.304686",
     "exception": false,
     "start_time": "2024-06-30T21:01:53.277405",
     "status": "completed"
    },
    "tags": []
   },
   "outputs": [],
   "source": [
    "adataPBsample.write(here(adataPATHlist[0].replace('/scPoli_','/PSEUDOBULKs/scPoli_PSEUDOBULKsample_')), compression='gzip')"
   ]
  },
  {
   "cell_type": "code",
   "execution_count": 16,
   "id": "9c2daa40-3279-4b24-8aad-65ee0ba758c8",
   "metadata": {
    "execution": {
     "iopub.execute_input": "2024-06-30T21:01:53.317627Z",
     "iopub.status.busy": "2024-06-30T21:01:53.317358Z",
     "iopub.status.idle": "2024-06-30T21:01:53.347742Z",
     "shell.execute_reply": "2024-06-30T21:01:53.347344Z"
    },
    "papermill": {
     "duration": 0.038516,
     "end_time": "2024-06-30T21:01:53.348527",
     "exception": false,
     "start_time": "2024-06-30T21:01:53.310011",
     "status": "completed"
    },
    "tags": []
   },
   "outputs": [],
   "source": [
    "adataPBcell_sample.write(here(adataPATHlist[0].replace('/scPoli_','/PSEUDOBULKs/scPoli_PSEUDOBULKcellSample_')), compression='gzip')"
   ]
  },
  {
   "cell_type": "code",
   "execution_count": null,
   "id": "8a70d9f6-7a44-45ee-8470-702bd7af1e0b",
   "metadata": {
    "papermill": {
     "duration": 0.005549,
     "end_time": "2024-06-30T21:01:53.359236",
     "exception": false,
     "start_time": "2024-06-30T21:01:53.353687",
     "status": "completed"
    },
    "tags": []
   },
   "outputs": [],
   "source": []
  }
 ],
 "metadata": {
  "kernelspec": {
   "display_name": "Python 3 (ipykernel)",
   "language": "python",
   "name": "python3"
  },
  "language_info": {
   "codemirror_mode": {
    "name": "ipython",
    "version": 3
   },
   "file_extension": ".py",
   "mimetype": "text/x-python",
   "name": "python",
   "nbconvert_exporter": "python",
   "pygments_lexer": "ipython3",
   "version": "3.12.3"
  },
  "papermill": {
   "default_parameters": {},
   "duration": 4.749376,
   "end_time": "2024-06-30T21:01:53.978689",
   "environment_variables": {},
   "exception": null,
   "input_path": "03_generating_PSEUDOBULKs.ipynb",
   "output_path": "executed_notebooks/03_generating_PSEUDOBULKs_scPoli_EXTERNAL_2_20_100_run2_k6f7ol23.h5ad.ipynb",
   "parameters": {
    "adataPATH": "03_downstream_analysis/08_PatientClassifier/scPoli/results/scPoli_EXTERNAL_2_20_100_run2_k6f7ol23.h5ad"
   },
   "start_time": "2024-06-30T21:01:49.229313",
   "version": "2.6.0"
  }
 },
 "nbformat": 4,
 "nbformat_minor": 5
}