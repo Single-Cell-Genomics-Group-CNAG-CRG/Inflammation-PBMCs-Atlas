{
 "cells": [
  {
   "cell_type": "code",
   "execution_count": 1,
   "id": "1ac37e27",
   "metadata": {
    "execution": {
     "iopub.execute_input": "2024-06-30T21:01:31.921771Z",
     "iopub.status.busy": "2024-06-30T21:01:31.921418Z",
     "iopub.status.idle": "2024-06-30T21:01:31.923957Z",
     "shell.execute_reply": "2024-06-30T21:01:31.923597Z"
    },
    "papermill": {
     "duration": 0.009986,
     "end_time": "2024-06-30T21:01:31.924770",
     "exception": false,
     "start_time": "2024-06-30T21:01:31.914784",
     "status": "completed"
    },
    "tags": [
     "injected-parameters"
    ]
   },
   "outputs": [],
   "source": [
    "# Parameters\n",
    "adataPATH = \"03_downstream_analysis/08_PatientClassifier/scPoli/results/scPoli_ref_latents_EXTERNAL_2_50_20_run3_x0stq72c.h5ad\"\n"
   ]
  },
  {
   "cell_type": "raw",
   "id": "bf9880bd-3aef-477b-807d-37e3c5603037",
   "metadata": {
    "execution": {
     "iopub.execute_input": "2024-06-29T08:23:25.403219Z",
     "iopub.status.busy": "2024-06-29T08:23:25.402857Z",
     "iopub.status.idle": "2024-06-29T08:23:25.406428Z",
     "shell.execute_reply": "2024-06-29T08:23:25.406014Z",
     "shell.execute_reply.started": "2024-06-29T08:23:25.403185Z"
    },
    "papermill": {
     "duration": 0.004917,
     "end_time": "2024-06-30T21:01:31.944313",
     "exception": false,
     "start_time": "2024-06-30T21:01:31.939396",
     "status": "completed"
    },
    "tags": [],
    "vscode": {
     "languageId": "raw"
    }
   },
   "source": [
    "adataMAINpath = '03_downstream_analysis/08_PatientClassifier/scPoli/results/scPoli_2_100_20_*.h5ad'\n",
    "\n",
    "adataVALpath = '03_downstream_analysis/08_PatientClassifier/scPoli/results/scPoli_VALIDATION_2_20_20*.h5ad'\n",
    "adataEXCpath = '03_downstream_analysis/08_PatientClassifier/scPoli/results/scPoli_EXCLUDED_2_100_20_run1_pd5nyb4g.h5ad'\n",
    "adataEXTpath = '03_downstream_analysis/08_PatientClassifier/scPoli/results/scPoli_EXTERNAL_2_100_20_run1_pd5nyb4g.h5ad'\n",
    "\n",
    "adataPATH = adataVALpath"
   ]
  },
  {
   "cell_type": "code",
   "execution_count": 2,
   "id": "d3ccb10a-7201-43d0-a593-2b4650ff3451",
   "metadata": {
    "execution": {
     "iopub.execute_input": "2024-06-30T21:01:31.955093Z",
     "iopub.status.busy": "2024-06-30T21:01:31.954813Z",
     "iopub.status.idle": "2024-06-30T21:01:31.957710Z",
     "shell.execute_reply": "2024-06-30T21:01:31.957342Z"
    },
    "papermill": {
     "duration": 0.009213,
     "end_time": "2024-06-30T21:01:31.958496",
     "exception": false,
     "start_time": "2024-06-30T21:01:31.949283",
     "status": "completed"
    },
    "tags": []
   },
   "outputs": [
    {
     "name": "stdout",
     "output_type": "stream",
     "text": [
      "adataPATH = 03_downstream_analysis/08_PatientClassifier/scPoli/results/scPoli_ref_latents_EXTERNAL_2_50_20_run3_x0stq72c.h5ad\n"
     ]
    }
   ],
   "source": [
    "for v in ['adataPATH']:\n",
    "    if v in locals() or v in globals():\n",
    "        print(f\"{v} = {eval(v)}\")\n",
    "    else:\n",
    "        raise Exception(f\"{v} not specified\")"
   ]
  },
  {
   "cell_type": "code",
   "execution_count": 3,
   "id": "888fb5f4-9ab7-4196-a282-7a7e92a43971",
   "metadata": {
    "execution": {
     "iopub.execute_input": "2024-06-30T21:01:31.969900Z",
     "iopub.status.busy": "2024-06-30T21:01:31.969635Z",
     "iopub.status.idle": "2024-06-30T21:01:33.472528Z",
     "shell.execute_reply": "2024-06-30T21:01:33.472016Z"
    },
    "papermill": {
     "duration": 1.509411,
     "end_time": "2024-06-30T21:01:33.473414",
     "exception": false,
     "start_time": "2024-06-30T21:01:31.964003",
     "status": "completed"
    },
    "tags": []
   },
   "outputs": [],
   "source": [
    "import os\n",
    "import sys\n",
    "from glob import glob\n",
    "\n",
    "import scanpy as sc\n",
    "import pandas as pd\n",
    "\n",
    "from pyprojroot import here\n",
    "\n",
    "sys.path.insert(1, str(here('bin')))\n",
    "# Import custom functions\n",
    "from customPythonFunctions import aggregating_features"
   ]
  },
  {
   "cell_type": "markdown",
   "id": "ba4905ae-4546-4ef4-b57b-950441ab079d",
   "metadata": {
    "papermill": {
     "duration": 0.005327,
     "end_time": "2024-06-30T21:01:33.483938",
     "exception": false,
     "start_time": "2024-06-30T21:01:33.478611",
     "status": "completed"
    },
    "tags": []
   },
   "source": [
    "### Loading data"
   ]
  },
  {
   "cell_type": "code",
   "execution_count": 4,
   "id": "539cbbbb-3503-4f51-bf04-f007f928ebd1",
   "metadata": {
    "execution": {
     "iopub.execute_input": "2024-06-30T21:01:33.497627Z",
     "iopub.status.busy": "2024-06-30T21:01:33.497287Z",
     "iopub.status.idle": "2024-06-30T21:01:33.501065Z",
     "shell.execute_reply": "2024-06-30T21:01:33.500685Z"
    },
    "papermill": {
     "duration": 0.010388,
     "end_time": "2024-06-30T21:01:33.501826",
     "exception": false,
     "start_time": "2024-06-30T21:01:33.491438",
     "status": "completed"
    },
    "tags": []
   },
   "outputs": [],
   "source": [
    "adataPATHlist = glob(str(here(adataPATH)))\n",
    "assert(len(adataPATHlist) == 1)"
   ]
  },
  {
   "cell_type": "code",
   "execution_count": 5,
   "id": "0fcfce0a-896b-4dc0-8e5e-46749205c84f",
   "metadata": {
    "execution": {
     "iopub.execute_input": "2024-06-30T21:01:33.512844Z",
     "iopub.status.busy": "2024-06-30T21:01:33.512517Z",
     "iopub.status.idle": "2024-06-30T21:01:43.534160Z",
     "shell.execute_reply": "2024-06-30T21:01:43.533724Z"
    },
    "papermill": {
     "duration": 10.028221,
     "end_time": "2024-06-30T21:01:43.535083",
     "exception": false,
     "start_time": "2024-06-30T21:01:33.506862",
     "status": "completed"
    },
    "tags": []
   },
   "outputs": [
    {
     "data": {
      "text/plain": [
       "AnnData object with n_obs × n_vars = 4435922 × 50\n",
       "    obs: 'studyID', 'libraryID', 'sampleID', 'chemistry', 'disease', 'sex', 'binned_age', 'Level1', 'Level2'\n",
       "    uns: 'chemistry', 'sampleID'"
      ]
     },
     "execution_count": 5,
     "metadata": {},
     "output_type": "execute_result"
    }
   ],
   "source": [
    "adata = sc.read_h5ad(adataPATHlist[0])\n",
    "adata"
   ]
  },
  {
   "cell_type": "markdown",
   "id": "44e868b3-0771-4225-bd79-a4b179bc672b",
   "metadata": {
    "papermill": {
     "duration": 0.005497,
     "end_time": "2024-06-30T21:01:43.546884",
     "exception": false,
     "start_time": "2024-06-30T21:01:43.541387",
     "status": "completed"
    },
    "tags": []
   },
   "source": [
    "#### Generating PSEUDOBULKs"
   ]
  },
  {
   "cell_type": "markdown",
   "id": "97d09fc5-d05c-471e-87fa-fe58ccbe47ac",
   "metadata": {
    "papermill": {
     "duration": 0.005075,
     "end_time": "2024-06-30T21:01:43.557102",
     "exception": false,
     "start_time": "2024-06-30T21:01:43.552027",
     "status": "completed"
    },
    "tags": []
   },
   "source": [
    "**Aggregating cell latent features**"
   ]
  },
  {
   "cell_type": "code",
   "execution_count": 6,
   "id": "81223976-fcf6-4354-8964-b12d76468636",
   "metadata": {
    "execution": {
     "iopub.execute_input": "2024-06-30T21:01:43.568362Z",
     "iopub.status.busy": "2024-06-30T21:01:43.568198Z",
     "iopub.status.idle": "2024-06-30T21:01:45.570814Z",
     "shell.execute_reply": "2024-06-30T21:01:45.570359Z"
    },
    "papermill": {
     "duration": 2.009523,
     "end_time": "2024-06-30T21:01:45.571655",
     "exception": false,
     "start_time": "2024-06-30T21:01:43.562132",
     "status": "completed"
    },
    "tags": []
   },
   "outputs": [
    {
     "data": {
      "text/plain": [
       "AnnData object with n_obs × n_vars = 11372 × 50\n",
       "    obs: 'sampleID', 'Level1', 'disease', 'n_observation'"
      ]
     },
     "execution_count": 6,
     "metadata": {},
     "output_type": "execute_result"
    }
   ],
   "source": [
    "adataPBcell = aggregating_features(Z = adata.X, \n",
    "                             obsDF = adata.obs[['sampleID','Level1','disease']], \n",
    "                             mode = 'mean', \n",
    "                             obs_names_col=['sampleID','Level1'], \n",
    "                             min_observation=0)\n",
    "adataPBcell"
   ]
  },
  {
   "cell_type": "code",
   "execution_count": null,
   "id": "8495038e-aebd-4003-bd94-c1e49f47249e",
   "metadata": {
    "papermill": {
     "duration": 0.004975,
     "end_time": "2024-06-30T21:01:45.679815",
     "exception": false,
     "start_time": "2024-06-30T21:01:45.674840",
     "status": "completed"
    },
    "tags": []
   },
   "outputs": [],
   "source": []
  },
  {
   "cell_type": "markdown",
   "id": "6d602bad-4793-4aa4-b3d7-d118d413a0fc",
   "metadata": {
    "papermill": {
     "duration": 0.005251,
     "end_time": "2024-06-30T21:01:45.690709",
     "exception": false,
     "start_time": "2024-06-30T21:01:45.685458",
     "status": "completed"
    },
    "tags": []
   },
   "source": [
    "**Extracting sample embedding**"
   ]
  },
  {
   "cell_type": "code",
   "execution_count": 7,
   "id": "e2c14f02",
   "metadata": {
    "execution": {
     "iopub.execute_input": "2024-06-30T21:01:45.701853Z",
     "iopub.status.busy": "2024-06-30T21:01:45.701538Z",
     "iopub.status.idle": "2024-06-30T21:01:45.711519Z",
     "shell.execute_reply": "2024-06-30T21:01:45.711160Z"
    },
    "papermill": {
     "duration": 0.016494,
     "end_time": "2024-06-30T21:01:45.712287",
     "exception": false,
     "start_time": "2024-06-30T21:01:45.695793",
     "status": "completed"
    },
    "tags": []
   },
   "outputs": [
    {
     "data": {
      "text/plain": [
       "AnnData object with n_obs × n_vars = 817 × 20\n",
       "    obs: 'sampleID', 'disease', 'Level1'"
      ]
     },
     "execution_count": 7,
     "metadata": {},
     "output_type": "execute_result"
    }
   ],
   "source": [
    "adataPBsample = adata.uns['sampleID'].copy()\n",
    "adataPBsample.obs['sampleID'] = adataPBsample.obs.index\n",
    "adataPBsample = adataPBsample[adataPBsample.obs['sampleID'].isin(adataPBcell.obs['sampleID'])]\n",
    "\n",
    "adataPBsample.obs = adataPBsample.obs.merge(adataPBcell.obs.groupby('sampleID').agg({'disease':'first'}), left_index=True, right_index=True)\n",
    "adataPBsample.obs['Level1'] = 'sample'\n",
    "adataPBsample"
   ]
  },
  {
   "cell_type": "markdown",
   "id": "2d4fe137-7d68-4e86-a85c-3c1a3d3c4c71",
   "metadata": {
    "papermill": {
     "duration": 0.005296,
     "end_time": "2024-06-30T21:01:45.722848",
     "exception": false,
     "start_time": "2024-06-30T21:01:45.717552",
     "status": "completed"
    },
    "tags": []
   },
   "source": [
    "**Merging cell and patient latent features**"
   ]
  },
  {
   "cell_type": "code",
   "execution_count": 8,
   "id": "a326d2b1",
   "metadata": {
    "execution": {
     "iopub.execute_input": "2024-06-30T21:01:45.734372Z",
     "iopub.status.busy": "2024-06-30T21:01:45.734085Z",
     "iopub.status.idle": "2024-06-30T21:01:45.736601Z",
     "shell.execute_reply": "2024-06-30T21:01:45.736236Z"
    },
    "papermill": {
     "duration": 0.009028,
     "end_time": "2024-06-30T21:01:45.737382",
     "exception": false,
     "start_time": "2024-06-30T21:01:45.728354",
     "status": "completed"
    },
    "tags": []
   },
   "outputs": [],
   "source": [
    "PBcellDF = adataPBcell.to_df()\n",
    "PBcellDF['sampleID'] = adataPBcell.obs['sampleID']"
   ]
  },
  {
   "cell_type": "code",
   "execution_count": 9,
   "id": "1a597f46-d9c5-403b-b81e-5738ca206682",
   "metadata": {
    "execution": {
     "iopub.execute_input": "2024-06-30T21:01:45.748926Z",
     "iopub.status.busy": "2024-06-30T21:01:45.748543Z",
     "iopub.status.idle": "2024-06-30T21:01:45.751002Z",
     "shell.execute_reply": "2024-06-30T21:01:45.750637Z"
    },
    "papermill": {
     "duration": 0.008912,
     "end_time": "2024-06-30T21:01:45.751746",
     "exception": false,
     "start_time": "2024-06-30T21:01:45.742834",
     "status": "completed"
    },
    "tags": []
   },
   "outputs": [],
   "source": [
    "PBsampleDF = adataPBsample.to_df()\n",
    "PBsampleDF['sampleID'] = adataPBsample.obs['sampleID']"
   ]
  },
  {
   "cell_type": "code",
   "execution_count": 10,
   "id": "bb384751-fe1b-4635-a90d-fd98ae61b173",
   "metadata": {
    "execution": {
     "iopub.execute_input": "2024-06-30T21:01:45.763125Z",
     "iopub.status.busy": "2024-06-30T21:01:45.762854Z",
     "iopub.status.idle": "2024-06-30T21:01:45.769433Z",
     "shell.execute_reply": "2024-06-30T21:01:45.769028Z"
    },
    "papermill": {
     "duration": 0.013183,
     "end_time": "2024-06-30T21:01:45.770231",
     "exception": false,
     "start_time": "2024-06-30T21:01:45.757048",
     "status": "completed"
    },
    "tags": []
   },
   "outputs": [],
   "source": [
    "PBcell_sampleDF = PBcellDF.merge(PBsampleDF, on='sampleID', how='left')"
   ]
  },
  {
   "cell_type": "code",
   "execution_count": 11,
   "id": "f7250713-e24d-4614-9cbd-eed702340640",
   "metadata": {
    "execution": {
     "iopub.execute_input": "2024-06-30T21:01:45.781773Z",
     "iopub.status.busy": "2024-06-30T21:01:45.781471Z",
     "iopub.status.idle": "2024-06-30T21:01:45.783959Z",
     "shell.execute_reply": "2024-06-30T21:01:45.783588Z"
    },
    "papermill": {
     "duration": 0.008932,
     "end_time": "2024-06-30T21:01:45.784697",
     "exception": false,
     "start_time": "2024-06-30T21:01:45.775765",
     "status": "completed"
    },
    "tags": []
   },
   "outputs": [],
   "source": [
    "assert(adataPBcell.obs['sampleID'].tolist() == PBcell_sampleDF['sampleID'].tolist())"
   ]
  },
  {
   "cell_type": "code",
   "execution_count": 12,
   "id": "abea2252-6a12-4b89-9f0d-6d6df90064fb",
   "metadata": {
    "execution": {
     "iopub.execute_input": "2024-06-30T21:01:45.796679Z",
     "iopub.status.busy": "2024-06-30T21:01:45.796284Z",
     "iopub.status.idle": "2024-06-30T21:01:45.799213Z",
     "shell.execute_reply": "2024-06-30T21:01:45.798837Z"
    },
    "papermill": {
     "duration": 0.009943,
     "end_time": "2024-06-30T21:01:45.799998",
     "exception": false,
     "start_time": "2024-06-30T21:01:45.790055",
     "status": "completed"
    },
    "tags": []
   },
   "outputs": [],
   "source": [
    "PBcell_sampleDF.drop('sampleID', axis=1, inplace=True)"
   ]
  },
  {
   "cell_type": "code",
   "execution_count": 13,
   "id": "5502e45d-5c72-4440-a8c1-5b299cac6e2d",
   "metadata": {
    "execution": {
     "iopub.execute_input": "2024-06-30T21:01:45.811538Z",
     "iopub.status.busy": "2024-06-30T21:01:45.811259Z",
     "iopub.status.idle": "2024-06-30T21:01:45.815097Z",
     "shell.execute_reply": "2024-06-30T21:01:45.814726Z"
    },
    "papermill": {
     "duration": 0.010558,
     "end_time": "2024-06-30T21:01:45.815870",
     "exception": false,
     "start_time": "2024-06-30T21:01:45.805312",
     "status": "completed"
    },
    "tags": []
   },
   "outputs": [
    {
     "data": {
      "text/plain": [
       "AnnData object with n_obs × n_vars = 11372 × 70\n",
       "    obs: 'sampleID', 'Level1', 'disease', 'n_observation'"
      ]
     },
     "execution_count": 13,
     "metadata": {},
     "output_type": "execute_result"
    }
   ],
   "source": [
    "adataPBcell_sample = sc.AnnData(X = PBcell_sampleDF, obs = adataPBcell.obs)\n",
    "adataPBcell_sample"
   ]
  },
  {
   "cell_type": "markdown",
   "id": "d59574be-684b-4082-b8b6-7d11930362ad",
   "metadata": {
    "papermill": {
     "duration": 0.005545,
     "end_time": "2024-06-30T21:01:45.827454",
     "exception": false,
     "start_time": "2024-06-30T21:01:45.821909",
     "status": "completed"
    },
    "tags": []
   },
   "source": [
    "### Saving pseudobulk adata objects"
   ]
  },
  {
   "cell_type": "code",
   "execution_count": 14,
   "id": "5947e6f8-ac27-4702-ba5d-aa9e1ba79f6a",
   "metadata": {
    "execution": {
     "iopub.execute_input": "2024-06-30T21:01:45.839050Z",
     "iopub.status.busy": "2024-06-30T21:01:45.838654Z",
     "iopub.status.idle": "2024-06-30T21:01:45.952245Z",
     "shell.execute_reply": "2024-06-30T21:01:45.951787Z"
    },
    "papermill": {
     "duration": 0.120337,
     "end_time": "2024-06-30T21:01:45.953043",
     "exception": false,
     "start_time": "2024-06-30T21:01:45.832706",
     "status": "completed"
    },
    "tags": []
   },
   "outputs": [],
   "source": [
    "adataPBcell.write(here(adataPATHlist[0].replace('/scPoli_','/PSEUDOBULKs/scPoli_PSEUDOBULKcell_')), compression='gzip')"
   ]
  },
  {
   "cell_type": "code",
   "execution_count": 15,
   "id": "e9485945-bccf-419a-9420-c1e4f3aa262d",
   "metadata": {
    "execution": {
     "iopub.execute_input": "2024-06-30T21:01:45.965521Z",
     "iopub.status.busy": "2024-06-30T21:01:45.965076Z",
     "iopub.status.idle": "2024-06-30T21:01:45.988350Z",
     "shell.execute_reply": "2024-06-30T21:01:45.987974Z"
    },
    "papermill": {
     "duration": 0.030156,
     "end_time": "2024-06-30T21:01:45.989131",
     "exception": false,
     "start_time": "2024-06-30T21:01:45.958975",
     "status": "completed"
    },
    "tags": []
   },
   "outputs": [],
   "source": [
    "adataPBsample.write(here(adataPATHlist[0].replace('/scPoli_','/PSEUDOBULKs/scPoli_PSEUDOBULKsample_')), compression='gzip')"
   ]
  },
  {
   "cell_type": "code",
   "execution_count": 16,
   "id": "9c2daa40-3279-4b24-8aad-65ee0ba758c8",
   "metadata": {
    "execution": {
     "iopub.execute_input": "2024-06-30T21:01:46.001067Z",
     "iopub.status.busy": "2024-06-30T21:01:46.000717Z",
     "iopub.status.idle": "2024-06-30T21:01:46.127981Z",
     "shell.execute_reply": "2024-06-30T21:01:46.127516Z"
    },
    "papermill": {
     "duration": 0.134067,
     "end_time": "2024-06-30T21:01:46.128818",
     "exception": false,
     "start_time": "2024-06-30T21:01:45.994751",
     "status": "completed"
    },
    "tags": []
   },
   "outputs": [],
   "source": [
    "adataPBcell_sample.write(here(adataPATHlist[0].replace('/scPoli_','/PSEUDOBULKs/scPoli_PSEUDOBULKcellSample_')), compression='gzip')"
   ]
  },
  {
   "cell_type": "code",
   "execution_count": null,
   "id": "8a70d9f6-7a44-45ee-8470-702bd7af1e0b",
   "metadata": {
    "papermill": {
     "duration": 0.005354,
     "end_time": "2024-06-30T21:01:46.140103",
     "exception": false,
     "start_time": "2024-06-30T21:01:46.134749",
     "status": "completed"
    },
    "tags": []
   },
   "outputs": [],
   "source": []
  }
 ],
 "metadata": {
  "kernelspec": {
   "display_name": "Python 3 (ipykernel)",
   "language": "python",
   "name": "python3"
  },
  "language_info": {
   "codemirror_mode": {
    "name": "ipython",
    "version": 3
   },
   "file_extension": ".py",
   "mimetype": "text/x-python",
   "name": "python",
   "nbconvert_exporter": "python",
   "pygments_lexer": "ipython3",
   "version": "3.12.3"
  },
  "papermill": {
   "default_parameters": {},
   "duration": 15.987389,
   "end_time": "2024-06-30T21:01:46.760969",
   "environment_variables": {},
   "exception": null,
   "input_path": "03_generating_PSEUDOBULKs.ipynb",
   "output_path": "executed_notebooks/03_generating_PSEUDOBULKs_scPoli_ref_latents_EXTERNAL_2_50_20_run3_x0stq72c.h5ad.ipynb",
   "parameters": {
    "adataPATH": "03_downstream_analysis/08_PatientClassifier/scPoli/results/scPoli_ref_latents_EXTERNAL_2_50_20_run3_x0stq72c.h5ad"
   },
   "start_time": "2024-06-30T21:01:30.773580",
   "version": "2.6.0"
  }
 },
 "nbformat": 4,
 "nbformat_minor": 5
}