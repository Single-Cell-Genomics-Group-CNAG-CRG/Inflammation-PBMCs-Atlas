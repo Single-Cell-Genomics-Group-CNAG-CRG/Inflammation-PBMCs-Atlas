{
 "cells": [
  {
   "cell_type": "code",
   "execution_count": 1,
   "id": "c3fe04fa",
   "metadata": {
    "execution": {
     "iopub.execute_input": "2024-06-30T21:00:20.257748Z",
     "iopub.status.busy": "2024-06-30T21:00:20.257469Z",
     "iopub.status.idle": "2024-06-30T21:00:20.259985Z",
     "shell.execute_reply": "2024-06-30T21:00:20.259621Z"
    },
    "papermill": {
     "duration": 0.009622,
     "end_time": "2024-06-30T21:00:20.260823",
     "exception": false,
     "start_time": "2024-06-30T21:00:20.251201",
     "status": "completed"
    },
    "tags": [
     "injected-parameters"
    ]
   },
   "outputs": [],
   "source": [
    "# Parameters\n",
    "adataPATH = \"03_downstream_analysis/08_PatientClassifier/scPoli/results/scPoli_EXTERNAL_2_30_20_run3_0vvgu480.h5ad\"\n"
   ]
  },
  {
   "cell_type": "raw",
   "id": "bf9880bd-3aef-477b-807d-37e3c5603037",
   "metadata": {
    "execution": {
     "iopub.execute_input": "2024-06-29T08:23:25.403219Z",
     "iopub.status.busy": "2024-06-29T08:23:25.402857Z",
     "iopub.status.idle": "2024-06-29T08:23:25.406428Z",
     "shell.execute_reply": "2024-06-29T08:23:25.406014Z",
     "shell.execute_reply.started": "2024-06-29T08:23:25.403185Z"
    },
    "papermill": {
     "duration": 0.006558,
     "end_time": "2024-06-30T21:00:20.272202",
     "exception": false,
     "start_time": "2024-06-30T21:00:20.265644",
     "status": "completed"
    },
    "tags": [],
    "vscode": {
     "languageId": "raw"
    }
   },
   "source": [
    "adataMAINpath = '03_downstream_analysis/08_PatientClassifier/scPoli/results/scPoli_2_100_20_*.h5ad'\n",
    "\n",
    "adataVALpath = '03_downstream_analysis/08_PatientClassifier/scPoli/results/scPoli_VALIDATION_2_20_20*.h5ad'\n",
    "adataEXCpath = '03_downstream_analysis/08_PatientClassifier/scPoli/results/scPoli_EXCLUDED_2_100_20_run1_pd5nyb4g.h5ad'\n",
    "adataEXTpath = '03_downstream_analysis/08_PatientClassifier/scPoli/results/scPoli_EXTERNAL_2_100_20_run1_pd5nyb4g.h5ad'\n",
    "\n",
    "adataPATH = adataVALpath"
   ]
  },
  {
   "cell_type": "code",
   "execution_count": 2,
   "id": "d3ccb10a-7201-43d0-a593-2b4650ff3451",
   "metadata": {
    "execution": {
     "iopub.execute_input": "2024-06-30T21:00:20.282528Z",
     "iopub.status.busy": "2024-06-30T21:00:20.282107Z",
     "iopub.status.idle": "2024-06-30T21:00:20.285109Z",
     "shell.execute_reply": "2024-06-30T21:00:20.284739Z"
    },
    "papermill": {
     "duration": 0.008726,
     "end_time": "2024-06-30T21:00:20.285917",
     "exception": false,
     "start_time": "2024-06-30T21:00:20.277191",
     "status": "completed"
    },
    "tags": []
   },
   "outputs": [
    {
     "name": "stdout",
     "output_type": "stream",
     "text": [
      "adataPATH = 03_downstream_analysis/08_PatientClassifier/scPoli/results/scPoli_EXTERNAL_2_30_20_run3_0vvgu480.h5ad\n"
     ]
    }
   ],
   "source": [
    "for v in ['adataPATH']:\n",
    "    if v in locals() or v in globals():\n",
    "        print(f\"{v} = {eval(v)}\")\n",
    "    else:\n",
    "        raise Exception(f\"{v} not specified\")"
   ]
  },
  {
   "cell_type": "code",
   "execution_count": 3,
   "id": "888fb5f4-9ab7-4196-a282-7a7e92a43971",
   "metadata": {
    "execution": {
     "iopub.execute_input": "2024-06-30T21:00:20.295964Z",
     "iopub.status.busy": "2024-06-30T21:00:20.295633Z",
     "iopub.status.idle": "2024-06-30T21:00:21.682584Z",
     "shell.execute_reply": "2024-06-30T21:00:21.682097Z"
    },
    "papermill": {
     "duration": 1.392855,
     "end_time": "2024-06-30T21:00:21.683500",
     "exception": false,
     "start_time": "2024-06-30T21:00:20.290645",
     "status": "completed"
    },
    "tags": []
   },
   "outputs": [],
   "source": [
    "import os\n",
    "import sys\n",
    "from glob import glob\n",
    "\n",
    "import scanpy as sc\n",
    "import pandas as pd\n",
    "\n",
    "from pyprojroot import here\n",
    "\n",
    "sys.path.insert(1, str(here('bin')))\n",
    "# Import custom functions\n",
    "from customPythonFunctions import aggregating_features"
   ]
  },
  {
   "cell_type": "markdown",
   "id": "ba4905ae-4546-4ef4-b57b-950441ab079d",
   "metadata": {
    "papermill": {
     "duration": 0.004728,
     "end_time": "2024-06-30T21:00:21.693386",
     "exception": false,
     "start_time": "2024-06-30T21:00:21.688658",
     "status": "completed"
    },
    "tags": []
   },
   "source": [
    "### Loading data"
   ]
  },
  {
   "cell_type": "code",
   "execution_count": 4,
   "id": "539cbbbb-3503-4f51-bf04-f007f928ebd1",
   "metadata": {
    "execution": {
     "iopub.execute_input": "2024-06-30T21:00:21.703698Z",
     "iopub.status.busy": "2024-06-30T21:00:21.703341Z",
     "iopub.status.idle": "2024-06-30T21:00:21.707053Z",
     "shell.execute_reply": "2024-06-30T21:00:21.706685Z"
    },
    "papermill": {
     "duration": 0.009698,
     "end_time": "2024-06-30T21:00:21.707867",
     "exception": false,
     "start_time": "2024-06-30T21:00:21.698169",
     "status": "completed"
    },
    "tags": []
   },
   "outputs": [],
   "source": [
    "adataPATHlist = glob(str(here(adataPATH)))\n",
    "assert(len(adataPATHlist) == 1)"
   ]
  },
  {
   "cell_type": "code",
   "execution_count": 5,
   "id": "0fcfce0a-896b-4dc0-8e5e-46749205c84f",
   "metadata": {
    "execution": {
     "iopub.execute_input": "2024-06-30T21:00:21.717972Z",
     "iopub.status.busy": "2024-06-30T21:00:21.717705Z",
     "iopub.status.idle": "2024-06-30T21:00:22.692687Z",
     "shell.execute_reply": "2024-06-30T21:00:22.692244Z"
    },
    "papermill": {
     "duration": 0.980762,
     "end_time": "2024-06-30T21:00:22.693495",
     "exception": false,
     "start_time": "2024-06-30T21:00:21.712733",
     "status": "completed"
    },
    "tags": []
   },
   "outputs": [
    {
     "data": {
      "text/plain": [
       "AnnData object with n_obs × n_vars = 572872 × 30\n",
       "    obs: 'studyID', 'libraryID', 'sampleID', 'chemistry', 'technology', 'disease', 'sex', 'binned_age', 'Level1', 'Level2', 'conditions_combined', 'Level1_unc', 'Level2_unc'\n",
       "    uns: 'chemistry', 'sampleID'"
      ]
     },
     "execution_count": 5,
     "metadata": {},
     "output_type": "execute_result"
    }
   ],
   "source": [
    "adata = sc.read_h5ad(adataPATHlist[0])\n",
    "adata"
   ]
  },
  {
   "cell_type": "markdown",
   "id": "44e868b3-0771-4225-bd79-a4b179bc672b",
   "metadata": {
    "papermill": {
     "duration": 0.004714,
     "end_time": "2024-06-30T21:00:22.703637",
     "exception": false,
     "start_time": "2024-06-30T21:00:22.698923",
     "status": "completed"
    },
    "tags": []
   },
   "source": [
    "#### Generating PSEUDOBULKs"
   ]
  },
  {
   "cell_type": "markdown",
   "id": "97d09fc5-d05c-471e-87fa-fe58ccbe47ac",
   "metadata": {
    "papermill": {
     "duration": 0.004671,
     "end_time": "2024-06-30T21:00:22.712996",
     "exception": false,
     "start_time": "2024-06-30T21:00:22.708325",
     "status": "completed"
    },
    "tags": []
   },
   "source": [
    "**Aggregating cell latent features**"
   ]
  },
  {
   "cell_type": "code",
   "execution_count": 6,
   "id": "81223976-fcf6-4354-8964-b12d76468636",
   "metadata": {
    "execution": {
     "iopub.execute_input": "2024-06-30T21:00:22.724930Z",
     "iopub.status.busy": "2024-06-30T21:00:22.724776Z",
     "iopub.status.idle": "2024-06-30T21:00:22.968788Z",
     "shell.execute_reply": "2024-06-30T21:00:22.968358Z"
    },
    "papermill": {
     "duration": 0.250067,
     "end_time": "2024-06-30T21:00:22.969613",
     "exception": false,
     "start_time": "2024-06-30T21:00:22.719546",
     "status": "completed"
    },
    "tags": []
   },
   "outputs": [
    {
     "data": {
      "text/plain": [
       "AnnData object with n_obs × n_vars = 1267 × 30\n",
       "    obs: 'sampleID', 'Level1', 'disease', 'n_observation'"
      ]
     },
     "execution_count": 6,
     "metadata": {},
     "output_type": "execute_result"
    }
   ],
   "source": [
    "adataPBcell = aggregating_features(Z = adata.X, \n",
    "                             obsDF = adata.obs[['sampleID','Level1','disease']], \n",
    "                             mode = 'mean', \n",
    "                             obs_names_col=['sampleID','Level1'], \n",
    "                             min_observation=0)\n",
    "adataPBcell"
   ]
  },
  {
   "cell_type": "code",
   "execution_count": null,
   "id": "8495038e-aebd-4003-bd94-c1e49f47249e",
   "metadata": {
    "papermill": {
     "duration": 0.004718,
     "end_time": "2024-06-30T21:00:22.979710",
     "exception": false,
     "start_time": "2024-06-30T21:00:22.974992",
     "status": "completed"
    },
    "tags": []
   },
   "outputs": [],
   "source": []
  },
  {
   "cell_type": "markdown",
   "id": "6d602bad-4793-4aa4-b3d7-d118d413a0fc",
   "metadata": {
    "papermill": {
     "duration": 0.004794,
     "end_time": "2024-06-30T21:00:22.990305",
     "exception": false,
     "start_time": "2024-06-30T21:00:22.985511",
     "status": "completed"
    },
    "tags": []
   },
   "source": [
    "**Extracting sample embedding**"
   ]
  },
  {
   "cell_type": "code",
   "execution_count": 7,
   "id": "e2c14f02",
   "metadata": {
    "execution": {
     "iopub.execute_input": "2024-06-30T21:00:23.000617Z",
     "iopub.status.busy": "2024-06-30T21:00:23.000389Z",
     "iopub.status.idle": "2024-06-30T21:00:23.008375Z",
     "shell.execute_reply": "2024-06-30T21:00:23.008013Z"
    },
    "papermill": {
     "duration": 0.014143,
     "end_time": "2024-06-30T21:00:23.009122",
     "exception": false,
     "start_time": "2024-06-30T21:00:22.994979",
     "status": "completed"
    },
    "tags": []
   },
   "outputs": [
    {
     "data": {
      "text/plain": [
       "AnnData object with n_obs × n_vars = 86 × 20\n",
       "    obs: 'sampleID', 'disease', 'Level1'"
      ]
     },
     "execution_count": 7,
     "metadata": {},
     "output_type": "execute_result"
    }
   ],
   "source": [
    "adataPBsample = adata.uns['sampleID'].copy()\n",
    "adataPBsample.obs['sampleID'] = adataPBsample.obs.index\n",
    "adataPBsample = adataPBsample[adataPBsample.obs['sampleID'].isin(adataPBcell.obs['sampleID'])]\n",
    "\n",
    "adataPBsample.obs = adataPBsample.obs.merge(adataPBcell.obs.groupby('sampleID').agg({'disease':'first'}), left_index=True, right_index=True)\n",
    "adataPBsample.obs['Level1'] = 'sample'\n",
    "adataPBsample"
   ]
  },
  {
   "cell_type": "markdown",
   "id": "2d4fe137-7d68-4e86-a85c-3c1a3d3c4c71",
   "metadata": {
    "papermill": {
     "duration": 0.005195,
     "end_time": "2024-06-30T21:00:23.019412",
     "exception": false,
     "start_time": "2024-06-30T21:00:23.014217",
     "status": "completed"
    },
    "tags": []
   },
   "source": [
    "**Merging cell and patient latent features**"
   ]
  },
  {
   "cell_type": "code",
   "execution_count": 8,
   "id": "a326d2b1",
   "metadata": {
    "execution": {
     "iopub.execute_input": "2024-06-30T21:00:23.030071Z",
     "iopub.status.busy": "2024-06-30T21:00:23.029704Z",
     "iopub.status.idle": "2024-06-30T21:00:23.032104Z",
     "shell.execute_reply": "2024-06-30T21:00:23.031750Z"
    },
    "papermill": {
     "duration": 0.008591,
     "end_time": "2024-06-30T21:00:23.032912",
     "exception": false,
     "start_time": "2024-06-30T21:00:23.024321",
     "status": "completed"
    },
    "tags": []
   },
   "outputs": [],
   "source": [
    "PBcellDF = adataPBcell.to_df()\n",
    "PBcellDF['sampleID'] = adataPBcell.obs['sampleID']"
   ]
  },
  {
   "cell_type": "code",
   "execution_count": 9,
   "id": "1a597f46-d9c5-403b-b81e-5738ca206682",
   "metadata": {
    "execution": {
     "iopub.execute_input": "2024-06-30T21:00:23.043656Z",
     "iopub.status.busy": "2024-06-30T21:00:23.043397Z",
     "iopub.status.idle": "2024-06-30T21:00:23.045752Z",
     "shell.execute_reply": "2024-06-30T21:00:23.045393Z"
    },
    "papermill": {
     "duration": 0.008309,
     "end_time": "2024-06-30T21:00:23.046491",
     "exception": false,
     "start_time": "2024-06-30T21:00:23.038182",
     "status": "completed"
    },
    "tags": []
   },
   "outputs": [],
   "source": [
    "PBsampleDF = adataPBsample.to_df()\n",
    "PBsampleDF['sampleID'] = adataPBsample.obs['sampleID']"
   ]
  },
  {
   "cell_type": "code",
   "execution_count": 10,
   "id": "bb384751-fe1b-4635-a90d-fd98ae61b173",
   "metadata": {
    "execution": {
     "iopub.execute_input": "2024-06-30T21:00:23.057162Z",
     "iopub.status.busy": "2024-06-30T21:00:23.056909Z",
     "iopub.status.idle": "2024-06-30T21:00:23.060614Z",
     "shell.execute_reply": "2024-06-30T21:00:23.060250Z"
    },
    "papermill": {
     "duration": 0.009713,
     "end_time": "2024-06-30T21:00:23.061357",
     "exception": false,
     "start_time": "2024-06-30T21:00:23.051644",
     "status": "completed"
    },
    "tags": []
   },
   "outputs": [],
   "source": [
    "PBcell_sampleDF = PBcellDF.merge(PBsampleDF, on='sampleID', how='left')"
   ]
  },
  {
   "cell_type": "code",
   "execution_count": 11,
   "id": "f7250713-e24d-4614-9cbd-eed702340640",
   "metadata": {
    "execution": {
     "iopub.execute_input": "2024-06-30T21:00:23.071890Z",
     "iopub.status.busy": "2024-06-30T21:00:23.071625Z",
     "iopub.status.idle": "2024-06-30T21:00:23.073875Z",
     "shell.execute_reply": "2024-06-30T21:00:23.073516Z"
    },
    "papermill": {
     "duration": 0.008346,
     "end_time": "2024-06-30T21:00:23.074613",
     "exception": false,
     "start_time": "2024-06-30T21:00:23.066267",
     "status": "completed"
    },
    "tags": []
   },
   "outputs": [],
   "source": [
    "assert(adataPBcell.obs['sampleID'].tolist() == PBcell_sampleDF['sampleID'].tolist())"
   ]
  },
  {
   "cell_type": "code",
   "execution_count": 12,
   "id": "abea2252-6a12-4b89-9f0d-6d6df90064fb",
   "metadata": {
    "execution": {
     "iopub.execute_input": "2024-06-30T21:00:23.085692Z",
     "iopub.status.busy": "2024-06-30T21:00:23.085328Z",
     "iopub.status.idle": "2024-06-30T21:00:23.087825Z",
     "shell.execute_reply": "2024-06-30T21:00:23.087470Z"
    },
    "papermill": {
     "duration": 0.008869,
     "end_time": "2024-06-30T21:00:23.088576",
     "exception": false,
     "start_time": "2024-06-30T21:00:23.079707",
     "status": "completed"
    },
    "tags": []
   },
   "outputs": [],
   "source": [
    "PBcell_sampleDF.drop('sampleID', axis=1, inplace=True)"
   ]
  },
  {
   "cell_type": "code",
   "execution_count": 13,
   "id": "5502e45d-5c72-4440-a8c1-5b299cac6e2d",
   "metadata": {
    "execution": {
     "iopub.execute_input": "2024-06-30T21:00:23.099622Z",
     "iopub.status.busy": "2024-06-30T21:00:23.099274Z",
     "iopub.status.idle": "2024-06-30T21:00:23.102767Z",
     "shell.execute_reply": "2024-06-30T21:00:23.102408Z"
    },
    "papermill": {
     "duration": 0.009994,
     "end_time": "2024-06-30T21:00:23.103520",
     "exception": false,
     "start_time": "2024-06-30T21:00:23.093526",
     "status": "completed"
    },
    "tags": []
   },
   "outputs": [
    {
     "data": {
      "text/plain": [
       "AnnData object with n_obs × n_vars = 1267 × 50\n",
       "    obs: 'sampleID', 'Level1', 'disease', 'n_observation'"
      ]
     },
     "execution_count": 13,
     "metadata": {},
     "output_type": "execute_result"
    }
   ],
   "source": [
    "adataPBcell_sample = sc.AnnData(X = PBcell_sampleDF, obs = adataPBcell.obs)\n",
    "adataPBcell_sample"
   ]
  },
  {
   "cell_type": "markdown",
   "id": "d59574be-684b-4082-b8b6-7d11930362ad",
   "metadata": {
    "papermill": {
     "duration": 0.005343,
     "end_time": "2024-06-30T21:00:23.114652",
     "exception": false,
     "start_time": "2024-06-30T21:00:23.109309",
     "status": "completed"
    },
    "tags": []
   },
   "source": [
    "### Saving pseudobulk adata objects"
   ]
  },
  {
   "cell_type": "code",
   "execution_count": 14,
   "id": "5947e6f8-ac27-4702-ba5d-aa9e1ba79f6a",
   "metadata": {
    "execution": {
     "iopub.execute_input": "2024-06-30T21:00:23.126037Z",
     "iopub.status.busy": "2024-06-30T21:00:23.125768Z",
     "iopub.status.idle": "2024-06-30T21:00:23.155469Z",
     "shell.execute_reply": "2024-06-30T21:00:23.155046Z"
    },
    "papermill": {
     "duration": 0.03608,
     "end_time": "2024-06-30T21:00:23.156271",
     "exception": false,
     "start_time": "2024-06-30T21:00:23.120191",
     "status": "completed"
    },
    "tags": []
   },
   "outputs": [],
   "source": [
    "adataPBcell.write(here(adataPATHlist[0].replace('/scPoli_','/PSEUDOBULKs/scPoli_PSEUDOBULKcell_')), compression='gzip')"
   ]
  },
  {
   "cell_type": "code",
   "execution_count": 15,
   "id": "e9485945-bccf-419a-9420-c1e4f3aa262d",
   "metadata": {
    "execution": {
     "iopub.execute_input": "2024-06-30T21:00:23.170963Z",
     "iopub.status.busy": "2024-06-30T21:00:23.170598Z",
     "iopub.status.idle": "2024-06-30T21:00:23.197589Z",
     "shell.execute_reply": "2024-06-30T21:00:23.197216Z"
    },
    "papermill": {
     "duration": 0.033484,
     "end_time": "2024-06-30T21:00:23.198379",
     "exception": false,
     "start_time": "2024-06-30T21:00:23.164895",
     "status": "completed"
    },
    "tags": []
   },
   "outputs": [],
   "source": [
    "adataPBsample.write(here(adataPATHlist[0].replace('/scPoli_','/PSEUDOBULKs/scPoli_PSEUDOBULKsample_')), compression='gzip')"
   ]
  },
  {
   "cell_type": "code",
   "execution_count": 16,
   "id": "9c2daa40-3279-4b24-8aad-65ee0ba758c8",
   "metadata": {
    "execution": {
     "iopub.execute_input": "2024-06-30T21:00:23.210143Z",
     "iopub.status.busy": "2024-06-30T21:00:23.209794Z",
     "iopub.status.idle": "2024-06-30T21:00:23.245604Z",
     "shell.execute_reply": "2024-06-30T21:00:23.245220Z"
    },
    "papermill": {
     "duration": 0.04266,
     "end_time": "2024-06-30T21:00:23.246670",
     "exception": false,
     "start_time": "2024-06-30T21:00:23.204010",
     "status": "completed"
    },
    "tags": []
   },
   "outputs": [],
   "source": [
    "adataPBcell_sample.write(here(adataPATHlist[0].replace('/scPoli_','/PSEUDOBULKs/scPoli_PSEUDOBULKcellSample_')), compression='gzip')"
   ]
  },
  {
   "cell_type": "code",
   "execution_count": null,
   "id": "8a70d9f6-7a44-45ee-8470-702bd7af1e0b",
   "metadata": {
    "papermill": {
     "duration": 0.005257,
     "end_time": "2024-06-30T21:00:23.257344",
     "exception": false,
     "start_time": "2024-06-30T21:00:23.252087",
     "status": "completed"
    },
    "tags": []
   },
   "outputs": [],
   "source": []
  }
 ],
 "metadata": {
  "kernelspec": {
   "display_name": "Python 3 (ipykernel)",
   "language": "python",
   "name": "python3"
  },
  "language_info": {
   "codemirror_mode": {
    "name": "ipython",
    "version": 3
   },
   "file_extension": ".py",
   "mimetype": "text/x-python",
   "name": "python",
   "nbconvert_exporter": "python",
   "pygments_lexer": "ipython3",
   "version": "3.12.3"
  },
  "papermill": {
   "default_parameters": {},
   "duration": 4.7229,
   "end_time": "2024-06-30T21:00:23.877331",
   "environment_variables": {},
   "exception": null,
   "input_path": "03_generating_PSEUDOBULKs.ipynb",
   "output_path": "executed_notebooks/03_generating_PSEUDOBULKs_scPoli_EXTERNAL_2_30_20_run3_0vvgu480.h5ad.ipynb",
   "parameters": {
    "adataPATH": "03_downstream_analysis/08_PatientClassifier/scPoli/results/scPoli_EXTERNAL_2_30_20_run3_0vvgu480.h5ad"
   },
   "start_time": "2024-06-30T21:00:19.154431",
   "version": "2.6.0"
  }
 },
 "nbformat": 4,
 "nbformat_minor": 5
}