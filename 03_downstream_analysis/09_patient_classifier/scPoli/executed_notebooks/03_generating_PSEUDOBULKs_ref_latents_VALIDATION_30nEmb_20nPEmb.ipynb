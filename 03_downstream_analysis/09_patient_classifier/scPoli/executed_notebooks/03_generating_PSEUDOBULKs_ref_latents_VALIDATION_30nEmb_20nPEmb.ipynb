{
 "cells": [
  {
   "cell_type": "code",
   "execution_count": 1,
   "id": "a4bef3cc",
   "metadata": {
    "execution": {
     "iopub.execute_input": "2024-06-30T20:56:12.030290Z",
     "iopub.status.busy": "2024-06-30T20:56:12.029878Z",
     "iopub.status.idle": "2024-06-30T20:56:12.032455Z",
     "shell.execute_reply": "2024-06-30T20:56:12.032101Z"
    },
    "papermill": {
     "duration": 0.009507,
     "end_time": "2024-06-30T20:56:12.033252",
     "exception": false,
     "start_time": "2024-06-30T20:56:12.023745",
     "status": "completed"
    },
    "tags": [
     "injected-parameters"
    ]
   },
   "outputs": [],
   "source": [
    "# Parameters\n",
    "adataPATH = \"03_downstream_analysis/08_PatientClassifier/scPoli/results/scPoli_ref_latents_VALIDATION_2_30_20_*.h5ad\"\n"
   ]
  },
  {
   "cell_type": "raw",
   "id": "bf9880bd-3aef-477b-807d-37e3c5603037",
   "metadata": {
    "execution": {
     "iopub.execute_input": "2024-06-29T08:23:25.403219Z",
     "iopub.status.busy": "2024-06-29T08:23:25.402857Z",
     "iopub.status.idle": "2024-06-29T08:23:25.406428Z",
     "shell.execute_reply": "2024-06-29T08:23:25.406014Z",
     "shell.execute_reply.started": "2024-06-29T08:23:25.403185Z"
    },
    "papermill": {
     "duration": 0.005024,
     "end_time": "2024-06-30T20:56:12.057829",
     "exception": false,
     "start_time": "2024-06-30T20:56:12.052805",
     "status": "completed"
    },
    "tags": [],
    "vscode": {
     "languageId": "raw"
    }
   },
   "source": [
    "adataMAINpath = '03_downstream_analysis/08_PatientClassifier/scPoli/results/scPoli_2_100_20_*.h5ad'\n",
    "\n",
    "adataVALpath = '03_downstream_analysis/08_PatientClassifier/scPoli/results/scPoli_VALIDATION_2_20_20*.h5ad'\n",
    "adataEXCpath = '03_downstream_analysis/08_PatientClassifier/scPoli/results/scPoli_EXCLUDED_2_100_20_run1_pd5nyb4g.h5ad'\n",
    "adataEXTpath = '03_downstream_analysis/08_PatientClassifier/scPoli/results/scPoli_EXTERNAL_2_100_20_run1_pd5nyb4g.h5ad'\n",
    "\n",
    "adataPATH = adataVALpath"
   ]
  },
  {
   "cell_type": "code",
   "execution_count": 2,
   "id": "d3ccb10a-7201-43d0-a593-2b4650ff3451",
   "metadata": {
    "execution": {
     "iopub.execute_input": "2024-06-30T20:56:12.069602Z",
     "iopub.status.busy": "2024-06-30T20:56:12.069291Z",
     "iopub.status.idle": "2024-06-30T20:56:12.072146Z",
     "shell.execute_reply": "2024-06-30T20:56:12.071797Z"
    },
    "papermill": {
     "duration": 0.010216,
     "end_time": "2024-06-30T20:56:12.072939",
     "exception": false,
     "start_time": "2024-06-30T20:56:12.062723",
     "status": "completed"
    },
    "tags": []
   },
   "outputs": [
    {
     "name": "stdout",
     "output_type": "stream",
     "text": [
      "adataPATH = 03_downstream_analysis/08_PatientClassifier/scPoli/results/scPoli_ref_latents_VALIDATION_2_30_20_*.h5ad\n"
     ]
    }
   ],
   "source": [
    "for v in ['adataPATH']:\n",
    "    if v in locals() or v in globals():\n",
    "        print(f\"{v} = {eval(v)}\")\n",
    "    else:\n",
    "        raise Exception(f\"{v} not specified\")"
   ]
  },
  {
   "cell_type": "code",
   "execution_count": 3,
   "id": "888fb5f4-9ab7-4196-a282-7a7e92a43971",
   "metadata": {
    "execution": {
     "iopub.execute_input": "2024-06-30T20:56:12.083694Z",
     "iopub.status.busy": "2024-06-30T20:56:12.083437Z",
     "iopub.status.idle": "2024-06-30T20:56:13.438574Z",
     "shell.execute_reply": "2024-06-30T20:56:13.438104Z"
    },
    "papermill": {
     "duration": 1.361487,
     "end_time": "2024-06-30T20:56:13.439481",
     "exception": false,
     "start_time": "2024-06-30T20:56:12.077994",
     "status": "completed"
    },
    "tags": []
   },
   "outputs": [],
   "source": [
    "import os\n",
    "import sys\n",
    "from glob import glob\n",
    "\n",
    "import scanpy as sc\n",
    "import pandas as pd\n",
    "\n",
    "from pyprojroot import here\n",
    "\n",
    "sys.path.insert(1, str(here('bin')))\n",
    "# Import custom functions\n",
    "from customPythonFunctions import aggregating_features"
   ]
  },
  {
   "cell_type": "markdown",
   "id": "ba4905ae-4546-4ef4-b57b-950441ab079d",
   "metadata": {
    "papermill": {
     "duration": 0.004437,
     "end_time": "2024-06-30T20:56:13.448879",
     "exception": false,
     "start_time": "2024-06-30T20:56:13.444442",
     "status": "completed"
    },
    "tags": []
   },
   "source": [
    "### Loading data"
   ]
  },
  {
   "cell_type": "code",
   "execution_count": 4,
   "id": "539cbbbb-3503-4f51-bf04-f007f928ebd1",
   "metadata": {
    "execution": {
     "iopub.execute_input": "2024-06-30T20:56:13.458859Z",
     "iopub.status.busy": "2024-06-30T20:56:13.458588Z",
     "iopub.status.idle": "2024-06-30T20:56:13.462478Z",
     "shell.execute_reply": "2024-06-30T20:56:13.462111Z"
    },
    "papermill": {
     "duration": 0.009726,
     "end_time": "2024-06-30T20:56:13.463238",
     "exception": false,
     "start_time": "2024-06-30T20:56:13.453512",
     "status": "completed"
    },
    "tags": []
   },
   "outputs": [],
   "source": [
    "adataPATHlist = glob(str(here(adataPATH)))\n",
    "assert(len(adataPATHlist) == 1)"
   ]
  },
  {
   "cell_type": "code",
   "execution_count": 5,
   "id": "0fcfce0a-896b-4dc0-8e5e-46749205c84f",
   "metadata": {
    "execution": {
     "iopub.execute_input": "2024-06-30T20:56:13.474400Z",
     "iopub.status.busy": "2024-06-30T20:56:13.474099Z",
     "iopub.status.idle": "2024-06-30T20:56:21.484160Z",
     "shell.execute_reply": "2024-06-30T20:56:21.483744Z"
    },
    "papermill": {
     "duration": 8.017101,
     "end_time": "2024-06-30T20:56:21.485034",
     "exception": false,
     "start_time": "2024-06-30T20:56:13.467933",
     "status": "completed"
    },
    "tags": []
   },
   "outputs": [
    {
     "data": {
      "text/plain": [
       "AnnData object with n_obs × n_vars = 4435922 × 30\n",
       "    obs: 'studyID', 'libraryID', 'sampleID', 'chemistry', 'disease', 'sex', 'binned_age', 'Level1', 'Level2'\n",
       "    uns: 'chemistry', 'sampleID'"
      ]
     },
     "execution_count": 5,
     "metadata": {},
     "output_type": "execute_result"
    }
   ],
   "source": [
    "adata = sc.read_h5ad(adataPATHlist[0])\n",
    "adata"
   ]
  },
  {
   "cell_type": "markdown",
   "id": "44e868b3-0771-4225-bd79-a4b179bc672b",
   "metadata": {
    "papermill": {
     "duration": 0.004735,
     "end_time": "2024-06-30T20:56:21.495978",
     "exception": false,
     "start_time": "2024-06-30T20:56:21.491243",
     "status": "completed"
    },
    "tags": []
   },
   "source": [
    "#### Generating PSEUDOBULKs"
   ]
  },
  {
   "cell_type": "markdown",
   "id": "97d09fc5-d05c-471e-87fa-fe58ccbe47ac",
   "metadata": {
    "papermill": {
     "duration": 0.004668,
     "end_time": "2024-06-30T20:56:21.505419",
     "exception": false,
     "start_time": "2024-06-30T20:56:21.500751",
     "status": "completed"
    },
    "tags": []
   },
   "source": [
    "**Aggregating cell latent features**"
   ]
  },
  {
   "cell_type": "code",
   "execution_count": 6,
   "id": "81223976-fcf6-4354-8964-b12d76468636",
   "metadata": {
    "execution": {
     "iopub.execute_input": "2024-06-30T20:56:21.515291Z",
     "iopub.status.busy": "2024-06-30T20:56:21.515132Z",
     "iopub.status.idle": "2024-06-30T20:56:23.263532Z",
     "shell.execute_reply": "2024-06-30T20:56:23.263098Z"
    },
    "papermill": {
     "duration": 1.754413,
     "end_time": "2024-06-30T20:56:23.264370",
     "exception": false,
     "start_time": "2024-06-30T20:56:21.509957",
     "status": "completed"
    },
    "tags": []
   },
   "outputs": [
    {
     "data": {
      "text/plain": [
       "AnnData object with n_obs × n_vars = 11372 × 30\n",
       "    obs: 'sampleID', 'Level1', 'disease', 'n_observation'"
      ]
     },
     "execution_count": 6,
     "metadata": {},
     "output_type": "execute_result"
    }
   ],
   "source": [
    "adataPBcell = aggregating_features(Z = adata.X, \n",
    "                             obsDF = adata.obs[['sampleID','Level1','disease']], \n",
    "                             mode = 'mean', \n",
    "                             obs_names_col=['sampleID','Level1'], \n",
    "                             min_observation=0)\n",
    "adataPBcell"
   ]
  },
  {
   "cell_type": "code",
   "execution_count": null,
   "id": "8495038e-aebd-4003-bd94-c1e49f47249e",
   "metadata": {
    "papermill": {
     "duration": 0.005047,
     "end_time": "2024-06-30T20:56:23.274381",
     "exception": false,
     "start_time": "2024-06-30T20:56:23.269334",
     "status": "completed"
    },
    "tags": []
   },
   "outputs": [],
   "source": []
  },
  {
   "cell_type": "markdown",
   "id": "6d602bad-4793-4aa4-b3d7-d118d413a0fc",
   "metadata": {
    "papermill": {
     "duration": 0.004932,
     "end_time": "2024-06-30T20:56:23.284907",
     "exception": false,
     "start_time": "2024-06-30T20:56:23.279975",
     "status": "completed"
    },
    "tags": []
   },
   "source": [
    "**Extracting sample embedding**"
   ]
  },
  {
   "cell_type": "code",
   "execution_count": 7,
   "id": "e2c14f02",
   "metadata": {
    "execution": {
     "iopub.execute_input": "2024-06-30T20:56:23.295247Z",
     "iopub.status.busy": "2024-06-30T20:56:23.294955Z",
     "iopub.status.idle": "2024-06-30T20:56:23.305127Z",
     "shell.execute_reply": "2024-06-30T20:56:23.304767Z"
    },
    "papermill": {
     "duration": 0.01633,
     "end_time": "2024-06-30T20:56:23.305913",
     "exception": false,
     "start_time": "2024-06-30T20:56:23.289583",
     "status": "completed"
    },
    "tags": []
   },
   "outputs": [
    {
     "data": {
      "text/plain": [
       "AnnData object with n_obs × n_vars = 817 × 20\n",
       "    obs: 'sampleID', 'disease', 'Level1'"
      ]
     },
     "execution_count": 7,
     "metadata": {},
     "output_type": "execute_result"
    }
   ],
   "source": [
    "adataPBsample = adata.uns['sampleID'].copy()\n",
    "adataPBsample.obs['sampleID'] = adataPBsample.obs.index\n",
    "adataPBsample = adataPBsample[adataPBsample.obs['sampleID'].isin(adataPBcell.obs['sampleID'])]\n",
    "\n",
    "adataPBsample.obs = adataPBsample.obs.merge(adataPBcell.obs.groupby('sampleID').agg({'disease':'first'}), left_index=True, right_index=True)\n",
    "adataPBsample.obs['Level1'] = 'sample'\n",
    "adataPBsample"
   ]
  },
  {
   "cell_type": "markdown",
   "id": "2d4fe137-7d68-4e86-a85c-3c1a3d3c4c71",
   "metadata": {
    "papermill": {
     "duration": 0.004809,
     "end_time": "2024-06-30T20:56:23.315725",
     "exception": false,
     "start_time": "2024-06-30T20:56:23.310916",
     "status": "completed"
    },
    "tags": []
   },
   "source": [
    "**Merging cell and patient latent features**"
   ]
  },
  {
   "cell_type": "code",
   "execution_count": 8,
   "id": "a326d2b1",
   "metadata": {
    "execution": {
     "iopub.execute_input": "2024-06-30T20:56:23.326077Z",
     "iopub.status.busy": "2024-06-30T20:56:23.325941Z",
     "iopub.status.idle": "2024-06-30T20:56:23.328343Z",
     "shell.execute_reply": "2024-06-30T20:56:23.327976Z"
    },
    "papermill": {
     "duration": 0.008435,
     "end_time": "2024-06-30T20:56:23.329100",
     "exception": false,
     "start_time": "2024-06-30T20:56:23.320665",
     "status": "completed"
    },
    "tags": []
   },
   "outputs": [],
   "source": [
    "PBcellDF = adataPBcell.to_df()\n",
    "PBcellDF['sampleID'] = adataPBcell.obs['sampleID']"
   ]
  },
  {
   "cell_type": "code",
   "execution_count": 9,
   "id": "1a597f46-d9c5-403b-b81e-5738ca206682",
   "metadata": {
    "execution": {
     "iopub.execute_input": "2024-06-30T20:56:23.339898Z",
     "iopub.status.busy": "2024-06-30T20:56:23.339551Z",
     "iopub.status.idle": "2024-06-30T20:56:23.341925Z",
     "shell.execute_reply": "2024-06-30T20:56:23.341570Z"
    },
    "papermill": {
     "duration": 0.008641,
     "end_time": "2024-06-30T20:56:23.342685",
     "exception": false,
     "start_time": "2024-06-30T20:56:23.334044",
     "status": "completed"
    },
    "tags": []
   },
   "outputs": [],
   "source": [
    "PBsampleDF = adataPBsample.to_df()\n",
    "PBsampleDF['sampleID'] = adataPBsample.obs['sampleID']"
   ]
  },
  {
   "cell_type": "code",
   "execution_count": 10,
   "id": "bb384751-fe1b-4635-a90d-fd98ae61b173",
   "metadata": {
    "execution": {
     "iopub.execute_input": "2024-06-30T20:56:23.353610Z",
     "iopub.status.busy": "2024-06-30T20:56:23.353477Z",
     "iopub.status.idle": "2024-06-30T20:56:23.359541Z",
     "shell.execute_reply": "2024-06-30T20:56:23.359159Z"
    },
    "papermill": {
     "duration": 0.012609,
     "end_time": "2024-06-30T20:56:23.360348",
     "exception": false,
     "start_time": "2024-06-30T20:56:23.347739",
     "status": "completed"
    },
    "tags": []
   },
   "outputs": [],
   "source": [
    "PBcell_sampleDF = PBcellDF.merge(PBsampleDF, on='sampleID', how='left')"
   ]
  },
  {
   "cell_type": "code",
   "execution_count": 11,
   "id": "f7250713-e24d-4614-9cbd-eed702340640",
   "metadata": {
    "execution": {
     "iopub.execute_input": "2024-06-30T20:56:23.379184Z",
     "iopub.status.busy": "2024-06-30T20:56:23.378932Z",
     "iopub.status.idle": "2024-06-30T20:56:23.381391Z",
     "shell.execute_reply": "2024-06-30T20:56:23.381024Z"
    },
    "papermill": {
     "duration": 0.008644,
     "end_time": "2024-06-30T20:56:23.382144",
     "exception": false,
     "start_time": "2024-06-30T20:56:23.373500",
     "status": "completed"
    },
    "tags": []
   },
   "outputs": [],
   "source": [
    "assert(adataPBcell.obs['sampleID'].tolist() == PBcell_sampleDF['sampleID'].tolist())"
   ]
  },
  {
   "cell_type": "code",
   "execution_count": 12,
   "id": "abea2252-6a12-4b89-9f0d-6d6df90064fb",
   "metadata": {
    "execution": {
     "iopub.execute_input": "2024-06-30T20:56:23.393249Z",
     "iopub.status.busy": "2024-06-30T20:56:23.392856Z",
     "iopub.status.idle": "2024-06-30T20:56:23.395523Z",
     "shell.execute_reply": "2024-06-30T20:56:23.395162Z"
    },
    "papermill": {
     "duration": 0.009229,
     "end_time": "2024-06-30T20:56:23.396290",
     "exception": false,
     "start_time": "2024-06-30T20:56:23.387061",
     "status": "completed"
    },
    "tags": []
   },
   "outputs": [],
   "source": [
    "PBcell_sampleDF.drop('sampleID', axis=1, inplace=True)"
   ]
  },
  {
   "cell_type": "code",
   "execution_count": 13,
   "id": "5502e45d-5c72-4440-a8c1-5b299cac6e2d",
   "metadata": {
    "execution": {
     "iopub.execute_input": "2024-06-30T20:56:23.407932Z",
     "iopub.status.busy": "2024-06-30T20:56:23.407585Z",
     "iopub.status.idle": "2024-06-30T20:56:23.411271Z",
     "shell.execute_reply": "2024-06-30T20:56:23.410925Z"
    },
    "papermill": {
     "duration": 0.010513,
     "end_time": "2024-06-30T20:56:23.412036",
     "exception": false,
     "start_time": "2024-06-30T20:56:23.401523",
     "status": "completed"
    },
    "tags": []
   },
   "outputs": [
    {
     "data": {
      "text/plain": [
       "AnnData object with n_obs × n_vars = 11372 × 50\n",
       "    obs: 'sampleID', 'Level1', 'disease', 'n_observation'"
      ]
     },
     "execution_count": 13,
     "metadata": {},
     "output_type": "execute_result"
    }
   ],
   "source": [
    "adataPBcell_sample = sc.AnnData(X = PBcell_sampleDF, obs = adataPBcell.obs)\n",
    "adataPBcell_sample"
   ]
  },
  {
   "cell_type": "markdown",
   "id": "d59574be-684b-4082-b8b6-7d11930362ad",
   "metadata": {
    "papermill": {
     "duration": 0.005396,
     "end_time": "2024-06-30T20:56:23.422407",
     "exception": false,
     "start_time": "2024-06-30T20:56:23.417011",
     "status": "completed"
    },
    "tags": []
   },
   "source": [
    "### Saving pseudobulk adata objects"
   ]
  },
  {
   "cell_type": "code",
   "execution_count": 14,
   "id": "5947e6f8-ac27-4702-ba5d-aa9e1ba79f6a",
   "metadata": {
    "execution": {
     "iopub.execute_input": "2024-06-30T20:56:23.433400Z",
     "iopub.status.busy": "2024-06-30T20:56:23.433055Z",
     "iopub.status.idle": "2024-06-30T20:56:23.518166Z",
     "shell.execute_reply": "2024-06-30T20:56:23.517725Z"
    },
    "papermill": {
     "duration": 0.091399,
     "end_time": "2024-06-30T20:56:23.518964",
     "exception": false,
     "start_time": "2024-06-30T20:56:23.427565",
     "status": "completed"
    },
    "tags": []
   },
   "outputs": [],
   "source": [
    "adataPBcell.write(here(adataPATHlist[0].replace('/scPoli_','/PSEUDOBULKs/scPoli_PSEUDOBULKcell_')), compression='gzip')"
   ]
  },
  {
   "cell_type": "code",
   "execution_count": 15,
   "id": "e9485945-bccf-419a-9420-c1e4f3aa262d",
   "metadata": {
    "execution": {
     "iopub.execute_input": "2024-06-30T20:56:23.531558Z",
     "iopub.status.busy": "2024-06-30T20:56:23.531280Z",
     "iopub.status.idle": "2024-06-30T20:56:23.553670Z",
     "shell.execute_reply": "2024-06-30T20:56:23.553304Z"
    },
    "papermill": {
     "duration": 0.029315,
     "end_time": "2024-06-30T20:56:23.554910",
     "exception": false,
     "start_time": "2024-06-30T20:56:23.525595",
     "status": "completed"
    },
    "tags": []
   },
   "outputs": [],
   "source": [
    "adataPBsample.write(here(adataPATHlist[0].replace('/scPoli_','/PSEUDOBULKs/scPoli_PSEUDOBULKsample_')), compression='gzip')"
   ]
  },
  {
   "cell_type": "code",
   "execution_count": 16,
   "id": "9c2daa40-3279-4b24-8aad-65ee0ba758c8",
   "metadata": {
    "execution": {
     "iopub.execute_input": "2024-06-30T20:56:23.565938Z",
     "iopub.status.busy": "2024-06-30T20:56:23.565588Z",
     "iopub.status.idle": "2024-06-30T20:56:23.662019Z",
     "shell.execute_reply": "2024-06-30T20:56:23.661568Z"
    },
    "papermill": {
     "duration": 0.10317,
     "end_time": "2024-06-30T20:56:23.663120",
     "exception": false,
     "start_time": "2024-06-30T20:56:23.559950",
     "status": "completed"
    },
    "tags": []
   },
   "outputs": [],
   "source": [
    "adataPBcell_sample.write(here(adataPATHlist[0].replace('/scPoli_','/PSEUDOBULKs/scPoli_PSEUDOBULKcellSample_')), compression='gzip')"
   ]
  },
  {
   "cell_type": "code",
   "execution_count": null,
   "id": "8a70d9f6-7a44-45ee-8470-702bd7af1e0b",
   "metadata": {
    "papermill": {
     "duration": 0.005353,
     "end_time": "2024-06-30T20:56:23.673933",
     "exception": false,
     "start_time": "2024-06-30T20:56:23.668580",
     "status": "completed"
    },
    "tags": []
   },
   "outputs": [],
   "source": []
  }
 ],
 "metadata": {
  "kernelspec": {
   "display_name": "Python 3 (ipykernel)",
   "language": "python",
   "name": "python3"
  },
  "language_info": {
   "codemirror_mode": {
    "name": "ipython",
    "version": 3
   },
   "file_extension": ".py",
   "mimetype": "text/x-python",
   "name": "python",
   "nbconvert_exporter": "python",
   "pygments_lexer": "ipython3",
   "version": "3.12.3"
  },
  "papermill": {
   "default_parameters": {},
   "duration": 13.482433,
   "end_time": "2024-06-30T20:56:24.294071",
   "environment_variables": {},
   "exception": null,
   "input_path": "03_generating_PSEUDOBULKs.ipynb",
   "output_path": "executed_notebooks/03_generating_PSEUDOBULKs_ref_latents_VALIDATION_30nEmb_20nPEmb.ipynb",
   "parameters": {
    "adataPATH": "03_downstream_analysis/08_PatientClassifier/scPoli/results/scPoli_ref_latents_VALIDATION_2_30_20_*.h5ad"
   },
   "start_time": "2024-06-30T20:56:10.811638",
   "version": "2.6.0"
  }
 },
 "nbformat": 4,
 "nbformat_minor": 5
}