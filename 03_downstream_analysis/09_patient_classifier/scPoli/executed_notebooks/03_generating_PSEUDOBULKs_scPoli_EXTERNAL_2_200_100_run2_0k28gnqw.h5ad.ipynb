{
 "cells": [
  {
   "cell_type": "code",
   "execution_count": 1,
   "id": "6003ba1d",
   "metadata": {
    "execution": {
     "iopub.execute_input": "2024-06-30T21:00:21.205912Z",
     "iopub.status.busy": "2024-06-30T21:00:21.205549Z",
     "iopub.status.idle": "2024-06-30T21:00:21.208098Z",
     "shell.execute_reply": "2024-06-30T21:00:21.207737Z"
    },
    "papermill": {
     "duration": 0.009355,
     "end_time": "2024-06-30T21:00:21.208921",
     "exception": false,
     "start_time": "2024-06-30T21:00:21.199566",
     "status": "completed"
    },
    "tags": [
     "injected-parameters"
    ]
   },
   "outputs": [],
   "source": [
    "# Parameters\n",
    "adataPATH = \"03_downstream_analysis/08_PatientClassifier/scPoli/results/scPoli_EXTERNAL_2_200_100_run2_0k28gnqw.h5ad\"\n"
   ]
  },
  {
   "cell_type": "raw",
   "id": "bf9880bd-3aef-477b-807d-37e3c5603037",
   "metadata": {
    "execution": {
     "iopub.execute_input": "2024-06-29T08:23:25.403219Z",
     "iopub.status.busy": "2024-06-29T08:23:25.402857Z",
     "iopub.status.idle": "2024-06-29T08:23:25.406428Z",
     "shell.execute_reply": "2024-06-29T08:23:25.406014Z",
     "shell.execute_reply.started": "2024-06-29T08:23:25.403185Z"
    },
    "papermill": {
     "duration": 0.004816,
     "end_time": "2024-06-30T21:00:21.218786",
     "exception": false,
     "start_time": "2024-06-30T21:00:21.213970",
     "status": "completed"
    },
    "tags": [],
    "vscode": {
     "languageId": "raw"
    }
   },
   "source": [
    "adataMAINpath = '03_downstream_analysis/08_PatientClassifier/scPoli/results/scPoli_2_100_20_*.h5ad'\n",
    "\n",
    "adataVALpath = '03_downstream_analysis/08_PatientClassifier/scPoli/results/scPoli_VALIDATION_2_20_20*.h5ad'\n",
    "adataEXCpath = '03_downstream_analysis/08_PatientClassifier/scPoli/results/scPoli_EXCLUDED_2_100_20_run1_pd5nyb4g.h5ad'\n",
    "adataEXTpath = '03_downstream_analysis/08_PatientClassifier/scPoli/results/scPoli_EXTERNAL_2_100_20_run1_pd5nyb4g.h5ad'\n",
    "\n",
    "adataPATH = adataVALpath"
   ]
  },
  {
   "cell_type": "code",
   "execution_count": 2,
   "id": "d3ccb10a-7201-43d0-a593-2b4650ff3451",
   "metadata": {
    "execution": {
     "iopub.execute_input": "2024-06-30T21:00:21.229397Z",
     "iopub.status.busy": "2024-06-30T21:00:21.229024Z",
     "iopub.status.idle": "2024-06-30T21:00:21.232003Z",
     "shell.execute_reply": "2024-06-30T21:00:21.231627Z"
    },
    "papermill": {
     "duration": 0.009018,
     "end_time": "2024-06-30T21:00:21.232782",
     "exception": false,
     "start_time": "2024-06-30T21:00:21.223764",
     "status": "completed"
    },
    "tags": []
   },
   "outputs": [
    {
     "name": "stdout",
     "output_type": "stream",
     "text": [
      "adataPATH = 03_downstream_analysis/08_PatientClassifier/scPoli/results/scPoli_EXTERNAL_2_200_100_run2_0k28gnqw.h5ad\n"
     ]
    }
   ],
   "source": [
    "for v in ['adataPATH']:\n",
    "    if v in locals() or v in globals():\n",
    "        print(f\"{v} = {eval(v)}\")\n",
    "    else:\n",
    "        raise Exception(f\"{v} not specified\")"
   ]
  },
  {
   "cell_type": "code",
   "execution_count": 3,
   "id": "888fb5f4-9ab7-4196-a282-7a7e92a43971",
   "metadata": {
    "execution": {
     "iopub.execute_input": "2024-06-30T21:00:21.243434Z",
     "iopub.status.busy": "2024-06-30T21:00:21.243303Z",
     "iopub.status.idle": "2024-06-30T21:00:23.056586Z",
     "shell.execute_reply": "2024-06-30T21:00:23.056096Z"
    },
    "papermill": {
     "duration": 1.820003,
     "end_time": "2024-06-30T21:00:23.057757",
     "exception": false,
     "start_time": "2024-06-30T21:00:21.237754",
     "status": "completed"
    },
    "tags": []
   },
   "outputs": [],
   "source": [
    "import os\n",
    "import sys\n",
    "from glob import glob\n",
    "\n",
    "import scanpy as sc\n",
    "import pandas as pd\n",
    "\n",
    "from pyprojroot import here\n",
    "\n",
    "sys.path.insert(1, str(here('bin')))\n",
    "# Import custom functions\n",
    "from customPythonFunctions import aggregating_features"
   ]
  },
  {
   "cell_type": "markdown",
   "id": "ba4905ae-4546-4ef4-b57b-950441ab079d",
   "metadata": {
    "papermill": {
     "duration": 0.004738,
     "end_time": "2024-06-30T21:00:23.068170",
     "exception": false,
     "start_time": "2024-06-30T21:00:23.063432",
     "status": "completed"
    },
    "tags": []
   },
   "source": [
    "### Loading data"
   ]
  },
  {
   "cell_type": "code",
   "execution_count": 4,
   "id": "539cbbbb-3503-4f51-bf04-f007f928ebd1",
   "metadata": {
    "execution": {
     "iopub.execute_input": "2024-06-30T21:00:23.079096Z",
     "iopub.status.busy": "2024-06-30T21:00:23.078611Z",
     "iopub.status.idle": "2024-06-30T21:00:23.082335Z",
     "shell.execute_reply": "2024-06-30T21:00:23.081966Z"
    },
    "papermill": {
     "duration": 0.009872,
     "end_time": "2024-06-30T21:00:23.083105",
     "exception": false,
     "start_time": "2024-06-30T21:00:23.073233",
     "status": "completed"
    },
    "tags": []
   },
   "outputs": [],
   "source": [
    "adataPATHlist = glob(str(here(adataPATH)))\n",
    "assert(len(adataPATHlist) == 1)"
   ]
  },
  {
   "cell_type": "code",
   "execution_count": 5,
   "id": "0fcfce0a-896b-4dc0-8e5e-46749205c84f",
   "metadata": {
    "execution": {
     "iopub.execute_input": "2024-06-30T21:00:23.093599Z",
     "iopub.status.busy": "2024-06-30T21:00:23.093374Z",
     "iopub.status.idle": "2024-06-30T21:00:26.112852Z",
     "shell.execute_reply": "2024-06-30T21:00:26.112412Z"
    },
    "papermill": {
     "duration": 3.025703,
     "end_time": "2024-06-30T21:00:26.113716",
     "exception": false,
     "start_time": "2024-06-30T21:00:23.088013",
     "status": "completed"
    },
    "tags": []
   },
   "outputs": [
    {
     "data": {
      "text/plain": [
       "AnnData object with n_obs × n_vars = 572872 × 200\n",
       "    obs: 'studyID', 'libraryID', 'sampleID', 'chemistry', 'technology', 'disease', 'sex', 'binned_age', 'Level1', 'Level2', 'conditions_combined', 'Level1_unc', 'Level2_unc'\n",
       "    uns: 'chemistry', 'sampleID'"
      ]
     },
     "execution_count": 5,
     "metadata": {},
     "output_type": "execute_result"
    }
   ],
   "source": [
    "adata = sc.read_h5ad(adataPATHlist[0])\n",
    "adata"
   ]
  },
  {
   "cell_type": "markdown",
   "id": "44e868b3-0771-4225-bd79-a4b179bc672b",
   "metadata": {
    "papermill": {
     "duration": 0.005309,
     "end_time": "2024-06-30T21:00:26.126929",
     "exception": false,
     "start_time": "2024-06-30T21:00:26.121620",
     "status": "completed"
    },
    "tags": []
   },
   "source": [
    "#### Generating PSEUDOBULKs"
   ]
  },
  {
   "cell_type": "markdown",
   "id": "97d09fc5-d05c-471e-87fa-fe58ccbe47ac",
   "metadata": {
    "papermill": {
     "duration": 0.005011,
     "end_time": "2024-06-30T21:00:26.138954",
     "exception": false,
     "start_time": "2024-06-30T21:00:26.133943",
     "status": "completed"
    },
    "tags": []
   },
   "source": [
    "**Aggregating cell latent features**"
   ]
  },
  {
   "cell_type": "code",
   "execution_count": 6,
   "id": "81223976-fcf6-4354-8964-b12d76468636",
   "metadata": {
    "execution": {
     "iopub.execute_input": "2024-06-30T21:00:26.153405Z",
     "iopub.status.busy": "2024-06-30T21:00:26.153257Z",
     "iopub.status.idle": "2024-06-30T21:00:26.617542Z",
     "shell.execute_reply": "2024-06-30T21:00:26.616906Z"
    },
    "papermill": {
     "duration": 0.470938,
     "end_time": "2024-06-30T21:00:26.618460",
     "exception": false,
     "start_time": "2024-06-30T21:00:26.147522",
     "status": "completed"
    },
    "tags": []
   },
   "outputs": [
    {
     "data": {
      "text/plain": [
       "AnnData object with n_obs × n_vars = 1266 × 200\n",
       "    obs: 'sampleID', 'Level1', 'disease', 'n_observation'"
      ]
     },
     "execution_count": 6,
     "metadata": {},
     "output_type": "execute_result"
    }
   ],
   "source": [
    "adataPBcell = aggregating_features(Z = adata.X, \n",
    "                             obsDF = adata.obs[['sampleID','Level1','disease']], \n",
    "                             mode = 'mean', \n",
    "                             obs_names_col=['sampleID','Level1'], \n",
    "                             min_observation=0)\n",
    "adataPBcell"
   ]
  },
  {
   "cell_type": "code",
   "execution_count": null,
   "id": "8495038e-aebd-4003-bd94-c1e49f47249e",
   "metadata": {
    "papermill": {
     "duration": 0.014522,
     "end_time": "2024-06-30T21:00:26.639408",
     "exception": false,
     "start_time": "2024-06-30T21:00:26.624886",
     "status": "completed"
    },
    "tags": []
   },
   "outputs": [],
   "source": []
  },
  {
   "cell_type": "markdown",
   "id": "6d602bad-4793-4aa4-b3d7-d118d413a0fc",
   "metadata": {
    "papermill": {
     "duration": 0.005171,
     "end_time": "2024-06-30T21:00:26.650410",
     "exception": false,
     "start_time": "2024-06-30T21:00:26.645239",
     "status": "completed"
    },
    "tags": []
   },
   "source": [
    "**Extracting sample embedding**"
   ]
  },
  {
   "cell_type": "code",
   "execution_count": 7,
   "id": "e2c14f02",
   "metadata": {
    "execution": {
     "iopub.execute_input": "2024-06-30T21:00:26.661925Z",
     "iopub.status.busy": "2024-06-30T21:00:26.661629Z",
     "iopub.status.idle": "2024-06-30T21:00:26.669695Z",
     "shell.execute_reply": "2024-06-30T21:00:26.669331Z"
    },
    "papermill": {
     "duration": 0.014878,
     "end_time": "2024-06-30T21:00:26.670522",
     "exception": false,
     "start_time": "2024-06-30T21:00:26.655644",
     "status": "completed"
    },
    "tags": []
   },
   "outputs": [
    {
     "data": {
      "text/plain": [
       "AnnData object with n_obs × n_vars = 86 × 100\n",
       "    obs: 'sampleID', 'disease', 'Level1'"
      ]
     },
     "execution_count": 7,
     "metadata": {},
     "output_type": "execute_result"
    }
   ],
   "source": [
    "adataPBsample = adata.uns['sampleID'].copy()\n",
    "adataPBsample.obs['sampleID'] = adataPBsample.obs.index\n",
    "adataPBsample = adataPBsample[adataPBsample.obs['sampleID'].isin(adataPBcell.obs['sampleID'])]\n",
    "\n",
    "adataPBsample.obs = adataPBsample.obs.merge(adataPBcell.obs.groupby('sampleID').agg({'disease':'first'}), left_index=True, right_index=True)\n",
    "adataPBsample.obs['Level1'] = 'sample'\n",
    "adataPBsample"
   ]
  },
  {
   "cell_type": "markdown",
   "id": "2d4fe137-7d68-4e86-a85c-3c1a3d3c4c71",
   "metadata": {
    "papermill": {
     "duration": 0.005259,
     "end_time": "2024-06-30T21:00:26.680877",
     "exception": false,
     "start_time": "2024-06-30T21:00:26.675618",
     "status": "completed"
    },
    "tags": []
   },
   "source": [
    "**Merging cell and patient latent features**"
   ]
  },
  {
   "cell_type": "code",
   "execution_count": 8,
   "id": "a326d2b1",
   "metadata": {
    "execution": {
     "iopub.execute_input": "2024-06-30T21:00:26.702862Z",
     "iopub.status.busy": "2024-06-30T21:00:26.702580Z",
     "iopub.status.idle": "2024-06-30T21:00:26.704981Z",
     "shell.execute_reply": "2024-06-30T21:00:26.704624Z"
    },
    "papermill": {
     "duration": 0.008942,
     "end_time": "2024-06-30T21:00:26.705767",
     "exception": false,
     "start_time": "2024-06-30T21:00:26.696825",
     "status": "completed"
    },
    "tags": []
   },
   "outputs": [],
   "source": [
    "PBcellDF = adataPBcell.to_df()\n",
    "PBcellDF['sampleID'] = adataPBcell.obs['sampleID']"
   ]
  },
  {
   "cell_type": "code",
   "execution_count": 9,
   "id": "1a597f46-d9c5-403b-b81e-5738ca206682",
   "metadata": {
    "execution": {
     "iopub.execute_input": "2024-06-30T21:00:26.717990Z",
     "iopub.status.busy": "2024-06-30T21:00:26.717609Z",
     "iopub.status.idle": "2024-06-30T21:00:26.720020Z",
     "shell.execute_reply": "2024-06-30T21:00:26.719660Z"
    },
    "papermill": {
     "duration": 0.0093,
     "end_time": "2024-06-30T21:00:26.720808",
     "exception": false,
     "start_time": "2024-06-30T21:00:26.711508",
     "status": "completed"
    },
    "tags": []
   },
   "outputs": [],
   "source": [
    "PBsampleDF = adataPBsample.to_df()\n",
    "PBsampleDF['sampleID'] = adataPBsample.obs['sampleID']"
   ]
  },
  {
   "cell_type": "code",
   "execution_count": 10,
   "id": "bb384751-fe1b-4635-a90d-fd98ae61b173",
   "metadata": {
    "execution": {
     "iopub.execute_input": "2024-06-30T21:00:26.732606Z",
     "iopub.status.busy": "2024-06-30T21:00:26.732161Z",
     "iopub.status.idle": "2024-06-30T21:00:26.737047Z",
     "shell.execute_reply": "2024-06-30T21:00:26.736662Z"
    },
    "papermill": {
     "duration": 0.01159,
     "end_time": "2024-06-30T21:00:26.737824",
     "exception": false,
     "start_time": "2024-06-30T21:00:26.726234",
     "status": "completed"
    },
    "tags": []
   },
   "outputs": [],
   "source": [
    "PBcell_sampleDF = PBcellDF.merge(PBsampleDF, on='sampleID', how='left')"
   ]
  },
  {
   "cell_type": "code",
   "execution_count": 11,
   "id": "f7250713-e24d-4614-9cbd-eed702340640",
   "metadata": {
    "execution": {
     "iopub.execute_input": "2024-06-30T21:00:26.760089Z",
     "iopub.status.busy": "2024-06-30T21:00:26.759707Z",
     "iopub.status.idle": "2024-06-30T21:00:26.762380Z",
     "shell.execute_reply": "2024-06-30T21:00:26.762025Z"
    },
    "papermill": {
     "duration": 0.009641,
     "end_time": "2024-06-30T21:00:26.763150",
     "exception": false,
     "start_time": "2024-06-30T21:00:26.753509",
     "status": "completed"
    },
    "tags": []
   },
   "outputs": [],
   "source": [
    "assert(adataPBcell.obs['sampleID'].tolist() == PBcell_sampleDF['sampleID'].tolist())"
   ]
  },
  {
   "cell_type": "code",
   "execution_count": 12,
   "id": "abea2252-6a12-4b89-9f0d-6d6df90064fb",
   "metadata": {
    "execution": {
     "iopub.execute_input": "2024-06-30T21:00:26.775051Z",
     "iopub.status.busy": "2024-06-30T21:00:26.774703Z",
     "iopub.status.idle": "2024-06-30T21:00:26.777236Z",
     "shell.execute_reply": "2024-06-30T21:00:26.776869Z"
    },
    "papermill": {
     "duration": 0.009166,
     "end_time": "2024-06-30T21:00:26.777994",
     "exception": false,
     "start_time": "2024-06-30T21:00:26.768828",
     "status": "completed"
    },
    "tags": []
   },
   "outputs": [],
   "source": [
    "PBcell_sampleDF.drop('sampleID', axis=1, inplace=True)"
   ]
  },
  {
   "cell_type": "code",
   "execution_count": 13,
   "id": "5502e45d-5c72-4440-a8c1-5b299cac6e2d",
   "metadata": {
    "execution": {
     "iopub.execute_input": "2024-06-30T21:00:26.789648Z",
     "iopub.status.busy": "2024-06-30T21:00:26.789352Z",
     "iopub.status.idle": "2024-06-30T21:00:26.792969Z",
     "shell.execute_reply": "2024-06-30T21:00:26.792623Z"
    },
    "papermill": {
     "duration": 0.010362,
     "end_time": "2024-06-30T21:00:26.793734",
     "exception": false,
     "start_time": "2024-06-30T21:00:26.783372",
     "status": "completed"
    },
    "tags": []
   },
   "outputs": [
    {
     "data": {
      "text/plain": [
       "AnnData object with n_obs × n_vars = 1266 × 300\n",
       "    obs: 'sampleID', 'Level1', 'disease', 'n_observation'"
      ]
     },
     "execution_count": 13,
     "metadata": {},
     "output_type": "execute_result"
    }
   ],
   "source": [
    "adataPBcell_sample = sc.AnnData(X = PBcell_sampleDF, obs = adataPBcell.obs)\n",
    "adataPBcell_sample"
   ]
  },
  {
   "cell_type": "markdown",
   "id": "d59574be-684b-4082-b8b6-7d11930362ad",
   "metadata": {
    "papermill": {
     "duration": 0.005578,
     "end_time": "2024-06-30T21:00:26.814564",
     "exception": false,
     "start_time": "2024-06-30T21:00:26.808986",
     "status": "completed"
    },
    "tags": []
   },
   "source": [
    "### Saving pseudobulk adata objects"
   ]
  },
  {
   "cell_type": "code",
   "execution_count": 14,
   "id": "5947e6f8-ac27-4702-ba5d-aa9e1ba79f6a",
   "metadata": {
    "execution": {
     "iopub.execute_input": "2024-06-30T21:00:26.826168Z",
     "iopub.status.busy": "2024-06-30T21:00:26.825928Z",
     "iopub.status.idle": "2024-06-30T21:00:26.882606Z",
     "shell.execute_reply": "2024-06-30T21:00:26.882168Z"
    },
    "papermill": {
     "duration": 0.063559,
     "end_time": "2024-06-30T21:00:26.883572",
     "exception": false,
     "start_time": "2024-06-30T21:00:26.820013",
     "status": "completed"
    },
    "tags": []
   },
   "outputs": [],
   "source": [
    "adataPBcell.write(here(adataPATHlist[0].replace('/scPoli_','/PSEUDOBULKs/scPoli_PSEUDOBULKcell_')), compression='gzip')"
   ]
  },
  {
   "cell_type": "code",
   "execution_count": 15,
   "id": "e9485945-bccf-419a-9420-c1e4f3aa262d",
   "metadata": {
    "execution": {
     "iopub.execute_input": "2024-06-30T21:00:26.895921Z",
     "iopub.status.busy": "2024-06-30T21:00:26.895639Z",
     "iopub.status.idle": "2024-06-30T21:00:26.924796Z",
     "shell.execute_reply": "2024-06-30T21:00:26.924413Z"
    },
    "papermill": {
     "duration": 0.035882,
     "end_time": "2024-06-30T21:00:26.925637",
     "exception": false,
     "start_time": "2024-06-30T21:00:26.889755",
     "status": "completed"
    },
    "tags": []
   },
   "outputs": [],
   "source": [
    "adataPBsample.write(here(adataPATHlist[0].replace('/scPoli_','/PSEUDOBULKs/scPoli_PSEUDOBULKsample_')), compression='gzip')"
   ]
  },
  {
   "cell_type": "code",
   "execution_count": 16,
   "id": "9c2daa40-3279-4b24-8aad-65ee0ba758c8",
   "metadata": {
    "execution": {
     "iopub.execute_input": "2024-06-30T21:00:26.938338Z",
     "iopub.status.busy": "2024-06-30T21:00:26.937957Z",
     "iopub.status.idle": "2024-06-30T21:00:26.997688Z",
     "shell.execute_reply": "2024-06-30T21:00:26.997245Z"
    },
    "papermill": {
     "duration": 0.066988,
     "end_time": "2024-06-30T21:00:26.998729",
     "exception": false,
     "start_time": "2024-06-30T21:00:26.931741",
     "status": "completed"
    },
    "tags": []
   },
   "outputs": [],
   "source": [
    "adataPBcell_sample.write(here(adataPATHlist[0].replace('/scPoli_','/PSEUDOBULKs/scPoli_PSEUDOBULKcellSample_')), compression='gzip')"
   ]
  },
  {
   "cell_type": "code",
   "execution_count": null,
   "id": "8a70d9f6-7a44-45ee-8470-702bd7af1e0b",
   "metadata": {
    "papermill": {
     "duration": 0.005477,
     "end_time": "2024-06-30T21:00:27.010233",
     "exception": false,
     "start_time": "2024-06-30T21:00:27.004756",
     "status": "completed"
    },
    "tags": []
   },
   "outputs": [],
   "source": []
  }
 ],
 "metadata": {
  "kernelspec": {
   "display_name": "Python 3 (ipykernel)",
   "language": "python",
   "name": "python3"
  },
  "language_info": {
   "codemirror_mode": {
    "name": "ipython",
    "version": 3
   },
   "file_extension": ".py",
   "mimetype": "text/x-python",
   "name": "python",
   "nbconvert_exporter": "python",
   "pygments_lexer": "ipython3",
   "version": "3.12.3"
  },
  "papermill": {
   "default_parameters": {},
   "duration": 7.55688,
   "end_time": "2024-06-30T21:00:27.530957",
   "environment_variables": {},
   "exception": null,
   "input_path": "03_generating_PSEUDOBULKs.ipynb",
   "output_path": "executed_notebooks/03_generating_PSEUDOBULKs_scPoli_EXTERNAL_2_200_100_run2_0k28gnqw.h5ad.ipynb",
   "parameters": {
    "adataPATH": "03_downstream_analysis/08_PatientClassifier/scPoli/results/scPoli_EXTERNAL_2_200_100_run2_0k28gnqw.h5ad"
   },
   "start_time": "2024-06-30T21:00:19.974077",
   "version": "2.6.0"
  }
 },
 "nbformat": 4,
 "nbformat_minor": 5
}