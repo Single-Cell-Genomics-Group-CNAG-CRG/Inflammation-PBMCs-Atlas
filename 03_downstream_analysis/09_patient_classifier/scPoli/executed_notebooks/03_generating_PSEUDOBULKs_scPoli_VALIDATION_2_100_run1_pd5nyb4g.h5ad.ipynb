{
 "cells": [
  {
   "cell_type": "code",
   "execution_count": null,
   "id": "ec1520d1",
   "metadata": {
    "papermill": {
     "duration": null,
     "end_time": null,
     "exception": null,
     "start_time": null,
     "status": "completed"
    },
    "tags": [
     "injected-parameters"
    ]
   },
   "outputs": [],
   "source": [
    "# Parameters\n",
    "adataPATH = \"03_downstream_analysis/08_PatientClassifier/scPoli/results/scPoli_VALIDATION_2_100_run1_pd5nyb4g.h5ad\"\n"
   ]
  },
  {
   "cell_type": "raw",
   "id": "45ccaa27-b0ec-4740-9b7d-9409b7a94ac0",
   "metadata": {
    "papermill": {
     "duration": null,
     "end_time": null,
     "exception": null,
     "start_time": null,
     "status": "completed"
    },
    "tags": [],
    "vscode": {
     "languageId": "raw"
    }
   },
   "source": [
    "adataMAINpath = '03_downstream_analysis/08_PatientClassifier/scPoli/results/scPoli_2_100_20_*.h5ad'\n",
    "\n",
    "adataVALpath = '03_downstream_analysis/08_PatientClassifier/scPoli/results/scPoli_VALIDATION_2_200_100*.h5ad'\n",
    "adataEXCpath = '03_downstream_analysis/08_PatientClassifier/scPoli/results/scPoli_EXCLUDED_2_100_20_run1_pd5nyb4g.h5ad'\n",
    "adataEXTpath = '03_downstream_analysis/08_PatientClassifier/scPoli/results/scPoli_EXTERNAL_2_100_20_run1_pd5nyb4g.h5ad'\n",
    "\n",
    "adataPATH = adataVALpath"
   ]
  },
  {
   "cell_type": "code",
   "execution_count": null,
   "id": "d3ccb10a-7201-43d0-a593-2b4650ff3451",
   "metadata": {
    "papermill": {
     "duration": null,
     "end_time": null,
     "exception": null,
     "start_time": null,
     "status": "completed"
    },
    "tags": []
   },
   "outputs": [],
   "source": [
    "for v in ['adataPATH']:\n",
    "    if v in locals() or v in globals():\n",
    "        print(f\"{v} = {eval(v)}\")\n",
    "    else:\n",
    "        raise Exception(f\"{v} not specified\")"
   ]
  },
  {
   "cell_type": "code",
   "execution_count": null,
   "id": "888fb5f4-9ab7-4196-a282-7a7e92a43971",
   "metadata": {
    "papermill": {
     "duration": null,
     "end_time": null,
     "exception": null,
     "start_time": null,
     "status": "completed"
    },
    "tags": []
   },
   "outputs": [],
   "source": [
    "import os\n",
    "import sys\n",
    "from glob import glob\n",
    "\n",
    "import scanpy as sc\n",
    "import pandas as pd\n",
    "\n",
    "from pyprojroot import here\n",
    "\n",
    "sys.path.insert(1, str(here('bin')))\n",
    "# Import custom functions\n",
    "from customPythonFunctions import aggregating_features"
   ]
  },
  {
   "cell_type": "markdown",
   "id": "ba4905ae-4546-4ef4-b57b-950441ab079d",
   "metadata": {
    "papermill": {
     "duration": null,
     "end_time": null,
     "exception": null,
     "start_time": null,
     "status": "completed"
    },
    "tags": []
   },
   "source": [
    "### Loading data"
   ]
  },
  {
   "cell_type": "code",
   "execution_count": null,
   "id": "539cbbbb-3503-4f51-bf04-f007f928ebd1",
   "metadata": {
    "papermill": {
     "duration": null,
     "end_time": null,
     "exception": null,
     "start_time": null,
     "status": "completed"
    },
    "tags": []
   },
   "outputs": [],
   "source": [
    "adataPATHlist = glob(str(here(adataPATH)))\n",
    "assert(len(adataPATHlist) == 1)"
   ]
  },
  {
   "cell_type": "code",
   "execution_count": null,
   "id": "0fcfce0a-896b-4dc0-8e5e-46749205c84f",
   "metadata": {
    "papermill": {
     "duration": null,
     "end_time": null,
     "exception": null,
     "start_time": null,
     "status": "completed"
    },
    "tags": []
   },
   "outputs": [],
   "source": [
    "adata = sc.read_h5ad(adataPATHlist[0])\n",
    "adata"
   ]
  },
  {
   "cell_type": "markdown",
   "id": "44e868b3-0771-4225-bd79-a4b179bc672b",
   "metadata": {
    "papermill": {
     "duration": null,
     "end_time": null,
     "exception": null,
     "start_time": null,
     "status": "completed"
    },
    "tags": []
   },
   "source": [
    "#### Generating PSEUDOBULKs"
   ]
  },
  {
   "cell_type": "markdown",
   "id": "97d09fc5-d05c-471e-87fa-fe58ccbe47ac",
   "metadata": {
    "papermill": {
     "duration": null,
     "end_time": null,
     "exception": null,
     "start_time": null,
     "status": "completed"
    },
    "tags": []
   },
   "source": [
    "**Aggregating cell latent features**"
   ]
  },
  {
   "cell_type": "code",
   "execution_count": null,
   "id": "81223976-fcf6-4354-8964-b12d76468636",
   "metadata": {
    "papermill": {
     "duration": null,
     "end_time": null,
     "exception": null,
     "start_time": null,
     "status": "completed"
    },
    "tags": []
   },
   "outputs": [],
   "source": [
    "adataPBcell = aggregating_features(Z = adata.X, \n",
    "                             obsDF = adata.obs[['sampleID','Level1','disease']], \n",
    "                             mode = 'mean', \n",
    "                             obs_names_col=['sampleID','Level1'], \n",
    "                             min_observation=0)\n",
    "adataPBcell"
   ]
  },
  {
   "cell_type": "markdown",
   "id": "6d602bad-4793-4aa4-b3d7-d118d413a0fc",
   "metadata": {
    "papermill": {
     "duration": null,
     "end_time": null,
     "exception": null,
     "start_time": null,
     "status": "completed"
    },
    "tags": []
   },
   "source": [
    "**Extracting sample embedding**"
   ]
  },
  {
   "cell_type": "code",
   "execution_count": null,
   "id": "e2c14f02",
   "metadata": {
    "papermill": {
     "duration": null,
     "end_time": null,
     "exception": null,
     "start_time": null,
     "status": "completed"
    },
    "tags": []
   },
   "outputs": [],
   "source": [
    "adataPBsample = adata.uns['sampleID'].copy()\n",
    "adataPBsample.obs['sampleID'] = adataPBsample.obs.index\n",
    "adataPBsample = adataPBsample[adataPBsample.obs['sampleID'].isin(adataPBcell.obs['sampleID'])]\n",
    "\n",
    "adataPBsample.obs = adataPBsample.obs.merge(adataPBcell.obs.groupby('sampleID').agg({'disease':'first'}), left_index=True, right_index=True)\n",
    "adataPBsample.obs['Level1'] = 'sample'\n",
    "adataPBsample"
   ]
  },
  {
   "cell_type": "markdown",
   "id": "2d4fe137-7d68-4e86-a85c-3c1a3d3c4c71",
   "metadata": {
    "papermill": {
     "duration": null,
     "end_time": null,
     "exception": null,
     "start_time": null,
     "status": "completed"
    },
    "tags": []
   },
   "source": [
    "**Merging cell and patient latent features**"
   ]
  },
  {
   "cell_type": "code",
   "execution_count": null,
   "id": "a326d2b1",
   "metadata": {
    "papermill": {
     "duration": null,
     "end_time": null,
     "exception": null,
     "start_time": null,
     "status": "completed"
    },
    "tags": []
   },
   "outputs": [],
   "source": [
    "PBcellDF = adataPBcell.to_df()\n",
    "PBcellDF['sampleID'] = adataPBcell.obs['sampleID']"
   ]
  },
  {
   "cell_type": "code",
   "execution_count": null,
   "id": "1a597f46-d9c5-403b-b81e-5738ca206682",
   "metadata": {
    "papermill": {
     "duration": null,
     "end_time": null,
     "exception": null,
     "start_time": null,
     "status": "completed"
    },
    "tags": []
   },
   "outputs": [],
   "source": [
    "PBsampleDF = adataPBsample.to_df()\n",
    "PBsampleDF['sampleID'] = adataPBsample.obs['sampleID']"
   ]
  },
  {
   "cell_type": "code",
   "execution_count": null,
   "id": "bb384751-fe1b-4635-a90d-fd98ae61b173",
   "metadata": {
    "papermill": {
     "duration": null,
     "end_time": null,
     "exception": null,
     "start_time": null,
     "status": "completed"
    },
    "tags": []
   },
   "outputs": [],
   "source": [
    "PBcell_sampleDF = PBcellDF.merge(PBsampleDF, on='sampleID', how='left')"
   ]
  },
  {
   "cell_type": "code",
   "execution_count": null,
   "id": "f7250713-e24d-4614-9cbd-eed702340640",
   "metadata": {
    "papermill": {
     "duration": null,
     "end_time": null,
     "exception": null,
     "start_time": null,
     "status": "completed"
    },
    "tags": []
   },
   "outputs": [],
   "source": [
    "assert(adataPBcell.obs['sampleID'].tolist() == PBcell_sampleDF['sampleID'].tolist())"
   ]
  },
  {
   "cell_type": "code",
   "execution_count": null,
   "id": "abea2252-6a12-4b89-9f0d-6d6df90064fb",
   "metadata": {
    "papermill": {
     "duration": null,
     "end_time": null,
     "exception": null,
     "start_time": null,
     "status": "completed"
    },
    "tags": []
   },
   "outputs": [],
   "source": [
    "PBcell_sampleDF.drop('sampleID', axis=1, inplace=True)"
   ]
  },
  {
   "cell_type": "code",
   "execution_count": null,
   "id": "5502e45d-5c72-4440-a8c1-5b299cac6e2d",
   "metadata": {
    "papermill": {
     "duration": null,
     "end_time": null,
     "exception": null,
     "start_time": null,
     "status": "completed"
    },
    "tags": []
   },
   "outputs": [],
   "source": [
    "adataPBcell_sample = sc.AnnData(X = PBcell_sampleDF, obs = adataPBcell.obs)\n",
    "adataPBcell_sample"
   ]
  },
  {
   "cell_type": "markdown",
   "id": "d59574be-684b-4082-b8b6-7d11930362ad",
   "metadata": {
    "papermill": {
     "duration": null,
     "end_time": null,
     "exception": null,
     "start_time": null,
     "status": "completed"
    },
    "tags": []
   },
   "source": [
    "### Saving pseudobulk adata objects"
   ]
  },
  {
   "cell_type": "code",
   "execution_count": null,
   "id": "5947e6f8-ac27-4702-ba5d-aa9e1ba79f6a",
   "metadata": {
    "papermill": {
     "duration": null,
     "end_time": null,
     "exception": null,
     "start_time": null,
     "status": "completed"
    },
    "tags": []
   },
   "outputs": [],
   "source": [
    "adataPBcell.write(here(adataPATHlist[0].replace('/scPoli_','/PSEUDOBULKs/scPoli_PSEUDOBULKcell_')), compression='gzip')"
   ]
  },
  {
   "cell_type": "code",
   "execution_count": null,
   "id": "e9485945-bccf-419a-9420-c1e4f3aa262d",
   "metadata": {
    "papermill": {
     "duration": null,
     "end_time": null,
     "exception": null,
     "start_time": null,
     "status": "completed"
    },
    "tags": []
   },
   "outputs": [],
   "source": [
    "adataPBsample.write(here(adataPATHlist[0].replace('/scPoli_','/PSEUDOBULKs/scPoli_PSEUDOBULKsample_')), compression='gzip')"
   ]
  },
  {
   "cell_type": "code",
   "execution_count": null,
   "id": "9c2daa40-3279-4b24-8aad-65ee0ba758c8",
   "metadata": {
    "papermill": {
     "duration": null,
     "end_time": null,
     "exception": null,
     "start_time": null,
     "status": "completed"
    },
    "tags": []
   },
   "outputs": [],
   "source": [
    "adataPBcell_sample.write(here(adataPATHlist[0].replace('/scPoli_','/PSEUDOBULKs/scPoli_PSEUDOBULKcellSample_')), compression='gzip')"
   ]
  },
  {
   "cell_type": "code",
   "execution_count": null,
   "id": "8a70d9f6-7a44-45ee-8470-702bd7af1e0b",
   "metadata": {
    "papermill": {
     "duration": null,
     "end_time": null,
     "exception": null,
     "start_time": null,
     "status": "completed"
    },
    "tags": []
   },
   "outputs": [],
   "source": []
  }
 ],
 "metadata": {
  "kernelspec": {
   "display_name": "Python 3 (ipykernel)",
   "language": "python",
   "name": "python3"
  },
  "language_info": {
   "codemirror_mode": {
    "name": "ipython",
    "version": 3
   },
   "file_extension": ".py",
   "mimetype": "text/x-python",
   "name": "python",
   "nbconvert_exporter": "python",
   "pygments_lexer": "ipython3",
   "version": "3.10.13"
  },
  "papermill": {
   "default_parameters": {},
   "duration": 3.581202,
   "end_time": "2024-06-27T16:47:45.959582",
   "environment_variables": {},
   "exception": null,
   "input_path": "03_generating_PSEUDOBULKs.ipynb",
   "output_path": "executed_notebooks/03_generating_PSEUDOBULKs_scPoli_VALIDATION_2_100_run1_pd5nyb4g.h5ad.ipynb",
   "parameters": {
    "adataPATH": "03_downstream_analysis/08_PatientClassifier/scPoli/results/scPoli_VALIDATION_2_100_run1_pd5nyb4g.h5ad"
   },
   "start_time": "2024-06-27T16:47:42.378380",
   "version": "2.5.0"
  }
 },
 "nbformat": 4,
 "nbformat_minor": 5
}