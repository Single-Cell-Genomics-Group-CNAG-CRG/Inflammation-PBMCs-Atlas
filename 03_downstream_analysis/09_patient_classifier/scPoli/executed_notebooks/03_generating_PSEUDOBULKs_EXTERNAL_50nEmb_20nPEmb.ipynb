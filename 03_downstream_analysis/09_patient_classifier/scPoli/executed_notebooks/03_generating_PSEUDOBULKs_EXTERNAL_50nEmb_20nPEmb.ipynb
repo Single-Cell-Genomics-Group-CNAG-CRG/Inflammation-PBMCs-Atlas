{
 "cells": [
  {
   "cell_type": "code",
   "execution_count": 1,
   "id": "7506fe0a",
   "metadata": {
    "execution": {
     "iopub.execute_input": "2024-06-30T20:55:46.831301Z",
     "iopub.status.busy": "2024-06-30T20:55:46.831132Z",
     "iopub.status.idle": "2024-06-30T20:55:46.833666Z",
     "shell.execute_reply": "2024-06-30T20:55:46.833297Z"
    },
    "papermill": {
     "duration": 0.010528,
     "end_time": "2024-06-30T20:55:46.834489",
     "exception": false,
     "start_time": "2024-06-30T20:55:46.823961",
     "status": "completed"
    },
    "tags": [
     "injected-parameters"
    ]
   },
   "outputs": [],
   "source": [
    "# Parameters\n",
    "adataPATH = \"03_downstream_analysis/08_PatientClassifier/scPoli/results/scPoli_EXTERNAL_2_50_20_*.h5ad\"\n"
   ]
  },
  {
   "cell_type": "raw",
   "id": "bf9880bd-3aef-477b-807d-37e3c5603037",
   "metadata": {
    "execution": {
     "iopub.execute_input": "2024-06-29T08:23:25.403219Z",
     "iopub.status.busy": "2024-06-29T08:23:25.402857Z",
     "iopub.status.idle": "2024-06-29T08:23:25.406428Z",
     "shell.execute_reply": "2024-06-29T08:23:25.406014Z",
     "shell.execute_reply.started": "2024-06-29T08:23:25.403185Z"
    },
    "papermill": {
     "duration": 0.005035,
     "end_time": "2024-06-30T20:55:46.844695",
     "exception": false,
     "start_time": "2024-06-30T20:55:46.839660",
     "status": "completed"
    },
    "tags": [],
    "vscode": {
     "languageId": "raw"
    }
   },
   "source": [
    "adataMAINpath = '03_downstream_analysis/08_PatientClassifier/scPoli/results/scPoli_2_100_20_*.h5ad'\n",
    "\n",
    "adataVALpath = '03_downstream_analysis/08_PatientClassifier/scPoli/results/scPoli_VALIDATION_2_20_20*.h5ad'\n",
    "adataEXCpath = '03_downstream_analysis/08_PatientClassifier/scPoli/results/scPoli_EXCLUDED_2_100_20_run1_pd5nyb4g.h5ad'\n",
    "adataEXTpath = '03_downstream_analysis/08_PatientClassifier/scPoli/results/scPoli_EXTERNAL_2_100_20_run1_pd5nyb4g.h5ad'\n",
    "\n",
    "adataPATH = adataVALpath"
   ]
  },
  {
   "cell_type": "code",
   "execution_count": 2,
   "id": "d3ccb10a-7201-43d0-a593-2b4650ff3451",
   "metadata": {
    "execution": {
     "iopub.execute_input": "2024-06-30T20:55:46.855510Z",
     "iopub.status.busy": "2024-06-30T20:55:46.855135Z",
     "iopub.status.idle": "2024-06-30T20:55:46.858047Z",
     "shell.execute_reply": "2024-06-30T20:55:46.857684Z"
    },
    "papermill": {
     "duration": 0.00911,
     "end_time": "2024-06-30T20:55:46.858835",
     "exception": false,
     "start_time": "2024-06-30T20:55:46.849725",
     "status": "completed"
    },
    "tags": []
   },
   "outputs": [
    {
     "name": "stdout",
     "output_type": "stream",
     "text": [
      "adataPATH = 03_downstream_analysis/08_PatientClassifier/scPoli/results/scPoli_EXTERNAL_2_50_20_*.h5ad\n"
     ]
    }
   ],
   "source": [
    "for v in ['adataPATH']:\n",
    "    if v in locals() or v in globals():\n",
    "        print(f\"{v} = {eval(v)}\")\n",
    "    else:\n",
    "        raise Exception(f\"{v} not specified\")"
   ]
  },
  {
   "cell_type": "code",
   "execution_count": 3,
   "id": "888fb5f4-9ab7-4196-a282-7a7e92a43971",
   "metadata": {
    "execution": {
     "iopub.execute_input": "2024-06-30T20:55:46.870075Z",
     "iopub.status.busy": "2024-06-30T20:55:46.869731Z",
     "iopub.status.idle": "2024-06-30T20:55:48.296037Z",
     "shell.execute_reply": "2024-06-30T20:55:48.295555Z"
    },
    "papermill": {
     "duration": 1.432943,
     "end_time": "2024-06-30T20:55:48.296911",
     "exception": false,
     "start_time": "2024-06-30T20:55:46.863968",
     "status": "completed"
    },
    "tags": []
   },
   "outputs": [],
   "source": [
    "import os\n",
    "import sys\n",
    "from glob import glob\n",
    "\n",
    "import scanpy as sc\n",
    "import pandas as pd\n",
    "\n",
    "from pyprojroot import here\n",
    "\n",
    "sys.path.insert(1, str(here('bin')))\n",
    "# Import custom functions\n",
    "from customPythonFunctions import aggregating_features"
   ]
  },
  {
   "cell_type": "markdown",
   "id": "ba4905ae-4546-4ef4-b57b-950441ab079d",
   "metadata": {
    "papermill": {
     "duration": 0.005096,
     "end_time": "2024-06-30T20:55:48.319433",
     "exception": false,
     "start_time": "2024-06-30T20:55:48.314337",
     "status": "completed"
    },
    "tags": []
   },
   "source": [
    "### Loading data"
   ]
  },
  {
   "cell_type": "code",
   "execution_count": 4,
   "id": "539cbbbb-3503-4f51-bf04-f007f928ebd1",
   "metadata": {
    "execution": {
     "iopub.execute_input": "2024-06-30T20:55:48.330450Z",
     "iopub.status.busy": "2024-06-30T20:55:48.329924Z",
     "iopub.status.idle": "2024-06-30T20:55:48.333754Z",
     "shell.execute_reply": "2024-06-30T20:55:48.333396Z"
    },
    "papermill": {
     "duration": 0.00999,
     "end_time": "2024-06-30T20:55:48.334530",
     "exception": false,
     "start_time": "2024-06-30T20:55:48.324540",
     "status": "completed"
    },
    "tags": []
   },
   "outputs": [],
   "source": [
    "adataPATHlist = glob(str(here(adataPATH)))\n",
    "assert(len(adataPATHlist) == 1)"
   ]
  },
  {
   "cell_type": "code",
   "execution_count": 5,
   "id": "0fcfce0a-896b-4dc0-8e5e-46749205c84f",
   "metadata": {
    "execution": {
     "iopub.execute_input": "2024-06-30T20:55:48.345384Z",
     "iopub.status.busy": "2024-06-30T20:55:48.345104Z",
     "iopub.status.idle": "2024-06-30T20:55:49.542796Z",
     "shell.execute_reply": "2024-06-30T20:55:49.542365Z"
    },
    "papermill": {
     "duration": 1.20425,
     "end_time": "2024-06-30T20:55:49.543626",
     "exception": false,
     "start_time": "2024-06-30T20:55:48.339376",
     "status": "completed"
    },
    "tags": []
   },
   "outputs": [
    {
     "data": {
      "text/plain": [
       "AnnData object with n_obs × n_vars = 572872 × 50\n",
       "    obs: 'studyID', 'libraryID', 'sampleID', 'chemistry', 'technology', 'disease', 'sex', 'binned_age', 'Level1', 'Level2', 'conditions_combined', 'Level1_unc', 'Level2_unc'\n",
       "    uns: 'chemistry', 'sampleID'"
      ]
     },
     "execution_count": 5,
     "metadata": {},
     "output_type": "execute_result"
    }
   ],
   "source": [
    "adata = sc.read_h5ad(adataPATHlist[0])\n",
    "adata"
   ]
  },
  {
   "cell_type": "markdown",
   "id": "44e868b3-0771-4225-bd79-a4b179bc672b",
   "metadata": {
    "papermill": {
     "duration": 0.005213,
     "end_time": "2024-06-30T20:55:49.554741",
     "exception": false,
     "start_time": "2024-06-30T20:55:49.549528",
     "status": "completed"
    },
    "tags": []
   },
   "source": [
    "#### Generating PSEUDOBULKs"
   ]
  },
  {
   "cell_type": "markdown",
   "id": "97d09fc5-d05c-471e-87fa-fe58ccbe47ac",
   "metadata": {
    "papermill": {
     "duration": 0.005116,
     "end_time": "2024-06-30T20:55:49.564990",
     "exception": false,
     "start_time": "2024-06-30T20:55:49.559874",
     "status": "completed"
    },
    "tags": []
   },
   "source": [
    "**Aggregating cell latent features**"
   ]
  },
  {
   "cell_type": "code",
   "execution_count": 6,
   "id": "81223976-fcf6-4354-8964-b12d76468636",
   "metadata": {
    "execution": {
     "iopub.execute_input": "2024-06-30T20:55:49.576042Z",
     "iopub.status.busy": "2024-06-30T20:55:49.575740Z",
     "iopub.status.idle": "2024-06-30T20:55:49.852275Z",
     "shell.execute_reply": "2024-06-30T20:55:49.851832Z"
    },
    "papermill": {
     "duration": 0.283202,
     "end_time": "2024-06-30T20:55:49.853162",
     "exception": false,
     "start_time": "2024-06-30T20:55:49.569960",
     "status": "completed"
    },
    "tags": []
   },
   "outputs": [
    {
     "data": {
      "text/plain": [
       "AnnData object with n_obs × n_vars = 1269 × 50\n",
       "    obs: 'sampleID', 'Level1', 'disease', 'n_observation'"
      ]
     },
     "execution_count": 6,
     "metadata": {},
     "output_type": "execute_result"
    }
   ],
   "source": [
    "adataPBcell = aggregating_features(Z = adata.X, \n",
    "                             obsDF = adata.obs[['sampleID','Level1','disease']], \n",
    "                             mode = 'mean', \n",
    "                             obs_names_col=['sampleID','Level1'], \n",
    "                             min_observation=0)\n",
    "adataPBcell"
   ]
  },
  {
   "cell_type": "code",
   "execution_count": null,
   "id": "8495038e-aebd-4003-bd94-c1e49f47249e",
   "metadata": {
    "papermill": {
     "duration": 0.005587,
     "end_time": "2024-06-30T20:55:49.864963",
     "exception": false,
     "start_time": "2024-06-30T20:55:49.859376",
     "status": "completed"
    },
    "tags": []
   },
   "outputs": [],
   "source": []
  },
  {
   "cell_type": "markdown",
   "id": "6d602bad-4793-4aa4-b3d7-d118d413a0fc",
   "metadata": {
    "papermill": {
     "duration": 0.005314,
     "end_time": "2024-06-30T20:55:49.876180",
     "exception": false,
     "start_time": "2024-06-30T20:55:49.870866",
     "status": "completed"
    },
    "tags": []
   },
   "source": [
    "**Extracting sample embedding**"
   ]
  },
  {
   "cell_type": "code",
   "execution_count": 7,
   "id": "e2c14f02",
   "metadata": {
    "execution": {
     "iopub.execute_input": "2024-06-30T20:55:49.888159Z",
     "iopub.status.busy": "2024-06-30T20:55:49.888008Z",
     "iopub.status.idle": "2024-06-30T20:55:49.895916Z",
     "shell.execute_reply": "2024-06-30T20:55:49.895568Z"
    },
    "papermill": {
     "duration": 0.015234,
     "end_time": "2024-06-30T20:55:49.896708",
     "exception": false,
     "start_time": "2024-06-30T20:55:49.881474",
     "status": "completed"
    },
    "tags": []
   },
   "outputs": [
    {
     "data": {
      "text/plain": [
       "AnnData object with n_obs × n_vars = 86 × 20\n",
       "    obs: 'sampleID', 'disease', 'Level1'"
      ]
     },
     "execution_count": 7,
     "metadata": {},
     "output_type": "execute_result"
    }
   ],
   "source": [
    "adataPBsample = adata.uns['sampleID'].copy()\n",
    "adataPBsample.obs['sampleID'] = adataPBsample.obs.index\n",
    "adataPBsample = adataPBsample[adataPBsample.obs['sampleID'].isin(adataPBcell.obs['sampleID'])]\n",
    "\n",
    "adataPBsample.obs = adataPBsample.obs.merge(adataPBcell.obs.groupby('sampleID').agg({'disease':'first'}), left_index=True, right_index=True)\n",
    "adataPBsample.obs['Level1'] = 'sample'\n",
    "adataPBsample"
   ]
  },
  {
   "cell_type": "markdown",
   "id": "2d4fe137-7d68-4e86-a85c-3c1a3d3c4c71",
   "metadata": {
    "papermill": {
     "duration": 0.005166,
     "end_time": "2024-06-30T20:55:49.907420",
     "exception": false,
     "start_time": "2024-06-30T20:55:49.902254",
     "status": "completed"
    },
    "tags": []
   },
   "source": [
    "**Merging cell and patient latent features**"
   ]
  },
  {
   "cell_type": "code",
   "execution_count": 8,
   "id": "a326d2b1",
   "metadata": {
    "execution": {
     "iopub.execute_input": "2024-06-30T20:55:49.918731Z",
     "iopub.status.busy": "2024-06-30T20:55:49.918373Z",
     "iopub.status.idle": "2024-06-30T20:55:49.920731Z",
     "shell.execute_reply": "2024-06-30T20:55:49.920381Z"
    },
    "papermill": {
     "duration": 0.008824,
     "end_time": "2024-06-30T20:55:49.921529",
     "exception": false,
     "start_time": "2024-06-30T20:55:49.912705",
     "status": "completed"
    },
    "tags": []
   },
   "outputs": [],
   "source": [
    "PBcellDF = adataPBcell.to_df()\n",
    "PBcellDF['sampleID'] = adataPBcell.obs['sampleID']"
   ]
  },
  {
   "cell_type": "code",
   "execution_count": 9,
   "id": "1a597f46-d9c5-403b-b81e-5738ca206682",
   "metadata": {
    "execution": {
     "iopub.execute_input": "2024-06-30T20:55:49.933239Z",
     "iopub.status.busy": "2024-06-30T20:55:49.932873Z",
     "iopub.status.idle": "2024-06-30T20:55:49.935298Z",
     "shell.execute_reply": "2024-06-30T20:55:49.934934Z"
    },
    "papermill": {
     "duration": 0.009287,
     "end_time": "2024-06-30T20:55:49.936034",
     "exception": false,
     "start_time": "2024-06-30T20:55:49.926747",
     "status": "completed"
    },
    "tags": []
   },
   "outputs": [],
   "source": [
    "PBsampleDF = adataPBsample.to_df()\n",
    "PBsampleDF['sampleID'] = adataPBsample.obs['sampleID']"
   ]
  },
  {
   "cell_type": "code",
   "execution_count": 10,
   "id": "bb384751-fe1b-4635-a90d-fd98ae61b173",
   "metadata": {
    "execution": {
     "iopub.execute_input": "2024-06-30T20:55:49.947872Z",
     "iopub.status.busy": "2024-06-30T20:55:49.947616Z",
     "iopub.status.idle": "2024-06-30T20:55:49.951459Z",
     "shell.execute_reply": "2024-06-30T20:55:49.951108Z"
    },
    "papermill": {
     "duration": 0.010277,
     "end_time": "2024-06-30T20:55:49.952206",
     "exception": false,
     "start_time": "2024-06-30T20:55:49.941929",
     "status": "completed"
    },
    "tags": []
   },
   "outputs": [],
   "source": [
    "PBcell_sampleDF = PBcellDF.merge(PBsampleDF, on='sampleID', how='left')"
   ]
  },
  {
   "cell_type": "code",
   "execution_count": 11,
   "id": "f7250713-e24d-4614-9cbd-eed702340640",
   "metadata": {
    "execution": {
     "iopub.execute_input": "2024-06-30T20:55:49.964731Z",
     "iopub.status.busy": "2024-06-30T20:55:49.964474Z",
     "iopub.status.idle": "2024-06-30T20:55:49.966677Z",
     "shell.execute_reply": "2024-06-30T20:55:49.966330Z"
    },
    "papermill": {
     "duration": 0.009019,
     "end_time": "2024-06-30T20:55:49.967468",
     "exception": false,
     "start_time": "2024-06-30T20:55:49.958449",
     "status": "completed"
    },
    "tags": []
   },
   "outputs": [],
   "source": [
    "assert(adataPBcell.obs['sampleID'].tolist() == PBcell_sampleDF['sampleID'].tolist())"
   ]
  },
  {
   "cell_type": "code",
   "execution_count": 12,
   "id": "abea2252-6a12-4b89-9f0d-6d6df90064fb",
   "metadata": {
    "execution": {
     "iopub.execute_input": "2024-06-30T20:55:49.979462Z",
     "iopub.status.busy": "2024-06-30T20:55:49.979112Z",
     "iopub.status.idle": "2024-06-30T20:55:49.981551Z",
     "shell.execute_reply": "2024-06-30T20:55:49.981199Z"
    },
    "papermill": {
     "duration": 0.009218,
     "end_time": "2024-06-30T20:55:49.982312",
     "exception": false,
     "start_time": "2024-06-30T20:55:49.973094",
     "status": "completed"
    },
    "tags": []
   },
   "outputs": [],
   "source": [
    "PBcell_sampleDF.drop('sampleID', axis=1, inplace=True)"
   ]
  },
  {
   "cell_type": "code",
   "execution_count": 13,
   "id": "5502e45d-5c72-4440-a8c1-5b299cac6e2d",
   "metadata": {
    "execution": {
     "iopub.execute_input": "2024-06-30T20:55:49.994051Z",
     "iopub.status.busy": "2024-06-30T20:55:49.993745Z",
     "iopub.status.idle": "2024-06-30T20:55:49.997109Z",
     "shell.execute_reply": "2024-06-30T20:55:49.996770Z"
    },
    "papermill": {
     "duration": 0.010108,
     "end_time": "2024-06-30T20:55:49.997921",
     "exception": false,
     "start_time": "2024-06-30T20:55:49.987813",
     "status": "completed"
    },
    "tags": []
   },
   "outputs": [
    {
     "data": {
      "text/plain": [
       "AnnData object with n_obs × n_vars = 1269 × 70\n",
       "    obs: 'sampleID', 'Level1', 'disease', 'n_observation'"
      ]
     },
     "execution_count": 13,
     "metadata": {},
     "output_type": "execute_result"
    }
   ],
   "source": [
    "adataPBcell_sample = sc.AnnData(X = PBcell_sampleDF, obs = adataPBcell.obs)\n",
    "adataPBcell_sample"
   ]
  },
  {
   "cell_type": "markdown",
   "id": "d59574be-684b-4082-b8b6-7d11930362ad",
   "metadata": {
    "papermill": {
     "duration": 0.005599,
     "end_time": "2024-06-30T20:55:50.009040",
     "exception": false,
     "start_time": "2024-06-30T20:55:50.003441",
     "status": "completed"
    },
    "tags": []
   },
   "source": [
    "### Saving pseudobulk adata objects"
   ]
  },
  {
   "cell_type": "code",
   "execution_count": 14,
   "id": "5947e6f8-ac27-4702-ba5d-aa9e1ba79f6a",
   "metadata": {
    "execution": {
     "iopub.execute_input": "2024-06-30T20:55:50.022040Z",
     "iopub.status.busy": "2024-06-30T20:55:50.021686Z",
     "iopub.status.idle": "2024-06-30T20:55:50.054355Z",
     "shell.execute_reply": "2024-06-30T20:55:50.053883Z"
    },
    "papermill": {
     "duration": 0.039836,
     "end_time": "2024-06-30T20:55:50.055151",
     "exception": false,
     "start_time": "2024-06-30T20:55:50.015315",
     "status": "completed"
    },
    "tags": []
   },
   "outputs": [],
   "source": [
    "adataPBcell.write(here(adataPATHlist[0].replace('/scPoli_','/PSEUDOBULKs/scPoli_PSEUDOBULKcell_')), compression='gzip')"
   ]
  },
  {
   "cell_type": "code",
   "execution_count": 15,
   "id": "e9485945-bccf-419a-9420-c1e4f3aa262d",
   "metadata": {
    "execution": {
     "iopub.execute_input": "2024-06-30T20:55:50.066970Z",
     "iopub.status.busy": "2024-06-30T20:55:50.066717Z",
     "iopub.status.idle": "2024-06-30T20:55:50.086269Z",
     "shell.execute_reply": "2024-06-30T20:55:50.085893Z"
    },
    "papermill": {
     "duration": 0.026271,
     "end_time": "2024-06-30T20:55:50.087057",
     "exception": false,
     "start_time": "2024-06-30T20:55:50.060786",
     "status": "completed"
    },
    "tags": []
   },
   "outputs": [],
   "source": [
    "adataPBsample.write(here(adataPATHlist[0].replace('/scPoli_','/PSEUDOBULKs/scPoli_PSEUDOBULKsample_')), compression='gzip')"
   ]
  },
  {
   "cell_type": "code",
   "execution_count": 16,
   "id": "9c2daa40-3279-4b24-8aad-65ee0ba758c8",
   "metadata": {
    "execution": {
     "iopub.execute_input": "2024-06-30T20:55:50.098973Z",
     "iopub.status.busy": "2024-06-30T20:55:50.098723Z",
     "iopub.status.idle": "2024-06-30T20:55:50.130579Z",
     "shell.execute_reply": "2024-06-30T20:55:50.130203Z"
    },
    "papermill": {
     "duration": 0.038784,
     "end_time": "2024-06-30T20:55:50.131399",
     "exception": false,
     "start_time": "2024-06-30T20:55:50.092615",
     "status": "completed"
    },
    "tags": []
   },
   "outputs": [],
   "source": [
    "adataPBcell_sample.write(here(adataPATHlist[0].replace('/scPoli_','/PSEUDOBULKs/scPoli_PSEUDOBULKcellSample_')), compression='gzip')"
   ]
  },
  {
   "cell_type": "code",
   "execution_count": null,
   "id": "8a70d9f6-7a44-45ee-8470-702bd7af1e0b",
   "metadata": {
    "papermill": {
     "duration": 0.005857,
     "end_time": "2024-06-30T20:55:50.143168",
     "exception": false,
     "start_time": "2024-06-30T20:55:50.137311",
     "status": "completed"
    },
    "tags": []
   },
   "outputs": [],
   "source": []
  }
 ],
 "metadata": {
  "kernelspec": {
   "display_name": "Python 3 (ipykernel)",
   "language": "python",
   "name": "python3"
  },
  "language_info": {
   "codemirror_mode": {
    "name": "ipython",
    "version": 3
   },
   "file_extension": ".py",
   "mimetype": "text/x-python",
   "name": "python",
   "nbconvert_exporter": "python",
   "pygments_lexer": "ipython3",
   "version": "3.12.3"
  },
  "papermill": {
   "default_parameters": {},
   "duration": 4.937232,
   "end_time": "2024-06-30T20:55:50.663819",
   "environment_variables": {},
   "exception": null,
   "input_path": "03_generating_PSEUDOBULKs.ipynb",
   "output_path": "executed_notebooks/03_generating_PSEUDOBULKs_EXTERNAL_50nEmb_20nPEmb.ipynb",
   "parameters": {
    "adataPATH": "03_downstream_analysis/08_PatientClassifier/scPoli/results/scPoli_EXTERNAL_2_50_20_*.h5ad"
   },
   "start_time": "2024-06-30T20:55:45.726587",
   "version": "2.6.0"
  }
 },
 "nbformat": 4,
 "nbformat_minor": 5
}