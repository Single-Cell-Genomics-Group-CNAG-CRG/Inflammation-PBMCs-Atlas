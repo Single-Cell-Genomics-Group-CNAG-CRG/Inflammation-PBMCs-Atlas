{
 "cells": [
  {
   "cell_type": "code",
   "execution_count": 1,
   "id": "bc7e357a",
   "metadata": {
    "execution": {
     "iopub.execute_input": "2024-06-30T20:55:46.214747Z",
     "iopub.status.busy": "2024-06-30T20:55:46.214609Z",
     "iopub.status.idle": "2024-06-30T20:55:46.217140Z",
     "shell.execute_reply": "2024-06-30T20:55:46.216780Z"
    },
    "papermill": {
     "duration": 0.010164,
     "end_time": "2024-06-30T20:55:46.217949",
     "exception": false,
     "start_time": "2024-06-30T20:55:46.207785",
     "status": "completed"
    },
    "tags": [
     "injected-parameters"
    ]
   },
   "outputs": [],
   "source": [
    "# Parameters\n",
    "adataPATH = \"03_downstream_analysis/08_PatientClassifier/scPoli/results/scPoli_EXTERNAL_2_30_20_*.h5ad\"\n"
   ]
  },
  {
   "cell_type": "raw",
   "id": "bf9880bd-3aef-477b-807d-37e3c5603037",
   "metadata": {
    "execution": {
     "iopub.execute_input": "2024-06-29T08:23:25.403219Z",
     "iopub.status.busy": "2024-06-29T08:23:25.402857Z",
     "iopub.status.idle": "2024-06-29T08:23:25.406428Z",
     "shell.execute_reply": "2024-06-29T08:23:25.406014Z",
     "shell.execute_reply.started": "2024-06-29T08:23:25.403185Z"
    },
    "papermill": {
     "duration": 0.004957,
     "end_time": "2024-06-30T20:55:46.228732",
     "exception": false,
     "start_time": "2024-06-30T20:55:46.223775",
     "status": "completed"
    },
    "tags": [],
    "vscode": {
     "languageId": "raw"
    }
   },
   "source": [
    "adataMAINpath = '03_downstream_analysis/08_PatientClassifier/scPoli/results/scPoli_2_100_20_*.h5ad'\n",
    "\n",
    "adataVALpath = '03_downstream_analysis/08_PatientClassifier/scPoli/results/scPoli_VALIDATION_2_20_20*.h5ad'\n",
    "adataEXCpath = '03_downstream_analysis/08_PatientClassifier/scPoli/results/scPoli_EXCLUDED_2_100_20_run1_pd5nyb4g.h5ad'\n",
    "adataEXTpath = '03_downstream_analysis/08_PatientClassifier/scPoli/results/scPoli_EXTERNAL_2_100_20_run1_pd5nyb4g.h5ad'\n",
    "\n",
    "adataPATH = adataVALpath"
   ]
  },
  {
   "cell_type": "code",
   "execution_count": 2,
   "id": "d3ccb10a-7201-43d0-a593-2b4650ff3451",
   "metadata": {
    "execution": {
     "iopub.execute_input": "2024-06-30T20:55:46.240270Z",
     "iopub.status.busy": "2024-06-30T20:55:46.240129Z",
     "iopub.status.idle": "2024-06-30T20:55:46.243061Z",
     "shell.execute_reply": "2024-06-30T20:55:46.242690Z"
    },
    "papermill": {
     "duration": 0.009239,
     "end_time": "2024-06-30T20:55:46.243853",
     "exception": false,
     "start_time": "2024-06-30T20:55:46.234614",
     "status": "completed"
    },
    "tags": []
   },
   "outputs": [
    {
     "name": "stdout",
     "output_type": "stream",
     "text": [
      "adataPATH = 03_downstream_analysis/08_PatientClassifier/scPoli/results/scPoli_EXTERNAL_2_30_20_*.h5ad\n"
     ]
    }
   ],
   "source": [
    "for v in ['adataPATH']:\n",
    "    if v in locals() or v in globals():\n",
    "        print(f\"{v} = {eval(v)}\")\n",
    "    else:\n",
    "        raise Exception(f\"{v} not specified\")"
   ]
  },
  {
   "cell_type": "code",
   "execution_count": 3,
   "id": "888fb5f4-9ab7-4196-a282-7a7e92a43971",
   "metadata": {
    "execution": {
     "iopub.execute_input": "2024-06-30T20:55:46.255448Z",
     "iopub.status.busy": "2024-06-30T20:55:46.255316Z",
     "iopub.status.idle": "2024-06-30T20:55:47.664447Z",
     "shell.execute_reply": "2024-06-30T20:55:47.664027Z"
    },
    "papermill": {
     "duration": 1.416331,
     "end_time": "2024-06-30T20:55:47.665336",
     "exception": false,
     "start_time": "2024-06-30T20:55:46.249005",
     "status": "completed"
    },
    "tags": []
   },
   "outputs": [],
   "source": [
    "import os\n",
    "import sys\n",
    "from glob import glob\n",
    "\n",
    "import scanpy as sc\n",
    "import pandas as pd\n",
    "\n",
    "from pyprojroot import here\n",
    "\n",
    "sys.path.insert(1, str(here('bin')))\n",
    "# Import custom functions\n",
    "from customPythonFunctions import aggregating_features"
   ]
  },
  {
   "cell_type": "markdown",
   "id": "ba4905ae-4546-4ef4-b57b-950441ab079d",
   "metadata": {
    "papermill": {
     "duration": 0.005286,
     "end_time": "2024-06-30T20:55:47.676556",
     "exception": false,
     "start_time": "2024-06-30T20:55:47.671270",
     "status": "completed"
    },
    "tags": []
   },
   "source": [
    "### Loading data"
   ]
  },
  {
   "cell_type": "code",
   "execution_count": 4,
   "id": "539cbbbb-3503-4f51-bf04-f007f928ebd1",
   "metadata": {
    "execution": {
     "iopub.execute_input": "2024-06-30T20:55:47.687741Z",
     "iopub.status.busy": "2024-06-30T20:55:47.687445Z",
     "iopub.status.idle": "2024-06-30T20:55:47.691240Z",
     "shell.execute_reply": "2024-06-30T20:55:47.690946Z"
    },
    "papermill": {
     "duration": 0.010198,
     "end_time": "2024-06-30T20:55:47.692017",
     "exception": false,
     "start_time": "2024-06-30T20:55:47.681819",
     "status": "completed"
    },
    "tags": []
   },
   "outputs": [],
   "source": [
    "adataPATHlist = glob(str(here(adataPATH)))\n",
    "assert(len(adataPATHlist) == 1)"
   ]
  },
  {
   "cell_type": "code",
   "execution_count": 5,
   "id": "0fcfce0a-896b-4dc0-8e5e-46749205c84f",
   "metadata": {
    "execution": {
     "iopub.execute_input": "2024-06-30T20:55:47.702650Z",
     "iopub.status.busy": "2024-06-30T20:55:47.702365Z",
     "iopub.status.idle": "2024-06-30T20:55:48.676494Z",
     "shell.execute_reply": "2024-06-30T20:55:48.676136Z"
    },
    "papermill": {
     "duration": 0.980449,
     "end_time": "2024-06-30T20:55:48.677302",
     "exception": false,
     "start_time": "2024-06-30T20:55:47.696853",
     "status": "completed"
    },
    "tags": []
   },
   "outputs": [
    {
     "data": {
      "text/plain": [
       "AnnData object with n_obs × n_vars = 572872 × 30\n",
       "    obs: 'studyID', 'libraryID', 'sampleID', 'chemistry', 'technology', 'disease', 'sex', 'binned_age', 'Level1', 'Level2', 'conditions_combined', 'Level1_unc', 'Level2_unc'\n",
       "    uns: 'chemistry', 'sampleID'"
      ]
     },
     "execution_count": 5,
     "metadata": {},
     "output_type": "execute_result"
    }
   ],
   "source": [
    "adata = sc.read_h5ad(adataPATHlist[0])\n",
    "adata"
   ]
  },
  {
   "cell_type": "markdown",
   "id": "44e868b3-0771-4225-bd79-a4b179bc672b",
   "metadata": {
    "papermill": {
     "duration": 0.005242,
     "end_time": "2024-06-30T20:55:48.689158",
     "exception": false,
     "start_time": "2024-06-30T20:55:48.683916",
     "status": "completed"
    },
    "tags": []
   },
   "source": [
    "#### Generating PSEUDOBULKs"
   ]
  },
  {
   "cell_type": "markdown",
   "id": "97d09fc5-d05c-471e-87fa-fe58ccbe47ac",
   "metadata": {
    "papermill": {
     "duration": 0.005048,
     "end_time": "2024-06-30T20:55:48.699337",
     "exception": false,
     "start_time": "2024-06-30T20:55:48.694289",
     "status": "completed"
    },
    "tags": []
   },
   "source": [
    "**Aggregating cell latent features**"
   ]
  },
  {
   "cell_type": "code",
   "execution_count": 6,
   "id": "81223976-fcf6-4354-8964-b12d76468636",
   "metadata": {
    "execution": {
     "iopub.execute_input": "2024-06-30T20:55:48.710817Z",
     "iopub.status.busy": "2024-06-30T20:55:48.710509Z",
     "iopub.status.idle": "2024-06-30T20:55:48.955005Z",
     "shell.execute_reply": "2024-06-30T20:55:48.954655Z"
    },
    "papermill": {
     "duration": 0.251576,
     "end_time": "2024-06-30T20:55:48.956149",
     "exception": false,
     "start_time": "2024-06-30T20:55:48.704573",
     "status": "completed"
    },
    "tags": []
   },
   "outputs": [
    {
     "data": {
      "text/plain": [
       "AnnData object with n_obs × n_vars = 1267 × 30\n",
       "    obs: 'sampleID', 'Level1', 'disease', 'n_observation'"
      ]
     },
     "execution_count": 6,
     "metadata": {},
     "output_type": "execute_result"
    }
   ],
   "source": [
    "adataPBcell = aggregating_features(Z = adata.X, \n",
    "                             obsDF = adata.obs[['sampleID','Level1','disease']], \n",
    "                             mode = 'mean', \n",
    "                             obs_names_col=['sampleID','Level1'], \n",
    "                             min_observation=0)\n",
    "adataPBcell"
   ]
  },
  {
   "cell_type": "code",
   "execution_count": null,
   "id": "8495038e-aebd-4003-bd94-c1e49f47249e",
   "metadata": {
    "papermill": {
     "duration": 0.005514,
     "end_time": "2024-06-30T20:55:48.976261",
     "exception": false,
     "start_time": "2024-06-30T20:55:48.970747",
     "status": "completed"
    },
    "tags": []
   },
   "outputs": [],
   "source": []
  },
  {
   "cell_type": "markdown",
   "id": "6d602bad-4793-4aa4-b3d7-d118d413a0fc",
   "metadata": {
    "papermill": {
     "duration": 0.005211,
     "end_time": "2024-06-30T20:55:48.987044",
     "exception": false,
     "start_time": "2024-06-30T20:55:48.981833",
     "status": "completed"
    },
    "tags": []
   },
   "source": [
    "**Extracting sample embedding**"
   ]
  },
  {
   "cell_type": "code",
   "execution_count": 7,
   "id": "e2c14f02",
   "metadata": {
    "execution": {
     "iopub.execute_input": "2024-06-30T20:55:48.998206Z",
     "iopub.status.busy": "2024-06-30T20:55:48.997800Z",
     "iopub.status.idle": "2024-06-30T20:55:49.005376Z",
     "shell.execute_reply": "2024-06-30T20:55:49.005082Z"
    },
    "papermill": {
     "duration": 0.013894,
     "end_time": "2024-06-30T20:55:49.006127",
     "exception": false,
     "start_time": "2024-06-30T20:55:48.992233",
     "status": "completed"
    },
    "tags": []
   },
   "outputs": [
    {
     "data": {
      "text/plain": [
       "AnnData object with n_obs × n_vars = 86 × 20\n",
       "    obs: 'sampleID', 'disease', 'Level1'"
      ]
     },
     "execution_count": 7,
     "metadata": {},
     "output_type": "execute_result"
    }
   ],
   "source": [
    "adataPBsample = adata.uns['sampleID'].copy()\n",
    "adataPBsample.obs['sampleID'] = adataPBsample.obs.index\n",
    "adataPBsample = adataPBsample[adataPBsample.obs['sampleID'].isin(adataPBcell.obs['sampleID'])]\n",
    "\n",
    "adataPBsample.obs = adataPBsample.obs.merge(adataPBcell.obs.groupby('sampleID').agg({'disease':'first'}), left_index=True, right_index=True)\n",
    "adataPBsample.obs['Level1'] = 'sample'\n",
    "adataPBsample"
   ]
  },
  {
   "cell_type": "markdown",
   "id": "2d4fe137-7d68-4e86-a85c-3c1a3d3c4c71",
   "metadata": {
    "papermill": {
     "duration": 0.005356,
     "end_time": "2024-06-30T20:55:49.016982",
     "exception": false,
     "start_time": "2024-06-30T20:55:49.011626",
     "status": "completed"
    },
    "tags": []
   },
   "source": [
    "**Merging cell and patient latent features**"
   ]
  },
  {
   "cell_type": "code",
   "execution_count": 8,
   "id": "a326d2b1",
   "metadata": {
    "execution": {
     "iopub.execute_input": "2024-06-30T20:55:49.028210Z",
     "iopub.status.busy": "2024-06-30T20:55:49.027923Z",
     "iopub.status.idle": "2024-06-30T20:55:49.030160Z",
     "shell.execute_reply": "2024-06-30T20:55:49.029869Z"
    },
    "papermill": {
     "duration": 0.008778,
     "end_time": "2024-06-30T20:55:49.030895",
     "exception": false,
     "start_time": "2024-06-30T20:55:49.022117",
     "status": "completed"
    },
    "tags": []
   },
   "outputs": [],
   "source": [
    "PBcellDF = adataPBcell.to_df()\n",
    "PBcellDF['sampleID'] = adataPBcell.obs['sampleID']"
   ]
  },
  {
   "cell_type": "code",
   "execution_count": 9,
   "id": "1a597f46-d9c5-403b-b81e-5738ca206682",
   "metadata": {
    "execution": {
     "iopub.execute_input": "2024-06-30T20:55:49.042329Z",
     "iopub.status.busy": "2024-06-30T20:55:49.041937Z",
     "iopub.status.idle": "2024-06-30T20:55:49.044311Z",
     "shell.execute_reply": "2024-06-30T20:55:49.044019Z"
    },
    "papermill": {
     "duration": 0.00897,
     "end_time": "2024-06-30T20:55:49.045038",
     "exception": false,
     "start_time": "2024-06-30T20:55:49.036068",
     "status": "completed"
    },
    "tags": []
   },
   "outputs": [],
   "source": [
    "PBsampleDF = adataPBsample.to_df()\n",
    "PBsampleDF['sampleID'] = adataPBsample.obs['sampleID']"
   ]
  },
  {
   "cell_type": "code",
   "execution_count": 10,
   "id": "bb384751-fe1b-4635-a90d-fd98ae61b173",
   "metadata": {
    "execution": {
     "iopub.execute_input": "2024-06-30T20:55:49.057524Z",
     "iopub.status.busy": "2024-06-30T20:55:49.057155Z",
     "iopub.status.idle": "2024-06-30T20:55:49.060729Z",
     "shell.execute_reply": "2024-06-30T20:55:49.060442Z"
    },
    "papermill": {
     "duration": 0.01059,
     "end_time": "2024-06-30T20:55:49.061469",
     "exception": false,
     "start_time": "2024-06-30T20:55:49.050879",
     "status": "completed"
    },
    "tags": []
   },
   "outputs": [],
   "source": [
    "PBcell_sampleDF = PBcellDF.merge(PBsampleDF, on='sampleID', how='left')"
   ]
  },
  {
   "cell_type": "code",
   "execution_count": 11,
   "id": "f7250713-e24d-4614-9cbd-eed702340640",
   "metadata": {
    "execution": {
     "iopub.execute_input": "2024-06-30T20:55:49.073110Z",
     "iopub.status.busy": "2024-06-30T20:55:49.072979Z",
     "iopub.status.idle": "2024-06-30T20:55:49.075111Z",
     "shell.execute_reply": "2024-06-30T20:55:49.074817Z"
    },
    "papermill": {
     "duration": 0.008858,
     "end_time": "2024-06-30T20:55:49.075885",
     "exception": false,
     "start_time": "2024-06-30T20:55:49.067027",
     "status": "completed"
    },
    "tags": []
   },
   "outputs": [],
   "source": [
    "assert(adataPBcell.obs['sampleID'].tolist() == PBcell_sampleDF['sampleID'].tolist())"
   ]
  },
  {
   "cell_type": "code",
   "execution_count": 12,
   "id": "abea2252-6a12-4b89-9f0d-6d6df90064fb",
   "metadata": {
    "execution": {
     "iopub.execute_input": "2024-06-30T20:55:49.087320Z",
     "iopub.status.busy": "2024-06-30T20:55:49.087170Z",
     "iopub.status.idle": "2024-06-30T20:55:49.089468Z",
     "shell.execute_reply": "2024-06-30T20:55:49.089160Z"
    },
    "papermill": {
     "duration": 0.009029,
     "end_time": "2024-06-30T20:55:49.090204",
     "exception": false,
     "start_time": "2024-06-30T20:55:49.081175",
     "status": "completed"
    },
    "tags": []
   },
   "outputs": [],
   "source": [
    "PBcell_sampleDF.drop('sampleID', axis=1, inplace=True)"
   ]
  },
  {
   "cell_type": "code",
   "execution_count": 13,
   "id": "5502e45d-5c72-4440-a8c1-5b299cac6e2d",
   "metadata": {
    "execution": {
     "iopub.execute_input": "2024-06-30T20:55:49.102248Z",
     "iopub.status.busy": "2024-06-30T20:55:49.101740Z",
     "iopub.status.idle": "2024-06-30T20:55:49.105091Z",
     "shell.execute_reply": "2024-06-30T20:55:49.104807Z"
    },
    "papermill": {
     "duration": 0.010125,
     "end_time": "2024-06-30T20:55:49.105840",
     "exception": false,
     "start_time": "2024-06-30T20:55:49.095715",
     "status": "completed"
    },
    "tags": []
   },
   "outputs": [
    {
     "data": {
      "text/plain": [
       "AnnData object with n_obs × n_vars = 1267 × 50\n",
       "    obs: 'sampleID', 'Level1', 'disease', 'n_observation'"
      ]
     },
     "execution_count": 13,
     "metadata": {},
     "output_type": "execute_result"
    }
   ],
   "source": [
    "adataPBcell_sample = sc.AnnData(X = PBcell_sampleDF, obs = adataPBcell.obs)\n",
    "adataPBcell_sample"
   ]
  },
  {
   "cell_type": "markdown",
   "id": "d59574be-684b-4082-b8b6-7d11930362ad",
   "metadata": {
    "papermill": {
     "duration": 0.005773,
     "end_time": "2024-06-30T20:55:49.120443",
     "exception": false,
     "start_time": "2024-06-30T20:55:49.114670",
     "status": "completed"
    },
    "tags": []
   },
   "source": [
    "### Saving pseudobulk adata objects"
   ]
  },
  {
   "cell_type": "code",
   "execution_count": 14,
   "id": "5947e6f8-ac27-4702-ba5d-aa9e1ba79f6a",
   "metadata": {
    "execution": {
     "iopub.execute_input": "2024-06-30T20:55:49.141097Z",
     "iopub.status.busy": "2024-06-30T20:55:49.140761Z",
     "iopub.status.idle": "2024-06-30T20:55:49.170674Z",
     "shell.execute_reply": "2024-06-30T20:55:49.170351Z"
    },
    "papermill": {
     "duration": 0.04561,
     "end_time": "2024-06-30T20:55:49.171455",
     "exception": false,
     "start_time": "2024-06-30T20:55:49.125845",
     "status": "completed"
    },
    "tags": []
   },
   "outputs": [],
   "source": [
    "adataPBcell.write(here(adataPATHlist[0].replace('/scPoli_','/PSEUDOBULKs/scPoli_PSEUDOBULKcell_')), compression='gzip')"
   ]
  },
  {
   "cell_type": "code",
   "execution_count": 15,
   "id": "e9485945-bccf-419a-9420-c1e4f3aa262d",
   "metadata": {
    "execution": {
     "iopub.execute_input": "2024-06-30T20:55:49.183162Z",
     "iopub.status.busy": "2024-06-30T20:55:49.183027Z",
     "iopub.status.idle": "2024-06-30T20:55:49.202804Z",
     "shell.execute_reply": "2024-06-30T20:55:49.202505Z"
    },
    "papermill": {
     "duration": 0.026533,
     "end_time": "2024-06-30T20:55:49.203561",
     "exception": false,
     "start_time": "2024-06-30T20:55:49.177028",
     "status": "completed"
    },
    "tags": []
   },
   "outputs": [],
   "source": [
    "adataPBsample.write(here(adataPATHlist[0].replace('/scPoli_','/PSEUDOBULKs/scPoli_PSEUDOBULKsample_')), compression='gzip')"
   ]
  },
  {
   "cell_type": "code",
   "execution_count": 16,
   "id": "9c2daa40-3279-4b24-8aad-65ee0ba758c8",
   "metadata": {
    "execution": {
     "iopub.execute_input": "2024-06-30T20:55:49.215958Z",
     "iopub.status.busy": "2024-06-30T20:55:49.215824Z",
     "iopub.status.idle": "2024-06-30T20:55:49.244925Z",
     "shell.execute_reply": "2024-06-30T20:55:49.244611Z"
    },
    "papermill": {
     "duration": 0.036089,
     "end_time": "2024-06-30T20:55:49.245702",
     "exception": false,
     "start_time": "2024-06-30T20:55:49.209613",
     "status": "completed"
    },
    "tags": []
   },
   "outputs": [],
   "source": [
    "adataPBcell_sample.write(here(adataPATHlist[0].replace('/scPoli_','/PSEUDOBULKs/scPoli_PSEUDOBULKcellSample_')), compression='gzip')"
   ]
  },
  {
   "cell_type": "code",
   "execution_count": null,
   "id": "8a70d9f6-7a44-45ee-8470-702bd7af1e0b",
   "metadata": {
    "papermill": {
     "duration": 0.005336,
     "end_time": "2024-06-30T20:55:49.256850",
     "exception": false,
     "start_time": "2024-06-30T20:55:49.251514",
     "status": "completed"
    },
    "tags": []
   },
   "outputs": [],
   "source": []
  }
 ],
 "metadata": {
  "kernelspec": {
   "display_name": "Python 3 (ipykernel)",
   "language": "python",
   "name": "python3"
  },
  "language_info": {
   "codemirror_mode": {
    "name": "ipython",
    "version": 3
   },
   "file_extension": ".py",
   "mimetype": "text/x-python",
   "name": "python",
   "nbconvert_exporter": "python",
   "pygments_lexer": "ipython3",
   "version": "3.12.3"
  },
  "papermill": {
   "default_parameters": {},
   "duration": 4.795279,
   "end_time": "2024-06-30T20:55:49.777930",
   "environment_variables": {},
   "exception": null,
   "input_path": "03_generating_PSEUDOBULKs.ipynb",
   "output_path": "executed_notebooks/03_generating_PSEUDOBULKs_EXTERNAL_30nEmb_20nPEmb.ipynb",
   "parameters": {
    "adataPATH": "03_downstream_analysis/08_PatientClassifier/scPoli/results/scPoli_EXTERNAL_2_30_20_*.h5ad"
   },
   "start_time": "2024-06-30T20:55:44.982651",
   "version": "2.6.0"
  }
 },
 "nbformat": 4,
 "nbformat_minor": 5
}