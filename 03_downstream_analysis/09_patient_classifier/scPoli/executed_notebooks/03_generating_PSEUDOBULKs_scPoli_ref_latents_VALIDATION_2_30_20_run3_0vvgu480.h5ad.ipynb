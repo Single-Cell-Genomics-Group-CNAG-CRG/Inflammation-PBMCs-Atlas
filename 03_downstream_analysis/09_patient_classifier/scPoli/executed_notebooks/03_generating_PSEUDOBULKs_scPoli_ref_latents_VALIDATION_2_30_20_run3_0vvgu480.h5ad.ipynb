{
 "cells": [
  {
   "cell_type": "code",
   "execution_count": 1,
   "id": "1348cdfc",
   "metadata": {
    "execution": {
     "iopub.execute_input": "2024-06-30T21:02:01.380257Z",
     "iopub.status.busy": "2024-06-30T21:02:01.380100Z",
     "iopub.status.idle": "2024-06-30T21:02:01.382662Z",
     "shell.execute_reply": "2024-06-30T21:02:01.382290Z"
    },
    "papermill": {
     "duration": 0.01016,
     "end_time": "2024-06-30T21:02:01.383490",
     "exception": false,
     "start_time": "2024-06-30T21:02:01.373330",
     "status": "completed"
    },
    "tags": [
     "injected-parameters"
    ]
   },
   "outputs": [],
   "source": [
    "# Parameters\n",
    "adataPATH = \"03_downstream_analysis/08_PatientClassifier/scPoli/results/scPoli_ref_latents_VALIDATION_2_30_20_run3_0vvgu480.h5ad\"\n"
   ]
  },
  {
   "cell_type": "raw",
   "id": "bf9880bd-3aef-477b-807d-37e3c5603037",
   "metadata": {
    "execution": {
     "iopub.execute_input": "2024-06-29T08:23:25.403219Z",
     "iopub.status.busy": "2024-06-29T08:23:25.402857Z",
     "iopub.status.idle": "2024-06-29T08:23:25.406428Z",
     "shell.execute_reply": "2024-06-29T08:23:25.406014Z",
     "shell.execute_reply.started": "2024-06-29T08:23:25.403185Z"
    },
    "papermill": {
     "duration": 0.005585,
     "end_time": "2024-06-30T21:02:01.404415",
     "exception": false,
     "start_time": "2024-06-30T21:02:01.398830",
     "status": "completed"
    },
    "tags": [],
    "vscode": {
     "languageId": "raw"
    }
   },
   "source": [
    "adataMAINpath = '03_downstream_analysis/08_PatientClassifier/scPoli/results/scPoli_2_100_20_*.h5ad'\n",
    "\n",
    "adataVALpath = '03_downstream_analysis/08_PatientClassifier/scPoli/results/scPoli_VALIDATION_2_20_20*.h5ad'\n",
    "adataEXCpath = '03_downstream_analysis/08_PatientClassifier/scPoli/results/scPoli_EXCLUDED_2_100_20_run1_pd5nyb4g.h5ad'\n",
    "adataEXTpath = '03_downstream_analysis/08_PatientClassifier/scPoli/results/scPoli_EXTERNAL_2_100_20_run1_pd5nyb4g.h5ad'\n",
    "\n",
    "adataPATH = adataVALpath"
   ]
  },
  {
   "cell_type": "code",
   "execution_count": 2,
   "id": "d3ccb10a-7201-43d0-a593-2b4650ff3451",
   "metadata": {
    "execution": {
     "iopub.execute_input": "2024-06-30T21:02:01.415285Z",
     "iopub.status.busy": "2024-06-30T21:02:01.414939Z",
     "iopub.status.idle": "2024-06-30T21:02:01.417922Z",
     "shell.execute_reply": "2024-06-30T21:02:01.417535Z"
    },
    "papermill": {
     "duration": 0.009252,
     "end_time": "2024-06-30T21:02:01.418709",
     "exception": false,
     "start_time": "2024-06-30T21:02:01.409457",
     "status": "completed"
    },
    "tags": []
   },
   "outputs": [
    {
     "name": "stdout",
     "output_type": "stream",
     "text": [
      "adataPATH = 03_downstream_analysis/08_PatientClassifier/scPoli/results/scPoli_ref_latents_VALIDATION_2_30_20_run3_0vvgu480.h5ad\n"
     ]
    }
   ],
   "source": [
    "for v in ['adataPATH']:\n",
    "    if v in locals() or v in globals():\n",
    "        print(f\"{v} = {eval(v)}\")\n",
    "    else:\n",
    "        raise Exception(f\"{v} not specified\")"
   ]
  },
  {
   "cell_type": "code",
   "execution_count": 3,
   "id": "888fb5f4-9ab7-4196-a282-7a7e92a43971",
   "metadata": {
    "execution": {
     "iopub.execute_input": "2024-06-30T21:02:01.429631Z",
     "iopub.status.busy": "2024-06-30T21:02:01.429323Z",
     "iopub.status.idle": "2024-06-30T21:02:02.834842Z",
     "shell.execute_reply": "2024-06-30T21:02:02.834367Z"
    },
    "papermill": {
     "duration": 1.412142,
     "end_time": "2024-06-30T21:02:02.835831",
     "exception": false,
     "start_time": "2024-06-30T21:02:01.423689",
     "status": "completed"
    },
    "tags": []
   },
   "outputs": [],
   "source": [
    "import os\n",
    "import sys\n",
    "from glob import glob\n",
    "\n",
    "import scanpy as sc\n",
    "import pandas as pd\n",
    "\n",
    "from pyprojroot import here\n",
    "\n",
    "sys.path.insert(1, str(here('bin')))\n",
    "# Import custom functions\n",
    "from customPythonFunctions import aggregating_features"
   ]
  },
  {
   "cell_type": "markdown",
   "id": "ba4905ae-4546-4ef4-b57b-950441ab079d",
   "metadata": {
    "papermill": {
     "duration": 0.004916,
     "end_time": "2024-06-30T21:02:02.846339",
     "exception": false,
     "start_time": "2024-06-30T21:02:02.841423",
     "status": "completed"
    },
    "tags": []
   },
   "source": [
    "### Loading data"
   ]
  },
  {
   "cell_type": "code",
   "execution_count": 4,
   "id": "539cbbbb-3503-4f51-bf04-f007f928ebd1",
   "metadata": {
    "execution": {
     "iopub.execute_input": "2024-06-30T21:02:02.857274Z",
     "iopub.status.busy": "2024-06-30T21:02:02.856812Z",
     "iopub.status.idle": "2024-06-30T21:02:02.860408Z",
     "shell.execute_reply": "2024-06-30T21:02:02.860100Z"
    },
    "papermill": {
     "duration": 0.009791,
     "end_time": "2024-06-30T21:02:02.861151",
     "exception": false,
     "start_time": "2024-06-30T21:02:02.851360",
     "status": "completed"
    },
    "tags": []
   },
   "outputs": [],
   "source": [
    "adataPATHlist = glob(str(here(adataPATH)))\n",
    "assert(len(adataPATHlist) == 1)"
   ]
  },
  {
   "cell_type": "code",
   "execution_count": 5,
   "id": "0fcfce0a-896b-4dc0-8e5e-46749205c84f",
   "metadata": {
    "execution": {
     "iopub.execute_input": "2024-06-30T21:02:02.871765Z",
     "iopub.status.busy": "2024-06-30T21:02:02.871629Z",
     "iopub.status.idle": "2024-06-30T21:02:10.825578Z",
     "shell.execute_reply": "2024-06-30T21:02:10.825218Z"
    },
    "papermill": {
     "duration": 7.960405,
     "end_time": "2024-06-30T21:02:10.826541",
     "exception": false,
     "start_time": "2024-06-30T21:02:02.866136",
     "status": "completed"
    },
    "tags": []
   },
   "outputs": [
    {
     "data": {
      "text/plain": [
       "AnnData object with n_obs × n_vars = 4435922 × 30\n",
       "    obs: 'studyID', 'libraryID', 'sampleID', 'chemistry', 'disease', 'sex', 'binned_age', 'Level1', 'Level2'\n",
       "    uns: 'chemistry', 'sampleID'"
      ]
     },
     "execution_count": 5,
     "metadata": {},
     "output_type": "execute_result"
    }
   ],
   "source": [
    "adata = sc.read_h5ad(adataPATHlist[0])\n",
    "adata"
   ]
  },
  {
   "cell_type": "markdown",
   "id": "44e868b3-0771-4225-bd79-a4b179bc672b",
   "metadata": {
    "papermill": {
     "duration": 0.005469,
     "end_time": "2024-06-30T21:02:10.837810",
     "exception": false,
     "start_time": "2024-06-30T21:02:10.832341",
     "status": "completed"
    },
    "tags": []
   },
   "source": [
    "#### Generating PSEUDOBULKs"
   ]
  },
  {
   "cell_type": "markdown",
   "id": "97d09fc5-d05c-471e-87fa-fe58ccbe47ac",
   "metadata": {
    "papermill": {
     "duration": 0.005236,
     "end_time": "2024-06-30T21:02:10.848396",
     "exception": false,
     "start_time": "2024-06-30T21:02:10.843160",
     "status": "completed"
    },
    "tags": []
   },
   "source": [
    "**Aggregating cell latent features**"
   ]
  },
  {
   "cell_type": "code",
   "execution_count": 6,
   "id": "81223976-fcf6-4354-8964-b12d76468636",
   "metadata": {
    "execution": {
     "iopub.execute_input": "2024-06-30T21:02:10.859994Z",
     "iopub.status.busy": "2024-06-30T21:02:10.859529Z",
     "iopub.status.idle": "2024-06-30T21:02:12.662737Z",
     "shell.execute_reply": "2024-06-30T21:02:12.662396Z"
    },
    "papermill": {
     "duration": 1.809854,
     "end_time": "2024-06-30T21:02:12.663538",
     "exception": false,
     "start_time": "2024-06-30T21:02:10.853684",
     "status": "completed"
    },
    "tags": []
   },
   "outputs": [
    {
     "data": {
      "text/plain": [
       "AnnData object with n_obs × n_vars = 11372 × 30\n",
       "    obs: 'sampleID', 'Level1', 'disease', 'n_observation'"
      ]
     },
     "execution_count": 6,
     "metadata": {},
     "output_type": "execute_result"
    }
   ],
   "source": [
    "adataPBcell = aggregating_features(Z = adata.X, \n",
    "                             obsDF = adata.obs[['sampleID','Level1','disease']], \n",
    "                             mode = 'mean', \n",
    "                             obs_names_col=['sampleID','Level1'], \n",
    "                             min_observation=0)\n",
    "adataPBcell"
   ]
  },
  {
   "cell_type": "code",
   "execution_count": null,
   "id": "8495038e-aebd-4003-bd94-c1e49f47249e",
   "metadata": {
    "papermill": {
     "duration": 0.006301,
     "end_time": "2024-06-30T21:02:12.675621",
     "exception": false,
     "start_time": "2024-06-30T21:02:12.669320",
     "status": "completed"
    },
    "tags": []
   },
   "outputs": [],
   "source": []
  },
  {
   "cell_type": "markdown",
   "id": "6d602bad-4793-4aa4-b3d7-d118d413a0fc",
   "metadata": {
    "papermill": {
     "duration": 0.005166,
     "end_time": "2024-06-30T21:02:12.686906",
     "exception": false,
     "start_time": "2024-06-30T21:02:12.681740",
     "status": "completed"
    },
    "tags": []
   },
   "source": [
    "**Extracting sample embedding**"
   ]
  },
  {
   "cell_type": "code",
   "execution_count": 7,
   "id": "e2c14f02",
   "metadata": {
    "execution": {
     "iopub.execute_input": "2024-06-30T21:02:12.697906Z",
     "iopub.status.busy": "2024-06-30T21:02:12.697758Z",
     "iopub.status.idle": "2024-06-30T21:02:12.707106Z",
     "shell.execute_reply": "2024-06-30T21:02:12.706806Z"
    },
    "papermill": {
     "duration": 0.015812,
     "end_time": "2024-06-30T21:02:12.707881",
     "exception": false,
     "start_time": "2024-06-30T21:02:12.692069",
     "status": "completed"
    },
    "tags": []
   },
   "outputs": [
    {
     "data": {
      "text/plain": [
       "AnnData object with n_obs × n_vars = 817 × 20\n",
       "    obs: 'sampleID', 'disease', 'Level1'"
      ]
     },
     "execution_count": 7,
     "metadata": {},
     "output_type": "execute_result"
    }
   ],
   "source": [
    "adataPBsample = adata.uns['sampleID'].copy()\n",
    "adataPBsample.obs['sampleID'] = adataPBsample.obs.index\n",
    "adataPBsample = adataPBsample[adataPBsample.obs['sampleID'].isin(adataPBcell.obs['sampleID'])]\n",
    "\n",
    "adataPBsample.obs = adataPBsample.obs.merge(adataPBcell.obs.groupby('sampleID').agg({'disease':'first'}), left_index=True, right_index=True)\n",
    "adataPBsample.obs['Level1'] = 'sample'\n",
    "adataPBsample"
   ]
  },
  {
   "cell_type": "markdown",
   "id": "2d4fe137-7d68-4e86-a85c-3c1a3d3c4c71",
   "metadata": {
    "papermill": {
     "duration": 0.005242,
     "end_time": "2024-06-30T21:02:12.718457",
     "exception": false,
     "start_time": "2024-06-30T21:02:12.713215",
     "status": "completed"
    },
    "tags": []
   },
   "source": [
    "**Merging cell and patient latent features**"
   ]
  },
  {
   "cell_type": "code",
   "execution_count": 8,
   "id": "a326d2b1",
   "metadata": {
    "execution": {
     "iopub.execute_input": "2024-06-30T21:02:12.729383Z",
     "iopub.status.busy": "2024-06-30T21:02:12.729243Z",
     "iopub.status.idle": "2024-06-30T21:02:12.731508Z",
     "shell.execute_reply": "2024-06-30T21:02:12.731205Z"
    },
    "papermill": {
     "duration": 0.008604,
     "end_time": "2024-06-30T21:02:12.732242",
     "exception": false,
     "start_time": "2024-06-30T21:02:12.723638",
     "status": "completed"
    },
    "tags": []
   },
   "outputs": [],
   "source": [
    "PBcellDF = adataPBcell.to_df()\n",
    "PBcellDF['sampleID'] = adataPBcell.obs['sampleID']"
   ]
  },
  {
   "cell_type": "code",
   "execution_count": 9,
   "id": "1a597f46-d9c5-403b-b81e-5738ca206682",
   "metadata": {
    "execution": {
     "iopub.execute_input": "2024-06-30T21:02:12.750786Z",
     "iopub.status.busy": "2024-06-30T21:02:12.750524Z",
     "iopub.status.idle": "2024-06-30T21:02:12.752713Z",
     "shell.execute_reply": "2024-06-30T21:02:12.752428Z"
    },
    "papermill": {
     "duration": 0.008992,
     "end_time": "2024-06-30T21:02:12.753625",
     "exception": false,
     "start_time": "2024-06-30T21:02:12.744633",
     "status": "completed"
    },
    "tags": []
   },
   "outputs": [],
   "source": [
    "PBsampleDF = adataPBsample.to_df()\n",
    "PBsampleDF['sampleID'] = adataPBsample.obs['sampleID']"
   ]
  },
  {
   "cell_type": "code",
   "execution_count": 10,
   "id": "bb384751-fe1b-4635-a90d-fd98ae61b173",
   "metadata": {
    "execution": {
     "iopub.execute_input": "2024-06-30T21:02:12.776260Z",
     "iopub.status.busy": "2024-06-30T21:02:12.775989Z",
     "iopub.status.idle": "2024-06-30T21:02:12.781609Z",
     "shell.execute_reply": "2024-06-30T21:02:12.781298Z"
    },
    "papermill": {
     "duration": 0.012089,
     "end_time": "2024-06-30T21:02:12.782395",
     "exception": false,
     "start_time": "2024-06-30T21:02:12.770306",
     "status": "completed"
    },
    "tags": []
   },
   "outputs": [],
   "source": [
    "PBcell_sampleDF = PBcellDF.merge(PBsampleDF, on='sampleID', how='left')"
   ]
  },
  {
   "cell_type": "code",
   "execution_count": 11,
   "id": "f7250713-e24d-4614-9cbd-eed702340640",
   "metadata": {
    "execution": {
     "iopub.execute_input": "2024-06-30T21:02:12.794155Z",
     "iopub.status.busy": "2024-06-30T21:02:12.793886Z",
     "iopub.status.idle": "2024-06-30T21:02:12.796164Z",
     "shell.execute_reply": "2024-06-30T21:02:12.795873Z"
    },
    "papermill": {
     "duration": 0.008775,
     "end_time": "2024-06-30T21:02:12.796894",
     "exception": false,
     "start_time": "2024-06-30T21:02:12.788119",
     "status": "completed"
    },
    "tags": []
   },
   "outputs": [],
   "source": [
    "assert(adataPBcell.obs['sampleID'].tolist() == PBcell_sampleDF['sampleID'].tolist())"
   ]
  },
  {
   "cell_type": "code",
   "execution_count": 12,
   "id": "abea2252-6a12-4b89-9f0d-6d6df90064fb",
   "metadata": {
    "execution": {
     "iopub.execute_input": "2024-06-30T21:02:12.809579Z",
     "iopub.status.busy": "2024-06-30T21:02:12.809314Z",
     "iopub.status.idle": "2024-06-30T21:02:12.811776Z",
     "shell.execute_reply": "2024-06-30T21:02:12.811481Z"
    },
    "papermill": {
     "duration": 0.010092,
     "end_time": "2024-06-30T21:02:12.812510",
     "exception": false,
     "start_time": "2024-06-30T21:02:12.802418",
     "status": "completed"
    },
    "tags": []
   },
   "outputs": [],
   "source": [
    "PBcell_sampleDF.drop('sampleID', axis=1, inplace=True)"
   ]
  },
  {
   "cell_type": "code",
   "execution_count": 13,
   "id": "5502e45d-5c72-4440-a8c1-5b299cac6e2d",
   "metadata": {
    "execution": {
     "iopub.execute_input": "2024-06-30T21:02:12.824427Z",
     "iopub.status.busy": "2024-06-30T21:02:12.824002Z",
     "iopub.status.idle": "2024-06-30T21:02:12.827550Z",
     "shell.execute_reply": "2024-06-30T21:02:12.827263Z"
    },
    "papermill": {
     "duration": 0.010278,
     "end_time": "2024-06-30T21:02:12.828306",
     "exception": false,
     "start_time": "2024-06-30T21:02:12.818028",
     "status": "completed"
    },
    "tags": []
   },
   "outputs": [
    {
     "data": {
      "text/plain": [
       "AnnData object with n_obs × n_vars = 11372 × 50\n",
       "    obs: 'sampleID', 'Level1', 'disease', 'n_observation'"
      ]
     },
     "execution_count": 13,
     "metadata": {},
     "output_type": "execute_result"
    }
   ],
   "source": [
    "adataPBcell_sample = sc.AnnData(X = PBcell_sampleDF, obs = adataPBcell.obs)\n",
    "adataPBcell_sample"
   ]
  },
  {
   "cell_type": "markdown",
   "id": "d59574be-684b-4082-b8b6-7d11930362ad",
   "metadata": {
    "papermill": {
     "duration": 0.006096,
     "end_time": "2024-06-30T21:02:12.840402",
     "exception": false,
     "start_time": "2024-06-30T21:02:12.834306",
     "status": "completed"
    },
    "tags": []
   },
   "source": [
    "### Saving pseudobulk adata objects"
   ]
  },
  {
   "cell_type": "code",
   "execution_count": 14,
   "id": "5947e6f8-ac27-4702-ba5d-aa9e1ba79f6a",
   "metadata": {
    "execution": {
     "iopub.execute_input": "2024-06-30T21:02:12.857889Z",
     "iopub.status.busy": "2024-06-30T21:02:12.857628Z",
     "iopub.status.idle": "2024-06-30T21:02:12.951981Z",
     "shell.execute_reply": "2024-06-30T21:02:12.951619Z"
    },
    "papermill": {
     "duration": 0.106888,
     "end_time": "2024-06-30T21:02:12.952846",
     "exception": false,
     "start_time": "2024-06-30T21:02:12.845958",
     "status": "completed"
    },
    "tags": []
   },
   "outputs": [],
   "source": [
    "adataPBcell.write(here(adataPATHlist[0].replace('/scPoli_','/PSEUDOBULKs/scPoli_PSEUDOBULKcell_')), compression='gzip')"
   ]
  },
  {
   "cell_type": "code",
   "execution_count": 15,
   "id": "e9485945-bccf-419a-9420-c1e4f3aa262d",
   "metadata": {
    "execution": {
     "iopub.execute_input": "2024-06-30T21:02:12.987803Z",
     "iopub.status.busy": "2024-06-30T21:02:12.987526Z",
     "iopub.status.idle": "2024-06-30T21:02:13.009649Z",
     "shell.execute_reply": "2024-06-30T21:02:13.009332Z"
    },
    "papermill": {
     "duration": 0.045631,
     "end_time": "2024-06-30T21:02:13.010430",
     "exception": false,
     "start_time": "2024-06-30T21:02:12.964799",
     "status": "completed"
    },
    "tags": []
   },
   "outputs": [],
   "source": [
    "adataPBsample.write(here(adataPATHlist[0].replace('/scPoli_','/PSEUDOBULKs/scPoli_PSEUDOBULKsample_')), compression='gzip')"
   ]
  },
  {
   "cell_type": "code",
   "execution_count": 16,
   "id": "9c2daa40-3279-4b24-8aad-65ee0ba758c8",
   "metadata": {
    "execution": {
     "iopub.execute_input": "2024-06-30T21:02:13.022888Z",
     "iopub.status.busy": "2024-06-30T21:02:13.022623Z",
     "iopub.status.idle": "2024-06-30T21:02:13.112642Z",
     "shell.execute_reply": "2024-06-30T21:02:13.112260Z"
    },
    "papermill": {
     "duration": 0.097009,
     "end_time": "2024-06-30T21:02:13.113435",
     "exception": false,
     "start_time": "2024-06-30T21:02:13.016426",
     "status": "completed"
    },
    "tags": []
   },
   "outputs": [],
   "source": [
    "adataPBcell_sample.write(here(adataPATHlist[0].replace('/scPoli_','/PSEUDOBULKs/scPoli_PSEUDOBULKcellSample_')), compression='gzip')"
   ]
  },
  {
   "cell_type": "code",
   "execution_count": null,
   "id": "8a70d9f6-7a44-45ee-8470-702bd7af1e0b",
   "metadata": {
    "papermill": {
     "duration": 0.005734,
     "end_time": "2024-06-30T21:02:13.124952",
     "exception": false,
     "start_time": "2024-06-30T21:02:13.119218",
     "status": "completed"
    },
    "tags": []
   },
   "outputs": [],
   "source": []
  }
 ],
 "metadata": {
  "kernelspec": {
   "display_name": "Python 3 (ipykernel)",
   "language": "python",
   "name": "python3"
  },
  "language_info": {
   "codemirror_mode": {
    "name": "ipython",
    "version": 3
   },
   "file_extension": ".py",
   "mimetype": "text/x-python",
   "name": "python",
   "nbconvert_exporter": "python",
   "pygments_lexer": "ipython3",
   "version": "3.12.3"
  },
  "papermill": {
   "default_parameters": {},
   "duration": 13.500845,
   "end_time": "2024-06-30T21:02:13.745489",
   "environment_variables": {},
   "exception": null,
   "input_path": "03_generating_PSEUDOBULKs.ipynb",
   "output_path": "executed_notebooks/03_generating_PSEUDOBULKs_scPoli_ref_latents_VALIDATION_2_30_20_run3_0vvgu480.h5ad.ipynb",
   "parameters": {
    "adataPATH": "03_downstream_analysis/08_PatientClassifier/scPoli/results/scPoli_ref_latents_VALIDATION_2_30_20_run3_0vvgu480.h5ad"
   },
   "start_time": "2024-06-30T21:02:00.244644",
   "version": "2.6.0"
  }
 },
 "nbformat": 4,
 "nbformat_minor": 5
}