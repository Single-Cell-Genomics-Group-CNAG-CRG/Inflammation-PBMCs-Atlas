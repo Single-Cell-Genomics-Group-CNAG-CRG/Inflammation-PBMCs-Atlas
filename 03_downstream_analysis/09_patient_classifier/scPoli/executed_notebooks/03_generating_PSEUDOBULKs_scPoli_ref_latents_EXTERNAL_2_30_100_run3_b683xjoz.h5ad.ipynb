{
 "cells": [
  {
   "cell_type": "code",
   "execution_count": 1,
   "id": "ec9e7b7c",
   "metadata": {
    "execution": {
     "iopub.execute_input": "2024-06-30T20:59:35.321342Z",
     "iopub.status.busy": "2024-06-30T20:59:35.320914Z",
     "iopub.status.idle": "2024-06-30T20:59:35.323496Z",
     "shell.execute_reply": "2024-06-30T20:59:35.323134Z"
    },
    "papermill": {
     "duration": 0.010533,
     "end_time": "2024-06-30T20:59:35.324348",
     "exception": false,
     "start_time": "2024-06-30T20:59:35.313815",
     "status": "completed"
    },
    "tags": [
     "injected-parameters"
    ]
   },
   "outputs": [],
   "source": [
    "# Parameters\n",
    "adataPATH = \"03_downstream_analysis/08_PatientClassifier/scPoli/results/scPoli_ref_latents_EXTERNAL_2_30_100_run3_b683xjoz.h5ad\"\n"
   ]
  },
  {
   "cell_type": "raw",
   "id": "bf9880bd-3aef-477b-807d-37e3c5603037",
   "metadata": {
    "execution": {
     "iopub.execute_input": "2024-06-29T08:23:25.403219Z",
     "iopub.status.busy": "2024-06-29T08:23:25.402857Z",
     "iopub.status.idle": "2024-06-29T08:23:25.406428Z",
     "shell.execute_reply": "2024-06-29T08:23:25.406014Z",
     "shell.execute_reply.started": "2024-06-29T08:23:25.403185Z"
    },
    "papermill": {
     "duration": 0.004891,
     "end_time": "2024-06-30T20:59:35.334349",
     "exception": false,
     "start_time": "2024-06-30T20:59:35.329458",
     "status": "completed"
    },
    "tags": [],
    "vscode": {
     "languageId": "raw"
    }
   },
   "source": [
    "adataMAINpath = '03_downstream_analysis/08_PatientClassifier/scPoli/results/scPoli_2_100_20_*.h5ad'\n",
    "\n",
    "adataVALpath = '03_downstream_analysis/08_PatientClassifier/scPoli/results/scPoli_VALIDATION_2_20_20*.h5ad'\n",
    "adataEXCpath = '03_downstream_analysis/08_PatientClassifier/scPoli/results/scPoli_EXCLUDED_2_100_20_run1_pd5nyb4g.h5ad'\n",
    "adataEXTpath = '03_downstream_analysis/08_PatientClassifier/scPoli/results/scPoli_EXTERNAL_2_100_20_run1_pd5nyb4g.h5ad'\n",
    "\n",
    "adataPATH = adataVALpath"
   ]
  },
  {
   "cell_type": "code",
   "execution_count": 2,
   "id": "d3ccb10a-7201-43d0-a593-2b4650ff3451",
   "metadata": {
    "execution": {
     "iopub.execute_input": "2024-06-30T20:59:35.346267Z",
     "iopub.status.busy": "2024-06-30T20:59:35.345991Z",
     "iopub.status.idle": "2024-06-30T20:59:35.348943Z",
     "shell.execute_reply": "2024-06-30T20:59:35.348575Z"
    },
    "papermill": {
     "duration": 0.009435,
     "end_time": "2024-06-30T20:59:35.349749",
     "exception": false,
     "start_time": "2024-06-30T20:59:35.340314",
     "status": "completed"
    },
    "tags": []
   },
   "outputs": [
    {
     "name": "stdout",
     "output_type": "stream",
     "text": [
      "adataPATH = 03_downstream_analysis/08_PatientClassifier/scPoli/results/scPoli_ref_latents_EXTERNAL_2_30_100_run3_b683xjoz.h5ad\n"
     ]
    }
   ],
   "source": [
    "for v in ['adataPATH']:\n",
    "    if v in locals() or v in globals():\n",
    "        print(f\"{v} = {eval(v)}\")\n",
    "    else:\n",
    "        raise Exception(f\"{v} not specified\")"
   ]
  },
  {
   "cell_type": "code",
   "execution_count": 3,
   "id": "888fb5f4-9ab7-4196-a282-7a7e92a43971",
   "metadata": {
    "execution": {
     "iopub.execute_input": "2024-06-30T20:59:35.361253Z",
     "iopub.status.busy": "2024-06-30T20:59:35.360911Z",
     "iopub.status.idle": "2024-06-30T20:59:37.004755Z",
     "shell.execute_reply": "2024-06-30T20:59:37.004253Z"
    },
    "papermill": {
     "duration": 1.650919,
     "end_time": "2024-06-30T20:59:37.005678",
     "exception": false,
     "start_time": "2024-06-30T20:59:35.354759",
     "status": "completed"
    },
    "tags": []
   },
   "outputs": [],
   "source": [
    "import os\n",
    "import sys\n",
    "from glob import glob\n",
    "\n",
    "import scanpy as sc\n",
    "import pandas as pd\n",
    "\n",
    "from pyprojroot import here\n",
    "\n",
    "sys.path.insert(1, str(here('bin')))\n",
    "# Import custom functions\n",
    "from customPythonFunctions import aggregating_features"
   ]
  },
  {
   "cell_type": "markdown",
   "id": "ba4905ae-4546-4ef4-b57b-950441ab079d",
   "metadata": {
    "papermill": {
     "duration": 0.004989,
     "end_time": "2024-06-30T20:59:37.016144",
     "exception": false,
     "start_time": "2024-06-30T20:59:37.011155",
     "status": "completed"
    },
    "tags": []
   },
   "source": [
    "### Loading data"
   ]
  },
  {
   "cell_type": "code",
   "execution_count": 4,
   "id": "539cbbbb-3503-4f51-bf04-f007f928ebd1",
   "metadata": {
    "execution": {
     "iopub.execute_input": "2024-06-30T20:59:37.032654Z",
     "iopub.status.busy": "2024-06-30T20:59:37.031950Z",
     "iopub.status.idle": "2024-06-30T20:59:37.036239Z",
     "shell.execute_reply": "2024-06-30T20:59:37.035839Z"
    },
    "papermill": {
     "duration": 0.015974,
     "end_time": "2024-06-30T20:59:37.037065",
     "exception": false,
     "start_time": "2024-06-30T20:59:37.021091",
     "status": "completed"
    },
    "tags": []
   },
   "outputs": [],
   "source": [
    "adataPATHlist = glob(str(here(adataPATH)))\n",
    "assert(len(adataPATHlist) == 1)"
   ]
  },
  {
   "cell_type": "code",
   "execution_count": 5,
   "id": "0fcfce0a-896b-4dc0-8e5e-46749205c84f",
   "metadata": {
    "execution": {
     "iopub.execute_input": "2024-06-30T20:59:37.052740Z",
     "iopub.status.busy": "2024-06-30T20:59:37.052380Z",
     "iopub.status.idle": "2024-06-30T20:59:45.175690Z",
     "shell.execute_reply": "2024-06-30T20:59:45.175238Z"
    },
    "papermill": {
     "duration": 8.134539,
     "end_time": "2024-06-30T20:59:45.176595",
     "exception": false,
     "start_time": "2024-06-30T20:59:37.042056",
     "status": "completed"
    },
    "tags": []
   },
   "outputs": [
    {
     "data": {
      "text/plain": [
       "AnnData object with n_obs × n_vars = 4435922 × 30\n",
       "    obs: 'studyID', 'libraryID', 'sampleID', 'chemistry', 'disease', 'sex', 'binned_age', 'Level1', 'Level2'\n",
       "    uns: 'chemistry', 'sampleID'"
      ]
     },
     "execution_count": 5,
     "metadata": {},
     "output_type": "execute_result"
    }
   ],
   "source": [
    "adata = sc.read_h5ad(adataPATHlist[0])\n",
    "adata"
   ]
  },
  {
   "cell_type": "markdown",
   "id": "44e868b3-0771-4225-bd79-a4b179bc672b",
   "metadata": {
    "papermill": {
     "duration": 0.004972,
     "end_time": "2024-06-30T20:59:45.187492",
     "exception": false,
     "start_time": "2024-06-30T20:59:45.182520",
     "status": "completed"
    },
    "tags": []
   },
   "source": [
    "#### Generating PSEUDOBULKs"
   ]
  },
  {
   "cell_type": "markdown",
   "id": "97d09fc5-d05c-471e-87fa-fe58ccbe47ac",
   "metadata": {
    "papermill": {
     "duration": 0.004839,
     "end_time": "2024-06-30T20:59:45.197351",
     "exception": false,
     "start_time": "2024-06-30T20:59:45.192512",
     "status": "completed"
    },
    "tags": []
   },
   "source": [
    "**Aggregating cell latent features**"
   ]
  },
  {
   "cell_type": "code",
   "execution_count": 6,
   "id": "81223976-fcf6-4354-8964-b12d76468636",
   "metadata": {
    "execution": {
     "iopub.execute_input": "2024-06-30T20:59:45.208600Z",
     "iopub.status.busy": "2024-06-30T20:59:45.208145Z",
     "iopub.status.idle": "2024-06-30T20:59:46.978235Z",
     "shell.execute_reply": "2024-06-30T20:59:46.977772Z"
    },
    "papermill": {
     "duration": 1.776691,
     "end_time": "2024-06-30T20:59:46.979044",
     "exception": false,
     "start_time": "2024-06-30T20:59:45.202353",
     "status": "completed"
    },
    "tags": []
   },
   "outputs": [
    {
     "data": {
      "text/plain": [
       "AnnData object with n_obs × n_vars = 11372 × 30\n",
       "    obs: 'sampleID', 'Level1', 'disease', 'n_observation'"
      ]
     },
     "execution_count": 6,
     "metadata": {},
     "output_type": "execute_result"
    }
   ],
   "source": [
    "adataPBcell = aggregating_features(Z = adata.X, \n",
    "                             obsDF = adata.obs[['sampleID','Level1','disease']], \n",
    "                             mode = 'mean', \n",
    "                             obs_names_col=['sampleID','Level1'], \n",
    "                             min_observation=0)\n",
    "adataPBcell"
   ]
  },
  {
   "cell_type": "code",
   "execution_count": null,
   "id": "8495038e-aebd-4003-bd94-c1e49f47249e",
   "metadata": {
    "papermill": {
     "duration": 0.005749,
     "end_time": "2024-06-30T20:59:46.990840",
     "exception": false,
     "start_time": "2024-06-30T20:59:46.985091",
     "status": "completed"
    },
    "tags": []
   },
   "outputs": [],
   "source": []
  },
  {
   "cell_type": "markdown",
   "id": "6d602bad-4793-4aa4-b3d7-d118d413a0fc",
   "metadata": {
    "papermill": {
     "duration": 0.00508,
     "end_time": "2024-06-30T20:59:47.001793",
     "exception": false,
     "start_time": "2024-06-30T20:59:46.996713",
     "status": "completed"
    },
    "tags": []
   },
   "source": [
    "**Extracting sample embedding**"
   ]
  },
  {
   "cell_type": "code",
   "execution_count": 7,
   "id": "e2c14f02",
   "metadata": {
    "execution": {
     "iopub.execute_input": "2024-06-30T20:59:47.013265Z",
     "iopub.status.busy": "2024-06-30T20:59:47.012842Z",
     "iopub.status.idle": "2024-06-30T20:59:47.023636Z",
     "shell.execute_reply": "2024-06-30T20:59:47.023194Z"
    },
    "papermill": {
     "duration": 0.017602,
     "end_time": "2024-06-30T20:59:47.024460",
     "exception": false,
     "start_time": "2024-06-30T20:59:47.006858",
     "status": "completed"
    },
    "tags": []
   },
   "outputs": [
    {
     "data": {
      "text/plain": [
       "AnnData object with n_obs × n_vars = 817 × 100\n",
       "    obs: 'sampleID', 'disease', 'Level1'"
      ]
     },
     "execution_count": 7,
     "metadata": {},
     "output_type": "execute_result"
    }
   ],
   "source": [
    "adataPBsample = adata.uns['sampleID'].copy()\n",
    "adataPBsample.obs['sampleID'] = adataPBsample.obs.index\n",
    "adataPBsample = adataPBsample[adataPBsample.obs['sampleID'].isin(adataPBcell.obs['sampleID'])]\n",
    "\n",
    "adataPBsample.obs = adataPBsample.obs.merge(adataPBcell.obs.groupby('sampleID').agg({'disease':'first'}), left_index=True, right_index=True)\n",
    "adataPBsample.obs['Level1'] = 'sample'\n",
    "adataPBsample"
   ]
  },
  {
   "cell_type": "markdown",
   "id": "2d4fe137-7d68-4e86-a85c-3c1a3d3c4c71",
   "metadata": {
    "papermill": {
     "duration": 0.011619,
     "end_time": "2024-06-30T20:59:47.041108",
     "exception": false,
     "start_time": "2024-06-30T20:59:47.029489",
     "status": "completed"
    },
    "tags": []
   },
   "source": [
    "**Merging cell and patient latent features**"
   ]
  },
  {
   "cell_type": "code",
   "execution_count": 8,
   "id": "a326d2b1",
   "metadata": {
    "execution": {
     "iopub.execute_input": "2024-06-30T20:59:47.053431Z",
     "iopub.status.busy": "2024-06-30T20:59:47.052992Z",
     "iopub.status.idle": "2024-06-30T20:59:47.056191Z",
     "shell.execute_reply": "2024-06-30T20:59:47.055781Z"
    },
    "papermill": {
     "duration": 0.010258,
     "end_time": "2024-06-30T20:59:47.056991",
     "exception": false,
     "start_time": "2024-06-30T20:59:47.046733",
     "status": "completed"
    },
    "tags": []
   },
   "outputs": [],
   "source": [
    "PBcellDF = adataPBcell.to_df()\n",
    "PBcellDF['sampleID'] = adataPBcell.obs['sampleID']"
   ]
  },
  {
   "cell_type": "code",
   "execution_count": 9,
   "id": "1a597f46-d9c5-403b-b81e-5738ca206682",
   "metadata": {
    "execution": {
     "iopub.execute_input": "2024-06-30T20:59:47.068363Z",
     "iopub.status.busy": "2024-06-30T20:59:47.067980Z",
     "iopub.status.idle": "2024-06-30T20:59:47.070869Z",
     "shell.execute_reply": "2024-06-30T20:59:47.070482Z"
    },
    "papermill": {
     "duration": 0.009501,
     "end_time": "2024-06-30T20:59:47.071637",
     "exception": false,
     "start_time": "2024-06-30T20:59:47.062136",
     "status": "completed"
    },
    "tags": []
   },
   "outputs": [],
   "source": [
    "PBsampleDF = adataPBsample.to_df()\n",
    "PBsampleDF['sampleID'] = adataPBsample.obs['sampleID']"
   ]
  },
  {
   "cell_type": "code",
   "execution_count": 10,
   "id": "bb384751-fe1b-4635-a90d-fd98ae61b173",
   "metadata": {
    "execution": {
     "iopub.execute_input": "2024-06-30T20:59:47.084310Z",
     "iopub.status.busy": "2024-06-30T20:59:47.083836Z",
     "iopub.status.idle": "2024-06-30T20:59:47.092682Z",
     "shell.execute_reply": "2024-06-30T20:59:47.092141Z"
    },
    "papermill": {
     "duration": 0.015744,
     "end_time": "2024-06-30T20:59:47.093471",
     "exception": false,
     "start_time": "2024-06-30T20:59:47.077727",
     "status": "completed"
    },
    "tags": []
   },
   "outputs": [],
   "source": [
    "PBcell_sampleDF = PBcellDF.merge(PBsampleDF, on='sampleID', how='left')"
   ]
  },
  {
   "cell_type": "code",
   "execution_count": 11,
   "id": "f7250713-e24d-4614-9cbd-eed702340640",
   "metadata": {
    "execution": {
     "iopub.execute_input": "2024-06-30T20:59:47.107293Z",
     "iopub.status.busy": "2024-06-30T20:59:47.106936Z",
     "iopub.status.idle": "2024-06-30T20:59:47.109892Z",
     "shell.execute_reply": "2024-06-30T20:59:47.109489Z"
    },
    "papermill": {
     "duration": 0.010668,
     "end_time": "2024-06-30T20:59:47.110655",
     "exception": false,
     "start_time": "2024-06-30T20:59:47.099987",
     "status": "completed"
    },
    "tags": []
   },
   "outputs": [],
   "source": [
    "assert(adataPBcell.obs['sampleID'].tolist() == PBcell_sampleDF['sampleID'].tolist())"
   ]
  },
  {
   "cell_type": "code",
   "execution_count": 12,
   "id": "abea2252-6a12-4b89-9f0d-6d6df90064fb",
   "metadata": {
    "execution": {
     "iopub.execute_input": "2024-06-30T20:59:47.122418Z",
     "iopub.status.busy": "2024-06-30T20:59:47.122090Z",
     "iopub.status.idle": "2024-06-30T20:59:47.125765Z",
     "shell.execute_reply": "2024-06-30T20:59:47.125286Z"
    },
    "papermill": {
     "duration": 0.010416,
     "end_time": "2024-06-30T20:59:47.126533",
     "exception": false,
     "start_time": "2024-06-30T20:59:47.116117",
     "status": "completed"
    },
    "tags": []
   },
   "outputs": [],
   "source": [
    "PBcell_sampleDF.drop('sampleID', axis=1, inplace=True)"
   ]
  },
  {
   "cell_type": "code",
   "execution_count": 13,
   "id": "5502e45d-5c72-4440-a8c1-5b299cac6e2d",
   "metadata": {
    "execution": {
     "iopub.execute_input": "2024-06-30T20:59:47.138548Z",
     "iopub.status.busy": "2024-06-30T20:59:47.138206Z",
     "iopub.status.idle": "2024-06-30T20:59:47.143045Z",
     "shell.execute_reply": "2024-06-30T20:59:47.142621Z"
    },
    "papermill": {
     "duration": 0.011443,
     "end_time": "2024-06-30T20:59:47.143818",
     "exception": false,
     "start_time": "2024-06-30T20:59:47.132375",
     "status": "completed"
    },
    "tags": []
   },
   "outputs": [
    {
     "data": {
      "text/plain": [
       "AnnData object with n_obs × n_vars = 11372 × 130\n",
       "    obs: 'sampleID', 'Level1', 'disease', 'n_observation'"
      ]
     },
     "execution_count": 13,
     "metadata": {},
     "output_type": "execute_result"
    }
   ],
   "source": [
    "adataPBcell_sample = sc.AnnData(X = PBcell_sampleDF, obs = adataPBcell.obs)\n",
    "adataPBcell_sample"
   ]
  },
  {
   "cell_type": "markdown",
   "id": "d59574be-684b-4082-b8b6-7d11930362ad",
   "metadata": {
    "papermill": {
     "duration": 0.005404,
     "end_time": "2024-06-30T20:59:47.154734",
     "exception": false,
     "start_time": "2024-06-30T20:59:47.149330",
     "status": "completed"
    },
    "tags": []
   },
   "source": [
    "### Saving pseudobulk adata objects"
   ]
  },
  {
   "cell_type": "code",
   "execution_count": 14,
   "id": "5947e6f8-ac27-4702-ba5d-aa9e1ba79f6a",
   "metadata": {
    "execution": {
     "iopub.execute_input": "2024-06-30T20:59:47.171790Z",
     "iopub.status.busy": "2024-06-30T20:59:47.171425Z",
     "iopub.status.idle": "2024-06-30T20:59:47.258751Z",
     "shell.execute_reply": "2024-06-30T20:59:47.258255Z"
    },
    "papermill": {
     "duration": 0.094456,
     "end_time": "2024-06-30T20:59:47.259603",
     "exception": false,
     "start_time": "2024-06-30T20:59:47.165147",
     "status": "completed"
    },
    "tags": []
   },
   "outputs": [],
   "source": [
    "adataPBcell.write(here(adataPATHlist[0].replace('/scPoli_','/PSEUDOBULKs/scPoli_PSEUDOBULKcell_')), compression='gzip')"
   ]
  },
  {
   "cell_type": "code",
   "execution_count": 15,
   "id": "e9485945-bccf-419a-9420-c1e4f3aa262d",
   "metadata": {
    "execution": {
     "iopub.execute_input": "2024-06-30T20:59:47.274473Z",
     "iopub.status.busy": "2024-06-30T20:59:47.274039Z",
     "iopub.status.idle": "2024-06-30T20:59:47.305165Z",
     "shell.execute_reply": "2024-06-30T20:59:47.304655Z"
    },
    "papermill": {
     "duration": 0.040595,
     "end_time": "2024-06-30T20:59:47.305981",
     "exception": false,
     "start_time": "2024-06-30T20:59:47.265386",
     "status": "completed"
    },
    "tags": []
   },
   "outputs": [],
   "source": [
    "adataPBsample.write(here(adataPATHlist[0].replace('/scPoli_','/PSEUDOBULKs/scPoli_PSEUDOBULKsample_')), compression='gzip')"
   ]
  },
  {
   "cell_type": "code",
   "execution_count": 16,
   "id": "9c2daa40-3279-4b24-8aad-65ee0ba758c8",
   "metadata": {
    "execution": {
     "iopub.execute_input": "2024-06-30T20:59:47.319071Z",
     "iopub.status.busy": "2024-06-30T20:59:47.318700Z",
     "iopub.status.idle": "2024-06-30T20:59:47.444286Z",
     "shell.execute_reply": "2024-06-30T20:59:47.443733Z"
    },
    "papermill": {
     "duration": 0.132822,
     "end_time": "2024-06-30T20:59:47.445408",
     "exception": false,
     "start_time": "2024-06-30T20:59:47.312586",
     "status": "completed"
    },
    "tags": []
   },
   "outputs": [],
   "source": [
    "adataPBcell_sample.write(here(adataPATHlist[0].replace('/scPoli_','/PSEUDOBULKs/scPoli_PSEUDOBULKcellSample_')), compression='gzip')"
   ]
  },
  {
   "cell_type": "code",
   "execution_count": null,
   "id": "8a70d9f6-7a44-45ee-8470-702bd7af1e0b",
   "metadata": {
    "papermill": {
     "duration": 0.0062,
     "end_time": "2024-06-30T20:59:47.463440",
     "exception": false,
     "start_time": "2024-06-30T20:59:47.457240",
     "status": "completed"
    },
    "tags": []
   },
   "outputs": [],
   "source": []
  }
 ],
 "metadata": {
  "kernelspec": {
   "display_name": "Python 3 (ipykernel)",
   "language": "python",
   "name": "python3"
  },
  "language_info": {
   "codemirror_mode": {
    "name": "ipython",
    "version": 3
   },
   "file_extension": ".py",
   "mimetype": "text/x-python",
   "name": "python",
   "nbconvert_exporter": "python",
   "pygments_lexer": "ipython3",
   "version": "3.12.3"
  },
  "papermill": {
   "default_parameters": {},
   "duration": 13.90255,
   "end_time": "2024-06-30T20:59:48.084179",
   "environment_variables": {},
   "exception": null,
   "input_path": "03_generating_PSEUDOBULKs.ipynb",
   "output_path": "executed_notebooks/03_generating_PSEUDOBULKs_scPoli_ref_latents_EXTERNAL_2_30_100_run3_b683xjoz.h5ad.ipynb",
   "parameters": {
    "adataPATH": "03_downstream_analysis/08_PatientClassifier/scPoli/results/scPoli_ref_latents_EXTERNAL_2_30_100_run3_b683xjoz.h5ad"
   },
   "start_time": "2024-06-30T20:59:34.181629",
   "version": "2.6.0"
  }
 },
 "nbformat": 4,
 "nbformat_minor": 5
}