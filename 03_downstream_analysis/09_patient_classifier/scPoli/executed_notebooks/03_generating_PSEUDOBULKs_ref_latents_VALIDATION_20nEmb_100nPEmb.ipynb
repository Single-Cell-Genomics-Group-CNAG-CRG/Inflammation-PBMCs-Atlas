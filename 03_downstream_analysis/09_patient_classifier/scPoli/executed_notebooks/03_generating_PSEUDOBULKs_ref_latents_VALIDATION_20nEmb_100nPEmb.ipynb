{
 "cells": [
  {
   "cell_type": "code",
   "execution_count": 1,
   "id": "0ace9205",
   "metadata": {
    "execution": {
     "iopub.execute_input": "2024-06-30T20:56:06.020168Z",
     "iopub.status.busy": "2024-06-30T20:56:06.019830Z",
     "iopub.status.idle": "2024-06-30T20:56:06.022328Z",
     "shell.execute_reply": "2024-06-30T20:56:06.021978Z"
    },
    "papermill": {
     "duration": 0.010328,
     "end_time": "2024-06-30T20:56:06.023154",
     "exception": false,
     "start_time": "2024-06-30T20:56:06.012826",
     "status": "completed"
    },
    "tags": [
     "injected-parameters"
    ]
   },
   "outputs": [],
   "source": [
    "# Parameters\n",
    "adataPATH = \"03_downstream_analysis/08_PatientClassifier/scPoli/results/scPoli_ref_latents_VALIDATION_2_20_100_*.h5ad\"\n"
   ]
  },
  {
   "cell_type": "raw",
   "id": "bf9880bd-3aef-477b-807d-37e3c5603037",
   "metadata": {
    "execution": {
     "iopub.execute_input": "2024-06-29T08:23:25.403219Z",
     "iopub.status.busy": "2024-06-29T08:23:25.402857Z",
     "iopub.status.idle": "2024-06-29T08:23:25.406428Z",
     "shell.execute_reply": "2024-06-29T08:23:25.406014Z",
     "shell.execute_reply.started": "2024-06-29T08:23:25.403185Z"
    },
    "papermill": {
     "duration": 0.004941,
     "end_time": "2024-06-30T20:56:06.033527",
     "exception": false,
     "start_time": "2024-06-30T20:56:06.028586",
     "status": "completed"
    },
    "tags": [],
    "vscode": {
     "languageId": "raw"
    }
   },
   "source": [
    "adataMAINpath = '03_downstream_analysis/08_PatientClassifier/scPoli/results/scPoli_2_100_20_*.h5ad'\n",
    "\n",
    "adataVALpath = '03_downstream_analysis/08_PatientClassifier/scPoli/results/scPoli_VALIDATION_2_20_20*.h5ad'\n",
    "adataEXCpath = '03_downstream_analysis/08_PatientClassifier/scPoli/results/scPoli_EXCLUDED_2_100_20_run1_pd5nyb4g.h5ad'\n",
    "adataEXTpath = '03_downstream_analysis/08_PatientClassifier/scPoli/results/scPoli_EXTERNAL_2_100_20_run1_pd5nyb4g.h5ad'\n",
    "\n",
    "adataPATH = adataVALpath"
   ]
  },
  {
   "cell_type": "code",
   "execution_count": 2,
   "id": "d3ccb10a-7201-43d0-a593-2b4650ff3451",
   "metadata": {
    "execution": {
     "iopub.execute_input": "2024-06-30T20:56:06.044502Z",
     "iopub.status.busy": "2024-06-30T20:56:06.044076Z",
     "iopub.status.idle": "2024-06-30T20:56:06.046988Z",
     "shell.execute_reply": "2024-06-30T20:56:06.046631Z"
    },
    "papermill": {
     "duration": 0.009173,
     "end_time": "2024-06-30T20:56:06.047776",
     "exception": false,
     "start_time": "2024-06-30T20:56:06.038603",
     "status": "completed"
    },
    "tags": []
   },
   "outputs": [
    {
     "name": "stdout",
     "output_type": "stream",
     "text": [
      "adataPATH = 03_downstream_analysis/08_PatientClassifier/scPoli/results/scPoli_ref_latents_VALIDATION_2_20_100_*.h5ad\n"
     ]
    }
   ],
   "source": [
    "for v in ['adataPATH']:\n",
    "    if v in locals() or v in globals():\n",
    "        print(f\"{v} = {eval(v)}\")\n",
    "    else:\n",
    "        raise Exception(f\"{v} not specified\")"
   ]
  },
  {
   "cell_type": "code",
   "execution_count": 3,
   "id": "888fb5f4-9ab7-4196-a282-7a7e92a43971",
   "metadata": {
    "execution": {
     "iopub.execute_input": "2024-06-30T20:56:06.058888Z",
     "iopub.status.busy": "2024-06-30T20:56:06.058638Z",
     "iopub.status.idle": "2024-06-30T20:56:07.394500Z",
     "shell.execute_reply": "2024-06-30T20:56:07.394010Z"
    },
    "papermill": {
     "duration": 1.342484,
     "end_time": "2024-06-30T20:56:07.395380",
     "exception": false,
     "start_time": "2024-06-30T20:56:06.052896",
     "status": "completed"
    },
    "tags": []
   },
   "outputs": [],
   "source": [
    "import os\n",
    "import sys\n",
    "from glob import glob\n",
    "\n",
    "import scanpy as sc\n",
    "import pandas as pd\n",
    "\n",
    "from pyprojroot import here\n",
    "\n",
    "sys.path.insert(1, str(here('bin')))\n",
    "# Import custom functions\n",
    "from customPythonFunctions import aggregating_features"
   ]
  },
  {
   "cell_type": "markdown",
   "id": "ba4905ae-4546-4ef4-b57b-950441ab079d",
   "metadata": {
    "papermill": {
     "duration": 0.005002,
     "end_time": "2024-06-30T20:56:07.406249",
     "exception": false,
     "start_time": "2024-06-30T20:56:07.401247",
     "status": "completed"
    },
    "tags": []
   },
   "source": [
    "### Loading data"
   ]
  },
  {
   "cell_type": "code",
   "execution_count": 4,
   "id": "539cbbbb-3503-4f51-bf04-f007f928ebd1",
   "metadata": {
    "execution": {
     "iopub.execute_input": "2024-06-30T20:56:07.417294Z",
     "iopub.status.busy": "2024-06-30T20:56:07.416933Z",
     "iopub.status.idle": "2024-06-30T20:56:07.421021Z",
     "shell.execute_reply": "2024-06-30T20:56:07.420661Z"
    },
    "papermill": {
     "duration": 0.010356,
     "end_time": "2024-06-30T20:56:07.421825",
     "exception": false,
     "start_time": "2024-06-30T20:56:07.411469",
     "status": "completed"
    },
    "tags": []
   },
   "outputs": [],
   "source": [
    "adataPATHlist = glob(str(here(adataPATH)))\n",
    "assert(len(adataPATHlist) == 1)"
   ]
  },
  {
   "cell_type": "code",
   "execution_count": 5,
   "id": "0fcfce0a-896b-4dc0-8e5e-46749205c84f",
   "metadata": {
    "execution": {
     "iopub.execute_input": "2024-06-30T20:56:07.432715Z",
     "iopub.status.busy": "2024-06-30T20:56:07.432444Z",
     "iopub.status.idle": "2024-06-30T20:56:14.472103Z",
     "shell.execute_reply": "2024-06-30T20:56:14.471675Z"
    },
    "papermill": {
     "duration": 7.045951,
     "end_time": "2024-06-30T20:56:14.472991",
     "exception": false,
     "start_time": "2024-06-30T20:56:07.427040",
     "status": "completed"
    },
    "tags": []
   },
   "outputs": [
    {
     "data": {
      "text/plain": [
       "AnnData object with n_obs × n_vars = 4435922 × 20\n",
       "    obs: 'studyID', 'libraryID', 'sampleID', 'chemistry', 'disease', 'sex', 'binned_age', 'Level1', 'Level2'\n",
       "    uns: 'chemistry', 'sampleID'"
      ]
     },
     "execution_count": 5,
     "metadata": {},
     "output_type": "execute_result"
    }
   ],
   "source": [
    "adata = sc.read_h5ad(adataPATHlist[0])\n",
    "adata"
   ]
  },
  {
   "cell_type": "markdown",
   "id": "44e868b3-0771-4225-bd79-a4b179bc672b",
   "metadata": {
    "papermill": {
     "duration": 0.00523,
     "end_time": "2024-06-30T20:56:14.484655",
     "exception": false,
     "start_time": "2024-06-30T20:56:14.479425",
     "status": "completed"
    },
    "tags": []
   },
   "source": [
    "#### Generating PSEUDOBULKs"
   ]
  },
  {
   "cell_type": "markdown",
   "id": "97d09fc5-d05c-471e-87fa-fe58ccbe47ac",
   "metadata": {
    "papermill": {
     "duration": 0.005701,
     "end_time": "2024-06-30T20:56:14.495317",
     "exception": false,
     "start_time": "2024-06-30T20:56:14.489616",
     "status": "completed"
    },
    "tags": []
   },
   "source": [
    "**Aggregating cell latent features**"
   ]
  },
  {
   "cell_type": "code",
   "execution_count": 6,
   "id": "81223976-fcf6-4354-8964-b12d76468636",
   "metadata": {
    "execution": {
     "iopub.execute_input": "2024-06-30T20:56:14.506650Z",
     "iopub.status.busy": "2024-06-30T20:56:14.506398Z",
     "iopub.status.idle": "2024-06-30T20:56:16.207365Z",
     "shell.execute_reply": "2024-06-30T20:56:16.206900Z"
    },
    "papermill": {
     "duration": 1.707717,
     "end_time": "2024-06-30T20:56:16.208183",
     "exception": false,
     "start_time": "2024-06-30T20:56:14.500466",
     "status": "completed"
    },
    "tags": []
   },
   "outputs": [
    {
     "data": {
      "text/plain": [
       "AnnData object with n_obs × n_vars = 11372 × 20\n",
       "    obs: 'sampleID', 'Level1', 'disease', 'n_observation'"
      ]
     },
     "execution_count": 6,
     "metadata": {},
     "output_type": "execute_result"
    }
   ],
   "source": [
    "adataPBcell = aggregating_features(Z = adata.X, \n",
    "                             obsDF = adata.obs[['sampleID','Level1','disease']], \n",
    "                             mode = 'mean', \n",
    "                             obs_names_col=['sampleID','Level1'], \n",
    "                             min_observation=0)\n",
    "adataPBcell"
   ]
  },
  {
   "cell_type": "code",
   "execution_count": null,
   "id": "8495038e-aebd-4003-bd94-c1e49f47249e",
   "metadata": {
    "papermill": {
     "duration": 0.005403,
     "end_time": "2024-06-30T20:56:16.219670",
     "exception": false,
     "start_time": "2024-06-30T20:56:16.214267",
     "status": "completed"
    },
    "tags": []
   },
   "outputs": [],
   "source": []
  },
  {
   "cell_type": "markdown",
   "id": "6d602bad-4793-4aa4-b3d7-d118d413a0fc",
   "metadata": {
    "papermill": {
     "duration": 0.005424,
     "end_time": "2024-06-30T20:56:16.230859",
     "exception": false,
     "start_time": "2024-06-30T20:56:16.225435",
     "status": "completed"
    },
    "tags": []
   },
   "source": [
    "**Extracting sample embedding**"
   ]
  },
  {
   "cell_type": "code",
   "execution_count": 7,
   "id": "e2c14f02",
   "metadata": {
    "execution": {
     "iopub.execute_input": "2024-06-30T20:56:16.242402Z",
     "iopub.status.busy": "2024-06-30T20:56:16.242013Z",
     "iopub.status.idle": "2024-06-30T20:56:16.251797Z",
     "shell.execute_reply": "2024-06-30T20:56:16.251431Z"
    },
    "papermill": {
     "duration": 0.016435,
     "end_time": "2024-06-30T20:56:16.252602",
     "exception": false,
     "start_time": "2024-06-30T20:56:16.236167",
     "status": "completed"
    },
    "tags": []
   },
   "outputs": [
    {
     "data": {
      "text/plain": [
       "AnnData object with n_obs × n_vars = 817 × 100\n",
       "    obs: 'sampleID', 'disease', 'Level1'"
      ]
     },
     "execution_count": 7,
     "metadata": {},
     "output_type": "execute_result"
    }
   ],
   "source": [
    "adataPBsample = adata.uns['sampleID'].copy()\n",
    "adataPBsample.obs['sampleID'] = adataPBsample.obs.index\n",
    "adataPBsample = adataPBsample[adataPBsample.obs['sampleID'].isin(adataPBcell.obs['sampleID'])]\n",
    "\n",
    "adataPBsample.obs = adataPBsample.obs.merge(adataPBcell.obs.groupby('sampleID').agg({'disease':'first'}), left_index=True, right_index=True)\n",
    "adataPBsample.obs['Level1'] = 'sample'\n",
    "adataPBsample"
   ]
  },
  {
   "cell_type": "markdown",
   "id": "2d4fe137-7d68-4e86-a85c-3c1a3d3c4c71",
   "metadata": {
    "papermill": {
     "duration": 0.005652,
     "end_time": "2024-06-30T20:56:16.263833",
     "exception": false,
     "start_time": "2024-06-30T20:56:16.258181",
     "status": "completed"
    },
    "tags": []
   },
   "source": [
    "**Merging cell and patient latent features**"
   ]
  },
  {
   "cell_type": "code",
   "execution_count": 8,
   "id": "a326d2b1",
   "metadata": {
    "execution": {
     "iopub.execute_input": "2024-06-30T20:56:16.276065Z",
     "iopub.status.busy": "2024-06-30T20:56:16.275743Z",
     "iopub.status.idle": "2024-06-30T20:56:16.278120Z",
     "shell.execute_reply": "2024-06-30T20:56:16.277763Z"
    },
    "papermill": {
     "duration": 0.009085,
     "end_time": "2024-06-30T20:56:16.278887",
     "exception": false,
     "start_time": "2024-06-30T20:56:16.269802",
     "status": "completed"
    },
    "tags": []
   },
   "outputs": [],
   "source": [
    "PBcellDF = adataPBcell.to_df()\n",
    "PBcellDF['sampleID'] = adataPBcell.obs['sampleID']"
   ]
  },
  {
   "cell_type": "code",
   "execution_count": 9,
   "id": "1a597f46-d9c5-403b-b81e-5738ca206682",
   "metadata": {
    "execution": {
     "iopub.execute_input": "2024-06-30T20:56:16.302965Z",
     "iopub.status.busy": "2024-06-30T20:56:16.302659Z",
     "iopub.status.idle": "2024-06-30T20:56:16.305010Z",
     "shell.execute_reply": "2024-06-30T20:56:16.304663Z"
    },
    "papermill": {
     "duration": 0.017608,
     "end_time": "2024-06-30T20:56:16.305791",
     "exception": false,
     "start_time": "2024-06-30T20:56:16.288183",
     "status": "completed"
    },
    "tags": []
   },
   "outputs": [],
   "source": [
    "PBsampleDF = adataPBsample.to_df()\n",
    "PBsampleDF['sampleID'] = adataPBsample.obs['sampleID']"
   ]
  },
  {
   "cell_type": "code",
   "execution_count": 10,
   "id": "bb384751-fe1b-4635-a90d-fd98ae61b173",
   "metadata": {
    "execution": {
     "iopub.execute_input": "2024-06-30T20:56:16.319548Z",
     "iopub.status.busy": "2024-06-30T20:56:16.319311Z",
     "iopub.status.idle": "2024-06-30T20:56:16.327062Z",
     "shell.execute_reply": "2024-06-30T20:56:16.326619Z"
    },
    "papermill": {
     "duration": 0.016504,
     "end_time": "2024-06-30T20:56:16.327867",
     "exception": false,
     "start_time": "2024-06-30T20:56:16.311363",
     "status": "completed"
    },
    "tags": []
   },
   "outputs": [],
   "source": [
    "PBcell_sampleDF = PBcellDF.merge(PBsampleDF, on='sampleID', how='left')"
   ]
  },
  {
   "cell_type": "code",
   "execution_count": 11,
   "id": "f7250713-e24d-4614-9cbd-eed702340640",
   "metadata": {
    "execution": {
     "iopub.execute_input": "2024-06-30T20:56:16.339922Z",
     "iopub.status.busy": "2024-06-30T20:56:16.339611Z",
     "iopub.status.idle": "2024-06-30T20:56:16.342090Z",
     "shell.execute_reply": "2024-06-30T20:56:16.341727Z"
    },
    "papermill": {
     "duration": 0.009319,
     "end_time": "2024-06-30T20:56:16.342842",
     "exception": false,
     "start_time": "2024-06-30T20:56:16.333523",
     "status": "completed"
    },
    "tags": []
   },
   "outputs": [],
   "source": [
    "assert(adataPBcell.obs['sampleID'].tolist() == PBcell_sampleDF['sampleID'].tolist())"
   ]
  },
  {
   "cell_type": "code",
   "execution_count": 12,
   "id": "abea2252-6a12-4b89-9f0d-6d6df90064fb",
   "metadata": {
    "execution": {
     "iopub.execute_input": "2024-06-30T20:56:16.354523Z",
     "iopub.status.busy": "2024-06-30T20:56:16.354195Z",
     "iopub.status.idle": "2024-06-30T20:56:16.357217Z",
     "shell.execute_reply": "2024-06-30T20:56:16.356832Z"
    },
    "papermill": {
     "duration": 0.009752,
     "end_time": "2024-06-30T20:56:16.357985",
     "exception": false,
     "start_time": "2024-06-30T20:56:16.348233",
     "status": "completed"
    },
    "tags": []
   },
   "outputs": [],
   "source": [
    "PBcell_sampleDF.drop('sampleID', axis=1, inplace=True)"
   ]
  },
  {
   "cell_type": "code",
   "execution_count": 13,
   "id": "5502e45d-5c72-4440-a8c1-5b299cac6e2d",
   "metadata": {
    "execution": {
     "iopub.execute_input": "2024-06-30T20:56:16.369604Z",
     "iopub.status.busy": "2024-06-30T20:56:16.369294Z",
     "iopub.status.idle": "2024-06-30T20:56:16.373272Z",
     "shell.execute_reply": "2024-06-30T20:56:16.372902Z"
    },
    "papermill": {
     "duration": 0.010684,
     "end_time": "2024-06-30T20:56:16.374064",
     "exception": false,
     "start_time": "2024-06-30T20:56:16.363380",
     "status": "completed"
    },
    "tags": []
   },
   "outputs": [
    {
     "data": {
      "text/plain": [
       "AnnData object with n_obs × n_vars = 11372 × 120\n",
       "    obs: 'sampleID', 'Level1', 'disease', 'n_observation'"
      ]
     },
     "execution_count": 13,
     "metadata": {},
     "output_type": "execute_result"
    }
   ],
   "source": [
    "adataPBcell_sample = sc.AnnData(X = PBcell_sampleDF, obs = adataPBcell.obs)\n",
    "adataPBcell_sample"
   ]
  },
  {
   "cell_type": "markdown",
   "id": "d59574be-684b-4082-b8b6-7d11930362ad",
   "metadata": {
    "papermill": {
     "duration": 0.01048,
     "end_time": "2024-06-30T20:56:16.390302",
     "exception": false,
     "start_time": "2024-06-30T20:56:16.379822",
     "status": "completed"
    },
    "tags": []
   },
   "source": [
    "### Saving pseudobulk adata objects"
   ]
  },
  {
   "cell_type": "code",
   "execution_count": 14,
   "id": "5947e6f8-ac27-4702-ba5d-aa9e1ba79f6a",
   "metadata": {
    "execution": {
     "iopub.execute_input": "2024-06-30T20:56:16.412441Z",
     "iopub.status.busy": "2024-06-30T20:56:16.412075Z",
     "iopub.status.idle": "2024-06-30T20:56:16.488891Z",
     "shell.execute_reply": "2024-06-30T20:56:16.488444Z"
    },
    "papermill": {
     "duration": 0.093268,
     "end_time": "2024-06-30T20:56:16.489700",
     "exception": false,
     "start_time": "2024-06-30T20:56:16.396432",
     "status": "completed"
    },
    "tags": []
   },
   "outputs": [],
   "source": [
    "adataPBcell.write(here(adataPATHlist[0].replace('/scPoli_','/PSEUDOBULKs/scPoli_PSEUDOBULKcell_')), compression='gzip')"
   ]
  },
  {
   "cell_type": "code",
   "execution_count": 15,
   "id": "e9485945-bccf-419a-9420-c1e4f3aa262d",
   "metadata": {
    "execution": {
     "iopub.execute_input": "2024-06-30T20:56:16.509408Z",
     "iopub.status.busy": "2024-06-30T20:56:16.508929Z",
     "iopub.status.idle": "2024-06-30T20:56:16.548976Z",
     "shell.execute_reply": "2024-06-30T20:56:16.548594Z"
    },
    "papermill": {
     "duration": 0.047129,
     "end_time": "2024-06-30T20:56:16.549782",
     "exception": false,
     "start_time": "2024-06-30T20:56:16.502653",
     "status": "completed"
    },
    "tags": []
   },
   "outputs": [],
   "source": [
    "adataPBsample.write(here(adataPATHlist[0].replace('/scPoli_','/PSEUDOBULKs/scPoli_PSEUDOBULKsample_')), compression='gzip')"
   ]
  },
  {
   "cell_type": "code",
   "execution_count": 16,
   "id": "9c2daa40-3279-4b24-8aad-65ee0ba758c8",
   "metadata": {
    "execution": {
     "iopub.execute_input": "2024-06-30T20:56:16.561888Z",
     "iopub.status.busy": "2024-06-30T20:56:16.561617Z",
     "iopub.status.idle": "2024-06-30T20:56:16.670800Z",
     "shell.execute_reply": "2024-06-30T20:56:16.670334Z"
    },
    "papermill": {
     "duration": 0.115917,
     "end_time": "2024-06-30T20:56:16.671623",
     "exception": false,
     "start_time": "2024-06-30T20:56:16.555706",
     "status": "completed"
    },
    "tags": []
   },
   "outputs": [],
   "source": [
    "adataPBcell_sample.write(here(adataPATHlist[0].replace('/scPoli_','/PSEUDOBULKs/scPoli_PSEUDOBULKcellSample_')), compression='gzip')"
   ]
  },
  {
   "cell_type": "code",
   "execution_count": null,
   "id": "8a70d9f6-7a44-45ee-8470-702bd7af1e0b",
   "metadata": {
    "papermill": {
     "duration": 0.006149,
     "end_time": "2024-06-30T20:56:16.683781",
     "exception": false,
     "start_time": "2024-06-30T20:56:16.677632",
     "status": "completed"
    },
    "tags": []
   },
   "outputs": [],
   "source": []
  }
 ],
 "metadata": {
  "kernelspec": {
   "display_name": "Python 3 (ipykernel)",
   "language": "python",
   "name": "python3"
  },
  "language_info": {
   "codemirror_mode": {
    "name": "ipython",
    "version": 3
   },
   "file_extension": ".py",
   "mimetype": "text/x-python",
   "name": "python",
   "nbconvert_exporter": "python",
   "pygments_lexer": "ipython3",
   "version": "3.12.3"
  },
  "papermill": {
   "default_parameters": {},
   "duration": 12.470892,
   "end_time": "2024-06-30T20:56:17.304317",
   "environment_variables": {},
   "exception": null,
   "input_path": "03_generating_PSEUDOBULKs.ipynb",
   "output_path": "executed_notebooks/03_generating_PSEUDOBULKs_ref_latents_VALIDATION_20nEmb_100nPEmb.ipynb",
   "parameters": {
    "adataPATH": "03_downstream_analysis/08_PatientClassifier/scPoli/results/scPoli_ref_latents_VALIDATION_2_20_100_*.h5ad"
   },
   "start_time": "2024-06-30T20:56:04.833425",
   "version": "2.6.0"
  }
 },
 "nbformat": 4,
 "nbformat_minor": 5
}