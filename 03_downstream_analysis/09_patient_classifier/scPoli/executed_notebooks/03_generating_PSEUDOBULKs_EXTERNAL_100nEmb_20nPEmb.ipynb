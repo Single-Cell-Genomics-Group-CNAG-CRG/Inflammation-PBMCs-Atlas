{
 "cells": [
  {
   "cell_type": "code",
   "execution_count": 1,
   "id": "afc7adca",
   "metadata": {
    "execution": {
     "iopub.execute_input": "2024-06-30T20:55:51.972576Z",
     "iopub.status.busy": "2024-06-30T20:55:51.972183Z",
     "iopub.status.idle": "2024-06-30T20:55:51.974878Z",
     "shell.execute_reply": "2024-06-30T20:55:51.974486Z"
    },
    "papermill": {
     "duration": 0.010409,
     "end_time": "2024-06-30T20:55:51.975694",
     "exception": false,
     "start_time": "2024-06-30T20:55:51.965285",
     "status": "completed"
    },
    "tags": [
     "injected-parameters"
    ]
   },
   "outputs": [],
   "source": [
    "# Parameters\n",
    "adataPATH = \"03_downstream_analysis/08_PatientClassifier/scPoli/results/scPoli_EXTERNAL_2_100_20_*.h5ad\"\n"
   ]
  },
  {
   "cell_type": "raw",
   "id": "bf9880bd-3aef-477b-807d-37e3c5603037",
   "metadata": {
    "execution": {
     "iopub.execute_input": "2024-06-29T08:23:25.403219Z",
     "iopub.status.busy": "2024-06-29T08:23:25.402857Z",
     "iopub.status.idle": "2024-06-29T08:23:25.406428Z",
     "shell.execute_reply": "2024-06-29T08:23:25.406014Z",
     "shell.execute_reply.started": "2024-06-29T08:23:25.403185Z"
    },
    "papermill": {
     "duration": 0.004995,
     "end_time": "2024-06-30T20:55:51.986146",
     "exception": false,
     "start_time": "2024-06-30T20:55:51.981151",
     "status": "completed"
    },
    "tags": [],
    "vscode": {
     "languageId": "raw"
    }
   },
   "source": [
    "adataMAINpath = '03_downstream_analysis/08_PatientClassifier/scPoli/results/scPoli_2_100_20_*.h5ad'\n",
    "\n",
    "adataVALpath = '03_downstream_analysis/08_PatientClassifier/scPoli/results/scPoli_VALIDATION_2_20_20*.h5ad'\n",
    "adataEXCpath = '03_downstream_analysis/08_PatientClassifier/scPoli/results/scPoli_EXCLUDED_2_100_20_run1_pd5nyb4g.h5ad'\n",
    "adataEXTpath = '03_downstream_analysis/08_PatientClassifier/scPoli/results/scPoli_EXTERNAL_2_100_20_run1_pd5nyb4g.h5ad'\n",
    "\n",
    "adataPATH = adataVALpath"
   ]
  },
  {
   "cell_type": "code",
   "execution_count": 2,
   "id": "d3ccb10a-7201-43d0-a593-2b4650ff3451",
   "metadata": {
    "execution": {
     "iopub.execute_input": "2024-06-30T20:55:51.997144Z",
     "iopub.status.busy": "2024-06-30T20:55:51.996851Z",
     "iopub.status.idle": "2024-06-30T20:55:51.999808Z",
     "shell.execute_reply": "2024-06-30T20:55:51.999417Z"
    },
    "papermill": {
     "duration": 0.009158,
     "end_time": "2024-06-30T20:55:52.000617",
     "exception": false,
     "start_time": "2024-06-30T20:55:51.991459",
     "status": "completed"
    },
    "tags": []
   },
   "outputs": [
    {
     "name": "stdout",
     "output_type": "stream",
     "text": [
      "adataPATH = 03_downstream_analysis/08_PatientClassifier/scPoli/results/scPoli_EXTERNAL_2_100_20_*.h5ad\n"
     ]
    }
   ],
   "source": [
    "for v in ['adataPATH']:\n",
    "    if v in locals() or v in globals():\n",
    "        print(f\"{v} = {eval(v)}\")\n",
    "    else:\n",
    "        raise Exception(f\"{v} not specified\")"
   ]
  },
  {
   "cell_type": "code",
   "execution_count": 3,
   "id": "888fb5f4-9ab7-4196-a282-7a7e92a43971",
   "metadata": {
    "execution": {
     "iopub.execute_input": "2024-06-30T20:55:52.012458Z",
     "iopub.status.busy": "2024-06-30T20:55:52.012080Z",
     "iopub.status.idle": "2024-06-30T20:55:53.791525Z",
     "shell.execute_reply": "2024-06-30T20:55:53.791040Z"
    },
    "papermill": {
     "duration": 1.786073,
     "end_time": "2024-06-30T20:55:53.792463",
     "exception": false,
     "start_time": "2024-06-30T20:55:52.006390",
     "status": "completed"
    },
    "tags": []
   },
   "outputs": [],
   "source": [
    "import os\n",
    "import sys\n",
    "from glob import glob\n",
    "\n",
    "import scanpy as sc\n",
    "import pandas as pd\n",
    "\n",
    "from pyprojroot import here\n",
    "\n",
    "sys.path.insert(1, str(here('bin')))\n",
    "# Import custom functions\n",
    "from customPythonFunctions import aggregating_features"
   ]
  },
  {
   "cell_type": "markdown",
   "id": "ba4905ae-4546-4ef4-b57b-950441ab079d",
   "metadata": {
    "papermill": {
     "duration": 0.00515,
     "end_time": "2024-06-30T20:55:53.802976",
     "exception": false,
     "start_time": "2024-06-30T20:55:53.797826",
     "status": "completed"
    },
    "tags": []
   },
   "source": [
    "### Loading data"
   ]
  },
  {
   "cell_type": "code",
   "execution_count": 4,
   "id": "539cbbbb-3503-4f51-bf04-f007f928ebd1",
   "metadata": {
    "execution": {
     "iopub.execute_input": "2024-06-30T20:55:53.814011Z",
     "iopub.status.busy": "2024-06-30T20:55:53.813425Z",
     "iopub.status.idle": "2024-06-30T20:55:53.817574Z",
     "shell.execute_reply": "2024-06-30T20:55:53.817198Z"
    },
    "papermill": {
     "duration": 0.010341,
     "end_time": "2024-06-30T20:55:53.818351",
     "exception": false,
     "start_time": "2024-06-30T20:55:53.808010",
     "status": "completed"
    },
    "tags": []
   },
   "outputs": [],
   "source": [
    "adataPATHlist = glob(str(here(adataPATH)))\n",
    "assert(len(adataPATHlist) == 1)"
   ]
  },
  {
   "cell_type": "code",
   "execution_count": 5,
   "id": "0fcfce0a-896b-4dc0-8e5e-46749205c84f",
   "metadata": {
    "execution": {
     "iopub.execute_input": "2024-06-30T20:55:53.830634Z",
     "iopub.status.busy": "2024-06-30T20:55:53.830204Z",
     "iopub.status.idle": "2024-06-30T20:55:55.883006Z",
     "shell.execute_reply": "2024-06-30T20:55:55.882587Z"
    },
    "papermill": {
     "duration": 2.060296,
     "end_time": "2024-06-30T20:55:55.883806",
     "exception": false,
     "start_time": "2024-06-30T20:55:53.823510",
     "status": "completed"
    },
    "tags": []
   },
   "outputs": [
    {
     "data": {
      "text/plain": [
       "AnnData object with n_obs × n_vars = 572872 × 100\n",
       "    obs: 'studyID', 'libraryID', 'sampleID', 'chemistry', 'technology', 'disease', 'sex', 'binned_age', 'Level1', 'Level1_unc', 'Level2', 'Level2_unc'\n",
       "    uns: 'chemistry', 'sampleID'"
      ]
     },
     "execution_count": 5,
     "metadata": {},
     "output_type": "execute_result"
    }
   ],
   "source": [
    "adata = sc.read_h5ad(adataPATHlist[0])\n",
    "adata"
   ]
  },
  {
   "cell_type": "markdown",
   "id": "44e868b3-0771-4225-bd79-a4b179bc672b",
   "metadata": {
    "papermill": {
     "duration": 0.005064,
     "end_time": "2024-06-30T20:55:55.894699",
     "exception": false,
     "start_time": "2024-06-30T20:55:55.889635",
     "status": "completed"
    },
    "tags": []
   },
   "source": [
    "#### Generating PSEUDOBULKs"
   ]
  },
  {
   "cell_type": "markdown",
   "id": "97d09fc5-d05c-471e-87fa-fe58ccbe47ac",
   "metadata": {
    "papermill": {
     "duration": 0.004858,
     "end_time": "2024-06-30T20:55:55.904609",
     "exception": false,
     "start_time": "2024-06-30T20:55:55.899751",
     "status": "completed"
    },
    "tags": []
   },
   "source": [
    "**Aggregating cell latent features**"
   ]
  },
  {
   "cell_type": "code",
   "execution_count": 6,
   "id": "81223976-fcf6-4354-8964-b12d76468636",
   "metadata": {
    "execution": {
     "iopub.execute_input": "2024-06-30T20:55:55.915929Z",
     "iopub.status.busy": "2024-06-30T20:55:55.915464Z",
     "iopub.status.idle": "2024-06-30T20:55:56.255277Z",
     "shell.execute_reply": "2024-06-30T20:55:56.254836Z"
    },
    "papermill": {
     "duration": 0.346564,
     "end_time": "2024-06-30T20:55:56.256098",
     "exception": false,
     "start_time": "2024-06-30T20:55:55.909534",
     "status": "completed"
    },
    "tags": []
   },
   "outputs": [
    {
     "data": {
      "text/plain": [
       "AnnData object with n_obs × n_vars = 1267 × 100\n",
       "    obs: 'sampleID', 'Level1', 'disease', 'n_observation'"
      ]
     },
     "execution_count": 6,
     "metadata": {},
     "output_type": "execute_result"
    }
   ],
   "source": [
    "adataPBcell = aggregating_features(Z = adata.X, \n",
    "                             obsDF = adata.obs[['sampleID','Level1','disease']], \n",
    "                             mode = 'mean', \n",
    "                             obs_names_col=['sampleID','Level1'], \n",
    "                             min_observation=0)\n",
    "adataPBcell"
   ]
  },
  {
   "cell_type": "code",
   "execution_count": null,
   "id": "8495038e-aebd-4003-bd94-c1e49f47249e",
   "metadata": {
    "papermill": {
     "duration": 0.011348,
     "end_time": "2024-06-30T20:55:56.274652",
     "exception": false,
     "start_time": "2024-06-30T20:55:56.263304",
     "status": "completed"
    },
    "tags": []
   },
   "outputs": [],
   "source": []
  },
  {
   "cell_type": "markdown",
   "id": "6d602bad-4793-4aa4-b3d7-d118d413a0fc",
   "metadata": {
    "papermill": {
     "duration": 0.005157,
     "end_time": "2024-06-30T20:55:56.285958",
     "exception": false,
     "start_time": "2024-06-30T20:55:56.280801",
     "status": "completed"
    },
    "tags": []
   },
   "source": [
    "**Extracting sample embedding**"
   ]
  },
  {
   "cell_type": "code",
   "execution_count": 7,
   "id": "e2c14f02",
   "metadata": {
    "execution": {
     "iopub.execute_input": "2024-06-30T20:55:56.298197Z",
     "iopub.status.busy": "2024-06-30T20:55:56.298043Z",
     "iopub.status.idle": "2024-06-30T20:55:56.305951Z",
     "shell.execute_reply": "2024-06-30T20:55:56.305593Z"
    },
    "papermill": {
     "duration": 0.014984,
     "end_time": "2024-06-30T20:55:56.306801",
     "exception": false,
     "start_time": "2024-06-30T20:55:56.291817",
     "status": "completed"
    },
    "tags": []
   },
   "outputs": [
    {
     "data": {
      "text/plain": [
       "AnnData object with n_obs × n_vars = 86 × 20\n",
       "    obs: 'sampleID', 'disease', 'Level1'"
      ]
     },
     "execution_count": 7,
     "metadata": {},
     "output_type": "execute_result"
    }
   ],
   "source": [
    "adataPBsample = adata.uns['sampleID'].copy()\n",
    "adataPBsample.obs['sampleID'] = adataPBsample.obs.index\n",
    "adataPBsample = adataPBsample[adataPBsample.obs['sampleID'].isin(adataPBcell.obs['sampleID'])]\n",
    "\n",
    "adataPBsample.obs = adataPBsample.obs.merge(adataPBcell.obs.groupby('sampleID').agg({'disease':'first'}), left_index=True, right_index=True)\n",
    "adataPBsample.obs['Level1'] = 'sample'\n",
    "adataPBsample"
   ]
  },
  {
   "cell_type": "markdown",
   "id": "2d4fe137-7d68-4e86-a85c-3c1a3d3c4c71",
   "metadata": {
    "papermill": {
     "duration": 0.005724,
     "end_time": "2024-06-30T20:55:56.318209",
     "exception": false,
     "start_time": "2024-06-30T20:55:56.312485",
     "status": "completed"
    },
    "tags": []
   },
   "source": [
    "**Merging cell and patient latent features**"
   ]
  },
  {
   "cell_type": "code",
   "execution_count": 8,
   "id": "a326d2b1",
   "metadata": {
    "execution": {
     "iopub.execute_input": "2024-06-30T20:55:56.332195Z",
     "iopub.status.busy": "2024-06-30T20:55:56.331902Z",
     "iopub.status.idle": "2024-06-30T20:55:56.334333Z",
     "shell.execute_reply": "2024-06-30T20:55:56.333970Z"
    },
    "papermill": {
     "duration": 0.011302,
     "end_time": "2024-06-30T20:55:56.335125",
     "exception": false,
     "start_time": "2024-06-30T20:55:56.323823",
     "status": "completed"
    },
    "tags": []
   },
   "outputs": [],
   "source": [
    "PBcellDF = adataPBcell.to_df()\n",
    "PBcellDF['sampleID'] = adataPBcell.obs['sampleID']"
   ]
  },
  {
   "cell_type": "code",
   "execution_count": 9,
   "id": "1a597f46-d9c5-403b-b81e-5738ca206682",
   "metadata": {
    "execution": {
     "iopub.execute_input": "2024-06-30T20:55:56.347168Z",
     "iopub.status.busy": "2024-06-30T20:55:56.346878Z",
     "iopub.status.idle": "2024-06-30T20:55:56.349306Z",
     "shell.execute_reply": "2024-06-30T20:55:56.348935Z"
    },
    "papermill": {
     "duration": 0.009399,
     "end_time": "2024-06-30T20:55:56.350136",
     "exception": false,
     "start_time": "2024-06-30T20:55:56.340737",
     "status": "completed"
    },
    "tags": []
   },
   "outputs": [],
   "source": [
    "PBsampleDF = adataPBsample.to_df()\n",
    "PBsampleDF['sampleID'] = adataPBsample.obs['sampleID']"
   ]
  },
  {
   "cell_type": "code",
   "execution_count": 10,
   "id": "bb384751-fe1b-4635-a90d-fd98ae61b173",
   "metadata": {
    "execution": {
     "iopub.execute_input": "2024-06-30T20:55:56.362553Z",
     "iopub.status.busy": "2024-06-30T20:55:56.362279Z",
     "iopub.status.idle": "2024-06-30T20:55:56.366338Z",
     "shell.execute_reply": "2024-06-30T20:55:56.365955Z"
    },
    "papermill": {
     "duration": 0.011135,
     "end_time": "2024-06-30T20:55:56.367158",
     "exception": false,
     "start_time": "2024-06-30T20:55:56.356023",
     "status": "completed"
    },
    "tags": []
   },
   "outputs": [],
   "source": [
    "PBcell_sampleDF = PBcellDF.merge(PBsampleDF, on='sampleID', how='left')"
   ]
  },
  {
   "cell_type": "code",
   "execution_count": 11,
   "id": "f7250713-e24d-4614-9cbd-eed702340640",
   "metadata": {
    "execution": {
     "iopub.execute_input": "2024-06-30T20:55:56.380029Z",
     "iopub.status.busy": "2024-06-30T20:55:56.379896Z",
     "iopub.status.idle": "2024-06-30T20:55:56.382151Z",
     "shell.execute_reply": "2024-06-30T20:55:56.381794Z"
    },
    "papermill": {
     "duration": 0.009981,
     "end_time": "2024-06-30T20:55:56.382935",
     "exception": false,
     "start_time": "2024-06-30T20:55:56.372954",
     "status": "completed"
    },
    "tags": []
   },
   "outputs": [],
   "source": [
    "assert(adataPBcell.obs['sampleID'].tolist() == PBcell_sampleDF['sampleID'].tolist())"
   ]
  },
  {
   "cell_type": "code",
   "execution_count": 12,
   "id": "abea2252-6a12-4b89-9f0d-6d6df90064fb",
   "metadata": {
    "execution": {
     "iopub.execute_input": "2024-06-30T20:55:56.414059Z",
     "iopub.status.busy": "2024-06-30T20:55:56.413543Z",
     "iopub.status.idle": "2024-06-30T20:55:56.416333Z",
     "shell.execute_reply": "2024-06-30T20:55:56.415976Z"
    },
    "papermill": {
     "duration": 0.028424,
     "end_time": "2024-06-30T20:55:56.417087",
     "exception": false,
     "start_time": "2024-06-30T20:55:56.388663",
     "status": "completed"
    },
    "tags": []
   },
   "outputs": [],
   "source": [
    "PBcell_sampleDF.drop('sampleID', axis=1, inplace=True)"
   ]
  },
  {
   "cell_type": "code",
   "execution_count": 13,
   "id": "5502e45d-5c72-4440-a8c1-5b299cac6e2d",
   "metadata": {
    "execution": {
     "iopub.execute_input": "2024-06-30T20:55:56.428645Z",
     "iopub.status.busy": "2024-06-30T20:55:56.428331Z",
     "iopub.status.idle": "2024-06-30T20:55:56.431750Z",
     "shell.execute_reply": "2024-06-30T20:55:56.431400Z"
    },
    "papermill": {
     "duration": 0.010072,
     "end_time": "2024-06-30T20:55:56.432538",
     "exception": false,
     "start_time": "2024-06-30T20:55:56.422466",
     "status": "completed"
    },
    "tags": []
   },
   "outputs": [
    {
     "data": {
      "text/plain": [
       "AnnData object with n_obs × n_vars = 1267 × 120\n",
       "    obs: 'sampleID', 'Level1', 'disease', 'n_observation'"
      ]
     },
     "execution_count": 13,
     "metadata": {},
     "output_type": "execute_result"
    }
   ],
   "source": [
    "adataPBcell_sample = sc.AnnData(X = PBcell_sampleDF, obs = adataPBcell.obs)\n",
    "adataPBcell_sample"
   ]
  },
  {
   "cell_type": "markdown",
   "id": "d59574be-684b-4082-b8b6-7d11930362ad",
   "metadata": {
    "papermill": {
     "duration": 0.005511,
     "end_time": "2024-06-30T20:55:56.444019",
     "exception": false,
     "start_time": "2024-06-30T20:55:56.438508",
     "status": "completed"
    },
    "tags": []
   },
   "source": [
    "### Saving pseudobulk adata objects"
   ]
  },
  {
   "cell_type": "code",
   "execution_count": 14,
   "id": "5947e6f8-ac27-4702-ba5d-aa9e1ba79f6a",
   "metadata": {
    "execution": {
     "iopub.execute_input": "2024-06-30T20:55:56.456180Z",
     "iopub.status.busy": "2024-06-30T20:55:56.455806Z",
     "iopub.status.idle": "2024-06-30T20:55:56.495493Z",
     "shell.execute_reply": "2024-06-30T20:55:56.495101Z"
    },
    "papermill": {
     "duration": 0.046709,
     "end_time": "2024-06-30T20:55:56.496446",
     "exception": false,
     "start_time": "2024-06-30T20:55:56.449737",
     "status": "completed"
    },
    "tags": []
   },
   "outputs": [],
   "source": [
    "adataPBcell.write(here(adataPATHlist[0].replace('/scPoli_','/PSEUDOBULKs/scPoli_PSEUDOBULKcell_')), compression='gzip')"
   ]
  },
  {
   "cell_type": "code",
   "execution_count": 15,
   "id": "e9485945-bccf-419a-9420-c1e4f3aa262d",
   "metadata": {
    "execution": {
     "iopub.execute_input": "2024-06-30T20:55:56.510000Z",
     "iopub.status.busy": "2024-06-30T20:55:56.509554Z",
     "iopub.status.idle": "2024-06-30T20:55:56.529343Z",
     "shell.execute_reply": "2024-06-30T20:55:56.528977Z"
    },
    "papermill": {
     "duration": 0.027187,
     "end_time": "2024-06-30T20:55:56.530155",
     "exception": false,
     "start_time": "2024-06-30T20:55:56.502968",
     "status": "completed"
    },
    "tags": []
   },
   "outputs": [],
   "source": [
    "adataPBsample.write(here(adataPATHlist[0].replace('/scPoli_','/PSEUDOBULKs/scPoli_PSEUDOBULKsample_')), compression='gzip')"
   ]
  },
  {
   "cell_type": "code",
   "execution_count": 16,
   "id": "9c2daa40-3279-4b24-8aad-65ee0ba758c8",
   "metadata": {
    "execution": {
     "iopub.execute_input": "2024-06-30T20:55:56.542741Z",
     "iopub.status.busy": "2024-06-30T20:55:56.542470Z",
     "iopub.status.idle": "2024-06-30T20:55:56.583623Z",
     "shell.execute_reply": "2024-06-30T20:55:56.583150Z"
    },
    "papermill": {
     "duration": 0.048592,
     "end_time": "2024-06-30T20:55:56.584617",
     "exception": false,
     "start_time": "2024-06-30T20:55:56.536025",
     "status": "completed"
    },
    "tags": []
   },
   "outputs": [],
   "source": [
    "adataPBcell_sample.write(here(adataPATHlist[0].replace('/scPoli_','/PSEUDOBULKs/scPoli_PSEUDOBULKcellSample_')), compression='gzip')"
   ]
  },
  {
   "cell_type": "code",
   "execution_count": null,
   "id": "8a70d9f6-7a44-45ee-8470-702bd7af1e0b",
   "metadata": {
    "papermill": {
     "duration": 0.005476,
     "end_time": "2024-06-30T20:55:56.596965",
     "exception": false,
     "start_time": "2024-06-30T20:55:56.591489",
     "status": "completed"
    },
    "tags": []
   },
   "outputs": [],
   "source": []
  }
 ],
 "metadata": {
  "kernelspec": {
   "display_name": "Python 3 (ipykernel)",
   "language": "python",
   "name": "python3"
  },
  "language_info": {
   "codemirror_mode": {
    "name": "ipython",
    "version": 3
   },
   "file_extension": ".py",
   "mimetype": "text/x-python",
   "name": "python",
   "nbconvert_exporter": "python",
   "pygments_lexer": "ipython3",
   "version": "3.12.3"
  },
  "papermill": {
   "default_parameters": {},
   "duration": 6.513161,
   "end_time": "2024-06-30T20:55:57.117120",
   "environment_variables": {},
   "exception": null,
   "input_path": "03_generating_PSEUDOBULKs.ipynb",
   "output_path": "executed_notebooks/03_generating_PSEUDOBULKs_EXTERNAL_100nEmb_20nPEmb.ipynb",
   "parameters": {
    "adataPATH": "03_downstream_analysis/08_PatientClassifier/scPoli/results/scPoli_EXTERNAL_2_100_20_*.h5ad"
   },
   "start_time": "2024-06-30T20:55:50.603959",
   "version": "2.6.0"
  }
 },
 "nbformat": 4,
 "nbformat_minor": 5
}