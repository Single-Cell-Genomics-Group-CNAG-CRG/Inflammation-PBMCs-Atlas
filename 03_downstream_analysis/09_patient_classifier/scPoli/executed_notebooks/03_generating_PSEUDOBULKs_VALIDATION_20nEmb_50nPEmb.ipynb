{
 "cells": [
  {
   "cell_type": "code",
   "execution_count": 1,
   "id": "a6e1d07d",
   "metadata": {
    "execution": {
     "iopub.execute_input": "2024-06-30T20:54:50.427928Z",
     "iopub.status.busy": "2024-06-30T20:54:50.427783Z",
     "iopub.status.idle": "2024-06-30T20:54:50.430365Z",
     "shell.execute_reply": "2024-06-30T20:54:50.429990Z"
    },
    "papermill": {
     "duration": 0.01099,
     "end_time": "2024-06-30T20:54:50.431196",
     "exception": false,
     "start_time": "2024-06-30T20:54:50.420206",
     "status": "completed"
    },
    "tags": [
     "injected-parameters"
    ]
   },
   "outputs": [],
   "source": [
    "# Parameters\n",
    "adataPATH = \"03_downstream_analysis/08_PatientClassifier/scPoli/results/scPoli_VALIDATION_2_20_50_*.h5ad\"\n"
   ]
  },
  {
   "cell_type": "raw",
   "id": "bf9880bd-3aef-477b-807d-37e3c5603037",
   "metadata": {
    "execution": {
     "iopub.execute_input": "2024-06-29T08:23:25.403219Z",
     "iopub.status.busy": "2024-06-29T08:23:25.402857Z",
     "iopub.status.idle": "2024-06-29T08:23:25.406428Z",
     "shell.execute_reply": "2024-06-29T08:23:25.406014Z",
     "shell.execute_reply.started": "2024-06-29T08:23:25.403185Z"
    },
    "papermill": {
     "duration": 0.004619,
     "end_time": "2024-06-30T20:54:50.440940",
     "exception": false,
     "start_time": "2024-06-30T20:54:50.436321",
     "status": "completed"
    },
    "tags": [],
    "vscode": {
     "languageId": "raw"
    }
   },
   "source": [
    "adataMAINpath = '03_downstream_analysis/08_PatientClassifier/scPoli/results/scPoli_2_100_20_*.h5ad'\n",
    "\n",
    "adataVALpath = '03_downstream_analysis/08_PatientClassifier/scPoli/results/scPoli_VALIDATION_2_20_20*.h5ad'\n",
    "adataEXCpath = '03_downstream_analysis/08_PatientClassifier/scPoli/results/scPoli_EXCLUDED_2_100_20_run1_pd5nyb4g.h5ad'\n",
    "adataEXTpath = '03_downstream_analysis/08_PatientClassifier/scPoli/results/scPoli_EXTERNAL_2_100_20_run1_pd5nyb4g.h5ad'\n",
    "\n",
    "adataPATH = adataVALpath"
   ]
  },
  {
   "cell_type": "code",
   "execution_count": 2,
   "id": "d3ccb10a-7201-43d0-a593-2b4650ff3451",
   "metadata": {
    "execution": {
     "iopub.execute_input": "2024-06-30T20:54:50.451153Z",
     "iopub.status.busy": "2024-06-30T20:54:50.450810Z",
     "iopub.status.idle": "2024-06-30T20:54:50.453716Z",
     "shell.execute_reply": "2024-06-30T20:54:50.453342Z"
    },
    "papermill": {
     "duration": 0.008755,
     "end_time": "2024-06-30T20:54:50.454506",
     "exception": false,
     "start_time": "2024-06-30T20:54:50.445751",
     "status": "completed"
    },
    "tags": []
   },
   "outputs": [
    {
     "name": "stdout",
     "output_type": "stream",
     "text": [
      "adataPATH = 03_downstream_analysis/08_PatientClassifier/scPoli/results/scPoli_VALIDATION_2_20_50_*.h5ad\n"
     ]
    }
   ],
   "source": [
    "for v in ['adataPATH']:\n",
    "    if v in locals() or v in globals():\n",
    "        print(f\"{v} = {eval(v)}\")\n",
    "    else:\n",
    "        raise Exception(f\"{v} not specified\")"
   ]
  },
  {
   "cell_type": "code",
   "execution_count": 3,
   "id": "888fb5f4-9ab7-4196-a282-7a7e92a43971",
   "metadata": {
    "execution": {
     "iopub.execute_input": "2024-06-30T20:54:50.465316Z",
     "iopub.status.busy": "2024-06-30T20:54:50.464879Z",
     "iopub.status.idle": "2024-06-30T20:54:52.546863Z",
     "shell.execute_reply": "2024-06-30T20:54:52.546381Z"
    },
    "papermill": {
     "duration": 2.088581,
     "end_time": "2024-06-30T20:54:52.548020",
     "exception": false,
     "start_time": "2024-06-30T20:54:50.459439",
     "status": "completed"
    },
    "tags": []
   },
   "outputs": [],
   "source": [
    "import os\n",
    "import sys\n",
    "from glob import glob\n",
    "\n",
    "import scanpy as sc\n",
    "import pandas as pd\n",
    "\n",
    "from pyprojroot import here\n",
    "\n",
    "sys.path.insert(1, str(here('bin')))\n",
    "# Import custom functions\n",
    "from customPythonFunctions import aggregating_features"
   ]
  },
  {
   "cell_type": "markdown",
   "id": "ba4905ae-4546-4ef4-b57b-950441ab079d",
   "metadata": {
    "papermill": {
     "duration": 0.004981,
     "end_time": "2024-06-30T20:54:52.558258",
     "exception": false,
     "start_time": "2024-06-30T20:54:52.553277",
     "status": "completed"
    },
    "tags": []
   },
   "source": [
    "### Loading data"
   ]
  },
  {
   "cell_type": "code",
   "execution_count": 4,
   "id": "539cbbbb-3503-4f51-bf04-f007f928ebd1",
   "metadata": {
    "execution": {
     "iopub.execute_input": "2024-06-30T20:54:52.568709Z",
     "iopub.status.busy": "2024-06-30T20:54:52.568364Z",
     "iopub.status.idle": "2024-06-30T20:54:52.572118Z",
     "shell.execute_reply": "2024-06-30T20:54:52.571753Z"
    },
    "papermill": {
     "duration": 0.010031,
     "end_time": "2024-06-30T20:54:52.572932",
     "exception": false,
     "start_time": "2024-06-30T20:54:52.562901",
     "status": "completed"
    },
    "tags": []
   },
   "outputs": [],
   "source": [
    "adataPATHlist = glob(str(here(adataPATH)))\n",
    "assert(len(adataPATHlist) == 1)"
   ]
  },
  {
   "cell_type": "code",
   "execution_count": 5,
   "id": "0fcfce0a-896b-4dc0-8e5e-46749205c84f",
   "metadata": {
    "execution": {
     "iopub.execute_input": "2024-06-30T20:54:52.583022Z",
     "iopub.status.busy": "2024-06-30T20:54:52.582809Z",
     "iopub.status.idle": "2024-06-30T20:54:54.078613Z",
     "shell.execute_reply": "2024-06-30T20:54:54.078168Z"
    },
    "papermill": {
     "duration": 1.501871,
     "end_time": "2024-06-30T20:54:54.079434",
     "exception": false,
     "start_time": "2024-06-30T20:54:52.577563",
     "status": "completed"
    },
    "tags": []
   },
   "outputs": [
    {
     "data": {
      "text/plain": [
       "AnnData object with n_obs × n_vars = 849922 × 20\n",
       "    obs: 'studyID', 'libraryID', 'sampleID', 'chemistry', 'technology', 'disease', 'sex', 'binned_age', 'Level1', 'Level2', 'conditions_combined', 'Level1_unc', 'Level2_unc'\n",
       "    uns: 'chemistry', 'sampleID'"
      ]
     },
     "execution_count": 5,
     "metadata": {},
     "output_type": "execute_result"
    }
   ],
   "source": [
    "adata = sc.read_h5ad(adataPATHlist[0])\n",
    "adata"
   ]
  },
  {
   "cell_type": "markdown",
   "id": "44e868b3-0771-4225-bd79-a4b179bc672b",
   "metadata": {
    "papermill": {
     "duration": 0.004808,
     "end_time": "2024-06-30T20:54:54.089720",
     "exception": false,
     "start_time": "2024-06-30T20:54:54.084912",
     "status": "completed"
    },
    "tags": []
   },
   "source": [
    "#### Generating PSEUDOBULKs"
   ]
  },
  {
   "cell_type": "markdown",
   "id": "97d09fc5-d05c-471e-87fa-fe58ccbe47ac",
   "metadata": {
    "papermill": {
     "duration": 0.004656,
     "end_time": "2024-06-30T20:54:54.099716",
     "exception": false,
     "start_time": "2024-06-30T20:54:54.095060",
     "status": "completed"
    },
    "tags": []
   },
   "source": [
    "**Aggregating cell latent features**"
   ]
  },
  {
   "cell_type": "code",
   "execution_count": 6,
   "id": "81223976-fcf6-4354-8964-b12d76468636",
   "metadata": {
    "execution": {
     "iopub.execute_input": "2024-06-30T20:54:54.110101Z",
     "iopub.status.busy": "2024-06-30T20:54:54.109839Z",
     "iopub.status.idle": "2024-06-30T20:54:54.449244Z",
     "shell.execute_reply": "2024-06-30T20:54:54.448802Z"
    },
    "papermill": {
     "duration": 0.345632,
     "end_time": "2024-06-30T20:54:54.450066",
     "exception": false,
     "start_time": "2024-06-30T20:54:54.104434",
     "status": "completed"
    },
    "tags": []
   },
   "outputs": [
    {
     "data": {
      "text/plain": [
       "AnnData object with n_obs × n_vars = 2108 × 20\n",
       "    obs: 'sampleID', 'Level1', 'disease', 'n_observation'"
      ]
     },
     "execution_count": 6,
     "metadata": {},
     "output_type": "execute_result"
    }
   ],
   "source": [
    "adataPBcell = aggregating_features(Z = adata.X, \n",
    "                             obsDF = adata.obs[['sampleID','Level1','disease']], \n",
    "                             mode = 'mean', \n",
    "                             obs_names_col=['sampleID','Level1'], \n",
    "                             min_observation=0)\n",
    "adataPBcell"
   ]
  },
  {
   "cell_type": "code",
   "execution_count": null,
   "id": "8495038e-aebd-4003-bd94-c1e49f47249e",
   "metadata": {
    "papermill": {
     "duration": 0.00472,
     "end_time": "2024-06-30T20:54:54.459985",
     "exception": false,
     "start_time": "2024-06-30T20:54:54.455265",
     "status": "completed"
    },
    "tags": []
   },
   "outputs": [],
   "source": []
  },
  {
   "cell_type": "markdown",
   "id": "6d602bad-4793-4aa4-b3d7-d118d413a0fc",
   "metadata": {
    "papermill": {
     "duration": 0.004782,
     "end_time": "2024-06-30T20:54:54.470221",
     "exception": false,
     "start_time": "2024-06-30T20:54:54.465439",
     "status": "completed"
    },
    "tags": []
   },
   "source": [
    "**Extracting sample embedding**"
   ]
  },
  {
   "cell_type": "code",
   "execution_count": 7,
   "id": "e2c14f02",
   "metadata": {
    "execution": {
     "iopub.execute_input": "2024-06-30T20:54:54.480359Z",
     "iopub.status.busy": "2024-06-30T20:54:54.480131Z",
     "iopub.status.idle": "2024-06-30T20:54:54.488372Z",
     "shell.execute_reply": "2024-06-30T20:54:54.487987Z"
    },
    "papermill": {
     "duration": 0.014322,
     "end_time": "2024-06-30T20:54:54.489139",
     "exception": false,
     "start_time": "2024-06-30T20:54:54.474817",
     "status": "completed"
    },
    "tags": []
   },
   "outputs": [
    {
     "data": {
      "text/plain": [
       "AnnData object with n_obs × n_vars = 144 × 50\n",
       "    obs: 'sampleID', 'disease', 'Level1'"
      ]
     },
     "execution_count": 7,
     "metadata": {},
     "output_type": "execute_result"
    }
   ],
   "source": [
    "adataPBsample = adata.uns['sampleID'].copy()\n",
    "adataPBsample.obs['sampleID'] = adataPBsample.obs.index\n",
    "adataPBsample = adataPBsample[adataPBsample.obs['sampleID'].isin(adataPBcell.obs['sampleID'])]\n",
    "\n",
    "adataPBsample.obs = adataPBsample.obs.merge(adataPBcell.obs.groupby('sampleID').agg({'disease':'first'}), left_index=True, right_index=True)\n",
    "adataPBsample.obs['Level1'] = 'sample'\n",
    "adataPBsample"
   ]
  },
  {
   "cell_type": "markdown",
   "id": "2d4fe137-7d68-4e86-a85c-3c1a3d3c4c71",
   "metadata": {
    "papermill": {
     "duration": 0.004961,
     "end_time": "2024-06-30T20:54:54.498844",
     "exception": false,
     "start_time": "2024-06-30T20:54:54.493883",
     "status": "completed"
    },
    "tags": []
   },
   "source": [
    "**Merging cell and patient latent features**"
   ]
  },
  {
   "cell_type": "code",
   "execution_count": 8,
   "id": "a326d2b1",
   "metadata": {
    "execution": {
     "iopub.execute_input": "2024-06-30T20:54:54.509552Z",
     "iopub.status.busy": "2024-06-30T20:54:54.509162Z",
     "iopub.status.idle": "2024-06-30T20:54:54.511628Z",
     "shell.execute_reply": "2024-06-30T20:54:54.511271Z"
    },
    "papermill": {
     "duration": 0.008721,
     "end_time": "2024-06-30T20:54:54.512382",
     "exception": false,
     "start_time": "2024-06-30T20:54:54.503661",
     "status": "completed"
    },
    "tags": []
   },
   "outputs": [],
   "source": [
    "PBcellDF = adataPBcell.to_df()\n",
    "PBcellDF['sampleID'] = adataPBcell.obs['sampleID']"
   ]
  },
  {
   "cell_type": "code",
   "execution_count": 9,
   "id": "1a597f46-d9c5-403b-b81e-5738ca206682",
   "metadata": {
    "execution": {
     "iopub.execute_input": "2024-06-30T20:54:54.522769Z",
     "iopub.status.busy": "2024-06-30T20:54:54.522573Z",
     "iopub.status.idle": "2024-06-30T20:54:54.524873Z",
     "shell.execute_reply": "2024-06-30T20:54:54.524517Z"
    },
    "papermill": {
     "duration": 0.008305,
     "end_time": "2024-06-30T20:54:54.525618",
     "exception": false,
     "start_time": "2024-06-30T20:54:54.517313",
     "status": "completed"
    },
    "tags": []
   },
   "outputs": [],
   "source": [
    "PBsampleDF = adataPBsample.to_df()\n",
    "PBsampleDF['sampleID'] = adataPBsample.obs['sampleID']"
   ]
  },
  {
   "cell_type": "code",
   "execution_count": 10,
   "id": "bb384751-fe1b-4635-a90d-fd98ae61b173",
   "metadata": {
    "execution": {
     "iopub.execute_input": "2024-06-30T20:54:54.536463Z",
     "iopub.status.busy": "2024-06-30T20:54:54.536126Z",
     "iopub.status.idle": "2024-06-30T20:54:54.540382Z",
     "shell.execute_reply": "2024-06-30T20:54:54.539985Z"
    },
    "papermill": {
     "duration": 0.010318,
     "end_time": "2024-06-30T20:54:54.541133",
     "exception": false,
     "start_time": "2024-06-30T20:54:54.530815",
     "status": "completed"
    },
    "tags": []
   },
   "outputs": [],
   "source": [
    "PBcell_sampleDF = PBcellDF.merge(PBsampleDF, on='sampleID', how='left')"
   ]
  },
  {
   "cell_type": "code",
   "execution_count": 11,
   "id": "f7250713-e24d-4614-9cbd-eed702340640",
   "metadata": {
    "execution": {
     "iopub.execute_input": "2024-06-30T20:54:54.551817Z",
     "iopub.status.busy": "2024-06-30T20:54:54.551529Z",
     "iopub.status.idle": "2024-06-30T20:54:54.553834Z",
     "shell.execute_reply": "2024-06-30T20:54:54.553478Z"
    },
    "papermill": {
     "duration": 0.008514,
     "end_time": "2024-06-30T20:54:54.554584",
     "exception": false,
     "start_time": "2024-06-30T20:54:54.546070",
     "status": "completed"
    },
    "tags": []
   },
   "outputs": [],
   "source": [
    "assert(adataPBcell.obs['sampleID'].tolist() == PBcell_sampleDF['sampleID'].tolist())"
   ]
  },
  {
   "cell_type": "code",
   "execution_count": 12,
   "id": "abea2252-6a12-4b89-9f0d-6d6df90064fb",
   "metadata": {
    "execution": {
     "iopub.execute_input": "2024-06-30T20:54:54.565339Z",
     "iopub.status.busy": "2024-06-30T20:54:54.565149Z",
     "iopub.status.idle": "2024-06-30T20:54:54.567592Z",
     "shell.execute_reply": "2024-06-30T20:54:54.567241Z"
    },
    "papermill": {
     "duration": 0.008599,
     "end_time": "2024-06-30T20:54:54.568349",
     "exception": false,
     "start_time": "2024-06-30T20:54:54.559750",
     "status": "completed"
    },
    "tags": []
   },
   "outputs": [],
   "source": [
    "PBcell_sampleDF.drop('sampleID', axis=1, inplace=True)"
   ]
  },
  {
   "cell_type": "code",
   "execution_count": 13,
   "id": "5502e45d-5c72-4440-a8c1-5b299cac6e2d",
   "metadata": {
    "execution": {
     "iopub.execute_input": "2024-06-30T20:54:54.579379Z",
     "iopub.status.busy": "2024-06-30T20:54:54.579068Z",
     "iopub.status.idle": "2024-06-30T20:54:54.582772Z",
     "shell.execute_reply": "2024-06-30T20:54:54.582409Z"
    },
    "papermill": {
     "duration": 0.010033,
     "end_time": "2024-06-30T20:54:54.583572",
     "exception": false,
     "start_time": "2024-06-30T20:54:54.573539",
     "status": "completed"
    },
    "tags": []
   },
   "outputs": [
    {
     "data": {
      "text/plain": [
       "AnnData object with n_obs × n_vars = 2108 × 70\n",
       "    obs: 'sampleID', 'Level1', 'disease', 'n_observation'"
      ]
     },
     "execution_count": 13,
     "metadata": {},
     "output_type": "execute_result"
    }
   ],
   "source": [
    "adataPBcell_sample = sc.AnnData(X = PBcell_sampleDF, obs = adataPBcell.obs)\n",
    "adataPBcell_sample"
   ]
  },
  {
   "cell_type": "markdown",
   "id": "d59574be-684b-4082-b8b6-7d11930362ad",
   "metadata": {
    "papermill": {
     "duration": 0.005185,
     "end_time": "2024-06-30T20:54:54.594366",
     "exception": false,
     "start_time": "2024-06-30T20:54:54.589181",
     "status": "completed"
    },
    "tags": []
   },
   "source": [
    "### Saving pseudobulk adata objects"
   ]
  },
  {
   "cell_type": "code",
   "execution_count": 14,
   "id": "5947e6f8-ac27-4702-ba5d-aa9e1ba79f6a",
   "metadata": {
    "execution": {
     "iopub.execute_input": "2024-06-30T20:54:54.605189Z",
     "iopub.status.busy": "2024-06-30T20:54:54.604919Z",
     "iopub.status.idle": "2024-06-30T20:54:54.637033Z",
     "shell.execute_reply": "2024-06-30T20:54:54.636577Z"
    },
    "papermill": {
     "duration": 0.038283,
     "end_time": "2024-06-30T20:54:54.637823",
     "exception": false,
     "start_time": "2024-06-30T20:54:54.599540",
     "status": "completed"
    },
    "tags": []
   },
   "outputs": [],
   "source": [
    "adataPBcell.write(here(adataPATHlist[0].replace('/scPoli_','/PSEUDOBULKs/scPoli_PSEUDOBULKcell_')), compression='gzip')"
   ]
  },
  {
   "cell_type": "code",
   "execution_count": 15,
   "id": "e9485945-bccf-419a-9420-c1e4f3aa262d",
   "metadata": {
    "execution": {
     "iopub.execute_input": "2024-06-30T20:54:54.648955Z",
     "iopub.status.busy": "2024-06-30T20:54:54.648733Z",
     "iopub.status.idle": "2024-06-30T20:54:54.670110Z",
     "shell.execute_reply": "2024-06-30T20:54:54.669731Z"
    },
    "papermill": {
     "duration": 0.027725,
     "end_time": "2024-06-30T20:54:54.670890",
     "exception": false,
     "start_time": "2024-06-30T20:54:54.643165",
     "status": "completed"
    },
    "tags": []
   },
   "outputs": [],
   "source": [
    "adataPBsample.write(here(adataPATHlist[0].replace('/scPoli_','/PSEUDOBULKs/scPoli_PSEUDOBULKsample_')), compression='gzip')"
   ]
  },
  {
   "cell_type": "code",
   "execution_count": 16,
   "id": "9c2daa40-3279-4b24-8aad-65ee0ba758c8",
   "metadata": {
    "execution": {
     "iopub.execute_input": "2024-06-30T20:54:54.683057Z",
     "iopub.status.busy": "2024-06-30T20:54:54.682866Z",
     "iopub.status.idle": "2024-06-30T20:54:54.719874Z",
     "shell.execute_reply": "2024-06-30T20:54:54.719357Z"
    },
    "papermill": {
     "duration": 0.043889,
     "end_time": "2024-06-30T20:54:54.720673",
     "exception": false,
     "start_time": "2024-06-30T20:54:54.676784",
     "status": "completed"
    },
    "tags": []
   },
   "outputs": [],
   "source": [
    "adataPBcell_sample.write(here(adataPATHlist[0].replace('/scPoli_','/PSEUDOBULKs/scPoli_PSEUDOBULKcellSample_')), compression='gzip')"
   ]
  },
  {
   "cell_type": "code",
   "execution_count": null,
   "id": "8a70d9f6-7a44-45ee-8470-702bd7af1e0b",
   "metadata": {
    "papermill": {
     "duration": 0.005006,
     "end_time": "2024-06-30T20:54:54.730927",
     "exception": false,
     "start_time": "2024-06-30T20:54:54.725921",
     "status": "completed"
    },
    "tags": []
   },
   "outputs": [],
   "source": []
  }
 ],
 "metadata": {
  "kernelspec": {
   "display_name": "Python 3 (ipykernel)",
   "language": "python",
   "name": "python3"
  },
  "language_info": {
   "codemirror_mode": {
    "name": "ipython",
    "version": 3
   },
   "file_extension": ".py",
   "mimetype": "text/x-python",
   "name": "python",
   "nbconvert_exporter": "python",
   "pygments_lexer": "ipython3",
   "version": "3.12.3"
  },
  "papermill": {
   "default_parameters": {},
   "duration": 6.173405,
   "end_time": "2024-06-30T20:54:55.351352",
   "environment_variables": {},
   "exception": null,
   "input_path": "03_generating_PSEUDOBULKs.ipynb",
   "output_path": "executed_notebooks/03_generating_PSEUDOBULKs_VALIDATION_20nEmb_50nPEmb.ipynb",
   "parameters": {
    "adataPATH": "03_downstream_analysis/08_PatientClassifier/scPoli/results/scPoli_VALIDATION_2_20_50_*.h5ad"
   },
   "start_time": "2024-06-30T20:54:49.177947",
   "version": "2.6.0"
  }
 },
 "nbformat": 4,
 "nbformat_minor": 5
}