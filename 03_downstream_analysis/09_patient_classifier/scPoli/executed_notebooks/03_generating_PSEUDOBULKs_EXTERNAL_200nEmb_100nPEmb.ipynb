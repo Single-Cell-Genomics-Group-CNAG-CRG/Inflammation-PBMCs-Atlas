{
 "cells": [
  {
   "cell_type": "code",
   "execution_count": 1,
   "id": "19aef9e0",
   "metadata": {
    "execution": {
     "iopub.execute_input": "2024-06-30T20:55:58.057476Z",
     "iopub.status.busy": "2024-06-30T20:55:58.057130Z",
     "iopub.status.idle": "2024-06-30T20:55:58.059657Z",
     "shell.execute_reply": "2024-06-30T20:55:58.059296Z"
    },
    "papermill": {
     "duration": 0.010363,
     "end_time": "2024-06-30T20:55:58.060472",
     "exception": false,
     "start_time": "2024-06-30T20:55:58.050109",
     "status": "completed"
    },
    "tags": [
     "injected-parameters"
    ]
   },
   "outputs": [],
   "source": [
    "# Parameters\n",
    "adataPATH = \"03_downstream_analysis/08_PatientClassifier/scPoli/results/scPoli_EXTERNAL_2_200_100_*.h5ad\"\n"
   ]
  },
  {
   "cell_type": "raw",
   "id": "bf9880bd-3aef-477b-807d-37e3c5603037",
   "metadata": {
    "execution": {
     "iopub.execute_input": "2024-06-29T08:23:25.403219Z",
     "iopub.status.busy": "2024-06-29T08:23:25.402857Z",
     "iopub.status.idle": "2024-06-29T08:23:25.406428Z",
     "shell.execute_reply": "2024-06-29T08:23:25.406014Z",
     "shell.execute_reply.started": "2024-06-29T08:23:25.403185Z"
    },
    "papermill": {
     "duration": 0.005723,
     "end_time": "2024-06-30T20:55:58.071457",
     "exception": false,
     "start_time": "2024-06-30T20:55:58.065734",
     "status": "completed"
    },
    "tags": [],
    "vscode": {
     "languageId": "raw"
    }
   },
   "source": [
    "adataMAINpath = '03_downstream_analysis/08_PatientClassifier/scPoli/results/scPoli_2_100_20_*.h5ad'\n",
    "\n",
    "adataVALpath = '03_downstream_analysis/08_PatientClassifier/scPoli/results/scPoli_VALIDATION_2_20_20*.h5ad'\n",
    "adataEXCpath = '03_downstream_analysis/08_PatientClassifier/scPoli/results/scPoli_EXCLUDED_2_100_20_run1_pd5nyb4g.h5ad'\n",
    "adataEXTpath = '03_downstream_analysis/08_PatientClassifier/scPoli/results/scPoli_EXTERNAL_2_100_20_run1_pd5nyb4g.h5ad'\n",
    "\n",
    "adataPATH = adataVALpath"
   ]
  },
  {
   "cell_type": "code",
   "execution_count": 2,
   "id": "d3ccb10a-7201-43d0-a593-2b4650ff3451",
   "metadata": {
    "execution": {
     "iopub.execute_input": "2024-06-30T20:55:58.082145Z",
     "iopub.status.busy": "2024-06-30T20:55:58.081854Z",
     "iopub.status.idle": "2024-06-30T20:55:58.084785Z",
     "shell.execute_reply": "2024-06-30T20:55:58.084407Z"
    },
    "papermill": {
     "duration": 0.008976,
     "end_time": "2024-06-30T20:55:58.085567",
     "exception": false,
     "start_time": "2024-06-30T20:55:58.076591",
     "status": "completed"
    },
    "tags": []
   },
   "outputs": [
    {
     "name": "stdout",
     "output_type": "stream",
     "text": [
      "adataPATH = 03_downstream_analysis/08_PatientClassifier/scPoli/results/scPoli_EXTERNAL_2_200_100_*.h5ad\n"
     ]
    }
   ],
   "source": [
    "for v in ['adataPATH']:\n",
    "    if v in locals() or v in globals():\n",
    "        print(f\"{v} = {eval(v)}\")\n",
    "    else:\n",
    "        raise Exception(f\"{v} not specified\")"
   ]
  },
  {
   "cell_type": "code",
   "execution_count": 3,
   "id": "888fb5f4-9ab7-4196-a282-7a7e92a43971",
   "metadata": {
    "execution": {
     "iopub.execute_input": "2024-06-30T20:55:58.096988Z",
     "iopub.status.busy": "2024-06-30T20:55:58.096717Z",
     "iopub.status.idle": "2024-06-30T20:55:59.495146Z",
     "shell.execute_reply": "2024-06-30T20:55:59.494663Z"
    },
    "papermill": {
     "duration": 1.404989,
     "end_time": "2024-06-30T20:55:59.496171",
     "exception": false,
     "start_time": "2024-06-30T20:55:58.091182",
     "status": "completed"
    },
    "tags": []
   },
   "outputs": [],
   "source": [
    "import os\n",
    "import sys\n",
    "from glob import glob\n",
    "\n",
    "import scanpy as sc\n",
    "import pandas as pd\n",
    "\n",
    "from pyprojroot import here\n",
    "\n",
    "sys.path.insert(1, str(here('bin')))\n",
    "# Import custom functions\n",
    "from customPythonFunctions import aggregating_features"
   ]
  },
  {
   "cell_type": "markdown",
   "id": "ba4905ae-4546-4ef4-b57b-950441ab079d",
   "metadata": {
    "papermill": {
     "duration": 0.004824,
     "end_time": "2024-06-30T20:55:59.506541",
     "exception": false,
     "start_time": "2024-06-30T20:55:59.501717",
     "status": "completed"
    },
    "tags": []
   },
   "source": [
    "### Loading data"
   ]
  },
  {
   "cell_type": "code",
   "execution_count": 4,
   "id": "539cbbbb-3503-4f51-bf04-f007f928ebd1",
   "metadata": {
    "execution": {
     "iopub.execute_input": "2024-06-30T20:55:59.517744Z",
     "iopub.status.busy": "2024-06-30T20:55:59.517448Z",
     "iopub.status.idle": "2024-06-30T20:55:59.521402Z",
     "shell.execute_reply": "2024-06-30T20:55:59.521031Z"
    },
    "papermill": {
     "duration": 0.010775,
     "end_time": "2024-06-30T20:55:59.522170",
     "exception": false,
     "start_time": "2024-06-30T20:55:59.511395",
     "status": "completed"
    },
    "tags": []
   },
   "outputs": [],
   "source": [
    "adataPATHlist = glob(str(here(adataPATH)))\n",
    "assert(len(adataPATHlist) == 1)"
   ]
  },
  {
   "cell_type": "code",
   "execution_count": 5,
   "id": "0fcfce0a-896b-4dc0-8e5e-46749205c84f",
   "metadata": {
    "execution": {
     "iopub.execute_input": "2024-06-30T20:55:59.533056Z",
     "iopub.status.busy": "2024-06-30T20:55:59.532796Z",
     "iopub.status.idle": "2024-06-30T20:56:02.806578Z",
     "shell.execute_reply": "2024-06-30T20:56:02.806095Z"
    },
    "papermill": {
     "duration": 3.280338,
     "end_time": "2024-06-30T20:56:02.807414",
     "exception": false,
     "start_time": "2024-06-30T20:55:59.527076",
     "status": "completed"
    },
    "tags": []
   },
   "outputs": [
    {
     "data": {
      "text/plain": [
       "AnnData object with n_obs × n_vars = 572872 × 200\n",
       "    obs: 'studyID', 'libraryID', 'sampleID', 'chemistry', 'technology', 'disease', 'sex', 'binned_age', 'Level1', 'Level2', 'conditions_combined', 'Level1_unc', 'Level2_unc'\n",
       "    uns: 'chemistry', 'sampleID'"
      ]
     },
     "execution_count": 5,
     "metadata": {},
     "output_type": "execute_result"
    }
   ],
   "source": [
    "adata = sc.read_h5ad(adataPATHlist[0])\n",
    "adata"
   ]
  },
  {
   "cell_type": "markdown",
   "id": "44e868b3-0771-4225-bd79-a4b179bc672b",
   "metadata": {
    "papermill": {
     "duration": 0.005413,
     "end_time": "2024-06-30T20:56:02.818969",
     "exception": false,
     "start_time": "2024-06-30T20:56:02.813556",
     "status": "completed"
    },
    "tags": []
   },
   "source": [
    "#### Generating PSEUDOBULKs"
   ]
  },
  {
   "cell_type": "markdown",
   "id": "97d09fc5-d05c-471e-87fa-fe58ccbe47ac",
   "metadata": {
    "papermill": {
     "duration": 0.005111,
     "end_time": "2024-06-30T20:56:02.829327",
     "exception": false,
     "start_time": "2024-06-30T20:56:02.824216",
     "status": "completed"
    },
    "tags": []
   },
   "source": [
    "**Aggregating cell latent features**"
   ]
  },
  {
   "cell_type": "code",
   "execution_count": 6,
   "id": "81223976-fcf6-4354-8964-b12d76468636",
   "metadata": {
    "execution": {
     "iopub.execute_input": "2024-06-30T20:56:02.840699Z",
     "iopub.status.busy": "2024-06-30T20:56:02.840399Z",
     "iopub.status.idle": "2024-06-30T20:56:03.298203Z",
     "shell.execute_reply": "2024-06-30T20:56:03.297762Z"
    },
    "papermill": {
     "duration": 0.464419,
     "end_time": "2024-06-30T20:56:03.299053",
     "exception": false,
     "start_time": "2024-06-30T20:56:02.834634",
     "status": "completed"
    },
    "tags": []
   },
   "outputs": [
    {
     "data": {
      "text/plain": [
       "AnnData object with n_obs × n_vars = 1266 × 200\n",
       "    obs: 'sampleID', 'Level1', 'disease', 'n_observation'"
      ]
     },
     "execution_count": 6,
     "metadata": {},
     "output_type": "execute_result"
    }
   ],
   "source": [
    "adataPBcell = aggregating_features(Z = adata.X, \n",
    "                             obsDF = adata.obs[['sampleID','Level1','disease']], \n",
    "                             mode = 'mean', \n",
    "                             obs_names_col=['sampleID','Level1'], \n",
    "                             min_observation=0)\n",
    "adataPBcell"
   ]
  },
  {
   "cell_type": "code",
   "execution_count": null,
   "id": "8495038e-aebd-4003-bd94-c1e49f47249e",
   "metadata": {
    "papermill": {
     "duration": 0.007108,
     "end_time": "2024-06-30T20:56:03.322126",
     "exception": false,
     "start_time": "2024-06-30T20:56:03.315018",
     "status": "completed"
    },
    "tags": []
   },
   "outputs": [],
   "source": []
  },
  {
   "cell_type": "markdown",
   "id": "6d602bad-4793-4aa4-b3d7-d118d413a0fc",
   "metadata": {
    "papermill": {
     "duration": 0.006809,
     "end_time": "2024-06-30T20:56:03.334841",
     "exception": false,
     "start_time": "2024-06-30T20:56:03.328032",
     "status": "completed"
    },
    "tags": []
   },
   "source": [
    "**Extracting sample embedding**"
   ]
  },
  {
   "cell_type": "code",
   "execution_count": 7,
   "id": "e2c14f02",
   "metadata": {
    "execution": {
     "iopub.execute_input": "2024-06-30T20:56:03.353825Z",
     "iopub.status.busy": "2024-06-30T20:56:03.353532Z",
     "iopub.status.idle": "2024-06-30T20:56:03.361517Z",
     "shell.execute_reply": "2024-06-30T20:56:03.361145Z"
    },
    "papermill": {
     "duration": 0.020174,
     "end_time": "2024-06-30T20:56:03.362297",
     "exception": false,
     "start_time": "2024-06-30T20:56:03.342123",
     "status": "completed"
    },
    "tags": []
   },
   "outputs": [
    {
     "data": {
      "text/plain": [
       "AnnData object with n_obs × n_vars = 86 × 100\n",
       "    obs: 'sampleID', 'disease', 'Level1'"
      ]
     },
     "execution_count": 7,
     "metadata": {},
     "output_type": "execute_result"
    }
   ],
   "source": [
    "adataPBsample = adata.uns['sampleID'].copy()\n",
    "adataPBsample.obs['sampleID'] = adataPBsample.obs.index\n",
    "adataPBsample = adataPBsample[adataPBsample.obs['sampleID'].isin(adataPBcell.obs['sampleID'])]\n",
    "\n",
    "adataPBsample.obs = adataPBsample.obs.merge(adataPBcell.obs.groupby('sampleID').agg({'disease':'first'}), left_index=True, right_index=True)\n",
    "adataPBsample.obs['Level1'] = 'sample'\n",
    "adataPBsample"
   ]
  },
  {
   "cell_type": "markdown",
   "id": "2d4fe137-7d68-4e86-a85c-3c1a3d3c4c71",
   "metadata": {
    "papermill": {
     "duration": 0.016988,
     "end_time": "2024-06-30T20:56:03.400072",
     "exception": false,
     "start_time": "2024-06-30T20:56:03.383084",
     "status": "completed"
    },
    "tags": []
   },
   "source": [
    "**Merging cell and patient latent features**"
   ]
  },
  {
   "cell_type": "code",
   "execution_count": 8,
   "id": "a326d2b1",
   "metadata": {
    "execution": {
     "iopub.execute_input": "2024-06-30T20:56:03.433681Z",
     "iopub.status.busy": "2024-06-30T20:56:03.433287Z",
     "iopub.status.idle": "2024-06-30T20:56:03.435711Z",
     "shell.execute_reply": "2024-06-30T20:56:03.435351Z"
    },
    "papermill": {
     "duration": 0.021919,
     "end_time": "2024-06-30T20:56:03.436496",
     "exception": false,
     "start_time": "2024-06-30T20:56:03.414577",
     "status": "completed"
    },
    "tags": []
   },
   "outputs": [],
   "source": [
    "PBcellDF = adataPBcell.to_df()\n",
    "PBcellDF['sampleID'] = adataPBcell.obs['sampleID']"
   ]
  },
  {
   "cell_type": "code",
   "execution_count": 9,
   "id": "1a597f46-d9c5-403b-b81e-5738ca206682",
   "metadata": {
    "execution": {
     "iopub.execute_input": "2024-06-30T20:56:03.449442Z",
     "iopub.status.busy": "2024-06-30T20:56:03.449105Z",
     "iopub.status.idle": "2024-06-30T20:56:03.451477Z",
     "shell.execute_reply": "2024-06-30T20:56:03.451113Z"
    },
    "papermill": {
     "duration": 0.008827,
     "end_time": "2024-06-30T20:56:03.452236",
     "exception": false,
     "start_time": "2024-06-30T20:56:03.443409",
     "status": "completed"
    },
    "tags": []
   },
   "outputs": [],
   "source": [
    "PBsampleDF = adataPBsample.to_df()\n",
    "PBsampleDF['sampleID'] = adataPBsample.obs['sampleID']"
   ]
  },
  {
   "cell_type": "code",
   "execution_count": 10,
   "id": "bb384751-fe1b-4635-a90d-fd98ae61b173",
   "metadata": {
    "execution": {
     "iopub.execute_input": "2024-06-30T20:56:03.464411Z",
     "iopub.status.busy": "2024-06-30T20:56:03.464053Z",
     "iopub.status.idle": "2024-06-30T20:56:03.468542Z",
     "shell.execute_reply": "2024-06-30T20:56:03.468165Z"
    },
    "papermill": {
     "duration": 0.011465,
     "end_time": "2024-06-30T20:56:03.469452",
     "exception": false,
     "start_time": "2024-06-30T20:56:03.457987",
     "status": "completed"
    },
    "tags": []
   },
   "outputs": [],
   "source": [
    "PBcell_sampleDF = PBcellDF.merge(PBsampleDF, on='sampleID', how='left')"
   ]
  },
  {
   "cell_type": "code",
   "execution_count": 11,
   "id": "f7250713-e24d-4614-9cbd-eed702340640",
   "metadata": {
    "execution": {
     "iopub.execute_input": "2024-06-30T20:56:03.490253Z",
     "iopub.status.busy": "2024-06-30T20:56:03.489850Z",
     "iopub.status.idle": "2024-06-30T20:56:03.492192Z",
     "shell.execute_reply": "2024-06-30T20:56:03.491828Z"
    },
    "papermill": {
     "duration": 0.016258,
     "end_time": "2024-06-30T20:56:03.492987",
     "exception": false,
     "start_time": "2024-06-30T20:56:03.476729",
     "status": "completed"
    },
    "tags": []
   },
   "outputs": [],
   "source": [
    "assert(adataPBcell.obs['sampleID'].tolist() == PBcell_sampleDF['sampleID'].tolist())"
   ]
  },
  {
   "cell_type": "code",
   "execution_count": 12,
   "id": "abea2252-6a12-4b89-9f0d-6d6df90064fb",
   "metadata": {
    "execution": {
     "iopub.execute_input": "2024-06-30T20:56:03.505125Z",
     "iopub.status.busy": "2024-06-30T20:56:03.504818Z",
     "iopub.status.idle": "2024-06-30T20:56:03.507241Z",
     "shell.execute_reply": "2024-06-30T20:56:03.506875Z"
    },
    "papermill": {
     "duration": 0.009514,
     "end_time": "2024-06-30T20:56:03.508014",
     "exception": false,
     "start_time": "2024-06-30T20:56:03.498500",
     "status": "completed"
    },
    "tags": []
   },
   "outputs": [],
   "source": [
    "PBcell_sampleDF.drop('sampleID', axis=1, inplace=True)"
   ]
  },
  {
   "cell_type": "code",
   "execution_count": 13,
   "id": "5502e45d-5c72-4440-a8c1-5b299cac6e2d",
   "metadata": {
    "execution": {
     "iopub.execute_input": "2024-06-30T20:56:03.520111Z",
     "iopub.status.busy": "2024-06-30T20:56:03.519608Z",
     "iopub.status.idle": "2024-06-30T20:56:03.523425Z",
     "shell.execute_reply": "2024-06-30T20:56:03.523062Z"
    },
    "papermill": {
     "duration": 0.010622,
     "end_time": "2024-06-30T20:56:03.524196",
     "exception": false,
     "start_time": "2024-06-30T20:56:03.513574",
     "status": "completed"
    },
    "tags": []
   },
   "outputs": [
    {
     "data": {
      "text/plain": [
       "AnnData object with n_obs × n_vars = 1266 × 300\n",
       "    obs: 'sampleID', 'Level1', 'disease', 'n_observation'"
      ]
     },
     "execution_count": 13,
     "metadata": {},
     "output_type": "execute_result"
    }
   ],
   "source": [
    "adataPBcell_sample = sc.AnnData(X = PBcell_sampleDF, obs = adataPBcell.obs)\n",
    "adataPBcell_sample"
   ]
  },
  {
   "cell_type": "markdown",
   "id": "d59574be-684b-4082-b8b6-7d11930362ad",
   "metadata": {
    "papermill": {
     "duration": 0.013958,
     "end_time": "2024-06-30T20:56:03.543606",
     "exception": false,
     "start_time": "2024-06-30T20:56:03.529648",
     "status": "completed"
    },
    "tags": []
   },
   "source": [
    "### Saving pseudobulk adata objects"
   ]
  },
  {
   "cell_type": "code",
   "execution_count": 14,
   "id": "5947e6f8-ac27-4702-ba5d-aa9e1ba79f6a",
   "metadata": {
    "execution": {
     "iopub.execute_input": "2024-06-30T20:56:03.555984Z",
     "iopub.status.busy": "2024-06-30T20:56:03.555675Z",
     "iopub.status.idle": "2024-06-30T20:56:03.613708Z",
     "shell.execute_reply": "2024-06-30T20:56:03.613251Z"
    },
    "papermill": {
     "duration": 0.065315,
     "end_time": "2024-06-30T20:56:03.614849",
     "exception": false,
     "start_time": "2024-06-30T20:56:03.549534",
     "status": "completed"
    },
    "tags": []
   },
   "outputs": [],
   "source": [
    "adataPBcell.write(here(adataPATHlist[0].replace('/scPoli_','/PSEUDOBULKs/scPoli_PSEUDOBULKcell_')), compression='gzip')"
   ]
  },
  {
   "cell_type": "code",
   "execution_count": 15,
   "id": "e9485945-bccf-419a-9420-c1e4f3aa262d",
   "metadata": {
    "execution": {
     "iopub.execute_input": "2024-06-30T20:56:03.628529Z",
     "iopub.status.busy": "2024-06-30T20:56:03.628256Z",
     "iopub.status.idle": "2024-06-30T20:56:03.652492Z",
     "shell.execute_reply": "2024-06-30T20:56:03.652116Z"
    },
    "papermill": {
     "duration": 0.031156,
     "end_time": "2024-06-30T20:56:03.653347",
     "exception": false,
     "start_time": "2024-06-30T20:56:03.622191",
     "status": "completed"
    },
    "tags": []
   },
   "outputs": [],
   "source": [
    "adataPBsample.write(here(adataPATHlist[0].replace('/scPoli_','/PSEUDOBULKs/scPoli_PSEUDOBULKsample_')), compression='gzip')"
   ]
  },
  {
   "cell_type": "code",
   "execution_count": 16,
   "id": "9c2daa40-3279-4b24-8aad-65ee0ba758c8",
   "metadata": {
    "execution": {
     "iopub.execute_input": "2024-06-30T20:56:03.670132Z",
     "iopub.status.busy": "2024-06-30T20:56:03.669813Z",
     "iopub.status.idle": "2024-06-30T20:56:03.734575Z",
     "shell.execute_reply": "2024-06-30T20:56:03.734140Z"
    },
    "papermill": {
     "duration": 0.072369,
     "end_time": "2024-06-30T20:56:03.735409",
     "exception": false,
     "start_time": "2024-06-30T20:56:03.663040",
     "status": "completed"
    },
    "tags": []
   },
   "outputs": [],
   "source": [
    "adataPBcell_sample.write(here(adataPATHlist[0].replace('/scPoli_','/PSEUDOBULKs/scPoli_PSEUDOBULKcellSample_')), compression='gzip')"
   ]
  },
  {
   "cell_type": "code",
   "execution_count": null,
   "id": "8a70d9f6-7a44-45ee-8470-702bd7af1e0b",
   "metadata": {
    "papermill": {
     "duration": 0.005928,
     "end_time": "2024-06-30T20:56:03.747402",
     "exception": false,
     "start_time": "2024-06-30T20:56:03.741474",
     "status": "completed"
    },
    "tags": []
   },
   "outputs": [],
   "source": []
  }
 ],
 "metadata": {
  "kernelspec": {
   "display_name": "Python 3 (ipykernel)",
   "language": "python",
   "name": "python3"
  },
  "language_info": {
   "codemirror_mode": {
    "name": "ipython",
    "version": 3
   },
   "file_extension": ".py",
   "mimetype": "text/x-python",
   "name": "python",
   "nbconvert_exporter": "python",
   "pygments_lexer": "ipython3",
   "version": "3.12.3"
  },
  "papermill": {
   "default_parameters": {},
   "duration": 7.392762,
   "end_time": "2024-06-30T20:56:04.267280",
   "environment_variables": {},
   "exception": null,
   "input_path": "03_generating_PSEUDOBULKs.ipynb",
   "output_path": "executed_notebooks/03_generating_PSEUDOBULKs_EXTERNAL_200nEmb_100nPEmb.ipynb",
   "parameters": {
    "adataPATH": "03_downstream_analysis/08_PatientClassifier/scPoli/results/scPoli_EXTERNAL_2_200_100_*.h5ad"
   },
   "start_time": "2024-06-30T20:55:56.874518",
   "version": "2.6.0"
  }
 },
 "nbformat": 4,
 "nbformat_minor": 5
}