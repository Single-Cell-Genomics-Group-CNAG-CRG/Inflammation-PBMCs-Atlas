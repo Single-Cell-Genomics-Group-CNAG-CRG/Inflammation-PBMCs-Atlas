{
 "cells": [
  {
   "cell_type": "code",
   "execution_count": 1,
   "id": "d1238750",
   "metadata": {
    "execution": {
     "iopub.execute_input": "2024-06-30T20:58:45.382799Z",
     "iopub.status.busy": "2024-06-30T20:58:45.382504Z",
     "iopub.status.idle": "2024-06-30T20:58:45.385082Z",
     "shell.execute_reply": "2024-06-30T20:58:45.384718Z"
    },
    "papermill": {
     "duration": 0.010445,
     "end_time": "2024-06-30T20:58:45.385973",
     "exception": false,
     "start_time": "2024-06-30T20:58:45.375528",
     "status": "completed"
    },
    "tags": [
     "injected-parameters"
    ]
   },
   "outputs": [],
   "source": [
    "# Parameters\n",
    "adataPATH = \"03_downstream_analysis/08_PatientClassifier/scPoli/results/scPoli_EXTERNAL_2_100_20_run1_pd5nyb4g.h5ad\"\n"
   ]
  },
  {
   "cell_type": "raw",
   "id": "bf9880bd-3aef-477b-807d-37e3c5603037",
   "metadata": {
    "execution": {
     "iopub.execute_input": "2024-06-29T08:23:25.403219Z",
     "iopub.status.busy": "2024-06-29T08:23:25.402857Z",
     "iopub.status.idle": "2024-06-29T08:23:25.406428Z",
     "shell.execute_reply": "2024-06-29T08:23:25.406014Z",
     "shell.execute_reply.started": "2024-06-29T08:23:25.403185Z"
    },
    "papermill": {
     "duration": 0.004936,
     "end_time": "2024-06-30T20:58:45.397314",
     "exception": false,
     "start_time": "2024-06-30T20:58:45.392378",
     "status": "completed"
    },
    "tags": [],
    "vscode": {
     "languageId": "raw"
    }
   },
   "source": [
    "adataMAINpath = '03_downstream_analysis/08_PatientClassifier/scPoli/results/scPoli_2_100_20_*.h5ad'\n",
    "\n",
    "adataVALpath = '03_downstream_analysis/08_PatientClassifier/scPoli/results/scPoli_VALIDATION_2_20_20*.h5ad'\n",
    "adataEXCpath = '03_downstream_analysis/08_PatientClassifier/scPoli/results/scPoli_EXCLUDED_2_100_20_run1_pd5nyb4g.h5ad'\n",
    "adataEXTpath = '03_downstream_analysis/08_PatientClassifier/scPoli/results/scPoli_EXTERNAL_2_100_20_run1_pd5nyb4g.h5ad'\n",
    "\n",
    "adataPATH = adataVALpath"
   ]
  },
  {
   "cell_type": "code",
   "execution_count": 2,
   "id": "d3ccb10a-7201-43d0-a593-2b4650ff3451",
   "metadata": {
    "execution": {
     "iopub.execute_input": "2024-06-30T20:58:45.408301Z",
     "iopub.status.busy": "2024-06-30T20:58:45.407947Z",
     "iopub.status.idle": "2024-06-30T20:58:45.410963Z",
     "shell.execute_reply": "2024-06-30T20:58:45.410582Z"
    },
    "papermill": {
     "duration": 0.009428,
     "end_time": "2024-06-30T20:58:45.411769",
     "exception": false,
     "start_time": "2024-06-30T20:58:45.402341",
     "status": "completed"
    },
    "tags": []
   },
   "outputs": [
    {
     "name": "stdout",
     "output_type": "stream",
     "text": [
      "adataPATH = 03_downstream_analysis/08_PatientClassifier/scPoli/results/scPoli_EXTERNAL_2_100_20_run1_pd5nyb4g.h5ad\n"
     ]
    }
   ],
   "source": [
    "for v in ['adataPATH']:\n",
    "    if v in locals() or v in globals():\n",
    "        print(f\"{v} = {eval(v)}\")\n",
    "    else:\n",
    "        raise Exception(f\"{v} not specified\")"
   ]
  },
  {
   "cell_type": "code",
   "execution_count": 3,
   "id": "888fb5f4-9ab7-4196-a282-7a7e92a43971",
   "metadata": {
    "execution": {
     "iopub.execute_input": "2024-06-30T20:58:45.422912Z",
     "iopub.status.busy": "2024-06-30T20:58:45.422551Z",
     "iopub.status.idle": "2024-06-30T20:58:46.766806Z",
     "shell.execute_reply": "2024-06-30T20:58:46.766320Z"
    },
    "papermill": {
     "duration": 1.350993,
     "end_time": "2024-06-30T20:58:46.768002",
     "exception": false,
     "start_time": "2024-06-30T20:58:45.417009",
     "status": "completed"
    },
    "tags": []
   },
   "outputs": [],
   "source": [
    "import os\n",
    "import sys\n",
    "from glob import glob\n",
    "\n",
    "import scanpy as sc\n",
    "import pandas as pd\n",
    "\n",
    "from pyprojroot import here\n",
    "\n",
    "sys.path.insert(1, str(here('bin')))\n",
    "# Import custom functions\n",
    "from customPythonFunctions import aggregating_features"
   ]
  },
  {
   "cell_type": "markdown",
   "id": "ba4905ae-4546-4ef4-b57b-950441ab079d",
   "metadata": {
    "papermill": {
     "duration": 0.005074,
     "end_time": "2024-06-30T20:58:46.778827",
     "exception": false,
     "start_time": "2024-06-30T20:58:46.773753",
     "status": "completed"
    },
    "tags": []
   },
   "source": [
    "### Loading data"
   ]
  },
  {
   "cell_type": "code",
   "execution_count": 4,
   "id": "539cbbbb-3503-4f51-bf04-f007f928ebd1",
   "metadata": {
    "execution": {
     "iopub.execute_input": "2024-06-30T20:58:46.790265Z",
     "iopub.status.busy": "2024-06-30T20:58:46.789962Z",
     "iopub.status.idle": "2024-06-30T20:58:46.793659Z",
     "shell.execute_reply": "2024-06-30T20:58:46.793296Z"
    },
    "papermill": {
     "duration": 0.010522,
     "end_time": "2024-06-30T20:58:46.794468",
     "exception": false,
     "start_time": "2024-06-30T20:58:46.783946",
     "status": "completed"
    },
    "tags": []
   },
   "outputs": [],
   "source": [
    "adataPATHlist = glob(str(here(adataPATH)))\n",
    "assert(len(adataPATHlist) == 1)"
   ]
  },
  {
   "cell_type": "code",
   "execution_count": 5,
   "id": "0fcfce0a-896b-4dc0-8e5e-46749205c84f",
   "metadata": {
    "execution": {
     "iopub.execute_input": "2024-06-30T20:58:46.806092Z",
     "iopub.status.busy": "2024-06-30T20:58:46.805811Z",
     "iopub.status.idle": "2024-06-30T20:58:48.680824Z",
     "shell.execute_reply": "2024-06-30T20:58:48.680384Z"
    },
    "papermill": {
     "duration": 1.881516,
     "end_time": "2024-06-30T20:58:48.681656",
     "exception": false,
     "start_time": "2024-06-30T20:58:46.800140",
     "status": "completed"
    },
    "tags": []
   },
   "outputs": [
    {
     "data": {
      "text/plain": [
       "AnnData object with n_obs × n_vars = 572872 × 100\n",
       "    obs: 'studyID', 'libraryID', 'sampleID', 'chemistry', 'technology', 'disease', 'sex', 'binned_age', 'Level1', 'Level1_unc', 'Level2', 'Level2_unc'\n",
       "    uns: 'chemistry', 'sampleID'"
      ]
     },
     "execution_count": 5,
     "metadata": {},
     "output_type": "execute_result"
    }
   ],
   "source": [
    "adata = sc.read_h5ad(adataPATHlist[0])\n",
    "adata"
   ]
  },
  {
   "cell_type": "markdown",
   "id": "44e868b3-0771-4225-bd79-a4b179bc672b",
   "metadata": {
    "papermill": {
     "duration": 0.005622,
     "end_time": "2024-06-30T20:58:48.693239",
     "exception": false,
     "start_time": "2024-06-30T20:58:48.687617",
     "status": "completed"
    },
    "tags": []
   },
   "source": [
    "#### Generating PSEUDOBULKs"
   ]
  },
  {
   "cell_type": "markdown",
   "id": "97d09fc5-d05c-471e-87fa-fe58ccbe47ac",
   "metadata": {
    "papermill": {
     "duration": 0.008465,
     "end_time": "2024-06-30T20:58:48.709596",
     "exception": false,
     "start_time": "2024-06-30T20:58:48.701131",
     "status": "completed"
    },
    "tags": []
   },
   "source": [
    "**Aggregating cell latent features**"
   ]
  },
  {
   "cell_type": "code",
   "execution_count": 6,
   "id": "81223976-fcf6-4354-8964-b12d76468636",
   "metadata": {
    "execution": {
     "iopub.execute_input": "2024-06-30T20:58:48.722047Z",
     "iopub.status.busy": "2024-06-30T20:58:48.721444Z",
     "iopub.status.idle": "2024-06-30T20:58:49.054126Z",
     "shell.execute_reply": "2024-06-30T20:58:49.053685Z"
    },
    "papermill": {
     "duration": 0.339734,
     "end_time": "2024-06-30T20:58:49.054966",
     "exception": false,
     "start_time": "2024-06-30T20:58:48.715232",
     "status": "completed"
    },
    "tags": []
   },
   "outputs": [
    {
     "data": {
      "text/plain": [
       "AnnData object with n_obs × n_vars = 1267 × 100\n",
       "    obs: 'sampleID', 'Level1', 'disease', 'n_observation'"
      ]
     },
     "execution_count": 6,
     "metadata": {},
     "output_type": "execute_result"
    }
   ],
   "source": [
    "adataPBcell = aggregating_features(Z = adata.X, \n",
    "                             obsDF = adata.obs[['sampleID','Level1','disease']], \n",
    "                             mode = 'mean', \n",
    "                             obs_names_col=['sampleID','Level1'], \n",
    "                             min_observation=0)\n",
    "adataPBcell"
   ]
  },
  {
   "cell_type": "code",
   "execution_count": null,
   "id": "8495038e-aebd-4003-bd94-c1e49f47249e",
   "metadata": {
    "papermill": {
     "duration": 0.005322,
     "end_time": "2024-06-30T20:58:49.066052",
     "exception": false,
     "start_time": "2024-06-30T20:58:49.060730",
     "status": "completed"
    },
    "tags": []
   },
   "outputs": [],
   "source": []
  },
  {
   "cell_type": "markdown",
   "id": "6d602bad-4793-4aa4-b3d7-d118d413a0fc",
   "metadata": {
    "papermill": {
     "duration": 0.005359,
     "end_time": "2024-06-30T20:58:49.077173",
     "exception": false,
     "start_time": "2024-06-30T20:58:49.071814",
     "status": "completed"
    },
    "tags": []
   },
   "source": [
    "**Extracting sample embedding**"
   ]
  },
  {
   "cell_type": "code",
   "execution_count": 7,
   "id": "e2c14f02",
   "metadata": {
    "execution": {
     "iopub.execute_input": "2024-06-30T20:58:49.088789Z",
     "iopub.status.busy": "2024-06-30T20:58:49.088346Z",
     "iopub.status.idle": "2024-06-30T20:58:49.096331Z",
     "shell.execute_reply": "2024-06-30T20:58:49.095965Z"
    },
    "papermill": {
     "duration": 0.014811,
     "end_time": "2024-06-30T20:58:49.097125",
     "exception": false,
     "start_time": "2024-06-30T20:58:49.082314",
     "status": "completed"
    },
    "tags": []
   },
   "outputs": [
    {
     "data": {
      "text/plain": [
       "AnnData object with n_obs × n_vars = 86 × 20\n",
       "    obs: 'sampleID', 'disease', 'Level1'"
      ]
     },
     "execution_count": 7,
     "metadata": {},
     "output_type": "execute_result"
    }
   ],
   "source": [
    "adataPBsample = adata.uns['sampleID'].copy()\n",
    "adataPBsample.obs['sampleID'] = adataPBsample.obs.index\n",
    "adataPBsample = adataPBsample[adataPBsample.obs['sampleID'].isin(adataPBcell.obs['sampleID'])]\n",
    "\n",
    "adataPBsample.obs = adataPBsample.obs.merge(adataPBcell.obs.groupby('sampleID').agg({'disease':'first'}), left_index=True, right_index=True)\n",
    "adataPBsample.obs['Level1'] = 'sample'\n",
    "adataPBsample"
   ]
  },
  {
   "cell_type": "markdown",
   "id": "2d4fe137-7d68-4e86-a85c-3c1a3d3c4c71",
   "metadata": {
    "papermill": {
     "duration": 0.005513,
     "end_time": "2024-06-30T20:58:49.107995",
     "exception": false,
     "start_time": "2024-06-30T20:58:49.102482",
     "status": "completed"
    },
    "tags": []
   },
   "source": [
    "**Merging cell and patient latent features**"
   ]
  },
  {
   "cell_type": "code",
   "execution_count": 8,
   "id": "a326d2b1",
   "metadata": {
    "execution": {
     "iopub.execute_input": "2024-06-30T20:58:49.119673Z",
     "iopub.status.busy": "2024-06-30T20:58:49.119397Z",
     "iopub.status.idle": "2024-06-30T20:58:49.121748Z",
     "shell.execute_reply": "2024-06-30T20:58:49.121389Z"
    },
    "papermill": {
     "duration": 0.009226,
     "end_time": "2024-06-30T20:58:49.122513",
     "exception": false,
     "start_time": "2024-06-30T20:58:49.113287",
     "status": "completed"
    },
    "tags": []
   },
   "outputs": [],
   "source": [
    "PBcellDF = adataPBcell.to_df()\n",
    "PBcellDF['sampleID'] = adataPBcell.obs['sampleID']"
   ]
  },
  {
   "cell_type": "code",
   "execution_count": 9,
   "id": "1a597f46-d9c5-403b-b81e-5738ca206682",
   "metadata": {
    "execution": {
     "iopub.execute_input": "2024-06-30T20:58:49.134250Z",
     "iopub.status.busy": "2024-06-30T20:58:49.134097Z",
     "iopub.status.idle": "2024-06-30T20:58:49.136485Z",
     "shell.execute_reply": "2024-06-30T20:58:49.136119Z"
    },
    "papermill": {
     "duration": 0.009314,
     "end_time": "2024-06-30T20:58:49.137233",
     "exception": false,
     "start_time": "2024-06-30T20:58:49.127919",
     "status": "completed"
    },
    "tags": []
   },
   "outputs": [],
   "source": [
    "PBsampleDF = adataPBsample.to_df()\n",
    "PBsampleDF['sampleID'] = adataPBsample.obs['sampleID']"
   ]
  },
  {
   "cell_type": "code",
   "execution_count": 10,
   "id": "bb384751-fe1b-4635-a90d-fd98ae61b173",
   "metadata": {
    "execution": {
     "iopub.execute_input": "2024-06-30T20:58:49.148809Z",
     "iopub.status.busy": "2024-06-30T20:58:49.148677Z",
     "iopub.status.idle": "2024-06-30T20:58:49.152724Z",
     "shell.execute_reply": "2024-06-30T20:58:49.152367Z"
    },
    "papermill": {
     "duration": 0.01058,
     "end_time": "2024-06-30T20:58:49.153473",
     "exception": false,
     "start_time": "2024-06-30T20:58:49.142893",
     "status": "completed"
    },
    "tags": []
   },
   "outputs": [],
   "source": [
    "PBcell_sampleDF = PBcellDF.merge(PBsampleDF, on='sampleID', how='left')"
   ]
  },
  {
   "cell_type": "code",
   "execution_count": 11,
   "id": "f7250713-e24d-4614-9cbd-eed702340640",
   "metadata": {
    "execution": {
     "iopub.execute_input": "2024-06-30T20:58:49.165599Z",
     "iopub.status.busy": "2024-06-30T20:58:49.165257Z",
     "iopub.status.idle": "2024-06-30T20:58:49.167549Z",
     "shell.execute_reply": "2024-06-30T20:58:49.167177Z"
    },
    "papermill": {
     "duration": 0.009175,
     "end_time": "2024-06-30T20:58:49.168310",
     "exception": false,
     "start_time": "2024-06-30T20:58:49.159135",
     "status": "completed"
    },
    "tags": []
   },
   "outputs": [],
   "source": [
    "assert(adataPBcell.obs['sampleID'].tolist() == PBcell_sampleDF['sampleID'].tolist())"
   ]
  },
  {
   "cell_type": "code",
   "execution_count": 12,
   "id": "abea2252-6a12-4b89-9f0d-6d6df90064fb",
   "metadata": {
    "execution": {
     "iopub.execute_input": "2024-06-30T20:58:49.180181Z",
     "iopub.status.busy": "2024-06-30T20:58:49.179903Z",
     "iopub.status.idle": "2024-06-30T20:58:49.182402Z",
     "shell.execute_reply": "2024-06-30T20:58:49.182025Z"
    },
    "papermill": {
     "duration": 0.009118,
     "end_time": "2024-06-30T20:58:49.183144",
     "exception": false,
     "start_time": "2024-06-30T20:58:49.174026",
     "status": "completed"
    },
    "tags": []
   },
   "outputs": [],
   "source": [
    "PBcell_sampleDF.drop('sampleID', axis=1, inplace=True)"
   ]
  },
  {
   "cell_type": "code",
   "execution_count": 13,
   "id": "5502e45d-5c72-4440-a8c1-5b299cac6e2d",
   "metadata": {
    "execution": {
     "iopub.execute_input": "2024-06-30T20:58:49.195334Z",
     "iopub.status.busy": "2024-06-30T20:58:49.195183Z",
     "iopub.status.idle": "2024-06-30T20:58:49.198635Z",
     "shell.execute_reply": "2024-06-30T20:58:49.198289Z"
    },
    "papermill": {
     "duration": 0.010618,
     "end_time": "2024-06-30T20:58:49.199430",
     "exception": false,
     "start_time": "2024-06-30T20:58:49.188812",
     "status": "completed"
    },
    "tags": []
   },
   "outputs": [
    {
     "data": {
      "text/plain": [
       "AnnData object with n_obs × n_vars = 1267 × 120\n",
       "    obs: 'sampleID', 'Level1', 'disease', 'n_observation'"
      ]
     },
     "execution_count": 13,
     "metadata": {},
     "output_type": "execute_result"
    }
   ],
   "source": [
    "adataPBcell_sample = sc.AnnData(X = PBcell_sampleDF, obs = adataPBcell.obs)\n",
    "adataPBcell_sample"
   ]
  },
  {
   "cell_type": "markdown",
   "id": "d59574be-684b-4082-b8b6-7d11930362ad",
   "metadata": {
    "papermill": {
     "duration": 0.005387,
     "end_time": "2024-06-30T20:58:49.210620",
     "exception": false,
     "start_time": "2024-06-30T20:58:49.205233",
     "status": "completed"
    },
    "tags": []
   },
   "source": [
    "### Saving pseudobulk adata objects"
   ]
  },
  {
   "cell_type": "code",
   "execution_count": 14,
   "id": "5947e6f8-ac27-4702-ba5d-aa9e1ba79f6a",
   "metadata": {
    "execution": {
     "iopub.execute_input": "2024-06-30T20:58:49.222680Z",
     "iopub.status.busy": "2024-06-30T20:58:49.222371Z",
     "iopub.status.idle": "2024-06-30T20:58:49.261659Z",
     "shell.execute_reply": "2024-06-30T20:58:49.261247Z"
    },
    "papermill": {
     "duration": 0.046257,
     "end_time": "2024-06-30T20:58:49.262733",
     "exception": false,
     "start_time": "2024-06-30T20:58:49.216476",
     "status": "completed"
    },
    "tags": []
   },
   "outputs": [],
   "source": [
    "adataPBcell.write(here(adataPATHlist[0].replace('/scPoli_','/PSEUDOBULKs/scPoli_PSEUDOBULKcell_')), compression='gzip')"
   ]
  },
  {
   "cell_type": "code",
   "execution_count": 15,
   "id": "e9485945-bccf-419a-9420-c1e4f3aa262d",
   "metadata": {
    "execution": {
     "iopub.execute_input": "2024-06-30T20:58:49.275263Z",
     "iopub.status.busy": "2024-06-30T20:58:49.274949Z",
     "iopub.status.idle": "2024-06-30T20:58:49.294422Z",
     "shell.execute_reply": "2024-06-30T20:58:49.294034Z"
    },
    "papermill": {
     "duration": 0.02666,
     "end_time": "2024-06-30T20:58:49.295172",
     "exception": false,
     "start_time": "2024-06-30T20:58:49.268512",
     "status": "completed"
    },
    "tags": []
   },
   "outputs": [],
   "source": [
    "adataPBsample.write(here(adataPATHlist[0].replace('/scPoli_','/PSEUDOBULKs/scPoli_PSEUDOBULKsample_')), compression='gzip')"
   ]
  },
  {
   "cell_type": "code",
   "execution_count": 16,
   "id": "9c2daa40-3279-4b24-8aad-65ee0ba758c8",
   "metadata": {
    "execution": {
     "iopub.execute_input": "2024-06-30T20:58:49.307888Z",
     "iopub.status.busy": "2024-06-30T20:58:49.307601Z",
     "iopub.status.idle": "2024-06-30T20:58:49.348618Z",
     "shell.execute_reply": "2024-06-30T20:58:49.348210Z"
    },
    "papermill": {
     "duration": 0.048443,
     "end_time": "2024-06-30T20:58:49.349586",
     "exception": false,
     "start_time": "2024-06-30T20:58:49.301143",
     "status": "completed"
    },
    "tags": []
   },
   "outputs": [],
   "source": [
    "adataPBcell_sample.write(here(adataPATHlist[0].replace('/scPoli_','/PSEUDOBULKs/scPoli_PSEUDOBULKcellSample_')), compression='gzip')"
   ]
  },
  {
   "cell_type": "code",
   "execution_count": null,
   "id": "8a70d9f6-7a44-45ee-8470-702bd7af1e0b",
   "metadata": {
    "papermill": {
     "duration": 0.005593,
     "end_time": "2024-06-30T20:58:49.361104",
     "exception": false,
     "start_time": "2024-06-30T20:58:49.355511",
     "status": "completed"
    },
    "tags": []
   },
   "outputs": [],
   "source": []
  }
 ],
 "metadata": {
  "kernelspec": {
   "display_name": "Python 3 (ipykernel)",
   "language": "python",
   "name": "python3"
  },
  "language_info": {
   "codemirror_mode": {
    "name": "ipython",
    "version": 3
   },
   "file_extension": ".py",
   "mimetype": "text/x-python",
   "name": "python",
   "nbconvert_exporter": "python",
   "pygments_lexer": "ipython3",
   "version": "3.12.3"
  },
  "papermill": {
   "default_parameters": {},
   "duration": 5.730433,
   "end_time": "2024-06-30T20:58:49.881758",
   "environment_variables": {},
   "exception": null,
   "input_path": "03_generating_PSEUDOBULKs.ipynb",
   "output_path": "executed_notebooks/03_generating_PSEUDOBULKs_scPoli_EXTERNAL_2_100_20_run1_pd5nyb4g.h5ad.ipynb",
   "parameters": {
    "adataPATH": "03_downstream_analysis/08_PatientClassifier/scPoli/results/scPoli_EXTERNAL_2_100_20_run1_pd5nyb4g.h5ad"
   },
   "start_time": "2024-06-30T20:58:44.151325",
   "version": "2.6.0"
  }
 },
 "nbformat": 4,
 "nbformat_minor": 5
}