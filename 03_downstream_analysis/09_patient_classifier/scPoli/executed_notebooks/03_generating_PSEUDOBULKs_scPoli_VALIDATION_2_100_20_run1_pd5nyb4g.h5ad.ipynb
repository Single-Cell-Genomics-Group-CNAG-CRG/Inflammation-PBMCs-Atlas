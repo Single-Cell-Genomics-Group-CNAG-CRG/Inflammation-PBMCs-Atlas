{
 "cells": [
  {
   "cell_type": "code",
   "execution_count": 1,
   "id": "2246dda8",
   "metadata": {
    "execution": {
     "iopub.execute_input": "2024-06-30T21:01:55.819841Z",
     "iopub.status.busy": "2024-06-30T21:01:55.819539Z",
     "iopub.status.idle": "2024-06-30T21:01:55.822144Z",
     "shell.execute_reply": "2024-06-30T21:01:55.821774Z"
    },
    "papermill": {
     "duration": 0.009776,
     "end_time": "2024-06-30T21:01:55.822962",
     "exception": false,
     "start_time": "2024-06-30T21:01:55.813186",
     "status": "completed"
    },
    "tags": [
     "injected-parameters"
    ]
   },
   "outputs": [],
   "source": [
    "# Parameters\n",
    "adataPATH = \"03_downstream_analysis/08_PatientClassifier/scPoli/results/scPoli_VALIDATION_2_100_20_run1_pd5nyb4g.h5ad\"\n"
   ]
  },
  {
   "cell_type": "raw",
   "id": "bf9880bd-3aef-477b-807d-37e3c5603037",
   "metadata": {
    "execution": {
     "iopub.execute_input": "2024-06-29T08:23:25.403219Z",
     "iopub.status.busy": "2024-06-29T08:23:25.402857Z",
     "iopub.status.idle": "2024-06-29T08:23:25.406428Z",
     "shell.execute_reply": "2024-06-29T08:23:25.406014Z",
     "shell.execute_reply.started": "2024-06-29T08:23:25.403185Z"
    },
    "papermill": {
     "duration": 0.004986,
     "end_time": "2024-06-30T21:01:55.833390",
     "exception": false,
     "start_time": "2024-06-30T21:01:55.828404",
     "status": "completed"
    },
    "tags": [],
    "vscode": {
     "languageId": "raw"
    }
   },
   "source": [
    "adataMAINpath = '03_downstream_analysis/08_PatientClassifier/scPoli/results/scPoli_2_100_20_*.h5ad'\n",
    "\n",
    "adataVALpath = '03_downstream_analysis/08_PatientClassifier/scPoli/results/scPoli_VALIDATION_2_20_20*.h5ad'\n",
    "adataEXCpath = '03_downstream_analysis/08_PatientClassifier/scPoli/results/scPoli_EXCLUDED_2_100_20_run1_pd5nyb4g.h5ad'\n",
    "adataEXTpath = '03_downstream_analysis/08_PatientClassifier/scPoli/results/scPoli_EXTERNAL_2_100_20_run1_pd5nyb4g.h5ad'\n",
    "\n",
    "adataPATH = adataVALpath"
   ]
  },
  {
   "cell_type": "code",
   "execution_count": 2,
   "id": "d3ccb10a-7201-43d0-a593-2b4650ff3451",
   "metadata": {
    "execution": {
     "iopub.execute_input": "2024-06-30T21:01:55.845456Z",
     "iopub.status.busy": "2024-06-30T21:01:55.845085Z",
     "iopub.status.idle": "2024-06-30T21:01:55.848083Z",
     "shell.execute_reply": "2024-06-30T21:01:55.847684Z"
    },
    "papermill": {
     "duration": 0.010363,
     "end_time": "2024-06-30T21:01:55.848886",
     "exception": false,
     "start_time": "2024-06-30T21:01:55.838523",
     "status": "completed"
    },
    "tags": []
   },
   "outputs": [
    {
     "name": "stdout",
     "output_type": "stream",
     "text": [
      "adataPATH = 03_downstream_analysis/08_PatientClassifier/scPoli/results/scPoli_VALIDATION_2_100_20_run1_pd5nyb4g.h5ad\n"
     ]
    }
   ],
   "source": [
    "for v in ['adataPATH']:\n",
    "    if v in locals() or v in globals():\n",
    "        print(f\"{v} = {eval(v)}\")\n",
    "    else:\n",
    "        raise Exception(f\"{v} not specified\")"
   ]
  },
  {
   "cell_type": "code",
   "execution_count": 3,
   "id": "888fb5f4-9ab7-4196-a282-7a7e92a43971",
   "metadata": {
    "execution": {
     "iopub.execute_input": "2024-06-30T21:01:55.868772Z",
     "iopub.status.busy": "2024-06-30T21:01:55.868410Z",
     "iopub.status.idle": "2024-06-30T21:01:57.233676Z",
     "shell.execute_reply": "2024-06-30T21:01:57.233177Z"
    },
    "papermill": {
     "duration": 1.378171,
     "end_time": "2024-06-30T21:01:57.234656",
     "exception": false,
     "start_time": "2024-06-30T21:01:55.856485",
     "status": "completed"
    },
    "tags": []
   },
   "outputs": [],
   "source": [
    "import os\n",
    "import sys\n",
    "from glob import glob\n",
    "\n",
    "import scanpy as sc\n",
    "import pandas as pd\n",
    "\n",
    "from pyprojroot import here\n",
    "\n",
    "sys.path.insert(1, str(here('bin')))\n",
    "# Import custom functions\n",
    "from customPythonFunctions import aggregating_features"
   ]
  },
  {
   "cell_type": "markdown",
   "id": "ba4905ae-4546-4ef4-b57b-950441ab079d",
   "metadata": {
    "papermill": {
     "duration": 0.011239,
     "end_time": "2024-06-30T21:01:57.251286",
     "exception": false,
     "start_time": "2024-06-30T21:01:57.240047",
     "status": "completed"
    },
    "tags": []
   },
   "source": [
    "### Loading data"
   ]
  },
  {
   "cell_type": "code",
   "execution_count": 4,
   "id": "539cbbbb-3503-4f51-bf04-f007f928ebd1",
   "metadata": {
    "execution": {
     "iopub.execute_input": "2024-06-30T21:01:57.263243Z",
     "iopub.status.busy": "2024-06-30T21:01:57.262697Z",
     "iopub.status.idle": "2024-06-30T21:01:57.266521Z",
     "shell.execute_reply": "2024-06-30T21:01:57.266127Z"
    },
    "papermill": {
     "duration": 0.010451,
     "end_time": "2024-06-30T21:01:57.267343",
     "exception": false,
     "start_time": "2024-06-30T21:01:57.256892",
     "status": "completed"
    },
    "tags": []
   },
   "outputs": [],
   "source": [
    "adataPATHlist = glob(str(here(adataPATH)))\n",
    "assert(len(adataPATHlist) == 1)"
   ]
  },
  {
   "cell_type": "code",
   "execution_count": 5,
   "id": "0fcfce0a-896b-4dc0-8e5e-46749205c84f",
   "metadata": {
    "execution": {
     "iopub.execute_input": "2024-06-30T21:01:57.287993Z",
     "iopub.status.busy": "2024-06-30T21:01:57.287719Z",
     "iopub.status.idle": "2024-06-30T21:01:59.988934Z",
     "shell.execute_reply": "2024-06-30T21:01:59.988487Z"
    },
    "papermill": {
     "duration": 2.717318,
     "end_time": "2024-06-30T21:01:59.989753",
     "exception": false,
     "start_time": "2024-06-30T21:01:57.272435",
     "status": "completed"
    },
    "tags": []
   },
   "outputs": [
    {
     "data": {
      "text/plain": [
       "AnnData object with n_obs × n_vars = 849922 × 100\n",
       "    obs: 'studyID', 'libraryID', 'sampleID', 'chemistry', 'technology', 'disease', 'sex', 'binned_age', 'Level1', 'Level1_unc', 'Level2', 'Level2_unc'\n",
       "    uns: 'chemistry', 'sampleID'"
      ]
     },
     "execution_count": 5,
     "metadata": {},
     "output_type": "execute_result"
    }
   ],
   "source": [
    "adata = sc.read_h5ad(adataPATHlist[0])\n",
    "adata"
   ]
  },
  {
   "cell_type": "markdown",
   "id": "44e868b3-0771-4225-bd79-a4b179bc672b",
   "metadata": {
    "papermill": {
     "duration": 0.005102,
     "end_time": "2024-06-30T21:02:00.000621",
     "exception": false,
     "start_time": "2024-06-30T21:01:59.995519",
     "status": "completed"
    },
    "tags": []
   },
   "source": [
    "#### Generating PSEUDOBULKs"
   ]
  },
  {
   "cell_type": "markdown",
   "id": "97d09fc5-d05c-471e-87fa-fe58ccbe47ac",
   "metadata": {
    "papermill": {
     "duration": 0.005283,
     "end_time": "2024-06-30T21:02:00.011092",
     "exception": false,
     "start_time": "2024-06-30T21:02:00.005809",
     "status": "completed"
    },
    "tags": []
   },
   "source": [
    "**Aggregating cell latent features**"
   ]
  },
  {
   "cell_type": "code",
   "execution_count": 6,
   "id": "81223976-fcf6-4354-8964-b12d76468636",
   "metadata": {
    "execution": {
     "iopub.execute_input": "2024-06-30T21:02:00.022544Z",
     "iopub.status.busy": "2024-06-30T21:02:00.022082Z",
     "iopub.status.idle": "2024-06-30T21:02:00.514631Z",
     "shell.execute_reply": "2024-06-30T21:02:00.514160Z"
    },
    "papermill": {
     "duration": 0.499066,
     "end_time": "2024-06-30T21:02:00.515456",
     "exception": false,
     "start_time": "2024-06-30T21:02:00.016390",
     "status": "completed"
    },
    "tags": []
   },
   "outputs": [
    {
     "data": {
      "text/plain": [
       "AnnData object with n_obs × n_vars = 2115 × 100\n",
       "    obs: 'sampleID', 'Level1', 'disease', 'n_observation'"
      ]
     },
     "execution_count": 6,
     "metadata": {},
     "output_type": "execute_result"
    }
   ],
   "source": [
    "adataPBcell = aggregating_features(Z = adata.X, \n",
    "                             obsDF = adata.obs[['sampleID','Level1','disease']], \n",
    "                             mode = 'mean', \n",
    "                             obs_names_col=['sampleID','Level1'], \n",
    "                             min_observation=0)\n",
    "adataPBcell"
   ]
  },
  {
   "cell_type": "code",
   "execution_count": null,
   "id": "8495038e-aebd-4003-bd94-c1e49f47249e",
   "metadata": {
    "papermill": {
     "duration": 0.005423,
     "end_time": "2024-06-30T21:02:00.526911",
     "exception": false,
     "start_time": "2024-06-30T21:02:00.521488",
     "status": "completed"
    },
    "tags": []
   },
   "outputs": [],
   "source": []
  },
  {
   "cell_type": "markdown",
   "id": "6d602bad-4793-4aa4-b3d7-d118d413a0fc",
   "metadata": {
    "papermill": {
     "duration": 0.005831,
     "end_time": "2024-06-30T21:02:00.538271",
     "exception": false,
     "start_time": "2024-06-30T21:02:00.532440",
     "status": "completed"
    },
    "tags": []
   },
   "source": [
    "**Extracting sample embedding**"
   ]
  },
  {
   "cell_type": "code",
   "execution_count": 7,
   "id": "e2c14f02",
   "metadata": {
    "execution": {
     "iopub.execute_input": "2024-06-30T21:02:00.549214Z",
     "iopub.status.busy": "2024-06-30T21:02:00.549057Z",
     "iopub.status.idle": "2024-06-30T21:02:00.557497Z",
     "shell.execute_reply": "2024-06-30T21:02:00.557105Z"
    },
    "papermill": {
     "duration": 0.014874,
     "end_time": "2024-06-30T21:02:00.558274",
     "exception": false,
     "start_time": "2024-06-30T21:02:00.543400",
     "status": "completed"
    },
    "tags": []
   },
   "outputs": [
    {
     "data": {
      "text/plain": [
       "AnnData object with n_obs × n_vars = 144 × 20\n",
       "    obs: 'sampleID', 'disease', 'Level1'"
      ]
     },
     "execution_count": 7,
     "metadata": {},
     "output_type": "execute_result"
    }
   ],
   "source": [
    "adataPBsample = adata.uns['sampleID'].copy()\n",
    "adataPBsample.obs['sampleID'] = adataPBsample.obs.index\n",
    "adataPBsample = adataPBsample[adataPBsample.obs['sampleID'].isin(adataPBcell.obs['sampleID'])]\n",
    "\n",
    "adataPBsample.obs = adataPBsample.obs.merge(adataPBcell.obs.groupby('sampleID').agg({'disease':'first'}), left_index=True, right_index=True)\n",
    "adataPBsample.obs['Level1'] = 'sample'\n",
    "adataPBsample"
   ]
  },
  {
   "cell_type": "markdown",
   "id": "2d4fe137-7d68-4e86-a85c-3c1a3d3c4c71",
   "metadata": {
    "papermill": {
     "duration": 0.005227,
     "end_time": "2024-06-30T21:02:00.569083",
     "exception": false,
     "start_time": "2024-06-30T21:02:00.563856",
     "status": "completed"
    },
    "tags": []
   },
   "source": [
    "**Merging cell and patient latent features**"
   ]
  },
  {
   "cell_type": "code",
   "execution_count": 8,
   "id": "a326d2b1",
   "metadata": {
    "execution": {
     "iopub.execute_input": "2024-06-30T21:02:00.579894Z",
     "iopub.status.busy": "2024-06-30T21:02:00.579755Z",
     "iopub.status.idle": "2024-06-30T21:02:00.582211Z",
     "shell.execute_reply": "2024-06-30T21:02:00.581827Z"
    },
    "papermill": {
     "duration": 0.008704,
     "end_time": "2024-06-30T21:02:00.582980",
     "exception": false,
     "start_time": "2024-06-30T21:02:00.574276",
     "status": "completed"
    },
    "tags": []
   },
   "outputs": [],
   "source": [
    "PBcellDF = adataPBcell.to_df()\n",
    "PBcellDF['sampleID'] = adataPBcell.obs['sampleID']"
   ]
  },
  {
   "cell_type": "code",
   "execution_count": 9,
   "id": "1a597f46-d9c5-403b-b81e-5738ca206682",
   "metadata": {
    "execution": {
     "iopub.execute_input": "2024-06-30T21:02:00.594473Z",
     "iopub.status.busy": "2024-06-30T21:02:00.594050Z",
     "iopub.status.idle": "2024-06-30T21:02:00.596728Z",
     "shell.execute_reply": "2024-06-30T21:02:00.596363Z"
    },
    "papermill": {
     "duration": 0.009339,
     "end_time": "2024-06-30T21:02:00.597506",
     "exception": false,
     "start_time": "2024-06-30T21:02:00.588167",
     "status": "completed"
    },
    "tags": []
   },
   "outputs": [],
   "source": [
    "PBsampleDF = adataPBsample.to_df()\n",
    "PBsampleDF['sampleID'] = adataPBsample.obs['sampleID']"
   ]
  },
  {
   "cell_type": "code",
   "execution_count": 10,
   "id": "bb384751-fe1b-4635-a90d-fd98ae61b173",
   "metadata": {
    "execution": {
     "iopub.execute_input": "2024-06-30T21:02:00.618766Z",
     "iopub.status.busy": "2024-06-30T21:02:00.618496Z",
     "iopub.status.idle": "2024-06-30T21:02:00.622748Z",
     "shell.execute_reply": "2024-06-30T21:02:00.622388Z"
    },
    "papermill": {
     "duration": 0.010924,
     "end_time": "2024-06-30T21:02:00.623510",
     "exception": false,
     "start_time": "2024-06-30T21:02:00.612586",
     "status": "completed"
    },
    "tags": []
   },
   "outputs": [],
   "source": [
    "PBcell_sampleDF = PBcellDF.merge(PBsampleDF, on='sampleID', how='left')"
   ]
  },
  {
   "cell_type": "code",
   "execution_count": 11,
   "id": "f7250713-e24d-4614-9cbd-eed702340640",
   "metadata": {
    "execution": {
     "iopub.execute_input": "2024-06-30T21:02:00.634898Z",
     "iopub.status.busy": "2024-06-30T21:02:00.634563Z",
     "iopub.status.idle": "2024-06-30T21:02:00.636889Z",
     "shell.execute_reply": "2024-06-30T21:02:00.636523Z"
    },
    "papermill": {
     "duration": 0.008829,
     "end_time": "2024-06-30T21:02:00.637657",
     "exception": false,
     "start_time": "2024-06-30T21:02:00.628828",
     "status": "completed"
    },
    "tags": []
   },
   "outputs": [],
   "source": [
    "assert(adataPBcell.obs['sampleID'].tolist() == PBcell_sampleDF['sampleID'].tolist())"
   ]
  },
  {
   "cell_type": "code",
   "execution_count": 12,
   "id": "abea2252-6a12-4b89-9f0d-6d6df90064fb",
   "metadata": {
    "execution": {
     "iopub.execute_input": "2024-06-30T21:02:00.650294Z",
     "iopub.status.busy": "2024-06-30T21:02:00.649836Z",
     "iopub.status.idle": "2024-06-30T21:02:00.652459Z",
     "shell.execute_reply": "2024-06-30T21:02:00.652086Z"
    },
    "papermill": {
     "duration": 0.009638,
     "end_time": "2024-06-30T21:02:00.653217",
     "exception": false,
     "start_time": "2024-06-30T21:02:00.643579",
     "status": "completed"
    },
    "tags": []
   },
   "outputs": [],
   "source": [
    "PBcell_sampleDF.drop('sampleID', axis=1, inplace=True)"
   ]
  },
  {
   "cell_type": "code",
   "execution_count": 13,
   "id": "5502e45d-5c72-4440-a8c1-5b299cac6e2d",
   "metadata": {
    "execution": {
     "iopub.execute_input": "2024-06-30T21:02:00.668211Z",
     "iopub.status.busy": "2024-06-30T21:02:00.667906Z",
     "iopub.status.idle": "2024-06-30T21:02:00.671528Z",
     "shell.execute_reply": "2024-06-30T21:02:00.671148Z"
    },
    "papermill": {
     "duration": 0.012974,
     "end_time": "2024-06-30T21:02:00.672327",
     "exception": false,
     "start_time": "2024-06-30T21:02:00.659353",
     "status": "completed"
    },
    "tags": []
   },
   "outputs": [
    {
     "data": {
      "text/plain": [
       "AnnData object with n_obs × n_vars = 2115 × 120\n",
       "    obs: 'sampleID', 'Level1', 'disease', 'n_observation'"
      ]
     },
     "execution_count": 13,
     "metadata": {},
     "output_type": "execute_result"
    }
   ],
   "source": [
    "adataPBcell_sample = sc.AnnData(X = PBcell_sampleDF, obs = adataPBcell.obs)\n",
    "adataPBcell_sample"
   ]
  },
  {
   "cell_type": "markdown",
   "id": "d59574be-684b-4082-b8b6-7d11930362ad",
   "metadata": {
    "papermill": {
     "duration": 0.005386,
     "end_time": "2024-06-30T21:02:00.683558",
     "exception": false,
     "start_time": "2024-06-30T21:02:00.678172",
     "status": "completed"
    },
    "tags": []
   },
   "source": [
    "### Saving pseudobulk adata objects"
   ]
  },
  {
   "cell_type": "code",
   "execution_count": 14,
   "id": "5947e6f8-ac27-4702-ba5d-aa9e1ba79f6a",
   "metadata": {
    "execution": {
     "iopub.execute_input": "2024-06-30T21:02:00.695137Z",
     "iopub.status.busy": "2024-06-30T21:02:00.694792Z",
     "iopub.status.idle": "2024-06-30T21:02:00.746496Z",
     "shell.execute_reply": "2024-06-30T21:02:00.746040Z"
    },
    "papermill": {
     "duration": 0.058325,
     "end_time": "2024-06-30T21:02:00.747322",
     "exception": false,
     "start_time": "2024-06-30T21:02:00.688997",
     "status": "completed"
    },
    "tags": []
   },
   "outputs": [],
   "source": [
    "adataPBcell.write(here(adataPATHlist[0].replace('/scPoli_','/PSEUDOBULKs/scPoli_PSEUDOBULKcell_')), compression='gzip')"
   ]
  },
  {
   "cell_type": "code",
   "execution_count": 15,
   "id": "e9485945-bccf-419a-9420-c1e4f3aa262d",
   "metadata": {
    "execution": {
     "iopub.execute_input": "2024-06-30T21:02:00.759950Z",
     "iopub.status.busy": "2024-06-30T21:02:00.759583Z",
     "iopub.status.idle": "2024-06-30T21:02:00.779824Z",
     "shell.execute_reply": "2024-06-30T21:02:00.779444Z"
    },
    "papermill": {
     "duration": 0.026954,
     "end_time": "2024-06-30T21:02:00.780604",
     "exception": false,
     "start_time": "2024-06-30T21:02:00.753650",
     "status": "completed"
    },
    "tags": []
   },
   "outputs": [],
   "source": [
    "adataPBsample.write(here(adataPATHlist[0].replace('/scPoli_','/PSEUDOBULKs/scPoli_PSEUDOBULKsample_')), compression='gzip')"
   ]
  },
  {
   "cell_type": "code",
   "execution_count": 16,
   "id": "9c2daa40-3279-4b24-8aad-65ee0ba758c8",
   "metadata": {
    "execution": {
     "iopub.execute_input": "2024-06-30T21:02:00.792920Z",
     "iopub.status.busy": "2024-06-30T21:02:00.792628Z",
     "iopub.status.idle": "2024-06-30T21:02:00.844512Z",
     "shell.execute_reply": "2024-06-30T21:02:00.844060Z"
    },
    "papermill": {
     "duration": 0.059109,
     "end_time": "2024-06-30T21:02:00.845344",
     "exception": false,
     "start_time": "2024-06-30T21:02:00.786235",
     "status": "completed"
    },
    "tags": []
   },
   "outputs": [],
   "source": [
    "adataPBcell_sample.write(here(adataPATHlist[0].replace('/scPoli_','/PSEUDOBULKs/scPoli_PSEUDOBULKcellSample_')), compression='gzip')"
   ]
  },
  {
   "cell_type": "code",
   "execution_count": null,
   "id": "8a70d9f6-7a44-45ee-8470-702bd7af1e0b",
   "metadata": {
    "papermill": {
     "duration": 0.00713,
     "end_time": "2024-06-30T21:02:00.858106",
     "exception": false,
     "start_time": "2024-06-30T21:02:00.850976",
     "status": "completed"
    },
    "tags": []
   },
   "outputs": [],
   "source": []
  }
 ],
 "metadata": {
  "kernelspec": {
   "display_name": "Python 3 (ipykernel)",
   "language": "python",
   "name": "python3"
  },
  "language_info": {
   "codemirror_mode": {
    "name": "ipython",
    "version": 3
   },
   "file_extension": ".py",
   "mimetype": "text/x-python",
   "name": "python",
   "nbconvert_exporter": "python",
   "pygments_lexer": "ipython3",
   "version": "3.12.3"
  },
  "papermill": {
   "default_parameters": {},
   "duration": 6.836683,
   "end_time": "2024-06-30T21:02:01.478979",
   "environment_variables": {},
   "exception": null,
   "input_path": "03_generating_PSEUDOBULKs.ipynb",
   "output_path": "executed_notebooks/03_generating_PSEUDOBULKs_scPoli_VALIDATION_2_100_20_run1_pd5nyb4g.h5ad.ipynb",
   "parameters": {
    "adataPATH": "03_downstream_analysis/08_PatientClassifier/scPoli/results/scPoli_VALIDATION_2_100_20_run1_pd5nyb4g.h5ad"
   },
   "start_time": "2024-06-30T21:01:54.642296",
   "version": "2.6.0"
  }
 },
 "nbformat": 4,
 "nbformat_minor": 5
}