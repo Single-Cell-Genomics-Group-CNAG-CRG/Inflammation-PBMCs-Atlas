{
 "cells": [
  {
   "cell_type": "code",
   "execution_count": 1,
   "id": "3178c506",
   "metadata": {
    "execution": {
     "iopub.execute_input": "2024-06-30T20:59:23.298014Z",
     "iopub.status.busy": "2024-06-30T20:59:23.297660Z",
     "iopub.status.idle": "2024-06-30T20:59:23.300254Z",
     "shell.execute_reply": "2024-06-30T20:59:23.299895Z"
    },
    "papermill": {
     "duration": 0.009502,
     "end_time": "2024-06-30T20:59:23.301095",
     "exception": false,
     "start_time": "2024-06-30T20:59:23.291593",
     "status": "completed"
    },
    "tags": [
     "injected-parameters"
    ]
   },
   "outputs": [],
   "source": [
    "# Parameters\n",
    "adataPATH = \"03_downstream_analysis/08_PatientClassifier/scPoli/results/scPoli_ref_latents_VALIDATION_2_100_100_run2_gubrri7h.h5ad\"\n"
   ]
  },
  {
   "cell_type": "raw",
   "id": "bf9880bd-3aef-477b-807d-37e3c5603037",
   "metadata": {
    "execution": {
     "iopub.execute_input": "2024-06-29T08:23:25.403219Z",
     "iopub.status.busy": "2024-06-29T08:23:25.402857Z",
     "iopub.status.idle": "2024-06-29T08:23:25.406428Z",
     "shell.execute_reply": "2024-06-29T08:23:25.406014Z",
     "shell.execute_reply.started": "2024-06-29T08:23:25.403185Z"
    },
    "papermill": {
     "duration": 0.004606,
     "end_time": "2024-06-30T20:59:23.310666",
     "exception": false,
     "start_time": "2024-06-30T20:59:23.306060",
     "status": "completed"
    },
    "tags": [],
    "vscode": {
     "languageId": "raw"
    }
   },
   "source": [
    "adataMAINpath = '03_downstream_analysis/08_PatientClassifier/scPoli/results/scPoli_2_100_20_*.h5ad'\n",
    "\n",
    "adataVALpath = '03_downstream_analysis/08_PatientClassifier/scPoli/results/scPoli_VALIDATION_2_20_20*.h5ad'\n",
    "adataEXCpath = '03_downstream_analysis/08_PatientClassifier/scPoli/results/scPoli_EXCLUDED_2_100_20_run1_pd5nyb4g.h5ad'\n",
    "adataEXTpath = '03_downstream_analysis/08_PatientClassifier/scPoli/results/scPoli_EXTERNAL_2_100_20_run1_pd5nyb4g.h5ad'\n",
    "\n",
    "adataPATH = adataVALpath"
   ]
  },
  {
   "cell_type": "code",
   "execution_count": 2,
   "id": "d3ccb10a-7201-43d0-a593-2b4650ff3451",
   "metadata": {
    "execution": {
     "iopub.execute_input": "2024-06-30T20:59:23.320743Z",
     "iopub.status.busy": "2024-06-30T20:59:23.320388Z",
     "iopub.status.idle": "2024-06-30T20:59:23.323310Z",
     "shell.execute_reply": "2024-06-30T20:59:23.322940Z"
    },
    "papermill": {
     "duration": 0.008605,
     "end_time": "2024-06-30T20:59:23.324083",
     "exception": false,
     "start_time": "2024-06-30T20:59:23.315478",
     "status": "completed"
    },
    "tags": []
   },
   "outputs": [
    {
     "name": "stdout",
     "output_type": "stream",
     "text": [
      "adataPATH = 03_downstream_analysis/08_PatientClassifier/scPoli/results/scPoli_ref_latents_VALIDATION_2_100_100_run2_gubrri7h.h5ad\n"
     ]
    }
   ],
   "source": [
    "for v in ['adataPATH']:\n",
    "    if v in locals() or v in globals():\n",
    "        print(f\"{v} = {eval(v)}\")\n",
    "    else:\n",
    "        raise Exception(f\"{v} not specified\")"
   ]
  },
  {
   "cell_type": "code",
   "execution_count": 3,
   "id": "888fb5f4-9ab7-4196-a282-7a7e92a43971",
   "metadata": {
    "execution": {
     "iopub.execute_input": "2024-06-30T20:59:23.334397Z",
     "iopub.status.busy": "2024-06-30T20:59:23.334050Z",
     "iopub.status.idle": "2024-06-30T20:59:24.869498Z",
     "shell.execute_reply": "2024-06-30T20:59:24.868998Z"
    },
    "papermill": {
     "duration": 1.541847,
     "end_time": "2024-06-30T20:59:24.870667",
     "exception": false,
     "start_time": "2024-06-30T20:59:23.328820",
     "status": "completed"
    },
    "tags": []
   },
   "outputs": [],
   "source": [
    "import os\n",
    "import sys\n",
    "from glob import glob\n",
    "\n",
    "import scanpy as sc\n",
    "import pandas as pd\n",
    "\n",
    "from pyprojroot import here\n",
    "\n",
    "sys.path.insert(1, str(here('bin')))\n",
    "# Import custom functions\n",
    "from customPythonFunctions import aggregating_features"
   ]
  },
  {
   "cell_type": "markdown",
   "id": "ba4905ae-4546-4ef4-b57b-950441ab079d",
   "metadata": {
    "papermill": {
     "duration": 0.004495,
     "end_time": "2024-06-30T20:59:24.880019",
     "exception": false,
     "start_time": "2024-06-30T20:59:24.875524",
     "status": "completed"
    },
    "tags": []
   },
   "source": [
    "### Loading data"
   ]
  },
  {
   "cell_type": "code",
   "execution_count": 4,
   "id": "539cbbbb-3503-4f51-bf04-f007f928ebd1",
   "metadata": {
    "execution": {
     "iopub.execute_input": "2024-06-30T20:59:24.903625Z",
     "iopub.status.busy": "2024-06-30T20:59:24.903134Z",
     "iopub.status.idle": "2024-06-30T20:59:24.906864Z",
     "shell.execute_reply": "2024-06-30T20:59:24.906484Z"
    },
    "papermill": {
     "duration": 0.009874,
     "end_time": "2024-06-30T20:59:24.907647",
     "exception": false,
     "start_time": "2024-06-30T20:59:24.897773",
     "status": "completed"
    },
    "tags": []
   },
   "outputs": [],
   "source": [
    "adataPATHlist = glob(str(here(adataPATH)))\n",
    "assert(len(adataPATHlist) == 1)"
   ]
  },
  {
   "cell_type": "code",
   "execution_count": 5,
   "id": "0fcfce0a-896b-4dc0-8e5e-46749205c84f",
   "metadata": {
    "execution": {
     "iopub.execute_input": "2024-06-30T20:59:24.918083Z",
     "iopub.status.busy": "2024-06-30T20:59:24.917679Z",
     "iopub.status.idle": "2024-06-30T20:59:40.750322Z",
     "shell.execute_reply": "2024-06-30T20:59:40.749864Z"
    },
    "papermill": {
     "duration": 15.838726,
     "end_time": "2024-06-30T20:59:40.751186",
     "exception": false,
     "start_time": "2024-06-30T20:59:24.912460",
     "status": "completed"
    },
    "tags": []
   },
   "outputs": [
    {
     "data": {
      "text/plain": [
       "AnnData object with n_obs × n_vars = 4435922 × 100\n",
       "    obs: 'studyID', 'libraryID', 'sampleID', 'chemistry', 'disease', 'sex', 'binned_age', 'Level1', 'Level2'\n",
       "    uns: 'chemistry', 'sampleID'"
      ]
     },
     "execution_count": 5,
     "metadata": {},
     "output_type": "execute_result"
    }
   ],
   "source": [
    "adata = sc.read_h5ad(adataPATHlist[0])\n",
    "adata"
   ]
  },
  {
   "cell_type": "markdown",
   "id": "44e868b3-0771-4225-bd79-a4b179bc672b",
   "metadata": {
    "papermill": {
     "duration": 0.004711,
     "end_time": "2024-06-30T20:59:40.761141",
     "exception": false,
     "start_time": "2024-06-30T20:59:40.756430",
     "status": "completed"
    },
    "tags": []
   },
   "source": [
    "#### Generating PSEUDOBULKs"
   ]
  },
  {
   "cell_type": "markdown",
   "id": "97d09fc5-d05c-471e-87fa-fe58ccbe47ac",
   "metadata": {
    "papermill": {
     "duration": 0.004693,
     "end_time": "2024-06-30T20:59:40.770655",
     "exception": false,
     "start_time": "2024-06-30T20:59:40.765962",
     "status": "completed"
    },
    "tags": []
   },
   "source": [
    "**Aggregating cell latent features**"
   ]
  },
  {
   "cell_type": "code",
   "execution_count": 6,
   "id": "81223976-fcf6-4354-8964-b12d76468636",
   "metadata": {
    "execution": {
     "iopub.execute_input": "2024-06-30T20:59:40.780962Z",
     "iopub.status.busy": "2024-06-30T20:59:40.780813Z",
     "iopub.status.idle": "2024-06-30T20:59:43.257517Z",
     "shell.execute_reply": "2024-06-30T20:59:43.257049Z"
    },
    "papermill": {
     "duration": 2.482938,
     "end_time": "2024-06-30T20:59:43.258376",
     "exception": false,
     "start_time": "2024-06-30T20:59:40.775438",
     "status": "completed"
    },
    "tags": []
   },
   "outputs": [
    {
     "data": {
      "text/plain": [
       "AnnData object with n_obs × n_vars = 11372 × 100\n",
       "    obs: 'sampleID', 'Level1', 'disease', 'n_observation'"
      ]
     },
     "execution_count": 6,
     "metadata": {},
     "output_type": "execute_result"
    }
   ],
   "source": [
    "adataPBcell = aggregating_features(Z = adata.X, \n",
    "                             obsDF = adata.obs[['sampleID','Level1','disease']], \n",
    "                             mode = 'mean', \n",
    "                             obs_names_col=['sampleID','Level1'], \n",
    "                             min_observation=0)\n",
    "adataPBcell"
   ]
  },
  {
   "cell_type": "code",
   "execution_count": null,
   "id": "8495038e-aebd-4003-bd94-c1e49f47249e",
   "metadata": {
    "papermill": {
     "duration": 0.004924,
     "end_time": "2024-06-30T20:59:43.269945",
     "exception": false,
     "start_time": "2024-06-30T20:59:43.265021",
     "status": "completed"
    },
    "tags": []
   },
   "outputs": [],
   "source": []
  },
  {
   "cell_type": "markdown",
   "id": "6d602bad-4793-4aa4-b3d7-d118d413a0fc",
   "metadata": {
    "papermill": {
     "duration": 0.00481,
     "end_time": "2024-06-30T20:59:43.280104",
     "exception": false,
     "start_time": "2024-06-30T20:59:43.275294",
     "status": "completed"
    },
    "tags": []
   },
   "source": [
    "**Extracting sample embedding**"
   ]
  },
  {
   "cell_type": "code",
   "execution_count": 7,
   "id": "e2c14f02",
   "metadata": {
    "execution": {
     "iopub.execute_input": "2024-06-30T20:59:43.290503Z",
     "iopub.status.busy": "2024-06-30T20:59:43.290354Z",
     "iopub.status.idle": "2024-06-30T20:59:43.300058Z",
     "shell.execute_reply": "2024-06-30T20:59:43.299703Z"
    },
    "papermill": {
     "duration": 0.015908,
     "end_time": "2024-06-30T20:59:43.300873",
     "exception": false,
     "start_time": "2024-06-30T20:59:43.284965",
     "status": "completed"
    },
    "tags": []
   },
   "outputs": [
    {
     "data": {
      "text/plain": [
       "AnnData object with n_obs × n_vars = 817 × 100\n",
       "    obs: 'sampleID', 'disease', 'Level1'"
      ]
     },
     "execution_count": 7,
     "metadata": {},
     "output_type": "execute_result"
    }
   ],
   "source": [
    "adataPBsample = adata.uns['sampleID'].copy()\n",
    "adataPBsample.obs['sampleID'] = adataPBsample.obs.index\n",
    "adataPBsample = adataPBsample[adataPBsample.obs['sampleID'].isin(adataPBcell.obs['sampleID'])]\n",
    "\n",
    "adataPBsample.obs = adataPBsample.obs.merge(adataPBcell.obs.groupby('sampleID').agg({'disease':'first'}), left_index=True, right_index=True)\n",
    "adataPBsample.obs['Level1'] = 'sample'\n",
    "adataPBsample"
   ]
  },
  {
   "cell_type": "markdown",
   "id": "2d4fe137-7d68-4e86-a85c-3c1a3d3c4c71",
   "metadata": {
    "papermill": {
     "duration": 0.005122,
     "end_time": "2024-06-30T20:59:43.311409",
     "exception": false,
     "start_time": "2024-06-30T20:59:43.306287",
     "status": "completed"
    },
    "tags": []
   },
   "source": [
    "**Merging cell and patient latent features**"
   ]
  },
  {
   "cell_type": "code",
   "execution_count": 8,
   "id": "a326d2b1",
   "metadata": {
    "execution": {
     "iopub.execute_input": "2024-06-30T20:59:43.322897Z",
     "iopub.status.busy": "2024-06-30T20:59:43.322452Z",
     "iopub.status.idle": "2024-06-30T20:59:43.325040Z",
     "shell.execute_reply": "2024-06-30T20:59:43.324685Z"
    },
    "papermill": {
     "duration": 0.009165,
     "end_time": "2024-06-30T20:59:43.325833",
     "exception": false,
     "start_time": "2024-06-30T20:59:43.316668",
     "status": "completed"
    },
    "tags": []
   },
   "outputs": [],
   "source": [
    "PBcellDF = adataPBcell.to_df()\n",
    "PBcellDF['sampleID'] = adataPBcell.obs['sampleID']"
   ]
  },
  {
   "cell_type": "code",
   "execution_count": 9,
   "id": "1a597f46-d9c5-403b-b81e-5738ca206682",
   "metadata": {
    "execution": {
     "iopub.execute_input": "2024-06-30T20:59:43.342120Z",
     "iopub.status.busy": "2024-06-30T20:59:43.341761Z",
     "iopub.status.idle": "2024-06-30T20:59:43.344243Z",
     "shell.execute_reply": "2024-06-30T20:59:43.343890Z"
    },
    "papermill": {
     "duration": 0.008988,
     "end_time": "2024-06-30T20:59:43.344984",
     "exception": false,
     "start_time": "2024-06-30T20:59:43.335996",
     "status": "completed"
    },
    "tags": []
   },
   "outputs": [],
   "source": [
    "PBsampleDF = adataPBsample.to_df()\n",
    "PBsampleDF['sampleID'] = adataPBsample.obs['sampleID']"
   ]
  },
  {
   "cell_type": "code",
   "execution_count": 10,
   "id": "bb384751-fe1b-4635-a90d-fd98ae61b173",
   "metadata": {
    "execution": {
     "iopub.execute_input": "2024-06-30T20:59:43.356562Z",
     "iopub.status.busy": "2024-06-30T20:59:43.356301Z",
     "iopub.status.idle": "2024-06-30T20:59:43.366167Z",
     "shell.execute_reply": "2024-06-30T20:59:43.365670Z"
    },
    "papermill": {
     "duration": 0.015906,
     "end_time": "2024-06-30T20:59:43.366965",
     "exception": false,
     "start_time": "2024-06-30T20:59:43.351059",
     "status": "completed"
    },
    "tags": []
   },
   "outputs": [],
   "source": [
    "PBcell_sampleDF = PBcellDF.merge(PBsampleDF, on='sampleID', how='left')"
   ]
  },
  {
   "cell_type": "code",
   "execution_count": 11,
   "id": "f7250713-e24d-4614-9cbd-eed702340640",
   "metadata": {
    "execution": {
     "iopub.execute_input": "2024-06-30T20:59:43.378661Z",
     "iopub.status.busy": "2024-06-30T20:59:43.378392Z",
     "iopub.status.idle": "2024-06-30T20:59:43.380917Z",
     "shell.execute_reply": "2024-06-30T20:59:43.380567Z"
    },
    "papermill": {
     "duration": 0.009329,
     "end_time": "2024-06-30T20:59:43.381669",
     "exception": false,
     "start_time": "2024-06-30T20:59:43.372340",
     "status": "completed"
    },
    "tags": []
   },
   "outputs": [],
   "source": [
    "assert(adataPBcell.obs['sampleID'].tolist() == PBcell_sampleDF['sampleID'].tolist())"
   ]
  },
  {
   "cell_type": "code",
   "execution_count": 12,
   "id": "abea2252-6a12-4b89-9f0d-6d6df90064fb",
   "metadata": {
    "execution": {
     "iopub.execute_input": "2024-06-30T20:59:43.392909Z",
     "iopub.status.busy": "2024-06-30T20:59:43.392495Z",
     "iopub.status.idle": "2024-06-30T20:59:43.396088Z",
     "shell.execute_reply": "2024-06-30T20:59:43.395622Z"
    },
    "papermill": {
     "duration": 0.010066,
     "end_time": "2024-06-30T20:59:43.396905",
     "exception": false,
     "start_time": "2024-06-30T20:59:43.386839",
     "status": "completed"
    },
    "tags": []
   },
   "outputs": [],
   "source": [
    "PBcell_sampleDF.drop('sampleID', axis=1, inplace=True)"
   ]
  },
  {
   "cell_type": "code",
   "execution_count": 13,
   "id": "5502e45d-5c72-4440-a8c1-5b299cac6e2d",
   "metadata": {
    "execution": {
     "iopub.execute_input": "2024-06-30T20:59:43.408035Z",
     "iopub.status.busy": "2024-06-30T20:59:43.407673Z",
     "iopub.status.idle": "2024-06-30T20:59:43.412295Z",
     "shell.execute_reply": "2024-06-30T20:59:43.411904Z"
    },
    "papermill": {
     "duration": 0.011113,
     "end_time": "2024-06-30T20:59:43.413107",
     "exception": false,
     "start_time": "2024-06-30T20:59:43.401994",
     "status": "completed"
    },
    "tags": []
   },
   "outputs": [
    {
     "data": {
      "text/plain": [
       "AnnData object with n_obs × n_vars = 11372 × 200\n",
       "    obs: 'sampleID', 'Level1', 'disease', 'n_observation'"
      ]
     },
     "execution_count": 13,
     "metadata": {},
     "output_type": "execute_result"
    }
   ],
   "source": [
    "adataPBcell_sample = sc.AnnData(X = PBcell_sampleDF, obs = adataPBcell.obs)\n",
    "adataPBcell_sample"
   ]
  },
  {
   "cell_type": "markdown",
   "id": "d59574be-684b-4082-b8b6-7d11930362ad",
   "metadata": {
    "papermill": {
     "duration": 0.006043,
     "end_time": "2024-06-30T20:59:43.424297",
     "exception": false,
     "start_time": "2024-06-30T20:59:43.418254",
     "status": "completed"
    },
    "tags": []
   },
   "source": [
    "### Saving pseudobulk adata objects"
   ]
  },
  {
   "cell_type": "code",
   "execution_count": 14,
   "id": "5947e6f8-ac27-4702-ba5d-aa9e1ba79f6a",
   "metadata": {
    "execution": {
     "iopub.execute_input": "2024-06-30T20:59:43.435220Z",
     "iopub.status.busy": "2024-06-30T20:59:43.434929Z",
     "iopub.status.idle": "2024-06-30T20:59:43.629733Z",
     "shell.execute_reply": "2024-06-30T20:59:43.629252Z"
    },
    "papermill": {
     "duration": 0.201115,
     "end_time": "2024-06-30T20:59:43.630598",
     "exception": false,
     "start_time": "2024-06-30T20:59:43.429483",
     "status": "completed"
    },
    "tags": []
   },
   "outputs": [],
   "source": [
    "adataPBcell.write(here(adataPATHlist[0].replace('/scPoli_','/PSEUDOBULKs/scPoli_PSEUDOBULKcell_')), compression='gzip')"
   ]
  },
  {
   "cell_type": "code",
   "execution_count": 15,
   "id": "e9485945-bccf-419a-9420-c1e4f3aa262d",
   "metadata": {
    "execution": {
     "iopub.execute_input": "2024-06-30T20:59:43.642586Z",
     "iopub.status.busy": "2024-06-30T20:59:43.642171Z",
     "iopub.status.idle": "2024-06-30T20:59:43.672773Z",
     "shell.execute_reply": "2024-06-30T20:59:43.672377Z"
    },
    "papermill": {
     "duration": 0.037205,
     "end_time": "2024-06-30T20:59:43.673614",
     "exception": false,
     "start_time": "2024-06-30T20:59:43.636409",
     "status": "completed"
    },
    "tags": []
   },
   "outputs": [],
   "source": [
    "adataPBsample.write(here(adataPATHlist[0].replace('/scPoli_','/PSEUDOBULKs/scPoli_PSEUDOBULKsample_')), compression='gzip')"
   ]
  },
  {
   "cell_type": "code",
   "execution_count": 16,
   "id": "9c2daa40-3279-4b24-8aad-65ee0ba758c8",
   "metadata": {
    "execution": {
     "iopub.execute_input": "2024-06-30T20:59:43.684917Z",
     "iopub.status.busy": "2024-06-30T20:59:43.684600Z",
     "iopub.status.idle": "2024-06-30T20:59:43.908442Z",
     "shell.execute_reply": "2024-06-30T20:59:43.907923Z"
    },
    "papermill": {
     "duration": 0.230477,
     "end_time": "2024-06-30T20:59:43.909575",
     "exception": false,
     "start_time": "2024-06-30T20:59:43.679098",
     "status": "completed"
    },
    "tags": []
   },
   "outputs": [],
   "source": [
    "adataPBcell_sample.write(here(adataPATHlist[0].replace('/scPoli_','/PSEUDOBULKs/scPoli_PSEUDOBULKcellSample_')), compression='gzip')"
   ]
  },
  {
   "cell_type": "code",
   "execution_count": null,
   "id": "8a70d9f6-7a44-45ee-8470-702bd7af1e0b",
   "metadata": {
    "papermill": {
     "duration": 0.00518,
     "end_time": "2024-06-30T20:59:43.920945",
     "exception": false,
     "start_time": "2024-06-30T20:59:43.915765",
     "status": "completed"
    },
    "tags": []
   },
   "outputs": [],
   "source": []
  }
 ],
 "metadata": {
  "kernelspec": {
   "display_name": "Python 3 (ipykernel)",
   "language": "python",
   "name": "python3"
  },
  "language_info": {
   "codemirror_mode": {
    "name": "ipython",
    "version": 3
   },
   "file_extension": ".py",
   "mimetype": "text/x-python",
   "name": "python",
   "nbconvert_exporter": "python",
   "pygments_lexer": "ipython3",
   "version": "3.12.3"
  },
  "papermill": {
   "default_parameters": {},
   "duration": 22.357922,
   "end_time": "2024-06-30T20:59:44.540848",
   "environment_variables": {},
   "exception": null,
   "input_path": "03_generating_PSEUDOBULKs.ipynb",
   "output_path": "executed_notebooks/03_generating_PSEUDOBULKs_scPoli_ref_latents_VALIDATION_2_100_100_run2_gubrri7h.h5ad.ipynb",
   "parameters": {
    "adataPATH": "03_downstream_analysis/08_PatientClassifier/scPoli/results/scPoli_ref_latents_VALIDATION_2_100_100_run2_gubrri7h.h5ad"
   },
   "start_time": "2024-06-30T20:59:22.182926",
   "version": "2.6.0"
  }
 },
 "nbformat": 4,
 "nbformat_minor": 5
}