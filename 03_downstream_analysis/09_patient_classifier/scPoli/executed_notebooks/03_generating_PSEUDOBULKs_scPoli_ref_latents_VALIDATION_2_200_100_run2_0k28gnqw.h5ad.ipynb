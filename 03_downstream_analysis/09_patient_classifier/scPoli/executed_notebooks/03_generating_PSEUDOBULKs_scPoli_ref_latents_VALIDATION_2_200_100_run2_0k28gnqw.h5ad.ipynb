{
 "cells": [
  {
   "cell_type": "code",
   "execution_count": 1,
   "id": "f1fcff4a",
   "metadata": {
    "execution": {
     "iopub.execute_input": "2024-06-30T21:00:29.325708Z",
     "iopub.status.busy": "2024-06-30T21:00:29.325292Z",
     "iopub.status.idle": "2024-06-30T21:00:29.328104Z",
     "shell.execute_reply": "2024-06-30T21:00:29.327734Z"
    },
    "papermill": {
     "duration": 0.010464,
     "end_time": "2024-06-30T21:00:29.328962",
     "exception": false,
     "start_time": "2024-06-30T21:00:29.318498",
     "status": "completed"
    },
    "tags": [
     "injected-parameters"
    ]
   },
   "outputs": [],
   "source": [
    "# Parameters\n",
    "adataPATH = \"03_downstream_analysis/08_PatientClassifier/scPoli/results/scPoli_ref_latents_VALIDATION_2_200_100_run2_0k28gnqw.h5ad\"\n"
   ]
  },
  {
   "cell_type": "raw",
   "id": "bf9880bd-3aef-477b-807d-37e3c5603037",
   "metadata": {
    "execution": {
     "iopub.execute_input": "2024-06-29T08:23:25.403219Z",
     "iopub.status.busy": "2024-06-29T08:23:25.402857Z",
     "iopub.status.idle": "2024-06-29T08:23:25.406428Z",
     "shell.execute_reply": "2024-06-29T08:23:25.406014Z",
     "shell.execute_reply.started": "2024-06-29T08:23:25.403185Z"
    },
    "papermill": {
     "duration": 0.005152,
     "end_time": "2024-06-30T21:00:29.340434",
     "exception": false,
     "start_time": "2024-06-30T21:00:29.335282",
     "status": "completed"
    },
    "tags": [],
    "vscode": {
     "languageId": "raw"
    }
   },
   "source": [
    "adataMAINpath = '03_downstream_analysis/08_PatientClassifier/scPoli/results/scPoli_2_100_20_*.h5ad'\n",
    "\n",
    "adataVALpath = '03_downstream_analysis/08_PatientClassifier/scPoli/results/scPoli_VALIDATION_2_20_20*.h5ad'\n",
    "adataEXCpath = '03_downstream_analysis/08_PatientClassifier/scPoli/results/scPoli_EXCLUDED_2_100_20_run1_pd5nyb4g.h5ad'\n",
    "adataEXTpath = '03_downstream_analysis/08_PatientClassifier/scPoli/results/scPoli_EXTERNAL_2_100_20_run1_pd5nyb4g.h5ad'\n",
    "\n",
    "adataPATH = adataVALpath"
   ]
  },
  {
   "cell_type": "code",
   "execution_count": 2,
   "id": "d3ccb10a-7201-43d0-a593-2b4650ff3451",
   "metadata": {
    "execution": {
     "iopub.execute_input": "2024-06-30T21:00:29.351189Z",
     "iopub.status.busy": "2024-06-30T21:00:29.350826Z",
     "iopub.status.idle": "2024-06-30T21:00:29.353852Z",
     "shell.execute_reply": "2024-06-30T21:00:29.353467Z"
    },
    "papermill": {
     "duration": 0.009168,
     "end_time": "2024-06-30T21:00:29.354638",
     "exception": false,
     "start_time": "2024-06-30T21:00:29.345470",
     "status": "completed"
    },
    "tags": []
   },
   "outputs": [
    {
     "name": "stdout",
     "output_type": "stream",
     "text": [
      "adataPATH = 03_downstream_analysis/08_PatientClassifier/scPoli/results/scPoli_ref_latents_VALIDATION_2_200_100_run2_0k28gnqw.h5ad\n"
     ]
    }
   ],
   "source": [
    "for v in ['adataPATH']:\n",
    "    if v in locals() or v in globals():\n",
    "        print(f\"{v} = {eval(v)}\")\n",
    "    else:\n",
    "        raise Exception(f\"{v} not specified\")"
   ]
  },
  {
   "cell_type": "code",
   "execution_count": 3,
   "id": "888fb5f4-9ab7-4196-a282-7a7e92a43971",
   "metadata": {
    "execution": {
     "iopub.execute_input": "2024-06-30T21:00:29.365477Z",
     "iopub.status.busy": "2024-06-30T21:00:29.365110Z",
     "iopub.status.idle": "2024-06-30T21:00:30.730486Z",
     "shell.execute_reply": "2024-06-30T21:00:30.729986Z"
    },
    "papermill": {
     "duration": 1.372036,
     "end_time": "2024-06-30T21:00:30.731715",
     "exception": false,
     "start_time": "2024-06-30T21:00:29.359679",
     "status": "completed"
    },
    "tags": []
   },
   "outputs": [],
   "source": [
    "import os\n",
    "import sys\n",
    "from glob import glob\n",
    "\n",
    "import scanpy as sc\n",
    "import pandas as pd\n",
    "\n",
    "from pyprojroot import here\n",
    "\n",
    "sys.path.insert(1, str(here('bin')))\n",
    "# Import custom functions\n",
    "from customPythonFunctions import aggregating_features"
   ]
  },
  {
   "cell_type": "markdown",
   "id": "ba4905ae-4546-4ef4-b57b-950441ab079d",
   "metadata": {
    "papermill": {
     "duration": 0.005189,
     "end_time": "2024-06-30T21:00:30.742500",
     "exception": false,
     "start_time": "2024-06-30T21:00:30.737311",
     "status": "completed"
    },
    "tags": []
   },
   "source": [
    "### Loading data"
   ]
  },
  {
   "cell_type": "code",
   "execution_count": 4,
   "id": "539cbbbb-3503-4f51-bf04-f007f928ebd1",
   "metadata": {
    "execution": {
     "iopub.execute_input": "2024-06-30T21:00:30.754013Z",
     "iopub.status.busy": "2024-06-30T21:00:30.753611Z",
     "iopub.status.idle": "2024-06-30T21:00:30.757433Z",
     "shell.execute_reply": "2024-06-30T21:00:30.757047Z"
    },
    "papermill": {
     "duration": 0.010949,
     "end_time": "2024-06-30T21:00:30.758257",
     "exception": false,
     "start_time": "2024-06-30T21:00:30.747308",
     "status": "completed"
    },
    "tags": []
   },
   "outputs": [],
   "source": [
    "adataPATHlist = glob(str(here(adataPATH)))\n",
    "assert(len(adataPATHlist) == 1)"
   ]
  },
  {
   "cell_type": "code",
   "execution_count": 5,
   "id": "0fcfce0a-896b-4dc0-8e5e-46749205c84f",
   "metadata": {
    "execution": {
     "iopub.execute_input": "2024-06-30T21:00:30.769233Z",
     "iopub.status.busy": "2024-06-30T21:00:30.768868Z",
     "iopub.status.idle": "2024-06-30T21:00:55.606135Z",
     "shell.execute_reply": "2024-06-30T21:00:55.605714Z"
    },
    "papermill": {
     "duration": 24.843658,
     "end_time": "2024-06-30T21:00:55.607023",
     "exception": false,
     "start_time": "2024-06-30T21:00:30.763365",
     "status": "completed"
    },
    "tags": []
   },
   "outputs": [
    {
     "data": {
      "text/plain": [
       "AnnData object with n_obs × n_vars = 4435922 × 200\n",
       "    obs: 'studyID', 'libraryID', 'sampleID', 'chemistry', 'disease', 'sex', 'binned_age', 'Level1', 'Level2'\n",
       "    uns: 'chemistry', 'sampleID'"
      ]
     },
     "execution_count": 5,
     "metadata": {},
     "output_type": "execute_result"
    }
   ],
   "source": [
    "adata = sc.read_h5ad(adataPATHlist[0])\n",
    "adata"
   ]
  },
  {
   "cell_type": "markdown",
   "id": "44e868b3-0771-4225-bd79-a4b179bc672b",
   "metadata": {
    "papermill": {
     "duration": 0.005324,
     "end_time": "2024-06-30T21:00:55.617400",
     "exception": false,
     "start_time": "2024-06-30T21:00:55.612076",
     "status": "completed"
    },
    "tags": []
   },
   "source": [
    "#### Generating PSEUDOBULKs"
   ]
  },
  {
   "cell_type": "markdown",
   "id": "97d09fc5-d05c-471e-87fa-fe58ccbe47ac",
   "metadata": {
    "papermill": {
     "duration": 0.005044,
     "end_time": "2024-06-30T21:00:55.628025",
     "exception": false,
     "start_time": "2024-06-30T21:00:55.622981",
     "status": "completed"
    },
    "tags": []
   },
   "source": [
    "**Aggregating cell latent features**"
   ]
  },
  {
   "cell_type": "code",
   "execution_count": 6,
   "id": "81223976-fcf6-4354-8964-b12d76468636",
   "metadata": {
    "execution": {
     "iopub.execute_input": "2024-06-30T21:00:55.640199Z",
     "iopub.status.busy": "2024-06-30T21:00:55.639767Z",
     "iopub.status.idle": "2024-06-30T21:00:59.070211Z",
     "shell.execute_reply": "2024-06-30T21:00:59.069773Z"
    },
    "papermill": {
     "duration": 3.437614,
     "end_time": "2024-06-30T21:00:59.071023",
     "exception": false,
     "start_time": "2024-06-30T21:00:55.633409",
     "status": "completed"
    },
    "tags": []
   },
   "outputs": [
    {
     "data": {
      "text/plain": [
       "AnnData object with n_obs × n_vars = 11372 × 200\n",
       "    obs: 'sampleID', 'Level1', 'disease', 'n_observation'"
      ]
     },
     "execution_count": 6,
     "metadata": {},
     "output_type": "execute_result"
    }
   ],
   "source": [
    "adataPBcell = aggregating_features(Z = adata.X, \n",
    "                             obsDF = adata.obs[['sampleID','Level1','disease']], \n",
    "                             mode = 'mean', \n",
    "                             obs_names_col=['sampleID','Level1'], \n",
    "                             min_observation=0)\n",
    "adataPBcell"
   ]
  },
  {
   "cell_type": "code",
   "execution_count": null,
   "id": "8495038e-aebd-4003-bd94-c1e49f47249e",
   "metadata": {
    "papermill": {
     "duration": 0.005239,
     "end_time": "2024-06-30T21:00:59.081929",
     "exception": false,
     "start_time": "2024-06-30T21:00:59.076690",
     "status": "completed"
    },
    "tags": []
   },
   "outputs": [],
   "source": []
  },
  {
   "cell_type": "markdown",
   "id": "6d602bad-4793-4aa4-b3d7-d118d413a0fc",
   "metadata": {
    "papermill": {
     "duration": 0.00518,
     "end_time": "2024-06-30T21:00:59.092905",
     "exception": false,
     "start_time": "2024-06-30T21:00:59.087725",
     "status": "completed"
    },
    "tags": []
   },
   "source": [
    "**Extracting sample embedding**"
   ]
  },
  {
   "cell_type": "code",
   "execution_count": 7,
   "id": "e2c14f02",
   "metadata": {
    "execution": {
     "iopub.execute_input": "2024-06-30T21:00:59.103930Z",
     "iopub.status.busy": "2024-06-30T21:00:59.103778Z",
     "iopub.status.idle": "2024-06-30T21:00:59.113594Z",
     "shell.execute_reply": "2024-06-30T21:00:59.113232Z"
    },
    "papermill": {
     "duration": 0.016247,
     "end_time": "2024-06-30T21:00:59.114370",
     "exception": false,
     "start_time": "2024-06-30T21:00:59.098123",
     "status": "completed"
    },
    "tags": []
   },
   "outputs": [
    {
     "data": {
      "text/plain": [
       "AnnData object with n_obs × n_vars = 817 × 100\n",
       "    obs: 'sampleID', 'disease', 'Level1'"
      ]
     },
     "execution_count": 7,
     "metadata": {},
     "output_type": "execute_result"
    }
   ],
   "source": [
    "adataPBsample = adata.uns['sampleID'].copy()\n",
    "adataPBsample.obs['sampleID'] = adataPBsample.obs.index\n",
    "adataPBsample = adataPBsample[adataPBsample.obs['sampleID'].isin(adataPBcell.obs['sampleID'])]\n",
    "\n",
    "adataPBsample.obs = adataPBsample.obs.merge(adataPBcell.obs.groupby('sampleID').agg({'disease':'first'}), left_index=True, right_index=True)\n",
    "adataPBsample.obs['Level1'] = 'sample'\n",
    "adataPBsample"
   ]
  },
  {
   "cell_type": "markdown",
   "id": "2d4fe137-7d68-4e86-a85c-3c1a3d3c4c71",
   "metadata": {
    "papermill": {
     "duration": 0.006359,
     "end_time": "2024-06-30T21:00:59.126398",
     "exception": false,
     "start_time": "2024-06-30T21:00:59.120039",
     "status": "completed"
    },
    "tags": []
   },
   "source": [
    "**Merging cell and patient latent features**"
   ]
  },
  {
   "cell_type": "code",
   "execution_count": 8,
   "id": "a326d2b1",
   "metadata": {
    "execution": {
     "iopub.execute_input": "2024-06-30T21:00:59.137779Z",
     "iopub.status.busy": "2024-06-30T21:00:59.137475Z",
     "iopub.status.idle": "2024-06-30T21:00:59.139931Z",
     "shell.execute_reply": "2024-06-30T21:00:59.139567Z"
    },
    "papermill": {
     "duration": 0.00894,
     "end_time": "2024-06-30T21:00:59.140718",
     "exception": false,
     "start_time": "2024-06-30T21:00:59.131778",
     "status": "completed"
    },
    "tags": []
   },
   "outputs": [],
   "source": [
    "PBcellDF = adataPBcell.to_df()\n",
    "PBcellDF['sampleID'] = adataPBcell.obs['sampleID']"
   ]
  },
  {
   "cell_type": "code",
   "execution_count": 9,
   "id": "1a597f46-d9c5-403b-b81e-5738ca206682",
   "metadata": {
    "execution": {
     "iopub.execute_input": "2024-06-30T21:00:59.152134Z",
     "iopub.status.busy": "2024-06-30T21:00:59.151699Z",
     "iopub.status.idle": "2024-06-30T21:00:59.154298Z",
     "shell.execute_reply": "2024-06-30T21:00:59.153939Z"
    },
    "papermill": {
     "duration": 0.009204,
     "end_time": "2024-06-30T21:00:59.155041",
     "exception": false,
     "start_time": "2024-06-30T21:00:59.145837",
     "status": "completed"
    },
    "tags": []
   },
   "outputs": [],
   "source": [
    "PBsampleDF = adataPBsample.to_df()\n",
    "PBsampleDF['sampleID'] = adataPBsample.obs['sampleID']"
   ]
  },
  {
   "cell_type": "code",
   "execution_count": 10,
   "id": "bb384751-fe1b-4635-a90d-fd98ae61b173",
   "metadata": {
    "execution": {
     "iopub.execute_input": "2024-06-30T21:00:59.166428Z",
     "iopub.status.busy": "2024-06-30T21:00:59.166294Z",
     "iopub.status.idle": "2024-06-30T21:00:59.178076Z",
     "shell.execute_reply": "2024-06-30T21:00:59.177563Z"
    },
    "papermill": {
     "duration": 0.018298,
     "end_time": "2024-06-30T21:00:59.178878",
     "exception": false,
     "start_time": "2024-06-30T21:00:59.160580",
     "status": "completed"
    },
    "tags": []
   },
   "outputs": [],
   "source": [
    "PBcell_sampleDF = PBcellDF.merge(PBsampleDF, on='sampleID', how='left')"
   ]
  },
  {
   "cell_type": "code",
   "execution_count": 11,
   "id": "f7250713-e24d-4614-9cbd-eed702340640",
   "metadata": {
    "execution": {
     "iopub.execute_input": "2024-06-30T21:00:59.190454Z",
     "iopub.status.busy": "2024-06-30T21:00:59.190084Z",
     "iopub.status.idle": "2024-06-30T21:00:59.192747Z",
     "shell.execute_reply": "2024-06-30T21:00:59.192389Z"
    },
    "papermill": {
     "duration": 0.009113,
     "end_time": "2024-06-30T21:00:59.193487",
     "exception": false,
     "start_time": "2024-06-30T21:00:59.184374",
     "status": "completed"
    },
    "tags": []
   },
   "outputs": [],
   "source": [
    "assert(adataPBcell.obs['sampleID'].tolist() == PBcell_sampleDF['sampleID'].tolist())"
   ]
  },
  {
   "cell_type": "code",
   "execution_count": 12,
   "id": "abea2252-6a12-4b89-9f0d-6d6df90064fb",
   "metadata": {
    "execution": {
     "iopub.execute_input": "2024-06-30T21:00:59.204763Z",
     "iopub.status.busy": "2024-06-30T21:00:59.204630Z",
     "iopub.status.idle": "2024-06-30T21:00:59.208707Z",
     "shell.execute_reply": "2024-06-30T21:00:59.208189Z"
    },
    "papermill": {
     "duration": 0.010635,
     "end_time": "2024-06-30T21:00:59.209476",
     "exception": false,
     "start_time": "2024-06-30T21:00:59.198841",
     "status": "completed"
    },
    "tags": []
   },
   "outputs": [],
   "source": [
    "PBcell_sampleDF.drop('sampleID', axis=1, inplace=True)"
   ]
  },
  {
   "cell_type": "code",
   "execution_count": 13,
   "id": "5502e45d-5c72-4440-a8c1-5b299cac6e2d",
   "metadata": {
    "execution": {
     "iopub.execute_input": "2024-06-30T21:00:59.222142Z",
     "iopub.status.busy": "2024-06-30T21:00:59.221776Z",
     "iopub.status.idle": "2024-06-30T21:00:59.226874Z",
     "shell.execute_reply": "2024-06-30T21:00:59.226487Z"
    },
    "papermill": {
     "duration": 0.012417,
     "end_time": "2024-06-30T21:00:59.227652",
     "exception": false,
     "start_time": "2024-06-30T21:00:59.215235",
     "status": "completed"
    },
    "tags": []
   },
   "outputs": [
    {
     "data": {
      "text/plain": [
       "AnnData object with n_obs × n_vars = 11372 × 300\n",
       "    obs: 'sampleID', 'Level1', 'disease', 'n_observation'"
      ]
     },
     "execution_count": 13,
     "metadata": {},
     "output_type": "execute_result"
    }
   ],
   "source": [
    "adataPBcell_sample = sc.AnnData(X = PBcell_sampleDF, obs = adataPBcell.obs)\n",
    "adataPBcell_sample"
   ]
  },
  {
   "cell_type": "markdown",
   "id": "d59574be-684b-4082-b8b6-7d11930362ad",
   "metadata": {
    "papermill": {
     "duration": 0.005611,
     "end_time": "2024-06-30T21:00:59.239217",
     "exception": false,
     "start_time": "2024-06-30T21:00:59.233606",
     "status": "completed"
    },
    "tags": []
   },
   "source": [
    "### Saving pseudobulk adata objects"
   ]
  },
  {
   "cell_type": "code",
   "execution_count": 14,
   "id": "5947e6f8-ac27-4702-ba5d-aa9e1ba79f6a",
   "metadata": {
    "execution": {
     "iopub.execute_input": "2024-06-30T21:00:59.251115Z",
     "iopub.status.busy": "2024-06-30T21:00:59.250764Z",
     "iopub.status.idle": "2024-06-30T21:00:59.643736Z",
     "shell.execute_reply": "2024-06-30T21:00:59.643256Z"
    },
    "papermill": {
     "duration": 0.399916,
     "end_time": "2024-06-30T21:00:59.644834",
     "exception": false,
     "start_time": "2024-06-30T21:00:59.244918",
     "status": "completed"
    },
    "tags": []
   },
   "outputs": [],
   "source": [
    "adataPBcell.write(here(adataPATHlist[0].replace('/scPoli_','/PSEUDOBULKs/scPoli_PSEUDOBULKcell_')), compression='gzip')"
   ]
  },
  {
   "cell_type": "code",
   "execution_count": 15,
   "id": "e9485945-bccf-419a-9420-c1e4f3aa262d",
   "metadata": {
    "execution": {
     "iopub.execute_input": "2024-06-30T21:00:59.657576Z",
     "iopub.status.busy": "2024-06-30T21:00:59.657259Z",
     "iopub.status.idle": "2024-06-30T21:00:59.687377Z",
     "shell.execute_reply": "2024-06-30T21:00:59.686983Z"
    },
    "papermill": {
     "duration": 0.037374,
     "end_time": "2024-06-30T21:00:59.688175",
     "exception": false,
     "start_time": "2024-06-30T21:00:59.650801",
     "status": "completed"
    },
    "tags": []
   },
   "outputs": [],
   "source": [
    "adataPBsample.write(here(adataPATHlist[0].replace('/scPoli_','/PSEUDOBULKs/scPoli_PSEUDOBULKsample_')), compression='gzip')"
   ]
  },
  {
   "cell_type": "code",
   "execution_count": 16,
   "id": "9c2daa40-3279-4b24-8aad-65ee0ba758c8",
   "metadata": {
    "execution": {
     "iopub.execute_input": "2024-06-30T21:00:59.702132Z",
     "iopub.status.busy": "2024-06-30T21:00:59.701828Z",
     "iopub.status.idle": "2024-06-30T21:01:00.055479Z",
     "shell.execute_reply": "2024-06-30T21:01:00.054980Z"
    },
    "papermill": {
     "duration": 0.361464,
     "end_time": "2024-06-30T21:01:00.056335",
     "exception": false,
     "start_time": "2024-06-30T21:00:59.694871",
     "status": "completed"
    },
    "tags": []
   },
   "outputs": [],
   "source": [
    "adataPBcell_sample.write(here(adataPATHlist[0].replace('/scPoli_','/PSEUDOBULKs/scPoli_PSEUDOBULKcellSample_')), compression='gzip')"
   ]
  },
  {
   "cell_type": "code",
   "execution_count": null,
   "id": "8a70d9f6-7a44-45ee-8470-702bd7af1e0b",
   "metadata": {
    "papermill": {
     "duration": 0.005625,
     "end_time": "2024-06-30T21:01:00.067708",
     "exception": false,
     "start_time": "2024-06-30T21:01:00.062083",
     "status": "completed"
    },
    "tags": []
   },
   "outputs": [],
   "source": []
  }
 ],
 "metadata": {
  "kernelspec": {
   "display_name": "Python 3 (ipykernel)",
   "language": "python",
   "name": "python3"
  },
  "language_info": {
   "codemirror_mode": {
    "name": "ipython",
    "version": 3
   },
   "file_extension": ".py",
   "mimetype": "text/x-python",
   "name": "python",
   "nbconvert_exporter": "python",
   "pygments_lexer": "ipython3",
   "version": "3.12.3"
  },
  "papermill": {
   "default_parameters": {},
   "duration": 32.564398,
   "end_time": "2024-06-30T21:01:00.688332",
   "environment_variables": {},
   "exception": null,
   "input_path": "03_generating_PSEUDOBULKs.ipynb",
   "output_path": "executed_notebooks/03_generating_PSEUDOBULKs_scPoli_ref_latents_VALIDATION_2_200_100_run2_0k28gnqw.h5ad.ipynb",
   "parameters": {
    "adataPATH": "03_downstream_analysis/08_PatientClassifier/scPoli/results/scPoli_ref_latents_VALIDATION_2_200_100_run2_0k28gnqw.h5ad"
   },
   "start_time": "2024-06-30T21:00:28.123934",
   "version": "2.6.0"
  }
 },
 "nbformat": 4,
 "nbformat_minor": 5
}