{
 "cells": [
  {
   "cell_type": "code",
   "execution_count": 1,
   "id": "db05bf1b",
   "metadata": {
    "execution": {
     "iopub.execute_input": "2024-06-30T21:01:55.743826Z",
     "iopub.status.busy": "2024-06-30T21:01:55.743433Z",
     "iopub.status.idle": "2024-06-30T21:01:55.746027Z",
     "shell.execute_reply": "2024-06-30T21:01:55.745678Z"
    },
    "papermill": {
     "duration": 0.010382,
     "end_time": "2024-06-30T21:01:55.746850",
     "exception": false,
     "start_time": "2024-06-30T21:01:55.736468",
     "status": "completed"
    },
    "tags": [
     "injected-parameters"
    ]
   },
   "outputs": [],
   "source": [
    "# Parameters\n",
    "adataPATH = \"03_downstream_analysis/08_PatientClassifier/scPoli/results/scPoli_VALIDATION_2_20_50_run2_xwzmx078.h5ad\"\n"
   ]
  },
  {
   "cell_type": "raw",
   "id": "bf9880bd-3aef-477b-807d-37e3c5603037",
   "metadata": {
    "execution": {
     "iopub.execute_input": "2024-06-29T08:23:25.403219Z",
     "iopub.status.busy": "2024-06-29T08:23:25.402857Z",
     "iopub.status.idle": "2024-06-29T08:23:25.406428Z",
     "shell.execute_reply": "2024-06-29T08:23:25.406014Z",
     "shell.execute_reply.started": "2024-06-29T08:23:25.403185Z"
    },
    "papermill": {
     "duration": 0.005573,
     "end_time": "2024-06-30T21:01:55.757978",
     "exception": false,
     "start_time": "2024-06-30T21:01:55.752405",
     "status": "completed"
    },
    "tags": [],
    "vscode": {
     "languageId": "raw"
    }
   },
   "source": [
    "adataMAINpath = '03_downstream_analysis/08_PatientClassifier/scPoli/results/scPoli_2_100_20_*.h5ad'\n",
    "\n",
    "adataVALpath = '03_downstream_analysis/08_PatientClassifier/scPoli/results/scPoli_VALIDATION_2_20_20*.h5ad'\n",
    "adataEXCpath = '03_downstream_analysis/08_PatientClassifier/scPoli/results/scPoli_EXCLUDED_2_100_20_run1_pd5nyb4g.h5ad'\n",
    "adataEXTpath = '03_downstream_analysis/08_PatientClassifier/scPoli/results/scPoli_EXTERNAL_2_100_20_run1_pd5nyb4g.h5ad'\n",
    "\n",
    "adataPATH = adataVALpath"
   ]
  },
  {
   "cell_type": "code",
   "execution_count": 2,
   "id": "d3ccb10a-7201-43d0-a593-2b4650ff3451",
   "metadata": {
    "execution": {
     "iopub.execute_input": "2024-06-30T21:01:55.769872Z",
     "iopub.status.busy": "2024-06-30T21:01:55.769552Z",
     "iopub.status.idle": "2024-06-30T21:01:55.772456Z",
     "shell.execute_reply": "2024-06-30T21:01:55.772077Z"
    },
    "papermill": {
     "duration": 0.009971,
     "end_time": "2024-06-30T21:01:55.773233",
     "exception": false,
     "start_time": "2024-06-30T21:01:55.763262",
     "status": "completed"
    },
    "tags": []
   },
   "outputs": [
    {
     "name": "stdout",
     "output_type": "stream",
     "text": [
      "adataPATH = 03_downstream_analysis/08_PatientClassifier/scPoli/results/scPoli_VALIDATION_2_20_50_run2_xwzmx078.h5ad\n"
     ]
    }
   ],
   "source": [
    "for v in ['adataPATH']:\n",
    "    if v in locals() or v in globals():\n",
    "        print(f\"{v} = {eval(v)}\")\n",
    "    else:\n",
    "        raise Exception(f\"{v} not specified\")"
   ]
  },
  {
   "cell_type": "code",
   "execution_count": 3,
   "id": "888fb5f4-9ab7-4196-a282-7a7e92a43971",
   "metadata": {
    "execution": {
     "iopub.execute_input": "2024-06-30T21:01:55.784451Z",
     "iopub.status.busy": "2024-06-30T21:01:55.784185Z",
     "iopub.status.idle": "2024-06-30T21:01:57.162812Z",
     "shell.execute_reply": "2024-06-30T21:01:57.162414Z"
    },
    "papermill": {
     "duration": 1.385233,
     "end_time": "2024-06-30T21:01:57.163725",
     "exception": false,
     "start_time": "2024-06-30T21:01:55.778492",
     "status": "completed"
    },
    "tags": []
   },
   "outputs": [],
   "source": [
    "import os\n",
    "import sys\n",
    "from glob import glob\n",
    "\n",
    "import scanpy as sc\n",
    "import pandas as pd\n",
    "\n",
    "from pyprojroot import here\n",
    "\n",
    "sys.path.insert(1, str(here('bin')))\n",
    "# Import custom functions\n",
    "from customPythonFunctions import aggregating_features"
   ]
  },
  {
   "cell_type": "markdown",
   "id": "ba4905ae-4546-4ef4-b57b-950441ab079d",
   "metadata": {
    "papermill": {
     "duration": 0.004871,
     "end_time": "2024-06-30T21:01:57.173934",
     "exception": false,
     "start_time": "2024-06-30T21:01:57.169063",
     "status": "completed"
    },
    "tags": []
   },
   "source": [
    "### Loading data"
   ]
  },
  {
   "cell_type": "code",
   "execution_count": 4,
   "id": "539cbbbb-3503-4f51-bf04-f007f928ebd1",
   "metadata": {
    "execution": {
     "iopub.execute_input": "2024-06-30T21:01:57.185158Z",
     "iopub.status.busy": "2024-06-30T21:01:57.184677Z",
     "iopub.status.idle": "2024-06-30T21:01:57.188235Z",
     "shell.execute_reply": "2024-06-30T21:01:57.187928Z"
    },
    "papermill": {
     "duration": 0.01016,
     "end_time": "2024-06-30T21:01:57.188993",
     "exception": false,
     "start_time": "2024-06-30T21:01:57.178833",
     "status": "completed"
    },
    "tags": []
   },
   "outputs": [],
   "source": [
    "adataPATHlist = glob(str(here(adataPATH)))\n",
    "assert(len(adataPATHlist) == 1)"
   ]
  },
  {
   "cell_type": "code",
   "execution_count": 5,
   "id": "0fcfce0a-896b-4dc0-8e5e-46749205c84f",
   "metadata": {
    "execution": {
     "iopub.execute_input": "2024-06-30T21:01:57.199814Z",
     "iopub.status.busy": "2024-06-30T21:01:57.199648Z",
     "iopub.status.idle": "2024-06-30T21:01:58.407247Z",
     "shell.execute_reply": "2024-06-30T21:01:58.406880Z"
    },
    "papermill": {
     "duration": 1.214014,
     "end_time": "2024-06-30T21:01:58.408021",
     "exception": false,
     "start_time": "2024-06-30T21:01:57.194007",
     "status": "completed"
    },
    "tags": []
   },
   "outputs": [
    {
     "data": {
      "text/plain": [
       "AnnData object with n_obs × n_vars = 849922 × 20\n",
       "    obs: 'studyID', 'libraryID', 'sampleID', 'chemistry', 'technology', 'disease', 'sex', 'binned_age', 'Level1', 'Level2', 'conditions_combined', 'Level1_unc', 'Level2_unc'\n",
       "    uns: 'chemistry', 'sampleID'"
      ]
     },
     "execution_count": 5,
     "metadata": {},
     "output_type": "execute_result"
    }
   ],
   "source": [
    "adata = sc.read_h5ad(adataPATHlist[0])\n",
    "adata"
   ]
  },
  {
   "cell_type": "markdown",
   "id": "44e868b3-0771-4225-bd79-a4b179bc672b",
   "metadata": {
    "papermill": {
     "duration": 0.005342,
     "end_time": "2024-06-30T21:01:58.429250",
     "exception": false,
     "start_time": "2024-06-30T21:01:58.423908",
     "status": "completed"
    },
    "tags": []
   },
   "source": [
    "#### Generating PSEUDOBULKs"
   ]
  },
  {
   "cell_type": "markdown",
   "id": "97d09fc5-d05c-471e-87fa-fe58ccbe47ac",
   "metadata": {
    "papermill": {
     "duration": 0.005278,
     "end_time": "2024-06-30T21:01:58.439958",
     "exception": false,
     "start_time": "2024-06-30T21:01:58.434680",
     "status": "completed"
    },
    "tags": []
   },
   "source": [
    "**Aggregating cell latent features**"
   ]
  },
  {
   "cell_type": "code",
   "execution_count": 6,
   "id": "81223976-fcf6-4354-8964-b12d76468636",
   "metadata": {
    "execution": {
     "iopub.execute_input": "2024-06-30T21:01:58.451105Z",
     "iopub.status.busy": "2024-06-30T21:01:58.450925Z",
     "iopub.status.idle": "2024-06-30T21:01:58.789409Z",
     "shell.execute_reply": "2024-06-30T21:01:58.789039Z"
    },
    "papermill": {
     "duration": 0.345069,
     "end_time": "2024-06-30T21:01:58.790192",
     "exception": false,
     "start_time": "2024-06-30T21:01:58.445123",
     "status": "completed"
    },
    "tags": []
   },
   "outputs": [
    {
     "data": {
      "text/plain": [
       "AnnData object with n_obs × n_vars = 2108 × 20\n",
       "    obs: 'sampleID', 'Level1', 'disease', 'n_observation'"
      ]
     },
     "execution_count": 6,
     "metadata": {},
     "output_type": "execute_result"
    }
   ],
   "source": [
    "adataPBcell = aggregating_features(Z = adata.X, \n",
    "                             obsDF = adata.obs[['sampleID','Level1','disease']], \n",
    "                             mode = 'mean', \n",
    "                             obs_names_col=['sampleID','Level1'], \n",
    "                             min_observation=0)\n",
    "adataPBcell"
   ]
  },
  {
   "cell_type": "code",
   "execution_count": null,
   "id": "8495038e-aebd-4003-bd94-c1e49f47249e",
   "metadata": {
    "papermill": {
     "duration": 0.012591,
     "end_time": "2024-06-30T21:01:58.808487",
     "exception": false,
     "start_time": "2024-06-30T21:01:58.795896",
     "status": "completed"
    },
    "tags": []
   },
   "outputs": [],
   "source": []
  },
  {
   "cell_type": "markdown",
   "id": "6d602bad-4793-4aa4-b3d7-d118d413a0fc",
   "metadata": {
    "papermill": {
     "duration": 0.005271,
     "end_time": "2024-06-30T21:01:58.819437",
     "exception": false,
     "start_time": "2024-06-30T21:01:58.814166",
     "status": "completed"
    },
    "tags": []
   },
   "source": [
    "**Extracting sample embedding**"
   ]
  },
  {
   "cell_type": "code",
   "execution_count": 7,
   "id": "e2c14f02",
   "metadata": {
    "execution": {
     "iopub.execute_input": "2024-06-30T21:01:58.831185Z",
     "iopub.status.busy": "2024-06-30T21:01:58.831001Z",
     "iopub.status.idle": "2024-06-30T21:01:58.838804Z",
     "shell.execute_reply": "2024-06-30T21:01:58.838514Z"
    },
    "papermill": {
     "duration": 0.014669,
     "end_time": "2024-06-30T21:01:58.839560",
     "exception": false,
     "start_time": "2024-06-30T21:01:58.824891",
     "status": "completed"
    },
    "tags": []
   },
   "outputs": [
    {
     "data": {
      "text/plain": [
       "AnnData object with n_obs × n_vars = 144 × 50\n",
       "    obs: 'sampleID', 'disease', 'Level1'"
      ]
     },
     "execution_count": 7,
     "metadata": {},
     "output_type": "execute_result"
    }
   ],
   "source": [
    "adataPBsample = adata.uns['sampleID'].copy()\n",
    "adataPBsample.obs['sampleID'] = adataPBsample.obs.index\n",
    "adataPBsample = adataPBsample[adataPBsample.obs['sampleID'].isin(adataPBcell.obs['sampleID'])]\n",
    "\n",
    "adataPBsample.obs = adataPBsample.obs.merge(adataPBcell.obs.groupby('sampleID').agg({'disease':'first'}), left_index=True, right_index=True)\n",
    "adataPBsample.obs['Level1'] = 'sample'\n",
    "adataPBsample"
   ]
  },
  {
   "cell_type": "markdown",
   "id": "2d4fe137-7d68-4e86-a85c-3c1a3d3c4c71",
   "metadata": {
    "papermill": {
     "duration": 0.005582,
     "end_time": "2024-06-30T21:01:58.851151",
     "exception": false,
     "start_time": "2024-06-30T21:01:58.845569",
     "status": "completed"
    },
    "tags": []
   },
   "source": [
    "**Merging cell and patient latent features**"
   ]
  },
  {
   "cell_type": "code",
   "execution_count": 8,
   "id": "a326d2b1",
   "metadata": {
    "execution": {
     "iopub.execute_input": "2024-06-30T21:01:58.863244Z",
     "iopub.status.busy": "2024-06-30T21:01:58.863065Z",
     "iopub.status.idle": "2024-06-30T21:01:58.865274Z",
     "shell.execute_reply": "2024-06-30T21:01:58.864973Z"
    },
    "papermill": {
     "duration": 0.009024,
     "end_time": "2024-06-30T21:01:58.865993",
     "exception": false,
     "start_time": "2024-06-30T21:01:58.856969",
     "status": "completed"
    },
    "tags": []
   },
   "outputs": [],
   "source": [
    "PBcellDF = adataPBcell.to_df()\n",
    "PBcellDF['sampleID'] = adataPBcell.obs['sampleID']"
   ]
  },
  {
   "cell_type": "code",
   "execution_count": 9,
   "id": "1a597f46-d9c5-403b-b81e-5738ca206682",
   "metadata": {
    "execution": {
     "iopub.execute_input": "2024-06-30T21:01:58.877536Z",
     "iopub.status.busy": "2024-06-30T21:01:58.877328Z",
     "iopub.status.idle": "2024-06-30T21:01:58.879440Z",
     "shell.execute_reply": "2024-06-30T21:01:58.879147Z"
    },
    "papermill": {
     "duration": 0.008641,
     "end_time": "2024-06-30T21:01:58.880160",
     "exception": false,
     "start_time": "2024-06-30T21:01:58.871519",
     "status": "completed"
    },
    "tags": []
   },
   "outputs": [],
   "source": [
    "PBsampleDF = adataPBsample.to_df()\n",
    "PBsampleDF['sampleID'] = adataPBsample.obs['sampleID']"
   ]
  },
  {
   "cell_type": "code",
   "execution_count": 10,
   "id": "bb384751-fe1b-4635-a90d-fd98ae61b173",
   "metadata": {
    "execution": {
     "iopub.execute_input": "2024-06-30T21:01:58.892271Z",
     "iopub.status.busy": "2024-06-30T21:01:58.891985Z",
     "iopub.status.idle": "2024-06-30T21:01:58.895745Z",
     "shell.execute_reply": "2024-06-30T21:01:58.895450Z"
    },
    "papermill": {
     "duration": 0.010699,
     "end_time": "2024-06-30T21:01:58.896488",
     "exception": false,
     "start_time": "2024-06-30T21:01:58.885789",
     "status": "completed"
    },
    "tags": []
   },
   "outputs": [],
   "source": [
    "PBcell_sampleDF = PBcellDF.merge(PBsampleDF, on='sampleID', how='left')"
   ]
  },
  {
   "cell_type": "code",
   "execution_count": 11,
   "id": "f7250713-e24d-4614-9cbd-eed702340640",
   "metadata": {
    "execution": {
     "iopub.execute_input": "2024-06-30T21:01:58.912945Z",
     "iopub.status.busy": "2024-06-30T21:01:58.912780Z",
     "iopub.status.idle": "2024-06-30T21:01:58.914825Z",
     "shell.execute_reply": "2024-06-30T21:01:58.914541Z"
    },
    "papermill": {
     "duration": 0.008538,
     "end_time": "2024-06-30T21:01:58.915552",
     "exception": false,
     "start_time": "2024-06-30T21:01:58.907014",
     "status": "completed"
    },
    "tags": []
   },
   "outputs": [],
   "source": [
    "assert(adataPBcell.obs['sampleID'].tolist() == PBcell_sampleDF['sampleID'].tolist())"
   ]
  },
  {
   "cell_type": "code",
   "execution_count": 12,
   "id": "abea2252-6a12-4b89-9f0d-6d6df90064fb",
   "metadata": {
    "execution": {
     "iopub.execute_input": "2024-06-30T21:01:58.928013Z",
     "iopub.status.busy": "2024-06-30T21:01:58.927619Z",
     "iopub.status.idle": "2024-06-30T21:01:58.930017Z",
     "shell.execute_reply": "2024-06-30T21:01:58.929729Z"
    },
    "papermill": {
     "duration": 0.009614,
     "end_time": "2024-06-30T21:01:58.930756",
     "exception": false,
     "start_time": "2024-06-30T21:01:58.921142",
     "status": "completed"
    },
    "tags": []
   },
   "outputs": [],
   "source": [
    "PBcell_sampleDF.drop('sampleID', axis=1, inplace=True)"
   ]
  },
  {
   "cell_type": "code",
   "execution_count": 13,
   "id": "5502e45d-5c72-4440-a8c1-5b299cac6e2d",
   "metadata": {
    "execution": {
     "iopub.execute_input": "2024-06-30T21:01:58.946454Z",
     "iopub.status.busy": "2024-06-30T21:01:58.946297Z",
     "iopub.status.idle": "2024-06-30T21:01:58.949672Z",
     "shell.execute_reply": "2024-06-30T21:01:58.949251Z"
    },
    "papermill": {
     "duration": 0.014457,
     "end_time": "2024-06-30T21:01:58.950419",
     "exception": false,
     "start_time": "2024-06-30T21:01:58.935962",
     "status": "completed"
    },
    "tags": []
   },
   "outputs": [
    {
     "data": {
      "text/plain": [
       "AnnData object with n_obs × n_vars = 2108 × 70\n",
       "    obs: 'sampleID', 'Level1', 'disease', 'n_observation'"
      ]
     },
     "execution_count": 13,
     "metadata": {},
     "output_type": "execute_result"
    }
   ],
   "source": [
    "adataPBcell_sample = sc.AnnData(X = PBcell_sampleDF, obs = adataPBcell.obs)\n",
    "adataPBcell_sample"
   ]
  },
  {
   "cell_type": "markdown",
   "id": "d59574be-684b-4082-b8b6-7d11930362ad",
   "metadata": {
    "papermill": {
     "duration": 0.005716,
     "end_time": "2024-06-30T21:01:58.961774",
     "exception": false,
     "start_time": "2024-06-30T21:01:58.956058",
     "status": "completed"
    },
    "tags": []
   },
   "source": [
    "### Saving pseudobulk adata objects"
   ]
  },
  {
   "cell_type": "code",
   "execution_count": 14,
   "id": "5947e6f8-ac27-4702-ba5d-aa9e1ba79f6a",
   "metadata": {
    "execution": {
     "iopub.execute_input": "2024-06-30T21:01:58.974143Z",
     "iopub.status.busy": "2024-06-30T21:01:58.973780Z",
     "iopub.status.idle": "2024-06-30T21:01:59.006810Z",
     "shell.execute_reply": "2024-06-30T21:01:59.006488Z"
    },
    "papermill": {
     "duration": 0.04028,
     "end_time": "2024-06-30T21:01:59.007991",
     "exception": false,
     "start_time": "2024-06-30T21:01:58.967711",
     "status": "completed"
    },
    "tags": []
   },
   "outputs": [],
   "source": [
    "adataPBcell.write(here(adataPATHlist[0].replace('/scPoli_','/PSEUDOBULKs/scPoli_PSEUDOBULKcell_')), compression='gzip')"
   ]
  },
  {
   "cell_type": "code",
   "execution_count": 15,
   "id": "e9485945-bccf-419a-9420-c1e4f3aa262d",
   "metadata": {
    "execution": {
     "iopub.execute_input": "2024-06-30T21:01:59.019947Z",
     "iopub.status.busy": "2024-06-30T21:01:59.019688Z",
     "iopub.status.idle": "2024-06-30T21:01:59.039659Z",
     "shell.execute_reply": "2024-06-30T21:01:59.039367Z"
    },
    "papermill": {
     "duration": 0.026775,
     "end_time": "2024-06-30T21:01:59.040436",
     "exception": false,
     "start_time": "2024-06-30T21:01:59.013661",
     "status": "completed"
    },
    "tags": []
   },
   "outputs": [],
   "source": [
    "adataPBsample.write(here(adataPATHlist[0].replace('/scPoli_','/PSEUDOBULKs/scPoli_PSEUDOBULKsample_')), compression='gzip')"
   ]
  },
  {
   "cell_type": "code",
   "execution_count": 16,
   "id": "9c2daa40-3279-4b24-8aad-65ee0ba758c8",
   "metadata": {
    "execution": {
     "iopub.execute_input": "2024-06-30T21:01:59.057954Z",
     "iopub.status.busy": "2024-06-30T21:01:59.057714Z",
     "iopub.status.idle": "2024-06-30T21:01:59.105612Z",
     "shell.execute_reply": "2024-06-30T21:01:59.105298Z"
    },
    "papermill": {
     "duration": 0.060366,
     "end_time": "2024-06-30T21:01:59.106378",
     "exception": false,
     "start_time": "2024-06-30T21:01:59.046012",
     "status": "completed"
    },
    "tags": []
   },
   "outputs": [],
   "source": [
    "adataPBcell_sample.write(here(adataPATHlist[0].replace('/scPoli_','/PSEUDOBULKs/scPoli_PSEUDOBULKcellSample_')), compression='gzip')"
   ]
  },
  {
   "cell_type": "code",
   "execution_count": null,
   "id": "8a70d9f6-7a44-45ee-8470-702bd7af1e0b",
   "metadata": {
    "papermill": {
     "duration": 0.005585,
     "end_time": "2024-06-30T21:01:59.117638",
     "exception": false,
     "start_time": "2024-06-30T21:01:59.112053",
     "status": "completed"
    },
    "tags": []
   },
   "outputs": [],
   "source": []
  }
 ],
 "metadata": {
  "kernelspec": {
   "display_name": "Python 3 (ipykernel)",
   "language": "python",
   "name": "python3"
  },
  "language_info": {
   "codemirror_mode": {
    "name": "ipython",
    "version": 3
   },
   "file_extension": ".py",
   "mimetype": "text/x-python",
   "name": "python",
   "nbconvert_exporter": "python",
   "pygments_lexer": "ipython3",
   "version": "3.12.3"
  },
  "papermill": {
   "default_parameters": {},
   "duration": 5.074792,
   "end_time": "2024-06-30T21:01:59.637424",
   "environment_variables": {},
   "exception": null,
   "input_path": "03_generating_PSEUDOBULKs.ipynb",
   "output_path": "executed_notebooks/03_generating_PSEUDOBULKs_scPoli_VALIDATION_2_20_50_run2_xwzmx078.h5ad.ipynb",
   "parameters": {
    "adataPATH": "03_downstream_analysis/08_PatientClassifier/scPoli/results/scPoli_VALIDATION_2_20_50_run2_xwzmx078.h5ad"
   },
   "start_time": "2024-06-30T21:01:54.562632",
   "version": "2.6.0"
  }
 },
 "nbformat": 4,
 "nbformat_minor": 5
}