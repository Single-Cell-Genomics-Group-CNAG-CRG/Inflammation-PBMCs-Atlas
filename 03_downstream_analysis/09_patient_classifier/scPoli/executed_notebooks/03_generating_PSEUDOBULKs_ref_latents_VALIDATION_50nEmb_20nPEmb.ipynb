{
 "cells": [
  {
   "cell_type": "code",
   "execution_count": 1,
   "id": "8206abb2",
   "metadata": {
    "execution": {
     "iopub.execute_input": "2024-06-30T20:56:19.061412Z",
     "iopub.status.busy": "2024-06-30T20:56:19.061156Z",
     "iopub.status.idle": "2024-06-30T20:56:19.063598Z",
     "shell.execute_reply": "2024-06-30T20:56:19.063241Z"
    },
    "papermill": {
     "duration": 0.010734,
     "end_time": "2024-06-30T20:56:19.064450",
     "exception": false,
     "start_time": "2024-06-30T20:56:19.053716",
     "status": "completed"
    },
    "tags": [
     "injected-parameters"
    ]
   },
   "outputs": [],
   "source": [
    "# Parameters\n",
    "adataPATH = \"03_downstream_analysis/08_PatientClassifier/scPoli/results/scPoli_ref_latents_VALIDATION_2_50_20_*.h5ad\"\n"
   ]
  },
  {
   "cell_type": "raw",
   "id": "bf9880bd-3aef-477b-807d-37e3c5603037",
   "metadata": {
    "execution": {
     "iopub.execute_input": "2024-06-29T08:23:25.403219Z",
     "iopub.status.busy": "2024-06-29T08:23:25.402857Z",
     "iopub.status.idle": "2024-06-29T08:23:25.406428Z",
     "shell.execute_reply": "2024-06-29T08:23:25.406014Z",
     "shell.execute_reply.started": "2024-06-29T08:23:25.403185Z"
    },
    "papermill": {
     "duration": 0.005158,
     "end_time": "2024-06-30T20:56:19.074987",
     "exception": false,
     "start_time": "2024-06-30T20:56:19.069829",
     "status": "completed"
    },
    "tags": [],
    "vscode": {
     "languageId": "raw"
    }
   },
   "source": [
    "adataMAINpath = '03_downstream_analysis/08_PatientClassifier/scPoli/results/scPoli_2_100_20_*.h5ad'\n",
    "\n",
    "adataVALpath = '03_downstream_analysis/08_PatientClassifier/scPoli/results/scPoli_VALIDATION_2_20_20*.h5ad'\n",
    "adataEXCpath = '03_downstream_analysis/08_PatientClassifier/scPoli/results/scPoli_EXCLUDED_2_100_20_run1_pd5nyb4g.h5ad'\n",
    "adataEXTpath = '03_downstream_analysis/08_PatientClassifier/scPoli/results/scPoli_EXTERNAL_2_100_20_run1_pd5nyb4g.h5ad'\n",
    "\n",
    "adataPATH = adataVALpath"
   ]
  },
  {
   "cell_type": "code",
   "execution_count": 2,
   "id": "d3ccb10a-7201-43d0-a593-2b4650ff3451",
   "metadata": {
    "execution": {
     "iopub.execute_input": "2024-06-30T20:56:19.086547Z",
     "iopub.status.busy": "2024-06-30T20:56:19.086071Z",
     "iopub.status.idle": "2024-06-30T20:56:19.089123Z",
     "shell.execute_reply": "2024-06-30T20:56:19.088755Z"
    },
    "papermill": {
     "duration": 0.009843,
     "end_time": "2024-06-30T20:56:19.089908",
     "exception": false,
     "start_time": "2024-06-30T20:56:19.080065",
     "status": "completed"
    },
    "tags": []
   },
   "outputs": [
    {
     "name": "stdout",
     "output_type": "stream",
     "text": [
      "adataPATH = 03_downstream_analysis/08_PatientClassifier/scPoli/results/scPoli_ref_latents_VALIDATION_2_50_20_*.h5ad\n"
     ]
    }
   ],
   "source": [
    "for v in ['adataPATH']:\n",
    "    if v in locals() or v in globals():\n",
    "        print(f\"{v} = {eval(v)}\")\n",
    "    else:\n",
    "        raise Exception(f\"{v} not specified\")"
   ]
  },
  {
   "cell_type": "code",
   "execution_count": 3,
   "id": "888fb5f4-9ab7-4196-a282-7a7e92a43971",
   "metadata": {
    "execution": {
     "iopub.execute_input": "2024-06-30T20:56:19.102004Z",
     "iopub.status.busy": "2024-06-30T20:56:19.101709Z",
     "iopub.status.idle": "2024-06-30T20:56:20.475171Z",
     "shell.execute_reply": "2024-06-30T20:56:20.474676Z"
    },
    "papermill": {
     "duration": 1.381296,
     "end_time": "2024-06-30T20:56:20.476381",
     "exception": false,
     "start_time": "2024-06-30T20:56:19.095085",
     "status": "completed"
    },
    "tags": []
   },
   "outputs": [],
   "source": [
    "import os\n",
    "import sys\n",
    "from glob import glob\n",
    "\n",
    "import scanpy as sc\n",
    "import pandas as pd\n",
    "\n",
    "from pyprojroot import here\n",
    "\n",
    "sys.path.insert(1, str(here('bin')))\n",
    "# Import custom functions\n",
    "from customPythonFunctions import aggregating_features"
   ]
  },
  {
   "cell_type": "markdown",
   "id": "ba4905ae-4546-4ef4-b57b-950441ab079d",
   "metadata": {
    "papermill": {
     "duration": 0.00504,
     "end_time": "2024-06-30T20:56:20.487361",
     "exception": false,
     "start_time": "2024-06-30T20:56:20.482321",
     "status": "completed"
    },
    "tags": []
   },
   "source": [
    "### Loading data"
   ]
  },
  {
   "cell_type": "code",
   "execution_count": 4,
   "id": "539cbbbb-3503-4f51-bf04-f007f928ebd1",
   "metadata": {
    "execution": {
     "iopub.execute_input": "2024-06-30T20:56:20.498309Z",
     "iopub.status.busy": "2024-06-30T20:56:20.497855Z",
     "iopub.status.idle": "2024-06-30T20:56:20.501874Z",
     "shell.execute_reply": "2024-06-30T20:56:20.501506Z"
    },
    "papermill": {
     "duration": 0.010246,
     "end_time": "2024-06-30T20:56:20.502680",
     "exception": false,
     "start_time": "2024-06-30T20:56:20.492434",
     "status": "completed"
    },
    "tags": []
   },
   "outputs": [],
   "source": [
    "adataPATHlist = glob(str(here(adataPATH)))\n",
    "assert(len(adataPATHlist) == 1)"
   ]
  },
  {
   "cell_type": "code",
   "execution_count": 5,
   "id": "0fcfce0a-896b-4dc0-8e5e-46749205c84f",
   "metadata": {
    "execution": {
     "iopub.execute_input": "2024-06-30T20:56:20.513769Z",
     "iopub.status.busy": "2024-06-30T20:56:20.513512Z",
     "iopub.status.idle": "2024-06-30T20:56:30.807475Z",
     "shell.execute_reply": "2024-06-30T20:56:30.807019Z"
    },
    "papermill": {
     "duration": 10.300529,
     "end_time": "2024-06-30T20:56:30.808370",
     "exception": false,
     "start_time": "2024-06-30T20:56:20.507841",
     "status": "completed"
    },
    "tags": []
   },
   "outputs": [
    {
     "data": {
      "text/plain": [
       "AnnData object with n_obs × n_vars = 4435922 × 50\n",
       "    obs: 'studyID', 'libraryID', 'sampleID', 'chemistry', 'disease', 'sex', 'binned_age', 'Level1', 'Level2'\n",
       "    uns: 'chemistry', 'sampleID'"
      ]
     },
     "execution_count": 5,
     "metadata": {},
     "output_type": "execute_result"
    }
   ],
   "source": [
    "adata = sc.read_h5ad(adataPATHlist[0])\n",
    "adata"
   ]
  },
  {
   "cell_type": "markdown",
   "id": "44e868b3-0771-4225-bd79-a4b179bc672b",
   "metadata": {
    "papermill": {
     "duration": 0.005688,
     "end_time": "2024-06-30T20:56:30.820499",
     "exception": false,
     "start_time": "2024-06-30T20:56:30.814811",
     "status": "completed"
    },
    "tags": []
   },
   "source": [
    "#### Generating PSEUDOBULKs"
   ]
  },
  {
   "cell_type": "markdown",
   "id": "97d09fc5-d05c-471e-87fa-fe58ccbe47ac",
   "metadata": {
    "papermill": {
     "duration": 0.021471,
     "end_time": "2024-06-30T20:56:30.847156",
     "exception": false,
     "start_time": "2024-06-30T20:56:30.825685",
     "status": "completed"
    },
    "tags": []
   },
   "source": [
    "**Aggregating cell latent features**"
   ]
  },
  {
   "cell_type": "code",
   "execution_count": 6,
   "id": "81223976-fcf6-4354-8964-b12d76468636",
   "metadata": {
    "execution": {
     "iopub.execute_input": "2024-06-30T20:56:30.859259Z",
     "iopub.status.busy": "2024-06-30T20:56:30.858795Z",
     "iopub.status.idle": "2024-06-30T20:56:32.850338Z",
     "shell.execute_reply": "2024-06-30T20:56:32.849890Z"
    },
    "papermill": {
     "duration": 1.998656,
     "end_time": "2024-06-30T20:56:32.851148",
     "exception": false,
     "start_time": "2024-06-30T20:56:30.852492",
     "status": "completed"
    },
    "tags": []
   },
   "outputs": [
    {
     "data": {
      "text/plain": [
       "AnnData object with n_obs × n_vars = 11372 × 50\n",
       "    obs: 'sampleID', 'Level1', 'disease', 'n_observation'"
      ]
     },
     "execution_count": 6,
     "metadata": {},
     "output_type": "execute_result"
    }
   ],
   "source": [
    "adataPBcell = aggregating_features(Z = adata.X, \n",
    "                             obsDF = adata.obs[['sampleID','Level1','disease']], \n",
    "                             mode = 'mean', \n",
    "                             obs_names_col=['sampleID','Level1'], \n",
    "                             min_observation=0)\n",
    "adataPBcell"
   ]
  },
  {
   "cell_type": "code",
   "execution_count": null,
   "id": "8495038e-aebd-4003-bd94-c1e49f47249e",
   "metadata": {
    "papermill": {
     "duration": 0.005442,
     "end_time": "2024-06-30T20:56:32.862482",
     "exception": false,
     "start_time": "2024-06-30T20:56:32.857040",
     "status": "completed"
    },
    "tags": []
   },
   "outputs": [],
   "source": []
  },
  {
   "cell_type": "markdown",
   "id": "6d602bad-4793-4aa4-b3d7-d118d413a0fc",
   "metadata": {
    "papermill": {
     "duration": 0.005414,
     "end_time": "2024-06-30T20:56:32.873801",
     "exception": false,
     "start_time": "2024-06-30T20:56:32.868387",
     "status": "completed"
    },
    "tags": []
   },
   "source": [
    "**Extracting sample embedding**"
   ]
  },
  {
   "cell_type": "code",
   "execution_count": 7,
   "id": "e2c14f02",
   "metadata": {
    "execution": {
     "iopub.execute_input": "2024-06-30T20:56:32.885619Z",
     "iopub.status.busy": "2024-06-30T20:56:32.885253Z",
     "iopub.status.idle": "2024-06-30T20:56:32.894921Z",
     "shell.execute_reply": "2024-06-30T20:56:32.894571Z"
    },
    "papermill": {
     "duration": 0.016493,
     "end_time": "2024-06-30T20:56:32.895721",
     "exception": false,
     "start_time": "2024-06-30T20:56:32.879228",
     "status": "completed"
    },
    "tags": []
   },
   "outputs": [
    {
     "data": {
      "text/plain": [
       "AnnData object with n_obs × n_vars = 817 × 20\n",
       "    obs: 'sampleID', 'disease', 'Level1'"
      ]
     },
     "execution_count": 7,
     "metadata": {},
     "output_type": "execute_result"
    }
   ],
   "source": [
    "adataPBsample = adata.uns['sampleID'].copy()\n",
    "adataPBsample.obs['sampleID'] = adataPBsample.obs.index\n",
    "adataPBsample = adataPBsample[adataPBsample.obs['sampleID'].isin(adataPBcell.obs['sampleID'])]\n",
    "\n",
    "adataPBsample.obs = adataPBsample.obs.merge(adataPBcell.obs.groupby('sampleID').agg({'disease':'first'}), left_index=True, right_index=True)\n",
    "adataPBsample.obs['Level1'] = 'sample'\n",
    "adataPBsample"
   ]
  },
  {
   "cell_type": "markdown",
   "id": "2d4fe137-7d68-4e86-a85c-3c1a3d3c4c71",
   "metadata": {
    "papermill": {
     "duration": 0.015195,
     "end_time": "2024-06-30T20:56:32.928374",
     "exception": false,
     "start_time": "2024-06-30T20:56:32.913179",
     "status": "completed"
    },
    "tags": []
   },
   "source": [
    "**Merging cell and patient latent features**"
   ]
  },
  {
   "cell_type": "code",
   "execution_count": 8,
   "id": "a326d2b1",
   "metadata": {
    "execution": {
     "iopub.execute_input": "2024-06-30T20:56:32.946247Z",
     "iopub.status.busy": "2024-06-30T20:56:32.945831Z",
     "iopub.status.idle": "2024-06-30T20:56:32.948321Z",
     "shell.execute_reply": "2024-06-30T20:56:32.947960Z"
    },
    "papermill": {
     "duration": 0.010569,
     "end_time": "2024-06-30T20:56:32.949069",
     "exception": false,
     "start_time": "2024-06-30T20:56:32.938500",
     "status": "completed"
    },
    "tags": []
   },
   "outputs": [],
   "source": [
    "PBcellDF = adataPBcell.to_df()\n",
    "PBcellDF['sampleID'] = adataPBcell.obs['sampleID']"
   ]
  },
  {
   "cell_type": "code",
   "execution_count": 9,
   "id": "1a597f46-d9c5-403b-b81e-5738ca206682",
   "metadata": {
    "execution": {
     "iopub.execute_input": "2024-06-30T20:56:32.962838Z",
     "iopub.status.busy": "2024-06-30T20:56:32.962530Z",
     "iopub.status.idle": "2024-06-30T20:56:32.964853Z",
     "shell.execute_reply": "2024-06-30T20:56:32.964503Z"
    },
    "papermill": {
     "duration": 0.009149,
     "end_time": "2024-06-30T20:56:32.965601",
     "exception": false,
     "start_time": "2024-06-30T20:56:32.956452",
     "status": "completed"
    },
    "tags": []
   },
   "outputs": [],
   "source": [
    "PBsampleDF = adataPBsample.to_df()\n",
    "PBsampleDF['sampleID'] = adataPBsample.obs['sampleID']"
   ]
  },
  {
   "cell_type": "code",
   "execution_count": 10,
   "id": "bb384751-fe1b-4635-a90d-fd98ae61b173",
   "metadata": {
    "execution": {
     "iopub.execute_input": "2024-06-30T20:56:32.986108Z",
     "iopub.status.busy": "2024-06-30T20:56:32.985758Z",
     "iopub.status.idle": "2024-06-30T20:56:32.992213Z",
     "shell.execute_reply": "2024-06-30T20:56:32.991818Z"
    },
    "papermill": {
     "duration": 0.015035,
     "end_time": "2024-06-30T20:56:32.992964",
     "exception": false,
     "start_time": "2024-06-30T20:56:32.977929",
     "status": "completed"
    },
    "tags": []
   },
   "outputs": [],
   "source": [
    "PBcell_sampleDF = PBcellDF.merge(PBsampleDF, on='sampleID', how='left')"
   ]
  },
  {
   "cell_type": "code",
   "execution_count": 11,
   "id": "f7250713-e24d-4614-9cbd-eed702340640",
   "metadata": {
    "execution": {
     "iopub.execute_input": "2024-06-30T20:56:33.007480Z",
     "iopub.status.busy": "2024-06-30T20:56:33.007013Z",
     "iopub.status.idle": "2024-06-30T20:56:33.009749Z",
     "shell.execute_reply": "2024-06-30T20:56:33.009400Z"
    },
    "papermill": {
     "duration": 0.011085,
     "end_time": "2024-06-30T20:56:33.010519",
     "exception": false,
     "start_time": "2024-06-30T20:56:32.999434",
     "status": "completed"
    },
    "tags": []
   },
   "outputs": [],
   "source": [
    "assert(adataPBcell.obs['sampleID'].tolist() == PBcell_sampleDF['sampleID'].tolist())"
   ]
  },
  {
   "cell_type": "code",
   "execution_count": 12,
   "id": "abea2252-6a12-4b89-9f0d-6d6df90064fb",
   "metadata": {
    "execution": {
     "iopub.execute_input": "2024-06-30T20:56:33.035460Z",
     "iopub.status.busy": "2024-06-30T20:56:33.035182Z",
     "iopub.status.idle": "2024-06-30T20:56:33.037929Z",
     "shell.execute_reply": "2024-06-30T20:56:33.037567Z"
    },
    "papermill": {
     "duration": 0.012302,
     "end_time": "2024-06-30T20:56:33.038669",
     "exception": false,
     "start_time": "2024-06-30T20:56:33.026367",
     "status": "completed"
    },
    "tags": []
   },
   "outputs": [],
   "source": [
    "PBcell_sampleDF.drop('sampleID', axis=1, inplace=True)"
   ]
  },
  {
   "cell_type": "code",
   "execution_count": 13,
   "id": "5502e45d-5c72-4440-a8c1-5b299cac6e2d",
   "metadata": {
    "execution": {
     "iopub.execute_input": "2024-06-30T20:56:33.051207Z",
     "iopub.status.busy": "2024-06-30T20:56:33.050853Z",
     "iopub.status.idle": "2024-06-30T20:56:33.054623Z",
     "shell.execute_reply": "2024-06-30T20:56:33.054277Z"
    },
    "papermill": {
     "duration": 0.01112,
     "end_time": "2024-06-30T20:56:33.055370",
     "exception": false,
     "start_time": "2024-06-30T20:56:33.044250",
     "status": "completed"
    },
    "tags": []
   },
   "outputs": [
    {
     "data": {
      "text/plain": [
       "AnnData object with n_obs × n_vars = 11372 × 70\n",
       "    obs: 'sampleID', 'Level1', 'disease', 'n_observation'"
      ]
     },
     "execution_count": 13,
     "metadata": {},
     "output_type": "execute_result"
    }
   ],
   "source": [
    "adataPBcell_sample = sc.AnnData(X = PBcell_sampleDF, obs = adataPBcell.obs)\n",
    "adataPBcell_sample"
   ]
  },
  {
   "cell_type": "markdown",
   "id": "d59574be-684b-4082-b8b6-7d11930362ad",
   "metadata": {
    "papermill": {
     "duration": 0.005328,
     "end_time": "2024-06-30T20:56:33.066259",
     "exception": false,
     "start_time": "2024-06-30T20:56:33.060931",
     "status": "completed"
    },
    "tags": []
   },
   "source": [
    "### Saving pseudobulk adata objects"
   ]
  },
  {
   "cell_type": "code",
   "execution_count": 14,
   "id": "5947e6f8-ac27-4702-ba5d-aa9e1ba79f6a",
   "metadata": {
    "execution": {
     "iopub.execute_input": "2024-06-30T20:56:33.078515Z",
     "iopub.status.busy": "2024-06-30T20:56:33.078380Z",
     "iopub.status.idle": "2024-06-30T20:56:33.191555Z",
     "shell.execute_reply": "2024-06-30T20:56:33.191092Z"
    },
    "papermill": {
     "duration": 0.120246,
     "end_time": "2024-06-30T20:56:33.192385",
     "exception": false,
     "start_time": "2024-06-30T20:56:33.072139",
     "status": "completed"
    },
    "tags": []
   },
   "outputs": [],
   "source": [
    "adataPBcell.write(here(adataPATHlist[0].replace('/scPoli_','/PSEUDOBULKs/scPoli_PSEUDOBULKcell_')), compression='gzip')"
   ]
  },
  {
   "cell_type": "code",
   "execution_count": 15,
   "id": "e9485945-bccf-419a-9420-c1e4f3aa262d",
   "metadata": {
    "execution": {
     "iopub.execute_input": "2024-06-30T20:56:33.204884Z",
     "iopub.status.busy": "2024-06-30T20:56:33.204610Z",
     "iopub.status.idle": "2024-06-30T20:56:33.228883Z",
     "shell.execute_reply": "2024-06-30T20:56:33.228514Z"
    },
    "papermill": {
     "duration": 0.031695,
     "end_time": "2024-06-30T20:56:33.229655",
     "exception": false,
     "start_time": "2024-06-30T20:56:33.197960",
     "status": "completed"
    },
    "tags": []
   },
   "outputs": [],
   "source": [
    "adataPBsample.write(here(adataPATHlist[0].replace('/scPoli_','/PSEUDOBULKs/scPoli_PSEUDOBULKsample_')), compression='gzip')"
   ]
  },
  {
   "cell_type": "code",
   "execution_count": 16,
   "id": "9c2daa40-3279-4b24-8aad-65ee0ba758c8",
   "metadata": {
    "execution": {
     "iopub.execute_input": "2024-06-30T20:56:33.242054Z",
     "iopub.status.busy": "2024-06-30T20:56:33.241770Z",
     "iopub.status.idle": "2024-06-30T20:56:33.367727Z",
     "shell.execute_reply": "2024-06-30T20:56:33.367256Z"
    },
    "papermill": {
     "duration": 0.133634,
     "end_time": "2024-06-30T20:56:33.369001",
     "exception": false,
     "start_time": "2024-06-30T20:56:33.235367",
     "status": "completed"
    },
    "tags": []
   },
   "outputs": [],
   "source": [
    "adataPBcell_sample.write(here(adataPATHlist[0].replace('/scPoli_','/PSEUDOBULKs/scPoli_PSEUDOBULKcellSample_')), compression='gzip')"
   ]
  },
  {
   "cell_type": "code",
   "execution_count": null,
   "id": "8a70d9f6-7a44-45ee-8470-702bd7af1e0b",
   "metadata": {
    "papermill": {
     "duration": 0.005787,
     "end_time": "2024-06-30T20:56:33.380605",
     "exception": false,
     "start_time": "2024-06-30T20:56:33.374818",
     "status": "completed"
    },
    "tags": []
   },
   "outputs": [],
   "source": []
  }
 ],
 "metadata": {
  "kernelspec": {
   "display_name": "Python 3 (ipykernel)",
   "language": "python",
   "name": "python3"
  },
  "language_info": {
   "codemirror_mode": {
    "name": "ipython",
    "version": 3
   },
   "file_extension": ".py",
   "mimetype": "text/x-python",
   "name": "python",
   "nbconvert_exporter": "python",
   "pygments_lexer": "ipython3",
   "version": "3.12.3"
  },
  "papermill": {
   "default_parameters": {},
   "duration": 15.923078,
   "end_time": "2024-06-30T20:56:34.001061",
   "environment_variables": {},
   "exception": null,
   "input_path": "03_generating_PSEUDOBULKs.ipynb",
   "output_path": "executed_notebooks/03_generating_PSEUDOBULKs_ref_latents_VALIDATION_50nEmb_20nPEmb.ipynb",
   "parameters": {
    "adataPATH": "03_downstream_analysis/08_PatientClassifier/scPoli/results/scPoli_ref_latents_VALIDATION_2_50_20_*.h5ad"
   },
   "start_time": "2024-06-30T20:56:18.077983",
   "version": "2.6.0"
  }
 },
 "nbformat": 4,
 "nbformat_minor": 5
}