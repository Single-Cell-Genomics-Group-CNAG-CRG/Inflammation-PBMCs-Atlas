{
 "cells": [
  {
   "cell_type": "code",
   "execution_count": 1,
   "id": "b0e59b46",
   "metadata": {
    "execution": {
     "iopub.execute_input": "2024-06-30T20:59:56.902292Z",
     "iopub.status.busy": "2024-06-30T20:59:56.901673Z",
     "iopub.status.idle": "2024-06-30T20:59:56.904643Z",
     "shell.execute_reply": "2024-06-30T20:59:56.904313Z"
    },
    "papermill": {
     "duration": 0.010586,
     "end_time": "2024-06-30T20:59:56.905460",
     "exception": false,
     "start_time": "2024-06-30T20:59:56.894874",
     "status": "completed"
    },
    "tags": [
     "injected-parameters"
    ]
   },
   "outputs": [],
   "source": [
    "# Parameters\n",
    "adataPATH = \"03_downstream_analysis/08_PatientClassifier/scPoli/results/scPoli_ref_latents_EXTERNAL_2_20_100_run2_k6f7ol23.h5ad\"\n"
   ]
  },
  {
   "cell_type": "raw",
   "id": "bf9880bd-3aef-477b-807d-37e3c5603037",
   "metadata": {
    "execution": {
     "iopub.execute_input": "2024-06-29T08:23:25.403219Z",
     "iopub.status.busy": "2024-06-29T08:23:25.402857Z",
     "iopub.status.idle": "2024-06-29T08:23:25.406428Z",
     "shell.execute_reply": "2024-06-29T08:23:25.406014Z",
     "shell.execute_reply.started": "2024-06-29T08:23:25.403185Z"
    },
    "papermill": {
     "duration": 0.005021,
     "end_time": "2024-06-30T20:59:56.915702",
     "exception": false,
     "start_time": "2024-06-30T20:59:56.910681",
     "status": "completed"
    },
    "tags": [],
    "vscode": {
     "languageId": "raw"
    }
   },
   "source": [
    "adataMAINpath = '03_downstream_analysis/08_PatientClassifier/scPoli/results/scPoli_2_100_20_*.h5ad'\n",
    "\n",
    "adataVALpath = '03_downstream_analysis/08_PatientClassifier/scPoli/results/scPoli_VALIDATION_2_20_20*.h5ad'\n",
    "adataEXCpath = '03_downstream_analysis/08_PatientClassifier/scPoli/results/scPoli_EXCLUDED_2_100_20_run1_pd5nyb4g.h5ad'\n",
    "adataEXTpath = '03_downstream_analysis/08_PatientClassifier/scPoli/results/scPoli_EXTERNAL_2_100_20_run1_pd5nyb4g.h5ad'\n",
    "\n",
    "adataPATH = adataVALpath"
   ]
  },
  {
   "cell_type": "code",
   "execution_count": 2,
   "id": "d3ccb10a-7201-43d0-a593-2b4650ff3451",
   "metadata": {
    "execution": {
     "iopub.execute_input": "2024-06-30T20:59:56.926623Z",
     "iopub.status.busy": "2024-06-30T20:59:56.926250Z",
     "iopub.status.idle": "2024-06-30T20:59:56.929006Z",
     "shell.execute_reply": "2024-06-30T20:59:56.928707Z"
    },
    "papermill": {
     "duration": 0.008929,
     "end_time": "2024-06-30T20:59:56.929773",
     "exception": false,
     "start_time": "2024-06-30T20:59:56.920844",
     "status": "completed"
    },
    "tags": []
   },
   "outputs": [
    {
     "name": "stdout",
     "output_type": "stream",
     "text": [
      "adataPATH = 03_downstream_analysis/08_PatientClassifier/scPoli/results/scPoli_ref_latents_EXTERNAL_2_20_100_run2_k6f7ol23.h5ad\n"
     ]
    }
   ],
   "source": [
    "for v in ['adataPATH']:\n",
    "    if v in locals() or v in globals():\n",
    "        print(f\"{v} = {eval(v)}\")\n",
    "    else:\n",
    "        raise Exception(f\"{v} not specified\")"
   ]
  },
  {
   "cell_type": "code",
   "execution_count": 3,
   "id": "888fb5f4-9ab7-4196-a282-7a7e92a43971",
   "metadata": {
    "execution": {
     "iopub.execute_input": "2024-06-30T20:59:56.940348Z",
     "iopub.status.busy": "2024-06-30T20:59:56.939990Z",
     "iopub.status.idle": "2024-06-30T20:59:58.411247Z",
     "shell.execute_reply": "2024-06-30T20:59:58.410766Z"
    },
    "papermill": {
     "duration": 1.477497,
     "end_time": "2024-06-30T20:59:58.412161",
     "exception": false,
     "start_time": "2024-06-30T20:59:56.934664",
     "status": "completed"
    },
    "tags": []
   },
   "outputs": [],
   "source": [
    "import os\n",
    "import sys\n",
    "from glob import glob\n",
    "\n",
    "import scanpy as sc\n",
    "import pandas as pd\n",
    "\n",
    "from pyprojroot import here\n",
    "\n",
    "sys.path.insert(1, str(here('bin')))\n",
    "# Import custom functions\n",
    "from customPythonFunctions import aggregating_features"
   ]
  },
  {
   "cell_type": "markdown",
   "id": "ba4905ae-4546-4ef4-b57b-950441ab079d",
   "metadata": {
    "papermill": {
     "duration": 0.005015,
     "end_time": "2024-06-30T20:59:58.422261",
     "exception": false,
     "start_time": "2024-06-30T20:59:58.417246",
     "status": "completed"
    },
    "tags": []
   },
   "source": [
    "### Loading data"
   ]
  },
  {
   "cell_type": "code",
   "execution_count": 4,
   "id": "539cbbbb-3503-4f51-bf04-f007f928ebd1",
   "metadata": {
    "execution": {
     "iopub.execute_input": "2024-06-30T20:59:58.433307Z",
     "iopub.status.busy": "2024-06-30T20:59:58.432737Z",
     "iopub.status.idle": "2024-06-30T20:59:58.436603Z",
     "shell.execute_reply": "2024-06-30T20:59:58.436242Z"
    },
    "papermill": {
     "duration": 0.01006,
     "end_time": "2024-06-30T20:59:58.437365",
     "exception": false,
     "start_time": "2024-06-30T20:59:58.427305",
     "status": "completed"
    },
    "tags": []
   },
   "outputs": [],
   "source": [
    "adataPATHlist = glob(str(here(adataPATH)))\n",
    "assert(len(adataPATHlist) == 1)"
   ]
  },
  {
   "cell_type": "code",
   "execution_count": 5,
   "id": "0fcfce0a-896b-4dc0-8e5e-46749205c84f",
   "metadata": {
    "execution": {
     "iopub.execute_input": "2024-06-30T20:59:58.449083Z",
     "iopub.status.busy": "2024-06-30T20:59:58.448695Z",
     "iopub.status.idle": "2024-06-30T21:00:05.347503Z",
     "shell.execute_reply": "2024-06-30T21:00:05.347013Z"
    },
    "papermill": {
     "duration": 6.905138,
     "end_time": "2024-06-30T21:00:05.348412",
     "exception": false,
     "start_time": "2024-06-30T20:59:58.443274",
     "status": "completed"
    },
    "tags": []
   },
   "outputs": [
    {
     "data": {
      "text/plain": [
       "AnnData object with n_obs × n_vars = 4435922 × 20\n",
       "    obs: 'studyID', 'libraryID', 'sampleID', 'chemistry', 'disease', 'sex', 'binned_age', 'Level1', 'Level2'\n",
       "    uns: 'chemistry', 'sampleID'"
      ]
     },
     "execution_count": 5,
     "metadata": {},
     "output_type": "execute_result"
    }
   ],
   "source": [
    "adata = sc.read_h5ad(adataPATHlist[0])\n",
    "adata"
   ]
  },
  {
   "cell_type": "markdown",
   "id": "44e868b3-0771-4225-bd79-a4b179bc672b",
   "metadata": {
    "papermill": {
     "duration": 0.006037,
     "end_time": "2024-06-30T21:00:05.360340",
     "exception": false,
     "start_time": "2024-06-30T21:00:05.354303",
     "status": "completed"
    },
    "tags": []
   },
   "source": [
    "#### Generating PSEUDOBULKs"
   ]
  },
  {
   "cell_type": "markdown",
   "id": "97d09fc5-d05c-471e-87fa-fe58ccbe47ac",
   "metadata": {
    "papermill": {
     "duration": 0.005227,
     "end_time": "2024-06-30T21:00:05.372381",
     "exception": false,
     "start_time": "2024-06-30T21:00:05.367154",
     "status": "completed"
    },
    "tags": []
   },
   "source": [
    "**Aggregating cell latent features**"
   ]
  },
  {
   "cell_type": "code",
   "execution_count": 6,
   "id": "81223976-fcf6-4354-8964-b12d76468636",
   "metadata": {
    "execution": {
     "iopub.execute_input": "2024-06-30T21:00:05.383376Z",
     "iopub.status.busy": "2024-06-30T21:00:05.383216Z",
     "iopub.status.idle": "2024-06-30T21:00:07.103055Z",
     "shell.execute_reply": "2024-06-30T21:00:07.102617Z"
    },
    "papermill": {
     "duration": 1.726421,
     "end_time": "2024-06-30T21:00:07.103903",
     "exception": false,
     "start_time": "2024-06-30T21:00:05.377482",
     "status": "completed"
    },
    "tags": []
   },
   "outputs": [
    {
     "data": {
      "text/plain": [
       "AnnData object with n_obs × n_vars = 11372 × 20\n",
       "    obs: 'sampleID', 'Level1', 'disease', 'n_observation'"
      ]
     },
     "execution_count": 6,
     "metadata": {},
     "output_type": "execute_result"
    }
   ],
   "source": [
    "adataPBcell = aggregating_features(Z = adata.X, \n",
    "                             obsDF = adata.obs[['sampleID','Level1','disease']], \n",
    "                             mode = 'mean', \n",
    "                             obs_names_col=['sampleID','Level1'], \n",
    "                             min_observation=0)\n",
    "adataPBcell"
   ]
  },
  {
   "cell_type": "code",
   "execution_count": null,
   "id": "8495038e-aebd-4003-bd94-c1e49f47249e",
   "metadata": {
    "papermill": {
     "duration": 0.005293,
     "end_time": "2024-06-30T21:00:07.115439",
     "exception": false,
     "start_time": "2024-06-30T21:00:07.110146",
     "status": "completed"
    },
    "tags": []
   },
   "outputs": [],
   "source": []
  },
  {
   "cell_type": "markdown",
   "id": "6d602bad-4793-4aa4-b3d7-d118d413a0fc",
   "metadata": {
    "papermill": {
     "duration": 0.005091,
     "end_time": "2024-06-30T21:00:07.126151",
     "exception": false,
     "start_time": "2024-06-30T21:00:07.121060",
     "status": "completed"
    },
    "tags": []
   },
   "source": [
    "**Extracting sample embedding**"
   ]
  },
  {
   "cell_type": "code",
   "execution_count": 7,
   "id": "e2c14f02",
   "metadata": {
    "execution": {
     "iopub.execute_input": "2024-06-30T21:00:07.137896Z",
     "iopub.status.busy": "2024-06-30T21:00:07.137488Z",
     "iopub.status.idle": "2024-06-30T21:00:07.147561Z",
     "shell.execute_reply": "2024-06-30T21:00:07.147168Z"
    },
    "papermill": {
     "duration": 0.016787,
     "end_time": "2024-06-30T21:00:07.148349",
     "exception": false,
     "start_time": "2024-06-30T21:00:07.131562",
     "status": "completed"
    },
    "tags": []
   },
   "outputs": [
    {
     "data": {
      "text/plain": [
       "AnnData object with n_obs × n_vars = 817 × 100\n",
       "    obs: 'sampleID', 'disease', 'Level1'"
      ]
     },
     "execution_count": 7,
     "metadata": {},
     "output_type": "execute_result"
    }
   ],
   "source": [
    "adataPBsample = adata.uns['sampleID'].copy()\n",
    "adataPBsample.obs['sampleID'] = adataPBsample.obs.index\n",
    "adataPBsample = adataPBsample[adataPBsample.obs['sampleID'].isin(adataPBcell.obs['sampleID'])]\n",
    "\n",
    "adataPBsample.obs = adataPBsample.obs.merge(adataPBcell.obs.groupby('sampleID').agg({'disease':'first'}), left_index=True, right_index=True)\n",
    "adataPBsample.obs['Level1'] = 'sample'\n",
    "adataPBsample"
   ]
  },
  {
   "cell_type": "markdown",
   "id": "2d4fe137-7d68-4e86-a85c-3c1a3d3c4c71",
   "metadata": {
    "papermill": {
     "duration": 0.00544,
     "end_time": "2024-06-30T21:00:07.159546",
     "exception": false,
     "start_time": "2024-06-30T21:00:07.154106",
     "status": "completed"
    },
    "tags": []
   },
   "source": [
    "**Merging cell and patient latent features**"
   ]
  },
  {
   "cell_type": "code",
   "execution_count": 8,
   "id": "a326d2b1",
   "metadata": {
    "execution": {
     "iopub.execute_input": "2024-06-30T21:00:07.171034Z",
     "iopub.status.busy": "2024-06-30T21:00:07.170748Z",
     "iopub.status.idle": "2024-06-30T21:00:07.173192Z",
     "shell.execute_reply": "2024-06-30T21:00:07.172827Z"
    },
    "papermill": {
     "duration": 0.008913,
     "end_time": "2024-06-30T21:00:07.173966",
     "exception": false,
     "start_time": "2024-06-30T21:00:07.165053",
     "status": "completed"
    },
    "tags": []
   },
   "outputs": [],
   "source": [
    "PBcellDF = adataPBcell.to_df()\n",
    "PBcellDF['sampleID'] = adataPBcell.obs['sampleID']"
   ]
  },
  {
   "cell_type": "code",
   "execution_count": 9,
   "id": "1a597f46-d9c5-403b-b81e-5738ca206682",
   "metadata": {
    "execution": {
     "iopub.execute_input": "2024-06-30T21:00:07.185100Z",
     "iopub.status.busy": "2024-06-30T21:00:07.184874Z",
     "iopub.status.idle": "2024-06-30T21:00:07.187295Z",
     "shell.execute_reply": "2024-06-30T21:00:07.186910Z"
    },
    "papermill": {
     "duration": 0.008718,
     "end_time": "2024-06-30T21:00:07.188055",
     "exception": false,
     "start_time": "2024-06-30T21:00:07.179337",
     "status": "completed"
    },
    "tags": []
   },
   "outputs": [],
   "source": [
    "PBsampleDF = adataPBsample.to_df()\n",
    "PBsampleDF['sampleID'] = adataPBsample.obs['sampleID']"
   ]
  },
  {
   "cell_type": "code",
   "execution_count": 10,
   "id": "bb384751-fe1b-4635-a90d-fd98ae61b173",
   "metadata": {
    "execution": {
     "iopub.execute_input": "2024-06-30T21:00:07.200012Z",
     "iopub.status.busy": "2024-06-30T21:00:07.199632Z",
     "iopub.status.idle": "2024-06-30T21:00:07.207815Z",
     "shell.execute_reply": "2024-06-30T21:00:07.207343Z"
    },
    "papermill": {
     "duration": 0.015015,
     "end_time": "2024-06-30T21:00:07.208650",
     "exception": false,
     "start_time": "2024-06-30T21:00:07.193635",
     "status": "completed"
    },
    "tags": []
   },
   "outputs": [],
   "source": [
    "PBcell_sampleDF = PBcellDF.merge(PBsampleDF, on='sampleID', how='left')"
   ]
  },
  {
   "cell_type": "code",
   "execution_count": 11,
   "id": "f7250713-e24d-4614-9cbd-eed702340640",
   "metadata": {
    "execution": {
     "iopub.execute_input": "2024-06-30T21:00:07.221419Z",
     "iopub.status.busy": "2024-06-30T21:00:07.221108Z",
     "iopub.status.idle": "2024-06-30T21:00:07.223682Z",
     "shell.execute_reply": "2024-06-30T21:00:07.223321Z"
    },
    "papermill": {
     "duration": 0.010011,
     "end_time": "2024-06-30T21:00:07.224435",
     "exception": false,
     "start_time": "2024-06-30T21:00:07.214424",
     "status": "completed"
    },
    "tags": []
   },
   "outputs": [],
   "source": [
    "assert(adataPBcell.obs['sampleID'].tolist() == PBcell_sampleDF['sampleID'].tolist())"
   ]
  },
  {
   "cell_type": "code",
   "execution_count": 12,
   "id": "abea2252-6a12-4b89-9f0d-6d6df90064fb",
   "metadata": {
    "execution": {
     "iopub.execute_input": "2024-06-30T21:00:07.236264Z",
     "iopub.status.busy": "2024-06-30T21:00:07.235714Z",
     "iopub.status.idle": "2024-06-30T21:00:07.238900Z",
     "shell.execute_reply": "2024-06-30T21:00:07.238512Z"
    },
    "papermill": {
     "duration": 0.009803,
     "end_time": "2024-06-30T21:00:07.239671",
     "exception": false,
     "start_time": "2024-06-30T21:00:07.229868",
     "status": "completed"
    },
    "tags": []
   },
   "outputs": [],
   "source": [
    "PBcell_sampleDF.drop('sampleID', axis=1, inplace=True)"
   ]
  },
  {
   "cell_type": "code",
   "execution_count": 13,
   "id": "5502e45d-5c72-4440-a8c1-5b299cac6e2d",
   "metadata": {
    "execution": {
     "iopub.execute_input": "2024-06-30T21:00:07.251342Z",
     "iopub.status.busy": "2024-06-30T21:00:07.251001Z",
     "iopub.status.idle": "2024-06-30T21:00:07.255101Z",
     "shell.execute_reply": "2024-06-30T21:00:07.254732Z"
    },
    "papermill": {
     "duration": 0.010668,
     "end_time": "2024-06-30T21:00:07.255905",
     "exception": false,
     "start_time": "2024-06-30T21:00:07.245237",
     "status": "completed"
    },
    "tags": []
   },
   "outputs": [
    {
     "data": {
      "text/plain": [
       "AnnData object with n_obs × n_vars = 11372 × 120\n",
       "    obs: 'sampleID', 'Level1', 'disease', 'n_observation'"
      ]
     },
     "execution_count": 13,
     "metadata": {},
     "output_type": "execute_result"
    }
   ],
   "source": [
    "adataPBcell_sample = sc.AnnData(X = PBcell_sampleDF, obs = adataPBcell.obs)\n",
    "adataPBcell_sample"
   ]
  },
  {
   "cell_type": "markdown",
   "id": "d59574be-684b-4082-b8b6-7d11930362ad",
   "metadata": {
    "papermill": {
     "duration": 0.005339,
     "end_time": "2024-06-30T21:00:07.266599",
     "exception": false,
     "start_time": "2024-06-30T21:00:07.261260",
     "status": "completed"
    },
    "tags": []
   },
   "source": [
    "### Saving pseudobulk adata objects"
   ]
  },
  {
   "cell_type": "code",
   "execution_count": 14,
   "id": "5947e6f8-ac27-4702-ba5d-aa9e1ba79f6a",
   "metadata": {
    "execution": {
     "iopub.execute_input": "2024-06-30T21:00:07.278248Z",
     "iopub.status.busy": "2024-06-30T21:00:07.277972Z",
     "iopub.status.idle": "2024-06-30T21:00:07.347884Z",
     "shell.execute_reply": "2024-06-30T21:00:07.347426Z"
    },
    "papermill": {
     "duration": 0.076662,
     "end_time": "2024-06-30T21:00:07.348716",
     "exception": false,
     "start_time": "2024-06-30T21:00:07.272054",
     "status": "completed"
    },
    "tags": []
   },
   "outputs": [],
   "source": [
    "adataPBcell.write(here(adataPATHlist[0].replace('/scPoli_','/PSEUDOBULKs/scPoli_PSEUDOBULKcell_')), compression='gzip')"
   ]
  },
  {
   "cell_type": "code",
   "execution_count": 15,
   "id": "e9485945-bccf-419a-9420-c1e4f3aa262d",
   "metadata": {
    "execution": {
     "iopub.execute_input": "2024-06-30T21:00:07.360313Z",
     "iopub.status.busy": "2024-06-30T21:00:07.360023Z",
     "iopub.status.idle": "2024-06-30T21:00:07.390047Z",
     "shell.execute_reply": "2024-06-30T21:00:07.389657Z"
    },
    "papermill": {
     "duration": 0.036647,
     "end_time": "2024-06-30T21:00:07.390868",
     "exception": false,
     "start_time": "2024-06-30T21:00:07.354221",
     "status": "completed"
    },
    "tags": []
   },
   "outputs": [],
   "source": [
    "adataPBsample.write(here(adataPATHlist[0].replace('/scPoli_','/PSEUDOBULKs/scPoli_PSEUDOBULKsample_')), compression='gzip')"
   ]
  },
  {
   "cell_type": "code",
   "execution_count": 16,
   "id": "9c2daa40-3279-4b24-8aad-65ee0ba758c8",
   "metadata": {
    "execution": {
     "iopub.execute_input": "2024-06-30T21:00:07.402605Z",
     "iopub.status.busy": "2024-06-30T21:00:07.402327Z",
     "iopub.status.idle": "2024-06-30T21:00:07.504549Z",
     "shell.execute_reply": "2024-06-30T21:00:07.504050Z"
    },
    "papermill": {
     "duration": 0.10898,
     "end_time": "2024-06-30T21:00:07.505387",
     "exception": false,
     "start_time": "2024-06-30T21:00:07.396407",
     "status": "completed"
    },
    "tags": []
   },
   "outputs": [],
   "source": [
    "adataPBcell_sample.write(here(adataPATHlist[0].replace('/scPoli_','/PSEUDOBULKs/scPoli_PSEUDOBULKcellSample_')), compression='gzip')"
   ]
  },
  {
   "cell_type": "code",
   "execution_count": null,
   "id": "8a70d9f6-7a44-45ee-8470-702bd7af1e0b",
   "metadata": {
    "papermill": {
     "duration": 0.00539,
     "end_time": "2024-06-30T21:00:07.516303",
     "exception": false,
     "start_time": "2024-06-30T21:00:07.510913",
     "status": "completed"
    },
    "tags": []
   },
   "outputs": [],
   "source": []
  }
 ],
 "metadata": {
  "kernelspec": {
   "display_name": "Python 3 (ipykernel)",
   "language": "python",
   "name": "python3"
  },
  "language_info": {
   "codemirror_mode": {
    "name": "ipython",
    "version": 3
   },
   "file_extension": ".py",
   "mimetype": "text/x-python",
   "name": "python",
   "nbconvert_exporter": "python",
   "pygments_lexer": "ipython3",
   "version": "3.12.3"
  },
  "papermill": {
   "default_parameters": {},
   "duration": 12.380663,
   "end_time": "2024-06-30T21:00:08.136238",
   "environment_variables": {},
   "exception": null,
   "input_path": "03_generating_PSEUDOBULKs.ipynb",
   "output_path": "executed_notebooks/03_generating_PSEUDOBULKs_scPoli_ref_latents_EXTERNAL_2_20_100_run2_k6f7ol23.h5ad.ipynb",
   "parameters": {
    "adataPATH": "03_downstream_analysis/08_PatientClassifier/scPoli/results/scPoli_ref_latents_EXTERNAL_2_20_100_run2_k6f7ol23.h5ad"
   },
   "start_time": "2024-06-30T20:59:55.755575",
   "version": "2.6.0"
  }
 },
 "nbformat": 4,
 "nbformat_minor": 5
}