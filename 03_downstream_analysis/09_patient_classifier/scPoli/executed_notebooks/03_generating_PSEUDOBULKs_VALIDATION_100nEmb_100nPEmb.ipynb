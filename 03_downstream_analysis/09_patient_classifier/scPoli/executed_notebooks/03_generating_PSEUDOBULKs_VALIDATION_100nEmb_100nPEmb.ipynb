{
 "cells": [
  {
   "cell_type": "code",
   "execution_count": 1,
   "id": "bb877f86",
   "metadata": {
    "execution": {
     "iopub.execute_input": "2024-06-30T20:55:03.217529Z",
     "iopub.status.busy": "2024-06-30T20:55:03.217189Z",
     "iopub.status.idle": "2024-06-30T20:55:03.220138Z",
     "shell.execute_reply": "2024-06-30T20:55:03.219772Z"
    },
    "papermill": {
     "duration": 0.010719,
     "end_time": "2024-06-30T20:55:03.220995",
     "exception": false,
     "start_time": "2024-06-30T20:55:03.210276",
     "status": "completed"
    },
    "tags": [
     "injected-parameters"
    ]
   },
   "outputs": [],
   "source": [
    "# Parameters\n",
    "adataPATH = \"03_downstream_analysis/08_PatientClassifier/scPoli/results/scPoli_VALIDATION_2_100_100_*.h5ad\"\n"
   ]
  },
  {
   "cell_type": "raw",
   "id": "bf9880bd-3aef-477b-807d-37e3c5603037",
   "metadata": {
    "execution": {
     "iopub.execute_input": "2024-06-29T08:23:25.403219Z",
     "iopub.status.busy": "2024-06-29T08:23:25.402857Z",
     "iopub.status.idle": "2024-06-29T08:23:25.406428Z",
     "shell.execute_reply": "2024-06-29T08:23:25.406014Z",
     "shell.execute_reply.started": "2024-06-29T08:23:25.403185Z"
    },
    "papermill": {
     "duration": 0.004636,
     "end_time": "2024-06-30T20:55:03.230368",
     "exception": false,
     "start_time": "2024-06-30T20:55:03.225732",
     "status": "completed"
    },
    "tags": [],
    "vscode": {
     "languageId": "raw"
    }
   },
   "source": [
    "adataMAINpath = '03_downstream_analysis/08_PatientClassifier/scPoli/results/scPoli_2_100_20_*.h5ad'\n",
    "\n",
    "adataVALpath = '03_downstream_analysis/08_PatientClassifier/scPoli/results/scPoli_VALIDATION_2_20_20*.h5ad'\n",
    "adataEXCpath = '03_downstream_analysis/08_PatientClassifier/scPoli/results/scPoli_EXCLUDED_2_100_20_run1_pd5nyb4g.h5ad'\n",
    "adataEXTpath = '03_downstream_analysis/08_PatientClassifier/scPoli/results/scPoli_EXTERNAL_2_100_20_run1_pd5nyb4g.h5ad'\n",
    "\n",
    "adataPATH = adataVALpath"
   ]
  },
  {
   "cell_type": "code",
   "execution_count": 2,
   "id": "d3ccb10a-7201-43d0-a593-2b4650ff3451",
   "metadata": {
    "execution": {
     "iopub.execute_input": "2024-06-30T20:55:03.240803Z",
     "iopub.status.busy": "2024-06-30T20:55:03.240515Z",
     "iopub.status.idle": "2024-06-30T20:55:03.243473Z",
     "shell.execute_reply": "2024-06-30T20:55:03.243092Z"
    },
    "papermill": {
     "duration": 0.00878,
     "end_time": "2024-06-30T20:55:03.244273",
     "exception": false,
     "start_time": "2024-06-30T20:55:03.235493",
     "status": "completed"
    },
    "tags": []
   },
   "outputs": [
    {
     "name": "stdout",
     "output_type": "stream",
     "text": [
      "adataPATH = 03_downstream_analysis/08_PatientClassifier/scPoli/results/scPoli_VALIDATION_2_100_100_*.h5ad\n"
     ]
    }
   ],
   "source": [
    "for v in ['adataPATH']:\n",
    "    if v in locals() or v in globals():\n",
    "        print(f\"{v} = {eval(v)}\")\n",
    "    else:\n",
    "        raise Exception(f\"{v} not specified\")"
   ]
  },
  {
   "cell_type": "code",
   "execution_count": 3,
   "id": "888fb5f4-9ab7-4196-a282-7a7e92a43971",
   "metadata": {
    "execution": {
     "iopub.execute_input": "2024-06-30T20:55:03.254243Z",
     "iopub.status.busy": "2024-06-30T20:55:03.254095Z",
     "iopub.status.idle": "2024-06-30T20:55:04.622636Z",
     "shell.execute_reply": "2024-06-30T20:55:04.622130Z"
    },
    "papermill": {
     "duration": 1.374575,
     "end_time": "2024-06-30T20:55:04.623582",
     "exception": false,
     "start_time": "2024-06-30T20:55:03.249007",
     "status": "completed"
    },
    "tags": []
   },
   "outputs": [],
   "source": [
    "import os\n",
    "import sys\n",
    "from glob import glob\n",
    "\n",
    "import scanpy as sc\n",
    "import pandas as pd\n",
    "\n",
    "from pyprojroot import here\n",
    "\n",
    "sys.path.insert(1, str(here('bin')))\n",
    "# Import custom functions\n",
    "from customPythonFunctions import aggregating_features"
   ]
  },
  {
   "cell_type": "markdown",
   "id": "ba4905ae-4546-4ef4-b57b-950441ab079d",
   "metadata": {
    "papermill": {
     "duration": 0.00465,
     "end_time": "2024-06-30T20:55:04.633197",
     "exception": false,
     "start_time": "2024-06-30T20:55:04.628547",
     "status": "completed"
    },
    "tags": []
   },
   "source": [
    "### Loading data"
   ]
  },
  {
   "cell_type": "code",
   "execution_count": 4,
   "id": "539cbbbb-3503-4f51-bf04-f007f928ebd1",
   "metadata": {
    "execution": {
     "iopub.execute_input": "2024-06-30T20:55:04.653340Z",
     "iopub.status.busy": "2024-06-30T20:55:04.652932Z",
     "iopub.status.idle": "2024-06-30T20:55:04.657039Z",
     "shell.execute_reply": "2024-06-30T20:55:04.656668Z"
    },
    "papermill": {
     "duration": 0.010062,
     "end_time": "2024-06-30T20:55:04.657826",
     "exception": false,
     "start_time": "2024-06-30T20:55:04.647764",
     "status": "completed"
    },
    "tags": []
   },
   "outputs": [],
   "source": [
    "adataPATHlist = glob(str(here(adataPATH)))\n",
    "assert(len(adataPATHlist) == 1)"
   ]
  },
  {
   "cell_type": "code",
   "execution_count": 5,
   "id": "0fcfce0a-896b-4dc0-8e5e-46749205c84f",
   "metadata": {
    "execution": {
     "iopub.execute_input": "2024-06-30T20:55:04.673272Z",
     "iopub.status.busy": "2024-06-30T20:55:04.672983Z",
     "iopub.status.idle": "2024-06-30T20:55:08.431341Z",
     "shell.execute_reply": "2024-06-30T20:55:08.430885Z"
    },
    "papermill": {
     "duration": 3.764359,
     "end_time": "2024-06-30T20:55:08.432293",
     "exception": false,
     "start_time": "2024-06-30T20:55:04.667934",
     "status": "completed"
    },
    "tags": []
   },
   "outputs": [
    {
     "data": {
      "text/plain": [
       "AnnData object with n_obs × n_vars = 849922 × 100\n",
       "    obs: 'studyID', 'libraryID', 'sampleID', 'chemistry', 'technology', 'disease', 'sex', 'binned_age', 'Level1', 'Level2', 'conditions_combined', 'Level1_unc', 'Level2_unc'\n",
       "    uns: 'chemistry', 'sampleID'"
      ]
     },
     "execution_count": 5,
     "metadata": {},
     "output_type": "execute_result"
    }
   ],
   "source": [
    "adata = sc.read_h5ad(adataPATHlist[0])\n",
    "adata"
   ]
  },
  {
   "cell_type": "markdown",
   "id": "44e868b3-0771-4225-bd79-a4b179bc672b",
   "metadata": {
    "papermill": {
     "duration": 0.00511,
     "end_time": "2024-06-30T20:55:08.443102",
     "exception": false,
     "start_time": "2024-06-30T20:55:08.437992",
     "status": "completed"
    },
    "tags": []
   },
   "source": [
    "#### Generating PSEUDOBULKs"
   ]
  },
  {
   "cell_type": "markdown",
   "id": "97d09fc5-d05c-471e-87fa-fe58ccbe47ac",
   "metadata": {
    "papermill": {
     "duration": 0.004682,
     "end_time": "2024-06-30T20:55:08.452408",
     "exception": false,
     "start_time": "2024-06-30T20:55:08.447726",
     "status": "completed"
    },
    "tags": []
   },
   "source": [
    "**Aggregating cell latent features**"
   ]
  },
  {
   "cell_type": "code",
   "execution_count": 6,
   "id": "81223976-fcf6-4354-8964-b12d76468636",
   "metadata": {
    "execution": {
     "iopub.execute_input": "2024-06-30T20:55:08.464557Z",
     "iopub.status.busy": "2024-06-30T20:55:08.463850Z",
     "iopub.status.idle": "2024-06-30T20:55:08.959610Z",
     "shell.execute_reply": "2024-06-30T20:55:08.959130Z"
    },
    "papermill": {
     "duration": 0.502433,
     "end_time": "2024-06-30T20:55:08.960664",
     "exception": false,
     "start_time": "2024-06-30T20:55:08.458231",
     "status": "completed"
    },
    "tags": []
   },
   "outputs": [
    {
     "data": {
      "text/plain": [
       "AnnData object with n_obs × n_vars = 2113 × 100\n",
       "    obs: 'sampleID', 'Level1', 'disease', 'n_observation'"
      ]
     },
     "execution_count": 6,
     "metadata": {},
     "output_type": "execute_result"
    }
   ],
   "source": [
    "adataPBcell = aggregating_features(Z = adata.X, \n",
    "                             obsDF = adata.obs[['sampleID','Level1','disease']], \n",
    "                             mode = 'mean', \n",
    "                             obs_names_col=['sampleID','Level1'], \n",
    "                             min_observation=0)\n",
    "adataPBcell"
   ]
  },
  {
   "cell_type": "code",
   "execution_count": null,
   "id": "8495038e-aebd-4003-bd94-c1e49f47249e",
   "metadata": {
    "papermill": {
     "duration": 0.00519,
     "end_time": "2024-06-30T20:55:08.971158",
     "exception": false,
     "start_time": "2024-06-30T20:55:08.965968",
     "status": "completed"
    },
    "tags": []
   },
   "outputs": [],
   "source": []
  },
  {
   "cell_type": "markdown",
   "id": "6d602bad-4793-4aa4-b3d7-d118d413a0fc",
   "metadata": {
    "papermill": {
     "duration": 0.005166,
     "end_time": "2024-06-30T20:55:08.989065",
     "exception": false,
     "start_time": "2024-06-30T20:55:08.983899",
     "status": "completed"
    },
    "tags": []
   },
   "source": [
    "**Extracting sample embedding**"
   ]
  },
  {
   "cell_type": "code",
   "execution_count": 7,
   "id": "e2c14f02",
   "metadata": {
    "execution": {
     "iopub.execute_input": "2024-06-30T20:55:08.999791Z",
     "iopub.status.busy": "2024-06-30T20:55:08.999530Z",
     "iopub.status.idle": "2024-06-30T20:55:09.008271Z",
     "shell.execute_reply": "2024-06-30T20:55:09.007853Z"
    },
    "papermill": {
     "duration": 0.015196,
     "end_time": "2024-06-30T20:55:09.009107",
     "exception": false,
     "start_time": "2024-06-30T20:55:08.993911",
     "status": "completed"
    },
    "tags": []
   },
   "outputs": [
    {
     "data": {
      "text/plain": [
       "AnnData object with n_obs × n_vars = 144 × 100\n",
       "    obs: 'sampleID', 'disease', 'Level1'"
      ]
     },
     "execution_count": 7,
     "metadata": {},
     "output_type": "execute_result"
    }
   ],
   "source": [
    "adataPBsample = adata.uns['sampleID'].copy()\n",
    "adataPBsample.obs['sampleID'] = adataPBsample.obs.index\n",
    "adataPBsample = adataPBsample[adataPBsample.obs['sampleID'].isin(adataPBcell.obs['sampleID'])]\n",
    "\n",
    "adataPBsample.obs = adataPBsample.obs.merge(adataPBcell.obs.groupby('sampleID').agg({'disease':'first'}), left_index=True, right_index=True)\n",
    "adataPBsample.obs['Level1'] = 'sample'\n",
    "adataPBsample"
   ]
  },
  {
   "cell_type": "markdown",
   "id": "2d4fe137-7d68-4e86-a85c-3c1a3d3c4c71",
   "metadata": {
    "papermill": {
     "duration": 0.005078,
     "end_time": "2024-06-30T20:55:09.019269",
     "exception": false,
     "start_time": "2024-06-30T20:55:09.014191",
     "status": "completed"
    },
    "tags": []
   },
   "source": [
    "**Merging cell and patient latent features**"
   ]
  },
  {
   "cell_type": "code",
   "execution_count": 8,
   "id": "a326d2b1",
   "metadata": {
    "execution": {
     "iopub.execute_input": "2024-06-30T20:55:09.029660Z",
     "iopub.status.busy": "2024-06-30T20:55:09.029518Z",
     "iopub.status.idle": "2024-06-30T20:55:09.032080Z",
     "shell.execute_reply": "2024-06-30T20:55:09.031682Z"
    },
    "papermill": {
     "duration": 0.008549,
     "end_time": "2024-06-30T20:55:09.032873",
     "exception": false,
     "start_time": "2024-06-30T20:55:09.024324",
     "status": "completed"
    },
    "tags": []
   },
   "outputs": [],
   "source": [
    "PBcellDF = adataPBcell.to_df()\n",
    "PBcellDF['sampleID'] = adataPBcell.obs['sampleID']"
   ]
  },
  {
   "cell_type": "code",
   "execution_count": 9,
   "id": "1a597f46-d9c5-403b-b81e-5738ca206682",
   "metadata": {
    "execution": {
     "iopub.execute_input": "2024-06-30T20:55:09.043381Z",
     "iopub.status.busy": "2024-06-30T20:55:09.042949Z",
     "iopub.status.idle": "2024-06-30T20:55:09.045522Z",
     "shell.execute_reply": "2024-06-30T20:55:09.045130Z"
    },
    "papermill": {
     "duration": 0.008708,
     "end_time": "2024-06-30T20:55:09.046372",
     "exception": false,
     "start_time": "2024-06-30T20:55:09.037664",
     "status": "completed"
    },
    "tags": []
   },
   "outputs": [],
   "source": [
    "PBsampleDF = adataPBsample.to_df()\n",
    "PBsampleDF['sampleID'] = adataPBsample.obs['sampleID']"
   ]
  },
  {
   "cell_type": "code",
   "execution_count": 10,
   "id": "bb384751-fe1b-4635-a90d-fd98ae61b173",
   "metadata": {
    "execution": {
     "iopub.execute_input": "2024-06-30T20:55:09.057108Z",
     "iopub.status.busy": "2024-06-30T20:55:09.056974Z",
     "iopub.status.idle": "2024-06-30T20:55:09.061730Z",
     "shell.execute_reply": "2024-06-30T20:55:09.061334Z"
    },
    "papermill": {
     "duration": 0.01097,
     "end_time": "2024-06-30T20:55:09.062522",
     "exception": false,
     "start_time": "2024-06-30T20:55:09.051552",
     "status": "completed"
    },
    "tags": []
   },
   "outputs": [],
   "source": [
    "PBcell_sampleDF = PBcellDF.merge(PBsampleDF, on='sampleID', how='left')"
   ]
  },
  {
   "cell_type": "code",
   "execution_count": 11,
   "id": "f7250713-e24d-4614-9cbd-eed702340640",
   "metadata": {
    "execution": {
     "iopub.execute_input": "2024-06-30T20:55:09.073021Z",
     "iopub.status.busy": "2024-06-30T20:55:09.072880Z",
     "iopub.status.idle": "2024-06-30T20:55:09.075308Z",
     "shell.execute_reply": "2024-06-30T20:55:09.074929Z"
    },
    "papermill": {
     "duration": 0.008538,
     "end_time": "2024-06-30T20:55:09.076082",
     "exception": false,
     "start_time": "2024-06-30T20:55:09.067544",
     "status": "completed"
    },
    "tags": []
   },
   "outputs": [],
   "source": [
    "assert(adataPBcell.obs['sampleID'].tolist() == PBcell_sampleDF['sampleID'].tolist())"
   ]
  },
  {
   "cell_type": "code",
   "execution_count": 12,
   "id": "abea2252-6a12-4b89-9f0d-6d6df90064fb",
   "metadata": {
    "execution": {
     "iopub.execute_input": "2024-06-30T20:55:09.088503Z",
     "iopub.status.busy": "2024-06-30T20:55:09.088079Z",
     "iopub.status.idle": "2024-06-30T20:55:09.090672Z",
     "shell.execute_reply": "2024-06-30T20:55:09.090293Z"
    },
    "papermill": {
     "duration": 0.010174,
     "end_time": "2024-06-30T20:55:09.091445",
     "exception": false,
     "start_time": "2024-06-30T20:55:09.081271",
     "status": "completed"
    },
    "tags": []
   },
   "outputs": [],
   "source": [
    "PBcell_sampleDF.drop('sampleID', axis=1, inplace=True)"
   ]
  },
  {
   "cell_type": "code",
   "execution_count": 13,
   "id": "5502e45d-5c72-4440-a8c1-5b299cac6e2d",
   "metadata": {
    "execution": {
     "iopub.execute_input": "2024-06-30T20:55:09.102634Z",
     "iopub.status.busy": "2024-06-30T20:55:09.102256Z",
     "iopub.status.idle": "2024-06-30T20:55:09.105942Z",
     "shell.execute_reply": "2024-06-30T20:55:09.105582Z"
    },
    "papermill": {
     "duration": 0.010199,
     "end_time": "2024-06-30T20:55:09.106733",
     "exception": false,
     "start_time": "2024-06-30T20:55:09.096534",
     "status": "completed"
    },
    "tags": []
   },
   "outputs": [
    {
     "data": {
      "text/plain": [
       "AnnData object with n_obs × n_vars = 2113 × 200\n",
       "    obs: 'sampleID', 'Level1', 'disease', 'n_observation'"
      ]
     },
     "execution_count": 13,
     "metadata": {},
     "output_type": "execute_result"
    }
   ],
   "source": [
    "adataPBcell_sample = sc.AnnData(X = PBcell_sampleDF, obs = adataPBcell.obs)\n",
    "adataPBcell_sample"
   ]
  },
  {
   "cell_type": "markdown",
   "id": "d59574be-684b-4082-b8b6-7d11930362ad",
   "metadata": {
    "papermill": {
     "duration": 0.005054,
     "end_time": "2024-06-30T20:55:09.117097",
     "exception": false,
     "start_time": "2024-06-30T20:55:09.112043",
     "status": "completed"
    },
    "tags": []
   },
   "source": [
    "### Saving pseudobulk adata objects"
   ]
  },
  {
   "cell_type": "code",
   "execution_count": 14,
   "id": "5947e6f8-ac27-4702-ba5d-aa9e1ba79f6a",
   "metadata": {
    "execution": {
     "iopub.execute_input": "2024-06-30T20:55:09.128726Z",
     "iopub.status.busy": "2024-06-30T20:55:09.128365Z",
     "iopub.status.idle": "2024-06-30T20:55:09.179349Z",
     "shell.execute_reply": "2024-06-30T20:55:09.178909Z"
    },
    "papermill": {
     "duration": 0.057535,
     "end_time": "2024-06-30T20:55:09.180201",
     "exception": false,
     "start_time": "2024-06-30T20:55:09.122666",
     "status": "completed"
    },
    "tags": []
   },
   "outputs": [],
   "source": [
    "adataPBcell.write(here(adataPATHlist[0].replace('/scPoli_','/PSEUDOBULKs/scPoli_PSEUDOBULKcell_')), compression='gzip')"
   ]
  },
  {
   "cell_type": "code",
   "execution_count": 15,
   "id": "e9485945-bccf-419a-9420-c1e4f3aa262d",
   "metadata": {
    "execution": {
     "iopub.execute_input": "2024-06-30T20:55:09.191579Z",
     "iopub.status.busy": "2024-06-30T20:55:09.191307Z",
     "iopub.status.idle": "2024-06-30T20:55:09.212545Z",
     "shell.execute_reply": "2024-06-30T20:55:09.212153Z"
    },
    "papermill": {
     "duration": 0.027743,
     "end_time": "2024-06-30T20:55:09.213346",
     "exception": false,
     "start_time": "2024-06-30T20:55:09.185603",
     "status": "completed"
    },
    "tags": []
   },
   "outputs": [],
   "source": [
    "adataPBsample.write(here(adataPATHlist[0].replace('/scPoli_','/PSEUDOBULKs/scPoli_PSEUDOBULKsample_')), compression='gzip')"
   ]
  },
  {
   "cell_type": "code",
   "execution_count": 16,
   "id": "9c2daa40-3279-4b24-8aad-65ee0ba758c8",
   "metadata": {
    "execution": {
     "iopub.execute_input": "2024-06-30T20:55:09.224797Z",
     "iopub.status.busy": "2024-06-30T20:55:09.224493Z",
     "iopub.status.idle": "2024-06-30T20:55:09.284869Z",
     "shell.execute_reply": "2024-06-30T20:55:09.284420Z"
    },
    "papermill": {
     "duration": 0.067033,
     "end_time": "2024-06-30T20:55:09.285701",
     "exception": false,
     "start_time": "2024-06-30T20:55:09.218668",
     "status": "completed"
    },
    "tags": []
   },
   "outputs": [],
   "source": [
    "adataPBcell_sample.write(here(adataPATHlist[0].replace('/scPoli_','/PSEUDOBULKs/scPoli_PSEUDOBULKcellSample_')), compression='gzip')"
   ]
  },
  {
   "cell_type": "code",
   "execution_count": null,
   "id": "8a70d9f6-7a44-45ee-8470-702bd7af1e0b",
   "metadata": {
    "papermill": {
     "duration": 0.00521,
     "end_time": "2024-06-30T20:55:09.296492",
     "exception": false,
     "start_time": "2024-06-30T20:55:09.291282",
     "status": "completed"
    },
    "tags": []
   },
   "outputs": [],
   "source": []
  }
 ],
 "metadata": {
  "kernelspec": {
   "display_name": "Python 3 (ipykernel)",
   "language": "python",
   "name": "python3"
  },
  "language_info": {
   "codemirror_mode": {
    "name": "ipython",
    "version": 3
   },
   "file_extension": ".py",
   "mimetype": "text/x-python",
   "name": "python",
   "nbconvert_exporter": "python",
   "pygments_lexer": "ipython3",
   "version": "3.12.3"
  },
  "papermill": {
   "default_parameters": {},
   "duration": 7.839083,
   "end_time": "2024-06-30T20:55:09.816767",
   "environment_variables": {},
   "exception": null,
   "input_path": "03_generating_PSEUDOBULKs.ipynb",
   "output_path": "executed_notebooks/03_generating_PSEUDOBULKs_VALIDATION_100nEmb_100nPEmb.ipynb",
   "parameters": {
    "adataPATH": "03_downstream_analysis/08_PatientClassifier/scPoli/results/scPoli_VALIDATION_2_100_100_*.h5ad"
   },
   "start_time": "2024-06-30T20:55:01.977684",
   "version": "2.6.0"
  }
 },
 "nbformat": 4,
 "nbformat_minor": 5
}