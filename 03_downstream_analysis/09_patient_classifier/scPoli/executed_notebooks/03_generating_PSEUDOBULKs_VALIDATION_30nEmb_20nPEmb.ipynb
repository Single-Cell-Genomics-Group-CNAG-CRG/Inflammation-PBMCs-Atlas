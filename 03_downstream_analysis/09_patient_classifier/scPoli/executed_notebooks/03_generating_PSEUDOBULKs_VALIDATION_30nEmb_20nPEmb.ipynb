{
 "cells": [
  {
   "cell_type": "code",
   "execution_count": 1,
   "id": "f662b9b6",
   "metadata": {
    "execution": {
     "iopub.execute_input": "2024-06-30T20:54:57.005114Z",
     "iopub.status.busy": "2024-06-30T20:54:57.004776Z",
     "iopub.status.idle": "2024-06-30T20:54:57.007628Z",
     "shell.execute_reply": "2024-06-30T20:54:57.007219Z"
    },
    "papermill": {
     "duration": 0.01069,
     "end_time": "2024-06-30T20:54:57.008464",
     "exception": false,
     "start_time": "2024-06-30T20:54:56.997774",
     "status": "completed"
    },
    "tags": [
     "injected-parameters"
    ]
   },
   "outputs": [],
   "source": [
    "# Parameters\n",
    "adataPATH = \"03_downstream_analysis/08_PatientClassifier/scPoli/results/scPoli_VALIDATION_2_30_20_*.h5ad\"\n"
   ]
  },
  {
   "cell_type": "raw",
   "id": "bf9880bd-3aef-477b-807d-37e3c5603037",
   "metadata": {
    "execution": {
     "iopub.execute_input": "2024-06-29T08:23:25.403219Z",
     "iopub.status.busy": "2024-06-29T08:23:25.402857Z",
     "iopub.status.idle": "2024-06-29T08:23:25.406428Z",
     "shell.execute_reply": "2024-06-29T08:23:25.406014Z",
     "shell.execute_reply.started": "2024-06-29T08:23:25.403185Z"
    },
    "papermill": {
     "duration": 0.004482,
     "end_time": "2024-06-30T20:54:57.017907",
     "exception": false,
     "start_time": "2024-06-30T20:54:57.013425",
     "status": "completed"
    },
    "tags": [],
    "vscode": {
     "languageId": "raw"
    }
   },
   "source": [
    "adataMAINpath = '03_downstream_analysis/08_PatientClassifier/scPoli/results/scPoli_2_100_20_*.h5ad'\n",
    "\n",
    "adataVALpath = '03_downstream_analysis/08_PatientClassifier/scPoli/results/scPoli_VALIDATION_2_20_20*.h5ad'\n",
    "adataEXCpath = '03_downstream_analysis/08_PatientClassifier/scPoli/results/scPoli_EXCLUDED_2_100_20_run1_pd5nyb4g.h5ad'\n",
    "adataEXTpath = '03_downstream_analysis/08_PatientClassifier/scPoli/results/scPoli_EXTERNAL_2_100_20_run1_pd5nyb4g.h5ad'\n",
    "\n",
    "adataPATH = adataVALpath"
   ]
  },
  {
   "cell_type": "code",
   "execution_count": 2,
   "id": "d3ccb10a-7201-43d0-a593-2b4650ff3451",
   "metadata": {
    "execution": {
     "iopub.execute_input": "2024-06-30T20:54:57.028398Z",
     "iopub.status.busy": "2024-06-30T20:54:57.028101Z",
     "iopub.status.idle": "2024-06-30T20:54:57.031108Z",
     "shell.execute_reply": "2024-06-30T20:54:57.030714Z"
    },
    "papermill": {
     "duration": 0.009527,
     "end_time": "2024-06-30T20:54:57.032064",
     "exception": false,
     "start_time": "2024-06-30T20:54:57.022537",
     "status": "completed"
    },
    "tags": []
   },
   "outputs": [
    {
     "name": "stdout",
     "output_type": "stream",
     "text": [
      "adataPATH = 03_downstream_analysis/08_PatientClassifier/scPoli/results/scPoli_VALIDATION_2_30_20_*.h5ad\n"
     ]
    }
   ],
   "source": [
    "for v in ['adataPATH']:\n",
    "    if v in locals() or v in globals():\n",
    "        print(f\"{v} = {eval(v)}\")\n",
    "    else:\n",
    "        raise Exception(f\"{v} not specified\")"
   ]
  },
  {
   "cell_type": "code",
   "execution_count": 3,
   "id": "888fb5f4-9ab7-4196-a282-7a7e92a43971",
   "metadata": {
    "execution": {
     "iopub.execute_input": "2024-06-30T20:54:57.046776Z",
     "iopub.status.busy": "2024-06-30T20:54:57.046501Z",
     "iopub.status.idle": "2024-06-30T20:54:58.430994Z",
     "shell.execute_reply": "2024-06-30T20:54:58.430479Z"
    },
    "papermill": {
     "duration": 1.392769,
     "end_time": "2024-06-30T20:54:58.432004",
     "exception": false,
     "start_time": "2024-06-30T20:54:57.039235",
     "status": "completed"
    },
    "tags": []
   },
   "outputs": [],
   "source": [
    "import os\n",
    "import sys\n",
    "from glob import glob\n",
    "\n",
    "import scanpy as sc\n",
    "import pandas as pd\n",
    "\n",
    "from pyprojroot import here\n",
    "\n",
    "sys.path.insert(1, str(here('bin')))\n",
    "# Import custom functions\n",
    "from customPythonFunctions import aggregating_features"
   ]
  },
  {
   "cell_type": "markdown",
   "id": "ba4905ae-4546-4ef4-b57b-950441ab079d",
   "metadata": {
    "papermill": {
     "duration": 0.004775,
     "end_time": "2024-06-30T20:54:58.443919",
     "exception": false,
     "start_time": "2024-06-30T20:54:58.439144",
     "status": "completed"
    },
    "tags": []
   },
   "source": [
    "### Loading data"
   ]
  },
  {
   "cell_type": "code",
   "execution_count": 4,
   "id": "539cbbbb-3503-4f51-bf04-f007f928ebd1",
   "metadata": {
    "execution": {
     "iopub.execute_input": "2024-06-30T20:54:58.454846Z",
     "iopub.status.busy": "2024-06-30T20:54:58.454135Z",
     "iopub.status.idle": "2024-06-30T20:54:58.479772Z",
     "shell.execute_reply": "2024-06-30T20:54:58.479360Z"
    },
    "papermill": {
     "duration": 0.032025,
     "end_time": "2024-06-30T20:54:58.480610",
     "exception": false,
     "start_time": "2024-06-30T20:54:58.448585",
     "status": "completed"
    },
    "tags": []
   },
   "outputs": [],
   "source": [
    "adataPATHlist = glob(str(here(adataPATH)))\n",
    "assert(len(adataPATHlist) == 1)"
   ]
  },
  {
   "cell_type": "code",
   "execution_count": 5,
   "id": "0fcfce0a-896b-4dc0-8e5e-46749205c84f",
   "metadata": {
    "execution": {
     "iopub.execute_input": "2024-06-30T20:54:58.490934Z",
     "iopub.status.busy": "2024-06-30T20:54:58.490786Z",
     "iopub.status.idle": "2024-06-30T20:54:59.930282Z",
     "shell.execute_reply": "2024-06-30T20:54:59.929860Z"
    },
    "papermill": {
     "duration": 1.445679,
     "end_time": "2024-06-30T20:54:59.931103",
     "exception": false,
     "start_time": "2024-06-30T20:54:58.485424",
     "status": "completed"
    },
    "tags": []
   },
   "outputs": [
    {
     "data": {
      "text/plain": [
       "AnnData object with n_obs × n_vars = 849922 × 30\n",
       "    obs: 'studyID', 'libraryID', 'sampleID', 'chemistry', 'technology', 'disease', 'sex', 'binned_age', 'Level1', 'Level2', 'conditions_combined', 'Level1_unc', 'Level2_unc'\n",
       "    uns: 'chemistry', 'sampleID'"
      ]
     },
     "execution_count": 5,
     "metadata": {},
     "output_type": "execute_result"
    }
   ],
   "source": [
    "adata = sc.read_h5ad(adataPATHlist[0])\n",
    "adata"
   ]
  },
  {
   "cell_type": "markdown",
   "id": "44e868b3-0771-4225-bd79-a4b179bc672b",
   "metadata": {
    "papermill": {
     "duration": 0.004616,
     "end_time": "2024-06-30T20:54:59.940874",
     "exception": false,
     "start_time": "2024-06-30T20:54:59.936258",
     "status": "completed"
    },
    "tags": []
   },
   "source": [
    "#### Generating PSEUDOBULKs"
   ]
  },
  {
   "cell_type": "markdown",
   "id": "97d09fc5-d05c-471e-87fa-fe58ccbe47ac",
   "metadata": {
    "papermill": {
     "duration": 0.00466,
     "end_time": "2024-06-30T20:54:59.950111",
     "exception": false,
     "start_time": "2024-06-30T20:54:59.945451",
     "status": "completed"
    },
    "tags": []
   },
   "source": [
    "**Aggregating cell latent features**"
   ]
  },
  {
   "cell_type": "code",
   "execution_count": 6,
   "id": "81223976-fcf6-4354-8964-b12d76468636",
   "metadata": {
    "execution": {
     "iopub.execute_input": "2024-06-30T20:54:59.960319Z",
     "iopub.status.busy": "2024-06-30T20:54:59.960071Z",
     "iopub.status.idle": "2024-06-30T20:55:00.318317Z",
     "shell.execute_reply": "2024-06-30T20:55:00.317860Z"
    },
    "papermill": {
     "duration": 0.364512,
     "end_time": "2024-06-30T20:55:00.319154",
     "exception": false,
     "start_time": "2024-06-30T20:54:59.954642",
     "status": "completed"
    },
    "tags": []
   },
   "outputs": [
    {
     "data": {
      "text/plain": [
       "AnnData object with n_obs × n_vars = 2109 × 30\n",
       "    obs: 'sampleID', 'Level1', 'disease', 'n_observation'"
      ]
     },
     "execution_count": 6,
     "metadata": {},
     "output_type": "execute_result"
    }
   ],
   "source": [
    "adataPBcell = aggregating_features(Z = adata.X, \n",
    "                             obsDF = adata.obs[['sampleID','Level1','disease']], \n",
    "                             mode = 'mean', \n",
    "                             obs_names_col=['sampleID','Level1'], \n",
    "                             min_observation=0)\n",
    "adataPBcell"
   ]
  },
  {
   "cell_type": "code",
   "execution_count": null,
   "id": "8495038e-aebd-4003-bd94-c1e49f47249e",
   "metadata": {
    "papermill": {
     "duration": 0.00479,
     "end_time": "2024-06-30T20:55:00.329133",
     "exception": false,
     "start_time": "2024-06-30T20:55:00.324343",
     "status": "completed"
    },
    "tags": []
   },
   "outputs": [],
   "source": []
  },
  {
   "cell_type": "markdown",
   "id": "6d602bad-4793-4aa4-b3d7-d118d413a0fc",
   "metadata": {
    "papermill": {
     "duration": 0.004801,
     "end_time": "2024-06-30T20:55:00.339545",
     "exception": false,
     "start_time": "2024-06-30T20:55:00.334744",
     "status": "completed"
    },
    "tags": []
   },
   "source": [
    "**Extracting sample embedding**"
   ]
  },
  {
   "cell_type": "code",
   "execution_count": 7,
   "id": "e2c14f02",
   "metadata": {
    "execution": {
     "iopub.execute_input": "2024-06-30T20:55:00.350007Z",
     "iopub.status.busy": "2024-06-30T20:55:00.349849Z",
     "iopub.status.idle": "2024-06-30T20:55:00.358149Z",
     "shell.execute_reply": "2024-06-30T20:55:00.357772Z"
    },
    "papermill": {
     "duration": 0.014601,
     "end_time": "2024-06-30T20:55:00.358962",
     "exception": false,
     "start_time": "2024-06-30T20:55:00.344361",
     "status": "completed"
    },
    "tags": []
   },
   "outputs": [
    {
     "data": {
      "text/plain": [
       "AnnData object with n_obs × n_vars = 144 × 20\n",
       "    obs: 'sampleID', 'disease', 'Level1'"
      ]
     },
     "execution_count": 7,
     "metadata": {},
     "output_type": "execute_result"
    }
   ],
   "source": [
    "adataPBsample = adata.uns['sampleID'].copy()\n",
    "adataPBsample.obs['sampleID'] = adataPBsample.obs.index\n",
    "adataPBsample = adataPBsample[adataPBsample.obs['sampleID'].isin(adataPBcell.obs['sampleID'])]\n",
    "\n",
    "adataPBsample.obs = adataPBsample.obs.merge(adataPBcell.obs.groupby('sampleID').agg({'disease':'first'}), left_index=True, right_index=True)\n",
    "adataPBsample.obs['Level1'] = 'sample'\n",
    "adataPBsample"
   ]
  },
  {
   "cell_type": "markdown",
   "id": "2d4fe137-7d68-4e86-a85c-3c1a3d3c4c71",
   "metadata": {
    "papermill": {
     "duration": 0.004972,
     "end_time": "2024-06-30T20:55:00.368942",
     "exception": false,
     "start_time": "2024-06-30T20:55:00.363970",
     "status": "completed"
    },
    "tags": []
   },
   "source": [
    "**Merging cell and patient latent features**"
   ]
  },
  {
   "cell_type": "code",
   "execution_count": 8,
   "id": "a326d2b1",
   "metadata": {
    "execution": {
     "iopub.execute_input": "2024-06-30T20:55:00.379380Z",
     "iopub.status.busy": "2024-06-30T20:55:00.379203Z",
     "iopub.status.idle": "2024-06-30T20:55:00.381816Z",
     "shell.execute_reply": "2024-06-30T20:55:00.381436Z"
    },
    "papermill": {
     "duration": 0.008742,
     "end_time": "2024-06-30T20:55:00.382615",
     "exception": false,
     "start_time": "2024-06-30T20:55:00.373873",
     "status": "completed"
    },
    "tags": []
   },
   "outputs": [],
   "source": [
    "PBcellDF = adataPBcell.to_df()\n",
    "PBcellDF['sampleID'] = adataPBcell.obs['sampleID']"
   ]
  },
  {
   "cell_type": "code",
   "execution_count": 9,
   "id": "1a597f46-d9c5-403b-b81e-5738ca206682",
   "metadata": {
    "execution": {
     "iopub.execute_input": "2024-06-30T20:55:00.392887Z",
     "iopub.status.busy": "2024-06-30T20:55:00.392748Z",
     "iopub.status.idle": "2024-06-30T20:55:00.395230Z",
     "shell.execute_reply": "2024-06-30T20:55:00.394849Z"
    },
    "papermill": {
     "duration": 0.008531,
     "end_time": "2024-06-30T20:55:00.396029",
     "exception": false,
     "start_time": "2024-06-30T20:55:00.387498",
     "status": "completed"
    },
    "tags": []
   },
   "outputs": [],
   "source": [
    "PBsampleDF = adataPBsample.to_df()\n",
    "PBsampleDF['sampleID'] = adataPBsample.obs['sampleID']"
   ]
  },
  {
   "cell_type": "code",
   "execution_count": 10,
   "id": "bb384751-fe1b-4635-a90d-fd98ae61b173",
   "metadata": {
    "execution": {
     "iopub.execute_input": "2024-06-30T20:55:00.407153Z",
     "iopub.status.busy": "2024-06-30T20:55:00.406781Z",
     "iopub.status.idle": "2024-06-30T20:55:00.410949Z",
     "shell.execute_reply": "2024-06-30T20:55:00.410573Z"
    },
    "papermill": {
     "duration": 0.0104,
     "end_time": "2024-06-30T20:55:00.411707",
     "exception": false,
     "start_time": "2024-06-30T20:55:00.401307",
     "status": "completed"
    },
    "tags": []
   },
   "outputs": [],
   "source": [
    "PBcell_sampleDF = PBcellDF.merge(PBsampleDF, on='sampleID', how='left')"
   ]
  },
  {
   "cell_type": "code",
   "execution_count": 11,
   "id": "f7250713-e24d-4614-9cbd-eed702340640",
   "metadata": {
    "execution": {
     "iopub.execute_input": "2024-06-30T20:55:00.422945Z",
     "iopub.status.busy": "2024-06-30T20:55:00.422801Z",
     "iopub.status.idle": "2024-06-30T20:55:00.425134Z",
     "shell.execute_reply": "2024-06-30T20:55:00.424759Z"
    },
    "papermill": {
     "duration": 0.009229,
     "end_time": "2024-06-30T20:55:00.425933",
     "exception": false,
     "start_time": "2024-06-30T20:55:00.416704",
     "status": "completed"
    },
    "tags": []
   },
   "outputs": [],
   "source": [
    "assert(adataPBcell.obs['sampleID'].tolist() == PBcell_sampleDF['sampleID'].tolist())"
   ]
  },
  {
   "cell_type": "code",
   "execution_count": 12,
   "id": "abea2252-6a12-4b89-9f0d-6d6df90064fb",
   "metadata": {
    "execution": {
     "iopub.execute_input": "2024-06-30T20:55:00.437024Z",
     "iopub.status.busy": "2024-06-30T20:55:00.436772Z",
     "iopub.status.idle": "2024-06-30T20:55:00.439286Z",
     "shell.execute_reply": "2024-06-30T20:55:00.438925Z"
    },
    "papermill": {
     "duration": 0.008794,
     "end_time": "2024-06-30T20:55:00.440063",
     "exception": false,
     "start_time": "2024-06-30T20:55:00.431269",
     "status": "completed"
    },
    "tags": []
   },
   "outputs": [],
   "source": [
    "PBcell_sampleDF.drop('sampleID', axis=1, inplace=True)"
   ]
  },
  {
   "cell_type": "code",
   "execution_count": 13,
   "id": "5502e45d-5c72-4440-a8c1-5b299cac6e2d",
   "metadata": {
    "execution": {
     "iopub.execute_input": "2024-06-30T20:55:00.450988Z",
     "iopub.status.busy": "2024-06-30T20:55:00.450687Z",
     "iopub.status.idle": "2024-06-30T20:55:00.454335Z",
     "shell.execute_reply": "2024-06-30T20:55:00.453991Z"
    },
    "papermill": {
     "duration": 0.010015,
     "end_time": "2024-06-30T20:55:00.455120",
     "exception": false,
     "start_time": "2024-06-30T20:55:00.445105",
     "status": "completed"
    },
    "tags": []
   },
   "outputs": [
    {
     "data": {
      "text/plain": [
       "AnnData object with n_obs × n_vars = 2109 × 50\n",
       "    obs: 'sampleID', 'Level1', 'disease', 'n_observation'"
      ]
     },
     "execution_count": 13,
     "metadata": {},
     "output_type": "execute_result"
    }
   ],
   "source": [
    "adataPBcell_sample = sc.AnnData(X = PBcell_sampleDF, obs = adataPBcell.obs)\n",
    "adataPBcell_sample"
   ]
  },
  {
   "cell_type": "markdown",
   "id": "d59574be-684b-4082-b8b6-7d11930362ad",
   "metadata": {
    "papermill": {
     "duration": 0.00517,
     "end_time": "2024-06-30T20:55:00.465346",
     "exception": false,
     "start_time": "2024-06-30T20:55:00.460176",
     "status": "completed"
    },
    "tags": []
   },
   "source": [
    "### Saving pseudobulk adata objects"
   ]
  },
  {
   "cell_type": "code",
   "execution_count": 14,
   "id": "5947e6f8-ac27-4702-ba5d-aa9e1ba79f6a",
   "metadata": {
    "execution": {
     "iopub.execute_input": "2024-06-30T20:55:00.476368Z",
     "iopub.status.busy": "2024-06-30T20:55:00.476073Z",
     "iopub.status.idle": "2024-06-30T20:55:00.510161Z",
     "shell.execute_reply": "2024-06-30T20:55:00.509737Z"
    },
    "papermill": {
     "duration": 0.040658,
     "end_time": "2024-06-30T20:55:00.510980",
     "exception": false,
     "start_time": "2024-06-30T20:55:00.470322",
     "status": "completed"
    },
    "tags": []
   },
   "outputs": [],
   "source": [
    "adataPBcell.write(here(adataPATHlist[0].replace('/scPoli_','/PSEUDOBULKs/scPoli_PSEUDOBULKcell_')), compression='gzip')"
   ]
  },
  {
   "cell_type": "code",
   "execution_count": 15,
   "id": "e9485945-bccf-419a-9420-c1e4f3aa262d",
   "metadata": {
    "execution": {
     "iopub.execute_input": "2024-06-30T20:55:00.522574Z",
     "iopub.status.busy": "2024-06-30T20:55:00.522170Z",
     "iopub.status.idle": "2024-06-30T20:55:00.542798Z",
     "shell.execute_reply": "2024-06-30T20:55:00.542424Z"
    },
    "papermill": {
     "duration": 0.027259,
     "end_time": "2024-06-30T20:55:00.543581",
     "exception": false,
     "start_time": "2024-06-30T20:55:00.516322",
     "status": "completed"
    },
    "tags": []
   },
   "outputs": [],
   "source": [
    "adataPBsample.write(here(adataPATHlist[0].replace('/scPoli_','/PSEUDOBULKs/scPoli_PSEUDOBULKsample_')), compression='gzip')"
   ]
  },
  {
   "cell_type": "code",
   "execution_count": 16,
   "id": "9c2daa40-3279-4b24-8aad-65ee0ba758c8",
   "metadata": {
    "execution": {
     "iopub.execute_input": "2024-06-30T20:55:00.555311Z",
     "iopub.status.busy": "2024-06-30T20:55:00.554945Z",
     "iopub.status.idle": "2024-06-30T20:55:00.593594Z",
     "shell.execute_reply": "2024-06-30T20:55:00.593068Z"
    },
    "papermill": {
     "duration": 0.045456,
     "end_time": "2024-06-30T20:55:00.594528",
     "exception": false,
     "start_time": "2024-06-30T20:55:00.549072",
     "status": "completed"
    },
    "tags": []
   },
   "outputs": [],
   "source": [
    "adataPBcell_sample.write(here(adataPATHlist[0].replace('/scPoli_','/PSEUDOBULKs/scPoli_PSEUDOBULKcellSample_')), compression='gzip')"
   ]
  },
  {
   "cell_type": "code",
   "execution_count": null,
   "id": "8a70d9f6-7a44-45ee-8470-702bd7af1e0b",
   "metadata": {
    "papermill": {
     "duration": 0.005134,
     "end_time": "2024-06-30T20:55:00.605051",
     "exception": false,
     "start_time": "2024-06-30T20:55:00.599917",
     "status": "completed"
    },
    "tags": []
   },
   "outputs": [],
   "source": []
  }
 ],
 "metadata": {
  "kernelspec": {
   "display_name": "Python 3 (ipykernel)",
   "language": "python",
   "name": "python3"
  },
  "language_info": {
   "codemirror_mode": {
    "name": "ipython",
    "version": 3
   },
   "file_extension": ".py",
   "mimetype": "text/x-python",
   "name": "python",
   "nbconvert_exporter": "python",
   "pygments_lexer": "ipython3",
   "version": "3.12.3"
  },
  "papermill": {
   "default_parameters": {},
   "duration": 5.413886,
   "end_time": "2024-06-30T20:55:01.225168",
   "environment_variables": {},
   "exception": null,
   "input_path": "03_generating_PSEUDOBULKs.ipynb",
   "output_path": "executed_notebooks/03_generating_PSEUDOBULKs_VALIDATION_30nEmb_20nPEmb.ipynb",
   "parameters": {
    "adataPATH": "03_downstream_analysis/08_PatientClassifier/scPoli/results/scPoli_VALIDATION_2_30_20_*.h5ad"
   },
   "start_time": "2024-06-30T20:54:55.811282",
   "version": "2.6.0"
  }
 },
 "nbformat": 4,
 "nbformat_minor": 5
}