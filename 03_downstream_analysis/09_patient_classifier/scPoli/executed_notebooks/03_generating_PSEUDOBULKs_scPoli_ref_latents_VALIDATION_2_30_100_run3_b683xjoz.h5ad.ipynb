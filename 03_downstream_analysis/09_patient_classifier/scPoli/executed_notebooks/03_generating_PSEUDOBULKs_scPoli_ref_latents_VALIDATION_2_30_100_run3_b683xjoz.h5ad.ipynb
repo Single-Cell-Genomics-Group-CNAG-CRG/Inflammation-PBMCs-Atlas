{
 "cells": [
  {
   "cell_type": "code",
   "execution_count": 1,
   "id": "f09c2fbd",
   "metadata": {
    "execution": {
     "iopub.execute_input": "2024-06-30T21:01:55.734202Z",
     "iopub.status.busy": "2024-06-30T21:01:55.734045Z",
     "iopub.status.idle": "2024-06-30T21:01:55.736598Z",
     "shell.execute_reply": "2024-06-30T21:01:55.736236Z"
    },
    "papermill": {
     "duration": 0.011284,
     "end_time": "2024-06-30T21:01:55.737430",
     "exception": false,
     "start_time": "2024-06-30T21:01:55.726146",
     "status": "completed"
    },
    "tags": [
     "injected-parameters"
    ]
   },
   "outputs": [],
   "source": [
    "# Parameters\n",
    "adataPATH = \"03_downstream_analysis/08_PatientClassifier/scPoli/results/scPoli_ref_latents_VALIDATION_2_30_100_run3_b683xjoz.h5ad\"\n"
   ]
  },
  {
   "cell_type": "raw",
   "id": "bf9880bd-3aef-477b-807d-37e3c5603037",
   "metadata": {
    "execution": {
     "iopub.execute_input": "2024-06-29T08:23:25.403219Z",
     "iopub.status.busy": "2024-06-29T08:23:25.402857Z",
     "iopub.status.idle": "2024-06-29T08:23:25.406428Z",
     "shell.execute_reply": "2024-06-29T08:23:25.406014Z",
     "shell.execute_reply.started": "2024-06-29T08:23:25.403185Z"
    },
    "papermill": {
     "duration": 0.005255,
     "end_time": "2024-06-30T21:01:55.748306",
     "exception": false,
     "start_time": "2024-06-30T21:01:55.743051",
     "status": "completed"
    },
    "tags": [],
    "vscode": {
     "languageId": "raw"
    }
   },
   "source": [
    "adataMAINpath = '03_downstream_analysis/08_PatientClassifier/scPoli/results/scPoli_2_100_20_*.h5ad'\n",
    "\n",
    "adataVALpath = '03_downstream_analysis/08_PatientClassifier/scPoli/results/scPoli_VALIDATION_2_20_20*.h5ad'\n",
    "adataEXCpath = '03_downstream_analysis/08_PatientClassifier/scPoli/results/scPoli_EXCLUDED_2_100_20_run1_pd5nyb4g.h5ad'\n",
    "adataEXTpath = '03_downstream_analysis/08_PatientClassifier/scPoli/results/scPoli_EXTERNAL_2_100_20_run1_pd5nyb4g.h5ad'\n",
    "\n",
    "adataPATH = adataVALpath"
   ]
  },
  {
   "cell_type": "code",
   "execution_count": 2,
   "id": "d3ccb10a-7201-43d0-a593-2b4650ff3451",
   "metadata": {
    "execution": {
     "iopub.execute_input": "2024-06-30T21:01:55.759807Z",
     "iopub.status.busy": "2024-06-30T21:01:55.759673Z",
     "iopub.status.idle": "2024-06-30T21:01:55.762530Z",
     "shell.execute_reply": "2024-06-30T21:01:55.762163Z"
    },
    "papermill": {
     "duration": 0.009445,
     "end_time": "2024-06-30T21:01:55.763354",
     "exception": false,
     "start_time": "2024-06-30T21:01:55.753909",
     "status": "completed"
    },
    "tags": []
   },
   "outputs": [
    {
     "name": "stdout",
     "output_type": "stream",
     "text": [
      "adataPATH = 03_downstream_analysis/08_PatientClassifier/scPoli/results/scPoli_ref_latents_VALIDATION_2_30_100_run3_b683xjoz.h5ad\n"
     ]
    }
   ],
   "source": [
    "for v in ['adataPATH']:\n",
    "    if v in locals() or v in globals():\n",
    "        print(f\"{v} = {eval(v)}\")\n",
    "    else:\n",
    "        raise Exception(f\"{v} not specified\")"
   ]
  },
  {
   "cell_type": "code",
   "execution_count": 3,
   "id": "888fb5f4-9ab7-4196-a282-7a7e92a43971",
   "metadata": {
    "execution": {
     "iopub.execute_input": "2024-06-30T21:01:55.775150Z",
     "iopub.status.busy": "2024-06-30T21:01:55.774907Z",
     "iopub.status.idle": "2024-06-30T21:01:57.179027Z",
     "shell.execute_reply": "2024-06-30T21:01:57.178532Z"
    },
    "papermill": {
     "duration": 1.410751,
     "end_time": "2024-06-30T21:01:57.179990",
     "exception": false,
     "start_time": "2024-06-30T21:01:55.769239",
     "status": "completed"
    },
    "tags": []
   },
   "outputs": [],
   "source": [
    "import os\n",
    "import sys\n",
    "from glob import glob\n",
    "\n",
    "import scanpy as sc\n",
    "import pandas as pd\n",
    "\n",
    "from pyprojroot import here\n",
    "\n",
    "sys.path.insert(1, str(here('bin')))\n",
    "# Import custom functions\n",
    "from customPythonFunctions import aggregating_features"
   ]
  },
  {
   "cell_type": "markdown",
   "id": "ba4905ae-4546-4ef4-b57b-950441ab079d",
   "metadata": {
    "papermill": {
     "duration": 0.004965,
     "end_time": "2024-06-30T21:01:57.190179",
     "exception": false,
     "start_time": "2024-06-30T21:01:57.185214",
     "status": "completed"
    },
    "tags": []
   },
   "source": [
    "### Loading data"
   ]
  },
  {
   "cell_type": "code",
   "execution_count": 4,
   "id": "539cbbbb-3503-4f51-bf04-f007f928ebd1",
   "metadata": {
    "execution": {
     "iopub.execute_input": "2024-06-30T21:01:57.201400Z",
     "iopub.status.busy": "2024-06-30T21:01:57.200997Z",
     "iopub.status.idle": "2024-06-30T21:01:57.204854Z",
     "shell.execute_reply": "2024-06-30T21:01:57.204484Z"
    },
    "papermill": {
     "duration": 0.01046,
     "end_time": "2024-06-30T21:01:57.205618",
     "exception": false,
     "start_time": "2024-06-30T21:01:57.195158",
     "status": "completed"
    },
    "tags": []
   },
   "outputs": [],
   "source": [
    "adataPATHlist = glob(str(here(adataPATH)))\n",
    "assert(len(adataPATHlist) == 1)"
   ]
  },
  {
   "cell_type": "code",
   "execution_count": 5,
   "id": "0fcfce0a-896b-4dc0-8e5e-46749205c84f",
   "metadata": {
    "execution": {
     "iopub.execute_input": "2024-06-30T21:01:57.216567Z",
     "iopub.status.busy": "2024-06-30T21:01:57.216152Z",
     "iopub.status.idle": "2024-06-30T21:02:05.189815Z",
     "shell.execute_reply": "2024-06-30T21:02:05.189364Z"
    },
    "papermill": {
     "duration": 7.980052,
     "end_time": "2024-06-30T21:02:05.190733",
     "exception": false,
     "start_time": "2024-06-30T21:01:57.210681",
     "status": "completed"
    },
    "tags": []
   },
   "outputs": [
    {
     "data": {
      "text/plain": [
       "AnnData object with n_obs × n_vars = 4435922 × 30\n",
       "    obs: 'studyID', 'libraryID', 'sampleID', 'chemistry', 'disease', 'sex', 'binned_age', 'Level1', 'Level2'\n",
       "    uns: 'chemistry', 'sampleID'"
      ]
     },
     "execution_count": 5,
     "metadata": {},
     "output_type": "execute_result"
    }
   ],
   "source": [
    "adata = sc.read_h5ad(adataPATHlist[0])\n",
    "adata"
   ]
  },
  {
   "cell_type": "markdown",
   "id": "44e868b3-0771-4225-bd79-a4b179bc672b",
   "metadata": {
    "papermill": {
     "duration": 0.00524,
     "end_time": "2024-06-30T21:02:05.201943",
     "exception": false,
     "start_time": "2024-06-30T21:02:05.196703",
     "status": "completed"
    },
    "tags": []
   },
   "source": [
    "#### Generating PSEUDOBULKs"
   ]
  },
  {
   "cell_type": "markdown",
   "id": "97d09fc5-d05c-471e-87fa-fe58ccbe47ac",
   "metadata": {
    "papermill": {
     "duration": 0.006499,
     "end_time": "2024-06-30T21:02:05.213534",
     "exception": false,
     "start_time": "2024-06-30T21:02:05.207035",
     "status": "completed"
    },
    "tags": []
   },
   "source": [
    "**Aggregating cell latent features**"
   ]
  },
  {
   "cell_type": "code",
   "execution_count": 6,
   "id": "81223976-fcf6-4354-8964-b12d76468636",
   "metadata": {
    "execution": {
     "iopub.execute_input": "2024-06-30T21:02:05.225015Z",
     "iopub.status.busy": "2024-06-30T21:02:05.224865Z",
     "iopub.status.idle": "2024-06-30T21:02:07.003525Z",
     "shell.execute_reply": "2024-06-30T21:02:07.003063Z"
    },
    "papermill": {
     "duration": 1.785327,
     "end_time": "2024-06-30T21:02:07.004360",
     "exception": false,
     "start_time": "2024-06-30T21:02:05.219033",
     "status": "completed"
    },
    "tags": []
   },
   "outputs": [
    {
     "data": {
      "text/plain": [
       "AnnData object with n_obs × n_vars = 11372 × 30\n",
       "    obs: 'sampleID', 'Level1', 'disease', 'n_observation'"
      ]
     },
     "execution_count": 6,
     "metadata": {},
     "output_type": "execute_result"
    }
   ],
   "source": [
    "adataPBcell = aggregating_features(Z = adata.X, \n",
    "                             obsDF = adata.obs[['sampleID','Level1','disease']], \n",
    "                             mode = 'mean', \n",
    "                             obs_names_col=['sampleID','Level1'], \n",
    "                             min_observation=0)\n",
    "adataPBcell"
   ]
  },
  {
   "cell_type": "code",
   "execution_count": null,
   "id": "8495038e-aebd-4003-bd94-c1e49f47249e",
   "metadata": {
    "papermill": {
     "duration": 0.00555,
     "end_time": "2024-06-30T21:02:07.017403",
     "exception": false,
     "start_time": "2024-06-30T21:02:07.011853",
     "status": "completed"
    },
    "tags": []
   },
   "outputs": [],
   "source": []
  },
  {
   "cell_type": "markdown",
   "id": "6d602bad-4793-4aa4-b3d7-d118d413a0fc",
   "metadata": {
    "papermill": {
     "duration": 0.005526,
     "end_time": "2024-06-30T21:02:07.047882",
     "exception": false,
     "start_time": "2024-06-30T21:02:07.042356",
     "status": "completed"
    },
    "tags": []
   },
   "source": [
    "**Extracting sample embedding**"
   ]
  },
  {
   "cell_type": "code",
   "execution_count": 7,
   "id": "e2c14f02",
   "metadata": {
    "execution": {
     "iopub.execute_input": "2024-06-30T21:02:07.060084Z",
     "iopub.status.busy": "2024-06-30T21:02:07.059813Z",
     "iopub.status.idle": "2024-06-30T21:02:07.069672Z",
     "shell.execute_reply": "2024-06-30T21:02:07.069293Z"
    },
    "papermill": {
     "duration": 0.016817,
     "end_time": "2024-06-30T21:02:07.070488",
     "exception": false,
     "start_time": "2024-06-30T21:02:07.053671",
     "status": "completed"
    },
    "tags": []
   },
   "outputs": [
    {
     "data": {
      "text/plain": [
       "AnnData object with n_obs × n_vars = 817 × 100\n",
       "    obs: 'sampleID', 'disease', 'Level1'"
      ]
     },
     "execution_count": 7,
     "metadata": {},
     "output_type": "execute_result"
    }
   ],
   "source": [
    "adataPBsample = adata.uns['sampleID'].copy()\n",
    "adataPBsample.obs['sampleID'] = adataPBsample.obs.index\n",
    "adataPBsample = adataPBsample[adataPBsample.obs['sampleID'].isin(adataPBcell.obs['sampleID'])]\n",
    "\n",
    "adataPBsample.obs = adataPBsample.obs.merge(adataPBcell.obs.groupby('sampleID').agg({'disease':'first'}), left_index=True, right_index=True)\n",
    "adataPBsample.obs['Level1'] = 'sample'\n",
    "adataPBsample"
   ]
  },
  {
   "cell_type": "markdown",
   "id": "2d4fe137-7d68-4e86-a85c-3c1a3d3c4c71",
   "metadata": {
    "papermill": {
     "duration": 0.014493,
     "end_time": "2024-06-30T21:02:07.090587",
     "exception": false,
     "start_time": "2024-06-30T21:02:07.076094",
     "status": "completed"
    },
    "tags": []
   },
   "source": [
    "**Merging cell and patient latent features**"
   ]
  },
  {
   "cell_type": "code",
   "execution_count": 8,
   "id": "a326d2b1",
   "metadata": {
    "execution": {
     "iopub.execute_input": "2024-06-30T21:02:07.102316Z",
     "iopub.status.busy": "2024-06-30T21:02:07.101923Z",
     "iopub.status.idle": "2024-06-30T21:02:07.104417Z",
     "shell.execute_reply": "2024-06-30T21:02:07.104047Z"
    },
    "papermill": {
     "duration": 0.009,
     "end_time": "2024-06-30T21:02:07.105169",
     "exception": false,
     "start_time": "2024-06-30T21:02:07.096169",
     "status": "completed"
    },
    "tags": []
   },
   "outputs": [],
   "source": [
    "PBcellDF = adataPBcell.to_df()\n",
    "PBcellDF['sampleID'] = adataPBcell.obs['sampleID']"
   ]
  },
  {
   "cell_type": "code",
   "execution_count": 9,
   "id": "1a597f46-d9c5-403b-b81e-5738ca206682",
   "metadata": {
    "execution": {
     "iopub.execute_input": "2024-06-30T21:02:07.117013Z",
     "iopub.status.busy": "2024-06-30T21:02:07.116746Z",
     "iopub.status.idle": "2024-06-30T21:02:07.119152Z",
     "shell.execute_reply": "2024-06-30T21:02:07.118795Z"
    },
    "papermill": {
     "duration": 0.009245,
     "end_time": "2024-06-30T21:02:07.119945",
     "exception": false,
     "start_time": "2024-06-30T21:02:07.110700",
     "status": "completed"
    },
    "tags": []
   },
   "outputs": [],
   "source": [
    "PBsampleDF = adataPBsample.to_df()\n",
    "PBsampleDF['sampleID'] = adataPBsample.obs['sampleID']"
   ]
  },
  {
   "cell_type": "code",
   "execution_count": 10,
   "id": "bb384751-fe1b-4635-a90d-fd98ae61b173",
   "metadata": {
    "execution": {
     "iopub.execute_input": "2024-06-30T21:02:07.138735Z",
     "iopub.status.busy": "2024-06-30T21:02:07.138347Z",
     "iopub.status.idle": "2024-06-30T21:02:07.146797Z",
     "shell.execute_reply": "2024-06-30T21:02:07.146341Z"
    },
    "papermill": {
     "duration": 0.022016,
     "end_time": "2024-06-30T21:02:07.147609",
     "exception": false,
     "start_time": "2024-06-30T21:02:07.125593",
     "status": "completed"
    },
    "tags": []
   },
   "outputs": [],
   "source": [
    "PBcell_sampleDF = PBcellDF.merge(PBsampleDF, on='sampleID', how='left')"
   ]
  },
  {
   "cell_type": "code",
   "execution_count": 11,
   "id": "f7250713-e24d-4614-9cbd-eed702340640",
   "metadata": {
    "execution": {
     "iopub.execute_input": "2024-06-30T21:02:07.160266Z",
     "iopub.status.busy": "2024-06-30T21:02:07.159782Z",
     "iopub.status.idle": "2024-06-30T21:02:07.162516Z",
     "shell.execute_reply": "2024-06-30T21:02:07.162145Z"
    },
    "papermill": {
     "duration": 0.009357,
     "end_time": "2024-06-30T21:02:07.163297",
     "exception": false,
     "start_time": "2024-06-30T21:02:07.153940",
     "status": "completed"
    },
    "tags": []
   },
   "outputs": [],
   "source": [
    "assert(adataPBcell.obs['sampleID'].tolist() == PBcell_sampleDF['sampleID'].tolist())"
   ]
  },
  {
   "cell_type": "code",
   "execution_count": 12,
   "id": "abea2252-6a12-4b89-9f0d-6d6df90064fb",
   "metadata": {
    "execution": {
     "iopub.execute_input": "2024-06-30T21:02:07.175314Z",
     "iopub.status.busy": "2024-06-30T21:02:07.175035Z",
     "iopub.status.idle": "2024-06-30T21:02:07.178063Z",
     "shell.execute_reply": "2024-06-30T21:02:07.177669Z"
    },
    "papermill": {
     "duration": 0.009815,
     "end_time": "2024-06-30T21:02:07.178870",
     "exception": false,
     "start_time": "2024-06-30T21:02:07.169055",
     "status": "completed"
    },
    "tags": []
   },
   "outputs": [],
   "source": [
    "PBcell_sampleDF.drop('sampleID', axis=1, inplace=True)"
   ]
  },
  {
   "cell_type": "code",
   "execution_count": 13,
   "id": "5502e45d-5c72-4440-a8c1-5b299cac6e2d",
   "metadata": {
    "execution": {
     "iopub.execute_input": "2024-06-30T21:02:07.191072Z",
     "iopub.status.busy": "2024-06-30T21:02:07.190802Z",
     "iopub.status.idle": "2024-06-30T21:02:07.194825Z",
     "shell.execute_reply": "2024-06-30T21:02:07.194466Z"
    },
    "papermill": {
     "duration": 0.01068,
     "end_time": "2024-06-30T21:02:07.195593",
     "exception": false,
     "start_time": "2024-06-30T21:02:07.184913",
     "status": "completed"
    },
    "tags": []
   },
   "outputs": [
    {
     "data": {
      "text/plain": [
       "AnnData object with n_obs × n_vars = 11372 × 130\n",
       "    obs: 'sampleID', 'Level1', 'disease', 'n_observation'"
      ]
     },
     "execution_count": 13,
     "metadata": {},
     "output_type": "execute_result"
    }
   ],
   "source": [
    "adataPBcell_sample = sc.AnnData(X = PBcell_sampleDF, obs = adataPBcell.obs)\n",
    "adataPBcell_sample"
   ]
  },
  {
   "cell_type": "markdown",
   "id": "d59574be-684b-4082-b8b6-7d11930362ad",
   "metadata": {
    "papermill": {
     "duration": 0.005635,
     "end_time": "2024-06-30T21:02:07.214638",
     "exception": false,
     "start_time": "2024-06-30T21:02:07.209003",
     "status": "completed"
    },
    "tags": []
   },
   "source": [
    "### Saving pseudobulk adata objects"
   ]
  },
  {
   "cell_type": "code",
   "execution_count": 14,
   "id": "5947e6f8-ac27-4702-ba5d-aa9e1ba79f6a",
   "metadata": {
    "execution": {
     "iopub.execute_input": "2024-06-30T21:02:07.226353Z",
     "iopub.status.busy": "2024-06-30T21:02:07.225979Z",
     "iopub.status.idle": "2024-06-30T21:02:07.330035Z",
     "shell.execute_reply": "2024-06-30T21:02:07.329587Z"
    },
    "papermill": {
     "duration": 0.111277,
     "end_time": "2024-06-30T21:02:07.331369",
     "exception": false,
     "start_time": "2024-06-30T21:02:07.220092",
     "status": "completed"
    },
    "tags": []
   },
   "outputs": [],
   "source": [
    "adataPBcell.write(here(adataPATHlist[0].replace('/scPoli_','/PSEUDOBULKs/scPoli_PSEUDOBULKcell_')), compression='gzip')"
   ]
  },
  {
   "cell_type": "code",
   "execution_count": 15,
   "id": "e9485945-bccf-419a-9420-c1e4f3aa262d",
   "metadata": {
    "execution": {
     "iopub.execute_input": "2024-06-30T21:02:07.343429Z",
     "iopub.status.busy": "2024-06-30T21:02:07.343119Z",
     "iopub.status.idle": "2024-06-30T21:02:07.373356Z",
     "shell.execute_reply": "2024-06-30T21:02:07.372859Z"
    },
    "papermill": {
     "duration": 0.036995,
     "end_time": "2024-06-30T21:02:07.374127",
     "exception": false,
     "start_time": "2024-06-30T21:02:07.337132",
     "status": "completed"
    },
    "tags": []
   },
   "outputs": [],
   "source": [
    "adataPBsample.write(here(adataPATHlist[0].replace('/scPoli_','/PSEUDOBULKs/scPoli_PSEUDOBULKsample_')), compression='gzip')"
   ]
  },
  {
   "cell_type": "code",
   "execution_count": 16,
   "id": "9c2daa40-3279-4b24-8aad-65ee0ba758c8",
   "metadata": {
    "execution": {
     "iopub.execute_input": "2024-06-30T21:02:07.392275Z",
     "iopub.status.busy": "2024-06-30T21:02:07.391973Z",
     "iopub.status.idle": "2024-06-30T21:02:07.511654Z",
     "shell.execute_reply": "2024-06-30T21:02:07.511245Z"
    },
    "papermill": {
     "duration": 0.126662,
     "end_time": "2024-06-30T21:02:07.512440",
     "exception": false,
     "start_time": "2024-06-30T21:02:07.385778",
     "status": "completed"
    },
    "tags": []
   },
   "outputs": [],
   "source": [
    "adataPBcell_sample.write(here(adataPATHlist[0].replace('/scPoli_','/PSEUDOBULKs/scPoli_PSEUDOBULKcellSample_')), compression='gzip')"
   ]
  },
  {
   "cell_type": "code",
   "execution_count": null,
   "id": "8a70d9f6-7a44-45ee-8470-702bd7af1e0b",
   "metadata": {
    "papermill": {
     "duration": 0.005541,
     "end_time": "2024-06-30T21:02:07.526064",
     "exception": false,
     "start_time": "2024-06-30T21:02:07.520523",
     "status": "completed"
    },
    "tags": []
   },
   "outputs": [],
   "source": []
  }
 ],
 "metadata": {
  "kernelspec": {
   "display_name": "Python 3 (ipykernel)",
   "language": "python",
   "name": "python3"
  },
  "language_info": {
   "codemirror_mode": {
    "name": "ipython",
    "version": 3
   },
   "file_extension": ".py",
   "mimetype": "text/x-python",
   "name": "python",
   "nbconvert_exporter": "python",
   "pygments_lexer": "ipython3",
   "version": "3.12.3"
  },
  "papermill": {
   "default_parameters": {},
   "duration": 13.59544,
   "end_time": "2024-06-30T21:02:08.147452",
   "environment_variables": {},
   "exception": null,
   "input_path": "03_generating_PSEUDOBULKs.ipynb",
   "output_path": "executed_notebooks/03_generating_PSEUDOBULKs_scPoli_ref_latents_VALIDATION_2_30_100_run3_b683xjoz.h5ad.ipynb",
   "parameters": {
    "adataPATH": "03_downstream_analysis/08_PatientClassifier/scPoli/results/scPoli_ref_latents_VALIDATION_2_30_100_run3_b683xjoz.h5ad"
   },
   "start_time": "2024-06-30T21:01:54.552012",
   "version": "2.6.0"
  }
 },
 "nbformat": 4,
 "nbformat_minor": 5
}