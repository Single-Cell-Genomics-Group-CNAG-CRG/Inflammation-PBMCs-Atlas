{
 "cells": [
  {
   "cell_type": "code",
   "execution_count": 1,
   "id": "06737b4f",
   "metadata": {
    "execution": {
     "iopub.execute_input": "2024-06-30T21:01:05.432093Z",
     "iopub.status.busy": "2024-06-30T21:01:05.431771Z",
     "iopub.status.idle": "2024-06-30T21:01:05.434423Z",
     "shell.execute_reply": "2024-06-30T21:01:05.434045Z"
    },
    "papermill": {
     "duration": 0.009821,
     "end_time": "2024-06-30T21:01:05.435257",
     "exception": false,
     "start_time": "2024-06-30T21:01:05.425436",
     "status": "completed"
    },
    "tags": [
     "injected-parameters"
    ]
   },
   "outputs": [],
   "source": [
    "# Parameters\n",
    "adataPATH = \"03_downstream_analysis/08_PatientClassifier/scPoli/results/scPoli_ref_latents_EXTERNAL_2_50_100_run3_tdbh923o.h5ad\"\n"
   ]
  },
  {
   "cell_type": "raw",
   "id": "bf9880bd-3aef-477b-807d-37e3c5603037",
   "metadata": {
    "execution": {
     "iopub.execute_input": "2024-06-29T08:23:25.403219Z",
     "iopub.status.busy": "2024-06-29T08:23:25.402857Z",
     "iopub.status.idle": "2024-06-29T08:23:25.406428Z",
     "shell.execute_reply": "2024-06-29T08:23:25.406014Z",
     "shell.execute_reply.started": "2024-06-29T08:23:25.403185Z"
    },
    "papermill": {
     "duration": 0.004559,
     "end_time": "2024-06-30T21:01:05.444743",
     "exception": false,
     "start_time": "2024-06-30T21:01:05.440184",
     "status": "completed"
    },
    "tags": [],
    "vscode": {
     "languageId": "raw"
    }
   },
   "source": [
    "adataMAINpath = '03_downstream_analysis/08_PatientClassifier/scPoli/results/scPoli_2_100_20_*.h5ad'\n",
    "\n",
    "adataVALpath = '03_downstream_analysis/08_PatientClassifier/scPoli/results/scPoli_VALIDATION_2_20_20*.h5ad'\n",
    "adataEXCpath = '03_downstream_analysis/08_PatientClassifier/scPoli/results/scPoli_EXCLUDED_2_100_20_run1_pd5nyb4g.h5ad'\n",
    "adataEXTpath = '03_downstream_analysis/08_PatientClassifier/scPoli/results/scPoli_EXTERNAL_2_100_20_run1_pd5nyb4g.h5ad'\n",
    "\n",
    "adataPATH = adataVALpath"
   ]
  },
  {
   "cell_type": "code",
   "execution_count": 2,
   "id": "d3ccb10a-7201-43d0-a593-2b4650ff3451",
   "metadata": {
    "execution": {
     "iopub.execute_input": "2024-06-30T21:01:05.454814Z",
     "iopub.status.busy": "2024-06-30T21:01:05.454422Z",
     "iopub.status.idle": "2024-06-30T21:01:05.457393Z",
     "shell.execute_reply": "2024-06-30T21:01:05.457017Z"
    },
    "papermill": {
     "duration": 0.008689,
     "end_time": "2024-06-30T21:01:05.458172",
     "exception": false,
     "start_time": "2024-06-30T21:01:05.449483",
     "status": "completed"
    },
    "tags": []
   },
   "outputs": [
    {
     "name": "stdout",
     "output_type": "stream",
     "text": [
      "adataPATH = 03_downstream_analysis/08_PatientClassifier/scPoli/results/scPoli_ref_latents_EXTERNAL_2_50_100_run3_tdbh923o.h5ad\n"
     ]
    }
   ],
   "source": [
    "for v in ['adataPATH']:\n",
    "    if v in locals() or v in globals():\n",
    "        print(f\"{v} = {eval(v)}\")\n",
    "    else:\n",
    "        raise Exception(f\"{v} not specified\")"
   ]
  },
  {
   "cell_type": "code",
   "execution_count": 3,
   "id": "888fb5f4-9ab7-4196-a282-7a7e92a43971",
   "metadata": {
    "execution": {
     "iopub.execute_input": "2024-06-30T21:01:05.467978Z",
     "iopub.status.busy": "2024-06-30T21:01:05.467673Z",
     "iopub.status.idle": "2024-06-30T21:01:06.829906Z",
     "shell.execute_reply": "2024-06-30T21:01:06.829399Z"
    },
    "papermill": {
     "duration": 1.368407,
     "end_time": "2024-06-30T21:01:06.831160",
     "exception": false,
     "start_time": "2024-06-30T21:01:05.462753",
     "status": "completed"
    },
    "tags": []
   },
   "outputs": [],
   "source": [
    "import os\n",
    "import sys\n",
    "from glob import glob\n",
    "\n",
    "import scanpy as sc\n",
    "import pandas as pd\n",
    "\n",
    "from pyprojroot import here\n",
    "\n",
    "sys.path.insert(1, str(here('bin')))\n",
    "# Import custom functions\n",
    "from customPythonFunctions import aggregating_features"
   ]
  },
  {
   "cell_type": "markdown",
   "id": "ba4905ae-4546-4ef4-b57b-950441ab079d",
   "metadata": {
    "papermill": {
     "duration": 0.004519,
     "end_time": "2024-06-30T21:01:06.841131",
     "exception": false,
     "start_time": "2024-06-30T21:01:06.836612",
     "status": "completed"
    },
    "tags": []
   },
   "source": [
    "### Loading data"
   ]
  },
  {
   "cell_type": "code",
   "execution_count": 4,
   "id": "539cbbbb-3503-4f51-bf04-f007f928ebd1",
   "metadata": {
    "execution": {
     "iopub.execute_input": "2024-06-30T21:01:06.851218Z",
     "iopub.status.busy": "2024-06-30T21:01:06.850914Z",
     "iopub.status.idle": "2024-06-30T21:01:06.854553Z",
     "shell.execute_reply": "2024-06-30T21:01:06.854175Z"
    },
    "papermill": {
     "duration": 0.00957,
     "end_time": "2024-06-30T21:01:06.855353",
     "exception": false,
     "start_time": "2024-06-30T21:01:06.845783",
     "status": "completed"
    },
    "tags": []
   },
   "outputs": [],
   "source": [
    "adataPATHlist = glob(str(here(adataPATH)))\n",
    "assert(len(adataPATHlist) == 1)"
   ]
  },
  {
   "cell_type": "code",
   "execution_count": 5,
   "id": "0fcfce0a-896b-4dc0-8e5e-46749205c84f",
   "metadata": {
    "execution": {
     "iopub.execute_input": "2024-06-30T21:01:06.865193Z",
     "iopub.status.busy": "2024-06-30T21:01:06.864980Z",
     "iopub.status.idle": "2024-06-30T21:01:17.127641Z",
     "shell.execute_reply": "2024-06-30T21:01:17.127186Z"
    },
    "papermill": {
     "duration": 10.268627,
     "end_time": "2024-06-30T21:01:17.128531",
     "exception": false,
     "start_time": "2024-06-30T21:01:06.859904",
     "status": "completed"
    },
    "tags": []
   },
   "outputs": [
    {
     "data": {
      "text/plain": [
       "AnnData object with n_obs × n_vars = 4435922 × 50\n",
       "    obs: 'studyID', 'libraryID', 'sampleID', 'chemistry', 'disease', 'sex', 'binned_age', 'Level1', 'Level2'\n",
       "    uns: 'chemistry', 'sampleID'"
      ]
     },
     "execution_count": 5,
     "metadata": {},
     "output_type": "execute_result"
    }
   ],
   "source": [
    "adata = sc.read_h5ad(adataPATHlist[0])\n",
    "adata"
   ]
  },
  {
   "cell_type": "markdown",
   "id": "44e868b3-0771-4225-bd79-a4b179bc672b",
   "metadata": {
    "papermill": {
     "duration": 0.004597,
     "end_time": "2024-06-30T21:01:17.139635",
     "exception": false,
     "start_time": "2024-06-30T21:01:17.135038",
     "status": "completed"
    },
    "tags": []
   },
   "source": [
    "#### Generating PSEUDOBULKs"
   ]
  },
  {
   "cell_type": "markdown",
   "id": "97d09fc5-d05c-471e-87fa-fe58ccbe47ac",
   "metadata": {
    "papermill": {
     "duration": 0.00454,
     "end_time": "2024-06-30T21:01:17.149214",
     "exception": false,
     "start_time": "2024-06-30T21:01:17.144674",
     "status": "completed"
    },
    "tags": []
   },
   "source": [
    "**Aggregating cell latent features**"
   ]
  },
  {
   "cell_type": "code",
   "execution_count": 6,
   "id": "81223976-fcf6-4354-8964-b12d76468636",
   "metadata": {
    "execution": {
     "iopub.execute_input": "2024-06-30T21:01:17.159364Z",
     "iopub.status.busy": "2024-06-30T21:01:17.158948Z",
     "iopub.status.idle": "2024-06-30T21:01:19.175643Z",
     "shell.execute_reply": "2024-06-30T21:01:19.175179Z"
    },
    "papermill": {
     "duration": 2.022788,
     "end_time": "2024-06-30T21:01:19.176513",
     "exception": false,
     "start_time": "2024-06-30T21:01:17.153725",
     "status": "completed"
    },
    "tags": []
   },
   "outputs": [
    {
     "data": {
      "text/plain": [
       "AnnData object with n_obs × n_vars = 11372 × 50\n",
       "    obs: 'sampleID', 'Level1', 'disease', 'n_observation'"
      ]
     },
     "execution_count": 6,
     "metadata": {},
     "output_type": "execute_result"
    }
   ],
   "source": [
    "adataPBcell = aggregating_features(Z = adata.X, \n",
    "                             obsDF = adata.obs[['sampleID','Level1','disease']], \n",
    "                             mode = 'mean', \n",
    "                             obs_names_col=['sampleID','Level1'], \n",
    "                             min_observation=0)\n",
    "adataPBcell"
   ]
  },
  {
   "cell_type": "code",
   "execution_count": null,
   "id": "8495038e-aebd-4003-bd94-c1e49f47249e",
   "metadata": {
    "papermill": {
     "duration": 0.004966,
     "end_time": "2024-06-30T21:01:19.186807",
     "exception": false,
     "start_time": "2024-06-30T21:01:19.181841",
     "status": "completed"
    },
    "tags": []
   },
   "outputs": [],
   "source": []
  },
  {
   "cell_type": "markdown",
   "id": "6d602bad-4793-4aa4-b3d7-d118d413a0fc",
   "metadata": {
    "papermill": {
     "duration": 0.012649,
     "end_time": "2024-06-30T21:01:19.204725",
     "exception": false,
     "start_time": "2024-06-30T21:01:19.192076",
     "status": "completed"
    },
    "tags": []
   },
   "source": [
    "**Extracting sample embedding**"
   ]
  },
  {
   "cell_type": "code",
   "execution_count": 7,
   "id": "e2c14f02",
   "metadata": {
    "execution": {
     "iopub.execute_input": "2024-06-30T21:01:19.215858Z",
     "iopub.status.busy": "2024-06-30T21:01:19.215662Z",
     "iopub.status.idle": "2024-06-30T21:01:19.225660Z",
     "shell.execute_reply": "2024-06-30T21:01:19.225259Z"
    },
    "papermill": {
     "duration": 0.0167,
     "end_time": "2024-06-30T21:01:19.226491",
     "exception": false,
     "start_time": "2024-06-30T21:01:19.209791",
     "status": "completed"
    },
    "tags": []
   },
   "outputs": [
    {
     "data": {
      "text/plain": [
       "AnnData object with n_obs × n_vars = 817 × 100\n",
       "    obs: 'sampleID', 'disease', 'Level1'"
      ]
     },
     "execution_count": 7,
     "metadata": {},
     "output_type": "execute_result"
    }
   ],
   "source": [
    "adataPBsample = adata.uns['sampleID'].copy()\n",
    "adataPBsample.obs['sampleID'] = adataPBsample.obs.index\n",
    "adataPBsample = adataPBsample[adataPBsample.obs['sampleID'].isin(adataPBcell.obs['sampleID'])]\n",
    "\n",
    "adataPBsample.obs = adataPBsample.obs.merge(adataPBcell.obs.groupby('sampleID').agg({'disease':'first'}), left_index=True, right_index=True)\n",
    "adataPBsample.obs['Level1'] = 'sample'\n",
    "adataPBsample"
   ]
  },
  {
   "cell_type": "markdown",
   "id": "2d4fe137-7d68-4e86-a85c-3c1a3d3c4c71",
   "metadata": {
    "papermill": {
     "duration": 0.004817,
     "end_time": "2024-06-30T21:01:19.236407",
     "exception": false,
     "start_time": "2024-06-30T21:01:19.231590",
     "status": "completed"
    },
    "tags": []
   },
   "source": [
    "**Merging cell and patient latent features**"
   ]
  },
  {
   "cell_type": "code",
   "execution_count": 8,
   "id": "a326d2b1",
   "metadata": {
    "execution": {
     "iopub.execute_input": "2024-06-30T21:01:19.247266Z",
     "iopub.status.busy": "2024-06-30T21:01:19.247035Z",
     "iopub.status.idle": "2024-06-30T21:01:19.249549Z",
     "shell.execute_reply": "2024-06-30T21:01:19.249167Z"
    },
    "papermill": {
     "duration": 0.00912,
     "end_time": "2024-06-30T21:01:19.250315",
     "exception": false,
     "start_time": "2024-06-30T21:01:19.241195",
     "status": "completed"
    },
    "tags": []
   },
   "outputs": [],
   "source": [
    "PBcellDF = adataPBcell.to_df()\n",
    "PBcellDF['sampleID'] = adataPBcell.obs['sampleID']"
   ]
  },
  {
   "cell_type": "code",
   "execution_count": 9,
   "id": "1a597f46-d9c5-403b-b81e-5738ca206682",
   "metadata": {
    "execution": {
     "iopub.execute_input": "2024-06-30T21:01:19.262000Z",
     "iopub.status.busy": "2024-06-30T21:01:19.261587Z",
     "iopub.status.idle": "2024-06-30T21:01:19.264342Z",
     "shell.execute_reply": "2024-06-30T21:01:19.263972Z"
    },
    "papermill": {
     "duration": 0.009536,
     "end_time": "2024-06-30T21:01:19.265102",
     "exception": false,
     "start_time": "2024-06-30T21:01:19.255566",
     "status": "completed"
    },
    "tags": []
   },
   "outputs": [],
   "source": [
    "PBsampleDF = adataPBsample.to_df()\n",
    "PBsampleDF['sampleID'] = adataPBsample.obs['sampleID']"
   ]
  },
  {
   "cell_type": "code",
   "execution_count": 10,
   "id": "bb384751-fe1b-4635-a90d-fd98ae61b173",
   "metadata": {
    "execution": {
     "iopub.execute_input": "2024-06-30T21:01:19.276144Z",
     "iopub.status.busy": "2024-06-30T21:01:19.275851Z",
     "iopub.status.idle": "2024-06-30T21:01:19.284993Z",
     "shell.execute_reply": "2024-06-30T21:01:19.284511Z"
    },
    "papermill": {
     "duration": 0.015414,
     "end_time": "2024-06-30T21:01:19.285785",
     "exception": false,
     "start_time": "2024-06-30T21:01:19.270371",
     "status": "completed"
    },
    "tags": []
   },
   "outputs": [],
   "source": [
    "PBcell_sampleDF = PBcellDF.merge(PBsampleDF, on='sampleID', how='left')"
   ]
  },
  {
   "cell_type": "code",
   "execution_count": 11,
   "id": "f7250713-e24d-4614-9cbd-eed702340640",
   "metadata": {
    "execution": {
     "iopub.execute_input": "2024-06-30T21:01:19.296633Z",
     "iopub.status.busy": "2024-06-30T21:01:19.296428Z",
     "iopub.status.idle": "2024-06-30T21:01:19.299150Z",
     "shell.execute_reply": "2024-06-30T21:01:19.298771Z"
    },
    "papermill": {
     "duration": 0.008931,
     "end_time": "2024-06-30T21:01:19.299937",
     "exception": false,
     "start_time": "2024-06-30T21:01:19.291006",
     "status": "completed"
    },
    "tags": []
   },
   "outputs": [],
   "source": [
    "assert(adataPBcell.obs['sampleID'].tolist() == PBcell_sampleDF['sampleID'].tolist())"
   ]
  },
  {
   "cell_type": "code",
   "execution_count": 12,
   "id": "abea2252-6a12-4b89-9f0d-6d6df90064fb",
   "metadata": {
    "execution": {
     "iopub.execute_input": "2024-06-30T21:01:19.310844Z",
     "iopub.status.busy": "2024-06-30T21:01:19.310644Z",
     "iopub.status.idle": "2024-06-30T21:01:19.313910Z",
     "shell.execute_reply": "2024-06-30T21:01:19.313476Z"
    },
    "papermill": {
     "duration": 0.009831,
     "end_time": "2024-06-30T21:01:19.314733",
     "exception": false,
     "start_time": "2024-06-30T21:01:19.304902",
     "status": "completed"
    },
    "tags": []
   },
   "outputs": [],
   "source": [
    "PBcell_sampleDF.drop('sampleID', axis=1, inplace=True)"
   ]
  },
  {
   "cell_type": "code",
   "execution_count": 13,
   "id": "5502e45d-5c72-4440-a8c1-5b299cac6e2d",
   "metadata": {
    "execution": {
     "iopub.execute_input": "2024-06-30T21:01:19.325303Z",
     "iopub.status.busy": "2024-06-30T21:01:19.325120Z",
     "iopub.status.idle": "2024-06-30T21:01:19.329371Z",
     "shell.execute_reply": "2024-06-30T21:01:19.328994Z"
    },
    "papermill": {
     "duration": 0.010445,
     "end_time": "2024-06-30T21:01:19.330144",
     "exception": false,
     "start_time": "2024-06-30T21:01:19.319699",
     "status": "completed"
    },
    "tags": []
   },
   "outputs": [
    {
     "data": {
      "text/plain": [
       "AnnData object with n_obs × n_vars = 11372 × 150\n",
       "    obs: 'sampleID', 'Level1', 'disease', 'n_observation'"
      ]
     },
     "execution_count": 13,
     "metadata": {},
     "output_type": "execute_result"
    }
   ],
   "source": [
    "adataPBcell_sample = sc.AnnData(X = PBcell_sampleDF, obs = adataPBcell.obs)\n",
    "adataPBcell_sample"
   ]
  },
  {
   "cell_type": "markdown",
   "id": "d59574be-684b-4082-b8b6-7d11930362ad",
   "metadata": {
    "papermill": {
     "duration": 0.005715,
     "end_time": "2024-06-30T21:01:19.341038",
     "exception": false,
     "start_time": "2024-06-30T21:01:19.335323",
     "status": "completed"
    },
    "tags": []
   },
   "source": [
    "### Saving pseudobulk adata objects"
   ]
  },
  {
   "cell_type": "code",
   "execution_count": 14,
   "id": "5947e6f8-ac27-4702-ba5d-aa9e1ba79f6a",
   "metadata": {
    "execution": {
     "iopub.execute_input": "2024-06-30T21:01:19.354022Z",
     "iopub.status.busy": "2024-06-30T21:01:19.353688Z",
     "iopub.status.idle": "2024-06-30T21:01:19.469176Z",
     "shell.execute_reply": "2024-06-30T21:01:19.468653Z"
    },
    "papermill": {
     "duration": 0.122626,
     "end_time": "2024-06-30T21:01:19.469986",
     "exception": false,
     "start_time": "2024-06-30T21:01:19.347360",
     "status": "completed"
    },
    "tags": []
   },
   "outputs": [],
   "source": [
    "adataPBcell.write(here(adataPATHlist[0].replace('/scPoli_','/PSEUDOBULKs/scPoli_PSEUDOBULKcell_')), compression='gzip')"
   ]
  },
  {
   "cell_type": "code",
   "execution_count": 15,
   "id": "e9485945-bccf-419a-9420-c1e4f3aa262d",
   "metadata": {
    "execution": {
     "iopub.execute_input": "2024-06-30T21:01:19.481534Z",
     "iopub.status.busy": "2024-06-30T21:01:19.481254Z",
     "iopub.status.idle": "2024-06-30T21:01:19.513076Z",
     "shell.execute_reply": "2024-06-30T21:01:19.512592Z"
    },
    "papermill": {
     "duration": 0.038539,
     "end_time": "2024-06-30T21:01:19.513917",
     "exception": false,
     "start_time": "2024-06-30T21:01:19.475378",
     "status": "completed"
    },
    "tags": []
   },
   "outputs": [],
   "source": [
    "adataPBsample.write(here(adataPATHlist[0].replace('/scPoli_','/PSEUDOBULKs/scPoli_PSEUDOBULKsample_')), compression='gzip')"
   ]
  },
  {
   "cell_type": "code",
   "execution_count": 16,
   "id": "9c2daa40-3279-4b24-8aad-65ee0ba758c8",
   "metadata": {
    "execution": {
     "iopub.execute_input": "2024-06-30T21:01:19.525329Z",
     "iopub.status.busy": "2024-06-30T21:01:19.524984Z",
     "iopub.status.idle": "2024-06-30T21:01:19.675146Z",
     "shell.execute_reply": "2024-06-30T21:01:19.674652Z"
    },
    "papermill": {
     "duration": 0.157096,
     "end_time": "2024-06-30T21:01:19.676373",
     "exception": false,
     "start_time": "2024-06-30T21:01:19.519277",
     "status": "completed"
    },
    "tags": []
   },
   "outputs": [],
   "source": [
    "adataPBcell_sample.write(here(adataPATHlist[0].replace('/scPoli_','/PSEUDOBULKs/scPoli_PSEUDOBULKcellSample_')), compression='gzip')"
   ]
  },
  {
   "cell_type": "code",
   "execution_count": null,
   "id": "8a70d9f6-7a44-45ee-8470-702bd7af1e0b",
   "metadata": {
    "papermill": {
     "duration": 0.005055,
     "end_time": "2024-06-30T21:01:19.686934",
     "exception": false,
     "start_time": "2024-06-30T21:01:19.681879",
     "status": "completed"
    },
    "tags": []
   },
   "outputs": [],
   "source": []
  }
 ],
 "metadata": {
  "kernelspec": {
   "display_name": "Python 3 (ipykernel)",
   "language": "python",
   "name": "python3"
  },
  "language_info": {
   "codemirror_mode": {
    "name": "ipython",
    "version": 3
   },
   "file_extension": ".py",
   "mimetype": "text/x-python",
   "name": "python",
   "nbconvert_exporter": "python",
   "pygments_lexer": "ipython3",
   "version": "3.12.3"
  },
  "papermill": {
   "default_parameters": {},
   "duration": 16.063787,
   "end_time": "2024-06-30T21:01:20.308097",
   "environment_variables": {},
   "exception": null,
   "input_path": "03_generating_PSEUDOBULKs.ipynb",
   "output_path": "executed_notebooks/03_generating_PSEUDOBULKs_scPoli_ref_latents_EXTERNAL_2_50_100_run3_tdbh923o.h5ad.ipynb",
   "parameters": {
    "adataPATH": "03_downstream_analysis/08_PatientClassifier/scPoli/results/scPoli_ref_latents_EXTERNAL_2_50_100_run3_tdbh923o.h5ad"
   },
   "start_time": "2024-06-30T21:01:04.244310",
   "version": "2.6.0"
  }
 },
 "nbformat": 4,
 "nbformat_minor": 5
}