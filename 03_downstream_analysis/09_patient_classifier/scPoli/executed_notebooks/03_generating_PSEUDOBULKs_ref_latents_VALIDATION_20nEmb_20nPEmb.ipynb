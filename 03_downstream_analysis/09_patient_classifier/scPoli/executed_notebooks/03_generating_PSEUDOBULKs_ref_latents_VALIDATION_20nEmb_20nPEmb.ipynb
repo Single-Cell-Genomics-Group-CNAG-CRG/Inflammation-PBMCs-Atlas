{
 "cells": [
  {
   "cell_type": "code",
   "execution_count": 1,
   "id": "7d9445fa",
   "metadata": {
    "execution": {
     "iopub.execute_input": "2024-06-30T20:55:58.817713Z",
     "iopub.status.busy": "2024-06-30T20:55:58.817566Z",
     "iopub.status.idle": "2024-06-30T20:55:58.820071Z",
     "shell.execute_reply": "2024-06-30T20:55:58.819706Z"
    },
    "papermill": {
     "duration": 0.011473,
     "end_time": "2024-06-30T20:55:58.820914",
     "exception": false,
     "start_time": "2024-06-30T20:55:58.809441",
     "status": "completed"
    },
    "tags": [
     "injected-parameters"
    ]
   },
   "outputs": [],
   "source": [
    "# Parameters\n",
    "adataPATH = \"03_downstream_analysis/08_PatientClassifier/scPoli/results/scPoli_ref_latents_VALIDATION_2_20_20_*.h5ad\"\n"
   ]
  },
  {
   "cell_type": "raw",
   "id": "bf9880bd-3aef-477b-807d-37e3c5603037",
   "metadata": {
    "execution": {
     "iopub.execute_input": "2024-06-29T08:23:25.403219Z",
     "iopub.status.busy": "2024-06-29T08:23:25.402857Z",
     "iopub.status.idle": "2024-06-29T08:23:25.406428Z",
     "shell.execute_reply": "2024-06-29T08:23:25.406014Z",
     "shell.execute_reply.started": "2024-06-29T08:23:25.403185Z"
    },
    "papermill": {
     "duration": 0.005721,
     "end_time": "2024-06-30T20:55:58.832466",
     "exception": false,
     "start_time": "2024-06-30T20:55:58.826745",
     "status": "completed"
    },
    "tags": [],
    "vscode": {
     "languageId": "raw"
    }
   },
   "source": [
    "adataMAINpath = '03_downstream_analysis/08_PatientClassifier/scPoli/results/scPoli_2_100_20_*.h5ad'\n",
    "\n",
    "adataVALpath = '03_downstream_analysis/08_PatientClassifier/scPoli/results/scPoli_VALIDATION_2_20_20*.h5ad'\n",
    "adataEXCpath = '03_downstream_analysis/08_PatientClassifier/scPoli/results/scPoli_EXCLUDED_2_100_20_run1_pd5nyb4g.h5ad'\n",
    "adataEXTpath = '03_downstream_analysis/08_PatientClassifier/scPoli/results/scPoli_EXTERNAL_2_100_20_run1_pd5nyb4g.h5ad'\n",
    "\n",
    "adataPATH = adataVALpath"
   ]
  },
  {
   "cell_type": "code",
   "execution_count": 2,
   "id": "d3ccb10a-7201-43d0-a593-2b4650ff3451",
   "metadata": {
    "execution": {
     "iopub.execute_input": "2024-06-30T20:55:58.843797Z",
     "iopub.status.busy": "2024-06-30T20:55:58.843657Z",
     "iopub.status.idle": "2024-06-30T20:55:58.846610Z",
     "shell.execute_reply": "2024-06-30T20:55:58.846206Z"
    },
    "papermill": {
     "duration": 0.009357,
     "end_time": "2024-06-30T20:55:58.847405",
     "exception": false,
     "start_time": "2024-06-30T20:55:58.838048",
     "status": "completed"
    },
    "tags": []
   },
   "outputs": [
    {
     "name": "stdout",
     "output_type": "stream",
     "text": [
      "adataPATH = 03_downstream_analysis/08_PatientClassifier/scPoli/results/scPoli_ref_latents_VALIDATION_2_20_20_*.h5ad\n"
     ]
    }
   ],
   "source": [
    "for v in ['adataPATH']:\n",
    "    if v in locals() or v in globals():\n",
    "        print(f\"{v} = {eval(v)}\")\n",
    "    else:\n",
    "        raise Exception(f\"{v} not specified\")"
   ]
  },
  {
   "cell_type": "code",
   "execution_count": 3,
   "id": "888fb5f4-9ab7-4196-a282-7a7e92a43971",
   "metadata": {
    "execution": {
     "iopub.execute_input": "2024-06-30T20:55:58.860121Z",
     "iopub.status.busy": "2024-06-30T20:55:58.859988Z",
     "iopub.status.idle": "2024-06-30T20:56:00.308861Z",
     "shell.execute_reply": "2024-06-30T20:56:00.308366Z"
    },
    "papermill": {
     "duration": 1.456729,
     "end_time": "2024-06-30T20:56:00.309728",
     "exception": false,
     "start_time": "2024-06-30T20:55:58.852999",
     "status": "completed"
    },
    "tags": []
   },
   "outputs": [],
   "source": [
    "import os\n",
    "import sys\n",
    "from glob import glob\n",
    "\n",
    "import scanpy as sc\n",
    "import pandas as pd\n",
    "\n",
    "from pyprojroot import here\n",
    "\n",
    "sys.path.insert(1, str(here('bin')))\n",
    "# Import custom functions\n",
    "from customPythonFunctions import aggregating_features"
   ]
  },
  {
   "cell_type": "markdown",
   "id": "ba4905ae-4546-4ef4-b57b-950441ab079d",
   "metadata": {
    "papermill": {
     "duration": 0.005622,
     "end_time": "2024-06-30T20:56:00.322262",
     "exception": false,
     "start_time": "2024-06-30T20:56:00.316640",
     "status": "completed"
    },
    "tags": []
   },
   "source": [
    "### Loading data"
   ]
  },
  {
   "cell_type": "code",
   "execution_count": 4,
   "id": "539cbbbb-3503-4f51-bf04-f007f928ebd1",
   "metadata": {
    "execution": {
     "iopub.execute_input": "2024-06-30T20:56:00.334701Z",
     "iopub.status.busy": "2024-06-30T20:56:00.334405Z",
     "iopub.status.idle": "2024-06-30T20:56:00.345094Z",
     "shell.execute_reply": "2024-06-30T20:56:00.344728Z"
    },
    "papermill": {
     "duration": 0.01739,
     "end_time": "2024-06-30T20:56:00.345861",
     "exception": false,
     "start_time": "2024-06-30T20:56:00.328471",
     "status": "completed"
    },
    "tags": []
   },
   "outputs": [],
   "source": [
    "adataPATHlist = glob(str(here(adataPATH)))\n",
    "assert(len(adataPATHlist) == 1)"
   ]
  },
  {
   "cell_type": "code",
   "execution_count": 5,
   "id": "0fcfce0a-896b-4dc0-8e5e-46749205c84f",
   "metadata": {
    "execution": {
     "iopub.execute_input": "2024-06-30T20:56:00.359199Z",
     "iopub.status.busy": "2024-06-30T20:56:00.358840Z",
     "iopub.status.idle": "2024-06-30T20:56:07.422807Z",
     "shell.execute_reply": "2024-06-30T20:56:07.422373Z"
    },
    "papermill": {
     "duration": 7.072647,
     "end_time": "2024-06-30T20:56:07.423696",
     "exception": false,
     "start_time": "2024-06-30T20:56:00.351049",
     "status": "completed"
    },
    "tags": []
   },
   "outputs": [
    {
     "data": {
      "text/plain": [
       "AnnData object with n_obs × n_vars = 4435922 × 20\n",
       "    obs: 'studyID', 'libraryID', 'sampleID', 'chemistry', 'disease', 'sex', 'binned_age', 'Level1', 'Level2'\n",
       "    uns: 'chemistry', 'sampleID'"
      ]
     },
     "execution_count": 5,
     "metadata": {},
     "output_type": "execute_result"
    }
   ],
   "source": [
    "adata = sc.read_h5ad(adataPATHlist[0])\n",
    "adata"
   ]
  },
  {
   "cell_type": "markdown",
   "id": "44e868b3-0771-4225-bd79-a4b179bc672b",
   "metadata": {
    "papermill": {
     "duration": 0.005164,
     "end_time": "2024-06-30T20:56:07.435081",
     "exception": false,
     "start_time": "2024-06-30T20:56:07.429917",
     "status": "completed"
    },
    "tags": []
   },
   "source": [
    "#### Generating PSEUDOBULKs"
   ]
  },
  {
   "cell_type": "markdown",
   "id": "97d09fc5-d05c-471e-87fa-fe58ccbe47ac",
   "metadata": {
    "papermill": {
     "duration": 0.006032,
     "end_time": "2024-06-30T20:56:07.447176",
     "exception": false,
     "start_time": "2024-06-30T20:56:07.441144",
     "status": "completed"
    },
    "tags": []
   },
   "source": [
    "**Aggregating cell latent features**"
   ]
  },
  {
   "cell_type": "code",
   "execution_count": 6,
   "id": "81223976-fcf6-4354-8964-b12d76468636",
   "metadata": {
    "execution": {
     "iopub.execute_input": "2024-06-30T20:56:07.459083Z",
     "iopub.status.busy": "2024-06-30T20:56:07.458751Z",
     "iopub.status.idle": "2024-06-30T20:56:09.142650Z",
     "shell.execute_reply": "2024-06-30T20:56:09.142196Z"
    },
    "papermill": {
     "duration": 1.690543,
     "end_time": "2024-06-30T20:56:09.143483",
     "exception": false,
     "start_time": "2024-06-30T20:56:07.452940",
     "status": "completed"
    },
    "tags": []
   },
   "outputs": [
    {
     "data": {
      "text/plain": [
       "AnnData object with n_obs × n_vars = 11372 × 20\n",
       "    obs: 'sampleID', 'Level1', 'disease', 'n_observation'"
      ]
     },
     "execution_count": 6,
     "metadata": {},
     "output_type": "execute_result"
    }
   ],
   "source": [
    "adataPBcell = aggregating_features(Z = adata.X, \n",
    "                             obsDF = adata.obs[['sampleID','Level1','disease']], \n",
    "                             mode = 'mean', \n",
    "                             obs_names_col=['sampleID','Level1'], \n",
    "                             min_observation=0)\n",
    "adataPBcell"
   ]
  },
  {
   "cell_type": "code",
   "execution_count": null,
   "id": "8495038e-aebd-4003-bd94-c1e49f47249e",
   "metadata": {
    "papermill": {
     "duration": 0.005273,
     "end_time": "2024-06-30T20:56:09.155153",
     "exception": false,
     "start_time": "2024-06-30T20:56:09.149880",
     "status": "completed"
    },
    "tags": []
   },
   "outputs": [],
   "source": []
  },
  {
   "cell_type": "markdown",
   "id": "6d602bad-4793-4aa4-b3d7-d118d413a0fc",
   "metadata": {
    "papermill": {
     "duration": 0.005237,
     "end_time": "2024-06-30T20:56:09.166416",
     "exception": false,
     "start_time": "2024-06-30T20:56:09.161179",
     "status": "completed"
    },
    "tags": []
   },
   "source": [
    "**Extracting sample embedding**"
   ]
  },
  {
   "cell_type": "code",
   "execution_count": 7,
   "id": "e2c14f02",
   "metadata": {
    "execution": {
     "iopub.execute_input": "2024-06-30T20:56:09.183011Z",
     "iopub.status.busy": "2024-06-30T20:56:09.182654Z",
     "iopub.status.idle": "2024-06-30T20:56:09.192462Z",
     "shell.execute_reply": "2024-06-30T20:56:09.192065Z"
    },
    "papermill": {
     "duration": 0.016818,
     "end_time": "2024-06-30T20:56:09.193281",
     "exception": false,
     "start_time": "2024-06-30T20:56:09.176463",
     "status": "completed"
    },
    "tags": []
   },
   "outputs": [
    {
     "data": {
      "text/plain": [
       "AnnData object with n_obs × n_vars = 817 × 20\n",
       "    obs: 'sampleID', 'disease', 'Level1'"
      ]
     },
     "execution_count": 7,
     "metadata": {},
     "output_type": "execute_result"
    }
   ],
   "source": [
    "adataPBsample = adata.uns['sampleID'].copy()\n",
    "adataPBsample.obs['sampleID'] = adataPBsample.obs.index\n",
    "adataPBsample = adataPBsample[adataPBsample.obs['sampleID'].isin(adataPBcell.obs['sampleID'])]\n",
    "\n",
    "adataPBsample.obs = adataPBsample.obs.merge(adataPBcell.obs.groupby('sampleID').agg({'disease':'first'}), left_index=True, right_index=True)\n",
    "adataPBsample.obs['Level1'] = 'sample'\n",
    "adataPBsample"
   ]
  },
  {
   "cell_type": "markdown",
   "id": "2d4fe137-7d68-4e86-a85c-3c1a3d3c4c71",
   "metadata": {
    "papermill": {
     "duration": 0.005813,
     "end_time": "2024-06-30T20:56:09.204726",
     "exception": false,
     "start_time": "2024-06-30T20:56:09.198913",
     "status": "completed"
    },
    "tags": []
   },
   "source": [
    "**Merging cell and patient latent features**"
   ]
  },
  {
   "cell_type": "code",
   "execution_count": 8,
   "id": "a326d2b1",
   "metadata": {
    "execution": {
     "iopub.execute_input": "2024-06-30T20:56:09.216761Z",
     "iopub.status.busy": "2024-06-30T20:56:09.216380Z",
     "iopub.status.idle": "2024-06-30T20:56:09.218885Z",
     "shell.execute_reply": "2024-06-30T20:56:09.218491Z"
    },
    "papermill": {
     "duration": 0.009106,
     "end_time": "2024-06-30T20:56:09.219637",
     "exception": false,
     "start_time": "2024-06-30T20:56:09.210531",
     "status": "completed"
    },
    "tags": []
   },
   "outputs": [],
   "source": [
    "PBcellDF = adataPBcell.to_df()\n",
    "PBcellDF['sampleID'] = adataPBcell.obs['sampleID']"
   ]
  },
  {
   "cell_type": "code",
   "execution_count": 9,
   "id": "1a597f46-d9c5-403b-b81e-5738ca206682",
   "metadata": {
    "execution": {
     "iopub.execute_input": "2024-06-30T20:56:09.231842Z",
     "iopub.status.busy": "2024-06-30T20:56:09.231509Z",
     "iopub.status.idle": "2024-06-30T20:56:09.233950Z",
     "shell.execute_reply": "2024-06-30T20:56:09.233592Z"
    },
    "papermill": {
     "duration": 0.009514,
     "end_time": "2024-06-30T20:56:09.234698",
     "exception": false,
     "start_time": "2024-06-30T20:56:09.225184",
     "status": "completed"
    },
    "tags": []
   },
   "outputs": [],
   "source": [
    "PBsampleDF = adataPBsample.to_df()\n",
    "PBsampleDF['sampleID'] = adataPBsample.obs['sampleID']"
   ]
  },
  {
   "cell_type": "code",
   "execution_count": 10,
   "id": "bb384751-fe1b-4635-a90d-fd98ae61b173",
   "metadata": {
    "execution": {
     "iopub.execute_input": "2024-06-30T20:56:09.246304Z",
     "iopub.status.busy": "2024-06-30T20:56:09.245888Z",
     "iopub.status.idle": "2024-06-30T20:56:09.251663Z",
     "shell.execute_reply": "2024-06-30T20:56:09.251290Z"
    },
    "papermill": {
     "duration": 0.012252,
     "end_time": "2024-06-30T20:56:09.252415",
     "exception": false,
     "start_time": "2024-06-30T20:56:09.240163",
     "status": "completed"
    },
    "tags": []
   },
   "outputs": [],
   "source": [
    "PBcell_sampleDF = PBcellDF.merge(PBsampleDF, on='sampleID', how='left')"
   ]
  },
  {
   "cell_type": "code",
   "execution_count": 11,
   "id": "f7250713-e24d-4614-9cbd-eed702340640",
   "metadata": {
    "execution": {
     "iopub.execute_input": "2024-06-30T20:56:09.264335Z",
     "iopub.status.busy": "2024-06-30T20:56:09.263976Z",
     "iopub.status.idle": "2024-06-30T20:56:09.266393Z",
     "shell.execute_reply": "2024-06-30T20:56:09.266035Z"
    },
    "papermill": {
     "duration": 0.009422,
     "end_time": "2024-06-30T20:56:09.267132",
     "exception": false,
     "start_time": "2024-06-30T20:56:09.257710",
     "status": "completed"
    },
    "tags": []
   },
   "outputs": [],
   "source": [
    "assert(adataPBcell.obs['sampleID'].tolist() == PBcell_sampleDF['sampleID'].tolist())"
   ]
  },
  {
   "cell_type": "code",
   "execution_count": 12,
   "id": "abea2252-6a12-4b89-9f0d-6d6df90064fb",
   "metadata": {
    "execution": {
     "iopub.execute_input": "2024-06-30T20:56:09.279334Z",
     "iopub.status.busy": "2024-06-30T20:56:09.278893Z",
     "iopub.status.idle": "2024-06-30T20:56:09.281673Z",
     "shell.execute_reply": "2024-06-30T20:56:09.281322Z"
    },
    "papermill": {
     "duration": 0.009796,
     "end_time": "2024-06-30T20:56:09.282499",
     "exception": false,
     "start_time": "2024-06-30T20:56:09.272703",
     "status": "completed"
    },
    "tags": []
   },
   "outputs": [],
   "source": [
    "PBcell_sampleDF.drop('sampleID', axis=1, inplace=True)"
   ]
  },
  {
   "cell_type": "code",
   "execution_count": 13,
   "id": "5502e45d-5c72-4440-a8c1-5b299cac6e2d",
   "metadata": {
    "execution": {
     "iopub.execute_input": "2024-06-30T20:56:09.296272Z",
     "iopub.status.busy": "2024-06-30T20:56:09.295894Z",
     "iopub.status.idle": "2024-06-30T20:56:09.299572Z",
     "shell.execute_reply": "2024-06-30T20:56:09.299215Z"
    },
    "papermill": {
     "duration": 0.012179,
     "end_time": "2024-06-30T20:56:09.300325",
     "exception": false,
     "start_time": "2024-06-30T20:56:09.288146",
     "status": "completed"
    },
    "tags": []
   },
   "outputs": [
    {
     "data": {
      "text/plain": [
       "AnnData object with n_obs × n_vars = 11372 × 40\n",
       "    obs: 'sampleID', 'Level1', 'disease', 'n_observation'"
      ]
     },
     "execution_count": 13,
     "metadata": {},
     "output_type": "execute_result"
    }
   ],
   "source": [
    "adataPBcell_sample = sc.AnnData(X = PBcell_sampleDF, obs = adataPBcell.obs)\n",
    "adataPBcell_sample"
   ]
  },
  {
   "cell_type": "markdown",
   "id": "d59574be-684b-4082-b8b6-7d11930362ad",
   "metadata": {
    "papermill": {
     "duration": 0.006101,
     "end_time": "2024-06-30T20:56:09.313560",
     "exception": false,
     "start_time": "2024-06-30T20:56:09.307459",
     "status": "completed"
    },
    "tags": []
   },
   "source": [
    "### Saving pseudobulk adata objects"
   ]
  },
  {
   "cell_type": "code",
   "execution_count": 14,
   "id": "5947e6f8-ac27-4702-ba5d-aa9e1ba79f6a",
   "metadata": {
    "execution": {
     "iopub.execute_input": "2024-06-30T20:56:09.325810Z",
     "iopub.status.busy": "2024-06-30T20:56:09.325487Z",
     "iopub.status.idle": "2024-06-30T20:56:09.402359Z",
     "shell.execute_reply": "2024-06-30T20:56:09.401921Z"
    },
    "papermill": {
     "duration": 0.083671,
     "end_time": "2024-06-30T20:56:09.403173",
     "exception": false,
     "start_time": "2024-06-30T20:56:09.319502",
     "status": "completed"
    },
    "tags": []
   },
   "outputs": [],
   "source": [
    "adataPBcell.write(here(adataPATHlist[0].replace('/scPoli_','/PSEUDOBULKs/scPoli_PSEUDOBULKcell_')), compression='gzip')"
   ]
  },
  {
   "cell_type": "code",
   "execution_count": 15,
   "id": "e9485945-bccf-419a-9420-c1e4f3aa262d",
   "metadata": {
    "execution": {
     "iopub.execute_input": "2024-06-30T20:56:09.415662Z",
     "iopub.status.busy": "2024-06-30T20:56:09.415426Z",
     "iopub.status.idle": "2024-06-30T20:56:09.438510Z",
     "shell.execute_reply": "2024-06-30T20:56:09.438133Z"
    },
    "papermill": {
     "duration": 0.030403,
     "end_time": "2024-06-30T20:56:09.439311",
     "exception": false,
     "start_time": "2024-06-30T20:56:09.408908",
     "status": "completed"
    },
    "tags": []
   },
   "outputs": [],
   "source": [
    "adataPBsample.write(here(adataPATHlist[0].replace('/scPoli_','/PSEUDOBULKs/scPoli_PSEUDOBULKsample_')), compression='gzip')"
   ]
  },
  {
   "cell_type": "code",
   "execution_count": 16,
   "id": "9c2daa40-3279-4b24-8aad-65ee0ba758c8",
   "metadata": {
    "execution": {
     "iopub.execute_input": "2024-06-30T20:56:09.451093Z",
     "iopub.status.busy": "2024-06-30T20:56:09.450788Z",
     "iopub.status.idle": "2024-06-30T20:56:09.528891Z",
     "shell.execute_reply": "2024-06-30T20:56:09.528427Z"
    },
    "papermill": {
     "duration": 0.084856,
     "end_time": "2024-06-30T20:56:09.529707",
     "exception": false,
     "start_time": "2024-06-30T20:56:09.444851",
     "status": "completed"
    },
    "tags": []
   },
   "outputs": [],
   "source": [
    "adataPBcell_sample.write(here(adataPATHlist[0].replace('/scPoli_','/PSEUDOBULKs/scPoli_PSEUDOBULKcellSample_')), compression='gzip')"
   ]
  },
  {
   "cell_type": "code",
   "execution_count": null,
   "id": "8a70d9f6-7a44-45ee-8470-702bd7af1e0b",
   "metadata": {
    "papermill": {
     "duration": 0.007167,
     "end_time": "2024-06-30T20:56:09.548602",
     "exception": false,
     "start_time": "2024-06-30T20:56:09.541435",
     "status": "completed"
    },
    "tags": []
   },
   "outputs": [],
   "source": []
  }
 ],
 "metadata": {
  "kernelspec": {
   "display_name": "Python 3 (ipykernel)",
   "language": "python",
   "name": "python3"
  },
  "language_info": {
   "codemirror_mode": {
    "name": "ipython",
    "version": 3
   },
   "file_extension": ".py",
   "mimetype": "text/x-python",
   "name": "python",
   "nbconvert_exporter": "python",
   "pygments_lexer": "ipython3",
   "version": "3.12.3"
  },
  "papermill": {
   "default_parameters": {},
   "duration": 12.461897,
   "end_time": "2024-06-30T20:56:10.178003",
   "environment_variables": {},
   "exception": null,
   "input_path": "03_generating_PSEUDOBULKs.ipynb",
   "output_path": "executed_notebooks/03_generating_PSEUDOBULKs_ref_latents_VALIDATION_20nEmb_20nPEmb.ipynb",
   "parameters": {
    "adataPATH": "03_downstream_analysis/08_PatientClassifier/scPoli/results/scPoli_ref_latents_VALIDATION_2_20_20_*.h5ad"
   },
   "start_time": "2024-06-30T20:55:57.716106",
   "version": "2.6.0"
  }
 },
 "nbformat": 4,
 "nbformat_minor": 5
}