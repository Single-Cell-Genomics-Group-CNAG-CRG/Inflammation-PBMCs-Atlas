{
 "cells": [
  {
   "cell_type": "code",
   "execution_count": 1,
   "id": "c0e7bbf8",
   "metadata": {
    "execution": {
     "iopub.execute_input": "2024-06-30T21:00:06.319700Z",
     "iopub.status.busy": "2024-06-30T21:00:06.319387Z",
     "iopub.status.idle": "2024-06-30T21:00:06.321875Z",
     "shell.execute_reply": "2024-06-30T21:00:06.321526Z"
    },
    "papermill": {
     "duration": 0.010731,
     "end_time": "2024-06-30T21:00:06.322678",
     "exception": false,
     "start_time": "2024-06-30T21:00:06.311947",
     "status": "completed"
    },
    "tags": [
     "injected-parameters"
    ]
   },
   "outputs": [],
   "source": [
    "# Parameters\n",
    "adataPATH = \"03_downstream_analysis/08_PatientClassifier/scPoli/results/scPoli_VALIDATION_2_50_20_run3_x0stq72c.h5ad\"\n"
   ]
  },
  {
   "cell_type": "raw",
   "id": "bf9880bd-3aef-477b-807d-37e3c5603037",
   "metadata": {
    "execution": {
     "iopub.execute_input": "2024-06-29T08:23:25.403219Z",
     "iopub.status.busy": "2024-06-29T08:23:25.402857Z",
     "iopub.status.idle": "2024-06-29T08:23:25.406428Z",
     "shell.execute_reply": "2024-06-29T08:23:25.406014Z",
     "shell.execute_reply.started": "2024-06-29T08:23:25.403185Z"
    },
    "papermill": {
     "duration": 0.004994,
     "end_time": "2024-06-30T21:00:06.332934",
     "exception": false,
     "start_time": "2024-06-30T21:00:06.327940",
     "status": "completed"
    },
    "tags": [],
    "vscode": {
     "languageId": "raw"
    }
   },
   "source": [
    "adataMAINpath = '03_downstream_analysis/08_PatientClassifier/scPoli/results/scPoli_2_100_20_*.h5ad'\n",
    "\n",
    "adataVALpath = '03_downstream_analysis/08_PatientClassifier/scPoli/results/scPoli_VALIDATION_2_20_20*.h5ad'\n",
    "adataEXCpath = '03_downstream_analysis/08_PatientClassifier/scPoli/results/scPoli_EXCLUDED_2_100_20_run1_pd5nyb4g.h5ad'\n",
    "adataEXTpath = '03_downstream_analysis/08_PatientClassifier/scPoli/results/scPoli_EXTERNAL_2_100_20_run1_pd5nyb4g.h5ad'\n",
    "\n",
    "adataPATH = adataVALpath"
   ]
  },
  {
   "cell_type": "code",
   "execution_count": 2,
   "id": "d3ccb10a-7201-43d0-a593-2b4650ff3451",
   "metadata": {
    "execution": {
     "iopub.execute_input": "2024-06-30T21:00:06.344386Z",
     "iopub.status.busy": "2024-06-30T21:00:06.343882Z",
     "iopub.status.idle": "2024-06-30T21:00:06.346919Z",
     "shell.execute_reply": "2024-06-30T21:00:06.346554Z"
    },
    "papermill": {
     "duration": 0.009559,
     "end_time": "2024-06-30T21:00:06.347717",
     "exception": false,
     "start_time": "2024-06-30T21:00:06.338158",
     "status": "completed"
    },
    "tags": []
   },
   "outputs": [
    {
     "name": "stdout",
     "output_type": "stream",
     "text": [
      "adataPATH = 03_downstream_analysis/08_PatientClassifier/scPoli/results/scPoli_VALIDATION_2_50_20_run3_x0stq72c.h5ad\n"
     ]
    }
   ],
   "source": [
    "for v in ['adataPATH']:\n",
    "    if v in locals() or v in globals():\n",
    "        print(f\"{v} = {eval(v)}\")\n",
    "    else:\n",
    "        raise Exception(f\"{v} not specified\")"
   ]
  },
  {
   "cell_type": "code",
   "execution_count": 3,
   "id": "888fb5f4-9ab7-4196-a282-7a7e92a43971",
   "metadata": {
    "execution": {
     "iopub.execute_input": "2024-06-30T21:00:06.359270Z",
     "iopub.status.busy": "2024-06-30T21:00:06.358866Z",
     "iopub.status.idle": "2024-06-30T21:00:07.700878Z",
     "shell.execute_reply": "2024-06-30T21:00:07.700399Z"
    },
    "papermill": {
     "duration": 1.349136,
     "end_time": "2024-06-30T21:00:07.702239",
     "exception": false,
     "start_time": "2024-06-30T21:00:06.353103",
     "status": "completed"
    },
    "tags": []
   },
   "outputs": [],
   "source": [
    "import os\n",
    "import sys\n",
    "from glob import glob\n",
    "\n",
    "import scanpy as sc\n",
    "import pandas as pd\n",
    "\n",
    "from pyprojroot import here\n",
    "\n",
    "sys.path.insert(1, str(here('bin')))\n",
    "# Import custom functions\n",
    "from customPythonFunctions import aggregating_features"
   ]
  },
  {
   "cell_type": "markdown",
   "id": "ba4905ae-4546-4ef4-b57b-950441ab079d",
   "metadata": {
    "papermill": {
     "duration": 0.00499,
     "end_time": "2024-06-30T21:00:07.712848",
     "exception": false,
     "start_time": "2024-06-30T21:00:07.707858",
     "status": "completed"
    },
    "tags": []
   },
   "source": [
    "### Loading data"
   ]
  },
  {
   "cell_type": "code",
   "execution_count": 4,
   "id": "539cbbbb-3503-4f51-bf04-f007f928ebd1",
   "metadata": {
    "execution": {
     "iopub.execute_input": "2024-06-30T21:00:07.723649Z",
     "iopub.status.busy": "2024-06-30T21:00:07.723358Z",
     "iopub.status.idle": "2024-06-30T21:00:07.727016Z",
     "shell.execute_reply": "2024-06-30T21:00:07.726652Z"
    },
    "papermill": {
     "duration": 0.009936,
     "end_time": "2024-06-30T21:00:07.727786",
     "exception": false,
     "start_time": "2024-06-30T21:00:07.717850",
     "status": "completed"
    },
    "tags": []
   },
   "outputs": [],
   "source": [
    "adataPATHlist = glob(str(here(adataPATH)))\n",
    "assert(len(adataPATHlist) == 1)"
   ]
  },
  {
   "cell_type": "code",
   "execution_count": 5,
   "id": "0fcfce0a-896b-4dc0-8e5e-46749205c84f",
   "metadata": {
    "execution": {
     "iopub.execute_input": "2024-06-30T21:00:07.739966Z",
     "iopub.status.busy": "2024-06-30T21:00:07.739665Z",
     "iopub.status.idle": "2024-06-30T21:00:09.503337Z",
     "shell.execute_reply": "2024-06-30T21:00:09.502902Z"
    },
    "papermill": {
     "duration": 1.770093,
     "end_time": "2024-06-30T21:00:09.504247",
     "exception": false,
     "start_time": "2024-06-30T21:00:07.734154",
     "status": "completed"
    },
    "tags": []
   },
   "outputs": [
    {
     "data": {
      "text/plain": [
       "AnnData object with n_obs × n_vars = 849922 × 50\n",
       "    obs: 'studyID', 'libraryID', 'sampleID', 'chemistry', 'technology', 'disease', 'sex', 'binned_age', 'Level1', 'Level2', 'conditions_combined', 'Level1_unc', 'Level2_unc'\n",
       "    uns: 'chemistry', 'sampleID'"
      ]
     },
     "execution_count": 5,
     "metadata": {},
     "output_type": "execute_result"
    }
   ],
   "source": [
    "adata = sc.read_h5ad(adataPATHlist[0])\n",
    "adata"
   ]
  },
  {
   "cell_type": "markdown",
   "id": "44e868b3-0771-4225-bd79-a4b179bc672b",
   "metadata": {
    "papermill": {
     "duration": 0.005188,
     "end_time": "2024-06-30T21:00:09.515558",
     "exception": false,
     "start_time": "2024-06-30T21:00:09.510370",
     "status": "completed"
    },
    "tags": []
   },
   "source": [
    "#### Generating PSEUDOBULKs"
   ]
  },
  {
   "cell_type": "markdown",
   "id": "97d09fc5-d05c-471e-87fa-fe58ccbe47ac",
   "metadata": {
    "papermill": {
     "duration": 0.004918,
     "end_time": "2024-06-30T21:00:09.525484",
     "exception": false,
     "start_time": "2024-06-30T21:00:09.520566",
     "status": "completed"
    },
    "tags": []
   },
   "source": [
    "**Aggregating cell latent features**"
   ]
  },
  {
   "cell_type": "code",
   "execution_count": 6,
   "id": "81223976-fcf6-4354-8964-b12d76468636",
   "metadata": {
    "execution": {
     "iopub.execute_input": "2024-06-30T21:00:09.536662Z",
     "iopub.status.busy": "2024-06-30T21:00:09.536267Z",
     "iopub.status.idle": "2024-06-30T21:00:09.935883Z",
     "shell.execute_reply": "2024-06-30T21:00:09.935448Z"
    },
    "papermill": {
     "duration": 0.406093,
     "end_time": "2024-06-30T21:00:09.936699",
     "exception": false,
     "start_time": "2024-06-30T21:00:09.530606",
     "status": "completed"
    },
    "tags": []
   },
   "outputs": [
    {
     "data": {
      "text/plain": [
       "AnnData object with n_obs × n_vars = 2110 × 50\n",
       "    obs: 'sampleID', 'Level1', 'disease', 'n_observation'"
      ]
     },
     "execution_count": 6,
     "metadata": {},
     "output_type": "execute_result"
    }
   ],
   "source": [
    "adataPBcell = aggregating_features(Z = adata.X, \n",
    "                             obsDF = adata.obs[['sampleID','Level1','disease']], \n",
    "                             mode = 'mean', \n",
    "                             obs_names_col=['sampleID','Level1'], \n",
    "                             min_observation=0)\n",
    "adataPBcell"
   ]
  },
  {
   "cell_type": "code",
   "execution_count": null,
   "id": "8495038e-aebd-4003-bd94-c1e49f47249e",
   "metadata": {
    "papermill": {
     "duration": 0.005409,
     "end_time": "2024-06-30T21:00:09.949377",
     "exception": false,
     "start_time": "2024-06-30T21:00:09.943968",
     "status": "completed"
    },
    "tags": []
   },
   "outputs": [],
   "source": []
  },
  {
   "cell_type": "markdown",
   "id": "6d602bad-4793-4aa4-b3d7-d118d413a0fc",
   "metadata": {
    "papermill": {
     "duration": 0.005207,
     "end_time": "2024-06-30T21:00:09.960193",
     "exception": false,
     "start_time": "2024-06-30T21:00:09.954986",
     "status": "completed"
    },
    "tags": []
   },
   "source": [
    "**Extracting sample embedding**"
   ]
  },
  {
   "cell_type": "code",
   "execution_count": 7,
   "id": "e2c14f02",
   "metadata": {
    "execution": {
     "iopub.execute_input": "2024-06-30T21:00:09.974334Z",
     "iopub.status.busy": "2024-06-30T21:00:09.973852Z",
     "iopub.status.idle": "2024-06-30T21:00:09.982285Z",
     "shell.execute_reply": "2024-06-30T21:00:09.981896Z"
    },
    "papermill": {
     "duration": 0.017419,
     "end_time": "2024-06-30T21:00:09.983064",
     "exception": false,
     "start_time": "2024-06-30T21:00:09.965645",
     "status": "completed"
    },
    "tags": []
   },
   "outputs": [
    {
     "data": {
      "text/plain": [
       "AnnData object with n_obs × n_vars = 144 × 20\n",
       "    obs: 'sampleID', 'disease', 'Level1'"
      ]
     },
     "execution_count": 7,
     "metadata": {},
     "output_type": "execute_result"
    }
   ],
   "source": [
    "adataPBsample = adata.uns['sampleID'].copy()\n",
    "adataPBsample.obs['sampleID'] = adataPBsample.obs.index\n",
    "adataPBsample = adataPBsample[adataPBsample.obs['sampleID'].isin(adataPBcell.obs['sampleID'])]\n",
    "\n",
    "adataPBsample.obs = adataPBsample.obs.merge(adataPBcell.obs.groupby('sampleID').agg({'disease':'first'}), left_index=True, right_index=True)\n",
    "adataPBsample.obs['Level1'] = 'sample'\n",
    "adataPBsample"
   ]
  },
  {
   "cell_type": "markdown",
   "id": "2d4fe137-7d68-4e86-a85c-3c1a3d3c4c71",
   "metadata": {
    "papermill": {
     "duration": 0.005359,
     "end_time": "2024-06-30T21:00:09.993645",
     "exception": false,
     "start_time": "2024-06-30T21:00:09.988286",
     "status": "completed"
    },
    "tags": []
   },
   "source": [
    "**Merging cell and patient latent features**"
   ]
  },
  {
   "cell_type": "code",
   "execution_count": 8,
   "id": "a326d2b1",
   "metadata": {
    "execution": {
     "iopub.execute_input": "2024-06-30T21:00:10.005256Z",
     "iopub.status.busy": "2024-06-30T21:00:10.004741Z",
     "iopub.status.idle": "2024-06-30T21:00:10.007404Z",
     "shell.execute_reply": "2024-06-30T21:00:10.007025Z"
    },
    "papermill": {
     "duration": 0.009064,
     "end_time": "2024-06-30T21:00:10.008167",
     "exception": false,
     "start_time": "2024-06-30T21:00:09.999103",
     "status": "completed"
    },
    "tags": []
   },
   "outputs": [],
   "source": [
    "PBcellDF = adataPBcell.to_df()\n",
    "PBcellDF['sampleID'] = adataPBcell.obs['sampleID']"
   ]
  },
  {
   "cell_type": "code",
   "execution_count": 9,
   "id": "1a597f46-d9c5-403b-b81e-5738ca206682",
   "metadata": {
    "execution": {
     "iopub.execute_input": "2024-06-30T21:00:10.019401Z",
     "iopub.status.busy": "2024-06-30T21:00:10.019041Z",
     "iopub.status.idle": "2024-06-30T21:00:10.021541Z",
     "shell.execute_reply": "2024-06-30T21:00:10.021140Z"
    },
    "papermill": {
     "duration": 0.00883,
     "end_time": "2024-06-30T21:00:10.022353",
     "exception": false,
     "start_time": "2024-06-30T21:00:10.013523",
     "status": "completed"
    },
    "tags": []
   },
   "outputs": [],
   "source": [
    "PBsampleDF = adataPBsample.to_df()\n",
    "PBsampleDF['sampleID'] = adataPBsample.obs['sampleID']"
   ]
  },
  {
   "cell_type": "code",
   "execution_count": 10,
   "id": "bb384751-fe1b-4635-a90d-fd98ae61b173",
   "metadata": {
    "execution": {
     "iopub.execute_input": "2024-06-30T21:00:10.033744Z",
     "iopub.status.busy": "2024-06-30T21:00:10.033409Z",
     "iopub.status.idle": "2024-06-30T21:00:10.037544Z",
     "shell.execute_reply": "2024-06-30T21:00:10.037153Z"
    },
    "papermill": {
     "duration": 0.010777,
     "end_time": "2024-06-30T21:00:10.038316",
     "exception": false,
     "start_time": "2024-06-30T21:00:10.027539",
     "status": "completed"
    },
    "tags": []
   },
   "outputs": [],
   "source": [
    "PBcell_sampleDF = PBcellDF.merge(PBsampleDF, on='sampleID', how='left')"
   ]
  },
  {
   "cell_type": "code",
   "execution_count": 11,
   "id": "f7250713-e24d-4614-9cbd-eed702340640",
   "metadata": {
    "execution": {
     "iopub.execute_input": "2024-06-30T21:00:10.050126Z",
     "iopub.status.busy": "2024-06-30T21:00:10.049791Z",
     "iopub.status.idle": "2024-06-30T21:00:10.052128Z",
     "shell.execute_reply": "2024-06-30T21:00:10.051738Z"
    },
    "papermill": {
     "duration": 0.008753,
     "end_time": "2024-06-30T21:00:10.052930",
     "exception": false,
     "start_time": "2024-06-30T21:00:10.044177",
     "status": "completed"
    },
    "tags": []
   },
   "outputs": [],
   "source": [
    "assert(adataPBcell.obs['sampleID'].tolist() == PBcell_sampleDF['sampleID'].tolist())"
   ]
  },
  {
   "cell_type": "code",
   "execution_count": 12,
   "id": "abea2252-6a12-4b89-9f0d-6d6df90064fb",
   "metadata": {
    "execution": {
     "iopub.execute_input": "2024-06-30T21:00:10.065021Z",
     "iopub.status.busy": "2024-06-30T21:00:10.064696Z",
     "iopub.status.idle": "2024-06-30T21:00:10.067196Z",
     "shell.execute_reply": "2024-06-30T21:00:10.066813Z"
    },
    "papermill": {
     "duration": 0.009574,
     "end_time": "2024-06-30T21:00:10.067989",
     "exception": false,
     "start_time": "2024-06-30T21:00:10.058415",
     "status": "completed"
    },
    "tags": []
   },
   "outputs": [],
   "source": [
    "PBcell_sampleDF.drop('sampleID', axis=1, inplace=True)"
   ]
  },
  {
   "cell_type": "code",
   "execution_count": 13,
   "id": "5502e45d-5c72-4440-a8c1-5b299cac6e2d",
   "metadata": {
    "execution": {
     "iopub.execute_input": "2024-06-30T21:00:10.080249Z",
     "iopub.status.busy": "2024-06-30T21:00:10.079911Z",
     "iopub.status.idle": "2024-06-30T21:00:10.083474Z",
     "shell.execute_reply": "2024-06-30T21:00:10.083088Z"
    },
    "papermill": {
     "duration": 0.010411,
     "end_time": "2024-06-30T21:00:10.084260",
     "exception": false,
     "start_time": "2024-06-30T21:00:10.073849",
     "status": "completed"
    },
    "tags": []
   },
   "outputs": [
    {
     "data": {
      "text/plain": [
       "AnnData object with n_obs × n_vars = 2110 × 70\n",
       "    obs: 'sampleID', 'Level1', 'disease', 'n_observation'"
      ]
     },
     "execution_count": 13,
     "metadata": {},
     "output_type": "execute_result"
    }
   ],
   "source": [
    "adataPBcell_sample = sc.AnnData(X = PBcell_sampleDF, obs = adataPBcell.obs)\n",
    "adataPBcell_sample"
   ]
  },
  {
   "cell_type": "markdown",
   "id": "d59574be-684b-4082-b8b6-7d11930362ad",
   "metadata": {
    "papermill": {
     "duration": 0.005822,
     "end_time": "2024-06-30T21:00:10.095782",
     "exception": false,
     "start_time": "2024-06-30T21:00:10.089960",
     "status": "completed"
    },
    "tags": []
   },
   "source": [
    "### Saving pseudobulk adata objects"
   ]
  },
  {
   "cell_type": "code",
   "execution_count": 14,
   "id": "5947e6f8-ac27-4702-ba5d-aa9e1ba79f6a",
   "metadata": {
    "execution": {
     "iopub.execute_input": "2024-06-30T21:00:10.108058Z",
     "iopub.status.busy": "2024-06-30T21:00:10.107730Z",
     "iopub.status.idle": "2024-06-30T21:00:10.146842Z",
     "shell.execute_reply": "2024-06-30T21:00:10.146440Z"
    },
    "papermill": {
     "duration": 0.046489,
     "end_time": "2024-06-30T21:00:10.148017",
     "exception": false,
     "start_time": "2024-06-30T21:00:10.101528",
     "status": "completed"
    },
    "tags": []
   },
   "outputs": [],
   "source": [
    "adataPBcell.write(here(adataPATHlist[0].replace('/scPoli_','/PSEUDOBULKs/scPoli_PSEUDOBULKcell_')), compression='gzip')"
   ]
  },
  {
   "cell_type": "code",
   "execution_count": 15,
   "id": "e9485945-bccf-419a-9420-c1e4f3aa262d",
   "metadata": {
    "execution": {
     "iopub.execute_input": "2024-06-30T21:00:10.160106Z",
     "iopub.status.busy": "2024-06-30T21:00:10.159965Z",
     "iopub.status.idle": "2024-06-30T21:00:10.182535Z",
     "shell.execute_reply": "2024-06-30T21:00:10.182088Z"
    },
    "papermill": {
     "duration": 0.029276,
     "end_time": "2024-06-30T21:00:10.183306",
     "exception": false,
     "start_time": "2024-06-30T21:00:10.154030",
     "status": "completed"
    },
    "tags": []
   },
   "outputs": [],
   "source": [
    "adataPBsample.write(here(adataPATHlist[0].replace('/scPoli_','/PSEUDOBULKs/scPoli_PSEUDOBULKsample_')), compression='gzip')"
   ]
  },
  {
   "cell_type": "code",
   "execution_count": 16,
   "id": "9c2daa40-3279-4b24-8aad-65ee0ba758c8",
   "metadata": {
    "execution": {
     "iopub.execute_input": "2024-06-30T21:00:10.194897Z",
     "iopub.status.busy": "2024-06-30T21:00:10.194624Z",
     "iopub.status.idle": "2024-06-30T21:00:10.234144Z",
     "shell.execute_reply": "2024-06-30T21:00:10.233745Z"
    },
    "papermill": {
     "duration": 0.046127,
     "end_time": "2024-06-30T21:00:10.234938",
     "exception": false,
     "start_time": "2024-06-30T21:00:10.188811",
     "status": "completed"
    },
    "tags": []
   },
   "outputs": [],
   "source": [
    "adataPBcell_sample.write(here(adataPATHlist[0].replace('/scPoli_','/PSEUDOBULKs/scPoli_PSEUDOBULKcellSample_')), compression='gzip')"
   ]
  },
  {
   "cell_type": "code",
   "execution_count": null,
   "id": "8a70d9f6-7a44-45ee-8470-702bd7af1e0b",
   "metadata": {
    "papermill": {
     "duration": 0.005408,
     "end_time": "2024-06-30T21:00:10.245986",
     "exception": false,
     "start_time": "2024-06-30T21:00:10.240578",
     "status": "completed"
    },
    "tags": []
   },
   "outputs": [],
   "source": []
  }
 ],
 "metadata": {
  "kernelspec": {
   "display_name": "Python 3 (ipykernel)",
   "language": "python",
   "name": "python3"
  },
  "language_info": {
   "codemirror_mode": {
    "name": "ipython",
    "version": 3
   },
   "file_extension": ".py",
   "mimetype": "text/x-python",
   "name": "python",
   "nbconvert_exporter": "python",
   "pygments_lexer": "ipython3",
   "version": "3.12.3"
  },
  "papermill": {
   "default_parameters": {},
   "duration": 5.632722,
   "end_time": "2024-06-30T21:00:10.768758",
   "environment_variables": {},
   "exception": null,
   "input_path": "03_generating_PSEUDOBULKs.ipynb",
   "output_path": "executed_notebooks/03_generating_PSEUDOBULKs_scPoli_VALIDATION_2_50_20_run3_x0stq72c.h5ad.ipynb",
   "parameters": {
    "adataPATH": "03_downstream_analysis/08_PatientClassifier/scPoli/results/scPoli_VALIDATION_2_50_20_run3_x0stq72c.h5ad"
   },
   "start_time": "2024-06-30T21:00:05.136036",
   "version": "2.6.0"
  }
 },
 "nbformat": 4,
 "nbformat_minor": 5
}