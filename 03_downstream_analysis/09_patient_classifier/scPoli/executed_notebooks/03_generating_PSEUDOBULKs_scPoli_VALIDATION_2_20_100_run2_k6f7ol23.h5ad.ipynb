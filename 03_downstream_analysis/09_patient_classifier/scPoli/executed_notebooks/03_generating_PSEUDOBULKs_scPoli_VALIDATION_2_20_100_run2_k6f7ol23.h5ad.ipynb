{
 "cells": [
  {
   "cell_type": "code",
   "execution_count": 1,
   "id": "0a5fb2dd",
   "metadata": {
    "execution": {
     "iopub.execute_input": "2024-06-30T20:59:51.157084Z",
     "iopub.status.busy": "2024-06-30T20:59:51.156934Z",
     "iopub.status.idle": "2024-06-30T20:59:51.159461Z",
     "shell.execute_reply": "2024-06-30T20:59:51.159090Z"
    },
    "papermill": {
     "duration": 0.009247,
     "end_time": "2024-06-30T20:59:51.160331",
     "exception": false,
     "start_time": "2024-06-30T20:59:51.151084",
     "status": "completed"
    },
    "tags": [
     "injected-parameters"
    ]
   },
   "outputs": [],
   "source": [
    "# Parameters\n",
    "adataPATH = \"03_downstream_analysis/08_PatientClassifier/scPoli/results/scPoli_VALIDATION_2_20_100_run2_k6f7ol23.h5ad\"\n"
   ]
  },
  {
   "cell_type": "raw",
   "id": "bf9880bd-3aef-477b-807d-37e3c5603037",
   "metadata": {
    "execution": {
     "iopub.execute_input": "2024-06-29T08:23:25.403219Z",
     "iopub.status.busy": "2024-06-29T08:23:25.402857Z",
     "iopub.status.idle": "2024-06-29T08:23:25.406428Z",
     "shell.execute_reply": "2024-06-29T08:23:25.406014Z",
     "shell.execute_reply.started": "2024-06-29T08:23:25.403185Z"
    },
    "papermill": {
     "duration": 0.069833,
     "end_time": "2024-06-30T20:59:51.235583",
     "exception": false,
     "start_time": "2024-06-30T20:59:51.165750",
     "status": "completed"
    },
    "tags": [],
    "vscode": {
     "languageId": "raw"
    }
   },
   "source": [
    "adataMAINpath = '03_downstream_analysis/08_PatientClassifier/scPoli/results/scPoli_2_100_20_*.h5ad'\n",
    "\n",
    "adataVALpath = '03_downstream_analysis/08_PatientClassifier/scPoli/results/scPoli_VALIDATION_2_20_20*.h5ad'\n",
    "adataEXCpath = '03_downstream_analysis/08_PatientClassifier/scPoli/results/scPoli_EXCLUDED_2_100_20_run1_pd5nyb4g.h5ad'\n",
    "adataEXTpath = '03_downstream_analysis/08_PatientClassifier/scPoli/results/scPoli_EXTERNAL_2_100_20_run1_pd5nyb4g.h5ad'\n",
    "\n",
    "adataPATH = adataVALpath"
   ]
  },
  {
   "cell_type": "code",
   "execution_count": 2,
   "id": "d3ccb10a-7201-43d0-a593-2b4650ff3451",
   "metadata": {
    "execution": {
     "iopub.execute_input": "2024-06-30T20:59:51.246155Z",
     "iopub.status.busy": "2024-06-30T20:59:51.246021Z",
     "iopub.status.idle": "2024-06-30T20:59:51.248842Z",
     "shell.execute_reply": "2024-06-30T20:59:51.248485Z"
    },
    "papermill": {
     "duration": 0.00894,
     "end_time": "2024-06-30T20:59:51.249674",
     "exception": false,
     "start_time": "2024-06-30T20:59:51.240734",
     "status": "completed"
    },
    "tags": []
   },
   "outputs": [
    {
     "name": "stdout",
     "output_type": "stream",
     "text": [
      "adataPATH = 03_downstream_analysis/08_PatientClassifier/scPoli/results/scPoli_VALIDATION_2_20_100_run2_k6f7ol23.h5ad\n"
     ]
    }
   ],
   "source": [
    "for v in ['adataPATH']:\n",
    "    if v in locals() or v in globals():\n",
    "        print(f\"{v} = {eval(v)}\")\n",
    "    else:\n",
    "        raise Exception(f\"{v} not specified\")"
   ]
  },
  {
   "cell_type": "code",
   "execution_count": 3,
   "id": "888fb5f4-9ab7-4196-a282-7a7e92a43971",
   "metadata": {
    "execution": {
     "iopub.execute_input": "2024-06-30T20:59:51.260780Z",
     "iopub.status.busy": "2024-06-30T20:59:51.260649Z",
     "iopub.status.idle": "2024-06-30T20:59:52.693696Z",
     "shell.execute_reply": "2024-06-30T20:59:52.693206Z"
    },
    "papermill": {
     "duration": 1.439324,
     "end_time": "2024-06-30T20:59:52.694577",
     "exception": false,
     "start_time": "2024-06-30T20:59:51.255253",
     "status": "completed"
    },
    "tags": []
   },
   "outputs": [],
   "source": [
    "import os\n",
    "import sys\n",
    "from glob import glob\n",
    "\n",
    "import scanpy as sc\n",
    "import pandas as pd\n",
    "\n",
    "from pyprojroot import here\n",
    "\n",
    "sys.path.insert(1, str(here('bin')))\n",
    "# Import custom functions\n",
    "from customPythonFunctions import aggregating_features"
   ]
  },
  {
   "cell_type": "markdown",
   "id": "ba4905ae-4546-4ef4-b57b-950441ab079d",
   "metadata": {
    "papermill": {
     "duration": 0.005121,
     "end_time": "2024-06-30T20:59:52.705077",
     "exception": false,
     "start_time": "2024-06-30T20:59:52.699956",
     "status": "completed"
    },
    "tags": []
   },
   "source": [
    "### Loading data"
   ]
  },
  {
   "cell_type": "code",
   "execution_count": 4,
   "id": "539cbbbb-3503-4f51-bf04-f007f928ebd1",
   "metadata": {
    "execution": {
     "iopub.execute_input": "2024-06-30T20:59:52.716862Z",
     "iopub.status.busy": "2024-06-30T20:59:52.716325Z",
     "iopub.status.idle": "2024-06-30T20:59:52.720123Z",
     "shell.execute_reply": "2024-06-30T20:59:52.719751Z"
    },
    "papermill": {
     "duration": 0.010214,
     "end_time": "2024-06-30T20:59:52.720889",
     "exception": false,
     "start_time": "2024-06-30T20:59:52.710675",
     "status": "completed"
    },
    "tags": []
   },
   "outputs": [],
   "source": [
    "adataPATHlist = glob(str(here(adataPATH)))\n",
    "assert(len(adataPATHlist) == 1)"
   ]
  },
  {
   "cell_type": "code",
   "execution_count": 5,
   "id": "0fcfce0a-896b-4dc0-8e5e-46749205c84f",
   "metadata": {
    "execution": {
     "iopub.execute_input": "2024-06-30T20:59:52.731771Z",
     "iopub.status.busy": "2024-06-30T20:59:52.731445Z",
     "iopub.status.idle": "2024-06-30T20:59:53.925584Z",
     "shell.execute_reply": "2024-06-30T20:59:53.925239Z"
    },
    "papermill": {
     "duration": 1.200454,
     "end_time": "2024-06-30T20:59:53.926377",
     "exception": false,
     "start_time": "2024-06-30T20:59:52.725923",
     "status": "completed"
    },
    "tags": []
   },
   "outputs": [
    {
     "data": {
      "text/plain": [
       "AnnData object with n_obs × n_vars = 849922 × 20\n",
       "    obs: 'studyID', 'libraryID', 'sampleID', 'chemistry', 'technology', 'disease', 'sex', 'binned_age', 'Level1', 'Level2', 'conditions_combined', 'Level1_unc', 'Level2_unc'\n",
       "    uns: 'chemistry', 'sampleID'"
      ]
     },
     "execution_count": 5,
     "metadata": {},
     "output_type": "execute_result"
    }
   ],
   "source": [
    "adata = sc.read_h5ad(adataPATHlist[0])\n",
    "adata"
   ]
  },
  {
   "cell_type": "markdown",
   "id": "44e868b3-0771-4225-bd79-a4b179bc672b",
   "metadata": {
    "papermill": {
     "duration": 0.005421,
     "end_time": "2024-06-30T20:59:53.937411",
     "exception": false,
     "start_time": "2024-06-30T20:59:53.931990",
     "status": "completed"
    },
    "tags": []
   },
   "source": [
    "#### Generating PSEUDOBULKs"
   ]
  },
  {
   "cell_type": "markdown",
   "id": "97d09fc5-d05c-471e-87fa-fe58ccbe47ac",
   "metadata": {
    "papermill": {
     "duration": 0.005288,
     "end_time": "2024-06-30T20:59:53.947769",
     "exception": false,
     "start_time": "2024-06-30T20:59:53.942481",
     "status": "completed"
    },
    "tags": []
   },
   "source": [
    "**Aggregating cell latent features**"
   ]
  },
  {
   "cell_type": "code",
   "execution_count": 6,
   "id": "81223976-fcf6-4354-8964-b12d76468636",
   "metadata": {
    "execution": {
     "iopub.execute_input": "2024-06-30T20:59:53.959254Z",
     "iopub.status.busy": "2024-06-30T20:59:53.959090Z",
     "iopub.status.idle": "2024-06-30T20:59:54.295397Z",
     "shell.execute_reply": "2024-06-30T20:59:54.295025Z"
    },
    "papermill": {
     "duration": 0.34348,
     "end_time": "2024-06-30T20:59:54.296185",
     "exception": false,
     "start_time": "2024-06-30T20:59:53.952705",
     "status": "completed"
    },
    "tags": []
   },
   "outputs": [
    {
     "data": {
      "text/plain": [
       "AnnData object with n_obs × n_vars = 2098 × 20\n",
       "    obs: 'sampleID', 'Level1', 'disease', 'n_observation'"
      ]
     },
     "execution_count": 6,
     "metadata": {},
     "output_type": "execute_result"
    }
   ],
   "source": [
    "adataPBcell = aggregating_features(Z = adata.X, \n",
    "                             obsDF = adata.obs[['sampleID','Level1','disease']], \n",
    "                             mode = 'mean', \n",
    "                             obs_names_col=['sampleID','Level1'], \n",
    "                             min_observation=0)\n",
    "adataPBcell"
   ]
  },
  {
   "cell_type": "code",
   "execution_count": null,
   "id": "8495038e-aebd-4003-bd94-c1e49f47249e",
   "metadata": {
    "papermill": {
     "duration": 0.005411,
     "end_time": "2024-06-30T20:59:54.307213",
     "exception": false,
     "start_time": "2024-06-30T20:59:54.301802",
     "status": "completed"
    },
    "tags": []
   },
   "outputs": [],
   "source": []
  },
  {
   "cell_type": "markdown",
   "id": "6d602bad-4793-4aa4-b3d7-d118d413a0fc",
   "metadata": {
    "papermill": {
     "duration": 0.00509,
     "end_time": "2024-06-30T20:59:54.318361",
     "exception": false,
     "start_time": "2024-06-30T20:59:54.313271",
     "status": "completed"
    },
    "tags": []
   },
   "source": [
    "**Extracting sample embedding**"
   ]
  },
  {
   "cell_type": "code",
   "execution_count": 7,
   "id": "e2c14f02",
   "metadata": {
    "execution": {
     "iopub.execute_input": "2024-06-30T20:59:54.329785Z",
     "iopub.status.busy": "2024-06-30T20:59:54.329633Z",
     "iopub.status.idle": "2024-06-30T20:59:54.337581Z",
     "shell.execute_reply": "2024-06-30T20:59:54.337293Z"
    },
    "papermill": {
     "duration": 0.014972,
     "end_time": "2024-06-30T20:59:54.338343",
     "exception": false,
     "start_time": "2024-06-30T20:59:54.323371",
     "status": "completed"
    },
    "tags": []
   },
   "outputs": [
    {
     "data": {
      "text/plain": [
       "AnnData object with n_obs × n_vars = 144 × 100\n",
       "    obs: 'sampleID', 'disease', 'Level1'"
      ]
     },
     "execution_count": 7,
     "metadata": {},
     "output_type": "execute_result"
    }
   ],
   "source": [
    "adataPBsample = adata.uns['sampleID'].copy()\n",
    "adataPBsample.obs['sampleID'] = adataPBsample.obs.index\n",
    "adataPBsample = adataPBsample[adataPBsample.obs['sampleID'].isin(adataPBcell.obs['sampleID'])]\n",
    "\n",
    "adataPBsample.obs = adataPBsample.obs.merge(adataPBcell.obs.groupby('sampleID').agg({'disease':'first'}), left_index=True, right_index=True)\n",
    "adataPBsample.obs['Level1'] = 'sample'\n",
    "adataPBsample"
   ]
  },
  {
   "cell_type": "markdown",
   "id": "2d4fe137-7d68-4e86-a85c-3c1a3d3c4c71",
   "metadata": {
    "papermill": {
     "duration": 0.012304,
     "end_time": "2024-06-30T20:59:54.356369",
     "exception": false,
     "start_time": "2024-06-30T20:59:54.344065",
     "status": "completed"
    },
    "tags": []
   },
   "source": [
    "**Merging cell and patient latent features**"
   ]
  },
  {
   "cell_type": "code",
   "execution_count": 8,
   "id": "a326d2b1",
   "metadata": {
    "execution": {
     "iopub.execute_input": "2024-06-30T20:59:54.369386Z",
     "iopub.status.busy": "2024-06-30T20:59:54.369244Z",
     "iopub.status.idle": "2024-06-30T20:59:54.371515Z",
     "shell.execute_reply": "2024-06-30T20:59:54.371219Z"
    },
    "papermill": {
     "duration": 0.010025,
     "end_time": "2024-06-30T20:59:54.372264",
     "exception": false,
     "start_time": "2024-06-30T20:59:54.362239",
     "status": "completed"
    },
    "tags": []
   },
   "outputs": [],
   "source": [
    "PBcellDF = adataPBcell.to_df()\n",
    "PBcellDF['sampleID'] = adataPBcell.obs['sampleID']"
   ]
  },
  {
   "cell_type": "code",
   "execution_count": 9,
   "id": "1a597f46-d9c5-403b-b81e-5738ca206682",
   "metadata": {
    "execution": {
     "iopub.execute_input": "2024-06-30T20:59:54.383988Z",
     "iopub.status.busy": "2024-06-30T20:59:54.383627Z",
     "iopub.status.idle": "2024-06-30T20:59:54.385891Z",
     "shell.execute_reply": "2024-06-30T20:59:54.385605Z"
    },
    "papermill": {
     "duration": 0.008961,
     "end_time": "2024-06-30T20:59:54.386633",
     "exception": false,
     "start_time": "2024-06-30T20:59:54.377672",
     "status": "completed"
    },
    "tags": []
   },
   "outputs": [],
   "source": [
    "PBsampleDF = adataPBsample.to_df()\n",
    "PBsampleDF['sampleID'] = adataPBsample.obs['sampleID']"
   ]
  },
  {
   "cell_type": "code",
   "execution_count": 10,
   "id": "bb384751-fe1b-4635-a90d-fd98ae61b173",
   "metadata": {
    "execution": {
     "iopub.execute_input": "2024-06-30T20:59:54.398329Z",
     "iopub.status.busy": "2024-06-30T20:59:54.398180Z",
     "iopub.status.idle": "2024-06-30T20:59:54.402253Z",
     "shell.execute_reply": "2024-06-30T20:59:54.401952Z"
    },
    "papermill": {
     "duration": 0.010728,
     "end_time": "2024-06-30T20:59:54.403021",
     "exception": false,
     "start_time": "2024-06-30T20:59:54.392293",
     "status": "completed"
    },
    "tags": []
   },
   "outputs": [],
   "source": [
    "PBcell_sampleDF = PBcellDF.merge(PBsampleDF, on='sampleID', how='left')"
   ]
  },
  {
   "cell_type": "code",
   "execution_count": 11,
   "id": "f7250713-e24d-4614-9cbd-eed702340640",
   "metadata": {
    "execution": {
     "iopub.execute_input": "2024-06-30T20:59:54.415114Z",
     "iopub.status.busy": "2024-06-30T20:59:54.414667Z",
     "iopub.status.idle": "2024-06-30T20:59:54.416929Z",
     "shell.execute_reply": "2024-06-30T20:59:54.416646Z"
    },
    "papermill": {
     "duration": 0.00915,
     "end_time": "2024-06-30T20:59:54.417669",
     "exception": false,
     "start_time": "2024-06-30T20:59:54.408519",
     "status": "completed"
    },
    "tags": []
   },
   "outputs": [],
   "source": [
    "assert(adataPBcell.obs['sampleID'].tolist() == PBcell_sampleDF['sampleID'].tolist())"
   ]
  },
  {
   "cell_type": "code",
   "execution_count": 12,
   "id": "abea2252-6a12-4b89-9f0d-6d6df90064fb",
   "metadata": {
    "execution": {
     "iopub.execute_input": "2024-06-30T20:59:54.429243Z",
     "iopub.status.busy": "2024-06-30T20:59:54.428922Z",
     "iopub.status.idle": "2024-06-30T20:59:54.431231Z",
     "shell.execute_reply": "2024-06-30T20:59:54.430931Z"
    },
    "papermill": {
     "duration": 0.008824,
     "end_time": "2024-06-30T20:59:54.431962",
     "exception": false,
     "start_time": "2024-06-30T20:59:54.423138",
     "status": "completed"
    },
    "tags": []
   },
   "outputs": [],
   "source": [
    "PBcell_sampleDF.drop('sampleID', axis=1, inplace=True)"
   ]
  },
  {
   "cell_type": "code",
   "execution_count": 13,
   "id": "5502e45d-5c72-4440-a8c1-5b299cac6e2d",
   "metadata": {
    "execution": {
     "iopub.execute_input": "2024-06-30T20:59:54.443925Z",
     "iopub.status.busy": "2024-06-30T20:59:54.443531Z",
     "iopub.status.idle": "2024-06-30T20:59:54.446948Z",
     "shell.execute_reply": "2024-06-30T20:59:54.446665Z"
    },
    "papermill": {
     "duration": 0.010146,
     "end_time": "2024-06-30T20:59:54.447699",
     "exception": false,
     "start_time": "2024-06-30T20:59:54.437553",
     "status": "completed"
    },
    "tags": []
   },
   "outputs": [
    {
     "data": {
      "text/plain": [
       "AnnData object with n_obs × n_vars = 2098 × 120\n",
       "    obs: 'sampleID', 'Level1', 'disease', 'n_observation'"
      ]
     },
     "execution_count": 13,
     "metadata": {},
     "output_type": "execute_result"
    }
   ],
   "source": [
    "adataPBcell_sample = sc.AnnData(X = PBcell_sampleDF, obs = adataPBcell.obs)\n",
    "adataPBcell_sample"
   ]
  },
  {
   "cell_type": "markdown",
   "id": "d59574be-684b-4082-b8b6-7d11930362ad",
   "metadata": {
    "papermill": {
     "duration": 0.014289,
     "end_time": "2024-06-30T20:59:54.467702",
     "exception": false,
     "start_time": "2024-06-30T20:59:54.453413",
     "status": "completed"
    },
    "tags": []
   },
   "source": [
    "### Saving pseudobulk adata objects"
   ]
  },
  {
   "cell_type": "code",
   "execution_count": 14,
   "id": "5947e6f8-ac27-4702-ba5d-aa9e1ba79f6a",
   "metadata": {
    "execution": {
     "iopub.execute_input": "2024-06-30T20:59:54.479575Z",
     "iopub.status.busy": "2024-06-30T20:59:54.479438Z",
     "iopub.status.idle": "2024-06-30T20:59:54.511090Z",
     "shell.execute_reply": "2024-06-30T20:59:54.510759Z"
    },
    "papermill": {
     "duration": 0.038461,
     "end_time": "2024-06-30T20:59:54.511874",
     "exception": false,
     "start_time": "2024-06-30T20:59:54.473413",
     "status": "completed"
    },
    "tags": []
   },
   "outputs": [],
   "source": [
    "adataPBcell.write(here(adataPATHlist[0].replace('/scPoli_','/PSEUDOBULKs/scPoli_PSEUDOBULKcell_')), compression='gzip')"
   ]
  },
  {
   "cell_type": "code",
   "execution_count": 15,
   "id": "e9485945-bccf-419a-9420-c1e4f3aa262d",
   "metadata": {
    "execution": {
     "iopub.execute_input": "2024-06-30T20:59:54.523970Z",
     "iopub.status.busy": "2024-06-30T20:59:54.523832Z",
     "iopub.status.idle": "2024-06-30T20:59:54.545985Z",
     "shell.execute_reply": "2024-06-30T20:59:54.545687Z"
    },
    "papermill": {
     "duration": 0.029302,
     "end_time": "2024-06-30T20:59:54.546740",
     "exception": false,
     "start_time": "2024-06-30T20:59:54.517438",
     "status": "completed"
    },
    "tags": []
   },
   "outputs": [],
   "source": [
    "adataPBsample.write(here(adataPATHlist[0].replace('/scPoli_','/PSEUDOBULKs/scPoli_PSEUDOBULKsample_')), compression='gzip')"
   ]
  },
  {
   "cell_type": "code",
   "execution_count": 16,
   "id": "9c2daa40-3279-4b24-8aad-65ee0ba758c8",
   "metadata": {
    "execution": {
     "iopub.execute_input": "2024-06-30T20:59:54.559216Z",
     "iopub.status.busy": "2024-06-30T20:59:54.558904Z",
     "iopub.status.idle": "2024-06-30T20:59:54.596713Z",
     "shell.execute_reply": "2024-06-30T20:59:54.596389Z"
    },
    "papermill": {
     "duration": 0.044843,
     "end_time": "2024-06-30T20:59:54.597603",
     "exception": false,
     "start_time": "2024-06-30T20:59:54.552760",
     "status": "completed"
    },
    "tags": []
   },
   "outputs": [],
   "source": [
    "adataPBcell_sample.write(here(adataPATHlist[0].replace('/scPoli_','/PSEUDOBULKs/scPoli_PSEUDOBULKcellSample_')), compression='gzip')"
   ]
  },
  {
   "cell_type": "code",
   "execution_count": null,
   "id": "8a70d9f6-7a44-45ee-8470-702bd7af1e0b",
   "metadata": {
    "papermill": {
     "duration": 0.005673,
     "end_time": "2024-06-30T20:59:54.609102",
     "exception": false,
     "start_time": "2024-06-30T20:59:54.603429",
     "status": "completed"
    },
    "tags": []
   },
   "outputs": [],
   "source": []
  }
 ],
 "metadata": {
  "kernelspec": {
   "display_name": "Python 3 (ipykernel)",
   "language": "python",
   "name": "python3"
  },
  "language_info": {
   "codemirror_mode": {
    "name": "ipython",
    "version": 3
   },
   "file_extension": ".py",
   "mimetype": "text/x-python",
   "name": "python",
   "nbconvert_exporter": "python",
   "pygments_lexer": "ipython3",
   "version": "3.12.3"
  },
  "papermill": {
   "default_parameters": {},
   "duration": 4.927934,
   "end_time": "2024-06-30T20:59:55.129827",
   "environment_variables": {},
   "exception": null,
   "input_path": "03_generating_PSEUDOBULKs.ipynb",
   "output_path": "executed_notebooks/03_generating_PSEUDOBULKs_scPoli_VALIDATION_2_20_100_run2_k6f7ol23.h5ad.ipynb",
   "parameters": {
    "adataPATH": "03_downstream_analysis/08_PatientClassifier/scPoli/results/scPoli_VALIDATION_2_20_100_run2_k6f7ol23.h5ad"
   },
   "start_time": "2024-06-30T20:59:50.201893",
   "version": "2.6.0"
  }
 },
 "nbformat": 4,
 "nbformat_minor": 5
}