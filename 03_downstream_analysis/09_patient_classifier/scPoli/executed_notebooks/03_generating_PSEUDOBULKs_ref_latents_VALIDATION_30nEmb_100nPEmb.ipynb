{
 "cells": [
  {
   "cell_type": "code",
   "execution_count": 1,
   "id": "c90c1a4c",
   "metadata": {
    "execution": {
     "iopub.execute_input": "2024-06-30T20:56:12.053533Z",
     "iopub.status.busy": "2024-06-30T20:56:12.053248Z",
     "iopub.status.idle": "2024-06-30T20:56:12.055807Z",
     "shell.execute_reply": "2024-06-30T20:56:12.055451Z"
    },
    "papermill": {
     "duration": 0.011943,
     "end_time": "2024-06-30T20:56:12.056613",
     "exception": false,
     "start_time": "2024-06-30T20:56:12.044670",
     "status": "completed"
    },
    "tags": [
     "injected-parameters"
    ]
   },
   "outputs": [],
   "source": [
    "# Parameters\n",
    "adataPATH = \"03_downstream_analysis/08_PatientClassifier/scPoli/results/scPoli_ref_latents_VALIDATION_2_30_100_*.h5ad\"\n"
   ]
  },
  {
   "cell_type": "raw",
   "id": "bf9880bd-3aef-477b-807d-37e3c5603037",
   "metadata": {
    "execution": {
     "iopub.execute_input": "2024-06-29T08:23:25.403219Z",
     "iopub.status.busy": "2024-06-29T08:23:25.402857Z",
     "iopub.status.idle": "2024-06-29T08:23:25.406428Z",
     "shell.execute_reply": "2024-06-29T08:23:25.406014Z",
     "shell.execute_reply.started": "2024-06-29T08:23:25.403185Z"
    },
    "papermill": {
     "duration": 0.006351,
     "end_time": "2024-06-30T20:56:12.069747",
     "exception": false,
     "start_time": "2024-06-30T20:56:12.063396",
     "status": "completed"
    },
    "tags": [],
    "vscode": {
     "languageId": "raw"
    }
   },
   "source": [
    "adataMAINpath = '03_downstream_analysis/08_PatientClassifier/scPoli/results/scPoli_2_100_20_*.h5ad'\n",
    "\n",
    "adataVALpath = '03_downstream_analysis/08_PatientClassifier/scPoli/results/scPoli_VALIDATION_2_20_20*.h5ad'\n",
    "adataEXCpath = '03_downstream_analysis/08_PatientClassifier/scPoli/results/scPoli_EXCLUDED_2_100_20_run1_pd5nyb4g.h5ad'\n",
    "adataEXTpath = '03_downstream_analysis/08_PatientClassifier/scPoli/results/scPoli_EXTERNAL_2_100_20_run1_pd5nyb4g.h5ad'\n",
    "\n",
    "adataPATH = adataVALpath"
   ]
  },
  {
   "cell_type": "code",
   "execution_count": 2,
   "id": "d3ccb10a-7201-43d0-a593-2b4650ff3451",
   "metadata": {
    "execution": {
     "iopub.execute_input": "2024-06-30T20:56:12.080658Z",
     "iopub.status.busy": "2024-06-30T20:56:12.080336Z",
     "iopub.status.idle": "2024-06-30T20:56:12.083141Z",
     "shell.execute_reply": "2024-06-30T20:56:12.082785Z"
    },
    "papermill": {
     "duration": 0.009249,
     "end_time": "2024-06-30T20:56:12.083967",
     "exception": false,
     "start_time": "2024-06-30T20:56:12.074718",
     "status": "completed"
    },
    "tags": []
   },
   "outputs": [
    {
     "name": "stdout",
     "output_type": "stream",
     "text": [
      "adataPATH = 03_downstream_analysis/08_PatientClassifier/scPoli/results/scPoli_ref_latents_VALIDATION_2_30_100_*.h5ad\n"
     ]
    }
   ],
   "source": [
    "for v in ['adataPATH']:\n",
    "    if v in locals() or v in globals():\n",
    "        print(f\"{v} = {eval(v)}\")\n",
    "    else:\n",
    "        raise Exception(f\"{v} not specified\")"
   ]
  },
  {
   "cell_type": "code",
   "execution_count": 3,
   "id": "888fb5f4-9ab7-4196-a282-7a7e92a43971",
   "metadata": {
    "execution": {
     "iopub.execute_input": "2024-06-30T20:56:12.094891Z",
     "iopub.status.busy": "2024-06-30T20:56:12.094599Z",
     "iopub.status.idle": "2024-06-30T20:56:13.471558Z",
     "shell.execute_reply": "2024-06-30T20:56:13.471055Z"
    },
    "papermill": {
     "duration": 1.383544,
     "end_time": "2024-06-30T20:56:13.472556",
     "exception": false,
     "start_time": "2024-06-30T20:56:12.089012",
     "status": "completed"
    },
    "tags": []
   },
   "outputs": [],
   "source": [
    "import os\n",
    "import sys\n",
    "from glob import glob\n",
    "\n",
    "import scanpy as sc\n",
    "import pandas as pd\n",
    "\n",
    "from pyprojroot import here\n",
    "\n",
    "sys.path.insert(1, str(here('bin')))\n",
    "# Import custom functions\n",
    "from customPythonFunctions import aggregating_features"
   ]
  },
  {
   "cell_type": "markdown",
   "id": "ba4905ae-4546-4ef4-b57b-950441ab079d",
   "metadata": {
    "papermill": {
     "duration": 0.004839,
     "end_time": "2024-06-30T20:56:13.482677",
     "exception": false,
     "start_time": "2024-06-30T20:56:13.477838",
     "status": "completed"
    },
    "tags": []
   },
   "source": [
    "### Loading data"
   ]
  },
  {
   "cell_type": "code",
   "execution_count": 4,
   "id": "539cbbbb-3503-4f51-bf04-f007f928ebd1",
   "metadata": {
    "execution": {
     "iopub.execute_input": "2024-06-30T20:56:13.493615Z",
     "iopub.status.busy": "2024-06-30T20:56:13.493237Z",
     "iopub.status.idle": "2024-06-30T20:56:13.497361Z",
     "shell.execute_reply": "2024-06-30T20:56:13.496970Z"
    },
    "papermill": {
     "duration": 0.01042,
     "end_time": "2024-06-30T20:56:13.498138",
     "exception": false,
     "start_time": "2024-06-30T20:56:13.487718",
     "status": "completed"
    },
    "tags": []
   },
   "outputs": [],
   "source": [
    "adataPATHlist = glob(str(here(adataPATH)))\n",
    "assert(len(adataPATHlist) == 1)"
   ]
  },
  {
   "cell_type": "code",
   "execution_count": 5,
   "id": "0fcfce0a-896b-4dc0-8e5e-46749205c84f",
   "metadata": {
    "execution": {
     "iopub.execute_input": "2024-06-30T20:56:13.509371Z",
     "iopub.status.busy": "2024-06-30T20:56:13.508926Z",
     "iopub.status.idle": "2024-06-30T20:56:21.449003Z",
     "shell.execute_reply": "2024-06-30T20:56:21.448537Z"
    },
    "papermill": {
     "duration": 7.946519,
     "end_time": "2024-06-30T20:56:21.449906",
     "exception": false,
     "start_time": "2024-06-30T20:56:13.503387",
     "status": "completed"
    },
    "tags": []
   },
   "outputs": [
    {
     "data": {
      "text/plain": [
       "AnnData object with n_obs × n_vars = 4435922 × 30\n",
       "    obs: 'studyID', 'libraryID', 'sampleID', 'chemistry', 'disease', 'sex', 'binned_age', 'Level1', 'Level2'\n",
       "    uns: 'chemistry', 'sampleID'"
      ]
     },
     "execution_count": 5,
     "metadata": {},
     "output_type": "execute_result"
    }
   ],
   "source": [
    "adata = sc.read_h5ad(adataPATHlist[0])\n",
    "adata"
   ]
  },
  {
   "cell_type": "markdown",
   "id": "44e868b3-0771-4225-bd79-a4b179bc672b",
   "metadata": {
    "papermill": {
     "duration": 0.005381,
     "end_time": "2024-06-30T20:56:21.461422",
     "exception": false,
     "start_time": "2024-06-30T20:56:21.456041",
     "status": "completed"
    },
    "tags": []
   },
   "source": [
    "#### Generating PSEUDOBULKs"
   ]
  },
  {
   "cell_type": "markdown",
   "id": "97d09fc5-d05c-471e-87fa-fe58ccbe47ac",
   "metadata": {
    "papermill": {
     "duration": 0.012495,
     "end_time": "2024-06-30T20:56:21.479192",
     "exception": false,
     "start_time": "2024-06-30T20:56:21.466697",
     "status": "completed"
    },
    "tags": []
   },
   "source": [
    "**Aggregating cell latent features**"
   ]
  },
  {
   "cell_type": "code",
   "execution_count": 6,
   "id": "81223976-fcf6-4354-8964-b12d76468636",
   "metadata": {
    "execution": {
     "iopub.execute_input": "2024-06-30T20:56:21.491210Z",
     "iopub.status.busy": "2024-06-30T20:56:21.490784Z",
     "iopub.status.idle": "2024-06-30T20:56:23.254345Z",
     "shell.execute_reply": "2024-06-30T20:56:23.253868Z"
    },
    "papermill": {
     "duration": 1.770915,
     "end_time": "2024-06-30T20:56:23.255165",
     "exception": false,
     "start_time": "2024-06-30T20:56:21.484250",
     "status": "completed"
    },
    "tags": []
   },
   "outputs": [
    {
     "data": {
      "text/plain": [
       "AnnData object with n_obs × n_vars = 11372 × 30\n",
       "    obs: 'sampleID', 'Level1', 'disease', 'n_observation'"
      ]
     },
     "execution_count": 6,
     "metadata": {},
     "output_type": "execute_result"
    }
   ],
   "source": [
    "adataPBcell = aggregating_features(Z = adata.X, \n",
    "                             obsDF = adata.obs[['sampleID','Level1','disease']], \n",
    "                             mode = 'mean', \n",
    "                             obs_names_col=['sampleID','Level1'], \n",
    "                             min_observation=0)\n",
    "adataPBcell"
   ]
  },
  {
   "cell_type": "code",
   "execution_count": null,
   "id": "8495038e-aebd-4003-bd94-c1e49f47249e",
   "metadata": {
    "papermill": {
     "duration": 0.005586,
     "end_time": "2024-06-30T20:56:23.268689",
     "exception": false,
     "start_time": "2024-06-30T20:56:23.263103",
     "status": "completed"
    },
    "tags": []
   },
   "outputs": [],
   "source": []
  },
  {
   "cell_type": "markdown",
   "id": "6d602bad-4793-4aa4-b3d7-d118d413a0fc",
   "metadata": {
    "papermill": {
     "duration": 0.005092,
     "end_time": "2024-06-30T20:56:23.279586",
     "exception": false,
     "start_time": "2024-06-30T20:56:23.274494",
     "status": "completed"
    },
    "tags": []
   },
   "source": [
    "**Extracting sample embedding**"
   ]
  },
  {
   "cell_type": "code",
   "execution_count": 7,
   "id": "e2c14f02",
   "metadata": {
    "execution": {
     "iopub.execute_input": "2024-06-30T20:56:23.290955Z",
     "iopub.status.busy": "2024-06-30T20:56:23.290530Z",
     "iopub.status.idle": "2024-06-30T20:56:23.300513Z",
     "shell.execute_reply": "2024-06-30T20:56:23.300134Z"
    },
    "papermill": {
     "duration": 0.016522,
     "end_time": "2024-06-30T20:56:23.301341",
     "exception": false,
     "start_time": "2024-06-30T20:56:23.284819",
     "status": "completed"
    },
    "tags": []
   },
   "outputs": [
    {
     "data": {
      "text/plain": [
       "AnnData object with n_obs × n_vars = 817 × 100\n",
       "    obs: 'sampleID', 'disease', 'Level1'"
      ]
     },
     "execution_count": 7,
     "metadata": {},
     "output_type": "execute_result"
    }
   ],
   "source": [
    "adataPBsample = adata.uns['sampleID'].copy()\n",
    "adataPBsample.obs['sampleID'] = adataPBsample.obs.index\n",
    "adataPBsample = adataPBsample[adataPBsample.obs['sampleID'].isin(adataPBcell.obs['sampleID'])]\n",
    "\n",
    "adataPBsample.obs = adataPBsample.obs.merge(adataPBcell.obs.groupby('sampleID').agg({'disease':'first'}), left_index=True, right_index=True)\n",
    "adataPBsample.obs['Level1'] = 'sample'\n",
    "adataPBsample"
   ]
  },
  {
   "cell_type": "markdown",
   "id": "2d4fe137-7d68-4e86-a85c-3c1a3d3c4c71",
   "metadata": {
    "papermill": {
     "duration": 0.005364,
     "end_time": "2024-06-30T20:56:23.312177",
     "exception": false,
     "start_time": "2024-06-30T20:56:23.306813",
     "status": "completed"
    },
    "tags": []
   },
   "source": [
    "**Merging cell and patient latent features**"
   ]
  },
  {
   "cell_type": "code",
   "execution_count": 8,
   "id": "a326d2b1",
   "metadata": {
    "execution": {
     "iopub.execute_input": "2024-06-30T20:56:23.324599Z",
     "iopub.status.busy": "2024-06-30T20:56:23.324073Z",
     "iopub.status.idle": "2024-06-30T20:56:23.326951Z",
     "shell.execute_reply": "2024-06-30T20:56:23.326588Z"
    },
    "papermill": {
     "duration": 0.010234,
     "end_time": "2024-06-30T20:56:23.327720",
     "exception": false,
     "start_time": "2024-06-30T20:56:23.317486",
     "status": "completed"
    },
    "tags": []
   },
   "outputs": [],
   "source": [
    "PBcellDF = adataPBcell.to_df()\n",
    "PBcellDF['sampleID'] = adataPBcell.obs['sampleID']"
   ]
  },
  {
   "cell_type": "code",
   "execution_count": 9,
   "id": "1a597f46-d9c5-403b-b81e-5738ca206682",
   "metadata": {
    "execution": {
     "iopub.execute_input": "2024-06-30T20:56:23.339418Z",
     "iopub.status.busy": "2024-06-30T20:56:23.338980Z",
     "iopub.status.idle": "2024-06-30T20:56:23.341652Z",
     "shell.execute_reply": "2024-06-30T20:56:23.341295Z"
    },
    "papermill": {
     "duration": 0.00918,
     "end_time": "2024-06-30T20:56:23.342450",
     "exception": false,
     "start_time": "2024-06-30T20:56:23.333270",
     "status": "completed"
    },
    "tags": []
   },
   "outputs": [],
   "source": [
    "PBsampleDF = adataPBsample.to_df()\n",
    "PBsampleDF['sampleID'] = adataPBsample.obs['sampleID']"
   ]
  },
  {
   "cell_type": "code",
   "execution_count": 10,
   "id": "bb384751-fe1b-4635-a90d-fd98ae61b173",
   "metadata": {
    "execution": {
     "iopub.execute_input": "2024-06-30T20:56:23.354339Z",
     "iopub.status.busy": "2024-06-30T20:56:23.354039Z",
     "iopub.status.idle": "2024-06-30T20:56:23.362520Z",
     "shell.execute_reply": "2024-06-30T20:56:23.362057Z"
    },
    "papermill": {
     "duration": 0.015489,
     "end_time": "2024-06-30T20:56:23.363314",
     "exception": false,
     "start_time": "2024-06-30T20:56:23.347825",
     "status": "completed"
    },
    "tags": []
   },
   "outputs": [],
   "source": [
    "PBcell_sampleDF = PBcellDF.merge(PBsampleDF, on='sampleID', how='left')"
   ]
  },
  {
   "cell_type": "code",
   "execution_count": 11,
   "id": "f7250713-e24d-4614-9cbd-eed702340640",
   "metadata": {
    "execution": {
     "iopub.execute_input": "2024-06-30T20:56:23.379590Z",
     "iopub.status.busy": "2024-06-30T20:56:23.379447Z",
     "iopub.status.idle": "2024-06-30T20:56:23.381972Z",
     "shell.execute_reply": "2024-06-30T20:56:23.381601Z"
    },
    "papermill": {
     "duration": 0.008985,
     "end_time": "2024-06-30T20:56:23.382773",
     "exception": false,
     "start_time": "2024-06-30T20:56:23.373788",
     "status": "completed"
    },
    "tags": []
   },
   "outputs": [],
   "source": [
    "assert(adataPBcell.obs['sampleID'].tolist() == PBcell_sampleDF['sampleID'].tolist())"
   ]
  },
  {
   "cell_type": "code",
   "execution_count": 12,
   "id": "abea2252-6a12-4b89-9f0d-6d6df90064fb",
   "metadata": {
    "execution": {
     "iopub.execute_input": "2024-06-30T20:56:23.394701Z",
     "iopub.status.busy": "2024-06-30T20:56:23.394305Z",
     "iopub.status.idle": "2024-06-30T20:56:23.397733Z",
     "shell.execute_reply": "2024-06-30T20:56:23.397322Z"
    },
    "papermill": {
     "duration": 0.01042,
     "end_time": "2024-06-30T20:56:23.398529",
     "exception": false,
     "start_time": "2024-06-30T20:56:23.388109",
     "status": "completed"
    },
    "tags": []
   },
   "outputs": [],
   "source": [
    "PBcell_sampleDF.drop('sampleID', axis=1, inplace=True)"
   ]
  },
  {
   "cell_type": "code",
   "execution_count": 13,
   "id": "5502e45d-5c72-4440-a8c1-5b299cac6e2d",
   "metadata": {
    "execution": {
     "iopub.execute_input": "2024-06-30T20:56:23.410587Z",
     "iopub.status.busy": "2024-06-30T20:56:23.410099Z",
     "iopub.status.idle": "2024-06-30T20:56:23.414455Z",
     "shell.execute_reply": "2024-06-30T20:56:23.414082Z"
    },
    "papermill": {
     "duration": 0.011274,
     "end_time": "2024-06-30T20:56:23.415220",
     "exception": false,
     "start_time": "2024-06-30T20:56:23.403946",
     "status": "completed"
    },
    "tags": []
   },
   "outputs": [
    {
     "data": {
      "text/plain": [
       "AnnData object with n_obs × n_vars = 11372 × 130\n",
       "    obs: 'sampleID', 'Level1', 'disease', 'n_observation'"
      ]
     },
     "execution_count": 13,
     "metadata": {},
     "output_type": "execute_result"
    }
   ],
   "source": [
    "adataPBcell_sample = sc.AnnData(X = PBcell_sampleDF, obs = adataPBcell.obs)\n",
    "adataPBcell_sample"
   ]
  },
  {
   "cell_type": "markdown",
   "id": "d59574be-684b-4082-b8b6-7d11930362ad",
   "metadata": {
    "papermill": {
     "duration": 0.005643,
     "end_time": "2024-06-30T20:56:23.427204",
     "exception": false,
     "start_time": "2024-06-30T20:56:23.421561",
     "status": "completed"
    },
    "tags": []
   },
   "source": [
    "### Saving pseudobulk adata objects"
   ]
  },
  {
   "cell_type": "code",
   "execution_count": 14,
   "id": "5947e6f8-ac27-4702-ba5d-aa9e1ba79f6a",
   "metadata": {
    "execution": {
     "iopub.execute_input": "2024-06-30T20:56:23.443037Z",
     "iopub.status.busy": "2024-06-30T20:56:23.442697Z",
     "iopub.status.idle": "2024-06-30T20:56:23.528575Z",
     "shell.execute_reply": "2024-06-30T20:56:23.528123Z"
    },
    "papermill": {
     "duration": 0.096664,
     "end_time": "2024-06-30T20:56:23.529455",
     "exception": false,
     "start_time": "2024-06-30T20:56:23.432791",
     "status": "completed"
    },
    "tags": []
   },
   "outputs": [],
   "source": [
    "adataPBcell.write(here(adataPATHlist[0].replace('/scPoli_','/PSEUDOBULKs/scPoli_PSEUDOBULKcell_')), compression='gzip')"
   ]
  },
  {
   "cell_type": "code",
   "execution_count": 15,
   "id": "e9485945-bccf-419a-9420-c1e4f3aa262d",
   "metadata": {
    "execution": {
     "iopub.execute_input": "2024-06-30T20:56:23.540995Z",
     "iopub.status.busy": "2024-06-30T20:56:23.540852Z",
     "iopub.status.idle": "2024-06-30T20:56:23.570513Z",
     "shell.execute_reply": "2024-06-30T20:56:23.570114Z"
    },
    "papermill": {
     "duration": 0.036444,
     "end_time": "2024-06-30T20:56:23.571386",
     "exception": false,
     "start_time": "2024-06-30T20:56:23.534942",
     "status": "completed"
    },
    "tags": []
   },
   "outputs": [],
   "source": [
    "adataPBsample.write(here(adataPATHlist[0].replace('/scPoli_','/PSEUDOBULKs/scPoli_PSEUDOBULKsample_')), compression='gzip')"
   ]
  },
  {
   "cell_type": "code",
   "execution_count": 16,
   "id": "9c2daa40-3279-4b24-8aad-65ee0ba758c8",
   "metadata": {
    "execution": {
     "iopub.execute_input": "2024-06-30T20:56:23.583562Z",
     "iopub.status.busy": "2024-06-30T20:56:23.583423Z",
     "iopub.status.idle": "2024-06-30T20:56:23.712358Z",
     "shell.execute_reply": "2024-06-30T20:56:23.711844Z"
    },
    "papermill": {
     "duration": 0.136332,
     "end_time": "2024-06-30T20:56:23.713525",
     "exception": false,
     "start_time": "2024-06-30T20:56:23.577193",
     "status": "completed"
    },
    "tags": []
   },
   "outputs": [],
   "source": [
    "adataPBcell_sample.write(here(adataPATHlist[0].replace('/scPoli_','/PSEUDOBULKs/scPoli_PSEUDOBULKcellSample_')), compression='gzip')"
   ]
  },
  {
   "cell_type": "code",
   "execution_count": null,
   "id": "8a70d9f6-7a44-45ee-8470-702bd7af1e0b",
   "metadata": {
    "papermill": {
     "duration": 0.005559,
     "end_time": "2024-06-30T20:56:23.724875",
     "exception": false,
     "start_time": "2024-06-30T20:56:23.719316",
     "status": "completed"
    },
    "tags": []
   },
   "outputs": [],
   "source": []
  }
 ],
 "metadata": {
  "kernelspec": {
   "display_name": "Python 3 (ipykernel)",
   "language": "python",
   "name": "python3"
  },
  "language_info": {
   "codemirror_mode": {
    "name": "ipython",
    "version": 3
   },
   "file_extension": ".py",
   "mimetype": "text/x-python",
   "name": "python",
   "nbconvert_exporter": "python",
   "pygments_lexer": "ipython3",
   "version": "3.12.3"
  },
  "papermill": {
   "default_parameters": {},
   "duration": 13.511412,
   "end_time": "2024-06-30T20:56:24.345891",
   "environment_variables": {},
   "exception": null,
   "input_path": "03_generating_PSEUDOBULKs.ipynb",
   "output_path": "executed_notebooks/03_generating_PSEUDOBULKs_ref_latents_VALIDATION_30nEmb_100nPEmb.ipynb",
   "parameters": {
    "adataPATH": "03_downstream_analysis/08_PatientClassifier/scPoli/results/scPoli_ref_latents_VALIDATION_2_30_100_*.h5ad"
   },
   "start_time": "2024-06-30T20:56:10.834479",
   "version": "2.6.0"
  }
 },
 "nbformat": 4,
 "nbformat_minor": 5
}