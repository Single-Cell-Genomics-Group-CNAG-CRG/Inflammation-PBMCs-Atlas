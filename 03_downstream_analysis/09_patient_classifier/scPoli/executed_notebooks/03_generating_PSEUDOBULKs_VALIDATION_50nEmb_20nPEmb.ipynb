{
 "cells": [
  {
   "cell_type": "code",
   "execution_count": 1,
   "id": "49b5e989",
   "metadata": {
    "execution": {
     "iopub.execute_input": "2024-06-30T20:54:56.903035Z",
     "iopub.status.busy": "2024-06-30T20:54:56.902884Z",
     "iopub.status.idle": "2024-06-30T20:54:56.905561Z",
     "shell.execute_reply": "2024-06-30T20:54:56.905158Z"
    },
    "papermill": {
     "duration": 0.010237,
     "end_time": "2024-06-30T20:54:56.906390",
     "exception": false,
     "start_time": "2024-06-30T20:54:56.896153",
     "status": "completed"
    },
    "tags": [
     "injected-parameters"
    ]
   },
   "outputs": [],
   "source": [
    "# Parameters\n",
    "adataPATH = \"03_downstream_analysis/08_PatientClassifier/scPoli/results/scPoli_VALIDATION_2_50_20_*.h5ad\"\n"
   ]
  },
  {
   "cell_type": "raw",
   "id": "bf9880bd-3aef-477b-807d-37e3c5603037",
   "metadata": {
    "execution": {
     "iopub.execute_input": "2024-06-29T08:23:25.403219Z",
     "iopub.status.busy": "2024-06-29T08:23:25.402857Z",
     "iopub.status.idle": "2024-06-29T08:23:25.406428Z",
     "shell.execute_reply": "2024-06-29T08:23:25.406014Z",
     "shell.execute_reply.started": "2024-06-29T08:23:25.403185Z"
    },
    "papermill": {
     "duration": 0.005126,
     "end_time": "2024-06-30T20:54:56.918057",
     "exception": false,
     "start_time": "2024-06-30T20:54:56.912931",
     "status": "completed"
    },
    "tags": [],
    "vscode": {
     "languageId": "raw"
    }
   },
   "source": [
    "adataMAINpath = '03_downstream_analysis/08_PatientClassifier/scPoli/results/scPoli_2_100_20_*.h5ad'\n",
    "\n",
    "adataVALpath = '03_downstream_analysis/08_PatientClassifier/scPoli/results/scPoli_VALIDATION_2_20_20*.h5ad'\n",
    "adataEXCpath = '03_downstream_analysis/08_PatientClassifier/scPoli/results/scPoli_EXCLUDED_2_100_20_run1_pd5nyb4g.h5ad'\n",
    "adataEXTpath = '03_downstream_analysis/08_PatientClassifier/scPoli/results/scPoli_EXTERNAL_2_100_20_run1_pd5nyb4g.h5ad'\n",
    "\n",
    "adataPATH = adataVALpath"
   ]
  },
  {
   "cell_type": "code",
   "execution_count": 2,
   "id": "d3ccb10a-7201-43d0-a593-2b4650ff3451",
   "metadata": {
    "execution": {
     "iopub.execute_input": "2024-06-30T20:54:56.928991Z",
     "iopub.status.busy": "2024-06-30T20:54:56.928707Z",
     "iopub.status.idle": "2024-06-30T20:54:56.931646Z",
     "shell.execute_reply": "2024-06-30T20:54:56.931246Z"
    },
    "papermill": {
     "duration": 0.009292,
     "end_time": "2024-06-30T20:54:56.932447",
     "exception": false,
     "start_time": "2024-06-30T20:54:56.923155",
     "status": "completed"
    },
    "tags": []
   },
   "outputs": [
    {
     "name": "stdout",
     "output_type": "stream",
     "text": [
      "adataPATH = 03_downstream_analysis/08_PatientClassifier/scPoli/results/scPoli_VALIDATION_2_50_20_*.h5ad\n"
     ]
    }
   ],
   "source": [
    "for v in ['adataPATH']:\n",
    "    if v in locals() or v in globals():\n",
    "        print(f\"{v} = {eval(v)}\")\n",
    "    else:\n",
    "        raise Exception(f\"{v} not specified\")"
   ]
  },
  {
   "cell_type": "code",
   "execution_count": 3,
   "id": "888fb5f4-9ab7-4196-a282-7a7e92a43971",
   "metadata": {
    "execution": {
     "iopub.execute_input": "2024-06-30T20:54:56.943714Z",
     "iopub.status.busy": "2024-06-30T20:54:56.943443Z",
     "iopub.status.idle": "2024-06-30T20:54:58.357514Z",
     "shell.execute_reply": "2024-06-30T20:54:58.357027Z"
    },
    "papermill": {
     "duration": 1.420955,
     "end_time": "2024-06-30T20:54:58.358681",
     "exception": false,
     "start_time": "2024-06-30T20:54:56.937726",
     "status": "completed"
    },
    "tags": []
   },
   "outputs": [],
   "source": [
    "import os\n",
    "import sys\n",
    "from glob import glob\n",
    "\n",
    "import scanpy as sc\n",
    "import pandas as pd\n",
    "\n",
    "from pyprojroot import here\n",
    "\n",
    "sys.path.insert(1, str(here('bin')))\n",
    "# Import custom functions\n",
    "from customPythonFunctions import aggregating_features"
   ]
  },
  {
   "cell_type": "markdown",
   "id": "ba4905ae-4546-4ef4-b57b-950441ab079d",
   "metadata": {
    "papermill": {
     "duration": 0.004938,
     "end_time": "2024-06-30T20:54:58.369459",
     "exception": false,
     "start_time": "2024-06-30T20:54:58.364521",
     "status": "completed"
    },
    "tags": []
   },
   "source": [
    "### Loading data"
   ]
  },
  {
   "cell_type": "code",
   "execution_count": 4,
   "id": "539cbbbb-3503-4f51-bf04-f007f928ebd1",
   "metadata": {
    "execution": {
     "iopub.execute_input": "2024-06-30T20:54:58.380900Z",
     "iopub.status.busy": "2024-06-30T20:54:58.380540Z",
     "iopub.status.idle": "2024-06-30T20:54:58.384573Z",
     "shell.execute_reply": "2024-06-30T20:54:58.384195Z"
    },
    "papermill": {
     "duration": 0.010749,
     "end_time": "2024-06-30T20:54:58.385361",
     "exception": false,
     "start_time": "2024-06-30T20:54:58.374612",
     "status": "completed"
    },
    "tags": []
   },
   "outputs": [],
   "source": [
    "adataPATHlist = glob(str(here(adataPATH)))\n",
    "assert(len(adataPATHlist) == 1)"
   ]
  },
  {
   "cell_type": "code",
   "execution_count": 5,
   "id": "0fcfce0a-896b-4dc0-8e5e-46749205c84f",
   "metadata": {
    "execution": {
     "iopub.execute_input": "2024-06-30T20:54:58.396037Z",
     "iopub.status.busy": "2024-06-30T20:54:58.395899Z",
     "iopub.status.idle": "2024-06-30T20:55:00.134928Z",
     "shell.execute_reply": "2024-06-30T20:55:00.134491Z"
    },
    "papermill": {
     "duration": 1.74538,
     "end_time": "2024-06-30T20:55:00.135762",
     "exception": false,
     "start_time": "2024-06-30T20:54:58.390382",
     "status": "completed"
    },
    "tags": []
   },
   "outputs": [
    {
     "data": {
      "text/plain": [
       "AnnData object with n_obs × n_vars = 849922 × 50\n",
       "    obs: 'studyID', 'libraryID', 'sampleID', 'chemistry', 'technology', 'disease', 'sex', 'binned_age', 'Level1', 'Level2', 'conditions_combined', 'Level1_unc', 'Level2_unc'\n",
       "    uns: 'chemistry', 'sampleID'"
      ]
     },
     "execution_count": 5,
     "metadata": {},
     "output_type": "execute_result"
    }
   ],
   "source": [
    "adata = sc.read_h5ad(adataPATHlist[0])\n",
    "adata"
   ]
  },
  {
   "cell_type": "markdown",
   "id": "44e868b3-0771-4225-bd79-a4b179bc672b",
   "metadata": {
    "papermill": {
     "duration": 0.00504,
     "end_time": "2024-06-30T20:55:00.146458",
     "exception": false,
     "start_time": "2024-06-30T20:55:00.141418",
     "status": "completed"
    },
    "tags": []
   },
   "source": [
    "#### Generating PSEUDOBULKs"
   ]
  },
  {
   "cell_type": "markdown",
   "id": "97d09fc5-d05c-471e-87fa-fe58ccbe47ac",
   "metadata": {
    "papermill": {
     "duration": 0.005162,
     "end_time": "2024-06-30T20:55:00.157167",
     "exception": false,
     "start_time": "2024-06-30T20:55:00.152005",
     "status": "completed"
    },
    "tags": []
   },
   "source": [
    "**Aggregating cell latent features**"
   ]
  },
  {
   "cell_type": "code",
   "execution_count": 6,
   "id": "81223976-fcf6-4354-8964-b12d76468636",
   "metadata": {
    "execution": {
     "iopub.execute_input": "2024-06-30T20:55:00.168642Z",
     "iopub.status.busy": "2024-06-30T20:55:00.168430Z",
     "iopub.status.idle": "2024-06-30T20:55:00.568047Z",
     "shell.execute_reply": "2024-06-30T20:55:00.567604Z"
    },
    "papermill": {
     "duration": 0.406422,
     "end_time": "2024-06-30T20:55:00.568874",
     "exception": false,
     "start_time": "2024-06-30T20:55:00.162452",
     "status": "completed"
    },
    "tags": []
   },
   "outputs": [
    {
     "data": {
      "text/plain": [
       "AnnData object with n_obs × n_vars = 2110 × 50\n",
       "    obs: 'sampleID', 'Level1', 'disease', 'n_observation'"
      ]
     },
     "execution_count": 6,
     "metadata": {},
     "output_type": "execute_result"
    }
   ],
   "source": [
    "adataPBcell = aggregating_features(Z = adata.X, \n",
    "                             obsDF = adata.obs[['sampleID','Level1','disease']], \n",
    "                             mode = 'mean', \n",
    "                             obs_names_col=['sampleID','Level1'], \n",
    "                             min_observation=0)\n",
    "adataPBcell"
   ]
  },
  {
   "cell_type": "code",
   "execution_count": null,
   "id": "8495038e-aebd-4003-bd94-c1e49f47249e",
   "metadata": {
    "papermill": {
     "duration": 0.005159,
     "end_time": "2024-06-30T20:55:00.581120",
     "exception": false,
     "start_time": "2024-06-30T20:55:00.575961",
     "status": "completed"
    },
    "tags": []
   },
   "outputs": [],
   "source": []
  },
  {
   "cell_type": "markdown",
   "id": "6d602bad-4793-4aa4-b3d7-d118d413a0fc",
   "metadata": {
    "papermill": {
     "duration": 0.005262,
     "end_time": "2024-06-30T20:55:00.592341",
     "exception": false,
     "start_time": "2024-06-30T20:55:00.587079",
     "status": "completed"
    },
    "tags": []
   },
   "source": [
    "**Extracting sample embedding**"
   ]
  },
  {
   "cell_type": "code",
   "execution_count": 7,
   "id": "e2c14f02",
   "metadata": {
    "execution": {
     "iopub.execute_input": "2024-06-30T20:55:00.603313Z",
     "iopub.status.busy": "2024-06-30T20:55:00.602964Z",
     "iopub.status.idle": "2024-06-30T20:55:00.611360Z",
     "shell.execute_reply": "2024-06-30T20:55:00.610988Z"
    },
    "papermill": {
     "duration": 0.014798,
     "end_time": "2024-06-30T20:55:00.612143",
     "exception": false,
     "start_time": "2024-06-30T20:55:00.597345",
     "status": "completed"
    },
    "tags": []
   },
   "outputs": [
    {
     "data": {
      "text/plain": [
       "AnnData object with n_obs × n_vars = 144 × 20\n",
       "    obs: 'sampleID', 'disease', 'Level1'"
      ]
     },
     "execution_count": 7,
     "metadata": {},
     "output_type": "execute_result"
    }
   ],
   "source": [
    "adataPBsample = adata.uns['sampleID'].copy()\n",
    "adataPBsample.obs['sampleID'] = adataPBsample.obs.index\n",
    "adataPBsample = adataPBsample[adataPBsample.obs['sampleID'].isin(adataPBcell.obs['sampleID'])]\n",
    "\n",
    "adataPBsample.obs = adataPBsample.obs.merge(adataPBcell.obs.groupby('sampleID').agg({'disease':'first'}), left_index=True, right_index=True)\n",
    "adataPBsample.obs['Level1'] = 'sample'\n",
    "adataPBsample"
   ]
  },
  {
   "cell_type": "markdown",
   "id": "2d4fe137-7d68-4e86-a85c-3c1a3d3c4c71",
   "metadata": {
    "papermill": {
     "duration": 0.005371,
     "end_time": "2024-06-30T20:55:00.622803",
     "exception": false,
     "start_time": "2024-06-30T20:55:00.617432",
     "status": "completed"
    },
    "tags": []
   },
   "source": [
    "**Merging cell and patient latent features**"
   ]
  },
  {
   "cell_type": "code",
   "execution_count": 8,
   "id": "a326d2b1",
   "metadata": {
    "execution": {
     "iopub.execute_input": "2024-06-30T20:55:00.633843Z",
     "iopub.status.busy": "2024-06-30T20:55:00.633633Z",
     "iopub.status.idle": "2024-06-30T20:55:00.635975Z",
     "shell.execute_reply": "2024-06-30T20:55:00.635605Z"
    },
    "papermill": {
     "duration": 0.008738,
     "end_time": "2024-06-30T20:55:00.636761",
     "exception": false,
     "start_time": "2024-06-30T20:55:00.628023",
     "status": "completed"
    },
    "tags": []
   },
   "outputs": [],
   "source": [
    "PBcellDF = adataPBcell.to_df()\n",
    "PBcellDF['sampleID'] = adataPBcell.obs['sampleID']"
   ]
  },
  {
   "cell_type": "code",
   "execution_count": 9,
   "id": "1a597f46-d9c5-403b-b81e-5738ca206682",
   "metadata": {
    "execution": {
     "iopub.execute_input": "2024-06-30T20:55:00.648073Z",
     "iopub.status.busy": "2024-06-30T20:55:00.647785Z",
     "iopub.status.idle": "2024-06-30T20:55:00.650138Z",
     "shell.execute_reply": "2024-06-30T20:55:00.649773Z"
    },
    "papermill": {
     "duration": 0.008736,
     "end_time": "2024-06-30T20:55:00.650894",
     "exception": false,
     "start_time": "2024-06-30T20:55:00.642158",
     "status": "completed"
    },
    "tags": []
   },
   "outputs": [],
   "source": [
    "PBsampleDF = adataPBsample.to_df()\n",
    "PBsampleDF['sampleID'] = adataPBsample.obs['sampleID']"
   ]
  },
  {
   "cell_type": "code",
   "execution_count": 10,
   "id": "bb384751-fe1b-4635-a90d-fd98ae61b173",
   "metadata": {
    "execution": {
     "iopub.execute_input": "2024-06-30T20:55:00.663084Z",
     "iopub.status.busy": "2024-06-30T20:55:00.662882Z",
     "iopub.status.idle": "2024-06-30T20:55:00.666946Z",
     "shell.execute_reply": "2024-06-30T20:55:00.666576Z"
    },
    "papermill": {
     "duration": 0.01151,
     "end_time": "2024-06-30T20:55:00.667703",
     "exception": false,
     "start_time": "2024-06-30T20:55:00.656193",
     "status": "completed"
    },
    "tags": []
   },
   "outputs": [],
   "source": [
    "PBcell_sampleDF = PBcellDF.merge(PBsampleDF, on='sampleID', how='left')"
   ]
  },
  {
   "cell_type": "code",
   "execution_count": 11,
   "id": "f7250713-e24d-4614-9cbd-eed702340640",
   "metadata": {
    "execution": {
     "iopub.execute_input": "2024-06-30T20:55:00.679694Z",
     "iopub.status.busy": "2024-06-30T20:55:00.679495Z",
     "iopub.status.idle": "2024-06-30T20:55:00.681701Z",
     "shell.execute_reply": "2024-06-30T20:55:00.681342Z"
    },
    "papermill": {
     "duration": 0.009185,
     "end_time": "2024-06-30T20:55:00.682507",
     "exception": false,
     "start_time": "2024-06-30T20:55:00.673322",
     "status": "completed"
    },
    "tags": []
   },
   "outputs": [],
   "source": [
    "assert(adataPBcell.obs['sampleID'].tolist() == PBcell_sampleDF['sampleID'].tolist())"
   ]
  },
  {
   "cell_type": "code",
   "execution_count": 12,
   "id": "abea2252-6a12-4b89-9f0d-6d6df90064fb",
   "metadata": {
    "execution": {
     "iopub.execute_input": "2024-06-30T20:55:00.694594Z",
     "iopub.status.busy": "2024-06-30T20:55:00.694325Z",
     "iopub.status.idle": "2024-06-30T20:55:00.696742Z",
     "shell.execute_reply": "2024-06-30T20:55:00.696378Z"
    },
    "papermill": {
     "duration": 0.009636,
     "end_time": "2024-06-30T20:55:00.697493",
     "exception": false,
     "start_time": "2024-06-30T20:55:00.687857",
     "status": "completed"
    },
    "tags": []
   },
   "outputs": [],
   "source": [
    "PBcell_sampleDF.drop('sampleID', axis=1, inplace=True)"
   ]
  },
  {
   "cell_type": "code",
   "execution_count": 13,
   "id": "5502e45d-5c72-4440-a8c1-5b299cac6e2d",
   "metadata": {
    "execution": {
     "iopub.execute_input": "2024-06-30T20:55:00.708884Z",
     "iopub.status.busy": "2024-06-30T20:55:00.708682Z",
     "iopub.status.idle": "2024-06-30T20:55:00.712095Z",
     "shell.execute_reply": "2024-06-30T20:55:00.711741Z"
    },
    "papermill": {
     "duration": 0.010045,
     "end_time": "2024-06-30T20:55:00.712897",
     "exception": false,
     "start_time": "2024-06-30T20:55:00.702852",
     "status": "completed"
    },
    "tags": []
   },
   "outputs": [
    {
     "data": {
      "text/plain": [
       "AnnData object with n_obs × n_vars = 2110 × 70\n",
       "    obs: 'sampleID', 'Level1', 'disease', 'n_observation'"
      ]
     },
     "execution_count": 13,
     "metadata": {},
     "output_type": "execute_result"
    }
   ],
   "source": [
    "adataPBcell_sample = sc.AnnData(X = PBcell_sampleDF, obs = adataPBcell.obs)\n",
    "adataPBcell_sample"
   ]
  },
  {
   "cell_type": "markdown",
   "id": "d59574be-684b-4082-b8b6-7d11930362ad",
   "metadata": {
    "papermill": {
     "duration": 0.005512,
     "end_time": "2024-06-30T20:55:00.724187",
     "exception": false,
     "start_time": "2024-06-30T20:55:00.718675",
     "status": "completed"
    },
    "tags": []
   },
   "source": [
    "### Saving pseudobulk adata objects"
   ]
  },
  {
   "cell_type": "code",
   "execution_count": 14,
   "id": "5947e6f8-ac27-4702-ba5d-aa9e1ba79f6a",
   "metadata": {
    "execution": {
     "iopub.execute_input": "2024-06-30T20:55:00.736067Z",
     "iopub.status.busy": "2024-06-30T20:55:00.735793Z",
     "iopub.status.idle": "2024-06-30T20:55:00.774776Z",
     "shell.execute_reply": "2024-06-30T20:55:00.774366Z"
    },
    "papermill": {
     "duration": 0.045822,
     "end_time": "2024-06-30T20:55:00.775588",
     "exception": false,
     "start_time": "2024-06-30T20:55:00.729766",
     "status": "completed"
    },
    "tags": []
   },
   "outputs": [],
   "source": [
    "adataPBcell.write(here(adataPATHlist[0].replace('/scPoli_','/PSEUDOBULKs/scPoli_PSEUDOBULKcell_')), compression='gzip')"
   ]
  },
  {
   "cell_type": "code",
   "execution_count": 15,
   "id": "e9485945-bccf-419a-9420-c1e4f3aa262d",
   "metadata": {
    "execution": {
     "iopub.execute_input": "2024-06-30T20:55:00.788129Z",
     "iopub.status.busy": "2024-06-30T20:55:00.787842Z",
     "iopub.status.idle": "2024-06-30T20:55:00.807542Z",
     "shell.execute_reply": "2024-06-30T20:55:00.807154Z"
    },
    "papermill": {
     "duration": 0.026889,
     "end_time": "2024-06-30T20:55:00.808322",
     "exception": false,
     "start_time": "2024-06-30T20:55:00.781433",
     "status": "completed"
    },
    "tags": []
   },
   "outputs": [],
   "source": [
    "adataPBsample.write(here(adataPATHlist[0].replace('/scPoli_','/PSEUDOBULKs/scPoli_PSEUDOBULKsample_')), compression='gzip')"
   ]
  },
  {
   "cell_type": "code",
   "execution_count": 16,
   "id": "9c2daa40-3279-4b24-8aad-65ee0ba758c8",
   "metadata": {
    "execution": {
     "iopub.execute_input": "2024-06-30T20:55:00.820242Z",
     "iopub.status.busy": "2024-06-30T20:55:00.820049Z",
     "iopub.status.idle": "2024-06-30T20:55:00.859706Z",
     "shell.execute_reply": "2024-06-30T20:55:00.859304Z"
    },
    "papermill": {
     "duration": 0.046508,
     "end_time": "2024-06-30T20:55:00.860522",
     "exception": false,
     "start_time": "2024-06-30T20:55:00.814014",
     "status": "completed"
    },
    "tags": []
   },
   "outputs": [],
   "source": [
    "adataPBcell_sample.write(here(adataPATHlist[0].replace('/scPoli_','/PSEUDOBULKs/scPoli_PSEUDOBULKcellSample_')), compression='gzip')"
   ]
  },
  {
   "cell_type": "code",
   "execution_count": null,
   "id": "8a70d9f6-7a44-45ee-8470-702bd7af1e0b",
   "metadata": {
    "papermill": {
     "duration": 0.006783,
     "end_time": "2024-06-30T20:55:00.872815",
     "exception": false,
     "start_time": "2024-06-30T20:55:00.866032",
     "status": "completed"
    },
    "tags": []
   },
   "outputs": [],
   "source": []
  }
 ],
 "metadata": {
  "kernelspec": {
   "display_name": "Python 3 (ipykernel)",
   "language": "python",
   "name": "python3"
  },
  "language_info": {
   "codemirror_mode": {
    "name": "ipython",
    "version": 3
   },
   "file_extension": ".py",
   "mimetype": "text/x-python",
   "name": "python",
   "nbconvert_exporter": "python",
   "pygments_lexer": "ipython3",
   "version": "3.12.3"
  },
  "papermill": {
   "default_parameters": {},
   "duration": 5.463948,
   "end_time": "2024-06-30T20:55:01.394049",
   "environment_variables": {},
   "exception": null,
   "input_path": "03_generating_PSEUDOBULKs.ipynb",
   "output_path": "executed_notebooks/03_generating_PSEUDOBULKs_VALIDATION_50nEmb_20nPEmb.ipynb",
   "parameters": {
    "adataPATH": "03_downstream_analysis/08_PatientClassifier/scPoli/results/scPoli_VALIDATION_2_50_20_*.h5ad"
   },
   "start_time": "2024-06-30T20:54:55.930101",
   "version": "2.6.0"
  }
 },
 "nbformat": 4,
 "nbformat_minor": 5
}