{
 "cells": [
  {
   "cell_type": "code",
   "execution_count": 1,
   "id": "0244fc21",
   "metadata": {
    "execution": {
     "iopub.execute_input": "2024-06-30T20:58:26.804127Z",
     "iopub.status.busy": "2024-06-30T20:58:26.803981Z",
     "iopub.status.idle": "2024-06-30T20:58:26.806610Z",
     "shell.execute_reply": "2024-06-30T20:58:26.806241Z"
    },
    "papermill": {
     "duration": 0.010449,
     "end_time": "2024-06-30T20:58:26.807469",
     "exception": false,
     "start_time": "2024-06-30T20:58:26.797020",
     "status": "completed"
    },
    "tags": [
     "injected-parameters"
    ]
   },
   "outputs": [],
   "source": [
    "# Parameters\n",
    "adataPATH = \"03_downstream_analysis/08_PatientClassifier/scPoli/results/scPoli_ref_latents_EXTERNAL_2_100_20_run1_pd5nyb4g.h5ad\"\n"
   ]
  },
  {
   "cell_type": "raw",
   "id": "bf9880bd-3aef-477b-807d-37e3c5603037",
   "metadata": {
    "execution": {
     "iopub.execute_input": "2024-06-29T08:23:25.403219Z",
     "iopub.status.busy": "2024-06-29T08:23:25.402857Z",
     "iopub.status.idle": "2024-06-29T08:23:25.406428Z",
     "shell.execute_reply": "2024-06-29T08:23:25.406014Z",
     "shell.execute_reply.started": "2024-06-29T08:23:25.403185Z"
    },
    "papermill": {
     "duration": 0.005561,
     "end_time": "2024-06-30T20:58:26.818889",
     "exception": false,
     "start_time": "2024-06-30T20:58:26.813328",
     "status": "completed"
    },
    "tags": [],
    "vscode": {
     "languageId": "raw"
    }
   },
   "source": [
    "adataMAINpath = '03_downstream_analysis/08_PatientClassifier/scPoli/results/scPoli_2_100_20_*.h5ad'\n",
    "\n",
    "adataVALpath = '03_downstream_analysis/08_PatientClassifier/scPoli/results/scPoli_VALIDATION_2_20_20*.h5ad'\n",
    "adataEXCpath = '03_downstream_analysis/08_PatientClassifier/scPoli/results/scPoli_EXCLUDED_2_100_20_run1_pd5nyb4g.h5ad'\n",
    "adataEXTpath = '03_downstream_analysis/08_PatientClassifier/scPoli/results/scPoli_EXTERNAL_2_100_20_run1_pd5nyb4g.h5ad'\n",
    "\n",
    "adataPATH = adataVALpath"
   ]
  },
  {
   "cell_type": "code",
   "execution_count": 2,
   "id": "d3ccb10a-7201-43d0-a593-2b4650ff3451",
   "metadata": {
    "execution": {
     "iopub.execute_input": "2024-06-30T20:58:26.831006Z",
     "iopub.status.busy": "2024-06-30T20:58:26.830623Z",
     "iopub.status.idle": "2024-06-30T20:58:26.833650Z",
     "shell.execute_reply": "2024-06-30T20:58:26.833279Z"
    },
    "papermill": {
     "duration": 0.010066,
     "end_time": "2024-06-30T20:58:26.834440",
     "exception": false,
     "start_time": "2024-06-30T20:58:26.824374",
     "status": "completed"
    },
    "tags": []
   },
   "outputs": [
    {
     "name": "stdout",
     "output_type": "stream",
     "text": [
      "adataPATH = 03_downstream_analysis/08_PatientClassifier/scPoli/results/scPoli_ref_latents_EXTERNAL_2_100_20_run1_pd5nyb4g.h5ad\n"
     ]
    }
   ],
   "source": [
    "for v in ['adataPATH']:\n",
    "    if v in locals() or v in globals():\n",
    "        print(f\"{v} = {eval(v)}\")\n",
    "    else:\n",
    "        raise Exception(f\"{v} not specified\")"
   ]
  },
  {
   "cell_type": "code",
   "execution_count": 3,
   "id": "888fb5f4-9ab7-4196-a282-7a7e92a43971",
   "metadata": {
    "execution": {
     "iopub.execute_input": "2024-06-30T20:58:26.846011Z",
     "iopub.status.busy": "2024-06-30T20:58:26.845684Z",
     "iopub.status.idle": "2024-06-30T20:58:28.286488Z",
     "shell.execute_reply": "2024-06-30T20:58:28.285983Z"
    },
    "papermill": {
     "duration": 1.447853,
     "end_time": "2024-06-30T20:58:28.287493",
     "exception": false,
     "start_time": "2024-06-30T20:58:26.839640",
     "status": "completed"
    },
    "tags": []
   },
   "outputs": [],
   "source": [
    "import os\n",
    "import sys\n",
    "from glob import glob\n",
    "\n",
    "import scanpy as sc\n",
    "import pandas as pd\n",
    "\n",
    "from pyprojroot import here\n",
    "\n",
    "sys.path.insert(1, str(here('bin')))\n",
    "# Import custom functions\n",
    "from customPythonFunctions import aggregating_features"
   ]
  },
  {
   "cell_type": "markdown",
   "id": "ba4905ae-4546-4ef4-b57b-950441ab079d",
   "metadata": {
    "papermill": {
     "duration": 0.005172,
     "end_time": "2024-06-30T20:58:28.298044",
     "exception": false,
     "start_time": "2024-06-30T20:58:28.292872",
     "status": "completed"
    },
    "tags": []
   },
   "source": [
    "### Loading data"
   ]
  },
  {
   "cell_type": "code",
   "execution_count": 4,
   "id": "539cbbbb-3503-4f51-bf04-f007f928ebd1",
   "metadata": {
    "execution": {
     "iopub.execute_input": "2024-06-30T20:58:28.309480Z",
     "iopub.status.busy": "2024-06-30T20:58:28.308965Z",
     "iopub.status.idle": "2024-06-30T20:58:28.312616Z",
     "shell.execute_reply": "2024-06-30T20:58:28.312241Z"
    },
    "papermill": {
     "duration": 0.010038,
     "end_time": "2024-06-30T20:58:28.313387",
     "exception": false,
     "start_time": "2024-06-30T20:58:28.303349",
     "status": "completed"
    },
    "tags": []
   },
   "outputs": [],
   "source": [
    "adataPATHlist = glob(str(here(adataPATH)))\n",
    "assert(len(adataPATHlist) == 1)"
   ]
  },
  {
   "cell_type": "code",
   "execution_count": 5,
   "id": "0fcfce0a-896b-4dc0-8e5e-46749205c84f",
   "metadata": {
    "execution": {
     "iopub.execute_input": "2024-06-30T20:58:28.323916Z",
     "iopub.status.busy": "2024-06-30T20:58:28.323512Z",
     "iopub.status.idle": "2024-06-30T20:58:44.292680Z",
     "shell.execute_reply": "2024-06-30T20:58:44.292240Z"
    },
    "papermill": {
     "duration": 15.975321,
     "end_time": "2024-06-30T20:58:44.293538",
     "exception": false,
     "start_time": "2024-06-30T20:58:28.318217",
     "status": "completed"
    },
    "tags": []
   },
   "outputs": [
    {
     "data": {
      "text/plain": [
       "AnnData object with n_obs × n_vars = 4435922 × 100\n",
       "    obs: 'studyID', 'libraryID', 'sampleID', 'chemistry', 'disease', 'sex', 'binned_age', 'Level1', 'Level2'\n",
       "    uns: 'chemistry', 'sampleID'"
      ]
     },
     "execution_count": 5,
     "metadata": {},
     "output_type": "execute_result"
    }
   ],
   "source": [
    "adata = sc.read_h5ad(adataPATHlist[0])\n",
    "adata"
   ]
  },
  {
   "cell_type": "markdown",
   "id": "44e868b3-0771-4225-bd79-a4b179bc672b",
   "metadata": {
    "papermill": {
     "duration": 0.007059,
     "end_time": "2024-06-30T20:58:44.305498",
     "exception": false,
     "start_time": "2024-06-30T20:58:44.298439",
     "status": "completed"
    },
    "tags": []
   },
   "source": [
    "#### Generating PSEUDOBULKs"
   ]
  },
  {
   "cell_type": "markdown",
   "id": "97d09fc5-d05c-471e-87fa-fe58ccbe47ac",
   "metadata": {
    "papermill": {
     "duration": 0.005305,
     "end_time": "2024-06-30T20:58:44.316015",
     "exception": false,
     "start_time": "2024-06-30T20:58:44.310710",
     "status": "completed"
    },
    "tags": []
   },
   "source": [
    "**Aggregating cell latent features**"
   ]
  },
  {
   "cell_type": "code",
   "execution_count": 6,
   "id": "81223976-fcf6-4354-8964-b12d76468636",
   "metadata": {
    "execution": {
     "iopub.execute_input": "2024-06-30T20:58:44.328367Z",
     "iopub.status.busy": "2024-06-30T20:58:44.327781Z",
     "iopub.status.idle": "2024-06-30T20:58:46.809186Z",
     "shell.execute_reply": "2024-06-30T20:58:46.808732Z"
    },
    "papermill": {
     "duration": 2.488726,
     "end_time": "2024-06-30T20:58:46.809993",
     "exception": false,
     "start_time": "2024-06-30T20:58:44.321267",
     "status": "completed"
    },
    "tags": []
   },
   "outputs": [
    {
     "data": {
      "text/plain": [
       "AnnData object with n_obs × n_vars = 11372 × 100\n",
       "    obs: 'sampleID', 'Level1', 'disease', 'n_observation'"
      ]
     },
     "execution_count": 6,
     "metadata": {},
     "output_type": "execute_result"
    }
   ],
   "source": [
    "adataPBcell = aggregating_features(Z = adata.X, \n",
    "                             obsDF = adata.obs[['sampleID','Level1','disease']], \n",
    "                             mode = 'mean', \n",
    "                             obs_names_col=['sampleID','Level1'], \n",
    "                             min_observation=0)\n",
    "adataPBcell"
   ]
  },
  {
   "cell_type": "code",
   "execution_count": null,
   "id": "8495038e-aebd-4003-bd94-c1e49f47249e",
   "metadata": {
    "papermill": {
     "duration": 0.005263,
     "end_time": "2024-06-30T20:58:46.820617",
     "exception": false,
     "start_time": "2024-06-30T20:58:46.815354",
     "status": "completed"
    },
    "tags": []
   },
   "outputs": [],
   "source": []
  },
  {
   "cell_type": "markdown",
   "id": "6d602bad-4793-4aa4-b3d7-d118d413a0fc",
   "metadata": {
    "papermill": {
     "duration": 0.00537,
     "end_time": "2024-06-30T20:58:46.831715",
     "exception": false,
     "start_time": "2024-06-30T20:58:46.826345",
     "status": "completed"
    },
    "tags": []
   },
   "source": [
    "**Extracting sample embedding**"
   ]
  },
  {
   "cell_type": "code",
   "execution_count": 7,
   "id": "e2c14f02",
   "metadata": {
    "execution": {
     "iopub.execute_input": "2024-06-30T20:58:46.844399Z",
     "iopub.status.busy": "2024-06-30T20:58:46.844241Z",
     "iopub.status.idle": "2024-06-30T20:58:46.853908Z",
     "shell.execute_reply": "2024-06-30T20:58:46.853543Z"
    },
    "papermill": {
     "duration": 0.016325,
     "end_time": "2024-06-30T20:58:46.854684",
     "exception": false,
     "start_time": "2024-06-30T20:58:46.838359",
     "status": "completed"
    },
    "tags": []
   },
   "outputs": [
    {
     "data": {
      "text/plain": [
       "AnnData object with n_obs × n_vars = 817 × 20\n",
       "    obs: 'sampleID', 'disease', 'Level1'"
      ]
     },
     "execution_count": 7,
     "metadata": {},
     "output_type": "execute_result"
    }
   ],
   "source": [
    "adataPBsample = adata.uns['sampleID'].copy()\n",
    "adataPBsample.obs['sampleID'] = adataPBsample.obs.index\n",
    "adataPBsample = adataPBsample[adataPBsample.obs['sampleID'].isin(adataPBcell.obs['sampleID'])]\n",
    "\n",
    "adataPBsample.obs = adataPBsample.obs.merge(adataPBcell.obs.groupby('sampleID').agg({'disease':'first'}), left_index=True, right_index=True)\n",
    "adataPBsample.obs['Level1'] = 'sample'\n",
    "adataPBsample"
   ]
  },
  {
   "cell_type": "markdown",
   "id": "2d4fe137-7d68-4e86-a85c-3c1a3d3c4c71",
   "metadata": {
    "papermill": {
     "duration": 0.005489,
     "end_time": "2024-06-30T20:58:46.869797",
     "exception": false,
     "start_time": "2024-06-30T20:58:46.864308",
     "status": "completed"
    },
    "tags": []
   },
   "source": [
    "**Merging cell and patient latent features**"
   ]
  },
  {
   "cell_type": "code",
   "execution_count": 8,
   "id": "a326d2b1",
   "metadata": {
    "execution": {
     "iopub.execute_input": "2024-06-30T20:58:46.880948Z",
     "iopub.status.busy": "2024-06-30T20:58:46.880806Z",
     "iopub.status.idle": "2024-06-30T20:58:46.883254Z",
     "shell.execute_reply": "2024-06-30T20:58:46.882877Z"
    },
    "papermill": {
     "duration": 0.009037,
     "end_time": "2024-06-30T20:58:46.884040",
     "exception": false,
     "start_time": "2024-06-30T20:58:46.875003",
     "status": "completed"
    },
    "tags": []
   },
   "outputs": [],
   "source": [
    "PBcellDF = adataPBcell.to_df()\n",
    "PBcellDF['sampleID'] = adataPBcell.obs['sampleID']"
   ]
  },
  {
   "cell_type": "code",
   "execution_count": 9,
   "id": "1a597f46-d9c5-403b-b81e-5738ca206682",
   "metadata": {
    "execution": {
     "iopub.execute_input": "2024-06-30T20:58:46.902452Z",
     "iopub.status.busy": "2024-06-30T20:58:46.902316Z",
     "iopub.status.idle": "2024-06-30T20:58:46.904729Z",
     "shell.execute_reply": "2024-06-30T20:58:46.904356Z"
    },
    "papermill": {
     "duration": 0.009731,
     "end_time": "2024-06-30T20:58:46.905501",
     "exception": false,
     "start_time": "2024-06-30T20:58:46.895770",
     "status": "completed"
    },
    "tags": []
   },
   "outputs": [],
   "source": [
    "PBsampleDF = adataPBsample.to_df()\n",
    "PBsampleDF['sampleID'] = adataPBsample.obs['sampleID']"
   ]
  },
  {
   "cell_type": "code",
   "execution_count": 10,
   "id": "bb384751-fe1b-4635-a90d-fd98ae61b173",
   "metadata": {
    "execution": {
     "iopub.execute_input": "2024-06-30T20:58:46.917176Z",
     "iopub.status.busy": "2024-06-30T20:58:46.916860Z",
     "iopub.status.idle": "2024-06-30T20:58:46.924502Z",
     "shell.execute_reply": "2024-06-30T20:58:46.924031Z"
    },
    "papermill": {
     "duration": 0.014311,
     "end_time": "2024-06-30T20:58:46.925289",
     "exception": false,
     "start_time": "2024-06-30T20:58:46.910978",
     "status": "completed"
    },
    "tags": []
   },
   "outputs": [],
   "source": [
    "PBcell_sampleDF = PBcellDF.merge(PBsampleDF, on='sampleID', how='left')"
   ]
  },
  {
   "cell_type": "code",
   "execution_count": 11,
   "id": "f7250713-e24d-4614-9cbd-eed702340640",
   "metadata": {
    "execution": {
     "iopub.execute_input": "2024-06-30T20:58:46.937220Z",
     "iopub.status.busy": "2024-06-30T20:58:46.936849Z",
     "iopub.status.idle": "2024-06-30T20:58:46.939489Z",
     "shell.execute_reply": "2024-06-30T20:58:46.939113Z"
    },
    "papermill": {
     "duration": 0.00957,
     "end_time": "2024-06-30T20:58:46.940252",
     "exception": false,
     "start_time": "2024-06-30T20:58:46.930682",
     "status": "completed"
    },
    "tags": []
   },
   "outputs": [],
   "source": [
    "assert(adataPBcell.obs['sampleID'].tolist() == PBcell_sampleDF['sampleID'].tolist())"
   ]
  },
  {
   "cell_type": "code",
   "execution_count": 12,
   "id": "abea2252-6a12-4b89-9f0d-6d6df90064fb",
   "metadata": {
    "execution": {
     "iopub.execute_input": "2024-06-30T20:58:46.961199Z",
     "iopub.status.busy": "2024-06-30T20:58:46.960852Z",
     "iopub.status.idle": "2024-06-30T20:58:46.963913Z",
     "shell.execute_reply": "2024-06-30T20:58:46.963530Z"
    },
    "papermill": {
     "duration": 0.01046,
     "end_time": "2024-06-30T20:58:46.964701",
     "exception": false,
     "start_time": "2024-06-30T20:58:46.954241",
     "status": "completed"
    },
    "tags": []
   },
   "outputs": [],
   "source": [
    "PBcell_sampleDF.drop('sampleID', axis=1, inplace=True)"
   ]
  },
  {
   "cell_type": "code",
   "execution_count": 13,
   "id": "5502e45d-5c72-4440-a8c1-5b299cac6e2d",
   "metadata": {
    "execution": {
     "iopub.execute_input": "2024-06-30T20:58:46.976637Z",
     "iopub.status.busy": "2024-06-30T20:58:46.976295Z",
     "iopub.status.idle": "2024-06-30T20:58:46.980366Z",
     "shell.execute_reply": "2024-06-30T20:58:46.979992Z"
    },
    "papermill": {
     "duration": 0.010757,
     "end_time": "2024-06-30T20:58:46.981137",
     "exception": false,
     "start_time": "2024-06-30T20:58:46.970380",
     "status": "completed"
    },
    "tags": []
   },
   "outputs": [
    {
     "data": {
      "text/plain": [
       "AnnData object with n_obs × n_vars = 11372 × 120\n",
       "    obs: 'sampleID', 'Level1', 'disease', 'n_observation'"
      ]
     },
     "execution_count": 13,
     "metadata": {},
     "output_type": "execute_result"
    }
   ],
   "source": [
    "adataPBcell_sample = sc.AnnData(X = PBcell_sampleDF, obs = adataPBcell.obs)\n",
    "adataPBcell_sample"
   ]
  },
  {
   "cell_type": "markdown",
   "id": "d59574be-684b-4082-b8b6-7d11930362ad",
   "metadata": {
    "papermill": {
     "duration": 0.006683,
     "end_time": "2024-06-30T20:58:46.994036",
     "exception": false,
     "start_time": "2024-06-30T20:58:46.987353",
     "status": "completed"
    },
    "tags": []
   },
   "source": [
    "### Saving pseudobulk adata objects"
   ]
  },
  {
   "cell_type": "code",
   "execution_count": 14,
   "id": "5947e6f8-ac27-4702-ba5d-aa9e1ba79f6a",
   "metadata": {
    "execution": {
     "iopub.execute_input": "2024-06-30T20:58:47.006239Z",
     "iopub.status.busy": "2024-06-30T20:58:47.005907Z",
     "iopub.status.idle": "2024-06-30T20:58:47.203742Z",
     "shell.execute_reply": "2024-06-30T20:58:47.203256Z"
    },
    "papermill": {
     "duration": 0.204838,
     "end_time": "2024-06-30T20:58:47.204661",
     "exception": false,
     "start_time": "2024-06-30T20:58:46.999823",
     "status": "completed"
    },
    "tags": []
   },
   "outputs": [],
   "source": [
    "adataPBcell.write(here(adataPATHlist[0].replace('/scPoli_','/PSEUDOBULKs/scPoli_PSEUDOBULKcell_')), compression='gzip')"
   ]
  },
  {
   "cell_type": "code",
   "execution_count": 15,
   "id": "e9485945-bccf-419a-9420-c1e4f3aa262d",
   "metadata": {
    "execution": {
     "iopub.execute_input": "2024-06-30T20:58:47.218358Z",
     "iopub.status.busy": "2024-06-30T20:58:47.218107Z",
     "iopub.status.idle": "2024-06-30T20:58:47.244408Z",
     "shell.execute_reply": "2024-06-30T20:58:47.244010Z"
    },
    "papermill": {
     "duration": 0.033865,
     "end_time": "2024-06-30T20:58:47.245246",
     "exception": false,
     "start_time": "2024-06-30T20:58:47.211381",
     "status": "completed"
    },
    "tags": []
   },
   "outputs": [],
   "source": [
    "adataPBsample.write(here(adataPATHlist[0].replace('/scPoli_','/PSEUDOBULKs/scPoli_PSEUDOBULKsample_')), compression='gzip')"
   ]
  },
  {
   "cell_type": "code",
   "execution_count": 16,
   "id": "9c2daa40-3279-4b24-8aad-65ee0ba758c8",
   "metadata": {
    "execution": {
     "iopub.execute_input": "2024-06-30T20:58:47.261805Z",
     "iopub.status.busy": "2024-06-30T20:58:47.261528Z",
     "iopub.status.idle": "2024-06-30T20:58:47.452419Z",
     "shell.execute_reply": "2024-06-30T20:58:47.451909Z"
    },
    "papermill": {
     "duration": 0.197962,
     "end_time": "2024-06-30T20:58:47.453257",
     "exception": false,
     "start_time": "2024-06-30T20:58:47.255295",
     "status": "completed"
    },
    "tags": []
   },
   "outputs": [],
   "source": [
    "adataPBcell_sample.write(here(adataPATHlist[0].replace('/scPoli_','/PSEUDOBULKs/scPoli_PSEUDOBULKcellSample_')), compression='gzip')"
   ]
  },
  {
   "cell_type": "code",
   "execution_count": null,
   "id": "8a70d9f6-7a44-45ee-8470-702bd7af1e0b",
   "metadata": {
    "papermill": {
     "duration": 0.006321,
     "end_time": "2024-06-30T20:58:47.465378",
     "exception": false,
     "start_time": "2024-06-30T20:58:47.459057",
     "status": "completed"
    },
    "tags": []
   },
   "outputs": [],
   "source": []
  }
 ],
 "metadata": {
  "kernelspec": {
   "display_name": "Python 3 (ipykernel)",
   "language": "python",
   "name": "python3"
  },
  "language_info": {
   "codemirror_mode": {
    "name": "ipython",
    "version": 3
   },
   "file_extension": ".py",
   "mimetype": "text/x-python",
   "name": "python",
   "nbconvert_exporter": "python",
   "pygments_lexer": "ipython3",
   "version": "3.12.3"
  },
  "papermill": {
   "default_parameters": {},
   "duration": 22.250934,
   "end_time": "2024-06-30T20:58:48.086547",
   "environment_variables": {},
   "exception": null,
   "input_path": "03_generating_PSEUDOBULKs.ipynb",
   "output_path": "executed_notebooks/03_generating_PSEUDOBULKs_scPoli_ref_latents_EXTERNAL_2_100_20_run1_pd5nyb4g.h5ad.ipynb",
   "parameters": {
    "adataPATH": "03_downstream_analysis/08_PatientClassifier/scPoli/results/scPoli_ref_latents_EXTERNAL_2_100_20_run1_pd5nyb4g.h5ad"
   },
   "start_time": "2024-06-30T20:58:25.835613",
   "version": "2.6.0"
  }
 },
 "nbformat": 4,
 "nbformat_minor": 5
}