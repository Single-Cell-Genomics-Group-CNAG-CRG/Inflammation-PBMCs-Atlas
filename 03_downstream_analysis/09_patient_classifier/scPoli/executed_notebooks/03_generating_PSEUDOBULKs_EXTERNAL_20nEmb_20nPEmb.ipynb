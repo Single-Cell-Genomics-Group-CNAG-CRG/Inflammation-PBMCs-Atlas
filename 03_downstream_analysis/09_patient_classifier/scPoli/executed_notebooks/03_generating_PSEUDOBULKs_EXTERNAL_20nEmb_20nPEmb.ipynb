{
 "cells": [
  {
   "cell_type": "code",
   "execution_count": 1,
   "id": "cbe04060",
   "metadata": {
    "execution": {
     "iopub.execute_input": "2024-06-30T20:55:35.408882Z",
     "iopub.status.busy": "2024-06-30T20:55:35.408736Z",
     "iopub.status.idle": "2024-06-30T20:55:35.411381Z",
     "shell.execute_reply": "2024-06-30T20:55:35.410999Z"
    },
    "papermill": {
     "duration": 0.015087,
     "end_time": "2024-06-30T20:55:35.412212",
     "exception": false,
     "start_time": "2024-06-30T20:55:35.397125",
     "status": "completed"
    },
    "tags": [
     "injected-parameters"
    ]
   },
   "outputs": [],
   "source": [
    "# Parameters\n",
    "adataPATH = \"03_downstream_analysis/08_PatientClassifier/scPoli/results/scPoli_EXTERNAL_2_20_20_*.h5ad\"\n"
   ]
  },
  {
   "cell_type": "raw",
   "id": "bf9880bd-3aef-477b-807d-37e3c5603037",
   "metadata": {
    "execution": {
     "iopub.execute_input": "2024-06-29T08:23:25.403219Z",
     "iopub.status.busy": "2024-06-29T08:23:25.402857Z",
     "iopub.status.idle": "2024-06-29T08:23:25.406428Z",
     "shell.execute_reply": "2024-06-29T08:23:25.406014Z",
     "shell.execute_reply.started": "2024-06-29T08:23:25.403185Z"
    },
    "papermill": {
     "duration": 0.004804,
     "end_time": "2024-06-30T20:55:35.422056",
     "exception": false,
     "start_time": "2024-06-30T20:55:35.417252",
     "status": "completed"
    },
    "tags": [],
    "vscode": {
     "languageId": "raw"
    }
   },
   "source": [
    "adataMAINpath = '03_downstream_analysis/08_PatientClassifier/scPoli/results/scPoli_2_100_20_*.h5ad'\n",
    "\n",
    "adataVALpath = '03_downstream_analysis/08_PatientClassifier/scPoli/results/scPoli_VALIDATION_2_20_20*.h5ad'\n",
    "adataEXCpath = '03_downstream_analysis/08_PatientClassifier/scPoli/results/scPoli_EXCLUDED_2_100_20_run1_pd5nyb4g.h5ad'\n",
    "adataEXTpath = '03_downstream_analysis/08_PatientClassifier/scPoli/results/scPoli_EXTERNAL_2_100_20_run1_pd5nyb4g.h5ad'\n",
    "\n",
    "adataPATH = adataVALpath"
   ]
  },
  {
   "cell_type": "code",
   "execution_count": 2,
   "id": "d3ccb10a-7201-43d0-a593-2b4650ff3451",
   "metadata": {
    "execution": {
     "iopub.execute_input": "2024-06-30T20:55:35.431836Z",
     "iopub.status.busy": "2024-06-30T20:55:35.431697Z",
     "iopub.status.idle": "2024-06-30T20:55:35.434668Z",
     "shell.execute_reply": "2024-06-30T20:55:35.434287Z"
    },
    "papermill": {
     "duration": 0.00884,
     "end_time": "2024-06-30T20:55:35.435473",
     "exception": false,
     "start_time": "2024-06-30T20:55:35.426633",
     "status": "completed"
    },
    "tags": []
   },
   "outputs": [
    {
     "name": "stdout",
     "output_type": "stream",
     "text": [
      "adataPATH = 03_downstream_analysis/08_PatientClassifier/scPoli/results/scPoli_EXTERNAL_2_20_20_*.h5ad\n"
     ]
    }
   ],
   "source": [
    "for v in ['adataPATH']:\n",
    "    if v in locals() or v in globals():\n",
    "        print(f\"{v} = {eval(v)}\")\n",
    "    else:\n",
    "        raise Exception(f\"{v} not specified\")"
   ]
  },
  {
   "cell_type": "code",
   "execution_count": 3,
   "id": "888fb5f4-9ab7-4196-a282-7a7e92a43971",
   "metadata": {
    "execution": {
     "iopub.execute_input": "2024-06-30T20:55:35.446003Z",
     "iopub.status.busy": "2024-06-30T20:55:35.445559Z",
     "iopub.status.idle": "2024-06-30T20:55:36.933877Z",
     "shell.execute_reply": "2024-06-30T20:55:36.933464Z"
    },
    "papermill": {
     "duration": 1.49478,
     "end_time": "2024-06-30T20:55:36.935112",
     "exception": false,
     "start_time": "2024-06-30T20:55:35.440332",
     "status": "completed"
    },
    "tags": []
   },
   "outputs": [],
   "source": [
    "import os\n",
    "import sys\n",
    "from glob import glob\n",
    "\n",
    "import scanpy as sc\n",
    "import pandas as pd\n",
    "\n",
    "from pyprojroot import here\n",
    "\n",
    "sys.path.insert(1, str(here('bin')))\n",
    "# Import custom functions\n",
    "from customPythonFunctions import aggregating_features"
   ]
  },
  {
   "cell_type": "markdown",
   "id": "ba4905ae-4546-4ef4-b57b-950441ab079d",
   "metadata": {
    "papermill": {
     "duration": 0.00502,
     "end_time": "2024-06-30T20:55:36.945734",
     "exception": false,
     "start_time": "2024-06-30T20:55:36.940714",
     "status": "completed"
    },
    "tags": []
   },
   "source": [
    "### Loading data"
   ]
  },
  {
   "cell_type": "code",
   "execution_count": 4,
   "id": "539cbbbb-3503-4f51-bf04-f007f928ebd1",
   "metadata": {
    "execution": {
     "iopub.execute_input": "2024-06-30T20:55:36.956322Z",
     "iopub.status.busy": "2024-06-30T20:55:36.955840Z",
     "iopub.status.idle": "2024-06-30T20:55:36.959579Z",
     "shell.execute_reply": "2024-06-30T20:55:36.959286Z"
    },
    "papermill": {
     "duration": 0.009786,
     "end_time": "2024-06-30T20:55:36.960384",
     "exception": false,
     "start_time": "2024-06-30T20:55:36.950598",
     "status": "completed"
    },
    "tags": []
   },
   "outputs": [],
   "source": [
    "adataPATHlist = glob(str(here(adataPATH)))\n",
    "assert(len(adataPATHlist) == 1)"
   ]
  },
  {
   "cell_type": "code",
   "execution_count": 5,
   "id": "0fcfce0a-896b-4dc0-8e5e-46749205c84f",
   "metadata": {
    "execution": {
     "iopub.execute_input": "2024-06-30T20:55:36.970918Z",
     "iopub.status.busy": "2024-06-30T20:55:36.970653Z",
     "iopub.status.idle": "2024-06-30T20:55:38.016074Z",
     "shell.execute_reply": "2024-06-30T20:55:38.015718Z"
    },
    "papermill": {
     "duration": 1.051396,
     "end_time": "2024-06-30T20:55:38.016941",
     "exception": false,
     "start_time": "2024-06-30T20:55:36.965545",
     "status": "completed"
    },
    "tags": []
   },
   "outputs": [
    {
     "data": {
      "text/plain": [
       "AnnData object with n_obs × n_vars = 572872 × 20\n",
       "    obs: 'studyID', 'libraryID', 'sampleID', 'chemistry', 'technology', 'disease', 'sex', 'binned_age', 'Level1', 'Level1_unc', 'Level2', 'Level2_unc'\n",
       "    uns: 'chemistry', 'sampleID'"
      ]
     },
     "execution_count": 5,
     "metadata": {},
     "output_type": "execute_result"
    }
   ],
   "source": [
    "adata = sc.read_h5ad(adataPATHlist[0])\n",
    "adata"
   ]
  },
  {
   "cell_type": "markdown",
   "id": "44e868b3-0771-4225-bd79-a4b179bc672b",
   "metadata": {
    "papermill": {
     "duration": 0.005071,
     "end_time": "2024-06-30T20:55:38.027666",
     "exception": false,
     "start_time": "2024-06-30T20:55:38.022595",
     "status": "completed"
    },
    "tags": []
   },
   "source": [
    "#### Generating PSEUDOBULKs"
   ]
  },
  {
   "cell_type": "markdown",
   "id": "97d09fc5-d05c-471e-87fa-fe58ccbe47ac",
   "metadata": {
    "papermill": {
     "duration": 0.004813,
     "end_time": "2024-06-30T20:55:38.037582",
     "exception": false,
     "start_time": "2024-06-30T20:55:38.032769",
     "status": "completed"
    },
    "tags": []
   },
   "source": [
    "**Aggregating cell latent features**"
   ]
  },
  {
   "cell_type": "code",
   "execution_count": 6,
   "id": "81223976-fcf6-4354-8964-b12d76468636",
   "metadata": {
    "execution": {
     "iopub.execute_input": "2024-06-30T20:55:38.048164Z",
     "iopub.status.busy": "2024-06-30T20:55:38.047863Z",
     "iopub.status.idle": "2024-06-30T20:55:38.278467Z",
     "shell.execute_reply": "2024-06-30T20:55:38.278108Z"
    },
    "papermill": {
     "duration": 0.236962,
     "end_time": "2024-06-30T20:55:38.279328",
     "exception": false,
     "start_time": "2024-06-30T20:55:38.042366",
     "status": "completed"
    },
    "tags": []
   },
   "outputs": [
    {
     "data": {
      "text/plain": [
       "AnnData object with n_obs × n_vars = 1272 × 20\n",
       "    obs: 'sampleID', 'Level1', 'disease', 'n_observation'"
      ]
     },
     "execution_count": 6,
     "metadata": {},
     "output_type": "execute_result"
    }
   ],
   "source": [
    "adataPBcell = aggregating_features(Z = adata.X, \n",
    "                             obsDF = adata.obs[['sampleID','Level1','disease']], \n",
    "                             mode = 'mean', \n",
    "                             obs_names_col=['sampleID','Level1'], \n",
    "                             min_observation=0)\n",
    "adataPBcell"
   ]
  },
  {
   "cell_type": "code",
   "execution_count": null,
   "id": "8495038e-aebd-4003-bd94-c1e49f47249e",
   "metadata": {
    "papermill": {
     "duration": 0.005117,
     "end_time": "2024-06-30T20:55:38.290248",
     "exception": false,
     "start_time": "2024-06-30T20:55:38.285131",
     "status": "completed"
    },
    "tags": []
   },
   "outputs": [],
   "source": []
  },
  {
   "cell_type": "markdown",
   "id": "6d602bad-4793-4aa4-b3d7-d118d413a0fc",
   "metadata": {
    "papermill": {
     "duration": 0.004887,
     "end_time": "2024-06-30T20:55:38.300508",
     "exception": false,
     "start_time": "2024-06-30T20:55:38.295621",
     "status": "completed"
    },
    "tags": []
   },
   "source": [
    "**Extracting sample embedding**"
   ]
  },
  {
   "cell_type": "code",
   "execution_count": 7,
   "id": "e2c14f02",
   "metadata": {
    "execution": {
     "iopub.execute_input": "2024-06-30T20:55:38.311713Z",
     "iopub.status.busy": "2024-06-30T20:55:38.311426Z",
     "iopub.status.idle": "2024-06-30T20:55:38.319051Z",
     "shell.execute_reply": "2024-06-30T20:55:38.318769Z"
    },
    "papermill": {
     "duration": 0.013977,
     "end_time": "2024-06-30T20:55:38.319866",
     "exception": false,
     "start_time": "2024-06-30T20:55:38.305889",
     "status": "completed"
    },
    "tags": []
   },
   "outputs": [
    {
     "data": {
      "text/plain": [
       "AnnData object with n_obs × n_vars = 86 × 20\n",
       "    obs: 'sampleID', 'disease', 'Level1'"
      ]
     },
     "execution_count": 7,
     "metadata": {},
     "output_type": "execute_result"
    }
   ],
   "source": [
    "adataPBsample = adata.uns['sampleID'].copy()\n",
    "adataPBsample.obs['sampleID'] = adataPBsample.obs.index\n",
    "adataPBsample = adataPBsample[adataPBsample.obs['sampleID'].isin(adataPBcell.obs['sampleID'])]\n",
    "\n",
    "adataPBsample.obs = adataPBsample.obs.merge(adataPBcell.obs.groupby('sampleID').agg({'disease':'first'}), left_index=True, right_index=True)\n",
    "adataPBsample.obs['Level1'] = 'sample'\n",
    "adataPBsample"
   ]
  },
  {
   "cell_type": "markdown",
   "id": "2d4fe137-7d68-4e86-a85c-3c1a3d3c4c71",
   "metadata": {
    "papermill": {
     "duration": 0.005281,
     "end_time": "2024-06-30T20:55:38.330814",
     "exception": false,
     "start_time": "2024-06-30T20:55:38.325533",
     "status": "completed"
    },
    "tags": []
   },
   "source": [
    "**Merging cell and patient latent features**"
   ]
  },
  {
   "cell_type": "code",
   "execution_count": 8,
   "id": "a326d2b1",
   "metadata": {
    "execution": {
     "iopub.execute_input": "2024-06-30T20:55:38.343703Z",
     "iopub.status.busy": "2024-06-30T20:55:38.343431Z",
     "iopub.status.idle": "2024-06-30T20:55:38.345651Z",
     "shell.execute_reply": "2024-06-30T20:55:38.345358Z"
    },
    "papermill": {
     "duration": 0.008507,
     "end_time": "2024-06-30T20:55:38.346424",
     "exception": false,
     "start_time": "2024-06-30T20:55:38.337917",
     "status": "completed"
    },
    "tags": []
   },
   "outputs": [],
   "source": [
    "PBcellDF = adataPBcell.to_df()\n",
    "PBcellDF['sampleID'] = adataPBcell.obs['sampleID']"
   ]
  },
  {
   "cell_type": "code",
   "execution_count": 9,
   "id": "1a597f46-d9c5-403b-b81e-5738ca206682",
   "metadata": {
    "execution": {
     "iopub.execute_input": "2024-06-30T20:55:38.358359Z",
     "iopub.status.busy": "2024-06-30T20:55:38.357951Z",
     "iopub.status.idle": "2024-06-30T20:55:38.360510Z",
     "shell.execute_reply": "2024-06-30T20:55:38.360210Z"
    },
    "papermill": {
     "duration": 0.009301,
     "end_time": "2024-06-30T20:55:38.361274",
     "exception": false,
     "start_time": "2024-06-30T20:55:38.351973",
     "status": "completed"
    },
    "tags": []
   },
   "outputs": [],
   "source": [
    "PBsampleDF = adataPBsample.to_df()\n",
    "PBsampleDF['sampleID'] = adataPBsample.obs['sampleID']"
   ]
  },
  {
   "cell_type": "code",
   "execution_count": 10,
   "id": "bb384751-fe1b-4635-a90d-fd98ae61b173",
   "metadata": {
    "execution": {
     "iopub.execute_input": "2024-06-30T20:55:38.372724Z",
     "iopub.status.busy": "2024-06-30T20:55:38.372424Z",
     "iopub.status.idle": "2024-06-30T20:55:38.375934Z",
     "shell.execute_reply": "2024-06-30T20:55:38.375646Z"
    },
    "papermill": {
     "duration": 0.009763,
     "end_time": "2024-06-30T20:55:38.376679",
     "exception": false,
     "start_time": "2024-06-30T20:55:38.366916",
     "status": "completed"
    },
    "tags": []
   },
   "outputs": [],
   "source": [
    "PBcell_sampleDF = PBcellDF.merge(PBsampleDF, on='sampleID', how='left')"
   ]
  },
  {
   "cell_type": "code",
   "execution_count": 11,
   "id": "f7250713-e24d-4614-9cbd-eed702340640",
   "metadata": {
    "execution": {
     "iopub.execute_input": "2024-06-30T20:55:38.388164Z",
     "iopub.status.busy": "2024-06-30T20:55:38.387875Z",
     "iopub.status.idle": "2024-06-30T20:55:38.389979Z",
     "shell.execute_reply": "2024-06-30T20:55:38.389700Z"
    },
    "papermill": {
     "duration": 0.008969,
     "end_time": "2024-06-30T20:55:38.390739",
     "exception": false,
     "start_time": "2024-06-30T20:55:38.381770",
     "status": "completed"
    },
    "tags": []
   },
   "outputs": [],
   "source": [
    "assert(adataPBcell.obs['sampleID'].tolist() == PBcell_sampleDF['sampleID'].tolist())"
   ]
  },
  {
   "cell_type": "code",
   "execution_count": 12,
   "id": "abea2252-6a12-4b89-9f0d-6d6df90064fb",
   "metadata": {
    "execution": {
     "iopub.execute_input": "2024-06-30T20:55:38.402361Z",
     "iopub.status.busy": "2024-06-30T20:55:38.401987Z",
     "iopub.status.idle": "2024-06-30T20:55:38.404281Z",
     "shell.execute_reply": "2024-06-30T20:55:38.403991Z"
    },
    "papermill": {
     "duration": 0.009059,
     "end_time": "2024-06-30T20:55:38.405034",
     "exception": false,
     "start_time": "2024-06-30T20:55:38.395975",
     "status": "completed"
    },
    "tags": []
   },
   "outputs": [],
   "source": [
    "PBcell_sampleDF.drop('sampleID', axis=1, inplace=True)"
   ]
  },
  {
   "cell_type": "code",
   "execution_count": 13,
   "id": "5502e45d-5c72-4440-a8c1-5b299cac6e2d",
   "metadata": {
    "execution": {
     "iopub.execute_input": "2024-06-30T20:55:38.416383Z",
     "iopub.status.busy": "2024-06-30T20:55:38.416125Z",
     "iopub.status.idle": "2024-06-30T20:55:38.419306Z",
     "shell.execute_reply": "2024-06-30T20:55:38.419022Z"
    },
    "papermill": {
     "duration": 0.00961,
     "end_time": "2024-06-30T20:55:38.420102",
     "exception": false,
     "start_time": "2024-06-30T20:55:38.410492",
     "status": "completed"
    },
    "tags": []
   },
   "outputs": [
    {
     "data": {
      "text/plain": [
       "AnnData object with n_obs × n_vars = 1272 × 40\n",
       "    obs: 'sampleID', 'Level1', 'disease', 'n_observation'"
      ]
     },
     "execution_count": 13,
     "metadata": {},
     "output_type": "execute_result"
    }
   ],
   "source": [
    "adataPBcell_sample = sc.AnnData(X = PBcell_sampleDF, obs = adataPBcell.obs)\n",
    "adataPBcell_sample"
   ]
  },
  {
   "cell_type": "markdown",
   "id": "d59574be-684b-4082-b8b6-7d11930362ad",
   "metadata": {
    "papermill": {
     "duration": 0.005362,
     "end_time": "2024-06-30T20:55:38.435346",
     "exception": false,
     "start_time": "2024-06-30T20:55:38.429984",
     "status": "completed"
    },
    "tags": []
   },
   "source": [
    "### Saving pseudobulk adata objects"
   ]
  },
  {
   "cell_type": "code",
   "execution_count": 14,
   "id": "5947e6f8-ac27-4702-ba5d-aa9e1ba79f6a",
   "metadata": {
    "execution": {
     "iopub.execute_input": "2024-06-30T20:55:38.446731Z",
     "iopub.status.busy": "2024-06-30T20:55:38.446261Z",
     "iopub.status.idle": "2024-06-30T20:55:38.475087Z",
     "shell.execute_reply": "2024-06-30T20:55:38.474769Z"
    },
    "papermill": {
     "duration": 0.035721,
     "end_time": "2024-06-30T20:55:38.476197",
     "exception": false,
     "start_time": "2024-06-30T20:55:38.440476",
     "status": "completed"
    },
    "tags": []
   },
   "outputs": [],
   "source": [
    "adataPBcell.write(here(adataPATHlist[0].replace('/scPoli_','/PSEUDOBULKs/scPoli_PSEUDOBULKcell_')), compression='gzip')"
   ]
  },
  {
   "cell_type": "code",
   "execution_count": 15,
   "id": "e9485945-bccf-419a-9420-c1e4f3aa262d",
   "metadata": {
    "execution": {
     "iopub.execute_input": "2024-06-30T20:55:38.487939Z",
     "iopub.status.busy": "2024-06-30T20:55:38.487681Z",
     "iopub.status.idle": "2024-06-30T20:55:38.508335Z",
     "shell.execute_reply": "2024-06-30T20:55:38.508024Z"
    },
    "papermill": {
     "duration": 0.02765,
     "end_time": "2024-06-30T20:55:38.509402",
     "exception": false,
     "start_time": "2024-06-30T20:55:38.481752",
     "status": "completed"
    },
    "tags": []
   },
   "outputs": [],
   "source": [
    "adataPBsample.write(here(adataPATHlist[0].replace('/scPoli_','/PSEUDOBULKs/scPoli_PSEUDOBULKsample_')), compression='gzip')"
   ]
  },
  {
   "cell_type": "code",
   "execution_count": 16,
   "id": "9c2daa40-3279-4b24-8aad-65ee0ba758c8",
   "metadata": {
    "execution": {
     "iopub.execute_input": "2024-06-30T20:55:38.524987Z",
     "iopub.status.busy": "2024-06-30T20:55:38.524729Z",
     "iopub.status.idle": "2024-06-30T20:55:38.552868Z",
     "shell.execute_reply": "2024-06-30T20:55:38.552563Z"
    },
    "papermill": {
     "duration": 0.038832,
     "end_time": "2024-06-30T20:55:38.553964",
     "exception": false,
     "start_time": "2024-06-30T20:55:38.515132",
     "status": "completed"
    },
    "tags": []
   },
   "outputs": [],
   "source": [
    "adataPBcell_sample.write(here(adataPATHlist[0].replace('/scPoli_','/PSEUDOBULKs/scPoli_PSEUDOBULKcellSample_')), compression='gzip')"
   ]
  },
  {
   "cell_type": "code",
   "execution_count": null,
   "id": "8a70d9f6-7a44-45ee-8470-702bd7af1e0b",
   "metadata": {
    "papermill": {
     "duration": 0.005309,
     "end_time": "2024-06-30T20:55:38.573758",
     "exception": false,
     "start_time": "2024-06-30T20:55:38.568449",
     "status": "completed"
    },
    "tags": []
   },
   "outputs": [],
   "source": []
  }
 ],
 "metadata": {
  "kernelspec": {
   "display_name": "Python 3 (ipykernel)",
   "language": "python",
   "name": "python3"
  },
  "language_info": {
   "codemirror_mode": {
    "name": "ipython",
    "version": 3
   },
   "file_extension": ".py",
   "mimetype": "text/x-python",
   "name": "python",
   "nbconvert_exporter": "python",
   "pygments_lexer": "ipython3",
   "version": "3.12.3"
  },
  "papermill": {
   "default_parameters": {},
   "duration": 4.833662,
   "end_time": "2024-06-30T20:55:39.093746",
   "environment_variables": {},
   "exception": null,
   "input_path": "03_generating_PSEUDOBULKs.ipynb",
   "output_path": "executed_notebooks/03_generating_PSEUDOBULKs_EXTERNAL_20nEmb_20nPEmb.ipynb",
   "parameters": {
    "adataPATH": "03_downstream_analysis/08_PatientClassifier/scPoli/results/scPoli_EXTERNAL_2_20_20_*.h5ad"
   },
   "start_time": "2024-06-30T20:55:34.260084",
   "version": "2.6.0"
  }
 },
 "nbformat": 4,
 "nbformat_minor": 5
}