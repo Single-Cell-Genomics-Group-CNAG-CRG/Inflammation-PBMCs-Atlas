{
 "cells": [
  {
   "cell_type": "code",
   "execution_count": 1,
   "id": "26e55c3b",
   "metadata": {
    "execution": {
     "iopub.execute_input": "2024-06-30T21:01:48.508399Z",
     "iopub.status.busy": "2024-06-30T21:01:48.508031Z",
     "iopub.status.idle": "2024-06-30T21:01:48.510557Z",
     "shell.execute_reply": "2024-06-30T21:01:48.510204Z"
    },
    "papermill": {
     "duration": 0.011729,
     "end_time": "2024-06-30T21:01:48.511356",
     "exception": false,
     "start_time": "2024-06-30T21:01:48.499627",
     "status": "completed"
    },
    "tags": [
     "injected-parameters"
    ]
   },
   "outputs": [],
   "source": [
    "# Parameters\n",
    "adataPATH = \"03_downstream_analysis/08_PatientClassifier/scPoli/results/scPoli_VALIDATION_2_100_100_run2_gubrri7h.h5ad\"\n"
   ]
  },
  {
   "cell_type": "raw",
   "id": "bf9880bd-3aef-477b-807d-37e3c5603037",
   "metadata": {
    "execution": {
     "iopub.execute_input": "2024-06-29T08:23:25.403219Z",
     "iopub.status.busy": "2024-06-29T08:23:25.402857Z",
     "iopub.status.idle": "2024-06-29T08:23:25.406428Z",
     "shell.execute_reply": "2024-06-29T08:23:25.406014Z",
     "shell.execute_reply.started": "2024-06-29T08:23:25.403185Z"
    },
    "papermill": {
     "duration": 0.005329,
     "end_time": "2024-06-30T21:01:48.522025",
     "exception": false,
     "start_time": "2024-06-30T21:01:48.516696",
     "status": "completed"
    },
    "tags": [],
    "vscode": {
     "languageId": "raw"
    }
   },
   "source": [
    "adataMAINpath = '03_downstream_analysis/08_PatientClassifier/scPoli/results/scPoli_2_100_20_*.h5ad'\n",
    "\n",
    "adataVALpath = '03_downstream_analysis/08_PatientClassifier/scPoli/results/scPoli_VALIDATION_2_20_20*.h5ad'\n",
    "adataEXCpath = '03_downstream_analysis/08_PatientClassifier/scPoli/results/scPoli_EXCLUDED_2_100_20_run1_pd5nyb4g.h5ad'\n",
    "adataEXTpath = '03_downstream_analysis/08_PatientClassifier/scPoli/results/scPoli_EXTERNAL_2_100_20_run1_pd5nyb4g.h5ad'\n",
    "\n",
    "adataPATH = adataVALpath"
   ]
  },
  {
   "cell_type": "code",
   "execution_count": 2,
   "id": "d3ccb10a-7201-43d0-a593-2b4650ff3451",
   "metadata": {
    "execution": {
     "iopub.execute_input": "2024-06-30T21:01:48.533659Z",
     "iopub.status.busy": "2024-06-30T21:01:48.533212Z",
     "iopub.status.idle": "2024-06-30T21:01:48.536459Z",
     "shell.execute_reply": "2024-06-30T21:01:48.536085Z"
    },
    "papermill": {
     "duration": 0.010171,
     "end_time": "2024-06-30T21:01:48.537251",
     "exception": false,
     "start_time": "2024-06-30T21:01:48.527080",
     "status": "completed"
    },
    "tags": []
   },
   "outputs": [
    {
     "name": "stdout",
     "output_type": "stream",
     "text": [
      "adataPATH = 03_downstream_analysis/08_PatientClassifier/scPoli/results/scPoli_VALIDATION_2_100_100_run2_gubrri7h.h5ad\n"
     ]
    }
   ],
   "source": [
    "for v in ['adataPATH']:\n",
    "    if v in locals() or v in globals():\n",
    "        print(f\"{v} = {eval(v)}\")\n",
    "    else:\n",
    "        raise Exception(f\"{v} not specified\")"
   ]
  },
  {
   "cell_type": "code",
   "execution_count": 3,
   "id": "888fb5f4-9ab7-4196-a282-7a7e92a43971",
   "metadata": {
    "execution": {
     "iopub.execute_input": "2024-06-30T21:01:48.548798Z",
     "iopub.status.busy": "2024-06-30T21:01:48.548455Z",
     "iopub.status.idle": "2024-06-30T21:01:49.901234Z",
     "shell.execute_reply": "2024-06-30T21:01:49.900735Z"
    },
    "papermill": {
     "duration": 1.359775,
     "end_time": "2024-06-30T21:01:49.902419",
     "exception": false,
     "start_time": "2024-06-30T21:01:48.542644",
     "status": "completed"
    },
    "tags": []
   },
   "outputs": [],
   "source": [
    "import os\n",
    "import sys\n",
    "from glob import glob\n",
    "\n",
    "import scanpy as sc\n",
    "import pandas as pd\n",
    "\n",
    "from pyprojroot import here\n",
    "\n",
    "sys.path.insert(1, str(here('bin')))\n",
    "# Import custom functions\n",
    "from customPythonFunctions import aggregating_features"
   ]
  },
  {
   "cell_type": "markdown",
   "id": "ba4905ae-4546-4ef4-b57b-950441ab079d",
   "metadata": {
    "papermill": {
     "duration": 0.005127,
     "end_time": "2024-06-30T21:01:49.913266",
     "exception": false,
     "start_time": "2024-06-30T21:01:49.908139",
     "status": "completed"
    },
    "tags": []
   },
   "source": [
    "### Loading data"
   ]
  },
  {
   "cell_type": "code",
   "execution_count": 4,
   "id": "539cbbbb-3503-4f51-bf04-f007f928ebd1",
   "metadata": {
    "execution": {
     "iopub.execute_input": "2024-06-30T21:01:49.924091Z",
     "iopub.status.busy": "2024-06-30T21:01:49.923804Z",
     "iopub.status.idle": "2024-06-30T21:01:49.927453Z",
     "shell.execute_reply": "2024-06-30T21:01:49.927052Z"
    },
    "papermill": {
     "duration": 0.009976,
     "end_time": "2024-06-30T21:01:49.928271",
     "exception": false,
     "start_time": "2024-06-30T21:01:49.918295",
     "status": "completed"
    },
    "tags": []
   },
   "outputs": [],
   "source": [
    "adataPATHlist = glob(str(here(adataPATH)))\n",
    "assert(len(adataPATHlist) == 1)"
   ]
  },
  {
   "cell_type": "code",
   "execution_count": 5,
   "id": "0fcfce0a-896b-4dc0-8e5e-46749205c84f",
   "metadata": {
    "execution": {
     "iopub.execute_input": "2024-06-30T21:01:49.945054Z",
     "iopub.status.busy": "2024-06-30T21:01:49.944642Z",
     "iopub.status.idle": "2024-06-30T21:01:52.707619Z",
     "shell.execute_reply": "2024-06-30T21:01:52.707158Z"
    },
    "papermill": {
     "duration": 2.774906,
     "end_time": "2024-06-30T21:01:52.708482",
     "exception": false,
     "start_time": "2024-06-30T21:01:49.933576",
     "status": "completed"
    },
    "tags": []
   },
   "outputs": [
    {
     "data": {
      "text/plain": [
       "AnnData object with n_obs × n_vars = 849922 × 100\n",
       "    obs: 'studyID', 'libraryID', 'sampleID', 'chemistry', 'technology', 'disease', 'sex', 'binned_age', 'Level1', 'Level2', 'conditions_combined', 'Level1_unc', 'Level2_unc'\n",
       "    uns: 'chemistry', 'sampleID'"
      ]
     },
     "execution_count": 5,
     "metadata": {},
     "output_type": "execute_result"
    }
   ],
   "source": [
    "adata = sc.read_h5ad(adataPATHlist[0])\n",
    "adata"
   ]
  },
  {
   "cell_type": "markdown",
   "id": "44e868b3-0771-4225-bd79-a4b179bc672b",
   "metadata": {
    "papermill": {
     "duration": 0.005168,
     "end_time": "2024-06-30T21:01:52.719441",
     "exception": false,
     "start_time": "2024-06-30T21:01:52.714273",
     "status": "completed"
    },
    "tags": []
   },
   "source": [
    "#### Generating PSEUDOBULKs"
   ]
  },
  {
   "cell_type": "markdown",
   "id": "97d09fc5-d05c-471e-87fa-fe58ccbe47ac",
   "metadata": {
    "papermill": {
     "duration": 0.004996,
     "end_time": "2024-06-30T21:01:52.729918",
     "exception": false,
     "start_time": "2024-06-30T21:01:52.724922",
     "status": "completed"
    },
    "tags": []
   },
   "source": [
    "**Aggregating cell latent features**"
   ]
  },
  {
   "cell_type": "code",
   "execution_count": 6,
   "id": "81223976-fcf6-4354-8964-b12d76468636",
   "metadata": {
    "execution": {
     "iopub.execute_input": "2024-06-30T21:01:52.740889Z",
     "iopub.status.busy": "2024-06-30T21:01:52.740573Z",
     "iopub.status.idle": "2024-06-30T21:01:53.231289Z",
     "shell.execute_reply": "2024-06-30T21:01:53.230832Z"
    },
    "papermill": {
     "duration": 0.497092,
     "end_time": "2024-06-30T21:01:53.232123",
     "exception": false,
     "start_time": "2024-06-30T21:01:52.735031",
     "status": "completed"
    },
    "tags": []
   },
   "outputs": [
    {
     "data": {
      "text/plain": [
       "AnnData object with n_obs × n_vars = 2113 × 100\n",
       "    obs: 'sampleID', 'Level1', 'disease', 'n_observation'"
      ]
     },
     "execution_count": 6,
     "metadata": {},
     "output_type": "execute_result"
    }
   ],
   "source": [
    "adataPBcell = aggregating_features(Z = adata.X, \n",
    "                             obsDF = adata.obs[['sampleID','Level1','disease']], \n",
    "                             mode = 'mean', \n",
    "                             obs_names_col=['sampleID','Level1'], \n",
    "                             min_observation=0)\n",
    "adataPBcell"
   ]
  },
  {
   "cell_type": "code",
   "execution_count": null,
   "id": "8495038e-aebd-4003-bd94-c1e49f47249e",
   "metadata": {
    "papermill": {
     "duration": 0.005014,
     "end_time": "2024-06-30T21:01:53.242515",
     "exception": false,
     "start_time": "2024-06-30T21:01:53.237501",
     "status": "completed"
    },
    "tags": []
   },
   "outputs": [],
   "source": []
  },
  {
   "cell_type": "markdown",
   "id": "6d602bad-4793-4aa4-b3d7-d118d413a0fc",
   "metadata": {
    "papermill": {
     "duration": 0.004896,
     "end_time": "2024-06-30T21:01:53.253047",
     "exception": false,
     "start_time": "2024-06-30T21:01:53.248151",
     "status": "completed"
    },
    "tags": []
   },
   "source": [
    "**Extracting sample embedding**"
   ]
  },
  {
   "cell_type": "code",
   "execution_count": 7,
   "id": "e2c14f02",
   "metadata": {
    "execution": {
     "iopub.execute_input": "2024-06-30T21:01:53.264438Z",
     "iopub.status.busy": "2024-06-30T21:01:53.263996Z",
     "iopub.status.idle": "2024-06-30T21:01:53.272296Z",
     "shell.execute_reply": "2024-06-30T21:01:53.271924Z"
    },
    "papermill": {
     "duration": 0.01466,
     "end_time": "2024-06-30T21:01:53.273077",
     "exception": false,
     "start_time": "2024-06-30T21:01:53.258417",
     "status": "completed"
    },
    "tags": []
   },
   "outputs": [
    {
     "data": {
      "text/plain": [
       "AnnData object with n_obs × n_vars = 144 × 100\n",
       "    obs: 'sampleID', 'disease', 'Level1'"
      ]
     },
     "execution_count": 7,
     "metadata": {},
     "output_type": "execute_result"
    }
   ],
   "source": [
    "adataPBsample = adata.uns['sampleID'].copy()\n",
    "adataPBsample.obs['sampleID'] = adataPBsample.obs.index\n",
    "adataPBsample = adataPBsample[adataPBsample.obs['sampleID'].isin(adataPBcell.obs['sampleID'])]\n",
    "\n",
    "adataPBsample.obs = adataPBsample.obs.merge(adataPBcell.obs.groupby('sampleID').agg({'disease':'first'}), left_index=True, right_index=True)\n",
    "adataPBsample.obs['Level1'] = 'sample'\n",
    "adataPBsample"
   ]
  },
  {
   "cell_type": "markdown",
   "id": "2d4fe137-7d68-4e86-a85c-3c1a3d3c4c71",
   "metadata": {
    "papermill": {
     "duration": 0.005175,
     "end_time": "2024-06-30T21:01:53.283593",
     "exception": false,
     "start_time": "2024-06-30T21:01:53.278418",
     "status": "completed"
    },
    "tags": []
   },
   "source": [
    "**Merging cell and patient latent features**"
   ]
  },
  {
   "cell_type": "code",
   "execution_count": 8,
   "id": "a326d2b1",
   "metadata": {
    "execution": {
     "iopub.execute_input": "2024-06-30T21:01:53.295584Z",
     "iopub.status.busy": "2024-06-30T21:01:53.295199Z",
     "iopub.status.idle": "2024-06-30T21:01:53.297658Z",
     "shell.execute_reply": "2024-06-30T21:01:53.297291Z"
    },
    "papermill": {
     "duration": 0.009342,
     "end_time": "2024-06-30T21:01:53.298455",
     "exception": false,
     "start_time": "2024-06-30T21:01:53.289113",
     "status": "completed"
    },
    "tags": []
   },
   "outputs": [],
   "source": [
    "PBcellDF = adataPBcell.to_df()\n",
    "PBcellDF['sampleID'] = adataPBcell.obs['sampleID']"
   ]
  },
  {
   "cell_type": "code",
   "execution_count": 9,
   "id": "1a597f46-d9c5-403b-b81e-5738ca206682",
   "metadata": {
    "execution": {
     "iopub.execute_input": "2024-06-30T21:01:53.310036Z",
     "iopub.status.busy": "2024-06-30T21:01:53.309703Z",
     "iopub.status.idle": "2024-06-30T21:01:53.312240Z",
     "shell.execute_reply": "2024-06-30T21:01:53.311856Z"
    },
    "papermill": {
     "duration": 0.009153,
     "end_time": "2024-06-30T21:01:53.313022",
     "exception": false,
     "start_time": "2024-06-30T21:01:53.303869",
     "status": "completed"
    },
    "tags": []
   },
   "outputs": [],
   "source": [
    "PBsampleDF = adataPBsample.to_df()\n",
    "PBsampleDF['sampleID'] = adataPBsample.obs['sampleID']"
   ]
  },
  {
   "cell_type": "code",
   "execution_count": 10,
   "id": "bb384751-fe1b-4635-a90d-fd98ae61b173",
   "metadata": {
    "execution": {
     "iopub.execute_input": "2024-06-30T21:01:53.325353Z",
     "iopub.status.busy": "2024-06-30T21:01:53.324915Z",
     "iopub.status.idle": "2024-06-30T21:01:53.329591Z",
     "shell.execute_reply": "2024-06-30T21:01:53.329218Z"
    },
    "papermill": {
     "duration": 0.012047,
     "end_time": "2024-06-30T21:01:53.330362",
     "exception": false,
     "start_time": "2024-06-30T21:01:53.318315",
     "status": "completed"
    },
    "tags": []
   },
   "outputs": [],
   "source": [
    "PBcell_sampleDF = PBcellDF.merge(PBsampleDF, on='sampleID', how='left')"
   ]
  },
  {
   "cell_type": "code",
   "execution_count": 11,
   "id": "f7250713-e24d-4614-9cbd-eed702340640",
   "metadata": {
    "execution": {
     "iopub.execute_input": "2024-06-30T21:01:53.341910Z",
     "iopub.status.busy": "2024-06-30T21:01:53.341646Z",
     "iopub.status.idle": "2024-06-30T21:01:53.343923Z",
     "shell.execute_reply": "2024-06-30T21:01:53.343562Z"
    },
    "papermill": {
     "duration": 0.00893,
     "end_time": "2024-06-30T21:01:53.344683",
     "exception": false,
     "start_time": "2024-06-30T21:01:53.335753",
     "status": "completed"
    },
    "tags": []
   },
   "outputs": [],
   "source": [
    "assert(adataPBcell.obs['sampleID'].tolist() == PBcell_sampleDF['sampleID'].tolist())"
   ]
  },
  {
   "cell_type": "code",
   "execution_count": 12,
   "id": "abea2252-6a12-4b89-9f0d-6d6df90064fb",
   "metadata": {
    "execution": {
     "iopub.execute_input": "2024-06-30T21:01:53.356633Z",
     "iopub.status.busy": "2024-06-30T21:01:53.356274Z",
     "iopub.status.idle": "2024-06-30T21:01:53.358794Z",
     "shell.execute_reply": "2024-06-30T21:01:53.358433Z"
    },
    "papermill": {
     "duration": 0.009296,
     "end_time": "2024-06-30T21:01:53.359554",
     "exception": false,
     "start_time": "2024-06-30T21:01:53.350258",
     "status": "completed"
    },
    "tags": []
   },
   "outputs": [],
   "source": [
    "PBcell_sampleDF.drop('sampleID', axis=1, inplace=True)"
   ]
  },
  {
   "cell_type": "code",
   "execution_count": 13,
   "id": "5502e45d-5c72-4440-a8c1-5b299cac6e2d",
   "metadata": {
    "execution": {
     "iopub.execute_input": "2024-06-30T21:01:53.371416Z",
     "iopub.status.busy": "2024-06-30T21:01:53.371281Z",
     "iopub.status.idle": "2024-06-30T21:01:53.374822Z",
     "shell.execute_reply": "2024-06-30T21:01:53.374464Z"
    },
    "papermill": {
     "duration": 0.010199,
     "end_time": "2024-06-30T21:01:53.375594",
     "exception": false,
     "start_time": "2024-06-30T21:01:53.365395",
     "status": "completed"
    },
    "tags": []
   },
   "outputs": [
    {
     "data": {
      "text/plain": [
       "AnnData object with n_obs × n_vars = 2113 × 200\n",
       "    obs: 'sampleID', 'Level1', 'disease', 'n_observation'"
      ]
     },
     "execution_count": 13,
     "metadata": {},
     "output_type": "execute_result"
    }
   ],
   "source": [
    "adataPBcell_sample = sc.AnnData(X = PBcell_sampleDF, obs = adataPBcell.obs)\n",
    "adataPBcell_sample"
   ]
  },
  {
   "cell_type": "markdown",
   "id": "d59574be-684b-4082-b8b6-7d11930362ad",
   "metadata": {
    "papermill": {
     "duration": 0.005324,
     "end_time": "2024-06-30T21:01:53.386348",
     "exception": false,
     "start_time": "2024-06-30T21:01:53.381024",
     "status": "completed"
    },
    "tags": []
   },
   "source": [
    "### Saving pseudobulk adata objects"
   ]
  },
  {
   "cell_type": "code",
   "execution_count": 14,
   "id": "5947e6f8-ac27-4702-ba5d-aa9e1ba79f6a",
   "metadata": {
    "execution": {
     "iopub.execute_input": "2024-06-30T21:01:53.398221Z",
     "iopub.status.busy": "2024-06-30T21:01:53.398029Z",
     "iopub.status.idle": "2024-06-30T21:01:53.448952Z",
     "shell.execute_reply": "2024-06-30T21:01:53.448539Z"
    },
    "papermill": {
     "duration": 0.058282,
     "end_time": "2024-06-30T21:01:53.450217",
     "exception": false,
     "start_time": "2024-06-30T21:01:53.391935",
     "status": "completed"
    },
    "tags": []
   },
   "outputs": [],
   "source": [
    "adataPBcell.write(here(adataPATHlist[0].replace('/scPoli_','/PSEUDOBULKs/scPoli_PSEUDOBULKcell_')), compression='gzip')"
   ]
  },
  {
   "cell_type": "code",
   "execution_count": 15,
   "id": "e9485945-bccf-419a-9420-c1e4f3aa262d",
   "metadata": {
    "execution": {
     "iopub.execute_input": "2024-06-30T21:01:53.462208Z",
     "iopub.status.busy": "2024-06-30T21:01:53.461796Z",
     "iopub.status.idle": "2024-06-30T21:01:53.482642Z",
     "shell.execute_reply": "2024-06-30T21:01:53.482249Z"
    },
    "papermill": {
     "duration": 0.027555,
     "end_time": "2024-06-30T21:01:53.483454",
     "exception": false,
     "start_time": "2024-06-30T21:01:53.455899",
     "status": "completed"
    },
    "tags": []
   },
   "outputs": [],
   "source": [
    "adataPBsample.write(here(adataPATHlist[0].replace('/scPoli_','/PSEUDOBULKs/scPoli_PSEUDOBULKsample_')), compression='gzip')"
   ]
  },
  {
   "cell_type": "code",
   "execution_count": 16,
   "id": "9c2daa40-3279-4b24-8aad-65ee0ba758c8",
   "metadata": {
    "execution": {
     "iopub.execute_input": "2024-06-30T21:01:53.495648Z",
     "iopub.status.busy": "2024-06-30T21:01:53.495281Z",
     "iopub.status.idle": "2024-06-30T21:01:53.554936Z",
     "shell.execute_reply": "2024-06-30T21:01:53.554508Z"
    },
    "papermill": {
     "duration": 0.066579,
     "end_time": "2024-06-30T21:01:53.555790",
     "exception": false,
     "start_time": "2024-06-30T21:01:53.489211",
     "status": "completed"
    },
    "tags": []
   },
   "outputs": [],
   "source": [
    "adataPBcell_sample.write(here(adataPATHlist[0].replace('/scPoli_','/PSEUDOBULKs/scPoli_PSEUDOBULKcellSample_')), compression='gzip')"
   ]
  },
  {
   "cell_type": "code",
   "execution_count": null,
   "id": "8a70d9f6-7a44-45ee-8470-702bd7af1e0b",
   "metadata": {
    "papermill": {
     "duration": 0.005652,
     "end_time": "2024-06-30T21:01:53.566942",
     "exception": false,
     "start_time": "2024-06-30T21:01:53.561290",
     "status": "completed"
    },
    "tags": []
   },
   "outputs": [],
   "source": []
  }
 ],
 "metadata": {
  "kernelspec": {
   "display_name": "Python 3 (ipykernel)",
   "language": "python",
   "name": "python3"
  },
  "language_info": {
   "codemirror_mode": {
    "name": "ipython",
    "version": 3
   },
   "file_extension": ".py",
   "mimetype": "text/x-python",
   "name": "python",
   "nbconvert_exporter": "python",
   "pygments_lexer": "ipython3",
   "version": "3.12.3"
  },
  "papermill": {
   "default_parameters": {},
   "duration": 6.760826,
   "end_time": "2024-06-30T21:01:54.087362",
   "environment_variables": {},
   "exception": null,
   "input_path": "03_generating_PSEUDOBULKs.ipynb",
   "output_path": "executed_notebooks/03_generating_PSEUDOBULKs_scPoli_VALIDATION_2_100_100_run2_gubrri7h.h5ad.ipynb",
   "parameters": {
    "adataPATH": "03_downstream_analysis/08_PatientClassifier/scPoli/results/scPoli_VALIDATION_2_100_100_run2_gubrri7h.h5ad"
   },
   "start_time": "2024-06-30T21:01:47.326536",
   "version": "2.6.0"
  }
 },
 "nbformat": 4,
 "nbformat_minor": 5
}