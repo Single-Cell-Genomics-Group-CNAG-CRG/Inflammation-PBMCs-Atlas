{
 "cells": [
  {
   "cell_type": "code",
   "execution_count": 1,
   "id": "c329ff65",
   "metadata": {
    "execution": {
     "iopub.execute_input": "2024-06-30T21:01:37.328508Z",
     "iopub.status.busy": "2024-06-30T21:01:37.328114Z",
     "iopub.status.idle": "2024-06-30T21:01:37.330701Z",
     "shell.execute_reply": "2024-06-30T21:01:37.330344Z"
    },
    "papermill": {
     "duration": 0.009739,
     "end_time": "2024-06-30T21:01:37.331526",
     "exception": false,
     "start_time": "2024-06-30T21:01:37.321787",
     "status": "completed"
    },
    "tags": [
     "injected-parameters"
    ]
   },
   "outputs": [],
   "source": [
    "# Parameters\n",
    "adataPATH = \"03_downstream_analysis/08_PatientClassifier/scPoli/results/scPoli_ref_latents_EXTERNAL_2_20_50_run2_xwzmx078.h5ad\"\n"
   ]
  },
  {
   "cell_type": "raw",
   "id": "bf9880bd-3aef-477b-807d-37e3c5603037",
   "metadata": {
    "execution": {
     "iopub.execute_input": "2024-06-29T08:23:25.403219Z",
     "iopub.status.busy": "2024-06-29T08:23:25.402857Z",
     "iopub.status.idle": "2024-06-29T08:23:25.406428Z",
     "shell.execute_reply": "2024-06-29T08:23:25.406014Z",
     "shell.execute_reply.started": "2024-06-29T08:23:25.403185Z"
    },
    "papermill": {
     "duration": 0.004829,
     "end_time": "2024-06-30T21:01:37.341576",
     "exception": false,
     "start_time": "2024-06-30T21:01:37.336747",
     "status": "completed"
    },
    "tags": [],
    "vscode": {
     "languageId": "raw"
    }
   },
   "source": [
    "adataMAINpath = '03_downstream_analysis/08_PatientClassifier/scPoli/results/scPoli_2_100_20_*.h5ad'\n",
    "\n",
    "adataVALpath = '03_downstream_analysis/08_PatientClassifier/scPoli/results/scPoli_VALIDATION_2_20_20*.h5ad'\n",
    "adataEXCpath = '03_downstream_analysis/08_PatientClassifier/scPoli/results/scPoli_EXCLUDED_2_100_20_run1_pd5nyb4g.h5ad'\n",
    "adataEXTpath = '03_downstream_analysis/08_PatientClassifier/scPoli/results/scPoli_EXTERNAL_2_100_20_run1_pd5nyb4g.h5ad'\n",
    "\n",
    "adataPATH = adataVALpath"
   ]
  },
  {
   "cell_type": "code",
   "execution_count": 2,
   "id": "d3ccb10a-7201-43d0-a593-2b4650ff3451",
   "metadata": {
    "execution": {
     "iopub.execute_input": "2024-06-30T21:01:37.353047Z",
     "iopub.status.busy": "2024-06-30T21:01:37.352752Z",
     "iopub.status.idle": "2024-06-30T21:01:37.355630Z",
     "shell.execute_reply": "2024-06-30T21:01:37.355265Z"
    },
    "papermill": {
     "duration": 0.009791,
     "end_time": "2024-06-30T21:01:37.356408",
     "exception": false,
     "start_time": "2024-06-30T21:01:37.346617",
     "status": "completed"
    },
    "tags": []
   },
   "outputs": [
    {
     "name": "stdout",
     "output_type": "stream",
     "text": [
      "adataPATH = 03_downstream_analysis/08_PatientClassifier/scPoli/results/scPoli_ref_latents_EXTERNAL_2_20_50_run2_xwzmx078.h5ad\n"
     ]
    }
   ],
   "source": [
    "for v in ['adataPATH']:\n",
    "    if v in locals() or v in globals():\n",
    "        print(f\"{v} = {eval(v)}\")\n",
    "    else:\n",
    "        raise Exception(f\"{v} not specified\")"
   ]
  },
  {
   "cell_type": "code",
   "execution_count": 3,
   "id": "888fb5f4-9ab7-4196-a282-7a7e92a43971",
   "metadata": {
    "execution": {
     "iopub.execute_input": "2024-06-30T21:01:37.376832Z",
     "iopub.status.busy": "2024-06-30T21:01:37.376351Z",
     "iopub.status.idle": "2024-06-30T21:01:38.922362Z",
     "shell.execute_reply": "2024-06-30T21:01:38.921884Z"
    },
    "papermill": {
     "duration": 1.559877,
     "end_time": "2024-06-30T21:01:38.923205",
     "exception": false,
     "start_time": "2024-06-30T21:01:37.363328",
     "status": "completed"
    },
    "tags": []
   },
   "outputs": [],
   "source": [
    "import os\n",
    "import sys\n",
    "from glob import glob\n",
    "\n",
    "import scanpy as sc\n",
    "import pandas as pd\n",
    "\n",
    "from pyprojroot import here\n",
    "\n",
    "sys.path.insert(1, str(here('bin')))\n",
    "# Import custom functions\n",
    "from customPythonFunctions import aggregating_features"
   ]
  },
  {
   "cell_type": "markdown",
   "id": "ba4905ae-4546-4ef4-b57b-950441ab079d",
   "metadata": {
    "papermill": {
     "duration": 0.004874,
     "end_time": "2024-06-30T21:01:38.933651",
     "exception": false,
     "start_time": "2024-06-30T21:01:38.928777",
     "status": "completed"
    },
    "tags": []
   },
   "source": [
    "### Loading data"
   ]
  },
  {
   "cell_type": "code",
   "execution_count": 4,
   "id": "539cbbbb-3503-4f51-bf04-f007f928ebd1",
   "metadata": {
    "execution": {
     "iopub.execute_input": "2024-06-30T21:01:38.944934Z",
     "iopub.status.busy": "2024-06-30T21:01:38.944301Z",
     "iopub.status.idle": "2024-06-30T21:01:38.948180Z",
     "shell.execute_reply": "2024-06-30T21:01:38.947817Z"
    },
    "papermill": {
     "duration": 0.010402,
     "end_time": "2024-06-30T21:01:38.948997",
     "exception": false,
     "start_time": "2024-06-30T21:01:38.938595",
     "status": "completed"
    },
    "tags": []
   },
   "outputs": [],
   "source": [
    "adataPATHlist = glob(str(here(adataPATH)))\n",
    "assert(len(adataPATHlist) == 1)"
   ]
  },
  {
   "cell_type": "code",
   "execution_count": 5,
   "id": "0fcfce0a-896b-4dc0-8e5e-46749205c84f",
   "metadata": {
    "execution": {
     "iopub.execute_input": "2024-06-30T21:01:38.965922Z",
     "iopub.status.busy": "2024-06-30T21:01:38.965456Z",
     "iopub.status.idle": "2024-06-30T21:01:45.885966Z",
     "shell.execute_reply": "2024-06-30T21:01:45.885535Z"
    },
    "papermill": {
     "duration": 6.927033,
     "end_time": "2024-06-30T21:01:45.886761",
     "exception": false,
     "start_time": "2024-06-30T21:01:38.959728",
     "status": "completed"
    },
    "tags": []
   },
   "outputs": [
    {
     "data": {
      "text/plain": [
       "AnnData object with n_obs × n_vars = 4435922 × 20\n",
       "    obs: 'studyID', 'libraryID', 'sampleID', 'chemistry', 'disease', 'sex', 'binned_age', 'Level1', 'Level2'\n",
       "    uns: 'chemistry', 'sampleID'"
      ]
     },
     "execution_count": 5,
     "metadata": {},
     "output_type": "execute_result"
    }
   ],
   "source": [
    "adata = sc.read_h5ad(adataPATHlist[0])\n",
    "adata"
   ]
  },
  {
   "cell_type": "markdown",
   "id": "44e868b3-0771-4225-bd79-a4b179bc672b",
   "metadata": {
    "papermill": {
     "duration": 0.00504,
     "end_time": "2024-06-30T21:01:45.897582",
     "exception": false,
     "start_time": "2024-06-30T21:01:45.892542",
     "status": "completed"
    },
    "tags": []
   },
   "source": [
    "#### Generating PSEUDOBULKs"
   ]
  },
  {
   "cell_type": "markdown",
   "id": "97d09fc5-d05c-471e-87fa-fe58ccbe47ac",
   "metadata": {
    "papermill": {
     "duration": 0.005028,
     "end_time": "2024-06-30T21:01:45.907679",
     "exception": false,
     "start_time": "2024-06-30T21:01:45.902651",
     "status": "completed"
    },
    "tags": []
   },
   "source": [
    "**Aggregating cell latent features**"
   ]
  },
  {
   "cell_type": "code",
   "execution_count": 6,
   "id": "81223976-fcf6-4354-8964-b12d76468636",
   "metadata": {
    "execution": {
     "iopub.execute_input": "2024-06-30T21:01:45.918973Z",
     "iopub.status.busy": "2024-06-30T21:01:45.918431Z",
     "iopub.status.idle": "2024-06-30T21:01:47.616642Z",
     "shell.execute_reply": "2024-06-30T21:01:47.616216Z"
    },
    "papermill": {
     "duration": 1.704771,
     "end_time": "2024-06-30T21:01:47.617482",
     "exception": false,
     "start_time": "2024-06-30T21:01:45.912711",
     "status": "completed"
    },
    "tags": []
   },
   "outputs": [
    {
     "data": {
      "text/plain": [
       "AnnData object with n_obs × n_vars = 11372 × 20\n",
       "    obs: 'sampleID', 'Level1', 'disease', 'n_observation'"
      ]
     },
     "execution_count": 6,
     "metadata": {},
     "output_type": "execute_result"
    }
   ],
   "source": [
    "adataPBcell = aggregating_features(Z = adata.X, \n",
    "                             obsDF = adata.obs[['sampleID','Level1','disease']], \n",
    "                             mode = 'mean', \n",
    "                             obs_names_col=['sampleID','Level1'], \n",
    "                             min_observation=0)\n",
    "adataPBcell"
   ]
  },
  {
   "cell_type": "code",
   "execution_count": null,
   "id": "8495038e-aebd-4003-bd94-c1e49f47249e",
   "metadata": {
    "papermill": {
     "duration": 0.005033,
     "end_time": "2024-06-30T21:01:47.628160",
     "exception": false,
     "start_time": "2024-06-30T21:01:47.623127",
     "status": "completed"
    },
    "tags": []
   },
   "outputs": [],
   "source": []
  },
  {
   "cell_type": "markdown",
   "id": "6d602bad-4793-4aa4-b3d7-d118d413a0fc",
   "metadata": {
    "papermill": {
     "duration": 0.005333,
     "end_time": "2024-06-30T21:01:47.639214",
     "exception": false,
     "start_time": "2024-06-30T21:01:47.633881",
     "status": "completed"
    },
    "tags": []
   },
   "source": [
    "**Extracting sample embedding**"
   ]
  },
  {
   "cell_type": "code",
   "execution_count": 7,
   "id": "e2c14f02",
   "metadata": {
    "execution": {
     "iopub.execute_input": "2024-06-30T21:01:47.650176Z",
     "iopub.status.busy": "2024-06-30T21:01:47.650030Z",
     "iopub.status.idle": "2024-06-30T21:01:47.659562Z",
     "shell.execute_reply": "2024-06-30T21:01:47.659204Z"
    },
    "papermill": {
     "duration": 0.01611,
     "end_time": "2024-06-30T21:01:47.660374",
     "exception": false,
     "start_time": "2024-06-30T21:01:47.644264",
     "status": "completed"
    },
    "tags": []
   },
   "outputs": [
    {
     "data": {
      "text/plain": [
       "AnnData object with n_obs × n_vars = 817 × 50\n",
       "    obs: 'sampleID', 'disease', 'Level1'"
      ]
     },
     "execution_count": 7,
     "metadata": {},
     "output_type": "execute_result"
    }
   ],
   "source": [
    "adataPBsample = adata.uns['sampleID'].copy()\n",
    "adataPBsample.obs['sampleID'] = adataPBsample.obs.index\n",
    "adataPBsample = adataPBsample[adataPBsample.obs['sampleID'].isin(adataPBcell.obs['sampleID'])]\n",
    "\n",
    "adataPBsample.obs = adataPBsample.obs.merge(adataPBcell.obs.groupby('sampleID').agg({'disease':'first'}), left_index=True, right_index=True)\n",
    "adataPBsample.obs['Level1'] = 'sample'\n",
    "adataPBsample"
   ]
  },
  {
   "cell_type": "markdown",
   "id": "2d4fe137-7d68-4e86-a85c-3c1a3d3c4c71",
   "metadata": {
    "papermill": {
     "duration": 0.005227,
     "end_time": "2024-06-30T21:01:47.670936",
     "exception": false,
     "start_time": "2024-06-30T21:01:47.665709",
     "status": "completed"
    },
    "tags": []
   },
   "source": [
    "**Merging cell and patient latent features**"
   ]
  },
  {
   "cell_type": "code",
   "execution_count": 8,
   "id": "a326d2b1",
   "metadata": {
    "execution": {
     "iopub.execute_input": "2024-06-30T21:01:47.682307Z",
     "iopub.status.busy": "2024-06-30T21:01:47.682018Z",
     "iopub.status.idle": "2024-06-30T21:01:47.684417Z",
     "shell.execute_reply": "2024-06-30T21:01:47.684054Z"
    },
    "papermill": {
     "duration": 0.009059,
     "end_time": "2024-06-30T21:01:47.685182",
     "exception": false,
     "start_time": "2024-06-30T21:01:47.676123",
     "status": "completed"
    },
    "tags": []
   },
   "outputs": [],
   "source": [
    "PBcellDF = adataPBcell.to_df()\n",
    "PBcellDF['sampleID'] = adataPBcell.obs['sampleID']"
   ]
  },
  {
   "cell_type": "code",
   "execution_count": 9,
   "id": "1a597f46-d9c5-403b-b81e-5738ca206682",
   "metadata": {
    "execution": {
     "iopub.execute_input": "2024-06-30T21:01:47.696173Z",
     "iopub.status.busy": "2024-06-30T21:01:47.695883Z",
     "iopub.status.idle": "2024-06-30T21:01:47.698262Z",
     "shell.execute_reply": "2024-06-30T21:01:47.697888Z"
    },
    "papermill": {
     "duration": 0.008712,
     "end_time": "2024-06-30T21:01:47.699019",
     "exception": false,
     "start_time": "2024-06-30T21:01:47.690307",
     "status": "completed"
    },
    "tags": []
   },
   "outputs": [],
   "source": [
    "PBsampleDF = adataPBsample.to_df()\n",
    "PBsampleDF['sampleID'] = adataPBsample.obs['sampleID']"
   ]
  },
  {
   "cell_type": "code",
   "execution_count": 10,
   "id": "bb384751-fe1b-4635-a90d-fd98ae61b173",
   "metadata": {
    "execution": {
     "iopub.execute_input": "2024-06-30T21:01:47.710466Z",
     "iopub.status.busy": "2024-06-30T21:01:47.710109Z",
     "iopub.status.idle": "2024-06-30T21:01:47.716412Z",
     "shell.execute_reply": "2024-06-30T21:01:47.716011Z"
    },
    "papermill": {
     "duration": 0.013189,
     "end_time": "2024-06-30T21:01:47.717236",
     "exception": false,
     "start_time": "2024-06-30T21:01:47.704047",
     "status": "completed"
    },
    "tags": []
   },
   "outputs": [],
   "source": [
    "PBcell_sampleDF = PBcellDF.merge(PBsampleDF, on='sampleID', how='left')"
   ]
  },
  {
   "cell_type": "code",
   "execution_count": 11,
   "id": "f7250713-e24d-4614-9cbd-eed702340640",
   "metadata": {
    "execution": {
     "iopub.execute_input": "2024-06-30T21:01:47.728745Z",
     "iopub.status.busy": "2024-06-30T21:01:47.728462Z",
     "iopub.status.idle": "2024-06-30T21:01:47.730890Z",
     "shell.execute_reply": "2024-06-30T21:01:47.730535Z"
    },
    "papermill": {
     "duration": 0.009024,
     "end_time": "2024-06-30T21:01:47.731654",
     "exception": false,
     "start_time": "2024-06-30T21:01:47.722630",
     "status": "completed"
    },
    "tags": []
   },
   "outputs": [],
   "source": [
    "assert(adataPBcell.obs['sampleID'].tolist() == PBcell_sampleDF['sampleID'].tolist())"
   ]
  },
  {
   "cell_type": "code",
   "execution_count": 12,
   "id": "abea2252-6a12-4b89-9f0d-6d6df90064fb",
   "metadata": {
    "execution": {
     "iopub.execute_input": "2024-06-30T21:01:47.743446Z",
     "iopub.status.busy": "2024-06-30T21:01:47.743165Z",
     "iopub.status.idle": "2024-06-30T21:01:47.745881Z",
     "shell.execute_reply": "2024-06-30T21:01:47.745527Z"
    },
    "papermill": {
     "duration": 0.009477,
     "end_time": "2024-06-30T21:01:47.746626",
     "exception": false,
     "start_time": "2024-06-30T21:01:47.737149",
     "status": "completed"
    },
    "tags": []
   },
   "outputs": [],
   "source": [
    "PBcell_sampleDF.drop('sampleID', axis=1, inplace=True)"
   ]
  },
  {
   "cell_type": "code",
   "execution_count": 13,
   "id": "5502e45d-5c72-4440-a8c1-5b299cac6e2d",
   "metadata": {
    "execution": {
     "iopub.execute_input": "2024-06-30T21:01:47.757814Z",
     "iopub.status.busy": "2024-06-30T21:01:47.757553Z",
     "iopub.status.idle": "2024-06-30T21:01:47.761326Z",
     "shell.execute_reply": "2024-06-30T21:01:47.760968Z"
    },
    "papermill": {
     "duration": 0.010191,
     "end_time": "2024-06-30T21:01:47.762083",
     "exception": false,
     "start_time": "2024-06-30T21:01:47.751892",
     "status": "completed"
    },
    "tags": []
   },
   "outputs": [
    {
     "data": {
      "text/plain": [
       "AnnData object with n_obs × n_vars = 11372 × 70\n",
       "    obs: 'sampleID', 'Level1', 'disease', 'n_observation'"
      ]
     },
     "execution_count": 13,
     "metadata": {},
     "output_type": "execute_result"
    }
   ],
   "source": [
    "adataPBcell_sample = sc.AnnData(X = PBcell_sampleDF, obs = adataPBcell.obs)\n",
    "adataPBcell_sample"
   ]
  },
  {
   "cell_type": "markdown",
   "id": "d59574be-684b-4082-b8b6-7d11930362ad",
   "metadata": {
    "papermill": {
     "duration": 0.005703,
     "end_time": "2024-06-30T21:01:47.773198",
     "exception": false,
     "start_time": "2024-06-30T21:01:47.767495",
     "status": "completed"
    },
    "tags": []
   },
   "source": [
    "### Saving pseudobulk adata objects"
   ]
  },
  {
   "cell_type": "code",
   "execution_count": 14,
   "id": "5947e6f8-ac27-4702-ba5d-aa9e1ba79f6a",
   "metadata": {
    "execution": {
     "iopub.execute_input": "2024-06-30T21:01:47.784996Z",
     "iopub.status.busy": "2024-06-30T21:01:47.784582Z",
     "iopub.status.idle": "2024-06-30T21:01:47.855207Z",
     "shell.execute_reply": "2024-06-30T21:01:47.854766Z"
    },
    "papermill": {
     "duration": 0.077382,
     "end_time": "2024-06-30T21:01:47.856016",
     "exception": false,
     "start_time": "2024-06-30T21:01:47.778634",
     "status": "completed"
    },
    "tags": []
   },
   "outputs": [],
   "source": [
    "adataPBcell.write(here(adataPATHlist[0].replace('/scPoli_','/PSEUDOBULKs/scPoli_PSEUDOBULKcell_')), compression='gzip')"
   ]
  },
  {
   "cell_type": "code",
   "execution_count": 15,
   "id": "e9485945-bccf-419a-9420-c1e4f3aa262d",
   "metadata": {
    "execution": {
     "iopub.execute_input": "2024-06-30T21:01:47.868153Z",
     "iopub.status.busy": "2024-06-30T21:01:47.867870Z",
     "iopub.status.idle": "2024-06-30T21:01:47.893519Z",
     "shell.execute_reply": "2024-06-30T21:01:47.893138Z"
    },
    "papermill": {
     "duration": 0.0325,
     "end_time": "2024-06-30T21:01:47.894361",
     "exception": false,
     "start_time": "2024-06-30T21:01:47.861861",
     "status": "completed"
    },
    "tags": []
   },
   "outputs": [],
   "source": [
    "adataPBsample.write(here(adataPATHlist[0].replace('/scPoli_','/PSEUDOBULKs/scPoli_PSEUDOBULKsample_')), compression='gzip')"
   ]
  },
  {
   "cell_type": "code",
   "execution_count": 16,
   "id": "9c2daa40-3279-4b24-8aad-65ee0ba758c8",
   "metadata": {
    "execution": {
     "iopub.execute_input": "2024-06-30T21:01:47.906276Z",
     "iopub.status.busy": "2024-06-30T21:01:47.905869Z",
     "iopub.status.idle": "2024-06-30T21:01:47.992698Z",
     "shell.execute_reply": "2024-06-30T21:01:47.992232Z"
    },
    "papermill": {
     "duration": 0.093779,
     "end_time": "2024-06-30T21:01:47.993548",
     "exception": false,
     "start_time": "2024-06-30T21:01:47.899769",
     "status": "completed"
    },
    "tags": []
   },
   "outputs": [],
   "source": [
    "adataPBcell_sample.write(here(adataPATHlist[0].replace('/scPoli_','/PSEUDOBULKs/scPoli_PSEUDOBULKcellSample_')), compression='gzip')"
   ]
  },
  {
   "cell_type": "code",
   "execution_count": null,
   "id": "8a70d9f6-7a44-45ee-8470-702bd7af1e0b",
   "metadata": {
    "papermill": {
     "duration": 0.005376,
     "end_time": "2024-06-30T21:01:48.004746",
     "exception": false,
     "start_time": "2024-06-30T21:01:47.999370",
     "status": "completed"
    },
    "tags": []
   },
   "outputs": [],
   "source": []
  }
 ],
 "metadata": {
  "kernelspec": {
   "display_name": "Python 3 (ipykernel)",
   "language": "python",
   "name": "python3"
  },
  "language_info": {
   "codemirror_mode": {
    "name": "ipython",
    "version": 3
   },
   "file_extension": ".py",
   "mimetype": "text/x-python",
   "name": "python",
   "nbconvert_exporter": "python",
   "pygments_lexer": "ipython3",
   "version": "3.12.3"
  },
  "papermill": {
   "default_parameters": {},
   "duration": 12.499173,
   "end_time": "2024-06-30T21:01:48.636304",
   "environment_variables": {},
   "exception": null,
   "input_path": "03_generating_PSEUDOBULKs.ipynb",
   "output_path": "executed_notebooks/03_generating_PSEUDOBULKs_scPoli_ref_latents_EXTERNAL_2_20_50_run2_xwzmx078.h5ad.ipynb",
   "parameters": {
    "adataPATH": "03_downstream_analysis/08_PatientClassifier/scPoli/results/scPoli_ref_latents_EXTERNAL_2_20_50_run2_xwzmx078.h5ad"
   },
   "start_time": "2024-06-30T21:01:36.137131",
   "version": "2.6.0"
  }
 },
 "nbformat": 4,
 "nbformat_minor": 5
}