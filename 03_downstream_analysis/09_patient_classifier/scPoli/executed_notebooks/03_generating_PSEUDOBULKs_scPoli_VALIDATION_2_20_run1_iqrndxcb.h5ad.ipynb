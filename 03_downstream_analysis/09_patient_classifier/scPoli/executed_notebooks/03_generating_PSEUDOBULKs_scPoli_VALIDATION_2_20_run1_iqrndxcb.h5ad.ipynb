{
 "cells": [
  {
   "cell_type": "code",
   "execution_count": 1,
   "id": "de9e77f3",
   "metadata": {
    "execution": {
     "iopub.execute_input": "2024-06-27T16:47:45.650442Z",
     "iopub.status.busy": "2024-06-27T16:47:45.649732Z",
     "iopub.status.idle": "2024-06-27T16:47:45.655406Z",
     "shell.execute_reply": "2024-06-27T16:47:45.655039Z"
    },
    "papermill": {
     "duration": 0.070042,
     "end_time": "2024-06-27T16:47:45.659915",
     "exception": false,
     "start_time": "2024-06-27T16:47:45.589873",
     "status": "completed"
    },
    "tags": [
     "injected-parameters"
    ]
   },
   "outputs": [],
   "source": [
    "# Parameters\n",
    "adataPATH = \"03_downstream_analysis/08_PatientClassifier/scPoli/results/scPoli_VALIDATION_2_20_run1_iqrndxcb.h5ad\"\n"
   ]
  },
  {
   "cell_type": "raw",
   "id": "45ccaa27-b0ec-4740-9b7d-9409b7a94ac0",
   "metadata": {
    "papermill": {
     "duration": 0.014641,
     "end_time": "2024-06-27T16:47:45.695935",
     "exception": false,
     "start_time": "2024-06-27T16:47:45.681294",
     "status": "completed"
    },
    "tags": [],
    "vscode": {
     "languageId": "raw"
    }
   },
   "source": [
    "adataMAINpath = '03_downstream_analysis/08_PatientClassifier/scPoli/results/scPoli_2_100_20_*.h5ad'\n",
    "\n",
    "adataVALpath = '03_downstream_analysis/08_PatientClassifier/scPoli/results/scPoli_VALIDATION_2_200_100*.h5ad'\n",
    "adataEXCpath = '03_downstream_analysis/08_PatientClassifier/scPoli/results/scPoli_EXCLUDED_2_100_20_run1_pd5nyb4g.h5ad'\n",
    "adataEXTpath = '03_downstream_analysis/08_PatientClassifier/scPoli/results/scPoli_EXTERNAL_2_100_20_run1_pd5nyb4g.h5ad'\n",
    "\n",
    "adataPATH = adataVALpath"
   ]
  },
  {
   "cell_type": "code",
   "execution_count": 2,
   "id": "d3ccb10a-7201-43d0-a593-2b4650ff3451",
   "metadata": {
    "execution": {
     "iopub.execute_input": "2024-06-27T16:47:45.740067Z",
     "iopub.status.busy": "2024-06-27T16:47:45.739839Z",
     "iopub.status.idle": "2024-06-27T16:47:45.742970Z",
     "shell.execute_reply": "2024-06-27T16:47:45.742591Z"
    },
    "papermill": {
     "duration": 0.039991,
     "end_time": "2024-06-27T16:47:45.745098",
     "exception": false,
     "start_time": "2024-06-27T16:47:45.705107",
     "status": "completed"
    },
    "tags": []
   },
   "outputs": [
    {
     "name": "stdout",
     "output_type": "stream",
     "text": [
      "adataPATH = 03_downstream_analysis/08_PatientClassifier/scPoli/results/scPoli_VALIDATION_2_20_run1_iqrndxcb.h5ad\n"
     ]
    }
   ],
   "source": [
    "for v in ['adataPATH']:\n",
    "    if v in locals() or v in globals():\n",
    "        print(f\"{v} = {eval(v)}\")\n",
    "    else:\n",
    "        raise Exception(f\"{v} not specified\")"
   ]
  },
  {
   "cell_type": "code",
   "execution_count": 3,
   "id": "888fb5f4-9ab7-4196-a282-7a7e92a43971",
   "metadata": {
    "execution": {
     "iopub.execute_input": "2024-06-27T16:47:45.823971Z",
     "iopub.status.busy": "2024-06-27T16:47:45.823723Z",
     "iopub.status.idle": "2024-06-27T16:47:51.738247Z",
     "shell.execute_reply": "2024-06-27T16:47:51.737571Z"
    },
    "papermill": {
     "duration": 5.950366,
     "end_time": "2024-06-27T16:47:51.739598",
     "exception": false,
     "start_time": "2024-06-27T16:47:45.789232",
     "status": "completed"
    },
    "tags": []
   },
   "outputs": [],
   "source": [
    "import os\n",
    "import sys\n",
    "from glob import glob\n",
    "\n",
    "import scanpy as sc\n",
    "import pandas as pd\n",
    "\n",
    "from pyprojroot import here\n",
    "\n",
    "sys.path.insert(1, str(here('bin')))\n",
    "# Import custom functions\n",
    "from customPythonFunctions import aggregating_features"
   ]
  },
  {
   "cell_type": "markdown",
   "id": "ba4905ae-4546-4ef4-b57b-950441ab079d",
   "metadata": {
    "papermill": {
     "duration": 0.006731,
     "end_time": "2024-06-27T16:47:51.756834",
     "exception": false,
     "start_time": "2024-06-27T16:47:51.750103",
     "status": "completed"
    },
    "tags": []
   },
   "source": [
    "### Loading data"
   ]
  },
  {
   "cell_type": "code",
   "execution_count": 4,
   "id": "539cbbbb-3503-4f51-bf04-f007f928ebd1",
   "metadata": {
    "execution": {
     "iopub.execute_input": "2024-06-27T16:47:51.771758Z",
     "iopub.status.busy": "2024-06-27T16:47:51.771182Z",
     "iopub.status.idle": "2024-06-27T16:47:51.775825Z",
     "shell.execute_reply": "2024-06-27T16:47:51.775278Z"
    },
    "papermill": {
     "duration": 0.013919,
     "end_time": "2024-06-27T16:47:51.776934",
     "exception": false,
     "start_time": "2024-06-27T16:47:51.763015",
     "status": "completed"
    },
    "tags": []
   },
   "outputs": [],
   "source": [
    "adataPATHlist = glob(str(here(adataPATH)))\n",
    "assert(len(adataPATHlist) == 1)"
   ]
  },
  {
   "cell_type": "code",
   "execution_count": 5,
   "id": "0fcfce0a-896b-4dc0-8e5e-46749205c84f",
   "metadata": {
    "execution": {
     "iopub.execute_input": "2024-06-27T16:47:51.812541Z",
     "iopub.status.busy": "2024-06-27T16:47:51.812160Z",
     "iopub.status.idle": "2024-06-27T16:47:58.143766Z",
     "shell.execute_reply": "2024-06-27T16:47:58.143248Z"
    },
    "papermill": {
     "duration": 6.352158,
     "end_time": "2024-06-27T16:47:58.144870",
     "exception": false,
     "start_time": "2024-06-27T16:47:51.792712",
     "status": "completed"
    },
    "tags": []
   },
   "outputs": [
    {
     "data": {
      "text/plain": [
       "AnnData object with n_obs × n_vars = 849922 × 20\n",
       "    obs: 'studyID', 'libraryID', 'sampleID', 'chemistry', 'technology', 'disease', 'sex', 'binned_age', 'Level1', 'Level1_unc', 'Level2', 'Level2_unc'\n",
       "    uns: 'chemistry', 'sampleID'"
      ]
     },
     "execution_count": 5,
     "metadata": {},
     "output_type": "execute_result"
    }
   ],
   "source": [
    "adata = sc.read_h5ad(adataPATHlist[0])\n",
    "adata"
   ]
  },
  {
   "cell_type": "markdown",
   "id": "44e868b3-0771-4225-bd79-a4b179bc672b",
   "metadata": {
    "papermill": {
     "duration": 0.768645,
     "end_time": "2024-06-27T16:47:59.472066",
     "exception": false,
     "start_time": "2024-06-27T16:47:58.703421",
     "status": "completed"
    },
    "tags": []
   },
   "source": [
    "#### Generating PSEUDOBULKs"
   ]
  },
  {
   "cell_type": "markdown",
   "id": "97d09fc5-d05c-471e-87fa-fe58ccbe47ac",
   "metadata": {
    "papermill": {
     "duration": 1.618062,
     "end_time": "2024-06-27T16:48:02.074309",
     "exception": false,
     "start_time": "2024-06-27T16:48:00.456247",
     "status": "completed"
    },
    "tags": []
   },
   "source": [
    "**Aggregating cell latent features**"
   ]
  },
  {
   "cell_type": "code",
   "execution_count": 6,
   "id": "81223976-fcf6-4354-8964-b12d76468636",
   "metadata": {
    "execution": {
     "iopub.execute_input": "2024-06-27T16:48:03.132198Z",
     "iopub.status.busy": "2024-06-27T16:48:03.131835Z",
     "iopub.status.idle": "2024-06-27T16:48:03.490331Z",
     "shell.execute_reply": "2024-06-27T16:48:03.489866Z"
    },
    "papermill": {
     "duration": 0.566959,
     "end_time": "2024-06-27T16:48:03.491498",
     "exception": false,
     "start_time": "2024-06-27T16:48:02.924539",
     "status": "completed"
    },
    "tags": []
   },
   "outputs": [
    {
     "data": {
      "text/plain": [
       "AnnData object with n_obs × n_vars = 2111 × 20\n",
       "    obs: 'sampleID', 'Level1', 'disease', 'n_observation'"
      ]
     },
     "execution_count": 6,
     "metadata": {},
     "output_type": "execute_result"
    }
   ],
   "source": [
    "adataPBcell = aggregating_features(Z = adata.X, \n",
    "                             obsDF = adata.obs[['sampleID','Level1','disease']], \n",
    "                             mode = 'mean', \n",
    "                             obs_names_col=['sampleID','Level1'], \n",
    "                             min_observation=0)\n",
    "adataPBcell"
   ]
  },
  {
   "cell_type": "markdown",
   "id": "6d602bad-4793-4aa4-b3d7-d118d413a0fc",
   "metadata": {
    "papermill": {
     "duration": 0.038839,
     "end_time": "2024-06-27T16:48:03.564273",
     "exception": false,
     "start_time": "2024-06-27T16:48:03.525434",
     "status": "completed"
    },
    "tags": []
   },
   "source": [
    "**Extracting sample embedding**"
   ]
  },
  {
   "cell_type": "code",
   "execution_count": 7,
   "id": "e2c14f02",
   "metadata": {
    "execution": {
     "iopub.execute_input": "2024-06-27T16:48:03.623506Z",
     "iopub.status.busy": "2024-06-27T16:48:03.623072Z",
     "iopub.status.idle": "2024-06-27T16:48:03.636804Z",
     "shell.execute_reply": "2024-06-27T16:48:03.635879Z"
    },
    "papermill": {
     "duration": 0.05212,
     "end_time": "2024-06-27T16:48:03.638122",
     "exception": false,
     "start_time": "2024-06-27T16:48:03.586002",
     "status": "completed"
    },
    "tags": []
   },
   "outputs": [
    {
     "data": {
      "text/plain": [
       "AnnData object with n_obs × n_vars = 144 × 20\n",
       "    obs: 'sampleID', 'disease', 'Level1'"
      ]
     },
     "execution_count": 7,
     "metadata": {},
     "output_type": "execute_result"
    }
   ],
   "source": [
    "adataPBsample = adata.uns['sampleID'].copy()\n",
    "adataPBsample.obs['sampleID'] = adataPBsample.obs.index\n",
    "adataPBsample = adataPBsample[adataPBsample.obs['sampleID'].isin(adataPBcell.obs['sampleID'])]\n",
    "\n",
    "adataPBsample.obs = adataPBsample.obs.merge(adataPBcell.obs.groupby('sampleID').agg({'disease':'first'}), left_index=True, right_index=True)\n",
    "adataPBsample.obs['Level1'] = 'sample'\n",
    "adataPBsample"
   ]
  },
  {
   "cell_type": "markdown",
   "id": "2d4fe137-7d68-4e86-a85c-3c1a3d3c4c71",
   "metadata": {
    "papermill": {
     "duration": 0.062282,
     "end_time": "2024-06-27T16:48:03.713124",
     "exception": false,
     "start_time": "2024-06-27T16:48:03.650842",
     "status": "completed"
    },
    "tags": []
   },
   "source": [
    "**Merging cell and patient latent features**"
   ]
  },
  {
   "cell_type": "code",
   "execution_count": 8,
   "id": "a326d2b1",
   "metadata": {
    "execution": {
     "iopub.execute_input": "2024-06-27T16:48:03.764507Z",
     "iopub.status.busy": "2024-06-27T16:48:03.764054Z",
     "iopub.status.idle": "2024-06-27T16:48:03.768153Z",
     "shell.execute_reply": "2024-06-27T16:48:03.767655Z"
    },
    "papermill": {
     "duration": 0.02079,
     "end_time": "2024-06-27T16:48:03.769457",
     "exception": false,
     "start_time": "2024-06-27T16:48:03.748667",
     "status": "completed"
    },
    "tags": []
   },
   "outputs": [],
   "source": [
    "PBcellDF = adataPBcell.to_df()\n",
    "PBcellDF['sampleID'] = adataPBcell.obs['sampleID']"
   ]
  },
  {
   "cell_type": "code",
   "execution_count": 9,
   "id": "1a597f46-d9c5-403b-b81e-5738ca206682",
   "metadata": {
    "execution": {
     "iopub.execute_input": "2024-06-27T16:48:03.869287Z",
     "iopub.status.busy": "2024-06-27T16:48:03.868873Z",
     "iopub.status.idle": "2024-06-27T16:48:03.873457Z",
     "shell.execute_reply": "2024-06-27T16:48:03.872949Z"
    },
    "papermill": {
     "duration": 0.028282,
     "end_time": "2024-06-27T16:48:03.874589",
     "exception": false,
     "start_time": "2024-06-27T16:48:03.846307",
     "status": "completed"
    },
    "tags": []
   },
   "outputs": [],
   "source": [
    "PBsampleDF = adataPBsample.to_df()\n",
    "PBsampleDF['sampleID'] = adataPBsample.obs['sampleID']"
   ]
  },
  {
   "cell_type": "code",
   "execution_count": 10,
   "id": "bb384751-fe1b-4635-a90d-fd98ae61b173",
   "metadata": {
    "execution": {
     "iopub.execute_input": "2024-06-27T16:48:04.057201Z",
     "iopub.status.busy": "2024-06-27T16:48:04.056505Z",
     "iopub.status.idle": "2024-06-27T16:48:04.062024Z",
     "shell.execute_reply": "2024-06-27T16:48:04.061542Z"
    },
    "papermill": {
     "duration": 0.09933,
     "end_time": "2024-06-27T16:48:04.063077",
     "exception": false,
     "start_time": "2024-06-27T16:48:03.963747",
     "status": "completed"
    },
    "tags": []
   },
   "outputs": [],
   "source": [
    "PBcell_sampleDF = PBcellDF.merge(PBsampleDF, on='sampleID', how='left')"
   ]
  },
  {
   "cell_type": "code",
   "execution_count": 11,
   "id": "f7250713-e24d-4614-9cbd-eed702340640",
   "metadata": {
    "execution": {
     "iopub.execute_input": "2024-06-27T16:48:04.091201Z",
     "iopub.status.busy": "2024-06-27T16:48:04.090654Z",
     "iopub.status.idle": "2024-06-27T16:48:04.094938Z",
     "shell.execute_reply": "2024-06-27T16:48:04.094115Z"
    },
    "papermill": {
     "duration": 0.014602,
     "end_time": "2024-06-27T16:48:04.096538",
     "exception": false,
     "start_time": "2024-06-27T16:48:04.081936",
     "status": "completed"
    },
    "tags": []
   },
   "outputs": [],
   "source": [
    "assert(adataPBcell.obs['sampleID'].tolist() == PBcell_sampleDF['sampleID'].tolist())"
   ]
  },
  {
   "cell_type": "code",
   "execution_count": 12,
   "id": "abea2252-6a12-4b89-9f0d-6d6df90064fb",
   "metadata": {
    "execution": {
     "iopub.execute_input": "2024-06-27T16:48:04.149566Z",
     "iopub.status.busy": "2024-06-27T16:48:04.149256Z",
     "iopub.status.idle": "2024-06-27T16:48:04.153088Z",
     "shell.execute_reply": "2024-06-27T16:48:04.152526Z"
    },
    "papermill": {
     "duration": 0.013101,
     "end_time": "2024-06-27T16:48:04.154272",
     "exception": false,
     "start_time": "2024-06-27T16:48:04.141171",
     "status": "completed"
    },
    "tags": []
   },
   "outputs": [],
   "source": [
    "PBcell_sampleDF.drop('sampleID', axis=1, inplace=True)"
   ]
  },
  {
   "cell_type": "code",
   "execution_count": 13,
   "id": "5502e45d-5c72-4440-a8c1-5b299cac6e2d",
   "metadata": {
    "execution": {
     "iopub.execute_input": "2024-06-27T16:48:04.194709Z",
     "iopub.status.busy": "2024-06-27T16:48:04.194227Z",
     "iopub.status.idle": "2024-06-27T16:48:04.200298Z",
     "shell.execute_reply": "2024-06-27T16:48:04.199700Z"
    },
    "papermill": {
     "duration": 0.01821,
     "end_time": "2024-06-27T16:48:04.201393",
     "exception": false,
     "start_time": "2024-06-27T16:48:04.183183",
     "status": "completed"
    },
    "tags": []
   },
   "outputs": [
    {
     "data": {
      "text/plain": [
       "AnnData object with n_obs × n_vars = 2111 × 40\n",
       "    obs: 'sampleID', 'Level1', 'disease', 'n_observation'"
      ]
     },
     "execution_count": 13,
     "metadata": {},
     "output_type": "execute_result"
    }
   ],
   "source": [
    "adataPBcell_sample = sc.AnnData(X = PBcell_sampleDF, obs = adataPBcell.obs)\n",
    "adataPBcell_sample"
   ]
  },
  {
   "cell_type": "markdown",
   "id": "d59574be-684b-4082-b8b6-7d11930362ad",
   "metadata": {
    "papermill": {
     "duration": 0.022225,
     "end_time": "2024-06-27T16:48:04.247685",
     "exception": false,
     "start_time": "2024-06-27T16:48:04.225460",
     "status": "completed"
    },
    "tags": []
   },
   "source": [
    "### Saving pseudobulk adata objects"
   ]
  },
  {
   "cell_type": "code",
   "execution_count": 14,
   "id": "5947e6f8-ac27-4702-ba5d-aa9e1ba79f6a",
   "metadata": {
    "execution": {
     "iopub.execute_input": "2024-06-27T16:48:04.281182Z",
     "iopub.status.busy": "2024-06-27T16:48:04.280882Z",
     "iopub.status.idle": "2024-06-27T16:48:04.348889Z",
     "shell.execute_reply": "2024-06-27T16:48:04.347283Z"
    },
    "papermill": {
     "duration": 0.091627,
     "end_time": "2024-06-27T16:48:04.350506",
     "exception": false,
     "start_time": "2024-06-27T16:48:04.258879",
     "status": "completed"
    },
    "tags": []
   },
   "outputs": [],
   "source": [
    "adataPBcell.write(here(adataPATHlist[0].replace('/scPoli_','/PSEUDOBULKs/scPoli_PSEUDOBULKcell_')), compression='gzip')"
   ]
  },
  {
   "cell_type": "code",
   "execution_count": 15,
   "id": "e9485945-bccf-419a-9420-c1e4f3aa262d",
   "metadata": {
    "execution": {
     "iopub.execute_input": "2024-06-27T16:48:04.409505Z",
     "iopub.status.busy": "2024-06-27T16:48:04.408565Z",
     "iopub.status.idle": "2024-06-27T16:48:04.525956Z",
     "shell.execute_reply": "2024-06-27T16:48:04.525276Z"
    },
    "papermill": {
     "duration": 0.161095,
     "end_time": "2024-06-27T16:48:04.527510",
     "exception": false,
     "start_time": "2024-06-27T16:48:04.366415",
     "status": "completed"
    },
    "tags": []
   },
   "outputs": [],
   "source": [
    "adataPBsample.write(here(adataPATHlist[0].replace('/scPoli_','/PSEUDOBULKs/scPoli_PSEUDOBULKsample_')), compression='gzip')"
   ]
  },
  {
   "cell_type": "code",
   "execution_count": 16,
   "id": "9c2daa40-3279-4b24-8aad-65ee0ba758c8",
   "metadata": {
    "execution": {
     "iopub.execute_input": "2024-06-27T16:48:04.552080Z",
     "iopub.status.busy": "2024-06-27T16:48:04.551712Z",
     "iopub.status.idle": "2024-06-27T16:48:04.661422Z",
     "shell.execute_reply": "2024-06-27T16:48:04.660752Z"
    },
    "papermill": {
     "duration": 0.124766,
     "end_time": "2024-06-27T16:48:04.663631",
     "exception": false,
     "start_time": "2024-06-27T16:48:04.538865",
     "status": "completed"
    },
    "tags": []
   },
   "outputs": [],
   "source": [
    "adataPBcell_sample.write(here(adataPATHlist[0].replace('/scPoli_','/PSEUDOBULKs/scPoli_PSEUDOBULKcellSample_')), compression='gzip')"
   ]
  },
  {
   "cell_type": "code",
   "execution_count": null,
   "id": "8a70d9f6-7a44-45ee-8470-702bd7af1e0b",
   "metadata": {
    "papermill": {
     "duration": 0.03636,
     "end_time": "2024-06-27T16:48:04.724663",
     "exception": false,
     "start_time": "2024-06-27T16:48:04.688303",
     "status": "completed"
    },
    "tags": []
   },
   "outputs": [],
   "source": []
  }
 ],
 "metadata": {
  "kernelspec": {
   "display_name": "Python 3 (ipykernel)",
   "language": "python",
   "name": "python3"
  },
  "language_info": {
   "codemirror_mode": {
    "name": "ipython",
    "version": 3
   },
   "file_extension": ".py",
   "mimetype": "text/x-python",
   "name": "python",
   "nbconvert_exporter": "python",
   "pygments_lexer": "ipython3",
   "version": "3.10.13"
  },
  "papermill": {
   "default_parameters": {},
   "duration": 23.082765,
   "end_time": "2024-06-27T16:48:05.457651",
   "environment_variables": {},
   "exception": null,
   "input_path": "03_generating_PSEUDOBULKs.ipynb",
   "output_path": "executed_notebooks/03_generating_PSEUDOBULKs_scPoli_VALIDATION_2_20_run1_iqrndxcb.h5ad.ipynb",
   "parameters": {
    "adataPATH": "03_downstream_analysis/08_PatientClassifier/scPoli/results/scPoli_VALIDATION_2_20_run1_iqrndxcb.h5ad"
   },
   "start_time": "2024-06-27T16:47:42.374886",
   "version": "2.5.0"
  }
 },
 "nbformat": 4,
 "nbformat_minor": 5
}