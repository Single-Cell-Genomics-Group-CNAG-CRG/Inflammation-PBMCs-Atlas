{
 "cells": [
  {
   "cell_type": "code",
   "execution_count": 1,
   "id": "7ae249ba",
   "metadata": {
    "execution": {
     "iopub.execute_input": "2024-06-30T20:58:25.230656Z",
     "iopub.status.busy": "2024-06-30T20:58:25.230512Z",
     "iopub.status.idle": "2024-06-30T20:58:25.233065Z",
     "shell.execute_reply": "2024-06-30T20:58:25.232705Z"
    },
    "papermill": {
     "duration": 0.010453,
     "end_time": "2024-06-30T20:58:25.233869",
     "exception": false,
     "start_time": "2024-06-30T20:58:25.223416",
     "status": "completed"
    },
    "tags": [
     "injected-parameters"
    ]
   },
   "outputs": [],
   "source": [
    "# Parameters\n",
    "adataPATH = \"03_downstream_analysis/08_PatientClassifier/scPoli/results/scPoli_ref_latents_EXTERNAL_2_100_100_run2_gubrri7h.h5ad\"\n"
   ]
  },
  {
   "cell_type": "raw",
   "id": "bf9880bd-3aef-477b-807d-37e3c5603037",
   "metadata": {
    "execution": {
     "iopub.execute_input": "2024-06-29T08:23:25.403219Z",
     "iopub.status.busy": "2024-06-29T08:23:25.402857Z",
     "iopub.status.idle": "2024-06-29T08:23:25.406428Z",
     "shell.execute_reply": "2024-06-29T08:23:25.406014Z",
     "shell.execute_reply.started": "2024-06-29T08:23:25.403185Z"
    },
    "papermill": {
     "duration": 0.004829,
     "end_time": "2024-06-30T20:58:25.244369",
     "exception": false,
     "start_time": "2024-06-30T20:58:25.239540",
     "status": "completed"
    },
    "tags": [],
    "vscode": {
     "languageId": "raw"
    }
   },
   "source": [
    "adataMAINpath = '03_downstream_analysis/08_PatientClassifier/scPoli/results/scPoli_2_100_20_*.h5ad'\n",
    "\n",
    "adataVALpath = '03_downstream_analysis/08_PatientClassifier/scPoli/results/scPoli_VALIDATION_2_20_20*.h5ad'\n",
    "adataEXCpath = '03_downstream_analysis/08_PatientClassifier/scPoli/results/scPoli_EXCLUDED_2_100_20_run1_pd5nyb4g.h5ad'\n",
    "adataEXTpath = '03_downstream_analysis/08_PatientClassifier/scPoli/results/scPoli_EXTERNAL_2_100_20_run1_pd5nyb4g.h5ad'\n",
    "\n",
    "adataPATH = adataVALpath"
   ]
  },
  {
   "cell_type": "code",
   "execution_count": 2,
   "id": "d3ccb10a-7201-43d0-a593-2b4650ff3451",
   "metadata": {
    "execution": {
     "iopub.execute_input": "2024-06-30T20:58:25.255110Z",
     "iopub.status.busy": "2024-06-30T20:58:25.254974Z",
     "iopub.status.idle": "2024-06-30T20:58:25.257791Z",
     "shell.execute_reply": "2024-06-30T20:58:25.257436Z"
    },
    "papermill": {
     "duration": 0.009179,
     "end_time": "2024-06-30T20:58:25.258598",
     "exception": false,
     "start_time": "2024-06-30T20:58:25.249419",
     "status": "completed"
    },
    "tags": []
   },
   "outputs": [
    {
     "name": "stdout",
     "output_type": "stream",
     "text": [
      "adataPATH = 03_downstream_analysis/08_PatientClassifier/scPoli/results/scPoli_ref_latents_EXTERNAL_2_100_100_run2_gubrri7h.h5ad\n"
     ]
    }
   ],
   "source": [
    "for v in ['adataPATH']:\n",
    "    if v in locals() or v in globals():\n",
    "        print(f\"{v} = {eval(v)}\")\n",
    "    else:\n",
    "        raise Exception(f\"{v} not specified\")"
   ]
  },
  {
   "cell_type": "code",
   "execution_count": 3,
   "id": "888fb5f4-9ab7-4196-a282-7a7e92a43971",
   "metadata": {
    "execution": {
     "iopub.execute_input": "2024-06-30T20:58:25.269816Z",
     "iopub.status.busy": "2024-06-30T20:58:25.269429Z",
     "iopub.status.idle": "2024-06-30T20:58:26.617934Z",
     "shell.execute_reply": "2024-06-30T20:58:26.617435Z"
    },
    "papermill": {
     "duration": 1.355522,
     "end_time": "2024-06-30T20:58:26.619125",
     "exception": false,
     "start_time": "2024-06-30T20:58:25.263603",
     "status": "completed"
    },
    "tags": []
   },
   "outputs": [],
   "source": [
    "import os\n",
    "import sys\n",
    "from glob import glob\n",
    "\n",
    "import scanpy as sc\n",
    "import pandas as pd\n",
    "\n",
    "from pyprojroot import here\n",
    "\n",
    "sys.path.insert(1, str(here('bin')))\n",
    "# Import custom functions\n",
    "from customPythonFunctions import aggregating_features"
   ]
  },
  {
   "cell_type": "markdown",
   "id": "ba4905ae-4546-4ef4-b57b-950441ab079d",
   "metadata": {
    "papermill": {
     "duration": 0.005099,
     "end_time": "2024-06-30T20:58:26.629929",
     "exception": false,
     "start_time": "2024-06-30T20:58:26.624830",
     "status": "completed"
    },
    "tags": []
   },
   "source": [
    "### Loading data"
   ]
  },
  {
   "cell_type": "code",
   "execution_count": 4,
   "id": "539cbbbb-3503-4f51-bf04-f007f928ebd1",
   "metadata": {
    "execution": {
     "iopub.execute_input": "2024-06-30T20:58:26.641121Z",
     "iopub.status.busy": "2024-06-30T20:58:26.640448Z",
     "iopub.status.idle": "2024-06-30T20:58:26.644645Z",
     "shell.execute_reply": "2024-06-30T20:58:26.644240Z"
    },
    "papermill": {
     "duration": 0.010598,
     "end_time": "2024-06-30T20:58:26.645428",
     "exception": false,
     "start_time": "2024-06-30T20:58:26.634830",
     "status": "completed"
    },
    "tags": []
   },
   "outputs": [],
   "source": [
    "adataPATHlist = glob(str(here(adataPATH)))\n",
    "assert(len(adataPATHlist) == 1)"
   ]
  },
  {
   "cell_type": "code",
   "execution_count": 5,
   "id": "0fcfce0a-896b-4dc0-8e5e-46749205c84f",
   "metadata": {
    "execution": {
     "iopub.execute_input": "2024-06-30T20:58:26.657111Z",
     "iopub.status.busy": "2024-06-30T20:58:26.656567Z",
     "iopub.status.idle": "2024-06-30T20:58:42.469249Z",
     "shell.execute_reply": "2024-06-30T20:58:42.468841Z"
    },
    "papermill": {
     "duration": 15.819329,
     "end_time": "2024-06-30T20:58:42.470122",
     "exception": false,
     "start_time": "2024-06-30T20:58:26.650793",
     "status": "completed"
    },
    "tags": []
   },
   "outputs": [
    {
     "data": {
      "text/plain": [
       "AnnData object with n_obs × n_vars = 4435922 × 100\n",
       "    obs: 'studyID', 'libraryID', 'sampleID', 'chemistry', 'disease', 'sex', 'binned_age', 'Level1', 'Level2'\n",
       "    uns: 'chemistry', 'sampleID'"
      ]
     },
     "execution_count": 5,
     "metadata": {},
     "output_type": "execute_result"
    }
   ],
   "source": [
    "adata = sc.read_h5ad(adataPATHlist[0])\n",
    "adata"
   ]
  },
  {
   "cell_type": "markdown",
   "id": "44e868b3-0771-4225-bd79-a4b179bc672b",
   "metadata": {
    "papermill": {
     "duration": 0.013274,
     "end_time": "2024-06-30T20:58:42.488580",
     "exception": false,
     "start_time": "2024-06-30T20:58:42.475306",
     "status": "completed"
    },
    "tags": []
   },
   "source": [
    "#### Generating PSEUDOBULKs"
   ]
  },
  {
   "cell_type": "markdown",
   "id": "97d09fc5-d05c-471e-87fa-fe58ccbe47ac",
   "metadata": {
    "papermill": {
     "duration": 0.021115,
     "end_time": "2024-06-30T20:58:42.515033",
     "exception": false,
     "start_time": "2024-06-30T20:58:42.493918",
     "status": "completed"
    },
    "tags": []
   },
   "source": [
    "**Aggregating cell latent features**"
   ]
  },
  {
   "cell_type": "code",
   "execution_count": 6,
   "id": "81223976-fcf6-4354-8964-b12d76468636",
   "metadata": {
    "execution": {
     "iopub.execute_input": "2024-06-30T20:58:42.539281Z",
     "iopub.status.busy": "2024-06-30T20:58:42.538617Z",
     "iopub.status.idle": "2024-06-30T20:58:45.008267Z",
     "shell.execute_reply": "2024-06-30T20:58:45.007834Z"
    },
    "papermill": {
     "duration": 2.476714,
     "end_time": "2024-06-30T20:58:45.009126",
     "exception": false,
     "start_time": "2024-06-30T20:58:42.532412",
     "status": "completed"
    },
    "tags": []
   },
   "outputs": [
    {
     "data": {
      "text/plain": [
       "AnnData object with n_obs × n_vars = 11372 × 100\n",
       "    obs: 'sampleID', 'Level1', 'disease', 'n_observation'"
      ]
     },
     "execution_count": 6,
     "metadata": {},
     "output_type": "execute_result"
    }
   ],
   "source": [
    "adataPBcell = aggregating_features(Z = adata.X, \n",
    "                             obsDF = adata.obs[['sampleID','Level1','disease']], \n",
    "                             mode = 'mean', \n",
    "                             obs_names_col=['sampleID','Level1'], \n",
    "                             min_observation=0)\n",
    "adataPBcell"
   ]
  },
  {
   "cell_type": "code",
   "execution_count": null,
   "id": "8495038e-aebd-4003-bd94-c1e49f47249e",
   "metadata": {
    "papermill": {
     "duration": 0.005414,
     "end_time": "2024-06-30T20:58:45.020787",
     "exception": false,
     "start_time": "2024-06-30T20:58:45.015373",
     "status": "completed"
    },
    "tags": []
   },
   "outputs": [],
   "source": []
  },
  {
   "cell_type": "markdown",
   "id": "6d602bad-4793-4aa4-b3d7-d118d413a0fc",
   "metadata": {
    "papermill": {
     "duration": 0.005254,
     "end_time": "2024-06-30T20:58:45.032036",
     "exception": false,
     "start_time": "2024-06-30T20:58:45.026782",
     "status": "completed"
    },
    "tags": []
   },
   "source": [
    "**Extracting sample embedding**"
   ]
  },
  {
   "cell_type": "code",
   "execution_count": 7,
   "id": "e2c14f02",
   "metadata": {
    "execution": {
     "iopub.execute_input": "2024-06-30T20:58:45.044452Z",
     "iopub.status.busy": "2024-06-30T20:58:45.044130Z",
     "iopub.status.idle": "2024-06-30T20:58:45.053780Z",
     "shell.execute_reply": "2024-06-30T20:58:45.053434Z"
    },
    "papermill": {
     "duration": 0.016893,
     "end_time": "2024-06-30T20:58:45.054604",
     "exception": false,
     "start_time": "2024-06-30T20:58:45.037711",
     "status": "completed"
    },
    "tags": []
   },
   "outputs": [
    {
     "data": {
      "text/plain": [
       "AnnData object with n_obs × n_vars = 817 × 100\n",
       "    obs: 'sampleID', 'disease', 'Level1'"
      ]
     },
     "execution_count": 7,
     "metadata": {},
     "output_type": "execute_result"
    }
   ],
   "source": [
    "adataPBsample = adata.uns['sampleID'].copy()\n",
    "adataPBsample.obs['sampleID'] = adataPBsample.obs.index\n",
    "adataPBsample = adataPBsample[adataPBsample.obs['sampleID'].isin(adataPBcell.obs['sampleID'])]\n",
    "\n",
    "adataPBsample.obs = adataPBsample.obs.merge(adataPBcell.obs.groupby('sampleID').agg({'disease':'first'}), left_index=True, right_index=True)\n",
    "adataPBsample.obs['Level1'] = 'sample'\n",
    "adataPBsample"
   ]
  },
  {
   "cell_type": "markdown",
   "id": "2d4fe137-7d68-4e86-a85c-3c1a3d3c4c71",
   "metadata": {
    "papermill": {
     "duration": 0.005812,
     "end_time": "2024-06-30T20:58:45.067080",
     "exception": false,
     "start_time": "2024-06-30T20:58:45.061268",
     "status": "completed"
    },
    "tags": []
   },
   "source": [
    "**Merging cell and patient latent features**"
   ]
  },
  {
   "cell_type": "code",
   "execution_count": 8,
   "id": "a326d2b1",
   "metadata": {
    "execution": {
     "iopub.execute_input": "2024-06-30T20:58:45.081072Z",
     "iopub.status.busy": "2024-06-30T20:58:45.080700Z",
     "iopub.status.idle": "2024-06-30T20:58:45.083148Z",
     "shell.execute_reply": "2024-06-30T20:58:45.082798Z"
    },
    "papermill": {
     "duration": 0.010865,
     "end_time": "2024-06-30T20:58:45.083937",
     "exception": false,
     "start_time": "2024-06-30T20:58:45.073072",
     "status": "completed"
    },
    "tags": []
   },
   "outputs": [],
   "source": [
    "PBcellDF = adataPBcell.to_df()\n",
    "PBcellDF['sampleID'] = adataPBcell.obs['sampleID']"
   ]
  },
  {
   "cell_type": "code",
   "execution_count": 9,
   "id": "1a597f46-d9c5-403b-b81e-5738ca206682",
   "metadata": {
    "execution": {
     "iopub.execute_input": "2024-06-30T20:58:45.096092Z",
     "iopub.status.busy": "2024-06-30T20:58:45.095671Z",
     "iopub.status.idle": "2024-06-30T20:58:45.098227Z",
     "shell.execute_reply": "2024-06-30T20:58:45.097876Z"
    },
    "papermill": {
     "duration": 0.00948,
     "end_time": "2024-06-30T20:58:45.099003",
     "exception": false,
     "start_time": "2024-06-30T20:58:45.089523",
     "status": "completed"
    },
    "tags": []
   },
   "outputs": [],
   "source": [
    "PBsampleDF = adataPBsample.to_df()\n",
    "PBsampleDF['sampleID'] = adataPBsample.obs['sampleID']"
   ]
  },
  {
   "cell_type": "code",
   "execution_count": 10,
   "id": "bb384751-fe1b-4635-a90d-fd98ae61b173",
   "metadata": {
    "execution": {
     "iopub.execute_input": "2024-06-30T20:58:45.111749Z",
     "iopub.status.busy": "2024-06-30T20:58:45.111431Z",
     "iopub.status.idle": "2024-06-30T20:58:45.121025Z",
     "shell.execute_reply": "2024-06-30T20:58:45.120541Z"
    },
    "papermill": {
     "duration": 0.016672,
     "end_time": "2024-06-30T20:58:45.121812",
     "exception": false,
     "start_time": "2024-06-30T20:58:45.105140",
     "status": "completed"
    },
    "tags": []
   },
   "outputs": [],
   "source": [
    "PBcell_sampleDF = PBcellDF.merge(PBsampleDF, on='sampleID', how='left')"
   ]
  },
  {
   "cell_type": "code",
   "execution_count": 11,
   "id": "f7250713-e24d-4614-9cbd-eed702340640",
   "metadata": {
    "execution": {
     "iopub.execute_input": "2024-06-30T20:58:45.134423Z",
     "iopub.status.busy": "2024-06-30T20:58:45.134134Z",
     "iopub.status.idle": "2024-06-30T20:58:45.136702Z",
     "shell.execute_reply": "2024-06-30T20:58:45.136348Z"
    },
    "papermill": {
     "duration": 0.009722,
     "end_time": "2024-06-30T20:58:45.137470",
     "exception": false,
     "start_time": "2024-06-30T20:58:45.127748",
     "status": "completed"
    },
    "tags": []
   },
   "outputs": [],
   "source": [
    "assert(adataPBcell.obs['sampleID'].tolist() == PBcell_sampleDF['sampleID'].tolist())"
   ]
  },
  {
   "cell_type": "code",
   "execution_count": 12,
   "id": "abea2252-6a12-4b89-9f0d-6d6df90064fb",
   "metadata": {
    "execution": {
     "iopub.execute_input": "2024-06-30T20:58:45.149998Z",
     "iopub.status.busy": "2024-06-30T20:58:45.149625Z",
     "iopub.status.idle": "2024-06-30T20:58:45.153211Z",
     "shell.execute_reply": "2024-06-30T20:58:45.152750Z"
    },
    "papermill": {
     "duration": 0.010709,
     "end_time": "2024-06-30T20:58:45.153973",
     "exception": false,
     "start_time": "2024-06-30T20:58:45.143264",
     "status": "completed"
    },
    "tags": []
   },
   "outputs": [],
   "source": [
    "PBcell_sampleDF.drop('sampleID', axis=1, inplace=True)"
   ]
  },
  {
   "cell_type": "code",
   "execution_count": 13,
   "id": "5502e45d-5c72-4440-a8c1-5b299cac6e2d",
   "metadata": {
    "execution": {
     "iopub.execute_input": "2024-06-30T20:58:45.166292Z",
     "iopub.status.busy": "2024-06-30T20:58:45.166015Z",
     "iopub.status.idle": "2024-06-30T20:58:45.170449Z",
     "shell.execute_reply": "2024-06-30T20:58:45.170069Z"
    },
    "papermill": {
     "duration": 0.011523,
     "end_time": "2024-06-30T20:58:45.171265",
     "exception": false,
     "start_time": "2024-06-30T20:58:45.159742",
     "status": "completed"
    },
    "tags": []
   },
   "outputs": [
    {
     "data": {
      "text/plain": [
       "AnnData object with n_obs × n_vars = 11372 × 200\n",
       "    obs: 'sampleID', 'Level1', 'disease', 'n_observation'"
      ]
     },
     "execution_count": 13,
     "metadata": {},
     "output_type": "execute_result"
    }
   ],
   "source": [
    "adataPBcell_sample = sc.AnnData(X = PBcell_sampleDF, obs = adataPBcell.obs)\n",
    "adataPBcell_sample"
   ]
  },
  {
   "cell_type": "markdown",
   "id": "d59574be-684b-4082-b8b6-7d11930362ad",
   "metadata": {
    "papermill": {
     "duration": 0.005666,
     "end_time": "2024-06-30T20:58:45.182697",
     "exception": false,
     "start_time": "2024-06-30T20:58:45.177031",
     "status": "completed"
    },
    "tags": []
   },
   "source": [
    "### Saving pseudobulk adata objects"
   ]
  },
  {
   "cell_type": "code",
   "execution_count": 14,
   "id": "5947e6f8-ac27-4702-ba5d-aa9e1ba79f6a",
   "metadata": {
    "execution": {
     "iopub.execute_input": "2024-06-30T20:58:45.195087Z",
     "iopub.status.busy": "2024-06-30T20:58:45.194796Z",
     "iopub.status.idle": "2024-06-30T20:58:45.389968Z",
     "shell.execute_reply": "2024-06-30T20:58:45.389515Z"
    },
    "papermill": {
     "duration": 0.202459,
     "end_time": "2024-06-30T20:58:45.390817",
     "exception": false,
     "start_time": "2024-06-30T20:58:45.188358",
     "status": "completed"
    },
    "tags": []
   },
   "outputs": [],
   "source": [
    "adataPBcell.write(here(adataPATHlist[0].replace('/scPoli_','/PSEUDOBULKs/scPoli_PSEUDOBULKcell_')), compression='gzip')"
   ]
  },
  {
   "cell_type": "code",
   "execution_count": 15,
   "id": "e9485945-bccf-419a-9420-c1e4f3aa262d",
   "metadata": {
    "execution": {
     "iopub.execute_input": "2024-06-30T20:58:45.403186Z",
     "iopub.status.busy": "2024-06-30T20:58:45.402886Z",
     "iopub.status.idle": "2024-06-30T20:58:45.434743Z",
     "shell.execute_reply": "2024-06-30T20:58:45.434356Z"
    },
    "papermill": {
     "duration": 0.039251,
     "end_time": "2024-06-30T20:58:45.435997",
     "exception": false,
     "start_time": "2024-06-30T20:58:45.396746",
     "status": "completed"
    },
    "tags": []
   },
   "outputs": [],
   "source": [
    "adataPBsample.write(here(adataPATHlist[0].replace('/scPoli_','/PSEUDOBULKs/scPoli_PSEUDOBULKsample_')), compression='gzip')"
   ]
  },
  {
   "cell_type": "code",
   "execution_count": 16,
   "id": "9c2daa40-3279-4b24-8aad-65ee0ba758c8",
   "metadata": {
    "execution": {
     "iopub.execute_input": "2024-06-30T20:58:45.449934Z",
     "iopub.status.busy": "2024-06-30T20:58:45.449640Z",
     "iopub.status.idle": "2024-06-30T20:58:45.725918Z",
     "shell.execute_reply": "2024-06-30T20:58:45.725457Z"
    },
    "papermill": {
     "duration": 0.284324,
     "end_time": "2024-06-30T20:58:45.726805",
     "exception": false,
     "start_time": "2024-06-30T20:58:45.442481",
     "status": "completed"
    },
    "tags": []
   },
   "outputs": [],
   "source": [
    "adataPBcell_sample.write(here(adataPATHlist[0].replace('/scPoli_','/PSEUDOBULKs/scPoli_PSEUDOBULKcellSample_')), compression='gzip')"
   ]
  },
  {
   "cell_type": "code",
   "execution_count": null,
   "id": "8a70d9f6-7a44-45ee-8470-702bd7af1e0b",
   "metadata": {
    "papermill": {
     "duration": 0.005402,
     "end_time": "2024-06-30T20:58:45.738205",
     "exception": false,
     "start_time": "2024-06-30T20:58:45.732803",
     "status": "completed"
    },
    "tags": []
   },
   "outputs": [],
   "source": []
  }
 ],
 "metadata": {
  "kernelspec": {
   "display_name": "Python 3 (ipykernel)",
   "language": "python",
   "name": "python3"
  },
  "language_info": {
   "codemirror_mode": {
    "name": "ipython",
    "version": 3
   },
   "file_extension": ".py",
   "mimetype": "text/x-python",
   "name": "python",
   "nbconvert_exporter": "python",
   "pygments_lexer": "ipython3",
   "version": "3.12.3"
  },
  "papermill": {
   "default_parameters": {},
   "duration": 22.099292,
   "end_time": "2024-06-30T20:58:46.358553",
   "environment_variables": {},
   "exception": null,
   "input_path": "03_generating_PSEUDOBULKs.ipynb",
   "output_path": "executed_notebooks/03_generating_PSEUDOBULKs_scPoli_ref_latents_EXTERNAL_2_100_100_run2_gubrri7h.h5ad.ipynb",
   "parameters": {
    "adataPATH": "03_downstream_analysis/08_PatientClassifier/scPoli/results/scPoli_ref_latents_EXTERNAL_2_100_100_run2_gubrri7h.h5ad"
   },
   "start_time": "2024-06-30T20:58:24.259261",
   "version": "2.6.0"
  }
 },
 "nbformat": 4,
 "nbformat_minor": 5
}