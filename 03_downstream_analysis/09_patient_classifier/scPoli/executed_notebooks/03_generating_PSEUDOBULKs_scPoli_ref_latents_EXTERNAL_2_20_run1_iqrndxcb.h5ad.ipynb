{
 "cells": [
  {
   "cell_type": "code",
   "execution_count": 1,
   "id": "c896434e",
   "metadata": {
    "execution": {
     "iopub.execute_input": "2024-06-27T16:47:45.402400Z",
     "iopub.status.busy": "2024-06-27T16:47:45.401796Z",
     "iopub.status.idle": "2024-06-27T16:47:45.407535Z",
     "shell.execute_reply": "2024-06-27T16:47:45.407078Z"
    },
    "papermill": {
     "duration": 0.01521,
     "end_time": "2024-06-27T16:47:45.409513",
     "exception": false,
     "start_time": "2024-06-27T16:47:45.394303",
     "status": "completed"
    },
    "tags": [
     "injected-parameters"
    ]
   },
   "outputs": [],
   "source": [
    "# Parameters\n",
    "adataPATH = \"03_downstream_analysis/08_PatientClassifier/scPoli/results/scPoli_ref_latents_EXTERNAL_2_20_run1_iqrndxcb.h5ad\"\n"
   ]
  },
  {
   "cell_type": "raw",
   "id": "45ccaa27-b0ec-4740-9b7d-9409b7a94ac0",
   "metadata": {
    "papermill": {
     "duration": 0.008577,
     "end_time": "2024-06-27T16:47:45.424065",
     "exception": false,
     "start_time": "2024-06-27T16:47:45.415488",
     "status": "completed"
    },
    "tags": [],
    "vscode": {
     "languageId": "raw"
    }
   },
   "source": [
    "adataMAINpath = '03_downstream_analysis/08_PatientClassifier/scPoli/results/scPoli_2_100_20_*.h5ad'\n",
    "\n",
    "adataVALpath = '03_downstream_analysis/08_PatientClassifier/scPoli/results/scPoli_VALIDATION_2_200_100*.h5ad'\n",
    "adataEXCpath = '03_downstream_analysis/08_PatientClassifier/scPoli/results/scPoli_EXCLUDED_2_100_20_run1_pd5nyb4g.h5ad'\n",
    "adataEXTpath = '03_downstream_analysis/08_PatientClassifier/scPoli/results/scPoli_EXTERNAL_2_100_20_run1_pd5nyb4g.h5ad'\n",
    "\n",
    "adataPATH = adataVALpath"
   ]
  },
  {
   "cell_type": "code",
   "execution_count": 2,
   "id": "d3ccb10a-7201-43d0-a593-2b4650ff3451",
   "metadata": {
    "execution": {
     "iopub.execute_input": "2024-06-27T16:47:45.440931Z",
     "iopub.status.busy": "2024-06-27T16:47:45.440310Z",
     "iopub.status.idle": "2024-06-27T16:47:45.443904Z",
     "shell.execute_reply": "2024-06-27T16:47:45.443401Z"
    },
    "papermill": {
     "duration": 0.013733,
     "end_time": "2024-06-27T16:47:45.444891",
     "exception": false,
     "start_time": "2024-06-27T16:47:45.431158",
     "status": "completed"
    },
    "tags": []
   },
   "outputs": [
    {
     "name": "stdout",
     "output_type": "stream",
     "text": [
      "adataPATH = 03_downstream_analysis/08_PatientClassifier/scPoli/results/scPoli_ref_latents_EXTERNAL_2_20_run1_iqrndxcb.h5ad\n"
     ]
    }
   ],
   "source": [
    "for v in ['adataPATH']:\n",
    "    if v in locals() or v in globals():\n",
    "        print(f\"{v} = {eval(v)}\")\n",
    "    else:\n",
    "        raise Exception(f\"{v} not specified\")"
   ]
  },
  {
   "cell_type": "code",
   "execution_count": 3,
   "id": "888fb5f4-9ab7-4196-a282-7a7e92a43971",
   "metadata": {
    "execution": {
     "iopub.execute_input": "2024-06-27T16:47:45.460359Z",
     "iopub.status.busy": "2024-06-27T16:47:45.460157Z",
     "iopub.status.idle": "2024-06-27T16:47:51.727580Z",
     "shell.execute_reply": "2024-06-27T16:47:51.727008Z"
    },
    "papermill": {
     "duration": 6.275316,
     "end_time": "2024-06-27T16:47:51.729038",
     "exception": false,
     "start_time": "2024-06-27T16:47:45.453722",
     "status": "completed"
    },
    "tags": []
   },
   "outputs": [],
   "source": [
    "import os\n",
    "import sys\n",
    "from glob import glob\n",
    "\n",
    "import scanpy as sc\n",
    "import pandas as pd\n",
    "\n",
    "from pyprojroot import here\n",
    "\n",
    "sys.path.insert(1, str(here('bin')))\n",
    "# Import custom functions\n",
    "from customPythonFunctions import aggregating_features"
   ]
  },
  {
   "cell_type": "markdown",
   "id": "ba4905ae-4546-4ef4-b57b-950441ab079d",
   "metadata": {
    "papermill": {
     "duration": 0.008758,
     "end_time": "2024-06-27T16:47:51.746907",
     "exception": false,
     "start_time": "2024-06-27T16:47:51.738149",
     "status": "completed"
    },
    "tags": []
   },
   "source": [
    "### Loading data"
   ]
  },
  {
   "cell_type": "code",
   "execution_count": 4,
   "id": "539cbbbb-3503-4f51-bf04-f007f928ebd1",
   "metadata": {
    "execution": {
     "iopub.execute_input": "2024-06-27T16:47:51.763749Z",
     "iopub.status.busy": "2024-06-27T16:47:51.763189Z",
     "iopub.status.idle": "2024-06-27T16:47:51.770186Z",
     "shell.execute_reply": "2024-06-27T16:47:51.769565Z"
    },
    "papermill": {
     "duration": 0.017465,
     "end_time": "2024-06-27T16:47:51.771468",
     "exception": false,
     "start_time": "2024-06-27T16:47:51.754003",
     "status": "completed"
    },
    "tags": []
   },
   "outputs": [],
   "source": [
    "adataPATHlist = glob(str(here(adataPATH)))\n",
    "assert(len(adataPATHlist) == 1)"
   ]
  },
  {
   "cell_type": "code",
   "execution_count": 5,
   "id": "0fcfce0a-896b-4dc0-8e5e-46749205c84f",
   "metadata": {
    "execution": {
     "iopub.execute_input": "2024-06-27T16:47:51.812729Z",
     "iopub.status.busy": "2024-06-27T16:47:51.812093Z",
     "iopub.status.idle": "2024-06-27T16:48:06.124285Z",
     "shell.execute_reply": "2024-06-27T16:48:06.123689Z"
    },
    "papermill": {
     "duration": 14.338613,
     "end_time": "2024-06-27T16:48:06.125852",
     "exception": false,
     "start_time": "2024-06-27T16:47:51.787239",
     "status": "completed"
    },
    "tags": []
   },
   "outputs": [
    {
     "data": {
      "text/plain": [
       "AnnData object with n_obs × n_vars = 4435922 × 20\n",
       "    obs: 'studyID', 'libraryID', 'sampleID', 'chemistry', 'disease', 'sex', 'binned_age', 'Level1', 'Level2'\n",
       "    uns: 'chemistry', 'sampleID'"
      ]
     },
     "execution_count": 5,
     "metadata": {},
     "output_type": "execute_result"
    }
   ],
   "source": [
    "adata = sc.read_h5ad(adataPATHlist[0])\n",
    "adata"
   ]
  },
  {
   "cell_type": "markdown",
   "id": "44e868b3-0771-4225-bd79-a4b179bc672b",
   "metadata": {
    "papermill": {
     "duration": 0.005998,
     "end_time": "2024-06-27T16:48:06.170398",
     "exception": false,
     "start_time": "2024-06-27T16:48:06.164400",
     "status": "completed"
    },
    "tags": []
   },
   "source": [
    "#### Generating PSEUDOBULKs"
   ]
  },
  {
   "cell_type": "markdown",
   "id": "97d09fc5-d05c-471e-87fa-fe58ccbe47ac",
   "metadata": {
    "papermill": {
     "duration": 0.006249,
     "end_time": "2024-06-27T16:48:06.187813",
     "exception": false,
     "start_time": "2024-06-27T16:48:06.181564",
     "status": "completed"
    },
    "tags": []
   },
   "source": [
    "**Aggregating cell latent features**"
   ]
  },
  {
   "cell_type": "code",
   "execution_count": 6,
   "id": "81223976-fcf6-4354-8964-b12d76468636",
   "metadata": {
    "execution": {
     "iopub.execute_input": "2024-06-27T16:48:06.208820Z",
     "iopub.status.busy": "2024-06-27T16:48:06.208427Z",
     "iopub.status.idle": "2024-06-27T16:48:07.910667Z",
     "shell.execute_reply": "2024-06-27T16:48:07.910170Z"
    },
    "papermill": {
     "duration": 1.711065,
     "end_time": "2024-06-27T16:48:07.911691",
     "exception": false,
     "start_time": "2024-06-27T16:48:06.200626",
     "status": "completed"
    },
    "tags": []
   },
   "outputs": [
    {
     "data": {
      "text/plain": [
       "AnnData object with n_obs × n_vars = 11372 × 20\n",
       "    obs: 'sampleID', 'Level1', 'disease', 'n_observation'"
      ]
     },
     "execution_count": 6,
     "metadata": {},
     "output_type": "execute_result"
    }
   ],
   "source": [
    "adataPBcell = aggregating_features(Z = adata.X, \n",
    "                             obsDF = adata.obs[['sampleID','Level1','disease']], \n",
    "                             mode = 'mean', \n",
    "                             obs_names_col=['sampleID','Level1'], \n",
    "                             min_observation=0)\n",
    "adataPBcell"
   ]
  },
  {
   "cell_type": "markdown",
   "id": "6d602bad-4793-4aa4-b3d7-d118d413a0fc",
   "metadata": {
    "papermill": {
     "duration": 0.045048,
     "end_time": "2024-06-27T16:48:08.034044",
     "exception": false,
     "start_time": "2024-06-27T16:48:07.988996",
     "status": "completed"
    },
    "tags": []
   },
   "source": [
    "**Extracting sample embedding**"
   ]
  },
  {
   "cell_type": "code",
   "execution_count": 7,
   "id": "e2c14f02",
   "metadata": {
    "execution": {
     "iopub.execute_input": "2024-06-27T16:48:08.052936Z",
     "iopub.status.busy": "2024-06-27T16:48:08.052540Z",
     "iopub.status.idle": "2024-06-27T16:48:08.064214Z",
     "shell.execute_reply": "2024-06-27T16:48:08.063699Z"
    },
    "papermill": {
     "duration": 0.020736,
     "end_time": "2024-06-27T16:48:08.065289",
     "exception": false,
     "start_time": "2024-06-27T16:48:08.044553",
     "status": "completed"
    },
    "tags": []
   },
   "outputs": [
    {
     "data": {
      "text/plain": [
       "AnnData object with n_obs × n_vars = 817 × 20\n",
       "    obs: 'sampleID', 'disease', 'Level1'"
      ]
     },
     "execution_count": 7,
     "metadata": {},
     "output_type": "execute_result"
    }
   ],
   "source": [
    "adataPBsample = adata.uns['sampleID'].copy()\n",
    "adataPBsample.obs['sampleID'] = adataPBsample.obs.index\n",
    "adataPBsample = adataPBsample[adataPBsample.obs['sampleID'].isin(adataPBcell.obs['sampleID'])]\n",
    "\n",
    "adataPBsample.obs = adataPBsample.obs.merge(adataPBcell.obs.groupby('sampleID').agg({'disease':'first'}), left_index=True, right_index=True)\n",
    "adataPBsample.obs['Level1'] = 'sample'\n",
    "adataPBsample"
   ]
  },
  {
   "cell_type": "markdown",
   "id": "2d4fe137-7d68-4e86-a85c-3c1a3d3c4c71",
   "metadata": {
    "papermill": {
     "duration": 0.217651,
     "end_time": "2024-06-27T16:48:08.317026",
     "exception": false,
     "start_time": "2024-06-27T16:48:08.099375",
     "status": "completed"
    },
    "tags": []
   },
   "source": [
    "**Merging cell and patient latent features**"
   ]
  },
  {
   "cell_type": "code",
   "execution_count": 8,
   "id": "a326d2b1",
   "metadata": {
    "execution": {
     "iopub.execute_input": "2024-06-27T16:48:08.493865Z",
     "iopub.status.busy": "2024-06-27T16:48:08.493486Z",
     "iopub.status.idle": "2024-06-27T16:48:08.497520Z",
     "shell.execute_reply": "2024-06-27T16:48:08.496969Z"
    },
    "papermill": {
     "duration": 0.01399,
     "end_time": "2024-06-27T16:48:08.498518",
     "exception": false,
     "start_time": "2024-06-27T16:48:08.484528",
     "status": "completed"
    },
    "tags": []
   },
   "outputs": [],
   "source": [
    "PBcellDF = adataPBcell.to_df()\n",
    "PBcellDF['sampleID'] = adataPBcell.obs['sampleID']"
   ]
  },
  {
   "cell_type": "code",
   "execution_count": 9,
   "id": "1a597f46-d9c5-403b-b81e-5738ca206682",
   "metadata": {
    "execution": {
     "iopub.execute_input": "2024-06-27T16:48:08.520448Z",
     "iopub.status.busy": "2024-06-27T16:48:08.520091Z",
     "iopub.status.idle": "2024-06-27T16:48:08.524276Z",
     "shell.execute_reply": "2024-06-27T16:48:08.523651Z"
    },
    "papermill": {
     "duration": 0.012982,
     "end_time": "2024-06-27T16:48:08.525269",
     "exception": false,
     "start_time": "2024-06-27T16:48:08.512287",
     "status": "completed"
    },
    "tags": []
   },
   "outputs": [],
   "source": [
    "PBsampleDF = adataPBsample.to_df()\n",
    "PBsampleDF['sampleID'] = adataPBsample.obs['sampleID']"
   ]
  },
  {
   "cell_type": "code",
   "execution_count": 10,
   "id": "bb384751-fe1b-4635-a90d-fd98ae61b173",
   "metadata": {
    "execution": {
     "iopub.execute_input": "2024-06-27T16:48:08.560090Z",
     "iopub.status.busy": "2024-06-27T16:48:08.559443Z",
     "iopub.status.idle": "2024-06-27T16:48:08.566800Z",
     "shell.execute_reply": "2024-06-27T16:48:08.566236Z"
    },
    "papermill": {
     "duration": 0.017423,
     "end_time": "2024-06-27T16:48:08.567814",
     "exception": false,
     "start_time": "2024-06-27T16:48:08.550391",
     "status": "completed"
    },
    "tags": []
   },
   "outputs": [],
   "source": [
    "PBcell_sampleDF = PBcellDF.merge(PBsampleDF, on='sampleID', how='left')"
   ]
  },
  {
   "cell_type": "code",
   "execution_count": 11,
   "id": "f7250713-e24d-4614-9cbd-eed702340640",
   "metadata": {
    "execution": {
     "iopub.execute_input": "2024-06-27T16:48:08.594247Z",
     "iopub.status.busy": "2024-06-27T16:48:08.593867Z",
     "iopub.status.idle": "2024-06-27T16:48:08.597297Z",
     "shell.execute_reply": "2024-06-27T16:48:08.596868Z"
    },
    "papermill": {
     "duration": 0.017863,
     "end_time": "2024-06-27T16:48:08.598248",
     "exception": false,
     "start_time": "2024-06-27T16:48:08.580385",
     "status": "completed"
    },
    "tags": []
   },
   "outputs": [],
   "source": [
    "assert(adataPBcell.obs['sampleID'].tolist() == PBcell_sampleDF['sampleID'].tolist())"
   ]
  },
  {
   "cell_type": "code",
   "execution_count": 12,
   "id": "abea2252-6a12-4b89-9f0d-6d6df90064fb",
   "metadata": {
    "execution": {
     "iopub.execute_input": "2024-06-27T16:48:08.618314Z",
     "iopub.status.busy": "2024-06-27T16:48:08.617958Z",
     "iopub.status.idle": "2024-06-27T16:48:08.621520Z",
     "shell.execute_reply": "2024-06-27T16:48:08.621100Z"
    },
    "papermill": {
     "duration": 0.01407,
     "end_time": "2024-06-27T16:48:08.622485",
     "exception": false,
     "start_time": "2024-06-27T16:48:08.608415",
     "status": "completed"
    },
    "tags": []
   },
   "outputs": [],
   "source": [
    "PBcell_sampleDF.drop('sampleID', axis=1, inplace=True)"
   ]
  },
  {
   "cell_type": "code",
   "execution_count": 13,
   "id": "5502e45d-5c72-4440-a8c1-5b299cac6e2d",
   "metadata": {
    "execution": {
     "iopub.execute_input": "2024-06-27T16:48:08.664892Z",
     "iopub.status.busy": "2024-06-27T16:48:08.664503Z",
     "iopub.status.idle": "2024-06-27T16:48:08.669544Z",
     "shell.execute_reply": "2024-06-27T16:48:08.669134Z"
    },
    "papermill": {
     "duration": 0.041233,
     "end_time": "2024-06-27T16:48:08.670547",
     "exception": false,
     "start_time": "2024-06-27T16:48:08.629314",
     "status": "completed"
    },
    "tags": []
   },
   "outputs": [
    {
     "data": {
      "text/plain": [
       "AnnData object with n_obs × n_vars = 11372 × 40\n",
       "    obs: 'sampleID', 'Level1', 'disease', 'n_observation'"
      ]
     },
     "execution_count": 13,
     "metadata": {},
     "output_type": "execute_result"
    }
   ],
   "source": [
    "adataPBcell_sample = sc.AnnData(X = PBcell_sampleDF, obs = adataPBcell.obs)\n",
    "adataPBcell_sample"
   ]
  },
  {
   "cell_type": "markdown",
   "id": "d59574be-684b-4082-b8b6-7d11930362ad",
   "metadata": {
    "papermill": {
     "duration": 0.006559,
     "end_time": "2024-06-27T16:48:08.685380",
     "exception": false,
     "start_time": "2024-06-27T16:48:08.678821",
     "status": "completed"
    },
    "tags": []
   },
   "source": [
    "### Saving pseudobulk adata objects"
   ]
  },
  {
   "cell_type": "code",
   "execution_count": 14,
   "id": "5947e6f8-ac27-4702-ba5d-aa9e1ba79f6a",
   "metadata": {
    "execution": {
     "iopub.execute_input": "2024-06-27T16:48:08.707545Z",
     "iopub.status.busy": "2024-06-27T16:48:08.707195Z",
     "iopub.status.idle": "2024-06-27T16:48:08.797312Z",
     "shell.execute_reply": "2024-06-27T16:48:08.796755Z"
    },
    "papermill": {
     "duration": 0.106362,
     "end_time": "2024-06-27T16:48:08.798813",
     "exception": false,
     "start_time": "2024-06-27T16:48:08.692451",
     "status": "completed"
    },
    "tags": []
   },
   "outputs": [],
   "source": [
    "adataPBcell.write(here(adataPATHlist[0].replace('/scPoli_','/PSEUDOBULKs/scPoli_PSEUDOBULKcell_')), compression='gzip')"
   ]
  },
  {
   "cell_type": "code",
   "execution_count": 15,
   "id": "e9485945-bccf-419a-9420-c1e4f3aa262d",
   "metadata": {
    "execution": {
     "iopub.execute_input": "2024-06-27T16:48:08.813455Z",
     "iopub.status.busy": "2024-06-27T16:48:08.812975Z",
     "iopub.status.idle": "2024-06-27T16:48:08.842807Z",
     "shell.execute_reply": "2024-06-27T16:48:08.842261Z"
    },
    "papermill": {
     "duration": 0.038399,
     "end_time": "2024-06-27T16:48:08.844156",
     "exception": false,
     "start_time": "2024-06-27T16:48:08.805757",
     "status": "completed"
    },
    "tags": []
   },
   "outputs": [],
   "source": [
    "adataPBsample.write(here(adataPATHlist[0].replace('/scPoli_','/PSEUDOBULKs/scPoli_PSEUDOBULKsample_')), compression='gzip')"
   ]
  },
  {
   "cell_type": "code",
   "execution_count": 16,
   "id": "9c2daa40-3279-4b24-8aad-65ee0ba758c8",
   "metadata": {
    "execution": {
     "iopub.execute_input": "2024-06-27T16:48:08.872953Z",
     "iopub.status.busy": "2024-06-27T16:48:08.872701Z",
     "iopub.status.idle": "2024-06-27T16:48:08.968701Z",
     "shell.execute_reply": "2024-06-27T16:48:08.968102Z"
    },
    "papermill": {
     "duration": 0.104793,
     "end_time": "2024-06-27T16:48:08.970210",
     "exception": false,
     "start_time": "2024-06-27T16:48:08.865417",
     "status": "completed"
    },
    "tags": []
   },
   "outputs": [],
   "source": [
    "adataPBcell_sample.write(here(adataPATHlist[0].replace('/scPoli_','/PSEUDOBULKs/scPoli_PSEUDOBULKcellSample_')), compression='gzip')"
   ]
  },
  {
   "cell_type": "code",
   "execution_count": null,
   "id": "8a70d9f6-7a44-45ee-8470-702bd7af1e0b",
   "metadata": {
    "papermill": {
     "duration": 0.021119,
     "end_time": "2024-06-27T16:48:09.002534",
     "exception": false,
     "start_time": "2024-06-27T16:48:08.981415",
     "status": "completed"
    },
    "tags": []
   },
   "outputs": [],
   "source": []
  }
 ],
 "metadata": {
  "kernelspec": {
   "display_name": "Python 3 (ipykernel)",
   "language": "python",
   "name": "python3"
  },
  "language_info": {
   "codemirror_mode": {
    "name": "ipython",
    "version": 3
   },
   "file_extension": ".py",
   "mimetype": "text/x-python",
   "name": "python",
   "nbconvert_exporter": "python",
   "pygments_lexer": "ipython3",
   "version": "3.10.13"
  },
  "papermill": {
   "default_parameters": {},
   "duration": 27.352652,
   "end_time": "2024-06-27T16:48:09.727026",
   "environment_variables": {},
   "exception": null,
   "input_path": "03_generating_PSEUDOBULKs.ipynb",
   "output_path": "executed_notebooks/03_generating_PSEUDOBULKs_scPoli_ref_latents_EXTERNAL_2_20_run1_iqrndxcb.h5ad.ipynb",
   "parameters": {
    "adataPATH": "03_downstream_analysis/08_PatientClassifier/scPoli/results/scPoli_ref_latents_EXTERNAL_2_20_run1_iqrndxcb.h5ad"
   },
   "start_time": "2024-06-27T16:47:42.374374",
   "version": "2.5.0"
  }
 },
 "nbformat": 4,
 "nbformat_minor": 5
}