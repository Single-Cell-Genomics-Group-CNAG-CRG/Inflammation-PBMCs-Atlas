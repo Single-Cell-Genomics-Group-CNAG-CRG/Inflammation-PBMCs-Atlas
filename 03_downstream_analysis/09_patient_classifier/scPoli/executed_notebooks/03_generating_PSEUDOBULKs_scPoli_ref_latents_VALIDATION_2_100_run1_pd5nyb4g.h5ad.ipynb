{
 "cells": [
  {
   "cell_type": "code",
   "execution_count": 1,
   "id": "762ec961",
   "metadata": {
    "execution": {
     "iopub.execute_input": "2024-06-27T16:47:45.558363Z",
     "iopub.status.busy": "2024-06-27T16:47:45.558146Z",
     "iopub.status.idle": "2024-06-27T16:47:45.564481Z",
     "shell.execute_reply": "2024-06-27T16:47:45.564076Z"
    },
    "papermill": {
     "duration": 0.019505,
     "end_time": "2024-06-27T16:47:45.565674",
     "exception": false,
     "start_time": "2024-06-27T16:47:45.546169",
     "status": "completed"
    },
    "tags": [
     "injected-parameters"
    ]
   },
   "outputs": [],
   "source": [
    "# Parameters\n",
    "adataPATH = \"03_downstream_analysis/08_PatientClassifier/scPoli/results/scPoli_ref_latents_VALIDATION_2_100_run1_pd5nyb4g.h5ad\"\n"
   ]
  },
  {
   "cell_type": "raw",
   "id": "45ccaa27-b0ec-4740-9b7d-9409b7a94ac0",
   "metadata": {
    "papermill": {
     "duration": 0.027955,
     "end_time": "2024-06-27T16:47:45.651174",
     "exception": false,
     "start_time": "2024-06-27T16:47:45.623219",
     "status": "completed"
    },
    "tags": [],
    "vscode": {
     "languageId": "raw"
    }
   },
   "source": [
    "adataMAINpath = '03_downstream_analysis/08_PatientClassifier/scPoli/results/scPoli_2_100_20_*.h5ad'\n",
    "\n",
    "adataVALpath = '03_downstream_analysis/08_PatientClassifier/scPoli/results/scPoli_VALIDATION_2_200_100*.h5ad'\n",
    "adataEXCpath = '03_downstream_analysis/08_PatientClassifier/scPoli/results/scPoli_EXCLUDED_2_100_20_run1_pd5nyb4g.h5ad'\n",
    "adataEXTpath = '03_downstream_analysis/08_PatientClassifier/scPoli/results/scPoli_EXTERNAL_2_100_20_run1_pd5nyb4g.h5ad'\n",
    "\n",
    "adataPATH = adataVALpath"
   ]
  },
  {
   "cell_type": "code",
   "execution_count": 2,
   "id": "d3ccb10a-7201-43d0-a593-2b4650ff3451",
   "metadata": {
    "execution": {
     "iopub.execute_input": "2024-06-27T16:47:45.688322Z",
     "iopub.status.busy": "2024-06-27T16:47:45.688046Z",
     "iopub.status.idle": "2024-06-27T16:47:45.691387Z",
     "shell.execute_reply": "2024-06-27T16:47:45.690919Z"
    },
    "papermill": {
     "duration": 0.02458,
     "end_time": "2024-06-27T16:47:45.692466",
     "exception": false,
     "start_time": "2024-06-27T16:47:45.667886",
     "status": "completed"
    },
    "tags": []
   },
   "outputs": [
    {
     "name": "stdout",
     "output_type": "stream",
     "text": [
      "adataPATH = 03_downstream_analysis/08_PatientClassifier/scPoli/results/scPoli_ref_latents_VALIDATION_2_100_run1_pd5nyb4g.h5ad\n"
     ]
    }
   ],
   "source": [
    "for v in ['adataPATH']:\n",
    "    if v in locals() or v in globals():\n",
    "        print(f\"{v} = {eval(v)}\")\n",
    "    else:\n",
    "        raise Exception(f\"{v} not specified\")"
   ]
  },
  {
   "cell_type": "code",
   "execution_count": 3,
   "id": "888fb5f4-9ab7-4196-a282-7a7e92a43971",
   "metadata": {
    "execution": {
     "iopub.execute_input": "2024-06-27T16:47:45.718521Z",
     "iopub.status.busy": "2024-06-27T16:47:45.718248Z",
     "iopub.status.idle": "2024-06-27T16:47:51.693208Z",
     "shell.execute_reply": "2024-06-27T16:47:51.692581Z"
    },
    "papermill": {
     "duration": 5.991315,
     "end_time": "2024-06-27T16:47:51.694613",
     "exception": false,
     "start_time": "2024-06-27T16:47:45.703298",
     "status": "completed"
    },
    "tags": []
   },
   "outputs": [],
   "source": [
    "import os\n",
    "import sys\n",
    "from glob import glob\n",
    "\n",
    "import scanpy as sc\n",
    "import pandas as pd\n",
    "\n",
    "from pyprojroot import here\n",
    "\n",
    "sys.path.insert(1, str(here('bin')))\n",
    "# Import custom functions\n",
    "from customPythonFunctions import aggregating_features"
   ]
  },
  {
   "cell_type": "markdown",
   "id": "ba4905ae-4546-4ef4-b57b-950441ab079d",
   "metadata": {
    "papermill": {
     "duration": 0.005881,
     "end_time": "2024-06-27T16:47:51.707453",
     "exception": false,
     "start_time": "2024-06-27T16:47:51.701572",
     "status": "completed"
    },
    "tags": []
   },
   "source": [
    "### Loading data"
   ]
  },
  {
   "cell_type": "code",
   "execution_count": 4,
   "id": "539cbbbb-3503-4f51-bf04-f007f928ebd1",
   "metadata": {
    "execution": {
     "iopub.execute_input": "2024-06-27T16:47:51.722303Z",
     "iopub.status.busy": "2024-06-27T16:47:51.721724Z",
     "iopub.status.idle": "2024-06-27T16:47:51.726564Z",
     "shell.execute_reply": "2024-06-27T16:47:51.726049Z"
    },
    "papermill": {
     "duration": 0.015267,
     "end_time": "2024-06-27T16:47:51.728955",
     "exception": false,
     "start_time": "2024-06-27T16:47:51.713688",
     "status": "completed"
    },
    "tags": []
   },
   "outputs": [],
   "source": [
    "adataPATHlist = glob(str(here(adataPATH)))\n",
    "assert(len(adataPATHlist) == 1)"
   ]
  },
  {
   "cell_type": "code",
   "execution_count": 5,
   "id": "0fcfce0a-896b-4dc0-8e5e-46749205c84f",
   "metadata": {
    "execution": {
     "iopub.execute_input": "2024-06-27T16:47:51.747819Z",
     "iopub.status.busy": "2024-06-27T16:47:51.747200Z",
     "iopub.status.idle": "2024-06-27T16:48:14.075800Z",
     "shell.execute_reply": "2024-06-27T16:48:14.075273Z"
    },
    "papermill": {
     "duration": 22.339149,
     "end_time": "2024-06-27T16:48:14.076876",
     "exception": false,
     "start_time": "2024-06-27T16:47:51.737727",
     "status": "completed"
    },
    "tags": []
   },
   "outputs": [
    {
     "data": {
      "text/plain": [
       "AnnData object with n_obs × n_vars = 4435922 × 100\n",
       "    obs: 'studyID', 'libraryID', 'sampleID', 'chemistry', 'disease', 'sex', 'binned_age', 'Level1', 'Level2'\n",
       "    uns: 'chemistry', 'sampleID'"
      ]
     },
     "execution_count": 5,
     "metadata": {},
     "output_type": "execute_result"
    }
   ],
   "source": [
    "adata = sc.read_h5ad(adataPATHlist[0])\n",
    "adata"
   ]
  },
  {
   "cell_type": "markdown",
   "id": "44e868b3-0771-4225-bd79-a4b179bc672b",
   "metadata": {
    "papermill": {
     "duration": 0.006477,
     "end_time": "2024-06-27T16:48:14.095540",
     "exception": false,
     "start_time": "2024-06-27T16:48:14.089063",
     "status": "completed"
    },
    "tags": []
   },
   "source": [
    "#### Generating PSEUDOBULKs"
   ]
  },
  {
   "cell_type": "markdown",
   "id": "97d09fc5-d05c-471e-87fa-fe58ccbe47ac",
   "metadata": {
    "papermill": {
     "duration": 0.005818,
     "end_time": "2024-06-27T16:48:14.107372",
     "exception": false,
     "start_time": "2024-06-27T16:48:14.101554",
     "status": "completed"
    },
    "tags": []
   },
   "source": [
    "**Aggregating cell latent features**"
   ]
  },
  {
   "cell_type": "code",
   "execution_count": 6,
   "id": "81223976-fcf6-4354-8964-b12d76468636",
   "metadata": {
    "execution": {
     "iopub.execute_input": "2024-06-27T16:48:14.119354Z",
     "iopub.status.busy": "2024-06-27T16:48:14.118843Z",
     "iopub.status.idle": "2024-06-27T16:48:16.474988Z",
     "shell.execute_reply": "2024-06-27T16:48:16.474445Z"
    },
    "papermill": {
     "duration": 2.363353,
     "end_time": "2024-06-27T16:48:16.476146",
     "exception": false,
     "start_time": "2024-06-27T16:48:14.112793",
     "status": "completed"
    },
    "tags": []
   },
   "outputs": [
    {
     "data": {
      "text/plain": [
       "AnnData object with n_obs × n_vars = 11372 × 100\n",
       "    obs: 'sampleID', 'Level1', 'disease', 'n_observation'"
      ]
     },
     "execution_count": 6,
     "metadata": {},
     "output_type": "execute_result"
    }
   ],
   "source": [
    "adataPBcell = aggregating_features(Z = adata.X, \n",
    "                             obsDF = adata.obs[['sampleID','Level1','disease']], \n",
    "                             mode = 'mean', \n",
    "                             obs_names_col=['sampleID','Level1'], \n",
    "                             min_observation=0)\n",
    "adataPBcell"
   ]
  },
  {
   "cell_type": "markdown",
   "id": "6d602bad-4793-4aa4-b3d7-d118d413a0fc",
   "metadata": {
    "papermill": {
     "duration": 0.007643,
     "end_time": "2024-06-27T16:48:16.490206",
     "exception": false,
     "start_time": "2024-06-27T16:48:16.482563",
     "status": "completed"
    },
    "tags": []
   },
   "source": [
    "**Extracting sample embedding**"
   ]
  },
  {
   "cell_type": "code",
   "execution_count": 7,
   "id": "e2c14f02",
   "metadata": {
    "execution": {
     "iopub.execute_input": "2024-06-27T16:48:16.503601Z",
     "iopub.status.busy": "2024-06-27T16:48:16.503427Z",
     "iopub.status.idle": "2024-06-27T16:48:16.514065Z",
     "shell.execute_reply": "2024-06-27T16:48:16.513599Z"
    },
    "papermill": {
     "duration": 0.019235,
     "end_time": "2024-06-27T16:48:16.515133",
     "exception": false,
     "start_time": "2024-06-27T16:48:16.495898",
     "status": "completed"
    },
    "tags": []
   },
   "outputs": [
    {
     "data": {
      "text/plain": [
       "AnnData object with n_obs × n_vars = 817 × 20\n",
       "    obs: 'sampleID', 'disease', 'Level1'"
      ]
     },
     "execution_count": 7,
     "metadata": {},
     "output_type": "execute_result"
    }
   ],
   "source": [
    "adataPBsample = adata.uns['sampleID'].copy()\n",
    "adataPBsample.obs['sampleID'] = adataPBsample.obs.index\n",
    "adataPBsample = adataPBsample[adataPBsample.obs['sampleID'].isin(adataPBcell.obs['sampleID'])]\n",
    "\n",
    "adataPBsample.obs = adataPBsample.obs.merge(adataPBcell.obs.groupby('sampleID').agg({'disease':'first'}), left_index=True, right_index=True)\n",
    "adataPBsample.obs['Level1'] = 'sample'\n",
    "adataPBsample"
   ]
  },
  {
   "cell_type": "markdown",
   "id": "2d4fe137-7d68-4e86-a85c-3c1a3d3c4c71",
   "metadata": {
    "papermill": {
     "duration": 0.005726,
     "end_time": "2024-06-27T16:48:16.526617",
     "exception": false,
     "start_time": "2024-06-27T16:48:16.520891",
     "status": "completed"
    },
    "tags": []
   },
   "source": [
    "**Merging cell and patient latent features**"
   ]
  },
  {
   "cell_type": "code",
   "execution_count": 8,
   "id": "a326d2b1",
   "metadata": {
    "execution": {
     "iopub.execute_input": "2024-06-27T16:48:16.540050Z",
     "iopub.status.busy": "2024-06-27T16:48:16.539600Z",
     "iopub.status.idle": "2024-06-27T16:48:16.542491Z",
     "shell.execute_reply": "2024-06-27T16:48:16.542030Z"
    },
    "papermill": {
     "duration": 0.010448,
     "end_time": "2024-06-27T16:48:16.543569",
     "exception": false,
     "start_time": "2024-06-27T16:48:16.533121",
     "status": "completed"
    },
    "tags": []
   },
   "outputs": [],
   "source": [
    "PBcellDF = adataPBcell.to_df()\n",
    "PBcellDF['sampleID'] = adataPBcell.obs['sampleID']"
   ]
  },
  {
   "cell_type": "code",
   "execution_count": 9,
   "id": "1a597f46-d9c5-403b-b81e-5738ca206682",
   "metadata": {
    "execution": {
     "iopub.execute_input": "2024-06-27T16:48:16.559394Z",
     "iopub.status.busy": "2024-06-27T16:48:16.558887Z",
     "iopub.status.idle": "2024-06-27T16:48:16.561936Z",
     "shell.execute_reply": "2024-06-27T16:48:16.561450Z"
    },
    "papermill": {
     "duration": 0.01141,
     "end_time": "2024-06-27T16:48:16.562953",
     "exception": false,
     "start_time": "2024-06-27T16:48:16.551543",
     "status": "completed"
    },
    "tags": []
   },
   "outputs": [],
   "source": [
    "PBsampleDF = adataPBsample.to_df()\n",
    "PBsampleDF['sampleID'] = adataPBsample.obs['sampleID']"
   ]
  },
  {
   "cell_type": "code",
   "execution_count": 10,
   "id": "bb384751-fe1b-4635-a90d-fd98ae61b173",
   "metadata": {
    "execution": {
     "iopub.execute_input": "2024-06-27T16:48:16.585686Z",
     "iopub.status.busy": "2024-06-27T16:48:16.585528Z",
     "iopub.status.idle": "2024-06-27T16:48:16.593869Z",
     "shell.execute_reply": "2024-06-27T16:48:16.593276Z"
    },
    "papermill": {
     "duration": 0.021362,
     "end_time": "2024-06-27T16:48:16.595105",
     "exception": false,
     "start_time": "2024-06-27T16:48:16.573743",
     "status": "completed"
    },
    "tags": []
   },
   "outputs": [],
   "source": [
    "PBcell_sampleDF = PBcellDF.merge(PBsampleDF, on='sampleID', how='left')"
   ]
  },
  {
   "cell_type": "code",
   "execution_count": 11,
   "id": "f7250713-e24d-4614-9cbd-eed702340640",
   "metadata": {
    "execution": {
     "iopub.execute_input": "2024-06-27T16:48:16.609298Z",
     "iopub.status.busy": "2024-06-27T16:48:16.608956Z",
     "iopub.status.idle": "2024-06-27T16:48:16.611992Z",
     "shell.execute_reply": "2024-06-27T16:48:16.611487Z"
    },
    "papermill": {
     "duration": 0.010639,
     "end_time": "2024-06-27T16:48:16.612954",
     "exception": false,
     "start_time": "2024-06-27T16:48:16.602315",
     "status": "completed"
    },
    "tags": []
   },
   "outputs": [],
   "source": [
    "assert(adataPBcell.obs['sampleID'].tolist() == PBcell_sampleDF['sampleID'].tolist())"
   ]
  },
  {
   "cell_type": "code",
   "execution_count": 12,
   "id": "abea2252-6a12-4b89-9f0d-6d6df90064fb",
   "metadata": {
    "execution": {
     "iopub.execute_input": "2024-06-27T16:48:16.626762Z",
     "iopub.status.busy": "2024-06-27T16:48:16.626338Z",
     "iopub.status.idle": "2024-06-27T16:48:16.629938Z",
     "shell.execute_reply": "2024-06-27T16:48:16.629398Z"
    },
    "papermill": {
     "duration": 0.012463,
     "end_time": "2024-06-27T16:48:16.631536",
     "exception": false,
     "start_time": "2024-06-27T16:48:16.619073",
     "status": "completed"
    },
    "tags": []
   },
   "outputs": [],
   "source": [
    "PBcell_sampleDF.drop('sampleID', axis=1, inplace=True)"
   ]
  },
  {
   "cell_type": "code",
   "execution_count": 13,
   "id": "5502e45d-5c72-4440-a8c1-5b299cac6e2d",
   "metadata": {
    "execution": {
     "iopub.execute_input": "2024-06-27T16:48:16.644399Z",
     "iopub.status.busy": "2024-06-27T16:48:16.644075Z",
     "iopub.status.idle": "2024-06-27T16:48:16.648743Z",
     "shell.execute_reply": "2024-06-27T16:48:16.648276Z"
    },
    "papermill": {
     "duration": 0.012248,
     "end_time": "2024-06-27T16:48:16.649713",
     "exception": false,
     "start_time": "2024-06-27T16:48:16.637465",
     "status": "completed"
    },
    "tags": []
   },
   "outputs": [
    {
     "data": {
      "text/plain": [
       "AnnData object with n_obs × n_vars = 11372 × 120\n",
       "    obs: 'sampleID', 'Level1', 'disease', 'n_observation'"
      ]
     },
     "execution_count": 13,
     "metadata": {},
     "output_type": "execute_result"
    }
   ],
   "source": [
    "adataPBcell_sample = sc.AnnData(X = PBcell_sampleDF, obs = adataPBcell.obs)\n",
    "adataPBcell_sample"
   ]
  },
  {
   "cell_type": "markdown",
   "id": "d59574be-684b-4082-b8b6-7d11930362ad",
   "metadata": {
    "papermill": {
     "duration": 0.019229,
     "end_time": "2024-06-27T16:48:16.681396",
     "exception": false,
     "start_time": "2024-06-27T16:48:16.662167",
     "status": "completed"
    },
    "tags": []
   },
   "source": [
    "### Saving pseudobulk adata objects"
   ]
  },
  {
   "cell_type": "code",
   "execution_count": 14,
   "id": "5947e6f8-ac27-4702-ba5d-aa9e1ba79f6a",
   "metadata": {
    "execution": {
     "iopub.execute_input": "2024-06-27T16:48:16.697429Z",
     "iopub.status.busy": "2024-06-27T16:48:16.696950Z",
     "iopub.status.idle": "2024-06-27T16:48:16.897155Z",
     "shell.execute_reply": "2024-06-27T16:48:16.896528Z"
    },
    "papermill": {
     "duration": 0.210298,
     "end_time": "2024-06-27T16:48:16.898674",
     "exception": false,
     "start_time": "2024-06-27T16:48:16.688376",
     "status": "completed"
    },
    "tags": []
   },
   "outputs": [],
   "source": [
    "adataPBcell.write(here(adataPATHlist[0].replace('/scPoli_','/PSEUDOBULKs/scPoli_PSEUDOBULKcell_')), compression='gzip')"
   ]
  },
  {
   "cell_type": "code",
   "execution_count": 15,
   "id": "e9485945-bccf-419a-9420-c1e4f3aa262d",
   "metadata": {
    "execution": {
     "iopub.execute_input": "2024-06-27T16:48:16.915613Z",
     "iopub.status.busy": "2024-06-27T16:48:16.915444Z",
     "iopub.status.idle": "2024-06-27T16:48:16.939658Z",
     "shell.execute_reply": "2024-06-27T16:48:16.939152Z"
    },
    "papermill": {
     "duration": 0.032334,
     "end_time": "2024-06-27T16:48:16.940633",
     "exception": false,
     "start_time": "2024-06-27T16:48:16.908299",
     "status": "completed"
    },
    "tags": []
   },
   "outputs": [],
   "source": [
    "adataPBsample.write(here(adataPATHlist[0].replace('/scPoli_','/PSEUDOBULKs/scPoli_PSEUDOBULKsample_')), compression='gzip')"
   ]
  },
  {
   "cell_type": "code",
   "execution_count": 16,
   "id": "9c2daa40-3279-4b24-8aad-65ee0ba758c8",
   "metadata": {
    "execution": {
     "iopub.execute_input": "2024-06-27T16:48:16.953585Z",
     "iopub.status.busy": "2024-06-27T16:48:16.953137Z",
     "iopub.status.idle": "2024-06-27T16:48:17.140812Z",
     "shell.execute_reply": "2024-06-27T16:48:17.140164Z"
    },
    "papermill": {
     "duration": 0.195418,
     "end_time": "2024-06-27T16:48:17.142169",
     "exception": false,
     "start_time": "2024-06-27T16:48:16.946751",
     "status": "completed"
    },
    "tags": []
   },
   "outputs": [],
   "source": [
    "adataPBcell_sample.write(here(adataPATHlist[0].replace('/scPoli_','/PSEUDOBULKs/scPoli_PSEUDOBULKcellSample_')), compression='gzip')"
   ]
  },
  {
   "cell_type": "code",
   "execution_count": null,
   "id": "8a70d9f6-7a44-45ee-8470-702bd7af1e0b",
   "metadata": {
    "papermill": {
     "duration": 0.009805,
     "end_time": "2024-06-27T16:48:17.158972",
     "exception": false,
     "start_time": "2024-06-27T16:48:17.149167",
     "status": "completed"
    },
    "tags": []
   },
   "outputs": [],
   "source": []
  }
 ],
 "metadata": {
  "kernelspec": {
   "display_name": "Python 3 (ipykernel)",
   "language": "python",
   "name": "python3"
  },
  "language_info": {
   "codemirror_mode": {
    "name": "ipython",
    "version": 3
   },
   "file_extension": ".py",
   "mimetype": "text/x-python",
   "name": "python",
   "nbconvert_exporter": "python",
   "pygments_lexer": "ipython3",
   "version": "3.10.13"
  },
  "papermill": {
   "default_parameters": {},
   "duration": 35.406792,
   "end_time": "2024-06-27T16:48:17.781549",
   "environment_variables": {},
   "exception": null,
   "input_path": "03_generating_PSEUDOBULKs.ipynb",
   "output_path": "executed_notebooks/03_generating_PSEUDOBULKs_scPoli_ref_latents_VALIDATION_2_100_run1_pd5nyb4g.h5ad.ipynb",
   "parameters": {
    "adataPATH": "03_downstream_analysis/08_PatientClassifier/scPoli/results/scPoli_ref_latents_VALIDATION_2_100_run1_pd5nyb4g.h5ad"
   },
   "start_time": "2024-06-27T16:47:42.374757",
   "version": "2.5.0"
  }
 },
 "nbformat": 4,
 "nbformat_minor": 5
}