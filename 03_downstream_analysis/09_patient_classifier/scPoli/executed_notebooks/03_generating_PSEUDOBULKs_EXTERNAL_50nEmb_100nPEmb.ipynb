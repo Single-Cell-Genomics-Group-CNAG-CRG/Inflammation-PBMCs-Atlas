{
 "cells": [
  {
   "cell_type": "code",
   "execution_count": 1,
   "id": "7b39d0ca",
   "metadata": {
    "execution": {
     "iopub.execute_input": "2024-06-30T20:55:51.845665Z",
     "iopub.status.busy": "2024-06-30T20:55:51.845523Z",
     "iopub.status.idle": "2024-06-30T20:55:51.848000Z",
     "shell.execute_reply": "2024-06-30T20:55:51.847644Z"
    },
    "papermill": {
     "duration": 0.010318,
     "end_time": "2024-06-30T20:55:51.848858",
     "exception": false,
     "start_time": "2024-06-30T20:55:51.838540",
     "status": "completed"
    },
    "tags": [
     "injected-parameters"
    ]
   },
   "outputs": [],
   "source": [
    "# Parameters\n",
    "adataPATH = \"03_downstream_analysis/08_PatientClassifier/scPoli/results/scPoli_EXTERNAL_2_50_100_*.h5ad\"\n"
   ]
  },
  {
   "cell_type": "raw",
   "id": "bf9880bd-3aef-477b-807d-37e3c5603037",
   "metadata": {
    "execution": {
     "iopub.execute_input": "2024-06-29T08:23:25.403219Z",
     "iopub.status.busy": "2024-06-29T08:23:25.402857Z",
     "iopub.status.idle": "2024-06-29T08:23:25.406428Z",
     "shell.execute_reply": "2024-06-29T08:23:25.406014Z",
     "shell.execute_reply.started": "2024-06-29T08:23:25.403185Z"
    },
    "papermill": {
     "duration": 0.00506,
     "end_time": "2024-06-30T20:55:51.859310",
     "exception": false,
     "start_time": "2024-06-30T20:55:51.854250",
     "status": "completed"
    },
    "tags": [],
    "vscode": {
     "languageId": "raw"
    }
   },
   "source": [
    "adataMAINpath = '03_downstream_analysis/08_PatientClassifier/scPoli/results/scPoli_2_100_20_*.h5ad'\n",
    "\n",
    "adataVALpath = '03_downstream_analysis/08_PatientClassifier/scPoli/results/scPoli_VALIDATION_2_20_20*.h5ad'\n",
    "adataEXCpath = '03_downstream_analysis/08_PatientClassifier/scPoli/results/scPoli_EXCLUDED_2_100_20_run1_pd5nyb4g.h5ad'\n",
    "adataEXTpath = '03_downstream_analysis/08_PatientClassifier/scPoli/results/scPoli_EXTERNAL_2_100_20_run1_pd5nyb4g.h5ad'\n",
    "\n",
    "adataPATH = adataVALpath"
   ]
  },
  {
   "cell_type": "code",
   "execution_count": 2,
   "id": "d3ccb10a-7201-43d0-a593-2b4650ff3451",
   "metadata": {
    "execution": {
     "iopub.execute_input": "2024-06-30T20:55:51.869813Z",
     "iopub.status.busy": "2024-06-30T20:55:51.869528Z",
     "iopub.status.idle": "2024-06-30T20:55:51.872470Z",
     "shell.execute_reply": "2024-06-30T20:55:51.872086Z"
    },
    "papermill": {
     "duration": 0.008911,
     "end_time": "2024-06-30T20:55:51.873247",
     "exception": false,
     "start_time": "2024-06-30T20:55:51.864336",
     "status": "completed"
    },
    "tags": []
   },
   "outputs": [
    {
     "name": "stdout",
     "output_type": "stream",
     "text": [
      "adataPATH = 03_downstream_analysis/08_PatientClassifier/scPoli/results/scPoli_EXTERNAL_2_50_100_*.h5ad\n"
     ]
    }
   ],
   "source": [
    "for v in ['adataPATH']:\n",
    "    if v in locals() or v in globals():\n",
    "        print(f\"{v} = {eval(v)}\")\n",
    "    else:\n",
    "        raise Exception(f\"{v} not specified\")"
   ]
  },
  {
   "cell_type": "code",
   "execution_count": 3,
   "id": "888fb5f4-9ab7-4196-a282-7a7e92a43971",
   "metadata": {
    "execution": {
     "iopub.execute_input": "2024-06-30T20:55:51.884472Z",
     "iopub.status.busy": "2024-06-30T20:55:51.884067Z",
     "iopub.status.idle": "2024-06-30T20:55:53.791521Z",
     "shell.execute_reply": "2024-06-30T20:55:53.791039Z"
    },
    "papermill": {
     "duration": 1.914118,
     "end_time": "2024-06-30T20:55:53.792462",
     "exception": false,
     "start_time": "2024-06-30T20:55:51.878344",
     "status": "completed"
    },
    "tags": []
   },
   "outputs": [],
   "source": [
    "import os\n",
    "import sys\n",
    "from glob import glob\n",
    "\n",
    "import scanpy as sc\n",
    "import pandas as pd\n",
    "\n",
    "from pyprojroot import here\n",
    "\n",
    "sys.path.insert(1, str(here('bin')))\n",
    "# Import custom functions\n",
    "from customPythonFunctions import aggregating_features"
   ]
  },
  {
   "cell_type": "markdown",
   "id": "ba4905ae-4546-4ef4-b57b-950441ab079d",
   "metadata": {
    "papermill": {
     "duration": 0.005161,
     "end_time": "2024-06-30T20:55:53.803064",
     "exception": false,
     "start_time": "2024-06-30T20:55:53.797903",
     "status": "completed"
    },
    "tags": []
   },
   "source": [
    "### Loading data"
   ]
  },
  {
   "cell_type": "code",
   "execution_count": 4,
   "id": "539cbbbb-3503-4f51-bf04-f007f928ebd1",
   "metadata": {
    "execution": {
     "iopub.execute_input": "2024-06-30T20:55:53.814143Z",
     "iopub.status.busy": "2024-06-30T20:55:53.813848Z",
     "iopub.status.idle": "2024-06-30T20:55:53.817861Z",
     "shell.execute_reply": "2024-06-30T20:55:53.817494Z"
    },
    "papermill": {
     "duration": 0.010433,
     "end_time": "2024-06-30T20:55:53.818633",
     "exception": false,
     "start_time": "2024-06-30T20:55:53.808200",
     "status": "completed"
    },
    "tags": []
   },
   "outputs": [],
   "source": [
    "adataPATHlist = glob(str(here(adataPATH)))\n",
    "assert(len(adataPATHlist) == 1)"
   ]
  },
  {
   "cell_type": "code",
   "execution_count": 5,
   "id": "0fcfce0a-896b-4dc0-8e5e-46749205c84f",
   "metadata": {
    "execution": {
     "iopub.execute_input": "2024-06-30T20:55:53.830274Z",
     "iopub.status.busy": "2024-06-30T20:55:53.830001Z",
     "iopub.status.idle": "2024-06-30T20:55:55.027152Z",
     "shell.execute_reply": "2024-06-30T20:55:55.026723Z"
    },
    "papermill": {
     "duration": 1.204313,
     "end_time": "2024-06-30T20:55:55.027976",
     "exception": false,
     "start_time": "2024-06-30T20:55:53.823663",
     "status": "completed"
    },
    "tags": []
   },
   "outputs": [
    {
     "data": {
      "text/plain": [
       "AnnData object with n_obs × n_vars = 572872 × 50\n",
       "    obs: 'studyID', 'libraryID', 'sampleID', 'chemistry', 'technology', 'disease', 'sex', 'binned_age', 'Level1', 'Level2', 'conditions_combined', 'Level1_unc', 'Level2_unc'\n",
       "    uns: 'chemistry', 'sampleID'"
      ]
     },
     "execution_count": 5,
     "metadata": {},
     "output_type": "execute_result"
    }
   ],
   "source": [
    "adata = sc.read_h5ad(adataPATHlist[0])\n",
    "adata"
   ]
  },
  {
   "cell_type": "markdown",
   "id": "44e868b3-0771-4225-bd79-a4b179bc672b",
   "metadata": {
    "papermill": {
     "duration": 0.004976,
     "end_time": "2024-06-30T20:55:55.040229",
     "exception": false,
     "start_time": "2024-06-30T20:55:55.035253",
     "status": "completed"
    },
    "tags": []
   },
   "source": [
    "#### Generating PSEUDOBULKs"
   ]
  },
  {
   "cell_type": "markdown",
   "id": "97d09fc5-d05c-471e-87fa-fe58ccbe47ac",
   "metadata": {
    "papermill": {
     "duration": 0.004846,
     "end_time": "2024-06-30T20:55:55.050028",
     "exception": false,
     "start_time": "2024-06-30T20:55:55.045182",
     "status": "completed"
    },
    "tags": []
   },
   "source": [
    "**Aggregating cell latent features**"
   ]
  },
  {
   "cell_type": "code",
   "execution_count": 6,
   "id": "81223976-fcf6-4354-8964-b12d76468636",
   "metadata": {
    "execution": {
     "iopub.execute_input": "2024-06-30T20:55:55.061915Z",
     "iopub.status.busy": "2024-06-30T20:55:55.061725Z",
     "iopub.status.idle": "2024-06-30T20:55:55.335217Z",
     "shell.execute_reply": "2024-06-30T20:55:55.334778Z"
    },
    "papermill": {
     "duration": 0.280392,
     "end_time": "2024-06-30T20:55:55.336014",
     "exception": false,
     "start_time": "2024-06-30T20:55:55.055622",
     "status": "completed"
    },
    "tags": []
   },
   "outputs": [
    {
     "data": {
      "text/plain": [
       "AnnData object with n_obs × n_vars = 1270 × 50\n",
       "    obs: 'sampleID', 'Level1', 'disease', 'n_observation'"
      ]
     },
     "execution_count": 6,
     "metadata": {},
     "output_type": "execute_result"
    }
   ],
   "source": [
    "adataPBcell = aggregating_features(Z = adata.X, \n",
    "                             obsDF = adata.obs[['sampleID','Level1','disease']], \n",
    "                             mode = 'mean', \n",
    "                             obs_names_col=['sampleID','Level1'], \n",
    "                             min_observation=0)\n",
    "adataPBcell"
   ]
  },
  {
   "cell_type": "code",
   "execution_count": null,
   "id": "8495038e-aebd-4003-bd94-c1e49f47249e",
   "metadata": {
    "papermill": {
     "duration": 0.005322,
     "end_time": "2024-06-30T20:55:55.348071",
     "exception": false,
     "start_time": "2024-06-30T20:55:55.342749",
     "status": "completed"
    },
    "tags": []
   },
   "outputs": [],
   "source": []
  },
  {
   "cell_type": "markdown",
   "id": "6d602bad-4793-4aa4-b3d7-d118d413a0fc",
   "metadata": {
    "papermill": {
     "duration": 0.005247,
     "end_time": "2024-06-30T20:55:55.358927",
     "exception": false,
     "start_time": "2024-06-30T20:55:55.353680",
     "status": "completed"
    },
    "tags": []
   },
   "source": [
    "**Extracting sample embedding**"
   ]
  },
  {
   "cell_type": "code",
   "execution_count": 7,
   "id": "e2c14f02",
   "metadata": {
    "execution": {
     "iopub.execute_input": "2024-06-30T20:55:55.370838Z",
     "iopub.status.busy": "2024-06-30T20:55:55.370347Z",
     "iopub.status.idle": "2024-06-30T20:55:55.378776Z",
     "shell.execute_reply": "2024-06-30T20:55:55.378387Z"
    },
    "papermill": {
     "duration": 0.015475,
     "end_time": "2024-06-30T20:55:55.379593",
     "exception": false,
     "start_time": "2024-06-30T20:55:55.364118",
     "status": "completed"
    },
    "tags": []
   },
   "outputs": [
    {
     "data": {
      "text/plain": [
       "AnnData object with n_obs × n_vars = 86 × 100\n",
       "    obs: 'sampleID', 'disease', 'Level1'"
      ]
     },
     "execution_count": 7,
     "metadata": {},
     "output_type": "execute_result"
    }
   ],
   "source": [
    "adataPBsample = adata.uns['sampleID'].copy()\n",
    "adataPBsample.obs['sampleID'] = adataPBsample.obs.index\n",
    "adataPBsample = adataPBsample[adataPBsample.obs['sampleID'].isin(adataPBcell.obs['sampleID'])]\n",
    "\n",
    "adataPBsample.obs = adataPBsample.obs.merge(adataPBcell.obs.groupby('sampleID').agg({'disease':'first'}), left_index=True, right_index=True)\n",
    "adataPBsample.obs['Level1'] = 'sample'\n",
    "adataPBsample"
   ]
  },
  {
   "cell_type": "markdown",
   "id": "2d4fe137-7d68-4e86-a85c-3c1a3d3c4c71",
   "metadata": {
    "papermill": {
     "duration": 0.005259,
     "end_time": "2024-06-30T20:55:55.390602",
     "exception": false,
     "start_time": "2024-06-30T20:55:55.385343",
     "status": "completed"
    },
    "tags": []
   },
   "source": [
    "**Merging cell and patient latent features**"
   ]
  },
  {
   "cell_type": "code",
   "execution_count": 8,
   "id": "a326d2b1",
   "metadata": {
    "execution": {
     "iopub.execute_input": "2024-06-30T20:55:55.402686Z",
     "iopub.status.busy": "2024-06-30T20:55:55.402404Z",
     "iopub.status.idle": "2024-06-30T20:55:55.404973Z",
     "shell.execute_reply": "2024-06-30T20:55:55.404596Z"
    },
    "papermill": {
     "duration": 0.009314,
     "end_time": "2024-06-30T20:55:55.405762",
     "exception": false,
     "start_time": "2024-06-30T20:55:55.396448",
     "status": "completed"
    },
    "tags": []
   },
   "outputs": [],
   "source": [
    "PBcellDF = adataPBcell.to_df()\n",
    "PBcellDF['sampleID'] = adataPBcell.obs['sampleID']"
   ]
  },
  {
   "cell_type": "code",
   "execution_count": 9,
   "id": "1a597f46-d9c5-403b-b81e-5738ca206682",
   "metadata": {
    "execution": {
     "iopub.execute_input": "2024-06-30T20:55:55.419814Z",
     "iopub.status.busy": "2024-06-30T20:55:55.419549Z",
     "iopub.status.idle": "2024-06-30T20:55:55.421944Z",
     "shell.execute_reply": "2024-06-30T20:55:55.421575Z"
    },
    "papermill": {
     "duration": 0.009359,
     "end_time": "2024-06-30T20:55:55.422688",
     "exception": false,
     "start_time": "2024-06-30T20:55:55.413329",
     "status": "completed"
    },
    "tags": []
   },
   "outputs": [],
   "source": [
    "PBsampleDF = adataPBsample.to_df()\n",
    "PBsampleDF['sampleID'] = adataPBsample.obs['sampleID']"
   ]
  },
  {
   "cell_type": "code",
   "execution_count": 10,
   "id": "bb384751-fe1b-4635-a90d-fd98ae61b173",
   "metadata": {
    "execution": {
     "iopub.execute_input": "2024-06-30T20:55:55.434078Z",
     "iopub.status.busy": "2024-06-30T20:55:55.433770Z",
     "iopub.status.idle": "2024-06-30T20:55:55.438525Z",
     "shell.execute_reply": "2024-06-30T20:55:55.438086Z"
    },
    "papermill": {
     "duration": 0.011209,
     "end_time": "2024-06-30T20:55:55.439313",
     "exception": false,
     "start_time": "2024-06-30T20:55:55.428104",
     "status": "completed"
    },
    "tags": []
   },
   "outputs": [],
   "source": [
    "PBcell_sampleDF = PBcellDF.merge(PBsampleDF, on='sampleID', how='left')"
   ]
  },
  {
   "cell_type": "code",
   "execution_count": 11,
   "id": "f7250713-e24d-4614-9cbd-eed702340640",
   "metadata": {
    "execution": {
     "iopub.execute_input": "2024-06-30T20:55:55.451695Z",
     "iopub.status.busy": "2024-06-30T20:55:55.451386Z",
     "iopub.status.idle": "2024-06-30T20:55:55.453963Z",
     "shell.execute_reply": "2024-06-30T20:55:55.453591Z"
    },
    "papermill": {
     "duration": 0.00997,
     "end_time": "2024-06-30T20:55:55.454719",
     "exception": false,
     "start_time": "2024-06-30T20:55:55.444749",
     "status": "completed"
    },
    "tags": []
   },
   "outputs": [],
   "source": [
    "assert(adataPBcell.obs['sampleID'].tolist() == PBcell_sampleDF['sampleID'].tolist())"
   ]
  },
  {
   "cell_type": "code",
   "execution_count": 12,
   "id": "abea2252-6a12-4b89-9f0d-6d6df90064fb",
   "metadata": {
    "execution": {
     "iopub.execute_input": "2024-06-30T20:55:55.466437Z",
     "iopub.status.busy": "2024-06-30T20:55:55.466104Z",
     "iopub.status.idle": "2024-06-30T20:55:55.469047Z",
     "shell.execute_reply": "2024-06-30T20:55:55.468661Z"
    },
    "papermill": {
     "duration": 0.009652,
     "end_time": "2024-06-30T20:55:55.469810",
     "exception": false,
     "start_time": "2024-06-30T20:55:55.460158",
     "status": "completed"
    },
    "tags": []
   },
   "outputs": [],
   "source": [
    "PBcell_sampleDF.drop('sampleID', axis=1, inplace=True)"
   ]
  },
  {
   "cell_type": "code",
   "execution_count": 13,
   "id": "5502e45d-5c72-4440-a8c1-5b299cac6e2d",
   "metadata": {
    "execution": {
     "iopub.execute_input": "2024-06-30T20:55:55.487282Z",
     "iopub.status.busy": "2024-06-30T20:55:55.486946Z",
     "iopub.status.idle": "2024-06-30T20:55:55.491087Z",
     "shell.execute_reply": "2024-06-30T20:55:55.490708Z"
    },
    "papermill": {
     "duration": 0.016634,
     "end_time": "2024-06-30T20:55:55.491873",
     "exception": false,
     "start_time": "2024-06-30T20:55:55.475239",
     "status": "completed"
    },
    "tags": []
   },
   "outputs": [
    {
     "data": {
      "text/plain": [
       "AnnData object with n_obs × n_vars = 1270 × 150\n",
       "    obs: 'sampleID', 'Level1', 'disease', 'n_observation'"
      ]
     },
     "execution_count": 13,
     "metadata": {},
     "output_type": "execute_result"
    }
   ],
   "source": [
    "adataPBcell_sample = sc.AnnData(X = PBcell_sampleDF, obs = adataPBcell.obs)\n",
    "adataPBcell_sample"
   ]
  },
  {
   "cell_type": "markdown",
   "id": "d59574be-684b-4082-b8b6-7d11930362ad",
   "metadata": {
    "papermill": {
     "duration": 0.00601,
     "end_time": "2024-06-30T20:55:55.503799",
     "exception": false,
     "start_time": "2024-06-30T20:55:55.497789",
     "status": "completed"
    },
    "tags": []
   },
   "source": [
    "### Saving pseudobulk adata objects"
   ]
  },
  {
   "cell_type": "code",
   "execution_count": 14,
   "id": "5947e6f8-ac27-4702-ba5d-aa9e1ba79f6a",
   "metadata": {
    "execution": {
     "iopub.execute_input": "2024-06-30T20:55:55.517582Z",
     "iopub.status.busy": "2024-06-30T20:55:55.517212Z",
     "iopub.status.idle": "2024-06-30T20:55:55.550598Z",
     "shell.execute_reply": "2024-06-30T20:55:55.550087Z"
    },
    "papermill": {
     "duration": 0.040661,
     "end_time": "2024-06-30T20:55:55.551446",
     "exception": false,
     "start_time": "2024-06-30T20:55:55.510785",
     "status": "completed"
    },
    "tags": []
   },
   "outputs": [],
   "source": [
    "adataPBcell.write(here(adataPATHlist[0].replace('/scPoli_','/PSEUDOBULKs/scPoli_PSEUDOBULKcell_')), compression='gzip')"
   ]
  },
  {
   "cell_type": "code",
   "execution_count": 15,
   "id": "e9485945-bccf-419a-9420-c1e4f3aa262d",
   "metadata": {
    "execution": {
     "iopub.execute_input": "2024-06-30T20:55:55.564966Z",
     "iopub.status.busy": "2024-06-30T20:55:55.564655Z",
     "iopub.status.idle": "2024-06-30T20:55:55.587279Z",
     "shell.execute_reply": "2024-06-30T20:55:55.586761Z"
    },
    "papermill": {
     "duration": 0.030234,
     "end_time": "2024-06-30T20:55:55.588101",
     "exception": false,
     "start_time": "2024-06-30T20:55:55.557867",
     "status": "completed"
    },
    "tags": []
   },
   "outputs": [],
   "source": [
    "adataPBsample.write(here(adataPATHlist[0].replace('/scPoli_','/PSEUDOBULKs/scPoli_PSEUDOBULKsample_')), compression='gzip')"
   ]
  },
  {
   "cell_type": "code",
   "execution_count": 16,
   "id": "9c2daa40-3279-4b24-8aad-65ee0ba758c8",
   "metadata": {
    "execution": {
     "iopub.execute_input": "2024-06-30T20:55:55.600729Z",
     "iopub.status.busy": "2024-06-30T20:55:55.600364Z",
     "iopub.status.idle": "2024-06-30T20:55:55.638870Z",
     "shell.execute_reply": "2024-06-30T20:55:55.638383Z"
    },
    "papermill": {
     "duration": 0.046057,
     "end_time": "2024-06-30T20:55:55.639982",
     "exception": false,
     "start_time": "2024-06-30T20:55:55.593925",
     "status": "completed"
    },
    "tags": []
   },
   "outputs": [],
   "source": [
    "adataPBcell_sample.write(here(adataPATHlist[0].replace('/scPoli_','/PSEUDOBULKs/scPoli_PSEUDOBULKcellSample_')), compression='gzip')"
   ]
  },
  {
   "cell_type": "code",
   "execution_count": null,
   "id": "8a70d9f6-7a44-45ee-8470-702bd7af1e0b",
   "metadata": {
    "papermill": {
     "duration": 0.005612,
     "end_time": "2024-06-30T20:55:55.653087",
     "exception": false,
     "start_time": "2024-06-30T20:55:55.647475",
     "status": "completed"
    },
    "tags": []
   },
   "outputs": [],
   "source": []
  }
 ],
 "metadata": {
  "kernelspec": {
   "display_name": "Python 3 (ipykernel)",
   "language": "python",
   "name": "python3"
  },
  "language_info": {
   "codemirror_mode": {
    "name": "ipython",
    "version": 3
   },
   "file_extension": ".py",
   "mimetype": "text/x-python",
   "name": "python",
   "nbconvert_exporter": "python",
   "pygments_lexer": "ipython3",
   "version": "3.12.3"
  },
  "papermill": {
   "default_parameters": {},
   "duration": 5.670659,
   "end_time": "2024-06-30T20:55:56.274705",
   "environment_variables": {},
   "exception": null,
   "input_path": "03_generating_PSEUDOBULKs.ipynb",
   "output_path": "executed_notebooks/03_generating_PSEUDOBULKs_EXTERNAL_50nEmb_100nPEmb.ipynb",
   "parameters": {
    "adataPATH": "03_downstream_analysis/08_PatientClassifier/scPoli/results/scPoli_EXTERNAL_2_50_100_*.h5ad"
   },
   "start_time": "2024-06-30T20:55:50.604046",
   "version": "2.6.0"
  }
 },
 "nbformat": 4,
 "nbformat_minor": 5
}