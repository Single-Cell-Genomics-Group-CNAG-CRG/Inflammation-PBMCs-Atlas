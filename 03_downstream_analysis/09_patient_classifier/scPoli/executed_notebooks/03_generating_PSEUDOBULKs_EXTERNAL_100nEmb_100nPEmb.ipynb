{
 "cells": [
  {
   "cell_type": "code",
   "execution_count": 1,
   "id": "bdfaf88c",
   "metadata": {
    "execution": {
     "iopub.execute_input": "2024-06-30T20:55:52.468579Z",
     "iopub.status.busy": "2024-06-30T20:55:52.468261Z",
     "iopub.status.idle": "2024-06-30T20:55:52.470642Z",
     "shell.execute_reply": "2024-06-30T20:55:52.470359Z"
    },
    "papermill": {
     "duration": 0.009716,
     "end_time": "2024-06-30T20:55:52.471458",
     "exception": false,
     "start_time": "2024-06-30T20:55:52.461742",
     "status": "completed"
    },
    "tags": [
     "injected-parameters"
    ]
   },
   "outputs": [],
   "source": [
    "# Parameters\n",
    "adataPATH = \"03_downstream_analysis/08_PatientClassifier/scPoli/results/scPoli_EXTERNAL_2_100_100_*.h5ad\"\n"
   ]
  },
  {
   "cell_type": "raw",
   "id": "bf9880bd-3aef-477b-807d-37e3c5603037",
   "metadata": {
    "execution": {
     "iopub.execute_input": "2024-06-29T08:23:25.403219Z",
     "iopub.status.busy": "2024-06-29T08:23:25.402857Z",
     "iopub.status.idle": "2024-06-29T08:23:25.406428Z",
     "shell.execute_reply": "2024-06-29T08:23:25.406014Z",
     "shell.execute_reply.started": "2024-06-29T08:23:25.403185Z"
    },
    "papermill": {
     "duration": 0.004649,
     "end_time": "2024-06-30T20:55:52.480991",
     "exception": false,
     "start_time": "2024-06-30T20:55:52.476342",
     "status": "completed"
    },
    "tags": [],
    "vscode": {
     "languageId": "raw"
    }
   },
   "source": [
    "adataMAINpath = '03_downstream_analysis/08_PatientClassifier/scPoli/results/scPoli_2_100_20_*.h5ad'\n",
    "\n",
    "adataVALpath = '03_downstream_analysis/08_PatientClassifier/scPoli/results/scPoli_VALIDATION_2_20_20*.h5ad'\n",
    "adataEXCpath = '03_downstream_analysis/08_PatientClassifier/scPoli/results/scPoli_EXCLUDED_2_100_20_run1_pd5nyb4g.h5ad'\n",
    "adataEXTpath = '03_downstream_analysis/08_PatientClassifier/scPoli/results/scPoli_EXTERNAL_2_100_20_run1_pd5nyb4g.h5ad'\n",
    "\n",
    "adataPATH = adataVALpath"
   ]
  },
  {
   "cell_type": "code",
   "execution_count": 2,
   "id": "d3ccb10a-7201-43d0-a593-2b4650ff3451",
   "metadata": {
    "execution": {
     "iopub.execute_input": "2024-06-30T20:55:52.490871Z",
     "iopub.status.busy": "2024-06-30T20:55:52.490561Z",
     "iopub.status.idle": "2024-06-30T20:55:52.493190Z",
     "shell.execute_reply": "2024-06-30T20:55:52.492913Z"
    },
    "papermill": {
     "duration": 0.008299,
     "end_time": "2024-06-30T20:55:52.493959",
     "exception": false,
     "start_time": "2024-06-30T20:55:52.485660",
     "status": "completed"
    },
    "tags": []
   },
   "outputs": [
    {
     "name": "stdout",
     "output_type": "stream",
     "text": [
      "adataPATH = 03_downstream_analysis/08_PatientClassifier/scPoli/results/scPoli_EXTERNAL_2_100_100_*.h5ad\n"
     ]
    }
   ],
   "source": [
    "for v in ['adataPATH']:\n",
    "    if v in locals() or v in globals():\n",
    "        print(f\"{v} = {eval(v)}\")\n",
    "    else:\n",
    "        raise Exception(f\"{v} not specified\")"
   ]
  },
  {
   "cell_type": "code",
   "execution_count": 3,
   "id": "888fb5f4-9ab7-4196-a282-7a7e92a43971",
   "metadata": {
    "execution": {
     "iopub.execute_input": "2024-06-30T20:55:52.504375Z",
     "iopub.status.busy": "2024-06-30T20:55:52.504247Z",
     "iopub.status.idle": "2024-06-30T20:55:53.893894Z",
     "shell.execute_reply": "2024-06-30T20:55:53.893413Z"
    },
    "papermill": {
     "duration": 1.395974,
     "end_time": "2024-06-30T20:55:53.894943",
     "exception": false,
     "start_time": "2024-06-30T20:55:52.498969",
     "status": "completed"
    },
    "tags": []
   },
   "outputs": [],
   "source": [
    "import os\n",
    "import sys\n",
    "from glob import glob\n",
    "\n",
    "import scanpy as sc\n",
    "import pandas as pd\n",
    "\n",
    "from pyprojroot import here\n",
    "\n",
    "sys.path.insert(1, str(here('bin')))\n",
    "# Import custom functions\n",
    "from customPythonFunctions import aggregating_features"
   ]
  },
  {
   "cell_type": "markdown",
   "id": "ba4905ae-4546-4ef4-b57b-950441ab079d",
   "metadata": {
    "papermill": {
     "duration": 0.00482,
     "end_time": "2024-06-30T20:55:53.916371",
     "exception": false,
     "start_time": "2024-06-30T20:55:53.911551",
     "status": "completed"
    },
    "tags": []
   },
   "source": [
    "### Loading data"
   ]
  },
  {
   "cell_type": "code",
   "execution_count": 4,
   "id": "539cbbbb-3503-4f51-bf04-f007f928ebd1",
   "metadata": {
    "execution": {
     "iopub.execute_input": "2024-06-30T20:55:53.927979Z",
     "iopub.status.busy": "2024-06-30T20:55:53.927487Z",
     "iopub.status.idle": "2024-06-30T20:55:53.931438Z",
     "shell.execute_reply": "2024-06-30T20:55:53.931059Z"
    },
    "papermill": {
     "duration": 0.010116,
     "end_time": "2024-06-30T20:55:53.932197",
     "exception": false,
     "start_time": "2024-06-30T20:55:53.922081",
     "status": "completed"
    },
    "tags": []
   },
   "outputs": [],
   "source": [
    "adataPATHlist = glob(str(here(adataPATH)))\n",
    "assert(len(adataPATHlist) == 1)"
   ]
  },
  {
   "cell_type": "code",
   "execution_count": 5,
   "id": "0fcfce0a-896b-4dc0-8e5e-46749205c84f",
   "metadata": {
    "execution": {
     "iopub.execute_input": "2024-06-30T20:55:53.942850Z",
     "iopub.status.busy": "2024-06-30T20:55:53.942647Z",
     "iopub.status.idle": "2024-06-30T20:55:55.933981Z",
     "shell.execute_reply": "2024-06-30T20:55:55.933576Z"
    },
    "papermill": {
     "duration": 1.997469,
     "end_time": "2024-06-30T20:55:55.934795",
     "exception": false,
     "start_time": "2024-06-30T20:55:53.937326",
     "status": "completed"
    },
    "tags": []
   },
   "outputs": [
    {
     "data": {
      "text/plain": [
       "AnnData object with n_obs × n_vars = 572872 × 100\n",
       "    obs: 'studyID', 'libraryID', 'sampleID', 'chemistry', 'technology', 'disease', 'sex', 'binned_age', 'Level1', 'Level2', 'conditions_combined', 'Level1_unc', 'Level2_unc'\n",
       "    uns: 'chemistry', 'sampleID'"
      ]
     },
     "execution_count": 5,
     "metadata": {},
     "output_type": "execute_result"
    }
   ],
   "source": [
    "adata = sc.read_h5ad(adataPATHlist[0])\n",
    "adata"
   ]
  },
  {
   "cell_type": "markdown",
   "id": "44e868b3-0771-4225-bd79-a4b179bc672b",
   "metadata": {
    "papermill": {
     "duration": 0.004775,
     "end_time": "2024-06-30T20:55:55.944718",
     "exception": false,
     "start_time": "2024-06-30T20:55:55.939943",
     "status": "completed"
    },
    "tags": []
   },
   "source": [
    "#### Generating PSEUDOBULKs"
   ]
  },
  {
   "cell_type": "markdown",
   "id": "97d09fc5-d05c-471e-87fa-fe58ccbe47ac",
   "metadata": {
    "papermill": {
     "duration": 0.005073,
     "end_time": "2024-06-30T20:55:55.954498",
     "exception": false,
     "start_time": "2024-06-30T20:55:55.949425",
     "status": "completed"
    },
    "tags": []
   },
   "source": [
    "**Aggregating cell latent features**"
   ]
  },
  {
   "cell_type": "code",
   "execution_count": 6,
   "id": "81223976-fcf6-4354-8964-b12d76468636",
   "metadata": {
    "execution": {
     "iopub.execute_input": "2024-06-30T20:55:55.965118Z",
     "iopub.status.busy": "2024-06-30T20:55:55.964883Z",
     "iopub.status.idle": "2024-06-30T20:55:56.300274Z",
     "shell.execute_reply": "2024-06-30T20:55:56.299800Z"
    },
    "papermill": {
     "duration": 0.341992,
     "end_time": "2024-06-30T20:55:56.301130",
     "exception": false,
     "start_time": "2024-06-30T20:55:55.959138",
     "status": "completed"
    },
    "tags": []
   },
   "outputs": [
    {
     "data": {
      "text/plain": [
       "AnnData object with n_obs × n_vars = 1269 × 100\n",
       "    obs: 'sampleID', 'Level1', 'disease', 'n_observation'"
      ]
     },
     "execution_count": 6,
     "metadata": {},
     "output_type": "execute_result"
    }
   ],
   "source": [
    "adataPBcell = aggregating_features(Z = adata.X, \n",
    "                             obsDF = adata.obs[['sampleID','Level1','disease']], \n",
    "                             mode = 'mean', \n",
    "                             obs_names_col=['sampleID','Level1'], \n",
    "                             min_observation=0)\n",
    "adataPBcell"
   ]
  },
  {
   "cell_type": "code",
   "execution_count": null,
   "id": "8495038e-aebd-4003-bd94-c1e49f47249e",
   "metadata": {
    "papermill": {
     "duration": 0.00525,
     "end_time": "2024-06-30T20:55:56.311933",
     "exception": false,
     "start_time": "2024-06-30T20:55:56.306683",
     "status": "completed"
    },
    "tags": []
   },
   "outputs": [],
   "source": []
  },
  {
   "cell_type": "markdown",
   "id": "6d602bad-4793-4aa4-b3d7-d118d413a0fc",
   "metadata": {
    "papermill": {
     "duration": 0.005078,
     "end_time": "2024-06-30T20:55:56.322792",
     "exception": false,
     "start_time": "2024-06-30T20:55:56.317714",
     "status": "completed"
    },
    "tags": []
   },
   "source": [
    "**Extracting sample embedding**"
   ]
  },
  {
   "cell_type": "code",
   "execution_count": 7,
   "id": "e2c14f02",
   "metadata": {
    "execution": {
     "iopub.execute_input": "2024-06-30T20:55:56.337448Z",
     "iopub.status.busy": "2024-06-30T20:55:56.337200Z",
     "iopub.status.idle": "2024-06-30T20:55:56.345088Z",
     "shell.execute_reply": "2024-06-30T20:55:56.344734Z"
    },
    "papermill": {
     "duration": 0.018115,
     "end_time": "2024-06-30T20:55:56.346008",
     "exception": false,
     "start_time": "2024-06-30T20:55:56.327893",
     "status": "completed"
    },
    "tags": []
   },
   "outputs": [
    {
     "data": {
      "text/plain": [
       "AnnData object with n_obs × n_vars = 86 × 100\n",
       "    obs: 'sampleID', 'disease', 'Level1'"
      ]
     },
     "execution_count": 7,
     "metadata": {},
     "output_type": "execute_result"
    }
   ],
   "source": [
    "adataPBsample = adata.uns['sampleID'].copy()\n",
    "adataPBsample.obs['sampleID'] = adataPBsample.obs.index\n",
    "adataPBsample = adataPBsample[adataPBsample.obs['sampleID'].isin(adataPBcell.obs['sampleID'])]\n",
    "\n",
    "adataPBsample.obs = adataPBsample.obs.merge(adataPBcell.obs.groupby('sampleID').agg({'disease':'first'}), left_index=True, right_index=True)\n",
    "adataPBsample.obs['Level1'] = 'sample'\n",
    "adataPBsample"
   ]
  },
  {
   "cell_type": "markdown",
   "id": "2d4fe137-7d68-4e86-a85c-3c1a3d3c4c71",
   "metadata": {
    "papermill": {
     "duration": 0.005273,
     "end_time": "2024-06-30T20:55:56.357186",
     "exception": false,
     "start_time": "2024-06-30T20:55:56.351913",
     "status": "completed"
    },
    "tags": []
   },
   "source": [
    "**Merging cell and patient latent features**"
   ]
  },
  {
   "cell_type": "code",
   "execution_count": 8,
   "id": "a326d2b1",
   "metadata": {
    "execution": {
     "iopub.execute_input": "2024-06-30T20:55:56.368629Z",
     "iopub.status.busy": "2024-06-30T20:55:56.368476Z",
     "iopub.status.idle": "2024-06-30T20:55:56.370819Z",
     "shell.execute_reply": "2024-06-30T20:55:56.370468Z"
    },
    "papermill": {
     "duration": 0.009068,
     "end_time": "2024-06-30T20:55:56.371615",
     "exception": false,
     "start_time": "2024-06-30T20:55:56.362547",
     "status": "completed"
    },
    "tags": []
   },
   "outputs": [],
   "source": [
    "PBcellDF = adataPBcell.to_df()\n",
    "PBcellDF['sampleID'] = adataPBcell.obs['sampleID']"
   ]
  },
  {
   "cell_type": "code",
   "execution_count": 9,
   "id": "1a597f46-d9c5-403b-b81e-5738ca206682",
   "metadata": {
    "execution": {
     "iopub.execute_input": "2024-06-30T20:55:56.383970Z",
     "iopub.status.busy": "2024-06-30T20:55:56.383673Z",
     "iopub.status.idle": "2024-06-30T20:55:56.386056Z",
     "shell.execute_reply": "2024-06-30T20:55:56.385702Z"
    },
    "papermill": {
     "duration": 0.008888,
     "end_time": "2024-06-30T20:55:56.386839",
     "exception": false,
     "start_time": "2024-06-30T20:55:56.377951",
     "status": "completed"
    },
    "tags": []
   },
   "outputs": [],
   "source": [
    "PBsampleDF = adataPBsample.to_df()\n",
    "PBsampleDF['sampleID'] = adataPBsample.obs['sampleID']"
   ]
  },
  {
   "cell_type": "code",
   "execution_count": 10,
   "id": "bb384751-fe1b-4635-a90d-fd98ae61b173",
   "metadata": {
    "execution": {
     "iopub.execute_input": "2024-06-30T20:55:56.397426Z",
     "iopub.status.busy": "2024-06-30T20:55:56.397258Z",
     "iopub.status.idle": "2024-06-30T20:55:56.401430Z",
     "shell.execute_reply": "2024-06-30T20:55:56.401055Z"
    },
    "papermill": {
     "duration": 0.010287,
     "end_time": "2024-06-30T20:55:56.402173",
     "exception": false,
     "start_time": "2024-06-30T20:55:56.391886",
     "status": "completed"
    },
    "tags": []
   },
   "outputs": [],
   "source": [
    "PBcell_sampleDF = PBcellDF.merge(PBsampleDF, on='sampleID', how='left')"
   ]
  },
  {
   "cell_type": "code",
   "execution_count": 11,
   "id": "f7250713-e24d-4614-9cbd-eed702340640",
   "metadata": {
    "execution": {
     "iopub.execute_input": "2024-06-30T20:55:56.413721Z",
     "iopub.status.busy": "2024-06-30T20:55:56.413474Z",
     "iopub.status.idle": "2024-06-30T20:55:56.415711Z",
     "shell.execute_reply": "2024-06-30T20:55:56.415361Z"
    },
    "papermill": {
     "duration": 0.008981,
     "end_time": "2024-06-30T20:55:56.416476",
     "exception": false,
     "start_time": "2024-06-30T20:55:56.407495",
     "status": "completed"
    },
    "tags": []
   },
   "outputs": [],
   "source": [
    "assert(adataPBcell.obs['sampleID'].tolist() == PBcell_sampleDF['sampleID'].tolist())"
   ]
  },
  {
   "cell_type": "code",
   "execution_count": 12,
   "id": "abea2252-6a12-4b89-9f0d-6d6df90064fb",
   "metadata": {
    "execution": {
     "iopub.execute_input": "2024-06-30T20:55:56.427332Z",
     "iopub.status.busy": "2024-06-30T20:55:56.427067Z",
     "iopub.status.idle": "2024-06-30T20:55:56.429575Z",
     "shell.execute_reply": "2024-06-30T20:55:56.429220Z"
    },
    "papermill": {
     "duration": 0.008838,
     "end_time": "2024-06-30T20:55:56.430401",
     "exception": false,
     "start_time": "2024-06-30T20:55:56.421563",
     "status": "completed"
    },
    "tags": []
   },
   "outputs": [],
   "source": [
    "PBcell_sampleDF.drop('sampleID', axis=1, inplace=True)"
   ]
  },
  {
   "cell_type": "code",
   "execution_count": 13,
   "id": "5502e45d-5c72-4440-a8c1-5b299cac6e2d",
   "metadata": {
    "execution": {
     "iopub.execute_input": "2024-06-30T20:55:56.441566Z",
     "iopub.status.busy": "2024-06-30T20:55:56.441362Z",
     "iopub.status.idle": "2024-06-30T20:55:56.444741Z",
     "shell.execute_reply": "2024-06-30T20:55:56.444399Z"
    },
    "papermill": {
     "duration": 0.010026,
     "end_time": "2024-06-30T20:55:56.445525",
     "exception": false,
     "start_time": "2024-06-30T20:55:56.435499",
     "status": "completed"
    },
    "tags": []
   },
   "outputs": [
    {
     "data": {
      "text/plain": [
       "AnnData object with n_obs × n_vars = 1269 × 200\n",
       "    obs: 'sampleID', 'Level1', 'disease', 'n_observation'"
      ]
     },
     "execution_count": 13,
     "metadata": {},
     "output_type": "execute_result"
    }
   ],
   "source": [
    "adataPBcell_sample = sc.AnnData(X = PBcell_sampleDF, obs = adataPBcell.obs)\n",
    "adataPBcell_sample"
   ]
  },
  {
   "cell_type": "markdown",
   "id": "d59574be-684b-4082-b8b6-7d11930362ad",
   "metadata": {
    "papermill": {
     "duration": 0.005217,
     "end_time": "2024-06-30T20:55:56.456095",
     "exception": false,
     "start_time": "2024-06-30T20:55:56.450878",
     "status": "completed"
    },
    "tags": []
   },
   "source": [
    "### Saving pseudobulk adata objects"
   ]
  },
  {
   "cell_type": "code",
   "execution_count": 14,
   "id": "5947e6f8-ac27-4702-ba5d-aa9e1ba79f6a",
   "metadata": {
    "execution": {
     "iopub.execute_input": "2024-06-30T20:55:56.466932Z",
     "iopub.status.busy": "2024-06-30T20:55:56.466739Z",
     "iopub.status.idle": "2024-06-30T20:55:56.506881Z",
     "shell.execute_reply": "2024-06-30T20:55:56.506482Z"
    },
    "papermill": {
     "duration": 0.046701,
     "end_time": "2024-06-30T20:55:56.507849",
     "exception": false,
     "start_time": "2024-06-30T20:55:56.461148",
     "status": "completed"
    },
    "tags": []
   },
   "outputs": [],
   "source": [
    "adataPBcell.write(here(adataPATHlist[0].replace('/scPoli_','/PSEUDOBULKs/scPoli_PSEUDOBULKcell_')), compression='gzip')"
   ]
  },
  {
   "cell_type": "code",
   "execution_count": 15,
   "id": "e9485945-bccf-419a-9420-c1e4f3aa262d",
   "metadata": {
    "execution": {
     "iopub.execute_input": "2024-06-30T20:55:56.519240Z",
     "iopub.status.busy": "2024-06-30T20:55:56.519033Z",
     "iopub.status.idle": "2024-06-30T20:55:56.539615Z",
     "shell.execute_reply": "2024-06-30T20:55:56.539241Z"
    },
    "papermill": {
     "duration": 0.027024,
     "end_time": "2024-06-30T20:55:56.540423",
     "exception": false,
     "start_time": "2024-06-30T20:55:56.513399",
     "status": "completed"
    },
    "tags": []
   },
   "outputs": [],
   "source": [
    "adataPBsample.write(here(adataPATHlist[0].replace('/scPoli_','/PSEUDOBULKs/scPoli_PSEUDOBULKsample_')), compression='gzip')"
   ]
  },
  {
   "cell_type": "code",
   "execution_count": 16,
   "id": "9c2daa40-3279-4b24-8aad-65ee0ba758c8",
   "metadata": {
    "execution": {
     "iopub.execute_input": "2024-06-30T20:55:56.551665Z",
     "iopub.status.busy": "2024-06-30T20:55:56.551470Z",
     "iopub.status.idle": "2024-06-30T20:55:56.594782Z",
     "shell.execute_reply": "2024-06-30T20:55:56.594366Z"
    },
    "papermill": {
     "duration": 0.049976,
     "end_time": "2024-06-30T20:55:56.595816",
     "exception": false,
     "start_time": "2024-06-30T20:55:56.545840",
     "status": "completed"
    },
    "tags": []
   },
   "outputs": [],
   "source": [
    "adataPBcell_sample.write(here(adataPATHlist[0].replace('/scPoli_','/PSEUDOBULKs/scPoli_PSEUDOBULKcellSample_')), compression='gzip')"
   ]
  },
  {
   "cell_type": "code",
   "execution_count": null,
   "id": "8a70d9f6-7a44-45ee-8470-702bd7af1e0b",
   "metadata": {
    "papermill": {
     "duration": 0.005347,
     "end_time": "2024-06-30T20:55:56.606504",
     "exception": false,
     "start_time": "2024-06-30T20:55:56.601157",
     "status": "completed"
    },
    "tags": []
   },
   "outputs": [],
   "source": []
  }
 ],
 "metadata": {
  "kernelspec": {
   "display_name": "Python 3 (ipykernel)",
   "language": "python",
   "name": "python3"
  },
  "language_info": {
   "codemirror_mode": {
    "name": "ipython",
    "version": 3
   },
   "file_extension": ".py",
   "mimetype": "text/x-python",
   "name": "python",
   "nbconvert_exporter": "python",
   "pygments_lexer": "ipython3",
   "version": "3.12.3"
  },
  "papermill": {
   "default_parameters": {},
   "duration": 5.886601,
   "end_time": "2024-06-30T20:55:57.127364",
   "environment_variables": {},
   "exception": null,
   "input_path": "03_generating_PSEUDOBULKs.ipynb",
   "output_path": "executed_notebooks/03_generating_PSEUDOBULKs_EXTERNAL_100nEmb_100nPEmb.ipynb",
   "parameters": {
    "adataPATH": "03_downstream_analysis/08_PatientClassifier/scPoli/results/scPoli_EXTERNAL_2_100_100_*.h5ad"
   },
   "start_time": "2024-06-30T20:55:51.240763",
   "version": "2.6.0"
  }
 },
 "nbformat": 4,
 "nbformat_minor": 5
}