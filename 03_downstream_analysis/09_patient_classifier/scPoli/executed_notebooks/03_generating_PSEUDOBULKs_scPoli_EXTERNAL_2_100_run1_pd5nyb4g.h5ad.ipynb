{
 "cells": [
  {
   "cell_type": "code",
   "execution_count": 1,
   "id": "7bb64805",
   "metadata": {
    "execution": {
     "iopub.execute_input": "2024-06-27T16:47:45.402028Z",
     "iopub.status.busy": "2024-06-27T16:47:45.401459Z",
     "iopub.status.idle": "2024-06-27T16:47:45.407099Z",
     "shell.execute_reply": "2024-06-27T16:47:45.406706Z"
    },
    "papermill": {
     "duration": 0.014346,
     "end_time": "2024-06-27T16:47:45.408147",
     "exception": false,
     "start_time": "2024-06-27T16:47:45.393801",
     "status": "completed"
    },
    "tags": [
     "injected-parameters"
    ]
   },
   "outputs": [],
   "source": [
    "# Parameters\n",
    "adataPATH = \"03_downstream_analysis/08_PatientClassifier/scPoli/results/scPoli_EXTERNAL_2_100_run1_pd5nyb4g.h5ad\"\n"
   ]
  },
  {
   "cell_type": "raw",
   "id": "45ccaa27-b0ec-4740-9b7d-9409b7a94ac0",
   "metadata": {
    "papermill": {
     "duration": 0.005833,
     "end_time": "2024-06-27T16:47:45.419799",
     "exception": false,
     "start_time": "2024-06-27T16:47:45.413966",
     "status": "completed"
    },
    "tags": [],
    "vscode": {
     "languageId": "raw"
    }
   },
   "source": [
    "adataMAINpath = '03_downstream_analysis/08_PatientClassifier/scPoli/results/scPoli_2_100_20_*.h5ad'\n",
    "\n",
    "adataVALpath = '03_downstream_analysis/08_PatientClassifier/scPoli/results/scPoli_VALIDATION_2_200_100*.h5ad'\n",
    "adataEXCpath = '03_downstream_analysis/08_PatientClassifier/scPoli/results/scPoli_EXCLUDED_2_100_20_run1_pd5nyb4g.h5ad'\n",
    "adataEXTpath = '03_downstream_analysis/08_PatientClassifier/scPoli/results/scPoli_EXTERNAL_2_100_20_run1_pd5nyb4g.h5ad'\n",
    "\n",
    "adataPATH = adataVALpath"
   ]
  },
  {
   "cell_type": "code",
   "execution_count": 2,
   "id": "d3ccb10a-7201-43d0-a593-2b4650ff3451",
   "metadata": {
    "execution": {
     "iopub.execute_input": "2024-06-27T16:47:45.432890Z",
     "iopub.status.busy": "2024-06-27T16:47:45.432328Z",
     "iopub.status.idle": "2024-06-27T16:47:45.435713Z",
     "shell.execute_reply": "2024-06-27T16:47:45.435359Z"
    },
    "papermill": {
     "duration": 0.011575,
     "end_time": "2024-06-27T16:47:45.436641",
     "exception": false,
     "start_time": "2024-06-27T16:47:45.425066",
     "status": "completed"
    },
    "tags": []
   },
   "outputs": [
    {
     "name": "stdout",
     "output_type": "stream",
     "text": [
      "adataPATH = 03_downstream_analysis/08_PatientClassifier/scPoli/results/scPoli_EXTERNAL_2_100_run1_pd5nyb4g.h5ad\n"
     ]
    }
   ],
   "source": [
    "for v in ['adataPATH']:\n",
    "    if v in locals() or v in globals():\n",
    "        print(f\"{v} = {eval(v)}\")\n",
    "    else:\n",
    "        raise Exception(f\"{v} not specified\")"
   ]
  },
  {
   "cell_type": "code",
   "execution_count": 3,
   "id": "888fb5f4-9ab7-4196-a282-7a7e92a43971",
   "metadata": {
    "execution": {
     "iopub.execute_input": "2024-06-27T16:47:45.448826Z",
     "iopub.status.busy": "2024-06-27T16:47:45.448326Z",
     "iopub.status.idle": "2024-06-27T16:47:51.751878Z",
     "shell.execute_reply": "2024-06-27T16:47:51.751252Z"
    },
    "papermill": {
     "duration": 6.31087,
     "end_time": "2024-06-27T16:47:51.753280",
     "exception": false,
     "start_time": "2024-06-27T16:47:45.442410",
     "status": "completed"
    },
    "tags": []
   },
   "outputs": [],
   "source": [
    "import os\n",
    "import sys\n",
    "from glob import glob\n",
    "\n",
    "import scanpy as sc\n",
    "import pandas as pd\n",
    "\n",
    "from pyprojroot import here\n",
    "\n",
    "sys.path.insert(1, str(here('bin')))\n",
    "# Import custom functions\n",
    "from customPythonFunctions import aggregating_features"
   ]
  },
  {
   "cell_type": "markdown",
   "id": "ba4905ae-4546-4ef4-b57b-950441ab079d",
   "metadata": {
    "papermill": {
     "duration": 0.006853,
     "end_time": "2024-06-27T16:47:51.769424",
     "exception": false,
     "start_time": "2024-06-27T16:47:51.762571",
     "status": "completed"
    },
    "tags": []
   },
   "source": [
    "### Loading data"
   ]
  },
  {
   "cell_type": "code",
   "execution_count": 4,
   "id": "539cbbbb-3503-4f51-bf04-f007f928ebd1",
   "metadata": {
    "execution": {
     "iopub.execute_input": "2024-06-27T16:47:51.793091Z",
     "iopub.status.busy": "2024-06-27T16:47:51.792512Z",
     "iopub.status.idle": "2024-06-27T16:47:51.797709Z",
     "shell.execute_reply": "2024-06-27T16:47:51.797146Z"
    },
    "papermill": {
     "duration": 0.022477,
     "end_time": "2024-06-27T16:47:51.798716",
     "exception": false,
     "start_time": "2024-06-27T16:47:51.776239",
     "status": "completed"
    },
    "tags": []
   },
   "outputs": [],
   "source": [
    "adataPATHlist = glob(str(here(adataPATH)))\n",
    "assert(len(adataPATHlist) == 1)"
   ]
  },
  {
   "cell_type": "code",
   "execution_count": 5,
   "id": "0fcfce0a-896b-4dc0-8e5e-46749205c84f",
   "metadata": {
    "execution": {
     "iopub.execute_input": "2024-06-27T16:47:51.852495Z",
     "iopub.status.busy": "2024-06-27T16:47:51.852118Z",
     "iopub.status.idle": "2024-06-27T16:47:58.809134Z",
     "shell.execute_reply": "2024-06-27T16:47:58.808609Z"
    },
    "papermill": {
     "duration": 6.992212,
     "end_time": "2024-06-27T16:47:58.810194",
     "exception": false,
     "start_time": "2024-06-27T16:47:51.817982",
     "status": "completed"
    },
    "tags": []
   },
   "outputs": [
    {
     "data": {
      "text/plain": [
       "AnnData object with n_obs × n_vars = 572872 × 100\n",
       "    obs: 'studyID', 'libraryID', 'sampleID', 'chemistry', 'technology', 'disease', 'sex', 'binned_age', 'Level1', 'Level1_unc', 'Level2', 'Level2_unc'\n",
       "    uns: 'chemistry', 'sampleID'"
      ]
     },
     "execution_count": 5,
     "metadata": {},
     "output_type": "execute_result"
    }
   ],
   "source": [
    "adata = sc.read_h5ad(adataPATHlist[0])\n",
    "adata"
   ]
  },
  {
   "cell_type": "markdown",
   "id": "44e868b3-0771-4225-bd79-a4b179bc672b",
   "metadata": {
    "papermill": {
     "duration": 0.797671,
     "end_time": "2024-06-27T16:48:00.608574",
     "exception": false,
     "start_time": "2024-06-27T16:47:59.810903",
     "status": "completed"
    },
    "tags": []
   },
   "source": [
    "#### Generating PSEUDOBULKs"
   ]
  },
  {
   "cell_type": "markdown",
   "id": "97d09fc5-d05c-471e-87fa-fe58ccbe47ac",
   "metadata": {
    "papermill": {
     "duration": 0.910885,
     "end_time": "2024-06-27T16:48:02.992799",
     "exception": false,
     "start_time": "2024-06-27T16:48:02.081914",
     "status": "completed"
    },
    "tags": []
   },
   "source": [
    "**Aggregating cell latent features**"
   ]
  },
  {
   "cell_type": "code",
   "execution_count": 6,
   "id": "81223976-fcf6-4354-8964-b12d76468636",
   "metadata": {
    "execution": {
     "iopub.execute_input": "2024-06-27T16:48:03.144694Z",
     "iopub.status.busy": "2024-06-27T16:48:03.144090Z",
     "iopub.status.idle": "2024-06-27T16:48:03.505065Z",
     "shell.execute_reply": "2024-06-27T16:48:03.504435Z"
    },
    "papermill": {
     "duration": 0.373568,
     "end_time": "2024-06-27T16:48:03.506464",
     "exception": false,
     "start_time": "2024-06-27T16:48:03.132896",
     "status": "completed"
    },
    "tags": []
   },
   "outputs": [
    {
     "data": {
      "text/plain": [
       "AnnData object with n_obs × n_vars = 1267 × 100\n",
       "    obs: 'sampleID', 'Level1', 'disease', 'n_observation'"
      ]
     },
     "execution_count": 6,
     "metadata": {},
     "output_type": "execute_result"
    }
   ],
   "source": [
    "adataPBcell = aggregating_features(Z = adata.X, \n",
    "                             obsDF = adata.obs[['sampleID','Level1','disease']], \n",
    "                             mode = 'mean', \n",
    "                             obs_names_col=['sampleID','Level1'], \n",
    "                             min_observation=0)\n",
    "adataPBcell"
   ]
  },
  {
   "cell_type": "markdown",
   "id": "6d602bad-4793-4aa4-b3d7-d118d413a0fc",
   "metadata": {
    "papermill": {
     "duration": 0.044514,
     "end_time": "2024-06-27T16:48:03.575634",
     "exception": false,
     "start_time": "2024-06-27T16:48:03.531120",
     "status": "completed"
    },
    "tags": []
   },
   "source": [
    "**Extracting sample embedding**"
   ]
  },
  {
   "cell_type": "code",
   "execution_count": 7,
   "id": "e2c14f02",
   "metadata": {
    "execution": {
     "iopub.execute_input": "2024-06-27T16:48:03.624911Z",
     "iopub.status.busy": "2024-06-27T16:48:03.624416Z",
     "iopub.status.idle": "2024-06-27T16:48:03.644907Z",
     "shell.execute_reply": "2024-06-27T16:48:03.644307Z"
    },
    "papermill": {
     "duration": 0.050841,
     "end_time": "2024-06-27T16:48:03.646116",
     "exception": false,
     "start_time": "2024-06-27T16:48:03.595275",
     "status": "completed"
    },
    "tags": []
   },
   "outputs": [
    {
     "data": {
      "text/plain": [
       "AnnData object with n_obs × n_vars = 86 × 20\n",
       "    obs: 'sampleID', 'disease', 'Level1'"
      ]
     },
     "execution_count": 7,
     "metadata": {},
     "output_type": "execute_result"
    }
   ],
   "source": [
    "adataPBsample = adata.uns['sampleID'].copy()\n",
    "adataPBsample.obs['sampleID'] = adataPBsample.obs.index\n",
    "adataPBsample = adataPBsample[adataPBsample.obs['sampleID'].isin(adataPBcell.obs['sampleID'])]\n",
    "\n",
    "adataPBsample.obs = adataPBsample.obs.merge(adataPBcell.obs.groupby('sampleID').agg({'disease':'first'}), left_index=True, right_index=True)\n",
    "adataPBsample.obs['Level1'] = 'sample'\n",
    "adataPBsample"
   ]
  },
  {
   "cell_type": "markdown",
   "id": "2d4fe137-7d68-4e86-a85c-3c1a3d3c4c71",
   "metadata": {
    "papermill": {
     "duration": 0.053978,
     "end_time": "2024-06-27T16:48:03.747305",
     "exception": false,
     "start_time": "2024-06-27T16:48:03.693327",
     "status": "completed"
    },
    "tags": []
   },
   "source": [
    "**Merging cell and patient latent features**"
   ]
  },
  {
   "cell_type": "code",
   "execution_count": 8,
   "id": "a326d2b1",
   "metadata": {
    "execution": {
     "iopub.execute_input": "2024-06-27T16:48:03.847643Z",
     "iopub.status.busy": "2024-06-27T16:48:03.846830Z",
     "iopub.status.idle": "2024-06-27T16:48:03.851611Z",
     "shell.execute_reply": "2024-06-27T16:48:03.850711Z"
    },
    "papermill": {
     "duration": 0.096296,
     "end_time": "2024-06-27T16:48:03.852681",
     "exception": false,
     "start_time": "2024-06-27T16:48:03.756385",
     "status": "completed"
    },
    "tags": []
   },
   "outputs": [],
   "source": [
    "PBcellDF = adataPBcell.to_df()\n",
    "PBcellDF['sampleID'] = adataPBcell.obs['sampleID']"
   ]
  },
  {
   "cell_type": "code",
   "execution_count": 9,
   "id": "1a597f46-d9c5-403b-b81e-5738ca206682",
   "metadata": {
    "execution": {
     "iopub.execute_input": "2024-06-27T16:48:03.912054Z",
     "iopub.status.busy": "2024-06-27T16:48:03.911572Z",
     "iopub.status.idle": "2024-06-27T16:48:03.916100Z",
     "shell.execute_reply": "2024-06-27T16:48:03.915408Z"
    },
    "papermill": {
     "duration": 0.048789,
     "end_time": "2024-06-27T16:48:03.917394",
     "exception": false,
     "start_time": "2024-06-27T16:48:03.868605",
     "status": "completed"
    },
    "tags": []
   },
   "outputs": [],
   "source": [
    "PBsampleDF = adataPBsample.to_df()\n",
    "PBsampleDF['sampleID'] = adataPBsample.obs['sampleID']"
   ]
  },
  {
   "cell_type": "code",
   "execution_count": 10,
   "id": "bb384751-fe1b-4635-a90d-fd98ae61b173",
   "metadata": {
    "execution": {
     "iopub.execute_input": "2024-06-27T16:48:04.075642Z",
     "iopub.status.busy": "2024-06-27T16:48:04.075262Z",
     "iopub.status.idle": "2024-06-27T16:48:04.081023Z",
     "shell.execute_reply": "2024-06-27T16:48:04.080342Z"
    },
    "papermill": {
     "duration": 0.043412,
     "end_time": "2024-06-27T16:48:04.082975",
     "exception": false,
     "start_time": "2024-06-27T16:48:04.039563",
     "status": "completed"
    },
    "tags": []
   },
   "outputs": [],
   "source": [
    "PBcell_sampleDF = PBcellDF.merge(PBsampleDF, on='sampleID', how='left')"
   ]
  },
  {
   "cell_type": "code",
   "execution_count": 11,
   "id": "f7250713-e24d-4614-9cbd-eed702340640",
   "metadata": {
    "execution": {
     "iopub.execute_input": "2024-06-27T16:48:04.112148Z",
     "iopub.status.busy": "2024-06-27T16:48:04.111769Z",
     "iopub.status.idle": "2024-06-27T16:48:04.115432Z",
     "shell.execute_reply": "2024-06-27T16:48:04.114797Z"
    },
    "papermill": {
     "duration": 0.026934,
     "end_time": "2024-06-27T16:48:04.116501",
     "exception": false,
     "start_time": "2024-06-27T16:48:04.089567",
     "status": "completed"
    },
    "tags": []
   },
   "outputs": [],
   "source": [
    "assert(adataPBcell.obs['sampleID'].tolist() == PBcell_sampleDF['sampleID'].tolist())"
   ]
  },
  {
   "cell_type": "code",
   "execution_count": 12,
   "id": "abea2252-6a12-4b89-9f0d-6d6df90064fb",
   "metadata": {
    "execution": {
     "iopub.execute_input": "2024-06-27T16:48:04.178125Z",
     "iopub.status.busy": "2024-06-27T16:48:04.177734Z",
     "iopub.status.idle": "2024-06-27T16:48:04.181686Z",
     "shell.execute_reply": "2024-06-27T16:48:04.181036Z"
    },
    "papermill": {
     "duration": 0.035861,
     "end_time": "2024-06-27T16:48:04.183436",
     "exception": false,
     "start_time": "2024-06-27T16:48:04.147575",
     "status": "completed"
    },
    "tags": []
   },
   "outputs": [],
   "source": [
    "PBcell_sampleDF.drop('sampleID', axis=1, inplace=True)"
   ]
  },
  {
   "cell_type": "code",
   "execution_count": 13,
   "id": "5502e45d-5c72-4440-a8c1-5b299cac6e2d",
   "metadata": {
    "execution": {
     "iopub.execute_input": "2024-06-27T16:48:04.204547Z",
     "iopub.status.busy": "2024-06-27T16:48:04.204307Z",
     "iopub.status.idle": "2024-06-27T16:48:04.209926Z",
     "shell.execute_reply": "2024-06-27T16:48:04.209324Z"
    },
    "papermill": {
     "duration": 0.016959,
     "end_time": "2024-06-27T16:48:04.210916",
     "exception": false,
     "start_time": "2024-06-27T16:48:04.193957",
     "status": "completed"
    },
    "tags": []
   },
   "outputs": [
    {
     "data": {
      "text/plain": [
       "AnnData object with n_obs × n_vars = 1267 × 120\n",
       "    obs: 'sampleID', 'Level1', 'disease', 'n_observation'"
      ]
     },
     "execution_count": 13,
     "metadata": {},
     "output_type": "execute_result"
    }
   ],
   "source": [
    "adataPBcell_sample = sc.AnnData(X = PBcell_sampleDF, obs = adataPBcell.obs)\n",
    "adataPBcell_sample"
   ]
  },
  {
   "cell_type": "markdown",
   "id": "d59574be-684b-4082-b8b6-7d11930362ad",
   "metadata": {
    "papermill": {
     "duration": 0.015393,
     "end_time": "2024-06-27T16:48:04.257696",
     "exception": false,
     "start_time": "2024-06-27T16:48:04.242303",
     "status": "completed"
    },
    "tags": []
   },
   "source": [
    "### Saving pseudobulk adata objects"
   ]
  },
  {
   "cell_type": "code",
   "execution_count": 14,
   "id": "5947e6f8-ac27-4702-ba5d-aa9e1ba79f6a",
   "metadata": {
    "execution": {
     "iopub.execute_input": "2024-06-27T16:48:04.289737Z",
     "iopub.status.busy": "2024-06-27T16:48:04.289350Z",
     "iopub.status.idle": "2024-06-27T16:48:04.361406Z",
     "shell.execute_reply": "2024-06-27T16:48:04.360915Z"
    },
    "papermill": {
     "duration": 0.084192,
     "end_time": "2024-06-27T16:48:04.363051",
     "exception": false,
     "start_time": "2024-06-27T16:48:04.278859",
     "status": "completed"
    },
    "tags": []
   },
   "outputs": [],
   "source": [
    "adataPBcell.write(here(adataPATHlist[0].replace('/scPoli_','/PSEUDOBULKs/scPoli_PSEUDOBULKcell_')), compression='gzip')"
   ]
  },
  {
   "cell_type": "code",
   "execution_count": 15,
   "id": "e9485945-bccf-419a-9420-c1e4f3aa262d",
   "metadata": {
    "execution": {
     "iopub.execute_input": "2024-06-27T16:48:04.410185Z",
     "iopub.status.busy": "2024-06-27T16:48:04.409794Z",
     "iopub.status.idle": "2024-06-27T16:48:04.501460Z",
     "shell.execute_reply": "2024-06-27T16:48:04.500767Z"
    },
    "papermill": {
     "duration": 0.107196,
     "end_time": "2024-06-27T16:48:04.502962",
     "exception": false,
     "start_time": "2024-06-27T16:48:04.395766",
     "status": "completed"
    },
    "tags": []
   },
   "outputs": [],
   "source": [
    "adataPBsample.write(here(adataPATHlist[0].replace('/scPoli_','/PSEUDOBULKs/scPoli_PSEUDOBULKsample_')), compression='gzip')"
   ]
  },
  {
   "cell_type": "code",
   "execution_count": 16,
   "id": "9c2daa40-3279-4b24-8aad-65ee0ba758c8",
   "metadata": {
    "execution": {
     "iopub.execute_input": "2024-06-27T16:48:04.532833Z",
     "iopub.status.busy": "2024-06-27T16:48:04.532066Z",
     "iopub.status.idle": "2024-06-27T16:48:04.648518Z",
     "shell.execute_reply": "2024-06-27T16:48:04.647875Z"
    },
    "papermill": {
     "duration": 0.126729,
     "end_time": "2024-06-27T16:48:04.650094",
     "exception": false,
     "start_time": "2024-06-27T16:48:04.523365",
     "status": "completed"
    },
    "tags": []
   },
   "outputs": [],
   "source": [
    "adataPBcell_sample.write(here(adataPATHlist[0].replace('/scPoli_','/PSEUDOBULKs/scPoli_PSEUDOBULKcellSample_')), compression='gzip')"
   ]
  },
  {
   "cell_type": "code",
   "execution_count": null,
   "id": "8a70d9f6-7a44-45ee-8470-702bd7af1e0b",
   "metadata": {
    "papermill": {
     "duration": 0.028077,
     "end_time": "2024-06-27T16:48:04.685725",
     "exception": false,
     "start_time": "2024-06-27T16:48:04.657648",
     "status": "completed"
    },
    "tags": []
   },
   "outputs": [],
   "source": []
  }
 ],
 "metadata": {
  "kernelspec": {
   "display_name": "Python 3 (ipykernel)",
   "language": "python",
   "name": "python3"
  },
  "language_info": {
   "codemirror_mode": {
    "name": "ipython",
    "version": 3
   },
   "file_extension": ".py",
   "mimetype": "text/x-python",
   "name": "python",
   "nbconvert_exporter": "python",
   "pygments_lexer": "ipython3",
   "version": "3.10.13"
  },
  "papermill": {
   "default_parameters": {},
   "duration": 23.048478,
   "end_time": "2024-06-27T16:48:05.425640",
   "environment_variables": {},
   "exception": null,
   "input_path": "03_generating_PSEUDOBULKs.ipynb",
   "output_path": "executed_notebooks/03_generating_PSEUDOBULKs_scPoli_EXTERNAL_2_100_run1_pd5nyb4g.h5ad.ipynb",
   "parameters": {
    "adataPATH": "03_downstream_analysis/08_PatientClassifier/scPoli/results/scPoli_EXTERNAL_2_100_run1_pd5nyb4g.h5ad"
   },
   "start_time": "2024-06-27T16:47:42.377162",
   "version": "2.5.0"
  }
 },
 "nbformat": 4,
 "nbformat_minor": 5
}