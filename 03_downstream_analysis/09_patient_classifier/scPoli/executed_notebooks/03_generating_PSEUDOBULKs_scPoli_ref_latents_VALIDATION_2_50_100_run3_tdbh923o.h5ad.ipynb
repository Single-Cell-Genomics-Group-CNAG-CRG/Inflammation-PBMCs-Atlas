{
 "cells": [
  {
   "cell_type": "code",
   "execution_count": 1,
   "id": "0fda56bf",
   "metadata": {
    "execution": {
     "iopub.execute_input": "2024-06-30T20:59:49.603669Z",
     "iopub.status.busy": "2024-06-30T20:59:49.603515Z",
     "iopub.status.idle": "2024-06-30T20:59:49.606072Z",
     "shell.execute_reply": "2024-06-30T20:59:49.605702Z"
    },
    "papermill": {
     "duration": 0.019472,
     "end_time": "2024-06-30T20:59:49.606933",
     "exception": false,
     "start_time": "2024-06-30T20:59:49.587461",
     "status": "completed"
    },
    "tags": [
     "injected-parameters"
    ]
   },
   "outputs": [],
   "source": [
    "# Parameters\n",
    "adataPATH = \"03_downstream_analysis/08_PatientClassifier/scPoli/results/scPoli_ref_latents_VALIDATION_2_50_100_run3_tdbh923o.h5ad\"\n"
   ]
  },
  {
   "cell_type": "raw",
   "id": "bf9880bd-3aef-477b-807d-37e3c5603037",
   "metadata": {
    "execution": {
     "iopub.execute_input": "2024-06-29T08:23:25.403219Z",
     "iopub.status.busy": "2024-06-29T08:23:25.402857Z",
     "iopub.status.idle": "2024-06-29T08:23:25.406428Z",
     "shell.execute_reply": "2024-06-29T08:23:25.406014Z",
     "shell.execute_reply.started": "2024-06-29T08:23:25.403185Z"
    },
    "papermill": {
     "duration": 0.005054,
     "end_time": "2024-06-30T20:59:49.620269",
     "exception": false,
     "start_time": "2024-06-30T20:59:49.615215",
     "status": "completed"
    },
    "tags": [],
    "vscode": {
     "languageId": "raw"
    }
   },
   "source": [
    "adataMAINpath = '03_downstream_analysis/08_PatientClassifier/scPoli/results/scPoli_2_100_20_*.h5ad'\n",
    "\n",
    "adataVALpath = '03_downstream_analysis/08_PatientClassifier/scPoli/results/scPoli_VALIDATION_2_20_20*.h5ad'\n",
    "adataEXCpath = '03_downstream_analysis/08_PatientClassifier/scPoli/results/scPoli_EXCLUDED_2_100_20_run1_pd5nyb4g.h5ad'\n",
    "adataEXTpath = '03_downstream_analysis/08_PatientClassifier/scPoli/results/scPoli_EXTERNAL_2_100_20_run1_pd5nyb4g.h5ad'\n",
    "\n",
    "adataPATH = adataVALpath"
   ]
  },
  {
   "cell_type": "code",
   "execution_count": 2,
   "id": "d3ccb10a-7201-43d0-a593-2b4650ff3451",
   "metadata": {
    "execution": {
     "iopub.execute_input": "2024-06-30T20:59:49.631312Z",
     "iopub.status.busy": "2024-06-30T20:59:49.630969Z",
     "iopub.status.idle": "2024-06-30T20:59:49.633859Z",
     "shell.execute_reply": "2024-06-30T20:59:49.633487Z"
    },
    "papermill": {
     "duration": 0.008844,
     "end_time": "2024-06-30T20:59:49.634635",
     "exception": false,
     "start_time": "2024-06-30T20:59:49.625791",
     "status": "completed"
    },
    "tags": []
   },
   "outputs": [
    {
     "name": "stdout",
     "output_type": "stream",
     "text": [
      "adataPATH = 03_downstream_analysis/08_PatientClassifier/scPoli/results/scPoli_ref_latents_VALIDATION_2_50_100_run3_tdbh923o.h5ad\n"
     ]
    }
   ],
   "source": [
    "for v in ['adataPATH']:\n",
    "    if v in locals() or v in globals():\n",
    "        print(f\"{v} = {eval(v)}\")\n",
    "    else:\n",
    "        raise Exception(f\"{v} not specified\")"
   ]
  },
  {
   "cell_type": "code",
   "execution_count": 3,
   "id": "888fb5f4-9ab7-4196-a282-7a7e92a43971",
   "metadata": {
    "execution": {
     "iopub.execute_input": "2024-06-30T20:59:49.645911Z",
     "iopub.status.busy": "2024-06-30T20:59:49.645506Z",
     "iopub.status.idle": "2024-06-30T20:59:51.058412Z",
     "shell.execute_reply": "2024-06-30T20:59:51.057918Z"
    },
    "papermill": {
     "duration": 1.419795,
     "end_time": "2024-06-30T20:59:51.059675",
     "exception": false,
     "start_time": "2024-06-30T20:59:49.639880",
     "status": "completed"
    },
    "tags": []
   },
   "outputs": [],
   "source": [
    "import os\n",
    "import sys\n",
    "from glob import glob\n",
    "\n",
    "import scanpy as sc\n",
    "import pandas as pd\n",
    "\n",
    "from pyprojroot import here\n",
    "\n",
    "sys.path.insert(1, str(here('bin')))\n",
    "# Import custom functions\n",
    "from customPythonFunctions import aggregating_features"
   ]
  },
  {
   "cell_type": "markdown",
   "id": "ba4905ae-4546-4ef4-b57b-950441ab079d",
   "metadata": {
    "papermill": {
     "duration": 0.005379,
     "end_time": "2024-06-30T20:59:51.083158",
     "exception": false,
     "start_time": "2024-06-30T20:59:51.077779",
     "status": "completed"
    },
    "tags": []
   },
   "source": [
    "### Loading data"
   ]
  },
  {
   "cell_type": "code",
   "execution_count": 4,
   "id": "539cbbbb-3503-4f51-bf04-f007f928ebd1",
   "metadata": {
    "execution": {
     "iopub.execute_input": "2024-06-30T20:59:51.127086Z",
     "iopub.status.busy": "2024-06-30T20:59:51.126801Z",
     "iopub.status.idle": "2024-06-30T20:59:51.130470Z",
     "shell.execute_reply": "2024-06-30T20:59:51.130100Z"
    },
    "papermill": {
     "duration": 0.029424,
     "end_time": "2024-06-30T20:59:51.131237",
     "exception": false,
     "start_time": "2024-06-30T20:59:51.101813",
     "status": "completed"
    },
    "tags": []
   },
   "outputs": [],
   "source": [
    "adataPATHlist = glob(str(here(adataPATH)))\n",
    "assert(len(adataPATHlist) == 1)"
   ]
  },
  {
   "cell_type": "code",
   "execution_count": 5,
   "id": "0fcfce0a-896b-4dc0-8e5e-46749205c84f",
   "metadata": {
    "execution": {
     "iopub.execute_input": "2024-06-30T20:59:51.152851Z",
     "iopub.status.busy": "2024-06-30T20:59:51.152586Z",
     "iopub.status.idle": "2024-06-30T21:00:01.370980Z",
     "shell.execute_reply": "2024-06-30T21:00:01.370551Z"
    },
    "papermill": {
     "duration": 10.22474,
     "end_time": "2024-06-30T21:00:01.371867",
     "exception": false,
     "start_time": "2024-06-30T20:59:51.147127",
     "status": "completed"
    },
    "tags": []
   },
   "outputs": [
    {
     "data": {
      "text/plain": [
       "AnnData object with n_obs × n_vars = 4435922 × 50\n",
       "    obs: 'studyID', 'libraryID', 'sampleID', 'chemistry', 'disease', 'sex', 'binned_age', 'Level1', 'Level2'\n",
       "    uns: 'chemistry', 'sampleID'"
      ]
     },
     "execution_count": 5,
     "metadata": {},
     "output_type": "execute_result"
    }
   ],
   "source": [
    "adata = sc.read_h5ad(adataPATHlist[0])\n",
    "adata"
   ]
  },
  {
   "cell_type": "markdown",
   "id": "44e868b3-0771-4225-bd79-a4b179bc672b",
   "metadata": {
    "papermill": {
     "duration": 0.005304,
     "end_time": "2024-06-30T21:00:01.384492",
     "exception": false,
     "start_time": "2024-06-30T21:00:01.379188",
     "status": "completed"
    },
    "tags": []
   },
   "source": [
    "#### Generating PSEUDOBULKs"
   ]
  },
  {
   "cell_type": "markdown",
   "id": "97d09fc5-d05c-471e-87fa-fe58ccbe47ac",
   "metadata": {
    "papermill": {
     "duration": 0.008876,
     "end_time": "2024-06-30T21:00:01.399788",
     "exception": false,
     "start_time": "2024-06-30T21:00:01.390912",
     "status": "completed"
    },
    "tags": []
   },
   "source": [
    "**Aggregating cell latent features**"
   ]
  },
  {
   "cell_type": "code",
   "execution_count": 6,
   "id": "81223976-fcf6-4354-8964-b12d76468636",
   "metadata": {
    "execution": {
     "iopub.execute_input": "2024-06-30T21:00:01.411650Z",
     "iopub.status.busy": "2024-06-30T21:00:01.411499Z",
     "iopub.status.idle": "2024-06-30T21:00:03.415172Z",
     "shell.execute_reply": "2024-06-30T21:00:03.414744Z"
    },
    "papermill": {
     "duration": 2.010934,
     "end_time": "2024-06-30T21:00:03.415984",
     "exception": false,
     "start_time": "2024-06-30T21:00:01.405050",
     "status": "completed"
    },
    "tags": []
   },
   "outputs": [
    {
     "data": {
      "text/plain": [
       "AnnData object with n_obs × n_vars = 11372 × 50\n",
       "    obs: 'sampleID', 'Level1', 'disease', 'n_observation'"
      ]
     },
     "execution_count": 6,
     "metadata": {},
     "output_type": "execute_result"
    }
   ],
   "source": [
    "adataPBcell = aggregating_features(Z = adata.X, \n",
    "                             obsDF = adata.obs[['sampleID','Level1','disease']], \n",
    "                             mode = 'mean', \n",
    "                             obs_names_col=['sampleID','Level1'], \n",
    "                             min_observation=0)\n",
    "adataPBcell"
   ]
  },
  {
   "cell_type": "code",
   "execution_count": null,
   "id": "8495038e-aebd-4003-bd94-c1e49f47249e",
   "metadata": {
    "papermill": {
     "duration": 0.005578,
     "end_time": "2024-06-30T21:00:03.427753",
     "exception": false,
     "start_time": "2024-06-30T21:00:03.422175",
     "status": "completed"
    },
    "tags": []
   },
   "outputs": [],
   "source": []
  },
  {
   "cell_type": "markdown",
   "id": "6d602bad-4793-4aa4-b3d7-d118d413a0fc",
   "metadata": {
    "papermill": {
     "duration": 0.005315,
     "end_time": "2024-06-30T21:00:03.439345",
     "exception": false,
     "start_time": "2024-06-30T21:00:03.434030",
     "status": "completed"
    },
    "tags": []
   },
   "source": [
    "**Extracting sample embedding**"
   ]
  },
  {
   "cell_type": "code",
   "execution_count": 7,
   "id": "e2c14f02",
   "metadata": {
    "execution": {
     "iopub.execute_input": "2024-06-30T21:00:03.450715Z",
     "iopub.status.busy": "2024-06-30T21:00:03.450564Z",
     "iopub.status.idle": "2024-06-30T21:00:03.460317Z",
     "shell.execute_reply": "2024-06-30T21:00:03.459963Z"
    },
    "papermill": {
     "duration": 0.016557,
     "end_time": "2024-06-30T21:00:03.461114",
     "exception": false,
     "start_time": "2024-06-30T21:00:03.444557",
     "status": "completed"
    },
    "tags": []
   },
   "outputs": [
    {
     "data": {
      "text/plain": [
       "AnnData object with n_obs × n_vars = 817 × 100\n",
       "    obs: 'sampleID', 'disease', 'Level1'"
      ]
     },
     "execution_count": 7,
     "metadata": {},
     "output_type": "execute_result"
    }
   ],
   "source": [
    "adataPBsample = adata.uns['sampleID'].copy()\n",
    "adataPBsample.obs['sampleID'] = adataPBsample.obs.index\n",
    "adataPBsample = adataPBsample[adataPBsample.obs['sampleID'].isin(adataPBcell.obs['sampleID'])]\n",
    "\n",
    "adataPBsample.obs = adataPBsample.obs.merge(adataPBcell.obs.groupby('sampleID').agg({'disease':'first'}), left_index=True, right_index=True)\n",
    "adataPBsample.obs['Level1'] = 'sample'\n",
    "adataPBsample"
   ]
  },
  {
   "cell_type": "markdown",
   "id": "2d4fe137-7d68-4e86-a85c-3c1a3d3c4c71",
   "metadata": {
    "papermill": {
     "duration": 0.005532,
     "end_time": "2024-06-30T21:00:03.472369",
     "exception": false,
     "start_time": "2024-06-30T21:00:03.466837",
     "status": "completed"
    },
    "tags": []
   },
   "source": [
    "**Merging cell and patient latent features**"
   ]
  },
  {
   "cell_type": "code",
   "execution_count": 8,
   "id": "a326d2b1",
   "metadata": {
    "execution": {
     "iopub.execute_input": "2024-06-30T21:00:03.484216Z",
     "iopub.status.busy": "2024-06-30T21:00:03.483916Z",
     "iopub.status.idle": "2024-06-30T21:00:03.486312Z",
     "shell.execute_reply": "2024-06-30T21:00:03.485959Z"
    },
    "papermill": {
     "duration": 0.009062,
     "end_time": "2024-06-30T21:00:03.487072",
     "exception": false,
     "start_time": "2024-06-30T21:00:03.478010",
     "status": "completed"
    },
    "tags": []
   },
   "outputs": [],
   "source": [
    "PBcellDF = adataPBcell.to_df()\n",
    "PBcellDF['sampleID'] = adataPBcell.obs['sampleID']"
   ]
  },
  {
   "cell_type": "code",
   "execution_count": 9,
   "id": "1a597f46-d9c5-403b-b81e-5738ca206682",
   "metadata": {
    "execution": {
     "iopub.execute_input": "2024-06-30T21:00:03.498448Z",
     "iopub.status.busy": "2024-06-30T21:00:03.498171Z",
     "iopub.status.idle": "2024-06-30T21:00:03.500538Z",
     "shell.execute_reply": "2024-06-30T21:00:03.500168Z"
    },
    "papermill": {
     "duration": 0.00883,
     "end_time": "2024-06-30T21:00:03.501322",
     "exception": false,
     "start_time": "2024-06-30T21:00:03.492492",
     "status": "completed"
    },
    "tags": []
   },
   "outputs": [],
   "source": [
    "PBsampleDF = adataPBsample.to_df()\n",
    "PBsampleDF['sampleID'] = adataPBsample.obs['sampleID']"
   ]
  },
  {
   "cell_type": "code",
   "execution_count": 10,
   "id": "bb384751-fe1b-4635-a90d-fd98ae61b173",
   "metadata": {
    "execution": {
     "iopub.execute_input": "2024-06-30T21:00:03.512906Z",
     "iopub.status.busy": "2024-06-30T21:00:03.512614Z",
     "iopub.status.idle": "2024-06-30T21:00:03.521287Z",
     "shell.execute_reply": "2024-06-30T21:00:03.520823Z"
    },
    "papermill": {
     "duration": 0.015254,
     "end_time": "2024-06-30T21:00:03.522055",
     "exception": false,
     "start_time": "2024-06-30T21:00:03.506801",
     "status": "completed"
    },
    "tags": []
   },
   "outputs": [],
   "source": [
    "PBcell_sampleDF = PBcellDF.merge(PBsampleDF, on='sampleID', how='left')"
   ]
  },
  {
   "cell_type": "code",
   "execution_count": 11,
   "id": "f7250713-e24d-4614-9cbd-eed702340640",
   "metadata": {
    "execution": {
     "iopub.execute_input": "2024-06-30T21:00:03.533871Z",
     "iopub.status.busy": "2024-06-30T21:00:03.533565Z",
     "iopub.status.idle": "2024-06-30T21:00:03.536037Z",
     "shell.execute_reply": "2024-06-30T21:00:03.535694Z"
    },
    "papermill": {
     "duration": 0.009095,
     "end_time": "2024-06-30T21:00:03.536809",
     "exception": false,
     "start_time": "2024-06-30T21:00:03.527714",
     "status": "completed"
    },
    "tags": []
   },
   "outputs": [],
   "source": [
    "assert(adataPBcell.obs['sampleID'].tolist() == PBcell_sampleDF['sampleID'].tolist())"
   ]
  },
  {
   "cell_type": "code",
   "execution_count": 12,
   "id": "abea2252-6a12-4b89-9f0d-6d6df90064fb",
   "metadata": {
    "execution": {
     "iopub.execute_input": "2024-06-30T21:00:03.548636Z",
     "iopub.status.busy": "2024-06-30T21:00:03.548334Z",
     "iopub.status.idle": "2024-06-30T21:00:03.551584Z",
     "shell.execute_reply": "2024-06-30T21:00:03.551183Z"
    },
    "papermill": {
     "duration": 0.010278,
     "end_time": "2024-06-30T21:00:03.552370",
     "exception": false,
     "start_time": "2024-06-30T21:00:03.542092",
     "status": "completed"
    },
    "tags": []
   },
   "outputs": [],
   "source": [
    "PBcell_sampleDF.drop('sampleID', axis=1, inplace=True)"
   ]
  },
  {
   "cell_type": "code",
   "execution_count": 13,
   "id": "5502e45d-5c72-4440-a8c1-5b299cac6e2d",
   "metadata": {
    "execution": {
     "iopub.execute_input": "2024-06-30T21:00:03.563873Z",
     "iopub.status.busy": "2024-06-30T21:00:03.563576Z",
     "iopub.status.idle": "2024-06-30T21:00:03.567691Z",
     "shell.execute_reply": "2024-06-30T21:00:03.567349Z"
    },
    "papermill": {
     "duration": 0.010754,
     "end_time": "2024-06-30T21:00:03.568478",
     "exception": false,
     "start_time": "2024-06-30T21:00:03.557724",
     "status": "completed"
    },
    "tags": []
   },
   "outputs": [
    {
     "data": {
      "text/plain": [
       "AnnData object with n_obs × n_vars = 11372 × 150\n",
       "    obs: 'sampleID', 'Level1', 'disease', 'n_observation'"
      ]
     },
     "execution_count": 13,
     "metadata": {},
     "output_type": "execute_result"
    }
   ],
   "source": [
    "adataPBcell_sample = sc.AnnData(X = PBcell_sampleDF, obs = adataPBcell.obs)\n",
    "adataPBcell_sample"
   ]
  },
  {
   "cell_type": "markdown",
   "id": "d59574be-684b-4082-b8b6-7d11930362ad",
   "metadata": {
    "papermill": {
     "duration": 0.005507,
     "end_time": "2024-06-30T21:00:03.579982",
     "exception": false,
     "start_time": "2024-06-30T21:00:03.574475",
     "status": "completed"
    },
    "tags": []
   },
   "source": [
    "### Saving pseudobulk adata objects"
   ]
  },
  {
   "cell_type": "code",
   "execution_count": 14,
   "id": "5947e6f8-ac27-4702-ba5d-aa9e1ba79f6a",
   "metadata": {
    "execution": {
     "iopub.execute_input": "2024-06-30T21:00:03.591826Z",
     "iopub.status.busy": "2024-06-30T21:00:03.591520Z",
     "iopub.status.idle": "2024-06-30T21:00:03.706126Z",
     "shell.execute_reply": "2024-06-30T21:00:03.705671Z"
    },
    "papermill": {
     "duration": 0.122106,
     "end_time": "2024-06-30T21:00:03.707408",
     "exception": false,
     "start_time": "2024-06-30T21:00:03.585302",
     "status": "completed"
    },
    "tags": []
   },
   "outputs": [],
   "source": [
    "adataPBcell.write(here(adataPATHlist[0].replace('/scPoli_','/PSEUDOBULKs/scPoli_PSEUDOBULKcell_')), compression='gzip')"
   ]
  },
  {
   "cell_type": "code",
   "execution_count": 15,
   "id": "e9485945-bccf-419a-9420-c1e4f3aa262d",
   "metadata": {
    "execution": {
     "iopub.execute_input": "2024-06-30T21:00:03.719567Z",
     "iopub.status.busy": "2024-06-30T21:00:03.719153Z",
     "iopub.status.idle": "2024-06-30T21:00:03.749375Z",
     "shell.execute_reply": "2024-06-30T21:00:03.748897Z"
    },
    "papermill": {
     "duration": 0.036911,
     "end_time": "2024-06-30T21:00:03.750127",
     "exception": false,
     "start_time": "2024-06-30T21:00:03.713216",
     "status": "completed"
    },
    "tags": []
   },
   "outputs": [],
   "source": [
    "adataPBsample.write(here(adataPATHlist[0].replace('/scPoli_','/PSEUDOBULKs/scPoli_PSEUDOBULKsample_')), compression='gzip')"
   ]
  },
  {
   "cell_type": "code",
   "execution_count": 16,
   "id": "9c2daa40-3279-4b24-8aad-65ee0ba758c8",
   "metadata": {
    "execution": {
     "iopub.execute_input": "2024-06-30T21:00:03.762679Z",
     "iopub.status.busy": "2024-06-30T21:00:03.762389Z",
     "iopub.status.idle": "2024-06-30T21:00:03.924577Z",
     "shell.execute_reply": "2024-06-30T21:00:03.924190Z"
    },
    "papermill": {
     "duration": 0.169563,
     "end_time": "2024-06-30T21:00:03.925372",
     "exception": false,
     "start_time": "2024-06-30T21:00:03.755809",
     "status": "completed"
    },
    "tags": []
   },
   "outputs": [],
   "source": [
    "adataPBcell_sample.write(here(adataPATHlist[0].replace('/scPoli_','/PSEUDOBULKs/scPoli_PSEUDOBULKcellSample_')), compression='gzip')"
   ]
  },
  {
   "cell_type": "code",
   "execution_count": null,
   "id": "8a70d9f6-7a44-45ee-8470-702bd7af1e0b",
   "metadata": {
    "papermill": {
     "duration": 0.007707,
     "end_time": "2024-06-30T21:00:03.939410",
     "exception": false,
     "start_time": "2024-06-30T21:00:03.931703",
     "status": "completed"
    },
    "tags": []
   },
   "outputs": [],
   "source": []
  }
 ],
 "metadata": {
  "kernelspec": {
   "display_name": "Python 3 (ipykernel)",
   "language": "python",
   "name": "python3"
  },
  "language_info": {
   "codemirror_mode": {
    "name": "ipython",
    "version": 3
   },
   "file_extension": ".py",
   "mimetype": "text/x-python",
   "name": "python",
   "nbconvert_exporter": "python",
   "pygments_lexer": "ipython3",
   "version": "3.12.3"
  },
  "papermill": {
   "default_parameters": {},
   "duration": 15.932249,
   "end_time": "2024-06-30T21:00:04.562560",
   "environment_variables": {},
   "exception": null,
   "input_path": "03_generating_PSEUDOBULKs.ipynb",
   "output_path": "executed_notebooks/03_generating_PSEUDOBULKs_scPoli_ref_latents_VALIDATION_2_50_100_run3_tdbh923o.h5ad.ipynb",
   "parameters": {
    "adataPATH": "03_downstream_analysis/08_PatientClassifier/scPoli/results/scPoli_ref_latents_VALIDATION_2_50_100_run3_tdbh923o.h5ad"
   },
   "start_time": "2024-06-30T20:59:48.630311",
   "version": "2.6.0"
  }
 },
 "nbformat": 4,
 "nbformat_minor": 5
}