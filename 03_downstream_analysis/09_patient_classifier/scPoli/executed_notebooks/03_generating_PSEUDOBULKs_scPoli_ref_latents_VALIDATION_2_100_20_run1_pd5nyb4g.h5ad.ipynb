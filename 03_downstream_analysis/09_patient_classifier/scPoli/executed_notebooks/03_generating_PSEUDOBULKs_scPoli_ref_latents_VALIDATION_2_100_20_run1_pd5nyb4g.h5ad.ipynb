{
 "cells": [
  {
   "cell_type": "code",
   "execution_count": 1,
   "id": "90f1e485",
   "metadata": {
    "execution": {
     "iopub.execute_input": "2024-06-30T21:02:03.053436Z",
     "iopub.status.busy": "2024-06-30T21:02:03.053281Z",
     "iopub.status.idle": "2024-06-30T21:02:03.055861Z",
     "shell.execute_reply": "2024-06-30T21:02:03.055500Z"
    },
    "papermill": {
     "duration": 0.010083,
     "end_time": "2024-06-30T21:02:03.056682",
     "exception": false,
     "start_time": "2024-06-30T21:02:03.046599",
     "status": "completed"
    },
    "tags": [
     "injected-parameters"
    ]
   },
   "outputs": [],
   "source": [
    "# Parameters\n",
    "adataPATH = \"03_downstream_analysis/08_PatientClassifier/scPoli/results/scPoli_ref_latents_VALIDATION_2_100_20_run1_pd5nyb4g.h5ad\"\n"
   ]
  },
  {
   "cell_type": "raw",
   "id": "bf9880bd-3aef-477b-807d-37e3c5603037",
   "metadata": {
    "execution": {
     "iopub.execute_input": "2024-06-29T08:23:25.403219Z",
     "iopub.status.busy": "2024-06-29T08:23:25.402857Z",
     "iopub.status.idle": "2024-06-29T08:23:25.406428Z",
     "shell.execute_reply": "2024-06-29T08:23:25.406014Z",
     "shell.execute_reply.started": "2024-06-29T08:23:25.403185Z"
    },
    "papermill": {
     "duration": 0.005012,
     "end_time": "2024-06-30T21:02:03.077323",
     "exception": false,
     "start_time": "2024-06-30T21:02:03.072311",
     "status": "completed"
    },
    "tags": [],
    "vscode": {
     "languageId": "raw"
    }
   },
   "source": [
    "adataMAINpath = '03_downstream_analysis/08_PatientClassifier/scPoli/results/scPoli_2_100_20_*.h5ad'\n",
    "\n",
    "adataVALpath = '03_downstream_analysis/08_PatientClassifier/scPoli/results/scPoli_VALIDATION_2_20_20*.h5ad'\n",
    "adataEXCpath = '03_downstream_analysis/08_PatientClassifier/scPoli/results/scPoli_EXCLUDED_2_100_20_run1_pd5nyb4g.h5ad'\n",
    "adataEXTpath = '03_downstream_analysis/08_PatientClassifier/scPoli/results/scPoli_EXTERNAL_2_100_20_run1_pd5nyb4g.h5ad'\n",
    "\n",
    "adataPATH = adataVALpath"
   ]
  },
  {
   "cell_type": "code",
   "execution_count": 2,
   "id": "d3ccb10a-7201-43d0-a593-2b4650ff3451",
   "metadata": {
    "execution": {
     "iopub.execute_input": "2024-06-30T21:02:03.088393Z",
     "iopub.status.busy": "2024-06-30T21:02:03.087946Z",
     "iopub.status.idle": "2024-06-30T21:02:03.090944Z",
     "shell.execute_reply": "2024-06-30T21:02:03.090585Z"
    },
    "papermill": {
     "duration": 0.00939,
     "end_time": "2024-06-30T21:02:03.091726",
     "exception": false,
     "start_time": "2024-06-30T21:02:03.082336",
     "status": "completed"
    },
    "tags": []
   },
   "outputs": [
    {
     "name": "stdout",
     "output_type": "stream",
     "text": [
      "adataPATH = 03_downstream_analysis/08_PatientClassifier/scPoli/results/scPoli_ref_latents_VALIDATION_2_100_20_run1_pd5nyb4g.h5ad\n"
     ]
    }
   ],
   "source": [
    "for v in ['adataPATH']:\n",
    "    if v in locals() or v in globals():\n",
    "        print(f\"{v} = {eval(v)}\")\n",
    "    else:\n",
    "        raise Exception(f\"{v} not specified\")"
   ]
  },
  {
   "cell_type": "code",
   "execution_count": 3,
   "id": "888fb5f4-9ab7-4196-a282-7a7e92a43971",
   "metadata": {
    "execution": {
     "iopub.execute_input": "2024-06-30T21:02:03.102524Z",
     "iopub.status.busy": "2024-06-30T21:02:03.102308Z",
     "iopub.status.idle": "2024-06-30T21:02:04.538090Z",
     "shell.execute_reply": "2024-06-30T21:02:04.537694Z"
    },
    "papermill": {
     "duration": 1.442735,
     "end_time": "2024-06-30T21:02:04.539399",
     "exception": false,
     "start_time": "2024-06-30T21:02:03.096664",
     "status": "completed"
    },
    "tags": []
   },
   "outputs": [],
   "source": [
    "import os\n",
    "import sys\n",
    "from glob import glob\n",
    "\n",
    "import scanpy as sc\n",
    "import pandas as pd\n",
    "\n",
    "from pyprojroot import here\n",
    "\n",
    "sys.path.insert(1, str(here('bin')))\n",
    "# Import custom functions\n",
    "from customPythonFunctions import aggregating_features"
   ]
  },
  {
   "cell_type": "markdown",
   "id": "ba4905ae-4546-4ef4-b57b-950441ab079d",
   "metadata": {
    "papermill": {
     "duration": 0.004919,
     "end_time": "2024-06-30T21:02:04.549529",
     "exception": false,
     "start_time": "2024-06-30T21:02:04.544610",
     "status": "completed"
    },
    "tags": []
   },
   "source": [
    "### Loading data"
   ]
  },
  {
   "cell_type": "code",
   "execution_count": 4,
   "id": "539cbbbb-3503-4f51-bf04-f007f928ebd1",
   "metadata": {
    "execution": {
     "iopub.execute_input": "2024-06-30T21:02:04.560423Z",
     "iopub.status.busy": "2024-06-30T21:02:04.559858Z",
     "iopub.status.idle": "2024-06-30T21:02:04.563406Z",
     "shell.execute_reply": "2024-06-30T21:02:04.563102Z"
    },
    "papermill": {
     "duration": 0.009769,
     "end_time": "2024-06-30T21:02:04.564181",
     "exception": false,
     "start_time": "2024-06-30T21:02:04.554412",
     "status": "completed"
    },
    "tags": []
   },
   "outputs": [],
   "source": [
    "adataPATHlist = glob(str(here(adataPATH)))\n",
    "assert(len(adataPATHlist) == 1)"
   ]
  },
  {
   "cell_type": "code",
   "execution_count": 5,
   "id": "0fcfce0a-896b-4dc0-8e5e-46749205c84f",
   "metadata": {
    "execution": {
     "iopub.execute_input": "2024-06-30T21:02:04.574830Z",
     "iopub.status.busy": "2024-06-30T21:02:04.574516Z",
     "iopub.status.idle": "2024-06-30T21:02:20.343314Z",
     "shell.execute_reply": "2024-06-30T21:02:20.342960Z"
    },
    "papermill": {
     "duration": 15.775007,
     "end_time": "2024-06-30T21:02:20.344342",
     "exception": false,
     "start_time": "2024-06-30T21:02:04.569335",
     "status": "completed"
    },
    "tags": []
   },
   "outputs": [
    {
     "data": {
      "text/plain": [
       "AnnData object with n_obs × n_vars = 4435922 × 100\n",
       "    obs: 'studyID', 'libraryID', 'sampleID', 'chemistry', 'disease', 'sex', 'binned_age', 'Level1', 'Level2'\n",
       "    uns: 'chemistry', 'sampleID'"
      ]
     },
     "execution_count": 5,
     "metadata": {},
     "output_type": "execute_result"
    }
   ],
   "source": [
    "adata = sc.read_h5ad(adataPATHlist[0])\n",
    "adata"
   ]
  },
  {
   "cell_type": "markdown",
   "id": "44e868b3-0771-4225-bd79-a4b179bc672b",
   "metadata": {
    "papermill": {
     "duration": 0.004943,
     "end_time": "2024-06-30T21:02:20.354249",
     "exception": false,
     "start_time": "2024-06-30T21:02:20.349306",
     "status": "completed"
    },
    "tags": []
   },
   "source": [
    "#### Generating PSEUDOBULKs"
   ]
  },
  {
   "cell_type": "markdown",
   "id": "97d09fc5-d05c-471e-87fa-fe58ccbe47ac",
   "metadata": {
    "papermill": {
     "duration": 0.00496,
     "end_time": "2024-06-30T21:02:20.364551",
     "exception": false,
     "start_time": "2024-06-30T21:02:20.359591",
     "status": "completed"
    },
    "tags": []
   },
   "source": [
    "**Aggregating cell latent features**"
   ]
  },
  {
   "cell_type": "code",
   "execution_count": 6,
   "id": "81223976-fcf6-4354-8964-b12d76468636",
   "metadata": {
    "execution": {
     "iopub.execute_input": "2024-06-30T21:02:20.376059Z",
     "iopub.status.busy": "2024-06-30T21:02:20.375666Z",
     "iopub.status.idle": "2024-06-30T21:02:22.844597Z",
     "shell.execute_reply": "2024-06-30T21:02:22.844242Z"
    },
    "papermill": {
     "duration": 2.475744,
     "end_time": "2024-06-30T21:02:22.845408",
     "exception": false,
     "start_time": "2024-06-30T21:02:20.369664",
     "status": "completed"
    },
    "tags": []
   },
   "outputs": [
    {
     "data": {
      "text/plain": [
       "AnnData object with n_obs × n_vars = 11372 × 100\n",
       "    obs: 'sampleID', 'Level1', 'disease', 'n_observation'"
      ]
     },
     "execution_count": 6,
     "metadata": {},
     "output_type": "execute_result"
    }
   ],
   "source": [
    "adataPBcell = aggregating_features(Z = adata.X, \n",
    "                             obsDF = adata.obs[['sampleID','Level1','disease']], \n",
    "                             mode = 'mean', \n",
    "                             obs_names_col=['sampleID','Level1'], \n",
    "                             min_observation=0)\n",
    "adataPBcell"
   ]
  },
  {
   "cell_type": "code",
   "execution_count": null,
   "id": "8495038e-aebd-4003-bd94-c1e49f47249e",
   "metadata": {
    "papermill": {
     "duration": 0.005503,
     "end_time": "2024-06-30T21:02:22.856607",
     "exception": false,
     "start_time": "2024-06-30T21:02:22.851104",
     "status": "completed"
    },
    "tags": []
   },
   "outputs": [],
   "source": []
  },
  {
   "cell_type": "markdown",
   "id": "6d602bad-4793-4aa4-b3d7-d118d413a0fc",
   "metadata": {
    "papermill": {
     "duration": 0.005213,
     "end_time": "2024-06-30T21:02:22.867480",
     "exception": false,
     "start_time": "2024-06-30T21:02:22.862267",
     "status": "completed"
    },
    "tags": []
   },
   "source": [
    "**Extracting sample embedding**"
   ]
  },
  {
   "cell_type": "code",
   "execution_count": 7,
   "id": "e2c14f02",
   "metadata": {
    "execution": {
     "iopub.execute_input": "2024-06-30T21:02:22.880261Z",
     "iopub.status.busy": "2024-06-30T21:02:22.879716Z",
     "iopub.status.idle": "2024-06-30T21:02:22.889654Z",
     "shell.execute_reply": "2024-06-30T21:02:22.889361Z"
    },
    "papermill": {
     "duration": 0.017508,
     "end_time": "2024-06-30T21:02:22.890420",
     "exception": false,
     "start_time": "2024-06-30T21:02:22.872912",
     "status": "completed"
    },
    "tags": []
   },
   "outputs": [
    {
     "data": {
      "text/plain": [
       "AnnData object with n_obs × n_vars = 817 × 20\n",
       "    obs: 'sampleID', 'disease', 'Level1'"
      ]
     },
     "execution_count": 7,
     "metadata": {},
     "output_type": "execute_result"
    }
   ],
   "source": [
    "adataPBsample = adata.uns['sampleID'].copy()\n",
    "adataPBsample.obs['sampleID'] = adataPBsample.obs.index\n",
    "adataPBsample = adataPBsample[adataPBsample.obs['sampleID'].isin(adataPBcell.obs['sampleID'])]\n",
    "\n",
    "adataPBsample.obs = adataPBsample.obs.merge(adataPBcell.obs.groupby('sampleID').agg({'disease':'first'}), left_index=True, right_index=True)\n",
    "adataPBsample.obs['Level1'] = 'sample'\n",
    "adataPBsample"
   ]
  },
  {
   "cell_type": "markdown",
   "id": "2d4fe137-7d68-4e86-a85c-3c1a3d3c4c71",
   "metadata": {
    "papermill": {
     "duration": 0.00547,
     "end_time": "2024-06-30T21:02:22.901429",
     "exception": false,
     "start_time": "2024-06-30T21:02:22.895959",
     "status": "completed"
    },
    "tags": []
   },
   "source": [
    "**Merging cell and patient latent features**"
   ]
  },
  {
   "cell_type": "code",
   "execution_count": 8,
   "id": "a326d2b1",
   "metadata": {
    "execution": {
     "iopub.execute_input": "2024-06-30T21:02:22.913307Z",
     "iopub.status.busy": "2024-06-30T21:02:22.912959Z",
     "iopub.status.idle": "2024-06-30T21:02:22.915261Z",
     "shell.execute_reply": "2024-06-30T21:02:22.914971Z"
    },
    "papermill": {
     "duration": 0.009164,
     "end_time": "2024-06-30T21:02:22.915994",
     "exception": false,
     "start_time": "2024-06-30T21:02:22.906830",
     "status": "completed"
    },
    "tags": []
   },
   "outputs": [],
   "source": [
    "PBcellDF = adataPBcell.to_df()\n",
    "PBcellDF['sampleID'] = adataPBcell.obs['sampleID']"
   ]
  },
  {
   "cell_type": "code",
   "execution_count": 9,
   "id": "1a597f46-d9c5-403b-b81e-5738ca206682",
   "metadata": {
    "execution": {
     "iopub.execute_input": "2024-06-30T21:02:22.927764Z",
     "iopub.status.busy": "2024-06-30T21:02:22.927447Z",
     "iopub.status.idle": "2024-06-30T21:02:22.929656Z",
     "shell.execute_reply": "2024-06-30T21:02:22.929375Z"
    },
    "papermill": {
     "duration": 0.008779,
     "end_time": "2024-06-30T21:02:22.930399",
     "exception": false,
     "start_time": "2024-06-30T21:02:22.921620",
     "status": "completed"
    },
    "tags": []
   },
   "outputs": [],
   "source": [
    "PBsampleDF = adataPBsample.to_df()\n",
    "PBsampleDF['sampleID'] = adataPBsample.obs['sampleID']"
   ]
  },
  {
   "cell_type": "code",
   "execution_count": 10,
   "id": "bb384751-fe1b-4635-a90d-fd98ae61b173",
   "metadata": {
    "execution": {
     "iopub.execute_input": "2024-06-30T21:02:22.941994Z",
     "iopub.status.busy": "2024-06-30T21:02:22.941679Z",
     "iopub.status.idle": "2024-06-30T21:02:22.949000Z",
     "shell.execute_reply": "2024-06-30T21:02:22.948648Z"
    },
    "papermill": {
     "duration": 0.013837,
     "end_time": "2024-06-30T21:02:22.949796",
     "exception": false,
     "start_time": "2024-06-30T21:02:22.935959",
     "status": "completed"
    },
    "tags": []
   },
   "outputs": [],
   "source": [
    "PBcell_sampleDF = PBcellDF.merge(PBsampleDF, on='sampleID', how='left')"
   ]
  },
  {
   "cell_type": "code",
   "execution_count": 11,
   "id": "f7250713-e24d-4614-9cbd-eed702340640",
   "metadata": {
    "execution": {
     "iopub.execute_input": "2024-06-30T21:02:22.961861Z",
     "iopub.status.busy": "2024-06-30T21:02:22.961577Z",
     "iopub.status.idle": "2024-06-30T21:02:22.963944Z",
     "shell.execute_reply": "2024-06-30T21:02:22.963657Z"
    },
    "papermill": {
     "duration": 0.009226,
     "end_time": "2024-06-30T21:02:22.964687",
     "exception": false,
     "start_time": "2024-06-30T21:02:22.955461",
     "status": "completed"
    },
    "tags": []
   },
   "outputs": [],
   "source": [
    "assert(adataPBcell.obs['sampleID'].tolist() == PBcell_sampleDF['sampleID'].tolist())"
   ]
  },
  {
   "cell_type": "code",
   "execution_count": 12,
   "id": "abea2252-6a12-4b89-9f0d-6d6df90064fb",
   "metadata": {
    "execution": {
     "iopub.execute_input": "2024-06-30T21:02:22.976421Z",
     "iopub.status.busy": "2024-06-30T21:02:22.975979Z",
     "iopub.status.idle": "2024-06-30T21:02:22.979576Z",
     "shell.execute_reply": "2024-06-30T21:02:22.979261Z"
    },
    "papermill": {
     "duration": 0.010256,
     "end_time": "2024-06-30T21:02:22.980324",
     "exception": false,
     "start_time": "2024-06-30T21:02:22.970068",
     "status": "completed"
    },
    "tags": []
   },
   "outputs": [],
   "source": [
    "PBcell_sampleDF.drop('sampleID', axis=1, inplace=True)"
   ]
  },
  {
   "cell_type": "code",
   "execution_count": 13,
   "id": "5502e45d-5c72-4440-a8c1-5b299cac6e2d",
   "metadata": {
    "execution": {
     "iopub.execute_input": "2024-06-30T21:02:22.992139Z",
     "iopub.status.busy": "2024-06-30T21:02:22.991716Z",
     "iopub.status.idle": "2024-06-30T21:02:22.995896Z",
     "shell.execute_reply": "2024-06-30T21:02:22.995614Z"
    },
    "papermill": {
     "duration": 0.010762,
     "end_time": "2024-06-30T21:02:22.996647",
     "exception": false,
     "start_time": "2024-06-30T21:02:22.985885",
     "status": "completed"
    },
    "tags": []
   },
   "outputs": [
    {
     "data": {
      "text/plain": [
       "AnnData object with n_obs × n_vars = 11372 × 120\n",
       "    obs: 'sampleID', 'Level1', 'disease', 'n_observation'"
      ]
     },
     "execution_count": 13,
     "metadata": {},
     "output_type": "execute_result"
    }
   ],
   "source": [
    "adataPBcell_sample = sc.AnnData(X = PBcell_sampleDF, obs = adataPBcell.obs)\n",
    "adataPBcell_sample"
   ]
  },
  {
   "cell_type": "markdown",
   "id": "d59574be-684b-4082-b8b6-7d11930362ad",
   "metadata": {
    "papermill": {
     "duration": 0.00563,
     "end_time": "2024-06-30T21:02:23.007686",
     "exception": false,
     "start_time": "2024-06-30T21:02:23.002056",
     "status": "completed"
    },
    "tags": []
   },
   "source": [
    "### Saving pseudobulk adata objects"
   ]
  },
  {
   "cell_type": "code",
   "execution_count": 14,
   "id": "5947e6f8-ac27-4702-ba5d-aa9e1ba79f6a",
   "metadata": {
    "execution": {
     "iopub.execute_input": "2024-06-30T21:02:23.019443Z",
     "iopub.status.busy": "2024-06-30T21:02:23.019121Z",
     "iopub.status.idle": "2024-06-30T21:02:23.216408Z",
     "shell.execute_reply": "2024-06-30T21:02:23.216010Z"
    },
    "papermill": {
     "duration": 0.203921,
     "end_time": "2024-06-30T21:02:23.217177",
     "exception": false,
     "start_time": "2024-06-30T21:02:23.013256",
     "status": "completed"
    },
    "tags": []
   },
   "outputs": [],
   "source": [
    "adataPBcell.write(here(adataPATHlist[0].replace('/scPoli_','/PSEUDOBULKs/scPoli_PSEUDOBULKcell_')), compression='gzip')"
   ]
  },
  {
   "cell_type": "code",
   "execution_count": 15,
   "id": "e9485945-bccf-419a-9420-c1e4f3aa262d",
   "metadata": {
    "execution": {
     "iopub.execute_input": "2024-06-30T21:02:23.229295Z",
     "iopub.status.busy": "2024-06-30T21:02:23.228958Z",
     "iopub.status.idle": "2024-06-30T21:02:23.251814Z",
     "shell.execute_reply": "2024-06-30T21:02:23.251504Z"
    },
    "papermill": {
     "duration": 0.029612,
     "end_time": "2024-06-30T21:02:23.252593",
     "exception": false,
     "start_time": "2024-06-30T21:02:23.222981",
     "status": "completed"
    },
    "tags": []
   },
   "outputs": [],
   "source": [
    "adataPBsample.write(here(adataPATHlist[0].replace('/scPoli_','/PSEUDOBULKs/scPoli_PSEUDOBULKsample_')), compression='gzip')"
   ]
  },
  {
   "cell_type": "code",
   "execution_count": 16,
   "id": "9c2daa40-3279-4b24-8aad-65ee0ba758c8",
   "metadata": {
    "execution": {
     "iopub.execute_input": "2024-06-30T21:02:23.264707Z",
     "iopub.status.busy": "2024-06-30T21:02:23.264394Z",
     "iopub.status.idle": "2024-06-30T21:02:23.453363Z",
     "shell.execute_reply": "2024-06-30T21:02:23.452963Z"
    },
    "papermill": {
     "duration": 0.195885,
     "end_time": "2024-06-30T21:02:23.454169",
     "exception": false,
     "start_time": "2024-06-30T21:02:23.258284",
     "status": "completed"
    },
    "tags": []
   },
   "outputs": [],
   "source": [
    "adataPBcell_sample.write(here(adataPATHlist[0].replace('/scPoli_','/PSEUDOBULKs/scPoli_PSEUDOBULKcellSample_')), compression='gzip')"
   ]
  },
  {
   "cell_type": "code",
   "execution_count": null,
   "id": "8a70d9f6-7a44-45ee-8470-702bd7af1e0b",
   "metadata": {
    "papermill": {
     "duration": 0.005912,
     "end_time": "2024-06-30T21:02:23.465913",
     "exception": false,
     "start_time": "2024-06-30T21:02:23.460001",
     "status": "completed"
    },
    "tags": []
   },
   "outputs": [],
   "source": []
  }
 ],
 "metadata": {
  "kernelspec": {
   "display_name": "Python 3 (ipykernel)",
   "language": "python",
   "name": "python3"
  },
  "language_info": {
   "codemirror_mode": {
    "name": "ipython",
    "version": 3
   },
   "file_extension": ".py",
   "mimetype": "text/x-python",
   "name": "python",
   "nbconvert_exporter": "python",
   "pygments_lexer": "ipython3",
   "version": "3.12.3"
  },
  "papermill": {
   "default_parameters": {},
   "duration": 21.992841,
   "end_time": "2024-06-30T21:02:24.086757",
   "environment_variables": {},
   "exception": null,
   "input_path": "03_generating_PSEUDOBULKs.ipynb",
   "output_path": "executed_notebooks/03_generating_PSEUDOBULKs_scPoli_ref_latents_VALIDATION_2_100_20_run1_pd5nyb4g.h5ad.ipynb",
   "parameters": {
    "adataPATH": "03_downstream_analysis/08_PatientClassifier/scPoli/results/scPoli_ref_latents_VALIDATION_2_100_20_run1_pd5nyb4g.h5ad"
   },
   "start_time": "2024-06-30T21:02:02.093916",
   "version": "2.6.0"
  }
 },
 "nbformat": 4,
 "nbformat_minor": 5
}