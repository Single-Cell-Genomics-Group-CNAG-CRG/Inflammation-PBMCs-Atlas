{
 "cells": [
  {
   "cell_type": "code",
   "execution_count": 1,
   "id": "d5c5f150",
   "metadata": {
    "execution": {
     "iopub.execute_input": "2024-06-30T20:58:57.708219Z",
     "iopub.status.busy": "2024-06-30T20:58:57.707843Z",
     "iopub.status.idle": "2024-06-30T20:58:57.710477Z",
     "shell.execute_reply": "2024-06-30T20:58:57.710086Z"
    },
    "papermill": {
     "duration": 0.009529,
     "end_time": "2024-06-30T20:58:57.711300",
     "exception": false,
     "start_time": "2024-06-30T20:58:57.701771",
     "status": "completed"
    },
    "tags": [
     "injected-parameters"
    ]
   },
   "outputs": [],
   "source": [
    "# Parameters\n",
    "adataPATH = \"03_downstream_analysis/08_PatientClassifier/scPoli/results/scPoli_ref_latents_VALIDATION_2_20_20_run1_iqrndxcb.h5ad\"\n"
   ]
  },
  {
   "cell_type": "raw",
   "id": "bf9880bd-3aef-477b-807d-37e3c5603037",
   "metadata": {
    "execution": {
     "iopub.execute_input": "2024-06-29T08:23:25.403219Z",
     "iopub.status.busy": "2024-06-29T08:23:25.402857Z",
     "iopub.status.idle": "2024-06-29T08:23:25.406428Z",
     "shell.execute_reply": "2024-06-29T08:23:25.406014Z",
     "shell.execute_reply.started": "2024-06-29T08:23:25.403185Z"
    },
    "papermill": {
     "duration": 0.004903,
     "end_time": "2024-06-30T20:58:57.721512",
     "exception": false,
     "start_time": "2024-06-30T20:58:57.716609",
     "status": "completed"
    },
    "tags": [],
    "vscode": {
     "languageId": "raw"
    }
   },
   "source": [
    "adataMAINpath = '03_downstream_analysis/08_PatientClassifier/scPoli/results/scPoli_2_100_20_*.h5ad'\n",
    "\n",
    "adataVALpath = '03_downstream_analysis/08_PatientClassifier/scPoli/results/scPoli_VALIDATION_2_20_20*.h5ad'\n",
    "adataEXCpath = '03_downstream_analysis/08_PatientClassifier/scPoli/results/scPoli_EXCLUDED_2_100_20_run1_pd5nyb4g.h5ad'\n",
    "adataEXTpath = '03_downstream_analysis/08_PatientClassifier/scPoli/results/scPoli_EXTERNAL_2_100_20_run1_pd5nyb4g.h5ad'\n",
    "\n",
    "adataPATH = adataVALpath"
   ]
  },
  {
   "cell_type": "code",
   "execution_count": 2,
   "id": "d3ccb10a-7201-43d0-a593-2b4650ff3451",
   "metadata": {
    "execution": {
     "iopub.execute_input": "2024-06-30T20:58:57.732479Z",
     "iopub.status.busy": "2024-06-30T20:58:57.732029Z",
     "iopub.status.idle": "2024-06-30T20:58:57.735133Z",
     "shell.execute_reply": "2024-06-30T20:58:57.734742Z"
    },
    "papermill": {
     "duration": 0.009275,
     "end_time": "2024-06-30T20:58:57.735935",
     "exception": false,
     "start_time": "2024-06-30T20:58:57.726660",
     "status": "completed"
    },
    "tags": []
   },
   "outputs": [
    {
     "name": "stdout",
     "output_type": "stream",
     "text": [
      "adataPATH = 03_downstream_analysis/08_PatientClassifier/scPoli/results/scPoli_ref_latents_VALIDATION_2_20_20_run1_iqrndxcb.h5ad\n"
     ]
    }
   ],
   "source": [
    "for v in ['adataPATH']:\n",
    "    if v in locals() or v in globals():\n",
    "        print(f\"{v} = {eval(v)}\")\n",
    "    else:\n",
    "        raise Exception(f\"{v} not specified\")"
   ]
  },
  {
   "cell_type": "code",
   "execution_count": 3,
   "id": "888fb5f4-9ab7-4196-a282-7a7e92a43971",
   "metadata": {
    "execution": {
     "iopub.execute_input": "2024-06-30T20:58:57.746604Z",
     "iopub.status.busy": "2024-06-30T20:58:57.746295Z",
     "iopub.status.idle": "2024-06-30T20:58:59.147274Z",
     "shell.execute_reply": "2024-06-30T20:58:59.146762Z"
    },
    "papermill": {
     "duration": 1.40743,
     "end_time": "2024-06-30T20:58:59.148418",
     "exception": false,
     "start_time": "2024-06-30T20:58:57.740988",
     "status": "completed"
    },
    "tags": []
   },
   "outputs": [],
   "source": [
    "import os\n",
    "import sys\n",
    "from glob import glob\n",
    "\n",
    "import scanpy as sc\n",
    "import pandas as pd\n",
    "\n",
    "from pyprojroot import here\n",
    "\n",
    "sys.path.insert(1, str(here('bin')))\n",
    "# Import custom functions\n",
    "from customPythonFunctions import aggregating_features"
   ]
  },
  {
   "cell_type": "markdown",
   "id": "ba4905ae-4546-4ef4-b57b-950441ab079d",
   "metadata": {
    "papermill": {
     "duration": 0.004657,
     "end_time": "2024-06-30T20:58:59.158428",
     "exception": false,
     "start_time": "2024-06-30T20:58:59.153771",
     "status": "completed"
    },
    "tags": []
   },
   "source": [
    "### Loading data"
   ]
  },
  {
   "cell_type": "code",
   "execution_count": 4,
   "id": "539cbbbb-3503-4f51-bf04-f007f928ebd1",
   "metadata": {
    "execution": {
     "iopub.execute_input": "2024-06-30T20:58:59.169000Z",
     "iopub.status.busy": "2024-06-30T20:58:59.168504Z",
     "iopub.status.idle": "2024-06-30T20:58:59.172344Z",
     "shell.execute_reply": "2024-06-30T20:58:59.171956Z"
    },
    "papermill": {
     "duration": 0.01008,
     "end_time": "2024-06-30T20:58:59.173196",
     "exception": false,
     "start_time": "2024-06-30T20:58:59.163116",
     "status": "completed"
    },
    "tags": []
   },
   "outputs": [],
   "source": [
    "adataPATHlist = glob(str(here(adataPATH)))\n",
    "assert(len(adataPATHlist) == 1)"
   ]
  },
  {
   "cell_type": "code",
   "execution_count": 5,
   "id": "0fcfce0a-896b-4dc0-8e5e-46749205c84f",
   "metadata": {
    "execution": {
     "iopub.execute_input": "2024-06-30T20:58:59.187859Z",
     "iopub.status.busy": "2024-06-30T20:58:59.187628Z",
     "iopub.status.idle": "2024-06-30T20:59:05.976399Z",
     "shell.execute_reply": "2024-06-30T20:59:05.975948Z"
    },
    "papermill": {
     "duration": 6.795193,
     "end_time": "2024-06-30T20:59:05.977231",
     "exception": false,
     "start_time": "2024-06-30T20:58:59.182038",
     "status": "completed"
    },
    "tags": []
   },
   "outputs": [
    {
     "data": {
      "text/plain": [
       "AnnData object with n_obs × n_vars = 4435922 × 20\n",
       "    obs: 'studyID', 'libraryID', 'sampleID', 'chemistry', 'disease', 'sex', 'binned_age', 'Level1', 'Level2'\n",
       "    uns: 'chemistry', 'sampleID'"
      ]
     },
     "execution_count": 5,
     "metadata": {},
     "output_type": "execute_result"
    }
   ],
   "source": [
    "adata = sc.read_h5ad(adataPATHlist[0])\n",
    "adata"
   ]
  },
  {
   "cell_type": "markdown",
   "id": "44e868b3-0771-4225-bd79-a4b179bc672b",
   "metadata": {
    "papermill": {
     "duration": 0.004787,
     "end_time": "2024-06-30T20:59:05.987458",
     "exception": false,
     "start_time": "2024-06-30T20:59:05.982671",
     "status": "completed"
    },
    "tags": []
   },
   "source": [
    "#### Generating PSEUDOBULKs"
   ]
  },
  {
   "cell_type": "markdown",
   "id": "97d09fc5-d05c-471e-87fa-fe58ccbe47ac",
   "metadata": {
    "papermill": {
     "duration": 0.004766,
     "end_time": "2024-06-30T20:59:05.997075",
     "exception": false,
     "start_time": "2024-06-30T20:59:05.992309",
     "status": "completed"
    },
    "tags": []
   },
   "source": [
    "**Aggregating cell latent features**"
   ]
  },
  {
   "cell_type": "code",
   "execution_count": 6,
   "id": "81223976-fcf6-4354-8964-b12d76468636",
   "metadata": {
    "execution": {
     "iopub.execute_input": "2024-06-30T20:59:06.007470Z",
     "iopub.status.busy": "2024-06-30T20:59:06.007317Z",
     "iopub.status.idle": "2024-06-30T20:59:07.706020Z",
     "shell.execute_reply": "2024-06-30T20:59:07.705534Z"
    },
    "papermill": {
     "duration": 1.705036,
     "end_time": "2024-06-30T20:59:07.706847",
     "exception": false,
     "start_time": "2024-06-30T20:59:06.001811",
     "status": "completed"
    },
    "tags": []
   },
   "outputs": [
    {
     "data": {
      "text/plain": [
       "AnnData object with n_obs × n_vars = 11372 × 20\n",
       "    obs: 'sampleID', 'Level1', 'disease', 'n_observation'"
      ]
     },
     "execution_count": 6,
     "metadata": {},
     "output_type": "execute_result"
    }
   ],
   "source": [
    "adataPBcell = aggregating_features(Z = adata.X, \n",
    "                             obsDF = adata.obs[['sampleID','Level1','disease']], \n",
    "                             mode = 'mean', \n",
    "                             obs_names_col=['sampleID','Level1'], \n",
    "                             min_observation=0)\n",
    "adataPBcell"
   ]
  },
  {
   "cell_type": "code",
   "execution_count": null,
   "id": "8495038e-aebd-4003-bd94-c1e49f47249e",
   "metadata": {
    "papermill": {
     "duration": 0.004777,
     "end_time": "2024-06-30T20:59:07.716908",
     "exception": false,
     "start_time": "2024-06-30T20:59:07.712131",
     "status": "completed"
    },
    "tags": []
   },
   "outputs": [],
   "source": []
  },
  {
   "cell_type": "markdown",
   "id": "6d602bad-4793-4aa4-b3d7-d118d413a0fc",
   "metadata": {
    "papermill": {
     "duration": 0.004822,
     "end_time": "2024-06-30T20:59:07.727077",
     "exception": false,
     "start_time": "2024-06-30T20:59:07.722255",
     "status": "completed"
    },
    "tags": []
   },
   "source": [
    "**Extracting sample embedding**"
   ]
  },
  {
   "cell_type": "code",
   "execution_count": 7,
   "id": "e2c14f02",
   "metadata": {
    "execution": {
     "iopub.execute_input": "2024-06-30T20:59:07.738352Z",
     "iopub.status.busy": "2024-06-30T20:59:07.737883Z",
     "iopub.status.idle": "2024-06-30T20:59:07.748792Z",
     "shell.execute_reply": "2024-06-30T20:59:07.748414Z"
    },
    "papermill": {
     "duration": 0.017635,
     "end_time": "2024-06-30T20:59:07.749582",
     "exception": false,
     "start_time": "2024-06-30T20:59:07.731947",
     "status": "completed"
    },
    "tags": []
   },
   "outputs": [
    {
     "data": {
      "text/plain": [
       "AnnData object with n_obs × n_vars = 817 × 20\n",
       "    obs: 'sampleID', 'disease', 'Level1'"
      ]
     },
     "execution_count": 7,
     "metadata": {},
     "output_type": "execute_result"
    }
   ],
   "source": [
    "adataPBsample = adata.uns['sampleID'].copy()\n",
    "adataPBsample.obs['sampleID'] = adataPBsample.obs.index\n",
    "adataPBsample = adataPBsample[adataPBsample.obs['sampleID'].isin(adataPBcell.obs['sampleID'])]\n",
    "\n",
    "adataPBsample.obs = adataPBsample.obs.merge(adataPBcell.obs.groupby('sampleID').agg({'disease':'first'}), left_index=True, right_index=True)\n",
    "adataPBsample.obs['Level1'] = 'sample'\n",
    "adataPBsample"
   ]
  },
  {
   "cell_type": "markdown",
   "id": "2d4fe137-7d68-4e86-a85c-3c1a3d3c4c71",
   "metadata": {
    "papermill": {
     "duration": 0.00522,
     "end_time": "2024-06-30T20:59:07.760076",
     "exception": false,
     "start_time": "2024-06-30T20:59:07.754856",
     "status": "completed"
    },
    "tags": []
   },
   "source": [
    "**Merging cell and patient latent features**"
   ]
  },
  {
   "cell_type": "code",
   "execution_count": 8,
   "id": "a326d2b1",
   "metadata": {
    "execution": {
     "iopub.execute_input": "2024-06-30T20:59:07.770783Z",
     "iopub.status.busy": "2024-06-30T20:59:07.770491Z",
     "iopub.status.idle": "2024-06-30T20:59:07.772964Z",
     "shell.execute_reply": "2024-06-30T20:59:07.772582Z"
    },
    "papermill": {
     "duration": 0.008765,
     "end_time": "2024-06-30T20:59:07.773774",
     "exception": false,
     "start_time": "2024-06-30T20:59:07.765009",
     "status": "completed"
    },
    "tags": []
   },
   "outputs": [],
   "source": [
    "PBcellDF = adataPBcell.to_df()\n",
    "PBcellDF['sampleID'] = adataPBcell.obs['sampleID']"
   ]
  },
  {
   "cell_type": "code",
   "execution_count": 9,
   "id": "1a597f46-d9c5-403b-b81e-5738ca206682",
   "metadata": {
    "execution": {
     "iopub.execute_input": "2024-06-30T20:59:07.785161Z",
     "iopub.status.busy": "2024-06-30T20:59:07.784767Z",
     "iopub.status.idle": "2024-06-30T20:59:07.787332Z",
     "shell.execute_reply": "2024-06-30T20:59:07.786951Z"
    },
    "papermill": {
     "duration": 0.008914,
     "end_time": "2024-06-30T20:59:07.788092",
     "exception": false,
     "start_time": "2024-06-30T20:59:07.779178",
     "status": "completed"
    },
    "tags": []
   },
   "outputs": [],
   "source": [
    "PBsampleDF = adataPBsample.to_df()\n",
    "PBsampleDF['sampleID'] = adataPBsample.obs['sampleID']"
   ]
  },
  {
   "cell_type": "code",
   "execution_count": 10,
   "id": "bb384751-fe1b-4635-a90d-fd98ae61b173",
   "metadata": {
    "execution": {
     "iopub.execute_input": "2024-06-30T20:59:07.798856Z",
     "iopub.status.busy": "2024-06-30T20:59:07.798582Z",
     "iopub.status.idle": "2024-06-30T20:59:07.804183Z",
     "shell.execute_reply": "2024-06-30T20:59:07.803803Z"
    },
    "papermill": {
     "duration": 0.011805,
     "end_time": "2024-06-30T20:59:07.805016",
     "exception": false,
     "start_time": "2024-06-30T20:59:07.793211",
     "status": "completed"
    },
    "tags": []
   },
   "outputs": [],
   "source": [
    "PBcell_sampleDF = PBcellDF.merge(PBsampleDF, on='sampleID', how='left')"
   ]
  },
  {
   "cell_type": "code",
   "execution_count": 11,
   "id": "f7250713-e24d-4614-9cbd-eed702340640",
   "metadata": {
    "execution": {
     "iopub.execute_input": "2024-06-30T20:59:07.817892Z",
     "iopub.status.busy": "2024-06-30T20:59:07.817528Z",
     "iopub.status.idle": "2024-06-30T20:59:07.819974Z",
     "shell.execute_reply": "2024-06-30T20:59:07.819609Z"
    },
    "papermill": {
     "duration": 0.00886,
     "end_time": "2024-06-30T20:59:07.820745",
     "exception": false,
     "start_time": "2024-06-30T20:59:07.811885",
     "status": "completed"
    },
    "tags": []
   },
   "outputs": [],
   "source": [
    "assert(adataPBcell.obs['sampleID'].tolist() == PBcell_sampleDF['sampleID'].tolist())"
   ]
  },
  {
   "cell_type": "code",
   "execution_count": 12,
   "id": "abea2252-6a12-4b89-9f0d-6d6df90064fb",
   "metadata": {
    "execution": {
     "iopub.execute_input": "2024-06-30T20:59:07.832271Z",
     "iopub.status.busy": "2024-06-30T20:59:07.831952Z",
     "iopub.status.idle": "2024-06-30T20:59:07.834490Z",
     "shell.execute_reply": "2024-06-30T20:59:07.834183Z"
    },
    "papermill": {
     "duration": 0.009428,
     "end_time": "2024-06-30T20:59:07.835264",
     "exception": false,
     "start_time": "2024-06-30T20:59:07.825836",
     "status": "completed"
    },
    "tags": []
   },
   "outputs": [],
   "source": [
    "PBcell_sampleDF.drop('sampleID', axis=1, inplace=True)"
   ]
  },
  {
   "cell_type": "code",
   "execution_count": 13,
   "id": "5502e45d-5c72-4440-a8c1-5b299cac6e2d",
   "metadata": {
    "execution": {
     "iopub.execute_input": "2024-06-30T20:59:07.846041Z",
     "iopub.status.busy": "2024-06-30T20:59:07.845721Z",
     "iopub.status.idle": "2024-06-30T20:59:07.849240Z",
     "shell.execute_reply": "2024-06-30T20:59:07.848941Z"
    },
    "papermill": {
     "duration": 0.009602,
     "end_time": "2024-06-30T20:59:07.849991",
     "exception": false,
     "start_time": "2024-06-30T20:59:07.840389",
     "status": "completed"
    },
    "tags": []
   },
   "outputs": [
    {
     "data": {
      "text/plain": [
       "AnnData object with n_obs × n_vars = 11372 × 40\n",
       "    obs: 'sampleID', 'Level1', 'disease', 'n_observation'"
      ]
     },
     "execution_count": 13,
     "metadata": {},
     "output_type": "execute_result"
    }
   ],
   "source": [
    "adataPBcell_sample = sc.AnnData(X = PBcell_sampleDF, obs = adataPBcell.obs)\n",
    "adataPBcell_sample"
   ]
  },
  {
   "cell_type": "markdown",
   "id": "d59574be-684b-4082-b8b6-7d11930362ad",
   "metadata": {
    "papermill": {
     "duration": 0.005237,
     "end_time": "2024-06-30T20:59:07.860693",
     "exception": false,
     "start_time": "2024-06-30T20:59:07.855456",
     "status": "completed"
    },
    "tags": []
   },
   "source": [
    "### Saving pseudobulk adata objects"
   ]
  },
  {
   "cell_type": "code",
   "execution_count": 14,
   "id": "5947e6f8-ac27-4702-ba5d-aa9e1ba79f6a",
   "metadata": {
    "execution": {
     "iopub.execute_input": "2024-06-30T20:59:07.871976Z",
     "iopub.status.busy": "2024-06-30T20:59:07.871530Z",
     "iopub.status.idle": "2024-06-30T20:59:07.947698Z",
     "shell.execute_reply": "2024-06-30T20:59:07.947338Z"
    },
    "papermill": {
     "duration": 0.082924,
     "end_time": "2024-06-30T20:59:07.948795",
     "exception": false,
     "start_time": "2024-06-30T20:59:07.865871",
     "status": "completed"
    },
    "tags": []
   },
   "outputs": [],
   "source": [
    "adataPBcell.write(here(adataPATHlist[0].replace('/scPoli_','/PSEUDOBULKs/scPoli_PSEUDOBULKcell_')), compression='gzip')"
   ]
  },
  {
   "cell_type": "code",
   "execution_count": 15,
   "id": "e9485945-bccf-419a-9420-c1e4f3aa262d",
   "metadata": {
    "execution": {
     "iopub.execute_input": "2024-06-30T20:59:07.961010Z",
     "iopub.status.busy": "2024-06-30T20:59:07.960721Z",
     "iopub.status.idle": "2024-06-30T20:59:07.983008Z",
     "shell.execute_reply": "2024-06-30T20:59:07.982701Z"
    },
    "papermill": {
     "duration": 0.028762,
     "end_time": "2024-06-30T20:59:07.983834",
     "exception": false,
     "start_time": "2024-06-30T20:59:07.955072",
     "status": "completed"
    },
    "tags": []
   },
   "outputs": [],
   "source": [
    "adataPBsample.write(here(adataPATHlist[0].replace('/scPoli_','/PSEUDOBULKs/scPoli_PSEUDOBULKsample_')), compression='gzip')"
   ]
  },
  {
   "cell_type": "code",
   "execution_count": 16,
   "id": "9c2daa40-3279-4b24-8aad-65ee0ba758c8",
   "metadata": {
    "execution": {
     "iopub.execute_input": "2024-06-30T20:59:07.995265Z",
     "iopub.status.busy": "2024-06-30T20:59:07.994877Z",
     "iopub.status.idle": "2024-06-30T20:59:08.072594Z",
     "shell.execute_reply": "2024-06-30T20:59:08.072211Z"
    },
    "papermill": {
     "duration": 0.084437,
     "end_time": "2024-06-30T20:59:08.073718",
     "exception": false,
     "start_time": "2024-06-30T20:59:07.989281",
     "status": "completed"
    },
    "tags": []
   },
   "outputs": [],
   "source": [
    "adataPBcell_sample.write(here(adataPATHlist[0].replace('/scPoli_','/PSEUDOBULKs/scPoli_PSEUDOBULKcellSample_')), compression='gzip')"
   ]
  },
  {
   "cell_type": "code",
   "execution_count": null,
   "id": "8a70d9f6-7a44-45ee-8470-702bd7af1e0b",
   "metadata": {
    "papermill": {
     "duration": 0.005154,
     "end_time": "2024-06-30T20:59:08.084759",
     "exception": false,
     "start_time": "2024-06-30T20:59:08.079605",
     "status": "completed"
    },
    "tags": []
   },
   "outputs": [],
   "source": []
  }
 ],
 "metadata": {
  "kernelspec": {
   "display_name": "Python 3 (ipykernel)",
   "language": "python",
   "name": "python3"
  },
  "language_info": {
   "codemirror_mode": {
    "name": "ipython",
    "version": 3
   },
   "file_extension": ".py",
   "mimetype": "text/x-python",
   "name": "python",
   "nbconvert_exporter": "python",
   "pygments_lexer": "ipython3",
   "version": "3.12.3"
  },
  "papermill": {
   "default_parameters": {},
   "duration": 12.152571,
   "end_time": "2024-06-30T20:59:08.704835",
   "environment_variables": {},
   "exception": null,
   "input_path": "03_generating_PSEUDOBULKs.ipynb",
   "output_path": "executed_notebooks/03_generating_PSEUDOBULKs_scPoli_ref_latents_VALIDATION_2_20_20_run1_iqrndxcb.h5ad.ipynb",
   "parameters": {
    "adataPATH": "03_downstream_analysis/08_PatientClassifier/scPoli/results/scPoli_ref_latents_VALIDATION_2_20_20_run1_iqrndxcb.h5ad"
   },
   "start_time": "2024-06-30T20:58:56.552264",
   "version": "2.6.0"
  }
 },
 "nbformat": 4,
 "nbformat_minor": 5
}