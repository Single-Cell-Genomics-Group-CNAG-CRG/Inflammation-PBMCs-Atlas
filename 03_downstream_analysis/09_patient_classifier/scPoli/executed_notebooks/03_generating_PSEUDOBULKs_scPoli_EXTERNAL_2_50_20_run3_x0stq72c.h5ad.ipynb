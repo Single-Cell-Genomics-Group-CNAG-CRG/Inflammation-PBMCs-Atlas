{
 "cells": [
  {
   "cell_type": "code",
   "execution_count": 1,
   "id": "61d9ac49",
   "metadata": {
    "execution": {
     "iopub.execute_input": "2024-06-30T21:00:25.763066Z",
     "iopub.status.busy": "2024-06-30T21:00:25.762786Z",
     "iopub.status.idle": "2024-06-30T21:00:25.765286Z",
     "shell.execute_reply": "2024-06-30T21:00:25.764923Z"
    },
    "papermill": {
     "duration": 0.023428,
     "end_time": "2024-06-30T21:00:25.766125",
     "exception": false,
     "start_time": "2024-06-30T21:00:25.742697",
     "status": "completed"
    },
    "tags": [
     "injected-parameters"
    ]
   },
   "outputs": [],
   "source": [
    "# Parameters\n",
    "adataPATH = \"03_downstream_analysis/08_PatientClassifier/scPoli/results/scPoli_EXTERNAL_2_50_20_run3_x0stq72c.h5ad\"\n"
   ]
  },
  {
   "cell_type": "raw",
   "id": "bf9880bd-3aef-477b-807d-37e3c5603037",
   "metadata": {
    "execution": {
     "iopub.execute_input": "2024-06-29T08:23:25.403219Z",
     "iopub.status.busy": "2024-06-29T08:23:25.402857Z",
     "iopub.status.idle": "2024-06-29T08:23:25.406428Z",
     "shell.execute_reply": "2024-06-29T08:23:25.406014Z",
     "shell.execute_reply.started": "2024-06-29T08:23:25.403185Z"
    },
    "papermill": {
     "duration": 0.005092,
     "end_time": "2024-06-30T21:00:25.776424",
     "exception": false,
     "start_time": "2024-06-30T21:00:25.771332",
     "status": "completed"
    },
    "tags": [],
    "vscode": {
     "languageId": "raw"
    }
   },
   "source": [
    "adataMAINpath = '03_downstream_analysis/08_PatientClassifier/scPoli/results/scPoli_2_100_20_*.h5ad'\n",
    "\n",
    "adataVALpath = '03_downstream_analysis/08_PatientClassifier/scPoli/results/scPoli_VALIDATION_2_20_20*.h5ad'\n",
    "adataEXCpath = '03_downstream_analysis/08_PatientClassifier/scPoli/results/scPoli_EXCLUDED_2_100_20_run1_pd5nyb4g.h5ad'\n",
    "adataEXTpath = '03_downstream_analysis/08_PatientClassifier/scPoli/results/scPoli_EXTERNAL_2_100_20_run1_pd5nyb4g.h5ad'\n",
    "\n",
    "adataPATH = adataVALpath"
   ]
  },
  {
   "cell_type": "code",
   "execution_count": 2,
   "id": "d3ccb10a-7201-43d0-a593-2b4650ff3451",
   "metadata": {
    "execution": {
     "iopub.execute_input": "2024-06-30T21:00:25.787366Z",
     "iopub.status.busy": "2024-06-30T21:00:25.786990Z",
     "iopub.status.idle": "2024-06-30T21:00:25.790059Z",
     "shell.execute_reply": "2024-06-30T21:00:25.789676Z"
    },
    "papermill": {
     "duration": 0.009268,
     "end_time": "2024-06-30T21:00:25.790845",
     "exception": false,
     "start_time": "2024-06-30T21:00:25.781577",
     "status": "completed"
    },
    "tags": []
   },
   "outputs": [
    {
     "name": "stdout",
     "output_type": "stream",
     "text": [
      "adataPATH = 03_downstream_analysis/08_PatientClassifier/scPoli/results/scPoli_EXTERNAL_2_50_20_run3_x0stq72c.h5ad\n"
     ]
    }
   ],
   "source": [
    "for v in ['adataPATH']:\n",
    "    if v in locals() or v in globals():\n",
    "        print(f\"{v} = {eval(v)}\")\n",
    "    else:\n",
    "        raise Exception(f\"{v} not specified\")"
   ]
  },
  {
   "cell_type": "code",
   "execution_count": 3,
   "id": "888fb5f4-9ab7-4196-a282-7a7e92a43971",
   "metadata": {
    "execution": {
     "iopub.execute_input": "2024-06-30T21:00:25.801579Z",
     "iopub.status.busy": "2024-06-30T21:00:25.801444Z",
     "iopub.status.idle": "2024-06-30T21:00:27.301442Z",
     "shell.execute_reply": "2024-06-30T21:00:27.300961Z"
    },
    "papermill": {
     "duration": 1.506955,
     "end_time": "2024-06-30T21:00:27.302847",
     "exception": false,
     "start_time": "2024-06-30T21:00:25.795892",
     "status": "completed"
    },
    "tags": []
   },
   "outputs": [],
   "source": [
    "import os\n",
    "import sys\n",
    "from glob import glob\n",
    "\n",
    "import scanpy as sc\n",
    "import pandas as pd\n",
    "\n",
    "from pyprojroot import here\n",
    "\n",
    "sys.path.insert(1, str(here('bin')))\n",
    "# Import custom functions\n",
    "from customPythonFunctions import aggregating_features"
   ]
  },
  {
   "cell_type": "markdown",
   "id": "ba4905ae-4546-4ef4-b57b-950441ab079d",
   "metadata": {
    "papermill": {
     "duration": 0.005016,
     "end_time": "2024-06-30T21:00:27.313377",
     "exception": false,
     "start_time": "2024-06-30T21:00:27.308361",
     "status": "completed"
    },
    "tags": []
   },
   "source": [
    "### Loading data"
   ]
  },
  {
   "cell_type": "code",
   "execution_count": 4,
   "id": "539cbbbb-3503-4f51-bf04-f007f928ebd1",
   "metadata": {
    "execution": {
     "iopub.execute_input": "2024-06-30T21:00:27.325020Z",
     "iopub.status.busy": "2024-06-30T21:00:27.324424Z",
     "iopub.status.idle": "2024-06-30T21:00:27.328289Z",
     "shell.execute_reply": "2024-06-30T21:00:27.327913Z"
    },
    "papermill": {
     "duration": 0.01042,
     "end_time": "2024-06-30T21:00:27.329044",
     "exception": false,
     "start_time": "2024-06-30T21:00:27.318624",
     "status": "completed"
    },
    "tags": []
   },
   "outputs": [],
   "source": [
    "adataPATHlist = glob(str(here(adataPATH)))\n",
    "assert(len(adataPATHlist) == 1)"
   ]
  },
  {
   "cell_type": "code",
   "execution_count": 5,
   "id": "0fcfce0a-896b-4dc0-8e5e-46749205c84f",
   "metadata": {
    "execution": {
     "iopub.execute_input": "2024-06-30T21:00:27.340164Z",
     "iopub.status.busy": "2024-06-30T21:00:27.340026Z",
     "iopub.status.idle": "2024-06-30T21:00:28.547437Z",
     "shell.execute_reply": "2024-06-30T21:00:28.546988Z"
    },
    "papermill": {
     "duration": 1.213862,
     "end_time": "2024-06-30T21:00:28.548364",
     "exception": false,
     "start_time": "2024-06-30T21:00:27.334502",
     "status": "completed"
    },
    "tags": []
   },
   "outputs": [
    {
     "data": {
      "text/plain": [
       "AnnData object with n_obs × n_vars = 572872 × 50\n",
       "    obs: 'studyID', 'libraryID', 'sampleID', 'chemistry', 'technology', 'disease', 'sex', 'binned_age', 'Level1', 'Level2', 'conditions_combined', 'Level1_unc', 'Level2_unc'\n",
       "    uns: 'chemistry', 'sampleID'"
      ]
     },
     "execution_count": 5,
     "metadata": {},
     "output_type": "execute_result"
    }
   ],
   "source": [
    "adata = sc.read_h5ad(adataPATHlist[0])\n",
    "adata"
   ]
  },
  {
   "cell_type": "markdown",
   "id": "44e868b3-0771-4225-bd79-a4b179bc672b",
   "metadata": {
    "papermill": {
     "duration": 0.005079,
     "end_time": "2024-06-30T21:00:28.560955",
     "exception": false,
     "start_time": "2024-06-30T21:00:28.555876",
     "status": "completed"
    },
    "tags": []
   },
   "source": [
    "#### Generating PSEUDOBULKs"
   ]
  },
  {
   "cell_type": "markdown",
   "id": "97d09fc5-d05c-471e-87fa-fe58ccbe47ac",
   "metadata": {
    "papermill": {
     "duration": 0.007487,
     "end_time": "2024-06-30T21:00:28.573972",
     "exception": false,
     "start_time": "2024-06-30T21:00:28.566485",
     "status": "completed"
    },
    "tags": []
   },
   "source": [
    "**Aggregating cell latent features**"
   ]
  },
  {
   "cell_type": "code",
   "execution_count": 6,
   "id": "81223976-fcf6-4354-8964-b12d76468636",
   "metadata": {
    "execution": {
     "iopub.execute_input": "2024-06-30T21:00:28.584802Z",
     "iopub.status.busy": "2024-06-30T21:00:28.584653Z",
     "iopub.status.idle": "2024-06-30T21:00:28.855968Z",
     "shell.execute_reply": "2024-06-30T21:00:28.855529Z"
    },
    "papermill": {
     "duration": 0.277723,
     "end_time": "2024-06-30T21:00:28.856779",
     "exception": false,
     "start_time": "2024-06-30T21:00:28.579056",
     "status": "completed"
    },
    "tags": []
   },
   "outputs": [
    {
     "data": {
      "text/plain": [
       "AnnData object with n_obs × n_vars = 1269 × 50\n",
       "    obs: 'sampleID', 'Level1', 'disease', 'n_observation'"
      ]
     },
     "execution_count": 6,
     "metadata": {},
     "output_type": "execute_result"
    }
   ],
   "source": [
    "adataPBcell = aggregating_features(Z = adata.X, \n",
    "                             obsDF = adata.obs[['sampleID','Level1','disease']], \n",
    "                             mode = 'mean', \n",
    "                             obs_names_col=['sampleID','Level1'], \n",
    "                             min_observation=0)\n",
    "adataPBcell"
   ]
  },
  {
   "cell_type": "code",
   "execution_count": null,
   "id": "8495038e-aebd-4003-bd94-c1e49f47249e",
   "metadata": {
    "papermill": {
     "duration": 0.005208,
     "end_time": "2024-06-30T21:00:28.867679",
     "exception": false,
     "start_time": "2024-06-30T21:00:28.862471",
     "status": "completed"
    },
    "tags": []
   },
   "outputs": [],
   "source": []
  },
  {
   "cell_type": "markdown",
   "id": "6d602bad-4793-4aa4-b3d7-d118d413a0fc",
   "metadata": {
    "papermill": {
     "duration": 0.005168,
     "end_time": "2024-06-30T21:00:28.878574",
     "exception": false,
     "start_time": "2024-06-30T21:00:28.873406",
     "status": "completed"
    },
    "tags": []
   },
   "source": [
    "**Extracting sample embedding**"
   ]
  },
  {
   "cell_type": "code",
   "execution_count": 7,
   "id": "e2c14f02",
   "metadata": {
    "execution": {
     "iopub.execute_input": "2024-06-30T21:00:28.890093Z",
     "iopub.status.busy": "2024-06-30T21:00:28.889804Z",
     "iopub.status.idle": "2024-06-30T21:00:28.897643Z",
     "shell.execute_reply": "2024-06-30T21:00:28.897291Z"
    },
    "papermill": {
     "duration": 0.014902,
     "end_time": "2024-06-30T21:00:28.898465",
     "exception": false,
     "start_time": "2024-06-30T21:00:28.883563",
     "status": "completed"
    },
    "tags": []
   },
   "outputs": [
    {
     "data": {
      "text/plain": [
       "AnnData object with n_obs × n_vars = 86 × 20\n",
       "    obs: 'sampleID', 'disease', 'Level1'"
      ]
     },
     "execution_count": 7,
     "metadata": {},
     "output_type": "execute_result"
    }
   ],
   "source": [
    "adataPBsample = adata.uns['sampleID'].copy()\n",
    "adataPBsample.obs['sampleID'] = adataPBsample.obs.index\n",
    "adataPBsample = adataPBsample[adataPBsample.obs['sampleID'].isin(adataPBcell.obs['sampleID'])]\n",
    "\n",
    "adataPBsample.obs = adataPBsample.obs.merge(adataPBcell.obs.groupby('sampleID').agg({'disease':'first'}), left_index=True, right_index=True)\n",
    "adataPBsample.obs['Level1'] = 'sample'\n",
    "adataPBsample"
   ]
  },
  {
   "cell_type": "markdown",
   "id": "2d4fe137-7d68-4e86-a85c-3c1a3d3c4c71",
   "metadata": {
    "papermill": {
     "duration": 0.005396,
     "end_time": "2024-06-30T21:00:28.909220",
     "exception": false,
     "start_time": "2024-06-30T21:00:28.903824",
     "status": "completed"
    },
    "tags": []
   },
   "source": [
    "**Merging cell and patient latent features**"
   ]
  },
  {
   "cell_type": "code",
   "execution_count": 8,
   "id": "a326d2b1",
   "metadata": {
    "execution": {
     "iopub.execute_input": "2024-06-30T21:00:28.921010Z",
     "iopub.status.busy": "2024-06-30T21:00:28.920739Z",
     "iopub.status.idle": "2024-06-30T21:00:28.923084Z",
     "shell.execute_reply": "2024-06-30T21:00:28.922725Z"
    },
    "papermill": {
     "duration": 0.009075,
     "end_time": "2024-06-30T21:00:28.923897",
     "exception": false,
     "start_time": "2024-06-30T21:00:28.914822",
     "status": "completed"
    },
    "tags": []
   },
   "outputs": [],
   "source": [
    "PBcellDF = adataPBcell.to_df()\n",
    "PBcellDF['sampleID'] = adataPBcell.obs['sampleID']"
   ]
  },
  {
   "cell_type": "code",
   "execution_count": 9,
   "id": "1a597f46-d9c5-403b-b81e-5738ca206682",
   "metadata": {
    "execution": {
     "iopub.execute_input": "2024-06-30T21:00:28.935342Z",
     "iopub.status.busy": "2024-06-30T21:00:28.935191Z",
     "iopub.status.idle": "2024-06-30T21:00:28.937579Z",
     "shell.execute_reply": "2024-06-30T21:00:28.937205Z"
    },
    "papermill": {
     "duration": 0.008854,
     "end_time": "2024-06-30T21:00:28.938371",
     "exception": false,
     "start_time": "2024-06-30T21:00:28.929517",
     "status": "completed"
    },
    "tags": []
   },
   "outputs": [],
   "source": [
    "PBsampleDF = adataPBsample.to_df()\n",
    "PBsampleDF['sampleID'] = adataPBsample.obs['sampleID']"
   ]
  },
  {
   "cell_type": "code",
   "execution_count": 10,
   "id": "bb384751-fe1b-4635-a90d-fd98ae61b173",
   "metadata": {
    "execution": {
     "iopub.execute_input": "2024-06-30T21:00:28.949966Z",
     "iopub.status.busy": "2024-06-30T21:00:28.949627Z",
     "iopub.status.idle": "2024-06-30T21:00:28.953565Z",
     "shell.execute_reply": "2024-06-30T21:00:28.953195Z"
    },
    "papermill": {
     "duration": 0.010508,
     "end_time": "2024-06-30T21:00:28.954318",
     "exception": false,
     "start_time": "2024-06-30T21:00:28.943810",
     "status": "completed"
    },
    "tags": []
   },
   "outputs": [],
   "source": [
    "PBcell_sampleDF = PBcellDF.merge(PBsampleDF, on='sampleID', how='left')"
   ]
  },
  {
   "cell_type": "code",
   "execution_count": 11,
   "id": "f7250713-e24d-4614-9cbd-eed702340640",
   "metadata": {
    "execution": {
     "iopub.execute_input": "2024-06-30T21:00:28.966052Z",
     "iopub.status.busy": "2024-06-30T21:00:28.965771Z",
     "iopub.status.idle": "2024-06-30T21:00:28.968006Z",
     "shell.execute_reply": "2024-06-30T21:00:28.967655Z"
    },
    "papermill": {
     "duration": 0.00894,
     "end_time": "2024-06-30T21:00:28.968753",
     "exception": false,
     "start_time": "2024-06-30T21:00:28.959813",
     "status": "completed"
    },
    "tags": []
   },
   "outputs": [],
   "source": [
    "assert(adataPBcell.obs['sampleID'].tolist() == PBcell_sampleDF['sampleID'].tolist())"
   ]
  },
  {
   "cell_type": "code",
   "execution_count": 12,
   "id": "abea2252-6a12-4b89-9f0d-6d6df90064fb",
   "metadata": {
    "execution": {
     "iopub.execute_input": "2024-06-30T21:00:28.981059Z",
     "iopub.status.busy": "2024-06-30T21:00:28.980727Z",
     "iopub.status.idle": "2024-06-30T21:00:28.983173Z",
     "shell.execute_reply": "2024-06-30T21:00:28.982825Z"
    },
    "papermill": {
     "duration": 0.009011,
     "end_time": "2024-06-30T21:00:28.983972",
     "exception": false,
     "start_time": "2024-06-30T21:00:28.974961",
     "status": "completed"
    },
    "tags": []
   },
   "outputs": [],
   "source": [
    "PBcell_sampleDF.drop('sampleID', axis=1, inplace=True)"
   ]
  },
  {
   "cell_type": "code",
   "execution_count": 13,
   "id": "5502e45d-5c72-4440-a8c1-5b299cac6e2d",
   "metadata": {
    "execution": {
     "iopub.execute_input": "2024-06-30T21:00:28.995989Z",
     "iopub.status.busy": "2024-06-30T21:00:28.995710Z",
     "iopub.status.idle": "2024-06-30T21:00:28.999114Z",
     "shell.execute_reply": "2024-06-30T21:00:28.998768Z"
    },
    "papermill": {
     "duration": 0.010472,
     "end_time": "2024-06-30T21:00:28.999896",
     "exception": false,
     "start_time": "2024-06-30T21:00:28.989424",
     "status": "completed"
    },
    "tags": []
   },
   "outputs": [
    {
     "data": {
      "text/plain": [
       "AnnData object with n_obs × n_vars = 1269 × 70\n",
       "    obs: 'sampleID', 'Level1', 'disease', 'n_observation'"
      ]
     },
     "execution_count": 13,
     "metadata": {},
     "output_type": "execute_result"
    }
   ],
   "source": [
    "adataPBcell_sample = sc.AnnData(X = PBcell_sampleDF, obs = adataPBcell.obs)\n",
    "adataPBcell_sample"
   ]
  },
  {
   "cell_type": "markdown",
   "id": "d59574be-684b-4082-b8b6-7d11930362ad",
   "metadata": {
    "papermill": {
     "duration": 0.005686,
     "end_time": "2024-06-30T21:00:29.011126",
     "exception": false,
     "start_time": "2024-06-30T21:00:29.005440",
     "status": "completed"
    },
    "tags": []
   },
   "source": [
    "### Saving pseudobulk adata objects"
   ]
  },
  {
   "cell_type": "code",
   "execution_count": 14,
   "id": "5947e6f8-ac27-4702-ba5d-aa9e1ba79f6a",
   "metadata": {
    "execution": {
     "iopub.execute_input": "2024-06-30T21:00:29.023015Z",
     "iopub.status.busy": "2024-06-30T21:00:29.022879Z",
     "iopub.status.idle": "2024-06-30T21:00:29.054621Z",
     "shell.execute_reply": "2024-06-30T21:00:29.054212Z"
    },
    "papermill": {
     "duration": 0.038606,
     "end_time": "2024-06-30T21:00:29.055432",
     "exception": false,
     "start_time": "2024-06-30T21:00:29.016826",
     "status": "completed"
    },
    "tags": []
   },
   "outputs": [],
   "source": [
    "adataPBcell.write(here(adataPATHlist[0].replace('/scPoli_','/PSEUDOBULKs/scPoli_PSEUDOBULKcell_')), compression='gzip')"
   ]
  },
  {
   "cell_type": "code",
   "execution_count": 15,
   "id": "e9485945-bccf-419a-9420-c1e4f3aa262d",
   "metadata": {
    "execution": {
     "iopub.execute_input": "2024-06-30T21:00:29.067516Z",
     "iopub.status.busy": "2024-06-30T21:00:29.067257Z",
     "iopub.status.idle": "2024-06-30T21:00:29.086655Z",
     "shell.execute_reply": "2024-06-30T21:00:29.086296Z"
    },
    "papermill": {
     "duration": 0.026455,
     "end_time": "2024-06-30T21:00:29.087471",
     "exception": false,
     "start_time": "2024-06-30T21:00:29.061016",
     "status": "completed"
    },
    "tags": []
   },
   "outputs": [],
   "source": [
    "adataPBsample.write(here(adataPATHlist[0].replace('/scPoli_','/PSEUDOBULKs/scPoli_PSEUDOBULKsample_')), compression='gzip')"
   ]
  },
  {
   "cell_type": "code",
   "execution_count": 16,
   "id": "9c2daa40-3279-4b24-8aad-65ee0ba758c8",
   "metadata": {
    "execution": {
     "iopub.execute_input": "2024-06-30T21:00:29.100535Z",
     "iopub.status.busy": "2024-06-30T21:00:29.100090Z",
     "iopub.status.idle": "2024-06-30T21:00:29.131930Z",
     "shell.execute_reply": "2024-06-30T21:00:29.131550Z"
    },
    "papermill": {
     "duration": 0.039299,
     "end_time": "2024-06-30T21:00:29.132740",
     "exception": false,
     "start_time": "2024-06-30T21:00:29.093441",
     "status": "completed"
    },
    "tags": []
   },
   "outputs": [],
   "source": [
    "adataPBcell_sample.write(here(adataPATHlist[0].replace('/scPoli_','/PSEUDOBULKs/scPoli_PSEUDOBULKcellSample_')), compression='gzip')"
   ]
  },
  {
   "cell_type": "code",
   "execution_count": null,
   "id": "8a70d9f6-7a44-45ee-8470-702bd7af1e0b",
   "metadata": {
    "papermill": {
     "duration": 0.005574,
     "end_time": "2024-06-30T21:00:29.143968",
     "exception": false,
     "start_time": "2024-06-30T21:00:29.138394",
     "status": "completed"
    },
    "tags": []
   },
   "outputs": [],
   "source": []
  }
 ],
 "metadata": {
  "kernelspec": {
   "display_name": "Python 3 (ipykernel)",
   "language": "python",
   "name": "python3"
  },
  "language_info": {
   "codemirror_mode": {
    "name": "ipython",
    "version": 3
   },
   "file_extension": ".py",
   "mimetype": "text/x-python",
   "name": "python",
   "nbconvert_exporter": "python",
   "pygments_lexer": "ipython3",
   "version": "3.12.3"
  },
  "papermill": {
   "default_parameters": {},
   "duration": 5.090874,
   "end_time": "2024-06-30T21:00:29.665233",
   "environment_variables": {},
   "exception": null,
   "input_path": "03_generating_PSEUDOBULKs.ipynb",
   "output_path": "executed_notebooks/03_generating_PSEUDOBULKs_scPoli_EXTERNAL_2_50_20_run3_x0stq72c.h5ad.ipynb",
   "parameters": {
    "adataPATH": "03_downstream_analysis/08_PatientClassifier/scPoli/results/scPoli_EXTERNAL_2_50_20_run3_x0stq72c.h5ad"
   },
   "start_time": "2024-06-30T21:00:24.574359",
   "version": "2.6.0"
  }
 },
 "nbformat": 4,
 "nbformat_minor": 5
}