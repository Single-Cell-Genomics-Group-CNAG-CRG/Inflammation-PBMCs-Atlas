{
 "cells": [
  {
   "cell_type": "code",
   "execution_count": 1,
   "id": "22f20b57",
   "metadata": {
    "execution": {
     "iopub.execute_input": "2024-06-30T20:58:19.402175Z",
     "iopub.status.busy": "2024-06-30T20:58:19.401869Z",
     "iopub.status.idle": "2024-06-30T20:58:19.404305Z",
     "shell.execute_reply": "2024-06-30T20:58:19.403957Z"
    },
    "papermill": {
     "duration": 0.011549,
     "end_time": "2024-06-30T20:58:19.405129",
     "exception": false,
     "start_time": "2024-06-30T20:58:19.393580",
     "status": "completed"
    },
    "tags": [
     "injected-parameters"
    ]
   },
   "outputs": [],
   "source": [
    "# Parameters\n",
    "adataPATH = \"03_downstream_analysis/08_PatientClassifier/scPoli/results/scPoli_VALIDATION_2_30_20_run3_0vvgu480.h5ad\"\n"
   ]
  },
  {
   "cell_type": "raw",
   "id": "bf9880bd-3aef-477b-807d-37e3c5603037",
   "metadata": {
    "execution": {
     "iopub.execute_input": "2024-06-29T08:23:25.403219Z",
     "iopub.status.busy": "2024-06-29T08:23:25.402857Z",
     "iopub.status.idle": "2024-06-29T08:23:25.406428Z",
     "shell.execute_reply": "2024-06-29T08:23:25.406014Z",
     "shell.execute_reply.started": "2024-06-29T08:23:25.403185Z"
    },
    "papermill": {
     "duration": 0.004987,
     "end_time": "2024-06-30T20:58:19.418060",
     "exception": false,
     "start_time": "2024-06-30T20:58:19.413073",
     "status": "completed"
    },
    "tags": [],
    "vscode": {
     "languageId": "raw"
    }
   },
   "source": [
    "adataMAINpath = '03_downstream_analysis/08_PatientClassifier/scPoli/results/scPoli_2_100_20_*.h5ad'\n",
    "\n",
    "adataVALpath = '03_downstream_analysis/08_PatientClassifier/scPoli/results/scPoli_VALIDATION_2_20_20*.h5ad'\n",
    "adataEXCpath = '03_downstream_analysis/08_PatientClassifier/scPoli/results/scPoli_EXCLUDED_2_100_20_run1_pd5nyb4g.h5ad'\n",
    "adataEXTpath = '03_downstream_analysis/08_PatientClassifier/scPoli/results/scPoli_EXTERNAL_2_100_20_run1_pd5nyb4g.h5ad'\n",
    "\n",
    "adataPATH = adataVALpath"
   ]
  },
  {
   "cell_type": "code",
   "execution_count": 2,
   "id": "d3ccb10a-7201-43d0-a593-2b4650ff3451",
   "metadata": {
    "execution": {
     "iopub.execute_input": "2024-06-30T20:58:19.428607Z",
     "iopub.status.busy": "2024-06-30T20:58:19.428357Z",
     "iopub.status.idle": "2024-06-30T20:58:19.431133Z",
     "shell.execute_reply": "2024-06-30T20:58:19.430781Z"
    },
    "papermill": {
     "duration": 0.008882,
     "end_time": "2024-06-30T20:58:19.431910",
     "exception": false,
     "start_time": "2024-06-30T20:58:19.423028",
     "status": "completed"
    },
    "tags": []
   },
   "outputs": [
    {
     "name": "stdout",
     "output_type": "stream",
     "text": [
      "adataPATH = 03_downstream_analysis/08_PatientClassifier/scPoli/results/scPoli_VALIDATION_2_30_20_run3_0vvgu480.h5ad\n"
     ]
    }
   ],
   "source": [
    "for v in ['adataPATH']:\n",
    "    if v in locals() or v in globals():\n",
    "        print(f\"{v} = {eval(v)}\")\n",
    "    else:\n",
    "        raise Exception(f\"{v} not specified\")"
   ]
  },
  {
   "cell_type": "code",
   "execution_count": 3,
   "id": "888fb5f4-9ab7-4196-a282-7a7e92a43971",
   "metadata": {
    "execution": {
     "iopub.execute_input": "2024-06-30T20:58:19.442726Z",
     "iopub.status.busy": "2024-06-30T20:58:19.442437Z",
     "iopub.status.idle": "2024-06-30T20:58:20.929184Z",
     "shell.execute_reply": "2024-06-30T20:58:20.928710Z"
    },
    "papermill": {
     "duration": 1.493027,
     "end_time": "2024-06-30T20:58:20.930039",
     "exception": false,
     "start_time": "2024-06-30T20:58:19.437012",
     "status": "completed"
    },
    "tags": []
   },
   "outputs": [],
   "source": [
    "import os\n",
    "import sys\n",
    "from glob import glob\n",
    "\n",
    "import scanpy as sc\n",
    "import pandas as pd\n",
    "\n",
    "from pyprojroot import here\n",
    "\n",
    "sys.path.insert(1, str(here('bin')))\n",
    "# Import custom functions\n",
    "from customPythonFunctions import aggregating_features"
   ]
  },
  {
   "cell_type": "markdown",
   "id": "ba4905ae-4546-4ef4-b57b-950441ab079d",
   "metadata": {
    "papermill": {
     "duration": 0.005211,
     "end_time": "2024-06-30T20:58:20.940428",
     "exception": false,
     "start_time": "2024-06-30T20:58:20.935217",
     "status": "completed"
    },
    "tags": []
   },
   "source": [
    "### Loading data"
   ]
  },
  {
   "cell_type": "code",
   "execution_count": 4,
   "id": "539cbbbb-3503-4f51-bf04-f007f928ebd1",
   "metadata": {
    "execution": {
     "iopub.execute_input": "2024-06-30T20:58:20.952373Z",
     "iopub.status.busy": "2024-06-30T20:58:20.951860Z",
     "iopub.status.idle": "2024-06-30T20:58:20.955668Z",
     "shell.execute_reply": "2024-06-30T20:58:20.955314Z"
    },
    "papermill": {
     "duration": 0.010867,
     "end_time": "2024-06-30T20:58:20.956431",
     "exception": false,
     "start_time": "2024-06-30T20:58:20.945564",
     "status": "completed"
    },
    "tags": []
   },
   "outputs": [],
   "source": [
    "adataPATHlist = glob(str(here(adataPATH)))\n",
    "assert(len(adataPATHlist) == 1)"
   ]
  },
  {
   "cell_type": "code",
   "execution_count": 5,
   "id": "0fcfce0a-896b-4dc0-8e5e-46749205c84f",
   "metadata": {
    "execution": {
     "iopub.execute_input": "2024-06-30T20:58:20.967603Z",
     "iopub.status.busy": "2024-06-30T20:58:20.967319Z",
     "iopub.status.idle": "2024-06-30T20:58:22.403349Z",
     "shell.execute_reply": "2024-06-30T20:58:22.402896Z"
    },
    "papermill": {
     "duration": 1.442612,
     "end_time": "2024-06-30T20:58:22.404194",
     "exception": false,
     "start_time": "2024-06-30T20:58:20.961582",
     "status": "completed"
    },
    "tags": []
   },
   "outputs": [
    {
     "data": {
      "text/plain": [
       "AnnData object with n_obs × n_vars = 849922 × 30\n",
       "    obs: 'studyID', 'libraryID', 'sampleID', 'chemistry', 'technology', 'disease', 'sex', 'binned_age', 'Level1', 'Level2', 'conditions_combined', 'Level1_unc', 'Level2_unc'\n",
       "    uns: 'chemistry', 'sampleID'"
      ]
     },
     "execution_count": 5,
     "metadata": {},
     "output_type": "execute_result"
    }
   ],
   "source": [
    "adata = sc.read_h5ad(adataPATHlist[0])\n",
    "adata"
   ]
  },
  {
   "cell_type": "markdown",
   "id": "44e868b3-0771-4225-bd79-a4b179bc672b",
   "metadata": {
    "papermill": {
     "duration": 0.006665,
     "end_time": "2024-06-30T20:58:22.416543",
     "exception": false,
     "start_time": "2024-06-30T20:58:22.409878",
     "status": "completed"
    },
    "tags": []
   },
   "source": [
    "#### Generating PSEUDOBULKs"
   ]
  },
  {
   "cell_type": "markdown",
   "id": "97d09fc5-d05c-471e-87fa-fe58ccbe47ac",
   "metadata": {
    "papermill": {
     "duration": 0.005043,
     "end_time": "2024-06-30T20:58:22.426825",
     "exception": false,
     "start_time": "2024-06-30T20:58:22.421782",
     "status": "completed"
    },
    "tags": []
   },
   "source": [
    "**Aggregating cell latent features**"
   ]
  },
  {
   "cell_type": "code",
   "execution_count": 6,
   "id": "81223976-fcf6-4354-8964-b12d76468636",
   "metadata": {
    "execution": {
     "iopub.execute_input": "2024-06-30T20:58:22.438480Z",
     "iopub.status.busy": "2024-06-30T20:58:22.437866Z",
     "iopub.status.idle": "2024-06-30T20:58:22.794591Z",
     "shell.execute_reply": "2024-06-30T20:58:22.794129Z"
    },
    "papermill": {
     "duration": 0.36315,
     "end_time": "2024-06-30T20:58:22.795399",
     "exception": false,
     "start_time": "2024-06-30T20:58:22.432249",
     "status": "completed"
    },
    "tags": []
   },
   "outputs": [
    {
     "data": {
      "text/plain": [
       "AnnData object with n_obs × n_vars = 2109 × 30\n",
       "    obs: 'sampleID', 'Level1', 'disease', 'n_observation'"
      ]
     },
     "execution_count": 6,
     "metadata": {},
     "output_type": "execute_result"
    }
   ],
   "source": [
    "adataPBcell = aggregating_features(Z = adata.X, \n",
    "                             obsDF = adata.obs[['sampleID','Level1','disease']], \n",
    "                             mode = 'mean', \n",
    "                             obs_names_col=['sampleID','Level1'], \n",
    "                             min_observation=0)\n",
    "adataPBcell"
   ]
  },
  {
   "cell_type": "code",
   "execution_count": null,
   "id": "8495038e-aebd-4003-bd94-c1e49f47249e",
   "metadata": {
    "papermill": {
     "duration": 0.00539,
     "end_time": "2024-06-30T20:58:22.806532",
     "exception": false,
     "start_time": "2024-06-30T20:58:22.801142",
     "status": "completed"
    },
    "tags": []
   },
   "outputs": [],
   "source": []
  },
  {
   "cell_type": "markdown",
   "id": "6d602bad-4793-4aa4-b3d7-d118d413a0fc",
   "metadata": {
    "papermill": {
     "duration": 0.00544,
     "end_time": "2024-06-30T20:58:22.817577",
     "exception": false,
     "start_time": "2024-06-30T20:58:22.812137",
     "status": "completed"
    },
    "tags": []
   },
   "source": [
    "**Extracting sample embedding**"
   ]
  },
  {
   "cell_type": "code",
   "execution_count": 7,
   "id": "e2c14f02",
   "metadata": {
    "execution": {
     "iopub.execute_input": "2024-06-30T20:58:22.828708Z",
     "iopub.status.busy": "2024-06-30T20:58:22.828554Z",
     "iopub.status.idle": "2024-06-30T20:58:22.836783Z",
     "shell.execute_reply": "2024-06-30T20:58:22.836421Z"
    },
    "papermill": {
     "duration": 0.014686,
     "end_time": "2024-06-30T20:58:22.837544",
     "exception": false,
     "start_time": "2024-06-30T20:58:22.822858",
     "status": "completed"
    },
    "tags": []
   },
   "outputs": [
    {
     "data": {
      "text/plain": [
       "AnnData object with n_obs × n_vars = 144 × 20\n",
       "    obs: 'sampleID', 'disease', 'Level1'"
      ]
     },
     "execution_count": 7,
     "metadata": {},
     "output_type": "execute_result"
    }
   ],
   "source": [
    "adataPBsample = adata.uns['sampleID'].copy()\n",
    "adataPBsample.obs['sampleID'] = adataPBsample.obs.index\n",
    "adataPBsample = adataPBsample[adataPBsample.obs['sampleID'].isin(adataPBcell.obs['sampleID'])]\n",
    "\n",
    "adataPBsample.obs = adataPBsample.obs.merge(adataPBcell.obs.groupby('sampleID').agg({'disease':'first'}), left_index=True, right_index=True)\n",
    "adataPBsample.obs['Level1'] = 'sample'\n",
    "adataPBsample"
   ]
  },
  {
   "cell_type": "markdown",
   "id": "2d4fe137-7d68-4e86-a85c-3c1a3d3c4c71",
   "metadata": {
    "papermill": {
     "duration": 0.006,
     "end_time": "2024-06-30T20:58:22.848869",
     "exception": false,
     "start_time": "2024-06-30T20:58:22.842869",
     "status": "completed"
    },
    "tags": []
   },
   "source": [
    "**Merging cell and patient latent features**"
   ]
  },
  {
   "cell_type": "code",
   "execution_count": 8,
   "id": "a326d2b1",
   "metadata": {
    "execution": {
     "iopub.execute_input": "2024-06-30T20:58:22.861100Z",
     "iopub.status.busy": "2024-06-30T20:58:22.860830Z",
     "iopub.status.idle": "2024-06-30T20:58:22.863399Z",
     "shell.execute_reply": "2024-06-30T20:58:22.863025Z"
    },
    "papermill": {
     "duration": 0.009747,
     "end_time": "2024-06-30T20:58:22.864144",
     "exception": false,
     "start_time": "2024-06-30T20:58:22.854397",
     "status": "completed"
    },
    "tags": []
   },
   "outputs": [],
   "source": [
    "PBcellDF = adataPBcell.to_df()\n",
    "PBcellDF['sampleID'] = adataPBcell.obs['sampleID']"
   ]
  },
  {
   "cell_type": "code",
   "execution_count": 9,
   "id": "1a597f46-d9c5-403b-b81e-5738ca206682",
   "metadata": {
    "execution": {
     "iopub.execute_input": "2024-06-30T20:58:22.875836Z",
     "iopub.status.busy": "2024-06-30T20:58:22.875376Z",
     "iopub.status.idle": "2024-06-30T20:58:22.877907Z",
     "shell.execute_reply": "2024-06-30T20:58:22.877531Z"
    },
    "papermill": {
     "duration": 0.009176,
     "end_time": "2024-06-30T20:58:22.878688",
     "exception": false,
     "start_time": "2024-06-30T20:58:22.869512",
     "status": "completed"
    },
    "tags": []
   },
   "outputs": [],
   "source": [
    "PBsampleDF = adataPBsample.to_df()\n",
    "PBsampleDF['sampleID'] = adataPBsample.obs['sampleID']"
   ]
  },
  {
   "cell_type": "code",
   "execution_count": 10,
   "id": "bb384751-fe1b-4635-a90d-fd98ae61b173",
   "metadata": {
    "execution": {
     "iopub.execute_input": "2024-06-30T20:58:22.890098Z",
     "iopub.status.busy": "2024-06-30T20:58:22.889778Z",
     "iopub.status.idle": "2024-06-30T20:58:22.893688Z",
     "shell.execute_reply": "2024-06-30T20:58:22.893319Z"
    },
    "papermill": {
     "duration": 0.010358,
     "end_time": "2024-06-30T20:58:22.894433",
     "exception": false,
     "start_time": "2024-06-30T20:58:22.884075",
     "status": "completed"
    },
    "tags": []
   },
   "outputs": [],
   "source": [
    "PBcell_sampleDF = PBcellDF.merge(PBsampleDF, on='sampleID', how='left')"
   ]
  },
  {
   "cell_type": "code",
   "execution_count": 11,
   "id": "f7250713-e24d-4614-9cbd-eed702340640",
   "metadata": {
    "execution": {
     "iopub.execute_input": "2024-06-30T20:58:22.905925Z",
     "iopub.status.busy": "2024-06-30T20:58:22.905598Z",
     "iopub.status.idle": "2024-06-30T20:58:22.907863Z",
     "shell.execute_reply": "2024-06-30T20:58:22.907498Z"
    },
    "papermill": {
     "duration": 0.008731,
     "end_time": "2024-06-30T20:58:22.908605",
     "exception": false,
     "start_time": "2024-06-30T20:58:22.899874",
     "status": "completed"
    },
    "tags": []
   },
   "outputs": [],
   "source": [
    "assert(adataPBcell.obs['sampleID'].tolist() == PBcell_sampleDF['sampleID'].tolist())"
   ]
  },
  {
   "cell_type": "code",
   "execution_count": 12,
   "id": "abea2252-6a12-4b89-9f0d-6d6df90064fb",
   "metadata": {
    "execution": {
     "iopub.execute_input": "2024-06-30T20:58:22.920045Z",
     "iopub.status.busy": "2024-06-30T20:58:22.919754Z",
     "iopub.status.idle": "2024-06-30T20:58:22.922127Z",
     "shell.execute_reply": "2024-06-30T20:58:22.921782Z"
    },
    "papermill": {
     "duration": 0.008823,
     "end_time": "2024-06-30T20:58:22.922864",
     "exception": false,
     "start_time": "2024-06-30T20:58:22.914041",
     "status": "completed"
    },
    "tags": []
   },
   "outputs": [],
   "source": [
    "PBcell_sampleDF.drop('sampleID', axis=1, inplace=True)"
   ]
  },
  {
   "cell_type": "code",
   "execution_count": 13,
   "id": "5502e45d-5c72-4440-a8c1-5b299cac6e2d",
   "metadata": {
    "execution": {
     "iopub.execute_input": "2024-06-30T20:58:22.934519Z",
     "iopub.status.busy": "2024-06-30T20:58:22.934201Z",
     "iopub.status.idle": "2024-06-30T20:58:22.937588Z",
     "shell.execute_reply": "2024-06-30T20:58:22.937237Z"
    },
    "papermill": {
     "duration": 0.010191,
     "end_time": "2024-06-30T20:58:22.938339",
     "exception": false,
     "start_time": "2024-06-30T20:58:22.928148",
     "status": "completed"
    },
    "tags": []
   },
   "outputs": [
    {
     "data": {
      "text/plain": [
       "AnnData object with n_obs × n_vars = 2109 × 50\n",
       "    obs: 'sampleID', 'Level1', 'disease', 'n_observation'"
      ]
     },
     "execution_count": 13,
     "metadata": {},
     "output_type": "execute_result"
    }
   ],
   "source": [
    "adataPBcell_sample = sc.AnnData(X = PBcell_sampleDF, obs = adataPBcell.obs)\n",
    "adataPBcell_sample"
   ]
  },
  {
   "cell_type": "markdown",
   "id": "d59574be-684b-4082-b8b6-7d11930362ad",
   "metadata": {
    "papermill": {
     "duration": 0.005406,
     "end_time": "2024-06-30T20:58:22.949322",
     "exception": false,
     "start_time": "2024-06-30T20:58:22.943916",
     "status": "completed"
    },
    "tags": []
   },
   "source": [
    "### Saving pseudobulk adata objects"
   ]
  },
  {
   "cell_type": "code",
   "execution_count": 14,
   "id": "5947e6f8-ac27-4702-ba5d-aa9e1ba79f6a",
   "metadata": {
    "execution": {
     "iopub.execute_input": "2024-06-30T20:58:22.961428Z",
     "iopub.status.busy": "2024-06-30T20:58:22.961149Z",
     "iopub.status.idle": "2024-06-30T20:58:22.995495Z",
     "shell.execute_reply": "2024-06-30T20:58:22.995094Z"
    },
    "papermill": {
     "duration": 0.041201,
     "end_time": "2024-06-30T20:58:22.996294",
     "exception": false,
     "start_time": "2024-06-30T20:58:22.955093",
     "status": "completed"
    },
    "tags": []
   },
   "outputs": [],
   "source": [
    "adataPBcell.write(here(adataPATHlist[0].replace('/scPoli_','/PSEUDOBULKs/scPoli_PSEUDOBULKcell_')), compression='gzip')"
   ]
  },
  {
   "cell_type": "code",
   "execution_count": 15,
   "id": "e9485945-bccf-419a-9420-c1e4f3aa262d",
   "metadata": {
    "execution": {
     "iopub.execute_input": "2024-06-30T20:58:23.009823Z",
     "iopub.status.busy": "2024-06-30T20:58:23.009404Z",
     "iopub.status.idle": "2024-06-30T20:58:23.030055Z",
     "shell.execute_reply": "2024-06-30T20:58:23.029667Z"
    },
    "papermill": {
     "duration": 0.028793,
     "end_time": "2024-06-30T20:58:23.030873",
     "exception": false,
     "start_time": "2024-06-30T20:58:23.002080",
     "status": "completed"
    },
    "tags": []
   },
   "outputs": [],
   "source": [
    "adataPBsample.write(here(adataPATHlist[0].replace('/scPoli_','/PSEUDOBULKs/scPoli_PSEUDOBULKsample_')), compression='gzip')"
   ]
  },
  {
   "cell_type": "code",
   "execution_count": 16,
   "id": "9c2daa40-3279-4b24-8aad-65ee0ba758c8",
   "metadata": {
    "execution": {
     "iopub.execute_input": "2024-06-30T20:58:23.042890Z",
     "iopub.status.busy": "2024-06-30T20:58:23.042532Z",
     "iopub.status.idle": "2024-06-30T20:58:23.077181Z",
     "shell.execute_reply": "2024-06-30T20:58:23.076787Z"
    },
    "papermill": {
     "duration": 0.041429,
     "end_time": "2024-06-30T20:58:23.077932",
     "exception": false,
     "start_time": "2024-06-30T20:58:23.036503",
     "status": "completed"
    },
    "tags": []
   },
   "outputs": [],
   "source": [
    "adataPBcell_sample.write(here(adataPATHlist[0].replace('/scPoli_','/PSEUDOBULKs/scPoli_PSEUDOBULKcellSample_')), compression='gzip')"
   ]
  },
  {
   "cell_type": "code",
   "execution_count": null,
   "id": "8a70d9f6-7a44-45ee-8470-702bd7af1e0b",
   "metadata": {
    "papermill": {
     "duration": 0.005481,
     "end_time": "2024-06-30T20:58:23.089151",
     "exception": false,
     "start_time": "2024-06-30T20:58:23.083670",
     "status": "completed"
    },
    "tags": []
   },
   "outputs": [],
   "source": []
  }
 ],
 "metadata": {
  "kernelspec": {
   "display_name": "Python 3 (ipykernel)",
   "language": "python",
   "name": "python3"
  },
  "language_info": {
   "codemirror_mode": {
    "name": "ipython",
    "version": 3
   },
   "file_extension": ".py",
   "mimetype": "text/x-python",
   "name": "python",
   "nbconvert_exporter": "python",
   "pygments_lexer": "ipython3",
   "version": "3.12.3"
  },
  "papermill": {
   "default_parameters": {},
   "duration": 5.463971,
   "end_time": "2024-06-30T20:58:23.708698",
   "environment_variables": {},
   "exception": null,
   "input_path": "03_generating_PSEUDOBULKs.ipynb",
   "output_path": "executed_notebooks/03_generating_PSEUDOBULKs_scPoli_VALIDATION_2_30_20_run3_0vvgu480.h5ad.ipynb",
   "parameters": {
    "adataPATH": "03_downstream_analysis/08_PatientClassifier/scPoli/results/scPoli_VALIDATION_2_30_20_run3_0vvgu480.h5ad"
   },
   "start_time": "2024-06-30T20:58:18.244727",
   "version": "2.6.0"
  }
 },
 "nbformat": 4,
 "nbformat_minor": 5
}