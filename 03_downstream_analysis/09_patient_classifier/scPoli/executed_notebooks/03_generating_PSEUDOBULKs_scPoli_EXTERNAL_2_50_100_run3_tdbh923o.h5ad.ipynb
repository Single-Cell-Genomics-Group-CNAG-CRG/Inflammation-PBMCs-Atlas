{
 "cells": [
  {
   "cell_type": "code",
   "execution_count": 1,
   "id": "43505547",
   "metadata": {
    "execution": {
     "iopub.execute_input": "2024-06-30T21:01:01.972703Z",
     "iopub.status.busy": "2024-06-30T21:01:01.972481Z",
     "iopub.status.idle": "2024-06-30T21:01:01.974811Z",
     "shell.execute_reply": "2024-06-30T21:01:01.974514Z"
    },
    "papermill": {
     "duration": 0.009884,
     "end_time": "2024-06-30T21:01:01.975587",
     "exception": false,
     "start_time": "2024-06-30T21:01:01.965703",
     "status": "completed"
    },
    "tags": [
     "injected-parameters"
    ]
   },
   "outputs": [],
   "source": [
    "# Parameters\n",
    "adataPATH = \"03_downstream_analysis/08_PatientClassifier/scPoli/results/scPoli_EXTERNAL_2_50_100_run3_tdbh923o.h5ad\"\n"
   ]
  },
  {
   "cell_type": "raw",
   "id": "bf9880bd-3aef-477b-807d-37e3c5603037",
   "metadata": {
    "execution": {
     "iopub.execute_input": "2024-06-29T08:23:25.403219Z",
     "iopub.status.busy": "2024-06-29T08:23:25.402857Z",
     "iopub.status.idle": "2024-06-29T08:23:25.406428Z",
     "shell.execute_reply": "2024-06-29T08:23:25.406014Z",
     "shell.execute_reply.started": "2024-06-29T08:23:25.403185Z"
    },
    "papermill": {
     "duration": 0.00529,
     "end_time": "2024-06-30T21:01:01.986082",
     "exception": false,
     "start_time": "2024-06-30T21:01:01.980792",
     "status": "completed"
    },
    "tags": [],
    "vscode": {
     "languageId": "raw"
    }
   },
   "source": [
    "adataMAINpath = '03_downstream_analysis/08_PatientClassifier/scPoli/results/scPoli_2_100_20_*.h5ad'\n",
    "\n",
    "adataVALpath = '03_downstream_analysis/08_PatientClassifier/scPoli/results/scPoli_VALIDATION_2_20_20*.h5ad'\n",
    "adataEXCpath = '03_downstream_analysis/08_PatientClassifier/scPoli/results/scPoli_EXCLUDED_2_100_20_run1_pd5nyb4g.h5ad'\n",
    "adataEXTpath = '03_downstream_analysis/08_PatientClassifier/scPoli/results/scPoli_EXTERNAL_2_100_20_run1_pd5nyb4g.h5ad'\n",
    "\n",
    "adataPATH = adataVALpath"
   ]
  },
  {
   "cell_type": "code",
   "execution_count": 2,
   "id": "d3ccb10a-7201-43d0-a593-2b4650ff3451",
   "metadata": {
    "execution": {
     "iopub.execute_input": "2024-06-30T21:01:01.996945Z",
     "iopub.status.busy": "2024-06-30T21:01:01.996749Z",
     "iopub.status.idle": "2024-06-30T21:01:01.999276Z",
     "shell.execute_reply": "2024-06-30T21:01:01.998978Z"
    },
    "papermill": {
     "duration": 0.008864,
     "end_time": "2024-06-30T21:01:02.000030",
     "exception": false,
     "start_time": "2024-06-30T21:01:01.991166",
     "status": "completed"
    },
    "tags": []
   },
   "outputs": [
    {
     "name": "stdout",
     "output_type": "stream",
     "text": [
      "adataPATH = 03_downstream_analysis/08_PatientClassifier/scPoli/results/scPoli_EXTERNAL_2_50_100_run3_tdbh923o.h5ad\n"
     ]
    }
   ],
   "source": [
    "for v in ['adataPATH']:\n",
    "    if v in locals() or v in globals():\n",
    "        print(f\"{v} = {eval(v)}\")\n",
    "    else:\n",
    "        raise Exception(f\"{v} not specified\")"
   ]
  },
  {
   "cell_type": "code",
   "execution_count": 3,
   "id": "888fb5f4-9ab7-4196-a282-7a7e92a43971",
   "metadata": {
    "execution": {
     "iopub.execute_input": "2024-06-30T21:01:02.011420Z",
     "iopub.status.busy": "2024-06-30T21:01:02.011261Z",
     "iopub.status.idle": "2024-06-30T21:01:03.396641Z",
     "shell.execute_reply": "2024-06-30T21:01:03.396248Z"
    },
    "papermill": {
     "duration": 1.391925,
     "end_time": "2024-06-30T21:01:03.397564",
     "exception": false,
     "start_time": "2024-06-30T21:01:02.005639",
     "status": "completed"
    },
    "tags": []
   },
   "outputs": [],
   "source": [
    "import os\n",
    "import sys\n",
    "from glob import glob\n",
    "\n",
    "import scanpy as sc\n",
    "import pandas as pd\n",
    "\n",
    "from pyprojroot import here\n",
    "\n",
    "sys.path.insert(1, str(here('bin')))\n",
    "# Import custom functions\n",
    "from customPythonFunctions import aggregating_features"
   ]
  },
  {
   "cell_type": "markdown",
   "id": "ba4905ae-4546-4ef4-b57b-950441ab079d",
   "metadata": {
    "papermill": {
     "duration": 0.005329,
     "end_time": "2024-06-30T21:01:03.408375",
     "exception": false,
     "start_time": "2024-06-30T21:01:03.403046",
     "status": "completed"
    },
    "tags": []
   },
   "source": [
    "### Loading data"
   ]
  },
  {
   "cell_type": "code",
   "execution_count": 4,
   "id": "539cbbbb-3503-4f51-bf04-f007f928ebd1",
   "metadata": {
    "execution": {
     "iopub.execute_input": "2024-06-30T21:01:03.419646Z",
     "iopub.status.busy": "2024-06-30T21:01:03.419347Z",
     "iopub.status.idle": "2024-06-30T21:01:03.422886Z",
     "shell.execute_reply": "2024-06-30T21:01:03.422592Z"
    },
    "papermill": {
     "duration": 0.01013,
     "end_time": "2024-06-30T21:01:03.423622",
     "exception": false,
     "start_time": "2024-06-30T21:01:03.413492",
     "status": "completed"
    },
    "tags": []
   },
   "outputs": [],
   "source": [
    "adataPATHlist = glob(str(here(adataPATH)))\n",
    "assert(len(adataPATHlist) == 1)"
   ]
  },
  {
   "cell_type": "code",
   "execution_count": 5,
   "id": "0fcfce0a-896b-4dc0-8e5e-46749205c84f",
   "metadata": {
    "execution": {
     "iopub.execute_input": "2024-06-30T21:01:03.435204Z",
     "iopub.status.busy": "2024-06-30T21:01:03.434955Z",
     "iopub.status.idle": "2024-06-30T21:01:04.656025Z",
     "shell.execute_reply": "2024-06-30T21:01:04.655684Z"
    },
    "papermill": {
     "duration": 1.227618,
     "end_time": "2024-06-30T21:01:04.656890",
     "exception": false,
     "start_time": "2024-06-30T21:01:03.429272",
     "status": "completed"
    },
    "tags": []
   },
   "outputs": [
    {
     "data": {
      "text/plain": [
       "AnnData object with n_obs × n_vars = 572872 × 50\n",
       "    obs: 'studyID', 'libraryID', 'sampleID', 'chemistry', 'technology', 'disease', 'sex', 'binned_age', 'Level1', 'Level2', 'conditions_combined', 'Level1_unc', 'Level2_unc'\n",
       "    uns: 'chemistry', 'sampleID'"
      ]
     },
     "execution_count": 5,
     "metadata": {},
     "output_type": "execute_result"
    }
   ],
   "source": [
    "adata = sc.read_h5ad(adataPATHlist[0])\n",
    "adata"
   ]
  },
  {
   "cell_type": "markdown",
   "id": "44e868b3-0771-4225-bd79-a4b179bc672b",
   "metadata": {
    "papermill": {
     "duration": 0.005133,
     "end_time": "2024-06-30T21:01:04.667786",
     "exception": false,
     "start_time": "2024-06-30T21:01:04.662653",
     "status": "completed"
    },
    "tags": []
   },
   "source": [
    "#### Generating PSEUDOBULKs"
   ]
  },
  {
   "cell_type": "markdown",
   "id": "97d09fc5-d05c-471e-87fa-fe58ccbe47ac",
   "metadata": {
    "papermill": {
     "duration": 0.00494,
     "end_time": "2024-06-30T21:01:04.678215",
     "exception": false,
     "start_time": "2024-06-30T21:01:04.673275",
     "status": "completed"
    },
    "tags": []
   },
   "source": [
    "**Aggregating cell latent features**"
   ]
  },
  {
   "cell_type": "code",
   "execution_count": 6,
   "id": "81223976-fcf6-4354-8964-b12d76468636",
   "metadata": {
    "execution": {
     "iopub.execute_input": "2024-06-30T21:01:04.689413Z",
     "iopub.status.busy": "2024-06-30T21:01:04.689104Z",
     "iopub.status.idle": "2024-06-30T21:01:04.963140Z",
     "shell.execute_reply": "2024-06-30T21:01:04.962800Z"
    },
    "papermill": {
     "duration": 0.280422,
     "end_time": "2024-06-30T21:01:04.963930",
     "exception": false,
     "start_time": "2024-06-30T21:01:04.683508",
     "status": "completed"
    },
    "tags": []
   },
   "outputs": [
    {
     "data": {
      "text/plain": [
       "AnnData object with n_obs × n_vars = 1270 × 50\n",
       "    obs: 'sampleID', 'Level1', 'disease', 'n_observation'"
      ]
     },
     "execution_count": 6,
     "metadata": {},
     "output_type": "execute_result"
    }
   ],
   "source": [
    "adataPBcell = aggregating_features(Z = adata.X, \n",
    "                             obsDF = adata.obs[['sampleID','Level1','disease']], \n",
    "                             mode = 'mean', \n",
    "                             obs_names_col=['sampleID','Level1'], \n",
    "                             min_observation=0)\n",
    "adataPBcell"
   ]
  },
  {
   "cell_type": "code",
   "execution_count": null,
   "id": "8495038e-aebd-4003-bd94-c1e49f47249e",
   "metadata": {
    "papermill": {
     "duration": 0.005192,
     "end_time": "2024-06-30T21:01:04.974642",
     "exception": false,
     "start_time": "2024-06-30T21:01:04.969450",
     "status": "completed"
    },
    "tags": []
   },
   "outputs": [],
   "source": []
  },
  {
   "cell_type": "markdown",
   "id": "6d602bad-4793-4aa4-b3d7-d118d413a0fc",
   "metadata": {
    "papermill": {
     "duration": 0.005223,
     "end_time": "2024-06-30T21:01:04.985680",
     "exception": false,
     "start_time": "2024-06-30T21:01:04.980457",
     "status": "completed"
    },
    "tags": []
   },
   "source": [
    "**Extracting sample embedding**"
   ]
  },
  {
   "cell_type": "code",
   "execution_count": 7,
   "id": "e2c14f02",
   "metadata": {
    "execution": {
     "iopub.execute_input": "2024-06-30T21:01:04.996454Z",
     "iopub.status.busy": "2024-06-30T21:01:04.996124Z",
     "iopub.status.idle": "2024-06-30T21:01:05.003670Z",
     "shell.execute_reply": "2024-06-30T21:01:05.003377Z"
    },
    "papermill": {
     "duration": 0.013715,
     "end_time": "2024-06-30T21:01:05.004435",
     "exception": false,
     "start_time": "2024-06-30T21:01:04.990720",
     "status": "completed"
    },
    "tags": []
   },
   "outputs": [
    {
     "data": {
      "text/plain": [
       "AnnData object with n_obs × n_vars = 86 × 100\n",
       "    obs: 'sampleID', 'disease', 'Level1'"
      ]
     },
     "execution_count": 7,
     "metadata": {},
     "output_type": "execute_result"
    }
   ],
   "source": [
    "adataPBsample = adata.uns['sampleID'].copy()\n",
    "adataPBsample.obs['sampleID'] = adataPBsample.obs.index\n",
    "adataPBsample = adataPBsample[adataPBsample.obs['sampleID'].isin(adataPBcell.obs['sampleID'])]\n",
    "\n",
    "adataPBsample.obs = adataPBsample.obs.merge(adataPBcell.obs.groupby('sampleID').agg({'disease':'first'}), left_index=True, right_index=True)\n",
    "adataPBsample.obs['Level1'] = 'sample'\n",
    "adataPBsample"
   ]
  },
  {
   "cell_type": "markdown",
   "id": "2d4fe137-7d68-4e86-a85c-3c1a3d3c4c71",
   "metadata": {
    "papermill": {
     "duration": 0.005203,
     "end_time": "2024-06-30T21:01:05.014873",
     "exception": false,
     "start_time": "2024-06-30T21:01:05.009670",
     "status": "completed"
    },
    "tags": []
   },
   "source": [
    "**Merging cell and patient latent features**"
   ]
  },
  {
   "cell_type": "code",
   "execution_count": 8,
   "id": "a326d2b1",
   "metadata": {
    "execution": {
     "iopub.execute_input": "2024-06-30T21:01:05.026298Z",
     "iopub.status.busy": "2024-06-30T21:01:05.026116Z",
     "iopub.status.idle": "2024-06-30T21:01:05.028277Z",
     "shell.execute_reply": "2024-06-30T21:01:05.027986Z"
    },
    "papermill": {
     "duration": 0.00871,
     "end_time": "2024-06-30T21:01:05.029008",
     "exception": false,
     "start_time": "2024-06-30T21:01:05.020298",
     "status": "completed"
    },
    "tags": []
   },
   "outputs": [],
   "source": [
    "PBcellDF = adataPBcell.to_df()\n",
    "PBcellDF['sampleID'] = adataPBcell.obs['sampleID']"
   ]
  },
  {
   "cell_type": "code",
   "execution_count": 9,
   "id": "1a597f46-d9c5-403b-b81e-5738ca206682",
   "metadata": {
    "execution": {
     "iopub.execute_input": "2024-06-30T21:01:05.040118Z",
     "iopub.status.busy": "2024-06-30T21:01:05.039884Z",
     "iopub.status.idle": "2024-06-30T21:01:05.041985Z",
     "shell.execute_reply": "2024-06-30T21:01:05.041701Z"
    },
    "papermill": {
     "duration": 0.008312,
     "end_time": "2024-06-30T21:01:05.042724",
     "exception": false,
     "start_time": "2024-06-30T21:01:05.034412",
     "status": "completed"
    },
    "tags": []
   },
   "outputs": [],
   "source": [
    "PBsampleDF = adataPBsample.to_df()\n",
    "PBsampleDF['sampleID'] = adataPBsample.obs['sampleID']"
   ]
  },
  {
   "cell_type": "code",
   "execution_count": 10,
   "id": "bb384751-fe1b-4635-a90d-fd98ae61b173",
   "metadata": {
    "execution": {
     "iopub.execute_input": "2024-06-30T21:01:05.054394Z",
     "iopub.status.busy": "2024-06-30T21:01:05.054177Z",
     "iopub.status.idle": "2024-06-30T21:01:05.057958Z",
     "shell.execute_reply": "2024-06-30T21:01:05.057668Z"
    },
    "papermill": {
     "duration": 0.010282,
     "end_time": "2024-06-30T21:01:05.058683",
     "exception": false,
     "start_time": "2024-06-30T21:01:05.048401",
     "status": "completed"
    },
    "tags": []
   },
   "outputs": [],
   "source": [
    "PBcell_sampleDF = PBcellDF.merge(PBsampleDF, on='sampleID', how='left')"
   ]
  },
  {
   "cell_type": "code",
   "execution_count": 11,
   "id": "f7250713-e24d-4614-9cbd-eed702340640",
   "metadata": {
    "execution": {
     "iopub.execute_input": "2024-06-30T21:01:05.070280Z",
     "iopub.status.busy": "2024-06-30T21:01:05.070023Z",
     "iopub.status.idle": "2024-06-30T21:01:05.072072Z",
     "shell.execute_reply": "2024-06-30T21:01:05.071780Z"
    },
    "papermill": {
     "duration": 0.008781,
     "end_time": "2024-06-30T21:01:05.072801",
     "exception": false,
     "start_time": "2024-06-30T21:01:05.064020",
     "status": "completed"
    },
    "tags": []
   },
   "outputs": [],
   "source": [
    "assert(adataPBcell.obs['sampleID'].tolist() == PBcell_sampleDF['sampleID'].tolist())"
   ]
  },
  {
   "cell_type": "code",
   "execution_count": 12,
   "id": "abea2252-6a12-4b89-9f0d-6d6df90064fb",
   "metadata": {
    "execution": {
     "iopub.execute_input": "2024-06-30T21:01:05.084485Z",
     "iopub.status.busy": "2024-06-30T21:01:05.084202Z",
     "iopub.status.idle": "2024-06-30T21:01:05.086433Z",
     "shell.execute_reply": "2024-06-30T21:01:05.086137Z"
    },
    "papermill": {
     "duration": 0.009094,
     "end_time": "2024-06-30T21:01:05.087153",
     "exception": false,
     "start_time": "2024-06-30T21:01:05.078059",
     "status": "completed"
    },
    "tags": []
   },
   "outputs": [],
   "source": [
    "PBcell_sampleDF.drop('sampleID', axis=1, inplace=True)"
   ]
  },
  {
   "cell_type": "code",
   "execution_count": 13,
   "id": "5502e45d-5c72-4440-a8c1-5b299cac6e2d",
   "metadata": {
    "execution": {
     "iopub.execute_input": "2024-06-30T21:01:05.099815Z",
     "iopub.status.busy": "2024-06-30T21:01:05.099654Z",
     "iopub.status.idle": "2024-06-30T21:01:05.102810Z",
     "shell.execute_reply": "2024-06-30T21:01:05.102525Z"
    },
    "papermill": {
     "duration": 0.010048,
     "end_time": "2024-06-30T21:01:05.103546",
     "exception": false,
     "start_time": "2024-06-30T21:01:05.093498",
     "status": "completed"
    },
    "tags": []
   },
   "outputs": [
    {
     "data": {
      "text/plain": [
       "AnnData object with n_obs × n_vars = 1270 × 150\n",
       "    obs: 'sampleID', 'Level1', 'disease', 'n_observation'"
      ]
     },
     "execution_count": 13,
     "metadata": {},
     "output_type": "execute_result"
    }
   ],
   "source": [
    "adataPBcell_sample = sc.AnnData(X = PBcell_sampleDF, obs = adataPBcell.obs)\n",
    "adataPBcell_sample"
   ]
  },
  {
   "cell_type": "markdown",
   "id": "d59574be-684b-4082-b8b6-7d11930362ad",
   "metadata": {
    "papermill": {
     "duration": 0.005506,
     "end_time": "2024-06-30T21:01:05.114727",
     "exception": false,
     "start_time": "2024-06-30T21:01:05.109221",
     "status": "completed"
    },
    "tags": []
   },
   "source": [
    "### Saving pseudobulk adata objects"
   ]
  },
  {
   "cell_type": "code",
   "execution_count": 14,
   "id": "5947e6f8-ac27-4702-ba5d-aa9e1ba79f6a",
   "metadata": {
    "execution": {
     "iopub.execute_input": "2024-06-30T21:01:05.126373Z",
     "iopub.status.busy": "2024-06-30T21:01:05.126145Z",
     "iopub.status.idle": "2024-06-30T21:01:05.157695Z",
     "shell.execute_reply": "2024-06-30T21:01:05.157373Z"
    },
    "papermill": {
     "duration": 0.038125,
     "end_time": "2024-06-30T21:01:05.158462",
     "exception": false,
     "start_time": "2024-06-30T21:01:05.120337",
     "status": "completed"
    },
    "tags": []
   },
   "outputs": [],
   "source": [
    "adataPBcell.write(here(adataPATHlist[0].replace('/scPoli_','/PSEUDOBULKs/scPoli_PSEUDOBULKcell_')), compression='gzip')"
   ]
  },
  {
   "cell_type": "code",
   "execution_count": 15,
   "id": "e9485945-bccf-419a-9420-c1e4f3aa262d",
   "metadata": {
    "execution": {
     "iopub.execute_input": "2024-06-30T21:01:05.170048Z",
     "iopub.status.busy": "2024-06-30T21:01:05.169806Z",
     "iopub.status.idle": "2024-06-30T21:01:05.190312Z",
     "shell.execute_reply": "2024-06-30T21:01:05.189963Z"
    },
    "papermill": {
     "duration": 0.027161,
     "end_time": "2024-06-30T21:01:05.191051",
     "exception": false,
     "start_time": "2024-06-30T21:01:05.163890",
     "status": "completed"
    },
    "tags": []
   },
   "outputs": [],
   "source": [
    "adataPBsample.write(here(adataPATHlist[0].replace('/scPoli_','/PSEUDOBULKs/scPoli_PSEUDOBULKsample_')), compression='gzip')"
   ]
  },
  {
   "cell_type": "code",
   "execution_count": 16,
   "id": "9c2daa40-3279-4b24-8aad-65ee0ba758c8",
   "metadata": {
    "execution": {
     "iopub.execute_input": "2024-06-30T21:01:05.203111Z",
     "iopub.status.busy": "2024-06-30T21:01:05.202837Z",
     "iopub.status.idle": "2024-06-30T21:01:05.239133Z",
     "shell.execute_reply": "2024-06-30T21:01:05.238809Z"
    },
    "papermill": {
     "duration": 0.042935,
     "end_time": "2024-06-30T21:01:05.239905",
     "exception": false,
     "start_time": "2024-06-30T21:01:05.196970",
     "status": "completed"
    },
    "tags": []
   },
   "outputs": [],
   "source": [
    "adataPBcell_sample.write(here(adataPATHlist[0].replace('/scPoli_','/PSEUDOBULKs/scPoli_PSEUDOBULKcellSample_')), compression='gzip')"
   ]
  },
  {
   "cell_type": "code",
   "execution_count": null,
   "id": "8a70d9f6-7a44-45ee-8470-702bd7af1e0b",
   "metadata": {
    "papermill": {
     "duration": 0.005466,
     "end_time": "2024-06-30T21:01:05.250986",
     "exception": false,
     "start_time": "2024-06-30T21:01:05.245520",
     "status": "completed"
    },
    "tags": []
   },
   "outputs": [],
   "source": []
  }
 ],
 "metadata": {
  "kernelspec": {
   "display_name": "Python 3 (ipykernel)",
   "language": "python",
   "name": "python3"
  },
  "language_info": {
   "codemirror_mode": {
    "name": "ipython",
    "version": 3
   },
   "file_extension": ".py",
   "mimetype": "text/x-python",
   "name": "python",
   "nbconvert_exporter": "python",
   "pygments_lexer": "ipython3",
   "version": "3.12.3"
  },
  "papermill": {
   "default_parameters": {},
   "duration": 4.982665,
   "end_time": "2024-06-30T21:01:05.779099",
   "environment_variables": {},
   "exception": null,
   "input_path": "03_generating_PSEUDOBULKs.ipynb",
   "output_path": "executed_notebooks/03_generating_PSEUDOBULKs_scPoli_EXTERNAL_2_50_100_run3_tdbh923o.h5ad.ipynb",
   "parameters": {
    "adataPATH": "03_downstream_analysis/08_PatientClassifier/scPoli/results/scPoli_EXTERNAL_2_50_100_run3_tdbh923o.h5ad"
   },
   "start_time": "2024-06-30T21:01:00.796434",
   "version": "2.6.0"
  }
 },
 "nbformat": 4,
 "nbformat_minor": 5
}