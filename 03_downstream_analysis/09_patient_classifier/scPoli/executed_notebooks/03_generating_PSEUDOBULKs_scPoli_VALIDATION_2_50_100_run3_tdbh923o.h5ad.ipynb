{
 "cells": [
  {
   "cell_type": "code",
   "execution_count": 1,
   "id": "2760870f",
   "metadata": {
    "execution": {
     "iopub.execute_input": "2024-06-30T21:00:15.858325Z",
     "iopub.status.busy": "2024-06-30T21:00:15.858160Z",
     "iopub.status.idle": "2024-06-30T21:00:15.860664Z",
     "shell.execute_reply": "2024-06-30T21:00:15.860313Z"
    },
    "papermill": {
     "duration": 0.01306,
     "end_time": "2024-06-30T21:00:15.861505",
     "exception": false,
     "start_time": "2024-06-30T21:00:15.848445",
     "status": "completed"
    },
    "tags": [
     "injected-parameters"
    ]
   },
   "outputs": [],
   "source": [
    "# Parameters\n",
    "adataPATH = \"03_downstream_analysis/08_PatientClassifier/scPoli/results/scPoli_VALIDATION_2_50_100_run3_tdbh923o.h5ad\"\n"
   ]
  },
  {
   "cell_type": "raw",
   "id": "bf9880bd-3aef-477b-807d-37e3c5603037",
   "metadata": {
    "execution": {
     "iopub.execute_input": "2024-06-29T08:23:25.403219Z",
     "iopub.status.busy": "2024-06-29T08:23:25.402857Z",
     "iopub.status.idle": "2024-06-29T08:23:25.406428Z",
     "shell.execute_reply": "2024-06-29T08:23:25.406014Z",
     "shell.execute_reply.started": "2024-06-29T08:23:25.403185Z"
    },
    "papermill": {
     "duration": 0.004748,
     "end_time": "2024-06-30T21:00:15.871034",
     "exception": false,
     "start_time": "2024-06-30T21:00:15.866286",
     "status": "completed"
    },
    "tags": [],
    "vscode": {
     "languageId": "raw"
    }
   },
   "source": [
    "adataMAINpath = '03_downstream_analysis/08_PatientClassifier/scPoli/results/scPoli_2_100_20_*.h5ad'\n",
    "\n",
    "adataVALpath = '03_downstream_analysis/08_PatientClassifier/scPoli/results/scPoli_VALIDATION_2_20_20*.h5ad'\n",
    "adataEXCpath = '03_downstream_analysis/08_PatientClassifier/scPoli/results/scPoli_EXCLUDED_2_100_20_run1_pd5nyb4g.h5ad'\n",
    "adataEXTpath = '03_downstream_analysis/08_PatientClassifier/scPoli/results/scPoli_EXTERNAL_2_100_20_run1_pd5nyb4g.h5ad'\n",
    "\n",
    "adataPATH = adataVALpath"
   ]
  },
  {
   "cell_type": "code",
   "execution_count": 2,
   "id": "d3ccb10a-7201-43d0-a593-2b4650ff3451",
   "metadata": {
    "execution": {
     "iopub.execute_input": "2024-06-30T21:00:15.883816Z",
     "iopub.status.busy": "2024-06-30T21:00:15.883559Z",
     "iopub.status.idle": "2024-06-30T21:00:15.886456Z",
     "shell.execute_reply": "2024-06-30T21:00:15.886082Z"
    },
    "papermill": {
     "duration": 0.008801,
     "end_time": "2024-06-30T21:00:15.887253",
     "exception": false,
     "start_time": "2024-06-30T21:00:15.878452",
     "status": "completed"
    },
    "tags": []
   },
   "outputs": [
    {
     "name": "stdout",
     "output_type": "stream",
     "text": [
      "adataPATH = 03_downstream_analysis/08_PatientClassifier/scPoli/results/scPoli_VALIDATION_2_50_100_run3_tdbh923o.h5ad\n"
     ]
    }
   ],
   "source": [
    "for v in ['adataPATH']:\n",
    "    if v in locals() or v in globals():\n",
    "        print(f\"{v} = {eval(v)}\")\n",
    "    else:\n",
    "        raise Exception(f\"{v} not specified\")"
   ]
  },
  {
   "cell_type": "code",
   "execution_count": 3,
   "id": "888fb5f4-9ab7-4196-a282-7a7e92a43971",
   "metadata": {
    "execution": {
     "iopub.execute_input": "2024-06-30T21:00:15.897402Z",
     "iopub.status.busy": "2024-06-30T21:00:15.897131Z",
     "iopub.status.idle": "2024-06-30T21:00:17.337491Z",
     "shell.execute_reply": "2024-06-30T21:00:17.336982Z"
    },
    "papermill": {
     "duration": 1.446482,
     "end_time": "2024-06-30T21:00:17.338376",
     "exception": false,
     "start_time": "2024-06-30T21:00:15.891894",
     "status": "completed"
    },
    "tags": []
   },
   "outputs": [],
   "source": [
    "import os\n",
    "import sys\n",
    "from glob import glob\n",
    "\n",
    "import scanpy as sc\n",
    "import pandas as pd\n",
    "\n",
    "from pyprojroot import here\n",
    "\n",
    "sys.path.insert(1, str(here('bin')))\n",
    "# Import custom functions\n",
    "from customPythonFunctions import aggregating_features"
   ]
  },
  {
   "cell_type": "markdown",
   "id": "ba4905ae-4546-4ef4-b57b-950441ab079d",
   "metadata": {
    "papermill": {
     "duration": 0.004707,
     "end_time": "2024-06-30T21:00:17.349639",
     "exception": false,
     "start_time": "2024-06-30T21:00:17.344932",
     "status": "completed"
    },
    "tags": []
   },
   "source": [
    "### Loading data"
   ]
  },
  {
   "cell_type": "code",
   "execution_count": 4,
   "id": "539cbbbb-3503-4f51-bf04-f007f928ebd1",
   "metadata": {
    "execution": {
     "iopub.execute_input": "2024-06-30T21:00:17.360055Z",
     "iopub.status.busy": "2024-06-30T21:00:17.359526Z",
     "iopub.status.idle": "2024-06-30T21:00:17.363378Z",
     "shell.execute_reply": "2024-06-30T21:00:17.362990Z"
    },
    "papermill": {
     "duration": 0.009922,
     "end_time": "2024-06-30T21:00:17.364153",
     "exception": false,
     "start_time": "2024-06-30T21:00:17.354231",
     "status": "completed"
    },
    "tags": []
   },
   "outputs": [],
   "source": [
    "adataPATHlist = glob(str(here(adataPATH)))\n",
    "assert(len(adataPATHlist) == 1)"
   ]
  },
  {
   "cell_type": "code",
   "execution_count": 5,
   "id": "0fcfce0a-896b-4dc0-8e5e-46749205c84f",
   "metadata": {
    "execution": {
     "iopub.execute_input": "2024-06-30T21:00:17.374136Z",
     "iopub.status.busy": "2024-06-30T21:00:17.373859Z",
     "iopub.status.idle": "2024-06-30T21:00:19.147600Z",
     "shell.execute_reply": "2024-06-30T21:00:19.147126Z"
    },
    "papermill": {
     "duration": 1.779685,
     "end_time": "2024-06-30T21:00:19.148502",
     "exception": false,
     "start_time": "2024-06-30T21:00:17.368817",
     "status": "completed"
    },
    "tags": []
   },
   "outputs": [
    {
     "data": {
      "text/plain": [
       "AnnData object with n_obs × n_vars = 849922 × 50\n",
       "    obs: 'studyID', 'libraryID', 'sampleID', 'chemistry', 'technology', 'disease', 'sex', 'binned_age', 'Level1', 'Level2', 'conditions_combined', 'Level1_unc', 'Level2_unc'\n",
       "    uns: 'chemistry', 'sampleID'"
      ]
     },
     "execution_count": 5,
     "metadata": {},
     "output_type": "execute_result"
    }
   ],
   "source": [
    "adata = sc.read_h5ad(adataPATHlist[0])\n",
    "adata"
   ]
  },
  {
   "cell_type": "markdown",
   "id": "44e868b3-0771-4225-bd79-a4b179bc672b",
   "metadata": {
    "papermill": {
     "duration": 0.004692,
     "end_time": "2024-06-30T21:00:19.158982",
     "exception": false,
     "start_time": "2024-06-30T21:00:19.154290",
     "status": "completed"
    },
    "tags": []
   },
   "source": [
    "#### Generating PSEUDOBULKs"
   ]
  },
  {
   "cell_type": "markdown",
   "id": "97d09fc5-d05c-471e-87fa-fe58ccbe47ac",
   "metadata": {
    "papermill": {
     "duration": 0.004708,
     "end_time": "2024-06-30T21:00:19.168623",
     "exception": false,
     "start_time": "2024-06-30T21:00:19.163915",
     "status": "completed"
    },
    "tags": []
   },
   "source": [
    "**Aggregating cell latent features**"
   ]
  },
  {
   "cell_type": "code",
   "execution_count": 6,
   "id": "81223976-fcf6-4354-8964-b12d76468636",
   "metadata": {
    "execution": {
     "iopub.execute_input": "2024-06-30T21:00:19.178671Z",
     "iopub.status.busy": "2024-06-30T21:00:19.178515Z",
     "iopub.status.idle": "2024-06-30T21:00:19.583047Z",
     "shell.execute_reply": "2024-06-30T21:00:19.582573Z"
    },
    "papermill": {
     "duration": 0.410514,
     "end_time": "2024-06-30T21:00:19.583862",
     "exception": false,
     "start_time": "2024-06-30T21:00:19.173348",
     "status": "completed"
    },
    "tags": []
   },
   "outputs": [
    {
     "data": {
      "text/plain": [
       "AnnData object with n_obs × n_vars = 2112 × 50\n",
       "    obs: 'sampleID', 'Level1', 'disease', 'n_observation'"
      ]
     },
     "execution_count": 6,
     "metadata": {},
     "output_type": "execute_result"
    }
   ],
   "source": [
    "adataPBcell = aggregating_features(Z = adata.X, \n",
    "                             obsDF = adata.obs[['sampleID','Level1','disease']], \n",
    "                             mode = 'mean', \n",
    "                             obs_names_col=['sampleID','Level1'], \n",
    "                             min_observation=0)\n",
    "adataPBcell"
   ]
  },
  {
   "cell_type": "code",
   "execution_count": null,
   "id": "8495038e-aebd-4003-bd94-c1e49f47249e",
   "metadata": {
    "papermill": {
     "duration": 0.004899,
     "end_time": "2024-06-30T21:00:19.595541",
     "exception": false,
     "start_time": "2024-06-30T21:00:19.590642",
     "status": "completed"
    },
    "tags": []
   },
   "outputs": [],
   "source": []
  },
  {
   "cell_type": "markdown",
   "id": "6d602bad-4793-4aa4-b3d7-d118d413a0fc",
   "metadata": {
    "papermill": {
     "duration": 0.004658,
     "end_time": "2024-06-30T21:00:19.605535",
     "exception": false,
     "start_time": "2024-06-30T21:00:19.600877",
     "status": "completed"
    },
    "tags": []
   },
   "source": [
    "**Extracting sample embedding**"
   ]
  },
  {
   "cell_type": "code",
   "execution_count": 7,
   "id": "e2c14f02",
   "metadata": {
    "execution": {
     "iopub.execute_input": "2024-06-30T21:00:19.615714Z",
     "iopub.status.busy": "2024-06-30T21:00:19.615552Z",
     "iopub.status.idle": "2024-06-30T21:00:19.623913Z",
     "shell.execute_reply": "2024-06-30T21:00:19.623541Z"
    },
    "papermill": {
     "duration": 0.014478,
     "end_time": "2024-06-30T21:00:19.624698",
     "exception": false,
     "start_time": "2024-06-30T21:00:19.610220",
     "status": "completed"
    },
    "tags": []
   },
   "outputs": [
    {
     "data": {
      "text/plain": [
       "AnnData object with n_obs × n_vars = 144 × 100\n",
       "    obs: 'sampleID', 'disease', 'Level1'"
      ]
     },
     "execution_count": 7,
     "metadata": {},
     "output_type": "execute_result"
    }
   ],
   "source": [
    "adataPBsample = adata.uns['sampleID'].copy()\n",
    "adataPBsample.obs['sampleID'] = adataPBsample.obs.index\n",
    "adataPBsample = adataPBsample[adataPBsample.obs['sampleID'].isin(adataPBcell.obs['sampleID'])]\n",
    "\n",
    "adataPBsample.obs = adataPBsample.obs.merge(adataPBcell.obs.groupby('sampleID').agg({'disease':'first'}), left_index=True, right_index=True)\n",
    "adataPBsample.obs['Level1'] = 'sample'\n",
    "adataPBsample"
   ]
  },
  {
   "cell_type": "markdown",
   "id": "2d4fe137-7d68-4e86-a85c-3c1a3d3c4c71",
   "metadata": {
    "papermill": {
     "duration": 0.005081,
     "end_time": "2024-06-30T21:00:19.634708",
     "exception": false,
     "start_time": "2024-06-30T21:00:19.629627",
     "status": "completed"
    },
    "tags": []
   },
   "source": [
    "**Merging cell and patient latent features**"
   ]
  },
  {
   "cell_type": "code",
   "execution_count": 8,
   "id": "a326d2b1",
   "metadata": {
    "execution": {
     "iopub.execute_input": "2024-06-30T21:00:19.645162Z",
     "iopub.status.busy": "2024-06-30T21:00:19.644887Z",
     "iopub.status.idle": "2024-06-30T21:00:19.647305Z",
     "shell.execute_reply": "2024-06-30T21:00:19.646916Z"
    },
    "papermill": {
     "duration": 0.008473,
     "end_time": "2024-06-30T21:00:19.648068",
     "exception": false,
     "start_time": "2024-06-30T21:00:19.639595",
     "status": "completed"
    },
    "tags": []
   },
   "outputs": [],
   "source": [
    "PBcellDF = adataPBcell.to_df()\n",
    "PBcellDF['sampleID'] = adataPBcell.obs['sampleID']"
   ]
  },
  {
   "cell_type": "code",
   "execution_count": 9,
   "id": "1a597f46-d9c5-403b-b81e-5738ca206682",
   "metadata": {
    "execution": {
     "iopub.execute_input": "2024-06-30T21:00:19.658611Z",
     "iopub.status.busy": "2024-06-30T21:00:19.658214Z",
     "iopub.status.idle": "2024-06-30T21:00:19.660660Z",
     "shell.execute_reply": "2024-06-30T21:00:19.660288Z"
    },
    "papermill": {
     "duration": 0.008436,
     "end_time": "2024-06-30T21:00:19.661420",
     "exception": false,
     "start_time": "2024-06-30T21:00:19.652984",
     "status": "completed"
    },
    "tags": []
   },
   "outputs": [],
   "source": [
    "PBsampleDF = adataPBsample.to_df()\n",
    "PBsampleDF['sampleID'] = adataPBsample.obs['sampleID']"
   ]
  },
  {
   "cell_type": "code",
   "execution_count": 10,
   "id": "bb384751-fe1b-4635-a90d-fd98ae61b173",
   "metadata": {
    "execution": {
     "iopub.execute_input": "2024-06-30T21:00:19.672551Z",
     "iopub.status.busy": "2024-06-30T21:00:19.672101Z",
     "iopub.status.idle": "2024-06-30T21:00:19.676735Z",
     "shell.execute_reply": "2024-06-30T21:00:19.676362Z"
    },
    "papermill": {
     "duration": 0.010964,
     "end_time": "2024-06-30T21:00:19.677501",
     "exception": false,
     "start_time": "2024-06-30T21:00:19.666537",
     "status": "completed"
    },
    "tags": []
   },
   "outputs": [],
   "source": [
    "PBcell_sampleDF = PBcellDF.merge(PBsampleDF, on='sampleID', how='left')"
   ]
  },
  {
   "cell_type": "code",
   "execution_count": 11,
   "id": "f7250713-e24d-4614-9cbd-eed702340640",
   "metadata": {
    "execution": {
     "iopub.execute_input": "2024-06-30T21:00:19.688288Z",
     "iopub.status.busy": "2024-06-30T21:00:19.687997Z",
     "iopub.status.idle": "2024-06-30T21:00:19.690388Z",
     "shell.execute_reply": "2024-06-30T21:00:19.689999Z"
    },
    "papermill": {
     "duration": 0.008681,
     "end_time": "2024-06-30T21:00:19.691144",
     "exception": false,
     "start_time": "2024-06-30T21:00:19.682463",
     "status": "completed"
    },
    "tags": []
   },
   "outputs": [],
   "source": [
    "assert(adataPBcell.obs['sampleID'].tolist() == PBcell_sampleDF['sampleID'].tolist())"
   ]
  },
  {
   "cell_type": "code",
   "execution_count": 12,
   "id": "abea2252-6a12-4b89-9f0d-6d6df90064fb",
   "metadata": {
    "execution": {
     "iopub.execute_input": "2024-06-30T21:00:19.702015Z",
     "iopub.status.busy": "2024-06-30T21:00:19.701745Z",
     "iopub.status.idle": "2024-06-30T21:00:19.704260Z",
     "shell.execute_reply": "2024-06-30T21:00:19.703871Z"
    },
    "papermill": {
     "duration": 0.008729,
     "end_time": "2024-06-30T21:00:19.705021",
     "exception": false,
     "start_time": "2024-06-30T21:00:19.696292",
     "status": "completed"
    },
    "tags": []
   },
   "outputs": [],
   "source": [
    "PBcell_sampleDF.drop('sampleID', axis=1, inplace=True)"
   ]
  },
  {
   "cell_type": "code",
   "execution_count": 13,
   "id": "5502e45d-5c72-4440-a8c1-5b299cac6e2d",
   "metadata": {
    "execution": {
     "iopub.execute_input": "2024-06-30T21:00:19.716053Z",
     "iopub.status.busy": "2024-06-30T21:00:19.715772Z",
     "iopub.status.idle": "2024-06-30T21:00:19.719412Z",
     "shell.execute_reply": "2024-06-30T21:00:19.719047Z"
    },
    "papermill": {
     "duration": 0.010155,
     "end_time": "2024-06-30T21:00:19.720176",
     "exception": false,
     "start_time": "2024-06-30T21:00:19.710021",
     "status": "completed"
    },
    "tags": []
   },
   "outputs": [
    {
     "data": {
      "text/plain": [
       "AnnData object with n_obs × n_vars = 2112 × 150\n",
       "    obs: 'sampleID', 'Level1', 'disease', 'n_observation'"
      ]
     },
     "execution_count": 13,
     "metadata": {},
     "output_type": "execute_result"
    }
   ],
   "source": [
    "adataPBcell_sample = sc.AnnData(X = PBcell_sampleDF, obs = adataPBcell.obs)\n",
    "adataPBcell_sample"
   ]
  },
  {
   "cell_type": "markdown",
   "id": "d59574be-684b-4082-b8b6-7d11930362ad",
   "metadata": {
    "papermill": {
     "duration": 0.005866,
     "end_time": "2024-06-30T21:00:19.731455",
     "exception": false,
     "start_time": "2024-06-30T21:00:19.725589",
     "status": "completed"
    },
    "tags": []
   },
   "source": [
    "### Saving pseudobulk adata objects"
   ]
  },
  {
   "cell_type": "code",
   "execution_count": 14,
   "id": "5947e6f8-ac27-4702-ba5d-aa9e1ba79f6a",
   "metadata": {
    "execution": {
     "iopub.execute_input": "2024-06-30T21:00:19.742703Z",
     "iopub.status.busy": "2024-06-30T21:00:19.742381Z",
     "iopub.status.idle": "2024-06-30T21:00:19.782199Z",
     "shell.execute_reply": "2024-06-30T21:00:19.781786Z"
    },
    "papermill": {
     "duration": 0.046587,
     "end_time": "2024-06-30T21:00:19.783375",
     "exception": false,
     "start_time": "2024-06-30T21:00:19.736788",
     "status": "completed"
    },
    "tags": []
   },
   "outputs": [],
   "source": [
    "adataPBcell.write(here(adataPATHlist[0].replace('/scPoli_','/PSEUDOBULKs/scPoli_PSEUDOBULKcell_')), compression='gzip')"
   ]
  },
  {
   "cell_type": "code",
   "execution_count": 15,
   "id": "e9485945-bccf-419a-9420-c1e4f3aa262d",
   "metadata": {
    "execution": {
     "iopub.execute_input": "2024-06-30T21:00:19.794413Z",
     "iopub.status.busy": "2024-06-30T21:00:19.794048Z",
     "iopub.status.idle": "2024-06-30T21:00:19.815457Z",
     "shell.execute_reply": "2024-06-30T21:00:19.815062Z"
    },
    "papermill": {
     "duration": 0.027763,
     "end_time": "2024-06-30T21:00:19.816268",
     "exception": false,
     "start_time": "2024-06-30T21:00:19.788505",
     "status": "completed"
    },
    "tags": []
   },
   "outputs": [],
   "source": [
    "adataPBsample.write(here(adataPATHlist[0].replace('/scPoli_','/PSEUDOBULKs/scPoli_PSEUDOBULKsample_')), compression='gzip')"
   ]
  },
  {
   "cell_type": "code",
   "execution_count": 16,
   "id": "9c2daa40-3279-4b24-8aad-65ee0ba758c8",
   "metadata": {
    "execution": {
     "iopub.execute_input": "2024-06-30T21:00:19.828255Z",
     "iopub.status.busy": "2024-06-30T21:00:19.827659Z",
     "iopub.status.idle": "2024-06-30T21:00:19.873670Z",
     "shell.execute_reply": "2024-06-30T21:00:19.873150Z"
    },
    "papermill": {
     "duration": 0.052771,
     "end_time": "2024-06-30T21:00:19.874459",
     "exception": false,
     "start_time": "2024-06-30T21:00:19.821688",
     "status": "completed"
    },
    "tags": []
   },
   "outputs": [],
   "source": [
    "adataPBcell_sample.write(here(adataPATHlist[0].replace('/scPoli_','/PSEUDOBULKs/scPoli_PSEUDOBULKcellSample_')), compression='gzip')"
   ]
  },
  {
   "cell_type": "code",
   "execution_count": null,
   "id": "8a70d9f6-7a44-45ee-8470-702bd7af1e0b",
   "metadata": {
    "papermill": {
     "duration": 0.005555,
     "end_time": "2024-06-30T21:00:19.885465",
     "exception": false,
     "start_time": "2024-06-30T21:00:19.879910",
     "status": "completed"
    },
    "tags": []
   },
   "outputs": [],
   "source": []
  }
 ],
 "metadata": {
  "kernelspec": {
   "display_name": "Python 3 (ipykernel)",
   "language": "python",
   "name": "python3"
  },
  "language_info": {
   "codemirror_mode": {
    "name": "ipython",
    "version": 3
   },
   "file_extension": ".py",
   "mimetype": "text/x-python",
   "name": "python",
   "nbconvert_exporter": "python",
   "pygments_lexer": "ipython3",
   "version": "3.12.3"
  },
  "papermill": {
   "default_parameters": {},
   "duration": 5.777089,
   "end_time": "2024-06-30T21:00:20.505248",
   "environment_variables": {},
   "exception": null,
   "input_path": "03_generating_PSEUDOBULKs.ipynb",
   "output_path": "executed_notebooks/03_generating_PSEUDOBULKs_scPoli_VALIDATION_2_50_100_run3_tdbh923o.h5ad.ipynb",
   "parameters": {
    "adataPATH": "03_downstream_analysis/08_PatientClassifier/scPoli/results/scPoli_VALIDATION_2_50_100_run3_tdbh923o.h5ad"
   },
   "start_time": "2024-06-30T21:00:14.728159",
   "version": "2.6.0"
  }
 },
 "nbformat": 4,
 "nbformat_minor": 5
}