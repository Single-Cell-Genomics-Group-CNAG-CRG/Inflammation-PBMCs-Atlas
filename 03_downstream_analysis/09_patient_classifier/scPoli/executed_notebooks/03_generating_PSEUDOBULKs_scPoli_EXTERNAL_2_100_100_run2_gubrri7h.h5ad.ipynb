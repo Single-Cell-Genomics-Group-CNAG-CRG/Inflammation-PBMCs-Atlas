{
 "cells": [
  {
   "cell_type": "code",
   "execution_count": 1,
   "id": "7badc3d2",
   "metadata": {
    "execution": {
     "iopub.execute_input": "2024-06-30T20:59:01.200881Z",
     "iopub.status.busy": "2024-06-30T20:59:01.200448Z",
     "iopub.status.idle": "2024-06-30T20:59:01.203403Z",
     "shell.execute_reply": "2024-06-30T20:59:01.203031Z"
    },
    "papermill": {
     "duration": 0.009835,
     "end_time": "2024-06-30T20:59:01.204246",
     "exception": false,
     "start_time": "2024-06-30T20:59:01.194411",
     "status": "completed"
    },
    "tags": [
     "injected-parameters"
    ]
   },
   "outputs": [],
   "source": [
    "# Parameters\n",
    "adataPATH = \"03_downstream_analysis/08_PatientClassifier/scPoli/results/scPoli_EXTERNAL_2_100_100_run2_gubrri7h.h5ad\"\n"
   ]
  },
  {
   "cell_type": "raw",
   "id": "bf9880bd-3aef-477b-807d-37e3c5603037",
   "metadata": {
    "execution": {
     "iopub.execute_input": "2024-06-29T08:23:25.403219Z",
     "iopub.status.busy": "2024-06-29T08:23:25.402857Z",
     "iopub.status.idle": "2024-06-29T08:23:25.406428Z",
     "shell.execute_reply": "2024-06-29T08:23:25.406014Z",
     "shell.execute_reply.started": "2024-06-29T08:23:25.403185Z"
    },
    "papermill": {
     "duration": 0.004688,
     "end_time": "2024-06-30T20:59:01.213734",
     "exception": false,
     "start_time": "2024-06-30T20:59:01.209046",
     "status": "completed"
    },
    "tags": [],
    "vscode": {
     "languageId": "raw"
    }
   },
   "source": [
    "adataMAINpath = '03_downstream_analysis/08_PatientClassifier/scPoli/results/scPoli_2_100_20_*.h5ad'\n",
    "\n",
    "adataVALpath = '03_downstream_analysis/08_PatientClassifier/scPoli/results/scPoli_VALIDATION_2_20_20*.h5ad'\n",
    "adataEXCpath = '03_downstream_analysis/08_PatientClassifier/scPoli/results/scPoli_EXCLUDED_2_100_20_run1_pd5nyb4g.h5ad'\n",
    "adataEXTpath = '03_downstream_analysis/08_PatientClassifier/scPoli/results/scPoli_EXTERNAL_2_100_20_run1_pd5nyb4g.h5ad'\n",
    "\n",
    "adataPATH = adataVALpath"
   ]
  },
  {
   "cell_type": "code",
   "execution_count": 2,
   "id": "d3ccb10a-7201-43d0-a593-2b4650ff3451",
   "metadata": {
    "execution": {
     "iopub.execute_input": "2024-06-30T20:59:01.229053Z",
     "iopub.status.busy": "2024-06-30T20:59:01.228804Z",
     "iopub.status.idle": "2024-06-30T20:59:01.231858Z",
     "shell.execute_reply": "2024-06-30T20:59:01.231342Z"
    },
    "papermill": {
     "duration": 0.009483,
     "end_time": "2024-06-30T20:59:01.232678",
     "exception": false,
     "start_time": "2024-06-30T20:59:01.223195",
     "status": "completed"
    },
    "tags": []
   },
   "outputs": [
    {
     "name": "stdout",
     "output_type": "stream",
     "text": [
      "adataPATH = 03_downstream_analysis/08_PatientClassifier/scPoli/results/scPoli_EXTERNAL_2_100_100_run2_gubrri7h.h5ad\n"
     ]
    }
   ],
   "source": [
    "for v in ['adataPATH']:\n",
    "    if v in locals() or v in globals():\n",
    "        print(f\"{v} = {eval(v)}\")\n",
    "    else:\n",
    "        raise Exception(f\"{v} not specified\")"
   ]
  },
  {
   "cell_type": "code",
   "execution_count": 3,
   "id": "888fb5f4-9ab7-4196-a282-7a7e92a43971",
   "metadata": {
    "execution": {
     "iopub.execute_input": "2024-06-30T20:59:01.251948Z",
     "iopub.status.busy": "2024-06-30T20:59:01.251675Z",
     "iopub.status.idle": "2024-06-30T20:59:02.839907Z",
     "shell.execute_reply": "2024-06-30T20:59:02.839412Z"
    },
    "papermill": {
     "duration": 1.60377,
     "end_time": "2024-06-30T20:59:02.841268",
     "exception": false,
     "start_time": "2024-06-30T20:59:01.237498",
     "status": "completed"
    },
    "tags": []
   },
   "outputs": [],
   "source": [
    "import os\n",
    "import sys\n",
    "from glob import glob\n",
    "\n",
    "import scanpy as sc\n",
    "import pandas as pd\n",
    "\n",
    "from pyprojroot import here\n",
    "\n",
    "sys.path.insert(1, str(here('bin')))\n",
    "# Import custom functions\n",
    "from customPythonFunctions import aggregating_features"
   ]
  },
  {
   "cell_type": "markdown",
   "id": "ba4905ae-4546-4ef4-b57b-950441ab079d",
   "metadata": {
    "papermill": {
     "duration": 0.00471,
     "end_time": "2024-06-30T20:59:02.851191",
     "exception": false,
     "start_time": "2024-06-30T20:59:02.846481",
     "status": "completed"
    },
    "tags": []
   },
   "source": [
    "### Loading data"
   ]
  },
  {
   "cell_type": "code",
   "execution_count": 4,
   "id": "539cbbbb-3503-4f51-bf04-f007f928ebd1",
   "metadata": {
    "execution": {
     "iopub.execute_input": "2024-06-30T20:59:02.862127Z",
     "iopub.status.busy": "2024-06-30T20:59:02.861640Z",
     "iopub.status.idle": "2024-06-30T20:59:02.865336Z",
     "shell.execute_reply": "2024-06-30T20:59:02.864952Z"
    },
    "papermill": {
     "duration": 0.009996,
     "end_time": "2024-06-30T20:59:02.866150",
     "exception": false,
     "start_time": "2024-06-30T20:59:02.856154",
     "status": "completed"
    },
    "tags": []
   },
   "outputs": [],
   "source": [
    "adataPATHlist = glob(str(here(adataPATH)))\n",
    "assert(len(adataPATHlist) == 1)"
   ]
  },
  {
   "cell_type": "code",
   "execution_count": 5,
   "id": "0fcfce0a-896b-4dc0-8e5e-46749205c84f",
   "metadata": {
    "execution": {
     "iopub.execute_input": "2024-06-30T20:59:02.876313Z",
     "iopub.status.busy": "2024-06-30T20:59:02.875985Z",
     "iopub.status.idle": "2024-06-30T20:59:04.722102Z",
     "shell.execute_reply": "2024-06-30T20:59:04.721648Z"
    },
    "papermill": {
     "duration": 1.852035,
     "end_time": "2024-06-30T20:59:04.722905",
     "exception": false,
     "start_time": "2024-06-30T20:59:02.870870",
     "status": "completed"
    },
    "tags": []
   },
   "outputs": [
    {
     "data": {
      "text/plain": [
       "AnnData object with n_obs × n_vars = 572872 × 100\n",
       "    obs: 'studyID', 'libraryID', 'sampleID', 'chemistry', 'technology', 'disease', 'sex', 'binned_age', 'Level1', 'Level2', 'conditions_combined', 'Level1_unc', 'Level2_unc'\n",
       "    uns: 'chemistry', 'sampleID'"
      ]
     },
     "execution_count": 5,
     "metadata": {},
     "output_type": "execute_result"
    }
   ],
   "source": [
    "adata = sc.read_h5ad(adataPATHlist[0])\n",
    "adata"
   ]
  },
  {
   "cell_type": "markdown",
   "id": "44e868b3-0771-4225-bd79-a4b179bc672b",
   "metadata": {
    "papermill": {
     "duration": 0.004769,
     "end_time": "2024-06-30T20:59:04.732975",
     "exception": false,
     "start_time": "2024-06-30T20:59:04.728206",
     "status": "completed"
    },
    "tags": []
   },
   "source": [
    "#### Generating PSEUDOBULKs"
   ]
  },
  {
   "cell_type": "markdown",
   "id": "97d09fc5-d05c-471e-87fa-fe58ccbe47ac",
   "metadata": {
    "papermill": {
     "duration": 0.005358,
     "end_time": "2024-06-30T20:59:04.743092",
     "exception": false,
     "start_time": "2024-06-30T20:59:04.737734",
     "status": "completed"
    },
    "tags": []
   },
   "source": [
    "**Aggregating cell latent features**"
   ]
  },
  {
   "cell_type": "code",
   "execution_count": 6,
   "id": "81223976-fcf6-4354-8964-b12d76468636",
   "metadata": {
    "execution": {
     "iopub.execute_input": "2024-06-30T20:59:04.758123Z",
     "iopub.status.busy": "2024-06-30T20:59:04.757657Z",
     "iopub.status.idle": "2024-06-30T20:59:05.090866Z",
     "shell.execute_reply": "2024-06-30T20:59:05.090402Z"
    },
    "papermill": {
     "duration": 0.342261,
     "end_time": "2024-06-30T20:59:05.091668",
     "exception": false,
     "start_time": "2024-06-30T20:59:04.749407",
     "status": "completed"
    },
    "tags": []
   },
   "outputs": [
    {
     "data": {
      "text/plain": [
       "AnnData object with n_obs × n_vars = 1269 × 100\n",
       "    obs: 'sampleID', 'Level1', 'disease', 'n_observation'"
      ]
     },
     "execution_count": 6,
     "metadata": {},
     "output_type": "execute_result"
    }
   ],
   "source": [
    "adataPBcell = aggregating_features(Z = adata.X, \n",
    "                             obsDF = adata.obs[['sampleID','Level1','disease']], \n",
    "                             mode = 'mean', \n",
    "                             obs_names_col=['sampleID','Level1'], \n",
    "                             min_observation=0)\n",
    "adataPBcell"
   ]
  },
  {
   "cell_type": "code",
   "execution_count": null,
   "id": "8495038e-aebd-4003-bd94-c1e49f47249e",
   "metadata": {
    "papermill": {
     "duration": 0.004805,
     "end_time": "2024-06-30T20:59:05.101565",
     "exception": false,
     "start_time": "2024-06-30T20:59:05.096760",
     "status": "completed"
    },
    "tags": []
   },
   "outputs": [],
   "source": []
  },
  {
   "cell_type": "markdown",
   "id": "6d602bad-4793-4aa4-b3d7-d118d413a0fc",
   "metadata": {
    "papermill": {
     "duration": 0.004703,
     "end_time": "2024-06-30T20:59:05.111688",
     "exception": false,
     "start_time": "2024-06-30T20:59:05.106985",
     "status": "completed"
    },
    "tags": []
   },
   "source": [
    "**Extracting sample embedding**"
   ]
  },
  {
   "cell_type": "code",
   "execution_count": 7,
   "id": "e2c14f02",
   "metadata": {
    "execution": {
     "iopub.execute_input": "2024-06-30T20:59:05.122532Z",
     "iopub.status.busy": "2024-06-30T20:59:05.122379Z",
     "iopub.status.idle": "2024-06-30T20:59:05.130447Z",
     "shell.execute_reply": "2024-06-30T20:59:05.130070Z"
    },
    "papermill": {
     "duration": 0.014784,
     "end_time": "2024-06-30T20:59:05.131208",
     "exception": false,
     "start_time": "2024-06-30T20:59:05.116424",
     "status": "completed"
    },
    "tags": []
   },
   "outputs": [
    {
     "data": {
      "text/plain": [
       "AnnData object with n_obs × n_vars = 86 × 100\n",
       "    obs: 'sampleID', 'disease', 'Level1'"
      ]
     },
     "execution_count": 7,
     "metadata": {},
     "output_type": "execute_result"
    }
   ],
   "source": [
    "adataPBsample = adata.uns['sampleID'].copy()\n",
    "adataPBsample.obs['sampleID'] = adataPBsample.obs.index\n",
    "adataPBsample = adataPBsample[adataPBsample.obs['sampleID'].isin(adataPBcell.obs['sampleID'])]\n",
    "\n",
    "adataPBsample.obs = adataPBsample.obs.merge(adataPBcell.obs.groupby('sampleID').agg({'disease':'first'}), left_index=True, right_index=True)\n",
    "adataPBsample.obs['Level1'] = 'sample'\n",
    "adataPBsample"
   ]
  },
  {
   "cell_type": "markdown",
   "id": "2d4fe137-7d68-4e86-a85c-3c1a3d3c4c71",
   "metadata": {
    "papermill": {
     "duration": 0.008151,
     "end_time": "2024-06-30T20:59:05.144447",
     "exception": false,
     "start_time": "2024-06-30T20:59:05.136296",
     "status": "completed"
    },
    "tags": []
   },
   "source": [
    "**Merging cell and patient latent features**"
   ]
  },
  {
   "cell_type": "code",
   "execution_count": 8,
   "id": "a326d2b1",
   "metadata": {
    "execution": {
     "iopub.execute_input": "2024-06-30T20:59:05.155478Z",
     "iopub.status.busy": "2024-06-30T20:59:05.155179Z",
     "iopub.status.idle": "2024-06-30T20:59:05.157608Z",
     "shell.execute_reply": "2024-06-30T20:59:05.157233Z"
    },
    "papermill": {
     "duration": 0.008508,
     "end_time": "2024-06-30T20:59:05.158374",
     "exception": false,
     "start_time": "2024-06-30T20:59:05.149866",
     "status": "completed"
    },
    "tags": []
   },
   "outputs": [],
   "source": [
    "PBcellDF = adataPBcell.to_df()\n",
    "PBcellDF['sampleID'] = adataPBcell.obs['sampleID']"
   ]
  },
  {
   "cell_type": "code",
   "execution_count": 9,
   "id": "1a597f46-d9c5-403b-b81e-5738ca206682",
   "metadata": {
    "execution": {
     "iopub.execute_input": "2024-06-30T20:59:05.169071Z",
     "iopub.status.busy": "2024-06-30T20:59:05.168641Z",
     "iopub.status.idle": "2024-06-30T20:59:05.171325Z",
     "shell.execute_reply": "2024-06-30T20:59:05.170959Z"
    },
    "papermill": {
     "duration": 0.00889,
     "end_time": "2024-06-30T20:59:05.172119",
     "exception": false,
     "start_time": "2024-06-30T20:59:05.163229",
     "status": "completed"
    },
    "tags": []
   },
   "outputs": [],
   "source": [
    "PBsampleDF = adataPBsample.to_df()\n",
    "PBsampleDF['sampleID'] = adataPBsample.obs['sampleID']"
   ]
  },
  {
   "cell_type": "code",
   "execution_count": 10,
   "id": "bb384751-fe1b-4635-a90d-fd98ae61b173",
   "metadata": {
    "execution": {
     "iopub.execute_input": "2024-06-30T20:59:05.183730Z",
     "iopub.status.busy": "2024-06-30T20:59:05.183374Z",
     "iopub.status.idle": "2024-06-30T20:59:05.187600Z",
     "shell.execute_reply": "2024-06-30T20:59:05.187234Z"
    },
    "papermill": {
     "duration": 0.010608,
     "end_time": "2024-06-30T20:59:05.188413",
     "exception": false,
     "start_time": "2024-06-30T20:59:05.177805",
     "status": "completed"
    },
    "tags": []
   },
   "outputs": [],
   "source": [
    "PBcell_sampleDF = PBcellDF.merge(PBsampleDF, on='sampleID', how='left')"
   ]
  },
  {
   "cell_type": "code",
   "execution_count": 11,
   "id": "f7250713-e24d-4614-9cbd-eed702340640",
   "metadata": {
    "execution": {
     "iopub.execute_input": "2024-06-30T20:59:05.199155Z",
     "iopub.status.busy": "2024-06-30T20:59:05.198834Z",
     "iopub.status.idle": "2024-06-30T20:59:05.201141Z",
     "shell.execute_reply": "2024-06-30T20:59:05.200779Z"
    },
    "papermill": {
     "duration": 0.008416,
     "end_time": "2024-06-30T20:59:05.201896",
     "exception": false,
     "start_time": "2024-06-30T20:59:05.193480",
     "status": "completed"
    },
    "tags": []
   },
   "outputs": [],
   "source": [
    "assert(adataPBcell.obs['sampleID'].tolist() == PBcell_sampleDF['sampleID'].tolist())"
   ]
  },
  {
   "cell_type": "code",
   "execution_count": 12,
   "id": "abea2252-6a12-4b89-9f0d-6d6df90064fb",
   "metadata": {
    "execution": {
     "iopub.execute_input": "2024-06-30T20:59:05.213496Z",
     "iopub.status.busy": "2024-06-30T20:59:05.213153Z",
     "iopub.status.idle": "2024-06-30T20:59:05.215693Z",
     "shell.execute_reply": "2024-06-30T20:59:05.215327Z"
    },
    "papermill": {
     "duration": 0.008826,
     "end_time": "2024-06-30T20:59:05.216452",
     "exception": false,
     "start_time": "2024-06-30T20:59:05.207626",
     "status": "completed"
    },
    "tags": []
   },
   "outputs": [],
   "source": [
    "PBcell_sampleDF.drop('sampleID', axis=1, inplace=True)"
   ]
  },
  {
   "cell_type": "code",
   "execution_count": 13,
   "id": "5502e45d-5c72-4440-a8c1-5b299cac6e2d",
   "metadata": {
    "execution": {
     "iopub.execute_input": "2024-06-30T20:59:05.227824Z",
     "iopub.status.busy": "2024-06-30T20:59:05.227557Z",
     "iopub.status.idle": "2024-06-30T20:59:05.231042Z",
     "shell.execute_reply": "2024-06-30T20:59:05.230677Z"
    },
    "papermill": {
     "duration": 0.009942,
     "end_time": "2024-06-30T20:59:05.231808",
     "exception": false,
     "start_time": "2024-06-30T20:59:05.221866",
     "status": "completed"
    },
    "tags": []
   },
   "outputs": [
    {
     "data": {
      "text/plain": [
       "AnnData object with n_obs × n_vars = 1269 × 200\n",
       "    obs: 'sampleID', 'Level1', 'disease', 'n_observation'"
      ]
     },
     "execution_count": 13,
     "metadata": {},
     "output_type": "execute_result"
    }
   ],
   "source": [
    "adataPBcell_sample = sc.AnnData(X = PBcell_sampleDF, obs = adataPBcell.obs)\n",
    "adataPBcell_sample"
   ]
  },
  {
   "cell_type": "markdown",
   "id": "d59574be-684b-4082-b8b6-7d11930362ad",
   "metadata": {
    "papermill": {
     "duration": 0.007042,
     "end_time": "2024-06-30T20:59:05.246433",
     "exception": false,
     "start_time": "2024-06-30T20:59:05.239391",
     "status": "completed"
    },
    "tags": []
   },
   "source": [
    "### Saving pseudobulk adata objects"
   ]
  },
  {
   "cell_type": "code",
   "execution_count": 14,
   "id": "5947e6f8-ac27-4702-ba5d-aa9e1ba79f6a",
   "metadata": {
    "execution": {
     "iopub.execute_input": "2024-06-30T20:59:05.258214Z",
     "iopub.status.busy": "2024-06-30T20:59:05.257941Z",
     "iopub.status.idle": "2024-06-30T20:59:05.298331Z",
     "shell.execute_reply": "2024-06-30T20:59:05.297905Z"
    },
    "papermill": {
     "duration": 0.046905,
     "end_time": "2024-06-30T20:59:05.299150",
     "exception": false,
     "start_time": "2024-06-30T20:59:05.252245",
     "status": "completed"
    },
    "tags": []
   },
   "outputs": [],
   "source": [
    "adataPBcell.write(here(adataPATHlist[0].replace('/scPoli_','/PSEUDOBULKs/scPoli_PSEUDOBULKcell_')), compression='gzip')"
   ]
  },
  {
   "cell_type": "code",
   "execution_count": 15,
   "id": "e9485945-bccf-419a-9420-c1e4f3aa262d",
   "metadata": {
    "execution": {
     "iopub.execute_input": "2024-06-30T20:59:05.310481Z",
     "iopub.status.busy": "2024-06-30T20:59:05.310145Z",
     "iopub.status.idle": "2024-06-30T20:59:05.330579Z",
     "shell.execute_reply": "2024-06-30T20:59:05.330208Z"
    },
    "papermill": {
     "duration": 0.026888,
     "end_time": "2024-06-30T20:59:05.331382",
     "exception": false,
     "start_time": "2024-06-30T20:59:05.304494",
     "status": "completed"
    },
    "tags": []
   },
   "outputs": [],
   "source": [
    "adataPBsample.write(here(adataPATHlist[0].replace('/scPoli_','/PSEUDOBULKs/scPoli_PSEUDOBULKsample_')), compression='gzip')"
   ]
  },
  {
   "cell_type": "code",
   "execution_count": 16,
   "id": "9c2daa40-3279-4b24-8aad-65ee0ba758c8",
   "metadata": {
    "execution": {
     "iopub.execute_input": "2024-06-30T20:59:05.346080Z",
     "iopub.status.busy": "2024-06-30T20:59:05.345823Z",
     "iopub.status.idle": "2024-06-30T20:59:05.389096Z",
     "shell.execute_reply": "2024-06-30T20:59:05.388703Z"
    },
    "papermill": {
     "duration": 0.049917,
     "end_time": "2024-06-30T20:59:05.389915",
     "exception": false,
     "start_time": "2024-06-30T20:59:05.339998",
     "status": "completed"
    },
    "tags": []
   },
   "outputs": [],
   "source": [
    "adataPBcell_sample.write(here(adataPATHlist[0].replace('/scPoli_','/PSEUDOBULKs/scPoli_PSEUDOBULKcellSample_')), compression='gzip')"
   ]
  },
  {
   "cell_type": "code",
   "execution_count": null,
   "id": "8a70d9f6-7a44-45ee-8470-702bd7af1e0b",
   "metadata": {
    "papermill": {
     "duration": 0.005604,
     "end_time": "2024-06-30T20:59:05.401015",
     "exception": false,
     "start_time": "2024-06-30T20:59:05.395411",
     "status": "completed"
    },
    "tags": []
   },
   "outputs": [],
   "source": []
  }
 ],
 "metadata": {
  "kernelspec": {
   "display_name": "Python 3 (ipykernel)",
   "language": "python",
   "name": "python3"
  },
  "language_info": {
   "codemirror_mode": {
    "name": "ipython",
    "version": 3
   },
   "file_extension": ".py",
   "mimetype": "text/x-python",
   "name": "python",
   "nbconvert_exporter": "python",
   "pygments_lexer": "ipython3",
   "version": "3.12.3"
  },
  "papermill": {
   "default_parameters": {},
   "duration": 5.847136,
   "end_time": "2024-06-30T20:59:05.920683",
   "environment_variables": {},
   "exception": null,
   "input_path": "03_generating_PSEUDOBULKs.ipynb",
   "output_path": "executed_notebooks/03_generating_PSEUDOBULKs_scPoli_EXTERNAL_2_100_100_run2_gubrri7h.h5ad.ipynb",
   "parameters": {
    "adataPATH": "03_downstream_analysis/08_PatientClassifier/scPoli/results/scPoli_EXTERNAL_2_100_100_run2_gubrri7h.h5ad"
   },
   "start_time": "2024-06-30T20:59:00.073547",
   "version": "2.6.0"
  }
 },
 "nbformat": 4,
 "nbformat_minor": 5
}