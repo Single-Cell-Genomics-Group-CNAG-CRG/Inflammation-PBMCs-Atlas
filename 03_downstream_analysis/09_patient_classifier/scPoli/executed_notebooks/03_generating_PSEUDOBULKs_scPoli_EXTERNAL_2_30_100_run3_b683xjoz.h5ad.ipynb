{
 "cells": [
  {
   "cell_type": "code",
   "execution_count": 1,
   "id": "54baa452",
   "metadata": {
    "execution": {
     "iopub.execute_input": "2024-06-30T21:01:02.353418Z",
     "iopub.status.busy": "2024-06-30T21:01:02.353236Z",
     "iopub.status.idle": "2024-06-30T21:01:02.355757Z",
     "shell.execute_reply": "2024-06-30T21:01:02.355402Z"
    },
    "papermill": {
     "duration": 0.009775,
     "end_time": "2024-06-30T21:01:02.356572",
     "exception": false,
     "start_time": "2024-06-30T21:01:02.346797",
     "status": "completed"
    },
    "tags": [
     "injected-parameters"
    ]
   },
   "outputs": [],
   "source": [
    "# Parameters\n",
    "adataPATH = \"03_downstream_analysis/08_PatientClassifier/scPoli/results/scPoli_EXTERNAL_2_30_100_run3_b683xjoz.h5ad\"\n"
   ]
  },
  {
   "cell_type": "raw",
   "id": "bf9880bd-3aef-477b-807d-37e3c5603037",
   "metadata": {
    "execution": {
     "iopub.execute_input": "2024-06-29T08:23:25.403219Z",
     "iopub.status.busy": "2024-06-29T08:23:25.402857Z",
     "iopub.status.idle": "2024-06-29T08:23:25.406428Z",
     "shell.execute_reply": "2024-06-29T08:23:25.406014Z",
     "shell.execute_reply.started": "2024-06-29T08:23:25.403185Z"
    },
    "papermill": {
     "duration": 0.004703,
     "end_time": "2024-06-30T21:01:02.366279",
     "exception": false,
     "start_time": "2024-06-30T21:01:02.361576",
     "status": "completed"
    },
    "tags": [],
    "vscode": {
     "languageId": "raw"
    }
   },
   "source": [
    "adataMAINpath = '03_downstream_analysis/08_PatientClassifier/scPoli/results/scPoli_2_100_20_*.h5ad'\n",
    "\n",
    "adataVALpath = '03_downstream_analysis/08_PatientClassifier/scPoli/results/scPoli_VALIDATION_2_20_20*.h5ad'\n",
    "adataEXCpath = '03_downstream_analysis/08_PatientClassifier/scPoli/results/scPoli_EXCLUDED_2_100_20_run1_pd5nyb4g.h5ad'\n",
    "adataEXTpath = '03_downstream_analysis/08_PatientClassifier/scPoli/results/scPoli_EXTERNAL_2_100_20_run1_pd5nyb4g.h5ad'\n",
    "\n",
    "adataPATH = adataVALpath"
   ]
  },
  {
   "cell_type": "code",
   "execution_count": 2,
   "id": "d3ccb10a-7201-43d0-a593-2b4650ff3451",
   "metadata": {
    "execution": {
     "iopub.execute_input": "2024-06-30T21:01:02.376110Z",
     "iopub.status.busy": "2024-06-30T21:01:02.375817Z",
     "iopub.status.idle": "2024-06-30T21:01:02.378694Z",
     "shell.execute_reply": "2024-06-30T21:01:02.378320Z"
    },
    "papermill": {
     "duration": 0.008569,
     "end_time": "2024-06-30T21:01:02.379477",
     "exception": false,
     "start_time": "2024-06-30T21:01:02.370908",
     "status": "completed"
    },
    "tags": []
   },
   "outputs": [
    {
     "name": "stdout",
     "output_type": "stream",
     "text": [
      "adataPATH = 03_downstream_analysis/08_PatientClassifier/scPoli/results/scPoli_EXTERNAL_2_30_100_run3_b683xjoz.h5ad\n"
     ]
    }
   ],
   "source": [
    "for v in ['adataPATH']:\n",
    "    if v in locals() or v in globals():\n",
    "        print(f\"{v} = {eval(v)}\")\n",
    "    else:\n",
    "        raise Exception(f\"{v} not specified\")"
   ]
  },
  {
   "cell_type": "code",
   "execution_count": 3,
   "id": "888fb5f4-9ab7-4196-a282-7a7e92a43971",
   "metadata": {
    "execution": {
     "iopub.execute_input": "2024-06-30T21:01:02.390046Z",
     "iopub.status.busy": "2024-06-30T21:01:02.389725Z",
     "iopub.status.idle": "2024-06-30T21:01:03.819083Z",
     "shell.execute_reply": "2024-06-30T21:01:03.818592Z"
    },
    "papermill": {
     "duration": 1.436106,
     "end_time": "2024-06-30T21:01:03.820457",
     "exception": false,
     "start_time": "2024-06-30T21:01:02.384351",
     "status": "completed"
    },
    "tags": []
   },
   "outputs": [],
   "source": [
    "import os\n",
    "import sys\n",
    "from glob import glob\n",
    "\n",
    "import scanpy as sc\n",
    "import pandas as pd\n",
    "\n",
    "from pyprojroot import here\n",
    "\n",
    "sys.path.insert(1, str(here('bin')))\n",
    "# Import custom functions\n",
    "from customPythonFunctions import aggregating_features"
   ]
  },
  {
   "cell_type": "markdown",
   "id": "ba4905ae-4546-4ef4-b57b-950441ab079d",
   "metadata": {
    "papermill": {
     "duration": 0.004681,
     "end_time": "2024-06-30T21:01:03.830323",
     "exception": false,
     "start_time": "2024-06-30T21:01:03.825642",
     "status": "completed"
    },
    "tags": []
   },
   "source": [
    "### Loading data"
   ]
  },
  {
   "cell_type": "code",
   "execution_count": 4,
   "id": "539cbbbb-3503-4f51-bf04-f007f928ebd1",
   "metadata": {
    "execution": {
     "iopub.execute_input": "2024-06-30T21:01:03.840447Z",
     "iopub.status.busy": "2024-06-30T21:01:03.840096Z",
     "iopub.status.idle": "2024-06-30T21:01:03.843757Z",
     "shell.execute_reply": "2024-06-30T21:01:03.843390Z"
    },
    "papermill": {
     "duration": 0.009602,
     "end_time": "2024-06-30T21:01:03.844587",
     "exception": false,
     "start_time": "2024-06-30T21:01:03.834985",
     "status": "completed"
    },
    "tags": []
   },
   "outputs": [],
   "source": [
    "adataPATHlist = glob(str(here(adataPATH)))\n",
    "assert(len(adataPATHlist) == 1)"
   ]
  },
  {
   "cell_type": "code",
   "execution_count": 5,
   "id": "0fcfce0a-896b-4dc0-8e5e-46749205c84f",
   "metadata": {
    "execution": {
     "iopub.execute_input": "2024-06-30T21:01:03.854889Z",
     "iopub.status.busy": "2024-06-30T21:01:03.854530Z",
     "iopub.status.idle": "2024-06-30T21:01:04.826632Z",
     "shell.execute_reply": "2024-06-30T21:01:04.826187Z"
    },
    "papermill": {
     "duration": 0.97794,
     "end_time": "2024-06-30T21:01:04.827447",
     "exception": false,
     "start_time": "2024-06-30T21:01:03.849507",
     "status": "completed"
    },
    "tags": []
   },
   "outputs": [
    {
     "data": {
      "text/plain": [
       "AnnData object with n_obs × n_vars = 572872 × 30\n",
       "    obs: 'studyID', 'libraryID', 'sampleID', 'chemistry', 'technology', 'disease', 'sex', 'binned_age', 'Level1', 'Level2', 'conditions_combined', 'Level1_unc', 'Level2_unc'\n",
       "    uns: 'chemistry', 'sampleID'"
      ]
     },
     "execution_count": 5,
     "metadata": {},
     "output_type": "execute_result"
    }
   ],
   "source": [
    "adata = sc.read_h5ad(adataPATHlist[0])\n",
    "adata"
   ]
  },
  {
   "cell_type": "markdown",
   "id": "44e868b3-0771-4225-bd79-a4b179bc672b",
   "metadata": {
    "papermill": {
     "duration": 0.004585,
     "end_time": "2024-06-30T21:01:04.837159",
     "exception": false,
     "start_time": "2024-06-30T21:01:04.832574",
     "status": "completed"
    },
    "tags": []
   },
   "source": [
    "#### Generating PSEUDOBULKs"
   ]
  },
  {
   "cell_type": "markdown",
   "id": "97d09fc5-d05c-471e-87fa-fe58ccbe47ac",
   "metadata": {
    "papermill": {
     "duration": 0.004707,
     "end_time": "2024-06-30T21:01:04.846444",
     "exception": false,
     "start_time": "2024-06-30T21:01:04.841737",
     "status": "completed"
    },
    "tags": []
   },
   "source": [
    "**Aggregating cell latent features**"
   ]
  },
  {
   "cell_type": "code",
   "execution_count": 6,
   "id": "81223976-fcf6-4354-8964-b12d76468636",
   "metadata": {
    "execution": {
     "iopub.execute_input": "2024-06-30T21:01:04.856816Z",
     "iopub.status.busy": "2024-06-30T21:01:04.856502Z",
     "iopub.status.idle": "2024-06-30T21:01:05.100167Z",
     "shell.execute_reply": "2024-06-30T21:01:05.099721Z"
    },
    "papermill": {
     "duration": 0.249872,
     "end_time": "2024-06-30T21:01:05.100985",
     "exception": false,
     "start_time": "2024-06-30T21:01:04.851113",
     "status": "completed"
    },
    "tags": []
   },
   "outputs": [
    {
     "data": {
      "text/plain": [
       "AnnData object with n_obs × n_vars = 1268 × 30\n",
       "    obs: 'sampleID', 'Level1', 'disease', 'n_observation'"
      ]
     },
     "execution_count": 6,
     "metadata": {},
     "output_type": "execute_result"
    }
   ],
   "source": [
    "adataPBcell = aggregating_features(Z = adata.X, \n",
    "                             obsDF = adata.obs[['sampleID','Level1','disease']], \n",
    "                             mode = 'mean', \n",
    "                             obs_names_col=['sampleID','Level1'], \n",
    "                             min_observation=0)\n",
    "adataPBcell"
   ]
  },
  {
   "cell_type": "code",
   "execution_count": null,
   "id": "8495038e-aebd-4003-bd94-c1e49f47249e",
   "metadata": {
    "papermill": {
     "duration": 0.004731,
     "end_time": "2024-06-30T21:01:05.110633",
     "exception": false,
     "start_time": "2024-06-30T21:01:05.105902",
     "status": "completed"
    },
    "tags": []
   },
   "outputs": [],
   "source": []
  },
  {
   "cell_type": "markdown",
   "id": "6d602bad-4793-4aa4-b3d7-d118d413a0fc",
   "metadata": {
    "papermill": {
     "duration": 0.0048,
     "end_time": "2024-06-30T21:01:05.120679",
     "exception": false,
     "start_time": "2024-06-30T21:01:05.115879",
     "status": "completed"
    },
    "tags": []
   },
   "source": [
    "**Extracting sample embedding**"
   ]
  },
  {
   "cell_type": "code",
   "execution_count": 7,
   "id": "e2c14f02",
   "metadata": {
    "execution": {
     "iopub.execute_input": "2024-06-30T21:01:05.131088Z",
     "iopub.status.busy": "2024-06-30T21:01:05.130795Z",
     "iopub.status.idle": "2024-06-30T21:01:05.138751Z",
     "shell.execute_reply": "2024-06-30T21:01:05.138400Z"
    },
    "papermill": {
     "duration": 0.014012,
     "end_time": "2024-06-30T21:01:05.139530",
     "exception": false,
     "start_time": "2024-06-30T21:01:05.125518",
     "status": "completed"
    },
    "tags": []
   },
   "outputs": [
    {
     "data": {
      "text/plain": [
       "AnnData object with n_obs × n_vars = 86 × 100\n",
       "    obs: 'sampleID', 'disease', 'Level1'"
      ]
     },
     "execution_count": 7,
     "metadata": {},
     "output_type": "execute_result"
    }
   ],
   "source": [
    "adataPBsample = adata.uns['sampleID'].copy()\n",
    "adataPBsample.obs['sampleID'] = adataPBsample.obs.index\n",
    "adataPBsample = adataPBsample[adataPBsample.obs['sampleID'].isin(adataPBcell.obs['sampleID'])]\n",
    "\n",
    "adataPBsample.obs = adataPBsample.obs.merge(adataPBcell.obs.groupby('sampleID').agg({'disease':'first'}), left_index=True, right_index=True)\n",
    "adataPBsample.obs['Level1'] = 'sample'\n",
    "adataPBsample"
   ]
  },
  {
   "cell_type": "markdown",
   "id": "2d4fe137-7d68-4e86-a85c-3c1a3d3c4c71",
   "metadata": {
    "papermill": {
     "duration": 0.004959,
     "end_time": "2024-06-30T21:01:05.150208",
     "exception": false,
     "start_time": "2024-06-30T21:01:05.145249",
     "status": "completed"
    },
    "tags": []
   },
   "source": [
    "**Merging cell and patient latent features**"
   ]
  },
  {
   "cell_type": "code",
   "execution_count": 8,
   "id": "a326d2b1",
   "metadata": {
    "execution": {
     "iopub.execute_input": "2024-06-30T21:01:05.161271Z",
     "iopub.status.busy": "2024-06-30T21:01:05.160848Z",
     "iopub.status.idle": "2024-06-30T21:01:05.163311Z",
     "shell.execute_reply": "2024-06-30T21:01:05.162947Z"
    },
    "papermill": {
     "duration": 0.008826,
     "end_time": "2024-06-30T21:01:05.164066",
     "exception": false,
     "start_time": "2024-06-30T21:01:05.155240",
     "status": "completed"
    },
    "tags": []
   },
   "outputs": [],
   "source": [
    "PBcellDF = adataPBcell.to_df()\n",
    "PBcellDF['sampleID'] = adataPBcell.obs['sampleID']"
   ]
  },
  {
   "cell_type": "code",
   "execution_count": 9,
   "id": "1a597f46-d9c5-403b-b81e-5738ca206682",
   "metadata": {
    "execution": {
     "iopub.execute_input": "2024-06-30T21:01:05.174785Z",
     "iopub.status.busy": "2024-06-30T21:01:05.174545Z",
     "iopub.status.idle": "2024-06-30T21:01:05.176854Z",
     "shell.execute_reply": "2024-06-30T21:01:05.176501Z"
    },
    "papermill": {
     "duration": 0.008384,
     "end_time": "2024-06-30T21:01:05.177615",
     "exception": false,
     "start_time": "2024-06-30T21:01:05.169231",
     "status": "completed"
    },
    "tags": []
   },
   "outputs": [],
   "source": [
    "PBsampleDF = adataPBsample.to_df()\n",
    "PBsampleDF['sampleID'] = adataPBsample.obs['sampleID']"
   ]
  },
  {
   "cell_type": "code",
   "execution_count": 10,
   "id": "bb384751-fe1b-4635-a90d-fd98ae61b173",
   "metadata": {
    "execution": {
     "iopub.execute_input": "2024-06-30T21:01:05.188563Z",
     "iopub.status.busy": "2024-06-30T21:01:05.188263Z",
     "iopub.status.idle": "2024-06-30T21:01:05.192221Z",
     "shell.execute_reply": "2024-06-30T21:01:05.191858Z"
    },
    "papermill": {
     "duration": 0.010246,
     "end_time": "2024-06-30T21:01:05.192983",
     "exception": false,
     "start_time": "2024-06-30T21:01:05.182737",
     "status": "completed"
    },
    "tags": []
   },
   "outputs": [],
   "source": [
    "PBcell_sampleDF = PBcellDF.merge(PBsampleDF, on='sampleID', how='left')"
   ]
  },
  {
   "cell_type": "code",
   "execution_count": 11,
   "id": "f7250713-e24d-4614-9cbd-eed702340640",
   "metadata": {
    "execution": {
     "iopub.execute_input": "2024-06-30T21:01:05.203664Z",
     "iopub.status.busy": "2024-06-30T21:01:05.203382Z",
     "iopub.status.idle": "2024-06-30T21:01:05.205583Z",
     "shell.execute_reply": "2024-06-30T21:01:05.205231Z"
    },
    "papermill": {
     "duration": 0.008305,
     "end_time": "2024-06-30T21:01:05.206333",
     "exception": false,
     "start_time": "2024-06-30T21:01:05.198028",
     "status": "completed"
    },
    "tags": []
   },
   "outputs": [],
   "source": [
    "assert(adataPBcell.obs['sampleID'].tolist() == PBcell_sampleDF['sampleID'].tolist())"
   ]
  },
  {
   "cell_type": "code",
   "execution_count": 12,
   "id": "abea2252-6a12-4b89-9f0d-6d6df90064fb",
   "metadata": {
    "execution": {
     "iopub.execute_input": "2024-06-30T21:01:05.217087Z",
     "iopub.status.busy": "2024-06-30T21:01:05.216743Z",
     "iopub.status.idle": "2024-06-30T21:01:05.219337Z",
     "shell.execute_reply": "2024-06-30T21:01:05.218973Z"
    },
    "papermill": {
     "duration": 0.008845,
     "end_time": "2024-06-30T21:01:05.220131",
     "exception": false,
     "start_time": "2024-06-30T21:01:05.211286",
     "status": "completed"
    },
    "tags": []
   },
   "outputs": [],
   "source": [
    "PBcell_sampleDF.drop('sampleID', axis=1, inplace=True)"
   ]
  },
  {
   "cell_type": "code",
   "execution_count": 13,
   "id": "5502e45d-5c72-4440-a8c1-5b299cac6e2d",
   "metadata": {
    "execution": {
     "iopub.execute_input": "2024-06-30T21:01:05.231352Z",
     "iopub.status.busy": "2024-06-30T21:01:05.230893Z",
     "iopub.status.idle": "2024-06-30T21:01:05.234561Z",
     "shell.execute_reply": "2024-06-30T21:01:05.234206Z"
    },
    "papermill": {
     "duration": 0.010218,
     "end_time": "2024-06-30T21:01:05.235332",
     "exception": false,
     "start_time": "2024-06-30T21:01:05.225114",
     "status": "completed"
    },
    "tags": []
   },
   "outputs": [
    {
     "data": {
      "text/plain": [
       "AnnData object with n_obs × n_vars = 1268 × 130\n",
       "    obs: 'sampleID', 'Level1', 'disease', 'n_observation'"
      ]
     },
     "execution_count": 13,
     "metadata": {},
     "output_type": "execute_result"
    }
   ],
   "source": [
    "adataPBcell_sample = sc.AnnData(X = PBcell_sampleDF, obs = adataPBcell.obs)\n",
    "adataPBcell_sample"
   ]
  },
  {
   "cell_type": "markdown",
   "id": "d59574be-684b-4082-b8b6-7d11930362ad",
   "metadata": {
    "papermill": {
     "duration": 0.00503,
     "end_time": "2024-06-30T21:01:05.245384",
     "exception": false,
     "start_time": "2024-06-30T21:01:05.240354",
     "status": "completed"
    },
    "tags": []
   },
   "source": [
    "### Saving pseudobulk adata objects"
   ]
  },
  {
   "cell_type": "code",
   "execution_count": 14,
   "id": "5947e6f8-ac27-4702-ba5d-aa9e1ba79f6a",
   "metadata": {
    "execution": {
     "iopub.execute_input": "2024-06-30T21:01:05.256092Z",
     "iopub.status.busy": "2024-06-30T21:01:05.255931Z",
     "iopub.status.idle": "2024-06-30T21:01:05.284560Z",
     "shell.execute_reply": "2024-06-30T21:01:05.284161Z"
    },
    "papermill": {
     "duration": 0.034892,
     "end_time": "2024-06-30T21:01:05.285354",
     "exception": false,
     "start_time": "2024-06-30T21:01:05.250462",
     "status": "completed"
    },
    "tags": []
   },
   "outputs": [],
   "source": [
    "adataPBcell.write(here(adataPATHlist[0].replace('/scPoli_','/PSEUDOBULKs/scPoli_PSEUDOBULKcell_')), compression='gzip')"
   ]
  },
  {
   "cell_type": "code",
   "execution_count": 15,
   "id": "e9485945-bccf-419a-9420-c1e4f3aa262d",
   "metadata": {
    "execution": {
     "iopub.execute_input": "2024-06-30T21:01:05.296474Z",
     "iopub.status.busy": "2024-06-30T21:01:05.296158Z",
     "iopub.status.idle": "2024-06-30T21:01:05.316504Z",
     "shell.execute_reply": "2024-06-30T21:01:05.316131Z"
    },
    "papermill": {
     "duration": 0.026726,
     "end_time": "2024-06-30T21:01:05.317280",
     "exception": false,
     "start_time": "2024-06-30T21:01:05.290554",
     "status": "completed"
    },
    "tags": []
   },
   "outputs": [],
   "source": [
    "adataPBsample.write(here(adataPATHlist[0].replace('/scPoli_','/PSEUDOBULKs/scPoli_PSEUDOBULKsample_')), compression='gzip')"
   ]
  },
  {
   "cell_type": "code",
   "execution_count": 16,
   "id": "9c2daa40-3279-4b24-8aad-65ee0ba758c8",
   "metadata": {
    "execution": {
     "iopub.execute_input": "2024-06-30T21:01:05.328695Z",
     "iopub.status.busy": "2024-06-30T21:01:05.328333Z",
     "iopub.status.idle": "2024-06-30T21:01:05.360534Z",
     "shell.execute_reply": "2024-06-30T21:01:05.360146Z"
    },
    "papermill": {
     "duration": 0.038741,
     "end_time": "2024-06-30T21:01:05.361345",
     "exception": false,
     "start_time": "2024-06-30T21:01:05.322604",
     "status": "completed"
    },
    "tags": []
   },
   "outputs": [],
   "source": [
    "adataPBcell_sample.write(here(adataPATHlist[0].replace('/scPoli_','/PSEUDOBULKs/scPoli_PSEUDOBULKcellSample_')), compression='gzip')"
   ]
  },
  {
   "cell_type": "code",
   "execution_count": null,
   "id": "8a70d9f6-7a44-45ee-8470-702bd7af1e0b",
   "metadata": {
    "papermill": {
     "duration": 0.005265,
     "end_time": "2024-06-30T21:01:05.373709",
     "exception": false,
     "start_time": "2024-06-30T21:01:05.368444",
     "status": "completed"
    },
    "tags": []
   },
   "outputs": [],
   "source": []
  }
 ],
 "metadata": {
  "kernelspec": {
   "display_name": "Python 3 (ipykernel)",
   "language": "python",
   "name": "python3"
  },
  "language_info": {
   "codemirror_mode": {
    "name": "ipython",
    "version": 3
   },
   "file_extension": ".py",
   "mimetype": "text/x-python",
   "name": "python",
   "nbconvert_exporter": "python",
   "pygments_lexer": "ipython3",
   "version": "3.12.3"
  },
  "papermill": {
   "default_parameters": {},
   "duration": 4.851031,
   "end_time": "2024-06-30T21:01:06.094189",
   "environment_variables": {},
   "exception": null,
   "input_path": "03_generating_PSEUDOBULKs.ipynb",
   "output_path": "executed_notebooks/03_generating_PSEUDOBULKs_scPoli_EXTERNAL_2_30_100_run3_b683xjoz.h5ad.ipynb",
   "parameters": {
    "adataPATH": "03_downstream_analysis/08_PatientClassifier/scPoli/results/scPoli_EXTERNAL_2_30_100_run3_b683xjoz.h5ad"
   },
   "start_time": "2024-06-30T21:01:01.243158",
   "version": "2.6.0"
  }
 },
 "nbformat": 4,
 "nbformat_minor": 5
}