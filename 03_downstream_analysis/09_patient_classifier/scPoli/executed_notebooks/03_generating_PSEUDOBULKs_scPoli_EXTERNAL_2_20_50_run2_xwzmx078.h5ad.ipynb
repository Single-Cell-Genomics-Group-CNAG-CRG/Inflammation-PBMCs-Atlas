{
 "cells": [
  {
   "cell_type": "code",
   "execution_count": 1,
   "id": "0489eb4c",
   "metadata": {
    "execution": {
     "iopub.execute_input": "2024-06-30T21:00:09.960333Z",
     "iopub.status.busy": "2024-06-30T21:00:09.959940Z",
     "iopub.status.idle": "2024-06-30T21:00:09.962577Z",
     "shell.execute_reply": "2024-06-30T21:00:09.962219Z"
    },
    "papermill": {
     "duration": 0.009566,
     "end_time": "2024-06-30T21:00:09.963411",
     "exception": false,
     "start_time": "2024-06-30T21:00:09.953845",
     "status": "completed"
    },
    "tags": [
     "injected-parameters"
    ]
   },
   "outputs": [],
   "source": [
    "# Parameters\n",
    "adataPATH = \"03_downstream_analysis/08_PatientClassifier/scPoli/results/scPoli_EXTERNAL_2_20_50_run2_xwzmx078.h5ad\"\n"
   ]
  },
  {
   "cell_type": "raw",
   "id": "bf9880bd-3aef-477b-807d-37e3c5603037",
   "metadata": {
    "execution": {
     "iopub.execute_input": "2024-06-29T08:23:25.403219Z",
     "iopub.status.busy": "2024-06-29T08:23:25.402857Z",
     "iopub.status.idle": "2024-06-29T08:23:25.406428Z",
     "shell.execute_reply": "2024-06-29T08:23:25.406014Z",
     "shell.execute_reply.started": "2024-06-29T08:23:25.403185Z"
    },
    "papermill": {
     "duration": 0.006351,
     "end_time": "2024-06-30T21:00:09.974683",
     "exception": false,
     "start_time": "2024-06-30T21:00:09.968332",
     "status": "completed"
    },
    "tags": [],
    "vscode": {
     "languageId": "raw"
    }
   },
   "source": [
    "adataMAINpath = '03_downstream_analysis/08_PatientClassifier/scPoli/results/scPoli_2_100_20_*.h5ad'\n",
    "\n",
    "adataVALpath = '03_downstream_analysis/08_PatientClassifier/scPoli/results/scPoli_VALIDATION_2_20_20*.h5ad'\n",
    "adataEXCpath = '03_downstream_analysis/08_PatientClassifier/scPoli/results/scPoli_EXCLUDED_2_100_20_run1_pd5nyb4g.h5ad'\n",
    "adataEXTpath = '03_downstream_analysis/08_PatientClassifier/scPoli/results/scPoli_EXTERNAL_2_100_20_run1_pd5nyb4g.h5ad'\n",
    "\n",
    "adataPATH = adataVALpath"
   ]
  },
  {
   "cell_type": "code",
   "execution_count": 2,
   "id": "d3ccb10a-7201-43d0-a593-2b4650ff3451",
   "metadata": {
    "execution": {
     "iopub.execute_input": "2024-06-30T21:00:09.985762Z",
     "iopub.status.busy": "2024-06-30T21:00:09.985262Z",
     "iopub.status.idle": "2024-06-30T21:00:09.988315Z",
     "shell.execute_reply": "2024-06-30T21:00:09.987917Z"
    },
    "papermill": {
     "duration": 0.009391,
     "end_time": "2024-06-30T21:00:09.989123",
     "exception": false,
     "start_time": "2024-06-30T21:00:09.979732",
     "status": "completed"
    },
    "tags": []
   },
   "outputs": [
    {
     "name": "stdout",
     "output_type": "stream",
     "text": [
      "adataPATH = 03_downstream_analysis/08_PatientClassifier/scPoli/results/scPoli_EXTERNAL_2_20_50_run2_xwzmx078.h5ad\n"
     ]
    }
   ],
   "source": [
    "for v in ['adataPATH']:\n",
    "    if v in locals() or v in globals():\n",
    "        print(f\"{v} = {eval(v)}\")\n",
    "    else:\n",
    "        raise Exception(f\"{v} not specified\")"
   ]
  },
  {
   "cell_type": "code",
   "execution_count": 3,
   "id": "888fb5f4-9ab7-4196-a282-7a7e92a43971",
   "metadata": {
    "execution": {
     "iopub.execute_input": "2024-06-30T21:00:10.000039Z",
     "iopub.status.busy": "2024-06-30T21:00:09.999700Z",
     "iopub.status.idle": "2024-06-30T21:00:11.382640Z",
     "shell.execute_reply": "2024-06-30T21:00:11.382154Z"
    },
    "papermill": {
     "duration": 1.389597,
     "end_time": "2024-06-30T21:00:11.383874",
     "exception": false,
     "start_time": "2024-06-30T21:00:09.994277",
     "status": "completed"
    },
    "tags": []
   },
   "outputs": [],
   "source": [
    "import os\n",
    "import sys\n",
    "from glob import glob\n",
    "\n",
    "import scanpy as sc\n",
    "import pandas as pd\n",
    "\n",
    "from pyprojroot import here\n",
    "\n",
    "sys.path.insert(1, str(here('bin')))\n",
    "# Import custom functions\n",
    "from customPythonFunctions import aggregating_features"
   ]
  },
  {
   "cell_type": "markdown",
   "id": "ba4905ae-4546-4ef4-b57b-950441ab079d",
   "metadata": {
    "papermill": {
     "duration": 0.006178,
     "end_time": "2024-06-30T21:00:11.395783",
     "exception": false,
     "start_time": "2024-06-30T21:00:11.389605",
     "status": "completed"
    },
    "tags": []
   },
   "source": [
    "### Loading data"
   ]
  },
  {
   "cell_type": "code",
   "execution_count": 4,
   "id": "539cbbbb-3503-4f51-bf04-f007f928ebd1",
   "metadata": {
    "execution": {
     "iopub.execute_input": "2024-06-30T21:00:11.406453Z",
     "iopub.status.busy": "2024-06-30T21:00:11.406172Z",
     "iopub.status.idle": "2024-06-30T21:00:11.410102Z",
     "shell.execute_reply": "2024-06-30T21:00:11.409736Z"
    },
    "papermill": {
     "duration": 0.010148,
     "end_time": "2024-06-30T21:00:11.410877",
     "exception": false,
     "start_time": "2024-06-30T21:00:11.400729",
     "status": "completed"
    },
    "tags": []
   },
   "outputs": [],
   "source": [
    "adataPATHlist = glob(str(here(adataPATH)))\n",
    "assert(len(adataPATHlist) == 1)"
   ]
  },
  {
   "cell_type": "code",
   "execution_count": 5,
   "id": "0fcfce0a-896b-4dc0-8e5e-46749205c84f",
   "metadata": {
    "execution": {
     "iopub.execute_input": "2024-06-30T21:00:11.422018Z",
     "iopub.status.busy": "2024-06-30T21:00:11.421880Z",
     "iopub.status.idle": "2024-06-30T21:00:12.248169Z",
     "shell.execute_reply": "2024-06-30T21:00:12.247736Z"
    },
    "papermill": {
     "duration": 0.832496,
     "end_time": "2024-06-30T21:00:12.248971",
     "exception": false,
     "start_time": "2024-06-30T21:00:11.416475",
     "status": "completed"
    },
    "tags": []
   },
   "outputs": [
    {
     "data": {
      "text/plain": [
       "AnnData object with n_obs × n_vars = 572872 × 20\n",
       "    obs: 'studyID', 'libraryID', 'sampleID', 'chemistry', 'technology', 'disease', 'sex', 'binned_age', 'Level1', 'Level2', 'conditions_combined', 'Level1_unc', 'Level2_unc'\n",
       "    uns: 'chemistry', 'sampleID'"
      ]
     },
     "execution_count": 5,
     "metadata": {},
     "output_type": "execute_result"
    }
   ],
   "source": [
    "adata = sc.read_h5ad(adataPATHlist[0])\n",
    "adata"
   ]
  },
  {
   "cell_type": "markdown",
   "id": "44e868b3-0771-4225-bd79-a4b179bc672b",
   "metadata": {
    "papermill": {
     "duration": 0.005286,
     "end_time": "2024-06-30T21:00:12.269313",
     "exception": false,
     "start_time": "2024-06-30T21:00:12.264027",
     "status": "completed"
    },
    "tags": []
   },
   "source": [
    "#### Generating PSEUDOBULKs"
   ]
  },
  {
   "cell_type": "markdown",
   "id": "97d09fc5-d05c-471e-87fa-fe58ccbe47ac",
   "metadata": {
    "papermill": {
     "duration": 0.005192,
     "end_time": "2024-06-30T21:00:12.279631",
     "exception": false,
     "start_time": "2024-06-30T21:00:12.274439",
     "status": "completed"
    },
    "tags": []
   },
   "source": [
    "**Aggregating cell latent features**"
   ]
  },
  {
   "cell_type": "code",
   "execution_count": 6,
   "id": "81223976-fcf6-4354-8964-b12d76468636",
   "metadata": {
    "execution": {
     "iopub.execute_input": "2024-06-30T21:00:12.290633Z",
     "iopub.status.busy": "2024-06-30T21:00:12.290481Z",
     "iopub.status.idle": "2024-06-30T21:00:12.518872Z",
     "shell.execute_reply": "2024-06-30T21:00:12.518434Z"
    },
    "papermill": {
     "duration": 0.235195,
     "end_time": "2024-06-30T21:00:12.519695",
     "exception": false,
     "start_time": "2024-06-30T21:00:12.284500",
     "status": "completed"
    },
    "tags": []
   },
   "outputs": [
    {
     "data": {
      "text/plain": [
       "AnnData object with n_obs × n_vars = 1270 × 20\n",
       "    obs: 'sampleID', 'Level1', 'disease', 'n_observation'"
      ]
     },
     "execution_count": 6,
     "metadata": {},
     "output_type": "execute_result"
    }
   ],
   "source": [
    "adataPBcell = aggregating_features(Z = adata.X, \n",
    "                             obsDF = adata.obs[['sampleID','Level1','disease']], \n",
    "                             mode = 'mean', \n",
    "                             obs_names_col=['sampleID','Level1'], \n",
    "                             min_observation=0)\n",
    "adataPBcell"
   ]
  },
  {
   "cell_type": "code",
   "execution_count": null,
   "id": "8495038e-aebd-4003-bd94-c1e49f47249e",
   "metadata": {
    "papermill": {
     "duration": 0.00506,
     "end_time": "2024-06-30T21:00:12.530360",
     "exception": false,
     "start_time": "2024-06-30T21:00:12.525300",
     "status": "completed"
    },
    "tags": []
   },
   "outputs": [],
   "source": []
  },
  {
   "cell_type": "markdown",
   "id": "6d602bad-4793-4aa4-b3d7-d118d413a0fc",
   "metadata": {
    "papermill": {
     "duration": 0.005068,
     "end_time": "2024-06-30T21:00:12.541551",
     "exception": false,
     "start_time": "2024-06-30T21:00:12.536483",
     "status": "completed"
    },
    "tags": []
   },
   "source": [
    "**Extracting sample embedding**"
   ]
  },
  {
   "cell_type": "code",
   "execution_count": 7,
   "id": "e2c14f02",
   "metadata": {
    "execution": {
     "iopub.execute_input": "2024-06-30T21:00:12.553401Z",
     "iopub.status.busy": "2024-06-30T21:00:12.552870Z",
     "iopub.status.idle": "2024-06-30T21:00:12.560883Z",
     "shell.execute_reply": "2024-06-30T21:00:12.560522Z"
    },
    "papermill": {
     "duration": 0.014938,
     "end_time": "2024-06-30T21:00:12.561654",
     "exception": false,
     "start_time": "2024-06-30T21:00:12.546716",
     "status": "completed"
    },
    "tags": []
   },
   "outputs": [
    {
     "data": {
      "text/plain": [
       "AnnData object with n_obs × n_vars = 86 × 50\n",
       "    obs: 'sampleID', 'disease', 'Level1'"
      ]
     },
     "execution_count": 7,
     "metadata": {},
     "output_type": "execute_result"
    }
   ],
   "source": [
    "adataPBsample = adata.uns['sampleID'].copy()\n",
    "adataPBsample.obs['sampleID'] = adataPBsample.obs.index\n",
    "adataPBsample = adataPBsample[adataPBsample.obs['sampleID'].isin(adataPBcell.obs['sampleID'])]\n",
    "\n",
    "adataPBsample.obs = adataPBsample.obs.merge(adataPBcell.obs.groupby('sampleID').agg({'disease':'first'}), left_index=True, right_index=True)\n",
    "adataPBsample.obs['Level1'] = 'sample'\n",
    "adataPBsample"
   ]
  },
  {
   "cell_type": "markdown",
   "id": "2d4fe137-7d68-4e86-a85c-3c1a3d3c4c71",
   "metadata": {
    "papermill": {
     "duration": 0.005266,
     "end_time": "2024-06-30T21:00:12.572717",
     "exception": false,
     "start_time": "2024-06-30T21:00:12.567451",
     "status": "completed"
    },
    "tags": []
   },
   "source": [
    "**Merging cell and patient latent features**"
   ]
  },
  {
   "cell_type": "code",
   "execution_count": 8,
   "id": "a326d2b1",
   "metadata": {
    "execution": {
     "iopub.execute_input": "2024-06-30T21:00:12.584146Z",
     "iopub.status.busy": "2024-06-30T21:00:12.583797Z",
     "iopub.status.idle": "2024-06-30T21:00:12.586206Z",
     "shell.execute_reply": "2024-06-30T21:00:12.585846Z"
    },
    "papermill": {
     "duration": 0.008866,
     "end_time": "2024-06-30T21:00:12.586965",
     "exception": false,
     "start_time": "2024-06-30T21:00:12.578099",
     "status": "completed"
    },
    "tags": []
   },
   "outputs": [],
   "source": [
    "PBcellDF = adataPBcell.to_df()\n",
    "PBcellDF['sampleID'] = adataPBcell.obs['sampleID']"
   ]
  },
  {
   "cell_type": "code",
   "execution_count": 9,
   "id": "1a597f46-d9c5-403b-b81e-5738ca206682",
   "metadata": {
    "execution": {
     "iopub.execute_input": "2024-06-30T21:00:12.599036Z",
     "iopub.status.busy": "2024-06-30T21:00:12.598495Z",
     "iopub.status.idle": "2024-06-30T21:00:12.601449Z",
     "shell.execute_reply": "2024-06-30T21:00:12.601041Z"
    },
    "papermill": {
     "duration": 0.010059,
     "end_time": "2024-06-30T21:00:12.602257",
     "exception": false,
     "start_time": "2024-06-30T21:00:12.592198",
     "status": "completed"
    },
    "tags": []
   },
   "outputs": [],
   "source": [
    "PBsampleDF = adataPBsample.to_df()\n",
    "PBsampleDF['sampleID'] = adataPBsample.obs['sampleID']"
   ]
  },
  {
   "cell_type": "code",
   "execution_count": 10,
   "id": "bb384751-fe1b-4635-a90d-fd98ae61b173",
   "metadata": {
    "execution": {
     "iopub.execute_input": "2024-06-30T21:00:12.614260Z",
     "iopub.status.busy": "2024-06-30T21:00:12.613847Z",
     "iopub.status.idle": "2024-06-30T21:00:12.617850Z",
     "shell.execute_reply": "2024-06-30T21:00:12.617466Z"
    },
    "papermill": {
     "duration": 0.010871,
     "end_time": "2024-06-30T21:00:12.618621",
     "exception": false,
     "start_time": "2024-06-30T21:00:12.607750",
     "status": "completed"
    },
    "tags": []
   },
   "outputs": [],
   "source": [
    "PBcell_sampleDF = PBcellDF.merge(PBsampleDF, on='sampleID', how='left')"
   ]
  },
  {
   "cell_type": "code",
   "execution_count": 11,
   "id": "f7250713-e24d-4614-9cbd-eed702340640",
   "metadata": {
    "execution": {
     "iopub.execute_input": "2024-06-30T21:00:12.630288Z",
     "iopub.status.busy": "2024-06-30T21:00:12.630015Z",
     "iopub.status.idle": "2024-06-30T21:00:12.632339Z",
     "shell.execute_reply": "2024-06-30T21:00:12.631952Z"
    },
    "papermill": {
     "duration": 0.008931,
     "end_time": "2024-06-30T21:00:12.633088",
     "exception": false,
     "start_time": "2024-06-30T21:00:12.624157",
     "status": "completed"
    },
    "tags": []
   },
   "outputs": [],
   "source": [
    "assert(adataPBcell.obs['sampleID'].tolist() == PBcell_sampleDF['sampleID'].tolist())"
   ]
  },
  {
   "cell_type": "code",
   "execution_count": 12,
   "id": "abea2252-6a12-4b89-9f0d-6d6df90064fb",
   "metadata": {
    "execution": {
     "iopub.execute_input": "2024-06-30T21:00:12.644863Z",
     "iopub.status.busy": "2024-06-30T21:00:12.644559Z",
     "iopub.status.idle": "2024-06-30T21:00:12.647006Z",
     "shell.execute_reply": "2024-06-30T21:00:12.646641Z"
    },
    "papermill": {
     "duration": 0.009462,
     "end_time": "2024-06-30T21:00:12.647788",
     "exception": false,
     "start_time": "2024-06-30T21:00:12.638326",
     "status": "completed"
    },
    "tags": []
   },
   "outputs": [],
   "source": [
    "PBcell_sampleDF.drop('sampleID', axis=1, inplace=True)"
   ]
  },
  {
   "cell_type": "code",
   "execution_count": 13,
   "id": "5502e45d-5c72-4440-a8c1-5b299cac6e2d",
   "metadata": {
    "execution": {
     "iopub.execute_input": "2024-06-30T21:00:12.659493Z",
     "iopub.status.busy": "2024-06-30T21:00:12.659236Z",
     "iopub.status.idle": "2024-06-30T21:00:12.662713Z",
     "shell.execute_reply": "2024-06-30T21:00:12.662358Z"
    },
    "papermill": {
     "duration": 0.01001,
     "end_time": "2024-06-30T21:00:12.663479",
     "exception": false,
     "start_time": "2024-06-30T21:00:12.653469",
     "status": "completed"
    },
    "tags": []
   },
   "outputs": [
    {
     "data": {
      "text/plain": [
       "AnnData object with n_obs × n_vars = 1270 × 70\n",
       "    obs: 'sampleID', 'Level1', 'disease', 'n_observation'"
      ]
     },
     "execution_count": 13,
     "metadata": {},
     "output_type": "execute_result"
    }
   ],
   "source": [
    "adataPBcell_sample = sc.AnnData(X = PBcell_sampleDF, obs = adataPBcell.obs)\n",
    "adataPBcell_sample"
   ]
  },
  {
   "cell_type": "markdown",
   "id": "d59574be-684b-4082-b8b6-7d11930362ad",
   "metadata": {
    "papermill": {
     "duration": 0.005692,
     "end_time": "2024-06-30T21:00:12.674753",
     "exception": false,
     "start_time": "2024-06-30T21:00:12.669061",
     "status": "completed"
    },
    "tags": []
   },
   "source": [
    "### Saving pseudobulk adata objects"
   ]
  },
  {
   "cell_type": "code",
   "execution_count": 14,
   "id": "5947e6f8-ac27-4702-ba5d-aa9e1ba79f6a",
   "metadata": {
    "execution": {
     "iopub.execute_input": "2024-06-30T21:00:12.686372Z",
     "iopub.status.busy": "2024-06-30T21:00:12.686011Z",
     "iopub.status.idle": "2024-06-30T21:00:12.714335Z",
     "shell.execute_reply": "2024-06-30T21:00:12.713957Z"
    },
    "papermill": {
     "duration": 0.034942,
     "end_time": "2024-06-30T21:00:12.715138",
     "exception": false,
     "start_time": "2024-06-30T21:00:12.680196",
     "status": "completed"
    },
    "tags": []
   },
   "outputs": [],
   "source": [
    "adataPBcell.write(here(adataPATHlist[0].replace('/scPoli_','/PSEUDOBULKs/scPoli_PSEUDOBULKcell_')), compression='gzip')"
   ]
  },
  {
   "cell_type": "code",
   "execution_count": 15,
   "id": "e9485945-bccf-419a-9420-c1e4f3aa262d",
   "metadata": {
    "execution": {
     "iopub.execute_input": "2024-06-30T21:00:12.727492Z",
     "iopub.status.busy": "2024-06-30T21:00:12.727134Z",
     "iopub.status.idle": "2024-06-30T21:00:12.746336Z",
     "shell.execute_reply": "2024-06-30T21:00:12.745960Z"
    },
    "papermill": {
     "duration": 0.026104,
     "end_time": "2024-06-30T21:00:12.747089",
     "exception": false,
     "start_time": "2024-06-30T21:00:12.720985",
     "status": "completed"
    },
    "tags": []
   },
   "outputs": [],
   "source": [
    "adataPBsample.write(here(adataPATHlist[0].replace('/scPoli_','/PSEUDOBULKs/scPoli_PSEUDOBULKsample_')), compression='gzip')"
   ]
  },
  {
   "cell_type": "code",
   "execution_count": 16,
   "id": "9c2daa40-3279-4b24-8aad-65ee0ba758c8",
   "metadata": {
    "execution": {
     "iopub.execute_input": "2024-06-30T21:00:12.759402Z",
     "iopub.status.busy": "2024-06-30T21:00:12.758852Z",
     "iopub.status.idle": "2024-06-30T21:00:12.787748Z",
     "shell.execute_reply": "2024-06-30T21:00:12.787371Z"
    },
    "papermill": {
     "duration": 0.035703,
     "end_time": "2024-06-30T21:00:12.788549",
     "exception": false,
     "start_time": "2024-06-30T21:00:12.752846",
     "status": "completed"
    },
    "tags": []
   },
   "outputs": [],
   "source": [
    "adataPBcell_sample.write(here(adataPATHlist[0].replace('/scPoli_','/PSEUDOBULKs/scPoli_PSEUDOBULKcellSample_')), compression='gzip')"
   ]
  },
  {
   "cell_type": "code",
   "execution_count": null,
   "id": "8a70d9f6-7a44-45ee-8470-702bd7af1e0b",
   "metadata": {
    "papermill": {
     "duration": 0.005686,
     "end_time": "2024-06-30T21:00:12.799926",
     "exception": false,
     "start_time": "2024-06-30T21:00:12.794240",
     "status": "completed"
    },
    "tags": []
   },
   "outputs": [],
   "source": []
  }
 ],
 "metadata": {
  "kernelspec": {
   "display_name": "Python 3 (ipykernel)",
   "language": "python",
   "name": "python3"
  },
  "language_info": {
   "codemirror_mode": {
    "name": "ipython",
    "version": 3
   },
   "file_extension": ".py",
   "mimetype": "text/x-python",
   "name": "python",
   "nbconvert_exporter": "python",
   "pygments_lexer": "ipython3",
   "version": "3.12.3"
  },
  "papermill": {
   "default_parameters": {},
   "duration": 4.571743,
   "end_time": "2024-06-30T21:00:13.319718",
   "environment_variables": {},
   "exception": null,
   "input_path": "03_generating_PSEUDOBULKs.ipynb",
   "output_path": "executed_notebooks/03_generating_PSEUDOBULKs_scPoli_EXTERNAL_2_20_50_run2_xwzmx078.h5ad.ipynb",
   "parameters": {
    "adataPATH": "03_downstream_analysis/08_PatientClassifier/scPoli/results/scPoli_EXTERNAL_2_20_50_run2_xwzmx078.h5ad"
   },
   "start_time": "2024-06-30T21:00:08.747975",
   "version": "2.6.0"
  }
 },
 "nbformat": 4,
 "nbformat_minor": 5
}