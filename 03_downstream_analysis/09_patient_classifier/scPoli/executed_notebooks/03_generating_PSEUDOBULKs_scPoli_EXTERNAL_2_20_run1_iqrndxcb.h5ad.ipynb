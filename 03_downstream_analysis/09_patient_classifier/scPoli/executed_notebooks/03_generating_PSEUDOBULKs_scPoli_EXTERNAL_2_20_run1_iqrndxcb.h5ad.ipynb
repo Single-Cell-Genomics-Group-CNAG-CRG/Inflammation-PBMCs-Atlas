{
 "cells": [
  {
   "cell_type": "code",
   "execution_count": 1,
   "id": "8be6687c",
   "metadata": {
    "execution": {
     "iopub.execute_input": "2024-06-27T16:47:45.413991Z",
     "iopub.status.busy": "2024-06-27T16:47:45.413335Z",
     "iopub.status.idle": "2024-06-27T16:47:45.419294Z",
     "shell.execute_reply": "2024-06-27T16:47:45.418806Z"
    },
    "papermill": {
     "duration": 0.014468,
     "end_time": "2024-06-27T16:47:45.420275",
     "exception": false,
     "start_time": "2024-06-27T16:47:45.405807",
     "status": "completed"
    },
    "tags": [
     "injected-parameters"
    ]
   },
   "outputs": [],
   "source": [
    "# Parameters\n",
    "adataPATH = \"03_downstream_analysis/08_PatientClassifier/scPoli/results/scPoli_EXTERNAL_2_20_run1_iqrndxcb.h5ad\"\n"
   ]
  },
  {
   "cell_type": "raw",
   "id": "45ccaa27-b0ec-4740-9b7d-9409b7a94ac0",
   "metadata": {
    "papermill": {
     "duration": 0.006342,
     "end_time": "2024-06-27T16:47:45.431853",
     "exception": false,
     "start_time": "2024-06-27T16:47:45.425511",
     "status": "completed"
    },
    "tags": [],
    "vscode": {
     "languageId": "raw"
    }
   },
   "source": [
    "adataMAINpath = '03_downstream_analysis/08_PatientClassifier/scPoli/results/scPoli_2_100_20_*.h5ad'\n",
    "\n",
    "adataVALpath = '03_downstream_analysis/08_PatientClassifier/scPoli/results/scPoli_VALIDATION_2_200_100*.h5ad'\n",
    "adataEXCpath = '03_downstream_analysis/08_PatientClassifier/scPoli/results/scPoli_EXCLUDED_2_100_20_run1_pd5nyb4g.h5ad'\n",
    "adataEXTpath = '03_downstream_analysis/08_PatientClassifier/scPoli/results/scPoli_EXTERNAL_2_100_20_run1_pd5nyb4g.h5ad'\n",
    "\n",
    "adataPATH = adataVALpath"
   ]
  },
  {
   "cell_type": "code",
   "execution_count": 2,
   "id": "d3ccb10a-7201-43d0-a593-2b4650ff3451",
   "metadata": {
    "execution": {
     "iopub.execute_input": "2024-06-27T16:47:45.447011Z",
     "iopub.status.busy": "2024-06-27T16:47:45.446347Z",
     "iopub.status.idle": "2024-06-27T16:47:45.450275Z",
     "shell.execute_reply": "2024-06-27T16:47:45.449762Z"
    },
    "papermill": {
     "duration": 0.011942,
     "end_time": "2024-06-27T16:47:45.451207",
     "exception": false,
     "start_time": "2024-06-27T16:47:45.439265",
     "status": "completed"
    },
    "tags": []
   },
   "outputs": [
    {
     "name": "stdout",
     "output_type": "stream",
     "text": [
      "adataPATH = 03_downstream_analysis/08_PatientClassifier/scPoli/results/scPoli_EXTERNAL_2_20_run1_iqrndxcb.h5ad\n"
     ]
    }
   ],
   "source": [
    "for v in ['adataPATH']:\n",
    "    if v in locals() or v in globals():\n",
    "        print(f\"{v} = {eval(v)}\")\n",
    "    else:\n",
    "        raise Exception(f\"{v} not specified\")"
   ]
  },
  {
   "cell_type": "code",
   "execution_count": 3,
   "id": "888fb5f4-9ab7-4196-a282-7a7e92a43971",
   "metadata": {
    "execution": {
     "iopub.execute_input": "2024-06-27T16:47:45.463306Z",
     "iopub.status.busy": "2024-06-27T16:47:45.462761Z",
     "iopub.status.idle": "2024-06-27T16:47:51.724238Z",
     "shell.execute_reply": "2024-06-27T16:47:51.723740Z"
    },
    "papermill": {
     "duration": 6.269329,
     "end_time": "2024-06-27T16:47:51.725619",
     "exception": false,
     "start_time": "2024-06-27T16:47:45.456290",
     "status": "completed"
    },
    "tags": []
   },
   "outputs": [],
   "source": [
    "import os\n",
    "import sys\n",
    "from glob import glob\n",
    "\n",
    "import scanpy as sc\n",
    "import pandas as pd\n",
    "\n",
    "from pyprojroot import here\n",
    "\n",
    "sys.path.insert(1, str(here('bin')))\n",
    "# Import custom functions\n",
    "from customPythonFunctions import aggregating_features"
   ]
  },
  {
   "cell_type": "markdown",
   "id": "ba4905ae-4546-4ef4-b57b-950441ab079d",
   "metadata": {
    "papermill": {
     "duration": 0.008646,
     "end_time": "2024-06-27T16:47:51.740698",
     "exception": false,
     "start_time": "2024-06-27T16:47:51.732052",
     "status": "completed"
    },
    "tags": []
   },
   "source": [
    "### Loading data"
   ]
  },
  {
   "cell_type": "code",
   "execution_count": 4,
   "id": "539cbbbb-3503-4f51-bf04-f007f928ebd1",
   "metadata": {
    "execution": {
     "iopub.execute_input": "2024-06-27T16:47:51.759405Z",
     "iopub.status.busy": "2024-06-27T16:47:51.758748Z",
     "iopub.status.idle": "2024-06-27T16:47:51.763128Z",
     "shell.execute_reply": "2024-06-27T16:47:51.762694Z"
    },
    "papermill": {
     "duration": 0.012335,
     "end_time": "2024-06-27T16:47:51.764086",
     "exception": false,
     "start_time": "2024-06-27T16:47:51.751751",
     "status": "completed"
    },
    "tags": []
   },
   "outputs": [],
   "source": [
    "adataPATHlist = glob(str(here(adataPATH)))\n",
    "assert(len(adataPATHlist) == 1)"
   ]
  },
  {
   "cell_type": "code",
   "execution_count": 5,
   "id": "0fcfce0a-896b-4dc0-8e5e-46749205c84f",
   "metadata": {
    "execution": {
     "iopub.execute_input": "2024-06-27T16:47:51.787686Z",
     "iopub.status.busy": "2024-06-27T16:47:51.787415Z",
     "iopub.status.idle": "2024-06-27T16:47:57.666023Z",
     "shell.execute_reply": "2024-06-27T16:47:57.665478Z"
    },
    "papermill": {
     "duration": 5.895567,
     "end_time": "2024-06-27T16:47:57.667074",
     "exception": false,
     "start_time": "2024-06-27T16:47:51.771507",
     "status": "completed"
    },
    "tags": []
   },
   "outputs": [
    {
     "data": {
      "text/plain": [
       "AnnData object with n_obs × n_vars = 572872 × 20\n",
       "    obs: 'studyID', 'libraryID', 'sampleID', 'chemistry', 'technology', 'disease', 'sex', 'binned_age', 'Level1', 'Level1_unc', 'Level2', 'Level2_unc'\n",
       "    uns: 'chemistry', 'sampleID'"
      ]
     },
     "execution_count": 5,
     "metadata": {},
     "output_type": "execute_result"
    }
   ],
   "source": [
    "adata = sc.read_h5ad(adataPATHlist[0])\n",
    "adata"
   ]
  },
  {
   "cell_type": "markdown",
   "id": "44e868b3-0771-4225-bd79-a4b179bc672b",
   "metadata": {
    "papermill": {
     "duration": 0.681643,
     "end_time": "2024-06-27T16:47:58.886014",
     "exception": false,
     "start_time": "2024-06-27T16:47:58.204371",
     "status": "completed"
    },
    "tags": []
   },
   "source": [
    "#### Generating PSEUDOBULKs"
   ]
  },
  {
   "cell_type": "markdown",
   "id": "97d09fc5-d05c-471e-87fa-fe58ccbe47ac",
   "metadata": {
    "papermill": {
     "duration": 1.078969,
     "end_time": "2024-06-27T16:48:01.043309",
     "exception": false,
     "start_time": "2024-06-27T16:47:59.964340",
     "status": "completed"
    },
    "tags": []
   },
   "source": [
    "**Aggregating cell latent features**"
   ]
  },
  {
   "cell_type": "code",
   "execution_count": 6,
   "id": "81223976-fcf6-4354-8964-b12d76468636",
   "metadata": {
    "execution": {
     "iopub.execute_input": "2024-06-27T16:48:03.082053Z",
     "iopub.status.busy": "2024-06-27T16:48:03.081651Z",
     "iopub.status.idle": "2024-06-27T16:48:03.339772Z",
     "shell.execute_reply": "2024-06-27T16:48:03.338765Z"
    },
    "papermill": {
     "duration": 0.822744,
     "end_time": "2024-06-27T16:48:03.341211",
     "exception": false,
     "start_time": "2024-06-27T16:48:02.518467",
     "status": "completed"
    },
    "tags": []
   },
   "outputs": [
    {
     "data": {
      "text/plain": [
       "AnnData object with n_obs × n_vars = 1272 × 20\n",
       "    obs: 'sampleID', 'Level1', 'disease', 'n_observation'"
      ]
     },
     "execution_count": 6,
     "metadata": {},
     "output_type": "execute_result"
    }
   ],
   "source": [
    "adataPBcell = aggregating_features(Z = adata.X, \n",
    "                             obsDF = adata.obs[['sampleID','Level1','disease']], \n",
    "                             mode = 'mean', \n",
    "                             obs_names_col=['sampleID','Level1'], \n",
    "                             min_observation=0)\n",
    "adataPBcell"
   ]
  },
  {
   "cell_type": "markdown",
   "id": "6d602bad-4793-4aa4-b3d7-d118d413a0fc",
   "metadata": {
    "papermill": {
     "duration": 0.014384,
     "end_time": "2024-06-27T16:48:03.383714",
     "exception": false,
     "start_time": "2024-06-27T16:48:03.369330",
     "status": "completed"
    },
    "tags": []
   },
   "source": [
    "**Extracting sample embedding**"
   ]
  },
  {
   "cell_type": "code",
   "execution_count": 7,
   "id": "e2c14f02",
   "metadata": {
    "execution": {
     "iopub.execute_input": "2024-06-27T16:48:03.408045Z",
     "iopub.status.busy": "2024-06-27T16:48:03.407487Z",
     "iopub.status.idle": "2024-06-27T16:48:03.419244Z",
     "shell.execute_reply": "2024-06-27T16:48:03.418774Z"
    },
    "papermill": {
     "duration": 0.022387,
     "end_time": "2024-06-27T16:48:03.420406",
     "exception": false,
     "start_time": "2024-06-27T16:48:03.398019",
     "status": "completed"
    },
    "tags": []
   },
   "outputs": [
    {
     "data": {
      "text/plain": [
       "AnnData object with n_obs × n_vars = 86 × 20\n",
       "    obs: 'sampleID', 'disease', 'Level1'"
      ]
     },
     "execution_count": 7,
     "metadata": {},
     "output_type": "execute_result"
    }
   ],
   "source": [
    "adataPBsample = adata.uns['sampleID'].copy()\n",
    "adataPBsample.obs['sampleID'] = adataPBsample.obs.index\n",
    "adataPBsample = adataPBsample[adataPBsample.obs['sampleID'].isin(adataPBcell.obs['sampleID'])]\n",
    "\n",
    "adataPBsample.obs = adataPBsample.obs.merge(adataPBcell.obs.groupby('sampleID').agg({'disease':'first'}), left_index=True, right_index=True)\n",
    "adataPBsample.obs['Level1'] = 'sample'\n",
    "adataPBsample"
   ]
  },
  {
   "cell_type": "markdown",
   "id": "2d4fe137-7d68-4e86-a85c-3c1a3d3c4c71",
   "metadata": {
    "papermill": {
     "duration": 0.050808,
     "end_time": "2024-06-27T16:48:03.516944",
     "exception": false,
     "start_time": "2024-06-27T16:48:03.466136",
     "status": "completed"
    },
    "tags": []
   },
   "source": [
    "**Merging cell and patient latent features**"
   ]
  },
  {
   "cell_type": "code",
   "execution_count": 8,
   "id": "a326d2b1",
   "metadata": {
    "execution": {
     "iopub.execute_input": "2024-06-27T16:48:03.577313Z",
     "iopub.status.busy": "2024-06-27T16:48:03.577037Z",
     "iopub.status.idle": "2024-06-27T16:48:03.581150Z",
     "shell.execute_reply": "2024-06-27T16:48:03.580562Z"
    },
    "papermill": {
     "duration": 0.04413,
     "end_time": "2024-06-27T16:48:03.582317",
     "exception": false,
     "start_time": "2024-06-27T16:48:03.538187",
     "status": "completed"
    },
    "tags": []
   },
   "outputs": [],
   "source": [
    "PBcellDF = adataPBcell.to_df()\n",
    "PBcellDF['sampleID'] = adataPBcell.obs['sampleID']"
   ]
  },
  {
   "cell_type": "code",
   "execution_count": 9,
   "id": "1a597f46-d9c5-403b-b81e-5738ca206682",
   "metadata": {
    "execution": {
     "iopub.execute_input": "2024-06-27T16:48:03.628393Z",
     "iopub.status.busy": "2024-06-27T16:48:03.626415Z",
     "iopub.status.idle": "2024-06-27T16:48:03.633082Z",
     "shell.execute_reply": "2024-06-27T16:48:03.632470Z"
    },
    "papermill": {
     "duration": 0.02156,
     "end_time": "2024-06-27T16:48:03.637212",
     "exception": false,
     "start_time": "2024-06-27T16:48:03.615652",
     "status": "completed"
    },
    "tags": []
   },
   "outputs": [],
   "source": [
    "PBsampleDF = adataPBsample.to_df()\n",
    "PBsampleDF['sampleID'] = adataPBsample.obs['sampleID']"
   ]
  },
  {
   "cell_type": "code",
   "execution_count": 10,
   "id": "bb384751-fe1b-4635-a90d-fd98ae61b173",
   "metadata": {
    "execution": {
     "iopub.execute_input": "2024-06-27T16:48:03.721202Z",
     "iopub.status.busy": "2024-06-27T16:48:03.720719Z",
     "iopub.status.idle": "2024-06-27T16:48:03.726675Z",
     "shell.execute_reply": "2024-06-27T16:48:03.726155Z"
    },
    "papermill": {
     "duration": 0.076951,
     "end_time": "2024-06-27T16:48:03.727855",
     "exception": false,
     "start_time": "2024-06-27T16:48:03.650904",
     "status": "completed"
    },
    "tags": []
   },
   "outputs": [],
   "source": [
    "PBcell_sampleDF = PBcellDF.merge(PBsampleDF, on='sampleID', how='left')"
   ]
  },
  {
   "cell_type": "code",
   "execution_count": 11,
   "id": "f7250713-e24d-4614-9cbd-eed702340640",
   "metadata": {
    "execution": {
     "iopub.execute_input": "2024-06-27T16:48:03.847997Z",
     "iopub.status.busy": "2024-06-27T16:48:03.847562Z",
     "iopub.status.idle": "2024-06-27T16:48:03.851608Z",
     "shell.execute_reply": "2024-06-27T16:48:03.850831Z"
    },
    "papermill": {
     "duration": 0.102805,
     "end_time": "2024-06-27T16:48:03.852715",
     "exception": false,
     "start_time": "2024-06-27T16:48:03.749910",
     "status": "completed"
    },
    "tags": []
   },
   "outputs": [],
   "source": [
    "assert(adataPBcell.obs['sampleID'].tolist() == PBcell_sampleDF['sampleID'].tolist())"
   ]
  },
  {
   "cell_type": "code",
   "execution_count": 12,
   "id": "abea2252-6a12-4b89-9f0d-6d6df90064fb",
   "metadata": {
    "execution": {
     "iopub.execute_input": "2024-06-27T16:48:03.911910Z",
     "iopub.status.busy": "2024-06-27T16:48:03.911442Z",
     "iopub.status.idle": "2024-06-27T16:48:03.916220Z",
     "shell.execute_reply": "2024-06-27T16:48:03.915544Z"
    },
    "papermill": {
     "duration": 0.049519,
     "end_time": "2024-06-27T16:48:03.917270",
     "exception": false,
     "start_time": "2024-06-27T16:48:03.867751",
     "status": "completed"
    },
    "tags": []
   },
   "outputs": [],
   "source": [
    "PBcell_sampleDF.drop('sampleID', axis=1, inplace=True)"
   ]
  },
  {
   "cell_type": "code",
   "execution_count": 13,
   "id": "5502e45d-5c72-4440-a8c1-5b299cac6e2d",
   "metadata": {
    "execution": {
     "iopub.execute_input": "2024-06-27T16:48:04.084203Z",
     "iopub.status.busy": "2024-06-27T16:48:04.081956Z",
     "iopub.status.idle": "2024-06-27T16:48:04.089169Z",
     "shell.execute_reply": "2024-06-27T16:48:04.088618Z"
    },
    "papermill": {
     "duration": 0.049936,
     "end_time": "2024-06-27T16:48:04.090426",
     "exception": false,
     "start_time": "2024-06-27T16:48:04.040490",
     "status": "completed"
    },
    "tags": []
   },
   "outputs": [
    {
     "data": {
      "text/plain": [
       "AnnData object with n_obs × n_vars = 1272 × 40\n",
       "    obs: 'sampleID', 'Level1', 'disease', 'n_observation'"
      ]
     },
     "execution_count": 13,
     "metadata": {},
     "output_type": "execute_result"
    }
   ],
   "source": [
    "adataPBcell_sample = sc.AnnData(X = PBcell_sampleDF, obs = adataPBcell.obs)\n",
    "adataPBcell_sample"
   ]
  },
  {
   "cell_type": "markdown",
   "id": "d59574be-684b-4082-b8b6-7d11930362ad",
   "metadata": {
    "papermill": {
     "duration": 0.022174,
     "end_time": "2024-06-27T16:48:04.146827",
     "exception": false,
     "start_time": "2024-06-27T16:48:04.124653",
     "status": "completed"
    },
    "tags": []
   },
   "source": [
    "### Saving pseudobulk adata objects"
   ]
  },
  {
   "cell_type": "code",
   "execution_count": 14,
   "id": "5947e6f8-ac27-4702-ba5d-aa9e1ba79f6a",
   "metadata": {
    "execution": {
     "iopub.execute_input": "2024-06-27T16:48:04.191428Z",
     "iopub.status.busy": "2024-06-27T16:48:04.191017Z",
     "iopub.status.idle": "2024-06-27T16:48:04.244613Z",
     "shell.execute_reply": "2024-06-27T16:48:04.240832Z"
    },
    "papermill": {
     "duration": 0.070655,
     "end_time": "2024-06-27T16:48:04.246359",
     "exception": false,
     "start_time": "2024-06-27T16:48:04.175704",
     "status": "completed"
    },
    "tags": []
   },
   "outputs": [],
   "source": [
    "adataPBcell.write(here(adataPATHlist[0].replace('/scPoli_','/PSEUDOBULKs/scPoli_PSEUDOBULKcell_')), compression='gzip')"
   ]
  },
  {
   "cell_type": "code",
   "execution_count": 15,
   "id": "e9485945-bccf-419a-9420-c1e4f3aa262d",
   "metadata": {
    "execution": {
     "iopub.execute_input": "2024-06-27T16:48:04.282805Z",
     "iopub.status.busy": "2024-06-27T16:48:04.282245Z",
     "iopub.status.idle": "2024-06-27T16:48:04.313341Z",
     "shell.execute_reply": "2024-06-27T16:48:04.312561Z"
    },
    "papermill": {
     "duration": 0.056001,
     "end_time": "2024-06-27T16:48:04.314949",
     "exception": false,
     "start_time": "2024-06-27T16:48:04.258948",
     "status": "completed"
    },
    "tags": []
   },
   "outputs": [],
   "source": [
    "adataPBsample.write(here(adataPATHlist[0].replace('/scPoli_','/PSEUDOBULKs/scPoli_PSEUDOBULKsample_')), compression='gzip')"
   ]
  },
  {
   "cell_type": "code",
   "execution_count": 16,
   "id": "9c2daa40-3279-4b24-8aad-65ee0ba758c8",
   "metadata": {
    "execution": {
     "iopub.execute_input": "2024-06-27T16:48:04.367904Z",
     "iopub.status.busy": "2024-06-27T16:48:04.366973Z",
     "iopub.status.idle": "2024-06-27T16:48:04.469955Z",
     "shell.execute_reply": "2024-06-27T16:48:04.469124Z"
    },
    "papermill": {
     "duration": 0.126424,
     "end_time": "2024-06-27T16:48:04.471859",
     "exception": false,
     "start_time": "2024-06-27T16:48:04.345435",
     "status": "completed"
    },
    "tags": []
   },
   "outputs": [],
   "source": [
    "adataPBcell_sample.write(here(adataPATHlist[0].replace('/scPoli_','/PSEUDOBULKs/scPoli_PSEUDOBULKcellSample_')), compression='gzip')"
   ]
  },
  {
   "cell_type": "code",
   "execution_count": null,
   "id": "8a70d9f6-7a44-45ee-8470-702bd7af1e0b",
   "metadata": {
    "papermill": {
     "duration": 0.017605,
     "end_time": "2024-06-27T16:48:04.545670",
     "exception": false,
     "start_time": "2024-06-27T16:48:04.528065",
     "status": "completed"
    },
    "tags": []
   },
   "outputs": [],
   "source": []
  }
 ],
 "metadata": {
  "kernelspec": {
   "display_name": "Python 3 (ipykernel)",
   "language": "python",
   "name": "python3"
  },
  "language_info": {
   "codemirror_mode": {
    "name": "ipython",
    "version": 3
   },
   "file_extension": ".py",
   "mimetype": "text/x-python",
   "name": "python",
   "nbconvert_exporter": "python",
   "pygments_lexer": "ipython3",
   "version": "3.10.13"
  },
  "papermill": {
   "default_parameters": {},
   "duration": 22.919129,
   "end_time": "2024-06-27T16:48:05.297681",
   "environment_variables": {},
   "exception": null,
   "input_path": "03_generating_PSEUDOBULKs.ipynb",
   "output_path": "executed_notebooks/03_generating_PSEUDOBULKs_scPoli_EXTERNAL_2_20_run1_iqrndxcb.h5ad.ipynb",
   "parameters": {
    "adataPATH": "03_downstream_analysis/08_PatientClassifier/scPoli/results/scPoli_EXTERNAL_2_20_run1_iqrndxcb.h5ad"
   },
   "start_time": "2024-06-27T16:47:42.378552",
   "version": "2.5.0"
  }
 },
 "nbformat": 4,
 "nbformat_minor": 5
}