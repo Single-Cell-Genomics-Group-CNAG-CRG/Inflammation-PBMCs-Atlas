{
 "cells": [
  {
   "cell_type": "code",
   "execution_count": 1,
   "id": "8527dc6c",
   "metadata": {
    "execution": {
     "iopub.execute_input": "2024-06-30T20:54:50.429388Z",
     "iopub.status.busy": "2024-06-30T20:54:50.428995Z",
     "iopub.status.idle": "2024-06-30T20:54:50.431612Z",
     "shell.execute_reply": "2024-06-30T20:54:50.431243Z"
    },
    "papermill": {
     "duration": 0.010754,
     "end_time": "2024-06-30T20:54:50.432438",
     "exception": false,
     "start_time": "2024-06-30T20:54:50.421684",
     "status": "completed"
    },
    "tags": [
     "injected-parameters"
    ]
   },
   "outputs": [],
   "source": [
    "# Parameters\n",
    "adataPATH = \"03_downstream_analysis/08_PatientClassifier/scPoli/results/scPoli_VALIDATION_2_20_100_*.h5ad\"\n"
   ]
  },
  {
   "cell_type": "raw",
   "id": "bf9880bd-3aef-477b-807d-37e3c5603037",
   "metadata": {
    "execution": {
     "iopub.execute_input": "2024-06-29T08:23:25.403219Z",
     "iopub.status.busy": "2024-06-29T08:23:25.402857Z",
     "iopub.status.idle": "2024-06-29T08:23:25.406428Z",
     "shell.execute_reply": "2024-06-29T08:23:25.406014Z",
     "shell.execute_reply.started": "2024-06-29T08:23:25.403185Z"
    },
    "papermill": {
     "duration": 0.005039,
     "end_time": "2024-06-30T20:54:50.442763",
     "exception": false,
     "start_time": "2024-06-30T20:54:50.437724",
     "status": "completed"
    },
    "tags": [],
    "vscode": {
     "languageId": "raw"
    }
   },
   "source": [
    "adataMAINpath = '03_downstream_analysis/08_PatientClassifier/scPoli/results/scPoli_2_100_20_*.h5ad'\n",
    "\n",
    "adataVALpath = '03_downstream_analysis/08_PatientClassifier/scPoli/results/scPoli_VALIDATION_2_20_20*.h5ad'\n",
    "adataEXCpath = '03_downstream_analysis/08_PatientClassifier/scPoli/results/scPoli_EXCLUDED_2_100_20_run1_pd5nyb4g.h5ad'\n",
    "adataEXTpath = '03_downstream_analysis/08_PatientClassifier/scPoli/results/scPoli_EXTERNAL_2_100_20_run1_pd5nyb4g.h5ad'\n",
    "\n",
    "adataPATH = adataVALpath"
   ]
  },
  {
   "cell_type": "code",
   "execution_count": 2,
   "id": "d3ccb10a-7201-43d0-a593-2b4650ff3451",
   "metadata": {
    "execution": {
     "iopub.execute_input": "2024-06-30T20:54:50.453531Z",
     "iopub.status.busy": "2024-06-30T20:54:50.453222Z",
     "iopub.status.idle": "2024-06-30T20:54:50.456194Z",
     "shell.execute_reply": "2024-06-30T20:54:50.455799Z"
    },
    "papermill": {
     "duration": 0.009308,
     "end_time": "2024-06-30T20:54:50.456988",
     "exception": false,
     "start_time": "2024-06-30T20:54:50.447680",
     "status": "completed"
    },
    "tags": []
   },
   "outputs": [
    {
     "name": "stdout",
     "output_type": "stream",
     "text": [
      "adataPATH = 03_downstream_analysis/08_PatientClassifier/scPoli/results/scPoli_VALIDATION_2_20_100_*.h5ad\n"
     ]
    }
   ],
   "source": [
    "for v in ['adataPATH']:\n",
    "    if v in locals() or v in globals():\n",
    "        print(f\"{v} = {eval(v)}\")\n",
    "    else:\n",
    "        raise Exception(f\"{v} not specified\")"
   ]
  },
  {
   "cell_type": "code",
   "execution_count": 3,
   "id": "888fb5f4-9ab7-4196-a282-7a7e92a43971",
   "metadata": {
    "execution": {
     "iopub.execute_input": "2024-06-30T20:54:50.468381Z",
     "iopub.status.busy": "2024-06-30T20:54:50.468023Z",
     "iopub.status.idle": "2024-06-30T20:54:52.546837Z",
     "shell.execute_reply": "2024-06-30T20:54:52.546338Z"
    },
    "papermill": {
     "duration": 2.085623,
     "end_time": "2024-06-30T20:54:52.547741",
     "exception": false,
     "start_time": "2024-06-30T20:54:50.462118",
     "status": "completed"
    },
    "tags": []
   },
   "outputs": [],
   "source": [
    "import os\n",
    "import sys\n",
    "from glob import glob\n",
    "\n",
    "import scanpy as sc\n",
    "import pandas as pd\n",
    "\n",
    "from pyprojroot import here\n",
    "\n",
    "sys.path.insert(1, str(here('bin')))\n",
    "# Import custom functions\n",
    "from customPythonFunctions import aggregating_features"
   ]
  },
  {
   "cell_type": "markdown",
   "id": "ba4905ae-4546-4ef4-b57b-950441ab079d",
   "metadata": {
    "papermill": {
     "duration": 0.005094,
     "end_time": "2024-06-30T20:54:52.558395",
     "exception": false,
     "start_time": "2024-06-30T20:54:52.553301",
     "status": "completed"
    },
    "tags": []
   },
   "source": [
    "### Loading data"
   ]
  },
  {
   "cell_type": "code",
   "execution_count": 4,
   "id": "539cbbbb-3503-4f51-bf04-f007f928ebd1",
   "metadata": {
    "execution": {
     "iopub.execute_input": "2024-06-30T20:54:52.569614Z",
     "iopub.status.busy": "2024-06-30T20:54:52.569142Z",
     "iopub.status.idle": "2024-06-30T20:54:52.573039Z",
     "shell.execute_reply": "2024-06-30T20:54:52.572658Z"
    },
    "papermill": {
     "duration": 0.010371,
     "end_time": "2024-06-30T20:54:52.573813",
     "exception": false,
     "start_time": "2024-06-30T20:54:52.563442",
     "status": "completed"
    },
    "tags": []
   },
   "outputs": [],
   "source": [
    "adataPATHlist = glob(str(here(adataPATH)))\n",
    "assert(len(adataPATHlist) == 1)"
   ]
  },
  {
   "cell_type": "code",
   "execution_count": 5,
   "id": "0fcfce0a-896b-4dc0-8e5e-46749205c84f",
   "metadata": {
    "execution": {
     "iopub.execute_input": "2024-06-30T20:54:52.585298Z",
     "iopub.status.busy": "2024-06-30T20:54:52.584930Z",
     "iopub.status.idle": "2024-06-30T20:54:54.042111Z",
     "shell.execute_reply": "2024-06-30T20:54:54.041656Z"
    },
    "papermill": {
     "duration": 1.463916,
     "end_time": "2024-06-30T20:54:54.042914",
     "exception": false,
     "start_time": "2024-06-30T20:54:52.578998",
     "status": "completed"
    },
    "tags": []
   },
   "outputs": [
    {
     "data": {
      "text/plain": [
       "AnnData object with n_obs × n_vars = 849922 × 20\n",
       "    obs: 'studyID', 'libraryID', 'sampleID', 'chemistry', 'technology', 'disease', 'sex', 'binned_age', 'Level1', 'Level2', 'conditions_combined', 'Level1_unc', 'Level2_unc'\n",
       "    uns: 'chemistry', 'sampleID'"
      ]
     },
     "execution_count": 5,
     "metadata": {},
     "output_type": "execute_result"
    }
   ],
   "source": [
    "adata = sc.read_h5ad(adataPATHlist[0])\n",
    "adata"
   ]
  },
  {
   "cell_type": "markdown",
   "id": "44e868b3-0771-4225-bd79-a4b179bc672b",
   "metadata": {
    "papermill": {
     "duration": 0.00502,
     "end_time": "2024-06-30T20:54:54.053622",
     "exception": false,
     "start_time": "2024-06-30T20:54:54.048602",
     "status": "completed"
    },
    "tags": []
   },
   "source": [
    "#### Generating PSEUDOBULKs"
   ]
  },
  {
   "cell_type": "markdown",
   "id": "97d09fc5-d05c-471e-87fa-fe58ccbe47ac",
   "metadata": {
    "papermill": {
     "duration": 0.004909,
     "end_time": "2024-06-30T20:54:54.063746",
     "exception": false,
     "start_time": "2024-06-30T20:54:54.058837",
     "status": "completed"
    },
    "tags": []
   },
   "source": [
    "**Aggregating cell latent features**"
   ]
  },
  {
   "cell_type": "code",
   "execution_count": 6,
   "id": "81223976-fcf6-4354-8964-b12d76468636",
   "metadata": {
    "execution": {
     "iopub.execute_input": "2024-06-30T20:54:54.074947Z",
     "iopub.status.busy": "2024-06-30T20:54:54.074650Z",
     "iopub.status.idle": "2024-06-30T20:54:54.413483Z",
     "shell.execute_reply": "2024-06-30T20:54:54.413014Z"
    },
    "papermill": {
     "duration": 0.345381,
     "end_time": "2024-06-30T20:54:54.414310",
     "exception": false,
     "start_time": "2024-06-30T20:54:54.068929",
     "status": "completed"
    },
    "tags": []
   },
   "outputs": [
    {
     "data": {
      "text/plain": [
       "AnnData object with n_obs × n_vars = 2098 × 20\n",
       "    obs: 'sampleID', 'Level1', 'disease', 'n_observation'"
      ]
     },
     "execution_count": 6,
     "metadata": {},
     "output_type": "execute_result"
    }
   ],
   "source": [
    "adataPBcell = aggregating_features(Z = adata.X, \n",
    "                             obsDF = adata.obs[['sampleID','Level1','disease']], \n",
    "                             mode = 'mean', \n",
    "                             obs_names_col=['sampleID','Level1'], \n",
    "                             min_observation=0)\n",
    "adataPBcell"
   ]
  },
  {
   "cell_type": "code",
   "execution_count": null,
   "id": "8495038e-aebd-4003-bd94-c1e49f47249e",
   "metadata": {
    "papermill": {
     "duration": 0.005275,
     "end_time": "2024-06-30T20:54:54.424994",
     "exception": false,
     "start_time": "2024-06-30T20:54:54.419719",
     "status": "completed"
    },
    "tags": []
   },
   "outputs": [],
   "source": []
  },
  {
   "cell_type": "markdown",
   "id": "6d602bad-4793-4aa4-b3d7-d118d413a0fc",
   "metadata": {
    "papermill": {
     "duration": 0.00494,
     "end_time": "2024-06-30T20:54:54.435617",
     "exception": false,
     "start_time": "2024-06-30T20:54:54.430677",
     "status": "completed"
    },
    "tags": []
   },
   "source": [
    "**Extracting sample embedding**"
   ]
  },
  {
   "cell_type": "code",
   "execution_count": 7,
   "id": "e2c14f02",
   "metadata": {
    "execution": {
     "iopub.execute_input": "2024-06-30T20:54:54.446929Z",
     "iopub.status.busy": "2024-06-30T20:54:54.446626Z",
     "iopub.status.idle": "2024-06-30T20:54:54.454873Z",
     "shell.execute_reply": "2024-06-30T20:54:54.454502Z"
    },
    "papermill": {
     "duration": 0.014663,
     "end_time": "2024-06-30T20:54:54.455652",
     "exception": false,
     "start_time": "2024-06-30T20:54:54.440989",
     "status": "completed"
    },
    "tags": []
   },
   "outputs": [
    {
     "data": {
      "text/plain": [
       "AnnData object with n_obs × n_vars = 144 × 100\n",
       "    obs: 'sampleID', 'disease', 'Level1'"
      ]
     },
     "execution_count": 7,
     "metadata": {},
     "output_type": "execute_result"
    }
   ],
   "source": [
    "adataPBsample = adata.uns['sampleID'].copy()\n",
    "adataPBsample.obs['sampleID'] = adataPBsample.obs.index\n",
    "adataPBsample = adataPBsample[adataPBsample.obs['sampleID'].isin(adataPBcell.obs['sampleID'])]\n",
    "\n",
    "adataPBsample.obs = adataPBsample.obs.merge(adataPBcell.obs.groupby('sampleID').agg({'disease':'first'}), left_index=True, right_index=True)\n",
    "adataPBsample.obs['Level1'] = 'sample'\n",
    "adataPBsample"
   ]
  },
  {
   "cell_type": "markdown",
   "id": "2d4fe137-7d68-4e86-a85c-3c1a3d3c4c71",
   "metadata": {
    "papermill": {
     "duration": 0.005195,
     "end_time": "2024-06-30T20:54:54.466256",
     "exception": false,
     "start_time": "2024-06-30T20:54:54.461061",
     "status": "completed"
    },
    "tags": []
   },
   "source": [
    "**Merging cell and patient latent features**"
   ]
  },
  {
   "cell_type": "code",
   "execution_count": 8,
   "id": "a326d2b1",
   "metadata": {
    "execution": {
     "iopub.execute_input": "2024-06-30T20:54:54.477394Z",
     "iopub.status.busy": "2024-06-30T20:54:54.477155Z",
     "iopub.status.idle": "2024-06-30T20:54:54.479574Z",
     "shell.execute_reply": "2024-06-30T20:54:54.479203Z"
    },
    "papermill": {
     "duration": 0.008707,
     "end_time": "2024-06-30T20:54:54.480334",
     "exception": false,
     "start_time": "2024-06-30T20:54:54.471627",
     "status": "completed"
    },
    "tags": []
   },
   "outputs": [],
   "source": [
    "PBcellDF = adataPBcell.to_df()\n",
    "PBcellDF['sampleID'] = adataPBcell.obs['sampleID']"
   ]
  },
  {
   "cell_type": "code",
   "execution_count": 9,
   "id": "1a597f46-d9c5-403b-b81e-5738ca206682",
   "metadata": {
    "execution": {
     "iopub.execute_input": "2024-06-30T20:54:54.491443Z",
     "iopub.status.busy": "2024-06-30T20:54:54.491164Z",
     "iopub.status.idle": "2024-06-30T20:54:54.493573Z",
     "shell.execute_reply": "2024-06-30T20:54:54.493193Z"
    },
    "papermill": {
     "duration": 0.008833,
     "end_time": "2024-06-30T20:54:54.494333",
     "exception": false,
     "start_time": "2024-06-30T20:54:54.485500",
     "status": "completed"
    },
    "tags": []
   },
   "outputs": [],
   "source": [
    "PBsampleDF = adataPBsample.to_df()\n",
    "PBsampleDF['sampleID'] = adataPBsample.obs['sampleID']"
   ]
  },
  {
   "cell_type": "code",
   "execution_count": 10,
   "id": "bb384751-fe1b-4635-a90d-fd98ae61b173",
   "metadata": {
    "execution": {
     "iopub.execute_input": "2024-06-30T20:54:54.506112Z",
     "iopub.status.busy": "2024-06-30T20:54:54.505677Z",
     "iopub.status.idle": "2024-06-30T20:54:54.510267Z",
     "shell.execute_reply": "2024-06-30T20:54:54.509888Z"
    },
    "papermill": {
     "duration": 0.01104,
     "end_time": "2024-06-30T20:54:54.511019",
     "exception": false,
     "start_time": "2024-06-30T20:54:54.499979",
     "status": "completed"
    },
    "tags": []
   },
   "outputs": [],
   "source": [
    "PBcell_sampleDF = PBcellDF.merge(PBsampleDF, on='sampleID', how='left')"
   ]
  },
  {
   "cell_type": "code",
   "execution_count": 11,
   "id": "f7250713-e24d-4614-9cbd-eed702340640",
   "metadata": {
    "execution": {
     "iopub.execute_input": "2024-06-30T20:54:54.522473Z",
     "iopub.status.busy": "2024-06-30T20:54:54.522108Z",
     "iopub.status.idle": "2024-06-30T20:54:54.524481Z",
     "shell.execute_reply": "2024-06-30T20:54:54.524094Z"
    },
    "papermill": {
     "duration": 0.008928,
     "end_time": "2024-06-30T20:54:54.525221",
     "exception": false,
     "start_time": "2024-06-30T20:54:54.516293",
     "status": "completed"
    },
    "tags": []
   },
   "outputs": [],
   "source": [
    "assert(adataPBcell.obs['sampleID'].tolist() == PBcell_sampleDF['sampleID'].tolist())"
   ]
  },
  {
   "cell_type": "code",
   "execution_count": 12,
   "id": "abea2252-6a12-4b89-9f0d-6d6df90064fb",
   "metadata": {
    "execution": {
     "iopub.execute_input": "2024-06-30T20:54:54.536879Z",
     "iopub.status.busy": "2024-06-30T20:54:54.536608Z",
     "iopub.status.idle": "2024-06-30T20:54:54.539367Z",
     "shell.execute_reply": "2024-06-30T20:54:54.538991Z"
    },
    "papermill": {
     "duration": 0.009303,
     "end_time": "2024-06-30T20:54:54.540123",
     "exception": false,
     "start_time": "2024-06-30T20:54:54.530820",
     "status": "completed"
    },
    "tags": []
   },
   "outputs": [],
   "source": [
    "PBcell_sampleDF.drop('sampleID', axis=1, inplace=True)"
   ]
  },
  {
   "cell_type": "code",
   "execution_count": 13,
   "id": "5502e45d-5c72-4440-a8c1-5b299cac6e2d",
   "metadata": {
    "execution": {
     "iopub.execute_input": "2024-06-30T20:54:54.551667Z",
     "iopub.status.busy": "2024-06-30T20:54:54.551424Z",
     "iopub.status.idle": "2024-06-30T20:54:54.554930Z",
     "shell.execute_reply": "2024-06-30T20:54:54.554572Z"
    },
    "papermill": {
     "duration": 0.010248,
     "end_time": "2024-06-30T20:54:54.555698",
     "exception": false,
     "start_time": "2024-06-30T20:54:54.545450",
     "status": "completed"
    },
    "tags": []
   },
   "outputs": [
    {
     "data": {
      "text/plain": [
       "AnnData object with n_obs × n_vars = 2098 × 120\n",
       "    obs: 'sampleID', 'Level1', 'disease', 'n_observation'"
      ]
     },
     "execution_count": 13,
     "metadata": {},
     "output_type": "execute_result"
    }
   ],
   "source": [
    "adataPBcell_sample = sc.AnnData(X = PBcell_sampleDF, obs = adataPBcell.obs)\n",
    "adataPBcell_sample"
   ]
  },
  {
   "cell_type": "markdown",
   "id": "d59574be-684b-4082-b8b6-7d11930362ad",
   "metadata": {
    "papermill": {
     "duration": 0.005429,
     "end_time": "2024-06-30T20:54:54.566804",
     "exception": false,
     "start_time": "2024-06-30T20:54:54.561375",
     "status": "completed"
    },
    "tags": []
   },
   "source": [
    "### Saving pseudobulk adata objects"
   ]
  },
  {
   "cell_type": "code",
   "execution_count": 14,
   "id": "5947e6f8-ac27-4702-ba5d-aa9e1ba79f6a",
   "metadata": {
    "execution": {
     "iopub.execute_input": "2024-06-30T20:54:54.578780Z",
     "iopub.status.busy": "2024-06-30T20:54:54.578500Z",
     "iopub.status.idle": "2024-06-30T20:54:54.610409Z",
     "shell.execute_reply": "2024-06-30T20:54:54.609985Z"
    },
    "papermill": {
     "duration": 0.038684,
     "end_time": "2024-06-30T20:54:54.611204",
     "exception": false,
     "start_time": "2024-06-30T20:54:54.572520",
     "status": "completed"
    },
    "tags": []
   },
   "outputs": [],
   "source": [
    "adataPBcell.write(here(adataPATHlist[0].replace('/scPoli_','/PSEUDOBULKs/scPoli_PSEUDOBULKcell_')), compression='gzip')"
   ]
  },
  {
   "cell_type": "code",
   "execution_count": 15,
   "id": "e9485945-bccf-419a-9420-c1e4f3aa262d",
   "metadata": {
    "execution": {
     "iopub.execute_input": "2024-06-30T20:54:54.622840Z",
     "iopub.status.busy": "2024-06-30T20:54:54.622553Z",
     "iopub.status.idle": "2024-06-30T20:54:54.643763Z",
     "shell.execute_reply": "2024-06-30T20:54:54.643381Z"
    },
    "papermill": {
     "duration": 0.027917,
     "end_time": "2024-06-30T20:54:54.644574",
     "exception": false,
     "start_time": "2024-06-30T20:54:54.616657",
     "status": "completed"
    },
    "tags": []
   },
   "outputs": [],
   "source": [
    "adataPBsample.write(here(adataPATHlist[0].replace('/scPoli_','/PSEUDOBULKs/scPoli_PSEUDOBULKsample_')), compression='gzip')"
   ]
  },
  {
   "cell_type": "code",
   "execution_count": 16,
   "id": "9c2daa40-3279-4b24-8aad-65ee0ba758c8",
   "metadata": {
    "execution": {
     "iopub.execute_input": "2024-06-30T20:54:54.656828Z",
     "iopub.status.busy": "2024-06-30T20:54:54.656508Z",
     "iopub.status.idle": "2024-06-30T20:54:54.694656Z",
     "shell.execute_reply": "2024-06-30T20:54:54.694246Z"
    },
    "papermill": {
     "duration": 0.044825,
     "end_time": "2024-06-30T20:54:54.695478",
     "exception": false,
     "start_time": "2024-06-30T20:54:54.650653",
     "status": "completed"
    },
    "tags": []
   },
   "outputs": [],
   "source": [
    "adataPBcell_sample.write(here(adataPATHlist[0].replace('/scPoli_','/PSEUDOBULKs/scPoli_PSEUDOBULKcellSample_')), compression='gzip')"
   ]
  },
  {
   "cell_type": "code",
   "execution_count": null,
   "id": "8a70d9f6-7a44-45ee-8470-702bd7af1e0b",
   "metadata": {
    "papermill": {
     "duration": 0.005487,
     "end_time": "2024-06-30T20:54:54.707042",
     "exception": false,
     "start_time": "2024-06-30T20:54:54.701555",
     "status": "completed"
    },
    "tags": []
   },
   "outputs": [],
   "source": []
  }
 ],
 "metadata": {
  "kernelspec": {
   "display_name": "Python 3 (ipykernel)",
   "language": "python",
   "name": "python3"
  },
  "language_info": {
   "codemirror_mode": {
    "name": "ipython",
    "version": 3
   },
   "file_extension": ".py",
   "mimetype": "text/x-python",
   "name": "python",
   "nbconvert_exporter": "python",
   "pygments_lexer": "ipython3",
   "version": "3.12.3"
  },
  "papermill": {
   "default_parameters": {},
   "duration": 6.050673,
   "end_time": "2024-06-30T20:54:55.228533",
   "environment_variables": {},
   "exception": null,
   "input_path": "03_generating_PSEUDOBULKs.ipynb",
   "output_path": "executed_notebooks/03_generating_PSEUDOBULKs_VALIDATION_20nEmb_100nPEmb.ipynb",
   "parameters": {
    "adataPATH": "03_downstream_analysis/08_PatientClassifier/scPoli/results/scPoli_VALIDATION_2_20_100_*.h5ad"
   },
   "start_time": "2024-06-30T20:54:49.177860",
   "version": "2.6.0"
  }
 },
 "nbformat": 4,
 "nbformat_minor": 5
}