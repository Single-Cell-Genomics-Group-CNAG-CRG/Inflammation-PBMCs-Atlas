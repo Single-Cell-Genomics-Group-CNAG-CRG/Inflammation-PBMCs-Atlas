{
 "cells": [
  {
   "cell_type": "code",
   "execution_count": 1,
   "id": "8865d7e9",
   "metadata": {
    "execution": {
     "iopub.execute_input": "2024-06-30T20:55:02.967516Z",
     "iopub.status.busy": "2024-06-30T20:55:02.967111Z",
     "iopub.status.idle": "2024-06-30T20:55:02.969998Z",
     "shell.execute_reply": "2024-06-30T20:55:02.969593Z"
    },
    "papermill": {
     "duration": 0.010427,
     "end_time": "2024-06-30T20:55:02.970844",
     "exception": false,
     "start_time": "2024-06-30T20:55:02.960417",
     "status": "completed"
    },
    "tags": [
     "injected-parameters"
    ]
   },
   "outputs": [],
   "source": [
    "# Parameters\n",
    "adataPATH = \"03_downstream_analysis/08_PatientClassifier/scPoli/results/scPoli_VALIDATION_2_100_20_*.h5ad\"\n"
   ]
  },
  {
   "cell_type": "raw",
   "id": "bf9880bd-3aef-477b-807d-37e3c5603037",
   "metadata": {
    "execution": {
     "iopub.execute_input": "2024-06-29T08:23:25.403219Z",
     "iopub.status.busy": "2024-06-29T08:23:25.402857Z",
     "iopub.status.idle": "2024-06-29T08:23:25.406428Z",
     "shell.execute_reply": "2024-06-29T08:23:25.406014Z",
     "shell.execute_reply.started": "2024-06-29T08:23:25.403185Z"
    },
    "papermill": {
     "duration": 0.00452,
     "end_time": "2024-06-30T20:55:02.980143",
     "exception": false,
     "start_time": "2024-06-30T20:55:02.975623",
     "status": "completed"
    },
    "tags": [],
    "vscode": {
     "languageId": "raw"
    }
   },
   "source": [
    "adataMAINpath = '03_downstream_analysis/08_PatientClassifier/scPoli/results/scPoli_2_100_20_*.h5ad'\n",
    "\n",
    "adataVALpath = '03_downstream_analysis/08_PatientClassifier/scPoli/results/scPoli_VALIDATION_2_20_20*.h5ad'\n",
    "adataEXCpath = '03_downstream_analysis/08_PatientClassifier/scPoli/results/scPoli_EXCLUDED_2_100_20_run1_pd5nyb4g.h5ad'\n",
    "adataEXTpath = '03_downstream_analysis/08_PatientClassifier/scPoli/results/scPoli_EXTERNAL_2_100_20_run1_pd5nyb4g.h5ad'\n",
    "\n",
    "adataPATH = adataVALpath"
   ]
  },
  {
   "cell_type": "code",
   "execution_count": 2,
   "id": "d3ccb10a-7201-43d0-a593-2b4650ff3451",
   "metadata": {
    "execution": {
     "iopub.execute_input": "2024-06-30T20:55:02.990143Z",
     "iopub.status.busy": "2024-06-30T20:55:02.989837Z",
     "iopub.status.idle": "2024-06-30T20:55:02.992924Z",
     "shell.execute_reply": "2024-06-30T20:55:02.992506Z"
    },
    "papermill": {
     "duration": 0.009012,
     "end_time": "2024-06-30T20:55:02.993756",
     "exception": false,
     "start_time": "2024-06-30T20:55:02.984744",
     "status": "completed"
    },
    "tags": []
   },
   "outputs": [
    {
     "name": "stdout",
     "output_type": "stream",
     "text": [
      "adataPATH = 03_downstream_analysis/08_PatientClassifier/scPoli/results/scPoli_VALIDATION_2_100_20_*.h5ad\n"
     ]
    }
   ],
   "source": [
    "for v in ['adataPATH']:\n",
    "    if v in locals() or v in globals():\n",
    "        print(f\"{v} = {eval(v)}\")\n",
    "    else:\n",
    "        raise Exception(f\"{v} not specified\")"
   ]
  },
  {
   "cell_type": "code",
   "execution_count": 3,
   "id": "888fb5f4-9ab7-4196-a282-7a7e92a43971",
   "metadata": {
    "execution": {
     "iopub.execute_input": "2024-06-30T20:55:03.004100Z",
     "iopub.status.busy": "2024-06-30T20:55:03.003817Z",
     "iopub.status.idle": "2024-06-30T20:55:04.350471Z",
     "shell.execute_reply": "2024-06-30T20:55:04.350052Z"
    },
    "papermill": {
     "duration": 1.353171,
     "end_time": "2024-06-30T20:55:04.351749",
     "exception": false,
     "start_time": "2024-06-30T20:55:02.998578",
     "status": "completed"
    },
    "tags": []
   },
   "outputs": [],
   "source": [
    "import os\n",
    "import sys\n",
    "from glob import glob\n",
    "\n",
    "import scanpy as sc\n",
    "import pandas as pd\n",
    "\n",
    "from pyprojroot import here\n",
    "\n",
    "sys.path.insert(1, str(here('bin')))\n",
    "# Import custom functions\n",
    "from customPythonFunctions import aggregating_features"
   ]
  },
  {
   "cell_type": "markdown",
   "id": "ba4905ae-4546-4ef4-b57b-950441ab079d",
   "metadata": {
    "papermill": {
     "duration": 0.004594,
     "end_time": "2024-06-30T20:55:04.367175",
     "exception": false,
     "start_time": "2024-06-30T20:55:04.362581",
     "status": "completed"
    },
    "tags": []
   },
   "source": [
    "### Loading data"
   ]
  },
  {
   "cell_type": "code",
   "execution_count": 4,
   "id": "539cbbbb-3503-4f51-bf04-f007f928ebd1",
   "metadata": {
    "execution": {
     "iopub.execute_input": "2024-06-30T20:55:04.377534Z",
     "iopub.status.busy": "2024-06-30T20:55:04.377107Z",
     "iopub.status.idle": "2024-06-30T20:55:04.380967Z",
     "shell.execute_reply": "2024-06-30T20:55:04.380664Z"
    },
    "papermill": {
     "duration": 0.009788,
     "end_time": "2024-06-30T20:55:04.381728",
     "exception": false,
     "start_time": "2024-06-30T20:55:04.371940",
     "status": "completed"
    },
    "tags": []
   },
   "outputs": [],
   "source": [
    "adataPATHlist = glob(str(here(adataPATH)))\n",
    "assert(len(adataPATHlist) == 1)"
   ]
  },
  {
   "cell_type": "code",
   "execution_count": 5,
   "id": "0fcfce0a-896b-4dc0-8e5e-46749205c84f",
   "metadata": {
    "execution": {
     "iopub.execute_input": "2024-06-30T20:55:04.404802Z",
     "iopub.status.busy": "2024-06-30T20:55:04.404531Z",
     "iopub.status.idle": "2024-06-30T20:55:07.281392Z",
     "shell.execute_reply": "2024-06-30T20:55:07.281040Z"
    },
    "papermill": {
     "duration": 2.883606,
     "end_time": "2024-06-30T20:55:07.282177",
     "exception": false,
     "start_time": "2024-06-30T20:55:04.398571",
     "status": "completed"
    },
    "tags": []
   },
   "outputs": [
    {
     "data": {
      "text/plain": [
       "AnnData object with n_obs × n_vars = 849922 × 100\n",
       "    obs: 'studyID', 'libraryID', 'sampleID', 'chemistry', 'technology', 'disease', 'sex', 'binned_age', 'Level1', 'Level1_unc', 'Level2', 'Level2_unc'\n",
       "    uns: 'chemistry', 'sampleID'"
      ]
     },
     "execution_count": 5,
     "metadata": {},
     "output_type": "execute_result"
    }
   ],
   "source": [
    "adata = sc.read_h5ad(adataPATHlist[0])\n",
    "adata"
   ]
  },
  {
   "cell_type": "markdown",
   "id": "44e868b3-0771-4225-bd79-a4b179bc672b",
   "metadata": {
    "papermill": {
     "duration": 0.004618,
     "end_time": "2024-06-30T20:55:07.293026",
     "exception": false,
     "start_time": "2024-06-30T20:55:07.288408",
     "status": "completed"
    },
    "tags": []
   },
   "source": [
    "#### Generating PSEUDOBULKs"
   ]
  },
  {
   "cell_type": "markdown",
   "id": "97d09fc5-d05c-471e-87fa-fe58ccbe47ac",
   "metadata": {
    "papermill": {
     "duration": 0.004548,
     "end_time": "2024-06-30T20:55:07.302294",
     "exception": false,
     "start_time": "2024-06-30T20:55:07.297746",
     "status": "completed"
    },
    "tags": []
   },
   "source": [
    "**Aggregating cell latent features**"
   ]
  },
  {
   "cell_type": "code",
   "execution_count": 6,
   "id": "81223976-fcf6-4354-8964-b12d76468636",
   "metadata": {
    "execution": {
     "iopub.execute_input": "2024-06-30T20:55:07.312371Z",
     "iopub.status.busy": "2024-06-30T20:55:07.312215Z",
     "iopub.status.idle": "2024-06-30T20:55:07.806702Z",
     "shell.execute_reply": "2024-06-30T20:55:07.806354Z"
    },
    "papermill": {
     "duration": 0.500497,
     "end_time": "2024-06-30T20:55:07.807488",
     "exception": false,
     "start_time": "2024-06-30T20:55:07.306991",
     "status": "completed"
    },
    "tags": []
   },
   "outputs": [
    {
     "data": {
      "text/plain": [
       "AnnData object with n_obs × n_vars = 2115 × 100\n",
       "    obs: 'sampleID', 'Level1', 'disease', 'n_observation'"
      ]
     },
     "execution_count": 6,
     "metadata": {},
     "output_type": "execute_result"
    }
   ],
   "source": [
    "adataPBcell = aggregating_features(Z = adata.X, \n",
    "                             obsDF = adata.obs[['sampleID','Level1','disease']], \n",
    "                             mode = 'mean', \n",
    "                             obs_names_col=['sampleID','Level1'], \n",
    "                             min_observation=0)\n",
    "adataPBcell"
   ]
  },
  {
   "cell_type": "code",
   "execution_count": null,
   "id": "8495038e-aebd-4003-bd94-c1e49f47249e",
   "metadata": {
    "papermill": {
     "duration": 0.004742,
     "end_time": "2024-06-30T20:55:07.817574",
     "exception": false,
     "start_time": "2024-06-30T20:55:07.812832",
     "status": "completed"
    },
    "tags": []
   },
   "outputs": [],
   "source": []
  },
  {
   "cell_type": "markdown",
   "id": "6d602bad-4793-4aa4-b3d7-d118d413a0fc",
   "metadata": {
    "papermill": {
     "duration": 0.004713,
     "end_time": "2024-06-30T20:55:07.827577",
     "exception": false,
     "start_time": "2024-06-30T20:55:07.822864",
     "status": "completed"
    },
    "tags": []
   },
   "source": [
    "**Extracting sample embedding**"
   ]
  },
  {
   "cell_type": "code",
   "execution_count": 7,
   "id": "e2c14f02",
   "metadata": {
    "execution": {
     "iopub.execute_input": "2024-06-30T20:55:07.837676Z",
     "iopub.status.busy": "2024-06-30T20:55:07.837384Z",
     "iopub.status.idle": "2024-06-30T20:55:07.845154Z",
     "shell.execute_reply": "2024-06-30T20:55:07.844859Z"
    },
    "papermill": {
     "duration": 0.013671,
     "end_time": "2024-06-30T20:55:07.845917",
     "exception": false,
     "start_time": "2024-06-30T20:55:07.832246",
     "status": "completed"
    },
    "tags": []
   },
   "outputs": [
    {
     "data": {
      "text/plain": [
       "AnnData object with n_obs × n_vars = 144 × 20\n",
       "    obs: 'sampleID', 'disease', 'Level1'"
      ]
     },
     "execution_count": 7,
     "metadata": {},
     "output_type": "execute_result"
    }
   ],
   "source": [
    "adataPBsample = adata.uns['sampleID'].copy()\n",
    "adataPBsample.obs['sampleID'] = adataPBsample.obs.index\n",
    "adataPBsample = adataPBsample[adataPBsample.obs['sampleID'].isin(adataPBcell.obs['sampleID'])]\n",
    "\n",
    "adataPBsample.obs = adataPBsample.obs.merge(adataPBcell.obs.groupby('sampleID').agg({'disease':'first'}), left_index=True, right_index=True)\n",
    "adataPBsample.obs['Level1'] = 'sample'\n",
    "adataPBsample"
   ]
  },
  {
   "cell_type": "markdown",
   "id": "2d4fe137-7d68-4e86-a85c-3c1a3d3c4c71",
   "metadata": {
    "papermill": {
     "duration": 0.00501,
     "end_time": "2024-06-30T20:55:07.857046",
     "exception": false,
     "start_time": "2024-06-30T20:55:07.852036",
     "status": "completed"
    },
    "tags": []
   },
   "source": [
    "**Merging cell and patient latent features**"
   ]
  },
  {
   "cell_type": "code",
   "execution_count": 8,
   "id": "a326d2b1",
   "metadata": {
    "execution": {
     "iopub.execute_input": "2024-06-30T20:55:07.869299Z",
     "iopub.status.busy": "2024-06-30T20:55:07.868961Z",
     "iopub.status.idle": "2024-06-30T20:55:07.871239Z",
     "shell.execute_reply": "2024-06-30T20:55:07.870946Z"
    },
    "papermill": {
     "duration": 0.009926,
     "end_time": "2024-06-30T20:55:07.871981",
     "exception": false,
     "start_time": "2024-06-30T20:55:07.862055",
     "status": "completed"
    },
    "tags": []
   },
   "outputs": [],
   "source": [
    "PBcellDF = adataPBcell.to_df()\n",
    "PBcellDF['sampleID'] = adataPBcell.obs['sampleID']"
   ]
  },
  {
   "cell_type": "code",
   "execution_count": 9,
   "id": "1a597f46-d9c5-403b-b81e-5738ca206682",
   "metadata": {
    "execution": {
     "iopub.execute_input": "2024-06-30T20:55:07.882960Z",
     "iopub.status.busy": "2024-06-30T20:55:07.882706Z",
     "iopub.status.idle": "2024-06-30T20:55:07.884872Z",
     "shell.execute_reply": "2024-06-30T20:55:07.884587Z"
    },
    "papermill": {
     "duration": 0.008462,
     "end_time": "2024-06-30T20:55:07.885613",
     "exception": false,
     "start_time": "2024-06-30T20:55:07.877151",
     "status": "completed"
    },
    "tags": []
   },
   "outputs": [],
   "source": [
    "PBsampleDF = adataPBsample.to_df()\n",
    "PBsampleDF['sampleID'] = adataPBsample.obs['sampleID']"
   ]
  },
  {
   "cell_type": "code",
   "execution_count": 10,
   "id": "bb384751-fe1b-4635-a90d-fd98ae61b173",
   "metadata": {
    "execution": {
     "iopub.execute_input": "2024-06-30T20:55:07.897021Z",
     "iopub.status.busy": "2024-06-30T20:55:07.896891Z",
     "iopub.status.idle": "2024-06-30T20:55:07.900936Z",
     "shell.execute_reply": "2024-06-30T20:55:07.900637Z"
    },
    "papermill": {
     "duration": 0.010984,
     "end_time": "2024-06-30T20:55:07.901678",
     "exception": false,
     "start_time": "2024-06-30T20:55:07.890694",
     "status": "completed"
    },
    "tags": []
   },
   "outputs": [],
   "source": [
    "PBcell_sampleDF = PBcellDF.merge(PBsampleDF, on='sampleID', how='left')"
   ]
  },
  {
   "cell_type": "code",
   "execution_count": 11,
   "id": "f7250713-e24d-4614-9cbd-eed702340640",
   "metadata": {
    "execution": {
     "iopub.execute_input": "2024-06-30T20:55:07.912306Z",
     "iopub.status.busy": "2024-06-30T20:55:07.912052Z",
     "iopub.status.idle": "2024-06-30T20:55:07.914213Z",
     "shell.execute_reply": "2024-06-30T20:55:07.913916Z"
    },
    "papermill": {
     "duration": 0.008349,
     "end_time": "2024-06-30T20:55:07.914964",
     "exception": false,
     "start_time": "2024-06-30T20:55:07.906615",
     "status": "completed"
    },
    "tags": []
   },
   "outputs": [],
   "source": [
    "assert(adataPBcell.obs['sampleID'].tolist() == PBcell_sampleDF['sampleID'].tolist())"
   ]
  },
  {
   "cell_type": "code",
   "execution_count": 12,
   "id": "abea2252-6a12-4b89-9f0d-6d6df90064fb",
   "metadata": {
    "execution": {
     "iopub.execute_input": "2024-06-30T20:55:07.925966Z",
     "iopub.status.busy": "2024-06-30T20:55:07.925713Z",
     "iopub.status.idle": "2024-06-30T20:55:07.927944Z",
     "shell.execute_reply": "2024-06-30T20:55:07.927649Z"
    },
    "papermill": {
     "duration": 0.008772,
     "end_time": "2024-06-30T20:55:07.928700",
     "exception": false,
     "start_time": "2024-06-30T20:55:07.919928",
     "status": "completed"
    },
    "tags": []
   },
   "outputs": [],
   "source": [
    "PBcell_sampleDF.drop('sampleID', axis=1, inplace=True)"
   ]
  },
  {
   "cell_type": "code",
   "execution_count": 13,
   "id": "5502e45d-5c72-4440-a8c1-5b299cac6e2d",
   "metadata": {
    "execution": {
     "iopub.execute_input": "2024-06-30T20:55:07.939104Z",
     "iopub.status.busy": "2024-06-30T20:55:07.938850Z",
     "iopub.status.idle": "2024-06-30T20:55:07.942029Z",
     "shell.execute_reply": "2024-06-30T20:55:07.941747Z"
    },
    "papermill": {
     "duration": 0.009159,
     "end_time": "2024-06-30T20:55:07.942771",
     "exception": false,
     "start_time": "2024-06-30T20:55:07.933612",
     "status": "completed"
    },
    "tags": []
   },
   "outputs": [
    {
     "data": {
      "text/plain": [
       "AnnData object with n_obs × n_vars = 2115 × 120\n",
       "    obs: 'sampleID', 'Level1', 'disease', 'n_observation'"
      ]
     },
     "execution_count": 13,
     "metadata": {},
     "output_type": "execute_result"
    }
   ],
   "source": [
    "adataPBcell_sample = sc.AnnData(X = PBcell_sampleDF, obs = adataPBcell.obs)\n",
    "adataPBcell_sample"
   ]
  },
  {
   "cell_type": "markdown",
   "id": "d59574be-684b-4082-b8b6-7d11930362ad",
   "metadata": {
    "papermill": {
     "duration": 0.004959,
     "end_time": "2024-06-30T20:55:07.952846",
     "exception": false,
     "start_time": "2024-06-30T20:55:07.947887",
     "status": "completed"
    },
    "tags": []
   },
   "source": [
    "### Saving pseudobulk adata objects"
   ]
  },
  {
   "cell_type": "code",
   "execution_count": 14,
   "id": "5947e6f8-ac27-4702-ba5d-aa9e1ba79f6a",
   "metadata": {
    "execution": {
     "iopub.execute_input": "2024-06-30T20:55:07.964129Z",
     "iopub.status.busy": "2024-06-30T20:55:07.963756Z",
     "iopub.status.idle": "2024-06-30T20:55:08.015350Z",
     "shell.execute_reply": "2024-06-30T20:55:08.014983Z"
    },
    "papermill": {
     "duration": 0.058563,
     "end_time": "2024-06-30T20:55:08.016626",
     "exception": false,
     "start_time": "2024-06-30T20:55:07.958063",
     "status": "completed"
    },
    "tags": []
   },
   "outputs": [],
   "source": [
    "adataPBcell.write(here(adataPATHlist[0].replace('/scPoli_','/PSEUDOBULKs/scPoli_PSEUDOBULKcell_')), compression='gzip')"
   ]
  },
  {
   "cell_type": "code",
   "execution_count": 15,
   "id": "e9485945-bccf-419a-9420-c1e4f3aa262d",
   "metadata": {
    "execution": {
     "iopub.execute_input": "2024-06-30T20:55:08.027775Z",
     "iopub.status.busy": "2024-06-30T20:55:08.027513Z",
     "iopub.status.idle": "2024-06-30T20:55:08.048371Z",
     "shell.execute_reply": "2024-06-30T20:55:08.048036Z"
    },
    "papermill": {
     "duration": 0.027347,
     "end_time": "2024-06-30T20:55:08.049145",
     "exception": false,
     "start_time": "2024-06-30T20:55:08.021798",
     "status": "completed"
    },
    "tags": []
   },
   "outputs": [],
   "source": [
    "adataPBsample.write(here(adataPATHlist[0].replace('/scPoli_','/PSEUDOBULKs/scPoli_PSEUDOBULKsample_')), compression='gzip')"
   ]
  },
  {
   "cell_type": "code",
   "execution_count": 16,
   "id": "9c2daa40-3279-4b24-8aad-65ee0ba758c8",
   "metadata": {
    "execution": {
     "iopub.execute_input": "2024-06-30T20:55:08.060412Z",
     "iopub.status.busy": "2024-06-30T20:55:08.060025Z",
     "iopub.status.idle": "2024-06-30T20:55:08.112477Z",
     "shell.execute_reply": "2024-06-30T20:55:08.112132Z"
    },
    "papermill": {
     "duration": 0.059257,
     "end_time": "2024-06-30T20:55:08.113689",
     "exception": false,
     "start_time": "2024-06-30T20:55:08.054432",
     "status": "completed"
    },
    "tags": []
   },
   "outputs": [],
   "source": [
    "adataPBcell_sample.write(here(adataPATHlist[0].replace('/scPoli_','/PSEUDOBULKs/scPoli_PSEUDOBULKcellSample_')), compression='gzip')"
   ]
  },
  {
   "cell_type": "code",
   "execution_count": null,
   "id": "8a70d9f6-7a44-45ee-8470-702bd7af1e0b",
   "metadata": {
    "papermill": {
     "duration": 0.005206,
     "end_time": "2024-06-30T20:55:08.124296",
     "exception": false,
     "start_time": "2024-06-30T20:55:08.119090",
     "status": "completed"
    },
    "tags": []
   },
   "outputs": [],
   "source": []
  }
 ],
 "metadata": {
  "kernelspec": {
   "display_name": "Python 3 (ipykernel)",
   "language": "python",
   "name": "python3"
  },
  "language_info": {
   "codemirror_mode": {
    "name": "ipython",
    "version": 3
   },
   "file_extension": ".py",
   "mimetype": "text/x-python",
   "name": "python",
   "nbconvert_exporter": "python",
   "pygments_lexer": "ipython3",
   "version": "3.12.3"
  },
  "papermill": {
   "default_parameters": {},
   "duration": 6.860921,
   "end_time": "2024-06-30T20:55:08.644139",
   "environment_variables": {},
   "exception": null,
   "input_path": "03_generating_PSEUDOBULKs.ipynb",
   "output_path": "executed_notebooks/03_generating_PSEUDOBULKs_VALIDATION_100nEmb_20nPEmb.ipynb",
   "parameters": {
    "adataPATH": "03_downstream_analysis/08_PatientClassifier/scPoli/results/scPoli_VALIDATION_2_100_20_*.h5ad"
   },
   "start_time": "2024-06-30T20:55:01.783218",
   "version": "2.6.0"
  }
 },
 "nbformat": 4,
 "nbformat_minor": 5
}