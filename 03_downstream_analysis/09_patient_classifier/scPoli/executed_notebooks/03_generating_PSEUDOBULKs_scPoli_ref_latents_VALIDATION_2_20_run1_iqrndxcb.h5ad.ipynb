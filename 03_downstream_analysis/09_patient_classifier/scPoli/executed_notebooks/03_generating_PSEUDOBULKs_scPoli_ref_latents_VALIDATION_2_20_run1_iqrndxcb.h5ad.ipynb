{
 "cells": [
  {
   "cell_type": "code",
   "execution_count": 1,
   "id": "07193ccc",
   "metadata": {
    "execution": {
     "iopub.execute_input": "2024-06-27T16:47:50.129495Z",
     "iopub.status.busy": "2024-06-27T16:47:50.129216Z",
     "iopub.status.idle": "2024-06-27T16:47:50.134549Z",
     "shell.execute_reply": "2024-06-27T16:47:50.134176Z"
    },
    "papermill": {
     "duration": 0.016408,
     "end_time": "2024-06-27T16:47:50.135573",
     "exception": false,
     "start_time": "2024-06-27T16:47:50.119165",
     "status": "completed"
    },
    "tags": [
     "injected-parameters"
    ]
   },
   "outputs": [],
   "source": [
    "# Parameters\n",
    "adataPATH = \"03_downstream_analysis/08_PatientClassifier/scPoli/results/scPoli_ref_latents_VALIDATION_2_20_run1_iqrndxcb.h5ad\"\n"
   ]
  },
  {
   "cell_type": "raw",
   "id": "45ccaa27-b0ec-4740-9b7d-9409b7a94ac0",
   "metadata": {
    "papermill": {
     "duration": 0.005611,
     "end_time": "2024-06-27T16:47:50.149497",
     "exception": false,
     "start_time": "2024-06-27T16:47:50.143886",
     "status": "completed"
    },
    "tags": [],
    "vscode": {
     "languageId": "raw"
    }
   },
   "source": [
    "adataMAINpath = '03_downstream_analysis/08_PatientClassifier/scPoli/results/scPoli_2_100_20_*.h5ad'\n",
    "\n",
    "adataVALpath = '03_downstream_analysis/08_PatientClassifier/scPoli/results/scPoli_VALIDATION_2_200_100*.h5ad'\n",
    "adataEXCpath = '03_downstream_analysis/08_PatientClassifier/scPoli/results/scPoli_EXCLUDED_2_100_20_run1_pd5nyb4g.h5ad'\n",
    "adataEXTpath = '03_downstream_analysis/08_PatientClassifier/scPoli/results/scPoli_EXTERNAL_2_100_20_run1_pd5nyb4g.h5ad'\n",
    "\n",
    "adataPATH = adataVALpath"
   ]
  },
  {
   "cell_type": "code",
   "execution_count": 2,
   "id": "d3ccb10a-7201-43d0-a593-2b4650ff3451",
   "metadata": {
    "execution": {
     "iopub.execute_input": "2024-06-27T16:47:50.162715Z",
     "iopub.status.busy": "2024-06-27T16:47:50.162436Z",
     "iopub.status.idle": "2024-06-27T16:47:50.165680Z",
     "shell.execute_reply": "2024-06-27T16:47:50.165297Z"
    },
    "papermill": {
     "duration": 0.011881,
     "end_time": "2024-06-27T16:47:50.166678",
     "exception": false,
     "start_time": "2024-06-27T16:47:50.154797",
     "status": "completed"
    },
    "tags": []
   },
   "outputs": [
    {
     "name": "stdout",
     "output_type": "stream",
     "text": [
      "adataPATH = 03_downstream_analysis/08_PatientClassifier/scPoli/results/scPoli_ref_latents_VALIDATION_2_20_run1_iqrndxcb.h5ad\n"
     ]
    }
   ],
   "source": [
    "for v in ['adataPATH']:\n",
    "    if v in locals() or v in globals():\n",
    "        print(f\"{v} = {eval(v)}\")\n",
    "    else:\n",
    "        raise Exception(f\"{v} not specified\")"
   ]
  },
  {
   "cell_type": "code",
   "execution_count": 3,
   "id": "888fb5f4-9ab7-4196-a282-7a7e92a43971",
   "metadata": {
    "execution": {
     "iopub.execute_input": "2024-06-27T16:47:50.185425Z",
     "iopub.status.busy": "2024-06-27T16:47:50.185206Z",
     "iopub.status.idle": "2024-06-27T16:47:51.815688Z",
     "shell.execute_reply": "2024-06-27T16:47:51.814985Z"
    },
    "papermill": {
     "duration": 1.640336,
     "end_time": "2024-06-27T16:47:51.817138",
     "exception": false,
     "start_time": "2024-06-27T16:47:50.176802",
     "status": "completed"
    },
    "tags": []
   },
   "outputs": [],
   "source": [
    "import os\n",
    "import sys\n",
    "from glob import glob\n",
    "\n",
    "import scanpy as sc\n",
    "import pandas as pd\n",
    "\n",
    "from pyprojroot import here\n",
    "\n",
    "sys.path.insert(1, str(here('bin')))\n",
    "# Import custom functions\n",
    "from customPythonFunctions import aggregating_features"
   ]
  },
  {
   "cell_type": "markdown",
   "id": "ba4905ae-4546-4ef4-b57b-950441ab079d",
   "metadata": {
    "papermill": {
     "duration": 0.026813,
     "end_time": "2024-06-27T16:47:51.877852",
     "exception": false,
     "start_time": "2024-06-27T16:47:51.851039",
     "status": "completed"
    },
    "tags": []
   },
   "source": [
    "### Loading data"
   ]
  },
  {
   "cell_type": "code",
   "execution_count": 4,
   "id": "539cbbbb-3503-4f51-bf04-f007f928ebd1",
   "metadata": {
    "execution": {
     "iopub.execute_input": "2024-06-27T16:47:52.123329Z",
     "iopub.status.busy": "2024-06-27T16:47:52.122711Z",
     "iopub.status.idle": "2024-06-27T16:47:52.814000Z",
     "shell.execute_reply": "2024-06-27T16:47:52.813327Z"
    },
    "papermill": {
     "duration": 0.874316,
     "end_time": "2024-06-27T16:47:52.815585",
     "exception": false,
     "start_time": "2024-06-27T16:47:51.941269",
     "status": "completed"
    },
    "tags": []
   },
   "outputs": [],
   "source": [
    "adataPATHlist = glob(str(here(adataPATH)))\n",
    "assert(len(adataPATHlist) == 1)"
   ]
  },
  {
   "cell_type": "code",
   "execution_count": 5,
   "id": "0fcfce0a-896b-4dc0-8e5e-46749205c84f",
   "metadata": {
    "execution": {
     "iopub.execute_input": "2024-06-27T16:47:55.292822Z",
     "iopub.status.busy": "2024-06-27T16:47:55.292357Z",
     "iopub.status.idle": "2024-06-27T16:48:07.769315Z",
     "shell.execute_reply": "2024-06-27T16:48:07.768805Z"
    },
    "papermill": {
     "duration": 13.494025,
     "end_time": "2024-06-27T16:48:07.770414",
     "exception": false,
     "start_time": "2024-06-27T16:47:54.276389",
     "status": "completed"
    },
    "tags": []
   },
   "outputs": [
    {
     "data": {
      "text/plain": [
       "AnnData object with n_obs × n_vars = 4435922 × 20\n",
       "    obs: 'studyID', 'libraryID', 'sampleID', 'chemistry', 'disease', 'sex', 'binned_age', 'Level1', 'Level2'\n",
       "    uns: 'chemistry', 'sampleID'"
      ]
     },
     "execution_count": 5,
     "metadata": {},
     "output_type": "execute_result"
    }
   ],
   "source": [
    "adata = sc.read_h5ad(adataPATHlist[0])\n",
    "adata"
   ]
  },
  {
   "cell_type": "markdown",
   "id": "44e868b3-0771-4225-bd79-a4b179bc672b",
   "metadata": {
    "papermill": {
     "duration": 0.055887,
     "end_time": "2024-06-27T16:48:07.838643",
     "exception": false,
     "start_time": "2024-06-27T16:48:07.782756",
     "status": "completed"
    },
    "tags": []
   },
   "source": [
    "#### Generating PSEUDOBULKs"
   ]
  },
  {
   "cell_type": "markdown",
   "id": "97d09fc5-d05c-471e-87fa-fe58ccbe47ac",
   "metadata": {
    "papermill": {
     "duration": 0.035071,
     "end_time": "2024-06-27T16:48:07.899497",
     "exception": false,
     "start_time": "2024-06-27T16:48:07.864426",
     "status": "completed"
    },
    "tags": []
   },
   "source": [
    "**Aggregating cell latent features**"
   ]
  },
  {
   "cell_type": "code",
   "execution_count": 6,
   "id": "81223976-fcf6-4354-8964-b12d76468636",
   "metadata": {
    "execution": {
     "iopub.execute_input": "2024-06-27T16:48:08.038461Z",
     "iopub.status.busy": "2024-06-27T16:48:08.037954Z",
     "iopub.status.idle": "2024-06-27T16:48:09.712004Z",
     "shell.execute_reply": "2024-06-27T16:48:09.711390Z"
    },
    "papermill": {
     "duration": 1.731907,
     "end_time": "2024-06-27T16:48:09.713124",
     "exception": false,
     "start_time": "2024-06-27T16:48:07.981217",
     "status": "completed"
    },
    "tags": []
   },
   "outputs": [
    {
     "data": {
      "text/plain": [
       "AnnData object with n_obs × n_vars = 11372 × 20\n",
       "    obs: 'sampleID', 'Level1', 'disease', 'n_observation'"
      ]
     },
     "execution_count": 6,
     "metadata": {},
     "output_type": "execute_result"
    }
   ],
   "source": [
    "adataPBcell = aggregating_features(Z = adata.X, \n",
    "                             obsDF = adata.obs[['sampleID','Level1','disease']], \n",
    "                             mode = 'mean', \n",
    "                             obs_names_col=['sampleID','Level1'], \n",
    "                             min_observation=0)\n",
    "adataPBcell"
   ]
  },
  {
   "cell_type": "markdown",
   "id": "6d602bad-4793-4aa4-b3d7-d118d413a0fc",
   "metadata": {
    "papermill": {
     "duration": 0.00594,
     "end_time": "2024-06-27T16:48:09.730972",
     "exception": false,
     "start_time": "2024-06-27T16:48:09.725032",
     "status": "completed"
    },
    "tags": []
   },
   "source": [
    "**Extracting sample embedding**"
   ]
  },
  {
   "cell_type": "code",
   "execution_count": 7,
   "id": "e2c14f02",
   "metadata": {
    "execution": {
     "iopub.execute_input": "2024-06-27T16:48:09.745041Z",
     "iopub.status.busy": "2024-06-27T16:48:09.744459Z",
     "iopub.status.idle": "2024-06-27T16:48:09.756810Z",
     "shell.execute_reply": "2024-06-27T16:48:09.756249Z"
    },
    "papermill": {
     "duration": 0.02036,
     "end_time": "2024-06-27T16:48:09.757958",
     "exception": false,
     "start_time": "2024-06-27T16:48:09.737598",
     "status": "completed"
    },
    "tags": []
   },
   "outputs": [
    {
     "data": {
      "text/plain": [
       "AnnData object with n_obs × n_vars = 817 × 20\n",
       "    obs: 'sampleID', 'disease', 'Level1'"
      ]
     },
     "execution_count": 7,
     "metadata": {},
     "output_type": "execute_result"
    }
   ],
   "source": [
    "adataPBsample = adata.uns['sampleID'].copy()\n",
    "adataPBsample.obs['sampleID'] = adataPBsample.obs.index\n",
    "adataPBsample = adataPBsample[adataPBsample.obs['sampleID'].isin(adataPBcell.obs['sampleID'])]\n",
    "\n",
    "adataPBsample.obs = adataPBsample.obs.merge(adataPBcell.obs.groupby('sampleID').agg({'disease':'first'}), left_index=True, right_index=True)\n",
    "adataPBsample.obs['Level1'] = 'sample'\n",
    "adataPBsample"
   ]
  },
  {
   "cell_type": "markdown",
   "id": "2d4fe137-7d68-4e86-a85c-3c1a3d3c4c71",
   "metadata": {
    "papermill": {
     "duration": 0.013049,
     "end_time": "2024-06-27T16:48:09.779808",
     "exception": false,
     "start_time": "2024-06-27T16:48:09.766759",
     "status": "completed"
    },
    "tags": []
   },
   "source": [
    "**Merging cell and patient latent features**"
   ]
  },
  {
   "cell_type": "code",
   "execution_count": 8,
   "id": "a326d2b1",
   "metadata": {
    "execution": {
     "iopub.execute_input": "2024-06-27T16:48:09.805283Z",
     "iopub.status.busy": "2024-06-27T16:48:09.804879Z",
     "iopub.status.idle": "2024-06-27T16:48:09.809151Z",
     "shell.execute_reply": "2024-06-27T16:48:09.808515Z"
    },
    "papermill": {
     "duration": 0.013145,
     "end_time": "2024-06-27T16:48:09.810261",
     "exception": false,
     "start_time": "2024-06-27T16:48:09.797116",
     "status": "completed"
    },
    "tags": []
   },
   "outputs": [],
   "source": [
    "PBcellDF = adataPBcell.to_df()\n",
    "PBcellDF['sampleID'] = adataPBcell.obs['sampleID']"
   ]
  },
  {
   "cell_type": "code",
   "execution_count": 9,
   "id": "1a597f46-d9c5-403b-b81e-5738ca206682",
   "metadata": {
    "execution": {
     "iopub.execute_input": "2024-06-27T16:48:09.827460Z",
     "iopub.status.busy": "2024-06-27T16:48:09.827053Z",
     "iopub.status.idle": "2024-06-27T16:48:09.831463Z",
     "shell.execute_reply": "2024-06-27T16:48:09.830764Z"
    },
    "papermill": {
     "duration": 0.016286,
     "end_time": "2024-06-27T16:48:09.832477",
     "exception": false,
     "start_time": "2024-06-27T16:48:09.816191",
     "status": "completed"
    },
    "tags": []
   },
   "outputs": [],
   "source": [
    "PBsampleDF = adataPBsample.to_df()\n",
    "PBsampleDF['sampleID'] = adataPBsample.obs['sampleID']"
   ]
  },
  {
   "cell_type": "code",
   "execution_count": 10,
   "id": "bb384751-fe1b-4635-a90d-fd98ae61b173",
   "metadata": {
    "execution": {
     "iopub.execute_input": "2024-06-27T16:48:09.854660Z",
     "iopub.status.busy": "2024-06-27T16:48:09.854261Z",
     "iopub.status.idle": "2024-06-27T16:48:09.862216Z",
     "shell.execute_reply": "2024-06-27T16:48:09.861561Z"
    },
    "papermill": {
     "duration": 0.024004,
     "end_time": "2024-06-27T16:48:09.863319",
     "exception": false,
     "start_time": "2024-06-27T16:48:09.839315",
     "status": "completed"
    },
    "tags": []
   },
   "outputs": [],
   "source": [
    "PBcell_sampleDF = PBcellDF.merge(PBsampleDF, on='sampleID', how='left')"
   ]
  },
  {
   "cell_type": "code",
   "execution_count": 11,
   "id": "f7250713-e24d-4614-9cbd-eed702340640",
   "metadata": {
    "execution": {
     "iopub.execute_input": "2024-06-27T16:48:09.878883Z",
     "iopub.status.busy": "2024-06-27T16:48:09.878283Z",
     "iopub.status.idle": "2024-06-27T16:48:09.882385Z",
     "shell.execute_reply": "2024-06-27T16:48:09.881716Z"
    },
    "papermill": {
     "duration": 0.012006,
     "end_time": "2024-06-27T16:48:09.883470",
     "exception": false,
     "start_time": "2024-06-27T16:48:09.871464",
     "status": "completed"
    },
    "tags": []
   },
   "outputs": [],
   "source": [
    "assert(adataPBcell.obs['sampleID'].tolist() == PBcell_sampleDF['sampleID'].tolist())"
   ]
  },
  {
   "cell_type": "code",
   "execution_count": 12,
   "id": "abea2252-6a12-4b89-9f0d-6d6df90064fb",
   "metadata": {
    "execution": {
     "iopub.execute_input": "2024-06-27T16:48:09.907567Z",
     "iopub.status.busy": "2024-06-27T16:48:09.907030Z",
     "iopub.status.idle": "2024-06-27T16:48:09.911121Z",
     "shell.execute_reply": "2024-06-27T16:48:09.910530Z"
    },
    "papermill": {
     "duration": 0.01334,
     "end_time": "2024-06-27T16:48:09.912141",
     "exception": false,
     "start_time": "2024-06-27T16:48:09.898801",
     "status": "completed"
    },
    "tags": []
   },
   "outputs": [],
   "source": [
    "PBcell_sampleDF.drop('sampleID', axis=1, inplace=True)"
   ]
  },
  {
   "cell_type": "code",
   "execution_count": 13,
   "id": "5502e45d-5c72-4440-a8c1-5b299cac6e2d",
   "metadata": {
    "execution": {
     "iopub.execute_input": "2024-06-27T16:48:09.927508Z",
     "iopub.status.busy": "2024-06-27T16:48:09.926695Z",
     "iopub.status.idle": "2024-06-27T16:48:09.932298Z",
     "shell.execute_reply": "2024-06-27T16:48:09.931794Z"
    },
    "papermill": {
     "duration": 0.014106,
     "end_time": "2024-06-27T16:48:09.933242",
     "exception": false,
     "start_time": "2024-06-27T16:48:09.919136",
     "status": "completed"
    },
    "tags": []
   },
   "outputs": [
    {
     "data": {
      "text/plain": [
       "AnnData object with n_obs × n_vars = 11372 × 40\n",
       "    obs: 'sampleID', 'Level1', 'disease', 'n_observation'"
      ]
     },
     "execution_count": 13,
     "metadata": {},
     "output_type": "execute_result"
    }
   ],
   "source": [
    "adataPBcell_sample = sc.AnnData(X = PBcell_sampleDF, obs = adataPBcell.obs)\n",
    "adataPBcell_sample"
   ]
  },
  {
   "cell_type": "markdown",
   "id": "d59574be-684b-4082-b8b6-7d11930362ad",
   "metadata": {
    "papermill": {
     "duration": 0.006409,
     "end_time": "2024-06-27T16:48:09.946518",
     "exception": false,
     "start_time": "2024-06-27T16:48:09.940109",
     "status": "completed"
    },
    "tags": []
   },
   "source": [
    "### Saving pseudobulk adata objects"
   ]
  },
  {
   "cell_type": "code",
   "execution_count": 14,
   "id": "5947e6f8-ac27-4702-ba5d-aa9e1ba79f6a",
   "metadata": {
    "execution": {
     "iopub.execute_input": "2024-06-27T16:48:09.973490Z",
     "iopub.status.busy": "2024-06-27T16:48:09.972933Z",
     "iopub.status.idle": "2024-06-27T16:48:10.052980Z",
     "shell.execute_reply": "2024-06-27T16:48:10.052388Z"
    },
    "papermill": {
     "duration": 0.089167,
     "end_time": "2024-06-27T16:48:10.054384",
     "exception": false,
     "start_time": "2024-06-27T16:48:09.965217",
     "status": "completed"
    },
    "tags": []
   },
   "outputs": [],
   "source": [
    "adataPBcell.write(here(adataPATHlist[0].replace('/scPoli_','/PSEUDOBULKs/scPoli_PSEUDOBULKcell_')), compression='gzip')"
   ]
  },
  {
   "cell_type": "code",
   "execution_count": 15,
   "id": "e9485945-bccf-419a-9420-c1e4f3aa262d",
   "metadata": {
    "execution": {
     "iopub.execute_input": "2024-06-27T16:48:10.113798Z",
     "iopub.status.busy": "2024-06-27T16:48:10.113256Z",
     "iopub.status.idle": "2024-06-27T16:48:10.149171Z",
     "shell.execute_reply": "2024-06-27T16:48:10.148541Z"
    },
    "papermill": {
     "duration": 0.057193,
     "end_time": "2024-06-27T16:48:10.150662",
     "exception": false,
     "start_time": "2024-06-27T16:48:10.093469",
     "status": "completed"
    },
    "tags": []
   },
   "outputs": [],
   "source": [
    "adataPBsample.write(here(adataPATHlist[0].replace('/scPoli_','/PSEUDOBULKs/scPoli_PSEUDOBULKsample_')), compression='gzip')"
   ]
  },
  {
   "cell_type": "code",
   "execution_count": 16,
   "id": "9c2daa40-3279-4b24-8aad-65ee0ba758c8",
   "metadata": {
    "execution": {
     "iopub.execute_input": "2024-06-27T16:48:10.186652Z",
     "iopub.status.busy": "2024-06-27T16:48:10.185961Z",
     "iopub.status.idle": "2024-06-27T16:48:10.301808Z",
     "shell.execute_reply": "2024-06-27T16:48:10.301168Z"
    },
    "papermill": {
     "duration": 0.131485,
     "end_time": "2024-06-27T16:48:10.303126",
     "exception": false,
     "start_time": "2024-06-27T16:48:10.171641",
     "status": "completed"
    },
    "tags": []
   },
   "outputs": [],
   "source": [
    "adataPBcell_sample.write(here(adataPATHlist[0].replace('/scPoli_','/PSEUDOBULKs/scPoli_PSEUDOBULKcellSample_')), compression='gzip')"
   ]
  },
  {
   "cell_type": "code",
   "execution_count": null,
   "id": "8a70d9f6-7a44-45ee-8470-702bd7af1e0b",
   "metadata": {
    "papermill": {
     "duration": 0.006769,
     "end_time": "2024-06-27T16:48:10.316322",
     "exception": false,
     "start_time": "2024-06-27T16:48:10.309553",
     "status": "completed"
    },
    "tags": []
   },
   "outputs": [],
   "source": []
  }
 ],
 "metadata": {
  "kernelspec": {
   "display_name": "Python 3 (ipykernel)",
   "language": "python",
   "name": "python3"
  },
  "language_info": {
   "codemirror_mode": {
    "name": "ipython",
    "version": 3
   },
   "file_extension": ".py",
   "mimetype": "text/x-python",
   "name": "python",
   "nbconvert_exporter": "python",
   "pygments_lexer": "ipython3",
   "version": "3.10.13"
  },
  "papermill": {
   "default_parameters": {},
   "duration": 22.574061,
   "end_time": "2024-06-27T16:48:10.939851",
   "environment_variables": {},
   "exception": null,
   "input_path": "03_generating_PSEUDOBULKs.ipynb",
   "output_path": "executed_notebooks/03_generating_PSEUDOBULKs_scPoli_ref_latents_VALIDATION_2_20_run1_iqrndxcb.h5ad.ipynb",
   "parameters": {
    "adataPATH": "03_downstream_analysis/08_PatientClassifier/scPoli/results/scPoli_ref_latents_VALIDATION_2_20_run1_iqrndxcb.h5ad"
   },
   "start_time": "2024-06-27T16:47:48.365790",
   "version": "2.5.0"
  }
 },
 "nbformat": 4,
 "nbformat_minor": 5
}