{
 "cells": [
  {
   "cell_type": "code",
   "execution_count": 1,
   "id": "5cfaabc1",
   "metadata": {
    "execution": {
     "iopub.execute_input": "2024-06-30T20:55:02.887848Z",
     "iopub.status.busy": "2024-06-30T20:55:02.887667Z",
     "iopub.status.idle": "2024-06-30T20:55:02.890421Z",
     "shell.execute_reply": "2024-06-30T20:55:02.890036Z"
    },
    "papermill": {
     "duration": 0.010825,
     "end_time": "2024-06-30T20:55:02.891264",
     "exception": false,
     "start_time": "2024-06-30T20:55:02.880439",
     "status": "completed"
    },
    "tags": [
     "injected-parameters"
    ]
   },
   "outputs": [],
   "source": [
    "# Parameters\n",
    "adataPATH = \"03_downstream_analysis/08_PatientClassifier/scPoli/results/scPoli_VALIDATION_2_50_100_*.h5ad\"\n"
   ]
  },
  {
   "cell_type": "raw",
   "id": "bf9880bd-3aef-477b-807d-37e3c5603037",
   "metadata": {
    "execution": {
     "iopub.execute_input": "2024-06-29T08:23:25.403219Z",
     "iopub.status.busy": "2024-06-29T08:23:25.402857Z",
     "iopub.status.idle": "2024-06-29T08:23:25.406428Z",
     "shell.execute_reply": "2024-06-29T08:23:25.406014Z",
     "shell.execute_reply.started": "2024-06-29T08:23:25.403185Z"
    },
    "papermill": {
     "duration": 0.004891,
     "end_time": "2024-06-30T20:55:02.901519",
     "exception": false,
     "start_time": "2024-06-30T20:55:02.896628",
     "status": "completed"
    },
    "tags": [],
    "vscode": {
     "languageId": "raw"
    }
   },
   "source": [
    "adataMAINpath = '03_downstream_analysis/08_PatientClassifier/scPoli/results/scPoli_2_100_20_*.h5ad'\n",
    "\n",
    "adataVALpath = '03_downstream_analysis/08_PatientClassifier/scPoli/results/scPoli_VALIDATION_2_20_20*.h5ad'\n",
    "adataEXCpath = '03_downstream_analysis/08_PatientClassifier/scPoli/results/scPoli_EXCLUDED_2_100_20_run1_pd5nyb4g.h5ad'\n",
    "adataEXTpath = '03_downstream_analysis/08_PatientClassifier/scPoli/results/scPoli_EXTERNAL_2_100_20_run1_pd5nyb4g.h5ad'\n",
    "\n",
    "adataPATH = adataVALpath"
   ]
  },
  {
   "cell_type": "code",
   "execution_count": 2,
   "id": "d3ccb10a-7201-43d0-a593-2b4650ff3451",
   "metadata": {
    "execution": {
     "iopub.execute_input": "2024-06-30T20:55:02.913123Z",
     "iopub.status.busy": "2024-06-30T20:55:02.912712Z",
     "iopub.status.idle": "2024-06-30T20:55:02.915954Z",
     "shell.execute_reply": "2024-06-30T20:55:02.915579Z"
    },
    "papermill": {
     "duration": 0.009586,
     "end_time": "2024-06-30T20:55:02.916732",
     "exception": false,
     "start_time": "2024-06-30T20:55:02.907146",
     "status": "completed"
    },
    "tags": []
   },
   "outputs": [
    {
     "name": "stdout",
     "output_type": "stream",
     "text": [
      "adataPATH = 03_downstream_analysis/08_PatientClassifier/scPoli/results/scPoli_VALIDATION_2_50_100_*.h5ad\n"
     ]
    }
   ],
   "source": [
    "for v in ['adataPATH']:\n",
    "    if v in locals() or v in globals():\n",
    "        print(f\"{v} = {eval(v)}\")\n",
    "    else:\n",
    "        raise Exception(f\"{v} not specified\")"
   ]
  },
  {
   "cell_type": "code",
   "execution_count": 3,
   "id": "888fb5f4-9ab7-4196-a282-7a7e92a43971",
   "metadata": {
    "execution": {
     "iopub.execute_input": "2024-06-30T20:55:02.928247Z",
     "iopub.status.busy": "2024-06-30T20:55:02.927791Z",
     "iopub.status.idle": "2024-06-30T20:55:04.279795Z",
     "shell.execute_reply": "2024-06-30T20:55:04.279310Z"
    },
    "papermill": {
     "duration": 1.358809,
     "end_time": "2024-06-30T20:55:04.280814",
     "exception": false,
     "start_time": "2024-06-30T20:55:02.922005",
     "status": "completed"
    },
    "tags": []
   },
   "outputs": [],
   "source": [
    "import os\n",
    "import sys\n",
    "from glob import glob\n",
    "\n",
    "import scanpy as sc\n",
    "import pandas as pd\n",
    "\n",
    "from pyprojroot import here\n",
    "\n",
    "sys.path.insert(1, str(here('bin')))\n",
    "# Import custom functions\n",
    "from customPythonFunctions import aggregating_features"
   ]
  },
  {
   "cell_type": "markdown",
   "id": "ba4905ae-4546-4ef4-b57b-950441ab079d",
   "metadata": {
    "papermill": {
     "duration": 0.006508,
     "end_time": "2024-06-30T20:55:04.293348",
     "exception": false,
     "start_time": "2024-06-30T20:55:04.286840",
     "status": "completed"
    },
    "tags": []
   },
   "source": [
    "### Loading data"
   ]
  },
  {
   "cell_type": "code",
   "execution_count": 4,
   "id": "539cbbbb-3503-4f51-bf04-f007f928ebd1",
   "metadata": {
    "execution": {
     "iopub.execute_input": "2024-06-30T20:55:04.304909Z",
     "iopub.status.busy": "2024-06-30T20:55:04.304638Z",
     "iopub.status.idle": "2024-06-30T20:55:04.308573Z",
     "shell.execute_reply": "2024-06-30T20:55:04.308205Z"
    },
    "papermill": {
     "duration": 0.010812,
     "end_time": "2024-06-30T20:55:04.309342",
     "exception": false,
     "start_time": "2024-06-30T20:55:04.298530",
     "status": "completed"
    },
    "tags": []
   },
   "outputs": [],
   "source": [
    "adataPATHlist = glob(str(here(adataPATH)))\n",
    "assert(len(adataPATHlist) == 1)"
   ]
  },
  {
   "cell_type": "code",
   "execution_count": 5,
   "id": "0fcfce0a-896b-4dc0-8e5e-46749205c84f",
   "metadata": {
    "execution": {
     "iopub.execute_input": "2024-06-30T20:55:04.320692Z",
     "iopub.status.busy": "2024-06-30T20:55:04.320342Z",
     "iopub.status.idle": "2024-06-30T20:55:06.050198Z",
     "shell.execute_reply": "2024-06-30T20:55:06.049760Z"
    },
    "papermill": {
     "duration": 1.736388,
     "end_time": "2024-06-30T20:55:06.051046",
     "exception": false,
     "start_time": "2024-06-30T20:55:04.314658",
     "status": "completed"
    },
    "tags": []
   },
   "outputs": [
    {
     "data": {
      "text/plain": [
       "AnnData object with n_obs × n_vars = 849922 × 50\n",
       "    obs: 'studyID', 'libraryID', 'sampleID', 'chemistry', 'technology', 'disease', 'sex', 'binned_age', 'Level1', 'Level2', 'conditions_combined', 'Level1_unc', 'Level2_unc'\n",
       "    uns: 'chemistry', 'sampleID'"
      ]
     },
     "execution_count": 5,
     "metadata": {},
     "output_type": "execute_result"
    }
   ],
   "source": [
    "adata = sc.read_h5ad(adataPATHlist[0])\n",
    "adata"
   ]
  },
  {
   "cell_type": "markdown",
   "id": "44e868b3-0771-4225-bd79-a4b179bc672b",
   "metadata": {
    "papermill": {
     "duration": 0.005093,
     "end_time": "2024-06-30T20:55:06.061999",
     "exception": false,
     "start_time": "2024-06-30T20:55:06.056906",
     "status": "completed"
    },
    "tags": []
   },
   "source": [
    "#### Generating PSEUDOBULKs"
   ]
  },
  {
   "cell_type": "markdown",
   "id": "97d09fc5-d05c-471e-87fa-fe58ccbe47ac",
   "metadata": {
    "papermill": {
     "duration": 0.006709,
     "end_time": "2024-06-30T20:55:06.079144",
     "exception": false,
     "start_time": "2024-06-30T20:55:06.072435",
     "status": "completed"
    },
    "tags": []
   },
   "source": [
    "**Aggregating cell latent features**"
   ]
  },
  {
   "cell_type": "code",
   "execution_count": 6,
   "id": "81223976-fcf6-4354-8964-b12d76468636",
   "metadata": {
    "execution": {
     "iopub.execute_input": "2024-06-30T20:55:06.090592Z",
     "iopub.status.busy": "2024-06-30T20:55:06.090442Z",
     "iopub.status.idle": "2024-06-30T20:55:06.490951Z",
     "shell.execute_reply": "2024-06-30T20:55:06.490505Z"
    },
    "papermill": {
     "duration": 0.407234,
     "end_time": "2024-06-30T20:55:06.491744",
     "exception": false,
     "start_time": "2024-06-30T20:55:06.084510",
     "status": "completed"
    },
    "tags": []
   },
   "outputs": [
    {
     "data": {
      "text/plain": [
       "AnnData object with n_obs × n_vars = 2112 × 50\n",
       "    obs: 'sampleID', 'Level1', 'disease', 'n_observation'"
      ]
     },
     "execution_count": 6,
     "metadata": {},
     "output_type": "execute_result"
    }
   ],
   "source": [
    "adataPBcell = aggregating_features(Z = adata.X, \n",
    "                             obsDF = adata.obs[['sampleID','Level1','disease']], \n",
    "                             mode = 'mean', \n",
    "                             obs_names_col=['sampleID','Level1'], \n",
    "                             min_observation=0)\n",
    "adataPBcell"
   ]
  },
  {
   "cell_type": "code",
   "execution_count": null,
   "id": "8495038e-aebd-4003-bd94-c1e49f47249e",
   "metadata": {
    "papermill": {
     "duration": 0.005688,
     "end_time": "2024-06-30T20:55:06.503306",
     "exception": false,
     "start_time": "2024-06-30T20:55:06.497618",
     "status": "completed"
    },
    "tags": []
   },
   "outputs": [],
   "source": []
  },
  {
   "cell_type": "markdown",
   "id": "6d602bad-4793-4aa4-b3d7-d118d413a0fc",
   "metadata": {
    "papermill": {
     "duration": 0.005669,
     "end_time": "2024-06-30T20:55:06.514719",
     "exception": false,
     "start_time": "2024-06-30T20:55:06.509050",
     "status": "completed"
    },
    "tags": []
   },
   "source": [
    "**Extracting sample embedding**"
   ]
  },
  {
   "cell_type": "code",
   "execution_count": 7,
   "id": "e2c14f02",
   "metadata": {
    "execution": {
     "iopub.execute_input": "2024-06-30T20:55:06.526052Z",
     "iopub.status.busy": "2024-06-30T20:55:06.525813Z",
     "iopub.status.idle": "2024-06-30T20:55:06.534048Z",
     "shell.execute_reply": "2024-06-30T20:55:06.533689Z"
    },
    "papermill": {
     "duration": 0.014928,
     "end_time": "2024-06-30T20:55:06.534819",
     "exception": false,
     "start_time": "2024-06-30T20:55:06.519891",
     "status": "completed"
    },
    "tags": []
   },
   "outputs": [
    {
     "data": {
      "text/plain": [
       "AnnData object with n_obs × n_vars = 144 × 100\n",
       "    obs: 'sampleID', 'disease', 'Level1'"
      ]
     },
     "execution_count": 7,
     "metadata": {},
     "output_type": "execute_result"
    }
   ],
   "source": [
    "adataPBsample = adata.uns['sampleID'].copy()\n",
    "adataPBsample.obs['sampleID'] = adataPBsample.obs.index\n",
    "adataPBsample = adataPBsample[adataPBsample.obs['sampleID'].isin(adataPBcell.obs['sampleID'])]\n",
    "\n",
    "adataPBsample.obs = adataPBsample.obs.merge(adataPBcell.obs.groupby('sampleID').agg({'disease':'first'}), left_index=True, right_index=True)\n",
    "adataPBsample.obs['Level1'] = 'sample'\n",
    "adataPBsample"
   ]
  },
  {
   "cell_type": "markdown",
   "id": "2d4fe137-7d68-4e86-a85c-3c1a3d3c4c71",
   "metadata": {
    "papermill": {
     "duration": 0.005827,
     "end_time": "2024-06-30T20:55:06.546093",
     "exception": false,
     "start_time": "2024-06-30T20:55:06.540266",
     "status": "completed"
    },
    "tags": []
   },
   "source": [
    "**Merging cell and patient latent features**"
   ]
  },
  {
   "cell_type": "code",
   "execution_count": 8,
   "id": "a326d2b1",
   "metadata": {
    "execution": {
     "iopub.execute_input": "2024-06-30T20:55:06.558456Z",
     "iopub.status.busy": "2024-06-30T20:55:06.557895Z",
     "iopub.status.idle": "2024-06-30T20:55:06.560543Z",
     "shell.execute_reply": "2024-06-30T20:55:06.560178Z"
    },
    "papermill": {
     "duration": 0.009251,
     "end_time": "2024-06-30T20:55:06.561298",
     "exception": false,
     "start_time": "2024-06-30T20:55:06.552047",
     "status": "completed"
    },
    "tags": []
   },
   "outputs": [],
   "source": [
    "PBcellDF = adataPBcell.to_df()\n",
    "PBcellDF['sampleID'] = adataPBcell.obs['sampleID']"
   ]
  },
  {
   "cell_type": "code",
   "execution_count": 9,
   "id": "1a597f46-d9c5-403b-b81e-5738ca206682",
   "metadata": {
    "execution": {
     "iopub.execute_input": "2024-06-30T20:55:06.574067Z",
     "iopub.status.busy": "2024-06-30T20:55:06.573769Z",
     "iopub.status.idle": "2024-06-30T20:55:06.576200Z",
     "shell.execute_reply": "2024-06-30T20:55:06.575836Z"
    },
    "papermill": {
     "duration": 0.010458,
     "end_time": "2024-06-30T20:55:06.576962",
     "exception": false,
     "start_time": "2024-06-30T20:55:06.566504",
     "status": "completed"
    },
    "tags": []
   },
   "outputs": [],
   "source": [
    "PBsampleDF = adataPBsample.to_df()\n",
    "PBsampleDF['sampleID'] = adataPBsample.obs['sampleID']"
   ]
  },
  {
   "cell_type": "code",
   "execution_count": 10,
   "id": "bb384751-fe1b-4635-a90d-fd98ae61b173",
   "metadata": {
    "execution": {
     "iopub.execute_input": "2024-06-30T20:55:06.589155Z",
     "iopub.status.busy": "2024-06-30T20:55:06.588806Z",
     "iopub.status.idle": "2024-06-30T20:55:06.593218Z",
     "shell.execute_reply": "2024-06-30T20:55:06.592864Z"
    },
    "papermill": {
     "duration": 0.011051,
     "end_time": "2024-06-30T20:55:06.593971",
     "exception": false,
     "start_time": "2024-06-30T20:55:06.582920",
     "status": "completed"
    },
    "tags": []
   },
   "outputs": [],
   "source": [
    "PBcell_sampleDF = PBcellDF.merge(PBsampleDF, on='sampleID', how='left')"
   ]
  },
  {
   "cell_type": "code",
   "execution_count": 11,
   "id": "f7250713-e24d-4614-9cbd-eed702340640",
   "metadata": {
    "execution": {
     "iopub.execute_input": "2024-06-30T20:55:06.605506Z",
     "iopub.status.busy": "2024-06-30T20:55:06.605138Z",
     "iopub.status.idle": "2024-06-30T20:55:06.607490Z",
     "shell.execute_reply": "2024-06-30T20:55:06.607089Z"
    },
    "papermill": {
     "duration": 0.008896,
     "end_time": "2024-06-30T20:55:06.608243",
     "exception": false,
     "start_time": "2024-06-30T20:55:06.599347",
     "status": "completed"
    },
    "tags": []
   },
   "outputs": [],
   "source": [
    "assert(adataPBcell.obs['sampleID'].tolist() == PBcell_sampleDF['sampleID'].tolist())"
   ]
  },
  {
   "cell_type": "code",
   "execution_count": 12,
   "id": "abea2252-6a12-4b89-9f0d-6d6df90064fb",
   "metadata": {
    "execution": {
     "iopub.execute_input": "2024-06-30T20:55:06.621190Z",
     "iopub.status.busy": "2024-06-30T20:55:06.620815Z",
     "iopub.status.idle": "2024-06-30T20:55:06.623336Z",
     "shell.execute_reply": "2024-06-30T20:55:06.622967Z"
    },
    "papermill": {
     "duration": 0.009676,
     "end_time": "2024-06-30T20:55:06.624089",
     "exception": false,
     "start_time": "2024-06-30T20:55:06.614413",
     "status": "completed"
    },
    "tags": []
   },
   "outputs": [],
   "source": [
    "PBcell_sampleDF.drop('sampleID', axis=1, inplace=True)"
   ]
  },
  {
   "cell_type": "code",
   "execution_count": 13,
   "id": "5502e45d-5c72-4440-a8c1-5b299cac6e2d",
   "metadata": {
    "execution": {
     "iopub.execute_input": "2024-06-30T20:55:06.635475Z",
     "iopub.status.busy": "2024-06-30T20:55:06.635344Z",
     "iopub.status.idle": "2024-06-30T20:55:06.638874Z",
     "shell.execute_reply": "2024-06-30T20:55:06.638525Z"
    },
    "papermill": {
     "duration": 0.010249,
     "end_time": "2024-06-30T20:55:06.639644",
     "exception": false,
     "start_time": "2024-06-30T20:55:06.629395",
     "status": "completed"
    },
    "tags": []
   },
   "outputs": [
    {
     "data": {
      "text/plain": [
       "AnnData object with n_obs × n_vars = 2112 × 150\n",
       "    obs: 'sampleID', 'Level1', 'disease', 'n_observation'"
      ]
     },
     "execution_count": 13,
     "metadata": {},
     "output_type": "execute_result"
    }
   ],
   "source": [
    "adataPBcell_sample = sc.AnnData(X = PBcell_sampleDF, obs = adataPBcell.obs)\n",
    "adataPBcell_sample"
   ]
  },
  {
   "cell_type": "markdown",
   "id": "d59574be-684b-4082-b8b6-7d11930362ad",
   "metadata": {
    "papermill": {
     "duration": 0.005697,
     "end_time": "2024-06-30T20:55:06.653644",
     "exception": false,
     "start_time": "2024-06-30T20:55:06.647947",
     "status": "completed"
    },
    "tags": []
   },
   "source": [
    "### Saving pseudobulk adata objects"
   ]
  },
  {
   "cell_type": "code",
   "execution_count": 14,
   "id": "5947e6f8-ac27-4702-ba5d-aa9e1ba79f6a",
   "metadata": {
    "execution": {
     "iopub.execute_input": "2024-06-30T20:55:06.667021Z",
     "iopub.status.busy": "2024-06-30T20:55:06.666729Z",
     "iopub.status.idle": "2024-06-30T20:55:06.706067Z",
     "shell.execute_reply": "2024-06-30T20:55:06.705663Z"
    },
    "papermill": {
     "duration": 0.047303,
     "end_time": "2024-06-30T20:55:06.707212",
     "exception": false,
     "start_time": "2024-06-30T20:55:06.659909",
     "status": "completed"
    },
    "tags": []
   },
   "outputs": [],
   "source": [
    "adataPBcell.write(here(adataPATHlist[0].replace('/scPoli_','/PSEUDOBULKs/scPoli_PSEUDOBULKcell_')), compression='gzip')"
   ]
  },
  {
   "cell_type": "code",
   "execution_count": 15,
   "id": "e9485945-bccf-419a-9420-c1e4f3aa262d",
   "metadata": {
    "execution": {
     "iopub.execute_input": "2024-06-30T20:55:06.719659Z",
     "iopub.status.busy": "2024-06-30T20:55:06.719243Z",
     "iopub.status.idle": "2024-06-30T20:55:06.744248Z",
     "shell.execute_reply": "2024-06-30T20:55:06.743875Z"
    },
    "papermill": {
     "duration": 0.031721,
     "end_time": "2024-06-30T20:55:06.745002",
     "exception": false,
     "start_time": "2024-06-30T20:55:06.713281",
     "status": "completed"
    },
    "tags": []
   },
   "outputs": [],
   "source": [
    "adataPBsample.write(here(adataPATHlist[0].replace('/scPoli_','/PSEUDOBULKs/scPoli_PSEUDOBULKsample_')), compression='gzip')"
   ]
  },
  {
   "cell_type": "code",
   "execution_count": 16,
   "id": "9c2daa40-3279-4b24-8aad-65ee0ba758c8",
   "metadata": {
    "execution": {
     "iopub.execute_input": "2024-06-30T20:55:06.758552Z",
     "iopub.status.busy": "2024-06-30T20:55:06.758309Z",
     "iopub.status.idle": "2024-06-30T20:55:06.818705Z",
     "shell.execute_reply": "2024-06-30T20:55:06.818297Z"
    },
    "papermill": {
     "duration": 0.068412,
     "end_time": "2024-06-30T20:55:06.819531",
     "exception": false,
     "start_time": "2024-06-30T20:55:06.751119",
     "status": "completed"
    },
    "tags": []
   },
   "outputs": [],
   "source": [
    "adataPBcell_sample.write(here(adataPATHlist[0].replace('/scPoli_','/PSEUDOBULKs/scPoli_PSEUDOBULKcellSample_')), compression='gzip')"
   ]
  },
  {
   "cell_type": "code",
   "execution_count": null,
   "id": "8a70d9f6-7a44-45ee-8470-702bd7af1e0b",
   "metadata": {
    "papermill": {
     "duration": 0.005866,
     "end_time": "2024-06-30T20:55:06.831945",
     "exception": false,
     "start_time": "2024-06-30T20:55:06.826079",
     "status": "completed"
    },
    "tags": []
   },
   "outputs": [],
   "source": []
  }
 ],
 "metadata": {
  "kernelspec": {
   "display_name": "Python 3 (ipykernel)",
   "language": "python",
   "name": "python3"
  },
  "language_info": {
   "codemirror_mode": {
    "name": "ipython",
    "version": 3
   },
   "file_extension": ".py",
   "mimetype": "text/x-python",
   "name": "python",
   "nbconvert_exporter": "python",
   "pygments_lexer": "ipython3",
   "version": "3.12.3"
  },
  "papermill": {
   "default_parameters": {},
   "duration": 5.657245,
   "end_time": "2024-06-30T20:55:07.353397",
   "environment_variables": {},
   "exception": null,
   "input_path": "03_generating_PSEUDOBULKs.ipynb",
   "output_path": "executed_notebooks/03_generating_PSEUDOBULKs_VALIDATION_50nEmb_100nPEmb.ipynb",
   "parameters": {
    "adataPATH": "03_downstream_analysis/08_PatientClassifier/scPoli/results/scPoli_VALIDATION_2_50_100_*.h5ad"
   },
   "start_time": "2024-06-30T20:55:01.696152",
   "version": "2.6.0"
  }
 },
 "nbformat": 4,
 "nbformat_minor": 5
}