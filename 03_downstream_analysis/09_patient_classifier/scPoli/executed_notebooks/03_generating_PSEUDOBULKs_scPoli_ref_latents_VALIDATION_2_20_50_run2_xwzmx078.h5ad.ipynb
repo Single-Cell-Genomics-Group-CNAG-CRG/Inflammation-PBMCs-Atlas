{
 "cells": [
  {
   "cell_type": "code",
   "execution_count": 1,
   "id": "be0dde91",
   "metadata": {
    "execution": {
     "iopub.execute_input": "2024-06-30T21:00:22.352854Z",
     "iopub.status.busy": "2024-06-30T21:00:22.352428Z",
     "iopub.status.idle": "2024-06-30T21:00:22.355208Z",
     "shell.execute_reply": "2024-06-30T21:00:22.354843Z"
    },
    "papermill": {
     "duration": 0.011467,
     "end_time": "2024-06-30T21:00:22.356086",
     "exception": false,
     "start_time": "2024-06-30T21:00:22.344619",
     "status": "completed"
    },
    "tags": [
     "injected-parameters"
    ]
   },
   "outputs": [],
   "source": [
    "# Parameters\n",
    "adataPATH = \"03_downstream_analysis/08_PatientClassifier/scPoli/results/scPoli_ref_latents_VALIDATION_2_20_50_run2_xwzmx078.h5ad\"\n"
   ]
  },
  {
   "cell_type": "raw",
   "id": "bf9880bd-3aef-477b-807d-37e3c5603037",
   "metadata": {
    "execution": {
     "iopub.execute_input": "2024-06-29T08:23:25.403219Z",
     "iopub.status.busy": "2024-06-29T08:23:25.402857Z",
     "iopub.status.idle": "2024-06-29T08:23:25.406428Z",
     "shell.execute_reply": "2024-06-29T08:23:25.406014Z",
     "shell.execute_reply.started": "2024-06-29T08:23:25.403185Z"
    },
    "papermill": {
     "duration": 0.004926,
     "end_time": "2024-06-30T21:00:22.366527",
     "exception": false,
     "start_time": "2024-06-30T21:00:22.361601",
     "status": "completed"
    },
    "tags": [],
    "vscode": {
     "languageId": "raw"
    }
   },
   "source": [
    "adataMAINpath = '03_downstream_analysis/08_PatientClassifier/scPoli/results/scPoli_2_100_20_*.h5ad'\n",
    "\n",
    "adataVALpath = '03_downstream_analysis/08_PatientClassifier/scPoli/results/scPoli_VALIDATION_2_20_20*.h5ad'\n",
    "adataEXCpath = '03_downstream_analysis/08_PatientClassifier/scPoli/results/scPoli_EXCLUDED_2_100_20_run1_pd5nyb4g.h5ad'\n",
    "adataEXTpath = '03_downstream_analysis/08_PatientClassifier/scPoli/results/scPoli_EXTERNAL_2_100_20_run1_pd5nyb4g.h5ad'\n",
    "\n",
    "adataPATH = adataVALpath"
   ]
  },
  {
   "cell_type": "code",
   "execution_count": 2,
   "id": "d3ccb10a-7201-43d0-a593-2b4650ff3451",
   "metadata": {
    "execution": {
     "iopub.execute_input": "2024-06-30T21:00:22.378237Z",
     "iopub.status.busy": "2024-06-30T21:00:22.377812Z",
     "iopub.status.idle": "2024-06-30T21:00:22.381007Z",
     "shell.execute_reply": "2024-06-30T21:00:22.380626Z"
    },
    "papermill": {
     "duration": 0.01009,
     "end_time": "2024-06-30T21:00:22.381847",
     "exception": false,
     "start_time": "2024-06-30T21:00:22.371757",
     "status": "completed"
    },
    "tags": []
   },
   "outputs": [
    {
     "name": "stdout",
     "output_type": "stream",
     "text": [
      "adataPATH = 03_downstream_analysis/08_PatientClassifier/scPoli/results/scPoli_ref_latents_VALIDATION_2_20_50_run2_xwzmx078.h5ad\n"
     ]
    }
   ],
   "source": [
    "for v in ['adataPATH']:\n",
    "    if v in locals() or v in globals():\n",
    "        print(f\"{v} = {eval(v)}\")\n",
    "    else:\n",
    "        raise Exception(f\"{v} not specified\")"
   ]
  },
  {
   "cell_type": "code",
   "execution_count": 3,
   "id": "888fb5f4-9ab7-4196-a282-7a7e92a43971",
   "metadata": {
    "execution": {
     "iopub.execute_input": "2024-06-30T21:00:22.393619Z",
     "iopub.status.busy": "2024-06-30T21:00:22.393304Z",
     "iopub.status.idle": "2024-06-30T21:00:23.778193Z",
     "shell.execute_reply": "2024-06-30T21:00:23.777697Z"
    },
    "papermill": {
     "duration": 1.392403,
     "end_time": "2024-06-30T21:00:23.779552",
     "exception": false,
     "start_time": "2024-06-30T21:00:22.387149",
     "status": "completed"
    },
    "tags": []
   },
   "outputs": [],
   "source": [
    "import os\n",
    "import sys\n",
    "from glob import glob\n",
    "\n",
    "import scanpy as sc\n",
    "import pandas as pd\n",
    "\n",
    "from pyprojroot import here\n",
    "\n",
    "sys.path.insert(1, str(here('bin')))\n",
    "# Import custom functions\n",
    "from customPythonFunctions import aggregating_features"
   ]
  },
  {
   "cell_type": "markdown",
   "id": "ba4905ae-4546-4ef4-b57b-950441ab079d",
   "metadata": {
    "papermill": {
     "duration": 0.013741,
     "end_time": "2024-06-30T21:00:23.799044",
     "exception": false,
     "start_time": "2024-06-30T21:00:23.785303",
     "status": "completed"
    },
    "tags": []
   },
   "source": [
    "### Loading data"
   ]
  },
  {
   "cell_type": "code",
   "execution_count": 4,
   "id": "539cbbbb-3503-4f51-bf04-f007f928ebd1",
   "metadata": {
    "execution": {
     "iopub.execute_input": "2024-06-30T21:00:23.810447Z",
     "iopub.status.busy": "2024-06-30T21:00:23.810141Z",
     "iopub.status.idle": "2024-06-30T21:00:23.813878Z",
     "shell.execute_reply": "2024-06-30T21:00:23.813504Z"
    },
    "papermill": {
     "duration": 0.01038,
     "end_time": "2024-06-30T21:00:23.814649",
     "exception": false,
     "start_time": "2024-06-30T21:00:23.804269",
     "status": "completed"
    },
    "tags": []
   },
   "outputs": [],
   "source": [
    "adataPATHlist = glob(str(here(adataPATH)))\n",
    "assert(len(adataPATHlist) == 1)"
   ]
  },
  {
   "cell_type": "code",
   "execution_count": 5,
   "id": "0fcfce0a-896b-4dc0-8e5e-46749205c84f",
   "metadata": {
    "execution": {
     "iopub.execute_input": "2024-06-30T21:00:23.825910Z",
     "iopub.status.busy": "2024-06-30T21:00:23.825512Z",
     "iopub.status.idle": "2024-06-30T21:00:30.649775Z",
     "shell.execute_reply": "2024-06-30T21:00:30.649330Z"
    },
    "papermill": {
     "duration": 6.830637,
     "end_time": "2024-06-30T21:00:30.650589",
     "exception": false,
     "start_time": "2024-06-30T21:00:23.819952",
     "status": "completed"
    },
    "tags": []
   },
   "outputs": [
    {
     "data": {
      "text/plain": [
       "AnnData object with n_obs × n_vars = 4435922 × 20\n",
       "    obs: 'studyID', 'libraryID', 'sampleID', 'chemistry', 'disease', 'sex', 'binned_age', 'Level1', 'Level2'\n",
       "    uns: 'chemistry', 'sampleID'"
      ]
     },
     "execution_count": 5,
     "metadata": {},
     "output_type": "execute_result"
    }
   ],
   "source": [
    "adata = sc.read_h5ad(adataPATHlist[0])\n",
    "adata"
   ]
  },
  {
   "cell_type": "markdown",
   "id": "44e868b3-0771-4225-bd79-a4b179bc672b",
   "metadata": {
    "papermill": {
     "duration": 0.004982,
     "end_time": "2024-06-30T21:00:30.661487",
     "exception": false,
     "start_time": "2024-06-30T21:00:30.656505",
     "status": "completed"
    },
    "tags": []
   },
   "source": [
    "#### Generating PSEUDOBULKs"
   ]
  },
  {
   "cell_type": "markdown",
   "id": "97d09fc5-d05c-471e-87fa-fe58ccbe47ac",
   "metadata": {
    "papermill": {
     "duration": 0.005426,
     "end_time": "2024-06-30T21:00:30.673331",
     "exception": false,
     "start_time": "2024-06-30T21:00:30.667905",
     "status": "completed"
    },
    "tags": []
   },
   "source": [
    "**Aggregating cell latent features**"
   ]
  },
  {
   "cell_type": "code",
   "execution_count": 6,
   "id": "81223976-fcf6-4354-8964-b12d76468636",
   "metadata": {
    "execution": {
     "iopub.execute_input": "2024-06-30T21:00:30.686120Z",
     "iopub.status.busy": "2024-06-30T21:00:30.685964Z",
     "iopub.status.idle": "2024-06-30T21:00:32.446929Z",
     "shell.execute_reply": "2024-06-30T21:00:32.446459Z"
    },
    "papermill": {
     "duration": 1.767321,
     "end_time": "2024-06-30T21:00:32.447742",
     "exception": false,
     "start_time": "2024-06-30T21:00:30.680421",
     "status": "completed"
    },
    "tags": []
   },
   "outputs": [
    {
     "data": {
      "text/plain": [
       "AnnData object with n_obs × n_vars = 11372 × 20\n",
       "    obs: 'sampleID', 'Level1', 'disease', 'n_observation'"
      ]
     },
     "execution_count": 6,
     "metadata": {},
     "output_type": "execute_result"
    }
   ],
   "source": [
    "adataPBcell = aggregating_features(Z = adata.X, \n",
    "                             obsDF = adata.obs[['sampleID','Level1','disease']], \n",
    "                             mode = 'mean', \n",
    "                             obs_names_col=['sampleID','Level1'], \n",
    "                             min_observation=0)\n",
    "adataPBcell"
   ]
  },
  {
   "cell_type": "code",
   "execution_count": null,
   "id": "8495038e-aebd-4003-bd94-c1e49f47249e",
   "metadata": {
    "papermill": {
     "duration": 0.005111,
     "end_time": "2024-06-30T21:00:32.458297",
     "exception": false,
     "start_time": "2024-06-30T21:00:32.453186",
     "status": "completed"
    },
    "tags": []
   },
   "outputs": [],
   "source": []
  },
  {
   "cell_type": "markdown",
   "id": "6d602bad-4793-4aa4-b3d7-d118d413a0fc",
   "metadata": {
    "papermill": {
     "duration": 0.005164,
     "end_time": "2024-06-30T21:00:32.469979",
     "exception": false,
     "start_time": "2024-06-30T21:00:32.464815",
     "status": "completed"
    },
    "tags": []
   },
   "source": [
    "**Extracting sample embedding**"
   ]
  },
  {
   "cell_type": "code",
   "execution_count": 7,
   "id": "e2c14f02",
   "metadata": {
    "execution": {
     "iopub.execute_input": "2024-06-30T21:00:32.481627Z",
     "iopub.status.busy": "2024-06-30T21:00:32.480989Z",
     "iopub.status.idle": "2024-06-30T21:00:32.491221Z",
     "shell.execute_reply": "2024-06-30T21:00:32.490850Z"
    },
    "papermill": {
     "duration": 0.016741,
     "end_time": "2024-06-30T21:00:32.491998",
     "exception": false,
     "start_time": "2024-06-30T21:00:32.475257",
     "status": "completed"
    },
    "tags": []
   },
   "outputs": [
    {
     "data": {
      "text/plain": [
       "AnnData object with n_obs × n_vars = 817 × 50\n",
       "    obs: 'sampleID', 'disease', 'Level1'"
      ]
     },
     "execution_count": 7,
     "metadata": {},
     "output_type": "execute_result"
    }
   ],
   "source": [
    "adataPBsample = adata.uns['sampleID'].copy()\n",
    "adataPBsample.obs['sampleID'] = adataPBsample.obs.index\n",
    "adataPBsample = adataPBsample[adataPBsample.obs['sampleID'].isin(adataPBcell.obs['sampleID'])]\n",
    "\n",
    "adataPBsample.obs = adataPBsample.obs.merge(adataPBcell.obs.groupby('sampleID').agg({'disease':'first'}), left_index=True, right_index=True)\n",
    "adataPBsample.obs['Level1'] = 'sample'\n",
    "adataPBsample"
   ]
  },
  {
   "cell_type": "markdown",
   "id": "2d4fe137-7d68-4e86-a85c-3c1a3d3c4c71",
   "metadata": {
    "papermill": {
     "duration": 0.005291,
     "end_time": "2024-06-30T21:00:32.502476",
     "exception": false,
     "start_time": "2024-06-30T21:00:32.497185",
     "status": "completed"
    },
    "tags": []
   },
   "source": [
    "**Merging cell and patient latent features**"
   ]
  },
  {
   "cell_type": "code",
   "execution_count": 8,
   "id": "a326d2b1",
   "metadata": {
    "execution": {
     "iopub.execute_input": "2024-06-30T21:00:32.514186Z",
     "iopub.status.busy": "2024-06-30T21:00:32.513842Z",
     "iopub.status.idle": "2024-06-30T21:00:32.516406Z",
     "shell.execute_reply": "2024-06-30T21:00:32.516026Z"
    },
    "papermill": {
     "duration": 0.009288,
     "end_time": "2024-06-30T21:00:32.517155",
     "exception": false,
     "start_time": "2024-06-30T21:00:32.507867",
     "status": "completed"
    },
    "tags": []
   },
   "outputs": [],
   "source": [
    "PBcellDF = adataPBcell.to_df()\n",
    "PBcellDF['sampleID'] = adataPBcell.obs['sampleID']"
   ]
  },
  {
   "cell_type": "code",
   "execution_count": 9,
   "id": "1a597f46-d9c5-403b-b81e-5738ca206682",
   "metadata": {
    "execution": {
     "iopub.execute_input": "2024-06-30T21:00:32.535847Z",
     "iopub.status.busy": "2024-06-30T21:00:32.535425Z",
     "iopub.status.idle": "2024-06-30T21:00:32.537958Z",
     "shell.execute_reply": "2024-06-30T21:00:32.537589Z"
    },
    "papermill": {
     "duration": 0.009061,
     "end_time": "2024-06-30T21:00:32.538710",
     "exception": false,
     "start_time": "2024-06-30T21:00:32.529649",
     "status": "completed"
    },
    "tags": []
   },
   "outputs": [],
   "source": [
    "PBsampleDF = adataPBsample.to_df()\n",
    "PBsampleDF['sampleID'] = adataPBsample.obs['sampleID']"
   ]
  },
  {
   "cell_type": "code",
   "execution_count": 10,
   "id": "bb384751-fe1b-4635-a90d-fd98ae61b173",
   "metadata": {
    "execution": {
     "iopub.execute_input": "2024-06-30T21:00:32.550783Z",
     "iopub.status.busy": "2024-06-30T21:00:32.550317Z",
     "iopub.status.idle": "2024-06-30T21:00:32.556698Z",
     "shell.execute_reply": "2024-06-30T21:00:32.556301Z"
    },
    "papermill": {
     "duration": 0.013264,
     "end_time": "2024-06-30T21:00:32.557462",
     "exception": false,
     "start_time": "2024-06-30T21:00:32.544198",
     "status": "completed"
    },
    "tags": []
   },
   "outputs": [],
   "source": [
    "PBcell_sampleDF = PBcellDF.merge(PBsampleDF, on='sampleID', how='left')"
   ]
  },
  {
   "cell_type": "code",
   "execution_count": 11,
   "id": "f7250713-e24d-4614-9cbd-eed702340640",
   "metadata": {
    "execution": {
     "iopub.execute_input": "2024-06-30T21:00:32.569130Z",
     "iopub.status.busy": "2024-06-30T21:00:32.568846Z",
     "iopub.status.idle": "2024-06-30T21:00:32.571373Z",
     "shell.execute_reply": "2024-06-30T21:00:32.570995Z"
    },
    "papermill": {
     "duration": 0.009073,
     "end_time": "2024-06-30T21:00:32.572121",
     "exception": false,
     "start_time": "2024-06-30T21:00:32.563048",
     "status": "completed"
    },
    "tags": []
   },
   "outputs": [],
   "source": [
    "assert(adataPBcell.obs['sampleID'].tolist() == PBcell_sampleDF['sampleID'].tolist())"
   ]
  },
  {
   "cell_type": "code",
   "execution_count": 12,
   "id": "abea2252-6a12-4b89-9f0d-6d6df90064fb",
   "metadata": {
    "execution": {
     "iopub.execute_input": "2024-06-30T21:00:32.584743Z",
     "iopub.status.busy": "2024-06-30T21:00:32.584314Z",
     "iopub.status.idle": "2024-06-30T21:00:32.587291Z",
     "shell.execute_reply": "2024-06-30T21:00:32.586910Z"
    },
    "papermill": {
     "duration": 0.010347,
     "end_time": "2024-06-30T21:00:32.588041",
     "exception": false,
     "start_time": "2024-06-30T21:00:32.577694",
     "status": "completed"
    },
    "tags": []
   },
   "outputs": [],
   "source": [
    "PBcell_sampleDF.drop('sampleID', axis=1, inplace=True)"
   ]
  },
  {
   "cell_type": "code",
   "execution_count": 13,
   "id": "5502e45d-5c72-4440-a8c1-5b299cac6e2d",
   "metadata": {
    "execution": {
     "iopub.execute_input": "2024-06-30T21:00:32.600104Z",
     "iopub.status.busy": "2024-06-30T21:00:32.599855Z",
     "iopub.status.idle": "2024-06-30T21:00:32.603619Z",
     "shell.execute_reply": "2024-06-30T21:00:32.603261Z"
    },
    "papermill": {
     "duration": 0.010434,
     "end_time": "2024-06-30T21:00:32.604381",
     "exception": false,
     "start_time": "2024-06-30T21:00:32.593947",
     "status": "completed"
    },
    "tags": []
   },
   "outputs": [
    {
     "data": {
      "text/plain": [
       "AnnData object with n_obs × n_vars = 11372 × 70\n",
       "    obs: 'sampleID', 'Level1', 'disease', 'n_observation'"
      ]
     },
     "execution_count": 13,
     "metadata": {},
     "output_type": "execute_result"
    }
   ],
   "source": [
    "adataPBcell_sample = sc.AnnData(X = PBcell_sampleDF, obs = adataPBcell.obs)\n",
    "adataPBcell_sample"
   ]
  },
  {
   "cell_type": "markdown",
   "id": "d59574be-684b-4082-b8b6-7d11930362ad",
   "metadata": {
    "papermill": {
     "duration": 0.016448,
     "end_time": "2024-06-30T21:00:32.626520",
     "exception": false,
     "start_time": "2024-06-30T21:00:32.610072",
     "status": "completed"
    },
    "tags": []
   },
   "source": [
    "### Saving pseudobulk adata objects"
   ]
  },
  {
   "cell_type": "code",
   "execution_count": 14,
   "id": "5947e6f8-ac27-4702-ba5d-aa9e1ba79f6a",
   "metadata": {
    "execution": {
     "iopub.execute_input": "2024-06-30T21:00:32.638324Z",
     "iopub.status.busy": "2024-06-30T21:00:32.638038Z",
     "iopub.status.idle": "2024-06-30T21:00:32.709787Z",
     "shell.execute_reply": "2024-06-30T21:00:32.709331Z"
    },
    "papermill": {
     "duration": 0.078333,
     "end_time": "2024-06-30T21:00:32.710612",
     "exception": false,
     "start_time": "2024-06-30T21:00:32.632279",
     "status": "completed"
    },
    "tags": []
   },
   "outputs": [],
   "source": [
    "adataPBcell.write(here(adataPATHlist[0].replace('/scPoli_','/PSEUDOBULKs/scPoli_PSEUDOBULKcell_')), compression='gzip')"
   ]
  },
  {
   "cell_type": "code",
   "execution_count": 15,
   "id": "e9485945-bccf-419a-9420-c1e4f3aa262d",
   "metadata": {
    "execution": {
     "iopub.execute_input": "2024-06-30T21:00:32.733377Z",
     "iopub.status.busy": "2024-06-30T21:00:32.733009Z",
     "iopub.status.idle": "2024-06-30T21:00:32.759059Z",
     "shell.execute_reply": "2024-06-30T21:00:32.758666Z"
    },
    "papermill": {
     "duration": 0.032997,
     "end_time": "2024-06-30T21:00:32.759868",
     "exception": false,
     "start_time": "2024-06-30T21:00:32.726871",
     "status": "completed"
    },
    "tags": []
   },
   "outputs": [],
   "source": [
    "adataPBsample.write(here(adataPATHlist[0].replace('/scPoli_','/PSEUDOBULKs/scPoli_PSEUDOBULKsample_')), compression='gzip')"
   ]
  },
  {
   "cell_type": "code",
   "execution_count": 16,
   "id": "9c2daa40-3279-4b24-8aad-65ee0ba758c8",
   "metadata": {
    "execution": {
     "iopub.execute_input": "2024-06-30T21:00:32.773399Z",
     "iopub.status.busy": "2024-06-30T21:00:32.773136Z",
     "iopub.status.idle": "2024-06-30T21:00:32.865484Z",
     "shell.execute_reply": "2024-06-30T21:00:32.864981Z"
    },
    "papermill": {
     "duration": 0.099288,
     "end_time": "2024-06-30T21:00:32.866335",
     "exception": false,
     "start_time": "2024-06-30T21:00:32.767047",
     "status": "completed"
    },
    "tags": []
   },
   "outputs": [],
   "source": [
    "adataPBcell_sample.write(here(adataPATHlist[0].replace('/scPoli_','/PSEUDOBULKs/scPoli_PSEUDOBULKcellSample_')), compression='gzip')"
   ]
  },
  {
   "cell_type": "code",
   "execution_count": null,
   "id": "8a70d9f6-7a44-45ee-8470-702bd7af1e0b",
   "metadata": {
    "papermill": {
     "duration": 0.005411,
     "end_time": "2024-06-30T21:00:32.877316",
     "exception": false,
     "start_time": "2024-06-30T21:00:32.871905",
     "status": "completed"
    },
    "tags": []
   },
   "outputs": [],
   "source": []
  }
 ],
 "metadata": {
  "kernelspec": {
   "display_name": "Python 3 (ipykernel)",
   "language": "python",
   "name": "python3"
  },
  "language_info": {
   "codemirror_mode": {
    "name": "ipython",
    "version": 3
   },
   "file_extension": ".py",
   "mimetype": "text/x-python",
   "name": "python",
   "nbconvert_exporter": "python",
   "pygments_lexer": "ipython3",
   "version": "3.12.3"
  },
  "papermill": {
   "default_parameters": {},
   "duration": 12.442221,
   "end_time": "2024-06-30T21:00:33.497355",
   "environment_variables": {},
   "exception": null,
   "input_path": "03_generating_PSEUDOBULKs.ipynb",
   "output_path": "executed_notebooks/03_generating_PSEUDOBULKs_scPoli_ref_latents_VALIDATION_2_20_50_run2_xwzmx078.h5ad.ipynb",
   "parameters": {
    "adataPATH": "03_downstream_analysis/08_PatientClassifier/scPoli/results/scPoli_ref_latents_VALIDATION_2_20_50_run2_xwzmx078.h5ad"
   },
   "start_time": "2024-06-30T21:00:21.055134",
   "version": "2.6.0"
  }
 },
 "nbformat": 4,
 "nbformat_minor": 5
}