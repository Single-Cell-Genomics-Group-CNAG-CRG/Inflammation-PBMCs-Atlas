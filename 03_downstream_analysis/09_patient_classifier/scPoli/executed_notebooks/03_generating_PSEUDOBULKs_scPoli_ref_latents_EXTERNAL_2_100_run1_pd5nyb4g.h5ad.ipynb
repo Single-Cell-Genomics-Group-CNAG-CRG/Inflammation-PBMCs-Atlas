{
 "cells": [
  {
   "cell_type": "code",
   "execution_count": 1,
   "id": "eb15f339",
   "metadata": {
    "execution": {
     "iopub.execute_input": "2024-06-27T16:47:45.651279Z",
     "iopub.status.busy": "2024-06-27T16:47:45.651041Z",
     "iopub.status.idle": "2024-06-27T16:47:45.662094Z",
     "shell.execute_reply": "2024-06-27T16:47:45.661489Z"
    },
    "papermill": {
     "duration": 0.049025,
     "end_time": "2024-06-27T16:47:45.663168",
     "exception": false,
     "start_time": "2024-06-27T16:47:45.614143",
     "status": "completed"
    },
    "tags": [
     "injected-parameters"
    ]
   },
   "outputs": [],
   "source": [
    "# Parameters\n",
    "adataPATH = \"03_downstream_analysis/08_PatientClassifier/scPoli/results/scPoli_ref_latents_EXTERNAL_2_100_run1_pd5nyb4g.h5ad\"\n"
   ]
  },
  {
   "cell_type": "raw",
   "id": "45ccaa27-b0ec-4740-9b7d-9409b7a94ac0",
   "metadata": {
    "papermill": {
     "duration": 0.01232,
     "end_time": "2024-06-27T16:47:45.696716",
     "exception": false,
     "start_time": "2024-06-27T16:47:45.684396",
     "status": "completed"
    },
    "tags": [],
    "vscode": {
     "languageId": "raw"
    }
   },
   "source": [
    "adataMAINpath = '03_downstream_analysis/08_PatientClassifier/scPoli/results/scPoli_2_100_20_*.h5ad'\n",
    "\n",
    "adataVALpath = '03_downstream_analysis/08_PatientClassifier/scPoli/results/scPoli_VALIDATION_2_200_100*.h5ad'\n",
    "adataEXCpath = '03_downstream_analysis/08_PatientClassifier/scPoli/results/scPoli_EXCLUDED_2_100_20_run1_pd5nyb4g.h5ad'\n",
    "adataEXTpath = '03_downstream_analysis/08_PatientClassifier/scPoli/results/scPoli_EXTERNAL_2_100_20_run1_pd5nyb4g.h5ad'\n",
    "\n",
    "adataPATH = adataVALpath"
   ]
  },
  {
   "cell_type": "code",
   "execution_count": 2,
   "id": "d3ccb10a-7201-43d0-a593-2b4650ff3451",
   "metadata": {
    "execution": {
     "iopub.execute_input": "2024-06-27T16:47:45.752723Z",
     "iopub.status.busy": "2024-06-27T16:47:45.752495Z",
     "iopub.status.idle": "2024-06-27T16:47:45.755670Z",
     "shell.execute_reply": "2024-06-27T16:47:45.755281Z"
    },
    "papermill": {
     "duration": 0.049783,
     "end_time": "2024-06-27T16:47:45.756612",
     "exception": false,
     "start_time": "2024-06-27T16:47:45.706829",
     "status": "completed"
    },
    "tags": []
   },
   "outputs": [
    {
     "name": "stdout",
     "output_type": "stream",
     "text": [
      "adataPATH = 03_downstream_analysis/08_PatientClassifier/scPoli/results/scPoli_ref_latents_EXTERNAL_2_100_run1_pd5nyb4g.h5ad\n"
     ]
    }
   ],
   "source": [
    "for v in ['adataPATH']:\n",
    "    if v in locals() or v in globals():\n",
    "        print(f\"{v} = {eval(v)}\")\n",
    "    else:\n",
    "        raise Exception(f\"{v} not specified\")"
   ]
  },
  {
   "cell_type": "code",
   "execution_count": 3,
   "id": "888fb5f4-9ab7-4196-a282-7a7e92a43971",
   "metadata": {
    "execution": {
     "iopub.execute_input": "2024-06-27T16:47:45.810324Z",
     "iopub.status.busy": "2024-06-27T16:47:45.810026Z",
     "iopub.status.idle": "2024-06-27T16:47:51.668994Z",
     "shell.execute_reply": "2024-06-27T16:47:51.668413Z"
    },
    "papermill": {
     "duration": 5.898427,
     "end_time": "2024-06-27T16:47:51.670469",
     "exception": false,
     "start_time": "2024-06-27T16:47:45.772042",
     "status": "completed"
    },
    "tags": []
   },
   "outputs": [],
   "source": [
    "import os\n",
    "import sys\n",
    "from glob import glob\n",
    "\n",
    "import scanpy as sc\n",
    "import pandas as pd\n",
    "\n",
    "from pyprojroot import here\n",
    "\n",
    "sys.path.insert(1, str(here('bin')))\n",
    "# Import custom functions\n",
    "from customPythonFunctions import aggregating_features"
   ]
  },
  {
   "cell_type": "markdown",
   "id": "ba4905ae-4546-4ef4-b57b-950441ab079d",
   "metadata": {
    "papermill": {
     "duration": 0.005748,
     "end_time": "2024-06-27T16:47:51.681803",
     "exception": false,
     "start_time": "2024-06-27T16:47:51.676055",
     "status": "completed"
    },
    "tags": []
   },
   "source": [
    "### Loading data"
   ]
  },
  {
   "cell_type": "code",
   "execution_count": 4,
   "id": "539cbbbb-3503-4f51-bf04-f007f928ebd1",
   "metadata": {
    "execution": {
     "iopub.execute_input": "2024-06-27T16:47:51.695054Z",
     "iopub.status.busy": "2024-06-27T16:47:51.694706Z",
     "iopub.status.idle": "2024-06-27T16:47:51.699199Z",
     "shell.execute_reply": "2024-06-27T16:47:51.698666Z"
    },
    "papermill": {
     "duration": 0.012895,
     "end_time": "2024-06-27T16:47:51.700205",
     "exception": false,
     "start_time": "2024-06-27T16:47:51.687310",
     "status": "completed"
    },
    "tags": []
   },
   "outputs": [],
   "source": [
    "adataPATHlist = glob(str(here(adataPATH)))\n",
    "assert(len(adataPATHlist) == 1)"
   ]
  },
  {
   "cell_type": "code",
   "execution_count": 5,
   "id": "0fcfce0a-896b-4dc0-8e5e-46749205c84f",
   "metadata": {
    "execution": {
     "iopub.execute_input": "2024-06-27T16:47:51.714362Z",
     "iopub.status.busy": "2024-06-27T16:47:51.713888Z",
     "iopub.status.idle": "2024-06-27T16:48:11.973684Z",
     "shell.execute_reply": "2024-06-27T16:48:11.973179Z"
    },
    "papermill": {
     "duration": 20.268762,
     "end_time": "2024-06-27T16:48:11.974792",
     "exception": false,
     "start_time": "2024-06-27T16:47:51.706030",
     "status": "completed"
    },
    "tags": []
   },
   "outputs": [
    {
     "data": {
      "text/plain": [
       "AnnData object with n_obs × n_vars = 4435922 × 100\n",
       "    obs: 'studyID', 'libraryID', 'sampleID', 'chemistry', 'disease', 'sex', 'binned_age', 'Level1', 'Level2'\n",
       "    uns: 'chemistry', 'sampleID'"
      ]
     },
     "execution_count": 5,
     "metadata": {},
     "output_type": "execute_result"
    }
   ],
   "source": [
    "adata = sc.read_h5ad(adataPATHlist[0])\n",
    "adata"
   ]
  },
  {
   "cell_type": "markdown",
   "id": "44e868b3-0771-4225-bd79-a4b179bc672b",
   "metadata": {
    "papermill": {
     "duration": 0.005053,
     "end_time": "2024-06-27T16:48:11.986516",
     "exception": false,
     "start_time": "2024-06-27T16:48:11.981463",
     "status": "completed"
    },
    "tags": []
   },
   "source": [
    "#### Generating PSEUDOBULKs"
   ]
  },
  {
   "cell_type": "markdown",
   "id": "97d09fc5-d05c-471e-87fa-fe58ccbe47ac",
   "metadata": {
    "papermill": {
     "duration": 0.005709,
     "end_time": "2024-06-27T16:48:11.997274",
     "exception": false,
     "start_time": "2024-06-27T16:48:11.991565",
     "status": "completed"
    },
    "tags": []
   },
   "source": [
    "**Aggregating cell latent features**"
   ]
  },
  {
   "cell_type": "code",
   "execution_count": 6,
   "id": "81223976-fcf6-4354-8964-b12d76468636",
   "metadata": {
    "execution": {
     "iopub.execute_input": "2024-06-27T16:48:12.008176Z",
     "iopub.status.busy": "2024-06-27T16:48:12.007956Z",
     "iopub.status.idle": "2024-06-27T16:48:14.329622Z",
     "shell.execute_reply": "2024-06-27T16:48:14.328882Z"
    },
    "papermill": {
     "duration": 2.328477,
     "end_time": "2024-06-27T16:48:14.330746",
     "exception": false,
     "start_time": "2024-06-27T16:48:12.002269",
     "status": "completed"
    },
    "tags": []
   },
   "outputs": [
    {
     "data": {
      "text/plain": [
       "AnnData object with n_obs × n_vars = 11372 × 100\n",
       "    obs: 'sampleID', 'Level1', 'disease', 'n_observation'"
      ]
     },
     "execution_count": 6,
     "metadata": {},
     "output_type": "execute_result"
    }
   ],
   "source": [
    "adataPBcell = aggregating_features(Z = adata.X, \n",
    "                             obsDF = adata.obs[['sampleID','Level1','disease']], \n",
    "                             mode = 'mean', \n",
    "                             obs_names_col=['sampleID','Level1'], \n",
    "                             min_observation=0)\n",
    "adataPBcell"
   ]
  },
  {
   "cell_type": "markdown",
   "id": "6d602bad-4793-4aa4-b3d7-d118d413a0fc",
   "metadata": {
    "papermill": {
     "duration": 0.005567,
     "end_time": "2024-06-27T16:48:14.343025",
     "exception": false,
     "start_time": "2024-06-27T16:48:14.337458",
     "status": "completed"
    },
    "tags": []
   },
   "source": [
    "**Extracting sample embedding**"
   ]
  },
  {
   "cell_type": "code",
   "execution_count": 7,
   "id": "e2c14f02",
   "metadata": {
    "execution": {
     "iopub.execute_input": "2024-06-27T16:48:14.361813Z",
     "iopub.status.busy": "2024-06-27T16:48:14.361207Z",
     "iopub.status.idle": "2024-06-27T16:48:14.372668Z",
     "shell.execute_reply": "2024-06-27T16:48:14.372168Z"
    },
    "papermill": {
     "duration": 0.025638,
     "end_time": "2024-06-27T16:48:14.373698",
     "exception": false,
     "start_time": "2024-06-27T16:48:14.348060",
     "status": "completed"
    },
    "tags": []
   },
   "outputs": [
    {
     "data": {
      "text/plain": [
       "AnnData object with n_obs × n_vars = 817 × 20\n",
       "    obs: 'sampleID', 'disease', 'Level1'"
      ]
     },
     "execution_count": 7,
     "metadata": {},
     "output_type": "execute_result"
    }
   ],
   "source": [
    "adataPBsample = adata.uns['sampleID'].copy()\n",
    "adataPBsample.obs['sampleID'] = adataPBsample.obs.index\n",
    "adataPBsample = adataPBsample[adataPBsample.obs['sampleID'].isin(adataPBcell.obs['sampleID'])]\n",
    "\n",
    "adataPBsample.obs = adataPBsample.obs.merge(adataPBcell.obs.groupby('sampleID').agg({'disease':'first'}), left_index=True, right_index=True)\n",
    "adataPBsample.obs['Level1'] = 'sample'\n",
    "adataPBsample"
   ]
  },
  {
   "cell_type": "markdown",
   "id": "2d4fe137-7d68-4e86-a85c-3c1a3d3c4c71",
   "metadata": {
    "papermill": {
     "duration": 0.005514,
     "end_time": "2024-06-27T16:48:14.385897",
     "exception": false,
     "start_time": "2024-06-27T16:48:14.380383",
     "status": "completed"
    },
    "tags": []
   },
   "source": [
    "**Merging cell and patient latent features**"
   ]
  },
  {
   "cell_type": "code",
   "execution_count": 8,
   "id": "a326d2b1",
   "metadata": {
    "execution": {
     "iopub.execute_input": "2024-06-27T16:48:14.397918Z",
     "iopub.status.busy": "2024-06-27T16:48:14.397513Z",
     "iopub.status.idle": "2024-06-27T16:48:14.401083Z",
     "shell.execute_reply": "2024-06-27T16:48:14.400595Z"
    },
    "papermill": {
     "duration": 0.01072,
     "end_time": "2024-06-27T16:48:14.402049",
     "exception": false,
     "start_time": "2024-06-27T16:48:14.391329",
     "status": "completed"
    },
    "tags": []
   },
   "outputs": [],
   "source": [
    "PBcellDF = adataPBcell.to_df()\n",
    "PBcellDF['sampleID'] = adataPBcell.obs['sampleID']"
   ]
  },
  {
   "cell_type": "code",
   "execution_count": 9,
   "id": "1a597f46-d9c5-403b-b81e-5738ca206682",
   "metadata": {
    "execution": {
     "iopub.execute_input": "2024-06-27T16:48:14.414893Z",
     "iopub.status.busy": "2024-06-27T16:48:14.414536Z",
     "iopub.status.idle": "2024-06-27T16:48:14.418045Z",
     "shell.execute_reply": "2024-06-27T16:48:14.417540Z"
    },
    "papermill": {
     "duration": 0.010898,
     "end_time": "2024-06-27T16:48:14.419018",
     "exception": false,
     "start_time": "2024-06-27T16:48:14.408120",
     "status": "completed"
    },
    "tags": []
   },
   "outputs": [],
   "source": [
    "PBsampleDF = adataPBsample.to_df()\n",
    "PBsampleDF['sampleID'] = adataPBsample.obs['sampleID']"
   ]
  },
  {
   "cell_type": "code",
   "execution_count": 10,
   "id": "bb384751-fe1b-4635-a90d-fd98ae61b173",
   "metadata": {
    "execution": {
     "iopub.execute_input": "2024-06-27T16:48:14.433788Z",
     "iopub.status.busy": "2024-06-27T16:48:14.433257Z",
     "iopub.status.idle": "2024-06-27T16:48:14.442833Z",
     "shell.execute_reply": "2024-06-27T16:48:14.442216Z"
    },
    "papermill": {
     "duration": 0.017915,
     "end_time": "2024-06-27T16:48:14.444059",
     "exception": false,
     "start_time": "2024-06-27T16:48:14.426144",
     "status": "completed"
    },
    "tags": []
   },
   "outputs": [],
   "source": [
    "PBcell_sampleDF = PBcellDF.merge(PBsampleDF, on='sampleID', how='left')"
   ]
  },
  {
   "cell_type": "code",
   "execution_count": 11,
   "id": "f7250713-e24d-4614-9cbd-eed702340640",
   "metadata": {
    "execution": {
     "iopub.execute_input": "2024-06-27T16:48:14.464692Z",
     "iopub.status.busy": "2024-06-27T16:48:14.464232Z",
     "iopub.status.idle": "2024-06-27T16:48:14.467493Z",
     "shell.execute_reply": "2024-06-27T16:48:14.466998Z"
    },
    "papermill": {
     "duration": 0.015902,
     "end_time": "2024-06-27T16:48:14.468529",
     "exception": false,
     "start_time": "2024-06-27T16:48:14.452627",
     "status": "completed"
    },
    "tags": []
   },
   "outputs": [],
   "source": [
    "assert(adataPBcell.obs['sampleID'].tolist() == PBcell_sampleDF['sampleID'].tolist())"
   ]
  },
  {
   "cell_type": "code",
   "execution_count": 12,
   "id": "abea2252-6a12-4b89-9f0d-6d6df90064fb",
   "metadata": {
    "execution": {
     "iopub.execute_input": "2024-06-27T16:48:14.483090Z",
     "iopub.status.busy": "2024-06-27T16:48:14.482606Z",
     "iopub.status.idle": "2024-06-27T16:48:14.486559Z",
     "shell.execute_reply": "2024-06-27T16:48:14.485995Z"
    },
    "papermill": {
     "duration": 0.011488,
     "end_time": "2024-06-27T16:48:14.487619",
     "exception": false,
     "start_time": "2024-06-27T16:48:14.476131",
     "status": "completed"
    },
    "tags": []
   },
   "outputs": [],
   "source": [
    "PBcell_sampleDF.drop('sampleID', axis=1, inplace=True)"
   ]
  },
  {
   "cell_type": "code",
   "execution_count": 13,
   "id": "5502e45d-5c72-4440-a8c1-5b299cac6e2d",
   "metadata": {
    "execution": {
     "iopub.execute_input": "2024-06-27T16:48:14.499951Z",
     "iopub.status.busy": "2024-06-27T16:48:14.499713Z",
     "iopub.status.idle": "2024-06-27T16:48:14.504892Z",
     "shell.execute_reply": "2024-06-27T16:48:14.504377Z"
    },
    "papermill": {
     "duration": 0.012544,
     "end_time": "2024-06-27T16:48:14.505878",
     "exception": false,
     "start_time": "2024-06-27T16:48:14.493334",
     "status": "completed"
    },
    "tags": []
   },
   "outputs": [
    {
     "data": {
      "text/plain": [
       "AnnData object with n_obs × n_vars = 11372 × 120\n",
       "    obs: 'sampleID', 'Level1', 'disease', 'n_observation'"
      ]
     },
     "execution_count": 13,
     "metadata": {},
     "output_type": "execute_result"
    }
   ],
   "source": [
    "adataPBcell_sample = sc.AnnData(X = PBcell_sampleDF, obs = adataPBcell.obs)\n",
    "adataPBcell_sample"
   ]
  },
  {
   "cell_type": "markdown",
   "id": "d59574be-684b-4082-b8b6-7d11930362ad",
   "metadata": {
    "papermill": {
     "duration": 0.005547,
     "end_time": "2024-06-27T16:48:14.517593",
     "exception": false,
     "start_time": "2024-06-27T16:48:14.512046",
     "status": "completed"
    },
    "tags": []
   },
   "source": [
    "### Saving pseudobulk adata objects"
   ]
  },
  {
   "cell_type": "code",
   "execution_count": 14,
   "id": "5947e6f8-ac27-4702-ba5d-aa9e1ba79f6a",
   "metadata": {
    "execution": {
     "iopub.execute_input": "2024-06-27T16:48:14.532439Z",
     "iopub.status.busy": "2024-06-27T16:48:14.532208Z",
     "iopub.status.idle": "2024-06-27T16:48:14.741765Z",
     "shell.execute_reply": "2024-06-27T16:48:14.741131Z"
    },
    "papermill": {
     "duration": 0.217542,
     "end_time": "2024-06-27T16:48:14.743155",
     "exception": false,
     "start_time": "2024-06-27T16:48:14.525613",
     "status": "completed"
    },
    "tags": []
   },
   "outputs": [],
   "source": [
    "adataPBcell.write(here(adataPATHlist[0].replace('/scPoli_','/PSEUDOBULKs/scPoli_PSEUDOBULKcell_')), compression='gzip')"
   ]
  },
  {
   "cell_type": "code",
   "execution_count": 15,
   "id": "e9485945-bccf-419a-9420-c1e4f3aa262d",
   "metadata": {
    "execution": {
     "iopub.execute_input": "2024-06-27T16:48:14.758177Z",
     "iopub.status.busy": "2024-06-27T16:48:14.757678Z",
     "iopub.status.idle": "2024-06-27T16:48:14.783787Z",
     "shell.execute_reply": "2024-06-27T16:48:14.783129Z"
    },
    "papermill": {
     "duration": 0.034542,
     "end_time": "2024-06-27T16:48:14.785120",
     "exception": false,
     "start_time": "2024-06-27T16:48:14.750578",
     "status": "completed"
    },
    "tags": []
   },
   "outputs": [],
   "source": [
    "adataPBsample.write(here(adataPATHlist[0].replace('/scPoli_','/PSEUDOBULKs/scPoli_PSEUDOBULKsample_')), compression='gzip')"
   ]
  },
  {
   "cell_type": "code",
   "execution_count": 16,
   "id": "9c2daa40-3279-4b24-8aad-65ee0ba758c8",
   "metadata": {
    "execution": {
     "iopub.execute_input": "2024-06-27T16:48:14.798857Z",
     "iopub.status.busy": "2024-06-27T16:48:14.798378Z",
     "iopub.status.idle": "2024-06-27T16:48:14.993095Z",
     "shell.execute_reply": "2024-06-27T16:48:14.992364Z"
    },
    "papermill": {
     "duration": 0.203741,
     "end_time": "2024-06-27T16:48:14.994514",
     "exception": false,
     "start_time": "2024-06-27T16:48:14.790773",
     "status": "completed"
    },
    "tags": []
   },
   "outputs": [],
   "source": [
    "adataPBcell_sample.write(here(adataPATHlist[0].replace('/scPoli_','/PSEUDOBULKs/scPoli_PSEUDOBULKcellSample_')), compression='gzip')"
   ]
  },
  {
   "cell_type": "code",
   "execution_count": null,
   "id": "8a70d9f6-7a44-45ee-8470-702bd7af1e0b",
   "metadata": {
    "papermill": {
     "duration": 0.005955,
     "end_time": "2024-06-27T16:48:15.009396",
     "exception": false,
     "start_time": "2024-06-27T16:48:15.003441",
     "status": "completed"
    },
    "tags": []
   },
   "outputs": [],
   "source": []
  }
 ],
 "metadata": {
  "kernelspec": {
   "display_name": "Python 3 (ipykernel)",
   "language": "python",
   "name": "python3"
  },
  "language_info": {
   "codemirror_mode": {
    "name": "ipython",
    "version": 3
   },
   "file_extension": ".py",
   "mimetype": "text/x-python",
   "name": "python",
   "nbconvert_exporter": "python",
   "pygments_lexer": "ipython3",
   "version": "3.10.13"
  },
  "papermill": {
   "default_parameters": {},
   "duration": 33.25851,
   "end_time": "2024-06-27T16:48:15.631701",
   "environment_variables": {},
   "exception": null,
   "input_path": "03_generating_PSEUDOBULKs.ipynb",
   "output_path": "executed_notebooks/03_generating_PSEUDOBULKs_scPoli_ref_latents_EXTERNAL_2_100_run1_pd5nyb4g.h5ad.ipynb",
   "parameters": {
    "adataPATH": "03_downstream_analysis/08_PatientClassifier/scPoli/results/scPoli_ref_latents_EXTERNAL_2_100_run1_pd5nyb4g.h5ad"
   },
   "start_time": "2024-06-27T16:47:42.373191",
   "version": "2.5.0"
  }
 },
 "nbformat": 4,
 "nbformat_minor": 5
}