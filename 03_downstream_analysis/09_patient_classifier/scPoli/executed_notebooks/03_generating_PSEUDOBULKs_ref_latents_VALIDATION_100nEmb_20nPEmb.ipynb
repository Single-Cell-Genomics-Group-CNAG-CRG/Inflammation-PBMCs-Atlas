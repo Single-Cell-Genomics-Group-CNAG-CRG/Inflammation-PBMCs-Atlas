{
 "cells": [
  {
   "cell_type": "code",
   "execution_count": 1,
   "id": "2bf0d9ee",
   "metadata": {
    "execution": {
     "iopub.execute_input": "2024-06-30T20:56:26.059359Z",
     "iopub.status.busy": "2024-06-30T20:56:26.059048Z",
     "iopub.status.idle": "2024-06-30T20:56:26.061435Z",
     "shell.execute_reply": "2024-06-30T20:56:26.061137Z"
    },
    "papermill": {
     "duration": 0.009948,
     "end_time": "2024-06-30T20:56:26.062208",
     "exception": false,
     "start_time": "2024-06-30T20:56:26.052260",
     "status": "completed"
    },
    "tags": [
     "injected-parameters"
    ]
   },
   "outputs": [],
   "source": [
    "# Parameters\n",
    "adataPATH = \"03_downstream_analysis/08_PatientClassifier/scPoli/results/scPoli_ref_latents_VALIDATION_2_100_20_*.h5ad\"\n"
   ]
  },
  {
   "cell_type": "raw",
   "id": "bf9880bd-3aef-477b-807d-37e3c5603037",
   "metadata": {
    "execution": {
     "iopub.execute_input": "2024-06-29T08:23:25.403219Z",
     "iopub.status.busy": "2024-06-29T08:23:25.402857Z",
     "iopub.status.idle": "2024-06-29T08:23:25.406428Z",
     "shell.execute_reply": "2024-06-29T08:23:25.406014Z",
     "shell.execute_reply.started": "2024-06-29T08:23:25.403185Z"
    },
    "papermill": {
     "duration": 0.004883,
     "end_time": "2024-06-30T20:56:26.072484",
     "exception": false,
     "start_time": "2024-06-30T20:56:26.067601",
     "status": "completed"
    },
    "tags": [],
    "vscode": {
     "languageId": "raw"
    }
   },
   "source": [
    "adataMAINpath = '03_downstream_analysis/08_PatientClassifier/scPoli/results/scPoli_2_100_20_*.h5ad'\n",
    "\n",
    "adataVALpath = '03_downstream_analysis/08_PatientClassifier/scPoli/results/scPoli_VALIDATION_2_20_20*.h5ad'\n",
    "adataEXCpath = '03_downstream_analysis/08_PatientClassifier/scPoli/results/scPoli_EXCLUDED_2_100_20_run1_pd5nyb4g.h5ad'\n",
    "adataEXTpath = '03_downstream_analysis/08_PatientClassifier/scPoli/results/scPoli_EXTERNAL_2_100_20_run1_pd5nyb4g.h5ad'\n",
    "\n",
    "adataPATH = adataVALpath"
   ]
  },
  {
   "cell_type": "code",
   "execution_count": 2,
   "id": "d3ccb10a-7201-43d0-a593-2b4650ff3451",
   "metadata": {
    "execution": {
     "iopub.execute_input": "2024-06-30T20:56:26.096560Z",
     "iopub.status.busy": "2024-06-30T20:56:26.096276Z",
     "iopub.status.idle": "2024-06-30T20:56:26.098872Z",
     "shell.execute_reply": "2024-06-30T20:56:26.098577Z"
    },
    "papermill": {
     "duration": 0.008637,
     "end_time": "2024-06-30T20:56:26.099621",
     "exception": false,
     "start_time": "2024-06-30T20:56:26.090984",
     "status": "completed"
    },
    "tags": []
   },
   "outputs": [
    {
     "name": "stdout",
     "output_type": "stream",
     "text": [
      "adataPATH = 03_downstream_analysis/08_PatientClassifier/scPoli/results/scPoli_ref_latents_VALIDATION_2_100_20_*.h5ad\n"
     ]
    }
   ],
   "source": [
    "for v in ['adataPATH']:\n",
    "    if v in locals() or v in globals():\n",
    "        print(f\"{v} = {eval(v)}\")\n",
    "    else:\n",
    "        raise Exception(f\"{v} not specified\")"
   ]
  },
  {
   "cell_type": "code",
   "execution_count": 3,
   "id": "888fb5f4-9ab7-4196-a282-7a7e92a43971",
   "metadata": {
    "execution": {
     "iopub.execute_input": "2024-06-30T20:56:26.110395Z",
     "iopub.status.busy": "2024-06-30T20:56:26.110267Z",
     "iopub.status.idle": "2024-06-30T20:56:27.577982Z",
     "shell.execute_reply": "2024-06-30T20:56:27.577486Z"
    },
    "papermill": {
     "duration": 1.47439,
     "end_time": "2024-06-30T20:56:27.579170",
     "exception": false,
     "start_time": "2024-06-30T20:56:26.104780",
     "status": "completed"
    },
    "tags": []
   },
   "outputs": [],
   "source": [
    "import os\n",
    "import sys\n",
    "from glob import glob\n",
    "\n",
    "import scanpy as sc\n",
    "import pandas as pd\n",
    "\n",
    "from pyprojroot import here\n",
    "\n",
    "sys.path.insert(1, str(here('bin')))\n",
    "# Import custom functions\n",
    "from customPythonFunctions import aggregating_features"
   ]
  },
  {
   "cell_type": "markdown",
   "id": "ba4905ae-4546-4ef4-b57b-950441ab079d",
   "metadata": {
    "papermill": {
     "duration": 0.005097,
     "end_time": "2024-06-30T20:56:27.589749",
     "exception": false,
     "start_time": "2024-06-30T20:56:27.584652",
     "status": "completed"
    },
    "tags": []
   },
   "source": [
    "### Loading data"
   ]
  },
  {
   "cell_type": "code",
   "execution_count": 4,
   "id": "539cbbbb-3503-4f51-bf04-f007f928ebd1",
   "metadata": {
    "execution": {
     "iopub.execute_input": "2024-06-30T20:56:27.601188Z",
     "iopub.status.busy": "2024-06-30T20:56:27.600621Z",
     "iopub.status.idle": "2024-06-30T20:56:27.604697Z",
     "shell.execute_reply": "2024-06-30T20:56:27.604329Z"
    },
    "papermill": {
     "duration": 0.010551,
     "end_time": "2024-06-30T20:56:27.605458",
     "exception": false,
     "start_time": "2024-06-30T20:56:27.594907",
     "status": "completed"
    },
    "tags": []
   },
   "outputs": [],
   "source": [
    "adataPATHlist = glob(str(here(adataPATH)))\n",
    "assert(len(adataPATHlist) == 1)"
   ]
  },
  {
   "cell_type": "code",
   "execution_count": 5,
   "id": "0fcfce0a-896b-4dc0-8e5e-46749205c84f",
   "metadata": {
    "execution": {
     "iopub.execute_input": "2024-06-30T20:56:27.616304Z",
     "iopub.status.busy": "2024-06-30T20:56:27.616010Z",
     "iopub.status.idle": "2024-06-30T20:56:43.509597Z",
     "shell.execute_reply": "2024-06-30T20:56:43.509128Z"
    },
    "papermill": {
     "duration": 15.900065,
     "end_time": "2024-06-30T20:56:43.510470",
     "exception": false,
     "start_time": "2024-06-30T20:56:27.610405",
     "status": "completed"
    },
    "tags": []
   },
   "outputs": [
    {
     "data": {
      "text/plain": [
       "AnnData object with n_obs × n_vars = 4435922 × 100\n",
       "    obs: 'studyID', 'libraryID', 'sampleID', 'chemistry', 'disease', 'sex', 'binned_age', 'Level1', 'Level2'\n",
       "    uns: 'chemistry', 'sampleID'"
      ]
     },
     "execution_count": 5,
     "metadata": {},
     "output_type": "execute_result"
    }
   ],
   "source": [
    "adata = sc.read_h5ad(adataPATHlist[0])\n",
    "adata"
   ]
  },
  {
   "cell_type": "markdown",
   "id": "44e868b3-0771-4225-bd79-a4b179bc672b",
   "metadata": {
    "papermill": {
     "duration": 0.005271,
     "end_time": "2024-06-30T20:56:43.521860",
     "exception": false,
     "start_time": "2024-06-30T20:56:43.516589",
     "status": "completed"
    },
    "tags": []
   },
   "source": [
    "#### Generating PSEUDOBULKs"
   ]
  },
  {
   "cell_type": "markdown",
   "id": "97d09fc5-d05c-471e-87fa-fe58ccbe47ac",
   "metadata": {
    "papermill": {
     "duration": 0.004975,
     "end_time": "2024-06-30T20:56:43.532271",
     "exception": false,
     "start_time": "2024-06-30T20:56:43.527296",
     "status": "completed"
    },
    "tags": []
   },
   "source": [
    "**Aggregating cell latent features**"
   ]
  },
  {
   "cell_type": "code",
   "execution_count": 6,
   "id": "81223976-fcf6-4354-8964-b12d76468636",
   "metadata": {
    "execution": {
     "iopub.execute_input": "2024-06-30T20:56:43.544154Z",
     "iopub.status.busy": "2024-06-30T20:56:43.543839Z",
     "iopub.status.idle": "2024-06-30T20:56:46.006001Z",
     "shell.execute_reply": "2024-06-30T20:56:46.005551Z"
    },
    "papermill": {
     "duration": 2.468923,
     "end_time": "2024-06-30T20:56:46.006831",
     "exception": false,
     "start_time": "2024-06-30T20:56:43.537908",
     "status": "completed"
    },
    "tags": []
   },
   "outputs": [
    {
     "data": {
      "text/plain": [
       "AnnData object with n_obs × n_vars = 11372 × 100\n",
       "    obs: 'sampleID', 'Level1', 'disease', 'n_observation'"
      ]
     },
     "execution_count": 6,
     "metadata": {},
     "output_type": "execute_result"
    }
   ],
   "source": [
    "adataPBcell = aggregating_features(Z = adata.X, \n",
    "                             obsDF = adata.obs[['sampleID','Level1','disease']], \n",
    "                             mode = 'mean', \n",
    "                             obs_names_col=['sampleID','Level1'], \n",
    "                             min_observation=0)\n",
    "adataPBcell"
   ]
  },
  {
   "cell_type": "code",
   "execution_count": null,
   "id": "8495038e-aebd-4003-bd94-c1e49f47249e",
   "metadata": {
    "papermill": {
     "duration": 0.00927,
     "end_time": "2024-06-30T20:56:46.026112",
     "exception": false,
     "start_time": "2024-06-30T20:56:46.016842",
     "status": "completed"
    },
    "tags": []
   },
   "outputs": [],
   "source": []
  },
  {
   "cell_type": "markdown",
   "id": "6d602bad-4793-4aa4-b3d7-d118d413a0fc",
   "metadata": {
    "papermill": {
     "duration": 0.005106,
     "end_time": "2024-06-30T20:56:46.037004",
     "exception": false,
     "start_time": "2024-06-30T20:56:46.031898",
     "status": "completed"
    },
    "tags": []
   },
   "source": [
    "**Extracting sample embedding**"
   ]
  },
  {
   "cell_type": "code",
   "execution_count": 7,
   "id": "e2c14f02",
   "metadata": {
    "execution": {
     "iopub.execute_input": "2024-06-30T20:56:46.049361Z",
     "iopub.status.busy": "2024-06-30T20:56:46.048952Z",
     "iopub.status.idle": "2024-06-30T20:56:46.058773Z",
     "shell.execute_reply": "2024-06-30T20:56:46.058416Z"
    },
    "papermill": {
     "duration": 0.017336,
     "end_time": "2024-06-30T20:56:46.059575",
     "exception": false,
     "start_time": "2024-06-30T20:56:46.042239",
     "status": "completed"
    },
    "tags": []
   },
   "outputs": [
    {
     "data": {
      "text/plain": [
       "AnnData object with n_obs × n_vars = 817 × 20\n",
       "    obs: 'sampleID', 'disease', 'Level1'"
      ]
     },
     "execution_count": 7,
     "metadata": {},
     "output_type": "execute_result"
    }
   ],
   "source": [
    "adataPBsample = adata.uns['sampleID'].copy()\n",
    "adataPBsample.obs['sampleID'] = adataPBsample.obs.index\n",
    "adataPBsample = adataPBsample[adataPBsample.obs['sampleID'].isin(adataPBcell.obs['sampleID'])]\n",
    "\n",
    "adataPBsample.obs = adataPBsample.obs.merge(adataPBcell.obs.groupby('sampleID').agg({'disease':'first'}), left_index=True, right_index=True)\n",
    "adataPBsample.obs['Level1'] = 'sample'\n",
    "adataPBsample"
   ]
  },
  {
   "cell_type": "markdown",
   "id": "2d4fe137-7d68-4e86-a85c-3c1a3d3c4c71",
   "metadata": {
    "papermill": {
     "duration": 0.0055,
     "end_time": "2024-06-30T20:56:46.070487",
     "exception": false,
     "start_time": "2024-06-30T20:56:46.064987",
     "status": "completed"
    },
    "tags": []
   },
   "source": [
    "**Merging cell and patient latent features**"
   ]
  },
  {
   "cell_type": "code",
   "execution_count": 8,
   "id": "a326d2b1",
   "metadata": {
    "execution": {
     "iopub.execute_input": "2024-06-30T20:56:46.081847Z",
     "iopub.status.busy": "2024-06-30T20:56:46.081501Z",
     "iopub.status.idle": "2024-06-30T20:56:46.083970Z",
     "shell.execute_reply": "2024-06-30T20:56:46.083608Z"
    },
    "papermill": {
     "duration": 0.009201,
     "end_time": "2024-06-30T20:56:46.084731",
     "exception": false,
     "start_time": "2024-06-30T20:56:46.075530",
     "status": "completed"
    },
    "tags": []
   },
   "outputs": [],
   "source": [
    "PBcellDF = adataPBcell.to_df()\n",
    "PBcellDF['sampleID'] = adataPBcell.obs['sampleID']"
   ]
  },
  {
   "cell_type": "code",
   "execution_count": 9,
   "id": "1a597f46-d9c5-403b-b81e-5738ca206682",
   "metadata": {
    "execution": {
     "iopub.execute_input": "2024-06-30T20:56:46.095945Z",
     "iopub.status.busy": "2024-06-30T20:56:46.095680Z",
     "iopub.status.idle": "2024-06-30T20:56:46.098050Z",
     "shell.execute_reply": "2024-06-30T20:56:46.097691Z"
    },
    "papermill": {
     "duration": 0.008645,
     "end_time": "2024-06-30T20:56:46.098846",
     "exception": false,
     "start_time": "2024-06-30T20:56:46.090201",
     "status": "completed"
    },
    "tags": []
   },
   "outputs": [],
   "source": [
    "PBsampleDF = adataPBsample.to_df()\n",
    "PBsampleDF['sampleID'] = adataPBsample.obs['sampleID']"
   ]
  },
  {
   "cell_type": "code",
   "execution_count": 10,
   "id": "bb384751-fe1b-4635-a90d-fd98ae61b173",
   "metadata": {
    "execution": {
     "iopub.execute_input": "2024-06-30T20:56:46.110576Z",
     "iopub.status.busy": "2024-06-30T20:56:46.110259Z",
     "iopub.status.idle": "2024-06-30T20:56:46.117621Z",
     "shell.execute_reply": "2024-06-30T20:56:46.117187Z"
    },
    "papermill": {
     "duration": 0.014534,
     "end_time": "2024-06-30T20:56:46.118601",
     "exception": false,
     "start_time": "2024-06-30T20:56:46.104067",
     "status": "completed"
    },
    "tags": []
   },
   "outputs": [],
   "source": [
    "PBcell_sampleDF = PBcellDF.merge(PBsampleDF, on='sampleID', how='left')"
   ]
  },
  {
   "cell_type": "code",
   "execution_count": 11,
   "id": "f7250713-e24d-4614-9cbd-eed702340640",
   "metadata": {
    "execution": {
     "iopub.execute_input": "2024-06-30T20:56:46.135405Z",
     "iopub.status.busy": "2024-06-30T20:56:46.134999Z",
     "iopub.status.idle": "2024-06-30T20:56:46.137615Z",
     "shell.execute_reply": "2024-06-30T20:56:46.137242Z"
    },
    "papermill": {
     "duration": 0.009433,
     "end_time": "2024-06-30T20:56:46.138372",
     "exception": false,
     "start_time": "2024-06-30T20:56:46.128939",
     "status": "completed"
    },
    "tags": []
   },
   "outputs": [],
   "source": [
    "assert(adataPBcell.obs['sampleID'].tolist() == PBcell_sampleDF['sampleID'].tolist())"
   ]
  },
  {
   "cell_type": "code",
   "execution_count": 12,
   "id": "abea2252-6a12-4b89-9f0d-6d6df90064fb",
   "metadata": {
    "execution": {
     "iopub.execute_input": "2024-06-30T20:56:46.149760Z",
     "iopub.status.busy": "2024-06-30T20:56:46.149497Z",
     "iopub.status.idle": "2024-06-30T20:56:46.152453Z",
     "shell.execute_reply": "2024-06-30T20:56:46.152070Z"
    },
    "papermill": {
     "duration": 0.009722,
     "end_time": "2024-06-30T20:56:46.153210",
     "exception": false,
     "start_time": "2024-06-30T20:56:46.143488",
     "status": "completed"
    },
    "tags": []
   },
   "outputs": [],
   "source": [
    "PBcell_sampleDF.drop('sampleID', axis=1, inplace=True)"
   ]
  },
  {
   "cell_type": "code",
   "execution_count": 13,
   "id": "5502e45d-5c72-4440-a8c1-5b299cac6e2d",
   "metadata": {
    "execution": {
     "iopub.execute_input": "2024-06-30T20:56:46.166985Z",
     "iopub.status.busy": "2024-06-30T20:56:46.166713Z",
     "iopub.status.idle": "2024-06-30T20:56:46.170675Z",
     "shell.execute_reply": "2024-06-30T20:56:46.170318Z"
    },
    "papermill": {
     "duration": 0.011909,
     "end_time": "2024-06-30T20:56:46.171443",
     "exception": false,
     "start_time": "2024-06-30T20:56:46.159534",
     "status": "completed"
    },
    "tags": []
   },
   "outputs": [
    {
     "data": {
      "text/plain": [
       "AnnData object with n_obs × n_vars = 11372 × 120\n",
       "    obs: 'sampleID', 'Level1', 'disease', 'n_observation'"
      ]
     },
     "execution_count": 13,
     "metadata": {},
     "output_type": "execute_result"
    }
   ],
   "source": [
    "adataPBcell_sample = sc.AnnData(X = PBcell_sampleDF, obs = adataPBcell.obs)\n",
    "adataPBcell_sample"
   ]
  },
  {
   "cell_type": "markdown",
   "id": "d59574be-684b-4082-b8b6-7d11930362ad",
   "metadata": {
    "papermill": {
     "duration": 0.005489,
     "end_time": "2024-06-30T20:56:46.183100",
     "exception": false,
     "start_time": "2024-06-30T20:56:46.177611",
     "status": "completed"
    },
    "tags": []
   },
   "source": [
    "### Saving pseudobulk adata objects"
   ]
  },
  {
   "cell_type": "code",
   "execution_count": 14,
   "id": "5947e6f8-ac27-4702-ba5d-aa9e1ba79f6a",
   "metadata": {
    "execution": {
     "iopub.execute_input": "2024-06-30T20:56:46.194516Z",
     "iopub.status.busy": "2024-06-30T20:56:46.194381Z",
     "iopub.status.idle": "2024-06-30T20:56:46.394908Z",
     "shell.execute_reply": "2024-06-30T20:56:46.394437Z"
    },
    "papermill": {
     "duration": 0.207286,
     "end_time": "2024-06-30T20:56:46.395774",
     "exception": false,
     "start_time": "2024-06-30T20:56:46.188488",
     "status": "completed"
    },
    "tags": []
   },
   "outputs": [],
   "source": [
    "adataPBcell.write(here(adataPATHlist[0].replace('/scPoli_','/PSEUDOBULKs/scPoli_PSEUDOBULKcell_')), compression='gzip')"
   ]
  },
  {
   "cell_type": "code",
   "execution_count": 15,
   "id": "e9485945-bccf-419a-9420-c1e4f3aa262d",
   "metadata": {
    "execution": {
     "iopub.execute_input": "2024-06-30T20:56:46.408113Z",
     "iopub.status.busy": "2024-06-30T20:56:46.407776Z",
     "iopub.status.idle": "2024-06-30T20:56:46.436569Z",
     "shell.execute_reply": "2024-06-30T20:56:46.436185Z"
    },
    "papermill": {
     "duration": 0.035752,
     "end_time": "2024-06-30T20:56:46.437383",
     "exception": false,
     "start_time": "2024-06-30T20:56:46.401631",
     "status": "completed"
    },
    "tags": []
   },
   "outputs": [],
   "source": [
    "adataPBsample.write(here(adataPATHlist[0].replace('/scPoli_','/PSEUDOBULKs/scPoli_PSEUDOBULKsample_')), compression='gzip')"
   ]
  },
  {
   "cell_type": "code",
   "execution_count": 16,
   "id": "9c2daa40-3279-4b24-8aad-65ee0ba758c8",
   "metadata": {
    "execution": {
     "iopub.execute_input": "2024-06-30T20:56:46.454767Z",
     "iopub.status.busy": "2024-06-30T20:56:46.454399Z",
     "iopub.status.idle": "2024-06-30T20:56:46.662759Z",
     "shell.execute_reply": "2024-06-30T20:56:46.662245Z"
    },
    "papermill": {
     "duration": 0.220471,
     "end_time": "2024-06-30T20:56:46.663690",
     "exception": false,
     "start_time": "2024-06-30T20:56:46.443219",
     "status": "completed"
    },
    "tags": []
   },
   "outputs": [],
   "source": [
    "adataPBcell_sample.write(here(adataPATHlist[0].replace('/scPoli_','/PSEUDOBULKs/scPoli_PSEUDOBULKcellSample_')), compression='gzip')"
   ]
  },
  {
   "cell_type": "code",
   "execution_count": null,
   "id": "8a70d9f6-7a44-45ee-8470-702bd7af1e0b",
   "metadata": {
    "papermill": {
     "duration": 0.005507,
     "end_time": "2024-06-30T20:56:46.675180",
     "exception": false,
     "start_time": "2024-06-30T20:56:46.669673",
     "status": "completed"
    },
    "tags": []
   },
   "outputs": [],
   "source": []
  }
 ],
 "metadata": {
  "kernelspec": {
   "display_name": "Python 3 (ipykernel)",
   "language": "python",
   "name": "python3"
  },
  "language_info": {
   "codemirror_mode": {
    "name": "ipython",
    "version": 3
   },
   "file_extension": ".py",
   "mimetype": "text/x-python",
   "name": "python",
   "nbconvert_exporter": "python",
   "pygments_lexer": "ipython3",
   "version": "3.12.3"
  },
  "papermill": {
   "default_parameters": {},
   "duration": null,
   "end_time": null,
   "environment_variables": {},
   "exception": null,
   "input_path": "03_generating_PSEUDOBULKs.ipynb",
   "output_path": "executed_notebooks/03_generating_PSEUDOBULKs_ref_latents_VALIDATION_100nEmb_20nPEmb.ipynb",
   "parameters": {
    "adataPATH": "03_downstream_analysis/08_PatientClassifier/scPoli/results/scPoli_ref_latents_VALIDATION_2_100_20_*.h5ad"
   },
   "start_time": "2024-06-30T20:56:24.940655",
   "version": "2.6.0"
  }
 },
 "nbformat": 4,
 "nbformat_minor": 5
}