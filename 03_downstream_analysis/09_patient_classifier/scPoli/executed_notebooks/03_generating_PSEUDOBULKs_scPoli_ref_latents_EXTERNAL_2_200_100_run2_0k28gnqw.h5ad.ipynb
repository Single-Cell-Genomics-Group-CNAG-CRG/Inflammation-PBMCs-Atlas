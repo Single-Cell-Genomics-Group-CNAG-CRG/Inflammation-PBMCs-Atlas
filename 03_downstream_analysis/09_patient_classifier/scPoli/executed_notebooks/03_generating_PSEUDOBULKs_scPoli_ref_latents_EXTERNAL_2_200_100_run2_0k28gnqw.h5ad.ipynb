{
 "cells": [
  {
   "cell_type": "code",
   "execution_count": 1,
   "id": "04e13679",
   "metadata": {
    "execution": {
     "iopub.execute_input": "2024-06-30T21:01:22.146557Z",
     "iopub.status.busy": "2024-06-30T21:01:22.146412Z",
     "iopub.status.idle": "2024-06-30T21:01:22.149241Z",
     "shell.execute_reply": "2024-06-30T21:01:22.148854Z"
    },
    "papermill": {
     "duration": 0.009869,
     "end_time": "2024-06-30T21:01:22.150082",
     "exception": false,
     "start_time": "2024-06-30T21:01:22.140213",
     "status": "completed"
    },
    "tags": [
     "injected-parameters"
    ]
   },
   "outputs": [],
   "source": [
    "# Parameters\n",
    "adataPATH = \"03_downstream_analysis/08_PatientClassifier/scPoli/results/scPoli_ref_latents_EXTERNAL_2_200_100_run2_0k28gnqw.h5ad\"\n"
   ]
  },
  {
   "cell_type": "raw",
   "id": "bf9880bd-3aef-477b-807d-37e3c5603037",
   "metadata": {
    "execution": {
     "iopub.execute_input": "2024-06-29T08:23:25.403219Z",
     "iopub.status.busy": "2024-06-29T08:23:25.402857Z",
     "iopub.status.idle": "2024-06-29T08:23:25.406428Z",
     "shell.execute_reply": "2024-06-29T08:23:25.406014Z",
     "shell.execute_reply.started": "2024-06-29T08:23:25.403185Z"
    },
    "papermill": {
     "duration": 0.006267,
     "end_time": "2024-06-30T21:01:22.164938",
     "exception": false,
     "start_time": "2024-06-30T21:01:22.158671",
     "status": "completed"
    },
    "tags": [],
    "vscode": {
     "languageId": "raw"
    }
   },
   "source": [
    "adataMAINpath = '03_downstream_analysis/08_PatientClassifier/scPoli/results/scPoli_2_100_20_*.h5ad'\n",
    "\n",
    "adataVALpath = '03_downstream_analysis/08_PatientClassifier/scPoli/results/scPoli_VALIDATION_2_20_20*.h5ad'\n",
    "adataEXCpath = '03_downstream_analysis/08_PatientClassifier/scPoli/results/scPoli_EXCLUDED_2_100_20_run1_pd5nyb4g.h5ad'\n",
    "adataEXTpath = '03_downstream_analysis/08_PatientClassifier/scPoli/results/scPoli_EXTERNAL_2_100_20_run1_pd5nyb4g.h5ad'\n",
    "\n",
    "adataPATH = adataVALpath"
   ]
  },
  {
   "cell_type": "code",
   "execution_count": 2,
   "id": "d3ccb10a-7201-43d0-a593-2b4650ff3451",
   "metadata": {
    "execution": {
     "iopub.execute_input": "2024-06-30T21:01:22.177580Z",
     "iopub.status.busy": "2024-06-30T21:01:22.177262Z",
     "iopub.status.idle": "2024-06-30T21:01:22.180238Z",
     "shell.execute_reply": "2024-06-30T21:01:22.179843Z"
    },
    "papermill": {
     "duration": 0.008929,
     "end_time": "2024-06-30T21:01:22.181036",
     "exception": false,
     "start_time": "2024-06-30T21:01:22.172107",
     "status": "completed"
    },
    "tags": []
   },
   "outputs": [
    {
     "name": "stdout",
     "output_type": "stream",
     "text": [
      "adataPATH = 03_downstream_analysis/08_PatientClassifier/scPoli/results/scPoli_ref_latents_EXTERNAL_2_200_100_run2_0k28gnqw.h5ad\n"
     ]
    }
   ],
   "source": [
    "for v in ['adataPATH']:\n",
    "    if v in locals() or v in globals():\n",
    "        print(f\"{v} = {eval(v)}\")\n",
    "    else:\n",
    "        raise Exception(f\"{v} not specified\")"
   ]
  },
  {
   "cell_type": "code",
   "execution_count": 3,
   "id": "888fb5f4-9ab7-4196-a282-7a7e92a43971",
   "metadata": {
    "execution": {
     "iopub.execute_input": "2024-06-30T21:01:22.191288Z",
     "iopub.status.busy": "2024-06-30T21:01:22.191058Z",
     "iopub.status.idle": "2024-06-30T21:01:23.938687Z",
     "shell.execute_reply": "2024-06-30T21:01:23.938205Z"
    },
    "papermill": {
     "duration": 1.753869,
     "end_time": "2024-06-30T21:01:23.939836",
     "exception": false,
     "start_time": "2024-06-30T21:01:22.185967",
     "status": "completed"
    },
    "tags": []
   },
   "outputs": [],
   "source": [
    "import os\n",
    "import sys\n",
    "from glob import glob\n",
    "\n",
    "import scanpy as sc\n",
    "import pandas as pd\n",
    "\n",
    "from pyprojroot import here\n",
    "\n",
    "sys.path.insert(1, str(here('bin')))\n",
    "# Import custom functions\n",
    "from customPythonFunctions import aggregating_features"
   ]
  },
  {
   "cell_type": "markdown",
   "id": "ba4905ae-4546-4ef4-b57b-950441ab079d",
   "metadata": {
    "papermill": {
     "duration": 0.004703,
     "end_time": "2024-06-30T21:01:23.949800",
     "exception": false,
     "start_time": "2024-06-30T21:01:23.945097",
     "status": "completed"
    },
    "tags": []
   },
   "source": [
    "### Loading data"
   ]
  },
  {
   "cell_type": "code",
   "execution_count": 4,
   "id": "539cbbbb-3503-4f51-bf04-f007f928ebd1",
   "metadata": {
    "execution": {
     "iopub.execute_input": "2024-06-30T21:01:23.960426Z",
     "iopub.status.busy": "2024-06-30T21:01:23.959897Z",
     "iopub.status.idle": "2024-06-30T21:01:23.963658Z",
     "shell.execute_reply": "2024-06-30T21:01:23.963298Z"
    },
    "papermill": {
     "duration": 0.009892,
     "end_time": "2024-06-30T21:01:23.964478",
     "exception": false,
     "start_time": "2024-06-30T21:01:23.954586",
     "status": "completed"
    },
    "tags": []
   },
   "outputs": [],
   "source": [
    "adataPATHlist = glob(str(here(adataPATH)))\n",
    "assert(len(adataPATHlist) == 1)"
   ]
  },
  {
   "cell_type": "code",
   "execution_count": 5,
   "id": "0fcfce0a-896b-4dc0-8e5e-46749205c84f",
   "metadata": {
    "execution": {
     "iopub.execute_input": "2024-06-30T21:01:23.975085Z",
     "iopub.status.busy": "2024-06-30T21:01:23.974671Z",
     "iopub.status.idle": "2024-06-30T21:01:48.928944Z",
     "shell.execute_reply": "2024-06-30T21:01:48.928519Z"
    },
    "papermill": {
     "duration": 24.960324,
     "end_time": "2024-06-30T21:01:48.929861",
     "exception": false,
     "start_time": "2024-06-30T21:01:23.969537",
     "status": "completed"
    },
    "tags": []
   },
   "outputs": [
    {
     "data": {
      "text/plain": [
       "AnnData object with n_obs × n_vars = 4435922 × 200\n",
       "    obs: 'studyID', 'libraryID', 'sampleID', 'chemistry', 'disease', 'sex', 'binned_age', 'Level1', 'Level2'\n",
       "    uns: 'chemistry', 'sampleID'"
      ]
     },
     "execution_count": 5,
     "metadata": {},
     "output_type": "execute_result"
    }
   ],
   "source": [
    "adata = sc.read_h5ad(adataPATHlist[0])\n",
    "adata"
   ]
  },
  {
   "cell_type": "markdown",
   "id": "44e868b3-0771-4225-bd79-a4b179bc672b",
   "metadata": {
    "papermill": {
     "duration": 0.004733,
     "end_time": "2024-06-30T21:01:48.939434",
     "exception": false,
     "start_time": "2024-06-30T21:01:48.934701",
     "status": "completed"
    },
    "tags": []
   },
   "source": [
    "#### Generating PSEUDOBULKs"
   ]
  },
  {
   "cell_type": "markdown",
   "id": "97d09fc5-d05c-471e-87fa-fe58ccbe47ac",
   "metadata": {
    "papermill": {
     "duration": 0.004579,
     "end_time": "2024-06-30T21:01:48.948857",
     "exception": false,
     "start_time": "2024-06-30T21:01:48.944278",
     "status": "completed"
    },
    "tags": []
   },
   "source": [
    "**Aggregating cell latent features**"
   ]
  },
  {
   "cell_type": "code",
   "execution_count": 6,
   "id": "81223976-fcf6-4354-8964-b12d76468636",
   "metadata": {
    "execution": {
     "iopub.execute_input": "2024-06-30T21:01:48.959167Z",
     "iopub.status.busy": "2024-06-30T21:01:48.958727Z",
     "iopub.status.idle": "2024-06-30T21:01:52.386556Z",
     "shell.execute_reply": "2024-06-30T21:01:52.386110Z"
    },
    "papermill": {
     "duration": 3.43396,
     "end_time": "2024-06-30T21:01:52.387418",
     "exception": false,
     "start_time": "2024-06-30T21:01:48.953458",
     "status": "completed"
    },
    "tags": []
   },
   "outputs": [
    {
     "data": {
      "text/plain": [
       "AnnData object with n_obs × n_vars = 11372 × 200\n",
       "    obs: 'sampleID', 'Level1', 'disease', 'n_observation'"
      ]
     },
     "execution_count": 6,
     "metadata": {},
     "output_type": "execute_result"
    }
   ],
   "source": [
    "adataPBcell = aggregating_features(Z = adata.X, \n",
    "                             obsDF = adata.obs[['sampleID','Level1','disease']], \n",
    "                             mode = 'mean', \n",
    "                             obs_names_col=['sampleID','Level1'], \n",
    "                             min_observation=0)\n",
    "adataPBcell"
   ]
  },
  {
   "cell_type": "code",
   "execution_count": null,
   "id": "8495038e-aebd-4003-bd94-c1e49f47249e",
   "metadata": {
    "papermill": {
     "duration": 0.005386,
     "end_time": "2024-06-30T21:01:52.398545",
     "exception": false,
     "start_time": "2024-06-30T21:01:52.393159",
     "status": "completed"
    },
    "tags": []
   },
   "outputs": [],
   "source": []
  },
  {
   "cell_type": "markdown",
   "id": "6d602bad-4793-4aa4-b3d7-d118d413a0fc",
   "metadata": {
    "papermill": {
     "duration": 0.017523,
     "end_time": "2024-06-30T21:01:52.421556",
     "exception": false,
     "start_time": "2024-06-30T21:01:52.404033",
     "status": "completed"
    },
    "tags": []
   },
   "source": [
    "**Extracting sample embedding**"
   ]
  },
  {
   "cell_type": "code",
   "execution_count": 7,
   "id": "e2c14f02",
   "metadata": {
    "execution": {
     "iopub.execute_input": "2024-06-30T21:01:52.433017Z",
     "iopub.status.busy": "2024-06-30T21:01:52.432865Z",
     "iopub.status.idle": "2024-06-30T21:01:52.442668Z",
     "shell.execute_reply": "2024-06-30T21:01:52.442311Z"
    },
    "papermill": {
     "duration": 0.016234,
     "end_time": "2024-06-30T21:01:52.443517",
     "exception": false,
     "start_time": "2024-06-30T21:01:52.427283",
     "status": "completed"
    },
    "tags": []
   },
   "outputs": [
    {
     "data": {
      "text/plain": [
       "AnnData object with n_obs × n_vars = 817 × 100\n",
       "    obs: 'sampleID', 'disease', 'Level1'"
      ]
     },
     "execution_count": 7,
     "metadata": {},
     "output_type": "execute_result"
    }
   ],
   "source": [
    "adataPBsample = adata.uns['sampleID'].copy()\n",
    "adataPBsample.obs['sampleID'] = adataPBsample.obs.index\n",
    "adataPBsample = adataPBsample[adataPBsample.obs['sampleID'].isin(adataPBcell.obs['sampleID'])]\n",
    "\n",
    "adataPBsample.obs = adataPBsample.obs.merge(adataPBcell.obs.groupby('sampleID').agg({'disease':'first'}), left_index=True, right_index=True)\n",
    "adataPBsample.obs['Level1'] = 'sample'\n",
    "adataPBsample"
   ]
  },
  {
   "cell_type": "markdown",
   "id": "2d4fe137-7d68-4e86-a85c-3c1a3d3c4c71",
   "metadata": {
    "papermill": {
     "duration": 0.005125,
     "end_time": "2024-06-30T21:01:52.453783",
     "exception": false,
     "start_time": "2024-06-30T21:01:52.448658",
     "status": "completed"
    },
    "tags": []
   },
   "source": [
    "**Merging cell and patient latent features**"
   ]
  },
  {
   "cell_type": "code",
   "execution_count": 8,
   "id": "a326d2b1",
   "metadata": {
    "execution": {
     "iopub.execute_input": "2024-06-30T21:01:52.464397Z",
     "iopub.status.busy": "2024-06-30T21:01:52.464075Z",
     "iopub.status.idle": "2024-06-30T21:01:52.466441Z",
     "shell.execute_reply": "2024-06-30T21:01:52.466095Z"
    },
    "papermill": {
     "duration": 0.008569,
     "end_time": "2024-06-30T21:01:52.467222",
     "exception": false,
     "start_time": "2024-06-30T21:01:52.458653",
     "status": "completed"
    },
    "tags": []
   },
   "outputs": [],
   "source": [
    "PBcellDF = adataPBcell.to_df()\n",
    "PBcellDF['sampleID'] = adataPBcell.obs['sampleID']"
   ]
  },
  {
   "cell_type": "code",
   "execution_count": 9,
   "id": "1a597f46-d9c5-403b-b81e-5738ca206682",
   "metadata": {
    "execution": {
     "iopub.execute_input": "2024-06-30T21:01:52.478144Z",
     "iopub.status.busy": "2024-06-30T21:01:52.477755Z",
     "iopub.status.idle": "2024-06-30T21:01:52.480154Z",
     "shell.execute_reply": "2024-06-30T21:01:52.479812Z"
    },
    "papermill": {
     "duration": 0.008512,
     "end_time": "2024-06-30T21:01:52.480908",
     "exception": false,
     "start_time": "2024-06-30T21:01:52.472396",
     "status": "completed"
    },
    "tags": []
   },
   "outputs": [],
   "source": [
    "PBsampleDF = adataPBsample.to_df()\n",
    "PBsampleDF['sampleID'] = adataPBsample.obs['sampleID']"
   ]
  },
  {
   "cell_type": "code",
   "execution_count": 10,
   "id": "bb384751-fe1b-4635-a90d-fd98ae61b173",
   "metadata": {
    "execution": {
     "iopub.execute_input": "2024-06-30T21:01:52.491750Z",
     "iopub.status.busy": "2024-06-30T21:01:52.491473Z",
     "iopub.status.idle": "2024-06-30T21:01:52.503107Z",
     "shell.execute_reply": "2024-06-30T21:01:52.502621Z"
    },
    "papermill": {
     "duration": 0.017889,
     "end_time": "2024-06-30T21:01:52.503882",
     "exception": false,
     "start_time": "2024-06-30T21:01:52.485993",
     "status": "completed"
    },
    "tags": []
   },
   "outputs": [],
   "source": [
    "PBcell_sampleDF = PBcellDF.merge(PBsampleDF, on='sampleID', how='left')"
   ]
  },
  {
   "cell_type": "code",
   "execution_count": 11,
   "id": "f7250713-e24d-4614-9cbd-eed702340640",
   "metadata": {
    "execution": {
     "iopub.execute_input": "2024-06-30T21:01:52.515165Z",
     "iopub.status.busy": "2024-06-30T21:01:52.514880Z",
     "iopub.status.idle": "2024-06-30T21:01:52.517438Z",
     "shell.execute_reply": "2024-06-30T21:01:52.517084Z"
    },
    "papermill": {
     "duration": 0.009069,
     "end_time": "2024-06-30T21:01:52.518187",
     "exception": false,
     "start_time": "2024-06-30T21:01:52.509118",
     "status": "completed"
    },
    "tags": []
   },
   "outputs": [],
   "source": [
    "assert(adataPBcell.obs['sampleID'].tolist() == PBcell_sampleDF['sampleID'].tolist())"
   ]
  },
  {
   "cell_type": "code",
   "execution_count": 12,
   "id": "abea2252-6a12-4b89-9f0d-6d6df90064fb",
   "metadata": {
    "execution": {
     "iopub.execute_input": "2024-06-30T21:01:52.528956Z",
     "iopub.status.busy": "2024-06-30T21:01:52.528672Z",
     "iopub.status.idle": "2024-06-30T21:01:52.532772Z",
     "shell.execute_reply": "2024-06-30T21:01:52.532291Z"
    },
    "papermill": {
     "duration": 0.010338,
     "end_time": "2024-06-30T21:01:52.533545",
     "exception": false,
     "start_time": "2024-06-30T21:01:52.523207",
     "status": "completed"
    },
    "tags": []
   },
   "outputs": [],
   "source": [
    "PBcell_sampleDF.drop('sampleID', axis=1, inplace=True)"
   ]
  },
  {
   "cell_type": "code",
   "execution_count": 13,
   "id": "5502e45d-5c72-4440-a8c1-5b299cac6e2d",
   "metadata": {
    "execution": {
     "iopub.execute_input": "2024-06-30T21:01:52.544398Z",
     "iopub.status.busy": "2024-06-30T21:01:52.544091Z",
     "iopub.status.idle": "2024-06-30T21:01:52.548996Z",
     "shell.execute_reply": "2024-06-30T21:01:52.548628Z"
    },
    "papermill": {
     "duration": 0.011113,
     "end_time": "2024-06-30T21:01:52.549772",
     "exception": false,
     "start_time": "2024-06-30T21:01:52.538659",
     "status": "completed"
    },
    "tags": []
   },
   "outputs": [
    {
     "data": {
      "text/plain": [
       "AnnData object with n_obs × n_vars = 11372 × 300\n",
       "    obs: 'sampleID', 'Level1', 'disease', 'n_observation'"
      ]
     },
     "execution_count": 13,
     "metadata": {},
     "output_type": "execute_result"
    }
   ],
   "source": [
    "adataPBcell_sample = sc.AnnData(X = PBcell_sampleDF, obs = adataPBcell.obs)\n",
    "adataPBcell_sample"
   ]
  },
  {
   "cell_type": "markdown",
   "id": "d59574be-684b-4082-b8b6-7d11930362ad",
   "metadata": {
    "papermill": {
     "duration": 0.004981,
     "end_time": "2024-06-30T21:01:52.560012",
     "exception": false,
     "start_time": "2024-06-30T21:01:52.555031",
     "status": "completed"
    },
    "tags": []
   },
   "source": [
    "### Saving pseudobulk adata objects"
   ]
  },
  {
   "cell_type": "code",
   "execution_count": 14,
   "id": "5947e6f8-ac27-4702-ba5d-aa9e1ba79f6a",
   "metadata": {
    "execution": {
     "iopub.execute_input": "2024-06-30T21:01:52.571092Z",
     "iopub.status.busy": "2024-06-30T21:01:52.570778Z",
     "iopub.status.idle": "2024-06-30T21:01:52.917507Z",
     "shell.execute_reply": "2024-06-30T21:01:52.917023Z"
    },
    "papermill": {
     "duration": 0.353388,
     "end_time": "2024-06-30T21:01:52.918597",
     "exception": false,
     "start_time": "2024-06-30T21:01:52.565209",
     "status": "completed"
    },
    "tags": []
   },
   "outputs": [],
   "source": [
    "adataPBcell.write(here(adataPATHlist[0].replace('/scPoli_','/PSEUDOBULKs/scPoli_PSEUDOBULKcell_')), compression='gzip')"
   ]
  },
  {
   "cell_type": "code",
   "execution_count": 15,
   "id": "e9485945-bccf-419a-9420-c1e4f3aa262d",
   "metadata": {
    "execution": {
     "iopub.execute_input": "2024-06-30T21:01:52.930036Z",
     "iopub.status.busy": "2024-06-30T21:01:52.929890Z",
     "iopub.status.idle": "2024-06-30T21:01:52.960052Z",
     "shell.execute_reply": "2024-06-30T21:01:52.959673Z"
    },
    "papermill": {
     "duration": 0.037411,
     "end_time": "2024-06-30T21:01:52.961641",
     "exception": false,
     "start_time": "2024-06-30T21:01:52.924230",
     "status": "completed"
    },
    "tags": []
   },
   "outputs": [],
   "source": [
    "adataPBsample.write(here(adataPATHlist[0].replace('/scPoli_','/PSEUDOBULKs/scPoli_PSEUDOBULKsample_')), compression='gzip')"
   ]
  },
  {
   "cell_type": "code",
   "execution_count": 16,
   "id": "9c2daa40-3279-4b24-8aad-65ee0ba758c8",
   "metadata": {
    "execution": {
     "iopub.execute_input": "2024-06-30T21:01:52.974348Z",
     "iopub.status.busy": "2024-06-30T21:01:52.974073Z",
     "iopub.status.idle": "2024-06-30T21:01:53.359102Z",
     "shell.execute_reply": "2024-06-30T21:01:53.358631Z"
    },
    "papermill": {
     "duration": 0.392426,
     "end_time": "2024-06-30T21:01:53.360351",
     "exception": false,
     "start_time": "2024-06-30T21:01:52.967925",
     "status": "completed"
    },
    "tags": []
   },
   "outputs": [],
   "source": [
    "adataPBcell_sample.write(here(adataPATHlist[0].replace('/scPoli_','/PSEUDOBULKs/scPoli_PSEUDOBULKcellSample_')), compression='gzip')"
   ]
  },
  {
   "cell_type": "code",
   "execution_count": null,
   "id": "8a70d9f6-7a44-45ee-8470-702bd7af1e0b",
   "metadata": {
    "papermill": {
     "duration": 0.00521,
     "end_time": "2024-06-30T21:01:53.371040",
     "exception": false,
     "start_time": "2024-06-30T21:01:53.365830",
     "status": "completed"
    },
    "tags": []
   },
   "outputs": [],
   "source": []
  }
 ],
 "metadata": {
  "kernelspec": {
   "display_name": "Python 3 (ipykernel)",
   "language": "python",
   "name": "python3"
  },
  "language_info": {
   "codemirror_mode": {
    "name": "ipython",
    "version": 3
   },
   "file_extension": ".py",
   "mimetype": "text/x-python",
   "name": "python",
   "nbconvert_exporter": "python",
   "pygments_lexer": "ipython3",
   "version": "3.12.3"
  },
  "papermill": {
   "default_parameters": {},
   "duration": 33.078833,
   "end_time": "2024-06-30T21:01:53.991337",
   "environment_variables": {},
   "exception": null,
   "input_path": "03_generating_PSEUDOBULKs.ipynb",
   "output_path": "executed_notebooks/03_generating_PSEUDOBULKs_scPoli_ref_latents_EXTERNAL_2_200_100_run2_0k28gnqw.h5ad.ipynb",
   "parameters": {
    "adataPATH": "03_downstream_analysis/08_PatientClassifier/scPoli/results/scPoli_ref_latents_EXTERNAL_2_200_100_run2_0k28gnqw.h5ad"
   },
   "start_time": "2024-06-30T21:01:20.912504",
   "version": "2.6.0"
  }
 },
 "nbformat": 4,
 "nbformat_minor": 5
}