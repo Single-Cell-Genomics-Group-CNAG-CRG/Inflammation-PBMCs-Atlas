{
 "cells": [
  {
   "cell_type": "code",
   "execution_count": 1,
   "id": "550d6952",
   "metadata": {
    "execution": {
     "iopub.execute_input": "2024-06-30T20:55:08.906985Z",
     "iopub.status.busy": "2024-06-30T20:55:08.906836Z",
     "iopub.status.idle": "2024-06-30T20:55:08.909432Z",
     "shell.execute_reply": "2024-06-30T20:55:08.909057Z"
    },
    "papermill": {
     "duration": 0.010545,
     "end_time": "2024-06-30T20:55:08.910238",
     "exception": false,
     "start_time": "2024-06-30T20:55:08.899693",
     "status": "completed"
    },
    "tags": [
     "injected-parameters"
    ]
   },
   "outputs": [],
   "source": [
    "# Parameters\n",
    "adataPATH = \"03_downstream_analysis/08_PatientClassifier/scPoli/results/scPoli_VALIDATION_2_200_100_*.h5ad\"\n"
   ]
  },
  {
   "cell_type": "raw",
   "id": "bf9880bd-3aef-477b-807d-37e3c5603037",
   "metadata": {
    "execution": {
     "iopub.execute_input": "2024-06-29T08:23:25.403219Z",
     "iopub.status.busy": "2024-06-29T08:23:25.402857Z",
     "iopub.status.idle": "2024-06-29T08:23:25.406428Z",
     "shell.execute_reply": "2024-06-29T08:23:25.406014Z",
     "shell.execute_reply.started": "2024-06-29T08:23:25.403185Z"
    },
    "papermill": {
     "duration": 0.005032,
     "end_time": "2024-06-30T20:55:08.920450",
     "exception": false,
     "start_time": "2024-06-30T20:55:08.915418",
     "status": "completed"
    },
    "tags": [],
    "vscode": {
     "languageId": "raw"
    }
   },
   "source": [
    "adataMAINpath = '03_downstream_analysis/08_PatientClassifier/scPoli/results/scPoli_2_100_20_*.h5ad'\n",
    "\n",
    "adataVALpath = '03_downstream_analysis/08_PatientClassifier/scPoli/results/scPoli_VALIDATION_2_20_20*.h5ad'\n",
    "adataEXCpath = '03_downstream_analysis/08_PatientClassifier/scPoli/results/scPoli_EXCLUDED_2_100_20_run1_pd5nyb4g.h5ad'\n",
    "adataEXTpath = '03_downstream_analysis/08_PatientClassifier/scPoli/results/scPoli_EXTERNAL_2_100_20_run1_pd5nyb4g.h5ad'\n",
    "\n",
    "adataPATH = adataVALpath"
   ]
  },
  {
   "cell_type": "code",
   "execution_count": 2,
   "id": "d3ccb10a-7201-43d0-a593-2b4650ff3451",
   "metadata": {
    "execution": {
     "iopub.execute_input": "2024-06-30T20:55:08.932553Z",
     "iopub.status.busy": "2024-06-30T20:55:08.932275Z",
     "iopub.status.idle": "2024-06-30T20:55:08.935183Z",
     "shell.execute_reply": "2024-06-30T20:55:08.934809Z"
    },
    "papermill": {
     "duration": 0.009458,
     "end_time": "2024-06-30T20:55:08.935966",
     "exception": false,
     "start_time": "2024-06-30T20:55:08.926508",
     "status": "completed"
    },
    "tags": []
   },
   "outputs": [
    {
     "name": "stdout",
     "output_type": "stream",
     "text": [
      "adataPATH = 03_downstream_analysis/08_PatientClassifier/scPoli/results/scPoli_VALIDATION_2_200_100_*.h5ad\n"
     ]
    }
   ],
   "source": [
    "for v in ['adataPATH']:\n",
    "    if v in locals() or v in globals():\n",
    "        print(f\"{v} = {eval(v)}\")\n",
    "    else:\n",
    "        raise Exception(f\"{v} not specified\")"
   ]
  },
  {
   "cell_type": "code",
   "execution_count": 3,
   "id": "888fb5f4-9ab7-4196-a282-7a7e92a43971",
   "metadata": {
    "execution": {
     "iopub.execute_input": "2024-06-30T20:55:08.947150Z",
     "iopub.status.busy": "2024-06-30T20:55:08.946810Z",
     "iopub.status.idle": "2024-06-30T20:55:10.289218Z",
     "shell.execute_reply": "2024-06-30T20:55:10.288682Z"
    },
    "papermill": {
     "duration": 1.349211,
     "end_time": "2024-06-30T20:55:10.290421",
     "exception": false,
     "start_time": "2024-06-30T20:55:08.941210",
     "status": "completed"
    },
    "tags": []
   },
   "outputs": [],
   "source": [
    "import os\n",
    "import sys\n",
    "from glob import glob\n",
    "\n",
    "import scanpy as sc\n",
    "import pandas as pd\n",
    "\n",
    "from pyprojroot import here\n",
    "\n",
    "sys.path.insert(1, str(here('bin')))\n",
    "# Import custom functions\n",
    "from customPythonFunctions import aggregating_features"
   ]
  },
  {
   "cell_type": "markdown",
   "id": "ba4905ae-4546-4ef4-b57b-950441ab079d",
   "metadata": {
    "papermill": {
     "duration": 0.004888,
     "end_time": "2024-06-30T20:55:10.300729",
     "exception": false,
     "start_time": "2024-06-30T20:55:10.295841",
     "status": "completed"
    },
    "tags": []
   },
   "source": [
    "### Loading data"
   ]
  },
  {
   "cell_type": "code",
   "execution_count": 4,
   "id": "539cbbbb-3503-4f51-bf04-f007f928ebd1",
   "metadata": {
    "execution": {
     "iopub.execute_input": "2024-06-30T20:55:10.312182Z",
     "iopub.status.busy": "2024-06-30T20:55:10.311635Z",
     "iopub.status.idle": "2024-06-30T20:55:10.315649Z",
     "shell.execute_reply": "2024-06-30T20:55:10.315248Z"
    },
    "papermill": {
     "duration": 0.01053,
     "end_time": "2024-06-30T20:55:10.316484",
     "exception": false,
     "start_time": "2024-06-30T20:55:10.305954",
     "status": "completed"
    },
    "tags": []
   },
   "outputs": [],
   "source": [
    "adataPATHlist = glob(str(here(adataPATH)))\n",
    "assert(len(adataPATHlist) == 1)"
   ]
  },
  {
   "cell_type": "code",
   "execution_count": 5,
   "id": "0fcfce0a-896b-4dc0-8e5e-46749205c84f",
   "metadata": {
    "execution": {
     "iopub.execute_input": "2024-06-30T20:55:10.326872Z",
     "iopub.status.busy": "2024-06-30T20:55:10.326565Z",
     "iopub.status.idle": "2024-06-30T20:55:15.083749Z",
     "shell.execute_reply": "2024-06-30T20:55:15.083325Z"
    },
    "papermill": {
     "duration": 4.763284,
     "end_time": "2024-06-30T20:55:15.084564",
     "exception": false,
     "start_time": "2024-06-30T20:55:10.321280",
     "status": "completed"
    },
    "tags": []
   },
   "outputs": [
    {
     "data": {
      "text/plain": [
       "AnnData object with n_obs × n_vars = 849922 × 200\n",
       "    obs: 'studyID', 'libraryID', 'sampleID', 'chemistry', 'technology', 'disease', 'sex', 'binned_age', 'Level1', 'Level2', 'conditions_combined', 'Level1_unc', 'Level2_unc'\n",
       "    uns: 'chemistry', 'sampleID'"
      ]
     },
     "execution_count": 5,
     "metadata": {},
     "output_type": "execute_result"
    }
   ],
   "source": [
    "adata = sc.read_h5ad(adataPATHlist[0])\n",
    "adata"
   ]
  },
  {
   "cell_type": "markdown",
   "id": "44e868b3-0771-4225-bd79-a4b179bc672b",
   "metadata": {
    "papermill": {
     "duration": 0.005484,
     "end_time": "2024-06-30T20:55:15.095799",
     "exception": false,
     "start_time": "2024-06-30T20:55:15.090315",
     "status": "completed"
    },
    "tags": []
   },
   "source": [
    "#### Generating PSEUDOBULKs"
   ]
  },
  {
   "cell_type": "markdown",
   "id": "97d09fc5-d05c-471e-87fa-fe58ccbe47ac",
   "metadata": {
    "papermill": {
     "duration": 0.00566,
     "end_time": "2024-06-30T20:55:15.106625",
     "exception": false,
     "start_time": "2024-06-30T20:55:15.100965",
     "status": "completed"
    },
    "tags": []
   },
   "source": [
    "**Aggregating cell latent features**"
   ]
  },
  {
   "cell_type": "code",
   "execution_count": 6,
   "id": "81223976-fcf6-4354-8964-b12d76468636",
   "metadata": {
    "execution": {
     "iopub.execute_input": "2024-06-30T20:55:15.117549Z",
     "iopub.status.busy": "2024-06-30T20:55:15.117401Z",
     "iopub.status.idle": "2024-06-30T20:55:15.795001Z",
     "shell.execute_reply": "2024-06-30T20:55:15.794566Z"
    },
    "papermill": {
     "duration": 0.683997,
     "end_time": "2024-06-30T20:55:15.795804",
     "exception": false,
     "start_time": "2024-06-30T20:55:15.111807",
     "status": "completed"
    },
    "tags": []
   },
   "outputs": [
    {
     "data": {
      "text/plain": [
       "AnnData object with n_obs × n_vars = 2114 × 200\n",
       "    obs: 'sampleID', 'Level1', 'disease', 'n_observation'"
      ]
     },
     "execution_count": 6,
     "metadata": {},
     "output_type": "execute_result"
    }
   ],
   "source": [
    "adataPBcell = aggregating_features(Z = adata.X, \n",
    "                             obsDF = adata.obs[['sampleID','Level1','disease']], \n",
    "                             mode = 'mean', \n",
    "                             obs_names_col=['sampleID','Level1'], \n",
    "                             min_observation=0)\n",
    "adataPBcell"
   ]
  },
  {
   "cell_type": "code",
   "execution_count": null,
   "id": "8495038e-aebd-4003-bd94-c1e49f47249e",
   "metadata": {
    "papermill": {
     "duration": 0.005118,
     "end_time": "2024-06-30T20:55:15.806584",
     "exception": false,
     "start_time": "2024-06-30T20:55:15.801466",
     "status": "completed"
    },
    "tags": []
   },
   "outputs": [],
   "source": []
  },
  {
   "cell_type": "markdown",
   "id": "6d602bad-4793-4aa4-b3d7-d118d413a0fc",
   "metadata": {
    "papermill": {
     "duration": 0.005118,
     "end_time": "2024-06-30T20:55:15.817705",
     "exception": false,
     "start_time": "2024-06-30T20:55:15.812587",
     "status": "completed"
    },
    "tags": []
   },
   "source": [
    "**Extracting sample embedding**"
   ]
  },
  {
   "cell_type": "code",
   "execution_count": 7,
   "id": "e2c14f02",
   "metadata": {
    "execution": {
     "iopub.execute_input": "2024-06-30T20:55:15.828995Z",
     "iopub.status.busy": "2024-06-30T20:55:15.828844Z",
     "iopub.status.idle": "2024-06-30T20:55:15.837053Z",
     "shell.execute_reply": "2024-06-30T20:55:15.836697Z"
    },
    "papermill": {
     "duration": 0.014668,
     "end_time": "2024-06-30T20:55:15.837846",
     "exception": false,
     "start_time": "2024-06-30T20:55:15.823178",
     "status": "completed"
    },
    "tags": []
   },
   "outputs": [
    {
     "data": {
      "text/plain": [
       "AnnData object with n_obs × n_vars = 144 × 100\n",
       "    obs: 'sampleID', 'disease', 'Level1'"
      ]
     },
     "execution_count": 7,
     "metadata": {},
     "output_type": "execute_result"
    }
   ],
   "source": [
    "adataPBsample = adata.uns['sampleID'].copy()\n",
    "adataPBsample.obs['sampleID'] = adataPBsample.obs.index\n",
    "adataPBsample = adataPBsample[adataPBsample.obs['sampleID'].isin(adataPBcell.obs['sampleID'])]\n",
    "\n",
    "adataPBsample.obs = adataPBsample.obs.merge(adataPBcell.obs.groupby('sampleID').agg({'disease':'first'}), left_index=True, right_index=True)\n",
    "adataPBsample.obs['Level1'] = 'sample'\n",
    "adataPBsample"
   ]
  },
  {
   "cell_type": "markdown",
   "id": "2d4fe137-7d68-4e86-a85c-3c1a3d3c4c71",
   "metadata": {
    "papermill": {
     "duration": 0.005273,
     "end_time": "2024-06-30T20:55:15.848381",
     "exception": false,
     "start_time": "2024-06-30T20:55:15.843108",
     "status": "completed"
    },
    "tags": []
   },
   "source": [
    "**Merging cell and patient latent features**"
   ]
  },
  {
   "cell_type": "code",
   "execution_count": 8,
   "id": "a326d2b1",
   "metadata": {
    "execution": {
     "iopub.execute_input": "2024-06-30T20:55:15.859528Z",
     "iopub.status.busy": "2024-06-30T20:55:15.859168Z",
     "iopub.status.idle": "2024-06-30T20:55:15.861574Z",
     "shell.execute_reply": "2024-06-30T20:55:15.861216Z"
    },
    "papermill": {
     "duration": 0.008761,
     "end_time": "2024-06-30T20:55:15.862328",
     "exception": false,
     "start_time": "2024-06-30T20:55:15.853567",
     "status": "completed"
    },
    "tags": []
   },
   "outputs": [],
   "source": [
    "PBcellDF = adataPBcell.to_df()\n",
    "PBcellDF['sampleID'] = adataPBcell.obs['sampleID']"
   ]
  },
  {
   "cell_type": "code",
   "execution_count": 9,
   "id": "1a597f46-d9c5-403b-b81e-5738ca206682",
   "metadata": {
    "execution": {
     "iopub.execute_input": "2024-06-30T20:55:15.873621Z",
     "iopub.status.busy": "2024-06-30T20:55:15.873202Z",
     "iopub.status.idle": "2024-06-30T20:55:15.875630Z",
     "shell.execute_reply": "2024-06-30T20:55:15.875276Z"
    },
    "papermill": {
     "duration": 0.008832,
     "end_time": "2024-06-30T20:55:15.876374",
     "exception": false,
     "start_time": "2024-06-30T20:55:15.867542",
     "status": "completed"
    },
    "tags": []
   },
   "outputs": [],
   "source": [
    "PBsampleDF = adataPBsample.to_df()\n",
    "PBsampleDF['sampleID'] = adataPBsample.obs['sampleID']"
   ]
  },
  {
   "cell_type": "code",
   "execution_count": 10,
   "id": "bb384751-fe1b-4635-a90d-fd98ae61b173",
   "metadata": {
    "execution": {
     "iopub.execute_input": "2024-06-30T20:55:15.888095Z",
     "iopub.status.busy": "2024-06-30T20:55:15.887836Z",
     "iopub.status.idle": "2024-06-30T20:55:15.893032Z",
     "shell.execute_reply": "2024-06-30T20:55:15.892648Z"
    },
    "papermill": {
     "duration": 0.011693,
     "end_time": "2024-06-30T20:55:15.893791",
     "exception": false,
     "start_time": "2024-06-30T20:55:15.882098",
     "status": "completed"
    },
    "tags": []
   },
   "outputs": [],
   "source": [
    "PBcell_sampleDF = PBcellDF.merge(PBsampleDF, on='sampleID', how='left')"
   ]
  },
  {
   "cell_type": "code",
   "execution_count": 11,
   "id": "f7250713-e24d-4614-9cbd-eed702340640",
   "metadata": {
    "execution": {
     "iopub.execute_input": "2024-06-30T20:55:15.905410Z",
     "iopub.status.busy": "2024-06-30T20:55:15.904973Z",
     "iopub.status.idle": "2024-06-30T20:55:15.907389Z",
     "shell.execute_reply": "2024-06-30T20:55:15.907014Z"
    },
    "papermill": {
     "duration": 0.008893,
     "end_time": "2024-06-30T20:55:15.908177",
     "exception": false,
     "start_time": "2024-06-30T20:55:15.899284",
     "status": "completed"
    },
    "tags": []
   },
   "outputs": [],
   "source": [
    "assert(adataPBcell.obs['sampleID'].tolist() == PBcell_sampleDF['sampleID'].tolist())"
   ]
  },
  {
   "cell_type": "code",
   "execution_count": 12,
   "id": "abea2252-6a12-4b89-9f0d-6d6df90064fb",
   "metadata": {
    "execution": {
     "iopub.execute_input": "2024-06-30T20:55:15.919693Z",
     "iopub.status.busy": "2024-06-30T20:55:15.919414Z",
     "iopub.status.idle": "2024-06-30T20:55:15.921937Z",
     "shell.execute_reply": "2024-06-30T20:55:15.921573Z"
    },
    "papermill": {
     "duration": 0.009027,
     "end_time": "2024-06-30T20:55:15.922690",
     "exception": false,
     "start_time": "2024-06-30T20:55:15.913663",
     "status": "completed"
    },
    "tags": []
   },
   "outputs": [],
   "source": [
    "PBcell_sampleDF.drop('sampleID', axis=1, inplace=True)"
   ]
  },
  {
   "cell_type": "code",
   "execution_count": 13,
   "id": "5502e45d-5c72-4440-a8c1-5b299cac6e2d",
   "metadata": {
    "execution": {
     "iopub.execute_input": "2024-06-30T20:55:15.934798Z",
     "iopub.status.busy": "2024-06-30T20:55:15.934356Z",
     "iopub.status.idle": "2024-06-30T20:55:15.938075Z",
     "shell.execute_reply": "2024-06-30T20:55:15.937717Z"
    },
    "papermill": {
     "duration": 0.010678,
     "end_time": "2024-06-30T20:55:15.938856",
     "exception": false,
     "start_time": "2024-06-30T20:55:15.928178",
     "status": "completed"
    },
    "tags": []
   },
   "outputs": [
    {
     "data": {
      "text/plain": [
       "AnnData object with n_obs × n_vars = 2114 × 300\n",
       "    obs: 'sampleID', 'Level1', 'disease', 'n_observation'"
      ]
     },
     "execution_count": 13,
     "metadata": {},
     "output_type": "execute_result"
    }
   ],
   "source": [
    "adataPBcell_sample = sc.AnnData(X = PBcell_sampleDF, obs = adataPBcell.obs)\n",
    "adataPBcell_sample"
   ]
  },
  {
   "cell_type": "markdown",
   "id": "d59574be-684b-4082-b8b6-7d11930362ad",
   "metadata": {
    "papermill": {
     "duration": 0.005508,
     "end_time": "2024-06-30T20:55:15.949879",
     "exception": false,
     "start_time": "2024-06-30T20:55:15.944371",
     "status": "completed"
    },
    "tags": []
   },
   "source": [
    "### Saving pseudobulk adata objects"
   ]
  },
  {
   "cell_type": "code",
   "execution_count": 14,
   "id": "5947e6f8-ac27-4702-ba5d-aa9e1ba79f6a",
   "metadata": {
    "execution": {
     "iopub.execute_input": "2024-06-30T20:55:15.961740Z",
     "iopub.status.busy": "2024-06-30T20:55:15.961405Z",
     "iopub.status.idle": "2024-06-30T20:55:16.047590Z",
     "shell.execute_reply": "2024-06-30T20:55:16.047119Z"
    },
    "papermill": {
     "duration": 0.093057,
     "end_time": "2024-06-30T20:55:16.048391",
     "exception": false,
     "start_time": "2024-06-30T20:55:15.955334",
     "status": "completed"
    },
    "tags": []
   },
   "outputs": [],
   "source": [
    "adataPBcell.write(here(adataPATHlist[0].replace('/scPoli_','/PSEUDOBULKs/scPoli_PSEUDOBULKcell_')), compression='gzip')"
   ]
  },
  {
   "cell_type": "code",
   "execution_count": 15,
   "id": "e9485945-bccf-419a-9420-c1e4f3aa262d",
   "metadata": {
    "execution": {
     "iopub.execute_input": "2024-06-30T20:55:16.060085Z",
     "iopub.status.busy": "2024-06-30T20:55:16.059803Z",
     "iopub.status.idle": "2024-06-30T20:55:16.082150Z",
     "shell.execute_reply": "2024-06-30T20:55:16.081771Z"
    },
    "papermill": {
     "duration": 0.028943,
     "end_time": "2024-06-30T20:55:16.082991",
     "exception": false,
     "start_time": "2024-06-30T20:55:16.054048",
     "status": "completed"
    },
    "tags": []
   },
   "outputs": [],
   "source": [
    "adataPBsample.write(here(adataPATHlist[0].replace('/scPoli_','/PSEUDOBULKs/scPoli_PSEUDOBULKsample_')), compression='gzip')"
   ]
  },
  {
   "cell_type": "code",
   "execution_count": 16,
   "id": "9c2daa40-3279-4b24-8aad-65ee0ba758c8",
   "metadata": {
    "execution": {
     "iopub.execute_input": "2024-06-30T20:55:16.094847Z",
     "iopub.status.busy": "2024-06-30T20:55:16.094572Z",
     "iopub.status.idle": "2024-06-30T20:55:16.184157Z",
     "shell.execute_reply": "2024-06-30T20:55:16.183701Z"
    },
    "papermill": {
     "duration": 0.09631,
     "end_time": "2024-06-30T20:55:16.184988",
     "exception": false,
     "start_time": "2024-06-30T20:55:16.088678",
     "status": "completed"
    },
    "tags": []
   },
   "outputs": [],
   "source": [
    "adataPBcell_sample.write(here(adataPATHlist[0].replace('/scPoli_','/PSEUDOBULKs/scPoli_PSEUDOBULKcellSample_')), compression='gzip')"
   ]
  },
  {
   "cell_type": "code",
   "execution_count": null,
   "id": "8a70d9f6-7a44-45ee-8470-702bd7af1e0b",
   "metadata": {
    "papermill": {
     "duration": 0.005575,
     "end_time": "2024-06-30T20:55:16.196106",
     "exception": false,
     "start_time": "2024-06-30T20:55:16.190531",
     "status": "completed"
    },
    "tags": []
   },
   "outputs": [],
   "source": []
  }
 ],
 "metadata": {
  "kernelspec": {
   "display_name": "Python 3 (ipykernel)",
   "language": "python",
   "name": "python3"
  },
  "language_info": {
   "codemirror_mode": {
    "name": "ipython",
    "version": 3
   },
   "file_extension": ".py",
   "mimetype": "text/x-python",
   "name": "python",
   "nbconvert_exporter": "python",
   "pygments_lexer": "ipython3",
   "version": "3.12.3"
  },
  "papermill": {
   "default_parameters": {},
   "duration": 8.873128,
   "end_time": "2024-06-30T20:55:16.816750",
   "environment_variables": {},
   "exception": null,
   "input_path": "03_generating_PSEUDOBULKs.ipynb",
   "output_path": "executed_notebooks/03_generating_PSEUDOBULKs_VALIDATION_200nEmb_100nPEmb.ipynb",
   "parameters": {
    "adataPATH": "03_downstream_analysis/08_PatientClassifier/scPoli/results/scPoli_VALIDATION_2_200_100_*.h5ad"
   },
   "start_time": "2024-06-30T20:55:07.943622",
   "version": "2.6.0"
  }
 },
 "nbformat": 4,
 "nbformat_minor": 5
}