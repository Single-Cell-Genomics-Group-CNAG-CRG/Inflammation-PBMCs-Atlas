{
 "cells": [
  {
   "cell_type": "code",
   "execution_count": 1,
   "id": "97d561bc",
   "metadata": {
    "execution": {
     "iopub.execute_input": "2024-06-30T20:54:50.428010Z",
     "iopub.status.busy": "2024-06-30T20:54:50.427865Z",
     "iopub.status.idle": "2024-06-30T20:54:50.430388Z",
     "shell.execute_reply": "2024-06-30T20:54:50.430008Z"
    },
    "papermill": {
     "duration": 0.010705,
     "end_time": "2024-06-30T20:54:50.431195",
     "exception": false,
     "start_time": "2024-06-30T20:54:50.420490",
     "status": "completed"
    },
    "tags": [
     "injected-parameters"
    ]
   },
   "outputs": [],
   "source": [
    "# Parameters\n",
    "adataPATH = \"03_downstream_analysis/08_PatientClassifier/scPoli/results/scPoli_VALIDATION_2_20_20_*.h5ad\"\n"
   ]
  },
  {
   "cell_type": "raw",
   "id": "bf9880bd-3aef-477b-807d-37e3c5603037",
   "metadata": {
    "execution": {
     "iopub.execute_input": "2024-06-29T08:23:25.403219Z",
     "iopub.status.busy": "2024-06-29T08:23:25.402857Z",
     "iopub.status.idle": "2024-06-29T08:23:25.406428Z",
     "shell.execute_reply": "2024-06-29T08:23:25.406014Z",
     "shell.execute_reply.started": "2024-06-29T08:23:25.403185Z"
    },
    "papermill": {
     "duration": 0.004802,
     "end_time": "2024-06-30T20:54:50.441150",
     "exception": false,
     "start_time": "2024-06-30T20:54:50.436348",
     "status": "completed"
    },
    "tags": [],
    "vscode": {
     "languageId": "raw"
    }
   },
   "source": [
    "adataMAINpath = '03_downstream_analysis/08_PatientClassifier/scPoli/results/scPoli_2_100_20_*.h5ad'\n",
    "\n",
    "adataVALpath = '03_downstream_analysis/08_PatientClassifier/scPoli/results/scPoli_VALIDATION_2_20_20*.h5ad'\n",
    "adataEXCpath = '03_downstream_analysis/08_PatientClassifier/scPoli/results/scPoli_EXCLUDED_2_100_20_run1_pd5nyb4g.h5ad'\n",
    "adataEXTpath = '03_downstream_analysis/08_PatientClassifier/scPoli/results/scPoli_EXTERNAL_2_100_20_run1_pd5nyb4g.h5ad'\n",
    "\n",
    "adataPATH = adataVALpath"
   ]
  },
  {
   "cell_type": "code",
   "execution_count": 2,
   "id": "d3ccb10a-7201-43d0-a593-2b4650ff3451",
   "metadata": {
    "execution": {
     "iopub.execute_input": "2024-06-30T20:54:50.450977Z",
     "iopub.status.busy": "2024-06-30T20:54:50.450840Z",
     "iopub.status.idle": "2024-06-30T20:54:50.453715Z",
     "shell.execute_reply": "2024-06-30T20:54:50.453345Z"
    },
    "papermill": {
     "duration": 0.008643,
     "end_time": "2024-06-30T20:54:50.454493",
     "exception": false,
     "start_time": "2024-06-30T20:54:50.445850",
     "status": "completed"
    },
    "tags": []
   },
   "outputs": [
    {
     "name": "stdout",
     "output_type": "stream",
     "text": [
      "adataPATH = 03_downstream_analysis/08_PatientClassifier/scPoli/results/scPoli_VALIDATION_2_20_20_*.h5ad\n"
     ]
    }
   ],
   "source": [
    "for v in ['adataPATH']:\n",
    "    if v in locals() or v in globals():\n",
    "        print(f\"{v} = {eval(v)}\")\n",
    "    else:\n",
    "        raise Exception(f\"{v} not specified\")"
   ]
  },
  {
   "cell_type": "code",
   "execution_count": 3,
   "id": "888fb5f4-9ab7-4196-a282-7a7e92a43971",
   "metadata": {
    "execution": {
     "iopub.execute_input": "2024-06-30T20:54:50.464976Z",
     "iopub.status.busy": "2024-06-30T20:54:50.464516Z",
     "iopub.status.idle": "2024-06-30T20:54:52.546931Z",
     "shell.execute_reply": "2024-06-30T20:54:52.546433Z"
    },
    "papermill": {
     "duration": 2.088829,
     "end_time": "2024-06-30T20:54:52.548101",
     "exception": false,
     "start_time": "2024-06-30T20:54:50.459272",
     "status": "completed"
    },
    "tags": []
   },
   "outputs": [],
   "source": [
    "import os\n",
    "import sys\n",
    "from glob import glob\n",
    "\n",
    "import scanpy as sc\n",
    "import pandas as pd\n",
    "\n",
    "from pyprojroot import here\n",
    "\n",
    "sys.path.insert(1, str(here('bin')))\n",
    "# Import custom functions\n",
    "from customPythonFunctions import aggregating_features"
   ]
  },
  {
   "cell_type": "markdown",
   "id": "ba4905ae-4546-4ef4-b57b-950441ab079d",
   "metadata": {
    "papermill": {
     "duration": 0.004683,
     "end_time": "2024-06-30T20:54:52.557960",
     "exception": false,
     "start_time": "2024-06-30T20:54:52.553277",
     "status": "completed"
    },
    "tags": []
   },
   "source": [
    "### Loading data"
   ]
  },
  {
   "cell_type": "code",
   "execution_count": 4,
   "id": "539cbbbb-3503-4f51-bf04-f007f928ebd1",
   "metadata": {
    "execution": {
     "iopub.execute_input": "2024-06-30T20:54:52.568578Z",
     "iopub.status.busy": "2024-06-30T20:54:52.568268Z",
     "iopub.status.idle": "2024-06-30T20:54:52.572160Z",
     "shell.execute_reply": "2024-06-30T20:54:52.571776Z"
    },
    "papermill": {
     "duration": 0.010228,
     "end_time": "2024-06-30T20:54:52.572992",
     "exception": false,
     "start_time": "2024-06-30T20:54:52.562764",
     "status": "completed"
    },
    "tags": []
   },
   "outputs": [],
   "source": [
    "adataPATHlist = glob(str(here(adataPATH)))\n",
    "assert(len(adataPATHlist) == 1)"
   ]
  },
  {
   "cell_type": "code",
   "execution_count": 5,
   "id": "0fcfce0a-896b-4dc0-8e5e-46749205c84f",
   "metadata": {
    "execution": {
     "iopub.execute_input": "2024-06-30T20:54:52.583173Z",
     "iopub.status.busy": "2024-06-30T20:54:52.582895Z",
     "iopub.status.idle": "2024-06-30T20:54:53.989165Z",
     "shell.execute_reply": "2024-06-30T20:54:53.988740Z"
    },
    "papermill": {
     "duration": 1.412243,
     "end_time": "2024-06-30T20:54:53.989981",
     "exception": false,
     "start_time": "2024-06-30T20:54:52.577738",
     "status": "completed"
    },
    "tags": []
   },
   "outputs": [
    {
     "data": {
      "text/plain": [
       "AnnData object with n_obs × n_vars = 849922 × 20\n",
       "    obs: 'studyID', 'libraryID', 'sampleID', 'chemistry', 'technology', 'disease', 'sex', 'binned_age', 'Level1', 'Level1_unc', 'Level2', 'Level2_unc'\n",
       "    uns: 'chemistry', 'sampleID'"
      ]
     },
     "execution_count": 5,
     "metadata": {},
     "output_type": "execute_result"
    }
   ],
   "source": [
    "adata = sc.read_h5ad(adataPATHlist[0])\n",
    "adata"
   ]
  },
  {
   "cell_type": "markdown",
   "id": "44e868b3-0771-4225-bd79-a4b179bc672b",
   "metadata": {
    "papermill": {
     "duration": 0.004828,
     "end_time": "2024-06-30T20:54:54.000452",
     "exception": false,
     "start_time": "2024-06-30T20:54:53.995624",
     "status": "completed"
    },
    "tags": []
   },
   "source": [
    "#### Generating PSEUDOBULKs"
   ]
  },
  {
   "cell_type": "markdown",
   "id": "97d09fc5-d05c-471e-87fa-fe58ccbe47ac",
   "metadata": {
    "papermill": {
     "duration": 0.004517,
     "end_time": "2024-06-30T20:54:54.009764",
     "exception": false,
     "start_time": "2024-06-30T20:54:54.005247",
     "status": "completed"
    },
    "tags": []
   },
   "source": [
    "**Aggregating cell latent features**"
   ]
  },
  {
   "cell_type": "code",
   "execution_count": 6,
   "id": "81223976-fcf6-4354-8964-b12d76468636",
   "metadata": {
    "execution": {
     "iopub.execute_input": "2024-06-30T20:54:54.020280Z",
     "iopub.status.busy": "2024-06-30T20:54:54.019904Z",
     "iopub.status.idle": "2024-06-30T20:54:54.361367Z",
     "shell.execute_reply": "2024-06-30T20:54:54.360923Z"
    },
    "papermill": {
     "duration": 0.347987,
     "end_time": "2024-06-30T20:54:54.362401",
     "exception": false,
     "start_time": "2024-06-30T20:54:54.014414",
     "status": "completed"
    },
    "tags": []
   },
   "outputs": [
    {
     "data": {
      "text/plain": [
       "AnnData object with n_obs × n_vars = 2111 × 20\n",
       "    obs: 'sampleID', 'Level1', 'disease', 'n_observation'"
      ]
     },
     "execution_count": 6,
     "metadata": {},
     "output_type": "execute_result"
    }
   ],
   "source": [
    "adataPBcell = aggregating_features(Z = adata.X, \n",
    "                             obsDF = adata.obs[['sampleID','Level1','disease']], \n",
    "                             mode = 'mean', \n",
    "                             obs_names_col=['sampleID','Level1'], \n",
    "                             min_observation=0)\n",
    "adataPBcell"
   ]
  },
  {
   "cell_type": "code",
   "execution_count": null,
   "id": "8495038e-aebd-4003-bd94-c1e49f47249e",
   "metadata": {
    "papermill": {
     "duration": 0.005047,
     "end_time": "2024-06-30T20:54:54.374199",
     "exception": false,
     "start_time": "2024-06-30T20:54:54.369152",
     "status": "completed"
    },
    "tags": []
   },
   "outputs": [],
   "source": []
  },
  {
   "cell_type": "markdown",
   "id": "6d602bad-4793-4aa4-b3d7-d118d413a0fc",
   "metadata": {
    "papermill": {
     "duration": 0.004739,
     "end_time": "2024-06-30T20:54:54.384342",
     "exception": false,
     "start_time": "2024-06-30T20:54:54.379603",
     "status": "completed"
    },
    "tags": []
   },
   "source": [
    "**Extracting sample embedding**"
   ]
  },
  {
   "cell_type": "code",
   "execution_count": 7,
   "id": "e2c14f02",
   "metadata": {
    "execution": {
     "iopub.execute_input": "2024-06-30T20:54:54.395216Z",
     "iopub.status.busy": "2024-06-30T20:54:54.394838Z",
     "iopub.status.idle": "2024-06-30T20:54:54.403626Z",
     "shell.execute_reply": "2024-06-30T20:54:54.403187Z"
    },
    "papermill": {
     "duration": 0.015255,
     "end_time": "2024-06-30T20:54:54.404456",
     "exception": false,
     "start_time": "2024-06-30T20:54:54.389201",
     "status": "completed"
    },
    "tags": []
   },
   "outputs": [
    {
     "data": {
      "text/plain": [
       "AnnData object with n_obs × n_vars = 144 × 20\n",
       "    obs: 'sampleID', 'disease', 'Level1'"
      ]
     },
     "execution_count": 7,
     "metadata": {},
     "output_type": "execute_result"
    }
   ],
   "source": [
    "adataPBsample = adata.uns['sampleID'].copy()\n",
    "adataPBsample.obs['sampleID'] = adataPBsample.obs.index\n",
    "adataPBsample = adataPBsample[adataPBsample.obs['sampleID'].isin(adataPBcell.obs['sampleID'])]\n",
    "\n",
    "adataPBsample.obs = adataPBsample.obs.merge(adataPBcell.obs.groupby('sampleID').agg({'disease':'first'}), left_index=True, right_index=True)\n",
    "adataPBsample.obs['Level1'] = 'sample'\n",
    "adataPBsample"
   ]
  },
  {
   "cell_type": "markdown",
   "id": "2d4fe137-7d68-4e86-a85c-3c1a3d3c4c71",
   "metadata": {
    "papermill": {
     "duration": 0.004938,
     "end_time": "2024-06-30T20:54:54.414354",
     "exception": false,
     "start_time": "2024-06-30T20:54:54.409416",
     "status": "completed"
    },
    "tags": []
   },
   "source": [
    "**Merging cell and patient latent features**"
   ]
  },
  {
   "cell_type": "code",
   "execution_count": 8,
   "id": "a326d2b1",
   "metadata": {
    "execution": {
     "iopub.execute_input": "2024-06-30T20:54:54.425463Z",
     "iopub.status.busy": "2024-06-30T20:54:54.425003Z",
     "iopub.status.idle": "2024-06-30T20:54:54.428019Z",
     "shell.execute_reply": "2024-06-30T20:54:54.427615Z"
    },
    "papermill": {
     "duration": 0.00947,
     "end_time": "2024-06-30T20:54:54.428921",
     "exception": false,
     "start_time": "2024-06-30T20:54:54.419451",
     "status": "completed"
    },
    "tags": []
   },
   "outputs": [],
   "source": [
    "PBcellDF = adataPBcell.to_df()\n",
    "PBcellDF['sampleID'] = adataPBcell.obs['sampleID']"
   ]
  },
  {
   "cell_type": "code",
   "execution_count": 9,
   "id": "1a597f46-d9c5-403b-b81e-5738ca206682",
   "metadata": {
    "execution": {
     "iopub.execute_input": "2024-06-30T20:54:54.440066Z",
     "iopub.status.busy": "2024-06-30T20:54:54.439615Z",
     "iopub.status.idle": "2024-06-30T20:54:54.442341Z",
     "shell.execute_reply": "2024-06-30T20:54:54.441948Z"
    },
    "papermill": {
     "duration": 0.009301,
     "end_time": "2024-06-30T20:54:54.443123",
     "exception": false,
     "start_time": "2024-06-30T20:54:54.433822",
     "status": "completed"
    },
    "tags": []
   },
   "outputs": [],
   "source": [
    "PBsampleDF = adataPBsample.to_df()\n",
    "PBsampleDF['sampleID'] = adataPBsample.obs['sampleID']"
   ]
  },
  {
   "cell_type": "code",
   "execution_count": 10,
   "id": "bb384751-fe1b-4635-a90d-fd98ae61b173",
   "metadata": {
    "execution": {
     "iopub.execute_input": "2024-06-30T20:54:54.454412Z",
     "iopub.status.busy": "2024-06-30T20:54:54.453942Z",
     "iopub.status.idle": "2024-06-30T20:54:54.458783Z",
     "shell.execute_reply": "2024-06-30T20:54:54.458389Z"
    },
    "papermill": {
     "duration": 0.011314,
     "end_time": "2024-06-30T20:54:54.459609",
     "exception": false,
     "start_time": "2024-06-30T20:54:54.448295",
     "status": "completed"
    },
    "tags": []
   },
   "outputs": [],
   "source": [
    "PBcell_sampleDF = PBcellDF.merge(PBsampleDF, on='sampleID', how='left')"
   ]
  },
  {
   "cell_type": "code",
   "execution_count": 11,
   "id": "f7250713-e24d-4614-9cbd-eed702340640",
   "metadata": {
    "execution": {
     "iopub.execute_input": "2024-06-30T20:54:54.470337Z",
     "iopub.status.busy": "2024-06-30T20:54:54.469965Z",
     "iopub.status.idle": "2024-06-30T20:54:54.472323Z",
     "shell.execute_reply": "2024-06-30T20:54:54.471950Z"
    },
    "papermill": {
     "duration": 0.008623,
     "end_time": "2024-06-30T20:54:54.473089",
     "exception": false,
     "start_time": "2024-06-30T20:54:54.464466",
     "status": "completed"
    },
    "tags": []
   },
   "outputs": [],
   "source": [
    "assert(adataPBcell.obs['sampleID'].tolist() == PBcell_sampleDF['sampleID'].tolist())"
   ]
  },
  {
   "cell_type": "code",
   "execution_count": 12,
   "id": "abea2252-6a12-4b89-9f0d-6d6df90064fb",
   "metadata": {
    "execution": {
     "iopub.execute_input": "2024-06-30T20:54:54.483802Z",
     "iopub.status.busy": "2024-06-30T20:54:54.483538Z",
     "iopub.status.idle": "2024-06-30T20:54:54.486014Z",
     "shell.execute_reply": "2024-06-30T20:54:54.485639Z"
    },
    "papermill": {
     "duration": 0.008677,
     "end_time": "2024-06-30T20:54:54.486819",
     "exception": false,
     "start_time": "2024-06-30T20:54:54.478142",
     "status": "completed"
    },
    "tags": []
   },
   "outputs": [],
   "source": [
    "PBcell_sampleDF.drop('sampleID', axis=1, inplace=True)"
   ]
  },
  {
   "cell_type": "code",
   "execution_count": 13,
   "id": "5502e45d-5c72-4440-a8c1-5b299cac6e2d",
   "metadata": {
    "execution": {
     "iopub.execute_input": "2024-06-30T20:54:54.497393Z",
     "iopub.status.busy": "2024-06-30T20:54:54.496998Z",
     "iopub.status.idle": "2024-06-30T20:54:54.500756Z",
     "shell.execute_reply": "2024-06-30T20:54:54.500400Z"
    },
    "papermill": {
     "duration": 0.009764,
     "end_time": "2024-06-30T20:54:54.501541",
     "exception": false,
     "start_time": "2024-06-30T20:54:54.491777",
     "status": "completed"
    },
    "tags": []
   },
   "outputs": [
    {
     "data": {
      "text/plain": [
       "AnnData object with n_obs × n_vars = 2111 × 40\n",
       "    obs: 'sampleID', 'Level1', 'disease', 'n_observation'"
      ]
     },
     "execution_count": 13,
     "metadata": {},
     "output_type": "execute_result"
    }
   ],
   "source": [
    "adataPBcell_sample = sc.AnnData(X = PBcell_sampleDF, obs = adataPBcell.obs)\n",
    "adataPBcell_sample"
   ]
  },
  {
   "cell_type": "markdown",
   "id": "d59574be-684b-4082-b8b6-7d11930362ad",
   "metadata": {
    "papermill": {
     "duration": 0.004966,
     "end_time": "2024-06-30T20:54:54.511707",
     "exception": false,
     "start_time": "2024-06-30T20:54:54.506741",
     "status": "completed"
    },
    "tags": []
   },
   "source": [
    "### Saving pseudobulk adata objects"
   ]
  },
  {
   "cell_type": "code",
   "execution_count": 14,
   "id": "5947e6f8-ac27-4702-ba5d-aa9e1ba79f6a",
   "metadata": {
    "execution": {
     "iopub.execute_input": "2024-06-30T20:54:54.522631Z",
     "iopub.status.busy": "2024-06-30T20:54:54.522312Z",
     "iopub.status.idle": "2024-06-30T20:54:54.555677Z",
     "shell.execute_reply": "2024-06-30T20:54:54.555213Z"
    },
    "papermill": {
     "duration": 0.039776,
     "end_time": "2024-06-30T20:54:54.556524",
     "exception": false,
     "start_time": "2024-06-30T20:54:54.516748",
     "status": "completed"
    },
    "tags": []
   },
   "outputs": [],
   "source": [
    "adataPBcell.write(here(adataPATHlist[0].replace('/scPoli_','/PSEUDOBULKs/scPoli_PSEUDOBULKcell_')), compression='gzip')"
   ]
  },
  {
   "cell_type": "code",
   "execution_count": 15,
   "id": "e9485945-bccf-419a-9420-c1e4f3aa262d",
   "metadata": {
    "execution": {
     "iopub.execute_input": "2024-06-30T20:54:54.567886Z",
     "iopub.status.busy": "2024-06-30T20:54:54.567556Z",
     "iopub.status.idle": "2024-06-30T20:54:54.589690Z",
     "shell.execute_reply": "2024-06-30T20:54:54.589249Z"
    },
    "papermill": {
     "duration": 0.028603,
     "end_time": "2024-06-30T20:54:54.590529",
     "exception": false,
     "start_time": "2024-06-30T20:54:54.561926",
     "status": "completed"
    },
    "tags": []
   },
   "outputs": [],
   "source": [
    "adataPBsample.write(here(adataPATHlist[0].replace('/scPoli_','/PSEUDOBULKs/scPoli_PSEUDOBULKsample_')), compression='gzip')"
   ]
  },
  {
   "cell_type": "code",
   "execution_count": 16,
   "id": "9c2daa40-3279-4b24-8aad-65ee0ba758c8",
   "metadata": {
    "execution": {
     "iopub.execute_input": "2024-06-30T20:54:54.601893Z",
     "iopub.status.busy": "2024-06-30T20:54:54.601613Z",
     "iopub.status.idle": "2024-06-30T20:54:54.634479Z",
     "shell.execute_reply": "2024-06-30T20:54:54.633984Z"
    },
    "papermill": {
     "duration": 0.039449,
     "end_time": "2024-06-30T20:54:54.635335",
     "exception": false,
     "start_time": "2024-06-30T20:54:54.595886",
     "status": "completed"
    },
    "tags": []
   },
   "outputs": [],
   "source": [
    "adataPBcell_sample.write(here(adataPATHlist[0].replace('/scPoli_','/PSEUDOBULKs/scPoli_PSEUDOBULKcellSample_')), compression='gzip')"
   ]
  },
  {
   "cell_type": "code",
   "execution_count": null,
   "id": "8a70d9f6-7a44-45ee-8470-702bd7af1e0b",
   "metadata": {
    "papermill": {
     "duration": 0.00508,
     "end_time": "2024-06-30T20:54:54.645557",
     "exception": false,
     "start_time": "2024-06-30T20:54:54.640477",
     "status": "completed"
    },
    "tags": []
   },
   "outputs": [],
   "source": []
  }
 ],
 "metadata": {
  "kernelspec": {
   "display_name": "Python 3 (ipykernel)",
   "language": "python",
   "name": "python3"
  },
  "language_info": {
   "codemirror_mode": {
    "name": "ipython",
    "version": 3
   },
   "file_extension": ".py",
   "mimetype": "text/x-python",
   "name": "python",
   "nbconvert_exporter": "python",
   "pygments_lexer": "ipython3",
   "version": "3.12.3"
  },
  "papermill": {
   "default_parameters": {},
   "duration": 6.087893,
   "end_time": "2024-06-30T20:54:55.265639",
   "environment_variables": {},
   "exception": null,
   "input_path": "03_generating_PSEUDOBULKs.ipynb",
   "output_path": "executed_notebooks/03_generating_PSEUDOBULKs_VALIDATION_20nEmb_20nPEmb.ipynb",
   "parameters": {
    "adataPATH": "03_downstream_analysis/08_PatientClassifier/scPoli/results/scPoli_VALIDATION_2_20_20_*.h5ad"
   },
   "start_time": "2024-06-30T20:54:49.177746",
   "version": "2.6.0"
  }
 },
 "nbformat": 4,
 "nbformat_minor": 5
}