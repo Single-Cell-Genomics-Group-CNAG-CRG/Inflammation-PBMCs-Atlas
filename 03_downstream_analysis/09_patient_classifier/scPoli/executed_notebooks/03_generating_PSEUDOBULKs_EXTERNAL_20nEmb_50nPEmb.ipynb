{
 "cells": [
  {
   "cell_type": "code",
   "execution_count": 1,
   "id": "8cf405c5",
   "metadata": {
    "execution": {
     "iopub.execute_input": "2024-06-30T20:55:40.852852Z",
     "iopub.status.busy": "2024-06-30T20:55:40.852492Z",
     "iopub.status.idle": "2024-06-30T20:55:40.854983Z",
     "shell.execute_reply": "2024-06-30T20:55:40.854622Z"
    },
    "papermill": {
     "duration": 0.014342,
     "end_time": "2024-06-30T20:55:40.855818",
     "exception": false,
     "start_time": "2024-06-30T20:55:40.841476",
     "status": "completed"
    },
    "tags": [
     "injected-parameters"
    ]
   },
   "outputs": [],
   "source": [
    "# Parameters\n",
    "adataPATH = \"03_downstream_analysis/08_PatientClassifier/scPoli/results/scPoli_EXTERNAL_2_20_50_*.h5ad\"\n"
   ]
  },
  {
   "cell_type": "raw",
   "id": "bf9880bd-3aef-477b-807d-37e3c5603037",
   "metadata": {
    "execution": {
     "iopub.execute_input": "2024-06-29T08:23:25.403219Z",
     "iopub.status.busy": "2024-06-29T08:23:25.402857Z",
     "iopub.status.idle": "2024-06-29T08:23:25.406428Z",
     "shell.execute_reply": "2024-06-29T08:23:25.406014Z",
     "shell.execute_reply.started": "2024-06-29T08:23:25.403185Z"
    },
    "papermill": {
     "duration": 0.004986,
     "end_time": "2024-06-30T20:55:40.865773",
     "exception": false,
     "start_time": "2024-06-30T20:55:40.860787",
     "status": "completed"
    },
    "tags": [],
    "vscode": {
     "languageId": "raw"
    }
   },
   "source": [
    "adataMAINpath = '03_downstream_analysis/08_PatientClassifier/scPoli/results/scPoli_2_100_20_*.h5ad'\n",
    "\n",
    "adataVALpath = '03_downstream_analysis/08_PatientClassifier/scPoli/results/scPoli_VALIDATION_2_20_20*.h5ad'\n",
    "adataEXCpath = '03_downstream_analysis/08_PatientClassifier/scPoli/results/scPoli_EXCLUDED_2_100_20_run1_pd5nyb4g.h5ad'\n",
    "adataEXTpath = '03_downstream_analysis/08_PatientClassifier/scPoli/results/scPoli_EXTERNAL_2_100_20_run1_pd5nyb4g.h5ad'\n",
    "\n",
    "adataPATH = adataVALpath"
   ]
  },
  {
   "cell_type": "code",
   "execution_count": 2,
   "id": "d3ccb10a-7201-43d0-a593-2b4650ff3451",
   "metadata": {
    "execution": {
     "iopub.execute_input": "2024-06-30T20:55:40.875929Z",
     "iopub.status.busy": "2024-06-30T20:55:40.875448Z",
     "iopub.status.idle": "2024-06-30T20:55:40.878597Z",
     "shell.execute_reply": "2024-06-30T20:55:40.878228Z"
    },
    "papermill": {
     "duration": 0.009052,
     "end_time": "2024-06-30T20:55:40.879379",
     "exception": false,
     "start_time": "2024-06-30T20:55:40.870327",
     "status": "completed"
    },
    "tags": []
   },
   "outputs": [
    {
     "name": "stdout",
     "output_type": "stream",
     "text": [
      "adataPATH = 03_downstream_analysis/08_PatientClassifier/scPoli/results/scPoli_EXTERNAL_2_20_50_*.h5ad\n"
     ]
    }
   ],
   "source": [
    "for v in ['adataPATH']:\n",
    "    if v in locals() or v in globals():\n",
    "        print(f\"{v} = {eval(v)}\")\n",
    "    else:\n",
    "        raise Exception(f\"{v} not specified\")"
   ]
  },
  {
   "cell_type": "code",
   "execution_count": 3,
   "id": "888fb5f4-9ab7-4196-a282-7a7e92a43971",
   "metadata": {
    "execution": {
     "iopub.execute_input": "2024-06-30T20:55:40.889248Z",
     "iopub.status.busy": "2024-06-30T20:55:40.888847Z",
     "iopub.status.idle": "2024-06-30T20:55:42.296366Z",
     "shell.execute_reply": "2024-06-30T20:55:42.295877Z"
    },
    "papermill": {
     "duration": 1.413472,
     "end_time": "2024-06-30T20:55:42.297246",
     "exception": false,
     "start_time": "2024-06-30T20:55:40.883774",
     "status": "completed"
    },
    "tags": []
   },
   "outputs": [],
   "source": [
    "import os\n",
    "import sys\n",
    "from glob import glob\n",
    "\n",
    "import scanpy as sc\n",
    "import pandas as pd\n",
    "\n",
    "from pyprojroot import here\n",
    "\n",
    "sys.path.insert(1, str(here('bin')))\n",
    "# Import custom functions\n",
    "from customPythonFunctions import aggregating_features"
   ]
  },
  {
   "cell_type": "markdown",
   "id": "ba4905ae-4546-4ef4-b57b-950441ab079d",
   "metadata": {
    "papermill": {
     "duration": 0.004821,
     "end_time": "2024-06-30T20:55:42.307108",
     "exception": false,
     "start_time": "2024-06-30T20:55:42.302287",
     "status": "completed"
    },
    "tags": []
   },
   "source": [
    "### Loading data"
   ]
  },
  {
   "cell_type": "code",
   "execution_count": 4,
   "id": "539cbbbb-3503-4f51-bf04-f007f928ebd1",
   "metadata": {
    "execution": {
     "iopub.execute_input": "2024-06-30T20:55:42.317935Z",
     "iopub.status.busy": "2024-06-30T20:55:42.317653Z",
     "iopub.status.idle": "2024-06-30T20:55:42.321496Z",
     "shell.execute_reply": "2024-06-30T20:55:42.321110Z"
    },
    "papermill": {
     "duration": 0.00992,
     "end_time": "2024-06-30T20:55:42.322261",
     "exception": false,
     "start_time": "2024-06-30T20:55:42.312341",
     "status": "completed"
    },
    "tags": []
   },
   "outputs": [],
   "source": [
    "adataPATHlist = glob(str(here(adataPATH)))\n",
    "assert(len(adataPATHlist) == 1)"
   ]
  },
  {
   "cell_type": "code",
   "execution_count": 5,
   "id": "0fcfce0a-896b-4dc0-8e5e-46749205c84f",
   "metadata": {
    "execution": {
     "iopub.execute_input": "2024-06-30T20:55:42.332068Z",
     "iopub.status.busy": "2024-06-30T20:55:42.331780Z",
     "iopub.status.idle": "2024-06-30T20:55:43.352786Z",
     "shell.execute_reply": "2024-06-30T20:55:43.352353Z"
    },
    "papermill": {
     "duration": 1.026825,
     "end_time": "2024-06-30T20:55:43.353592",
     "exception": false,
     "start_time": "2024-06-30T20:55:42.326767",
     "status": "completed"
    },
    "tags": []
   },
   "outputs": [
    {
     "data": {
      "text/plain": [
       "AnnData object with n_obs × n_vars = 572872 × 20\n",
       "    obs: 'studyID', 'libraryID', 'sampleID', 'chemistry', 'technology', 'disease', 'sex', 'binned_age', 'Level1', 'Level2', 'conditions_combined', 'Level1_unc', 'Level2_unc'\n",
       "    uns: 'chemistry', 'sampleID'"
      ]
     },
     "execution_count": 5,
     "metadata": {},
     "output_type": "execute_result"
    }
   ],
   "source": [
    "adata = sc.read_h5ad(adataPATHlist[0])\n",
    "adata"
   ]
  },
  {
   "cell_type": "markdown",
   "id": "44e868b3-0771-4225-bd79-a4b179bc672b",
   "metadata": {
    "papermill": {
     "duration": 0.009013,
     "end_time": "2024-06-30T20:55:43.367787",
     "exception": false,
     "start_time": "2024-06-30T20:55:43.358774",
     "status": "completed"
    },
    "tags": []
   },
   "source": [
    "#### Generating PSEUDOBULKs"
   ]
  },
  {
   "cell_type": "markdown",
   "id": "97d09fc5-d05c-471e-87fa-fe58ccbe47ac",
   "metadata": {
    "papermill": {
     "duration": 0.004658,
     "end_time": "2024-06-30T20:55:43.377283",
     "exception": false,
     "start_time": "2024-06-30T20:55:43.372625",
     "status": "completed"
    },
    "tags": []
   },
   "source": [
    "**Aggregating cell latent features**"
   ]
  },
  {
   "cell_type": "code",
   "execution_count": 6,
   "id": "81223976-fcf6-4354-8964-b12d76468636",
   "metadata": {
    "execution": {
     "iopub.execute_input": "2024-06-30T20:55:43.387796Z",
     "iopub.status.busy": "2024-06-30T20:55:43.387644Z",
     "iopub.status.idle": "2024-06-30T20:55:43.618219Z",
     "shell.execute_reply": "2024-06-30T20:55:43.617775Z"
    },
    "papermill": {
     "duration": 0.236744,
     "end_time": "2024-06-30T20:55:43.619019",
     "exception": false,
     "start_time": "2024-06-30T20:55:43.382275",
     "status": "completed"
    },
    "tags": []
   },
   "outputs": [
    {
     "data": {
      "text/plain": [
       "AnnData object with n_obs × n_vars = 1270 × 20\n",
       "    obs: 'sampleID', 'Level1', 'disease', 'n_observation'"
      ]
     },
     "execution_count": 6,
     "metadata": {},
     "output_type": "execute_result"
    }
   ],
   "source": [
    "adataPBcell = aggregating_features(Z = adata.X, \n",
    "                             obsDF = adata.obs[['sampleID','Level1','disease']], \n",
    "                             mode = 'mean', \n",
    "                             obs_names_col=['sampleID','Level1'], \n",
    "                             min_observation=0)\n",
    "adataPBcell"
   ]
  },
  {
   "cell_type": "code",
   "execution_count": null,
   "id": "8495038e-aebd-4003-bd94-c1e49f47249e",
   "metadata": {
    "papermill": {
     "duration": 0.005046,
     "end_time": "2024-06-30T20:55:43.629208",
     "exception": false,
     "start_time": "2024-06-30T20:55:43.624162",
     "status": "completed"
    },
    "tags": []
   },
   "outputs": [],
   "source": []
  },
  {
   "cell_type": "markdown",
   "id": "6d602bad-4793-4aa4-b3d7-d118d413a0fc",
   "metadata": {
    "papermill": {
     "duration": 0.004631,
     "end_time": "2024-06-30T20:55:43.639140",
     "exception": false,
     "start_time": "2024-06-30T20:55:43.634509",
     "status": "completed"
    },
    "tags": []
   },
   "source": [
    "**Extracting sample embedding**"
   ]
  },
  {
   "cell_type": "code",
   "execution_count": 7,
   "id": "e2c14f02",
   "metadata": {
    "execution": {
     "iopub.execute_input": "2024-06-30T20:55:43.649353Z",
     "iopub.status.busy": "2024-06-30T20:55:43.649033Z",
     "iopub.status.idle": "2024-06-30T20:55:43.656975Z",
     "shell.execute_reply": "2024-06-30T20:55:43.656616Z"
    },
    "papermill": {
     "duration": 0.014029,
     "end_time": "2024-06-30T20:55:43.657756",
     "exception": false,
     "start_time": "2024-06-30T20:55:43.643727",
     "status": "completed"
    },
    "tags": []
   },
   "outputs": [
    {
     "data": {
      "text/plain": [
       "AnnData object with n_obs × n_vars = 86 × 50\n",
       "    obs: 'sampleID', 'disease', 'Level1'"
      ]
     },
     "execution_count": 7,
     "metadata": {},
     "output_type": "execute_result"
    }
   ],
   "source": [
    "adataPBsample = adata.uns['sampleID'].copy()\n",
    "adataPBsample.obs['sampleID'] = adataPBsample.obs.index\n",
    "adataPBsample = adataPBsample[adataPBsample.obs['sampleID'].isin(adataPBcell.obs['sampleID'])]\n",
    "\n",
    "adataPBsample.obs = adataPBsample.obs.merge(adataPBcell.obs.groupby('sampleID').agg({'disease':'first'}), left_index=True, right_index=True)\n",
    "adataPBsample.obs['Level1'] = 'sample'\n",
    "adataPBsample"
   ]
  },
  {
   "cell_type": "markdown",
   "id": "2d4fe137-7d68-4e86-a85c-3c1a3d3c4c71",
   "metadata": {
    "papermill": {
     "duration": 0.005048,
     "end_time": "2024-06-30T20:55:43.667811",
     "exception": false,
     "start_time": "2024-06-30T20:55:43.662763",
     "status": "completed"
    },
    "tags": []
   },
   "source": [
    "**Merging cell and patient latent features**"
   ]
  },
  {
   "cell_type": "code",
   "execution_count": 8,
   "id": "a326d2b1",
   "metadata": {
    "execution": {
     "iopub.execute_input": "2024-06-30T20:55:43.683836Z",
     "iopub.status.busy": "2024-06-30T20:55:43.683697Z",
     "iopub.status.idle": "2024-06-30T20:55:43.686078Z",
     "shell.execute_reply": "2024-06-30T20:55:43.685712Z"
    },
    "papermill": {
     "duration": 0.014188,
     "end_time": "2024-06-30T20:55:43.686823",
     "exception": false,
     "start_time": "2024-06-30T20:55:43.672635",
     "status": "completed"
    },
    "tags": []
   },
   "outputs": [],
   "source": [
    "PBcellDF = adataPBcell.to_df()\n",
    "PBcellDF['sampleID'] = adataPBcell.obs['sampleID']"
   ]
  },
  {
   "cell_type": "code",
   "execution_count": 9,
   "id": "1a597f46-d9c5-403b-b81e-5738ca206682",
   "metadata": {
    "execution": {
     "iopub.execute_input": "2024-06-30T20:55:43.697467Z",
     "iopub.status.busy": "2024-06-30T20:55:43.697331Z",
     "iopub.status.idle": "2024-06-30T20:55:43.699752Z",
     "shell.execute_reply": "2024-06-30T20:55:43.699390Z"
    },
    "papermill": {
     "duration": 0.008846,
     "end_time": "2024-06-30T20:55:43.700507",
     "exception": false,
     "start_time": "2024-06-30T20:55:43.691661",
     "status": "completed"
    },
    "tags": []
   },
   "outputs": [],
   "source": [
    "PBsampleDF = adataPBsample.to_df()\n",
    "PBsampleDF['sampleID'] = adataPBsample.obs['sampleID']"
   ]
  },
  {
   "cell_type": "code",
   "execution_count": 10,
   "id": "bb384751-fe1b-4635-a90d-fd98ae61b173",
   "metadata": {
    "execution": {
     "iopub.execute_input": "2024-06-30T20:55:43.711646Z",
     "iopub.status.busy": "2024-06-30T20:55:43.711190Z",
     "iopub.status.idle": "2024-06-30T20:55:43.715218Z",
     "shell.execute_reply": "2024-06-30T20:55:43.714852Z"
    },
    "papermill": {
     "duration": 0.010537,
     "end_time": "2024-06-30T20:55:43.715968",
     "exception": false,
     "start_time": "2024-06-30T20:55:43.705431",
     "status": "completed"
    },
    "tags": []
   },
   "outputs": [],
   "source": [
    "PBcell_sampleDF = PBcellDF.merge(PBsampleDF, on='sampleID', how='left')"
   ]
  },
  {
   "cell_type": "code",
   "execution_count": 11,
   "id": "f7250713-e24d-4614-9cbd-eed702340640",
   "metadata": {
    "execution": {
     "iopub.execute_input": "2024-06-30T20:55:43.726698Z",
     "iopub.status.busy": "2024-06-30T20:55:43.726280Z",
     "iopub.status.idle": "2024-06-30T20:55:43.728891Z",
     "shell.execute_reply": "2024-06-30T20:55:43.728536Z"
    },
    "papermill": {
     "duration": 0.008742,
     "end_time": "2024-06-30T20:55:43.729635",
     "exception": false,
     "start_time": "2024-06-30T20:55:43.720893",
     "status": "completed"
    },
    "tags": []
   },
   "outputs": [],
   "source": [
    "assert(adataPBcell.obs['sampleID'].tolist() == PBcell_sampleDF['sampleID'].tolist())"
   ]
  },
  {
   "cell_type": "code",
   "execution_count": 12,
   "id": "abea2252-6a12-4b89-9f0d-6d6df90064fb",
   "metadata": {
    "execution": {
     "iopub.execute_input": "2024-06-30T20:55:43.740448Z",
     "iopub.status.busy": "2024-06-30T20:55:43.740098Z",
     "iopub.status.idle": "2024-06-30T20:55:43.742555Z",
     "shell.execute_reply": "2024-06-30T20:55:43.742199Z"
    },
    "papermill": {
     "duration": 0.008691,
     "end_time": "2024-06-30T20:55:43.743301",
     "exception": false,
     "start_time": "2024-06-30T20:55:43.734610",
     "status": "completed"
    },
    "tags": []
   },
   "outputs": [],
   "source": [
    "PBcell_sampleDF.drop('sampleID', axis=1, inplace=True)"
   ]
  },
  {
   "cell_type": "code",
   "execution_count": 13,
   "id": "5502e45d-5c72-4440-a8c1-5b299cac6e2d",
   "metadata": {
    "execution": {
     "iopub.execute_input": "2024-06-30T20:55:43.754200Z",
     "iopub.status.busy": "2024-06-30T20:55:43.753847Z",
     "iopub.status.idle": "2024-06-30T20:55:43.757351Z",
     "shell.execute_reply": "2024-06-30T20:55:43.756995Z"
    },
    "papermill": {
     "duration": 0.009888,
     "end_time": "2024-06-30T20:55:43.758141",
     "exception": false,
     "start_time": "2024-06-30T20:55:43.748253",
     "status": "completed"
    },
    "tags": []
   },
   "outputs": [
    {
     "data": {
      "text/plain": [
       "AnnData object with n_obs × n_vars = 1270 × 70\n",
       "    obs: 'sampleID', 'Level1', 'disease', 'n_observation'"
      ]
     },
     "execution_count": 13,
     "metadata": {},
     "output_type": "execute_result"
    }
   ],
   "source": [
    "adataPBcell_sample = sc.AnnData(X = PBcell_sampleDF, obs = adataPBcell.obs)\n",
    "adataPBcell_sample"
   ]
  },
  {
   "cell_type": "markdown",
   "id": "d59574be-684b-4082-b8b6-7d11930362ad",
   "metadata": {
    "papermill": {
     "duration": 0.005127,
     "end_time": "2024-06-30T20:55:43.769329",
     "exception": false,
     "start_time": "2024-06-30T20:55:43.764202",
     "status": "completed"
    },
    "tags": []
   },
   "source": [
    "### Saving pseudobulk adata objects"
   ]
  },
  {
   "cell_type": "code",
   "execution_count": 14,
   "id": "5947e6f8-ac27-4702-ba5d-aa9e1ba79f6a",
   "metadata": {
    "execution": {
     "iopub.execute_input": "2024-06-30T20:55:43.780435Z",
     "iopub.status.busy": "2024-06-30T20:55:43.780304Z",
     "iopub.status.idle": "2024-06-30T20:55:43.809447Z",
     "shell.execute_reply": "2024-06-30T20:55:43.809024Z"
    },
    "papermill": {
     "duration": 0.035806,
     "end_time": "2024-06-30T20:55:43.810254",
     "exception": false,
     "start_time": "2024-06-30T20:55:43.774448",
     "status": "completed"
    },
    "tags": []
   },
   "outputs": [],
   "source": [
    "adataPBcell.write(here(adataPATHlist[0].replace('/scPoli_','/PSEUDOBULKs/scPoli_PSEUDOBULKcell_')), compression='gzip')"
   ]
  },
  {
   "cell_type": "code",
   "execution_count": 15,
   "id": "e9485945-bccf-419a-9420-c1e4f3aa262d",
   "metadata": {
    "execution": {
     "iopub.execute_input": "2024-06-30T20:55:43.821712Z",
     "iopub.status.busy": "2024-06-30T20:55:43.821360Z",
     "iopub.status.idle": "2024-06-30T20:55:43.841544Z",
     "shell.execute_reply": "2024-06-30T20:55:43.841167Z"
    },
    "papermill": {
     "duration": 0.026751,
     "end_time": "2024-06-30T20:55:43.842360",
     "exception": false,
     "start_time": "2024-06-30T20:55:43.815609",
     "status": "completed"
    },
    "tags": []
   },
   "outputs": [],
   "source": [
    "adataPBsample.write(here(adataPATHlist[0].replace('/scPoli_','/PSEUDOBULKs/scPoli_PSEUDOBULKsample_')), compression='gzip')"
   ]
  },
  {
   "cell_type": "code",
   "execution_count": 16,
   "id": "9c2daa40-3279-4b24-8aad-65ee0ba758c8",
   "metadata": {
    "execution": {
     "iopub.execute_input": "2024-06-30T20:55:43.854156Z",
     "iopub.status.busy": "2024-06-30T20:55:43.853806Z",
     "iopub.status.idle": "2024-06-30T20:55:43.884119Z",
     "shell.execute_reply": "2024-06-30T20:55:43.883737Z"
    },
    "papermill": {
     "duration": 0.03756,
     "end_time": "2024-06-30T20:55:43.885311",
     "exception": false,
     "start_time": "2024-06-30T20:55:43.847751",
     "status": "completed"
    },
    "tags": []
   },
   "outputs": [],
   "source": [
    "adataPBcell_sample.write(here(adataPATHlist[0].replace('/scPoli_','/PSEUDOBULKs/scPoli_PSEUDOBULKcellSample_')), compression='gzip')"
   ]
  },
  {
   "cell_type": "code",
   "execution_count": null,
   "id": "8a70d9f6-7a44-45ee-8470-702bd7af1e0b",
   "metadata": {
    "papermill": {
     "duration": 0.005689,
     "end_time": "2024-06-30T20:55:43.896108",
     "exception": false,
     "start_time": "2024-06-30T20:55:43.890419",
     "status": "completed"
    },
    "tags": []
   },
   "outputs": [],
   "source": []
  }
 ],
 "metadata": {
  "kernelspec": {
   "display_name": "Python 3 (ipykernel)",
   "language": "python",
   "name": "python3"
  },
  "language_info": {
   "codemirror_mode": {
    "name": "ipython",
    "version": 3
   },
   "file_extension": ".py",
   "mimetype": "text/x-python",
   "name": "python",
   "nbconvert_exporter": "python",
   "pygments_lexer": "ipython3",
   "version": "3.12.3"
  },
  "papermill": {
   "default_parameters": {},
   "duration": 4.695787,
   "end_time": "2024-06-30T20:55:44.415396",
   "environment_variables": {},
   "exception": null,
   "input_path": "03_generating_PSEUDOBULKs.ipynb",
   "output_path": "executed_notebooks/03_generating_PSEUDOBULKs_EXTERNAL_20nEmb_50nPEmb.ipynb",
   "parameters": {
    "adataPATH": "03_downstream_analysis/08_PatientClassifier/scPoli/results/scPoli_EXTERNAL_2_20_50_*.h5ad"
   },
   "start_time": "2024-06-30T20:55:39.719609",
   "version": "2.6.0"
  }
 },
 "nbformat": 4,
 "nbformat_minor": 5
}