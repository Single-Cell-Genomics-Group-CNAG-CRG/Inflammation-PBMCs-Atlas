{
 "cells": [
  {
   "cell_type": "code",
   "execution_count": 1,
   "id": "10acaad3",
   "metadata": {
    "execution": {
     "iopub.execute_input": "2024-06-30T20:59:20.856062Z",
     "iopub.status.busy": "2024-06-30T20:59:20.855705Z",
     "iopub.status.idle": "2024-06-30T20:59:20.858231Z",
     "shell.execute_reply": "2024-06-30T20:59:20.857871Z"
    },
    "papermill": {
     "duration": 0.016573,
     "end_time": "2024-06-30T20:59:20.859102",
     "exception": false,
     "start_time": "2024-06-30T20:59:20.842529",
     "status": "completed"
    },
    "tags": [
     "injected-parameters"
    ]
   },
   "outputs": [],
   "source": [
    "# Parameters\n",
    "adataPATH = \"03_downstream_analysis/08_PatientClassifier/scPoli/results/scPoli_ref_latents_EXTERNAL_2_30_20_run3_0vvgu480.h5ad\"\n"
   ]
  },
  {
   "cell_type": "raw",
   "id": "bf9880bd-3aef-477b-807d-37e3c5603037",
   "metadata": {
    "execution": {
     "iopub.execute_input": "2024-06-29T08:23:25.403219Z",
     "iopub.status.busy": "2024-06-29T08:23:25.402857Z",
     "iopub.status.idle": "2024-06-29T08:23:25.406428Z",
     "shell.execute_reply": "2024-06-29T08:23:25.406014Z",
     "shell.execute_reply.started": "2024-06-29T08:23:25.403185Z"
    },
    "papermill": {
     "duration": 0.005295,
     "end_time": "2024-06-30T20:59:20.870941",
     "exception": false,
     "start_time": "2024-06-30T20:59:20.865646",
     "status": "completed"
    },
    "tags": [],
    "vscode": {
     "languageId": "raw"
    }
   },
   "source": [
    "adataMAINpath = '03_downstream_analysis/08_PatientClassifier/scPoli/results/scPoli_2_100_20_*.h5ad'\n",
    "\n",
    "adataVALpath = '03_downstream_analysis/08_PatientClassifier/scPoli/results/scPoli_VALIDATION_2_20_20*.h5ad'\n",
    "adataEXCpath = '03_downstream_analysis/08_PatientClassifier/scPoli/results/scPoli_EXCLUDED_2_100_20_run1_pd5nyb4g.h5ad'\n",
    "adataEXTpath = '03_downstream_analysis/08_PatientClassifier/scPoli/results/scPoli_EXTERNAL_2_100_20_run1_pd5nyb4g.h5ad'\n",
    "\n",
    "adataPATH = adataVALpath"
   ]
  },
  {
   "cell_type": "code",
   "execution_count": 2,
   "id": "d3ccb10a-7201-43d0-a593-2b4650ff3451",
   "metadata": {
    "execution": {
     "iopub.execute_input": "2024-06-30T20:59:20.882762Z",
     "iopub.status.busy": "2024-06-30T20:59:20.882512Z",
     "iopub.status.idle": "2024-06-30T20:59:20.885478Z",
     "shell.execute_reply": "2024-06-30T20:59:20.885091Z"
    },
    "papermill": {
     "duration": 0.0095,
     "end_time": "2024-06-30T20:59:20.886269",
     "exception": false,
     "start_time": "2024-06-30T20:59:20.876769",
     "status": "completed"
    },
    "tags": []
   },
   "outputs": [
    {
     "name": "stdout",
     "output_type": "stream",
     "text": [
      "adataPATH = 03_downstream_analysis/08_PatientClassifier/scPoli/results/scPoli_ref_latents_EXTERNAL_2_30_20_run3_0vvgu480.h5ad\n"
     ]
    }
   ],
   "source": [
    "for v in ['adataPATH']:\n",
    "    if v in locals() or v in globals():\n",
    "        print(f\"{v} = {eval(v)}\")\n",
    "    else:\n",
    "        raise Exception(f\"{v} not specified\")"
   ]
  },
  {
   "cell_type": "code",
   "execution_count": 3,
   "id": "888fb5f4-9ab7-4196-a282-7a7e92a43971",
   "metadata": {
    "execution": {
     "iopub.execute_input": "2024-06-30T20:59:20.898112Z",
     "iopub.status.busy": "2024-06-30T20:59:20.897735Z",
     "iopub.status.idle": "2024-06-30T20:59:22.749200Z",
     "shell.execute_reply": "2024-06-30T20:59:22.748711Z"
    },
    "papermill": {
     "duration": 1.858673,
     "end_time": "2024-06-30T20:59:22.750830",
     "exception": false,
     "start_time": "2024-06-30T20:59:20.892157",
     "status": "completed"
    },
    "tags": []
   },
   "outputs": [],
   "source": [
    "import os\n",
    "import sys\n",
    "from glob import glob\n",
    "\n",
    "import scanpy as sc\n",
    "import pandas as pd\n",
    "\n",
    "from pyprojroot import here\n",
    "\n",
    "sys.path.insert(1, str(here('bin')))\n",
    "# Import custom functions\n",
    "from customPythonFunctions import aggregating_features"
   ]
  },
  {
   "cell_type": "markdown",
   "id": "ba4905ae-4546-4ef4-b57b-950441ab079d",
   "metadata": {
    "papermill": {
     "duration": 0.004986,
     "end_time": "2024-06-30T20:59:22.761862",
     "exception": false,
     "start_time": "2024-06-30T20:59:22.756876",
     "status": "completed"
    },
    "tags": []
   },
   "source": [
    "### Loading data"
   ]
  },
  {
   "cell_type": "code",
   "execution_count": 4,
   "id": "539cbbbb-3503-4f51-bf04-f007f928ebd1",
   "metadata": {
    "execution": {
     "iopub.execute_input": "2024-06-30T20:59:22.773747Z",
     "iopub.status.busy": "2024-06-30T20:59:22.773024Z",
     "iopub.status.idle": "2024-06-30T20:59:22.776971Z",
     "shell.execute_reply": "2024-06-30T20:59:22.776598Z"
    },
    "papermill": {
     "duration": 0.010441,
     "end_time": "2024-06-30T20:59:22.777799",
     "exception": false,
     "start_time": "2024-06-30T20:59:22.767358",
     "status": "completed"
    },
    "tags": []
   },
   "outputs": [],
   "source": [
    "adataPATHlist = glob(str(here(adataPATH)))\n",
    "assert(len(adataPATHlist) == 1)"
   ]
  },
  {
   "cell_type": "code",
   "execution_count": 5,
   "id": "0fcfce0a-896b-4dc0-8e5e-46749205c84f",
   "metadata": {
    "execution": {
     "iopub.execute_input": "2024-06-30T20:59:22.788500Z",
     "iopub.status.busy": "2024-06-30T20:59:22.788141Z",
     "iopub.status.idle": "2024-06-30T20:59:30.619631Z",
     "shell.execute_reply": "2024-06-30T20:59:30.619173Z"
    },
    "papermill": {
     "duration": 7.837622,
     "end_time": "2024-06-30T20:59:30.620451",
     "exception": false,
     "start_time": "2024-06-30T20:59:22.782829",
     "status": "completed"
    },
    "tags": []
   },
   "outputs": [
    {
     "data": {
      "text/plain": [
       "AnnData object with n_obs × n_vars = 4435922 × 30\n",
       "    obs: 'studyID', 'libraryID', 'sampleID', 'chemistry', 'disease', 'sex', 'binned_age', 'Level1', 'Level2'\n",
       "    uns: 'chemistry', 'sampleID'"
      ]
     },
     "execution_count": 5,
     "metadata": {},
     "output_type": "execute_result"
    }
   ],
   "source": [
    "adata = sc.read_h5ad(adataPATHlist[0])\n",
    "adata"
   ]
  },
  {
   "cell_type": "markdown",
   "id": "44e868b3-0771-4225-bd79-a4b179bc672b",
   "metadata": {
    "papermill": {
     "duration": 0.005004,
     "end_time": "2024-06-30T20:59:30.631105",
     "exception": false,
     "start_time": "2024-06-30T20:59:30.626101",
     "status": "completed"
    },
    "tags": []
   },
   "source": [
    "#### Generating PSEUDOBULKs"
   ]
  },
  {
   "cell_type": "markdown",
   "id": "97d09fc5-d05c-471e-87fa-fe58ccbe47ac",
   "metadata": {
    "papermill": {
     "duration": 0.004959,
     "end_time": "2024-06-30T20:59:30.641415",
     "exception": false,
     "start_time": "2024-06-30T20:59:30.636456",
     "status": "completed"
    },
    "tags": []
   },
   "source": [
    "**Aggregating cell latent features**"
   ]
  },
  {
   "cell_type": "code",
   "execution_count": 6,
   "id": "81223976-fcf6-4354-8964-b12d76468636",
   "metadata": {
    "execution": {
     "iopub.execute_input": "2024-06-30T20:59:30.663470Z",
     "iopub.status.busy": "2024-06-30T20:59:30.662995Z",
     "iopub.status.idle": "2024-06-30T20:59:32.461957Z",
     "shell.execute_reply": "2024-06-30T20:59:32.461472Z"
    },
    "papermill": {
     "duration": 1.816333,
     "end_time": "2024-06-30T20:59:32.462769",
     "exception": false,
     "start_time": "2024-06-30T20:59:30.646436",
     "status": "completed"
    },
    "tags": []
   },
   "outputs": [
    {
     "data": {
      "text/plain": [
       "AnnData object with n_obs × n_vars = 11372 × 30\n",
       "    obs: 'sampleID', 'Level1', 'disease', 'n_observation'"
      ]
     },
     "execution_count": 6,
     "metadata": {},
     "output_type": "execute_result"
    }
   ],
   "source": [
    "adataPBcell = aggregating_features(Z = adata.X, \n",
    "                             obsDF = adata.obs[['sampleID','Level1','disease']], \n",
    "                             mode = 'mean', \n",
    "                             obs_names_col=['sampleID','Level1'], \n",
    "                             min_observation=0)\n",
    "adataPBcell"
   ]
  },
  {
   "cell_type": "code",
   "execution_count": null,
   "id": "8495038e-aebd-4003-bd94-c1e49f47249e",
   "metadata": {
    "papermill": {
     "duration": 0.0053,
     "end_time": "2024-06-30T20:59:32.474178",
     "exception": false,
     "start_time": "2024-06-30T20:59:32.468878",
     "status": "completed"
    },
    "tags": []
   },
   "outputs": [],
   "source": []
  },
  {
   "cell_type": "markdown",
   "id": "6d602bad-4793-4aa4-b3d7-d118d413a0fc",
   "metadata": {
    "papermill": {
     "duration": 0.005433,
     "end_time": "2024-06-30T20:59:32.485328",
     "exception": false,
     "start_time": "2024-06-30T20:59:32.479895",
     "status": "completed"
    },
    "tags": []
   },
   "source": [
    "**Extracting sample embedding**"
   ]
  },
  {
   "cell_type": "code",
   "execution_count": 7,
   "id": "e2c14f02",
   "metadata": {
    "execution": {
     "iopub.execute_input": "2024-06-30T20:59:32.496037Z",
     "iopub.status.busy": "2024-06-30T20:59:32.495887Z",
     "iopub.status.idle": "2024-06-30T20:59:32.505614Z",
     "shell.execute_reply": "2024-06-30T20:59:32.505245Z"
    },
    "papermill": {
     "duration": 0.016065,
     "end_time": "2024-06-30T20:59:32.506394",
     "exception": false,
     "start_time": "2024-06-30T20:59:32.490329",
     "status": "completed"
    },
    "tags": []
   },
   "outputs": [
    {
     "data": {
      "text/plain": [
       "AnnData object with n_obs × n_vars = 817 × 20\n",
       "    obs: 'sampleID', 'disease', 'Level1'"
      ]
     },
     "execution_count": 7,
     "metadata": {},
     "output_type": "execute_result"
    }
   ],
   "source": [
    "adataPBsample = adata.uns['sampleID'].copy()\n",
    "adataPBsample.obs['sampleID'] = adataPBsample.obs.index\n",
    "adataPBsample = adataPBsample[adataPBsample.obs['sampleID'].isin(adataPBcell.obs['sampleID'])]\n",
    "\n",
    "adataPBsample.obs = adataPBsample.obs.merge(adataPBcell.obs.groupby('sampleID').agg({'disease':'first'}), left_index=True, right_index=True)\n",
    "adataPBsample.obs['Level1'] = 'sample'\n",
    "adataPBsample"
   ]
  },
  {
   "cell_type": "markdown",
   "id": "2d4fe137-7d68-4e86-a85c-3c1a3d3c4c71",
   "metadata": {
    "papermill": {
     "duration": 0.005259,
     "end_time": "2024-06-30T20:59:32.517165",
     "exception": false,
     "start_time": "2024-06-30T20:59:32.511906",
     "status": "completed"
    },
    "tags": []
   },
   "source": [
    "**Merging cell and patient latent features**"
   ]
  },
  {
   "cell_type": "code",
   "execution_count": 8,
   "id": "a326d2b1",
   "metadata": {
    "execution": {
     "iopub.execute_input": "2024-06-30T20:59:32.537281Z",
     "iopub.status.busy": "2024-06-30T20:59:32.536990Z",
     "iopub.status.idle": "2024-06-30T20:59:32.539453Z",
     "shell.execute_reply": "2024-06-30T20:59:32.539071Z"
    },
    "papermill": {
     "duration": 0.011699,
     "end_time": "2024-06-30T20:59:32.540220",
     "exception": false,
     "start_time": "2024-06-30T20:59:32.528521",
     "status": "completed"
    },
    "tags": []
   },
   "outputs": [],
   "source": [
    "PBcellDF = adataPBcell.to_df()\n",
    "PBcellDF['sampleID'] = adataPBcell.obs['sampleID']"
   ]
  },
  {
   "cell_type": "code",
   "execution_count": 9,
   "id": "1a597f46-d9c5-403b-b81e-5738ca206682",
   "metadata": {
    "execution": {
     "iopub.execute_input": "2024-06-30T20:59:32.552136Z",
     "iopub.status.busy": "2024-06-30T20:59:32.551770Z",
     "iopub.status.idle": "2024-06-30T20:59:32.554198Z",
     "shell.execute_reply": "2024-06-30T20:59:32.553831Z"
    },
    "papermill": {
     "duration": 0.009228,
     "end_time": "2024-06-30T20:59:32.554960",
     "exception": false,
     "start_time": "2024-06-30T20:59:32.545732",
     "status": "completed"
    },
    "tags": []
   },
   "outputs": [],
   "source": [
    "PBsampleDF = adataPBsample.to_df()\n",
    "PBsampleDF['sampleID'] = adataPBsample.obs['sampleID']"
   ]
  },
  {
   "cell_type": "code",
   "execution_count": 10,
   "id": "bb384751-fe1b-4635-a90d-fd98ae61b173",
   "metadata": {
    "execution": {
     "iopub.execute_input": "2024-06-30T20:59:32.567034Z",
     "iopub.status.busy": "2024-06-30T20:59:32.566627Z",
     "iopub.status.idle": "2024-06-30T20:59:32.572709Z",
     "shell.execute_reply": "2024-06-30T20:59:32.572324Z"
    },
    "papermill": {
     "duration": 0.012975,
     "end_time": "2024-06-30T20:59:32.573517",
     "exception": false,
     "start_time": "2024-06-30T20:59:32.560542",
     "status": "completed"
    },
    "tags": []
   },
   "outputs": [],
   "source": [
    "PBcell_sampleDF = PBcellDF.merge(PBsampleDF, on='sampleID', how='left')"
   ]
  },
  {
   "cell_type": "code",
   "execution_count": 11,
   "id": "f7250713-e24d-4614-9cbd-eed702340640",
   "metadata": {
    "execution": {
     "iopub.execute_input": "2024-06-30T20:59:32.585558Z",
     "iopub.status.busy": "2024-06-30T20:59:32.585144Z",
     "iopub.status.idle": "2024-06-30T20:59:32.587805Z",
     "shell.execute_reply": "2024-06-30T20:59:32.587442Z"
    },
    "papermill": {
     "duration": 0.009224,
     "end_time": "2024-06-30T20:59:32.588562",
     "exception": false,
     "start_time": "2024-06-30T20:59:32.579338",
     "status": "completed"
    },
    "tags": []
   },
   "outputs": [],
   "source": [
    "assert(adataPBcell.obs['sampleID'].tolist() == PBcell_sampleDF['sampleID'].tolist())"
   ]
  },
  {
   "cell_type": "code",
   "execution_count": 12,
   "id": "abea2252-6a12-4b89-9f0d-6d6df90064fb",
   "metadata": {
    "execution": {
     "iopub.execute_input": "2024-06-30T20:59:32.600179Z",
     "iopub.status.busy": "2024-06-30T20:59:32.599860Z",
     "iopub.status.idle": "2024-06-30T20:59:32.602510Z",
     "shell.execute_reply": "2024-06-30T20:59:32.602134Z"
    },
    "papermill": {
     "duration": 0.009487,
     "end_time": "2024-06-30T20:59:32.603281",
     "exception": false,
     "start_time": "2024-06-30T20:59:32.593794",
     "status": "completed"
    },
    "tags": []
   },
   "outputs": [],
   "source": [
    "PBcell_sampleDF.drop('sampleID', axis=1, inplace=True)"
   ]
  },
  {
   "cell_type": "code",
   "execution_count": 13,
   "id": "5502e45d-5c72-4440-a8c1-5b299cac6e2d",
   "metadata": {
    "execution": {
     "iopub.execute_input": "2024-06-30T20:59:32.614982Z",
     "iopub.status.busy": "2024-06-30T20:59:32.614661Z",
     "iopub.status.idle": "2024-06-30T20:59:32.618335Z",
     "shell.execute_reply": "2024-06-30T20:59:32.617963Z"
    },
    "papermill": {
     "duration": 0.010308,
     "end_time": "2024-06-30T20:59:32.619132",
     "exception": false,
     "start_time": "2024-06-30T20:59:32.608824",
     "status": "completed"
    },
    "tags": []
   },
   "outputs": [
    {
     "data": {
      "text/plain": [
       "AnnData object with n_obs × n_vars = 11372 × 50\n",
       "    obs: 'sampleID', 'Level1', 'disease', 'n_observation'"
      ]
     },
     "execution_count": 13,
     "metadata": {},
     "output_type": "execute_result"
    }
   ],
   "source": [
    "adataPBcell_sample = sc.AnnData(X = PBcell_sampleDF, obs = adataPBcell.obs)\n",
    "adataPBcell_sample"
   ]
  },
  {
   "cell_type": "markdown",
   "id": "d59574be-684b-4082-b8b6-7d11930362ad",
   "metadata": {
    "papermill": {
     "duration": 0.005817,
     "end_time": "2024-06-30T20:59:32.630335",
     "exception": false,
     "start_time": "2024-06-30T20:59:32.624518",
     "status": "completed"
    },
    "tags": []
   },
   "source": [
    "### Saving pseudobulk adata objects"
   ]
  },
  {
   "cell_type": "code",
   "execution_count": 14,
   "id": "5947e6f8-ac27-4702-ba5d-aa9e1ba79f6a",
   "metadata": {
    "execution": {
     "iopub.execute_input": "2024-06-30T20:59:32.650885Z",
     "iopub.status.busy": "2024-06-30T20:59:32.650554Z",
     "iopub.status.idle": "2024-06-30T20:59:32.736319Z",
     "shell.execute_reply": "2024-06-30T20:59:32.735846Z"
    },
    "papermill": {
     "duration": 0.092705,
     "end_time": "2024-06-30T20:59:32.737143",
     "exception": false,
     "start_time": "2024-06-30T20:59:32.644438",
     "status": "completed"
    },
    "tags": []
   },
   "outputs": [],
   "source": [
    "adataPBcell.write(here(adataPATHlist[0].replace('/scPoli_','/PSEUDOBULKs/scPoli_PSEUDOBULKcell_')), compression='gzip')"
   ]
  },
  {
   "cell_type": "code",
   "execution_count": 15,
   "id": "e9485945-bccf-419a-9420-c1e4f3aa262d",
   "metadata": {
    "execution": {
     "iopub.execute_input": "2024-06-30T20:59:32.761062Z",
     "iopub.status.busy": "2024-06-30T20:59:32.760550Z",
     "iopub.status.idle": "2024-06-30T20:59:32.784273Z",
     "shell.execute_reply": "2024-06-30T20:59:32.783873Z"
    },
    "papermill": {
     "duration": 0.031632,
     "end_time": "2024-06-30T20:59:32.785368",
     "exception": false,
     "start_time": "2024-06-30T20:59:32.753736",
     "status": "completed"
    },
    "tags": []
   },
   "outputs": [],
   "source": [
    "adataPBsample.write(here(adataPATHlist[0].replace('/scPoli_','/PSEUDOBULKs/scPoli_PSEUDOBULKsample_')), compression='gzip')"
   ]
  },
  {
   "cell_type": "code",
   "execution_count": 16,
   "id": "9c2daa40-3279-4b24-8aad-65ee0ba758c8",
   "metadata": {
    "execution": {
     "iopub.execute_input": "2024-06-30T20:59:32.798126Z",
     "iopub.status.busy": "2024-06-30T20:59:32.797846Z",
     "iopub.status.idle": "2024-06-30T20:59:32.894415Z",
     "shell.execute_reply": "2024-06-30T20:59:32.893931Z"
    },
    "papermill": {
     "duration": 0.103614,
     "end_time": "2024-06-30T20:59:32.895251",
     "exception": false,
     "start_time": "2024-06-30T20:59:32.791637",
     "status": "completed"
    },
    "tags": []
   },
   "outputs": [],
   "source": [
    "adataPBcell_sample.write(here(adataPATHlist[0].replace('/scPoli_','/PSEUDOBULKs/scPoli_PSEUDOBULKcellSample_')), compression='gzip')"
   ]
  },
  {
   "cell_type": "code",
   "execution_count": null,
   "id": "8a70d9f6-7a44-45ee-8470-702bd7af1e0b",
   "metadata": {
    "papermill": {
     "duration": 0.005383,
     "end_time": "2024-06-30T20:59:32.906691",
     "exception": false,
     "start_time": "2024-06-30T20:59:32.901308",
     "status": "completed"
    },
    "tags": []
   },
   "outputs": [],
   "source": []
  }
 ],
 "metadata": {
  "kernelspec": {
   "display_name": "Python 3 (ipykernel)",
   "language": "python",
   "name": "python3"
  },
  "language_info": {
   "codemirror_mode": {
    "name": "ipython",
    "version": 3
   },
   "file_extension": ".py",
   "mimetype": "text/x-python",
   "name": "python",
   "nbconvert_exporter": "python",
   "pygments_lexer": "ipython3",
   "version": "3.12.3"
  },
  "papermill": {
   "default_parameters": {},
   "duration": 13.939223,
   "end_time": "2024-06-30T20:59:33.537965",
   "environment_variables": {},
   "exception": null,
   "input_path": "03_generating_PSEUDOBULKs.ipynb",
   "output_path": "executed_notebooks/03_generating_PSEUDOBULKs_scPoli_ref_latents_EXTERNAL_2_30_20_run3_0vvgu480.h5ad.ipynb",
   "parameters": {
    "adataPATH": "03_downstream_analysis/08_PatientClassifier/scPoli/results/scPoli_ref_latents_EXTERNAL_2_30_20_run3_0vvgu480.h5ad"
   },
   "start_time": "2024-06-30T20:59:19.598742",
   "version": "2.6.0"
  }
 },
 "nbformat": 4,
 "nbformat_minor": 5
}