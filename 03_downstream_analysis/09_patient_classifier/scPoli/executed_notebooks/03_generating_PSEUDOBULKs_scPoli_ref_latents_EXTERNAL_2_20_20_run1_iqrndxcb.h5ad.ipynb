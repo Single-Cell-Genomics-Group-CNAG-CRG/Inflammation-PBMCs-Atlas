{
 "cells": [
  {
   "cell_type": "code",
   "execution_count": 1,
   "id": "b7f82564",
   "metadata": {
    "execution": {
     "iopub.execute_input": "2024-06-30T21:02:09.886995Z",
     "iopub.status.busy": "2024-06-30T21:02:09.886573Z",
     "iopub.status.idle": "2024-06-30T21:02:09.889370Z",
     "shell.execute_reply": "2024-06-30T21:02:09.889012Z"
    },
    "papermill": {
     "duration": 0.009716,
     "end_time": "2024-06-30T21:02:09.890180",
     "exception": false,
     "start_time": "2024-06-30T21:02:09.880464",
     "status": "completed"
    },
    "tags": [
     "injected-parameters"
    ]
   },
   "outputs": [],
   "source": [
    "# Parameters\n",
    "adataPATH = \"03_downstream_analysis/08_PatientClassifier/scPoli/results/scPoli_ref_latents_EXTERNAL_2_20_20_run1_iqrndxcb.h5ad\"\n"
   ]
  },
  {
   "cell_type": "raw",
   "id": "bf9880bd-3aef-477b-807d-37e3c5603037",
   "metadata": {
    "execution": {
     "iopub.execute_input": "2024-06-29T08:23:25.403219Z",
     "iopub.status.busy": "2024-06-29T08:23:25.402857Z",
     "iopub.status.idle": "2024-06-29T08:23:25.406428Z",
     "shell.execute_reply": "2024-06-29T08:23:25.406014Z",
     "shell.execute_reply.started": "2024-06-29T08:23:25.403185Z"
    },
    "papermill": {
     "duration": 0.004732,
     "end_time": "2024-06-30T21:02:09.899972",
     "exception": false,
     "start_time": "2024-06-30T21:02:09.895240",
     "status": "completed"
    },
    "tags": [],
    "vscode": {
     "languageId": "raw"
    }
   },
   "source": [
    "adataMAINpath = '03_downstream_analysis/08_PatientClassifier/scPoli/results/scPoli_2_100_20_*.h5ad'\n",
    "\n",
    "adataVALpath = '03_downstream_analysis/08_PatientClassifier/scPoli/results/scPoli_VALIDATION_2_20_20*.h5ad'\n",
    "adataEXCpath = '03_downstream_analysis/08_PatientClassifier/scPoli/results/scPoli_EXCLUDED_2_100_20_run1_pd5nyb4g.h5ad'\n",
    "adataEXTpath = '03_downstream_analysis/08_PatientClassifier/scPoli/results/scPoli_EXTERNAL_2_100_20_run1_pd5nyb4g.h5ad'\n",
    "\n",
    "adataPATH = adataVALpath"
   ]
  },
  {
   "cell_type": "code",
   "execution_count": 2,
   "id": "d3ccb10a-7201-43d0-a593-2b4650ff3451",
   "metadata": {
    "execution": {
     "iopub.execute_input": "2024-06-30T21:02:09.920165Z",
     "iopub.status.busy": "2024-06-30T21:02:09.919768Z",
     "iopub.status.idle": "2024-06-30T21:02:09.922882Z",
     "shell.execute_reply": "2024-06-30T21:02:09.922516Z"
    },
    "papermill": {
     "duration": 0.018374,
     "end_time": "2024-06-30T21:02:09.923662",
     "exception": false,
     "start_time": "2024-06-30T21:02:09.905288",
     "status": "completed"
    },
    "tags": []
   },
   "outputs": [
    {
     "name": "stdout",
     "output_type": "stream",
     "text": [
      "adataPATH = 03_downstream_analysis/08_PatientClassifier/scPoli/results/scPoli_ref_latents_EXTERNAL_2_20_20_run1_iqrndxcb.h5ad\n"
     ]
    }
   ],
   "source": [
    "for v in ['adataPATH']:\n",
    "    if v in locals() or v in globals():\n",
    "        print(f\"{v} = {eval(v)}\")\n",
    "    else:\n",
    "        raise Exception(f\"{v} not specified\")"
   ]
  },
  {
   "cell_type": "code",
   "execution_count": 3,
   "id": "888fb5f4-9ab7-4196-a282-7a7e92a43971",
   "metadata": {
    "execution": {
     "iopub.execute_input": "2024-06-30T21:02:09.933708Z",
     "iopub.status.busy": "2024-06-30T21:02:09.933577Z",
     "iopub.status.idle": "2024-06-30T21:02:11.389062Z",
     "shell.execute_reply": "2024-06-30T21:02:11.388558Z"
    },
    "papermill": {
     "duration": 1.461574,
     "end_time": "2024-06-30T21:02:11.389938",
     "exception": false,
     "start_time": "2024-06-30T21:02:09.928364",
     "status": "completed"
    },
    "tags": []
   },
   "outputs": [],
   "source": [
    "import os\n",
    "import sys\n",
    "from glob import glob\n",
    "\n",
    "import scanpy as sc\n",
    "import pandas as pd\n",
    "\n",
    "from pyprojroot import here\n",
    "\n",
    "sys.path.insert(1, str(here('bin')))\n",
    "# Import custom functions\n",
    "from customPythonFunctions import aggregating_features"
   ]
  },
  {
   "cell_type": "markdown",
   "id": "ba4905ae-4546-4ef4-b57b-950441ab079d",
   "metadata": {
    "papermill": {
     "duration": 0.004588,
     "end_time": "2024-06-30T21:02:11.399663",
     "exception": false,
     "start_time": "2024-06-30T21:02:11.395075",
     "status": "completed"
    },
    "tags": []
   },
   "source": [
    "### Loading data"
   ]
  },
  {
   "cell_type": "code",
   "execution_count": 4,
   "id": "539cbbbb-3503-4f51-bf04-f007f928ebd1",
   "metadata": {
    "execution": {
     "iopub.execute_input": "2024-06-30T21:02:11.409936Z",
     "iopub.status.busy": "2024-06-30T21:02:11.409654Z",
     "iopub.status.idle": "2024-06-30T21:02:11.413279Z",
     "shell.execute_reply": "2024-06-30T21:02:11.412887Z"
    },
    "papermill": {
     "duration": 0.009602,
     "end_time": "2024-06-30T21:02:11.414047",
     "exception": false,
     "start_time": "2024-06-30T21:02:11.404445",
     "status": "completed"
    },
    "tags": []
   },
   "outputs": [],
   "source": [
    "adataPATHlist = glob(str(here(adataPATH)))\n",
    "assert(len(adataPATHlist) == 1)"
   ]
  },
  {
   "cell_type": "code",
   "execution_count": 5,
   "id": "0fcfce0a-896b-4dc0-8e5e-46749205c84f",
   "metadata": {
    "execution": {
     "iopub.execute_input": "2024-06-30T21:02:11.423845Z",
     "iopub.status.busy": "2024-06-30T21:02:11.423708Z",
     "iopub.status.idle": "2024-06-30T21:02:18.394875Z",
     "shell.execute_reply": "2024-06-30T21:02:18.394424Z"
    },
    "papermill": {
     "duration": 6.977018,
     "end_time": "2024-06-30T21:02:18.395699",
     "exception": false,
     "start_time": "2024-06-30T21:02:11.418681",
     "status": "completed"
    },
    "tags": []
   },
   "outputs": [
    {
     "data": {
      "text/plain": [
       "AnnData object with n_obs × n_vars = 4435922 × 20\n",
       "    obs: 'studyID', 'libraryID', 'sampleID', 'chemistry', 'disease', 'sex', 'binned_age', 'Level1', 'Level2'\n",
       "    uns: 'chemistry', 'sampleID'"
      ]
     },
     "execution_count": 5,
     "metadata": {},
     "output_type": "execute_result"
    }
   ],
   "source": [
    "adata = sc.read_h5ad(adataPATHlist[0])\n",
    "adata"
   ]
  },
  {
   "cell_type": "markdown",
   "id": "44e868b3-0771-4225-bd79-a4b179bc672b",
   "metadata": {
    "papermill": {
     "duration": 0.004653,
     "end_time": "2024-06-30T21:02:18.406767",
     "exception": false,
     "start_time": "2024-06-30T21:02:18.402114",
     "status": "completed"
    },
    "tags": []
   },
   "source": [
    "#### Generating PSEUDOBULKs"
   ]
  },
  {
   "cell_type": "markdown",
   "id": "97d09fc5-d05c-471e-87fa-fe58ccbe47ac",
   "metadata": {
    "papermill": {
     "duration": 0.00455,
     "end_time": "2024-06-30T21:02:18.416415",
     "exception": false,
     "start_time": "2024-06-30T21:02:18.411865",
     "status": "completed"
    },
    "tags": []
   },
   "source": [
    "**Aggregating cell latent features**"
   ]
  },
  {
   "cell_type": "code",
   "execution_count": 6,
   "id": "81223976-fcf6-4354-8964-b12d76468636",
   "metadata": {
    "execution": {
     "iopub.execute_input": "2024-06-30T21:02:18.426752Z",
     "iopub.status.busy": "2024-06-30T21:02:18.426602Z",
     "iopub.status.idle": "2024-06-30T21:02:20.105100Z",
     "shell.execute_reply": "2024-06-30T21:02:20.104629Z"
    },
    "papermill": {
     "duration": 1.684933,
     "end_time": "2024-06-30T21:02:20.105946",
     "exception": false,
     "start_time": "2024-06-30T21:02:18.421013",
     "status": "completed"
    },
    "tags": []
   },
   "outputs": [
    {
     "data": {
      "text/plain": [
       "AnnData object with n_obs × n_vars = 11372 × 20\n",
       "    obs: 'sampleID', 'Level1', 'disease', 'n_observation'"
      ]
     },
     "execution_count": 6,
     "metadata": {},
     "output_type": "execute_result"
    }
   ],
   "source": [
    "adataPBcell = aggregating_features(Z = adata.X, \n",
    "                             obsDF = adata.obs[['sampleID','Level1','disease']], \n",
    "                             mode = 'mean', \n",
    "                             obs_names_col=['sampleID','Level1'], \n",
    "                             min_observation=0)\n",
    "adataPBcell"
   ]
  },
  {
   "cell_type": "code",
   "execution_count": null,
   "id": "8495038e-aebd-4003-bd94-c1e49f47249e",
   "metadata": {
    "papermill": {
     "duration": 0.006444,
     "end_time": "2024-06-30T21:02:20.118108",
     "exception": false,
     "start_time": "2024-06-30T21:02:20.111664",
     "status": "completed"
    },
    "tags": []
   },
   "outputs": [],
   "source": []
  },
  {
   "cell_type": "markdown",
   "id": "6d602bad-4793-4aa4-b3d7-d118d413a0fc",
   "metadata": {
    "papermill": {
     "duration": 0.004719,
     "end_time": "2024-06-30T21:02:20.128197",
     "exception": false,
     "start_time": "2024-06-30T21:02:20.123478",
     "status": "completed"
    },
    "tags": []
   },
   "source": [
    "**Extracting sample embedding**"
   ]
  },
  {
   "cell_type": "code",
   "execution_count": 7,
   "id": "e2c14f02",
   "metadata": {
    "execution": {
     "iopub.execute_input": "2024-06-30T21:02:20.139306Z",
     "iopub.status.busy": "2024-06-30T21:02:20.138740Z",
     "iopub.status.idle": "2024-06-30T21:02:20.148776Z",
     "shell.execute_reply": "2024-06-30T21:02:20.148403Z"
    },
    "papermill": {
     "duration": 0.016503,
     "end_time": "2024-06-30T21:02:20.149555",
     "exception": false,
     "start_time": "2024-06-30T21:02:20.133052",
     "status": "completed"
    },
    "tags": []
   },
   "outputs": [
    {
     "data": {
      "text/plain": [
       "AnnData object with n_obs × n_vars = 817 × 20\n",
       "    obs: 'sampleID', 'disease', 'Level1'"
      ]
     },
     "execution_count": 7,
     "metadata": {},
     "output_type": "execute_result"
    }
   ],
   "source": [
    "adataPBsample = adata.uns['sampleID'].copy()\n",
    "adataPBsample.obs['sampleID'] = adataPBsample.obs.index\n",
    "adataPBsample = adataPBsample[adataPBsample.obs['sampleID'].isin(adataPBcell.obs['sampleID'])]\n",
    "\n",
    "adataPBsample.obs = adataPBsample.obs.merge(adataPBcell.obs.groupby('sampleID').agg({'disease':'first'}), left_index=True, right_index=True)\n",
    "adataPBsample.obs['Level1'] = 'sample'\n",
    "adataPBsample"
   ]
  },
  {
   "cell_type": "markdown",
   "id": "2d4fe137-7d68-4e86-a85c-3c1a3d3c4c71",
   "metadata": {
    "papermill": {
     "duration": 0.004983,
     "end_time": "2024-06-30T21:02:20.159535",
     "exception": false,
     "start_time": "2024-06-30T21:02:20.154552",
     "status": "completed"
    },
    "tags": []
   },
   "source": [
    "**Merging cell and patient latent features**"
   ]
  },
  {
   "cell_type": "code",
   "execution_count": 8,
   "id": "a326d2b1",
   "metadata": {
    "execution": {
     "iopub.execute_input": "2024-06-30T21:02:20.170299Z",
     "iopub.status.busy": "2024-06-30T21:02:20.169866Z",
     "iopub.status.idle": "2024-06-30T21:02:20.172585Z",
     "shell.execute_reply": "2024-06-30T21:02:20.172205Z"
    },
    "papermill": {
     "duration": 0.008983,
     "end_time": "2024-06-30T21:02:20.173349",
     "exception": false,
     "start_time": "2024-06-30T21:02:20.164366",
     "status": "completed"
    },
    "tags": []
   },
   "outputs": [],
   "source": [
    "PBcellDF = adataPBcell.to_df()\n",
    "PBcellDF['sampleID'] = adataPBcell.obs['sampleID']"
   ]
  },
  {
   "cell_type": "code",
   "execution_count": 9,
   "id": "1a597f46-d9c5-403b-b81e-5738ca206682",
   "metadata": {
    "execution": {
     "iopub.execute_input": "2024-06-30T21:02:20.183872Z",
     "iopub.status.busy": "2024-06-30T21:02:20.183498Z",
     "iopub.status.idle": "2024-06-30T21:02:20.185931Z",
     "shell.execute_reply": "2024-06-30T21:02:20.185560Z"
    },
    "papermill": {
     "duration": 0.008441,
     "end_time": "2024-06-30T21:02:20.186726",
     "exception": false,
     "start_time": "2024-06-30T21:02:20.178285",
     "status": "completed"
    },
    "tags": []
   },
   "outputs": [],
   "source": [
    "PBsampleDF = adataPBsample.to_df()\n",
    "PBsampleDF['sampleID'] = adataPBsample.obs['sampleID']"
   ]
  },
  {
   "cell_type": "code",
   "execution_count": 10,
   "id": "bb384751-fe1b-4635-a90d-fd98ae61b173",
   "metadata": {
    "execution": {
     "iopub.execute_input": "2024-06-30T21:02:20.197706Z",
     "iopub.status.busy": "2024-06-30T21:02:20.197567Z",
     "iopub.status.idle": "2024-06-30T21:02:20.203134Z",
     "shell.execute_reply": "2024-06-30T21:02:20.202761Z"
    },
    "papermill": {
     "duration": 0.012004,
     "end_time": "2024-06-30T21:02:20.203899",
     "exception": false,
     "start_time": "2024-06-30T21:02:20.191895",
     "status": "completed"
    },
    "tags": []
   },
   "outputs": [],
   "source": [
    "PBcell_sampleDF = PBcellDF.merge(PBsampleDF, on='sampleID', how='left')"
   ]
  },
  {
   "cell_type": "code",
   "execution_count": 11,
   "id": "f7250713-e24d-4614-9cbd-eed702340640",
   "metadata": {
    "execution": {
     "iopub.execute_input": "2024-06-30T21:02:20.214768Z",
     "iopub.status.busy": "2024-06-30T21:02:20.214498Z",
     "iopub.status.idle": "2024-06-30T21:02:20.216909Z",
     "shell.execute_reply": "2024-06-30T21:02:20.216541Z"
    },
    "papermill": {
     "duration": 0.008796,
     "end_time": "2024-06-30T21:02:20.217671",
     "exception": false,
     "start_time": "2024-06-30T21:02:20.208875",
     "status": "completed"
    },
    "tags": []
   },
   "outputs": [],
   "source": [
    "assert(adataPBcell.obs['sampleID'].tolist() == PBcell_sampleDF['sampleID'].tolist())"
   ]
  },
  {
   "cell_type": "code",
   "execution_count": 12,
   "id": "abea2252-6a12-4b89-9f0d-6d6df90064fb",
   "metadata": {
    "execution": {
     "iopub.execute_input": "2024-06-30T21:02:20.228373Z",
     "iopub.status.busy": "2024-06-30T21:02:20.228237Z",
     "iopub.status.idle": "2024-06-30T21:02:20.230724Z",
     "shell.execute_reply": "2024-06-30T21:02:20.230354Z"
    },
    "papermill": {
     "duration": 0.008728,
     "end_time": "2024-06-30T21:02:20.231524",
     "exception": false,
     "start_time": "2024-06-30T21:02:20.222796",
     "status": "completed"
    },
    "tags": []
   },
   "outputs": [],
   "source": [
    "PBcell_sampleDF.drop('sampleID', axis=1, inplace=True)"
   ]
  },
  {
   "cell_type": "code",
   "execution_count": 13,
   "id": "5502e45d-5c72-4440-a8c1-5b299cac6e2d",
   "metadata": {
    "execution": {
     "iopub.execute_input": "2024-06-30T21:02:20.242247Z",
     "iopub.status.busy": "2024-06-30T21:02:20.241970Z",
     "iopub.status.idle": "2024-06-30T21:02:20.245606Z",
     "shell.execute_reply": "2024-06-30T21:02:20.245250Z"
    },
    "papermill": {
     "duration": 0.009895,
     "end_time": "2024-06-30T21:02:20.246373",
     "exception": false,
     "start_time": "2024-06-30T21:02:20.236478",
     "status": "completed"
    },
    "tags": []
   },
   "outputs": [
    {
     "data": {
      "text/plain": [
       "AnnData object with n_obs × n_vars = 11372 × 40\n",
       "    obs: 'sampleID', 'Level1', 'disease', 'n_observation'"
      ]
     },
     "execution_count": 13,
     "metadata": {},
     "output_type": "execute_result"
    }
   ],
   "source": [
    "adataPBcell_sample = sc.AnnData(X = PBcell_sampleDF, obs = adataPBcell.obs)\n",
    "adataPBcell_sample"
   ]
  },
  {
   "cell_type": "markdown",
   "id": "d59574be-684b-4082-b8b6-7d11930362ad",
   "metadata": {
    "papermill": {
     "duration": 0.005186,
     "end_time": "2024-06-30T21:02:20.256829",
     "exception": false,
     "start_time": "2024-06-30T21:02:20.251643",
     "status": "completed"
    },
    "tags": []
   },
   "source": [
    "### Saving pseudobulk adata objects"
   ]
  },
  {
   "cell_type": "code",
   "execution_count": 14,
   "id": "5947e6f8-ac27-4702-ba5d-aa9e1ba79f6a",
   "metadata": {
    "execution": {
     "iopub.execute_input": "2024-06-30T21:02:20.270972Z",
     "iopub.status.busy": "2024-06-30T21:02:20.270670Z",
     "iopub.status.idle": "2024-06-30T21:02:20.342000Z",
     "shell.execute_reply": "2024-06-30T21:02:20.341547Z"
    },
    "papermill": {
     "duration": 0.080289,
     "end_time": "2024-06-30T21:02:20.342923",
     "exception": false,
     "start_time": "2024-06-30T21:02:20.262634",
     "status": "completed"
    },
    "tags": []
   },
   "outputs": [],
   "source": [
    "adataPBcell.write(here(adataPATHlist[0].replace('/scPoli_','/PSEUDOBULKs/scPoli_PSEUDOBULKcell_')), compression='gzip')"
   ]
  },
  {
   "cell_type": "code",
   "execution_count": 15,
   "id": "e9485945-bccf-419a-9420-c1e4f3aa262d",
   "metadata": {
    "execution": {
     "iopub.execute_input": "2024-06-30T21:02:20.354428Z",
     "iopub.status.busy": "2024-06-30T21:02:20.354127Z",
     "iopub.status.idle": "2024-06-30T21:02:20.376817Z",
     "shell.execute_reply": "2024-06-30T21:02:20.376428Z"
    },
    "papermill": {
     "duration": 0.029146,
     "end_time": "2024-06-30T21:02:20.377639",
     "exception": false,
     "start_time": "2024-06-30T21:02:20.348493",
     "status": "completed"
    },
    "tags": []
   },
   "outputs": [],
   "source": [
    "adataPBsample.write(here(adataPATHlist[0].replace('/scPoli_','/PSEUDOBULKs/scPoli_PSEUDOBULKsample_')), compression='gzip')"
   ]
  },
  {
   "cell_type": "code",
   "execution_count": 16,
   "id": "9c2daa40-3279-4b24-8aad-65ee0ba758c8",
   "metadata": {
    "execution": {
     "iopub.execute_input": "2024-06-30T21:02:20.389214Z",
     "iopub.status.busy": "2024-06-30T21:02:20.388959Z",
     "iopub.status.idle": "2024-06-30T21:02:20.468378Z",
     "shell.execute_reply": "2024-06-30T21:02:20.467913Z"
    },
    "papermill": {
     "duration": 0.086287,
     "end_time": "2024-06-30T21:02:20.469186",
     "exception": false,
     "start_time": "2024-06-30T21:02:20.382899",
     "status": "completed"
    },
    "tags": []
   },
   "outputs": [],
   "source": [
    "adataPBcell_sample.write(here(adataPATHlist[0].replace('/scPoli_','/PSEUDOBULKs/scPoli_PSEUDOBULKcellSample_')), compression='gzip')"
   ]
  },
  {
   "cell_type": "code",
   "execution_count": null,
   "id": "8a70d9f6-7a44-45ee-8470-702bd7af1e0b",
   "metadata": {
    "papermill": {
     "duration": 0.005148,
     "end_time": "2024-06-30T21:02:20.479748",
     "exception": false,
     "start_time": "2024-06-30T21:02:20.474600",
     "status": "completed"
    },
    "tags": []
   },
   "outputs": [],
   "source": []
  }
 ],
 "metadata": {
  "kernelspec": {
   "display_name": "Python 3 (ipykernel)",
   "language": "python",
   "name": "python3"
  },
  "language_info": {
   "codemirror_mode": {
    "name": "ipython",
    "version": 3
   },
   "file_extension": ".py",
   "mimetype": "text/x-python",
   "name": "python",
   "nbconvert_exporter": "python",
   "pygments_lexer": "ipython3",
   "version": "3.12.3"
  },
  "papermill": {
   "default_parameters": {},
   "duration": 12.348747,
   "end_time": "2024-06-30T21:02:21.099989",
   "environment_variables": {},
   "exception": null,
   "input_path": "03_generating_PSEUDOBULKs.ipynb",
   "output_path": "executed_notebooks/03_generating_PSEUDOBULKs_scPoli_ref_latents_EXTERNAL_2_20_20_run1_iqrndxcb.h5ad.ipynb",
   "parameters": {
    "adataPATH": "03_downstream_analysis/08_PatientClassifier/scPoli/results/scPoli_ref_latents_EXTERNAL_2_20_20_run1_iqrndxcb.h5ad"
   },
   "start_time": "2024-06-30T21:02:08.751242",
   "version": "2.6.0"
  }
 },
 "nbformat": 4,
 "nbformat_minor": 5
}