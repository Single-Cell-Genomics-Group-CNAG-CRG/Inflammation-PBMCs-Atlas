{
 "cells": [
  {
   "cell_type": "code",
   "execution_count": 1,
   "id": "006acc4a",
   "metadata": {
    "execution": {
     "iopub.execute_input": "2024-06-30T20:55:58.820326Z",
     "iopub.status.busy": "2024-06-30T20:55:58.820124Z",
     "iopub.status.idle": "2024-06-30T20:55:58.822716Z",
     "shell.execute_reply": "2024-06-30T20:55:58.822358Z"
    },
    "papermill": {
     "duration": 0.009401,
     "end_time": "2024-06-30T20:55:58.823525",
     "exception": false,
     "start_time": "2024-06-30T20:55:58.814124",
     "status": "completed"
    },
    "tags": [
     "injected-parameters"
    ]
   },
   "outputs": [],
   "source": [
    "# Parameters\n",
    "adataPATH = \"03_downstream_analysis/08_PatientClassifier/scPoli/results/scPoli_ref_latents_VALIDATION_2_20_50_*.h5ad\"\n"
   ]
  },
  {
   "cell_type": "raw",
   "id": "bf9880bd-3aef-477b-807d-37e3c5603037",
   "metadata": {
    "execution": {
     "iopub.execute_input": "2024-06-29T08:23:25.403219Z",
     "iopub.status.busy": "2024-06-29T08:23:25.402857Z",
     "iopub.status.idle": "2024-06-29T08:23:25.406428Z",
     "shell.execute_reply": "2024-06-29T08:23:25.406014Z",
     "shell.execute_reply.started": "2024-06-29T08:23:25.403185Z"
    },
    "papermill": {
     "duration": 0.004951,
     "end_time": "2024-06-30T20:55:58.833129",
     "exception": false,
     "start_time": "2024-06-30T20:55:58.828178",
     "status": "completed"
    },
    "tags": [],
    "vscode": {
     "languageId": "raw"
    }
   },
   "source": [
    "adataMAINpath = '03_downstream_analysis/08_PatientClassifier/scPoli/results/scPoli_2_100_20_*.h5ad'\n",
    "\n",
    "adataVALpath = '03_downstream_analysis/08_PatientClassifier/scPoli/results/scPoli_VALIDATION_2_20_20*.h5ad'\n",
    "adataEXCpath = '03_downstream_analysis/08_PatientClassifier/scPoli/results/scPoli_EXCLUDED_2_100_20_run1_pd5nyb4g.h5ad'\n",
    "adataEXTpath = '03_downstream_analysis/08_PatientClassifier/scPoli/results/scPoli_EXTERNAL_2_100_20_run1_pd5nyb4g.h5ad'\n",
    "\n",
    "adataPATH = adataVALpath"
   ]
  },
  {
   "cell_type": "code",
   "execution_count": 2,
   "id": "d3ccb10a-7201-43d0-a593-2b4650ff3451",
   "metadata": {
    "execution": {
     "iopub.execute_input": "2024-06-30T20:55:58.843105Z",
     "iopub.status.busy": "2024-06-30T20:55:58.842704Z",
     "iopub.status.idle": "2024-06-30T20:55:58.845712Z",
     "shell.execute_reply": "2024-06-30T20:55:58.845339Z"
    },
    "papermill": {
     "duration": 0.008733,
     "end_time": "2024-06-30T20:55:58.846496",
     "exception": false,
     "start_time": "2024-06-30T20:55:58.837763",
     "status": "completed"
    },
    "tags": []
   },
   "outputs": [
    {
     "name": "stdout",
     "output_type": "stream",
     "text": [
      "adataPATH = 03_downstream_analysis/08_PatientClassifier/scPoli/results/scPoli_ref_latents_VALIDATION_2_20_50_*.h5ad\n"
     ]
    }
   ],
   "source": [
    "for v in ['adataPATH']:\n",
    "    if v in locals() or v in globals():\n",
    "        print(f\"{v} = {eval(v)}\")\n",
    "    else:\n",
    "        raise Exception(f\"{v} not specified\")"
   ]
  },
  {
   "cell_type": "code",
   "execution_count": 3,
   "id": "888fb5f4-9ab7-4196-a282-7a7e92a43971",
   "metadata": {
    "execution": {
     "iopub.execute_input": "2024-06-30T20:55:58.856853Z",
     "iopub.status.busy": "2024-06-30T20:55:58.856466Z",
     "iopub.status.idle": "2024-06-30T20:56:00.319905Z",
     "shell.execute_reply": "2024-06-30T20:56:00.319405Z"
    },
    "papermill": {
     "duration": 1.469955,
     "end_time": "2024-06-30T20:56:00.321054",
     "exception": false,
     "start_time": "2024-06-30T20:55:58.851099",
     "status": "completed"
    },
    "tags": []
   },
   "outputs": [],
   "source": [
    "import os\n",
    "import sys\n",
    "from glob import glob\n",
    "\n",
    "import scanpy as sc\n",
    "import pandas as pd\n",
    "\n",
    "from pyprojroot import here\n",
    "\n",
    "sys.path.insert(1, str(here('bin')))\n",
    "# Import custom functions\n",
    "from customPythonFunctions import aggregating_features"
   ]
  },
  {
   "cell_type": "markdown",
   "id": "ba4905ae-4546-4ef4-b57b-950441ab079d",
   "metadata": {
    "papermill": {
     "duration": 0.005654,
     "end_time": "2024-06-30T20:56:00.331666",
     "exception": false,
     "start_time": "2024-06-30T20:56:00.326012",
     "status": "completed"
    },
    "tags": []
   },
   "source": [
    "### Loading data"
   ]
  },
  {
   "cell_type": "code",
   "execution_count": 4,
   "id": "539cbbbb-3503-4f51-bf04-f007f928ebd1",
   "metadata": {
    "execution": {
     "iopub.execute_input": "2024-06-30T20:56:00.347799Z",
     "iopub.status.busy": "2024-06-30T20:56:00.347304Z",
     "iopub.status.idle": "2024-06-30T20:56:00.351299Z",
     "shell.execute_reply": "2024-06-30T20:56:00.350910Z"
    },
    "papermill": {
     "duration": 0.010114,
     "end_time": "2024-06-30T20:56:00.352064",
     "exception": false,
     "start_time": "2024-06-30T20:56:00.341950",
     "status": "completed"
    },
    "tags": []
   },
   "outputs": [],
   "source": [
    "adataPATHlist = glob(str(here(adataPATH)))\n",
    "assert(len(adataPATHlist) == 1)"
   ]
  },
  {
   "cell_type": "code",
   "execution_count": 5,
   "id": "0fcfce0a-896b-4dc0-8e5e-46749205c84f",
   "metadata": {
    "execution": {
     "iopub.execute_input": "2024-06-30T20:56:00.366819Z",
     "iopub.status.busy": "2024-06-30T20:56:00.366541Z",
     "iopub.status.idle": "2024-06-30T20:56:07.453641Z",
     "shell.execute_reply": "2024-06-30T20:56:07.453185Z"
    },
    "papermill": {
     "duration": 7.093189,
     "end_time": "2024-06-30T20:56:07.454591",
     "exception": false,
     "start_time": "2024-06-30T20:56:00.361402",
     "status": "completed"
    },
    "tags": []
   },
   "outputs": [
    {
     "data": {
      "text/plain": [
       "AnnData object with n_obs × n_vars = 4435922 × 20\n",
       "    obs: 'studyID', 'libraryID', 'sampleID', 'chemistry', 'disease', 'sex', 'binned_age', 'Level1', 'Level2'\n",
       "    uns: 'chemistry', 'sampleID'"
      ]
     },
     "execution_count": 5,
     "metadata": {},
     "output_type": "execute_result"
    }
   ],
   "source": [
    "adata = sc.read_h5ad(adataPATHlist[0])\n",
    "adata"
   ]
  },
  {
   "cell_type": "markdown",
   "id": "44e868b3-0771-4225-bd79-a4b179bc672b",
   "metadata": {
    "papermill": {
     "duration": 0.005001,
     "end_time": "2024-06-30T20:56:07.464837",
     "exception": false,
     "start_time": "2024-06-30T20:56:07.459836",
     "status": "completed"
    },
    "tags": []
   },
   "source": [
    "#### Generating PSEUDOBULKs"
   ]
  },
  {
   "cell_type": "markdown",
   "id": "97d09fc5-d05c-471e-87fa-fe58ccbe47ac",
   "metadata": {
    "papermill": {
     "duration": 0.004681,
     "end_time": "2024-06-30T20:56:07.474835",
     "exception": false,
     "start_time": "2024-06-30T20:56:07.470154",
     "status": "completed"
    },
    "tags": []
   },
   "source": [
    "**Aggregating cell latent features**"
   ]
  },
  {
   "cell_type": "code",
   "execution_count": 6,
   "id": "81223976-fcf6-4354-8964-b12d76468636",
   "metadata": {
    "execution": {
     "iopub.execute_input": "2024-06-30T20:56:07.485328Z",
     "iopub.status.busy": "2024-06-30T20:56:07.484920Z",
     "iopub.status.idle": "2024-06-30T20:56:09.147768Z",
     "shell.execute_reply": "2024-06-30T20:56:09.147305Z"
    },
    "papermill": {
     "duration": 1.669065,
     "end_time": "2024-06-30T20:56:09.148593",
     "exception": false,
     "start_time": "2024-06-30T20:56:07.479528",
     "status": "completed"
    },
    "tags": []
   },
   "outputs": [
    {
     "data": {
      "text/plain": [
       "AnnData object with n_obs × n_vars = 11372 × 20\n",
       "    obs: 'sampleID', 'Level1', 'disease', 'n_observation'"
      ]
     },
     "execution_count": 6,
     "metadata": {},
     "output_type": "execute_result"
    }
   ],
   "source": [
    "adataPBcell = aggregating_features(Z = adata.X, \n",
    "                             obsDF = adata.obs[['sampleID','Level1','disease']], \n",
    "                             mode = 'mean', \n",
    "                             obs_names_col=['sampleID','Level1'], \n",
    "                             min_observation=0)\n",
    "adataPBcell"
   ]
  },
  {
   "cell_type": "code",
   "execution_count": null,
   "id": "8495038e-aebd-4003-bd94-c1e49f47249e",
   "metadata": {
    "papermill": {
     "duration": 0.004836,
     "end_time": "2024-06-30T20:56:09.158591",
     "exception": false,
     "start_time": "2024-06-30T20:56:09.153755",
     "status": "completed"
    },
    "tags": []
   },
   "outputs": [],
   "source": []
  },
  {
   "cell_type": "markdown",
   "id": "6d602bad-4793-4aa4-b3d7-d118d413a0fc",
   "metadata": {
    "papermill": {
     "duration": 0.004952,
     "end_time": "2024-06-30T20:56:09.168859",
     "exception": false,
     "start_time": "2024-06-30T20:56:09.163907",
     "status": "completed"
    },
    "tags": []
   },
   "source": [
    "**Extracting sample embedding**"
   ]
  },
  {
   "cell_type": "code",
   "execution_count": 7,
   "id": "e2c14f02",
   "metadata": {
    "execution": {
     "iopub.execute_input": "2024-06-30T20:56:09.183466Z",
     "iopub.status.busy": "2024-06-30T20:56:09.183050Z",
     "iopub.status.idle": "2024-06-30T20:56:09.192909Z",
     "shell.execute_reply": "2024-06-30T20:56:09.192536Z"
    },
    "papermill": {
     "duration": 0.016071,
     "end_time": "2024-06-30T20:56:09.193729",
     "exception": false,
     "start_time": "2024-06-30T20:56:09.177658",
     "status": "completed"
    },
    "tags": []
   },
   "outputs": [
    {
     "data": {
      "text/plain": [
       "AnnData object with n_obs × n_vars = 817 × 50\n",
       "    obs: 'sampleID', 'disease', 'Level1'"
      ]
     },
     "execution_count": 7,
     "metadata": {},
     "output_type": "execute_result"
    }
   ],
   "source": [
    "adataPBsample = adata.uns['sampleID'].copy()\n",
    "adataPBsample.obs['sampleID'] = adataPBsample.obs.index\n",
    "adataPBsample = adataPBsample[adataPBsample.obs['sampleID'].isin(adataPBcell.obs['sampleID'])]\n",
    "\n",
    "adataPBsample.obs = adataPBsample.obs.merge(adataPBcell.obs.groupby('sampleID').agg({'disease':'first'}), left_index=True, right_index=True)\n",
    "adataPBsample.obs['Level1'] = 'sample'\n",
    "adataPBsample"
   ]
  },
  {
   "cell_type": "markdown",
   "id": "2d4fe137-7d68-4e86-a85c-3c1a3d3c4c71",
   "metadata": {
    "papermill": {
     "duration": 0.005318,
     "end_time": "2024-06-30T20:56:09.204293",
     "exception": false,
     "start_time": "2024-06-30T20:56:09.198975",
     "status": "completed"
    },
    "tags": []
   },
   "source": [
    "**Merging cell and patient latent features**"
   ]
  },
  {
   "cell_type": "code",
   "execution_count": 8,
   "id": "a326d2b1",
   "metadata": {
    "execution": {
     "iopub.execute_input": "2024-06-30T20:56:09.216049Z",
     "iopub.status.busy": "2024-06-30T20:56:09.215687Z",
     "iopub.status.idle": "2024-06-30T20:56:09.218240Z",
     "shell.execute_reply": "2024-06-30T20:56:09.217867Z"
    },
    "papermill": {
     "duration": 0.008876,
     "end_time": "2024-06-30T20:56:09.219015",
     "exception": false,
     "start_time": "2024-06-30T20:56:09.210139",
     "status": "completed"
    },
    "tags": []
   },
   "outputs": [],
   "source": [
    "PBcellDF = adataPBcell.to_df()\n",
    "PBcellDF['sampleID'] = adataPBcell.obs['sampleID']"
   ]
  },
  {
   "cell_type": "code",
   "execution_count": 9,
   "id": "1a597f46-d9c5-403b-b81e-5738ca206682",
   "metadata": {
    "execution": {
     "iopub.execute_input": "2024-06-30T20:56:09.230001Z",
     "iopub.status.busy": "2024-06-30T20:56:09.229529Z",
     "iopub.status.idle": "2024-06-30T20:56:09.232363Z",
     "shell.execute_reply": "2024-06-30T20:56:09.231994Z"
    },
    "papermill": {
     "duration": 0.009147,
     "end_time": "2024-06-30T20:56:09.233127",
     "exception": false,
     "start_time": "2024-06-30T20:56:09.223980",
     "status": "completed"
    },
    "tags": []
   },
   "outputs": [],
   "source": [
    "PBsampleDF = adataPBsample.to_df()\n",
    "PBsampleDF['sampleID'] = adataPBsample.obs['sampleID']"
   ]
  },
  {
   "cell_type": "code",
   "execution_count": 10,
   "id": "bb384751-fe1b-4635-a90d-fd98ae61b173",
   "metadata": {
    "execution": {
     "iopub.execute_input": "2024-06-30T20:56:09.243965Z",
     "iopub.status.busy": "2024-06-30T20:56:09.243831Z",
     "iopub.status.idle": "2024-06-30T20:56:09.250111Z",
     "shell.execute_reply": "2024-06-30T20:56:09.249721Z"
    },
    "papermill": {
     "duration": 0.012487,
     "end_time": "2024-06-30T20:56:09.250889",
     "exception": false,
     "start_time": "2024-06-30T20:56:09.238402",
     "status": "completed"
    },
    "tags": []
   },
   "outputs": [],
   "source": [
    "PBcell_sampleDF = PBcellDF.merge(PBsampleDF, on='sampleID', how='left')"
   ]
  },
  {
   "cell_type": "code",
   "execution_count": 11,
   "id": "f7250713-e24d-4614-9cbd-eed702340640",
   "metadata": {
    "execution": {
     "iopub.execute_input": "2024-06-30T20:56:09.262317Z",
     "iopub.status.busy": "2024-06-30T20:56:09.261835Z",
     "iopub.status.idle": "2024-06-30T20:56:09.264552Z",
     "shell.execute_reply": "2024-06-30T20:56:09.264182Z"
    },
    "papermill": {
     "duration": 0.00922,
     "end_time": "2024-06-30T20:56:09.265307",
     "exception": false,
     "start_time": "2024-06-30T20:56:09.256087",
     "status": "completed"
    },
    "tags": []
   },
   "outputs": [],
   "source": [
    "assert(adataPBcell.obs['sampleID'].tolist() == PBcell_sampleDF['sampleID'].tolist())"
   ]
  },
  {
   "cell_type": "code",
   "execution_count": 12,
   "id": "abea2252-6a12-4b89-9f0d-6d6df90064fb",
   "metadata": {
    "execution": {
     "iopub.execute_input": "2024-06-30T20:56:09.276605Z",
     "iopub.status.busy": "2024-06-30T20:56:09.276170Z",
     "iopub.status.idle": "2024-06-30T20:56:09.279293Z",
     "shell.execute_reply": "2024-06-30T20:56:09.278923Z"
    },
    "papermill": {
     "duration": 0.009741,
     "end_time": "2024-06-30T20:56:09.280093",
     "exception": false,
     "start_time": "2024-06-30T20:56:09.270352",
     "status": "completed"
    },
    "tags": []
   },
   "outputs": [],
   "source": [
    "PBcell_sampleDF.drop('sampleID', axis=1, inplace=True)"
   ]
  },
  {
   "cell_type": "code",
   "execution_count": 13,
   "id": "5502e45d-5c72-4440-a8c1-5b299cac6e2d",
   "metadata": {
    "execution": {
     "iopub.execute_input": "2024-06-30T20:56:09.291616Z",
     "iopub.status.busy": "2024-06-30T20:56:09.291330Z",
     "iopub.status.idle": "2024-06-30T20:56:09.295111Z",
     "shell.execute_reply": "2024-06-30T20:56:09.294751Z"
    },
    "papermill": {
     "duration": 0.01011,
     "end_time": "2024-06-30T20:56:09.295884",
     "exception": false,
     "start_time": "2024-06-30T20:56:09.285774",
     "status": "completed"
    },
    "tags": []
   },
   "outputs": [
    {
     "data": {
      "text/plain": [
       "AnnData object with n_obs × n_vars = 11372 × 70\n",
       "    obs: 'sampleID', 'Level1', 'disease', 'n_observation'"
      ]
     },
     "execution_count": 13,
     "metadata": {},
     "output_type": "execute_result"
    }
   ],
   "source": [
    "adataPBcell_sample = sc.AnnData(X = PBcell_sampleDF, obs = adataPBcell.obs)\n",
    "adataPBcell_sample"
   ]
  },
  {
   "cell_type": "markdown",
   "id": "d59574be-684b-4082-b8b6-7d11930362ad",
   "metadata": {
    "papermill": {
     "duration": 0.005415,
     "end_time": "2024-06-30T20:56:09.307315",
     "exception": false,
     "start_time": "2024-06-30T20:56:09.301900",
     "status": "completed"
    },
    "tags": []
   },
   "source": [
    "### Saving pseudobulk adata objects"
   ]
  },
  {
   "cell_type": "code",
   "execution_count": 14,
   "id": "5947e6f8-ac27-4702-ba5d-aa9e1ba79f6a",
   "metadata": {
    "execution": {
     "iopub.execute_input": "2024-06-30T20:56:09.319470Z",
     "iopub.status.busy": "2024-06-30T20:56:09.319178Z",
     "iopub.status.idle": "2024-06-30T20:56:09.397623Z",
     "shell.execute_reply": "2024-06-30T20:56:09.397143Z"
    },
    "papermill": {
     "duration": 0.08574,
     "end_time": "2024-06-30T20:56:09.398455",
     "exception": false,
     "start_time": "2024-06-30T20:56:09.312715",
     "status": "completed"
    },
    "tags": []
   },
   "outputs": [],
   "source": [
    "adataPBcell.write(here(adataPATHlist[0].replace('/scPoli_','/PSEUDOBULKs/scPoli_PSEUDOBULKcell_')), compression='gzip')"
   ]
  },
  {
   "cell_type": "code",
   "execution_count": 15,
   "id": "e9485945-bccf-419a-9420-c1e4f3aa262d",
   "metadata": {
    "execution": {
     "iopub.execute_input": "2024-06-30T20:56:09.409789Z",
     "iopub.status.busy": "2024-06-30T20:56:09.409319Z",
     "iopub.status.idle": "2024-06-30T20:56:09.436254Z",
     "shell.execute_reply": "2024-06-30T20:56:09.435805Z"
    },
    "papermill": {
     "duration": 0.033305,
     "end_time": "2024-06-30T20:56:09.437091",
     "exception": false,
     "start_time": "2024-06-30T20:56:09.403786",
     "status": "completed"
    },
    "tags": []
   },
   "outputs": [],
   "source": [
    "adataPBsample.write(here(adataPATHlist[0].replace('/scPoli_','/PSEUDOBULKs/scPoli_PSEUDOBULKsample_')), compression='gzip')"
   ]
  },
  {
   "cell_type": "code",
   "execution_count": 16,
   "id": "9c2daa40-3279-4b24-8aad-65ee0ba758c8",
   "metadata": {
    "execution": {
     "iopub.execute_input": "2024-06-30T20:56:09.448364Z",
     "iopub.status.busy": "2024-06-30T20:56:09.448018Z",
     "iopub.status.idle": "2024-06-30T20:56:09.541594Z",
     "shell.execute_reply": "2024-06-30T20:56:09.541091Z"
    },
    "papermill": {
     "duration": 0.099946,
     "end_time": "2024-06-30T20:56:09.542420",
     "exception": false,
     "start_time": "2024-06-30T20:56:09.442474",
     "status": "completed"
    },
    "tags": []
   },
   "outputs": [],
   "source": [
    "adataPBcell_sample.write(here(adataPATHlist[0].replace('/scPoli_','/PSEUDOBULKs/scPoli_PSEUDOBULKcellSample_')), compression='gzip')"
   ]
  },
  {
   "cell_type": "code",
   "execution_count": null,
   "id": "8a70d9f6-7a44-45ee-8470-702bd7af1e0b",
   "metadata": {
    "papermill": {
     "duration": 0.005251,
     "end_time": "2024-06-30T20:56:09.552783",
     "exception": false,
     "start_time": "2024-06-30T20:56:09.547532",
     "status": "completed"
    },
    "tags": []
   },
   "outputs": [],
   "source": []
  }
 ],
 "metadata": {
  "kernelspec": {
   "display_name": "Python 3 (ipykernel)",
   "language": "python",
   "name": "python3"
  },
  "language_info": {
   "codemirror_mode": {
    "name": "ipython",
    "version": 3
   },
   "file_extension": ".py",
   "mimetype": "text/x-python",
   "name": "python",
   "nbconvert_exporter": "python",
   "pygments_lexer": "ipython3",
   "version": "3.12.3"
  },
  "papermill": {
   "default_parameters": {},
   "duration": 12.456601,
   "end_time": "2024-06-30T20:56:10.177765",
   "environment_variables": {},
   "exception": null,
   "input_path": "03_generating_PSEUDOBULKs.ipynb",
   "output_path": "executed_notebooks/03_generating_PSEUDOBULKs_ref_latents_VALIDATION_20nEmb_50nPEmb.ipynb",
   "parameters": {
    "adataPATH": "03_downstream_analysis/08_PatientClassifier/scPoli/results/scPoli_ref_latents_VALIDATION_2_20_50_*.h5ad"
   },
   "start_time": "2024-06-30T20:55:57.721164",
   "version": "2.6.0"
  }
 },
 "nbformat": 4,
 "nbformat_minor": 5
}