{
 "cells": [
  {
   "cell_type": "code",
   "execution_count": 1,
   "id": "db501c0d",
   "metadata": {
    "execution": {
     "iopub.execute_input": "2024-06-30T21:00:15.020844Z",
     "iopub.status.busy": "2024-06-30T21:00:15.020478Z",
     "iopub.status.idle": "2024-06-30T21:00:15.023010Z",
     "shell.execute_reply": "2024-06-30T21:00:15.022651Z"
    },
    "papermill": {
     "duration": 0.010987,
     "end_time": "2024-06-30T21:00:15.023863",
     "exception": false,
     "start_time": "2024-06-30T21:00:15.012876",
     "status": "completed"
    },
    "tags": [
     "injected-parameters"
    ]
   },
   "outputs": [],
   "source": [
    "# Parameters\n",
    "adataPATH = \"03_downstream_analysis/08_PatientClassifier/scPoli/results/scPoli_VALIDATION_2_30_100_run3_b683xjoz.h5ad\"\n"
   ]
  },
  {
   "cell_type": "raw",
   "id": "bf9880bd-3aef-477b-807d-37e3c5603037",
   "metadata": {
    "execution": {
     "iopub.execute_input": "2024-06-29T08:23:25.403219Z",
     "iopub.status.busy": "2024-06-29T08:23:25.402857Z",
     "iopub.status.idle": "2024-06-29T08:23:25.406428Z",
     "shell.execute_reply": "2024-06-29T08:23:25.406014Z",
     "shell.execute_reply.started": "2024-06-29T08:23:25.403185Z"
    },
    "papermill": {
     "duration": 0.004982,
     "end_time": "2024-06-30T21:00:15.034461",
     "exception": false,
     "start_time": "2024-06-30T21:00:15.029479",
     "status": "completed"
    },
    "tags": [],
    "vscode": {
     "languageId": "raw"
    }
   },
   "source": [
    "adataMAINpath = '03_downstream_analysis/08_PatientClassifier/scPoli/results/scPoli_2_100_20_*.h5ad'\n",
    "\n",
    "adataVALpath = '03_downstream_analysis/08_PatientClassifier/scPoli/results/scPoli_VALIDATION_2_20_20*.h5ad'\n",
    "adataEXCpath = '03_downstream_analysis/08_PatientClassifier/scPoli/results/scPoli_EXCLUDED_2_100_20_run1_pd5nyb4g.h5ad'\n",
    "adataEXTpath = '03_downstream_analysis/08_PatientClassifier/scPoli/results/scPoli_EXTERNAL_2_100_20_run1_pd5nyb4g.h5ad'\n",
    "\n",
    "adataPATH = adataVALpath"
   ]
  },
  {
   "cell_type": "code",
   "execution_count": 2,
   "id": "d3ccb10a-7201-43d0-a593-2b4650ff3451",
   "metadata": {
    "execution": {
     "iopub.execute_input": "2024-06-30T21:00:15.051780Z",
     "iopub.status.busy": "2024-06-30T21:00:15.051473Z",
     "iopub.status.idle": "2024-06-30T21:00:15.054472Z",
     "shell.execute_reply": "2024-06-30T21:00:15.054090Z"
    },
    "papermill": {
     "duration": 0.01548,
     "end_time": "2024-06-30T21:00:15.055258",
     "exception": false,
     "start_time": "2024-06-30T21:00:15.039778",
     "status": "completed"
    },
    "tags": []
   },
   "outputs": [
    {
     "name": "stdout",
     "output_type": "stream",
     "text": [
      "adataPATH = 03_downstream_analysis/08_PatientClassifier/scPoli/results/scPoli_VALIDATION_2_30_100_run3_b683xjoz.h5ad\n"
     ]
    }
   ],
   "source": [
    "for v in ['adataPATH']:\n",
    "    if v in locals() or v in globals():\n",
    "        print(f\"{v} = {eval(v)}\")\n",
    "    else:\n",
    "        raise Exception(f\"{v} not specified\")"
   ]
  },
  {
   "cell_type": "code",
   "execution_count": 3,
   "id": "888fb5f4-9ab7-4196-a282-7a7e92a43971",
   "metadata": {
    "execution": {
     "iopub.execute_input": "2024-06-30T21:00:15.071546Z",
     "iopub.status.busy": "2024-06-30T21:00:15.071104Z",
     "iopub.status.idle": "2024-06-30T21:00:16.563002Z",
     "shell.execute_reply": "2024-06-30T21:00:16.562530Z"
    },
    "papermill": {
     "duration": 1.498866,
     "end_time": "2024-06-30T21:00:16.564186",
     "exception": false,
     "start_time": "2024-06-30T21:00:15.065320",
     "status": "completed"
    },
    "tags": []
   },
   "outputs": [],
   "source": [
    "import os\n",
    "import sys\n",
    "from glob import glob\n",
    "\n",
    "import scanpy as sc\n",
    "import pandas as pd\n",
    "\n",
    "from pyprojroot import here\n",
    "\n",
    "sys.path.insert(1, str(here('bin')))\n",
    "# Import custom functions\n",
    "from customPythonFunctions import aggregating_features"
   ]
  },
  {
   "cell_type": "markdown",
   "id": "ba4905ae-4546-4ef4-b57b-950441ab079d",
   "metadata": {
    "papermill": {
     "duration": 0.004802,
     "end_time": "2024-06-30T21:00:16.574394",
     "exception": false,
     "start_time": "2024-06-30T21:00:16.569592",
     "status": "completed"
    },
    "tags": []
   },
   "source": [
    "### Loading data"
   ]
  },
  {
   "cell_type": "code",
   "execution_count": 4,
   "id": "539cbbbb-3503-4f51-bf04-f007f928ebd1",
   "metadata": {
    "execution": {
     "iopub.execute_input": "2024-06-30T21:00:16.585418Z",
     "iopub.status.busy": "2024-06-30T21:00:16.584891Z",
     "iopub.status.idle": "2024-06-30T21:00:16.588476Z",
     "shell.execute_reply": "2024-06-30T21:00:16.588102Z"
    },
    "papermill": {
     "duration": 0.009794,
     "end_time": "2024-06-30T21:00:16.589276",
     "exception": false,
     "start_time": "2024-06-30T21:00:16.579482",
     "status": "completed"
    },
    "tags": []
   },
   "outputs": [],
   "source": [
    "adataPATHlist = glob(str(here(adataPATH)))\n",
    "assert(len(adataPATHlist) == 1)"
   ]
  },
  {
   "cell_type": "code",
   "execution_count": 5,
   "id": "0fcfce0a-896b-4dc0-8e5e-46749205c84f",
   "metadata": {
    "execution": {
     "iopub.execute_input": "2024-06-30T21:00:16.599909Z",
     "iopub.status.busy": "2024-06-30T21:00:16.599652Z",
     "iopub.status.idle": "2024-06-30T21:00:18.027431Z",
     "shell.execute_reply": "2024-06-30T21:00:18.026972Z"
    },
    "papermill": {
     "duration": 1.433949,
     "end_time": "2024-06-30T21:00:18.028261",
     "exception": false,
     "start_time": "2024-06-30T21:00:16.594312",
     "status": "completed"
    },
    "tags": []
   },
   "outputs": [
    {
     "data": {
      "text/plain": [
       "AnnData object with n_obs × n_vars = 849922 × 30\n",
       "    obs: 'studyID', 'libraryID', 'sampleID', 'chemistry', 'technology', 'disease', 'sex', 'binned_age', 'Level1', 'Level2', 'conditions_combined', 'Level1_unc', 'Level2_unc'\n",
       "    uns: 'chemistry', 'sampleID'"
      ]
     },
     "execution_count": 5,
     "metadata": {},
     "output_type": "execute_result"
    }
   ],
   "source": [
    "adata = sc.read_h5ad(adataPATHlist[0])\n",
    "adata"
   ]
  },
  {
   "cell_type": "markdown",
   "id": "44e868b3-0771-4225-bd79-a4b179bc672b",
   "metadata": {
    "papermill": {
     "duration": 0.005755,
     "end_time": "2024-06-30T21:00:18.040217",
     "exception": false,
     "start_time": "2024-06-30T21:00:18.034462",
     "status": "completed"
    },
    "tags": []
   },
   "source": [
    "#### Generating PSEUDOBULKs"
   ]
  },
  {
   "cell_type": "markdown",
   "id": "97d09fc5-d05c-471e-87fa-fe58ccbe47ac",
   "metadata": {
    "papermill": {
     "duration": 0.005139,
     "end_time": "2024-06-30T21:00:18.050699",
     "exception": false,
     "start_time": "2024-06-30T21:00:18.045560",
     "status": "completed"
    },
    "tags": []
   },
   "source": [
    "**Aggregating cell latent features**"
   ]
  },
  {
   "cell_type": "code",
   "execution_count": 6,
   "id": "81223976-fcf6-4354-8964-b12d76468636",
   "metadata": {
    "execution": {
     "iopub.execute_input": "2024-06-30T21:00:18.062438Z",
     "iopub.status.busy": "2024-06-30T21:00:18.062283Z",
     "iopub.status.idle": "2024-06-30T21:00:18.419260Z",
     "shell.execute_reply": "2024-06-30T21:00:18.418818Z"
    },
    "papermill": {
     "duration": 0.364078,
     "end_time": "2024-06-30T21:00:18.420187",
     "exception": false,
     "start_time": "2024-06-30T21:00:18.056109",
     "status": "completed"
    },
    "tags": []
   },
   "outputs": [
    {
     "data": {
      "text/plain": [
       "AnnData object with n_obs × n_vars = 2113 × 30\n",
       "    obs: 'sampleID', 'Level1', 'disease', 'n_observation'"
      ]
     },
     "execution_count": 6,
     "metadata": {},
     "output_type": "execute_result"
    }
   ],
   "source": [
    "adataPBcell = aggregating_features(Z = adata.X, \n",
    "                             obsDF = adata.obs[['sampleID','Level1','disease']], \n",
    "                             mode = 'mean', \n",
    "                             obs_names_col=['sampleID','Level1'], \n",
    "                             min_observation=0)\n",
    "adataPBcell"
   ]
  },
  {
   "cell_type": "code",
   "execution_count": null,
   "id": "8495038e-aebd-4003-bd94-c1e49f47249e",
   "metadata": {
    "papermill": {
     "duration": 0.00537,
     "end_time": "2024-06-30T21:00:18.431344",
     "exception": false,
     "start_time": "2024-06-30T21:00:18.425974",
     "status": "completed"
    },
    "tags": []
   },
   "outputs": [],
   "source": []
  },
  {
   "cell_type": "markdown",
   "id": "6d602bad-4793-4aa4-b3d7-d118d413a0fc",
   "metadata": {
    "papermill": {
     "duration": 0.005081,
     "end_time": "2024-06-30T21:00:18.445138",
     "exception": false,
     "start_time": "2024-06-30T21:00:18.440057",
     "status": "completed"
    },
    "tags": []
   },
   "source": [
    "**Extracting sample embedding**"
   ]
  },
  {
   "cell_type": "code",
   "execution_count": 7,
   "id": "e2c14f02",
   "metadata": {
    "execution": {
     "iopub.execute_input": "2024-06-30T21:00:18.456578Z",
     "iopub.status.busy": "2024-06-30T21:00:18.456194Z",
     "iopub.status.idle": "2024-06-30T21:00:18.464459Z",
     "shell.execute_reply": "2024-06-30T21:00:18.464077Z"
    },
    "papermill": {
     "duration": 0.014906,
     "end_time": "2024-06-30T21:00:18.465228",
     "exception": false,
     "start_time": "2024-06-30T21:00:18.450322",
     "status": "completed"
    },
    "tags": []
   },
   "outputs": [
    {
     "data": {
      "text/plain": [
       "AnnData object with n_obs × n_vars = 144 × 100\n",
       "    obs: 'sampleID', 'disease', 'Level1'"
      ]
     },
     "execution_count": 7,
     "metadata": {},
     "output_type": "execute_result"
    }
   ],
   "source": [
    "adataPBsample = adata.uns['sampleID'].copy()\n",
    "adataPBsample.obs['sampleID'] = adataPBsample.obs.index\n",
    "adataPBsample = adataPBsample[adataPBsample.obs['sampleID'].isin(adataPBcell.obs['sampleID'])]\n",
    "\n",
    "adataPBsample.obs = adataPBsample.obs.merge(adataPBcell.obs.groupby('sampleID').agg({'disease':'first'}), left_index=True, right_index=True)\n",
    "adataPBsample.obs['Level1'] = 'sample'\n",
    "adataPBsample"
   ]
  },
  {
   "cell_type": "markdown",
   "id": "2d4fe137-7d68-4e86-a85c-3c1a3d3c4c71",
   "metadata": {
    "papermill": {
     "duration": 0.00573,
     "end_time": "2024-06-30T21:00:18.476629",
     "exception": false,
     "start_time": "2024-06-30T21:00:18.470899",
     "status": "completed"
    },
    "tags": []
   },
   "source": [
    "**Merging cell and patient latent features**"
   ]
  },
  {
   "cell_type": "code",
   "execution_count": 8,
   "id": "a326d2b1",
   "metadata": {
    "execution": {
     "iopub.execute_input": "2024-06-30T21:00:18.488415Z",
     "iopub.status.busy": "2024-06-30T21:00:18.488066Z",
     "iopub.status.idle": "2024-06-30T21:00:18.490478Z",
     "shell.execute_reply": "2024-06-30T21:00:18.490096Z"
    },
    "papermill": {
     "duration": 0.009182,
     "end_time": "2024-06-30T21:00:18.491228",
     "exception": false,
     "start_time": "2024-06-30T21:00:18.482046",
     "status": "completed"
    },
    "tags": []
   },
   "outputs": [],
   "source": [
    "PBcellDF = adataPBcell.to_df()\n",
    "PBcellDF['sampleID'] = adataPBcell.obs['sampleID']"
   ]
  },
  {
   "cell_type": "code",
   "execution_count": 9,
   "id": "1a597f46-d9c5-403b-b81e-5738ca206682",
   "metadata": {
    "execution": {
     "iopub.execute_input": "2024-06-30T21:00:18.502733Z",
     "iopub.status.busy": "2024-06-30T21:00:18.502378Z",
     "iopub.status.idle": "2024-06-30T21:00:18.504805Z",
     "shell.execute_reply": "2024-06-30T21:00:18.504434Z"
    },
    "papermill": {
     "duration": 0.00901,
     "end_time": "2024-06-30T21:00:18.505555",
     "exception": false,
     "start_time": "2024-06-30T21:00:18.496545",
     "status": "completed"
    },
    "tags": []
   },
   "outputs": [],
   "source": [
    "PBsampleDF = adataPBsample.to_df()\n",
    "PBsampleDF['sampleID'] = adataPBsample.obs['sampleID']"
   ]
  },
  {
   "cell_type": "code",
   "execution_count": 10,
   "id": "bb384751-fe1b-4635-a90d-fd98ae61b173",
   "metadata": {
    "execution": {
     "iopub.execute_input": "2024-06-30T21:00:18.526596Z",
     "iopub.status.busy": "2024-06-30T21:00:18.526263Z",
     "iopub.status.idle": "2024-06-30T21:00:18.530644Z",
     "shell.execute_reply": "2024-06-30T21:00:18.530267Z"
    },
    "papermill": {
     "duration": 0.011637,
     "end_time": "2024-06-30T21:00:18.531390",
     "exception": false,
     "start_time": "2024-06-30T21:00:18.519753",
     "status": "completed"
    },
    "tags": []
   },
   "outputs": [],
   "source": [
    "PBcell_sampleDF = PBcellDF.merge(PBsampleDF, on='sampleID', how='left')"
   ]
  },
  {
   "cell_type": "code",
   "execution_count": 11,
   "id": "f7250713-e24d-4614-9cbd-eed702340640",
   "metadata": {
    "execution": {
     "iopub.execute_input": "2024-06-30T21:00:18.543236Z",
     "iopub.status.busy": "2024-06-30T21:00:18.542967Z",
     "iopub.status.idle": "2024-06-30T21:00:18.545255Z",
     "shell.execute_reply": "2024-06-30T21:00:18.544878Z"
    },
    "papermill": {
     "duration": 0.008976,
     "end_time": "2024-06-30T21:00:18.545989",
     "exception": false,
     "start_time": "2024-06-30T21:00:18.537013",
     "status": "completed"
    },
    "tags": []
   },
   "outputs": [],
   "source": [
    "assert(adataPBcell.obs['sampleID'].tolist() == PBcell_sampleDF['sampleID'].tolist())"
   ]
  },
  {
   "cell_type": "code",
   "execution_count": 12,
   "id": "abea2252-6a12-4b89-9f0d-6d6df90064fb",
   "metadata": {
    "execution": {
     "iopub.execute_input": "2024-06-30T21:00:18.557902Z",
     "iopub.status.busy": "2024-06-30T21:00:18.557603Z",
     "iopub.status.idle": "2024-06-30T21:00:18.560141Z",
     "shell.execute_reply": "2024-06-30T21:00:18.559775Z"
    },
    "papermill": {
     "duration": 0.009319,
     "end_time": "2024-06-30T21:00:18.560932",
     "exception": false,
     "start_time": "2024-06-30T21:00:18.551613",
     "status": "completed"
    },
    "tags": []
   },
   "outputs": [],
   "source": [
    "PBcell_sampleDF.drop('sampleID', axis=1, inplace=True)"
   ]
  },
  {
   "cell_type": "code",
   "execution_count": 13,
   "id": "5502e45d-5c72-4440-a8c1-5b299cac6e2d",
   "metadata": {
    "execution": {
     "iopub.execute_input": "2024-06-30T21:00:18.580402Z",
     "iopub.status.busy": "2024-06-30T21:00:18.579902Z",
     "iopub.status.idle": "2024-06-30T21:00:18.583663Z",
     "shell.execute_reply": "2024-06-30T21:00:18.583301Z"
    },
    "papermill": {
     "duration": 0.011089,
     "end_time": "2024-06-30T21:00:18.584426",
     "exception": false,
     "start_time": "2024-06-30T21:00:18.573337",
     "status": "completed"
    },
    "tags": []
   },
   "outputs": [
    {
     "data": {
      "text/plain": [
       "AnnData object with n_obs × n_vars = 2113 × 130\n",
       "    obs: 'sampleID', 'Level1', 'disease', 'n_observation'"
      ]
     },
     "execution_count": 13,
     "metadata": {},
     "output_type": "execute_result"
    }
   ],
   "source": [
    "adataPBcell_sample = sc.AnnData(X = PBcell_sampleDF, obs = adataPBcell.obs)\n",
    "adataPBcell_sample"
   ]
  },
  {
   "cell_type": "markdown",
   "id": "d59574be-684b-4082-b8b6-7d11930362ad",
   "metadata": {
    "papermill": {
     "duration": 0.005447,
     "end_time": "2024-06-30T21:00:18.595455",
     "exception": false,
     "start_time": "2024-06-30T21:00:18.590008",
     "status": "completed"
    },
    "tags": []
   },
   "source": [
    "### Saving pseudobulk adata objects"
   ]
  },
  {
   "cell_type": "code",
   "execution_count": 14,
   "id": "5947e6f8-ac27-4702-ba5d-aa9e1ba79f6a",
   "metadata": {
    "execution": {
     "iopub.execute_input": "2024-06-30T21:00:18.607376Z",
     "iopub.status.busy": "2024-06-30T21:00:18.607008Z",
     "iopub.status.idle": "2024-06-30T21:00:18.642024Z",
     "shell.execute_reply": "2024-06-30T21:00:18.641613Z"
    },
    "papermill": {
     "duration": 0.041998,
     "end_time": "2024-06-30T21:00:18.642961",
     "exception": false,
     "start_time": "2024-06-30T21:00:18.600963",
     "status": "completed"
    },
    "tags": []
   },
   "outputs": [],
   "source": [
    "adataPBcell.write(here(adataPATHlist[0].replace('/scPoli_','/PSEUDOBULKs/scPoli_PSEUDOBULKcell_')), compression='gzip')"
   ]
  },
  {
   "cell_type": "code",
   "execution_count": 15,
   "id": "e9485945-bccf-419a-9420-c1e4f3aa262d",
   "metadata": {
    "execution": {
     "iopub.execute_input": "2024-06-30T21:00:18.654874Z",
     "iopub.status.busy": "2024-06-30T21:00:18.654500Z",
     "iopub.status.idle": "2024-06-30T21:00:18.676198Z",
     "shell.execute_reply": "2024-06-30T21:00:18.675820Z"
    },
    "papermill": {
     "duration": 0.028403,
     "end_time": "2024-06-30T21:00:18.676998",
     "exception": false,
     "start_time": "2024-06-30T21:00:18.648595",
     "status": "completed"
    },
    "tags": []
   },
   "outputs": [],
   "source": [
    "adataPBsample.write(here(adataPATHlist[0].replace('/scPoli_','/PSEUDOBULKs/scPoli_PSEUDOBULKsample_')), compression='gzip')"
   ]
  },
  {
   "cell_type": "code",
   "execution_count": 16,
   "id": "9c2daa40-3279-4b24-8aad-65ee0ba758c8",
   "metadata": {
    "execution": {
     "iopub.execute_input": "2024-06-30T21:00:18.689093Z",
     "iopub.status.busy": "2024-06-30T21:00:18.688828Z",
     "iopub.status.idle": "2024-06-30T21:00:18.729832Z",
     "shell.execute_reply": "2024-06-30T21:00:18.729425Z"
    },
    "papermill": {
     "duration": 0.047807,
     "end_time": "2024-06-30T21:00:18.730645",
     "exception": false,
     "start_time": "2024-06-30T21:00:18.682838",
     "status": "completed"
    },
    "tags": []
   },
   "outputs": [],
   "source": [
    "adataPBcell_sample.write(here(adataPATHlist[0].replace('/scPoli_','/PSEUDOBULKs/scPoli_PSEUDOBULKcellSample_')), compression='gzip')"
   ]
  },
  {
   "cell_type": "code",
   "execution_count": null,
   "id": "8a70d9f6-7a44-45ee-8470-702bd7af1e0b",
   "metadata": {
    "papermill": {
     "duration": 0.005699,
     "end_time": "2024-06-30T21:00:18.742625",
     "exception": false,
     "start_time": "2024-06-30T21:00:18.736926",
     "status": "completed"
    },
    "tags": []
   },
   "outputs": [],
   "source": []
  }
 ],
 "metadata": {
  "kernelspec": {
   "display_name": "Python 3 (ipykernel)",
   "language": "python",
   "name": "python3"
  },
  "language_info": {
   "codemirror_mode": {
    "name": "ipython",
    "version": 3
   },
   "file_extension": ".py",
   "mimetype": "text/x-python",
   "name": "python",
   "nbconvert_exporter": "python",
   "pygments_lexer": "ipython3",
   "version": "3.12.3"
  },
  "papermill": {
   "default_parameters": {},
   "duration": 5.381916,
   "end_time": "2024-06-30T21:00:19.263293",
   "environment_variables": {},
   "exception": null,
   "input_path": "03_generating_PSEUDOBULKs.ipynb",
   "output_path": "executed_notebooks/03_generating_PSEUDOBULKs_scPoli_VALIDATION_2_30_100_run3_b683xjoz.h5ad.ipynb",
   "parameters": {
    "adataPATH": "03_downstream_analysis/08_PatientClassifier/scPoli/results/scPoli_VALIDATION_2_30_100_run3_b683xjoz.h5ad"
   },
   "start_time": "2024-06-30T21:00:13.881377",
   "version": "2.6.0"
  }
 },
 "nbformat": 4,
 "nbformat_minor": 5
}