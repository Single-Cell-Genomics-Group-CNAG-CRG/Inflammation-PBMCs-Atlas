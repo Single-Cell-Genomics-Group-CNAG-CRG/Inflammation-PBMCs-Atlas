{
 "cells": [
  {
   "cell_type": "code",
   "execution_count": null,
   "id": "0ed993ce",
   "metadata": {
    "tags": [
     "parameters"
    ]
   },
   "outputs": [],
   "source": [
    "LATENT_DIM: int = 20\n",
    "RUN_TAG: str = \"test\"\n",
    "LEARNING_RATE: float = 1e-3\n",
    "PATIENT_EMBEDDING_DIM: int = 20\n",
    "BUCKET_DIRPATH: str = \"\""
   ]
  },
  {
   "cell_type": "code",
   "execution_count": null,
   "id": "4424ac82-ce82-4047-b9bf-200b161c7caf",
   "metadata": {},
   "outputs": [],
   "source": [
    "assert isinstance(N_LAYERS, int)\n",
    "assert isinstance(LATENT_DIM, int)"
   ]
  },
  {
   "cell_type": "code",
   "execution_count": null,
   "id": "ce5e9cc9-90f3-49ce-b34a-1ca5652be7c8",
   "metadata": {
    "papermill": {
     "duration": 3.489415,
     "end_time": "2024-04-16T19:10:50.916822",
     "exception": false,
     "start_time": "2024-04-16T19:10:47.427407",
     "status": "completed"
    },
    "tags": []
   },
   "outputs": [],
   "source": [
    "import os\n",
    "import sys\n",
    "\n",
    "import json\n",
    "\n",
    "import numpy as np\n",
    "import scanpy as sc\n",
    "import pandas as pd\n",
    "import matplotlib.pyplot as plt\n",
    "import seaborn as sns\n",
    "from sklearn.metrics import classification_report\n",
    "from scarches.models.scpoli import scPoli\n",
    "\n",
    "import torch\n",
    "\n",
    "from dotenv import load_dotenv\n",
    "\n",
    "from lightning.pytorch.loggers import WandbLogger\n",
    "import wandb\n",
    "\n",
    "import session_info\n",
    "import warnings\n",
    "from pyprojroot.here import here\n",
    "\n",
    "torch.set_float32_matmul_precision('high')\n",
    "\n",
    "#plt.style.use(['science','nature','no-latex'])\n",
    "dpi_fig_save = 300\n",
    "sc.set_figure_params(dpi=100, dpi_save=dpi_fig_save, vector_friendly=True)\n",
    "\n",
    "# Setting some parameters\n",
    "warnings.filterwarnings(\"ignore\")\n",
    "\n",
    "from sklearn.model_selection import StratifiedKFold\n",
    "\n",
    "overwriteData = True\n",
    "overwriteFigures = True\n",
    "\n",
    "# Set random seed\n",
    "random_seed = 5\n",
    "\n",
    "import warnings\n",
    "warnings.filterwarnings('ignore')\n",
    "%load_ext autoreload\n",
    "%autoreload 2"
   ]
  },
  {
   "cell_type": "code",
   "execution_count": null,
   "id": "32fb60d1",
   "metadata": {},
   "outputs": [],
   "source": [
    "def here(fpath):\n",
    "    return os.path.join(BUCKET_DIRPATH, fpath)"
   ]
  },
  {
   "cell_type": "markdown",
   "id": "cc0b303c-daab-44a1-add8-b6c9dc05045f",
   "metadata": {},
   "source": [
    "## Custom scPoli"
   ]
  },
  {
   "cell_type": "code",
   "execution_count": null,
   "id": "67565eca-785b-4e24-b446-f6442ceb9c7c",
   "metadata": {},
   "outputs": [],
   "source": [
    "from scarches.trainers.scpoli.trainer import scPoliTrainer\n",
    "from scarches.models.scpoli.scpoli_model import scPoli\n",
    "\n",
    "from scarches.dataset.scpoli.anndata import MultiConditionAnnotatedDataset\n",
    "\n",
    "class CustomScPoliTrainer(scPoliTrainer):\n",
    "\n",
    "    def __init__(self, *args, w_logger, prefix=\"\", **kwargs):\n",
    "        super().__init__(*args, **kwargs)\n",
    "        self.w_logger = w_logger\n",
    "        self.steps = -1\n",
    "        self.prefix = prefix\n",
    "        self.lr_factor = 1\n",
    "        self.w_logger.define_metric(\"global_step\")\n",
    "        self.w_logger.define_metric(\"*\", step_metric=\"global_step\", step_sync=True)\n",
    "\n",
    "    def on_iteration(self, batch_data):\n",
    "        super().on_iteration(batch_data)\n",
    "        self.steps += 1\n",
    "        key = self.prefix + \"train_loss\"\n",
    "        self.w_logger.log({key: self.current_loss, 'global_step':self.steps})\n",
    "\n",
    "    def on_epoch_end(self):\n",
    "        super().on_epoch_end()\n",
    "        \n",
    "        self.w_logger.log({self.prefix+'epoch': self.epoch, 'global_step':self.steps})\n",
    "\n",
    "        for metric in self.logs:\n",
    "            if metric.startswith('val_'):\n",
    "                self.w_logger.log({self.prefix + metric: self.logs[metric][-1], 'global_step':self.steps})\n",
    "            else:\n",
    "                self.w_logger.log({self.prefix + \"epoch_\" + metric: self.logs[metric][-1], 'global_step': self.steps})\n",
    "                \n",
    "    def loss(self, total_batch=None):\n",
    "        latent, recon_loss, kl_loss, mmd_loss = self.model(**total_batch)\n",
    "        self.iter_logs[\"recon_loss\"].append(recon_loss.item())\n",
    "        self.iter_logs[\"kl_loss\"].append(kl_loss.item())\n",
    "        self.iter_logs[\"mmd_loss\"].append(mmd_loss.item())\n",
    "\n",
    "        #calculate classifier loss for labeled/unlabeled data\n",
    "        label_categories = total_batch[\"labeled\"].unique().tolist()\n",
    "        unweighted_prototype_loss = torch.tensor(0.0, device=self.device)\n",
    "        unlabeled_loss = torch.tensor(0.0, device=self.device)\n",
    "        labeled_loss = torch.tensor(0.0, device=self.device)\n",
    "        if self.epoch >= self.pretraining_epochs:\n",
    "            #calculate prototype loss for all data\n",
    "            if self.prototypes_unlabeled is not None:\n",
    "                unlabeled_loss, _ = self.prototype_unlabeled_loss(\n",
    "                    latent,\n",
    "                    torch.stack(self.prototypes_unlabeled).squeeze(),\n",
    "                )\n",
    "                unweighted_prototype_loss = (\n",
    "                    unweighted_prototype_loss + self.unlabeled_weight * unlabeled_loss\n",
    "                )\n",
    "\n",
    "            # Calculate prototype loss for labeled data\n",
    "            if (self.any_labeled_data is True) and (self.prototype_training is True):\n",
    "                labeled_loss = self.prototype_labeled_loss(\n",
    "                    latent[torch.where(total_batch[\"labeled\"] == 1)[0], :],\n",
    "                    self.prototypes_labeled,\n",
    "                    total_batch[\"celltypes\"][\n",
    "                        torch.where(total_batch[\"labeled\"] == 1)[0], :\n",
    "                    ],\n",
    "                )\n",
    "                unweighted_prototype_loss = unweighted_prototype_loss + labeled_loss\n",
    "\n",
    "        # Loss addition and Logs\n",
    "        prototype_loss = self.eta * unweighted_prototype_loss\n",
    "        cvae_loss = recon_loss + self.calc_alpha_coeff() * kl_loss + mmd_loss\n",
    "        loss = cvae_loss + prototype_loss\n",
    "        self.iter_logs[\"loss\"].append(loss.item())\n",
    "        self.iter_logs[\"unweighted_loss\"].append(\n",
    "            recon_loss.item()\n",
    "            + kl_loss.item()\n",
    "            + mmd_loss.item()\n",
    "            + unweighted_prototype_loss.item()\n",
    "        )\n",
    "        self.iter_logs[\"cvae_loss\"].append(cvae_loss.item())\n",
    "        if self.epoch >= self.pretraining_epochs:\n",
    "            self.iter_logs[\"prototype_loss\"].append(prototype_loss.item())\n",
    "            if 0 in label_categories or self.model.unknown_ct_names is not None:\n",
    "                self.iter_logs[\"unlabeled_loss\"].append(unlabeled_loss.item())\n",
    "            if 1 in label_categories:\n",
    "                self.iter_logs[\"labeled_loss\"].append(labeled_loss.item())\n",
    "        return loss\n",
    "    \n",
    "\n",
    "    def calc_alpha_coeff(self):\n",
    "        alpha_coeff = super().calc_alpha_coeff()\n",
    "        self.w_logger.log({'alpha_coeff': alpha_coeff, 'global_step':self.steps})\n",
    "        return alpha_coeff\n",
    "\n",
    "    def check_early_stop(self):\n",
    "        # Calculate Early Stopping and best state\n",
    "        early_stopping_metric = self.early_stopping.early_stopping_metric\n",
    "        if self.early_stopping.update_state(self.logs[early_stopping_metric][-1]):\n",
    "            self.best_state_dict = self.model.state_dict()\n",
    "            self.best_epoch = self.epoch\n",
    "\n",
    "        continue_training, update_lr = self.early_stopping.step(self.logs[early_stopping_metric][-1])\n",
    "        if update_lr:\n",
    "            print(f'\\nADJUSTED LR')\n",
    "            self.lr_factor *= self.early_stopping.lr_factor\n",
    "            for param_group in self.optimizer.param_groups:\n",
    "                param_group[\"lr\"] *= self.early_stopping.lr_factor\n",
    "        \n",
    "        self.w_logger.log({'lr_factor': self.lr_factor, 'global_step': self.steps})\n",
    "\n",
    "        return continue_training\n",
    "\n",
    "\n",
    "class CustomScPoli(scPoli):\n",
    "    def train(\n",
    "        self,\n",
    "        n_epochs: int = 100,\n",
    "        pretraining_epochs=None,\n",
    "        eta: float = 1,\n",
    "        lr: float = 1e-3,\n",
    "        eps: float = 0.01,\n",
    "        alpha_epoch_anneal = 1e2,\n",
    "        reload_best: bool = False,\n",
    "        prototype_training = True,\n",
    "        unlabeled_prototype_training = True,\n",
    "        w_logger = None,\n",
    "        prefix = \"\",\n",
    "        **kwargs,\n",
    "    ):\n",
    "        \"\"\"Train the model.\n",
    "\n",
    "        Parameters\n",
    "        ----------\n",
    "        n_epochs\n",
    "             Number of epochs for training the model.\n",
    "        lr\n",
    "             Learning rate for training the model.\n",
    "        eps\n",
    "             torch.optim.Adam eps parameter\n",
    "        kwargs\n",
    "             kwargs for the scPoli trainer.\n",
    "        \"\"\"\n",
    "        self.prototype_training_ = prototype_training\n",
    "        self.unlabeled_prototype_training_ = unlabeled_prototype_training\n",
    "        if self.cell_type_keys_ is None:\n",
    "            pretraining_epochs = n_epochs\n",
    "            self.prototype_training_ = False\n",
    "            print(\"The model is being trained without using prototypes.\")\n",
    "        elif pretraining_epochs is None:\n",
    "            pretraining_epochs = int(np.floor(n_epochs * 0.9))\n",
    "\n",
    "\n",
    "        self.trainer = CustomScPoliTrainer(\n",
    "            self.model,\n",
    "            self.adata,\n",
    "            labeled_indices=self.labeled_indices_,\n",
    "            pretraining_epochs=pretraining_epochs,\n",
    "            condition_keys=self.condition_keys_,\n",
    "            cell_type_keys=self.cell_type_keys_,\n",
    "            reload_best=reload_best,\n",
    "            prototype_training=self.prototype_training_,\n",
    "            unlabeled_prototype_training=self.unlabeled_prototype_training_,\n",
    "            eta=eta,\n",
    "            alpha_epoch_anneal=alpha_epoch_anneal,\n",
    "            w_logger=w_logger,\n",
    "            prefix = prefix,\n",
    "            **kwargs,\n",
    "        )\n",
    "        print(\"ScPoliTrainer Initialized\")\n",
    "        self.trainer.train(n_epochs, lr, eps)\n",
    "        self.is_trained_ = True\n",
    "        self.prototypes_labeled_ = self.model.prototypes_labeled\n",
    "        self.prototypes_unlabeled_ = self.model.prototypes_unlabeled"
   ]
  },
  {
   "cell_type": "code",
   "execution_count": null,
   "id": "34522100-314f-4bc6-bb75-e4d2a12fedeb",
   "metadata": {
    "papermill": {
     "duration": 0.063791,
     "end_time": "2024-04-16T19:10:50.997131",
     "exception": false,
     "start_time": "2024-04-16T19:10:50.933340",
     "status": "completed"
    },
    "tags": []
   },
   "outputs": [],
   "source": [
    "assert load_dotenv()"
   ]
  },
  {
   "cell_type": "markdown",
   "id": "ace46d13-bc0d-4a08-bea2-5f4f3a1c1c11",
   "metadata": {
    "execution": {
     "iopub.execute_input": "2024-04-10T14:14:35.228151Z",
     "iopub.status.busy": "2024-04-10T14:14:35.226856Z",
     "iopub.status.idle": "2024-04-10T14:14:35.273260Z",
     "shell.execute_reply": "2024-04-10T14:14:35.272159Z",
     "shell.execute_reply.started": "2024-04-10T14:14:35.228101Z"
    },
    "papermill": {
     "duration": 0.006633,
     "end_time": "2024-04-16T19:10:51.115800",
     "exception": false,
     "start_time": "2024-04-16T19:10:51.109167",
     "status": "completed"
    },
    "tags": []
   },
   "source": [
    "# Loading data\n"
   ]
  },
  {
   "cell_type": "code",
   "execution_count": null,
   "id": "941bc7fc-6767-4ac7-91da-4b22b664a133",
   "metadata": {
    "papermill": {
     "duration": 136.429512,
     "end_time": "2024-04-16T19:13:07.551623",
     "exception": false,
     "start_time": "2024-04-16T19:10:51.122111",
     "status": "completed"
    },
    "tags": []
   },
   "outputs": [],
   "source": [
    "# Load the h5ad file\n",
    "adata_path = '04_MAIN_geneUniverse.h5ad'\n",
    "adata = sc.read_h5ad(adata_path)"
   ]
  },
  {
   "cell_type": "code",
   "execution_count": null,
   "id": "5b780b2b-3bd1-4a02-a32f-79c1cbf372a4",
   "metadata": {},
   "outputs": [],
   "source": [
    "adata"
   ]
  },
  {
   "cell_type": "markdown",
   "id": "e21f8f4d-e625-42b5-800c-1999cd0a21ba",
   "metadata": {
    "papermill": {
     "duration": 0.007218,
     "end_time": "2024-04-16T19:14:25.921600",
     "exception": false,
     "start_time": "2024-04-16T19:14:25.914382",
     "status": "completed"
    },
    "tags": []
   },
   "source": [
    "### Setting up parameters for scPoly training"
   ]
  },
  {
   "cell_type": "code",
   "execution_count": null,
   "id": "d147d2f7-70b3-4f80-9522-5f024a6221dc",
   "metadata": {},
   "outputs": [],
   "source": [
    "scPoli_params = dict()"
   ]
  },
  {
   "cell_type": "code",
   "execution_count": null,
   "id": "11690826-127c-4de7-b2fb-a9ac9916db61",
   "metadata": {
    "papermill": {
     "duration": 0.062463,
     "end_time": "2024-04-16T19:14:25.992869",
     "exception": false,
     "start_time": "2024-04-16T19:14:25.930406",
     "status": "completed"
    },
    "tags": []
   },
   "outputs": [],
   "source": [
    "early_stopping_kwargs = {\n",
    "    \"early_stopping_metric\": \"val_prototype_loss\",\n",
    "    \"mode\": \"min\",\n",
    "    \"threshold\": 0.1, \n",
    "    \"patience\": 5,\n",
    "    \"reduce_lr\": False,\n",
    "    \"lr_patience\": 5,\n",
    "    \"lr_factor\": 0.1,\n",
    "}"
   ]
  },
  {
   "cell_type": "code",
   "execution_count": null,
   "id": "799af6bc-e705-4eec-9e39-a51b6e5d7789",
   "metadata": {},
   "outputs": [],
   "source": [
    "model_parameters_dict = {\n",
    "    \"condition_keys\":['chemistry','sampleID'],\n",
    "    \"cell_type_keys\":['Level1', 'Level2'],\n",
    "    \"embedding_dims\":[3,PATIENT_EMBEDDING_DIM],\n",
    "    \"latent_dim\": LATENT_DIM,\n",
    "    \"recon_loss\":'nb'\n",
    "}"
   ]
  },
  {
   "cell_type": "code",
   "execution_count": null,
   "id": "8ea51d05-a567-4129-bd41-70cc02fff3c0",
   "metadata": {},
   "outputs": [],
   "source": [
    "train_parameters_dict = {\n",
    "    \"lr\": LEARNING_RATE,\n",
    "    \"n_epochs\": 1000,\n",
    "    \"alpha_epoch_anneal\": 200,\n",
    "    \"pretraining_epochs\": 40,\n",
    "    \"eta\": 1, \n",
    "    \"unlabeled_prototype_training\": False,\n",
    "    \"n_workers\": 8\n",
    "}"
   ]
  },
  {
   "cell_type": "code",
   "execution_count": null,
   "id": "85622be5-1084-4c10-a789-99d62255fb7d",
   "metadata": {},
   "outputs": [],
   "source": [
    "scPoli_params.update(early_stopping_kwargs)\n",
    "scPoli_params.update(model_parameters_dict)\n",
    "scPoli_params.update(train_parameters_dict)\n",
    "scPoli_params"
   ]
  },
  {
   "cell_type": "markdown",
   "id": "94250309-4623-43bc-919b-0a92af6df850",
   "metadata": {
    "papermill": {
     "duration": 0.01102,
     "end_time": "2024-04-16T19:14:26.019355",
     "exception": false,
     "start_time": "2024-04-16T19:14:26.008335",
     "status": "completed"
    },
    "tags": []
   },
   "source": [
    "#### Connect to wandb"
   ]
  },
  {
   "cell_type": "code",
   "execution_count": null,
   "id": "b85ef790-24df-4ce6-b1c8-97756f20d656",
   "metadata": {
    "papermill": {
     "duration": 8.622923,
     "end_time": "2024-04-16T19:14:34.652706",
     "exception": false,
     "start_time": "2024-04-16T19:14:26.029783",
     "status": "completed"
    },
    "tags": []
   },
   "outputs": [],
   "source": [
    "logger = wandb.init(\n",
    "    project='inflammation_atlas_PatientClassifier_scPoly', \n",
    "    entity='inflammation',\n",
    "    config=scPoli_params,\n",
    "    name = f'scPoli_{N_LAYERS}_{LATENT_DIM}_{PATIENT_EMBEDDING_DIM}_{RUN_TAG}',\n",
    "    tags = [RUN_TAG]\n",
    ")"
   ]
  },
  {
   "cell_type": "code",
   "execution_count": null,
   "id": "36ad1b99",
   "metadata": {},
   "outputs": [],
   "source": [
    "WANDB_ID = logger.id"
   ]
  },
  {
   "cell_type": "code",
   "execution_count": null,
   "id": "5f12a5dc-14fd-40aa-89ee-9ad1ca22c67f",
   "metadata": {},
   "outputs": [],
   "source": [
    "RunParams = dict(random_seed=random_seed, wandb_run_id = logger.id)\n",
    "RunParams.update(scPoli_params)\n",
    "RunParams"
   ]
  },
  {
   "cell_type": "markdown",
   "id": "2cf55a3e-e353-4992-9c8b-188f252b1598",
   "metadata": {
    "papermill": {
     "duration": 0.010257,
     "end_time": "2024-04-16T19:14:34.680581",
     "exception": false,
     "start_time": "2024-04-16T19:14:34.670324",
     "status": "completed"
    },
    "tags": []
   },
   "source": [
    "# scPoly integration"
   ]
  },
  {
   "cell_type": "markdown",
   "id": "424078c4-da48-4857-a8da-2c963468d1ee",
   "metadata": {},
   "source": [
    "LOOK HERE FOR PARAMETERS: https://github.com/theislab/scPoli_reproduce/blob/main/pbmc8M/lataq_czi_8Mpbmc.py"
   ]
  },
  {
   "cell_type": "code",
   "execution_count": null,
   "id": "eb5a5cc3-2f64-4cb6-a1c4-5bdd4b9d86be",
   "metadata": {
    "papermill": {
     "duration": 5.103458,
     "end_time": "2024-04-16T19:14:39.797324",
     "exception": false,
     "start_time": "2024-04-16T19:14:34.693866",
     "status": "completed"
    },
    "tags": []
   },
   "outputs": [],
   "source": [
    "scpoli_model = CustomScPoli( \n",
    "    adata=adata, \n",
    "    condition_keys=model_parameters_dict['condition_keys'],\n",
    "    cell_type_keys=model_parameters_dict['cell_type_keys'],\n",
    "    embedding_dims=model_parameters_dict['embedding_dims'],\n",
    "    latent_dim = model_parameters_dict['latent_dim'], #let's try the value in between the suggested upper and lower bounds (i.e., 10 and 20)\n",
    "    recon_loss=model_parameters_dict['recon_loss']\n",
    ")"
   ]
  },
  {
   "cell_type": "code",
   "execution_count": null,
   "id": "e86656f0-2733-4b82-a725-2b6102aebf98",
   "metadata": {
    "papermill": {
     "duration": 20615.867581,
     "end_time": "2024-04-17T00:58:15.682662",
     "exception": false,
     "start_time": "2024-04-16T19:14:39.815081",
     "status": "completed"
    },
    "tags": []
   },
   "outputs": [],
   "source": [
    "scpoli_model.train(\n",
    "    **train_parameters_dict,\n",
    "    early_stopping_kwargs=early_stopping_kwargs,\n",
    "    w_logger=logger,\n",
    "    prefix=\"train/\"\n",
    ")"
   ]
  },
  {
   "cell_type": "code",
   "execution_count": null,
   "id": "6377469e-dca7-425f-9761-2257925fdc22",
   "metadata": {
    "execution": {
     "iopub.status.busy": "2024-04-19T17:27:26.986455Z",
     "iopub.status.idle": "2024-04-19T17:27:26.986844Z",
     "shell.execute_reply": "2024-04-19T17:27:26.986663Z",
     "shell.execute_reply.started": "2024-04-19T17:27:26.986647Z"
    },
    "papermill": {
     "duration": 5.298574,
     "end_time": "2024-04-17T00:58:21.080225",
     "exception": false,
     "start_time": "2024-04-17T00:58:15.781651",
     "status": "completed"
    },
    "tags": []
   },
   "outputs": [],
   "source": [
    "wandb.finish()    "
   ]
  },
  {
   "cell_type": "markdown",
   "id": "d6e8ed1f-daf9-4b89-b2cf-9ee9c0efbf14",
   "metadata": {
    "papermill": {
     "duration": 0.014811,
     "end_time": "2024-04-17T00:58:21.118221",
     "exception": false,
     "start_time": "2024-04-17T00:58:21.103410",
     "status": "completed"
    },
    "tags": []
   },
   "source": [
    "## Save the results"
   ]
  },
  {
   "cell_type": "code",
   "execution_count": null,
   "id": "e29b0840-19f6-4fc8-b181-b4f07f52354f",
   "metadata": {
    "execution": {
     "iopub.execute_input": "2024-04-19T17:27:40.019905Z",
     "iopub.status.busy": "2024-04-19T17:27:40.019228Z",
     "iopub.status.idle": "2024-04-19T17:27:40.093549Z",
     "shell.execute_reply": "2024-04-19T17:27:40.092694Z",
     "shell.execute_reply.started": "2024-04-19T17:27:40.019873Z"
    },
    "papermill": {
     "duration": 0.791742,
     "end_time": "2024-04-17T00:58:21.923153",
     "exception": false,
     "start_time": "2024-04-17T00:58:21.131411",
     "status": "completed"
    },
    "tags": []
   },
   "outputs": [],
   "source": [
    "if overwriteData:\n",
    "    scpoli_model.save(\n",
    "        f\"results/scPoly_model_{N_LAYERS}_{LATENT_DIM}_{PATIENT_EMBEDDING_DIM}_{RUN_TAG}_{WANDB_ID}\", \n",
    "        overwrite = True, \n",
    "        save_anndata = False)"
   ]
  },
  {
   "cell_type": "code",
   "execution_count": null,
   "id": "b93f1c19",
   "metadata": {},
   "outputs": [],
   "source": [
    "latents = scpoli_model.get_latent(\n",
    "    adata,\n",
    "    mean=True\n",
    ")"
   ]
  },
  {
   "cell_type": "code",
   "execution_count": null,
   "id": "d7fe1914",
   "metadata": {},
   "outputs": [],
   "source": [
    "final_ad = sc.AnnData(\n",
    "    X=latents, \n",
    "    obs=adata.obs\n",
    ")"
   ]
  },
  {
   "cell_type": "code",
   "execution_count": null,
   "id": "0e73b1f9",
   "metadata": {},
   "outputs": [],
   "source": [
    "final_ad.uns.update(scpoli_model.get_conditional_embeddings())"
   ]
  },
  {
   "cell_type": "code",
   "execution_count": null,
   "id": "ad2a6ae2",
   "metadata": {},
   "outputs": [],
   "source": [
    "final_ad.write(\n",
    "    here(f\"03_Downstream_Analysis/PatientClassifier/scPoli/results/01_reference/output/scPoli_{N_LAYERS}_{LATENT_DIM}_{PATIENT_EMBEDDING_DIM}_{RUN_TAG}_{WANDB_ID}.h5ad\"), \n",
    "    compression='gzip')"
   ]
  }
 ],
 "metadata": {
  "environment": {
   "kernel": "conda-root-py",
   "name": "workbench-notebooks.m120",
   "type": "gcloud",
   "uri": "us-docker.pkg.dev/deeplearning-platform-release/gcr.io/workbench-notebooks:m120"
  },
  "kernelspec": {
   "display_name": "Python 3 (ipykernel)",
   "language": "python",
   "name": "python3"
  },
  "language_info": {
   "codemirror_mode": {
    "name": "ipython",
    "version": 3
   },
   "file_extension": ".py",
   "mimetype": "text/x-python",
   "name": "python",
   "nbconvert_exporter": "python",
   "pygments_lexer": "ipython3",
   "version": "3.10.13"
  },
  "papermill": {
   "default_parameters": {},
   "duration": 20858.637916,
   "end_time": "2024-04-17T00:58:25.162747",
   "environment_variables": {},
   "exception": null,
   "input_path": "01_scPoly_5FcV_training.ipynb",
   "output_path": "01_scPoly_5FcV_training.ipynb",
   "parameters": {},
   "start_time": "2024-04-16T19:10:46.524831",
   "version": "2.5.0"
  }
 },
 "nbformat": 4,
 "nbformat_minor": 5
}
