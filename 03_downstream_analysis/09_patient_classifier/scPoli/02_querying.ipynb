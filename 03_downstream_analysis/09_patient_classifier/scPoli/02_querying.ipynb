{
 "cells": [
  {
   "cell_type": "code",
   "execution_count": null,
   "metadata": {
    "tags": [
     "parameters"
    ]
   },
   "outputs": [],
   "source": [
    "SCPOLI_ID: str\n",
    "QUERY_ADATA_NAME: str\n",
    "BUCKET_DIRPATH: str\n",
    "N_EPOCHS: int = 50\n",
    "PRETRAINING_EPOCHS: int = 40\n",
    "ETA: int = 1\n",
    "LEARNING_RATE: float = 1e-3"
   ]
  },
  {
   "cell_type": "code",
   "execution_count": null,
   "metadata": {},
   "outputs": [],
   "source": [
    "from scarches.models import scPoli\n",
    "import scanpy as sc\n",
    "import wandb\n",
    "import os\n",
    "import numpy as np\n",
    "from dotenv import load_dotenv"
   ]
  },
  {
   "cell_type": "code",
   "execution_count": null,
   "metadata": {},
   "outputs": [],
   "source": [
    "assert load_dotenv()"
   ]
  },
  {
   "cell_type": "code",
   "execution_count": null,
   "metadata": {},
   "outputs": [],
   "source": [
    "def here(fpath):\n",
    "    return os.path.join(BUCKET_DIRPATH, fpath)"
   ]
  },
  {
   "cell_type": "code",
   "execution_count": null,
   "metadata": {},
   "outputs": [],
   "source": [
    "overwriteData = True"
   ]
  },
  {
   "cell_type": "code",
   "execution_count": null,
   "metadata": {},
   "outputs": [],
   "source": [
    "reference_adata = sc.read_h5ad(\n",
    "   \"04_MAIN_geneUniverse.h5ad\",\n",
    "   backed='r'\n",
    ")\n",
    "target_adata = sc.read_h5ad(\n",
    "    f\"05_{QUERY_ADATA_NAME}_geneUniverse.h5ad\",\n",
    "    backed='r'\n",
    ")"
   ]
  },
  {
   "cell_type": "code",
   "execution_count": null,
   "metadata": {},
   "outputs": [],
   "source": [
    "target_adata.obs['Level1'] = 'unknown'\n",
    "target_adata.obs['Level2'] = 'unknown'"
   ]
  },
  {
   "cell_type": "code",
   "execution_count": null,
   "metadata": {},
   "outputs": [],
   "source": [
    "scpoli_query = scPoli.load_query_data(\n",
    "    adata=target_adata,\n",
    "    unknown_ct_names = ['unknown'],\n",
    "    reference_model=here(f\"03_Downstream_Analysis/PatientClassifier/scPoli/results/01_reference/scPoly_model_{SCPOLI_ID}\"),\n",
    "    labeled_indices=[],\n",
    ")"
   ]
  },
  {
   "cell_type": "code",
   "execution_count": null,
   "metadata": {},
   "outputs": [],
   "source": [
    "early_stopping_kwargs = {\n",
    "    \"early_stopping_metric\": \"val_prototype_loss\",\n",
    "    \"mode\": \"min\",\n",
    "    \"threshold\": 0.1, \n",
    "    \"patience\": 5,\n",
    "    \"reduce_lr\": False,\n",
    "    \"lr_patience\": 5,\n",
    "    \"lr_factor\": 0.1,\n",
    "}"
   ]
  },
  {
   "cell_type": "code",
   "execution_count": null,
   "metadata": {},
   "outputs": [],
   "source": [
    "train_parameters_dict = {\n",
    "    \"lr\": LEARNING_RATE,\n",
    "    \"n_epochs\": N_EPOCHS,\n",
    "    \"pretraining_epochs\": PRETRAINING_EPOCHS,\n",
    "    \"eta\": ETA, \n",
    "    \"n_workers\": 8\n",
    "}"
   ]
  },
  {
   "cell_type": "code",
   "execution_count": null,
   "metadata": {},
   "outputs": [],
   "source": [
    "scPoli_params = {}\n",
    "scPoli_params.update(early_stopping_kwargs)\n",
    "scPoli_params.update(train_parameters_dict)\n",
    "scPoli_params"
   ]
  },
  {
   "cell_type": "code",
   "execution_count": null,
   "metadata": {},
   "outputs": [],
   "source": [
    "logger = wandb.init(\n",
    "    project='inflammation_atlas_PatientClassifier_scPoly', \n",
    "    entity='inflammation',\n",
    "    config=scPoli_params,\n",
    "    name = f'scPoli_query_{SCPOLI_ID}'\n",
    ")"
   ]
  },
  {
   "cell_type": "code",
   "execution_count": null,
   "metadata": {
    "scrolled": true
   },
   "outputs": [],
   "source": [
    "scpoli_query.train(\n",
    "    **train_parameters_dict,\n",
    "    w_logger=logger,\n",
    "    prefix=\"query/\",\n",
    "    early_stopping_kwargs=early_stopping_kwargs\n",
    ")"
   ]
  },
  {
   "cell_type": "code",
   "execution_count": null,
   "metadata": {},
   "outputs": [],
   "source": [
    "if overwriteData:\n",
    "    scpoli_query.save(\n",
    "        here(f\"03_Downstream_Analysis/PatientClassifier/scPoli/results/02_query/query_models/scPoli_{QUERY_ADATA_NAME}_{SCPOLI_ID}_query\"), \n",
    "        overwrite = True,\n",
    "        save_anndata = False)"
   ]
  },
  {
   "cell_type": "code",
   "execution_count": null,
   "metadata": {},
   "outputs": [],
   "source": [
    "from tqdm.auto import trange \n",
    "\n",
    "batch_size = 1000\n",
    "query_labels = []\n",
    "for idx in trange(int(target_adata.shape[0] // batch_size + 1)):\n",
    "    start_idx = idx * batch_size\n",
    "    query_labels.append(scpoli_query.classify(adata=target_adata[start_idx:start_idx+batch_size], scale_uncertainties=False))"
   ]
  },
  {
   "cell_type": "code",
   "execution_count": null,
   "metadata": {},
   "outputs": [],
   "source": [
    "query_labels_final = {}\n",
    "for level in ['Level1', 'Level2']:\n",
    "    query_labels_final[level] = {}\n",
    "    for value in ['preds', 'uncert', 'weighted_distances']:\n",
    "        query_labels_final[level][value] = np.concatenate([query_labels[idx][level][value] for idx in range(len(query_labels))])"
   ]
  },
  {
   "cell_type": "code",
   "execution_count": null,
   "metadata": {},
   "outputs": [],
   "source": [
    "query_latents = scpoli_query.get_latent(\n",
    "    target_adata,\n",
    "    mean=True\n",
    ")\n",
    "reference_latents = scpoli_query.get_latent(\n",
    "    reference_adata,\n",
    "    mean=True\n",
    ")"
   ]
  },
  {
   "cell_type": "code",
   "execution_count": null,
   "metadata": {},
   "outputs": [],
   "source": [
    "f_query_ad = sc.AnnData(\n",
    "    X=query_latents, \n",
    "    obs=(target_adata.obs\n",
    "         .assign(\n",
    "             Level1=query_labels_final['Level1']['preds'], \n",
    "             Level1_unc=query_labels_final['Level1']['uncert'],\n",
    "             Level2=query_labels_final['Level2']['preds'],\n",
    "             Level2_unc=query_labels_final['Level2']['uncert'])))\n",
    "f_query_ad.uns.update(scpoli_query.get_conditional_embeddings())\n",
    "f_query_ad.write(here(f\"03_Downstream_Analysis/PatientClassifier/scPoli/results/02_query/query_output/scPoli_{QUERY_ADATA_NAME}_{SCPOLI_ID}.h5ad\"), compression='gzip')"
   ]
  },
  {
   "cell_type": "code",
   "execution_count": null,
   "metadata": {},
   "outputs": [],
   "source": [
    "f_reference_ad = sc.AnnData(\n",
    "    X=reference_latents, \n",
    "    obs=reference_adata.obs)\n",
    "f_reference_ad.uns.update(scpoli_query.get_conditional_embeddings())\n",
    "f_reference_ad.write(here(f\"03_Downstream_Analysis/PatientClassifier/scPoli/results/02_query/ref_latents/scPoli_{QUERY_ADATA_NAME}_{SCPOLI_ID}.h5ad\"), compression='gzip')"
   ]
  }
 ],
 "metadata": {
  "kernelspec": {
   "display_name": "Python 3 (ipykernel)",
   "language": "python",
   "name": "python3"
  },
  "language_info": {
   "codemirror_mode": {
    "name": "ipython",
    "version": 3
   },
   "file_extension": ".py",
   "mimetype": "text/x-python",
   "name": "python",
   "nbconvert_exporter": "python",
   "pygments_lexer": "ipython3",
   "version": "3.10.13"
  }
 },
 "nbformat": 4,
 "nbformat_minor": 4
}
