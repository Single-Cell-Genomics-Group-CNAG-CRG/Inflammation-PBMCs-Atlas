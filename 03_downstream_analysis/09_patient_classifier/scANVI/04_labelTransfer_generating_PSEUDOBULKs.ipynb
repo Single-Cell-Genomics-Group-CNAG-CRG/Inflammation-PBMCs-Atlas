{
 "cells": [
  {
   "cell_type": "raw",
   "id": "8002b33d-9b20-4bdf-a1a3-acc29d5a0295",
   "metadata": {
    "execution": {
     "iopub.execute_input": "2024-07-04T11:25:09.444596Z",
     "iopub.status.busy": "2024-07-04T11:25:09.444279Z",
     "iopub.status.idle": "2024-07-04T11:25:09.447097Z",
     "shell.execute_reply": "2024-07-04T11:25:09.446732Z",
     "shell.execute_reply.started": "2024-07-04T11:25:09.444579Z"
    },
    "vscode": {
     "languageId": "raw"
    }
   },
   "source": [
    "adataPATH_ref = '03_downstream_analysis/08_PatientClassifier/scANVI/results/reference/scANVI_VALIDATION_256_30_Level2_run1_finetuning.h5ad'\n",
    "adataPATH_query = '03_downstream_analysis/08_PatientClassifier/scANVI/results/query/scANVI_VALIDATION_256_30_Level2_run1_finetuning.h5ad'"
   ]
  },
  {
   "cell_type": "code",
   "execution_count": 2,
   "id": "d3ccb10a-7201-43d0-a593-2b4650ff3451",
   "metadata": {
    "execution": {
     "iopub.execute_input": "2024-07-04T11:25:09.619970Z",
     "iopub.status.busy": "2024-07-04T11:25:09.619678Z",
     "iopub.status.idle": "2024-07-04T11:25:09.622469Z",
     "shell.execute_reply": "2024-07-04T11:25:09.622172Z",
     "shell.execute_reply.started": "2024-07-04T11:25:09.619948Z"
    }
   },
   "outputs": [
    {
     "name": "stdout",
     "output_type": "stream",
     "text": [
      "adataPATH_ref = 03_downstream_analysis/08_PatientClassifier/scANVI/results/reference/scANVI_SPLIT_0_256_30_Level2_SPLIT_0_test_finetuning.h5ad\n",
      "adataPATH_query = 03_downstream_analysis/08_PatientClassifier/scANVI/results/query/scANVI_SPLIT_0_256_30_Level2_SPLIT_0_test_finetuning.h5ad\n"
     ]
    }
   ],
   "source": [
    "for v in ['adataPATH_ref','adataPATH_query']:\n",
    "    if v in locals() or v in globals():\n",
    "        print(f\"{v} = {eval(v)}\")\n",
    "    else:\n",
    "        raise Exception(f\"{v} not specified\")"
   ]
  },
  {
   "cell_type": "code",
   "execution_count": 3,
   "id": "888fb5f4-9ab7-4196-a282-7a7e92a43971",
   "metadata": {
    "execution": {
     "iopub.execute_input": "2024-07-04T11:25:10.609340Z",
     "iopub.status.busy": "2024-07-04T11:25:10.609102Z",
     "iopub.status.idle": "2024-07-04T11:25:36.494758Z",
     "shell.execute_reply": "2024-07-04T11:25:36.494302Z",
     "shell.execute_reply.started": "2024-07-04T11:25:10.609325Z"
    }
   },
   "outputs": [],
   "source": [
    "import os\n",
    "import sys\n",
    "from glob import glob\n",
    "\n",
    "import scanpy as sc\n",
    "import pandas as pd\n",
    "\n",
    "import pynndescent\n",
    "import numpy as np\n",
    "import numba\n",
    "\n",
    "from pyprojroot import here\n",
    "\n",
    "sys.path.insert(1, str(here('bin')))\n",
    "# Import custom functions\n",
    "from customPythonFunctions import aggregating_features"
   ]
  },
  {
   "cell_type": "markdown",
   "id": "cc14bdf1-cb35-427d-b868-48480d371ac1",
   "metadata": {},
   "source": [
    "### Defining kNN label transfer function"
   ]
  },
  {
   "cell_type": "code",
   "execution_count": 4,
   "id": "2cde8870-daf7-4eb9-b1be-d7a700b1876b",
   "metadata": {
    "execution": {
     "iopub.execute_input": "2024-07-04T11:25:36.495980Z",
     "iopub.status.busy": "2024-07-04T11:25:36.495632Z",
     "iopub.status.idle": "2024-07-04T11:25:36.501626Z",
     "shell.execute_reply": "2024-07-04T11:25:36.501324Z",
     "shell.execute_reply.started": "2024-07-04T11:25:36.495963Z"
    }
   },
   "outputs": [],
   "source": [
    "class LabelTransferWithKNN:\n",
    "    \"\"\" See https://docs.scvi-tools.org/en/stable/tutorials/notebooks/scrna/query_hlca_knn.html \"\"\"\n",
    "    def fit(self, ref_adata):\n",
    "        self.ref_adata = ref_adata\n",
    "        self.nn_index = pynndescent.NNDescent(self.ref_adata.X)\n",
    "        self.nn_index.prepare()\n",
    "        return self\n",
    "\n",
    "    def predict(self, query_adata, label_keys: list[str] = ['Level1']):\n",
    "\n",
    "        ref_neighbors, ref_distances = self.nn_index.query(query_adata.X)\n",
    "\n",
    "        # convert distances to affinities\n",
    "        stds = np.std(ref_distances, axis=1)\n",
    "        stds = (2.0 / stds) ** 2\n",
    "        stds = stds.reshape(-1, 1)\n",
    "        ref_distances_tilda = np.exp(-np.true_divide(ref_distances, stds))\n",
    "        weights = ref_distances_tilda / np.sum(ref_distances_tilda, axis=1, keepdims=True)\n",
    "\n",
    "        for l in label_keys:\n",
    "            ref_cats = self.ref_adata.obs[l].cat.codes.to_numpy()[ref_neighbors]\n",
    "            p, u = self.weighted_prediction(weights, ref_cats)\n",
    "            p = np.asarray(self.ref_adata.obs[l].cat.categories)[p]\n",
    "            query_adata.obs[l + \"_pred\"], query_adata.obs[l + \"_uncertainty\"] = p, u\n",
    "        \n",
    "        return query_adata\n",
    "    \n",
    "    @staticmethod\n",
    "    @numba.njit\n",
    "    def weighted_prediction(weights, ref_cats):\n",
    "        \"\"\"Get highest weight category.\"\"\"\n",
    "        N = len(weights)\n",
    "        predictions = np.zeros((N,), dtype=ref_cats.dtype)\n",
    "        uncertainty = np.zeros((N,))\n",
    "        for i in range(N):\n",
    "            obs_weights = weights[i]\n",
    "            obs_cats = ref_cats[i]\n",
    "            best_prob = 0\n",
    "            for c in np.unique(obs_cats):\n",
    "                cand_prob = np.sum(obs_weights[obs_cats == c])\n",
    "                if cand_prob > best_prob:\n",
    "                    best_prob = cand_prob\n",
    "                    predictions[i] = c\n",
    "                    uncertainty[i] = max(1 - best_prob, 0)\n",
    "\n",
    "        return predictions, uncertainty"
   ]
  },
  {
   "cell_type": "markdown",
   "id": "ba4905ae-4546-4ef4-b57b-950441ab079d",
   "metadata": {},
   "source": [
    "### Loading data"
   ]
  },
  {
   "cell_type": "code",
   "execution_count": 5,
   "id": "539cbbbb-3503-4f51-bf04-f007f928ebd1",
   "metadata": {
    "execution": {
     "iopub.execute_input": "2024-07-04T11:25:36.502205Z",
     "iopub.status.busy": "2024-07-04T11:25:36.502069Z",
     "iopub.status.idle": "2024-07-04T11:25:36.515486Z",
     "shell.execute_reply": "2024-07-04T11:25:36.515181Z",
     "shell.execute_reply.started": "2024-07-04T11:25:36.502192Z"
    }
   },
   "outputs": [],
   "source": [
    "adataPATH_ref\n",
    "adataPATH_ref_list = glob(str(here(adataPATH_ref)))\n",
    "assert(len(adataPATH_ref_list) == 1)\n",
    "\n",
    "adataPATH_query\n",
    "adataPATH_query_list = glob(str(here(adataPATH_query)))\n",
    "assert(len(adataPATH_query_list) == 1)"
   ]
  },
  {
   "cell_type": "code",
   "execution_count": 6,
   "id": "0fcfce0a-896b-4dc0-8e5e-46749205c84f",
   "metadata": {
    "execution": {
     "iopub.execute_input": "2024-07-04T11:25:36.516486Z",
     "iopub.status.busy": "2024-07-04T11:25:36.516206Z",
     "iopub.status.idle": "2024-07-04T11:25:44.873270Z",
     "shell.execute_reply": "2024-07-04T11:25:44.872914Z",
     "shell.execute_reply.started": "2024-07-04T11:25:36.516471Z"
    }
   },
   "outputs": [
    {
     "data": {
      "text/plain": [
       "(AnnData object with n_obs × n_vars = 3527867 × 30\n",
       "     obs: 'studyID', 'libraryID', 'sampleID', 'chemistry', 'disease', 'sex', 'binned_age', 'Level1', 'Level2', '_scvi_batch', '_scvi_labels',\n",
       " AnnData object with n_obs × n_vars = 908055 × 30\n",
       "     obs: 'studyID', 'libraryID', 'sampleID', 'chemistry', 'disease', 'sex', 'binned_age', 'Level1', 'Level2', '_scvi_batch', '_scvi_labels', 'labels')"
      ]
     },
     "execution_count": 6,
     "metadata": {},
     "output_type": "execute_result"
    }
   ],
   "source": [
    "adataR = sc.read_h5ad(adataPATH_ref_list[0])\n",
    "adataQ = sc.read_h5ad(adataPATH_query_list[0])\n",
    "adataR, adataQ"
   ]
  },
  {
   "cell_type": "code",
   "execution_count": 7,
   "id": "43363d5e-2643-4002-8905-e3c99124c70b",
   "metadata": {
    "execution": {
     "iopub.execute_input": "2024-07-03T16:55:48.962088Z",
     "iopub.status.busy": "2024-07-03T16:55:48.961933Z",
     "iopub.status.idle": "2024-07-03T16:55:50.866698Z",
     "shell.execute_reply": "2024-07-03T16:55:50.866179Z",
     "shell.execute_reply.started": "2024-07-03T16:55:48.962070Z"
    }
   },
   "outputs": [],
   "source": [
    "Level1_dict = adataR.obs[['Level1','Level2']].set_index('Level2').to_dict()['Level1']"
   ]
  },
  {
   "cell_type": "code",
   "execution_count": 8,
   "id": "0d286575-96c1-4146-b6d5-faab19d5a7ba",
   "metadata": {
    "execution": {
     "iopub.execute_input": "2024-07-03T16:55:50.867534Z",
     "iopub.status.busy": "2024-07-03T16:55:50.867380Z",
     "iopub.status.idle": "2024-07-03T16:55:50.885563Z",
     "shell.execute_reply": "2024-07-03T16:55:50.885094Z",
     "shell.execute_reply.started": "2024-07-03T16:55:50.867520Z"
    }
   },
   "outputs": [],
   "source": [
    "adataQ.obs['Level1_scANVIpredict'] = adataQ.obs['labels'].map(Level1_dict)"
   ]
  },
  {
   "cell_type": "code",
   "execution_count": 10,
   "id": "83ea89fd-965e-4c2c-bcd9-7467a6a78cd0",
   "metadata": {
    "execution": {
     "iopub.execute_input": "2024-07-03T16:55:53.681374Z",
     "iopub.status.busy": "2024-07-03T16:55:53.681198Z",
     "iopub.status.idle": "2024-07-03T16:55:53.721238Z",
     "shell.execute_reply": "2024-07-03T16:55:53.720908Z",
     "shell.execute_reply.started": "2024-07-03T16:55:53.681359Z"
    }
   },
   "outputs": [
    {
     "data": {
      "text/plain": [
       "Level1_scANVIpredict\n",
       "Mono              0.263652\n",
       "T_CD4_NonNaive    0.185938\n",
       "T_CD4_Naive       0.138634\n",
       "T_CD8_NonNaive    0.130519\n",
       "ILC               0.083871\n",
       "B                 0.081857\n",
       "T_CD8_Naive       0.052325\n",
       "UTC               0.024070\n",
       "DC                0.012751\n",
       "Platelets         0.009994\n",
       "Cycling_cells     0.006013\n",
       "Plasma            0.005298\n",
       "pDC               0.004975\n",
       "RBC               0.000091\n",
       "Progenitors       0.000012\n",
       "Name: proportion, dtype: float64"
      ]
     },
     "execution_count": 10,
     "metadata": {},
     "output_type": "execute_result"
    }
   ],
   "source": [
    "adataQ.obs['Level1_scANVIpredict'].value_counts(normalize = True)"
   ]
  },
  {
   "cell_type": "markdown",
   "id": "bab4753e-78c0-40b9-9361-d94b9804e924",
   "metadata": {},
   "source": [
    "#### Label transfer with kNN"
   ]
  },
  {
   "cell_type": "code",
   "execution_count": 11,
   "id": "785cca0e-9f6f-48c3-825a-84ea8360e0fb",
   "metadata": {
    "execution": {
     "iopub.execute_input": "2024-07-03T16:55:57.610020Z",
     "iopub.status.busy": "2024-07-03T16:55:57.609676Z",
     "iopub.status.idle": "2024-07-03T17:06:13.540747Z",
     "shell.execute_reply": "2024-07-03T17:06:13.540335Z",
     "shell.execute_reply.started": "2024-07-03T16:55:57.610004Z"
    }
   },
   "outputs": [],
   "source": [
    "kNNclf = LabelTransferWithKNN().fit(adataR)"
   ]
  },
  {
   "cell_type": "code",
   "execution_count": 12,
   "id": "08b14276-ec7c-4061-8ad1-ed986c122dc9",
   "metadata": {
    "execution": {
     "iopub.execute_input": "2024-07-03T17:06:13.541739Z",
     "iopub.status.busy": "2024-07-03T17:06:13.541544Z",
     "iopub.status.idle": "2024-07-03T17:07:01.638337Z",
     "shell.execute_reply": "2024-07-03T17:07:01.637919Z",
     "shell.execute_reply.started": "2024-07-03T17:06:13.541724Z"
    }
   },
   "outputs": [
    {
     "data": {
      "text/plain": [
       "AnnData object with n_obs × n_vars = 849922 × 30\n",
       "    obs: 'studyID', 'libraryID', 'sampleID', 'chemistry', 'technology', 'disease', 'sex', 'binned_age', '_scvi_batch', 'Level2', '_scvi_labels', 'labels', 'Level1_scANVIpredict', 'Level1_pred', 'Level1_uncertainty'"
      ]
     },
     "execution_count": 12,
     "metadata": {},
     "output_type": "execute_result"
    }
   ],
   "source": [
    "adataQ = kNNclf.predict(query_adata = adataQ, label_keys = ['Level1'])\n",
    "adataQ"
   ]
  },
  {
   "cell_type": "code",
   "execution_count": 13,
   "id": "80b6736a-789a-4137-aa90-bfb74f2323c4",
   "metadata": {
    "execution": {
     "iopub.execute_input": "2024-07-03T17:07:01.639153Z",
     "iopub.status.busy": "2024-07-03T17:07:01.638997Z",
     "iopub.status.idle": "2024-07-03T17:07:01.644353Z",
     "shell.execute_reply": "2024-07-03T17:07:01.643989Z",
     "shell.execute_reply.started": "2024-07-03T17:07:01.639138Z"
    }
   },
   "outputs": [],
   "source": [
    "adataQ.obs['Level1_kNN_pred'] = adataQ.obs['Level1_pred']"
   ]
  },
  {
   "cell_type": "code",
   "execution_count": 14,
   "id": "f3f04f12-1058-46b0-95c8-8c8670bd40b2",
   "metadata": {
    "execution": {
     "iopub.execute_input": "2024-07-03T17:07:01.645626Z",
     "iopub.status.busy": "2024-07-03T17:07:01.645339Z",
     "iopub.status.idle": "2024-07-03T17:07:01.692848Z",
     "shell.execute_reply": "2024-07-03T17:07:01.692547Z",
     "shell.execute_reply.started": "2024-07-03T17:07:01.645611Z"
    }
   },
   "outputs": [
    {
     "data": {
      "text/plain": [
       "Level1_kNN_pred\n",
       "Mono              0.256887\n",
       "T_CD4_Naive       0.162822\n",
       "T_CD4_NonNaive    0.161636\n",
       "T_CD8_NonNaive    0.118359\n",
       "ILC               0.085528\n",
       "B                 0.081742\n",
       "T_CD8_Naive       0.047358\n",
       "Platelets         0.025539\n",
       "UTC               0.024855\n",
       "DC                0.012361\n",
       "Cycling_cells     0.010672\n",
       "pDC               0.005216\n",
       "Plasma            0.005190\n",
       "Progenitors       0.001657\n",
       "RBC               0.000179\n",
       "Name: proportion, dtype: float64"
      ]
     },
     "execution_count": 14,
     "metadata": {},
     "output_type": "execute_result"
    }
   ],
   "source": [
    "adataQ.obs['Level1_kNN_pred'].value_counts(normalize = True)"
   ]
  },
  {
   "cell_type": "code",
   "execution_count": 15,
   "id": "c1dc4c3a-30b8-45e2-8ed2-f89bd913523e",
   "metadata": {
    "execution": {
     "iopub.execute_input": "2024-07-03T17:07:01.693488Z",
     "iopub.status.busy": "2024-07-03T17:07:01.693351Z",
     "iopub.status.idle": "2024-07-03T17:07:01.794021Z",
     "shell.execute_reply": "2024-07-03T17:07:01.793648Z",
     "shell.execute_reply.started": "2024-07-03T17:07:01.693475Z"
    }
   },
   "outputs": [],
   "source": [
    "from sklearn.metrics import adjusted_rand_score as ari"
   ]
  },
  {
   "cell_type": "code",
   "execution_count": 16,
   "id": "ff6d5cbd-e8bc-4f7f-af89-f5dc0675500b",
   "metadata": {
    "execution": {
     "iopub.execute_input": "2024-07-03T17:07:01.794947Z",
     "iopub.status.busy": "2024-07-03T17:07:01.794554Z",
     "iopub.status.idle": "2024-07-03T17:07:03.176703Z",
     "shell.execute_reply": "2024-07-03T17:07:03.176339Z",
     "shell.execute_reply.started": "2024-07-03T17:07:01.794932Z"
    }
   },
   "outputs": [
    {
     "data": {
      "text/plain": [
       "0.8586728825123828"
      ]
     },
     "execution_count": 16,
     "metadata": {},
     "output_type": "execute_result"
    }
   ],
   "source": [
    "ari(adataQ.obs['Level1_kNN_pred'],adataQ.obs['Level1_scANVIpredict'])"
   ]
  },
  {
   "cell_type": "markdown",
   "id": "44e868b3-0771-4225-bd79-a4b179bc672b",
   "metadata": {},
   "source": [
    "#### Generating PSEUDOBULKs"
   ]
  },
  {
   "cell_type": "code",
   "execution_count": 19,
   "id": "81223976-fcf6-4354-8964-b12d76468636",
   "metadata": {
    "execution": {
     "iopub.execute_input": "2024-07-03T17:07:39.255357Z",
     "iopub.status.busy": "2024-07-03T17:07:39.254762Z",
     "iopub.status.idle": "2024-07-03T17:07:41.047884Z",
     "shell.execute_reply": "2024-07-03T17:07:41.047535Z",
     "shell.execute_reply.started": "2024-07-03T17:07:39.255323Z"
    }
   },
   "outputs": [
    {
     "data": {
      "text/plain": [
       "AnnData object with n_obs × n_vars = 11372 × 30\n",
       "    obs: 'sampleID', 'Level1', 'disease', 'n_observation'"
      ]
     },
     "execution_count": 19,
     "metadata": {},
     "output_type": "execute_result"
    }
   ],
   "source": [
    "adataPB_R = aggregating_features(Z = adataR.X, \n",
    "                             obsDF = adataR.obs[['sampleID','Level1','disease']], \n",
    "                             mode = 'mean', \n",
    "                             obs_names_col=['sampleID','Level1'], \n",
    "                             min_observation=0)\n",
    "adataPB_R"
   ]
  },
  {
   "cell_type": "markdown",
   "id": "97d09fc5-d05c-471e-87fa-fe58ccbe47ac",
   "metadata": {},
   "source": [
    "**Considering scANVI predicted labels**"
   ]
  },
  {
   "cell_type": "code",
   "execution_count": 22,
   "id": "8a64ad2e-561b-48a2-a48f-5fc1b9f567aa",
   "metadata": {
    "execution": {
     "iopub.execute_input": "2024-07-03T17:10:44.499805Z",
     "iopub.status.busy": "2024-07-03T17:10:44.499182Z",
     "iopub.status.idle": "2024-07-03T17:10:44.835460Z",
     "shell.execute_reply": "2024-07-03T17:10:44.835103Z",
     "shell.execute_reply.started": "2024-07-03T17:10:44.499769Z"
    }
   },
   "outputs": [
    {
     "data": {
      "text/plain": [
       "AnnData object with n_obs × n_vars = 1854 × 30\n",
       "    obs: 'sampleID', 'Level1_scANVIpredict', 'disease', 'n_observation'"
      ]
     },
     "execution_count": 22,
     "metadata": {},
     "output_type": "execute_result"
    }
   ],
   "source": [
    "adataPB_Q_scANVI = aggregating_features(Z = adataQ.X, \n",
    "                             obsDF = adataQ.obs[['sampleID','Level1_scANVIpredict','disease']], \n",
    "                             mode = 'mean', \n",
    "                             obs_names_col=['sampleID','Level1_scANVIpredict'], \n",
    "                             min_observation=0)\n",
    "\n",
    "adataPB_Q_scANVI.obs.rename({'Level1_scANVIpredict':'Level1'}, axis=1, inplace=True)\n",
    "adataPB_Q_scANVI"
   ]
  },
  {
   "cell_type": "code",
   "execution_count": 25,
   "id": "5c0db4a4-2016-4e00-bc54-9bcead35b4da",
   "metadata": {
    "execution": {
     "iopub.execute_input": "2024-07-03T17:11:12.843696Z",
     "iopub.status.busy": "2024-07-03T17:11:12.843459Z",
     "iopub.status.idle": "2024-07-03T17:11:12.847685Z",
     "shell.execute_reply": "2024-07-03T17:11:12.847385Z",
     "shell.execute_reply.started": "2024-07-03T17:11:12.843681Z"
    }
   },
   "outputs": [
    {
     "data": {
      "text/plain": [
       "Level1_scANVIpredict\n",
       "B                 144\n",
       "ILC               144\n",
       "Mono              144\n",
       "T_CD4_Naive       144\n",
       "T_CD4_NonNaive    144\n",
       "T_CD8_NonNaive    144\n",
       "DC                143\n",
       "UTC               143\n",
       "Cycling_cells     142\n",
       "T_CD8_Naive       142\n",
       "Platelets         139\n",
       "pDC               137\n",
       "Plasma            126\n",
       "RBC                10\n",
       "Progenitors         8\n",
       "Name: count, dtype: int64"
      ]
     },
     "execution_count": 25,
     "metadata": {},
     "output_type": "execute_result"
    }
   ],
   "source": [
    "adataPB_Q_scANVI.obs.Level1.value_counts()"
   ]
  },
  {
   "cell_type": "markdown",
   "id": "6ccd375e-bb4a-47bd-afbb-4399f9fe93bb",
   "metadata": {},
   "source": [
    "**Considering labels transferred with kNN**"
   ]
  },
  {
   "cell_type": "code",
   "execution_count": 23,
   "id": "0d234e2f",
   "metadata": {
    "execution": {
     "iopub.execute_input": "2024-07-03T17:10:46.887446Z",
     "iopub.status.busy": "2024-07-03T17:10:46.887290Z",
     "iopub.status.idle": "2024-07-03T17:10:47.217854Z",
     "shell.execute_reply": "2024-07-03T17:10:47.217512Z",
     "shell.execute_reply.started": "2024-07-03T17:10:46.887432Z"
    }
   },
   "outputs": [
    {
     "data": {
      "text/plain": [
       "AnnData object with n_obs × n_vars = 1990 × 30\n",
       "    obs: 'sampleID', 'Level1_kNN_pred', 'disease', 'n_observation'"
      ]
     },
     "execution_count": 23,
     "metadata": {},
     "output_type": "execute_result"
    }
   ],
   "source": [
    "adataPB_Q_kNN = aggregating_features(Z = adataQ.X, \n",
    "                             obsDF = adataQ.obs[['sampleID','Level1_kNN_pred','disease']], \n",
    "                             mode = 'mean', \n",
    "                             obs_names_col=['sampleID','Level1_kNN_pred'], \n",
    "                             min_observation=0)\n",
    "adataPB_Q_kNN.obs.rename({'Level1_kNN_pred':'Level1'}, axis=1, inplace=True)\n",
    "adataPB_Q_kNN"
   ]
  },
  {
   "cell_type": "code",
   "execution_count": 27,
   "id": "51f78e87-ebdb-4095-af60-e5c5bb297b33",
   "metadata": {
    "execution": {
     "iopub.execute_input": "2024-07-03T17:11:44.007891Z",
     "iopub.status.busy": "2024-07-03T17:11:44.007656Z",
     "iopub.status.idle": "2024-07-03T17:11:44.011577Z",
     "shell.execute_reply": "2024-07-03T17:11:44.011285Z",
     "shell.execute_reply.started": "2024-07-03T17:11:44.007876Z"
    }
   },
   "outputs": [
    {
     "data": {
      "text/plain": [
       "Level1_kNN_pred\n",
       "B                 144\n",
       "Cycling_cells     144\n",
       "ILC               144\n",
       "Mono              144\n",
       "T_CD4_Naive       144\n",
       "T_CD4_NonNaive    144\n",
       "T_CD8_NonNaive    144\n",
       "UTC               144\n",
       "DC                143\n",
       "T_CD8_Naive       143\n",
       "Platelets         141\n",
       "pDC               138\n",
       "Plasma            128\n",
       "Progenitors       126\n",
       "RBC                19\n",
       "Name: count, dtype: int64"
      ]
     },
     "execution_count": 27,
     "metadata": {},
     "output_type": "execute_result"
    }
   ],
   "source": [
    "adataPB_Q_kNN.obs.Level1.value_counts()"
   ]
  },
  {
   "cell_type": "markdown",
   "id": "d59574be-684b-4082-b8b6-7d11930362ad",
   "metadata": {},
   "source": [
    "### Saving pseudobulk adata objects"
   ]
  },
  {
   "cell_type": "code",
   "execution_count": 32,
   "id": "3ce1c9f0-1868-4854-b610-4c85581409c6",
   "metadata": {
    "execution": {
     "iopub.execute_input": "2024-07-03T18:29:00.886729Z",
     "iopub.status.busy": "2024-07-03T18:29:00.886361Z",
     "iopub.status.idle": "2024-07-03T18:29:00.889671Z",
     "shell.execute_reply": "2024-07-03T18:29:00.889337Z",
     "shell.execute_reply.started": "2024-07-03T18:29:00.886711Z"
    }
   },
   "outputs": [
    {
     "data": {
      "text/plain": [
       "'/scratch_isilon/groups/singlecell/shared/projects/Inflammation-PBMCs-Atlas/03_downstream_analysis/08_PatientClassifier/scANVI/results/reference/scANVI_VALIDATION_256_30_Level2_run1_finetuning.h5ad'"
      ]
     },
     "execution_count": 32,
     "metadata": {},
     "output_type": "execute_result"
    }
   ],
   "source": [
    "adataPATH_ref_list[0]"
   ]
  },
  {
   "cell_type": "code",
   "execution_count": 38,
   "id": "88f795a3-ab63-436d-a149-5bc18499537d",
   "metadata": {
    "execution": {
     "iopub.execute_input": "2024-07-03T18:31:45.134968Z",
     "iopub.status.busy": "2024-07-03T18:31:45.134769Z",
     "iopub.status.idle": "2024-07-03T18:31:45.137501Z",
     "shell.execute_reply": "2024-07-03T18:31:45.137204Z",
     "shell.execute_reply.started": "2024-07-03T18:31:45.134954Z"
    }
   },
   "outputs": [
    {
     "data": {
      "text/plain": [
       "'/scratch_isilon/groups/singlecell/shared/projects/Inflammation-PBMCs-Atlas/03_downstream_analysis/08_PatientClassifier/scANVI/results/PSEUDOBULKs/scANVI_PSEUDOBULK_reference_VALIDATION_256_30_Level2_run1_finetuning.h5ad'"
      ]
     },
     "execution_count": 38,
     "metadata": {},
     "output_type": "execute_result"
    }
   ],
   "source": [
    "adataPATH_ref_list[0].replace('/reference/scANVI_','/PSEUDOBULKs/scANVI_PSEUDOBULK_reference_')"
   ]
  },
  {
   "cell_type": "code",
   "execution_count": 39,
   "id": "5947e6f8-ac27-4702-ba5d-aa9e1ba79f6a",
   "metadata": {
    "execution": {
     "iopub.execute_input": "2024-07-03T18:31:58.007855Z",
     "iopub.status.busy": "2024-07-03T18:31:58.007526Z",
     "iopub.status.idle": "2024-07-03T18:31:58.089979Z",
     "shell.execute_reply": "2024-07-03T18:31:58.089483Z",
     "shell.execute_reply.started": "2024-07-03T18:31:58.007838Z"
    }
   },
   "outputs": [],
   "source": [
    "adataPB_R.write(here(adataPATH_ref_list[0].replace('/reference/scANVI_','/PSEUDOBULKs/scANVI_PSEUDOBULK_reference_')), compression='gzip')"
   ]
  },
  {
   "cell_type": "code",
   "execution_count": 40,
   "id": "8a70d9f6-7a44-45ee-8470-702bd7af1e0b",
   "metadata": {
    "execution": {
     "iopub.execute_input": "2024-07-03T18:32:34.783773Z",
     "iopub.status.busy": "2024-07-03T18:32:34.783101Z",
     "iopub.status.idle": "2024-07-03T18:32:34.829797Z",
     "shell.execute_reply": "2024-07-03T18:32:34.829446Z",
     "shell.execute_reply.started": "2024-07-03T18:32:34.783737Z"
    }
   },
   "outputs": [],
   "source": [
    "adataPB_Q_scANVI.write(here(adataPATH_query_list[0].replace('/query/scANVI_','/PSEUDOBULKs/scANVI_PSEUDOBULK_query_')), compression='gzip')"
   ]
  },
  {
   "cell_type": "code",
   "execution_count": 41,
   "id": "19305819",
   "metadata": {
    "execution": {
     "iopub.execute_input": "2024-07-03T18:33:00.791941Z",
     "iopub.status.busy": "2024-07-03T18:33:00.791709Z",
     "iopub.status.idle": "2024-07-03T18:33:00.843098Z",
     "shell.execute_reply": "2024-07-03T18:33:00.842775Z",
     "shell.execute_reply.started": "2024-07-03T18:33:00.791926Z"
    }
   },
   "outputs": [],
   "source": [
    "adataPB_Q_kNN.write(here(adataPATH_query_list[0].replace('/query/scANVI_','/PSEUDOBULKs/scANVI_PSEUDOBULK_kNN_query_')), compression='gzip')"
   ]
  }
 ],
 "metadata": {
  "kernelspec": {
   "display_name": "Python 3 (ipykernel)",
   "language": "python",
   "name": "python3"
  },
  "language_info": {
   "codemirror_mode": {
    "name": "ipython",
    "version": 3
   },
   "file_extension": ".py",
   "mimetype": "text/x-python",
   "name": "python",
   "nbconvert_exporter": "python",
   "pygments_lexer": "ipython3",
   "version": "3.12.3"
  }
 },
 "nbformat": 4,
 "nbformat_minor": 5
}
