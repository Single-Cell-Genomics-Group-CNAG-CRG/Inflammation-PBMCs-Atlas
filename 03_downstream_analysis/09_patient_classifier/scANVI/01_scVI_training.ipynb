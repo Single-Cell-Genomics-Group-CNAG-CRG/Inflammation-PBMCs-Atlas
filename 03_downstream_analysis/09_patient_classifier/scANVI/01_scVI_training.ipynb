{
 "cells": [
  {
   "cell_type": "code",
   "execution_count": null,
   "id": "0ed993ce",
   "metadata": {
    "tags": [
     "parameters"
    ]
   },
   "outputs": [],
   "source": [
    "N_HIDDEN: int = 256\n",
    "N_LATENT: int = 30\n",
    "RUN_TAG: str = \"test\"\n",
    "REF_NAME: str = ''\n",
    "LABELS_KEY: str = 'Level2'\n",
    "BUCKET_DIRPATH: str = \"\""
   ]
  },
  {
   "cell_type": "code",
   "execution_count": null,
   "id": "1716309f-0952-4297-bff6-b25333fee5cc",
   "metadata": {
    "papermill": {
     "duration": 0.025559,
     "end_time": "2024-04-16T19:10:47.412786",
     "exception": false,
     "start_time": "2024-04-16T19:10:47.387227",
     "status": "completed"
    },
    "tags": []
   },
   "outputs": [],
   "source": [
    "for v in ['N_HIDDEN','N_LATENT', 'RUN_TAG', 'LABELS_KEY','BUCKET_DIRPATH']:\n",
    "    if ((v not in globals()) and (v not in locals())):\n",
    "        raise ValueError(f\"{v} not defined\")\n",
    "    else:\n",
    "        print(f\"{v} = {eval(v)}\")"
   ]
  },
  {
   "cell_type": "code",
   "execution_count": null,
   "id": "ce5e9cc9-90f3-49ce-b34a-1ca5652be7c8",
   "metadata": {
    "papermill": {
     "duration": 3.489415,
     "end_time": "2024-04-16T19:10:50.916822",
     "exception": false,
     "start_time": "2024-04-16T19:10:47.427407",
     "status": "completed"
    },
    "tags": []
   },
   "outputs": [],
   "source": [
    "import os\n",
    "import sys\n",
    "\n",
    "import json\n",
    "\n",
    "import pickle as pkl\n",
    "import scvi\n",
    "import numpy as np\n",
    "import scanpy as sc\n",
    "import pandas as pd\n",
    "import matplotlib.pyplot as plt\n",
    "import seaborn as sns\n",
    "from sklearn.metrics import classification_report\n",
    "from scarches.models.scpoli import scPoli\n",
    "\n",
    "import torch\n",
    "\n",
    "from dotenv import load_dotenv\n",
    "\n",
    "from lightning.pytorch.loggers import WandbLogger\n",
    "import wandb\n",
    "\n",
    "import session_info\n",
    "import warnings\n",
    "from pyprojroot.here import here\n",
    "\n",
    "torch.set_float32_matmul_precision('high')\n",
    "\n",
    "#plt.style.use(['science','nature','no-latex'])\n",
    "dpi_fig_save = 300\n",
    "sc.set_figure_params(dpi=100, dpi_save=dpi_fig_save, vector_friendly=True)\n",
    "\n",
    "# Setting some parameters\n",
    "warnings.filterwarnings(\"ignore\")\n",
    "\n",
    "from sklearn.model_selection import StratifiedKFold\n",
    "\n",
    "overwriteData = True\n",
    "overwriteFigures = True\n",
    "\n",
    "# Set random seed\n",
    "random_seed = 5\n",
    "\n",
    "import warnings\n",
    "warnings.filterwarnings('ignore')\n",
    "%load_ext autoreload\n",
    "%autoreload 2"
   ]
  },
  {
   "cell_type": "code",
   "execution_count": null,
   "id": "32fb60d1",
   "metadata": {},
   "outputs": [],
   "source": [
    "def here(fpath):\n",
    "    return os.path.join(BUCKET_DIRPATH, fpath)"
   ]
  },
  {
   "cell_type": "code",
   "execution_count": null,
   "id": "34522100-314f-4bc6-bb75-e4d2a12fedeb",
   "metadata": {
    "papermill": {
     "duration": 0.063791,
     "end_time": "2024-04-16T19:10:50.997131",
     "exception": false,
     "start_time": "2024-04-16T19:10:50.933340",
     "status": "completed"
    },
    "tags": []
   },
   "outputs": [],
   "source": [
    "assert load_dotenv()"
   ]
  },
  {
   "cell_type": "markdown",
   "id": "ace46d13-bc0d-4a08-bea2-5f4f3a1c1c11",
   "metadata": {
    "execution": {
     "iopub.execute_input": "2024-04-10T14:14:35.228151Z",
     "iopub.status.busy": "2024-04-10T14:14:35.226856Z",
     "iopub.status.idle": "2024-04-10T14:14:35.273260Z",
     "shell.execute_reply": "2024-04-10T14:14:35.272159Z",
     "shell.execute_reply.started": "2024-04-10T14:14:35.228101Z"
    },
    "papermill": {
     "duration": 0.006633,
     "end_time": "2024-04-16T19:10:51.115800",
     "exception": false,
     "start_time": "2024-04-16T19:10:51.109167",
     "status": "completed"
    },
    "tags": []
   },
   "source": [
    "# Loading data\n"
   ]
  },
  {
   "cell_type": "code",
   "execution_count": null,
   "id": "941bc7fc-6767-4ac7-91da-4b22b664a133",
   "metadata": {
    "papermill": {
     "duration": 136.429512,
     "end_time": "2024-04-16T19:13:07.551623",
     "exception": false,
     "start_time": "2024-04-16T19:10:51.122111",
     "status": "completed"
    },
    "tags": []
   },
   "outputs": [],
   "source": [
    "# Load the h5ad file\n",
    "adata_path = '04_MAIN_geneUniverse.h5ad'\n",
    "adata = sc.read_h5ad(adata_path)"
   ]
  },
  {
   "cell_type": "code",
   "execution_count": null,
   "id": "37864957",
   "metadata": {},
   "outputs": [],
   "source": [
    "if REF_NAME != '':\n",
    "    fold_idx = int(REF_NAME.split('_')[1])\n",
    "    with open(here('03_Downstream_Analysis/PatientClassifier/5foldCV/data/K_FOLD_cellID.pkl'), 'rb') as f:\n",
    "        splits = pkl.load(f)\n",
    "    train_idx, _ = splits[fold_idx]\n",
    "    adata = adata[train_idx].copy()"
   ]
  },
  {
   "cell_type": "code",
   "execution_count": null,
   "id": "5b780b2b-3bd1-4a02-a32f-79c1cbf372a4",
   "metadata": {},
   "outputs": [],
   "source": [
    "adata"
   ]
  },
  {
   "cell_type": "code",
   "execution_count": null,
   "id": "cf0f9229",
   "metadata": {},
   "outputs": [],
   "source": [
    "fold_idx"
   ]
  },
  {
   "cell_type": "markdown",
   "id": "e21f8f4d-e625-42b5-800c-1999cd0a21ba",
   "metadata": {
    "papermill": {
     "duration": 0.007218,
     "end_time": "2024-04-16T19:14:25.921600",
     "exception": false,
     "start_time": "2024-04-16T19:14:25.914382",
     "status": "completed"
    },
    "tags": []
   },
   "source": [
    "### Setting up parameters for scANVI training"
   ]
  },
  {
   "cell_type": "code",
   "execution_count": null,
   "id": "89756fc9",
   "metadata": {},
   "outputs": [],
   "source": [
    "setup_kwargs = dict(\n",
    "    layer=None, \n",
    "    batch_key='chemistry', # scArches supports only one batch variable. thus, we concatenate the two main sources of batch effect into one colum\n",
    "    #categorical_covariate_keys = ['sex','binned_age'],\n",
    "    labels_key = LABELS_KEY # needed for the following scANVI fine tuning\n",
    ")\n",
    "\n",
    "scvi_kwargs = dict(\n",
    "    n_hidden=N_HIDDEN,\n",
    "    n_latent=N_LATENT,\n",
    "    n_layers=3, \n",
    "    gene_likelihood='nb',\n",
    "    dispersion='gene-batch')\n",
    "\n",
    "trainer_kwargs = dict(\n",
    "    checkpointing_monitor = 'elbo_validation',\n",
    "    early_stopping_monitor = 'reconstruction_loss_validation',\n",
    "    early_stopping_patience = 10,\n",
    "    early_stopping_min_delta = 0.1,\n",
    "    early_stopping = True,\n",
    "    max_epochs = 1000,\n",
    ")\n",
    "\n",
    "# https://docs.scvi-tools.org/en/stable/api/reference/scvi.train.TrainingPlan.html#scvi.train.TrainingPlan\n",
    "plan_kwargs = dict(\n",
    "    lr = 5e-4,\n",
    ")"
   ]
  },
  {
   "cell_type": "code",
   "execution_count": null,
   "id": "85622be5-1084-4c10-a789-99d62255fb7d",
   "metadata": {},
   "outputs": [],
   "source": [
    "scvi_parameter_dict = {}\n",
    "scvi_parameter_dict.update(setup_kwargs)\n",
    "scvi_parameter_dict.update(scvi_kwargs)\n",
    "scvi_parameter_dict.update(trainer_kwargs)\n",
    "scvi_parameter_dict"
   ]
  },
  {
   "cell_type": "markdown",
   "id": "94250309-4623-43bc-919b-0a92af6df850",
   "metadata": {
    "papermill": {
     "duration": 0.01102,
     "end_time": "2024-04-16T19:14:26.019355",
     "exception": false,
     "start_time": "2024-04-16T19:14:26.008335",
     "status": "completed"
    },
    "tags": []
   },
   "source": [
    "#### Connect to wandb"
   ]
  },
  {
   "cell_type": "code",
   "execution_count": null,
   "id": "b85ef790-24df-4ce6-b1c8-97756f20d656",
   "metadata": {
    "papermill": {
     "duration": 8.622923,
     "end_time": "2024-04-16T19:14:34.652706",
     "exception": false,
     "start_time": "2024-04-16T19:14:26.029783",
     "status": "completed"
    },
    "tags": []
   },
   "outputs": [],
   "source": [
    "logger = WandbLogger(\n",
    "    project='inflammation_atlas_PatientClassifier_scANVI', \n",
    "    entity='inflammation',\n",
    "    config=scvi_parameter_dict,\n",
    "    name = f'scANVI_{N_HIDDEN}_{N_LATENT}_{LABELS_KEY}_{REF_NAME}_{RUN_TAG}',\n",
    "    tags = [RUN_TAG]\n",
    ")"
   ]
  },
  {
   "cell_type": "code",
   "execution_count": null,
   "id": "5f12a5dc-14fd-40aa-89ee-9ad1ca22c67f",
   "metadata": {},
   "outputs": [],
   "source": [
    "#RunParams = dict(random_seed=random_seed, wandb_run_id = logger.id)\n",
    "#RunParams.update(scPoli_params)\n",
    "#RunParams"
   ]
  },
  {
   "cell_type": "markdown",
   "id": "2cf55a3e-e353-4992-9c8b-188f252b1598",
   "metadata": {
    "papermill": {
     "duration": 0.010257,
     "end_time": "2024-04-16T19:14:34.680581",
     "exception": false,
     "start_time": "2024-04-16T19:14:34.670324",
     "status": "completed"
    },
    "tags": []
   },
   "source": [
    "# scVI integration"
   ]
  },
  {
   "cell_type": "code",
   "execution_count": null,
   "id": "aa23fc5e",
   "metadata": {},
   "outputs": [],
   "source": [
    "scvi.model.SCVI.setup_anndata(\n",
    "    adata, \n",
    "    **setup_kwargs)"
   ]
  },
  {
   "cell_type": "code",
   "execution_count": null,
   "id": "6e8c329b",
   "metadata": {},
   "outputs": [],
   "source": [
    "scvi_model = scvi.model.SCVI(\n",
    "    adata=adata, \n",
    "    **scvi_kwargs\n",
    ")"
   ]
  },
  {
   "cell_type": "code",
   "execution_count": null,
   "id": "e86656f0-2733-4b82-a725-2b6102aebf98",
   "metadata": {
    "papermill": {
     "duration": 20615.867581,
     "end_time": "2024-04-17T00:58:15.682662",
     "exception": false,
     "start_time": "2024-04-16T19:14:39.815081",
     "status": "completed"
    },
    "tags": []
   },
   "outputs": [],
   "source": [
    "scvi_model.train(\n",
    "    logger=logger,\n",
    "    plan_kwargs=plan_kwargs,\n",
    "    **trainer_kwargs\n",
    ")"
   ]
  },
  {
   "cell_type": "markdown",
   "id": "d6e8ed1f-daf9-4b89-b2cf-9ee9c0efbf14",
   "metadata": {
    "papermill": {
     "duration": 0.014811,
     "end_time": "2024-04-17T00:58:21.118221",
     "exception": false,
     "start_time": "2024-04-17T00:58:21.103410",
     "status": "completed"
    },
    "tags": []
   },
   "source": [
    "## Save the results"
   ]
  },
  {
   "cell_type": "code",
   "execution_count": null,
   "id": "e29b0840-19f6-4fc8-b181-b4f07f52354f",
   "metadata": {
    "execution": {
     "iopub.execute_input": "2024-04-19T17:27:40.019905Z",
     "iopub.status.busy": "2024-04-19T17:27:40.019228Z",
     "iopub.status.idle": "2024-04-19T17:27:40.093549Z",
     "shell.execute_reply": "2024-04-19T17:27:40.092694Z",
     "shell.execute_reply.started": "2024-04-19T17:27:40.019873Z"
    },
    "papermill": {
     "duration": 0.791742,
     "end_time": "2024-04-17T00:58:21.923153",
     "exception": false,
     "start_time": "2024-04-17T00:58:21.131411",
     "status": "completed"
    },
    "tags": []
   },
   "outputs": [],
   "source": [
    "if overwriteData:\n",
    "    scvi_model.save(\n",
    "        here(f\"03_Downstream_Analysis/PatientClassifier/scANVI/results/01_reference/scANVI_{N_HIDDEN}_{N_LATENT}_{LABELS_KEY}_{REF_NAME}_{RUN_TAG}\"), \n",
    "        overwrite = True, \n",
    "        save_anndata = False)"
   ]
  },
  {
   "cell_type": "code",
   "execution_count": null,
   "id": "b93f1c19",
   "metadata": {},
   "outputs": [],
   "source": [
    "latents = scvi_model.get_latent_representation(\n",
    "    adata,\n",
    ")"
   ]
  },
  {
   "cell_type": "code",
   "execution_count": null,
   "id": "d7fe1914",
   "metadata": {},
   "outputs": [],
   "source": [
    "final_ad = sc.AnnData(\n",
    "    X=latents, \n",
    "    obs=adata.obs\n",
    ")"
   ]
  },
  {
   "cell_type": "code",
   "execution_count": null,
   "id": "ad2a6ae2",
   "metadata": {},
   "outputs": [],
   "source": [
    "final_ad.write(\n",
    "    here(f\"03_Downstream_Analysis/PatientClassifier/scANVI/results/01_reference/output/scANVI_{N_HIDDEN}_{N_LATENT}_{LABELS_KEY}_{REF_NAME}_{RUN_TAG}.h5ad\"), \n",
    "    compression='gzip')"
   ]
  }
 ],
 "metadata": {
  "environment": {
   "kernel": "conda-root-py",
   "name": "workbench-notebooks.m120",
   "type": "gcloud",
   "uri": "us-docker.pkg.dev/deeplearning-platform-release/gcr.io/workbench-notebooks:m120"
  },
  "kernelspec": {
   "display_name": "Python 3 (ipykernel)",
   "language": "python",
   "name": "python3"
  },
  "language_info": {
   "codemirror_mode": {
    "name": "ipython",
    "version": 3
   },
   "file_extension": ".py",
   "mimetype": "text/x-python",
   "name": "python",
   "nbconvert_exporter": "python",
   "pygments_lexer": "ipython3",
   "version": "3.10.13"
  },
  "papermill": {
   "default_parameters": {},
   "duration": 20858.637916,
   "end_time": "2024-04-17T00:58:25.162747",
   "environment_variables": {},
   "exception": null,
   "input_path": "01_scPoly_5FcV_training.ipynb",
   "output_path": "01_scPoly_5FcV_training.ipynb",
   "parameters": {},
   "start_time": "2024-04-16T19:10:46.524831",
   "version": "2.5.0"
  }
 },
 "nbformat": 4,
 "nbformat_minor": 5
}
