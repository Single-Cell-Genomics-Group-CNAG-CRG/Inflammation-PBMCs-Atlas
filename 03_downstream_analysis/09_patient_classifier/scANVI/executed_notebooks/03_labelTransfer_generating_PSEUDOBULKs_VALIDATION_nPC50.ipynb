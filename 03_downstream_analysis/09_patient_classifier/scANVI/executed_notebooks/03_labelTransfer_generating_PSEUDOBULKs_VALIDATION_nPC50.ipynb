{
 "cells": [
  {
   "cell_type": "code",
   "execution_count": 1,
   "id": "3bc02a81",
   "metadata": {
    "execution": {
     "iopub.execute_input": "2024-07-04T16:27:50.928205Z",
     "iopub.status.busy": "2024-07-04T16:27:50.928062Z",
     "iopub.status.idle": "2024-07-04T16:27:50.930792Z",
     "shell.execute_reply": "2024-07-04T16:27:50.930409Z"
    },
    "papermill": {
     "duration": 0.012207,
     "end_time": "2024-07-04T16:27:50.931614",
     "exception": false,
     "start_time": "2024-07-04T16:27:50.919407",
     "status": "completed"
    },
    "tags": [
     "injected-parameters"
    ]
   },
   "outputs": [],
   "source": [
    "# Parameters\n",
    "adataPATH_ref = \"03_downstream_analysis/08_PatientClassifier/scANVI/results/reference/scANVI_VALIDATION_*_50_Level2_*.h5ad\"\n",
    "adataPATH_query = \"03_downstream_analysis/08_PatientClassifier/scANVI/results/query/scANVI_VALIDATION_*_50_Level2_*.h5ad\"\n"
   ]
  },
  {
   "cell_type": "raw",
   "id": "8002b33d-9b20-4bdf-a1a3-acc29d5a0295",
   "metadata": {
    "execution": {
     "iopub.execute_input": "2024-07-04T11:25:09.444596Z",
     "iopub.status.busy": "2024-07-04T11:25:09.444279Z",
     "iopub.status.idle": "2024-07-04T11:25:09.447097Z",
     "shell.execute_reply": "2024-07-04T11:25:09.446732Z",
     "shell.execute_reply.started": "2024-07-04T11:25:09.444579Z"
    },
    "papermill": {
     "duration": 0.012872,
     "end_time": "2024-07-04T16:27:50.973360",
     "exception": false,
     "start_time": "2024-07-04T16:27:50.960488",
     "status": "completed"
    },
    "tags": [],
    "vscode": {
     "languageId": "raw"
    }
   },
   "source": [
    "adataPATH_ref = '03_downstream_analysis/08_PatientClassifier/scANVI/results/reference/scANVI_VALIDATION_256_30_Level2_run1_finetuning.h5ad'\n",
    "adataPATH_query = '03_downstream_analysis/08_PatientClassifier/scANVI/results/query/scANVI_VALIDATION_256_30_Level2_run1_finetuning.h5ad'"
   ]
  },
  {
   "cell_type": "code",
   "execution_count": 2,
   "id": "d3ccb10a-7201-43d0-a593-2b4650ff3451",
   "metadata": {
    "execution": {
     "iopub.execute_input": "2024-07-04T16:27:51.065863Z",
     "iopub.status.busy": "2024-07-04T16:27:51.065600Z",
     "iopub.status.idle": "2024-07-04T16:27:51.068707Z",
     "shell.execute_reply": "2024-07-04T16:27:51.068311Z"
    },
    "papermill": {
     "duration": 0.077958,
     "end_time": "2024-07-04T16:27:51.069509",
     "exception": false,
     "start_time": "2024-07-04T16:27:50.991551",
     "status": "completed"
    },
    "tags": []
   },
   "outputs": [
    {
     "name": "stdout",
     "output_type": "stream",
     "text": [
      "adataPATH_ref = 03_downstream_analysis/08_PatientClassifier/scANVI/results/reference/scANVI_VALIDATION_*_50_Level2_*.h5ad\n",
      "adataPATH_query = 03_downstream_analysis/08_PatientClassifier/scANVI/results/query/scANVI_VALIDATION_*_50_Level2_*.h5ad\n"
     ]
    }
   ],
   "source": [
    "for v in ['adataPATH_ref','adataPATH_query']:\n",
    "    if v in locals() or v in globals():\n",
    "        print(f\"{v} = {eval(v)}\")\n",
    "    else:\n",
    "        raise Exception(f\"{v} not specified\")"
   ]
  },
  {
   "cell_type": "code",
   "execution_count": 3,
   "id": "888fb5f4-9ab7-4196-a282-7a7e92a43971",
   "metadata": {
    "execution": {
     "iopub.execute_input": "2024-07-04T16:27:51.086794Z",
     "iopub.status.busy": "2024-07-04T16:27:51.086428Z",
     "iopub.status.idle": "2024-07-04T16:28:02.938463Z",
     "shell.execute_reply": "2024-07-04T16:28:02.937993Z"
    },
    "papermill": {
     "duration": 11.860114,
     "end_time": "2024-07-04T16:28:02.939720",
     "exception": false,
     "start_time": "2024-07-04T16:27:51.079606",
     "status": "completed"
    },
    "tags": []
   },
   "outputs": [],
   "source": [
    "import os\n",
    "import sys\n",
    "from glob import glob\n",
    "\n",
    "import scanpy as sc\n",
    "import pandas as pd\n",
    "\n",
    "import pynndescent\n",
    "import numpy as np\n",
    "import numba\n",
    "\n",
    "from pyprojroot import here\n",
    "\n",
    "sys.path.insert(1, str(here('bin')))\n",
    "# Import custom functions\n",
    "from customPythonFunctions import aggregating_features"
   ]
  },
  {
   "cell_type": "markdown",
   "id": "cc14bdf1-cb35-427d-b868-48480d371ac1",
   "metadata": {
    "papermill": {
     "duration": 0.017511,
     "end_time": "2024-07-04T16:28:02.967745",
     "exception": false,
     "start_time": "2024-07-04T16:28:02.950234",
     "status": "completed"
    },
    "tags": []
   },
   "source": [
    "### Defining kNN label transfer function"
   ]
  },
  {
   "cell_type": "code",
   "execution_count": 4,
   "id": "2cde8870-daf7-4eb9-b1be-d7a700b1876b",
   "metadata": {
    "execution": {
     "iopub.execute_input": "2024-07-04T16:28:02.983767Z",
     "iopub.status.busy": "2024-07-04T16:28:02.983086Z",
     "iopub.status.idle": "2024-07-04T16:28:02.989020Z",
     "shell.execute_reply": "2024-07-04T16:28:02.988614Z"
    },
    "papermill": {
     "duration": 0.013838,
     "end_time": "2024-07-04T16:28:02.989805",
     "exception": false,
     "start_time": "2024-07-04T16:28:02.975967",
     "status": "completed"
    },
    "tags": []
   },
   "outputs": [],
   "source": [
    "class LabelTransferWithKNN:\n",
    "    \"\"\" See https://docs.scvi-tools.org/en/stable/tutorials/notebooks/scrna/query_hlca_knn.html \"\"\"\n",
    "    def fit(self, ref_adata):\n",
    "        self.ref_adata = ref_adata\n",
    "        self.nn_index = pynndescent.NNDescent(self.ref_adata.X)\n",
    "        self.nn_index.prepare()\n",
    "        return self\n",
    "\n",
    "    def predict(self, query_adata, label_keys: list[str] = ['Level1']):\n",
    "\n",
    "        ref_neighbors, ref_distances = self.nn_index.query(query_adata.X)\n",
    "\n",
    "        # convert distances to affinities\n",
    "        stds = np.std(ref_distances, axis=1)\n",
    "        stds = (2.0 / stds) ** 2\n",
    "        stds = stds.reshape(-1, 1)\n",
    "        ref_distances_tilda = np.exp(-np.true_divide(ref_distances, stds))\n",
    "        weights = ref_distances_tilda / np.sum(ref_distances_tilda, axis=1, keepdims=True)\n",
    "\n",
    "        for l in label_keys:\n",
    "            ref_cats = self.ref_adata.obs[l].cat.codes.to_numpy()[ref_neighbors]\n",
    "            p, u = self.weighted_prediction(weights, ref_cats)\n",
    "            p = np.asarray(self.ref_adata.obs[l].cat.categories)[p]\n",
    "            query_adata.obs[l + \"_pred\"], query_adata.obs[l + \"_uncertainty\"] = p, u\n",
    "        \n",
    "        return query_adata\n",
    "    \n",
    "    @staticmethod\n",
    "    @numba.njit\n",
    "    def weighted_prediction(weights, ref_cats):\n",
    "        \"\"\"Get highest weight category.\"\"\"\n",
    "        N = len(weights)\n",
    "        predictions = np.zeros((N,), dtype=ref_cats.dtype)\n",
    "        uncertainty = np.zeros((N,))\n",
    "        for i in range(N):\n",
    "            obs_weights = weights[i]\n",
    "            obs_cats = ref_cats[i]\n",
    "            best_prob = 0\n",
    "            for c in np.unique(obs_cats):\n",
    "                cand_prob = np.sum(obs_weights[obs_cats == c])\n",
    "                if cand_prob > best_prob:\n",
    "                    best_prob = cand_prob\n",
    "                    predictions[i] = c\n",
    "                    uncertainty[i] = max(1 - best_prob, 0)\n",
    "\n",
    "        return predictions, uncertainty"
   ]
  },
  {
   "cell_type": "markdown",
   "id": "ba4905ae-4546-4ef4-b57b-950441ab079d",
   "metadata": {
    "papermill": {
     "duration": 0.006201,
     "end_time": "2024-07-04T16:28:03.001976",
     "exception": false,
     "start_time": "2024-07-04T16:28:02.995775",
     "status": "completed"
    },
    "tags": []
   },
   "source": [
    "### Loading data"
   ]
  },
  {
   "cell_type": "code",
   "execution_count": 5,
   "id": "539cbbbb-3503-4f51-bf04-f007f928ebd1",
   "metadata": {
    "execution": {
     "iopub.execute_input": "2024-07-04T16:28:03.015355Z",
     "iopub.status.busy": "2024-07-04T16:28:03.015215Z",
     "iopub.status.idle": "2024-07-04T16:28:03.027259Z",
     "shell.execute_reply": "2024-07-04T16:28:03.026893Z"
    },
    "papermill": {
     "duration": 0.019942,
     "end_time": "2024-07-04T16:28:03.028041",
     "exception": false,
     "start_time": "2024-07-04T16:28:03.008099",
     "status": "completed"
    },
    "tags": []
   },
   "outputs": [],
   "source": [
    "adataPATH_ref\n",
    "adataPATH_ref_list = glob(str(here(adataPATH_ref)))\n",
    "assert(len(adataPATH_ref_list) == 1)\n",
    "\n",
    "adataPATH_query\n",
    "adataPATH_query_list = glob(str(here(adataPATH_query)))\n",
    "assert(len(adataPATH_query_list) == 1)"
   ]
  },
  {
   "cell_type": "code",
   "execution_count": 6,
   "id": "0fcfce0a-896b-4dc0-8e5e-46749205c84f",
   "metadata": {
    "execution": {
     "iopub.execute_input": "2024-07-04T16:28:03.043166Z",
     "iopub.status.busy": "2024-07-04T16:28:03.043024Z",
     "iopub.status.idle": "2024-07-04T16:30:01.721250Z",
     "shell.execute_reply": "2024-07-04T16:30:01.720794Z"
    },
    "papermill": {
     "duration": 119.373867,
     "end_time": "2024-07-04T16:30:02.410400",
     "exception": false,
     "start_time": "2024-07-04T16:28:03.036533",
     "status": "completed"
    },
    "tags": []
   },
   "outputs": [
    {
     "data": {
      "text/plain": [
       "(AnnData object with n_obs × n_vars = 4435922 × 50\n",
       "     obs: 'studyID', 'libraryID', 'sampleID', 'chemistry', 'disease', 'sex', 'binned_age', 'Level1', 'Level2', '_scvi_batch', '_scvi_labels',\n",
       " AnnData object with n_obs × n_vars = 849922 × 50\n",
       "     obs: 'studyID', 'libraryID', 'sampleID', 'chemistry', 'technology', 'disease', 'sex', 'binned_age', '_scvi_batch', 'Level2', '_scvi_labels', 'labels')"
      ]
     },
     "execution_count": 6,
     "metadata": {},
     "output_type": "execute_result"
    }
   ],
   "source": [
    "adataR = sc.read_h5ad(adataPATH_ref_list[0])\n",
    "adataQ = sc.read_h5ad(adataPATH_query_list[0])\n",
    "adataR, adataQ"
   ]
  },
  {
   "cell_type": "code",
   "execution_count": 7,
   "id": "43363d5e-2643-4002-8905-e3c99124c70b",
   "metadata": {
    "execution": {
     "iopub.execute_input": "2024-07-04T16:30:03.327940Z",
     "iopub.status.busy": "2024-07-04T16:30:03.327691Z",
     "iopub.status.idle": "2024-07-04T16:30:05.190708Z",
     "shell.execute_reply": "2024-07-04T16:30:05.190194Z"
    },
    "papermill": {
     "duration": 2.150032,
     "end_time": "2024-07-04T16:30:05.191674",
     "exception": false,
     "start_time": "2024-07-04T16:30:03.041642",
     "status": "completed"
    },
    "tags": []
   },
   "outputs": [],
   "source": [
    "Level1_dict = adataR.obs[['Level1','Level2']].set_index('Level2').to_dict()['Level1']"
   ]
  },
  {
   "cell_type": "code",
   "execution_count": 8,
   "id": "0d286575-96c1-4146-b6d5-faab19d5a7ba",
   "metadata": {
    "execution": {
     "iopub.execute_input": "2024-07-04T16:30:05.742478Z",
     "iopub.status.busy": "2024-07-04T16:30:05.741981Z",
     "iopub.status.idle": "2024-07-04T16:30:05.760210Z",
     "shell.execute_reply": "2024-07-04T16:30:05.759727Z"
    },
    "papermill": {
     "duration": 0.02719,
     "end_time": "2024-07-04T16:30:05.761111",
     "exception": false,
     "start_time": "2024-07-04T16:30:05.733921",
     "status": "completed"
    },
    "tags": []
   },
   "outputs": [],
   "source": [
    "adataQ.obs['Level1_scANVIpredict'] = adataQ.obs['labels'].map(Level1_dict)"
   ]
  },
  {
   "cell_type": "code",
   "execution_count": 9,
   "id": "83ea89fd-965e-4c2c-bcd9-7467a6a78cd0",
   "metadata": {
    "execution": {
     "iopub.execute_input": "2024-07-04T16:30:06.279017Z",
     "iopub.status.busy": "2024-07-04T16:30:06.278640Z",
     "iopub.status.idle": "2024-07-04T16:30:06.324200Z",
     "shell.execute_reply": "2024-07-04T16:30:06.323641Z"
    },
    "papermill": {
     "duration": 0.090793,
     "end_time": "2024-07-04T16:30:06.325432",
     "exception": false,
     "start_time": "2024-07-04T16:30:06.234639",
     "status": "completed"
    },
    "tags": []
   },
   "outputs": [
    {
     "data": {
      "text/plain": [
       "Level1_scANVIpredict\n",
       "Mono              0.263947\n",
       "T_CD4_NonNaive    0.178926\n",
       "T_CD4_Naive       0.148078\n",
       "T_CD8_NonNaive    0.123501\n",
       "ILC               0.087810\n",
       "B                 0.082012\n",
       "T_CD8_Naive       0.055549\n",
       "UTC               0.024236\n",
       "DC                0.009488\n",
       "Platelets         0.008904\n",
       "Plasma            0.005930\n",
       "Cycling_cells     0.005517\n",
       "pDC               0.005451\n",
       "Progenitors       0.000522\n",
       "RBC               0.000128\n",
       "Name: proportion, dtype: float64"
      ]
     },
     "execution_count": 9,
     "metadata": {},
     "output_type": "execute_result"
    }
   ],
   "source": [
    "adataQ.obs['Level1_scANVIpredict'].value_counts(normalize = True)"
   ]
  },
  {
   "cell_type": "markdown",
   "id": "bab4753e-78c0-40b9-9361-d94b9804e924",
   "metadata": {
    "papermill": {
     "duration": 0.908731,
     "end_time": "2024-07-04T16:30:07.345560",
     "exception": false,
     "start_time": "2024-07-04T16:30:06.436829",
     "status": "completed"
    },
    "tags": []
   },
   "source": [
    "#### Label transfer with kNN"
   ]
  },
  {
   "cell_type": "code",
   "execution_count": 10,
   "id": "785cca0e-9f6f-48c3-825a-84ea8360e0fb",
   "metadata": {
    "execution": {
     "iopub.execute_input": "2024-07-04T16:30:07.723011Z",
     "iopub.status.busy": "2024-07-04T16:30:07.722688Z",
     "iopub.status.idle": "2024-07-04T16:43:00.424231Z",
     "shell.execute_reply": "2024-07-04T16:43:00.423718Z"
    },
    "papermill": {
     "duration": 772.712677,
     "end_time": "2024-07-04T16:43:00.425558",
     "exception": false,
     "start_time": "2024-07-04T16:30:07.712881",
     "status": "completed"
    },
    "tags": []
   },
   "outputs": [],
   "source": [
    "kNNclf = LabelTransferWithKNN().fit(adataR)"
   ]
  },
  {
   "cell_type": "code",
   "execution_count": 11,
   "id": "08b14276-ec7c-4061-8ad1-ed986c122dc9",
   "metadata": {
    "execution": {
     "iopub.execute_input": "2024-07-04T16:43:00.440361Z",
     "iopub.status.busy": "2024-07-04T16:43:00.440085Z",
     "iopub.status.idle": "2024-07-04T16:43:47.434635Z",
     "shell.execute_reply": "2024-07-04T16:43:47.434167Z"
    },
    "papermill": {
     "duration": 47.051109,
     "end_time": "2024-07-04T16:43:47.483140",
     "exception": false,
     "start_time": "2024-07-04T16:43:00.432031",
     "status": "completed"
    },
    "tags": []
   },
   "outputs": [
    {
     "data": {
      "text/plain": [
       "AnnData object with n_obs × n_vars = 849922 × 50\n",
       "    obs: 'studyID', 'libraryID', 'sampleID', 'chemistry', 'technology', 'disease', 'sex', 'binned_age', '_scvi_batch', 'Level2', '_scvi_labels', 'labels', 'Level1_scANVIpredict', 'Level1_pred', 'Level1_uncertainty'"
      ]
     },
     "execution_count": 11,
     "metadata": {},
     "output_type": "execute_result"
    }
   ],
   "source": [
    "adataQ = kNNclf.predict(query_adata = adataQ, label_keys = ['Level1'])\n",
    "adataQ"
   ]
  },
  {
   "cell_type": "code",
   "execution_count": 12,
   "id": "80b6736a-789a-4137-aa90-bfb74f2323c4",
   "metadata": {
    "execution": {
     "iopub.execute_input": "2024-07-04T16:43:47.546400Z",
     "iopub.status.busy": "2024-07-04T16:43:47.546073Z",
     "iopub.status.idle": "2024-07-04T16:43:47.552141Z",
     "shell.execute_reply": "2024-07-04T16:43:47.551595Z"
    },
    "papermill": {
     "duration": 0.027714,
     "end_time": "2024-07-04T16:43:47.553425",
     "exception": false,
     "start_time": "2024-07-04T16:43:47.525711",
     "status": "completed"
    },
    "tags": []
   },
   "outputs": [],
   "source": [
    "adataQ.obs['Level1_kNN_pred'] = adataQ.obs['Level1_pred']"
   ]
  },
  {
   "cell_type": "code",
   "execution_count": 13,
   "id": "f3f04f12-1058-46b0-95c8-8c8670bd40b2",
   "metadata": {
    "execution": {
     "iopub.execute_input": "2024-07-04T16:43:47.613027Z",
     "iopub.status.busy": "2024-07-04T16:43:47.612750Z",
     "iopub.status.idle": "2024-07-04T16:43:47.652304Z",
     "shell.execute_reply": "2024-07-04T16:43:47.651725Z"
    },
    "papermill": {
     "duration": 0.087214,
     "end_time": "2024-07-04T16:43:47.653252",
     "exception": false,
     "start_time": "2024-07-04T16:43:47.566038",
     "status": "completed"
    },
    "tags": []
   },
   "outputs": [
    {
     "data": {
      "text/plain": [
       "Level1_kNN_pred\n",
       "Mono              0.257732\n",
       "T_CD4_Naive       0.162649\n",
       "T_CD4_NonNaive    0.160898\n",
       "T_CD8_NonNaive    0.118501\n",
       "ILC               0.085027\n",
       "B                 0.081889\n",
       "T_CD8_Naive       0.046878\n",
       "Platelets         0.025746\n",
       "UTC               0.025009\n",
       "DC                0.012928\n",
       "Cycling_cells     0.010676\n",
       "pDC               0.005128\n",
       "Plasma            0.005093\n",
       "Progenitors       0.001681\n",
       "RBC               0.000164\n",
       "Name: proportion, dtype: float64"
      ]
     },
     "execution_count": 13,
     "metadata": {},
     "output_type": "execute_result"
    }
   ],
   "source": [
    "adataQ.obs['Level1_kNN_pred'].value_counts(normalize = True)"
   ]
  },
  {
   "cell_type": "code",
   "execution_count": 14,
   "id": "c1dc4c3a-30b8-45e2-8ed2-f89bd913523e",
   "metadata": {
    "execution": {
     "iopub.execute_input": "2024-07-04T16:43:47.674302Z",
     "iopub.status.busy": "2024-07-04T16:43:47.674050Z",
     "iopub.status.idle": "2024-07-04T16:43:47.699048Z",
     "shell.execute_reply": "2024-07-04T16:43:47.698581Z"
    },
    "papermill": {
     "duration": 0.039263,
     "end_time": "2024-07-04T16:43:47.700226",
     "exception": false,
     "start_time": "2024-07-04T16:43:47.660963",
     "status": "completed"
    },
    "tags": []
   },
   "outputs": [],
   "source": [
    "from sklearn.metrics import adjusted_rand_score as ari"
   ]
  },
  {
   "cell_type": "code",
   "execution_count": 15,
   "id": "ff6d5cbd-e8bc-4f7f-af89-f5dc0675500b",
   "metadata": {
    "execution": {
     "iopub.execute_input": "2024-07-04T16:43:47.719301Z",
     "iopub.status.busy": "2024-07-04T16:43:47.718868Z",
     "iopub.status.idle": "2024-07-04T16:43:49.163882Z",
     "shell.execute_reply": "2024-07-04T16:43:49.163415Z"
    },
    "papermill": {
     "duration": 1.456618,
     "end_time": "2024-07-04T16:43:49.164773",
     "exception": false,
     "start_time": "2024-07-04T16:43:47.708155",
     "status": "completed"
    },
    "tags": []
   },
   "outputs": [
    {
     "data": {
      "text/plain": [
       "0.8742081221611282"
      ]
     },
     "execution_count": 15,
     "metadata": {},
     "output_type": "execute_result"
    }
   ],
   "source": [
    "ari(adataQ.obs['Level1_kNN_pred'],adataQ.obs['Level1_scANVIpredict'])"
   ]
  },
  {
   "cell_type": "markdown",
   "id": "44e868b3-0771-4225-bd79-a4b179bc672b",
   "metadata": {
    "papermill": {
     "duration": 0.008167,
     "end_time": "2024-07-04T16:43:49.180370",
     "exception": false,
     "start_time": "2024-07-04T16:43:49.172203",
     "status": "completed"
    },
    "tags": []
   },
   "source": [
    "#### Generating PSEUDOBULKs"
   ]
  },
  {
   "cell_type": "code",
   "execution_count": 16,
   "id": "81223976-fcf6-4354-8964-b12d76468636",
   "metadata": {
    "execution": {
     "iopub.execute_input": "2024-07-04T16:43:49.197312Z",
     "iopub.status.busy": "2024-07-04T16:43:49.197061Z",
     "iopub.status.idle": "2024-07-04T16:43:51.226564Z",
     "shell.execute_reply": "2024-07-04T16:43:51.226029Z"
    },
    "papermill": {
     "duration": 2.038546,
     "end_time": "2024-07-04T16:43:51.227531",
     "exception": false,
     "start_time": "2024-07-04T16:43:49.188985",
     "status": "completed"
    },
    "tags": []
   },
   "outputs": [
    {
     "data": {
      "text/plain": [
       "AnnData object with n_obs × n_vars = 11372 × 50\n",
       "    obs: 'sampleID', 'Level1', 'disease', 'n_observation'"
      ]
     },
     "execution_count": 16,
     "metadata": {},
     "output_type": "execute_result"
    }
   ],
   "source": [
    "adataPB_R = aggregating_features(Z = adataR.X, \n",
    "                             obsDF = adataR.obs[['sampleID','Level1','disease']], \n",
    "                             mode = 'mean', \n",
    "                             obs_names_col=['sampleID','Level1'], \n",
    "                             min_observation=0)\n",
    "adataPB_R"
   ]
  },
  {
   "cell_type": "markdown",
   "id": "97d09fc5-d05c-471e-87fa-fe58ccbe47ac",
   "metadata": {
    "papermill": {
     "duration": 0.007609,
     "end_time": "2024-07-04T16:43:51.243268",
     "exception": false,
     "start_time": "2024-07-04T16:43:51.235659",
     "status": "completed"
    },
    "tags": []
   },
   "source": [
    "**Considering scANVI predicted labels**"
   ]
  },
  {
   "cell_type": "code",
   "execution_count": 17,
   "id": "8a64ad2e-561b-48a2-a48f-5fc1b9f567aa",
   "metadata": {
    "execution": {
     "iopub.execute_input": "2024-07-04T16:43:51.280651Z",
     "iopub.status.busy": "2024-07-04T16:43:51.280306Z",
     "iopub.status.idle": "2024-07-04T16:43:51.666718Z",
     "shell.execute_reply": "2024-07-04T16:43:51.666289Z"
    },
    "papermill": {
     "duration": 0.396172,
     "end_time": "2024-07-04T16:43:51.667751",
     "exception": false,
     "start_time": "2024-07-04T16:43:51.271579",
     "status": "completed"
    },
    "tags": []
   },
   "outputs": [
    {
     "data": {
      "text/plain": [
       "AnnData object with n_obs × n_vars = 1943 × 50\n",
       "    obs: 'sampleID', 'Level1', 'disease', 'n_observation'"
      ]
     },
     "execution_count": 17,
     "metadata": {},
     "output_type": "execute_result"
    }
   ],
   "source": [
    "adataPB_Q_scANVI = aggregating_features(Z = adataQ.X, \n",
    "                             obsDF = adataQ.obs[['sampleID','Level1_scANVIpredict','disease']], \n",
    "                             mode = 'mean', \n",
    "                             obs_names_col=['sampleID','Level1_scANVIpredict'], \n",
    "                             min_observation=0)\n",
    "\n",
    "adataPB_Q_scANVI.obs.rename({'Level1_scANVIpredict':'Level1'}, axis=1, inplace=True)\n",
    "adataPB_Q_scANVI"
   ]
  },
  {
   "cell_type": "code",
   "execution_count": 18,
   "id": "5c0db4a4-2016-4e00-bc54-9bcead35b4da",
   "metadata": {
    "execution": {
     "iopub.execute_input": "2024-07-04T16:43:51.683265Z",
     "iopub.status.busy": "2024-07-04T16:43:51.683029Z",
     "iopub.status.idle": "2024-07-04T16:43:51.687807Z",
     "shell.execute_reply": "2024-07-04T16:43:51.687395Z"
    },
    "papermill": {
     "duration": 0.013378,
     "end_time": "2024-07-04T16:43:51.688870",
     "exception": false,
     "start_time": "2024-07-04T16:43:51.675492",
     "status": "completed"
    },
    "tags": []
   },
   "outputs": [
    {
     "data": {
      "text/plain": [
       "Level1\n",
       "B                 144\n",
       "ILC               144\n",
       "Mono              144\n",
       "T_CD4_Naive       144\n",
       "T_CD4_NonNaive    144\n",
       "T_CD8_NonNaive    144\n",
       "UTC               144\n",
       "Cycling_cells     142\n",
       "DC                142\n",
       "T_CD8_Naive       142\n",
       "Platelets         140\n",
       "pDC               139\n",
       "Plasma            129\n",
       "Progenitors        87\n",
       "RBC                14\n",
       "Name: count, dtype: int64"
      ]
     },
     "execution_count": 18,
     "metadata": {},
     "output_type": "execute_result"
    }
   ],
   "source": [
    "adataPB_Q_scANVI.obs.Level1.value_counts()"
   ]
  },
  {
   "cell_type": "markdown",
   "id": "6ccd375e-bb4a-47bd-afbb-4399f9fe93bb",
   "metadata": {
    "papermill": {
     "duration": 0.021913,
     "end_time": "2024-07-04T16:43:51.717896",
     "exception": false,
     "start_time": "2024-07-04T16:43:51.695983",
     "status": "completed"
    },
    "tags": []
   },
   "source": [
    "**Considering labels transferred with kNN**"
   ]
  },
  {
   "cell_type": "code",
   "execution_count": 19,
   "id": "0d234e2f",
   "metadata": {
    "execution": {
     "iopub.execute_input": "2024-07-04T16:43:51.766515Z",
     "iopub.status.busy": "2024-07-04T16:43:51.766265Z",
     "iopub.status.idle": "2024-07-04T16:43:52.143952Z",
     "shell.execute_reply": "2024-07-04T16:43:52.143524Z"
    },
    "papermill": {
     "duration": 0.419102,
     "end_time": "2024-07-04T16:43:52.144873",
     "exception": false,
     "start_time": "2024-07-04T16:43:51.725771",
     "status": "completed"
    },
    "tags": []
   },
   "outputs": [
    {
     "data": {
      "text/plain": [
       "AnnData object with n_obs × n_vars = 1985 × 50\n",
       "    obs: 'sampleID', 'Level1', 'disease', 'n_observation'"
      ]
     },
     "execution_count": 19,
     "metadata": {},
     "output_type": "execute_result"
    }
   ],
   "source": [
    "adataPB_Q_kNN = aggregating_features(Z = adataQ.X, \n",
    "                             obsDF = adataQ.obs[['sampleID','Level1_kNN_pred','disease']], \n",
    "                             mode = 'mean', \n",
    "                             obs_names_col=['sampleID','Level1_kNN_pred'], \n",
    "                             min_observation=0)\n",
    "adataPB_Q_kNN.obs.rename({'Level1_kNN_pred':'Level1'}, axis=1, inplace=True)\n",
    "adataPB_Q_kNN"
   ]
  },
  {
   "cell_type": "code",
   "execution_count": 20,
   "id": "51f78e87-ebdb-4095-af60-e5c5bb297b33",
   "metadata": {
    "execution": {
     "iopub.execute_input": "2024-07-04T16:43:52.163919Z",
     "iopub.status.busy": "2024-07-04T16:43:52.163704Z",
     "iopub.status.idle": "2024-07-04T16:43:52.169059Z",
     "shell.execute_reply": "2024-07-04T16:43:52.168648Z"
    },
    "papermill": {
     "duration": 0.0148,
     "end_time": "2024-07-04T16:43:52.170000",
     "exception": false,
     "start_time": "2024-07-04T16:43:52.155200",
     "status": "completed"
    },
    "tags": []
   },
   "outputs": [
    {
     "data": {
      "text/plain": [
       "Level1\n",
       "B                 144\n",
       "Cycling_cells     144\n",
       "ILC               144\n",
       "Mono              144\n",
       "T_CD4_Naive       144\n",
       "T_CD4_NonNaive    144\n",
       "T_CD8_NonNaive    144\n",
       "UTC               144\n",
       "DC                143\n",
       "T_CD8_Naive       143\n",
       "Platelets         142\n",
       "pDC               138\n",
       "Plasma            127\n",
       "Progenitors       124\n",
       "RBC                16\n",
       "Name: count, dtype: int64"
      ]
     },
     "execution_count": 20,
     "metadata": {},
     "output_type": "execute_result"
    }
   ],
   "source": [
    "adataPB_Q_kNN.obs.Level1.value_counts()"
   ]
  },
  {
   "cell_type": "markdown",
   "id": "d59574be-684b-4082-b8b6-7d11930362ad",
   "metadata": {
    "papermill": {
     "duration": 0.008398,
     "end_time": "2024-07-04T16:43:52.186026",
     "exception": false,
     "start_time": "2024-07-04T16:43:52.177628",
     "status": "completed"
    },
    "tags": []
   },
   "source": [
    "### Saving pseudobulk adata objects"
   ]
  },
  {
   "cell_type": "code",
   "execution_count": 21,
   "id": "3ce1c9f0-1868-4854-b610-4c85581409c6",
   "metadata": {
    "execution": {
     "iopub.execute_input": "2024-07-04T16:43:52.202052Z",
     "iopub.status.busy": "2024-07-04T16:43:52.201617Z",
     "iopub.status.idle": "2024-07-04T16:43:52.204791Z",
     "shell.execute_reply": "2024-07-04T16:43:52.204381Z"
    },
    "papermill": {
     "duration": 0.011633,
     "end_time": "2024-07-04T16:43:52.205700",
     "exception": false,
     "start_time": "2024-07-04T16:43:52.194067",
     "status": "completed"
    },
    "tags": []
   },
   "outputs": [
    {
     "data": {
      "text/plain": [
       "'/scratch_isilon/groups/singlecell/shared/projects/Inflammation-PBMCs-Atlas/03_downstream_analysis/08_PatientClassifier/scANVI/results/reference/scANVI_VALIDATION_256_50_Level2_run2_finetuning.h5ad'"
      ]
     },
     "execution_count": 21,
     "metadata": {},
     "output_type": "execute_result"
    }
   ],
   "source": [
    "adataPATH_ref_list[0]"
   ]
  },
  {
   "cell_type": "code",
   "execution_count": 22,
   "id": "88f795a3-ab63-436d-a149-5bc18499537d",
   "metadata": {
    "execution": {
     "iopub.execute_input": "2024-07-04T16:43:52.221582Z",
     "iopub.status.busy": "2024-07-04T16:43:52.221103Z",
     "iopub.status.idle": "2024-07-04T16:43:52.224223Z",
     "shell.execute_reply": "2024-07-04T16:43:52.223896Z"
    },
    "papermill": {
     "duration": 0.012178,
     "end_time": "2024-07-04T16:43:52.225057",
     "exception": false,
     "start_time": "2024-07-04T16:43:52.212879",
     "status": "completed"
    },
    "tags": []
   },
   "outputs": [
    {
     "data": {
      "text/plain": [
       "'/scratch_isilon/groups/singlecell/shared/projects/Inflammation-PBMCs-Atlas/03_downstream_analysis/08_PatientClassifier/scANVI/results/PSEUDOBULKs/scANVI_PSEUDOBULK_reference_VALIDATION_256_50_Level2_run2_finetuning.h5ad'"
      ]
     },
     "execution_count": 22,
     "metadata": {},
     "output_type": "execute_result"
    }
   ],
   "source": [
    "adataPATH_ref_list[0].replace('/reference/scANVI_','/PSEUDOBULKs/scANVI_PSEUDOBULK_reference_')"
   ]
  },
  {
   "cell_type": "code",
   "execution_count": 23,
   "id": "5947e6f8-ac27-4702-ba5d-aa9e1ba79f6a",
   "metadata": {
    "execution": {
     "iopub.execute_input": "2024-07-04T16:43:52.243697Z",
     "iopub.status.busy": "2024-07-04T16:43:52.243387Z",
     "iopub.status.idle": "2024-07-04T16:43:52.482232Z",
     "shell.execute_reply": "2024-07-04T16:43:52.481812Z"
    },
    "papermill": {
     "duration": 0.249222,
     "end_time": "2024-07-04T16:43:52.483925",
     "exception": false,
     "start_time": "2024-07-04T16:43:52.234703",
     "status": "completed"
    },
    "tags": []
   },
   "outputs": [],
   "source": [
    "adataPB_R.write(here(adataPATH_ref_list[0].replace('/reference/scANVI_','/PSEUDOBULKs/scANVI_PSEUDOBULK_reference_')), compression='gzip')"
   ]
  },
  {
   "cell_type": "code",
   "execution_count": 24,
   "id": "8a70d9f6-7a44-45ee-8470-702bd7af1e0b",
   "metadata": {
    "execution": {
     "iopub.execute_input": "2024-07-04T16:43:52.525865Z",
     "iopub.status.busy": "2024-07-04T16:43:52.525599Z",
     "iopub.status.idle": "2024-07-04T16:43:52.567009Z",
     "shell.execute_reply": "2024-07-04T16:43:52.566476Z"
    },
    "papermill": {
     "duration": 0.067065,
     "end_time": "2024-07-04T16:43:52.568259",
     "exception": false,
     "start_time": "2024-07-04T16:43:52.501194",
     "status": "completed"
    },
    "tags": []
   },
   "outputs": [],
   "source": [
    "adataPB_Q_scANVI.write(here(adataPATH_query_list[0].replace('/query/scANVI_','/PSEUDOBULKs/scANVI_PSEUDOBULK_query_')), compression='gzip')"
   ]
  },
  {
   "cell_type": "code",
   "execution_count": 25,
   "id": "19305819",
   "metadata": {
    "execution": {
     "iopub.execute_input": "2024-07-04T16:43:52.586353Z",
     "iopub.status.busy": "2024-07-04T16:43:52.586107Z",
     "iopub.status.idle": "2024-07-04T16:43:52.723427Z",
     "shell.execute_reply": "2024-07-04T16:43:52.722975Z"
    },
    "papermill": {
     "duration": 0.147685,
     "end_time": "2024-07-04T16:43:52.724653",
     "exception": false,
     "start_time": "2024-07-04T16:43:52.576968",
     "status": "completed"
    },
    "tags": []
   },
   "outputs": [],
   "source": [
    "adataPB_Q_kNN.write(here(adataPATH_query_list[0].replace('/query/scANVI_','/PSEUDOBULKs/scANVI_PSEUDOBULK_kNN_query_')), compression='gzip')"
   ]
  }
 ],
 "metadata": {
  "kernelspec": {
   "display_name": "Python 3 (ipykernel)",
   "language": "python",
   "name": "python3"
  },
  "language_info": {
   "codemirror_mode": {
    "name": "ipython",
    "version": 3
   },
   "file_extension": ".py",
   "mimetype": "text/x-python",
   "name": "python",
   "nbconvert_exporter": "python",
   "pygments_lexer": "ipython3",
   "version": "3.12.3"
  },
  "papermill": {
   "default_parameters": {},
   "duration": 965.362917,
   "end_time": "2024-07-04T16:43:53.951310",
   "environment_variables": {},
   "exception": null,
   "input_path": "03_labelTransfer_generating_PSEUDOBULKs.ipynb",
   "output_path": "executed_notebooks/03_labelTransfer_generating_PSEUDOBULKs_VALIDATION_nPC50.ipynb",
   "parameters": {
    "adataPATH_query": "03_downstream_analysis/08_PatientClassifier/scANVI/results/query/scANVI_VALIDATION_*_50_Level2_*.h5ad",
    "adataPATH_ref": "03_downstream_analysis/08_PatientClassifier/scANVI/results/reference/scANVI_VALIDATION_*_50_Level2_*.h5ad"
   },
   "start_time": "2024-07-04T16:27:48.588393",
   "version": "2.6.0"
  }
 },
 "nbformat": 4,
 "nbformat_minor": 5
}