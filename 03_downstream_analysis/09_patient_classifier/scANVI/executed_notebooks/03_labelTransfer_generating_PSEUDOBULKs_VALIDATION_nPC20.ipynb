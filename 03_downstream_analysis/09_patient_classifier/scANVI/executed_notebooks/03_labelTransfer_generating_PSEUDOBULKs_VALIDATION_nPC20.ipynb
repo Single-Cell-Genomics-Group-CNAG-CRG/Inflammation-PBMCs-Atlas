{
 "cells": [
  {
   "cell_type": "code",
   "execution_count": 1,
   "id": "ea208b3d",
   "metadata": {
    "execution": {
     "iopub.execute_input": "2024-07-04T16:27:50.929032Z",
     "iopub.status.busy": "2024-07-04T16:27:50.928881Z",
     "iopub.status.idle": "2024-07-04T16:27:50.931613Z",
     "shell.execute_reply": "2024-07-04T16:27:50.931235Z"
    },
    "papermill": {
     "duration": 0.012451,
     "end_time": "2024-07-04T16:27:50.932432",
     "exception": false,
     "start_time": "2024-07-04T16:27:50.919981",
     "status": "completed"
    },
    "tags": [
     "injected-parameters"
    ]
   },
   "outputs": [],
   "source": [
    "# Parameters\n",
    "adataPATH_ref = \"03_downstream_analysis/08_PatientClassifier/scANVI/results/reference/scANVI_VALIDATION_*_20_Level2_*.h5ad\"\n",
    "adataPATH_query = \"03_downstream_analysis/08_PatientClassifier/scANVI/results/query/scANVI_VALIDATION_*_20_Level2_*.h5ad\"\n"
   ]
  },
  {
   "cell_type": "raw",
   "id": "8002b33d-9b20-4bdf-a1a3-acc29d5a0295",
   "metadata": {
    "execution": {
     "iopub.execute_input": "2024-07-04T11:25:09.444596Z",
     "iopub.status.busy": "2024-07-04T11:25:09.444279Z",
     "iopub.status.idle": "2024-07-04T11:25:09.447097Z",
     "shell.execute_reply": "2024-07-04T11:25:09.446732Z",
     "shell.execute_reply.started": "2024-07-04T11:25:09.444579Z"
    },
    "papermill": {
     "duration": 0.011809,
     "end_time": "2024-07-04T16:27:50.974738",
     "exception": false,
     "start_time": "2024-07-04T16:27:50.962929",
     "status": "completed"
    },
    "tags": [],
    "vscode": {
     "languageId": "raw"
    }
   },
   "source": [
    "adataPATH_ref = '03_downstream_analysis/08_PatientClassifier/scANVI/results/reference/scANVI_VALIDATION_256_30_Level2_run1_finetuning.h5ad'\n",
    "adataPATH_query = '03_downstream_analysis/08_PatientClassifier/scANVI/results/query/scANVI_VALIDATION_256_30_Level2_run1_finetuning.h5ad'"
   ]
  },
  {
   "cell_type": "code",
   "execution_count": 2,
   "id": "d3ccb10a-7201-43d0-a593-2b4650ff3451",
   "metadata": {
    "execution": {
     "iopub.execute_input": "2024-07-04T16:27:51.067155Z",
     "iopub.status.busy": "2024-07-04T16:27:51.066964Z",
     "iopub.status.idle": "2024-07-04T16:27:51.070149Z",
     "shell.execute_reply": "2024-07-04T16:27:51.069766Z"
    },
    "papermill": {
     "duration": 0.077462,
     "end_time": "2024-07-04T16:27:51.070967",
     "exception": false,
     "start_time": "2024-07-04T16:27:50.993505",
     "status": "completed"
    },
    "tags": []
   },
   "outputs": [
    {
     "name": "stdout",
     "output_type": "stream",
     "text": [
      "adataPATH_ref = 03_downstream_analysis/08_PatientClassifier/scANVI/results/reference/scANVI_VALIDATION_*_20_Level2_*.h5ad\n",
      "adataPATH_query = 03_downstream_analysis/08_PatientClassifier/scANVI/results/query/scANVI_VALIDATION_*_20_Level2_*.h5ad\n"
     ]
    }
   ],
   "source": [
    "for v in ['adataPATH_ref','adataPATH_query']:\n",
    "    if v in locals() or v in globals():\n",
    "        print(f\"{v} = {eval(v)}\")\n",
    "    else:\n",
    "        raise Exception(f\"{v} not specified\")"
   ]
  },
  {
   "cell_type": "code",
   "execution_count": 3,
   "id": "888fb5f4-9ab7-4196-a282-7a7e92a43971",
   "metadata": {
    "execution": {
     "iopub.execute_input": "2024-07-04T16:27:51.087214Z",
     "iopub.status.busy": "2024-07-04T16:27:51.087074Z",
     "iopub.status.idle": "2024-07-04T16:28:03.043105Z",
     "shell.execute_reply": "2024-07-04T16:28:03.042615Z"
    },
    "papermill": {
     "duration": 11.963861,
     "end_time": "2024-07-04T16:28:03.044142",
     "exception": false,
     "start_time": "2024-07-04T16:27:51.080281",
     "status": "completed"
    },
    "tags": []
   },
   "outputs": [],
   "source": [
    "import os\n",
    "import sys\n",
    "from glob import glob\n",
    "\n",
    "import scanpy as sc\n",
    "import pandas as pd\n",
    "\n",
    "import pynndescent\n",
    "import numpy as np\n",
    "import numba\n",
    "\n",
    "from pyprojroot import here\n",
    "\n",
    "sys.path.insert(1, str(here('bin')))\n",
    "# Import custom functions\n",
    "from customPythonFunctions import aggregating_features"
   ]
  },
  {
   "cell_type": "markdown",
   "id": "cc14bdf1-cb35-427d-b868-48480d371ac1",
   "metadata": {
    "papermill": {
     "duration": 0.006359,
     "end_time": "2024-07-04T16:28:03.057224",
     "exception": false,
     "start_time": "2024-07-04T16:28:03.050865",
     "status": "completed"
    },
    "tags": []
   },
   "source": [
    "### Defining kNN label transfer function"
   ]
  },
  {
   "cell_type": "code",
   "execution_count": 4,
   "id": "2cde8870-daf7-4eb9-b1be-d7a700b1876b",
   "metadata": {
    "execution": {
     "iopub.execute_input": "2024-07-04T16:28:03.095546Z",
     "iopub.status.busy": "2024-07-04T16:28:03.095242Z",
     "iopub.status.idle": "2024-07-04T16:28:03.101126Z",
     "shell.execute_reply": "2024-07-04T16:28:03.100742Z"
    },
    "papermill": {
     "duration": 0.013957,
     "end_time": "2024-07-04T16:28:03.101921",
     "exception": false,
     "start_time": "2024-07-04T16:28:03.087964",
     "status": "completed"
    },
    "tags": []
   },
   "outputs": [],
   "source": [
    "class LabelTransferWithKNN:\n",
    "    \"\"\" See https://docs.scvi-tools.org/en/stable/tutorials/notebooks/scrna/query_hlca_knn.html \"\"\"\n",
    "    def fit(self, ref_adata):\n",
    "        self.ref_adata = ref_adata\n",
    "        self.nn_index = pynndescent.NNDescent(self.ref_adata.X)\n",
    "        self.nn_index.prepare()\n",
    "        return self\n",
    "\n",
    "    def predict(self, query_adata, label_keys: list[str] = ['Level1']):\n",
    "\n",
    "        ref_neighbors, ref_distances = self.nn_index.query(query_adata.X)\n",
    "\n",
    "        # convert distances to affinities\n",
    "        stds = np.std(ref_distances, axis=1)\n",
    "        stds = (2.0 / stds) ** 2\n",
    "        stds = stds.reshape(-1, 1)\n",
    "        ref_distances_tilda = np.exp(-np.true_divide(ref_distances, stds))\n",
    "        weights = ref_distances_tilda / np.sum(ref_distances_tilda, axis=1, keepdims=True)\n",
    "\n",
    "        for l in label_keys:\n",
    "            ref_cats = self.ref_adata.obs[l].cat.codes.to_numpy()[ref_neighbors]\n",
    "            p, u = self.weighted_prediction(weights, ref_cats)\n",
    "            p = np.asarray(self.ref_adata.obs[l].cat.categories)[p]\n",
    "            query_adata.obs[l + \"_pred\"], query_adata.obs[l + \"_uncertainty\"] = p, u\n",
    "        \n",
    "        return query_adata\n",
    "    \n",
    "    @staticmethod\n",
    "    @numba.njit\n",
    "    def weighted_prediction(weights, ref_cats):\n",
    "        \"\"\"Get highest weight category.\"\"\"\n",
    "        N = len(weights)\n",
    "        predictions = np.zeros((N,), dtype=ref_cats.dtype)\n",
    "        uncertainty = np.zeros((N,))\n",
    "        for i in range(N):\n",
    "            obs_weights = weights[i]\n",
    "            obs_cats = ref_cats[i]\n",
    "            best_prob = 0\n",
    "            for c in np.unique(obs_cats):\n",
    "                cand_prob = np.sum(obs_weights[obs_cats == c])\n",
    "                if cand_prob > best_prob:\n",
    "                    best_prob = cand_prob\n",
    "                    predictions[i] = c\n",
    "                    uncertainty[i] = max(1 - best_prob, 0)\n",
    "\n",
    "        return predictions, uncertainty"
   ]
  },
  {
   "cell_type": "markdown",
   "id": "ba4905ae-4546-4ef4-b57b-950441ab079d",
   "metadata": {
    "papermill": {
     "duration": 0.006778,
     "end_time": "2024-07-04T16:28:03.117748",
     "exception": false,
     "start_time": "2024-07-04T16:28:03.110970",
     "status": "completed"
    },
    "tags": []
   },
   "source": [
    "### Loading data"
   ]
  },
  {
   "cell_type": "code",
   "execution_count": 5,
   "id": "539cbbbb-3503-4f51-bf04-f007f928ebd1",
   "metadata": {
    "execution": {
     "iopub.execute_input": "2024-07-04T16:28:03.132209Z",
     "iopub.status.busy": "2024-07-04T16:28:03.131763Z",
     "iopub.status.idle": "2024-07-04T16:28:03.137383Z",
     "shell.execute_reply": "2024-07-04T16:28:03.137019Z"
    },
    "papermill": {
     "duration": 0.014066,
     "end_time": "2024-07-04T16:28:03.138184",
     "exception": false,
     "start_time": "2024-07-04T16:28:03.124118",
     "status": "completed"
    },
    "tags": []
   },
   "outputs": [],
   "source": [
    "adataPATH_ref\n",
    "adataPATH_ref_list = glob(str(here(adataPATH_ref)))\n",
    "assert(len(adataPATH_ref_list) == 1)\n",
    "\n",
    "adataPATH_query\n",
    "adataPATH_query_list = glob(str(here(adataPATH_query)))\n",
    "assert(len(adataPATH_query_list) == 1)"
   ]
  },
  {
   "cell_type": "code",
   "execution_count": 6,
   "id": "0fcfce0a-896b-4dc0-8e5e-46749205c84f",
   "metadata": {
    "execution": {
     "iopub.execute_input": "2024-07-04T16:28:03.170358Z",
     "iopub.status.busy": "2024-07-04T16:28:03.169802Z",
     "iopub.status.idle": "2024-07-04T16:29:44.004031Z",
     "shell.execute_reply": "2024-07-04T16:29:44.003693Z"
    },
    "papermill": {
     "duration": 101.433817,
     "end_time": "2024-07-04T16:29:44.586064",
     "exception": false,
     "start_time": "2024-07-04T16:28:03.152247",
     "status": "completed"
    },
    "tags": []
   },
   "outputs": [
    {
     "data": {
      "text/plain": [
       "(AnnData object with n_obs × n_vars = 4435922 × 20\n",
       "     obs: 'studyID', 'libraryID', 'sampleID', 'chemistry', 'disease', 'sex', 'binned_age', 'Level1', 'Level2', '_scvi_batch', '_scvi_labels',\n",
       " AnnData object with n_obs × n_vars = 849922 × 20\n",
       "     obs: 'studyID', 'libraryID', 'sampleID', 'chemistry', 'technology', 'disease', 'sex', 'binned_age', '_scvi_batch', 'Level2', '_scvi_labels', 'labels')"
      ]
     },
     "execution_count": 6,
     "metadata": {},
     "output_type": "execute_result"
    }
   ],
   "source": [
    "adataR = sc.read_h5ad(adataPATH_ref_list[0])\n",
    "adataQ = sc.read_h5ad(adataPATH_query_list[0])\n",
    "adataR, adataQ"
   ]
  },
  {
   "cell_type": "code",
   "execution_count": 7,
   "id": "43363d5e-2643-4002-8905-e3c99124c70b",
   "metadata": {
    "execution": {
     "iopub.execute_input": "2024-07-04T16:29:45.396082Z",
     "iopub.status.busy": "2024-07-04T16:29:45.395586Z",
     "iopub.status.idle": "2024-07-04T16:29:50.381825Z",
     "shell.execute_reply": "2024-07-04T16:29:50.381413Z"
    },
    "papermill": {
     "duration": 5.280888,
     "end_time": "2024-07-04T16:29:50.382959",
     "exception": false,
     "start_time": "2024-07-04T16:29:45.102071",
     "status": "completed"
    },
    "tags": []
   },
   "outputs": [],
   "source": [
    "Level1_dict = adataR.obs[['Level1','Level2']].set_index('Level2').to_dict()['Level1']"
   ]
  },
  {
   "cell_type": "code",
   "execution_count": 8,
   "id": "0d286575-96c1-4146-b6d5-faab19d5a7ba",
   "metadata": {
    "execution": {
     "iopub.execute_input": "2024-07-04T16:29:55.319067Z",
     "iopub.status.busy": "2024-07-04T16:29:55.318517Z",
     "iopub.status.idle": "2024-07-04T16:29:55.336470Z",
     "shell.execute_reply": "2024-07-04T16:29:55.336101Z"
    },
    "papermill": {
     "duration": 2.113251,
     "end_time": "2024-07-04T16:29:55.337309",
     "exception": false,
     "start_time": "2024-07-04T16:29:53.224058",
     "status": "completed"
    },
    "tags": []
   },
   "outputs": [],
   "source": [
    "adataQ.obs['Level1_scANVIpredict'] = adataQ.obs['labels'].map(Level1_dict)"
   ]
  },
  {
   "cell_type": "code",
   "execution_count": 9,
   "id": "83ea89fd-965e-4c2c-bcd9-7467a6a78cd0",
   "metadata": {
    "execution": {
     "iopub.execute_input": "2024-07-04T16:29:57.053631Z",
     "iopub.status.busy": "2024-07-04T16:29:57.053292Z",
     "iopub.status.idle": "2024-07-04T16:29:57.093307Z",
     "shell.execute_reply": "2024-07-04T16:29:57.092978Z"
    },
    "papermill": {
     "duration": 0.474915,
     "end_time": "2024-07-04T16:29:57.094109",
     "exception": false,
     "start_time": "2024-07-04T16:29:56.619194",
     "status": "completed"
    },
    "tags": []
   },
   "outputs": [
    {
     "data": {
      "text/plain": [
       "Level1_scANVIpredict\n",
       "Mono              0.257774\n",
       "T_CD4_NonNaive    0.191380\n",
       "T_CD4_Naive       0.142001\n",
       "T_CD8_NonNaive    0.135169\n",
       "ILC               0.086673\n",
       "B                 0.080803\n",
       "T_CD8_Naive       0.053388\n",
       "UTC               0.020788\n",
       "DC                0.008476\n",
       "Platelets         0.008041\n",
       "Cycling_cells     0.006001\n",
       "pDC               0.004764\n",
       "Plasma            0.004618\n",
       "RBC               0.000111\n",
       "Progenitors       0.000014\n",
       "Name: proportion, dtype: float64"
      ]
     },
     "execution_count": 9,
     "metadata": {},
     "output_type": "execute_result"
    }
   ],
   "source": [
    "adataQ.obs['Level1_scANVIpredict'].value_counts(normalize = True)"
   ]
  },
  {
   "cell_type": "markdown",
   "id": "bab4753e-78c0-40b9-9361-d94b9804e924",
   "metadata": {
    "papermill": {
     "duration": 1.879834,
     "end_time": "2024-07-04T16:30:00.986204",
     "exception": false,
     "start_time": "2024-07-04T16:29:59.106370",
     "status": "completed"
    },
    "tags": []
   },
   "source": [
    "#### Label transfer with kNN"
   ]
  },
  {
   "cell_type": "code",
   "execution_count": 10,
   "id": "785cca0e-9f6f-48c3-825a-84ea8360e0fb",
   "metadata": {
    "execution": {
     "iopub.execute_input": "2024-07-04T16:30:02.332207Z",
     "iopub.status.busy": "2024-07-04T16:30:02.331723Z",
     "iopub.status.idle": "2024-07-04T16:42:32.317082Z",
     "shell.execute_reply": "2024-07-04T16:42:32.316577Z"
    },
    "papermill": {
     "duration": 750.627428,
     "end_time": "2024-07-04T16:42:32.318494",
     "exception": false,
     "start_time": "2024-07-04T16:30:01.691066",
     "status": "completed"
    },
    "tags": []
   },
   "outputs": [],
   "source": [
    "kNNclf = LabelTransferWithKNN().fit(adataR)"
   ]
  },
  {
   "cell_type": "code",
   "execution_count": 11,
   "id": "08b14276-ec7c-4061-8ad1-ed986c122dc9",
   "metadata": {
    "execution": {
     "iopub.execute_input": "2024-07-04T16:42:32.333509Z",
     "iopub.status.busy": "2024-07-04T16:42:32.333197Z",
     "iopub.status.idle": "2024-07-04T16:43:11.929361Z",
     "shell.execute_reply": "2024-07-04T16:43:11.928904Z"
    },
    "papermill": {
     "duration": 39.612445,
     "end_time": "2024-07-04T16:43:11.938046",
     "exception": false,
     "start_time": "2024-07-04T16:42:32.325601",
     "status": "completed"
    },
    "tags": []
   },
   "outputs": [
    {
     "data": {
      "text/plain": [
       "AnnData object with n_obs × n_vars = 849922 × 20\n",
       "    obs: 'studyID', 'libraryID', 'sampleID', 'chemistry', 'technology', 'disease', 'sex', 'binned_age', '_scvi_batch', 'Level2', '_scvi_labels', 'labels', 'Level1_scANVIpredict', 'Level1_pred', 'Level1_uncertainty'"
      ]
     },
     "execution_count": 11,
     "metadata": {},
     "output_type": "execute_result"
    }
   ],
   "source": [
    "adataQ = kNNclf.predict(query_adata = adataQ, label_keys = ['Level1'])\n",
    "adataQ"
   ]
  },
  {
   "cell_type": "code",
   "execution_count": 12,
   "id": "80b6736a-789a-4137-aa90-bfb74f2323c4",
   "metadata": {
    "execution": {
     "iopub.execute_input": "2024-07-04T16:43:11.954976Z",
     "iopub.status.busy": "2024-07-04T16:43:11.954373Z",
     "iopub.status.idle": "2024-07-04T16:43:11.960362Z",
     "shell.execute_reply": "2024-07-04T16:43:11.959868Z"
    },
    "papermill": {
     "duration": 0.015471,
     "end_time": "2024-07-04T16:43:11.961479",
     "exception": false,
     "start_time": "2024-07-04T16:43:11.946008",
     "status": "completed"
    },
    "tags": []
   },
   "outputs": [],
   "source": [
    "adataQ.obs['Level1_kNN_pred'] = adataQ.obs['Level1_pred']"
   ]
  },
  {
   "cell_type": "code",
   "execution_count": 13,
   "id": "f3f04f12-1058-46b0-95c8-8c8670bd40b2",
   "metadata": {
    "execution": {
     "iopub.execute_input": "2024-07-04T16:43:11.977879Z",
     "iopub.status.busy": "2024-07-04T16:43:11.977388Z",
     "iopub.status.idle": "2024-07-04T16:43:12.016700Z",
     "shell.execute_reply": "2024-07-04T16:43:12.016261Z"
    },
    "papermill": {
     "duration": 0.048575,
     "end_time": "2024-07-04T16:43:12.017573",
     "exception": false,
     "start_time": "2024-07-04T16:43:11.968998",
     "status": "completed"
    },
    "tags": []
   },
   "outputs": [
    {
     "data": {
      "text/plain": [
       "Level1_kNN_pred\n",
       "Mono              0.255906\n",
       "T_CD4_NonNaive    0.163015\n",
       "T_CD4_Naive       0.162188\n",
       "T_CD8_NonNaive    0.119826\n",
       "ILC               0.085118\n",
       "B                 0.080932\n",
       "T_CD8_Naive       0.046408\n",
       "Platelets         0.026280\n",
       "UTC               0.024901\n",
       "DC                0.012494\n",
       "Cycling_cells     0.010748\n",
       "Plasma            0.005188\n",
       "pDC               0.005166\n",
       "Progenitors       0.001663\n",
       "RBC               0.000167\n",
       "Name: proportion, dtype: float64"
      ]
     },
     "execution_count": 13,
     "metadata": {},
     "output_type": "execute_result"
    }
   ],
   "source": [
    "adataQ.obs['Level1_kNN_pred'].value_counts(normalize = True)"
   ]
  },
  {
   "cell_type": "code",
   "execution_count": 14,
   "id": "c1dc4c3a-30b8-45e2-8ed2-f89bd913523e",
   "metadata": {
    "execution": {
     "iopub.execute_input": "2024-07-04T16:43:12.034223Z",
     "iopub.status.busy": "2024-07-04T16:43:12.033905Z",
     "iopub.status.idle": "2024-07-04T16:43:12.084609Z",
     "shell.execute_reply": "2024-07-04T16:43:12.084114Z"
    },
    "papermill": {
     "duration": 0.060524,
     "end_time": "2024-07-04T16:43:12.085763",
     "exception": false,
     "start_time": "2024-07-04T16:43:12.025239",
     "status": "completed"
    },
    "tags": []
   },
   "outputs": [],
   "source": [
    "from sklearn.metrics import adjusted_rand_score as ari"
   ]
  },
  {
   "cell_type": "code",
   "execution_count": 15,
   "id": "ff6d5cbd-e8bc-4f7f-af89-f5dc0675500b",
   "metadata": {
    "execution": {
     "iopub.execute_input": "2024-07-04T16:43:12.125725Z",
     "iopub.status.busy": "2024-07-04T16:43:12.125015Z",
     "iopub.status.idle": "2024-07-04T16:43:13.576611Z",
     "shell.execute_reply": "2024-07-04T16:43:13.576193Z"
    },
    "papermill": {
     "duration": 1.483417,
     "end_time": "2024-07-04T16:43:13.577483",
     "exception": false,
     "start_time": "2024-07-04T16:43:12.094066",
     "status": "completed"
    },
    "tags": []
   },
   "outputs": [
    {
     "data": {
      "text/plain": [
       "0.8346283292709898"
      ]
     },
     "execution_count": 15,
     "metadata": {},
     "output_type": "execute_result"
    }
   ],
   "source": [
    "ari(adataQ.obs['Level1_kNN_pred'],adataQ.obs['Level1_scANVIpredict'])"
   ]
  },
  {
   "cell_type": "markdown",
   "id": "44e868b3-0771-4225-bd79-a4b179bc672b",
   "metadata": {
    "papermill": {
     "duration": 0.008523,
     "end_time": "2024-07-04T16:43:13.640195",
     "exception": false,
     "start_time": "2024-07-04T16:43:13.631672",
     "status": "completed"
    },
    "tags": []
   },
   "source": [
    "#### Generating PSEUDOBULKs"
   ]
  },
  {
   "cell_type": "code",
   "execution_count": 16,
   "id": "81223976-fcf6-4354-8964-b12d76468636",
   "metadata": {
    "execution": {
     "iopub.execute_input": "2024-07-04T16:43:13.668169Z",
     "iopub.status.busy": "2024-07-04T16:43:13.667862Z",
     "iopub.status.idle": "2024-07-04T16:43:15.380708Z",
     "shell.execute_reply": "2024-07-04T16:43:15.380282Z"
    },
    "papermill": {
     "duration": 1.73206,
     "end_time": "2024-07-04T16:43:15.381634",
     "exception": false,
     "start_time": "2024-07-04T16:43:13.649574",
     "status": "completed"
    },
    "tags": []
   },
   "outputs": [
    {
     "data": {
      "text/plain": [
       "AnnData object with n_obs × n_vars = 11372 × 20\n",
       "    obs: 'sampleID', 'Level1', 'disease', 'n_observation'"
      ]
     },
     "execution_count": 16,
     "metadata": {},
     "output_type": "execute_result"
    }
   ],
   "source": [
    "adataPB_R = aggregating_features(Z = adataR.X, \n",
    "                             obsDF = adataR.obs[['sampleID','Level1','disease']], \n",
    "                             mode = 'mean', \n",
    "                             obs_names_col=['sampleID','Level1'], \n",
    "                             min_observation=0)\n",
    "adataPB_R"
   ]
  },
  {
   "cell_type": "markdown",
   "id": "97d09fc5-d05c-471e-87fa-fe58ccbe47ac",
   "metadata": {
    "papermill": {
     "duration": 0.007747,
     "end_time": "2024-07-04T16:43:15.398396",
     "exception": false,
     "start_time": "2024-07-04T16:43:15.390649",
     "status": "completed"
    },
    "tags": []
   },
   "source": [
    "**Considering scANVI predicted labels**"
   ]
  },
  {
   "cell_type": "code",
   "execution_count": 17,
   "id": "8a64ad2e-561b-48a2-a48f-5fc1b9f567aa",
   "metadata": {
    "execution": {
     "iopub.execute_input": "2024-07-04T16:43:15.415556Z",
     "iopub.status.busy": "2024-07-04T16:43:15.415038Z",
     "iopub.status.idle": "2024-07-04T16:43:15.742403Z",
     "shell.execute_reply": "2024-07-04T16:43:15.741997Z"
    },
    "papermill": {
     "duration": 0.337902,
     "end_time": "2024-07-04T16:43:15.743291",
     "exception": false,
     "start_time": "2024-07-04T16:43:15.405389",
     "status": "completed"
    },
    "tags": []
   },
   "outputs": [
    {
     "data": {
      "text/plain": [
       "AnnData object with n_obs × n_vars = 1853 × 20\n",
       "    obs: 'sampleID', 'Level1', 'disease', 'n_observation'"
      ]
     },
     "execution_count": 17,
     "metadata": {},
     "output_type": "execute_result"
    }
   ],
   "source": [
    "adataPB_Q_scANVI = aggregating_features(Z = adataQ.X, \n",
    "                             obsDF = adataQ.obs[['sampleID','Level1_scANVIpredict','disease']], \n",
    "                             mode = 'mean', \n",
    "                             obs_names_col=['sampleID','Level1_scANVIpredict'], \n",
    "                             min_observation=0)\n",
    "\n",
    "adataPB_Q_scANVI.obs.rename({'Level1_scANVIpredict':'Level1'}, axis=1, inplace=True)\n",
    "adataPB_Q_scANVI"
   ]
  },
  {
   "cell_type": "code",
   "execution_count": 18,
   "id": "5c0db4a4-2016-4e00-bc54-9bcead35b4da",
   "metadata": {
    "execution": {
     "iopub.execute_input": "2024-07-04T16:43:15.759486Z",
     "iopub.status.busy": "2024-07-04T16:43:15.759058Z",
     "iopub.status.idle": "2024-07-04T16:43:15.763929Z",
     "shell.execute_reply": "2024-07-04T16:43:15.763484Z"
    },
    "papermill": {
     "duration": 0.013747,
     "end_time": "2024-07-04T16:43:15.764827",
     "exception": false,
     "start_time": "2024-07-04T16:43:15.751080",
     "status": "completed"
    },
    "tags": []
   },
   "outputs": [
    {
     "data": {
      "text/plain": [
       "Level1\n",
       "B                 144\n",
       "ILC               144\n",
       "Mono              144\n",
       "T_CD4_Naive       144\n",
       "T_CD4_NonNaive    144\n",
       "T_CD8_NonNaive    144\n",
       "UTC               144\n",
       "Cycling_cells     142\n",
       "DC                142\n",
       "T_CD8_Naive       142\n",
       "Platelets         138\n",
       "pDC               137\n",
       "Plasma            119\n",
       "RBC                14\n",
       "Progenitors        11\n",
       "Name: count, dtype: int64"
      ]
     },
     "execution_count": 18,
     "metadata": {},
     "output_type": "execute_result"
    }
   ],
   "source": [
    "adataPB_Q_scANVI.obs.Level1.value_counts()"
   ]
  },
  {
   "cell_type": "markdown",
   "id": "6ccd375e-bb4a-47bd-afbb-4399f9fe93bb",
   "metadata": {
    "papermill": {
     "duration": 0.007834,
     "end_time": "2024-07-04T16:43:15.781991",
     "exception": false,
     "start_time": "2024-07-04T16:43:15.774157",
     "status": "completed"
    },
    "tags": []
   },
   "source": [
    "**Considering labels transferred with kNN**"
   ]
  },
  {
   "cell_type": "code",
   "execution_count": 19,
   "id": "0d234e2f",
   "metadata": {
    "execution": {
     "iopub.execute_input": "2024-07-04T16:43:15.806676Z",
     "iopub.status.busy": "2024-07-04T16:43:15.806360Z",
     "iopub.status.idle": "2024-07-04T16:43:16.135118Z",
     "shell.execute_reply": "2024-07-04T16:43:16.134681Z"
    },
    "papermill": {
     "duration": 0.346383,
     "end_time": "2024-07-04T16:43:16.136043",
     "exception": false,
     "start_time": "2024-07-04T16:43:15.789660",
     "status": "completed"
    },
    "tags": []
   },
   "outputs": [
    {
     "data": {
      "text/plain": [
       "AnnData object with n_obs × n_vars = 1986 × 20\n",
       "    obs: 'sampleID', 'Level1', 'disease', 'n_observation'"
      ]
     },
     "execution_count": 19,
     "metadata": {},
     "output_type": "execute_result"
    }
   ],
   "source": [
    "adataPB_Q_kNN = aggregating_features(Z = adataQ.X, \n",
    "                             obsDF = adataQ.obs[['sampleID','Level1_kNN_pred','disease']], \n",
    "                             mode = 'mean', \n",
    "                             obs_names_col=['sampleID','Level1_kNN_pred'], \n",
    "                             min_observation=0)\n",
    "adataPB_Q_kNN.obs.rename({'Level1_kNN_pred':'Level1'}, axis=1, inplace=True)\n",
    "adataPB_Q_kNN"
   ]
  },
  {
   "cell_type": "code",
   "execution_count": 20,
   "id": "51f78e87-ebdb-4095-af60-e5c5bb297b33",
   "metadata": {
    "execution": {
     "iopub.execute_input": "2024-07-04T16:43:16.157191Z",
     "iopub.status.busy": "2024-07-04T16:43:16.156869Z",
     "iopub.status.idle": "2024-07-04T16:43:16.161515Z",
     "shell.execute_reply": "2024-07-04T16:43:16.161086Z"
    },
    "papermill": {
     "duration": 0.01438,
     "end_time": "2024-07-04T16:43:16.162403",
     "exception": false,
     "start_time": "2024-07-04T16:43:16.148023",
     "status": "completed"
    },
    "tags": []
   },
   "outputs": [
    {
     "data": {
      "text/plain": [
       "Level1\n",
       "B                 144\n",
       "Cycling_cells     144\n",
       "ILC               144\n",
       "Mono              144\n",
       "T_CD4_Naive       144\n",
       "T_CD4_NonNaive    144\n",
       "T_CD8_NonNaive    144\n",
       "UTC               144\n",
       "DC                143\n",
       "Platelets         142\n",
       "T_CD8_Naive       142\n",
       "pDC               140\n",
       "Plasma            127\n",
       "Progenitors       125\n",
       "RBC                15\n",
       "Name: count, dtype: int64"
      ]
     },
     "execution_count": 20,
     "metadata": {},
     "output_type": "execute_result"
    }
   ],
   "source": [
    "adataPB_Q_kNN.obs.Level1.value_counts()"
   ]
  },
  {
   "cell_type": "markdown",
   "id": "d59574be-684b-4082-b8b6-7d11930362ad",
   "metadata": {
    "papermill": {
     "duration": 0.009253,
     "end_time": "2024-07-04T16:43:16.181170",
     "exception": false,
     "start_time": "2024-07-04T16:43:16.171917",
     "status": "completed"
    },
    "tags": []
   },
   "source": [
    "### Saving pseudobulk adata objects"
   ]
  },
  {
   "cell_type": "code",
   "execution_count": 21,
   "id": "3ce1c9f0-1868-4854-b610-4c85581409c6",
   "metadata": {
    "execution": {
     "iopub.execute_input": "2024-07-04T16:43:16.207383Z",
     "iopub.status.busy": "2024-07-04T16:43:16.206930Z",
     "iopub.status.idle": "2024-07-04T16:43:16.210106Z",
     "shell.execute_reply": "2024-07-04T16:43:16.209685Z"
    },
    "papermill": {
     "duration": 0.013901,
     "end_time": "2024-07-04T16:43:16.210999",
     "exception": false,
     "start_time": "2024-07-04T16:43:16.197098",
     "status": "completed"
    },
    "tags": []
   },
   "outputs": [
    {
     "data": {
      "text/plain": [
       "'/scratch_isilon/groups/singlecell/shared/projects/Inflammation-PBMCs-Atlas/03_downstream_analysis/08_PatientClassifier/scANVI/results/reference/scANVI_VALIDATION_256_20_Level2_run2_finetuning.h5ad'"
      ]
     },
     "execution_count": 21,
     "metadata": {},
     "output_type": "execute_result"
    }
   ],
   "source": [
    "adataPATH_ref_list[0]"
   ]
  },
  {
   "cell_type": "code",
   "execution_count": 22,
   "id": "88f795a3-ab63-436d-a149-5bc18499537d",
   "metadata": {
    "execution": {
     "iopub.execute_input": "2024-07-04T16:43:16.234827Z",
     "iopub.status.busy": "2024-07-04T16:43:16.234378Z",
     "iopub.status.idle": "2024-07-04T16:43:16.237624Z",
     "shell.execute_reply": "2024-07-04T16:43:16.237210Z"
    },
    "papermill": {
     "duration": 0.019886,
     "end_time": "2024-07-04T16:43:16.238515",
     "exception": false,
     "start_time": "2024-07-04T16:43:16.218629",
     "status": "completed"
    },
    "tags": []
   },
   "outputs": [
    {
     "data": {
      "text/plain": [
       "'/scratch_isilon/groups/singlecell/shared/projects/Inflammation-PBMCs-Atlas/03_downstream_analysis/08_PatientClassifier/scANVI/results/PSEUDOBULKs/scANVI_PSEUDOBULK_reference_VALIDATION_256_20_Level2_run2_finetuning.h5ad'"
      ]
     },
     "execution_count": 22,
     "metadata": {},
     "output_type": "execute_result"
    }
   ],
   "source": [
    "adataPATH_ref_list[0].replace('/reference/scANVI_','/PSEUDOBULKs/scANVI_PSEUDOBULK_reference_')"
   ]
  },
  {
   "cell_type": "code",
   "execution_count": 23,
   "id": "5947e6f8-ac27-4702-ba5d-aa9e1ba79f6a",
   "metadata": {
    "execution": {
     "iopub.execute_input": "2024-07-04T16:43:16.261909Z",
     "iopub.status.busy": "2024-07-04T16:43:16.261438Z",
     "iopub.status.idle": "2024-07-04T16:43:16.405191Z",
     "shell.execute_reply": "2024-07-04T16:43:16.404659Z"
    },
    "papermill": {
     "duration": 0.153692,
     "end_time": "2024-07-04T16:43:16.406444",
     "exception": false,
     "start_time": "2024-07-04T16:43:16.252752",
     "status": "completed"
    },
    "tags": []
   },
   "outputs": [],
   "source": [
    "adataPB_R.write(here(adataPATH_ref_list[0].replace('/reference/scANVI_','/PSEUDOBULKs/scANVI_PSEUDOBULK_reference_')), compression='gzip')"
   ]
  },
  {
   "cell_type": "code",
   "execution_count": 24,
   "id": "8a70d9f6-7a44-45ee-8470-702bd7af1e0b",
   "metadata": {
    "execution": {
     "iopub.execute_input": "2024-07-04T16:43:16.441037Z",
     "iopub.status.busy": "2024-07-04T16:43:16.440521Z",
     "iopub.status.idle": "2024-07-04T16:43:16.507635Z",
     "shell.execute_reply": "2024-07-04T16:43:16.507117Z"
    },
    "papermill": {
     "duration": 0.09484,
     "end_time": "2024-07-04T16:43:16.508805",
     "exception": false,
     "start_time": "2024-07-04T16:43:16.413965",
     "status": "completed"
    },
    "tags": []
   },
   "outputs": [],
   "source": [
    "adataPB_Q_scANVI.write(here(adataPATH_query_list[0].replace('/query/scANVI_','/PSEUDOBULKs/scANVI_PSEUDOBULK_query_')), compression='gzip')"
   ]
  },
  {
   "cell_type": "code",
   "execution_count": 25,
   "id": "19305819",
   "metadata": {
    "execution": {
     "iopub.execute_input": "2024-07-04T16:43:16.527118Z",
     "iopub.status.busy": "2024-07-04T16:43:16.526679Z",
     "iopub.status.idle": "2024-07-04T16:43:16.569170Z",
     "shell.execute_reply": "2024-07-04T16:43:16.568549Z"
    },
    "papermill": {
     "duration": 0.053168,
     "end_time": "2024-07-04T16:43:16.570355",
     "exception": false,
     "start_time": "2024-07-04T16:43:16.517187",
     "status": "completed"
    },
    "tags": []
   },
   "outputs": [],
   "source": [
    "adataPB_Q_kNN.write(here(adataPATH_query_list[0].replace('/query/scANVI_','/PSEUDOBULKs/scANVI_PSEUDOBULK_kNN_query_')), compression='gzip')"
   ]
  }
 ],
 "metadata": {
  "kernelspec": {
   "display_name": "Python 3 (ipykernel)",
   "language": "python",
   "name": "python3"
  },
  "language_info": {
   "codemirror_mode": {
    "name": "ipython",
    "version": 3
   },
   "file_extension": ".py",
   "mimetype": "text/x-python",
   "name": "python",
   "nbconvert_exporter": "python",
   "pygments_lexer": "ipython3",
   "version": "3.12.3"
  },
  "papermill": {
   "default_parameters": {},
   "duration": 929.410793,
   "end_time": "2024-07-04T16:43:17.999729",
   "environment_variables": {},
   "exception": null,
   "input_path": "03_labelTransfer_generating_PSEUDOBULKs.ipynb",
   "output_path": "executed_notebooks/03_labelTransfer_generating_PSEUDOBULKs_VALIDATION_nPC20.ipynb",
   "parameters": {
    "adataPATH_query": "03_downstream_analysis/08_PatientClassifier/scANVI/results/query/scANVI_VALIDATION_*_20_Level2_*.h5ad",
    "adataPATH_ref": "03_downstream_analysis/08_PatientClassifier/scANVI/results/reference/scANVI_VALIDATION_*_20_Level2_*.h5ad"
   },
   "start_time": "2024-07-04T16:27:48.588936",
   "version": "2.6.0"
  }
 },
 "nbformat": 4,
 "nbformat_minor": 5
}