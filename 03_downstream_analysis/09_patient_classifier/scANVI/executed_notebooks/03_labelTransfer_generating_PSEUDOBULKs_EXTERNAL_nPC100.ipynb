{
 "cells": [
  {
   "cell_type": "code",
   "execution_count": 1,
   "id": "d571b05e",
   "metadata": {
    "execution": {
     "iopub.execute_input": "2024-07-04T16:44:18.738713Z",
     "iopub.status.busy": "2024-07-04T16:44:18.738408Z",
     "iopub.status.idle": "2024-07-04T16:44:18.741889Z",
     "shell.execute_reply": "2024-07-04T16:44:18.741398Z"
    },
    "papermill": {
     "duration": 0.01223,
     "end_time": "2024-07-04T16:44:18.742766",
     "exception": false,
     "start_time": "2024-07-04T16:44:18.730536",
     "status": "completed"
    },
    "tags": [
     "injected-parameters"
    ]
   },
   "outputs": [],
   "source": [
    "# Parameters\n",
    "adataPATH_ref = \"03_downstream_analysis/08_PatientClassifier/scANVI/results/reference/scANVI_EXTERNAL_*_100_Level2_*.h5ad\"\n",
    "adataPATH_query = \"03_downstream_analysis/08_PatientClassifier/scANVI/results/query/scANVI_EXTERNAL_*_100_Level2_*.h5ad\"\n"
   ]
  },
  {
   "cell_type": "raw",
   "id": "8002b33d-9b20-4bdf-a1a3-acc29d5a0295",
   "metadata": {
    "execution": {
     "iopub.execute_input": "2024-07-04T11:25:09.444596Z",
     "iopub.status.busy": "2024-07-04T11:25:09.444279Z",
     "iopub.status.idle": "2024-07-04T11:25:09.447097Z",
     "shell.execute_reply": "2024-07-04T11:25:09.446732Z",
     "shell.execute_reply.started": "2024-07-04T11:25:09.444579Z"
    },
    "papermill": {
     "duration": 0.007427,
     "end_time": "2024-07-04T16:44:18.756984",
     "exception": false,
     "start_time": "2024-07-04T16:44:18.749557",
     "status": "completed"
    },
    "tags": [],
    "vscode": {
     "languageId": "raw"
    }
   },
   "source": [
    "adataPATH_ref = '03_downstream_analysis/08_PatientClassifier/scANVI/results/reference/scANVI_VALIDATION_256_30_Level2_run1_finetuning.h5ad'\n",
    "adataPATH_query = '03_downstream_analysis/08_PatientClassifier/scANVI/results/query/scANVI_VALIDATION_256_30_Level2_run1_finetuning.h5ad'"
   ]
  },
  {
   "cell_type": "code",
   "execution_count": 2,
   "id": "d3ccb10a-7201-43d0-a593-2b4650ff3451",
   "metadata": {
    "execution": {
     "iopub.execute_input": "2024-07-04T16:44:18.772040Z",
     "iopub.status.busy": "2024-07-04T16:44:18.771534Z",
     "iopub.status.idle": "2024-07-04T16:44:18.774887Z",
     "shell.execute_reply": "2024-07-04T16:44:18.774454Z"
    },
    "papermill": {
     "duration": 0.011604,
     "end_time": "2024-07-04T16:44:18.775708",
     "exception": false,
     "start_time": "2024-07-04T16:44:18.764104",
     "status": "completed"
    },
    "tags": []
   },
   "outputs": [
    {
     "name": "stdout",
     "output_type": "stream",
     "text": [
      "adataPATH_ref = 03_downstream_analysis/08_PatientClassifier/scANVI/results/reference/scANVI_EXTERNAL_*_100_Level2_*.h5ad\n",
      "adataPATH_query = 03_downstream_analysis/08_PatientClassifier/scANVI/results/query/scANVI_EXTERNAL_*_100_Level2_*.h5ad\n"
     ]
    }
   ],
   "source": [
    "for v in ['adataPATH_ref','adataPATH_query']:\n",
    "    if v in locals() or v in globals():\n",
    "        print(f\"{v} = {eval(v)}\")\n",
    "    else:\n",
    "        raise Exception(f\"{v} not specified\")"
   ]
  },
  {
   "cell_type": "code",
   "execution_count": 3,
   "id": "888fb5f4-9ab7-4196-a282-7a7e92a43971",
   "metadata": {
    "execution": {
     "iopub.execute_input": "2024-07-04T16:44:18.790683Z",
     "iopub.status.busy": "2024-07-04T16:44:18.790551Z",
     "iopub.status.idle": "2024-07-04T16:44:29.157977Z",
     "shell.execute_reply": "2024-07-04T16:44:29.157450Z"
    },
    "papermill": {
     "duration": 10.376056,
     "end_time": "2024-07-04T16:44:29.159305",
     "exception": false,
     "start_time": "2024-07-04T16:44:18.783249",
     "status": "completed"
    },
    "tags": []
   },
   "outputs": [],
   "source": [
    "import os\n",
    "import sys\n",
    "from glob import glob\n",
    "\n",
    "import scanpy as sc\n",
    "import pandas as pd\n",
    "\n",
    "import pynndescent\n",
    "import numpy as np\n",
    "import numba\n",
    "\n",
    "from pyprojroot import here\n",
    "\n",
    "sys.path.insert(1, str(here('bin')))\n",
    "# Import custom functions\n",
    "from customPythonFunctions import aggregating_features"
   ]
  },
  {
   "cell_type": "markdown",
   "id": "cc14bdf1-cb35-427d-b868-48480d371ac1",
   "metadata": {
    "papermill": {
     "duration": 0.054722,
     "end_time": "2024-07-04T16:44:29.221614",
     "exception": false,
     "start_time": "2024-07-04T16:44:29.166892",
     "status": "completed"
    },
    "tags": []
   },
   "source": [
    "### Defining kNN label transfer function"
   ]
  },
  {
   "cell_type": "code",
   "execution_count": 4,
   "id": "2cde8870-daf7-4eb9-b1be-d7a700b1876b",
   "metadata": {
    "execution": {
     "iopub.execute_input": "2024-07-04T16:44:29.381478Z",
     "iopub.status.busy": "2024-07-04T16:44:29.381005Z",
     "iopub.status.idle": "2024-07-04T16:44:29.387535Z",
     "shell.execute_reply": "2024-07-04T16:44:29.387071Z"
    },
    "papermill": {
     "duration": 0.045906,
     "end_time": "2024-07-04T16:44:29.388565",
     "exception": false,
     "start_time": "2024-07-04T16:44:29.342659",
     "status": "completed"
    },
    "tags": []
   },
   "outputs": [],
   "source": [
    "class LabelTransferWithKNN:\n",
    "    \"\"\" See https://docs.scvi-tools.org/en/stable/tutorials/notebooks/scrna/query_hlca_knn.html \"\"\"\n",
    "    def fit(self, ref_adata):\n",
    "        self.ref_adata = ref_adata\n",
    "        self.nn_index = pynndescent.NNDescent(self.ref_adata.X)\n",
    "        self.nn_index.prepare()\n",
    "        return self\n",
    "\n",
    "    def predict(self, query_adata, label_keys: list[str] = ['Level1']):\n",
    "\n",
    "        ref_neighbors, ref_distances = self.nn_index.query(query_adata.X)\n",
    "\n",
    "        # convert distances to affinities\n",
    "        stds = np.std(ref_distances, axis=1)\n",
    "        stds = (2.0 / stds) ** 2\n",
    "        stds = stds.reshape(-1, 1)\n",
    "        ref_distances_tilda = np.exp(-np.true_divide(ref_distances, stds))\n",
    "        weights = ref_distances_tilda / np.sum(ref_distances_tilda, axis=1, keepdims=True)\n",
    "\n",
    "        for l in label_keys:\n",
    "            ref_cats = self.ref_adata.obs[l].cat.codes.to_numpy()[ref_neighbors]\n",
    "            p, u = self.weighted_prediction(weights, ref_cats)\n",
    "            p = np.asarray(self.ref_adata.obs[l].cat.categories)[p]\n",
    "            query_adata.obs[l + \"_pred\"], query_adata.obs[l + \"_uncertainty\"] = p, u\n",
    "        \n",
    "        return query_adata\n",
    "    \n",
    "    @staticmethod\n",
    "    @numba.njit\n",
    "    def weighted_prediction(weights, ref_cats):\n",
    "        \"\"\"Get highest weight category.\"\"\"\n",
    "        N = len(weights)\n",
    "        predictions = np.zeros((N,), dtype=ref_cats.dtype)\n",
    "        uncertainty = np.zeros((N,))\n",
    "        for i in range(N):\n",
    "            obs_weights = weights[i]\n",
    "            obs_cats = ref_cats[i]\n",
    "            best_prob = 0\n",
    "            for c in np.unique(obs_cats):\n",
    "                cand_prob = np.sum(obs_weights[obs_cats == c])\n",
    "                if cand_prob > best_prob:\n",
    "                    best_prob = cand_prob\n",
    "                    predictions[i] = c\n",
    "                    uncertainty[i] = max(1 - best_prob, 0)\n",
    "\n",
    "        return predictions, uncertainty"
   ]
  },
  {
   "cell_type": "markdown",
   "id": "ba4905ae-4546-4ef4-b57b-950441ab079d",
   "metadata": {
    "papermill": {
     "duration": 0.114669,
     "end_time": "2024-07-04T16:44:29.515579",
     "exception": false,
     "start_time": "2024-07-04T16:44:29.400910",
     "status": "completed"
    },
    "tags": []
   },
   "source": [
    "### Loading data"
   ]
  },
  {
   "cell_type": "code",
   "execution_count": 5,
   "id": "539cbbbb-3503-4f51-bf04-f007f928ebd1",
   "metadata": {
    "execution": {
     "iopub.execute_input": "2024-07-04T16:44:29.543196Z",
     "iopub.status.busy": "2024-07-04T16:44:29.542944Z",
     "iopub.status.idle": "2024-07-04T16:44:29.549181Z",
     "shell.execute_reply": "2024-07-04T16:44:29.548751Z"
    },
    "papermill": {
     "duration": 0.015847,
     "end_time": "2024-07-04T16:44:29.550328",
     "exception": false,
     "start_time": "2024-07-04T16:44:29.534481",
     "status": "completed"
    },
    "tags": []
   },
   "outputs": [],
   "source": [
    "adataPATH_ref\n",
    "adataPATH_ref_list = glob(str(here(adataPATH_ref)))\n",
    "assert(len(adataPATH_ref_list) == 1)\n",
    "\n",
    "adataPATH_query\n",
    "adataPATH_query_list = glob(str(here(adataPATH_query)))\n",
    "assert(len(adataPATH_query_list) == 1)"
   ]
  },
  {
   "cell_type": "code",
   "execution_count": 6,
   "id": "0fcfce0a-896b-4dc0-8e5e-46749205c84f",
   "metadata": {
    "execution": {
     "iopub.execute_input": "2024-07-04T16:44:29.564609Z",
     "iopub.status.busy": "2024-07-04T16:44:29.564375Z",
     "iopub.status.idle": "2024-07-04T16:44:59.155583Z",
     "shell.execute_reply": "2024-07-04T16:44:59.155100Z"
    },
    "papermill": {
     "duration": 29.59926,
     "end_time": "2024-07-04T16:44:59.156661",
     "exception": false,
     "start_time": "2024-07-04T16:44:29.557401",
     "status": "completed"
    },
    "tags": []
   },
   "outputs": [
    {
     "data": {
      "text/plain": [
       "(AnnData object with n_obs × n_vars = 4435922 × 100\n",
       "     obs: 'studyID', 'libraryID', 'sampleID', 'chemistry', 'disease', 'sex', 'binned_age', 'Level1', 'Level2', '_scvi_batch', '_scvi_labels',\n",
       " AnnData object with n_obs × n_vars = 572872 × 100\n",
       "     obs: 'studyID', 'libraryID', 'sampleID', 'chemistry', 'technology', 'disease', 'sex', 'binned_age', '_scvi_batch', 'Level2', '_scvi_labels', 'labels')"
      ]
     },
     "execution_count": 6,
     "metadata": {},
     "output_type": "execute_result"
    }
   ],
   "source": [
    "adataR = sc.read_h5ad(adataPATH_ref_list[0])\n",
    "adataQ = sc.read_h5ad(adataPATH_query_list[0])\n",
    "adataR, adataQ"
   ]
  },
  {
   "cell_type": "code",
   "execution_count": 7,
   "id": "43363d5e-2643-4002-8905-e3c99124c70b",
   "metadata": {
    "execution": {
     "iopub.execute_input": "2024-07-04T16:44:59.171170Z",
     "iopub.status.busy": "2024-07-04T16:44:59.170810Z",
     "iopub.status.idle": "2024-07-04T16:45:01.031960Z",
     "shell.execute_reply": "2024-07-04T16:45:01.031496Z"
    },
    "papermill": {
     "duration": 1.869977,
     "end_time": "2024-07-04T16:45:01.033199",
     "exception": false,
     "start_time": "2024-07-04T16:44:59.163222",
     "status": "completed"
    },
    "tags": []
   },
   "outputs": [],
   "source": [
    "Level1_dict = adataR.obs[['Level1','Level2']].set_index('Level2').to_dict()['Level1']"
   ]
  },
  {
   "cell_type": "code",
   "execution_count": 8,
   "id": "0d286575-96c1-4146-b6d5-faab19d5a7ba",
   "metadata": {
    "execution": {
     "iopub.execute_input": "2024-07-04T16:45:01.049394Z",
     "iopub.status.busy": "2024-07-04T16:45:01.048978Z",
     "iopub.status.idle": "2024-07-04T16:45:01.062629Z",
     "shell.execute_reply": "2024-07-04T16:45:01.062179Z"
    },
    "papermill": {
     "duration": 0.021632,
     "end_time": "2024-07-04T16:45:01.063526",
     "exception": false,
     "start_time": "2024-07-04T16:45:01.041894",
     "status": "completed"
    },
    "tags": []
   },
   "outputs": [],
   "source": [
    "adataQ.obs['Level1_scANVIpredict'] = adataQ.obs['labels'].map(Level1_dict)"
   ]
  },
  {
   "cell_type": "code",
   "execution_count": 9,
   "id": "83ea89fd-965e-4c2c-bcd9-7467a6a78cd0",
   "metadata": {
    "execution": {
     "iopub.execute_input": "2024-07-04T16:45:01.077309Z",
     "iopub.status.busy": "2024-07-04T16:45:01.077062Z",
     "iopub.status.idle": "2024-07-04T16:45:01.105800Z",
     "shell.execute_reply": "2024-07-04T16:45:01.105420Z"
    },
    "papermill": {
     "duration": 0.036671,
     "end_time": "2024-07-04T16:45:01.106726",
     "exception": false,
     "start_time": "2024-07-04T16:45:01.070055",
     "status": "completed"
    },
    "tags": []
   },
   "outputs": [
    {
     "data": {
      "text/plain": [
       "Level1_scANVIpredict\n",
       "Mono              0.242194\n",
       "T_CD4_NonNaive    0.208219\n",
       "T_CD4_Naive       0.161212\n",
       "T_CD8_NonNaive    0.114568\n",
       "B                 0.079075\n",
       "ILC               0.069686\n",
       "T_CD8_Naive       0.065400\n",
       "UTC               0.030220\n",
       "Platelets         0.010180\n",
       "DC                0.009863\n",
       "pDC               0.004399\n",
       "Cycling_cells     0.002416\n",
       "Plasma            0.001334\n",
       "Progenitors       0.000658\n",
       "RBC               0.000576\n",
       "Name: proportion, dtype: float64"
      ]
     },
     "execution_count": 9,
     "metadata": {},
     "output_type": "execute_result"
    }
   ],
   "source": [
    "adataQ.obs['Level1_scANVIpredict'].value_counts(normalize = True)"
   ]
  },
  {
   "cell_type": "markdown",
   "id": "bab4753e-78c0-40b9-9361-d94b9804e924",
   "metadata": {
    "papermill": {
     "duration": 0.006764,
     "end_time": "2024-07-04T16:45:01.120364",
     "exception": false,
     "start_time": "2024-07-04T16:45:01.113600",
     "status": "completed"
    },
    "tags": []
   },
   "source": [
    "#### Label transfer with kNN"
   ]
  },
  {
   "cell_type": "code",
   "execution_count": 10,
   "id": "785cca0e-9f6f-48c3-825a-84ea8360e0fb",
   "metadata": {
    "execution": {
     "iopub.execute_input": "2024-07-04T16:45:01.302588Z",
     "iopub.status.busy": "2024-07-04T16:45:01.302226Z",
     "iopub.status.idle": "2024-07-04T16:57:34.939504Z",
     "shell.execute_reply": "2024-07-04T16:57:34.938988Z"
    },
    "papermill": {
     "duration": 753.646272,
     "end_time": "2024-07-04T16:57:34.940842",
     "exception": false,
     "start_time": "2024-07-04T16:45:01.294570",
     "status": "completed"
    },
    "tags": []
   },
   "outputs": [],
   "source": [
    "kNNclf = LabelTransferWithKNN().fit(adataR)"
   ]
  },
  {
   "cell_type": "code",
   "execution_count": 11,
   "id": "08b14276-ec7c-4061-8ad1-ed986c122dc9",
   "metadata": {
    "execution": {
     "iopub.execute_input": "2024-07-04T16:57:34.955484Z",
     "iopub.status.busy": "2024-07-04T16:57:34.954920Z",
     "iopub.status.idle": "2024-07-04T16:58:03.705244Z",
     "shell.execute_reply": "2024-07-04T16:58:03.704791Z"
    },
    "papermill": {
     "duration": 28.758326,
     "end_time": "2024-07-04T16:58:03.706119",
     "exception": false,
     "start_time": "2024-07-04T16:57:34.947793",
     "status": "completed"
    },
    "tags": []
   },
   "outputs": [
    {
     "data": {
      "text/plain": [
       "AnnData object with n_obs × n_vars = 572872 × 100\n",
       "    obs: 'studyID', 'libraryID', 'sampleID', 'chemistry', 'technology', 'disease', 'sex', 'binned_age', '_scvi_batch', 'Level2', '_scvi_labels', 'labels', 'Level1_scANVIpredict', 'Level1_pred', 'Level1_uncertainty'"
      ]
     },
     "execution_count": 11,
     "metadata": {},
     "output_type": "execute_result"
    }
   ],
   "source": [
    "adataQ = kNNclf.predict(query_adata = adataQ, label_keys = ['Level1'])\n",
    "adataQ"
   ]
  },
  {
   "cell_type": "code",
   "execution_count": 12,
   "id": "80b6736a-789a-4137-aa90-bfb74f2323c4",
   "metadata": {
    "execution": {
     "iopub.execute_input": "2024-07-04T16:58:03.720078Z",
     "iopub.status.busy": "2024-07-04T16:58:03.719714Z",
     "iopub.status.idle": "2024-07-04T16:58:03.723986Z",
     "shell.execute_reply": "2024-07-04T16:58:03.723579Z"
    },
    "papermill": {
     "duration": 0.012062,
     "end_time": "2024-07-04T16:58:03.724789",
     "exception": false,
     "start_time": "2024-07-04T16:58:03.712727",
     "status": "completed"
    },
    "tags": []
   },
   "outputs": [],
   "source": [
    "adataQ.obs['Level1_kNN_pred'] = adataQ.obs['Level1_pred']"
   ]
  },
  {
   "cell_type": "code",
   "execution_count": 13,
   "id": "f3f04f12-1058-46b0-95c8-8c8670bd40b2",
   "metadata": {
    "execution": {
     "iopub.execute_input": "2024-07-04T16:58:03.738654Z",
     "iopub.status.busy": "2024-07-04T16:58:03.738369Z",
     "iopub.status.idle": "2024-07-04T16:58:03.765105Z",
     "shell.execute_reply": "2024-07-04T16:58:03.764726Z"
    },
    "papermill": {
     "duration": 0.034502,
     "end_time": "2024-07-04T16:58:03.765888",
     "exception": false,
     "start_time": "2024-07-04T16:58:03.731386",
     "status": "completed"
    },
    "tags": []
   },
   "outputs": [
    {
     "data": {
      "text/plain": [
       "Level1_kNN_pred\n",
       "Mono              0.234944\n",
       "T_CD4_Naive       0.203269\n",
       "T_CD4_NonNaive    0.172824\n",
       "T_CD8_NonNaive    0.108223\n",
       "B                 0.079019\n",
       "ILC               0.069284\n",
       "T_CD8_Naive       0.060827\n",
       "UTC               0.027645\n",
       "Platelets         0.022817\n",
       "DC                0.009431\n",
       "Cycling_cells     0.004416\n",
       "pDC               0.004006\n",
       "Progenitors       0.001274\n",
       "Plasma            0.001194\n",
       "RBC               0.000826\n",
       "Name: proportion, dtype: float64"
      ]
     },
     "execution_count": 13,
     "metadata": {},
     "output_type": "execute_result"
    }
   ],
   "source": [
    "adataQ.obs['Level1_kNN_pred'].value_counts(normalize = True)"
   ]
  },
  {
   "cell_type": "code",
   "execution_count": 14,
   "id": "c1dc4c3a-30b8-45e2-8ed2-f89bd913523e",
   "metadata": {
    "execution": {
     "iopub.execute_input": "2024-07-04T16:58:03.780592Z",
     "iopub.status.busy": "2024-07-04T16:58:03.780199Z",
     "iopub.status.idle": "2024-07-04T16:58:03.814704Z",
     "shell.execute_reply": "2024-07-04T16:58:03.814287Z"
    },
    "papermill": {
     "duration": 0.043098,
     "end_time": "2024-07-04T16:58:03.815589",
     "exception": false,
     "start_time": "2024-07-04T16:58:03.772491",
     "status": "completed"
    },
    "tags": []
   },
   "outputs": [],
   "source": [
    "from sklearn.metrics import adjusted_rand_score as ari"
   ]
  },
  {
   "cell_type": "code",
   "execution_count": 15,
   "id": "ff6d5cbd-e8bc-4f7f-af89-f5dc0675500b",
   "metadata": {
    "execution": {
     "iopub.execute_input": "2024-07-04T16:58:03.830978Z",
     "iopub.status.busy": "2024-07-04T16:58:03.830675Z",
     "iopub.status.idle": "2024-07-04T16:58:04.726888Z",
     "shell.execute_reply": "2024-07-04T16:58:04.726439Z"
    },
    "papermill": {
     "duration": 0.903868,
     "end_time": "2024-07-04T16:58:04.727690",
     "exception": false,
     "start_time": "2024-07-04T16:58:03.823822",
     "status": "completed"
    },
    "tags": []
   },
   "outputs": [
    {
     "data": {
      "text/plain": [
       "0.8354025131829107"
      ]
     },
     "execution_count": 15,
     "metadata": {},
     "output_type": "execute_result"
    }
   ],
   "source": [
    "ari(adataQ.obs['Level1_kNN_pred'],adataQ.obs['Level1_scANVIpredict'])"
   ]
  },
  {
   "cell_type": "markdown",
   "id": "44e868b3-0771-4225-bd79-a4b179bc672b",
   "metadata": {
    "papermill": {
     "duration": 0.007098,
     "end_time": "2024-07-04T16:58:04.741862",
     "exception": false,
     "start_time": "2024-07-04T16:58:04.734764",
     "status": "completed"
    },
    "tags": []
   },
   "source": [
    "#### Generating PSEUDOBULKs"
   ]
  },
  {
   "cell_type": "code",
   "execution_count": 16,
   "id": "81223976-fcf6-4354-8964-b12d76468636",
   "metadata": {
    "execution": {
     "iopub.execute_input": "2024-07-04T16:58:04.755678Z",
     "iopub.status.busy": "2024-07-04T16:58:04.755531Z",
     "iopub.status.idle": "2024-07-04T16:58:07.213972Z",
     "shell.execute_reply": "2024-07-04T16:58:07.213527Z"
    },
    "papermill": {
     "duration": 2.466281,
     "end_time": "2024-07-04T16:58:07.214772",
     "exception": false,
     "start_time": "2024-07-04T16:58:04.748491",
     "status": "completed"
    },
    "tags": []
   },
   "outputs": [
    {
     "data": {
      "text/plain": [
       "AnnData object with n_obs × n_vars = 11372 × 100\n",
       "    obs: 'sampleID', 'Level1', 'disease', 'n_observation'"
      ]
     },
     "execution_count": 16,
     "metadata": {},
     "output_type": "execute_result"
    }
   ],
   "source": [
    "adataPB_R = aggregating_features(Z = adataR.X, \n",
    "                             obsDF = adataR.obs[['sampleID','Level1','disease']], \n",
    "                             mode = 'mean', \n",
    "                             obs_names_col=['sampleID','Level1'], \n",
    "                             min_observation=0)\n",
    "adataPB_R"
   ]
  },
  {
   "cell_type": "markdown",
   "id": "97d09fc5-d05c-471e-87fa-fe58ccbe47ac",
   "metadata": {
    "papermill": {
     "duration": 0.006805,
     "end_time": "2024-07-04T16:58:07.230501",
     "exception": false,
     "start_time": "2024-07-04T16:58:07.223696",
     "status": "completed"
    },
    "tags": []
   },
   "source": [
    "**Considering scANVI predicted labels**"
   ]
  },
  {
   "cell_type": "code",
   "execution_count": 17,
   "id": "8a64ad2e-561b-48a2-a48f-5fc1b9f567aa",
   "metadata": {
    "execution": {
     "iopub.execute_input": "2024-07-04T16:58:07.246121Z",
     "iopub.status.busy": "2024-07-04T16:58:07.245972Z",
     "iopub.status.idle": "2024-07-04T16:58:07.562254Z",
     "shell.execute_reply": "2024-07-04T16:58:07.561826Z"
    },
    "papermill": {
     "duration": 0.324666,
     "end_time": "2024-07-04T16:58:07.563053",
     "exception": false,
     "start_time": "2024-07-04T16:58:07.238387",
     "status": "completed"
    },
    "tags": []
   },
   "outputs": [
    {
     "data": {
      "text/plain": [
       "AnnData object with n_obs × n_vars = 1189 × 100\n",
       "    obs: 'sampleID', 'Level1', 'disease', 'n_observation'"
      ]
     },
     "execution_count": 17,
     "metadata": {},
     "output_type": "execute_result"
    }
   ],
   "source": [
    "adataPB_Q_scANVI = aggregating_features(Z = adataQ.X, \n",
    "                             obsDF = adataQ.obs[['sampleID','Level1_scANVIpredict','disease']], \n",
    "                             mode = 'mean', \n",
    "                             obs_names_col=['sampleID','Level1_scANVIpredict'], \n",
    "                             min_observation=0)\n",
    "\n",
    "adataPB_Q_scANVI.obs.rename({'Level1_scANVIpredict':'Level1'}, axis=1, inplace=True)\n",
    "adataPB_Q_scANVI"
   ]
  },
  {
   "cell_type": "code",
   "execution_count": 18,
   "id": "5c0db4a4-2016-4e00-bc54-9bcead35b4da",
   "metadata": {
    "execution": {
     "iopub.execute_input": "2024-07-04T16:58:07.585434Z",
     "iopub.status.busy": "2024-07-04T16:58:07.585109Z",
     "iopub.status.idle": "2024-07-04T16:58:07.589016Z",
     "shell.execute_reply": "2024-07-04T16:58:07.588661Z"
    },
    "papermill": {
     "duration": 0.012756,
     "end_time": "2024-07-04T16:58:07.589789",
     "exception": false,
     "start_time": "2024-07-04T16:58:07.577033",
     "status": "completed"
    },
    "tags": []
   },
   "outputs": [
    {
     "data": {
      "text/plain": [
       "Level1\n",
       "B                 86\n",
       "DC                86\n",
       "ILC               86\n",
       "Mono              86\n",
       "T_CD4_Naive       86\n",
       "T_CD4_NonNaive    86\n",
       "T_CD8_Naive       86\n",
       "T_CD8_NonNaive    86\n",
       "UTC               86\n",
       "Platelets         83\n",
       "Plasma            82\n",
       "Cycling_cells     80\n",
       "pDC               77\n",
       "Progenitors       76\n",
       "RBC               17\n",
       "Name: count, dtype: int64"
      ]
     },
     "execution_count": 18,
     "metadata": {},
     "output_type": "execute_result"
    }
   ],
   "source": [
    "adataPB_Q_scANVI.obs.Level1.value_counts()"
   ]
  },
  {
   "cell_type": "markdown",
   "id": "6ccd375e-bb4a-47bd-afbb-4399f9fe93bb",
   "metadata": {
    "papermill": {
     "duration": 0.006921,
     "end_time": "2024-07-04T16:58:07.603638",
     "exception": false,
     "start_time": "2024-07-04T16:58:07.596717",
     "status": "completed"
    },
    "tags": []
   },
   "source": [
    "**Considering labels transferred with kNN**"
   ]
  },
  {
   "cell_type": "code",
   "execution_count": 19,
   "id": "0d234e2f",
   "metadata": {
    "execution": {
     "iopub.execute_input": "2024-07-04T16:58:07.618775Z",
     "iopub.status.busy": "2024-07-04T16:58:07.618281Z",
     "iopub.status.idle": "2024-07-04T16:58:07.934506Z",
     "shell.execute_reply": "2024-07-04T16:58:07.934076Z"
    },
    "papermill": {
     "duration": 0.324413,
     "end_time": "2024-07-04T16:58:07.935308",
     "exception": false,
     "start_time": "2024-07-04T16:58:07.610895",
     "status": "completed"
    },
    "tags": []
   },
   "outputs": [
    {
     "data": {
      "text/plain": [
       "AnnData object with n_obs × n_vars = 1217 × 100\n",
       "    obs: 'sampleID', 'Level1', 'disease', 'n_observation'"
      ]
     },
     "execution_count": 19,
     "metadata": {},
     "output_type": "execute_result"
    }
   ],
   "source": [
    "adataPB_Q_kNN = aggregating_features(Z = adataQ.X, \n",
    "                             obsDF = adataQ.obs[['sampleID','Level1_kNN_pred','disease']], \n",
    "                             mode = 'mean', \n",
    "                             obs_names_col=['sampleID','Level1_kNN_pred'], \n",
    "                             min_observation=0)\n",
    "adataPB_Q_kNN.obs.rename({'Level1_kNN_pred':'Level1'}, axis=1, inplace=True)\n",
    "adataPB_Q_kNN"
   ]
  },
  {
   "cell_type": "code",
   "execution_count": 20,
   "id": "51f78e87-ebdb-4095-af60-e5c5bb297b33",
   "metadata": {
    "execution": {
     "iopub.execute_input": "2024-07-04T16:58:07.950623Z",
     "iopub.status.busy": "2024-07-04T16:58:07.950480Z",
     "iopub.status.idle": "2024-07-04T16:58:07.954254Z",
     "shell.execute_reply": "2024-07-04T16:58:07.953892Z"
    },
    "papermill": {
     "duration": 0.01209,
     "end_time": "2024-07-04T16:58:07.955017",
     "exception": false,
     "start_time": "2024-07-04T16:58:07.942927",
     "status": "completed"
    },
    "tags": []
   },
   "outputs": [
    {
     "data": {
      "text/plain": [
       "Level1\n",
       "B                 86\n",
       "DC                86\n",
       "ILC               86\n",
       "Mono              86\n",
       "Platelets         86\n",
       "T_CD4_Naive       86\n",
       "T_CD4_NonNaive    86\n",
       "T_CD8_Naive       86\n",
       "T_CD8_NonNaive    86\n",
       "UTC               86\n",
       "Cycling_cells     83\n",
       "Plasma            82\n",
       "Progenitors       79\n",
       "pDC               79\n",
       "RBC               34\n",
       "Name: count, dtype: int64"
      ]
     },
     "execution_count": 20,
     "metadata": {},
     "output_type": "execute_result"
    }
   ],
   "source": [
    "adataPB_Q_kNN.obs.Level1.value_counts()"
   ]
  },
  {
   "cell_type": "markdown",
   "id": "d59574be-684b-4082-b8b6-7d11930362ad",
   "metadata": {
    "papermill": {
     "duration": 0.006892,
     "end_time": "2024-07-04T16:58:07.969443",
     "exception": false,
     "start_time": "2024-07-04T16:58:07.962551",
     "status": "completed"
    },
    "tags": []
   },
   "source": [
    "### Saving pseudobulk adata objects"
   ]
  },
  {
   "cell_type": "code",
   "execution_count": 21,
   "id": "3ce1c9f0-1868-4854-b610-4c85581409c6",
   "metadata": {
    "execution": {
     "iopub.execute_input": "2024-07-04T16:58:08.041062Z",
     "iopub.status.busy": "2024-07-04T16:58:08.040926Z",
     "iopub.status.idle": "2024-07-04T16:58:08.043550Z",
     "shell.execute_reply": "2024-07-04T16:58:08.043201Z"
    },
    "papermill": {
     "duration": 0.067709,
     "end_time": "2024-07-04T16:58:08.044339",
     "exception": false,
     "start_time": "2024-07-04T16:58:07.976630",
     "status": "completed"
    },
    "tags": []
   },
   "outputs": [
    {
     "data": {
      "text/plain": [
       "'/scratch_isilon/groups/singlecell/shared/projects/Inflammation-PBMCs-Atlas/03_downstream_analysis/08_PatientClassifier/scANVI/results/reference/scANVI_EXTERNAL_256_100_Level2_run1_finetuning.h5ad'"
      ]
     },
     "execution_count": 21,
     "metadata": {},
     "output_type": "execute_result"
    }
   ],
   "source": [
    "adataPATH_ref_list[0]"
   ]
  },
  {
   "cell_type": "code",
   "execution_count": 22,
   "id": "88f795a3-ab63-436d-a149-5bc18499537d",
   "metadata": {
    "execution": {
     "iopub.execute_input": "2024-07-04T16:58:08.070521Z",
     "iopub.status.busy": "2024-07-04T16:58:08.070389Z",
     "iopub.status.idle": "2024-07-04T16:58:08.073144Z",
     "shell.execute_reply": "2024-07-04T16:58:08.072790Z"
    },
    "papermill": {
     "duration": 0.022549,
     "end_time": "2024-07-04T16:58:08.073905",
     "exception": false,
     "start_time": "2024-07-04T16:58:08.051356",
     "status": "completed"
    },
    "tags": []
   },
   "outputs": [
    {
     "data": {
      "text/plain": [
       "'/scratch_isilon/groups/singlecell/shared/projects/Inflammation-PBMCs-Atlas/03_downstream_analysis/08_PatientClassifier/scANVI/results/PSEUDOBULKs/scANVI_PSEUDOBULK_reference_EXTERNAL_256_100_Level2_run1_finetuning.h5ad'"
      ]
     },
     "execution_count": 22,
     "metadata": {},
     "output_type": "execute_result"
    }
   ],
   "source": [
    "adataPATH_ref_list[0].replace('/reference/scANVI_','/PSEUDOBULKs/scANVI_PSEUDOBULK_reference_')"
   ]
  },
  {
   "cell_type": "code",
   "execution_count": 23,
   "id": "5947e6f8-ac27-4702-ba5d-aa9e1ba79f6a",
   "metadata": {
    "execution": {
     "iopub.execute_input": "2024-07-04T16:58:08.112758Z",
     "iopub.status.busy": "2024-07-04T16:58:08.112295Z",
     "iopub.status.idle": "2024-07-04T16:58:08.690787Z",
     "shell.execute_reply": "2024-07-04T16:58:08.690305Z"
    },
    "papermill": {
     "duration": 0.597258,
     "end_time": "2024-07-04T16:58:08.691583",
     "exception": false,
     "start_time": "2024-07-04T16:58:08.094325",
     "status": "completed"
    },
    "tags": []
   },
   "outputs": [],
   "source": [
    "adataPB_R.write(here(adataPATH_ref_list[0].replace('/reference/scANVI_','/PSEUDOBULKs/scANVI_PSEUDOBULK_reference_')), compression='gzip')"
   ]
  },
  {
   "cell_type": "code",
   "execution_count": 24,
   "id": "8a70d9f6-7a44-45ee-8470-702bd7af1e0b",
   "metadata": {
    "execution": {
     "iopub.execute_input": "2024-07-04T16:58:08.707127Z",
     "iopub.status.busy": "2024-07-04T16:58:08.706849Z",
     "iopub.status.idle": "2024-07-04T16:58:09.031964Z",
     "shell.execute_reply": "2024-07-04T16:58:09.031497Z"
    },
    "papermill": {
     "duration": 0.333818,
     "end_time": "2024-07-04T16:58:09.032814",
     "exception": false,
     "start_time": "2024-07-04T16:58:08.698996",
     "status": "completed"
    },
    "tags": []
   },
   "outputs": [],
   "source": [
    "adataPB_Q_scANVI.write(here(adataPATH_query_list[0].replace('/query/scANVI_','/PSEUDOBULKs/scANVI_PSEUDOBULK_query_')), compression='gzip')"
   ]
  },
  {
   "cell_type": "code",
   "execution_count": 25,
   "id": "19305819",
   "metadata": {
    "execution": {
     "iopub.execute_input": "2024-07-04T16:58:09.047577Z",
     "iopub.status.busy": "2024-07-04T16:58:09.047303Z",
     "iopub.status.idle": "2024-07-04T16:58:09.118369Z",
     "shell.execute_reply": "2024-07-04T16:58:09.117972Z"
    },
    "papermill": {
     "duration": 0.079443,
     "end_time": "2024-07-04T16:58:09.119157",
     "exception": false,
     "start_time": "2024-07-04T16:58:09.039714",
     "status": "completed"
    },
    "tags": []
   },
   "outputs": [],
   "source": [
    "adataPB_Q_kNN.write(here(adataPATH_query_list[0].replace('/query/scANVI_','/PSEUDOBULKs/scANVI_PSEUDOBULK_kNN_query_')), compression='gzip')"
   ]
  }
 ],
 "metadata": {
  "kernelspec": {
   "display_name": "Python 3 (ipykernel)",
   "language": "python",
   "name": "python3"
  },
  "language_info": {
   "codemirror_mode": {
    "name": "ipython",
    "version": 3
   },
   "file_extension": ".py",
   "mimetype": "text/x-python",
   "name": "python",
   "nbconvert_exporter": "python",
   "pygments_lexer": "ipython3",
   "version": "3.12.3"
  },
  "papermill": {
   "default_parameters": {},
   "duration": 834.650741,
   "end_time": "2024-07-04T16:58:10.697834",
   "environment_variables": {},
   "exception": null,
   "input_path": "03_labelTransfer_generating_PSEUDOBULKs.ipynb",
   "output_path": "executed_notebooks/03_labelTransfer_generating_PSEUDOBULKs_EXTERNAL_nPC100.ipynb",
   "parameters": {
    "adataPATH_query": "03_downstream_analysis/08_PatientClassifier/scANVI/results/query/scANVI_EXTERNAL_*_100_Level2_*.h5ad",
    "adataPATH_ref": "03_downstream_analysis/08_PatientClassifier/scANVI/results/reference/scANVI_EXTERNAL_*_100_Level2_*.h5ad"
   },
   "start_time": "2024-07-04T16:44:16.047093",
   "version": "2.6.0"
  }
 },
 "nbformat": 4,
 "nbformat_minor": 5
}