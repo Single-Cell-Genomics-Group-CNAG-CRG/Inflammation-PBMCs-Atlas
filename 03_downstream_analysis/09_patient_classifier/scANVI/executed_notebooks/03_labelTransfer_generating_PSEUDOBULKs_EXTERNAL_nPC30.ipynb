{
 "cells": [
  {
   "cell_type": "code",
   "execution_count": 1,
   "id": "0759ca14",
   "metadata": {
    "execution": {
     "iopub.execute_input": "2024-07-04T16:43:56.702883Z",
     "iopub.status.busy": "2024-07-04T16:43:56.702573Z",
     "iopub.status.idle": "2024-07-04T16:43:56.705855Z",
     "shell.execute_reply": "2024-07-04T16:43:56.705463Z"
    },
    "papermill": {
     "duration": 0.012281,
     "end_time": "2024-07-04T16:43:56.706729",
     "exception": false,
     "start_time": "2024-07-04T16:43:56.694448",
     "status": "completed"
    },
    "tags": [
     "injected-parameters"
    ]
   },
   "outputs": [],
   "source": [
    "# Parameters\n",
    "adataPATH_ref = \"03_downstream_analysis/08_PatientClassifier/scANVI/results/reference/scANVI_EXTERNAL_*_30_Level2_*.h5ad\"\n",
    "adataPATH_query = \"03_downstream_analysis/08_PatientClassifier/scANVI/results/query/scANVI_EXTERNAL_*_30_Level2_*.h5ad\"\n"
   ]
  },
  {
   "cell_type": "raw",
   "id": "8002b33d-9b20-4bdf-a1a3-acc29d5a0295",
   "metadata": {
    "execution": {
     "iopub.execute_input": "2024-07-04T11:25:09.444596Z",
     "iopub.status.busy": "2024-07-04T11:25:09.444279Z",
     "iopub.status.idle": "2024-07-04T11:25:09.447097Z",
     "shell.execute_reply": "2024-07-04T11:25:09.446732Z",
     "shell.execute_reply.started": "2024-07-04T11:25:09.444579Z"
    },
    "papermill": {
     "duration": 0.006659,
     "end_time": "2024-07-04T16:43:56.719666",
     "exception": false,
     "start_time": "2024-07-04T16:43:56.713007",
     "status": "completed"
    },
    "tags": [],
    "vscode": {
     "languageId": "raw"
    }
   },
   "source": [
    "adataPATH_ref = '03_downstream_analysis/08_PatientClassifier/scANVI/results/reference/scANVI_VALIDATION_256_30_Level2_run1_finetuning.h5ad'\n",
    "adataPATH_query = '03_downstream_analysis/08_PatientClassifier/scANVI/results/query/scANVI_VALIDATION_256_30_Level2_run1_finetuning.h5ad'"
   ]
  },
  {
   "cell_type": "code",
   "execution_count": 2,
   "id": "d3ccb10a-7201-43d0-a593-2b4650ff3451",
   "metadata": {
    "execution": {
     "iopub.execute_input": "2024-07-04T16:43:56.734079Z",
     "iopub.status.busy": "2024-07-04T16:43:56.733265Z",
     "iopub.status.idle": "2024-07-04T16:43:56.737060Z",
     "shell.execute_reply": "2024-07-04T16:43:56.736639Z"
    },
    "papermill": {
     "duration": 0.01179,
     "end_time": "2024-07-04T16:43:56.737993",
     "exception": false,
     "start_time": "2024-07-04T16:43:56.726203",
     "status": "completed"
    },
    "tags": []
   },
   "outputs": [
    {
     "name": "stdout",
     "output_type": "stream",
     "text": [
      "adataPATH_ref = 03_downstream_analysis/08_PatientClassifier/scANVI/results/reference/scANVI_EXTERNAL_*_30_Level2_*.h5ad\n",
      "adataPATH_query = 03_downstream_analysis/08_PatientClassifier/scANVI/results/query/scANVI_EXTERNAL_*_30_Level2_*.h5ad\n"
     ]
    }
   ],
   "source": [
    "for v in ['adataPATH_ref','adataPATH_query']:\n",
    "    if v in locals() or v in globals():\n",
    "        print(f\"{v} = {eval(v)}\")\n",
    "    else:\n",
    "        raise Exception(f\"{v} not specified\")"
   ]
  },
  {
   "cell_type": "code",
   "execution_count": 3,
   "id": "888fb5f4-9ab7-4196-a282-7a7e92a43971",
   "metadata": {
    "execution": {
     "iopub.execute_input": "2024-07-04T16:43:56.783121Z",
     "iopub.status.busy": "2024-07-04T16:43:56.782672Z",
     "iopub.status.idle": "2024-07-04T16:44:03.830050Z",
     "shell.execute_reply": "2024-07-04T16:44:03.829493Z"
    },
    "papermill": {
     "duration": 7.085793,
     "end_time": "2024-07-04T16:44:03.831460",
     "exception": false,
     "start_time": "2024-07-04T16:43:56.745667",
     "status": "completed"
    },
    "tags": []
   },
   "outputs": [],
   "source": [
    "import os\n",
    "import sys\n",
    "from glob import glob\n",
    "\n",
    "import scanpy as sc\n",
    "import pandas as pd\n",
    "\n",
    "import pynndescent\n",
    "import numpy as np\n",
    "import numba\n",
    "\n",
    "from pyprojroot import here\n",
    "\n",
    "sys.path.insert(1, str(here('bin')))\n",
    "# Import custom functions\n",
    "from customPythonFunctions import aggregating_features"
   ]
  },
  {
   "cell_type": "markdown",
   "id": "cc14bdf1-cb35-427d-b868-48480d371ac1",
   "metadata": {
    "papermill": {
     "duration": 0.006329,
     "end_time": "2024-07-04T16:44:03.844728",
     "exception": false,
     "start_time": "2024-07-04T16:44:03.838399",
     "status": "completed"
    },
    "tags": []
   },
   "source": [
    "### Defining kNN label transfer function"
   ]
  },
  {
   "cell_type": "code",
   "execution_count": 4,
   "id": "2cde8870-daf7-4eb9-b1be-d7a700b1876b",
   "metadata": {
    "execution": {
     "iopub.execute_input": "2024-07-04T16:44:03.868985Z",
     "iopub.status.busy": "2024-07-04T16:44:03.868575Z",
     "iopub.status.idle": "2024-07-04T16:44:03.875251Z",
     "shell.execute_reply": "2024-07-04T16:44:03.874762Z"
    },
    "papermill": {
     "duration": 0.014984,
     "end_time": "2024-07-04T16:44:03.876160",
     "exception": false,
     "start_time": "2024-07-04T16:44:03.861176",
     "status": "completed"
    },
    "tags": []
   },
   "outputs": [],
   "source": [
    "class LabelTransferWithKNN:\n",
    "    \"\"\" See https://docs.scvi-tools.org/en/stable/tutorials/notebooks/scrna/query_hlca_knn.html \"\"\"\n",
    "    def fit(self, ref_adata):\n",
    "        self.ref_adata = ref_adata\n",
    "        self.nn_index = pynndescent.NNDescent(self.ref_adata.X)\n",
    "        self.nn_index.prepare()\n",
    "        return self\n",
    "\n",
    "    def predict(self, query_adata, label_keys: list[str] = ['Level1']):\n",
    "\n",
    "        ref_neighbors, ref_distances = self.nn_index.query(query_adata.X)\n",
    "\n",
    "        # convert distances to affinities\n",
    "        stds = np.std(ref_distances, axis=1)\n",
    "        stds = (2.0 / stds) ** 2\n",
    "        stds = stds.reshape(-1, 1)\n",
    "        ref_distances_tilda = np.exp(-np.true_divide(ref_distances, stds))\n",
    "        weights = ref_distances_tilda / np.sum(ref_distances_tilda, axis=1, keepdims=True)\n",
    "\n",
    "        for l in label_keys:\n",
    "            ref_cats = self.ref_adata.obs[l].cat.codes.to_numpy()[ref_neighbors]\n",
    "            p, u = self.weighted_prediction(weights, ref_cats)\n",
    "            p = np.asarray(self.ref_adata.obs[l].cat.categories)[p]\n",
    "            query_adata.obs[l + \"_pred\"], query_adata.obs[l + \"_uncertainty\"] = p, u\n",
    "        \n",
    "        return query_adata\n",
    "    \n",
    "    @staticmethod\n",
    "    @numba.njit\n",
    "    def weighted_prediction(weights, ref_cats):\n",
    "        \"\"\"Get highest weight category.\"\"\"\n",
    "        N = len(weights)\n",
    "        predictions = np.zeros((N,), dtype=ref_cats.dtype)\n",
    "        uncertainty = np.zeros((N,))\n",
    "        for i in range(N):\n",
    "            obs_weights = weights[i]\n",
    "            obs_cats = ref_cats[i]\n",
    "            best_prob = 0\n",
    "            for c in np.unique(obs_cats):\n",
    "                cand_prob = np.sum(obs_weights[obs_cats == c])\n",
    "                if cand_prob > best_prob:\n",
    "                    best_prob = cand_prob\n",
    "                    predictions[i] = c\n",
    "                    uncertainty[i] = max(1 - best_prob, 0)\n",
    "\n",
    "        return predictions, uncertainty"
   ]
  },
  {
   "cell_type": "markdown",
   "id": "ba4905ae-4546-4ef4-b57b-950441ab079d",
   "metadata": {
    "papermill": {
     "duration": 0.006982,
     "end_time": "2024-07-04T16:44:03.889879",
     "exception": false,
     "start_time": "2024-07-04T16:44:03.882897",
     "status": "completed"
    },
    "tags": []
   },
   "source": [
    "### Loading data"
   ]
  },
  {
   "cell_type": "code",
   "execution_count": 5,
   "id": "539cbbbb-3503-4f51-bf04-f007f928ebd1",
   "metadata": {
    "execution": {
     "iopub.execute_input": "2024-07-04T16:44:03.913672Z",
     "iopub.status.busy": "2024-07-04T16:44:03.913334Z",
     "iopub.status.idle": "2024-07-04T16:44:03.923857Z",
     "shell.execute_reply": "2024-07-04T16:44:03.923352Z"
    },
    "papermill": {
     "duration": 0.019838,
     "end_time": "2024-07-04T16:44:03.925179",
     "exception": false,
     "start_time": "2024-07-04T16:44:03.905341",
     "status": "completed"
    },
    "tags": []
   },
   "outputs": [],
   "source": [
    "adataPATH_ref\n",
    "adataPATH_ref_list = glob(str(here(adataPATH_ref)))\n",
    "assert(len(adataPATH_ref_list) == 1)\n",
    "\n",
    "adataPATH_query\n",
    "adataPATH_query_list = glob(str(here(adataPATH_query)))\n",
    "assert(len(adataPATH_query_list) == 1)"
   ]
  },
  {
   "cell_type": "code",
   "execution_count": 6,
   "id": "0fcfce0a-896b-4dc0-8e5e-46749205c84f",
   "metadata": {
    "execution": {
     "iopub.execute_input": "2024-07-04T16:44:03.939034Z",
     "iopub.status.busy": "2024-07-04T16:44:03.938689Z",
     "iopub.status.idle": "2024-07-04T16:44:18.378691Z",
     "shell.execute_reply": "2024-07-04T16:44:18.378271Z"
    },
    "papermill": {
     "duration": 14.44827,
     "end_time": "2024-07-04T16:44:18.379665",
     "exception": false,
     "start_time": "2024-07-04T16:44:03.931395",
     "status": "completed"
    },
    "tags": []
   },
   "outputs": [
    {
     "data": {
      "text/plain": [
       "(AnnData object with n_obs × n_vars = 4435922 × 30\n",
       "     obs: 'studyID', 'libraryID', 'sampleID', 'chemistry', 'disease', 'sex', 'binned_age', 'Level1', 'Level2', '_scvi_batch', '_scvi_labels',\n",
       " AnnData object with n_obs × n_vars = 572872 × 30\n",
       "     obs: 'studyID', 'libraryID', 'sampleID', 'chemistry', 'technology', 'disease', 'sex', 'binned_age', '_scvi_batch', 'Level2', '_scvi_labels', 'labels')"
      ]
     },
     "execution_count": 6,
     "metadata": {},
     "output_type": "execute_result"
    }
   ],
   "source": [
    "adataR = sc.read_h5ad(adataPATH_ref_list[0])\n",
    "adataQ = sc.read_h5ad(adataPATH_query_list[0])\n",
    "adataR, adataQ"
   ]
  },
  {
   "cell_type": "code",
   "execution_count": 7,
   "id": "43363d5e-2643-4002-8905-e3c99124c70b",
   "metadata": {
    "execution": {
     "iopub.execute_input": "2024-07-04T16:44:18.403905Z",
     "iopub.status.busy": "2024-07-04T16:44:18.403747Z",
     "iopub.status.idle": "2024-07-04T16:44:20.306495Z",
     "shell.execute_reply": "2024-07-04T16:44:20.305976Z"
    },
    "papermill": {
     "duration": 1.912105,
     "end_time": "2024-07-04T16:44:20.307636",
     "exception": false,
     "start_time": "2024-07-04T16:44:18.395531",
     "status": "completed"
    },
    "tags": []
   },
   "outputs": [],
   "source": [
    "Level1_dict = adataR.obs[['Level1','Level2']].set_index('Level2').to_dict()['Level1']"
   ]
  },
  {
   "cell_type": "code",
   "execution_count": 8,
   "id": "0d286575-96c1-4146-b6d5-faab19d5a7ba",
   "metadata": {
    "execution": {
     "iopub.execute_input": "2024-07-04T16:44:20.373618Z",
     "iopub.status.busy": "2024-07-04T16:44:20.373283Z",
     "iopub.status.idle": "2024-07-04T16:44:20.386675Z",
     "shell.execute_reply": "2024-07-04T16:44:20.386180Z"
    },
    "papermill": {
     "duration": 0.021574,
     "end_time": "2024-07-04T16:44:20.387527",
     "exception": false,
     "start_time": "2024-07-04T16:44:20.365953",
     "status": "completed"
    },
    "tags": []
   },
   "outputs": [],
   "source": [
    "adataQ.obs['Level1_scANVIpredict'] = adataQ.obs['labels'].map(Level1_dict)"
   ]
  },
  {
   "cell_type": "code",
   "execution_count": 9,
   "id": "83ea89fd-965e-4c2c-bcd9-7467a6a78cd0",
   "metadata": {
    "execution": {
     "iopub.execute_input": "2024-07-04T16:44:20.436333Z",
     "iopub.status.busy": "2024-07-04T16:44:20.436031Z",
     "iopub.status.idle": "2024-07-04T16:44:20.465682Z",
     "shell.execute_reply": "2024-07-04T16:44:20.465257Z"
    },
    "papermill": {
     "duration": 0.037249,
     "end_time": "2024-07-04T16:44:20.466505",
     "exception": false,
     "start_time": "2024-07-04T16:44:20.429256",
     "status": "completed"
    },
    "tags": []
   },
   "outputs": [
    {
     "data": {
      "text/plain": [
       "Level1_scANVIpredict\n",
       "Mono              0.239905\n",
       "T_CD4_NonNaive    0.218000\n",
       "T_CD4_Naive       0.149243\n",
       "T_CD8_NonNaive    0.126032\n",
       "B                 0.079967\n",
       "T_CD8_Naive       0.064713\n",
       "ILC               0.063946\n",
       "UTC               0.025884\n",
       "Platelets         0.015096\n",
       "DC                0.009133\n",
       "pDC               0.004050\n",
       "Cycling_cells     0.002515\n",
       "Plasma            0.000946\n",
       "RBC               0.000569\n",
       "Progenitors       0.000002\n",
       "Name: proportion, dtype: float64"
      ]
     },
     "execution_count": 9,
     "metadata": {},
     "output_type": "execute_result"
    }
   ],
   "source": [
    "adataQ.obs['Level1_scANVIpredict'].value_counts(normalize = True)"
   ]
  },
  {
   "cell_type": "markdown",
   "id": "bab4753e-78c0-40b9-9361-d94b9804e924",
   "metadata": {
    "papermill": {
     "duration": 0.005727,
     "end_time": "2024-07-04T16:44:20.478189",
     "exception": false,
     "start_time": "2024-07-04T16:44:20.472462",
     "status": "completed"
    },
    "tags": []
   },
   "source": [
    "#### Label transfer with kNN"
   ]
  },
  {
   "cell_type": "code",
   "execution_count": 10,
   "id": "785cca0e-9f6f-48c3-825a-84ea8360e0fb",
   "metadata": {
    "execution": {
     "iopub.execute_input": "2024-07-04T16:44:20.509607Z",
     "iopub.status.busy": "2024-07-04T16:44:20.509149Z",
     "iopub.status.idle": "2024-07-04T16:56:19.969281Z",
     "shell.execute_reply": "2024-07-04T16:56:19.968767Z"
    },
    "papermill": {
     "duration": 719.485974,
     "end_time": "2024-07-04T16:56:19.970557",
     "exception": false,
     "start_time": "2024-07-04T16:44:20.484583",
     "status": "completed"
    },
    "tags": []
   },
   "outputs": [],
   "source": [
    "kNNclf = LabelTransferWithKNN().fit(adataR)"
   ]
  },
  {
   "cell_type": "code",
   "execution_count": 11,
   "id": "08b14276-ec7c-4061-8ad1-ed986c122dc9",
   "metadata": {
    "execution": {
     "iopub.execute_input": "2024-07-04T16:56:19.987191Z",
     "iopub.status.busy": "2024-07-04T16:56:19.987033Z",
     "iopub.status.idle": "2024-07-04T16:56:50.297703Z",
     "shell.execute_reply": "2024-07-04T16:56:50.297264Z"
    },
    "papermill": {
     "duration": 30.325265,
     "end_time": "2024-07-04T16:56:50.304709",
     "exception": false,
     "start_time": "2024-07-04T16:56:19.979444",
     "status": "completed"
    },
    "tags": []
   },
   "outputs": [
    {
     "data": {
      "text/plain": [
       "AnnData object with n_obs × n_vars = 572872 × 30\n",
       "    obs: 'studyID', 'libraryID', 'sampleID', 'chemistry', 'technology', 'disease', 'sex', 'binned_age', '_scvi_batch', 'Level2', '_scvi_labels', 'labels', 'Level1_scANVIpredict', 'Level1_pred', 'Level1_uncertainty'"
      ]
     },
     "execution_count": 11,
     "metadata": {},
     "output_type": "execute_result"
    }
   ],
   "source": [
    "adataQ = kNNclf.predict(query_adata = adataQ, label_keys = ['Level1'])\n",
    "adataQ"
   ]
  },
  {
   "cell_type": "code",
   "execution_count": 12,
   "id": "80b6736a-789a-4137-aa90-bfb74f2323c4",
   "metadata": {
    "execution": {
     "iopub.execute_input": "2024-07-04T16:56:50.318702Z",
     "iopub.status.busy": "2024-07-04T16:56:50.318465Z",
     "iopub.status.idle": "2024-07-04T16:56:50.322796Z",
     "shell.execute_reply": "2024-07-04T16:56:50.322449Z"
    },
    "papermill": {
     "duration": 0.012019,
     "end_time": "2024-07-04T16:56:50.323765",
     "exception": false,
     "start_time": "2024-07-04T16:56:50.311746",
     "status": "completed"
    },
    "tags": []
   },
   "outputs": [],
   "source": [
    "adataQ.obs['Level1_kNN_pred'] = adataQ.obs['Level1_pred']"
   ]
  },
  {
   "cell_type": "code",
   "execution_count": 13,
   "id": "f3f04f12-1058-46b0-95c8-8c8670bd40b2",
   "metadata": {
    "execution": {
     "iopub.execute_input": "2024-07-04T16:56:50.337296Z",
     "iopub.status.busy": "2024-07-04T16:56:50.336947Z",
     "iopub.status.idle": "2024-07-04T16:56:50.364044Z",
     "shell.execute_reply": "2024-07-04T16:56:50.363725Z"
    },
    "papermill": {
     "duration": 0.034617,
     "end_time": "2024-07-04T16:56:50.364833",
     "exception": false,
     "start_time": "2024-07-04T16:56:50.330216",
     "status": "completed"
    },
    "tags": []
   },
   "outputs": [
    {
     "data": {
      "text/plain": [
       "Level1_kNN_pred\n",
       "Mono              0.233979\n",
       "T_CD4_Naive       0.201022\n",
       "T_CD4_NonNaive    0.175362\n",
       "T_CD8_NonNaive    0.107829\n",
       "B                 0.080386\n",
       "ILC               0.069075\n",
       "T_CD8_Naive       0.060834\n",
       "UTC               0.027285\n",
       "Platelets         0.023096\n",
       "DC                0.009035\n",
       "Cycling_cells     0.004401\n",
       "pDC               0.004251\n",
       "Progenitors       0.001302\n",
       "Plasma            0.001293\n",
       "RBC               0.000850\n",
       "Name: proportion, dtype: float64"
      ]
     },
     "execution_count": 13,
     "metadata": {},
     "output_type": "execute_result"
    }
   ],
   "source": [
    "adataQ.obs['Level1_kNN_pred'].value_counts(normalize = True)"
   ]
  },
  {
   "cell_type": "code",
   "execution_count": 14,
   "id": "c1dc4c3a-30b8-45e2-8ed2-f89bd913523e",
   "metadata": {
    "execution": {
     "iopub.execute_input": "2024-07-04T16:56:50.380719Z",
     "iopub.status.busy": "2024-07-04T16:56:50.380437Z",
     "iopub.status.idle": "2024-07-04T16:56:50.410952Z",
     "shell.execute_reply": "2024-07-04T16:56:50.410595Z"
    },
    "papermill": {
     "duration": 0.039156,
     "end_time": "2024-07-04T16:56:50.411884",
     "exception": false,
     "start_time": "2024-07-04T16:56:50.372728",
     "status": "completed"
    },
    "tags": []
   },
   "outputs": [],
   "source": [
    "from sklearn.metrics import adjusted_rand_score as ari"
   ]
  },
  {
   "cell_type": "code",
   "execution_count": 15,
   "id": "ff6d5cbd-e8bc-4f7f-af89-f5dc0675500b",
   "metadata": {
    "execution": {
     "iopub.execute_input": "2024-07-04T16:56:50.432142Z",
     "iopub.status.busy": "2024-07-04T16:56:50.431670Z",
     "iopub.status.idle": "2024-07-04T16:56:51.334394Z",
     "shell.execute_reply": "2024-07-04T16:56:51.334059Z"
    },
    "papermill": {
     "duration": 0.910783,
     "end_time": "2024-07-04T16:56:51.335217",
     "exception": false,
     "start_time": "2024-07-04T16:56:50.424434",
     "status": "completed"
    },
    "tags": []
   },
   "outputs": [
    {
     "data": {
      "text/plain": [
       "0.8078158859429132"
      ]
     },
     "execution_count": 15,
     "metadata": {},
     "output_type": "execute_result"
    }
   ],
   "source": [
    "ari(adataQ.obs['Level1_kNN_pred'],adataQ.obs['Level1_scANVIpredict'])"
   ]
  },
  {
   "cell_type": "markdown",
   "id": "44e868b3-0771-4225-bd79-a4b179bc672b",
   "metadata": {
    "papermill": {
     "duration": 0.006937,
     "end_time": "2024-07-04T16:56:51.352490",
     "exception": false,
     "start_time": "2024-07-04T16:56:51.345553",
     "status": "completed"
    },
    "tags": []
   },
   "source": [
    "#### Generating PSEUDOBULKs"
   ]
  },
  {
   "cell_type": "code",
   "execution_count": 16,
   "id": "81223976-fcf6-4354-8964-b12d76468636",
   "metadata": {
    "execution": {
     "iopub.execute_input": "2024-07-04T16:56:51.370085Z",
     "iopub.status.busy": "2024-07-04T16:56:51.369739Z",
     "iopub.status.idle": "2024-07-04T16:56:53.127423Z",
     "shell.execute_reply": "2024-07-04T16:56:53.127082Z"
    },
    "papermill": {
     "duration": 1.765698,
     "end_time": "2024-07-04T16:56:53.128255",
     "exception": false,
     "start_time": "2024-07-04T16:56:51.362557",
     "status": "completed"
    },
    "tags": []
   },
   "outputs": [
    {
     "data": {
      "text/plain": [
       "AnnData object with n_obs × n_vars = 11372 × 30\n",
       "    obs: 'sampleID', 'Level1', 'disease', 'n_observation'"
      ]
     },
     "execution_count": 16,
     "metadata": {},
     "output_type": "execute_result"
    }
   ],
   "source": [
    "adataPB_R = aggregating_features(Z = adataR.X, \n",
    "                             obsDF = adataR.obs[['sampleID','Level1','disease']], \n",
    "                             mode = 'mean', \n",
    "                             obs_names_col=['sampleID','Level1'], \n",
    "                             min_observation=0)\n",
    "adataPB_R"
   ]
  },
  {
   "cell_type": "markdown",
   "id": "97d09fc5-d05c-471e-87fa-fe58ccbe47ac",
   "metadata": {
    "papermill": {
     "duration": 0.006947,
     "end_time": "2024-07-04T16:56:53.142360",
     "exception": false,
     "start_time": "2024-07-04T16:56:53.135413",
     "status": "completed"
    },
    "tags": []
   },
   "source": [
    "**Considering scANVI predicted labels**"
   ]
  },
  {
   "cell_type": "code",
   "execution_count": 17,
   "id": "8a64ad2e-561b-48a2-a48f-5fc1b9f567aa",
   "metadata": {
    "execution": {
     "iopub.execute_input": "2024-07-04T16:56:53.169637Z",
     "iopub.status.busy": "2024-07-04T16:56:53.169327Z",
     "iopub.status.idle": "2024-07-04T16:56:53.395520Z",
     "shell.execute_reply": "2024-07-04T16:56:53.395172Z"
    },
    "papermill": {
     "duration": 0.244861,
     "end_time": "2024-07-04T16:56:53.396348",
     "exception": false,
     "start_time": "2024-07-04T16:56:53.151487",
     "status": "completed"
    },
    "tags": []
   },
   "outputs": [
    {
     "data": {
      "text/plain": [
       "AnnData object with n_obs × n_vars = 1111 × 30\n",
       "    obs: 'sampleID', 'Level1', 'disease', 'n_observation'"
      ]
     },
     "execution_count": 17,
     "metadata": {},
     "output_type": "execute_result"
    }
   ],
   "source": [
    "adataPB_Q_scANVI = aggregating_features(Z = adataQ.X, \n",
    "                             obsDF = adataQ.obs[['sampleID','Level1_scANVIpredict','disease']], \n",
    "                             mode = 'mean', \n",
    "                             obs_names_col=['sampleID','Level1_scANVIpredict'], \n",
    "                             min_observation=0)\n",
    "\n",
    "adataPB_Q_scANVI.obs.rename({'Level1_scANVIpredict':'Level1'}, axis=1, inplace=True)\n",
    "adataPB_Q_scANVI"
   ]
  },
  {
   "cell_type": "code",
   "execution_count": 18,
   "id": "5c0db4a4-2016-4e00-bc54-9bcead35b4da",
   "metadata": {
    "execution": {
     "iopub.execute_input": "2024-07-04T16:56:53.415398Z",
     "iopub.status.busy": "2024-07-04T16:56:53.415122Z",
     "iopub.status.idle": "2024-07-04T16:56:53.418859Z",
     "shell.execute_reply": "2024-07-04T16:56:53.418556Z"
    },
    "papermill": {
     "duration": 0.014911,
     "end_time": "2024-07-04T16:56:53.419608",
     "exception": false,
     "start_time": "2024-07-04T16:56:53.404697",
     "status": "completed"
    },
    "tags": []
   },
   "outputs": [
    {
     "data": {
      "text/plain": [
       "Level1\n",
       "B                 86\n",
       "DC                86\n",
       "ILC               86\n",
       "Mono              86\n",
       "Platelets         86\n",
       "T_CD4_Naive       86\n",
       "T_CD4_NonNaive    86\n",
       "T_CD8_Naive       86\n",
       "T_CD8_NonNaive    86\n",
       "UTC               86\n",
       "Cycling_cells     80\n",
       "pDC               77\n",
       "Plasma            74\n",
       "RBC               19\n",
       "Progenitors        1\n",
       "Name: count, dtype: int64"
      ]
     },
     "execution_count": 18,
     "metadata": {},
     "output_type": "execute_result"
    }
   ],
   "source": [
    "adataPB_Q_scANVI.obs.Level1.value_counts()"
   ]
  },
  {
   "cell_type": "markdown",
   "id": "6ccd375e-bb4a-47bd-afbb-4399f9fe93bb",
   "metadata": {
    "papermill": {
     "duration": 0.00731,
     "end_time": "2024-07-04T16:56:53.435857",
     "exception": false,
     "start_time": "2024-07-04T16:56:53.428547",
     "status": "completed"
    },
    "tags": []
   },
   "source": [
    "**Considering labels transferred with kNN**"
   ]
  },
  {
   "cell_type": "code",
   "execution_count": 19,
   "id": "0d234e2f",
   "metadata": {
    "execution": {
     "iopub.execute_input": "2024-07-04T16:56:53.452739Z",
     "iopub.status.busy": "2024-07-04T16:56:53.452476Z",
     "iopub.status.idle": "2024-07-04T16:56:53.679354Z",
     "shell.execute_reply": "2024-07-04T16:56:53.679015Z"
    },
    "papermill": {
     "duration": 0.237043,
     "end_time": "2024-07-04T16:56:53.680174",
     "exception": false,
     "start_time": "2024-07-04T16:56:53.443131",
     "status": "completed"
    },
    "tags": []
   },
   "outputs": [
    {
     "data": {
      "text/plain": [
       "AnnData object with n_obs × n_vars = 1221 × 30\n",
       "    obs: 'sampleID', 'Level1', 'disease', 'n_observation'"
      ]
     },
     "execution_count": 19,
     "metadata": {},
     "output_type": "execute_result"
    }
   ],
   "source": [
    "adataPB_Q_kNN = aggregating_features(Z = adataQ.X, \n",
    "                             obsDF = adataQ.obs[['sampleID','Level1_kNN_pred','disease']], \n",
    "                             mode = 'mean', \n",
    "                             obs_names_col=['sampleID','Level1_kNN_pred'], \n",
    "                             min_observation=0)\n",
    "adataPB_Q_kNN.obs.rename({'Level1_kNN_pred':'Level1'}, axis=1, inplace=True)\n",
    "adataPB_Q_kNN"
   ]
  },
  {
   "cell_type": "code",
   "execution_count": 20,
   "id": "51f78e87-ebdb-4095-af60-e5c5bb297b33",
   "metadata": {
    "execution": {
     "iopub.execute_input": "2024-07-04T16:56:53.696100Z",
     "iopub.status.busy": "2024-07-04T16:56:53.695828Z",
     "iopub.status.idle": "2024-07-04T16:56:53.699404Z",
     "shell.execute_reply": "2024-07-04T16:56:53.699107Z"
    },
    "papermill": {
     "duration": 0.012254,
     "end_time": "2024-07-04T16:56:53.700158",
     "exception": false,
     "start_time": "2024-07-04T16:56:53.687904",
     "status": "completed"
    },
    "tags": []
   },
   "outputs": [
    {
     "data": {
      "text/plain": [
       "Level1\n",
       "B                 86\n",
       "DC                86\n",
       "ILC               86\n",
       "Mono              86\n",
       "Platelets         86\n",
       "T_CD4_Naive       86\n",
       "T_CD4_NonNaive    86\n",
       "T_CD8_Naive       86\n",
       "T_CD8_NonNaive    86\n",
       "UTC               86\n",
       "Cycling_cells     85\n",
       "Progenitors       83\n",
       "Plasma            81\n",
       "pDC               79\n",
       "RBC               33\n",
       "Name: count, dtype: int64"
      ]
     },
     "execution_count": 20,
     "metadata": {},
     "output_type": "execute_result"
    }
   ],
   "source": [
    "adataPB_Q_kNN.obs.Level1.value_counts()"
   ]
  },
  {
   "cell_type": "markdown",
   "id": "d59574be-684b-4082-b8b6-7d11930362ad",
   "metadata": {
    "papermill": {
     "duration": 0.007648,
     "end_time": "2024-07-04T16:56:53.714899",
     "exception": false,
     "start_time": "2024-07-04T16:56:53.707251",
     "status": "completed"
    },
    "tags": []
   },
   "source": [
    "### Saving pseudobulk adata objects"
   ]
  },
  {
   "cell_type": "code",
   "execution_count": 21,
   "id": "3ce1c9f0-1868-4854-b610-4c85581409c6",
   "metadata": {
    "execution": {
     "iopub.execute_input": "2024-07-04T16:56:53.737158Z",
     "iopub.status.busy": "2024-07-04T16:56:53.736699Z",
     "iopub.status.idle": "2024-07-04T16:56:53.739420Z",
     "shell.execute_reply": "2024-07-04T16:56:53.739139Z"
    },
    "papermill": {
     "duration": 0.01358,
     "end_time": "2024-07-04T16:56:53.740167",
     "exception": false,
     "start_time": "2024-07-04T16:56:53.726587",
     "status": "completed"
    },
    "tags": []
   },
   "outputs": [
    {
     "data": {
      "text/plain": [
       "'/scratch_isilon/groups/singlecell/shared/projects/Inflammation-PBMCs-Atlas/03_downstream_analysis/08_PatientClassifier/scANVI/results/reference/scANVI_EXTERNAL_256_30_Level2_run1_finetuning.h5ad'"
      ]
     },
     "execution_count": 21,
     "metadata": {},
     "output_type": "execute_result"
    }
   ],
   "source": [
    "adataPATH_ref_list[0]"
   ]
  },
  {
   "cell_type": "code",
   "execution_count": 22,
   "id": "88f795a3-ab63-436d-a149-5bc18499537d",
   "metadata": {
    "execution": {
     "iopub.execute_input": "2024-07-04T16:56:53.754893Z",
     "iopub.status.busy": "2024-07-04T16:56:53.754605Z",
     "iopub.status.idle": "2024-07-04T16:56:53.757175Z",
     "shell.execute_reply": "2024-07-04T16:56:53.756888Z"
    },
    "papermill": {
     "duration": 0.01077,
     "end_time": "2024-07-04T16:56:53.757920",
     "exception": false,
     "start_time": "2024-07-04T16:56:53.747150",
     "status": "completed"
    },
    "tags": []
   },
   "outputs": [
    {
     "data": {
      "text/plain": [
       "'/scratch_isilon/groups/singlecell/shared/projects/Inflammation-PBMCs-Atlas/03_downstream_analysis/08_PatientClassifier/scANVI/results/PSEUDOBULKs/scANVI_PSEUDOBULK_reference_EXTERNAL_256_30_Level2_run1_finetuning.h5ad'"
      ]
     },
     "execution_count": 22,
     "metadata": {},
     "output_type": "execute_result"
    }
   ],
   "source": [
    "adataPATH_ref_list[0].replace('/reference/scANVI_','/PSEUDOBULKs/scANVI_PSEUDOBULK_reference_')"
   ]
  },
  {
   "cell_type": "code",
   "execution_count": 23,
   "id": "5947e6f8-ac27-4702-ba5d-aa9e1ba79f6a",
   "metadata": {
    "execution": {
     "iopub.execute_input": "2024-07-04T16:56:53.781831Z",
     "iopub.status.busy": "2024-07-04T16:56:53.781549Z",
     "iopub.status.idle": "2024-07-04T16:56:53.936237Z",
     "shell.execute_reply": "2024-07-04T16:56:53.935871Z"
    },
    "papermill": {
     "duration": 0.1672,
     "end_time": "2024-07-04T16:56:53.937254",
     "exception": false,
     "start_time": "2024-07-04T16:56:53.770054",
     "status": "completed"
    },
    "tags": []
   },
   "outputs": [],
   "source": [
    "adataPB_R.write(here(adataPATH_ref_list[0].replace('/reference/scANVI_','/PSEUDOBULKs/scANVI_PSEUDOBULK_reference_')), compression='gzip')"
   ]
  },
  {
   "cell_type": "code",
   "execution_count": 24,
   "id": "8a70d9f6-7a44-45ee-8470-702bd7af1e0b",
   "metadata": {
    "execution": {
     "iopub.execute_input": "2024-07-04T16:56:53.960285Z",
     "iopub.status.busy": "2024-07-04T16:56:53.959996Z",
     "iopub.status.idle": "2024-07-04T16:56:54.011343Z",
     "shell.execute_reply": "2024-07-04T16:56:54.010999Z"
    },
    "papermill": {
     "duration": 0.059927,
     "end_time": "2024-07-04T16:56:54.012268",
     "exception": false,
     "start_time": "2024-07-04T16:56:53.952341",
     "status": "completed"
    },
    "tags": []
   },
   "outputs": [],
   "source": [
    "adataPB_Q_scANVI.write(here(adataPATH_query_list[0].replace('/query/scANVI_','/PSEUDOBULKs/scANVI_PSEUDOBULK_query_')), compression='gzip')"
   ]
  },
  {
   "cell_type": "code",
   "execution_count": 25,
   "id": "19305819",
   "metadata": {
    "execution": {
     "iopub.execute_input": "2024-07-04T16:56:54.028711Z",
     "iopub.status.busy": "2024-07-04T16:56:54.028437Z",
     "iopub.status.idle": "2024-07-04T16:56:54.060877Z",
     "shell.execute_reply": "2024-07-04T16:56:54.060419Z"
    },
    "papermill": {
     "duration": 0.041406,
     "end_time": "2024-07-04T16:56:54.061921",
     "exception": false,
     "start_time": "2024-07-04T16:56:54.020515",
     "status": "completed"
    },
    "tags": []
   },
   "outputs": [],
   "source": [
    "adataPB_Q_kNN.write(here(adataPATH_query_list[0].replace('/query/scANVI_','/PSEUDOBULKs/scANVI_PSEUDOBULK_kNN_query_')), compression='gzip')"
   ]
  }
 ],
 "metadata": {
  "kernelspec": {
   "display_name": "Python 3 (ipykernel)",
   "language": "python",
   "name": "python3"
  },
  "language_info": {
   "codemirror_mode": {
    "name": "ipython",
    "version": 3
   },
   "file_extension": ".py",
   "mimetype": "text/x-python",
   "name": "python",
   "nbconvert_exporter": "python",
   "pygments_lexer": "ipython3",
   "version": "3.12.3"
  },
  "papermill": {
   "default_parameters": {},
   "duration": 780.537086,
   "end_time": "2024-07-04T16:56:55.387578",
   "environment_variables": {},
   "exception": null,
   "input_path": "03_labelTransfer_generating_PSEUDOBULKs.ipynb",
   "output_path": "executed_notebooks/03_labelTransfer_generating_PSEUDOBULKs_EXTERNAL_nPC30.ipynb",
   "parameters": {
    "adataPATH_query": "03_downstream_analysis/08_PatientClassifier/scANVI/results/query/scANVI_EXTERNAL_*_30_Level2_*.h5ad",
    "adataPATH_ref": "03_downstream_analysis/08_PatientClassifier/scANVI/results/reference/scANVI_EXTERNAL_*_30_Level2_*.h5ad"
   },
   "start_time": "2024-07-04T16:43:54.850492",
   "version": "2.6.0"
  }
 },
 "nbformat": 4,
 "nbformat_minor": 5
}