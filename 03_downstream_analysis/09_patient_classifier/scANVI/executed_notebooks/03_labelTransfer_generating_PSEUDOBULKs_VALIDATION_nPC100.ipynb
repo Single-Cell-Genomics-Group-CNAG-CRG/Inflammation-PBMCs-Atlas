{
 "cells": [
  {
   "cell_type": "code",
   "execution_count": 1,
   "id": "5585f6ef",
   "metadata": {
    "execution": {
     "iopub.execute_input": "2024-07-04T16:27:50.928821Z",
     "iopub.status.busy": "2024-07-04T16:27:50.928414Z",
     "iopub.status.idle": "2024-07-04T16:27:50.931131Z",
     "shell.execute_reply": "2024-07-04T16:27:50.930768Z"
    },
    "papermill": {
     "duration": 0.01269,
     "end_time": "2024-07-04T16:27:50.931990",
     "exception": false,
     "start_time": "2024-07-04T16:27:50.919300",
     "status": "completed"
    },
    "tags": [
     "injected-parameters"
    ]
   },
   "outputs": [],
   "source": [
    "# Parameters\n",
    "adataPATH_ref = \"03_downstream_analysis/08_PatientClassifier/scANVI/results/reference/scANVI_VALIDATION_*_100_Level2_*.h5ad\"\n",
    "adataPATH_query = \"03_downstream_analysis/08_PatientClassifier/scANVI/results/query/scANVI_VALIDATION_*_100_Level2_*.h5ad\"\n"
   ]
  },
  {
   "cell_type": "raw",
   "id": "8002b33d-9b20-4bdf-a1a3-acc29d5a0295",
   "metadata": {
    "execution": {
     "iopub.execute_input": "2024-07-04T11:25:09.444596Z",
     "iopub.status.busy": "2024-07-04T11:25:09.444279Z",
     "iopub.status.idle": "2024-07-04T11:25:09.447097Z",
     "shell.execute_reply": "2024-07-04T11:25:09.446732Z",
     "shell.execute_reply.started": "2024-07-04T11:25:09.444579Z"
    },
    "papermill": {
     "duration": 0.012246,
     "end_time": "2024-07-04T16:27:50.973419",
     "exception": false,
     "start_time": "2024-07-04T16:27:50.961173",
     "status": "completed"
    },
    "tags": [],
    "vscode": {
     "languageId": "raw"
    }
   },
   "source": [
    "adataPATH_ref = '03_downstream_analysis/08_PatientClassifier/scANVI/results/reference/scANVI_VALIDATION_256_30_Level2_run1_finetuning.h5ad'\n",
    "adataPATH_query = '03_downstream_analysis/08_PatientClassifier/scANVI/results/query/scANVI_VALIDATION_256_30_Level2_run1_finetuning.h5ad'"
   ]
  },
  {
   "cell_type": "code",
   "execution_count": 2,
   "id": "d3ccb10a-7201-43d0-a593-2b4650ff3451",
   "metadata": {
    "execution": {
     "iopub.execute_input": "2024-07-04T16:27:51.051903Z",
     "iopub.status.busy": "2024-07-04T16:27:51.051422Z",
     "iopub.status.idle": "2024-07-04T16:27:51.054901Z",
     "shell.execute_reply": "2024-07-04T16:27:51.054519Z"
    },
    "papermill": {
     "duration": 0.062306,
     "end_time": "2024-07-04T16:27:51.055708",
     "exception": false,
     "start_time": "2024-07-04T16:27:50.993402",
     "status": "completed"
    },
    "tags": []
   },
   "outputs": [
    {
     "name": "stdout",
     "output_type": "stream",
     "text": [
      "adataPATH_ref = 03_downstream_analysis/08_PatientClassifier/scANVI/results/reference/scANVI_VALIDATION_*_100_Level2_*.h5ad\n",
      "adataPATH_query = 03_downstream_analysis/08_PatientClassifier/scANVI/results/query/scANVI_VALIDATION_*_100_Level2_*.h5ad\n"
     ]
    }
   ],
   "source": [
    "for v in ['adataPATH_ref','adataPATH_query']:\n",
    "    if v in locals() or v in globals():\n",
    "        print(f\"{v} = {eval(v)}\")\n",
    "    else:\n",
    "        raise Exception(f\"{v} not specified\")"
   ]
  },
  {
   "cell_type": "code",
   "execution_count": 3,
   "id": "888fb5f4-9ab7-4196-a282-7a7e92a43971",
   "metadata": {
    "execution": {
     "iopub.execute_input": "2024-07-04T16:27:51.084425Z",
     "iopub.status.busy": "2024-07-04T16:27:51.084130Z",
     "iopub.status.idle": "2024-07-04T16:28:03.042300Z",
     "shell.execute_reply": "2024-07-04T16:28:03.041812Z"
    },
    "papermill": {
     "duration": 11.966027,
     "end_time": "2024-07-04T16:28:03.043549",
     "exception": false,
     "start_time": "2024-07-04T16:27:51.077522",
     "status": "completed"
    },
    "tags": []
   },
   "outputs": [],
   "source": [
    "import os\n",
    "import sys\n",
    "from glob import glob\n",
    "\n",
    "import scanpy as sc\n",
    "import pandas as pd\n",
    "\n",
    "import pynndescent\n",
    "import numpy as np\n",
    "import numba\n",
    "\n",
    "from pyprojroot import here\n",
    "\n",
    "sys.path.insert(1, str(here('bin')))\n",
    "# Import custom functions\n",
    "from customPythonFunctions import aggregating_features"
   ]
  },
  {
   "cell_type": "markdown",
   "id": "cc14bdf1-cb35-427d-b868-48480d371ac1",
   "metadata": {
    "papermill": {
     "duration": 0.006278,
     "end_time": "2024-07-04T16:28:03.056999",
     "exception": false,
     "start_time": "2024-07-04T16:28:03.050721",
     "status": "completed"
    },
    "tags": []
   },
   "source": [
    "### Defining kNN label transfer function"
   ]
  },
  {
   "cell_type": "code",
   "execution_count": 4,
   "id": "2cde8870-daf7-4eb9-b1be-d7a700b1876b",
   "metadata": {
    "execution": {
     "iopub.execute_input": "2024-07-04T16:28:03.095464Z",
     "iopub.status.busy": "2024-07-04T16:28:03.095072Z",
     "iopub.status.idle": "2024-07-04T16:28:03.100891Z",
     "shell.execute_reply": "2024-07-04T16:28:03.100501Z"
    },
    "papermill": {
     "duration": 0.014178,
     "end_time": "2024-07-04T16:28:03.101675",
     "exception": false,
     "start_time": "2024-07-04T16:28:03.087497",
     "status": "completed"
    },
    "tags": []
   },
   "outputs": [],
   "source": [
    "class LabelTransferWithKNN:\n",
    "    \"\"\" See https://docs.scvi-tools.org/en/stable/tutorials/notebooks/scrna/query_hlca_knn.html \"\"\"\n",
    "    def fit(self, ref_adata):\n",
    "        self.ref_adata = ref_adata\n",
    "        self.nn_index = pynndescent.NNDescent(self.ref_adata.X)\n",
    "        self.nn_index.prepare()\n",
    "        return self\n",
    "\n",
    "    def predict(self, query_adata, label_keys: list[str] = ['Level1']):\n",
    "\n",
    "        ref_neighbors, ref_distances = self.nn_index.query(query_adata.X)\n",
    "\n",
    "        # convert distances to affinities\n",
    "        stds = np.std(ref_distances, axis=1)\n",
    "        stds = (2.0 / stds) ** 2\n",
    "        stds = stds.reshape(-1, 1)\n",
    "        ref_distances_tilda = np.exp(-np.true_divide(ref_distances, stds))\n",
    "        weights = ref_distances_tilda / np.sum(ref_distances_tilda, axis=1, keepdims=True)\n",
    "\n",
    "        for l in label_keys:\n",
    "            ref_cats = self.ref_adata.obs[l].cat.codes.to_numpy()[ref_neighbors]\n",
    "            p, u = self.weighted_prediction(weights, ref_cats)\n",
    "            p = np.asarray(self.ref_adata.obs[l].cat.categories)[p]\n",
    "            query_adata.obs[l + \"_pred\"], query_adata.obs[l + \"_uncertainty\"] = p, u\n",
    "        \n",
    "        return query_adata\n",
    "    \n",
    "    @staticmethod\n",
    "    @numba.njit\n",
    "    def weighted_prediction(weights, ref_cats):\n",
    "        \"\"\"Get highest weight category.\"\"\"\n",
    "        N = len(weights)\n",
    "        predictions = np.zeros((N,), dtype=ref_cats.dtype)\n",
    "        uncertainty = np.zeros((N,))\n",
    "        for i in range(N):\n",
    "            obs_weights = weights[i]\n",
    "            obs_cats = ref_cats[i]\n",
    "            best_prob = 0\n",
    "            for c in np.unique(obs_cats):\n",
    "                cand_prob = np.sum(obs_weights[obs_cats == c])\n",
    "                if cand_prob > best_prob:\n",
    "                    best_prob = cand_prob\n",
    "                    predictions[i] = c\n",
    "                    uncertainty[i] = max(1 - best_prob, 0)\n",
    "\n",
    "        return predictions, uncertainty"
   ]
  },
  {
   "cell_type": "markdown",
   "id": "ba4905ae-4546-4ef4-b57b-950441ab079d",
   "metadata": {
    "papermill": {
     "duration": 0.00674,
     "end_time": "2024-07-04T16:28:03.117863",
     "exception": false,
     "start_time": "2024-07-04T16:28:03.111123",
     "status": "completed"
    },
    "tags": []
   },
   "source": [
    "### Loading data"
   ]
  },
  {
   "cell_type": "code",
   "execution_count": 5,
   "id": "539cbbbb-3503-4f51-bf04-f007f928ebd1",
   "metadata": {
    "execution": {
     "iopub.execute_input": "2024-07-04T16:28:03.131549Z",
     "iopub.status.busy": "2024-07-04T16:28:03.131411Z",
     "iopub.status.idle": "2024-07-04T16:28:03.136551Z",
     "shell.execute_reply": "2024-07-04T16:28:03.136191Z"
    },
    "papermill": {
     "duration": 0.013212,
     "end_time": "2024-07-04T16:28:03.137342",
     "exception": false,
     "start_time": "2024-07-04T16:28:03.124130",
     "status": "completed"
    },
    "tags": []
   },
   "outputs": [],
   "source": [
    "adataPATH_ref\n",
    "adataPATH_ref_list = glob(str(here(adataPATH_ref)))\n",
    "assert(len(adataPATH_ref_list) == 1)\n",
    "\n",
    "adataPATH_query\n",
    "adataPATH_query_list = glob(str(here(adataPATH_query)))\n",
    "assert(len(adataPATH_query_list) == 1)"
   ]
  },
  {
   "cell_type": "code",
   "execution_count": 6,
   "id": "0fcfce0a-896b-4dc0-8e5e-46749205c84f",
   "metadata": {
    "execution": {
     "iopub.execute_input": "2024-07-04T16:28:03.157748Z",
     "iopub.status.busy": "2024-07-04T16:28:03.157332Z",
     "iopub.status.idle": "2024-07-04T16:30:04.431051Z",
     "shell.execute_reply": "2024-07-04T16:30:04.430610Z"
    },
    "papermill": {
     "duration": 121.294184,
     "end_time": "2024-07-04T16:30:04.437731",
     "exception": false,
     "start_time": "2024-07-04T16:28:03.143547",
     "status": "completed"
    },
    "tags": []
   },
   "outputs": [
    {
     "data": {
      "text/plain": [
       "(AnnData object with n_obs × n_vars = 4435922 × 100\n",
       "     obs: 'studyID', 'libraryID', 'sampleID', 'chemistry', 'disease', 'sex', 'binned_age', 'Level1', 'Level2', '_scvi_batch', '_scvi_labels',\n",
       " AnnData object with n_obs × n_vars = 849922 × 100\n",
       "     obs: 'studyID', 'libraryID', 'sampleID', 'chemistry', 'technology', 'disease', 'sex', 'binned_age', '_scvi_batch', 'Level2', '_scvi_labels', 'labels')"
      ]
     },
     "execution_count": 6,
     "metadata": {},
     "output_type": "execute_result"
    }
   ],
   "source": [
    "adataR = sc.read_h5ad(adataPATH_ref_list[0])\n",
    "adataQ = sc.read_h5ad(adataPATH_query_list[0])\n",
    "adataR, adataQ"
   ]
  },
  {
   "cell_type": "code",
   "execution_count": 7,
   "id": "43363d5e-2643-4002-8905-e3c99124c70b",
   "metadata": {
    "execution": {
     "iopub.execute_input": "2024-07-04T16:30:04.725035Z",
     "iopub.status.busy": "2024-07-04T16:30:04.724367Z",
     "iopub.status.idle": "2024-07-04T16:30:06.676165Z",
     "shell.execute_reply": "2024-07-04T16:30:06.675632Z"
    },
    "papermill": {
     "duration": 2.233269,
     "end_time": "2024-07-04T16:30:06.677613",
     "exception": false,
     "start_time": "2024-07-04T16:30:04.444344",
     "status": "completed"
    },
    "tags": []
   },
   "outputs": [],
   "source": [
    "Level1_dict = adataR.obs[['Level1','Level2']].set_index('Level2').to_dict()['Level1']"
   ]
  },
  {
   "cell_type": "code",
   "execution_count": 8,
   "id": "0d286575-96c1-4146-b6d5-faab19d5a7ba",
   "metadata": {
    "execution": {
     "iopub.execute_input": "2024-07-04T16:30:07.720760Z",
     "iopub.status.busy": "2024-07-04T16:30:07.720427Z",
     "iopub.status.idle": "2024-07-04T16:30:07.745268Z",
     "shell.execute_reply": "2024-07-04T16:30:07.740116Z"
    },
    "papermill": {
     "duration": 0.035303,
     "end_time": "2024-07-04T16:30:07.746867",
     "exception": false,
     "start_time": "2024-07-04T16:30:07.711564",
     "status": "completed"
    },
    "tags": []
   },
   "outputs": [],
   "source": [
    "adataQ.obs['Level1_scANVIpredict'] = adataQ.obs['labels'].map(Level1_dict)"
   ]
  },
  {
   "cell_type": "code",
   "execution_count": 9,
   "id": "83ea89fd-965e-4c2c-bcd9-7467a6a78cd0",
   "metadata": {
    "execution": {
     "iopub.execute_input": "2024-07-04T16:30:07.762181Z",
     "iopub.status.busy": "2024-07-04T16:30:07.761949Z",
     "iopub.status.idle": "2024-07-04T16:30:07.811261Z",
     "shell.execute_reply": "2024-07-04T16:30:07.810769Z"
    },
    "papermill": {
     "duration": 0.058594,
     "end_time": "2024-07-04T16:30:07.812242",
     "exception": false,
     "start_time": "2024-07-04T16:30:07.753648",
     "status": "completed"
    },
    "tags": []
   },
   "outputs": [
    {
     "data": {
      "text/plain": [
       "Level1_scANVIpredict\n",
       "Mono              0.264116\n",
       "T_CD4_NonNaive    0.188356\n",
       "T_CD4_Naive       0.138802\n",
       "T_CD8_NonNaive    0.123374\n",
       "ILC               0.086256\n",
       "B                 0.081290\n",
       "T_CD8_Naive       0.054317\n",
       "UTC               0.027524\n",
       "DC                0.013737\n",
       "Plasma            0.006108\n",
       "Cycling_cells     0.005575\n",
       "pDC               0.005320\n",
       "Platelets         0.004325\n",
       "Progenitors       0.000802\n",
       "RBC               0.000099\n",
       "Name: proportion, dtype: float64"
      ]
     },
     "execution_count": 9,
     "metadata": {},
     "output_type": "execute_result"
    }
   ],
   "source": [
    "adataQ.obs['Level1_scANVIpredict'].value_counts(normalize = True)"
   ]
  },
  {
   "cell_type": "markdown",
   "id": "bab4753e-78c0-40b9-9361-d94b9804e924",
   "metadata": {
    "papermill": {
     "duration": 0.006854,
     "end_time": "2024-07-04T16:30:07.826217",
     "exception": false,
     "start_time": "2024-07-04T16:30:07.819363",
     "status": "completed"
    },
    "tags": []
   },
   "source": [
    "#### Label transfer with kNN"
   ]
  },
  {
   "cell_type": "code",
   "execution_count": 10,
   "id": "785cca0e-9f6f-48c3-825a-84ea8360e0fb",
   "metadata": {
    "execution": {
     "iopub.execute_input": "2024-07-04T16:30:07.842296Z",
     "iopub.status.busy": "2024-07-04T16:30:07.841964Z",
     "iopub.status.idle": "2024-07-04T16:43:14.016888Z",
     "shell.execute_reply": "2024-07-04T16:43:14.016416Z"
    },
    "papermill": {
     "duration": 786.184217,
     "end_time": "2024-07-04T16:43:14.018187",
     "exception": false,
     "start_time": "2024-07-04T16:30:07.833970",
     "status": "completed"
    },
    "tags": []
   },
   "outputs": [],
   "source": [
    "kNNclf = LabelTransferWithKNN().fit(adataR)"
   ]
  },
  {
   "cell_type": "code",
   "execution_count": 11,
   "id": "08b14276-ec7c-4061-8ad1-ed986c122dc9",
   "metadata": {
    "execution": {
     "iopub.execute_input": "2024-07-04T16:43:14.039956Z",
     "iopub.status.busy": "2024-07-04T16:43:14.039712Z",
     "iopub.status.idle": "2024-07-04T16:43:59.251374Z",
     "shell.execute_reply": "2024-07-04T16:43:59.250849Z"
    },
    "papermill": {
     "duration": 45.227744,
     "end_time": "2024-07-04T16:43:59.259635",
     "exception": false,
     "start_time": "2024-07-04T16:43:14.031891",
     "status": "completed"
    },
    "tags": []
   },
   "outputs": [
    {
     "data": {
      "text/plain": [
       "AnnData object with n_obs × n_vars = 849922 × 100\n",
       "    obs: 'studyID', 'libraryID', 'sampleID', 'chemistry', 'technology', 'disease', 'sex', 'binned_age', '_scvi_batch', 'Level2', '_scvi_labels', 'labels', 'Level1_scANVIpredict', 'Level1_pred', 'Level1_uncertainty'"
      ]
     },
     "execution_count": 11,
     "metadata": {},
     "output_type": "execute_result"
    }
   ],
   "source": [
    "adataQ = kNNclf.predict(query_adata = adataQ, label_keys = ['Level1'])\n",
    "adataQ"
   ]
  },
  {
   "cell_type": "code",
   "execution_count": 12,
   "id": "80b6736a-789a-4137-aa90-bfb74f2323c4",
   "metadata": {
    "execution": {
     "iopub.execute_input": "2024-07-04T16:43:59.289745Z",
     "iopub.status.busy": "2024-07-04T16:43:59.289581Z",
     "iopub.status.idle": "2024-07-04T16:43:59.295078Z",
     "shell.execute_reply": "2024-07-04T16:43:59.294616Z"
    },
    "papermill": {
     "duration": 0.014135,
     "end_time": "2024-07-04T16:43:59.295938",
     "exception": false,
     "start_time": "2024-07-04T16:43:59.281803",
     "status": "completed"
    },
    "tags": []
   },
   "outputs": [],
   "source": [
    "adataQ.obs['Level1_kNN_pred'] = adataQ.obs['Level1_pred']"
   ]
  },
  {
   "cell_type": "code",
   "execution_count": 13,
   "id": "f3f04f12-1058-46b0-95c8-8c8670bd40b2",
   "metadata": {
    "execution": {
     "iopub.execute_input": "2024-07-04T16:43:59.333452Z",
     "iopub.status.busy": "2024-07-04T16:43:59.333130Z",
     "iopub.status.idle": "2024-07-04T16:43:59.372491Z",
     "shell.execute_reply": "2024-07-04T16:43:59.372117Z"
    },
    "papermill": {
     "duration": 0.047289,
     "end_time": "2024-07-04T16:43:59.373301",
     "exception": false,
     "start_time": "2024-07-04T16:43:59.326012",
     "status": "completed"
    },
    "tags": []
   },
   "outputs": [
    {
     "data": {
      "text/plain": [
       "Level1_kNN_pred\n",
       "Mono              0.258004\n",
       "T_CD4_Naive       0.163183\n",
       "T_CD4_NonNaive    0.160361\n",
       "T_CD8_NonNaive    0.118709\n",
       "ILC               0.084814\n",
       "B                 0.081516\n",
       "T_CD8_Naive       0.047023\n",
       "Platelets         0.025632\n",
       "UTC               0.025371\n",
       "DC                0.012600\n",
       "Cycling_cells     0.010560\n",
       "Plasma            0.005280\n",
       "pDC               0.005095\n",
       "Progenitors       0.001685\n",
       "RBC               0.000169\n",
       "Name: proportion, dtype: float64"
      ]
     },
     "execution_count": 13,
     "metadata": {},
     "output_type": "execute_result"
    }
   ],
   "source": [
    "adataQ.obs['Level1_kNN_pred'].value_counts(normalize = True)"
   ]
  },
  {
   "cell_type": "code",
   "execution_count": 14,
   "id": "c1dc4c3a-30b8-45e2-8ed2-f89bd913523e",
   "metadata": {
    "execution": {
     "iopub.execute_input": "2024-07-04T16:43:59.387608Z",
     "iopub.status.busy": "2024-07-04T16:43:59.387318Z",
     "iopub.status.idle": "2024-07-04T16:43:59.430624Z",
     "shell.execute_reply": "2024-07-04T16:43:59.430209Z"
    },
    "papermill": {
     "duration": 0.051086,
     "end_time": "2024-07-04T16:43:59.431532",
     "exception": false,
     "start_time": "2024-07-04T16:43:59.380446",
     "status": "completed"
    },
    "tags": []
   },
   "outputs": [],
   "source": [
    "from sklearn.metrics import adjusted_rand_score as ari"
   ]
  },
  {
   "cell_type": "code",
   "execution_count": 15,
   "id": "ff6d5cbd-e8bc-4f7f-af89-f5dc0675500b",
   "metadata": {
    "execution": {
     "iopub.execute_input": "2024-07-04T16:43:59.460833Z",
     "iopub.status.busy": "2024-07-04T16:43:59.460405Z",
     "iopub.status.idle": "2024-07-04T16:44:00.850306Z",
     "shell.execute_reply": "2024-07-04T16:44:00.849862Z"
    },
    "papermill": {
     "duration": 1.41171,
     "end_time": "2024-07-04T16:44:00.851181",
     "exception": false,
     "start_time": "2024-07-04T16:43:59.439471",
     "status": "completed"
    },
    "tags": []
   },
   "outputs": [
    {
     "data": {
      "text/plain": [
       "0.8601664045803622"
      ]
     },
     "execution_count": 15,
     "metadata": {},
     "output_type": "execute_result"
    }
   ],
   "source": [
    "ari(adataQ.obs['Level1_kNN_pred'],adataQ.obs['Level1_scANVIpredict'])"
   ]
  },
  {
   "cell_type": "markdown",
   "id": "44e868b3-0771-4225-bd79-a4b179bc672b",
   "metadata": {
    "papermill": {
     "duration": 0.007038,
     "end_time": "2024-07-04T16:44:00.866771",
     "exception": false,
     "start_time": "2024-07-04T16:44:00.859733",
     "status": "completed"
    },
    "tags": []
   },
   "source": [
    "#### Generating PSEUDOBULKs"
   ]
  },
  {
   "cell_type": "code",
   "execution_count": 16,
   "id": "81223976-fcf6-4354-8964-b12d76468636",
   "metadata": {
    "execution": {
     "iopub.execute_input": "2024-07-04T16:44:00.903887Z",
     "iopub.status.busy": "2024-07-04T16:44:00.903724Z",
     "iopub.status.idle": "2024-07-04T16:44:03.688999Z",
     "shell.execute_reply": "2024-07-04T16:44:03.688510Z"
    },
    "papermill": {
     "duration": 2.812455,
     "end_time": "2024-07-04T16:44:03.689898",
     "exception": false,
     "start_time": "2024-07-04T16:44:00.877443",
     "status": "completed"
    },
    "tags": []
   },
   "outputs": [
    {
     "data": {
      "text/plain": [
       "AnnData object with n_obs × n_vars = 11372 × 100\n",
       "    obs: 'sampleID', 'Level1', 'disease', 'n_observation'"
      ]
     },
     "execution_count": 16,
     "metadata": {},
     "output_type": "execute_result"
    }
   ],
   "source": [
    "adataPB_R = aggregating_features(Z = adataR.X, \n",
    "                             obsDF = adataR.obs[['sampleID','Level1','disease']], \n",
    "                             mode = 'mean', \n",
    "                             obs_names_col=['sampleID','Level1'], \n",
    "                             min_observation=0)\n",
    "adataPB_R"
   ]
  },
  {
   "cell_type": "markdown",
   "id": "97d09fc5-d05c-471e-87fa-fe58ccbe47ac",
   "metadata": {
    "papermill": {
     "duration": 0.00728,
     "end_time": "2024-07-04T16:44:03.705341",
     "exception": false,
     "start_time": "2024-07-04T16:44:03.698061",
     "status": "completed"
    },
    "tags": []
   },
   "source": [
    "**Considering scANVI predicted labels**"
   ]
  },
  {
   "cell_type": "code",
   "execution_count": 17,
   "id": "8a64ad2e-561b-48a2-a48f-5fc1b9f567aa",
   "metadata": {
    "execution": {
     "iopub.execute_input": "2024-07-04T16:44:03.734849Z",
     "iopub.status.busy": "2024-07-04T16:44:03.734124Z",
     "iopub.status.idle": "2024-07-04T16:44:04.548975Z",
     "shell.execute_reply": "2024-07-04T16:44:04.548484Z"
    },
    "papermill": {
     "duration": 0.82413,
     "end_time": "2024-07-04T16:44:04.549927",
     "exception": false,
     "start_time": "2024-07-04T16:44:03.725797",
     "status": "completed"
    },
    "tags": []
   },
   "outputs": [
    {
     "data": {
      "text/plain": [
       "AnnData object with n_obs × n_vars = 1943 × 100\n",
       "    obs: 'sampleID', 'Level1', 'disease', 'n_observation'"
      ]
     },
     "execution_count": 17,
     "metadata": {},
     "output_type": "execute_result"
    }
   ],
   "source": [
    "adataPB_Q_scANVI = aggregating_features(Z = adataQ.X, \n",
    "                             obsDF = adataQ.obs[['sampleID','Level1_scANVIpredict','disease']], \n",
    "                             mode = 'mean', \n",
    "                             obs_names_col=['sampleID','Level1_scANVIpredict'], \n",
    "                             min_observation=0)\n",
    "\n",
    "adataPB_Q_scANVI.obs.rename({'Level1_scANVIpredict':'Level1'}, axis=1, inplace=True)\n",
    "adataPB_Q_scANVI"
   ]
  },
  {
   "cell_type": "code",
   "execution_count": 18,
   "id": "5c0db4a4-2016-4e00-bc54-9bcead35b4da",
   "metadata": {
    "execution": {
     "iopub.execute_input": "2024-07-04T16:44:04.596524Z",
     "iopub.status.busy": "2024-07-04T16:44:04.596188Z",
     "iopub.status.idle": "2024-07-04T16:44:04.601454Z",
     "shell.execute_reply": "2024-07-04T16:44:04.600986Z"
    },
    "papermill": {
     "duration": 0.01487,
     "end_time": "2024-07-04T16:44:04.602416",
     "exception": false,
     "start_time": "2024-07-04T16:44:04.587546",
     "status": "completed"
    },
    "tags": []
   },
   "outputs": [
    {
     "data": {
      "text/plain": [
       "Level1\n",
       "B                 144\n",
       "ILC               144\n",
       "Mono              144\n",
       "T_CD4_Naive       144\n",
       "T_CD4_NonNaive    144\n",
       "T_CD8_NonNaive    144\n",
       "UTC               144\n",
       "DC                143\n",
       "Cycling_cells     142\n",
       "T_CD8_Naive       142\n",
       "pDC               137\n",
       "Plasma            130\n",
       "Platelets         122\n",
       "Progenitors       107\n",
       "RBC                12\n",
       "Name: count, dtype: int64"
      ]
     },
     "execution_count": 18,
     "metadata": {},
     "output_type": "execute_result"
    }
   ],
   "source": [
    "adataPB_Q_scANVI.obs.Level1.value_counts()"
   ]
  },
  {
   "cell_type": "markdown",
   "id": "6ccd375e-bb4a-47bd-afbb-4399f9fe93bb",
   "metadata": {
    "papermill": {
     "duration": 0.010894,
     "end_time": "2024-07-04T16:44:04.621237",
     "exception": false,
     "start_time": "2024-07-04T16:44:04.610343",
     "status": "completed"
    },
    "tags": []
   },
   "source": [
    "**Considering labels transferred with kNN**"
   ]
  },
  {
   "cell_type": "code",
   "execution_count": 19,
   "id": "0d234e2f",
   "metadata": {
    "execution": {
     "iopub.execute_input": "2024-07-04T16:44:04.647230Z",
     "iopub.status.busy": "2024-07-04T16:44:04.646881Z",
     "iopub.status.idle": "2024-07-04T16:44:05.425612Z",
     "shell.execute_reply": "2024-07-04T16:44:05.425151Z"
    },
    "papermill": {
     "duration": 0.797823,
     "end_time": "2024-07-04T16:44:05.426524",
     "exception": false,
     "start_time": "2024-07-04T16:44:04.628701",
     "status": "completed"
    },
    "tags": []
   },
   "outputs": [
    {
     "data": {
      "text/plain": [
       "AnnData object with n_obs × n_vars = 1988 × 100\n",
       "    obs: 'sampleID', 'Level1', 'disease', 'n_observation'"
      ]
     },
     "execution_count": 19,
     "metadata": {},
     "output_type": "execute_result"
    }
   ],
   "source": [
    "adataPB_Q_kNN = aggregating_features(Z = adataQ.X, \n",
    "                             obsDF = adataQ.obs[['sampleID','Level1_kNN_pred','disease']], \n",
    "                             mode = 'mean', \n",
    "                             obs_names_col=['sampleID','Level1_kNN_pred'], \n",
    "                             min_observation=0)\n",
    "adataPB_Q_kNN.obs.rename({'Level1_kNN_pred':'Level1'}, axis=1, inplace=True)\n",
    "adataPB_Q_kNN"
   ]
  },
  {
   "cell_type": "code",
   "execution_count": 20,
   "id": "51f78e87-ebdb-4095-af60-e5c5bb297b33",
   "metadata": {
    "execution": {
     "iopub.execute_input": "2024-07-04T16:44:06.066674Z",
     "iopub.status.busy": "2024-07-04T16:44:06.066324Z",
     "iopub.status.idle": "2024-07-04T16:44:06.071562Z",
     "shell.execute_reply": "2024-07-04T16:44:06.071111Z"
    },
    "papermill": {
     "duration": 0.409017,
     "end_time": "2024-07-04T16:44:06.072387",
     "exception": false,
     "start_time": "2024-07-04T16:44:05.663370",
     "status": "completed"
    },
    "tags": []
   },
   "outputs": [
    {
     "data": {
      "text/plain": [
       "Level1\n",
       "B                 144\n",
       "Cycling_cells     144\n",
       "ILC               144\n",
       "Mono              144\n",
       "T_CD4_Naive       144\n",
       "T_CD4_NonNaive    144\n",
       "T_CD8_NonNaive    144\n",
       "UTC               144\n",
       "DC                143\n",
       "T_CD8_Naive       142\n",
       "Platelets         141\n",
       "pDC               137\n",
       "Plasma            129\n",
       "Progenitors       125\n",
       "RBC                19\n",
       "Name: count, dtype: int64"
      ]
     },
     "execution_count": 20,
     "metadata": {},
     "output_type": "execute_result"
    }
   ],
   "source": [
    "adataPB_Q_kNN.obs.Level1.value_counts()"
   ]
  },
  {
   "cell_type": "markdown",
   "id": "d59574be-684b-4082-b8b6-7d11930362ad",
   "metadata": {
    "papermill": {
     "duration": 0.007545,
     "end_time": "2024-07-04T16:44:06.113463",
     "exception": false,
     "start_time": "2024-07-04T16:44:06.105918",
     "status": "completed"
    },
    "tags": []
   },
   "source": [
    "### Saving pseudobulk adata objects"
   ]
  },
  {
   "cell_type": "code",
   "execution_count": 21,
   "id": "3ce1c9f0-1868-4854-b610-4c85581409c6",
   "metadata": {
    "execution": {
     "iopub.execute_input": "2024-07-04T16:44:06.129369Z",
     "iopub.status.busy": "2024-07-04T16:44:06.129033Z",
     "iopub.status.idle": "2024-07-04T16:44:06.132712Z",
     "shell.execute_reply": "2024-07-04T16:44:06.132262Z"
    },
    "papermill": {
     "duration": 0.012605,
     "end_time": "2024-07-04T16:44:06.133537",
     "exception": false,
     "start_time": "2024-07-04T16:44:06.120932",
     "status": "completed"
    },
    "tags": []
   },
   "outputs": [
    {
     "data": {
      "text/plain": [
       "'/scratch_isilon/groups/singlecell/shared/projects/Inflammation-PBMCs-Atlas/03_downstream_analysis/08_PatientClassifier/scANVI/results/reference/scANVI_VALIDATION_256_100_Level2_run1_finetuning.h5ad'"
      ]
     },
     "execution_count": 21,
     "metadata": {},
     "output_type": "execute_result"
    }
   ],
   "source": [
    "adataPATH_ref_list[0]"
   ]
  },
  {
   "cell_type": "code",
   "execution_count": 22,
   "id": "88f795a3-ab63-436d-a149-5bc18499537d",
   "metadata": {
    "execution": {
     "iopub.execute_input": "2024-07-04T16:44:06.149815Z",
     "iopub.status.busy": "2024-07-04T16:44:06.149472Z",
     "iopub.status.idle": "2024-07-04T16:44:06.153234Z",
     "shell.execute_reply": "2024-07-04T16:44:06.152769Z"
    },
    "papermill": {
     "duration": 0.01286,
     "end_time": "2024-07-04T16:44:06.154056",
     "exception": false,
     "start_time": "2024-07-04T16:44:06.141196",
     "status": "completed"
    },
    "tags": []
   },
   "outputs": [
    {
     "data": {
      "text/plain": [
       "'/scratch_isilon/groups/singlecell/shared/projects/Inflammation-PBMCs-Atlas/03_downstream_analysis/08_PatientClassifier/scANVI/results/PSEUDOBULKs/scANVI_PSEUDOBULK_reference_VALIDATION_256_100_Level2_run1_finetuning.h5ad'"
      ]
     },
     "execution_count": 22,
     "metadata": {},
     "output_type": "execute_result"
    }
   ],
   "source": [
    "adataPATH_ref_list[0].replace('/reference/scANVI_','/PSEUDOBULKs/scANVI_PSEUDOBULK_reference_')"
   ]
  },
  {
   "cell_type": "code",
   "execution_count": 23,
   "id": "5947e6f8-ac27-4702-ba5d-aa9e1ba79f6a",
   "metadata": {
    "execution": {
     "iopub.execute_input": "2024-07-04T16:44:06.188980Z",
     "iopub.status.busy": "2024-07-04T16:44:06.188534Z",
     "iopub.status.idle": "2024-07-04T16:44:09.277011Z",
     "shell.execute_reply": "2024-07-04T16:44:09.276484Z"
    },
    "papermill": {
     "duration": 3.1167,
     "end_time": "2024-07-04T16:44:09.278271",
     "exception": false,
     "start_time": "2024-07-04T16:44:06.161571",
     "status": "completed"
    },
    "tags": []
   },
   "outputs": [],
   "source": [
    "adataPB_R.write(here(adataPATH_ref_list[0].replace('/reference/scANVI_','/PSEUDOBULKs/scANVI_PSEUDOBULK_reference_')), compression='gzip')"
   ]
  },
  {
   "cell_type": "code",
   "execution_count": 24,
   "id": "8a70d9f6-7a44-45ee-8470-702bd7af1e0b",
   "metadata": {
    "execution": {
     "iopub.execute_input": "2024-07-04T16:44:09.488816Z",
     "iopub.status.busy": "2024-07-04T16:44:09.488309Z",
     "iopub.status.idle": "2024-07-04T16:44:09.823522Z",
     "shell.execute_reply": "2024-07-04T16:44:09.823112Z"
    },
    "papermill": {
     "duration": 0.344226,
     "end_time": "2024-07-04T16:44:09.824351",
     "exception": false,
     "start_time": "2024-07-04T16:44:09.480125",
     "status": "completed"
    },
    "tags": []
   },
   "outputs": [],
   "source": [
    "adataPB_Q_scANVI.write(here(adataPATH_query_list[0].replace('/query/scANVI_','/PSEUDOBULKs/scANVI_PSEUDOBULK_query_')), compression='gzip')"
   ]
  },
  {
   "cell_type": "code",
   "execution_count": 25,
   "id": "19305819",
   "metadata": {
    "execution": {
     "iopub.execute_input": "2024-07-04T16:44:10.596080Z",
     "iopub.status.busy": "2024-07-04T16:44:10.595835Z",
     "iopub.status.idle": "2024-07-04T16:44:10.647890Z",
     "shell.execute_reply": "2024-07-04T16:44:10.647363Z"
    },
    "papermill": {
     "duration": 0.372047,
     "end_time": "2024-07-04T16:44:10.648808",
     "exception": false,
     "start_time": "2024-07-04T16:44:10.276761",
     "status": "completed"
    },
    "tags": []
   },
   "outputs": [],
   "source": [
    "adataPB_Q_kNN.write(here(adataPATH_query_list[0].replace('/query/scANVI_','/PSEUDOBULKs/scANVI_PSEUDOBULK_kNN_query_')), compression='gzip')"
   ]
  }
 ],
 "metadata": {
  "kernelspec": {
   "display_name": "Python 3 (ipykernel)",
   "language": "python",
   "name": "python3"
  },
  "language_info": {
   "codemirror_mode": {
    "name": "ipython",
    "version": 3
   },
   "file_extension": ".py",
   "mimetype": "text/x-python",
   "name": "python",
   "nbconvert_exporter": "python",
   "pygments_lexer": "ipython3",
   "version": "3.12.3"
  },
  "papermill": {
   "default_parameters": {},
   "duration": 983.994857,
   "end_time": "2024-07-04T16:44:12.583569",
   "environment_variables": {},
   "exception": null,
   "input_path": "03_labelTransfer_generating_PSEUDOBULKs.ipynb",
   "output_path": "executed_notebooks/03_labelTransfer_generating_PSEUDOBULKs_VALIDATION_nPC100.ipynb",
   "parameters": {
    "adataPATH_query": "03_downstream_analysis/08_PatientClassifier/scANVI/results/query/scANVI_VALIDATION_*_100_Level2_*.h5ad",
    "adataPATH_ref": "03_downstream_analysis/08_PatientClassifier/scANVI/results/reference/scANVI_VALIDATION_*_100_Level2_*.h5ad"
   },
   "start_time": "2024-07-04T16:27:48.588712",
   "version": "2.6.0"
  }
 },
 "nbformat": 4,
 "nbformat_minor": 5
}