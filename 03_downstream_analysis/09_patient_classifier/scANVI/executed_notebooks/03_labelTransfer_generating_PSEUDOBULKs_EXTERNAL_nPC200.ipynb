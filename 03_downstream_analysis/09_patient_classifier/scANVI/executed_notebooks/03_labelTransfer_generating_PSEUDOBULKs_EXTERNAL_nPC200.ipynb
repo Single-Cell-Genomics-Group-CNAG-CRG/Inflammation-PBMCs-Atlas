{
 "cells": [
  {
   "cell_type": "code",
   "execution_count": 1,
   "id": "06eaa697",
   "metadata": {
    "execution": {
     "iopub.execute_input": "2024-07-04T16:46:01.539033Z",
     "iopub.status.busy": "2024-07-04T16:46:01.538434Z",
     "iopub.status.idle": "2024-07-04T16:46:01.541704Z",
     "shell.execute_reply": "2024-07-04T16:46:01.541332Z"
    },
    "papermill": {
     "duration": 0.012435,
     "end_time": "2024-07-04T16:46:01.542634",
     "exception": false,
     "start_time": "2024-07-04T16:46:01.530199",
     "status": "completed"
    },
    "tags": [
     "injected-parameters"
    ]
   },
   "outputs": [],
   "source": [
    "# Parameters\n",
    "adataPATH_ref = \"03_downstream_analysis/08_PatientClassifier/scANVI/results/reference/scANVI_EXTERNAL_*_200_Level2_*.h5ad\"\n",
    "adataPATH_query = \"03_downstream_analysis/08_PatientClassifier/scANVI/results/query/scANVI_EXTERNAL_*_200_Level2_*.h5ad\"\n"
   ]
  },
  {
   "cell_type": "raw",
   "id": "8002b33d-9b20-4bdf-a1a3-acc29d5a0295",
   "metadata": {
    "execution": {
     "iopub.execute_input": "2024-07-04T11:25:09.444596Z",
     "iopub.status.busy": "2024-07-04T11:25:09.444279Z",
     "iopub.status.idle": "2024-07-04T11:25:09.447097Z",
     "shell.execute_reply": "2024-07-04T11:25:09.446732Z",
     "shell.execute_reply.started": "2024-07-04T11:25:09.444579Z"
    },
    "papermill": {
     "duration": 0.007449,
     "end_time": "2024-07-04T16:46:01.556966",
     "exception": false,
     "start_time": "2024-07-04T16:46:01.549517",
     "status": "completed"
    },
    "tags": [],
    "vscode": {
     "languageId": "raw"
    }
   },
   "source": [
    "adataPATH_ref = '03_downstream_analysis/08_PatientClassifier/scANVI/results/reference/scANVI_VALIDATION_256_30_Level2_run1_finetuning.h5ad'\n",
    "adataPATH_query = '03_downstream_analysis/08_PatientClassifier/scANVI/results/query/scANVI_VALIDATION_256_30_Level2_run1_finetuning.h5ad'"
   ]
  },
  {
   "cell_type": "code",
   "execution_count": 2,
   "id": "d3ccb10a-7201-43d0-a593-2b4650ff3451",
   "metadata": {
    "execution": {
     "iopub.execute_input": "2024-07-04T16:46:01.575208Z",
     "iopub.status.busy": "2024-07-04T16:46:01.574700Z",
     "iopub.status.idle": "2024-07-04T16:46:01.579236Z",
     "shell.execute_reply": "2024-07-04T16:46:01.577841Z"
    },
    "papermill": {
     "duration": 0.016413,
     "end_time": "2024-07-04T16:46:01.580573",
     "exception": false,
     "start_time": "2024-07-04T16:46:01.564160",
     "status": "completed"
    },
    "tags": []
   },
   "outputs": [
    {
     "name": "stdout",
     "output_type": "stream",
     "text": [
      "adataPATH_ref = 03_downstream_analysis/08_PatientClassifier/scANVI/results/reference/scANVI_EXTERNAL_*_200_Level2_*.h5ad\n",
      "adataPATH_query = 03_downstream_analysis/08_PatientClassifier/scANVI/results/query/scANVI_EXTERNAL_*_200_Level2_*.h5ad\n"
     ]
    }
   ],
   "source": [
    "for v in ['adataPATH_ref','adataPATH_query']:\n",
    "    if v in locals() or v in globals():\n",
    "        print(f\"{v} = {eval(v)}\")\n",
    "    else:\n",
    "        raise Exception(f\"{v} not specified\")"
   ]
  },
  {
   "cell_type": "code",
   "execution_count": 3,
   "id": "888fb5f4-9ab7-4196-a282-7a7e92a43971",
   "metadata": {
    "execution": {
     "iopub.execute_input": "2024-07-04T16:46:01.612148Z",
     "iopub.status.busy": "2024-07-04T16:46:01.611842Z",
     "iopub.status.idle": "2024-07-04T16:46:10.305020Z",
     "shell.execute_reply": "2024-07-04T16:46:10.304575Z"
    },
    "papermill": {
     "duration": 8.715925,
     "end_time": "2024-07-04T16:46:10.306255",
     "exception": false,
     "start_time": "2024-07-04T16:46:01.590330",
     "status": "completed"
    },
    "tags": []
   },
   "outputs": [],
   "source": [
    "import os\n",
    "import sys\n",
    "from glob import glob\n",
    "\n",
    "import scanpy as sc\n",
    "import pandas as pd\n",
    "\n",
    "import pynndescent\n",
    "import numpy as np\n",
    "import numba\n",
    "\n",
    "from pyprojroot import here\n",
    "\n",
    "sys.path.insert(1, str(here('bin')))\n",
    "# Import custom functions\n",
    "from customPythonFunctions import aggregating_features"
   ]
  },
  {
   "cell_type": "markdown",
   "id": "cc14bdf1-cb35-427d-b868-48480d371ac1",
   "metadata": {
    "papermill": {
     "duration": 0.008338,
     "end_time": "2024-07-04T16:46:10.321926",
     "exception": false,
     "start_time": "2024-07-04T16:46:10.313588",
     "status": "completed"
    },
    "tags": []
   },
   "source": [
    "### Defining kNN label transfer function"
   ]
  },
  {
   "cell_type": "code",
   "execution_count": 4,
   "id": "2cde8870-daf7-4eb9-b1be-d7a700b1876b",
   "metadata": {
    "execution": {
     "iopub.execute_input": "2024-07-04T16:46:10.336157Z",
     "iopub.status.busy": "2024-07-04T16:46:10.335735Z",
     "iopub.status.idle": "2024-07-04T16:46:10.341747Z",
     "shell.execute_reply": "2024-07-04T16:46:10.341385Z"
    },
    "papermill": {
     "duration": 0.013993,
     "end_time": "2024-07-04T16:46:10.342604",
     "exception": false,
     "start_time": "2024-07-04T16:46:10.328611",
     "status": "completed"
    },
    "tags": []
   },
   "outputs": [],
   "source": [
    "class LabelTransferWithKNN:\n",
    "    \"\"\" See https://docs.scvi-tools.org/en/stable/tutorials/notebooks/scrna/query_hlca_knn.html \"\"\"\n",
    "    def fit(self, ref_adata):\n",
    "        self.ref_adata = ref_adata\n",
    "        self.nn_index = pynndescent.NNDescent(self.ref_adata.X)\n",
    "        self.nn_index.prepare()\n",
    "        return self\n",
    "\n",
    "    def predict(self, query_adata, label_keys: list[str] = ['Level1']):\n",
    "\n",
    "        ref_neighbors, ref_distances = self.nn_index.query(query_adata.X)\n",
    "\n",
    "        # convert distances to affinities\n",
    "        stds = np.std(ref_distances, axis=1)\n",
    "        stds = (2.0 / stds) ** 2\n",
    "        stds = stds.reshape(-1, 1)\n",
    "        ref_distances_tilda = np.exp(-np.true_divide(ref_distances, stds))\n",
    "        weights = ref_distances_tilda / np.sum(ref_distances_tilda, axis=1, keepdims=True)\n",
    "\n",
    "        for l in label_keys:\n",
    "            ref_cats = self.ref_adata.obs[l].cat.codes.to_numpy()[ref_neighbors]\n",
    "            p, u = self.weighted_prediction(weights, ref_cats)\n",
    "            p = np.asarray(self.ref_adata.obs[l].cat.categories)[p]\n",
    "            query_adata.obs[l + \"_pred\"], query_adata.obs[l + \"_uncertainty\"] = p, u\n",
    "        \n",
    "        return query_adata\n",
    "    \n",
    "    @staticmethod\n",
    "    @numba.njit\n",
    "    def weighted_prediction(weights, ref_cats):\n",
    "        \"\"\"Get highest weight category.\"\"\"\n",
    "        N = len(weights)\n",
    "        predictions = np.zeros((N,), dtype=ref_cats.dtype)\n",
    "        uncertainty = np.zeros((N,))\n",
    "        for i in range(N):\n",
    "            obs_weights = weights[i]\n",
    "            obs_cats = ref_cats[i]\n",
    "            best_prob = 0\n",
    "            for c in np.unique(obs_cats):\n",
    "                cand_prob = np.sum(obs_weights[obs_cats == c])\n",
    "                if cand_prob > best_prob:\n",
    "                    best_prob = cand_prob\n",
    "                    predictions[i] = c\n",
    "                    uncertainty[i] = max(1 - best_prob, 0)\n",
    "\n",
    "        return predictions, uncertainty"
   ]
  },
  {
   "cell_type": "markdown",
   "id": "ba4905ae-4546-4ef4-b57b-950441ab079d",
   "metadata": {
    "papermill": {
     "duration": 0.007158,
     "end_time": "2024-07-04T16:46:10.359513",
     "exception": false,
     "start_time": "2024-07-04T16:46:10.352355",
     "status": "completed"
    },
    "tags": []
   },
   "source": [
    "### Loading data"
   ]
  },
  {
   "cell_type": "code",
   "execution_count": 5,
   "id": "539cbbbb-3503-4f51-bf04-f007f928ebd1",
   "metadata": {
    "execution": {
     "iopub.execute_input": "2024-07-04T16:46:10.402581Z",
     "iopub.status.busy": "2024-07-04T16:46:10.402022Z",
     "iopub.status.idle": "2024-07-04T16:46:10.416382Z",
     "shell.execute_reply": "2024-07-04T16:46:10.416046Z"
    },
    "papermill": {
     "duration": 0.051372,
     "end_time": "2024-07-04T16:46:10.417217",
     "exception": false,
     "start_time": "2024-07-04T16:46:10.365845",
     "status": "completed"
    },
    "tags": []
   },
   "outputs": [],
   "source": [
    "adataPATH_ref\n",
    "adataPATH_ref_list = glob(str(here(adataPATH_ref)))\n",
    "assert(len(adataPATH_ref_list) == 1)\n",
    "\n",
    "adataPATH_query\n",
    "adataPATH_query_list = glob(str(here(adataPATH_query)))\n",
    "assert(len(adataPATH_query_list) == 1)"
   ]
  },
  {
   "cell_type": "code",
   "execution_count": 6,
   "id": "0fcfce0a-896b-4dc0-8e5e-46749205c84f",
   "metadata": {
    "execution": {
     "iopub.execute_input": "2024-07-04T16:46:10.435630Z",
     "iopub.status.busy": "2024-07-04T16:46:10.435311Z",
     "iopub.status.idle": "2024-07-04T16:46:41.776583Z",
     "shell.execute_reply": "2024-07-04T16:46:41.776132Z"
    },
    "papermill": {
     "duration": 31.391453,
     "end_time": "2024-07-04T16:46:41.819260",
     "exception": false,
     "start_time": "2024-07-04T16:46:10.427807",
     "status": "completed"
    },
    "tags": []
   },
   "outputs": [
    {
     "data": {
      "text/plain": [
       "(AnnData object with n_obs × n_vars = 4435922 × 200\n",
       "     obs: 'studyID', 'libraryID', 'sampleID', 'chemistry', 'disease', 'sex', 'binned_age', 'Level1', 'Level2', '_scvi_batch', '_scvi_labels',\n",
       " AnnData object with n_obs × n_vars = 572872 × 200\n",
       "     obs: 'studyID', 'libraryID', 'sampleID', 'chemistry', 'technology', 'disease', 'sex', 'binned_age', '_scvi_batch', 'Level2', '_scvi_labels', 'labels')"
      ]
     },
     "execution_count": 6,
     "metadata": {},
     "output_type": "execute_result"
    }
   ],
   "source": [
    "adataR = sc.read_h5ad(adataPATH_ref_list[0])\n",
    "adataQ = sc.read_h5ad(adataPATH_query_list[0])\n",
    "adataR, adataQ"
   ]
  },
  {
   "cell_type": "code",
   "execution_count": 7,
   "id": "43363d5e-2643-4002-8905-e3c99124c70b",
   "metadata": {
    "execution": {
     "iopub.execute_input": "2024-07-04T16:46:41.876312Z",
     "iopub.status.busy": "2024-07-04T16:46:41.876049Z",
     "iopub.status.idle": "2024-07-04T16:46:43.771050Z",
     "shell.execute_reply": "2024-07-04T16:46:43.770339Z"
    },
    "papermill": {
     "duration": 1.906931,
     "end_time": "2024-07-04T16:46:43.772352",
     "exception": false,
     "start_time": "2024-07-04T16:46:41.865421",
     "status": "completed"
    },
    "tags": []
   },
   "outputs": [],
   "source": [
    "Level1_dict = adataR.obs[['Level1','Level2']].set_index('Level2').to_dict()['Level1']"
   ]
  },
  {
   "cell_type": "code",
   "execution_count": 8,
   "id": "0d286575-96c1-4146-b6d5-faab19d5a7ba",
   "metadata": {
    "execution": {
     "iopub.execute_input": "2024-07-04T16:46:43.805458Z",
     "iopub.status.busy": "2024-07-04T16:46:43.805216Z",
     "iopub.status.idle": "2024-07-04T16:46:43.818577Z",
     "shell.execute_reply": "2024-07-04T16:46:43.818165Z"
    },
    "papermill": {
     "duration": 0.028032,
     "end_time": "2024-07-04T16:46:43.819658",
     "exception": false,
     "start_time": "2024-07-04T16:46:43.791626",
     "status": "completed"
    },
    "tags": []
   },
   "outputs": [],
   "source": [
    "adataQ.obs['Level1_scANVIpredict'] = adataQ.obs['labels'].map(Level1_dict)"
   ]
  },
  {
   "cell_type": "code",
   "execution_count": 9,
   "id": "83ea89fd-965e-4c2c-bcd9-7467a6a78cd0",
   "metadata": {
    "execution": {
     "iopub.execute_input": "2024-07-04T16:46:43.836267Z",
     "iopub.status.busy": "2024-07-04T16:46:43.836010Z",
     "iopub.status.idle": "2024-07-04T16:46:43.870741Z",
     "shell.execute_reply": "2024-07-04T16:46:43.870164Z"
    },
    "papermill": {
     "duration": 0.044592,
     "end_time": "2024-07-04T16:46:43.871928",
     "exception": false,
     "start_time": "2024-07-04T16:46:43.827336",
     "status": "completed"
    },
    "tags": []
   },
   "outputs": [
    {
     "data": {
      "text/plain": [
       "Level1_scANVIpredict\n",
       "Mono              0.240013\n",
       "T_CD4_NonNaive    0.236730\n",
       "T_CD4_Naive       0.132894\n",
       "T_CD8_NonNaive    0.114005\n",
       "B                 0.078096\n",
       "ILC               0.065545\n",
       "T_CD8_Naive       0.061225\n",
       "UTC               0.037452\n",
       "Platelets         0.011968\n",
       "DC                0.011479\n",
       "pDC               0.004270\n",
       "Cycling_cells     0.003189\n",
       "Plasma            0.001243\n",
       "Progenitors       0.001107\n",
       "RBC               0.000786\n",
       "Name: proportion, dtype: float64"
      ]
     },
     "execution_count": 9,
     "metadata": {},
     "output_type": "execute_result"
    }
   ],
   "source": [
    "adataQ.obs['Level1_scANVIpredict'].value_counts(normalize = True)"
   ]
  },
  {
   "cell_type": "markdown",
   "id": "bab4753e-78c0-40b9-9361-d94b9804e924",
   "metadata": {
    "papermill": {
     "duration": 0.007768,
     "end_time": "2024-07-04T16:46:43.889489",
     "exception": false,
     "start_time": "2024-07-04T16:46:43.881721",
     "status": "completed"
    },
    "tags": []
   },
   "source": [
    "#### Label transfer with kNN"
   ]
  },
  {
   "cell_type": "code",
   "execution_count": 10,
   "id": "785cca0e-9f6f-48c3-825a-84ea8360e0fb",
   "metadata": {
    "execution": {
     "iopub.execute_input": "2024-07-04T16:46:43.907225Z",
     "iopub.status.busy": "2024-07-04T16:46:43.906968Z",
     "iopub.status.idle": "2024-07-04T17:00:27.864019Z",
     "shell.execute_reply": "2024-07-04T17:00:27.863609Z"
    },
    "papermill": {
     "duration": 823.96787,
     "end_time": "2024-07-04T17:00:27.865457",
     "exception": false,
     "start_time": "2024-07-04T16:46:43.897587",
     "status": "completed"
    },
    "tags": []
   },
   "outputs": [],
   "source": [
    "kNNclf = LabelTransferWithKNN().fit(adataR)"
   ]
  },
  {
   "cell_type": "code",
   "execution_count": 11,
   "id": "08b14276-ec7c-4061-8ad1-ed986c122dc9",
   "metadata": {
    "execution": {
     "iopub.execute_input": "2024-07-04T17:00:27.921044Z",
     "iopub.status.busy": "2024-07-04T17:00:27.920854Z",
     "iopub.status.idle": "2024-07-04T17:01:13.382665Z",
     "shell.execute_reply": "2024-07-04T17:01:13.382315Z"
    },
    "papermill": {
     "duration": 45.515557,
     "end_time": "2024-07-04T17:01:13.391283",
     "exception": false,
     "start_time": "2024-07-04T17:00:27.875726",
     "status": "completed"
    },
    "tags": []
   },
   "outputs": [
    {
     "data": {
      "text/plain": [
       "AnnData object with n_obs × n_vars = 572872 × 200\n",
       "    obs: 'studyID', 'libraryID', 'sampleID', 'chemistry', 'technology', 'disease', 'sex', 'binned_age', '_scvi_batch', 'Level2', '_scvi_labels', 'labels', 'Level1_scANVIpredict', 'Level1_pred', 'Level1_uncertainty'"
      ]
     },
     "execution_count": 11,
     "metadata": {},
     "output_type": "execute_result"
    }
   ],
   "source": [
    "adataQ = kNNclf.predict(query_adata = adataQ, label_keys = ['Level1'])\n",
    "adataQ"
   ]
  },
  {
   "cell_type": "code",
   "execution_count": 12,
   "id": "80b6736a-789a-4137-aa90-bfb74f2323c4",
   "metadata": {
    "execution": {
     "iopub.execute_input": "2024-07-04T17:01:13.410747Z",
     "iopub.status.busy": "2024-07-04T17:01:13.410561Z",
     "iopub.status.idle": "2024-07-04T17:01:13.414639Z",
     "shell.execute_reply": "2024-07-04T17:01:13.414295Z"
    },
    "papermill": {
     "duration": 0.013636,
     "end_time": "2024-07-04T17:01:13.415495",
     "exception": false,
     "start_time": "2024-07-04T17:01:13.401859",
     "status": "completed"
    },
    "tags": []
   },
   "outputs": [],
   "source": [
    "adataQ.obs['Level1_kNN_pred'] = adataQ.obs['Level1_pred']"
   ]
  },
  {
   "cell_type": "code",
   "execution_count": 13,
   "id": "f3f04f12-1058-46b0-95c8-8c8670bd40b2",
   "metadata": {
    "execution": {
     "iopub.execute_input": "2024-07-04T17:01:13.429966Z",
     "iopub.status.busy": "2024-07-04T17:01:13.429770Z",
     "iopub.status.idle": "2024-07-04T17:01:13.459377Z",
     "shell.execute_reply": "2024-07-04T17:01:13.459077Z"
    },
    "papermill": {
     "duration": 0.037748,
     "end_time": "2024-07-04T17:01:13.460184",
     "exception": false,
     "start_time": "2024-07-04T17:01:13.422436",
     "status": "completed"
    },
    "tags": []
   },
   "outputs": [
    {
     "data": {
      "text/plain": [
       "Level1_kNN_pred\n",
       "Mono              0.235677\n",
       "T_CD4_Naive       0.206100\n",
       "T_CD4_NonNaive    0.170462\n",
       "T_CD8_NonNaive    0.107530\n",
       "B                 0.079892\n",
       "ILC               0.070147\n",
       "T_CD8_Naive       0.060794\n",
       "UTC               0.026708\n",
       "Platelets         0.021612\n",
       "DC                0.009248\n",
       "Cycling_cells     0.004284\n",
       "pDC               0.004238\n",
       "Progenitors       0.001290\n",
       "Plasma            0.001231\n",
       "RBC               0.000787\n",
       "Name: proportion, dtype: float64"
      ]
     },
     "execution_count": 13,
     "metadata": {},
     "output_type": "execute_result"
    }
   ],
   "source": [
    "adataQ.obs['Level1_kNN_pred'].value_counts(normalize = True)"
   ]
  },
  {
   "cell_type": "code",
   "execution_count": 14,
   "id": "c1dc4c3a-30b8-45e2-8ed2-f89bd913523e",
   "metadata": {
    "execution": {
     "iopub.execute_input": "2024-07-04T17:01:13.477538Z",
     "iopub.status.busy": "2024-07-04T17:01:13.477399Z",
     "iopub.status.idle": "2024-07-04T17:01:13.507337Z",
     "shell.execute_reply": "2024-07-04T17:01:13.506966Z"
    },
    "papermill": {
     "duration": 0.03894,
     "end_time": "2024-07-04T17:01:13.508400",
     "exception": false,
     "start_time": "2024-07-04T17:01:13.469460",
     "status": "completed"
    },
    "tags": []
   },
   "outputs": [],
   "source": [
    "from sklearn.metrics import adjusted_rand_score as ari"
   ]
  },
  {
   "cell_type": "code",
   "execution_count": 15,
   "id": "ff6d5cbd-e8bc-4f7f-af89-f5dc0675500b",
   "metadata": {
    "execution": {
     "iopub.execute_input": "2024-07-04T17:01:13.541099Z",
     "iopub.status.busy": "2024-07-04T17:01:13.540763Z",
     "iopub.status.idle": "2024-07-04T17:01:14.442163Z",
     "shell.execute_reply": "2024-07-04T17:01:14.441823Z"
    },
    "papermill": {
     "duration": 0.910552,
     "end_time": "2024-07-04T17:01:14.443021",
     "exception": false,
     "start_time": "2024-07-04T17:01:13.532469",
     "status": "completed"
    },
    "tags": []
   },
   "outputs": [
    {
     "data": {
      "text/plain": [
       "0.7699958962974668"
      ]
     },
     "execution_count": 15,
     "metadata": {},
     "output_type": "execute_result"
    }
   ],
   "source": [
    "ari(adataQ.obs['Level1_kNN_pred'],adataQ.obs['Level1_scANVIpredict'])"
   ]
  },
  {
   "cell_type": "markdown",
   "id": "44e868b3-0771-4225-bd79-a4b179bc672b",
   "metadata": {
    "papermill": {
     "duration": 0.007613,
     "end_time": "2024-07-04T17:01:14.460623",
     "exception": false,
     "start_time": "2024-07-04T17:01:14.453010",
     "status": "completed"
    },
    "tags": []
   },
   "source": [
    "#### Generating PSEUDOBULKs"
   ]
  },
  {
   "cell_type": "code",
   "execution_count": 16,
   "id": "81223976-fcf6-4354-8964-b12d76468636",
   "metadata": {
    "execution": {
     "iopub.execute_input": "2024-07-04T17:01:14.476784Z",
     "iopub.status.busy": "2024-07-04T17:01:14.476466Z",
     "iopub.status.idle": "2024-07-04T17:01:17.910023Z",
     "shell.execute_reply": "2024-07-04T17:01:17.909656Z"
    },
    "papermill": {
     "duration": 3.442471,
     "end_time": "2024-07-04T17:01:17.910917",
     "exception": false,
     "start_time": "2024-07-04T17:01:14.468446",
     "status": "completed"
    },
    "tags": []
   },
   "outputs": [
    {
     "data": {
      "text/plain": [
       "AnnData object with n_obs × n_vars = 11372 × 200\n",
       "    obs: 'sampleID', 'Level1', 'disease', 'n_observation'"
      ]
     },
     "execution_count": 16,
     "metadata": {},
     "output_type": "execute_result"
    }
   ],
   "source": [
    "adataPB_R = aggregating_features(Z = adataR.X, \n",
    "                             obsDF = adataR.obs[['sampleID','Level1','disease']], \n",
    "                             mode = 'mean', \n",
    "                             obs_names_col=['sampleID','Level1'], \n",
    "                             min_observation=0)\n",
    "adataPB_R"
   ]
  },
  {
   "cell_type": "markdown",
   "id": "97d09fc5-d05c-471e-87fa-fe58ccbe47ac",
   "metadata": {
    "papermill": {
     "duration": 0.00752,
     "end_time": "2024-07-04T17:01:17.927446",
     "exception": false,
     "start_time": "2024-07-04T17:01:17.919926",
     "status": "completed"
    },
    "tags": []
   },
   "source": [
    "**Considering scANVI predicted labels**"
   ]
  },
  {
   "cell_type": "code",
   "execution_count": 17,
   "id": "8a64ad2e-561b-48a2-a48f-5fc1b9f567aa",
   "metadata": {
    "execution": {
     "iopub.execute_input": "2024-07-04T17:01:17.958760Z",
     "iopub.status.busy": "2024-07-04T17:01:17.958361Z",
     "iopub.status.idle": "2024-07-04T17:01:18.398591Z",
     "shell.execute_reply": "2024-07-04T17:01:18.398245Z"
    },
    "papermill": {
     "duration": 0.465067,
     "end_time": "2024-07-04T17:01:18.399475",
     "exception": false,
     "start_time": "2024-07-04T17:01:17.934408",
     "status": "completed"
    },
    "tags": []
   },
   "outputs": [
    {
     "data": {
      "text/plain": [
       "AnnData object with n_obs × n_vars = 1207 × 200\n",
       "    obs: 'sampleID', 'Level1', 'disease', 'n_observation'"
      ]
     },
     "execution_count": 17,
     "metadata": {},
     "output_type": "execute_result"
    }
   ],
   "source": [
    "adataPB_Q_scANVI = aggregating_features(Z = adataQ.X, \n",
    "                             obsDF = adataQ.obs[['sampleID','Level1_scANVIpredict','disease']], \n",
    "                             mode = 'mean', \n",
    "                             obs_names_col=['sampleID','Level1_scANVIpredict'], \n",
    "                             min_observation=0)\n",
    "\n",
    "adataPB_Q_scANVI.obs.rename({'Level1_scANVIpredict':'Level1'}, axis=1, inplace=True)\n",
    "adataPB_Q_scANVI"
   ]
  },
  {
   "cell_type": "code",
   "execution_count": 18,
   "id": "5c0db4a4-2016-4e00-bc54-9bcead35b4da",
   "metadata": {
    "execution": {
     "iopub.execute_input": "2024-07-04T17:01:18.415200Z",
     "iopub.status.busy": "2024-07-04T17:01:18.414963Z",
     "iopub.status.idle": "2024-07-04T17:01:18.418628Z",
     "shell.execute_reply": "2024-07-04T17:01:18.418322Z"
    },
    "papermill": {
     "duration": 0.012059,
     "end_time": "2024-07-04T17:01:18.419398",
     "exception": false,
     "start_time": "2024-07-04T17:01:18.407339",
     "status": "completed"
    },
    "tags": []
   },
   "outputs": [
    {
     "data": {
      "text/plain": [
       "Level1\n",
       "B                 86\n",
       "DC                86\n",
       "ILC               86\n",
       "Mono              86\n",
       "T_CD4_Naive       86\n",
       "T_CD4_NonNaive    86\n",
       "T_CD8_Naive       86\n",
       "T_CD8_NonNaive    86\n",
       "UTC               86\n",
       "Platelets         84\n",
       "Cycling_cells     81\n",
       "Plasma            81\n",
       "Progenitors       81\n",
       "pDC               77\n",
       "RBC               29\n",
       "Name: count, dtype: int64"
      ]
     },
     "execution_count": 18,
     "metadata": {},
     "output_type": "execute_result"
    }
   ],
   "source": [
    "adataPB_Q_scANVI.obs.Level1.value_counts()"
   ]
  },
  {
   "cell_type": "markdown",
   "id": "6ccd375e-bb4a-47bd-afbb-4399f9fe93bb",
   "metadata": {
    "papermill": {
     "duration": 0.006946,
     "end_time": "2024-07-04T17:01:18.433812",
     "exception": false,
     "start_time": "2024-07-04T17:01:18.426866",
     "status": "completed"
    },
    "tags": []
   },
   "source": [
    "**Considering labels transferred with kNN**"
   ]
  },
  {
   "cell_type": "code",
   "execution_count": 19,
   "id": "0d234e2f",
   "metadata": {
    "execution": {
     "iopub.execute_input": "2024-07-04T17:01:18.448609Z",
     "iopub.status.busy": "2024-07-04T17:01:18.448404Z",
     "iopub.status.idle": "2024-07-04T17:01:18.890482Z",
     "shell.execute_reply": "2024-07-04T17:01:18.890137Z"
    },
    "papermill": {
     "duration": 0.450356,
     "end_time": "2024-07-04T17:01:18.891315",
     "exception": false,
     "start_time": "2024-07-04T17:01:18.440959",
     "status": "completed"
    },
    "tags": []
   },
   "outputs": [
    {
     "data": {
      "text/plain": [
       "AnnData object with n_obs × n_vars = 1217 × 200\n",
       "    obs: 'sampleID', 'Level1', 'disease', 'n_observation'"
      ]
     },
     "execution_count": 19,
     "metadata": {},
     "output_type": "execute_result"
    }
   ],
   "source": [
    "adataPB_Q_kNN = aggregating_features(Z = adataQ.X, \n",
    "                             obsDF = adataQ.obs[['sampleID','Level1_kNN_pred','disease']], \n",
    "                             mode = 'mean', \n",
    "                             obs_names_col=['sampleID','Level1_kNN_pred'], \n",
    "                             min_observation=0)\n",
    "adataPB_Q_kNN.obs.rename({'Level1_kNN_pred':'Level1'}, axis=1, inplace=True)\n",
    "adataPB_Q_kNN"
   ]
  },
  {
   "cell_type": "code",
   "execution_count": 20,
   "id": "51f78e87-ebdb-4095-af60-e5c5bb297b33",
   "metadata": {
    "execution": {
     "iopub.execute_input": "2024-07-04T17:01:18.906864Z",
     "iopub.status.busy": "2024-07-04T17:01:18.906598Z",
     "iopub.status.idle": "2024-07-04T17:01:18.910242Z",
     "shell.execute_reply": "2024-07-04T17:01:18.909952Z"
    },
    "papermill": {
     "duration": 0.012199,
     "end_time": "2024-07-04T17:01:18.911049",
     "exception": false,
     "start_time": "2024-07-04T17:01:18.898850",
     "status": "completed"
    },
    "tags": []
   },
   "outputs": [
    {
     "data": {
      "text/plain": [
       "Level1\n",
       "B                 86\n",
       "DC                86\n",
       "ILC               86\n",
       "Mono              86\n",
       "Platelets         86\n",
       "T_CD4_Naive       86\n",
       "T_CD4_NonNaive    86\n",
       "T_CD8_Naive       86\n",
       "T_CD8_NonNaive    86\n",
       "UTC               86\n",
       "Cycling_cells     85\n",
       "Progenitors       82\n",
       "Plasma            81\n",
       "pDC               78\n",
       "RBC               31\n",
       "Name: count, dtype: int64"
      ]
     },
     "execution_count": 20,
     "metadata": {},
     "output_type": "execute_result"
    }
   ],
   "source": [
    "adataPB_Q_kNN.obs.Level1.value_counts()"
   ]
  },
  {
   "cell_type": "markdown",
   "id": "d59574be-684b-4082-b8b6-7d11930362ad",
   "metadata": {
    "papermill": {
     "duration": 0.010865,
     "end_time": "2024-07-04T17:01:18.933814",
     "exception": false,
     "start_time": "2024-07-04T17:01:18.922949",
     "status": "completed"
    },
    "tags": []
   },
   "source": [
    "### Saving pseudobulk adata objects"
   ]
  },
  {
   "cell_type": "code",
   "execution_count": 21,
   "id": "3ce1c9f0-1868-4854-b610-4c85581409c6",
   "metadata": {
    "execution": {
     "iopub.execute_input": "2024-07-04T17:01:18.952637Z",
     "iopub.status.busy": "2024-07-04T17:01:18.952358Z",
     "iopub.status.idle": "2024-07-04T17:01:18.954802Z",
     "shell.execute_reply": "2024-07-04T17:01:18.954512Z"
    },
    "papermill": {
     "duration": 0.012813,
     "end_time": "2024-07-04T17:01:18.955574",
     "exception": false,
     "start_time": "2024-07-04T17:01:18.942761",
     "status": "completed"
    },
    "tags": []
   },
   "outputs": [
    {
     "data": {
      "text/plain": [
       "'/scratch_isilon/groups/singlecell/shared/projects/Inflammation-PBMCs-Atlas/03_downstream_analysis/08_PatientClassifier/scANVI/results/reference/scANVI_EXTERNAL_512_200_Level2_run1_finetuning.h5ad'"
      ]
     },
     "execution_count": 21,
     "metadata": {},
     "output_type": "execute_result"
    }
   ],
   "source": [
    "adataPATH_ref_list[0]"
   ]
  },
  {
   "cell_type": "code",
   "execution_count": 22,
   "id": "88f795a3-ab63-436d-a149-5bc18499537d",
   "metadata": {
    "execution": {
     "iopub.execute_input": "2024-07-04T17:01:18.972180Z",
     "iopub.status.busy": "2024-07-04T17:01:18.971918Z",
     "iopub.status.idle": "2024-07-04T17:01:18.974372Z",
     "shell.execute_reply": "2024-07-04T17:01:18.974090Z"
    },
    "papermill": {
     "duration": 0.011551,
     "end_time": "2024-07-04T17:01:18.975112",
     "exception": false,
     "start_time": "2024-07-04T17:01:18.963561",
     "status": "completed"
    },
    "tags": []
   },
   "outputs": [
    {
     "data": {
      "text/plain": [
       "'/scratch_isilon/groups/singlecell/shared/projects/Inflammation-PBMCs-Atlas/03_downstream_analysis/08_PatientClassifier/scANVI/results/PSEUDOBULKs/scANVI_PSEUDOBULK_reference_EXTERNAL_512_200_Level2_run1_finetuning.h5ad'"
      ]
     },
     "execution_count": 22,
     "metadata": {},
     "output_type": "execute_result"
    }
   ],
   "source": [
    "adataPATH_ref_list[0].replace('/reference/scANVI_','/PSEUDOBULKs/scANVI_PSEUDOBULK_reference_')"
   ]
  },
  {
   "cell_type": "code",
   "execution_count": 23,
   "id": "5947e6f8-ac27-4702-ba5d-aa9e1ba79f6a",
   "metadata": {
    "execution": {
     "iopub.execute_input": "2024-07-04T17:01:18.990697Z",
     "iopub.status.busy": "2024-07-04T17:01:18.990447Z",
     "iopub.status.idle": "2024-07-04T17:01:19.736226Z",
     "shell.execute_reply": "2024-07-04T17:01:19.735805Z"
    },
    "papermill": {
     "duration": 0.754887,
     "end_time": "2024-07-04T17:01:19.737427",
     "exception": false,
     "start_time": "2024-07-04T17:01:18.982540",
     "status": "completed"
    },
    "tags": []
   },
   "outputs": [],
   "source": [
    "adataPB_R.write(here(adataPATH_ref_list[0].replace('/reference/scANVI_','/PSEUDOBULKs/scANVI_PSEUDOBULK_reference_')), compression='gzip')"
   ]
  },
  {
   "cell_type": "code",
   "execution_count": 24,
   "id": "8a70d9f6-7a44-45ee-8470-702bd7af1e0b",
   "metadata": {
    "execution": {
     "iopub.execute_input": "2024-07-04T17:01:19.763945Z",
     "iopub.status.busy": "2024-07-04T17:01:19.763742Z",
     "iopub.status.idle": "2024-07-04T17:01:19.916323Z",
     "shell.execute_reply": "2024-07-04T17:01:19.915960Z"
    },
    "papermill": {
     "duration": 0.170331,
     "end_time": "2024-07-04T17:01:19.917327",
     "exception": false,
     "start_time": "2024-07-04T17:01:19.746996",
     "status": "completed"
    },
    "tags": []
   },
   "outputs": [],
   "source": [
    "adataPB_Q_scANVI.write(here(adataPATH_query_list[0].replace('/query/scANVI_','/PSEUDOBULKs/scANVI_PSEUDOBULK_query_')), compression='gzip')"
   ]
  },
  {
   "cell_type": "code",
   "execution_count": 25,
   "id": "19305819",
   "metadata": {
    "execution": {
     "iopub.execute_input": "2024-07-04T17:01:19.950974Z",
     "iopub.status.busy": "2024-07-04T17:01:19.950790Z",
     "iopub.status.idle": "2024-07-04T17:01:20.081100Z",
     "shell.execute_reply": "2024-07-04T17:01:20.080755Z"
    },
    "papermill": {
     "duration": 0.156642,
     "end_time": "2024-07-04T17:01:20.082027",
     "exception": false,
     "start_time": "2024-07-04T17:01:19.925385",
     "status": "completed"
    },
    "tags": []
   },
   "outputs": [],
   "source": [
    "adataPB_Q_kNN.write(here(adataPATH_query_list[0].replace('/query/scANVI_','/PSEUDOBULKs/scANVI_PSEUDOBULK_kNN_query_')), compression='gzip')"
   ]
  }
 ],
 "metadata": {
  "kernelspec": {
   "display_name": "Python 3 (ipykernel)",
   "language": "python",
   "name": "python3"
  },
  "language_info": {
   "codemirror_mode": {
    "name": "ipython",
    "version": 3
   },
   "file_extension": ".py",
   "mimetype": "text/x-python",
   "name": "python",
   "nbconvert_exporter": "python",
   "pygments_lexer": "ipython3",
   "version": "3.12.3"
  },
  "papermill": {
   "default_parameters": {},
   "duration": 922.982833,
   "end_time": "2024-07-04T17:01:21.806511",
   "environment_variables": {},
   "exception": null,
   "input_path": "03_labelTransfer_generating_PSEUDOBULKs.ipynb",
   "output_path": "executed_notebooks/03_labelTransfer_generating_PSEUDOBULKs_EXTERNAL_nPC200.ipynb",
   "parameters": {
    "adataPATH_query": "03_downstream_analysis/08_PatientClassifier/scANVI/results/query/scANVI_EXTERNAL_*_200_Level2_*.h5ad",
    "adataPATH_ref": "03_downstream_analysis/08_PatientClassifier/scANVI/results/reference/scANVI_EXTERNAL_*_200_Level2_*.h5ad"
   },
   "start_time": "2024-07-04T16:45:58.823678",
   "version": "2.6.0"
  }
 },
 "nbformat": 4,
 "nbformat_minor": 5
}