{
 "cells": [
  {
   "cell_type": "code",
   "execution_count": 1,
   "id": "f0a8de49",
   "metadata": {
    "execution": {
     "iopub.execute_input": "2024-07-04T16:27:50.927901Z",
     "iopub.status.busy": "2024-07-04T16:27:50.927744Z",
     "iopub.status.idle": "2024-07-04T16:27:50.930527Z",
     "shell.execute_reply": "2024-07-04T16:27:50.930134Z"
    },
    "papermill": {
     "duration": 0.012389,
     "end_time": "2024-07-04T16:27:50.931360",
     "exception": false,
     "start_time": "2024-07-04T16:27:50.918971",
     "status": "completed"
    },
    "tags": [
     "injected-parameters"
    ]
   },
   "outputs": [],
   "source": [
    "# Parameters\n",
    "adataPATH_ref = \"03_downstream_analysis/08_PatientClassifier/scANVI/results/reference/scANVI_VALIDATION_*_200_Level2_*.h5ad\"\n",
    "adataPATH_query = \"03_downstream_analysis/08_PatientClassifier/scANVI/results/query/scANVI_VALIDATION_*_200_Level2_*.h5ad\"\n"
   ]
  },
  {
   "cell_type": "raw",
   "id": "8002b33d-9b20-4bdf-a1a3-acc29d5a0295",
   "metadata": {
    "execution": {
     "iopub.execute_input": "2024-07-04T11:25:09.444596Z",
     "iopub.status.busy": "2024-07-04T11:25:09.444279Z",
     "iopub.status.idle": "2024-07-04T11:25:09.447097Z",
     "shell.execute_reply": "2024-07-04T11:25:09.446732Z",
     "shell.execute_reply.started": "2024-07-04T11:25:09.444579Z"
    },
    "papermill": {
     "duration": 0.009571,
     "end_time": "2024-07-04T16:27:50.970032",
     "exception": false,
     "start_time": "2024-07-04T16:27:50.960461",
     "status": "completed"
    },
    "tags": [],
    "vscode": {
     "languageId": "raw"
    }
   },
   "source": [
    "adataPATH_ref = '03_downstream_analysis/08_PatientClassifier/scANVI/results/reference/scANVI_VALIDATION_256_30_Level2_run1_finetuning.h5ad'\n",
    "adataPATH_query = '03_downstream_analysis/08_PatientClassifier/scANVI/results/query/scANVI_VALIDATION_256_30_Level2_run1_finetuning.h5ad'"
   ]
  },
  {
   "cell_type": "code",
   "execution_count": 2,
   "id": "d3ccb10a-7201-43d0-a593-2b4650ff3451",
   "metadata": {
    "execution": {
     "iopub.execute_input": "2024-07-04T16:27:50.993980Z",
     "iopub.status.busy": "2024-07-04T16:27:50.993846Z",
     "iopub.status.idle": "2024-07-04T16:27:50.996871Z",
     "shell.execute_reply": "2024-07-04T16:27:50.996488Z"
    },
    "papermill": {
     "duration": 0.019302,
     "end_time": "2024-07-04T16:27:50.997683",
     "exception": false,
     "start_time": "2024-07-04T16:27:50.978381",
     "status": "completed"
    },
    "tags": []
   },
   "outputs": [
    {
     "name": "stdout",
     "output_type": "stream",
     "text": [
      "adataPATH_ref = 03_downstream_analysis/08_PatientClassifier/scANVI/results/reference/scANVI_VALIDATION_*_200_Level2_*.h5ad\n",
      "adataPATH_query = 03_downstream_analysis/08_PatientClassifier/scANVI/results/query/scANVI_VALIDATION_*_200_Level2_*.h5ad\n"
     ]
    }
   ],
   "source": [
    "for v in ['adataPATH_ref','adataPATH_query']:\n",
    "    if v in locals() or v in globals():\n",
    "        print(f\"{v} = {eval(v)}\")\n",
    "    else:\n",
    "        raise Exception(f\"{v} not specified\")"
   ]
  },
  {
   "cell_type": "code",
   "execution_count": 3,
   "id": "888fb5f4-9ab7-4196-a282-7a7e92a43971",
   "metadata": {
    "execution": {
     "iopub.execute_input": "2024-07-04T16:27:51.080865Z",
     "iopub.status.busy": "2024-07-04T16:27:51.080383Z",
     "iopub.status.idle": "2024-07-04T16:28:02.984941Z",
     "shell.execute_reply": "2024-07-04T16:28:02.984445Z"
    },
    "papermill": {
     "duration": 11.920141,
     "end_time": "2024-07-04T16:28:02.986136",
     "exception": false,
     "start_time": "2024-07-04T16:27:51.065995",
     "status": "completed"
    },
    "tags": []
   },
   "outputs": [],
   "source": [
    "import os\n",
    "import sys\n",
    "from glob import glob\n",
    "\n",
    "import scanpy as sc\n",
    "import pandas as pd\n",
    "\n",
    "import pynndescent\n",
    "import numpy as np\n",
    "import numba\n",
    "\n",
    "from pyprojroot import here\n",
    "\n",
    "sys.path.insert(1, str(here('bin')))\n",
    "# Import custom functions\n",
    "from customPythonFunctions import aggregating_features"
   ]
  },
  {
   "cell_type": "markdown",
   "id": "cc14bdf1-cb35-427d-b868-48480d371ac1",
   "metadata": {
    "papermill": {
     "duration": 0.006323,
     "end_time": "2024-07-04T16:28:02.999469",
     "exception": false,
     "start_time": "2024-07-04T16:28:02.993146",
     "status": "completed"
    },
    "tags": []
   },
   "source": [
    "### Defining kNN label transfer function"
   ]
  },
  {
   "cell_type": "code",
   "execution_count": 4,
   "id": "2cde8870-daf7-4eb9-b1be-d7a700b1876b",
   "metadata": {
    "execution": {
     "iopub.execute_input": "2024-07-04T16:28:03.013074Z",
     "iopub.status.busy": "2024-07-04T16:28:03.012586Z",
     "iopub.status.idle": "2024-07-04T16:28:03.018468Z",
     "shell.execute_reply": "2024-07-04T16:28:03.018089Z"
    },
    "papermill": {
     "duration": 0.013464,
     "end_time": "2024-07-04T16:28:03.019297",
     "exception": false,
     "start_time": "2024-07-04T16:28:03.005833",
     "status": "completed"
    },
    "tags": []
   },
   "outputs": [],
   "source": [
    "class LabelTransferWithKNN:\n",
    "    \"\"\" See https://docs.scvi-tools.org/en/stable/tutorials/notebooks/scrna/query_hlca_knn.html \"\"\"\n",
    "    def fit(self, ref_adata):\n",
    "        self.ref_adata = ref_adata\n",
    "        self.nn_index = pynndescent.NNDescent(self.ref_adata.X)\n",
    "        self.nn_index.prepare()\n",
    "        return self\n",
    "\n",
    "    def predict(self, query_adata, label_keys: list[str] = ['Level1']):\n",
    "\n",
    "        ref_neighbors, ref_distances = self.nn_index.query(query_adata.X)\n",
    "\n",
    "        # convert distances to affinities\n",
    "        stds = np.std(ref_distances, axis=1)\n",
    "        stds = (2.0 / stds) ** 2\n",
    "        stds = stds.reshape(-1, 1)\n",
    "        ref_distances_tilda = np.exp(-np.true_divide(ref_distances, stds))\n",
    "        weights = ref_distances_tilda / np.sum(ref_distances_tilda, axis=1, keepdims=True)\n",
    "\n",
    "        for l in label_keys:\n",
    "            ref_cats = self.ref_adata.obs[l].cat.codes.to_numpy()[ref_neighbors]\n",
    "            p, u = self.weighted_prediction(weights, ref_cats)\n",
    "            p = np.asarray(self.ref_adata.obs[l].cat.categories)[p]\n",
    "            query_adata.obs[l + \"_pred\"], query_adata.obs[l + \"_uncertainty\"] = p, u\n",
    "        \n",
    "        return query_adata\n",
    "    \n",
    "    @staticmethod\n",
    "    @numba.njit\n",
    "    def weighted_prediction(weights, ref_cats):\n",
    "        \"\"\"Get highest weight category.\"\"\"\n",
    "        N = len(weights)\n",
    "        predictions = np.zeros((N,), dtype=ref_cats.dtype)\n",
    "        uncertainty = np.zeros((N,))\n",
    "        for i in range(N):\n",
    "            obs_weights = weights[i]\n",
    "            obs_cats = ref_cats[i]\n",
    "            best_prob = 0\n",
    "            for c in np.unique(obs_cats):\n",
    "                cand_prob = np.sum(obs_weights[obs_cats == c])\n",
    "                if cand_prob > best_prob:\n",
    "                    best_prob = cand_prob\n",
    "                    predictions[i] = c\n",
    "                    uncertainty[i] = max(1 - best_prob, 0)\n",
    "\n",
    "        return predictions, uncertainty"
   ]
  },
  {
   "cell_type": "markdown",
   "id": "ba4905ae-4546-4ef4-b57b-950441ab079d",
   "metadata": {
    "papermill": {
     "duration": 0.027665,
     "end_time": "2024-07-04T16:28:03.057486",
     "exception": false,
     "start_time": "2024-07-04T16:28:03.029821",
     "status": "completed"
    },
    "tags": []
   },
   "source": [
    "### Loading data"
   ]
  },
  {
   "cell_type": "code",
   "execution_count": 5,
   "id": "539cbbbb-3503-4f51-bf04-f007f928ebd1",
   "metadata": {
    "execution": {
     "iopub.execute_input": "2024-07-04T16:28:03.095113Z",
     "iopub.status.busy": "2024-07-04T16:28:03.094964Z",
     "iopub.status.idle": "2024-07-04T16:28:03.101309Z",
     "shell.execute_reply": "2024-07-04T16:28:03.100940Z"
    },
    "papermill": {
     "duration": 0.015146,
     "end_time": "2024-07-04T16:28:03.102139",
     "exception": false,
     "start_time": "2024-07-04T16:28:03.086993",
     "status": "completed"
    },
    "tags": []
   },
   "outputs": [],
   "source": [
    "adataPATH_ref\n",
    "adataPATH_ref_list = glob(str(here(adataPATH_ref)))\n",
    "assert(len(adataPATH_ref_list) == 1)\n",
    "\n",
    "adataPATH_query\n",
    "adataPATH_query_list = glob(str(here(adataPATH_query)))\n",
    "assert(len(adataPATH_query_list) == 1)"
   ]
  },
  {
   "cell_type": "code",
   "execution_count": 6,
   "id": "0fcfce0a-896b-4dc0-8e5e-46749205c84f",
   "metadata": {
    "execution": {
     "iopub.execute_input": "2024-07-04T16:28:03.118294Z",
     "iopub.status.busy": "2024-07-04T16:28:03.118152Z",
     "iopub.status.idle": "2024-07-04T16:30:21.345822Z",
     "shell.execute_reply": "2024-07-04T16:30:21.345273Z"
    },
    "papermill": {
     "duration": 138.244171,
     "end_time": "2024-07-04T16:30:21.355362",
     "exception": false,
     "start_time": "2024-07-04T16:28:03.111191",
     "status": "completed"
    },
    "tags": []
   },
   "outputs": [
    {
     "data": {
      "text/plain": [
       "(AnnData object with n_obs × n_vars = 4435922 × 200\n",
       "     obs: 'studyID', 'libraryID', 'sampleID', 'chemistry', 'disease', 'sex', 'binned_age', 'Level1', 'Level2', '_scvi_batch', '_scvi_labels',\n",
       " AnnData object with n_obs × n_vars = 849922 × 200\n",
       "     obs: 'studyID', 'libraryID', 'sampleID', 'chemistry', 'technology', 'disease', 'sex', 'binned_age', '_scvi_batch', 'Level2', '_scvi_labels', 'labels')"
      ]
     },
     "execution_count": 6,
     "metadata": {},
     "output_type": "execute_result"
    }
   ],
   "source": [
    "adataR = sc.read_h5ad(adataPATH_ref_list[0])\n",
    "adataQ = sc.read_h5ad(adataPATH_query_list[0])\n",
    "adataR, adataQ"
   ]
  },
  {
   "cell_type": "code",
   "execution_count": 7,
   "id": "43363d5e-2643-4002-8905-e3c99124c70b",
   "metadata": {
    "execution": {
     "iopub.execute_input": "2024-07-04T16:30:21.383892Z",
     "iopub.status.busy": "2024-07-04T16:30:21.383582Z",
     "iopub.status.idle": "2024-07-04T16:30:23.268819Z",
     "shell.execute_reply": "2024-07-04T16:30:23.268351Z"
    },
    "papermill": {
     "duration": 1.907129,
     "end_time": "2024-07-04T16:30:23.270205",
     "exception": false,
     "start_time": "2024-07-04T16:30:21.363076",
     "status": "completed"
    },
    "tags": []
   },
   "outputs": [],
   "source": [
    "Level1_dict = adataR.obs[['Level1','Level2']].set_index('Level2').to_dict()['Level1']"
   ]
  },
  {
   "cell_type": "code",
   "execution_count": 8,
   "id": "0d286575-96c1-4146-b6d5-faab19d5a7ba",
   "metadata": {
    "execution": {
     "iopub.execute_input": "2024-07-04T16:30:23.292379Z",
     "iopub.status.busy": "2024-07-04T16:30:23.292010Z",
     "iopub.status.idle": "2024-07-04T16:30:23.311695Z",
     "shell.execute_reply": "2024-07-04T16:30:23.311177Z"
    },
    "papermill": {
     "duration": 0.032302,
     "end_time": "2024-07-04T16:30:23.313201",
     "exception": false,
     "start_time": "2024-07-04T16:30:23.280899",
     "status": "completed"
    },
    "tags": []
   },
   "outputs": [],
   "source": [
    "adataQ.obs['Level1_scANVIpredict'] = adataQ.obs['labels'].map(Level1_dict)"
   ]
  },
  {
   "cell_type": "code",
   "execution_count": 9,
   "id": "83ea89fd-965e-4c2c-bcd9-7467a6a78cd0",
   "metadata": {
    "execution": {
     "iopub.execute_input": "2024-07-04T16:30:23.338320Z",
     "iopub.status.busy": "2024-07-04T16:30:23.338085Z",
     "iopub.status.idle": "2024-07-04T16:30:23.378142Z",
     "shell.execute_reply": "2024-07-04T16:30:23.377741Z"
    },
    "papermill": {
     "duration": 0.055986,
     "end_time": "2024-07-04T16:30:23.379067",
     "exception": false,
     "start_time": "2024-07-04T16:30:23.323081",
     "status": "completed"
    },
    "tags": []
   },
   "outputs": [
    {
     "data": {
      "text/plain": [
       "Level1_scANVIpredict\n",
       "Mono              0.260833\n",
       "T_CD4_NonNaive    0.228097\n",
       "T_CD8_NonNaive    0.122525\n",
       "T_CD4_Naive       0.097383\n",
       "ILC               0.081146\n",
       "B                 0.079474\n",
       "T_CD8_Naive       0.047443\n",
       "UTC               0.040657\n",
       "DC                0.016211\n",
       "Cycling_cells     0.007268\n",
       "Platelets         0.006834\n",
       "Plasma            0.005499\n",
       "pDC               0.005128\n",
       "Progenitors       0.001370\n",
       "RBC               0.000132\n",
       "Name: proportion, dtype: float64"
      ]
     },
     "execution_count": 9,
     "metadata": {},
     "output_type": "execute_result"
    }
   ],
   "source": [
    "adataQ.obs['Level1_scANVIpredict'].value_counts(normalize = True)"
   ]
  },
  {
   "cell_type": "markdown",
   "id": "bab4753e-78c0-40b9-9361-d94b9804e924",
   "metadata": {
    "papermill": {
     "duration": 0.026592,
     "end_time": "2024-07-04T16:30:23.415517",
     "exception": false,
     "start_time": "2024-07-04T16:30:23.388925",
     "status": "completed"
    },
    "tags": []
   },
   "source": [
    "#### Label transfer with kNN"
   ]
  },
  {
   "cell_type": "code",
   "execution_count": 10,
   "id": "785cca0e-9f6f-48c3-825a-84ea8360e0fb",
   "metadata": {
    "execution": {
     "iopub.execute_input": "2024-07-04T16:30:23.437877Z",
     "iopub.status.busy": "2024-07-04T16:30:23.437558Z",
     "iopub.status.idle": "2024-07-04T16:44:23.821754Z",
     "shell.execute_reply": "2024-07-04T16:44:23.821194Z"
    },
    "papermill": {
     "duration": 840.395583,
     "end_time": "2024-07-04T16:44:23.823144",
     "exception": false,
     "start_time": "2024-07-04T16:30:23.427561",
     "status": "completed"
    },
    "tags": []
   },
   "outputs": [],
   "source": [
    "kNNclf = LabelTransferWithKNN().fit(adataR)"
   ]
  },
  {
   "cell_type": "code",
   "execution_count": 11,
   "id": "08b14276-ec7c-4061-8ad1-ed986c122dc9",
   "metadata": {
    "execution": {
     "iopub.execute_input": "2024-07-04T16:44:24.033661Z",
     "iopub.status.busy": "2024-07-04T16:44:24.033336Z",
     "iopub.status.idle": "2024-07-04T16:45:40.741334Z",
     "shell.execute_reply": "2024-07-04T16:45:40.740864Z"
    },
    "papermill": {
     "duration": 77.14675,
     "end_time": "2024-07-04T16:45:41.060733",
     "exception": false,
     "start_time": "2024-07-04T16:44:23.913983",
     "status": "completed"
    },
    "tags": []
   },
   "outputs": [
    {
     "data": {
      "text/plain": [
       "AnnData object with n_obs × n_vars = 849922 × 200\n",
       "    obs: 'studyID', 'libraryID', 'sampleID', 'chemistry', 'technology', 'disease', 'sex', 'binned_age', '_scvi_batch', 'Level2', '_scvi_labels', 'labels', 'Level1_scANVIpredict', 'Level1_pred', 'Level1_uncertainty'"
      ]
     },
     "execution_count": 11,
     "metadata": {},
     "output_type": "execute_result"
    }
   ],
   "source": [
    "adataQ = kNNclf.predict(query_adata = adataQ, label_keys = ['Level1'])\n",
    "adataQ"
   ]
  },
  {
   "cell_type": "code",
   "execution_count": 12,
   "id": "80b6736a-789a-4137-aa90-bfb74f2323c4",
   "metadata": {
    "execution": {
     "iopub.execute_input": "2024-07-04T16:45:41.186103Z",
     "iopub.status.busy": "2024-07-04T16:45:41.185839Z",
     "iopub.status.idle": "2024-07-04T16:45:41.191493Z",
     "shell.execute_reply": "2024-07-04T16:45:41.191048Z"
    },
    "papermill": {
     "duration": 0.071701,
     "end_time": "2024-07-04T16:45:41.192497",
     "exception": false,
     "start_time": "2024-07-04T16:45:41.120796",
     "status": "completed"
    },
    "tags": []
   },
   "outputs": [],
   "source": [
    "adataQ.obs['Level1_kNN_pred'] = adataQ.obs['Level1_pred']"
   ]
  },
  {
   "cell_type": "code",
   "execution_count": 13,
   "id": "f3f04f12-1058-46b0-95c8-8c8670bd40b2",
   "metadata": {
    "execution": {
     "iopub.execute_input": "2024-07-04T16:45:41.681647Z",
     "iopub.status.busy": "2024-07-04T16:45:41.681392Z",
     "iopub.status.idle": "2024-07-04T16:45:41.720562Z",
     "shell.execute_reply": "2024-07-04T16:45:41.720216Z"
    },
    "papermill": {
     "duration": 0.356076,
     "end_time": "2024-07-04T16:45:41.721530",
     "exception": false,
     "start_time": "2024-07-04T16:45:41.365454",
     "status": "completed"
    },
    "tags": []
   },
   "outputs": [
    {
     "data": {
      "text/plain": [
       "Level1_kNN_pred\n",
       "Mono              0.257338\n",
       "T_CD4_Naive       0.164556\n",
       "T_CD4_NonNaive    0.159968\n",
       "T_CD8_NonNaive    0.118201\n",
       "ILC               0.085178\n",
       "B                 0.082382\n",
       "T_CD8_Naive       0.047388\n",
       "UTC               0.024768\n",
       "Platelets         0.024560\n",
       "DC                0.012839\n",
       "Cycling_cells     0.010549\n",
       "pDC               0.005323\n",
       "Plasma            0.005178\n",
       "Progenitors       0.001612\n",
       "RBC               0.000160\n",
       "Name: proportion, dtype: float64"
      ]
     },
     "execution_count": 13,
     "metadata": {},
     "output_type": "execute_result"
    }
   ],
   "source": [
    "adataQ.obs['Level1_kNN_pred'].value_counts(normalize = True)"
   ]
  },
  {
   "cell_type": "code",
   "execution_count": 14,
   "id": "c1dc4c3a-30b8-45e2-8ed2-f89bd913523e",
   "metadata": {
    "execution": {
     "iopub.execute_input": "2024-07-04T16:45:42.051880Z",
     "iopub.status.busy": "2024-07-04T16:45:42.051598Z",
     "iopub.status.idle": "2024-07-04T16:45:42.088559Z",
     "shell.execute_reply": "2024-07-04T16:45:42.087190Z"
    },
    "papermill": {
     "duration": 0.180275,
     "end_time": "2024-07-04T16:45:42.089685",
     "exception": false,
     "start_time": "2024-07-04T16:45:41.909410",
     "status": "completed"
    },
    "tags": []
   },
   "outputs": [],
   "source": [
    "from sklearn.metrics import adjusted_rand_score as ari"
   ]
  },
  {
   "cell_type": "code",
   "execution_count": 15,
   "id": "ff6d5cbd-e8bc-4f7f-af89-f5dc0675500b",
   "metadata": {
    "execution": {
     "iopub.execute_input": "2024-07-04T16:45:42.360437Z",
     "iopub.status.busy": "2024-07-04T16:45:42.360002Z",
     "iopub.status.idle": "2024-07-04T16:45:43.913489Z",
     "shell.execute_reply": "2024-07-04T16:45:43.913031Z"
    },
    "papermill": {
     "duration": 1.69126,
     "end_time": "2024-07-04T16:45:43.914563",
     "exception": false,
     "start_time": "2024-07-04T16:45:42.223303",
     "status": "completed"
    },
    "tags": []
   },
   "outputs": [
    {
     "data": {
      "text/plain": [
       "0.7870712784036193"
      ]
     },
     "execution_count": 15,
     "metadata": {},
     "output_type": "execute_result"
    }
   ],
   "source": [
    "ari(adataQ.obs['Level1_kNN_pred'],adataQ.obs['Level1_scANVIpredict'])"
   ]
  },
  {
   "cell_type": "markdown",
   "id": "44e868b3-0771-4225-bd79-a4b179bc672b",
   "metadata": {
    "papermill": {
     "duration": 0.260718,
     "end_time": "2024-07-04T16:45:44.306425",
     "exception": false,
     "start_time": "2024-07-04T16:45:44.045707",
     "status": "completed"
    },
    "tags": []
   },
   "source": [
    "#### Generating PSEUDOBULKs"
   ]
  },
  {
   "cell_type": "code",
   "execution_count": 16,
   "id": "81223976-fcf6-4354-8964-b12d76468636",
   "metadata": {
    "execution": {
     "iopub.execute_input": "2024-07-04T16:45:44.464717Z",
     "iopub.status.busy": "2024-07-04T16:45:44.464372Z",
     "iopub.status.idle": "2024-07-04T16:45:47.987889Z",
     "shell.execute_reply": "2024-07-04T16:45:47.987424Z"
    },
    "papermill": {
     "duration": 3.551947,
     "end_time": "2024-07-04T16:45:47.989138",
     "exception": false,
     "start_time": "2024-07-04T16:45:44.437191",
     "status": "completed"
    },
    "tags": []
   },
   "outputs": [
    {
     "data": {
      "text/plain": [
       "AnnData object with n_obs × n_vars = 11372 × 200\n",
       "    obs: 'sampleID', 'Level1', 'disease', 'n_observation'"
      ]
     },
     "execution_count": 16,
     "metadata": {},
     "output_type": "execute_result"
    }
   ],
   "source": [
    "adataPB_R = aggregating_features(Z = adataR.X, \n",
    "                             obsDF = adataR.obs[['sampleID','Level1','disease']], \n",
    "                             mode = 'mean', \n",
    "                             obs_names_col=['sampleID','Level1'], \n",
    "                             min_observation=0)\n",
    "adataPB_R"
   ]
  },
  {
   "cell_type": "markdown",
   "id": "97d09fc5-d05c-471e-87fa-fe58ccbe47ac",
   "metadata": {
    "papermill": {
     "duration": 0.223827,
     "end_time": "2024-07-04T16:45:48.776744",
     "exception": false,
     "start_time": "2024-07-04T16:45:48.552917",
     "status": "completed"
    },
    "tags": []
   },
   "source": [
    "**Considering scANVI predicted labels**"
   ]
  },
  {
   "cell_type": "code",
   "execution_count": 17,
   "id": "8a64ad2e-561b-48a2-a48f-5fc1b9f567aa",
   "metadata": {
    "execution": {
     "iopub.execute_input": "2024-07-04T16:45:49.231830Z",
     "iopub.status.busy": "2024-07-04T16:45:49.231330Z",
     "iopub.status.idle": "2024-07-04T16:45:50.212077Z",
     "shell.execute_reply": "2024-07-04T16:45:50.206845Z"
    },
    "papermill": {
     "duration": 1.386671,
     "end_time": "2024-07-04T16:45:50.213326",
     "exception": false,
     "start_time": "2024-07-04T16:45:48.826655",
     "status": "completed"
    },
    "tags": []
   },
   "outputs": [
    {
     "data": {
      "text/plain": [
       "AnnData object with n_obs × n_vars = 1966 × 200\n",
       "    obs: 'sampleID', 'Level1', 'disease', 'n_observation'"
      ]
     },
     "execution_count": 17,
     "metadata": {},
     "output_type": "execute_result"
    }
   ],
   "source": [
    "adataPB_Q_scANVI = aggregating_features(Z = adataQ.X, \n",
    "                             obsDF = adataQ.obs[['sampleID','Level1_scANVIpredict','disease']], \n",
    "                             mode = 'mean', \n",
    "                             obs_names_col=['sampleID','Level1_scANVIpredict'], \n",
    "                             min_observation=0)\n",
    "\n",
    "adataPB_Q_scANVI.obs.rename({'Level1_scANVIpredict':'Level1'}, axis=1, inplace=True)\n",
    "adataPB_Q_scANVI"
   ]
  },
  {
   "cell_type": "code",
   "execution_count": 18,
   "id": "5c0db4a4-2016-4e00-bc54-9bcead35b4da",
   "metadata": {
    "execution": {
     "iopub.execute_input": "2024-07-04T16:45:50.672845Z",
     "iopub.status.busy": "2024-07-04T16:45:50.672598Z",
     "iopub.status.idle": "2024-07-04T16:45:50.677887Z",
     "shell.execute_reply": "2024-07-04T16:45:50.677483Z"
    },
    "papermill": {
     "duration": 0.222922,
     "end_time": "2024-07-04T16:45:50.678742",
     "exception": false,
     "start_time": "2024-07-04T16:45:50.455820",
     "status": "completed"
    },
    "tags": []
   },
   "outputs": [
    {
     "data": {
      "text/plain": [
       "Level1\n",
       "B                 144\n",
       "Cycling_cells     144\n",
       "ILC               144\n",
       "Mono              144\n",
       "T_CD4_Naive       144\n",
       "T_CD4_NonNaive    144\n",
       "T_CD8_NonNaive    144\n",
       "UTC               144\n",
       "DC                143\n",
       "T_CD8_Naive       142\n",
       "pDC               137\n",
       "Platelets         132\n",
       "Plasma            126\n",
       "Progenitors       121\n",
       "RBC                13\n",
       "Name: count, dtype: int64"
      ]
     },
     "execution_count": 18,
     "metadata": {},
     "output_type": "execute_result"
    }
   ],
   "source": [
    "adataPB_Q_scANVI.obs.Level1.value_counts()"
   ]
  },
  {
   "cell_type": "markdown",
   "id": "6ccd375e-bb4a-47bd-afbb-4399f9fe93bb",
   "metadata": {
    "papermill": {
     "duration": 0.181619,
     "end_time": "2024-07-04T16:45:51.023478",
     "exception": false,
     "start_time": "2024-07-04T16:45:50.841859",
     "status": "completed"
    },
    "tags": []
   },
   "source": [
    "**Considering labels transferred with kNN**"
   ]
  },
  {
   "cell_type": "code",
   "execution_count": 19,
   "id": "0d234e2f",
   "metadata": {
    "execution": {
     "iopub.execute_input": "2024-07-04T16:45:51.772605Z",
     "iopub.status.busy": "2024-07-04T16:45:51.772409Z",
     "iopub.status.idle": "2024-07-04T16:45:52.428126Z",
     "shell.execute_reply": "2024-07-04T16:45:52.427631Z"
    },
    "papermill": {
     "duration": 1.054993,
     "end_time": "2024-07-04T16:45:52.429022",
     "exception": false,
     "start_time": "2024-07-04T16:45:51.374029",
     "status": "completed"
    },
    "tags": []
   },
   "outputs": [
    {
     "data": {
      "text/plain": [
       "AnnData object with n_obs × n_vars = 1990 × 200\n",
       "    obs: 'sampleID', 'Level1', 'disease', 'n_observation'"
      ]
     },
     "execution_count": 19,
     "metadata": {},
     "output_type": "execute_result"
    }
   ],
   "source": [
    "adataPB_Q_kNN = aggregating_features(Z = adataQ.X, \n",
    "                             obsDF = adataQ.obs[['sampleID','Level1_kNN_pred','disease']], \n",
    "                             mode = 'mean', \n",
    "                             obs_names_col=['sampleID','Level1_kNN_pred'], \n",
    "                             min_observation=0)\n",
    "adataPB_Q_kNN.obs.rename({'Level1_kNN_pred':'Level1'}, axis=1, inplace=True)\n",
    "adataPB_Q_kNN"
   ]
  },
  {
   "cell_type": "code",
   "execution_count": 20,
   "id": "51f78e87-ebdb-4095-af60-e5c5bb297b33",
   "metadata": {
    "execution": {
     "iopub.execute_input": "2024-07-04T16:45:52.597132Z",
     "iopub.status.busy": "2024-07-04T16:45:52.596918Z",
     "iopub.status.idle": "2024-07-04T16:45:52.601021Z",
     "shell.execute_reply": "2024-07-04T16:45:52.600677Z"
    },
    "papermill": {
     "duration": 0.102399,
     "end_time": "2024-07-04T16:45:52.601869",
     "exception": false,
     "start_time": "2024-07-04T16:45:52.499470",
     "status": "completed"
    },
    "tags": []
   },
   "outputs": [
    {
     "data": {
      "text/plain": [
       "Level1\n",
       "B                 144\n",
       "Cycling_cells     144\n",
       "ILC               144\n",
       "Mono              144\n",
       "T_CD4_Naive       144\n",
       "T_CD4_NonNaive    144\n",
       "T_CD8_NonNaive    144\n",
       "UTC               144\n",
       "DC                143\n",
       "Platelets         142\n",
       "T_CD8_Naive       142\n",
       "pDC               139\n",
       "Plasma            126\n",
       "Progenitors       125\n",
       "RBC                21\n",
       "Name: count, dtype: int64"
      ]
     },
     "execution_count": 20,
     "metadata": {},
     "output_type": "execute_result"
    }
   ],
   "source": [
    "adataPB_Q_kNN.obs.Level1.value_counts()"
   ]
  },
  {
   "cell_type": "markdown",
   "id": "d59574be-684b-4082-b8b6-7d11930362ad",
   "metadata": {
    "papermill": {
     "duration": 0.009771,
     "end_time": "2024-07-04T16:45:52.619909",
     "exception": false,
     "start_time": "2024-07-04T16:45:52.610138",
     "status": "completed"
    },
    "tags": []
   },
   "source": [
    "### Saving pseudobulk adata objects"
   ]
  },
  {
   "cell_type": "code",
   "execution_count": 21,
   "id": "3ce1c9f0-1868-4854-b610-4c85581409c6",
   "metadata": {
    "execution": {
     "iopub.execute_input": "2024-07-04T16:45:52.813424Z",
     "iopub.status.busy": "2024-07-04T16:45:52.812939Z",
     "iopub.status.idle": "2024-07-04T16:45:52.817584Z",
     "shell.execute_reply": "2024-07-04T16:45:52.817152Z"
    },
    "papermill": {
     "duration": 0.079997,
     "end_time": "2024-07-04T16:45:52.818872",
     "exception": false,
     "start_time": "2024-07-04T16:45:52.738875",
     "status": "completed"
    },
    "tags": []
   },
   "outputs": [
    {
     "data": {
      "text/plain": [
       "'/scratch_isilon/groups/singlecell/shared/projects/Inflammation-PBMCs-Atlas/03_downstream_analysis/08_PatientClassifier/scANVI/results/reference/scANVI_VALIDATION_512_200_Level2_run1_finetuning.h5ad'"
      ]
     },
     "execution_count": 21,
     "metadata": {},
     "output_type": "execute_result"
    }
   ],
   "source": [
    "adataPATH_ref_list[0]"
   ]
  },
  {
   "cell_type": "code",
   "execution_count": 22,
   "id": "88f795a3-ab63-436d-a149-5bc18499537d",
   "metadata": {
    "execution": {
     "iopub.execute_input": "2024-07-04T16:45:52.977918Z",
     "iopub.status.busy": "2024-07-04T16:45:52.977710Z",
     "iopub.status.idle": "2024-07-04T16:45:52.980757Z",
     "shell.execute_reply": "2024-07-04T16:45:52.980296Z"
    },
    "papermill": {
     "duration": 0.061784,
     "end_time": "2024-07-04T16:45:52.981721",
     "exception": false,
     "start_time": "2024-07-04T16:45:52.919937",
     "status": "completed"
    },
    "tags": []
   },
   "outputs": [
    {
     "data": {
      "text/plain": [
       "'/scratch_isilon/groups/singlecell/shared/projects/Inflammation-PBMCs-Atlas/03_downstream_analysis/08_PatientClassifier/scANVI/results/PSEUDOBULKs/scANVI_PSEUDOBULK_reference_VALIDATION_512_200_Level2_run1_finetuning.h5ad'"
      ]
     },
     "execution_count": 22,
     "metadata": {},
     "output_type": "execute_result"
    }
   ],
   "source": [
    "adataPATH_ref_list[0].replace('/reference/scANVI_','/PSEUDOBULKs/scANVI_PSEUDOBULK_reference_')"
   ]
  },
  {
   "cell_type": "code",
   "execution_count": 23,
   "id": "5947e6f8-ac27-4702-ba5d-aa9e1ba79f6a",
   "metadata": {
    "execution": {
     "iopub.execute_input": "2024-07-04T16:45:53.382206Z",
     "iopub.status.busy": "2024-07-04T16:45:53.381961Z",
     "iopub.status.idle": "2024-07-04T16:45:54.454701Z",
     "shell.execute_reply": "2024-07-04T16:45:54.454235Z"
    },
    "papermill": {
     "duration": 1.277788,
     "end_time": "2024-07-04T16:45:54.455858",
     "exception": false,
     "start_time": "2024-07-04T16:45:53.178070",
     "status": "completed"
    },
    "tags": []
   },
   "outputs": [],
   "source": [
    "adataPB_R.write(here(adataPATH_ref_list[0].replace('/reference/scANVI_','/PSEUDOBULKs/scANVI_PSEUDOBULK_reference_')), compression='gzip')"
   ]
  },
  {
   "cell_type": "code",
   "execution_count": 24,
   "id": "8a70d9f6-7a44-45ee-8470-702bd7af1e0b",
   "metadata": {
    "execution": {
     "iopub.execute_input": "2024-07-04T16:45:54.509335Z",
     "iopub.status.busy": "2024-07-04T16:45:54.508991Z",
     "iopub.status.idle": "2024-07-04T16:45:54.915579Z",
     "shell.execute_reply": "2024-07-04T16:45:54.915094Z"
    },
    "papermill": {
     "duration": 0.41975,
     "end_time": "2024-07-04T16:45:54.916748",
     "exception": false,
     "start_time": "2024-07-04T16:45:54.496998",
     "status": "completed"
    },
    "tags": []
   },
   "outputs": [],
   "source": [
    "adataPB_Q_scANVI.write(here(adataPATH_query_list[0].replace('/query/scANVI_','/PSEUDOBULKs/scANVI_PSEUDOBULK_query_')), compression='gzip')"
   ]
  },
  {
   "cell_type": "code",
   "execution_count": 25,
   "id": "19305819",
   "metadata": {
    "execution": {
     "iopub.execute_input": "2024-07-04T16:45:54.973644Z",
     "iopub.status.busy": "2024-07-04T16:45:54.973412Z",
     "iopub.status.idle": "2024-07-04T16:45:55.126909Z",
     "shell.execute_reply": "2024-07-04T16:45:55.126437Z"
    },
    "papermill": {
     "duration": 0.162674,
     "end_time": "2024-07-04T16:45:55.128065",
     "exception": false,
     "start_time": "2024-07-04T16:45:54.965391",
     "status": "completed"
    },
    "tags": []
   },
   "outputs": [],
   "source": [
    "adataPB_Q_kNN.write(here(adataPATH_query_list[0].replace('/query/scANVI_','/PSEUDOBULKs/scANVI_PSEUDOBULK_kNN_query_')), compression='gzip')"
   ]
  }
 ],
 "metadata": {
  "kernelspec": {
   "display_name": "Python 3 (ipykernel)",
   "language": "python",
   "name": "python3"
  },
  "language_info": {
   "codemirror_mode": {
    "name": "ipython",
    "version": 3
   },
   "file_extension": ".py",
   "mimetype": "text/x-python",
   "name": "python",
   "nbconvert_exporter": "python",
   "pygments_lexer": "ipython3",
   "version": "3.12.3"
  },
  "papermill": {
   "default_parameters": {},
   "duration": 1088.198682,
   "end_time": "2024-07-04T16:45:56.787532",
   "environment_variables": {},
   "exception": null,
   "input_path": "03_labelTransfer_generating_PSEUDOBULKs.ipynb",
   "output_path": "executed_notebooks/03_labelTransfer_generating_PSEUDOBULKs_VALIDATION_nPC200.ipynb",
   "parameters": {
    "adataPATH_query": "03_downstream_analysis/08_PatientClassifier/scANVI/results/query/scANVI_VALIDATION_*_200_Level2_*.h5ad",
    "adataPATH_ref": "03_downstream_analysis/08_PatientClassifier/scANVI/results/reference/scANVI_VALIDATION_*_200_Level2_*.h5ad"
   },
   "start_time": "2024-07-04T16:27:48.588850",
   "version": "2.6.0"
  }
 },
 "nbformat": 4,
 "nbformat_minor": 5
}