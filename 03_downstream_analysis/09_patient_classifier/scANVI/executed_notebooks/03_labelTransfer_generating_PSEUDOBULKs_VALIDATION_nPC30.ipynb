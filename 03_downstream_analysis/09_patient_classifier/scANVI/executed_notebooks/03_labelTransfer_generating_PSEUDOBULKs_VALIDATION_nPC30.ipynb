{
 "cells": [
  {
   "cell_type": "code",
   "execution_count": 1,
   "id": "902f2f97",
   "metadata": {
    "execution": {
     "iopub.execute_input": "2024-07-04T16:27:50.928757Z",
     "iopub.status.busy": "2024-07-04T16:27:50.928513Z",
     "iopub.status.idle": "2024-07-04T16:27:50.931151Z",
     "shell.execute_reply": "2024-07-04T16:27:50.930794Z"
    },
    "papermill": {
     "duration": 0.012346,
     "end_time": "2024-07-04T16:27:50.931966",
     "exception": false,
     "start_time": "2024-07-04T16:27:50.919620",
     "status": "completed"
    },
    "tags": [
     "injected-parameters"
    ]
   },
   "outputs": [],
   "source": [
    "# Parameters\n",
    "adataPATH_ref = \"03_downstream_analysis/08_PatientClassifier/scANVI/results/reference/scANVI_VALIDATION_*_30_Level2_*.h5ad\"\n",
    "adataPATH_query = \"03_downstream_analysis/08_PatientClassifier/scANVI/results/query/scANVI_VALIDATION_*_30_Level2_*.h5ad\"\n"
   ]
  },
  {
   "cell_type": "raw",
   "id": "8002b33d-9b20-4bdf-a1a3-acc29d5a0295",
   "metadata": {
    "execution": {
     "iopub.execute_input": "2024-07-04T11:25:09.444596Z",
     "iopub.status.busy": "2024-07-04T11:25:09.444279Z",
     "iopub.status.idle": "2024-07-04T11:25:09.447097Z",
     "shell.execute_reply": "2024-07-04T11:25:09.446732Z",
     "shell.execute_reply.started": "2024-07-04T11:25:09.444579Z"
    },
    "papermill": {
     "duration": 0.010488,
     "end_time": "2024-07-04T16:27:50.970938",
     "exception": false,
     "start_time": "2024-07-04T16:27:50.960450",
     "status": "completed"
    },
    "tags": [],
    "vscode": {
     "languageId": "raw"
    }
   },
   "source": [
    "adataPATH_ref = '03_downstream_analysis/08_PatientClassifier/scANVI/results/reference/scANVI_VALIDATION_256_30_Level2_run1_finetuning.h5ad'\n",
    "adataPATH_query = '03_downstream_analysis/08_PatientClassifier/scANVI/results/query/scANVI_VALIDATION_256_30_Level2_run1_finetuning.h5ad'"
   ]
  },
  {
   "cell_type": "code",
   "execution_count": 2,
   "id": "d3ccb10a-7201-43d0-a593-2b4650ff3451",
   "metadata": {
    "execution": {
     "iopub.execute_input": "2024-07-04T16:27:51.012741Z",
     "iopub.status.busy": "2024-07-04T16:27:51.012606Z",
     "iopub.status.idle": "2024-07-04T16:27:51.015549Z",
     "shell.execute_reply": "2024-07-04T16:27:51.015181Z"
    },
    "papermill": {
     "duration": 0.024972,
     "end_time": "2024-07-04T16:27:51.016363",
     "exception": false,
     "start_time": "2024-07-04T16:27:50.991391",
     "status": "completed"
    },
    "tags": []
   },
   "outputs": [
    {
     "name": "stdout",
     "output_type": "stream",
     "text": [
      "adataPATH_ref = 03_downstream_analysis/08_PatientClassifier/scANVI/results/reference/scANVI_VALIDATION_*_30_Level2_*.h5ad\n",
      "adataPATH_query = 03_downstream_analysis/08_PatientClassifier/scANVI/results/query/scANVI_VALIDATION_*_30_Level2_*.h5ad\n"
     ]
    }
   ],
   "source": [
    "for v in ['adataPATH_ref','adataPATH_query']:\n",
    "    if v in locals() or v in globals():\n",
    "        print(f\"{v} = {eval(v)}\")\n",
    "    else:\n",
    "        raise Exception(f\"{v} not specified\")"
   ]
  },
  {
   "cell_type": "code",
   "execution_count": 3,
   "id": "888fb5f4-9ab7-4196-a282-7a7e92a43971",
   "metadata": {
    "execution": {
     "iopub.execute_input": "2024-07-04T16:27:51.082965Z",
     "iopub.status.busy": "2024-07-04T16:27:51.082830Z",
     "iopub.status.idle": "2024-07-04T16:28:03.035645Z",
     "shell.execute_reply": "2024-07-04T16:28:03.035182Z"
    },
    "papermill": {
     "duration": 11.961433,
     "end_time": "2024-07-04T16:28:03.036719",
     "exception": false,
     "start_time": "2024-07-04T16:27:51.075286",
     "status": "completed"
    },
    "tags": []
   },
   "outputs": [],
   "source": [
    "import os\n",
    "import sys\n",
    "from glob import glob\n",
    "\n",
    "import scanpy as sc\n",
    "import pandas as pd\n",
    "\n",
    "import pynndescent\n",
    "import numpy as np\n",
    "import numba\n",
    "\n",
    "from pyprojroot import here\n",
    "\n",
    "sys.path.insert(1, str(here('bin')))\n",
    "# Import custom functions\n",
    "from customPythonFunctions import aggregating_features"
   ]
  },
  {
   "cell_type": "markdown",
   "id": "cc14bdf1-cb35-427d-b868-48480d371ac1",
   "metadata": {
    "papermill": {
     "duration": 0.006121,
     "end_time": "2024-07-04T16:28:03.049362",
     "exception": false,
     "start_time": "2024-07-04T16:28:03.043241",
     "status": "completed"
    },
    "tags": []
   },
   "source": [
    "### Defining kNN label transfer function"
   ]
  },
  {
   "cell_type": "code",
   "execution_count": 4,
   "id": "2cde8870-daf7-4eb9-b1be-d7a700b1876b",
   "metadata": {
    "execution": {
     "iopub.execute_input": "2024-07-04T16:28:03.076358Z",
     "iopub.status.busy": "2024-07-04T16:28:03.076058Z",
     "iopub.status.idle": "2024-07-04T16:28:03.081760Z",
     "shell.execute_reply": "2024-07-04T16:28:03.081457Z"
    },
    "papermill": {
     "duration": 0.027166,
     "end_time": "2024-07-04T16:28:03.082502",
     "exception": false,
     "start_time": "2024-07-04T16:28:03.055336",
     "status": "completed"
    },
    "tags": []
   },
   "outputs": [],
   "source": [
    "class LabelTransferWithKNN:\n",
    "    \"\"\" See https://docs.scvi-tools.org/en/stable/tutorials/notebooks/scrna/query_hlca_knn.html \"\"\"\n",
    "    def fit(self, ref_adata):\n",
    "        self.ref_adata = ref_adata\n",
    "        self.nn_index = pynndescent.NNDescent(self.ref_adata.X)\n",
    "        self.nn_index.prepare()\n",
    "        return self\n",
    "\n",
    "    def predict(self, query_adata, label_keys: list[str] = ['Level1']):\n",
    "\n",
    "        ref_neighbors, ref_distances = self.nn_index.query(query_adata.X)\n",
    "\n",
    "        # convert distances to affinities\n",
    "        stds = np.std(ref_distances, axis=1)\n",
    "        stds = (2.0 / stds) ** 2\n",
    "        stds = stds.reshape(-1, 1)\n",
    "        ref_distances_tilda = np.exp(-np.true_divide(ref_distances, stds))\n",
    "        weights = ref_distances_tilda / np.sum(ref_distances_tilda, axis=1, keepdims=True)\n",
    "\n",
    "        for l in label_keys:\n",
    "            ref_cats = self.ref_adata.obs[l].cat.codes.to_numpy()[ref_neighbors]\n",
    "            p, u = self.weighted_prediction(weights, ref_cats)\n",
    "            p = np.asarray(self.ref_adata.obs[l].cat.categories)[p]\n",
    "            query_adata.obs[l + \"_pred\"], query_adata.obs[l + \"_uncertainty\"] = p, u\n",
    "        \n",
    "        return query_adata\n",
    "    \n",
    "    @staticmethod\n",
    "    @numba.njit\n",
    "    def weighted_prediction(weights, ref_cats):\n",
    "        \"\"\"Get highest weight category.\"\"\"\n",
    "        N = len(weights)\n",
    "        predictions = np.zeros((N,), dtype=ref_cats.dtype)\n",
    "        uncertainty = np.zeros((N,))\n",
    "        for i in range(N):\n",
    "            obs_weights = weights[i]\n",
    "            obs_cats = ref_cats[i]\n",
    "            best_prob = 0\n",
    "            for c in np.unique(obs_cats):\n",
    "                cand_prob = np.sum(obs_weights[obs_cats == c])\n",
    "                if cand_prob > best_prob:\n",
    "                    best_prob = cand_prob\n",
    "                    predictions[i] = c\n",
    "                    uncertainty[i] = max(1 - best_prob, 0)\n",
    "\n",
    "        return predictions, uncertainty"
   ]
  },
  {
   "cell_type": "markdown",
   "id": "ba4905ae-4546-4ef4-b57b-950441ab079d",
   "metadata": {
    "papermill": {
     "duration": 0.008416,
     "end_time": "2024-07-04T16:28:03.098269",
     "exception": false,
     "start_time": "2024-07-04T16:28:03.089853",
     "status": "completed"
    },
    "tags": []
   },
   "source": [
    "### Loading data"
   ]
  },
  {
   "cell_type": "code",
   "execution_count": 5,
   "id": "539cbbbb-3503-4f51-bf04-f007f928ebd1",
   "metadata": {
    "execution": {
     "iopub.execute_input": "2024-07-04T16:28:03.114215Z",
     "iopub.status.busy": "2024-07-04T16:28:03.113814Z",
     "iopub.status.idle": "2024-07-04T16:28:03.119413Z",
     "shell.execute_reply": "2024-07-04T16:28:03.119098Z"
    },
    "papermill": {
     "duration": 0.014172,
     "end_time": "2024-07-04T16:28:03.120173",
     "exception": false,
     "start_time": "2024-07-04T16:28:03.106001",
     "status": "completed"
    },
    "tags": []
   },
   "outputs": [],
   "source": [
    "adataPATH_ref\n",
    "adataPATH_ref_list = glob(str(here(adataPATH_ref)))\n",
    "assert(len(adataPATH_ref_list) == 1)\n",
    "\n",
    "adataPATH_query\n",
    "adataPATH_query_list = glob(str(here(adataPATH_query)))\n",
    "assert(len(adataPATH_query_list) == 1)"
   ]
  },
  {
   "cell_type": "code",
   "execution_count": 6,
   "id": "0fcfce0a-896b-4dc0-8e5e-46749205c84f",
   "metadata": {
    "execution": {
     "iopub.execute_input": "2024-07-04T16:28:03.132803Z",
     "iopub.status.busy": "2024-07-04T16:28:03.132583Z",
     "iopub.status.idle": "2024-07-04T16:30:03.576965Z",
     "shell.execute_reply": "2024-07-04T16:30:03.576596Z"
    },
    "papermill": {
     "duration": 120.872478,
     "end_time": "2024-07-04T16:30:03.998712",
     "exception": false,
     "start_time": "2024-07-04T16:28:03.126234",
     "status": "completed"
    },
    "tags": []
   },
   "outputs": [
    {
     "data": {
      "text/plain": [
       "(AnnData object with n_obs × n_vars = 4435922 × 30\n",
       "     obs: 'studyID', 'libraryID', 'sampleID', 'chemistry', 'disease', 'sex', 'binned_age', 'Level1', 'Level2', '_scvi_batch', '_scvi_labels',\n",
       " AnnData object with n_obs × n_vars = 849922 × 30\n",
       "     obs: 'studyID', 'libraryID', 'sampleID', 'chemistry', 'technology', 'disease', 'sex', 'binned_age', '_scvi_batch', 'Level2', '_scvi_labels', 'labels')"
      ]
     },
     "execution_count": 6,
     "metadata": {},
     "output_type": "execute_result"
    }
   ],
   "source": [
    "adataR = sc.read_h5ad(adataPATH_ref_list[0])\n",
    "adataQ = sc.read_h5ad(adataPATH_query_list[0])\n",
    "adataR, adataQ"
   ]
  },
  {
   "cell_type": "code",
   "execution_count": 7,
   "id": "43363d5e-2643-4002-8905-e3c99124c70b",
   "metadata": {
    "execution": {
     "iopub.execute_input": "2024-07-04T16:30:04.035345Z",
     "iopub.status.busy": "2024-07-04T16:30:04.034983Z",
     "iopub.status.idle": "2024-07-04T16:30:05.927577Z",
     "shell.execute_reply": "2024-07-04T16:30:05.926672Z"
    },
    "papermill": {
     "duration": 1.900866,
     "end_time": "2024-07-04T16:30:05.928760",
     "exception": false,
     "start_time": "2024-07-04T16:30:04.027894",
     "status": "completed"
    },
    "tags": []
   },
   "outputs": [],
   "source": [
    "Level1_dict = adataR.obs[['Level1','Level2']].set_index('Level2').to_dict()['Level1']"
   ]
  },
  {
   "cell_type": "code",
   "execution_count": 8,
   "id": "0d286575-96c1-4146-b6d5-faab19d5a7ba",
   "metadata": {
    "execution": {
     "iopub.execute_input": "2024-07-04T16:30:06.285990Z",
     "iopub.status.busy": "2024-07-04T16:30:06.285685Z",
     "iopub.status.idle": "2024-07-04T16:30:06.305728Z",
     "shell.execute_reply": "2024-07-04T16:30:06.305265Z"
    },
    "papermill": {
     "duration": 0.071633,
     "end_time": "2024-07-04T16:30:06.307008",
     "exception": false,
     "start_time": "2024-07-04T16:30:06.235375",
     "status": "completed"
    },
    "tags": []
   },
   "outputs": [],
   "source": [
    "adataQ.obs['Level1_scANVIpredict'] = adataQ.obs['labels'].map(Level1_dict)"
   ]
  },
  {
   "cell_type": "code",
   "execution_count": 9,
   "id": "83ea89fd-965e-4c2c-bcd9-7467a6a78cd0",
   "metadata": {
    "execution": {
     "iopub.execute_input": "2024-07-04T16:30:07.701786Z",
     "iopub.status.busy": "2024-07-04T16:30:07.701518Z",
     "iopub.status.idle": "2024-07-04T16:30:07.740384Z",
     "shell.execute_reply": "2024-07-04T16:30:07.739980Z"
    },
    "papermill": {
     "duration": 1.302463,
     "end_time": "2024-07-04T16:30:07.741259",
     "exception": false,
     "start_time": "2024-07-04T16:30:06.438796",
     "status": "completed"
    },
    "tags": []
   },
   "outputs": [
    {
     "data": {
      "text/plain": [
       "Level1_scANVIpredict\n",
       "Mono              0.263652\n",
       "T_CD4_NonNaive    0.185938\n",
       "T_CD4_Naive       0.138634\n",
       "T_CD8_NonNaive    0.130519\n",
       "ILC               0.083871\n",
       "B                 0.081857\n",
       "T_CD8_Naive       0.052325\n",
       "UTC               0.024070\n",
       "DC                0.012751\n",
       "Platelets         0.009994\n",
       "Cycling_cells     0.006013\n",
       "Plasma            0.005298\n",
       "pDC               0.004975\n",
       "RBC               0.000091\n",
       "Progenitors       0.000012\n",
       "Name: proportion, dtype: float64"
      ]
     },
     "execution_count": 9,
     "metadata": {},
     "output_type": "execute_result"
    }
   ],
   "source": [
    "adataQ.obs['Level1_scANVIpredict'].value_counts(normalize = True)"
   ]
  },
  {
   "cell_type": "markdown",
   "id": "bab4753e-78c0-40b9-9361-d94b9804e924",
   "metadata": {
    "papermill": {
     "duration": 0.008465,
     "end_time": "2024-07-04T16:30:07.757504",
     "exception": false,
     "start_time": "2024-07-04T16:30:07.749039",
     "status": "completed"
    },
    "tags": []
   },
   "source": [
    "#### Label transfer with kNN"
   ]
  },
  {
   "cell_type": "code",
   "execution_count": 10,
   "id": "785cca0e-9f6f-48c3-825a-84ea8360e0fb",
   "metadata": {
    "execution": {
     "iopub.execute_input": "2024-07-04T16:30:07.777514Z",
     "iopub.status.busy": "2024-07-04T16:30:07.777184Z",
     "iopub.status.idle": "2024-07-04T16:43:14.439693Z",
     "shell.execute_reply": "2024-07-04T16:43:14.439184Z"
    },
    "papermill": {
     "duration": 786.67625,
     "end_time": "2024-07-04T16:43:14.441304",
     "exception": false,
     "start_time": "2024-07-04T16:30:07.765054",
     "status": "completed"
    },
    "tags": []
   },
   "outputs": [],
   "source": [
    "kNNclf = LabelTransferWithKNN().fit(adataR)"
   ]
  },
  {
   "cell_type": "code",
   "execution_count": 11,
   "id": "08b14276-ec7c-4061-8ad1-ed986c122dc9",
   "metadata": {
    "execution": {
     "iopub.execute_input": "2024-07-04T16:43:14.470748Z",
     "iopub.status.busy": "2024-07-04T16:43:14.470591Z",
     "iopub.status.idle": "2024-07-04T16:44:03.186486Z",
     "shell.execute_reply": "2024-07-04T16:44:03.185991Z"
    },
    "papermill": {
     "duration": 48.733821,
     "end_time": "2024-07-04T16:44:03.196289",
     "exception": false,
     "start_time": "2024-07-04T16:43:14.462468",
     "status": "completed"
    },
    "tags": []
   },
   "outputs": [
    {
     "data": {
      "text/plain": [
       "AnnData object with n_obs × n_vars = 849922 × 30\n",
       "    obs: 'studyID', 'libraryID', 'sampleID', 'chemistry', 'technology', 'disease', 'sex', 'binned_age', '_scvi_batch', 'Level2', '_scvi_labels', 'labels', 'Level1_scANVIpredict', 'Level1_pred', 'Level1_uncertainty'"
      ]
     },
     "execution_count": 11,
     "metadata": {},
     "output_type": "execute_result"
    }
   ],
   "source": [
    "adataQ = kNNclf.predict(query_adata = adataQ, label_keys = ['Level1'])\n",
    "adataQ"
   ]
  },
  {
   "cell_type": "code",
   "execution_count": 12,
   "id": "80b6736a-789a-4137-aa90-bfb74f2323c4",
   "metadata": {
    "execution": {
     "iopub.execute_input": "2024-07-04T16:44:03.227521Z",
     "iopub.status.busy": "2024-07-04T16:44:03.227172Z",
     "iopub.status.idle": "2024-07-04T16:44:03.233130Z",
     "shell.execute_reply": "2024-07-04T16:44:03.232699Z"
    },
    "papermill": {
     "duration": 0.015829,
     "end_time": "2024-07-04T16:44:03.233995",
     "exception": false,
     "start_time": "2024-07-04T16:44:03.218166",
     "status": "completed"
    },
    "tags": []
   },
   "outputs": [],
   "source": [
    "adataQ.obs['Level1_kNN_pred'] = adataQ.obs['Level1_pred']"
   ]
  },
  {
   "cell_type": "code",
   "execution_count": 13,
   "id": "f3f04f12-1058-46b0-95c8-8c8670bd40b2",
   "metadata": {
    "execution": {
     "iopub.execute_input": "2024-07-04T16:44:03.251220Z",
     "iopub.status.busy": "2024-07-04T16:44:03.250880Z",
     "iopub.status.idle": "2024-07-04T16:44:03.328225Z",
     "shell.execute_reply": "2024-07-04T16:44:03.327735Z"
    },
    "papermill": {
     "duration": 0.087591,
     "end_time": "2024-07-04T16:44:03.329563",
     "exception": false,
     "start_time": "2024-07-04T16:44:03.241972",
     "status": "completed"
    },
    "tags": []
   },
   "outputs": [
    {
     "data": {
      "text/plain": [
       "Level1_kNN_pred\n",
       "Mono              0.257779\n",
       "T_CD4_Naive       0.162445\n",
       "T_CD4_NonNaive    0.161205\n",
       "T_CD8_NonNaive    0.117919\n",
       "ILC               0.085123\n",
       "B                 0.082218\n",
       "T_CD8_Naive       0.047390\n",
       "Platelets         0.025515\n",
       "UTC               0.024878\n",
       "DC                0.012505\n",
       "Cycling_cells     0.010697\n",
       "Plasma            0.005259\n",
       "pDC               0.005231\n",
       "Progenitors       0.001653\n",
       "RBC               0.000181\n",
       "Name: proportion, dtype: float64"
      ]
     },
     "execution_count": 13,
     "metadata": {},
     "output_type": "execute_result"
    }
   ],
   "source": [
    "adataQ.obs['Level1_kNN_pred'].value_counts(normalize = True)"
   ]
  },
  {
   "cell_type": "code",
   "execution_count": 14,
   "id": "c1dc4c3a-30b8-45e2-8ed2-f89bd913523e",
   "metadata": {
    "execution": {
     "iopub.execute_input": "2024-07-04T16:44:03.347525Z",
     "iopub.status.busy": "2024-07-04T16:44:03.347186Z",
     "iopub.status.idle": "2024-07-04T16:44:03.456175Z",
     "shell.execute_reply": "2024-07-04T16:44:03.455716Z"
    },
    "papermill": {
     "duration": 0.119071,
     "end_time": "2024-07-04T16:44:03.457521",
     "exception": false,
     "start_time": "2024-07-04T16:44:03.338450",
     "status": "completed"
    },
    "tags": []
   },
   "outputs": [],
   "source": [
    "from sklearn.metrics import adjusted_rand_score as ari"
   ]
  },
  {
   "cell_type": "code",
   "execution_count": 15,
   "id": "ff6d5cbd-e8bc-4f7f-af89-f5dc0675500b",
   "metadata": {
    "execution": {
     "iopub.execute_input": "2024-07-04T16:44:03.474456Z",
     "iopub.status.busy": "2024-07-04T16:44:03.473909Z",
     "iopub.status.idle": "2024-07-04T16:44:05.424756Z",
     "shell.execute_reply": "2024-07-04T16:44:05.424296Z"
    },
    "papermill": {
     "duration": 1.960372,
     "end_time": "2024-07-04T16:44:05.425677",
     "exception": false,
     "start_time": "2024-07-04T16:44:03.465305",
     "status": "completed"
    },
    "tags": []
   },
   "outputs": [
    {
     "data": {
      "text/plain": [
       "0.8609307835352101"
      ]
     },
     "execution_count": 15,
     "metadata": {},
     "output_type": "execute_result"
    }
   ],
   "source": [
    "ari(adataQ.obs['Level1_kNN_pred'],adataQ.obs['Level1_scANVIpredict'])"
   ]
  },
  {
   "cell_type": "markdown",
   "id": "44e868b3-0771-4225-bd79-a4b179bc672b",
   "metadata": {
    "papermill": {
     "duration": 0.024429,
     "end_time": "2024-07-04T16:44:05.651409",
     "exception": false,
     "start_time": "2024-07-04T16:44:05.626980",
     "status": "completed"
    },
    "tags": []
   },
   "source": [
    "#### Generating PSEUDOBULKs"
   ]
  },
  {
   "cell_type": "code",
   "execution_count": 16,
   "id": "81223976-fcf6-4354-8964-b12d76468636",
   "metadata": {
    "execution": {
     "iopub.execute_input": "2024-07-04T16:44:06.105081Z",
     "iopub.status.busy": "2024-07-04T16:44:06.104727Z",
     "iopub.status.idle": "2024-07-04T16:44:07.907869Z",
     "shell.execute_reply": "2024-07-04T16:44:07.907368Z"
    },
    "papermill": {
     "duration": 2.022906,
     "end_time": "2024-07-04T16:44:07.908822",
     "exception": false,
     "start_time": "2024-07-04T16:44:05.885916",
     "status": "completed"
    },
    "tags": []
   },
   "outputs": [
    {
     "data": {
      "text/plain": [
       "AnnData object with n_obs × n_vars = 11372 × 30\n",
       "    obs: 'sampleID', 'Level1', 'disease', 'n_observation'"
      ]
     },
     "execution_count": 16,
     "metadata": {},
     "output_type": "execute_result"
    }
   ],
   "source": [
    "adataPB_R = aggregating_features(Z = adataR.X, \n",
    "                             obsDF = adataR.obs[['sampleID','Level1','disease']], \n",
    "                             mode = 'mean', \n",
    "                             obs_names_col=['sampleID','Level1'], \n",
    "                             min_observation=0)\n",
    "adataPB_R"
   ]
  },
  {
   "cell_type": "markdown",
   "id": "97d09fc5-d05c-471e-87fa-fe58ccbe47ac",
   "metadata": {
    "papermill": {
     "duration": 0.898827,
     "end_time": "2024-07-04T16:44:09.476733",
     "exception": false,
     "start_time": "2024-07-04T16:44:08.577906",
     "status": "completed"
    },
    "tags": []
   },
   "source": [
    "**Considering scANVI predicted labels**"
   ]
  },
  {
   "cell_type": "code",
   "execution_count": 17,
   "id": "8a64ad2e-561b-48a2-a48f-5fc1b9f567aa",
   "metadata": {
    "execution": {
     "iopub.execute_input": "2024-07-04T16:44:09.494731Z",
     "iopub.status.busy": "2024-07-04T16:44:09.494409Z",
     "iopub.status.idle": "2024-07-04T16:44:09.832903Z",
     "shell.execute_reply": "2024-07-04T16:44:09.832494Z"
    },
    "papermill": {
     "duration": 0.349302,
     "end_time": "2024-07-04T16:44:09.833699",
     "exception": false,
     "start_time": "2024-07-04T16:44:09.484397",
     "status": "completed"
    },
    "tags": []
   },
   "outputs": [
    {
     "data": {
      "text/plain": [
       "AnnData object with n_obs × n_vars = 1854 × 30\n",
       "    obs: 'sampleID', 'Level1', 'disease', 'n_observation'"
      ]
     },
     "execution_count": 17,
     "metadata": {},
     "output_type": "execute_result"
    }
   ],
   "source": [
    "adataPB_Q_scANVI = aggregating_features(Z = adataQ.X, \n",
    "                             obsDF = adataQ.obs[['sampleID','Level1_scANVIpredict','disease']], \n",
    "                             mode = 'mean', \n",
    "                             obs_names_col=['sampleID','Level1_scANVIpredict'], \n",
    "                             min_observation=0)\n",
    "\n",
    "adataPB_Q_scANVI.obs.rename({'Level1_scANVIpredict':'Level1'}, axis=1, inplace=True)\n",
    "adataPB_Q_scANVI"
   ]
  },
  {
   "cell_type": "code",
   "execution_count": 18,
   "id": "5c0db4a4-2016-4e00-bc54-9bcead35b4da",
   "metadata": {
    "execution": {
     "iopub.execute_input": "2024-07-04T16:44:10.598660Z",
     "iopub.status.busy": "2024-07-04T16:44:10.598376Z",
     "iopub.status.idle": "2024-07-04T16:44:10.602577Z",
     "shell.execute_reply": "2024-07-04T16:44:10.602214Z"
    },
    "papermill": {
     "duration": 0.149055,
     "end_time": "2024-07-04T16:44:10.603360",
     "exception": false,
     "start_time": "2024-07-04T16:44:10.454305",
     "status": "completed"
    },
    "tags": []
   },
   "outputs": [
    {
     "data": {
      "text/plain": [
       "Level1\n",
       "B                 144\n",
       "ILC               144\n",
       "Mono              144\n",
       "T_CD4_Naive       144\n",
       "T_CD4_NonNaive    144\n",
       "T_CD8_NonNaive    144\n",
       "DC                143\n",
       "UTC               143\n",
       "Cycling_cells     142\n",
       "T_CD8_Naive       142\n",
       "Platelets         139\n",
       "pDC               137\n",
       "Plasma            126\n",
       "RBC                10\n",
       "Progenitors         8\n",
       "Name: count, dtype: int64"
      ]
     },
     "execution_count": 18,
     "metadata": {},
     "output_type": "execute_result"
    }
   ],
   "source": [
    "adataPB_Q_scANVI.obs.Level1.value_counts()"
   ]
  },
  {
   "cell_type": "markdown",
   "id": "6ccd375e-bb4a-47bd-afbb-4399f9fe93bb",
   "metadata": {
    "papermill": {
     "duration": 0.007283,
     "end_time": "2024-07-04T16:44:10.619089",
     "exception": false,
     "start_time": "2024-07-04T16:44:10.611806",
     "status": "completed"
    },
    "tags": []
   },
   "source": [
    "**Considering labels transferred with kNN**"
   ]
  },
  {
   "cell_type": "code",
   "execution_count": 19,
   "id": "0d234e2f",
   "metadata": {
    "execution": {
     "iopub.execute_input": "2024-07-04T16:44:10.634202Z",
     "iopub.status.busy": "2024-07-04T16:44:10.633938Z",
     "iopub.status.idle": "2024-07-04T16:44:10.968903Z",
     "shell.execute_reply": "2024-07-04T16:44:10.968431Z"
    },
    "papermill": {
     "duration": 0.343536,
     "end_time": "2024-07-04T16:44:10.969797",
     "exception": false,
     "start_time": "2024-07-04T16:44:10.626261",
     "status": "completed"
    },
    "tags": []
   },
   "outputs": [
    {
     "data": {
      "text/plain": [
       "AnnData object with n_obs × n_vars = 1992 × 30\n",
       "    obs: 'sampleID', 'Level1', 'disease', 'n_observation'"
      ]
     },
     "execution_count": 19,
     "metadata": {},
     "output_type": "execute_result"
    }
   ],
   "source": [
    "adataPB_Q_kNN = aggregating_features(Z = adataQ.X, \n",
    "                             obsDF = adataQ.obs[['sampleID','Level1_kNN_pred','disease']], \n",
    "                             mode = 'mean', \n",
    "                             obs_names_col=['sampleID','Level1_kNN_pred'], \n",
    "                             min_observation=0)\n",
    "adataPB_Q_kNN.obs.rename({'Level1_kNN_pred':'Level1'}, axis=1, inplace=True)\n",
    "adataPB_Q_kNN"
   ]
  },
  {
   "cell_type": "code",
   "execution_count": 20,
   "id": "51f78e87-ebdb-4095-af60-e5c5bb297b33",
   "metadata": {
    "execution": {
     "iopub.execute_input": "2024-07-04T16:44:10.985348Z",
     "iopub.status.busy": "2024-07-04T16:44:10.985091Z",
     "iopub.status.idle": "2024-07-04T16:44:10.989306Z",
     "shell.execute_reply": "2024-07-04T16:44:10.988872Z"
    },
    "papermill": {
     "duration": 0.01264,
     "end_time": "2024-07-04T16:44:10.990188",
     "exception": false,
     "start_time": "2024-07-04T16:44:10.977548",
     "status": "completed"
    },
    "tags": []
   },
   "outputs": [
    {
     "data": {
      "text/plain": [
       "Level1\n",
       "B                 144\n",
       "Cycling_cells     144\n",
       "DC                144\n",
       "ILC               144\n",
       "Mono              144\n",
       "T_CD4_Naive       144\n",
       "T_CD4_NonNaive    144\n",
       "T_CD8_NonNaive    144\n",
       "UTC               144\n",
       "T_CD8_Naive       142\n",
       "Platelets         141\n",
       "pDC               139\n",
       "Plasma            128\n",
       "Progenitors       125\n",
       "RBC                21\n",
       "Name: count, dtype: int64"
      ]
     },
     "execution_count": 20,
     "metadata": {},
     "output_type": "execute_result"
    }
   ],
   "source": [
    "adataPB_Q_kNN.obs.Level1.value_counts()"
   ]
  },
  {
   "cell_type": "markdown",
   "id": "d59574be-684b-4082-b8b6-7d11930362ad",
   "metadata": {
    "papermill": {
     "duration": 0.007114,
     "end_time": "2024-07-04T16:44:11.004673",
     "exception": false,
     "start_time": "2024-07-04T16:44:10.997559",
     "status": "completed"
    },
    "tags": []
   },
   "source": [
    "### Saving pseudobulk adata objects"
   ]
  },
  {
   "cell_type": "code",
   "execution_count": 21,
   "id": "3ce1c9f0-1868-4854-b610-4c85581409c6",
   "metadata": {
    "execution": {
     "iopub.execute_input": "2024-07-04T16:44:11.018562Z",
     "iopub.status.busy": "2024-07-04T16:44:11.018413Z",
     "iopub.status.idle": "2024-07-04T16:44:11.021555Z",
     "shell.execute_reply": "2024-07-04T16:44:11.021164Z"
    },
    "papermill": {
     "duration": 0.010826,
     "end_time": "2024-07-04T16:44:11.022386",
     "exception": false,
     "start_time": "2024-07-04T16:44:11.011560",
     "status": "completed"
    },
    "tags": []
   },
   "outputs": [
    {
     "data": {
      "text/plain": [
       "'/scratch_isilon/groups/singlecell/shared/projects/Inflammation-PBMCs-Atlas/03_downstream_analysis/08_PatientClassifier/scANVI/results/reference/scANVI_VALIDATION_256_30_Level2_run1_finetuning.h5ad'"
      ]
     },
     "execution_count": 21,
     "metadata": {},
     "output_type": "execute_result"
    }
   ],
   "source": [
    "adataPATH_ref_list[0]"
   ]
  },
  {
   "cell_type": "code",
   "execution_count": 22,
   "id": "88f795a3-ab63-436d-a149-5bc18499537d",
   "metadata": {
    "execution": {
     "iopub.execute_input": "2024-07-04T16:44:11.245535Z",
     "iopub.status.busy": "2024-07-04T16:44:11.245181Z",
     "iopub.status.idle": "2024-07-04T16:44:11.248841Z",
     "shell.execute_reply": "2024-07-04T16:44:11.248450Z"
    },
    "papermill": {
     "duration": 0.147678,
     "end_time": "2024-07-04T16:44:11.249721",
     "exception": false,
     "start_time": "2024-07-04T16:44:11.102043",
     "status": "completed"
    },
    "tags": []
   },
   "outputs": [
    {
     "data": {
      "text/plain": [
       "'/scratch_isilon/groups/singlecell/shared/projects/Inflammation-PBMCs-Atlas/03_downstream_analysis/08_PatientClassifier/scANVI/results/PSEUDOBULKs/scANVI_PSEUDOBULK_reference_VALIDATION_256_30_Level2_run1_finetuning.h5ad'"
      ]
     },
     "execution_count": 22,
     "metadata": {},
     "output_type": "execute_result"
    }
   ],
   "source": [
    "adataPATH_ref_list[0].replace('/reference/scANVI_','/PSEUDOBULKs/scANVI_PSEUDOBULK_reference_')"
   ]
  },
  {
   "cell_type": "code",
   "execution_count": 23,
   "id": "5947e6f8-ac27-4702-ba5d-aa9e1ba79f6a",
   "metadata": {
    "execution": {
     "iopub.execute_input": "2024-07-04T16:44:11.613740Z",
     "iopub.status.busy": "2024-07-04T16:44:11.613382Z",
     "iopub.status.idle": "2024-07-04T16:44:12.476096Z",
     "shell.execute_reply": "2024-07-04T16:44:12.475677Z"
    },
    "papermill": {
     "duration": 1.204107,
     "end_time": "2024-07-04T16:44:12.477346",
     "exception": false,
     "start_time": "2024-07-04T16:44:11.273239",
     "status": "completed"
    },
    "tags": []
   },
   "outputs": [],
   "source": [
    "adataPB_R.write(here(adataPATH_ref_list[0].replace('/reference/scANVI_','/PSEUDOBULKs/scANVI_PSEUDOBULK_reference_')), compression='gzip')"
   ]
  },
  {
   "cell_type": "code",
   "execution_count": 24,
   "id": "8a70d9f6-7a44-45ee-8470-702bd7af1e0b",
   "metadata": {
    "execution": {
     "iopub.execute_input": "2024-07-04T16:44:13.262408Z",
     "iopub.status.busy": "2024-07-04T16:44:13.262099Z",
     "iopub.status.idle": "2024-07-04T16:44:13.442172Z",
     "shell.execute_reply": "2024-07-04T16:44:13.441743Z"
    },
    "papermill": {
     "duration": 0.740925,
     "end_time": "2024-07-04T16:44:13.443395",
     "exception": false,
     "start_time": "2024-07-04T16:44:12.702470",
     "status": "completed"
    },
    "tags": []
   },
   "outputs": [],
   "source": [
    "adataPB_Q_scANVI.write(here(adataPATH_query_list[0].replace('/query/scANVI_','/PSEUDOBULKs/scANVI_PSEUDOBULK_query_')), compression='gzip')"
   ]
  },
  {
   "cell_type": "code",
   "execution_count": 25,
   "id": "19305819",
   "metadata": {
    "execution": {
     "iopub.execute_input": "2024-07-04T16:44:13.472274Z",
     "iopub.status.busy": "2024-07-04T16:44:13.472121Z",
     "iopub.status.idle": "2024-07-04T16:44:13.528192Z",
     "shell.execute_reply": "2024-07-04T16:44:13.527812Z"
    },
    "papermill": {
     "duration": 0.076956,
     "end_time": "2024-07-04T16:44:13.529163",
     "exception": false,
     "start_time": "2024-07-04T16:44:13.452207",
     "status": "completed"
    },
    "tags": []
   },
   "outputs": [],
   "source": [
    "adataPB_Q_kNN.write(here(adataPATH_query_list[0].replace('/query/scANVI_','/PSEUDOBULKs/scANVI_PSEUDOBULK_kNN_query_')), compression='gzip')"
   ]
  }
 ],
 "metadata": {
  "kernelspec": {
   "display_name": "Python 3 (ipykernel)",
   "language": "python",
   "name": "python3"
  },
  "language_info": {
   "codemirror_mode": {
    "name": "ipython",
    "version": 3
   },
   "file_extension": ".py",
   "mimetype": "text/x-python",
   "name": "python",
   "nbconvert_exporter": "python",
   "pygments_lexer": "ipython3",
   "version": "3.12.3"
  },
  "papermill": {
   "default_parameters": {},
   "duration": 986.182239,
   "end_time": "2024-07-04T16:44:14.770829",
   "environment_variables": {},
   "exception": null,
   "input_path": "03_labelTransfer_generating_PSEUDOBULKs.ipynb",
   "output_path": "executed_notebooks/03_labelTransfer_generating_PSEUDOBULKs_VALIDATION_nPC30.ipynb",
   "parameters": {
    "adataPATH_query": "03_downstream_analysis/08_PatientClassifier/scANVI/results/query/scANVI_VALIDATION_*_30_Level2_*.h5ad",
    "adataPATH_ref": "03_downstream_analysis/08_PatientClassifier/scANVI/results/reference/scANVI_VALIDATION_*_30_Level2_*.h5ad"
   },
   "start_time": "2024-07-04T16:27:48.588590",
   "version": "2.6.0"
  }
 },
 "nbformat": 4,
 "nbformat_minor": 5
}