{
 "cells": [
  {
   "cell_type": "code",
   "execution_count": 1,
   "id": "00f5a25c",
   "metadata": {
    "execution": {
     "iopub.execute_input": "2024-07-04T16:44:15.951139Z",
     "iopub.status.busy": "2024-07-04T16:44:15.950978Z",
     "iopub.status.idle": "2024-07-04T16:44:15.953392Z",
     "shell.execute_reply": "2024-07-04T16:44:15.953068Z"
    },
    "papermill": {
     "duration": 0.013207,
     "end_time": "2024-07-04T16:44:15.954226",
     "exception": false,
     "start_time": "2024-07-04T16:44:15.941019",
     "status": "completed"
    },
    "tags": [
     "injected-parameters"
    ]
   },
   "outputs": [],
   "source": [
    "# Parameters\n",
    "adataPATH_ref = \"03_downstream_analysis/08_PatientClassifier/scANVI/results/reference/scANVI_EXTERNAL_*_50_Level2_*.h5ad\"\n",
    "adataPATH_query = \"03_downstream_analysis/08_PatientClassifier/scANVI/results/query/scANVI_EXTERNAL_*_50_Level2_*.h5ad\"\n"
   ]
  },
  {
   "cell_type": "raw",
   "id": "8002b33d-9b20-4bdf-a1a3-acc29d5a0295",
   "metadata": {
    "execution": {
     "iopub.execute_input": "2024-07-04T11:25:09.444596Z",
     "iopub.status.busy": "2024-07-04T11:25:09.444279Z",
     "iopub.status.idle": "2024-07-04T11:25:09.447097Z",
     "shell.execute_reply": "2024-07-04T11:25:09.446732Z",
     "shell.execute_reply.started": "2024-07-04T11:25:09.444579Z"
    },
    "papermill": {
     "duration": 0.00628,
     "end_time": "2024-07-04T16:44:15.969208",
     "exception": false,
     "start_time": "2024-07-04T16:44:15.962928",
     "status": "completed"
    },
    "tags": [],
    "vscode": {
     "languageId": "raw"
    }
   },
   "source": [
    "adataPATH_ref = '03_downstream_analysis/08_PatientClassifier/scANVI/results/reference/scANVI_VALIDATION_256_30_Level2_run1_finetuning.h5ad'\n",
    "adataPATH_query = '03_downstream_analysis/08_PatientClassifier/scANVI/results/query/scANVI_VALIDATION_256_30_Level2_run1_finetuning.h5ad'"
   ]
  },
  {
   "cell_type": "code",
   "execution_count": 2,
   "id": "d3ccb10a-7201-43d0-a593-2b4650ff3451",
   "metadata": {
    "execution": {
     "iopub.execute_input": "2024-07-04T16:44:15.982771Z",
     "iopub.status.busy": "2024-07-04T16:44:15.982599Z",
     "iopub.status.idle": "2024-07-04T16:44:15.985212Z",
     "shell.execute_reply": "2024-07-04T16:44:15.984930Z"
    },
    "papermill": {
     "duration": 0.010393,
     "end_time": "2024-07-04T16:44:15.985991",
     "exception": false,
     "start_time": "2024-07-04T16:44:15.975598",
     "status": "completed"
    },
    "tags": []
   },
   "outputs": [
    {
     "name": "stdout",
     "output_type": "stream",
     "text": [
      "adataPATH_ref = 03_downstream_analysis/08_PatientClassifier/scANVI/results/reference/scANVI_EXTERNAL_*_50_Level2_*.h5ad\n",
      "adataPATH_query = 03_downstream_analysis/08_PatientClassifier/scANVI/results/query/scANVI_EXTERNAL_*_50_Level2_*.h5ad\n"
     ]
    }
   ],
   "source": [
    "for v in ['adataPATH_ref','adataPATH_query']:\n",
    "    if v in locals() or v in globals():\n",
    "        print(f\"{v} = {eval(v)}\")\n",
    "    else:\n",
    "        raise Exception(f\"{v} not specified\")"
   ]
  },
  {
   "cell_type": "code",
   "execution_count": 3,
   "id": "888fb5f4-9ab7-4196-a282-7a7e92a43971",
   "metadata": {
    "execution": {
     "iopub.execute_input": "2024-07-04T16:44:15.999321Z",
     "iopub.status.busy": "2024-07-04T16:44:15.999132Z",
     "iopub.status.idle": "2024-07-04T16:44:24.281298Z",
     "shell.execute_reply": "2024-07-04T16:44:24.280811Z"
    },
    "papermill": {
     "duration": 8.290394,
     "end_time": "2024-07-04T16:44:24.282652",
     "exception": false,
     "start_time": "2024-07-04T16:44:15.992258",
     "status": "completed"
    },
    "tags": []
   },
   "outputs": [],
   "source": [
    "import os\n",
    "import sys\n",
    "from glob import glob\n",
    "\n",
    "import scanpy as sc\n",
    "import pandas as pd\n",
    "\n",
    "import pynndescent\n",
    "import numpy as np\n",
    "import numba\n",
    "\n",
    "from pyprojroot import here\n",
    "\n",
    "sys.path.insert(1, str(here('bin')))\n",
    "# Import custom functions\n",
    "from customPythonFunctions import aggregating_features"
   ]
  },
  {
   "cell_type": "markdown",
   "id": "cc14bdf1-cb35-427d-b868-48480d371ac1",
   "metadata": {
    "papermill": {
     "duration": 0.006788,
     "end_time": "2024-07-04T16:44:24.296639",
     "exception": false,
     "start_time": "2024-07-04T16:44:24.289851",
     "status": "completed"
    },
    "tags": []
   },
   "source": [
    "### Defining kNN label transfer function"
   ]
  },
  {
   "cell_type": "code",
   "execution_count": 4,
   "id": "2cde8870-daf7-4eb9-b1be-d7a700b1876b",
   "metadata": {
    "execution": {
     "iopub.execute_input": "2024-07-04T16:44:24.312933Z",
     "iopub.status.busy": "2024-07-04T16:44:24.312450Z",
     "iopub.status.idle": "2024-07-04T16:44:24.318672Z",
     "shell.execute_reply": "2024-07-04T16:44:24.318196Z"
    },
    "papermill": {
     "duration": 0.015506,
     "end_time": "2024-07-04T16:44:24.319536",
     "exception": false,
     "start_time": "2024-07-04T16:44:24.304030",
     "status": "completed"
    },
    "tags": []
   },
   "outputs": [],
   "source": [
    "class LabelTransferWithKNN:\n",
    "    \"\"\" See https://docs.scvi-tools.org/en/stable/tutorials/notebooks/scrna/query_hlca_knn.html \"\"\"\n",
    "    def fit(self, ref_adata):\n",
    "        self.ref_adata = ref_adata\n",
    "        self.nn_index = pynndescent.NNDescent(self.ref_adata.X)\n",
    "        self.nn_index.prepare()\n",
    "        return self\n",
    "\n",
    "    def predict(self, query_adata, label_keys: list[str] = ['Level1']):\n",
    "\n",
    "        ref_neighbors, ref_distances = self.nn_index.query(query_adata.X)\n",
    "\n",
    "        # convert distances to affinities\n",
    "        stds = np.std(ref_distances, axis=1)\n",
    "        stds = (2.0 / stds) ** 2\n",
    "        stds = stds.reshape(-1, 1)\n",
    "        ref_distances_tilda = np.exp(-np.true_divide(ref_distances, stds))\n",
    "        weights = ref_distances_tilda / np.sum(ref_distances_tilda, axis=1, keepdims=True)\n",
    "\n",
    "        for l in label_keys:\n",
    "            ref_cats = self.ref_adata.obs[l].cat.codes.to_numpy()[ref_neighbors]\n",
    "            p, u = self.weighted_prediction(weights, ref_cats)\n",
    "            p = np.asarray(self.ref_adata.obs[l].cat.categories)[p]\n",
    "            query_adata.obs[l + \"_pred\"], query_adata.obs[l + \"_uncertainty\"] = p, u\n",
    "        \n",
    "        return query_adata\n",
    "    \n",
    "    @staticmethod\n",
    "    @numba.njit\n",
    "    def weighted_prediction(weights, ref_cats):\n",
    "        \"\"\"Get highest weight category.\"\"\"\n",
    "        N = len(weights)\n",
    "        predictions = np.zeros((N,), dtype=ref_cats.dtype)\n",
    "        uncertainty = np.zeros((N,))\n",
    "        for i in range(N):\n",
    "            obs_weights = weights[i]\n",
    "            obs_cats = ref_cats[i]\n",
    "            best_prob = 0\n",
    "            for c in np.unique(obs_cats):\n",
    "                cand_prob = np.sum(obs_weights[obs_cats == c])\n",
    "                if cand_prob > best_prob:\n",
    "                    best_prob = cand_prob\n",
    "                    predictions[i] = c\n",
    "                    uncertainty[i] = max(1 - best_prob, 0)\n",
    "\n",
    "        return predictions, uncertainty"
   ]
  },
  {
   "cell_type": "markdown",
   "id": "ba4905ae-4546-4ef4-b57b-950441ab079d",
   "metadata": {
    "papermill": {
     "duration": 0.006698,
     "end_time": "2024-07-04T16:44:24.334760",
     "exception": false,
     "start_time": "2024-07-04T16:44:24.328062",
     "status": "completed"
    },
    "tags": []
   },
   "source": [
    "### Loading data"
   ]
  },
  {
   "cell_type": "code",
   "execution_count": 5,
   "id": "539cbbbb-3503-4f51-bf04-f007f928ebd1",
   "metadata": {
    "execution": {
     "iopub.execute_input": "2024-07-04T16:44:24.350124Z",
     "iopub.status.busy": "2024-07-04T16:44:24.349807Z",
     "iopub.status.idle": "2024-07-04T16:44:24.355622Z",
     "shell.execute_reply": "2024-07-04T16:44:24.355137Z"
    },
    "papermill": {
     "duration": 0.014884,
     "end_time": "2024-07-04T16:44:24.356856",
     "exception": false,
     "start_time": "2024-07-04T16:44:24.341972",
     "status": "completed"
    },
    "tags": []
   },
   "outputs": [],
   "source": [
    "adataPATH_ref\n",
    "adataPATH_ref_list = glob(str(here(adataPATH_ref)))\n",
    "assert(len(adataPATH_ref_list) == 1)\n",
    "\n",
    "adataPATH_query\n",
    "adataPATH_query_list = glob(str(here(adataPATH_query)))\n",
    "assert(len(adataPATH_query_list) == 1)"
   ]
  },
  {
   "cell_type": "code",
   "execution_count": 6,
   "id": "0fcfce0a-896b-4dc0-8e5e-46749205c84f",
   "metadata": {
    "execution": {
     "iopub.execute_input": "2024-07-04T16:44:24.373482Z",
     "iopub.status.busy": "2024-07-04T16:44:24.373175Z",
     "iopub.status.idle": "2024-07-04T16:44:50.396006Z",
     "shell.execute_reply": "2024-07-04T16:44:50.395585Z"
    },
    "papermill": {
     "duration": 26.033587,
     "end_time": "2024-07-04T16:44:50.396940",
     "exception": false,
     "start_time": "2024-07-04T16:44:24.363353",
     "status": "completed"
    },
    "tags": []
   },
   "outputs": [
    {
     "data": {
      "text/plain": [
       "(AnnData object with n_obs × n_vars = 4435922 × 50\n",
       "     obs: 'studyID', 'libraryID', 'sampleID', 'chemistry', 'disease', 'sex', 'binned_age', 'Level1', 'Level2', '_scvi_batch', '_scvi_labels',\n",
       " AnnData object with n_obs × n_vars = 572872 × 50\n",
       "     obs: 'studyID', 'libraryID', 'sampleID', 'chemistry', 'technology', 'disease', 'sex', 'binned_age', '_scvi_batch', 'Level2', '_scvi_labels', 'labels')"
      ]
     },
     "execution_count": 6,
     "metadata": {},
     "output_type": "execute_result"
    }
   ],
   "source": [
    "adataR = sc.read_h5ad(adataPATH_ref_list[0])\n",
    "adataQ = sc.read_h5ad(adataPATH_query_list[0])\n",
    "adataR, adataQ"
   ]
  },
  {
   "cell_type": "code",
   "execution_count": 7,
   "id": "43363d5e-2643-4002-8905-e3c99124c70b",
   "metadata": {
    "execution": {
     "iopub.execute_input": "2024-07-04T16:44:50.412203Z",
     "iopub.status.busy": "2024-07-04T16:44:50.411823Z",
     "iopub.status.idle": "2024-07-04T16:44:52.306804Z",
     "shell.execute_reply": "2024-07-04T16:44:52.306258Z"
    },
    "papermill": {
     "duration": 1.90301,
     "end_time": "2024-07-04T16:44:52.308130",
     "exception": false,
     "start_time": "2024-07-04T16:44:50.405120",
     "status": "completed"
    },
    "tags": []
   },
   "outputs": [],
   "source": [
    "Level1_dict = adataR.obs[['Level1','Level2']].set_index('Level2').to_dict()['Level1']"
   ]
  },
  {
   "cell_type": "code",
   "execution_count": 8,
   "id": "0d286575-96c1-4146-b6d5-faab19d5a7ba",
   "metadata": {
    "execution": {
     "iopub.execute_input": "2024-07-04T16:44:52.327856Z",
     "iopub.status.busy": "2024-07-04T16:44:52.327450Z",
     "iopub.status.idle": "2024-07-04T16:44:52.340610Z",
     "shell.execute_reply": "2024-07-04T16:44:52.340201Z"
    },
    "papermill": {
     "duration": 0.021115,
     "end_time": "2024-07-04T16:44:52.341475",
     "exception": false,
     "start_time": "2024-07-04T16:44:52.320360",
     "status": "completed"
    },
    "tags": []
   },
   "outputs": [],
   "source": [
    "adataQ.obs['Level1_scANVIpredict'] = adataQ.obs['labels'].map(Level1_dict)"
   ]
  },
  {
   "cell_type": "code",
   "execution_count": 9,
   "id": "83ea89fd-965e-4c2c-bcd9-7467a6a78cd0",
   "metadata": {
    "execution": {
     "iopub.execute_input": "2024-07-04T16:44:52.770096Z",
     "iopub.status.busy": "2024-07-04T16:44:52.769776Z",
     "iopub.status.idle": "2024-07-04T16:44:52.805188Z",
     "shell.execute_reply": "2024-07-04T16:44:52.804759Z"
    },
    "papermill": {
     "duration": 0.054212,
     "end_time": "2024-07-04T16:44:52.806111",
     "exception": false,
     "start_time": "2024-07-04T16:44:52.751899",
     "status": "completed"
    },
    "tags": []
   },
   "outputs": [
    {
     "data": {
      "text/plain": [
       "Level1_scANVIpredict\n",
       "Mono              0.239837\n",
       "T_CD4_NonNaive    0.198735\n",
       "T_CD4_Naive       0.169340\n",
       "T_CD8_NonNaive    0.113298\n",
       "B                 0.080210\n",
       "ILC               0.070648\n",
       "T_CD8_Naive       0.066826\n",
       "UTC               0.028350\n",
       "Platelets         0.016025\n",
       "DC                0.007513\n",
       "pDC               0.004519\n",
       "Cycling_cells     0.002278\n",
       "Plasma            0.001295\n",
       "RBC               0.000714\n",
       "Progenitors       0.000412\n",
       "Name: proportion, dtype: float64"
      ]
     },
     "execution_count": 9,
     "metadata": {},
     "output_type": "execute_result"
    }
   ],
   "source": [
    "adataQ.obs['Level1_scANVIpredict'].value_counts(normalize = True)"
   ]
  },
  {
   "cell_type": "markdown",
   "id": "bab4753e-78c0-40b9-9361-d94b9804e924",
   "metadata": {
    "papermill": {
     "duration": 0.008113,
     "end_time": "2024-07-04T16:44:52.889983",
     "exception": false,
     "start_time": "2024-07-04T16:44:52.881870",
     "status": "completed"
    },
    "tags": []
   },
   "source": [
    "#### Label transfer with kNN"
   ]
  },
  {
   "cell_type": "code",
   "execution_count": 10,
   "id": "785cca0e-9f6f-48c3-825a-84ea8360e0fb",
   "metadata": {
    "execution": {
     "iopub.execute_input": "2024-07-04T16:44:52.937424Z",
     "iopub.status.busy": "2024-07-04T16:44:52.937011Z",
     "iopub.status.idle": "2024-07-04T16:57:18.973086Z",
     "shell.execute_reply": "2024-07-04T16:57:18.972675Z"
    },
    "papermill": {
     "duration": 746.076761,
     "end_time": "2024-07-04T16:57:18.974237",
     "exception": false,
     "start_time": "2024-07-04T16:44:52.897476",
     "status": "completed"
    },
    "tags": []
   },
   "outputs": [],
   "source": [
    "kNNclf = LabelTransferWithKNN().fit(adataR)"
   ]
  },
  {
   "cell_type": "code",
   "execution_count": 11,
   "id": "08b14276-ec7c-4061-8ad1-ed986c122dc9",
   "metadata": {
    "execution": {
     "iopub.execute_input": "2024-07-04T16:57:18.989690Z",
     "iopub.status.busy": "2024-07-04T16:57:18.989363Z",
     "iopub.status.idle": "2024-07-04T16:57:49.394998Z",
     "shell.execute_reply": "2024-07-04T16:57:49.394616Z"
    },
    "papermill": {
     "duration": 30.421423,
     "end_time": "2024-07-04T16:57:49.403837",
     "exception": false,
     "start_time": "2024-07-04T16:57:18.982414",
     "status": "completed"
    },
    "tags": []
   },
   "outputs": [
    {
     "data": {
      "text/plain": [
       "AnnData object with n_obs × n_vars = 572872 × 50\n",
       "    obs: 'studyID', 'libraryID', 'sampleID', 'chemistry', 'technology', 'disease', 'sex', 'binned_age', '_scvi_batch', 'Level2', '_scvi_labels', 'labels', 'Level1_scANVIpredict', 'Level1_pred', 'Level1_uncertainty'"
      ]
     },
     "execution_count": 11,
     "metadata": {},
     "output_type": "execute_result"
    }
   ],
   "source": [
    "adataQ = kNNclf.predict(query_adata = adataQ, label_keys = ['Level1'])\n",
    "adataQ"
   ]
  },
  {
   "cell_type": "code",
   "execution_count": 12,
   "id": "80b6736a-789a-4137-aa90-bfb74f2323c4",
   "metadata": {
    "execution": {
     "iopub.execute_input": "2024-07-04T16:57:49.417822Z",
     "iopub.status.busy": "2024-07-04T16:57:49.417267Z",
     "iopub.status.idle": "2024-07-04T16:57:49.422172Z",
     "shell.execute_reply": "2024-07-04T16:57:49.421759Z"
    },
    "papermill": {
     "duration": 0.012747,
     "end_time": "2024-07-04T16:57:49.423014",
     "exception": false,
     "start_time": "2024-07-04T16:57:49.410267",
     "status": "completed"
    },
    "tags": []
   },
   "outputs": [],
   "source": [
    "adataQ.obs['Level1_kNN_pred'] = adataQ.obs['Level1_pred']"
   ]
  },
  {
   "cell_type": "code",
   "execution_count": 13,
   "id": "f3f04f12-1058-46b0-95c8-8c8670bd40b2",
   "metadata": {
    "execution": {
     "iopub.execute_input": "2024-07-04T16:57:49.452361Z",
     "iopub.status.busy": "2024-07-04T16:57:49.452001Z",
     "iopub.status.idle": "2024-07-04T16:57:49.480234Z",
     "shell.execute_reply": "2024-07-04T16:57:49.479871Z"
    },
    "papermill": {
     "duration": 0.036704,
     "end_time": "2024-07-04T16:57:49.481034",
     "exception": false,
     "start_time": "2024-07-04T16:57:49.444330",
     "status": "completed"
    },
    "tags": []
   },
   "outputs": [
    {
     "data": {
      "text/plain": [
       "Level1_kNN_pred\n",
       "Mono              0.233263\n",
       "T_CD4_Naive       0.201827\n",
       "T_CD4_NonNaive    0.175135\n",
       "T_CD8_NonNaive    0.109129\n",
       "B                 0.079767\n",
       "ILC               0.069602\n",
       "T_CD8_Naive       0.060417\n",
       "UTC               0.027170\n",
       "Platelets         0.022488\n",
       "DC                0.009257\n",
       "Cycling_cells     0.004430\n",
       "pDC               0.004181\n",
       "Progenitors       0.001314\n",
       "Plasma            0.001180\n",
       "RBC               0.000840\n",
       "Name: proportion, dtype: float64"
      ]
     },
     "execution_count": 13,
     "metadata": {},
     "output_type": "execute_result"
    }
   ],
   "source": [
    "adataQ.obs['Level1_kNN_pred'].value_counts(normalize = True)"
   ]
  },
  {
   "cell_type": "code",
   "execution_count": 14,
   "id": "c1dc4c3a-30b8-45e2-8ed2-f89bd913523e",
   "metadata": {
    "execution": {
     "iopub.execute_input": "2024-07-04T16:57:49.495988Z",
     "iopub.status.busy": "2024-07-04T16:57:49.495565Z",
     "iopub.status.idle": "2024-07-04T16:57:49.520326Z",
     "shell.execute_reply": "2024-07-04T16:57:49.519935Z"
    },
    "papermill": {
     "duration": 0.033932,
     "end_time": "2024-07-04T16:57:49.521226",
     "exception": false,
     "start_time": "2024-07-04T16:57:49.487294",
     "status": "completed"
    },
    "tags": []
   },
   "outputs": [],
   "source": [
    "from sklearn.metrics import adjusted_rand_score as ari"
   ]
  },
  {
   "cell_type": "code",
   "execution_count": 15,
   "id": "ff6d5cbd-e8bc-4f7f-af89-f5dc0675500b",
   "metadata": {
    "execution": {
     "iopub.execute_input": "2024-07-04T16:57:49.535771Z",
     "iopub.status.busy": "2024-07-04T16:57:49.535219Z",
     "iopub.status.idle": "2024-07-04T16:57:50.481105Z",
     "shell.execute_reply": "2024-07-04T16:57:50.480738Z"
    },
    "papermill": {
     "duration": 0.95357,
     "end_time": "2024-07-04T16:57:50.481920",
     "exception": false,
     "start_time": "2024-07-04T16:57:49.528350",
     "status": "completed"
    },
    "tags": []
   },
   "outputs": [
    {
     "data": {
      "text/plain": [
       "0.8542837199785854"
      ]
     },
     "execution_count": 15,
     "metadata": {},
     "output_type": "execute_result"
    }
   ],
   "source": [
    "ari(adataQ.obs['Level1_kNN_pred'],adataQ.obs['Level1_scANVIpredict'])"
   ]
  },
  {
   "cell_type": "markdown",
   "id": "44e868b3-0771-4225-bd79-a4b179bc672b",
   "metadata": {
    "papermill": {
     "duration": 0.00636,
     "end_time": "2024-07-04T16:57:50.497184",
     "exception": false,
     "start_time": "2024-07-04T16:57:50.490824",
     "status": "completed"
    },
    "tags": []
   },
   "source": [
    "#### Generating PSEUDOBULKs"
   ]
  },
  {
   "cell_type": "code",
   "execution_count": 16,
   "id": "81223976-fcf6-4354-8964-b12d76468636",
   "metadata": {
    "execution": {
     "iopub.execute_input": "2024-07-04T16:57:50.528092Z",
     "iopub.status.busy": "2024-07-04T16:57:50.527679Z",
     "iopub.status.idle": "2024-07-04T16:57:52.530975Z",
     "shell.execute_reply": "2024-07-04T16:57:52.530611Z"
    },
    "papermill": {
     "duration": 2.028375,
     "end_time": "2024-07-04T16:57:52.531765",
     "exception": false,
     "start_time": "2024-07-04T16:57:50.503390",
     "status": "completed"
    },
    "tags": []
   },
   "outputs": [
    {
     "data": {
      "text/plain": [
       "AnnData object with n_obs × n_vars = 11372 × 50\n",
       "    obs: 'sampleID', 'Level1', 'disease', 'n_observation'"
      ]
     },
     "execution_count": 16,
     "metadata": {},
     "output_type": "execute_result"
    }
   ],
   "source": [
    "adataPB_R = aggregating_features(Z = adataR.X, \n",
    "                             obsDF = adataR.obs[['sampleID','Level1','disease']], \n",
    "                             mode = 'mean', \n",
    "                             obs_names_col=['sampleID','Level1'], \n",
    "                             min_observation=0)\n",
    "adataPB_R"
   ]
  },
  {
   "cell_type": "markdown",
   "id": "97d09fc5-d05c-471e-87fa-fe58ccbe47ac",
   "metadata": {
    "papermill": {
     "duration": 0.007964,
     "end_time": "2024-07-04T16:57:52.548432",
     "exception": false,
     "start_time": "2024-07-04T16:57:52.540468",
     "status": "completed"
    },
    "tags": []
   },
   "source": [
    "**Considering scANVI predicted labels**"
   ]
  },
  {
   "cell_type": "code",
   "execution_count": 17,
   "id": "8a64ad2e-561b-48a2-a48f-5fc1b9f567aa",
   "metadata": {
    "execution": {
     "iopub.execute_input": "2024-07-04T16:57:52.570706Z",
     "iopub.status.busy": "2024-07-04T16:57:52.570503Z",
     "iopub.status.idle": "2024-07-04T16:57:52.831432Z",
     "shell.execute_reply": "2024-07-04T16:57:52.831081Z"
    },
    "papermill": {
     "duration": 0.273092,
     "end_time": "2024-07-04T16:57:52.832224",
     "exception": false,
     "start_time": "2024-07-04T16:57:52.559132",
     "status": "completed"
    },
    "tags": []
   },
   "outputs": [
    {
     "data": {
      "text/plain": [
       "AnnData object with n_obs × n_vars = 1182 × 50\n",
       "    obs: 'sampleID', 'Level1', 'disease', 'n_observation'"
      ]
     },
     "execution_count": 17,
     "metadata": {},
     "output_type": "execute_result"
    }
   ],
   "source": [
    "adataPB_Q_scANVI = aggregating_features(Z = adataQ.X, \n",
    "                             obsDF = adataQ.obs[['sampleID','Level1_scANVIpredict','disease']], \n",
    "                             mode = 'mean', \n",
    "                             obs_names_col=['sampleID','Level1_scANVIpredict'], \n",
    "                             min_observation=0)\n",
    "\n",
    "adataPB_Q_scANVI.obs.rename({'Level1_scANVIpredict':'Level1'}, axis=1, inplace=True)\n",
    "adataPB_Q_scANVI"
   ]
  },
  {
   "cell_type": "code",
   "execution_count": 18,
   "id": "5c0db4a4-2016-4e00-bc54-9bcead35b4da",
   "metadata": {
    "execution": {
     "iopub.execute_input": "2024-07-04T16:57:52.850892Z",
     "iopub.status.busy": "2024-07-04T16:57:52.850465Z",
     "iopub.status.idle": "2024-07-04T16:57:52.854882Z",
     "shell.execute_reply": "2024-07-04T16:57:52.854516Z"
    },
    "papermill": {
     "duration": 0.012802,
     "end_time": "2024-07-04T16:57:52.855663",
     "exception": false,
     "start_time": "2024-07-04T16:57:52.842861",
     "status": "completed"
    },
    "tags": []
   },
   "outputs": [
    {
     "data": {
      "text/plain": [
       "Level1\n",
       "B                 86\n",
       "DC                86\n",
       "ILC               86\n",
       "Mono              86\n",
       "T_CD4_Naive       86\n",
       "T_CD4_NonNaive    86\n",
       "T_CD8_Naive       86\n",
       "T_CD8_NonNaive    86\n",
       "UTC               86\n",
       "Platelets         85\n",
       "Cycling_cells     80\n",
       "Plasma            80\n",
       "pDC               78\n",
       "Progenitors       59\n",
       "RBC               26\n",
       "Name: count, dtype: int64"
      ]
     },
     "execution_count": 18,
     "metadata": {},
     "output_type": "execute_result"
    }
   ],
   "source": [
    "adataPB_Q_scANVI.obs.Level1.value_counts()"
   ]
  },
  {
   "cell_type": "markdown",
   "id": "6ccd375e-bb4a-47bd-afbb-4399f9fe93bb",
   "metadata": {
    "papermill": {
     "duration": 0.019085,
     "end_time": "2024-07-04T16:57:52.883612",
     "exception": false,
     "start_time": "2024-07-04T16:57:52.864527",
     "status": "completed"
    },
    "tags": []
   },
   "source": [
    "**Considering labels transferred with kNN**"
   ]
  },
  {
   "cell_type": "code",
   "execution_count": 19,
   "id": "0d234e2f",
   "metadata": {
    "execution": {
     "iopub.execute_input": "2024-07-04T16:57:52.898582Z",
     "iopub.status.busy": "2024-07-04T16:57:52.898238Z",
     "iopub.status.idle": "2024-07-04T16:57:53.157356Z",
     "shell.execute_reply": "2024-07-04T16:57:53.157016Z"
    },
    "papermill": {
     "duration": 0.267219,
     "end_time": "2024-07-04T16:57:53.158130",
     "exception": false,
     "start_time": "2024-07-04T16:57:52.890911",
     "status": "completed"
    },
    "tags": []
   },
   "outputs": [
    {
     "data": {
      "text/plain": [
       "AnnData object with n_obs × n_vars = 1222 × 50\n",
       "    obs: 'sampleID', 'Level1', 'disease', 'n_observation'"
      ]
     },
     "execution_count": 19,
     "metadata": {},
     "output_type": "execute_result"
    }
   ],
   "source": [
    "adataPB_Q_kNN = aggregating_features(Z = adataQ.X, \n",
    "                             obsDF = adataQ.obs[['sampleID','Level1_kNN_pred','disease']], \n",
    "                             mode = 'mean', \n",
    "                             obs_names_col=['sampleID','Level1_kNN_pred'], \n",
    "                             min_observation=0)\n",
    "adataPB_Q_kNN.obs.rename({'Level1_kNN_pred':'Level1'}, axis=1, inplace=True)\n",
    "adataPB_Q_kNN"
   ]
  },
  {
   "cell_type": "code",
   "execution_count": 20,
   "id": "51f78e87-ebdb-4095-af60-e5c5bb297b33",
   "metadata": {
    "execution": {
     "iopub.execute_input": "2024-07-04T16:57:53.173805Z",
     "iopub.status.busy": "2024-07-04T16:57:53.173406Z",
     "iopub.status.idle": "2024-07-04T16:57:53.177609Z",
     "shell.execute_reply": "2024-07-04T16:57:53.177253Z"
    },
    "papermill": {
     "duration": 0.012771,
     "end_time": "2024-07-04T16:57:53.178392",
     "exception": false,
     "start_time": "2024-07-04T16:57:53.165621",
     "status": "completed"
    },
    "tags": []
   },
   "outputs": [
    {
     "data": {
      "text/plain": [
       "Level1\n",
       "B                 86\n",
       "Cycling_cells     86\n",
       "DC                86\n",
       "ILC               86\n",
       "Mono              86\n",
       "Platelets         86\n",
       "T_CD4_Naive       86\n",
       "T_CD4_NonNaive    86\n",
       "T_CD8_Naive       86\n",
       "T_CD8_NonNaive    86\n",
       "UTC               86\n",
       "Progenitors       84\n",
       "Plasma            82\n",
       "pDC               78\n",
       "RBC               32\n",
       "Name: count, dtype: int64"
      ]
     },
     "execution_count": 20,
     "metadata": {},
     "output_type": "execute_result"
    }
   ],
   "source": [
    "adataPB_Q_kNN.obs.Level1.value_counts()"
   ]
  },
  {
   "cell_type": "markdown",
   "id": "d59574be-684b-4082-b8b6-7d11930362ad",
   "metadata": {
    "papermill": {
     "duration": 0.00749,
     "end_time": "2024-07-04T16:57:53.194431",
     "exception": false,
     "start_time": "2024-07-04T16:57:53.186941",
     "status": "completed"
    },
    "tags": []
   },
   "source": [
    "### Saving pseudobulk adata objects"
   ]
  },
  {
   "cell_type": "code",
   "execution_count": 21,
   "id": "3ce1c9f0-1868-4854-b610-4c85581409c6",
   "metadata": {
    "execution": {
     "iopub.execute_input": "2024-07-04T16:57:53.210342Z",
     "iopub.status.busy": "2024-07-04T16:57:53.209996Z",
     "iopub.status.idle": "2024-07-04T16:57:53.212965Z",
     "shell.execute_reply": "2024-07-04T16:57:53.212601Z"
    },
    "papermill": {
     "duration": 0.011778,
     "end_time": "2024-07-04T16:57:53.213732",
     "exception": false,
     "start_time": "2024-07-04T16:57:53.201954",
     "status": "completed"
    },
    "tags": []
   },
   "outputs": [
    {
     "data": {
      "text/plain": [
       "'/scratch_isilon/groups/singlecell/shared/projects/Inflammation-PBMCs-Atlas/03_downstream_analysis/08_PatientClassifier/scANVI/results/reference/scANVI_EXTERNAL_256_50_Level2_run2_finetuning.h5ad'"
      ]
     },
     "execution_count": 21,
     "metadata": {},
     "output_type": "execute_result"
    }
   ],
   "source": [
    "adataPATH_ref_list[0]"
   ]
  },
  {
   "cell_type": "code",
   "execution_count": 22,
   "id": "88f795a3-ab63-436d-a149-5bc18499537d",
   "metadata": {
    "execution": {
     "iopub.execute_input": "2024-07-04T16:57:53.229189Z",
     "iopub.status.busy": "2024-07-04T16:57:53.228850Z",
     "iopub.status.idle": "2024-07-04T16:57:53.231917Z",
     "shell.execute_reply": "2024-07-04T16:57:53.231570Z"
    },
    "papermill": {
     "duration": 0.011806,
     "end_time": "2024-07-04T16:57:53.232674",
     "exception": false,
     "start_time": "2024-07-04T16:57:53.220868",
     "status": "completed"
    },
    "tags": []
   },
   "outputs": [
    {
     "data": {
      "text/plain": [
       "'/scratch_isilon/groups/singlecell/shared/projects/Inflammation-PBMCs-Atlas/03_downstream_analysis/08_PatientClassifier/scANVI/results/PSEUDOBULKs/scANVI_PSEUDOBULK_reference_EXTERNAL_256_50_Level2_run2_finetuning.h5ad'"
      ]
     },
     "execution_count": 22,
     "metadata": {},
     "output_type": "execute_result"
    }
   ],
   "source": [
    "adataPATH_ref_list[0].replace('/reference/scANVI_','/PSEUDOBULKs/scANVI_PSEUDOBULK_reference_')"
   ]
  },
  {
   "cell_type": "code",
   "execution_count": 23,
   "id": "5947e6f8-ac27-4702-ba5d-aa9e1ba79f6a",
   "metadata": {
    "execution": {
     "iopub.execute_input": "2024-07-04T16:57:53.263640Z",
     "iopub.status.busy": "2024-07-04T16:57:53.263308Z",
     "iopub.status.idle": "2024-07-04T16:57:53.441050Z",
     "shell.execute_reply": "2024-07-04T16:57:53.440602Z"
    },
    "papermill": {
     "duration": 0.18772,
     "end_time": "2024-07-04T16:57:53.442106",
     "exception": false,
     "start_time": "2024-07-04T16:57:53.254386",
     "status": "completed"
    },
    "tags": []
   },
   "outputs": [],
   "source": [
    "adataPB_R.write(here(adataPATH_ref_list[0].replace('/reference/scANVI_','/PSEUDOBULKs/scANVI_PSEUDOBULK_reference_')), compression='gzip')"
   ]
  },
  {
   "cell_type": "code",
   "execution_count": 24,
   "id": "8a70d9f6-7a44-45ee-8470-702bd7af1e0b",
   "metadata": {
    "execution": {
     "iopub.execute_input": "2024-07-04T16:57:53.458273Z",
     "iopub.status.busy": "2024-07-04T16:57:53.457927Z",
     "iopub.status.idle": "2024-07-04T16:57:53.525330Z",
     "shell.execute_reply": "2024-07-04T16:57:53.524908Z"
    },
    "papermill": {
     "duration": 0.076272,
     "end_time": "2024-07-04T16:57:53.526325",
     "exception": false,
     "start_time": "2024-07-04T16:57:53.450053",
     "status": "completed"
    },
    "tags": []
   },
   "outputs": [],
   "source": [
    "adataPB_Q_scANVI.write(here(adataPATH_query_list[0].replace('/query/scANVI_','/PSEUDOBULKs/scANVI_PSEUDOBULK_query_')), compression='gzip')"
   ]
  },
  {
   "cell_type": "code",
   "execution_count": 25,
   "id": "19305819",
   "metadata": {
    "execution": {
     "iopub.execute_input": "2024-07-04T16:57:53.555672Z",
     "iopub.status.busy": "2024-07-04T16:57:53.555295Z",
     "iopub.status.idle": "2024-07-04T16:57:53.593679Z",
     "shell.execute_reply": "2024-07-04T16:57:53.593252Z"
    },
    "papermill": {
     "duration": 0.04782,
     "end_time": "2024-07-04T16:57:53.594479",
     "exception": false,
     "start_time": "2024-07-04T16:57:53.546659",
     "status": "completed"
    },
    "tags": []
   },
   "outputs": [],
   "source": [
    "adataPB_Q_kNN.write(here(adataPATH_query_list[0].replace('/query/scANVI_','/PSEUDOBULKs/scANVI_PSEUDOBULK_kNN_query_')), compression='gzip')"
   ]
  }
 ],
 "metadata": {
  "kernelspec": {
   "display_name": "Python 3 (ipykernel)",
   "language": "python",
   "name": "python3"
  },
  "language_info": {
   "codemirror_mode": {
    "name": "ipython",
    "version": 3
   },
   "file_extension": ".py",
   "mimetype": "text/x-python",
   "name": "python",
   "nbconvert_exporter": "python",
   "pygments_lexer": "ipython3",
   "version": "3.12.3"
  },
  "papermill": {
   "default_parameters": {},
   "duration": 821.683913,
   "end_time": "2024-07-04T16:57:55.940746",
   "environment_variables": {},
   "exception": null,
   "input_path": "03_labelTransfer_generating_PSEUDOBULKs.ipynb",
   "output_path": "executed_notebooks/03_labelTransfer_generating_PSEUDOBULKs_EXTERNAL_nPC50.ipynb",
   "parameters": {
    "adataPATH_query": "03_downstream_analysis/08_PatientClassifier/scANVI/results/query/scANVI_EXTERNAL_*_50_Level2_*.h5ad",
    "adataPATH_ref": "03_downstream_analysis/08_PatientClassifier/scANVI/results/reference/scANVI_EXTERNAL_*_50_Level2_*.h5ad"
   },
   "start_time": "2024-07-04T16:44:14.256833",
   "version": "2.6.0"
  }
 },
 "nbformat": 4,
 "nbformat_minor": 5
}