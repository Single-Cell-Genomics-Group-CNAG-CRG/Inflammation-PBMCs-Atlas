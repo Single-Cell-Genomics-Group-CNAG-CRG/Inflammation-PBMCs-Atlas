{
 "cells": [
  {
   "cell_type": "code",
   "execution_count": 1,
   "id": "1aed9c91",
   "metadata": {
    "execution": {
     "iopub.execute_input": "2024-07-04T16:43:21.959696Z",
     "iopub.status.busy": "2024-07-04T16:43:21.959294Z",
     "iopub.status.idle": "2024-07-04T16:43:21.962004Z",
     "shell.execute_reply": "2024-07-04T16:43:21.961618Z"
    },
    "papermill": {
     "duration": 0.014221,
     "end_time": "2024-07-04T16:43:21.962818",
     "exception": false,
     "start_time": "2024-07-04T16:43:21.948597",
     "status": "completed"
    },
    "tags": [
     "injected-parameters"
    ]
   },
   "outputs": [],
   "source": [
    "# Parameters\n",
    "adataPATH_ref = \"03_downstream_analysis/08_PatientClassifier/scANVI/results/reference/scANVI_EXTERNAL_*_20_Level2_*.h5ad\"\n",
    "adataPATH_query = \"03_downstream_analysis/08_PatientClassifier/scANVI/results/query/scANVI_EXTERNAL_*_20_Level2_*.h5ad\"\n"
   ]
  },
  {
   "cell_type": "raw",
   "id": "8002b33d-9b20-4bdf-a1a3-acc29d5a0295",
   "metadata": {
    "execution": {
     "iopub.execute_input": "2024-07-04T11:25:09.444596Z",
     "iopub.status.busy": "2024-07-04T11:25:09.444279Z",
     "iopub.status.idle": "2024-07-04T11:25:09.447097Z",
     "shell.execute_reply": "2024-07-04T11:25:09.446732Z",
     "shell.execute_reply.started": "2024-07-04T11:25:09.444579Z"
    },
    "papermill": {
     "duration": 0.007586,
     "end_time": "2024-07-04T16:43:21.977205",
     "exception": false,
     "start_time": "2024-07-04T16:43:21.969619",
     "status": "completed"
    },
    "tags": [],
    "vscode": {
     "languageId": "raw"
    }
   },
   "source": [
    "adataPATH_ref = '03_downstream_analysis/08_PatientClassifier/scANVI/results/reference/scANVI_VALIDATION_256_30_Level2_run1_finetuning.h5ad'\n",
    "adataPATH_query = '03_downstream_analysis/08_PatientClassifier/scANVI/results/query/scANVI_VALIDATION_256_30_Level2_run1_finetuning.h5ad'"
   ]
  },
  {
   "cell_type": "code",
   "execution_count": 2,
   "id": "d3ccb10a-7201-43d0-a593-2b4650ff3451",
   "metadata": {
    "execution": {
     "iopub.execute_input": "2024-07-04T16:43:21.994016Z",
     "iopub.status.busy": "2024-07-04T16:43:21.993878Z",
     "iopub.status.idle": "2024-07-04T16:43:21.996886Z",
     "shell.execute_reply": "2024-07-04T16:43:21.996495Z"
    },
    "papermill": {
     "duration": 0.01154,
     "end_time": "2024-07-04T16:43:21.997666",
     "exception": false,
     "start_time": "2024-07-04T16:43:21.986126",
     "status": "completed"
    },
    "tags": []
   },
   "outputs": [
    {
     "name": "stdout",
     "output_type": "stream",
     "text": [
      "adataPATH_ref = 03_downstream_analysis/08_PatientClassifier/scANVI/results/reference/scANVI_EXTERNAL_*_20_Level2_*.h5ad\n",
      "adataPATH_query = 03_downstream_analysis/08_PatientClassifier/scANVI/results/query/scANVI_EXTERNAL_*_20_Level2_*.h5ad\n"
     ]
    }
   ],
   "source": [
    "for v in ['adataPATH_ref','adataPATH_query']:\n",
    "    if v in locals() or v in globals():\n",
    "        print(f\"{v} = {eval(v)}\")\n",
    "    else:\n",
    "        raise Exception(f\"{v} not specified\")"
   ]
  },
  {
   "cell_type": "code",
   "execution_count": 3,
   "id": "888fb5f4-9ab7-4196-a282-7a7e92a43971",
   "metadata": {
    "execution": {
     "iopub.execute_input": "2024-07-04T16:43:22.024541Z",
     "iopub.status.busy": "2024-07-04T16:43:22.024197Z",
     "iopub.status.idle": "2024-07-04T16:43:29.840596Z",
     "shell.execute_reply": "2024-07-04T16:43:29.840105Z"
    },
    "papermill": {
     "duration": 7.82495,
     "end_time": "2024-07-04T16:43:29.841863",
     "exception": false,
     "start_time": "2024-07-04T16:43:22.016913",
     "status": "completed"
    },
    "tags": []
   },
   "outputs": [],
   "source": [
    "import os\n",
    "import sys\n",
    "from glob import glob\n",
    "\n",
    "import scanpy as sc\n",
    "import pandas as pd\n",
    "\n",
    "import pynndescent\n",
    "import numpy as np\n",
    "import numba\n",
    "\n",
    "from pyprojroot import here\n",
    "\n",
    "sys.path.insert(1, str(here('bin')))\n",
    "# Import custom functions\n",
    "from customPythonFunctions import aggregating_features"
   ]
  },
  {
   "cell_type": "markdown",
   "id": "cc14bdf1-cb35-427d-b868-48480d371ac1",
   "metadata": {
    "papermill": {
     "duration": 0.005991,
     "end_time": "2024-07-04T16:43:29.854454",
     "exception": false,
     "start_time": "2024-07-04T16:43:29.848463",
     "status": "completed"
    },
    "tags": []
   },
   "source": [
    "### Defining kNN label transfer function"
   ]
  },
  {
   "cell_type": "code",
   "execution_count": 4,
   "id": "2cde8870-daf7-4eb9-b1be-d7a700b1876b",
   "metadata": {
    "execution": {
     "iopub.execute_input": "2024-07-04T16:43:29.867201Z",
     "iopub.status.busy": "2024-07-04T16:43:29.866901Z",
     "iopub.status.idle": "2024-07-04T16:43:29.872607Z",
     "shell.execute_reply": "2024-07-04T16:43:29.872231Z"
    },
    "papermill": {
     "duration": 0.01301,
     "end_time": "2024-07-04T16:43:29.873395",
     "exception": false,
     "start_time": "2024-07-04T16:43:29.860385",
     "status": "completed"
    },
    "tags": []
   },
   "outputs": [],
   "source": [
    "class LabelTransferWithKNN:\n",
    "    \"\"\" See https://docs.scvi-tools.org/en/stable/tutorials/notebooks/scrna/query_hlca_knn.html \"\"\"\n",
    "    def fit(self, ref_adata):\n",
    "        self.ref_adata = ref_adata\n",
    "        self.nn_index = pynndescent.NNDescent(self.ref_adata.X)\n",
    "        self.nn_index.prepare()\n",
    "        return self\n",
    "\n",
    "    def predict(self, query_adata, label_keys: list[str] = ['Level1']):\n",
    "\n",
    "        ref_neighbors, ref_distances = self.nn_index.query(query_adata.X)\n",
    "\n",
    "        # convert distances to affinities\n",
    "        stds = np.std(ref_distances, axis=1)\n",
    "        stds = (2.0 / stds) ** 2\n",
    "        stds = stds.reshape(-1, 1)\n",
    "        ref_distances_tilda = np.exp(-np.true_divide(ref_distances, stds))\n",
    "        weights = ref_distances_tilda / np.sum(ref_distances_tilda, axis=1, keepdims=True)\n",
    "\n",
    "        for l in label_keys:\n",
    "            ref_cats = self.ref_adata.obs[l].cat.codes.to_numpy()[ref_neighbors]\n",
    "            p, u = self.weighted_prediction(weights, ref_cats)\n",
    "            p = np.asarray(self.ref_adata.obs[l].cat.categories)[p]\n",
    "            query_adata.obs[l + \"_pred\"], query_adata.obs[l + \"_uncertainty\"] = p, u\n",
    "        \n",
    "        return query_adata\n",
    "    \n",
    "    @staticmethod\n",
    "    @numba.njit\n",
    "    def weighted_prediction(weights, ref_cats):\n",
    "        \"\"\"Get highest weight category.\"\"\"\n",
    "        N = len(weights)\n",
    "        predictions = np.zeros((N,), dtype=ref_cats.dtype)\n",
    "        uncertainty = np.zeros((N,))\n",
    "        for i in range(N):\n",
    "            obs_weights = weights[i]\n",
    "            obs_cats = ref_cats[i]\n",
    "            best_prob = 0\n",
    "            for c in np.unique(obs_cats):\n",
    "                cand_prob = np.sum(obs_weights[obs_cats == c])\n",
    "                if cand_prob > best_prob:\n",
    "                    best_prob = cand_prob\n",
    "                    predictions[i] = c\n",
    "                    uncertainty[i] = max(1 - best_prob, 0)\n",
    "\n",
    "        return predictions, uncertainty"
   ]
  },
  {
   "cell_type": "markdown",
   "id": "ba4905ae-4546-4ef4-b57b-950441ab079d",
   "metadata": {
    "papermill": {
     "duration": 0.005903,
     "end_time": "2024-07-04T16:43:29.885066",
     "exception": false,
     "start_time": "2024-07-04T16:43:29.879163",
     "status": "completed"
    },
    "tags": []
   },
   "source": [
    "### Loading data"
   ]
  },
  {
   "cell_type": "code",
   "execution_count": 5,
   "id": "539cbbbb-3503-4f51-bf04-f007f928ebd1",
   "metadata": {
    "execution": {
     "iopub.execute_input": "2024-07-04T16:43:29.897672Z",
     "iopub.status.busy": "2024-07-04T16:43:29.897396Z",
     "iopub.status.idle": "2024-07-04T16:43:29.921345Z",
     "shell.execute_reply": "2024-07-04T16:43:29.920942Z"
    },
    "papermill": {
     "duration": 0.031511,
     "end_time": "2024-07-04T16:43:29.922240",
     "exception": false,
     "start_time": "2024-07-04T16:43:29.890729",
     "status": "completed"
    },
    "tags": []
   },
   "outputs": [],
   "source": [
    "adataPATH_ref\n",
    "adataPATH_ref_list = glob(str(here(adataPATH_ref)))\n",
    "assert(len(adataPATH_ref_list) == 1)\n",
    "\n",
    "adataPATH_query\n",
    "adataPATH_query_list = glob(str(here(adataPATH_query)))\n",
    "assert(len(adataPATH_query_list) == 1)"
   ]
  },
  {
   "cell_type": "code",
   "execution_count": 6,
   "id": "0fcfce0a-896b-4dc0-8e5e-46749205c84f",
   "metadata": {
    "execution": {
     "iopub.execute_input": "2024-07-04T16:43:29.935068Z",
     "iopub.status.busy": "2024-07-04T16:43:29.934798Z",
     "iopub.status.idle": "2024-07-04T16:43:41.151434Z",
     "shell.execute_reply": "2024-07-04T16:43:41.151003Z"
    },
    "papermill": {
     "duration": 11.22373,
     "end_time": "2024-07-04T16:43:41.152350",
     "exception": false,
     "start_time": "2024-07-04T16:43:29.928620",
     "status": "completed"
    },
    "tags": []
   },
   "outputs": [
    {
     "data": {
      "text/plain": [
       "(AnnData object with n_obs × n_vars = 4435922 × 20\n",
       "     obs: 'studyID', 'libraryID', 'sampleID', 'chemistry', 'disease', 'sex', 'binned_age', 'Level1', 'Level2', '_scvi_batch', '_scvi_labels',\n",
       " AnnData object with n_obs × n_vars = 572872 × 20\n",
       "     obs: 'studyID', 'libraryID', 'sampleID', 'chemistry', 'technology', 'disease', 'sex', 'binned_age', '_scvi_batch', 'Level2', '_scvi_labels', 'labels')"
      ]
     },
     "execution_count": 6,
     "metadata": {},
     "output_type": "execute_result"
    }
   ],
   "source": [
    "adataR = sc.read_h5ad(adataPATH_ref_list[0])\n",
    "adataQ = sc.read_h5ad(adataPATH_query_list[0])\n",
    "adataR, adataQ"
   ]
  },
  {
   "cell_type": "code",
   "execution_count": 7,
   "id": "43363d5e-2643-4002-8905-e3c99124c70b",
   "metadata": {
    "execution": {
     "iopub.execute_input": "2024-07-04T16:43:41.166669Z",
     "iopub.status.busy": "2024-07-04T16:43:41.166355Z",
     "iopub.status.idle": "2024-07-04T16:43:43.085786Z",
     "shell.execute_reply": "2024-07-04T16:43:43.085268Z"
    },
    "papermill": {
     "duration": 1.927386,
     "end_time": "2024-07-04T16:43:43.086978",
     "exception": false,
     "start_time": "2024-07-04T16:43:41.159592",
     "status": "completed"
    },
    "tags": []
   },
   "outputs": [],
   "source": [
    "Level1_dict = adataR.obs[['Level1','Level2']].set_index('Level2').to_dict()['Level1']"
   ]
  },
  {
   "cell_type": "code",
   "execution_count": 8,
   "id": "0d286575-96c1-4146-b6d5-faab19d5a7ba",
   "metadata": {
    "execution": {
     "iopub.execute_input": "2024-07-04T16:43:43.100932Z",
     "iopub.status.busy": "2024-07-04T16:43:43.100596Z",
     "iopub.status.idle": "2024-07-04T16:43:43.113601Z",
     "shell.execute_reply": "2024-07-04T16:43:43.113171Z"
    },
    "papermill": {
     "duration": 0.020778,
     "end_time": "2024-07-04T16:43:43.114514",
     "exception": false,
     "start_time": "2024-07-04T16:43:43.093736",
     "status": "completed"
    },
    "tags": []
   },
   "outputs": [],
   "source": [
    "adataQ.obs['Level1_scANVIpredict'] = adataQ.obs['labels'].map(Level1_dict)"
   ]
  },
  {
   "cell_type": "code",
   "execution_count": 9,
   "id": "83ea89fd-965e-4c2c-bcd9-7467a6a78cd0",
   "metadata": {
    "execution": {
     "iopub.execute_input": "2024-07-04T16:43:43.127436Z",
     "iopub.status.busy": "2024-07-04T16:43:43.127207Z",
     "iopub.status.idle": "2024-07-04T16:43:43.154960Z",
     "shell.execute_reply": "2024-07-04T16:43:43.154578Z"
    },
    "papermill": {
     "duration": 0.034972,
     "end_time": "2024-07-04T16:43:43.155743",
     "exception": false,
     "start_time": "2024-07-04T16:43:43.120771",
     "status": "completed"
    },
    "tags": []
   },
   "outputs": [
    {
     "data": {
      "text/plain": [
       "Level1_scANVIpredict\n",
       "Mono              0.240677\n",
       "T_CD4_NonNaive    0.204922\n",
       "T_CD4_Naive       0.175290\n",
       "T_CD8_NonNaive    0.116323\n",
       "B                 0.079815\n",
       "ILC               0.071140\n",
       "T_CD8_Naive       0.064102\n",
       "UTC               0.022443\n",
       "Platelets         0.011985\n",
       "DC                0.006115\n",
       "pDC               0.004041\n",
       "Cycling_cells     0.002362\n",
       "RBC               0.000529\n",
       "Plasma            0.000244\n",
       "Progenitors       0.000012\n",
       "Name: proportion, dtype: float64"
      ]
     },
     "execution_count": 9,
     "metadata": {},
     "output_type": "execute_result"
    }
   ],
   "source": [
    "adataQ.obs['Level1_scANVIpredict'].value_counts(normalize = True)"
   ]
  },
  {
   "cell_type": "markdown",
   "id": "bab4753e-78c0-40b9-9361-d94b9804e924",
   "metadata": {
    "papermill": {
     "duration": 0.00621,
     "end_time": "2024-07-04T16:43:43.167906",
     "exception": false,
     "start_time": "2024-07-04T16:43:43.161696",
     "status": "completed"
    },
    "tags": []
   },
   "source": [
    "#### Label transfer with kNN"
   ]
  },
  {
   "cell_type": "code",
   "execution_count": 10,
   "id": "785cca0e-9f6f-48c3-825a-84ea8360e0fb",
   "metadata": {
    "execution": {
     "iopub.execute_input": "2024-07-04T16:43:43.181015Z",
     "iopub.status.busy": "2024-07-04T16:43:43.180504Z",
     "iopub.status.idle": "2024-07-04T16:55:17.236496Z",
     "shell.execute_reply": "2024-07-04T16:55:17.235988Z"
    },
    "papermill": {
     "duration": 694.063927,
     "end_time": "2024-07-04T16:55:17.237821",
     "exception": false,
     "start_time": "2024-07-04T16:43:43.173894",
     "status": "completed"
    },
    "tags": []
   },
   "outputs": [],
   "source": [
    "kNNclf = LabelTransferWithKNN().fit(adataR)"
   ]
  },
  {
   "cell_type": "code",
   "execution_count": 11,
   "id": "08b14276-ec7c-4061-8ad1-ed986c122dc9",
   "metadata": {
    "execution": {
     "iopub.execute_input": "2024-07-04T16:55:17.252318Z",
     "iopub.status.busy": "2024-07-04T16:55:17.252004Z",
     "iopub.status.idle": "2024-07-04T16:55:40.225935Z",
     "shell.execute_reply": "2024-07-04T16:55:40.225473Z"
    },
    "papermill": {
     "duration": 22.98189,
     "end_time": "2024-07-04T16:55:40.226809",
     "exception": false,
     "start_time": "2024-07-04T16:55:17.244919",
     "status": "completed"
    },
    "tags": []
   },
   "outputs": [
    {
     "data": {
      "text/plain": [
       "AnnData object with n_obs × n_vars = 572872 × 20\n",
       "    obs: 'studyID', 'libraryID', 'sampleID', 'chemistry', 'technology', 'disease', 'sex', 'binned_age', '_scvi_batch', 'Level2', '_scvi_labels', 'labels', 'Level1_scANVIpredict', 'Level1_pred', 'Level1_uncertainty'"
      ]
     },
     "execution_count": 11,
     "metadata": {},
     "output_type": "execute_result"
    }
   ],
   "source": [
    "adataQ = kNNclf.predict(query_adata = adataQ, label_keys = ['Level1'])\n",
    "adataQ"
   ]
  },
  {
   "cell_type": "code",
   "execution_count": 12,
   "id": "80b6736a-789a-4137-aa90-bfb74f2323c4",
   "metadata": {
    "execution": {
     "iopub.execute_input": "2024-07-04T16:55:40.258321Z",
     "iopub.status.busy": "2024-07-04T16:55:40.257884Z",
     "iopub.status.idle": "2024-07-04T16:55:40.262343Z",
     "shell.execute_reply": "2024-07-04T16:55:40.261938Z"
    },
    "papermill": {
     "duration": 0.015814,
     "end_time": "2024-07-04T16:55:40.263145",
     "exception": false,
     "start_time": "2024-07-04T16:55:40.247331",
     "status": "completed"
    },
    "tags": []
   },
   "outputs": [],
   "source": [
    "adataQ.obs['Level1_kNN_pred'] = adataQ.obs['Level1_pred']"
   ]
  },
  {
   "cell_type": "code",
   "execution_count": 13,
   "id": "f3f04f12-1058-46b0-95c8-8c8670bd40b2",
   "metadata": {
    "execution": {
     "iopub.execute_input": "2024-07-04T16:55:40.281246Z",
     "iopub.status.busy": "2024-07-04T16:55:40.280935Z",
     "iopub.status.idle": "2024-07-04T16:55:40.308267Z",
     "shell.execute_reply": "2024-07-04T16:55:40.307899Z"
    },
    "papermill": {
     "duration": 0.039905,
     "end_time": "2024-07-04T16:55:40.309084",
     "exception": false,
     "start_time": "2024-07-04T16:55:40.269179",
     "status": "completed"
    },
    "tags": []
   },
   "outputs": [
    {
     "data": {
      "text/plain": [
       "Level1_kNN_pred\n",
       "Mono              0.232130\n",
       "T_CD4_Naive       0.199856\n",
       "T_CD4_NonNaive    0.178396\n",
       "T_CD8_NonNaive    0.109031\n",
       "B                 0.079255\n",
       "ILC               0.069593\n",
       "T_CD8_Naive       0.060013\n",
       "UTC               0.027174\n",
       "Platelets         0.023136\n",
       "DC                0.009026\n",
       "Cycling_cells     0.004608\n",
       "pDC               0.004383\n",
       "Progenitors       0.001316\n",
       "Plasma            0.001273\n",
       "RBC               0.000808\n",
       "Name: proportion, dtype: float64"
      ]
     },
     "execution_count": 13,
     "metadata": {},
     "output_type": "execute_result"
    }
   ],
   "source": [
    "adataQ.obs['Level1_kNN_pred'].value_counts(normalize = True)"
   ]
  },
  {
   "cell_type": "code",
   "execution_count": 14,
   "id": "c1dc4c3a-30b8-45e2-8ed2-f89bd913523e",
   "metadata": {
    "execution": {
     "iopub.execute_input": "2024-07-04T16:55:40.342333Z",
     "iopub.status.busy": "2024-07-04T16:55:40.342021Z",
     "iopub.status.idle": "2024-07-04T16:55:40.401552Z",
     "shell.execute_reply": "2024-07-04T16:55:40.401101Z"
    },
    "papermill": {
     "duration": 0.06876,
     "end_time": "2024-07-04T16:55:40.402353",
     "exception": false,
     "start_time": "2024-07-04T16:55:40.333593",
     "status": "completed"
    },
    "tags": []
   },
   "outputs": [],
   "source": [
    "from sklearn.metrics import adjusted_rand_score as ari"
   ]
  },
  {
   "cell_type": "code",
   "execution_count": 15,
   "id": "ff6d5cbd-e8bc-4f7f-af89-f5dc0675500b",
   "metadata": {
    "execution": {
     "iopub.execute_input": "2024-07-04T16:55:40.417178Z",
     "iopub.status.busy": "2024-07-04T16:55:40.416696Z",
     "iopub.status.idle": "2024-07-04T16:55:41.326955Z",
     "shell.execute_reply": "2024-07-04T16:55:41.326506Z"
    },
    "papermill": {
     "duration": 0.918575,
     "end_time": "2024-07-04T16:55:41.327817",
     "exception": false,
     "start_time": "2024-07-04T16:55:40.409242",
     "status": "completed"
    },
    "tags": []
   },
   "outputs": [
    {
     "data": {
      "text/plain": [
       "0.843109715968182"
      ]
     },
     "execution_count": 15,
     "metadata": {},
     "output_type": "execute_result"
    }
   ],
   "source": [
    "ari(adataQ.obs['Level1_kNN_pred'],adataQ.obs['Level1_scANVIpredict'])"
   ]
  },
  {
   "cell_type": "markdown",
   "id": "44e868b3-0771-4225-bd79-a4b179bc672b",
   "metadata": {
    "papermill": {
     "duration": 0.008403,
     "end_time": "2024-07-04T16:55:41.344887",
     "exception": false,
     "start_time": "2024-07-04T16:55:41.336484",
     "status": "completed"
    },
    "tags": []
   },
   "source": [
    "#### Generating PSEUDOBULKs"
   ]
  },
  {
   "cell_type": "code",
   "execution_count": 16,
   "id": "81223976-fcf6-4354-8964-b12d76468636",
   "metadata": {
    "execution": {
     "iopub.execute_input": "2024-07-04T16:55:41.373657Z",
     "iopub.status.busy": "2024-07-04T16:55:41.373345Z",
     "iopub.status.idle": "2024-07-04T16:55:43.058119Z",
     "shell.execute_reply": "2024-07-04T16:55:43.057660Z"
    },
    "papermill": {
     "duration": 1.693439,
     "end_time": "2024-07-04T16:55:43.058979",
     "exception": false,
     "start_time": "2024-07-04T16:55:41.365540",
     "status": "completed"
    },
    "tags": []
   },
   "outputs": [
    {
     "data": {
      "text/plain": [
       "AnnData object with n_obs × n_vars = 11372 × 20\n",
       "    obs: 'sampleID', 'Level1', 'disease', 'n_observation'"
      ]
     },
     "execution_count": 16,
     "metadata": {},
     "output_type": "execute_result"
    }
   ],
   "source": [
    "adataPB_R = aggregating_features(Z = adataR.X, \n",
    "                             obsDF = adataR.obs[['sampleID','Level1','disease']], \n",
    "                             mode = 'mean', \n",
    "                             obs_names_col=['sampleID','Level1'], \n",
    "                             min_observation=0)\n",
    "adataPB_R"
   ]
  },
  {
   "cell_type": "markdown",
   "id": "97d09fc5-d05c-471e-87fa-fe58ccbe47ac",
   "metadata": {
    "papermill": {
     "duration": 0.007213,
     "end_time": "2024-07-04T16:55:43.073674",
     "exception": false,
     "start_time": "2024-07-04T16:55:43.066461",
     "status": "completed"
    },
    "tags": []
   },
   "source": [
    "**Considering scANVI predicted labels**"
   ]
  },
  {
   "cell_type": "code",
   "execution_count": 17,
   "id": "8a64ad2e-561b-48a2-a48f-5fc1b9f567aa",
   "metadata": {
    "execution": {
     "iopub.execute_input": "2024-07-04T16:55:43.088546Z",
     "iopub.status.busy": "2024-07-04T16:55:43.088274Z",
     "iopub.status.idle": "2024-07-04T16:55:43.301202Z",
     "shell.execute_reply": "2024-07-04T16:55:43.300768Z"
    },
    "papermill": {
     "duration": 0.221218,
     "end_time": "2024-07-04T16:55:43.302038",
     "exception": false,
     "start_time": "2024-07-04T16:55:43.080820",
     "status": "completed"
    },
    "tags": []
   },
   "outputs": [
    {
     "data": {
      "text/plain": [
       "AnnData object with n_obs × n_vars = 1083 × 20\n",
       "    obs: 'sampleID', 'Level1', 'disease', 'n_observation'"
      ]
     },
     "execution_count": 17,
     "metadata": {},
     "output_type": "execute_result"
    }
   ],
   "source": [
    "adataPB_Q_scANVI = aggregating_features(Z = adataQ.X, \n",
    "                             obsDF = adataQ.obs[['sampleID','Level1_scANVIpredict','disease']], \n",
    "                             mode = 'mean', \n",
    "                             obs_names_col=['sampleID','Level1_scANVIpredict'], \n",
    "                             min_observation=0)\n",
    "\n",
    "adataPB_Q_scANVI.obs.rename({'Level1_scANVIpredict':'Level1'}, axis=1, inplace=True)\n",
    "adataPB_Q_scANVI"
   ]
  },
  {
   "cell_type": "code",
   "execution_count": 18,
   "id": "5c0db4a4-2016-4e00-bc54-9bcead35b4da",
   "metadata": {
    "execution": {
     "iopub.execute_input": "2024-07-04T16:55:43.320190Z",
     "iopub.status.busy": "2024-07-04T16:55:43.319879Z",
     "iopub.status.idle": "2024-07-04T16:55:43.323789Z",
     "shell.execute_reply": "2024-07-04T16:55:43.323424Z"
    },
    "papermill": {
     "duration": 0.014717,
     "end_time": "2024-07-04T16:55:43.324558",
     "exception": false,
     "start_time": "2024-07-04T16:55:43.309841",
     "status": "completed"
    },
    "tags": []
   },
   "outputs": [
    {
     "data": {
      "text/plain": [
       "Level1\n",
       "B                 86\n",
       "ILC               86\n",
       "Mono              86\n",
       "Platelets         86\n",
       "T_CD4_Naive       86\n",
       "T_CD4_NonNaive    86\n",
       "T_CD8_Naive       86\n",
       "T_CD8_NonNaive    86\n",
       "UTC               85\n",
       "DC                82\n",
       "Cycling_cells     80\n",
       "pDC               77\n",
       "Plasma            49\n",
       "RBC               15\n",
       "Progenitors        7\n",
       "Name: count, dtype: int64"
      ]
     },
     "execution_count": 18,
     "metadata": {},
     "output_type": "execute_result"
    }
   ],
   "source": [
    "adataPB_Q_scANVI.obs.Level1.value_counts()"
   ]
  },
  {
   "cell_type": "markdown",
   "id": "6ccd375e-bb4a-47bd-afbb-4399f9fe93bb",
   "metadata": {
    "papermill": {
     "duration": 0.00777,
     "end_time": "2024-07-04T16:55:43.340396",
     "exception": false,
     "start_time": "2024-07-04T16:55:43.332626",
     "status": "completed"
    },
    "tags": []
   },
   "source": [
    "**Considering labels transferred with kNN**"
   ]
  },
  {
   "cell_type": "code",
   "execution_count": 19,
   "id": "0d234e2f",
   "metadata": {
    "execution": {
     "iopub.execute_input": "2024-07-04T16:55:43.355632Z",
     "iopub.status.busy": "2024-07-04T16:55:43.355325Z",
     "iopub.status.idle": "2024-07-04T16:55:43.569940Z",
     "shell.execute_reply": "2024-07-04T16:55:43.569503Z"
    },
    "papermill": {
     "duration": 0.223562,
     "end_time": "2024-07-04T16:55:43.570771",
     "exception": false,
     "start_time": "2024-07-04T16:55:43.347209",
     "status": "completed"
    },
    "tags": []
   },
   "outputs": [
    {
     "data": {
      "text/plain": [
       "AnnData object with n_obs × n_vars = 1219 × 20\n",
       "    obs: 'sampleID', 'Level1', 'disease', 'n_observation'"
      ]
     },
     "execution_count": 19,
     "metadata": {},
     "output_type": "execute_result"
    }
   ],
   "source": [
    "adataPB_Q_kNN = aggregating_features(Z = adataQ.X, \n",
    "                             obsDF = adataQ.obs[['sampleID','Level1_kNN_pred','disease']], \n",
    "                             mode = 'mean', \n",
    "                             obs_names_col=['sampleID','Level1_kNN_pred'], \n",
    "                             min_observation=0)\n",
    "adataPB_Q_kNN.obs.rename({'Level1_kNN_pred':'Level1'}, axis=1, inplace=True)\n",
    "adataPB_Q_kNN"
   ]
  },
  {
   "cell_type": "code",
   "execution_count": 20,
   "id": "51f78e87-ebdb-4095-af60-e5c5bb297b33",
   "metadata": {
    "execution": {
     "iopub.execute_input": "2024-07-04T16:55:43.586072Z",
     "iopub.status.busy": "2024-07-04T16:55:43.585647Z",
     "iopub.status.idle": "2024-07-04T16:55:43.589511Z",
     "shell.execute_reply": "2024-07-04T16:55:43.589155Z"
    },
    "papermill": {
     "duration": 0.012218,
     "end_time": "2024-07-04T16:55:43.590345",
     "exception": false,
     "start_time": "2024-07-04T16:55:43.578127",
     "status": "completed"
    },
    "tags": []
   },
   "outputs": [
    {
     "data": {
      "text/plain": [
       "Level1\n",
       "B                 86\n",
       "DC                86\n",
       "ILC               86\n",
       "Mono              86\n",
       "Platelets         86\n",
       "T_CD4_Naive       86\n",
       "T_CD4_NonNaive    86\n",
       "T_CD8_Naive       86\n",
       "T_CD8_NonNaive    86\n",
       "UTC               86\n",
       "Cycling_cells     85\n",
       "Plasma            82\n",
       "Progenitors       82\n",
       "pDC               79\n",
       "RBC               31\n",
       "Name: count, dtype: int64"
      ]
     },
     "execution_count": 20,
     "metadata": {},
     "output_type": "execute_result"
    }
   ],
   "source": [
    "adataPB_Q_kNN.obs.Level1.value_counts()"
   ]
  },
  {
   "cell_type": "markdown",
   "id": "d59574be-684b-4082-b8b6-7d11930362ad",
   "metadata": {
    "papermill": {
     "duration": 0.00701,
     "end_time": "2024-07-04T16:55:43.604626",
     "exception": false,
     "start_time": "2024-07-04T16:55:43.597616",
     "status": "completed"
    },
    "tags": []
   },
   "source": [
    "### Saving pseudobulk adata objects"
   ]
  },
  {
   "cell_type": "code",
   "execution_count": 21,
   "id": "3ce1c9f0-1868-4854-b610-4c85581409c6",
   "metadata": {
    "execution": {
     "iopub.execute_input": "2024-07-04T16:55:43.621572Z",
     "iopub.status.busy": "2024-07-04T16:55:43.621175Z",
     "iopub.status.idle": "2024-07-04T16:55:43.624031Z",
     "shell.execute_reply": "2024-07-04T16:55:43.623673Z"
    },
    "papermill": {
     "duration": 0.012056,
     "end_time": "2024-07-04T16:55:43.624807",
     "exception": false,
     "start_time": "2024-07-04T16:55:43.612751",
     "status": "completed"
    },
    "tags": []
   },
   "outputs": [
    {
     "data": {
      "text/plain": [
       "'/scratch_isilon/groups/singlecell/shared/projects/Inflammation-PBMCs-Atlas/03_downstream_analysis/08_PatientClassifier/scANVI/results/reference/scANVI_EXTERNAL_256_20_Level2_run2_finetuning.h5ad'"
      ]
     },
     "execution_count": 21,
     "metadata": {},
     "output_type": "execute_result"
    }
   ],
   "source": [
    "adataPATH_ref_list[0]"
   ]
  },
  {
   "cell_type": "code",
   "execution_count": 22,
   "id": "88f795a3-ab63-436d-a149-5bc18499537d",
   "metadata": {
    "execution": {
     "iopub.execute_input": "2024-07-04T16:55:43.640086Z",
     "iopub.status.busy": "2024-07-04T16:55:43.639952Z",
     "iopub.status.idle": "2024-07-04T16:55:43.642636Z",
     "shell.execute_reply": "2024-07-04T16:55:43.642292Z"
    },
    "papermill": {
     "duration": 0.011392,
     "end_time": "2024-07-04T16:55:43.643407",
     "exception": false,
     "start_time": "2024-07-04T16:55:43.632015",
     "status": "completed"
    },
    "tags": []
   },
   "outputs": [
    {
     "data": {
      "text/plain": [
       "'/scratch_isilon/groups/singlecell/shared/projects/Inflammation-PBMCs-Atlas/03_downstream_analysis/08_PatientClassifier/scANVI/results/PSEUDOBULKs/scANVI_PSEUDOBULK_reference_EXTERNAL_256_20_Level2_run2_finetuning.h5ad'"
      ]
     },
     "execution_count": 22,
     "metadata": {},
     "output_type": "execute_result"
    }
   ],
   "source": [
    "adataPATH_ref_list[0].replace('/reference/scANVI_','/PSEUDOBULKs/scANVI_PSEUDOBULK_reference_')"
   ]
  },
  {
   "cell_type": "code",
   "execution_count": 23,
   "id": "5947e6f8-ac27-4702-ba5d-aa9e1ba79f6a",
   "metadata": {
    "execution": {
     "iopub.execute_input": "2024-07-04T16:55:43.673881Z",
     "iopub.status.busy": "2024-07-04T16:55:43.673727Z",
     "iopub.status.idle": "2024-07-04T16:55:43.854669Z",
     "shell.execute_reply": "2024-07-04T16:55:43.854207Z"
    },
    "papermill": {
     "duration": 0.189606,
     "end_time": "2024-07-04T16:55:43.855523",
     "exception": false,
     "start_time": "2024-07-04T16:55:43.665917",
     "status": "completed"
    },
    "tags": []
   },
   "outputs": [],
   "source": [
    "adataPB_R.write(here(adataPATH_ref_list[0].replace('/reference/scANVI_','/PSEUDOBULKs/scANVI_PSEUDOBULK_reference_')), compression='gzip')"
   ]
  },
  {
   "cell_type": "code",
   "execution_count": 24,
   "id": "8a70d9f6-7a44-45ee-8470-702bd7af1e0b",
   "metadata": {
    "execution": {
     "iopub.execute_input": "2024-07-04T16:55:43.875334Z",
     "iopub.status.busy": "2024-07-04T16:55:43.875184Z",
     "iopub.status.idle": "2024-07-04T16:55:43.907527Z",
     "shell.execute_reply": "2024-07-04T16:55:43.907126Z"
    },
    "papermill": {
     "duration": 0.041496,
     "end_time": "2024-07-04T16:55:43.908340",
     "exception": false,
     "start_time": "2024-07-04T16:55:43.866844",
     "status": "completed"
    },
    "tags": []
   },
   "outputs": [],
   "source": [
    "adataPB_Q_scANVI.write(here(adataPATH_query_list[0].replace('/query/scANVI_','/PSEUDOBULKs/scANVI_PSEUDOBULK_query_')), compression='gzip')"
   ]
  },
  {
   "cell_type": "code",
   "execution_count": 25,
   "id": "19305819",
   "metadata": {
    "execution": {
     "iopub.execute_input": "2024-07-04T16:55:43.942188Z",
     "iopub.status.busy": "2024-07-04T16:55:43.942044Z",
     "iopub.status.idle": "2024-07-04T16:55:43.971721Z",
     "shell.execute_reply": "2024-07-04T16:55:43.971335Z"
    },
    "papermill": {
     "duration": 0.039987,
     "end_time": "2024-07-04T16:55:43.972551",
     "exception": false,
     "start_time": "2024-07-04T16:55:43.932564",
     "status": "completed"
    },
    "tags": []
   },
   "outputs": [],
   "source": [
    "adataPB_Q_kNN.write(here(adataPATH_query_list[0].replace('/query/scANVI_','/PSEUDOBULKs/scANVI_PSEUDOBULK_kNN_query_')), compression='gzip')"
   ]
  }
 ],
 "metadata": {
  "kernelspec": {
   "display_name": "Python 3 (ipykernel)",
   "language": "python",
   "name": "python3"
  },
  "language_info": {
   "codemirror_mode": {
    "name": "ipython",
    "version": 3
   },
   "file_extension": ".py",
   "mimetype": "text/x-python",
   "name": "python",
   "nbconvert_exporter": "python",
   "pygments_lexer": "ipython3",
   "version": "3.12.3"
  },
  "papermill": {
   "default_parameters": {},
   "duration": 745.625044,
   "end_time": "2024-07-04T16:55:45.298630",
   "environment_variables": {},
   "exception": null,
   "input_path": "03_labelTransfer_generating_PSEUDOBULKs.ipynb",
   "output_path": "executed_notebooks/03_labelTransfer_generating_PSEUDOBULKs_EXTERNAL_nPC20.ipynb",
   "parameters": {
    "adataPATH_query": "03_downstream_analysis/08_PatientClassifier/scANVI/results/query/scANVI_EXTERNAL_*_20_Level2_*.h5ad",
    "adataPATH_ref": "03_downstream_analysis/08_PatientClassifier/scANVI/results/reference/scANVI_EXTERNAL_*_20_Level2_*.h5ad"
   },
   "start_time": "2024-07-04T16:43:19.673586",
   "version": "2.6.0"
  }
 },
 "nbformat": 4,
 "nbformat_minor": 5
}