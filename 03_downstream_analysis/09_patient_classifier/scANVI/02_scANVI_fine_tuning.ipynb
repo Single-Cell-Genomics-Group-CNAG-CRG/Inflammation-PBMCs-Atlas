{
 "cells": [
  {
   "cell_type": "code",
   "execution_count": null,
   "metadata": {
    "tags": [
     "parameters"
    ]
   },
   "outputs": [],
   "source": [
    "SCANVI_ID: str = '256_30_Level1_run1'\n",
    "BUCKET_DIRPATH: str\n",
    "REF_NAME: str = \"MAIN\""
   ]
  },
  {
   "cell_type": "code",
   "execution_count": 10,
   "metadata": {},
   "outputs": [
    {
     "name": "stderr",
     "output_type": "stream",
     "text": [
      "WARNING:root:In order to use the mouse gastrulation seqFISH datsets, please install squidpy (see https://github.com/scverse/squidpy).\n",
      "WARNING:root:In order to use sagenet models, please install pytorch geometric (see https://pytorch-geometric.readthedocs.io) and \n",
      " captum (see https://github.com/pytorch/captum).\n",
      "WARNING:root:mvTCR is not installed. To use mvTCR models, please install it first using \"pip install mvtcr\"\n",
      "WARNING:root:multigrate is not installed. To use multigrate models, please install it first using \"pip install multigrate\".\n"
     ]
    }
   ],
   "source": [
    "import scarches as sca\n",
    "import scvi\n",
    "scvi.settings.dl_num_workers = 0\n",
    "import pickle as pkl\n",
    "import scvi\n",
    "import scanpy as sc\n",
    "import os\n",
    "import numpy as np\n",
    "from dotenv import load_dotenv\n",
    "from lightning.pytorch.loggers import WandbLogger"
   ]
  },
  {
   "cell_type": "code",
   "execution_count": null,
   "metadata": {},
   "outputs": [],
   "source": [
    "assert load_dotenv()"
   ]
  },
  {
   "cell_type": "code",
   "execution_count": null,
   "metadata": {},
   "outputs": [],
   "source": [
    "def here(fpath):\n",
    "    return os.path.join(BUCKET_DIRPATH, fpath)"
   ]
  },
  {
   "cell_type": "code",
   "execution_count": null,
   "metadata": {},
   "outputs": [],
   "source": [
    "overwriteData = True"
   ]
  },
  {
   "cell_type": "code",
   "execution_count": null,
   "metadata": {},
   "outputs": [],
   "source": [
    "# Load the h5ad file\n",
    "adata_path = '04_MAIN_geneUniverse.h5ad'\n",
    "reference_adata = sc.read_h5ad(adata_path)"
   ]
  },
  {
   "cell_type": "code",
   "execution_count": null,
   "metadata": {},
   "outputs": [],
   "source": [
    "if 'SPLIT' in REF_NAME:\n",
    "    fold_idx = int(REF_NAME.split('_')[1])\n",
    "    print(fold_idx)\n",
    "    with open(here('03_Downstream_Analysis/PatientClassifier/5foldCV/data/K_FOLD_cellID.pkl'), 'rb') as f:\n",
    "        splits = pkl.load(f)\n",
    "    train_idx, _ = splits[fold_idx]\n",
    "    reference_adata = reference_adata[train_idx].copy()"
   ]
  },
  {
   "cell_type": "code",
   "execution_count": null,
   "metadata": {},
   "outputs": [],
   "source": [
    "reference_adata"
   ]
  },
  {
   "cell_type": "code",
   "execution_count": null,
   "metadata": {},
   "outputs": [],
   "source": [
    "scvi_model = scvi.model.SCVI.load(here(f\"03_Downstream_Analysis/PatientClassifier/scANVI/results/01_reference/scANVI_{SCANVI_ID}\"), adata=reference_adata)\n",
    "scanvi_model = scvi.model.SCANVI.from_scvi_model(scvi_model, unlabeled_category = \"Unknown\")"
   ]
  },
  {
   "cell_type": "code",
   "execution_count": null,
   "metadata": {},
   "outputs": [],
   "source": [
    "scvi_parameter_dict = {}\n",
    "trainer_kwargs = dict(\n",
    "    checkpointing_monitor = 'elbo_validation',\n",
    "    early_stopping_monitor = 'reconstruction_loss_validation',\n",
    "    early_stopping_patience = 2,\n",
    "    early_stopping = True,\n",
    "    max_epochs = 100,\n",
    "    batch_size = 128\n",
    ")\n",
    "\n",
    "plan_kwargs = dict(\n",
    "    lr = 1e-4,\n",
    "    #reduce_lr_on_plateau = True\n",
    ")\n",
    "\n",
    "scvi_parameter_dict.update(trainer_kwargs)\n",
    "scvi_parameter_dict.update(plan_kwargs)"
   ]
  },
  {
   "cell_type": "code",
   "execution_count": null,
   "metadata": {},
   "outputs": [],
   "source": [
    "logger = WandbLogger(\n",
    "    project='inflammation_atlas_PatientClassifier_scANVI', \n",
    "    entity='inflammation',\n",
    "    config=scvi_parameter_dict,\n",
    "    name = f'scANVI_finetuning_{REF_NAME}_{SCANVI_ID}',\n",
    ")"
   ]
  },
  {
   "cell_type": "code",
   "execution_count": null,
   "metadata": {},
   "outputs": [],
   "source": [
    "scanvi_model.train(\n",
    "    logger=logger,\n",
    "    plan_kwargs=plan_kwargs,\n",
    "    **trainer_kwargs\n",
    ")"
   ]
  },
  {
   "cell_type": "code",
   "execution_count": null,
   "metadata": {},
   "outputs": [],
   "source": [
    "if overwriteData:\n",
    "    scanvi_model.save(\n",
    "        here(f\"03_Downstream_Analysis/PatientClassifier/scANVI/results/012_fine_tuning/models/scANVI_{SCANVI_ID}_finetuning\"), \n",
    "        overwrite = True,\n",
    "        save_anndata = False)"
   ]
  }
 ],
 "metadata": {
  "kernelspec": {
   "display_name": "Python 3 (ipykernel)",
   "language": "python",
   "name": "python3"
  },
  "language_info": {
   "codemirror_mode": {
    "name": "ipython",
    "version": 3
   },
   "file_extension": ".py",
   "mimetype": "text/x-python",
   "name": "python",
   "nbconvert_exporter": "python",
   "pygments_lexer": "ipython3",
   "version": "3.9.19"
  }
 },
 "nbformat": 4,
 "nbformat_minor": 4
}
