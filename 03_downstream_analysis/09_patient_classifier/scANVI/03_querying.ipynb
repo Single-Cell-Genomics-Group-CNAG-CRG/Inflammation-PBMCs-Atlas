{
 "cells": [
  {
   "cell_type": "code",
   "execution_count": null,
   "metadata": {
    "tags": [
     "parameters"
    ]
   },
   "outputs": [],
   "source": [
    "SCANVI_ID: str = '256_30_Level1_run1'\n",
    "QUERY_ADATA_NAME: str = 'EXTERNAL'\n",
    "BUCKET_DIRPATH: str"
   ]
  },
  {
   "cell_type": "code",
   "execution_count": 10,
   "metadata": {},
   "outputs": [
    {
     "name": "stderr",
     "output_type": "stream",
     "text": [
      "WARNING:root:In order to use the mouse gastrulation seqFISH datsets, please install squidpy (see https://github.com/scverse/squidpy).\n",
      "WARNING:root:In order to use sagenet models, please install pytorch geometric (see https://pytorch-geometric.readthedocs.io) and \n",
      " captum (see https://github.com/pytorch/captum).\n",
      "WARNING:root:mvTCR is not installed. To use mvTCR models, please install it first using \"pip install mvtcr\"\n",
      "WARNING:root:multigrate is not installed. To use multigrate models, please install it first using \"pip install multigrate\".\n"
     ]
    }
   ],
   "source": [
    "import scarches as sca\n",
    "import pickle as pkl\n",
    "import scvi\n",
    "import scanpy as sc\n",
    "import os\n",
    "import numpy as np\n",
    "from dotenv import load_dotenv\n",
    "from lightning.pytorch.loggers import WandbLogger"
   ]
  },
  {
   "cell_type": "code",
   "execution_count": null,
   "metadata": {},
   "outputs": [],
   "source": [
    "assert load_dotenv()"
   ]
  },
  {
   "cell_type": "code",
   "execution_count": null,
   "metadata": {},
   "outputs": [],
   "source": [
    "def here(fpath):\n",
    "    return os.path.join(BUCKET_DIRPATH, fpath)"
   ]
  },
  {
   "cell_type": "code",
   "execution_count": null,
   "metadata": {},
   "outputs": [],
   "source": [
    "overwriteData = True"
   ]
  },
  {
   "cell_type": "code",
   "execution_count": null,
   "metadata": {},
   "outputs": [],
   "source": [
    "reference_adata = sc.read_h5ad(\n",
    "   \"04_MAIN_geneUniverse.h5ad\",\n",
    ")\n",
    "if 'SPLIT' in QUERY_ADATA_NAME:\n",
    "    fold_idx = int(QUERY_ADATA_NAME.split('_')[1])\n",
    "    with open(here('03_Downstream_Analysis/PatientClassifier/5foldCV/data/K_FOLD_cellID.pkl'), 'rb') as f:\n",
    "        splits = pkl.load(f)\n",
    "    print(fold_idx)\n",
    "    train_idx, validation_idx = splits[fold_idx]\n",
    "    target_adata = reference_adata[validation_idx].copy()\n",
    "    reference_adata = reference_adata[train_idx].copy()\n",
    "else:\n",
    "    target_adata = sc.read_h5ad(\n",
    "        f\"05_{QUERY_ADATA_NAME}_geneUniverse.h5ad\",\n",
    "    )"
   ]
  },
  {
   "cell_type": "code",
   "execution_count": null,
   "metadata": {},
   "outputs": [],
   "source": [
    "target_adata"
   ]
  },
  {
   "cell_type": "code",
   "execution_count": null,
   "metadata": {},
   "outputs": [],
   "source": [
    "reference_adata"
   ]
  },
  {
   "cell_type": "code",
   "execution_count": null,
   "metadata": {},
   "outputs": [],
   "source": [
    "scanvi_model = scvi.model.SCANVI.load(here(f\"03_Downstream_Analysis/PatientClassifier/scANVI/results/012_fine_tuning/models/scANVI_{SCANVI_ID}\"), adata=reference_adata)"
   ]
  },
  {
   "cell_type": "code",
   "execution_count": null,
   "metadata": {},
   "outputs": [],
   "source": [
    "model = scvi.model.SCANVI.load_query_data(\n",
    "    target_adata,\n",
    "    scanvi_model,\n",
    "    freeze_dropout = True,\n",
    ")\n",
    "model._unlabeled_indices = np.arange(target_adata.n_obs)\n",
    "model._labeled_indices = []"
   ]
  },
  {
   "cell_type": "code",
   "execution_count": null,
   "metadata": {},
   "outputs": [],
   "source": [
    "scvi_parameter_dict = {}\n",
    "trainer_kwargs = dict(\n",
    "    checkpointing_monitor = 'elbo_validation',\n",
    "    early_stopping_monitor = 'reconstruction_loss_validation',\n",
    "    early_stopping_patience = 10,\n",
    "    early_stopping = True,\n",
    "    max_epochs = 100,\n",
    "    batch_size = 128 if QUERY_ADATA_NAME != 'EXTERNAL' else 127\n",
    ")\n",
    "\n",
    "plan_kwargs = dict(weight_decay=0.0)\n",
    "scvi_parameter_dict.update(trainer_kwargs)\n",
    "scvi_parameter_dict.update(plan_kwargs)"
   ]
  },
  {
   "cell_type": "code",
   "execution_count": null,
   "metadata": {},
   "outputs": [],
   "source": [
    "logger = WandbLogger(\n",
    "    project='inflammation_atlas_PatientClassifier_scANVI', \n",
    "    entity='inflammation',\n",
    "    config=scvi_parameter_dict,\n",
    "    name = f'scANVI_query_test_{QUERY_ADATA_NAME}_{SCANVI_ID}',\n",
    ")"
   ]
  },
  {
   "cell_type": "code",
   "execution_count": null,
   "metadata": {},
   "outputs": [],
   "source": [
    "model.train(\n",
    "    logger=logger, \n",
    "    plan_kwargs=plan_kwargs,\n",
    "    **trainer_kwargs\n",
    ")"
   ]
  },
  {
   "cell_type": "code",
   "execution_count": null,
   "metadata": {},
   "outputs": [],
   "source": [
    "if overwriteData:\n",
    "    model.save(\n",
    "        here(f\"03_Downstream_Analysis/PatientClassifier/scANVI/results/02_query/models/scANVI_{QUERY_ADATA_NAME}_{SCANVI_ID}_query\"), \n",
    "        overwrite = True,\n",
    "        save_anndata = False)"
   ]
  },
  {
   "cell_type": "code",
   "execution_count": null,
   "metadata": {},
   "outputs": [],
   "source": [
    "query_labels = model.predict(target_adata)"
   ]
  },
  {
   "cell_type": "code",
   "execution_count": null,
   "metadata": {},
   "outputs": [],
   "source": [
    "query_latents = model.get_latent_representation(\n",
    "    target_adata\n",
    ")\n",
    "reference_latents = model.get_latent_representation(\n",
    "    reference_adata\n",
    ")"
   ]
  },
  {
   "cell_type": "code",
   "execution_count": null,
   "metadata": {},
   "outputs": [],
   "source": [
    "query_ad = sc.AnnData(\n",
    "    X=query_latents, \n",
    "    obs=(target_adata.obs.assign(labels=query_labels)))\n",
    "query_ad.write(here(f\"03_Downstream_Analysis/PatientClassifier/scANVI/results/02_query/output/scANVI_{QUERY_ADATA_NAME}_{SCANVI_ID}.h5ad\"), compression='gzip')"
   ]
  },
  {
   "cell_type": "code",
   "execution_count": null,
   "metadata": {},
   "outputs": [],
   "source": [
    "reference_ad = sc.AnnData(\n",
    "    X=reference_latents, \n",
    "    obs=reference_adata.obs)\n",
    "reference_ad.write(here(f\"03_Downstream_Analysis/PatientClassifier/scANVI/results/02_query/ref_latents/scANVI_{QUERY_ADATA_NAME}_{SCANVI_ID}.h5ad\"), compression='gzip')"
   ]
  }
 ],
 "metadata": {
  "kernelspec": {
   "display_name": "Python 3 (ipykernel)",
   "language": "python",
   "name": "python3"
  },
  "language_info": {
   "codemirror_mode": {
    "name": "ipython",
    "version": 3
   },
   "file_extension": ".py",
   "mimetype": "text/x-python",
   "name": "python",
   "nbconvert_exporter": "python",
   "pygments_lexer": "ipython3",
   "version": "3.9.19"
  }
 },
 "nbformat": 4,
 "nbformat_minor": 4
}
