{
 "cells": [
  {
   "cell_type": "code",
   "execution_count": 1,
   "id": "f7d6fd86",
   "metadata": {
    "execution": {
     "iopub.execute_input": "2024-06-21T04:23:23.157730Z",
     "iopub.status.busy": "2024-06-21T04:23:23.157342Z",
     "iopub.status.idle": "2024-06-21T04:23:23.164429Z",
     "shell.execute_reply": "2024-06-21T04:23:23.163251Z"
    },
    "papermill": {
     "duration": 0.023581,
     "end_time": "2024-06-21T04:23:23.166155",
     "exception": false,
     "start_time": "2024-06-21T04:23:23.142574",
     "status": "completed"
    },
    "tags": [
     "injected-parameters"
    ]
   },
   "outputs": [],
   "source": [
    "# Parameters\n",
    "n_latent = 50\n",
    "batch = \"chemistry\"\n",
    "annotation = \"Level2\"\n"
   ]
  },
  {
   "cell_type": "raw",
   "id": "41b625dc-8adf-48ab-a958-7007b37a6ca0",
   "metadata": {
    "execution": {
     "iopub.execute_input": "2024-06-19T21:23:15.512167Z",
     "iopub.status.busy": "2024-06-19T21:23:15.511678Z",
     "iopub.status.idle": "2024-06-19T21:23:15.525658Z",
     "shell.execute_reply": "2024-06-19T21:23:15.524648Z",
     "shell.execute_reply.started": "2024-06-19T21:23:15.512116Z"
    },
    "papermill": {
     "duration": 0.007233,
     "end_time": "2024-06-21T04:23:23.179591",
     "exception": false,
     "start_time": "2024-06-21T04:23:23.172358",
     "status": "completed"
    },
    "tags": [],
    "vscode": {
     "languageId": "raw"
    }
   },
   "source": [
    "n_latent = 200\n",
    "batch = 'chemistry'\n",
    "annotation = 'Level1' # 'Level2'"
   ]
  },
  {
   "cell_type": "code",
   "execution_count": 2,
   "id": "d93d90d1-0195-486d-aa31-7df4cee98625",
   "metadata": {
    "execution": {
     "iopub.execute_input": "2024-06-21T04:23:23.192488Z",
     "iopub.status.busy": "2024-06-21T04:23:23.191816Z",
     "iopub.status.idle": "2024-06-21T04:23:23.199944Z",
     "shell.execute_reply": "2024-06-21T04:23:23.198846Z"
    },
    "papermill": {
     "duration": 0.018019,
     "end_time": "2024-06-21T04:23:23.203154",
     "exception": false,
     "start_time": "2024-06-21T04:23:23.185135",
     "status": "completed"
    },
    "tags": []
   },
   "outputs": [
    {
     "name": "stdout",
     "output_type": "stream",
     "text": [
      "n_latent = 50\n",
      "batch = chemistry\n",
      "annotation = Level2\n"
     ]
    }
   ],
   "source": [
    "for v in ['n_latent','batch', 'annotation']:\n",
    "    if v in locals() or v in globals():\n",
    "        print(f\"{v} = {eval(v)}\")\n",
    "    else:\n",
    "        raise ValueError(f\"{v} is not defined\")"
   ]
  },
  {
   "cell_type": "code",
   "execution_count": 3,
   "id": "806b5f94-e055-4773-86fa-5b22d1d2b77b",
   "metadata": {
    "execution": {
     "iopub.execute_input": "2024-06-21T04:23:23.222462Z",
     "iopub.status.busy": "2024-06-21T04:23:23.221805Z",
     "iopub.status.idle": "2024-06-21T04:23:41.551697Z",
     "shell.execute_reply": "2024-06-21T04:23:41.550953Z"
    },
    "papermill": {
     "duration": 18.340076,
     "end_time": "2024-06-21T04:23:41.553205",
     "exception": false,
     "start_time": "2024-06-21T04:23:23.213129",
     "status": "completed"
    },
    "tags": []
   },
   "outputs": [
    {
     "name": "stderr",
     "output_type": "stream",
     "text": [
      "Seed set to 42\n"
     ]
    },
    {
     "name": "stdout",
     "output_type": "stream",
     "text": [
      "scvi-tools version: 1.1.2\n"
     ]
    }
   ],
   "source": [
    "import os\n",
    "import sys\n",
    "\n",
    "import random \n",
    "import numpy as np\n",
    "import matplotlib.pyplot as plt\n",
    "\n",
    "import scanpy as sc\n",
    "import scvi\n",
    "import scgen\n",
    "\n",
    "import torch\n",
    "from lightning.pytorch.loggers import CSVLogger\n",
    "\n",
    "import pandas as pd\n",
    "\n",
    "import session_info\n",
    "import warnings\n",
    "from pyprojroot.here import here\n",
    "\n",
    "torch.set_float32_matmul_precision('medium')\n",
    "\n",
    "random_seed = 42\n",
    "\n",
    "#scvi.settings.dl_num_workers = 8\n",
    "scvi.settings.seed = random_seed\n",
    "print(\"scvi-tools version:\", scvi.__version__)"
   ]
  },
  {
   "cell_type": "markdown",
   "id": "d8271196-9d0e-4565-86cb-45641c26195d",
   "metadata": {
    "papermill": {
     "duration": 0.007769,
     "end_time": "2024-06-21T04:23:41.566272",
     "exception": false,
     "start_time": "2024-06-21T04:23:41.558503",
     "status": "completed"
    },
    "tags": []
   },
   "source": [
    "## Loading main adata"
   ]
  },
  {
   "cell_type": "code",
   "execution_count": 4,
   "id": "5295d9d1-0f1a-4f74-95af-88d013600f9c",
   "metadata": {
    "execution": {
     "iopub.execute_input": "2024-06-21T04:23:41.587910Z",
     "iopub.status.busy": "2024-06-21T04:23:41.587248Z",
     "iopub.status.idle": "2024-06-21T04:23:41.597077Z",
     "shell.execute_reply": "2024-06-21T04:23:41.596344Z"
    },
    "papermill": {
     "duration": 0.023533,
     "end_time": "2024-06-21T04:23:41.599931",
     "exception": false,
     "start_time": "2024-06-21T04:23:41.576398",
     "status": "completed"
    },
    "tags": []
   },
   "outputs": [
    {
     "data": {
      "text/plain": [
       "PosixPath('/scratch_isilon/groups/singlecell/shared/projects/Inflammation-PBMCs-Atlas')"
      ]
     },
     "execution_count": 4,
     "metadata": {},
     "output_type": "execute_result"
    }
   ],
   "source": [
    "here()"
   ]
  },
  {
   "cell_type": "code",
   "execution_count": 5,
   "id": "46df101c-3cc7-45bf-80f0-9be3256b5da6",
   "metadata": {
    "execution": {
     "iopub.execute_input": "2024-06-21T04:23:41.620243Z",
     "iopub.status.busy": "2024-06-21T04:23:41.619651Z",
     "iopub.status.idle": "2024-06-21T04:26:09.304759Z",
     "shell.execute_reply": "2024-06-21T04:26:09.304057Z"
    },
    "papermill": {
     "duration": 147.702518,
     "end_time": "2024-06-21T04:26:09.312218",
     "exception": false,
     "start_time": "2024-06-21T04:23:41.609700",
     "status": "completed"
    },
    "tags": []
   },
   "outputs": [
    {
     "data": {
      "text/plain": [
       "AnnData object with n_obs × n_vars = 4435922 × 8253\n",
       "    obs: 'studyID', 'libraryID', 'sampleID', 'chemistry', 'disease', 'sex', 'binned_age', 'Level1', 'Level2'\n",
       "    var: 'hgnc_id', 'symbol', 'locus_group', 'HUGO_status', 'highly_variable'\n",
       "    uns: 'log1p'"
      ]
     },
     "execution_count": 5,
     "metadata": {},
     "output_type": "execute_result"
    }
   ],
   "source": [
    "adataM = sc.read_h5ad(here(\"03_downstream_analysis/02_gene_universe_definition/results/04_MAIN_geneUniverse.log1p.h5ad\"))\n",
    "adataM"
   ]
  },
  {
   "cell_type": "markdown",
   "id": "8beba7fc-ba2f-474d-83ec-a4aa4a7d821c",
   "metadata": {
    "papermill": {
     "duration": 0.004949,
     "end_time": "2024-06-21T04:26:09.323655",
     "exception": false,
     "start_time": "2024-06-21T04:26:09.318706",
     "status": "completed"
    },
    "tags": []
   },
   "source": [
    "### scGen preprocessing"
   ]
  },
  {
   "cell_type": "code",
   "execution_count": 6,
   "id": "d717496f-0414-4d24-ad1c-522370f18e90",
   "metadata": {
    "execution": {
     "iopub.execute_input": "2024-06-21T04:26:09.335162Z",
     "iopub.status.busy": "2024-06-21T04:26:09.334919Z",
     "iopub.status.idle": "2024-06-21T04:26:10.256029Z",
     "shell.execute_reply": "2024-06-21T04:26:10.255573Z"
    },
    "papermill": {
     "duration": 0.929996,
     "end_time": "2024-06-21T04:26:10.259004",
     "exception": false,
     "start_time": "2024-06-21T04:26:09.329008",
     "status": "completed"
    },
    "tags": []
   },
   "outputs": [],
   "source": [
    "adataM.obs['batch'] = adataM.obs[batch].tolist()\n",
    "adataM.obs['cell_type'] = adataM.obs[annotation].tolist()\n",
    "scgen.SCGEN.setup_anndata(adataM, batch_key=\"batch\", labels_key=\"cell_type\")"
   ]
  },
  {
   "cell_type": "markdown",
   "id": "08fc724b-64ce-45a1-b856-b94d64a2cd7e",
   "metadata": {
    "papermill": {
     "duration": 0.004916,
     "end_time": "2024-06-21T04:26:10.270047",
     "exception": false,
     "start_time": "2024-06-21T04:26:10.265131",
     "status": "completed"
    },
    "tags": []
   },
   "source": [
    "#### scGen parameters"
   ]
  },
  {
   "cell_type": "code",
   "execution_count": 7,
   "id": "6a1eea99-52b1-432b-89b2-d6cb2b6b482a",
   "metadata": {
    "execution": {
     "iopub.execute_input": "2024-06-21T04:26:10.281053Z",
     "iopub.status.busy": "2024-06-21T04:26:10.280827Z",
     "iopub.status.idle": "2024-06-21T04:26:10.284701Z",
     "shell.execute_reply": "2024-06-21T04:26:10.283787Z"
    },
    "papermill": {
     "duration": 0.011065,
     "end_time": "2024-06-21T04:26:10.286066",
     "exception": false,
     "start_time": "2024-06-21T04:26:10.275001",
     "status": "completed"
    },
    "tags": []
   },
   "outputs": [],
   "source": [
    "scgen_model_params = dict({\n",
    "    'n_latent': n_latent,\n",
    "    'n_hidden': 800,\n",
    "    'n_layers': 3,\n",
    "    'dropout_rate': 0.2,\n",
    "})"
   ]
  },
  {
   "cell_type": "code",
   "execution_count": 8,
   "id": "b4ce60ca-a6aa-4adc-9216-bfa3df8e8ba9",
   "metadata": {
    "execution": {
     "iopub.execute_input": "2024-06-21T04:26:10.299878Z",
     "iopub.status.busy": "2024-06-21T04:26:10.299400Z",
     "iopub.status.idle": "2024-06-21T04:26:10.305711Z",
     "shell.execute_reply": "2024-06-21T04:26:10.304441Z"
    },
    "papermill": {
     "duration": 0.016682,
     "end_time": "2024-06-21T04:26:10.307664",
     "exception": false,
     "start_time": "2024-06-21T04:26:10.290982",
     "status": "completed"
    },
    "tags": []
   },
   "outputs": [],
   "source": [
    "train_params = dict({\n",
    "    'max_epochs':1000,\n",
    "    'batch_size':128, \n",
    "    'early_stopping': True, \n",
    "    'early_stopping_patience':5, \n",
    "    'log_every_n_steps':10000,\n",
    "    #'plan_kwargs':dict({'lr':0.001}) # default learning rate\n",
    "})"
   ]
  },
  {
   "cell_type": "code",
   "execution_count": 9,
   "id": "72b99a27-a92c-4093-8358-083539bc346a",
   "metadata": {
    "execution": {
     "iopub.execute_input": "2024-06-21T04:26:10.322956Z",
     "iopub.status.busy": "2024-06-21T04:26:10.322268Z",
     "iopub.status.idle": "2024-06-21T04:26:10.502989Z",
     "shell.execute_reply": "2024-06-21T04:26:10.502318Z"
    },
    "papermill": {
     "duration": 0.194129,
     "end_time": "2024-06-21T04:26:10.507889",
     "exception": false,
     "start_time": "2024-06-21T04:26:10.313760",
     "status": "completed"
    },
    "tags": []
   },
   "outputs": [
    {
     "data": {
      "text/html": [
       "<pre style=\"white-space:pre;overflow-x:auto;line-height:normal;font-family:Menlo,'DejaVu Sans Mono',consolas,'Courier New',monospace\">Anndata setup with scvi-tools version <span style=\"color: #008080; text-decoration-color: #008080; font-weight: bold\">1.1</span>.<span style=\"color: #008080; text-decoration-color: #008080; font-weight: bold\">2</span>.\n",
       "</pre>\n"
      ],
      "text/plain": [
       "Anndata setup with scvi-tools version \u001b[1;36m1.1\u001b[0m.\u001b[1;36m2\u001b[0m.\n"
      ]
     },
     "metadata": {},
     "output_type": "display_data"
    },
    {
     "data": {
      "text/html": [
       "<pre style=\"white-space:pre;overflow-x:auto;line-height:normal;font-family:Menlo,'DejaVu Sans Mono',consolas,'Courier New',monospace\">\n",
       "</pre>\n"
      ],
      "text/plain": [
       "\n"
      ]
     },
     "metadata": {},
     "output_type": "display_data"
    },
    {
     "data": {
      "text/html": [
       "<pre style=\"white-space:pre;overflow-x:auto;line-height:normal;font-family:Menlo,'DejaVu Sans Mono',consolas,'Courier New',monospace\">Setup via `SCGEN.setup_anndata` with arguments:\n",
       "</pre>\n"
      ],
      "text/plain": [
       "Setup via `SCGEN.setup_anndata` with arguments:\n"
      ]
     },
     "metadata": {},
     "output_type": "display_data"
    },
    {
     "data": {
      "text/html": [
       "<pre style=\"white-space:pre;overflow-x:auto;line-height:normal;font-family:Menlo,'DejaVu Sans Mono',consolas,'Courier New',monospace\"><span style=\"font-weight: bold\">{</span><span style=\"color: #008000; text-decoration-color: #008000\">'batch_key'</span>: <span style=\"color: #008000; text-decoration-color: #008000\">'batch'</span>, <span style=\"color: #008000; text-decoration-color: #008000\">'labels_key'</span>: <span style=\"color: #008000; text-decoration-color: #008000\">'cell_type'</span><span style=\"font-weight: bold\">}</span>\n",
       "</pre>\n"
      ],
      "text/plain": [
       "\u001b[1m{\u001b[0m\u001b[32m'batch_key'\u001b[0m: \u001b[32m'batch'\u001b[0m, \u001b[32m'labels_key'\u001b[0m: \u001b[32m'cell_type'\u001b[0m\u001b[1m}\u001b[0m\n"
      ]
     },
     "metadata": {},
     "output_type": "display_data"
    },
    {
     "data": {
      "text/html": [
       "<pre style=\"white-space:pre;overflow-x:auto;line-height:normal;font-family:Menlo,'DejaVu Sans Mono',consolas,'Courier New',monospace\">\n",
       "</pre>\n"
      ],
      "text/plain": [
       "\n"
      ]
     },
     "metadata": {},
     "output_type": "display_data"
    },
    {
     "data": {
      "text/html": [
       "<pre style=\"white-space:pre;overflow-x:auto;line-height:normal;font-family:Menlo,'DejaVu Sans Mono',consolas,'Courier New',monospace\"><span style=\"font-style: italic\">      Summary Statistics      </span>\n",
       "┏━━━━━━━━━━━━━━━━━━┳━━━━━━━━━┓\n",
       "┃<span style=\"font-weight: bold\"> Summary Stat Key </span>┃<span style=\"font-weight: bold\">  Value  </span>┃\n",
       "┡━━━━━━━━━━━━━━━━━━╇━━━━━━━━━┩\n",
       "│<span style=\"color: #0087ff; text-decoration-color: #0087ff\">     n_batch      </span>│<span style=\"color: #af00d7; text-decoration-color: #af00d7\">    4    </span>│\n",
       "│<span style=\"color: #0087ff; text-decoration-color: #0087ff\">     n_cells      </span>│<span style=\"color: #af00d7; text-decoration-color: #af00d7\"> 4435922 </span>│\n",
       "│<span style=\"color: #0087ff; text-decoration-color: #0087ff\">     n_labels     </span>│<span style=\"color: #af00d7; text-decoration-color: #af00d7\">   64    </span>│\n",
       "│<span style=\"color: #0087ff; text-decoration-color: #0087ff\">      n_vars      </span>│<span style=\"color: #af00d7; text-decoration-color: #af00d7\">  8253   </span>│\n",
       "└──────────────────┴─────────┘\n",
       "</pre>\n"
      ],
      "text/plain": [
       "\u001b[3m      Summary Statistics      \u001b[0m\n",
       "┏━━━━━━━━━━━━━━━━━━┳━━━━━━━━━┓\n",
       "┃\u001b[1m \u001b[0m\u001b[1mSummary Stat Key\u001b[0m\u001b[1m \u001b[0m┃\u001b[1m \u001b[0m\u001b[1m Value \u001b[0m\u001b[1m \u001b[0m┃\n",
       "┡━━━━━━━━━━━━━━━━━━╇━━━━━━━━━┩\n",
       "│\u001b[38;5;33m \u001b[0m\u001b[38;5;33m    n_batch     \u001b[0m\u001b[38;5;33m \u001b[0m│\u001b[38;5;128m \u001b[0m\u001b[38;5;128m   4   \u001b[0m\u001b[38;5;128m \u001b[0m│\n",
       "│\u001b[38;5;33m \u001b[0m\u001b[38;5;33m    n_cells     \u001b[0m\u001b[38;5;33m \u001b[0m│\u001b[38;5;128m \u001b[0m\u001b[38;5;128m4435922\u001b[0m\u001b[38;5;128m \u001b[0m│\n",
       "│\u001b[38;5;33m \u001b[0m\u001b[38;5;33m    n_labels    \u001b[0m\u001b[38;5;33m \u001b[0m│\u001b[38;5;128m \u001b[0m\u001b[38;5;128m  64   \u001b[0m\u001b[38;5;128m \u001b[0m│\n",
       "│\u001b[38;5;33m \u001b[0m\u001b[38;5;33m     n_vars     \u001b[0m\u001b[38;5;33m \u001b[0m│\u001b[38;5;128m \u001b[0m\u001b[38;5;128m 8253  \u001b[0m\u001b[38;5;128m \u001b[0m│\n",
       "└──────────────────┴─────────┘\n"
      ]
     },
     "metadata": {},
     "output_type": "display_data"
    },
    {
     "data": {
      "text/html": [
       "<pre style=\"white-space:pre;overflow-x:auto;line-height:normal;font-family:Menlo,'DejaVu Sans Mono',consolas,'Courier New',monospace\"><span style=\"font-style: italic\">               Data Registry                </span>\n",
       "┏━━━━━━━━━━━━━━┳━━━━━━━━━━━━━━━━━━━━━━━━━━━┓\n",
       "┃<span style=\"font-weight: bold\"> Registry Key </span>┃<span style=\"font-weight: bold\">    scvi-tools Location    </span>┃\n",
       "┡━━━━━━━━━━━━━━╇━━━━━━━━━━━━━━━━━━━━━━━━━━━┩\n",
       "│<span style=\"color: #0087ff; text-decoration-color: #0087ff\">      X       </span>│<span style=\"color: #af00d7; text-decoration-color: #af00d7\">          adata.X          </span>│\n",
       "│<span style=\"color: #0087ff; text-decoration-color: #0087ff\">    batch     </span>│<span style=\"color: #af00d7; text-decoration-color: #af00d7\"> adata.obs['_scvi_batch']  </span>│\n",
       "│<span style=\"color: #0087ff; text-decoration-color: #0087ff\">    labels    </span>│<span style=\"color: #af00d7; text-decoration-color: #af00d7\"> adata.obs['_scvi_labels'] </span>│\n",
       "└──────────────┴───────────────────────────┘\n",
       "</pre>\n"
      ],
      "text/plain": [
       "\u001b[3m               Data Registry                \u001b[0m\n",
       "┏━━━━━━━━━━━━━━┳━━━━━━━━━━━━━━━━━━━━━━━━━━━┓\n",
       "┃\u001b[1m \u001b[0m\u001b[1mRegistry Key\u001b[0m\u001b[1m \u001b[0m┃\u001b[1m \u001b[0m\u001b[1m   scvi-tools Location   \u001b[0m\u001b[1m \u001b[0m┃\n",
       "┡━━━━━━━━━━━━━━╇━━━━━━━━━━━━━━━━━━━━━━━━━━━┩\n",
       "│\u001b[38;5;33m \u001b[0m\u001b[38;5;33m     X      \u001b[0m\u001b[38;5;33m \u001b[0m│\u001b[38;5;128m \u001b[0m\u001b[38;5;128m         adata.X         \u001b[0m\u001b[38;5;128m \u001b[0m│\n",
       "│\u001b[38;5;33m \u001b[0m\u001b[38;5;33m   batch    \u001b[0m\u001b[38;5;33m \u001b[0m│\u001b[38;5;128m \u001b[0m\u001b[38;5;128madata.obs['_scvi_batch'] \u001b[0m\u001b[38;5;128m \u001b[0m│\n",
       "│\u001b[38;5;33m \u001b[0m\u001b[38;5;33m   labels   \u001b[0m\u001b[38;5;33m \u001b[0m│\u001b[38;5;128m \u001b[0m\u001b[38;5;128madata.obs['_scvi_labels']\u001b[0m\u001b[38;5;128m \u001b[0m│\n",
       "└──────────────┴───────────────────────────┘\n"
      ]
     },
     "metadata": {},
     "output_type": "display_data"
    },
    {
     "data": {
      "text/html": [
       "<pre style=\"white-space:pre;overflow-x:auto;line-height:normal;font-family:Menlo,'DejaVu Sans Mono',consolas,'Courier New',monospace\"><span style=\"font-style: italic\">                  batch State Registry                   </span>\n",
       "┏━━━━━━━━━━━━━━━━━━━━┳━━━━━━━━━━━━┳━━━━━━━━━━━━━━━━━━━━━┓\n",
       "┃<span style=\"font-weight: bold\">  Source Location   </span>┃<span style=\"font-weight: bold\"> Categories </span>┃<span style=\"font-weight: bold\"> scvi-tools Encoding </span>┃\n",
       "┡━━━━━━━━━━━━━━━━━━━━╇━━━━━━━━━━━━╇━━━━━━━━━━━━━━━━━━━━━┩\n",
       "│<span style=\"color: #0087ff; text-decoration-color: #0087ff\"> adata.obs['batch'] </span>│<span style=\"color: #008000; text-decoration-color: #008000\">  3_GEX_V2  </span>│<span style=\"color: #af00d7; text-decoration-color: #af00d7\">          0          </span>│\n",
       "│<span style=\"color: #0087ff; text-decoration-color: #0087ff\">                    </span>│<span style=\"color: #008000; text-decoration-color: #008000\">  3_GEX_V3  </span>│<span style=\"color: #af00d7; text-decoration-color: #af00d7\">          1          </span>│\n",
       "│<span style=\"color: #0087ff; text-decoration-color: #0087ff\">                    </span>│<span style=\"color: #008000; text-decoration-color: #008000\">  5_GEX_V1  </span>│<span style=\"color: #af00d7; text-decoration-color: #af00d7\">          2          </span>│\n",
       "│<span style=\"color: #0087ff; text-decoration-color: #0087ff\">                    </span>│<span style=\"color: #008000; text-decoration-color: #008000\">  5_GEX_V2  </span>│<span style=\"color: #af00d7; text-decoration-color: #af00d7\">          3          </span>│\n",
       "└────────────────────┴────────────┴─────────────────────┘\n",
       "</pre>\n"
      ],
      "text/plain": [
       "\u001b[3m                  batch State Registry                   \u001b[0m\n",
       "┏━━━━━━━━━━━━━━━━━━━━┳━━━━━━━━━━━━┳━━━━━━━━━━━━━━━━━━━━━┓\n",
       "┃\u001b[1m \u001b[0m\u001b[1m Source Location  \u001b[0m\u001b[1m \u001b[0m┃\u001b[1m \u001b[0m\u001b[1mCategories\u001b[0m\u001b[1m \u001b[0m┃\u001b[1m \u001b[0m\u001b[1mscvi-tools Encoding\u001b[0m\u001b[1m \u001b[0m┃\n",
       "┡━━━━━━━━━━━━━━━━━━━━╇━━━━━━━━━━━━╇━━━━━━━━━━━━━━━━━━━━━┩\n",
       "│\u001b[38;5;33m \u001b[0m\u001b[38;5;33madata.obs['batch']\u001b[0m\u001b[38;5;33m \u001b[0m│\u001b[32m \u001b[0m\u001b[32m 3_GEX_V2 \u001b[0m\u001b[32m \u001b[0m│\u001b[38;5;128m \u001b[0m\u001b[38;5;128m         0         \u001b[0m\u001b[38;5;128m \u001b[0m│\n",
       "│\u001b[38;5;33m \u001b[0m\u001b[38;5;33m                  \u001b[0m\u001b[38;5;33m \u001b[0m│\u001b[32m \u001b[0m\u001b[32m 3_GEX_V3 \u001b[0m\u001b[32m \u001b[0m│\u001b[38;5;128m \u001b[0m\u001b[38;5;128m         1         \u001b[0m\u001b[38;5;128m \u001b[0m│\n",
       "│\u001b[38;5;33m \u001b[0m\u001b[38;5;33m                  \u001b[0m\u001b[38;5;33m \u001b[0m│\u001b[32m \u001b[0m\u001b[32m 5_GEX_V1 \u001b[0m\u001b[32m \u001b[0m│\u001b[38;5;128m \u001b[0m\u001b[38;5;128m         2         \u001b[0m\u001b[38;5;128m \u001b[0m│\n",
       "│\u001b[38;5;33m \u001b[0m\u001b[38;5;33m                  \u001b[0m\u001b[38;5;33m \u001b[0m│\u001b[32m \u001b[0m\u001b[32m 5_GEX_V2 \u001b[0m\u001b[32m \u001b[0m│\u001b[38;5;128m \u001b[0m\u001b[38;5;128m         3         \u001b[0m\u001b[38;5;128m \u001b[0m│\n",
       "└────────────────────┴────────────┴─────────────────────┘\n"
      ]
     },
     "metadata": {},
     "output_type": "display_data"
    },
    {
     "data": {
      "text/html": [
       "<pre style=\"white-space:pre;overflow-x:auto;line-height:normal;font-family:Menlo,'DejaVu Sans Mono',consolas,'Courier New',monospace\"><span style=\"font-style: italic\">                         labels State Registry                         </span>\n",
       "┏━━━━━━━━━━━━━━━━━━━━━━━━┳━━━━━━━━━━━━━━━━━━━━━━┳━━━━━━━━━━━━━━━━━━━━━┓\n",
       "┃<span style=\"font-weight: bold\">    Source Location     </span>┃<span style=\"font-weight: bold\">      Categories      </span>┃<span style=\"font-weight: bold\"> scvi-tools Encoding </span>┃\n",
       "┡━━━━━━━━━━━━━━━━━━━━━━━━╇━━━━━━━━━━━━━━━━━━━━━━╇━━━━━━━━━━━━━━━━━━━━━┩\n",
       "│<span style=\"color: #0087ff; text-decoration-color: #0087ff\"> adata.obs['cell_type'] </span>│<span style=\"color: #008000; text-decoration-color: #008000\">    B_IFNresponder    </span>│<span style=\"color: #af00d7; text-decoration-color: #af00d7\">          0          </span>│\n",
       "│<span style=\"color: #0087ff; text-decoration-color: #0087ff\">                        </span>│<span style=\"color: #008000; text-decoration-color: #008000\">    B_Memory_ITGAX    </span>│<span style=\"color: #af00d7; text-decoration-color: #af00d7\">          1          </span>│\n",
       "│<span style=\"color: #0087ff; text-decoration-color: #0087ff\">                        </span>│<span style=\"color: #008000; text-decoration-color: #008000\">  B_Memory_switched   </span>│<span style=\"color: #af00d7; text-decoration-color: #af00d7\">          2          </span>│\n",
       "│<span style=\"color: #0087ff; text-decoration-color: #0087ff\">                        </span>│<span style=\"color: #008000; text-decoration-color: #008000\"> B_Memory_unswitched  </span>│<span style=\"color: #af00d7; text-decoration-color: #af00d7\">          3          </span>│\n",
       "│<span style=\"color: #0087ff; text-decoration-color: #0087ff\">                        </span>│<span style=\"color: #008000; text-decoration-color: #008000\">       B_Naive        </span>│<span style=\"color: #af00d7; text-decoration-color: #af00d7\">          4          </span>│\n",
       "│<span style=\"color: #0087ff; text-decoration-color: #0087ff\">                        </span>│<span style=\"color: #008000; text-decoration-color: #008000\">  B_Naive_activated   </span>│<span style=\"color: #af00d7; text-decoration-color: #af00d7\">          5          </span>│\n",
       "│<span style=\"color: #0087ff; text-decoration-color: #0087ff\">                        </span>│<span style=\"color: #008000; text-decoration-color: #008000\">    B_Progenitors     </span>│<span style=\"color: #af00d7; text-decoration-color: #af00d7\">          6          </span>│\n",
       "│<span style=\"color: #0087ff; text-decoration-color: #0087ff\">                        </span>│<span style=\"color: #008000; text-decoration-color: #008000\">    B_Transitional    </span>│<span style=\"color: #af00d7; text-decoration-color: #af00d7\">          7          </span>│\n",
       "│<span style=\"color: #0087ff; text-decoration-color: #0087ff\">                        </span>│<span style=\"color: #008000; text-decoration-color: #008000\">         DC4          </span>│<span style=\"color: #af00d7; text-decoration-color: #af00d7\">          8          </span>│\n",
       "│<span style=\"color: #0087ff; text-decoration-color: #0087ff\">                        </span>│<span style=\"color: #008000; text-decoration-color: #008000\">         DC5          </span>│<span style=\"color: #af00d7; text-decoration-color: #af00d7\">          9          </span>│\n",
       "│<span style=\"color: #0087ff; text-decoration-color: #0087ff\">                        </span>│<span style=\"color: #008000; text-decoration-color: #008000\">       DC_CCR7        </span>│<span style=\"color: #af00d7; text-decoration-color: #af00d7\">         10          </span>│\n",
       "│<span style=\"color: #0087ff; text-decoration-color: #0087ff\">                        </span>│<span style=\"color: #008000; text-decoration-color: #008000\">   DC_Proliferative   </span>│<span style=\"color: #af00d7; text-decoration-color: #af00d7\">         11          </span>│\n",
       "│<span style=\"color: #0087ff; text-decoration-color: #0087ff\">                        </span>│<span style=\"color: #008000; text-decoration-color: #008000\">       HSC_LMP        </span>│<span style=\"color: #af00d7; text-decoration-color: #af00d7\">         12          </span>│\n",
       "│<span style=\"color: #0087ff; text-decoration-color: #0087ff\">                        </span>│<span style=\"color: #008000; text-decoration-color: #008000\">       HSC_MEMP       </span>│<span style=\"color: #af00d7; text-decoration-color: #af00d7\">         13          </span>│\n",
       "│<span style=\"color: #0087ff; text-decoration-color: #0087ff\">                        </span>│<span style=\"color: #008000; text-decoration-color: #008000\">       HSC_MMP        </span>│<span style=\"color: #af00d7; text-decoration-color: #af00d7\">         14          </span>│\n",
       "│<span style=\"color: #0087ff; text-decoration-color: #0087ff\">                        </span>│<span style=\"color: #008000; text-decoration-color: #008000\">         MAIT         </span>│<span style=\"color: #af00d7; text-decoration-color: #af00d7\">         15          </span>│\n",
       "│<span style=\"color: #0087ff; text-decoration-color: #0087ff\">                        </span>│<span style=\"color: #008000; text-decoration-color: #008000\">       MAIT_17        </span>│<span style=\"color: #af00d7; text-decoration-color: #af00d7\">         16          </span>│\n",
       "│<span style=\"color: #0087ff; text-decoration-color: #0087ff\">                        </span>│<span style=\"color: #008000; text-decoration-color: #008000\">   Mono_IFNresponse   </span>│<span style=\"color: #af00d7; text-decoration-color: #af00d7\">         17          </span>│\n",
       "│<span style=\"color: #0087ff; text-decoration-color: #0087ff\">                        </span>│<span style=\"color: #008000; text-decoration-color: #008000\">    Mono_classical    </span>│<span style=\"color: #af00d7; text-decoration-color: #af00d7\">         18          </span>│\n",
       "│<span style=\"color: #0087ff; text-decoration-color: #0087ff\">                        </span>│<span style=\"color: #008000; text-decoration-color: #008000\">  Mono_inflammatory   </span>│<span style=\"color: #af00d7; text-decoration-color: #af00d7\">         19          </span>│\n",
       "│<span style=\"color: #0087ff; text-decoration-color: #0087ff\">                        </span>│<span style=\"color: #008000; text-decoration-color: #008000\">  Mono_nonClassical   </span>│<span style=\"color: #af00d7; text-decoration-color: #af00d7\">         20          </span>│\n",
       "│<span style=\"color: #0087ff; text-decoration-color: #0087ff\">                        </span>│<span style=\"color: #008000; text-decoration-color: #008000\">   Mono_regulatory    </span>│<span style=\"color: #af00d7; text-decoration-color: #af00d7\">         21          </span>│\n",
       "│<span style=\"color: #0087ff; text-decoration-color: #0087ff\">                        </span>│<span style=\"color: #008000; text-decoration-color: #008000\">     NK_CD16high      </span>│<span style=\"color: #af00d7; text-decoration-color: #af00d7\">         22          </span>│\n",
       "│<span style=\"color: #0087ff; text-decoration-color: #0087ff\">                        </span>│<span style=\"color: #008000; text-decoration-color: #008000\">    NK_CD56dimCD16    </span>│<span style=\"color: #af00d7; text-decoration-color: #af00d7\">         23          </span>│\n",
       "│<span style=\"color: #0087ff; text-decoration-color: #0087ff\">                        </span>│<span style=\"color: #008000; text-decoration-color: #008000\">     NK_CD56high      </span>│<span style=\"color: #af00d7; text-decoration-color: #af00d7\">         24          </span>│\n",
       "│<span style=\"color: #0087ff; text-decoration-color: #0087ff\">                        </span>│<span style=\"color: #008000; text-decoration-color: #008000\">   NK_IFN1response    </span>│<span style=\"color: #af00d7; text-decoration-color: #af00d7\">         25          </span>│\n",
       "│<span style=\"color: #0087ff; text-decoration-color: #0087ff\">                        </span>│<span style=\"color: #008000; text-decoration-color: #008000\">   NK_Proliferative   </span>│<span style=\"color: #af00d7; text-decoration-color: #af00d7\">         26          </span>│\n",
       "│<span style=\"color: #0087ff; text-decoration-color: #0087ff\">                        </span>│<span style=\"color: #008000; text-decoration-color: #008000\">     NK_adaptive      </span>│<span style=\"color: #af00d7; text-decoration-color: #af00d7\">         27          </span>│\n",
       "│<span style=\"color: #0087ff; text-decoration-color: #0087ff\">                        </span>│<span style=\"color: #008000; text-decoration-color: #008000\">  NK_lowRibocontent   </span>│<span style=\"color: #af00d7; text-decoration-color: #af00d7\">         28          </span>│\n",
       "│<span style=\"color: #0087ff; text-decoration-color: #0087ff\">                        </span>│<span style=\"color: #008000; text-decoration-color: #008000\">     Plasma_IGHA      </span>│<span style=\"color: #af00d7; text-decoration-color: #af00d7\">         29          </span>│\n",
       "│<span style=\"color: #0087ff; text-decoration-color: #0087ff\">                        </span>│<span style=\"color: #008000; text-decoration-color: #008000\">     Plasma_IGHG      </span>│<span style=\"color: #af00d7; text-decoration-color: #af00d7\">         30          </span>│\n",
       "│<span style=\"color: #0087ff; text-decoration-color: #0087ff\">                        </span>│<span style=\"color: #008000; text-decoration-color: #008000\"> Plasma_Proliferative </span>│<span style=\"color: #af00d7; text-decoration-color: #af00d7\">         31          </span>│\n",
       "│<span style=\"color: #0087ff; text-decoration-color: #0087ff\">                        </span>│<span style=\"color: #008000; text-decoration-color: #008000\">     Plasma_XBP1      </span>│<span style=\"color: #af00d7; text-decoration-color: #af00d7\">         32          </span>│\n",
       "│<span style=\"color: #0087ff; text-decoration-color: #0087ff\">                        </span>│<span style=\"color: #008000; text-decoration-color: #008000\">      Platelets       </span>│<span style=\"color: #af00d7; text-decoration-color: #af00d7\">         33          </span>│\n",
       "│<span style=\"color: #0087ff; text-decoration-color: #0087ff\">                        </span>│<span style=\"color: #008000; text-decoration-color: #008000\">         RBC          </span>│<span style=\"color: #af00d7; text-decoration-color: #af00d7\">         34          </span>│\n",
       "│<span style=\"color: #0087ff; text-decoration-color: #0087ff\">                        </span>│<span style=\"color: #008000; text-decoration-color: #008000\">       T_CD4_CM       </span>│<span style=\"color: #af00d7; text-decoration-color: #af00d7\">         35          </span>│\n",
       "│<span style=\"color: #0087ff; text-decoration-color: #0087ff\">                        </span>│<span style=\"color: #008000; text-decoration-color: #008000\">    T_CD4_CM_ribo     </span>│<span style=\"color: #af00d7; text-decoration-color: #af00d7\">         36          </span>│\n",
       "│<span style=\"color: #0087ff; text-decoration-color: #0087ff\">                        </span>│<span style=\"color: #008000; text-decoration-color: #008000\">       T_CD4_EM       </span>│<span style=\"color: #af00d7; text-decoration-color: #af00d7\">         37          </span>│\n",
       "│<span style=\"color: #0087ff; text-decoration-color: #0087ff\">                        </span>│<span style=\"color: #008000; text-decoration-color: #008000\">      T_CD4_EMRA      </span>│<span style=\"color: #af00d7; text-decoration-color: #af00d7\">         38          </span>│\n",
       "│<span style=\"color: #0087ff; text-decoration-color: #0087ff\">                        </span>│<span style=\"color: #008000; text-decoration-color: #008000\">     T_CD4_Naive      </span>│<span style=\"color: #af00d7; text-decoration-color: #af00d7\">         39          </span>│\n",
       "│<span style=\"color: #0087ff; text-decoration-color: #0087ff\">                        </span>│<span style=\"color: #008000; text-decoration-color: #008000\">      T_CD4_eff       </span>│<span style=\"color: #af00d7; text-decoration-color: #af00d7\">         40          </span>│\n",
       "│<span style=\"color: #0087ff; text-decoration-color: #0087ff\">                        </span>│<span style=\"color: #008000; text-decoration-color: #008000\">       T_CD8_CM       </span>│<span style=\"color: #af00d7; text-decoration-color: #af00d7\">         41          </span>│\n",
       "│<span style=\"color: #0087ff; text-decoration-color: #0087ff\">                        </span>│<span style=\"color: #008000; text-decoration-color: #008000\">    T_CD8_CM_stem     </span>│<span style=\"color: #af00d7; text-decoration-color: #af00d7\">         42          </span>│\n",
       "│<span style=\"color: #0087ff; text-decoration-color: #0087ff\">                        </span>│<span style=\"color: #008000; text-decoration-color: #008000\"> T_CD8_EM_CX3CR1high  </span>│<span style=\"color: #af00d7; text-decoration-color: #af00d7\">         43          </span>│\n",
       "│<span style=\"color: #0087ff; text-decoration-color: #0087ff\">                        </span>│<span style=\"color: #008000; text-decoration-color: #008000\">  T_CD8_EM_CX3CR1int  </span>│<span style=\"color: #af00d7; text-decoration-color: #af00d7\">         44          </span>│\n",
       "│<span style=\"color: #0087ff; text-decoration-color: #0087ff\">                        </span>│<span style=\"color: #008000; text-decoration-color: #008000\">  T_CD8_IFNresponse   </span>│<span style=\"color: #af00d7; text-decoration-color: #af00d7\">         45          </span>│\n",
       "│<span style=\"color: #0087ff; text-decoration-color: #0087ff\">                        </span>│<span style=\"color: #008000; text-decoration-color: #008000\"> T_CD8_Mem_cytotoxic  </span>│<span style=\"color: #af00d7; text-decoration-color: #af00d7\">         46          </span>│\n",
       "│<span style=\"color: #0087ff; text-decoration-color: #0087ff\">                        </span>│<span style=\"color: #008000; text-decoration-color: #008000\">     T_CD8_Naive      </span>│<span style=\"color: #af00d7; text-decoration-color: #af00d7\">         47          </span>│\n",
       "│<span style=\"color: #0087ff; text-decoration-color: #0087ff\">                        </span>│<span style=\"color: #008000; text-decoration-color: #008000\">   T_CD8_activated    </span>│<span style=\"color: #af00d7; text-decoration-color: #af00d7\">         48          </span>│\n",
       "│<span style=\"color: #0087ff; text-decoration-color: #0087ff\">                        </span>│<span style=\"color: #008000; text-decoration-color: #008000\">    T_CD8_arrested    </span>│<span style=\"color: #af00d7; text-decoration-color: #af00d7\">         49          </span>│\n",
       "│<span style=\"color: #0087ff; text-decoration-color: #0087ff\">                        </span>│<span style=\"color: #008000; text-decoration-color: #008000\">   T_CD8_eff_HOBIT    </span>│<span style=\"color: #af00d7; text-decoration-color: #af00d7\">         50          </span>│\n",
       "│<span style=\"color: #0087ff; text-decoration-color: #0087ff\">                        </span>│<span style=\"color: #008000; text-decoration-color: #008000\">    T_Progenitors     </span>│<span style=\"color: #af00d7; text-decoration-color: #af00d7\">         51          </span>│\n",
       "│<span style=\"color: #0087ff; text-decoration-color: #0087ff\">                        </span>│<span style=\"color: #008000; text-decoration-color: #008000\">   T_Proliferative    </span>│<span style=\"color: #af00d7; text-decoration-color: #af00d7\">         52          </span>│\n",
       "│<span style=\"color: #0087ff; text-decoration-color: #0087ff\">                        </span>│<span style=\"color: #008000; text-decoration-color: #008000\">         Th0          </span>│<span style=\"color: #af00d7; text-decoration-color: #af00d7\">         53          </span>│\n",
       "│<span style=\"color: #0087ff; text-decoration-color: #0087ff\">                        </span>│<span style=\"color: #008000; text-decoration-color: #008000\">         Th1          </span>│<span style=\"color: #af00d7; text-decoration-color: #af00d7\">         54          </span>│\n",
       "│<span style=\"color: #0087ff; text-decoration-color: #0087ff\">                        </span>│<span style=\"color: #008000; text-decoration-color: #008000\">         Th2          </span>│<span style=\"color: #af00d7; text-decoration-color: #af00d7\">         55          </span>│\n",
       "│<span style=\"color: #0087ff; text-decoration-color: #0087ff\">                        </span>│<span style=\"color: #008000; text-decoration-color: #008000\">        Tregs         </span>│<span style=\"color: #af00d7; text-decoration-color: #af00d7\">         56          </span>│\n",
       "│<span style=\"color: #0087ff; text-decoration-color: #0087ff\">                        </span>│<span style=\"color: #008000; text-decoration-color: #008000\">   Tregs_activated    </span>│<span style=\"color: #af00d7; text-decoration-color: #af00d7\">         57          </span>│\n",
       "│<span style=\"color: #0087ff; text-decoration-color: #0087ff\">                        </span>│<span style=\"color: #008000; text-decoration-color: #008000\">         cDC1         </span>│<span style=\"color: #af00d7; text-decoration-color: #af00d7\">         58          </span>│\n",
       "│<span style=\"color: #0087ff; text-decoration-color: #0087ff\">                        </span>│<span style=\"color: #008000; text-decoration-color: #008000\">         cDC2         </span>│<span style=\"color: #af00d7; text-decoration-color: #af00d7\">         59          </span>│\n",
       "│<span style=\"color: #0087ff; text-decoration-color: #0087ff\">                        </span>│<span style=\"color: #008000; text-decoration-color: #008000\">         cDC3         </span>│<span style=\"color: #af00d7; text-decoration-color: #af00d7\">         60          </span>│\n",
       "│<span style=\"color: #0087ff; text-decoration-color: #0087ff\">                        </span>│<span style=\"color: #008000; text-decoration-color: #008000\">        gdT_V1        </span>│<span style=\"color: #af00d7; text-decoration-color: #af00d7\">         61          </span>│\n",
       "│<span style=\"color: #0087ff; text-decoration-color: #0087ff\">                        </span>│<span style=\"color: #008000; text-decoration-color: #008000\">      gdT_V2_Vγ9      </span>│<span style=\"color: #af00d7; text-decoration-color: #af00d7\">         62          </span>│\n",
       "│<span style=\"color: #0087ff; text-decoration-color: #0087ff\">                        </span>│<span style=\"color: #008000; text-decoration-color: #008000\">         pDC          </span>│<span style=\"color: #af00d7; text-decoration-color: #af00d7\">         63          </span>│\n",
       "└────────────────────────┴──────────────────────┴─────────────────────┘\n",
       "</pre>\n"
      ],
      "text/plain": [
       "\u001b[3m                         labels State Registry                         \u001b[0m\n",
       "┏━━━━━━━━━━━━━━━━━━━━━━━━┳━━━━━━━━━━━━━━━━━━━━━━┳━━━━━━━━━━━━━━━━━━━━━┓\n",
       "┃\u001b[1m \u001b[0m\u001b[1m   Source Location    \u001b[0m\u001b[1m \u001b[0m┃\u001b[1m \u001b[0m\u001b[1m     Categories     \u001b[0m\u001b[1m \u001b[0m┃\u001b[1m \u001b[0m\u001b[1mscvi-tools Encoding\u001b[0m\u001b[1m \u001b[0m┃\n",
       "┡━━━━━━━━━━━━━━━━━━━━━━━━╇━━━━━━━━━━━━━━━━━━━━━━╇━━━━━━━━━━━━━━━━━━━━━┩\n",
       "│\u001b[38;5;33m \u001b[0m\u001b[38;5;33madata.obs['cell_type']\u001b[0m\u001b[38;5;33m \u001b[0m│\u001b[32m \u001b[0m\u001b[32m   B_IFNresponder   \u001b[0m\u001b[32m \u001b[0m│\u001b[38;5;128m \u001b[0m\u001b[38;5;128m         0         \u001b[0m\u001b[38;5;128m \u001b[0m│\n",
       "│\u001b[38;5;33m \u001b[0m\u001b[38;5;33m                      \u001b[0m\u001b[38;5;33m \u001b[0m│\u001b[32m \u001b[0m\u001b[32m   B_Memory_ITGAX   \u001b[0m\u001b[32m \u001b[0m│\u001b[38;5;128m \u001b[0m\u001b[38;5;128m         1         \u001b[0m\u001b[38;5;128m \u001b[0m│\n",
       "│\u001b[38;5;33m \u001b[0m\u001b[38;5;33m                      \u001b[0m\u001b[38;5;33m \u001b[0m│\u001b[32m \u001b[0m\u001b[32m B_Memory_switched  \u001b[0m\u001b[32m \u001b[0m│\u001b[38;5;128m \u001b[0m\u001b[38;5;128m         2         \u001b[0m\u001b[38;5;128m \u001b[0m│\n",
       "│\u001b[38;5;33m \u001b[0m\u001b[38;5;33m                      \u001b[0m\u001b[38;5;33m \u001b[0m│\u001b[32m \u001b[0m\u001b[32mB_Memory_unswitched \u001b[0m\u001b[32m \u001b[0m│\u001b[38;5;128m \u001b[0m\u001b[38;5;128m         3         \u001b[0m\u001b[38;5;128m \u001b[0m│\n",
       "│\u001b[38;5;33m \u001b[0m\u001b[38;5;33m                      \u001b[0m\u001b[38;5;33m \u001b[0m│\u001b[32m \u001b[0m\u001b[32m      B_Naive       \u001b[0m\u001b[32m \u001b[0m│\u001b[38;5;128m \u001b[0m\u001b[38;5;128m         4         \u001b[0m\u001b[38;5;128m \u001b[0m│\n",
       "│\u001b[38;5;33m \u001b[0m\u001b[38;5;33m                      \u001b[0m\u001b[38;5;33m \u001b[0m│\u001b[32m \u001b[0m\u001b[32m B_Naive_activated  \u001b[0m\u001b[32m \u001b[0m│\u001b[38;5;128m \u001b[0m\u001b[38;5;128m         5         \u001b[0m\u001b[38;5;128m \u001b[0m│\n",
       "│\u001b[38;5;33m \u001b[0m\u001b[38;5;33m                      \u001b[0m\u001b[38;5;33m \u001b[0m│\u001b[32m \u001b[0m\u001b[32m   B_Progenitors    \u001b[0m\u001b[32m \u001b[0m│\u001b[38;5;128m \u001b[0m\u001b[38;5;128m         6         \u001b[0m\u001b[38;5;128m \u001b[0m│\n",
       "│\u001b[38;5;33m \u001b[0m\u001b[38;5;33m                      \u001b[0m\u001b[38;5;33m \u001b[0m│\u001b[32m \u001b[0m\u001b[32m   B_Transitional   \u001b[0m\u001b[32m \u001b[0m│\u001b[38;5;128m \u001b[0m\u001b[38;5;128m         7         \u001b[0m\u001b[38;5;128m \u001b[0m│\n",
       "│\u001b[38;5;33m \u001b[0m\u001b[38;5;33m                      \u001b[0m\u001b[38;5;33m \u001b[0m│\u001b[32m \u001b[0m\u001b[32m        DC4         \u001b[0m\u001b[32m \u001b[0m│\u001b[38;5;128m \u001b[0m\u001b[38;5;128m         8         \u001b[0m\u001b[38;5;128m \u001b[0m│\n",
       "│\u001b[38;5;33m \u001b[0m\u001b[38;5;33m                      \u001b[0m\u001b[38;5;33m \u001b[0m│\u001b[32m \u001b[0m\u001b[32m        DC5         \u001b[0m\u001b[32m \u001b[0m│\u001b[38;5;128m \u001b[0m\u001b[38;5;128m         9         \u001b[0m\u001b[38;5;128m \u001b[0m│\n",
       "│\u001b[38;5;33m \u001b[0m\u001b[38;5;33m                      \u001b[0m\u001b[38;5;33m \u001b[0m│\u001b[32m \u001b[0m\u001b[32m      DC_CCR7       \u001b[0m\u001b[32m \u001b[0m│\u001b[38;5;128m \u001b[0m\u001b[38;5;128m        10         \u001b[0m\u001b[38;5;128m \u001b[0m│\n",
       "│\u001b[38;5;33m \u001b[0m\u001b[38;5;33m                      \u001b[0m\u001b[38;5;33m \u001b[0m│\u001b[32m \u001b[0m\u001b[32m  DC_Proliferative  \u001b[0m\u001b[32m \u001b[0m│\u001b[38;5;128m \u001b[0m\u001b[38;5;128m        11         \u001b[0m\u001b[38;5;128m \u001b[0m│\n",
       "│\u001b[38;5;33m \u001b[0m\u001b[38;5;33m                      \u001b[0m\u001b[38;5;33m \u001b[0m│\u001b[32m \u001b[0m\u001b[32m      HSC_LMP       \u001b[0m\u001b[32m \u001b[0m│\u001b[38;5;128m \u001b[0m\u001b[38;5;128m        12         \u001b[0m\u001b[38;5;128m \u001b[0m│\n",
       "│\u001b[38;5;33m \u001b[0m\u001b[38;5;33m                      \u001b[0m\u001b[38;5;33m \u001b[0m│\u001b[32m \u001b[0m\u001b[32m      HSC_MEMP      \u001b[0m\u001b[32m \u001b[0m│\u001b[38;5;128m \u001b[0m\u001b[38;5;128m        13         \u001b[0m\u001b[38;5;128m \u001b[0m│\n",
       "│\u001b[38;5;33m \u001b[0m\u001b[38;5;33m                      \u001b[0m\u001b[38;5;33m \u001b[0m│\u001b[32m \u001b[0m\u001b[32m      HSC_MMP       \u001b[0m\u001b[32m \u001b[0m│\u001b[38;5;128m \u001b[0m\u001b[38;5;128m        14         \u001b[0m\u001b[38;5;128m \u001b[0m│\n",
       "│\u001b[38;5;33m \u001b[0m\u001b[38;5;33m                      \u001b[0m\u001b[38;5;33m \u001b[0m│\u001b[32m \u001b[0m\u001b[32m        MAIT        \u001b[0m\u001b[32m \u001b[0m│\u001b[38;5;128m \u001b[0m\u001b[38;5;128m        15         \u001b[0m\u001b[38;5;128m \u001b[0m│\n",
       "│\u001b[38;5;33m \u001b[0m\u001b[38;5;33m                      \u001b[0m\u001b[38;5;33m \u001b[0m│\u001b[32m \u001b[0m\u001b[32m      MAIT_17       \u001b[0m\u001b[32m \u001b[0m│\u001b[38;5;128m \u001b[0m\u001b[38;5;128m        16         \u001b[0m\u001b[38;5;128m \u001b[0m│\n",
       "│\u001b[38;5;33m \u001b[0m\u001b[38;5;33m                      \u001b[0m\u001b[38;5;33m \u001b[0m│\u001b[32m \u001b[0m\u001b[32m  Mono_IFNresponse  \u001b[0m\u001b[32m \u001b[0m│\u001b[38;5;128m \u001b[0m\u001b[38;5;128m        17         \u001b[0m\u001b[38;5;128m \u001b[0m│\n",
       "│\u001b[38;5;33m \u001b[0m\u001b[38;5;33m                      \u001b[0m\u001b[38;5;33m \u001b[0m│\u001b[32m \u001b[0m\u001b[32m   Mono_classical   \u001b[0m\u001b[32m \u001b[0m│\u001b[38;5;128m \u001b[0m\u001b[38;5;128m        18         \u001b[0m\u001b[38;5;128m \u001b[0m│\n",
       "│\u001b[38;5;33m \u001b[0m\u001b[38;5;33m                      \u001b[0m\u001b[38;5;33m \u001b[0m│\u001b[32m \u001b[0m\u001b[32m Mono_inflammatory  \u001b[0m\u001b[32m \u001b[0m│\u001b[38;5;128m \u001b[0m\u001b[38;5;128m        19         \u001b[0m\u001b[38;5;128m \u001b[0m│\n",
       "│\u001b[38;5;33m \u001b[0m\u001b[38;5;33m                      \u001b[0m\u001b[38;5;33m \u001b[0m│\u001b[32m \u001b[0m\u001b[32m Mono_nonClassical  \u001b[0m\u001b[32m \u001b[0m│\u001b[38;5;128m \u001b[0m\u001b[38;5;128m        20         \u001b[0m\u001b[38;5;128m \u001b[0m│\n",
       "│\u001b[38;5;33m \u001b[0m\u001b[38;5;33m                      \u001b[0m\u001b[38;5;33m \u001b[0m│\u001b[32m \u001b[0m\u001b[32m  Mono_regulatory   \u001b[0m\u001b[32m \u001b[0m│\u001b[38;5;128m \u001b[0m\u001b[38;5;128m        21         \u001b[0m\u001b[38;5;128m \u001b[0m│\n",
       "│\u001b[38;5;33m \u001b[0m\u001b[38;5;33m                      \u001b[0m\u001b[38;5;33m \u001b[0m│\u001b[32m \u001b[0m\u001b[32m    NK_CD16high     \u001b[0m\u001b[32m \u001b[0m│\u001b[38;5;128m \u001b[0m\u001b[38;5;128m        22         \u001b[0m\u001b[38;5;128m \u001b[0m│\n",
       "│\u001b[38;5;33m \u001b[0m\u001b[38;5;33m                      \u001b[0m\u001b[38;5;33m \u001b[0m│\u001b[32m \u001b[0m\u001b[32m   NK_CD56dimCD16   \u001b[0m\u001b[32m \u001b[0m│\u001b[38;5;128m \u001b[0m\u001b[38;5;128m        23         \u001b[0m\u001b[38;5;128m \u001b[0m│\n",
       "│\u001b[38;5;33m \u001b[0m\u001b[38;5;33m                      \u001b[0m\u001b[38;5;33m \u001b[0m│\u001b[32m \u001b[0m\u001b[32m    NK_CD56high     \u001b[0m\u001b[32m \u001b[0m│\u001b[38;5;128m \u001b[0m\u001b[38;5;128m        24         \u001b[0m\u001b[38;5;128m \u001b[0m│\n",
       "│\u001b[38;5;33m \u001b[0m\u001b[38;5;33m                      \u001b[0m\u001b[38;5;33m \u001b[0m│\u001b[32m \u001b[0m\u001b[32m  NK_IFN1response   \u001b[0m\u001b[32m \u001b[0m│\u001b[38;5;128m \u001b[0m\u001b[38;5;128m        25         \u001b[0m\u001b[38;5;128m \u001b[0m│\n",
       "│\u001b[38;5;33m \u001b[0m\u001b[38;5;33m                      \u001b[0m\u001b[38;5;33m \u001b[0m│\u001b[32m \u001b[0m\u001b[32m  NK_Proliferative  \u001b[0m\u001b[32m \u001b[0m│\u001b[38;5;128m \u001b[0m\u001b[38;5;128m        26         \u001b[0m\u001b[38;5;128m \u001b[0m│\n",
       "│\u001b[38;5;33m \u001b[0m\u001b[38;5;33m                      \u001b[0m\u001b[38;5;33m \u001b[0m│\u001b[32m \u001b[0m\u001b[32m    NK_adaptive     \u001b[0m\u001b[32m \u001b[0m│\u001b[38;5;128m \u001b[0m\u001b[38;5;128m        27         \u001b[0m\u001b[38;5;128m \u001b[0m│\n",
       "│\u001b[38;5;33m \u001b[0m\u001b[38;5;33m                      \u001b[0m\u001b[38;5;33m \u001b[0m│\u001b[32m \u001b[0m\u001b[32m NK_lowRibocontent  \u001b[0m\u001b[32m \u001b[0m│\u001b[38;5;128m \u001b[0m\u001b[38;5;128m        28         \u001b[0m\u001b[38;5;128m \u001b[0m│\n",
       "│\u001b[38;5;33m \u001b[0m\u001b[38;5;33m                      \u001b[0m\u001b[38;5;33m \u001b[0m│\u001b[32m \u001b[0m\u001b[32m    Plasma_IGHA     \u001b[0m\u001b[32m \u001b[0m│\u001b[38;5;128m \u001b[0m\u001b[38;5;128m        29         \u001b[0m\u001b[38;5;128m \u001b[0m│\n",
       "│\u001b[38;5;33m \u001b[0m\u001b[38;5;33m                      \u001b[0m\u001b[38;5;33m \u001b[0m│\u001b[32m \u001b[0m\u001b[32m    Plasma_IGHG     \u001b[0m\u001b[32m \u001b[0m│\u001b[38;5;128m \u001b[0m\u001b[38;5;128m        30         \u001b[0m\u001b[38;5;128m \u001b[0m│\n",
       "│\u001b[38;5;33m \u001b[0m\u001b[38;5;33m                      \u001b[0m\u001b[38;5;33m \u001b[0m│\u001b[32m \u001b[0m\u001b[32mPlasma_Proliferative\u001b[0m\u001b[32m \u001b[0m│\u001b[38;5;128m \u001b[0m\u001b[38;5;128m        31         \u001b[0m\u001b[38;5;128m \u001b[0m│\n",
       "│\u001b[38;5;33m \u001b[0m\u001b[38;5;33m                      \u001b[0m\u001b[38;5;33m \u001b[0m│\u001b[32m \u001b[0m\u001b[32m    Plasma_XBP1     \u001b[0m\u001b[32m \u001b[0m│\u001b[38;5;128m \u001b[0m\u001b[38;5;128m        32         \u001b[0m\u001b[38;5;128m \u001b[0m│\n",
       "│\u001b[38;5;33m \u001b[0m\u001b[38;5;33m                      \u001b[0m\u001b[38;5;33m \u001b[0m│\u001b[32m \u001b[0m\u001b[32m     Platelets      \u001b[0m\u001b[32m \u001b[0m│\u001b[38;5;128m \u001b[0m\u001b[38;5;128m        33         \u001b[0m\u001b[38;5;128m \u001b[0m│\n",
       "│\u001b[38;5;33m \u001b[0m\u001b[38;5;33m                      \u001b[0m\u001b[38;5;33m \u001b[0m│\u001b[32m \u001b[0m\u001b[32m        RBC         \u001b[0m\u001b[32m \u001b[0m│\u001b[38;5;128m \u001b[0m\u001b[38;5;128m        34         \u001b[0m\u001b[38;5;128m \u001b[0m│\n",
       "│\u001b[38;5;33m \u001b[0m\u001b[38;5;33m                      \u001b[0m\u001b[38;5;33m \u001b[0m│\u001b[32m \u001b[0m\u001b[32m      T_CD4_CM      \u001b[0m\u001b[32m \u001b[0m│\u001b[38;5;128m \u001b[0m\u001b[38;5;128m        35         \u001b[0m\u001b[38;5;128m \u001b[0m│\n",
       "│\u001b[38;5;33m \u001b[0m\u001b[38;5;33m                      \u001b[0m\u001b[38;5;33m \u001b[0m│\u001b[32m \u001b[0m\u001b[32m   T_CD4_CM_ribo    \u001b[0m\u001b[32m \u001b[0m│\u001b[38;5;128m \u001b[0m\u001b[38;5;128m        36         \u001b[0m\u001b[38;5;128m \u001b[0m│\n",
       "│\u001b[38;5;33m \u001b[0m\u001b[38;5;33m                      \u001b[0m\u001b[38;5;33m \u001b[0m│\u001b[32m \u001b[0m\u001b[32m      T_CD4_EM      \u001b[0m\u001b[32m \u001b[0m│\u001b[38;5;128m \u001b[0m\u001b[38;5;128m        37         \u001b[0m\u001b[38;5;128m \u001b[0m│\n",
       "│\u001b[38;5;33m \u001b[0m\u001b[38;5;33m                      \u001b[0m\u001b[38;5;33m \u001b[0m│\u001b[32m \u001b[0m\u001b[32m     T_CD4_EMRA     \u001b[0m\u001b[32m \u001b[0m│\u001b[38;5;128m \u001b[0m\u001b[38;5;128m        38         \u001b[0m\u001b[38;5;128m \u001b[0m│\n",
       "│\u001b[38;5;33m \u001b[0m\u001b[38;5;33m                      \u001b[0m\u001b[38;5;33m \u001b[0m│\u001b[32m \u001b[0m\u001b[32m    T_CD4_Naive     \u001b[0m\u001b[32m \u001b[0m│\u001b[38;5;128m \u001b[0m\u001b[38;5;128m        39         \u001b[0m\u001b[38;5;128m \u001b[0m│\n",
       "│\u001b[38;5;33m \u001b[0m\u001b[38;5;33m                      \u001b[0m\u001b[38;5;33m \u001b[0m│\u001b[32m \u001b[0m\u001b[32m     T_CD4_eff      \u001b[0m\u001b[32m \u001b[0m│\u001b[38;5;128m \u001b[0m\u001b[38;5;128m        40         \u001b[0m\u001b[38;5;128m \u001b[0m│\n",
       "│\u001b[38;5;33m \u001b[0m\u001b[38;5;33m                      \u001b[0m\u001b[38;5;33m \u001b[0m│\u001b[32m \u001b[0m\u001b[32m      T_CD8_CM      \u001b[0m\u001b[32m \u001b[0m│\u001b[38;5;128m \u001b[0m\u001b[38;5;128m        41         \u001b[0m\u001b[38;5;128m \u001b[0m│\n",
       "│\u001b[38;5;33m \u001b[0m\u001b[38;5;33m                      \u001b[0m\u001b[38;5;33m \u001b[0m│\u001b[32m \u001b[0m\u001b[32m   T_CD8_CM_stem    \u001b[0m\u001b[32m \u001b[0m│\u001b[38;5;128m \u001b[0m\u001b[38;5;128m        42         \u001b[0m\u001b[38;5;128m \u001b[0m│\n",
       "│\u001b[38;5;33m \u001b[0m\u001b[38;5;33m                      \u001b[0m\u001b[38;5;33m \u001b[0m│\u001b[32m \u001b[0m\u001b[32mT_CD8_EM_CX3CR1high \u001b[0m\u001b[32m \u001b[0m│\u001b[38;5;128m \u001b[0m\u001b[38;5;128m        43         \u001b[0m\u001b[38;5;128m \u001b[0m│\n",
       "│\u001b[38;5;33m \u001b[0m\u001b[38;5;33m                      \u001b[0m\u001b[38;5;33m \u001b[0m│\u001b[32m \u001b[0m\u001b[32m T_CD8_EM_CX3CR1int \u001b[0m\u001b[32m \u001b[0m│\u001b[38;5;128m \u001b[0m\u001b[38;5;128m        44         \u001b[0m\u001b[38;5;128m \u001b[0m│\n",
       "│\u001b[38;5;33m \u001b[0m\u001b[38;5;33m                      \u001b[0m\u001b[38;5;33m \u001b[0m│\u001b[32m \u001b[0m\u001b[32m T_CD8_IFNresponse  \u001b[0m\u001b[32m \u001b[0m│\u001b[38;5;128m \u001b[0m\u001b[38;5;128m        45         \u001b[0m\u001b[38;5;128m \u001b[0m│\n",
       "│\u001b[38;5;33m \u001b[0m\u001b[38;5;33m                      \u001b[0m\u001b[38;5;33m \u001b[0m│\u001b[32m \u001b[0m\u001b[32mT_CD8_Mem_cytotoxic \u001b[0m\u001b[32m \u001b[0m│\u001b[38;5;128m \u001b[0m\u001b[38;5;128m        46         \u001b[0m\u001b[38;5;128m \u001b[0m│\n",
       "│\u001b[38;5;33m \u001b[0m\u001b[38;5;33m                      \u001b[0m\u001b[38;5;33m \u001b[0m│\u001b[32m \u001b[0m\u001b[32m    T_CD8_Naive     \u001b[0m\u001b[32m \u001b[0m│\u001b[38;5;128m \u001b[0m\u001b[38;5;128m        47         \u001b[0m\u001b[38;5;128m \u001b[0m│\n",
       "│\u001b[38;5;33m \u001b[0m\u001b[38;5;33m                      \u001b[0m\u001b[38;5;33m \u001b[0m│\u001b[32m \u001b[0m\u001b[32m  T_CD8_activated   \u001b[0m\u001b[32m \u001b[0m│\u001b[38;5;128m \u001b[0m\u001b[38;5;128m        48         \u001b[0m\u001b[38;5;128m \u001b[0m│\n",
       "│\u001b[38;5;33m \u001b[0m\u001b[38;5;33m                      \u001b[0m\u001b[38;5;33m \u001b[0m│\u001b[32m \u001b[0m\u001b[32m   T_CD8_arrested   \u001b[0m\u001b[32m \u001b[0m│\u001b[38;5;128m \u001b[0m\u001b[38;5;128m        49         \u001b[0m\u001b[38;5;128m \u001b[0m│\n",
       "│\u001b[38;5;33m \u001b[0m\u001b[38;5;33m                      \u001b[0m\u001b[38;5;33m \u001b[0m│\u001b[32m \u001b[0m\u001b[32m  T_CD8_eff_HOBIT   \u001b[0m\u001b[32m \u001b[0m│\u001b[38;5;128m \u001b[0m\u001b[38;5;128m        50         \u001b[0m\u001b[38;5;128m \u001b[0m│\n",
       "│\u001b[38;5;33m \u001b[0m\u001b[38;5;33m                      \u001b[0m\u001b[38;5;33m \u001b[0m│\u001b[32m \u001b[0m\u001b[32m   T_Progenitors    \u001b[0m\u001b[32m \u001b[0m│\u001b[38;5;128m \u001b[0m\u001b[38;5;128m        51         \u001b[0m\u001b[38;5;128m \u001b[0m│\n",
       "│\u001b[38;5;33m \u001b[0m\u001b[38;5;33m                      \u001b[0m\u001b[38;5;33m \u001b[0m│\u001b[32m \u001b[0m\u001b[32m  T_Proliferative   \u001b[0m\u001b[32m \u001b[0m│\u001b[38;5;128m \u001b[0m\u001b[38;5;128m        52         \u001b[0m\u001b[38;5;128m \u001b[0m│\n",
       "│\u001b[38;5;33m \u001b[0m\u001b[38;5;33m                      \u001b[0m\u001b[38;5;33m \u001b[0m│\u001b[32m \u001b[0m\u001b[32m        Th0         \u001b[0m\u001b[32m \u001b[0m│\u001b[38;5;128m \u001b[0m\u001b[38;5;128m        53         \u001b[0m\u001b[38;5;128m \u001b[0m│\n",
       "│\u001b[38;5;33m \u001b[0m\u001b[38;5;33m                      \u001b[0m\u001b[38;5;33m \u001b[0m│\u001b[32m \u001b[0m\u001b[32m        Th1         \u001b[0m\u001b[32m \u001b[0m│\u001b[38;5;128m \u001b[0m\u001b[38;5;128m        54         \u001b[0m\u001b[38;5;128m \u001b[0m│\n",
       "│\u001b[38;5;33m \u001b[0m\u001b[38;5;33m                      \u001b[0m\u001b[38;5;33m \u001b[0m│\u001b[32m \u001b[0m\u001b[32m        Th2         \u001b[0m\u001b[32m \u001b[0m│\u001b[38;5;128m \u001b[0m\u001b[38;5;128m        55         \u001b[0m\u001b[38;5;128m \u001b[0m│\n",
       "│\u001b[38;5;33m \u001b[0m\u001b[38;5;33m                      \u001b[0m\u001b[38;5;33m \u001b[0m│\u001b[32m \u001b[0m\u001b[32m       Tregs        \u001b[0m\u001b[32m \u001b[0m│\u001b[38;5;128m \u001b[0m\u001b[38;5;128m        56         \u001b[0m\u001b[38;5;128m \u001b[0m│\n",
       "│\u001b[38;5;33m \u001b[0m\u001b[38;5;33m                      \u001b[0m\u001b[38;5;33m \u001b[0m│\u001b[32m \u001b[0m\u001b[32m  Tregs_activated   \u001b[0m\u001b[32m \u001b[0m│\u001b[38;5;128m \u001b[0m\u001b[38;5;128m        57         \u001b[0m\u001b[38;5;128m \u001b[0m│\n",
       "│\u001b[38;5;33m \u001b[0m\u001b[38;5;33m                      \u001b[0m\u001b[38;5;33m \u001b[0m│\u001b[32m \u001b[0m\u001b[32m        cDC1        \u001b[0m\u001b[32m \u001b[0m│\u001b[38;5;128m \u001b[0m\u001b[38;5;128m        58         \u001b[0m\u001b[38;5;128m \u001b[0m│\n",
       "│\u001b[38;5;33m \u001b[0m\u001b[38;5;33m                      \u001b[0m\u001b[38;5;33m \u001b[0m│\u001b[32m \u001b[0m\u001b[32m        cDC2        \u001b[0m\u001b[32m \u001b[0m│\u001b[38;5;128m \u001b[0m\u001b[38;5;128m        59         \u001b[0m\u001b[38;5;128m \u001b[0m│\n",
       "│\u001b[38;5;33m \u001b[0m\u001b[38;5;33m                      \u001b[0m\u001b[38;5;33m \u001b[0m│\u001b[32m \u001b[0m\u001b[32m        cDC3        \u001b[0m\u001b[32m \u001b[0m│\u001b[38;5;128m \u001b[0m\u001b[38;5;128m        60         \u001b[0m\u001b[38;5;128m \u001b[0m│\n",
       "│\u001b[38;5;33m \u001b[0m\u001b[38;5;33m                      \u001b[0m\u001b[38;5;33m \u001b[0m│\u001b[32m \u001b[0m\u001b[32m       gdT_V1       \u001b[0m\u001b[32m \u001b[0m│\u001b[38;5;128m \u001b[0m\u001b[38;5;128m        61         \u001b[0m\u001b[38;5;128m \u001b[0m│\n",
       "│\u001b[38;5;33m \u001b[0m\u001b[38;5;33m                      \u001b[0m\u001b[38;5;33m \u001b[0m│\u001b[32m \u001b[0m\u001b[32m     gdT_V2_Vγ9     \u001b[0m\u001b[32m \u001b[0m│\u001b[38;5;128m \u001b[0m\u001b[38;5;128m        62         \u001b[0m\u001b[38;5;128m \u001b[0m│\n",
       "│\u001b[38;5;33m \u001b[0m\u001b[38;5;33m                      \u001b[0m\u001b[38;5;33m \u001b[0m│\u001b[32m \u001b[0m\u001b[32m        pDC         \u001b[0m\u001b[32m \u001b[0m│\u001b[38;5;128m \u001b[0m\u001b[38;5;128m        63         \u001b[0m\u001b[38;5;128m \u001b[0m│\n",
       "└────────────────────────┴──────────────────────┴─────────────────────┘\n"
      ]
     },
     "metadata": {},
     "output_type": "display_data"
    }
   ],
   "source": [
    "model_scGen = scgen.SCGEN(adataM, **scgen_model_params)\n",
    "model_scGen.view_anndata_setup()"
   ]
  },
  {
   "cell_type": "markdown",
   "id": "a199c224-4d0c-478f-868b-f3bd6e714f1f",
   "metadata": {
    "papermill": {
     "duration": 0.006978,
     "end_time": "2024-06-21T04:26:10.528883",
     "exception": false,
     "start_time": "2024-06-21T04:26:10.521905",
     "status": "completed"
    },
    "tags": []
   },
   "source": [
    "### Training the model"
   ]
  },
  {
   "cell_type": "code",
   "execution_count": 10,
   "id": "35813ded-9313-45c1-bd6f-0b5efef49723",
   "metadata": {
    "execution": {
     "iopub.execute_input": "2024-06-21T04:26:10.544168Z",
     "iopub.status.busy": "2024-06-21T04:26:10.543541Z",
     "iopub.status.idle": "2024-06-21T06:38:58.136627Z",
     "shell.execute_reply": "2024-06-21T06:38:58.135154Z"
    },
    "papermill": {
     "duration": 7967.602629,
     "end_time": "2024-06-21T06:38:58.138223",
     "exception": false,
     "start_time": "2024-06-21T04:26:10.535594",
     "status": "completed"
    },
    "tags": []
   },
   "outputs": [
    {
     "name": "stderr",
     "output_type": "stream",
     "text": [
      "GPU available: True (cuda), used: True\n"
     ]
    },
    {
     "name": "stderr",
     "output_type": "stream",
     "text": [
      "TPU available: False, using: 0 TPU cores\n"
     ]
    },
    {
     "name": "stderr",
     "output_type": "stream",
     "text": [
      "IPU available: False, using: 0 IPUs\n"
     ]
    },
    {
     "name": "stderr",
     "output_type": "stream",
     "text": [
      "HPU available: False, using: 0 HPUs\n"
     ]
    },
    {
     "name": "stderr",
     "output_type": "stream",
     "text": [
      "LOCAL_RANK: 0 - CUDA_VISIBLE_DEVICES: [0]\n"
     ]
    },
    {
     "name": "stderr",
     "output_type": "stream",
     "text": [
      "/scratch_isilon/groups/singlecell/shared/conda_env/scvi-v112/lib/python3.9/site-packages/lightning/pytorch/trainer/connectors/data_connector.py:441: The 'train_dataloader' does not have many workers which may be a bottleneck. Consider increasing the value of the `num_workers` argument` to `num_workers=35` in the `DataLoader` to improve performance.\n",
      "/scratch_isilon/groups/singlecell/shared/conda_env/scvi-v112/lib/python3.9/site-packages/lightning/pytorch/trainer/connectors/data_connector.py:441: The 'val_dataloader' does not have many workers which may be a bottleneck. Consider increasing the value of the `num_workers` argument` to `num_workers=35` in the `DataLoader` to improve performance.\n"
     ]
    },
    {
     "name": "stdout",
     "output_type": "stream",
     "text": [
      "\r",
      "Training:   0%|          | 0/1000 [00:00<?, ?it/s]"
     ]
    },
    {
     "name": "stdout",
     "output_type": "stream",
     "text": [
      "\r",
      "Epoch 1/1000:   0%|          | 0/1000 [00:00<?, ?it/s]"
     ]
    },
    {
     "name": "stdout",
     "output_type": "stream",
     "text": [
      "\r",
      "Epoch 1/1000:   0%|          | 1/1000 [08:19<138:30:00, 499.10s/it]"
     ]
    },
    {
     "name": "stdout",
     "output_type": "stream",
     "text": [
      "\r",
      "Epoch 1/1000:   0%|          | 1/1000 [08:19<138:30:00, 499.10s/it, v_num=1, train_loss_step=1.3e+3, train_loss_epoch=1.19e+3]"
     ]
    },
    {
     "name": "stdout",
     "output_type": "stream",
     "text": [
      "\r",
      "Epoch 2/1000:   0%|          | 1/1000 [08:19<138:30:00, 499.10s/it, v_num=1, train_loss_step=1.3e+3, train_loss_epoch=1.19e+3]"
     ]
    },
    {
     "name": "stdout",
     "output_type": "stream",
     "text": [
      "\r",
      "Epoch 2/1000:   0%|          | 2/1000 [16:36<138:07:11, 498.23s/it, v_num=1, train_loss_step=1.3e+3, train_loss_epoch=1.19e+3]"
     ]
    },
    {
     "name": "stdout",
     "output_type": "stream",
     "text": [
      "\r",
      "Epoch 2/1000:   0%|          | 2/1000 [16:36<138:07:11, 498.23s/it, v_num=1, train_loss_step=1.28e+3, train_loss_epoch=1.17e+3]"
     ]
    },
    {
     "name": "stdout",
     "output_type": "stream",
     "text": [
      "\r",
      "Epoch 3/1000:   0%|          | 2/1000 [16:36<138:07:11, 498.23s/it, v_num=1, train_loss_step=1.28e+3, train_loss_epoch=1.17e+3]"
     ]
    },
    {
     "name": "stdout",
     "output_type": "stream",
     "text": [
      "\r",
      "Epoch 3/1000:   0%|          | 3/1000 [24:54<137:53:08, 497.88s/it, v_num=1, train_loss_step=1.28e+3, train_loss_epoch=1.17e+3]"
     ]
    },
    {
     "name": "stdout",
     "output_type": "stream",
     "text": [
      "\r",
      "Epoch 3/1000:   0%|          | 3/1000 [24:54<137:53:08, 497.88s/it, v_num=1, train_loss_step=2.5e+3, train_loss_epoch=1.16e+3] "
     ]
    },
    {
     "name": "stdout",
     "output_type": "stream",
     "text": [
      "\r",
      "Epoch 4/1000:   0%|          | 3/1000 [24:54<137:53:08, 497.88s/it, v_num=1, train_loss_step=2.5e+3, train_loss_epoch=1.16e+3]"
     ]
    },
    {
     "name": "stdout",
     "output_type": "stream",
     "text": [
      "\r",
      "Epoch 4/1000:   0%|          | 4/1000 [33:11<137:43:20, 497.79s/it, v_num=1, train_loss_step=2.5e+3, train_loss_epoch=1.16e+3]"
     ]
    },
    {
     "name": "stdout",
     "output_type": "stream",
     "text": [
      "\r",
      "Epoch 4/1000:   0%|          | 4/1000 [33:11<137:43:20, 497.79s/it, v_num=1, train_loss_step=1.67e+3, train_loss_epoch=1.16e+3]"
     ]
    },
    {
     "name": "stdout",
     "output_type": "stream",
     "text": [
      "\r",
      "Epoch 5/1000:   0%|          | 4/1000 [33:11<137:43:20, 497.79s/it, v_num=1, train_loss_step=1.67e+3, train_loss_epoch=1.16e+3]"
     ]
    },
    {
     "name": "stdout",
     "output_type": "stream",
     "text": [
      "\r",
      "Epoch 5/1000:   0%|          | 5/1000 [41:23<136:57:59, 495.56s/it, v_num=1, train_loss_step=1.67e+3, train_loss_epoch=1.16e+3]"
     ]
    },
    {
     "name": "stdout",
     "output_type": "stream",
     "text": [
      "\r",
      "Epoch 5/1000:   0%|          | 5/1000 [41:23<136:57:59, 495.56s/it, v_num=1, train_loss_step=3.01e+3, train_loss_epoch=1.16e+3]"
     ]
    },
    {
     "name": "stdout",
     "output_type": "stream",
     "text": [
      "\r",
      "Epoch 6/1000:   0%|          | 5/1000 [41:23<136:57:59, 495.56s/it, v_num=1, train_loss_step=3.01e+3, train_loss_epoch=1.16e+3]"
     ]
    },
    {
     "name": "stdout",
     "output_type": "stream",
     "text": [
      "\r",
      "Epoch 6/1000:   1%|          | 6/1000 [49:41<137:04:43, 496.46s/it, v_num=1, train_loss_step=3.01e+3, train_loss_epoch=1.16e+3]"
     ]
    },
    {
     "name": "stdout",
     "output_type": "stream",
     "text": [
      "\r",
      "Epoch 6/1000:   1%|          | 6/1000 [49:41<137:04:43, 496.46s/it, v_num=1, train_loss_step=1.26e+3, train_loss_epoch=1.16e+3]"
     ]
    },
    {
     "name": "stdout",
     "output_type": "stream",
     "text": [
      "\r",
      "Epoch 7/1000:   1%|          | 6/1000 [49:41<137:04:43, 496.46s/it, v_num=1, train_loss_step=1.26e+3, train_loss_epoch=1.16e+3]"
     ]
    },
    {
     "name": "stdout",
     "output_type": "stream",
     "text": [
      "\r",
      "Epoch 7/1000:   1%|          | 7/1000 [58:00<137:07:30, 497.13s/it, v_num=1, train_loss_step=1.26e+3, train_loss_epoch=1.16e+3]"
     ]
    },
    {
     "name": "stdout",
     "output_type": "stream",
     "text": [
      "\r",
      "Epoch 7/1000:   1%|          | 7/1000 [58:00<137:07:30, 497.13s/it, v_num=1, train_loss_step=1.85e+3, train_loss_epoch=1.16e+3]"
     ]
    },
    {
     "name": "stdout",
     "output_type": "stream",
     "text": [
      "\r",
      "Epoch 8/1000:   1%|          | 7/1000 [58:00<137:07:30, 497.13s/it, v_num=1, train_loss_step=1.85e+3, train_loss_epoch=1.16e+3]"
     ]
    },
    {
     "name": "stdout",
     "output_type": "stream",
     "text": [
      "\r",
      "Epoch 8/1000:   1%|          | 8/1000 [1:06:18<137:06:07, 497.55s/it, v_num=1, train_loss_step=1.85e+3, train_loss_epoch=1.16e+3]"
     ]
    },
    {
     "name": "stdout",
     "output_type": "stream",
     "text": [
      "\r",
      "Epoch 8/1000:   1%|          | 8/1000 [1:06:18<137:06:07, 497.55s/it, v_num=1, train_loss_step=1.32e+3, train_loss_epoch=1.16e+3]"
     ]
    },
    {
     "name": "stdout",
     "output_type": "stream",
     "text": [
      "\r",
      "Epoch 9/1000:   1%|          | 8/1000 [1:06:18<137:06:07, 497.55s/it, v_num=1, train_loss_step=1.32e+3, train_loss_epoch=1.16e+3]"
     ]
    },
    {
     "name": "stdout",
     "output_type": "stream",
     "text": [
      "\r",
      "Epoch 9/1000:   1%|          | 9/1000 [1:14:36<137:00:31, 497.71s/it, v_num=1, train_loss_step=1.32e+3, train_loss_epoch=1.16e+3]"
     ]
    },
    {
     "name": "stdout",
     "output_type": "stream",
     "text": [
      "\r",
      "Epoch 9/1000:   1%|          | 9/1000 [1:14:36<137:00:31, 497.71s/it, v_num=1, train_loss_step=2.12e+3, train_loss_epoch=1.15e+3]"
     ]
    },
    {
     "name": "stdout",
     "output_type": "stream",
     "text": [
      "\r",
      "Epoch 10/1000:   1%|          | 9/1000 [1:14:36<137:00:31, 497.71s/it, v_num=1, train_loss_step=2.12e+3, train_loss_epoch=1.15e+3]"
     ]
    },
    {
     "name": "stdout",
     "output_type": "stream",
     "text": [
      "\r",
      "Epoch 10/1000:   1%|          | 10/1000 [1:22:55<136:57:23, 498.02s/it, v_num=1, train_loss_step=2.12e+3, train_loss_epoch=1.15e+3]"
     ]
    },
    {
     "name": "stdout",
     "output_type": "stream",
     "text": [
      "\r",
      "Epoch 10/1000:   1%|          | 10/1000 [1:22:55<136:57:23, 498.02s/it, v_num=1, train_loss_step=1.78e+3, train_loss_epoch=1.15e+3]"
     ]
    },
    {
     "name": "stdout",
     "output_type": "stream",
     "text": [
      "\r",
      "Epoch 11/1000:   1%|          | 10/1000 [1:22:55<136:57:23, 498.02s/it, v_num=1, train_loss_step=1.78e+3, train_loss_epoch=1.15e+3]"
     ]
    },
    {
     "name": "stdout",
     "output_type": "stream",
     "text": [
      "\r",
      "Epoch 11/1000:   1%|          | 11/1000 [1:31:14<136:55:29, 498.41s/it, v_num=1, train_loss_step=1.78e+3, train_loss_epoch=1.15e+3]"
     ]
    },
    {
     "name": "stdout",
     "output_type": "stream",
     "text": [
      "\r",
      "Epoch 11/1000:   1%|          | 11/1000 [1:31:14<136:55:29, 498.41s/it, v_num=1, train_loss_step=2.04e+3, train_loss_epoch=1.15e+3]"
     ]
    },
    {
     "name": "stdout",
     "output_type": "stream",
     "text": [
      "\r",
      "Epoch 12/1000:   1%|          | 11/1000 [1:31:14<136:55:29, 498.41s/it, v_num=1, train_loss_step=2.04e+3, train_loss_epoch=1.15e+3]"
     ]
    },
    {
     "name": "stdout",
     "output_type": "stream",
     "text": [
      "\r",
      "Epoch 12/1000:   1%|          | 12/1000 [1:39:32<136:45:05, 498.28s/it, v_num=1, train_loss_step=2.04e+3, train_loss_epoch=1.15e+3]"
     ]
    },
    {
     "name": "stdout",
     "output_type": "stream",
     "text": [
      "\r",
      "Epoch 12/1000:   1%|          | 12/1000 [1:39:32<136:45:05, 498.28s/it, v_num=1, train_loss_step=2.11e+3, train_loss_epoch=1.15e+3]"
     ]
    },
    {
     "name": "stdout",
     "output_type": "stream",
     "text": [
      "\r",
      "Epoch 13/1000:   1%|          | 12/1000 [1:39:32<136:45:05, 498.28s/it, v_num=1, train_loss_step=2.11e+3, train_loss_epoch=1.15e+3]"
     ]
    },
    {
     "name": "stdout",
     "output_type": "stream",
     "text": [
      "\r",
      "Epoch 13/1000:   1%|▏         | 13/1000 [1:47:50<136:35:57, 498.23s/it, v_num=1, train_loss_step=2.11e+3, train_loss_epoch=1.15e+3]"
     ]
    },
    {
     "name": "stdout",
     "output_type": "stream",
     "text": [
      "\r",
      "Epoch 13/1000:   1%|▏         | 13/1000 [1:47:50<136:35:57, 498.23s/it, v_num=1, train_loss_step=1.75e+3, train_loss_epoch=1.15e+3]"
     ]
    },
    {
     "name": "stdout",
     "output_type": "stream",
     "text": [
      "\r",
      "Epoch 14/1000:   1%|▏         | 13/1000 [1:47:50<136:35:57, 498.23s/it, v_num=1, train_loss_step=1.75e+3, train_loss_epoch=1.15e+3]"
     ]
    },
    {
     "name": "stdout",
     "output_type": "stream",
     "text": [
      "\r",
      "Epoch 14/1000:   1%|▏         | 14/1000 [1:56:08<136:22:49, 497.94s/it, v_num=1, train_loss_step=1.75e+3, train_loss_epoch=1.15e+3]"
     ]
    },
    {
     "name": "stdout",
     "output_type": "stream",
     "text": [
      "\r",
      "Epoch 14/1000:   1%|▏         | 14/1000 [1:56:08<136:22:49, 497.94s/it, v_num=1, train_loss_step=1.74e+3, train_loss_epoch=1.15e+3]"
     ]
    },
    {
     "name": "stdout",
     "output_type": "stream",
     "text": [
      "\r",
      "Epoch 15/1000:   1%|▏         | 14/1000 [1:56:08<136:22:49, 497.94s/it, v_num=1, train_loss_step=1.74e+3, train_loss_epoch=1.15e+3]"
     ]
    },
    {
     "name": "stdout",
     "output_type": "stream",
     "text": [
      "\r",
      "Epoch 15/1000:   2%|▏         | 15/1000 [2:04:27<136:21:05, 498.34s/it, v_num=1, train_loss_step=1.74e+3, train_loss_epoch=1.15e+3]"
     ]
    },
    {
     "name": "stdout",
     "output_type": "stream",
     "text": [
      "\r",
      "Epoch 15/1000:   2%|▏         | 15/1000 [2:04:27<136:21:05, 498.34s/it, v_num=1, train_loss_step=1.28e+3, train_loss_epoch=1.15e+3]"
     ]
    },
    {
     "name": "stdout",
     "output_type": "stream",
     "text": [
      "\r",
      "Epoch 16/1000:   2%|▏         | 15/1000 [2:04:27<136:21:05, 498.34s/it, v_num=1, train_loss_step=1.28e+3, train_loss_epoch=1.15e+3]"
     ]
    },
    {
     "name": "stdout",
     "output_type": "stream",
     "text": [
      "\r",
      "Epoch 16/1000:   2%|▏         | 16/1000 [2:12:46<136:17:48, 498.65s/it, v_num=1, train_loss_step=1.28e+3, train_loss_epoch=1.15e+3]"
     ]
    },
    {
     "name": "stdout",
     "output_type": "stream",
     "text": [
      "\r",
      "Epoch 16/1000:   2%|▏         | 16/1000 [2:12:46<136:17:48, 498.65s/it, v_num=1, train_loss_step=1.69e+3, train_loss_epoch=1.15e+3]"
     ]
    },
    {
     "name": "stdout",
     "output_type": "stream",
     "text": [
      "\r",
      "Epoch 16/1000:   2%|▏         | 16/1000 [2:12:46<136:05:51, 497.92s/it, v_num=1, train_loss_step=1.69e+3, train_loss_epoch=1.15e+3]"
     ]
    },
    {
     "name": "stdout",
     "output_type": "stream",
     "text": [
      "\n",
      "Monitored metric elbo_validation did not improve in the last 5 records. Best score: 3179.314. Signaling Trainer to stop.\n"
     ]
    }
   ],
   "source": [
    "model_scGen.train(**train_params)"
   ]
  },
  {
   "cell_type": "markdown",
   "id": "f3befa10-867f-4f0e-9b64-a7e3c5a8bc77",
   "metadata": {
    "papermill": {
     "duration": 0.010708,
     "end_time": "2024-06-21T06:38:58.166757",
     "exception": false,
     "start_time": "2024-06-21T06:38:58.156049",
     "status": "completed"
    },
    "tags": []
   },
   "source": [
    "### Plotting loss functions"
   ]
  },
  {
   "cell_type": "code",
   "execution_count": 11,
   "id": "6447cf4d-c2d4-4eb2-a064-edf88ddf400c",
   "metadata": {
    "execution": {
     "iopub.execute_input": "2024-06-21T06:38:58.189144Z",
     "iopub.status.busy": "2024-06-21T06:38:58.188129Z",
     "iopub.status.idle": "2024-06-21T06:38:58.445862Z",
     "shell.execute_reply": "2024-06-21T06:38:58.445083Z"
    },
    "papermill": {
     "duration": 0.271298,
     "end_time": "2024-06-21T06:38:58.448277",
     "exception": false,
     "start_time": "2024-06-21T06:38:58.176979",
     "status": "completed"
    },
    "tags": []
   },
   "outputs": [
    {
     "data": {
      "image/png": "[encoded data removed]",
      "text/plain": [
       "<Figure size 640x480 with 1 Axes>"
      ]
     },
     "metadata": {},
     "output_type": "display_data"
    }
   ],
   "source": [
    "plt.plot(model_scGen.history['reconstruction_loss_train'][1:], label = 'reconstruction_loss_train')\n",
    "plt.plot(model_scGen.history['reconstruction_loss_validation'][1:], label = 'reconstruction_loss_validation')\n",
    "plt.title('')\n",
    "plt.legend()\n",
    "plt.show()"
   ]
  },
  {
   "cell_type": "code",
   "execution_count": 12,
   "id": "70fe5808-bc1e-46d7-8e19-237875eb1709",
   "metadata": {
    "execution": {
     "iopub.execute_input": "2024-06-21T06:38:58.473484Z",
     "iopub.status.busy": "2024-06-21T06:38:58.472793Z",
     "iopub.status.idle": "2024-06-21T06:38:58.607713Z",
     "shell.execute_reply": "2024-06-21T06:38:58.606813Z"
    },
    "papermill": {
     "duration": 0.152708,
     "end_time": "2024-06-21T06:38:58.612264",
     "exception": false,
     "start_time": "2024-06-21T06:38:58.459556",
     "status": "completed"
    },
    "tags": []
   },
   "outputs": [
    {
     "data": {
      "image/png": "[encoded data removed]",
      "text/plain": [
       "<Figure size 640x480 with 1 Axes>"
      ]
     },
     "metadata": {},
     "output_type": "display_data"
    }
   ],
   "source": [
    "plt.plot(model_scGen.history['kl_local_train'][1:], label = 'kl_local_train')\n",
    "plt.plot(model_scGen.history['kl_local_validation'][1:], label = 'kl_local_validation')\n",
    "plt.title('')\n",
    "plt.legend()\n",
    "plt.show()"
   ]
  },
  {
   "cell_type": "code",
   "execution_count": 13,
   "id": "fd9cd12f-1b60-4ae7-8039-7b65886d04a7",
   "metadata": {
    "execution": {
     "iopub.execute_input": "2024-06-21T06:38:58.647333Z",
     "iopub.status.busy": "2024-06-21T06:38:58.646883Z",
     "iopub.status.idle": "2024-06-21T06:38:58.759218Z",
     "shell.execute_reply": "2024-06-21T06:38:58.758519Z"
    },
    "papermill": {
     "duration": 0.128922,
     "end_time": "2024-06-21T06:38:58.763040",
     "exception": false,
     "start_time": "2024-06-21T06:38:58.634118",
     "status": "completed"
    },
    "tags": []
   },
   "outputs": [
    {
     "data": {
      "image/png": "[encoded data removed]",
      "text/plain": [
       "<Figure size 640x480 with 1 Axes>"
      ]
     },
     "metadata": {},
     "output_type": "display_data"
    }
   ],
   "source": [
    "plt.plot(model_scGen.history['elbo_train'][1:], label = 'elbo_train')\n",
    "plt.plot(model_scGen.history['elbo_validation'][1:], label = 'elbo_validation')\n",
    "plt.title('')\n",
    "plt.legend()\n",
    "plt.show()"
   ]
  },
  {
   "cell_type": "markdown",
   "id": "8099089b-4f08-4a69-a727-8559ec517ec3",
   "metadata": {
    "papermill": {
     "duration": 0.011385,
     "end_time": "2024-06-21T06:38:58.786662",
     "exception": false,
     "start_time": "2024-06-21T06:38:58.775277",
     "status": "completed"
    },
    "tags": []
   },
   "source": [
    "### Save the results"
   ]
  },
  {
   "cell_type": "markdown",
   "id": "22fe1080-6a52-4acf-8a6b-40718048aee1",
   "metadata": {
    "papermill": {
     "duration": 0.011071,
     "end_time": "2024-06-21T06:38:58.808353",
     "exception": false,
     "start_time": "2024-06-21T06:38:58.797282",
     "status": "completed"
    },
    "tags": []
   },
   "source": [
    "**scGen model**"
   ]
  },
  {
   "cell_type": "code",
   "execution_count": 14,
   "id": "c0dd0f59-6b15-48f4-ba4d-f8b38de1b6e3",
   "metadata": {
    "execution": {
     "iopub.execute_input": "2024-06-21T06:38:58.832422Z",
     "iopub.status.busy": "2024-06-21T06:38:58.831357Z",
     "iopub.status.idle": "2024-06-21T06:38:59.366858Z",
     "shell.execute_reply": "2024-06-21T06:38:59.365474Z"
    },
    "papermill": {
     "duration": 0.551666,
     "end_time": "2024-06-21T06:38:59.370456",
     "exception": false,
     "start_time": "2024-06-21T06:38:58.818790",
     "status": "completed"
    },
    "tags": []
   },
   "outputs": [],
   "source": [
    "model_scGen.save(here(f\"03_downstream_analysis/08_PatientClassifier/scGen/results/01_scGen_train_nLat{n_latent}_{batch}_{annotation}\"), \n",
    "                 overwrite = True, save_anndata = False)"
   ]
  }
 ],
 "metadata": {
  "kernelspec": {
   "display_name": "Python 3 (ipykernel)",
   "language": "python",
   "name": "python3"
  },
  "language_info": {
   "codemirror_mode": {
    "name": "ipython",
    "version": 3
   },
   "file_extension": ".py",
   "mimetype": "text/x-python",
   "name": "python",
   "nbconvert_exporter": "python",
   "pygments_lexer": "ipython3",
   "version": "3.9.19"
  },
  "papermill": {
   "default_parameters": {},
   "duration": 8141.766247,
   "end_time": "2024-06-21T06:39:02.390787",
   "environment_variables": {},
   "exception": null,
   "input_path": "01_scGen_MAIN_training.ipynb",
   "output_path": "executed_notebooks/01_scGen_MAIN_training_50nLatent_chemistry_Level2.ipynb",
   "parameters": {
    "annotation": "Level2",
    "batch": "chemistry",
    "n_latent": 50
   },
   "start_time": "2024-06-21T04:23:20.624540",
   "version": "2.5.0"
  }
 },
 "nbformat": 4,
 "nbformat_minor": 5
}