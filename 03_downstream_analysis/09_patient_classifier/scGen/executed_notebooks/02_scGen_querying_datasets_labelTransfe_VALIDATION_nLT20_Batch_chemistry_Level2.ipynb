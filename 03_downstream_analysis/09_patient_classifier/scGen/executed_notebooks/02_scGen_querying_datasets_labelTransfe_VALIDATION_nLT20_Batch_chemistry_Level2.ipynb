{
 "cells": [
  {
   "cell_type": "code",
   "execution_count": 1,
   "id": "a3ed7fc4",
   "metadata": {
    "execution": {
     "iopub.execute_input": "2024-06-21T13:38:41.140162Z",
     "iopub.status.busy": "2024-06-21T13:38:41.139955Z",
     "iopub.status.idle": "2024-06-21T13:38:41.146166Z",
     "shell.execute_reply": "2024-06-21T13:38:41.145692Z"
    },
    "papermill": {
     "duration": 0.021764,
     "end_time": "2024-06-21T13:38:41.147379",
     "exception": false,
     "start_time": "2024-06-21T13:38:41.125615",
     "status": "completed"
    },
    "tags": [
     "injected-parameters"
    ]
   },
   "outputs": [],
   "source": [
    "# Parameters\n",
    "n_latent = 20\n",
    "batch = \"chemistry\"\n",
    "dataset = \"VALIDATION\"\n",
    "annotation = \"Level2\"\n"
   ]
  },
  {
   "cell_type": "raw",
   "id": "cf9e723a-c8ab-41cf-80dd-75314497d94d",
   "metadata": {
    "execution": {
     "iopub.execute_input": "2024-06-16T20:49:10.250721Z",
     "iopub.status.busy": "2024-06-16T20:49:10.250145Z",
     "iopub.status.idle": "2024-06-16T20:49:10.256210Z",
     "shell.execute_reply": "2024-06-16T20:49:10.255729Z",
     "shell.execute_reply.started": "2024-06-16T20:49:10.250683Z"
    },
    "papermill": {
     "duration": 0.053912,
     "end_time": "2024-06-21T13:38:41.222217",
     "exception": false,
     "start_time": "2024-06-21T13:38:41.168305",
     "status": "completed"
    },
    "tags": []
   },
   "source": [
    "n_latent = 200\n",
    "dataset = 'VALIDATION'\n",
    "batch = 'studyID'\n",
    "annotation = 'Level2'"
   ]
  },
  {
   "cell_type": "code",
   "execution_count": 2,
   "id": "ed634346-b706-466a-8dab-569b37560afb",
   "metadata": {
    "execution": {
     "iopub.execute_input": "2024-06-21T13:38:41.240136Z",
     "iopub.status.busy": "2024-06-21T13:38:41.239963Z",
     "iopub.status.idle": "2024-06-21T13:38:41.244021Z",
     "shell.execute_reply": "2024-06-21T13:38:41.243515Z"
    },
    "papermill": {
     "duration": 0.013772,
     "end_time": "2024-06-21T13:38:41.245095",
     "exception": false,
     "start_time": "2024-06-21T13:38:41.231323",
     "status": "completed"
    },
    "tags": []
   },
   "outputs": [
    {
     "name": "stdout",
     "output_type": "stream",
     "text": [
      "n_latent = 20\n",
      "batch = chemistry\n",
      "dataset = VALIDATION\n",
      "annotation = Level2\n"
     ]
    }
   ],
   "source": [
    "for v in ['n_latent','batch','dataset','annotation']:\n",
    "    if v in locals() or v in globals():\n",
    "        print(f\"{v} = {eval(v)}\")\n",
    "    else:\n",
    "        raise ValeuError(f\"{v} is not defined\")"
   ]
  },
  {
   "cell_type": "markdown",
   "id": "9ba65107-57d8-41ce-a8f8-f4b4d2bddeb6",
   "metadata": {
    "papermill": {
     "duration": 0.009104,
     "end_time": "2024-06-21T13:38:41.262300",
     "exception": false,
     "start_time": "2024-06-21T13:38:41.253196",
     "status": "completed"
    },
    "tags": []
   },
   "source": [
    "this notebook is run in *scvi-v112* env (cluster)"
   ]
  },
  {
   "cell_type": "code",
   "execution_count": 3,
   "id": "77a24249-d2ab-4340-b9ac-d78d5f3f5bab",
   "metadata": {
    "execution": {
     "iopub.execute_input": "2024-06-21T13:38:41.284294Z",
     "iopub.status.busy": "2024-06-21T13:38:41.283992Z",
     "iopub.status.idle": "2024-06-21T13:39:33.642890Z",
     "shell.execute_reply": "2024-06-21T13:39:33.642307Z"
    },
    "papermill": {
     "duration": 52.371144,
     "end_time": "2024-06-21T13:39:33.644589",
     "exception": false,
     "start_time": "2024-06-21T13:38:41.273445",
     "status": "completed"
    },
    "tags": []
   },
   "outputs": [],
   "source": [
    "import os\n",
    "import sys\n",
    "\n",
    "import random \n",
    "import numpy as np\n",
    "import matplotlib.pyplot as plt\n",
    "\n",
    "import scanpy as sc\n",
    "\n",
    "import scgen\n",
    "\n",
    "import pynndescent\n",
    "\n",
    "import pandas as pd\n",
    "\n",
    "import session_info\n",
    "import warnings\n",
    "from pyprojroot.here import here\n",
    "\n",
    "from sklearn.svm import LinearSVC\n",
    "\n",
    "from sklearn.metrics import balanced_accuracy_score\n",
    "\n",
    "import decoupler\n",
    "\n",
    "import torch\n",
    "\n",
    "import joblib\n",
    "\n",
    "sys.path.insert(1, str(here('bin')))\n",
    "\n",
    "# Import custom functions\n",
    "from customPythonFunctions import get_deltas_v2, batch_removal_v2, aggregating_features, train_patient_classifier, vote_patient_disease\n",
    "\n",
    "#plt.style.use(['science','nature','no-latex'])\n",
    "dpi_fig_save = 300\n",
    "sc.set_figure_params(dpi=100, dpi_save=dpi_fig_save, vector_friendly=True)\n",
    "\n",
    "# Setting some parameters\n",
    "warnings.filterwarnings(\"ignore\")\n",
    "\n",
    "random_seed = 42"
   ]
  },
  {
   "cell_type": "code",
   "execution_count": 4,
   "id": "6a35ffd2-3a9d-4e4c-aa77-9855ccb36a3c",
   "metadata": {
    "execution": {
     "iopub.execute_input": "2024-06-21T13:39:33.662727Z",
     "iopub.status.busy": "2024-06-21T13:39:33.662132Z",
     "iopub.status.idle": "2024-06-21T13:39:33.855202Z",
     "shell.execute_reply": "2024-06-21T13:39:33.854674Z"
    },
    "papermill": {
     "duration": 0.202793,
     "end_time": "2024-06-21T13:39:33.856208",
     "exception": false,
     "start_time": "2024-06-21T13:39:33.653415",
     "status": "completed"
    },
    "tags": []
   },
   "outputs": [],
   "source": [
    "%load_ext autoreload\n",
    "%autoreload 2"
   ]
  },
  {
   "cell_type": "markdown",
   "id": "4c28e407-f2e0-4b66-a1c8-427e69887d52",
   "metadata": {
    "papermill": {
     "duration": 0.007514,
     "end_time": "2024-06-21T13:39:33.872108",
     "exception": false,
     "start_time": "2024-06-21T13:39:33.864594",
     "status": "completed"
    },
    "tags": []
   },
   "source": [
    "## Loading data\n",
    "### Loading main adata"
   ]
  },
  {
   "cell_type": "code",
   "execution_count": 5,
   "id": "bcc3a390-966f-42bf-a139-6804a111d9a4",
   "metadata": {
    "execution": {
     "iopub.execute_input": "2024-06-21T13:39:33.889136Z",
     "iopub.status.busy": "2024-06-21T13:39:33.888890Z",
     "iopub.status.idle": "2024-06-21T13:45:55.403744Z",
     "shell.execute_reply": "2024-06-21T13:45:55.403017Z"
    },
    "papermill": {
     "duration": 381.525873,
     "end_time": "2024-06-21T13:45:55.405635",
     "exception": false,
     "start_time": "2024-06-21T13:39:33.879762",
     "status": "completed"
    },
    "tags": []
   },
   "outputs": [],
   "source": [
    "adataR = sc.read_h5ad(here('03_downstream_analysis/02_gene_universe_definition/results/04_MAIN_geneUniverse.log1p.h5ad'))"
   ]
  },
  {
   "cell_type": "code",
   "execution_count": 6,
   "id": "f18648ef-f249-42ed-b608-1cda3e595804",
   "metadata": {
    "execution": {
     "iopub.execute_input": "2024-06-21T13:45:55.435175Z",
     "iopub.status.busy": "2024-06-21T13:45:55.434945Z",
     "iopub.status.idle": "2024-06-21T13:45:59.566506Z",
     "shell.execute_reply": "2024-06-21T13:45:59.565958Z"
    },
    "papermill": {
     "duration": 4.142381,
     "end_time": "2024-06-21T13:45:59.567903",
     "exception": false,
     "start_time": "2024-06-21T13:45:55.425522",
     "status": "completed"
    },
    "tags": []
   },
   "outputs": [],
   "source": [
    "adataR.obs['batch'] = adataR.obs[batch].tolist()\n",
    "adataR.obs['cell_type'] = adataR.obs[annotation].tolist()"
   ]
  },
  {
   "cell_type": "markdown",
   "id": "ca7306bc-3ce6-43bd-b569-1de23bbee513",
   "metadata": {
    "papermill": {
     "duration": 0.00818,
     "end_time": "2024-06-21T13:45:59.586319",
     "exception": false,
     "start_time": "2024-06-21T13:45:59.578139",
     "status": "completed"
    },
    "tags": []
   },
   "source": [
    "### Loading query adata"
   ]
  },
  {
   "cell_type": "code",
   "execution_count": 7,
   "id": "0ef5e9e5-323a-4efb-b112-4b2efb29716c",
   "metadata": {
    "execution": {
     "iopub.execute_input": "2024-06-21T13:45:59.603645Z",
     "iopub.status.busy": "2024-06-21T13:45:59.603410Z",
     "iopub.status.idle": "2024-06-21T13:46:17.011893Z",
     "shell.execute_reply": "2024-06-21T13:46:17.011481Z"
    },
    "papermill": {
     "duration": 17.418216,
     "end_time": "2024-06-21T13:46:17.012943",
     "exception": false,
     "start_time": "2024-06-21T13:45:59.594727",
     "status": "completed"
    },
    "tags": []
   },
   "outputs": [
    {
     "data": {
      "text/plain": [
       "AnnData object with n_obs × n_vars = 849922 × 8253\n",
       "    obs: 'studyID', 'libraryID', 'sampleID', 'chemistry', 'technology', 'disease', 'sex', 'binned_age'\n",
       "    var: 'hgnc_id', 'symbol', 'locus_group', 'HUGO_status'\n",
       "    uns: 'log1p'"
      ]
     },
     "execution_count": 7,
     "metadata": {},
     "output_type": "execute_result"
    }
   ],
   "source": [
    "adataQ = sc.read_h5ad(here(f\"03_downstream_analysis/02_gene_universe_definition/results/05_{dataset}_geneUniverse.log1p.h5ad\"))\n",
    "adataQ"
   ]
  },
  {
   "cell_type": "code",
   "execution_count": 8,
   "id": "0c0bff23",
   "metadata": {
    "execution": {
     "iopub.execute_input": "2024-06-21T13:46:17.045073Z",
     "iopub.status.busy": "2024-06-21T13:46:17.044864Z",
     "iopub.status.idle": "2024-06-21T13:46:17.179911Z",
     "shell.execute_reply": "2024-06-21T13:46:17.179497Z"
    },
    "papermill": {
     "duration": 0.156357,
     "end_time": "2024-06-21T13:46:17.180906",
     "exception": false,
     "start_time": "2024-06-21T13:46:17.024549",
     "status": "completed"
    },
    "tags": []
   },
   "outputs": [
    {
     "data": {
      "text/plain": [
       "AnnData object with n_obs × n_vars = 849922 × 8253\n",
       "    obs: 'studyID', 'libraryID', 'sampleID', 'chemistry', 'technology', 'disease', 'sex', 'binned_age', 'cell_type', 'batch'\n",
       "    var: 'hgnc_id', 'symbol', 'locus_group', 'HUGO_status'\n",
       "    uns: 'log1p'"
      ]
     },
     "execution_count": 8,
     "metadata": {},
     "output_type": "execute_result"
    }
   ],
   "source": [
    "adataQ.obs['cell_type'] = adataR.obs[annotation][0] #this is needed just to allow scGen model to transfer anndata setup without errors\n",
    "adataQ.obs['batch'] = adataQ.obs[batch]\n",
    "adataQ"
   ]
  },
  {
   "cell_type": "markdown",
   "id": "4fffe98b-1263-4b98-96e7-c00b2843420f",
   "metadata": {
    "papermill": {
     "duration": 0.008548,
     "end_time": "2024-06-21T13:46:17.199421",
     "exception": false,
     "start_time": "2024-06-21T13:46:17.190873",
     "status": "completed"
    },
    "tags": []
   },
   "source": [
    "### Loading scGen model"
   ]
  },
  {
   "cell_type": "code",
   "execution_count": 9,
   "id": "ed843ed6-c10f-427c-b300-516f81297eb2",
   "metadata": {
    "execution": {
     "iopub.execute_input": "2024-06-21T13:46:17.218153Z",
     "iopub.status.busy": "2024-06-21T13:46:17.217939Z",
     "iopub.status.idle": "2024-06-21T13:46:25.552265Z",
     "shell.execute_reply": "2024-06-21T13:46:25.551778Z"
    },
    "papermill": {
     "duration": 8.345963,
     "end_time": "2024-06-21T13:46:25.553820",
     "exception": false,
     "start_time": "2024-06-21T13:46:17.207857",
     "status": "completed"
    },
    "tags": []
   },
   "outputs": [
    {
     "name": "stdout",
     "output_type": "stream",
     "text": [
      "\u001b[34mINFO    \u001b[0m File                                                                                                      \n",
      "         \u001b[35m/scratch_isilon/groups/singlecell/shared/projects/Inflammation-PBMCs-Atlas/03_downstream_analysis/08_Pat\u001b[0m\n",
      "         \u001b[35mientClassifier/scGen/results/01_scGen_train_nLat20_chemistry_Level2/\u001b[0m\u001b[95mmodel.pt\u001b[0m already downloaded           \n"
     ]
    }
   ],
   "source": [
    "model_scGen = scgen.SCGEN.load(here(f\"03_downstream_analysis/08_PatientClassifier/scGen/results/01_scGen_train_nLat{n_latent}_{batch}_{annotation}\"), adata = adataR)"
   ]
  },
  {
   "cell_type": "markdown",
   "id": "9c1ccc70-985a-49ac-9a19-9925088d8af6",
   "metadata": {
    "papermill": {
     "duration": 0.008431,
     "end_time": "2024-06-21T13:46:25.573183",
     "exception": false,
     "start_time": "2024-06-21T13:46:25.564752",
     "status": "completed"
    },
    "tags": []
   },
   "source": [
    "## Generating embedding spaces"
   ]
  },
  {
   "cell_type": "markdown",
   "id": "6c8b03ea-3f53-46f6-902f-0caf07326777",
   "metadata": {
    "execution": {
     "iopub.execute_input": "2024-06-14T10:32:32.049226Z",
     "iopub.status.busy": "2024-06-14T10:32:32.048899Z",
     "iopub.status.idle": "2024-06-14T10:32:32.104059Z",
     "shell.execute_reply": "2024-06-14T10:32:32.103590Z",
     "shell.execute_reply.started": "2024-06-14T10:32:32.049208Z"
    },
    "papermill": {
     "duration": 0.00959,
     "end_time": "2024-06-21T13:46:25.591676",
     "exception": false,
     "start_time": "2024-06-21T13:46:25.582086",
     "status": "completed"
    },
    "tags": []
   },
   "source": [
    "### Train/reference dataset"
   ]
  },
  {
   "cell_type": "code",
   "execution_count": 10,
   "id": "d49a4a2d-c91c-4c48-90fd-e6ab6b355ed6",
   "metadata": {
    "execution": {
     "iopub.execute_input": "2024-06-21T13:46:25.611408Z",
     "iopub.status.busy": "2024-06-21T13:46:25.611180Z",
     "iopub.status.idle": "2024-06-21T13:59:48.955840Z",
     "shell.execute_reply": "2024-06-21T13:59:48.955258Z"
    },
    "papermill": {
     "duration": 803.49581,
     "end_time": "2024-06-21T13:59:49.097139",
     "exception": false,
     "start_time": "2024-06-21T13:46:25.601329",
     "status": "completed"
    },
    "tags": []
   },
   "outputs": [
    {
     "name": "stdout",
     "output_type": "stream",
     "text": [
      "\u001b[34mINFO    \u001b[0m Input AnnData not setup with scvi-tools. attempting to transfer AnnData setup                             \n"
     ]
    },
    {
     "data": {
      "text/plain": [
       "AnnData object with n_obs × n_vars = 4435922 × 8253\n",
       "    obs: 'studyID', 'libraryID', 'sampleID', 'chemistry', 'disease', 'sex', 'binned_age', 'Level1', 'Level2', 'batch', 'cell_type', '_scvi_batch', '_scvi_labels'\n",
       "    uns: '_scvi_uuid', '_scvi_manager_uuid'\n",
       "    obsm: 'latent', 'corrected_latent'"
      ]
     },
     "execution_count": 10,
     "metadata": {},
     "output_type": "execute_result"
    }
   ],
   "source": [
    "adata_scGen = model_scGen.batch_removal()\n",
    "adata_scGen"
   ]
  },
  {
   "cell_type": "code",
   "execution_count": 11,
   "id": "adc78d3f-d325-456d-bf27-83be4fdc8058",
   "metadata": {
    "execution": {
     "iopub.execute_input": "2024-06-21T13:59:49.128675Z",
     "iopub.status.busy": "2024-06-21T13:59:49.128416Z",
     "iopub.status.idle": "2024-06-21T14:00:30.952085Z",
     "shell.execute_reply": "2024-06-21T14:00:30.951378Z"
    },
    "papermill": {
     "duration": 41.835894,
     "end_time": "2024-06-21T14:00:30.953640",
     "exception": false,
     "start_time": "2024-06-21T13:59:49.117746",
     "status": "completed"
    },
    "tags": []
   },
   "outputs": [],
   "source": [
    "pseudobulkTRAIN = aggregating_features(Z=adata_scGen.obsm['corrected_latent'], \n",
    "                     min_observation=0, \n",
    "                     obsDF=adata_scGen.obs[['sampleID','disease','Level1','batch','studyID']], obs_names_col = ['sampleID','Level1'])"
   ]
  },
  {
   "cell_type": "code",
   "execution_count": 12,
   "id": "ae0ea25a",
   "metadata": {
    "execution": {
     "iopub.execute_input": "2024-06-21T14:00:31.039289Z",
     "iopub.status.busy": "2024-06-21T14:00:31.038867Z",
     "iopub.status.idle": "2024-06-21T14:00:31.107865Z",
     "shell.execute_reply": "2024-06-21T14:00:31.107283Z"
    },
    "papermill": {
     "duration": 0.080578,
     "end_time": "2024-06-21T14:00:31.109020",
     "exception": false,
     "start_time": "2024-06-21T14:00:31.028442",
     "status": "completed"
    },
    "tags": []
   },
   "outputs": [
    {
     "name": "stdout",
     "output_type": "stream",
     "text": [
      "File already saved\n"
     ]
    }
   ],
   "source": [
    "outputFilePath = here(f\"03_downstream_analysis/08_PatientClassifier/scGen/results/02_MAIN_scGenIntegrated_PSEUDOBULK_{n_latent}nLT_{batch}_{annotation}\")\n",
    "if os.path.isfile(outputFilePath):\n",
    "    print(\"File already saved\")\n",
    "else:\n",
    "    pseudobulkTRAIN.write(outputFilePath, compression = 'gzip')"
   ]
  },
  {
   "cell_type": "markdown",
   "id": "818a7bd5-6fef-4c48-9671-07b2d322de54",
   "metadata": {
    "papermill": {
     "duration": 0.44101,
     "end_time": "2024-06-21T14:00:31.559423",
     "exception": false,
     "start_time": "2024-06-21T14:00:31.118413",
     "status": "completed"
    },
    "tags": []
   },
   "source": [
    "### Query dataset"
   ]
  },
  {
   "cell_type": "markdown",
   "id": "8ffa01f7-85b1-420d-a2f0-4221f127ee39",
   "metadata": {
    "papermill": {
     "duration": 0.0173,
     "end_time": "2024-06-21T14:00:31.586440",
     "exception": false,
     "start_time": "2024-06-21T14:00:31.569140",
     "status": "completed"
    },
    "tags": []
   },
   "source": [
    "**Extracting the NOT batch-corrected embedding**"
   ]
  },
  {
   "cell_type": "code",
   "execution_count": 13,
   "id": "76188306-e527-4d28-96c5-cab54837137c",
   "metadata": {
    "execution": {
     "iopub.execute_input": "2024-06-21T14:00:31.815278Z",
     "iopub.status.busy": "2024-06-21T14:00:31.814952Z",
     "iopub.status.idle": "2024-06-21T14:04:20.105795Z",
     "shell.execute_reply": "2024-06-21T14:04:20.105105Z"
    },
    "papermill": {
     "duration": 228.527551,
     "end_time": "2024-06-21T14:04:20.137094",
     "exception": false,
     "start_time": "2024-06-21T14:00:31.609543",
     "status": "completed"
    },
    "tags": []
   },
   "outputs": [
    {
     "data": {
      "text/plain": [
       "(4435922, 20)"
      ]
     },
     "execution_count": 13,
     "metadata": {},
     "output_type": "execute_result"
    }
   ],
   "source": [
    "UncorrectedEmbR =  model_scGen.get_latent_representation()\n",
    "UncorrectedEmbR.shape"
   ]
  },
  {
   "cell_type": "markdown",
   "id": "efb82573-e93f-4e3a-804a-75f0e671f4fd",
   "metadata": {
    "papermill": {
     "duration": 0.29494,
     "end_time": "2024-06-21T14:04:20.755790",
     "exception": false,
     "start_time": "2024-06-21T14:04:20.460850",
     "status": "completed"
    },
    "tags": []
   },
   "source": [
    "**Using py NN descent to transfer cell-type labels**"
   ]
  },
  {
   "cell_type": "code",
   "execution_count": 14,
   "id": "404f63bd-3d74-46a3-a276-4ba1bc2082d3",
   "metadata": {
    "execution": {
     "iopub.execute_input": "2024-06-21T14:04:20.802839Z",
     "iopub.status.busy": "2024-06-21T14:04:20.802069Z",
     "iopub.status.idle": "2024-06-21T14:14:50.850476Z",
     "shell.execute_reply": "2024-06-21T14:14:50.849905Z"
    },
    "papermill": {
     "duration": 630.087091,
     "end_time": "2024-06-21T14:14:50.851949",
     "exception": false,
     "start_time": "2024-06-21T14:04:20.764858",
     "status": "completed"
    },
    "tags": []
   },
   "outputs": [],
   "source": [
    "ref_nn_index = pynndescent.NNDescent(UncorrectedEmbR, random_state = random_seed)\n",
    "ref_nn_index.prepare()"
   ]
  },
  {
   "cell_type": "code",
   "execution_count": 15,
   "id": "dbba7c64-7b9f-4952-8ca7-f74e4dca2aba",
   "metadata": {
    "execution": {
     "iopub.execute_input": "2024-06-21T14:14:51.544692Z",
     "iopub.status.busy": "2024-06-21T14:14:51.544467Z",
     "iopub.status.idle": "2024-06-21T14:15:37.531168Z",
     "shell.execute_reply": "2024-06-21T14:15:37.530496Z"
    },
    "papermill": {
     "duration": 46.010065,
     "end_time": "2024-06-21T14:15:37.545193",
     "exception": false,
     "start_time": "2024-06-21T14:14:51.535128",
     "status": "completed"
    },
    "tags": []
   },
   "outputs": [
    {
     "name": "stdout",
     "output_type": "stream",
     "text": [
      "\u001b[34mINFO    \u001b[0m Input AnnData not setup with scvi-tools. attempting to transfer AnnData setup                             \n"
     ]
    },
    {
     "data": {
      "text/plain": [
       "(849922, 20)"
      ]
     },
     "execution_count": 15,
     "metadata": {},
     "output_type": "execute_result"
    }
   ],
   "source": [
    "UncorrectedEmbQ = model_scGen.get_latent_representation(adataQ)\n",
    "UncorrectedEmbQ.shape"
   ]
  },
  {
   "cell_type": "code",
   "execution_count": 16,
   "id": "b2628e38-1e63-4755-82b7-920cb2b0f580",
   "metadata": {
    "execution": {
     "iopub.execute_input": "2024-06-21T14:15:37.568802Z",
     "iopub.status.busy": "2024-06-21T14:15:37.568478Z",
     "iopub.status.idle": "2024-06-21T14:16:11.133001Z",
     "shell.execute_reply": "2024-06-21T14:16:11.132256Z"
    },
    "papermill": {
     "duration": 33.57818,
     "end_time": "2024-06-21T14:16:11.134549",
     "exception": false,
     "start_time": "2024-06-21T14:15:37.556369",
     "status": "completed"
    },
    "tags": []
   },
   "outputs": [],
   "source": [
    "ref_neighbors, ref_distances = ref_nn_index.query(UncorrectedEmbQ)"
   ]
  },
  {
   "cell_type": "code",
   "execution_count": 17,
   "id": "be69d153-9f4d-4fd1-aed8-d0b4d71be867",
   "metadata": {
    "execution": {
     "iopub.execute_input": "2024-06-21T14:16:11.163257Z",
     "iopub.status.busy": "2024-06-21T14:16:11.162982Z",
     "iopub.status.idle": "2024-06-21T14:16:11.868520Z",
     "shell.execute_reply": "2024-06-21T14:16:11.867957Z"
    },
    "papermill": {
     "duration": 0.717363,
     "end_time": "2024-06-21T14:16:11.870032",
     "exception": false,
     "start_time": "2024-06-21T14:16:11.152669",
     "status": "completed"
    },
    "tags": []
   },
   "outputs": [],
   "source": [
    "# convert distances to affinities\n",
    "stds = np.std(ref_distances, axis=1)\n",
    "stds = (2.0 / stds) ** 2 # gaussian distribution\n",
    "stds = stds.reshape(-1, 1)\n",
    "ref_distances_tilda = np.exp(-np.true_divide(ref_distances, stds))\n",
    "weights = ref_distances_tilda / np.sum(ref_distances_tilda, axis=1, keepdims=True)"
   ]
  },
  {
   "cell_type": "code",
   "execution_count": 18,
   "id": "d9665872-e3e9-4159-aa89-e2f02199bc29",
   "metadata": {
    "execution": {
     "iopub.execute_input": "2024-06-21T14:16:11.893259Z",
     "iopub.status.busy": "2024-06-21T14:16:11.893018Z",
     "iopub.status.idle": "2024-06-21T14:16:11.952766Z",
     "shell.execute_reply": "2024-06-21T14:16:11.952219Z"
    },
    "papermill": {
     "duration": 0.071621,
     "end_time": "2024-06-21T14:16:11.954279",
     "exception": false,
     "start_time": "2024-06-21T14:16:11.882658",
     "status": "completed"
    },
    "tags": []
   },
   "outputs": [],
   "source": [
    "import numba\n",
    "@numba.njit\n",
    "def weighted_prediction(weights, ref_cats):\n",
    "    \"\"\"Get highest weight category.\"\"\"\n",
    "    N = len(weights)\n",
    "    predictions = np.zeros((N,), dtype=ref_cats.dtype)\n",
    "    uncertainty = np.zeros((N,))\n",
    "    for i in range(N):\n",
    "        obs_weights = weights[i]\n",
    "        obs_cats = ref_cats[i]\n",
    "        best_prob = 0\n",
    "        for c in np.unique(obs_cats):\n",
    "            cand_prob = np.sum(obs_weights[obs_cats == c])\n",
    "            if cand_prob > best_prob:\n",
    "                best_prob = cand_prob\n",
    "                predictions[i] = c\n",
    "                uncertainty[i] = max(1 - best_prob, 0)\n",
    "\n",
    "    return predictions, uncertainty"
   ]
  },
  {
   "cell_type": "code",
   "execution_count": 19,
   "id": "d96ec443-9e7c-4143-86f9-99ac958d4e91",
   "metadata": {
    "execution": {
     "iopub.execute_input": "2024-06-21T14:16:11.974865Z",
     "iopub.status.busy": "2024-06-21T14:16:11.974630Z",
     "iopub.status.idle": "2024-06-21T14:16:17.331897Z",
     "shell.execute_reply": "2024-06-21T14:16:17.331320Z"
    },
    "papermill": {
     "duration": 5.369229,
     "end_time": "2024-06-21T14:16:17.333367",
     "exception": false,
     "start_time": "2024-06-21T14:16:11.964138",
     "status": "completed"
    },
    "tags": []
   },
   "outputs": [],
   "source": [
    "# for each annotation level, get prediction and uncertainty\n",
    "label_keys = ['Level1','Level2','disease']\n",
    "for l in label_keys:\n",
    "    ref_cats = model_scGen.adata.obs[l].cat.codes.to_numpy()[ref_neighbors]\n",
    "    p, u = weighted_prediction(weights, ref_cats)\n",
    "    p = np.asarray(model_scGen.adata.obs[l].cat.categories)[p]\n",
    "    adataQ.obs[l + \"_pred\"], adataQ.obs[l + \"_uncertainty\"] = p, u"
   ]
  },
  {
   "cell_type": "markdown",
   "id": "c658256b-6a21-4ed4-b416-94ca1412548c",
   "metadata": {
    "papermill": {
     "duration": 0.008932,
     "end_time": "2024-06-21T14:16:17.355263",
     "exception": false,
     "start_time": "2024-06-21T14:16:17.346331",
     "status": "completed"
    },
    "tags": []
   },
   "source": [
    "We also compute the accuracy of trasnfering the disease label to each cells"
   ]
  },
  {
   "cell_type": "code",
   "execution_count": 20,
   "id": "58ccf15a-d81c-4675-a45f-619aa47a0471",
   "metadata": {
    "execution": {
     "iopub.execute_input": "2024-06-21T14:16:17.377442Z",
     "iopub.status.busy": "2024-06-21T14:16:17.377196Z",
     "iopub.status.idle": "2024-06-21T14:16:17.658929Z",
     "shell.execute_reply": "2024-06-21T14:16:17.658252Z"
    },
    "papermill": {
     "duration": 0.294124,
     "end_time": "2024-06-21T14:16:17.660460",
     "exception": false,
     "start_time": "2024-06-21T14:16:17.366336",
     "status": "completed"
    },
    "tags": []
   },
   "outputs": [
    {
     "data": {
      "image/png": "[encoded data removed]",
      "text/plain": [
       "<Figure size 400x400 with 1 Axes>"
      ]
     },
     "metadata": {
      "image/png": {
       "height": 352,
       "width": 417
      }
     },
     "output_type": "display_data"
    }
   ],
   "source": [
    "adataQ.obs.Level1_uncertainty.hist(bins=50)\n",
    "plt.show()"
   ]
  },
  {
   "cell_type": "code",
   "execution_count": 21,
   "id": "37180dd1-2008-4ab6-a128-0a8f28b650cf",
   "metadata": {
    "execution": {
     "iopub.execute_input": "2024-06-21T14:16:17.702910Z",
     "iopub.status.busy": "2024-06-21T14:16:17.702683Z",
     "iopub.status.idle": "2024-06-21T14:16:56.426049Z",
     "shell.execute_reply": "2024-06-21T14:16:56.425340Z"
    },
    "papermill": {
     "duration": 38.750945,
     "end_time": "2024-06-21T14:16:56.427540",
     "exception": false,
     "start_time": "2024-06-21T14:16:17.676595",
     "status": "completed"
    },
    "tags": []
   },
   "outputs": [],
   "source": [
    "BASlist = []\n",
    "\n",
    "thrValues = np.arange(np.min(adataQ.obs[f\"{annotation}_uncertainty\"]), np.max(adataQ.obs[f\"{annotation}_uncertainty\"]), 0.05)\n",
    "\n",
    "for cell_uncThr in thrValues:\n",
    "  \n",
    "    diseaseBAS = balanced_accuracy_score(y_pred=adataQ.obs.query(f\"{annotation}_uncertainty < @cell_uncThr\")['disease_pred'], \n",
    "                                         y_true=adataQ.obs.query(f\"{annotation}_uncertainty < @cell_uncThr\")['disease'])\n",
    "    BASlist.append(diseaseBAS)\n",
    "    #print(f\"Balance accuracy score for disease prediction at single-cell level = {diseaseBAS}, when uncertanty lower than {disease_uncThr}\")"
   ]
  },
  {
   "cell_type": "code",
   "execution_count": 22,
   "id": "a3ed052a-5be7-4ff8-a09c-87aee868cdae",
   "metadata": {
    "execution": {
     "iopub.execute_input": "2024-06-21T14:16:56.486550Z",
     "iopub.status.busy": "2024-06-21T14:16:56.486267Z",
     "iopub.status.idle": "2024-06-21T14:16:57.126875Z",
     "shell.execute_reply": "2024-06-21T14:16:57.126429Z"
    },
    "papermill": {
     "duration": 0.653655,
     "end_time": "2024-06-21T14:16:57.127963",
     "exception": false,
     "start_time": "2024-06-21T14:16:56.474308",
     "status": "completed"
    },
    "tags": []
   },
   "outputs": [
    {
     "data": {
      "image/png": "[encoded data removed]",
      "text/plain": [
       "<Figure size 400x400 with 1 Axes>"
      ]
     },
     "metadata": {
      "image/png": {
       "height": 377,
       "width": 421
      }
     },
     "output_type": "display_data"
    }
   ],
   "source": [
    "plt.scatter(thrValues, BASlist)\n",
    "plt.xlabel('transfer label uncertainty')\n",
    "plt.ylabel('Balanced accuracy score')\n",
    "plt.show()"
   ]
  },
  {
   "cell_type": "markdown",
   "id": "e344160b-ea94-4581-915b-94e4c645d575",
   "metadata": {
    "papermill": {
     "duration": 0.038875,
     "end_time": "2024-06-21T14:16:57.182382",
     "exception": false,
     "start_time": "2024-06-21T14:16:57.143507",
     "status": "completed"
    },
    "tags": []
   },
   "source": [
    "**Learning the batch correction deltas**"
   ]
  },
  {
   "cell_type": "code",
   "execution_count": 23,
   "id": "6fd1cf6f-d1ca-44cb-858a-88491688ebca",
   "metadata": {
    "execution": {
     "iopub.execute_input": "2024-06-21T14:16:57.227996Z",
     "iopub.status.busy": "2024-06-21T14:16:57.227750Z",
     "iopub.status.idle": "2024-06-21T14:26:23.111888Z",
     "shell.execute_reply": "2024-06-21T14:26:23.111276Z"
    },
    "papermill": {
     "duration": 565.90204,
     "end_time": "2024-06-21T14:26:23.113041",
     "exception": false,
     "start_time": "2024-06-21T14:16:57.211001",
     "status": "completed"
    },
    "tags": []
   },
   "outputs": [
    {
     "name": "stderr",
     "output_type": "stream",
     "text": [
      "\r",
      "  0%|          | 0/256 [00:00<?, ?it/s]"
     ]
    },
    {
     "name": "stderr",
     "output_type": "stream",
     "text": [
      "\r",
      "  0%|          | 1/256 [00:03<13:40,  3.22s/it]"
     ]
    },
    {
     "name": "stderr",
     "output_type": "stream",
     "text": [
      "\r",
      "  1%|          | 2/256 [00:04<08:36,  2.03s/it]"
     ]
    },
    {
     "name": "stderr",
     "output_type": "stream",
     "text": [
      "\r",
      "  1%|          | 3/256 [00:05<07:12,  1.71s/it]"
     ]
    },
    {
     "name": "stderr",
     "output_type": "stream",
     "text": [
      "\r",
      "  2%|▏         | 4/256 [00:07<06:53,  1.64s/it]"
     ]
    },
    {
     "name": "stderr",
     "output_type": "stream",
     "text": [
      "\r",
      "  2%|▏         | 5/256 [00:08<06:27,  1.55s/it]"
     ]
    },
    {
     "name": "stderr",
     "output_type": "stream",
     "text": [
      "\r",
      "  2%|▏         | 6/256 [00:10<06:13,  1.50s/it]"
     ]
    },
    {
     "name": "stderr",
     "output_type": "stream",
     "text": [
      "\r",
      "  3%|▎         | 7/256 [00:11<05:55,  1.43s/it]"
     ]
    },
    {
     "name": "stderr",
     "output_type": "stream",
     "text": [
      "\r",
      "  3%|▎         | 8/256 [00:12<05:51,  1.42s/it]"
     ]
    },
    {
     "name": "stderr",
     "output_type": "stream",
     "text": [
      "\r",
      "  4%|▎         | 9/256 [00:14<05:42,  1.39s/it]"
     ]
    },
    {
     "name": "stderr",
     "output_type": "stream",
     "text": [
      "\r",
      "  4%|▍         | 10/256 [00:15<05:47,  1.41s/it]"
     ]
    },
    {
     "name": "stderr",
     "output_type": "stream",
     "text": [
      "\r",
      "  4%|▍         | 11/256 [00:16<05:38,  1.38s/it]"
     ]
    },
    {
     "name": "stderr",
     "output_type": "stream",
     "text": [
      "\r",
      "  5%|▍         | 12/256 [00:18<05:41,  1.40s/it]"
     ]
    },
    {
     "name": "stderr",
     "output_type": "stream",
     "text": [
      "\r",
      "  5%|▌         | 13/256 [00:19<05:31,  1.36s/it]"
     ]
    },
    {
     "name": "stderr",
     "output_type": "stream",
     "text": [
      "\r",
      "  5%|▌         | 14/256 [00:20<05:20,  1.33s/it]"
     ]
    },
    {
     "name": "stderr",
     "output_type": "stream",
     "text": [
      "\r",
      "  6%|▌         | 15/256 [00:22<05:17,  1.32s/it]"
     ]
    },
    {
     "name": "stderr",
     "output_type": "stream",
     "text": [
      "\r",
      "  6%|▋         | 16/256 [00:23<05:25,  1.36s/it]"
     ]
    },
    {
     "name": "stderr",
     "output_type": "stream",
     "text": [
      "\r",
      "  7%|▋         | 17/256 [00:24<05:30,  1.38s/it]"
     ]
    },
    {
     "name": "stderr",
     "output_type": "stream",
     "text": [
      "\r",
      "  7%|▋         | 18/256 [00:26<05:31,  1.39s/it]"
     ]
    },
    {
     "name": "stderr",
     "output_type": "stream",
     "text": [
      "\r",
      "  7%|▋         | 19/256 [00:27<05:25,  1.37s/it]"
     ]
    },
    {
     "name": "stderr",
     "output_type": "stream",
     "text": [
      "\r",
      "  8%|▊         | 20/256 [00:29<05:20,  1.36s/it]"
     ]
    },
    {
     "name": "stderr",
     "output_type": "stream",
     "text": [
      "\r",
      "  8%|▊         | 21/256 [00:30<05:01,  1.28s/it]"
     ]
    },
    {
     "name": "stderr",
     "output_type": "stream",
     "text": [
      "\r",
      "  9%|▊         | 22/256 [00:31<04:41,  1.20s/it]"
     ]
    },
    {
     "name": "stderr",
     "output_type": "stream",
     "text": [
      "\r",
      "  9%|▉         | 23/256 [00:32<04:28,  1.15s/it]"
     ]
    },
    {
     "name": "stderr",
     "output_type": "stream",
     "text": [
      "\r",
      "  9%|▉         | 24/256 [00:33<04:30,  1.16s/it]"
     ]
    },
    {
     "name": "stderr",
     "output_type": "stream",
     "text": [
      "\r",
      " 10%|▉         | 25/256 [00:34<04:33,  1.19s/it]"
     ]
    },
    {
     "name": "stderr",
     "output_type": "stream",
     "text": [
      "\r",
      " 10%|█         | 26/256 [00:35<04:32,  1.19s/it]"
     ]
    },
    {
     "name": "stderr",
     "output_type": "stream",
     "text": [
      "\r",
      " 11%|█         | 27/256 [00:36<04:28,  1.17s/it]"
     ]
    },
    {
     "name": "stderr",
     "output_type": "stream",
     "text": [
      "\r",
      " 11%|█         | 28/256 [00:38<04:37,  1.22s/it]"
     ]
    },
    {
     "name": "stderr",
     "output_type": "stream",
     "text": [
      "\r",
      " 11%|█▏        | 29/256 [00:39<04:38,  1.22s/it]"
     ]
    },
    {
     "name": "stderr",
     "output_type": "stream",
     "text": [
      "\r",
      " 12%|█▏        | 30/256 [00:40<04:33,  1.21s/it]"
     ]
    },
    {
     "name": "stderr",
     "output_type": "stream",
     "text": [
      "\r",
      " 12%|█▏        | 31/256 [00:41<04:34,  1.22s/it]"
     ]
    },
    {
     "name": "stderr",
     "output_type": "stream",
     "text": [
      "\r",
      " 12%|█▎        | 32/256 [00:43<04:36,  1.24s/it]"
     ]
    },
    {
     "name": "stderr",
     "output_type": "stream",
     "text": [
      "\r",
      " 13%|█▎        | 33/256 [00:44<04:19,  1.16s/it]"
     ]
    },
    {
     "name": "stderr",
     "output_type": "stream",
     "text": [
      "\r",
      " 13%|█▎        | 34/256 [00:45<04:06,  1.11s/it]"
     ]
    },
    {
     "name": "stderr",
     "output_type": "stream",
     "text": [
      "\r",
      " 14%|█▎        | 35/256 [00:46<03:59,  1.09s/it]"
     ]
    },
    {
     "name": "stderr",
     "output_type": "stream",
     "text": [
      "\r",
      " 14%|█▍        | 36/256 [00:47<03:54,  1.07s/it]"
     ]
    },
    {
     "name": "stderr",
     "output_type": "stream",
     "text": [
      "\r",
      " 14%|█▍        | 37/256 [00:48<03:52,  1.06s/it]"
     ]
    },
    {
     "name": "stderr",
     "output_type": "stream",
     "text": [
      "\r",
      " 15%|█▍        | 38/256 [00:49<03:43,  1.03s/it]"
     ]
    },
    {
     "name": "stderr",
     "output_type": "stream",
     "text": [
      "\r",
      " 15%|█▌        | 39/256 [00:50<03:42,  1.03s/it]"
     ]
    },
    {
     "name": "stderr",
     "output_type": "stream",
     "text": [
      "\r",
      " 16%|█▌        | 40/256 [00:51<03:44,  1.04s/it]"
     ]
    },
    {
     "name": "stderr",
     "output_type": "stream",
     "text": [
      "\r",
      " 16%|█▌        | 41/256 [00:52<03:58,  1.11s/it]"
     ]
    },
    {
     "name": "stderr",
     "output_type": "stream",
     "text": [
      "\r",
      " 16%|█▋        | 42/256 [00:54<04:25,  1.24s/it]"
     ]
    },
    {
     "name": "stderr",
     "output_type": "stream",
     "text": [
      "\r",
      " 17%|█▋        | 43/256 [00:55<04:28,  1.26s/it]"
     ]
    },
    {
     "name": "stderr",
     "output_type": "stream",
     "text": [
      "\r",
      " 17%|█▋        | 44/256 [00:56<04:32,  1.28s/it]"
     ]
    },
    {
     "name": "stderr",
     "output_type": "stream",
     "text": [
      "\r",
      " 18%|█▊        | 45/256 [00:57<04:07,  1.17s/it]"
     ]
    },
    {
     "name": "stderr",
     "output_type": "stream",
     "text": [
      "\r",
      " 18%|█▊        | 46/256 [00:58<03:53,  1.11s/it]"
     ]
    },
    {
     "name": "stderr",
     "output_type": "stream",
     "text": [
      "\r",
      " 18%|█▊        | 47/256 [00:59<03:37,  1.04s/it]"
     ]
    },
    {
     "name": "stderr",
     "output_type": "stream",
     "text": [
      "\r",
      " 19%|█▉        | 48/256 [01:00<03:33,  1.03s/it]"
     ]
    },
    {
     "name": "stderr",
     "output_type": "stream",
     "text": [
      "\r",
      " 19%|█▉        | 49/256 [01:01<03:22,  1.02it/s]"
     ]
    },
    {
     "name": "stderr",
     "output_type": "stream",
     "text": [
      "\r",
      " 20%|█▉        | 50/256 [01:02<03:15,  1.05it/s]"
     ]
    },
    {
     "name": "stderr",
     "output_type": "stream",
     "text": [
      "\r",
      " 20%|█▉        | 51/256 [01:03<03:12,  1.06it/s]"
     ]
    },
    {
     "name": "stderr",
     "output_type": "stream",
     "text": [
      "\r",
      " 20%|██        | 52/256 [01:04<03:14,  1.05it/s]"
     ]
    },
    {
     "name": "stderr",
     "output_type": "stream",
     "text": [
      "\r",
      " 21%|██        | 53/256 [01:05<03:18,  1.02it/s]"
     ]
    },
    {
     "name": "stderr",
     "output_type": "stream",
     "text": [
      "\r",
      " 21%|██        | 54/256 [01:06<03:20,  1.01it/s]"
     ]
    },
    {
     "name": "stderr",
     "output_type": "stream",
     "text": [
      "\r",
      " 21%|██▏       | 55/256 [01:07<03:14,  1.03it/s]"
     ]
    },
    {
     "name": "stderr",
     "output_type": "stream",
     "text": [
      "\r",
      " 22%|██▏       | 56/256 [01:08<03:12,  1.04it/s]"
     ]
    },
    {
     "name": "stderr",
     "output_type": "stream",
     "text": [
      "\r",
      " 22%|██▏       | 57/256 [01:09<03:11,  1.04it/s]"
     ]
    },
    {
     "name": "stderr",
     "output_type": "stream",
     "text": [
      "\r",
      " 23%|██▎       | 58/256 [01:10<03:16,  1.01it/s]"
     ]
    },
    {
     "name": "stderr",
     "output_type": "stream",
     "text": [
      "\r",
      " 23%|██▎       | 59/256 [01:11<03:12,  1.02it/s]"
     ]
    },
    {
     "name": "stderr",
     "output_type": "stream",
     "text": [
      "\r",
      " 23%|██▎       | 60/256 [01:12<03:16,  1.00s/it]"
     ]
    },
    {
     "name": "stderr",
     "output_type": "stream",
     "text": [
      "\r",
      " 24%|██▍       | 61/256 [01:13<03:23,  1.04s/it]"
     ]
    },
    {
     "name": "stderr",
     "output_type": "stream",
     "text": [
      "\r",
      " 24%|██▍       | 62/256 [01:14<03:22,  1.04s/it]"
     ]
    },
    {
     "name": "stderr",
     "output_type": "stream",
     "text": [
      "\r",
      " 25%|██▍       | 63/256 [01:15<03:21,  1.04s/it]"
     ]
    },
    {
     "name": "stderr",
     "output_type": "stream",
     "text": [
      "\r",
      " 25%|██▌       | 64/256 [01:16<03:23,  1.06s/it]"
     ]
    },
    {
     "name": "stderr",
     "output_type": "stream",
     "text": [
      "\r",
      " 25%|██▌       | 65/256 [01:17<03:14,  1.02s/it]"
     ]
    },
    {
     "name": "stderr",
     "output_type": "stream",
     "text": [
      "\r",
      " 26%|██▌       | 66/256 [01:18<03:07,  1.01it/s]"
     ]
    },
    {
     "name": "stderr",
     "output_type": "stream",
     "text": [
      "\r",
      " 26%|██▌       | 67/256 [01:19<03:06,  1.01it/s]"
     ]
    },
    {
     "name": "stderr",
     "output_type": "stream",
     "text": [
      "\r",
      " 27%|██▋       | 68/256 [01:20<03:01,  1.04it/s]"
     ]
    },
    {
     "name": "stderr",
     "output_type": "stream",
     "text": [
      "\r",
      " 27%|██▋       | 69/256 [01:21<03:37,  1.16s/it]"
     ]
    },
    {
     "name": "stderr",
     "output_type": "stream",
     "text": [
      "\r",
      " 27%|██▋       | 70/256 [01:23<03:48,  1.23s/it]"
     ]
    },
    {
     "name": "stderr",
     "output_type": "stream",
     "text": [
      "\r",
      " 28%|██▊       | 71/256 [01:24<04:07,  1.34s/it]"
     ]
    },
    {
     "name": "stderr",
     "output_type": "stream",
     "text": [
      "\r",
      " 28%|██▊       | 72/256 [01:26<04:23,  1.43s/it]"
     ]
    },
    {
     "name": "stderr",
     "output_type": "stream",
     "text": [
      "\r",
      " 29%|██▊       | 73/256 [01:28<05:05,  1.67s/it]"
     ]
    },
    {
     "name": "stderr",
     "output_type": "stream",
     "text": [
      "\r",
      " 29%|██▉       | 74/256 [01:30<05:24,  1.79s/it]"
     ]
    },
    {
     "name": "stderr",
     "output_type": "stream",
     "text": [
      "\r",
      " 29%|██▉       | 75/256 [01:33<06:07,  2.03s/it]"
     ]
    },
    {
     "name": "stderr",
     "output_type": "stream",
     "text": [
      "\r",
      " 30%|██▉       | 76/256 [01:35<06:32,  2.18s/it]"
     ]
    },
    {
     "name": "stderr",
     "output_type": "stream",
     "text": [
      "\r",
      " 30%|███       | 77/256 [01:37<05:41,  1.91s/it]"
     ]
    },
    {
     "name": "stderr",
     "output_type": "stream",
     "text": [
      "\r",
      " 30%|███       | 78/256 [01:38<05:12,  1.75s/it]"
     ]
    },
    {
     "name": "stderr",
     "output_type": "stream",
     "text": [
      "\r",
      " 31%|███       | 79/256 [01:40<04:58,  1.69s/it]"
     ]
    },
    {
     "name": "stderr",
     "output_type": "stream",
     "text": [
      "\r",
      " 31%|███▏      | 80/256 [01:41<04:44,  1.61s/it]"
     ]
    },
    {
     "name": "stderr",
     "output_type": "stream",
     "text": [
      "\r",
      " 32%|███▏      | 81/256 [01:43<04:37,  1.59s/it]"
     ]
    },
    {
     "name": "stderr",
     "output_type": "stream",
     "text": [
      "\r",
      " 32%|███▏      | 82/256 [01:44<04:31,  1.56s/it]"
     ]
    },
    {
     "name": "stderr",
     "output_type": "stream",
     "text": [
      "\r",
      " 32%|███▏      | 83/256 [01:46<04:26,  1.54s/it]"
     ]
    },
    {
     "name": "stderr",
     "output_type": "stream",
     "text": [
      "\r",
      " 33%|███▎      | 84/256 [01:47<04:26,  1.55s/it]"
     ]
    },
    {
     "name": "stderr",
     "output_type": "stream",
     "text": [
      "\r",
      " 33%|███▎      | 85/256 [01:49<04:37,  1.62s/it]"
     ]
    },
    {
     "name": "stderr",
     "output_type": "stream",
     "text": [
      "\r",
      " 34%|███▎      | 86/256 [01:51<05:22,  1.90s/it]"
     ]
    },
    {
     "name": "stderr",
     "output_type": "stream",
     "text": [
      "\r",
      " 34%|███▍      | 87/256 [01:54<05:30,  1.95s/it]"
     ]
    },
    {
     "name": "stderr",
     "output_type": "stream",
     "text": [
      "\r",
      " 34%|███▍      | 88/256 [01:55<05:25,  1.94s/it]"
     ]
    },
    {
     "name": "stderr",
     "output_type": "stream",
     "text": [
      "\r",
      " 35%|███▍      | 89/256 [01:57<04:52,  1.75s/it]"
     ]
    },
    {
     "name": "stderr",
     "output_type": "stream",
     "text": [
      "\r",
      " 35%|███▌      | 90/256 [01:58<04:27,  1.61s/it]"
     ]
    },
    {
     "name": "stderr",
     "output_type": "stream",
     "text": [
      "\r",
      " 36%|███▌      | 91/256 [01:59<04:09,  1.51s/it]"
     ]
    },
    {
     "name": "stderr",
     "output_type": "stream",
     "text": [
      "\r",
      " 36%|███▌      | 92/256 [02:01<04:11,  1.53s/it]"
     ]
    },
    {
     "name": "stderr",
     "output_type": "stream",
     "text": [
      "\r",
      " 36%|███▋      | 93/256 [02:03<04:37,  1.70s/it]"
     ]
    },
    {
     "name": "stderr",
     "output_type": "stream",
     "text": [
      "\r",
      " 37%|███▋      | 94/256 [02:05<04:39,  1.72s/it]"
     ]
    },
    {
     "name": "stderr",
     "output_type": "stream",
     "text": [
      "\r",
      " 37%|███▋      | 95/256 [02:07<04:42,  1.75s/it]"
     ]
    },
    {
     "name": "stderr",
     "output_type": "stream",
     "text": [
      "\r",
      " 38%|███▊      | 96/256 [02:09<04:48,  1.81s/it]"
     ]
    },
    {
     "name": "stderr",
     "output_type": "stream",
     "text": [
      "\r",
      " 38%|███▊      | 97/256 [02:10<04:26,  1.68s/it]"
     ]
    },
    {
     "name": "stderr",
     "output_type": "stream",
     "text": [
      "\r",
      " 38%|███▊      | 98/256 [02:11<04:09,  1.58s/it]"
     ]
    },
    {
     "name": "stderr",
     "output_type": "stream",
     "text": [
      "\r",
      " 39%|███▊      | 99/256 [02:12<03:49,  1.46s/it]"
     ]
    },
    {
     "name": "stderr",
     "output_type": "stream",
     "text": [
      "\r",
      " 39%|███▉      | 100/256 [02:14<03:48,  1.46s/it]"
     ]
    },
    {
     "name": "stderr",
     "output_type": "stream",
     "text": [
      "\r",
      " 39%|███▉      | 101/256 [02:15<03:35,  1.39s/it]"
     ]
    },
    {
     "name": "stderr",
     "output_type": "stream",
     "text": [
      "\r",
      " 40%|███▉      | 102/256 [02:16<03:30,  1.37s/it]"
     ]
    },
    {
     "name": "stderr",
     "output_type": "stream",
     "text": [
      "\r",
      " 40%|████      | 103/256 [02:18<03:21,  1.31s/it]"
     ]
    },
    {
     "name": "stderr",
     "output_type": "stream",
     "text": [
      "\r",
      " 41%|████      | 104/256 [02:19<03:23,  1.34s/it]"
     ]
    },
    {
     "name": "stderr",
     "output_type": "stream",
     "text": [
      "\r",
      " 41%|████      | 105/256 [02:20<03:14,  1.29s/it]"
     ]
    },
    {
     "name": "stderr",
     "output_type": "stream",
     "text": [
      "\r",
      " 41%|████▏     | 106/256 [02:21<03:05,  1.24s/it]"
     ]
    },
    {
     "name": "stderr",
     "output_type": "stream",
     "text": [
      "\r",
      " 42%|████▏     | 107/256 [02:23<03:05,  1.24s/it]"
     ]
    },
    {
     "name": "stderr",
     "output_type": "stream",
     "text": [
      "\r",
      " 42%|████▏     | 108/256 [02:24<03:01,  1.23s/it]"
     ]
    },
    {
     "name": "stderr",
     "output_type": "stream",
     "text": [
      "\r",
      " 43%|████▎     | 109/256 [02:25<02:51,  1.17s/it]"
     ]
    },
    {
     "name": "stderr",
     "output_type": "stream",
     "text": [
      "\r",
      " 43%|████▎     | 110/256 [02:26<02:44,  1.13s/it]"
     ]
    },
    {
     "name": "stderr",
     "output_type": "stream",
     "text": [
      "\r",
      " 43%|████▎     | 111/256 [02:27<02:43,  1.13s/it]"
     ]
    },
    {
     "name": "stderr",
     "output_type": "stream",
     "text": [
      "\r",
      " 44%|████▍     | 112/256 [02:28<02:41,  1.12s/it]"
     ]
    },
    {
     "name": "stderr",
     "output_type": "stream",
     "text": [
      "\r",
      " 44%|████▍     | 113/256 [02:29<02:51,  1.20s/it]"
     ]
    },
    {
     "name": "stderr",
     "output_type": "stream",
     "text": [
      "\r",
      " 45%|████▍     | 114/256 [02:31<03:02,  1.29s/it]"
     ]
    },
    {
     "name": "stderr",
     "output_type": "stream",
     "text": [
      "\r",
      " 45%|████▍     | 115/256 [02:32<03:03,  1.30s/it]"
     ]
    },
    {
     "name": "stderr",
     "output_type": "stream",
     "text": [
      "\r",
      " 45%|████▌     | 116/256 [02:34<03:07,  1.34s/it]"
     ]
    },
    {
     "name": "stderr",
     "output_type": "stream",
     "text": [
      "\r",
      " 46%|████▌     | 117/256 [02:35<02:48,  1.21s/it]"
     ]
    },
    {
     "name": "stderr",
     "output_type": "stream",
     "text": [
      "\r",
      " 46%|████▌     | 118/256 [02:36<02:41,  1.17s/it]"
     ]
    },
    {
     "name": "stderr",
     "output_type": "stream",
     "text": [
      "\r",
      " 46%|████▋     | 119/256 [02:37<02:29,  1.09s/it]"
     ]
    },
    {
     "name": "stderr",
     "output_type": "stream",
     "text": [
      "\r",
      " 47%|████▋     | 120/256 [02:38<02:22,  1.05s/it]"
     ]
    },
    {
     "name": "stderr",
     "output_type": "stream",
     "text": [
      "\r",
      " 47%|████▋     | 121/256 [02:38<02:17,  1.02s/it]"
     ]
    },
    {
     "name": "stderr",
     "output_type": "stream",
     "text": [
      "\r",
      " 48%|████▊     | 122/256 [02:40<02:20,  1.05s/it]"
     ]
    },
    {
     "name": "stderr",
     "output_type": "stream",
     "text": [
      "\r",
      " 48%|████▊     | 123/256 [02:41<02:19,  1.05s/it]"
     ]
    },
    {
     "name": "stderr",
     "output_type": "stream",
     "text": [
      "\r",
      " 48%|████▊     | 124/256 [02:42<02:17,  1.04s/it]"
     ]
    },
    {
     "name": "stderr",
     "output_type": "stream",
     "text": [
      "\r",
      " 49%|████▉     | 125/256 [02:43<02:10,  1.00it/s]"
     ]
    },
    {
     "name": "stderr",
     "output_type": "stream",
     "text": [
      "\r",
      " 49%|████▉     | 126/256 [02:43<02:06,  1.03it/s]"
     ]
    },
    {
     "name": "stderr",
     "output_type": "stream",
     "text": [
      "\r",
      " 50%|████▉     | 127/256 [02:44<02:04,  1.04it/s]"
     ]
    },
    {
     "name": "stderr",
     "output_type": "stream",
     "text": [
      "\r",
      " 50%|█████     | 128/256 [02:45<02:01,  1.06it/s]"
     ]
    },
    {
     "name": "stderr",
     "output_type": "stream",
     "text": [
      "\r",
      " 50%|█████     | 129/256 [02:46<01:59,  1.06it/s]"
     ]
    },
    {
     "name": "stderr",
     "output_type": "stream",
     "text": [
      "\r",
      " 51%|█████     | 130/256 [02:47<02:00,  1.05it/s]"
     ]
    },
    {
     "name": "stderr",
     "output_type": "stream",
     "text": [
      "\r",
      " 51%|█████     | 131/256 [02:48<01:57,  1.06it/s]"
     ]
    },
    {
     "name": "stderr",
     "output_type": "stream",
     "text": [
      "\r",
      " 52%|█████▏    | 132/256 [02:49<01:57,  1.05it/s]"
     ]
    },
    {
     "name": "stderr",
     "output_type": "stream",
     "text": [
      "\r",
      " 52%|█████▏    | 133/256 [02:51<02:32,  1.24s/it]"
     ]
    },
    {
     "name": "stderr",
     "output_type": "stream",
     "text": [
      "\r",
      " 52%|█████▏    | 134/256 [02:53<02:55,  1.44s/it]"
     ]
    },
    {
     "name": "stderr",
     "output_type": "stream",
     "text": [
      "\r",
      " 53%|█████▎    | 135/256 [02:55<03:00,  1.49s/it]"
     ]
    },
    {
     "name": "stderr",
     "output_type": "stream",
     "text": [
      "\r",
      " 53%|█████▎    | 136/256 [02:57<03:16,  1.64s/it]"
     ]
    },
    {
     "name": "stderr",
     "output_type": "stream",
     "text": [
      "\r",
      " 54%|█████▎    | 137/256 [02:57<02:50,  1.43s/it]"
     ]
    },
    {
     "name": "stderr",
     "output_type": "stream",
     "text": [
      "\r",
      " 54%|█████▍    | 138/256 [02:58<02:29,  1.27s/it]"
     ]
    },
    {
     "name": "stderr",
     "output_type": "stream",
     "text": [
      "\r",
      " 54%|█████▍    | 139/256 [02:59<02:16,  1.16s/it]"
     ]
    },
    {
     "name": "stderr",
     "output_type": "stream",
     "text": [
      "\r",
      " 55%|█████▍    | 140/256 [03:00<02:06,  1.09s/it]"
     ]
    },
    {
     "name": "stderr",
     "output_type": "stream",
     "text": [
      "\r",
      " 55%|█████▌    | 141/256 [03:02<02:12,  1.15s/it]"
     ]
    },
    {
     "name": "stderr",
     "output_type": "stream",
     "text": [
      "\r",
      " 55%|█████▌    | 142/256 [03:03<02:11,  1.15s/it]"
     ]
    },
    {
     "name": "stderr",
     "output_type": "stream",
     "text": [
      "\r",
      " 56%|█████▌    | 143/256 [03:04<02:06,  1.12s/it]"
     ]
    },
    {
     "name": "stderr",
     "output_type": "stream",
     "text": [
      "\r",
      " 56%|█████▋    | 144/256 [03:05<02:14,  1.20s/it]"
     ]
    },
    {
     "name": "stderr",
     "output_type": "stream",
     "text": [
      "\r",
      " 57%|█████▋    | 145/256 [03:06<02:09,  1.16s/it]"
     ]
    },
    {
     "name": "stderr",
     "output_type": "stream",
     "text": [
      "\r",
      " 57%|█████▋    | 146/256 [03:07<02:06,  1.15s/it]"
     ]
    },
    {
     "name": "stderr",
     "output_type": "stream",
     "text": [
      "\r",
      " 57%|█████▋    | 147/256 [03:09<02:10,  1.19s/it]"
     ]
    },
    {
     "name": "stderr",
     "output_type": "stream",
     "text": [
      "\r",
      " 58%|█████▊    | 148/256 [03:10<02:06,  1.18s/it]"
     ]
    },
    {
     "name": "stderr",
     "output_type": "stream",
     "text": [
      "\r",
      " 58%|█████▊    | 149/256 [03:11<02:16,  1.27s/it]"
     ]
    },
    {
     "name": "stderr",
     "output_type": "stream",
     "text": [
      "\r",
      " 59%|█████▊    | 150/256 [03:13<02:24,  1.36s/it]"
     ]
    },
    {
     "name": "stderr",
     "output_type": "stream",
     "text": [
      "\r",
      " 59%|█████▉    | 151/256 [03:14<02:25,  1.39s/it]"
     ]
    },
    {
     "name": "stderr",
     "output_type": "stream",
     "text": [
      "\r",
      " 59%|█████▉    | 152/256 [03:16<02:29,  1.44s/it]"
     ]
    },
    {
     "name": "stderr",
     "output_type": "stream",
     "text": [
      "\r",
      " 60%|█████▉    | 153/256 [03:17<02:18,  1.34s/it]"
     ]
    },
    {
     "name": "stderr",
     "output_type": "stream",
     "text": [
      "\r",
      " 60%|██████    | 154/256 [03:18<02:06,  1.24s/it]"
     ]
    },
    {
     "name": "stderr",
     "output_type": "stream",
     "text": [
      "\r",
      " 61%|██████    | 155/256 [03:19<01:59,  1.18s/it]"
     ]
    },
    {
     "name": "stderr",
     "output_type": "stream",
     "text": [
      "\r",
      " 61%|██████    | 156/256 [03:20<01:53,  1.13s/it]"
     ]
    },
    {
     "name": "stderr",
     "output_type": "stream",
     "text": [
      "\r",
      " 61%|██████▏   | 157/256 [03:23<02:40,  1.62s/it]"
     ]
    },
    {
     "name": "stderr",
     "output_type": "stream",
     "text": [
      "\r",
      " 62%|██████▏   | 158/256 [03:25<03:11,  1.96s/it]"
     ]
    },
    {
     "name": "stderr",
     "output_type": "stream",
     "text": [
      "\r",
      " 62%|██████▏   | 159/256 [03:28<03:31,  2.18s/it]"
     ]
    },
    {
     "name": "stderr",
     "output_type": "stream",
     "text": [
      "\r",
      " 62%|██████▎   | 160/256 [03:31<03:53,  2.43s/it]"
     ]
    },
    {
     "name": "stderr",
     "output_type": "stream",
     "text": [
      "\r",
      " 63%|██████▎   | 161/256 [03:32<03:15,  2.06s/it]"
     ]
    },
    {
     "name": "stderr",
     "output_type": "stream",
     "text": [
      "\r",
      " 63%|██████▎   | 162/256 [03:34<02:50,  1.81s/it]"
     ]
    },
    {
     "name": "stderr",
     "output_type": "stream",
     "text": [
      "\r",
      " 64%|██████▎   | 163/256 [03:35<02:33,  1.65s/it]"
     ]
    },
    {
     "name": "stderr",
     "output_type": "stream",
     "text": [
      "\r",
      " 64%|██████▍   | 164/256 [03:36<02:23,  1.56s/it]"
     ]
    },
    {
     "name": "stderr",
     "output_type": "stream",
     "text": [
      "\r",
      " 64%|██████▍   | 165/256 [03:38<02:14,  1.48s/it]"
     ]
    },
    {
     "name": "stderr",
     "output_type": "stream",
     "text": [
      "\r",
      " 65%|██████▍   | 166/256 [03:39<02:07,  1.42s/it]"
     ]
    },
    {
     "name": "stderr",
     "output_type": "stream",
     "text": [
      "\r",
      " 65%|██████▌   | 167/256 [03:40<02:00,  1.36s/it]"
     ]
    },
    {
     "name": "stderr",
     "output_type": "stream",
     "text": [
      "\r",
      " 66%|██████▌   | 168/256 [03:41<01:59,  1.36s/it]"
     ]
    },
    {
     "name": "stderr",
     "output_type": "stream",
     "text": [
      "\r",
      " 66%|██████▌   | 169/256 [03:42<01:51,  1.28s/it]"
     ]
    },
    {
     "name": "stderr",
     "output_type": "stream",
     "text": [
      "\r",
      " 66%|██████▋   | 170/256 [03:44<01:44,  1.22s/it]"
     ]
    },
    {
     "name": "stderr",
     "output_type": "stream",
     "text": [
      "\r",
      " 67%|██████▋   | 171/256 [03:45<01:41,  1.20s/it]"
     ]
    },
    {
     "name": "stderr",
     "output_type": "stream",
     "text": [
      "\r",
      " 67%|██████▋   | 172/256 [03:46<01:39,  1.18s/it]"
     ]
    },
    {
     "name": "stderr",
     "output_type": "stream",
     "text": [
      "\r",
      " 68%|██████▊   | 173/256 [03:47<01:37,  1.18s/it]"
     ]
    },
    {
     "name": "stderr",
     "output_type": "stream",
     "text": [
      "\r",
      " 68%|██████▊   | 174/256 [03:48<01:37,  1.18s/it]"
     ]
    },
    {
     "name": "stderr",
     "output_type": "stream",
     "text": [
      "\r",
      " 68%|██████▊   | 175/256 [03:49<01:35,  1.18s/it]"
     ]
    },
    {
     "name": "stderr",
     "output_type": "stream",
     "text": [
      "\r",
      " 69%|██████▉   | 176/256 [03:51<01:35,  1.19s/it]"
     ]
    },
    {
     "name": "stderr",
     "output_type": "stream",
     "text": [
      "\r",
      " 69%|██████▉   | 177/256 [03:52<01:33,  1.19s/it]"
     ]
    },
    {
     "name": "stderr",
     "output_type": "stream",
     "text": [
      "\r",
      " 70%|██████▉   | 178/256 [03:53<01:36,  1.24s/it]"
     ]
    },
    {
     "name": "stderr",
     "output_type": "stream",
     "text": [
      "\r",
      " 70%|██████▉   | 179/256 [03:54<01:37,  1.27s/it]"
     ]
    },
    {
     "name": "stderr",
     "output_type": "stream",
     "text": [
      "\r",
      " 70%|███████   | 180/256 [03:56<01:38,  1.30s/it]"
     ]
    },
    {
     "name": "stderr",
     "output_type": "stream",
     "text": [
      "\r",
      " 71%|███████   | 181/256 [03:57<01:35,  1.27s/it]"
     ]
    },
    {
     "name": "stderr",
     "output_type": "stream",
     "text": [
      "\r",
      " 71%|███████   | 182/256 [03:58<01:35,  1.29s/it]"
     ]
    },
    {
     "name": "stderr",
     "output_type": "stream",
     "text": [
      "\r",
      " 71%|███████▏  | 183/256 [04:00<01:31,  1.25s/it]"
     ]
    },
    {
     "name": "stderr",
     "output_type": "stream",
     "text": [
      "\r",
      " 72%|███████▏  | 184/256 [04:01<01:28,  1.22s/it]"
     ]
    },
    {
     "name": "stderr",
     "output_type": "stream",
     "text": [
      "\r",
      " 72%|███████▏  | 185/256 [04:02<01:21,  1.15s/it]"
     ]
    },
    {
     "name": "stderr",
     "output_type": "stream",
     "text": [
      "\r",
      " 73%|███████▎  | 186/256 [04:03<01:20,  1.15s/it]"
     ]
    },
    {
     "name": "stderr",
     "output_type": "stream",
     "text": [
      "\r",
      " 73%|███████▎  | 187/256 [04:04<01:19,  1.15s/it]"
     ]
    },
    {
     "name": "stderr",
     "output_type": "stream",
     "text": [
      "\r",
      " 73%|███████▎  | 188/256 [04:05<01:20,  1.19s/it]"
     ]
    },
    {
     "name": "stderr",
     "output_type": "stream",
     "text": [
      "\r",
      " 74%|███████▍  | 189/256 [04:07<01:27,  1.30s/it]"
     ]
    },
    {
     "name": "stderr",
     "output_type": "stream",
     "text": [
      "\r",
      " 74%|███████▍  | 190/256 [04:08<01:30,  1.38s/it]"
     ]
    },
    {
     "name": "stderr",
     "output_type": "stream",
     "text": [
      "\r",
      " 75%|███████▍  | 191/256 [04:10<01:29,  1.38s/it]"
     ]
    },
    {
     "name": "stderr",
     "output_type": "stream",
     "text": [
      "\r",
      " 75%|███████▌  | 192/256 [04:11<01:33,  1.47s/it]"
     ]
    },
    {
     "name": "stderr",
     "output_type": "stream",
     "text": [
      "\r",
      " 75%|███████▌  | 193/256 [04:12<01:23,  1.33s/it]"
     ]
    },
    {
     "name": "stderr",
     "output_type": "stream",
     "text": [
      "\r",
      " 76%|███████▌  | 194/256 [04:13<01:17,  1.24s/it]"
     ]
    },
    {
     "name": "stderr",
     "output_type": "stream",
     "text": [
      "\r",
      " 76%|███████▌  | 195/256 [04:15<01:16,  1.25s/it]"
     ]
    },
    {
     "name": "stderr",
     "output_type": "stream",
     "text": [
      "\r",
      " 77%|███████▋  | 196/256 [04:16<01:10,  1.17s/it]"
     ]
    },
    {
     "name": "stderr",
     "output_type": "stream",
     "text": [
      "\r",
      " 77%|███████▋  | 197/256 [04:17<01:05,  1.10s/it]"
     ]
    },
    {
     "name": "stderr",
     "output_type": "stream",
     "text": [
      "\r",
      " 77%|███████▋  | 198/256 [04:18<01:00,  1.04s/it]"
     ]
    },
    {
     "name": "stderr",
     "output_type": "stream",
     "text": [
      "\r",
      " 78%|███████▊  | 199/256 [04:19<00:58,  1.02s/it]"
     ]
    },
    {
     "name": "stderr",
     "output_type": "stream",
     "text": [
      "\r",
      " 78%|███████▊  | 200/256 [04:20<00:56,  1.01s/it]"
     ]
    },
    {
     "name": "stderr",
     "output_type": "stream",
     "text": [
      "\r",
      " 79%|███████▊  | 201/256 [04:21<00:57,  1.04s/it]"
     ]
    },
    {
     "name": "stderr",
     "output_type": "stream",
     "text": [
      "\r",
      " 79%|███████▉  | 202/256 [04:22<00:57,  1.06s/it]"
     ]
    },
    {
     "name": "stderr",
     "output_type": "stream",
     "text": [
      "\r",
      " 79%|███████▉  | 203/256 [04:23<00:56,  1.07s/it]"
     ]
    },
    {
     "name": "stderr",
     "output_type": "stream",
     "text": [
      "\r",
      " 80%|███████▉  | 204/256 [04:24<00:56,  1.09s/it]"
     ]
    },
    {
     "name": "stderr",
     "output_type": "stream",
     "text": [
      "\r",
      " 80%|████████  | 205/256 [04:25<00:52,  1.03s/it]"
     ]
    },
    {
     "name": "stderr",
     "output_type": "stream",
     "text": [
      "\r",
      " 80%|████████  | 206/256 [04:26<00:49,  1.01it/s]"
     ]
    },
    {
     "name": "stderr",
     "output_type": "stream",
     "text": [
      "\r",
      " 81%|████████  | 207/256 [04:27<00:46,  1.06it/s]"
     ]
    },
    {
     "name": "stderr",
     "output_type": "stream",
     "text": [
      "\r",
      " 81%|████████▏ | 208/256 [04:27<00:43,  1.09it/s]"
     ]
    },
    {
     "name": "stderr",
     "output_type": "stream",
     "text": [
      "\r",
      " 82%|████████▏ | 209/256 [04:29<00:47,  1.00s/it]"
     ]
    },
    {
     "name": "stderr",
     "output_type": "stream",
     "text": [
      "\r",
      " 82%|████████▏ | 210/256 [04:30<00:50,  1.10s/it]"
     ]
    },
    {
     "name": "stderr",
     "output_type": "stream",
     "text": [
      "\r",
      " 82%|████████▏ | 211/256 [04:31<00:53,  1.18s/it]"
     ]
    },
    {
     "name": "stderr",
     "output_type": "stream",
     "text": [
      "\r",
      " 83%|████████▎ | 212/256 [04:33<00:51,  1.18s/it]"
     ]
    },
    {
     "name": "stderr",
     "output_type": "stream",
     "text": [
      "\r",
      " 83%|████████▎ | 213/256 [04:34<00:52,  1.22s/it]"
     ]
    },
    {
     "name": "stderr",
     "output_type": "stream",
     "text": [
      "\r",
      " 84%|████████▎ | 214/256 [04:35<00:53,  1.28s/it]"
     ]
    },
    {
     "name": "stderr",
     "output_type": "stream",
     "text": [
      "\r",
      " 84%|████████▍ | 215/256 [04:36<00:51,  1.26s/it]"
     ]
    },
    {
     "name": "stderr",
     "output_type": "stream",
     "text": [
      "\r",
      " 84%|████████▍ | 216/256 [04:38<00:51,  1.28s/it]"
     ]
    },
    {
     "name": "stderr",
     "output_type": "stream",
     "text": [
      "\r",
      " 85%|████████▍ | 217/256 [04:39<00:49,  1.28s/it]"
     ]
    },
    {
     "name": "stderr",
     "output_type": "stream",
     "text": [
      "\r",
      " 85%|████████▌ | 218/256 [04:40<00:49,  1.29s/it]"
     ]
    },
    {
     "name": "stderr",
     "output_type": "stream",
     "text": [
      "\r",
      " 86%|████████▌ | 219/256 [04:42<00:49,  1.33s/it]"
     ]
    },
    {
     "name": "stderr",
     "output_type": "stream",
     "text": [
      "\r",
      " 86%|████████▌ | 220/256 [04:43<00:46,  1.29s/it]"
     ]
    },
    {
     "name": "stderr",
     "output_type": "stream",
     "text": [
      "\r",
      " 86%|████████▋ | 221/256 [04:44<00:41,  1.19s/it]"
     ]
    },
    {
     "name": "stderr",
     "output_type": "stream",
     "text": [
      "\r",
      " 87%|████████▋ | 222/256 [04:45<00:38,  1.15s/it]"
     ]
    },
    {
     "name": "stderr",
     "output_type": "stream",
     "text": [
      "\r",
      " 87%|████████▋ | 223/256 [04:46<00:36,  1.10s/it]"
     ]
    },
    {
     "name": "stderr",
     "output_type": "stream",
     "text": [
      "\r",
      " 88%|████████▊ | 224/256 [04:47<00:33,  1.04s/it]"
     ]
    },
    {
     "name": "stderr",
     "output_type": "stream",
     "text": [
      "\r",
      " 88%|████████▊ | 225/256 [04:48<00:33,  1.07s/it]"
     ]
    },
    {
     "name": "stderr",
     "output_type": "stream",
     "text": [
      "\r",
      " 88%|████████▊ | 226/256 [04:49<00:34,  1.15s/it]"
     ]
    },
    {
     "name": "stderr",
     "output_type": "stream",
     "text": [
      "\r",
      " 89%|████████▊ | 227/256 [04:51<00:33,  1.17s/it]"
     ]
    },
    {
     "name": "stderr",
     "output_type": "stream",
     "text": [
      "\r",
      " 89%|████████▉ | 228/256 [04:52<00:33,  1.21s/it]"
     ]
    },
    {
     "name": "stderr",
     "output_type": "stream",
     "text": [
      "\r",
      " 89%|████████▉ | 229/256 [04:53<00:34,  1.28s/it]"
     ]
    },
    {
     "name": "stderr",
     "output_type": "stream",
     "text": [
      "\r",
      " 90%|████████▉ | 230/256 [04:55<00:35,  1.35s/it]"
     ]
    },
    {
     "name": "stderr",
     "output_type": "stream",
     "text": [
      "\r",
      " 90%|█████████ | 231/256 [04:56<00:34,  1.37s/it]"
     ]
    },
    {
     "name": "stderr",
     "output_type": "stream",
     "text": [
      "\r",
      " 91%|█████████ | 232/256 [04:58<00:36,  1.51s/it]"
     ]
    },
    {
     "name": "stderr",
     "output_type": "stream",
     "text": [
      "\r",
      " 91%|█████████ | 233/256 [04:59<00:30,  1.33s/it]"
     ]
    },
    {
     "name": "stderr",
     "output_type": "stream",
     "text": [
      "\r",
      " 91%|█████████▏| 234/256 [05:00<00:26,  1.20s/it]"
     ]
    },
    {
     "name": "stderr",
     "output_type": "stream",
     "text": [
      "\r",
      " 92%|█████████▏| 235/256 [05:01<00:24,  1.15s/it]"
     ]
    },
    {
     "name": "stderr",
     "output_type": "stream",
     "text": [
      "\r",
      " 92%|█████████▏| 236/256 [05:02<00:21,  1.08s/it]"
     ]
    },
    {
     "name": "stderr",
     "output_type": "stream",
     "text": [
      "\r",
      " 93%|█████████▎| 237/256 [05:03<00:20,  1.06s/it]"
     ]
    },
    {
     "name": "stderr",
     "output_type": "stream",
     "text": [
      "\r",
      " 93%|█████████▎| 238/256 [05:04<00:18,  1.03s/it]"
     ]
    },
    {
     "name": "stderr",
     "output_type": "stream",
     "text": [
      "\r",
      " 93%|█████████▎| 239/256 [05:05<00:17,  1.01s/it]"
     ]
    },
    {
     "name": "stderr",
     "output_type": "stream",
     "text": [
      "\r",
      " 94%|█████████▍| 240/256 [05:06<00:16,  1.02s/it]"
     ]
    },
    {
     "name": "stderr",
     "output_type": "stream",
     "text": [
      "\r",
      " 94%|█████████▍| 241/256 [05:07<00:15,  1.06s/it]"
     ]
    },
    {
     "name": "stderr",
     "output_type": "stream",
     "text": [
      "\r",
      " 95%|█████████▍| 242/256 [05:08<00:15,  1.08s/it]"
     ]
    },
    {
     "name": "stderr",
     "output_type": "stream",
     "text": [
      "\r",
      " 95%|█████████▍| 243/256 [05:09<00:14,  1.13s/it]"
     ]
    },
    {
     "name": "stderr",
     "output_type": "stream",
     "text": [
      "\r",
      " 95%|█████████▌| 244/256 [05:11<00:14,  1.18s/it]"
     ]
    },
    {
     "name": "stderr",
     "output_type": "stream",
     "text": [
      "\r",
      " 96%|█████████▌| 245/256 [05:12<00:13,  1.20s/it]"
     ]
    },
    {
     "name": "stderr",
     "output_type": "stream",
     "text": [
      "\r",
      " 96%|█████████▌| 246/256 [05:13<00:11,  1.20s/it]"
     ]
    },
    {
     "name": "stderr",
     "output_type": "stream",
     "text": [
      "\r",
      " 96%|█████████▋| 247/256 [05:14<00:10,  1.15s/it]"
     ]
    },
    {
     "name": "stderr",
     "output_type": "stream",
     "text": [
      "\r",
      " 97%|█████████▋| 248/256 [05:15<00:09,  1.16s/it]"
     ]
    },
    {
     "name": "stderr",
     "output_type": "stream",
     "text": [
      "\r",
      " 97%|█████████▋| 249/256 [05:17<00:08,  1.20s/it]"
     ]
    },
    {
     "name": "stderr",
     "output_type": "stream",
     "text": [
      "\r",
      " 98%|█████████▊| 250/256 [05:18<00:07,  1.20s/it]"
     ]
    },
    {
     "name": "stderr",
     "output_type": "stream",
     "text": [
      "\r",
      " 98%|█████████▊| 251/256 [05:19<00:06,  1.21s/it]"
     ]
    },
    {
     "name": "stderr",
     "output_type": "stream",
     "text": [
      "\r",
      " 98%|█████████▊| 252/256 [05:20<00:04,  1.24s/it]"
     ]
    },
    {
     "name": "stderr",
     "output_type": "stream",
     "text": [
      "\r",
      " 99%|█████████▉| 253/256 [05:21<00:03,  1.16s/it]"
     ]
    },
    {
     "name": "stderr",
     "output_type": "stream",
     "text": [
      "\r",
      " 99%|█████████▉| 254/256 [05:23<00:02,  1.16s/it]"
     ]
    },
    {
     "name": "stderr",
     "output_type": "stream",
     "text": [
      "\r",
      "100%|█████████▉| 255/256 [05:23<00:01,  1.10s/it]"
     ]
    },
    {
     "name": "stderr",
     "output_type": "stream",
     "text": [
      "\r",
      "100%|██████████| 256/256 [05:24<00:00,  1.07s/it]"
     ]
    },
    {
     "name": "stderr",
     "output_type": "stream",
     "text": [
      "\r",
      "100%|██████████| 256/256 [05:24<00:00,  1.27s/it]"
     ]
    },
    {
     "name": "stderr",
     "output_type": "stream",
     "text": [
      "\n"
     ]
    }
   ],
   "source": [
    "deltas = get_deltas_v2(model_scGen, batchLevels=['cell_type','batch'])"
   ]
  },
  {
   "cell_type": "markdown",
   "id": "137fd474-7ecc-469a-8166-ba6c09528c60",
   "metadata": {
    "papermill": {
     "duration": 0.083314,
     "end_time": "2024-06-21T14:26:23.229926",
     "exception": false,
     "start_time": "2024-06-21T14:26:23.146612",
     "status": "completed"
    },
    "tags": []
   },
   "source": [
    "**Apply the learned deltas on the query data**"
   ]
  },
  {
   "cell_type": "code",
   "execution_count": 24,
   "id": "48d1470a-2dd3-43a0-bc78-966058996406",
   "metadata": {
    "execution": {
     "iopub.execute_input": "2024-06-21T14:26:23.289959Z",
     "iopub.status.busy": "2024-06-21T14:26:23.289711Z",
     "iopub.status.idle": "2024-06-21T14:28:46.011332Z",
     "shell.execute_reply": "2024-06-21T14:28:46.010530Z"
    },
    "papermill": {
     "duration": 142.758186,
     "end_time": "2024-06-21T14:28:46.012912",
     "exception": false,
     "start_time": "2024-06-21T14:26:23.254726",
     "status": "completed"
    },
    "tags": []
   },
   "outputs": [
    {
     "name": "stderr",
     "output_type": "stream",
     "text": [
      "\r",
      "  0%|          | 0/252 [00:00<?, ?it/s]"
     ]
    },
    {
     "name": "stderr",
     "output_type": "stream",
     "text": [
      "\r",
      "  0%|          | 1/252 [00:00<00:45,  5.49it/s]"
     ]
    },
    {
     "name": "stderr",
     "output_type": "stream",
     "text": [
      "\r",
      "  1%|          | 3/252 [00:00<00:28,  8.88it/s]"
     ]
    },
    {
     "name": "stderr",
     "output_type": "stream",
     "text": [
      "\r",
      "  2%|▏         | 5/252 [00:00<00:25,  9.81it/s]"
     ]
    },
    {
     "name": "stderr",
     "output_type": "stream",
     "text": [
      "\r",
      "  3%|▎         | 7/252 [00:00<00:24, 10.03it/s]"
     ]
    },
    {
     "name": "stderr",
     "output_type": "stream",
     "text": [
      "\r",
      "  4%|▎         | 9/252 [00:00<00:24,  9.79it/s]"
     ]
    },
    {
     "name": "stderr",
     "output_type": "stream",
     "text": [
      "\r",
      "  4%|▍         | 10/252 [00:01<00:26,  9.23it/s]"
     ]
    },
    {
     "name": "stderr",
     "output_type": "stream",
     "text": [
      "\r",
      "  4%|▍         | 11/252 [00:01<00:26,  9.26it/s]"
     ]
    },
    {
     "name": "stderr",
     "output_type": "stream",
     "text": [
      "\r",
      "  5%|▌         | 13/252 [00:01<00:23, 10.16it/s]"
     ]
    },
    {
     "name": "stderr",
     "output_type": "stream",
     "text": [
      "\r",
      "  6%|▌         | 15/252 [00:01<00:23, 10.29it/s]"
     ]
    },
    {
     "name": "stderr",
     "output_type": "stream",
     "text": [
      "\r",
      "  7%|▋         | 17/252 [00:01<00:23,  9.90it/s]"
     ]
    },
    {
     "name": "stderr",
     "output_type": "stream",
     "text": [
      "\r",
      "  8%|▊         | 19/252 [00:01<00:23,  9.90it/s]"
     ]
    },
    {
     "name": "stderr",
     "output_type": "stream",
     "text": [
      "\r",
      "  8%|▊         | 20/252 [00:02<00:23,  9.81it/s]"
     ]
    },
    {
     "name": "stderr",
     "output_type": "stream",
     "text": [
      "\r",
      "  8%|▊         | 21/252 [00:02<00:23,  9.73it/s]"
     ]
    },
    {
     "name": "stderr",
     "output_type": "stream",
     "text": [
      "\r",
      "  9%|▉         | 23/252 [00:02<00:23,  9.59it/s]"
     ]
    },
    {
     "name": "stderr",
     "output_type": "stream",
     "text": [
      "\r",
      " 10%|▉         | 25/252 [00:02<00:21, 10.70it/s]"
     ]
    },
    {
     "name": "stderr",
     "output_type": "stream",
     "text": [
      "\r",
      " 11%|█         | 27/252 [00:02<00:21, 10.64it/s]"
     ]
    },
    {
     "name": "stderr",
     "output_type": "stream",
     "text": [
      "\r",
      " 12%|█▏        | 29/252 [00:02<00:22,  9.99it/s]"
     ]
    },
    {
     "name": "stderr",
     "output_type": "stream",
     "text": [
      "\r",
      " 12%|█▏        | 31/252 [00:03<00:21, 10.12it/s]"
     ]
    },
    {
     "name": "stderr",
     "output_type": "stream",
     "text": [
      "\r",
      " 13%|█▎        | 33/252 [00:03<00:20, 10.55it/s]"
     ]
    },
    {
     "name": "stderr",
     "output_type": "stream",
     "text": [
      "\r",
      " 14%|█▍        | 35/252 [00:03<00:21, 10.23it/s]"
     ]
    },
    {
     "name": "stderr",
     "output_type": "stream",
     "text": [
      "\r",
      " 15%|█▍        | 37/252 [00:03<00:20, 10.27it/s]"
     ]
    },
    {
     "name": "stderr",
     "output_type": "stream",
     "text": [
      "\r",
      " 15%|█▌        | 39/252 [00:03<00:20, 10.49it/s]"
     ]
    },
    {
     "name": "stderr",
     "output_type": "stream",
     "text": [
      "\r",
      " 16%|█▋        | 41/252 [00:04<00:19, 10.94it/s]"
     ]
    },
    {
     "name": "stderr",
     "output_type": "stream",
     "text": [
      "\r",
      " 17%|█▋        | 43/252 [00:04<00:19, 10.76it/s]"
     ]
    },
    {
     "name": "stderr",
     "output_type": "stream",
     "text": [
      "\r",
      " 18%|█▊        | 45/252 [00:04<00:18, 11.16it/s]"
     ]
    },
    {
     "name": "stderr",
     "output_type": "stream",
     "text": [
      "\r",
      " 19%|█▊        | 47/252 [00:04<00:17, 11.41it/s]"
     ]
    },
    {
     "name": "stderr",
     "output_type": "stream",
     "text": [
      "\r",
      " 19%|█▉        | 49/252 [00:04<00:18, 11.20it/s]"
     ]
    },
    {
     "name": "stderr",
     "output_type": "stream",
     "text": [
      "\r",
      " 20%|██        | 51/252 [00:04<00:18, 11.04it/s]"
     ]
    },
    {
     "name": "stderr",
     "output_type": "stream",
     "text": [
      "\r",
      " 21%|██        | 53/252 [00:05<00:17, 11.60it/s]"
     ]
    },
    {
     "name": "stderr",
     "output_type": "stream",
     "text": [
      "\r",
      " 22%|██▏       | 55/252 [00:05<00:17, 11.27it/s]"
     ]
    },
    {
     "name": "stderr",
     "output_type": "stream",
     "text": [
      "\r",
      " 23%|██▎       | 57/252 [00:05<00:17, 11.17it/s]"
     ]
    },
    {
     "name": "stderr",
     "output_type": "stream",
     "text": [
      "\r",
      " 23%|██▎       | 59/252 [00:05<00:18, 10.48it/s]"
     ]
    },
    {
     "name": "stderr",
     "output_type": "stream",
     "text": [
      "\r",
      " 24%|██▍       | 61/252 [00:05<00:18, 10.08it/s]"
     ]
    },
    {
     "name": "stderr",
     "output_type": "stream",
     "text": [
      "\r",
      " 25%|██▌       | 63/252 [00:06<00:17, 10.79it/s]"
     ]
    },
    {
     "name": "stderr",
     "output_type": "stream",
     "text": [
      "\r",
      " 26%|██▌       | 65/252 [00:06<00:16, 11.07it/s]"
     ]
    },
    {
     "name": "stderr",
     "output_type": "stream",
     "text": [
      "\r",
      " 27%|██▋       | 67/252 [00:06<00:17, 10.41it/s]"
     ]
    },
    {
     "name": "stderr",
     "output_type": "stream",
     "text": [
      "\r",
      " 27%|██▋       | 69/252 [00:06<00:18,  9.92it/s]"
     ]
    },
    {
     "name": "stderr",
     "output_type": "stream",
     "text": [
      "\r",
      " 28%|██▊       | 71/252 [00:06<00:19,  9.14it/s]"
     ]
    },
    {
     "name": "stderr",
     "output_type": "stream",
     "text": [
      "\r",
      " 29%|██▊       | 72/252 [00:07<00:20,  8.68it/s]"
     ]
    },
    {
     "name": "stderr",
     "output_type": "stream",
     "text": [
      "\r",
      " 29%|██▉       | 73/252 [00:07<00:22,  8.10it/s]"
     ]
    },
    {
     "name": "stderr",
     "output_type": "stream",
     "text": [
      "\r",
      " 29%|██▉       | 74/252 [00:07<00:23,  7.49it/s]"
     ]
    },
    {
     "name": "stderr",
     "output_type": "stream",
     "text": [
      "\r",
      " 30%|██▉       | 75/252 [00:07<00:22,  7.95it/s]"
     ]
    },
    {
     "name": "stderr",
     "output_type": "stream",
     "text": [
      "\r",
      " 31%|███       | 77/252 [00:07<00:19,  8.87it/s]"
     ]
    },
    {
     "name": "stderr",
     "output_type": "stream",
     "text": [
      "\r",
      " 31%|███       | 78/252 [00:07<00:19,  8.74it/s]"
     ]
    },
    {
     "name": "stderr",
     "output_type": "stream",
     "text": [
      "\r",
      " 31%|███▏      | 79/252 [00:07<00:19,  8.73it/s]"
     ]
    },
    {
     "name": "stderr",
     "output_type": "stream",
     "text": [
      "\r",
      " 32%|███▏      | 81/252 [00:08<00:18,  9.04it/s]"
     ]
    },
    {
     "name": "stderr",
     "output_type": "stream",
     "text": [
      "\r",
      " 33%|███▎      | 82/252 [00:08<00:19,  8.56it/s]"
     ]
    },
    {
     "name": "stderr",
     "output_type": "stream",
     "text": [
      "\r",
      " 33%|███▎      | 84/252 [00:08<00:19,  8.75it/s]"
     ]
    },
    {
     "name": "stderr",
     "output_type": "stream",
     "text": [
      "\r",
      " 34%|███▎      | 85/252 [00:08<00:18,  8.83it/s]"
     ]
    },
    {
     "name": "stderr",
     "output_type": "stream",
     "text": [
      "\r",
      " 35%|███▍      | 87/252 [00:08<00:17,  9.55it/s]"
     ]
    },
    {
     "name": "stderr",
     "output_type": "stream",
     "text": [
      "\r",
      " 35%|███▌      | 89/252 [00:08<00:15, 10.20it/s]"
     ]
    },
    {
     "name": "stderr",
     "output_type": "stream",
     "text": [
      "\r",
      " 36%|███▌      | 91/252 [00:09<00:17,  9.20it/s]"
     ]
    },
    {
     "name": "stderr",
     "output_type": "stream",
     "text": [
      "\r",
      " 37%|███▋      | 93/252 [00:09<00:16,  9.48it/s]"
     ]
    },
    {
     "name": "stderr",
     "output_type": "stream",
     "text": [
      "\r",
      " 37%|███▋      | 94/252 [00:09<00:18,  8.63it/s]"
     ]
    },
    {
     "name": "stderr",
     "output_type": "stream",
     "text": [
      "\r",
      " 38%|███▊      | 96/252 [00:09<00:17,  9.15it/s]"
     ]
    },
    {
     "name": "stderr",
     "output_type": "stream",
     "text": [
      "\r",
      " 39%|███▉      | 98/252 [00:09<00:16,  9.44it/s]"
     ]
    },
    {
     "name": "stderr",
     "output_type": "stream",
     "text": [
      "\r",
      " 40%|███▉      | 100/252 [00:10<00:15,  9.79it/s]"
     ]
    },
    {
     "name": "stderr",
     "output_type": "stream",
     "text": [
      "\r",
      " 40%|████      | 102/252 [00:10<00:14, 10.18it/s]"
     ]
    },
    {
     "name": "stderr",
     "output_type": "stream",
     "text": [
      "\r",
      " 41%|████▏     | 104/252 [00:10<00:14, 10.37it/s]"
     ]
    },
    {
     "name": "stderr",
     "output_type": "stream",
     "text": [
      "\r",
      " 42%|████▏     | 106/252 [00:10<00:13, 10.46it/s]"
     ]
    },
    {
     "name": "stderr",
     "output_type": "stream",
     "text": [
      "\r",
      " 43%|████▎     | 108/252 [00:10<00:13, 10.31it/s]"
     ]
    },
    {
     "name": "stderr",
     "output_type": "stream",
     "text": [
      "\r",
      " 44%|████▎     | 110/252 [00:11<00:13, 10.30it/s]"
     ]
    },
    {
     "name": "stderr",
     "output_type": "stream",
     "text": [
      "\r",
      " 44%|████▍     | 112/252 [00:11<00:14,  9.72it/s]"
     ]
    },
    {
     "name": "stderr",
     "output_type": "stream",
     "text": [
      "\r",
      " 45%|████▌     | 114/252 [00:11<00:14,  9.48it/s]"
     ]
    },
    {
     "name": "stderr",
     "output_type": "stream",
     "text": [
      "\r",
      " 46%|████▌     | 116/252 [00:11<00:14,  9.55it/s]"
     ]
    },
    {
     "name": "stderr",
     "output_type": "stream",
     "text": [
      "\r",
      " 47%|████▋     | 118/252 [00:11<00:13, 10.24it/s]"
     ]
    },
    {
     "name": "stderr",
     "output_type": "stream",
     "text": [
      "\r",
      " 48%|████▊     | 120/252 [00:12<00:12, 10.32it/s]"
     ]
    },
    {
     "name": "stderr",
     "output_type": "stream",
     "text": [
      "\r",
      " 48%|████▊     | 122/252 [00:12<00:12, 10.55it/s]"
     ]
    },
    {
     "name": "stderr",
     "output_type": "stream",
     "text": [
      "\r",
      " 49%|████▉     | 124/252 [00:12<00:12, 10.63it/s]"
     ]
    },
    {
     "name": "stderr",
     "output_type": "stream",
     "text": [
      "\r",
      " 50%|█████     | 126/252 [00:12<00:11, 10.80it/s]"
     ]
    },
    {
     "name": "stderr",
     "output_type": "stream",
     "text": [
      "\r",
      " 51%|█████     | 128/252 [00:12<00:11, 11.03it/s]"
     ]
    },
    {
     "name": "stderr",
     "output_type": "stream",
     "text": [
      "\r",
      " 52%|█████▏    | 130/252 [00:13<00:11, 10.94it/s]"
     ]
    },
    {
     "name": "stderr",
     "output_type": "stream",
     "text": [
      "\r",
      " 52%|█████▏    | 132/252 [00:13<00:10, 11.02it/s]"
     ]
    },
    {
     "name": "stderr",
     "output_type": "stream",
     "text": [
      "\r",
      " 53%|█████▎    | 134/252 [00:13<00:11,  9.91it/s]"
     ]
    },
    {
     "name": "stderr",
     "output_type": "stream",
     "text": [
      "\r",
      " 54%|█████▍    | 136/252 [00:13<00:11, 10.22it/s]"
     ]
    },
    {
     "name": "stderr",
     "output_type": "stream",
     "text": [
      "\r",
      " 55%|█████▍    | 138/252 [00:13<00:11, 10.27it/s]"
     ]
    },
    {
     "name": "stderr",
     "output_type": "stream",
     "text": [
      "\r",
      " 56%|█████▌    | 140/252 [00:14<00:11,  9.96it/s]"
     ]
    },
    {
     "name": "stderr",
     "output_type": "stream",
     "text": [
      "\r",
      " 56%|█████▋    | 142/252 [00:14<00:11,  9.36it/s]"
     ]
    },
    {
     "name": "stderr",
     "output_type": "stream",
     "text": [
      "\r",
      " 57%|█████▋    | 143/252 [00:14<00:11,  9.43it/s]"
     ]
    },
    {
     "name": "stderr",
     "output_type": "stream",
     "text": [
      "\r",
      " 58%|█████▊    | 145/252 [00:14<00:11,  9.51it/s]"
     ]
    },
    {
     "name": "stderr",
     "output_type": "stream",
     "text": [
      "\r",
      " 58%|█████▊    | 146/252 [00:14<00:11,  9.25it/s]"
     ]
    },
    {
     "name": "stderr",
     "output_type": "stream",
     "text": [
      "\r",
      " 58%|█████▊    | 147/252 [00:14<00:11,  8.96it/s]"
     ]
    },
    {
     "name": "stderr",
     "output_type": "stream",
     "text": [
      "\r",
      " 59%|█████▊    | 148/252 [00:14<00:12,  8.31it/s]"
     ]
    },
    {
     "name": "stderr",
     "output_type": "stream",
     "text": [
      "\r",
      " 59%|█████▉    | 149/252 [00:15<00:12,  8.17it/s]"
     ]
    },
    {
     "name": "stderr",
     "output_type": "stream",
     "text": [
      "\r",
      " 60%|█████▉    | 150/252 [00:15<00:12,  8.26it/s]"
     ]
    },
    {
     "name": "stderr",
     "output_type": "stream",
     "text": [
      "\r",
      " 60%|██████    | 152/252 [00:15<00:10,  9.25it/s]"
     ]
    },
    {
     "name": "stderr",
     "output_type": "stream",
     "text": [
      "\r",
      " 61%|██████    | 153/252 [00:15<00:10,  9.26it/s]"
     ]
    },
    {
     "name": "stderr",
     "output_type": "stream",
     "text": [
      "\r",
      " 61%|██████    | 154/252 [00:15<00:12,  7.76it/s]"
     ]
    },
    {
     "name": "stderr",
     "output_type": "stream",
     "text": [
      "\r",
      " 62%|██████▏   | 155/252 [00:15<00:14,  6.75it/s]"
     ]
    },
    {
     "name": "stderr",
     "output_type": "stream",
     "text": [
      "\r",
      " 62%|██████▏   | 156/252 [00:16<00:14,  6.45it/s]"
     ]
    },
    {
     "name": "stderr",
     "output_type": "stream",
     "text": [
      "\r",
      " 62%|██████▏   | 157/252 [00:16<00:16,  5.80it/s]"
     ]
    },
    {
     "name": "stderr",
     "output_type": "stream",
     "text": [
      "\r",
      " 63%|██████▎   | 158/252 [00:16<00:14,  6.58it/s]"
     ]
    },
    {
     "name": "stderr",
     "output_type": "stream",
     "text": [
      "\r",
      " 63%|██████▎   | 160/252 [00:16<00:11,  7.90it/s]"
     ]
    },
    {
     "name": "stderr",
     "output_type": "stream",
     "text": [
      "\r",
      " 64%|██████▍   | 162/252 [00:16<00:10,  8.50it/s]"
     ]
    },
    {
     "name": "stderr",
     "output_type": "stream",
     "text": [
      "\r",
      " 65%|██████▍   | 163/252 [00:16<00:10,  8.52it/s]"
     ]
    },
    {
     "name": "stderr",
     "output_type": "stream",
     "text": [
      "\r",
      " 65%|██████▌   | 164/252 [00:17<00:10,  8.57it/s]"
     ]
    },
    {
     "name": "stderr",
     "output_type": "stream",
     "text": [
      "\r",
      " 65%|██████▌   | 165/252 [00:17<00:10,  7.99it/s]"
     ]
    },
    {
     "name": "stderr",
     "output_type": "stream",
     "text": [
      "\r",
      " 66%|██████▋   | 167/252 [00:17<00:09,  8.81it/s]"
     ]
    },
    {
     "name": "stderr",
     "output_type": "stream",
     "text": [
      "\r",
      " 67%|██████▋   | 168/252 [00:17<00:09,  8.57it/s]"
     ]
    },
    {
     "name": "stderr",
     "output_type": "stream",
     "text": [
      "\r",
      " 67%|██████▋   | 169/252 [00:17<00:09,  8.72it/s]"
     ]
    },
    {
     "name": "stderr",
     "output_type": "stream",
     "text": [
      "\r",
      " 68%|██████▊   | 171/252 [00:17<00:09,  8.85it/s]"
     ]
    },
    {
     "name": "stderr",
     "output_type": "stream",
     "text": [
      "\r",
      " 69%|██████▊   | 173/252 [00:18<00:08,  9.29it/s]"
     ]
    },
    {
     "name": "stderr",
     "output_type": "stream",
     "text": [
      "\r",
      " 69%|██████▉   | 175/252 [00:18<00:08,  9.50it/s]"
     ]
    },
    {
     "name": "stderr",
     "output_type": "stream",
     "text": [
      "\r",
      " 70%|██████▉   | 176/252 [00:18<00:08,  9.12it/s]"
     ]
    },
    {
     "name": "stderr",
     "output_type": "stream",
     "text": [
      "\r",
      " 70%|███████   | 177/252 [00:18<00:08,  8.64it/s]"
     ]
    },
    {
     "name": "stderr",
     "output_type": "stream",
     "text": [
      "\r",
      " 71%|███████   | 179/252 [00:18<00:08,  9.07it/s]"
     ]
    },
    {
     "name": "stderr",
     "output_type": "stream",
     "text": [
      "\r",
      " 72%|███████▏  | 181/252 [00:18<00:07,  9.77it/s]"
     ]
    },
    {
     "name": "stderr",
     "output_type": "stream",
     "text": [
      "\r",
      " 72%|███████▏  | 182/252 [00:18<00:07,  9.69it/s]"
     ]
    },
    {
     "name": "stderr",
     "output_type": "stream",
     "text": [
      "\r",
      " 73%|███████▎  | 184/252 [00:19<00:06, 10.37it/s]"
     ]
    },
    {
     "name": "stderr",
     "output_type": "stream",
     "text": [
      "\r",
      " 74%|███████▍  | 186/252 [00:19<00:06,  9.78it/s]"
     ]
    },
    {
     "name": "stderr",
     "output_type": "stream",
     "text": [
      "\r",
      " 74%|███████▍  | 187/252 [00:19<00:06,  9.70it/s]"
     ]
    },
    {
     "name": "stderr",
     "output_type": "stream",
     "text": [
      "\r",
      " 75%|███████▌  | 189/252 [00:19<00:06,  9.79it/s]"
     ]
    },
    {
     "name": "stderr",
     "output_type": "stream",
     "text": [
      "\r",
      " 76%|███████▌  | 191/252 [00:19<00:06, 10.12it/s]"
     ]
    },
    {
     "name": "stderr",
     "output_type": "stream",
     "text": [
      "\r",
      " 77%|███████▋  | 193/252 [00:20<00:05, 10.07it/s]"
     ]
    },
    {
     "name": "stderr",
     "output_type": "stream",
     "text": [
      "\r",
      " 77%|███████▋  | 195/252 [00:20<00:05, 10.19it/s]"
     ]
    },
    {
     "name": "stderr",
     "output_type": "stream",
     "text": [
      "\r",
      " 78%|███████▊  | 197/252 [00:20<00:05, 10.84it/s]"
     ]
    },
    {
     "name": "stderr",
     "output_type": "stream",
     "text": [
      "\r",
      " 79%|███████▉  | 199/252 [00:20<00:05, 10.56it/s]"
     ]
    },
    {
     "name": "stderr",
     "output_type": "stream",
     "text": [
      "\r",
      " 80%|███████▉  | 201/252 [00:20<00:04, 10.41it/s]"
     ]
    },
    {
     "name": "stderr",
     "output_type": "stream",
     "text": [
      "\r",
      " 81%|████████  | 203/252 [00:21<00:04, 10.75it/s]"
     ]
    },
    {
     "name": "stderr",
     "output_type": "stream",
     "text": [
      "\r",
      " 81%|████████▏ | 205/252 [00:21<00:04, 10.81it/s]"
     ]
    },
    {
     "name": "stderr",
     "output_type": "stream",
     "text": [
      "\r",
      " 82%|████████▏ | 207/252 [00:21<00:04,  9.95it/s]"
     ]
    },
    {
     "name": "stderr",
     "output_type": "stream",
     "text": [
      "\r",
      " 83%|████████▎ | 209/252 [00:21<00:04, 10.13it/s]"
     ]
    },
    {
     "name": "stderr",
     "output_type": "stream",
     "text": [
      "\r",
      " 84%|████████▎ | 211/252 [00:21<00:03, 10.25it/s]"
     ]
    },
    {
     "name": "stderr",
     "output_type": "stream",
     "text": [
      "\r",
      " 85%|████████▍ | 213/252 [00:22<00:03,  9.76it/s]"
     ]
    },
    {
     "name": "stderr",
     "output_type": "stream",
     "text": [
      "\r",
      " 85%|████████▌ | 215/252 [00:22<00:03,  9.62it/s]"
     ]
    },
    {
     "name": "stderr",
     "output_type": "stream",
     "text": [
      "\r",
      " 86%|████████▌ | 216/252 [00:22<00:03,  9.60it/s]"
     ]
    },
    {
     "name": "stderr",
     "output_type": "stream",
     "text": [
      "\r",
      " 87%|████████▋ | 218/252 [00:22<00:03, 10.31it/s]"
     ]
    },
    {
     "name": "stderr",
     "output_type": "stream",
     "text": [
      "\r",
      " 87%|████████▋ | 220/252 [00:22<00:03, 10.41it/s]"
     ]
    },
    {
     "name": "stderr",
     "output_type": "stream",
     "text": [
      "\r",
      " 88%|████████▊ | 222/252 [00:22<00:02, 10.58it/s]"
     ]
    },
    {
     "name": "stderr",
     "output_type": "stream",
     "text": [
      "\r",
      " 89%|████████▉ | 224/252 [00:23<00:02, 10.61it/s]"
     ]
    },
    {
     "name": "stderr",
     "output_type": "stream",
     "text": [
      "\r",
      " 90%|████████▉ | 226/252 [00:23<00:02, 10.48it/s]"
     ]
    },
    {
     "name": "stderr",
     "output_type": "stream",
     "text": [
      "\r",
      " 90%|█████████ | 228/252 [00:23<00:02, 10.24it/s]"
     ]
    },
    {
     "name": "stderr",
     "output_type": "stream",
     "text": [
      "\r",
      " 91%|█████████▏| 230/252 [00:23<00:02, 10.52it/s]"
     ]
    },
    {
     "name": "stderr",
     "output_type": "stream",
     "text": [
      "\r",
      " 92%|█████████▏| 232/252 [00:23<00:01, 10.61it/s]"
     ]
    },
    {
     "name": "stderr",
     "output_type": "stream",
     "text": [
      "\r",
      " 93%|█████████▎| 234/252 [00:24<00:01, 10.53it/s]"
     ]
    },
    {
     "name": "stderr",
     "output_type": "stream",
     "text": [
      "\r",
      " 94%|█████████▎| 236/252 [00:24<00:01, 10.41it/s]"
     ]
    },
    {
     "name": "stderr",
     "output_type": "stream",
     "text": [
      "\r",
      " 94%|█████████▍| 238/252 [00:24<00:01, 10.82it/s]"
     ]
    },
    {
     "name": "stderr",
     "output_type": "stream",
     "text": [
      "\r",
      " 95%|█████████▌| 240/252 [00:24<00:01, 11.15it/s]"
     ]
    },
    {
     "name": "stderr",
     "output_type": "stream",
     "text": [
      "\r",
      " 96%|█████████▌| 242/252 [00:24<00:00, 11.49it/s]"
     ]
    },
    {
     "name": "stderr",
     "output_type": "stream",
     "text": [
      "\r",
      " 97%|█████████▋| 244/252 [00:24<00:00, 12.10it/s]"
     ]
    },
    {
     "name": "stderr",
     "output_type": "stream",
     "text": [
      "\r",
      " 98%|█████████▊| 246/252 [00:25<00:00, 11.70it/s]"
     ]
    },
    {
     "name": "stderr",
     "output_type": "stream",
     "text": [
      "\r",
      " 98%|█████████▊| 248/252 [00:25<00:00, 10.63it/s]"
     ]
    },
    {
     "name": "stderr",
     "output_type": "stream",
     "text": [
      "\r",
      " 99%|█████████▉| 250/252 [00:25<00:00, 10.25it/s]"
     ]
    },
    {
     "name": "stderr",
     "output_type": "stream",
     "text": [
      "\r",
      "100%|██████████| 252/252 [00:25<00:00, 10.52it/s]"
     ]
    },
    {
     "name": "stderr",
     "output_type": "stream",
     "text": [
      "\r",
      "100%|██████████| 252/252 [00:25<00:00,  9.82it/s]"
     ]
    },
    {
     "name": "stderr",
     "output_type": "stream",
     "text": [
      "\n"
     ]
    },
    {
     "name": "stdout",
     "output_type": "stream",
     "text": [
      "\u001b[34mINFO    \u001b[0m Input AnnData not setup with scvi-tools. attempting to transfer AnnData setup                             \n"
     ]
    }
   ],
   "source": [
    "adataQ.obs['cell_type'] = adataQ.obs[f'{annotation}_pred']\n",
    "adataQcorr = batch_removal_v2(model_scGen, adata=adataQ, deltas=deltas, batchLevels=['cell_type','batch'])"
   ]
  },
  {
   "cell_type": "code",
   "execution_count": 25,
   "id": "eea8c8fb-843e-4771-b7bd-c71605c3c968",
   "metadata": {
    "execution": {
     "iopub.execute_input": "2024-06-21T14:28:46.136264Z",
     "iopub.status.busy": "2024-06-21T14:28:46.135984Z",
     "iopub.status.idle": "2024-06-21T14:28:47.423597Z",
     "shell.execute_reply": "2024-06-21T14:28:47.423034Z"
    },
    "papermill": {
     "duration": 1.377576,
     "end_time": "2024-06-21T14:28:47.425105",
     "exception": false,
     "start_time": "2024-06-21T14:28:46.047529",
     "status": "completed"
    },
    "tags": []
   },
   "outputs": [],
   "source": [
    "pseudobulkQUERY = aggregating_features(Z=adataQcorr.obsm['corrected_latent'], \n",
    "                     min_observation=0, \n",
    "                     obsDF=adataQcorr.obs[['sampleID','disease','Level1_pred','batch','studyID']], obs_names_col = ['sampleID','Level1_pred'])"
   ]
  },
  {
   "cell_type": "code",
   "execution_count": 26,
   "id": "6f334c7e-0938-4954-a389-77bf7a276bea",
   "metadata": {
    "execution": {
     "iopub.execute_input": "2024-06-21T14:28:47.564554Z",
     "iopub.status.busy": "2024-06-21T14:28:47.564298Z",
     "iopub.status.idle": "2024-06-21T14:28:47.670492Z",
     "shell.execute_reply": "2024-06-21T14:28:47.669803Z"
    },
    "papermill": {
     "duration": 0.186839,
     "end_time": "2024-06-21T14:28:47.672042",
     "exception": false,
     "start_time": "2024-06-21T14:28:47.485203",
     "status": "completed"
    },
    "tags": []
   },
   "outputs": [],
   "source": [
    "pseudobulkQUERY.write(here(f\"03_downstream_analysis/08_PatientClassifier/scGen/results/02_{dataset}_scGenIntegrated_PSEUDOBULK_{n_latent}nLT_{batch}_{annotation}\"), compression = 'gzip')"
   ]
  },
  {
   "cell_type": "markdown",
   "id": "0ae1fc6f-ec95-4853-9f64-1c1ae2b98c36",
   "metadata": {
    "papermill": {
     "duration": 0.028633,
     "end_time": "2024-06-21T14:28:47.729387",
     "exception": false,
     "start_time": "2024-06-21T14:28:47.700754",
     "status": "completed"
    },
    "tags": []
   },
   "source": [
    "## Test one classifier"
   ]
  },
  {
   "cell_type": "markdown",
   "id": "3e0b1a3d-4f1e-4976-bc65-c1e682cc8683",
   "metadata": {
    "execution": {
     "iopub.execute_input": "2024-06-14T13:18:33.857967Z",
     "iopub.status.busy": "2024-06-14T13:18:33.857610Z",
     "iopub.status.idle": "2024-06-14T13:18:34.368629Z",
     "shell.execute_reply": "2024-06-14T13:18:34.367905Z",
     "shell.execute_reply.started": "2024-06-14T13:18:33.857947Z"
    },
    "papermill": {
     "duration": 0.027702,
     "end_time": "2024-06-21T14:28:47.788613",
     "exception": false,
     "start_time": "2024-06-21T14:28:47.760911",
     "status": "completed"
    },
    "tags": []
   },
   "source": [
    "**Remove unwanted cell-types**"
   ]
  },
  {
   "cell_type": "code",
   "execution_count": 27,
   "id": "27d83577-8d35-4b3c-9d35-cb22a3b9840a",
   "metadata": {
    "execution": {
     "iopub.execute_input": "2024-06-21T14:28:47.847038Z",
     "iopub.status.busy": "2024-06-21T14:28:47.846773Z",
     "iopub.status.idle": "2024-06-21T14:28:47.910446Z",
     "shell.execute_reply": "2024-06-21T14:28:47.909872Z"
    },
    "papermill": {
     "duration": 0.095195,
     "end_time": "2024-06-21T14:28:47.911855",
     "exception": false,
     "start_time": "2024-06-21T14:28:47.816660",
     "status": "completed"
    },
    "tags": []
   },
   "outputs": [],
   "source": [
    "pseudobulkTRAINfilt = pseudobulkTRAIN[~pseudobulkTRAIN.obs.Level1.isin(['Cycling_cells','RBC','Progenitors','Platelets'])]\n",
    "pseudobulkQUERYfilt = pseudobulkQUERY[~pseudobulkQUERY.obs.Level1_pred.isin(['Cycling_cells','RBC','Progenitors','Platelets'])]"
   ]
  },
  {
   "cell_type": "markdown",
   "id": "7d78fe98-a735-4ef2-b9e6-34a01206c640",
   "metadata": {
    "papermill": {
     "duration": 0.029647,
     "end_time": "2024-06-21T14:28:47.971143",
     "exception": false,
     "start_time": "2024-06-21T14:28:47.941496",
     "status": "completed"
    },
    "tags": []
   },
   "source": [
    "Here, we try to classify patient with a kNN classifier. The proper patient classification will be performend in a dedicated notebook. Thus, the following won't be the final results"
   ]
  },
  {
   "cell_type": "code",
   "execution_count": 28,
   "id": "3653c325-0d7d-4207-86cc-ebf82cbaf557",
   "metadata": {
    "execution": {
     "iopub.execute_input": "2024-06-21T14:28:48.033557Z",
     "iopub.status.busy": "2024-06-21T14:28:48.033319Z",
     "iopub.status.idle": "2024-06-21T14:28:48.854578Z",
     "shell.execute_reply": "2024-06-21T14:28:48.853982Z"
    },
    "papermill": {
     "duration": 0.857153,
     "end_time": "2024-06-21T14:28:48.855700",
     "exception": false,
     "start_time": "2024-06-21T14:28:47.998547",
     "status": "completed"
    },
    "tags": []
   },
   "outputs": [
    {
     "name": "stderr",
     "output_type": "stream",
     "text": [
      "\r",
      "  0%|          | 0/11 [00:00<?, ?it/s]"
     ]
    },
    {
     "name": "stderr",
     "output_type": "stream",
     "text": [
      "\r",
      "  9%|▉         | 1/11 [00:00<00:01,  8.80it/s]"
     ]
    },
    {
     "name": "stderr",
     "output_type": "stream",
     "text": [
      "\r",
      " 27%|██▋       | 3/11 [00:00<00:00, 12.06it/s]"
     ]
    },
    {
     "name": "stderr",
     "output_type": "stream",
     "text": [
      "\r",
      " 45%|████▌     | 5/11 [00:00<00:00, 13.83it/s]"
     ]
    },
    {
     "name": "stderr",
     "output_type": "stream",
     "text": [
      "\r",
      " 64%|██████▎   | 7/11 [00:00<00:00, 14.80it/s]"
     ]
    },
    {
     "name": "stderr",
     "output_type": "stream",
     "text": [
      "\r",
      " 82%|████████▏ | 9/11 [00:00<00:00, 15.17it/s]"
     ]
    },
    {
     "name": "stderr",
     "output_type": "stream",
     "text": [
      "\r",
      "100%|██████████| 11/11 [00:00<00:00, 15.64it/s]"
     ]
    },
    {
     "name": "stderr",
     "output_type": "stream",
     "text": [
      "\r",
      "100%|██████████| 11/11 [00:00<00:00, 14.62it/s]"
     ]
    },
    {
     "name": "stderr",
     "output_type": "stream",
     "text": [
      "\n"
     ]
    },
    {
     "data": {
      "text/plain": [
       "{'B': {'clf': KNeighborsClassifier(metric='cosine', n_jobs=-1, n_neighbors=2),\n",
       "  'bAcc': 0.8970083936531305,\n",
       "  'nObs': 814},\n",
       " 'DC': {'clf': KNeighborsClassifier(metric='cosine', n_jobs=-1, n_neighbors=2),\n",
       "  'bAcc': 0.8617582551044439,\n",
       "  'nObs': 801},\n",
       " 'ILC': {'clf': KNeighborsClassifier(metric='cosine', n_jobs=-1, n_neighbors=2),\n",
       "  'bAcc': 0.8873941674831223,\n",
       "  'nObs': 817},\n",
       " 'Mono': {'clf': KNeighborsClassifier(metric='cosine', n_jobs=-1, n_neighbors=2),\n",
       "  'bAcc': 0.8823994903868885,\n",
       "  'nObs': 817},\n",
       " 'Plasma': {'clf': KNeighborsClassifier(metric='cosine', n_jobs=-1, n_neighbors=2),\n",
       "  'bAcc': 0.7846288982125237,\n",
       "  'nObs': 727},\n",
       " 'T_CD4_Naive': {'clf': KNeighborsClassifier(metric='cosine', n_jobs=-1, n_neighbors=2),\n",
       "  'bAcc': 0.8937420355037572,\n",
       "  'nObs': 814},\n",
       " 'T_CD4_NonNaive': {'clf': KNeighborsClassifier(metric='cosine', n_jobs=-1, n_neighbors=2),\n",
       "  'bAcc': 0.9216380310129495,\n",
       "  'nObs': 816},\n",
       " 'T_CD8_Naive': {'clf': KNeighborsClassifier(metric='cosine', n_jobs=-1, n_neighbors=2),\n",
       "  'bAcc': 0.8989840142834954,\n",
       "  'nObs': 805},\n",
       " 'T_CD8_NonNaive': {'clf': KNeighborsClassifier(metric='cosine', n_jobs=-1, n_neighbors=2),\n",
       "  'bAcc': 0.8917159284514733,\n",
       "  'nObs': 817},\n",
       " 'UTC': {'clf': KNeighborsClassifier(metric='cosine', n_jobs=-1, n_neighbors=2),\n",
       "  'bAcc': 0.8669419736658541,\n",
       "  'nObs': 813},\n",
       " 'pDC': {'clf': KNeighborsClassifier(metric='cosine', n_jobs=-1, n_neighbors=2),\n",
       "  'bAcc': 0.8635054415227404,\n",
       "  'nObs': 775}}"
      ]
     },
     "execution_count": 28,
     "metadata": {},
     "output_type": "execute_result"
    }
   ],
   "source": [
    "clfList = train_patient_classifier(adataTrain = pseudobulkTRAINfilt, cell_type_col = 'Level1', y_true_col = 'disease', max_iter=-1, random_state = 25, model = 'KNeighborsClassifier', \n",
    "                           kargs_model={'n_neighbors':2, 'weights':'uniform', 'metric':'cosine','n_jobs':-1})\n",
    "clfList"
   ]
  },
  {
   "cell_type": "markdown",
   "id": "87b89384-c9c3-4f45-ab2f-15307875ba0a",
   "metadata": {
    "papermill": {
     "duration": 0.03023,
     "end_time": "2024-06-21T14:28:48.940133",
     "exception": false,
     "start_time": "2024-06-21T14:28:48.909903",
     "status": "completed"
    },
    "tags": []
   },
   "source": [
    "### Predicting diseases"
   ]
  },
  {
   "cell_type": "code",
   "execution_count": 29,
   "id": "39befc29-3613-4abc-adeb-bfee66e08dea",
   "metadata": {
    "execution": {
     "iopub.execute_input": "2024-06-21T14:28:49.041261Z",
     "iopub.status.busy": "2024-06-21T14:28:49.041070Z",
     "iopub.status.idle": "2024-06-21T14:28:49.592540Z",
     "shell.execute_reply": "2024-06-21T14:28:49.592086Z"
    },
    "papermill": {
     "duration": 0.5877,
     "end_time": "2024-06-21T14:28:49.593575",
     "exception": false,
     "start_time": "2024-06-21T14:28:49.005875",
     "status": "completed"
    },
    "tags": []
   },
   "outputs": [
    {
     "name": "stderr",
     "output_type": "stream",
     "text": [
      "\r",
      "  0%|          | 0/11 [00:00<?, ?it/s]"
     ]
    },
    {
     "name": "stderr",
     "output_type": "stream",
     "text": [
      "\r",
      " 36%|███▋      | 4/11 [00:00<00:00, 33.63it/s]"
     ]
    },
    {
     "name": "stderr",
     "output_type": "stream",
     "text": [
      "\r",
      " 73%|███████▎  | 8/11 [00:00<00:00, 36.22it/s]"
     ]
    },
    {
     "name": "stderr",
     "output_type": "stream",
     "text": [
      "\r",
      "100%|██████████| 11/11 [00:00<00:00, 34.72it/s]"
     ]
    },
    {
     "name": "stderr",
     "output_type": "stream",
     "text": [
      "\n"
     ]
    },
    {
     "name": "stderr",
     "output_type": "stream",
     "text": [
      "\r",
      "  0%|          | 0/144 [00:00<?, ?it/s]"
     ]
    },
    {
     "name": "stderr",
     "output_type": "stream",
     "text": [
      "\r",
      " 60%|██████    | 87/144 [00:00<00:00, 861.38it/s]"
     ]
    },
    {
     "name": "stderr",
     "output_type": "stream",
     "text": [
      "\r",
      "100%|██████████| 144/144 [00:00<00:00, 853.97it/s]"
     ]
    },
    {
     "name": "stderr",
     "output_type": "stream",
     "text": [
      "\n"
     ]
    }
   ],
   "source": [
    "classificationDF = vote_patient_disease(adataTest = pseudobulkQUERYfilt, \n",
    "                                clfList = clfList, \n",
    "                                sample_id_col = 'sampleID',\n",
    "                                cell_type_col = 'Level1_pred')\n"
   ]
  },
  {
   "cell_type": "code",
   "execution_count": 30,
   "id": "a731fec9-92f4-4b14-b374-ad2bec4d4f13",
   "metadata": {
    "execution": {
     "iopub.execute_input": "2024-06-21T14:28:49.717191Z",
     "iopub.status.busy": "2024-06-21T14:28:49.716737Z",
     "iopub.status.idle": "2024-06-21T14:28:49.779313Z",
     "shell.execute_reply": "2024-06-21T14:28:49.778762Z"
    },
    "papermill": {
     "duration": 0.099205,
     "end_time": "2024-06-21T14:28:49.780342",
     "exception": false,
     "start_time": "2024-06-21T14:28:49.681137",
     "status": "completed"
    },
    "tags": []
   },
   "outputs": [],
   "source": [
    "res = classificationDF.merge(pseudobulkQUERY.obs[['sampleID', 'disease']].drop_duplicates(), how = 'left', on = 'sampleID').set_index('sampleID')"
   ]
  },
  {
   "cell_type": "code",
   "execution_count": 31,
   "id": "00fff243-e3d9-436c-b369-b7d4d29a13bf",
   "metadata": {
    "execution": {
     "iopub.execute_input": "2024-06-21T14:28:49.897749Z",
     "iopub.status.busy": "2024-06-21T14:28:49.897406Z",
     "iopub.status.idle": "2024-06-21T14:28:49.959537Z",
     "shell.execute_reply": "2024-06-21T14:28:49.959112Z"
    },
    "papermill": {
     "duration": 0.099574,
     "end_time": "2024-06-21T14:28:49.960507",
     "exception": false,
     "start_time": "2024-06-21T14:28:49.860933",
     "status": "completed"
    },
    "tags": []
   },
   "outputs": [
    {
     "data": {
      "text/plain": [
       "0.7758306100217865"
      ]
     },
     "execution_count": 31,
     "metadata": {},
     "output_type": "execute_result"
    }
   ],
   "source": [
    "balanced_accuracy_score(y_true = res.disease, y_pred=res.firstChoice)"
   ]
  },
  {
   "cell_type": "markdown",
   "id": "7ba69e7c-b39d-4fdb-9dfb-78dd04209a9b",
   "metadata": {
    "papermill": {
     "duration": 0.058144,
     "end_time": "2024-06-21T14:28:50.108190",
     "exception": false,
     "start_time": "2024-06-21T14:28:50.050046",
     "status": "completed"
    },
    "tags": []
   },
   "source": [
    "## Saving adata corrected objects"
   ]
  },
  {
   "cell_type": "code",
   "execution_count": 32,
   "id": "26215be0-4d1c-41e6-aba5-1dc52b9630bd",
   "metadata": {
    "execution": {
     "iopub.execute_input": "2024-06-21T14:28:50.227783Z",
     "iopub.status.busy": "2024-06-21T14:28:50.227478Z",
     "iopub.status.idle": "2024-06-21T14:28:50.289952Z",
     "shell.execute_reply": "2024-06-21T14:28:50.289491Z"
    },
    "papermill": {
     "duration": 0.09931,
     "end_time": "2024-06-21T14:28:50.290961",
     "exception": false,
     "start_time": "2024-06-21T14:28:50.191651",
     "status": "completed"
    },
    "tags": []
   },
   "outputs": [
    {
     "name": "stdout",
     "output_type": "stream",
     "text": [
      "File already saved\n"
     ]
    }
   ],
   "source": [
    "outputFilePath = here(f\"03_downstream_analysis/08_PatientClassifier/scGen/results/02_MAIN_scGenCorrected_{n_latent}nLT_{batch}_{annotation}.h5ad\")\n",
    "if os.path.isfile(outputFilePath):\n",
    "    print(\"File already saved\")\n",
    "else:\n",
    "    adata_scGen.write(outputFilePath, compression='gzip')"
   ]
  },
  {
   "cell_type": "code",
   "execution_count": 33,
   "id": "c6f8ae7e-e7b2-40ba-b4f4-44dfc54164b6",
   "metadata": {
    "execution": {
     "iopub.execute_input": "2024-06-21T14:28:50.413970Z",
     "iopub.status.busy": "2024-06-21T14:28:50.413519Z",
     "iopub.status.idle": "2024-06-21T16:06:50.748669Z",
     "shell.execute_reply": "2024-06-21T16:06:50.747784Z"
    },
    "papermill": {
     "duration": 5880.371616,
     "end_time": "2024-06-21T16:06:50.750145",
     "exception": false,
     "start_time": "2024-06-21T14:28:50.378529",
     "status": "completed"
    },
    "tags": []
   },
   "outputs": [],
   "source": [
    "adataQcorr.write(here(f\"03_downstream_analysis/08_PatientClassifier/scGen/results/02_{dataset}_scGenCorrected_{n_latent}nLT_{batch}_{annotation}.h5ad\"), \n",
    "                 compression='gzip')"
   ]
  }
 ],
 "metadata": {
  "kernelspec": {
   "display_name": "Python 3 (ipykernel)",
   "language": "python",
   "name": "python3"
  },
  "language_info": {
   "codemirror_mode": {
    "name": "ipython",
    "version": 3
   },
   "file_extension": ".py",
   "mimetype": "text/x-python",
   "name": "python",
   "nbconvert_exporter": "python",
   "pygments_lexer": "ipython3",
   "version": "3.9.19"
  },
  "papermill": {
   "default_parameters": {},
   "duration": 8902.983694,
   "end_time": "2024-06-21T16:06:59.862815",
   "environment_variables": {},
   "exception": null,
   "input_path": "02_scGen_querying_datasets_labelTransfer.ipynb",
   "output_path": "executed_notebooks/02_scGen_querying_datasets_labelTransfe_VALIDATION_nLT20_Batch_chemistry_Level2.ipynb",
   "parameters": {
    "annotation": "Level2",
    "batch": "chemistry",
    "dataset": "VALIDATION",
    "n_latent": 20
   },
   "start_time": "2024-06-21T13:38:36.879121",
   "version": "2.5.0"
  }
 },
 "nbformat": 4,
 "nbformat_minor": 5
}