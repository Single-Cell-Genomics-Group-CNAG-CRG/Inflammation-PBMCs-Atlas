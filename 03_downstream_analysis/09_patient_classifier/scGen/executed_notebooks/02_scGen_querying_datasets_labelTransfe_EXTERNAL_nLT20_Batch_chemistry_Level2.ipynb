{
 "cells": [
  {
   "cell_type": "code",
   "execution_count": 1,
   "id": "f3d82ce6",
   "metadata": {
    "execution": {
     "iopub.execute_input": "2024-06-21T13:38:39.962671Z",
     "iopub.status.busy": "2024-06-21T13:38:39.962147Z",
     "iopub.status.idle": "2024-06-21T13:38:39.968908Z",
     "shell.execute_reply": "2024-06-21T13:38:39.968394Z"
    },
    "papermill": {
     "duration": 0.018987,
     "end_time": "2024-06-21T13:38:39.970009",
     "exception": false,
     "start_time": "2024-06-21T13:38:39.951022",
     "status": "completed"
    },
    "tags": [
     "injected-parameters"
    ]
   },
   "outputs": [],
   "source": [
    "# Parameters\n",
    "n_latent = 20\n",
    "batch = \"chemistry\"\n",
    "dataset = \"EXTERNAL\"\n",
    "annotation = \"Level2\"\n"
   ]
  },
  {
   "cell_type": "raw",
   "id": "cf9e723a-c8ab-41cf-80dd-75314497d94d",
   "metadata": {
    "execution": {
     "iopub.execute_input": "2024-06-16T20:49:10.250721Z",
     "iopub.status.busy": "2024-06-16T20:49:10.250145Z",
     "iopub.status.idle": "2024-06-16T20:49:10.256210Z",
     "shell.execute_reply": "2024-06-16T20:49:10.255729Z",
     "shell.execute_reply.started": "2024-06-16T20:49:10.250683Z"
    },
    "papermill": {
     "duration": 0.007857,
     "end_time": "2024-06-21T13:38:39.985803",
     "exception": false,
     "start_time": "2024-06-21T13:38:39.977946",
     "status": "completed"
    },
    "tags": []
   },
   "source": [
    "n_latent = 200\n",
    "dataset = 'VALIDATION'\n",
    "batch = 'studyID'\n",
    "annotation = 'Level2'"
   ]
  },
  {
   "cell_type": "code",
   "execution_count": 2,
   "id": "ed634346-b706-466a-8dab-569b37560afb",
   "metadata": {
    "execution": {
     "iopub.execute_input": "2024-06-21T13:38:40.002039Z",
     "iopub.status.busy": "2024-06-21T13:38:40.001600Z",
     "iopub.status.idle": "2024-06-21T13:38:40.005670Z",
     "shell.execute_reply": "2024-06-21T13:38:40.005262Z"
    },
    "papermill": {
     "duration": 0.013203,
     "end_time": "2024-06-21T13:38:40.006642",
     "exception": false,
     "start_time": "2024-06-21T13:38:39.993439",
     "status": "completed"
    },
    "tags": []
   },
   "outputs": [
    {
     "name": "stdout",
     "output_type": "stream",
     "text": [
      "n_latent = 20\n",
      "batch = chemistry\n",
      "dataset = EXTERNAL\n",
      "annotation = Level2\n"
     ]
    }
   ],
   "source": [
    "for v in ['n_latent','batch','dataset','annotation']:\n",
    "    if v in locals() or v in globals():\n",
    "        print(f\"{v} = {eval(v)}\")\n",
    "    else:\n",
    "        raise ValeuError(f\"{v} is not defined\")"
   ]
  },
  {
   "cell_type": "markdown",
   "id": "9ba65107-57d8-41ce-a8f8-f4b4d2bddeb6",
   "metadata": {
    "papermill": {
     "duration": 0.008091,
     "end_time": "2024-06-21T13:38:40.022242",
     "exception": false,
     "start_time": "2024-06-21T13:38:40.014151",
     "status": "completed"
    },
    "tags": []
   },
   "source": [
    "this notebook is run in *scvi-v112* env (cluster)"
   ]
  },
  {
   "cell_type": "code",
   "execution_count": 3,
   "id": "77a24249-d2ab-4340-b9ac-d78d5f3f5bab",
   "metadata": {
    "execution": {
     "iopub.execute_input": "2024-06-21T13:38:40.038901Z",
     "iopub.status.busy": "2024-06-21T13:38:40.038542Z",
     "iopub.status.idle": "2024-06-21T13:39:32.300685Z",
     "shell.execute_reply": "2024-06-21T13:39:32.300051Z"
    },
    "papermill": {
     "duration": 52.272348,
     "end_time": "2024-06-21T13:39:32.302702",
     "exception": false,
     "start_time": "2024-06-21T13:38:40.030354",
     "status": "completed"
    },
    "tags": []
   },
   "outputs": [],
   "source": [
    "import os\n",
    "import sys\n",
    "\n",
    "import random \n",
    "import numpy as np\n",
    "import matplotlib.pyplot as plt\n",
    "\n",
    "import scanpy as sc\n",
    "\n",
    "import scgen\n",
    "\n",
    "import pynndescent\n",
    "\n",
    "import pandas as pd\n",
    "\n",
    "import session_info\n",
    "import warnings\n",
    "from pyprojroot.here import here\n",
    "\n",
    "from sklearn.svm import LinearSVC\n",
    "\n",
    "from sklearn.metrics import balanced_accuracy_score\n",
    "\n",
    "import decoupler\n",
    "\n",
    "import torch\n",
    "\n",
    "import joblib\n",
    "\n",
    "sys.path.insert(1, str(here('bin')))\n",
    "\n",
    "# Import custom functions\n",
    "from customPythonFunctions import get_deltas_v2, batch_removal_v2, aggregating_features, train_patient_classifier, vote_patient_disease\n",
    "\n",
    "#plt.style.use(['science','nature','no-latex'])\n",
    "dpi_fig_save = 300\n",
    "sc.set_figure_params(dpi=100, dpi_save=dpi_fig_save, vector_friendly=True)\n",
    "\n",
    "# Setting some parameters\n",
    "warnings.filterwarnings(\"ignore\")\n",
    "\n",
    "random_seed = 42"
   ]
  },
  {
   "cell_type": "code",
   "execution_count": 4,
   "id": "6a35ffd2-3a9d-4e4c-aa77-9855ccb36a3c",
   "metadata": {
    "execution": {
     "iopub.execute_input": "2024-06-21T13:39:32.320255Z",
     "iopub.status.busy": "2024-06-21T13:39:32.319795Z",
     "iopub.status.idle": "2024-06-21T13:39:32.536083Z",
     "shell.execute_reply": "2024-06-21T13:39:32.535567Z"
    },
    "papermill": {
     "duration": 0.22663,
     "end_time": "2024-06-21T13:39:32.537336",
     "exception": false,
     "start_time": "2024-06-21T13:39:32.310706",
     "status": "completed"
    },
    "tags": []
   },
   "outputs": [],
   "source": [
    "%load_ext autoreload\n",
    "%autoreload 2"
   ]
  },
  {
   "cell_type": "markdown",
   "id": "4c28e407-f2e0-4b66-a1c8-427e69887d52",
   "metadata": {
    "papermill": {
     "duration": 0.008277,
     "end_time": "2024-06-21T13:39:32.555344",
     "exception": false,
     "start_time": "2024-06-21T13:39:32.547067",
     "status": "completed"
    },
    "tags": []
   },
   "source": [
    "## Loading data\n",
    "### Loading main adata"
   ]
  },
  {
   "cell_type": "code",
   "execution_count": 5,
   "id": "bcc3a390-966f-42bf-a139-6804a111d9a4",
   "metadata": {
    "execution": {
     "iopub.execute_input": "2024-06-21T13:39:32.572845Z",
     "iopub.status.busy": "2024-06-21T13:39:32.572310Z",
     "iopub.status.idle": "2024-06-21T13:40:13.663383Z",
     "shell.execute_reply": "2024-06-21T13:40:13.662611Z"
    },
    "papermill": {
     "duration": 41.101916,
     "end_time": "2024-06-21T13:40:13.665368",
     "exception": false,
     "start_time": "2024-06-21T13:39:32.563452",
     "status": "completed"
    },
    "tags": []
   },
   "outputs": [],
   "source": [
    "adataR = sc.read_h5ad(here('03_downstream_analysis/02_gene_universe_definition/results/04_MAIN_geneUniverse.log1p.h5ad'))"
   ]
  },
  {
   "cell_type": "code",
   "execution_count": 6,
   "id": "f18648ef-f249-42ed-b608-1cda3e595804",
   "metadata": {
    "execution": {
     "iopub.execute_input": "2024-06-21T13:40:13.747706Z",
     "iopub.status.busy": "2024-06-21T13:40:13.747455Z",
     "iopub.status.idle": "2024-06-21T13:40:14.741169Z",
     "shell.execute_reply": "2024-06-21T13:40:14.740433Z"
    },
    "papermill": {
     "duration": 1.005618,
     "end_time": "2024-06-21T13:40:14.742562",
     "exception": false,
     "start_time": "2024-06-21T13:40:13.736944",
     "status": "completed"
    },
    "tags": []
   },
   "outputs": [],
   "source": [
    "adataR.obs['batch'] = adataR.obs[batch].tolist()\n",
    "adataR.obs['cell_type'] = adataR.obs[annotation].tolist()"
   ]
  },
  {
   "cell_type": "markdown",
   "id": "ca7306bc-3ce6-43bd-b569-1de23bbee513",
   "metadata": {
    "papermill": {
     "duration": 0.008441,
     "end_time": "2024-06-21T13:40:14.761360",
     "exception": false,
     "start_time": "2024-06-21T13:40:14.752919",
     "status": "completed"
    },
    "tags": []
   },
   "source": [
    "### Loading query adata"
   ]
  },
  {
   "cell_type": "code",
   "execution_count": 7,
   "id": "0ef5e9e5-323a-4efb-b112-4b2efb29716c",
   "metadata": {
    "execution": {
     "iopub.execute_input": "2024-06-21T13:40:14.780765Z",
     "iopub.status.busy": "2024-06-21T13:40:14.780510Z",
     "iopub.status.idle": "2024-06-21T13:40:26.960109Z",
     "shell.execute_reply": "2024-06-21T13:40:26.959586Z"
    },
    "papermill": {
     "duration": 12.190069,
     "end_time": "2024-06-21T13:40:26.961234",
     "exception": false,
     "start_time": "2024-06-21T13:40:14.771165",
     "status": "completed"
    },
    "tags": []
   },
   "outputs": [
    {
     "data": {
      "text/plain": [
       "AnnData object with n_obs × n_vars = 572872 × 8253\n",
       "    obs: 'studyID', 'libraryID', 'sampleID', 'chemistry', 'technology', 'disease', 'sex', 'binned_age'\n",
       "    var: 'hgnc_id', 'symbol', 'locus_group', 'HUGO_status'\n",
       "    uns: 'log1p'"
      ]
     },
     "execution_count": 7,
     "metadata": {},
     "output_type": "execute_result"
    }
   ],
   "source": [
    "adataQ = sc.read_h5ad(here(f\"03_downstream_analysis/02_gene_universe_definition/results/05_{dataset}_geneUniverse.log1p.h5ad\"))\n",
    "adataQ"
   ]
  },
  {
   "cell_type": "code",
   "execution_count": 8,
   "id": "0c0bff23",
   "metadata": {
    "execution": {
     "iopub.execute_input": "2024-06-21T13:40:26.978678Z",
     "iopub.status.busy": "2024-06-21T13:40:26.978461Z",
     "iopub.status.idle": "2024-06-21T13:40:27.462306Z",
     "shell.execute_reply": "2024-06-21T13:40:27.461812Z"
    },
    "papermill": {
     "duration": 0.493472,
     "end_time": "2024-06-21T13:40:27.463434",
     "exception": false,
     "start_time": "2024-06-21T13:40:26.969962",
     "status": "completed"
    },
    "tags": []
   },
   "outputs": [
    {
     "data": {
      "text/plain": [
       "AnnData object with n_obs × n_vars = 572872 × 8253\n",
       "    obs: 'studyID', 'libraryID', 'sampleID', 'chemistry', 'technology', 'disease', 'sex', 'binned_age', 'cell_type', 'batch'\n",
       "    var: 'hgnc_id', 'symbol', 'locus_group', 'HUGO_status'\n",
       "    uns: 'log1p'"
      ]
     },
     "execution_count": 8,
     "metadata": {},
     "output_type": "execute_result"
    }
   ],
   "source": [
    "adataQ.obs['cell_type'] = adataR.obs[annotation][0] #this is needed just to allow scGen model to transfer anndata setup without errors\n",
    "adataQ.obs['batch'] = adataQ.obs[batch]\n",
    "adataQ"
   ]
  },
  {
   "cell_type": "markdown",
   "id": "4fffe98b-1263-4b98-96e7-c00b2843420f",
   "metadata": {
    "papermill": {
     "duration": 0.014068,
     "end_time": "2024-06-21T13:40:27.487026",
     "exception": false,
     "start_time": "2024-06-21T13:40:27.472958",
     "status": "completed"
    },
    "tags": []
   },
   "source": [
    "### Loading scGen model"
   ]
  },
  {
   "cell_type": "code",
   "execution_count": 9,
   "id": "ed843ed6-c10f-427c-b300-516f81297eb2",
   "metadata": {
    "execution": {
     "iopub.execute_input": "2024-06-21T13:40:27.504356Z",
     "iopub.status.busy": "2024-06-21T13:40:27.503960Z",
     "iopub.status.idle": "2024-06-21T13:40:34.038254Z",
     "shell.execute_reply": "2024-06-21T13:40:34.037570Z"
    },
    "papermill": {
     "duration": 6.545337,
     "end_time": "2024-06-21T13:40:34.040041",
     "exception": false,
     "start_time": "2024-06-21T13:40:27.494704",
     "status": "completed"
    },
    "tags": []
   },
   "outputs": [
    {
     "name": "stdout",
     "output_type": "stream",
     "text": [
      "\u001b[34mINFO    \u001b[0m File                                                                                                      \n",
      "         \u001b[35m/scratch_isilon/groups/singlecell/shared/projects/Inflammation-PBMCs-Atlas/03_downstream_analysis/08_Pat\u001b[0m\n",
      "         \u001b[35mientClassifier/scGen/results/01_scGen_train_nLat20_chemistry_Level2/\u001b[0m\u001b[95mmodel.pt\u001b[0m already downloaded           \n"
     ]
    }
   ],
   "source": [
    "model_scGen = scgen.SCGEN.load(here(f\"03_downstream_analysis/08_PatientClassifier/scGen/results/01_scGen_train_nLat{n_latent}_{batch}_{annotation}\"), adata = adataR)"
   ]
  },
  {
   "cell_type": "markdown",
   "id": "9c1ccc70-985a-49ac-9a19-9925088d8af6",
   "metadata": {
    "papermill": {
     "duration": 0.079064,
     "end_time": "2024-06-21T13:40:34.217600",
     "exception": false,
     "start_time": "2024-06-21T13:40:34.138536",
     "status": "completed"
    },
    "tags": []
   },
   "source": [
    "## Generating embedding spaces"
   ]
  },
  {
   "cell_type": "markdown",
   "id": "6c8b03ea-3f53-46f6-902f-0caf07326777",
   "metadata": {
    "execution": {
     "iopub.execute_input": "2024-06-14T10:32:32.049226Z",
     "iopub.status.busy": "2024-06-14T10:32:32.048899Z",
     "iopub.status.idle": "2024-06-14T10:32:32.104059Z",
     "shell.execute_reply": "2024-06-14T10:32:32.103590Z",
     "shell.execute_reply.started": "2024-06-14T10:32:32.049208Z"
    },
    "papermill": {
     "duration": 0.009733,
     "end_time": "2024-06-21T13:40:34.243902",
     "exception": false,
     "start_time": "2024-06-21T13:40:34.234169",
     "status": "completed"
    },
    "tags": []
   },
   "source": [
    "### Train/reference dataset"
   ]
  },
  {
   "cell_type": "code",
   "execution_count": 10,
   "id": "d49a4a2d-c91c-4c48-90fd-e6ab6b355ed6",
   "metadata": {
    "execution": {
     "iopub.execute_input": "2024-06-21T13:40:34.339254Z",
     "iopub.status.busy": "2024-06-21T13:40:34.339026Z",
     "iopub.status.idle": "2024-06-21T13:57:46.989621Z",
     "shell.execute_reply": "2024-06-21T13:57:46.989059Z"
    },
    "papermill": {
     "duration": 1032.74845,
     "end_time": "2024-06-21T13:57:47.002013",
     "exception": false,
     "start_time": "2024-06-21T13:40:34.253563",
     "status": "completed"
    },
    "tags": []
   },
   "outputs": [
    {
     "name": "stdout",
     "output_type": "stream",
     "text": [
      "\u001b[34mINFO    \u001b[0m Input AnnData not setup with scvi-tools. attempting to transfer AnnData setup                             \n"
     ]
    },
    {
     "data": {
      "text/plain": [
       "AnnData object with n_obs × n_vars = 4435922 × 8253\n",
       "    obs: 'studyID', 'libraryID', 'sampleID', 'chemistry', 'disease', 'sex', 'binned_age', 'Level1', 'Level2', 'batch', 'cell_type', '_scvi_batch', '_scvi_labels'\n",
       "    uns: '_scvi_uuid', '_scvi_manager_uuid'\n",
       "    obsm: 'latent', 'corrected_latent'"
      ]
     },
     "execution_count": 10,
     "metadata": {},
     "output_type": "execute_result"
    }
   ],
   "source": [
    "adata_scGen = model_scGen.batch_removal()\n",
    "adata_scGen"
   ]
  },
  {
   "cell_type": "code",
   "execution_count": 11,
   "id": "adc78d3f-d325-456d-bf27-83be4fdc8058",
   "metadata": {
    "execution": {
     "iopub.execute_input": "2024-06-21T13:57:47.020521Z",
     "iopub.status.busy": "2024-06-21T13:57:47.020292Z",
     "iopub.status.idle": "2024-06-21T13:57:52.245915Z",
     "shell.execute_reply": "2024-06-21T13:57:52.245303Z"
    },
    "papermill": {
     "duration": 5.23669,
     "end_time": "2024-06-21T13:57:52.247440",
     "exception": false,
     "start_time": "2024-06-21T13:57:47.010750",
     "status": "completed"
    },
    "tags": []
   },
   "outputs": [],
   "source": [
    "pseudobulkTRAIN = aggregating_features(Z=adata_scGen.obsm['corrected_latent'], \n",
    "                     min_observation=0, \n",
    "                     obsDF=adata_scGen.obs[['sampleID','disease','Level1','batch','studyID']], obs_names_col = ['sampleID','Level1'])"
   ]
  },
  {
   "cell_type": "code",
   "execution_count": 12,
   "id": "ae0ea25a",
   "metadata": {
    "execution": {
     "iopub.execute_input": "2024-06-21T13:57:52.269049Z",
     "iopub.status.busy": "2024-06-21T13:57:52.268812Z",
     "iopub.status.idle": "2024-06-21T13:57:52.332217Z",
     "shell.execute_reply": "2024-06-21T13:57:52.331745Z"
    },
    "papermill": {
     "duration": 0.074842,
     "end_time": "2024-06-21T13:57:52.333334",
     "exception": false,
     "start_time": "2024-06-21T13:57:52.258492",
     "status": "completed"
    },
    "tags": []
   },
   "outputs": [
    {
     "name": "stdout",
     "output_type": "stream",
     "text": [
      "File already saved\n"
     ]
    }
   ],
   "source": [
    "outputFilePath = here(f\"03_downstream_analysis/08_PatientClassifier/scGen/results/02_MAIN_scGenIntegrated_PSEUDOBULK_{n_latent}nLT_{batch}_{annotation}\")\n",
    "if os.path.isfile(outputFilePath):\n",
    "    print(\"File already saved\")\n",
    "else:\n",
    "    pseudobulkTRAIN.write(outputFilePath, compression = 'gzip')"
   ]
  },
  {
   "cell_type": "markdown",
   "id": "818a7bd5-6fef-4c48-9671-07b2d322de54",
   "metadata": {
    "papermill": {
     "duration": 0.008938,
     "end_time": "2024-06-21T13:57:52.350972",
     "exception": false,
     "start_time": "2024-06-21T13:57:52.342034",
     "status": "completed"
    },
    "tags": []
   },
   "source": [
    "### Query dataset"
   ]
  },
  {
   "cell_type": "markdown",
   "id": "8ffa01f7-85b1-420d-a2f0-4221f127ee39",
   "metadata": {
    "papermill": {
     "duration": 0.00886,
     "end_time": "2024-06-21T13:57:52.394845",
     "exception": false,
     "start_time": "2024-06-21T13:57:52.385985",
     "status": "completed"
    },
    "tags": []
   },
   "source": [
    "**Extracting the NOT batch-corrected embedding**"
   ]
  },
  {
   "cell_type": "code",
   "execution_count": 13,
   "id": "76188306-e527-4d28-96c5-cab54837137c",
   "metadata": {
    "execution": {
     "iopub.execute_input": "2024-06-21T13:57:52.413028Z",
     "iopub.status.busy": "2024-06-21T13:57:52.412708Z",
     "iopub.status.idle": "2024-06-21T14:02:06.682851Z",
     "shell.execute_reply": "2024-06-21T14:02:06.682291Z"
    },
    "papermill": {
     "duration": 254.292504,
     "end_time": "2024-06-21T14:02:06.695904",
     "exception": false,
     "start_time": "2024-06-21T13:57:52.403400",
     "status": "completed"
    },
    "tags": []
   },
   "outputs": [
    {
     "data": {
      "text/plain": [
       "(4435922, 20)"
      ]
     },
     "execution_count": 13,
     "metadata": {},
     "output_type": "execute_result"
    }
   ],
   "source": [
    "UncorrectedEmbR =  model_scGen.get_latent_representation()\n",
    "UncorrectedEmbR.shape"
   ]
  },
  {
   "cell_type": "markdown",
   "id": "efb82573-e93f-4e3a-804a-75f0e671f4fd",
   "metadata": {
    "papermill": {
     "duration": 0.008952,
     "end_time": "2024-06-21T14:02:06.713811",
     "exception": false,
     "start_time": "2024-06-21T14:02:06.704859",
     "status": "completed"
    },
    "tags": []
   },
   "source": [
    "**Using py NN descent to transfer cell-type labels**"
   ]
  },
  {
   "cell_type": "code",
   "execution_count": 14,
   "id": "404f63bd-3d74-46a3-a276-4ba1bc2082d3",
   "metadata": {
    "execution": {
     "iopub.execute_input": "2024-06-21T14:02:06.733589Z",
     "iopub.status.busy": "2024-06-21T14:02:06.733158Z",
     "iopub.status.idle": "2024-06-21T14:12:32.613804Z",
     "shell.execute_reply": "2024-06-21T14:12:32.613162Z"
    },
    "papermill": {
     "duration": 625.892494,
     "end_time": "2024-06-21T14:12:32.615514",
     "exception": false,
     "start_time": "2024-06-21T14:02:06.723020",
     "status": "completed"
    },
    "tags": []
   },
   "outputs": [],
   "source": [
    "ref_nn_index = pynndescent.NNDescent(UncorrectedEmbR, random_state = random_seed)\n",
    "ref_nn_index.prepare()"
   ]
  },
  {
   "cell_type": "code",
   "execution_count": 15,
   "id": "dbba7c64-7b9f-4952-8ca7-f74e4dca2aba",
   "metadata": {
    "execution": {
     "iopub.execute_input": "2024-06-21T14:12:32.635608Z",
     "iopub.status.busy": "2024-06-21T14:12:32.635368Z",
     "iopub.status.idle": "2024-06-21T14:13:04.752148Z",
     "shell.execute_reply": "2024-06-21T14:13:04.751453Z"
    },
    "papermill": {
     "duration": 32.138476,
     "end_time": "2024-06-21T14:13:04.763837",
     "exception": false,
     "start_time": "2024-06-21T14:12:32.625361",
     "status": "completed"
    },
    "tags": []
   },
   "outputs": [
    {
     "name": "stdout",
     "output_type": "stream",
     "text": [
      "\u001b[34mINFO    \u001b[0m Input AnnData not setup with scvi-tools. attempting to transfer AnnData setup                             \n"
     ]
    },
    {
     "data": {
      "text/plain": [
       "(572872, 20)"
      ]
     },
     "execution_count": 15,
     "metadata": {},
     "output_type": "execute_result"
    }
   ],
   "source": [
    "UncorrectedEmbQ = model_scGen.get_latent_representation(adataQ)\n",
    "UncorrectedEmbQ.shape"
   ]
  },
  {
   "cell_type": "code",
   "execution_count": 16,
   "id": "b2628e38-1e63-4755-82b7-920cb2b0f580",
   "metadata": {
    "execution": {
     "iopub.execute_input": "2024-06-21T14:13:04.787200Z",
     "iopub.status.busy": "2024-06-21T14:13:04.786923Z",
     "iopub.status.idle": "2024-06-21T14:13:25.523434Z",
     "shell.execute_reply": "2024-06-21T14:13:25.522819Z"
    },
    "papermill": {
     "duration": 20.750492,
     "end_time": "2024-06-21T14:13:25.525151",
     "exception": false,
     "start_time": "2024-06-21T14:13:04.774659",
     "status": "completed"
    },
    "tags": []
   },
   "outputs": [],
   "source": [
    "ref_neighbors, ref_distances = ref_nn_index.query(UncorrectedEmbQ)"
   ]
  },
  {
   "cell_type": "code",
   "execution_count": 17,
   "id": "be69d153-9f4d-4fd1-aed8-d0b4d71be867",
   "metadata": {
    "execution": {
     "iopub.execute_input": "2024-06-21T14:13:25.546303Z",
     "iopub.status.busy": "2024-06-21T14:13:25.546062Z",
     "iopub.status.idle": "2024-06-21T14:13:25.667274Z",
     "shell.execute_reply": "2024-06-21T14:13:25.666658Z"
    },
    "papermill": {
     "duration": 0.132914,
     "end_time": "2024-06-21T14:13:25.668897",
     "exception": false,
     "start_time": "2024-06-21T14:13:25.535983",
     "status": "completed"
    },
    "tags": []
   },
   "outputs": [],
   "source": [
    "# convert distances to affinities\n",
    "stds = np.std(ref_distances, axis=1)\n",
    "stds = (2.0 / stds) ** 2 # gaussian distribution\n",
    "stds = stds.reshape(-1, 1)\n",
    "ref_distances_tilda = np.exp(-np.true_divide(ref_distances, stds))\n",
    "weights = ref_distances_tilda / np.sum(ref_distances_tilda, axis=1, keepdims=True)"
   ]
  },
  {
   "cell_type": "code",
   "execution_count": 18,
   "id": "d9665872-e3e9-4159-aa89-e2f02199bc29",
   "metadata": {
    "execution": {
     "iopub.execute_input": "2024-06-21T14:13:25.689576Z",
     "iopub.status.busy": "2024-06-21T14:13:25.689334Z",
     "iopub.status.idle": "2024-06-21T14:13:25.751024Z",
     "shell.execute_reply": "2024-06-21T14:13:25.750438Z"
    },
    "papermill": {
     "duration": 0.073816,
     "end_time": "2024-06-21T14:13:25.752722",
     "exception": false,
     "start_time": "2024-06-21T14:13:25.678906",
     "status": "completed"
    },
    "tags": []
   },
   "outputs": [],
   "source": [
    "import numba\n",
    "@numba.njit\n",
    "def weighted_prediction(weights, ref_cats):\n",
    "    \"\"\"Get highest weight category.\"\"\"\n",
    "    N = len(weights)\n",
    "    predictions = np.zeros((N,), dtype=ref_cats.dtype)\n",
    "    uncertainty = np.zeros((N,))\n",
    "    for i in range(N):\n",
    "        obs_weights = weights[i]\n",
    "        obs_cats = ref_cats[i]\n",
    "        best_prob = 0\n",
    "        for c in np.unique(obs_cats):\n",
    "            cand_prob = np.sum(obs_weights[obs_cats == c])\n",
    "            if cand_prob > best_prob:\n",
    "                best_prob = cand_prob\n",
    "                predictions[i] = c\n",
    "                uncertainty[i] = max(1 - best_prob, 0)\n",
    "\n",
    "    return predictions, uncertainty"
   ]
  },
  {
   "cell_type": "code",
   "execution_count": 19,
   "id": "d96ec443-9e7c-4143-86f9-99ac958d4e91",
   "metadata": {
    "execution": {
     "iopub.execute_input": "2024-06-21T14:13:25.773221Z",
     "iopub.status.busy": "2024-06-21T14:13:25.772995Z",
     "iopub.status.idle": "2024-06-21T14:13:30.314293Z",
     "shell.execute_reply": "2024-06-21T14:13:30.313654Z"
    },
    "papermill": {
     "duration": 4.553447,
     "end_time": "2024-06-21T14:13:30.315945",
     "exception": false,
     "start_time": "2024-06-21T14:13:25.762498",
     "status": "completed"
    },
    "tags": []
   },
   "outputs": [],
   "source": [
    "# for each annotation level, get prediction and uncertainty\n",
    "label_keys = ['Level1','Level2','disease']\n",
    "for l in label_keys:\n",
    "    ref_cats = model_scGen.adata.obs[l].cat.codes.to_numpy()[ref_neighbors]\n",
    "    p, u = weighted_prediction(weights, ref_cats)\n",
    "    p = np.asarray(model_scGen.adata.obs[l].cat.categories)[p]\n",
    "    adataQ.obs[l + \"_pred\"], adataQ.obs[l + \"_uncertainty\"] = p, u"
   ]
  },
  {
   "cell_type": "markdown",
   "id": "c658256b-6a21-4ed4-b416-94ca1412548c",
   "metadata": {
    "papermill": {
     "duration": 0.009597,
     "end_time": "2024-06-21T14:13:30.335418",
     "exception": false,
     "start_time": "2024-06-21T14:13:30.325821",
     "status": "completed"
    },
    "tags": []
   },
   "source": [
    "We also compute the accuracy of trasnfering the disease label to each cells"
   ]
  },
  {
   "cell_type": "code",
   "execution_count": 20,
   "id": "58ccf15a-d81c-4675-a45f-619aa47a0471",
   "metadata": {
    "execution": {
     "iopub.execute_input": "2024-06-21T14:13:30.355594Z",
     "iopub.status.busy": "2024-06-21T14:13:30.355347Z",
     "iopub.status.idle": "2024-06-21T14:13:30.644643Z",
     "shell.execute_reply": "2024-06-21T14:13:30.644151Z"
    },
    "papermill": {
     "duration": 0.300778,
     "end_time": "2024-06-21T14:13:30.645839",
     "exception": false,
     "start_time": "2024-06-21T14:13:30.345061",
     "status": "completed"
    },
    "tags": []
   },
   "outputs": [
    {
     "data": {
      "image/png": "[encoded data removed]",
      "text/plain": [
       "<Figure size 400x400 with 1 Axes>"
      ]
     },
     "metadata": {
      "image/png": {
       "height": 352,
       "width": 417
      }
     },
     "output_type": "display_data"
    }
   ],
   "source": [
    "adataQ.obs.Level1_uncertainty.hist(bins=50)\n",
    "plt.show()"
   ]
  },
  {
   "cell_type": "code",
   "execution_count": 21,
   "id": "37180dd1-2008-4ab6-a128-0a8f28b650cf",
   "metadata": {
    "execution": {
     "iopub.execute_input": "2024-06-21T14:13:30.667231Z",
     "iopub.status.busy": "2024-06-21T14:13:30.667004Z",
     "iopub.status.idle": "2024-06-21T14:13:57.406959Z",
     "shell.execute_reply": "2024-06-21T14:13:57.406226Z"
    },
    "papermill": {
     "duration": 26.752083,
     "end_time": "2024-06-21T14:13:57.408284",
     "exception": false,
     "start_time": "2024-06-21T14:13:30.656201",
     "status": "completed"
    },
    "tags": []
   },
   "outputs": [],
   "source": [
    "BASlist = []\n",
    "\n",
    "thrValues = np.arange(np.min(adataQ.obs[f\"{annotation}_uncertainty\"]), np.max(adataQ.obs[f\"{annotation}_uncertainty\"]), 0.05)\n",
    "\n",
    "for cell_uncThr in thrValues:\n",
    "  \n",
    "    diseaseBAS = balanced_accuracy_score(y_pred=adataQ.obs.query(f\"{annotation}_uncertainty < @cell_uncThr\")['disease_pred'], \n",
    "                                         y_true=adataQ.obs.query(f\"{annotation}_uncertainty < @cell_uncThr\")['disease'])\n",
    "    BASlist.append(diseaseBAS)\n",
    "    #print(f\"Balance accuracy score for disease prediction at single-cell level = {diseaseBAS}, when uncertanty lower than {disease_uncThr}\")"
   ]
  },
  {
   "cell_type": "code",
   "execution_count": 22,
   "id": "a3ed052a-5be7-4ff8-a09c-87aee868cdae",
   "metadata": {
    "execution": {
     "iopub.execute_input": "2024-06-21T14:13:57.430189Z",
     "iopub.status.busy": "2024-06-21T14:13:57.429783Z",
     "iopub.status.idle": "2024-06-21T14:13:58.259269Z",
     "shell.execute_reply": "2024-06-21T14:13:58.258783Z"
    },
    "papermill": {
     "duration": 0.841711,
     "end_time": "2024-06-21T14:13:58.260245",
     "exception": false,
     "start_time": "2024-06-21T14:13:57.418534",
     "status": "completed"
    },
    "tags": []
   },
   "outputs": [
    {
     "data": {
      "image/png": "[encoded data removed]",
      "text/plain": [
       "<Figure size 400x400 with 1 Axes>"
      ]
     },
     "metadata": {
      "image/png": {
       "height": 377,
       "width": 421
      }
     },
     "output_type": "display_data"
    }
   ],
   "source": [
    "plt.scatter(thrValues, BASlist)\n",
    "plt.xlabel('transfer label uncertainty')\n",
    "plt.ylabel('Balanced accuracy score')\n",
    "plt.show()"
   ]
  },
  {
   "cell_type": "markdown",
   "id": "e344160b-ea94-4581-915b-94e4c645d575",
   "metadata": {
    "papermill": {
     "duration": 0.01094,
     "end_time": "2024-06-21T14:13:58.290614",
     "exception": false,
     "start_time": "2024-06-21T14:13:58.279674",
     "status": "completed"
    },
    "tags": []
   },
   "source": [
    "**Learning the batch correction deltas**"
   ]
  },
  {
   "cell_type": "code",
   "execution_count": 23,
   "id": "6fd1cf6f-d1ca-44cb-858a-88491688ebca",
   "metadata": {
    "execution": {
     "iopub.execute_input": "2024-06-21T14:13:58.313433Z",
     "iopub.status.busy": "2024-06-21T14:13:58.313150Z",
     "iopub.status.idle": "2024-06-21T14:23:40.360399Z",
     "shell.execute_reply": "2024-06-21T14:23:40.359752Z"
    },
    "papermill": {
     "duration": 582.059857,
     "end_time": "2024-06-21T14:23:40.361629",
     "exception": false,
     "start_time": "2024-06-21T14:13:58.301772",
     "status": "completed"
    },
    "tags": []
   },
   "outputs": [
    {
     "name": "stderr",
     "output_type": "stream",
     "text": [
      "\r",
      "  0%|          | 0/256 [00:00<?, ?it/s]"
     ]
    },
    {
     "name": "stderr",
     "output_type": "stream",
     "text": [
      "\r",
      "  0%|          | 1/256 [00:03<12:52,  3.03s/it]"
     ]
    },
    {
     "name": "stderr",
     "output_type": "stream",
     "text": [
      "\r",
      "  1%|          | 2/256 [00:04<08:29,  2.01s/it]"
     ]
    },
    {
     "name": "stderr",
     "output_type": "stream",
     "text": [
      "\r",
      "  1%|          | 3/256 [00:05<07:12,  1.71s/it]"
     ]
    },
    {
     "name": "stderr",
     "output_type": "stream",
     "text": [
      "\r",
      "  2%|▏         | 4/256 [00:07<06:45,  1.61s/it]"
     ]
    },
    {
     "name": "stderr",
     "output_type": "stream",
     "text": [
      "\r",
      "  2%|▏         | 5/256 [00:08<06:20,  1.52s/it]"
     ]
    },
    {
     "name": "stderr",
     "output_type": "stream",
     "text": [
      "\r",
      "  2%|▏         | 6/256 [00:09<06:08,  1.48s/it]"
     ]
    },
    {
     "name": "stderr",
     "output_type": "stream",
     "text": [
      "\r",
      "  3%|▎         | 7/256 [00:11<05:48,  1.40s/it]"
     ]
    },
    {
     "name": "stderr",
     "output_type": "stream",
     "text": [
      "\r",
      "  3%|▎         | 8/256 [00:12<05:43,  1.39s/it]"
     ]
    },
    {
     "name": "stderr",
     "output_type": "stream",
     "text": [
      "\r",
      "  4%|▎         | 9/256 [00:13<05:35,  1.36s/it]"
     ]
    },
    {
     "name": "stderr",
     "output_type": "stream",
     "text": [
      "\r",
      "  4%|▍         | 10/256 [00:15<05:34,  1.36s/it]"
     ]
    },
    {
     "name": "stderr",
     "output_type": "stream",
     "text": [
      "\r",
      "  4%|▍         | 11/256 [00:16<05:20,  1.31s/it]"
     ]
    },
    {
     "name": "stderr",
     "output_type": "stream",
     "text": [
      "\r",
      "  5%|▍         | 12/256 [00:17<05:21,  1.32s/it]"
     ]
    },
    {
     "name": "stderr",
     "output_type": "stream",
     "text": [
      "\r",
      "  5%|▌         | 13/256 [00:18<05:14,  1.30s/it]"
     ]
    },
    {
     "name": "stderr",
     "output_type": "stream",
     "text": [
      "\r",
      "  5%|▌         | 14/256 [00:20<05:06,  1.27s/it]"
     ]
    },
    {
     "name": "stderr",
     "output_type": "stream",
     "text": [
      "\r",
      "  6%|▌         | 15/256 [00:21<05:06,  1.27s/it]"
     ]
    },
    {
     "name": "stderr",
     "output_type": "stream",
     "text": [
      "\r",
      "  6%|▋         | 16/256 [00:22<05:15,  1.32s/it]"
     ]
    },
    {
     "name": "stderr",
     "output_type": "stream",
     "text": [
      "\r",
      "  7%|▋         | 17/256 [00:24<05:18,  1.33s/it]"
     ]
    },
    {
     "name": "stderr",
     "output_type": "stream",
     "text": [
      "\r",
      "  7%|▋         | 18/256 [00:25<05:22,  1.36s/it]"
     ]
    },
    {
     "name": "stderr",
     "output_type": "stream",
     "text": [
      "\r",
      "  7%|▋         | 19/256 [00:26<05:17,  1.34s/it]"
     ]
    },
    {
     "name": "stderr",
     "output_type": "stream",
     "text": [
      "\r",
      "  8%|▊         | 20/256 [00:28<05:14,  1.33s/it]"
     ]
    },
    {
     "name": "stderr",
     "output_type": "stream",
     "text": [
      "\r",
      "  8%|▊         | 21/256 [00:29<04:56,  1.26s/it]"
     ]
    },
    {
     "name": "stderr",
     "output_type": "stream",
     "text": [
      "\r",
      "  9%|▊         | 22/256 [00:30<04:41,  1.20s/it]"
     ]
    },
    {
     "name": "stderr",
     "output_type": "stream",
     "text": [
      "\r",
      "  9%|▉         | 23/256 [00:31<04:28,  1.15s/it]"
     ]
    },
    {
     "name": "stderr",
     "output_type": "stream",
     "text": [
      "\r",
      "  9%|▉         | 24/256 [00:32<04:23,  1.14s/it]"
     ]
    },
    {
     "name": "stderr",
     "output_type": "stream",
     "text": [
      "\r",
      " 10%|▉         | 25/256 [00:33<04:23,  1.14s/it]"
     ]
    },
    {
     "name": "stderr",
     "output_type": "stream",
     "text": [
      "\r",
      " 10%|█         | 26/256 [00:34<04:20,  1.13s/it]"
     ]
    },
    {
     "name": "stderr",
     "output_type": "stream",
     "text": [
      "\r",
      " 11%|█         | 27/256 [00:35<04:10,  1.09s/it]"
     ]
    },
    {
     "name": "stderr",
     "output_type": "stream",
     "text": [
      "\r",
      " 11%|█         | 28/256 [00:36<04:15,  1.12s/it]"
     ]
    },
    {
     "name": "stderr",
     "output_type": "stream",
     "text": [
      "\r",
      " 11%|█▏        | 29/256 [00:38<04:20,  1.15s/it]"
     ]
    },
    {
     "name": "stderr",
     "output_type": "stream",
     "text": [
      "\r",
      " 12%|█▏        | 30/256 [00:39<04:22,  1.16s/it]"
     ]
    },
    {
     "name": "stderr",
     "output_type": "stream",
     "text": [
      "\r",
      " 12%|█▏        | 31/256 [00:40<04:25,  1.18s/it]"
     ]
    },
    {
     "name": "stderr",
     "output_type": "stream",
     "text": [
      "\r",
      " 12%|█▎        | 32/256 [00:41<04:30,  1.21s/it]"
     ]
    },
    {
     "name": "stderr",
     "output_type": "stream",
     "text": [
      "\r",
      " 13%|█▎        | 33/256 [00:42<04:13,  1.13s/it]"
     ]
    },
    {
     "name": "stderr",
     "output_type": "stream",
     "text": [
      "\r",
      " 13%|█▎        | 34/256 [00:43<03:58,  1.08s/it]"
     ]
    },
    {
     "name": "stderr",
     "output_type": "stream",
     "text": [
      "\r",
      " 14%|█▎        | 35/256 [00:44<03:53,  1.06s/it]"
     ]
    },
    {
     "name": "stderr",
     "output_type": "stream",
     "text": [
      "\r",
      " 14%|█▍        | 36/256 [00:45<03:46,  1.03s/it]"
     ]
    },
    {
     "name": "stderr",
     "output_type": "stream",
     "text": [
      "\r",
      " 14%|█▍        | 37/256 [00:46<03:46,  1.03s/it]"
     ]
    },
    {
     "name": "stderr",
     "output_type": "stream",
     "text": [
      "\r",
      " 15%|█▍        | 38/256 [00:47<03:45,  1.04s/it]"
     ]
    },
    {
     "name": "stderr",
     "output_type": "stream",
     "text": [
      "\r",
      " 15%|█▌        | 39/256 [00:48<03:40,  1.02s/it]"
     ]
    },
    {
     "name": "stderr",
     "output_type": "stream",
     "text": [
      "\r",
      " 16%|█▌        | 40/256 [00:49<03:38,  1.01s/it]"
     ]
    },
    {
     "name": "stderr",
     "output_type": "stream",
     "text": [
      "\r",
      " 16%|█▌        | 41/256 [00:51<03:59,  1.11s/it]"
     ]
    },
    {
     "name": "stderr",
     "output_type": "stream",
     "text": [
      "\r",
      " 16%|█▋        | 42/256 [00:52<04:30,  1.26s/it]"
     ]
    },
    {
     "name": "stderr",
     "output_type": "stream",
     "text": [
      "\r",
      " 17%|█▋        | 43/256 [00:54<04:33,  1.28s/it]"
     ]
    },
    {
     "name": "stderr",
     "output_type": "stream",
     "text": [
      "\r",
      " 17%|█▋        | 44/256 [00:55<04:33,  1.29s/it]"
     ]
    },
    {
     "name": "stderr",
     "output_type": "stream",
     "text": [
      "\r",
      " 18%|█▊        | 45/256 [00:56<04:15,  1.21s/it]"
     ]
    },
    {
     "name": "stderr",
     "output_type": "stream",
     "text": [
      "\r",
      " 18%|█▊        | 46/256 [00:57<04:05,  1.17s/it]"
     ]
    },
    {
     "name": "stderr",
     "output_type": "stream",
     "text": [
      "\r",
      " 18%|█▊        | 47/256 [00:58<03:54,  1.12s/it]"
     ]
    },
    {
     "name": "stderr",
     "output_type": "stream",
     "text": [
      "\r",
      " 19%|█▉        | 48/256 [00:59<03:54,  1.13s/it]"
     ]
    },
    {
     "name": "stderr",
     "output_type": "stream",
     "text": [
      "\r",
      " 19%|█▉        | 49/256 [01:00<03:40,  1.07s/it]"
     ]
    },
    {
     "name": "stderr",
     "output_type": "stream",
     "text": [
      "\r",
      " 20%|█▉        | 50/256 [01:01<03:30,  1.02s/it]"
     ]
    },
    {
     "name": "stderr",
     "output_type": "stream",
     "text": [
      "\r",
      " 20%|█▉        | 51/256 [01:02<03:25,  1.00s/it]"
     ]
    },
    {
     "name": "stderr",
     "output_type": "stream",
     "text": [
      "\r",
      " 20%|██        | 52/256 [01:03<03:22,  1.01it/s]"
     ]
    },
    {
     "name": "stderr",
     "output_type": "stream",
     "text": [
      "\r",
      " 21%|██        | 53/256 [01:04<03:33,  1.05s/it]"
     ]
    },
    {
     "name": "stderr",
     "output_type": "stream",
     "text": [
      "\r",
      " 21%|██        | 54/256 [01:05<03:37,  1.08s/it]"
     ]
    },
    {
     "name": "stderr",
     "output_type": "stream",
     "text": [
      "\r",
      " 21%|██▏       | 55/256 [01:06<03:34,  1.07s/it]"
     ]
    },
    {
     "name": "stderr",
     "output_type": "stream",
     "text": [
      "\r",
      " 22%|██▏       | 56/256 [01:07<03:33,  1.07s/it]"
     ]
    },
    {
     "name": "stderr",
     "output_type": "stream",
     "text": [
      "\r",
      " 22%|██▏       | 57/256 [01:08<03:34,  1.08s/it]"
     ]
    },
    {
     "name": "stderr",
     "output_type": "stream",
     "text": [
      "\r",
      " 23%|██▎       | 58/256 [01:10<03:38,  1.10s/it]"
     ]
    },
    {
     "name": "stderr",
     "output_type": "stream",
     "text": [
      "\r",
      " 23%|██▎       | 59/256 [01:11<03:33,  1.08s/it]"
     ]
    },
    {
     "name": "stderr",
     "output_type": "stream",
     "text": [
      "\r",
      " 23%|██▎       | 60/256 [01:12<03:37,  1.11s/it]"
     ]
    },
    {
     "name": "stderr",
     "output_type": "stream",
     "text": [
      "\r",
      " 24%|██▍       | 61/256 [01:13<03:41,  1.14s/it]"
     ]
    },
    {
     "name": "stderr",
     "output_type": "stream",
     "text": [
      "\r",
      " 24%|██▍       | 62/256 [01:14<03:37,  1.12s/it]"
     ]
    },
    {
     "name": "stderr",
     "output_type": "stream",
     "text": [
      "\r",
      " 25%|██▍       | 63/256 [01:15<03:35,  1.11s/it]"
     ]
    },
    {
     "name": "stderr",
     "output_type": "stream",
     "text": [
      "\r",
      " 25%|██▌       | 64/256 [01:16<03:37,  1.13s/it]"
     ]
    },
    {
     "name": "stderr",
     "output_type": "stream",
     "text": [
      "\r",
      " 25%|██▌       | 65/256 [01:17<03:28,  1.09s/it]"
     ]
    },
    {
     "name": "stderr",
     "output_type": "stream",
     "text": [
      "\r",
      " 26%|██▌       | 66/256 [01:18<03:23,  1.07s/it]"
     ]
    },
    {
     "name": "stderr",
     "output_type": "stream",
     "text": [
      "\r",
      " 26%|██▌       | 67/256 [01:19<03:22,  1.07s/it]"
     ]
    },
    {
     "name": "stderr",
     "output_type": "stream",
     "text": [
      "\r",
      " 27%|██▋       | 68/256 [01:20<03:14,  1.04s/it]"
     ]
    },
    {
     "name": "stderr",
     "output_type": "stream",
     "text": [
      "\r",
      " 27%|██▋       | 69/256 [01:22<03:49,  1.23s/it]"
     ]
    },
    {
     "name": "stderr",
     "output_type": "stream",
     "text": [
      "\r",
      " 27%|██▋       | 70/256 [01:24<03:59,  1.29s/it]"
     ]
    },
    {
     "name": "stderr",
     "output_type": "stream",
     "text": [
      "\r",
      " 28%|██▊       | 71/256 [01:25<04:16,  1.38s/it]"
     ]
    },
    {
     "name": "stderr",
     "output_type": "stream",
     "text": [
      "\r",
      " 28%|██▊       | 72/256 [01:27<04:30,  1.47s/it]"
     ]
    },
    {
     "name": "stderr",
     "output_type": "stream",
     "text": [
      "\r",
      " 29%|██▊       | 73/256 [01:29<05:11,  1.70s/it]"
     ]
    },
    {
     "name": "stderr",
     "output_type": "stream",
     "text": [
      "\r",
      " 29%|██▉       | 74/256 [01:31<05:33,  1.83s/it]"
     ]
    },
    {
     "name": "stderr",
     "output_type": "stream",
     "text": [
      "\r",
      " 29%|██▉       | 75/256 [01:34<06:11,  2.05s/it]"
     ]
    },
    {
     "name": "stderr",
     "output_type": "stream",
     "text": [
      "\r",
      " 30%|██▉       | 76/256 [01:36<06:37,  2.21s/it]"
     ]
    },
    {
     "name": "stderr",
     "output_type": "stream",
     "text": [
      "\r",
      " 30%|███       | 77/256 [01:38<05:46,  1.94s/it]"
     ]
    },
    {
     "name": "stderr",
     "output_type": "stream",
     "text": [
      "\r",
      " 30%|███       | 78/256 [01:39<05:18,  1.79s/it]"
     ]
    },
    {
     "name": "stderr",
     "output_type": "stream",
     "text": [
      "\r",
      " 31%|███       | 79/256 [01:41<05:08,  1.74s/it]"
     ]
    },
    {
     "name": "stderr",
     "output_type": "stream",
     "text": [
      "\r",
      " 31%|███▏      | 80/256 [01:42<04:50,  1.65s/it]"
     ]
    },
    {
     "name": "stderr",
     "output_type": "stream",
     "text": [
      "\r",
      " 32%|███▏      | 81/256 [01:44<04:44,  1.62s/it]"
     ]
    },
    {
     "name": "stderr",
     "output_type": "stream",
     "text": [
      "\r",
      " 32%|███▏      | 82/256 [01:45<04:40,  1.61s/it]"
     ]
    },
    {
     "name": "stderr",
     "output_type": "stream",
     "text": [
      "\r",
      " 32%|███▏      | 83/256 [01:47<04:36,  1.60s/it]"
     ]
    },
    {
     "name": "stderr",
     "output_type": "stream",
     "text": [
      "\r",
      " 33%|███▎      | 84/256 [01:48<04:35,  1.60s/it]"
     ]
    },
    {
     "name": "stderr",
     "output_type": "stream",
     "text": [
      "\r",
      " 33%|███▎      | 85/256 [01:50<04:45,  1.67s/it]"
     ]
    },
    {
     "name": "stderr",
     "output_type": "stream",
     "text": [
      "\r",
      " 34%|███▎      | 86/256 [01:53<05:26,  1.92s/it]"
     ]
    },
    {
     "name": "stderr",
     "output_type": "stream",
     "text": [
      "\r",
      " 34%|███▍      | 87/256 [01:55<05:24,  1.92s/it]"
     ]
    },
    {
     "name": "stderr",
     "output_type": "stream",
     "text": [
      "\r",
      " 34%|███▍      | 88/256 [01:57<05:18,  1.89s/it]"
     ]
    },
    {
     "name": "stderr",
     "output_type": "stream",
     "text": [
      "\r",
      " 35%|███▍      | 89/256 [01:58<04:43,  1.70s/it]"
     ]
    },
    {
     "name": "stderr",
     "output_type": "stream",
     "text": [
      "\r",
      " 35%|███▌      | 90/256 [01:59<04:15,  1.54s/it]"
     ]
    },
    {
     "name": "stderr",
     "output_type": "stream",
     "text": [
      "\r",
      " 36%|███▌      | 91/256 [02:00<03:58,  1.45s/it]"
     ]
    },
    {
     "name": "stderr",
     "output_type": "stream",
     "text": [
      "\r",
      " 36%|███▌      | 92/256 [02:02<03:56,  1.44s/it]"
     ]
    },
    {
     "name": "stderr",
     "output_type": "stream",
     "text": [
      "\r",
      " 36%|███▋      | 93/256 [02:04<04:18,  1.58s/it]"
     ]
    },
    {
     "name": "stderr",
     "output_type": "stream",
     "text": [
      "\r",
      " 37%|███▋      | 94/256 [02:05<04:15,  1.58s/it]"
     ]
    },
    {
     "name": "stderr",
     "output_type": "stream",
     "text": [
      "\r",
      " 37%|███▋      | 95/256 [02:07<04:19,  1.61s/it]"
     ]
    },
    {
     "name": "stderr",
     "output_type": "stream",
     "text": [
      "\r",
      " 38%|███▊      | 96/256 [02:09<04:28,  1.68s/it]"
     ]
    },
    {
     "name": "stderr",
     "output_type": "stream",
     "text": [
      "\r",
      " 38%|███▊      | 97/256 [02:10<04:05,  1.54s/it]"
     ]
    },
    {
     "name": "stderr",
     "output_type": "stream",
     "text": [
      "\r",
      " 38%|███▊      | 98/256 [02:11<03:48,  1.44s/it]"
     ]
    },
    {
     "name": "stderr",
     "output_type": "stream",
     "text": [
      "\r",
      " 39%|███▊      | 99/256 [02:12<03:33,  1.36s/it]"
     ]
    },
    {
     "name": "stderr",
     "output_type": "stream",
     "text": [
      "\r",
      " 39%|███▉      | 100/256 [02:14<03:31,  1.36s/it]"
     ]
    },
    {
     "name": "stderr",
     "output_type": "stream",
     "text": [
      "\r",
      " 39%|███▉      | 101/256 [02:15<03:17,  1.27s/it]"
     ]
    },
    {
     "name": "stderr",
     "output_type": "stream",
     "text": [
      "\r",
      " 40%|███▉      | 102/256 [02:16<03:12,  1.25s/it]"
     ]
    },
    {
     "name": "stderr",
     "output_type": "stream",
     "text": [
      "\r",
      " 40%|████      | 103/256 [02:17<03:00,  1.18s/it]"
     ]
    },
    {
     "name": "stderr",
     "output_type": "stream",
     "text": [
      "\r",
      " 41%|████      | 104/256 [02:18<03:02,  1.20s/it]"
     ]
    },
    {
     "name": "stderr",
     "output_type": "stream",
     "text": [
      "\r",
      " 41%|████      | 105/256 [02:19<02:54,  1.15s/it]"
     ]
    },
    {
     "name": "stderr",
     "output_type": "stream",
     "text": [
      "\r",
      " 41%|████▏     | 106/256 [02:20<02:49,  1.13s/it]"
     ]
    },
    {
     "name": "stderr",
     "output_type": "stream",
     "text": [
      "\r",
      " 42%|████▏     | 107/256 [02:21<02:48,  1.13s/it]"
     ]
    },
    {
     "name": "stderr",
     "output_type": "stream",
     "text": [
      "\r",
      " 42%|████▏     | 108/256 [02:22<02:42,  1.10s/it]"
     ]
    },
    {
     "name": "stderr",
     "output_type": "stream",
     "text": [
      "\r",
      " 43%|████▎     | 109/256 [02:23<02:34,  1.05s/it]"
     ]
    },
    {
     "name": "stderr",
     "output_type": "stream",
     "text": [
      "\r",
      " 43%|████▎     | 110/256 [02:24<02:31,  1.04s/it]"
     ]
    },
    {
     "name": "stderr",
     "output_type": "stream",
     "text": [
      "\r",
      " 43%|████▎     | 111/256 [02:25<02:31,  1.05s/it]"
     ]
    },
    {
     "name": "stderr",
     "output_type": "stream",
     "text": [
      "\r",
      " 44%|████▍     | 112/256 [02:26<02:27,  1.03s/it]"
     ]
    },
    {
     "name": "stderr",
     "output_type": "stream",
     "text": [
      "\r",
      " 44%|████▍     | 113/256 [02:28<02:41,  1.13s/it]"
     ]
    },
    {
     "name": "stderr",
     "output_type": "stream",
     "text": [
      "\r",
      " 45%|████▍     | 114/256 [02:29<02:50,  1.20s/it]"
     ]
    },
    {
     "name": "stderr",
     "output_type": "stream",
     "text": [
      "\r",
      " 45%|████▍     | 115/256 [02:30<02:50,  1.21s/it]"
     ]
    },
    {
     "name": "stderr",
     "output_type": "stream",
     "text": [
      "\r",
      " 45%|████▌     | 116/256 [02:32<02:56,  1.26s/it]"
     ]
    },
    {
     "name": "stderr",
     "output_type": "stream",
     "text": [
      "\r",
      " 46%|████▌     | 117/256 [02:33<02:42,  1.17s/it]"
     ]
    },
    {
     "name": "stderr",
     "output_type": "stream",
     "text": [
      "\r",
      " 46%|████▌     | 118/256 [02:34<02:37,  1.14s/it]"
     ]
    },
    {
     "name": "stderr",
     "output_type": "stream",
     "text": [
      "\r",
      " 46%|████▋     | 119/256 [02:35<02:27,  1.07s/it]"
     ]
    },
    {
     "name": "stderr",
     "output_type": "stream",
     "text": [
      "\r",
      " 47%|████▋     | 120/256 [02:36<02:20,  1.03s/it]"
     ]
    },
    {
     "name": "stderr",
     "output_type": "stream",
     "text": [
      "\r",
      " 47%|████▋     | 121/256 [02:37<02:16,  1.01s/it]"
     ]
    },
    {
     "name": "stderr",
     "output_type": "stream",
     "text": [
      "\r",
      " 48%|████▊     | 122/256 [02:38<02:19,  1.04s/it]"
     ]
    },
    {
     "name": "stderr",
     "output_type": "stream",
     "text": [
      "\r",
      " 48%|████▊     | 123/256 [02:39<02:19,  1.05s/it]"
     ]
    },
    {
     "name": "stderr",
     "output_type": "stream",
     "text": [
      "\r",
      " 48%|████▊     | 124/256 [02:40<02:16,  1.03s/it]"
     ]
    },
    {
     "name": "stderr",
     "output_type": "stream",
     "text": [
      "\r",
      " 49%|████▉     | 125/256 [02:41<02:12,  1.01s/it]"
     ]
    },
    {
     "name": "stderr",
     "output_type": "stream",
     "text": [
      "\r",
      " 49%|████▉     | 126/256 [02:42<02:08,  1.01it/s]"
     ]
    },
    {
     "name": "stderr",
     "output_type": "stream",
     "text": [
      "\r",
      " 50%|████▉     | 127/256 [02:43<02:06,  1.02it/s]"
     ]
    },
    {
     "name": "stderr",
     "output_type": "stream",
     "text": [
      "\r",
      " 50%|█████     | 128/256 [02:44<02:04,  1.03it/s]"
     ]
    },
    {
     "name": "stderr",
     "output_type": "stream",
     "text": [
      "\r",
      " 50%|█████     | 129/256 [02:44<02:00,  1.05it/s]"
     ]
    },
    {
     "name": "stderr",
     "output_type": "stream",
     "text": [
      "\r",
      " 51%|█████     | 130/256 [02:45<02:00,  1.05it/s]"
     ]
    },
    {
     "name": "stderr",
     "output_type": "stream",
     "text": [
      "\r",
      " 51%|█████     | 131/256 [02:46<01:56,  1.08it/s]"
     ]
    },
    {
     "name": "stderr",
     "output_type": "stream",
     "text": [
      "\r",
      " 52%|█████▏    | 132/256 [02:47<01:53,  1.09it/s]"
     ]
    },
    {
     "name": "stderr",
     "output_type": "stream",
     "text": [
      "\r",
      " 52%|█████▏    | 133/256 [02:49<02:29,  1.21s/it]"
     ]
    },
    {
     "name": "stderr",
     "output_type": "stream",
     "text": [
      "\r",
      " 52%|█████▏    | 134/256 [02:51<02:53,  1.42s/it]"
     ]
    },
    {
     "name": "stderr",
     "output_type": "stream",
     "text": [
      "\r",
      " 53%|█████▎    | 135/256 [02:53<03:02,  1.51s/it]"
     ]
    },
    {
     "name": "stderr",
     "output_type": "stream",
     "text": [
      "\r",
      " 53%|█████▎    | 136/256 [02:55<03:19,  1.66s/it]"
     ]
    },
    {
     "name": "stderr",
     "output_type": "stream",
     "text": [
      "\r",
      " 54%|█████▎    | 137/256 [02:56<02:52,  1.45s/it]"
     ]
    },
    {
     "name": "stderr",
     "output_type": "stream",
     "text": [
      "\r",
      " 54%|█████▍    | 138/256 [02:57<02:28,  1.26s/it]"
     ]
    },
    {
     "name": "stderr",
     "output_type": "stream",
     "text": [
      "\r",
      " 54%|█████▍    | 139/256 [02:57<02:16,  1.16s/it]"
     ]
    },
    {
     "name": "stderr",
     "output_type": "stream",
     "text": [
      "\r",
      " 55%|█████▍    | 140/256 [02:58<02:06,  1.09s/it]"
     ]
    },
    {
     "name": "stderr",
     "output_type": "stream",
     "text": [
      "\r",
      " 55%|█████▌    | 141/256 [03:00<02:12,  1.15s/it]"
     ]
    },
    {
     "name": "stderr",
     "output_type": "stream",
     "text": [
      "\r",
      " 55%|█████▌    | 142/256 [03:01<02:13,  1.17s/it]"
     ]
    },
    {
     "name": "stderr",
     "output_type": "stream",
     "text": [
      "\r",
      " 56%|█████▌    | 143/256 [03:02<02:09,  1.14s/it]"
     ]
    },
    {
     "name": "stderr",
     "output_type": "stream",
     "text": [
      "\r",
      " 56%|█████▋    | 144/256 [03:03<02:18,  1.24s/it]"
     ]
    },
    {
     "name": "stderr",
     "output_type": "stream",
     "text": [
      "\r",
      " 57%|█████▋    | 145/256 [03:05<02:14,  1.21s/it]"
     ]
    },
    {
     "name": "stderr",
     "output_type": "stream",
     "text": [
      "\r",
      " 57%|█████▋    | 146/256 [03:06<02:13,  1.21s/it]"
     ]
    },
    {
     "name": "stderr",
     "output_type": "stream",
     "text": [
      "\r",
      " 57%|█████▋    | 147/256 [03:07<02:20,  1.29s/it]"
     ]
    },
    {
     "name": "stderr",
     "output_type": "stream",
     "text": [
      "\r",
      " 58%|█████▊    | 148/256 [03:09<02:19,  1.29s/it]"
     ]
    },
    {
     "name": "stderr",
     "output_type": "stream",
     "text": [
      "\r",
      " 58%|█████▊    | 149/256 [03:10<02:26,  1.37s/it]"
     ]
    },
    {
     "name": "stderr",
     "output_type": "stream",
     "text": [
      "\r",
      " 59%|█████▊    | 150/256 [03:12<02:33,  1.45s/it]"
     ]
    },
    {
     "name": "stderr",
     "output_type": "stream",
     "text": [
      "\r",
      " 59%|█████▉    | 151/256 [03:13<02:34,  1.47s/it]"
     ]
    },
    {
     "name": "stderr",
     "output_type": "stream",
     "text": [
      "\r",
      " 59%|█████▉    | 152/256 [03:15<02:39,  1.53s/it]"
     ]
    },
    {
     "name": "stderr",
     "output_type": "stream",
     "text": [
      "\r",
      " 60%|█████▉    | 153/256 [03:16<02:28,  1.44s/it]"
     ]
    },
    {
     "name": "stderr",
     "output_type": "stream",
     "text": [
      "\r",
      " 60%|██████    | 154/256 [03:17<02:15,  1.33s/it]"
     ]
    },
    {
     "name": "stderr",
     "output_type": "stream",
     "text": [
      "\r",
      " 61%|██████    | 155/256 [03:18<02:07,  1.27s/it]"
     ]
    },
    {
     "name": "stderr",
     "output_type": "stream",
     "text": [
      "\r",
      " 61%|██████    | 156/256 [03:19<02:02,  1.22s/it]"
     ]
    },
    {
     "name": "stderr",
     "output_type": "stream",
     "text": [
      "\r",
      " 61%|██████▏   | 157/256 [03:22<02:52,  1.74s/it]"
     ]
    },
    {
     "name": "stderr",
     "output_type": "stream",
     "text": [
      "\r",
      " 62%|██████▏   | 158/256 [03:25<03:27,  2.12s/it]"
     ]
    },
    {
     "name": "stderr",
     "output_type": "stream",
     "text": [
      "\r",
      " 62%|██████▏   | 159/256 [03:28<03:46,  2.33s/it]"
     ]
    },
    {
     "name": "stderr",
     "output_type": "stream",
     "text": [
      "\r",
      " 62%|██████▎   | 160/256 [03:31<04:09,  2.60s/it]"
     ]
    },
    {
     "name": "stderr",
     "output_type": "stream",
     "text": [
      "\r",
      " 63%|██████▎   | 161/256 [03:33<03:30,  2.21s/it]"
     ]
    },
    {
     "name": "stderr",
     "output_type": "stream",
     "text": [
      "\r",
      " 63%|██████▎   | 162/256 [03:34<03:02,  1.94s/it]"
     ]
    },
    {
     "name": "stderr",
     "output_type": "stream",
     "text": [
      "\r",
      " 64%|██████▎   | 163/256 [03:35<02:44,  1.77s/it]"
     ]
    },
    {
     "name": "stderr",
     "output_type": "stream",
     "text": [
      "\r",
      " 64%|██████▍   | 164/256 [03:37<02:32,  1.66s/it]"
     ]
    },
    {
     "name": "stderr",
     "output_type": "stream",
     "text": [
      "\r",
      " 64%|██████▍   | 165/256 [03:38<02:24,  1.58s/it]"
     ]
    },
    {
     "name": "stderr",
     "output_type": "stream",
     "text": [
      "\r",
      " 65%|██████▍   | 166/256 [03:40<02:17,  1.52s/it]"
     ]
    },
    {
     "name": "stderr",
     "output_type": "stream",
     "text": [
      "\r",
      " 65%|██████▌   | 167/256 [03:41<02:10,  1.47s/it]"
     ]
    },
    {
     "name": "stderr",
     "output_type": "stream",
     "text": [
      "\r",
      " 66%|██████▌   | 168/256 [03:42<02:09,  1.47s/it]"
     ]
    },
    {
     "name": "stderr",
     "output_type": "stream",
     "text": [
      "\r",
      " 66%|██████▌   | 169/256 [03:44<02:00,  1.38s/it]"
     ]
    },
    {
     "name": "stderr",
     "output_type": "stream",
     "text": [
      "\r",
      " 66%|██████▋   | 170/256 [03:45<01:51,  1.30s/it]"
     ]
    },
    {
     "name": "stderr",
     "output_type": "stream",
     "text": [
      "\r",
      " 67%|██████▋   | 171/256 [03:46<01:48,  1.28s/it]"
     ]
    },
    {
     "name": "stderr",
     "output_type": "stream",
     "text": [
      "\r",
      " 67%|██████▋   | 172/256 [03:47<01:46,  1.26s/it]"
     ]
    },
    {
     "name": "stderr",
     "output_type": "stream",
     "text": [
      "\r",
      " 68%|██████▊   | 173/256 [03:48<01:44,  1.26s/it]"
     ]
    },
    {
     "name": "stderr",
     "output_type": "stream",
     "text": [
      "\r",
      " 68%|██████▊   | 174/256 [03:50<01:44,  1.27s/it]"
     ]
    },
    {
     "name": "stderr",
     "output_type": "stream",
     "text": [
      "\r",
      " 68%|██████▊   | 175/256 [03:51<01:43,  1.27s/it]"
     ]
    },
    {
     "name": "stderr",
     "output_type": "stream",
     "text": [
      "\r",
      " 69%|██████▉   | 176/256 [03:52<01:43,  1.30s/it]"
     ]
    },
    {
     "name": "stderr",
     "output_type": "stream",
     "text": [
      "\r",
      " 69%|██████▉   | 177/256 [03:54<01:42,  1.30s/it]"
     ]
    },
    {
     "name": "stderr",
     "output_type": "stream",
     "text": [
      "\r",
      " 70%|██████▉   | 178/256 [03:55<01:45,  1.36s/it]"
     ]
    },
    {
     "name": "stderr",
     "output_type": "stream",
     "text": [
      "\r",
      " 70%|██████▉   | 179/256 [03:57<01:44,  1.36s/it]"
     ]
    },
    {
     "name": "stderr",
     "output_type": "stream",
     "text": [
      "\r",
      " 70%|███████   | 180/256 [03:58<01:45,  1.39s/it]"
     ]
    },
    {
     "name": "stderr",
     "output_type": "stream",
     "text": [
      "\r",
      " 71%|███████   | 181/256 [03:59<01:40,  1.34s/it]"
     ]
    },
    {
     "name": "stderr",
     "output_type": "stream",
     "text": [
      "\r",
      " 71%|███████   | 182/256 [04:01<01:39,  1.34s/it]"
     ]
    },
    {
     "name": "stderr",
     "output_type": "stream",
     "text": [
      "\r",
      " 71%|███████▏  | 183/256 [04:02<01:34,  1.29s/it]"
     ]
    },
    {
     "name": "stderr",
     "output_type": "stream",
     "text": [
      "\r",
      " 72%|███████▏  | 184/256 [04:03<01:31,  1.27s/it]"
     ]
    },
    {
     "name": "stderr",
     "output_type": "stream",
     "text": [
      "\r",
      " 72%|███████▏  | 185/256 [04:04<01:25,  1.20s/it]"
     ]
    },
    {
     "name": "stderr",
     "output_type": "stream",
     "text": [
      "\r",
      " 73%|███████▎  | 186/256 [04:05<01:23,  1.19s/it]"
     ]
    },
    {
     "name": "stderr",
     "output_type": "stream",
     "text": [
      "\r",
      " 73%|███████▎  | 187/256 [04:06<01:23,  1.21s/it]"
     ]
    },
    {
     "name": "stderr",
     "output_type": "stream",
     "text": [
      "\r",
      " 73%|███████▎  | 188/256 [04:08<01:25,  1.26s/it]"
     ]
    },
    {
     "name": "stderr",
     "output_type": "stream",
     "text": [
      "\r",
      " 74%|███████▍  | 189/256 [04:09<01:32,  1.38s/it]"
     ]
    },
    {
     "name": "stderr",
     "output_type": "stream",
     "text": [
      "\r",
      " 74%|███████▍  | 190/256 [04:11<01:35,  1.45s/it]"
     ]
    },
    {
     "name": "stderr",
     "output_type": "stream",
     "text": [
      "\r",
      " 75%|███████▍  | 191/256 [04:13<01:34,  1.46s/it]"
     ]
    },
    {
     "name": "stderr",
     "output_type": "stream",
     "text": [
      "\r",
      " 75%|███████▌  | 192/256 [04:14<01:37,  1.53s/it]"
     ]
    },
    {
     "name": "stderr",
     "output_type": "stream",
     "text": [
      "\r",
      " 75%|███████▌  | 193/256 [04:15<01:27,  1.39s/it]"
     ]
    },
    {
     "name": "stderr",
     "output_type": "stream",
     "text": [
      "\r",
      " 76%|███████▌  | 194/256 [04:16<01:19,  1.29s/it]"
     ]
    },
    {
     "name": "stderr",
     "output_type": "stream",
     "text": [
      "\r",
      " 76%|███████▌  | 195/256 [04:18<01:18,  1.29s/it]"
     ]
    },
    {
     "name": "stderr",
     "output_type": "stream",
     "text": [
      "\r",
      " 77%|███████▋  | 196/256 [04:19<01:13,  1.22s/it]"
     ]
    },
    {
     "name": "stderr",
     "output_type": "stream",
     "text": [
      "\r",
      " 77%|███████▋  | 197/256 [04:20<01:08,  1.17s/it]"
     ]
    },
    {
     "name": "stderr",
     "output_type": "stream",
     "text": [
      "\r",
      " 77%|███████▋  | 198/256 [04:21<01:04,  1.11s/it]"
     ]
    },
    {
     "name": "stderr",
     "output_type": "stream",
     "text": [
      "\r",
      " 78%|███████▊  | 199/256 [04:22<01:02,  1.10s/it]"
     ]
    },
    {
     "name": "stderr",
     "output_type": "stream",
     "text": [
      "\r",
      " 78%|███████▊  | 200/256 [04:23<00:59,  1.07s/it]"
     ]
    },
    {
     "name": "stderr",
     "output_type": "stream",
     "text": [
      "\r",
      " 79%|███████▊  | 201/256 [04:24<01:00,  1.10s/it]"
     ]
    },
    {
     "name": "stderr",
     "output_type": "stream",
     "text": [
      "\r",
      " 79%|███████▉  | 202/256 [04:25<00:58,  1.09s/it]"
     ]
    },
    {
     "name": "stderr",
     "output_type": "stream",
     "text": [
      "\r",
      " 79%|███████▉  | 203/256 [04:26<00:58,  1.11s/it]"
     ]
    },
    {
     "name": "stderr",
     "output_type": "stream",
     "text": [
      "\r",
      " 80%|███████▉  | 204/256 [04:27<00:58,  1.13s/it]"
     ]
    },
    {
     "name": "stderr",
     "output_type": "stream",
     "text": [
      "\r",
      " 80%|████████  | 205/256 [04:28<00:53,  1.05s/it]"
     ]
    },
    {
     "name": "stderr",
     "output_type": "stream",
     "text": [
      "\r",
      " 80%|████████  | 206/256 [04:29<00:49,  1.00it/s]"
     ]
    },
    {
     "name": "stderr",
     "output_type": "stream",
     "text": [
      "\r",
      " 81%|████████  | 207/256 [04:30<00:46,  1.06it/s]"
     ]
    },
    {
     "name": "stderr",
     "output_type": "stream",
     "text": [
      "\r",
      " 81%|████████▏ | 208/256 [04:31<00:43,  1.09it/s]"
     ]
    },
    {
     "name": "stderr",
     "output_type": "stream",
     "text": [
      "\r",
      " 82%|████████▏ | 209/256 [04:32<00:46,  1.01it/s]"
     ]
    },
    {
     "name": "stderr",
     "output_type": "stream",
     "text": [
      "\r",
      " 82%|████████▏ | 210/256 [04:33<00:49,  1.09s/it]"
     ]
    },
    {
     "name": "stderr",
     "output_type": "stream",
     "text": [
      "\r",
      " 82%|████████▏ | 211/256 [04:35<00:52,  1.17s/it]"
     ]
    },
    {
     "name": "stderr",
     "output_type": "stream",
     "text": [
      "\r",
      " 83%|████████▎ | 212/256 [04:36<00:51,  1.18s/it]"
     ]
    },
    {
     "name": "stderr",
     "output_type": "stream",
     "text": [
      "\r",
      " 83%|████████▎ | 213/256 [04:37<00:52,  1.23s/it]"
     ]
    },
    {
     "name": "stderr",
     "output_type": "stream",
     "text": [
      "\r",
      " 84%|████████▎ | 214/256 [04:39<00:54,  1.30s/it]"
     ]
    },
    {
     "name": "stderr",
     "output_type": "stream",
     "text": [
      "\r",
      " 84%|████████▍ | 215/256 [04:40<00:53,  1.31s/it]"
     ]
    },
    {
     "name": "stderr",
     "output_type": "stream",
     "text": [
      "\r",
      " 84%|████████▍ | 216/256 [04:41<00:53,  1.34s/it]"
     ]
    },
    {
     "name": "stderr",
     "output_type": "stream",
     "text": [
      "\r",
      " 85%|████████▍ | 217/256 [04:43<00:53,  1.36s/it]"
     ]
    },
    {
     "name": "stderr",
     "output_type": "stream",
     "text": [
      "\r",
      " 85%|████████▌ | 218/256 [04:44<00:52,  1.39s/it]"
     ]
    },
    {
     "name": "stderr",
     "output_type": "stream",
     "text": [
      "\r",
      " 86%|████████▌ | 219/256 [04:46<00:53,  1.44s/it]"
     ]
    },
    {
     "name": "stderr",
     "output_type": "stream",
     "text": [
      "\r",
      " 86%|████████▌ | 220/256 [04:47<00:50,  1.41s/it]"
     ]
    },
    {
     "name": "stderr",
     "output_type": "stream",
     "text": [
      "\r",
      " 86%|████████▋ | 221/256 [04:48<00:44,  1.28s/it]"
     ]
    },
    {
     "name": "stderr",
     "output_type": "stream",
     "text": [
      "\r",
      " 87%|████████▋ | 222/256 [04:49<00:42,  1.24s/it]"
     ]
    },
    {
     "name": "stderr",
     "output_type": "stream",
     "text": [
      "\r",
      " 87%|████████▋ | 223/256 [04:50<00:39,  1.18s/it]"
     ]
    },
    {
     "name": "stderr",
     "output_type": "stream",
     "text": [
      "\r",
      " 88%|████████▊ | 224/256 [04:51<00:36,  1.13s/it]"
     ]
    },
    {
     "name": "stderr",
     "output_type": "stream",
     "text": [
      "\r",
      " 88%|████████▊ | 225/256 [04:53<00:36,  1.19s/it]"
     ]
    },
    {
     "name": "stderr",
     "output_type": "stream",
     "text": [
      "\r",
      " 88%|████████▊ | 226/256 [04:54<00:37,  1.25s/it]"
     ]
    },
    {
     "name": "stderr",
     "output_type": "stream",
     "text": [
      "\r",
      " 89%|████████▊ | 227/256 [04:55<00:37,  1.29s/it]"
     ]
    },
    {
     "name": "stderr",
     "output_type": "stream",
     "text": [
      "\r",
      " 89%|████████▉ | 228/256 [04:57<00:37,  1.35s/it]"
     ]
    },
    {
     "name": "stderr",
     "output_type": "stream",
     "text": [
      "\r",
      " 89%|████████▉ | 229/256 [04:58<00:38,  1.41s/it]"
     ]
    },
    {
     "name": "stderr",
     "output_type": "stream",
     "text": [
      "\r",
      " 90%|████████▉ | 230/256 [05:00<00:38,  1.49s/it]"
     ]
    },
    {
     "name": "stderr",
     "output_type": "stream",
     "text": [
      "\r",
      " 90%|█████████ | 231/256 [05:02<00:37,  1.51s/it]"
     ]
    },
    {
     "name": "stderr",
     "output_type": "stream",
     "text": [
      "\r",
      " 91%|█████████ | 232/256 [05:04<00:39,  1.65s/it]"
     ]
    },
    {
     "name": "stderr",
     "output_type": "stream",
     "text": [
      "\r",
      " 91%|█████████ | 233/256 [05:05<00:33,  1.46s/it]"
     ]
    },
    {
     "name": "stderr",
     "output_type": "stream",
     "text": [
      "\r",
      " 91%|█████████▏| 234/256 [05:06<00:28,  1.31s/it]"
     ]
    },
    {
     "name": "stderr",
     "output_type": "stream",
     "text": [
      "\r",
      " 92%|█████████▏| 235/256 [05:07<00:26,  1.25s/it]"
     ]
    },
    {
     "name": "stderr",
     "output_type": "stream",
     "text": [
      "\r",
      " 92%|█████████▏| 236/256 [05:08<00:23,  1.17s/it]"
     ]
    },
    {
     "name": "stderr",
     "output_type": "stream",
     "text": [
      "\r",
      " 93%|█████████▎| 237/256 [05:09<00:21,  1.14s/it]"
     ]
    },
    {
     "name": "stderr",
     "output_type": "stream",
     "text": [
      "\r",
      " 93%|█████████▎| 238/256 [05:10<00:19,  1.10s/it]"
     ]
    },
    {
     "name": "stderr",
     "output_type": "stream",
     "text": [
      "\r",
      " 93%|█████████▎| 239/256 [05:11<00:18,  1.07s/it]"
     ]
    },
    {
     "name": "stderr",
     "output_type": "stream",
     "text": [
      "\r",
      " 94%|█████████▍| 240/256 [05:12<00:16,  1.06s/it]"
     ]
    },
    {
     "name": "stderr",
     "output_type": "stream",
     "text": [
      "\r",
      " 94%|█████████▍| 241/256 [05:13<00:16,  1.12s/it]"
     ]
    },
    {
     "name": "stderr",
     "output_type": "stream",
     "text": [
      "\r",
      " 95%|█████████▍| 242/256 [05:14<00:15,  1.14s/it]"
     ]
    },
    {
     "name": "stderr",
     "output_type": "stream",
     "text": [
      "\r",
      " 95%|█████████▍| 243/256 [05:16<00:15,  1.20s/it]"
     ]
    },
    {
     "name": "stderr",
     "output_type": "stream",
     "text": [
      "\r",
      " 95%|█████████▌| 244/256 [05:17<00:15,  1.27s/it]"
     ]
    },
    {
     "name": "stderr",
     "output_type": "stream",
     "text": [
      "\r",
      " 96%|█████████▌| 245/256 [05:18<00:14,  1.28s/it]"
     ]
    },
    {
     "name": "stderr",
     "output_type": "stream",
     "text": [
      "\r",
      " 96%|█████████▌| 246/256 [05:20<00:12,  1.27s/it]"
     ]
    },
    {
     "name": "stderr",
     "output_type": "stream",
     "text": [
      "\r",
      " 96%|█████████▋| 247/256 [05:21<00:10,  1.22s/it]"
     ]
    },
    {
     "name": "stderr",
     "output_type": "stream",
     "text": [
      "\r",
      " 97%|█████████▋| 248/256 [05:22<00:09,  1.23s/it]"
     ]
    },
    {
     "name": "stderr",
     "output_type": "stream",
     "text": [
      "\r",
      " 97%|█████████▋| 249/256 [05:23<00:09,  1.31s/it]"
     ]
    },
    {
     "name": "stderr",
     "output_type": "stream",
     "text": [
      "\r",
      " 98%|█████████▊| 250/256 [05:25<00:07,  1.29s/it]"
     ]
    },
    {
     "name": "stderr",
     "output_type": "stream",
     "text": [
      "\r",
      " 98%|█████████▊| 251/256 [05:26<00:06,  1.31s/it]"
     ]
    },
    {
     "name": "stderr",
     "output_type": "stream",
     "text": [
      "\r",
      " 98%|█████████▊| 252/256 [05:27<00:05,  1.33s/it]"
     ]
    },
    {
     "name": "stderr",
     "output_type": "stream",
     "text": [
      "\r",
      " 99%|█████████▉| 253/256 [05:28<00:03,  1.24s/it]"
     ]
    },
    {
     "name": "stderr",
     "output_type": "stream",
     "text": [
      "\r",
      " 99%|█████████▉| 254/256 [05:30<00:02,  1.23s/it]"
     ]
    },
    {
     "name": "stderr",
     "output_type": "stream",
     "text": [
      "\r",
      "100%|█████████▉| 255/256 [05:31<00:01,  1.18s/it]"
     ]
    },
    {
     "name": "stderr",
     "output_type": "stream",
     "text": [
      "\r",
      "100%|██████████| 256/256 [05:32<00:00,  1.14s/it]"
     ]
    },
    {
     "name": "stderr",
     "output_type": "stream",
     "text": [
      "\r",
      "100%|██████████| 256/256 [05:32<00:00,  1.30s/it]"
     ]
    },
    {
     "name": "stderr",
     "output_type": "stream",
     "text": [
      "\n"
     ]
    }
   ],
   "source": [
    "deltas = get_deltas_v2(model_scGen, batchLevels=['cell_type','batch'])"
   ]
  },
  {
   "cell_type": "markdown",
   "id": "137fd474-7ecc-469a-8166-ba6c09528c60",
   "metadata": {
    "papermill": {
     "duration": 0.022392,
     "end_time": "2024-06-21T14:23:40.406025",
     "exception": false,
     "start_time": "2024-06-21T14:23:40.383633",
     "status": "completed"
    },
    "tags": []
   },
   "source": [
    "**Apply the learned deltas on the query data**"
   ]
  },
  {
   "cell_type": "code",
   "execution_count": 24,
   "id": "48d1470a-2dd3-43a0-bc78-966058996406",
   "metadata": {
    "execution": {
     "iopub.execute_input": "2024-06-21T14:23:40.453429Z",
     "iopub.status.busy": "2024-06-21T14:23:40.453050Z",
     "iopub.status.idle": "2024-06-21T14:25:23.781526Z",
     "shell.execute_reply": "2024-06-21T14:25:23.780794Z"
    },
    "papermill": {
     "duration": 103.354238,
     "end_time": "2024-06-21T14:25:23.783196",
     "exception": false,
     "start_time": "2024-06-21T14:23:40.428958",
     "status": "completed"
    },
    "tags": []
   },
   "outputs": [
    {
     "name": "stderr",
     "output_type": "stream",
     "text": [
      "\r",
      "  0%|          | 0/189 [00:00<?, ?it/s]"
     ]
    },
    {
     "name": "stderr",
     "output_type": "stream",
     "text": [
      "\r",
      "  1%|          | 1/189 [00:00<00:25,  7.46it/s]"
     ]
    },
    {
     "name": "stderr",
     "output_type": "stream",
     "text": [
      "\r",
      "  2%|▏         | 3/189 [00:00<00:15, 11.71it/s]"
     ]
    },
    {
     "name": "stderr",
     "output_type": "stream",
     "text": [
      "\r",
      "  3%|▎         | 5/189 [00:00<00:14, 12.73it/s]"
     ]
    },
    {
     "name": "stderr",
     "output_type": "stream",
     "text": [
      "\r",
      "  4%|▎         | 7/189 [00:00<00:14, 12.69it/s]"
     ]
    },
    {
     "name": "stderr",
     "output_type": "stream",
     "text": [
      "\r",
      "  5%|▍         | 9/189 [00:00<00:14, 12.31it/s]"
     ]
    },
    {
     "name": "stderr",
     "output_type": "stream",
     "text": [
      "\r",
      "  6%|▌         | 11/189 [00:00<00:13, 13.00it/s]"
     ]
    },
    {
     "name": "stderr",
     "output_type": "stream",
     "text": [
      "\r",
      "  7%|▋         | 13/189 [00:01<00:12, 13.76it/s]"
     ]
    },
    {
     "name": "stderr",
     "output_type": "stream",
     "text": [
      "\r",
      "  8%|▊         | 15/189 [00:01<00:13, 12.65it/s]"
     ]
    },
    {
     "name": "stderr",
     "output_type": "stream",
     "text": [
      "\r",
      "  9%|▉         | 17/189 [00:01<00:13, 12.65it/s]"
     ]
    },
    {
     "name": "stderr",
     "output_type": "stream",
     "text": [
      "\r",
      " 10%|█         | 19/189 [00:01<00:12, 13.34it/s]"
     ]
    },
    {
     "name": "stderr",
     "output_type": "stream",
     "text": [
      "\r",
      " 11%|█         | 21/189 [00:01<00:12, 13.65it/s]"
     ]
    },
    {
     "name": "stderr",
     "output_type": "stream",
     "text": [
      "\r",
      " 12%|█▏        | 23/189 [00:01<00:12, 13.46it/s]"
     ]
    },
    {
     "name": "stderr",
     "output_type": "stream",
     "text": [
      "\r",
      " 13%|█▎        | 25/189 [00:01<00:12, 13.47it/s]"
     ]
    },
    {
     "name": "stderr",
     "output_type": "stream",
     "text": [
      "\r",
      " 14%|█▍        | 27/189 [00:02<00:12, 13.44it/s]"
     ]
    },
    {
     "name": "stderr",
     "output_type": "stream",
     "text": [
      "\r",
      " 15%|█▌        | 29/189 [00:02<00:11, 13.88it/s]"
     ]
    },
    {
     "name": "stderr",
     "output_type": "stream",
     "text": [
      "\r",
      " 16%|█▋        | 31/189 [00:02<00:10, 14.85it/s]"
     ]
    },
    {
     "name": "stderr",
     "output_type": "stream",
     "text": [
      "\r",
      " 17%|█▋        | 33/189 [00:02<00:10, 15.53it/s]"
     ]
    },
    {
     "name": "stderr",
     "output_type": "stream",
     "text": [
      "\r",
      " 19%|█▊        | 35/189 [00:02<00:09, 15.77it/s]"
     ]
    },
    {
     "name": "stderr",
     "output_type": "stream",
     "text": [
      "\r",
      " 20%|█▉        | 37/189 [00:02<00:09, 16.40it/s]"
     ]
    },
    {
     "name": "stderr",
     "output_type": "stream",
     "text": [
      "\r",
      " 21%|██        | 39/189 [00:02<00:09, 15.85it/s]"
     ]
    },
    {
     "name": "stderr",
     "output_type": "stream",
     "text": [
      "\r",
      " 22%|██▏       | 41/189 [00:02<00:09, 15.56it/s]"
     ]
    },
    {
     "name": "stderr",
     "output_type": "stream",
     "text": [
      "\r",
      " 23%|██▎       | 43/189 [00:03<00:09, 15.36it/s]"
     ]
    },
    {
     "name": "stderr",
     "output_type": "stream",
     "text": [
      "\r",
      " 24%|██▍       | 45/189 [00:03<00:09, 14.96it/s]"
     ]
    },
    {
     "name": "stderr",
     "output_type": "stream",
     "text": [
      "\r",
      " 25%|██▍       | 47/189 [00:03<00:09, 14.87it/s]"
     ]
    },
    {
     "name": "stderr",
     "output_type": "stream",
     "text": [
      "\r",
      " 26%|██▌       | 49/189 [00:03<00:09, 14.96it/s]"
     ]
    },
    {
     "name": "stderr",
     "output_type": "stream",
     "text": [
      "\r",
      " 27%|██▋       | 51/189 [00:03<00:10, 13.56it/s]"
     ]
    },
    {
     "name": "stderr",
     "output_type": "stream",
     "text": [
      "\r",
      " 28%|██▊       | 53/189 [00:03<00:10, 13.21it/s]"
     ]
    },
    {
     "name": "stderr",
     "output_type": "stream",
     "text": [
      "\r",
      " 29%|██▉       | 55/189 [00:04<00:11, 11.89it/s]"
     ]
    },
    {
     "name": "stderr",
     "output_type": "stream",
     "text": [
      "\r",
      " 30%|███       | 57/189 [00:04<00:10, 12.49it/s]"
     ]
    },
    {
     "name": "stderr",
     "output_type": "stream",
     "text": [
      "\r",
      " 31%|███       | 59/189 [00:04<00:09, 13.09it/s]"
     ]
    },
    {
     "name": "stderr",
     "output_type": "stream",
     "text": [
      "\r",
      " 32%|███▏      | 61/189 [00:04<00:10, 12.53it/s]"
     ]
    },
    {
     "name": "stderr",
     "output_type": "stream",
     "text": [
      "\r",
      " 33%|███▎      | 63/189 [00:04<00:10, 12.29it/s]"
     ]
    },
    {
     "name": "stderr",
     "output_type": "stream",
     "text": [
      "\r",
      " 34%|███▍      | 65/189 [00:04<00:09, 12.79it/s]"
     ]
    },
    {
     "name": "stderr",
     "output_type": "stream",
     "text": [
      "\r",
      " 35%|███▌      | 67/189 [00:04<00:09, 13.16it/s]"
     ]
    },
    {
     "name": "stderr",
     "output_type": "stream",
     "text": [
      "\r",
      " 37%|███▋      | 69/189 [00:05<00:09, 13.15it/s]"
     ]
    },
    {
     "name": "stderr",
     "output_type": "stream",
     "text": [
      "\r",
      " 38%|███▊      | 71/189 [00:05<00:08, 13.28it/s]"
     ]
    },
    {
     "name": "stderr",
     "output_type": "stream",
     "text": [
      "\r",
      " 39%|███▊      | 73/189 [00:05<00:08, 13.66it/s]"
     ]
    },
    {
     "name": "stderr",
     "output_type": "stream",
     "text": [
      "\r",
      " 40%|███▉      | 75/189 [00:05<00:08, 13.88it/s]"
     ]
    },
    {
     "name": "stderr",
     "output_type": "stream",
     "text": [
      "\r",
      " 41%|████      | 77/189 [00:05<00:07, 14.85it/s]"
     ]
    },
    {
     "name": "stderr",
     "output_type": "stream",
     "text": [
      "\r",
      " 42%|████▏     | 79/189 [00:05<00:07, 15.42it/s]"
     ]
    },
    {
     "name": "stderr",
     "output_type": "stream",
     "text": [
      "\r",
      " 43%|████▎     | 81/189 [00:05<00:07, 14.72it/s]"
     ]
    },
    {
     "name": "stderr",
     "output_type": "stream",
     "text": [
      "\r",
      " 44%|████▍     | 83/189 [00:06<00:07, 14.83it/s]"
     ]
    },
    {
     "name": "stderr",
     "output_type": "stream",
     "text": [
      "\r",
      " 45%|████▍     | 85/189 [00:06<00:07, 13.27it/s]"
     ]
    },
    {
     "name": "stderr",
     "output_type": "stream",
     "text": [
      "\r",
      " 46%|████▌     | 87/189 [00:06<00:07, 13.56it/s]"
     ]
    },
    {
     "name": "stderr",
     "output_type": "stream",
     "text": [
      "\r",
      " 47%|████▋     | 89/189 [00:06<00:07, 14.02it/s]"
     ]
    },
    {
     "name": "stderr",
     "output_type": "stream",
     "text": [
      "\r",
      " 48%|████▊     | 91/189 [00:06<00:06, 15.07it/s]"
     ]
    },
    {
     "name": "stderr",
     "output_type": "stream",
     "text": [
      "\r",
      " 49%|████▉     | 93/189 [00:06<00:06, 14.72it/s]"
     ]
    },
    {
     "name": "stderr",
     "output_type": "stream",
     "text": [
      "\r",
      " 50%|█████     | 95/189 [00:06<00:06, 15.37it/s]"
     ]
    },
    {
     "name": "stderr",
     "output_type": "stream",
     "text": [
      "\r",
      " 51%|█████▏    | 97/189 [00:06<00:06, 15.02it/s]"
     ]
    },
    {
     "name": "stderr",
     "output_type": "stream",
     "text": [
      "\r",
      " 52%|█████▏    | 99/189 [00:07<00:06, 14.88it/s]"
     ]
    },
    {
     "name": "stderr",
     "output_type": "stream",
     "text": [
      "\r",
      " 53%|█████▎    | 101/189 [00:07<00:06, 14.65it/s]"
     ]
    },
    {
     "name": "stderr",
     "output_type": "stream",
     "text": [
      "\r",
      " 54%|█████▍    | 103/189 [00:07<00:05, 15.40it/s]"
     ]
    },
    {
     "name": "stderr",
     "output_type": "stream",
     "text": [
      "\r",
      " 56%|█████▌    | 105/189 [00:07<00:05, 14.28it/s]"
     ]
    },
    {
     "name": "stderr",
     "output_type": "stream",
     "text": [
      "\r",
      " 57%|█████▋    | 107/189 [00:07<00:05, 14.38it/s]"
     ]
    },
    {
     "name": "stderr",
     "output_type": "stream",
     "text": [
      "\r",
      " 58%|█████▊    | 109/189 [00:07<00:05, 13.64it/s]"
     ]
    },
    {
     "name": "stderr",
     "output_type": "stream",
     "text": [
      "\r",
      " 59%|█████▊    | 111/189 [00:08<00:06, 12.74it/s]"
     ]
    },
    {
     "name": "stderr",
     "output_type": "stream",
     "text": [
      "\r",
      " 60%|█████▉    | 113/189 [00:08<00:05, 12.73it/s]"
     ]
    },
    {
     "name": "stderr",
     "output_type": "stream",
     "text": [
      "\r",
      " 61%|██████    | 115/189 [00:08<00:05, 13.37it/s]"
     ]
    },
    {
     "name": "stderr",
     "output_type": "stream",
     "text": [
      "\r",
      " 62%|██████▏   | 117/189 [00:08<00:07,  9.38it/s]"
     ]
    },
    {
     "name": "stderr",
     "output_type": "stream",
     "text": [
      "\r",
      " 63%|██████▎   | 119/189 [00:08<00:07,  9.88it/s]"
     ]
    },
    {
     "name": "stderr",
     "output_type": "stream",
     "text": [
      "\r",
      " 64%|██████▍   | 121/189 [00:08<00:06, 10.93it/s]"
     ]
    },
    {
     "name": "stderr",
     "output_type": "stream",
     "text": [
      "\r",
      " 65%|██████▌   | 123/189 [00:09<00:06, 10.72it/s]"
     ]
    },
    {
     "name": "stderr",
     "output_type": "stream",
     "text": [
      "\r",
      " 66%|██████▌   | 125/189 [00:09<00:05, 11.18it/s]"
     ]
    },
    {
     "name": "stderr",
     "output_type": "stream",
     "text": [
      "\r",
      " 67%|██████▋   | 127/189 [00:09<00:05, 11.20it/s]"
     ]
    },
    {
     "name": "stderr",
     "output_type": "stream",
     "text": [
      "\r",
      " 68%|██████▊   | 129/189 [00:09<00:05, 11.57it/s]"
     ]
    },
    {
     "name": "stderr",
     "output_type": "stream",
     "text": [
      "\r",
      " 69%|██████▉   | 131/189 [00:09<00:04, 12.08it/s]"
     ]
    },
    {
     "name": "stderr",
     "output_type": "stream",
     "text": [
      "\r",
      " 70%|███████   | 133/189 [00:10<00:04, 11.92it/s]"
     ]
    },
    {
     "name": "stderr",
     "output_type": "stream",
     "text": [
      "\r",
      " 71%|███████▏  | 135/189 [00:10<00:04, 11.94it/s]"
     ]
    },
    {
     "name": "stderr",
     "output_type": "stream",
     "text": [
      "\r",
      " 72%|███████▏  | 137/189 [00:10<00:04, 12.24it/s]"
     ]
    },
    {
     "name": "stderr",
     "output_type": "stream",
     "text": [
      "\r",
      " 74%|███████▎  | 139/189 [00:10<00:03, 12.73it/s]"
     ]
    },
    {
     "name": "stderr",
     "output_type": "stream",
     "text": [
      "\r",
      " 75%|███████▍  | 141/189 [00:10<00:03, 12.70it/s]"
     ]
    },
    {
     "name": "stderr",
     "output_type": "stream",
     "text": [
      "\r",
      " 76%|███████▌  | 143/189 [00:10<00:03, 12.69it/s]"
     ]
    },
    {
     "name": "stderr",
     "output_type": "stream",
     "text": [
      "\r",
      " 77%|███████▋  | 145/189 [00:10<00:03, 13.01it/s]"
     ]
    },
    {
     "name": "stderr",
     "output_type": "stream",
     "text": [
      "\r",
      " 78%|███████▊  | 147/189 [00:11<00:03, 13.24it/s]"
     ]
    },
    {
     "name": "stderr",
     "output_type": "stream",
     "text": [
      "\r",
      " 79%|███████▉  | 149/189 [00:11<00:03, 12.73it/s]"
     ]
    },
    {
     "name": "stderr",
     "output_type": "stream",
     "text": [
      "\r",
      " 80%|███████▉  | 151/189 [00:11<00:02, 12.75it/s]"
     ]
    },
    {
     "name": "stderr",
     "output_type": "stream",
     "text": [
      "\r",
      " 81%|████████  | 153/189 [00:11<00:02, 13.66it/s]"
     ]
    },
    {
     "name": "stderr",
     "output_type": "stream",
     "text": [
      "\r",
      " 82%|████████▏ | 155/189 [00:11<00:02, 13.58it/s]"
     ]
    },
    {
     "name": "stderr",
     "output_type": "stream",
     "text": [
      "\r",
      " 83%|████████▎ | 157/189 [00:11<00:02, 13.86it/s]"
     ]
    },
    {
     "name": "stderr",
     "output_type": "stream",
     "text": [
      "\r",
      " 84%|████████▍ | 159/189 [00:11<00:02, 14.16it/s]"
     ]
    },
    {
     "name": "stderr",
     "output_type": "stream",
     "text": [
      "\r",
      " 85%|████████▌ | 161/189 [00:12<00:02, 13.13it/s]"
     ]
    },
    {
     "name": "stderr",
     "output_type": "stream",
     "text": [
      "\r",
      " 86%|████████▌ | 163/189 [00:12<00:01, 13.63it/s]"
     ]
    },
    {
     "name": "stderr",
     "output_type": "stream",
     "text": [
      "\r",
      " 87%|████████▋ | 165/189 [00:12<00:01, 14.03it/s]"
     ]
    },
    {
     "name": "stderr",
     "output_type": "stream",
     "text": [
      "\r",
      " 88%|████████▊ | 167/189 [00:12<00:01, 13.79it/s]"
     ]
    },
    {
     "name": "stderr",
     "output_type": "stream",
     "text": [
      "\r",
      " 89%|████████▉ | 169/189 [00:12<00:01, 13.51it/s]"
     ]
    },
    {
     "name": "stderr",
     "output_type": "stream",
     "text": [
      "\r",
      " 90%|█████████ | 171/189 [00:12<00:01, 12.65it/s]"
     ]
    },
    {
     "name": "stderr",
     "output_type": "stream",
     "text": [
      "\r",
      " 92%|█████████▏| 173/189 [00:13<00:01, 13.65it/s]"
     ]
    },
    {
     "name": "stderr",
     "output_type": "stream",
     "text": [
      "\r",
      " 93%|█████████▎| 175/189 [00:13<00:00, 14.40it/s]"
     ]
    },
    {
     "name": "stderr",
     "output_type": "stream",
     "text": [
      "\r",
      " 94%|█████████▎| 177/189 [00:13<00:00, 14.86it/s]"
     ]
    },
    {
     "name": "stderr",
     "output_type": "stream",
     "text": [
      "\r",
      " 95%|█████████▍| 179/189 [00:13<00:00, 14.39it/s]"
     ]
    },
    {
     "name": "stderr",
     "output_type": "stream",
     "text": [
      "\r",
      " 96%|█████████▌| 181/189 [00:13<00:00, 13.83it/s]"
     ]
    },
    {
     "name": "stderr",
     "output_type": "stream",
     "text": [
      "\r",
      " 97%|█████████▋| 183/189 [00:13<00:00, 14.14it/s]"
     ]
    },
    {
     "name": "stderr",
     "output_type": "stream",
     "text": [
      "\r",
      " 98%|█████████▊| 185/189 [00:13<00:00, 13.23it/s]"
     ]
    },
    {
     "name": "stderr",
     "output_type": "stream",
     "text": [
      "\r",
      " 99%|█████████▉| 187/189 [00:14<00:00, 13.34it/s]"
     ]
    },
    {
     "name": "stderr",
     "output_type": "stream",
     "text": [
      "\r",
      "100%|██████████| 189/189 [00:14<00:00, 13.23it/s]"
     ]
    },
    {
     "name": "stderr",
     "output_type": "stream",
     "text": [
      "\r",
      "100%|██████████| 189/189 [00:14<00:00, 13.34it/s]"
     ]
    },
    {
     "name": "stderr",
     "output_type": "stream",
     "text": [
      "\n"
     ]
    },
    {
     "name": "stdout",
     "output_type": "stream",
     "text": [
      "\u001b[34mINFO    \u001b[0m Input AnnData not setup with scvi-tools. attempting to transfer AnnData setup                             \n"
     ]
    }
   ],
   "source": [
    "adataQ.obs['cell_type'] = adataQ.obs[f'{annotation}_pred']\n",
    "adataQcorr = batch_removal_v2(model_scGen, adata=adataQ, deltas=deltas, batchLevels=['cell_type','batch'])"
   ]
  },
  {
   "cell_type": "code",
   "execution_count": 25,
   "id": "eea8c8fb-843e-4771-b7bd-c71605c3c968",
   "metadata": {
    "execution": {
     "iopub.execute_input": "2024-06-21T14:25:23.841863Z",
     "iopub.status.busy": "2024-06-21T14:25:23.841474Z",
     "iopub.status.idle": "2024-06-21T14:25:24.801195Z",
     "shell.execute_reply": "2024-06-21T14:25:24.800644Z"
    },
    "papermill": {
     "duration": 0.990207,
     "end_time": "2024-06-21T14:25:24.802850",
     "exception": false,
     "start_time": "2024-06-21T14:25:23.812643",
     "status": "completed"
    },
    "tags": []
   },
   "outputs": [],
   "source": [
    "pseudobulkQUERY = aggregating_features(Z=adataQcorr.obsm['corrected_latent'], \n",
    "                     min_observation=0, \n",
    "                     obsDF=adataQcorr.obs[['sampleID','disease','Level1_pred','batch','studyID']], obs_names_col = ['sampleID','Level1_pred'])"
   ]
  },
  {
   "cell_type": "code",
   "execution_count": 26,
   "id": "6f334c7e-0938-4954-a389-77bf7a276bea",
   "metadata": {
    "execution": {
     "iopub.execute_input": "2024-06-21T14:25:24.858384Z",
     "iopub.status.busy": "2024-06-21T14:25:24.858027Z",
     "iopub.status.idle": "2024-06-21T14:25:24.969455Z",
     "shell.execute_reply": "2024-06-21T14:25:24.968926Z"
    },
    "papermill": {
     "duration": 0.139611,
     "end_time": "2024-06-21T14:25:24.971111",
     "exception": false,
     "start_time": "2024-06-21T14:25:24.831500",
     "status": "completed"
    },
    "tags": []
   },
   "outputs": [],
   "source": [
    "pseudobulkQUERY.write(here(f\"03_downstream_analysis/08_PatientClassifier/scGen/results/02_{dataset}_scGenIntegrated_PSEUDOBULK_{n_latent}nLT_{batch}_{annotation}\"), compression = 'gzip')"
   ]
  },
  {
   "cell_type": "markdown",
   "id": "0ae1fc6f-ec95-4853-9f64-1c1ae2b98c36",
   "metadata": {
    "papermill": {
     "duration": 0.025002,
     "end_time": "2024-06-21T14:25:25.022291",
     "exception": false,
     "start_time": "2024-06-21T14:25:24.997289",
     "status": "completed"
    },
    "tags": []
   },
   "source": [
    "## Test one classifier"
   ]
  },
  {
   "cell_type": "markdown",
   "id": "3e0b1a3d-4f1e-4976-bc65-c1e682cc8683",
   "metadata": {
    "execution": {
     "iopub.execute_input": "2024-06-14T13:18:33.857967Z",
     "iopub.status.busy": "2024-06-14T13:18:33.857610Z",
     "iopub.status.idle": "2024-06-14T13:18:34.368629Z",
     "shell.execute_reply": "2024-06-14T13:18:34.367905Z",
     "shell.execute_reply.started": "2024-06-14T13:18:33.857947Z"
    },
    "papermill": {
     "duration": 0.025431,
     "end_time": "2024-06-21T14:25:25.072797",
     "exception": false,
     "start_time": "2024-06-21T14:25:25.047366",
     "status": "completed"
    },
    "tags": []
   },
   "source": [
    "**Remove unwanted cell-types**"
   ]
  },
  {
   "cell_type": "code",
   "execution_count": 27,
   "id": "27d83577-8d35-4b3c-9d35-cb22a3b9840a",
   "metadata": {
    "execution": {
     "iopub.execute_input": "2024-06-21T14:25:25.124748Z",
     "iopub.status.busy": "2024-06-21T14:25:25.124234Z",
     "iopub.status.idle": "2024-06-21T14:25:25.186155Z",
     "shell.execute_reply": "2024-06-21T14:25:25.185650Z"
    },
    "papermill": {
     "duration": 0.089818,
     "end_time": "2024-06-21T14:25:25.187632",
     "exception": false,
     "start_time": "2024-06-21T14:25:25.097814",
     "status": "completed"
    },
    "tags": []
   },
   "outputs": [],
   "source": [
    "pseudobulkTRAINfilt = pseudobulkTRAIN[~pseudobulkTRAIN.obs.Level1.isin(['Cycling_cells','RBC','Progenitors','Platelets'])]\n",
    "pseudobulkQUERYfilt = pseudobulkQUERY[~pseudobulkQUERY.obs.Level1_pred.isin(['Cycling_cells','RBC','Progenitors','Platelets'])]"
   ]
  },
  {
   "cell_type": "markdown",
   "id": "7d78fe98-a735-4ef2-b9e6-34a01206c640",
   "metadata": {
    "papermill": {
     "duration": 0.024699,
     "end_time": "2024-06-21T14:25:25.238668",
     "exception": false,
     "start_time": "2024-06-21T14:25:25.213969",
     "status": "completed"
    },
    "tags": []
   },
   "source": [
    "Here, we try to classify patient with a kNN classifier. The proper patient classification will be performend in a dedicated notebook. Thus, the following won't be the final results"
   ]
  },
  {
   "cell_type": "code",
   "execution_count": 28,
   "id": "3653c325-0d7d-4207-86cc-ebf82cbaf557",
   "metadata": {
    "execution": {
     "iopub.execute_input": "2024-06-21T14:25:25.290685Z",
     "iopub.status.busy": "2024-06-21T14:25:25.290294Z",
     "iopub.status.idle": "2024-06-21T14:25:26.176402Z",
     "shell.execute_reply": "2024-06-21T14:25:26.175826Z"
    },
    "papermill": {
     "duration": 0.913842,
     "end_time": "2024-06-21T14:25:26.177533",
     "exception": false,
     "start_time": "2024-06-21T14:25:25.263691",
     "status": "completed"
    },
    "tags": []
   },
   "outputs": [
    {
     "name": "stderr",
     "output_type": "stream",
     "text": [
      "\r",
      "  0%|          | 0/11 [00:00<?, ?it/s]"
     ]
    },
    {
     "name": "stderr",
     "output_type": "stream",
     "text": [
      "\r",
      "  9%|▉         | 1/11 [00:00<00:01,  8.12it/s]"
     ]
    },
    {
     "name": "stderr",
     "output_type": "stream",
     "text": [
      "\r",
      " 18%|█▊        | 2/11 [00:00<00:01,  8.06it/s]"
     ]
    },
    {
     "name": "stderr",
     "output_type": "stream",
     "text": [
      "\r",
      " 36%|███▋      | 4/11 [00:00<00:00, 10.98it/s]"
     ]
    },
    {
     "name": "stderr",
     "output_type": "stream",
     "text": [
      "\r",
      " 55%|█████▍    | 6/11 [00:00<00:00, 13.11it/s]"
     ]
    },
    {
     "name": "stderr",
     "output_type": "stream",
     "text": [
      "\r",
      " 73%|███████▎  | 8/11 [00:00<00:00, 14.62it/s]"
     ]
    },
    {
     "name": "stderr",
     "output_type": "stream",
     "text": [
      "\r",
      " 91%|█████████ | 10/11 [00:00<00:00, 15.25it/s]"
     ]
    },
    {
     "name": "stderr",
     "output_type": "stream",
     "text": [
      "\r",
      "100%|██████████| 11/11 [00:00<00:00, 13.75it/s]"
     ]
    },
    {
     "name": "stderr",
     "output_type": "stream",
     "text": [
      "\n"
     ]
    },
    {
     "data": {
      "text/plain": [
       "{'B': {'clf': KNeighborsClassifier(metric='cosine', n_jobs=-1, n_neighbors=2),\n",
       "  'bAcc': 0.8970083936531305,\n",
       "  'nObs': 814},\n",
       " 'DC': {'clf': KNeighborsClassifier(metric='cosine', n_jobs=-1, n_neighbors=2),\n",
       "  'bAcc': 0.8617582551044439,\n",
       "  'nObs': 801},\n",
       " 'ILC': {'clf': KNeighborsClassifier(metric='cosine', n_jobs=-1, n_neighbors=2),\n",
       "  'bAcc': 0.8873941674831223,\n",
       "  'nObs': 817},\n",
       " 'Mono': {'clf': KNeighborsClassifier(metric='cosine', n_jobs=-1, n_neighbors=2),\n",
       "  'bAcc': 0.8823994903868885,\n",
       "  'nObs': 817},\n",
       " 'Plasma': {'clf': KNeighborsClassifier(metric='cosine', n_jobs=-1, n_neighbors=2),\n",
       "  'bAcc': 0.7846288982125237,\n",
       "  'nObs': 727},\n",
       " 'T_CD4_Naive': {'clf': KNeighborsClassifier(metric='cosine', n_jobs=-1, n_neighbors=2),\n",
       "  'bAcc': 0.8937420355037572,\n",
       "  'nObs': 814},\n",
       " 'T_CD4_NonNaive': {'clf': KNeighborsClassifier(metric='cosine', n_jobs=-1, n_neighbors=2),\n",
       "  'bAcc': 0.9216380310129495,\n",
       "  'nObs': 816},\n",
       " 'T_CD8_Naive': {'clf': KNeighborsClassifier(metric='cosine', n_jobs=-1, n_neighbors=2),\n",
       "  'bAcc': 0.8989840142834954,\n",
       "  'nObs': 805},\n",
       " 'T_CD8_NonNaive': {'clf': KNeighborsClassifier(metric='cosine', n_jobs=-1, n_neighbors=2),\n",
       "  'bAcc': 0.8917159284514733,\n",
       "  'nObs': 817},\n",
       " 'UTC': {'clf': KNeighborsClassifier(metric='cosine', n_jobs=-1, n_neighbors=2),\n",
       "  'bAcc': 0.8669419736658541,\n",
       "  'nObs': 813},\n",
       " 'pDC': {'clf': KNeighborsClassifier(metric='cosine', n_jobs=-1, n_neighbors=2),\n",
       "  'bAcc': 0.8635054415227404,\n",
       "  'nObs': 775}}"
      ]
     },
     "execution_count": 28,
     "metadata": {},
     "output_type": "execute_result"
    }
   ],
   "source": [
    "clfList = train_patient_classifier(adataTrain = pseudobulkTRAINfilt, cell_type_col = 'Level1', y_true_col = 'disease', max_iter=-1, random_state = 25, model = 'KNeighborsClassifier', \n",
    "                           kargs_model={'n_neighbors':2, 'weights':'uniform', 'metric':'cosine','n_jobs':-1})\n",
    "clfList"
   ]
  },
  {
   "cell_type": "markdown",
   "id": "87b89384-c9c3-4f45-ab2f-15307875ba0a",
   "metadata": {
    "papermill": {
     "duration": 0.025431,
     "end_time": "2024-06-21T14:25:26.229400",
     "exception": false,
     "start_time": "2024-06-21T14:25:26.203969",
     "status": "completed"
    },
    "tags": []
   },
   "source": [
    "### Predicting diseases"
   ]
  },
  {
   "cell_type": "code",
   "execution_count": 29,
   "id": "39befc29-3613-4abc-adeb-bfee66e08dea",
   "metadata": {
    "execution": {
     "iopub.execute_input": "2024-06-21T14:25:26.281708Z",
     "iopub.status.busy": "2024-06-21T14:25:26.281232Z",
     "iopub.status.idle": "2024-06-21T14:25:26.737407Z",
     "shell.execute_reply": "2024-06-21T14:25:26.736799Z"
    },
    "papermill": {
     "duration": 0.483763,
     "end_time": "2024-06-21T14:25:26.738512",
     "exception": false,
     "start_time": "2024-06-21T14:25:26.254749",
     "status": "completed"
    },
    "tags": []
   },
   "outputs": [
    {
     "name": "stderr",
     "output_type": "stream",
     "text": [
      "\r",
      "  0%|          | 0/11 [00:00<?, ?it/s]"
     ]
    },
    {
     "name": "stderr",
     "output_type": "stream",
     "text": [
      "\r",
      " 45%|████▌     | 5/11 [00:00<00:00, 40.62it/s]"
     ]
    },
    {
     "name": "stderr",
     "output_type": "stream",
     "text": [
      "\r",
      " 91%|█████████ | 10/11 [00:00<00:00, 38.95it/s]"
     ]
    },
    {
     "name": "stderr",
     "output_type": "stream",
     "text": [
      "\r",
      "100%|██████████| 11/11 [00:00<00:00, 39.31it/s]"
     ]
    },
    {
     "name": "stderr",
     "output_type": "stream",
     "text": [
      "\n"
     ]
    },
    {
     "name": "stderr",
     "output_type": "stream",
     "text": [
      "\r",
      "  0%|          | 0/86 [00:00<?, ?it/s]"
     ]
    },
    {
     "name": "stderr",
     "output_type": "stream",
     "text": [
      "\r",
      " 88%|████████▊ | 76/86 [00:00<00:00, 753.76it/s]"
     ]
    },
    {
     "name": "stderr",
     "output_type": "stream",
     "text": [
      "\r",
      "100%|██████████| 86/86 [00:00<00:00, 751.14it/s]"
     ]
    },
    {
     "name": "stderr",
     "output_type": "stream",
     "text": [
      "\n"
     ]
    }
   ],
   "source": [
    "classificationDF = vote_patient_disease(adataTest = pseudobulkQUERYfilt, \n",
    "                                clfList = clfList, \n",
    "                                sample_id_col = 'sampleID',\n",
    "                                cell_type_col = 'Level1_pred')\n"
   ]
  },
  {
   "cell_type": "code",
   "execution_count": 30,
   "id": "a731fec9-92f4-4b14-b374-ad2bec4d4f13",
   "metadata": {
    "execution": {
     "iopub.execute_input": "2024-06-21T14:25:26.792112Z",
     "iopub.status.busy": "2024-06-21T14:25:26.791943Z",
     "iopub.status.idle": "2024-06-21T14:25:26.852653Z",
     "shell.execute_reply": "2024-06-21T14:25:26.852024Z"
    },
    "papermill": {
     "duration": 0.088655,
     "end_time": "2024-06-21T14:25:26.853773",
     "exception": false,
     "start_time": "2024-06-21T14:25:26.765118",
     "status": "completed"
    },
    "tags": []
   },
   "outputs": [],
   "source": [
    "res = classificationDF.merge(pseudobulkQUERY.obs[['sampleID', 'disease']].drop_duplicates(), how = 'left', on = 'sampleID').set_index('sampleID')"
   ]
  },
  {
   "cell_type": "code",
   "execution_count": 31,
   "id": "00fff243-e3d9-436c-b369-b7d4d29a13bf",
   "metadata": {
    "execution": {
     "iopub.execute_input": "2024-06-21T14:25:26.909070Z",
     "iopub.status.busy": "2024-06-21T14:25:26.908567Z",
     "iopub.status.idle": "2024-06-21T14:25:26.968612Z",
     "shell.execute_reply": "2024-06-21T14:25:26.968071Z"
    },
    "papermill": {
     "duration": 0.087952,
     "end_time": "2024-06-21T14:25:26.969667",
     "exception": false,
     "start_time": "2024-06-21T14:25:26.881715",
     "status": "completed"
    },
    "tags": []
   },
   "outputs": [
    {
     "data": {
      "text/plain": [
       "0.06931678921568628"
      ]
     },
     "execution_count": 31,
     "metadata": {},
     "output_type": "execute_result"
    }
   ],
   "source": [
    "balanced_accuracy_score(y_true = res.disease, y_pred=res.firstChoice)"
   ]
  },
  {
   "cell_type": "markdown",
   "id": "7ba69e7c-b39d-4fdb-9dfb-78dd04209a9b",
   "metadata": {
    "papermill": {
     "duration": 0.026288,
     "end_time": "2024-06-21T14:25:27.022490",
     "exception": false,
     "start_time": "2024-06-21T14:25:26.996202",
     "status": "completed"
    },
    "tags": []
   },
   "source": [
    "## Saving adata corrected objects"
   ]
  },
  {
   "cell_type": "code",
   "execution_count": 32,
   "id": "26215be0-4d1c-41e6-aba5-1dc52b9630bd",
   "metadata": {
    "execution": {
     "iopub.execute_input": "2024-06-21T14:25:27.076336Z",
     "iopub.status.busy": "2024-06-21T14:25:27.075887Z",
     "iopub.status.idle": "2024-06-21T16:46:30.583788Z",
     "shell.execute_reply": "2024-06-21T16:46:30.582947Z"
    },
    "papermill": {
     "duration": 8463.536686,
     "end_time": "2024-06-21T16:46:30.585653",
     "exception": false,
     "start_time": "2024-06-21T14:25:27.048967",
     "status": "completed"
    },
    "tags": []
   },
   "outputs": [],
   "source": [
    "outputFilePath = here(f\"03_downstream_analysis/08_PatientClassifier/scGen/results/02_MAIN_scGenCorrected_{n_latent}nLT_{batch}_{annotation}.h5ad\")\n",
    "if os.path.isfile(outputFilePath):\n",
    "    print(\"File already saved\")\n",
    "else:\n",
    "    adata_scGen.write(outputFilePath, compression='gzip')"
   ]
  },
  {
   "cell_type": "code",
   "execution_count": 33,
   "id": "c6f8ae7e-e7b2-40ba-b4f4-44dfc54164b6",
   "metadata": {
    "execution": {
     "iopub.execute_input": "2024-06-21T16:46:30.650071Z",
     "iopub.status.busy": "2024-06-21T16:46:30.649853Z",
     "iopub.status.idle": "2024-06-21T17:11:21.720763Z",
     "shell.execute_reply": "2024-06-21T17:11:21.719968Z"
    },
    "papermill": {
     "duration": 1491.103174,
     "end_time": "2024-06-21T17:11:21.722363",
     "exception": false,
     "start_time": "2024-06-21T16:46:30.619189",
     "status": "completed"
    },
    "tags": []
   },
   "outputs": [],
   "source": [
    "adataQcorr.write(here(f\"03_downstream_analysis/08_PatientClassifier/scGen/results/02_{dataset}_scGenCorrected_{n_latent}nLT_{batch}_{annotation}.h5ad\"), \n",
    "                 compression='gzip')"
   ]
  }
 ],
 "metadata": {
  "kernelspec": {
   "display_name": "Python 3 (ipykernel)",
   "language": "python",
   "name": "python3"
  },
  "language_info": {
   "codemirror_mode": {
    "name": "ipython",
    "version": 3
   },
   "file_extension": ".py",
   "mimetype": "text/x-python",
   "name": "python",
   "nbconvert_exporter": "python",
   "pygments_lexer": "ipython3",
   "version": "3.9.19"
  },
  "papermill": {
   "default_parameters": {},
   "duration": 12776.229289,
   "end_time": "2024-06-21T17:11:32.128740",
   "environment_variables": {},
   "exception": null,
   "input_path": "02_scGen_querying_datasets_labelTransfer.ipynb",
   "output_path": "executed_notebooks/02_scGen_querying_datasets_labelTransfe_EXTERNAL_nLT20_Batch_chemistry_Level2.ipynb",
   "parameters": {
    "annotation": "Level2",
    "batch": "chemistry",
    "dataset": "EXTERNAL",
    "n_latent": 20
   },
   "start_time": "2024-06-21T13:38:35.899451",
   "version": "2.5.0"
  }
 },
 "nbformat": 4,
 "nbformat_minor": 5
}