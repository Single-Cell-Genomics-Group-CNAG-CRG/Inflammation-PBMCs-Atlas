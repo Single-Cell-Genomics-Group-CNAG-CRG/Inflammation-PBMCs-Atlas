{
 "cells": [
  {
   "cell_type": "code",
   "execution_count": 1,
   "id": "66825766",
   "metadata": {
    "execution": {
     "iopub.execute_input": "2024-06-21T15:14:21.515006Z",
     "iopub.status.busy": "2024-06-21T15:14:21.514682Z",
     "iopub.status.idle": "2024-06-21T15:14:21.520112Z",
     "shell.execute_reply": "2024-06-21T15:14:21.519763Z"
    },
    "papermill": {
     "duration": 0.017977,
     "end_time": "2024-06-21T15:14:21.521169",
     "exception": false,
     "start_time": "2024-06-21T15:14:21.503192",
     "status": "completed"
    },
    "tags": [
     "injected-parameters"
    ]
   },
   "outputs": [],
   "source": [
    "# Parameters\n",
    "n_latent = 100\n",
    "batch = \"chemistry\"\n",
    "dataset = \"EXTERNAL\"\n",
    "annotation = \"Level2\"\n"
   ]
  },
  {
   "cell_type": "raw",
   "id": "cf9e723a-c8ab-41cf-80dd-75314497d94d",
   "metadata": {
    "execution": {
     "iopub.execute_input": "2024-06-16T20:49:10.250721Z",
     "iopub.status.busy": "2024-06-16T20:49:10.250145Z",
     "iopub.status.idle": "2024-06-16T20:49:10.256210Z",
     "shell.execute_reply": "2024-06-16T20:49:10.255729Z",
     "shell.execute_reply.started": "2024-06-16T20:49:10.250683Z"
    },
    "papermill": {
     "duration": 0.00743,
     "end_time": "2024-06-21T15:14:21.537192",
     "exception": false,
     "start_time": "2024-06-21T15:14:21.529762",
     "status": "completed"
    },
    "tags": []
   },
   "source": [
    "n_latent = 200\n",
    "dataset = 'VALIDATION'\n",
    "batch = 'studyID'\n",
    "annotation = 'Level2'"
   ]
  },
  {
   "cell_type": "code",
   "execution_count": 2,
   "id": "ed634346-b706-466a-8dab-569b37560afb",
   "metadata": {
    "execution": {
     "iopub.execute_input": "2024-06-21T15:14:21.553226Z",
     "iopub.status.busy": "2024-06-21T15:14:21.552932Z",
     "iopub.status.idle": "2024-06-21T15:14:21.555956Z",
     "shell.execute_reply": "2024-06-21T15:14:21.555605Z"
    },
    "papermill": {
     "duration": 0.011991,
     "end_time": "2024-06-21T15:14:21.556918",
     "exception": false,
     "start_time": "2024-06-21T15:14:21.544927",
     "status": "completed"
    },
    "tags": []
   },
   "outputs": [
    {
     "name": "stdout",
     "output_type": "stream",
     "text": [
      "n_latent = 100\n",
      "batch = chemistry\n",
      "dataset = EXTERNAL\n",
      "annotation = Level2\n"
     ]
    }
   ],
   "source": [
    "for v in ['n_latent','batch','dataset','annotation']:\n",
    "    if v in locals() or v in globals():\n",
    "        print(f\"{v} = {eval(v)}\")\n",
    "    else:\n",
    "        raise ValeuError(f\"{v} is not defined\")"
   ]
  },
  {
   "cell_type": "markdown",
   "id": "9ba65107-57d8-41ce-a8f8-f4b4d2bddeb6",
   "metadata": {
    "papermill": {
     "duration": 0.007402,
     "end_time": "2024-06-21T15:14:21.571901",
     "exception": false,
     "start_time": "2024-06-21T15:14:21.564499",
     "status": "completed"
    },
    "tags": []
   },
   "source": [
    "this notebook is run in *scvi-v112* env (cluster)"
   ]
  },
  {
   "cell_type": "code",
   "execution_count": 3,
   "id": "77a24249-d2ab-4340-b9ac-d78d5f3f5bab",
   "metadata": {
    "execution": {
     "iopub.execute_input": "2024-06-21T15:14:21.588505Z",
     "iopub.status.busy": "2024-06-21T15:14:21.588207Z",
     "iopub.status.idle": "2024-06-21T15:15:14.491966Z",
     "shell.execute_reply": "2024-06-21T15:15:14.491198Z"
    },
    "papermill": {
     "duration": 52.914171,
     "end_time": "2024-06-21T15:15:14.493791",
     "exception": false,
     "start_time": "2024-06-21T15:14:21.579620",
     "status": "completed"
    },
    "tags": []
   },
   "outputs": [],
   "source": [
    "import os\n",
    "import sys\n",
    "\n",
    "import random \n",
    "import numpy as np\n",
    "import matplotlib.pyplot as plt\n",
    "\n",
    "import scanpy as sc\n",
    "\n",
    "import scgen\n",
    "\n",
    "import pynndescent\n",
    "\n",
    "import pandas as pd\n",
    "\n",
    "import session_info\n",
    "import warnings\n",
    "from pyprojroot.here import here\n",
    "\n",
    "from sklearn.svm import LinearSVC\n",
    "\n",
    "from sklearn.metrics import balanced_accuracy_score\n",
    "\n",
    "import decoupler\n",
    "\n",
    "import torch\n",
    "\n",
    "import joblib\n",
    "\n",
    "sys.path.insert(1, str(here('bin')))\n",
    "\n",
    "# Import custom functions\n",
    "from customPythonFunctions import get_deltas_v2, batch_removal_v2, aggregating_features, train_patient_classifier, vote_patient_disease\n",
    "\n",
    "#plt.style.use(['science','nature','no-latex'])\n",
    "dpi_fig_save = 300\n",
    "sc.set_figure_params(dpi=100, dpi_save=dpi_fig_save, vector_friendly=True)\n",
    "\n",
    "# Setting some parameters\n",
    "warnings.filterwarnings(\"ignore\")\n",
    "\n",
    "random_seed = 42"
   ]
  },
  {
   "cell_type": "code",
   "execution_count": 4,
   "id": "6a35ffd2-3a9d-4e4c-aa77-9855ccb36a3c",
   "metadata": {
    "execution": {
     "iopub.execute_input": "2024-06-21T15:15:14.511308Z",
     "iopub.status.busy": "2024-06-21T15:15:14.510592Z",
     "iopub.status.idle": "2024-06-21T15:15:14.626586Z",
     "shell.execute_reply": "2024-06-21T15:15:14.626003Z"
    },
    "papermill": {
     "duration": 0.126242,
     "end_time": "2024-06-21T15:15:14.627740",
     "exception": false,
     "start_time": "2024-06-21T15:15:14.501498",
     "status": "completed"
    },
    "tags": []
   },
   "outputs": [],
   "source": [
    "%load_ext autoreload\n",
    "%autoreload 2"
   ]
  },
  {
   "cell_type": "markdown",
   "id": "4c28e407-f2e0-4b66-a1c8-427e69887d52",
   "metadata": {
    "papermill": {
     "duration": 0.008058,
     "end_time": "2024-06-21T15:15:14.643640",
     "exception": false,
     "start_time": "2024-06-21T15:15:14.635582",
     "status": "completed"
    },
    "tags": []
   },
   "source": [
    "## Loading data\n",
    "### Loading main adata"
   ]
  },
  {
   "cell_type": "code",
   "execution_count": 5,
   "id": "bcc3a390-966f-42bf-a139-6804a111d9a4",
   "metadata": {
    "execution": {
     "iopub.execute_input": "2024-06-21T15:15:14.659876Z",
     "iopub.status.busy": "2024-06-21T15:15:14.659663Z",
     "iopub.status.idle": "2024-06-21T15:16:54.267160Z",
     "shell.execute_reply": "2024-06-21T15:16:54.266244Z"
    },
    "papermill": {
     "duration": 99.617688,
     "end_time": "2024-06-21T15:16:54.268967",
     "exception": false,
     "start_time": "2024-06-21T15:15:14.651279",
     "status": "completed"
    },
    "tags": []
   },
   "outputs": [],
   "source": [
    "adataR = sc.read_h5ad(here('03_downstream_analysis/02_gene_universe_definition/results/04_MAIN_geneUniverse.log1p.h5ad'))"
   ]
  },
  {
   "cell_type": "code",
   "execution_count": 6,
   "id": "f18648ef-f249-42ed-b608-1cda3e595804",
   "metadata": {
    "execution": {
     "iopub.execute_input": "2024-06-21T15:16:54.305146Z",
     "iopub.status.busy": "2024-06-21T15:16:54.304888Z",
     "iopub.status.idle": "2024-06-21T15:16:56.545808Z",
     "shell.execute_reply": "2024-06-21T15:16:56.545257Z"
    },
    "papermill": {
     "duration": 2.266298,
     "end_time": "2024-06-21T15:16:56.547471",
     "exception": false,
     "start_time": "2024-06-21T15:16:54.281173",
     "status": "completed"
    },
    "tags": []
   },
   "outputs": [],
   "source": [
    "adataR.obs['batch'] = adataR.obs[batch].tolist()\n",
    "adataR.obs['cell_type'] = adataR.obs[annotation].tolist()"
   ]
  },
  {
   "cell_type": "markdown",
   "id": "ca7306bc-3ce6-43bd-b569-1de23bbee513",
   "metadata": {
    "papermill": {
     "duration": 0.014931,
     "end_time": "2024-06-21T15:16:56.570731",
     "exception": false,
     "start_time": "2024-06-21T15:16:56.555800",
     "status": "completed"
    },
    "tags": []
   },
   "source": [
    "### Loading query adata"
   ]
  },
  {
   "cell_type": "code",
   "execution_count": 7,
   "id": "0ef5e9e5-323a-4efb-b112-4b2efb29716c",
   "metadata": {
    "execution": {
     "iopub.execute_input": "2024-06-21T15:16:56.597172Z",
     "iopub.status.busy": "2024-06-21T15:16:56.596967Z",
     "iopub.status.idle": "2024-06-21T15:17:08.191839Z",
     "shell.execute_reply": "2024-06-21T15:17:08.191381Z"
    },
    "papermill": {
     "duration": 11.614207,
     "end_time": "2024-06-21T15:17:08.192893",
     "exception": false,
     "start_time": "2024-06-21T15:16:56.578686",
     "status": "completed"
    },
    "tags": []
   },
   "outputs": [
    {
     "data": {
      "text/plain": [
       "AnnData object with n_obs × n_vars = 572872 × 8253\n",
       "    obs: 'studyID', 'libraryID', 'sampleID', 'chemistry', 'technology', 'disease', 'sex', 'binned_age'\n",
       "    var: 'hgnc_id', 'symbol', 'locus_group', 'HUGO_status'\n",
       "    uns: 'log1p'"
      ]
     },
     "execution_count": 7,
     "metadata": {},
     "output_type": "execute_result"
    }
   ],
   "source": [
    "adataQ = sc.read_h5ad(here(f\"03_downstream_analysis/02_gene_universe_definition/results/05_{dataset}_geneUniverse.log1p.h5ad\"))\n",
    "adataQ"
   ]
  },
  {
   "cell_type": "code",
   "execution_count": 8,
   "id": "0c0bff23",
   "metadata": {
    "execution": {
     "iopub.execute_input": "2024-06-21T15:17:08.218615Z",
     "iopub.status.busy": "2024-06-21T15:17:08.218304Z",
     "iopub.status.idle": "2024-06-21T15:17:08.355761Z",
     "shell.execute_reply": "2024-06-21T15:17:08.355063Z"
    },
    "papermill": {
     "duration": 0.149628,
     "end_time": "2024-06-21T15:17:08.356836",
     "exception": false,
     "start_time": "2024-06-21T15:17:08.207208",
     "status": "completed"
    },
    "tags": []
   },
   "outputs": [
    {
     "data": {
      "text/plain": [
       "AnnData object with n_obs × n_vars = 572872 × 8253\n",
       "    obs: 'studyID', 'libraryID', 'sampleID', 'chemistry', 'technology', 'disease', 'sex', 'binned_age', 'cell_type', 'batch'\n",
       "    var: 'hgnc_id', 'symbol', 'locus_group', 'HUGO_status'\n",
       "    uns: 'log1p'"
      ]
     },
     "execution_count": 8,
     "metadata": {},
     "output_type": "execute_result"
    }
   ],
   "source": [
    "adataQ.obs['cell_type'] = adataR.obs[annotation][0] #this is needed just to allow scGen model to transfer anndata setup without errors\n",
    "adataQ.obs['batch'] = adataQ.obs[batch]\n",
    "adataQ"
   ]
  },
  {
   "cell_type": "markdown",
   "id": "4fffe98b-1263-4b98-96e7-c00b2843420f",
   "metadata": {
    "papermill": {
     "duration": 0.01405,
     "end_time": "2024-06-21T15:17:08.391168",
     "exception": false,
     "start_time": "2024-06-21T15:17:08.377118",
     "status": "completed"
    },
    "tags": []
   },
   "source": [
    "### Loading scGen model"
   ]
  },
  {
   "cell_type": "code",
   "execution_count": 9,
   "id": "ed843ed6-c10f-427c-b300-516f81297eb2",
   "metadata": {
    "execution": {
     "iopub.execute_input": "2024-06-21T15:17:08.417962Z",
     "iopub.status.busy": "2024-06-21T15:17:08.417771Z",
     "iopub.status.idle": "2024-06-21T15:17:17.187734Z",
     "shell.execute_reply": "2024-06-21T15:17:17.186879Z"
    },
    "papermill": {
     "duration": 8.790106,
     "end_time": "2024-06-21T15:17:17.189558",
     "exception": false,
     "start_time": "2024-06-21T15:17:08.399452",
     "status": "completed"
    },
    "tags": []
   },
   "outputs": [
    {
     "name": "stdout",
     "output_type": "stream",
     "text": [
      "\u001b[34mINFO    \u001b[0m File                                                                                                      \n",
      "         \u001b[35m/scratch_isilon/groups/singlecell/shared/projects/Inflammation-PBMCs-Atlas/03_downstream_analysis/08_Pat\u001b[0m\n",
      "         \u001b[35mientClassifier/scGen/results/01_scGen_train_nLat100_chemistry_Level2/\u001b[0m\u001b[95mmodel.pt\u001b[0m already downloaded          \n"
     ]
    }
   ],
   "source": [
    "model_scGen = scgen.SCGEN.load(here(f\"03_downstream_analysis/08_PatientClassifier/scGen/results/01_scGen_train_nLat{n_latent}_{batch}_{annotation}\"), adata = adataR)"
   ]
  },
  {
   "cell_type": "markdown",
   "id": "9c1ccc70-985a-49ac-9a19-9925088d8af6",
   "metadata": {
    "papermill": {
     "duration": 0.007988,
     "end_time": "2024-06-21T15:17:17.211278",
     "exception": false,
     "start_time": "2024-06-21T15:17:17.203290",
     "status": "completed"
    },
    "tags": []
   },
   "source": [
    "## Generating embedding spaces"
   ]
  },
  {
   "cell_type": "markdown",
   "id": "6c8b03ea-3f53-46f6-902f-0caf07326777",
   "metadata": {
    "execution": {
     "iopub.execute_input": "2024-06-14T10:32:32.049226Z",
     "iopub.status.busy": "2024-06-14T10:32:32.048899Z",
     "iopub.status.idle": "2024-06-14T10:32:32.104059Z",
     "shell.execute_reply": "2024-06-14T10:32:32.103590Z",
     "shell.execute_reply.started": "2024-06-14T10:32:32.049208Z"
    },
    "papermill": {
     "duration": 0.008828,
     "end_time": "2024-06-21T15:17:17.229691",
     "exception": false,
     "start_time": "2024-06-21T15:17:17.220863",
     "status": "completed"
    },
    "tags": []
   },
   "source": [
    "### Train/reference dataset"
   ]
  },
  {
   "cell_type": "code",
   "execution_count": 10,
   "id": "d49a4a2d-c91c-4c48-90fd-e6ab6b355ed6",
   "metadata": {
    "execution": {
     "iopub.execute_input": "2024-06-21T15:17:17.260694Z",
     "iopub.status.busy": "2024-06-21T15:17:17.259976Z",
     "iopub.status.idle": "2024-06-21T15:34:11.645090Z",
     "shell.execute_reply": "2024-06-21T15:34:11.644404Z"
    },
    "papermill": {
     "duration": 1017.794568,
     "end_time": "2024-06-21T15:34:15.044825",
     "exception": false,
     "start_time": "2024-06-21T15:17:17.250257",
     "status": "completed"
    },
    "tags": []
   },
   "outputs": [
    {
     "name": "stdout",
     "output_type": "stream",
     "text": [
      "\u001b[34mINFO    \u001b[0m Input AnnData not setup with scvi-tools. attempting to transfer AnnData setup                             \n"
     ]
    },
    {
     "data": {
      "text/plain": [
       "AnnData object with n_obs × n_vars = 4435922 × 8253\n",
       "    obs: 'studyID', 'libraryID', 'sampleID', 'chemistry', 'disease', 'sex', 'binned_age', 'Level1', 'Level2', 'batch', 'cell_type', '_scvi_batch', '_scvi_labels'\n",
       "    uns: '_scvi_uuid', '_scvi_manager_uuid'\n",
       "    obsm: 'latent', 'corrected_latent'"
      ]
     },
     "execution_count": 10,
     "metadata": {},
     "output_type": "execute_result"
    }
   ],
   "source": [
    "adata_scGen = model_scGen.batch_removal()\n",
    "adata_scGen"
   ]
  },
  {
   "cell_type": "code",
   "execution_count": 11,
   "id": "adc78d3f-d325-456d-bf27-83be4fdc8058",
   "metadata": {
    "execution": {
     "iopub.execute_input": "2024-06-21T15:34:17.433953Z",
     "iopub.status.busy": "2024-06-21T15:34:17.433457Z",
     "iopub.status.idle": "2024-06-21T15:43:20.338527Z",
     "shell.execute_reply": "2024-06-21T15:43:20.337953Z"
    },
    "papermill": {
     "duration": 544.252401,
     "end_time": "2024-06-21T15:43:20.340269",
     "exception": false,
     "start_time": "2024-06-21T15:34:16.087868",
     "status": "completed"
    },
    "tags": []
   },
   "outputs": [],
   "source": [
    "pseudobulkTRAIN = aggregating_features(Z=adata_scGen.obsm['corrected_latent'], \n",
    "                     min_observation=0, \n",
    "                     obsDF=adata_scGen.obs[['sampleID','disease','Level1','batch','studyID']], obs_names_col = ['sampleID','Level1'])"
   ]
  },
  {
   "cell_type": "code",
   "execution_count": 12,
   "id": "ae0ea25a",
   "metadata": {
    "execution": {
     "iopub.execute_input": "2024-06-21T15:43:21.173994Z",
     "iopub.status.busy": "2024-06-21T15:43:21.173771Z",
     "iopub.status.idle": "2024-06-21T15:43:48.420340Z",
     "shell.execute_reply": "2024-06-21T15:43:48.419862Z"
    },
    "papermill": {
     "duration": 27.2578,
     "end_time": "2024-06-21T15:43:48.421525",
     "exception": false,
     "start_time": "2024-06-21T15:43:21.163725",
     "status": "completed"
    },
    "tags": []
   },
   "outputs": [
    {
     "name": "stdout",
     "output_type": "stream",
     "text": [
      "File already saved\n"
     ]
    }
   ],
   "source": [
    "outputFilePath = here(f\"03_downstream_analysis/08_PatientClassifier/scGen/results/02_MAIN_scGenIntegrated_PSEUDOBULK_{n_latent}nLT_{batch}_{annotation}\")\n",
    "if os.path.isfile(outputFilePath):\n",
    "    print(\"File already saved\")\n",
    "else:\n",
    "    pseudobulkTRAIN.write(outputFilePath, compression = 'gzip')"
   ]
  },
  {
   "cell_type": "markdown",
   "id": "818a7bd5-6fef-4c48-9671-07b2d322de54",
   "metadata": {
    "papermill": {
     "duration": 0.009076,
     "end_time": "2024-06-21T15:43:48.439049",
     "exception": false,
     "start_time": "2024-06-21T15:43:48.429973",
     "status": "completed"
    },
    "tags": []
   },
   "source": [
    "### Query dataset"
   ]
  },
  {
   "cell_type": "markdown",
   "id": "8ffa01f7-85b1-420d-a2f0-4221f127ee39",
   "metadata": {
    "papermill": {
     "duration": 0.009738,
     "end_time": "2024-06-21T15:43:48.457600",
     "exception": false,
     "start_time": "2024-06-21T15:43:48.447862",
     "status": "completed"
    },
    "tags": []
   },
   "source": [
    "**Extracting the NOT batch-corrected embedding**"
   ]
  },
  {
   "cell_type": "code",
   "execution_count": 13,
   "id": "76188306-e527-4d28-96c5-cab54837137c",
   "metadata": {
    "execution": {
     "iopub.execute_input": "2024-06-21T15:43:48.482053Z",
     "iopub.status.busy": "2024-06-21T15:43:48.481820Z",
     "iopub.status.idle": "2024-06-21T15:52:56.720821Z",
     "shell.execute_reply": "2024-06-21T15:52:56.720281Z"
    },
    "papermill": {
     "duration": 548.284479,
     "end_time": "2024-06-21T15:52:56.757557",
     "exception": false,
     "start_time": "2024-06-21T15:43:48.473078",
     "status": "completed"
    },
    "tags": []
   },
   "outputs": [
    {
     "data": {
      "text/plain": [
       "(4435922, 100)"
      ]
     },
     "execution_count": 13,
     "metadata": {},
     "output_type": "execute_result"
    }
   ],
   "source": [
    "UncorrectedEmbR =  model_scGen.get_latent_representation()\n",
    "UncorrectedEmbR.shape"
   ]
  },
  {
   "cell_type": "markdown",
   "id": "efb82573-e93f-4e3a-804a-75f0e671f4fd",
   "metadata": {
    "papermill": {
     "duration": 0.045154,
     "end_time": "2024-06-21T15:52:56.860876",
     "exception": false,
     "start_time": "2024-06-21T15:52:56.815722",
     "status": "completed"
    },
    "tags": []
   },
   "source": [
    "**Using py NN descent to transfer cell-type labels**"
   ]
  },
  {
   "cell_type": "code",
   "execution_count": 14,
   "id": "404f63bd-3d74-46a3-a276-4ba1bc2082d3",
   "metadata": {
    "execution": {
     "iopub.execute_input": "2024-06-21T15:52:57.000075Z",
     "iopub.status.busy": "2024-06-21T15:52:56.999870Z",
     "iopub.status.idle": "2024-06-21T16:05:03.821989Z",
     "shell.execute_reply": "2024-06-21T16:05:03.821470Z"
    },
    "papermill": {
     "duration": 726.869928,
     "end_time": "2024-06-21T16:05:03.824123",
     "exception": false,
     "start_time": "2024-06-21T15:52:56.954195",
     "status": "completed"
    },
    "tags": []
   },
   "outputs": [],
   "source": [
    "ref_nn_index = pynndescent.NNDescent(UncorrectedEmbR, random_state = random_seed)\n",
    "ref_nn_index.prepare()"
   ]
  },
  {
   "cell_type": "code",
   "execution_count": 15,
   "id": "dbba7c64-7b9f-4952-8ca7-f74e4dca2aba",
   "metadata": {
    "execution": {
     "iopub.execute_input": "2024-06-21T16:05:03.888739Z",
     "iopub.status.busy": "2024-06-21T16:05:03.888524Z",
     "iopub.status.idle": "2024-06-21T16:05:41.059422Z",
     "shell.execute_reply": "2024-06-21T16:05:41.058908Z"
    },
    "papermill": {
     "duration": 37.226861,
     "end_time": "2024-06-21T16:05:41.060606",
     "exception": false,
     "start_time": "2024-06-21T16:05:03.833745",
     "status": "completed"
    },
    "tags": []
   },
   "outputs": [
    {
     "name": "stdout",
     "output_type": "stream",
     "text": [
      "\u001b[34mINFO    \u001b[0m Input AnnData not setup with scvi-tools. attempting to transfer AnnData setup                             \n"
     ]
    },
    {
     "data": {
      "text/plain": [
       "(572872, 100)"
      ]
     },
     "execution_count": 15,
     "metadata": {},
     "output_type": "execute_result"
    }
   ],
   "source": [
    "UncorrectedEmbQ = model_scGen.get_latent_representation(adataQ)\n",
    "UncorrectedEmbQ.shape"
   ]
  },
  {
   "cell_type": "code",
   "execution_count": 16,
   "id": "b2628e38-1e63-4755-82b7-920cb2b0f580",
   "metadata": {
    "execution": {
     "iopub.execute_input": "2024-06-21T16:05:41.082813Z",
     "iopub.status.busy": "2024-06-21T16:05:41.082605Z",
     "iopub.status.idle": "2024-06-21T16:06:45.009150Z",
     "shell.execute_reply": "2024-06-21T16:06:45.008491Z"
    },
    "papermill": {
     "duration": 63.939103,
     "end_time": "2024-06-21T16:06:45.011163",
     "exception": false,
     "start_time": "2024-06-21T16:05:41.072060",
     "status": "completed"
    },
    "tags": []
   },
   "outputs": [],
   "source": [
    "ref_neighbors, ref_distances = ref_nn_index.query(UncorrectedEmbQ)"
   ]
  },
  {
   "cell_type": "code",
   "execution_count": 17,
   "id": "be69d153-9f4d-4fd1-aed8-d0b4d71be867",
   "metadata": {
    "execution": {
     "iopub.execute_input": "2024-06-21T16:06:45.035037Z",
     "iopub.status.busy": "2024-06-21T16:06:45.034814Z",
     "iopub.status.idle": "2024-06-21T16:06:45.718262Z",
     "shell.execute_reply": "2024-06-21T16:06:45.717764Z"
    },
    "papermill": {
     "duration": 0.69547,
     "end_time": "2024-06-21T16:06:45.719521",
     "exception": false,
     "start_time": "2024-06-21T16:06:45.024051",
     "status": "completed"
    },
    "tags": []
   },
   "outputs": [],
   "source": [
    "# convert distances to affinities\n",
    "stds = np.std(ref_distances, axis=1)\n",
    "stds = (2.0 / stds) ** 2 # gaussian distribution\n",
    "stds = stds.reshape(-1, 1)\n",
    "ref_distances_tilda = np.exp(-np.true_divide(ref_distances, stds))\n",
    "weights = ref_distances_tilda / np.sum(ref_distances_tilda, axis=1, keepdims=True)"
   ]
  },
  {
   "cell_type": "code",
   "execution_count": 18,
   "id": "d9665872-e3e9-4159-aa89-e2f02199bc29",
   "metadata": {
    "execution": {
     "iopub.execute_input": "2024-06-21T16:06:45.739721Z",
     "iopub.status.busy": "2024-06-21T16:06:45.739511Z",
     "iopub.status.idle": "2024-06-21T16:06:45.796998Z",
     "shell.execute_reply": "2024-06-21T16:06:45.796541Z"
    },
    "papermill": {
     "duration": 0.06874,
     "end_time": "2024-06-21T16:06:45.798100",
     "exception": false,
     "start_time": "2024-06-21T16:06:45.729360",
     "status": "completed"
    },
    "tags": []
   },
   "outputs": [],
   "source": [
    "import numba\n",
    "@numba.njit\n",
    "def weighted_prediction(weights, ref_cats):\n",
    "    \"\"\"Get highest weight category.\"\"\"\n",
    "    N = len(weights)\n",
    "    predictions = np.zeros((N,), dtype=ref_cats.dtype)\n",
    "    uncertainty = np.zeros((N,))\n",
    "    for i in range(N):\n",
    "        obs_weights = weights[i]\n",
    "        obs_cats = ref_cats[i]\n",
    "        best_prob = 0\n",
    "        for c in np.unique(obs_cats):\n",
    "            cand_prob = np.sum(obs_weights[obs_cats == c])\n",
    "            if cand_prob > best_prob:\n",
    "                best_prob = cand_prob\n",
    "                predictions[i] = c\n",
    "                uncertainty[i] = max(1 - best_prob, 0)\n",
    "\n",
    "    return predictions, uncertainty"
   ]
  },
  {
   "cell_type": "code",
   "execution_count": 19,
   "id": "d96ec443-9e7c-4143-86f9-99ac958d4e91",
   "metadata": {
    "execution": {
     "iopub.execute_input": "2024-06-21T16:06:45.818692Z",
     "iopub.status.busy": "2024-06-21T16:06:45.818408Z",
     "iopub.status.idle": "2024-06-21T16:06:50.156893Z",
     "shell.execute_reply": "2024-06-21T16:06:50.156362Z"
    },
    "papermill": {
     "duration": 4.350232,
     "end_time": "2024-06-21T16:06:50.158360",
     "exception": false,
     "start_time": "2024-06-21T16:06:45.808128",
     "status": "completed"
    },
    "tags": []
   },
   "outputs": [],
   "source": [
    "# for each annotation level, get prediction and uncertainty\n",
    "label_keys = ['Level1','Level2','disease']\n",
    "for l in label_keys:\n",
    "    ref_cats = model_scGen.adata.obs[l].cat.codes.to_numpy()[ref_neighbors]\n",
    "    p, u = weighted_prediction(weights, ref_cats)\n",
    "    p = np.asarray(model_scGen.adata.obs[l].cat.categories)[p]\n",
    "    adataQ.obs[l + \"_pred\"], adataQ.obs[l + \"_uncertainty\"] = p, u"
   ]
  },
  {
   "cell_type": "markdown",
   "id": "c658256b-6a21-4ed4-b416-94ca1412548c",
   "metadata": {
    "papermill": {
     "duration": 0.012248,
     "end_time": "2024-06-21T16:06:50.205721",
     "exception": false,
     "start_time": "2024-06-21T16:06:50.193473",
     "status": "completed"
    },
    "tags": []
   },
   "source": [
    "We also compute the accuracy of trasnfering the disease label to each cells"
   ]
  },
  {
   "cell_type": "code",
   "execution_count": 20,
   "id": "58ccf15a-d81c-4675-a45f-619aa47a0471",
   "metadata": {
    "execution": {
     "iopub.execute_input": "2024-06-21T16:06:50.228867Z",
     "iopub.status.busy": "2024-06-21T16:06:50.228661Z",
     "iopub.status.idle": "2024-06-21T16:06:50.463738Z",
     "shell.execute_reply": "2024-06-21T16:06:50.463306Z"
    },
    "papermill": {
     "duration": 0.247084,
     "end_time": "2024-06-21T16:06:50.464809",
     "exception": false,
     "start_time": "2024-06-21T16:06:50.217725",
     "status": "completed"
    },
    "tags": []
   },
   "outputs": [
    {
     "data": {
      "image/png": "[encoded data removed]",
      "text/plain": [
       "<Figure size 400x400 with 1 Axes>"
      ]
     },
     "metadata": {
      "image/png": {
       "height": 352,
       "width": 416
      }
     },
     "output_type": "display_data"
    }
   ],
   "source": [
    "adataQ.obs.Level1_uncertainty.hist(bins=50)\n",
    "plt.show()"
   ]
  },
  {
   "cell_type": "code",
   "execution_count": 21,
   "id": "37180dd1-2008-4ab6-a128-0a8f28b650cf",
   "metadata": {
    "execution": {
     "iopub.execute_input": "2024-06-21T16:06:50.487219Z",
     "iopub.status.busy": "2024-06-21T16:06:50.487022Z",
     "iopub.status.idle": "2024-06-21T16:07:15.353968Z",
     "shell.execute_reply": "2024-06-21T16:07:15.353332Z"
    },
    "papermill": {
     "duration": 24.880333,
     "end_time": "2024-06-21T16:07:15.355784",
     "exception": false,
     "start_time": "2024-06-21T16:06:50.475451",
     "status": "completed"
    },
    "tags": []
   },
   "outputs": [],
   "source": [
    "BASlist = []\n",
    "\n",
    "thrValues = np.arange(np.min(adataQ.obs[f\"{annotation}_uncertainty\"]), np.max(adataQ.obs[f\"{annotation}_uncertainty\"]), 0.05)\n",
    "\n",
    "for cell_uncThr in thrValues:\n",
    "  \n",
    "    diseaseBAS = balanced_accuracy_score(y_pred=adataQ.obs.query(f\"{annotation}_uncertainty < @cell_uncThr\")['disease_pred'], \n",
    "                                         y_true=adataQ.obs.query(f\"{annotation}_uncertainty < @cell_uncThr\")['disease'])\n",
    "    BASlist.append(diseaseBAS)\n",
    "    #print(f\"Balance accuracy score for disease prediction at single-cell level = {diseaseBAS}, when uncertanty lower than {disease_uncThr}\")"
   ]
  },
  {
   "cell_type": "code",
   "execution_count": 22,
   "id": "a3ed052a-5be7-4ff8-a09c-87aee868cdae",
   "metadata": {
    "execution": {
     "iopub.execute_input": "2024-06-21T16:07:15.379068Z",
     "iopub.status.busy": "2024-06-21T16:07:15.378820Z",
     "iopub.status.idle": "2024-06-21T16:07:15.552593Z",
     "shell.execute_reply": "2024-06-21T16:07:15.552152Z"
    },
    "papermill": {
     "duration": 0.186495,
     "end_time": "2024-06-21T16:07:15.553673",
     "exception": false,
     "start_time": "2024-06-21T16:07:15.367178",
     "status": "completed"
    },
    "tags": []
   },
   "outputs": [
    {
     "data": {
      "image/png": "[encoded data removed]",
      "text/plain": [
       "<Figure size 400x400 with 1 Axes>"
      ]
     },
     "metadata": {
      "image/png": {
       "height": 377,
       "width": 421
      }
     },
     "output_type": "display_data"
    }
   ],
   "source": [
    "plt.scatter(thrValues, BASlist)\n",
    "plt.xlabel('transfer label uncertainty')\n",
    "plt.ylabel('Balanced accuracy score')\n",
    "plt.show()"
   ]
  },
  {
   "cell_type": "markdown",
   "id": "e344160b-ea94-4581-915b-94e4c645d575",
   "metadata": {
    "papermill": {
     "duration": 0.01305,
     "end_time": "2024-06-21T16:07:15.581499",
     "exception": false,
     "start_time": "2024-06-21T16:07:15.568449",
     "status": "completed"
    },
    "tags": []
   },
   "source": [
    "**Learning the batch correction deltas**"
   ]
  },
  {
   "cell_type": "code",
   "execution_count": 23,
   "id": "6fd1cf6f-d1ca-44cb-858a-88491688ebca",
   "metadata": {
    "execution": {
     "iopub.execute_input": "2024-06-21T16:07:15.606198Z",
     "iopub.status.busy": "2024-06-21T16:07:15.606001Z",
     "iopub.status.idle": "2024-06-21T16:16:48.475691Z",
     "shell.execute_reply": "2024-06-21T16:16:48.475166Z"
    },
    "papermill": {
     "duration": 572.882945,
     "end_time": "2024-06-21T16:16:48.476750",
     "exception": false,
     "start_time": "2024-06-21T16:07:15.593805",
     "status": "completed"
    },
    "tags": []
   },
   "outputs": [
    {
     "name": "stderr",
     "output_type": "stream",
     "text": [
      "\r",
      "  0%|          | 0/256 [00:00<?, ?it/s]"
     ]
    },
    {
     "name": "stderr",
     "output_type": "stream",
     "text": [
      "\r",
      "  0%|          | 1/256 [00:02<12:00,  2.83s/it]"
     ]
    },
    {
     "name": "stderr",
     "output_type": "stream",
     "text": [
      "\r",
      "  1%|          | 2/256 [00:03<07:41,  1.82s/it]"
     ]
    },
    {
     "name": "stderr",
     "output_type": "stream",
     "text": [
      "\r",
      "  1%|          | 3/256 [00:05<06:28,  1.54s/it]"
     ]
    },
    {
     "name": "stderr",
     "output_type": "stream",
     "text": [
      "\r",
      "  2%|▏         | 4/256 [00:06<06:06,  1.45s/it]"
     ]
    },
    {
     "name": "stderr",
     "output_type": "stream",
     "text": [
      "\r",
      "  2%|▏         | 5/256 [00:07<05:50,  1.40s/it]"
     ]
    },
    {
     "name": "stderr",
     "output_type": "stream",
     "text": [
      "\r",
      "  2%|▏         | 6/256 [00:09<05:46,  1.38s/it]"
     ]
    },
    {
     "name": "stderr",
     "output_type": "stream",
     "text": [
      "\r",
      "  3%|▎         | 7/256 [00:10<05:26,  1.31s/it]"
     ]
    },
    {
     "name": "stderr",
     "output_type": "stream",
     "text": [
      "\r",
      "  3%|▎         | 8/256 [00:11<05:25,  1.31s/it]"
     ]
    },
    {
     "name": "stderr",
     "output_type": "stream",
     "text": [
      "\r",
      "  4%|▎         | 9/256 [00:12<05:19,  1.29s/it]"
     ]
    },
    {
     "name": "stderr",
     "output_type": "stream",
     "text": [
      "\r",
      "  4%|▍         | 10/256 [00:14<05:13,  1.28s/it]"
     ]
    },
    {
     "name": "stderr",
     "output_type": "stream",
     "text": [
      "\r",
      "  4%|▍         | 11/256 [00:15<05:01,  1.23s/it]"
     ]
    },
    {
     "name": "stderr",
     "output_type": "stream",
     "text": [
      "\r",
      "  5%|▍         | 12/256 [00:16<05:02,  1.24s/it]"
     ]
    },
    {
     "name": "stderr",
     "output_type": "stream",
     "text": [
      "\r",
      "  5%|▌         | 13/256 [00:17<04:53,  1.21s/it]"
     ]
    },
    {
     "name": "stderr",
     "output_type": "stream",
     "text": [
      "\r",
      "  5%|▌         | 14/256 [00:18<04:48,  1.19s/it]"
     ]
    },
    {
     "name": "stderr",
     "output_type": "stream",
     "text": [
      "\r",
      "  6%|▌         | 15/256 [00:20<04:51,  1.21s/it]"
     ]
    },
    {
     "name": "stderr",
     "output_type": "stream",
     "text": [
      "\r",
      "  6%|▋         | 16/256 [00:21<04:58,  1.24s/it]"
     ]
    },
    {
     "name": "stderr",
     "output_type": "stream",
     "text": [
      "\r",
      "  7%|▋         | 17/256 [00:22<04:56,  1.24s/it]"
     ]
    },
    {
     "name": "stderr",
     "output_type": "stream",
     "text": [
      "\r",
      "  7%|▋         | 18/256 [00:23<04:57,  1.25s/it]"
     ]
    },
    {
     "name": "stderr",
     "output_type": "stream",
     "text": [
      "\r",
      "  7%|▋         | 19/256 [00:25<04:51,  1.23s/it]"
     ]
    },
    {
     "name": "stderr",
     "output_type": "stream",
     "text": [
      "\r",
      "  8%|▊         | 20/256 [00:26<04:46,  1.21s/it]"
     ]
    },
    {
     "name": "stderr",
     "output_type": "stream",
     "text": [
      "\r",
      "  8%|▊         | 21/256 [00:27<04:27,  1.14s/it]"
     ]
    },
    {
     "name": "stderr",
     "output_type": "stream",
     "text": [
      "\r",
      "  9%|▊         | 22/256 [00:28<04:10,  1.07s/it]"
     ]
    },
    {
     "name": "stderr",
     "output_type": "stream",
     "text": [
      "\r",
      "  9%|▉         | 23/256 [00:28<03:57,  1.02s/it]"
     ]
    },
    {
     "name": "stderr",
     "output_type": "stream",
     "text": [
      "\r",
      "  9%|▉         | 24/256 [00:29<03:52,  1.00s/it]"
     ]
    },
    {
     "name": "stderr",
     "output_type": "stream",
     "text": [
      "\r",
      " 10%|▉         | 25/256 [00:31<04:01,  1.04s/it]"
     ]
    },
    {
     "name": "stderr",
     "output_type": "stream",
     "text": [
      "\r",
      " 10%|█         | 26/256 [00:32<04:05,  1.07s/it]"
     ]
    },
    {
     "name": "stderr",
     "output_type": "stream",
     "text": [
      "\r",
      " 11%|█         | 27/256 [00:33<04:00,  1.05s/it]"
     ]
    },
    {
     "name": "stderr",
     "output_type": "stream",
     "text": [
      "\r",
      " 11%|█         | 28/256 [00:34<04:10,  1.10s/it]"
     ]
    },
    {
     "name": "stderr",
     "output_type": "stream",
     "text": [
      "\r",
      " 11%|█▏        | 29/256 [00:35<04:08,  1.09s/it]"
     ]
    },
    {
     "name": "stderr",
     "output_type": "stream",
     "text": [
      "\r",
      " 12%|█▏        | 30/256 [00:36<04:02,  1.07s/it]"
     ]
    },
    {
     "name": "stderr",
     "output_type": "stream",
     "text": [
      "\r",
      " 12%|█▏        | 31/256 [00:37<03:59,  1.06s/it]"
     ]
    },
    {
     "name": "stderr",
     "output_type": "stream",
     "text": [
      "\r",
      " 12%|█▎        | 32/256 [00:38<03:58,  1.07s/it]"
     ]
    },
    {
     "name": "stderr",
     "output_type": "stream",
     "text": [
      "\r",
      " 13%|█▎        | 33/256 [00:39<03:46,  1.02s/it]"
     ]
    },
    {
     "name": "stderr",
     "output_type": "stream",
     "text": [
      "\r",
      " 13%|█▎        | 34/256 [00:40<03:35,  1.03it/s]"
     ]
    },
    {
     "name": "stderr",
     "output_type": "stream",
     "text": [
      "\r",
      " 14%|█▎        | 35/256 [00:41<03:30,  1.05it/s]"
     ]
    },
    {
     "name": "stderr",
     "output_type": "stream",
     "text": [
      "\r",
      " 14%|█▍        | 36/256 [00:42<03:25,  1.07it/s]"
     ]
    },
    {
     "name": "stderr",
     "output_type": "stream",
     "text": [
      "\r",
      " 14%|█▍        | 37/256 [00:43<03:25,  1.06it/s]"
     ]
    },
    {
     "name": "stderr",
     "output_type": "stream",
     "text": [
      "\r",
      " 15%|█▍        | 38/256 [00:44<03:20,  1.09it/s]"
     ]
    },
    {
     "name": "stderr",
     "output_type": "stream",
     "text": [
      "\r",
      " 15%|█▌        | 39/256 [00:44<03:16,  1.11it/s]"
     ]
    },
    {
     "name": "stderr",
     "output_type": "stream",
     "text": [
      "\r",
      " 16%|█▌        | 40/256 [00:45<03:15,  1.10it/s]"
     ]
    },
    {
     "name": "stderr",
     "output_type": "stream",
     "text": [
      "\r",
      " 16%|█▌        | 41/256 [00:46<03:28,  1.03it/s]"
     ]
    },
    {
     "name": "stderr",
     "output_type": "stream",
     "text": [
      "\r",
      " 16%|█▋        | 42/256 [00:48<03:56,  1.10s/it]"
     ]
    },
    {
     "name": "stderr",
     "output_type": "stream",
     "text": [
      "\r",
      " 17%|█▋        | 43/256 [00:49<03:55,  1.11s/it]"
     ]
    },
    {
     "name": "stderr",
     "output_type": "stream",
     "text": [
      "\r",
      " 17%|█▋        | 44/256 [00:50<03:56,  1.12s/it]"
     ]
    },
    {
     "name": "stderr",
     "output_type": "stream",
     "text": [
      "\r",
      " 18%|█▊        | 45/256 [00:51<03:35,  1.02s/it]"
     ]
    },
    {
     "name": "stderr",
     "output_type": "stream",
     "text": [
      "\r",
      " 18%|█▊        | 46/256 [00:52<03:29,  1.00it/s]"
     ]
    },
    {
     "name": "stderr",
     "output_type": "stream",
     "text": [
      "\r",
      " 18%|█▊        | 47/256 [00:53<03:19,  1.05it/s]"
     ]
    },
    {
     "name": "stderr",
     "output_type": "stream",
     "text": [
      "\r",
      " 19%|█▉        | 48/256 [00:54<03:18,  1.05it/s]"
     ]
    },
    {
     "name": "stderr",
     "output_type": "stream",
     "text": [
      "\r",
      " 19%|█▉        | 49/256 [00:55<03:13,  1.07it/s]"
     ]
    },
    {
     "name": "stderr",
     "output_type": "stream",
     "text": [
      "\r",
      " 20%|█▉        | 50/256 [00:55<03:09,  1.09it/s]"
     ]
    },
    {
     "name": "stderr",
     "output_type": "stream",
     "text": [
      "\r",
      " 20%|█▉        | 51/256 [00:56<03:04,  1.11it/s]"
     ]
    },
    {
     "name": "stderr",
     "output_type": "stream",
     "text": [
      "\r",
      " 20%|██        | 52/256 [00:57<03:05,  1.10it/s]"
     ]
    },
    {
     "name": "stderr",
     "output_type": "stream",
     "text": [
      "\r",
      " 21%|██        | 53/256 [00:58<03:11,  1.06it/s]"
     ]
    },
    {
     "name": "stderr",
     "output_type": "stream",
     "text": [
      "\r",
      " 21%|██        | 54/256 [00:59<03:12,  1.05it/s]"
     ]
    },
    {
     "name": "stderr",
     "output_type": "stream",
     "text": [
      "\r",
      " 21%|██▏       | 55/256 [01:00<03:06,  1.08it/s]"
     ]
    },
    {
     "name": "stderr",
     "output_type": "stream",
     "text": [
      "\r",
      " 22%|██▏       | 56/256 [01:01<03:04,  1.09it/s]"
     ]
    },
    {
     "name": "stderr",
     "output_type": "stream",
     "text": [
      "\r",
      " 22%|██▏       | 57/256 [01:02<03:05,  1.08it/s]"
     ]
    },
    {
     "name": "stderr",
     "output_type": "stream",
     "text": [
      "\r",
      " 23%|██▎       | 58/256 [01:03<03:10,  1.04it/s]"
     ]
    },
    {
     "name": "stderr",
     "output_type": "stream",
     "text": [
      "\r",
      " 23%|██▎       | 59/256 [01:04<03:07,  1.05it/s]"
     ]
    },
    {
     "name": "stderr",
     "output_type": "stream",
     "text": [
      "\r",
      " 23%|██▎       | 60/256 [01:05<03:12,  1.02it/s]"
     ]
    },
    {
     "name": "stderr",
     "output_type": "stream",
     "text": [
      "\r",
      " 24%|██▍       | 61/256 [01:06<03:17,  1.01s/it]"
     ]
    },
    {
     "name": "stderr",
     "output_type": "stream",
     "text": [
      "\r",
      " 24%|██▍       | 62/256 [01:07<03:15,  1.01s/it]"
     ]
    },
    {
     "name": "stderr",
     "output_type": "stream",
     "text": [
      "\r",
      " 25%|██▍       | 63/256 [01:08<03:12,  1.00it/s]"
     ]
    },
    {
     "name": "stderr",
     "output_type": "stream",
     "text": [
      "\r",
      " 25%|██▌       | 64/256 [01:09<03:12,  1.00s/it]"
     ]
    },
    {
     "name": "stderr",
     "output_type": "stream",
     "text": [
      "\r",
      " 25%|██▌       | 65/256 [01:10<03:02,  1.05it/s]"
     ]
    },
    {
     "name": "stderr",
     "output_type": "stream",
     "text": [
      "\r",
      " 26%|██▌       | 66/256 [01:11<02:55,  1.08it/s]"
     ]
    },
    {
     "name": "stderr",
     "output_type": "stream",
     "text": [
      "\r",
      " 26%|██▌       | 67/256 [01:12<02:54,  1.08it/s]"
     ]
    },
    {
     "name": "stderr",
     "output_type": "stream",
     "text": [
      "\r",
      " 27%|██▋       | 68/256 [01:12<02:48,  1.12it/s]"
     ]
    },
    {
     "name": "stderr",
     "output_type": "stream",
     "text": [
      "\r",
      " 27%|██▋       | 69/256 [01:14<03:26,  1.10s/it]"
     ]
    },
    {
     "name": "stderr",
     "output_type": "stream",
     "text": [
      "\r",
      " 27%|██▋       | 70/256 [01:15<03:41,  1.19s/it]"
     ]
    },
    {
     "name": "stderr",
     "output_type": "stream",
     "text": [
      "\r",
      " 28%|██▊       | 71/256 [01:17<04:01,  1.31s/it]"
     ]
    },
    {
     "name": "stderr",
     "output_type": "stream",
     "text": [
      "\r",
      " 28%|██▊       | 72/256 [01:19<04:18,  1.41s/it]"
     ]
    },
    {
     "name": "stderr",
     "output_type": "stream",
     "text": [
      "\r",
      " 29%|██▊       | 73/256 [01:21<05:06,  1.67s/it]"
     ]
    },
    {
     "name": "stderr",
     "output_type": "stream",
     "text": [
      "\r",
      " 29%|██▉       | 74/256 [01:23<05:27,  1.80s/it]"
     ]
    },
    {
     "name": "stderr",
     "output_type": "stream",
     "text": [
      "\r",
      " 29%|██▉       | 75/256 [01:26<06:03,  2.01s/it]"
     ]
    },
    {
     "name": "stderr",
     "output_type": "stream",
     "text": [
      "\r",
      " 30%|██▉       | 76/256 [01:28<06:30,  2.17s/it]"
     ]
    },
    {
     "name": "stderr",
     "output_type": "stream",
     "text": [
      "\r",
      " 30%|███       | 77/256 [01:29<05:41,  1.91s/it]"
     ]
    },
    {
     "name": "stderr",
     "output_type": "stream",
     "text": [
      "\r",
      " 30%|███       | 78/256 [01:31<05:14,  1.77s/it]"
     ]
    },
    {
     "name": "stderr",
     "output_type": "stream",
     "text": [
      "\r",
      " 31%|███       | 79/256 [01:32<05:01,  1.70s/it]"
     ]
    },
    {
     "name": "stderr",
     "output_type": "stream",
     "text": [
      "\r",
      " 31%|███▏      | 80/256 [01:34<04:46,  1.63s/it]"
     ]
    },
    {
     "name": "stderr",
     "output_type": "stream",
     "text": [
      "\r",
      " 32%|███▏      | 81/256 [01:35<04:35,  1.58s/it]"
     ]
    },
    {
     "name": "stderr",
     "output_type": "stream",
     "text": [
      "\r",
      " 32%|███▏      | 82/256 [01:37<04:28,  1.55s/it]"
     ]
    },
    {
     "name": "stderr",
     "output_type": "stream",
     "text": [
      "\r",
      " 32%|███▏      | 83/256 [01:38<04:23,  1.52s/it]"
     ]
    },
    {
     "name": "stderr",
     "output_type": "stream",
     "text": [
      "\r",
      " 33%|███▎      | 84/256 [01:40<04:24,  1.54s/it]"
     ]
    },
    {
     "name": "stderr",
     "output_type": "stream",
     "text": [
      "\r",
      " 33%|███▎      | 85/256 [01:42<04:33,  1.60s/it]"
     ]
    },
    {
     "name": "stderr",
     "output_type": "stream",
     "text": [
      "\r",
      " 34%|███▎      | 86/256 [01:44<05:10,  1.83s/it]"
     ]
    },
    {
     "name": "stderr",
     "output_type": "stream",
     "text": [
      "\r",
      " 34%|███▍      | 87/256 [01:46<05:11,  1.84s/it]"
     ]
    },
    {
     "name": "stderr",
     "output_type": "stream",
     "text": [
      "\r",
      " 34%|███▍      | 88/256 [01:48<05:08,  1.83s/it]"
     ]
    },
    {
     "name": "stderr",
     "output_type": "stream",
     "text": [
      "\r",
      " 35%|███▍      | 89/256 [01:49<04:35,  1.65s/it]"
     ]
    },
    {
     "name": "stderr",
     "output_type": "stream",
     "text": [
      "\r",
      " 35%|███▌      | 90/256 [01:50<04:10,  1.51s/it]"
     ]
    },
    {
     "name": "stderr",
     "output_type": "stream",
     "text": [
      "\r",
      " 36%|███▌      | 91/256 [01:51<03:55,  1.43s/it]"
     ]
    },
    {
     "name": "stderr",
     "output_type": "stream",
     "text": [
      "\r",
      " 36%|███▌      | 92/256 [01:53<03:55,  1.43s/it]"
     ]
    },
    {
     "name": "stderr",
     "output_type": "stream",
     "text": [
      "\r",
      " 36%|███▋      | 93/256 [01:55<04:14,  1.56s/it]"
     ]
    },
    {
     "name": "stderr",
     "output_type": "stream",
     "text": [
      "\r",
      " 37%|███▋      | 94/256 [01:56<04:13,  1.56s/it]"
     ]
    },
    {
     "name": "stderr",
     "output_type": "stream",
     "text": [
      "\r",
      " 37%|███▋      | 95/256 [01:58<04:13,  1.57s/it]"
     ]
    },
    {
     "name": "stderr",
     "output_type": "stream",
     "text": [
      "\r",
      " 38%|███▊      | 96/256 [01:59<04:18,  1.62s/it]"
     ]
    },
    {
     "name": "stderr",
     "output_type": "stream",
     "text": [
      "\r",
      " 38%|███▊      | 97/256 [02:01<04:00,  1.52s/it]"
     ]
    },
    {
     "name": "stderr",
     "output_type": "stream",
     "text": [
      "\r",
      " 38%|███▊      | 98/256 [02:02<03:43,  1.41s/it]"
     ]
    },
    {
     "name": "stderr",
     "output_type": "stream",
     "text": [
      "\r",
      " 39%|███▊      | 99/256 [02:03<03:30,  1.34s/it]"
     ]
    },
    {
     "name": "stderr",
     "output_type": "stream",
     "text": [
      "\r",
      " 39%|███▉      | 100/256 [02:04<03:29,  1.34s/it]"
     ]
    },
    {
     "name": "stderr",
     "output_type": "stream",
     "text": [
      "\r",
      " 39%|███▉      | 101/256 [02:05<03:17,  1.27s/it]"
     ]
    },
    {
     "name": "stderr",
     "output_type": "stream",
     "text": [
      "\r",
      " 40%|███▉      | 102/256 [02:07<03:14,  1.26s/it]"
     ]
    },
    {
     "name": "stderr",
     "output_type": "stream",
     "text": [
      "\r",
      " 40%|████      | 103/256 [02:08<03:03,  1.20s/it]"
     ]
    },
    {
     "name": "stderr",
     "output_type": "stream",
     "text": [
      "\r",
      " 41%|████      | 104/256 [02:09<03:05,  1.22s/it]"
     ]
    },
    {
     "name": "stderr",
     "output_type": "stream",
     "text": [
      "\r",
      " 41%|████      | 105/256 [02:10<02:57,  1.18s/it]"
     ]
    },
    {
     "name": "stderr",
     "output_type": "stream",
     "text": [
      "\r",
      " 41%|████▏     | 106/256 [02:11<02:51,  1.15s/it]"
     ]
    },
    {
     "name": "stderr",
     "output_type": "stream",
     "text": [
      "\r",
      " 42%|████▏     | 107/256 [02:12<02:50,  1.15s/it]"
     ]
    },
    {
     "name": "stderr",
     "output_type": "stream",
     "text": [
      "\r",
      " 42%|████▏     | 108/256 [02:13<02:46,  1.13s/it]"
     ]
    },
    {
     "name": "stderr",
     "output_type": "stream",
     "text": [
      "\r",
      " 43%|████▎     | 109/256 [02:14<02:37,  1.07s/it]"
     ]
    },
    {
     "name": "stderr",
     "output_type": "stream",
     "text": [
      "\r",
      " 43%|████▎     | 110/256 [02:15<02:32,  1.05s/it]"
     ]
    },
    {
     "name": "stderr",
     "output_type": "stream",
     "text": [
      "\r",
      " 43%|████▎     | 111/256 [02:16<02:31,  1.04s/it]"
     ]
    },
    {
     "name": "stderr",
     "output_type": "stream",
     "text": [
      "\r",
      " 44%|████▍     | 112/256 [02:17<02:27,  1.02s/it]"
     ]
    },
    {
     "name": "stderr",
     "output_type": "stream",
     "text": [
      "\r",
      " 44%|████▍     | 113/256 [02:19<02:36,  1.09s/it]"
     ]
    },
    {
     "name": "stderr",
     "output_type": "stream",
     "text": [
      "\r",
      " 45%|████▍     | 114/256 [02:20<02:41,  1.14s/it]"
     ]
    },
    {
     "name": "stderr",
     "output_type": "stream",
     "text": [
      "\r",
      " 45%|████▍     | 115/256 [02:21<02:39,  1.13s/it]"
     ]
    },
    {
     "name": "stderr",
     "output_type": "stream",
     "text": [
      "\r",
      " 45%|████▌     | 116/256 [02:22<02:43,  1.17s/it]"
     ]
    },
    {
     "name": "stderr",
     "output_type": "stream",
     "text": [
      "\r",
      " 46%|████▌     | 117/256 [02:23<02:31,  1.09s/it]"
     ]
    },
    {
     "name": "stderr",
     "output_type": "stream",
     "text": [
      "\r",
      " 46%|████▌     | 118/256 [02:24<02:29,  1.08s/it]"
     ]
    },
    {
     "name": "stderr",
     "output_type": "stream",
     "text": [
      "\r",
      " 46%|████▋     | 119/256 [02:25<02:21,  1.03s/it]"
     ]
    },
    {
     "name": "stderr",
     "output_type": "stream",
     "text": [
      "\r",
      " 47%|████▋     | 120/256 [02:26<02:15,  1.00it/s]"
     ]
    },
    {
     "name": "stderr",
     "output_type": "stream",
     "text": [
      "\r",
      " 47%|████▋     | 121/256 [02:27<02:11,  1.02it/s]"
     ]
    },
    {
     "name": "stderr",
     "output_type": "stream",
     "text": [
      "\r",
      " 48%|████▊     | 122/256 [02:28<02:15,  1.01s/it]"
     ]
    },
    {
     "name": "stderr",
     "output_type": "stream",
     "text": [
      "\r",
      " 48%|████▊     | 123/256 [02:29<02:15,  1.02s/it]"
     ]
    },
    {
     "name": "stderr",
     "output_type": "stream",
     "text": [
      "\r",
      " 48%|████▊     | 124/256 [02:30<02:13,  1.01s/it]"
     ]
    },
    {
     "name": "stderr",
     "output_type": "stream",
     "text": [
      "\r",
      " 49%|████▉     | 125/256 [02:31<02:05,  1.04it/s]"
     ]
    },
    {
     "name": "stderr",
     "output_type": "stream",
     "text": [
      "\r",
      " 49%|████▉     | 126/256 [02:32<01:58,  1.10it/s]"
     ]
    },
    {
     "name": "stderr",
     "output_type": "stream",
     "text": [
      "\r",
      " 50%|████▉     | 127/256 [02:33<01:54,  1.13it/s]"
     ]
    },
    {
     "name": "stderr",
     "output_type": "stream",
     "text": [
      "\r",
      " 50%|█████     | 128/256 [02:33<01:50,  1.16it/s]"
     ]
    },
    {
     "name": "stderr",
     "output_type": "stream",
     "text": [
      "\r",
      " 50%|█████     | 129/256 [02:34<01:50,  1.15it/s]"
     ]
    },
    {
     "name": "stderr",
     "output_type": "stream",
     "text": [
      "\r",
      " 51%|█████     | 130/256 [02:35<01:54,  1.10it/s]"
     ]
    },
    {
     "name": "stderr",
     "output_type": "stream",
     "text": [
      "\r",
      " 51%|█████     | 131/256 [02:36<01:51,  1.12it/s]"
     ]
    },
    {
     "name": "stderr",
     "output_type": "stream",
     "text": [
      "\r",
      " 52%|█████▏    | 132/256 [02:37<01:51,  1.12it/s]"
     ]
    },
    {
     "name": "stderr",
     "output_type": "stream",
     "text": [
      "\r",
      " 52%|█████▏    | 133/256 [02:39<02:26,  1.19s/it]"
     ]
    },
    {
     "name": "stderr",
     "output_type": "stream",
     "text": [
      "\r",
      " 52%|█████▏    | 134/256 [02:41<02:50,  1.40s/it]"
     ]
    },
    {
     "name": "stderr",
     "output_type": "stream",
     "text": [
      "\r",
      " 53%|█████▎    | 135/256 [02:42<02:57,  1.47s/it]"
     ]
    },
    {
     "name": "stderr",
     "output_type": "stream",
     "text": [
      "\r",
      " 53%|█████▎    | 136/256 [02:44<03:15,  1.63s/it]"
     ]
    },
    {
     "name": "stderr",
     "output_type": "stream",
     "text": [
      "\r",
      " 54%|█████▎    | 137/256 [02:45<02:49,  1.42s/it]"
     ]
    },
    {
     "name": "stderr",
     "output_type": "stream",
     "text": [
      "\r",
      " 54%|█████▍    | 138/256 [02:46<02:27,  1.25s/it]"
     ]
    },
    {
     "name": "stderr",
     "output_type": "stream",
     "text": [
      "\r",
      " 54%|█████▍    | 139/256 [02:47<02:14,  1.15s/it]"
     ]
    },
    {
     "name": "stderr",
     "output_type": "stream",
     "text": [
      "\r",
      " 55%|█████▍    | 140/256 [02:48<02:04,  1.07s/it]"
     ]
    },
    {
     "name": "stderr",
     "output_type": "stream",
     "text": [
      "\r",
      " 55%|█████▌    | 141/256 [02:49<02:08,  1.12s/it]"
     ]
    },
    {
     "name": "stderr",
     "output_type": "stream",
     "text": [
      "\r",
      " 55%|█████▌    | 142/256 [02:50<02:08,  1.13s/it]"
     ]
    },
    {
     "name": "stderr",
     "output_type": "stream",
     "text": [
      "\r",
      " 56%|█████▌    | 143/256 [02:51<02:04,  1.11s/it]"
     ]
    },
    {
     "name": "stderr",
     "output_type": "stream",
     "text": [
      "\r",
      " 56%|█████▋    | 144/256 [02:53<02:13,  1.19s/it]"
     ]
    },
    {
     "name": "stderr",
     "output_type": "stream",
     "text": [
      "\r",
      " 57%|█████▋    | 145/256 [02:54<02:07,  1.14s/it]"
     ]
    },
    {
     "name": "stderr",
     "output_type": "stream",
     "text": [
      "\r",
      " 57%|█████▋    | 146/256 [02:55<02:03,  1.13s/it]"
     ]
    },
    {
     "name": "stderr",
     "output_type": "stream",
     "text": [
      "\r",
      " 57%|█████▋    | 147/256 [02:56<02:07,  1.17s/it]"
     ]
    },
    {
     "name": "stderr",
     "output_type": "stream",
     "text": [
      "\r",
      " 58%|█████▊    | 148/256 [02:57<02:04,  1.16s/it]"
     ]
    },
    {
     "name": "stderr",
     "output_type": "stream",
     "text": [
      "\r",
      " 58%|█████▊    | 149/256 [02:59<02:13,  1.25s/it]"
     ]
    },
    {
     "name": "stderr",
     "output_type": "stream",
     "text": [
      "\r",
      " 59%|█████▊    | 150/256 [03:00<02:22,  1.35s/it]"
     ]
    },
    {
     "name": "stderr",
     "output_type": "stream",
     "text": [
      "\r",
      " 59%|█████▉    | 151/256 [03:02<02:23,  1.37s/it]"
     ]
    },
    {
     "name": "stderr",
     "output_type": "stream",
     "text": [
      "\r",
      " 59%|█████▉    | 152/256 [03:03<02:27,  1.42s/it]"
     ]
    },
    {
     "name": "stderr",
     "output_type": "stream",
     "text": [
      "\r",
      " 60%|█████▉    | 153/256 [03:04<02:16,  1.33s/it]"
     ]
    },
    {
     "name": "stderr",
     "output_type": "stream",
     "text": [
      "\r",
      " 60%|██████    | 154/256 [03:05<02:04,  1.22s/it]"
     ]
    },
    {
     "name": "stderr",
     "output_type": "stream",
     "text": [
      "\r",
      " 61%|██████    | 155/256 [03:06<01:57,  1.17s/it]"
     ]
    },
    {
     "name": "stderr",
     "output_type": "stream",
     "text": [
      "\r",
      " 61%|██████    | 156/256 [03:07<01:51,  1.12s/it]"
     ]
    },
    {
     "name": "stderr",
     "output_type": "stream",
     "text": [
      "\r",
      " 61%|██████▏   | 157/256 [03:10<02:41,  1.63s/it]"
     ]
    },
    {
     "name": "stderr",
     "output_type": "stream",
     "text": [
      "\r",
      " 62%|██████▏   | 158/256 [03:13<03:14,  1.99s/it]"
     ]
    },
    {
     "name": "stderr",
     "output_type": "stream",
     "text": [
      "\r",
      " 62%|██████▏   | 159/256 [03:16<03:32,  2.20s/it]"
     ]
    },
    {
     "name": "stderr",
     "output_type": "stream",
     "text": [
      "\r",
      " 62%|██████▎   | 160/256 [03:19<03:53,  2.43s/it]"
     ]
    },
    {
     "name": "stderr",
     "output_type": "stream",
     "text": [
      "\r",
      " 63%|██████▎   | 161/256 [03:20<03:16,  2.06s/it]"
     ]
    },
    {
     "name": "stderr",
     "output_type": "stream",
     "text": [
      "\r",
      " 63%|██████▎   | 162/256 [03:21<02:50,  1.81s/it]"
     ]
    },
    {
     "name": "stderr",
     "output_type": "stream",
     "text": [
      "\r",
      " 64%|██████▎   | 163/256 [03:22<02:33,  1.65s/it]"
     ]
    },
    {
     "name": "stderr",
     "output_type": "stream",
     "text": [
      "\r",
      " 64%|██████▍   | 164/256 [03:24<02:23,  1.56s/it]"
     ]
    },
    {
     "name": "stderr",
     "output_type": "stream",
     "text": [
      "\r",
      " 64%|██████▍   | 165/256 [03:25<02:12,  1.46s/it]"
     ]
    },
    {
     "name": "stderr",
     "output_type": "stream",
     "text": [
      "\r",
      " 65%|██████▍   | 166/256 [03:26<02:04,  1.39s/it]"
     ]
    },
    {
     "name": "stderr",
     "output_type": "stream",
     "text": [
      "\r",
      " 65%|██████▌   | 167/256 [03:27<01:58,  1.33s/it]"
     ]
    },
    {
     "name": "stderr",
     "output_type": "stream",
     "text": [
      "\r",
      " 66%|██████▌   | 168/256 [03:29<01:55,  1.32s/it]"
     ]
    },
    {
     "name": "stderr",
     "output_type": "stream",
     "text": [
      "\r",
      " 66%|██████▌   | 169/256 [03:30<01:47,  1.24s/it]"
     ]
    },
    {
     "name": "stderr",
     "output_type": "stream",
     "text": [
      "\r",
      " 66%|██████▋   | 170/256 [03:31<01:40,  1.17s/it]"
     ]
    },
    {
     "name": "stderr",
     "output_type": "stream",
     "text": [
      "\r",
      " 67%|██████▋   | 171/256 [03:32<01:37,  1.14s/it]"
     ]
    },
    {
     "name": "stderr",
     "output_type": "stream",
     "text": [
      "\r",
      " 67%|██████▋   | 172/256 [03:33<01:34,  1.13s/it]"
     ]
    },
    {
     "name": "stderr",
     "output_type": "stream",
     "text": [
      "\r",
      " 68%|██████▊   | 173/256 [03:34<01:34,  1.14s/it]"
     ]
    },
    {
     "name": "stderr",
     "output_type": "stream",
     "text": [
      "\r",
      " 68%|██████▊   | 174/256 [03:35<01:33,  1.14s/it]"
     ]
    },
    {
     "name": "stderr",
     "output_type": "stream",
     "text": [
      "\r",
      " 68%|██████▊   | 175/256 [03:37<01:34,  1.16s/it]"
     ]
    },
    {
     "name": "stderr",
     "output_type": "stream",
     "text": [
      "\r",
      " 69%|██████▉   | 176/256 [03:38<01:33,  1.17s/it]"
     ]
    },
    {
     "name": "stderr",
     "output_type": "stream",
     "text": [
      "\r",
      " 69%|██████▉   | 177/256 [03:39<01:32,  1.17s/it]"
     ]
    },
    {
     "name": "stderr",
     "output_type": "stream",
     "text": [
      "\r",
      " 70%|██████▉   | 178/256 [03:40<01:35,  1.22s/it]"
     ]
    },
    {
     "name": "stderr",
     "output_type": "stream",
     "text": [
      "\r",
      " 70%|██████▉   | 179/256 [03:41<01:34,  1.22s/it]"
     ]
    },
    {
     "name": "stderr",
     "output_type": "stream",
     "text": [
      "\r",
      " 70%|███████   | 180/256 [03:43<01:34,  1.25s/it]"
     ]
    },
    {
     "name": "stderr",
     "output_type": "stream",
     "text": [
      "\r",
      " 71%|███████   | 181/256 [03:44<01:31,  1.23s/it]"
     ]
    },
    {
     "name": "stderr",
     "output_type": "stream",
     "text": [
      "\r",
      " 71%|███████   | 182/256 [03:45<01:31,  1.23s/it]"
     ]
    },
    {
     "name": "stderr",
     "output_type": "stream",
     "text": [
      "\r",
      " 71%|███████▏  | 183/256 [03:46<01:26,  1.19s/it]"
     ]
    },
    {
     "name": "stderr",
     "output_type": "stream",
     "text": [
      "\r",
      " 72%|███████▏  | 184/256 [03:47<01:23,  1.16s/it]"
     ]
    },
    {
     "name": "stderr",
     "output_type": "stream",
     "text": [
      "\r",
      " 72%|███████▏  | 185/256 [03:48<01:18,  1.10s/it]"
     ]
    },
    {
     "name": "stderr",
     "output_type": "stream",
     "text": [
      "\r",
      " 73%|███████▎  | 186/256 [03:49<01:16,  1.09s/it]"
     ]
    },
    {
     "name": "stderr",
     "output_type": "stream",
     "text": [
      "\r",
      " 73%|███████▎  | 187/256 [03:51<01:15,  1.10s/it]"
     ]
    },
    {
     "name": "stderr",
     "output_type": "stream",
     "text": [
      "\r",
      " 73%|███████▎  | 188/256 [03:52<01:17,  1.15s/it]"
     ]
    },
    {
     "name": "stderr",
     "output_type": "stream",
     "text": [
      "\r",
      " 74%|███████▍  | 189/256 [03:53<01:26,  1.28s/it]"
     ]
    },
    {
     "name": "stderr",
     "output_type": "stream",
     "text": [
      "\r",
      " 74%|███████▍  | 190/256 [03:55<01:30,  1.37s/it]"
     ]
    },
    {
     "name": "stderr",
     "output_type": "stream",
     "text": [
      "\r",
      " 75%|███████▍  | 191/256 [03:56<01:30,  1.39s/it]"
     ]
    },
    {
     "name": "stderr",
     "output_type": "stream",
     "text": [
      "\r",
      " 75%|███████▌  | 192/256 [03:58<01:35,  1.49s/it]"
     ]
    },
    {
     "name": "stderr",
     "output_type": "stream",
     "text": [
      "\r",
      " 75%|███████▌  | 193/256 [03:59<01:24,  1.34s/it]"
     ]
    },
    {
     "name": "stderr",
     "output_type": "stream",
     "text": [
      "\r",
      " 76%|███████▌  | 194/256 [04:00<01:17,  1.25s/it]"
     ]
    },
    {
     "name": "stderr",
     "output_type": "stream",
     "text": [
      "\r",
      " 76%|███████▌  | 195/256 [04:01<01:16,  1.25s/it]"
     ]
    },
    {
     "name": "stderr",
     "output_type": "stream",
     "text": [
      "\r",
      " 77%|███████▋  | 196/256 [04:02<01:10,  1.18s/it]"
     ]
    },
    {
     "name": "stderr",
     "output_type": "stream",
     "text": [
      "\r",
      " 77%|███████▋  | 197/256 [04:03<01:05,  1.11s/it]"
     ]
    },
    {
     "name": "stderr",
     "output_type": "stream",
     "text": [
      "\r",
      " 77%|███████▋  | 198/256 [04:04<01:00,  1.05s/it]"
     ]
    },
    {
     "name": "stderr",
     "output_type": "stream",
     "text": [
      "\r",
      " 78%|███████▊  | 199/256 [04:05<00:59,  1.04s/it]"
     ]
    },
    {
     "name": "stderr",
     "output_type": "stream",
     "text": [
      "\r",
      " 78%|███████▊  | 200/256 [04:06<00:56,  1.01s/it]"
     ]
    },
    {
     "name": "stderr",
     "output_type": "stream",
     "text": [
      "\r",
      " 79%|███████▊  | 201/256 [04:07<00:56,  1.04s/it]"
     ]
    },
    {
     "name": "stderr",
     "output_type": "stream",
     "text": [
      "\r",
      " 79%|███████▉  | 202/256 [04:08<00:56,  1.04s/it]"
     ]
    },
    {
     "name": "stderr",
     "output_type": "stream",
     "text": [
      "\r",
      " 79%|███████▉  | 203/256 [04:09<00:56,  1.06s/it]"
     ]
    },
    {
     "name": "stderr",
     "output_type": "stream",
     "text": [
      "\r",
      " 80%|███████▉  | 204/256 [04:11<00:56,  1.08s/it]"
     ]
    },
    {
     "name": "stderr",
     "output_type": "stream",
     "text": [
      "\r",
      " 80%|████████  | 205/256 [04:11<00:51,  1.02s/it]"
     ]
    },
    {
     "name": "stderr",
     "output_type": "stream",
     "text": [
      "\r",
      " 80%|████████  | 206/256 [04:12<00:48,  1.03it/s]"
     ]
    },
    {
     "name": "stderr",
     "output_type": "stream",
     "text": [
      "\r",
      " 81%|████████  | 207/256 [04:13<00:45,  1.07it/s]"
     ]
    },
    {
     "name": "stderr",
     "output_type": "stream",
     "text": [
      "\r",
      " 81%|████████▏ | 208/256 [04:14<00:43,  1.10it/s]"
     ]
    },
    {
     "name": "stderr",
     "output_type": "stream",
     "text": [
      "\r",
      " 82%|████████▏ | 209/256 [04:15<00:45,  1.02it/s]"
     ]
    },
    {
     "name": "stderr",
     "output_type": "stream",
     "text": [
      "\r",
      " 82%|████████▏ | 210/256 [04:16<00:49,  1.07s/it]"
     ]
    },
    {
     "name": "stderr",
     "output_type": "stream",
     "text": [
      "\r",
      " 82%|████████▏ | 211/256 [04:18<00:51,  1.15s/it]"
     ]
    },
    {
     "name": "stderr",
     "output_type": "stream",
     "text": [
      "\r",
      " 83%|████████▎ | 212/256 [04:19<00:51,  1.17s/it]"
     ]
    },
    {
     "name": "stderr",
     "output_type": "stream",
     "text": [
      "\r",
      " 83%|████████▎ | 213/256 [04:20<00:51,  1.21s/it]"
     ]
    },
    {
     "name": "stderr",
     "output_type": "stream",
     "text": [
      "\r",
      " 84%|████████▎ | 214/256 [04:22<00:53,  1.28s/it]"
     ]
    },
    {
     "name": "stderr",
     "output_type": "stream",
     "text": [
      "\r",
      " 84%|████████▍ | 215/256 [04:23<00:51,  1.26s/it]"
     ]
    },
    {
     "name": "stderr",
     "output_type": "stream",
     "text": [
      "\r",
      " 84%|████████▍ | 216/256 [04:24<00:51,  1.29s/it]"
     ]
    },
    {
     "name": "stderr",
     "output_type": "stream",
     "text": [
      "\r",
      " 85%|████████▍ | 217/256 [04:26<00:50,  1.29s/it]"
     ]
    },
    {
     "name": "stderr",
     "output_type": "stream",
     "text": [
      "\r",
      " 85%|████████▌ | 218/256 [04:27<00:49,  1.30s/it]"
     ]
    },
    {
     "name": "stderr",
     "output_type": "stream",
     "text": [
      "\r",
      " 86%|████████▌ | 219/256 [04:28<00:49,  1.34s/it]"
     ]
    },
    {
     "name": "stderr",
     "output_type": "stream",
     "text": [
      "\r",
      " 86%|████████▌ | 220/256 [04:30<00:46,  1.31s/it]"
     ]
    },
    {
     "name": "stderr",
     "output_type": "stream",
     "text": [
      "\r",
      " 86%|████████▋ | 221/256 [04:30<00:41,  1.18s/it]"
     ]
    },
    {
     "name": "stderr",
     "output_type": "stream",
     "text": [
      "\r",
      " 87%|████████▋ | 222/256 [04:31<00:38,  1.13s/it]"
     ]
    },
    {
     "name": "stderr",
     "output_type": "stream",
     "text": [
      "\r",
      " 87%|████████▋ | 223/256 [04:32<00:36,  1.09s/it]"
     ]
    },
    {
     "name": "stderr",
     "output_type": "stream",
     "text": [
      "\r",
      " 88%|████████▊ | 224/256 [04:33<00:32,  1.02s/it]"
     ]
    },
    {
     "name": "stderr",
     "output_type": "stream",
     "text": [
      "\r",
      " 88%|████████▊ | 225/256 [04:34<00:32,  1.06s/it]"
     ]
    },
    {
     "name": "stderr",
     "output_type": "stream",
     "text": [
      "\r",
      " 88%|████████▊ | 226/256 [04:36<00:33,  1.12s/it]"
     ]
    },
    {
     "name": "stderr",
     "output_type": "stream",
     "text": [
      "\r",
      " 89%|████████▊ | 227/256 [04:37<00:33,  1.14s/it]"
     ]
    },
    {
     "name": "stderr",
     "output_type": "stream",
     "text": [
      "\r",
      " 89%|████████▉ | 228/256 [04:38<00:33,  1.18s/it]"
     ]
    },
    {
     "name": "stderr",
     "output_type": "stream",
     "text": [
      "\r",
      " 89%|████████▉ | 229/256 [04:40<00:33,  1.24s/it]"
     ]
    },
    {
     "name": "stderr",
     "output_type": "stream",
     "text": [
      "\r",
      " 90%|████████▉ | 230/256 [04:41<00:33,  1.30s/it]"
     ]
    },
    {
     "name": "stderr",
     "output_type": "stream",
     "text": [
      "\r",
      " 90%|█████████ | 231/256 [04:42<00:33,  1.32s/it]"
     ]
    },
    {
     "name": "stderr",
     "output_type": "stream",
     "text": [
      "\r",
      " 91%|█████████ | 232/256 [04:44<00:34,  1.46s/it]"
     ]
    },
    {
     "name": "stderr",
     "output_type": "stream",
     "text": [
      "\r",
      " 91%|█████████ | 233/256 [04:45<00:29,  1.29s/it]"
     ]
    },
    {
     "name": "stderr",
     "output_type": "stream",
     "text": [
      "\r",
      " 91%|█████████▏| 234/256 [04:46<00:25,  1.17s/it]"
     ]
    },
    {
     "name": "stderr",
     "output_type": "stream",
     "text": [
      "\r",
      " 92%|█████████▏| 235/256 [04:47<00:23,  1.13s/it]"
     ]
    },
    {
     "name": "stderr",
     "output_type": "stream",
     "text": [
      "\r",
      " 92%|█████████▏| 236/256 [04:48<00:21,  1.07s/it]"
     ]
    },
    {
     "name": "stderr",
     "output_type": "stream",
     "text": [
      "\r",
      " 93%|█████████▎| 237/256 [04:49<00:20,  1.06s/it]"
     ]
    },
    {
     "name": "stderr",
     "output_type": "stream",
     "text": [
      "\r",
      " 93%|█████████▎| 238/256 [04:50<00:18,  1.03s/it]"
     ]
    },
    {
     "name": "stderr",
     "output_type": "stream",
     "text": [
      "\r",
      " 93%|█████████▎| 239/256 [04:51<00:17,  1.00s/it]"
     ]
    },
    {
     "name": "stderr",
     "output_type": "stream",
     "text": [
      "\r",
      " 94%|█████████▍| 240/256 [04:52<00:16,  1.00s/it]"
     ]
    },
    {
     "name": "stderr",
     "output_type": "stream",
     "text": [
      "\r",
      " 94%|█████████▍| 241/256 [04:53<00:15,  1.04s/it]"
     ]
    },
    {
     "name": "stderr",
     "output_type": "stream",
     "text": [
      "\r",
      " 95%|█████████▍| 242/256 [04:54<00:14,  1.06s/it]"
     ]
    },
    {
     "name": "stderr",
     "output_type": "stream",
     "text": [
      "\r",
      " 95%|█████████▍| 243/256 [04:55<00:14,  1.10s/it]"
     ]
    },
    {
     "name": "stderr",
     "output_type": "stream",
     "text": [
      "\r",
      " 95%|█████████▌| 244/256 [04:57<00:13,  1.16s/it]"
     ]
    },
    {
     "name": "stderr",
     "output_type": "stream",
     "text": [
      "\r",
      " 96%|█████████▌| 245/256 [04:58<00:13,  1.18s/it]"
     ]
    },
    {
     "name": "stderr",
     "output_type": "stream",
     "text": [
      "\r",
      " 96%|█████████▌| 246/256 [04:59<00:11,  1.18s/it]"
     ]
    },
    {
     "name": "stderr",
     "output_type": "stream",
     "text": [
      "\r",
      " 96%|█████████▋| 247/256 [05:00<00:10,  1.13s/it]"
     ]
    },
    {
     "name": "stderr",
     "output_type": "stream",
     "text": [
      "\r",
      " 97%|█████████▋| 248/256 [05:01<00:09,  1.14s/it]"
     ]
    },
    {
     "name": "stderr",
     "output_type": "stream",
     "text": [
      "\r",
      " 97%|█████████▋| 249/256 [05:03<00:08,  1.20s/it]"
     ]
    },
    {
     "name": "stderr",
     "output_type": "stream",
     "text": [
      "\r",
      " 98%|█████████▊| 250/256 [05:04<00:07,  1.20s/it]"
     ]
    },
    {
     "name": "stderr",
     "output_type": "stream",
     "text": [
      "\r",
      " 98%|█████████▊| 251/256 [05:05<00:06,  1.21s/it]"
     ]
    },
    {
     "name": "stderr",
     "output_type": "stream",
     "text": [
      "\r",
      " 98%|█████████▊| 252/256 [05:06<00:04,  1.23s/it]"
     ]
    },
    {
     "name": "stderr",
     "output_type": "stream",
     "text": [
      "\r",
      " 99%|█████████▉| 253/256 [05:07<00:03,  1.15s/it]"
     ]
    },
    {
     "name": "stderr",
     "output_type": "stream",
     "text": [
      "\r",
      " 99%|█████████▉| 254/256 [05:08<00:02,  1.15s/it]"
     ]
    },
    {
     "name": "stderr",
     "output_type": "stream",
     "text": [
      "\r",
      "100%|█████████▉| 255/256 [05:09<00:01,  1.09s/it]"
     ]
    },
    {
     "name": "stderr",
     "output_type": "stream",
     "text": [
      "\r",
      "100%|██████████| 256/256 [05:10<00:00,  1.05s/it]"
     ]
    },
    {
     "name": "stderr",
     "output_type": "stream",
     "text": [
      "\r",
      "100%|██████████| 256/256 [05:10<00:00,  1.21s/it]"
     ]
    },
    {
     "name": "stderr",
     "output_type": "stream",
     "text": [
      "\n"
     ]
    }
   ],
   "source": [
    "deltas = get_deltas_v2(model_scGen, batchLevels=['cell_type','batch'])"
   ]
  },
  {
   "cell_type": "markdown",
   "id": "137fd474-7ecc-469a-8166-ba6c09528c60",
   "metadata": {
    "papermill": {
     "duration": 0.020894,
     "end_time": "2024-06-21T16:16:48.518483",
     "exception": false,
     "start_time": "2024-06-21T16:16:48.497589",
     "status": "completed"
    },
    "tags": []
   },
   "source": [
    "**Apply the learned deltas on the query data**"
   ]
  },
  {
   "cell_type": "code",
   "execution_count": 24,
   "id": "48d1470a-2dd3-43a0-bc78-966058996406",
   "metadata": {
    "execution": {
     "iopub.execute_input": "2024-06-21T16:16:48.562417Z",
     "iopub.status.busy": "2024-06-21T16:16:48.562178Z",
     "iopub.status.idle": "2024-06-21T16:18:46.102489Z",
     "shell.execute_reply": "2024-06-21T16:18:46.101797Z"
    },
    "papermill": {
     "duration": 117.564864,
     "end_time": "2024-06-21T16:18:46.104154",
     "exception": false,
     "start_time": "2024-06-21T16:16:48.539290",
     "status": "completed"
    },
    "tags": []
   },
   "outputs": [
    {
     "name": "stderr",
     "output_type": "stream",
     "text": [
      "\r",
      "  0%|          | 0/186 [00:00<?, ?it/s]"
     ]
    },
    {
     "name": "stderr",
     "output_type": "stream",
     "text": [
      "\r",
      "  1%|          | 1/186 [00:00<00:21,  8.60it/s]"
     ]
    },
    {
     "name": "stderr",
     "output_type": "stream",
     "text": [
      "\r",
      "  2%|▏         | 3/186 [00:00<00:14, 12.79it/s]"
     ]
    },
    {
     "name": "stderr",
     "output_type": "stream",
     "text": [
      "\r",
      "  3%|▎         | 5/186 [00:00<00:13, 13.10it/s]"
     ]
    },
    {
     "name": "stderr",
     "output_type": "stream",
     "text": [
      "\r",
      "  4%|▍         | 7/186 [00:00<00:13, 13.40it/s]"
     ]
    },
    {
     "name": "stderr",
     "output_type": "stream",
     "text": [
      "\r",
      "  5%|▍         | 9/186 [00:00<00:14, 12.48it/s]"
     ]
    },
    {
     "name": "stderr",
     "output_type": "stream",
     "text": [
      "\r",
      "  6%|▌         | 11/186 [00:00<00:12, 14.11it/s]"
     ]
    },
    {
     "name": "stderr",
     "output_type": "stream",
     "text": [
      "\r",
      "  7%|▋         | 13/186 [00:00<00:11, 14.60it/s]"
     ]
    },
    {
     "name": "stderr",
     "output_type": "stream",
     "text": [
      "\r",
      "  8%|▊         | 15/186 [00:01<00:12, 13.53it/s]"
     ]
    },
    {
     "name": "stderr",
     "output_type": "stream",
     "text": [
      "\r",
      "  9%|▉         | 17/186 [00:01<00:11, 14.51it/s]"
     ]
    },
    {
     "name": "stderr",
     "output_type": "stream",
     "text": [
      "\r",
      " 10%|█         | 19/186 [00:01<00:11, 15.16it/s]"
     ]
    },
    {
     "name": "stderr",
     "output_type": "stream",
     "text": [
      "\r",
      " 11%|█▏        | 21/186 [00:01<00:10, 15.53it/s]"
     ]
    },
    {
     "name": "stderr",
     "output_type": "stream",
     "text": [
      "\r",
      " 12%|█▏        | 23/186 [00:01<00:10, 15.39it/s]"
     ]
    },
    {
     "name": "stderr",
     "output_type": "stream",
     "text": [
      "\r",
      " 13%|█▎        | 25/186 [00:01<00:10, 16.04it/s]"
     ]
    },
    {
     "name": "stderr",
     "output_type": "stream",
     "text": [
      "\r",
      " 15%|█▍        | 27/186 [00:01<00:09, 15.94it/s]"
     ]
    },
    {
     "name": "stderr",
     "output_type": "stream",
     "text": [
      "\r",
      " 16%|█▌        | 29/186 [00:01<00:09, 16.74it/s]"
     ]
    },
    {
     "name": "stderr",
     "output_type": "stream",
     "text": [
      "\r",
      " 17%|█▋        | 31/186 [00:02<00:09, 16.67it/s]"
     ]
    },
    {
     "name": "stderr",
     "output_type": "stream",
     "text": [
      "\r",
      " 18%|█▊        | 33/186 [00:02<00:09, 16.92it/s]"
     ]
    },
    {
     "name": "stderr",
     "output_type": "stream",
     "text": [
      "\r",
      " 19%|█▉        | 35/186 [00:02<00:08, 17.31it/s]"
     ]
    },
    {
     "name": "stderr",
     "output_type": "stream",
     "text": [
      "\r",
      " 20%|█▉        | 37/186 [00:02<00:08, 16.58it/s]"
     ]
    },
    {
     "name": "stderr",
     "output_type": "stream",
     "text": [
      "\r",
      " 21%|██        | 39/186 [00:02<00:08, 16.70it/s]"
     ]
    },
    {
     "name": "stderr",
     "output_type": "stream",
     "text": [
      "\r",
      " 23%|██▎       | 42/186 [00:02<00:08, 17.09it/s]"
     ]
    },
    {
     "name": "stderr",
     "output_type": "stream",
     "text": [
      "\r",
      " 24%|██▎       | 44/186 [00:02<00:08, 16.55it/s]"
     ]
    },
    {
     "name": "stderr",
     "output_type": "stream",
     "text": [
      "\r",
      " 25%|██▍       | 46/186 [00:02<00:08, 16.57it/s]"
     ]
    },
    {
     "name": "stderr",
     "output_type": "stream",
     "text": [
      "\r",
      " 26%|██▌       | 48/186 [00:03<00:08, 16.74it/s]"
     ]
    },
    {
     "name": "stderr",
     "output_type": "stream",
     "text": [
      "\r",
      " 27%|██▋       | 50/186 [00:03<00:08, 15.47it/s]"
     ]
    },
    {
     "name": "stderr",
     "output_type": "stream",
     "text": [
      "\r",
      " 28%|██▊       | 52/186 [00:03<00:09, 13.84it/s]"
     ]
    },
    {
     "name": "stderr",
     "output_type": "stream",
     "text": [
      "\r",
      " 29%|██▉       | 54/186 [00:03<00:11, 11.66it/s]"
     ]
    },
    {
     "name": "stderr",
     "output_type": "stream",
     "text": [
      "\r",
      " 30%|███       | 56/186 [00:03<00:10, 12.49it/s]"
     ]
    },
    {
     "name": "stderr",
     "output_type": "stream",
     "text": [
      "\r",
      " 31%|███       | 58/186 [00:03<00:10, 12.48it/s]"
     ]
    },
    {
     "name": "stderr",
     "output_type": "stream",
     "text": [
      "\r",
      " 32%|███▏      | 60/186 [00:04<00:10, 12.47it/s]"
     ]
    },
    {
     "name": "stderr",
     "output_type": "stream",
     "text": [
      "\r",
      " 33%|███▎      | 62/186 [00:04<00:09, 12.43it/s]"
     ]
    },
    {
     "name": "stderr",
     "output_type": "stream",
     "text": [
      "\r",
      " 34%|███▍      | 64/186 [00:04<00:08, 13.67it/s]"
     ]
    },
    {
     "name": "stderr",
     "output_type": "stream",
     "text": [
      "\r",
      " 35%|███▌      | 66/186 [00:04<00:08, 14.29it/s]"
     ]
    },
    {
     "name": "stderr",
     "output_type": "stream",
     "text": [
      "\r",
      " 37%|███▋      | 68/186 [00:04<00:08, 14.44it/s]"
     ]
    },
    {
     "name": "stderr",
     "output_type": "stream",
     "text": [
      "\r",
      " 38%|███▊      | 70/186 [00:04<00:07, 14.98it/s]"
     ]
    },
    {
     "name": "stderr",
     "output_type": "stream",
     "text": [
      "\r",
      " 39%|███▊      | 72/186 [00:04<00:07, 15.18it/s]"
     ]
    },
    {
     "name": "stderr",
     "output_type": "stream",
     "text": [
      "\r",
      " 40%|███▉      | 74/186 [00:05<00:07, 15.80it/s]"
     ]
    },
    {
     "name": "stderr",
     "output_type": "stream",
     "text": [
      "\r",
      " 41%|████      | 76/186 [00:05<00:07, 14.68it/s]"
     ]
    },
    {
     "name": "stderr",
     "output_type": "stream",
     "text": [
      "\r",
      " 42%|████▏     | 78/186 [00:05<00:06, 15.49it/s]"
     ]
    },
    {
     "name": "stderr",
     "output_type": "stream",
     "text": [
      "\r",
      " 43%|████▎     | 80/186 [00:05<00:07, 14.95it/s]"
     ]
    },
    {
     "name": "stderr",
     "output_type": "stream",
     "text": [
      "\r",
      " 44%|████▍     | 82/186 [00:05<00:07, 13.23it/s]"
     ]
    },
    {
     "name": "stderr",
     "output_type": "stream",
     "text": [
      "\r",
      " 45%|████▌     | 84/186 [00:05<00:07, 13.86it/s]"
     ]
    },
    {
     "name": "stderr",
     "output_type": "stream",
     "text": [
      "\r",
      " 46%|████▌     | 86/186 [00:05<00:07, 14.10it/s]"
     ]
    },
    {
     "name": "stderr",
     "output_type": "stream",
     "text": [
      "\r",
      " 47%|████▋     | 88/186 [00:06<00:06, 14.64it/s]"
     ]
    },
    {
     "name": "stderr",
     "output_type": "stream",
     "text": [
      "\r",
      " 48%|████▊     | 90/186 [00:06<00:06, 15.30it/s]"
     ]
    },
    {
     "name": "stderr",
     "output_type": "stream",
     "text": [
      "\r",
      " 49%|████▉     | 92/186 [00:06<00:05, 15.73it/s]"
     ]
    },
    {
     "name": "stderr",
     "output_type": "stream",
     "text": [
      "\r",
      " 51%|█████     | 94/186 [00:06<00:06, 15.17it/s]"
     ]
    },
    {
     "name": "stderr",
     "output_type": "stream",
     "text": [
      "\r",
      " 52%|█████▏    | 96/186 [00:06<00:05, 15.13it/s]"
     ]
    },
    {
     "name": "stderr",
     "output_type": "stream",
     "text": [
      "\r",
      " 53%|█████▎    | 98/186 [00:06<00:05, 15.33it/s]"
     ]
    },
    {
     "name": "stderr",
     "output_type": "stream",
     "text": [
      "\r",
      " 54%|█████▍    | 100/186 [00:06<00:05, 16.42it/s]"
     ]
    },
    {
     "name": "stderr",
     "output_type": "stream",
     "text": [
      "\r",
      " 55%|█████▍    | 102/186 [00:06<00:05, 15.10it/s]"
     ]
    },
    {
     "name": "stderr",
     "output_type": "stream",
     "text": [
      "\r",
      " 56%|█████▌    | 104/186 [00:07<00:05, 14.96it/s]"
     ]
    },
    {
     "name": "stderr",
     "output_type": "stream",
     "text": [
      "\r",
      " 57%|█████▋    | 106/186 [00:07<00:05, 14.59it/s]"
     ]
    },
    {
     "name": "stderr",
     "output_type": "stream",
     "text": [
      "\r",
      " 58%|█████▊    | 108/186 [00:07<00:05, 13.33it/s]"
     ]
    },
    {
     "name": "stderr",
     "output_type": "stream",
     "text": [
      "\r",
      " 59%|█████▉    | 110/186 [00:07<00:05, 13.59it/s]"
     ]
    },
    {
     "name": "stderr",
     "output_type": "stream",
     "text": [
      "\r",
      " 60%|██████    | 112/186 [00:07<00:05, 13.38it/s]"
     ]
    },
    {
     "name": "stderr",
     "output_type": "stream",
     "text": [
      "\r",
      " 61%|██████▏   | 114/186 [00:08<00:07,  9.70it/s]"
     ]
    },
    {
     "name": "stderr",
     "output_type": "stream",
     "text": [
      "\r",
      " 62%|██████▏   | 116/186 [00:08<00:06, 10.25it/s]"
     ]
    },
    {
     "name": "stderr",
     "output_type": "stream",
     "text": [
      "\r",
      " 63%|██████▎   | 118/186 [00:08<00:05, 11.52it/s]"
     ]
    },
    {
     "name": "stderr",
     "output_type": "stream",
     "text": [
      "\r",
      " 65%|██████▍   | 120/186 [00:08<00:05, 11.76it/s]"
     ]
    },
    {
     "name": "stderr",
     "output_type": "stream",
     "text": [
      "\r",
      " 66%|██████▌   | 122/186 [00:08<00:04, 12.83it/s]"
     ]
    },
    {
     "name": "stderr",
     "output_type": "stream",
     "text": [
      "\r",
      " 67%|██████▋   | 124/186 [00:08<00:04, 13.14it/s]"
     ]
    },
    {
     "name": "stderr",
     "output_type": "stream",
     "text": [
      "\r",
      " 68%|██████▊   | 126/186 [00:08<00:04, 13.36it/s]"
     ]
    },
    {
     "name": "stderr",
     "output_type": "stream",
     "text": [
      "\r",
      " 69%|██████▉   | 128/186 [00:09<00:04, 13.58it/s]"
     ]
    },
    {
     "name": "stderr",
     "output_type": "stream",
     "text": [
      "\r",
      " 70%|██████▉   | 130/186 [00:09<00:04, 13.65it/s]"
     ]
    },
    {
     "name": "stderr",
     "output_type": "stream",
     "text": [
      "\r",
      " 71%|███████   | 132/186 [00:09<00:03, 13.66it/s]"
     ]
    },
    {
     "name": "stderr",
     "output_type": "stream",
     "text": [
      "\r",
      " 72%|███████▏  | 134/186 [00:09<00:03, 14.22it/s]"
     ]
    },
    {
     "name": "stderr",
     "output_type": "stream",
     "text": [
      "\r",
      " 73%|███████▎  | 136/186 [00:09<00:03, 14.60it/s]"
     ]
    },
    {
     "name": "stderr",
     "output_type": "stream",
     "text": [
      "\r",
      " 74%|███████▍  | 138/186 [00:09<00:03, 13.88it/s]"
     ]
    },
    {
     "name": "stderr",
     "output_type": "stream",
     "text": [
      "\r",
      " 75%|███████▌  | 140/186 [00:09<00:03, 14.17it/s]"
     ]
    },
    {
     "name": "stderr",
     "output_type": "stream",
     "text": [
      "\r",
      " 76%|███████▋  | 142/186 [00:09<00:03, 14.51it/s]"
     ]
    },
    {
     "name": "stderr",
     "output_type": "stream",
     "text": [
      "\r",
      " 77%|███████▋  | 144/186 [00:10<00:02, 14.61it/s]"
     ]
    },
    {
     "name": "stderr",
     "output_type": "stream",
     "text": [
      "\r",
      " 78%|███████▊  | 146/186 [00:10<00:02, 15.24it/s]"
     ]
    },
    {
     "name": "stderr",
     "output_type": "stream",
     "text": [
      "\r",
      " 80%|███████▉  | 148/186 [00:10<00:02, 15.68it/s]"
     ]
    },
    {
     "name": "stderr",
     "output_type": "stream",
     "text": [
      "\r",
      " 81%|████████  | 150/186 [00:10<00:02, 16.33it/s]"
     ]
    },
    {
     "name": "stderr",
     "output_type": "stream",
     "text": [
      "\r",
      " 82%|████████▏ | 152/186 [00:10<00:02, 15.62it/s]"
     ]
    },
    {
     "name": "stderr",
     "output_type": "stream",
     "text": [
      "\r",
      " 83%|████████▎ | 154/186 [00:10<00:02, 15.90it/s]"
     ]
    },
    {
     "name": "stderr",
     "output_type": "stream",
     "text": [
      "\r",
      " 84%|████████▍ | 156/186 [00:10<00:02, 14.87it/s]"
     ]
    },
    {
     "name": "stderr",
     "output_type": "stream",
     "text": [
      "\r",
      " 85%|████████▍ | 158/186 [00:11<00:01, 14.32it/s]"
     ]
    },
    {
     "name": "stderr",
     "output_type": "stream",
     "text": [
      "\r",
      " 86%|████████▌ | 160/186 [00:11<00:01, 14.95it/s]"
     ]
    },
    {
     "name": "stderr",
     "output_type": "stream",
     "text": [
      "\r",
      " 87%|████████▋ | 162/186 [00:11<00:01, 15.77it/s]"
     ]
    },
    {
     "name": "stderr",
     "output_type": "stream",
     "text": [
      "\r",
      " 88%|████████▊ | 164/186 [00:11<00:01, 16.44it/s]"
     ]
    },
    {
     "name": "stderr",
     "output_type": "stream",
     "text": [
      "\r",
      " 89%|████████▉ | 166/186 [00:11<00:01, 16.88it/s]"
     ]
    },
    {
     "name": "stderr",
     "output_type": "stream",
     "text": [
      "\r",
      " 90%|█████████ | 168/186 [00:11<00:01, 16.57it/s]"
     ]
    },
    {
     "name": "stderr",
     "output_type": "stream",
     "text": [
      "\r",
      " 91%|█████████▏| 170/186 [00:11<00:00, 16.92it/s]"
     ]
    },
    {
     "name": "stderr",
     "output_type": "stream",
     "text": [
      "\r",
      " 92%|█████████▏| 172/186 [00:11<00:00, 16.55it/s]"
     ]
    },
    {
     "name": "stderr",
     "output_type": "stream",
     "text": [
      "\r",
      " 94%|█████████▎| 174/186 [00:11<00:00, 16.85it/s]"
     ]
    },
    {
     "name": "stderr",
     "output_type": "stream",
     "text": [
      "\r",
      " 95%|█████████▍| 176/186 [00:12<00:00, 15.81it/s]"
     ]
    },
    {
     "name": "stderr",
     "output_type": "stream",
     "text": [
      "\r",
      " 96%|█████████▌| 178/186 [00:12<00:00, 16.66it/s]"
     ]
    },
    {
     "name": "stderr",
     "output_type": "stream",
     "text": [
      "\r",
      " 97%|█████████▋| 180/186 [00:12<00:00, 17.03it/s]"
     ]
    },
    {
     "name": "stderr",
     "output_type": "stream",
     "text": [
      "\r",
      " 98%|█████████▊| 182/186 [00:12<00:00, 16.36it/s]"
     ]
    },
    {
     "name": "stderr",
     "output_type": "stream",
     "text": [
      "\r",
      " 99%|█████████▉| 184/186 [00:12<00:00, 16.76it/s]"
     ]
    },
    {
     "name": "stderr",
     "output_type": "stream",
     "text": [
      "\r",
      "100%|██████████| 186/186 [00:12<00:00, 16.44it/s]"
     ]
    },
    {
     "name": "stderr",
     "output_type": "stream",
     "text": [
      "\r",
      "100%|██████████| 186/186 [00:12<00:00, 14.65it/s]"
     ]
    },
    {
     "name": "stderr",
     "output_type": "stream",
     "text": [
      "\n"
     ]
    },
    {
     "name": "stdout",
     "output_type": "stream",
     "text": [
      "\u001b[34mINFO    \u001b[0m Input AnnData not setup with scvi-tools. attempting to transfer AnnData setup                             \n"
     ]
    }
   ],
   "source": [
    "adataQ.obs['cell_type'] = adataQ.obs[f'{annotation}_pred']\n",
    "adataQcorr = batch_removal_v2(model_scGen, adata=adataQ, deltas=deltas, batchLevels=['cell_type','batch'])"
   ]
  },
  {
   "cell_type": "code",
   "execution_count": 25,
   "id": "eea8c8fb-843e-4771-b7bd-c71605c3c968",
   "metadata": {
    "execution": {
     "iopub.execute_input": "2024-06-21T16:18:46.160156Z",
     "iopub.status.busy": "2024-06-21T16:18:46.159901Z",
     "iopub.status.idle": "2024-06-21T16:18:47.253277Z",
     "shell.execute_reply": "2024-06-21T16:18:47.252774Z"
    },
    "papermill": {
     "duration": 1.122059,
     "end_time": "2024-06-21T16:18:47.254939",
     "exception": false,
     "start_time": "2024-06-21T16:18:46.132880",
     "status": "completed"
    },
    "tags": []
   },
   "outputs": [],
   "source": [
    "pseudobulkQUERY = aggregating_features(Z=adataQcorr.obsm['corrected_latent'], \n",
    "                     min_observation=0, \n",
    "                     obsDF=adataQcorr.obs[['sampleID','disease','Level1_pred','batch','studyID']], obs_names_col = ['sampleID','Level1_pred'])"
   ]
  },
  {
   "cell_type": "code",
   "execution_count": 26,
   "id": "6f334c7e-0938-4954-a389-77bf7a276bea",
   "metadata": {
    "execution": {
     "iopub.execute_input": "2024-06-21T16:18:47.307879Z",
     "iopub.status.busy": "2024-06-21T16:18:47.307504Z",
     "iopub.status.idle": "2024-06-21T16:18:47.409127Z",
     "shell.execute_reply": "2024-06-21T16:18:47.408655Z"
    },
    "papermill": {
     "duration": 0.128748,
     "end_time": "2024-06-21T16:18:47.410822",
     "exception": false,
     "start_time": "2024-06-21T16:18:47.282074",
     "status": "completed"
    },
    "tags": []
   },
   "outputs": [],
   "source": [
    "pseudobulkQUERY.write(here(f\"03_downstream_analysis/08_PatientClassifier/scGen/results/02_{dataset}_scGenIntegrated_PSEUDOBULK_{n_latent}nLT_{batch}_{annotation}\"), compression = 'gzip')"
   ]
  },
  {
   "cell_type": "markdown",
   "id": "0ae1fc6f-ec95-4853-9f64-1c1ae2b98c36",
   "metadata": {
    "papermill": {
     "duration": 0.024833,
     "end_time": "2024-06-21T16:18:47.461740",
     "exception": false,
     "start_time": "2024-06-21T16:18:47.436907",
     "status": "completed"
    },
    "tags": []
   },
   "source": [
    "## Test one classifier"
   ]
  },
  {
   "cell_type": "markdown",
   "id": "3e0b1a3d-4f1e-4976-bc65-c1e682cc8683",
   "metadata": {
    "execution": {
     "iopub.execute_input": "2024-06-14T13:18:33.857967Z",
     "iopub.status.busy": "2024-06-14T13:18:33.857610Z",
     "iopub.status.idle": "2024-06-14T13:18:34.368629Z",
     "shell.execute_reply": "2024-06-14T13:18:34.367905Z",
     "shell.execute_reply.started": "2024-06-14T13:18:33.857947Z"
    },
    "papermill": {
     "duration": 0.024732,
     "end_time": "2024-06-21T16:18:47.511437",
     "exception": false,
     "start_time": "2024-06-21T16:18:47.486705",
     "status": "completed"
    },
    "tags": []
   },
   "source": [
    "**Remove unwanted cell-types**"
   ]
  },
  {
   "cell_type": "code",
   "execution_count": 27,
   "id": "27d83577-8d35-4b3c-9d35-cb22a3b9840a",
   "metadata": {
    "execution": {
     "iopub.execute_input": "2024-06-21T16:18:47.561809Z",
     "iopub.status.busy": "2024-06-21T16:18:47.561370Z",
     "iopub.status.idle": "2024-06-21T16:18:47.622555Z",
     "shell.execute_reply": "2024-06-21T16:18:47.622080Z"
    },
    "papermill": {
     "duration": 0.087972,
     "end_time": "2024-06-21T16:18:47.624131",
     "exception": false,
     "start_time": "2024-06-21T16:18:47.536159",
     "status": "completed"
    },
    "tags": []
   },
   "outputs": [],
   "source": [
    "pseudobulkTRAINfilt = pseudobulkTRAIN[~pseudobulkTRAIN.obs.Level1.isin(['Cycling_cells','RBC','Progenitors','Platelets'])]\n",
    "pseudobulkQUERYfilt = pseudobulkQUERY[~pseudobulkQUERY.obs.Level1_pred.isin(['Cycling_cells','RBC','Progenitors','Platelets'])]"
   ]
  },
  {
   "cell_type": "markdown",
   "id": "7d78fe98-a735-4ef2-b9e6-34a01206c640",
   "metadata": {
    "papermill": {
     "duration": 0.025052,
     "end_time": "2024-06-21T16:18:47.675707",
     "exception": false,
     "start_time": "2024-06-21T16:18:47.650655",
     "status": "completed"
    },
    "tags": []
   },
   "source": [
    "Here, we try to classify patient with a kNN classifier. The proper patient classification will be performend in a dedicated notebook. Thus, the following won't be the final results"
   ]
  },
  {
   "cell_type": "code",
   "execution_count": 28,
   "id": "3653c325-0d7d-4207-86cc-ebf82cbaf557",
   "metadata": {
    "execution": {
     "iopub.execute_input": "2024-06-21T16:18:47.725918Z",
     "iopub.status.busy": "2024-06-21T16:18:47.725443Z",
     "iopub.status.idle": "2024-06-21T16:18:48.579377Z",
     "shell.execute_reply": "2024-06-21T16:18:48.578783Z"
    },
    "papermill": {
     "duration": 0.880215,
     "end_time": "2024-06-21T16:18:48.580550",
     "exception": false,
     "start_time": "2024-06-21T16:18:47.700335",
     "status": "completed"
    },
    "tags": []
   },
   "outputs": [
    {
     "name": "stderr",
     "output_type": "stream",
     "text": [
      "\r",
      "  0%|          | 0/11 [00:00<?, ?it/s]"
     ]
    },
    {
     "name": "stderr",
     "output_type": "stream",
     "text": [
      "\r",
      "  9%|▉         | 1/11 [00:00<00:01,  6.17it/s]"
     ]
    },
    {
     "name": "stderr",
     "output_type": "stream",
     "text": [
      "\r",
      " 27%|██▋       | 3/11 [00:00<00:00, 11.32it/s]"
     ]
    },
    {
     "name": "stderr",
     "output_type": "stream",
     "text": [
      "\r",
      " 45%|████▌     | 5/11 [00:00<00:00, 13.41it/s]"
     ]
    },
    {
     "name": "stderr",
     "output_type": "stream",
     "text": [
      "\r",
      " 64%|██████▎   | 7/11 [00:00<00:00, 14.00it/s]"
     ]
    },
    {
     "name": "stderr",
     "output_type": "stream",
     "text": [
      "\r",
      " 82%|████████▏ | 9/11 [00:00<00:00, 14.61it/s]"
     ]
    },
    {
     "name": "stderr",
     "output_type": "stream",
     "text": [
      "\r",
      "100%|██████████| 11/11 [00:00<00:00, 15.56it/s]"
     ]
    },
    {
     "name": "stderr",
     "output_type": "stream",
     "text": [
      "\r",
      "100%|██████████| 11/11 [00:00<00:00, 14.01it/s]"
     ]
    },
    {
     "name": "stderr",
     "output_type": "stream",
     "text": [
      "\n"
     ]
    },
    {
     "data": {
      "text/plain": [
       "{'B': {'clf': KNeighborsClassifier(metric='cosine', n_jobs=-1, n_neighbors=2),\n",
       "  'bAcc': 0.9155308820866095,\n",
       "  'nObs': 814},\n",
       " 'DC': {'clf': KNeighborsClassifier(metric='cosine', n_jobs=-1, n_neighbors=2),\n",
       "  'bAcc': 0.8926857929829801,\n",
       "  'nObs': 801},\n",
       " 'ILC': {'clf': KNeighborsClassifier(metric='cosine', n_jobs=-1, n_neighbors=2),\n",
       "  'bAcc': 0.9290634876819087,\n",
       "  'nObs': 817},\n",
       " 'Mono': {'clf': KNeighborsClassifier(metric='cosine', n_jobs=-1, n_neighbors=2),\n",
       "  'bAcc': 0.87828750721727,\n",
       "  'nObs': 817},\n",
       " 'Plasma': {'clf': KNeighborsClassifier(metric='cosine', n_jobs=-1, n_neighbors=2),\n",
       "  'bAcc': 0.8103834465100246,\n",
       "  'nObs': 727},\n",
       " 'T_CD4_Naive': {'clf': KNeighborsClassifier(metric='cosine', n_jobs=-1, n_neighbors=2),\n",
       "  'bAcc': 0.9182849156204419,\n",
       "  'nObs': 814},\n",
       " 'T_CD4_NonNaive': {'clf': KNeighborsClassifier(metric='cosine', n_jobs=-1, n_neighbors=2),\n",
       "  'bAcc': 0.9066616409708244,\n",
       "  'nObs': 816},\n",
       " 'T_CD8_Naive': {'clf': KNeighborsClassifier(metric='cosine', n_jobs=-1, n_neighbors=2),\n",
       "  'bAcc': 0.9003748016116437,\n",
       "  'nObs': 805},\n",
       " 'T_CD8_NonNaive': {'clf': KNeighborsClassifier(metric='cosine', n_jobs=-1, n_neighbors=2),\n",
       "  'bAcc': 0.9054775217506871,\n",
       "  'nObs': 817},\n",
       " 'UTC': {'clf': KNeighborsClassifier(metric='cosine', n_jobs=-1, n_neighbors=2),\n",
       "  'bAcc': 0.8726016640510738,\n",
       "  'nObs': 813},\n",
       " 'pDC': {'clf': KNeighborsClassifier(metric='cosine', n_jobs=-1, n_neighbors=2),\n",
       "  'bAcc': 0.8995199331086997,\n",
       "  'nObs': 775}}"
      ]
     },
     "execution_count": 28,
     "metadata": {},
     "output_type": "execute_result"
    }
   ],
   "source": [
    "clfList = train_patient_classifier(adataTrain = pseudobulkTRAINfilt, cell_type_col = 'Level1', y_true_col = 'disease', max_iter=-1, random_state = 25, model = 'KNeighborsClassifier', \n",
    "                           kargs_model={'n_neighbors':2, 'weights':'uniform', 'metric':'cosine','n_jobs':-1})\n",
    "clfList"
   ]
  },
  {
   "cell_type": "markdown",
   "id": "87b89384-c9c3-4f45-ab2f-15307875ba0a",
   "metadata": {
    "papermill": {
     "duration": 0.026889,
     "end_time": "2024-06-21T16:18:48.636575",
     "exception": false,
     "start_time": "2024-06-21T16:18:48.609686",
     "status": "completed"
    },
    "tags": []
   },
   "source": [
    "### Predicting diseases"
   ]
  },
  {
   "cell_type": "code",
   "execution_count": 29,
   "id": "39befc29-3613-4abc-adeb-bfee66e08dea",
   "metadata": {
    "execution": {
     "iopub.execute_input": "2024-06-21T16:18:48.688527Z",
     "iopub.status.busy": "2024-06-21T16:18:48.687884Z",
     "iopub.status.idle": "2024-06-21T16:18:49.172228Z",
     "shell.execute_reply": "2024-06-21T16:18:49.171616Z"
    },
    "papermill": {
     "duration": 0.51117,
     "end_time": "2024-06-21T16:18:49.173343",
     "exception": false,
     "start_time": "2024-06-21T16:18:48.662173",
     "status": "completed"
    },
    "tags": []
   },
   "outputs": [
    {
     "name": "stderr",
     "output_type": "stream",
     "text": [
      "\r",
      "  0%|          | 0/11 [00:00<?, ?it/s]"
     ]
    },
    {
     "name": "stderr",
     "output_type": "stream",
     "text": [
      "\r",
      " 36%|███▋      | 4/11 [00:00<00:00, 39.12it/s]"
     ]
    },
    {
     "name": "stderr",
     "output_type": "stream",
     "text": [
      "\r",
      " 73%|███████▎  | 8/11 [00:00<00:00, 36.93it/s]"
     ]
    },
    {
     "name": "stderr",
     "output_type": "stream",
     "text": [
      "\r",
      "100%|██████████| 11/11 [00:00<00:00, 36.35it/s]"
     ]
    },
    {
     "name": "stderr",
     "output_type": "stream",
     "text": [
      "\n"
     ]
    },
    {
     "name": "stderr",
     "output_type": "stream",
     "text": [
      "\r",
      "  0%|          | 0/86 [00:00<?, ?it/s]"
     ]
    },
    {
     "name": "stderr",
     "output_type": "stream",
     "text": [
      "\r",
      " 87%|████████▋ | 75/86 [00:00<00:00, 749.45it/s]"
     ]
    },
    {
     "name": "stderr",
     "output_type": "stream",
     "text": [
      "\r",
      "100%|██████████| 86/86 [00:00<00:00, 747.45it/s]"
     ]
    },
    {
     "name": "stderr",
     "output_type": "stream",
     "text": [
      "\n"
     ]
    }
   ],
   "source": [
    "classificationDF = vote_patient_disease(adataTest = pseudobulkQUERYfilt, \n",
    "                                clfList = clfList, \n",
    "                                sample_id_col = 'sampleID',\n",
    "                                cell_type_col = 'Level1_pred')\n"
   ]
  },
  {
   "cell_type": "code",
   "execution_count": 30,
   "id": "a731fec9-92f4-4b14-b374-ad2bec4d4f13",
   "metadata": {
    "execution": {
     "iopub.execute_input": "2024-06-21T16:18:49.228662Z",
     "iopub.status.busy": "2024-06-21T16:18:49.228117Z",
     "iopub.status.idle": "2024-06-21T16:18:49.290222Z",
     "shell.execute_reply": "2024-06-21T16:18:49.289522Z"
    },
    "papermill": {
     "duration": 0.089908,
     "end_time": "2024-06-21T16:18:49.291244",
     "exception": false,
     "start_time": "2024-06-21T16:18:49.201336",
     "status": "completed"
    },
    "tags": []
   },
   "outputs": [],
   "source": [
    "res = classificationDF.merge(pseudobulkQUERY.obs[['sampleID', 'disease']].drop_duplicates(), how = 'left', on = 'sampleID').set_index('sampleID')"
   ]
  },
  {
   "cell_type": "code",
   "execution_count": 31,
   "id": "00fff243-e3d9-436c-b369-b7d4d29a13bf",
   "metadata": {
    "execution": {
     "iopub.execute_input": "2024-06-21T16:18:49.344378Z",
     "iopub.status.busy": "2024-06-21T16:18:49.343894Z",
     "iopub.status.idle": "2024-06-21T16:18:49.403329Z",
     "shell.execute_reply": "2024-06-21T16:18:49.402780Z"
    },
    "papermill": {
     "duration": 0.086682,
     "end_time": "2024-06-21T16:18:49.404280",
     "exception": false,
     "start_time": "2024-06-21T16:18:49.317598",
     "status": "completed"
    },
    "tags": []
   },
   "outputs": [
    {
     "data": {
      "text/plain": [
       "0.059283088235294115"
      ]
     },
     "execution_count": 31,
     "metadata": {},
     "output_type": "execute_result"
    }
   ],
   "source": [
    "balanced_accuracy_score(y_true = res.disease, y_pred=res.firstChoice)"
   ]
  },
  {
   "cell_type": "markdown",
   "id": "7ba69e7c-b39d-4fdb-9dfb-78dd04209a9b",
   "metadata": {
    "papermill": {
     "duration": 0.026915,
     "end_time": "2024-06-21T16:18:49.457633",
     "exception": false,
     "start_time": "2024-06-21T16:18:49.430718",
     "status": "completed"
    },
    "tags": []
   },
   "source": [
    "## Saving adata corrected objects"
   ]
  },
  {
   "cell_type": "code",
   "execution_count": 32,
   "id": "26215be0-4d1c-41e6-aba5-1dc52b9630bd",
   "metadata": {
    "execution": {
     "iopub.execute_input": "2024-06-21T16:18:49.510275Z",
     "iopub.status.busy": "2024-06-21T16:18:49.509698Z",
     "iopub.status.idle": "2024-06-21T16:18:49.569548Z",
     "shell.execute_reply": "2024-06-21T16:18:49.568977Z"
    },
    "papermill": {
     "duration": 0.087265,
     "end_time": "2024-06-21T16:18:49.570656",
     "exception": false,
     "start_time": "2024-06-21T16:18:49.483391",
     "status": "completed"
    },
    "tags": []
   },
   "outputs": [
    {
     "name": "stdout",
     "output_type": "stream",
     "text": [
      "File already saved\n"
     ]
    }
   ],
   "source": [
    "outputFilePath = here(f\"03_downstream_analysis/08_PatientClassifier/scGen/results/02_MAIN_scGenCorrected_{n_latent}nLT_{batch}_{annotation}.h5ad\")\n",
    "if os.path.isfile(outputFilePath):\n",
    "    print(\"File already saved\")\n",
    "else:\n",
    "    adata_scGen.write(outputFilePath, compression='gzip')"
   ]
  },
  {
   "cell_type": "code",
   "execution_count": 33,
   "id": "c6f8ae7e-e7b2-40ba-b4f4-44dfc54164b6",
   "metadata": {
    "execution": {
     "iopub.execute_input": "2024-06-21T16:18:49.623615Z",
     "iopub.status.busy": "2024-06-21T16:18:49.623255Z",
     "iopub.status.idle": "2024-06-21T16:32:21.028603Z",
     "shell.execute_reply": "2024-06-21T16:32:21.018188Z"
    },
    "papermill": {
     "duration": 811.433542,
     "end_time": "2024-06-21T16:32:21.030380",
     "exception": false,
     "start_time": "2024-06-21T16:18:49.596838",
     "status": "completed"
    },
    "tags": []
   },
   "outputs": [],
   "source": [
    "adataQcorr.write(here(f\"03_downstream_analysis/08_PatientClassifier/scGen/results/02_{dataset}_scGenCorrected_{n_latent}nLT_{batch}_{annotation}.h5ad\"), \n",
    "                 compression='gzip')"
   ]
  }
 ],
 "metadata": {
  "kernelspec": {
   "display_name": "Python 3 (ipykernel)",
   "language": "python",
   "name": "python3"
  },
  "language_info": {
   "codemirror_mode": {
    "name": "ipython",
    "version": 3
   },
   "file_extension": ".py",
   "mimetype": "text/x-python",
   "name": "python",
   "nbconvert_exporter": "python",
   "pygments_lexer": "ipython3",
   "version": "3.9.19"
  },
  "papermill": {
   "default_parameters": {},
   "duration": 4694.193956,
   "end_time": "2024-06-21T16:32:31.356033",
   "environment_variables": {},
   "exception": null,
   "input_path": "02_scGen_querying_datasets_labelTransfer.ipynb",
   "output_path": "executed_notebooks/02_scGen_querying_datasets_labelTransfe_EXTERNAL_nLT100_Batch_chemistry_Level2.ipynb",
   "parameters": {
    "annotation": "Level2",
    "batch": "chemistry",
    "dataset": "EXTERNAL",
    "n_latent": 100
   },
   "start_time": "2024-06-21T15:14:17.162077",
   "version": "2.5.0"
  }
 },
 "nbformat": 4,
 "nbformat_minor": 5
}