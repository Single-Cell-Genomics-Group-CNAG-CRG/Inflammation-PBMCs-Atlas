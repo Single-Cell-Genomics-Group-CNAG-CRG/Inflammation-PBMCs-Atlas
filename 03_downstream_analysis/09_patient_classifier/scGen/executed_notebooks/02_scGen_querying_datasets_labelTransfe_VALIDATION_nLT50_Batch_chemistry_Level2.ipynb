{
 "cells": [
  {
   "cell_type": "code",
   "execution_count": 1,
   "id": "d4b49326",
   "metadata": {
    "execution": {
     "iopub.execute_input": "2024-06-21T13:41:20.926890Z",
     "iopub.status.busy": "2024-06-21T13:41:20.926733Z",
     "iopub.status.idle": "2024-06-21T13:41:20.932070Z",
     "shell.execute_reply": "2024-06-21T13:41:20.931716Z"
    },
    "papermill": {
     "duration": 0.017484,
     "end_time": "2024-06-21T13:41:20.933061",
     "exception": false,
     "start_time": "2024-06-21T13:41:20.915577",
     "status": "completed"
    },
    "tags": [
     "injected-parameters"
    ]
   },
   "outputs": [],
   "source": [
    "# Parameters\n",
    "n_latent = 50\n",
    "batch = \"chemistry\"\n",
    "dataset = \"VALIDATION\"\n",
    "annotation = \"Level2\"\n"
   ]
  },
  {
   "cell_type": "raw",
   "id": "cf9e723a-c8ab-41cf-80dd-75314497d94d",
   "metadata": {
    "execution": {
     "iopub.execute_input": "2024-06-16T20:49:10.250721Z",
     "iopub.status.busy": "2024-06-16T20:49:10.250145Z",
     "iopub.status.idle": "2024-06-16T20:49:10.256210Z",
     "shell.execute_reply": "2024-06-16T20:49:10.255729Z",
     "shell.execute_reply.started": "2024-06-16T20:49:10.250683Z"
    },
    "papermill": {
     "duration": 0.007154,
     "end_time": "2024-06-21T13:41:20.948021",
     "exception": false,
     "start_time": "2024-06-21T13:41:20.940867",
     "status": "completed"
    },
    "tags": []
   },
   "source": [
    "n_latent = 200\n",
    "dataset = 'VALIDATION'\n",
    "batch = 'studyID'\n",
    "annotation = 'Level2'"
   ]
  },
  {
   "cell_type": "code",
   "execution_count": 2,
   "id": "ed634346-b706-466a-8dab-569b37560afb",
   "metadata": {
    "execution": {
     "iopub.execute_input": "2024-06-21T13:41:20.963756Z",
     "iopub.status.busy": "2024-06-21T13:41:20.963433Z",
     "iopub.status.idle": "2024-06-21T13:41:20.966784Z",
     "shell.execute_reply": "2024-06-21T13:41:20.966423Z"
    },
    "papermill": {
     "duration": 0.012384,
     "end_time": "2024-06-21T13:41:20.967748",
     "exception": false,
     "start_time": "2024-06-21T13:41:20.955364",
     "status": "completed"
    },
    "tags": []
   },
   "outputs": [
    {
     "name": "stdout",
     "output_type": "stream",
     "text": [
      "n_latent = 50\n",
      "batch = chemistry\n",
      "dataset = VALIDATION\n",
      "annotation = Level2\n"
     ]
    }
   ],
   "source": [
    "for v in ['n_latent','batch','dataset','annotation']:\n",
    "    if v in locals() or v in globals():\n",
    "        print(f\"{v} = {eval(v)}\")\n",
    "    else:\n",
    "        raise ValeuError(f\"{v} is not defined\")"
   ]
  },
  {
   "cell_type": "markdown",
   "id": "9ba65107-57d8-41ce-a8f8-f4b4d2bddeb6",
   "metadata": {
    "papermill": {
     "duration": 0.007308,
     "end_time": "2024-06-21T13:41:20.982712",
     "exception": false,
     "start_time": "2024-06-21T13:41:20.975404",
     "status": "completed"
    },
    "tags": []
   },
   "source": [
    "this notebook is run in *scvi-v112* env (cluster)"
   ]
  },
  {
   "cell_type": "code",
   "execution_count": 3,
   "id": "77a24249-d2ab-4340-b9ac-d78d5f3f5bab",
   "metadata": {
    "execution": {
     "iopub.execute_input": "2024-06-21T13:41:20.998377Z",
     "iopub.status.busy": "2024-06-21T13:41:20.998106Z",
     "iopub.status.idle": "2024-06-21T13:41:35.321653Z",
     "shell.execute_reply": "2024-06-21T13:41:35.320981Z"
    },
    "papermill": {
     "duration": 14.333074,
     "end_time": "2024-06-21T13:41:35.323236",
     "exception": false,
     "start_time": "2024-06-21T13:41:20.990162",
     "status": "completed"
    },
    "tags": []
   },
   "outputs": [],
   "source": [
    "import os\n",
    "import sys\n",
    "\n",
    "import random \n",
    "import numpy as np\n",
    "import matplotlib.pyplot as plt\n",
    "\n",
    "import scanpy as sc\n",
    "\n",
    "import scgen\n",
    "\n",
    "import pynndescent\n",
    "\n",
    "import pandas as pd\n",
    "\n",
    "import session_info\n",
    "import warnings\n",
    "from pyprojroot.here import here\n",
    "\n",
    "from sklearn.svm import LinearSVC\n",
    "\n",
    "from sklearn.metrics import balanced_accuracy_score\n",
    "\n",
    "import decoupler\n",
    "\n",
    "import torch\n",
    "\n",
    "import joblib\n",
    "\n",
    "sys.path.insert(1, str(here('bin')))\n",
    "\n",
    "# Import custom functions\n",
    "from customPythonFunctions import get_deltas_v2, batch_removal_v2, aggregating_features, train_patient_classifier, vote_patient_disease\n",
    "\n",
    "#plt.style.use(['science','nature','no-latex'])\n",
    "dpi_fig_save = 300\n",
    "sc.set_figure_params(dpi=100, dpi_save=dpi_fig_save, vector_friendly=True)\n",
    "\n",
    "# Setting some parameters\n",
    "warnings.filterwarnings(\"ignore\")\n",
    "\n",
    "random_seed = 42"
   ]
  },
  {
   "cell_type": "code",
   "execution_count": 4,
   "id": "6a35ffd2-3a9d-4e4c-aa77-9855ccb36a3c",
   "metadata": {
    "execution": {
     "iopub.execute_input": "2024-06-21T13:41:35.340644Z",
     "iopub.status.busy": "2024-06-21T13:41:35.340101Z",
     "iopub.status.idle": "2024-06-21T13:41:35.405470Z",
     "shell.execute_reply": "2024-06-21T13:41:35.404891Z"
    },
    "papermill": {
     "duration": 0.075193,
     "end_time": "2024-06-21T13:41:35.406573",
     "exception": false,
     "start_time": "2024-06-21T13:41:35.331380",
     "status": "completed"
    },
    "tags": []
   },
   "outputs": [],
   "source": [
    "%load_ext autoreload\n",
    "%autoreload 2"
   ]
  },
  {
   "cell_type": "markdown",
   "id": "4c28e407-f2e0-4b66-a1c8-427e69887d52",
   "metadata": {
    "papermill": {
     "duration": 0.007937,
     "end_time": "2024-06-21T13:41:35.422243",
     "exception": false,
     "start_time": "2024-06-21T13:41:35.414306",
     "status": "completed"
    },
    "tags": []
   },
   "source": [
    "## Loading data\n",
    "### Loading main adata"
   ]
  },
  {
   "cell_type": "code",
   "execution_count": 5,
   "id": "bcc3a390-966f-42bf-a139-6804a111d9a4",
   "metadata": {
    "execution": {
     "iopub.execute_input": "2024-06-21T13:41:35.439217Z",
     "iopub.status.busy": "2024-06-21T13:41:35.438983Z",
     "iopub.status.idle": "2024-06-21T13:42:01.755915Z",
     "shell.execute_reply": "2024-06-21T13:42:01.755202Z"
    },
    "papermill": {
     "duration": 26.327334,
     "end_time": "2024-06-21T13:42:01.757595",
     "exception": false,
     "start_time": "2024-06-21T13:41:35.430261",
     "status": "completed"
    },
    "tags": []
   },
   "outputs": [],
   "source": [
    "adataR = sc.read_h5ad(here('03_downstream_analysis/02_gene_universe_definition/results/04_MAIN_geneUniverse.log1p.h5ad'))"
   ]
  },
  {
   "cell_type": "code",
   "execution_count": 6,
   "id": "f18648ef-f249-42ed-b608-1cda3e595804",
   "metadata": {
    "execution": {
     "iopub.execute_input": "2024-06-21T13:42:01.778591Z",
     "iopub.status.busy": "2024-06-21T13:42:01.778358Z",
     "iopub.status.idle": "2024-06-21T13:42:02.311964Z",
     "shell.execute_reply": "2024-06-21T13:42:02.311364Z"
    },
    "papermill": {
     "duration": 0.547875,
     "end_time": "2024-06-21T13:42:02.313568",
     "exception": false,
     "start_time": "2024-06-21T13:42:01.765693",
     "status": "completed"
    },
    "tags": []
   },
   "outputs": [],
   "source": [
    "adataR.obs['batch'] = adataR.obs[batch].tolist()\n",
    "adataR.obs['cell_type'] = adataR.obs[annotation].tolist()"
   ]
  },
  {
   "cell_type": "markdown",
   "id": "ca7306bc-3ce6-43bd-b569-1de23bbee513",
   "metadata": {
    "papermill": {
     "duration": 0.007967,
     "end_time": "2024-06-21T13:42:02.329721",
     "exception": false,
     "start_time": "2024-06-21T13:42:02.321754",
     "status": "completed"
    },
    "tags": []
   },
   "source": [
    "### Loading query adata"
   ]
  },
  {
   "cell_type": "code",
   "execution_count": 7,
   "id": "0ef5e9e5-323a-4efb-b112-4b2efb29716c",
   "metadata": {
    "execution": {
     "iopub.execute_input": "2024-06-21T13:42:02.346351Z",
     "iopub.status.busy": "2024-06-21T13:42:02.346109Z",
     "iopub.status.idle": "2024-06-21T13:42:16.217040Z",
     "shell.execute_reply": "2024-06-21T13:42:16.216475Z"
    },
    "papermill": {
     "duration": 13.880754,
     "end_time": "2024-06-21T13:42:16.218068",
     "exception": false,
     "start_time": "2024-06-21T13:42:02.337314",
     "status": "completed"
    },
    "tags": []
   },
   "outputs": [
    {
     "data": {
      "text/plain": [
       "AnnData object with n_obs × n_vars = 849922 × 8253\n",
       "    obs: 'studyID', 'libraryID', 'sampleID', 'chemistry', 'technology', 'disease', 'sex', 'binned_age'\n",
       "    var: 'hgnc_id', 'symbol', 'locus_group', 'HUGO_status'\n",
       "    uns: 'log1p'"
      ]
     },
     "execution_count": 7,
     "metadata": {},
     "output_type": "execute_result"
    }
   ],
   "source": [
    "adataQ = sc.read_h5ad(here(f\"03_downstream_analysis/02_gene_universe_definition/results/05_{dataset}_geneUniverse.log1p.h5ad\"))\n",
    "adataQ"
   ]
  },
  {
   "cell_type": "code",
   "execution_count": 8,
   "id": "0c0bff23",
   "metadata": {
    "execution": {
     "iopub.execute_input": "2024-06-21T13:42:16.237603Z",
     "iopub.status.busy": "2024-06-21T13:42:16.237047Z",
     "iopub.status.idle": "2024-06-21T13:42:16.367943Z",
     "shell.execute_reply": "2024-06-21T13:42:16.367424Z"
    },
    "papermill": {
     "duration": 0.140844,
     "end_time": "2024-06-21T13:42:16.368973",
     "exception": false,
     "start_time": "2024-06-21T13:42:16.228129",
     "status": "completed"
    },
    "tags": []
   },
   "outputs": [
    {
     "data": {
      "text/plain": [
       "AnnData object with n_obs × n_vars = 849922 × 8253\n",
       "    obs: 'studyID', 'libraryID', 'sampleID', 'chemistry', 'technology', 'disease', 'sex', 'binned_age', 'cell_type', 'batch'\n",
       "    var: 'hgnc_id', 'symbol', 'locus_group', 'HUGO_status'\n",
       "    uns: 'log1p'"
      ]
     },
     "execution_count": 8,
     "metadata": {},
     "output_type": "execute_result"
    }
   ],
   "source": [
    "adataQ.obs['cell_type'] = adataR.obs[annotation][0] #this is needed just to allow scGen model to transfer anndata setup without errors\n",
    "adataQ.obs['batch'] = adataQ.obs[batch]\n",
    "adataQ"
   ]
  },
  {
   "cell_type": "markdown",
   "id": "4fffe98b-1263-4b98-96e7-c00b2843420f",
   "metadata": {
    "papermill": {
     "duration": 0.008509,
     "end_time": "2024-06-21T13:42:16.386455",
     "exception": false,
     "start_time": "2024-06-21T13:42:16.377946",
     "status": "completed"
    },
    "tags": []
   },
   "source": [
    "### Loading scGen model"
   ]
  },
  {
   "cell_type": "code",
   "execution_count": 9,
   "id": "ed843ed6-c10f-427c-b300-516f81297eb2",
   "metadata": {
    "execution": {
     "iopub.execute_input": "2024-06-21T13:42:16.403715Z",
     "iopub.status.busy": "2024-06-21T13:42:16.403382Z",
     "iopub.status.idle": "2024-06-21T13:42:23.986628Z",
     "shell.execute_reply": "2024-06-21T13:42:23.986006Z"
    },
    "papermill": {
     "duration": 7.593614,
     "end_time": "2024-06-21T13:42:23.988217",
     "exception": false,
     "start_time": "2024-06-21T13:42:16.394603",
     "status": "completed"
    },
    "tags": []
   },
   "outputs": [
    {
     "name": "stdout",
     "output_type": "stream",
     "text": [
      "\u001b[34mINFO    \u001b[0m File                                                                                                      \n",
      "         \u001b[35m/scratch_isilon/groups/singlecell/shared/projects/Inflammation-PBMCs-Atlas/03_downstream_analysis/08_Pat\u001b[0m\n",
      "         \u001b[35mientClassifier/scGen/results/01_scGen_train_nLat50_chemistry_Level2/\u001b[0m\u001b[95mmodel.pt\u001b[0m already downloaded           \n"
     ]
    }
   ],
   "source": [
    "model_scGen = scgen.SCGEN.load(here(f\"03_downstream_analysis/08_PatientClassifier/scGen/results/01_scGen_train_nLat{n_latent}_{batch}_{annotation}\"), adata = adataR)"
   ]
  },
  {
   "cell_type": "markdown",
   "id": "9c1ccc70-985a-49ac-9a19-9925088d8af6",
   "metadata": {
    "papermill": {
     "duration": 0.008099,
     "end_time": "2024-06-21T13:42:24.005915",
     "exception": false,
     "start_time": "2024-06-21T13:42:23.997816",
     "status": "completed"
    },
    "tags": []
   },
   "source": [
    "## Generating embedding spaces"
   ]
  },
  {
   "cell_type": "markdown",
   "id": "6c8b03ea-3f53-46f6-902f-0caf07326777",
   "metadata": {
    "execution": {
     "iopub.execute_input": "2024-06-14T10:32:32.049226Z",
     "iopub.status.busy": "2024-06-14T10:32:32.048899Z",
     "iopub.status.idle": "2024-06-14T10:32:32.104059Z",
     "shell.execute_reply": "2024-06-14T10:32:32.103590Z",
     "shell.execute_reply.started": "2024-06-14T10:32:32.049208Z"
    },
    "papermill": {
     "duration": 0.008638,
     "end_time": "2024-06-21T13:42:24.024494",
     "exception": false,
     "start_time": "2024-06-21T13:42:24.015856",
     "status": "completed"
    },
    "tags": []
   },
   "source": [
    "### Train/reference dataset"
   ]
  },
  {
   "cell_type": "code",
   "execution_count": 10,
   "id": "d49a4a2d-c91c-4c48-90fd-e6ab6b355ed6",
   "metadata": {
    "execution": {
     "iopub.execute_input": "2024-06-21T13:42:24.042128Z",
     "iopub.status.busy": "2024-06-21T13:42:24.041734Z",
     "iopub.status.idle": "2024-06-21T13:59:37.436280Z",
     "shell.execute_reply": "2024-06-21T13:59:37.435741Z"
    },
    "papermill": {
     "duration": 1033.416222,
     "end_time": "2024-06-21T13:59:37.449046",
     "exception": false,
     "start_time": "2024-06-21T13:42:24.032824",
     "status": "completed"
    },
    "tags": []
   },
   "outputs": [
    {
     "name": "stdout",
     "output_type": "stream",
     "text": [
      "\u001b[34mINFO    \u001b[0m Input AnnData not setup with scvi-tools. attempting to transfer AnnData setup                             \n"
     ]
    },
    {
     "data": {
      "text/plain": [
       "AnnData object with n_obs × n_vars = 4435922 × 8253\n",
       "    obs: 'studyID', 'libraryID', 'sampleID', 'chemistry', 'disease', 'sex', 'binned_age', 'Level1', 'Level2', 'batch', 'cell_type', '_scvi_batch', '_scvi_labels'\n",
       "    uns: '_scvi_uuid', '_scvi_manager_uuid'\n",
       "    obsm: 'latent', 'corrected_latent'"
      ]
     },
     "execution_count": 10,
     "metadata": {},
     "output_type": "execute_result"
    }
   ],
   "source": [
    "adata_scGen = model_scGen.batch_removal()\n",
    "adata_scGen"
   ]
  },
  {
   "cell_type": "code",
   "execution_count": 11,
   "id": "adc78d3f-d325-456d-bf27-83be4fdc8058",
   "metadata": {
    "execution": {
     "iopub.execute_input": "2024-06-21T13:59:37.469958Z",
     "iopub.status.busy": "2024-06-21T13:59:37.469729Z",
     "iopub.status.idle": "2024-06-21T13:59:41.782467Z",
     "shell.execute_reply": "2024-06-21T13:59:41.781865Z"
    },
    "papermill": {
     "duration": 4.324842,
     "end_time": "2024-06-21T13:59:41.784054",
     "exception": false,
     "start_time": "2024-06-21T13:59:37.459212",
     "status": "completed"
    },
    "tags": []
   },
   "outputs": [],
   "source": [
    "pseudobulkTRAIN = aggregating_features(Z=adata_scGen.obsm['corrected_latent'], \n",
    "                     min_observation=0, \n",
    "                     obsDF=adata_scGen.obs[['sampleID','disease','Level1','batch','studyID']], obs_names_col = ['sampleID','Level1'])"
   ]
  },
  {
   "cell_type": "code",
   "execution_count": 12,
   "id": "ae0ea25a",
   "metadata": {
    "execution": {
     "iopub.execute_input": "2024-06-21T13:59:41.805458Z",
     "iopub.status.busy": "2024-06-21T13:59:41.805229Z",
     "iopub.status.idle": "2024-06-21T13:59:41.870736Z",
     "shell.execute_reply": "2024-06-21T13:59:41.870227Z"
    },
    "papermill": {
     "duration": 0.077512,
     "end_time": "2024-06-21T13:59:41.871892",
     "exception": false,
     "start_time": "2024-06-21T13:59:41.794380",
     "status": "completed"
    },
    "tags": []
   },
   "outputs": [
    {
     "name": "stdout",
     "output_type": "stream",
     "text": [
      "File already saved\n"
     ]
    }
   ],
   "source": [
    "outputFilePath = here(f\"03_downstream_analysis/08_PatientClassifier/scGen/results/02_MAIN_scGenIntegrated_PSEUDOBULK_{n_latent}nLT_{batch}_{annotation}\")\n",
    "if os.path.isfile(outputFilePath):\n",
    "    print(\"File already saved\")\n",
    "else:\n",
    "    pseudobulkTRAIN.write(outputFilePath, compression = 'gzip')"
   ]
  },
  {
   "cell_type": "markdown",
   "id": "818a7bd5-6fef-4c48-9671-07b2d322de54",
   "metadata": {
    "papermill": {
     "duration": 0.009912,
     "end_time": "2024-06-21T13:59:41.891966",
     "exception": false,
     "start_time": "2024-06-21T13:59:41.882054",
     "status": "completed"
    },
    "tags": []
   },
   "source": [
    "### Query dataset"
   ]
  },
  {
   "cell_type": "markdown",
   "id": "8ffa01f7-85b1-420d-a2f0-4221f127ee39",
   "metadata": {
    "papermill": {
     "duration": 0.009753,
     "end_time": "2024-06-21T13:59:41.939544",
     "exception": false,
     "start_time": "2024-06-21T13:59:41.929791",
     "status": "completed"
    },
    "tags": []
   },
   "source": [
    "**Extracting the NOT batch-corrected embedding**"
   ]
  },
  {
   "cell_type": "code",
   "execution_count": 13,
   "id": "76188306-e527-4d28-96c5-cab54837137c",
   "metadata": {
    "execution": {
     "iopub.execute_input": "2024-06-21T13:59:41.959980Z",
     "iopub.status.busy": "2024-06-21T13:59:41.959639Z",
     "iopub.status.idle": "2024-06-21T14:04:14.656531Z",
     "shell.execute_reply": "2024-06-21T14:04:14.655936Z"
    },
    "papermill": {
     "duration": 272.719173,
     "end_time": "2024-06-21T14:04:14.668006",
     "exception": false,
     "start_time": "2024-06-21T13:59:41.948833",
     "status": "completed"
    },
    "tags": []
   },
   "outputs": [
    {
     "data": {
      "text/plain": [
       "(4435922, 50)"
      ]
     },
     "execution_count": 13,
     "metadata": {},
     "output_type": "execute_result"
    }
   ],
   "source": [
    "UncorrectedEmbR =  model_scGen.get_latent_representation()\n",
    "UncorrectedEmbR.shape"
   ]
  },
  {
   "cell_type": "markdown",
   "id": "efb82573-e93f-4e3a-804a-75f0e671f4fd",
   "metadata": {
    "papermill": {
     "duration": 0.008916,
     "end_time": "2024-06-21T14:04:14.686292",
     "exception": false,
     "start_time": "2024-06-21T14:04:14.677376",
     "status": "completed"
    },
    "tags": []
   },
   "source": [
    "**Using py NN descent to transfer cell-type labels**"
   ]
  },
  {
   "cell_type": "code",
   "execution_count": 14,
   "id": "404f63bd-3d74-46a3-a276-4ba1bc2082d3",
   "metadata": {
    "execution": {
     "iopub.execute_input": "2024-06-21T14:04:14.704727Z",
     "iopub.status.busy": "2024-06-21T14:04:14.704503Z",
     "iopub.status.idle": "2024-06-21T14:16:06.472536Z",
     "shell.execute_reply": "2024-06-21T14:16:06.471977Z"
    },
    "papermill": {
     "duration": 711.77892,
     "end_time": "2024-06-21T14:16:06.474055",
     "exception": false,
     "start_time": "2024-06-21T14:04:14.695135",
     "status": "completed"
    },
    "tags": []
   },
   "outputs": [],
   "source": [
    "ref_nn_index = pynndescent.NNDescent(UncorrectedEmbR, random_state = random_seed)\n",
    "ref_nn_index.prepare()"
   ]
  },
  {
   "cell_type": "code",
   "execution_count": 15,
   "id": "dbba7c64-7b9f-4952-8ca7-f74e4dca2aba",
   "metadata": {
    "execution": {
     "iopub.execute_input": "2024-06-21T14:16:06.493488Z",
     "iopub.status.busy": "2024-06-21T14:16:06.493276Z",
     "iopub.status.idle": "2024-06-21T14:16:50.280391Z",
     "shell.execute_reply": "2024-06-21T14:16:50.279706Z"
    },
    "papermill": {
     "duration": 43.807313,
     "end_time": "2024-06-21T14:16:50.290875",
     "exception": false,
     "start_time": "2024-06-21T14:16:06.483562",
     "status": "completed"
    },
    "tags": []
   },
   "outputs": [
    {
     "name": "stdout",
     "output_type": "stream",
     "text": [
      "\u001b[34mINFO    \u001b[0m Input AnnData not setup with scvi-tools. attempting to transfer AnnData setup                             \n"
     ]
    },
    {
     "data": {
      "text/plain": [
       "(849922, 50)"
      ]
     },
     "execution_count": 15,
     "metadata": {},
     "output_type": "execute_result"
    }
   ],
   "source": [
    "UncorrectedEmbQ = model_scGen.get_latent_representation(adataQ)\n",
    "UncorrectedEmbQ.shape"
   ]
  },
  {
   "cell_type": "code",
   "execution_count": 16,
   "id": "b2628e38-1e63-4755-82b7-920cb2b0f580",
   "metadata": {
    "execution": {
     "iopub.execute_input": "2024-06-21T14:16:50.310644Z",
     "iopub.status.busy": "2024-06-21T14:16:50.310469Z",
     "iopub.status.idle": "2024-06-21T14:18:27.263909Z",
     "shell.execute_reply": "2024-06-21T14:18:27.263163Z"
    },
    "papermill": {
     "duration": 96.965607,
     "end_time": "2024-06-21T14:18:27.265952",
     "exception": false,
     "start_time": "2024-06-21T14:16:50.300345",
     "status": "completed"
    },
    "tags": []
   },
   "outputs": [],
   "source": [
    "ref_neighbors, ref_distances = ref_nn_index.query(UncorrectedEmbQ)"
   ]
  },
  {
   "cell_type": "code",
   "execution_count": 17,
   "id": "be69d153-9f4d-4fd1-aed8-d0b4d71be867",
   "metadata": {
    "execution": {
     "iopub.execute_input": "2024-06-21T14:18:27.289050Z",
     "iopub.status.busy": "2024-06-21T14:18:27.288798Z",
     "iopub.status.idle": "2024-06-21T14:18:27.477013Z",
     "shell.execute_reply": "2024-06-21T14:18:27.476461Z"
    },
    "papermill": {
     "duration": 0.200508,
     "end_time": "2024-06-21T14:18:27.478120",
     "exception": false,
     "start_time": "2024-06-21T14:18:27.277612",
     "status": "completed"
    },
    "tags": []
   },
   "outputs": [],
   "source": [
    "# convert distances to affinities\n",
    "stds = np.std(ref_distances, axis=1)\n",
    "stds = (2.0 / stds) ** 2 # gaussian distribution\n",
    "stds = stds.reshape(-1, 1)\n",
    "ref_distances_tilda = np.exp(-np.true_divide(ref_distances, stds))\n",
    "weights = ref_distances_tilda / np.sum(ref_distances_tilda, axis=1, keepdims=True)"
   ]
  },
  {
   "cell_type": "code",
   "execution_count": 18,
   "id": "d9665872-e3e9-4159-aa89-e2f02199bc29",
   "metadata": {
    "execution": {
     "iopub.execute_input": "2024-06-21T14:18:27.499672Z",
     "iopub.status.busy": "2024-06-21T14:18:27.499430Z",
     "iopub.status.idle": "2024-06-21T14:18:27.566025Z",
     "shell.execute_reply": "2024-06-21T14:18:27.565462Z"
    },
    "papermill": {
     "duration": 0.078757,
     "end_time": "2024-06-21T14:18:27.567199",
     "exception": false,
     "start_time": "2024-06-21T14:18:27.488442",
     "status": "completed"
    },
    "tags": []
   },
   "outputs": [],
   "source": [
    "import numba\n",
    "@numba.njit\n",
    "def weighted_prediction(weights, ref_cats):\n",
    "    \"\"\"Get highest weight category.\"\"\"\n",
    "    N = len(weights)\n",
    "    predictions = np.zeros((N,), dtype=ref_cats.dtype)\n",
    "    uncertainty = np.zeros((N,))\n",
    "    for i in range(N):\n",
    "        obs_weights = weights[i]\n",
    "        obs_cats = ref_cats[i]\n",
    "        best_prob = 0\n",
    "        for c in np.unique(obs_cats):\n",
    "            cand_prob = np.sum(obs_weights[obs_cats == c])\n",
    "            if cand_prob > best_prob:\n",
    "                best_prob = cand_prob\n",
    "                predictions[i] = c\n",
    "                uncertainty[i] = max(1 - best_prob, 0)\n",
    "\n",
    "    return predictions, uncertainty"
   ]
  },
  {
   "cell_type": "code",
   "execution_count": 19,
   "id": "d96ec443-9e7c-4143-86f9-99ac958d4e91",
   "metadata": {
    "execution": {
     "iopub.execute_input": "2024-06-21T14:18:27.589322Z",
     "iopub.status.busy": "2024-06-21T14:18:27.588988Z",
     "iopub.status.idle": "2024-06-21T14:18:33.949996Z",
     "shell.execute_reply": "2024-06-21T14:18:33.949363Z"
    },
    "papermill": {
     "duration": 6.373805,
     "end_time": "2024-06-21T14:18:33.951590",
     "exception": false,
     "start_time": "2024-06-21T14:18:27.577785",
     "status": "completed"
    },
    "tags": []
   },
   "outputs": [],
   "source": [
    "# for each annotation level, get prediction and uncertainty\n",
    "label_keys = ['Level1','Level2','disease']\n",
    "for l in label_keys:\n",
    "    ref_cats = model_scGen.adata.obs[l].cat.codes.to_numpy()[ref_neighbors]\n",
    "    p, u = weighted_prediction(weights, ref_cats)\n",
    "    p = np.asarray(model_scGen.adata.obs[l].cat.categories)[p]\n",
    "    adataQ.obs[l + \"_pred\"], adataQ.obs[l + \"_uncertainty\"] = p, u"
   ]
  },
  {
   "cell_type": "markdown",
   "id": "c658256b-6a21-4ed4-b416-94ca1412548c",
   "metadata": {
    "papermill": {
     "duration": 0.010539,
     "end_time": "2024-06-21T14:18:33.973812",
     "exception": false,
     "start_time": "2024-06-21T14:18:33.963273",
     "status": "completed"
    },
    "tags": []
   },
   "source": [
    "We also compute the accuracy of trasnfering the disease label to each cells"
   ]
  },
  {
   "cell_type": "code",
   "execution_count": 20,
   "id": "58ccf15a-d81c-4675-a45f-619aa47a0471",
   "metadata": {
    "execution": {
     "iopub.execute_input": "2024-06-21T14:18:33.995189Z",
     "iopub.status.busy": "2024-06-21T14:18:33.994922Z",
     "iopub.status.idle": "2024-06-21T14:18:34.280575Z",
     "shell.execute_reply": "2024-06-21T14:18:34.280069Z"
    },
    "papermill": {
     "duration": 0.297885,
     "end_time": "2024-06-21T14:18:34.281787",
     "exception": false,
     "start_time": "2024-06-21T14:18:33.983902",
     "status": "completed"
    },
    "tags": []
   },
   "outputs": [
    {
     "data": {
      "image/png": "[encoded data removed]",
      "text/plain": [
       "<Figure size 400x400 with 1 Axes>"
      ]
     },
     "metadata": {
      "image/png": {
       "height": 352,
       "width": 415
      }
     },
     "output_type": "display_data"
    }
   ],
   "source": [
    "adataQ.obs.Level1_uncertainty.hist(bins=50)\n",
    "plt.show()"
   ]
  },
  {
   "cell_type": "code",
   "execution_count": 21,
   "id": "37180dd1-2008-4ab6-a128-0a8f28b650cf",
   "metadata": {
    "execution": {
     "iopub.execute_input": "2024-06-21T14:18:34.305909Z",
     "iopub.status.busy": "2024-06-21T14:18:34.305665Z",
     "iopub.status.idle": "2024-06-21T14:19:17.239039Z",
     "shell.execute_reply": "2024-06-21T14:19:17.238234Z"
    },
    "papermill": {
     "duration": 42.947205,
     "end_time": "2024-06-21T14:19:17.240752",
     "exception": false,
     "start_time": "2024-06-21T14:18:34.293547",
     "status": "completed"
    },
    "tags": []
   },
   "outputs": [],
   "source": [
    "BASlist = []\n",
    "\n",
    "thrValues = np.arange(np.min(adataQ.obs[f\"{annotation}_uncertainty\"]), np.max(adataQ.obs[f\"{annotation}_uncertainty\"]), 0.05)\n",
    "\n",
    "for cell_uncThr in thrValues:\n",
    "  \n",
    "    diseaseBAS = balanced_accuracy_score(y_pred=adataQ.obs.query(f\"{annotation}_uncertainty < @cell_uncThr\")['disease_pred'], \n",
    "                                         y_true=adataQ.obs.query(f\"{annotation}_uncertainty < @cell_uncThr\")['disease'])\n",
    "    BASlist.append(diseaseBAS)\n",
    "    #print(f\"Balance accuracy score for disease prediction at single-cell level = {diseaseBAS}, when uncertanty lower than {disease_uncThr}\")"
   ]
  },
  {
   "cell_type": "code",
   "execution_count": 22,
   "id": "a3ed052a-5be7-4ff8-a09c-87aee868cdae",
   "metadata": {
    "execution": {
     "iopub.execute_input": "2024-06-21T14:19:17.265491Z",
     "iopub.status.busy": "2024-06-21T14:19:17.265229Z",
     "iopub.status.idle": "2024-06-21T14:19:18.560504Z",
     "shell.execute_reply": "2024-06-21T14:19:18.559994Z"
    },
    "papermill": {
     "duration": 1.30903,
     "end_time": "2024-06-21T14:19:18.561720",
     "exception": false,
     "start_time": "2024-06-21T14:19:17.252690",
     "status": "completed"
    },
    "tags": []
   },
   "outputs": [
    {
     "data": {
      "image/png": "[encoded data removed]",
      "text/plain": [
       "<Figure size 400x400 with 1 Axes>"
      ]
     },
     "metadata": {
      "image/png": {
       "height": 377,
       "width": 421
      }
     },
     "output_type": "display_data"
    }
   ],
   "source": [
    "plt.scatter(thrValues, BASlist)\n",
    "plt.xlabel('transfer label uncertainty')\n",
    "plt.ylabel('Balanced accuracy score')\n",
    "plt.show()"
   ]
  },
  {
   "cell_type": "markdown",
   "id": "e344160b-ea94-4581-915b-94e4c645d575",
   "metadata": {
    "papermill": {
     "duration": 0.012987,
     "end_time": "2024-06-21T14:19:18.588344",
     "exception": false,
     "start_time": "2024-06-21T14:19:18.575357",
     "status": "completed"
    },
    "tags": []
   },
   "source": [
    "**Learning the batch correction deltas**"
   ]
  },
  {
   "cell_type": "code",
   "execution_count": 23,
   "id": "6fd1cf6f-d1ca-44cb-858a-88491688ebca",
   "metadata": {
    "execution": {
     "iopub.execute_input": "2024-06-21T14:19:18.615101Z",
     "iopub.status.busy": "2024-06-21T14:19:18.614584Z",
     "iopub.status.idle": "2024-06-21T14:28:54.539179Z",
     "shell.execute_reply": "2024-06-21T14:28:54.538642Z"
    },
    "papermill": {
     "duration": 575.939276,
     "end_time": "2024-06-21T14:28:54.540375",
     "exception": false,
     "start_time": "2024-06-21T14:19:18.601099",
     "status": "completed"
    },
    "tags": []
   },
   "outputs": [
    {
     "name": "stderr",
     "output_type": "stream",
     "text": [
      "\r",
      "  0%|          | 0/256 [00:00<?, ?it/s]"
     ]
    },
    {
     "name": "stderr",
     "output_type": "stream",
     "text": [
      "\r",
      "  0%|          | 1/256 [00:03<12:52,  3.03s/it]"
     ]
    },
    {
     "name": "stderr",
     "output_type": "stream",
     "text": [
      "\r",
      "  1%|          | 2/256 [00:04<08:36,  2.03s/it]"
     ]
    },
    {
     "name": "stderr",
     "output_type": "stream",
     "text": [
      "\r",
      "  1%|          | 3/256 [00:05<07:23,  1.75s/it]"
     ]
    },
    {
     "name": "stderr",
     "output_type": "stream",
     "text": [
      "\r",
      "  2%|▏         | 4/256 [00:07<06:59,  1.67s/it]"
     ]
    },
    {
     "name": "stderr",
     "output_type": "stream",
     "text": [
      "\r",
      "  2%|▏         | 5/256 [00:08<06:41,  1.60s/it]"
     ]
    },
    {
     "name": "stderr",
     "output_type": "stream",
     "text": [
      "\r",
      "  2%|▏         | 6/256 [00:10<06:31,  1.57s/it]"
     ]
    },
    {
     "name": "stderr",
     "output_type": "stream",
     "text": [
      "\r",
      "  3%|▎         | 7/256 [00:11<06:10,  1.49s/it]"
     ]
    },
    {
     "name": "stderr",
     "output_type": "stream",
     "text": [
      "\r",
      "  3%|▎         | 8/256 [00:13<06:07,  1.48s/it]"
     ]
    },
    {
     "name": "stderr",
     "output_type": "stream",
     "text": [
      "\r",
      "  4%|▎         | 9/256 [00:14<06:01,  1.46s/it]"
     ]
    },
    {
     "name": "stderr",
     "output_type": "stream",
     "text": [
      "\r",
      "  4%|▍         | 10/256 [00:16<06:01,  1.47s/it]"
     ]
    },
    {
     "name": "stderr",
     "output_type": "stream",
     "text": [
      "\r",
      "  4%|▍         | 11/256 [00:17<05:50,  1.43s/it]"
     ]
    },
    {
     "name": "stderr",
     "output_type": "stream",
     "text": [
      "\r",
      "  5%|▍         | 12/256 [00:18<05:55,  1.46s/it]"
     ]
    },
    {
     "name": "stderr",
     "output_type": "stream",
     "text": [
      "\r",
      "  5%|▌         | 13/256 [00:20<05:45,  1.42s/it]"
     ]
    },
    {
     "name": "stderr",
     "output_type": "stream",
     "text": [
      "\r",
      "  5%|▌         | 14/256 [00:21<05:35,  1.39s/it]"
     ]
    },
    {
     "name": "stderr",
     "output_type": "stream",
     "text": [
      "\r",
      "  6%|▌         | 15/256 [00:22<05:34,  1.39s/it]"
     ]
    },
    {
     "name": "stderr",
     "output_type": "stream",
     "text": [
      "\r",
      "  6%|▋         | 16/256 [00:24<05:44,  1.44s/it]"
     ]
    },
    {
     "name": "stderr",
     "output_type": "stream",
     "text": [
      "\r",
      "  7%|▋         | 17/256 [00:25<05:38,  1.41s/it]"
     ]
    },
    {
     "name": "stderr",
     "output_type": "stream",
     "text": [
      "\r",
      "  7%|▋         | 18/256 [00:27<05:39,  1.43s/it]"
     ]
    },
    {
     "name": "stderr",
     "output_type": "stream",
     "text": [
      "\r",
      "  7%|▋         | 19/256 [00:28<05:34,  1.41s/it]"
     ]
    },
    {
     "name": "stderr",
     "output_type": "stream",
     "text": [
      "\r",
      "  8%|▊         | 20/256 [00:29<05:25,  1.38s/it]"
     ]
    },
    {
     "name": "stderr",
     "output_type": "stream",
     "text": [
      "\r",
      "  8%|▊         | 21/256 [00:31<05:03,  1.29s/it]"
     ]
    },
    {
     "name": "stderr",
     "output_type": "stream",
     "text": [
      "\r",
      "  9%|▊         | 22/256 [00:32<04:44,  1.22s/it]"
     ]
    },
    {
     "name": "stderr",
     "output_type": "stream",
     "text": [
      "\r",
      "  9%|▉         | 23/256 [00:33<04:33,  1.17s/it]"
     ]
    },
    {
     "name": "stderr",
     "output_type": "stream",
     "text": [
      "\r",
      "  9%|▉         | 24/256 [00:34<04:28,  1.16s/it]"
     ]
    },
    {
     "name": "stderr",
     "output_type": "stream",
     "text": [
      "\r",
      " 10%|▉         | 25/256 [00:35<04:27,  1.16s/it]"
     ]
    },
    {
     "name": "stderr",
     "output_type": "stream",
     "text": [
      "\r",
      " 10%|█         | 26/256 [00:36<04:23,  1.15s/it]"
     ]
    },
    {
     "name": "stderr",
     "output_type": "stream",
     "text": [
      "\r",
      " 11%|█         | 27/256 [00:37<04:12,  1.10s/it]"
     ]
    },
    {
     "name": "stderr",
     "output_type": "stream",
     "text": [
      "\r",
      " 11%|█         | 28/256 [00:38<04:19,  1.14s/it]"
     ]
    },
    {
     "name": "stderr",
     "output_type": "stream",
     "text": [
      "\r",
      " 11%|█▏        | 29/256 [00:39<04:19,  1.14s/it]"
     ]
    },
    {
     "name": "stderr",
     "output_type": "stream",
     "text": [
      "\r",
      " 12%|█▏        | 30/256 [00:41<04:14,  1.13s/it]"
     ]
    },
    {
     "name": "stderr",
     "output_type": "stream",
     "text": [
      "\r",
      " 12%|█▏        | 31/256 [00:42<04:11,  1.12s/it]"
     ]
    },
    {
     "name": "stderr",
     "output_type": "stream",
     "text": [
      "\r",
      " 12%|█▎        | 32/256 [00:43<04:15,  1.14s/it]"
     ]
    },
    {
     "name": "stderr",
     "output_type": "stream",
     "text": [
      "\r",
      " 13%|█▎        | 33/256 [00:44<04:01,  1.08s/it]"
     ]
    },
    {
     "name": "stderr",
     "output_type": "stream",
     "text": [
      "\r",
      " 13%|█▎        | 34/256 [00:45<03:48,  1.03s/it]"
     ]
    },
    {
     "name": "stderr",
     "output_type": "stream",
     "text": [
      "\r",
      " 14%|█▎        | 35/256 [00:46<03:43,  1.01s/it]"
     ]
    },
    {
     "name": "stderr",
     "output_type": "stream",
     "text": [
      "\r",
      " 14%|█▍        | 36/256 [00:47<03:37,  1.01it/s]"
     ]
    },
    {
     "name": "stderr",
     "output_type": "stream",
     "text": [
      "\r",
      " 14%|█▍        | 37/256 [00:48<03:38,  1.00it/s]"
     ]
    },
    {
     "name": "stderr",
     "output_type": "stream",
     "text": [
      "\r",
      " 15%|█▍        | 38/256 [00:49<03:38,  1.00s/it]"
     ]
    },
    {
     "name": "stderr",
     "output_type": "stream",
     "text": [
      "\r",
      " 15%|█▌        | 39/256 [00:50<03:36,  1.00it/s]"
     ]
    },
    {
     "name": "stderr",
     "output_type": "stream",
     "text": [
      "\r",
      " 16%|█▌        | 40/256 [00:51<03:36,  1.00s/it]"
     ]
    },
    {
     "name": "stderr",
     "output_type": "stream",
     "text": [
      "\r",
      " 16%|█▌        | 41/256 [00:52<03:51,  1.07s/it]"
     ]
    },
    {
     "name": "stderr",
     "output_type": "stream",
     "text": [
      "\r",
      " 16%|█▋        | 42/256 [00:53<04:18,  1.21s/it]"
     ]
    },
    {
     "name": "stderr",
     "output_type": "stream",
     "text": [
      "\r",
      " 17%|█▋        | 43/256 [00:55<04:19,  1.22s/it]"
     ]
    },
    {
     "name": "stderr",
     "output_type": "stream",
     "text": [
      "\r",
      " 17%|█▋        | 44/256 [00:56<04:22,  1.24s/it]"
     ]
    },
    {
     "name": "stderr",
     "output_type": "stream",
     "text": [
      "\r",
      " 18%|█▊        | 45/256 [00:57<04:03,  1.15s/it]"
     ]
    },
    {
     "name": "stderr",
     "output_type": "stream",
     "text": [
      "\r",
      " 18%|█▊        | 46/256 [00:58<03:56,  1.12s/it]"
     ]
    },
    {
     "name": "stderr",
     "output_type": "stream",
     "text": [
      "\r",
      " 18%|█▊        | 47/256 [00:59<03:41,  1.06s/it]"
     ]
    },
    {
     "name": "stderr",
     "output_type": "stream",
     "text": [
      "\r",
      " 19%|█▉        | 48/256 [01:00<03:34,  1.03s/it]"
     ]
    },
    {
     "name": "stderr",
     "output_type": "stream",
     "text": [
      "\r",
      " 19%|█▉        | 49/256 [01:01<03:22,  1.02it/s]"
     ]
    },
    {
     "name": "stderr",
     "output_type": "stream",
     "text": [
      "\r",
      " 20%|█▉        | 50/256 [01:02<03:16,  1.05it/s]"
     ]
    },
    {
     "name": "stderr",
     "output_type": "stream",
     "text": [
      "\r",
      " 20%|█▉        | 51/256 [01:02<03:09,  1.08it/s]"
     ]
    },
    {
     "name": "stderr",
     "output_type": "stream",
     "text": [
      "\r",
      " 20%|██        | 52/256 [01:03<03:08,  1.08it/s]"
     ]
    },
    {
     "name": "stderr",
     "output_type": "stream",
     "text": [
      "\r",
      " 21%|██        | 53/256 [01:04<03:13,  1.05it/s]"
     ]
    },
    {
     "name": "stderr",
     "output_type": "stream",
     "text": [
      "\r",
      " 21%|██        | 54/256 [01:05<03:12,  1.05it/s]"
     ]
    },
    {
     "name": "stderr",
     "output_type": "stream",
     "text": [
      "\r",
      " 21%|██▏       | 55/256 [01:06<03:06,  1.08it/s]"
     ]
    },
    {
     "name": "stderr",
     "output_type": "stream",
     "text": [
      "\r",
      " 22%|██▏       | 56/256 [01:07<03:03,  1.09it/s]"
     ]
    },
    {
     "name": "stderr",
     "output_type": "stream",
     "text": [
      "\r",
      " 22%|██▏       | 57/256 [01:08<03:03,  1.08it/s]"
     ]
    },
    {
     "name": "stderr",
     "output_type": "stream",
     "text": [
      "\r",
      " 23%|██▎       | 58/256 [01:09<03:07,  1.06it/s]"
     ]
    },
    {
     "name": "stderr",
     "output_type": "stream",
     "text": [
      "\r",
      " 23%|██▎       | 59/256 [01:10<03:04,  1.07it/s]"
     ]
    },
    {
     "name": "stderr",
     "output_type": "stream",
     "text": [
      "\r",
      " 23%|██▎       | 60/256 [01:11<03:08,  1.04it/s]"
     ]
    },
    {
     "name": "stderr",
     "output_type": "stream",
     "text": [
      "\r",
      " 24%|██▍       | 61/256 [01:12<03:17,  1.02s/it]"
     ]
    },
    {
     "name": "stderr",
     "output_type": "stream",
     "text": [
      "\r",
      " 24%|██▍       | 62/256 [01:13<03:18,  1.02s/it]"
     ]
    },
    {
     "name": "stderr",
     "output_type": "stream",
     "text": [
      "\r",
      " 25%|██▍       | 63/256 [01:14<03:17,  1.02s/it]"
     ]
    },
    {
     "name": "stderr",
     "output_type": "stream",
     "text": [
      "\r",
      " 25%|██▌       | 64/256 [01:15<03:21,  1.05s/it]"
     ]
    },
    {
     "name": "stderr",
     "output_type": "stream",
     "text": [
      "\r",
      " 25%|██▌       | 65/256 [01:16<03:11,  1.01s/it]"
     ]
    },
    {
     "name": "stderr",
     "output_type": "stream",
     "text": [
      "\r",
      " 26%|██▌       | 66/256 [01:17<03:04,  1.03it/s]"
     ]
    },
    {
     "name": "stderr",
     "output_type": "stream",
     "text": [
      "\r",
      " 26%|██▌       | 67/256 [01:18<03:03,  1.03it/s]"
     ]
    },
    {
     "name": "stderr",
     "output_type": "stream",
     "text": [
      "\r",
      " 27%|██▋       | 68/256 [01:19<02:57,  1.06it/s]"
     ]
    },
    {
     "name": "stderr",
     "output_type": "stream",
     "text": [
      "\r",
      " 27%|██▋       | 69/256 [01:21<03:35,  1.15s/it]"
     ]
    },
    {
     "name": "stderr",
     "output_type": "stream",
     "text": [
      "\r",
      " 27%|██▋       | 70/256 [01:22<03:50,  1.24s/it]"
     ]
    },
    {
     "name": "stderr",
     "output_type": "stream",
     "text": [
      "\r",
      " 28%|██▊       | 71/256 [01:24<04:09,  1.35s/it]"
     ]
    },
    {
     "name": "stderr",
     "output_type": "stream",
     "text": [
      "\r",
      " 28%|██▊       | 72/256 [01:25<04:32,  1.48s/it]"
     ]
    },
    {
     "name": "stderr",
     "output_type": "stream",
     "text": [
      "\r",
      " 29%|██▊       | 73/256 [01:28<05:19,  1.74s/it]"
     ]
    },
    {
     "name": "stderr",
     "output_type": "stream",
     "text": [
      "\r",
      " 29%|██▉       | 74/256 [01:30<05:47,  1.91s/it]"
     ]
    },
    {
     "name": "stderr",
     "output_type": "stream",
     "text": [
      "\r",
      " 29%|██▉       | 75/256 [01:33<06:33,  2.17s/it]"
     ]
    },
    {
     "name": "stderr",
     "output_type": "stream",
     "text": [
      "\r",
      " 30%|██▉       | 76/256 [01:36<07:01,  2.34s/it]"
     ]
    },
    {
     "name": "stderr",
     "output_type": "stream",
     "text": [
      "\r",
      " 30%|███       | 77/256 [01:37<06:11,  2.07s/it]"
     ]
    },
    {
     "name": "stderr",
     "output_type": "stream",
     "text": [
      "\r",
      " 30%|███       | 78/256 [01:39<05:42,  1.92s/it]"
     ]
    },
    {
     "name": "stderr",
     "output_type": "stream",
     "text": [
      "\r",
      " 31%|███       | 79/256 [01:40<05:32,  1.88s/it]"
     ]
    },
    {
     "name": "stderr",
     "output_type": "stream",
     "text": [
      "\r",
      " 31%|███▏      | 80/256 [01:42<05:15,  1.79s/it]"
     ]
    },
    {
     "name": "stderr",
     "output_type": "stream",
     "text": [
      "\r",
      " 32%|███▏      | 81/256 [01:44<05:08,  1.76s/it]"
     ]
    },
    {
     "name": "stderr",
     "output_type": "stream",
     "text": [
      "\r",
      " 32%|███▏      | 82/256 [01:45<05:03,  1.74s/it]"
     ]
    },
    {
     "name": "stderr",
     "output_type": "stream",
     "text": [
      "\r",
      " 32%|███▏      | 83/256 [01:47<05:01,  1.74s/it]"
     ]
    },
    {
     "name": "stderr",
     "output_type": "stream",
     "text": [
      "\r",
      " 33%|███▎      | 84/256 [01:49<04:59,  1.74s/it]"
     ]
    },
    {
     "name": "stderr",
     "output_type": "stream",
     "text": [
      "\r",
      " 33%|███▎      | 85/256 [01:51<05:07,  1.80s/it]"
     ]
    },
    {
     "name": "stderr",
     "output_type": "stream",
     "text": [
      "\r",
      " 34%|███▎      | 86/256 [01:53<05:45,  2.03s/it]"
     ]
    },
    {
     "name": "stderr",
     "output_type": "stream",
     "text": [
      "\r",
      " 34%|███▍      | 87/256 [01:55<05:44,  2.04s/it]"
     ]
    },
    {
     "name": "stderr",
     "output_type": "stream",
     "text": [
      "\r",
      " 34%|███▍      | 88/256 [01:57<05:42,  2.04s/it]"
     ]
    },
    {
     "name": "stderr",
     "output_type": "stream",
     "text": [
      "\r",
      " 35%|███▍      | 89/256 [01:59<05:08,  1.85s/it]"
     ]
    },
    {
     "name": "stderr",
     "output_type": "stream",
     "text": [
      "\r",
      " 35%|███▌      | 90/256 [02:00<04:41,  1.70s/it]"
     ]
    },
    {
     "name": "stderr",
     "output_type": "stream",
     "text": [
      "\r",
      " 36%|███▌      | 91/256 [02:02<04:28,  1.63s/it]"
     ]
    },
    {
     "name": "stderr",
     "output_type": "stream",
     "text": [
      "\r",
      " 36%|███▌      | 92/256 [02:03<04:32,  1.66s/it]"
     ]
    },
    {
     "name": "stderr",
     "output_type": "stream",
     "text": [
      "\r",
      " 36%|███▋      | 93/256 [02:05<04:53,  1.80s/it]"
     ]
    },
    {
     "name": "stderr",
     "output_type": "stream",
     "text": [
      "\r",
      " 37%|███▋      | 94/256 [02:07<04:43,  1.75s/it]"
     ]
    },
    {
     "name": "stderr",
     "output_type": "stream",
     "text": [
      "\r",
      " 37%|███▋      | 95/256 [02:09<04:34,  1.71s/it]"
     ]
    },
    {
     "name": "stderr",
     "output_type": "stream",
     "text": [
      "\r",
      " 38%|███▊      | 96/256 [02:10<04:36,  1.73s/it]"
     ]
    },
    {
     "name": "stderr",
     "output_type": "stream",
     "text": [
      "\r",
      " 38%|███▊      | 97/256 [02:12<04:10,  1.58s/it]"
     ]
    },
    {
     "name": "stderr",
     "output_type": "stream",
     "text": [
      "\r",
      " 38%|███▊      | 98/256 [02:13<03:50,  1.46s/it]"
     ]
    },
    {
     "name": "stderr",
     "output_type": "stream",
     "text": [
      "\r",
      " 39%|███▊      | 99/256 [02:14<03:34,  1.37s/it]"
     ]
    },
    {
     "name": "stderr",
     "output_type": "stream",
     "text": [
      "\r",
      " 39%|███▉      | 100/256 [02:15<03:31,  1.36s/it]"
     ]
    },
    {
     "name": "stderr",
     "output_type": "stream",
     "text": [
      "\r",
      " 39%|███▉      | 101/256 [02:16<03:17,  1.28s/it]"
     ]
    },
    {
     "name": "stderr",
     "output_type": "stream",
     "text": [
      "\r",
      " 40%|███▉      | 102/256 [02:18<03:14,  1.26s/it]"
     ]
    },
    {
     "name": "stderr",
     "output_type": "stream",
     "text": [
      "\r",
      " 40%|████      | 103/256 [02:19<03:02,  1.19s/it]"
     ]
    },
    {
     "name": "stderr",
     "output_type": "stream",
     "text": [
      "\r",
      " 41%|████      | 104/256 [02:20<03:03,  1.21s/it]"
     ]
    },
    {
     "name": "stderr",
     "output_type": "stream",
     "text": [
      "\r",
      " 41%|████      | 105/256 [02:21<02:56,  1.17s/it]"
     ]
    },
    {
     "name": "stderr",
     "output_type": "stream",
     "text": [
      "\r",
      " 41%|████▏     | 106/256 [02:22<02:50,  1.14s/it]"
     ]
    },
    {
     "name": "stderr",
     "output_type": "stream",
     "text": [
      "\r",
      " 42%|████▏     | 107/256 [02:23<02:49,  1.14s/it]"
     ]
    },
    {
     "name": "stderr",
     "output_type": "stream",
     "text": [
      "\r",
      " 42%|████▏     | 108/256 [02:24<02:43,  1.10s/it]"
     ]
    },
    {
     "name": "stderr",
     "output_type": "stream",
     "text": [
      "\r",
      " 43%|████▎     | 109/256 [02:25<02:34,  1.05s/it]"
     ]
    },
    {
     "name": "stderr",
     "output_type": "stream",
     "text": [
      "\r",
      " 43%|████▎     | 110/256 [02:26<02:31,  1.04s/it]"
     ]
    },
    {
     "name": "stderr",
     "output_type": "stream",
     "text": [
      "\r",
      " 43%|████▎     | 111/256 [02:27<02:30,  1.04s/it]"
     ]
    },
    {
     "name": "stderr",
     "output_type": "stream",
     "text": [
      "\r",
      " 44%|████▍     | 112/256 [02:28<02:25,  1.01s/it]"
     ]
    },
    {
     "name": "stderr",
     "output_type": "stream",
     "text": [
      "\r",
      " 44%|████▍     | 113/256 [02:29<02:36,  1.10s/it]"
     ]
    },
    {
     "name": "stderr",
     "output_type": "stream",
     "text": [
      "\r",
      " 45%|████▍     | 114/256 [02:31<02:41,  1.14s/it]"
     ]
    },
    {
     "name": "stderr",
     "output_type": "stream",
     "text": [
      "\r",
      " 45%|████▍     | 115/256 [02:32<02:43,  1.16s/it]"
     ]
    },
    {
     "name": "stderr",
     "output_type": "stream",
     "text": [
      "\r",
      " 45%|████▌     | 116/256 [02:33<02:47,  1.19s/it]"
     ]
    },
    {
     "name": "stderr",
     "output_type": "stream",
     "text": [
      "\r",
      " 46%|████▌     | 117/256 [02:34<02:36,  1.13s/it]"
     ]
    },
    {
     "name": "stderr",
     "output_type": "stream",
     "text": [
      "\r",
      " 46%|████▌     | 118/256 [02:35<02:32,  1.11s/it]"
     ]
    },
    {
     "name": "stderr",
     "output_type": "stream",
     "text": [
      "\r",
      " 46%|████▋     | 119/256 [02:36<02:23,  1.05s/it]"
     ]
    },
    {
     "name": "stderr",
     "output_type": "stream",
     "text": [
      "\r",
      " 47%|████▋     | 120/256 [02:37<02:17,  1.01s/it]"
     ]
    },
    {
     "name": "stderr",
     "output_type": "stream",
     "text": [
      "\r",
      " 47%|████▋     | 121/256 [02:38<02:11,  1.03it/s]"
     ]
    },
    {
     "name": "stderr",
     "output_type": "stream",
     "text": [
      "\r",
      " 48%|████▊     | 122/256 [02:39<02:13,  1.00it/s]"
     ]
    },
    {
     "name": "stderr",
     "output_type": "stream",
     "text": [
      "\r",
      " 48%|████▊     | 123/256 [02:40<02:13,  1.01s/it]"
     ]
    },
    {
     "name": "stderr",
     "output_type": "stream",
     "text": [
      "\r",
      " 48%|████▊     | 124/256 [02:41<02:10,  1.01it/s]"
     ]
    },
    {
     "name": "stderr",
     "output_type": "stream",
     "text": [
      "\r",
      " 49%|████▉     | 125/256 [02:42<02:04,  1.05it/s]"
     ]
    },
    {
     "name": "stderr",
     "output_type": "stream",
     "text": [
      "\r",
      " 49%|████▉     | 126/256 [02:43<02:00,  1.08it/s]"
     ]
    },
    {
     "name": "stderr",
     "output_type": "stream",
     "text": [
      "\r",
      " 50%|████▉     | 127/256 [02:44<01:57,  1.10it/s]"
     ]
    },
    {
     "name": "stderr",
     "output_type": "stream",
     "text": [
      "\r",
      " 50%|█████     | 128/256 [02:44<01:55,  1.11it/s]"
     ]
    },
    {
     "name": "stderr",
     "output_type": "stream",
     "text": [
      "\r",
      " 50%|█████     | 129/256 [02:45<01:52,  1.13it/s]"
     ]
    },
    {
     "name": "stderr",
     "output_type": "stream",
     "text": [
      "\r",
      " 51%|█████     | 130/256 [02:46<01:53,  1.11it/s]"
     ]
    },
    {
     "name": "stderr",
     "output_type": "stream",
     "text": [
      "\r",
      " 51%|█████     | 131/256 [02:47<01:49,  1.14it/s]"
     ]
    },
    {
     "name": "stderr",
     "output_type": "stream",
     "text": [
      "\r",
      " 52%|█████▏    | 132/256 [02:48<01:48,  1.14it/s]"
     ]
    },
    {
     "name": "stderr",
     "output_type": "stream",
     "text": [
      "\r",
      " 52%|█████▏    | 133/256 [02:50<02:26,  1.19s/it]"
     ]
    },
    {
     "name": "stderr",
     "output_type": "stream",
     "text": [
      "\r",
      " 52%|█████▏    | 134/256 [02:52<02:50,  1.40s/it]"
     ]
    },
    {
     "name": "stderr",
     "output_type": "stream",
     "text": [
      "\r",
      " 53%|█████▎    | 135/256 [02:53<02:57,  1.47s/it]"
     ]
    },
    {
     "name": "stderr",
     "output_type": "stream",
     "text": [
      "\r",
      " 53%|█████▎    | 136/256 [02:55<03:15,  1.63s/it]"
     ]
    },
    {
     "name": "stderr",
     "output_type": "stream",
     "text": [
      "\r",
      " 54%|█████▎    | 137/256 [02:56<02:49,  1.42s/it]"
     ]
    },
    {
     "name": "stderr",
     "output_type": "stream",
     "text": [
      "\r",
      " 54%|█████▍    | 138/256 [02:57<02:26,  1.24s/it]"
     ]
    },
    {
     "name": "stderr",
     "output_type": "stream",
     "text": [
      "\r",
      " 54%|█████▍    | 139/256 [02:58<02:13,  1.14s/it]"
     ]
    },
    {
     "name": "stderr",
     "output_type": "stream",
     "text": [
      "\r",
      " 55%|█████▍    | 140/256 [02:59<02:02,  1.05s/it]"
     ]
    },
    {
     "name": "stderr",
     "output_type": "stream",
     "text": [
      "\r",
      " 55%|█████▌    | 141/256 [03:00<02:07,  1.11s/it]"
     ]
    },
    {
     "name": "stderr",
     "output_type": "stream",
     "text": [
      "\r",
      " 55%|█████▌    | 142/256 [03:01<02:07,  1.12s/it]"
     ]
    },
    {
     "name": "stderr",
     "output_type": "stream",
     "text": [
      "\r",
      " 56%|█████▌    | 143/256 [03:02<02:03,  1.09s/it]"
     ]
    },
    {
     "name": "stderr",
     "output_type": "stream",
     "text": [
      "\r",
      " 56%|█████▋    | 144/256 [03:04<02:11,  1.18s/it]"
     ]
    },
    {
     "name": "stderr",
     "output_type": "stream",
     "text": [
      "\r",
      " 57%|█████▋    | 145/256 [03:05<02:05,  1.13s/it]"
     ]
    },
    {
     "name": "stderr",
     "output_type": "stream",
     "text": [
      "\r",
      " 57%|█████▋    | 146/256 [03:06<02:03,  1.12s/it]"
     ]
    },
    {
     "name": "stderr",
     "output_type": "stream",
     "text": [
      "\r",
      " 57%|█████▋    | 147/256 [03:07<02:06,  1.16s/it]"
     ]
    },
    {
     "name": "stderr",
     "output_type": "stream",
     "text": [
      "\r",
      " 58%|█████▊    | 148/256 [03:08<02:03,  1.14s/it]"
     ]
    },
    {
     "name": "stderr",
     "output_type": "stream",
     "text": [
      "\r",
      " 58%|█████▊    | 149/256 [03:10<02:12,  1.24s/it]"
     ]
    },
    {
     "name": "stderr",
     "output_type": "stream",
     "text": [
      "\r",
      " 59%|█████▊    | 150/256 [03:11<02:22,  1.34s/it]"
     ]
    },
    {
     "name": "stderr",
     "output_type": "stream",
     "text": [
      "\r",
      " 59%|█████▉    | 151/256 [03:13<02:23,  1.37s/it]"
     ]
    },
    {
     "name": "stderr",
     "output_type": "stream",
     "text": [
      "\r",
      " 59%|█████▉    | 152/256 [03:14<02:28,  1.43s/it]"
     ]
    },
    {
     "name": "stderr",
     "output_type": "stream",
     "text": [
      "\r",
      " 60%|█████▉    | 153/256 [03:15<02:16,  1.32s/it]"
     ]
    },
    {
     "name": "stderr",
     "output_type": "stream",
     "text": [
      "\r",
      " 60%|██████    | 154/256 [03:16<02:03,  1.21s/it]"
     ]
    },
    {
     "name": "stderr",
     "output_type": "stream",
     "text": [
      "\r",
      " 61%|██████    | 155/256 [03:17<01:55,  1.15s/it]"
     ]
    },
    {
     "name": "stderr",
     "output_type": "stream",
     "text": [
      "\r",
      " 61%|██████    | 156/256 [03:18<01:50,  1.10s/it]"
     ]
    },
    {
     "name": "stderr",
     "output_type": "stream",
     "text": [
      "\r",
      " 61%|██████▏   | 157/256 [03:21<02:37,  1.59s/it]"
     ]
    },
    {
     "name": "stderr",
     "output_type": "stream",
     "text": [
      "\r",
      " 62%|██████▏   | 158/256 [03:24<03:11,  1.95s/it]"
     ]
    },
    {
     "name": "stderr",
     "output_type": "stream",
     "text": [
      "\r",
      " 62%|██████▏   | 159/256 [03:26<03:29,  2.16s/it]"
     ]
    },
    {
     "name": "stderr",
     "output_type": "stream",
     "text": [
      "\r",
      " 62%|██████▎   | 160/256 [03:29<03:52,  2.42s/it]"
     ]
    },
    {
     "name": "stderr",
     "output_type": "stream",
     "text": [
      "\r",
      " 63%|██████▎   | 161/256 [03:31<03:13,  2.04s/it]"
     ]
    },
    {
     "name": "stderr",
     "output_type": "stream",
     "text": [
      "\r",
      " 63%|██████▎   | 162/256 [03:32<02:47,  1.78s/it]"
     ]
    },
    {
     "name": "stderr",
     "output_type": "stream",
     "text": [
      "\r",
      " 64%|██████▎   | 163/256 [03:33<02:30,  1.61s/it]"
     ]
    },
    {
     "name": "stderr",
     "output_type": "stream",
     "text": [
      "\r",
      " 64%|██████▍   | 164/256 [03:34<02:19,  1.51s/it]"
     ]
    },
    {
     "name": "stderr",
     "output_type": "stream",
     "text": [
      "\r",
      " 64%|██████▍   | 165/256 [03:36<02:11,  1.44s/it]"
     ]
    },
    {
     "name": "stderr",
     "output_type": "stream",
     "text": [
      "\r",
      " 65%|██████▍   | 166/256 [03:37<02:04,  1.38s/it]"
     ]
    },
    {
     "name": "stderr",
     "output_type": "stream",
     "text": [
      "\r",
      " 65%|██████▌   | 167/256 [03:38<01:58,  1.33s/it]"
     ]
    },
    {
     "name": "stderr",
     "output_type": "stream",
     "text": [
      "\r",
      " 66%|██████▌   | 168/256 [03:39<01:56,  1.33s/it]"
     ]
    },
    {
     "name": "stderr",
     "output_type": "stream",
     "text": [
      "\r",
      " 66%|██████▌   | 169/256 [03:40<01:48,  1.25s/it]"
     ]
    },
    {
     "name": "stderr",
     "output_type": "stream",
     "text": [
      "\r",
      " 66%|██████▋   | 170/256 [03:41<01:41,  1.18s/it]"
     ]
    },
    {
     "name": "stderr",
     "output_type": "stream",
     "text": [
      "\r",
      " 67%|██████▋   | 171/256 [03:43<01:38,  1.16s/it]"
     ]
    },
    {
     "name": "stderr",
     "output_type": "stream",
     "text": [
      "\r",
      " 67%|██████▋   | 172/256 [03:44<01:36,  1.15s/it]"
     ]
    },
    {
     "name": "stderr",
     "output_type": "stream",
     "text": [
      "\r",
      " 68%|██████▊   | 173/256 [03:45<01:35,  1.15s/it]"
     ]
    },
    {
     "name": "stderr",
     "output_type": "stream",
     "text": [
      "\r",
      " 68%|██████▊   | 174/256 [03:46<01:34,  1.15s/it]"
     ]
    },
    {
     "name": "stderr",
     "output_type": "stream",
     "text": [
      "\r",
      " 68%|██████▊   | 175/256 [03:47<01:32,  1.15s/it]"
     ]
    },
    {
     "name": "stderr",
     "output_type": "stream",
     "text": [
      "\r",
      " 69%|██████▉   | 176/256 [03:48<01:31,  1.15s/it]"
     ]
    },
    {
     "name": "stderr",
     "output_type": "stream",
     "text": [
      "\r",
      " 69%|██████▉   | 177/256 [03:49<01:32,  1.17s/it]"
     ]
    },
    {
     "name": "stderr",
     "output_type": "stream",
     "text": [
      "\r",
      " 70%|██████▉   | 178/256 [03:51<01:36,  1.23s/it]"
     ]
    },
    {
     "name": "stderr",
     "output_type": "stream",
     "text": [
      "\r",
      " 70%|██████▉   | 179/256 [03:52<01:36,  1.25s/it]"
     ]
    },
    {
     "name": "stderr",
     "output_type": "stream",
     "text": [
      "\r",
      " 70%|███████   | 180/256 [03:53<01:37,  1.28s/it]"
     ]
    },
    {
     "name": "stderr",
     "output_type": "stream",
     "text": [
      "\r",
      " 71%|███████   | 181/256 [03:55<01:32,  1.24s/it]"
     ]
    },
    {
     "name": "stderr",
     "output_type": "stream",
     "text": [
      "\r",
      " 71%|███████   | 182/256 [03:56<01:31,  1.24s/it]"
     ]
    },
    {
     "name": "stderr",
     "output_type": "stream",
     "text": [
      "\r",
      " 71%|███████▏  | 183/256 [03:57<01:26,  1.19s/it]"
     ]
    },
    {
     "name": "stderr",
     "output_type": "stream",
     "text": [
      "\r",
      " 72%|███████▏  | 184/256 [03:58<01:23,  1.16s/it]"
     ]
    },
    {
     "name": "stderr",
     "output_type": "stream",
     "text": [
      "\r",
      " 72%|███████▏  | 185/256 [03:59<01:17,  1.09s/it]"
     ]
    },
    {
     "name": "stderr",
     "output_type": "stream",
     "text": [
      "\r",
      " 73%|███████▎  | 186/256 [04:00<01:16,  1.10s/it]"
     ]
    },
    {
     "name": "stderr",
     "output_type": "stream",
     "text": [
      "\r",
      " 73%|███████▎  | 187/256 [04:01<01:16,  1.11s/it]"
     ]
    },
    {
     "name": "stderr",
     "output_type": "stream",
     "text": [
      "\r",
      " 73%|███████▎  | 188/256 [04:02<01:18,  1.15s/it]"
     ]
    },
    {
     "name": "stderr",
     "output_type": "stream",
     "text": [
      "\r",
      " 74%|███████▍  | 189/256 [04:04<01:26,  1.29s/it]"
     ]
    },
    {
     "name": "stderr",
     "output_type": "stream",
     "text": [
      "\r",
      " 74%|███████▍  | 190/256 [04:06<01:30,  1.37s/it]"
     ]
    },
    {
     "name": "stderr",
     "output_type": "stream",
     "text": [
      "\r",
      " 75%|███████▍  | 191/256 [04:07<01:30,  1.39s/it]"
     ]
    },
    {
     "name": "stderr",
     "output_type": "stream",
     "text": [
      "\r",
      " 75%|███████▌  | 192/256 [04:09<01:34,  1.47s/it]"
     ]
    },
    {
     "name": "stderr",
     "output_type": "stream",
     "text": [
      "\r",
      " 75%|███████▌  | 193/256 [04:10<01:22,  1.31s/it]"
     ]
    },
    {
     "name": "stderr",
     "output_type": "stream",
     "text": [
      "\r",
      " 76%|███████▌  | 194/256 [04:11<01:15,  1.21s/it]"
     ]
    },
    {
     "name": "stderr",
     "output_type": "stream",
     "text": [
      "\r",
      " 76%|███████▌  | 195/256 [04:12<01:14,  1.21s/it]"
     ]
    },
    {
     "name": "stderr",
     "output_type": "stream",
     "text": [
      "\r",
      " 77%|███████▋  | 196/256 [04:13<01:08,  1.14s/it]"
     ]
    },
    {
     "name": "stderr",
     "output_type": "stream",
     "text": [
      "\r",
      " 77%|███████▋  | 197/256 [04:14<01:03,  1.07s/it]"
     ]
    },
    {
     "name": "stderr",
     "output_type": "stream",
     "text": [
      "\r",
      " 77%|███████▋  | 198/256 [04:15<00:58,  1.01s/it]"
     ]
    },
    {
     "name": "stderr",
     "output_type": "stream",
     "text": [
      "\r",
      " 78%|███████▊  | 199/256 [04:16<00:56,  1.01it/s]"
     ]
    },
    {
     "name": "stderr",
     "output_type": "stream",
     "text": [
      "\r",
      " 78%|███████▊  | 200/256 [04:16<00:53,  1.04it/s]"
     ]
    },
    {
     "name": "stderr",
     "output_type": "stream",
     "text": [
      "\r",
      " 79%|███████▊  | 201/256 [04:17<00:54,  1.01it/s]"
     ]
    },
    {
     "name": "stderr",
     "output_type": "stream",
     "text": [
      "\r",
      " 79%|███████▉  | 202/256 [04:19<00:54,  1.00s/it]"
     ]
    },
    {
     "name": "stderr",
     "output_type": "stream",
     "text": [
      "\r",
      " 79%|███████▉  | 203/256 [04:20<00:54,  1.04s/it]"
     ]
    },
    {
     "name": "stderr",
     "output_type": "stream",
     "text": [
      "\r",
      " 80%|███████▉  | 204/256 [04:21<00:54,  1.05s/it]"
     ]
    },
    {
     "name": "stderr",
     "output_type": "stream",
     "text": [
      "\r",
      " 80%|████████  | 205/256 [04:22<00:50,  1.00it/s]"
     ]
    },
    {
     "name": "stderr",
     "output_type": "stream",
     "text": [
      "\r",
      " 80%|████████  | 206/256 [04:22<00:47,  1.05it/s]"
     ]
    },
    {
     "name": "stderr",
     "output_type": "stream",
     "text": [
      "\r",
      " 81%|████████  | 207/256 [04:23<00:44,  1.10it/s]"
     ]
    },
    {
     "name": "stderr",
     "output_type": "stream",
     "text": [
      "\r",
      " 81%|████████▏ | 208/256 [04:24<00:42,  1.12it/s]"
     ]
    },
    {
     "name": "stderr",
     "output_type": "stream",
     "text": [
      "\r",
      " 82%|████████▏ | 209/256 [04:25<00:44,  1.05it/s]"
     ]
    },
    {
     "name": "stderr",
     "output_type": "stream",
     "text": [
      "\r",
      " 82%|████████▏ | 210/256 [04:26<00:47,  1.04s/it]"
     ]
    },
    {
     "name": "stderr",
     "output_type": "stream",
     "text": [
      "\r",
      " 82%|████████▏ | 211/256 [04:28<00:49,  1.11s/it]"
     ]
    },
    {
     "name": "stderr",
     "output_type": "stream",
     "text": [
      "\r",
      " 83%|████████▎ | 212/256 [04:29<00:49,  1.12s/it]"
     ]
    },
    {
     "name": "stderr",
     "output_type": "stream",
     "text": [
      "\r",
      " 83%|████████▎ | 213/256 [04:30<00:50,  1.16s/it]"
     ]
    },
    {
     "name": "stderr",
     "output_type": "stream",
     "text": [
      "\r",
      " 84%|████████▎ | 214/256 [04:32<00:52,  1.24s/it]"
     ]
    },
    {
     "name": "stderr",
     "output_type": "stream",
     "text": [
      "\r",
      " 84%|████████▍ | 215/256 [04:33<00:50,  1.24s/it]"
     ]
    },
    {
     "name": "stderr",
     "output_type": "stream",
     "text": [
      "\r",
      " 84%|████████▍ | 216/256 [04:34<00:50,  1.27s/it]"
     ]
    },
    {
     "name": "stderr",
     "output_type": "stream",
     "text": [
      "\r",
      " 85%|████████▍ | 217/256 [04:35<00:49,  1.26s/it]"
     ]
    },
    {
     "name": "stderr",
     "output_type": "stream",
     "text": [
      "\r",
      " 85%|████████▌ | 218/256 [04:37<00:47,  1.26s/it]"
     ]
    },
    {
     "name": "stderr",
     "output_type": "stream",
     "text": [
      "\r",
      " 86%|████████▌ | 219/256 [04:38<00:47,  1.29s/it]"
     ]
    },
    {
     "name": "stderr",
     "output_type": "stream",
     "text": [
      "\r",
      " 86%|████████▌ | 220/256 [04:39<00:44,  1.25s/it]"
     ]
    },
    {
     "name": "stderr",
     "output_type": "stream",
     "text": [
      "\r",
      " 86%|████████▋ | 221/256 [04:40<00:40,  1.15s/it]"
     ]
    },
    {
     "name": "stderr",
     "output_type": "stream",
     "text": [
      "\r",
      " 87%|████████▋ | 222/256 [04:41<00:37,  1.12s/it]"
     ]
    },
    {
     "name": "stderr",
     "output_type": "stream",
     "text": [
      "\r",
      " 87%|████████▋ | 223/256 [04:42<00:35,  1.09s/it]"
     ]
    },
    {
     "name": "stderr",
     "output_type": "stream",
     "text": [
      "\r",
      " 88%|████████▊ | 224/256 [04:43<00:32,  1.02s/it]"
     ]
    },
    {
     "name": "stderr",
     "output_type": "stream",
     "text": [
      "\r",
      " 88%|████████▊ | 225/256 [04:44<00:33,  1.07s/it]"
     ]
    },
    {
     "name": "stderr",
     "output_type": "stream",
     "text": [
      "\r",
      " 88%|████████▊ | 226/256 [04:45<00:33,  1.13s/it]"
     ]
    },
    {
     "name": "stderr",
     "output_type": "stream",
     "text": [
      "\r",
      " 89%|████████▊ | 227/256 [04:47<00:33,  1.16s/it]"
     ]
    },
    {
     "name": "stderr",
     "output_type": "stream",
     "text": [
      "\r",
      " 89%|████████▉ | 228/256 [04:48<00:33,  1.20s/it]"
     ]
    },
    {
     "name": "stderr",
     "output_type": "stream",
     "text": [
      "\r",
      " 89%|████████▉ | 229/256 [04:49<00:33,  1.25s/it]"
     ]
    },
    {
     "name": "stderr",
     "output_type": "stream",
     "text": [
      "\r",
      " 90%|████████▉ | 230/256 [04:51<00:34,  1.31s/it]"
     ]
    },
    {
     "name": "stderr",
     "output_type": "stream",
     "text": [
      "\r",
      " 90%|█████████ | 231/256 [04:52<00:33,  1.33s/it]"
     ]
    },
    {
     "name": "stderr",
     "output_type": "stream",
     "text": [
      "\r",
      " 91%|█████████ | 232/256 [04:54<00:35,  1.46s/it]"
     ]
    },
    {
     "name": "stderr",
     "output_type": "stream",
     "text": [
      "\r",
      " 91%|█████████ | 233/256 [04:55<00:29,  1.30s/it]"
     ]
    },
    {
     "name": "stderr",
     "output_type": "stream",
     "text": [
      "\r",
      " 91%|█████████▏| 234/256 [04:56<00:25,  1.18s/it]"
     ]
    },
    {
     "name": "stderr",
     "output_type": "stream",
     "text": [
      "\r",
      " 92%|█████████▏| 235/256 [04:57<00:23,  1.13s/it]"
     ]
    },
    {
     "name": "stderr",
     "output_type": "stream",
     "text": [
      "\r",
      " 92%|█████████▏| 236/256 [04:58<00:21,  1.07s/it]"
     ]
    },
    {
     "name": "stderr",
     "output_type": "stream",
     "text": [
      "\r",
      " 93%|█████████▎| 237/256 [04:59<00:20,  1.06s/it]"
     ]
    },
    {
     "name": "stderr",
     "output_type": "stream",
     "text": [
      "\r",
      " 93%|█████████▎| 238/256 [05:00<00:18,  1.02s/it]"
     ]
    },
    {
     "name": "stderr",
     "output_type": "stream",
     "text": [
      "\r",
      " 93%|█████████▎| 239/256 [05:01<00:17,  1.00s/it]"
     ]
    },
    {
     "name": "stderr",
     "output_type": "stream",
     "text": [
      "\r",
      " 94%|█████████▍| 240/256 [05:02<00:15,  1.00it/s]"
     ]
    },
    {
     "name": "stderr",
     "output_type": "stream",
     "text": [
      "\r",
      " 94%|█████████▍| 241/256 [05:03<00:15,  1.04s/it]"
     ]
    },
    {
     "name": "stderr",
     "output_type": "stream",
     "text": [
      "\r",
      " 95%|█████████▍| 242/256 [05:04<00:14,  1.05s/it]"
     ]
    },
    {
     "name": "stderr",
     "output_type": "stream",
     "text": [
      "\r",
      " 95%|█████████▍| 243/256 [05:05<00:14,  1.08s/it]"
     ]
    },
    {
     "name": "stderr",
     "output_type": "stream",
     "text": [
      "\r",
      " 95%|█████████▌| 244/256 [05:06<00:13,  1.13s/it]"
     ]
    },
    {
     "name": "stderr",
     "output_type": "stream",
     "text": [
      "\r",
      " 96%|█████████▌| 245/256 [05:07<00:12,  1.16s/it]"
     ]
    },
    {
     "name": "stderr",
     "output_type": "stream",
     "text": [
      "\r",
      " 96%|█████████▌| 246/256 [05:09<00:11,  1.18s/it]"
     ]
    },
    {
     "name": "stderr",
     "output_type": "stream",
     "text": [
      "\r",
      " 96%|█████████▋| 247/256 [05:10<00:10,  1.14s/it]"
     ]
    },
    {
     "name": "stderr",
     "output_type": "stream",
     "text": [
      "\r",
      " 97%|█████████▋| 248/256 [05:11<00:09,  1.16s/it]"
     ]
    },
    {
     "name": "stderr",
     "output_type": "stream",
     "text": [
      "\r",
      " 97%|█████████▋| 249/256 [05:12<00:08,  1.22s/it]"
     ]
    },
    {
     "name": "stderr",
     "output_type": "stream",
     "text": [
      "\r",
      " 98%|█████████▊| 250/256 [05:13<00:07,  1.21s/it]"
     ]
    },
    {
     "name": "stderr",
     "output_type": "stream",
     "text": [
      "\r",
      " 98%|█████████▊| 251/256 [05:15<00:06,  1.21s/it]"
     ]
    },
    {
     "name": "stderr",
     "output_type": "stream",
     "text": [
      "\r",
      " 98%|█████████▊| 252/256 [05:16<00:04,  1.23s/it]"
     ]
    },
    {
     "name": "stderr",
     "output_type": "stream",
     "text": [
      "\r",
      " 99%|█████████▉| 253/256 [05:17<00:03,  1.15s/it]"
     ]
    },
    {
     "name": "stderr",
     "output_type": "stream",
     "text": [
      "\r",
      " 99%|█████████▉| 254/256 [05:18<00:02,  1.15s/it]"
     ]
    },
    {
     "name": "stderr",
     "output_type": "stream",
     "text": [
      "\r",
      "100%|█████████▉| 255/256 [05:19<00:01,  1.10s/it]"
     ]
    },
    {
     "name": "stderr",
     "output_type": "stream",
     "text": [
      "\r",
      "100%|██████████| 256/256 [05:20<00:00,  1.07s/it]"
     ]
    },
    {
     "name": "stderr",
     "output_type": "stream",
     "text": [
      "\r",
      "100%|██████████| 256/256 [05:20<00:00,  1.25s/it]"
     ]
    },
    {
     "name": "stderr",
     "output_type": "stream",
     "text": [
      "\n"
     ]
    }
   ],
   "source": [
    "deltas = get_deltas_v2(model_scGen, batchLevels=['cell_type','batch'])"
   ]
  },
  {
   "cell_type": "markdown",
   "id": "137fd474-7ecc-469a-8166-ba6c09528c60",
   "metadata": {
    "papermill": {
     "duration": 0.02152,
     "end_time": "2024-06-21T14:28:54.585202",
     "exception": false,
     "start_time": "2024-06-21T14:28:54.563682",
     "status": "completed"
    },
    "tags": []
   },
   "source": [
    "**Apply the learned deltas on the query data**"
   ]
  },
  {
   "cell_type": "code",
   "execution_count": 24,
   "id": "48d1470a-2dd3-43a0-bc78-966058996406",
   "metadata": {
    "execution": {
     "iopub.execute_input": "2024-06-21T14:28:54.628211Z",
     "iopub.status.busy": "2024-06-21T14:28:54.627956Z",
     "iopub.status.idle": "2024-06-21T14:31:50.791932Z",
     "shell.execute_reply": "2024-06-21T14:31:50.790860Z"
    },
    "papermill": {
     "duration": 176.187518,
     "end_time": "2024-06-21T14:31:50.793711",
     "exception": false,
     "start_time": "2024-06-21T14:28:54.606193",
     "status": "completed"
    },
    "tags": []
   },
   "outputs": [
    {
     "name": "stderr",
     "output_type": "stream",
     "text": [
      "\r",
      "  0%|          | 0/251 [00:00<?, ?it/s]"
     ]
    },
    {
     "name": "stderr",
     "output_type": "stream",
     "text": [
      "\r",
      "  0%|          | 1/251 [00:00<00:45,  5.47it/s]"
     ]
    },
    {
     "name": "stderr",
     "output_type": "stream",
     "text": [
      "\r",
      "  1%|          | 3/251 [00:00<00:27,  9.00it/s]"
     ]
    },
    {
     "name": "stderr",
     "output_type": "stream",
     "text": [
      "\r",
      "  2%|▏         | 5/251 [00:00<00:24,  9.87it/s]"
     ]
    },
    {
     "name": "stderr",
     "output_type": "stream",
     "text": [
      "\r",
      "  3%|▎         | 7/251 [00:00<00:25,  9.47it/s]"
     ]
    },
    {
     "name": "stderr",
     "output_type": "stream",
     "text": [
      "\r",
      "  3%|▎         | 8/251 [00:00<00:25,  9.43it/s]"
     ]
    },
    {
     "name": "stderr",
     "output_type": "stream",
     "text": [
      "\r",
      "  4%|▍         | 10/251 [00:01<00:25,  9.36it/s]"
     ]
    },
    {
     "name": "stderr",
     "output_type": "stream",
     "text": [
      "\r",
      "  5%|▍         | 12/251 [00:01<00:25,  9.50it/s]"
     ]
    },
    {
     "name": "stderr",
     "output_type": "stream",
     "text": [
      "\r",
      "  6%|▌         | 14/251 [00:01<00:22, 10.64it/s]"
     ]
    },
    {
     "name": "stderr",
     "output_type": "stream",
     "text": [
      "\r",
      "  6%|▋         | 16/251 [00:01<00:22, 10.57it/s]"
     ]
    },
    {
     "name": "stderr",
     "output_type": "stream",
     "text": [
      "\r",
      "  7%|▋         | 18/251 [00:01<00:23, 10.06it/s]"
     ]
    },
    {
     "name": "stderr",
     "output_type": "stream",
     "text": [
      "\r",
      "  8%|▊         | 20/251 [00:02<00:23, 10.01it/s]"
     ]
    },
    {
     "name": "stderr",
     "output_type": "stream",
     "text": [
      "\r",
      "  9%|▉         | 22/251 [00:02<00:22, 10.16it/s]"
     ]
    },
    {
     "name": "stderr",
     "output_type": "stream",
     "text": [
      "\r",
      " 10%|▉         | 24/251 [00:02<00:22, 10.10it/s]"
     ]
    },
    {
     "name": "stderr",
     "output_type": "stream",
     "text": [
      "\r",
      " 10%|█         | 26/251 [00:02<00:20, 10.84it/s]"
     ]
    },
    {
     "name": "stderr",
     "output_type": "stream",
     "text": [
      "\r",
      " 11%|█         | 28/251 [00:02<00:20, 10.71it/s]"
     ]
    },
    {
     "name": "stderr",
     "output_type": "stream",
     "text": [
      "\r",
      " 12%|█▏        | 30/251 [00:03<00:23,  9.37it/s]"
     ]
    },
    {
     "name": "stderr",
     "output_type": "stream",
     "text": [
      "\r",
      " 13%|█▎        | 32/251 [00:03<00:23,  9.38it/s]"
     ]
    },
    {
     "name": "stderr",
     "output_type": "stream",
     "text": [
      "\r",
      " 13%|█▎        | 33/251 [00:03<00:22,  9.48it/s]"
     ]
    },
    {
     "name": "stderr",
     "output_type": "stream",
     "text": [
      "\r",
      " 14%|█▍        | 35/251 [00:03<00:21,  9.98it/s]"
     ]
    },
    {
     "name": "stderr",
     "output_type": "stream",
     "text": [
      "\r",
      " 15%|█▍        | 37/251 [00:03<00:20, 10.21it/s]"
     ]
    },
    {
     "name": "stderr",
     "output_type": "stream",
     "text": [
      "\r",
      " 16%|█▌        | 39/251 [00:03<00:20, 10.38it/s]"
     ]
    },
    {
     "name": "stderr",
     "output_type": "stream",
     "text": [
      "\r",
      " 16%|█▋        | 41/251 [00:04<00:20, 10.41it/s]"
     ]
    },
    {
     "name": "stderr",
     "output_type": "stream",
     "text": [
      "\r",
      " 17%|█▋        | 43/251 [00:04<00:19, 10.66it/s]"
     ]
    },
    {
     "name": "stderr",
     "output_type": "stream",
     "text": [
      "\r",
      " 18%|█▊        | 45/251 [00:04<00:18, 11.27it/s]"
     ]
    },
    {
     "name": "stderr",
     "output_type": "stream",
     "text": [
      "\r",
      " 19%|█▊        | 47/251 [00:04<00:18, 10.94it/s]"
     ]
    },
    {
     "name": "stderr",
     "output_type": "stream",
     "text": [
      "\r",
      " 20%|█▉        | 49/251 [00:04<00:18, 10.88it/s]"
     ]
    },
    {
     "name": "stderr",
     "output_type": "stream",
     "text": [
      "\r",
      " 20%|██        | 51/251 [00:04<00:17, 11.15it/s]"
     ]
    },
    {
     "name": "stderr",
     "output_type": "stream",
     "text": [
      "\r",
      " 21%|██        | 53/251 [00:05<00:17, 11.60it/s]"
     ]
    },
    {
     "name": "stderr",
     "output_type": "stream",
     "text": [
      "\r",
      " 22%|██▏       | 55/251 [00:05<00:16, 11.62it/s]"
     ]
    },
    {
     "name": "stderr",
     "output_type": "stream",
     "text": [
      "\r",
      " 23%|██▎       | 57/251 [00:05<00:17, 11.15it/s]"
     ]
    },
    {
     "name": "stderr",
     "output_type": "stream",
     "text": [
      "\r",
      " 24%|██▎       | 59/251 [00:05<00:17, 11.01it/s]"
     ]
    },
    {
     "name": "stderr",
     "output_type": "stream",
     "text": [
      "\r",
      " 24%|██▍       | 61/251 [00:05<00:19,  9.92it/s]"
     ]
    },
    {
     "name": "stderr",
     "output_type": "stream",
     "text": [
      "\r",
      " 25%|██▌       | 63/251 [00:06<00:18, 10.43it/s]"
     ]
    },
    {
     "name": "stderr",
     "output_type": "stream",
     "text": [
      "\r",
      " 26%|██▌       | 65/251 [00:06<00:16, 11.22it/s]"
     ]
    },
    {
     "name": "stderr",
     "output_type": "stream",
     "text": [
      "\r",
      " 27%|██▋       | 67/251 [00:06<00:18,  9.80it/s]"
     ]
    },
    {
     "name": "stderr",
     "output_type": "stream",
     "text": [
      "\r",
      " 27%|██▋       | 69/251 [00:06<00:18,  9.86it/s]"
     ]
    },
    {
     "name": "stderr",
     "output_type": "stream",
     "text": [
      "\r",
      " 28%|██▊       | 71/251 [00:07<00:20,  8.73it/s]"
     ]
    },
    {
     "name": "stderr",
     "output_type": "stream",
     "text": [
      "\r",
      " 29%|██▊       | 72/251 [00:07<00:21,  8.16it/s]"
     ]
    },
    {
     "name": "stderr",
     "output_type": "stream",
     "text": [
      "\r",
      " 29%|██▉       | 73/251 [00:07<00:24,  7.40it/s]"
     ]
    },
    {
     "name": "stderr",
     "output_type": "stream",
     "text": [
      "\r",
      " 30%|██▉       | 75/251 [00:07<00:21,  8.21it/s]"
     ]
    },
    {
     "name": "stderr",
     "output_type": "stream",
     "text": [
      "\r",
      " 30%|███       | 76/251 [00:07<00:20,  8.38it/s]"
     ]
    },
    {
     "name": "stderr",
     "output_type": "stream",
     "text": [
      "\r",
      " 31%|███       | 78/251 [00:07<00:19,  8.82it/s]"
     ]
    },
    {
     "name": "stderr",
     "output_type": "stream",
     "text": [
      "\r",
      " 32%|███▏      | 80/251 [00:08<00:18,  9.24it/s]"
     ]
    },
    {
     "name": "stderr",
     "output_type": "stream",
     "text": [
      "\r",
      " 32%|███▏      | 81/251 [00:08<00:19,  8.51it/s]"
     ]
    },
    {
     "name": "stderr",
     "output_type": "stream",
     "text": [
      "\r",
      " 33%|███▎      | 82/251 [00:08<00:19,  8.75it/s]"
     ]
    },
    {
     "name": "stderr",
     "output_type": "stream",
     "text": [
      "\r",
      " 33%|███▎      | 83/251 [00:08<00:20,  8.26it/s]"
     ]
    },
    {
     "name": "stderr",
     "output_type": "stream",
     "text": [
      "\r",
      " 34%|███▍      | 85/251 [00:08<00:17,  9.23it/s]"
     ]
    },
    {
     "name": "stderr",
     "output_type": "stream",
     "text": [
      "\r",
      " 34%|███▍      | 86/251 [00:08<00:17,  9.39it/s]"
     ]
    },
    {
     "name": "stderr",
     "output_type": "stream",
     "text": [
      "\r",
      " 35%|███▌      | 88/251 [00:08<00:16,  9.67it/s]"
     ]
    },
    {
     "name": "stderr",
     "output_type": "stream",
     "text": [
      "\r",
      " 36%|███▌      | 90/251 [00:09<00:16, 10.03it/s]"
     ]
    },
    {
     "name": "stderr",
     "output_type": "stream",
     "text": [
      "\r",
      " 37%|███▋      | 92/251 [00:09<00:15, 10.45it/s]"
     ]
    },
    {
     "name": "stderr",
     "output_type": "stream",
     "text": [
      "\r",
      " 37%|███▋      | 94/251 [00:09<00:16,  9.35it/s]"
     ]
    },
    {
     "name": "stderr",
     "output_type": "stream",
     "text": [
      "\r",
      " 38%|███▊      | 96/251 [00:09<00:15,  9.88it/s]"
     ]
    },
    {
     "name": "stderr",
     "output_type": "stream",
     "text": [
      "\r",
      " 39%|███▉      | 98/251 [00:09<00:15, 10.01it/s]"
     ]
    },
    {
     "name": "stderr",
     "output_type": "stream",
     "text": [
      "\r",
      " 40%|███▉      | 100/251 [00:10<00:14, 10.30it/s]"
     ]
    },
    {
     "name": "stderr",
     "output_type": "stream",
     "text": [
      "\r",
      " 41%|████      | 102/251 [00:10<00:14, 10.33it/s]"
     ]
    },
    {
     "name": "stderr",
     "output_type": "stream",
     "text": [
      "\r",
      " 41%|████▏     | 104/251 [00:10<00:14, 10.36it/s]"
     ]
    },
    {
     "name": "stderr",
     "output_type": "stream",
     "text": [
      "\r",
      " 42%|████▏     | 106/251 [00:10<00:13, 10.54it/s]"
     ]
    },
    {
     "name": "stderr",
     "output_type": "stream",
     "text": [
      "\r",
      " 43%|████▎     | 108/251 [00:10<00:13, 10.23it/s]"
     ]
    },
    {
     "name": "stderr",
     "output_type": "stream",
     "text": [
      "\r",
      " 44%|████▍     | 110/251 [00:11<00:13, 10.50it/s]"
     ]
    },
    {
     "name": "stderr",
     "output_type": "stream",
     "text": [
      "\r",
      " 45%|████▍     | 112/251 [00:11<00:13, 10.65it/s]"
     ]
    },
    {
     "name": "stderr",
     "output_type": "stream",
     "text": [
      "\r",
      " 45%|████▌     | 114/251 [00:11<00:13, 10.47it/s]"
     ]
    },
    {
     "name": "stderr",
     "output_type": "stream",
     "text": [
      "\r",
      " 46%|████▌     | 116/251 [00:11<00:12, 10.71it/s]"
     ]
    },
    {
     "name": "stderr",
     "output_type": "stream",
     "text": [
      "\r",
      " 47%|████▋     | 118/251 [00:11<00:12, 11.07it/s]"
     ]
    },
    {
     "name": "stderr",
     "output_type": "stream",
     "text": [
      "\r",
      " 48%|████▊     | 120/251 [00:11<00:11, 11.38it/s]"
     ]
    },
    {
     "name": "stderr",
     "output_type": "stream",
     "text": [
      "\r",
      " 49%|████▊     | 122/251 [00:12<00:11, 11.18it/s]"
     ]
    },
    {
     "name": "stderr",
     "output_type": "stream",
     "text": [
      "\r",
      " 49%|████▉     | 124/251 [00:12<00:11, 11.08it/s]"
     ]
    },
    {
     "name": "stderr",
     "output_type": "stream",
     "text": [
      "\r",
      " 50%|█████     | 126/251 [00:12<00:11, 11.35it/s]"
     ]
    },
    {
     "name": "stderr",
     "output_type": "stream",
     "text": [
      "\r",
      " 51%|█████     | 128/251 [00:12<00:11, 10.81it/s]"
     ]
    },
    {
     "name": "stderr",
     "output_type": "stream",
     "text": [
      "\r",
      " 52%|█████▏    | 130/251 [00:12<00:10, 11.02it/s]"
     ]
    },
    {
     "name": "stderr",
     "output_type": "stream",
     "text": [
      "\r",
      " 53%|█████▎    | 132/251 [00:13<00:11, 10.80it/s]"
     ]
    },
    {
     "name": "stderr",
     "output_type": "stream",
     "text": [
      "\r",
      " 53%|█████▎    | 134/251 [00:13<00:11, 10.63it/s]"
     ]
    },
    {
     "name": "stderr",
     "output_type": "stream",
     "text": [
      "\r",
      " 54%|█████▍    | 136/251 [00:13<00:10, 10.52it/s]"
     ]
    },
    {
     "name": "stderr",
     "output_type": "stream",
     "text": [
      "\r",
      " 55%|█████▍    | 138/251 [00:13<00:10, 10.35it/s]"
     ]
    },
    {
     "name": "stderr",
     "output_type": "stream",
     "text": [
      "\r",
      " 56%|█████▌    | 140/251 [00:13<00:10, 10.16it/s]"
     ]
    },
    {
     "name": "stderr",
     "output_type": "stream",
     "text": [
      "\r",
      " 57%|█████▋    | 142/251 [00:14<00:10, 10.28it/s]"
     ]
    },
    {
     "name": "stderr",
     "output_type": "stream",
     "text": [
      "\r",
      " 57%|█████▋    | 144/251 [00:14<00:10,  9.85it/s]"
     ]
    },
    {
     "name": "stderr",
     "output_type": "stream",
     "text": [
      "\r",
      " 58%|█████▊    | 145/251 [00:14<00:11,  9.36it/s]"
     ]
    },
    {
     "name": "stderr",
     "output_type": "stream",
     "text": [
      "\r",
      " 58%|█████▊    | 146/251 [00:14<00:11,  9.26it/s]"
     ]
    },
    {
     "name": "stderr",
     "output_type": "stream",
     "text": [
      "\r",
      " 59%|█████▊    | 147/251 [00:14<00:11,  8.77it/s]"
     ]
    },
    {
     "name": "stderr",
     "output_type": "stream",
     "text": [
      "\r",
      " 59%|█████▉    | 148/251 [00:14<00:11,  8.79it/s]"
     ]
    },
    {
     "name": "stderr",
     "output_type": "stream",
     "text": [
      "\r",
      " 59%|█████▉    | 149/251 [00:14<00:11,  8.91it/s]"
     ]
    },
    {
     "name": "stderr",
     "output_type": "stream",
     "text": [
      "\r",
      " 60%|██████    | 151/251 [00:15<00:10,  9.52it/s]"
     ]
    },
    {
     "name": "stderr",
     "output_type": "stream",
     "text": [
      "\r",
      " 61%|██████    | 152/251 [00:15<00:10,  9.38it/s]"
     ]
    },
    {
     "name": "stderr",
     "output_type": "stream",
     "text": [
      "\r",
      " 61%|██████    | 153/251 [00:15<00:12,  7.85it/s]"
     ]
    },
    {
     "name": "stderr",
     "output_type": "stream",
     "text": [
      "\r",
      " 61%|██████▏   | 154/251 [00:15<00:14,  6.59it/s]"
     ]
    },
    {
     "name": "stderr",
     "output_type": "stream",
     "text": [
      "\r",
      " 62%|██████▏   | 155/251 [00:15<00:15,  6.25it/s]"
     ]
    },
    {
     "name": "stderr",
     "output_type": "stream",
     "text": [
      "\r",
      " 62%|██████▏   | 156/251 [00:16<00:17,  5.39it/s]"
     ]
    },
    {
     "name": "stderr",
     "output_type": "stream",
     "text": [
      "\r",
      " 63%|██████▎   | 157/251 [00:16<00:15,  6.07it/s]"
     ]
    },
    {
     "name": "stderr",
     "output_type": "stream",
     "text": [
      "\r",
      " 63%|██████▎   | 158/251 [00:16<00:14,  6.64it/s]"
     ]
    },
    {
     "name": "stderr",
     "output_type": "stream",
     "text": [
      "\r",
      " 64%|██████▎   | 160/251 [00:16<00:12,  7.54it/s]"
     ]
    },
    {
     "name": "stderr",
     "output_type": "stream",
     "text": [
      "\r",
      " 64%|██████▍   | 161/251 [00:16<00:11,  7.87it/s]"
     ]
    },
    {
     "name": "stderr",
     "output_type": "stream",
     "text": [
      "\r",
      " 65%|██████▍   | 162/251 [00:16<00:10,  8.13it/s]"
     ]
    },
    {
     "name": "stderr",
     "output_type": "stream",
     "text": [
      "\r",
      " 65%|██████▍   | 163/251 [00:16<00:10,  8.44it/s]"
     ]
    },
    {
     "name": "stderr",
     "output_type": "stream",
     "text": [
      "\r",
      " 65%|██████▌   | 164/251 [00:16<00:10,  8.23it/s]"
     ]
    },
    {
     "name": "stderr",
     "output_type": "stream",
     "text": [
      "\r",
      " 66%|██████▌   | 166/251 [00:17<00:09,  8.67it/s]"
     ]
    },
    {
     "name": "stderr",
     "output_type": "stream",
     "text": [
      "\r",
      " 67%|██████▋   | 168/251 [00:17<00:09,  8.74it/s]"
     ]
    },
    {
     "name": "stderr",
     "output_type": "stream",
     "text": [
      "\r",
      " 68%|██████▊   | 170/251 [00:17<00:09,  8.91it/s]"
     ]
    },
    {
     "name": "stderr",
     "output_type": "stream",
     "text": [
      "\r",
      " 68%|██████▊   | 171/251 [00:17<00:09,  8.87it/s]"
     ]
    },
    {
     "name": "stderr",
     "output_type": "stream",
     "text": [
      "\r",
      " 69%|██████▊   | 172/251 [00:17<00:09,  8.78it/s]"
     ]
    },
    {
     "name": "stderr",
     "output_type": "stream",
     "text": [
      "\r",
      " 69%|██████▉   | 173/251 [00:17<00:08,  8.82it/s]"
     ]
    },
    {
     "name": "stderr",
     "output_type": "stream",
     "text": [
      "\r",
      " 69%|██████▉   | 174/251 [00:18<00:08,  8.73it/s]"
     ]
    },
    {
     "name": "stderr",
     "output_type": "stream",
     "text": [
      "\r",
      " 70%|██████▉   | 175/251 [00:18<00:08,  8.57it/s]"
     ]
    },
    {
     "name": "stderr",
     "output_type": "stream",
     "text": [
      "\r",
      " 70%|███████   | 176/251 [00:18<00:09,  7.81it/s]"
     ]
    },
    {
     "name": "stderr",
     "output_type": "stream",
     "text": [
      "\r",
      " 71%|███████   | 177/251 [00:18<00:08,  8.31it/s]"
     ]
    },
    {
     "name": "stderr",
     "output_type": "stream",
     "text": [
      "\r",
      " 71%|███████   | 178/251 [00:18<00:08,  8.60it/s]"
     ]
    },
    {
     "name": "stderr",
     "output_type": "stream",
     "text": [
      "\r",
      " 72%|███████▏  | 180/251 [00:18<00:07,  9.95it/s]"
     ]
    },
    {
     "name": "stderr",
     "output_type": "stream",
     "text": [
      "\r",
      " 73%|███████▎  | 182/251 [00:18<00:06,  9.93it/s]"
     ]
    },
    {
     "name": "stderr",
     "output_type": "stream",
     "text": [
      "\r",
      " 73%|███████▎  | 183/251 [00:19<00:06,  9.73it/s]"
     ]
    },
    {
     "name": "stderr",
     "output_type": "stream",
     "text": [
      "\r",
      " 73%|███████▎  | 184/251 [00:19<00:07,  9.31it/s]"
     ]
    },
    {
     "name": "stderr",
     "output_type": "stream",
     "text": [
      "\r",
      " 74%|███████▎  | 185/251 [00:19<00:07,  9.02it/s]"
     ]
    },
    {
     "name": "stderr",
     "output_type": "stream",
     "text": [
      "\r",
      " 74%|███████▍  | 186/251 [00:19<00:07,  8.90it/s]"
     ]
    },
    {
     "name": "stderr",
     "output_type": "stream",
     "text": [
      "\r",
      " 75%|███████▍  | 187/251 [00:19<00:07,  9.00it/s]"
     ]
    },
    {
     "name": "stderr",
     "output_type": "stream",
     "text": [
      "\r",
      " 75%|███████▍  | 188/251 [00:19<00:07,  8.76it/s]"
     ]
    },
    {
     "name": "stderr",
     "output_type": "stream",
     "text": [
      "\r",
      " 76%|███████▌  | 190/251 [00:19<00:06,  9.93it/s]"
     ]
    },
    {
     "name": "stderr",
     "output_type": "stream",
     "text": [
      "\r",
      " 76%|███████▌  | 191/251 [00:19<00:06,  9.94it/s]"
     ]
    },
    {
     "name": "stderr",
     "output_type": "stream",
     "text": [
      "\r",
      " 77%|███████▋  | 193/251 [00:20<00:05, 10.79it/s]"
     ]
    },
    {
     "name": "stderr",
     "output_type": "stream",
     "text": [
      "\r",
      " 78%|███████▊  | 195/251 [00:20<00:05, 10.74it/s]"
     ]
    },
    {
     "name": "stderr",
     "output_type": "stream",
     "text": [
      "\r",
      " 78%|███████▊  | 197/251 [00:20<00:04, 11.24it/s]"
     ]
    },
    {
     "name": "stderr",
     "output_type": "stream",
     "text": [
      "\r",
      " 79%|███████▉  | 199/251 [00:20<00:04, 11.27it/s]"
     ]
    },
    {
     "name": "stderr",
     "output_type": "stream",
     "text": [
      "\r",
      " 80%|████████  | 201/251 [00:20<00:04, 11.65it/s]"
     ]
    },
    {
     "name": "stderr",
     "output_type": "stream",
     "text": [
      "\r",
      " 81%|████████  | 203/251 [00:20<00:04, 11.74it/s]"
     ]
    },
    {
     "name": "stderr",
     "output_type": "stream",
     "text": [
      "\r",
      " 82%|████████▏ | 205/251 [00:21<00:03, 11.54it/s]"
     ]
    },
    {
     "name": "stderr",
     "output_type": "stream",
     "text": [
      "\r",
      " 82%|████████▏ | 207/251 [00:21<00:03, 11.45it/s]"
     ]
    },
    {
     "name": "stderr",
     "output_type": "stream",
     "text": [
      "\r",
      " 83%|████████▎ | 209/251 [00:21<00:03, 11.14it/s]"
     ]
    },
    {
     "name": "stderr",
     "output_type": "stream",
     "text": [
      "\r",
      " 84%|████████▍ | 211/251 [00:21<00:03, 10.53it/s]"
     ]
    },
    {
     "name": "stderr",
     "output_type": "stream",
     "text": [
      "\r",
      " 85%|████████▍ | 213/251 [00:21<00:03, 10.42it/s]"
     ]
    },
    {
     "name": "stderr",
     "output_type": "stream",
     "text": [
      "\r",
      " 86%|████████▌ | 215/251 [00:22<00:03, 10.39it/s]"
     ]
    },
    {
     "name": "stderr",
     "output_type": "stream",
     "text": [
      "\r",
      " 86%|████████▋ | 217/251 [00:22<00:03, 10.83it/s]"
     ]
    },
    {
     "name": "stderr",
     "output_type": "stream",
     "text": [
      "\r",
      " 87%|████████▋ | 219/251 [00:22<00:02, 10.89it/s]"
     ]
    },
    {
     "name": "stderr",
     "output_type": "stream",
     "text": [
      "\r",
      " 88%|████████▊ | 221/251 [00:22<00:02, 10.72it/s]"
     ]
    },
    {
     "name": "stderr",
     "output_type": "stream",
     "text": [
      "\r",
      " 89%|████████▉ | 223/251 [00:22<00:02, 10.87it/s]"
     ]
    },
    {
     "name": "stderr",
     "output_type": "stream",
     "text": [
      "\r",
      " 90%|████████▉ | 225/251 [00:22<00:02, 10.71it/s]"
     ]
    },
    {
     "name": "stderr",
     "output_type": "stream",
     "text": [
      "\r",
      " 90%|█████████ | 227/251 [00:23<00:02, 10.72it/s]"
     ]
    },
    {
     "name": "stderr",
     "output_type": "stream",
     "text": [
      "\r",
      " 91%|█████████ | 229/251 [00:23<00:02, 10.70it/s]"
     ]
    },
    {
     "name": "stderr",
     "output_type": "stream",
     "text": [
      "\r",
      " 92%|█████████▏| 231/251 [00:23<00:01, 10.32it/s]"
     ]
    },
    {
     "name": "stderr",
     "output_type": "stream",
     "text": [
      "\r",
      " 93%|█████████▎| 233/251 [00:23<00:01, 10.00it/s]"
     ]
    },
    {
     "name": "stderr",
     "output_type": "stream",
     "text": [
      "\r",
      " 94%|█████████▎| 235/251 [00:23<00:01, 10.15it/s]"
     ]
    },
    {
     "name": "stderr",
     "output_type": "stream",
     "text": [
      "\r",
      " 94%|█████████▍| 237/251 [00:24<00:01, 10.60it/s]"
     ]
    },
    {
     "name": "stderr",
     "output_type": "stream",
     "text": [
      "\r",
      " 95%|█████████▌| 239/251 [00:24<00:01, 10.85it/s]"
     ]
    },
    {
     "name": "stderr",
     "output_type": "stream",
     "text": [
      "\r",
      " 96%|█████████▌| 241/251 [00:24<00:00, 10.53it/s]"
     ]
    },
    {
     "name": "stderr",
     "output_type": "stream",
     "text": [
      "\r",
      " 97%|█████████▋| 243/251 [00:24<00:00, 11.15it/s]"
     ]
    },
    {
     "name": "stderr",
     "output_type": "stream",
     "text": [
      "\r",
      " 98%|█████████▊| 245/251 [00:24<00:00, 10.27it/s]"
     ]
    },
    {
     "name": "stderr",
     "output_type": "stream",
     "text": [
      "\r",
      " 98%|█████████▊| 247/251 [00:25<00:00, 10.20it/s]"
     ]
    },
    {
     "name": "stderr",
     "output_type": "stream",
     "text": [
      "\r",
      " 99%|█████████▉| 249/251 [00:25<00:00,  9.96it/s]"
     ]
    },
    {
     "name": "stderr",
     "output_type": "stream",
     "text": [
      "\r",
      "100%|██████████| 251/251 [00:25<00:00, 10.17it/s]"
     ]
    },
    {
     "name": "stderr",
     "output_type": "stream",
     "text": [
      "\r",
      "100%|██████████| 251/251 [00:25<00:00,  9.85it/s]"
     ]
    },
    {
     "name": "stderr",
     "output_type": "stream",
     "text": [
      "\n"
     ]
    },
    {
     "name": "stdout",
     "output_type": "stream",
     "text": [
      "\u001b[34mINFO    \u001b[0m Input AnnData not setup with scvi-tools. attempting to transfer AnnData setup                             \n"
     ]
    }
   ],
   "source": [
    "adataQ.obs['cell_type'] = adataQ.obs[f'{annotation}_pred']\n",
    "adataQcorr = batch_removal_v2(model_scGen, adata=adataQ, deltas=deltas, batchLevels=['cell_type','batch'])"
   ]
  },
  {
   "cell_type": "code",
   "execution_count": 25,
   "id": "eea8c8fb-843e-4771-b7bd-c71605c3c968",
   "metadata": {
    "execution": {
     "iopub.execute_input": "2024-06-21T14:31:50.850913Z",
     "iopub.status.busy": "2024-06-21T14:31:50.850338Z",
     "iopub.status.idle": "2024-06-21T14:31:52.296613Z",
     "shell.execute_reply": "2024-06-21T14:31:52.296011Z"
    },
    "papermill": {
     "duration": 1.475746,
     "end_time": "2024-06-21T14:31:52.297688",
     "exception": false,
     "start_time": "2024-06-21T14:31:50.821942",
     "status": "completed"
    },
    "tags": []
   },
   "outputs": [],
   "source": [
    "pseudobulkQUERY = aggregating_features(Z=adataQcorr.obsm['corrected_latent'], \n",
    "                     min_observation=0, \n",
    "                     obsDF=adataQcorr.obs[['sampleID','disease','Level1_pred','batch','studyID']], obs_names_col = ['sampleID','Level1_pred'])"
   ]
  },
  {
   "cell_type": "code",
   "execution_count": 26,
   "id": "6f334c7e-0938-4954-a389-77bf7a276bea",
   "metadata": {
    "execution": {
     "iopub.execute_input": "2024-06-21T14:31:52.353992Z",
     "iopub.status.busy": "2024-06-21T14:31:52.353554Z",
     "iopub.status.idle": "2024-06-21T14:31:52.462995Z",
     "shell.execute_reply": "2024-06-21T14:31:52.462482Z"
    },
    "papermill": {
     "duration": 0.138958,
     "end_time": "2024-06-21T14:31:52.464423",
     "exception": false,
     "start_time": "2024-06-21T14:31:52.325465",
     "status": "completed"
    },
    "tags": []
   },
   "outputs": [],
   "source": [
    "pseudobulkQUERY.write(here(f\"03_downstream_analysis/08_PatientClassifier/scGen/results/02_{dataset}_scGenIntegrated_PSEUDOBULK_{n_latent}nLT_{batch}_{annotation}\"), compression = 'gzip')"
   ]
  },
  {
   "cell_type": "markdown",
   "id": "0ae1fc6f-ec95-4853-9f64-1c1ae2b98c36",
   "metadata": {
    "papermill": {
     "duration": 0.027526,
     "end_time": "2024-06-21T14:31:52.519865",
     "exception": false,
     "start_time": "2024-06-21T14:31:52.492339",
     "status": "completed"
    },
    "tags": []
   },
   "source": [
    "## Test one classifier"
   ]
  },
  {
   "cell_type": "markdown",
   "id": "3e0b1a3d-4f1e-4976-bc65-c1e682cc8683",
   "metadata": {
    "execution": {
     "iopub.execute_input": "2024-06-14T13:18:33.857967Z",
     "iopub.status.busy": "2024-06-14T13:18:33.857610Z",
     "iopub.status.idle": "2024-06-14T13:18:34.368629Z",
     "shell.execute_reply": "2024-06-14T13:18:34.367905Z",
     "shell.execute_reply.started": "2024-06-14T13:18:33.857947Z"
    },
    "papermill": {
     "duration": 0.02787,
     "end_time": "2024-06-21T14:31:52.575087",
     "exception": false,
     "start_time": "2024-06-21T14:31:52.547217",
     "status": "completed"
    },
    "tags": []
   },
   "source": [
    "**Remove unwanted cell-types**"
   ]
  },
  {
   "cell_type": "code",
   "execution_count": 27,
   "id": "27d83577-8d35-4b3c-9d35-cb22a3b9840a",
   "metadata": {
    "execution": {
     "iopub.execute_input": "2024-06-21T14:31:52.630703Z",
     "iopub.status.busy": "2024-06-21T14:31:52.630406Z",
     "iopub.status.idle": "2024-06-21T14:31:52.692004Z",
     "shell.execute_reply": "2024-06-21T14:31:52.691490Z"
    },
    "papermill": {
     "duration": 0.09058,
     "end_time": "2024-06-21T14:31:52.692959",
     "exception": false,
     "start_time": "2024-06-21T14:31:52.602379",
     "status": "completed"
    },
    "tags": []
   },
   "outputs": [],
   "source": [
    "pseudobulkTRAINfilt = pseudobulkTRAIN[~pseudobulkTRAIN.obs.Level1.isin(['Cycling_cells','RBC','Progenitors','Platelets'])]\n",
    "pseudobulkQUERYfilt = pseudobulkQUERY[~pseudobulkQUERY.obs.Level1_pred.isin(['Cycling_cells','RBC','Progenitors','Platelets'])]"
   ]
  },
  {
   "cell_type": "markdown",
   "id": "7d78fe98-a735-4ef2-b9e6-34a01206c640",
   "metadata": {
    "papermill": {
     "duration": 0.027899,
     "end_time": "2024-06-21T14:31:52.748400",
     "exception": false,
     "start_time": "2024-06-21T14:31:52.720501",
     "status": "completed"
    },
    "tags": []
   },
   "source": [
    "Here, we try to classify patient with a kNN classifier. The proper patient classification will be performend in a dedicated notebook. Thus, the following won't be the final results"
   ]
  },
  {
   "cell_type": "code",
   "execution_count": 28,
   "id": "3653c325-0d7d-4207-86cc-ebf82cbaf557",
   "metadata": {
    "execution": {
     "iopub.execute_input": "2024-06-21T14:31:52.806236Z",
     "iopub.status.busy": "2024-06-21T14:31:52.805880Z",
     "iopub.status.idle": "2024-06-21T14:31:53.523081Z",
     "shell.execute_reply": "2024-06-21T14:31:53.522656Z"
    },
    "papermill": {
     "duration": 0.746539,
     "end_time": "2024-06-21T14:31:53.524057",
     "exception": false,
     "start_time": "2024-06-21T14:31:52.777518",
     "status": "completed"
    },
    "tags": []
   },
   "outputs": [
    {
     "name": "stderr",
     "output_type": "stream",
     "text": [
      "\r",
      "  0%|          | 0/11 [00:00<?, ?it/s]"
     ]
    },
    {
     "name": "stderr",
     "output_type": "stream",
     "text": [
      "\r",
      " 18%|█▊        | 2/11 [00:00<00:00, 12.58it/s]"
     ]
    },
    {
     "name": "stderr",
     "output_type": "stream",
     "text": [
      "\r",
      " 36%|███▋      | 4/11 [00:00<00:00, 14.94it/s]"
     ]
    },
    {
     "name": "stderr",
     "output_type": "stream",
     "text": [
      "\r",
      " 55%|█████▍    | 6/11 [00:00<00:00, 16.56it/s]"
     ]
    },
    {
     "name": "stderr",
     "output_type": "stream",
     "text": [
      "\r",
      " 73%|███████▎  | 8/11 [00:00<00:00, 17.44it/s]"
     ]
    },
    {
     "name": "stderr",
     "output_type": "stream",
     "text": [
      "\r",
      " 91%|█████████ | 10/11 [00:00<00:00, 17.86it/s]"
     ]
    },
    {
     "name": "stderr",
     "output_type": "stream",
     "text": [
      "\r",
      "100%|██████████| 11/11 [00:00<00:00, 16.86it/s]"
     ]
    },
    {
     "name": "stderr",
     "output_type": "stream",
     "text": [
      "\n"
     ]
    },
    {
     "data": {
      "text/plain": [
       "{'B': {'clf': KNeighborsClassifier(metric='cosine', n_jobs=-1, n_neighbors=2),\n",
       "  'bAcc': 0.9117967238013678,\n",
       "  'nObs': 814},\n",
       " 'DC': {'clf': KNeighborsClassifier(metric='cosine', n_jobs=-1, n_neighbors=2),\n",
       "  'bAcc': 0.9024815176924978,\n",
       "  'nObs': 801},\n",
       " 'ILC': {'clf': KNeighborsClassifier(metric='cosine', n_jobs=-1, n_neighbors=2),\n",
       "  'bAcc': 0.9228111532716797,\n",
       "  'nObs': 817},\n",
       " 'Mono': {'clf': KNeighborsClassifier(metric='cosine', n_jobs=-1, n_neighbors=2),\n",
       "  'bAcc': 0.8664883955034066,\n",
       "  'nObs': 817},\n",
       " 'Plasma': {'clf': KNeighborsClassifier(metric='cosine', n_jobs=-1, n_neighbors=2),\n",
       "  'bAcc': 0.8091575975986915,\n",
       "  'nObs': 727},\n",
       " 'T_CD4_Naive': {'clf': KNeighborsClassifier(metric='cosine', n_jobs=-1, n_neighbors=2),\n",
       "  'bAcc': 0.9286094539006416,\n",
       "  'nObs': 814},\n",
       " 'T_CD4_NonNaive': {'clf': KNeighborsClassifier(metric='cosine', n_jobs=-1, n_neighbors=2),\n",
       "  'bAcc': 0.9303607089791301,\n",
       "  'nObs': 816},\n",
       " 'T_CD8_Naive': {'clf': KNeighborsClassifier(metric='cosine', n_jobs=-1, n_neighbors=2),\n",
       "  'bAcc': 0.9156087947140576,\n",
       "  'nObs': 805},\n",
       " 'T_CD8_NonNaive': {'clf': KNeighborsClassifier(metric='cosine', n_jobs=-1, n_neighbors=2),\n",
       "  'bAcc': 0.915820914835926,\n",
       "  'nObs': 817},\n",
       " 'UTC': {'clf': KNeighborsClassifier(metric='cosine', n_jobs=-1, n_neighbors=2),\n",
       "  'bAcc': 0.8819649634741967,\n",
       "  'nObs': 813},\n",
       " 'pDC': {'clf': KNeighborsClassifier(metric='cosine', n_jobs=-1, n_neighbors=2),\n",
       "  'bAcc': 0.8897925283557818,\n",
       "  'nObs': 775}}"
      ]
     },
     "execution_count": 28,
     "metadata": {},
     "output_type": "execute_result"
    }
   ],
   "source": [
    "clfList = train_patient_classifier(adataTrain = pseudobulkTRAINfilt, cell_type_col = 'Level1', y_true_col = 'disease', max_iter=-1, random_state = 25, model = 'KNeighborsClassifier', \n",
    "                           kargs_model={'n_neighbors':2, 'weights':'uniform', 'metric':'cosine','n_jobs':-1})\n",
    "clfList"
   ]
  },
  {
   "cell_type": "markdown",
   "id": "87b89384-c9c3-4f45-ab2f-15307875ba0a",
   "metadata": {
    "papermill": {
     "duration": 0.028234,
     "end_time": "2024-06-21T14:31:53.581180",
     "exception": false,
     "start_time": "2024-06-21T14:31:53.552946",
     "status": "completed"
    },
    "tags": []
   },
   "source": [
    "### Predicting diseases"
   ]
  },
  {
   "cell_type": "code",
   "execution_count": 29,
   "id": "39befc29-3613-4abc-adeb-bfee66e08dea",
   "metadata": {
    "execution": {
     "iopub.execute_input": "2024-06-21T14:31:53.638805Z",
     "iopub.status.busy": "2024-06-21T14:31:53.638340Z",
     "iopub.status.idle": "2024-06-21T14:31:54.116341Z",
     "shell.execute_reply": "2024-06-21T14:31:54.115883Z"
    },
    "papermill": {
     "duration": 0.507767,
     "end_time": "2024-06-21T14:31:54.117276",
     "exception": false,
     "start_time": "2024-06-21T14:31:53.609509",
     "status": "completed"
    },
    "tags": []
   },
   "outputs": [
    {
     "name": "stderr",
     "output_type": "stream",
     "text": [
      "\r",
      "  0%|          | 0/11 [00:00<?, ?it/s]"
     ]
    },
    {
     "name": "stderr",
     "output_type": "stream",
     "text": [
      "\r",
      " 45%|████▌     | 5/11 [00:00<00:00, 45.97it/s]"
     ]
    },
    {
     "name": "stderr",
     "output_type": "stream",
     "text": [
      "\r",
      " 91%|█████████ | 10/11 [00:00<00:00, 46.04it/s]"
     ]
    },
    {
     "name": "stderr",
     "output_type": "stream",
     "text": [
      "\r",
      "100%|██████████| 11/11 [00:00<00:00, 45.81it/s]"
     ]
    },
    {
     "name": "stderr",
     "output_type": "stream",
     "text": [
      "\n"
     ]
    },
    {
     "name": "stderr",
     "output_type": "stream",
     "text": [
      "\r",
      "  0%|          | 0/144 [00:00<?, ?it/s]"
     ]
    },
    {
     "name": "stderr",
     "output_type": "stream",
     "text": [
      "\r",
      " 59%|█████▉    | 85/144 [00:00<00:00, 846.42it/s]"
     ]
    },
    {
     "name": "stderr",
     "output_type": "stream",
     "text": [
      "\r",
      "100%|██████████| 144/144 [00:00<00:00, 814.25it/s]"
     ]
    },
    {
     "name": "stderr",
     "output_type": "stream",
     "text": [
      "\n"
     ]
    }
   ],
   "source": [
    "classificationDF = vote_patient_disease(adataTest = pseudobulkQUERYfilt, \n",
    "                                clfList = clfList, \n",
    "                                sample_id_col = 'sampleID',\n",
    "                                cell_type_col = 'Level1_pred')\n"
   ]
  },
  {
   "cell_type": "code",
   "execution_count": 30,
   "id": "a731fec9-92f4-4b14-b374-ad2bec4d4f13",
   "metadata": {
    "execution": {
     "iopub.execute_input": "2024-06-21T14:31:54.175787Z",
     "iopub.status.busy": "2024-06-21T14:31:54.175296Z",
     "iopub.status.idle": "2024-06-21T14:31:54.235491Z",
     "shell.execute_reply": "2024-06-21T14:31:54.234991Z"
    },
    "papermill": {
     "duration": 0.08996,
     "end_time": "2024-06-21T14:31:54.236456",
     "exception": false,
     "start_time": "2024-06-21T14:31:54.146496",
     "status": "completed"
    },
    "tags": []
   },
   "outputs": [],
   "source": [
    "res = classificationDF.merge(pseudobulkQUERY.obs[['sampleID', 'disease']].drop_duplicates(), how = 'left', on = 'sampleID').set_index('sampleID')"
   ]
  },
  {
   "cell_type": "code",
   "execution_count": 31,
   "id": "00fff243-e3d9-436c-b369-b7d4d29a13bf",
   "metadata": {
    "execution": {
     "iopub.execute_input": "2024-06-21T14:31:54.295480Z",
     "iopub.status.busy": "2024-06-21T14:31:54.295101Z",
     "iopub.status.idle": "2024-06-21T14:31:54.354561Z",
     "shell.execute_reply": "2024-06-21T14:31:54.354149Z"
    },
    "papermill": {
     "duration": 0.090183,
     "end_time": "2024-06-21T14:31:54.355498",
     "exception": false,
     "start_time": "2024-06-21T14:31:54.265315",
     "status": "completed"
    },
    "tags": []
   },
   "outputs": [
    {
     "data": {
      "text/plain": [
       "0.8348583877995642"
      ]
     },
     "execution_count": 31,
     "metadata": {},
     "output_type": "execute_result"
    }
   ],
   "source": [
    "balanced_accuracy_score(y_true = res.disease, y_pred=res.firstChoice)"
   ]
  },
  {
   "cell_type": "markdown",
   "id": "7ba69e7c-b39d-4fdb-9dfb-78dd04209a9b",
   "metadata": {
    "papermill": {
     "duration": 0.028527,
     "end_time": "2024-06-21T14:31:54.412845",
     "exception": false,
     "start_time": "2024-06-21T14:31:54.384318",
     "status": "completed"
    },
    "tags": []
   },
   "source": [
    "## Saving adata corrected objects"
   ]
  },
  {
   "cell_type": "code",
   "execution_count": 32,
   "id": "26215be0-4d1c-41e6-aba5-1dc52b9630bd",
   "metadata": {
    "execution": {
     "iopub.execute_input": "2024-06-21T14:31:54.471231Z",
     "iopub.status.busy": "2024-06-21T14:31:54.470940Z",
     "iopub.status.idle": "2024-06-21T16:13:42.347319Z",
     "shell.execute_reply": "2024-06-21T16:13:42.346493Z"
    },
    "papermill": {
     "duration": 6107.907145,
     "end_time": "2024-06-21T16:13:42.349030",
     "exception": false,
     "start_time": "2024-06-21T14:31:54.441885",
     "status": "completed"
    },
    "tags": []
   },
   "outputs": [],
   "source": [
    "outputFilePath = here(f\"03_downstream_analysis/08_PatientClassifier/scGen/results/02_MAIN_scGenCorrected_{n_latent}nLT_{batch}_{annotation}.h5ad\")\n",
    "if os.path.isfile(outputFilePath):\n",
    "    print(\"File already saved\")\n",
    "else:\n",
    "    adata_scGen.write(outputFilePath, compression='gzip')"
   ]
  },
  {
   "cell_type": "code",
   "execution_count": 33,
   "id": "c6f8ae7e-e7b2-40ba-b4f4-44dfc54164b6",
   "metadata": {
    "execution": {
     "iopub.execute_input": "2024-06-21T16:13:42.410911Z",
     "iopub.status.busy": "2024-06-21T16:13:42.410718Z",
     "iopub.status.idle": "2024-06-21T16:32:11.633672Z",
     "shell.execute_reply": "2024-06-21T16:32:11.632859Z"
    },
    "papermill": {
     "duration": 1109.25449,
     "end_time": "2024-06-21T16:32:11.635300",
     "exception": false,
     "start_time": "2024-06-21T16:13:42.380810",
     "status": "completed"
    },
    "tags": []
   },
   "outputs": [],
   "source": [
    "adataQcorr.write(here(f\"03_downstream_analysis/08_PatientClassifier/scGen/results/02_{dataset}_scGenCorrected_{n_latent}nLT_{batch}_{annotation}.h5ad\"), \n",
    "                 compression='gzip')"
   ]
  }
 ],
 "metadata": {
  "kernelspec": {
   "display_name": "Python 3 (ipykernel)",
   "language": "python",
   "name": "python3"
  },
  "language_info": {
   "codemirror_mode": {
    "name": "ipython",
    "version": 3
   },
   "file_extension": ".py",
   "mimetype": "text/x-python",
   "name": "python",
   "nbconvert_exporter": "python",
   "pygments_lexer": "ipython3",
   "version": "3.9.19"
  },
  "papermill": {
   "default_parameters": {},
   "duration": 10262.275711,
   "end_time": "2024-06-21T16:32:21.602373",
   "environment_variables": {},
   "exception": null,
   "input_path": "02_scGen_querying_datasets_labelTransfer.ipynb",
   "output_path": "executed_notebooks/02_scGen_querying_datasets_labelTransfe_VALIDATION_nLT50_Batch_chemistry_Level2.ipynb",
   "parameters": {
    "annotation": "Level2",
    "batch": "chemistry",
    "dataset": "VALIDATION",
    "n_latent": 50
   },
   "start_time": "2024-06-21T13:41:19.326662",
   "version": "2.5.0"
  }
 },
 "nbformat": 4,
 "nbformat_minor": 5
}