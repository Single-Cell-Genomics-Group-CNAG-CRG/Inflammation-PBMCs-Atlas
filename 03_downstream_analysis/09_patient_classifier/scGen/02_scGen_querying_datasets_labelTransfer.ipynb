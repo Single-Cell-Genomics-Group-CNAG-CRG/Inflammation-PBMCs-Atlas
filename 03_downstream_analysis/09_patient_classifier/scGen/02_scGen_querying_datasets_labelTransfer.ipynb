{
 "cells": [
  {
   "cell_type": "raw",
   "id": "cf9e723a-c8ab-41cf-80dd-75314497d94d",
   "metadata": {
    "execution": {
     "iopub.execute_input": "2024-06-16T20:49:10.250721Z",
     "iopub.status.busy": "2024-06-16T20:49:10.250145Z",
     "iopub.status.idle": "2024-06-16T20:49:10.256210Z",
     "shell.execute_reply": "2024-06-16T20:49:10.255729Z",
     "shell.execute_reply.started": "2024-06-16T20:49:10.250683Z"
    }
   },
   "source": [
    "n_latent = 200\n",
    "dataset = 'VALIDATION'\n",
    "batch = 'studyID'\n",
    "annotation = 'Level2'"
   ]
  },
  {
   "cell_type": "code",
   "execution_count": null,
   "id": "ed634346-b706-466a-8dab-569b37560afb",
   "metadata": {},
   "outputs": [],
   "source": [
    "for v in ['n_latent','batch','dataset','annotation']:\n",
    "    if v in locals() or v in globals():\n",
    "        print(f\"{v} = {eval(v)}\")\n",
    "    else:\n",
    "        raise ValeuError(f\"{v} is not defined\")"
   ]
  },
  {
   "cell_type": "markdown",
   "id": "9ba65107-57d8-41ce-a8f8-f4b4d2bddeb6",
   "metadata": {},
   "source": [
    "this notebook is run in *scvi-v112* env (cluster)"
   ]
  },
  {
   "cell_type": "code",
   "execution_count": null,
   "id": "77a24249-d2ab-4340-b9ac-d78d5f3f5bab",
   "metadata": {},
   "outputs": [],
   "source": [
    "import os\n",
    "import sys\n",
    "\n",
    "import random \n",
    "import numpy as np\n",
    "import matplotlib.pyplot as plt\n",
    "\n",
    "import scanpy as sc\n",
    "\n",
    "import scgen\n",
    "\n",
    "import pynndescent\n",
    "\n",
    "import pandas as pd\n",
    "\n",
    "import session_info\n",
    "import warnings\n",
    "from pyprojroot.here import here\n",
    "\n",
    "from sklearn.svm import LinearSVC\n",
    "\n",
    "from sklearn.metrics import balanced_accuracy_score\n",
    "\n",
    "import decoupler\n",
    "\n",
    "import torch\n",
    "\n",
    "import joblib\n",
    "\n",
    "sys.path.insert(1, str(here('bin')))\n",
    "\n",
    "# Import custom functions\n",
    "from customPythonFunctions import get_deltas_v2, batch_removal_v2, aggregating_features, train_patient_classifier, vote_patient_disease\n",
    "\n",
    "#plt.style.use(['science','nature','no-latex'])\n",
    "dpi_fig_save = 300\n",
    "sc.set_figure_params(dpi=100, dpi_save=dpi_fig_save, vector_friendly=True)\n",
    "\n",
    "# Setting some parameters\n",
    "warnings.filterwarnings(\"ignore\")\n",
    "\n",
    "random_seed = 42"
   ]
  },
  {
   "cell_type": "code",
   "execution_count": null,
   "id": "6a35ffd2-3a9d-4e4c-aa77-9855ccb36a3c",
   "metadata": {},
   "outputs": [],
   "source": [
    "%load_ext autoreload\n",
    "%autoreload 2"
   ]
  },
  {
   "cell_type": "markdown",
   "id": "4c28e407-f2e0-4b66-a1c8-427e69887d52",
   "metadata": {},
   "source": [
    "## Loading data\n",
    "### Loading main adata"
   ]
  },
  {
   "cell_type": "code",
   "execution_count": null,
   "id": "bcc3a390-966f-42bf-a139-6804a111d9a4",
   "metadata": {},
   "outputs": [],
   "source": [
    "adataR = sc.read_h5ad(here('03_downstream_analysis/02_gene_universe_definition/results/04_MAIN_geneUniverse.log1p.h5ad'))"
   ]
  },
  {
   "cell_type": "code",
   "execution_count": null,
   "id": "f18648ef-f249-42ed-b608-1cda3e595804",
   "metadata": {},
   "outputs": [],
   "source": [
    "adataR.obs['batch'] = adataR.obs[batch].tolist()\n",
    "adataR.obs['cell_type'] = adataR.obs[annotation].tolist()"
   ]
  },
  {
   "cell_type": "markdown",
   "id": "ca7306bc-3ce6-43bd-b569-1de23bbee513",
   "metadata": {},
   "source": [
    "### Loading query adata"
   ]
  },
  {
   "cell_type": "code",
   "execution_count": null,
   "id": "0ef5e9e5-323a-4efb-b112-4b2efb29716c",
   "metadata": {},
   "outputs": [],
   "source": [
    "adataQ = sc.read_h5ad(here(f\"03_downstream_analysis/02_gene_universe_definition/results/05_{dataset}_geneUniverse.log1p.h5ad\"))\n",
    "adataQ"
   ]
  },
  {
   "cell_type": "code",
   "execution_count": null,
   "id": "0c0bff23",
   "metadata": {},
   "outputs": [],
   "source": [
    "adataQ.obs['cell_type'] = adataR.obs[annotation][0] #this is needed just to allow scGen model to transfer anndata setup without errors\n",
    "adataQ.obs['batch'] = adataQ.obs[batch]\n",
    "adataQ"
   ]
  },
  {
   "cell_type": "markdown",
   "id": "4fffe98b-1263-4b98-96e7-c00b2843420f",
   "metadata": {},
   "source": [
    "### Loading scGen model"
   ]
  },
  {
   "cell_type": "code",
   "execution_count": null,
   "id": "ed843ed6-c10f-427c-b300-516f81297eb2",
   "metadata": {},
   "outputs": [],
   "source": [
    "model_scGen = scgen.SCGEN.load(here(f\"03_downstream_analysis/08_PatientClassifier/scGen/results/01_scGen_train_nLat{n_latent}_{batch}_{annotation}\"), adata = adataR)"
   ]
  },
  {
   "cell_type": "markdown",
   "id": "9c1ccc70-985a-49ac-9a19-9925088d8af6",
   "metadata": {},
   "source": [
    "## Generating embedding spaces"
   ]
  },
  {
   "cell_type": "markdown",
   "id": "6c8b03ea-3f53-46f6-902f-0caf07326777",
   "metadata": {
    "execution": {
     "iopub.execute_input": "2024-06-14T10:32:32.049226Z",
     "iopub.status.busy": "2024-06-14T10:32:32.048899Z",
     "iopub.status.idle": "2024-06-14T10:32:32.104059Z",
     "shell.execute_reply": "2024-06-14T10:32:32.103590Z",
     "shell.execute_reply.started": "2024-06-14T10:32:32.049208Z"
    }
   },
   "source": [
    "### Train/reference dataset"
   ]
  },
  {
   "cell_type": "code",
   "execution_count": null,
   "id": "d49a4a2d-c91c-4c48-90fd-e6ab6b355ed6",
   "metadata": {},
   "outputs": [],
   "source": [
    "adata_scGen = model_scGen.batch_removal()\n",
    "adata_scGen"
   ]
  },
  {
   "cell_type": "code",
   "execution_count": null,
   "id": "adc78d3f-d325-456d-bf27-83be4fdc8058",
   "metadata": {},
   "outputs": [],
   "source": [
    "pseudobulkTRAIN = aggregating_features(Z=adata_scGen.obsm['corrected_latent'], \n",
    "                     min_observation=0, \n",
    "                     obsDF=adata_scGen.obs[['sampleID','disease','Level1','batch','studyID']], obs_names_col = ['sampleID','Level1'])"
   ]
  },
  {
   "cell_type": "code",
   "execution_count": null,
   "id": "ae0ea25a",
   "metadata": {},
   "outputs": [],
   "source": [
    "outputFilePath = here(f\"03_downstream_analysis/08_PatientClassifier/scGen/results/02_MAIN_scGenIntegrated_PSEUDOBULK_{n_latent}nLT_{batch}_{annotation}\")\n",
    "if os.path.isfile(outputFilePath):\n",
    "    print(\"File already saved\")\n",
    "else:\n",
    "    pseudobulkTRAIN.write(outputFilePath, compression = 'gzip')"
   ]
  },
  {
   "cell_type": "markdown",
   "id": "818a7bd5-6fef-4c48-9671-07b2d322de54",
   "metadata": {},
   "source": [
    "### Query dataset"
   ]
  },
  {
   "cell_type": "markdown",
   "id": "8ffa01f7-85b1-420d-a2f0-4221f127ee39",
   "metadata": {},
   "source": [
    "**Extracting the NOT batch-corrected embedding**"
   ]
  },
  {
   "cell_type": "code",
   "execution_count": null,
   "id": "76188306-e527-4d28-96c5-cab54837137c",
   "metadata": {},
   "outputs": [],
   "source": [
    "UncorrectedEmbR =  model_scGen.get_latent_representation()\n",
    "UncorrectedEmbR.shape"
   ]
  },
  {
   "cell_type": "markdown",
   "id": "efb82573-e93f-4e3a-804a-75f0e671f4fd",
   "metadata": {},
   "source": [
    "**Using py NN descent to transfer cell-type labels**"
   ]
  },
  {
   "cell_type": "code",
   "execution_count": null,
   "id": "404f63bd-3d74-46a3-a276-4ba1bc2082d3",
   "metadata": {},
   "outputs": [],
   "source": [
    "ref_nn_index = pynndescent.NNDescent(UncorrectedEmbR, random_state = random_seed)\n",
    "ref_nn_index.prepare()"
   ]
  },
  {
   "cell_type": "code",
   "execution_count": null,
   "id": "dbba7c64-7b9f-4952-8ca7-f74e4dca2aba",
   "metadata": {},
   "outputs": [],
   "source": [
    "UncorrectedEmbQ = model_scGen.get_latent_representation(adataQ)\n",
    "UncorrectedEmbQ.shape"
   ]
  },
  {
   "cell_type": "code",
   "execution_count": null,
   "id": "b2628e38-1e63-4755-82b7-920cb2b0f580",
   "metadata": {},
   "outputs": [],
   "source": [
    "ref_neighbors, ref_distances = ref_nn_index.query(UncorrectedEmbQ)"
   ]
  },
  {
   "cell_type": "code",
   "execution_count": null,
   "id": "be69d153-9f4d-4fd1-aed8-d0b4d71be867",
   "metadata": {},
   "outputs": [],
   "source": [
    "# convert distances to affinities\n",
    "stds = np.std(ref_distances, axis=1)\n",
    "stds = (2.0 / stds) ** 2 # gaussian distribution\n",
    "stds = stds.reshape(-1, 1)\n",
    "ref_distances_tilda = np.exp(-np.true_divide(ref_distances, stds))\n",
    "weights = ref_distances_tilda / np.sum(ref_distances_tilda, axis=1, keepdims=True)"
   ]
  },
  {
   "cell_type": "code",
   "execution_count": null,
   "id": "d9665872-e3e9-4159-aa89-e2f02199bc29",
   "metadata": {},
   "outputs": [],
   "source": [
    "import numba\n",
    "@numba.njit\n",
    "def weighted_prediction(weights, ref_cats):\n",
    "    \"\"\"Get highest weight category.\"\"\"\n",
    "    N = len(weights)\n",
    "    predictions = np.zeros((N,), dtype=ref_cats.dtype)\n",
    "    uncertainty = np.zeros((N,))\n",
    "    for i in range(N):\n",
    "        obs_weights = weights[i]\n",
    "        obs_cats = ref_cats[i]\n",
    "        best_prob = 0\n",
    "        for c in np.unique(obs_cats):\n",
    "            cand_prob = np.sum(obs_weights[obs_cats == c])\n",
    "            if cand_prob > best_prob:\n",
    "                best_prob = cand_prob\n",
    "                predictions[i] = c\n",
    "                uncertainty[i] = max(1 - best_prob, 0)\n",
    "\n",
    "    return predictions, uncertainty"
   ]
  },
  {
   "cell_type": "code",
   "execution_count": null,
   "id": "d96ec443-9e7c-4143-86f9-99ac958d4e91",
   "metadata": {},
   "outputs": [],
   "source": [
    "# for each annotation level, get prediction and uncertainty\n",
    "label_keys = ['Level1','Level2','disease']\n",
    "for l in label_keys:\n",
    "    ref_cats = model_scGen.adata.obs[l].cat.codes.to_numpy()[ref_neighbors]\n",
    "    p, u = weighted_prediction(weights, ref_cats)\n",
    "    p = np.asarray(model_scGen.adata.obs[l].cat.categories)[p]\n",
    "    adataQ.obs[l + \"_pred\"], adataQ.obs[l + \"_uncertainty\"] = p, u"
   ]
  },
  {
   "cell_type": "markdown",
   "id": "c658256b-6a21-4ed4-b416-94ca1412548c",
   "metadata": {},
   "source": [
    "We also compute the accuracy of trasnfering the disease label to each cells"
   ]
  },
  {
   "cell_type": "code",
   "execution_count": null,
   "id": "58ccf15a-d81c-4675-a45f-619aa47a0471",
   "metadata": {},
   "outputs": [],
   "source": [
    "adataQ.obs.Level1_uncertainty.hist(bins=50)\n",
    "plt.show()"
   ]
  },
  {
   "cell_type": "code",
   "execution_count": null,
   "id": "37180dd1-2008-4ab6-a128-0a8f28b650cf",
   "metadata": {},
   "outputs": [],
   "source": [
    "BASlist = []\n",
    "\n",
    "thrValues = np.arange(np.min(adataQ.obs[f\"{annotation}_uncertainty\"]), np.max(adataQ.obs[f\"{annotation}_uncertainty\"]), 0.05)\n",
    "\n",
    "for cell_uncThr in thrValues:\n",
    "  \n",
    "    diseaseBAS = balanced_accuracy_score(y_pred=adataQ.obs.query(f\"{annotation}_uncertainty < @cell_uncThr\")['disease_pred'], \n",
    "                                         y_true=adataQ.obs.query(f\"{annotation}_uncertainty < @cell_uncThr\")['disease'])\n",
    "    BASlist.append(diseaseBAS)\n",
    "    #print(f\"Balance accuracy score for disease prediction at single-cell level = {diseaseBAS}, when uncertanty lower than {disease_uncThr}\")"
   ]
  },
  {
   "cell_type": "code",
   "execution_count": null,
   "id": "a3ed052a-5be7-4ff8-a09c-87aee868cdae",
   "metadata": {},
   "outputs": [],
   "source": [
    "plt.scatter(thrValues, BASlist)\n",
    "plt.xlabel('transfer label uncertainty')\n",
    "plt.ylabel('Balanced accuracy score')\n",
    "plt.show()"
   ]
  },
  {
   "cell_type": "markdown",
   "id": "e344160b-ea94-4581-915b-94e4c645d575",
   "metadata": {},
   "source": [
    "**Learning the batch correction deltas**"
   ]
  },
  {
   "cell_type": "code",
   "execution_count": null,
   "id": "6fd1cf6f-d1ca-44cb-858a-88491688ebca",
   "metadata": {},
   "outputs": [],
   "source": [
    "deltas = get_deltas_v2(model_scGen, batchLevels=['cell_type','batch'])"
   ]
  },
  {
   "cell_type": "markdown",
   "id": "137fd474-7ecc-469a-8166-ba6c09528c60",
   "metadata": {},
   "source": [
    "**Apply the learned deltas on the query data**"
   ]
  },
  {
   "cell_type": "code",
   "execution_count": null,
   "id": "48d1470a-2dd3-43a0-bc78-966058996406",
   "metadata": {},
   "outputs": [],
   "source": [
    "adataQ.obs['cell_type'] = adataQ.obs[f'{annotation}_pred']\n",
    "adataQcorr = batch_removal_v2(model_scGen, adata=adataQ, deltas=deltas, batchLevels=['cell_type','batch'])"
   ]
  },
  {
   "cell_type": "code",
   "execution_count": null,
   "id": "eea8c8fb-843e-4771-b7bd-c71605c3c968",
   "metadata": {},
   "outputs": [],
   "source": [
    "pseudobulkQUERY = aggregating_features(Z=adataQcorr.obsm['corrected_latent'], \n",
    "                     min_observation=0, \n",
    "                     obsDF=adataQcorr.obs[['sampleID','disease','Level1_pred','batch','studyID']], obs_names_col = ['sampleID','Level1_pred'])\n",
    "\n"
   ]
  },
  {
   "cell_type": "code",
   "execution_count": null,
   "id": "6f334c7e-0938-4954-a389-77bf7a276bea",
   "metadata": {},
   "outputs": [],
   "source": [
    "pseudobulkQUERY.write(here(f\"03_downstream_analysis/08_PatientClassifier/scGen/results/02_{dataset}_scGenIntegrated_PSEUDOBULK_{n_latent}nLT_{batch}_{annotation}.h5ad\"), compression = 'gzip')"
   ]
  },
  {
   "cell_type": "markdown",
   "id": "7ba69e7c-b39d-4fdb-9dfb-78dd04209a9b",
   "metadata": {},
   "source": [
    "## Saving adata corrected objects"
   ]
  },
  {
   "cell_type": "code",
   "execution_count": null,
   "id": "26215be0-4d1c-41e6-aba5-1dc52b9630bd",
   "metadata": {},
   "outputs": [],
   "source": [
    "# outputFilePath = here(f\"03_downstream_analysis/08_PatientClassifier/scGen/results/02_MAIN_scGenCorrected_{n_latent}nLT_{batch}_{annotation}.h5ad\")\n",
    "# if os.path.isfile(outputFilePath):\n",
    "#     print(\"File already saved\")\n",
    "# else:\n",
    "#     adata_scGen.write(outputFilePath, compression='gzip')"
   ]
  },
  {
   "cell_type": "code",
   "execution_count": null,
   "id": "c6f8ae7e-e7b2-40ba-b4f4-44dfc54164b6",
   "metadata": {},
   "outputs": [],
   "source": [
    "# adataQcorr.write(here(f\"03_downstream_analysis/08_PatientClassifier/scGen/results/02_{dataset}_scGenCorrected_{n_latent}nLT_{batch}_{annotation}.h5ad\"), \n",
    "#                  compression='gzip')"
   ]
  }
 ],
 "metadata": {
  "kernelspec": {
   "display_name": "Python 3 (ipykernel)",
   "language": "python",
   "name": "python3"
  },
  "language_info": {
   "codemirror_mode": {
    "name": "ipython",
    "version": 3
   },
   "file_extension": ".py",
   "mimetype": "text/x-python",
   "name": "python",
   "nbconvert_exporter": "python",
   "pygments_lexer": "ipython3",
   "version": "3.12.3"
  }
 },
 "nbformat": 4,
 "nbformat_minor": 5
}
