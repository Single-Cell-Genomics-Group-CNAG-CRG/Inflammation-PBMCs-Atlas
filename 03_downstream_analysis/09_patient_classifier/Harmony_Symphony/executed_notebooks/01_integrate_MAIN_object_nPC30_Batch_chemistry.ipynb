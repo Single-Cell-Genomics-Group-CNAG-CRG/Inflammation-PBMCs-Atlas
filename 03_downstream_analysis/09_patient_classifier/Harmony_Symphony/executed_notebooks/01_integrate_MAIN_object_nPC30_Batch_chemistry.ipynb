{
 "cells": [
  {
   "cell_type": "code",
   "execution_count": 1,
   "id": "ee122e5c",
   "metadata": {
    "execution": {
     "iopub.execute_input": "2024-06-07T16:54:25.541897Z",
     "iopub.status.busy": "2024-06-07T16:54:25.541740Z",
     "iopub.status.idle": "2024-06-07T16:54:25.547099Z",
     "shell.execute_reply": "2024-06-07T16:54:25.546707Z"
    },
    "papermill": {
     "duration": 0.013418,
     "end_time": "2024-06-07T16:54:25.548137",
     "exception": false,
     "start_time": "2024-06-07T16:54:25.534719",
     "status": "completed"
    },
    "tags": [
     "injected-parameters"
    ]
   },
   "outputs": [],
   "source": [
    "# Parameters\n",
    "nPC = 30\n",
    "batchKeys = \"chemistry\"\n"
   ]
  },
  {
   "cell_type": "raw",
   "id": "b23fce1d-13c4-425c-a8e2-2d213aecc270",
   "metadata": {
    "execution": {
     "iopub.execute_input": "2024-06-07T16:29:56.221480Z",
     "iopub.status.busy": "2024-06-07T16:29:56.221137Z",
     "iopub.status.idle": "2024-06-07T16:29:56.223682Z",
     "shell.execute_reply": "2024-06-07T16:29:56.223368Z",
     "shell.execute_reply.started": "2024-06-07T16:29:56.221460Z"
    },
    "papermill": {
     "duration": 0.006572,
     "end_time": "2024-06-07T16:54:25.563284",
     "exception": false,
     "start_time": "2024-06-07T16:54:25.556712",
     "status": "completed"
    },
    "tags": []
   },
   "source": [
    "nPC = 30\n",
    "batchKeys = 'chemistry'"
   ]
  },
  {
   "cell_type": "code",
   "execution_count": 2,
   "id": "c33b3da1-8c7c-405f-8cd8-0b4c41120385",
   "metadata": {
    "execution": {
     "iopub.execute_input": "2024-06-07T16:54:25.575449Z",
     "iopub.status.busy": "2024-06-07T16:54:25.575296Z",
     "iopub.status.idle": "2024-06-07T16:54:25.578261Z",
     "shell.execute_reply": "2024-06-07T16:54:25.577903Z"
    },
    "papermill": {
     "duration": 0.009069,
     "end_time": "2024-06-07T16:54:25.579172",
     "exception": false,
     "start_time": "2024-06-07T16:54:25.570103",
     "status": "completed"
    },
    "tags": []
   },
   "outputs": [
    {
     "name": "stdout",
     "output_type": "stream",
     "text": [
      "nPC = 30\n",
      "batchKeys = chemistry\n"
     ]
    }
   ],
   "source": [
    "for v in ['nPC','batchKeys']:\n",
    "    if v in locals() or v in globals():\n",
    "        print(f\"{v} = {eval(v)}\")\n",
    "    else:\n",
    "        raise Exception(f\"{v} not specified\")"
   ]
  },
  {
   "cell_type": "code",
   "execution_count": 3,
   "id": "efdb80f5-e899-4f33-bef2-150b34859a2d",
   "metadata": {
    "execution": {
     "iopub.execute_input": "2024-06-07T16:54:25.678254Z",
     "iopub.status.busy": "2024-06-07T16:54:25.678107Z",
     "iopub.status.idle": "2024-06-07T16:54:31.173200Z",
     "shell.execute_reply": "2024-06-07T16:54:31.172576Z"
    },
    "papermill": {
     "duration": 5.511105,
     "end_time": "2024-06-07T16:54:31.174296",
     "exception": false,
     "start_time": "2024-06-07T16:54:25.663191",
     "status": "completed"
    },
    "tags": []
   },
   "outputs": [],
   "source": [
    "import os\n",
    "\n",
    "import scanpy as sc\n",
    "import pandas as pd\n",
    "import numpy as np\n",
    "\n",
    "import symphonypy as sp\n",
    "\n",
    "from pyprojroot import here\n",
    "\n",
    "random_seed = 42"
   ]
  },
  {
   "cell_type": "markdown",
   "id": "43ddb5fd-a284-4b0e-998b-aa752ca4985a",
   "metadata": {
    "papermill": {
     "duration": 0.005706,
     "end_time": "2024-06-07T16:54:31.184940",
     "exception": false,
     "start_time": "2024-06-07T16:54:31.179234",
     "status": "completed"
    },
    "tags": []
   },
   "source": [
    "### Functions"
   ]
  },
  {
   "cell_type": "code",
   "execution_count": 4,
   "id": "68d2bba3-84fd-4fc4-83a3-b6acd682540b",
   "metadata": {
    "execution": {
     "iopub.execute_input": "2024-06-07T16:54:31.195801Z",
     "iopub.status.busy": "2024-06-07T16:54:31.195436Z",
     "iopub.status.idle": "2024-06-07T16:54:31.201297Z",
     "shell.execute_reply": "2024-06-07T16:54:31.200919Z"
    },
    "papermill": {
     "duration": 0.012159,
     "end_time": "2024-06-07T16:54:31.202217",
     "exception": false,
     "start_time": "2024-06-07T16:54:31.190058",
     "status": "completed"
    },
    "tags": []
   },
   "outputs": [],
   "source": [
    "def aggregating_features(Z = None, obsDF = None, mode = 'mean', obs_names_col = []):\n",
    "    Zdf = pd.DataFrame(Z)\n",
    "    for c in obsDF.columns:\n",
    "        Zdf[c] = obsDF[c].tolist()\n",
    "    if mode in ['mean','avarage']:\n",
    "        Zaggr = Zdf.groupby(obsDF.columns.tolist(), observed = True).mean()\n",
    "    elif mode == 'sum':\n",
    "        Zaggr = Zdf.groupby(obsDF.columns.tolist(), observed = True).sum()\n",
    "    else:\n",
    "        raise ValueError(f\"mode {mode} not supported. Available mode are 'mean' or 'sum'\")\n",
    "\n",
    "    grpObs = pd.DataFrame(Zaggr.index.tolist(), columns=obsDF.columns.tolist())\n",
    "\n",
    "    if len(obs_names_col) == 0:\n",
    "        grpAdata  = sc.AnnData(X = np.array(Zaggr), obs = grpObs, )\n",
    "    elif all([c in obsDF.columns.tolist() for c in obs_names_col]):\n",
    "        grpObs.index = grpObs[obs_names_col].apply(lambda row: '_'.join(row.values.astype(str)), axis=1)\n",
    "        grpAdata  = sc.AnnData(X = np.array(Zaggr), obs = grpObs)\n",
    "    else:\n",
    "        raise ValueError(f\"Impossible to use {obs_names_col} as index. It's not present in obsDF\")\n",
    "    return grpAdata"
   ]
  },
  {
   "cell_type": "markdown",
   "id": "bd323da1-8446-4ffc-91ac-c737ce081412",
   "metadata": {
    "papermill": {
     "duration": 0.004942,
     "end_time": "2024-06-07T16:54:31.211915",
     "exception": false,
     "start_time": "2024-06-07T16:54:31.206973",
     "status": "completed"
    },
    "tags": []
   },
   "source": [
    "### Parameters"
   ]
  },
  {
   "cell_type": "code",
   "execution_count": 5,
   "id": "3f81fe70-a960-401d-a05d-9d9199edd620",
   "metadata": {
    "execution": {
     "iopub.execute_input": "2024-06-07T16:54:31.222102Z",
     "iopub.status.busy": "2024-06-07T16:54:31.221627Z",
     "iopub.status.idle": "2024-06-07T16:54:31.226644Z",
     "shell.execute_reply": "2024-06-07T16:54:31.226295Z"
    },
    "papermill": {
     "duration": 0.011014,
     "end_time": "2024-06-07T16:54:31.227541",
     "exception": false,
     "start_time": "2024-06-07T16:54:31.216527",
     "status": "completed"
    },
    "tags": []
   },
   "outputs": [
    {
     "data": {
      "text/plain": [
       "['chemistry']"
      ]
     },
     "execution_count": 5,
     "metadata": {},
     "output_type": "execute_result"
    }
   ],
   "source": [
    "batch_key_ref = batchKeys.split(',')\n",
    "batch_key_ref"
   ]
  },
  {
   "cell_type": "markdown",
   "id": "008170b2-f7e2-4c59-b434-b682dacf1110",
   "metadata": {
    "papermill": {
     "duration": 0.004569,
     "end_time": "2024-06-07T16:54:31.236936",
     "exception": false,
     "start_time": "2024-06-07T16:54:31.232367",
     "status": "completed"
    },
    "tags": []
   },
   "source": [
    "### Loading reference data"
   ]
  },
  {
   "cell_type": "code",
   "execution_count": 6,
   "id": "8e361302-99f5-48fe-989b-f196e18ae0dd",
   "metadata": {
    "execution": {
     "iopub.execute_input": "2024-06-07T16:54:31.247416Z",
     "iopub.status.busy": "2024-06-07T16:54:31.247077Z",
     "iopub.status.idle": "2024-06-07T16:55:53.956102Z",
     "shell.execute_reply": "2024-06-07T16:55:53.955551Z"
    },
    "papermill": {
     "duration": 82.720721,
     "end_time": "2024-06-07T16:55:53.962659",
     "exception": false,
     "start_time": "2024-06-07T16:54:31.241938",
     "status": "completed"
    },
    "tags": []
   },
   "outputs": [
    {
     "data": {
      "text/plain": [
       "AnnData object with n_obs × n_vars = 4435922 × 8253\n",
       "    obs: 'studyID', 'libraryID', 'sampleID', 'chemistry', 'disease', 'sex', 'binned_age', 'Level1', 'Level2'\n",
       "    var: 'hgnc_id', 'symbol', 'locus_group', 'HUGO_status', 'highly_variable'"
      ]
     },
     "execution_count": 6,
     "metadata": {},
     "output_type": "execute_result"
    }
   ],
   "source": [
    "adataR = sc.read_h5ad(here('03_downstream_analysis/02_gene_universe_definition/results/04_MAIN_geneUniverse.h5ad'))\n",
    "adataR"
   ]
  },
  {
   "cell_type": "markdown",
   "id": "0be9f746-fd30-4f97-9ec7-1a1e1f831776",
   "metadata": {
    "papermill": {
     "duration": 0.005134,
     "end_time": "2024-06-07T16:55:53.973236",
     "exception": false,
     "start_time": "2024-06-07T16:55:53.968102",
     "status": "completed"
    },
    "tags": []
   },
   "source": [
    "### Preprocessing"
   ]
  },
  {
   "cell_type": "code",
   "execution_count": 7,
   "id": "db7e0e86-4cfc-44f7-a6f1-1fa3795ad5a3",
   "metadata": {
    "execution": {
     "iopub.execute_input": "2024-06-07T16:55:53.984222Z",
     "iopub.status.busy": "2024-06-07T16:55:53.984046Z",
     "iopub.status.idle": "2024-06-07T16:59:25.713739Z",
     "shell.execute_reply": "2024-06-07T16:59:25.712948Z"
    },
    "papermill": {
     "duration": 211.736994,
     "end_time": "2024-06-07T16:59:25.715220",
     "exception": false,
     "start_time": "2024-06-07T16:55:53.978226",
     "status": "completed"
    },
    "tags": []
   },
   "outputs": [],
   "source": [
    "sc.pp.normalize_total(adataR, target_sum=1e4)\n",
    "sc.pp.log1p(adataR)"
   ]
  },
  {
   "cell_type": "code",
   "execution_count": 8,
   "id": "74e00e88-f97f-457b-928e-ee7c2e91b64a",
   "metadata": {
    "execution": {
     "iopub.execute_input": "2024-06-07T16:59:25.728035Z",
     "iopub.status.busy": "2024-06-07T16:59:25.727844Z",
     "iopub.status.idle": "2024-06-07T17:03:49.514870Z",
     "shell.execute_reply": "2024-06-07T17:03:49.514121Z"
    },
    "papermill": {
     "duration": 263.79442,
     "end_time": "2024-06-07T17:03:49.516420",
     "exception": false,
     "start_time": "2024-06-07T16:59:25.722000",
     "status": "completed"
    },
    "tags": []
   },
   "outputs": [],
   "source": [
    "# We followed the tutorial from the python package (https://symphonypy.readthedocs.io/en/latest/usage.html)\n",
    "sc.pp.scale(adataR)"
   ]
  },
  {
   "cell_type": "code",
   "execution_count": 9,
   "id": "07fb0fc9-4a10-47fb-b4d6-3b7d66286cfd",
   "metadata": {
    "execution": {
     "iopub.execute_input": "2024-06-07T17:03:49.600345Z",
     "iopub.status.busy": "2024-06-07T17:03:49.600166Z",
     "iopub.status.idle": "2024-06-07T21:12:48.565016Z",
     "shell.execute_reply": "2024-06-07T21:12:48.564272Z"
    },
    "papermill": {
     "duration": 14938.972749,
     "end_time": "2024-06-07T21:12:48.566856",
     "exception": false,
     "start_time": "2024-06-07T17:03:49.594107",
     "status": "completed"
    },
    "tags": []
   },
   "outputs": [],
   "source": [
    "sc.pp.pca(adataR, \n",
    "          n_comps=nPC, \n",
    "          use_highly_variable = False,\n",
    "          zero_center=False)"
   ]
  },
  {
   "cell_type": "markdown",
   "id": "3109c878-d7d1-4372-9462-0ccdb78070dc",
   "metadata": {
    "papermill": {
     "duration": 0.00682,
     "end_time": "2024-06-07T21:12:48.597099",
     "exception": false,
     "start_time": "2024-06-07T21:12:48.590279",
     "status": "completed"
    },
    "tags": []
   },
   "source": [
    "### Integration with Harmony"
   ]
  },
  {
   "cell_type": "code",
   "execution_count": 10,
   "id": "d2e7eed3-c2e1-4031-a49f-89e32fe17130",
   "metadata": {
    "execution": {
     "iopub.execute_input": "2024-06-07T21:12:48.623746Z",
     "iopub.status.busy": "2024-06-07T21:12:48.623406Z",
     "iopub.status.idle": "2024-06-08T00:40:03.692159Z",
     "shell.execute_reply": "2024-06-08T00:40:03.691492Z"
    },
    "papermill": {
     "duration": 12435.08971,
     "end_time": "2024-06-08T00:40:03.694086",
     "exception": false,
     "start_time": "2024-06-07T21:12:48.604376",
     "status": "completed"
    },
    "tags": []
   },
   "outputs": [
    {
     "name": "stdout",
     "output_type": "stream",
     "text": [
      "Harmony integration with harmonypy is preforming.\n"
     ]
    },
    {
     "name": "stderr",
     "output_type": "stream",
     "text": [
      "2024-06-07 23:12:50,175 - harmonypy - INFO - Computing initial centroids with sklearn.KMeans...\n"
     ]
    },
    {
     "name": "stderr",
     "output_type": "stream",
     "text": [
      "2024-06-07 23:32:07,239 - harmonypy - INFO - sklearn.KMeans initialization complete.\n"
     ]
    },
    {
     "name": "stderr",
     "output_type": "stream",
     "text": [
      "2024-06-07 23:32:48,832 - harmonypy - INFO - Iteration 1 of 100\n"
     ]
    },
    {
     "name": "stderr",
     "output_type": "stream",
     "text": [
      "2024-06-08 00:34:43,091 - harmonypy - INFO - Iteration 2 of 100\n"
     ]
    },
    {
     "name": "stderr",
     "output_type": "stream",
     "text": [
      "2024-06-08 01:38:53,475 - harmonypy - INFO - Iteration 3 of 100\n"
     ]
    },
    {
     "name": "stderr",
     "output_type": "stream",
     "text": [
      "2024-06-08 02:40:01,941 - harmonypy - INFO - Converged after 3 iterations\n"
     ]
    }
   ],
   "source": [
    "sp.pp.harmony_integrate(adataR,\n",
    "                        key=batch_key_ref, \n",
    "                        verbose = True, \n",
    "                        random_seed=random_seed,  \n",
    "                        **{'max_iter_harmony':100}, # harmony_kwargs | should reach convergence before\n",
    "                       )"
   ]
  },
  {
   "cell_type": "markdown",
   "id": "293069e9-53ac-4a34-88ef-633da997798d",
   "metadata": {
    "papermill": {
     "duration": 0.005537,
     "end_time": "2024-06-08T00:40:03.707021",
     "exception": false,
     "start_time": "2024-06-08T00:40:03.701484",
     "status": "completed"
    },
    "tags": []
   },
   "source": [
    "### Save integrated object"
   ]
  },
  {
   "cell_type": "code",
   "execution_count": 11,
   "id": "8f1c2d07-2a4b-40c6-9d48-b3d55317870d",
   "metadata": {
    "execution": {
     "iopub.execute_input": "2024-06-08T00:40:03.719389Z",
     "iopub.status.busy": "2024-06-08T00:40:03.718943Z",
     "iopub.status.idle": "2024-06-08T01:06:41.976355Z",
     "shell.execute_reply": "2024-06-08T01:06:41.975495Z"
    },
    "papermill": {
     "duration": 1598.265544,
     "end_time": "2024-06-08T01:06:41.978073",
     "exception": false,
     "start_time": "2024-06-08T00:40:03.712529",
     "status": "completed"
    },
    "tags": []
   },
   "outputs": [],
   "source": [
    "adataR.write(here(f\"03_downstream_analysis/08_PatientClassifier/Harmony_Symphony/results/01_MAIN_HarmonyIntegrated_{nPC}nPC_Batch_{batchKeys}.h5ad\"), compression='gzip')"
   ]
  },
  {
   "cell_type": "markdown",
   "id": "42c514ee-62a5-4cb0-b43d-86160a5c2122",
   "metadata": {
    "papermill": {
     "duration": 0.007102,
     "end_time": "2024-06-08T01:06:41.993778",
     "exception": false,
     "start_time": "2024-06-08T01:06:41.986676",
     "status": "completed"
    },
    "tags": []
   },
   "source": [
    "### Generating pseudobulk from latent space"
   ]
  },
  {
   "cell_type": "code",
   "execution_count": 12,
   "id": "f912d9bd-bb82-489e-98a6-9da7523b7dc7",
   "metadata": {
    "execution": {
     "iopub.execute_input": "2024-06-08T01:06:42.006338Z",
     "iopub.status.busy": "2024-06-08T01:06:42.006137Z",
     "iopub.status.idle": "2024-06-08T01:06:44.067740Z",
     "shell.execute_reply": "2024-06-08T01:06:44.067102Z"
    },
    "papermill": {
     "duration": 2.069311,
     "end_time": "2024-06-08T01:06:44.068918",
     "exception": false,
     "start_time": "2024-06-08T01:06:41.999607",
     "status": "completed"
    },
    "tags": []
   },
   "outputs": [],
   "source": [
    "emb_pseudobulk_train = aggregating_features(Z = adataR.obsm['X_pca_harmony'], \n",
    "                                            obsDF = adataR.obs[['sampleID','Level1','disease']], \n",
    "                                            mode = 'mean', obs_names_col=['sampleID','Level1'])"
   ]
  },
  {
   "cell_type": "code",
   "execution_count": 13,
   "id": "773a8fd1-2390-4ea2-aa4d-bf1672a6c8a8",
   "metadata": {
    "execution": {
     "iopub.execute_input": "2024-06-08T01:06:44.081840Z",
     "iopub.status.busy": "2024-06-08T01:06:44.081274Z",
     "iopub.status.idle": "2024-06-08T01:06:44.285441Z",
     "shell.execute_reply": "2024-06-08T01:06:44.284897Z"
    },
    "papermill": {
     "duration": 0.212068,
     "end_time": "2024-06-08T01:06:44.286909",
     "exception": false,
     "start_time": "2024-06-08T01:06:44.074841",
     "status": "completed"
    },
    "tags": []
   },
   "outputs": [],
   "source": [
    "emb_pseudobulk_train.write(here(f\"03_downstream_analysis/08_PatientClassifier/Harmony_Symphony/results/01_MAIN_HarmonyIntegrated_PSEUDOBULK_{nPC}nPC_Batch_{batchKeys}.h5ad\"), compression='gzip')"
   ]
  },
  {
   "cell_type": "code",
   "execution_count": null,
   "id": "0f68f2f6-9481-44db-a620-9fada9576c4a",
   "metadata": {
    "papermill": {
     "duration": 0.006493,
     "end_time": "2024-06-08T01:06:44.299032",
     "exception": false,
     "start_time": "2024-06-08T01:06:44.292539",
     "status": "completed"
    },
    "tags": []
   },
   "outputs": [],
   "source": []
  }
 ],
 "metadata": {
  "kernelspec": {
   "display_name": "Python 3 (ipykernel)",
   "language": "python",
   "name": "python3"
  },
  "language_info": {
   "codemirror_mode": {
    "name": "ipython",
    "version": 3
   },
   "file_extension": ".py",
   "mimetype": "text/x-python",
   "name": "python",
   "nbconvert_exporter": "python",
   "pygments_lexer": "ipython3",
   "version": "3.10.13"
  },
  "papermill": {
   "default_parameters": {},
   "duration": 29551.742528,
   "end_time": "2024-06-08T01:06:54.692033",
   "environment_variables": {},
   "exception": null,
   "input_path": "a01_integrate_MAIN_object.ipynb",
   "output_path": "executed_notebooks/a01_integrate_MAIN_object_nPC30_Batch_chemistry.ipynb",
   "parameters": {
    "batchKeys": "chemistry",
    "nPC": 30
   },
   "start_time": "2024-06-07T16:54:22.949505",
   "version": "2.5.0"
  }
 },
 "nbformat": 4,
 "nbformat_minor": 5
}