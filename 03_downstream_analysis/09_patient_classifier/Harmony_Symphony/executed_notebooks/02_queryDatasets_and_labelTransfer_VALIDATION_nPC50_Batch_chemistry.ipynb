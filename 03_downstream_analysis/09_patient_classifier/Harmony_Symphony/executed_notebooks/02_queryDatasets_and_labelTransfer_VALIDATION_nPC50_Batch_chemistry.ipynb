{
 "cells": [
  {
   "cell_type": "code",
   "execution_count": 1,
   "id": "b6a9f6c1",
   "metadata": {
    "execution": {
     "iopub.execute_input": "2024-06-19T17:28:11.375923Z",
     "iopub.status.busy": "2024-06-19T17:28:11.375709Z",
     "iopub.status.idle": "2024-06-19T17:28:11.381015Z",
     "shell.execute_reply": "2024-06-19T17:28:11.380644Z"
    },
    "papermill": {
     "duration": 0.015355,
     "end_time": "2024-06-19T17:28:11.381976",
     "exception": false,
     "start_time": "2024-06-19T17:28:11.366621",
     "status": "completed"
    },
    "tags": [
     "injected-parameters"
    ]
   },
   "outputs": [],
   "source": [
    "# Parameters\n",
    "nPC = 50\n",
    "batchKeys = \"chemistry\"\n",
    "queryDataset = \"VALIDATION\"\n"
   ]
  },
  {
   "cell_type": "raw",
   "id": "2c824816-2fbb-43a3-9807-722d9facfef3",
   "metadata": {
    "execution": {
     "iopub.execute_input": "2024-06-11T07:53:10.263964Z",
     "iopub.status.busy": "2024-06-11T07:53:10.263681Z",
     "iopub.status.idle": "2024-06-11T07:53:10.269000Z",
     "shell.execute_reply": "2024-06-11T07:53:10.268634Z",
     "shell.execute_reply.started": "2024-06-11T07:53:10.263945Z"
    },
    "papermill": {
     "duration": 0.007562,
     "end_time": "2024-06-19T17:28:11.397329",
     "exception": false,
     "start_time": "2024-06-19T17:28:11.389767",
     "status": "completed"
    },
    "tags": []
   },
   "source": [
    "nPC = 100\n",
    "batchKeys = 'libraryID,chemistry,sex,binned_age'\n",
    "queryDataset = 'VALIDATION'"
   ]
  },
  {
   "cell_type": "code",
   "execution_count": 2,
   "id": "3044cc6c-ce26-4de6-8b7b-f8f9af090921",
   "metadata": {
    "execution": {
     "iopub.execute_input": "2024-06-19T17:28:11.413831Z",
     "iopub.status.busy": "2024-06-19T17:28:11.413566Z",
     "iopub.status.idle": "2024-06-19T17:28:11.416535Z",
     "shell.execute_reply": "2024-06-19T17:28:11.416176Z"
    },
    "papermill": {
     "duration": 0.012782,
     "end_time": "2024-06-19T17:28:11.417441",
     "exception": false,
     "start_time": "2024-06-19T17:28:11.404659",
     "status": "completed"
    },
    "tags": []
   },
   "outputs": [
    {
     "name": "stdout",
     "output_type": "stream",
     "text": [
      "nPC = 50\n",
      "batchKeys = chemistry\n",
      "queryDataset = VALIDATION\n"
     ]
    }
   ],
   "source": [
    "for v in ['nPC','batchKeys', 'queryDataset']:\n",
    "    if v in locals() or v in globals():\n",
    "        print(f\"{v} = {eval(v)}\")\n",
    "    else:\n",
    "        raise Exception(f\"{v} not specified\")"
   ]
  },
  {
   "cell_type": "code",
   "execution_count": 3,
   "id": "a9a81822-a7c1-4b2c-9419-c1df388c8d1f",
   "metadata": {
    "execution": {
     "iopub.execute_input": "2024-06-19T17:28:11.433407Z",
     "iopub.status.busy": "2024-06-19T17:28:11.433173Z",
     "iopub.status.idle": "2024-06-19T17:28:18.364489Z",
     "shell.execute_reply": "2024-06-19T17:28:18.363884Z"
    },
    "papermill": {
     "duration": 6.941336,
     "end_time": "2024-06-19T17:28:18.366165",
     "exception": false,
     "start_time": "2024-06-19T17:28:11.424829",
     "status": "completed"
    },
    "tags": []
   },
   "outputs": [],
   "source": [
    "import os\n",
    "import sys\n",
    "\n",
    "import scanpy as sc\n",
    "import pandas as pd\n",
    "import numpy as np\n",
    "\n",
    "import symphonypy as sp\n",
    "\n",
    "from sklearn.metrics import balanced_accuracy_score\n",
    "\n",
    "from pyprojroot import here\n",
    "\n",
    "sys.path.insert(1, str(here('bin')))\n",
    "# Import custom functions\n",
    "from customPythonFunctions import aggregating_features, train_patient_classifier, vote_patient_disease\n",
    "\n",
    "random_seed = 42"
   ]
  },
  {
   "cell_type": "markdown",
   "id": "bd323da1-8446-4ffc-91ac-c737ce081412",
   "metadata": {
    "papermill": {
     "duration": 0.008147,
     "end_time": "2024-06-19T17:28:18.381763",
     "exception": false,
     "start_time": "2024-06-19T17:28:18.373616",
     "status": "completed"
    },
    "tags": []
   },
   "source": [
    "### Parameters"
   ]
  },
  {
   "cell_type": "code",
   "execution_count": 4,
   "id": "3f81fe70-a960-401d-a05d-9d9199edd620",
   "metadata": {
    "execution": {
     "iopub.execute_input": "2024-06-19T17:28:18.397622Z",
     "iopub.status.busy": "2024-06-19T17:28:18.397051Z",
     "iopub.status.idle": "2024-06-19T17:28:18.402787Z",
     "shell.execute_reply": "2024-06-19T17:28:18.402438Z"
    },
    "papermill": {
     "duration": 0.014638,
     "end_time": "2024-06-19T17:28:18.403693",
     "exception": false,
     "start_time": "2024-06-19T17:28:18.389055",
     "status": "completed"
    },
    "tags": []
   },
   "outputs": [
    {
     "data": {
      "text/plain": [
       "['chemistry']"
      ]
     },
     "execution_count": 4,
     "metadata": {},
     "output_type": "execute_result"
    }
   ],
   "source": [
    "batch_key_query = batchKeys.split(',')\n",
    "batch_key_query"
   ]
  },
  {
   "cell_type": "markdown",
   "id": "008170b2-f7e2-4c59-b434-b682dacf1110",
   "metadata": {
    "papermill": {
     "duration": 0.007765,
     "end_time": "2024-06-19T17:28:18.418836",
     "exception": false,
     "start_time": "2024-06-19T17:28:18.411071",
     "status": "completed"
    },
    "tags": []
   },
   "source": [
    "### Loading dataset"
   ]
  },
  {
   "cell_type": "markdown",
   "id": "c96cf9da-e2ed-4800-903c-316f4805e559",
   "metadata": {
    "papermill": {
     "duration": 0.007557,
     "end_time": "2024-06-19T17:28:18.434048",
     "exception": false,
     "start_time": "2024-06-19T17:28:18.426491",
     "status": "completed"
    },
    "tags": []
   },
   "source": [
    "**Integrated object**"
   ]
  },
  {
   "cell_type": "code",
   "execution_count": 5,
   "id": "8e361302-99f5-48fe-989b-f196e18ae0dd",
   "metadata": {
    "execution": {
     "iopub.execute_input": "2024-06-19T17:28:18.450183Z",
     "iopub.status.busy": "2024-06-19T17:28:18.449898Z",
     "iopub.status.idle": "2024-06-19T17:28:53.013712Z",
     "shell.execute_reply": "2024-06-19T17:28:53.013179Z"
    },
    "papermill": {
     "duration": 34.584476,
     "end_time": "2024-06-19T17:28:53.026230",
     "exception": false,
     "start_time": "2024-06-19T17:28:18.441754",
     "status": "completed"
    },
    "tags": []
   },
   "outputs": [
    {
     "data": {
      "text/plain": [
       "AnnData object with n_obs × n_vars = 4435922 × 8253 backed at '/scratch_isilon/groups/singlecell/shared/projects/Inflammation-PBMCs-Atlas/03_downstream_analysis/08_PatientClassifier/Harmony_Symphony/results/01_MAIN_HarmonyIntegrated_50nPC_Batch_chemistry.h5ad'\n",
       "    obs: 'studyID', 'libraryID', 'sampleID', 'chemistry', 'disease', 'sex', 'binned_age', 'Level1', 'Level2'\n",
       "    var: 'hgnc_id', 'symbol', 'locus_group', 'HUGO_status', 'highly_variable', 'mean', 'std'\n",
       "    uns: 'harmony', 'log1p', 'pca'\n",
       "    obsm: 'X_pca', 'X_pca_harmony'\n",
       "    varm: 'PCs'"
      ]
     },
     "execution_count": 5,
     "metadata": {},
     "output_type": "execute_result"
    }
   ],
   "source": [
    "adataR = sc.read_h5ad(here(f\"03_downstream_analysis/08_PatientClassifier/Harmony_Symphony/results/01_MAIN_HarmonyIntegrated_{nPC}nPC_Batch_{batchKeys}.h5ad\"), backed='r')\n",
    "adataR"
   ]
  },
  {
   "cell_type": "markdown",
   "id": "7a8289b7-ae48-40bd-a8bf-b8a61d6fea7c",
   "metadata": {
    "papermill": {
     "duration": 0.007747,
     "end_time": "2024-06-19T17:28:53.041888",
     "exception": false,
     "start_time": "2024-06-19T17:28:53.034141",
     "status": "completed"
    },
    "tags": []
   },
   "source": [
    "**Query dataset**"
   ]
  },
  {
   "cell_type": "code",
   "execution_count": 6,
   "id": "f8922a45-9d49-4b6e-be13-48cecafe227d",
   "metadata": {
    "execution": {
     "iopub.execute_input": "2024-06-19T17:28:53.057668Z",
     "iopub.status.busy": "2024-06-19T17:28:53.057422Z",
     "iopub.status.idle": "2024-06-19T17:29:05.879711Z",
     "shell.execute_reply": "2024-06-19T17:29:05.879278Z"
    },
    "papermill": {
     "duration": 12.831368,
     "end_time": "2024-06-19T17:29:05.880676",
     "exception": false,
     "start_time": "2024-06-19T17:28:53.049308",
     "status": "completed"
    },
    "tags": []
   },
   "outputs": [
    {
     "data": {
      "text/plain": [
       "AnnData object with n_obs × n_vars = 849922 × 8253\n",
       "    obs: 'studyID', 'libraryID', 'sampleID', 'chemistry', 'technology', 'disease', 'sex', 'binned_age'\n",
       "    var: 'hgnc_id', 'symbol', 'locus_group', 'HUGO_status'"
      ]
     },
     "execution_count": 6,
     "metadata": {},
     "output_type": "execute_result"
    }
   ],
   "source": [
    "adataQ = sc.read_h5ad(here(f'03_downstream_analysis/02_gene_universe_definition/results/05_{queryDataset}_geneUniverse.h5ad'))\n",
    "adataQ"
   ]
  },
  {
   "cell_type": "markdown",
   "id": "0be9f746-fd30-4f97-9ec7-1a1e1f831776",
   "metadata": {
    "papermill": {
     "duration": 0.007739,
     "end_time": "2024-06-19T17:29:05.900176",
     "exception": false,
     "start_time": "2024-06-19T17:29:05.892437",
     "status": "completed"
    },
    "tags": []
   },
   "source": [
    "### Preprocessing"
   ]
  },
  {
   "cell_type": "code",
   "execution_count": 7,
   "id": "db7e0e86-4cfc-44f7-a6f1-1fa3795ad5a3",
   "metadata": {
    "execution": {
     "iopub.execute_input": "2024-06-19T17:29:05.917763Z",
     "iopub.status.busy": "2024-06-19T17:29:05.917461Z",
     "iopub.status.idle": "2024-06-19T17:29:43.270258Z",
     "shell.execute_reply": "2024-06-19T17:29:43.269664Z"
    },
    "papermill": {
     "duration": 37.363173,
     "end_time": "2024-06-19T17:29:43.271629",
     "exception": false,
     "start_time": "2024-06-19T17:29:05.908456",
     "status": "completed"
    },
    "tags": []
   },
   "outputs": [],
   "source": [
    "sc.pp.normalize_total(adataQ, target_sum=1e4)\n",
    "sc.pp.log1p(adataQ)"
   ]
  },
  {
   "cell_type": "markdown",
   "id": "3109c878-d7d1-4372-9462-0ccdb78070dc",
   "metadata": {
    "papermill": {
     "duration": 0.007701,
     "end_time": "2024-06-19T17:29:43.288632",
     "exception": false,
     "start_time": "2024-06-19T17:29:43.280931",
     "status": "completed"
    },
    "tags": []
   },
   "source": [
    "### Projection with Symphony"
   ]
  },
  {
   "cell_type": "code",
   "execution_count": 8,
   "id": "d2e7eed3-c2e1-4031-a49f-89e32fe17130",
   "metadata": {
    "execution": {
     "iopub.execute_input": "2024-06-19T17:29:43.305324Z",
     "iopub.status.busy": "2024-06-19T17:29:43.305124Z",
     "iopub.status.idle": "2024-06-19T17:39:53.347570Z",
     "shell.execute_reply": "2024-06-19T17:39:53.346741Z"
    },
    "papermill": {
     "duration": 610.053291,
     "end_time": "2024-06-19T17:39:53.349300",
     "exception": false,
     "start_time": "2024-06-19T17:29:43.296009",
     "status": "completed"
    },
    "tags": []
   },
   "outputs": [],
   "source": [
    "sp.tl.map_embedding(adataQ, adataR, key=batch_key_query)"
   ]
  },
  {
   "cell_type": "raw",
   "id": "9205924b-4e03-45d1-92af-b95346636a03",
   "metadata": {
    "papermill": {
     "duration": 0.168728,
     "end_time": "2024-06-19T17:39:57.154136",
     "exception": false,
     "start_time": "2024-06-19T17:39:56.985408",
     "status": "completed"
    },
    "tags": []
   },
   "source": [
    "sp.tl.per_cell_confidence(adataQ, adataR)"
   ]
  },
  {
   "cell_type": "raw",
   "id": "46a6bb72-921f-4385-bac9-4c6b138b00f0",
   "metadata": {
    "papermill": {
     "duration": 0.030061,
     "end_time": "2024-06-19T17:39:57.245625",
     "exception": false,
     "start_time": "2024-06-19T17:39:57.215564",
     "status": "completed"
    },
    "tags": []
   },
   "source": [
    "adataQ.obs.symphony_per_cell_dist.hist(bins=100)"
   ]
  },
  {
   "cell_type": "code",
   "execution_count": 9,
   "id": "2ee17ce6-f8c5-4a1e-b93e-9fc70ab7edb9",
   "metadata": {
    "execution": {
     "iopub.execute_input": "2024-06-19T17:39:57.308608Z",
     "iopub.status.busy": "2024-06-19T17:39:57.308379Z",
     "iopub.status.idle": "2024-06-19T17:39:57.312208Z",
     "shell.execute_reply": "2024-06-19T17:39:57.311821Z"
    },
    "papermill": {
     "duration": 0.021313,
     "end_time": "2024-06-19T17:39:57.313172",
     "exception": false,
     "start_time": "2024-06-19T17:39:57.291859",
     "status": "completed"
    },
    "tags": []
   },
   "outputs": [
    {
     "data": {
      "text/plain": [
       "AnnData object with n_obs × n_vars = 849922 × 8253\n",
       "    obs: 'studyID', 'libraryID', 'sampleID', 'chemistry', 'technology', 'disease', 'sex', 'binned_age'\n",
       "    var: 'hgnc_id', 'symbol', 'locus_group', 'HUGO_status'\n",
       "    uns: 'log1p'\n",
       "    obsm: 'X_pca_reference', 'X_pca_harmony', 'X_pca_harmony_symphony_R'"
      ]
     },
     "execution_count": 9,
     "metadata": {},
     "output_type": "execute_result"
    }
   ],
   "source": [
    "adataQ"
   ]
  },
  {
   "cell_type": "markdown",
   "id": "51e25a69-c8f9-43c8-b50c-e2b4aa826a6b",
   "metadata": {
    "papermill": {
     "duration": 0.01498,
     "end_time": "2024-06-19T17:39:57.336907",
     "exception": false,
     "start_time": "2024-06-19T17:39:57.321927",
     "status": "completed"
    },
    "tags": []
   },
   "source": [
    "### Label transfer"
   ]
  },
  {
   "cell_type": "code",
   "execution_count": 10,
   "id": "81d61d37-fdfa-4071-aace-eff99e9d6787",
   "metadata": {
    "execution": {
     "iopub.execute_input": "2024-06-19T17:39:57.509803Z",
     "iopub.status.busy": "2024-06-19T17:39:57.509560Z",
     "iopub.status.idle": "2024-06-19T17:39:57.511713Z",
     "shell.execute_reply": "2024-06-19T17:39:57.511356Z"
    },
    "papermill": {
     "duration": 0.114,
     "end_time": "2024-06-19T17:39:57.512674",
     "exception": false,
     "start_time": "2024-06-19T17:39:57.398674",
     "status": "completed"
    },
    "tags": []
   },
   "outputs": [],
   "source": [
    "# common embedded space -> adataQ.obsm['X_pca_harmony']"
   ]
  },
  {
   "cell_type": "markdown",
   "id": "9482b233-08d7-4ed8-ad0f-729f59e05024",
   "metadata": {
    "papermill": {
     "duration": 0.024306,
     "end_time": "2024-06-19T17:39:57.599219",
     "exception": false,
     "start_time": "2024-06-19T17:39:57.574913",
     "status": "completed"
    },
    "tags": []
   },
   "source": [
    "**Level1 Annotation**"
   ]
  },
  {
   "cell_type": "code",
   "execution_count": 11,
   "id": "1016b8d2-0480-409a-aac4-1e521a1397b0",
   "metadata": {
    "execution": {
     "iopub.execute_input": "2024-06-19T17:39:57.644413Z",
     "iopub.status.busy": "2024-06-19T17:39:57.644207Z",
     "iopub.status.idle": "2024-06-19T18:12:32.831081Z",
     "shell.execute_reply": "2024-06-19T18:12:32.830114Z"
    },
    "papermill": {
     "duration": 1955.20816,
     "end_time": "2024-06-19T18:12:32.833018",
     "exception": false,
     "start_time": "2024-06-19T17:39:57.624858",
     "status": "completed"
    },
    "tags": []
   },
   "outputs": [],
   "source": [
    "sp.tl.transfer_labels_kNN(adataQ, adataR, 'Level1', ref_basis = 'X_pca_harmony', query_basis = 'X_pca_harmony')"
   ]
  },
  {
   "cell_type": "markdown",
   "id": "69eb76ae-aa03-4807-b680-a7423fb55458",
   "metadata": {
    "papermill": {
     "duration": 8.686348,
     "end_time": "2024-06-19T18:13:02.501567",
     "exception": false,
     "start_time": "2024-06-19T18:12:53.815219",
     "status": "completed"
    },
    "tags": []
   },
   "source": [
    "**Disease**"
   ]
  },
  {
   "cell_type": "code",
   "execution_count": 12,
   "id": "20429eca-9c43-4db8-b1da-94434c4c99c2",
   "metadata": {
    "execution": {
     "iopub.execute_input": "2024-06-19T18:13:03.109438Z",
     "iopub.status.busy": "2024-06-19T18:13:03.108963Z",
     "iopub.status.idle": "2024-06-19T18:13:03.113872Z",
     "shell.execute_reply": "2024-06-19T18:13:03.113389Z"
    },
    "papermill": {
     "duration": 0.044332,
     "end_time": "2024-06-19T18:13:03.115065",
     "exception": false,
     "start_time": "2024-06-19T18:13:03.070733",
     "status": "completed"
    },
    "tags": []
   },
   "outputs": [],
   "source": [
    "adataQ.obs.rename({'disease':'disease_true'}, axis=1, inplace=True)"
   ]
  },
  {
   "cell_type": "code",
   "execution_count": 13,
   "id": "7b72f7c3-af64-4a22-ab6b-8d5e5dbd4af3",
   "metadata": {
    "execution": {
     "iopub.execute_input": "2024-06-19T18:13:03.188231Z",
     "iopub.status.busy": "2024-06-19T18:13:03.187798Z",
     "iopub.status.idle": "2024-06-19T18:46:02.567449Z",
     "shell.execute_reply": "2024-06-19T18:46:02.566592Z"
    },
    "papermill": {
     "duration": 1979.425746,
     "end_time": "2024-06-19T18:46:02.569474",
     "exception": false,
     "start_time": "2024-06-19T18:13:03.143728",
     "status": "completed"
    },
    "tags": []
   },
   "outputs": [],
   "source": [
    "sp.tl.transfer_labels_kNN(adataQ, adataR, 'disease', ref_basis = 'X_pca_harmony', query_basis = 'X_pca_harmony')"
   ]
  },
  {
   "cell_type": "code",
   "execution_count": 14,
   "id": "2e1ad1d0-8a52-46a8-ae97-15dc2984f08e",
   "metadata": {
    "execution": {
     "iopub.execute_input": "2024-06-19T18:46:04.700292Z",
     "iopub.status.busy": "2024-06-19T18:46:04.699703Z",
     "iopub.status.idle": "2024-06-19T18:46:04.705146Z",
     "shell.execute_reply": "2024-06-19T18:46:04.704439Z"
    },
    "papermill": {
     "duration": 0.081626,
     "end_time": "2024-06-19T18:46:04.706364",
     "exception": false,
     "start_time": "2024-06-19T18:46:04.624738",
     "status": "completed"
    },
    "tags": []
   },
   "outputs": [],
   "source": [
    "adataQ.obs.rename({'disease':'disease_pred'}, axis=1, inplace=True)"
   ]
  },
  {
   "cell_type": "code",
   "execution_count": 15,
   "id": "0eb1c5d7-97fd-4c42-9b7b-8cddd8e22987",
   "metadata": {
    "execution": {
     "iopub.execute_input": "2024-06-19T18:46:04.896677Z",
     "iopub.status.busy": "2024-06-19T18:46:04.896130Z",
     "iopub.status.idle": "2024-06-19T18:46:08.199516Z",
     "shell.execute_reply": "2024-06-19T18:46:08.198901Z"
    },
    "papermill": {
     "duration": 3.415285,
     "end_time": "2024-06-19T18:46:08.200831",
     "exception": false,
     "start_time": "2024-06-19T18:46:04.785546",
     "status": "completed"
    },
    "tags": []
   },
   "outputs": [
    {
     "name": "stderr",
     "output_type": "stream",
     "text": [
      "/scratch_isilon/groups/singlecell/shared/conda_env/inflammation_atlas_R1/lib/python3.10/site-packages/sklearn/metrics/_classification.py:2458: UserWarning: y_pred contains classes not in y_true\n",
      "  warnings.warn(\"y_pred contains classes not in y_true\")\n"
     ]
    },
    {
     "data": {
      "text/plain": [
       "0.4461162104184368"
      ]
     },
     "execution_count": 15,
     "metadata": {},
     "output_type": "execute_result"
    }
   ],
   "source": [
    "balanced_accuracy_score(y_true = adataQ.obs.disease_true, y_pred=adataQ.obs.disease_pred)"
   ]
  },
  {
   "cell_type": "code",
   "execution_count": 16,
   "id": "0e4bc21f-ed6a-41d9-8254-1eb2bc58c1a1",
   "metadata": {
    "execution": {
     "iopub.execute_input": "2024-06-19T18:46:08.324364Z",
     "iopub.status.busy": "2024-06-19T18:46:08.324008Z",
     "iopub.status.idle": "2024-06-19T18:46:08.346831Z",
     "shell.execute_reply": "2024-06-19T18:46:08.346382Z"
    },
    "papermill": {
     "duration": 0.067531,
     "end_time": "2024-06-19T18:46:08.347841",
     "exception": false,
     "start_time": "2024-06-19T18:46:08.280310",
     "status": "completed"
    },
    "tags": []
   },
   "outputs": [
    {
     "data": {
      "text/html": [
       "<div>\n",
       "<style scoped>\n",
       "    .dataframe tbody tr th:only-of-type {\n",
       "        vertical-align: middle;\n",
       "    }\n",
       "\n",
       "    .dataframe tbody tr th {\n",
       "        vertical-align: top;\n",
       "    }\n",
       "\n",
       "    .dataframe thead th {\n",
       "        text-align: right;\n",
       "    }\n",
       "</style>\n",
       "<table border=\"1\" class=\"dataframe\">\n",
       "  <thead>\n",
       "    <tr style=\"text-align: right;\">\n",
       "      <th></th>\n",
       "      <th>studyID</th>\n",
       "      <th>libraryID</th>\n",
       "      <th>sampleID</th>\n",
       "      <th>chemistry</th>\n",
       "      <th>technology</th>\n",
       "      <th>disease_true</th>\n",
       "      <th>sex</th>\n",
       "      <th>binned_age</th>\n",
       "      <th>Level1</th>\n",
       "      <th>disease_pred</th>\n",
       "    </tr>\n",
       "    <tr>\n",
       "      <th>cellID</th>\n",
       "      <th></th>\n",
       "      <th></th>\n",
       "      <th></th>\n",
       "      <th></th>\n",
       "      <th></th>\n",
       "      <th></th>\n",
       "      <th></th>\n",
       "      <th></th>\n",
       "      <th></th>\n",
       "      <th></th>\n",
       "    </tr>\n",
       "  </thead>\n",
       "  <tbody>\n",
       "    <tr>\n",
       "      <th>SCGT00_L051_I51.3P_T0_AAACCCACAATCAGCT</th>\n",
       "      <td>SCGT00</td>\n",
       "      <td>SCGT00_L051</td>\n",
       "      <td>SCGT00_I51.3P_T0</td>\n",
       "      <td>3_GEX_V3</td>\n",
       "      <td>3_GEX_V3_GenoHashed</td>\n",
       "      <td>RA</td>\n",
       "      <td>female</td>\n",
       "      <td>41-50</td>\n",
       "      <td>ILC</td>\n",
       "      <td>RA</td>\n",
       "    </tr>\n",
       "    <tr>\n",
       "      <th>SCGT00_L051_I51.3P_T0_AAACCCAGTACAATAG</th>\n",
       "      <td>SCGT00</td>\n",
       "      <td>SCGT00_L051</td>\n",
       "      <td>SCGT00_I51.3P_T0</td>\n",
       "      <td>3_GEX_V3</td>\n",
       "      <td>3_GEX_V3_GenoHashed</td>\n",
       "      <td>RA</td>\n",
       "      <td>female</td>\n",
       "      <td>41-50</td>\n",
       "      <td>Mono</td>\n",
       "      <td>SLE</td>\n",
       "    </tr>\n",
       "    <tr>\n",
       "      <th>SCGT00_L051_I51.3P_T0_AAACGAACAACAGATA</th>\n",
       "      <td>SCGT00</td>\n",
       "      <td>SCGT00_L051</td>\n",
       "      <td>SCGT00_I51.3P_T0</td>\n",
       "      <td>3_GEX_V3</td>\n",
       "      <td>3_GEX_V3_GenoHashed</td>\n",
       "      <td>RA</td>\n",
       "      <td>female</td>\n",
       "      <td>41-50</td>\n",
       "      <td>ILC</td>\n",
       "      <td>SLE</td>\n",
       "    </tr>\n",
       "    <tr>\n",
       "      <th>SCGT00_L051_I51.3P_T0_AAACGAAGTGATACCT</th>\n",
       "      <td>SCGT00</td>\n",
       "      <td>SCGT00_L051</td>\n",
       "      <td>SCGT00_I51.3P_T0</td>\n",
       "      <td>3_GEX_V3</td>\n",
       "      <td>3_GEX_V3_GenoHashed</td>\n",
       "      <td>RA</td>\n",
       "      <td>female</td>\n",
       "      <td>41-50</td>\n",
       "      <td>ILC</td>\n",
       "      <td>SLE</td>\n",
       "    </tr>\n",
       "    <tr>\n",
       "      <th>SCGT00_L051_I51.3P_T0_AAACGAAGTTCTAACG</th>\n",
       "      <td>SCGT00</td>\n",
       "      <td>SCGT00_L051</td>\n",
       "      <td>SCGT00_I51.3P_T0</td>\n",
       "      <td>3_GEX_V3</td>\n",
       "      <td>3_GEX_V3_GenoHashed</td>\n",
       "      <td>RA</td>\n",
       "      <td>female</td>\n",
       "      <td>41-50</td>\n",
       "      <td>T_CD4_Naive</td>\n",
       "      <td>COVID</td>\n",
       "    </tr>\n",
       "    <tr>\n",
       "      <th>...</th>\n",
       "      <td>...</td>\n",
       "      <td>...</td>\n",
       "      <td>...</td>\n",
       "      <td>...</td>\n",
       "      <td>...</td>\n",
       "      <td>...</td>\n",
       "      <td>...</td>\n",
       "      <td>...</td>\n",
       "      <td>...</td>\n",
       "      <td>...</td>\n",
       "    </tr>\n",
       "    <tr>\n",
       "      <th>Ren2021_L065_PS052_T0_TTTGTCAAGTGTACCT</th>\n",
       "      <td>Ren2021</td>\n",
       "      <td>Ren2021_L065</td>\n",
       "      <td>Ren2021_PS052_T0</td>\n",
       "      <td>5_GEX_V2</td>\n",
       "      <td>5_GEX_V2</td>\n",
       "      <td>COVID</td>\n",
       "      <td>female</td>\n",
       "      <td>&gt;80</td>\n",
       "      <td>T_CD4_Naive</td>\n",
       "      <td>COVID</td>\n",
       "    </tr>\n",
       "    <tr>\n",
       "      <th>Ren2021_L065_PS052_T0_TTTGTCACAGGACCCT</th>\n",
       "      <td>Ren2021</td>\n",
       "      <td>Ren2021_L065</td>\n",
       "      <td>Ren2021_PS052_T0</td>\n",
       "      <td>5_GEX_V2</td>\n",
       "      <td>5_GEX_V2</td>\n",
       "      <td>COVID</td>\n",
       "      <td>female</td>\n",
       "      <td>&gt;80</td>\n",
       "      <td>T_CD4_Naive</td>\n",
       "      <td>COVID</td>\n",
       "    </tr>\n",
       "    <tr>\n",
       "      <th>Ren2021_L065_PS052_T0_TTTGTCAGTCCGTCAG</th>\n",
       "      <td>Ren2021</td>\n",
       "      <td>Ren2021_L065</td>\n",
       "      <td>Ren2021_PS052_T0</td>\n",
       "      <td>5_GEX_V2</td>\n",
       "      <td>5_GEX_V2</td>\n",
       "      <td>COVID</td>\n",
       "      <td>female</td>\n",
       "      <td>&gt;80</td>\n",
       "      <td>T_CD4_Naive</td>\n",
       "      <td>COVID</td>\n",
       "    </tr>\n",
       "    <tr>\n",
       "      <th>Ren2021_L065_PS052_T0_TTTGTCAGTCGCGTGT</th>\n",
       "      <td>Ren2021</td>\n",
       "      <td>Ren2021_L065</td>\n",
       "      <td>Ren2021_PS052_T0</td>\n",
       "      <td>5_GEX_V2</td>\n",
       "      <td>5_GEX_V2</td>\n",
       "      <td>COVID</td>\n",
       "      <td>female</td>\n",
       "      <td>&gt;80</td>\n",
       "      <td>Mono</td>\n",
       "      <td>COVID</td>\n",
       "    </tr>\n",
       "    <tr>\n",
       "      <th>Ren2021_L065_PS052_T0_TTTGTCATCCACGAAT</th>\n",
       "      <td>Ren2021</td>\n",
       "      <td>Ren2021_L065</td>\n",
       "      <td>Ren2021_PS052_T0</td>\n",
       "      <td>5_GEX_V2</td>\n",
       "      <td>5_GEX_V2</td>\n",
       "      <td>COVID</td>\n",
       "      <td>female</td>\n",
       "      <td>&gt;80</td>\n",
       "      <td>T_CD8_NonNaive</td>\n",
       "      <td>COVID</td>\n",
       "    </tr>\n",
       "  </tbody>\n",
       "</table>\n",
       "<p>849922 rows × 10 columns</p>\n",
       "</div>"
      ],
      "text/plain": [
       "                                        studyID     libraryID  \\\n",
       "cellID                                                          \n",
       "SCGT00_L051_I51.3P_T0_AAACCCACAATCAGCT   SCGT00   SCGT00_L051   \n",
       "SCGT00_L051_I51.3P_T0_AAACCCAGTACAATAG   SCGT00   SCGT00_L051   \n",
       "SCGT00_L051_I51.3P_T0_AAACGAACAACAGATA   SCGT00   SCGT00_L051   \n",
       "SCGT00_L051_I51.3P_T0_AAACGAAGTGATACCT   SCGT00   SCGT00_L051   \n",
       "SCGT00_L051_I51.3P_T0_AAACGAAGTTCTAACG   SCGT00   SCGT00_L051   \n",
       "...                                         ...           ...   \n",
       "Ren2021_L065_PS052_T0_TTTGTCAAGTGTACCT  Ren2021  Ren2021_L065   \n",
       "Ren2021_L065_PS052_T0_TTTGTCACAGGACCCT  Ren2021  Ren2021_L065   \n",
       "Ren2021_L065_PS052_T0_TTTGTCAGTCCGTCAG  Ren2021  Ren2021_L065   \n",
       "Ren2021_L065_PS052_T0_TTTGTCAGTCGCGTGT  Ren2021  Ren2021_L065   \n",
       "Ren2021_L065_PS052_T0_TTTGTCATCCACGAAT  Ren2021  Ren2021_L065   \n",
       "\n",
       "                                                sampleID chemistry  \\\n",
       "cellID                                                               \n",
       "SCGT00_L051_I51.3P_T0_AAACCCACAATCAGCT  SCGT00_I51.3P_T0  3_GEX_V3   \n",
       "SCGT00_L051_I51.3P_T0_AAACCCAGTACAATAG  SCGT00_I51.3P_T0  3_GEX_V3   \n",
       "SCGT00_L051_I51.3P_T0_AAACGAACAACAGATA  SCGT00_I51.3P_T0  3_GEX_V3   \n",
       "SCGT00_L051_I51.3P_T0_AAACGAAGTGATACCT  SCGT00_I51.3P_T0  3_GEX_V3   \n",
       "SCGT00_L051_I51.3P_T0_AAACGAAGTTCTAACG  SCGT00_I51.3P_T0  3_GEX_V3   \n",
       "...                                                  ...       ...   \n",
       "Ren2021_L065_PS052_T0_TTTGTCAAGTGTACCT  Ren2021_PS052_T0  5_GEX_V2   \n",
       "Ren2021_L065_PS052_T0_TTTGTCACAGGACCCT  Ren2021_PS052_T0  5_GEX_V2   \n",
       "Ren2021_L065_PS052_T0_TTTGTCAGTCCGTCAG  Ren2021_PS052_T0  5_GEX_V2   \n",
       "Ren2021_L065_PS052_T0_TTTGTCAGTCGCGTGT  Ren2021_PS052_T0  5_GEX_V2   \n",
       "Ren2021_L065_PS052_T0_TTTGTCATCCACGAAT  Ren2021_PS052_T0  5_GEX_V2   \n",
       "\n",
       "                                                 technology disease_true  \\\n",
       "cellID                                                                     \n",
       "SCGT00_L051_I51.3P_T0_AAACCCACAATCAGCT  3_GEX_V3_GenoHashed           RA   \n",
       "SCGT00_L051_I51.3P_T0_AAACCCAGTACAATAG  3_GEX_V3_GenoHashed           RA   \n",
       "SCGT00_L051_I51.3P_T0_AAACGAACAACAGATA  3_GEX_V3_GenoHashed           RA   \n",
       "SCGT00_L051_I51.3P_T0_AAACGAAGTGATACCT  3_GEX_V3_GenoHashed           RA   \n",
       "SCGT00_L051_I51.3P_T0_AAACGAAGTTCTAACG  3_GEX_V3_GenoHashed           RA   \n",
       "...                                                     ...          ...   \n",
       "Ren2021_L065_PS052_T0_TTTGTCAAGTGTACCT             5_GEX_V2        COVID   \n",
       "Ren2021_L065_PS052_T0_TTTGTCACAGGACCCT             5_GEX_V2        COVID   \n",
       "Ren2021_L065_PS052_T0_TTTGTCAGTCCGTCAG             5_GEX_V2        COVID   \n",
       "Ren2021_L065_PS052_T0_TTTGTCAGTCGCGTGT             5_GEX_V2        COVID   \n",
       "Ren2021_L065_PS052_T0_TTTGTCATCCACGAAT             5_GEX_V2        COVID   \n",
       "\n",
       "                                           sex binned_age          Level1  \\\n",
       "cellID                                                                      \n",
       "SCGT00_L051_I51.3P_T0_AAACCCACAATCAGCT  female      41-50             ILC   \n",
       "SCGT00_L051_I51.3P_T0_AAACCCAGTACAATAG  female      41-50            Mono   \n",
       "SCGT00_L051_I51.3P_T0_AAACGAACAACAGATA  female      41-50             ILC   \n",
       "SCGT00_L051_I51.3P_T0_AAACGAAGTGATACCT  female      41-50             ILC   \n",
       "SCGT00_L051_I51.3P_T0_AAACGAAGTTCTAACG  female      41-50     T_CD4_Naive   \n",
       "...                                        ...        ...             ...   \n",
       "Ren2021_L065_PS052_T0_TTTGTCAAGTGTACCT  female        >80     T_CD4_Naive   \n",
       "Ren2021_L065_PS052_T0_TTTGTCACAGGACCCT  female        >80     T_CD4_Naive   \n",
       "Ren2021_L065_PS052_T0_TTTGTCAGTCCGTCAG  female        >80     T_CD4_Naive   \n",
       "Ren2021_L065_PS052_T0_TTTGTCAGTCGCGTGT  female        >80            Mono   \n",
       "Ren2021_L065_PS052_T0_TTTGTCATCCACGAAT  female        >80  T_CD8_NonNaive   \n",
       "\n",
       "                                       disease_pred  \n",
       "cellID                                               \n",
       "SCGT00_L051_I51.3P_T0_AAACCCACAATCAGCT           RA  \n",
       "SCGT00_L051_I51.3P_T0_AAACCCAGTACAATAG          SLE  \n",
       "SCGT00_L051_I51.3P_T0_AAACGAACAACAGATA          SLE  \n",
       "SCGT00_L051_I51.3P_T0_AAACGAAGTGATACCT          SLE  \n",
       "SCGT00_L051_I51.3P_T0_AAACGAAGTTCTAACG        COVID  \n",
       "...                                             ...  \n",
       "Ren2021_L065_PS052_T0_TTTGTCAAGTGTACCT        COVID  \n",
       "Ren2021_L065_PS052_T0_TTTGTCACAGGACCCT        COVID  \n",
       "Ren2021_L065_PS052_T0_TTTGTCAGTCCGTCAG        COVID  \n",
       "Ren2021_L065_PS052_T0_TTTGTCAGTCGCGTGT        COVID  \n",
       "Ren2021_L065_PS052_T0_TTTGTCATCCACGAAT        COVID  \n",
       "\n",
       "[849922 rows x 10 columns]"
      ]
     },
     "execution_count": 16,
     "metadata": {},
     "output_type": "execute_result"
    }
   ],
   "source": [
    "adataQ.obs"
   ]
  },
  {
   "cell_type": "markdown",
   "id": "604b824a-321a-4ebe-802f-39ac50ec5238",
   "metadata": {
    "papermill": {
     "duration": 0.030403,
     "end_time": "2024-06-19T18:46:08.420453",
     "exception": false,
     "start_time": "2024-06-19T18:46:08.390050",
     "status": "completed"
    },
    "tags": []
   },
   "source": [
    "### Generating pseudobulk from latent space for Q dataset"
   ]
  },
  {
   "cell_type": "code",
   "execution_count": 17,
   "id": "995ab0a0-f978-4667-a85a-72b4757305c5",
   "metadata": {
    "execution": {
     "iopub.execute_input": "2024-06-19T18:46:08.499389Z",
     "iopub.status.busy": "2024-06-19T18:46:08.499026Z",
     "iopub.status.idle": "2024-06-19T18:46:08.949410Z",
     "shell.execute_reply": "2024-06-19T18:46:08.948519Z"
    },
    "papermill": {
     "duration": 0.472468,
     "end_time": "2024-06-19T18:46:08.951034",
     "exception": false,
     "start_time": "2024-06-19T18:46:08.478566",
     "status": "completed"
    },
    "tags": []
   },
   "outputs": [],
   "source": [
    "emb_pseudobulk_Q = aggregating_features(Z = adataQ.obsm['X_pca_harmony'], obsDF = adataQ.obs[['sampleID','Level1','disease_true']], mode = 'mean', obs_names_col=['sampleID','Level1'])"
   ]
  },
  {
   "cell_type": "code",
   "execution_count": 18,
   "id": "841534d1-d593-4372-b4d1-3133ae9180d8",
   "metadata": {
    "execution": {
     "iopub.execute_input": "2024-06-19T18:46:09.092479Z",
     "iopub.status.busy": "2024-06-19T18:46:09.092097Z",
     "iopub.status.idle": "2024-06-19T18:46:09.101255Z",
     "shell.execute_reply": "2024-06-19T18:46:09.100762Z"
    },
    "papermill": {
     "duration": 0.114373,
     "end_time": "2024-06-19T18:46:09.102392",
     "exception": false,
     "start_time": "2024-06-19T18:46:08.988019",
     "status": "completed"
    },
    "tags": []
   },
   "outputs": [
    {
     "data": {
      "text/html": [
       "<div>\n",
       "<style scoped>\n",
       "    .dataframe tbody tr th:only-of-type {\n",
       "        vertical-align: middle;\n",
       "    }\n",
       "\n",
       "    .dataframe tbody tr th {\n",
       "        vertical-align: top;\n",
       "    }\n",
       "\n",
       "    .dataframe thead th {\n",
       "        text-align: right;\n",
       "    }\n",
       "</style>\n",
       "<table border=\"1\" class=\"dataframe\">\n",
       "  <thead>\n",
       "    <tr style=\"text-align: right;\">\n",
       "      <th></th>\n",
       "      <th>sampleID</th>\n",
       "      <th>Level1</th>\n",
       "      <th>disease_true</th>\n",
       "      <th>n_observation</th>\n",
       "    </tr>\n",
       "  </thead>\n",
       "  <tbody>\n",
       "    <tr>\n",
       "      <th>COMBAT2022_G05073_T0_B</th>\n",
       "      <td>COMBAT2022_G05073_T0</td>\n",
       "      <td>B</td>\n",
       "      <td>COVID</td>\n",
       "      <td>520</td>\n",
       "    </tr>\n",
       "    <tr>\n",
       "      <th>COMBAT2022_G05073_T0_Cycling_cells</th>\n",
       "      <td>COMBAT2022_G05073_T0</td>\n",
       "      <td>Cycling_cells</td>\n",
       "      <td>COVID</td>\n",
       "      <td>69</td>\n",
       "    </tr>\n",
       "    <tr>\n",
       "      <th>COMBAT2022_G05073_T0_DC</th>\n",
       "      <td>COMBAT2022_G05073_T0</td>\n",
       "      <td>DC</td>\n",
       "      <td>COVID</td>\n",
       "      <td>113</td>\n",
       "    </tr>\n",
       "    <tr>\n",
       "      <th>COMBAT2022_G05073_T0_ILC</th>\n",
       "      <td>COMBAT2022_G05073_T0</td>\n",
       "      <td>ILC</td>\n",
       "      <td>COVID</td>\n",
       "      <td>307</td>\n",
       "    </tr>\n",
       "    <tr>\n",
       "      <th>COMBAT2022_G05073_T0_Mono</th>\n",
       "      <td>COMBAT2022_G05073_T0</td>\n",
       "      <td>Mono</td>\n",
       "      <td>COVID</td>\n",
       "      <td>1671</td>\n",
       "    </tr>\n",
       "    <tr>\n",
       "      <th>...</th>\n",
       "      <td>...</td>\n",
       "      <td>...</td>\n",
       "      <td>...</td>\n",
       "      <td>...</td>\n",
       "    </tr>\n",
       "    <tr>\n",
       "      <th>Terekhova2023_FE05_T0_T_CD4_NonNaive</th>\n",
       "      <td>Terekhova2023_FE05_T0</td>\n",
       "      <td>T_CD4_NonNaive</td>\n",
       "      <td>healthy</td>\n",
       "      <td>940</td>\n",
       "    </tr>\n",
       "    <tr>\n",
       "      <th>Terekhova2023_FE05_T0_T_CD8_Naive</th>\n",
       "      <td>Terekhova2023_FE05_T0</td>\n",
       "      <td>T_CD8_Naive</td>\n",
       "      <td>healthy</td>\n",
       "      <td>375</td>\n",
       "    </tr>\n",
       "    <tr>\n",
       "      <th>Terekhova2023_FE05_T0_T_CD8_NonNaive</th>\n",
       "      <td>Terekhova2023_FE05_T0</td>\n",
       "      <td>T_CD8_NonNaive</td>\n",
       "      <td>healthy</td>\n",
       "      <td>948</td>\n",
       "    </tr>\n",
       "    <tr>\n",
       "      <th>Terekhova2023_FE05_T0_UTC</th>\n",
       "      <td>Terekhova2023_FE05_T0</td>\n",
       "      <td>UTC</td>\n",
       "      <td>healthy</td>\n",
       "      <td>465</td>\n",
       "    </tr>\n",
       "    <tr>\n",
       "      <th>Terekhova2023_FE05_T0_pDC</th>\n",
       "      <td>Terekhova2023_FE05_T0</td>\n",
       "      <td>pDC</td>\n",
       "      <td>healthy</td>\n",
       "      <td>57</td>\n",
       "    </tr>\n",
       "  </tbody>\n",
       "</table>\n",
       "<p>1979 rows × 4 columns</p>\n",
       "</div>"
      ],
      "text/plain": [
       "                                                   sampleID          Level1  \\\n",
       "COMBAT2022_G05073_T0_B                 COMBAT2022_G05073_T0               B   \n",
       "COMBAT2022_G05073_T0_Cycling_cells     COMBAT2022_G05073_T0   Cycling_cells   \n",
       "COMBAT2022_G05073_T0_DC                COMBAT2022_G05073_T0              DC   \n",
       "COMBAT2022_G05073_T0_ILC               COMBAT2022_G05073_T0             ILC   \n",
       "COMBAT2022_G05073_T0_Mono              COMBAT2022_G05073_T0            Mono   \n",
       "...                                                     ...             ...   \n",
       "Terekhova2023_FE05_T0_T_CD4_NonNaive  Terekhova2023_FE05_T0  T_CD4_NonNaive   \n",
       "Terekhova2023_FE05_T0_T_CD8_Naive     Terekhova2023_FE05_T0     T_CD8_Naive   \n",
       "Terekhova2023_FE05_T0_T_CD8_NonNaive  Terekhova2023_FE05_T0  T_CD8_NonNaive   \n",
       "Terekhova2023_FE05_T0_UTC             Terekhova2023_FE05_T0             UTC   \n",
       "Terekhova2023_FE05_T0_pDC             Terekhova2023_FE05_T0             pDC   \n",
       "\n",
       "                                     disease_true  n_observation  \n",
       "COMBAT2022_G05073_T0_B                      COVID            520  \n",
       "COMBAT2022_G05073_T0_Cycling_cells          COVID             69  \n",
       "COMBAT2022_G05073_T0_DC                     COVID            113  \n",
       "COMBAT2022_G05073_T0_ILC                    COVID            307  \n",
       "COMBAT2022_G05073_T0_Mono                   COVID           1671  \n",
       "...                                           ...            ...  \n",
       "Terekhova2023_FE05_T0_T_CD4_NonNaive      healthy            940  \n",
       "Terekhova2023_FE05_T0_T_CD8_Naive         healthy            375  \n",
       "Terekhova2023_FE05_T0_T_CD8_NonNaive      healthy            948  \n",
       "Terekhova2023_FE05_T0_UTC                 healthy            465  \n",
       "Terekhova2023_FE05_T0_pDC                 healthy             57  \n",
       "\n",
       "[1979 rows x 4 columns]"
      ]
     },
     "execution_count": 18,
     "metadata": {},
     "output_type": "execute_result"
    }
   ],
   "source": [
    "emb_pseudobulk_Q.obs"
   ]
  },
  {
   "cell_type": "markdown",
   "id": "a43a1514-ec0f-4b9e-ac54-a48dbabc0fff",
   "metadata": {
    "execution": {
     "iopub.execute_input": "2024-06-07T16:00:22.779422Z",
     "iopub.status.busy": "2024-06-07T16:00:22.778939Z",
     "iopub.status.idle": "2024-06-07T16:00:22.782415Z",
     "shell.execute_reply": "2024-06-07T16:00:22.781982Z",
     "shell.execute_reply.started": "2024-06-07T16:00:22.779405Z"
    },
    "papermill": {
     "duration": 0.026747,
     "end_time": "2024-06-19T18:46:09.217976",
     "exception": false,
     "start_time": "2024-06-19T18:46:09.191229",
     "status": "completed"
    },
    "tags": []
   },
   "source": [
    "**Loading training pseudobulk**"
   ]
  },
  {
   "cell_type": "code",
   "execution_count": 19,
   "id": "b759518f-cc41-406e-8919-c72d6a6925e6",
   "metadata": {
    "execution": {
     "iopub.execute_input": "2024-06-19T18:46:09.249080Z",
     "iopub.status.busy": "2024-06-19T18:46:09.248746Z",
     "iopub.status.idle": "2024-06-19T18:46:09.455732Z",
     "shell.execute_reply": "2024-06-19T18:46:09.455119Z"
    },
    "papermill": {
     "duration": 0.224623,
     "end_time": "2024-06-19T18:46:09.457585",
     "exception": false,
     "start_time": "2024-06-19T18:46:09.232962",
     "status": "completed"
    },
    "tags": []
   },
   "outputs": [],
   "source": [
    "emb_pseudobulk_train = sc.read_h5ad(here(f\"03_downstream_analysis/08_PatientClassifier/Harmony_Symphony/results/01_MAIN_HarmonyIntegrated_PSEUDOBULK_{nPC}nPC_Batch_{batchKeys}.h5ad\"))"
   ]
  },
  {
   "cell_type": "markdown",
   "id": "fa0cf8df-f0dd-449c-87c8-b9207e94207b",
   "metadata": {
    "papermill": {
     "duration": 0.038771,
     "end_time": "2024-06-19T18:46:09.565647",
     "exception": false,
     "start_time": "2024-06-19T18:46:09.526876",
     "status": "completed"
    },
    "tags": []
   },
   "source": [
    "#### Remove unwanted cell types"
   ]
  },
  {
   "cell_type": "code",
   "execution_count": 20,
   "id": "b477252c-4cdb-4f89-8ec2-1d3dbc4a7655",
   "metadata": {
    "execution": {
     "iopub.execute_input": "2024-06-19T18:46:09.689137Z",
     "iopub.status.busy": "2024-06-19T18:46:09.688645Z",
     "iopub.status.idle": "2024-06-19T18:46:09.694858Z",
     "shell.execute_reply": "2024-06-19T18:46:09.694349Z"
    },
    "papermill": {
     "duration": 0.039581,
     "end_time": "2024-06-19T18:46:09.696076",
     "exception": false,
     "start_time": "2024-06-19T18:46:09.656495",
     "status": "completed"
    },
    "tags": []
   },
   "outputs": [],
   "source": [
    "emb_pseudobulk_train = emb_pseudobulk_train[~emb_pseudobulk_train.obs.Level1.isin(['Cycling_cells','RBC','Progenitors','Platelets']),]"
   ]
  },
  {
   "cell_type": "code",
   "execution_count": 21,
   "id": "25ead359-02da-4eec-a2e8-040415f31ca8",
   "metadata": {
    "execution": {
     "iopub.execute_input": "2024-06-19T18:46:09.764240Z",
     "iopub.status.busy": "2024-06-19T18:46:09.763925Z",
     "iopub.status.idle": "2024-06-19T18:46:09.767284Z",
     "shell.execute_reply": "2024-06-19T18:46:09.766874Z"
    },
    "papermill": {
     "duration": 0.038661,
     "end_time": "2024-06-19T18:46:09.768367",
     "exception": false,
     "start_time": "2024-06-19T18:46:09.729706",
     "status": "completed"
    },
    "tags": []
   },
   "outputs": [],
   "source": [
    "emb_pseudobulk_Q = emb_pseudobulk_Q[~emb_pseudobulk_Q.obs.Level1.isin(['Cycling_cells','RBC','Progenitors','Platelets']),]"
   ]
  },
  {
   "cell_type": "markdown",
   "id": "4faaceec-8aac-4c89-ac43-9093c0fe7c16",
   "metadata": {
    "papermill": {
     "duration": 0.059265,
     "end_time": "2024-06-19T18:46:09.916446",
     "exception": false,
     "start_time": "2024-06-19T18:46:09.857181",
     "status": "completed"
    },
    "tags": []
   },
   "source": [
    "### Saving query dataset and pseudobulks"
   ]
  },
  {
   "cell_type": "code",
   "execution_count": 22,
   "id": "40487ef8-ad5d-4236-a652-2d90cf76c77b",
   "metadata": {
    "execution": {
     "iopub.execute_input": "2024-06-19T18:46:10.015471Z",
     "iopub.status.busy": "2024-06-19T18:46:10.015047Z",
     "iopub.status.idle": "2024-06-19T18:54:58.854700Z",
     "shell.execute_reply": "2024-06-19T18:54:58.853921Z"
    },
    "papermill": {
     "duration": 528.87969,
     "end_time": "2024-06-19T18:54:58.856701",
     "exception": false,
     "start_time": "2024-06-19T18:46:09.977011",
     "status": "completed"
    },
    "tags": []
   },
   "outputs": [],
   "source": [
    "adataQ.write(here(f\"03_downstream_analysis/08_PatientClassifier/Harmony_Symphony/results/02_{queryDataset}_SymphonyProjected_{nPC}nPC_Batch_{batchKeys}.h5ad\"), \n",
    "             compression='gzip')"
   ]
  },
  {
   "cell_type": "code",
   "execution_count": 23,
   "id": "052a1401-1f68-49ed-a900-dda39c09e68b",
   "metadata": {
    "execution": {
     "iopub.execute_input": "2024-06-19T18:54:58.877734Z",
     "iopub.status.busy": "2024-06-19T18:54:58.877512Z",
     "iopub.status.idle": "2024-06-19T18:54:58.924492Z",
     "shell.execute_reply": "2024-06-19T18:54:58.923963Z"
    },
    "papermill": {
     "duration": 0.058957,
     "end_time": "2024-06-19T18:54:58.925597",
     "exception": false,
     "start_time": "2024-06-19T18:54:58.866640",
     "status": "completed"
    },
    "tags": []
   },
   "outputs": [
    {
     "name": "stderr",
     "output_type": "stream",
     "text": [
      "/scratch_isilon/groups/singlecell/shared/conda_env/inflammation_atlas_R1/lib/python3.10/site-packages/anndata/_core/anndata.py:1301: ImplicitModificationWarning: Trying to modify attribute `.obs` of view, initializing view as actual.\n",
      "  df[key] = c\n",
      "/scratch_isilon/groups/singlecell/shared/conda_env/inflammation_atlas_R1/lib/python3.10/site-packages/anndata/_core/anndata.py:1301: ImplicitModificationWarning: Trying to modify attribute `.obs` of view, initializing view as actual.\n",
      "  df[key] = c\n",
      "/scratch_isilon/groups/singlecell/shared/conda_env/inflammation_atlas_R1/lib/python3.10/site-packages/anndata/_core/anndata.py:1301: ImplicitModificationWarning: Trying to modify attribute `.obs` of view, initializing view as actual.\n",
      "  df[key] = c\n"
     ]
    }
   ],
   "source": [
    "emb_pseudobulk_Q.write(here(f\"03_downstream_analysis/08_PatientClassifier/Harmony_Symphony/results/02_{queryDataset}_SymphonyProjected_PSEUDOBULK{nPC}nPC_Batch_{batchKeys}.h5ad\"), \n",
    "             compression='gzip')"
   ]
  },
  {
   "cell_type": "markdown",
   "id": "8226f8d2-30b5-41a4-8efd-943e08f2d048",
   "metadata": {
    "papermill": {
     "duration": 0.010196,
     "end_time": "2024-06-19T18:54:58.947192",
     "exception": false,
     "start_time": "2024-06-19T18:54:58.936996",
     "status": "completed"
    },
    "tags": []
   },
   "source": [
    "### Training linear classifiers"
   ]
  },
  {
   "cell_type": "code",
   "execution_count": 24,
   "id": "b2f802a7-0a43-413b-8bee-03a900836009",
   "metadata": {
    "execution": {
     "iopub.execute_input": "2024-06-19T18:54:58.971217Z",
     "iopub.status.busy": "2024-06-19T18:54:58.970855Z",
     "iopub.status.idle": "2024-06-19T18:54:59.976037Z",
     "shell.execute_reply": "2024-06-19T18:54:59.975551Z"
    },
    "papermill": {
     "duration": 1.017601,
     "end_time": "2024-06-19T18:54:59.977268",
     "exception": false,
     "start_time": "2024-06-19T18:54:58.959667",
     "status": "completed"
    },
    "tags": []
   },
   "outputs": [
    {
     "name": "stderr",
     "output_type": "stream",
     "text": [
      "\r",
      "  0%|          | 0/11 [00:00<?, ?it/s]"
     ]
    },
    {
     "name": "stderr",
     "output_type": "stream",
     "text": [
      "\r",
      "  9%|▉         | 1/11 [00:00<00:01,  9.22it/s]"
     ]
    },
    {
     "name": "stderr",
     "output_type": "stream",
     "text": [
      "\r",
      " 18%|█▊        | 2/11 [00:00<00:01,  8.84it/s]"
     ]
    },
    {
     "name": "stderr",
     "output_type": "stream",
     "text": [
      "\r",
      " 27%|██▋       | 3/11 [00:00<00:01,  6.98it/s]"
     ]
    },
    {
     "name": "stderr",
     "output_type": "stream",
     "text": [
      "\r",
      " 45%|████▌     | 5/11 [00:00<00:00,  9.82it/s]"
     ]
    },
    {
     "name": "stderr",
     "output_type": "stream",
     "text": [
      "\r",
      " 64%|██████▎   | 7/11 [00:00<00:00, 11.25it/s]"
     ]
    },
    {
     "name": "stderr",
     "output_type": "stream",
     "text": [
      "\r",
      " 82%|████████▏ | 9/11 [00:00<00:00, 12.13it/s]"
     ]
    },
    {
     "name": "stderr",
     "output_type": "stream",
     "text": [
      "\r",
      "100%|██████████| 11/11 [00:00<00:00, 12.29it/s]"
     ]
    },
    {
     "name": "stderr",
     "output_type": "stream",
     "text": [
      "\r",
      "100%|██████████| 11/11 [00:00<00:00, 11.06it/s]"
     ]
    },
    {
     "name": "stderr",
     "output_type": "stream",
     "text": [
      "\n"
     ]
    }
   ],
   "source": [
    "clfList = train_patient_classifier(adataTrain = emb_pseudobulk_train, cell_type_col = 'Level1', y_true_col = 'disease', max_iter=-1, random_state = 25, model = 'KNeighborsClassifier', \n",
    "                           kargs_model={'n_neighbors':2, 'weights':'uniform', 'metric':'cosine','n_jobs':-1})"
   ]
  },
  {
   "cell_type": "code",
   "execution_count": 25,
   "id": "184e7805-037a-48ab-bdde-b80d084b46cd",
   "metadata": {
    "execution": {
     "iopub.execute_input": "2024-06-19T18:55:00.000793Z",
     "iopub.status.busy": "2024-06-19T18:55:00.000292Z",
     "iopub.status.idle": "2024-06-19T18:55:00.007808Z",
     "shell.execute_reply": "2024-06-19T18:55:00.007393Z"
    },
    "papermill": {
     "duration": 0.020258,
     "end_time": "2024-06-19T18:55:00.008885",
     "exception": false,
     "start_time": "2024-06-19T18:54:59.988627",
     "status": "completed"
    },
    "tags": []
   },
   "outputs": [
    {
     "data": {
      "text/plain": [
       "{'B': {'clf': KNeighborsClassifier(metric='cosine', n_jobs=-1, n_neighbors=2),\n",
       "  'bAcc': 0.8855346334951598,\n",
       "  'nObs': 814},\n",
       " 'DC': {'clf': KNeighborsClassifier(metric='cosine', n_jobs=-1, n_neighbors=2),\n",
       "  'bAcc': 0.8798902229551049,\n",
       "  'nObs': 801},\n",
       " 'ILC': {'clf': KNeighborsClassifier(metric='cosine', n_jobs=-1, n_neighbors=2),\n",
       "  'bAcc': 0.8601168149657772,\n",
       "  'nObs': 817},\n",
       " 'Mono': {'clf': KNeighborsClassifier(metric='cosine', n_jobs=-1, n_neighbors=2),\n",
       "  'bAcc': 0.8796345484540444,\n",
       "  'nObs': 817},\n",
       " 'Plasma': {'clf': KNeighborsClassifier(metric='cosine', n_jobs=-1, n_neighbors=2),\n",
       "  'bAcc': 0.7968588090216773,\n",
       "  'nObs': 727},\n",
       " 'T_CD4_Naive': {'clf': KNeighborsClassifier(metric='cosine', n_jobs=-1, n_neighbors=2),\n",
       "  'bAcc': 0.8950121248147564,\n",
       "  'nObs': 814},\n",
       " 'T_CD4_NonNaive': {'clf': KNeighborsClassifier(metric='cosine', n_jobs=-1, n_neighbors=2),\n",
       "  'bAcc': 0.913420880516387,\n",
       "  'nObs': 816},\n",
       " 'T_CD8_Naive': {'clf': KNeighborsClassifier(metric='cosine', n_jobs=-1, n_neighbors=2),\n",
       "  'bAcc': 0.9015947360439578,\n",
       "  'nObs': 805},\n",
       " 'T_CD8_NonNaive': {'clf': KNeighborsClassifier(metric='cosine', n_jobs=-1, n_neighbors=2),\n",
       "  'bAcc': 0.8577047365436915,\n",
       "  'nObs': 817},\n",
       " 'UTC': {'clf': KNeighborsClassifier(metric='cosine', n_jobs=-1, n_neighbors=2),\n",
       "  'bAcc': 0.8694921474738223,\n",
       "  'nObs': 813},\n",
       " 'pDC': {'clf': KNeighborsClassifier(metric='cosine', n_jobs=-1, n_neighbors=2),\n",
       "  'bAcc': 0.8690822201742231,\n",
       "  'nObs': 775}}"
      ]
     },
     "execution_count": 25,
     "metadata": {},
     "output_type": "execute_result"
    }
   ],
   "source": [
    "clfList"
   ]
  },
  {
   "cell_type": "markdown",
   "id": "8140578c-927e-4a12-84c1-809c70d2387c",
   "metadata": {
    "papermill": {
     "duration": 0.011139,
     "end_time": "2024-06-19T18:55:00.033178",
     "exception": false,
     "start_time": "2024-06-19T18:55:00.022039",
     "status": "completed"
    },
    "tags": []
   },
   "source": [
    "### Predicting diseases"
   ]
  },
  {
   "cell_type": "code",
   "execution_count": 26,
   "id": "ba47d364-9407-4d4a-9a9c-a02d374a9932",
   "metadata": {
    "execution": {
     "iopub.execute_input": "2024-06-19T18:55:00.056576Z",
     "iopub.status.busy": "2024-06-19T18:55:00.056095Z",
     "iopub.status.idle": "2024-06-19T18:55:00.063871Z",
     "shell.execute_reply": "2024-06-19T18:55:00.063432Z"
    },
    "papermill": {
     "duration": 0.020572,
     "end_time": "2024-06-19T18:55:00.064930",
     "exception": false,
     "start_time": "2024-06-19T18:55:00.044358",
     "status": "completed"
    },
    "tags": []
   },
   "outputs": [
    {
     "data": {
      "text/html": [
       "<div>\n",
       "<style scoped>\n",
       "    .dataframe tbody tr th:only-of-type {\n",
       "        vertical-align: middle;\n",
       "    }\n",
       "\n",
       "    .dataframe tbody tr th {\n",
       "        vertical-align: top;\n",
       "    }\n",
       "\n",
       "    .dataframe thead th {\n",
       "        text-align: right;\n",
       "    }\n",
       "</style>\n",
       "<table border=\"1\" class=\"dataframe\">\n",
       "  <thead>\n",
       "    <tr style=\"text-align: right;\">\n",
       "      <th></th>\n",
       "      <th>sampleID</th>\n",
       "      <th>Level1</th>\n",
       "      <th>disease_true</th>\n",
       "      <th>n_observation</th>\n",
       "    </tr>\n",
       "  </thead>\n",
       "  <tbody>\n",
       "    <tr>\n",
       "      <th>COMBAT2022_G05073_T0_B</th>\n",
       "      <td>COMBAT2022_G05073_T0</td>\n",
       "      <td>B</td>\n",
       "      <td>COVID</td>\n",
       "      <td>520</td>\n",
       "    </tr>\n",
       "    <tr>\n",
       "      <th>COMBAT2022_G05073_T0_DC</th>\n",
       "      <td>COMBAT2022_G05073_T0</td>\n",
       "      <td>DC</td>\n",
       "      <td>COVID</td>\n",
       "      <td>113</td>\n",
       "    </tr>\n",
       "    <tr>\n",
       "      <th>COMBAT2022_G05073_T0_ILC</th>\n",
       "      <td>COMBAT2022_G05073_T0</td>\n",
       "      <td>ILC</td>\n",
       "      <td>COVID</td>\n",
       "      <td>307</td>\n",
       "    </tr>\n",
       "    <tr>\n",
       "      <th>COMBAT2022_G05073_T0_Mono</th>\n",
       "      <td>COMBAT2022_G05073_T0</td>\n",
       "      <td>Mono</td>\n",
       "      <td>COVID</td>\n",
       "      <td>1671</td>\n",
       "    </tr>\n",
       "    <tr>\n",
       "      <th>COMBAT2022_G05073_T0_Plasma</th>\n",
       "      <td>COMBAT2022_G05073_T0</td>\n",
       "      <td>Plasma</td>\n",
       "      <td>COVID</td>\n",
       "      <td>20</td>\n",
       "    </tr>\n",
       "    <tr>\n",
       "      <th>...</th>\n",
       "      <td>...</td>\n",
       "      <td>...</td>\n",
       "      <td>...</td>\n",
       "      <td>...</td>\n",
       "    </tr>\n",
       "    <tr>\n",
       "      <th>Terekhova2023_FE05_T0_T_CD4_NonNaive</th>\n",
       "      <td>Terekhova2023_FE05_T0</td>\n",
       "      <td>T_CD4_NonNaive</td>\n",
       "      <td>healthy</td>\n",
       "      <td>940</td>\n",
       "    </tr>\n",
       "    <tr>\n",
       "      <th>Terekhova2023_FE05_T0_T_CD8_Naive</th>\n",
       "      <td>Terekhova2023_FE05_T0</td>\n",
       "      <td>T_CD8_Naive</td>\n",
       "      <td>healthy</td>\n",
       "      <td>375</td>\n",
       "    </tr>\n",
       "    <tr>\n",
       "      <th>Terekhova2023_FE05_T0_T_CD8_NonNaive</th>\n",
       "      <td>Terekhova2023_FE05_T0</td>\n",
       "      <td>T_CD8_NonNaive</td>\n",
       "      <td>healthy</td>\n",
       "      <td>948</td>\n",
       "    </tr>\n",
       "    <tr>\n",
       "      <th>Terekhova2023_FE05_T0_UTC</th>\n",
       "      <td>Terekhova2023_FE05_T0</td>\n",
       "      <td>UTC</td>\n",
       "      <td>healthy</td>\n",
       "      <td>465</td>\n",
       "    </tr>\n",
       "    <tr>\n",
       "      <th>Terekhova2023_FE05_T0_pDC</th>\n",
       "      <td>Terekhova2023_FE05_T0</td>\n",
       "      <td>pDC</td>\n",
       "      <td>healthy</td>\n",
       "      <td>57</td>\n",
       "    </tr>\n",
       "  </tbody>\n",
       "</table>\n",
       "<p>1554 rows × 4 columns</p>\n",
       "</div>"
      ],
      "text/plain": [
       "                                                   sampleID          Level1  \\\n",
       "COMBAT2022_G05073_T0_B                 COMBAT2022_G05073_T0               B   \n",
       "COMBAT2022_G05073_T0_DC                COMBAT2022_G05073_T0              DC   \n",
       "COMBAT2022_G05073_T0_ILC               COMBAT2022_G05073_T0             ILC   \n",
       "COMBAT2022_G05073_T0_Mono              COMBAT2022_G05073_T0            Mono   \n",
       "COMBAT2022_G05073_T0_Plasma            COMBAT2022_G05073_T0          Plasma   \n",
       "...                                                     ...             ...   \n",
       "Terekhova2023_FE05_T0_T_CD4_NonNaive  Terekhova2023_FE05_T0  T_CD4_NonNaive   \n",
       "Terekhova2023_FE05_T0_T_CD8_Naive     Terekhova2023_FE05_T0     T_CD8_Naive   \n",
       "Terekhova2023_FE05_T0_T_CD8_NonNaive  Terekhova2023_FE05_T0  T_CD8_NonNaive   \n",
       "Terekhova2023_FE05_T0_UTC             Terekhova2023_FE05_T0             UTC   \n",
       "Terekhova2023_FE05_T0_pDC             Terekhova2023_FE05_T0             pDC   \n",
       "\n",
       "                                     disease_true  n_observation  \n",
       "COMBAT2022_G05073_T0_B                      COVID            520  \n",
       "COMBAT2022_G05073_T0_DC                     COVID            113  \n",
       "COMBAT2022_G05073_T0_ILC                    COVID            307  \n",
       "COMBAT2022_G05073_T0_Mono                   COVID           1671  \n",
       "COMBAT2022_G05073_T0_Plasma                 COVID             20  \n",
       "...                                           ...            ...  \n",
       "Terekhova2023_FE05_T0_T_CD4_NonNaive      healthy            940  \n",
       "Terekhova2023_FE05_T0_T_CD8_Naive         healthy            375  \n",
       "Terekhova2023_FE05_T0_T_CD8_NonNaive      healthy            948  \n",
       "Terekhova2023_FE05_T0_UTC                 healthy            465  \n",
       "Terekhova2023_FE05_T0_pDC                 healthy             57  \n",
       "\n",
       "[1554 rows x 4 columns]"
      ]
     },
     "execution_count": 26,
     "metadata": {},
     "output_type": "execute_result"
    }
   ],
   "source": [
    "emb_pseudobulk_Q.obs"
   ]
  },
  {
   "cell_type": "code",
   "execution_count": 27,
   "id": "39befc29-3613-4abc-adeb-bfee66e08dea",
   "metadata": {
    "execution": {
     "iopub.execute_input": "2024-06-19T18:55:00.088176Z",
     "iopub.status.busy": "2024-06-19T18:55:00.087818Z",
     "iopub.status.idle": "2024-06-19T18:55:00.572842Z",
     "shell.execute_reply": "2024-06-19T18:55:00.572163Z"
    },
    "papermill": {
     "duration": 0.497783,
     "end_time": "2024-06-19T18:55:00.574005",
     "exception": false,
     "start_time": "2024-06-19T18:55:00.076222",
     "status": "completed"
    },
    "tags": []
   },
   "outputs": [
    {
     "name": "stderr",
     "output_type": "stream",
     "text": [
      "\r",
      "  0%|          | 0/11 [00:00<?, ?it/s]"
     ]
    },
    {
     "name": "stderr",
     "output_type": "stream",
     "text": [
      "\r",
      " 36%|███▋      | 4/11 [00:00<00:00, 33.08it/s]"
     ]
    },
    {
     "name": "stderr",
     "output_type": "stream",
     "text": [
      "\r",
      " 73%|███████▎  | 8/11 [00:00<00:00, 33.05it/s]"
     ]
    },
    {
     "name": "stderr",
     "output_type": "stream",
     "text": [
      "\r",
      "100%|██████████| 11/11 [00:00<00:00, 33.73it/s]"
     ]
    },
    {
     "name": "stderr",
     "output_type": "stream",
     "text": [
      "\n"
     ]
    },
    {
     "name": "stderr",
     "output_type": "stream",
     "text": [
      "\r",
      "  0%|          | 0/144 [00:00<?, ?it/s]"
     ]
    },
    {
     "name": "stderr",
     "output_type": "stream",
     "text": [
      "\r",
      " 65%|██████▌   | 94/144 [00:00<00:00, 934.90it/s]"
     ]
    },
    {
     "name": "stderr",
     "output_type": "stream",
     "text": [
      "\r",
      "100%|██████████| 144/144 [00:00<00:00, 953.91it/s]"
     ]
    },
    {
     "name": "stderr",
     "output_type": "stream",
     "text": [
      "\n"
     ]
    }
   ],
   "source": [
    "classificationDF = vote_patient_disease(adataTest = emb_pseudobulk_Q, \n",
    "                                clfList = clfList, \n",
    "                                sample_id_col = 'sampleID',\n",
    "                                cell_type_col = 'Level1')\n"
   ]
  },
  {
   "cell_type": "code",
   "execution_count": 28,
   "id": "a731fec9-92f4-4b14-b374-ad2bec4d4f13",
   "metadata": {
    "execution": {
     "iopub.execute_input": "2024-06-19T18:55:00.598137Z",
     "iopub.status.busy": "2024-06-19T18:55:00.597853Z",
     "iopub.status.idle": "2024-06-19T18:55:00.603959Z",
     "shell.execute_reply": "2024-06-19T18:55:00.603414Z"
    },
    "papermill": {
     "duration": 0.019604,
     "end_time": "2024-06-19T18:55:00.605216",
     "exception": false,
     "start_time": "2024-06-19T18:55:00.585612",
     "status": "completed"
    },
    "tags": []
   },
   "outputs": [],
   "source": [
    "res = classificationDF.merge(emb_pseudobulk_Q.obs[['sampleID', 'disease_true']].drop_duplicates(), how = 'left', on = 'sampleID').set_index('sampleID')\n"
   ]
  },
  {
   "cell_type": "code",
   "execution_count": 29,
   "id": "00fff243-e3d9-436c-b369-b7d4d29a13bf",
   "metadata": {
    "execution": {
     "iopub.execute_input": "2024-06-19T18:55:00.628373Z",
     "iopub.status.busy": "2024-06-19T18:55:00.628063Z",
     "iopub.status.idle": "2024-06-19T18:55:00.634232Z",
     "shell.execute_reply": "2024-06-19T18:55:00.633684Z"
    },
    "papermill": {
     "duration": 0.019102,
     "end_time": "2024-06-19T18:55:00.635377",
     "exception": false,
     "start_time": "2024-06-19T18:55:00.616275",
     "status": "completed"
    },
    "tags": []
   },
   "outputs": [
    {
     "name": "stderr",
     "output_type": "stream",
     "text": [
      "/scratch_isilon/groups/singlecell/shared/conda_env/inflammation_atlas_R1/lib/python3.10/site-packages/sklearn/metrics/_classification.py:2458: UserWarning: y_pred contains classes not in y_true\n",
      "  warnings.warn(\"y_pred contains classes not in y_true\")\n"
     ]
    },
    {
     "data": {
      "text/plain": [
       "0.697671568627451"
      ]
     },
     "execution_count": 29,
     "metadata": {},
     "output_type": "execute_result"
    }
   ],
   "source": [
    "balanced_accuracy_score(y_true = res.disease_true, y_pred=res.firstChoice)"
   ]
  },
  {
   "cell_type": "code",
   "execution_count": 30,
   "id": "54568ce9-5d5d-47e2-bc88-5a61eae513bc",
   "metadata": {
    "execution": {
     "iopub.execute_input": "2024-06-19T18:55:00.659247Z",
     "iopub.status.busy": "2024-06-19T18:55:00.658915Z",
     "iopub.status.idle": "2024-06-19T18:55:00.672116Z",
     "shell.execute_reply": "2024-06-19T18:55:00.671552Z"
    },
    "papermill": {
     "duration": 0.026595,
     "end_time": "2024-06-19T18:55:00.673243",
     "exception": false,
     "start_time": "2024-06-19T18:55:00.646648",
     "status": "completed"
    },
    "tags": []
   },
   "outputs": [
    {
     "data": {
      "text/html": [
       "<div>\n",
       "<style scoped>\n",
       "    .dataframe tbody tr th:only-of-type {\n",
       "        vertical-align: middle;\n",
       "    }\n",
       "\n",
       "    .dataframe tbody tr th {\n",
       "        vertical-align: top;\n",
       "    }\n",
       "\n",
       "    .dataframe thead th {\n",
       "        text-align: right;\n",
       "    }\n",
       "</style>\n",
       "<table border=\"1\" class=\"dataframe\">\n",
       "  <thead>\n",
       "    <tr style=\"text-align: right;\">\n",
       "      <th></th>\n",
       "      <th>B_prediction</th>\n",
       "      <th>DC_prediction</th>\n",
       "      <th>ILC_prediction</th>\n",
       "      <th>Mono_prediction</th>\n",
       "      <th>Plasma_prediction</th>\n",
       "      <th>T_CD4_Naive_prediction</th>\n",
       "      <th>T_CD4_NonNaive_prediction</th>\n",
       "      <th>T_CD8_Naive_prediction</th>\n",
       "      <th>T_CD8_NonNaive_prediction</th>\n",
       "      <th>UTC_prediction</th>\n",
       "      <th>pDC_prediction</th>\n",
       "      <th>firstChoice</th>\n",
       "      <th>firstChoice_perc</th>\n",
       "      <th>secondChoice</th>\n",
       "      <th>secondChoice_perc</th>\n",
       "      <th>disease_true</th>\n",
       "    </tr>\n",
       "    <tr>\n",
       "      <th>sampleID</th>\n",
       "      <th></th>\n",
       "      <th></th>\n",
       "      <th></th>\n",
       "      <th></th>\n",
       "      <th></th>\n",
       "      <th></th>\n",
       "      <th></th>\n",
       "      <th></th>\n",
       "      <th></th>\n",
       "      <th></th>\n",
       "      <th></th>\n",
       "      <th></th>\n",
       "      <th></th>\n",
       "      <th></th>\n",
       "      <th></th>\n",
       "      <th></th>\n",
       "    </tr>\n",
       "  </thead>\n",
       "  <tbody>\n",
       "    <tr>\n",
       "      <th>COMBAT2022_G05073_T0</th>\n",
       "      <td>SLE</td>\n",
       "      <td>SLE</td>\n",
       "      <td>healthy</td>\n",
       "      <td>COVID</td>\n",
       "      <td>COVID</td>\n",
       "      <td>COVID</td>\n",
       "      <td>COVID</td>\n",
       "      <td>COVID</td>\n",
       "      <td>COVID</td>\n",
       "      <td>healthy</td>\n",
       "      <td>healthy</td>\n",
       "      <td>COVID</td>\n",
       "      <td>46.153846</td>\n",
       "      <td>healthy</td>\n",
       "      <td>23.076923</td>\n",
       "      <td>COVID</td>\n",
       "    </tr>\n",
       "    <tr>\n",
       "      <th>COMBAT2022_G05097_T0</th>\n",
       "      <td>SLE</td>\n",
       "      <td>COVID</td>\n",
       "      <td>SLE</td>\n",
       "      <td>COVID</td>\n",
       "      <td>COVID</td>\n",
       "      <td>COVID</td>\n",
       "      <td>SLE</td>\n",
       "      <td>COVID</td>\n",
       "      <td>SLE</td>\n",
       "      <td>healthy</td>\n",
       "      <td>COVID</td>\n",
       "      <td>COVID</td>\n",
       "      <td>46.153846</td>\n",
       "      <td>SLE</td>\n",
       "      <td>30.769231</td>\n",
       "      <td>COVID</td>\n",
       "    </tr>\n",
       "    <tr>\n",
       "      <th>COMBAT2022_G05145_T0</th>\n",
       "      <td>healthy</td>\n",
       "      <td>healthy</td>\n",
       "      <td>healthy</td>\n",
       "      <td>healthy</td>\n",
       "      <td>flu</td>\n",
       "      <td>COVID</td>\n",
       "      <td>COVID</td>\n",
       "      <td>COVID</td>\n",
       "      <td>COVID</td>\n",
       "      <td>SLE</td>\n",
       "      <td>healthy</td>\n",
       "      <td>healthy</td>\n",
       "      <td>38.461538</td>\n",
       "      <td>COVID</td>\n",
       "      <td>30.769231</td>\n",
       "      <td>COVID</td>\n",
       "    </tr>\n",
       "    <tr>\n",
       "      <th>COMBAT2022_N00021_T0</th>\n",
       "      <td>SLE</td>\n",
       "      <td>healthy</td>\n",
       "      <td>healthy</td>\n",
       "      <td>sepsis</td>\n",
       "      <td>COVID</td>\n",
       "      <td>flu</td>\n",
       "      <td>healthy</td>\n",
       "      <td>healthy</td>\n",
       "      <td>healthy</td>\n",
       "      <td>sepsis</td>\n",
       "      <td>healthy</td>\n",
       "      <td>healthy</td>\n",
       "      <td>46.153846</td>\n",
       "      <td>sepsis</td>\n",
       "      <td>15.384615</td>\n",
       "      <td>sepsis</td>\n",
       "    </tr>\n",
       "    <tr>\n",
       "      <th>COMBAT2022_N00025_T0</th>\n",
       "      <td>SLE</td>\n",
       "      <td>NaN</td>\n",
       "      <td>healthy</td>\n",
       "      <td>sepsis</td>\n",
       "      <td>COVID</td>\n",
       "      <td>healthy</td>\n",
       "      <td>healthy</td>\n",
       "      <td>healthy</td>\n",
       "      <td>healthy</td>\n",
       "      <td>healthy</td>\n",
       "      <td>NaN</td>\n",
       "      <td>healthy</td>\n",
       "      <td>54.545455</td>\n",
       "      <td></td>\n",
       "      <td>18.181818</td>\n",
       "      <td>sepsis</td>\n",
       "    </tr>\n",
       "    <tr>\n",
       "      <th>...</th>\n",
       "      <td>...</td>\n",
       "      <td>...</td>\n",
       "      <td>...</td>\n",
       "      <td>...</td>\n",
       "      <td>...</td>\n",
       "      <td>...</td>\n",
       "      <td>...</td>\n",
       "      <td>...</td>\n",
       "      <td>...</td>\n",
       "      <td>...</td>\n",
       "      <td>...</td>\n",
       "      <td>...</td>\n",
       "      <td>...</td>\n",
       "      <td>...</td>\n",
       "      <td>...</td>\n",
       "      <td>...</td>\n",
       "    </tr>\n",
       "    <tr>\n",
       "      <th>Terekhova2023_E19_T0</th>\n",
       "      <td>healthy</td>\n",
       "      <td>healthy</td>\n",
       "      <td>healthy</td>\n",
       "      <td>healthy</td>\n",
       "      <td>healthy</td>\n",
       "      <td>healthy</td>\n",
       "      <td>healthy</td>\n",
       "      <td>healthy</td>\n",
       "      <td>healthy</td>\n",
       "      <td>healthy</td>\n",
       "      <td>healthy</td>\n",
       "      <td>healthy</td>\n",
       "      <td>84.615385</td>\n",
       "      <td></td>\n",
       "      <td>15.384615</td>\n",
       "      <td>healthy</td>\n",
       "    </tr>\n",
       "    <tr>\n",
       "      <th>Terekhova2023_FA07_T0</th>\n",
       "      <td>healthy</td>\n",
       "      <td>healthy</td>\n",
       "      <td>healthy</td>\n",
       "      <td>healthy</td>\n",
       "      <td>healthy</td>\n",
       "      <td>healthy</td>\n",
       "      <td>healthy</td>\n",
       "      <td>healthy</td>\n",
       "      <td>healthy</td>\n",
       "      <td>healthy</td>\n",
       "      <td>CRC</td>\n",
       "      <td>healthy</td>\n",
       "      <td>76.923077</td>\n",
       "      <td></td>\n",
       "      <td>15.384615</td>\n",
       "      <td>healthy</td>\n",
       "    </tr>\n",
       "    <tr>\n",
       "      <th>Terekhova2023_FC04_T0</th>\n",
       "      <td>healthy</td>\n",
       "      <td>healthy</td>\n",
       "      <td>healthy</td>\n",
       "      <td>healthy</td>\n",
       "      <td>healthy</td>\n",
       "      <td>healthy</td>\n",
       "      <td>healthy</td>\n",
       "      <td>healthy</td>\n",
       "      <td>healthy</td>\n",
       "      <td>healthy</td>\n",
       "      <td>healthy</td>\n",
       "      <td>healthy</td>\n",
       "      <td>84.615385</td>\n",
       "      <td></td>\n",
       "      <td>15.384615</td>\n",
       "      <td>healthy</td>\n",
       "    </tr>\n",
       "    <tr>\n",
       "      <th>Terekhova2023_FD01_T0</th>\n",
       "      <td>healthy</td>\n",
       "      <td>healthy</td>\n",
       "      <td>healthy</td>\n",
       "      <td>healthy</td>\n",
       "      <td>healthy</td>\n",
       "      <td>healthy</td>\n",
       "      <td>healthy</td>\n",
       "      <td>healthy</td>\n",
       "      <td>healthy</td>\n",
       "      <td>healthy</td>\n",
       "      <td>healthy</td>\n",
       "      <td>healthy</td>\n",
       "      <td>84.615385</td>\n",
       "      <td></td>\n",
       "      <td>15.384615</td>\n",
       "      <td>healthy</td>\n",
       "    </tr>\n",
       "    <tr>\n",
       "      <th>Terekhova2023_FE05_T0</th>\n",
       "      <td>healthy</td>\n",
       "      <td>healthy</td>\n",
       "      <td>healthy</td>\n",
       "      <td>healthy</td>\n",
       "      <td>healthy</td>\n",
       "      <td>healthy</td>\n",
       "      <td>healthy</td>\n",
       "      <td>healthy</td>\n",
       "      <td>healthy</td>\n",
       "      <td>healthy</td>\n",
       "      <td>healthy</td>\n",
       "      <td>healthy</td>\n",
       "      <td>84.615385</td>\n",
       "      <td></td>\n",
       "      <td>15.384615</td>\n",
       "      <td>healthy</td>\n",
       "    </tr>\n",
       "  </tbody>\n",
       "</table>\n",
       "<p>144 rows × 16 columns</p>\n",
       "</div>"
      ],
      "text/plain": [
       "                      B_prediction DC_prediction ILC_prediction  \\\n",
       "sampleID                                                          \n",
       "COMBAT2022_G05073_T0           SLE           SLE        healthy   \n",
       "COMBAT2022_G05097_T0           SLE         COVID            SLE   \n",
       "COMBAT2022_G05145_T0       healthy       healthy        healthy   \n",
       "COMBAT2022_N00021_T0           SLE       healthy        healthy   \n",
       "COMBAT2022_N00025_T0           SLE           NaN        healthy   \n",
       "...                            ...           ...            ...   \n",
       "Terekhova2023_E19_T0       healthy       healthy        healthy   \n",
       "Terekhova2023_FA07_T0      healthy       healthy        healthy   \n",
       "Terekhova2023_FC04_T0      healthy       healthy        healthy   \n",
       "Terekhova2023_FD01_T0      healthy       healthy        healthy   \n",
       "Terekhova2023_FE05_T0      healthy       healthy        healthy   \n",
       "\n",
       "                      Mono_prediction Plasma_prediction  \\\n",
       "sampleID                                                  \n",
       "COMBAT2022_G05073_T0            COVID             COVID   \n",
       "COMBAT2022_G05097_T0            COVID             COVID   \n",
       "COMBAT2022_G05145_T0          healthy               flu   \n",
       "COMBAT2022_N00021_T0           sepsis             COVID   \n",
       "COMBAT2022_N00025_T0           sepsis             COVID   \n",
       "...                               ...               ...   \n",
       "Terekhova2023_E19_T0          healthy           healthy   \n",
       "Terekhova2023_FA07_T0         healthy           healthy   \n",
       "Terekhova2023_FC04_T0         healthy           healthy   \n",
       "Terekhova2023_FD01_T0         healthy           healthy   \n",
       "Terekhova2023_FE05_T0         healthy           healthy   \n",
       "\n",
       "                      T_CD4_Naive_prediction T_CD4_NonNaive_prediction  \\\n",
       "sampleID                                                                 \n",
       "COMBAT2022_G05073_T0                   COVID                     COVID   \n",
       "COMBAT2022_G05097_T0                   COVID                       SLE   \n",
       "COMBAT2022_G05145_T0                   COVID                     COVID   \n",
       "COMBAT2022_N00021_T0                     flu                   healthy   \n",
       "COMBAT2022_N00025_T0                 healthy                   healthy   \n",
       "...                                      ...                       ...   \n",
       "Terekhova2023_E19_T0                 healthy                   healthy   \n",
       "Terekhova2023_FA07_T0                healthy                   healthy   \n",
       "Terekhova2023_FC04_T0                healthy                   healthy   \n",
       "Terekhova2023_FD01_T0                healthy                   healthy   \n",
       "Terekhova2023_FE05_T0                healthy                   healthy   \n",
       "\n",
       "                      T_CD8_Naive_prediction T_CD8_NonNaive_prediction  \\\n",
       "sampleID                                                                 \n",
       "COMBAT2022_G05073_T0                   COVID                     COVID   \n",
       "COMBAT2022_G05097_T0                   COVID                       SLE   \n",
       "COMBAT2022_G05145_T0                   COVID                     COVID   \n",
       "COMBAT2022_N00021_T0                 healthy                   healthy   \n",
       "COMBAT2022_N00025_T0                 healthy                   healthy   \n",
       "...                                      ...                       ...   \n",
       "Terekhova2023_E19_T0                 healthy                   healthy   \n",
       "Terekhova2023_FA07_T0                healthy                   healthy   \n",
       "Terekhova2023_FC04_T0                healthy                   healthy   \n",
       "Terekhova2023_FD01_T0                healthy                   healthy   \n",
       "Terekhova2023_FE05_T0                healthy                   healthy   \n",
       "\n",
       "                      UTC_prediction pDC_prediction firstChoice  \\\n",
       "sampleID                                                          \n",
       "COMBAT2022_G05073_T0         healthy        healthy       COVID   \n",
       "COMBAT2022_G05097_T0         healthy          COVID       COVID   \n",
       "COMBAT2022_G05145_T0             SLE        healthy     healthy   \n",
       "COMBAT2022_N00021_T0          sepsis        healthy     healthy   \n",
       "COMBAT2022_N00025_T0         healthy            NaN     healthy   \n",
       "...                              ...            ...         ...   \n",
       "Terekhova2023_E19_T0         healthy        healthy     healthy   \n",
       "Terekhova2023_FA07_T0        healthy            CRC     healthy   \n",
       "Terekhova2023_FC04_T0        healthy        healthy     healthy   \n",
       "Terekhova2023_FD01_T0        healthy        healthy     healthy   \n",
       "Terekhova2023_FE05_T0        healthy        healthy     healthy   \n",
       "\n",
       "                       firstChoice_perc secondChoice  secondChoice_perc  \\\n",
       "sampleID                                                                  \n",
       "COMBAT2022_G05073_T0          46.153846      healthy          23.076923   \n",
       "COMBAT2022_G05097_T0          46.153846          SLE          30.769231   \n",
       "COMBAT2022_G05145_T0          38.461538        COVID          30.769231   \n",
       "COMBAT2022_N00021_T0          46.153846       sepsis          15.384615   \n",
       "COMBAT2022_N00025_T0          54.545455                       18.181818   \n",
       "...                                 ...          ...                ...   \n",
       "Terekhova2023_E19_T0          84.615385                       15.384615   \n",
       "Terekhova2023_FA07_T0         76.923077                       15.384615   \n",
       "Terekhova2023_FC04_T0         84.615385                       15.384615   \n",
       "Terekhova2023_FD01_T0         84.615385                       15.384615   \n",
       "Terekhova2023_FE05_T0         84.615385                       15.384615   \n",
       "\n",
       "                      disease_true  \n",
       "sampleID                            \n",
       "COMBAT2022_G05073_T0         COVID  \n",
       "COMBAT2022_G05097_T0         COVID  \n",
       "COMBAT2022_G05145_T0         COVID  \n",
       "COMBAT2022_N00021_T0        sepsis  \n",
       "COMBAT2022_N00025_T0        sepsis  \n",
       "...                            ...  \n",
       "Terekhova2023_E19_T0       healthy  \n",
       "Terekhova2023_FA07_T0      healthy  \n",
       "Terekhova2023_FC04_T0      healthy  \n",
       "Terekhova2023_FD01_T0      healthy  \n",
       "Terekhova2023_FE05_T0      healthy  \n",
       "\n",
       "[144 rows x 16 columns]"
      ]
     },
     "execution_count": 30,
     "metadata": {},
     "output_type": "execute_result"
    }
   ],
   "source": [
    "res"
   ]
  }
 ],
 "metadata": {
  "kernelspec": {
   "display_name": "Python 3 (ipykernel)",
   "language": "python",
   "name": "python3"
  },
  "language_info": {
   "codemirror_mode": {
    "name": "ipython",
    "version": 3
   },
   "file_extension": ".py",
   "mimetype": "text/x-python",
   "name": "python",
   "nbconvert_exporter": "python",
   "pygments_lexer": "ipython3",
   "version": "3.10.13"
  },
  "papermill": {
   "default_parameters": {},
   "duration": 5212.808752,
   "end_time": "2024-06-19T18:55:02.875657",
   "environment_variables": {},
   "exception": null,
   "input_path": "a02_queryDatasets_and_labelTransfer.ipynb",
   "output_path": "executed_notebooks/a02_queryDatasets_and_labelTransfer_VALIDATION_nPC50_Batch_chemistry.ipynb",
   "parameters": {
    "batchKeys": "chemistry",
    "nPC": 50,
    "queryDataset": "VALIDATION"
   },
   "start_time": "2024-06-19T17:28:10.066905",
   "version": "2.5.0"
  }
 },
 "nbformat": 4,
 "nbformat_minor": 5
}